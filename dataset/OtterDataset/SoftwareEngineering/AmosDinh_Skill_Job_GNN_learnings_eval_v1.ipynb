{
 "cells": [
  {
   "cell_type": "code",
   "execution_count": 1,
   "metadata": {},
   "outputs": [],
   "source": [
    "# Mean Reciprocal Rank"
   ]
  },
  {
   "cell_type": "code",
   "execution_count": 2,
   "metadata": {},
   "outputs": [],
   "source": [
    "%load_ext autoreload\n",
    "%autoreload 2"
   ]
  },
  {
   "cell_type": "code",
   "execution_count": 3,
   "metadata": {},
   "outputs": [],
   "source": [
    "import os\n",
    "\n",
    "if \"DATABRICKS_RUNTIME_VERSION\" in os.environ and not 'installed_libs' in globals():\n",
    "  #CUDA = 'cu121' \n",
    "  installed_libs = True\n",
    "  \n",
    "  \n",
    "  !pip install torch==2.1.0  torchvision==0.16.0 torchtext==0.16.0 torchaudio==2.1.0 --index-url https://download.pytorch.org/whl/cu121\n",
    "  import torch\n",
    "  #os.environ['TORCH'] = torch.__version__\n",
    "  #print(torch.__version__)\n",
    "  #torch_version = '2.0.0+cu118'\n",
    "  \n",
    "  #!pip install pyg_lib torch_scatter torch_sparse torch_cluster -f https://data.pyg.org/whl/torch-2.1.0+${CUDA}.html # torch_spline_conv\n",
    "  !pip install torch_geometric\n",
    "  !pip install pyg_lib torch_scatter torch_sparse torch_cluster torch_spline_conv -f https://data.pyg.org/whl/torch-2.1.0+cu121.html\n",
    "  #!pip install torch_sparse -f https://data.pyg.org/whl/torch-2.1.0+${CUDA}.html\n",
    "  #!pip install torch_scatter -f https://data.pyg.org/whl/torch-2.1.0+${CUDA}.html\n",
    "  #!pip install pyg_lib -f https://data.pyg.org/whl/torch-2.1.0+${CUDA}.html\n",
    "  !pip install sentence-transformers\n",
    "  !pip install torcheval\n",
    "  !pip install matplotlib\n",
    "  !pip install pandas\n",
    "  !pip install tensorboard\n",
    "  \n",
    "if \"DATABRICKS_RUNTIME_VERSION\" in os.environ:\n",
    "  ROOT_FOLDER = '/dbfs/FileStore/GraphNeuralNetworks/'\n",
    "else:\n",
    "  ROOT_FOLDER = ''"
   ]
  },
  {
   "cell_type": "code",
   "execution_count": 4,
   "metadata": {},
   "outputs": [
    {
     "name": "stderr",
     "output_type": "stream",
     "text": [
      "/home/amos/mambaforge/envs/pyg_torch21/lib/python3.10/site-packages/tqdm/auto.py:21: TqdmWarning: IProgress not found. Please update jupyter and ipywidgets. See https://ipywidgets.readthedocs.io/en/stable/user_install.html\n",
      "  from .autonotebook import tqdm as notebook_tqdm\n"
     ]
    },
    {
     "name": "stdout",
     "output_type": "stream",
     "text": [
      "size of dataset on disk:  2.279761238 gb\n",
      "loading saved heterodata object\n",
      "for skill job edges keep top k edges per job, k is  50\n",
      "keep tensor(1208056) of total 16289586\n"
     ]
    }
   ],
   "source": [
    "from learnings_sampler_v1 import get_datasets, uniform_hgt_sampler, get_minibatch_count, add_reverse_edge_original_attributes_and_label_inplace, get_hgt_linkloader, get_single_minibatch_count\n",
    "\n",
    "train_data, val_data, test_data = get_datasets(get_edge_attr=False, filename=ROOT_FOLDER+'HeteroData_Learnings_normalized_triangles_withadditionaldata_v1.pt', filter_top_k=True, top_k=50)\n"
   ]
  },
  {
   "cell_type": "code",
   "execution_count": 5,
   "metadata": {},
   "outputs": [],
   "source": [
    "import torch\n",
    "from models.TransE import TransE\n",
    "from models.DistMult import DistMult\n",
    "from models.HGT import HGT\n",
    "import torch_geometric\n",
    "device = torch.device('cuda' if torch.cuda.is_available() else 'cpu')\n",
    "\n",
    "class Model(torch.nn.Module):\n",
    "    def __init__(self, gnn : torch.nn.Module, head :  torch.nn.Module, node_types, edge_types, ggn_output_dim, pnorm):\n",
    "        super().__init__()\n",
    "        # edge_type onehot lookup table with keys\n",
    "        # node_type onehot lookup table with keys\n",
    "        self.node_type_embedding = torch.nn.Embedding(len(node_types), ggn_output_dim) # hidden channels should be the output dim of gnn\n",
    "        \n",
    "        self.edge_types = edge_types\n",
    "        for edge_type in edge_types:\n",
    "            if edge_type[1].startswith('rev_'):\n",
    "                self.edge_types.remove(edge_type)\n",
    "        \n",
    "        # create edge to int mapping\n",
    "        self.edgeindex_lookup = {edge_type:torch.tensor(i)  for i, edge_type in enumerate(edge_types)}\n",
    "            \n",
    "        # hidden channels should be the output dim of gnn\n",
    "        if head=='TransE': \n",
    "            self.head = TransE(len(node_types), len(edge_types) , ggn_output_dim, p_norm=pnorm, margin=0.5)  # KGE head with loss function\n",
    "        elif head=='DistMult':\n",
    "            self.head = DistMult(len(node_types), len(edge_types) , ggn_output_dim, p_norm=pnorm)  # KGE head with loss function\n",
    "        else:\n",
    "            raise NotImplementedError\n",
    "        \n",
    "        self.gnn = gnn\n",
    "        \n",
    "    \n",
    "\n",
    "    def forward(self, hetero_data1, target_edge_type, edge_label_index, edge_label, hetero_data2=None, get_head_fn='loss'):\n",
    "        \n",
    "        if hetero_data2 is not None:\n",
    "            assert target_edge_type[0] != target_edge_type[2], 'when passing two data objects, the edge type has to contain two different node types'\n",
    "            head_embeddings = self.gnn(hetero_data1.x_dict, hetero_data1.edge_index_dict)[target_edge_type[0]][edge_label_index[0,:]]\n",
    "            tail_embeddings = self.gnn(hetero_data2.x_dict, hetero_data2.edge_index_dict)[target_edge_type[2]][edge_label_index[1,:]]\n",
    "        else:\n",
    "            assert target_edge_type[0] == target_edge_type[2], 'when passing one data object, the edge type has to contain the same node types'\n",
    "\n",
    "\n",
    "            embeddings = self.gnn(hetero_data1.x_dict, hetero_data1.edge_index_dict)\n",
    "            head_embeddings = embeddings[target_edge_type[0]][edge_label_index[0,:]]\n",
    "            tail_embeddings = embeddings[target_edge_type[2]][edge_label_index[1,:]]\n",
    "\n",
    "        \n",
    "        edgeindex = self.edgeindex_lookup[target_edge_type]\n",
    "        if get_head_fn=='loss':\n",
    "            loss = self.head.loss(head_embeddings, edgeindex.to(device), tail_embeddings, edge_label)\n",
    "            return loss\n",
    "        elif get_head_fn=='forward':\n",
    "            return self.head.forward(head_embeddings, edgeindex.to(device), tail_embeddings)\n",
    "    \n",
    "    def get_embeddings(self, hetero_data, rel_type, node_type, first_n_nodes=None):\n",
    "        # gives us the closeness of embeddings to the other side of the relationship, i.e. e + r or e - r\n",
    "        if node_type == rel_type[0]:\n",
    "            have_head_or_tail =='head'\n",
    "        else:\n",
    "            have_head_or_tail =='tail'\n",
    "            \n",
    "        mask = torch.zeros(hetero_data.x_dict[rel_type[0]].shape[0])\n",
    "        mask[:first_n_nodes] = 1\n",
    "        embeddings = self.gnn(hetero_data.x_dict, hetero_data.edge_index_dict)[node_type][mask]\n",
    "        return self.head.get_embeddings(embeddings, rel_type, have_head_or_tail)\n",
    "        \n",
    "        \n",
    "\n",
    "    \n",
    "# out_channels = 256\n",
    "# hidden_channels = 256\n",
    "# num_heads = 8\n",
    "# num_layers = 2\n",
    "# head = 'TransE'\n",
    "\n"
   ]
  },
  {
   "cell_type": "code",
   "execution_count": 6,
   "metadata": {},
   "outputs": [],
   "source": [
    "def get_model(model_folder):\n",
    "    metadata = train_data.metadata()\n",
    "    # add selfloops\n",
    "    for node_type in train_data.node_types:\n",
    "        metadata[1].append((node_type, 'self_loop', node_type))    \n",
    "    \n",
    "    # infer model parameters, dimensions batchsize etc from filename\n",
    "    out_channels = int(model_folder.split('outchannels_')[1].split('_')[0])\n",
    "    hidden_channels = int(model_folder.split('hiddenchannels_')[1].split('_')[0])\n",
    "    num_heads = int(model_folder.split('numheads_')[1].split('_')[0])\n",
    "    num_layers = int(model_folder.split('numlayers_')[1].split('/')[0])\n",
    "    head = model_folder.split('head_')[1].split('_')[0]\n",
    "    learning_rate = float(model_folder.split('lr')[1].split('_')[0])\n",
    "    batch_size = int(model_folder.split('bs')[1].split('_')[0])\n",
    "    num_neighbors = [int(x) for x in model_folder.split('neighbors_')[1].split('head')[0].strip('_').split('_')]\n",
    "    if 'pnrom' in model_folder:\n",
    "        pnorm = int(model_folder.split('pnrom')[1].split('_')[0])\n",
    "    elif 'pnorm' in model_folder:\n",
    "        pnorm = int(model_folder.split('pnorm')[1].split('_')[0])\n",
    "    else:\n",
    "        pnorm = 1\n",
    "        \n",
    "    gnn = HGT(hidden_channels=out_channels, out_channels=out_channels, num_heads=num_heads, num_layers=num_layers, node_types=train_data.node_types, data_metadata=metadata)\n",
    "\n",
    "    model = Model(gnn, head=head, node_types=metadata[0], edge_types=metadata[1], ggn_output_dim=out_channels, pnorm=pnorm)\n",
    "    #torch_geometric.compile(model, dynamic=True)\n",
    "    #model.load_state_dict(torch.load(model_folder)['model_state_dict'])\n",
    "    return model"
   ]
  },
  {
   "cell_type": "code",
   "execution_count": 7,
   "metadata": {},
   "outputs": [],
   "source": [
    "# model_foldere5 = ROOT_FOLDER+'models/learningpeople_hgt_20231102_004035_lr2e-06_bs32_neighbors_133_1333_head_TransE_hiddenchannels_256_outchannels_256_numheads_8_numlayers_2/Ep0_model_samplesseen154400.pt'\n",
    "# modele5 = get_model(model_foldere5)\n",
    "\n",
    "# model_foldere4 = ROOT_FOLDER+'models/learningpeople_hgt_20231102_114410_lr0.0002_bs32_neighbors_133_1333_head_TransE_hiddenchannels_256_outchannels_256_numheads_8_numlayers_2/Ep1_model_samplesseen154400.pt'\n",
    "# modele4 = get_model(model_foldere4)\n",
    "\n",
    "# model_foldere4euclidean = ROOT_FOLDER+'models/learningpeople_hgt_20231102_170612_pnrom2_llr0.0002_bs32_neighbors_133_1333_head_TransE_hiddenchannels_256_outchannels_256_numheads_8_numlayers_2/Ep1_model_samplesseen154400.pt'\n",
    "# modele4euclidean = get_model(model_foldere4euclidean)\n",
    "\n",
    "\n",
    "## !!! margin has to be set manually above to 0.5\n",
    "model_folder3layereuclid = ROOT_FOLDER+'models/learningpeople_hgt_20231103_135404_margin_0.5_pnrom2_llr0.0002_bs32_neighbors_133_1333_1333_head_TransE_hiddenchannels_256_outchannels_256_numheads_8_numlayers_3/Ep1_model_samplesseen154400.pt'\n",
    "model_folder2layereuclid = ROOT_FOLDER+'models/learningpeople_hgt_20231103_134707_margin_0.5_pnrom2_llr0.0002_bs32_neighbors_133_1333_head_TransE_hiddenchannels_256_outchannels_256_numheads_8_numlayers_2/Ep1_model_samplesseen154400.pt'\n",
    "model_folder2layerp1 = ROOT_FOLDER+'models/learningpeople_hgt_20231103_134654_margin_0.5_pnrom1_llr0.0002_bs32_neighbors_133_1333_head_TransE_hiddenchannels_256_outchannels_256_numheads_8_numlayers_2/Ep1_model_samplesseen154400.pt'\n",
    "model_3layereuclid = get_model(model_folder3layereuclid)\n",
    "model_2layereuclid = get_model(model_folder2layereuclid)\n",
    "model_2layerp1 = get_model(model_folder2layerp1)"
   ]
  },
  {
   "cell_type": "code",
   "execution_count": 8,
   "metadata": {},
   "outputs": [],
   "source": [
    "def init_model(model, model_folder):\n",
    "    model.to(device)\n",
    "    num_neighbors = [int(x) for x in model_folder.split('neighbors_')[1].split('head')[0].strip('_').split('_')]\n",
    "    \n",
    "    # init dimensions of model by training it\n",
    "    from tqdm.auto import tqdm\n",
    "    from datetime import datetime\n",
    "    input_edgetype = ('people', 'rev_course_and_programs_student', 'courses_and_programs')\n",
    "    add_reverse_edge_original_attributes_and_label_inplace(train_data['courses_and_programs', 'course_and_programs_student', 'people'], reverse_edge=train_data[input_edgetype] )\n",
    "    add_reverse_edge_original_attributes_and_label_inplace(val_data['courses_and_programs', 'course_and_programs_student', 'people'], reverse_edge=val_data[input_edgetype] )\n",
    "\n",
    "    val_sampler = get_hgt_linkloader(val_data, input_edgetype, 10, False, 'triplet', 1, num_neighbors, num_workers=0, prefetch_factor=None, pin_memory=True)\n",
    "\n",
    "    learning_rate = 2e-4\n",
    "    # torch get optimizer by string name\n",
    "    optimizer = torch.optim.Adam(model.parameters(), lr=learning_rate) #2e-15\n",
    "\n",
    "    # train model\n",
    "\n",
    "    model.eval()\n",
    "    minibatchpart1, minibatchpart2, edge_label_index, edge_label, input_edge_id, src_nodes, dst_nodes = next(iter(val_sampler))\n",
    "    #optimizer.zero_grad()\n",
    "    loss = model(minibatchpart1.to(device), input_edgetype, edge_label_index.to(device), edge_label.to(device), minibatchpart2.to(device))\n",
    "    model.load_state_dict(torch.load(model_folder)['model_state_dict'])\n",
    "    model.to('cpu')\n",
    "    "
   ]
  },
  {
   "cell_type": "code",
   "execution_count": 9,
   "metadata": {},
   "outputs": [],
   "source": [
    "# init_model(modele5, model_foldere5)\n",
    "# init_model(modele4, model_foldere4)\n",
    "# init_model(modele4euclidean, model_foldere4euclidean)\n",
    "init_model(model_3layereuclid, model_folder3layereuclid)\n",
    "init_model(model_2layereuclid, model_folder2layereuclid)\n",
    "init_model(model_2layerp1, model_folder2layerp1)"
   ]
  },
  {
   "cell_type": "code",
   "execution_count": 10,
   "metadata": {},
   "outputs": [
    {
     "data": {
      "text/plain": [
       "(7003826, 4965836, 4965836)"
      ]
     },
     "execution_count": 10,
     "metadata": {},
     "output_type": "execute_result"
    }
   ],
   "source": [
    "def count_parameters(model):\n",
    "    return sum(p.numel() for p in model.parameters() if p.requires_grad)\n",
    "\n",
    "count_parameters(model_3layereuclid), count_parameters(model_2layereuclid), count_parameters(model_2layerp1)"
   ]
  },
  {
   "cell_type": "code",
   "execution_count": 11,
   "metadata": {},
   "outputs": [],
   "source": [
    "# evaluate model on test set\n",
    "# init dimensions of model by training it\n",
    "from tqdm.auto import tqdm\n",
    "from datetime import datetime\n",
    "import numpy as np \n",
    "\n",
    "def evaluate(model, n_negatives, model_folder, on='test'):\n",
    "    num_neighbors = [int(x) for x in model_folder.split('neighbors_')[1].split('head')[0].strip('_').split('_')]\n",
    "    \n",
    "    model.to(device)\n",
    "    mrrs = []\n",
    "   \n",
    "    \n",
    "    #test_sampler = get_hgt_linkloader(test_data, input_edgetype, 1, False, 'triplet', n_negatives, num_neighbors, num_workers=0, prefetch_factor=None, pin_memory=True)\n",
    "    \n",
    "\n",
    "\n",
    "\n",
    "    # test data\n",
    "    train_data_text, val_data_text, test_data_text = get_datasets(get_edge_attr=False, filename=ROOT_FOLDER+'HeteroData_Learnings_normalized_triangles_withadditionaldata_v1.pt', filter_top_k=True, top_k=50, remove_text_attr=False)\n",
    "    input_edgetype = ('people', 'rev_course_and_programs_student', 'courses_and_programs')\n",
    "    if on=='test':\n",
    "        add_reverse_edge_original_attributes_and_label_inplace(test_data['courses_and_programs', 'course_and_programs_student', 'people'], reverse_edge=test_data[input_edgetype] )\n",
    "        test_sampler = get_hgt_linkloader(test_data, input_edgetype, 1, False, 'triplet', n_negatives, num_neighbors, num_workers=0, prefetch_factor=None, pin_memory=True)\n",
    "    elif on =='train':\n",
    "        add_reverse_edge_original_attributes_and_label_inplace(train_data['courses_and_programs', 'course_and_programs_student', 'people'], reverse_edge=train_data[input_edgetype] )\n",
    "        test_sampler = get_hgt_linkloader(train_data, input_edgetype, 1, False, 'triplet', n_negatives, num_neighbors, num_workers=0, prefetch_factor=None, pin_memory=True)\n",
    "    # test data\n",
    "    best_mrr, best_differences, best_src_nodes, best_dst_nodes = 0, None, None, None\n",
    "    for i, minibatch in tqdm(enumerate(test_sampler)):\n",
    "        if i==1000:\n",
    "            break\n",
    "        model.eval()\n",
    "        minibatchpart1, minibatchpart2, edge_label_index, edge_label, input_edge_id, global_src_nodes, global_dst_nodes = minibatch\n",
    "        #optimizer.zero_grad()\n",
    "        differences = model.forward(minibatchpart1.to(device), input_edgetype, edge_label_index.to(device), edge_label.to(device), minibatchpart2.to(device), get_head_fn='forward')\n",
    "        #loss.backward()\n",
    "\n",
    "        # define mrr with differences and labels\n",
    "        # get rank of positive edge from tensor, positive edge is first in batch\n",
    "\n",
    "        differences = -1* differences.cpu().detach().numpy()\n",
    "        edge_label = edge_label.cpu().detach().numpy()\n",
    "        rank = (differences < differences[0]).sum()\n",
    "\n",
    "        # reciprocal\n",
    "        mrr = 1/(rank+1)\n",
    "        if mrr > best_mrr:\n",
    "            best_mrr = mrr\n",
    "            best_differences = differences\n",
    "            best_src_nodes = global_src_nodes\n",
    "            best_dst_nodes = global_dst_nodes\n",
    "            print('new best mrr', best_mrr)\n",
    "            \n",
    "    \n",
    "        mrrs.append(mrr)\n",
    "\n",
    "        \n",
    "       \n",
    "        jobpeople = test_data_text['jobs', 'job_student', 'people']\n",
    "        job_edge = jobpeople.edge_index[1,:] == global_src_nodes[0]\n",
    "        \n",
    "        \n",
    "        if torch.sum(job_edge) != 0:\n",
    "            job_idx = jobpeople.edge_index[0,:][job_edge]\n",
    "            \n",
    "        else:\n",
    "            job_idx = torch.tensor([0])\n",
    "\n",
    "        job_edge = jobpeople.edge_label_index[1,:] == global_src_nodes[0]\n",
    "        if torch.sum(job_edge) != 0:\n",
    "            job_idx2 = jobpeople.edge_label_index[0,:][job_edge]\n",
    "            torch.cat((job_idx, job_idx2)).squeeze()\n",
    "            \n",
    "            \n",
    "        \n",
    "    \n",
    "        print('==============')\n",
    "        print('==============')\n",
    "        print('==============')\n",
    "        # (differences < differences[0])\n",
    "        print('mrr',mrr)\n",
    "        print('RANK',rank)\n",
    "        for idx in job_idx:\n",
    "            jobtitle = test_data_text['jobs'].TITLE[idx.item()]\n",
    "            print('job title', jobtitle)\n",
    "            \n",
    "        print('original', test_data_text['courses_and_programs'].TITLE[global_dst_nodes[0]])\n",
    "        print('original', test_data_text['courses_and_programs'].DESCRIPTION[global_dst_nodes[0]])\n",
    "        \n",
    "        # first 20 higher ranked\n",
    "        #mask = torch.where(torch.tensor((differences < differences[0])))\n",
    "        indices = torch.argsort(torch.tensor(differences))\n",
    "        # print to file\n",
    "        with open('example_output_3layereuclid.txt', 'a+') as f:\n",
    "            f.write('==============')\n",
    "            f.write('==============')\n",
    "            f.write('==============')\n",
    "            f.write('mrr'+str(mrr)+'\\n')\n",
    "            f.write('RANK'+str(rank)+'\\n')\n",
    "            for idx in job_idx:\n",
    "                jobtitle = test_data_text['jobs'].TITLE[idx.item()]\n",
    "                f.write('job title'+str(jobtitle)+'\\n')\n",
    "            f.write('original'+str(test_data_text['courses_and_programs'].TITLE[global_dst_nodes[0]])+'\\n')\n",
    "            f.write('original'+str(test_data_text['courses_and_programs'].DESCRIPTION[global_dst_nodes[0]])+'\\n')\n",
    "            for i in range(10):\n",
    "                index = indices[i]\n",
    "                global_index = global_dst_nodes[index]\n",
    "                f.write(str(i)+' '*20)\n",
    "                f.write('\\n')\n",
    "                f.write(str(differences[index]))\n",
    "                f.write('\\n')\n",
    "                f.write(str(test_data_text['courses_and_programs'].TITLE[global_index]))\n",
    "                f.write('\\n')\n",
    "                f.write(str(test_data_text['courses_and_programs'].DESCRIPTION[global_index]))\n",
    "                f.write('\\n')\n",
    "            \n",
    "        # for i in range(10):\n",
    "        #     index = indices[i]\n",
    "        #     global_index = global_dst_nodes[index]\n",
    "        #     print((str(i)+' ')*20)\n",
    "        #     print()\n",
    "        #     print(differences[index])\n",
    "        #     print(test_data_text['courses_and_programs'].TITLE[global_index])\n",
    "        #     print(test_data_text['courses_and_programs'].DESCRIPTION[global_index])\n",
    "\n",
    "    print('mean mrr',np.mean(mrrs))\n",
    "    print('mean rank',1/np.mean(mrrs))\n",
    "    # mean rank\n",
    "    model.to('cpu')\n"
   ]
  },
  {
   "cell_type": "code",
   "execution_count": 12,
   "metadata": {},
   "outputs": [
    {
     "data": {
      "text/plain": [
       "torch.Size([32494])"
      ]
     },
     "execution_count": 12,
     "metadata": {},
     "output_type": "execute_result"
    }
   ],
   "source": [
    "torch.cat((test_data['courses_and_programs', 'course_and_programs_student', 'people'].edge_index[0,:].unique(),test_data['courses_and_programs', 'course_and_programs_student', 'people'].edge_label_index[0,:].unique())).unique().shape"
   ]
  },
  {
   "cell_type": "code",
   "execution_count": 13,
   "metadata": {},
   "outputs": [],
   "source": [
    "a = set(test_data['courses_and_programs', 'course_and_programs_student', 'people'].edge_label_index[0,:].unique().tolist())\n",
    "a2 = set(train_data['courses_and_programs', 'course_and_programs_student', 'people'].edge_label_index[0,:].unique().tolist())"
   ]
  },
  {
   "cell_type": "code",
   "execution_count": 14,
   "metadata": {},
   "outputs": [],
   "source": [
    "b = set(torch.cat((train_data['courses_and_programs', 'course_and_programs_student', 'people'].edge_index[0,:].unique(),train_data['courses_and_programs', 'course_and_programs_student', 'people'].edge_label_index[0,:].unique())).tolist())"
   ]
  },
  {
   "cell_type": "code",
   "execution_count": 15,
   "metadata": {},
   "outputs": [
    {
     "data": {
      "text/plain": [
       "9335"
      ]
     },
     "execution_count": 15,
     "metadata": {},
     "output_type": "execute_result"
    }
   ],
   "source": [
    "len(a.intersection(b))"
   ]
  },
  {
   "cell_type": "code",
   "execution_count": 16,
   "metadata": {},
   "outputs": [
    {
     "name": "stdout",
     "output_type": "stream",
     "text": [
      "size of dataset on disk:  2.279761238 gb\n",
      "loading saved heterodata object\n",
      "for skill job edges keep top k edges per job, k is  50\n",
      "keep tensor(1208056) of total 16289586\n"
     ]
    },
    {
     "name": "stderr",
     "output_type": "stream",
     "text": [
      "1it [00:12, 12.68s/it]"
     ]
    },
    {
     "name": "stdout",
     "output_type": "stream",
     "text": [
      "new best mrr 0.001567398119122257\n",
      "==============\n",
      "==============\n",
      "==============\n",
      "mrr 0.001567398119122257\n",
      "RANK 637\n",
      "job title Executive Secretaries and Executive Administrative Assistants, Executive Staff Assistant\n",
      "original Preventing Discrimination and Harassment 2015\n",
      "original \n",
      "Scotiabank is committed to providing a diverse and inclusive work environment where Scotiabank employees and others who deal with the Bank are treated fairly, equitably and professionally.  Scotiabank’s Guidelines for Business Conduct clearly describes the Bank’s core values and standards of conduct required of all Scotiabank employees.  In addition to Scotiabank’s guidelines and policies, federal and state employment laws and regulations apply to all of the Bank’s U.S. offices and employees.  The purpose of this Anti-Harassment and Anti-Discrimination course is to reinforce Scotiabank’s standards of conduct in the workplace and to provide you with an overview of several important U.S. laws.\n"
     ]
    },
    {
     "name": "stderr",
     "output_type": "stream",
     "text": [
      "2it [00:18,  8.38s/it]"
     ]
    },
    {
     "name": "stdout",
     "output_type": "stream",
     "text": [
      "new best mrr 0.006172839506172839\n",
      "==============\n",
      "==============\n",
      "==============\n",
      "mrr 0.006172839506172839\n",
      "RANK 161\n",
      "job title Concierges, Conference Concierge\n",
      "original Fundamentos de la productividad: Gestión del calendario\n",
      "original Learn to manage your calendar effectively. Expand and enhance its capabilities as a productive tool in your daily life. Learn how to make it the basis of all your tasks, both in the workplace and in your personal life, and achieve alignment between your life philosophy and the actions you actually take. Your agenda will help you to be able to carry out your activities in harmony and to be prepared for the unexpected. The calendar is the basis for your strategic thinking in the short, medium and long term. Take advantage of it.\n"
     ]
    },
    {
     "name": "stderr",
     "output_type": "stream",
     "text": [
      "3it [00:22,  6.70s/it]"
     ]
    },
    {
     "name": "stdout",
     "output_type": "stream",
     "text": [
      "new best mrr 0.5\n",
      "==============\n",
      "==============\n",
      "==============\n",
      "mrr 0.5\n",
      "RANK 1\n",
      "job title Personal Financial Advisors, Personal Banker\n",
      "original Describe ScotiaLine VISA\n",
      "original \n",
      "Audience: Retail Sales Officers Content Summary: outlines target customer summarizes product features and customer benefits Completion time is approximately 20 minutes.\n"
     ]
    },
    {
     "name": "stderr",
     "output_type": "stream",
     "text": [
      "4it [00:27,  5.89s/it]"
     ]
    },
    {
     "name": "stdout",
     "output_type": "stream",
     "text": [
      "==============\n",
      "==============\n",
      "==============\n",
      "mrr 0.2\n",
      "RANK 4\n",
      "job title Customer Service Representatives, Customer Service Professional\n",
      "original 6. Cancel Mortgage on TLS\n",
      "original \n",
      "This course provides information required to cancel a mortgage on the Term Lending System (TLS). Estimated completion time is 10 minutes.\n"
     ]
    },
    {
     "name": "stderr",
     "output_type": "stream",
     "text": [
      "5it [00:33,  5.81s/it]"
     ]
    },
    {
     "name": "stdout",
     "output_type": "stream",
     "text": [
      "==============\n",
      "==============\n",
      "==============\n",
      "mrr 0.08333333333333333\n",
      "RANK 11\n",
      "job title Producers and Directors, Director\n",
      "original Programa Transformación AML- México\n",
      "original The objective of the session is to review the topics of the line of defense, KYC data capture, Customer Risk Rating, among others.\n"
     ]
    },
    {
     "name": "stderr",
     "output_type": "stream",
     "text": [
      "6it [00:38,  5.78s/it]"
     ]
    },
    {
     "name": "stdout",
     "output_type": "stream",
     "text": [
      "==============\n",
      "==============\n",
      "==============\n",
      "mrr 0.05263157894736842\n",
      "RANK 18\n",
      "job title Personal Financial Advisors, Financial Professional\n",
      "original 163-Transition Course 2\n",
      "original \n"
     ]
    },
    {
     "name": "stderr",
     "output_type": "stream",
     "text": [
      "7it [00:51,  8.18s/it]"
     ]
    },
    {
     "name": "stdout",
     "output_type": "stream",
     "text": [
      "new best mrr 1.0\n",
      "==============\n",
      "==============\n",
      "==============\n",
      "mrr 1.0\n",
      "RANK 0\n",
      "job title Correspondence Clerks, Correspondence Dictator\n",
      "original Sesión Virtual OneBank\n",
      "original During this session, the new OneBank system for requesting credit cards and accounts will be shown, making response times more efficient.\n"
     ]
    },
    {
     "name": "stderr",
     "output_type": "stream",
     "text": [
      "8it [01:00,  8.18s/it]"
     ]
    },
    {
     "name": "stdout",
     "output_type": "stream",
     "text": [
      "==============\n",
      "==============\n",
      "==============\n",
      "mrr 0.03125\n",
      "RANK 31\n",
      "job title Healthcare Social Workers, Geriatric Social Worker\n",
      "original 111-Financial Goal Counselling\n",
      "original \n"
     ]
    },
    {
     "name": "stderr",
     "output_type": "stream",
     "text": [
      "9it [01:06,  7.69s/it]"
     ]
    },
    {
     "name": "stdout",
     "output_type": "stream",
     "text": [
      "==============\n",
      "==============\n",
      "==============\n",
      "mrr 1.0\n",
      "RANK 0\n",
      "job title Quality Control Analysts, QA Associate (Quality Assurance Associate)\n",
      "original Increasing Collaboration on Your Team\n",
      "original If you want to go fast, go alone—but for organizations to go far, they must go together. In this powerful course from Britt Andreatta, PhD, you can learn how to improve and encourage collaboration on your teams. Britt discusses the types of teamwork and how they lay the conditions for collaboration. Then learn about the importance of psychological safety and how to cultivate it on your team. Britt also provides actionable strategies to develop the collaboration skills on your team, including a series of fun activities that can help improve connection. Finally, explore an outline for launching a collaboration initiative on your team. This course was created by Madecraft. We are pleased to host this training in our library.\n"
     ]
    },
    {
     "name": "stderr",
     "output_type": "stream",
     "text": [
      "10it [01:12,  7.01s/it]"
     ]
    },
    {
     "name": "stdout",
     "output_type": "stream",
     "text": [
      "==============\n",
      "==============\n",
      "==============\n",
      "mrr 0.0008424599831508003\n",
      "RANK 1186\n",
      "job title Personal Financial Advisors, Strategist\n",
      "original 12-Relationship Selling Skills for PBOs\n",
      "original \n"
     ]
    },
    {
     "name": "stderr",
     "output_type": "stream",
     "text": [
      "11it [01:17,  6.47s/it]"
     ]
    },
    {
     "name": "stdout",
     "output_type": "stream",
     "text": [
      "==============\n",
      "==============\n",
      "==============\n",
      "mrr 0.5\n",
      "RANK 1\n",
      "job title Sales Managers, Account Manager\n",
      "original IP Module 4. Holds (Investment Platform)\n",
      "original \n"
     ]
    },
    {
     "name": "stderr",
     "output_type": "stream",
     "text": [
      "12it [01:22,  6.05s/it]"
     ]
    },
    {
     "name": "stdout",
     "output_type": "stream",
     "text": [
      "==============\n",
      "==============\n",
      "==============\n",
      "mrr 1.0\n",
      "RANK 0\n",
      "job title Customer Service Representatives, Customer Relations Representative\n",
      "original Describe CDIC for Sales (2005)\n",
      "original \n",
      "Audience: Retail Sales Officers Content Summary: covers eligible and ineligible deposits reviews insurance coverage limits outlines the Scotiabank Group CDIC member institutions this course was updated August 5, 2005 to reflect the CDIC Insurance limit change to $100,000 Completion time is approximately 20 minutes.\n"
     ]
    },
    {
     "name": "stderr",
     "output_type": "stream",
     "text": [
      "13it [01:27,  5.86s/it]"
     ]
    },
    {
     "name": "stdout",
     "output_type": "stream",
     "text": [
      "==============\n",
      "==============\n",
      "==============\n",
      "mrr 0.16666666666666666\n",
      "RANK 5\n",
      "job title Human Resources Managers, Personnel Administrator\n",
      "original IP Module 3. Maintaining Plans and Investments (Investment Platform)\n",
      "original \n"
     ]
    },
    {
     "name": "stderr",
     "output_type": "stream",
     "text": [
      "14it [01:33,  5.72s/it]"
     ]
    },
    {
     "name": "stdout",
     "output_type": "stream",
     "text": [
      "==============\n",
      "==============\n",
      "==============\n",
      "mrr 0.5\n",
      "RANK 1\n",
      "job title Chief Executives, Finance Vice President (Finance VP)\n",
      "original IP Module 4. Holds (Investment Platform)\n",
      "original \n"
     ]
    },
    {
     "name": "stderr",
     "output_type": "stream",
     "text": [
      "15it [01:38,  5.53s/it]"
     ]
    },
    {
     "name": "stdout",
     "output_type": "stream",
     "text": [
      "==============\n",
      "==============\n",
      "==============\n",
      "mrr 0.2\n",
      "RANK 4\n",
      "job title Customer Service Representatives, Customer Relations Representative\n",
      "original 3. Set Up Mortgage (including PCA) on TLS\n",
      "original \n",
      "This course provides the steps to set up a mortgage on the Term Lending System (TLS), including PCA, the screen index organization, the features of selected screens, the best practice flow and interactive customer scenarios. Estimated completion time is60 minutes.\n"
     ]
    },
    {
     "name": "stderr",
     "output_type": "stream",
     "text": [
      "16it [01:45,  5.94s/it]"
     ]
    },
    {
     "name": "stdout",
     "output_type": "stream",
     "text": [
      "==============\n",
      "==============\n",
      "==============\n",
      "mrr 0.0035587188612099642\n",
      "RANK 280\n",
      "job title Data Scientists, Data Engineer\n",
      "original Modern Enterprise Data Engineering\n",
      "original We envision a world where enterprise data customers readily have access to high-quality, cross-silo, unified enterprise data for all of their core logical entities. Data Operations (DataOps) is a methodology consisting of people, processes, tools, and services for enterprises to rapidly, repeatedly, and reliably deliver production-ready data from the vast array of enterprise data sources. Learn how to and why implementing these key ingredients can help a business achieve the analytic velocity necessary to create a competitive advantage.\n"
     ]
    },
    {
     "name": "stderr",
     "output_type": "stream",
     "text": [
      "17it [01:51,  5.91s/it]"
     ]
    },
    {
     "name": "stdout",
     "output_type": "stream",
     "text": [
      "==============\n",
      "==============\n",
      "==============\n",
      "mrr 0.000835421888053467\n",
      "RANK 1196\n",
      "job title Financial and Investment Analysts, Investment Officer\n",
      "original 751 - Integration Activity - Financial Plan\n",
      "original \n"
     ]
    },
    {
     "name": "stderr",
     "output_type": "stream",
     "text": [
      "18it [01:56,  5.59s/it]"
     ]
    },
    {
     "name": "stdout",
     "output_type": "stream",
     "text": [
      "==============\n",
      "==============\n",
      "==============\n",
      "mrr 0.0012285012285012285\n",
      "RANK 813\n",
      "job title Self-Enrichment Teachers, Snowboard Instructor\n",
      "original Designing a Presentation\n",
      "original Perhaps the most essential skill for all knowledge workers, sales professionals, business owners, and educators is the ability to design compelling presentations. Whether you’re reporting performance metrics, delivering a training, or pitching a big idea, you need a presentation to support you and illuminate your speech. In this course, designer Tony Harmer takes you through the essentials of presentation design to give you the tools you'll find most useful in thinking about, designing, and building successful presentations. Tony covers a variety of key topics, including moodboards, outlines, layout, type and text, color considerations, graphics, video, charts, transitions, and animations. He concludes with some useful advice on finishing touches and follow-ups for your presentation.\n"
     ]
    },
    {
     "name": "stderr",
     "output_type": "stream",
     "text": [
      "19it [02:00,  5.37s/it]"
     ]
    },
    {
     "name": "stdout",
     "output_type": "stream",
     "text": [
      "==============\n",
      "==============\n",
      "==============\n",
      "mrr 0.125\n",
      "RANK 7\n",
      "job title Actuaries, Actuarial Associate\n",
      "original 2021 U.S. Employee Handbook Acknowledgement\n",
      "original U.S. Employee Handbook\n",
      "\n",
      "To get full completion credit, read the 2021 Employee Handbook and then click Return to Content Structure page to review and agree to the Employee Acknowledgement.  \n"
     ]
    },
    {
     "name": "stderr",
     "output_type": "stream",
     "text": [
      "20it [02:05,  5.15s/it]"
     ]
    },
    {
     "name": "stdout",
     "output_type": "stream",
     "text": [
      "==============\n",
      "==============\n",
      "==============\n",
      "mrr 0.00016700066800267202\n",
      "RANK 5987\n",
      "job title Compliance Managers, Risk Manager\n",
      "original AdiestramientodeHomelandSecurityandInvestigation\n",
      "original On-site training provided by ICE Special Agent Juan Clemente to discuss Suspicious Activity Reports (SARs). As part of the development plan for some employees in the Compliance Unit, ICE Special Agent Juan Clemente provided a training session that discussed and reviewed Suspicious Activity Reports (SARs) to determine how they assist law enforcement investigations.\n"
     ]
    },
    {
     "name": "stderr",
     "output_type": "stream",
     "text": [
      "21it [02:10,  5.01s/it]"
     ]
    },
    {
     "name": "stdout",
     "output_type": "stream",
     "text": [
      "==============\n",
      "==============\n",
      "==============\n",
      "mrr 0.14285714285714285\n",
      "RANK 6\n",
      "job title Loan Officers, Home Lending Advisor\n",
      "original Describe a Refinance Mortgage Setup\n",
      "original \n",
      "The 'Describe a Refinance Mortgage Setup' learning offering provides step-by-step instruction on how to process a Refinance Mortgage.\n"
     ]
    },
    {
     "name": "stderr",
     "output_type": "stream",
     "text": [
      "22it [02:15,  4.99s/it]"
     ]
    },
    {
     "name": "stdout",
     "output_type": "stream",
     "text": [
      "==============\n",
      "==============\n",
      "==============\n",
      "mrr 0.007142857142857143\n",
      "RANK 139\n",
      "job title Computer User Support Specialists, Technical Support Analyst\n",
      "original AWS Certified Solutions Architect - Associate (SAA-C02) Cert Prep: 2 Storage Design\n",
      "original Earning the AWS Certified Solutions Architect - Associate (SAA-C02) certification validates your ability to architect and deploy applications on AWS technologies—which, in turn, can set you apart from others in your field. This course is part of a nine-part series that's been completely updated for the March 2020 version of the qualifying exam. Tom Carpenter goes over the fundamentals of AWS storage design, covering key services AWS professional needs to know about. After providing an overview of the different storage services offered by AWS, he delves into Amazon Simple Storage Service (S3)—the primary file or object storage service in AWS—covering basic S3 storage and management concepts. He also discusses additional AWS storage services, including Glacier, Elastic Block Store (EBS), Elastic File System (EFS), and FSx. This Total Seminars course covers the exam certification topics. For information on additional study resources—including practice tests, lab simulations, books, and discounted exam vouchers—visit totalsem.com/linkedin. LinkedIn Learning members receive special pricing. This course was created by Total Seminars. We are pleased to offer this training in our library.\n"
     ]
    },
    {
     "name": "stderr",
     "output_type": "stream",
     "text": [
      "23it [02:20,  5.06s/it]"
     ]
    },
    {
     "name": "stdout",
     "output_type": "stream",
     "text": [
      "==============\n",
      "==============\n",
      "==============\n",
      "mrr 0.00045454545454545455\n",
      "RANK 2199\n",
      "job title Administrative Services Managers, Service Director\n",
      "original Toma de Decisión de Cierre de Cuenta\n",
      "original This presentation provides a general refresher on the regulations and policy for closing client accounts\n"
     ]
    },
    {
     "name": "stderr",
     "output_type": "stream",
     "text": [
      "24it [02:25,  5.07s/it]"
     ]
    },
    {
     "name": "stdout",
     "output_type": "stream",
     "text": [
      "==============\n",
      "==============\n",
      "==============\n",
      "mrr 1.0\n",
      "RANK 0\n",
      "job title Sales Managers, Account Manager\n",
      "original Describe Support Package\n",
      "original \n",
      "The Describe Support Package learning offering provides a description and overview of what a support package is and what it contains.\n"
     ]
    },
    {
     "name": "stderr",
     "output_type": "stream",
     "text": [
      "25it [02:30,  5.08s/it]"
     ]
    },
    {
     "name": "stdout",
     "output_type": "stream",
     "text": [
      "==============\n",
      "==============\n",
      "==============\n",
      "mrr 1.0\n",
      "RANK 0\n",
      "job title Sales Managers, Business Development Manager\n",
      "original 4. Pre-Fund Maintenance on TLS\n",
      "original \n",
      "This course provides information to perform pre-fund maintenance functions on the Term Lending System (TLS), including screen index organization, key features of selected screens and interactive customer scenarios. Estimated completion time is 30 minutes.\n"
     ]
    },
    {
     "name": "stderr",
     "output_type": "stream",
     "text": [
      "26it [02:35,  5.03s/it]"
     ]
    },
    {
     "name": "stdout",
     "output_type": "stream",
     "text": [
      "==============\n",
      "==============\n",
      "==============\n",
      "mrr 0.017241379310344827\n",
      "RANK 57\n",
      "job title Personal Financial Advisors, Wealth Management Advisor\n",
      "original Business Development Clinic - Relationship Marketing\n",
      "original \n"
     ]
    },
    {
     "name": "stderr",
     "output_type": "stream",
     "text": [
      "27it [02:40,  5.08s/it]"
     ]
    },
    {
     "name": "stdout",
     "output_type": "stream",
     "text": [
      "==============\n",
      "==============\n",
      "==============\n",
      "mrr 0.09090909090909091\n",
      "RANK 10\n",
      "job title Business Operations Specialists, All Other, Branch Operation Evaluation Manager\n",
      "original Sales and Service - Sales Management\n",
      "original \n",
      "To implement sales and service management strategies needed to increase Scotiabank's market share and profitability. Cancellation policy: If cancellation occurs within 10 business days from the workshop commencement date, a $200. fee will be charged. Note: The $ Price noted above does NOT include travel or accommodation expenses and must be factored in total cost when requesting approval.\n"
     ]
    },
    {
     "name": "stderr",
     "output_type": "stream",
     "text": [
      "28it [02:45,  5.07s/it]"
     ]
    },
    {
     "name": "stdout",
     "output_type": "stream",
     "text": [
      "==============\n",
      "==============\n",
      "==============\n",
      "mrr 0.09090909090909091\n",
      "RANK 10\n",
      "job title Tellers, Retail Banker\n",
      "original 6. Cancel Mortgage on TLS\n",
      "original \n",
      "This course provides information required to cancel a mortgage on the Term Lending System (TLS). Estimated completion time is 10 minutes.\n"
     ]
    },
    {
     "name": "stderr",
     "output_type": "stream",
     "text": [
      "29it [02:51,  5.20s/it]"
     ]
    },
    {
     "name": "stdout",
     "output_type": "stream",
     "text": [
      "==============\n",
      "==============\n",
      "==============\n",
      "mrr 0.0011261261261261261\n",
      "RANK 887\n",
      "job title Securities, Commodities, and Financial Services Sales Agents, Private Client Banker\n",
      "original Investing in You: Describe Investment Conversations with Your Customers\n",
      "original \n",
      "Audience: Retail Sales Officer Trainees Content Summary: appropriate investment solutions to offer to a customer based on complexity and total investable assets customer type, customer trigger, and competitive key strength risk of not taking every opportunity to have investment conversations with customers Completion time is 30 to 60 minutes. Note: If learning resources i.e. Video 1: Investment Conversation, Participant Materials, and/or Reference Guide cannot be located in the Branch, they canbe ordered through the HR Call Centre @ 1-888-888-8089.\n"
     ]
    },
    {
     "name": "stderr",
     "output_type": "stream",
     "text": [
      "30it [02:57,  5.51s/it]"
     ]
    },
    {
     "name": "stdout",
     "output_type": "stream",
     "text": [
      "==============\n",
      "==============\n",
      "==============\n",
      "mrr 0.001941747572815534\n",
      "RANK 514\n",
      "job title Industrial Engineers, Process Improvement Manager\n",
      "original The Keys to Sustainable Change\n",
      "original Change is one of the few things that are almost assured in your working life, regardless of the nature of your business or your position. Times change, and organizations as well as work processes must change with them. Even though this is the case, change is challenging – and if it's not done right, it might not have the impact you envision. In this course, you will learn methods to use in gathering success factors from the sponsors and owners of the change initiative, build skills in developing initial statements of scope to support change initiatives, learn how to identify key stakeholders and stakeholder groups who must change and those who must be considered for inclusion to achieve desired change, and learn how to assess the Three Keys to Sustainable Change – discomfort, vision, and skills.\n"
     ]
    },
    {
     "name": "stderr",
     "output_type": "stream",
     "text": [
      "31it [03:04,  5.83s/it]"
     ]
    },
    {
     "name": "stdout",
     "output_type": "stream",
     "text": [
      "==============\n",
      "==============\n",
      "==============\n",
      "mrr 0.16666666666666666\n",
      "RANK 5\n",
      "job title Administrative Services Managers, Administrative Coordinator\n",
      "original IP Module 9. Common Inquiries (Investment Platform)\n",
      "original \n"
     ]
    },
    {
     "name": "stderr",
     "output_type": "stream",
     "text": [
      "32it [03:09,  5.87s/it]"
     ]
    },
    {
     "name": "stdout",
     "output_type": "stream",
     "text": [
      "==============\n",
      "==============\n",
      "==============\n",
      "mrr 0.3333333333333333\n",
      "RANK 2\n",
      "job title Industrial Engineers, Process Improvement Manager\n",
      "original Global HR Learning Day 2015 \n",
      "original A full day of sessions aimed at furthering development and equipping employees with the knowledge they need to be successful in their careers.\n"
     ]
    },
    {
     "name": "stderr",
     "output_type": "stream",
     "text": [
      "33it [03:15,  5.78s/it]"
     ]
    },
    {
     "name": "stdout",
     "output_type": "stream",
     "text": [
      "==============\n",
      "==============\n",
      "==============\n",
      "mrr 0.030303030303030304\n",
      "RANK 32\n",
      "job title Chief Executives, Aeronautics Commission Director\n",
      "original Managing in a Matrixed Organization\n",
      "original View Mike's LinkedIn Newsletter Matrixed organizations are challenging to run, but offer more efficiency, innovation, and leadership development than traditional vertical reporting structures. Whether you're leading a matrixed organization or you're a team member in one, you need to understand how matrixed organizations work, what the common pitfalls are when running and working in them, and how you can get the greatest benefits from their design. In this course, instructor Mike Figliuolo explains how to manage matrixed employees, excel as an employee in a formal or informal matrix, and capitalize on the unique opportunities that a matrix offers, including the ability to reach a larger network and learn more about more aspects of the business.\n"
     ]
    },
    {
     "name": "stderr",
     "output_type": "stream",
     "text": [
      "34it [03:20,  5.66s/it]"
     ]
    },
    {
     "name": "stdout",
     "output_type": "stream",
     "text": [
      "==============\n",
      "==============\n",
      "==============\n",
      "mrr 0.0007072135785007072\n",
      "RANK 1413\n",
      "job title Chief Executives, Financial Responsibility Division Director\n",
      "original Auditoría - Química empresarial (Solo para Auditoría)\n",
      "original Este programa está diseñado para proporcionar información sobre individuos y equipos en función de rasgos y preferencias observables. Le ayuda a comprender sus propios estilos y cómo se comparan con la población empresarial. Notar los requisitos para inscribirse en este curso. Los espacios son limitados y están sujetos a la aprobación final de Auditoria. Los cursos en este programa deben completarse en el orden en que aparecen.\n"
     ]
    },
    {
     "name": "stderr",
     "output_type": "stream",
     "text": [
      "35it [03:25,  5.43s/it]"
     ]
    },
    {
     "name": "stdout",
     "output_type": "stream",
     "text": [
      "==============\n",
      "==============\n",
      "==============\n",
      "mrr 0.5\n",
      "RANK 1\n",
      "job title Talent Directors, Contestant Coordinator\n",
      "original Finance Development Day July 28 2021 Session 1 - How Finance adds Value as a Business Partner to GBM\n",
      "original How Finance adds Value as a Business Partner to GBM\n"
     ]
    },
    {
     "name": "stderr",
     "output_type": "stream",
     "text": [
      "36it [03:30,  5.28s/it]"
     ]
    },
    {
     "name": "stdout",
     "output_type": "stream",
     "text": [
      "==============\n",
      "==============\n",
      "==============\n",
      "mrr 0.002403846153846154\n",
      "RANK 415\n",
      "job title Marketing Managers, Product Management Director\n",
      "original SMDI RSP & Tax Sessions\n",
      "original \n"
     ]
    },
    {
     "name": "stderr",
     "output_type": "stream",
     "text": [
      "37it [03:35,  5.20s/it]"
     ]
    },
    {
     "name": "stdout",
     "output_type": "stream",
     "text": [
      "==============\n",
      "==============\n",
      "==============\n",
      "mrr 0.14285714285714285\n",
      "RANK 6\n",
      "job title Geographers, GIS Coordinator (Geographic Information Systems Coordinator)\n",
      "original Capacitación Cuenta unica ágil\n",
      "original To make known the benefits and process for requesting an agile single account, to recommend the customer and carry out the corresponding process in the branch.\n"
     ]
    },
    {
     "name": "stderr",
     "output_type": "stream",
     "text": [
      "38it [03:40,  5.16s/it]"
     ]
    },
    {
     "name": "stdout",
     "output_type": "stream",
     "text": [
      "==============\n",
      "==============\n",
      "==============\n",
      "mrr 0.5\n",
      "RANK 1\n",
      "job title Regulatory Affairs Managers, Global Regulatory Affairs Director (Global RA Director)\n",
      "original 2021 U.S. Employee Handbook Acknowledgement\n",
      "original U.S. Employee Handbook\n",
      "\n",
      "To get full completion credit, read the 2021 Employee Handbook and then click Return to Content Structure page to review and agree to the Employee Acknowledgement.  \n"
     ]
    },
    {
     "name": "stderr",
     "output_type": "stream",
     "text": [
      "39it [03:45,  5.12s/it]"
     ]
    },
    {
     "name": "stdout",
     "output_type": "stream",
     "text": [
      "==============\n",
      "==============\n",
      "==============\n",
      "mrr 0.013157894736842105\n",
      "RANK 75\n",
      "job title Software Developers, Software Engineering Supervisor\n",
      "original LeaderWorks Hiring Workshop: Attract and Recruit Talent in the Digital and Tech Space\n",
      "original ' - What is covered: External branding & advocacy, your role as a hiring leader in the Talent Acquisition process, interview training, unconscious bias in the hiring process, your role in Onboarding (digital only)\n",
      "- Summary: your role in bringing new people into the bank or onto your team is a vital one. To attract the best candidates, first interactions and candidate experience are the most important and will help ensure those great candidates turn into valuable team members.\n",
      "- Goal: To understand your role in successfully attracting and recruiting team members and setting them up for long term success\n"
     ]
    },
    {
     "name": "stderr",
     "output_type": "stream",
     "text": [
      "40it [03:51,  5.14s/it]"
     ]
    },
    {
     "name": "stdout",
     "output_type": "stream",
     "text": [
      "==============\n",
      "==============\n",
      "==============\n",
      "mrr 0.005208333333333333\n",
      "RANK 191\n",
      "job title Credit Analysts, Escrow Representative\n",
      "original Cómo superar la procrastinación\n",
      "original Do you ever feel like you're wasting time for no reason? In this 20-minute course, you'll learn how to identify why you do it and arm yourself against procrastination from now on. Brenda Bailey-Hughes, writer and professor at the Kelley School of Business, will show you how to distinguish procrastination from other behaviors, how to identify its causes, and the strategies to face and overcome it and, thus, increase productivity.\n"
     ]
    },
    {
     "name": "stderr",
     "output_type": "stream",
     "text": [
      "41it [03:56,  5.11s/it]"
     ]
    },
    {
     "name": "stdout",
     "output_type": "stream",
     "text": [
      "==============\n",
      "==============\n",
      "==============\n",
      "mrr 1.0\n",
      "RANK 0\n",
      "job title Tellers, Retail Banker\n",
      "original IP Module 2. Plan Accounts (Non-Registered) (Investment Platform)\n",
      "original \n"
     ]
    },
    {
     "name": "stderr",
     "output_type": "stream",
     "text": [
      "42it [04:01,  5.13s/it]"
     ]
    },
    {
     "name": "stdout",
     "output_type": "stream",
     "text": [
      "==============\n",
      "==============\n",
      "==============\n",
      "mrr 0.5\n",
      "RANK 1\n",
      "job title General and Operations Managers, Operations Supervisor\n",
      "original IP Module 5. Purchase Investments (Investment Platform)\n",
      "original \n"
     ]
    },
    {
     "name": "stderr",
     "output_type": "stream",
     "text": [
      "43it [04:06,  5.10s/it]"
     ]
    },
    {
     "name": "stdout",
     "output_type": "stream",
     "text": [
      "==============\n",
      "==============\n",
      "==============\n",
      "mrr 0.14285714285714285\n",
      "RANK 6\n",
      "job title Customer Service Representatives, Customer Relations Representative\n",
      "original Describe ScotiaOne Loan Source for business\n",
      "original \n",
      "This learning offering will help familiarize you with ScotiaOne Loan Source for business. Upon completion you will be able to describe customer benefits, product features, where to find prospects and the key processes associated with this product.\n"
     ]
    },
    {
     "name": "stderr",
     "output_type": "stream",
     "text": [
      "44it [04:12,  5.58s/it]"
     ]
    },
    {
     "name": "stdout",
     "output_type": "stream",
     "text": [
      "==============\n",
      "==============\n",
      "==============\n",
      "mrr 0.015625\n",
      "RANK 63\n",
      "job title Personal Financial Advisors, Wealth Management Advisor\n",
      "original Managing Change and Productivity\n",
      "original \n"
     ]
    },
    {
     "name": "stderr",
     "output_type": "stream",
     "text": [
      "45it [04:20,  6.08s/it]"
     ]
    },
    {
     "name": "stdout",
     "output_type": "stream",
     "text": [
      "==============\n",
      "==============\n",
      "==============\n",
      "mrr 0.5\n",
      "RANK 1\n",
      "job title Administrative Services Managers, Business Coordinator\n",
      "original 8. TLS Inquiry\n",
      "original \n",
      "In this course, you will learn how to view information on the Term Lending System (TLS) both before and after a mortgage is funded. Estimated completion time is 20 minutes.\n"
     ]
    },
    {
     "name": "stderr",
     "output_type": "stream",
     "text": [
      "46it [04:26,  6.00s/it]"
     ]
    },
    {
     "name": "stdout",
     "output_type": "stream",
     "text": [
      "==============\n",
      "==============\n",
      "==============\n",
      "mrr 0.1111111111111111\n",
      "RANK 8\n",
      "job title Customer Service Representatives, Customer Service Associate\n",
      "original Token Course for Customer Experience Associate Learning Foundations Program\n",
      "original NO action required - course is used to exempt employee from taking Customer Experience Associate Learning Foundations Program as they are not in scope.\n"
     ]
    },
    {
     "name": "stderr",
     "output_type": "stream",
     "text": [
      "47it [04:32,  6.04s/it]"
     ]
    },
    {
     "name": "stdout",
     "output_type": "stream",
     "text": [
      "==============\n",
      "==============\n",
      "==============\n",
      "mrr 0.045454545454545456\n",
      "RANK 21\n",
      "job title Curators, Collections Manager\n",
      "original Fundamentos de ITIL: La explotación de servicios\n",
      "original The Operation service in the ITIL 2011 model will enhance the value modeled in the previous stages of the cycle. It is, without a doubt, another important phase in the full deployment of the service and therefore requires as much attention as all the previous phases. In this course we will work with the objectives of this phase, which will be to monitor, monitor and guarantee the agreed commitment levels through various processes, so that the service we have designed works correctly in the parameters and deadlines that we have established in the service level agreements. You will also see what we can do when these levels do not meet the agreements we have adopted for the service.\n"
     ]
    },
    {
     "name": "stderr",
     "output_type": "stream",
     "text": [
      "48it [04:37,  5.91s/it]"
     ]
    },
    {
     "name": "stdout",
     "output_type": "stream",
     "text": [
      "==============\n",
      "==============\n",
      "==============\n",
      "mrr 0.125\n",
      "RANK 7\n",
      "job title Financial Managers, Credit and Collection Manager\n",
      "original IP Module 5. Purchase Investments (Investment Platform)\n",
      "original \n"
     ]
    },
    {
     "name": "stderr",
     "output_type": "stream",
     "text": [
      "49it [04:44,  6.03s/it]"
     ]
    },
    {
     "name": "stdout",
     "output_type": "stream",
     "text": [
      "==============\n",
      "==============\n",
      "==============\n",
      "mrr 1.0\n",
      "RANK 0\n",
      "job title New Accounts Clerks, Personal Banker\n",
      "original IP Module 4. Holds (Investment Platform)\n",
      "original \n"
     ]
    },
    {
     "name": "stderr",
     "output_type": "stream",
     "text": [
      "50it [04:49,  5.73s/it]"
     ]
    },
    {
     "name": "stdout",
     "output_type": "stream",
     "text": [
      "==============\n",
      "==============\n",
      "==============\n",
      "mrr 0.5\n",
      "RANK 1\n",
      "job title Customer Service Representatives, Customer Service Associate\n",
      "original 2022 Token Course - Employee - Annual Creditor Insurance Certification Program for Retail Banking - CEA\n",
      "original \n"
     ]
    },
    {
     "name": "stderr",
     "output_type": "stream",
     "text": [
      "51it [04:53,  5.35s/it]"
     ]
    },
    {
     "name": "stdout",
     "output_type": "stream",
     "text": [
      "==============\n",
      "==============\n",
      "==============\n",
      "mrr 0.0008176614881439084\n",
      "RANK 1222\n",
      "job title Real Estate Brokers, Real Estate Portfolio Manager\n",
      "original Introduction to Commercial Real Estate Analysis\n",
      "original Jump-start your career in commercial real estate. In this course, get acquainted with the different commercial real estate asset classes, and learn how to evaluate each one through a series of practical examples. Instructor Symon He equips you with several key real estate investment techniques, sharing how to evaluate assets such as warehouses, mixed-use retail and apartment residential developments, and downtown office buildings. To lend a practical context to the concepts he covers, Symon walks through a variety of case studies inspired by real-world deals. Learn about operating assets, replacement cost, the main types of commercial leases, and other essential concepts.\n"
     ]
    },
    {
     "name": "stderr",
     "output_type": "stream",
     "text": [
      "52it [04:58,  5.17s/it]"
     ]
    },
    {
     "name": "stdout",
     "output_type": "stream",
     "text": [
      "==============\n",
      "==============\n",
      "==============\n",
      "mrr 0.004405286343612335\n",
      "RANK 226\n",
      "job title Managers, All Other, Management Trainee\n",
      "original Working and Communicating with Different Personalities\n",
      "original Too often our work relationships are more complicated than they need to be. This impacts job satisfaction, morale, and productivity. In this course, Working and Communicating with Different Personalities, you’ll gain the ability to work and communicate better with others because of a foundational understanding of differences in personalities. First, you’ll explore the basics of personalities as well as assessments that help us understand one another. Next, you’ll learn about the Myers-Briggs and DiSC assessments and learn how to decipher assessment results. Finally, you’ll learn how to put all of this information together so you can have improved work relationships and communication. When you’re finished with this course, you’ll have the skills and knowledge of people and personalities needed to excel in your career by connecting more effectively with people.\n"
     ]
    },
    {
     "name": "stderr",
     "output_type": "stream",
     "text": [
      "53it [05:03,  5.08s/it]"
     ]
    },
    {
     "name": "stdout",
     "output_type": "stream",
     "text": [
      "==============\n",
      "==============\n",
      "==============\n",
      "mrr 0.0006381620931716656\n",
      "RANK 1566\n",
      "job title Public Relations Specialists, Public Affairs Specialist\n",
      "original AMOS:  Final Test\n",
      "original \n"
     ]
    },
    {
     "name": "stderr",
     "output_type": "stream",
     "text": [
      "54it [05:08,  5.01s/it]"
     ]
    },
    {
     "name": "stdout",
     "output_type": "stream",
     "text": [
      "==============\n",
      "==============\n",
      "==============\n",
      "mrr 0.5\n",
      "RANK 1\n",
      "job title Personal Financial Advisors, Financial Consultant\n",
      "original IP Module 3. Maintaining Plans and Investments (Investment Platform)\n",
      "original \n"
     ]
    },
    {
     "name": "stderr",
     "output_type": "stream",
     "text": [
      "55it [05:13,  5.10s/it]"
     ]
    },
    {
     "name": "stdout",
     "output_type": "stream",
     "text": [
      "==============\n",
      "==============\n",
      "==============\n",
      "mrr 0.0014814814814814814\n",
      "RANK 674\n",
      "job title Business Operations Specialists, All Other, Employee Adviser\n",
      "original Comprehending Financials: A Guide to Financial Statements\n",
      "original The focus of any business is to make a profit, generate enough cash to operate effectively, and be financially viable. Financial statements are used to track a business's financial information. There are three basic financial statements used for this purpose: the Income Statement, the Cash Flow Statement, and the Balance Sheet. In this course, you will learn about each of the three financial statements, their reporting requirements, and how information is arranged within them. You will also examine a few examples of financial statements and explore how each financial statement relates to the others.\n"
     ]
    },
    {
     "name": "stderr",
     "output_type": "stream",
     "text": [
      "56it [05:18,  5.14s/it]"
     ]
    },
    {
     "name": "stdout",
     "output_type": "stream",
     "text": [
      "==============\n",
      "==============\n",
      "==============\n",
      "mrr 0.006802721088435374\n",
      "RANK 146\n",
      "job title Customer Service Representatives, Customer Service Coordinator\n",
      "original Inclusive Instructional Design (2019)\n",
      "original Does the training you create really reflect your audience? Have you considered someone’s geographical location, learning preference, or accommodation needs? These types of questions should be core to the instructional design process. In this course, learn how to make sure your training is inclusive by considering everything from your graphics to the subject matter experts (SMEs) you select. Instructor Samantha Calamari illuminates ways in which individuals with different learning styles, abilities, and cultural backgrounds can be left out of traditional learning experiences. Throughout the course, she shares techniques and design methods that can help your training resonate with these—and all potential—audiences.\n"
     ]
    },
    {
     "name": "stderr",
     "output_type": "stream",
     "text": [
      "57it [05:23,  5.08s/it]"
     ]
    },
    {
     "name": "stdout",
     "output_type": "stream",
     "text": [
      "==============\n",
      "==============\n",
      "==============\n",
      "mrr 0.0012224938875305623\n",
      "RANK 817\n",
      "job title Treasurers and Controllers, Production Controller\n",
      "original Sesión #7, Kioskos y Puntos de Pago\n",
      "original A comprehensive overview of Scotiabank's ATM and branch options\n"
     ]
    },
    {
     "name": "stderr",
     "output_type": "stream",
     "text": [
      "58it [05:28,  5.03s/it]"
     ]
    },
    {
     "name": "stdout",
     "output_type": "stream",
     "text": [
      "==============\n",
      "==============\n",
      "==============\n",
      "mrr 0.002793296089385475\n",
      "RANK 357\n",
      "job title Customer Service Representatives, Customer Service Professional\n",
      "original Token - Universal Banker Foundations Program \n",
      "Like many things in life, the more you put into something, the more you get out of it.  So, give it your all and enjoy your learning journey!aining, job-shadowing and coaching support.\n"
     ]
    },
    {
     "name": "stderr",
     "output_type": "stream",
     "text": [
      "59it [05:33,  4.98s/it]"
     ]
    },
    {
     "name": "stdout",
     "output_type": "stream",
     "text": [
      "==============\n",
      "==============\n",
      "==============\n",
      "mrr 0.5\n",
      "RANK 1\n",
      "job title Customer Service Representatives, Customer Relations Representative\n",
      "original 1. Getting Started with TLS\n",
      "original \n",
      "This course provides information about navigation of the Term Lending System (TLS) courses, lesson structure, and the support materials required to use TLS. Estimated completion time is 10 minutes.\n"
     ]
    },
    {
     "name": "stderr",
     "output_type": "stream",
     "text": [
      "60it [05:38,  5.01s/it]"
     ]
    },
    {
     "name": "stdout",
     "output_type": "stream",
     "text": [
      "==============\n",
      "==============\n",
      "==============\n",
      "mrr 0.3333333333333333\n",
      "RANK 2\n",
      "job title Shipping, Receiving, and Inventory Clerks, Order Fulfillment Specialist\n",
      "original Token Course to Trigger Program Survey - Complaints\n",
      "original \n"
     ]
    },
    {
     "name": "stderr",
     "output_type": "stream",
     "text": [
      "61it [05:43,  5.13s/it]"
     ]
    },
    {
     "name": "stdout",
     "output_type": "stream",
     "text": [
      "==============\n",
      "==============\n",
      "==============\n",
      "mrr 0.0625\n",
      "RANK 15\n",
      "job title Business Operations Specialists, All Other, Branch Operation Evaluation Manager\n",
      "original 2020 iLead  PME - Assignment Indicator\n",
      "original This course has been credit to the learning plan of employees for the purpose of facilitating the correct assignment for the People Manager Essentials program to distinguish new and existing people managers as of December 31, 2019. If you have any questions, please contact Ask HR.\n"
     ]
    },
    {
     "name": "stderr",
     "output_type": "stream",
     "text": [
      "62it [05:49,  5.16s/it]"
     ]
    },
    {
     "name": "stdout",
     "output_type": "stream",
     "text": [
      "==============\n",
      "==============\n",
      "==============\n",
      "mrr 0.125\n",
      "RANK 7\n",
      "job title Executive Secretaries and Executive Administrative Assistants, Administrative Aide\n",
      "original 6. Cancel Mortgage on TLS\n",
      "original \n",
      "This course provides information required to cancel a mortgage on the Term Lending System (TLS). Estimated completion time is 10 minutes.\n"
     ]
    },
    {
     "name": "stderr",
     "output_type": "stream",
     "text": [
      "63it [05:54,  5.26s/it]"
     ]
    },
    {
     "name": "stdout",
     "output_type": "stream",
     "text": [
      "==============\n",
      "==============\n",
      "==============\n",
      "mrr 0.3333333333333333\n",
      "RANK 2\n",
      "job title Customer Service Representatives, Client Relations Specialist\n",
      "original IP Module 7. Miscellaneous Activities and Transactions (Investment Platform)\n",
      "original \n"
     ]
    },
    {
     "name": "stderr",
     "output_type": "stream",
     "text": [
      "64it [05:59,  5.24s/it]"
     ]
    },
    {
     "name": "stdout",
     "output_type": "stream",
     "text": [
      "==============\n",
      "==============\n",
      "==============\n",
      "mrr 0.3333333333333333\n",
      "RANK 2\n",
      "job title Tellers, Retail Banker\n",
      "original IP Module 8. Printing (Investment Platform)\n",
      "original \n"
     ]
    },
    {
     "name": "stderr",
     "output_type": "stream",
     "text": [
      "65it [06:04,  5.19s/it]"
     ]
    },
    {
     "name": "stdout",
     "output_type": "stream",
     "text": [
      "==============\n",
      "==============\n",
      "==============\n",
      "mrr 0.3333333333333333\n",
      "RANK 2\n",
      "job title Concierges, Health Concierge\n",
      "original Nueva Segementación para Red de Sucursales\n",
      "original Provide information on the benefits and criteria for the new segmentation in the branch network\n"
     ]
    },
    {
     "name": "stderr",
     "output_type": "stream",
     "text": [
      "66it [06:09,  5.16s/it]"
     ]
    },
    {
     "name": "stdout",
     "output_type": "stream",
     "text": [
      "==============\n",
      "==============\n",
      "==============\n",
      "mrr 0.014925373134328358\n",
      "RANK 66\n",
      "job title Chief Executives, Aeronautics Commission Director\n",
      "original Token Course to suppress Phishing 101 - ITS1042\n",
      "original No online content, for admin use only\n"
     ]
    },
    {
     "name": "stderr",
     "output_type": "stream",
     "text": [
      "67it [06:15,  5.20s/it]"
     ]
    },
    {
     "name": "stdout",
     "output_type": "stream",
     "text": [
      "==============\n",
      "==============\n",
      "==============\n",
      "mrr 0.3333333333333333\n",
      "RANK 2\n",
      "job title Tellers, Retail Banker\n",
      "original 3. Set Up Mortgage (including PCA) on TLS\n",
      "original \n",
      "This course provides the steps to set up a mortgage on the Term Lending System (TLS), including PCA, the screen index organization, the features of selected screens, the best practice flow and interactive customer scenarios. Estimated completion time is60 minutes.\n"
     ]
    },
    {
     "name": "stderr",
     "output_type": "stream",
     "text": [
      "68it [06:20,  5.28s/it]"
     ]
    },
    {
     "name": "stdout",
     "output_type": "stream",
     "text": [
      "==============\n",
      "==============\n",
      "==============\n",
      "mrr 0.1111111111111111\n",
      "RANK 8\n",
      "job title Tellers, Retail Banker\n",
      "original IP Module 1. Introduction to Investment Platform\n",
      "original \n"
     ]
    },
    {
     "name": "stderr",
     "output_type": "stream",
     "text": [
      "69it [06:25,  5.20s/it]"
     ]
    },
    {
     "name": "stdout",
     "output_type": "stream",
     "text": [
      "==============\n",
      "==============\n",
      "==============\n",
      "mrr 0.0014144271570014145\n",
      "RANK 706\n",
      "job title Loan Officers, Business Banking Officer\n",
      "original IB-SmallBusinessCreditCards\n",
      "original \n",
      "Upon completion of this module, you will be able to : • Define Scotiabank Small Business Credit Cards. • Define how Credit Cards meet the Borrowing Cornerstone customer goals. • Identify the benefits and features of the Small Business Credit Cards. • Identify the Small Business Customer. • Recognize customer clues and triggers that identify the need for a Credit Card.\n"
     ]
    },
    {
     "name": "stderr",
     "output_type": "stream",
     "text": [
      "70it [06:30,  5.21s/it]"
     ]
    },
    {
     "name": "stdout",
     "output_type": "stream",
     "text": [
      "==============\n",
      "==============\n",
      "==============\n",
      "mrr 0.006756756756756757\n",
      "RANK 147\n",
      "job title Statistical Assistants, Technical Analyst\n",
      "original Measuring Credit Risk of Derivative Contracts\n",
      "original The size of the global derivatives market has by some estimates reached a notional value of a quadrillion dollars. Among the primary users of derivatives are commodity-based corporations, banks, pension funds, insurance companies, mutual funds, hedge funds, and private investors. The credit worthiness of different parties to these contracts has been under focus since the credit crisis of 2008, which led to many institutions going bankrupt due to a lack of focus on credit risk. Credit risk has emerged as the major risk in dealing with derivative contracts. In order for derivatives users to manage the associated credit risk, they must develop models and procedures required to measure credit risk in monetary terms. This course identifies the sources of credit risk in widely used derivatives, with a distinction made between over-the-counter versus market traded derivatives. The course also introduces the credit equivalent risk framework, which utilizes statistical techniques to determine a risk factor that is used as an input to determine potential credit loss. In determining potential credit loss, the course also considers the probability of default and recovery rates determined through a credit rating process, analysts' judgements, and other information sources.\n"
     ]
    },
    {
     "name": "stderr",
     "output_type": "stream",
     "text": [
      "71it [06:36,  5.23s/it]"
     ]
    },
    {
     "name": "stdout",
     "output_type": "stream",
     "text": [
      "==============\n",
      "==============\n",
      "==============\n",
      "mrr 0.00625\n",
      "RANK 159\n",
      "job title Healthcare Social Workers, Geriatric Social Worker\n",
      "original Canadian Investment Management Part 2 - CSI\n",
      "original \n",
      "To enroll in this CSI course, log onto www.csi.ca and enroll directly through CSI. Once you have completed the course, CSI will send My Learning Centre your history record and this enrolment will be automatically marked complete.**NOTE: CSI history can only be sent to Scotiabank if you have updated your CSI student profile and provided consent for release of your updated information to My Learning Centre.\n"
     ]
    },
    {
     "name": "stderr",
     "output_type": "stream",
     "text": [
      "72it [06:41,  5.34s/it]"
     ]
    },
    {
     "name": "stdout",
     "output_type": "stream",
     "text": [
      "==============\n",
      "==============\n",
      "==============\n",
      "mrr 0.0017574692442882249\n",
      "RANK 568\n",
      "job title Customer Service Representatives, Service Advisor\n",
      "original IFRS and ASPE at Scotiabank\n",
      "original \n",
      "In 2011 Canada will be making a change from Canadian Generally Accepted Accounting Principles (GAAP) to International Financial Reporting Standards (IFRS) and Accounting Standards for Private Enterprise (ASPE). This course provides an overview of these changes and how they might impact you as well as Scotiabank.\n"
     ]
    },
    {
     "name": "stderr",
     "output_type": "stream",
     "text": [
      "73it [06:47,  5.44s/it]"
     ]
    },
    {
     "name": "stdout",
     "output_type": "stream",
     "text": [
      "==============\n",
      "==============\n",
      "==============\n",
      "mrr 0.5\n",
      "RANK 1\n",
      "job title Tellers, Retail Banker\n",
      "original 2. TLS Overview\n",
      "original \n",
      "This course provides an introductory overview of the Term Lending System (TLS) including summary screens, screen index organization and additional features available on TLS. Estimated completion time is 30 minutes.\n"
     ]
    },
    {
     "name": "stderr",
     "output_type": "stream",
     "text": [
      "74it [06:53,  5.67s/it]"
     ]
    },
    {
     "name": "stdout",
     "output_type": "stream",
     "text": [
      "==============\n",
      "==============\n",
      "==============\n",
      "mrr 0.5\n",
      "RANK 1\n",
      "job title Management Analysts, Business Management Consultant\n",
      "original 2020 iLead  PME - Assignment Indicator\n",
      "original This course has been credit to the learning plan of employees for the purpose of facilitating the correct assignment for the People Manager Essentials program to distinguish new and existing people managers as of December 31, 2019. If you have any questions, please contact Ask HR.\n"
     ]
    },
    {
     "name": "stderr",
     "output_type": "stream",
     "text": [
      "75it [06:58,  5.54s/it]"
     ]
    },
    {
     "name": "stdout",
     "output_type": "stream",
     "text": [
      "==============\n",
      "==============\n",
      "==============\n",
      "mrr 0.25\n",
      "RANK 3\n",
      "job title Business Operations Specialists, All Other, Employee Adviser\n",
      "original Describe Scotia Mortgage for Self-Employed*\n",
      "original \n",
      "Audience: Small Business Content Summary: covers customer benefits and product features describes eligible customers and where to find prospects reviews key processes Completion time is 30 to 60 minutes.\n"
     ]
    },
    {
     "name": "stderr",
     "output_type": "stream",
     "text": [
      "76it [07:04,  5.45s/it]"
     ]
    },
    {
     "name": "stdout",
     "output_type": "stream",
     "text": [
      "==============\n",
      "==============\n",
      "==============\n",
      "mrr 0.0019342359767891683\n",
      "RANK 516\n",
      "job title Personal Financial Advisors, Financial Consultant\n",
      "original Investing in You: Describe Investment Conversations with Your Customers\n",
      "original \n",
      "Audience: Retail Sales Officer Trainees Content Summary: appropriate investment solutions to offer to a customer based on complexity and total investable assets customer type, customer trigger, and competitive key strength risk of not taking every opportunity to have investment conversations with customers Completion time is 30 to 60 minutes. Note: If learning resources i.e. Video 1: Investment Conversation, Participant Materials, and/or Reference Guide cannot be located in the Branch, they canbe ordered through the HR Call Centre @ 1-888-888-8089.\n"
     ]
    },
    {
     "name": "stderr",
     "output_type": "stream",
     "text": [
      "77it [07:09,  5.39s/it]"
     ]
    },
    {
     "name": "stdout",
     "output_type": "stream",
     "text": [
      "==============\n",
      "==============\n",
      "==============\n",
      "mrr 0.0010775862068965517\n",
      "RANK 927\n",
      "job title Tellers, Foreign Banknote Teller\n",
      "original ProgramadeOrientaciónPBO\n",
      "original Training for Banca Personas Employees.\n"
     ]
    },
    {
     "name": "stderr",
     "output_type": "stream",
     "text": [
      "78it [07:14,  5.21s/it]"
     ]
    },
    {
     "name": "stdout",
     "output_type": "stream",
     "text": [
      "==============\n",
      "==============\n",
      "==============\n",
      "mrr 0.3333333333333333\n",
      "RANK 2\n",
      "job title Construction Laborers, Municipal Maintenance Worker\n",
      "original Feedback survey - Cultural Agility Program\n",
      "original \n"
     ]
    },
    {
     "name": "stderr",
     "output_type": "stream",
     "text": [
      "79it [07:19,  5.17s/it]"
     ]
    },
    {
     "name": "stdout",
     "output_type": "stream",
     "text": [
      "==============\n",
      "==============\n",
      "==============\n",
      "mrr 0.0006393861892583121\n",
      "RANK 1563\n",
      "job title Computer Programmers, Programmer Analyst\n",
      "original Applying MapReduce to Common Data Problems\n",
      "original This course, Applying MapReduce to Common Data Problems, helps you with three unique MapReduce patterns: summarizing numeric data, filtering large datasets, and building an index for fast data lookup. First, you'll learn about how you start \"Thinking MapReduce\" including what's involved and what needs to be broken down to start thinking in these terms. Next, you'll explore how to compute numeric summary metrics, and how to filter large data sets. Finally, you'll wrap up the course by learning about building indices, and why an inverted index is so important in the context of search engines. After watching this course, you'll have the confidence to spot patterns in MapReduce problems and will be on you're way to mastering this programming model.\n"
     ]
    },
    {
     "name": "stderr",
     "output_type": "stream",
     "text": [
      "80it [07:24,  5.08s/it]"
     ]
    },
    {
     "name": "stdout",
     "output_type": "stream",
     "text": [
      "==============\n",
      "==============\n",
      "==============\n",
      "mrr 0.00043840420868040335\n",
      "RANK 2280\n",
      "job title Customer Service Representatives, Client Relations Specialist\n",
      "original Token Course for Seniors Customer Experience Associate Learning Foundations Program\n",
      "original NO action required - course is used to exempt employee from taking Customer Experience Associate Learning Foundations Program as they are not in scope.\n"
     ]
    },
    {
     "name": "stderr",
     "output_type": "stream",
     "text": [
      "81it [07:29,  5.05s/it]"
     ]
    },
    {
     "name": "stdout",
     "output_type": "stream",
     "text": [
      "==============\n",
      "==============\n",
      "==============\n",
      "mrr 0.0011737089201877935\n",
      "RANK 851\n",
      "job title Administrative Services Managers, Business Coordinator\n",
      "original FunciondeCajayEfectivo-ElSalvador\n",
      "original In this module, you will learn about cash handling and cashiering policies and procedures. You will also learn about your responsibilities as a Customer Service and Support Unit Manager to ensure that your team implements cash handling and cashiering controls.\n"
     ]
    },
    {
     "name": "stderr",
     "output_type": "stream",
     "text": [
      "82it [07:33,  4.96s/it]"
     ]
    },
    {
     "name": "stdout",
     "output_type": "stream",
     "text": [
      "==============\n",
      "==============\n",
      "==============\n",
      "mrr 0.3333333333333333\n",
      "RANK 2\n",
      "job title Business Operations Specialists, All Other, Branch Operation Evaluation Manager\n",
      "original 2020 iLead  PME - Assignment Indicator\n",
      "original This course has been credit to the learning plan of employees for the purpose of facilitating the correct assignment for the People Manager Essentials program to distinguish new and existing people managers as of December 31, 2019. If you have any questions, please contact Ask HR.\n"
     ]
    },
    {
     "name": "stderr",
     "output_type": "stream",
     "text": [
      "83it [07:38,  4.78s/it]"
     ]
    },
    {
     "name": "stdout",
     "output_type": "stream",
     "text": [
      "==============\n",
      "==============\n",
      "==============\n",
      "mrr 0.0004764173415912339\n",
      "RANK 2098\n",
      "job title Personal Financial Advisors, Wealth Advisor\n",
      "original SM Portfolio Construction Program\n",
      "original \n"
     ]
    },
    {
     "name": "stderr",
     "output_type": "stream",
     "text": [
      "84it [07:42,  4.71s/it]"
     ]
    },
    {
     "name": "stdout",
     "output_type": "stream",
     "text": [
      "==============\n",
      "==============\n",
      "==============\n",
      "mrr 0.00045934772622875517\n",
      "RANK 2176\n",
      "job title Sales Managers, Sales Director\n",
      "original Ethics Seminar - CSI\n",
      "original \n",
      "To enroll in this CSI course, log onto www.csi.ca and enroll directly through CSI. Once you have completed the course, CSI will send My Learning Centre your history record and this enrolment will be automatically marked complete.**NOTE: CSI history can only be sent to Scotiabank if you have updated your CSI student profile and provided consent for release of your updated information to My Learning Centre.\n"
     ]
    },
    {
     "name": "stderr",
     "output_type": "stream",
     "text": [
      "85it [07:47,  4.66s/it]"
     ]
    },
    {
     "name": "stdout",
     "output_type": "stream",
     "text": [
      "==============\n",
      "==============\n",
      "==============\n",
      "mrr 0.002403846153846154\n",
      "RANK 415\n",
      "job title Administrative Services Managers, Records and Information Manager\n",
      "original Fundamentos de data science: Conceptos básicos\n",
      "original The Data Science Foundations course gives you a broad overview of modern data science: the practice of obtaining, exploring, shaping, and interpreting data. While many people think of data science as only being about big data, there are many more fields and concepts to explore. Barto Poulson will cover disciplines such as programming, statistics, math, machine learning, data analysis, visualization, and (yes) big data. He will also reveal why data scientists are in such high demand, and what skills are required to succeed in various roles within the field. He will also show you how to obtain data from open data sources, via APIs, and through web scraping, and introduce you to technologies (R, Python, and SQL) and techniques (support vector machines and random forests) specific to data analysis. By the end of the course, you will have a better understanding of the role data science plays in providing meaningful insights into the complex and vast datasets that surround us.\n"
     ]
    },
    {
     "name": "stderr",
     "output_type": "stream",
     "text": [
      "86it [07:51,  4.64s/it]"
     ]
    },
    {
     "name": "stdout",
     "output_type": "stream",
     "text": [
      "==============\n",
      "==============\n",
      "==============\n",
      "mrr 0.0004035512510088781\n",
      "RANK 2477\n",
      "job title Customer Service Representatives, Return-to-Factory Clerk\n",
      "original Moneda Falsa\n",
      "original Service Team Extended Talk covering the fundamentals of the National Peel Review\n"
     ]
    },
    {
     "name": "stderr",
     "output_type": "stream",
     "text": [
      "87it [07:57,  4.85s/it]"
     ]
    },
    {
     "name": "stdout",
     "output_type": "stream",
     "text": [
      "==============\n",
      "==============\n",
      "==============\n",
      "mrr 0.16666666666666666\n",
      "RANK 5\n",
      "job title Customer Service Representatives, Customer Service Associate\n",
      "original Describe Credit - ScotiaLine Personal Lines of Credit*\n",
      "original \n",
      "Audience: Retail Sales Officers Content Summary: Learning Guide reviews the definition and characteristics of lines of credit, as well as ScotiaLine Protection takes the learner through each line of credit product and introduces the ScotiaLine Pricing Tool contains resource links to online information and job aids Completion time is approximately 1 to 1.5 hours.\n"
     ]
    },
    {
     "name": "stderr",
     "output_type": "stream",
     "text": [
      "88it [08:03,  5.17s/it]"
     ]
    },
    {
     "name": "stdout",
     "output_type": "stream",
     "text": [
      "==============\n",
      "==============\n",
      "==============\n",
      "mrr 0.05555555555555555\n",
      "RANK 17\n",
      "job title Financial Managers, Finance Director\n",
      "original 06. CLB: Opportunity Assessment\n",
      "original \n",
      "Audience: Commercial Content Summary: the first of the Commercial Loans to Business (CLB) modules covers The Lending Environment, The Decision Strategy, Assessing Opportunities, and Preliminary Assessment ProcessCompletion time is approximately 2 hours. All of the modules are coached assisted/self study; your coach will be in touch with you in the next few days and throughout the program. If any other assistance is required, send an email to commercial.training@scotiabank.com. For this module to run properly, a font size adjustment is required. Before clicking on the course, follow these steps to adjust the font on your PC: Click on View in the menu going across the top of your screen Select Text Size Select Medium Your font size will reset to the default upon exiting My Learning Centre.\n"
     ]
    },
    {
     "name": "stderr",
     "output_type": "stream",
     "text": [
      "89it [08:08,  5.19s/it]"
     ]
    },
    {
     "name": "stdout",
     "output_type": "stream",
     "text": [
      "==============\n",
      "==============\n",
      "==============\n",
      "mrr 0.005813953488372093\n",
      "RANK 171\n",
      "job title Architectural and Civil Drafters, Structural Drafter\n",
      "original GenerandoAltaConfianza\n",
      "original Identify the way leaders generate trust through the Giftwork Culture they implement with their teams and the results in climate and business that are produced. Participants will strengthen cultural behaviors aligned with Corporate Philosophy.\n"
     ]
    },
    {
     "name": "stderr",
     "output_type": "stream",
     "text": [
      "90it [08:13,  5.18s/it]"
     ]
    },
    {
     "name": "stdout",
     "output_type": "stream",
     "text": [
      "==============\n",
      "==============\n",
      "==============\n",
      "mrr 0.0007961783439490446\n",
      "RANK 1255\n",
      "job title Loan Officers, Commercial Relationship Manager\n",
      "original PSLP - ScotiaLine Personal Line of Credit\n",
      "original \n"
     ]
    },
    {
     "name": "stderr",
     "output_type": "stream",
     "text": [
      "91it [08:18,  5.19s/it]"
     ]
    },
    {
     "name": "stdout",
     "output_type": "stream",
     "text": [
      "==============\n",
      "==============\n",
      "==============\n",
      "mrr 0.3333333333333333\n",
      "RANK 2\n",
      "job title General and Operations Managers, General Manager (GM)\n",
      "original Nueva Segementación para Red de Sucursales\n",
      "original Provide information on the benefits and criteria for the new segmentation in the branch network\n"
     ]
    },
    {
     "name": "stderr",
     "output_type": "stream",
     "text": [
      "92it [08:23,  5.19s/it]"
     ]
    },
    {
     "name": "stdout",
     "output_type": "stream",
     "text": [
      "==============\n",
      "==============\n",
      "==============\n",
      "mrr 1.0\n",
      "RANK 0\n",
      "job title Tellers, Retail Banker\n",
      "original Describe CDIC for Sales (2005)\n",
      "original \n",
      "Audience: Retail Sales Officers Content Summary: covers eligible and ineligible deposits reviews insurance coverage limits outlines the Scotiabank Group CDIC member institutions this course was updated August 5, 2005 to reflect the CDIC Insurance limit change to $100,000 Completion time is approximately 20 minutes.\n"
     ]
    },
    {
     "name": "stderr",
     "output_type": "stream",
     "text": [
      "93it [08:29,  5.17s/it]"
     ]
    },
    {
     "name": "stdout",
     "output_type": "stream",
     "text": [
      "==============\n",
      "==============\n",
      "==============\n",
      "mrr 0.006097560975609756\n",
      "RANK 163\n",
      "job title Healthcare Social Workers, Geriatric Social Worker\n",
      "original Commercial Banking Marketing\n",
      "original \n"
     ]
    },
    {
     "name": "stderr",
     "output_type": "stream",
     "text": [
      "94it [08:33,  5.05s/it]"
     ]
    },
    {
     "name": "stdout",
     "output_type": "stream",
     "text": [
      "==============\n",
      "==============\n",
      "==============\n",
      "mrr 0.3333333333333333\n",
      "RANK 2\n",
      "job title Command and Control Center Officers, Operations Systems Specialist\n",
      "original 2020 iLead  PME - Assignment Indicator\n",
      "original This course has been credit to the learning plan of employees for the purpose of facilitating the correct assignment for the People Manager Essentials program to distinguish new and existing people managers as of December 31, 2019. If you have any questions, please contact Ask HR.\n"
     ]
    },
    {
     "name": "stderr",
     "output_type": "stream",
     "text": [
      "95it [08:38,  5.02s/it]"
     ]
    },
    {
     "name": "stdout",
     "output_type": "stream",
     "text": [
      "==============\n",
      "==============\n",
      "==============\n",
      "mrr 0.05263157894736842\n",
      "RANK 18\n",
      "job title Managers, All Other, Team Leader\n",
      "original Preparing for an (ISC)2® Certification Exam\n",
      "original Preparing for an (ISC)2® examination can be difficult and stressful. In this course, Preparing for an (ISC)2® Certification Examination, you will learn how to set yourself up for success, prior to taking the exam. First, you will delve into the test-taking process. Next, you will discover some helpful tips and tricks to pass the exam. Last, you will learn how to develop a study plan. When you are finished with this course, you will have the skills and knowledge needed to be prepared for an (ISC)2 exam. \n"
     ]
    },
    {
     "name": "stderr",
     "output_type": "stream",
     "text": [
      "96it [08:44,  5.10s/it]"
     ]
    },
    {
     "name": "stdout",
     "output_type": "stream",
     "text": [
      "==============\n",
      "==============\n",
      "==============\n",
      "mrr 0.07692307692307693\n",
      "RANK 12\n",
      "job title Sales Managers, Account Manager\n",
      "original 2020 iLead  PME - Assignment Indicator\n",
      "original This course has been credit to the learning plan of employees for the purpose of facilitating the correct assignment for the People Manager Essentials program to distinguish new and existing people managers as of December 31, 2019. If you have any questions, please contact Ask HR.\n"
     ]
    },
    {
     "name": "stderr",
     "output_type": "stream",
     "text": [
      "97it [08:49,  5.11s/it]"
     ]
    },
    {
     "name": "stdout",
     "output_type": "stream",
     "text": [
      "==============\n",
      "==============\n",
      "==============\n",
      "mrr 0.02127659574468085\n",
      "RANK 46\n",
      "job title Tellers, Retail Banker\n",
      "original Pre-fund Maintenance (Describe Pre-Fund Maintenance on TLS)\n",
      "original \n",
      "This learning offering provides information on how to use the pre-fund maintanencefunctions on the Term Lending System (TLS), including screen index organization and key features of selected screens.\n"
     ]
    },
    {
     "name": "stderr",
     "output_type": "stream",
     "text": [
      "98it [08:53,  4.82s/it]"
     ]
    },
    {
     "name": "stdout",
     "output_type": "stream",
     "text": [
      "==============\n",
      "==============\n",
      "==============\n",
      "mrr 0.125\n",
      "RANK 7\n",
      "job title Healthcare Diagnosing or Treating Practitioners, All Other, Acupressurist\n",
      "original Marketing & Communications Master Class\n",
      "original A full day of sessions aimed at furthering development and equipping employees with the knowledge they need to be successful in their careers.\n"
     ]
    },
    {
     "name": "stderr",
     "output_type": "stream",
     "text": [
      "99it [09:03,  6.42s/it]"
     ]
    },
    {
     "name": "stdout",
     "output_type": "stream",
     "text": [
      "==============\n",
      "==============\n",
      "==============\n",
      "mrr 0.0034602076124567475\n",
      "RANK 288\n",
      "job title Personal Financial Advisors, Wealth Management Advisor\n",
      "original Income Trusts\n",
      "original You can request a refund* online or by completing the \"Course Cancellation Form\" and faxing the form to CSI. CSI will retain $175 if a refund request is received online or by fax within 14 days of course purchase. Note: Scotiabank students must cancel through your corporate Learning Management System (LMS). *Refunds are not available for textbooks, learning aids (such as Check practice exams), online courses and products, Continuing Education courses and certificate frames.\n",
      "This course covers all the angles on Income Trusts, describing both the advantages and disadvantages of this increasingly popular financing trend. REITs and royalty trusts are explored, and there is a special emphasis on the latest type of income trust -- the business income trust. We address the controversy surrounding the suitability of income trusts for retail investors, plus legal and tax implications that every Advisor should be aware of. This course serves as an excellent resource tool for Advisors who wish to better explain the concept of income trusts to clients.\n"
     ]
    },
    {
     "name": "stderr",
     "output_type": "stream",
     "text": [
      "100it [09:08,  6.03s/it]"
     ]
    },
    {
     "name": "stdout",
     "output_type": "stream",
     "text": [
      "==============\n",
      "==============\n",
      "==============\n",
      "mrr 0.0030120481927710845\n",
      "RANK 331\n",
      "job title Chief Executives, Aeronautics Commission Director\n",
      "original Building Batch Data Pipelines on GCP\n",
      "original Data pipelines typically fall under one of the Extra-Load, Extract-Load-Transform or Extract-Transform-Load paradigms. This course describes which paradigm should be used and when for batch data. Furthermore, this course covers several technologies on Google Cloud Platform for data transformation including BigQuery, executing Spark on Cloud Dataproc, pipeline graphs in Cloud Data Fusion and serverless data processing with Cloud Dataflow. Learners will get hands-on experience building data pipeline components on Google Cloud Platform using QwikLabs.\n"
     ]
    },
    {
     "name": "stderr",
     "output_type": "stream",
     "text": [
      "101it [09:13,  5.76s/it]"
     ]
    },
    {
     "name": "stdout",
     "output_type": "stream",
     "text": [
      "==============\n",
      "==============\n",
      "==============\n",
      "mrr 0.14285714285714285\n",
      "RANK 6\n",
      "job title Human Resources Specialists, Recruiter\n",
      "original 4. Pre-Fund Maintenance on TLS\n",
      "original \n",
      "This course provides information to perform pre-fund maintenance functions on the Term Lending System (TLS), including screen index organization, key features of selected screens and interactive customer scenarios. Estimated completion time is 30 minutes.\n"
     ]
    },
    {
     "name": "stderr",
     "output_type": "stream",
     "text": [
      "102it [09:19,  5.62s/it]"
     ]
    },
    {
     "name": "stdout",
     "output_type": "stream",
     "text": [
      "==============\n",
      "==============\n",
      "==============\n",
      "mrr 1.0\n",
      "RANK 0\n",
      "job title Computer and Information Systems Managers, Technology Director\n",
      "original 2019 OFAC Exemption Course\n",
      "original Retire ---\n",
      "\n",
      "You are exempted from completing the curriculum \"C_2019_OFAC_30D\". Alternatively, you will be assigned with \"C_2019_OFAC_60D\".\n"
     ]
    },
    {
     "name": "stderr",
     "output_type": "stream",
     "text": [
      "103it [09:23,  5.31s/it]"
     ]
    },
    {
     "name": "stdout",
     "output_type": "stream",
     "text": [
      "==============\n",
      "==============\n",
      "==============\n",
      "mrr 0.5\n",
      "RANK 1\n",
      "job title Personal Financial Advisors, Personal Banker\n",
      "original Token Course to Trigger Program Survey - Complaints\n",
      "original \n"
     ]
    },
    {
     "name": "stderr",
     "output_type": "stream",
     "text": [
      "104it [09:28,  5.09s/it]"
     ]
    },
    {
     "name": "stdout",
     "output_type": "stream",
     "text": [
      "==============\n",
      "==============\n",
      "==============\n",
      "mrr 0.004830917874396135\n",
      "RANK 206\n",
      "job title Computer and Information Systems Managers, Information Technology Administrator (IT Administrator)\n",
      "original Penetration Testing Essential Training\n",
      "original You've secured your systems, trained your users, and fortified your network. Think you're ready to handle a cybersecurity threat? Penetration testing is one of the best ways to see if your security will hold. It puts testers in the role of attackers, looking for vulnerabilities in your networks, computers, applications, email, and users. This course provides an introduction to the key knowledge and skills to start a program of professional penetration testing at your organization. Cybersecurity expert Malcolm Shore reviews popular pen testing tools, as well as the Bash and Python scripting skills required to be able to acquire, modify, and re-use exploit code. He also provides a refresher on the Kali Linux penetration testing toolbox, approaches to web testing, and several important facets of exploit code. At the end of this course, you'll be prepared to take more advanced training and to pursue the popular Offensive Security Certified Professional (OSCP) certification.\n"
     ]
    },
    {
     "name": "stderr",
     "output_type": "stream",
     "text": [
      "105it [09:33,  5.01s/it]"
     ]
    },
    {
     "name": "stdout",
     "output_type": "stream",
     "text": [
      "==============\n",
      "==============\n",
      "==============\n",
      "mrr 0.006493506493506494\n",
      "RANK 153\n",
      "job title Chief Executives, Aeronautics Commission Director\n",
      "original ECDL/ICDL 4 Module 4: Spreadsheets - Formulas and Functions in Excel 2003\n",
      "original \n"
     ]
    },
    {
     "name": "stderr",
     "output_type": "stream",
     "text": [
      "106it [09:38,  5.04s/it]"
     ]
    },
    {
     "name": "stdout",
     "output_type": "stream",
     "text": [
      "==============\n",
      "==============\n",
      "==============\n",
      "mrr 0.3333333333333333\n",
      "RANK 2\n",
      "job title Loan Officers, Consumer Lending Specialist\n",
      "original Describe Credit - ScotiaLine Personal Lines of Credit*\n",
      "original \n",
      "Audience: Retail Sales Officers Content Summary: Learning Guide reviews the definition and characteristics of lines of credit, as well as ScotiaLine Protection takes the learner through each line of credit product and introduces the ScotiaLine Pricing Tool contains resource links to online information and job aids Completion time is approximately 1 to 1.5 hours.\n"
     ]
    },
    {
     "name": "stderr",
     "output_type": "stream",
     "text": [
      "107it [09:43,  4.99s/it]"
     ]
    },
    {
     "name": "stdout",
     "output_type": "stream",
     "text": [
      "==============\n",
      "==============\n",
      "==============\n",
      "mrr 0.14285714285714285\n",
      "RANK 6\n",
      "job title General and Operations Managers, Operational Risk Manager\n",
      "original IP Module 4. Holds (Investment Platform)\n",
      "original \n"
     ]
    },
    {
     "name": "stderr",
     "output_type": "stream",
     "text": [
      "108it [09:48,  5.18s/it]"
     ]
    },
    {
     "name": "stdout",
     "output_type": "stream",
     "text": [
      "==============\n",
      "==============\n",
      "==============\n",
      "mrr 0.2\n",
      "RANK 4\n",
      "job title Business Operations Specialists, All Other, Branch Operation Evaluation Manager\n",
      "original Token - Managers - Annual Creditor Insurance Certification Program for Canadian Banking\n",
      "original \n"
     ]
    },
    {
     "name": "stderr",
     "output_type": "stream",
     "text": [
      "109it [09:54,  5.25s/it]"
     ]
    },
    {
     "name": "stdout",
     "output_type": "stream",
     "text": [
      "==============\n",
      "==============\n",
      "==============\n",
      "mrr 0.0012004801920768306\n",
      "RANK 832\n",
      "job title Customer Service Representatives, Customer Service Professional\n",
      "original Describe Retail Collection (NCC)\n",
      "original \n",
      "Audience: Retail Sales Officer Trainee Content Summary: Learning Guide reviews the role of the National Collection Centre and how branches interact with it examines bank reports used to indicate delinquent creditcontains resource links to online information Completion time is approximately 15 to 30 minutes.\n"
     ]
    },
    {
     "name": "stderr",
     "output_type": "stream",
     "text": [
      "110it [09:59,  5.35s/it]"
     ]
    },
    {
     "name": "stdout",
     "output_type": "stream",
     "text": [
      "==============\n",
      "==============\n",
      "==============\n",
      "mrr 0.018518518518518517\n",
      "RANK 53\n",
      "job title Financial Managers, Branch Manager\n",
      "original 751 - Integration Activity - Financial Plan\n",
      "original \n"
     ]
    },
    {
     "name": "stderr",
     "output_type": "stream",
     "text": [
      "111it [10:04,  5.33s/it]"
     ]
    },
    {
     "name": "stdout",
     "output_type": "stream",
     "text": [
      "==============\n",
      "==============\n",
      "==============\n",
      "mrr 0.0004714757190004715\n",
      "RANK 2120\n",
      "job title Business Operations Specialists, All Other, Branch Operation Evaluation Manager\n",
      "original Managing Change and Productivity\n",
      "original \n"
     ]
    },
    {
     "name": "stderr",
     "output_type": "stream",
     "text": [
      "112it [10:09,  5.14s/it]"
     ]
    },
    {
     "name": "stdout",
     "output_type": "stream",
     "text": [
      "==============\n",
      "==============\n",
      "==============\n",
      "mrr 0.045454545454545456\n",
      "RANK 21\n",
      "job title Chief Executives, Aeronautics Commission Director\n",
      "original AMOS:  Final Test\n",
      "original \n"
     ]
    },
    {
     "name": "stderr",
     "output_type": "stream",
     "text": [
      "113it [10:14,  5.01s/it]"
     ]
    },
    {
     "name": "stdout",
     "output_type": "stream",
     "text": [
      "==============\n",
      "==============\n",
      "==============\n",
      "mrr 1.0\n",
      "RANK 0\n",
      "job title Construction Laborers, Municipal Maintenance Worker\n",
      "original Token Course to Trigger Program Survey - Complaints\n",
      "original \n"
     ]
    },
    {
     "name": "stderr",
     "output_type": "stream",
     "text": [
      "114it [10:19,  5.03s/it]"
     ]
    },
    {
     "name": "stdout",
     "output_type": "stream",
     "text": [
      "==============\n",
      "==============\n",
      "==============\n",
      "mrr 0.00035549235691432633\n",
      "RANK 2812\n",
      "job title Loan Officers, Personal Banking Officer\n",
      "original Cap y CRM en Sucursales\n",
      "original System Review and Different CAP Options for Branch Customers\n"
     ]
    },
    {
     "name": "stderr",
     "output_type": "stream",
     "text": [
      "115it [10:24,  5.09s/it]"
     ]
    },
    {
     "name": "stdout",
     "output_type": "stream",
     "text": [
      "==============\n",
      "==============\n",
      "==============\n",
      "mrr 0.3333333333333333\n",
      "RANK 2\n",
      "job title Customer Service Representatives, Customer Service Professional\n",
      "original 2. TLS Overview\n",
      "original \n",
      "This course provides an introductory overview of the Term Lending System (TLS) including summary screens, screen index organization and additional features available on TLS. Estimated completion time is 30 minutes.\n"
     ]
    },
    {
     "name": "stderr",
     "output_type": "stream",
     "text": [
      "116it [10:30,  5.18s/it]"
     ]
    },
    {
     "name": "stdout",
     "output_type": "stream",
     "text": [
      "==============\n",
      "==============\n",
      "==============\n",
      "mrr 0.125\n",
      "RANK 7\n",
      "job title Healthcare Social Workers, Geriatric Social Worker\n",
      "original 1. Getting Started with TLS\n",
      "original \n",
      "This course provides information about navigation of the Term Lending System (TLS) courses, lesson structure, and the support materials required to use TLS. Estimated completion time is 10 minutes.\n"
     ]
    },
    {
     "name": "stderr",
     "output_type": "stream",
     "text": [
      "117it [10:35,  5.18s/it]"
     ]
    },
    {
     "name": "stdout",
     "output_type": "stream",
     "text": [
      "==============\n",
      "==============\n",
      "==============\n",
      "mrr 0.0045662100456621\n",
      "RANK 218\n",
      "job title Office Clerks, General, Document Coordinator\n",
      "original Designación de beneficiario\n",
      "original This session explains the proper designation of beneficiaries\n"
     ]
    },
    {
     "name": "stderr",
     "output_type": "stream",
     "text": [
      "118it [10:40,  5.09s/it]"
     ]
    },
    {
     "name": "stdout",
     "output_type": "stream",
     "text": [
      "==============\n",
      "==============\n",
      "==============\n",
      "mrr 0.3333333333333333\n",
      "RANK 2\n",
      "job title Customer Service Representatives, Client Relations Specialist\n",
      "original 2022 Token Course - Employee - Annual Creditor Insurance Certification Program for Retail Banking - CEA\n",
      "original \n"
     ]
    },
    {
     "name": "stderr",
     "output_type": "stream",
     "text": [
      "119it [10:44,  5.01s/it]"
     ]
    },
    {
     "name": "stdout",
     "output_type": "stream",
     "text": [
      "==============\n",
      "==============\n",
      "==============\n",
      "mrr 1.0\n",
      "RANK 0\n",
      "job title Compensation and Benefits Managers, Global Compensation Director\n",
      "original Finance Development Day July 28 2021 Session 2 - The Future of the Bank \n",
      "original Executive presentation from Michael Zerbs and Shawn Rose \n"
     ]
    },
    {
     "name": "stderr",
     "output_type": "stream",
     "text": [
      "120it [10:49,  4.93s/it]"
     ]
    },
    {
     "name": "stdout",
     "output_type": "stream",
     "text": [
      "==============\n",
      "==============\n",
      "==============\n",
      "mrr 0.5\n",
      "RANK 1\n",
      "job title Chief Executives, Aeronautics Commission Director\n",
      "original Scotiabank U.S. Policy on Interacting with U.S. Government Officials and Political Activity\t\n",
      "\n",
      "original This training outlines the applicable laws associated with political activity and discusses the various ways in which Scotiabank mitigates the associated risks. U.S. federal, state, and local laws that relate to political activity include the following: political contributions, lobbying efforts, gifts and entertainment associated with Public Officials, and employees seeking elected or appointed government office. \t\n",
      "\t\n",
      "\t\n",
      "\n"
     ]
    },
    {
     "name": "stderr",
     "output_type": "stream",
     "text": [
      "121it [10:54,  4.87s/it]"
     ]
    },
    {
     "name": "stdout",
     "output_type": "stream",
     "text": [
      "==============\n",
      "==============\n",
      "==============\n",
      "mrr 0.0007757951900698216\n",
      "RANK 1288\n",
      "job title Camera Operators, Television, Video, and Film, Legal Videographer\n",
      "original Scotia Pro - Módulo de Clientes\n",
      "original Upon completion of this course, participants will be able to: - Register a new client in the system, whether commercial, personal or other. - Make changes and updates to the client in the different fields. - Consult the information previously entered in the system. - Make inquiries about the Client's Position - Approve, Reject or Delete clients (with authorization according to the delegation of authority). - Generate the Know Your Customer File from the system.\n"
     ]
    },
    {
     "name": "stderr",
     "output_type": "stream",
     "text": [
      "122it [10:59,  5.04s/it]"
     ]
    },
    {
     "name": "stdout",
     "output_type": "stream",
     "text": [
      "==============\n",
      "==============\n",
      "==============\n",
      "mrr 1.0\n",
      "RANK 0\n",
      "job title Customer Service Representatives, Customer Service Professional\n",
      "original IP Module 6. Transfers and Redemptions (Investment Platform)\n",
      "original \n"
     ]
    },
    {
     "name": "stderr",
     "output_type": "stream",
     "text": [
      "123it [11:04,  4.99s/it]"
     ]
    },
    {
     "name": "stdout",
     "output_type": "stream",
     "text": [
      "==============\n",
      "==============\n",
      "==============\n",
      "mrr 0.14285714285714285\n",
      "RANK 6\n",
      "job title Customer Service Representatives, Customer Service Associate\n",
      "original 2022 Token Course - Employee - Annual Creditor Insurance Certification Program for Retail Banking - CEA\n",
      "original \n"
     ]
    },
    {
     "name": "stderr",
     "output_type": "stream",
     "text": [
      "124it [11:10,  5.19s/it]"
     ]
    },
    {
     "name": "stdout",
     "output_type": "stream",
     "text": [
      "==============\n",
      "==============\n",
      "==============\n",
      "mrr 0.3333333333333333\n",
      "RANK 2\n",
      "job title Management Analysts, Employment Programs Analyst\n",
      "original 2020 iLead  PME - Assignment Indicator\n",
      "original This course has been credit to the learning plan of employees for the purpose of facilitating the correct assignment for the People Manager Essentials program to distinguish new and existing people managers as of December 31, 2019. If you have any questions, please contact Ask HR.\n"
     ]
    },
    {
     "name": "stderr",
     "output_type": "stream",
     "text": [
      "125it [11:16,  5.35s/it]"
     ]
    },
    {
     "name": "stdout",
     "output_type": "stream",
     "text": [
      "==============\n",
      "==============\n",
      "==============\n",
      "mrr 0.007462686567164179\n",
      "RANK 133\n",
      "job title Tellers, Retail Banker\n",
      "original Labour Relations Overview 2005/2006\n",
      "original \n"
     ]
    },
    {
     "name": "stderr",
     "output_type": "stream",
     "text": [
      "126it [11:21,  5.39s/it]"
     ]
    },
    {
     "name": "stdout",
     "output_type": "stream",
     "text": [
      "==============\n",
      "==============\n",
      "==============\n",
      "mrr 0.16666666666666666\n",
      "RANK 5\n",
      "job title Personal Financial Advisors, Strategist\n",
      "original 4. Pre-Fund Maintenance on TLS\n",
      "original \n",
      "This course provides information to perform pre-fund maintenance functions on the Term Lending System (TLS), including screen index organization, key features of selected screens and interactive customer scenarios. Estimated completion time is 30 minutes.\n"
     ]
    },
    {
     "name": "stderr",
     "output_type": "stream",
     "text": [
      "127it [11:26,  5.39s/it]"
     ]
    },
    {
     "name": "stdout",
     "output_type": "stream",
     "text": [
      "==============\n",
      "==============\n",
      "==============\n",
      "mrr 0.019230769230769232\n",
      "RANK 51\n",
      "job title Information Security Engineers, Information Security Architect\n",
      "original Run Your Application across Multiple Clouds with Anthos\n",
      "original There are multiple reasons why you might choose to run your application on multiple clouds. Join this session to see a live demo of how you can split your application’s services across clouds with Anthos and still maintain central visibility, observability and management in one spot.\n"
     ]
    },
    {
     "name": "stderr",
     "output_type": "stream",
     "text": [
      "128it [11:32,  5.43s/it]"
     ]
    },
    {
     "name": "stdout",
     "output_type": "stream",
     "text": [
      "==============\n",
      "==============\n",
      "==============\n",
      "mrr 1.0\n",
      "RANK 0\n",
      "job title Business Operations Specialists, All Other, Branch Operation Evaluation Manager\n",
      "original 6. Cancel Mortgage on TLS\n",
      "original \n",
      "This course provides information required to cancel a mortgage on the Term Lending System (TLS). Estimated completion time is 10 minutes.\n"
     ]
    },
    {
     "name": "stderr",
     "output_type": "stream",
     "text": [
      "129it [11:37,  5.27s/it]"
     ]
    },
    {
     "name": "stdout",
     "output_type": "stream",
     "text": [
      "==============\n",
      "==============\n",
      "==============\n",
      "mrr 0.03571428571428571\n",
      "RANK 27\n",
      "job title Computer User Support Specialists, Applications Analyst\n",
      "original Core Python 3: Functions and Functional Programming\n",
      "original In Python, as with most programming languages, functions are a fundamental tool for managing program complexity. Understanding how to use functions fluently is a key skill on the road to mastering Python, as is knowing alternative techniques for the cases where functions are insufficient for your needs. In this course,Core Python 3: Functions and Functional Programming, you'll learn about some of the finer details of using functions as well as more general concepts that subsume them. First, you'll look at the various types of callable objects in Python, along with extended argument definition and calling syntax. Then, you'll explore local functions and the concept of closures that allow them to work. Next, you'll discover Python's powerful system of decorators which allow you to enhance or modify existing functions. Finally, you'll understand the functional-style programming tools in Python along with advanced use of comprehensions. By the end of this course, you'll have a deeper understanding of Python's sophisticated approach to calling functions, and you'll see that functions are actually just one aspect of a more general set of concepts in the language. \n",
      "\n"
     ]
    },
    {
     "name": "stderr",
     "output_type": "stream",
     "text": [
      "130it [11:42,  5.24s/it]"
     ]
    },
    {
     "name": "stdout",
     "output_type": "stream",
     "text": [
      "==============\n",
      "==============\n",
      "==============\n",
      "mrr 0.008620689655172414\n",
      "RANK 115\n",
      "job title Administrative Services Managers, Administrative Coordinator\n",
      "original Investing in You: Start an Investment Conversation\n",
      "original \n",
      "Complete following Session #2 'Starting an Investment Conversation'. Note: If learning resources i.e. Video 2: Starting an Investment Conversation, Participant Materials, and/or Reference Guide cannot be located in the Branch, they can be ordered throughthe HR Call Centre @ 1-888-888-8089.\n"
     ]
    },
    {
     "name": "stderr",
     "output_type": "stream",
     "text": [
      "131it [11:47,  5.14s/it]"
     ]
    },
    {
     "name": "stdout",
     "output_type": "stream",
     "text": [
      "==============\n",
      "==============\n",
      "==============\n",
      "mrr 0.00020521239482864764\n",
      "RANK 4872\n",
      "job title General and Operations Managers, Area Manager\n",
      "original Diversity Awareness Workshop\n",
      "original \n"
     ]
    },
    {
     "name": "stderr",
     "output_type": "stream",
     "text": [
      "132it [11:52,  5.14s/it]"
     ]
    },
    {
     "name": "stdout",
     "output_type": "stream",
     "text": [
      "==============\n",
      "==============\n",
      "==============\n",
      "mrr 0.5\n",
      "RANK 1\n",
      "job title Chief Executives, Aeronautics Commission Director\n",
      "original 7. Post-Fund Maintenance on TLS\n",
      "original \n",
      "This course provides information to perform post-fund maintenance functions on the Term Lending System (TLS), including screen index organization, key features of selected screens and interactive customer scenarios. Estimated completion time is 60 minutes.\n"
     ]
    },
    {
     "name": "stderr",
     "output_type": "stream",
     "text": [
      "133it [11:57,  5.19s/it]"
     ]
    },
    {
     "name": "stdout",
     "output_type": "stream",
     "text": [
      "==============\n",
      "==============\n",
      "==============\n",
      "mrr 0.005405405405405406\n",
      "RANK 184\n",
      "job title Chief Executives, Aeronautics Commission Director\n",
      "original Describe Registered Products\n",
      "original \n"
     ]
    },
    {
     "name": "stderr",
     "output_type": "stream",
     "text": [
      "134it [12:03,  5.21s/it]"
     ]
    },
    {
     "name": "stdout",
     "output_type": "stream",
     "text": [
      "==============\n",
      "==============\n",
      "==============\n",
      "mrr 0.2\n",
      "RANK 4\n",
      "job title Customer Service Representatives, Customer Service Professional\n",
      "original 8. TLS Inquiry\n",
      "original \n",
      "In this course, you will learn how to view information on the Term Lending System (TLS) both before and after a mortgage is funded. Estimated completion time is 20 minutes.\n"
     ]
    },
    {
     "name": "stderr",
     "output_type": "stream",
     "text": [
      "135it [12:08,  5.15s/it]"
     ]
    },
    {
     "name": "stdout",
     "output_type": "stream",
     "text": [
      "==============\n",
      "==============\n",
      "==============\n",
      "mrr 0.09090909090909091\n",
      "RANK 10\n",
      "job title Tellers, Retail Banker\n",
      "original Set Up a Standalone Mortgage\n",
      "original \n",
      "This is the practical component for Standalone Mortgage.\n"
     ]
    },
    {
     "name": "stderr",
     "output_type": "stream",
     "text": [
      "136it [12:13,  5.06s/it]"
     ]
    },
    {
     "name": "stdout",
     "output_type": "stream",
     "text": [
      "==============\n",
      "==============\n",
      "==============\n",
      "mrr 0.5\n",
      "RANK 1\n",
      "job title Software Developers, Software Engineering Supervisor\n",
      "original Feedback survey - Cultural Agility Program\n",
      "original \n"
     ]
    },
    {
     "name": "stderr",
     "output_type": "stream",
     "text": [
      "137it [12:17,  4.86s/it]"
     ]
    },
    {
     "name": "stdout",
     "output_type": "stream",
     "text": [
      "==============\n",
      "==============\n",
      "==============\n",
      "mrr 0.06666666666666667\n",
      "RANK 14\n",
      "job title Concierges, Personal Assistant\n",
      "original EtapaPracticaModernizaciónF2AreasCentrales\n",
      "original Train and Reinforce in Central Areas the changes to be released by Modernization for Phase 2. These changes focus on the processes of changing 70 systems to Scotia Pro. With the certification by the participants in these processes, it will contribute to CUSTOMER FOCUS, LEADERSHIP, STRUCTURAL COSTS, DIGITAL TRANSFORMATION, ALIGNING THE BUSINESS COMBINATION.\n"
     ]
    },
    {
     "name": "stderr",
     "output_type": "stream",
     "text": [
      "138it [12:23,  5.20s/it]"
     ]
    },
    {
     "name": "stdout",
     "output_type": "stream",
     "text": [
      "==============\n",
      "==============\n",
      "==============\n",
      "mrr 0.004464285714285714\n",
      "RANK 223\n",
      "job title Public Relations Managers, Communications Director\n",
      "original Productivity Mgmt - Intensive\n",
      "original \n",
      "Grasp the systemic approach to long-term productivity. Learn to focus on the critical processes that add value: using technology, people and proprietary know-how to create value-added services. Understand the value of client service, business process engineering and the development of information and control systems. Topics Include: Value and Productivity; Control Systems within Financial Institutions; The Value Chain and Banking Processes; The Human Dimension of Productivity; Information Systems.\n"
     ]
    },
    {
     "name": "stderr",
     "output_type": "stream",
     "text": [
      "139it [12:28,  5.32s/it]"
     ]
    },
    {
     "name": "stdout",
     "output_type": "stream",
     "text": [
      "==============\n",
      "==============\n",
      "==============\n",
      "mrr 0.018518518518518517\n",
      "RANK 53\n",
      "job title Financial Managers, Banking Branch Manager\n",
      "original Ètablissement d'une fiducie -- Quebec\n",
      "original You can make your refund request online or by using the Course Cancellation Request Form and faxing it to CSI. NOTE: Scotiabank students must cancel the course through the LMS system. * No refunds are given for printed textbooks, courseware (including practice exams), online courses and products, continuing education courses, and certificate frames.\n",
      "By the end of this course, you will be able to: - explain the legal principles and rules governing the creation of trusts; - describe the duties of trustees and the rights of beneficiaries with respect to the administration of trust property; - explain the structure and design of a trust agreement; - identify instances where a trust would be appropriate for a client's situation; - assist and guide clients in the effective use of trusts to achieve their financial and estate planning objectives; - explain the advantages of using a corporate trustee.\n",
      "This course examines the role of the modern trust company in the area of personal trusts. You will learn when and why clients should use trusts as financial planning vehicles and explore the general rules governing the taxation of the individual on death and of personal trusts, as well as the legal rules and principles governing the creation and administration of trusts, the rights and obligations of the trustee, and the rights of beneficiaries.\n"
     ]
    },
    {
     "name": "stderr",
     "output_type": "stream",
     "text": [
      "140it [12:34,  5.39s/it]"
     ]
    },
    {
     "name": "stdout",
     "output_type": "stream",
     "text": [
      "==============\n",
      "==============\n",
      "==============\n",
      "mrr 0.014705882352941176\n",
      "RANK 67\n",
      "job title Architectural and Engineering Managers, Product Development Director\n",
      "original Ethical Hacking: Hacking Web Servers and Web Applications\n",
      "original Websites and web applications are—by their very nature—accessible remotely, which puts them at high risk of cyberattacks. Knowing how to detect and prevent web attacks is a critical skill for developers and information security professionals alike. In this course, find out about existing and emerging web protocols and how to test your sites and applications for weaknesses. Cybersecurity expert Malcolm Shore examines the various parts of a web application and introduces the Open Web Application Security Project (OWASP), which provides documentation, tools, and forums for web developers and testers. He also provides an overview of popular testing tools, including Burp Suite and OWASP ZAP. Learn how to use these utilities to run basic and advanced tests, and protect sites against common attacks. Note: The Ethical Hacking series maps to the 20 parts of the EC-Council Certified Ethical Hacker (CEH) exam (312-50) version 11.\n"
     ]
    },
    {
     "name": "stderr",
     "output_type": "stream",
     "text": [
      "141it [12:39,  5.38s/it]"
     ]
    },
    {
     "name": "stdout",
     "output_type": "stream",
     "text": [
      "==============\n",
      "==============\n",
      "==============\n",
      "mrr 1.0\n",
      "RANK 0\n",
      "job title Tellers, Retail Banker\n",
      "original Describe CDIC for Sales (2005)\n",
      "original \n",
      "Audience: Retail Sales Officers Content Summary: covers eligible and ineligible deposits reviews insurance coverage limits outlines the Scotiabank Group CDIC member institutions this course was updated August 5, 2005 to reflect the CDIC Insurance limit change to $100,000 Completion time is approximately 20 minutes.\n"
     ]
    },
    {
     "name": "stderr",
     "output_type": "stream",
     "text": [
      "142it [12:44,  5.24s/it]"
     ]
    },
    {
     "name": "stdout",
     "output_type": "stream",
     "text": [
      "==============\n",
      "==============\n",
      "==============\n",
      "mrr 0.009433962264150943\n",
      "RANK 105\n",
      "job title Chief Executives, Aeronautics Commission Director\n",
      "original Évaluation du risque:l'environnement économique\n",
      "original You can submit your cancellation and refund request online or by faxing CSI using the Course Cancellation Request form. NOTE: Scotiabank students must cancel the course using the LMS system. * No refunds are given for printed textbooks, courseware (including practice exams), online courses and products, continuing education courses, and certificate frames.\n",
      "Participants will be able to:-Understand the nature of credit risk and how external events beyond the borrower's control can affect the borrower;-Appreciate why banks structure their credit activities to minimize risk rather than maximize revenue;-Understand how the external economic environment can affect the quality of a loan portfolio;-Analyze the structure of an industry, its performance, opportunities and risks;-Understand the nature of loan selection, profit opportunities, loss risks and diversification strategies;-Use analytical tools to assess interindustry linkages.\n",
      "This course reviews the theories and analytical frameworks for understanding the national and provincial economy. It also examines linkages between different sectors of the economy to facilitate the analysis of economic and sector risks faced by SMEs. The objective of this course is to help Account Managers develop their own analytical frameworks for interpreting sector and economic developments and for understanding the risks associated with the forces at work.\n"
     ]
    },
    {
     "name": "stderr",
     "output_type": "stream",
     "text": [
      "143it [12:50,  5.22s/it]"
     ]
    },
    {
     "name": "stdout",
     "output_type": "stream",
     "text": [
      "==============\n",
      "==============\n",
      "==============\n",
      "mrr 0.00038211692777990065\n",
      "RANK 2616\n",
      "job title Personal Financial Advisors, Financial Professional\n",
      "original Sales and Service - Selling Skills Update\n",
      "original \n"
     ]
    },
    {
     "name": "stderr",
     "output_type": "stream",
     "text": [
      "144it [12:54,  5.13s/it]"
     ]
    },
    {
     "name": "stdout",
     "output_type": "stream",
     "text": [
      "==============\n",
      "==============\n",
      "==============\n",
      "mrr 0.0003234152652005175\n",
      "RANK 3091\n",
      "job title Loan Officers, Home Lending Advisor\n",
      "original Cours sur les fonds d’investissement au Canada\n",
      "original \n",
      " For mutual fund representatives, there is nothing else in the industry that compares to the CFIC course. The course replicates the process they will most often follow with clients. At the end of the course, participants will have acquired a solid foundation that will help them become successful mutual fund representatives.\n"
     ]
    },
    {
     "name": "stderr",
     "output_type": "stream",
     "text": [
      "145it [12:59,  5.08s/it]"
     ]
    },
    {
     "name": "stdout",
     "output_type": "stream",
     "text": [
      "==============\n",
      "==============\n",
      "==============\n",
      "mrr 0.003278688524590164\n",
      "RANK 304\n",
      "job title Chief Executives, Aeronautics Commission Director\n",
      "original The Undercover Economist: The Economics behind Everyday Decisions (Blinkist Summary)\n",
      "original Economics play a major role in shaping our everyday lives—from the lattes we buy in the morning to the traffic jams we encounter on our way home. In The Undercover Economist, author Tim Harford demystifies economic systems, explaining how they impact the basic choices we make each day. This audiobook summary gleans some of the most salient points from The Undercover Economist and distills them into bite-sized tips. Learn about the strategies companies use to get you to pay more for products, how corruption holds back economic development, and more. Plus, get practical advice for making smarter choices as consumers. Note: This audiobook summary was produced by Blinkist. We are pleased to host this content in our library.\n"
     ]
    },
    {
     "name": "stderr",
     "output_type": "stream",
     "text": [
      "146it [13:04,  5.06s/it]"
     ]
    },
    {
     "name": "stdout",
     "output_type": "stream",
     "text": [
      "==============\n",
      "==============\n",
      "==============\n",
      "mrr 0.000946073793755913\n",
      "RANK 1056\n",
      "job title Business Operations Specialists, All Other, Branch Operation Evaluation Manager\n",
      "original Tutorial-Wealth Valuation\n",
      "original \n"
     ]
    },
    {
     "name": "stderr",
     "output_type": "stream",
     "text": [
      "147it [13:09,  4.89s/it]"
     ]
    },
    {
     "name": "stdout",
     "output_type": "stream",
     "text": [
      "==============\n",
      "==============\n",
      "==============\n",
      "mrr 0.03571428571428571\n",
      "RANK 27\n",
      "job title Business Intelligence Analysts, Business Systems Consultant\n",
      "original Feedback survey - Cultural Agility Program\n",
      "original \n"
     ]
    },
    {
     "name": "stderr",
     "output_type": "stream",
     "text": [
      "148it [13:14,  4.83s/it]"
     ]
    },
    {
     "name": "stdout",
     "output_type": "stream",
     "text": [
      "==============\n",
      "==============\n",
      "==============\n",
      "mrr 0.25\n",
      "RANK 3\n",
      "job title Customer Service Representatives, Client Relations Specialist\n",
      "original Token - Employees - Annual Creditor Insurance Certification Program for Canadian Banking\n",
      "original \n"
     ]
    },
    {
     "name": "stderr",
     "output_type": "stream",
     "text": [
      "149it [13:19,  4.99s/it]"
     ]
    },
    {
     "name": "stdout",
     "output_type": "stream",
     "text": [
      "==============\n",
      "==============\n",
      "==============\n",
      "mrr 0.5\n",
      "RANK 1\n",
      "job title Tellers, Retail Banker\n",
      "original Describe a Standalone Mortgage Setup\n",
      "original \n",
      "The 'Describe a Standalone Mortgage Setup' learning offering provides step-by-step instruction on how to process a Standalone Mortgage. The French version of this learning offering is not yet available. It will be coming soon.\n"
     ]
    },
    {
     "name": "stderr",
     "output_type": "stream",
     "text": [
      "150it [13:24,  5.14s/it]"
     ]
    },
    {
     "name": "stdout",
     "output_type": "stream",
     "text": [
      "==============\n",
      "==============\n",
      "==============\n",
      "mrr 0.16666666666666666\n",
      "RANK 5\n",
      "job title Sales Managers, Account Manager\n",
      "original 1. Getting Started with TLS\n",
      "original \n",
      "This course provides information about navigation of the Term Lending System (TLS) courses, lesson structure, and the support materials required to use TLS. Estimated completion time is 10 minutes.\n"
     ]
    },
    {
     "name": "stderr",
     "output_type": "stream",
     "text": [
      "151it [13:29,  5.10s/it]"
     ]
    },
    {
     "name": "stdout",
     "output_type": "stream",
     "text": [
      "==============\n",
      "==============\n",
      "==============\n",
      "mrr 0.5\n",
      "RANK 1\n",
      "job title Sales Managers, Account Manager\n",
      "original IP Module 3. Maintaining Plans and Investments (Investment Platform)\n",
      "original \n"
     ]
    },
    {
     "name": "stderr",
     "output_type": "stream",
     "text": [
      "152it [13:35,  5.18s/it]"
     ]
    },
    {
     "name": "stdout",
     "output_type": "stream",
     "text": [
      "==============\n",
      "==============\n",
      "==============\n",
      "mrr 0.3333333333333333\n",
      "RANK 2\n",
      "job title Credit Analysts, Credit Risk Manager\n",
      "original IP Module 5. Purchase Investments (Investment Platform)\n",
      "original \n"
     ]
    },
    {
     "name": "stderr",
     "output_type": "stream",
     "text": [
      "153it [13:40,  5.09s/it]"
     ]
    },
    {
     "name": "stdout",
     "output_type": "stream",
     "text": [
      "==============\n",
      "==============\n",
      "==============\n",
      "mrr 0.000390015600624025\n",
      "RANK 2563\n",
      "job title Library Assistants, Clerical, Reference Assistant\n",
      "original AplicaciónDebidaDiligenciaMejorada\n",
      "original A training that seeks to explain in depth the issues\n",
      "related to the application of Due Diligence to the areas involved in the development and review of this process\n"
     ]
    },
    {
     "name": "stderr",
     "output_type": "stream",
     "text": [
      "154it [13:45,  5.02s/it]"
     ]
    },
    {
     "name": "stdout",
     "output_type": "stream",
     "text": [
      "==============\n",
      "==============\n",
      "==============\n",
      "mrr 0.00011868027533823879\n",
      "RANK 8425\n",
      "job title Compliance Officers, Mortician Investigator\n",
      "original Crear presentaciones en PowerPoint 2013\n",
      "original With Microsoft PowerPoint 2013, you can create professional-looking slide presentations on your computer, tablet, and phone. This course introduces the major components of the PowerPoint 2013 interface, such as opening and saving a presentation, working with slides, formatting text and text boxes, and using templates and themes to create professional-looking presentations. You will also learn how to insert images, clip art, and shapes, as well as how to format images to make your presentation more impactful. This course will help students prepare for the Microsoft Certification 77-422: PowerPoint 2013 exam, which certifies students as a Microsoft Office Specialist (MOS): PowerPoint 2013.\n"
     ]
    },
    {
     "name": "stderr",
     "output_type": "stream",
     "text": [
      "155it [13:50,  5.01s/it]"
     ]
    },
    {
     "name": "stdout",
     "output_type": "stream",
     "text": [
      "==============\n",
      "==============\n",
      "==============\n",
      "mrr 0.3333333333333333\n",
      "RANK 2\n",
      "job title Healthcare Social Workers, Geriatric Social Worker\n",
      "original Scotia IT&S Professional Development Model\n",
      "original \n"
     ]
    },
    {
     "name": "stderr",
     "output_type": "stream",
     "text": [
      "156it [13:56,  5.55s/it]"
     ]
    },
    {
     "name": "stdout",
     "output_type": "stream",
     "text": [
      "==============\n",
      "==============\n",
      "==============\n",
      "mrr 0.09090909090909091\n",
      "RANK 10\n",
      "job title Customer Service Representatives, Customer Relations Representative\n",
      "original Describe No-Fee and Preferred ScotiaGold Visa\n",
      "original \n",
      "Audience: Retail Sales Officers Content Summary: outlines target customer summarizes product features and customer benefits covers insurance package information presents travel benefits includes ScotiaRewards program Completion time is approximately 30 minutes.\n"
     ]
    },
    {
     "name": "stderr",
     "output_type": "stream",
     "text": [
      "157it [14:02,  5.72s/it]"
     ]
    },
    {
     "name": "stdout",
     "output_type": "stream",
     "text": [
      "==============\n",
      "==============\n",
      "==============\n",
      "mrr 0.003952569169960474\n",
      "RANK 252\n",
      "job title Healthcare Social Workers, Geriatric Social Worker\n",
      "original Managing Change and Performance\n",
      "original \n"
     ]
    },
    {
     "name": "stderr",
     "output_type": "stream",
     "text": [
      "158it [14:08,  5.61s/it]"
     ]
    },
    {
     "name": "stdout",
     "output_type": "stream",
     "text": [
      "==============\n",
      "==============\n",
      "==============\n",
      "mrr 0.01818181818181818\n",
      "RANK 54\n",
      "job title Market Research Analysts and Marketing Specialists, Social Media Specialist\n",
      "original Cómo liderar con eficacia\n",
      "original Every leader faces the same problem: too much to do and not enough time to do it. In this course, executive coach Mike Figliuolo introduces the concept of \"leadership capital,\" which is the finite amount of time and energy you have to direct, manage, and develop your team members. Mike describes four ways to invest leadership capital: directing people, ensuring work gets done, confirming work is done correctly, and helping your team grow. You'll learn how to assess whether you're using leadership capital wisely by looking at team outcomes: quantity of work, quality of work, timeliness, and impact on motivation and relationships. Finally, Mike explains how to distribute leadership capital and change your own and your team's behavior to improve performance.\n"
     ]
    },
    {
     "name": "stderr",
     "output_type": "stream",
     "text": [
      "159it [14:13,  5.50s/it]"
     ]
    },
    {
     "name": "stdout",
     "output_type": "stream",
     "text": [
      "==============\n",
      "==============\n",
      "==============\n",
      "mrr 0.5\n",
      "RANK 1\n",
      "job title Customer Service Representatives, Customer Relations Representative\n",
      "original TLS Overview (Describe TLS Overview)\n",
      "original \n",
      "This learning offering provides an introductory overview of the Term Lending System (TLS) including summary screens, screen index organization and addtional features available on TLS.\n"
     ]
    },
    {
     "name": "stderr",
     "output_type": "stream",
     "text": [
      "160it [14:19,  5.51s/it]"
     ]
    },
    {
     "name": "stdout",
     "output_type": "stream",
     "text": [
      "==============\n",
      "==============\n",
      "==============\n",
      "mrr 0.1111111111111111\n",
      "RANK 8\n",
      "job title General and Operations Managers, District Manager\n",
      "original Token Course to Trigger Program Survey - Complaints\n",
      "original \n"
     ]
    },
    {
     "name": "stderr",
     "output_type": "stream",
     "text": [
      "161it [14:24,  5.42s/it]"
     ]
    },
    {
     "name": "stdout",
     "output_type": "stream",
     "text": [
      "==============\n",
      "==============\n",
      "==============\n",
      "mrr 0.25\n",
      "RANK 3\n",
      "job title Sales Managers, Account Manager\n",
      "original Describe Credit - ScotiaLine Personal Lines of Credit*\n",
      "original \n",
      "Audience: Retail Sales Officers Content Summary: Learning Guide reviews the definition and characteristics of lines of credit, as well as ScotiaLine Protection takes the learner through each line of credit product and introduces the ScotiaLine Pricing Tool contains resource links to online information and job aids Completion time is approximately 1 to 1.5 hours.\n"
     ]
    },
    {
     "name": "stderr",
     "output_type": "stream",
     "text": [
      "162it [14:29,  5.26s/it]"
     ]
    },
    {
     "name": "stdout",
     "output_type": "stream",
     "text": [
      "==============\n",
      "==============\n",
      "==============\n",
      "mrr 0.0010718113612004287\n",
      "RANK 932\n",
      "job title Compliance Managers, Compliance Director\n",
      "original Application - Fixed Income\n",
      "original \n"
     ]
    },
    {
     "name": "stderr",
     "output_type": "stream",
     "text": [
      "163it [14:34,  5.27s/it]"
     ]
    },
    {
     "name": "stdout",
     "output_type": "stream",
     "text": [
      "==============\n",
      "==============\n",
      "==============\n",
      "mrr 0.25\n",
      "RANK 3\n",
      "job title Healthcare Social Workers, Geriatric Social Worker\n",
      "original 7. Post-Fund Maintenance on TLS\n",
      "original \n",
      "This course provides information to perform post-fund maintenance functions on the Term Lending System (TLS), including screen index organization, key features of selected screens and interactive customer scenarios. Estimated completion time is 60 minutes.\n"
     ]
    },
    {
     "name": "stderr",
     "output_type": "stream",
     "text": [
      "164it [14:39,  5.21s/it]"
     ]
    },
    {
     "name": "stdout",
     "output_type": "stream",
     "text": [
      "==============\n",
      "==============\n",
      "==============\n",
      "mrr 0.0009124087591240876\n",
      "RANK 1095\n",
      "job title Training and Development Specialists, Auxiliary Personnel Inservice Coordinator\n",
      "original APERTURADECUENTASPBA\n",
      "original New and existing employees who need to know about the account opening process\n"
     ]
    },
    {
     "name": "stderr",
     "output_type": "stream",
     "text": [
      "165it [14:44,  5.18s/it]"
     ]
    },
    {
     "name": "stdout",
     "output_type": "stream",
     "text": [
      "==============\n",
      "==============\n",
      "==============\n",
      "mrr 0.000546448087431694\n",
      "RANK 1829\n",
      "job title Interpreters and Translators, Bilingual Secretary\n",
      "original August/September Knowledge Check\n",
      "original Retired - - -\n",
      "\n",
      "A monthly quiz to test frontline agent’s knowledge of informational changes that affect the Client experience. Changes are communicated through the S&S portal and reside of our knowledgebase solution (TangerineHelp).\n"
     ]
    },
    {
     "name": "stderr",
     "output_type": "stream",
     "text": [
      "166it [14:49,  5.14s/it]"
     ]
    },
    {
     "name": "stdout",
     "output_type": "stream",
     "text": [
      "==============\n",
      "==============\n",
      "==============\n",
      "mrr 0.00037893141341417203\n",
      "RANK 2638\n",
      "job title Customer Service Representatives, Customer Service Professional\n",
      "original 2022 Token Course - Employee - Annual Creditor Insurance Certification Program for Retail Banking - CSS\n",
      "original \n"
     ]
    },
    {
     "name": "stderr",
     "output_type": "stream",
     "text": [
      "167it [14:56,  5.56s/it]"
     ]
    },
    {
     "name": "stdout",
     "output_type": "stream",
     "text": [
      "==============\n",
      "==============\n",
      "==============\n",
      "mrr 0.16666666666666666\n",
      "RANK 5\n",
      "job title Personal Financial Advisors, Financial Consultant\n",
      "original Token Course for RLE FA Master Program Exemption\n",
      "original NO action required - course is used to exempt employee from taking RLE FA Master Program as they are not in scope.\n"
     ]
    },
    {
     "name": "stderr",
     "output_type": "stream",
     "text": [
      "168it [15:03,  5.99s/it]"
     ]
    },
    {
     "name": "stdout",
     "output_type": "stream",
     "text": [
      "==============\n",
      "==============\n",
      "==============\n",
      "mrr 0.08333333333333333\n",
      "RANK 11\n",
      "job title Training and Development Managers, Learning Manager\n",
      "original Describe Credit - ScotiaLine Personal Lines of Credit*\n",
      "original \n",
      "Audience: Retail Sales Officers Content Summary: Learning Guide reviews the definition and characteristics of lines of credit, as well as ScotiaLine Protection takes the learner through each line of credit product and introduces the ScotiaLine Pricing Tool contains resource links to online information and job aids Completion time is approximately 1 to 1.5 hours.\n"
     ]
    },
    {
     "name": "stderr",
     "output_type": "stream",
     "text": [
      "169it [15:08,  5.78s/it]"
     ]
    },
    {
     "name": "stdout",
     "output_type": "stream",
     "text": [
      "==============\n",
      "==============\n",
      "==============\n",
      "mrr 0.3333333333333333\n",
      "RANK 2\n",
      "job title Administrative Services Managers, Business Manager\n",
      "original 2019 OFAC Exemption Course\n",
      "original Retire ---\n",
      "\n",
      "You are exempted from completing the curriculum \"C_2019_OFAC_30D\". Alternatively, you will be assigned with \"C_2019_OFAC_60D\".\n"
     ]
    },
    {
     "name": "stderr",
     "output_type": "stream",
     "text": [
      "170it [15:13,  5.57s/it]"
     ]
    },
    {
     "name": "stdout",
     "output_type": "stream",
     "text": [
      "==============\n",
      "==============\n",
      "==============\n",
      "mrr 0.012195121951219513\n",
      "RANK 81\n",
      "job title Computer and Information Systems Managers, IT Portfolio Manager (Information Technology Portfolio Manager)\n",
      "original Agile Principles, Methodologies, and Mindset\n",
      "original In this course, you will be introduced to Agile project management, including the core values and principles outlined by the Agile Manifesto. Agile projects are characterized by the use of short work iterations and incremental development of products, made possible by focusing on business priorities and customer value. The course provides an introduction to common Agile methodologies, and discusses the considerations for adopting an Agile approach. It also covers the creation of an Agile product roadmap and it discusses contracts and documentation in the context of an Agile project. This course is aligned with the Agile Certified Practitioner exam objectives developed by the Project Management Institute®.\n"
     ]
    },
    {
     "name": "stderr",
     "output_type": "stream",
     "text": [
      "171it [15:18,  5.40s/it]"
     ]
    },
    {
     "name": "stdout",
     "output_type": "stream",
     "text": [
      "==============\n",
      "==============\n",
      "==============\n",
      "mrr 1.0\n",
      "RANK 0\n",
      "job title Sales Managers, Client Relationship Manager\n",
      "original Commercial Program Exemption Course \n",
      "original \n",
      "You are exempted from completing the curriculum \"C_2018_CB_CP\" based on your previous experience and knowledge.If you are interested in completing the program or courses, please feel free to self-assign the program or any of its courses. If you have any questions, please contact HR Services\n"
     ]
    },
    {
     "name": "stderr",
     "output_type": "stream",
     "text": [
      "172it [15:23,  5.32s/it]"
     ]
    },
    {
     "name": "stdout",
     "output_type": "stream",
     "text": [
      "==============\n",
      "==============\n",
      "==============\n",
      "mrr 0.5\n",
      "RANK 1\n",
      "job title Compliance Officers, Compliance Specialist\n",
      "original IP Module 1. Introduction to Investment Platform\n",
      "original \n"
     ]
    },
    {
     "name": "stderr",
     "output_type": "stream",
     "text": [
      "173it [15:28,  5.27s/it]"
     ]
    },
    {
     "name": "stdout",
     "output_type": "stream",
     "text": [
      "==============\n",
      "==============\n",
      "==============\n",
      "mrr 0.0196078431372549\n",
      "RANK 50\n",
      "job title Tellers, Retail Banker\n",
      "original Sales for Small Business Workshop\n",
      "original \n"
     ]
    },
    {
     "name": "stderr",
     "output_type": "stream",
     "text": [
      "174it [15:34,  5.29s/it]"
     ]
    },
    {
     "name": "stdout",
     "output_type": "stream",
     "text": [
      "==============\n",
      "==============\n",
      "==============\n",
      "mrr 0.3333333333333333\n",
      "RANK 2\n",
      "job title Personal Financial Advisors, Financial Retirement Plan Specialist\n",
      "original 8. TLS Inquiry\n",
      "original \n",
      "In this course, you will learn how to view information on the Term Lending System (TLS) both before and after a mortgage is funded. Estimated completion time is 20 minutes.\n"
     ]
    },
    {
     "name": "stderr",
     "output_type": "stream",
     "text": [
      "175it [15:39,  5.22s/it]"
     ]
    },
    {
     "name": "stdout",
     "output_type": "stream",
     "text": [
      "==============\n",
      "==============\n",
      "==============\n",
      "mrr 0.014084507042253521\n",
      "RANK 70\n",
      "job title Loan Officers, Home Lending Advisor\n",
      "original Describe Branch Lending Reports for CSO and CSR\n",
      "original \n",
      "The 'Describe Branch Lending Reports for Customer Support Supervisor' learning offering provides a high-level overview of lending reports for Customer Support Officers and Customer Support Representatives.\n"
     ]
    },
    {
     "name": "stderr",
     "output_type": "stream",
     "text": [
      "176it [15:44,  5.16s/it]"
     ]
    },
    {
     "name": "stdout",
     "output_type": "stream",
     "text": [
      "==============\n",
      "==============\n",
      "==============\n",
      "mrr 0.1111111111111111\n",
      "RANK 8\n",
      "job title Securities, Commodities, and Financial Services Sales Agents, Private Client Banker\n",
      "original Describe ScotiaLine VISA\n",
      "original \n",
      "Audience: Retail Sales Officers Content Summary: outlines target customer summarizes product features and customer benefits Completion time is approximately 20 minutes.\n"
     ]
    },
    {
     "name": "stderr",
     "output_type": "stream",
     "text": [
      "177it [15:49,  5.08s/it]"
     ]
    },
    {
     "name": "stdout",
     "output_type": "stream",
     "text": [
      "==============\n",
      "==============\n",
      "==============\n",
      "mrr 0.5\n",
      "RANK 1\n",
      "job title Customer Service Representatives, Customer Service Professional\n",
      "original Listen and Educate Meeting Guide\n",
      "original These Meeting Guides align with our core D&I pillars of Listen & Educate and Sustain & Act, helping to bring the principles of our Pledge to life. The first Meeting Guide focuses on Listen & Educate, to assist People Managers in facilitating and engaging our teams in open D&I discussions, driving awareness and promoting an inclusive environment. The second Meeting Guide will focus on Sustain & Act, and will be made available in Q4 this year. For more information go to: http://scotiabanklive.cs.bns/groups/canadian-banking-meeting-guides\n"
     ]
    },
    {
     "name": "stderr",
     "output_type": "stream",
     "text": [
      "178it [15:54,  5.15s/it]"
     ]
    },
    {
     "name": "stdout",
     "output_type": "stream",
     "text": [
      "==============\n",
      "==============\n",
      "==============\n",
      "mrr 0.004166666666666667\n",
      "RANK 239\n",
      "job title Personal Financial Advisors, Financial Consultant\n",
      "original Opportunity Spotting for Insurance\n",
      "original This course will provide you with the knowledge and skills to identify insurance opportunities.\n"
     ]
    },
    {
     "name": "stderr",
     "output_type": "stream",
     "text": [
      "179it [15:59,  5.05s/it]"
     ]
    },
    {
     "name": "stdout",
     "output_type": "stream",
     "text": [
      "==============\n",
      "==============\n",
      "==============\n",
      "mrr 0.008928571428571428\n",
      "RANK 111\n",
      "job title Concierges, Service Concierge\n",
      "original El Pulso Seguros para Red de sucursales\n",
      "original The objective is to announce the changes to the program El Pulso del Cliente by integrating the process of insurance sales through the Branch and in FIU in the NPS (Net Promoter Score) measurement, this inclusion will help us to strengthen the service and sales strategy in the field of Insurance\n"
     ]
    },
    {
     "name": "stderr",
     "output_type": "stream",
     "text": [
      "180it [16:04,  5.15s/it]"
     ]
    },
    {
     "name": "stdout",
     "output_type": "stream",
     "text": [
      "==============\n",
      "==============\n",
      "==============\n",
      "mrr 0.012987012987012988\n",
      "RANK 76\n",
      "job title Chief Executives, Aeronautics Commission Director\n",
      "original Winning at Prospecting\n",
      "original \n"
     ]
    },
    {
     "name": "stderr",
     "output_type": "stream",
     "text": [
      "181it [16:10,  5.24s/it]"
     ]
    },
    {
     "name": "stdout",
     "output_type": "stream",
     "text": [
      "==============\n",
      "==============\n",
      "==============\n",
      "mrr 0.3333333333333333\n",
      "RANK 2\n",
      "job title Loan Officers, Home Lending Advisor\n",
      "original 6. Cancel Mortgage on TLS\n",
      "original \n",
      "This course provides information required to cancel a mortgage on the Term Lending System (TLS). Estimated completion time is 10 minutes.\n"
     ]
    },
    {
     "name": "stderr",
     "output_type": "stream",
     "text": [
      "182it [16:15,  5.27s/it]"
     ]
    },
    {
     "name": "stdout",
     "output_type": "stream",
     "text": [
      "==============\n",
      "==============\n",
      "==============\n",
      "mrr 0.00044682752457551384\n",
      "RANK 2237\n",
      "job title Automotive and Watercraft Service Attendants, Extrusion Machine Operator\n",
      "original Repaso Leasing para FFVV  y Pymes\n",
      "original This was a review of the leasing product and the processes involved\n"
     ]
    },
    {
     "name": "stderr",
     "output_type": "stream",
     "text": [
      "183it [16:20,  5.25s/it]"
     ]
    },
    {
     "name": "stdout",
     "output_type": "stream",
     "text": [
      "==============\n",
      "==============\n",
      "==============\n",
      "mrr 0.0032258064516129032\n",
      "RANK 309\n",
      "job title Penetration Testers, Consulting Advisory Tester\n",
      "original Introduction to Photography\n",
      "original It takes more than a camera to be a good photographer. But with today's smart technology and training from lynda.com, it's easier than ever to learn how to take great pictures. This course, designed strictly for beginners, provides for a solid grounding in the skills and tools you'll need to explore the world of digital photography. Ben Long starts with a look at the different types of cameras on the market and guidelines for setting your camera up for success. He also introduces the theory behind exposure: controlling the amount of light that reaches the camera's sensor. Then it's time to take to the field and examine the rest of the factors that influence the quality of your photographs, including light metering, focus, composition, and flash. Ben also introduces techniques for shooting portraits and shows what you can do with an image editor in post. Last but not least, he'll provide a roadmap for learning more with the lynda.com extensive library of photography training. The path to becoming a better photographer begins with the first step. Start here!\n"
     ]
    },
    {
     "name": "stderr",
     "output_type": "stream",
     "text": [
      "184it [16:26,  5.31s/it]"
     ]
    },
    {
     "name": "stdout",
     "output_type": "stream",
     "text": [
      "==============\n",
      "==============\n",
      "==============\n",
      "mrr 0.00026954177897574127\n",
      "RANK 3709\n",
      "job title Telemarketers, Telesales Representative (Telesales Rep)\n",
      "original La importancia de las políticas de privacidad en internet\n",
      "original The importance of privacy policies on the Internet.\n"
     ]
    },
    {
     "name": "stderr",
     "output_type": "stream",
     "text": [
      "185it [16:31,  5.27s/it]"
     ]
    },
    {
     "name": "stdout",
     "output_type": "stream",
     "text": [
      "==============\n",
      "==============\n",
      "==============\n",
      "mrr 0.0002605523710265763\n",
      "RANK 3837\n",
      "job title Business Operations Specialists, All Other, Employee Adviser\n",
      "original Small Business Conversations Workshop\n",
      "original \n"
     ]
    },
    {
     "name": "stderr",
     "output_type": "stream",
     "text": [
      "186it [16:36,  5.16s/it]"
     ]
    },
    {
     "name": "stdout",
     "output_type": "stream",
     "text": [
      "==============\n",
      "==============\n",
      "==============\n",
      "mrr 0.0038022813688212928\n",
      "RANK 262\n",
      "job title Personal Financial Advisors, Wealth Management Advisor\n",
      "original Building Client Commitment\n",
      "original \n"
     ]
    },
    {
     "name": "stderr",
     "output_type": "stream",
     "text": [
      "187it [16:41,  5.18s/it]"
     ]
    },
    {
     "name": "stdout",
     "output_type": "stream",
     "text": [
      "==============\n",
      "==============\n",
      "==============\n",
      "mrr 0.0010162601626016261\n",
      "RANK 983\n",
      "job title Personal Financial Advisors, Financial Professional\n",
      "original Building Sales with Sales Builder\n",
      "original \n",
      "To provide basic understanding of some of the key sales practices and how Sales Bulder supports them. TEST TO BE COMPLETED IN ORDER TO HAVE ITEM MARKED COMPLETE. TEST IS NOT YET AVAILABLE. WILL ADVISE WHEN READY.\n"
     ]
    },
    {
     "name": "stderr",
     "output_type": "stream",
     "text": [
      "188it [16:46,  5.25s/it]"
     ]
    },
    {
     "name": "stdout",
     "output_type": "stream",
     "text": [
      "==============\n",
      "==============\n",
      "==============\n",
      "mrr 0.010101010101010102\n",
      "RANK 98\n",
      "job title Urban and Regional Planners, Sustainable Development Policy Analyst\n",
      "original Introducing Scrum Events\n",
      "original Scrum Events are used to create regularity and minimize the need for meetings not defined in Scrum. In this course, Introducing Scrum Events, you will learn to understand the events and their purpose. First, you will discover the what and why of the Sprint. Next, you will learn the what and why of the remaining events that exist inside a Sprint. Finally, you will explore how to connect the Scrum events with the pillars of empiricism. When you’re finished with this course, you will have the skills and knowledge of Scrum events needed to understand their implementation and purpose.\n"
     ]
    },
    {
     "name": "stderr",
     "output_type": "stream",
     "text": [
      "189it [16:51,  5.14s/it]"
     ]
    },
    {
     "name": "stdout",
     "output_type": "stream",
     "text": [
      "==============\n",
      "==============\n",
      "==============\n",
      "mrr 0.0005473453749315818\n",
      "RANK 1826\n",
      "job title Administrative Services Managers, Administrative Officer\n",
      "original Adding Lists and Objects in Word 2013 (Update Avail.)\n",
      "original You can add a number of different objects to your Word 2013 documents to help increase readability and functionality, and also improve their appearance. Several available types of lists, such as bulleted and numbered lists, allow you to format and organize information. Signature lines offer added data security and allow you to easily specify that a signature is required on a document. You can include dates and times to mark when a document was created, when something is due, or for tracking purposes. Hyperlinks allow you to link to other sections of a document, to other documents, to web sites, and to e-mail addresses. This course demonstrates how to create and format various types of lists, and to work with hyperlinks in your document. It demonstrates how to insert the date and time in a document and how to add digital signatures. This course will help prepare learners for the Microsoft Certification Exam 77-418: Word 2013 which certifies individuals as Microsoft Office Specialist (MOS): Word 2013.\n"
     ]
    },
    {
     "name": "stderr",
     "output_type": "stream",
     "text": [
      "190it [16:56,  5.12s/it]"
     ]
    },
    {
     "name": "stdout",
     "output_type": "stream",
     "text": [
      "==============\n",
      "==============\n",
      "==============\n",
      "mrr 0.006024096385542169\n",
      "RANK 165\n",
      "job title Office Clerks, General, Document Coordinator\n",
      "original Evaluación de desempeño en la nueva normalidad: Presencial, remota e híbrida\n",
      "original Agile organizations, remote environments, and employees who are unmotivated by traditional evaluations have been the reasons to reinvent the approach to performance evaluation and embrace hybrid and remote modalities. This process, central to people and talent management, seeks more than ever to develop the maximum potential of teams and organizations. In the new scenario, the collaborator acquires a leading role and the leader becomes a coach. Virtual environments and physical distance bring a different complexity, requiring greater autonomy and less control, but with this content you will be able to evaluate performance effectively.\n"
     ]
    },
    {
     "name": "stderr",
     "output_type": "stream",
     "text": [
      "191it [17:01,  5.11s/it]"
     ]
    },
    {
     "name": "stdout",
     "output_type": "stream",
     "text": [
      "==============\n",
      "==============\n",
      "==============\n",
      "mrr 0.5\n",
      "RANK 1\n",
      "job title Business Operations Specialists, All Other, Utilization Coordinator\n",
      "original IP Module 1. Introduction to Investment Platform\n",
      "original \n"
     ]
    },
    {
     "name": "stderr",
     "output_type": "stream",
     "text": [
      "192it [17:07,  5.16s/it]"
     ]
    },
    {
     "name": "stdout",
     "output_type": "stream",
     "text": [
      "==============\n",
      "==============\n",
      "==============\n",
      "mrr 0.038461538461538464\n",
      "RANK 25\n",
      "job title Loan Officers, Home Lending Advisor\n",
      "original E-mail and Organizational Communication\n",
      "original \n"
     ]
    },
    {
     "name": "stderr",
     "output_type": "stream",
     "text": [
      "193it [17:12,  5.12s/it]"
     ]
    },
    {
     "name": "stdout",
     "output_type": "stream",
     "text": [
      "==============\n",
      "==============\n",
      "==============\n",
      "mrr 0.0007680491551459293\n",
      "RANK 1301\n",
      "job title Financial and Investment Analysts, Credit Products Officer\n",
      "original Describe KYC for Mutual Funds for Non-Registered Branch Staff\n",
      "original \n",
      "This learning guide will assist you in understanding key principles and tasks, and contains resource links that take you to appropriate Scotiabank online information. It provides an overview of what is required for Mutual Fund `KYC' and the limitations onnon-registered staff members, who in the Bank can and cannot work with customers to complete the SIS and Investor Profile and the `Know Your Client' rule for Mutual Funds. Completion time is 60 to 90 minutes.\n"
     ]
    },
    {
     "name": "stderr",
     "output_type": "stream",
     "text": [
      "194it [17:17,  5.04s/it]"
     ]
    },
    {
     "name": "stdout",
     "output_type": "stream",
     "text": [
      "==============\n",
      "==============\n",
      "==============\n",
      "mrr 0.000664451827242525\n",
      "RANK 1504\n",
      "job title Executive Secretaries and Executive Administrative Assistants, Director's Assistant\n",
      "original Credit Products and AML Risk\n",
      "original Training to address awareness of regulatory environment, enhancements to AML Program in respect to Credit Products and  Unusual Activity Referral process training.\n"
     ]
    },
    {
     "name": "stderr",
     "output_type": "stream",
     "text": [
      "195it [17:21,  4.97s/it]"
     ]
    },
    {
     "name": "stdout",
     "output_type": "stream",
     "text": [
      "==============\n",
      "==============\n",
      "==============\n",
      "mrr 0.2\n",
      "RANK 4\n",
      "job title Customer Service Representatives, Client Support Professional\n",
      "original Branch E-Mail and Internet\n",
      "original \n",
      "Audience: All branch employees Content Summary: outlines the fundamentals of using Branch E-Mail and Internet access, available through Intralink Completion time is approximately 30 to 60 minutes\n"
     ]
    },
    {
     "name": "stderr",
     "output_type": "stream",
     "text": [
      "196it [17:26,  4.91s/it]"
     ]
    },
    {
     "name": "stdout",
     "output_type": "stream",
     "text": [
      "==============\n",
      "==============\n",
      "==============\n",
      "mrr 0.0625\n",
      "RANK 15\n",
      "job title Customer Service Representatives, Customer Relations Representative\n",
      "original IP Module 9. Common Inquiries (Investment Platform)\n",
      "original \n"
     ]
    },
    {
     "name": "stderr",
     "output_type": "stream",
     "text": [
      "197it [17:31,  4.96s/it]"
     ]
    },
    {
     "name": "stdout",
     "output_type": "stream",
     "text": [
      "==============\n",
      "==============\n",
      "==============\n",
      "mrr 0.003134796238244514\n",
      "RANK 318\n",
      "job title Regulatory Affairs Managers, Regulatory Administrator\n",
      "original What s Your Story\n",
      "original \n",
      "'What’s Your Story' is a one-day, classroom-based workshop. It is the follow up to 2013's 'SmartSolving' and 2012's 'Show Me You Know Me' (SMYKM). While the SMYKM program focused on Preparation and the 'SmartSolving' program was primarily focused on the Discovery process during client meetings, this next workshop – 'What’s Your Story' will conclude the 3 part series with a focus on Presenting Solutions. Participants will learn how to build compelling stories in order to: present solutions to clients, deepen their client relationships and better position the breadth of SPCG services. Audience: SPCG Relationship Managers, Will & Estate Planners, Financial Consultants, Financial Planning Consultants, Insurance Consultants\n"
     ]
    },
    {
     "name": "stderr",
     "output_type": "stream",
     "text": [
      "198it [17:36,  4.93s/it]"
     ]
    },
    {
     "name": "stdout",
     "output_type": "stream",
     "text": [
      "==============\n",
      "==============\n",
      "==============\n",
      "mrr 0.0045871559633027525\n",
      "RANK 217\n",
      "job title Chief Executives, Aeronautics Commission Director\n",
      "original Reducing the Risk (Anti-Money Laundering) International\n",
      "original \n",
      "Note: Once completed, this course will NOT automatically move to your history. It will be marked complete within two weeks after your successful completion.\n"
     ]
    },
    {
     "name": "stderr",
     "output_type": "stream",
     "text": [
      "199it [17:41,  4.88s/it]"
     ]
    },
    {
     "name": "stdout",
     "output_type": "stream",
     "text": [
      "==============\n",
      "==============\n",
      "==============\n",
      "mrr 0.0005175983436853002\n",
      "RANK 1931\n",
      "job title Command and Control Center Officers, Operations Systems Specialist\n",
      "original INTL-JM-EffectiveTimeManagement\n",
      "original \n"
     ]
    },
    {
     "name": "stderr",
     "output_type": "stream",
     "text": [
      "200it [17:45,  4.79s/it]"
     ]
    },
    {
     "name": "stdout",
     "output_type": "stream",
     "text": [
      "==============\n",
      "==============\n",
      "==============\n",
      "mrr 1.0\n",
      "RANK 0\n",
      "job title Billing and Posting Clerks, Electric Accounting Machine Operator (EAM Operator)\n",
      "original Sesión Virtual OneBank\n",
      "original During this session, the new OneBank system for requesting credit cards and accounts will be shown, making response times more efficient.\n"
     ]
    },
    {
     "name": "stderr",
     "output_type": "stream",
     "text": [
      "201it [17:50,  4.76s/it]"
     ]
    },
    {
     "name": "stdout",
     "output_type": "stream",
     "text": [
      "==============\n",
      "==============\n",
      "==============\n",
      "mrr 0.000419639110365086\n",
      "RANK 2382\n",
      "job title Regulatory Affairs Managers, Regulatory Administrator\n",
      "original Home Computer User Agreement\n",
      "original To continue accessing the Bank’s corporate network through your home computer, you are required to read and accept the terms outlined in the Home Computer User Agreement (“The Agreement”). Accepting the terms of the Home Computer User Agreement is contingent upon configuring your Home Computer by following the instructions provided in the Home Computer Security Guideline.\n"
     ]
    },
    {
     "name": "stderr",
     "output_type": "stream",
     "text": [
      "202it [17:55,  4.92s/it]"
     ]
    },
    {
     "name": "stdout",
     "output_type": "stream",
     "text": [
      "==============\n",
      "==============\n",
      "==============\n",
      "mrr 0.0003194888178913738\n",
      "RANK 3129\n",
      "job title Software Developers, Developer\n",
      "original AWS - Big Data\n",
      "original \n"
     ]
    },
    {
     "name": "stderr",
     "output_type": "stream",
     "text": [
      "203it [18:00,  4.93s/it]"
     ]
    },
    {
     "name": "stdout",
     "output_type": "stream",
     "text": [
      "==============\n",
      "==============\n",
      "==============\n",
      "mrr 0.014285714285714285\n",
      "RANK 69\n",
      "job title Healthcare Social Workers, Geriatric Social Worker\n",
      "original Leadership I\n",
      "original \n"
     ]
    },
    {
     "name": "stderr",
     "output_type": "stream",
     "text": [
      "204it [18:06,  5.16s/it]"
     ]
    },
    {
     "name": "stdout",
     "output_type": "stream",
     "text": [
      "==============\n",
      "==============\n",
      "==============\n",
      "mrr 0.25\n",
      "RANK 3\n",
      "job title Customer Service Representatives, Customer Relations Representative\n",
      "original 6. Cancel Mortgage on TLS\n",
      "original \n",
      "This course provides information required to cancel a mortgage on the Term Lending System (TLS). Estimated completion time is 10 minutes.\n"
     ]
    },
    {
     "name": "stderr",
     "output_type": "stream",
     "text": [
      "205it [18:11,  5.13s/it]"
     ]
    },
    {
     "name": "stdout",
     "output_type": "stream",
     "text": [
      "==============\n",
      "==============\n",
      "==============\n",
      "mrr 0.014925373134328358\n",
      "RANK 66\n",
      "job title Customer Service Representatives, Service Advisor\n",
      "original Cómo elaborar un plan de comunicación\n",
      "original Today, communication between companies and their stakeholders is essential. It is not possible not to communicate and this course is dedicated to teaching you how to develop a basic tool for any company or entity, the communication plan. It is a very practical course, where we will see the fundamental aspects: how we should set our objectives, how to create a map of stakeholders, how to develop a strategy and of course the actions that will shape all of the above and that will lead us to achieve those objectives previously set.\n"
     ]
    },
    {
     "name": "stderr",
     "output_type": "stream",
     "text": [
      "206it [18:16,  5.05s/it]"
     ]
    },
    {
     "name": "stdout",
     "output_type": "stream",
     "text": [
      "==============\n",
      "==============\n",
      "==============\n",
      "mrr 1.0\n",
      "RANK 0\n",
      "job title Personal Financial Advisors, Strategist\n",
      "original Branch E-Mail and Internet\n",
      "original \n",
      "Audience: All branch employees Content Summary: outlines the fundamentals of using Branch E-Mail and Internet access, available through Intralink Completion time is approximately 30 to 60 minutes\n"
     ]
    },
    {
     "name": "stderr",
     "output_type": "stream",
     "text": [
      "207it [18:21,  5.10s/it]"
     ]
    },
    {
     "name": "stdout",
     "output_type": "stream",
     "text": [
      "==============\n",
      "==============\n",
      "==============\n",
      "mrr 0.1111111111111111\n",
      "RANK 8\n",
      "job title Financial Managers, Budget Manager\n",
      "original Finance Development Day Session 2 - Leading Bank in the Americas Panel Discussion\n",
      "original • Strategy, Opportunities, Risks and Impact of COVID\n"
     ]
    },
    {
     "name": "stderr",
     "output_type": "stream",
     "text": [
      "208it [18:26,  5.09s/it]"
     ]
    },
    {
     "name": "stdout",
     "output_type": "stream",
     "text": [
      "==============\n",
      "==============\n",
      "==============\n",
      "mrr 0.012345679012345678\n",
      "RANK 80\n",
      "job title Information Security Analysts, Source Code Auditor\n",
      "original Pensamiento computacional\n",
      "original This course will allow you to work your mind on problem solving, system design, describing real-world problems, using logic and mathematics, all this combined in computational thinking. Developing the skill of problem solving is becoming more and more complex and computational thinking is a process that helps us to do this effectively.\n"
     ]
    },
    {
     "name": "stderr",
     "output_type": "stream",
     "text": [
      "209it [18:31,  5.12s/it]"
     ]
    },
    {
     "name": "stdout",
     "output_type": "stream",
     "text": [
      "==============\n",
      "==============\n",
      "==============\n",
      "mrr 0.06666666666666667\n",
      "RANK 14\n",
      "job title Loan Officers, Home Lending Advisor\n",
      "original Describe Other Banking Services Fees\n",
      "original \n",
      "Audience: Retail Sales Officer Trainee Content Summary: Learning Guide provides an overview of banking services fees other than those charged for regular account services and transactions resource links to onlineinformation and job aids Completion time is approximately 20 to 30 minutes.\n"
     ]
    },
    {
     "name": "stderr",
     "output_type": "stream",
     "text": [
      "210it [18:36,  5.08s/it]"
     ]
    },
    {
     "name": "stdout",
     "output_type": "stream",
     "text": [
      "==============\n",
      "==============\n",
      "==============\n",
      "mrr 0.02857142857142857\n",
      "RANK 34\n",
      "job title Personal Financial Advisors, Strategist\n",
      "original Pre-fund Maintenance (Describe Pre-Fund Maintenance on TLS)\n",
      "original \n",
      "This learning offering provides information on how to use the pre-fund maintanencefunctions on the Term Lending System (TLS), including screen index organization and key features of selected screens.\n"
     ]
    },
    {
     "name": "stderr",
     "output_type": "stream",
     "text": [
      "211it [18:41,  4.97s/it]"
     ]
    },
    {
     "name": "stdout",
     "output_type": "stream",
     "text": [
      "==============\n",
      "==============\n",
      "==============\n",
      "mrr 1.0\n",
      "RANK 0\n",
      "job title Customer Service Representatives, Client Relations Specialist\n",
      "original Token - Employees - Annual Creditor Insurance Certification Program for Canadian Banking\n",
      "original \n"
     ]
    },
    {
     "name": "stderr",
     "output_type": "stream",
     "text": [
      "212it [18:46,  4.86s/it]"
     ]
    },
    {
     "name": "stdout",
     "output_type": "stream",
     "text": [
      "==============\n",
      "==============\n",
      "==============\n",
      "mrr 0.1111111111111111\n",
      "RANK 8\n",
      "job title Sales Managers, National Account Manager\n",
      "original SEC Security-Based Swap Dealer Training\n",
      "original This course is designed to provide an overview of the SEC SBSD regulatory regime and the various requirements that apply over the lifecycle of the security-based swap processes.\n"
     ]
    },
    {
     "name": "stderr",
     "output_type": "stream",
     "text": [
      "213it [18:51,  4.89s/it]"
     ]
    },
    {
     "name": "stdout",
     "output_type": "stream",
     "text": [
      "==============\n",
      "==============\n",
      "==============\n",
      "mrr 0.125\n",
      "RANK 7\n",
      "job title Business Intelligence Analysts, Analytical Data Miner\n",
      "original 2021 U.S. Employee Handbook Acknowledgement\n",
      "original U.S. Employee Handbook\n",
      "\n",
      "To get full completion credit, read the 2021 Employee Handbook and then click Return to Content Structure page to review and agree to the Employee Acknowledgement.  \n"
     ]
    },
    {
     "name": "stderr",
     "output_type": "stream",
     "text": [
      "214it [18:56,  4.90s/it]"
     ]
    },
    {
     "name": "stdout",
     "output_type": "stream",
     "text": [
      "==============\n",
      "==============\n",
      "==============\n",
      "mrr 0.16666666666666666\n",
      "RANK 5\n",
      "job title Office Clerks, General, Document Coordinator\n",
      "original 2020 iLead  PME - Assignment Indicator\n",
      "original This course has been credit to the learning plan of employees for the purpose of facilitating the correct assignment for the People Manager Essentials program to distinguish new and existing people managers as of December 31, 2019. If you have any questions, please contact Ask HR.\n"
     ]
    },
    {
     "name": "stderr",
     "output_type": "stream",
     "text": [
      "215it [19:01,  4.97s/it]"
     ]
    },
    {
     "name": "stdout",
     "output_type": "stream",
     "text": [
      "==============\n",
      "==============\n",
      "==============\n",
      "mrr 0.004149377593360996\n",
      "RANK 240\n",
      "job title Information Technology Project Managers, Scrum Master\n",
      "original ModernizaciónF1BOtrasLíneasdeNegocio\n",
      "original Train the Trainers to enable Change Agents in the business lines to teach the Modernization Phase 1B Face-to-Face Course to the staff of the different Banks. The objective is to share the changes in the main processes to be implemented in this phase. The simplification of these processes will help to improve the Experience of our Customers, since they significantly reduce the attention times.\n"
     ]
    },
    {
     "name": "stderr",
     "output_type": "stream",
     "text": [
      "216it [19:06,  5.02s/it]"
     ]
    },
    {
     "name": "stdout",
     "output_type": "stream",
     "text": [
      "==============\n",
      "==============\n",
      "==============\n",
      "mrr 0.0036101083032490976\n",
      "RANK 276\n",
      "job title Production, Planning, and Expediting Clerks, Data Processing Control Clerk\n",
      "original The Five Thieves of Happiness (getAbstract Summary)\n",
      "original In his popular book, The Five Thieves of Happiness, John Izzo explains that joy and happiness are natural aspects of every human being. However, there are five elements—which he calls the “five thieves”—that prevent people from being happy. The challenge, he says, is to remove the mental barriers that prevent you from accessing your happiness and living a fulfilling life. In this audio-only summary of his book, produced by getAbstract, Izzo skillfully constructs a watertight case that happiness exists inside each person: You don’t have to acquire it; just dust it off and put into effect. getAbstract believes his optimistic, accessible outlook may challenge your thinking and lift up your attitude. This audiobook summary was created by getAbstract, the world’s largest provider of business book summaries. We are pleased to offer this training in our library.\n"
     ]
    },
    {
     "name": "stderr",
     "output_type": "stream",
     "text": [
      "217it [19:11,  5.17s/it]"
     ]
    },
    {
     "name": "stdout",
     "output_type": "stream",
     "text": [
      "==============\n",
      "==============\n",
      "==============\n",
      "mrr 0.09090909090909091\n",
      "RANK 10\n",
      "job title Accountants and Auditors, Accounting Officer\n",
      "original 2. TLS Overview\n",
      "original \n",
      "This course provides an introductory overview of the Term Lending System (TLS) including summary screens, screen index organization and additional features available on TLS. Estimated completion time is 30 minutes.\n"
     ]
    },
    {
     "name": "stderr",
     "output_type": "stream",
     "text": [
      "218it [19:17,  5.21s/it]"
     ]
    },
    {
     "name": "stdout",
     "output_type": "stream",
     "text": [
      "==============\n",
      "==============\n",
      "==============\n",
      "mrr 0.005263157894736842\n",
      "RANK 189\n",
      "job title Customer Service Representatives, Customer Relations Representative\n",
      "original Professional Effectiveness\n",
      "original \n"
     ]
    },
    {
     "name": "stderr",
     "output_type": "stream",
     "text": [
      "219it [19:22,  5.37s/it]"
     ]
    },
    {
     "name": "stdout",
     "output_type": "stream",
     "text": [
      "==============\n",
      "==============\n",
      "==============\n",
      "mrr 0.03571428571428571\n",
      "RANK 27\n",
      "job title Personal Financial Advisors, Financial Professional\n",
      "original Team Conflict: Overcoming Conflict with Communication - NETg\n",
      "original \n",
      "Team Conflict: Overcoming Conflict with Communication offers the student information for understanding and using communication to resolve conflict in a diverse team. The program covers the communication process, explains strategies for managing conflict,and lists guidelines for effective communication during team conflict.\n"
     ]
    },
    {
     "name": "stderr",
     "output_type": "stream",
     "text": [
      "220it [19:28,  5.27s/it]"
     ]
    },
    {
     "name": "stdout",
     "output_type": "stream",
     "text": [
      "==============\n",
      "==============\n",
      "==============\n",
      "mrr 0.008130081300813009\n",
      "RANK 122\n",
      "job title Tellers, Retail Banker\n",
      "original Small Business Operations and Financial Analysis -- Online+36:1388 interactive version\n",
      "original You can request a refund* online or by completing the \"Course Cancellation Form\" and faxing the form to CSI. CSI will retain $175 if a refund request is received online or by fax within 14 days of course purchase. Note: Scotiabank students must cancel through your corporate Learning Management System (LMS). *Refunds are not available for textbooks, learning aids (such as Check practice exams), online courses and products, Continuing Education courses and certificate frames.\n",
      "This is the third course in CSI's certification program for small business advisors. Topics in course 3 include-\n",
      "--The fundamental knowledge required to understand a business' legal set-up- including sole proprietors, partnerships, corporation and the pros and cons of each ownership structure\n",
      "--The general aspects of a small business' financial operation and overview of the construction of financial statements and an explanation of accepted accounting principles that are necessary for the advisor/lender to understand\n",
      "--An explanation and examples of financial ratios and their value in assessing various strengths and weaknesses of a business\n",
      "--A sample business case study providing examples and explanation of applicable ratios to transfer concepts and\n",
      "--Course provides links to the owners personal financial situation and an illustrates how the two aspects are closely aligned\n",
      "--A practice case is provided to challenge the students' comprehension and application of concepts and rat\n",
      "This course and the SBA credential adds to the credibility and career progression of financial services employees pursuing education within the financial services industry. Small business banking is a priority for the major financial institutions and banks need to provide better service and understanding of small business owners' needs and goals.\n",
      "Small business is the fastest growing segment and source of employment in Canada (CFIB 2009). Therefore, many aspects of financial services require an advisor/lender to understand how small businesses operate. Advisors/lenders require the knowledge to evaluate the business' financial health and its ability to sustain itself over time and provide a reasonable living for the owner/operators. SBA course 3 teaches financial services employees how to review financial statements, ask critical questions and evaluate the risk associated with providing services to the client(s).\n"
     ]
    },
    {
     "name": "stderr",
     "output_type": "stream",
     "text": [
      "221it [19:33,  5.32s/it]"
     ]
    },
    {
     "name": "stdout",
     "output_type": "stream",
     "text": [
      "==============\n",
      "==============\n",
      "==============\n",
      "mrr 0.00040241448692152917\n",
      "RANK 2484\n",
      "job title Chief Executives, Employment Services Director\n",
      "original Global Personal Trading Policy Training\t\n",
      "\n",
      "original This training module covers the recent updates to the Enterprise Personal Trading Policy, activities related to Personal Trading, and highlights of the new reporting system.\n"
     ]
    },
    {
     "name": "stderr",
     "output_type": "stream",
     "text": [
      "222it [19:38,  5.37s/it]"
     ]
    },
    {
     "name": "stdout",
     "output_type": "stream",
     "text": [
      "==============\n",
      "==============\n",
      "==============\n",
      "mrr 0.25\n",
      "RANK 3\n",
      "job title Administrative Services Managers, Administrative Coordinator\n",
      "original 4. Pre-Fund Maintenance on TLS\n",
      "original \n",
      "This course provides information to perform pre-fund maintenance functions on the Term Lending System (TLS), including screen index organization, key features of selected screens and interactive customer scenarios. Estimated completion time is 30 minutes.\n"
     ]
    },
    {
     "name": "stderr",
     "output_type": "stream",
     "text": [
      "223it [19:43,  5.18s/it]"
     ]
    },
    {
     "name": "stdout",
     "output_type": "stream",
     "text": [
      "==============\n",
      "==============\n",
      "==============\n",
      "mrr 0.5\n",
      "RANK 1\n",
      "job title Customer Service Representatives, Customer Service Associate\n",
      "original Token Course for Customer Experience Associate Learning Foundations Program\n",
      "original NO action required - course is used to exempt employee from taking Customer Experience Associate Learning Foundations Program as they are not in scope.\n"
     ]
    },
    {
     "name": "stderr",
     "output_type": "stream",
     "text": [
      "224it [19:48,  5.07s/it]"
     ]
    },
    {
     "name": "stdout",
     "output_type": "stream",
     "text": [
      "==============\n",
      "==============\n",
      "==============\n",
      "mrr 0.0004046944556859571\n",
      "RANK 2470\n",
      "job title Recreation Workers, Summer Camp Teacher\n",
      "original Influencer Brand Deals 101\n",
      "original Online creators are rewriting the old rules of media and marketing campaigns. New models have emerged, presenting highly lucrative opportunities. But how do influencers and businesses take advantage of them? In this audio-only course from Knowable, join one of the industry’s most trusted voices, sponsorship coach and Creator Wizard founder Justin Moore, as he takes you behind the scenes of the influencer marketing world to find out how deals really get made. Explore the real story behind common misconceptions about best practices to build your brand. Do follower counts really matter? What do brands look for in partners? How can a campaign break through all the noise? By the end of this course, you’ll be prepared to ask the right questions, make the right decisions, and build the right strategies to market your brand as a successful influencer in the creator economy. Note: This course was created by Knowable. We are pleased to host this training in our library.\n"
     ]
    },
    {
     "name": "stderr",
     "output_type": "stream",
     "text": [
      "225it [19:53,  4.98s/it]"
     ]
    },
    {
     "name": "stdout",
     "output_type": "stream",
     "text": [
      "==============\n",
      "==============\n",
      "==============\n",
      "mrr 0.00234192037470726\n",
      "RANK 426\n",
      "job title Project Management Specialists, Project Manager\n",
      "original Microsoft Excel Data Manipulation, Analysis, and Presentation\n",
      "original \n"
     ]
    },
    {
     "name": "stderr",
     "output_type": "stream",
     "text": [
      "226it [19:58,  4.94s/it]"
     ]
    },
    {
     "name": "stdout",
     "output_type": "stream",
     "text": [
      "==============\n",
      "==============\n",
      "==============\n",
      "mrr 0.3333333333333333\n",
      "RANK 2\n",
      "job title Customer Service Representatives, Customer Service Associate\n",
      "original Describe RRSPs\n",
      "original \n"
     ]
    },
    {
     "name": "stderr",
     "output_type": "stream",
     "text": [
      "227it [20:03,  4.96s/it]"
     ]
    },
    {
     "name": "stdout",
     "output_type": "stream",
     "text": [
      "==============\n",
      "==============\n",
      "==============\n",
      "mrr 0.2\n",
      "RANK 4\n",
      "job title Personal Financial Advisors, Financial Consultant\n",
      "original IP Module 3. Maintaining Plans and Investments (Investment Platform)\n",
      "original \n"
     ]
    },
    {
     "name": "stderr",
     "output_type": "stream",
     "text": [
      "228it [20:07,  4.88s/it]"
     ]
    },
    {
     "name": "stdout",
     "output_type": "stream",
     "text": [
      "==============\n",
      "==============\n",
      "==============\n",
      "mrr 0.25\n",
      "RANK 3\n",
      "job title Transportation, Storage, and Distribution Managers, Substation Manager\n",
      "original Protección Civil para Sucursales\n",
      "original Participants will review fire, first aid, and evacuation topics for Branch.\n"
     ]
    },
    {
     "name": "stderr",
     "output_type": "stream",
     "text": [
      "229it [20:12,  4.93s/it]"
     ]
    },
    {
     "name": "stdout",
     "output_type": "stream",
     "text": [
      "==============\n",
      "==============\n",
      "==============\n",
      "mrr 0.0004940711462450593\n",
      "RANK 2023\n",
      "job title Instructional Coordinators, Learning Consultant\n",
      "original 02-Sales Builder Training\n",
      "original \n",
      "To provide the skills necessary to use the Sales Builder system. To be used with the Sales Builder Lerarner's Guide. Training system can be found on IntraLink. Duration = 4 to 5 hrs.\n"
     ]
    },
    {
     "name": "stderr",
     "output_type": "stream",
     "text": [
      "230it [20:17,  4.93s/it]"
     ]
    },
    {
     "name": "stdout",
     "output_type": "stream",
     "text": [
      "==============\n",
      "==============\n",
      "==============\n",
      "mrr 0.003663003663003663\n",
      "RANK 272\n",
      "job title Information Security Analysts, Cloud Security Architect\n",
      "original Staying Organized to Improve Productivity\n",
      "original Are you working longer hours, but not really checking much off your to-do list? Or maybe you’re getting a lot of things done, but feel they never seem to really add up to anything big or important? If this sounds familiar, then you might need to watch this course. In this course, Staying Organized to Improve Productivity, you are going to be looking at how three aspects of your world—your physical space, your various projects, and your personal life—intersect to help form who you are, shape your priorities, and guide how you make your day-to-day decisions. First, you will learn how to maximize your workspace productivity. Next, you will explore how to optimize your project organization. Finally, you will discover how to organize your personal life. When you are finished with this course, you should have a better understanding of yourself and what areas of your projects, tools, workspace, and priorities to focus on optimizing.\n"
     ]
    },
    {
     "name": "stderr",
     "output_type": "stream",
     "text": [
      "231it [20:22,  4.93s/it]"
     ]
    },
    {
     "name": "stdout",
     "output_type": "stream",
     "text": [
      "==============\n",
      "==============\n",
      "==============\n",
      "mrr 0.14285714285714285\n",
      "RANK 6\n",
      "job title Personal Financial Advisors, Financial Consultant\n",
      "original Token Course for RLE FA Master Program Exemption\n",
      "original NO action required - course is used to exempt employee from taking RLE FA Master Program as they are not in scope.\n"
     ]
    },
    {
     "name": "stderr",
     "output_type": "stream",
     "text": [
      "232it [20:27,  5.02s/it]"
     ]
    },
    {
     "name": "stdout",
     "output_type": "stream",
     "text": [
      "==============\n",
      "==============\n",
      "==============\n",
      "mrr 0.00047281323877068556\n",
      "RANK 2114\n",
      "job title Chief Executives, Aeronautics Commission Director\n",
      "original Set Up a STEP Mortgage\n",
      "original \n",
      "This learning offering is the practical component for the STEP Mortgage training.\n"
     ]
    },
    {
     "name": "stderr",
     "output_type": "stream",
     "text": [
      "233it [20:33,  5.04s/it]"
     ]
    },
    {
     "name": "stdout",
     "output_type": "stream",
     "text": [
      "==============\n",
      "==============\n",
      "==============\n",
      "mrr 0.002105263157894737\n",
      "RANK 474\n",
      "job title Neurologists, Headache Specialist\n",
      "original Enterprise General Ledger (EGL) - Chart of Accounts\n",
      "original \n"
     ]
    },
    {
     "name": "stderr",
     "output_type": "stream",
     "text": [
      "234it [20:37,  4.99s/it]"
     ]
    },
    {
     "name": "stdout",
     "output_type": "stream",
     "text": [
      "==============\n",
      "==============\n",
      "==============\n",
      "mrr 0.3333333333333333\n",
      "RANK 2\n",
      "job title Curators, Collections Manager\n",
      "original Token Course to Trigger Program Survey - Complaints\n",
      "original \n"
     ]
    },
    {
     "name": "stderr",
     "output_type": "stream",
     "text": [
      "235it [20:43,  5.08s/it]"
     ]
    },
    {
     "name": "stdout",
     "output_type": "stream",
     "text": [
      "==============\n",
      "==============\n",
      "==============\n",
      "mrr 0.001177856301531213\n",
      "RANK 848\n",
      "job title Financial Managers, ATM Manager (Automated Teller Machine Manager)\n",
      "original INTL - Sales Excellence Workshop\n",
      "original \n"
     ]
    },
    {
     "name": "stderr",
     "output_type": "stream",
     "text": [
      "236it [20:48,  5.19s/it]"
     ]
    },
    {
     "name": "stdout",
     "output_type": "stream",
     "text": [
      "==============\n",
      "==============\n",
      "==============\n",
      "mrr 0.3333333333333333\n",
      "RANK 2\n",
      "job title Lodging Managers, Front Office Director\n",
      "original IP Module 2. Plan Accounts (Non-Registered) (Investment Platform)\n",
      "original \n"
     ]
    },
    {
     "name": "stderr",
     "output_type": "stream",
     "text": [
      "237it [20:54,  5.27s/it]"
     ]
    },
    {
     "name": "stdout",
     "output_type": "stream",
     "text": [
      "==============\n",
      "==============\n",
      "==============\n",
      "mrr 1.0\n",
      "RANK 0\n",
      "job title Customer Service Representatives, Customer Service Associate\n",
      "original Describe CDIC for Sales (2005)\n",
      "original \n",
      "Audience: Retail Sales Officers Content Summary: covers eligible and ineligible deposits reviews insurance coverage limits outlines the Scotiabank Group CDIC member institutions this course was updated August 5, 2005 to reflect the CDIC Insurance limit change to $100,000 Completion time is approximately 20 minutes.\n"
     ]
    },
    {
     "name": "stderr",
     "output_type": "stream",
     "text": [
      "238it [20:58,  5.16s/it]"
     ]
    },
    {
     "name": "stdout",
     "output_type": "stream",
     "text": [
      "==============\n",
      "==============\n",
      "==============\n",
      "mrr 0.0010482180293501049\n",
      "RANK 953\n",
      "job title Compliance Managers, Governance Compliance and Risk Manager (GCR Manager)\n",
      "original Creatividad en la empresa\n",
      "original Have you ever thought to yourself, \"I'm just not creative\"? You're not alone. But increasingly, companies are looking for their employees to approach problems in new ways and come up with unexpected solutions. The good news is that creativity isn't a gift, it's a skill that can be developed over time. In this course from innovation expert Drew Boyd, you'll learn nine simple tips to boost your creative capacity at work, including how to think about the world in new ways, break down problems into manageable chunks, divide and conquer a problem, and evaluate ideas systematically.\n"
     ]
    },
    {
     "name": "stderr",
     "output_type": "stream",
     "text": [
      "239it [21:04,  5.16s/it]"
     ]
    },
    {
     "name": "stdout",
     "output_type": "stream",
     "text": [
      "==============\n",
      "==============\n",
      "==============\n",
      "mrr 0.3333333333333333\n",
      "RANK 2\n",
      "job title Business Operations Specialists, All Other, Branch Operation Evaluation Manager\n",
      "original 3. Set Up Mortgage (including PCA) on TLS\n",
      "original \n",
      "This course provides the steps to set up a mortgage on the Term Lending System (TLS), including PCA, the screen index organization, the features of selected screens, the best practice flow and interactive customer scenarios. Estimated completion time is60 minutes.\n"
     ]
    },
    {
     "name": "stderr",
     "output_type": "stream",
     "text": [
      "240it [21:10,  5.40s/it]"
     ]
    },
    {
     "name": "stdout",
     "output_type": "stream",
     "text": [
      "==============\n",
      "==============\n",
      "==============\n",
      "mrr 0.5\n",
      "RANK 1\n",
      "job title Sales Managers, Account Manager\n",
      "original Describe Support Package\n",
      "original \n",
      "The Describe Support Package learning offering provides a description and overview of what a support package is and what it contains.\n"
     ]
    },
    {
     "name": "stderr",
     "output_type": "stream",
     "text": [
      "241it [21:15,  5.43s/it]"
     ]
    },
    {
     "name": "stdout",
     "output_type": "stream",
     "text": [
      "==============\n",
      "==============\n",
      "==============\n",
      "mrr 0.3333333333333333\n",
      "RANK 2\n",
      "job title Tellers, Retail Banker\n",
      "original 1. Getting Started with TLS\n",
      "original \n",
      "This course provides information about navigation of the Term Lending System (TLS) courses, lesson structure, and the support materials required to use TLS. Estimated completion time is 10 minutes.\n"
     ]
    },
    {
     "name": "stderr",
     "output_type": "stream",
     "text": [
      "242it [21:20,  5.37s/it]"
     ]
    },
    {
     "name": "stdout",
     "output_type": "stream",
     "text": [
      "==============\n",
      "==============\n",
      "==============\n",
      "mrr 0.5\n",
      "RANK 1\n",
      "job title Customer Service Representatives, Customer Service Associate\n",
      "original Token Course for Customer Experience Associate Learning Foundations Program\n",
      "original NO action required - course is used to exempt employee from taking Customer Experience Associate Learning Foundations Program as they are not in scope.\n"
     ]
    },
    {
     "name": "stderr",
     "output_type": "stream",
     "text": [
      "243it [21:26,  5.42s/it]"
     ]
    },
    {
     "name": "stdout",
     "output_type": "stream",
     "text": [
      "==============\n",
      "==============\n",
      "==============\n",
      "mrr 0.004901960784313725\n",
      "RANK 203\n",
      "job title Media Programming Directors, Broadcast Content Manager\n",
      "original Psychology of Interaction Design\n",
      "original At the core of interaction design are a thorough knowledge of psychology and the ability to anticipate and build around users' needs. In this course, Psychology of Interaction Design, you will learn many of the psychological principles used today to create engaging and intuitive applications. First, you will learn the 5 core pillars of interaction design. Next, you will discover many of the popular psychological methods your favorites apps and sites are using today. Finally, you will explore how to understand the brain's cyclical pattern before and after every single interaction. When you're finished with this course, you will have the skills and knowledge to create more intuitive and engaging applications and websites.\n",
      "\n",
      "\n"
     ]
    },
    {
     "name": "stderr",
     "output_type": "stream",
     "text": [
      "244it [21:31,  5.23s/it]"
     ]
    },
    {
     "name": "stdout",
     "output_type": "stream",
     "text": [
      "==============\n",
      "==============\n",
      "==============\n",
      "mrr 0.25\n",
      "RANK 3\n",
      "job title Billing and Posting Clerks, Electric Accounting Machine Operator (EAM Operator)\n",
      "original Protección Civil para Sucursales\n",
      "original Participants will review fire, first aid, and evacuation topics for Branch.\n"
     ]
    },
    {
     "name": "stderr",
     "output_type": "stream",
     "text": [
      "245it [21:36,  5.18s/it]"
     ]
    },
    {
     "name": "stdout",
     "output_type": "stream",
     "text": [
      "==============\n",
      "==============\n",
      "==============\n",
      "mrr 1.0\n",
      "RANK 0\n",
      "job title Customer Service Representatives, Customer Service Associate\n",
      "original Token - Customer Representative Foundations Program \n",
      "Like many things in life, the more you put into something, the more you get out of it.  So, give it your all and enjoy your learning journey!aining, job-shadowing and coaching support.\n"
     ]
    },
    {
     "name": "stderr",
     "output_type": "stream",
     "text": [
      "246it [21:41,  5.33s/it]"
     ]
    },
    {
     "name": "stdout",
     "output_type": "stream",
     "text": [
      "==============\n",
      "==============\n",
      "==============\n",
      "mrr 0.0012836970474967907\n",
      "RANK 778\n",
      "job title Customer Service Representatives, Client Services Representative\n",
      "original Sistema de Representaciòn Sensorial\n",
      "original \n",
      " Identify the sensory representation system(s) that are most prevalent in us and the client, in order to establish an efficient verbal and bodily conversation during the offer and negotiation.\n"
     ]
    },
    {
     "name": "stderr",
     "output_type": "stream",
     "text": [
      "247it [21:47,  5.26s/it]"
     ]
    },
    {
     "name": "stdout",
     "output_type": "stream",
     "text": [
      "==============\n",
      "==============\n",
      "==============\n",
      "mrr 0.3333333333333333\n",
      "RANK 2\n",
      "job title Computer Programmers, Programmer Analyst\n",
      "original Finance Learning Day 2015\n",
      "original A full day of sessions aimed at furthering development and equipping employees with the knowledge they need to be successful in their careers.\n"
     ]
    },
    {
     "name": "stderr",
     "output_type": "stream",
     "text": [
      "248it [21:51,  5.11s/it]"
     ]
    },
    {
     "name": "stdout",
     "output_type": "stream",
     "text": [
      "==============\n",
      "==============\n",
      "==============\n",
      "mrr 0.16666666666666666\n",
      "RANK 5\n",
      "job title Software Developers, Solutions Architect\n",
      "original How much KUBERNETES do I need to Learn?\n",
      "original Kubernetes is the standard platform for running containers at scale - from the cloud to IoT devices. It's hugely powerful and flexible, but it is not simple. The complexity is in dozens of objects which Kubernetes manages, and which you have to describe in a model of your application. The learning curve is steep - so how much Kubernetes is \"\"just enough\"\" to get productive?\n",
      "\n",
      "This session will walk you through the Kubernetes platform, with a clear focus on the core concepts. You'll learn about services, deployments, pods and secrets - and how they all work together, with lots of demos. You'll see how simple and complex apps are defined as Kubernetes manifests, and understand where the line can be drawn between dev and ops.\n",
      "\n",
      "Digital Discovery is an enterprise-wide curated events program featuring experts across the digital technology landscape, with a goal of boosting our Digital IQ. You will have access to innovative thought leaders, tools, and practices that will optimize the way you work and transform the way you see the world. Utilizing keynotes, panels, workshops, interactive roundtable sessions, and product demos, this program is designed to target a variety of digital themes (ex. Analytics, Artificial Intelligence, Design, IoT, Cybersecurity etc.), maintain a fulsome schedule, and operate sessions and events on a regular basis.\n"
     ]
    },
    {
     "name": "stderr",
     "output_type": "stream",
     "text": [
      "249it [21:56,  4.92s/it]"
     ]
    },
    {
     "name": "stdout",
     "output_type": "stream",
     "text": [
      "==============\n",
      "==============\n",
      "==============\n",
      "mrr 0.5\n",
      "RANK 1\n",
      "job title Production, Planning, and Expediting Clerks, Expeditor\n",
      "original 2020 iLead  PME - Assignment Indicator\n",
      "original This course has been credit to the learning plan of employees for the purpose of facilitating the correct assignment for the People Manager Essentials program to distinguish new and existing people managers as of December 31, 2019. If you have any questions, please contact Ask HR.\n"
     ]
    },
    {
     "name": "stderr",
     "output_type": "stream",
     "text": [
      "250it [22:00,  4.82s/it]"
     ]
    },
    {
     "name": "stdout",
     "output_type": "stream",
     "text": [
      "==============\n",
      "==============\n",
      "==============\n",
      "mrr 0.3333333333333333\n",
      "RANK 2\n",
      "job title Bookkeeping, Accounting, and Auditing Clerks, Amortization Clerk\n",
      "original IP Module 5. Purchase Investments (Investment Platform)\n",
      "original \n"
     ]
    },
    {
     "name": "stderr",
     "output_type": "stream",
     "text": [
      "251it [22:05,  4.79s/it]"
     ]
    },
    {
     "name": "stdout",
     "output_type": "stream",
     "text": [
      "==============\n",
      "==============\n",
      "==============\n",
      "mrr 0.5\n",
      "RANK 1\n",
      "job title Customer Service Representatives, Customer Support Specialist\n",
      "original IP Module 4. Holds (Investment Platform)\n",
      "original \n"
     ]
    },
    {
     "name": "stderr",
     "output_type": "stream",
     "text": [
      "252it [22:10,  4.76s/it]"
     ]
    },
    {
     "name": "stdout",
     "output_type": "stream",
     "text": [
      "==============\n",
      "==============\n",
      "==============\n",
      "mrr 0.1\n",
      "RANK 9\n",
      "job title Customer Service Representatives, Customer Service Professional\n",
      "original Branch E-Mail and Internet\n",
      "original \n",
      "Audience: All branch employees Content Summary: outlines the fundamentals of using Branch E-Mail and Internet access, available through Intralink Completion time is approximately 30 to 60 minutes\n"
     ]
    },
    {
     "name": "stderr",
     "output_type": "stream",
     "text": [
      "253it [22:14,  4.67s/it]"
     ]
    },
    {
     "name": "stdout",
     "output_type": "stream",
     "text": [
      "==============\n",
      "==============\n",
      "==============\n",
      "mrr 0.0029498525073746312\n",
      "RANK 338\n",
      "job title Receptionists and Information Clerks, Referral and Information Aide (Referral and Info Aide)\n",
      "original Técnicas de escritura creativa para negocios: Trucos\n",
      "original Do you need to write texts daily for business communication? Do you know how to do it in an attractive and original way? In this series of practical and simple tips, we will see how to give a new look to your texts. From publications for a blog or social networks, to press releases or advertisements. In this course, you will learn guidelines on how to write creatively and effectively by applying some techniques from literature. In addition, we will see which syntax is more comfortable to read or which literary resources allow to transmit the same thing in a way that the public remembers it more easily.\n"
     ]
    },
    {
     "name": "stderr",
     "output_type": "stream",
     "text": [
      "254it [22:19,  4.73s/it]"
     ]
    },
    {
     "name": "stdout",
     "output_type": "stream",
     "text": [
      "==============\n",
      "==============\n",
      "==============\n",
      "mrr 1.0\n",
      "RANK 0\n",
      "job title Customer Service Representatives, Customer Relations Representative\n",
      "original IP Module 5. Purchase Investments (Investment Platform)\n",
      "original \n"
     ]
    },
    {
     "name": "stderr",
     "output_type": "stream",
     "text": [
      "255it [22:24,  4.79s/it]"
     ]
    },
    {
     "name": "stdout",
     "output_type": "stream",
     "text": [
      "==============\n",
      "==============\n",
      "==============\n",
      "mrr 0.25\n",
      "RANK 3\n",
      "job title Personal Financial Advisors, Financial Retirement Plan Specialist\n",
      "original TLS Overview (Describe TLS Overview)\n",
      "original \n",
      "This learning offering provides an introductory overview of the Term Lending System (TLS) including summary screens, screen index organization and addtional features available on TLS.\n"
     ]
    },
    {
     "name": "stderr",
     "output_type": "stream",
     "text": [
      "256it [22:29,  4.74s/it]"
     ]
    },
    {
     "name": "stdout",
     "output_type": "stream",
     "text": [
      "==============\n",
      "==============\n",
      "==============\n",
      "mrr 0.3333333333333333\n",
      "RANK 2\n",
      "job title Gambling Managers, Card Room Manager\n",
      "original 1. Getting Started with TLS\n",
      "original \n",
      "This course provides information about navigation of the Term Lending System (TLS) courses, lesson structure, and the support materials required to use TLS. Estimated completion time is 10 minutes.\n"
     ]
    },
    {
     "name": "stderr",
     "output_type": "stream",
     "text": [
      "257it [22:34,  4.86s/it]"
     ]
    },
    {
     "name": "stdout",
     "output_type": "stream",
     "text": [
      "==============\n",
      "==============\n",
      "==============\n",
      "mrr 0.3333333333333333\n",
      "RANK 2\n",
      "job title Managers, All Other, Testing Director\n",
      "original 1. Getting Started with TLS\n",
      "original \n",
      "This course provides information about navigation of the Term Lending System (TLS) courses, lesson structure, and the support materials required to use TLS. Estimated completion time is 10 minutes.\n"
     ]
    },
    {
     "name": "stderr",
     "output_type": "stream",
     "text": [
      "258it [22:39,  5.01s/it]"
     ]
    },
    {
     "name": "stdout",
     "output_type": "stream",
     "text": [
      "==============\n",
      "==============\n",
      "==============\n",
      "mrr 0.5\n",
      "RANK 1\n",
      "job title Sales Managers, Account Manager\n",
      "original 4. Pre-Fund Maintenance on TLS\n",
      "original \n",
      "This course provides information to perform pre-fund maintenance functions on the Term Lending System (TLS), including screen index organization, key features of selected screens and interactive customer scenarios. Estimated completion time is 30 minutes.\n"
     ]
    },
    {
     "name": "stderr",
     "output_type": "stream",
     "text": [
      "259it [22:45,  5.29s/it]"
     ]
    },
    {
     "name": "stdout",
     "output_type": "stream",
     "text": [
      "==============\n",
      "==============\n",
      "==============\n",
      "mrr 0.0009057971014492754\n",
      "RANK 1103\n",
      "job title Software Developers, Computer Systems Engineer\n",
      "original Learning vi\n",
      "original Although other text editors may be easier to use, vi is built into all Unix systems (including Linux and Mac OS). Knowing a few basic vi commands guarantees you'll be able to work with these systems when no other editor is installed. In this course, David D. Levine shows you how to get in and out of vi, switch modes, and start editing files in place. Learn how to change text within a file, use commands like undo and yank, find and replace text, and invoke more advanced Unix commands. Although it may be arcane, vi is still the standard text editor for all Unix systems. Start learning it now and run your systems more smoothly in the future.\n"
     ]
    },
    {
     "name": "stderr",
     "output_type": "stream",
     "text": [
      "259it [22:49,  5.29s/it]\n"
     ]
    },
    {
     "ename": "KeyboardInterrupt",
     "evalue": "",
     "output_type": "error",
     "traceback": [
      "\u001b[0;31m---------------------------------------------------------------------------\u001b[0m",
      "\u001b[0;31mKeyboardInterrupt\u001b[0m                         Traceback (most recent call last)",
      "\u001b[1;32m/home/amos/programming/create_graphds/learnings_eval_v1.ipynb Cell 16\u001b[0m line \u001b[0;36m1\n\u001b[0;32m----> <a href='vscode-notebook-cell://wsl%2Bubuntu/home/amos/programming/create_graphds/learnings_eval_v1.ipynb#X21sdnNjb2RlLXJlbW90ZQ%3D%3D?line=0'>1</a>\u001b[0m evaluate(model_3layereuclid, \u001b[39m10000\u001b[39;49m, model_folder3layereuclid, on\u001b[39m=\u001b[39;49m\u001b[39m'\u001b[39;49m\u001b[39mtest\u001b[39;49m\u001b[39m'\u001b[39;49m)\n\u001b[1;32m      <a href='vscode-notebook-cell://wsl%2Bubuntu/home/amos/programming/create_graphds/learnings_eval_v1.ipynb#X21sdnNjb2RlLXJlbW90ZQ%3D%3D?line=1'>2</a>\u001b[0m \u001b[39m# evaluate(model_2layereuclid, 10000, model_folder2layereuclid, on='test')\u001b[39;00m\n\u001b[1;32m      <a href='vscode-notebook-cell://wsl%2Bubuntu/home/amos/programming/create_graphds/learnings_eval_v1.ipynb#X21sdnNjb2RlLXJlbW90ZQ%3D%3D?line=2'>3</a>\u001b[0m \u001b[39m#evaluate(model_2layerp1, 10000, model_folder2layerp1, on='test')\u001b[39;00m\n",
      "\u001b[1;32m/home/amos/programming/create_graphds/learnings_eval_v1.ipynb Cell 16\u001b[0m line \u001b[0;36m3\n\u001b[1;32m     <a href='vscode-notebook-cell://wsl%2Bubuntu/home/amos/programming/create_graphds/learnings_eval_v1.ipynb#X21sdnNjb2RlLXJlbW90ZQ%3D%3D?line=33'>34</a>\u001b[0m minibatchpart1, minibatchpart2, edge_label_index, edge_label, input_edge_id, global_src_nodes, global_dst_nodes \u001b[39m=\u001b[39m minibatch\n\u001b[1;32m     <a href='vscode-notebook-cell://wsl%2Bubuntu/home/amos/programming/create_graphds/learnings_eval_v1.ipynb#X21sdnNjb2RlLXJlbW90ZQ%3D%3D?line=34'>35</a>\u001b[0m \u001b[39m#optimizer.zero_grad()\u001b[39;00m\n\u001b[0;32m---> <a href='vscode-notebook-cell://wsl%2Bubuntu/home/amos/programming/create_graphds/learnings_eval_v1.ipynb#X21sdnNjb2RlLXJlbW90ZQ%3D%3D?line=35'>36</a>\u001b[0m differences \u001b[39m=\u001b[39m model\u001b[39m.\u001b[39;49mforward(minibatchpart1\u001b[39m.\u001b[39;49mto(device), input_edgetype, edge_label_index\u001b[39m.\u001b[39;49mto(device), edge_label\u001b[39m.\u001b[39;49mto(device), minibatchpart2\u001b[39m.\u001b[39;49mto(device), get_head_fn\u001b[39m=\u001b[39;49m\u001b[39m'\u001b[39;49m\u001b[39mforward\u001b[39;49m\u001b[39m'\u001b[39;49m)\n\u001b[1;32m     <a href='vscode-notebook-cell://wsl%2Bubuntu/home/amos/programming/create_graphds/learnings_eval_v1.ipynb#X21sdnNjb2RlLXJlbW90ZQ%3D%3D?line=36'>37</a>\u001b[0m \u001b[39m#loss.backward()\u001b[39;00m\n\u001b[1;32m     <a href='vscode-notebook-cell://wsl%2Bubuntu/home/amos/programming/create_graphds/learnings_eval_v1.ipynb#X21sdnNjb2RlLXJlbW90ZQ%3D%3D?line=37'>38</a>\u001b[0m \n\u001b[1;32m     <a href='vscode-notebook-cell://wsl%2Bubuntu/home/amos/programming/create_graphds/learnings_eval_v1.ipynb#X21sdnNjb2RlLXJlbW90ZQ%3D%3D?line=38'>39</a>\u001b[0m \u001b[39m# define mrr with differences and labels\u001b[39;00m\n\u001b[1;32m     <a href='vscode-notebook-cell://wsl%2Bubuntu/home/amos/programming/create_graphds/learnings_eval_v1.ipynb#X21sdnNjb2RlLXJlbW90ZQ%3D%3D?line=39'>40</a>\u001b[0m \u001b[39m# get rank of positive edge from tensor, positive edge is first in batch\u001b[39;00m\n\u001b[1;32m     <a href='vscode-notebook-cell://wsl%2Bubuntu/home/amos/programming/create_graphds/learnings_eval_v1.ipynb#X21sdnNjb2RlLXJlbW90ZQ%3D%3D?line=41'>42</a>\u001b[0m differences \u001b[39m=\u001b[39m \u001b[39m-\u001b[39m\u001b[39m1\u001b[39m\u001b[39m*\u001b[39m differences\u001b[39m.\u001b[39mcpu()\u001b[39m.\u001b[39mdetach()\u001b[39m.\u001b[39mnumpy()\n",
      "\u001b[1;32m/home/amos/programming/create_graphds/learnings_eval_v1.ipynb Cell 16\u001b[0m line \u001b[0;36m4\n\u001b[1;32m     <a href='vscode-notebook-cell://wsl%2Bubuntu/home/amos/programming/create_graphds/learnings_eval_v1.ipynb#X21sdnNjb2RlLXJlbW90ZQ%3D%3D?line=37'>38</a>\u001b[0m     \u001b[39massert\u001b[39;00m target_edge_type[\u001b[39m0\u001b[39m] \u001b[39m!=\u001b[39m target_edge_type[\u001b[39m2\u001b[39m], \u001b[39m'\u001b[39m\u001b[39mwhen passing two data objects, the edge type has to contain two different node types\u001b[39m\u001b[39m'\u001b[39m\n\u001b[1;32m     <a href='vscode-notebook-cell://wsl%2Bubuntu/home/amos/programming/create_graphds/learnings_eval_v1.ipynb#X21sdnNjb2RlLXJlbW90ZQ%3D%3D?line=38'>39</a>\u001b[0m     head_embeddings \u001b[39m=\u001b[39m \u001b[39mself\u001b[39m\u001b[39m.\u001b[39mgnn(hetero_data1\u001b[39m.\u001b[39mx_dict, hetero_data1\u001b[39m.\u001b[39medge_index_dict)[target_edge_type[\u001b[39m0\u001b[39m]][edge_label_index[\u001b[39m0\u001b[39m,:]]\n\u001b[0;32m---> <a href='vscode-notebook-cell://wsl%2Bubuntu/home/amos/programming/create_graphds/learnings_eval_v1.ipynb#X21sdnNjb2RlLXJlbW90ZQ%3D%3D?line=39'>40</a>\u001b[0m     tail_embeddings \u001b[39m=\u001b[39m \u001b[39mself\u001b[39;49m\u001b[39m.\u001b[39;49mgnn(hetero_data2\u001b[39m.\u001b[39;49mx_dict, hetero_data2\u001b[39m.\u001b[39;49medge_index_dict)[target_edge_type[\u001b[39m2\u001b[39m]][edge_label_index[\u001b[39m1\u001b[39m,:]]\n\u001b[1;32m     <a href='vscode-notebook-cell://wsl%2Bubuntu/home/amos/programming/create_graphds/learnings_eval_v1.ipynb#X21sdnNjb2RlLXJlbW90ZQ%3D%3D?line=40'>41</a>\u001b[0m \u001b[39melse\u001b[39;00m:\n\u001b[1;32m     <a href='vscode-notebook-cell://wsl%2Bubuntu/home/amos/programming/create_graphds/learnings_eval_v1.ipynb#X21sdnNjb2RlLXJlbW90ZQ%3D%3D?line=41'>42</a>\u001b[0m     \u001b[39massert\u001b[39;00m target_edge_type[\u001b[39m0\u001b[39m] \u001b[39m==\u001b[39m target_edge_type[\u001b[39m2\u001b[39m], \u001b[39m'\u001b[39m\u001b[39mwhen passing one data object, the edge type has to contain the same node types\u001b[39m\u001b[39m'\u001b[39m\n",
      "File \u001b[0;32m~/mambaforge/envs/pyg_torch21/lib/python3.10/site-packages/torch/nn/modules/module.py:1518\u001b[0m, in \u001b[0;36mModule._wrapped_call_impl\u001b[0;34m(self, *args, **kwargs)\u001b[0m\n\u001b[1;32m   1516\u001b[0m     \u001b[39mreturn\u001b[39;00m \u001b[39mself\u001b[39m\u001b[39m.\u001b[39m_compiled_call_impl(\u001b[39m*\u001b[39margs, \u001b[39m*\u001b[39m\u001b[39m*\u001b[39mkwargs)  \u001b[39m# type: ignore[misc]\u001b[39;00m\n\u001b[1;32m   1517\u001b[0m \u001b[39melse\u001b[39;00m:\n\u001b[0;32m-> 1518\u001b[0m     \u001b[39mreturn\u001b[39;00m \u001b[39mself\u001b[39;49m\u001b[39m.\u001b[39;49m_call_impl(\u001b[39m*\u001b[39;49margs, \u001b[39m*\u001b[39;49m\u001b[39m*\u001b[39;49mkwargs)\n",
      "File \u001b[0;32m~/mambaforge/envs/pyg_torch21/lib/python3.10/site-packages/torch/nn/modules/module.py:1527\u001b[0m, in \u001b[0;36mModule._call_impl\u001b[0;34m(self, *args, **kwargs)\u001b[0m\n\u001b[1;32m   1522\u001b[0m \u001b[39m# If we don't have any hooks, we want to skip the rest of the logic in\u001b[39;00m\n\u001b[1;32m   1523\u001b[0m \u001b[39m# this function, and just call forward.\u001b[39;00m\n\u001b[1;32m   1524\u001b[0m \u001b[39mif\u001b[39;00m \u001b[39mnot\u001b[39;00m (\u001b[39mself\u001b[39m\u001b[39m.\u001b[39m_backward_hooks \u001b[39mor\u001b[39;00m \u001b[39mself\u001b[39m\u001b[39m.\u001b[39m_backward_pre_hooks \u001b[39mor\u001b[39;00m \u001b[39mself\u001b[39m\u001b[39m.\u001b[39m_forward_hooks \u001b[39mor\u001b[39;00m \u001b[39mself\u001b[39m\u001b[39m.\u001b[39m_forward_pre_hooks\n\u001b[1;32m   1525\u001b[0m         \u001b[39mor\u001b[39;00m _global_backward_pre_hooks \u001b[39mor\u001b[39;00m _global_backward_hooks\n\u001b[1;32m   1526\u001b[0m         \u001b[39mor\u001b[39;00m _global_forward_hooks \u001b[39mor\u001b[39;00m _global_forward_pre_hooks):\n\u001b[0;32m-> 1527\u001b[0m     \u001b[39mreturn\u001b[39;00m forward_call(\u001b[39m*\u001b[39;49margs, \u001b[39m*\u001b[39;49m\u001b[39m*\u001b[39;49mkwargs)\n\u001b[1;32m   1529\u001b[0m \u001b[39mtry\u001b[39;00m:\n\u001b[1;32m   1530\u001b[0m     result \u001b[39m=\u001b[39m \u001b[39mNone\u001b[39;00m\n",
      "File \u001b[0;32m~/programming/create_graphds/models/HGT.py:27\u001b[0m, in \u001b[0;36mHGT.forward\u001b[0;34m(self, x_dict, edge_index_dict)\u001b[0m\n\u001b[1;32m     21\u001b[0m x_dict \u001b[39m=\u001b[39m {\n\u001b[1;32m     22\u001b[0m     node_type: \u001b[39mself\u001b[39m\u001b[39m.\u001b[39mlin_dict[node_type](x)\u001b[39m.\u001b[39mrelu_()\n\u001b[1;32m     23\u001b[0m     \u001b[39mfor\u001b[39;00m node_type, x \u001b[39min\u001b[39;00m x_dict\u001b[39m.\u001b[39mitems()\n\u001b[1;32m     24\u001b[0m }\n\u001b[1;32m     26\u001b[0m \u001b[39mfor\u001b[39;00m conv \u001b[39min\u001b[39;00m \u001b[39mself\u001b[39m\u001b[39m.\u001b[39mconvs:\n\u001b[0;32m---> 27\u001b[0m     x_dict \u001b[39m=\u001b[39m conv(x_dict, edge_index_dict)\n\u001b[1;32m     29\u001b[0m \u001b[39mreturn\u001b[39;00m x_dict\n",
      "File \u001b[0;32m~/mambaforge/envs/pyg_torch21/lib/python3.10/site-packages/torch/nn/modules/module.py:1518\u001b[0m, in \u001b[0;36mModule._wrapped_call_impl\u001b[0;34m(self, *args, **kwargs)\u001b[0m\n\u001b[1;32m   1516\u001b[0m     \u001b[39mreturn\u001b[39;00m \u001b[39mself\u001b[39m\u001b[39m.\u001b[39m_compiled_call_impl(\u001b[39m*\u001b[39margs, \u001b[39m*\u001b[39m\u001b[39m*\u001b[39mkwargs)  \u001b[39m# type: ignore[misc]\u001b[39;00m\n\u001b[1;32m   1517\u001b[0m \u001b[39melse\u001b[39;00m:\n\u001b[0;32m-> 1518\u001b[0m     \u001b[39mreturn\u001b[39;00m \u001b[39mself\u001b[39;49m\u001b[39m.\u001b[39;49m_call_impl(\u001b[39m*\u001b[39;49margs, \u001b[39m*\u001b[39;49m\u001b[39m*\u001b[39;49mkwargs)\n",
      "File \u001b[0;32m~/mambaforge/envs/pyg_torch21/lib/python3.10/site-packages/torch/nn/modules/module.py:1527\u001b[0m, in \u001b[0;36mModule._call_impl\u001b[0;34m(self, *args, **kwargs)\u001b[0m\n\u001b[1;32m   1522\u001b[0m \u001b[39m# If we don't have any hooks, we want to skip the rest of the logic in\u001b[39;00m\n\u001b[1;32m   1523\u001b[0m \u001b[39m# this function, and just call forward.\u001b[39;00m\n\u001b[1;32m   1524\u001b[0m \u001b[39mif\u001b[39;00m \u001b[39mnot\u001b[39;00m (\u001b[39mself\u001b[39m\u001b[39m.\u001b[39m_backward_hooks \u001b[39mor\u001b[39;00m \u001b[39mself\u001b[39m\u001b[39m.\u001b[39m_backward_pre_hooks \u001b[39mor\u001b[39;00m \u001b[39mself\u001b[39m\u001b[39m.\u001b[39m_forward_hooks \u001b[39mor\u001b[39;00m \u001b[39mself\u001b[39m\u001b[39m.\u001b[39m_forward_pre_hooks\n\u001b[1;32m   1525\u001b[0m         \u001b[39mor\u001b[39;00m _global_backward_pre_hooks \u001b[39mor\u001b[39;00m _global_backward_hooks\n\u001b[1;32m   1526\u001b[0m         \u001b[39mor\u001b[39;00m _global_forward_hooks \u001b[39mor\u001b[39;00m _global_forward_pre_hooks):\n\u001b[0;32m-> 1527\u001b[0m     \u001b[39mreturn\u001b[39;00m forward_call(\u001b[39m*\u001b[39;49margs, \u001b[39m*\u001b[39;49m\u001b[39m*\u001b[39;49mkwargs)\n\u001b[1;32m   1529\u001b[0m \u001b[39mtry\u001b[39;00m:\n\u001b[1;32m   1530\u001b[0m     result \u001b[39m=\u001b[39m \u001b[39mNone\u001b[39;00m\n",
      "File \u001b[0;32m~/mambaforge/envs/pyg_torch21/lib/python3.10/site-packages/torch_geometric/nn/conv/hgt_conv.py:196\u001b[0m, in \u001b[0;36mHGTConv.forward\u001b[0;34m(self, x_dict, edge_index_dict)\u001b[0m\n\u001b[1;32m    193\u001b[0m     v_dict[key] \u001b[39m=\u001b[39m v\u001b[39m.\u001b[39mview(\u001b[39m-\u001b[39m\u001b[39m1\u001b[39m, H, D)\n\u001b[1;32m    195\u001b[0m q, dst_offset \u001b[39m=\u001b[39m \u001b[39mself\u001b[39m\u001b[39m.\u001b[39m_cat(q_dict)\n\u001b[0;32m--> 196\u001b[0m k, v, src_offset \u001b[39m=\u001b[39m \u001b[39mself\u001b[39;49m\u001b[39m.\u001b[39;49m_construct_src_node_feat(\n\u001b[1;32m    197\u001b[0m     k_dict, v_dict, edge_index_dict)\n\u001b[1;32m    199\u001b[0m edge_index, edge_attr \u001b[39m=\u001b[39m construct_bipartite_edge_index(\n\u001b[1;32m    200\u001b[0m     edge_index_dict, src_offset, dst_offset, edge_attr_dict\u001b[39m=\u001b[39m\u001b[39mself\u001b[39m\u001b[39m.\u001b[39mp_rel)\n\u001b[1;32m    202\u001b[0m out \u001b[39m=\u001b[39m \u001b[39mself\u001b[39m\u001b[39m.\u001b[39mpropagate(edge_index, k\u001b[39m=\u001b[39mk, q\u001b[39m=\u001b[39mq, v\u001b[39m=\u001b[39mv, edge_attr\u001b[39m=\u001b[39medge_attr,\n\u001b[1;32m    203\u001b[0m                      size\u001b[39m=\u001b[39m\u001b[39mNone\u001b[39;00m)\n",
      "File \u001b[0;32m~/mambaforge/envs/pyg_torch21/lib/python3.10/site-packages/torch_geometric/nn/conv/hgt_conv.py:155\u001b[0m, in \u001b[0;36mHGTConv._construct_src_node_feat\u001b[0;34m(self, k_dict, v_dict, edge_index_dict)\u001b[0m\n\u001b[1;32m    152\u001b[0m vs \u001b[39m=\u001b[39m torch\u001b[39m.\u001b[39mcat(vs, dim\u001b[39m=\u001b[39m\u001b[39m0\u001b[39m)\u001b[39m.\u001b[39mtranspose(\u001b[39m0\u001b[39m, \u001b[39m1\u001b[39m)\u001b[39m.\u001b[39mreshape(\u001b[39m-\u001b[39m\u001b[39m1\u001b[39m, D)\n\u001b[1;32m    153\u001b[0m type_vec \u001b[39m=\u001b[39m torch\u001b[39m.\u001b[39mcat(type_list, dim\u001b[39m=\u001b[39m\u001b[39m1\u001b[39m)\u001b[39m.\u001b[39mflatten()\n\u001b[0;32m--> 155\u001b[0m k \u001b[39m=\u001b[39m \u001b[39mself\u001b[39;49m\u001b[39m.\u001b[39;49mk_rel(ks, type_vec)\u001b[39m.\u001b[39mview(H, \u001b[39m-\u001b[39m\u001b[39m1\u001b[39m, D)\u001b[39m.\u001b[39mtranspose(\u001b[39m0\u001b[39m, \u001b[39m1\u001b[39m)\n\u001b[1;32m    156\u001b[0m v \u001b[39m=\u001b[39m \u001b[39mself\u001b[39m\u001b[39m.\u001b[39mv_rel(vs, type_vec)\u001b[39m.\u001b[39mview(H, \u001b[39m-\u001b[39m\u001b[39m1\u001b[39m, D)\u001b[39m.\u001b[39mtranspose(\u001b[39m0\u001b[39m, \u001b[39m1\u001b[39m)\n\u001b[1;32m    158\u001b[0m \u001b[39mreturn\u001b[39;00m k, v, offset\n",
      "File \u001b[0;32m~/mambaforge/envs/pyg_torch21/lib/python3.10/site-packages/torch/nn/modules/module.py:1518\u001b[0m, in \u001b[0;36mModule._wrapped_call_impl\u001b[0;34m(self, *args, **kwargs)\u001b[0m\n\u001b[1;32m   1516\u001b[0m     \u001b[39mreturn\u001b[39;00m \u001b[39mself\u001b[39m\u001b[39m.\u001b[39m_compiled_call_impl(\u001b[39m*\u001b[39margs, \u001b[39m*\u001b[39m\u001b[39m*\u001b[39mkwargs)  \u001b[39m# type: ignore[misc]\u001b[39;00m\n\u001b[1;32m   1517\u001b[0m \u001b[39melse\u001b[39;00m:\n\u001b[0;32m-> 1518\u001b[0m     \u001b[39mreturn\u001b[39;00m \u001b[39mself\u001b[39;49m\u001b[39m.\u001b[39;49m_call_impl(\u001b[39m*\u001b[39;49margs, \u001b[39m*\u001b[39;49m\u001b[39m*\u001b[39;49mkwargs)\n",
      "File \u001b[0;32m~/mambaforge/envs/pyg_torch21/lib/python3.10/site-packages/torch/nn/modules/module.py:1527\u001b[0m, in \u001b[0;36mModule._call_impl\u001b[0;34m(self, *args, **kwargs)\u001b[0m\n\u001b[1;32m   1522\u001b[0m \u001b[39m# If we don't have any hooks, we want to skip the rest of the logic in\u001b[39;00m\n\u001b[1;32m   1523\u001b[0m \u001b[39m# this function, and just call forward.\u001b[39;00m\n\u001b[1;32m   1524\u001b[0m \u001b[39mif\u001b[39;00m \u001b[39mnot\u001b[39;00m (\u001b[39mself\u001b[39m\u001b[39m.\u001b[39m_backward_hooks \u001b[39mor\u001b[39;00m \u001b[39mself\u001b[39m\u001b[39m.\u001b[39m_backward_pre_hooks \u001b[39mor\u001b[39;00m \u001b[39mself\u001b[39m\u001b[39m.\u001b[39m_forward_hooks \u001b[39mor\u001b[39;00m \u001b[39mself\u001b[39m\u001b[39m.\u001b[39m_forward_pre_hooks\n\u001b[1;32m   1525\u001b[0m         \u001b[39mor\u001b[39;00m _global_backward_pre_hooks \u001b[39mor\u001b[39;00m _global_backward_hooks\n\u001b[1;32m   1526\u001b[0m         \u001b[39mor\u001b[39;00m _global_forward_hooks \u001b[39mor\u001b[39;00m _global_forward_pre_hooks):\n\u001b[0;32m-> 1527\u001b[0m     \u001b[39mreturn\u001b[39;00m forward_call(\u001b[39m*\u001b[39;49margs, \u001b[39m*\u001b[39;49m\u001b[39m*\u001b[39;49mkwargs)\n\u001b[1;32m   1529\u001b[0m \u001b[39mtry\u001b[39;00m:\n\u001b[1;32m   1530\u001b[0m     result \u001b[39m=\u001b[39m \u001b[39mNone\u001b[39;00m\n",
      "File \u001b[0;32m~/mambaforge/envs/pyg_torch21/lib/python3.10/site-packages/torch_geometric/nn/dense/linear.py:276\u001b[0m, in \u001b[0;36mHeteroLinear.forward\u001b[0;34m(self, x, type_vec)\u001b[0m\n\u001b[1;32m    274\u001b[0m \u001b[39mif\u001b[39;00m mask\u001b[39m.\u001b[39mnumel() \u001b[39m==\u001b[39m \u001b[39m0\u001b[39m:\n\u001b[1;32m    275\u001b[0m     \u001b[39mcontinue\u001b[39;00m\n\u001b[0;32m--> 276\u001b[0m subset_out \u001b[39m=\u001b[39m F\u001b[39m.\u001b[39mlinear(x[mask], \u001b[39mself\u001b[39;49m\u001b[39m.\u001b[39;49mweight[i]\u001b[39m.\u001b[39mT)\n\u001b[1;32m    277\u001b[0m \u001b[39m# The data type may have changed with mixed precision:\u001b[39;00m\n\u001b[1;32m    278\u001b[0m out[mask] \u001b[39m=\u001b[39m subset_out\u001b[39m.\u001b[39mto(out\u001b[39m.\u001b[39mdtype)\n",
      "File \u001b[0;32m~/mambaforge/envs/pyg_torch21/lib/python3.10/site-packages/torch/nn/modules/module.py:1682\u001b[0m, in \u001b[0;36mModule.__getattr__\u001b[0;34m(self, name)\u001b[0m\n\u001b[1;32m   1673\u001b[0m         \u001b[39mself\u001b[39m\u001b[39m.\u001b[39m_backward_pre_hooks \u001b[39m=\u001b[39m OrderedDict()\n\u001b[1;32m   1675\u001b[0m \u001b[39m# On the return type:\u001b[39;00m\n\u001b[1;32m   1676\u001b[0m \u001b[39m# We choose to return `Any` in the `__getattr__` type signature instead of a more strict `Union[Tensor, Module]`.\u001b[39;00m\n\u001b[1;32m   1677\u001b[0m \u001b[39m# This is done for better interop with various type checkers for the end users.\u001b[39;00m\n\u001b[0;32m   (...)\u001b[0m\n\u001b[1;32m   1680\u001b[0m \u001b[39m# See full discussion on the problems with returning `Union` here\u001b[39;00m\n\u001b[1;32m   1681\u001b[0m \u001b[39m# https://github.com/microsoft/pyright/issues/4213\u001b[39;00m\n\u001b[0;32m-> 1682\u001b[0m \u001b[39mdef\u001b[39;00m \u001b[39m__getattr__\u001b[39m(\u001b[39mself\u001b[39m, name: \u001b[39mstr\u001b[39m) \u001b[39m-\u001b[39m\u001b[39m>\u001b[39m Any:\n\u001b[1;32m   1683\u001b[0m     \u001b[39mif\u001b[39;00m \u001b[39m'\u001b[39m\u001b[39m_parameters\u001b[39m\u001b[39m'\u001b[39m \u001b[39min\u001b[39;00m \u001b[39mself\u001b[39m\u001b[39m.\u001b[39m\u001b[39m__dict__\u001b[39m:\n\u001b[1;32m   1684\u001b[0m         _parameters \u001b[39m=\u001b[39m \u001b[39mself\u001b[39m\u001b[39m.\u001b[39m\u001b[39m__dict__\u001b[39m[\u001b[39m'\u001b[39m\u001b[39m_parameters\u001b[39m\u001b[39m'\u001b[39m]\n",
      "\u001b[0;31mKeyboardInterrupt\u001b[0m: "
     ]
    },
    {
     "ename": "",
     "evalue": "",
     "output_type": "error",
     "traceback": [
      "\u001b[1;31mThe Kernel crashed while executing code in the the current cell or a previous cell. Please review the code in the cell(s) to identify a possible cause of the failure. Click <a href='https://aka.ms/vscodeJupyterKernelCrash'>here</a> for more info. View Jupyter <a href='command:jupyter.viewOutput'>log</a> for further details."
     ]
    }
   ],
   "source": [
    "evaluate(model_3layereuclid, 10000, model_folder3layereuclid, on='test')\n",
    "# evaluate(model_2layereuclid, 10000, model_folder2layereuclid, on='test')\n",
    "#evaluate(model_2layerp1, 10000, model_folder2layerp1, on='test')"
   ]
  },
  {
   "cell_type": "code",
   "execution_count": null,
   "metadata": {},
   "outputs": [],
   "source": []
  },
  {
   "cell_type": "code",
   "execution_count": null,
   "metadata": {},
   "outputs": [
    {
     "name": "stdout",
     "output_type": "stream",
     "text": [
      "size of dataset on disk:  2.279761238 gb\n",
      "loading saved heterodata object\n",
      "for skill job edges keep top k edges per job, k is  50\n",
      "keep tensor(1208056) of total 16289586\n"
     ]
    },
    {
     "name": "stderr",
     "output_type": "stream",
     "text": [
      "1it [00:15, 15.19s/it]"
     ]
    },
    {
     "name": "stdout",
     "output_type": "stream",
     "text": [
      "new best mrr 8.13206473123526e-05\n"
     ]
    },
    {
     "name": "stderr",
     "output_type": "stream",
     "text": [
      "2it [00:23, 10.85s/it]"
     ]
    },
    {
     "name": "stdout",
     "output_type": "stream",
     "text": [
      "new best mrr 0.000500751126690035\n"
     ]
    },
    {
     "name": "stderr",
     "output_type": "stream",
     "text": [
      "4it [00:36,  8.10s/it]"
     ]
    },
    {
     "name": "stdout",
     "output_type": "stream",
     "text": [
      "new best mrr 0.2\n"
     ]
    },
    {
     "name": "stderr",
     "output_type": "stream",
     "text": [
      "8it [01:00,  6.52s/it]"
     ]
    },
    {
     "name": "stdout",
     "output_type": "stream",
     "text": [
      "new best mrr 1.0\n"
     ]
    },
    {
     "name": "stderr",
     "output_type": "stream",
     "text": [
      "200it [23:41,  7.11s/it]\n"
     ]
    },
    {
     "name": "stdout",
     "output_type": "stream",
     "text": [
      "mean mrr 0.13983406037281088\n",
      "mean rank 7.151333497245987\n",
      "size of dataset on disk:  2.279761238 gb\n",
      "loading saved heterodata object\n",
      "for skill job edges keep top k edges per job, k is  50\n",
      "keep tensor(1208056) of total 16289586\n"
     ]
    },
    {
     "name": "stderr",
     "output_type": "stream",
     "text": [
      "1it [00:09,  9.78s/it]"
     ]
    },
    {
     "name": "stdout",
     "output_type": "stream",
     "text": [
      "new best mrr 0.0001484560570071259\n"
     ]
    },
    {
     "name": "stderr",
     "output_type": "stream",
     "text": [
      "2it [00:13,  6.03s/it]"
     ]
    },
    {
     "name": "stdout",
     "output_type": "stream",
     "text": [
      "new best mrr 0.005494505494505495\n"
     ]
    },
    {
     "name": "stderr",
     "output_type": "stream",
     "text": [
      "4it [00:18,  3.63s/it]"
     ]
    },
    {
     "name": "stdout",
     "output_type": "stream",
     "text": [
      "new best mrr 0.16666666666666666\n"
     ]
    },
    {
     "name": "stderr",
     "output_type": "stream",
     "text": [
      "8it [00:27,  2.44s/it]"
     ]
    },
    {
     "name": "stdout",
     "output_type": "stream",
     "text": [
      "new best mrr 0.3333333333333333\n"
     ]
    },
    {
     "name": "stderr",
     "output_type": "stream",
     "text": [
      "31it [01:25,  2.68s/it]"
     ]
    },
    {
     "name": "stdout",
     "output_type": "stream",
     "text": [
      "new best mrr 1.0\n"
     ]
    },
    {
     "name": "stderr",
     "output_type": "stream",
     "text": [
      "200it [09:34,  2.87s/it]\n"
     ]
    },
    {
     "name": "stdout",
     "output_type": "stream",
     "text": [
      "mean mrr 0.08684513895969696\n",
      "mean rank 11.514749264942502\n",
      "size of dataset on disk:  2.279761238 gb\n",
      "loading saved heterodata object\n",
      "for skill job edges keep top k edges per job, k is  50\n",
      "keep tensor(1208056) of total 16289586\n"
     ]
    },
    {
     "name": "stderr",
     "output_type": "stream",
     "text": [
      "1it [00:05,  5.00s/it]"
     ]
    },
    {
     "name": "stdout",
     "output_type": "stream",
     "text": [
      "new best mrr 0.00016452780519907864\n"
     ]
    },
    {
     "name": "stderr",
     "output_type": "stream",
     "text": [
      "2it [00:07,  3.52s/it]"
     ]
    },
    {
     "name": "stdout",
     "output_type": "stream",
     "text": [
      "new best mrr 0.02127659574468085\n"
     ]
    },
    {
     "name": "stderr",
     "output_type": "stream",
     "text": [
      "4it [00:12,  2.73s/it]"
     ]
    },
    {
     "name": "stdout",
     "output_type": "stream",
     "text": [
      "new best mrr 0.1111111111111111\n"
     ]
    },
    {
     "name": "stderr",
     "output_type": "stream",
     "text": [
      "8it [00:20,  2.25s/it]"
     ]
    },
    {
     "name": "stdout",
     "output_type": "stream",
     "text": [
      "new best mrr 1.0\n"
     ]
    },
    {
     "name": "stderr",
     "output_type": "stream",
     "text": [
      "200it [10:11,  3.06s/it]\n"
     ]
    },
    {
     "name": "stdout",
     "output_type": "stream",
     "text": [
      "mean mrr 0.11901925778350261\n",
      "mean rank 8.402001647657823\n"
     ]
    }
   ],
   "source": [
    "evaluate(model_3layereuclid, 10000, model_folder3layereuclid, on='train')\n",
    "evaluate(model_2layereuclid, 10000, model_folder2layereuclid, on='train')\n",
    "evaluate(model_2layerp1, 10000, model_folder2layerp1, on='train')"
   ]
  },
  {
   "cell_type": "code",
   "execution_count": null,
   "metadata": {},
   "outputs": [],
   "source": [
    "evaluate(modele4, 50000, model_foldere4)"
   ]
  },
  {
   "cell_type": "code",
   "execution_count": null,
   "metadata": {},
   "outputs": [],
   "source": [
    "evaluate(modele4euclidean, 50000, model_foldere4euclidean)"
   ]
  },
  {
   "cell_type": "code",
   "execution_count": null,
   "metadata": {},
   "outputs": [],
   "source": [
    "evaluate(modele5, 50000, model_foldere5, on='train')"
   ]
  },
  {
   "cell_type": "code",
   "execution_count": null,
   "metadata": {},
   "outputs": [],
   "source": []
  },
  {
   "cell_type": "code",
   "execution_count": null,
   "metadata": {},
   "outputs": [],
   "source": [
    "evaluate(modele4, 50000, model_foldere4, on='train')"
   ]
  },
  {
   "cell_type": "code",
   "execution_count": null,
   "metadata": {},
   "outputs": [],
   "source": [
    "evaluate(modele4euclidean, 30000, model_foldere4euclidean, on='train')"
   ]
  }
 ],
 "metadata": {
  "kernelspec": {
   "display_name": "Python 3 (ipykernel)",
   "language": "python",
   "name": "python3"
  },
  "language_info": {
   "codemirror_mode": {
    "name": "ipython",
    "version": 3
   },
   "file_extension": ".py",
   "mimetype": "text/x-python",
   "name": "python",
   "nbconvert_exporter": "python",
   "pygments_lexer": "ipython3",
   "version": "3.10.12"
  }
 },
 "nbformat": 4,
 "nbformat_minor": 4
}
