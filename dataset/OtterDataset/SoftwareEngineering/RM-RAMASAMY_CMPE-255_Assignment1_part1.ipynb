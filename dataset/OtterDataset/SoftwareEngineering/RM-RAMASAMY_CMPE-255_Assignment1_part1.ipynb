{
  "cells": [
    {
      "cell_type": "markdown",
      "metadata": {
        "id": "view-in-github",
        "colab_type": "text"
      },
      "source": [
        "<a href=\"https://colab.research.google.com/github/RM-RAMASAMY/CMPE-255/blob/main/Assignment1_part1.ipynb\" target=\"_parent\"><img src=\"https://colab.research.google.com/assets/colab-badge.svg\" alt=\"Open In Colab\"/></a>"
      ]
    },
    {
      "cell_type": "markdown",
      "source": [
        "# CMPE 255 section 47 Data Mining: Assignment One Part One\n",
        "## *Ramasamy Ramanathan*\n",
        "### **SJSU ID: 017455672**\n",
        "#### Software Engineering Special Session\n",
        "\n",
        "\n",
        "---\n",
        "---\n",
        "\n",
        "\n",
        "#Part_1.1.Basic Python tutorial:"
      ],
      "metadata": {
        "id": "hlnlReB2Hoeg"
      }
    },
    {
      "cell_type": "code",
      "execution_count": null,
      "metadata": {
        "id": "XUTUS8ZJvz79"
      },
      "outputs": [],
      "source": [
        "import random\n",
        "import sys\n",
        "import os"
      ]
    },
    {
      "cell_type": "code",
      "execution_count": null,
      "metadata": {
        "id": "B3ay9uIXvz8A"
      },
      "outputs": [],
      "source": [
        "print(\"Hello world\")"
      ]
    },
    {
      "cell_type": "code",
      "execution_count": null,
      "metadata": {
        "id": "PKmZAuXgvz8C"
      },
      "outputs": [],
      "source": [
        "#comment"
      ]
    },
    {
      "cell_type": "code",
      "execution_count": null,
      "metadata": {
        "id": "WS1tGtqFvz8C"
      },
      "outputs": [],
      "source": [
        "#STRINGS\n",
        "\n",
        "name = \"Ramasamy\"\n",
        "print(name,\"\\n\")\n",
        "\n",
        "quote = \"\\\"Sample single line quote\\\"\"\n",
        "print(quote,\"\\n\")\n",
        "\n",
        "multi_line_quote = '''\\\"Sample of multi\n",
        "    line quote\\\"'''\n",
        "print(multi_line_quote,\"\\n\")\n",
        "\n",
        "print(\"joined quotes = \",quote + \" \" + multi_line_quote,\"\\n\")\n",
        "\n",
        "print(\"%s %s %s\" % (\"I like the quote\",quote,multi_line_quote),\"\\n\")\n",
        "\n",
        "print(\"*\" * 50,end=\" \")\n",
        "print(\"not newlines \\n\")\n",
        "\n",
        "LONG_STRING = \"Hi, this is where I demonstrate string manipulation\"\n",
        "print(\"LONG_STRING[0:19]: \",LONG_STRING[0:19])\n",
        "print(\"LONG_STRING[-12:]: \",LONG_STRING[-12:])\n",
        "print(\"LONG_STRING[:-12]: \",LONG_STRING[:-12])\n",
        "print(\"LONG_STRING[:4]: \",LONG_STRING[:4] + \"nothing\")\n",
        "\n",
        "print(\"%c is my %s letter and my number %d number is %.5f\" %\n",
        "      (\"X\",\"Favourite\",1,.14))\n",
        "\n",
        "print(LONG_STRING.capitalize())\n",
        "print(\"Index of the word \\'where\\' is: \",LONG_STRING.find('where'))\n",
        "\n",
        "print(\"isalpha?: \",LONG_STRING.isalpha(),\n",
        "      \"\\nisalnum?: \",LONG_STRING.isalnum(),\n",
        "      \"\\nlength?: \",len(LONG_STRING),\n",
        "      \"\\nreplace: \",LONG_STRING.replace(\"where\",\"the place\"),\n",
        "      \"\\nstrip: \",LONG_STRING.strip())\n",
        "\n",
        "quote_list = LONG_STRING.split(\" \")\n",
        "print(\"\\nquote_list: \",quote_list)"
      ]
    },
    {
      "cell_type": "code",
      "execution_count": null,
      "metadata": {
        "id": "iDZkHRONvz8D"
      },
      "outputs": [],
      "source": [
        "#NUMBERS\n",
        "\n",
        "num = 10\n",
        "print(num*10)\n",
        "\n",
        "#numeric operations + - / * % ** //\n",
        "print(num,\"* 2 = \",num * 2)\n",
        "print(num,\"/ 2 = \",num / 2)\n",
        "print(num,\"+ 2 = \",num + 2)\n",
        "print(num,\"- 2 = \",num - 2)\n",
        "print(num+1,\"% 2 = \",(num+1) % 2)\n",
        "print(num,\"** 3 = \",num ** 3)\n",
        "print(num,\"// 3 = \",num // 3)\n",
        "\n",
        "#order of operations\n",
        "print(\"1 + 2 - 3 * 2 =\",1+2-3*2)\n",
        "print(\"(1 + 2 - 3) * 2 =\",(1+2-3)*2)"
      ]
    },
    {
      "cell_type": "code",
      "execution_count": null,
      "metadata": {
        "id": "r3DV7l4jvz8E"
      },
      "outputs": [],
      "source": [
        " #LISTS\n",
        "\n",
        "comic_hero_list = ['Superman','Batmman','Ironman','Captain America','Hulk']\n",
        "print('First Hero: ',comic_hero_list[0])\n",
        "comic_hero_list[0] = 'Antman'\n",
        "print('New First Hero: ',comic_hero_list[0])\n",
        "print('Rest of the Heros: ',comic_hero_list[1:5])\n",
        "\n",
        "other_comic_heros = ['Blackpanther','Hawkeye','Spiderman']\n",
        "\n",
        "all_heros = [other_comic_heros, comic_hero_list]\n",
        "print(\"list inside of list\",all_heros)\n",
        "\n",
        "print(\"specific hero in a nested list: \",(all_heros[1][4]))\n",
        "\n",
        "comic_hero_list.append('Galactus')\n",
        "print(\"list after appending Galactus: \",comic_hero_list)\n",
        "\n",
        "comic_hero_list.insert(1,'SilverSurfer')\n",
        "print(\"list after inserting SilverSurfer at index 1: \",comic_hero_list)\n",
        "\n",
        "comic_hero_list.remove('SilverSurfer')\n",
        "print(\"list after removing SilverSurfer: \",comic_hero_list)\n",
        "\n",
        "comic_hero_list.sort()\n",
        "print(\"list after sorting: \",comic_hero_list)\n",
        "\n",
        "comic_hero_list.reverse()\n",
        "print(\"list after reversing the sorted list: \",comic_hero_list)\n",
        "\n",
        "del comic_hero_list[4]\n",
        "print(\"list after deleting the element at the 4th index: \",comic_hero_list)\n",
        "\n",
        "new_list = comic_hero_list + other_comic_heros\n",
        "print(\"new list after adding two list: \",new_list)\n",
        "print(\"length of the new list is: \", len(new_list))\n",
        "print(\"element with the maximum length: \", max(new_list))\n",
        "print(\"element with the minimum length: \", min(new_list))"
      ]
    },
    {
      "cell_type": "code",
      "execution_count": null,
      "metadata": {
        "id": "ZY2VLOx7vz8G"
      },
      "outputs": [],
      "source": [
        "#TUPLES\n",
        "\n",
        "my_tuple = (3,1,4,5,6)\n",
        "print(\"my tuple: \",my_tuple)\n",
        "\n",
        "tuple_to_list = list(my_tuple)\n",
        "print(\"list from tuple: \",tuple_to_list)\n",
        "\n",
        "new_tuple = tuple(tuple_to_list)\n",
        "print(\"tuple from list: \",new_tuple)\n",
        "\n",
        "print(\"length of the tuple: \",len(my_tuple))\n",
        "print(\"Minimum element of the tuple: \",min(my_tuple))\n",
        "print(\"Maximum element of the tuple: \",max(my_tuple))"
      ]
    },
    {
      "cell_type": "code",
      "execution_count": null,
      "metadata": {
        "id": "iZsd5Iv6vz8H"
      },
      "outputs": [],
      "source": [
        "#DICTIONARIES\n",
        "\n",
        "subject_toppers = {\n",
        "    \"Mathematics\" : \"Ram\",\n",
        "    \"Physics\" : \"Krish\",\n",
        "    \"Biology\" : \"John\",\n",
        "    \"Chemistry\" : \"Muhammad\",\n",
        "    \"Computer Science\" : \"nishanth\"\n",
        "}\n",
        "\n",
        "print(\"subject topper in mathematics: \",subject_toppers[\"Mathematics\"])\n",
        "del subject_toppers[\"Physics\"]\n",
        "print(\"subjects after deleting Physics: \",subject_toppers.keys())\n",
        "subject_toppers[\"Biology\"] = \"kanye west\"\n",
        "print(\"subject topper Biology after re-asigning: \",subject_toppers[\"Biology\"])\n",
        "print(\"Length of the dictionary: \",len(subject_toppers))\n",
        "print(subject_toppers.get(\"Chemistry\"))\n",
        "print(\"Keys: \",subject_toppers.keys())\n",
        "print(\"Values: \",subject_toppers.values())\n",
        "print(subject_toppers)"
      ]
    },
    {
      "cell_type": "code",
      "execution_count": null,
      "metadata": {
        "id": "rBOD2Ot8vz8J"
      },
      "outputs": [],
      "source": [
        "#CONDITIONS\n",
        "\n",
        "age = 21\n",
        "if age > 16 :\n",
        "    print(\"you are old enough to drive\")\n",
        "else:\n",
        "    print(\"you are not old enough to drive\")\n",
        "\n",
        "\n",
        "if age >=21 :\n",
        "    print(\"you are old enough to drive a tractor trailer\")\n",
        "elif age >=16 :\n",
        "    print(\"you are old enough to drive\")\n",
        "else:\n",
        "    print(\"you are not old enough to drive\")\n",
        "\n",
        "\n",
        "if((age>=1) and (age<=18)):\n",
        "    print(\"you get a birthday\")\n",
        "elif ((age == 21) or (age >= 65)):\n",
        "    print(\"you get a birthday\")\n",
        "elif not(age == 30):\n",
        "    print(\"you don't get a birthday\")\n",
        "else:\n",
        "    print(\"you get a birthday yeah\")"
      ]
    },
    {
      "cell_type": "code",
      "execution_count": null,
      "metadata": {
        "id": "rLy315ESvz8K"
      },
      "outputs": [],
      "source": [
        "#LOOPING\n",
        "\n",
        "print(\"For Loop:\")\n",
        "for x in range(0,10):\n",
        "    print(x,\" \",end=\"\")\n",
        "print('\\n')\n",
        "comic_hero_list = ['Ironman', 'Hulk', 'Galactus', 'Captain America', 'Antman']\n",
        "\n",
        "for super_heros in comic_hero_list:\n",
        "    print(super_heros,\" \",end=\"\")\n",
        "\n",
        "number_list = [[1,2,3],[10,20,30],[100,200,330]]\n",
        "for x in range(0,3):\n",
        "    for y in range(0,3):\n",
        "         print(number_list[x][y],\" \",end=\"\")\n",
        "    print('\\n')\n",
        "\n",
        "print('\\n')\n",
        "print(\"While Loop:\")\n",
        "\n",
        "rand_num = random.randrange(0,100)\n",
        "\n",
        "while(rand_num in range(10,90)):\n",
        "    print(rand_num,\" \",end=\"\")\n",
        "    rand_num = random.randrange(0,100)\n",
        "\n",
        "print(\"\\n\")\n",
        "i=0\n",
        "\n",
        "while(i <= 20):\n",
        "    if((i % 2) == 0):\n",
        "        print(i)\n",
        "    elif(i == 9):\n",
        "        break;\n",
        "    else:\n",
        "        i += 1\n",
        "        continue\n",
        "    i += 1"
      ]
    },
    {
      "cell_type": "code",
      "execution_count": null,
      "metadata": {
        "id": "YfWk6Ry6vz8L"
      },
      "outputs": [],
      "source": [
        "#FUNCTIONS AND USER INPUT\n",
        "\n",
        "def addNumbers(a,b):\n",
        "    sumNum = a+b\n",
        "    return sumNum\n",
        "\n",
        "print(addNumbers(int(input(\"A:\")),int(input(\"B:\"))))\n",
        "\n",
        "print(\"What is your name?: \")\n",
        "my_name = \"Ram\"\n",
        "# my_name = sys.stdin.read()\n",
        "my_name = input()\n",
        "print(\"Hello\", my_name)"
      ]
    },
    {
      "cell_type": "code",
      "execution_count": null,
      "metadata": {
        "id": "mRr4tSHYvz8M"
      },
      "outputs": [],
      "source": [
        "#FILE I/O\n",
        "\n",
        "test_file = open(\"text.txt\",\"wb\")\n",
        "print(\"file mode: \",test_file.mode)\n",
        "print(\"file name: \",test_file.name)\n",
        "test_file.write(bytes(\"Write me into the file\\n\",'UTF-8'))\n",
        "test_file.close()\n",
        "test_file = open(\"text.txt\",\"r+\")\n",
        "text_in_myfile = test_file.read()\n",
        "print(\"text in the file: \",text_in_myfile)\n",
        "\n",
        "os.remove(\"text.txt\")"
      ]
    },
    {
      "cell_type": "code",
      "source": [
        "#OBJECTS\n",
        "\n",
        "class Animal:\n",
        "    __name = None\n",
        "    __height = None\n",
        "    __weight = None\n",
        "    __sound = None\n",
        "\n",
        "    def __init__(self, name, height, weight, sound):\n",
        "        self.__name = name\n",
        "        self.__height = height\n",
        "        self.__weight = weight\n",
        "        self.__sound = sound\n",
        "\n",
        "    def set_name(self, name):\n",
        "        self.__name = name\n",
        "\n",
        "    def set_height(self, height):\n",
        "        self.__height = height\n",
        "\n",
        "    def set_weight(self, height):\n",
        "        self.__height = height\n",
        "\n",
        "    def set_sound(self, sound):\n",
        "        self.__sound = sound\n",
        "\n",
        "    def get_name(self):\n",
        "        return self.__name\n",
        "\n",
        "    def get_height(self):\n",
        "        return str(self.__height)\n",
        "\n",
        "    def get_weight(self):\n",
        "        return str(self.__weight)\n",
        "\n",
        "    def get_sound(self):\n",
        "        return self.__sound\n",
        "\n",
        "    def get_type(self):\n",
        "        print(\"Animal\")\n",
        "\n",
        "    def toString(self):\n",
        "        return \"{} is {} cm tall and {} kg and says {}\".format(self.__name,\n",
        "                                                               self.__height,\n",
        "                                                               self.__weight,\n",
        "                                                               self.__sound)\n"
      ],
      "metadata": {
        "id": "K59kHYIlBw8t"
      },
      "execution_count": null,
      "outputs": []
    },
    {
      "cell_type": "code",
      "source": [
        "cat = Animal('Whiskers', 33, 10, 'Meow')\n",
        "print(cat.toString())\n",
        "# print(cat.__name)"
      ],
      "metadata": {
        "id": "oDyd9Q_9D77q"
      },
      "execution_count": null,
      "outputs": []
    },
    {
      "cell_type": "code",
      "source": [
        "#INHERITANCE\n",
        "\n",
        "class Dog(Animal):\n",
        "    __owner = None\n",
        "\n",
        "    def __init__(self, name, height, weight, sound, owner):\n",
        "        self.__owner = owner\n",
        "        self.__animal_type = None\n",
        "\n",
        "        super(Dog, self).__init__(name, height, weight, sound)\n",
        "\n",
        "    def set_owner(self, owner):\n",
        "        self.__owner = owner\n",
        "\n",
        "    def get_owner(self):\n",
        "        return self.__owner\n",
        "\n",
        "    def get_type(self):\n",
        "        print (\"Dog\")\n",
        "\n",
        "    def toString(self):\n",
        "        return \"{} is {} cm tall and {} kg and says {}. His owner is {}\".format(self.get_name(),\n",
        "                                                                                self.get_height(),\n",
        "                                                                                self.get_weight(),\n",
        "                                                                                self.get_sound(),\n",
        "                                                                                self.__owner)\n",
        "\n",
        "    def multiple_sounds(self, how_many=None):\n",
        "        if how_many is None:\n",
        "            print(self.get_sound)\n",
        "        else:\n",
        "            print(self.get_sound() * how_many)\n"
      ],
      "metadata": {
        "id": "bc6yCUbjDxR7"
      },
      "execution_count": null,
      "outputs": []
    },
    {
      "cell_type": "code",
      "source": [
        "spot = Dog(\"Spot\", 53, 27, \"Ruff\", \"Derek\")\n",
        "print(spot.toString())\n",
        "\n",
        "class AnimalTesting:\n",
        "    def get_type(self, animal):\n",
        "        animal.get_type()\n",
        "\n",
        "test_animals = AnimalTesting()\n",
        "test_animals.get_type(cat)\n",
        "test_animals.get_type(spot)\n",
        "spot.multiple_sounds(4)"
      ],
      "metadata": {
        "id": "0fvoY5BCE8Yb"
      },
      "execution_count": null,
      "outputs": []
    },
    {
      "cell_type": "markdown",
      "source": [
        "\n",
        "\n",
        "---\n",
        "---\n",
        "#Part_1.2.Colab introduction:"
      ],
      "metadata": {
        "id": "XeOYmGfhO0qh"
      }
    },
    {
      "cell_type": "code",
      "source": [
        "! pip install py3dmol"
      ],
      "metadata": {
        "id": "IGDCkgGbNQh9"
      },
      "execution_count": null,
      "outputs": []
    },
    {
      "cell_type": "code",
      "source": [
        "import py3Dmol\n",
        "p = py3Dmol.view(query='mmtf:1ycr')\n",
        "p.setStyle({'cartoon': {'color':'spectrum'}})"
      ],
      "metadata": {
        "id": "61FF5BF_NYYl"
      },
      "execution_count": null,
      "outputs": []
    },
    {
      "cell_type": "markdown",
      "source": [
        "\n",
        "\n",
        "---\n",
        "---\n",
        "#Part_1.3.Advanced Colab:"
      ],
      "metadata": {
        "id": "HU4r2SlfatE5"
      }
    },
    {
      "cell_type": "code",
      "source": [
        "!wget -q https://losc.ligo.org/s/events/LOSC_Event_tutorial.zip\n",
        "!unzip -j LOSC_Event_tutorial.zip LOSC_Event_tutorial/."
      ],
      "metadata": {
        "id": "5qi18L7zbR7e"
      },
      "execution_count": null,
      "outputs": []
    },
    {
      "cell_type": "code",
      "source": [
        "from sklearn import datasets\n",
        "import pandas as pd\n",
        "iris = datasets.load_iris()\n",
        "iris = pd.DataFrame(data=iris.data, columns=iris.feature_names)"
      ],
      "metadata": {
        "id": "VWlkTXogi4GD"
      },
      "execution_count": null,
      "outputs": []
    },
    {
      "cell_type": "code",
      "source": [
        "type(iris)"
      ],
      "metadata": {
        "id": "yog4hMCRkYPl"
      },
      "execution_count": null,
      "outputs": []
    },
    {
      "cell_type": "code",
      "source": [
        "from google.colab import drive\n",
        "drive.mount('/content/drive')"
      ],
      "metadata": {
        "id": "rSJAFg5mfMs8"
      },
      "execution_count": null,
      "outputs": []
    },
    {
      "cell_type": "code",
      "source": [
        "from pathlib import Path\n",
        "filepath = Path('data.csv')\n",
        "filepath.parent.mkdir(parents=True, exist_ok=True)\n",
        "iris.to_csv(filepath)"
      ],
      "metadata": {
        "id": "KKs8v6Tci_xx"
      },
      "execution_count": null,
      "outputs": []
    },
    {
      "cell_type": "code",
      "source": [
        "#@title\n",
        "text = 'value' #@param\n",
        "date_input = '2018-03-22' #@param {type:\"date\"}\n",
        "number_slider = 0 #@param {type:\"slider\", min:-1, max: 1}\n",
        "dropdown = \"1st option\" # @param [\"1st option\", \"2nd option\"]"
      ],
      "metadata": {
        "id": "tM7v96AQmlc7"
      },
      "execution_count": null,
      "outputs": []
    },
    {
      "cell_type": "code",
      "source": [
        "!pip install tensorflow"
      ],
      "metadata": {
        "id": "l14hUOLBqUlG"
      },
      "execution_count": null,
      "outputs": []
    },
    {
      "cell_type": "code",
      "source": [
        "%load_ext rpy2.ipython"
      ],
      "metadata": {
        "id": "3uWj-iGjqXCe"
      },
      "execution_count": null,
      "outputs": []
    },
    {
      "cell_type": "code",
      "source": [
        "%%R\n",
        "X <- tail(mtcars,5)\n",
        "print(X)"
      ],
      "metadata": {
        "id": "xBQyO6PzrFkY"
      },
      "execution_count": null,
      "outputs": []
    },
    {
      "cell_type": "code",
      "source": [
        "%%html\n",
        "<!DOCTYPE html>\n",
        "<html>\n",
        "<body>\n",
        "\n",
        "<button onclick=\"window.print()\">Print this page</button>\n",
        "\n",
        "</body>\n",
        "</html>"
      ],
      "metadata": {
        "id": "1c_XkIUtrnsC"
      },
      "execution_count": null,
      "outputs": []
    }
  ],
  "metadata": {
    "kernelspec": {
      "display_name": "Python 3",
      "language": "python",
      "name": "python3"
    },
    "language_info": {
      "codemirror_mode": {
        "name": "ipython",
        "version": 3
      },
      "file_extension": ".py",
      "mimetype": "text/x-python",
      "name": "python",
      "nbconvert_exporter": "python",
      "pygments_lexer": "ipython3",
      "version": "3.12.4"
    },
    "colab": {
      "provenance": [],
      "include_colab_link": true
    }
  },
  "nbformat": 4,
  "nbformat_minor": 0
}