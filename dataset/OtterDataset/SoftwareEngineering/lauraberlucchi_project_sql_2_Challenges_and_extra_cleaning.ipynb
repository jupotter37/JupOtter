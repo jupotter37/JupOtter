{
  "cells": [
    {
      "cell_type": "code",
      "execution_count": 46,
      "metadata": {
        "id": "HKN9GTJb5r4Z"
      },
      "outputs": [],
      "source": [
        "# After having multiple issues when importing the comments.csv in SQL, we went 'a little' deeper with the cleaning..."
      ]
    },
    {
      "cell_type": "code",
      "execution_count": 47,
      "metadata": {
        "id": "8_8TiebO6tCe"
      },
      "outputs": [],
      "source": [
        "import pandas as pd\n",
        "from bs4 import BeautifulSoup\n",
        "import requests\n",
        "from pandas import json_normalize\n",
        "import re\n",
        "import numpy as np"
      ]
    },
    {
      "cell_type": "code",
      "execution_count": 48,
      "metadata": {
        "id": "oC4ocU9j64jV"
      },
      "outputs": [],
      "source": [
        "comments = pd.read_csv('comments_draft.csv')"
      ]
    },
    {
      "cell_type": "code",
      "execution_count": 49,
      "metadata": {},
      "outputs": [
        {
          "data": {
            "text/html": [
              "<div>\n",
              "<style scoped>\n",
              "    .dataframe tbody tr th:only-of-type {\n",
              "        vertical-align: middle;\n",
              "    }\n",
              "\n",
              "    .dataframe tbody tr th {\n",
              "        vertical-align: top;\n",
              "    }\n",
              "\n",
              "    .dataframe thead th {\n",
              "        text-align: right;\n",
              "    }\n",
              "</style>\n",
              "<table border=\"1\" class=\"dataframe\">\n",
              "  <thead>\n",
              "    <tr style=\"text-align: right;\">\n",
              "      <th></th>\n",
              "      <th>id</th>\n",
              "      <th>name</th>\n",
              "      <th>anonymous</th>\n",
              "      <th>hostProgramName</th>\n",
              "      <th>graduatingYear</th>\n",
              "      <th>isAlumni</th>\n",
              "      <th>jobTitle</th>\n",
              "      <th>tagline</th>\n",
              "      <th>createdAt</th>\n",
              "      <th>program</th>\n",
              "      <th>overallScore</th>\n",
              "      <th>overall</th>\n",
              "      <th>curriculum</th>\n",
              "      <th>jobSupport</th>\n",
              "      <th>review_body</th>\n",
              "      <th>school</th>\n",
              "      <th>school_id</th>\n",
              "    </tr>\n",
              "  </thead>\n",
              "  <tbody>\n",
              "    <tr>\n",
              "      <th>0</th>\n",
              "      <td>306683</td>\n",
              "      <td>Pichamon Alvarez</td>\n",
              "      <td>False</td>\n",
              "      <td>NaN</td>\n",
              "      <td>2023.0</td>\n",
              "      <td>False</td>\n",
              "      <td>NaN</td>\n",
              "      <td>Data Analytics Career Track</td>\n",
              "      <td>11/24/2023</td>\n",
              "      <td>Data Analytics Career Track</td>\n",
              "      <td>5.0</td>\n",
              "      <td>5.0</td>\n",
              "      <td>5.0</td>\n",
              "      <td>5.0</td>\n",
              "      <td>Springboard's Data Analytics Career Track not ...</td>\n",
              "      <td>springboard</td>\n",
              "      <td>11035</td>\n",
              "    </tr>\n",
              "    <tr>\n",
              "      <th>1</th>\n",
              "      <td>306667</td>\n",
              "      <td>Ethan Reynolds</td>\n",
              "      <td>False</td>\n",
              "      <td>NaN</td>\n",
              "      <td>2023.0</td>\n",
              "      <td>False</td>\n",
              "      <td>NaN</td>\n",
              "      <td>Excellent Experience with Springboard!</td>\n",
              "      <td>11/23/2023</td>\n",
              "      <td>Software Engineering Career Track</td>\n",
              "      <td>4.3</td>\n",
              "      <td>4.0</td>\n",
              "      <td>5.0</td>\n",
              "      <td>4.0</td>\n",
              "      <td>Overall I had a great experience going through...</td>\n",
              "      <td>springboard</td>\n",
              "      <td>11035</td>\n",
              "    </tr>\n",
              "    <tr>\n",
              "      <th>2</th>\n",
              "      <td>306638</td>\n",
              "      <td>Constance Sun</td>\n",
              "      <td>False</td>\n",
              "      <td>NaN</td>\n",
              "      <td>2023.0</td>\n",
              "      <td>False</td>\n",
              "      <td>NaN</td>\n",
              "      <td>Very accommodating. Take Springboard if you wa...</td>\n",
              "      <td>11/21/2023</td>\n",
              "      <td>UI/UX Design Career Track</td>\n",
              "      <td>3.7</td>\n",
              "      <td>4.0</td>\n",
              "      <td>4.0</td>\n",
              "      <td>3.0</td>\n",
              "      <td>When I was looking at which bootcamp to do for...</td>\n",
              "      <td>springboard</td>\n",
              "      <td>11035</td>\n",
              "    </tr>\n",
              "    <tr>\n",
              "      <th>3</th>\n",
              "      <td>306549</td>\n",
              "      <td>Daniel Dluzynski</td>\n",
              "      <td>False</td>\n",
              "      <td>NaN</td>\n",
              "      <td>2023.0</td>\n",
              "      <td>False</td>\n",
              "      <td>NaN</td>\n",
              "      <td>Extensive and well built curriculum</td>\n",
              "      <td>11/17/2023</td>\n",
              "      <td>Cyber Security Career Track</td>\n",
              "      <td>4.3</td>\n",
              "      <td>4.0</td>\n",
              "      <td>5.0</td>\n",
              "      <td>4.0</td>\n",
              "      <td>This course is great for beginners. The curric...</td>\n",
              "      <td>springboard</td>\n",
              "      <td>11035</td>\n",
              "    </tr>\n",
              "    <tr>\n",
              "      <th>4</th>\n",
              "      <td>306505</td>\n",
              "      <td>Jonathan Chiu</td>\n",
              "      <td>False</td>\n",
              "      <td>NaN</td>\n",
              "      <td>2023.0</td>\n",
              "      <td>False</td>\n",
              "      <td>NaN</td>\n",
              "      <td>Join if you're looking to structure &amp;amp; Netw...</td>\n",
              "      <td>11/15/2023</td>\n",
              "      <td>UI/UX Design Career Track</td>\n",
              "      <td>4.0</td>\n",
              "      <td>4.0</td>\n",
              "      <td>4.0</td>\n",
              "      <td>4.0</td>\n",
              "      <td>If you find yourself unsure of where to begin,...</td>\n",
              "      <td>springboard</td>\n",
              "      <td>11035</td>\n",
              "    </tr>\n",
              "    <tr>\n",
              "      <th>...</th>\n",
              "      <td>...</td>\n",
              "      <td>...</td>\n",
              "      <td>...</td>\n",
              "      <td>...</td>\n",
              "      <td>...</td>\n",
              "      <td>...</td>\n",
              "      <td>...</td>\n",
              "      <td>...</td>\n",
              "      <td>...</td>\n",
              "      <td>...</td>\n",
              "      <td>...</td>\n",
              "      <td>...</td>\n",
              "      <td>...</td>\n",
              "      <td>...</td>\n",
              "      <td>...</td>\n",
              "      <td>...</td>\n",
              "      <td>...</td>\n",
              "    </tr>\n",
              "    <tr>\n",
              "      <th>6986</th>\n",
              "      <td>231691</td>\n",
              "      <td>Abby Howell</td>\n",
              "      <td>False</td>\n",
              "      <td>NaN</td>\n",
              "      <td>2013.0</td>\n",
              "      <td>True</td>\n",
              "      <td>Software Developer at Cengage Learning</td>\n",
              "      <td>From 2nd grade teacher to full-stack web devel...</td>\n",
              "      <td>6/29/2014</td>\n",
              "      <td>Software Engineering Immersive</td>\n",
              "      <td>5.0</td>\n",
              "      <td>5.0</td>\n",
              "      <td>5.0</td>\n",
              "      <td>5.0</td>\n",
              "      <td>My experience at General Assembly's Web Develo...</td>\n",
              "      <td>general-assembly</td>\n",
              "      <td>10761</td>\n",
              "    </tr>\n",
              "    <tr>\n",
              "      <th>6987</th>\n",
              "      <td>231827</td>\n",
              "      <td>Anonymous</td>\n",
              "      <td>False</td>\n",
              "      <td>NaN</td>\n",
              "      <td>NaN</td>\n",
              "      <td>False</td>\n",
              "      <td>NaN</td>\n",
              "      <td>What you get out of the program really depends...</td>\n",
              "      <td>6/15/2014</td>\n",
              "      <td>NaN</td>\n",
              "      <td>3.0</td>\n",
              "      <td>3.0</td>\n",
              "      <td>NaN</td>\n",
              "      <td>NaN</td>\n",
              "      <td>What you get out of the program really depends...</td>\n",
              "      <td>general-assembly</td>\n",
              "      <td>10761</td>\n",
              "    </tr>\n",
              "    <tr>\n",
              "      <th>6988</th>\n",
              "      <td>231816</td>\n",
              "      <td>Thomas Berry</td>\n",
              "      <td>False</td>\n",
              "      <td>NaN</td>\n",
              "      <td>NaN</td>\n",
              "      <td>False</td>\n",
              "      <td>NaN</td>\n",
              "      <td>The bitmaker program provides opportunities an...</td>\n",
              "      <td>6/15/2014</td>\n",
              "      <td>NaN</td>\n",
              "      <td>5.0</td>\n",
              "      <td>5.0</td>\n",
              "      <td>NaN</td>\n",
              "      <td>NaN</td>\n",
              "      <td>Personally I had a great experience at Bitmake...</td>\n",
              "      <td>general-assembly</td>\n",
              "      <td>10761</td>\n",
              "    </tr>\n",
              "    <tr>\n",
              "      <th>6989</th>\n",
              "      <td>231836</td>\n",
              "      <td>Ryan Racioppo</td>\n",
              "      <td>False</td>\n",
              "      <td>NaN</td>\n",
              "      <td>NaN</td>\n",
              "      <td>False</td>\n",
              "      <td>NaN</td>\n",
              "      <td>Bitmaker is the best way to motivate and accel...</td>\n",
              "      <td>6/15/2014</td>\n",
              "      <td>NaN</td>\n",
              "      <td>5.0</td>\n",
              "      <td>5.0</td>\n",
              "      <td>NaN</td>\n",
              "      <td>NaN</td>\n",
              "      <td>I was in the 3rd cohort and have had a success...</td>\n",
              "      <td>general-assembly</td>\n",
              "      <td>10761</td>\n",
              "    </tr>\n",
              "    <tr>\n",
              "      <th>6990</th>\n",
              "      <td>231574</td>\n",
              "      <td>Vivien S.</td>\n",
              "      <td>False</td>\n",
              "      <td>Web Development</td>\n",
              "      <td>NaN</td>\n",
              "      <td>NaN</td>\n",
              "      <td>NaN</td>\n",
              "      <td>NaN</td>\n",
              "      <td>12/19/2013</td>\n",
              "      <td>NaN</td>\n",
              "      <td>4.0</td>\n",
              "      <td>4.0</td>\n",
              "      <td>NaN</td>\n",
              "      <td>NaN</td>\n",
              "      <td>I'm surprised by the reviews below. My experie...</td>\n",
              "      <td>general-assembly</td>\n",
              "      <td>10761</td>\n",
              "    </tr>\n",
              "  </tbody>\n",
              "</table>\n",
              "<p>6991 rows × 17 columns</p>\n",
              "</div>"
            ],
            "text/plain": [
              "          id              name  anonymous  hostProgramName  graduatingYear  \\\n",
              "0     306683  Pichamon Alvarez      False              NaN          2023.0   \n",
              "1     306667    Ethan Reynolds      False              NaN          2023.0   \n",
              "2     306638     Constance Sun      False              NaN          2023.0   \n",
              "3     306549  Daniel Dluzynski      False              NaN          2023.0   \n",
              "4     306505     Jonathan Chiu      False              NaN          2023.0   \n",
              "...      ...               ...        ...              ...             ...   \n",
              "6986  231691       Abby Howell      False              NaN          2013.0   \n",
              "6987  231827         Anonymous      False              NaN             NaN   \n",
              "6988  231816      Thomas Berry      False              NaN             NaN   \n",
              "6989  231836     Ryan Racioppo      False              NaN             NaN   \n",
              "6990  231574         Vivien S.      False  Web Development             NaN   \n",
              "\n",
              "     isAlumni                                jobTitle  \\\n",
              "0       False                                     NaN   \n",
              "1       False                                     NaN   \n",
              "2       False                                     NaN   \n",
              "3       False                                     NaN   \n",
              "4       False                                     NaN   \n",
              "...       ...                                     ...   \n",
              "6986     True  Software Developer at Cengage Learning   \n",
              "6987    False                                     NaN   \n",
              "6988    False                                     NaN   \n",
              "6989    False                                     NaN   \n",
              "6990      NaN                                     NaN   \n",
              "\n",
              "                                                tagline   createdAt  \\\n",
              "0                           Data Analytics Career Track  11/24/2023   \n",
              "1                Excellent Experience with Springboard!  11/23/2023   \n",
              "2     Very accommodating. Take Springboard if you wa...  11/21/2023   \n",
              "3                   Extensive and well built curriculum  11/17/2023   \n",
              "4     Join if you're looking to structure &amp; Netw...  11/15/2023   \n",
              "...                                                 ...         ...   \n",
              "6986  From 2nd grade teacher to full-stack web devel...   6/29/2014   \n",
              "6987  What you get out of the program really depends...   6/15/2014   \n",
              "6988  The bitmaker program provides opportunities an...   6/15/2014   \n",
              "6989  Bitmaker is the best way to motivate and accel...   6/15/2014   \n",
              "6990                                                NaN  12/19/2013   \n",
              "\n",
              "                                program  overallScore  overall  curriculum  \\\n",
              "0           Data Analytics Career Track           5.0      5.0         5.0   \n",
              "1     Software Engineering Career Track           4.3      4.0         5.0   \n",
              "2             UI/UX Design Career Track           3.7      4.0         4.0   \n",
              "3           Cyber Security Career Track           4.3      4.0         5.0   \n",
              "4             UI/UX Design Career Track           4.0      4.0         4.0   \n",
              "...                                 ...           ...      ...         ...   \n",
              "6986     Software Engineering Immersive           5.0      5.0         5.0   \n",
              "6987                                NaN           3.0      3.0         NaN   \n",
              "6988                                NaN           5.0      5.0         NaN   \n",
              "6989                                NaN           5.0      5.0         NaN   \n",
              "6990                                NaN           4.0      4.0         NaN   \n",
              "\n",
              "      jobSupport                                        review_body  \\\n",
              "0            5.0  Springboard's Data Analytics Career Track not ...   \n",
              "1            4.0  Overall I had a great experience going through...   \n",
              "2            3.0  When I was looking at which bootcamp to do for...   \n",
              "3            4.0  This course is great for beginners. The curric...   \n",
              "4            4.0  If you find yourself unsure of where to begin,...   \n",
              "...          ...                                                ...   \n",
              "6986         5.0  My experience at General Assembly's Web Develo...   \n",
              "6987         NaN  What you get out of the program really depends...   \n",
              "6988         NaN  Personally I had a great experience at Bitmake...   \n",
              "6989         NaN  I was in the 3rd cohort and have had a success...   \n",
              "6990         NaN  I'm surprised by the reviews below. My experie...   \n",
              "\n",
              "                school  school_id  \n",
              "0          springboard      11035  \n",
              "1          springboard      11035  \n",
              "2          springboard      11035  \n",
              "3          springboard      11035  \n",
              "4          springboard      11035  \n",
              "...                ...        ...  \n",
              "6986  general-assembly      10761  \n",
              "6987  general-assembly      10761  \n",
              "6988  general-assembly      10761  \n",
              "6989  general-assembly      10761  \n",
              "6990  general-assembly      10761  \n",
              "\n",
              "[6991 rows x 17 columns]"
            ]
          },
          "execution_count": 49,
          "metadata": {},
          "output_type": "execute_result"
        }
      ],
      "source": [
        "comments"
      ]
    },
    {
      "cell_type": "code",
      "execution_count": 50,
      "metadata": {},
      "outputs": [
        {
          "data": {
            "text/plain": [
              "2018    1466\n",
              "2019    1106\n",
              "2020    1009\n",
              "2017     964\n",
              "2021     768\n",
              "2022     616\n",
              "2016     421\n",
              "2023     330\n",
              "2015     183\n",
              "2014      47\n",
              "2012      13\n",
              "2013      10\n",
              "2011       1\n",
              "Name: graduatingYear, dtype: Int64"
            ]
          },
          "execution_count": 50,
          "metadata": {},
          "output_type": "execute_result"
        }
      ],
      "source": [
        "# transforming years from float to integers - again, as converting the first df draft to csv and reading it in pandas seemed to have changed the data type.\n",
        "comments['graduatingYear'] = comments['graduatingYear'].astype('Int64')\n",
        "comments.graduatingYear.value_counts()"
      ]
    },
    {
      "cell_type": "code",
      "execution_count": 51,
      "metadata": {
        "id": "MMBbHl836otX"
      },
      "outputs": [
        {
          "data": {
            "text/plain": [
              "id                    0\n",
              "name                  0\n",
              "anonymous             0\n",
              "hostProgramName    4024\n",
              "graduatingYear       57\n",
              "isAlumni              1\n",
              "jobTitle           4119\n",
              "tagline               4\n",
              "createdAt             0\n",
              "program            1900\n",
              "overallScore          9\n",
              "overall               9\n",
              "curriculum          176\n",
              "jobSupport          791\n",
              "review_body           0\n",
              "school                0\n",
              "school_id             0\n",
              "dtype: int64"
            ]
          },
          "execution_count": 51,
          "metadata": {},
          "output_type": "execute_result"
        }
      ],
      "source": [
        "comments.isna().sum()"
      ]
    },
    {
      "cell_type": "code",
      "execution_count": 52,
      "metadata": {},
      "outputs": [
        {
          "data": {
            "text/plain": [
              "id                   int64\n",
              "name                object\n",
              "anonymous             bool\n",
              "hostProgramName     object\n",
              "graduatingYear       Int64\n",
              "isAlumni            object\n",
              "jobTitle            object\n",
              "tagline             object\n",
              "createdAt           object\n",
              "program             object\n",
              "overallScore       float64\n",
              "overall            float64\n",
              "curriculum         float64\n",
              "jobSupport         float64\n",
              "review_body         object\n",
              "school              object\n",
              "school_id            int64\n",
              "dtype: object"
            ]
          },
          "execution_count": 52,
          "metadata": {},
          "output_type": "execute_result"
        }
      ],
      "source": [
        "comments.dtypes"
      ]
    },
    {
      "cell_type": "code",
      "execution_count": 53,
      "metadata": {
        "id": "jJGwMY9-CpT-"
      },
      "outputs": [],
      "source": [
        "comments.dropna(subset=['overallScore'], inplace=True)"
      ]
    },
    {
      "cell_type": "code",
      "execution_count": 54,
      "metadata": {
        "id": "WjHNtxb5Crgd"
      },
      "outputs": [],
      "source": [
        "comments.dropna(subset=['curriculum'], inplace=True)"
      ]
    },
    {
      "cell_type": "code",
      "execution_count": 55,
      "metadata": {
        "id": "cij4rrB1Ctbd"
      },
      "outputs": [],
      "source": [
        "comments.dropna(subset=['jobSupport'], inplace=True)"
      ]
    },
    {
      "cell_type": "code",
      "execution_count": 56,
      "metadata": {
        "id": "6zDjrr8YCv2e"
      },
      "outputs": [],
      "source": [
        "comments.drop(998, inplace=True)"
      ]
    },
    {
      "cell_type": "code",
      "execution_count": 57,
      "metadata": {
        "id": "jSqUsVGJCyI6"
      },
      "outputs": [],
      "source": [
        "comments['overallScore'] = pd.to_numeric(comments['overallScore'], errors='coerce')\n",
        "comments['overallScore'].dropna(inplace=True)"
      ]
    },
    {
      "cell_type": "code",
      "execution_count": 58,
      "metadata": {
        "id": "P_uVfsGUC1FS"
      },
      "outputs": [],
      "source": [
        "comments['hostProgramName'].fillna('Not specified', inplace=True)"
      ]
    },
    {
      "cell_type": "code",
      "execution_count": 59,
      "metadata": {
        "id": "xJLlwndkC3Wd"
      },
      "outputs": [],
      "source": [
        "comments['jobTitle'].fillna('Not specified', inplace=True)"
      ]
    },
    {
      "cell_type": "code",
      "execution_count": 60,
      "metadata": {
        "id": "fxSpGnjtC5X6"
      },
      "outputs": [],
      "source": [
        "comments.dropna(subset='graduatingYear', inplace=True)"
      ]
    },
    {
      "cell_type": "code",
      "execution_count": 61,
      "metadata": {
        "id": "mUd3L5dQC7lk"
      },
      "outputs": [],
      "source": [
        "comments['curriculum'] = pd.to_numeric(comments['curriculum'], errors='coerce')"
      ]
    },
    {
      "cell_type": "code",
      "execution_count": 62,
      "metadata": {
        "id": "PLVS4CChC-3i"
      },
      "outputs": [],
      "source": [
        "comments['jobSupport'] = pd.to_numeric(comments['jobSupport'], errors='coerce')"
      ]
    },
    {
      "cell_type": "code",
      "execution_count": 63,
      "metadata": {
        "id": "c02KRJiIDBBv"
      },
      "outputs": [
        {
          "data": {
            "text/plain": [
              "Index(['id', 'name', 'anonymous', 'hostProgramName', 'graduatingYear',\n",
              "       'isAlumni', 'jobTitle', 'tagline', 'createdAt', 'program',\n",
              "       'overallScore', 'overall', 'curriculum', 'jobSupport', 'review_body',\n",
              "       'school', 'school_id'],\n",
              "      dtype='object')"
            ]
          },
          "execution_count": 63,
          "metadata": {},
          "output_type": "execute_result"
        }
      ],
      "source": [
        "comments.columns"
      ]
    },
    {
      "cell_type": "code",
      "execution_count": 64,
      "metadata": {
        "id": "hWATDSR0DGMG"
      },
      "outputs": [
        {
          "data": {
            "text/plain": [
              "id                   int64\n",
              "name                object\n",
              "anonymous             bool\n",
              "hostProgramName     object\n",
              "graduatingYear       Int64\n",
              "isAlumni            object\n",
              "jobTitle            object\n",
              "tagline             object\n",
              "createdAt           object\n",
              "program             object\n",
              "overallScore       float64\n",
              "overall            float64\n",
              "curriculum         float64\n",
              "jobSupport         float64\n",
              "review_body         object\n",
              "school              object\n",
              "school_id            int64\n",
              "dtype: object"
            ]
          },
          "execution_count": 64,
          "metadata": {},
          "output_type": "execute_result"
        }
      ],
      "source": [
        "comments.dtypes"
      ]
    },
    {
      "cell_type": "code",
      "execution_count": 65,
      "metadata": {
        "id": "V6EjOoaPDTl2"
      },
      "outputs": [],
      "source": [
        "comments.drop(columns={'anonymous', 'overall', 'program', 'createdAt'}, inplace=True)"
      ]
    },
    {
      "cell_type": "code",
      "execution_count": 66,
      "metadata": {
        "id": "KKPdwmOKDXIO"
      },
      "outputs": [
        {
          "data": {
            "text/plain": [
              "Index(['id', 'name', 'hostProgramName', 'graduatingYear', 'isAlumni',\n",
              "       'jobTitle', 'tagline', 'overallScore', 'curriculum', 'jobSupport',\n",
              "       'review_body', 'school', 'school_id'],\n",
              "      dtype='object')"
            ]
          },
          "execution_count": 66,
          "metadata": {},
          "output_type": "execute_result"
        }
      ],
      "source": [
        "comments.columns"
      ]
    },
    {
      "cell_type": "code",
      "execution_count": 67,
      "metadata": {
        "id": "v-31V5KDDX43"
      },
      "outputs": [],
      "source": [
        "comments.loc[comments['jobTitle'] == '', 'jobTitle'] = 'Not specified'"
      ]
    },
    {
      "cell_type": "code",
      "execution_count": 68,
      "metadata": {
        "id": "S2Y64n64HFY4"
      },
      "outputs": [],
      "source": [
        "comments.dropna(subset='jobTitle', inplace=True)"
      ]
    },
    {
      "cell_type": "code",
      "execution_count": 69,
      "metadata": {
        "id": "prUXjSpjHH_Y"
      },
      "outputs": [
        {
          "data": {
            "text/plain": [
              "id                 0\n",
              "name               0\n",
              "hostProgramName    0\n",
              "graduatingYear     0\n",
              "isAlumni           0\n",
              "jobTitle           0\n",
              "tagline            0\n",
              "overallScore       0\n",
              "curriculum         0\n",
              "jobSupport         0\n",
              "review_body        0\n",
              "school             0\n",
              "school_id          0\n",
              "dtype: int64"
            ]
          },
          "execution_count": 69,
          "metadata": {},
          "output_type": "execute_result"
        }
      ],
      "source": [
        "comments.isnull().sum()"
      ]
    },
    {
      "cell_type": "code",
      "execution_count": 70,
      "metadata": {
        "id": "6b1NEDwSHL5Q"
      },
      "outputs": [],
      "source": [
        "comments.drop(columns='name', inplace=True)"
      ]
    },
    {
      "cell_type": "code",
      "execution_count": 71,
      "metadata": {
        "id": "8TZFSIT5HO8X"
      },
      "outputs": [],
      "source": [
        "comments.drop(columns='school', inplace=True)"
      ]
    },
    {
      "cell_type": "code",
      "execution_count": 72,
      "metadata": {
        "id": "_2YvdaaGHWxI"
      },
      "outputs": [],
      "source": [
        "# Attempts to eliminate special charchters from object type columns: WIP"
      ]
    },
    {
      "cell_type": "code",
      "execution_count": 73,
      "metadata": {
        "id": "6T02jYg1HYxA"
      },
      "outputs": [],
      "source": [
        "# Trying to troubleshoot the huge loss of data when importing comments"
      ]
    },
    {
      "cell_type": "code",
      "execution_count": 74,
      "metadata": {
        "id": "I6wyG9GIHdYj"
      },
      "outputs": [
        {
          "name": "stdout",
          "output_type": "stream",
          "text": [
            "Missing values:\n",
            " id                 0\n",
            "hostProgramName    0\n",
            "graduatingYear     0\n",
            "isAlumni           0\n",
            "jobTitle           0\n",
            "tagline            0\n",
            "overallScore       0\n",
            "curriculum         0\n",
            "jobSupport         0\n",
            "review_body        0\n",
            "school_id          0\n",
            "dtype: int64\n"
          ]
        }
      ],
      "source": [
        "# Check for any missing values in the DataFrame\n",
        "print(\"Missing values:\\n\", comments.isnull().sum())"
      ]
    },
    {
      "cell_type": "code",
      "execution_count": 75,
      "metadata": {
        "id": "_FYQq_LgHpTU"
      },
      "outputs": [
        {
          "data": {
            "text/plain": [
              "306683    1\n",
              "256926    1\n",
              "256973    1\n",
              "256974    1\n",
              "256975    1\n",
              "         ..\n",
              "267640    1\n",
              "267742    1\n",
              "267864    1\n",
              "267895    1\n",
              "231691    1\n",
              "Name: id, Length: 6177, dtype: int64"
            ]
          },
          "execution_count": 75,
          "metadata": {},
          "output_type": "execute_result"
        }
      ],
      "source": [
        "# Check for unique values in id column\n",
        "comments.id.value_counts(ascending=False)"
      ]
    },
    {
      "cell_type": "code",
      "execution_count": 76,
      "metadata": {
        "id": "ZUVdG5ScHrmL"
      },
      "outputs": [
        {
          "name": "stdout",
          "output_type": "stream",
          "text": [
            "Special characters in hostProgramName:\n",
            "          id hostProgramName  graduatingYear isAlumni                jobTitle  \\\n",
            "950   267361    UX/UI Design            2020    False           Not specified   \n",
            "951   267344    UX/UI Design            2020    False  UX designer/consultant   \n",
            "957   267000    UX/UI Design            2020    False    UX Research/Designer   \n",
            "958   266956    UX/UI Design            2020    False         UX/ UI Designer   \n",
            "959   266952    UX/UI Design            2020    False           Not specified   \n",
            "...      ...             ...             ...      ...                     ...   \n",
            "6892  236669    UX/UI Design            2016     True     Creative Specialist   \n",
            "6893  244743    UX/UI Design            2015     True        Product Designer   \n",
            "6896  244731    UX/UI Design            2016     True             UX Designer   \n",
            "6916  244545    UX/UI Design            2016     True             UX Designer   \n",
            "6973  232579    UX/UI Design            2015     True           Not specified   \n",
            "\n",
            "                                                tagline  overallScore  \\\n",
            "950   Formalized UX Knowledge Propelling a Career Ch...           4.3   \n",
            "951                   Springboard always has your back!           4.3   \n",
            "957                                Would 100% Recommend           4.7   \n",
            "958   My experience with Springboard was fantastic! ...           5.0   \n",
            "959                            Springboard UI/UI Course           4.7   \n",
            "...                                                 ...           ...   \n",
            "6892                                           Engaging           3.3   \n",
            "6893                       You Get What You Put Into GA           3.7   \n",
            "6896           Great way to kickstart a new career path           4.0   \n",
            "6916                                        UX Bootcamp           5.0   \n",
            "6973                         GA is great on most levels           4.0   \n",
            "\n",
            "      curriculum  jobSupport  \\\n",
            "950          5.0         4.0   \n",
            "951          4.0         4.0   \n",
            "957          4.0         5.0   \n",
            "958          5.0         5.0   \n",
            "959          4.0         5.0   \n",
            "...          ...         ...   \n",
            "6892         3.0         3.0   \n",
            "6893         4.0         3.0   \n",
            "6896         3.0         4.0   \n",
            "6916         5.0         5.0   \n",
            "6973         4.0         4.0   \n",
            "\n",
            "                                            review_body  school_id  \n",
            "950   Motivated career switchers, rejoice! Springboa...      11035  \n",
            "951   Trying to start a new career in always a hard ...      11035  \n",
            "957   Loved my experience!! Incredible mentorship op...      11035  \n",
            "958   When I was first looking at UX design courses ...      11035  \n",
            "959   I can't say I was expecting to take another bo...      11035  \n",
            "...                                                 ...        ...  \n",
            "6892  I took the part-time course and had a great ti...      10761  \n",
            "6893  I came to GA with a background in recruiting a...      10761  \n",
            "6896  Pros:1. You get an overview of what it means t...      10761  \n",
            "6916  I enrolled in the UX Design bootcamp last fall...      10761  \n",
            "6973  Pros: Great environment, phenomenal network, a...      10761  \n",
            "\n",
            "[656 rows x 11 columns]\n",
            "Special characters in jobTitle:\n",
            "          id  hostProgramName  graduatingYear isAlumni  \\\n",
            "6     306451    Not specified            2023     True   \n",
            "28    304506    Not specified            2023    False   \n",
            "33    304324    Not specified            2023    False   \n",
            "34    304290    Not specified            2023    False   \n",
            "39    304112    Not specified            2023    False   \n",
            "...      ...              ...             ...      ...   \n",
            "6888  235612  Web Development            2015     True   \n",
            "6902  235360  Web Development            2015     True   \n",
            "6903  244719    Not specified            2014     True   \n",
            "6925  234327    Not specified            2016     True   \n",
            "6926  234332    Not specified            2016     True   \n",
            "\n",
            "                                   jobTitle  \\\n",
            "6                              UX/UI Design   \n",
            "28                           UI/UX Designer   \n",
            "33                           UX/UI Designer   \n",
            "34                           UX/UI Designer   \n",
            "39                           UX/UI Designer   \n",
            "...                                     ...   \n",
            "6888                  Jr. Software Engineer   \n",
            "6902  Paralegal (with occasional IT duties)   \n",
            "6903     Design Lead - Consumer Watson IoT    \n",
            "6925                    Sr. Product Manager   \n",
            "6926        UX Designer | Creative Director   \n",
            "\n",
            "                                                tagline  overallScore  \\\n",
            "6                                             Wonderful           4.3   \n",
            "28                                 Totally recommend it           5.0   \n",
            "33    Interact with mentors, coaches, other students...           3.3   \n",
            "34                          Overall Positive Experience           5.0   \n",
            "39                                     Great Experience           5.0   \n",
            "...                                                 ...           ...   \n",
            "6888                      Really supportive environment           4.0   \n",
            "6902          Good primer for Front End Web Development           5.0   \n",
            "6903                              Rock solid foundation           3.0   \n",
            "6925               A+ on entry level Product Management           4.7   \n",
            "6926                                  GA Seattle Rocks!           4.7   \n",
            "\n",
            "      curriculum  jobSupport  \\\n",
            "6            5.0         4.0   \n",
            "28           5.0         5.0   \n",
            "33           2.0         5.0   \n",
            "34           5.0         5.0   \n",
            "39           5.0         5.0   \n",
            "...          ...         ...   \n",
            "6888         4.0         4.0   \n",
            "6902         5.0         5.0   \n",
            "6903         4.0         1.0   \n",
            "6925         5.0         5.0   \n",
            "6926         5.0         4.0   \n",
            "\n",
            "                                            review_body  school_id  \n",
            "6     Pros: I found the Springboard bootcamp to be i...      11035  \n",
            "28    I recently completed the Springboard UX bootca...      11035  \n",
            "33    I recently completed the UI/UX Design Career c...      11035  \n",
            "34    When I started the program, I was concerned it...      11035  \n",
            "39    I completed the UX/UI Design Career track and ...      11035  \n",
            "...                                                 ...        ...  \n",
            "6888  I did the Web Development Immersive program th...      10761  \n",
            "6902  Great hands on experience with coding and teac...      10761  \n",
            "6903  This program changed my life. After taking thi...      10761  \n",
            "6925  Product Managment Certification (Part-Time)I w...      10761  \n",
            "6926  The User Experience Design Immersive Program w...      10761  \n",
            "\n",
            "[397 rows x 11 columns]\n",
            "Special characters in tagline:\n",
            "          id  hostProgramName  graduatingYear isAlumni  \\\n",
            "1     306667    Not specified            2023    False   \n",
            "2     306638    Not specified            2023    False   \n",
            "4     306505    Not specified            2023    False   \n",
            "5     306504    Not specified            2023    False   \n",
            "10    305884    Not specified            2023    False   \n",
            "...      ...              ...             ...      ...   \n",
            "6931  239280    Not specified            2016     True   \n",
            "6946  237316  Web Development            2015     True   \n",
            "6970  232600  Web Development            2014     True   \n",
            "6974  232573    Not specified            2015     True   \n",
            "6986  231691    Not specified            2013     True   \n",
            "\n",
            "                                    jobTitle  \\\n",
            "1                              Not specified   \n",
            "2                              Not specified   \n",
            "4                              Not specified   \n",
            "5                              Not specified   \n",
            "10                             Not specified   \n",
            "...                                      ...   \n",
            "6931                           Not specified   \n",
            "6946                           Not specified   \n",
            "6970                           Not specified   \n",
            "6974                           Not specified   \n",
            "6986  Software Developer at Cengage Learning   \n",
            "\n",
            "                                                tagline  overallScore  \\\n",
            "1                Excellent Experience with Springboard!           4.3   \n",
            "2     Very accommodating. Take Springboard if you wa...           3.7   \n",
            "4     Join if you're looking to structure &amp; Netw...           4.0   \n",
            "5     Join if you're looking to structure &amp; Netw...           4.0   \n",
            "10                             Springboard UI/UX course           4.7   \n",
            "...                                                 ...           ...   \n",
            "6931  As well managed as an insane asylum, inexperie...           1.0   \n",
            "6946       Moved Across the Country for This - Worth It           5.0   \n",
            "6970                               10/10 would do again           5.0   \n",
            "6974  General Assembly UXDI an amazing experience, i...           4.3   \n",
            "6986  From 2nd grade teacher to full-stack web devel...           5.0   \n",
            "\n",
            "      curriculum  jobSupport  \\\n",
            "1            5.0         4.0   \n",
            "2            4.0         3.0   \n",
            "4            4.0         4.0   \n",
            "5            4.0         4.0   \n",
            "10           5.0         5.0   \n",
            "...          ...         ...   \n",
            "6931         1.0         1.0   \n",
            "6946         5.0         5.0   \n",
            "6970         5.0         5.0   \n",
            "6974         4.0         4.0   \n",
            "6986         5.0         5.0   \n",
            "\n",
            "                                            review_body  school_id  \n",
            "1     Overall I had a great experience going through...      11035  \n",
            "2     When I was looking at which bootcamp to do for...      11035  \n",
            "4     If you find yourself unsure of where to begin,...      11035  \n",
            "5     If you find yourself unsure of where to begin,...      11035  \n",
            "10    From the get go, I felt slightly overwhelmed, ...      11035  \n",
            "...                                                 ...        ...  \n",
            "6931  I am deeply disturbed by this program and its ...      10761  \n",
            "6946  Coming from marketing and sales background wit...      10761  \n",
            "6970  In October, I took the Bitmaker Lab's Web Deve...      10761  \n",
            "6974  I was beyond impressed by my experience at Gen...      10761  \n",
            "6986  My experience at General Assembly's Web Develo...      10761  \n",
            "\n",
            "[2868 rows x 11 columns]\n",
            "Special characters in review_body:\n",
            "          id hostProgramName  graduatingYear isAlumni  \\\n",
            "0     306683   Not specified            2023    False   \n",
            "1     306667   Not specified            2023    False   \n",
            "2     306638   Not specified            2023    False   \n",
            "3     306549   Not specified            2023    False   \n",
            "4     306505   Not specified            2023    False   \n",
            "...      ...             ...             ...      ...   \n",
            "6973  232579    UX/UI Design            2015     True   \n",
            "6974  232573   Not specified            2015     True   \n",
            "6978  232490   Not specified            2015     True   \n",
            "6983  232206   Not specified            2014     True   \n",
            "6986  231691   Not specified            2013     True   \n",
            "\n",
            "                                    jobTitle  \\\n",
            "0                              Not specified   \n",
            "1                              Not specified   \n",
            "2                              Not specified   \n",
            "3                              Not specified   \n",
            "4                              Not specified   \n",
            "...                                      ...   \n",
            "6973                           Not specified   \n",
            "6974                           Not specified   \n",
            "6978                           Not specified   \n",
            "6983                           Not specified   \n",
            "6986  Software Developer at Cengage Learning   \n",
            "\n",
            "                                                tagline  overallScore  \\\n",
            "0                           Data Analytics Career Track           5.0   \n",
            "1                Excellent Experience with Springboard!           4.3   \n",
            "2     Very accommodating. Take Springboard if you wa...           3.7   \n",
            "3                   Extensive and well built curriculum           4.3   \n",
            "4     Join if you're looking to structure &amp; Netw...           4.0   \n",
            "...                                                 ...           ...   \n",
            "6973                         GA is great on most levels           4.0   \n",
            "6974  General Assembly UXDI an amazing experience, i...           4.3   \n",
            "6978  Incredible Learning Opportunity for Digital Ma...           5.0   \n",
            "6983          Not The Best Bootcamp I Could Have Chosen           1.7   \n",
            "6986  From 2nd grade teacher to full-stack web devel...           5.0   \n",
            "\n",
            "      curriculum  jobSupport  \\\n",
            "0            5.0         5.0   \n",
            "1            5.0         4.0   \n",
            "2            4.0         3.0   \n",
            "3            5.0         4.0   \n",
            "4            4.0         4.0   \n",
            "...          ...         ...   \n",
            "6973         4.0         4.0   \n",
            "6974         4.0         4.0   \n",
            "6978         5.0         5.0   \n",
            "6983         2.0         1.0   \n",
            "6986         5.0         5.0   \n",
            "\n",
            "                                            review_body  school_id  \n",
            "0     Springboard's Data Analytics Career Track not ...      11035  \n",
            "1     Overall I had a great experience going through...      11035  \n",
            "2     When I was looking at which bootcamp to do for...      11035  \n",
            "3     This course is great for beginners. The curric...      11035  \n",
            "4     If you find yourself unsure of where to begin,...      11035  \n",
            "...                                                 ...        ...  \n",
            "6973  Pros: Great environment, phenomenal network, a...      10761  \n",
            "6974  I was beyond impressed by my experience at Gen...      10761  \n",
            "6978  I recently completed an Ad Optimization part t...      10761  \n",
            "6983  I wouldn't say that Bitmaker was a bad experie...      10761  \n",
            "6986  My experience at General Assembly's Web Develo...      10761  \n",
            "\n",
            "[6171 rows x 11 columns]\n"
          ]
        }
      ],
      "source": [
        "# Check for the presence of special characters or unexpected data\n",
        "for column in comments.columns:\n",
        "    # Skip numeric columns\n",
        "    if pd.api.types.is_numeric_dtype(comments[column]):\n",
        "        continue\n",
        "\n",
        "    special_characters = comments[comments[column].astype(str).str.contains(r'[^a-zA-Z0-9\\s]', na=False)]\n",
        "    if not special_characters.empty:\n",
        "        print(f\"Special characters in {column}:\\n{special_characters}\")"
      ]
    },
    {
      "cell_type": "code",
      "execution_count": 77,
      "metadata": {
        "id": "A1BCgrAdHvA_"
      },
      "outputs": [],
      "source": [
        "#It seems that the problem in importing is just that there are too many special charachters and the rows containing them are automatically dropped."
      ]
    },
    {
      "cell_type": "code",
      "execution_count": 78,
      "metadata": {
        "id": "_TeZeaehHx0Z"
      },
      "outputs": [
        {
          "data": {
            "text/html": [
              "<div>\n",
              "<style scoped>\n",
              "    .dataframe tbody tr th:only-of-type {\n",
              "        vertical-align: middle;\n",
              "    }\n",
              "\n",
              "    .dataframe tbody tr th {\n",
              "        vertical-align: top;\n",
              "    }\n",
              "\n",
              "    .dataframe thead th {\n",
              "        text-align: right;\n",
              "    }\n",
              "</style>\n",
              "<table border=\"1\" class=\"dataframe\">\n",
              "  <thead>\n",
              "    <tr style=\"text-align: right;\">\n",
              "      <th></th>\n",
              "      <th>id</th>\n",
              "      <th>hostProgramName</th>\n",
              "      <th>graduatingYear</th>\n",
              "      <th>isAlumni</th>\n",
              "      <th>jobTitle</th>\n",
              "      <th>tagline</th>\n",
              "      <th>overallScore</th>\n",
              "      <th>curriculum</th>\n",
              "      <th>jobSupport</th>\n",
              "      <th>review_body</th>\n",
              "      <th>school_id</th>\n",
              "    </tr>\n",
              "  </thead>\n",
              "  <tbody>\n",
              "    <tr>\n",
              "      <th>0</th>\n",
              "      <td>306683</td>\n",
              "      <td>Not specified</td>\n",
              "      <td>2023</td>\n",
              "      <td>False</td>\n",
              "      <td>Not specified</td>\n",
              "      <td>Data Analytics Career Track</td>\n",
              "      <td>5.0</td>\n",
              "      <td>5.0</td>\n",
              "      <td>5.0</td>\n",
              "      <td>Springboard's Data Analytics Career Track not ...</td>\n",
              "      <td>11035</td>\n",
              "    </tr>\n",
              "    <tr>\n",
              "      <th>1</th>\n",
              "      <td>306667</td>\n",
              "      <td>Not specified</td>\n",
              "      <td>2023</td>\n",
              "      <td>False</td>\n",
              "      <td>Not specified</td>\n",
              "      <td>Excellent Experience with Springboard!</td>\n",
              "      <td>4.3</td>\n",
              "      <td>5.0</td>\n",
              "      <td>4.0</td>\n",
              "      <td>Overall I had a great experience going through...</td>\n",
              "      <td>11035</td>\n",
              "    </tr>\n",
              "    <tr>\n",
              "      <th>2</th>\n",
              "      <td>306638</td>\n",
              "      <td>Not specified</td>\n",
              "      <td>2023</td>\n",
              "      <td>False</td>\n",
              "      <td>Not specified</td>\n",
              "      <td>Very accommodating. Take Springboard if you wa...</td>\n",
              "      <td>3.7</td>\n",
              "      <td>4.0</td>\n",
              "      <td>3.0</td>\n",
              "      <td>When I was looking at which bootcamp to do for...</td>\n",
              "      <td>11035</td>\n",
              "    </tr>\n",
              "    <tr>\n",
              "      <th>3</th>\n",
              "      <td>306549</td>\n",
              "      <td>Not specified</td>\n",
              "      <td>2023</td>\n",
              "      <td>False</td>\n",
              "      <td>Not specified</td>\n",
              "      <td>Extensive and well built curriculum</td>\n",
              "      <td>4.3</td>\n",
              "      <td>5.0</td>\n",
              "      <td>4.0</td>\n",
              "      <td>This course is great for beginners. The curric...</td>\n",
              "      <td>11035</td>\n",
              "    </tr>\n",
              "    <tr>\n",
              "      <th>4</th>\n",
              "      <td>306505</td>\n",
              "      <td>Not specified</td>\n",
              "      <td>2023</td>\n",
              "      <td>False</td>\n",
              "      <td>Not specified</td>\n",
              "      <td>Join if you're looking to structure &amp;amp; Netw...</td>\n",
              "      <td>4.0</td>\n",
              "      <td>4.0</td>\n",
              "      <td>4.0</td>\n",
              "      <td>If you find yourself unsure of where to begin,...</td>\n",
              "      <td>11035</td>\n",
              "    </tr>\n",
              "    <tr>\n",
              "      <th>...</th>\n",
              "      <td>...</td>\n",
              "      <td>...</td>\n",
              "      <td>...</td>\n",
              "      <td>...</td>\n",
              "      <td>...</td>\n",
              "      <td>...</td>\n",
              "      <td>...</td>\n",
              "      <td>...</td>\n",
              "      <td>...</td>\n",
              "      <td>...</td>\n",
              "      <td>...</td>\n",
              "    </tr>\n",
              "    <tr>\n",
              "      <th>6973</th>\n",
              "      <td>232579</td>\n",
              "      <td>UX/UI Design</td>\n",
              "      <td>2015</td>\n",
              "      <td>True</td>\n",
              "      <td>Not specified</td>\n",
              "      <td>GA is great on most levels</td>\n",
              "      <td>4.0</td>\n",
              "      <td>4.0</td>\n",
              "      <td>4.0</td>\n",
              "      <td>Pros: Great environment, phenomenal network, a...</td>\n",
              "      <td>10761</td>\n",
              "    </tr>\n",
              "    <tr>\n",
              "      <th>6974</th>\n",
              "      <td>232573</td>\n",
              "      <td>Not specified</td>\n",
              "      <td>2015</td>\n",
              "      <td>True</td>\n",
              "      <td>Not specified</td>\n",
              "      <td>General Assembly UXDI an amazing experience, i...</td>\n",
              "      <td>4.3</td>\n",
              "      <td>4.0</td>\n",
              "      <td>4.0</td>\n",
              "      <td>I was beyond impressed by my experience at Gen...</td>\n",
              "      <td>10761</td>\n",
              "    </tr>\n",
              "    <tr>\n",
              "      <th>6978</th>\n",
              "      <td>232490</td>\n",
              "      <td>Not specified</td>\n",
              "      <td>2015</td>\n",
              "      <td>True</td>\n",
              "      <td>Not specified</td>\n",
              "      <td>Incredible Learning Opportunity for Digital Ma...</td>\n",
              "      <td>5.0</td>\n",
              "      <td>5.0</td>\n",
              "      <td>5.0</td>\n",
              "      <td>I recently completed an Ad Optimization part t...</td>\n",
              "      <td>10761</td>\n",
              "    </tr>\n",
              "    <tr>\n",
              "      <th>6983</th>\n",
              "      <td>232206</td>\n",
              "      <td>Not specified</td>\n",
              "      <td>2014</td>\n",
              "      <td>True</td>\n",
              "      <td>Not specified</td>\n",
              "      <td>Not The Best Bootcamp I Could Have Chosen</td>\n",
              "      <td>1.7</td>\n",
              "      <td>2.0</td>\n",
              "      <td>1.0</td>\n",
              "      <td>I wouldn't say that Bitmaker was a bad experie...</td>\n",
              "      <td>10761</td>\n",
              "    </tr>\n",
              "    <tr>\n",
              "      <th>6986</th>\n",
              "      <td>231691</td>\n",
              "      <td>Not specified</td>\n",
              "      <td>2013</td>\n",
              "      <td>True</td>\n",
              "      <td>Software Developer at Cengage Learning</td>\n",
              "      <td>From 2nd grade teacher to full-stack web devel...</td>\n",
              "      <td>5.0</td>\n",
              "      <td>5.0</td>\n",
              "      <td>5.0</td>\n",
              "      <td>My experience at General Assembly's Web Develo...</td>\n",
              "      <td>10761</td>\n",
              "    </tr>\n",
              "  </tbody>\n",
              "</table>\n",
              "<p>6177 rows × 11 columns</p>\n",
              "</div>"
            ],
            "text/plain": [
              "          id hostProgramName  graduatingYear isAlumni  \\\n",
              "0     306683   Not specified            2023    False   \n",
              "1     306667   Not specified            2023    False   \n",
              "2     306638   Not specified            2023    False   \n",
              "3     306549   Not specified            2023    False   \n",
              "4     306505   Not specified            2023    False   \n",
              "...      ...             ...             ...      ...   \n",
              "6973  232579    UX/UI Design            2015     True   \n",
              "6974  232573   Not specified            2015     True   \n",
              "6978  232490   Not specified            2015     True   \n",
              "6983  232206   Not specified            2014     True   \n",
              "6986  231691   Not specified            2013     True   \n",
              "\n",
              "                                    jobTitle  \\\n",
              "0                              Not specified   \n",
              "1                              Not specified   \n",
              "2                              Not specified   \n",
              "3                              Not specified   \n",
              "4                              Not specified   \n",
              "...                                      ...   \n",
              "6973                           Not specified   \n",
              "6974                           Not specified   \n",
              "6978                           Not specified   \n",
              "6983                           Not specified   \n",
              "6986  Software Developer at Cengage Learning   \n",
              "\n",
              "                                                tagline  overallScore  \\\n",
              "0                           Data Analytics Career Track           5.0   \n",
              "1                Excellent Experience with Springboard!           4.3   \n",
              "2     Very accommodating. Take Springboard if you wa...           3.7   \n",
              "3                   Extensive and well built curriculum           4.3   \n",
              "4     Join if you're looking to structure &amp; Netw...           4.0   \n",
              "...                                                 ...           ...   \n",
              "6973                         GA is great on most levels           4.0   \n",
              "6974  General Assembly UXDI an amazing experience, i...           4.3   \n",
              "6978  Incredible Learning Opportunity for Digital Ma...           5.0   \n",
              "6983          Not The Best Bootcamp I Could Have Chosen           1.7   \n",
              "6986  From 2nd grade teacher to full-stack web devel...           5.0   \n",
              "\n",
              "      curriculum  jobSupport  \\\n",
              "0            5.0         5.0   \n",
              "1            5.0         4.0   \n",
              "2            4.0         3.0   \n",
              "3            5.0         4.0   \n",
              "4            4.0         4.0   \n",
              "...          ...         ...   \n",
              "6973         4.0         4.0   \n",
              "6974         4.0         4.0   \n",
              "6978         5.0         5.0   \n",
              "6983         2.0         1.0   \n",
              "6986         5.0         5.0   \n",
              "\n",
              "                                            review_body school_id  \n",
              "0     Springboard's Data Analytics Career Track not ...     11035  \n",
              "1     Overall I had a great experience going through...     11035  \n",
              "2     When I was looking at which bootcamp to do for...     11035  \n",
              "3     This course is great for beginners. The curric...     11035  \n",
              "4     If you find yourself unsure of where to begin,...     11035  \n",
              "...                                                 ...       ...  \n",
              "6973  Pros: Great environment, phenomenal network, a...     10761  \n",
              "6974  I was beyond impressed by my experience at Gen...     10761  \n",
              "6978  I recently completed an Ad Optimization part t...     10761  \n",
              "6983  I wouldn't say that Bitmaker was a bad experie...     10761  \n",
              "6986  My experience at General Assembly's Web Develo...     10761  \n",
              "\n",
              "[6177 rows x 11 columns]"
            ]
          },
          "execution_count": 78,
          "metadata": {},
          "output_type": "execute_result"
        }
      ],
      "source": [
        "special_characters = r'[!@#$%^&*()_+{}|:\"<>?\\\\[\\];,./\\']'\n",
        "\n",
        "# Identify string columns\n",
        "string_columns = comments.select_dtypes(include='object').columns\n",
        "\n",
        "for columns in string_columns:\n",
        "    comments[column] = comments[column].astype(str).apply(lambda x: x.replace(special_characters, ''))\n",
        "\n",
        "# checking\n",
        "comments"
      ]
    },
    {
      "cell_type": "code",
      "execution_count": 79,
      "metadata": {
        "id": "8pxxqO1dJpfm"
      },
      "outputs": [],
      "source": [
        "# check for duplicates to verify SQL is not dropping them in the upload and therefore losing rows.\n",
        "duplicates = comments[comments.duplicated()]\n",
        "if not duplicates.empty:\n",
        "    print(\"Duplicate rows:\\n\", duplicates)"
      ]
    },
    {
      "cell_type": "code",
      "execution_count": 80,
      "metadata": {
        "id": "Ew_JZxfBH2JB"
      },
      "outputs": [],
      "source": [
        "# The code does not get error, but the importing issues in SQL are persisting.\n",
        "# In our lack of time we find a compromise solution: we export of filtered comments with numerical columns to perform our queries as object columns with all text information were not necessary.\n",
        "# It would have nice nice though to solve the issue and have the complete dataframe comments uploaded in SQL.\n",
        "# Without these columns we were able to use almost all rows in the df."
      ]
    },
    {
      "cell_type": "code",
      "execution_count": 81,
      "metadata": {
        "id": "dsqOJ2wfJ3qE"
      },
      "outputs": [
        {
          "data": {
            "text/plain": [
              "Index(['hostProgramName', 'isAlumni', 'jobTitle', 'tagline', 'review_body',\n",
              "       'school_id'],\n",
              "      dtype='object')"
            ]
          },
          "execution_count": 81,
          "metadata": {},
          "output_type": "execute_result"
        }
      ],
      "source": [
        "# Identify string columns\n",
        "string_columns = comments.select_dtypes(include='object').columns\n",
        "string_columns"
      ]
    },
    {
      "cell_type": "code",
      "execution_count": 82,
      "metadata": {
        "id": "XCOJj-TQI1Rq"
      },
      "outputs": [],
      "source": [
        "comments_numeric = comments.drop(columns={'hostProgramName', 'isAlumni', 'jobTitle', 'tagline', 'review_body'})"
      ]
    },
    {
      "cell_type": "code",
      "execution_count": 83,
      "metadata": {},
      "outputs": [
        {
          "data": {
            "text/html": [
              "<div>\n",
              "<style scoped>\n",
              "    .dataframe tbody tr th:only-of-type {\n",
              "        vertical-align: middle;\n",
              "    }\n",
              "\n",
              "    .dataframe tbody tr th {\n",
              "        vertical-align: top;\n",
              "    }\n",
              "\n",
              "    .dataframe thead th {\n",
              "        text-align: right;\n",
              "    }\n",
              "</style>\n",
              "<table border=\"1\" class=\"dataframe\">\n",
              "  <thead>\n",
              "    <tr style=\"text-align: right;\">\n",
              "      <th></th>\n",
              "      <th>id</th>\n",
              "      <th>graduatingYear</th>\n",
              "      <th>overallScore</th>\n",
              "      <th>curriculum</th>\n",
              "      <th>jobSupport</th>\n",
              "      <th>school_id</th>\n",
              "    </tr>\n",
              "  </thead>\n",
              "  <tbody>\n",
              "    <tr>\n",
              "      <th>0</th>\n",
              "      <td>306683</td>\n",
              "      <td>2023</td>\n",
              "      <td>5.0</td>\n",
              "      <td>5.0</td>\n",
              "      <td>5.0</td>\n",
              "      <td>11035</td>\n",
              "    </tr>\n",
              "    <tr>\n",
              "      <th>1</th>\n",
              "      <td>306667</td>\n",
              "      <td>2023</td>\n",
              "      <td>4.3</td>\n",
              "      <td>5.0</td>\n",
              "      <td>4.0</td>\n",
              "      <td>11035</td>\n",
              "    </tr>\n",
              "    <tr>\n",
              "      <th>2</th>\n",
              "      <td>306638</td>\n",
              "      <td>2023</td>\n",
              "      <td>3.7</td>\n",
              "      <td>4.0</td>\n",
              "      <td>3.0</td>\n",
              "      <td>11035</td>\n",
              "    </tr>\n",
              "    <tr>\n",
              "      <th>3</th>\n",
              "      <td>306549</td>\n",
              "      <td>2023</td>\n",
              "      <td>4.3</td>\n",
              "      <td>5.0</td>\n",
              "      <td>4.0</td>\n",
              "      <td>11035</td>\n",
              "    </tr>\n",
              "    <tr>\n",
              "      <th>4</th>\n",
              "      <td>306505</td>\n",
              "      <td>2023</td>\n",
              "      <td>4.0</td>\n",
              "      <td>4.0</td>\n",
              "      <td>4.0</td>\n",
              "      <td>11035</td>\n",
              "    </tr>\n",
              "    <tr>\n",
              "      <th>...</th>\n",
              "      <td>...</td>\n",
              "      <td>...</td>\n",
              "      <td>...</td>\n",
              "      <td>...</td>\n",
              "      <td>...</td>\n",
              "      <td>...</td>\n",
              "    </tr>\n",
              "    <tr>\n",
              "      <th>6973</th>\n",
              "      <td>232579</td>\n",
              "      <td>2015</td>\n",
              "      <td>4.0</td>\n",
              "      <td>4.0</td>\n",
              "      <td>4.0</td>\n",
              "      <td>10761</td>\n",
              "    </tr>\n",
              "    <tr>\n",
              "      <th>6974</th>\n",
              "      <td>232573</td>\n",
              "      <td>2015</td>\n",
              "      <td>4.3</td>\n",
              "      <td>4.0</td>\n",
              "      <td>4.0</td>\n",
              "      <td>10761</td>\n",
              "    </tr>\n",
              "    <tr>\n",
              "      <th>6978</th>\n",
              "      <td>232490</td>\n",
              "      <td>2015</td>\n",
              "      <td>5.0</td>\n",
              "      <td>5.0</td>\n",
              "      <td>5.0</td>\n",
              "      <td>10761</td>\n",
              "    </tr>\n",
              "    <tr>\n",
              "      <th>6983</th>\n",
              "      <td>232206</td>\n",
              "      <td>2014</td>\n",
              "      <td>1.7</td>\n",
              "      <td>2.0</td>\n",
              "      <td>1.0</td>\n",
              "      <td>10761</td>\n",
              "    </tr>\n",
              "    <tr>\n",
              "      <th>6986</th>\n",
              "      <td>231691</td>\n",
              "      <td>2013</td>\n",
              "      <td>5.0</td>\n",
              "      <td>5.0</td>\n",
              "      <td>5.0</td>\n",
              "      <td>10761</td>\n",
              "    </tr>\n",
              "  </tbody>\n",
              "</table>\n",
              "<p>6177 rows × 6 columns</p>\n",
              "</div>"
            ],
            "text/plain": [
              "          id  graduatingYear  overallScore  curriculum  jobSupport school_id\n",
              "0     306683            2023           5.0         5.0         5.0     11035\n",
              "1     306667            2023           4.3         5.0         4.0     11035\n",
              "2     306638            2023           3.7         4.0         3.0     11035\n",
              "3     306549            2023           4.3         5.0         4.0     11035\n",
              "4     306505            2023           4.0         4.0         4.0     11035\n",
              "...      ...             ...           ...         ...         ...       ...\n",
              "6973  232579            2015           4.0         4.0         4.0     10761\n",
              "6974  232573            2015           4.3         4.0         4.0     10761\n",
              "6978  232490            2015           5.0         5.0         5.0     10761\n",
              "6983  232206            2014           1.7         2.0         1.0     10761\n",
              "6986  231691            2013           5.0         5.0         5.0     10761\n",
              "\n",
              "[6177 rows x 6 columns]"
            ]
          },
          "execution_count": 83,
          "metadata": {},
          "output_type": "execute_result"
        }
      ],
      "source": [
        "comments_numeric"
      ]
    },
    {
      "cell_type": "code",
      "execution_count": 84,
      "metadata": {
        "id": "BRtz2o5nI3ca"
      },
      "outputs": [],
      "source": [
        "comments_numeric.to_csv('comments_numeric.csv', index=False)\n",
        "comments.to_csv('comments_cleaned_not_for_SQL.csv', index=False)"
      ]
    }
  ],
  "metadata": {
    "colab": {
      "provenance": []
    },
    "kernelspec": {
      "display_name": "Python 3",
      "name": "python3"
    },
    "language_info": {
      "codemirror_mode": {
        "name": "ipython",
        "version": 3
      },
      "file_extension": ".py",
      "mimetype": "text/x-python",
      "name": "python",
      "nbconvert_exporter": "python",
      "pygments_lexer": "ipython3",
      "version": "3.11.4"
    }
  },
  "nbformat": 4,
  "nbformat_minor": 0
}
