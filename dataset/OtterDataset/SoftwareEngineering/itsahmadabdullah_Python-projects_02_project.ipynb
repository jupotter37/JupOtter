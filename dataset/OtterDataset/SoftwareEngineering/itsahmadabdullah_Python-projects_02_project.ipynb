{
 "cells": [
  {
   "cell_type": "markdown",
   "metadata": {},
   "source": [
    "# **Project Title: `Software Engineering Team Management System`**"
   ]
  },
  {
   "cell_type": "markdown",
   "metadata": {},
   "source": [
    "### **Introduction**\n",
    "\n",
    "My name is `Ahmad Abdullah`, and I am currently pursuing my second semester as an AI student at the esteemed `Islamia University in Bahawalpur`. \n",
    "The Software Engineering Team Management System is a project aimed at facilitating the management of a software engineering team. It provides functionalities to store and retrieve information about team members, including their personal details, positions, experience, skills, education, email addresses, and contact numbers. The system allows users to search for team members based on their unique CNIC (Computerized National Identity Card) numbers and view their respective information."
   ]
  },
  {
   "cell_type": "markdown",
   "metadata": {},
   "source": [
    "### **contact info**\n",
    "**Email :** itsahmadabdullah@gmail.com\\\n",
    "[**linkedin**](\"https://www.linkedin.com/in/itsahmadabdullah/\")\n",
    "[**Github**](\"https://github.com/itsahmadabdullah\")"
   ]
  },
  {
   "cell_type": "markdown",
   "metadata": {},
   "source": [
    "**The Software Engineering Team Management System is developed using the following technologies:**\n",
    "\n",
    "1. Programming Language: Python\n",
    "2. Data Storage: Dictionary (in-memory storage)\n",
    "**`How to Use`**\n",
    "*   Set up the Python environment: Ensure that Python is installed on your system.\n",
    "*   Download the source code: Obtain the source code files for the Software Engineering Team Management System.\n",
    "*   Run the program: Execute the Python script to launch the system.\n",
    "*   Enter CNIC: Provide the CNIC of the team member you wish to retrieve information for.\n",
    "*   View member information: If a team member with the specified CNIC is found, their details will be displayed on the screen, including name, age, *   country, position, experience, skills, education, email address, and contact number."
   ]
  },
  {
   "cell_type": "code",
   "execution_count": 1,
   "metadata": {},
   "outputs": [
    {
     "name": "stdout",
     "output_type": "stream",
     "text": [
      "Name: abdullah\n",
      "Age: 19\n",
      "Country: pakistan\n",
      "Position: junior software engineer\n",
      "Experience: 1 year\n",
      "Skills: Python, Java\n",
      "Education: Bachelor of Science in Computer Science\n",
      "Email: abdullah@example.com\n",
      "Contact Number: 03441768255\n"
     ]
    }
   ],
   "source": [
    "# *****************  Project Title: Software Engineering Team Management System *****************8\n",
    "\n",
    "team_data = {\n",
    "    'name': ['abdullah', 'ali', 'ahmed', 'usman', 'umer', 'abdullah'],\n",
    "    'age': [19, 20, 21, 22, 23, 24],\n",
    "    'CNIC': [3110489957229, 3110489957222, 311048995789, 3110489958787, 3110489578744, None],\n",
    "    'country': ['pakistan', 'saudia', 'dubai', 'china', 'india', 'pakistan'],\n",
    "    'position': ['junior software engineer', 'senior software engineer', 'data scientist', 'front end', 'backend', 'junior software engineer'],\n",
    "    'experience': ['1 year', '5 years', '3 years', '2 years', '4 years', '2 years'],\n",
    "    'skills': ['Python, Java', 'C++, JavaScript', 'Machine Learning, Python', 'HTML, CSS, JavaScript', 'Java, SQL', 'Python, JavaScript'],\n",
    "    'education': ['Bachelor of Science in Computer Science', 'Bachelor of Engineering in Software Engineering', 'Master of Science in Data Science', 'Bachelor of Science in Computer Science', 'Bachelor of Engineering in Software Engineering', 'Bachelor of Science in Computer Science'],\n",
    "    'email': ['abdullah@example.com', 'ali@example.com', 'ahmed@example.com', 'usman@example.com', 'umer@example.com', 'abdullah2@example.com'],\n",
    "    'contact_number': ['03441768255', '03211234567', '03129876543', '03344556677', '03001234567', '03447896543']\n",
    "}\n",
    "\n",
    "def get_team_member_info_by_cnic(cnic):\n",
    "    if cnic in team_data['CNIC']:\n",
    "        index = team_data['CNIC'].index(cnic)\n",
    "        if (\n",
    "            index < len(team_data['name'])\n",
    "            and index < len(team_data['age'])\n",
    "            and index < len(team_data['country'])\n",
    "            and index < len(team_data['position'])\n",
    "            and index < len(team_data['experience'])\n",
    "            and index < len(team_data['skills'])\n",
    "            and index < len(team_data['education'])\n",
    "            and index < len(team_data['email'])\n",
    "            and index < len(team_data['contact_number'])\n",
    "        ):\n",
    "            member_info = {\n",
    "                'name': team_data['name'][index],\n",
    "                'age': team_data['age'][index],\n",
    "                'country': team_data['country'][index],\n",
    "                'position': team_data['position'][index],\n",
    "                'experience': team_data['experience'][index],\n",
    "                'skills': team_data['skills'][index],\n",
    "                'education': team_data['education'][index],\n",
    "                'email': team_data['email'][index],\n",
    "                'contact_number': team_data['contact_number'][index]\n",
    "            }\n",
    "            return member_info\n",
    "    return None\n",
    "\n",
    "cnic = int(input('Enter the CNIC: '))\n",
    "member_info = get_team_member_info_by_cnic(cnic)\n",
    "\n",
    "if member_info:\n",
    "    print(f\"Name: {member_info['name']}\")\n",
    "    print(f\"Age: {member_info['age']}\")\n",
    "    print(f\"Country: {member_info['country']}\")\n",
    "    print(f\"Position: {member_info['position']}\")\n",
    "    print(f\"Experience: {member_info['experience']}\")\n",
    "    print(f\"Skills: {member_info['skills']}\")\n",
    "    print(f\"Education: {member_info['education']}\")\n",
    "    print(f\"Email: {member_info['email']}\")\n",
    "    print(f\"Contact Number: {member_info['contact_number']}\")\n",
    "else:\n",
    "    print(\"No team member found with the provided CNIC.\")"
   ]
  },
  {
   "cell_type": "code",
   "execution_count": null,
   "metadata": {},
   "outputs": [],
   "source": []
  }
 ],
 "metadata": {
  "kernelspec": {
   "display_name": "python_ml_env",
   "language": "python",
   "name": "python3"
  },
  "language_info": {
   "codemirror_mode": {
    "name": "ipython",
    "version": 3
   },
   "file_extension": ".py",
   "mimetype": "text/x-python",
   "name": "python",
   "nbconvert_exporter": "python",
   "pygments_lexer": "ipython3",
   "version": "3.12.1"
  }
 },
 "nbformat": 4,
 "nbformat_minor": 2
}
