{
 "cells": [
  {
   "cell_type": "code",
   "execution_count": 1,
   "metadata": {
    "scrolled": true
   },
   "outputs": [
    {
     "name": "stdout",
     "output_type": "stream",
     "text": [
      "Libraries have been loaded\n"
     ]
    }
   ],
   "source": [
    "import pandas as pd\n",
    "import psycopg2\n",
    "import sqlalchemy\n",
    "import matplotlib as plt\n",
    "\n",
    "%matplotlib inline\n",
    "print('Libraries have been loaded')"
   ]
  },
  {
   "cell_type": "code",
   "execution_count": 2,
   "metadata": {
    "scrolled": true
   },
   "outputs": [
    {
     "name": "stdout",
     "output_type": "stream",
     "text": [
      "Connection had been created\n"
     ]
    }
   ],
   "source": [
    "from sqlalchemy import create_engine \n",
    "POSTGRES_ADDRESS = 'isilo.db.elephantsql.com' \n",
    "POSTGRES_PORT = '5432' \n",
    "POSTGRES_USERNAME = 'kerlqmtr' \n",
    "POSTGRES_PASSWORD = '68BQ6fXHG3QQ8qpolcO1nQjDxZwSJrBO' \n",
    "POSTGRES_DBNAME = 'kerlqmtr' \n",
    "\n",
    "# Create the connection string\n",
    "postgres_str = ('postgresql://{username}:{password}@{ipaddress}:{port}/{dbname}'.format(username=POSTGRES_USERNAME, \n",
    "           password=POSTGRES_PASSWORD, \n",
    "           ipaddress=POSTGRES_ADDRESS, \n",
    "           port=POSTGRES_PORT, \n",
    "           dbname=POSTGRES_DBNAME)) \n",
    "# Create the connection \n",
    "cnx = create_engine(postgres_str)\n",
    "print('Connection had been created')"
   ]
  },
  {
   "cell_type": "code",
   "execution_count": 3,
   "metadata": {},
   "outputs": [
    {
     "data": {
      "text/html": [
       "<div>\n",
       "<style scoped>\n",
       "    .dataframe tbody tr th:only-of-type {\n",
       "        vertical-align: middle;\n",
       "    }\n",
       "\n",
       "    .dataframe tbody tr th {\n",
       "        vertical-align: top;\n",
       "    }\n",
       "\n",
       "    .dataframe thead th {\n",
       "        text-align: right;\n",
       "    }\n",
       "</style>\n",
       "<table border=\"1\" class=\"dataframe\">\n",
       "  <thead>\n",
       "    <tr style=\"text-align: right;\">\n",
       "      <th></th>\n",
       "      <th>index</th>\n",
       "      <th>title</th>\n",
       "      <th>link</th>\n",
       "      <th>description</th>\n",
       "      <th>created_date</th>\n",
       "    </tr>\n",
       "  </thead>\n",
       "  <tbody>\n",
       "    <tr>\n",
       "      <th>0</th>\n",
       "      <td>0</td>\n",
       "      <td>Multiple Benefits through Smart Home Energy Ma...</td>\n",
       "      <td>http://arxiv.org/abs/1904.11496</td>\n",
       "      <td>&lt;p&gt;From both global and local perspectives, th...</td>\n",
       "      <td>2019-04-29 02:59:38.423106</td>\n",
       "    </tr>\n",
       "    <tr>\n",
       "      <th>1</th>\n",
       "      <td>1</td>\n",
       "      <td>Storage Solutions for Big Data Systems: A Qual...</td>\n",
       "      <td>http://arxiv.org/abs/1904.11498</td>\n",
       "      <td>&lt;p&gt;Big data systems development is full of cha...</td>\n",
       "      <td>2019-04-29 02:59:38.423106</td>\n",
       "    </tr>\n",
       "    <tr>\n",
       "      <th>2</th>\n",
       "      <td>2</td>\n",
       "      <td>Face Video Generation from a Single Image and ...</td>\n",
       "      <td>http://arxiv.org/abs/1904.11521</td>\n",
       "      <td>&lt;p&gt;In this paper we are concerned with the cha...</td>\n",
       "      <td>2019-04-29 02:59:38.423106</td>\n",
       "    </tr>\n",
       "    <tr>\n",
       "      <th>3</th>\n",
       "      <td>3</td>\n",
       "      <td>Decision Forest: A Nonparametric Approach to M...</td>\n",
       "      <td>http://arxiv.org/abs/1904.11532</td>\n",
       "      <td>&lt;p&gt;Customer behavior is often assumed to follo...</td>\n",
       "      <td>2019-04-29 02:59:38.423106</td>\n",
       "    </tr>\n",
       "    <tr>\n",
       "      <th>4</th>\n",
       "      <td>4</td>\n",
       "      <td>DeepPR: Incremental Recovery for Interdependen...</td>\n",
       "      <td>http://arxiv.org/abs/1904.11533</td>\n",
       "      <td>&lt;p&gt;The increasing reliance upon cloud services...</td>\n",
       "      <td>2019-04-29 02:59:38.423106</td>\n",
       "    </tr>\n",
       "    <tr>\n",
       "      <th>5</th>\n",
       "      <td>5</td>\n",
       "      <td>Zap~Q-Learning for Optimal Stopping Time Probl...</td>\n",
       "      <td>http://arxiv.org/abs/1904.11538</td>\n",
       "      <td>&lt;p&gt;We propose a novel reinforcement learning a...</td>\n",
       "      <td>2019-04-29 02:59:38.423106</td>\n",
       "    </tr>\n",
       "    <tr>\n",
       "      <th>6</th>\n",
       "      <td>6</td>\n",
       "      <td>First things first: If software engineering is...</td>\n",
       "      <td>http://arxiv.org/abs/1904.11540</td>\n",
       "      <td>&lt;p&gt;Software engineering (SE) undergoes an onto...</td>\n",
       "      <td>2019-04-29 02:59:38.423106</td>\n",
       "    </tr>\n",
       "    <tr>\n",
       "      <th>7</th>\n",
       "      <td>7</td>\n",
       "      <td>Bio-inspired Requirements Variability Modeling...</td>\n",
       "      <td>http://arxiv.org/abs/1904.11541</td>\n",
       "      <td>&lt;p&gt;Background. Feature Model (FM) is the most ...</td>\n",
       "      <td>2019-04-29 02:59:38.423106</td>\n",
       "    </tr>\n",
       "    <tr>\n",
       "      <th>8</th>\n",
       "      <td>8</td>\n",
       "      <td>Probing What Different NLP Tasks Teach Machine...</td>\n",
       "      <td>http://arxiv.org/abs/1904.11544</td>\n",
       "      <td>&lt;p&gt;We introduce a set of nine challenge tasks ...</td>\n",
       "      <td>2019-04-29 02:59:38.423106</td>\n",
       "    </tr>\n",
       "    <tr>\n",
       "      <th>9</th>\n",
       "      <td>9</td>\n",
       "      <td>Developing Secure Services for IoT with OP-TEE...</td>\n",
       "      <td>http://arxiv.org/abs/1904.11545</td>\n",
       "      <td>&lt;p&gt;The implementation, deployment and testing ...</td>\n",
       "      <td>2019-04-29 02:59:38.423106</td>\n",
       "    </tr>\n",
       "  </tbody>\n",
       "</table>\n",
       "</div>"
      ],
      "text/plain": [
       "   index                                              title  \\\n",
       "0      0  Multiple Benefits through Smart Home Energy Ma...   \n",
       "1      1  Storage Solutions for Big Data Systems: A Qual...   \n",
       "2      2  Face Video Generation from a Single Image and ...   \n",
       "3      3  Decision Forest: A Nonparametric Approach to M...   \n",
       "4      4  DeepPR: Incremental Recovery for Interdependen...   \n",
       "5      5  Zap~Q-Learning for Optimal Stopping Time Probl...   \n",
       "6      6  First things first: If software engineering is...   \n",
       "7      7  Bio-inspired Requirements Variability Modeling...   \n",
       "8      8  Probing What Different NLP Tasks Teach Machine...   \n",
       "9      9  Developing Secure Services for IoT with OP-TEE...   \n",
       "\n",
       "                              link  \\\n",
       "0  http://arxiv.org/abs/1904.11496   \n",
       "1  http://arxiv.org/abs/1904.11498   \n",
       "2  http://arxiv.org/abs/1904.11521   \n",
       "3  http://arxiv.org/abs/1904.11532   \n",
       "4  http://arxiv.org/abs/1904.11533   \n",
       "5  http://arxiv.org/abs/1904.11538   \n",
       "6  http://arxiv.org/abs/1904.11540   \n",
       "7  http://arxiv.org/abs/1904.11541   \n",
       "8  http://arxiv.org/abs/1904.11544   \n",
       "9  http://arxiv.org/abs/1904.11545   \n",
       "\n",
       "                                         description  \\\n",
       "0  <p>From both global and local perspectives, th...   \n",
       "1  <p>Big data systems development is full of cha...   \n",
       "2  <p>In this paper we are concerned with the cha...   \n",
       "3  <p>Customer behavior is often assumed to follo...   \n",
       "4  <p>The increasing reliance upon cloud services...   \n",
       "5  <p>We propose a novel reinforcement learning a...   \n",
       "6  <p>Software engineering (SE) undergoes an onto...   \n",
       "7  <p>Background. Feature Model (FM) is the most ...   \n",
       "8  <p>We introduce a set of nine challenge tasks ...   \n",
       "9  <p>The implementation, deployment and testing ...   \n",
       "\n",
       "                created_date  \n",
       "0 2019-04-29 02:59:38.423106  \n",
       "1 2019-04-29 02:59:38.423106  \n",
       "2 2019-04-29 02:59:38.423106  \n",
       "3 2019-04-29 02:59:38.423106  \n",
       "4 2019-04-29 02:59:38.423106  \n",
       "5 2019-04-29 02:59:38.423106  \n",
       "6 2019-04-29 02:59:38.423106  \n",
       "7 2019-04-29 02:59:38.423106  \n",
       "8 2019-04-29 02:59:38.423106  \n",
       "9 2019-04-29 02:59:38.423106  "
      ]
     },
     "execution_count": 3,
     "metadata": {},
     "output_type": "execute_result"
    }
   ],
   "source": [
    "\n",
    "pd.read_sql_query('''SELECT * FROM \"public\".\"arxiv\" LIMIT 100''', cnx)"
   ]
  },
  {
   "cell_type": "code",
   "execution_count": null,
   "metadata": {},
   "outputs": [],
   "source": []
  }
 ],
 "metadata": {
  "kernelspec": {
   "display_name": "Python 3",
   "language": "python",
   "name": "python3"
  },
  "language_info": {
   "codemirror_mode": {
    "name": "ipython",
    "version": 3
   },
   "file_extension": ".py",
   "mimetype": "text/x-python",
   "name": "python",
   "nbconvert_exporter": "python",
   "pygments_lexer": "ipython3",
   "version": "3.7.3"
  }
 },
 "nbformat": 4,
 "nbformat_minor": 2
}
