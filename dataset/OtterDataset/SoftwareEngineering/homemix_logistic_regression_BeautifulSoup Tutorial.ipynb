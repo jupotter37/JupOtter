{
 "cells": [
  {
   "metadata": {},
   "cell_type": "markdown",
   "source": "# This is a tutorial to familiarise with BS operations.",
   "id": "de0af82c04eeb9d7"
  },
  {
   "metadata": {
    "ExecuteTime": {
     "end_time": "2024-08-22T11:59:26.954491Z",
     "start_time": "2024-08-22T11:59:25.210680Z"
    }
   },
   "cell_type": "code",
   "source": [
    "## get the title\n",
    "from bs4 import BeautifulSoup\n",
    "import requests\n",
    "\n",
    "url = \"https://www.tutorialspoint.com/index.htm\"\n",
    "req = requests.get(url)\n",
    "\n",
    "soup = BeautifulSoup(req.content,'html.parser')\n",
    "\n",
    "soup.title"
   ],
   "id": "3c22cd92b6519db2",
   "outputs": [
    {
     "data": {
      "text/plain": [
       "<title>Quality Tutorials, Video Courses, and eBooks</title>"
      ]
     },
     "execution_count": 1,
     "metadata": {},
     "output_type": "execute_result"
    }
   ],
   "execution_count": 1
  },
  {
   "metadata": {
    "ExecuteTime": {
     "end_time": "2024-08-22T11:59:26.998510Z",
     "start_time": "2024-08-22T11:59:26.957067Z"
    }
   },
   "cell_type": "code",
   "source": [
    "# get all urls  in thw webpage\n",
    "\n",
    "for link in soup.find_all('a'):\n",
    "    print(link)"
   ],
   "id": "b4ba652525f667e",
   "outputs": [
    {
     "name": "stdout",
     "output_type": "stream",
     "text": [
      "<a class=\"accent-nav__link\" href=\"/index.htm\" title=\"Home\">\n",
      "<svg fill=\"white\" height=\"1em\" viewbox=\"0 0 576 512\" xmlns=\"https://www.w3.org/2000/svg\"><path d=\"M303.5 13.7L288 .5 272.5 13.7l-264 224 31.1 36.6L64 253.5V488v24H88 488h24V488 253.5l24.5 20.8 31.1-36.6-264-224zM112 464V212.8L288 63.5 464 212.8V464H384V296 272H360 216 192v24V464H112zm128 0V320h96V464H240z\"></path></svg> Home\n",
      "\t\t\t\t\t\t</a>\n",
      "<a class=\"accent-nav__link\" href=\"/codingground.htm\" title=\"Coding Ground\">\n",
      "<svg fill=\"white\" height=\"1em\" viewbox=\"0 0 640 512\" xmlns=\"https://www.w3.org/2000/svg\"><path d=\"M376.5 1.8l-7.3 22.8-144 448-7.3 22.8 45.7 14.7 7.3-22.8 144-448 7.3-22.8L376.5 1.8zm61.6 135.3l17.5 16.4L564.9 256 455.6 358.5l-17.5 16.4 32.8 35 17.5-16.4 128-120L635.1 256l-18.7-17.5-128-120-17.5-16.4-32.8 35zm-269-35l-17.5 16.4-128 120L4.9 256l18.7 17.5 128 120 17.5 16.4 32.8-35-17.5-16.4L75.1 256 184.4 153.5l17.5-16.4-32.8-35z\"></path></svg> Coding Ground\n",
      "\t\t\t\t\t\t</a>\n",
      "<a class=\"accent-nav__link\" href=\"/job_search.php\" title=\"Jobs\">\n",
      "<svg fill=\"white\" height=\"1em\" viewbox=\"0 0 512 512\" xmlns=\"https://www.w3.org/2000/svg\"><path d=\"M160 48V96H352V48c0-8.8-7.2-16-16-16H176c-8.8 0-16 7.2-16 16zM128 96V48c0-26.5 21.5-48 48-48H336c26.5 0 48 21.5 48 48V96h64c35.3 0 64 28.7 64 64V416c0 35.3-28.7 64-64 64H64c-35.3 0-64-28.7-64-64V160c0-35.3 28.7-64 64-64h64zm240 32H144 128V448H384V128H368zM64 128c-17.7 0-32 14.3-32 32V416c0 17.7 14.3 32 32 32H96V128H64zM448 448c17.7 0 32-14.3 32-32V160c0-17.7-14.3-32-32-32H416V448h32z\"></path></svg> Jobs\n",
      "\t\t\t\t\t\t</a>\n",
      "<a class=\"accent-nav__link\" href=\"/whiteboard.htm\" title=\"Whiteboard\"><svg fill=\"white\" height=\"1em\" viewbox=\"0 0 576 512\" xmlns=\"https://www.w3.org/2000/svg\"><path d=\"M56 32H32V56 400H80V80H496V400h48V56 32H520 56zM224 352v24 56H24 0v48H24 224h24H392h24H552h24V432H552 416V376 352H392 248 224zm144 48v32H272V400h96z\"></path></svg> Whiteboard</a>\n",
      "<a class=\"accent-nav__link\" href=\"/online_dev_tools.htm\" title=\"Tools\"><svg fill=\"white\" height=\"1em\" viewbox=\"0 0 512 512\" xmlns=\"https://www.w3.org/2000/svg\"><path d=\"M33.9 366.1L160.4 239.6l33.9 33.9L67.9 400 112 444.1l95.4-95.4 17.9 17.9 16 16-95.4 95.4L112 512 78.1 478.1 33.9 433.9 0 400l33.9-33.9zM224 144.8V96 80l-7.3-5.5C245.1 29.7 295.1 0 352 0c13.5 0 26.7 1.7 39.3 4.9c17 4.3 33 11.3 47.3 20.6L403.5 60.5 352 112v48h48l51.5-51.5 35.1-35.1c9.3 14.4 16.3 30.3 20.6 47.3c3.2 12.6 4.9 25.7 4.9 39.3c0 57.2-30 107.3-75.1 135.6l-35.2-35.2c35.8-17.8 60.8-54.1 62.3-96.5l-30 30L419.9 208H400 352 304V160 112 92.1l14.1-14.1 30-30C288 50.1 240 99.5 240 160l0 .8-16-16zM287 321l-129-129H96L0 64 64 0 192 96v62.1L321 287l31-31L512 416l-96 96L256 352l31-31z\"></path></svg> Tools</a>\n",
      "<a class=\"accent-nav__link\" href=\"/articles/index.php\" title=\"Articles\"><svg fill=\"none\" height=\"15\" viewbox=\"0 0 15 15\" width=\"15\" xmlns=\"http://www.w3.org/2000/svg\"><path d=\"M11.496 0.811903L4.26655 7.94622C3.99043 8.21724 3.77153 8.53961 3.62252 8.89468C3.47351 9.24975 3.39735 9.63046 3.39845 10.0148V10.8006C3.39845 10.9558 3.46092 11.1047 3.57213 11.2144C3.68333 11.3242 3.83415 11.3858 3.99142 11.3858H4.78777C5.17721 11.3869 5.56299 11.3117 5.9228 11.1647C6.2826 11.0176 6.60927 10.8016 6.8839 10.5291L14.1133 3.39482C14.4599 3.05201 14.6545 2.58757 14.6545 2.10336C14.6545 1.61915 14.4599 1.15471 14.1133 0.811903C13.7609 0.479468 13.2922 0.293945 12.8047 0.293945C12.3172 0.293945 11.8484 0.479468 11.496 0.811903ZM13.2749 2.56739L6.04545 9.70171C5.71109 10.0297 5.25918 10.2143 4.78777 10.2155H4.58438V10.0148C4.58562 9.54957 4.77269 9.1036 5.10501 8.77364L12.3344 1.63933C12.4611 1.51993 12.6295 1.4533 12.8047 1.4533C12.9798 1.4533 13.1482 1.51993 13.2749 1.63933C13.3994 1.76251 13.4693 1.92939 13.4693 2.10336C13.4693 2.27733 13.3994 2.44421 13.2749 2.56739Z\" fill=\"white\"></path><path d=\"M14.0718 5.52176C13.9145 5.52176 13.7637 5.58342 13.6525 5.69316C13.5413 5.8029 13.4788 5.95173 13.4788 6.10693V9.04504H11.107C10.6352 9.04504 10.1827 9.22999 9.84911 9.55921C9.5155 9.88843 9.32808 10.3349 9.32808 10.8005V13.1412H3.39842C2.92663 13.1412 2.47416 12.9562 2.14055 12.627C1.80695 12.2978 1.61953 11.8513 1.61953 11.3857V3.1934C1.61953 2.72781 1.80695 2.2813 2.14055 1.95208C2.47416 1.62286 2.92663 1.43791 3.39842 1.43791H8.76002C8.91729 1.43791 9.06811 1.37625 9.17931 1.26652C9.29052 1.15678 9.35299 1.00794 9.35299 0.852742C9.35299 0.697547 9.29052 0.548708 9.17931 0.438969C9.06811 0.329229 8.91729 0.267578 8.76002 0.267578H3.39842C2.61239 0.268507 1.85882 0.577061 1.30301 1.12556C0.747203 1.67405 0.434535 2.41771 0.433594 3.1934L0.433594 11.3857C0.434535 12.1614 0.747203 12.905 1.30301 13.4535C1.85882 14.002 2.61239 14.3106 3.39842 14.3115H10.1244C10.514 14.3126 10.8998 14.2375 11.2597 14.0904C11.6197 13.9434 11.9464 13.7273 12.2212 13.4548L13.7961 11.8995C14.0723 11.6285 14.2912 11.3061 14.4403 10.951C14.5895 10.596 14.6657 10.2153 14.6648 9.83091V6.10693C14.6648 5.95173 14.6023 5.8029 14.4911 5.69316C14.3799 5.58342 14.2291 5.52176 14.0718 5.52176ZM11.3827 12.6274C11.1443 12.8621 10.8429 13.0245 10.514 13.0955V10.8005C10.514 10.6453 10.5765 10.4965 10.6877 10.3868C10.7989 10.277 10.9497 10.2154 11.107 10.2154H13.4344C13.361 10.5393 13.1966 10.8362 12.96 11.072L11.3827 12.6274Z\" fill=\"white\"></path></svg> Articles</a>\n",
      "<a class=\"accent-nav__link\" href=\"https://www.tutorialspoint.com/articles/write-and-earn.php\">\n",
      "<svg height=\"20\" viewbox=\"0 0 640 512\" width=\"20\" xmlns=\"http://www.w3.org/2000/svg\"><path d=\"M64 96H512c17.7 0 32 14.3 32 32v69.6c10.2-4 21.1-5.9 32-5.6V128c0-35.3-28.7-64-64-64H64C28.7 64 0 92.7 0 128V384c0 35.3 28.7 64 64 64H330.2l8-32H64c-17.7 0-32-14.3-32-32V128c0-17.7 14.3-32 32-32zm48 192c-8.8 0-16 7.2-16 16s7.2 16 16 16H368c8.8 0 16-7.2 16-16s-7.2-16-16-16H112zM96 208c0 8.8 7.2 16 16 16H464c8.8 0 16-7.2 16-16s-7.2-16-16-16H112c-8.8 0-16 7.2-16 16zm486.8 56l17.4 17.4c6.2 6.2 6.2 16.4 0 22.6l-24.8 24.8-40-40L560.2 264c6.2-6.2 16.4-6.2 22.6 0zM406.5 417.7L512.7 311.5l40 40L446.4 457.7c-2.1 2.1-4.6 3.5-7.4 4.2l-49 12.3 12.3-49c.7-2.8 2.2-5.4 4.2-7.4zM537.5 241.4L383.8 395.1c-6.2 6.2-10.5 13.9-12.6 22.3l-18.7 74.9c-1.4 5.5 .2 11.2 4.2 15.2s9.7 5.6 15.2 4.2L446.8 493c8.4-2.1 16.1-6.5 22.3-12.6L622.8 326.6c18.7-18.7 18.7-49.1 0-67.9l-17.4-17.4c-18.7-18.7-49.1-18.7-67.9 0z\" fill=\"#fff\"></path>\n",
      "</svg> Write and Earn\n",
      "\t\t\t\t</a>\n",
      "<a class=\"accent-nav__login-button\" href=\"/market/login.jsp\"> Login</a>\n",
      "<a class=\"accent-nav__social-link\" href=\"https://www.facebook.com/tutorialspointindia\" rel=\"nofollow\" target=\"_blank\">\n",
      "<svg fill=\"white\" height=\"1.2em\" viewbox=\"0 0 512 512\" xmlns=\"https://www.w3.org/2000/svg\"><path d=\"M504 256C504 119 393 8 256 8S8 119 8 256c0 123.78 90.69 226.38 209.25 245V327.69h-63V256h63v-54.64c0-62.15 37-96.48 93.67-96.48 27.14 0 55.52 4.84 55.52 4.84v61h-31.28c-30.8 0-40.41 19.12-40.41 38.73V256h68.78l-11 71.69h-57.78V501C413.31 482.38 504 379.78 504 256z\"></path></svg>\n",
      "</a>\n",
      "<a class=\"accent-nav__social-link\" href=\"https://www.instagram.com/tutorialspoint_/\" rel=\"nofollow\" target=\"_blank\">\n",
      "<svg fill=\"white\" height=\"1.2em\" viewbox=\"0 0 448 512\" xmlns=\"https://www.w3.org/2000/svg\">\n",
      "<path d=\"M224.1 141c-63.6 0-114.9 51.3-114.9 114.9s51.3 114.9 114.9 114.9S339 319.5 339 255.9 287.7 141 224.1 141zm0 189.6c-41.1 0-74.7-33.5-74.7-74.7s33.5-74.7 74.7-74.7 74.7 33.5 74.7 74.7-33.6 74.7-74.7 74.7zm146.4-194.3c0 14.9-12 26.8-26.8 26.8-14.9 0-26.8-12-26.8-26.8s12-26.8 26.8-26.8 26.8 12 26.8 26.8zm76.1 27.2c-1.7-35.9-9.9-67.7-36.2-93.9-26.2-26.2-58-34.4-93.9-36.2-37-2.1-147.9-2.1-184.9 0-35.8 1.7-67.6 9.9-93.9 36.1s-34.4 58-36.2 93.9c-2.1 37-2.1 147.9 0 184.9 1.7 35.9 9.9 67.7 36.2 93.9s58 34.4 93.9 36.2c37 2.1 147.9 2.1 184.9 0 35.9-1.7 67.7-9.9 93.9-36.2 26.2-26.2 34.4-58 36.2-93.9 2.1-37 2.1-147.8 0-184.8zM398.8 388c-7.8 19.6-22.9 34.7-42.6 42.6-29.5 11.7-99.5 9-132.1 9s-102.7 2.6-132.1-9c-19.6-7.8-34.7-22.9-42.6-42.6-11.7-29.5-9-99.5-9-132.1s-2.6-102.7 9-132.1c7.8-19.6 22.9-34.7 42.6-42.6 29.5-11.7 99.5-9 132.1-9s102.7-2.6 132.1 9c19.6 7.8 34.7 22.9 42.6 42.6 11.7 29.5 9 99.5 9 132.1s2.7 102.7-9 132.1z\"></path>\n",
      "</svg>\n",
      "</a>\n",
      "<a class=\"accent-nav__social-link\" href=\"https://twitter.com/tutorialspoint\" rel=\"nofollow\" target=\"_blank\">\n",
      "<svg fill=\"white\" height=\"1.2em\" viewbox=\"0 0 512 512\" xmlns=\"https://www.w3.org/2000/svg\"><path d=\"M389.2 48h70.6L305.6 224.2 487 464H345L233.7 318.6 106.5 464H35.8L200.7 275.5 26.8 48H172.4L272.9 180.9 389.2 48zM364.4 421.8h39.1L151.1 88h-42L364.4 421.8z\"></path></svg>\n",
      "</a>\n",
      "<a class=\"accent-nav__social-link\" href=\"https://www.youtube.com/channel/UCVLbzhxVTiTLiVKeGV7WEBg\" rel=\"nofollow\" target=\"_blank\">\n",
      "<svg fill=\"white\" height=\"1.2em\" viewbox=\"0 0 576 512\" xmlns=\"https://www.w3.org/2000/svg\"><path d=\"M549.655 124.083c-6.281-23.65-24.787-42.276-48.284-48.597C458.781 64 288 64 288 64S117.22 64 74.629 75.486c-23.497 6.322-42.003 24.947-48.284 48.597-11.412 42.867-11.412 132.305-11.412 132.305s0 89.438 11.412 132.305c6.281 23.65 24.787 41.5 48.284 47.821C117.22 448 288 448 288 448s170.78 0 213.371-11.486c23.497-6.321 42.003-24.171 48.284-47.821 11.412-42.867 11.412-132.305 11.412-132.305s0-89.438-11.412-132.305zm-317.51 213.508V175.185l142.739 81.205-142.739 81.201z\"></path></svg>\n",
      "</a>\n",
      "<a class=\"accent-nav__social-link\" href=\"https://www.linkedin.com/company/tutorialspoint/\" rel=\"nofollow\" target=\"_blank\">\n",
      "<svg fill=\"white\" height=\"1.2em\" viewbox=\"0 0 448 512\" xmlns=\"https://www.w3.org/2000/svg\"><path d=\"M100.28 448H7.4V148.9h92.88zM53.79 108.1C24.09 108.1 0 83.5 0 53.8a53.79 53.79 0 0 1 107.58 0c0 29.7-24.1 54.3-53.79 54.3zM447.9 448h-92.68V302.4c0-34.7-.7-79.2-48.29-79.2-48.29 0-55.69 37.7-55.69 76.7V448h-92.78V148.9h89.08v40.8h1.3c12.4-23.5 42.69-48.3 87.88-48.3 94 0 111.28 61.9 111.28 142.3V448z\"></path>\n",
      "</svg>\n",
      "</a>\n",
      "<a href=\"https://www.tutorialspoint.com\" title=\"Tutorials point\">\n",
      "<svg class=\"logo-desktop\" fill=\"none\" height=\"42\" viewbox=\"0 0 226 42\" width=\"226\" xmlns=\"http://www.w3.org/2000/svg\">\n",
      "<path class=\"logo-desktop-path\" d=\"M76.2136 13.8408V27.7576H72.3845V26.1045C71.3229 27.3193 69.7701 27.9689 68.0642 27.9689C64.5731 27.9689 62.1172 26.0042 62.1172 21.7103V13.8461H66.1523V21.1135C66.1523 23.4426 67.1874 24.4778 68.9726 24.4778C70.7577 24.4778 72.1785 23.2895 72.1785 20.7279V13.8461H76.2136V13.8408Z\" fill=\"#40A944\"></path>\n",
      "<path class=\"logo-desktop-path\" d=\"M89.1484 20.7959C89.1484 16.6077 92.3807 13.6289 96.8066 13.6289C101.233 13.6289 104.438 16.6024 104.438 20.7959C104.438 24.9894 101.233 27.9629 96.8066 27.9629C92.3807 27.9629 89.1484 24.9894 89.1484 20.7959ZM100.351 20.7959C100.351 18.3928 98.8242 16.9404 96.8066 16.9404C94.7891 16.9404 93.2363 18.3876 93.2363 20.7959C93.2363 23.2043 94.7891 24.6514 96.8066 24.6514C98.8242 24.6514 100.351 23.2043 100.351 20.7959Z\" fill=\"#40A944\"></path>\n",
      "<path class=\"logo-desktop-path\" d=\"M115.28 13.6348V17.3582C114.942 17.3318 114.683 17.3054 114.377 17.3054C112.153 17.3054 110.68 18.5202 110.68 21.1873V27.7575H106.645V13.8407H110.5V15.6787C111.482 14.3319 113.141 13.6348 115.285 13.6348H115.28Z\" fill=\"#40A944\"></path>\n",
      "<path class=\"logo-desktop-path\" d=\"M117.695 13.8408H121.73V27.7576H117.695V13.8408Z\" fill=\"#40A944\"></path>\n",
      "<path class=\"logo-desktop-path\" d=\"M139.119 13.8402V27.757H135.263V26.1514C134.255 27.3661 132.781 27.9629 130.917 27.9629C126.987 27.9629 123.961 25.169 123.961 20.7959C123.961 16.4228 126.987 13.6289 130.917 13.6289C132.623 13.6289 134.07 14.1729 135.079 15.3084V13.8349H139.114L139.119 13.8402ZM135.163 20.7959C135.163 18.3928 133.61 16.9404 131.619 16.9404C129.628 16.9404 128.049 18.3876 128.049 20.7959C128.049 23.2043 129.602 24.6514 131.619 24.6514C133.637 24.6514 135.163 23.2043 135.163 20.7959Z\" fill=\"#40A944\"></path>\n",
      "<path class=\"logo-desktop-path\" d=\"M146.402 8.5625H142.367V27.7555H146.402V8.5625Z\" fill=\"#40A944\"></path>\n",
      "<path class=\"logo-desktop-path\" d=\"M149.141 26.4622L150.487 23.5679C151.729 24.3707 153.619 24.9147 155.325 24.9147C157.19 24.9147 157.887 24.4235 157.887 23.6471C157.887 21.3708 149.479 23.7 149.479 18.1385C149.479 15.4978 151.861 13.6387 155.917 13.6387C157.829 13.6387 159.952 14.077 161.272 14.8534L159.925 17.7266C158.552 16.9502 157.184 16.6914 155.917 16.6914C154.105 16.6914 153.329 17.2618 153.329 17.9854C153.329 20.3673 161.737 18.0646 161.737 23.5468C161.737 26.1347 159.334 27.9674 155.167 27.9674C152.811 27.9674 150.435 27.3231 149.141 26.4675V26.4622Z\" fill=\"#40A944\"></path>\n",
      "<path class=\"logo-desktop-path\" d=\"M178.226 20.9541C178.226 25.0948 175.332 27.8835 171.45 27.8835C169.279 27.8835 167.415 26.9539 166.279 25.1952V32.7742H164.441V14.1515H166.2V16.8398C167.315 15.0283 169.2 14.0459 171.45 14.0459C175.332 14.0459 178.226 16.8398 178.226 20.9541ZM176.388 20.9541C176.388 17.8011 174.191 15.6515 171.318 15.6515C168.445 15.6515 166.248 17.7958 166.248 20.9541C166.248 24.1125 168.418 26.2568 171.318 26.2568C174.218 26.2568 176.388 24.1336 176.388 20.9541Z\" fill=\"var(--clr-text)\"></path>\n",
      "<path class=\"logo-desktop-path\" d=\"M180.129 20.9541C180.129 16.919 183.076 14.0459 187.058 14.0459C191.041 14.0459 193.966 16.919 193.966 20.9541C193.966 24.9892 191.046 27.8835 187.058 27.8835C183.071 27.8835 180.129 24.9892 180.129 20.9541ZM192.102 20.9541C192.102 17.7747 189.953 15.6515 187.058 15.6515C184.164 15.6515 181.988 17.7747 181.988 20.9541C181.988 24.1336 184.159 26.2568 187.058 26.2568C189.958 26.2568 192.102 24.1336 192.102 20.9541Z\" fill=\"var(--clr-text)\"></path>\n",
      "<path class=\"logo-desktop-path\" d=\"M196.754 14.1523H198.592V27.7575H196.754V14.1523Z\" fill=\"var(--clr-text)\"></path>\n",
      "<path class=\"logo-desktop-path\" d=\"M215.288 19.8661V27.7567H213.45V20.051C213.45 17.1778 211.95 15.7043 209.362 15.7043C206.442 15.7043 204.604 17.5159 204.604 20.6161V27.7567H202.766V14.1515H204.524V16.6602C205.507 15.0071 207.345 14.0459 209.695 14.0459C213.006 14.0459 215.283 15.9578 215.283 19.8661H215.288Z\" fill=\"var(--clr-text)\"></path>\n",
      "<path class=\"logo-desktop-path\" d=\"M59.3346 24.2389C58.8699 24.5769 58.2731 24.7565 57.6815 24.7565C56.5935 24.7565 55.9756 24.1122 55.9756 22.9185V17.2568H59.4139V14.1512H55.9756V10.2852L51.9405 11.2411V14.1512H50.2188V17.2568H51.9405V22.9714C51.9405 26.2829 53.8313 27.9624 57.1375 27.9624C58.3523 27.9624 59.567 27.6772 60.3962 27.0804L59.3346 24.2336V24.2389Z\" fill=\"#40A944\"></path>\n",
      "<path class=\"logo-desktop-path\" d=\"M87.2878 24.2389C86.823 24.5769 86.2262 24.7565 85.6347 24.7565C84.5467 24.7565 83.9287 24.1122 83.9287 22.9185V17.2568H87.367V14.1512H83.9287V10.2852L79.8936 11.2411V14.1512H78.1719V17.2568H79.8936V22.9714C79.8936 26.2829 81.7844 27.9624 85.0907 27.9624C86.3054 27.9624 87.5202 27.6772 88.3494 27.0804L87.2878 24.2336V24.2389Z\" fill=\"#40A944\"></path>\n",
      "<path class=\"logo-desktop-path\" d=\"M119.713 11.8222C120.827 11.8222 121.73 10.9189 121.73 9.80465C121.73 8.69039 120.827 7.78711 119.713 7.78711C118.599 7.78711 117.695 8.69039 117.695 9.80465C117.695 10.9189 118.599 11.8222 119.713 11.8222Z\" fill=\"#40A944\"></path>\n",
      "<path class=\"logo-desktop-path\" d=\"M197.674 11.8222C198.788 11.8222 199.691 10.9189 199.691 9.80465C199.691 8.69039 198.788 7.78711 197.674 7.78711C196.56 7.78711 195.656 8.69039 195.656 9.80465C195.656 10.9189 196.56 11.8222 197.674 11.8222Z\" fill=\"#40A944\"></path>\n",
      "<path class=\"logo-desktop-path\" d=\"M225.15 25.6071C224.633 26.0719 223.909 26.3043 223.133 26.3043C221.606 26.3043 220.803 25.4223 220.803 23.822V15.699H224.918V14.1462H220.803V10.2168L218.965 11.1728V14.1462H217.043V15.699H218.965V23.9223C218.965 26.4311 220.386 27.8782 222.948 27.8782C224.009 27.8782 225.097 27.5666 225.794 26.9222L225.15 25.6019V25.6071Z\" fill=\"var(--clr-text)\"></path>\n",
      "<path d=\"M27.3002 39.5829C33.1626 39.4561 38.4072 35.87 40.8842 30.5568C42.3208 27.4829 43.0444 24.013 42.8542 20.3582C42.2785 9.30395 33.1521 0.394029 22.082 0.0718569C9.95038 -0.282005 0 9.44655 0 21.5043C0 30.7099 5.80439 38.5583 13.9485 41.6004C13.1721 40.7871 12.6017 39.7941 12.2531 38.6217C11.7091 36.8101 11.725 34.6711 12.2954 32.2046L15.2319 19.8881H9.16343L10.1564 15.5837L10.4257 14.4429H16.5259L16.6368 13.9411L18.0628 7.76175L26.9727 6.05582L25.1506 13.9411L23.8408 19.8881L20.8197 33.2609C20.3602 35.2626 20.5398 36.8101 21.3743 37.8928C21.3743 37.8928 22.6207 39.6832 27.3002 39.5829ZM29.4128 13.4605C31.8951 12.9904 34.0288 15.1242 33.5588 17.6065C33.2947 18.9902 32.1803 20.1099 30.7912 20.374C28.3089 20.8441 26.1752 18.7103 26.6453 16.228C26.9093 14.8443 28.0237 13.7246 29.4128 13.4605Z\" fill=\"#40A944\"></path>\n",
      "</svg>\n",
      "<svg class=\"logo-mobile\" fill=\"none\" height=\"42\" viewbox=\"0 0 43 42\" width=\"43\" xmlns=\"http://www.w3.org/2000/svg\">\n",
      "<path d=\"M27.3002 39.5829C33.1626 39.4561 38.4072 35.87 40.8842 30.5568C42.3208 27.4829 43.0444 24.013 42.8542 20.3582C42.2785 9.30395 33.1521 0.394029 22.082 0.0718569C9.95038 -0.282005 0 9.44655 0 21.5043C0 30.7099 5.80439 38.5583 13.9485 41.6004C13.1721 40.7871 12.6017 39.7941 12.2531 38.6217C11.7091 36.8101 11.725 34.6711 12.2954 32.2046L15.2319 19.8881H9.16343L10.1564 15.5837L10.4257 14.4429H16.5259L16.6368 13.9411L18.0628 7.76175L26.9727 6.05582L25.1506 13.9411L23.8408 19.8881L20.8197 33.2609C20.3602 35.2626 20.5398 36.8101 21.3743 37.8928C21.3743 37.8928 22.6207 39.6832 27.3002 39.5829ZM29.4128 13.4605C31.8951 12.9904 34.0288 15.1242 33.5588 17.6065C33.2947 18.9902 32.1803 20.1099 30.7912 20.374C28.3089 20.8441 26.1752 18.7103 26.6453 16.228C26.9093 14.8443 28.0237 13.7246 29.4128 13.4605Z\" fill=\"#40A944\"></path>\n",
      "</svg>\n",
      "</a>\n",
      "<a class=\"button w100 mt-2\" href=\"/tutorialslibrary.htm\" title=\"All Categories\"><i class=\"fa fa-cubes\"></i> All Categories </a>\n",
      "<a href=\"artificial_intelligence/index.htm\">Artificial Intelligence <i class=\"fa fa-angle-right\"></i></a>\n",
      "<a href=\"machine_learning/index.htm\">Machine Learning <i class=\"fa fa-angle-right\"></i></a>\n",
      "<a href=\"machine_learning_with_python/index.htm\">ML With Python <i class=\"fa fa-angle-right\"></i></a>\n",
      "<a href=\"data_science/index.htm\">Data Science <i class=\"fa fa-angle-right\"></i></a>\n",
      "<a href=\"statistics/index.htm\">Statistics <i class=\"fa fa-angle-right\"></i></a>\n",
      "<a href=\"natural_language_processing/index.htm\">NLP <i class=\"fa fa-angle-right\"></i></a>\n",
      "<a href=\"artificial_neural_network/index.htm\">Neural Networks <i class=\"fa fa-angle-right\"></i></a>\n",
      "<a href=\"tensorflow/index.htm\">TensorFlow <i class=\"fa fa-angle-right\"></i></a>\n",
      "<a href=\"pytorch/index.htm\">PyTorch <i class=\"fa fa-angle-right\"></i></a>\n",
      "<a href=\"matplotlib/index.htm\">Matplotlib <i class=\"fa fa-angle-right\"></i></a>\n",
      "<a href=\"numpy/index.htm\">NumPy <i class=\"fa fa-angle-right\"></i></a>\n",
      "<a href=\"python_pandas/index.htm\">Pandas <i class=\"fa fa-angle-right\"></i></a>\n",
      "<a href=\"scipy/index.htm\">SciPy <i class=\"fa fa-angle-right\"></i></a>\n",
      "<a href=\"big_data_analytics/index.htm\">Big Data Analytics <i class=\"fa fa-angle-right\"></i></a>\n",
      "<a class=\"w100\" href=\"machine_learning_tutorials.htm\">See all</a>\n",
      "<a href=\"python/index.htm\">Python <i class=\"fa fa-angle-right\"></i></a>\n",
      "<a href=\"java/index.htm\">Java <i class=\"fa fa-angle-right\"></i></a>\n",
      "<a href=\"cplusplus/index.htm\">C++ <i class=\"fa fa-angle-right\"></i></a>\n",
      "<a href=\"cprogramming/index.htm\">C <i class=\"fa fa-angle-right\"></i></a>\n",
      "<a href=\"php/index.htm\">PHP <i class=\"fa fa-angle-right\"></i></a>\n",
      "<a href=\"go/index.htm\">Go <i class=\"fa fa-angle-right\"></i></a>\n",
      "<a href=\"kotlin/index.htm\">Kotlin <i class=\"fa fa-angle-right\"></i></a>\n",
      "<a href=\"r/index.htm\">R <i class=\"fa fa-angle-right\"></i></a>\n",
      "<a href=\"asp.net/index.htm\">ASP.Net <i class=\"fa fa-angle-right\"></i></a>\n",
      "<a href=\"csharp/index.htm\">C#.Net <i class=\"fa fa-angle-right\"></i></a>\n",
      "<a href=\"vb.net/index.htm\">VB.Net <i class=\"fa fa-angle-right\"></i></a>\n",
      "<a href=\"scala/index.htm\">Scala <i class=\"fa fa-angle-right\"></i></a>\n",
      "<a href=\"swift/index.htm\">Swift <i class=\"fa fa-angle-right\"></i></a>\n",
      "<a href=\"perl/index.htm\">Perl <i class=\"fa fa-angle-right\"></i></a>\n",
      "<a href=\"ruby/index.htm\">Ruby <i class=\"fa fa-angle-right\"></i></a>\n",
      "<a href=\"rust/index.htm\">Rust <i class=\"fa fa-angle-right\"></i></a>\n",
      "<a href=\"lua/index.htm\">Lua <i class=\"fa fa-angle-right\"></i></a>\n",
      "<a class=\"w100\" href=\"computer_programming_tutorials.htm\">See all</a>\n",
      "<a href=\"html/index.htm\">HTML <i class=\"fa fa-angle-right\"></i></a>\n",
      "<a href=\"css/index.htm\">CSS <i class=\"fa fa-angle-right\"></i></a>\n",
      "<a href=\"javascript/index.htm\">JavaScript <i class=\"fa fa-angle-right\"></i></a>\n",
      "<a href=\"jquery/index.htm\">jQuery <i class=\"fa fa-angle-right\"></i></a>\n",
      "<a href=\"reactjs/index.htm\">ReactJs <i class=\"fa fa-angle-right\"></i></a>\n",
      "<a href=\"nodejs/index.htm\">NodeJs <i class=\"fa fa-angle-right\"></i></a>\n",
      "<a href=\"wordpress/index.htm\">Wordpress <i class=\"fa fa-angle-right\"></i></a>\n",
      "<a href=\"angularjs/index.htm\">AngularJs <i class=\"fa fa-angle-right\"></i></a>\n",
      "<a href=\"php/index.htm\">PHP <i class=\"fa fa-angle-right\"></i></a>\n",
      "<a href=\"django/index.htm\">Django <i class=\"fa fa-angle-right\"></i></a>\n",
      "<a href=\"/json/index.htm\">JSON <i class=\"fa fa-angle-right\"></i></a>\n",
      "<a href=\"/codeigniter/index.htm\">Codeigniter <i class=\"fa fa-angle-right\"></i></a>\n",
      "<a href=\"/typescript/index.htm\">TypeScript <i class=\"fa fa-angle-right\"></i></a>\n",
      "<a href=\"/ajax/index.htm\">Ajax <i class=\"fa fa-angle-right\"></i></a>\n",
      "<a href=\"/bootstrap/index.htm\">Bootstrap <i class=\"fa fa-angle-right\"></i></a>\n",
      "<a href=\"/sass/index.htm\">Sass <i class=\"fa fa-angle-right\"></i></a>\n",
      "<a href=\"/appml/index.htm\">AppML <i class=\"fa fa-angle-right\"></i></a>\n",
      "<a class=\"w100\" href=\"/web_development_tutorials.htm\">See all</a>\n",
      "<a href=\"/git/index.htm\">GIT <i class=\"fa fa-angle-right\"></i></a>\n",
      "<a href=\"/amazon_web_services/index.htm\">AWS <i class=\"fa fa-angle-right\"></i></a>\n",
      "<a href=\"/docker/index.htm\">Docker <i class=\"fa fa-angle-right\"></i></a>\n",
      "<a href=\"/kubernetes/index.htm\">Kubernetes <i class=\"fa fa-angle-right\"></i></a>\n",
      "<a href=\"/microsoft_azure/index.htm\">Azure <i class=\"fa fa-angle-right\"></i></a>\n",
      "<a href=\"/gitlab/index.htm\">Gitlab <i class=\"fa fa-angle-right\"></i></a>\n",
      "<a href=\"/jira/index.htm\">Jira <i class=\"fa fa-angle-right\"></i></a>\n",
      "<a href=\"/gerrit/index.htm\">Gerrit <i class=\"fa fa-angle-right\"></i></a>\n",
      "<a href=\"/ansible/index.htm\">Ansible <i class=\"fa fa-angle-right\"></i></a>\n",
      "<a href=\"/bugzilla/index.htm\">Bugzilla <i class=\"fa fa-angle-right\"></i></a>\n",
      "<a href=\"/chef/index.htm\">Chef <i class=\"fa fa-angle-right\"></i></a>\n",
      "<a href=\"/saltstack/index.htm\">SaltStack <i class=\"fa fa-angle-right\"></i></a>\n",
      "<a href=\"/openshift/index.htm\">OpenShift <i class=\"fa fa-angle-right\"></i></a>\n",
      "<a href=\"/puppet/index.htm\">Puppet <i class=\"fa fa-angle-right\"></i></a>\n",
      "<a href=\"/unix/index.htm\">UNIX <i class=\"fa fa-angle-right\"></i></a>\n",
      "<a href=\"/linux_admin/index.htm\">Linux Admin <i class=\"fa fa-angle-right\"></i></a>\n",
      "<a href=\"/ubuntu/index.htm\">Ubuntu <i class=\"fa fa-angle-right\"></i></a>\n",
      "<a class=\"w100\" href=\"/devops_tutorials.htm\">See all</a>\n",
      "<a href=\"dbms/index.htm\">DBMS <i class=\"fa fa-angle-right\"></i></a>\n",
      "<a href=\"sql/index.htm\">SQL <i class=\"fa fa-angle-right\"></i></a>\n",
      "<a href=\"plsql/index.htm\">PL/SQL <i class=\"fa fa-angle-right\"></i></a>\n",
      "<a href=\"mysql/index.htm\">MySQL <i class=\"fa fa-angle-right\"></i></a>\n",
      "<a href=\"tinydb/index.htm\">TinyDB <i class=\"fa fa-angle-right\"></i></a>\n",
      "<a href=\"ms_sql_server/index.htm\">SQL Server <i class=\"fa fa-angle-right\"></i></a>\n",
      "<a href=\"mongodb/index.htm\">MongoDB <i class=\"fa fa-angle-right\"></i></a>\n",
      "<a href=\"postgresql/index.htm\">Postgrey SQL <i class=\"fa fa-angle-right\"></i></a>\n",
      "<a href=\"sqlite/index.htm\">SQLite <i class=\"fa fa-angle-right\"></i></a>\n",
      "<a href=\"redis/index.htm\">Redis <i class=\"fa fa-angle-right\"></i></a>\n",
      "<a href=\"phpmyadmin/index.htm\">PHP MyAdmin <i class=\"fa fa-angle-right\"></i></a>\n",
      "<a href=\"mariadb/index.htm\">MariaDB <i class=\"fa fa-angle-right\"></i></a>\n",
      "<a href=\"couchdb/index.htm\">CouchDB <i class=\"fa fa-angle-right\"></i></a>\n",
      "<a href=\"db2/index.htm\">DB2 <i class=\"fa fa-angle-right\"></i></a>\n",
      "<a class=\"w100\" href=\"database_tutorials.htm\">See all </a>\n",
      "<a class=\"h60\" href=\"computer_fundamentals/index.htm\">Computer Fundamentals <i class=\"fa fa-angle-right\"></i></a>\n",
      "<a class=\"h60\" href=\"operating_system/index.htm\">Operating System <i class=\"fa fa-angle-right\"></i></a>\n",
      "<a class=\"h60\" href=\"dbms/index.htm\">DBMS <i class=\"fa fa-angle-right\"></i></a>\n",
      "<a class=\"h60\" href=\"data_structures_algorithms/index.htm\">DSA <i class=\"fa fa-angle-right\"></i></a>\n",
      "<a class=\"h60\" href=\"data_communication_computer_network/index.htm\">Computer Networks <i class=\"fa fa-angle-right\"></i></a>\n",
      "<a class=\"h60\" href=\"software_engineering/index.htm\">Software Engineering <i class=\"fa fa-angle-right\"></i></a>\n",
      "<a class=\"h60\" href=\"computer_graphics/index.htm\">Computer Graphics <i class=\"fa fa-angle-right\"></i></a>\n",
      "<a class=\"h60\" href=\"data_mining/index.htm\">Data Mining <i class=\"fa fa-angle-right\"></i></a>\n",
      "<a class=\"h60\" href=\"digital_marketing/index.htm\">Digital Marketing <i class=\"fa fa-angle-right\"></i></a>\n",
      "<a class=\"h60\" href=\"seo/index.htm\">SEO <i class=\"fa fa-angle-right\"></i></a>\n",
      "<a class=\"h60\" href=\"digital_circuits/index.htm\">Digital Circuits <i class=\"fa fa-angle-right\"></i></a>\n",
      "<a class=\"h60\" href=\"discrete_mathematics/index.htm\">Discrete Mathematics <i class=\"fa fa-angle-right\"></i></a>\n",
      "<a class=\"h60\" href=\"cryptography/index.htm\">Cryptography <i class=\"fa fa-angle-right\"></i></a>\n",
      "<a class=\"h60\" href=\"cloud_computing/index.htm\">Cloud Computing <i class=\"fa fa-angle-right\"></i></a>\n",
      "<a class=\"h60\" href=\"compiler_design/index.htm\">Compiler Design <i class=\"fa fa-angle-right\"></i></a>\n",
      "<a class=\"h60\" href=\"embedded_systems/index.htm\">Embedded Systems <i class=\"fa fa-angle-right\"></i></a>\n",
      "<a class=\"h60\" href=\"microprocessor/index.htm\">Microprocessors <i class=\"fa fa-angle-right\"></i></a>\n",
      "<a class=\"w100\" href=\"computer_science_tutorials.htm\">See all </a>\n",
      "<a href=\"python/index.htm\">Python <i class=\"fa fa-angle-right\"></i></a>\n",
      "<a href=\"numpy/index.htm\">NumPy <i class=\"fa fa-angle-right\"></i></a>\n",
      "<a href=\"python_pandas/index.htm\">Pandas <i class=\"fa fa-angle-right\"></i></a>\n",
      "<a href=\"matplotlib/index.htm\">Matplotlib <i class=\"fa fa-angle-right\"></i></a>\n",
      "<a href=\"django/index.htm\">Django <i class=\"fa fa-angle-right\"></i></a>\n",
      "<a href=\"pyqt/index.htm\">PyQt <i class=\"fa fa-angle-right\"></i></a>\n",
      "<a href=\"pycharm/index.htm\">PyCharm <i class=\"fa fa-angle-right\"></i></a>\n",
      "<a href=\"python_pillow/index.htm\">Pillow <i class=\"fa fa-angle-right\"></i></a>\n",
      "<a href=\"opencv/index.htm\">OpenCV <i class=\"fa fa-angle-right\"></i></a>\n",
      "<a href=\"seaborn/index.htm\">Seaborn <i class=\"fa fa-angle-right\"></i></a>\n",
      "<a href=\"machine_learning_with_python/index.htm\">ML with Python <i class=\"fa fa-angle-right\"></i></a>\n",
      "<a href=\"scipy/index.htm\">SciPy <i class=\"fa fa-angle-right\"></i></a>\n",
      "<a class=\"w100\" href=\"python_technologies_tutorials.htm\">See all </a>\n",
      "<a href=\"software_testing/index.htm\" title=\"Software Testing\">Software Testing <i class=\"fa fa-angle-right\"></i></a>\n",
      "<a href=\"jira/index.htm\" title=\"Jira\">Jira <i class=\"fa fa-angle-right\"></i></a>\n",
      "<a href=\"selenium/index.htm\" title=\"Selenium\">Selenium <i class=\"fa fa-angle-right\"></i></a>\n",
      "<a href=\"testrail/index.htm\">TestRail <i class=\"fa fa-angle-right\"></i></a>\n",
      "<a href=\"postman/index.htm\" title=\"Postman\">Postman <i class=\"fa fa-angle-right\"></i></a>\n",
      "<a href=\"cucumber/index.htm\">Cucumber <i class=\"fa fa-angle-right\"></i></a>\n",
      "<a href=\"cypress/index.htm\">Cypress <i class=\"fa fa-angle-right\"></i></a>\n",
      "<a href=\"watir/index.htm\">Watir <i class=\"fa fa-angle-right\"></i></a>\n",
      "<a href=\"agile/index.htm\" title=\"Agile\">Agile <i class=\"fa fa-angle-right\"></i></a>\n",
      "<a href=\"jmeter/index.htm\" title=\"jMeter\">jMeter <i class=\"fa fa-angle-right\"></i></a>\n",
      "<a href=\"/blockchain/index.htm\" title=\"Blockchain\">Blockchain <i class=\"fa fa-angle-right\"></i></a>\n",
      "<a href=\"/information_security_cyber_law/index.htm\" title=\"Information Security\">Information Security <i class=\"fa fa-angle-right\"></i></a>\n",
      "<a href=\"computer_security/index.htm\" title=\"Computer Security\">Computer Security <i class=\"fa fa-angle-right\"></i></a>\n",
      "<a href=\"internet_security/index.htm\" title=\"Internet Security\">Internet Security <i class=\"fa fa-angle-right\"></i></a>\n",
      "<a href=\"network_security/index.htm\" title=\"Network Security\">Network Security <i class=\"fa fa-angle-right\"></i></a>\n",
      "<a href=\"wireless_security/index.htm\" title=\"Wireless Security\">Wireless Security <i class=\"fa fa-angle-right\"></i></a>\n",
      "<a class=\"nav__link\" href=\"/tutorialslibrary.htm\">Library</a>\n",
      "<a class=\"nav__link\" href=\"https://www.tutorialspoint.com/market/index.asp\">Courses</a>\n",
      "<a class=\"nav__link\" href=\"https://www.tutorialspoint.com/latest/certifications\">Certifications</a>\n",
      "<a class=\"button nav__signup-link fw-600\" href=\"/market/login.jsp\">Login</a>\n",
      "<a class=\"button-reset cart-button cart-button--mobile\" data-number=\"1\" href=\"/cart\">\n",
      "<svg fill=\"none\" height=\"27\" viewbox=\"0 0 22 21\" width=\"27\" xmlns=\"http://www.w3.org/2000/svg\"><path d=\"M6.26259 3.25044H6.54894C10.5579 3.25044 14.5539 3.25044 18.5629 3.25044C19.9166 3.25044 20.9449 4.14856 21.062 5.50224C21.0881 5.87971 20.9969 6.28322 20.9189 6.6737C20.6195 8.07945 20.3071 9.4852 19.9947 10.8779C19.5782 12.7132 18.0683 13.9368 16.194 13.9628C14.5279 13.9758 12.8618 13.9628 11.1957 13.9628C10.584 13.9628 10.1544 13.5332 10.1544 12.9866C10.1544 12.4269 10.597 12.0234 11.2088 12.0234C12.8228 12.0234 14.4368 12.0234 16.0508 12.0234C17.1572 12.0234 17.8731 11.4637 18.1204 10.3833C18.4588 8.87344 18.7972 7.37658 19.1226 5.8667C19.2137 5.43716 19.0055 5.20287 18.5239 5.20287C15.7774 5.20287 13.044 5.20287 10.2976 5.20287C9.17822 5.20287 8.05883 5.20287 6.93943 5.20287H6.65307C6.77022 5.80162 6.87435 6.36131 6.9915 6.93403C7.44706 9.19885 7.90263 11.4507 8.34518 13.7155C8.50138 14.4834 9.07409 14.965 9.85507 14.965C12.7186 14.965 15.5822 14.965 18.4458 14.965C18.9794 14.965 19.3569 15.2514 19.461 15.733C19.5782 16.2406 19.2398 16.7743 18.7321 16.8784C18.602 16.9044 18.4588 16.9044 18.3286 16.9044C15.5822 16.9044 12.8488 16.8784 10.1024 16.9044C8.16296 16.9305 6.71816 15.72 6.36672 13.8066C5.794 10.6567 5.11716 7.50674 4.49238 4.36983C4.44032 4.08347 4.38825 3.79712 4.32317 3.52378C4.16698 2.75582 3.60728 2.28724 2.82631 2.28724C2.21454 2.28724 1.60278 2.28724 1.00404 2.28724C0.587516 2.28724 0.262111 2.09199 0.0929 1.71452C-0.0632946 1.36309 -0.024246 1.01165 0.223062 0.712274C0.392273 0.504015 0.613549 0.360836 0.860857 0.360836C1.68088 0.360836 2.48788 0.321788 3.29489 0.399885C4.71366 0.543063 5.83305 1.57134 6.17147 2.96408C6.19751 3.05519 6.21052 3.15932 6.24957 3.27647L6.26259 3.25044Z\" fill=\"var(--clr-text)\"></path>\n",
      "<path d=\"M9.25664 20.2881C8.44964 20.2881 7.79883 19.6372 7.79883 18.8433C7.79883 18.0363 8.46266 17.3724 9.26966 17.3854C10.0767 17.3854 10.7145 18.0493 10.7145 18.8433C10.7145 19.6503 10.0637 20.2881 9.25664 20.2881Z\" fill=\"var(--clr-text)\"></path>\n",
      "<path d=\"M16.5581 20.2882C15.7511 20.2882 15.1133 19.6374 15.1133 18.8304C15.1133 18.0364 15.7641 17.3726 16.5711 17.3726C17.3781 17.3726 18.0419 18.0364 18.0289 18.8434C18.0289 19.6504 17.3651 20.2882 16.5711 20.2882H16.5581Z\" fill=\"var(--clr-text)\"></path></svg>\n",
      "</a>\n",
      "<a class=\"\" href=\"/sql/index.htm\" title=\"SQL Tutorial\">SQL</a>\n",
      "<a class=\"\" href=\"/html/index.htm\" title=\"HTML Tutorial\">HTML</a>\n",
      "<a class=\"\" href=\"/css/index.htm\" title=\"CSS Tutorial\">CSS</a>\n",
      "<a class=\"\" href=\"/javascript/index.htm\" title=\"JavaScript Tutorial\">Javascript</a>\n",
      "<a class=\"\" href=\"/python/index.htm\" title=\"Python Tutorial\">Python</a>\n",
      "<a class=\"\" href=\"/java/index.htm\" title=\"Java Tutorial\">Java</a>\n",
      "<a class=\"\" href=\"/cprogramming/index.htm\" title=\"C Tutorial\">C</a>\n",
      "<a class=\"\" href=\"/cplusplus/index.htm\" title=\"C++ Tutorial\">C++</a>\n",
      "<a class=\"\" href=\"/php/index.htm\" title=\"PHP Tutorial\">PHP</a>\n",
      "<a class=\"\" href=\"/scala/index.htm\" title=\"Scala Tutorial\">Scala</a>\n",
      "<a class=\"\" href=\"/csharp/index.htm\" title=\"C# Tutorial\">C#</a>\n",
      "<a class=\"\" href=\"/nodejs/index.htm\" title=\"Node.js Tutorial\">Node.js</a>\n",
      "<a class=\"\" href=\"/mysql/index.htm\" title=\"MySQL\">MySQL</a>\n",
      "<a class=\"\" href=\"/mongodb/index.htm\" title=\"MongoDB Tutorial\">MongoDB</a>\n",
      "<a class=\"\" href=\"/plsql/index.htm\" title=\"PL/SQL Tutorial\">PL/SQL</a>\n",
      "<a class=\"\" href=\"/swift/index.htm\" title=\"Swift Tutorial\">Swift</a>\n",
      "<a class=\"\" href=\"/bootstrap/index.htm\" title=\"Bootstrap Tutorial\">Bootstrap</a>\n",
      "<a class=\"\" href=\"/r/index.htm\" title=\"R Programming\">R</a>\n",
      "<a class=\"\" href=\"/machine_learning/index.htm\" title=\"Machine Learning\">Machine Learning</a>\n",
      "<a class=\"\" href=\"/blockchain/index.htm\" title=\"Blockchain Tutorial\">Blockchain</a>\n",
      "<a class=\"\" href=\"/angular4/index.htm\" title=\"Angular Tutorial\">Angular</a>\n",
      "<a class=\"\" href=\"/react_native/index.htm\" title=\"React Native Tutorial\">React Native</a>\n",
      "<a class=\"\" href=\"/computer_fundamentals/index.htm\" title=\"Computer Fundamentals Tutorial\">Computer Fundamentals</a>\n",
      "<a class=\"\" href=\"/compiler_design/index.htm\" title=\"Compiler Design Tutorial\">Compiler Design</a>\n",
      "<a class=\"\" href=\"/operating_system/index.htm\" title=\"Operating System Tutorial\">Operating System</a>\n",
      "<a class=\"\" href=\"/data_structures_algorithms/index.htm\" title=\"Data Structure and Algorithms Tutorial\">Data Structure and Algorithms</a>\n",
      "<a class=\"\" href=\"/data_communication_computer_network/index.htm\" title=\"Computer Network Tutorial\">Computer Network</a>\n",
      "<a class=\"\" href=\"/dbms/index.htm\" title=\"DBMS Tutorial\">DBMS</a>\n",
      "<a class=\"\" href=\"/excel/index.htm\" title=\"Excel Tutorial\">Excel</a>\n",
      "<a href=\"https://www.tutorialspoint.com/market/index.asp\" title=\"Video Courses\">Video Courses</a>\n",
      "<a href=\"https://www.tutorialspoint.com/latest/certifications\" title=\"Certifications\">Certifications</a>\n",
      "<a href=\"https://www.tutorialspoint.com/tutorialslibrary.htm\" title=\"Tutorials\">Tutorials</a>\n",
      "<a class=\"button\" href=\"/tutorialslibrary.htm\">See all</a>\n",
      "<a href=\"html/index.htm\">Start learning <br/> <span>HTML</span></a>\n",
      "<a href=\"javascript/index.htm\">Start learning <br/> <span>Javascript</span></a>\n",
      "<a href=\"python/index.htm\">Start learning <br/> <span>Python</span></a>\n",
      "<a href=\"java/index.htm\">Start learning <br/> <span>Java</span></a>\n",
      "<a href=\"sql/index.htm\">Start learning <br/> <span>SQL</span></a>\n",
      "<a href=\"linux_admin/index.htm\">Start learning <br/> <span>Linux</span></a>\n",
      "<a href=\"cplusplus/index.htm\">Start learning <br/> <span>C++</span></a>\n",
      "<a href=\"data_structures_algorithms/index.htm\">Start learning <br/> <span>DSA</span></a>\n",
      "<a href=\"machine_learning/index.htm\">Start learning <br/> <span>Machine Learning</span></a>\n",
      "<a href=\"computer_fundamentals/index.htm\">Start learning <br/> <span>Computer Fundamentals</span></a>\n",
      "<a href=\"dbms/index.htm\">Start learning <br/> <span>DBMS</span></a>\n",
      "<a href=\"basics_of_computer_science/basics_of_computer_science_operating_system.htm\">Start learning <br/> <span>Operating System</span></a>\n",
      "<a href=\"computer_fundamentals/computer_networking.htm\">Start learning <br/> <span>Computer Networks</span></a>\n",
      "<a href=\"php/index.htm\">Start learning <br/> <span>PHP</span></a>\n",
      "<a href=\"css/index.htm\">Start learning <br/> <span>CSS</span></a>\n",
      "<a href=\"cprogramming/index.htm\">Start learning <br/> <span>C</span></a>\n",
      "<a href=\"python/index.htm\">Start learning <br/> <span>Python</span></a>\n",
      "<a href=\"r/index.htm\">Start learning <br/> <span>R</span></a>\n",
      "<a href=\"power_bi/index.htm\">Start learning <br/> <span>Power BI</span></a>\n",
      "<a href=\"powershell/index.htm\">Start learning <br/> <span>Powershell</span></a>\n",
      "<a href=\"python_pandas/index.htm\">Start learning <br/> <span>Python Pandas</span></a>\n",
      "<a href=\"numpy/index.htm\">Start learning <br/> <span>NumPy</span></a>\n",
      "<a href=\"artificial_intelligence/index.htm\">Start learning <br/> <span>Artificial Intelligence</span></a>\n",
      "<a href=\"artificial_intelligence_with_python/index.htm\">Start learning <br/> <span>AI with Python</span></a>\n",
      "<a href=\"machine_learning/index.htm\">Start learning <br/> <span>Machine Learning</span></a>\n",
      "<a href=\"scikit_learn/index.htm\">Start learning <br/> <span>Scikit-learn</span></a>\n",
      "<a href=\"tensorflow/index.htm\">Start learning <br/> <span>TensorFlow</span></a>\n",
      "<a href=\"natural_language_processing/index.htm\">Start learning <br/> <span>NLP</span></a>\n",
      "<a href=\"html/index.htm\">Start learning <br/> <span>HTML</span></a>\n",
      "<a href=\"css/index.htm\">Start learning <br/> <span>CSS</span></a>\n",
      "<a href=\"bootstrap/index.htm\">Start learning <br/> <span>Bootstrap</span></a>\n",
      "<a href=\"es6/index.htm\">Start learning <br/> <span>ES6</span></a>\n",
      "<a href=\"reactjs/index.htm\">Start learning <br/> <span>ReactJS</span></a>\n",
      "<a href=\"nodejs/index.htm\">Start learning <br/> <span>NodeJS</span></a>\n",
      "<a href=\"java/index.htm\">Start learning <br/> <span>Java</span></a>\n",
      "<a href=\"plsql/index.htm\">Start learning <br/> <span>PL/SQL</span></a>\n",
      "<a href=\"jdbc/index.htm\">Start learning <br/> <span>JDBC</span></a>\n",
      "<a href=\"spring_boot/index.htm\">Start learning <br/> <span>Spring Boot</span></a>\n",
      "<a href=\"jsp/index.htm\">Start learning <br/> <span>JSP</span></a>\n",
      "<a href=\"git/index.htm\">Start learning <br/> <span>Git</span></a>\n",
      "<a href=\"chatgpt/index.htm\">Start learning <br> <span>ChatGPT</span></br></a>\n",
      "<a href=\"prompt_engineering/index.htm\">Start learning <br/> <span>Prompt Engineering</span></a>\n",
      "<a href=\"python/index.htm\">Start learning <br/> <span>Python</span></a>\n",
      "<a href=\"java/index.htm\">Start learning <br/> <span>Java</span></a>\n",
      "<a href=\"data_structures_algorithms/index.htm\">Start learning <br/> <span>DSA</span></a>\n",
      "<a href=\"cplusplus/index.htm\">Start learning <br/> <span>C++</span></a>\n",
      "<a href=\"https://www.tutorialspoint.com/online_java_compiler.php\" target=\"_blank\">\n",
      "<img alt=\"Online Java Compiler\" class=\"coding-ground__img\" src=\"/static/images/java-compiler.jpg\" title=\"Online Java Compiler\"/>\n",
      "</a>\n",
      "<a class=\"learn-button learn-button--accent\" href=\"https://www.tutorialspoint.com/online_java_compiler.php\" target=\"_blank\"><strong>Java</strong> Compiler</a>\n",
      "<a class=\"learn-button learn-button--accent\" href=\"online_python_compiler.php\" target=\"_blank\"><strong>Python</strong> Compiler</a>\n",
      "<a class=\"learn-button learn-button--accent\" href=\"compile_cpp_online.php\" target=\"_blank\"><strong>C++</strong> Compiler</a>\n",
      "<a class=\"learn-button learn-button--accent\" href=\"online_html_editor.php\" target=\"_blank\"><strong>HTML</strong> Editor</a>\n",
      "<a class=\"button\" href=\"../latest_technologies.htm\">See all</a>\n",
      "<a class=\"img-sprite\" href=\"/bitcoin/index.htm\" target=\"_blank\" title=\"Bitcoin Tutorial\"><p class=\"library-item__description sprite-img-title\">Bitcoin Tutorial</p></a>\n",
      "<a class=\"img-sprite\" href=\"/blockchain/index.htm\" target=\"_blank\" title=\"Blockchain Tutorial\"><p class=\"library-item__description sprite-img-title\">Blockchain Tutorial</p></a>\n",
      "<a class=\"img-sprite\" href=\"/blue_prism/index.htm\" target=\"_blank\" title=\"Blue Prism Tutorial\"><p class=\"library-item__description sprite-img-title\">Blue Prism</p></a>\n",
      "<a class=\"img-sprite\" href=\"/ethereum/index.htm\" target=\"_blank\" title=\"Ethereum Tutorial\"><p class=\"library-item__description sprite-img-title\">Ethereum Tutorial</p></a>\n",
      "<a class=\"img-sprite\" href=\"/python_blockchain/index.htm\" target=\"_blank\" title=\"Python Blockchain Tutorial\"><p class=\"library-item__description sprite-img-title\">Python Blockchain</p></a>\n",
      "<a class=\"button\" href=\"../computer_science_tutorials.htm\">See all</a>\n",
      "<a class=\"img-sprite\" href=\"/computer_fundamentals/index.htm\" target=\"_blank\" title=\"Computer Fundamentals Tutorial\"><p class=\"library-item__description sprite-img-title\">Computer Fundamentals</p></a>\n",
      "<a class=\"img-sprite\" href=\"/compiler_design/index.htm\" target=\"_blank\" title=\"Compiler Design Tutorial\"><p class=\"library-item__description sprite-img-title\">Compiler Design</p></a>\n",
      "<a class=\"img-sprite\" href=\"/operating_system/index.htm\" target=\"_blank\" title=\"Operating System Tutorial\"><p class=\"library-item__description sprite-img-title\">Operating System</p></a>\n",
      "<a class=\"img-sprite\" href=\"/data_structures_algorithms/index.htm\" target=\"_blank\" title=\"Data Structure Tutorial\"><p class=\"library-item__description sprite-img-title\">Data Structure</p></a>\n",
      "<a class=\"img-sprite\" href=\"/dbms/index.htm\" target=\"_blank\" title=\"DBMS Tutorial\"><p class=\"library-item__description sprite-img-title\">DBMS Tutorial</p></a>\n",
      "<a class=\"button\" href=\"../machine_learning_tutorials.htm\">See all</a>\n",
      "<a class=\"img-sprite\" href=\"/machine_learning/index.htm\" target=\"_blank\" title=\"Machine Learning Tutorial\"><p class=\"library-item__description sprite-img-title\">Machine Learning</p></a>\n",
      "<a class=\"img-sprite\" href=\"/tensorflow/index.htm\" target=\"_blank\" title=\"TensorFlow Tutorial\"><p class=\"library-item__description sprite-img-title\">TensorFlow Tutorial</p></a>\n",
      "<a class=\"img-sprite\" href=\"/machine_learning_with_python/index.htm\" target=\"_blank\" title=\"ML with Python Tutorial\"><p class=\"library-item__description sprite-img-title\">ML with Python</p></a>\n",
      "<a class=\"img-sprite\" href=\"/artificial_intelligence_with_python/index.htm\" target=\"_blank\" title=\"AI with Python Tutorial\"><p class=\"library-item__description sprite-img-title\">AI with Python</p></a>\n",
      "<a class=\"img-sprite\" href=\"/time_series/index.htm\" target=\"_blank\" title=\"Time Series Tutorial\"><p class=\"library-item__description sprite-img-title\">Time Series</p></a>\n",
      "<a class=\"button\" href=\"../web_development_tutorials.htm\">See all</a>\n",
      "<a class=\"img-sprite\" href=\"/html/index.htm\" target=\"_blank\" title=\"HTML Tutorial\"><p class=\"library-item__description sprite-img-title\">HTML Tutorial</p></a>\n",
      "<a class=\"img-sprite\" href=\"/css/index.htm\" target=\"_blank\" title=\"CSS Tutorial\"><p class=\"library-item__description sprite-img-title\">CSS Tutorial</p></a>\n",
      "<a class=\"img-sprite\" href=\"/javascript/index.htm\" target=\"_blank\" title=\"Javascript Tutorial\"><p class=\"library-item__description sprite-img-title\">Javascript Tutorial</p></a>\n",
      "<a class=\"img-sprite\" href=\"/php/index.htm\" target=\"_blank\" title=\"PHP Tutorial\"><p class=\"library-item__description sprite-img-title\">PHP Tutorial</p></a>\n",
      "<a class=\"img-sprite\" href=\"/angular4/index.htm\" target=\"_blank\" title=\"Angular 4 Tutorial\"><p class=\"library-item__description sprite-img-title\">Angular 4 Tutorial</p></a>\n",
      "<a class=\"button\" href=\"../computer_programming_tutorials.htm\">See all</a>\n",
      "<a class=\"img-sprite\" href=\"/html/index.htm\" target=\"_blank\" title=\"HTML Tutorial\"><p class=\"library-item__description sprite-img-title\">HTML Tutorial</p></a>\n",
      "<a class=\"img-sprite\" href=\"/cplusplus/index.htm\" target=\"_blank\" title=\"C++ Tutorial\"><p class=\"library-item__description sprite-img-title\">C++ Tutorial</p></a>\n",
      "<a class=\"img-sprite\" href=\"/java8/index.htm\" target=\"_blank\" title=\"Java8 Tutorial\"><p class=\"library-item__description sprite-img-title\">Java8 Tutorial</p></a>\n",
      "<a class=\"img-sprite\" href=\"/python/index.htm\" target=\"_blank\" title=\"Python Tutorial\"><p class=\"library-item__description sprite-img-title\">Python Tutorial</p></a>\n",
      "<a class=\"img-sprite\" href=\"/scala/index.htm\" target=\"_blank\" title=\"Scala Tutorial\"><p class=\"library-item__description sprite-img-title\">Scala Tutorial</p></a>\n",
      "<a class=\"button\" href=\"../java_technology_tutorials.htm\">See all</a>\n",
      "<a class=\"img-sprite\" href=\"/java8/index.htm\" target=\"_blank\" title=\"Java8 Tutorial\"><p class=\"library-item__description sprite-img-title\">Java8 Tutorial</p></a>\n",
      "<a class=\"img-sprite\" href=\"/jdbc/index.htm\" target=\"_blank\" title=\"JDBC Tutorial\"><p class=\"library-item__description sprite-img-title\">JDBC Tutorial</p></a>\n",
      "<a class=\"img-sprite\" href=\"/swing/index.htm\" target=\"_blank\" title=\"SWING Tutorial\"><p class=\"library-item__description sprite-img-title\">SWING Tutorial</p></a>\n",
      "<a class=\"img-sprite\" href=\"/servlets/index.htm\" target=\"_blank\" title=\"Servlets Tutorial\"><p class=\"library-item__description sprite-img-title\">Servlets Tutorial</p></a>\n",
      "<a class=\"img-sprite\" href=\"/spring/index.htm\" target=\"_blank\" title=\"Spring Tutorial\"><p class=\"library-item__description sprite-img-title\">Spring Tutorial</p></a>\n",
      "<a class=\"button\" href=\"../mobile_development_tutorials.htm\">See all</a>\n",
      "<a class=\"img-sprite\" href=\"/android/index.htm\" target=\"_blank\" title=\"Android Tutorial\">\n",
      "<p class=\"library-item__description sprite-img-title\">Android Tutorial</p>\n",
      "</a>\n",
      "<a class=\"img-sprite\" href=\"/swift/index.htm\" target=\"_blank\" title=\"Swift Tutorial\">\n",
      "<p class=\"library-item__description sprite-img-title\">Swift Tutorial</p>\n",
      "</a>\n",
      "<a class=\"img-sprite\" href=\"/ios/index.htm\" target=\"_blank\" title=\"IOS Tutorial\">\n",
      "<p class=\"library-item__description sprite-img-title\">IOS Tutorial</p>\n",
      "</a>\n",
      "<a class=\"img-sprite\" href=\"/kotlin/index.htm\" target=\"_blank\" title=\"Kotlin Tutorial\">\n",
      "<p class=\"library-item__description sprite-img-title\">Kotlin Tutorial</p>\n",
      "</a>\n",
      "<a class=\"img-sprite\" href=\"/xamarin/index.htm\" target=\"_blank\" title=\"Xamarian Tutorial\">\n",
      "<p class=\"library-item__description sprite-img-title\">Xamarian Tutorial</p>\n",
      "</a>\n",
      "<a class=\"button\" href=\"../database_tutorials.htm\">See all</a>\n",
      "<a class=\"img-sprite\" href=\"/mongodb/index.htm\" target=\"_blank\" title=\"Mongo DB Tutorial\">\n",
      "<p class=\"library-item__description sprite-img-title\">Mongo DB Tutorial</p>\n",
      "</a>\n",
      "<a class=\"img-sprite\" href=\"/plsql/index.htm\" target=\"_blank\" title=\"PL / SQL Tutorial\">\n",
      "<p class=\"library-item__description sprite-img-title\">PL / SQL Tutorial</p>\n",
      "</a>\n",
      "<a class=\"img-sprite\" href=\"/sql/index.htm\" target=\"_blank\" title=\"SQL Tutorial\">\n",
      "<p class=\"library-item__description sprite-img-title\">SQL Tutorial</p>\n",
      "</a>\n",
      "<a class=\"img-sprite\" href=\"/db2/index.htm\" target=\"_blank\" title=\"DB2 Tutorial\">\n",
      "<p class=\"library-item__description sprite-img-title\">DB2 Tutorial</p>\n",
      "</a>\n",
      "<a class=\"img-sprite\" href=\"/mysql/index.htm\" target=\"_blank\" title=\"MySQL Tutorial\">\n",
      "<p class=\"library-item__description sprite-img-title\">MySQL Tutorial</p>\n",
      "</a>\n",
      "<a class=\"button\" href=\"../microsoft_technologies_tutorials.htm\">See all</a>\n",
      "<a class=\"img-sprite\" href=\"/asp.net/index.htm\" target=\"_blank\" title=\"ASP.NET\">\n",
      "<p class=\"library-item__description sprite-img-title\">ASP.NET</p>\n",
      "</a>\n",
      "<a class=\"img-sprite\" href=\"/entity_framework/index.htm\" target=\"_blank\" title=\"Entity Framework\">\n",
      "<p class=\"library-item__description sprite-img-title\">Entity Framework</p>\n",
      "</a>\n",
      "<a class=\"img-sprite\" href=\"/vb.net/index.htm\" target=\"_blank\" title=\"VB.NET Tutorial\">\n",
      "<p class=\"library-item__description sprite-img-title\">VB.NET Tutorial</p>\n",
      "</a>\n",
      "<a class=\"img-sprite\" href=\"/ms_project/index.htm\" target=\"_blank\" title=\"Microsoft Project\">\n",
      "<p class=\"library-item__description sprite-img-title\">Microsoft Project</p>\n",
      "</a>\n",
      "<a class=\"img-sprite\" href=\"/excel/index.htm\" target=\"_blank\" title=\"Microsoft Excel\">\n",
      "<p class=\"library-item__description sprite-img-title\">Microsoft Excel</p>\n",
      "</a>\n",
      "<a class=\"button\" href=\"../big_data_tutorials.htm\">See all</a>\n",
      "<a class=\"img-sprite\" href=\"/big_data_analytics/index.htm\" target=\"_blank\" title=\"Big Data Analytics\">\n",
      "<p class=\"library-item__description sprite-img-title\">Big Data Analytics</p>\n",
      "</a>\n",
      "<a class=\"img-sprite\" href=\"/hadoop/index.htm\" target=\"_blank\" title=\"Hadoop Tutorial\">\n",
      "<p class=\"library-item__description sprite-img-title\">Hadoop Tutorial</p>\n",
      "</a>\n",
      "<a class=\"img-sprite\" href=\"/sas/index.htm\" target=\"_blank\" title=\"SAS Tutorial\">\n",
      "<p class=\"library-item__description sprite-img-title\">SAS Tutorial</p>\n",
      "</a>\n",
      "<a class=\"img-sprite\" href=\"/qlikview/index.htm\" target=\"_blank\" title=\"QlikView Tutorial\">\n",
      "<p class=\"library-item__description sprite-img-title\">QlikView Tutorial</p>\n",
      "</a>\n",
      "<a class=\"img-sprite\" href=\"/power_bi/index.htm\" target=\"_blank\" title=\"Power BI Tutorial\">\n",
      "<p class=\"library-item__description sprite-img-title\">Power BI Tutorial</p>\n",
      "</a>\n",
      "<a class=\"button\" href=\"/online_dev_tools.htm\">See All</a>\n",
      "<a class=\"popular-tools-item flow text-center bg-white\" href=\"/qr_code_generator.htm\" title=\"QR Code Generator\">\n",
      "<img alt=\"QR Code Generator\" class=\"invert\" src=\"../images/qrcode.svg\" style=\"width:150px; margin:auto;\"/>\n",
      "<h3 class=\"fs-500 fw-600\">QR Code Generator</h3>\n",
      "</a>\n",
      "<a class=\"popular-tools-item flow text-center bg-white\" href=\"/online_java_formatter.htm\" title=\"JAVA Formatter\">\n",
      "<img alt=\"JAVA Formatter\" src=\"../images/java-formatter-devtools.jpg\" style=\"width:150px; margin:auto;\"/>\n",
      "<h3 class=\"fs-500 fw-600\">JAVA Formatter</h3>\n",
      "</a>\n",
      "<a class=\"popular-tools-item flow text-center bg-white\" href=\"/online_image_optimizer.htm\" title=\"Image Optimizer\">\n",
      "<img alt=\"Image Optimizer\" src=\"../images/img-optimizer-devtools.jpg\" style=\"width:150px; margin:auto;\"/>\n",
      "<h3 class=\"fs-500 fw-600\">Image Optimizer</h3>\n",
      "</a>\n",
      "<a class=\"popular-tools-item flow text-center bg-white\" href=\"/whiteboard.htm\" title=\"White Board\">\n",
      "<img alt=\"White Board\" src=\"../images/whiteboard-devtools.jpg\" style=\"width:150px; margin:auto;\"/>\n",
      "<h3 class=\"fs-500 fw-600\">White Board</h3>\n",
      "</a>\n",
      "<a class=\"popular-tools-item flow text-center bg-white\" href=\"/online_image_editor.htm\" title=\"Image Editor\">\n",
      "<img alt=\"Image Editor\" src=\"../images/image-editor-devtools.jpg\" style=\"width:150px; margin:auto;\"/>\n",
      "<h3 class=\"fs-500 fw-600\">Image Editor</h3>\n",
      "</a>\n",
      "<a class=\"popular-tools-item flow text-center bg-white\" href=\"/online_javascript_minifier.htm\" title=\"Javascript Minifier\">\n",
      "<img alt=\"Javascript Minifier\" src=\"../images/javascript-minifier-devtools.jpg\" style=\"width:150px; margin:auto;\"/>\n",
      "<h3 class=\"fs-500 fw-600\">Javascript Minifier</h3>\n",
      "</a>\n",
      "<a class=\"popular-tools-item flow text-center bg-white\" href=\"/online_document_viewer.php\" title=\"Document Viewer\">\n",
      "<img alt=\"Document Viewer\" src=\"../images/image-document-viewer.jpg\" style=\"width:150px; margin:auto;\"/>\n",
      "<h3 class=\"fs-500 fw-600\">Document Viewer</h3>\n",
      "</a>\n",
      "<a class=\"popular-tools-item flow text-center bg-white\" href=\"/online_python_formatter.htm\" title=\"Python Formatter\">\n",
      "<img alt=\"Python Formatter\" src=\"../images/python-formatter-devtools.jpg\" style=\"width:150px; margin:auto;\"/>\n",
      "<h3 class=\"fs-500 fw-600\">Python Formatter</h3>\n",
      "</a>\n",
      "<a class=\"button fw-500 button--blue\" href=\"https://www.tutorialspoint.com/market/business/subscription.jsp\"><svg fill=\"none\" height=\"15\" viewbox=\"0 0 12 15\" width=\"12\" xmlns=\"https://www.w3.org/2000/svg\"><path d=\"M5.64477 14.9166C5.4609 14.8807 5.27401 14.8538 5.09317 14.8069C4.03425 14.5311 3.25566 13.9053 2.7506 12.9327C1.91223 11.3184 1.06933 9.70671 0.225288 8.09543C0.0459626 7.75305 0.0898481 7.56994 0.417098 7.36413C0.6963 7.18859 0.96945 6.99716 1.30162 6.93398C2.08059 6.78605 2.72487 7.01532 3.22539 7.63463C3.24809 7.66301 3.27117 7.691 3.31846 7.74926C3.31846 7.66679 3.31846 7.61761 3.31846 7.56843C3.31846 6.20457 3.31695 4.84071 3.31922 3.47686C3.32035 2.81177 3.71948 2.29157 4.33993 2.13532C5.1363 1.93481 5.94478 2.50986 5.9864 3.33007C6.01326 3.85745 5.99623 4.38673 5.99888 4.91524C5.99888 4.97048 5.99888 5.02534 5.99888 5.08814C6.72413 4.86228 7.29691 5.04766 7.73122 5.64692C8.53024 5.19255 9.45411 5.53267 9.78552 6.35287C9.94441 6.31617 10.101 6.2651 10.2614 6.24505C11.0434 6.14744 11.7842 6.77243 11.7868 7.56048C11.7914 8.87705 11.7967 10.1944 11.7532 11.5098C11.6991 13.1525 10.3644 14.609 8.73908 14.8621C8.63239 14.8788 8.52608 14.8984 8.41977 14.917H5.64439L5.64477 14.9166ZM1.1117 7.94183C1.14007 7.99404 1.16504 8.03944 1.18888 8.08484C1.94628 9.53949 2.71276 10.9892 3.45806 12.4503C3.99679 13.5062 4.84386 14.0483 6.02423 14.0654C6.6897 14.0748 7.35517 14.0688 8.02064 14.0658C8.18521 14.065 8.35092 14.0563 8.51435 14.0374C9.784 13.8906 10.8755 12.7276 10.9072 11.4481C10.9386 10.1743 10.9349 8.89974 10.9421 7.62555C10.9439 7.31835 10.7037 7.08304 10.4071 7.08077C10.1063 7.0785 9.86837 7.31949 9.86421 7.63425C9.86156 7.84649 9.86421 8.05911 9.86345 8.27135C9.86269 8.56569 9.6864 8.76658 9.4333 8.76241C9.18361 8.75825 9.01487 8.56266 9.01449 8.27513C9.01374 7.79391 9.01752 7.3123 9.0126 6.83107C9.00996 6.55036 8.81323 6.33547 8.54083 6.29877C8.27714 6.26359 8.02745 6.42324 7.95557 6.68201C7.9359 6.75314 7.93476 6.83107 7.93438 6.90598C7.93249 7.37775 7.93665 7.8499 7.93173 8.32167C7.92946 8.56001 7.77359 8.73026 7.54963 8.75901C7.3582 8.7836 7.16147 8.6561 7.10472 8.4624C7.08656 8.40036 7.08505 8.33226 7.08467 8.26681C7.08315 7.65317 7.08467 7.03991 7.08315 6.42627C7.0824 6.12815 6.91404 5.90607 6.65603 5.85311C6.29813 5.78009 6.00229 6.03054 5.99964 6.4187C5.99548 7.02288 5.99888 7.62669 5.99775 8.23087C5.99775 8.29216 5.99774 8.3542 5.98677 8.41398C5.93229 8.71929 5.58008 8.86078 5.32773 8.68032C5.1764 8.57212 5.14765 8.41625 5.14803 8.24298C5.14992 6.68542 5.14917 5.12824 5.14841 3.57068C5.14841 3.4954 5.14841 3.41897 5.1363 3.34482C5.09166 3.07092 4.81586 2.89235 4.54612 2.95818C4.3021 3.01757 4.16742 3.20182 4.16742 3.48329C4.16704 5.36167 4.16742 7.24004 4.16704 9.11842C4.16704 9.17516 4.16893 9.23229 4.16174 9.28791C4.1345 9.49523 3.98544 9.64845 3.78304 9.66736C3.59539 9.68477 3.45806 9.597 3.3597 9.43923C3.10584 9.03065 2.85615 8.61941 2.59397 8.21611C2.2618 7.705 1.60579 7.58318 1.11094 7.94107L1.1117 7.94183Z\" fill=\"white\"></path><path d=\"M4.52283 0.416992C6.33614 0.42418 7.7121 1.77404 7.7469 3.45039C7.75333 3.74889 7.58725 3.94826 7.33037 3.95129C7.08408 3.95432 6.91081 3.76251 6.89832 3.47233C6.85066 2.38238 6.136 1.53229 5.0801 1.30946C3.74159 1.02685 2.41822 2.07291 2.38909 3.44093C2.38455 3.65809 2.32326 3.83363 2.11064 3.91951C1.82993 4.03263 1.53446 3.82342 1.53862 3.51054C1.55072 2.54279 1.93359 1.74566 2.67321 1.12673C3.2441 0.649283 3.91222 0.422667 4.52283 0.416992Z\" fill=\"white\"></path></svg> Subscribe now!</a>\n",
      "<a class=\"button fw-500 button--orange\" href=\"https://www.tutorialspoint.com/latest/certifications\"><svg fill=\"none\" height=\"10\" viewbox=\"0 0 12 10\" width=\"12\" xmlns=\"https://www.w3.org/2000/svg\"><path d=\"M11.7819 1.7166L3.85473 9.64379L0.221436 6.0105L1.15288 5.07905L3.85473 7.7743L10.8505 0.785156L11.7819 1.7166Z\" fill=\"white\"></path></svg> Explore Now</a>\n",
      "<a href=\"/about/index.htm\" target=\"_blank\" title=\"Company\"><svg fill=\"none\" height=\"14\" viewbox=\"0 0 12 12\" width=\"14\" xmlns=\"http://www.w3.org/2000/svg\"><path d=\"M9.52246 5.06689L6.08496 8.50439L2.64746 5.06689\" stroke=\"#fff\" stroke-linecap=\"round\" stroke-linejoin=\"round\"></path> </svg>Company</a>\n",
      "<a href=\"/about/about_team.htm\" target=\"_blank\" title=\"Our Team\"><svg fill=\"none\" height=\"14\" viewbox=\"0 0 12 12\" width=\"14\" xmlns=\"http://www.w3.org/2000/svg\"> <path d=\"M9.52246 5.06689L6.08496 8.50439L2.64746 5.06689\" stroke=\"#fff\" stroke-linecap=\"round\" stroke-linejoin=\"round\"></path></svg>Our Team</a>\n",
      "<a href=\"/about/about_careers.htm\" target=\"_blank\" title=\"Careers\"><svg fill=\"none\" height=\"14\" viewbox=\"0 0 12 12\" width=\"14\" xmlns=\"http://www.w3.org/2000/svg\"> <path d=\"M9.52246 5.06689L6.08496 8.50439L2.64746 5.06689\" stroke=\"#fff\" stroke-linecap=\"round\" stroke-linejoin=\"round\"></path> </svg>Careers</a>\n",
      "<a href=\"/about/about_careers.htm\" target=\"_blank\" title=\"Jobs\"><svg fill=\"none\" height=\"14\" viewbox=\"0 0 12 12\" width=\"14\" xmlns=\"http://www.w3.org/2000/svg\"> <path d=\"M9.52246 5.06689L6.08496 8.50439L2.64746 5.06689\" stroke=\"#fff\" stroke-linecap=\"round\" stroke-linejoin=\"round\"></path></svg>Jobs</a>\n",
      "<a href=\"/about/contact_us.htm\" target=\"_blank\" title=\"Contact us\"><svg fill=\"none\" height=\"14\" viewbox=\"0 0 12 12\" width=\"14\" xmlns=\"http://www.w3.org/2000/svg\"> <path d=\"M9.52246 5.06689L6.08496 8.50439L2.64746 5.06689\" stroke=\"#fff\" stroke-linecap=\"round\" stroke-linejoin=\"round\"></path></svg>Contact Us</a>\n",
      "<a href=\"/about/about_terms_of_use.htm\" title=\"Terms of Use\"><svg fill=\"none\" height=\"14\" viewbox=\"0 0 12 12\" width=\"14\" xmlns=\"http://www.w3.org/2000/svg\"> <path d=\"M9.52246 5.06689L6.08496 8.50439L2.64746 5.06689\" stroke=\"#fff\" stroke-linecap=\"round\" stroke-linejoin=\"round\"></path></svg>Terms of use</a>\n",
      "<a href=\"/about/about_privacy.htm\" title=\"Privacy Policy\"><svg fill=\"none\" height=\"14\" viewbox=\"0 0 12 12\" width=\"14\" xmlns=\"http://www.w3.org/2000/svg\"> <path d=\"M9.52246 5.06689L6.08496 8.50439L2.64746 5.06689\" stroke=\"#fff\" stroke-linecap=\"round\" stroke-linejoin=\"round\"></path></svg>Privacy Policy</a>\n",
      "<a href=\"/about/return_refund_policy.htm\" title=\"Refund Policy\"><svg fill=\"none\" height=\"14\" viewbox=\"0 0 12 12\" width=\"14\" xmlns=\"http://www.w3.org/2000/svg\"> <path d=\"M9.52246 5.06689L6.08496 8.50439L2.64746 5.06689\" stroke=\"#fff\" stroke-linecap=\"round\" stroke-linejoin=\"round\"></path> </svg>Refund Policy</a>\n",
      "<a href=\"/about/about_cookies.htm\" title=\"Cookies Policy\"><svg fill=\"none\" height=\"14\" viewbox=\"0 0 12 12\" width=\"14\" xmlns=\"http://www.w3.org/2000/svg\"> <path d=\"M9.52246 5.06689L6.08496 8.50439L2.64746 5.06689\" stroke=\"#fff\" stroke-linecap=\"round\" stroke-linejoin=\"round\"></path> </svg>Cookies Policy</a>\n",
      "<a href=\"/about/faq.htm\" title=\"FAQ's\"><svg fill=\"none\" height=\"14\" viewbox=\"0 0 12 12\" width=\"14\" xmlns=\"http://www.w3.org/2000/svg\"><path d=\"M9.52246 5.06689L6.08496 8.50439L2.64746 5.06689\" stroke=\"#fff\" stroke-linecap=\"round\" stroke-linejoin=\"round\"></path></svg>FAQ's</a>\n",
      "<a class=\"social__link\" href=\"https://www.facebook.com/tutorialspointindia\" rel=\"nofollow\" target=\"_blank\" title=\"Follow on Facebook\"><svg fill=\"white\" height=\"2em\" viewbox=\"0 0 512 512\" xmlns=\"http://www.w3.org/2000/svg\"><path d=\"M504 256C504 119 393 8 256 8S8 119 8 256c0 123.78 90.69 226.38 209.25 245V327.69h-63V256h63v-54.64c0-62.15 37-96.48 93.67-96.48 27.14 0 55.52 4.84 55.52 4.84v61h-31.28c-30.8 0-40.41 19.12-40.41 38.73V256h68.78l-11 71.69h-57.78V501C413.31 482.38 504 379.78 504 256z\"></path></svg></a>\n",
      "<a class=\"social__link\" href=\"https://www.instagram.com/tutorialspoint_/\" rel=\"nofollow\" target=\"_blank\" title=\"Follow on Instagram\"><svg fill=\"white\" height=\"2em\" viewbox=\"0 0 448 512\" xmlns=\"http://www.w3.org/2000/svg\"><path d=\"M224.1 141c-63.6 0-114.9 51.3-114.9 114.9s51.3 114.9 114.9 114.9S339 319.5 339 255.9 287.7 141 224.1 141zm0 189.6c-41.1 0-74.7-33.5-74.7-74.7s33.5-74.7 74.7-74.7 74.7 33.5 74.7 74.7-33.6 74.7-74.7 74.7zm146.4-194.3c0 14.9-12 26.8-26.8 26.8-14.9 0-26.8-12-26.8-26.8s12-26.8 26.8-26.8 26.8 12 26.8 26.8zm76.1 27.2c-1.7-35.9-9.9-67.7-36.2-93.9-26.2-26.2-58-34.4-93.9-36.2-37-2.1-147.9-2.1-184.9 0-35.8 1.7-67.6 9.9-93.9 36.1s-34.4 58-36.2 93.9c-2.1 37-2.1 147.9 0 184.9 1.7 35.9 9.9 67.7 36.2 93.9s58 34.4 93.9 36.2c37 2.1 147.9 2.1 184.9 0 35.9-1.7 67.7-9.9 93.9-36.2 26.2-26.2 34.4-58 36.2-93.9 2.1-37 2.1-147.8 0-184.8zM398.8 388c-7.8 19.6-22.9 34.7-42.6 42.6-29.5 11.7-99.5 9-132.1 9s-102.7 2.6-132.1-9c-19.6-7.8-34.7-22.9-42.6-42.6-11.7-29.5-9-99.5-9-132.1s-2.6-102.7 9-132.1c7.8-19.6 22.9-34.7 42.6-42.6 29.5-11.7 99.5-9 132.1-9s102.7-2.6 132.1 9c19.6 7.8 34.7 22.9 42.6 42.6 11.7 29.5 9 99.5 9 132.1s2.7 102.7-9 132.1z\"></path></svg></a>\n",
      "<a class=\"social__link\" href=\"https://twitter.com/tutorialspoint\" rel=\"nofollow\" target=\"_blank\" title=\"Follow on Twitter\"><svg fill=\"white\" height=\"2em\" viewbox=\"0 0 512 512\" xmlns=\"http://www.w3.org/2000/svg\"><path d=\"M389.2 48h70.6L305.6 224.2 487 464H345L233.7 318.6 106.5 464H35.8L200.7 275.5 26.8 48H172.4L272.9 180.9 389.2 48zM364.4 421.8h39.1L151.1 88h-42L364.4 421.8z\"></path></svg></a>\n",
      "<a class=\"social__link\" href=\"https://www.youtube.com/channel/UCVLbzhxVTiTLiVKeGV7WEBg\" rel=\"nofollow\" target=\"_blank\" title=\"Subscribe to our Youtube Channel\"><svg fill=\"white\" height=\"2em\" viewbox=\"0 0 576 512\" xmlns=\"http://www.w3.org/2000/svg\"><path d=\"M549.655 124.083c-6.281-23.65-24.787-42.276-48.284-48.597C458.781 64 288 64 288 64S117.22 64 74.629 75.486c-23.497 6.322-42.003 24.947-48.284 48.597-11.412 42.867-11.412 132.305-11.412 132.305s0 89.438 11.412 132.305c6.281 23.65 24.787 41.5 48.284 47.821C117.22 448 288 448 288 448s170.78 0 213.371-11.486c23.497-6.321 42.003-24.171 48.284-47.821 11.412-42.867 11.412-132.305 11.412-132.305s0-89.438-11.412-132.305zm-317.51 213.508V175.185l142.739 81.205-142.739 81.201z\"></path></svg></a>\n",
      "<a class=\"social__link\" href=\"https://www.linkedin.com/company/tutorialspoint/\" rel=\"nofollow\" target=\"_blank\" title=\"Follow on LinkedIn\"><svg fill=\"white\" height=\"2em\" viewbox=\"0 0 448 512\" xmlns=\"http://www.w3.org/2000/svg\"><path d=\"M100.28 448H7.4V148.9h92.88zM53.79 108.1C24.09 108.1 0 83.5 0 53.8a53.79 53.79 0 0 1 107.58 0c0 29.7-24.1 54.3-53.79 54.3zM447.9 448h-92.68V302.4c0-34.7-.7-79.2-48.29-79.2-48.29 0-55.69 37.7-55.69 76.7V448h-92.78V148.9h89.08v40.8h1.3c12.4-23.5 42.69-48.3 87.88-48.3 94 0 111.28 61.9 111.28 142.3V448z\"></path></svg></a>\n",
      "<a href=\"https://play.google.com/store/apps/details?id=com.tutorialspoint.onlineviewer\" rel=\"nofollow\" target=\"_blank\" title=\"Download Android App\"><img alt=\"Download Android App\" src=\"/static/images/googleplay.svg\"/></a>\n",
      "<a href=\"https://itunes.apple.com/us/app/tutorials-point/id914891263?ls=1&amp;mt=8\" rel=\"nofollow\" target=\"_blank\" title=\"Download IOS App\"><img alt=\"Download IOS App\" src=\"/static/images/appstore.svg\"/></a>\n",
      "<a href=\"https://www.tutorialspoint.com/tutorialslibrary.htm\" title=\"Tutorials Library\"> Tutorials</a>\n",
      "<a href=\"https://www.tutorialspoint.com/articles/index.php\" title=\"Articles\"> Articles</a>\n",
      "<a href=\"https://www.tutorialspoint.com/job_search.php\" title=\"Jobs Search\"> Jobs</a>\n",
      "<a href=\"https://www.tutorialspoint.com/latest/courses\" title=\"Courses\"> Courses</a>\n",
      "<a href=\"https://www.tutorialspoint.com/latest/certifications\" title=\"Certifications\"> Certifications</a>\n",
      "<a href=\"https://www.tutorialspoint.com/market/business/subscription.jsp\" title=\"Annual Membership Subscription\"> Annual Membership</a>\n",
      "<a href=\"https://www.tutorialspoint.com/python/index.htm\" title=\"Python\"><svg fill=\"none\" height=\"16\" viewbox=\"0 0 12 12\" width=\"18\" xmlns=\"http://www.w3.org/2000/svg\"> <path d=\"M9.52246 5.06689L6.08496 8.50439L2.64746 5.06689\" stroke=\"#fff\" stroke-linecap=\"round\" stroke-linejoin=\"round\"></path> </svg>Python Tutorial</a>\n",
      "<a href=\"https://www.tutorialspoint.com/java/index.htm\" title=\"Java\"><svg fill=\"none\" height=\"16\" viewbox=\"0 0 12 12\" width=\"18\" xmlns=\"http://www.w3.org/2000/svg\"> <path d=\"M9.52246 5.06689L6.08496 8.50439L2.64746 5.06689\" stroke=\"#fff\" stroke-linecap=\"round\" stroke-linejoin=\"round\"></path> </svg>Java Tutorial</a>\n",
      "<a href=\"https://www.tutorialspoint.com/cplusplus/index.htm\" title=\"C++\"><svg fill=\"none\" height=\"16\" viewbox=\"0 0 12 12\" width=\"18\" xmlns=\"http://www.w3.org/2000/svg\"><path d=\"M9.52246 5.06689L6.08496 8.50439L2.64746 5.06689\" stroke=\"#fff\" stroke-linecap=\"round\" stroke-linejoin=\"round\"></path> </svg>C++ Tutorial</a>\n",
      "<a href=\"https://www.tutorialspoint.com/cprogramming/index.htm\" title=\"C Programming\"><svg fill=\"none\" height=\"16\" viewbox=\"0 0 12 12\" width=\"18\" xmlns=\"http://www.w3.org/2000/svg\"> <path d=\"M9.52246 5.06689L6.08496 8.50439L2.64746 5.06689\" stroke=\"#fff\" stroke-linecap=\"round\" stroke-linejoin=\"round\"></path> </svg>C Programming Tutorial</a>\n",
      "<a href=\"https://www.tutorialspoint.com/csharp/index.htm\" title=\"C#\"><svg fill=\"none\" height=\"16\" viewbox=\"0 0 12 12\" width=\"18\" xmlns=\"http://www.w3.org/2000/svg\"> <path d=\"M9.52246 5.06689L6.08496 8.50439L2.64746 5.06689\" stroke=\"#fff\" stroke-linecap=\"round\" stroke-linejoin=\"round\"></path> </svg>C# Tutorial</a>\n",
      "<a href=\"https://www.tutorialspoint.com/php/index.htm\" title=\"PHP\"><svg fill=\"none\" height=\"16\" viewbox=\"0 0 12 12\" width=\"18\" xmlns=\"http://www.w3.org/2000/svg\"> <path d=\"M9.52246 5.06689L6.08496 8.50439L2.64746 5.06689\" stroke=\"#fff\" stroke-linecap=\"round\" stroke-linejoin=\"round\"></path> </svg>PHP Tutorial</a>\n",
      "<a href=\"https://www.tutorialspoint.com/r/index.htm\" title=\"R Tutorial\"><svg fill=\"none\" height=\"16\" viewbox=\"0 0 12 12\" width=\"18\" xmlns=\"http://www.w3.org/2000/svg\"> <path d=\"M9.52246 5.06689L6.08496 8.50439L2.64746 5.06689\" stroke=\"#fff\" stroke-linecap=\"round\" stroke-linejoin=\"round\"></path> </svg>R Tutorial</a>\n",
      "<a href=\"https://www.tutorialspoint.com/go/index.htm\" title=\"Go Tutorial\"><svg fill=\"none\" height=\"16\" viewbox=\"0 0 12 12\" width=\"18\" xmlns=\"http://www.w3.org/2000/svg\"> <path d=\"M9.52246 5.06689L6.08496 8.50439L2.64746 5.06689\" stroke=\"#fff\" stroke-linecap=\"round\" stroke-linejoin=\"round\"></path> </svg>Go Tutorial</a>\n",
      "<a href=\"https://www.tutorialspoint.com/html/index.htm\" title=\"HTML\"><svg fill=\"none\" height=\"16\" viewbox=\"0 0 12 12\" width=\"18\" xmlns=\"http://www.w3.org/2000/svg\"> <path d=\"M9.52246 5.06689L6.08496 8.50439L2.64746 5.06689\" stroke=\"#fff\" stroke-linecap=\"round\" stroke-linejoin=\"round\"></path> </svg>HTML Tutorial</a>\n",
      "<a href=\"https://www.tutorialspoint.com/css/index.htm\" title=\"CSS\"><svg fill=\"none\" height=\"16\" viewbox=\"0 0 12 12\" width=\"18\" xmlns=\"http://www.w3.org/2000/svg\"> <path d=\"M9.52246 5.06689L6.08496 8.50439L2.64746 5.06689\" stroke=\"#fff\" stroke-linecap=\"round\" stroke-linejoin=\"round\"></path> </svg>CSS Tutorial</a>\n",
      "<a href=\"https://www.tutorialspoint.com/javascript/index.htm\" title=\"JavaScript\"><svg fill=\"none\" height=\"16\" viewbox=\"0 0 12 12\" width=\"18\" xmlns=\"http://www.w3.org/2000/svg\"> <path d=\"M9.52246 5.06689L6.08496 8.50439L2.64746 5.06689\" stroke=\"#fff\" stroke-linecap=\"round\" stroke-linejoin=\"round\"></path> </svg>JavaScript Tutorial</a>\n",
      "<a href=\"https://www.tutorialspoint.com/reactjs/index.htm\" title=\"ReactJS Tutorial\"><svg fill=\"none\" height=\"16\" viewbox=\"0 0 12 12\" width=\"18\" xmlns=\"http://www.w3.org/2000/svg\"> <path d=\"M9.52246 5.06689L6.08496 8.50439L2.64746 5.06689\" stroke=\"#fff\" stroke-linecap=\"round\" stroke-linejoin=\"round\"></path> </svg>ReactJS Tutorial</a>\n",
      "<a href=\"https://www.tutorialspoint.com/bootstrap/index.htm\" title=\"Bootstrap Tutorial\"><svg fill=\"none\" height=\"16\" viewbox=\"0 0 12 12\" width=\"18\" xmlns=\"http://www.w3.org/2000/svg\"> <path d=\"M9.52246 5.06689L6.08496 8.50439L2.64746 5.06689\" stroke=\"#fff\" stroke-linecap=\"round\" stroke-linejoin=\"round\"></path> </svg>Bootstrap Tutorial</a>\n",
      "<a href=\"https://www.tutorialspoint.com/angularjs/index.htm\" title=\"AngularJS Tutorial\"><svg fill=\"none\" height=\"16\" viewbox=\"0 0 12 12\" width=\"18\" xmlns=\"http://www.w3.org/2000/svg\"> <path d=\"M9.52246 5.06689L6.08496 8.50439L2.64746 5.06689\" stroke=\"#fff\" stroke-linecap=\"round\" stroke-linejoin=\"round\"></path> </svg>AngularJS Tutorial</a>\n",
      "<a href=\"https://www.tutorialspoint.com/nodejs/index.htm\" title=\"Node.js\"><svg fill=\"none\" height=\"16\" viewbox=\"0 0 12 12\" width=\"18\" xmlns=\"http://www.w3.org/2000/svg\"> <path d=\"M9.52246 5.06689L6.08496 8.50439L2.64746 5.06689\" stroke=\"#fff\" stroke-linecap=\"round\" stroke-linejoin=\"round\"></path> </svg>Node.js Tutorial</a>\n",
      "<a href=\"https://www.tutorialspoint.com/typescript/index.htm\" title=\"TypeScript Tutorial\"><svg fill=\"none\" height=\"16\" viewbox=\"0 0 12 12\" width=\"18\" xmlns=\"http://www.w3.org/2000/svg\"> <path d=\"M9.52246 5.06689L6.08496 8.50439L2.64746 5.06689\" stroke=\"#fff\" stroke-linecap=\"round\" stroke-linejoin=\"round\"></path> </svg>TypeScript Tutorial</a>\n",
      "<a href=\"https://www.tutorialspoint.com/sql/index.htm\" title=\"SQL\"><svg fill=\"none\" height=\"16\" viewbox=\"0 0 12 12\" width=\"18\" xmlns=\"http://www.w3.org/2000/svg\"> <path d=\"M9.52246 5.06689L6.08496 8.50439L2.64746 5.06689\" stroke=\"#fff\" stroke-linecap=\"round\" stroke-linejoin=\"round\"></path> </svg>SQL Tutorial</a>\n",
      "<a href=\"https://www.tutorialspoint.com/mysql/index.htm\" title=\"MySQL Tutorial\"><svg fill=\"none\" height=\"16\" viewbox=\"0 0 12 12\" width=\"18\" xmlns=\"http://www.w3.org/2000/svg\"> <path d=\"M9.52246 5.06689L6.08496 8.50439L2.64746 5.06689\" stroke=\"#fff\" stroke-linecap=\"round\" stroke-linejoin=\"round\"></path> </svg>MySQL Tutorial</a>\n",
      "<a href=\"https://www.tutorialspoint.com/dbms/index.htm\" title=\"DBMS\"><svg fill=\"none\" height=\"16\" viewbox=\"0 0 12 12\" width=\"18\" xmlns=\"http://www.w3.org/2000/svg\"> <path d=\"M9.52246 5.06689L6.08496 8.50439L2.64746 5.06689\" stroke=\"#fff\" stroke-linecap=\"round\" stroke-linejoin=\"round\"></path> </svg>DBMS Tutorial</a>\n",
      "<a href=\"https://www.tutorialspoint.com/mongodb/index.htm\" title=\"MongoDB\"><svg fill=\"none\" height=\"16\" viewbox=\"0 0 12 12\" width=\"18\" xmlns=\"http://www.w3.org/2000/svg\"> <path d=\"M9.52246 5.06689L6.08496 8.50439L2.64746 5.06689\" stroke=\"#fff\" stroke-linecap=\"round\" stroke-linejoin=\"round\"></path> </svg>MongoDB Tutorial </a>\n",
      "<a href=\"https://www.tutorialspoint.com/sqlite/index.htm\" title=\"SQLite Tutorial\"><svg fill=\"none\" height=\"16\" viewbox=\"0 0 12 12\" width=\"18\" xmlns=\"http://www.w3.org/2000/svg\"> <path d=\"M9.52246 5.06689L6.08496 8.50439L2.64746 5.06689\" stroke=\"#fff\" stroke-linecap=\"round\" stroke-linejoin=\"round\"></path> </svg>SQLite Tutorial </a>\n",
      "<a href=\"https://www.tutorialspoint.com/plsql/index.htm\" title=\"PL/SQL Tutorial\"><svg fill=\"none\" height=\"16\" viewbox=\"0 0 12 12\" width=\"18\" xmlns=\"http://www.w3.org/2000/svg\"> <path d=\"M9.52246 5.06689L6.08496 8.50439L2.64746 5.06689\" stroke=\"#fff\" stroke-linecap=\"round\" stroke-linejoin=\"round\"></path> </svg>PL/SQL Tutorial </a>\n",
      "<a href=\"https://www.tutorialspoint.com/postgresql/index.htm\" title=\"PostgreSQL Tutorial\"><svg fill=\"none\" height=\"16\" viewbox=\"0 0 12 12\" width=\"18\" xmlns=\"http://www.w3.org/2000/svg\"> <path d=\"M9.52246 5.06689L6.08496 8.50439L2.64746 5.06689\" stroke=\"#fff\" stroke-linecap=\"round\" stroke-linejoin=\"round\"></path> </svg>PostgreSQL Tutorial </a>\n",
      "<a href=\"https://www.tutorialspoint.com/excel/index.htm\" title=\"Excel Tutorial\"><svg fill=\"none\" height=\"16\" viewbox=\"0 0 12 12\" width=\"18\" xmlns=\"http://www.w3.org/2000/svg\"> <path d=\"M9.52246 5.06689L6.08496 8.50439L2.64746 5.06689\" stroke=\"#fff\" stroke-linecap=\"round\" stroke-linejoin=\"round\"></path> </svg>Excel Tutorial </a>\n",
      "<a href=\"https://www.tutorialspoint.com/online_sql_editor.htm\" title=\"Online SQL Editor\"><svg fill=\"none\" height=\"16\" viewbox=\"0 0 12 12\" width=\"18\" xmlns=\"http://www.w3.org/2000/svg\"><path d=\"M9.52246 5.06689L6.08496 8.50439L2.64746 5.06689\" stroke=\"#fff\" stroke-linecap=\"round\" stroke-linejoin=\"round\"></path></svg>Online SQL Editor</a>\n",
      "<a href=\"https://www.tutorialspoint.com/online_html_editor.php\" title=\"Online Html Editor\"><svg fill=\"none\" height=\"16\" viewbox=\"0 0 12 12\" width=\"18\" xmlns=\"http://www.w3.org/2000/svg\"><path d=\"M9.52246 5.06689L6.08496 8.50439L2.64746 5.06689\" stroke=\"#fff\" stroke-linecap=\"round\" stroke-linejoin=\"round\"></path></svg>Online Html Editor</a>\n",
      "<a href=\"https://www.tutorialspoint.com/online_css_editor.php\" title=\"Online Css Editor\"><svg fill=\"none\" height=\"16\" viewbox=\"0 0 12 12\" width=\"18\" xmlns=\"http://www.w3.org/2000/svg\"><path d=\"M9.52246 5.06689L6.08496 8.50439L2.64746 5.06689\" stroke=\"#fff\" stroke-linecap=\"round\" stroke-linejoin=\"round\"></path></svg>Online Css Editor</a>\n",
      "<a href=\"https://www.tutorialspoint.com/online_javascript_editor.php\" title=\"Online Javascript Editor\"><svg fill=\"none\" height=\"16\" viewbox=\"0 0 12 12\" width=\"18\" xmlns=\"http://www.w3.org/2000/svg\"><path d=\"M9.52246 5.06689L6.08496 8.50439L2.64746 5.06689\" stroke=\"#fff\" stroke-linecap=\"round\" stroke-linejoin=\"round\"></path></svg>Online Javascript Editor</a>\n",
      "<a href=\"https://www.tutorialspoint.com/online_latex_editor.php\" title=\"Online Latext Editor\"><svg fill=\"none\" height=\"16\" viewbox=\"0 0 12 12\" width=\"18\" xmlns=\"http://www.w3.org/2000/svg\"><path d=\"M9.52246 5.06689L6.08496 8.50439L2.64746 5.06689\" stroke=\"#fff\" stroke-linecap=\"round\" stroke-linejoin=\"round\"></path></svg>Online Latext Editor</a>\n",
      "<a href=\"https://www.tutorialspoint.com/online_tex_editor.php\" title=\"Online TEX Editor\"><svg fill=\"none\" height=\"16\" viewbox=\"0 0 12 12\" width=\"18\" xmlns=\"http://www.w3.org/2000/svg\"><path d=\"M9.52246 5.06689L6.08496 8.50439L2.64746 5.06689\" stroke=\"#fff\" stroke-linecap=\"round\" stroke-linejoin=\"round\"></path></svg>Online TEX Editor</a>\n",
      "<a href=\"https://www.tutorialspoint.com/online_mathml_editor.php\" title=\"Online Mathml Compiler\"><svg fill=\"none\" height=\"16\" viewbox=\"0 0 12 12\" width=\"18\" xmlns=\"http://www.w3.org/2000/svg\"><path d=\"M9.52246 5.06689L6.08496 8.50439L2.64746 5.06689\" stroke=\"#fff\" stroke-linecap=\"round\" stroke-linejoin=\"round\"></path></svg>Online Mathml Compiler</a>\n",
      "<a href=\"https://www.tutorialspoint.com/online_markdown_editor.php\" title=\"Online Markdown Editor\"><svg fill=\"none\" height=\"16\" viewbox=\"0 0 12 12\" width=\"18\" xmlns=\"http://www.w3.org/2000/svg\"><path d=\"M9.52246 5.06689L6.08496 8.50439L2.64746 5.06689\" stroke=\"#fff\" stroke-linecap=\"round\" stroke-linejoin=\"round\"></path></svg>Online Markdown Editor</a>\n",
      "<a href=\"https://www.tutorialspoint.com/cloud_computing/index.htm\" title=\"Cloud Computing Tutorial\"><svg fill=\"none\" height=\"16\" viewbox=\"0 0 12 12\" width=\"18\" xmlns=\"http://www.w3.org/2000/svg\"> <path d=\"M9.52246 5.06689L6.08496 8.50439L2.64746 5.06689\" stroke=\"#fff\" stroke-linecap=\"round\" stroke-linejoin=\"round\"></path> </svg>Cloud Computing Tutorial</a>\n",
      "<a href=\"https://www.tutorialspoint.com/amazon_web_services/index.htm\" title=\"Amazon Web Services Tutorial\"><svg fill=\"none\" height=\"16\" viewbox=\"0 0 12 12\" width=\"18\" xmlns=\"http://www.w3.org/2000/svg\"> <path d=\"M9.52246 5.06689L6.08496 8.50439L2.64746 5.06689\" stroke=\"#fff\" stroke-linecap=\"round\" stroke-linejoin=\"round\"></path> </svg>Amazon Web Services Tutorial</a>\n",
      "<a href=\"https://www.tutorialspoint.com/microsoft_azure/index.htm\" title=\"Microsoft Azure Tutorial\"><svg fill=\"none\" height=\"16\" viewbox=\"0 0 12 12\" width=\"18\" xmlns=\"http://www.w3.org/2000/svg\"> <path d=\"M9.52246 5.06689L6.08496 8.50439L2.64746 5.06689\" stroke=\"#fff\" stroke-linecap=\"round\" stroke-linejoin=\"round\"></path> </svg>Microsoft Azure Tutorial</a>\n",
      "<a href=\"https://www.tutorialspoint.com/git/index.htm\" title=\"Git Tutorial\"><svg fill=\"none\" height=\"16\" viewbox=\"0 0 12 12\" width=\"18\" xmlns=\"http://www.w3.org/2000/svg\"> <path d=\"M9.52246 5.06689L6.08496 8.50439L2.64746 5.06689\" stroke=\"#fff\" stroke-linecap=\"round\" stroke-linejoin=\"round\"></path> </svg>Git Tutorial</a>\n",
      "<a href=\"https://www.tutorialspoint.com/ethical_hacking/index.htm\" title=\"Ethical Hacking Tutorial\"><svg fill=\"none\" height=\"16\" viewbox=\"0 0 12 12\" width=\"18\" xmlns=\"http://www.w3.org/2000/svg\"> <path d=\"M9.52246 5.06689L6.08496 8.50439L2.64746 5.06689\" stroke=\"#fff\" stroke-linecap=\"round\" stroke-linejoin=\"round\"></path> </svg>Ethical Hacking Tutorial</a>\n",
      "<a href=\"https://www.tutorialspoint.com/docker/index.htm\" title=\"Docker Tutorial\"><svg fill=\"none\" height=\"16\" viewbox=\"0 0 12 12\" width=\"18\" xmlns=\"http://www.w3.org/2000/svg\"> <path d=\"M9.52246 5.06689L6.08496 8.50439L2.64746 5.06689\" stroke=\"#fff\" stroke-linecap=\"round\" stroke-linejoin=\"round\"></path> </svg>Docker Tutorial</a>\n",
      "<a href=\"https://www.tutorialspoint.com/kubernetes/index.htm\" title=\"Docker Tutorial\"><svg fill=\"none\" height=\"16\" viewbox=\"0 0 12 12\" width=\"18\" xmlns=\"http://www.w3.org/2000/svg\"> <path d=\"M9.52246 5.06689L6.08496 8.50439L2.64746 5.06689\" stroke=\"#fff\" stroke-linecap=\"round\" stroke-linejoin=\"round\"></path> </svg>Kubernetes Tutorial</a>\n",
      "<a href=\"https://www.tutorialspoint.com/online_java_compiler.php\" title=\"Online Java Compiler\"><svg fill=\"none\" height=\"16\" viewbox=\"0 0 12 12\" width=\"18\" xmlns=\"http://www.w3.org/2000/svg\"><path d=\"M9.52246 5.06689L6.08496 8.50439L2.64746 5.06689\" stroke=\"#fff\" stroke-linecap=\"round\" stroke-linejoin=\"round\"></path></svg>Online Java Compiler</a>\n",
      "<a href=\"https://www.tutorialspoint.com/compile_c_online.php\" title=\"Online C Compiler\"><svg fill=\"none\" height=\"16\" viewbox=\"0 0 12 12\" width=\"18\" xmlns=\"http://www.w3.org/2000/svg\"><path d=\"M9.52246 5.06689L6.08496 8.50439L2.64746 5.06689\" stroke=\"#fff\" stroke-linecap=\"round\" stroke-linejoin=\"round\"></path></svg>Online C Compiler</a>\n",
      "<a href=\"https://www.tutorialspoint.com/compile_cpp_online.php\" title=\"Online C++ Compiler\"><svg fill=\"none\" height=\"16\" viewbox=\"0 0 12 12\" width=\"18\" xmlns=\"http://www.w3.org/2000/svg\"><path d=\"M9.52246 5.06689L6.08496 8.50439L2.64746 5.06689\" stroke=\"#fff\" stroke-linecap=\"round\" stroke-linejoin=\"round\"></path></svg>Online C++ Compiler</a>\n",
      "<a href=\"https://www.tutorialspoint.com/online_csharp_compiler.php\" title=\"Online C# Compiler\"><svg fill=\"none\" height=\"16\" viewbox=\"0 0 12 12\" width=\"18\" xmlns=\"http://www.w3.org/2000/svg\"><path d=\"M9.52246 5.06689L6.08496 8.50439L2.64746 5.06689\" stroke=\"#fff\" stroke-linecap=\"round\" stroke-linejoin=\"round\"></path></svg>Online C# Compiler</a>\n",
      "<a href=\"https://www.tutorialspoint.com/execute_php_online.php\" title=\"Online Php Compiler\"><svg fill=\"none\" height=\"16\" viewbox=\"0 0 12 12\" width=\"18\" xmlns=\"http://www.w3.org/2000/svg\"><path d=\"M9.52246 5.06689L6.08496 8.50439L2.64746 5.06689\" stroke=\"#fff\" stroke-linecap=\"round\" stroke-linejoin=\"round\"></path></svg>Online Php Compiler</a>\n",
      "<a href=\"https://www.tutorialspoint.com/execute_matlab_online.php\" title=\"Online Matlab Compiler\"><svg fill=\"none\" height=\"16\" viewbox=\"0 0 12 12\" width=\"18\" xmlns=\"http://www.w3.org/2000/svg\"><path d=\"M9.52246 5.06689L6.08496 8.50439L2.64746 5.06689\" stroke=\"#fff\" stroke-linecap=\"round\" stroke-linejoin=\"round\"></path></svg>Online Matlab Compiler</a>\n",
      "<a href=\"https://www.tutorialspoint.com/execute_bash_online.php\" title=\"Online Bash Compiler\"><svg fill=\"none\" height=\"16\" viewbox=\"0 0 12 12\" width=\"18\" xmlns=\"http://www.w3.org/2000/svg\"><path d=\"M9.52246 5.06689L6.08496 8.50439L2.64746 5.06689\" stroke=\"#fff\" stroke-linecap=\"round\" stroke-linejoin=\"round\"></path></svg>Online Bash Compiler</a>\n",
      "<a href=\"https://www.tutorialspoint.com/linux_terminal_online.php\" title=\"Online Unix Terminal\"><svg fill=\"none\" height=\"16\" viewbox=\"0 0 12 12\" width=\"18\" xmlns=\"http://www.w3.org/2000/svg\"><path d=\"M9.52246 5.06689L6.08496 8.50439L2.64746 5.06689\" stroke=\"#fff\" stroke-linecap=\"round\" stroke-linejoin=\"round\"></path></svg>Online Unix Terminal</a>\n",
      "<a href=\"https://www.tutorialspoint.com/python_terminal_online.php\" title=\"Online Python3 Terminal\"><svg fill=\"none\" height=\"16\" viewbox=\"0 0 12 12\" width=\"18\" xmlns=\"http://www.w3.org/2000/svg\"><path d=\"M9.52246 5.06689L6.08496 8.50439L2.64746 5.06689\" stroke=\"#fff\" stroke-linecap=\"round\" stroke-linejoin=\"round\"></path></svg>Online Python3 Terminal</a>\n",
      "<a href=\"https://www.tutorialspoint.com/php_terminal_online.php\" title=\"Online Php Terminal\"><svg fill=\"none\" height=\"16\" viewbox=\"0 0 12 12\" width=\"18\" xmlns=\"http://www.w3.org/2000/svg\"><path d=\"M9.52246 5.06689L6.08496 8.50439L2.64746 5.06689\" stroke=\"#fff\" stroke-linecap=\"round\" stroke-linejoin=\"round\"></path></svg>Online Php Terminal</a>\n",
      "<a href=\"https://www.tutorialspoint.com/nodejs_terminal_online.php\" title=\"Online Nodejs Terminal\"><svg fill=\"none\" height=\"16\" viewbox=\"0 0 12 12\" width=\"18\" xmlns=\"http://www.w3.org/2000/svg\"><path d=\"M9.52246 5.06689L6.08496 8.50439L2.64746 5.06689\" stroke=\"#fff\" stroke-linecap=\"round\" stroke-linejoin=\"round\"></path></svg>Online Nodejs Terminal</a>\n",
      "<a href=\"https://www.tutorialspoint.com/r_terminal_online.php\" title=\"Online R Terminal\"><svg fill=\"none\" height=\"16\" viewbox=\"0 0 12 12\" width=\"18\" xmlns=\"http://www.w3.org/2000/svg\"><path d=\"M9.52246 5.06689L6.08496 8.50439L2.64746 5.06689\" stroke=\"#fff\" stroke-linecap=\"round\" stroke-linejoin=\"round\"></path></svg>Online R Terminal</a>\n",
      "<a href=\"https://www.tutorialspoint.com/numpy_terminal_online.php\" title=\"Online Numpy Terminal\"><svg fill=\"none\" height=\"16\" viewbox=\"0 0 12 12\" width=\"18\" xmlns=\"http://www.w3.org/2000/svg\"><path d=\"M9.52246 5.06689L6.08496 8.50439L2.64746 5.06689\" stroke=\"#fff\" stroke-linecap=\"round\" stroke-linejoin=\"round\"></path></svg>Online Numpy Terminal</a>\n",
      "<a href=\"https://www.tutorialspoint.com/octave_terminal_online.php\" title=\"Online Octave Terminal\"><svg fill=\"none\" height=\"16\" viewbox=\"0 0 12 12\" width=\"18\" xmlns=\"http://www.w3.org/2000/svg\"><path d=\"M9.52246 5.06689L6.08496 8.50439L2.64746 5.06689\" stroke=\"#fff\" stroke-linecap=\"round\" stroke-linejoin=\"round\"></path></svg>Online Octave Terminal</a>\n",
      "<a href=\"https://www.tutorialspoint.com/natural_language_processing/index.htm\" title=\"NLP Tutorial\"><svg fill=\"none\" height=\"16\" viewbox=\"0 0 12 12\" width=\"18\" xmlns=\"http://www.w3.org/2000/svg\"><path d=\"M9.52246 5.06689L6.08496 8.50439L2.64746 5.06689\" stroke=\"#fff\" stroke-linecap=\"round\" stroke-linejoin=\"round\"></path></svg>NLP Tutorial</a>\n",
      "<a href=\"https://www.tutorialspoint.com/numpy/index.htm\" title=\"NumPy Tutorial\"><svg fill=\"none\" height=\"16\" viewbox=\"0 0 12 12\" width=\"18\" xmlns=\"http://www.w3.org/2000/svg\"><path d=\"M9.52246 5.06689L6.08496 8.50439L2.64746 5.06689\" stroke=\"#fff\" stroke-linecap=\"round\" stroke-linejoin=\"round\"></path></svg>NumPy Tutorial</a>\n",
      "<a href=\"https://www.tutorialspoint.com/python_pandas/index.htm\" title=\"Python Pandas Tutorial\"><svg fill=\"none\" height=\"16\" viewbox=\"0 0 12 12\" width=\"18\" xmlns=\"http://www.w3.org/2000/svg\"><path d=\"M9.52246 5.06689L6.08496 8.50439L2.64746 5.06689\" stroke=\"#fff\" stroke-linecap=\"round\" stroke-linejoin=\"round\"></path></svg>Python Pandas Tutorial</a>\n",
      "<a href=\"https://www.tutorialspoint.com/machine_learning/index.htm\" title=\"Machine Learning Tutorial\"><svg fill=\"none\" height=\"16\" viewbox=\"0 0 12 12\" width=\"18\" xmlns=\"http://www.w3.org/2000/svg\"><path d=\"M9.52246 5.06689L6.08496 8.50439L2.64746 5.06689\" stroke=\"#fff\" stroke-linecap=\"round\" stroke-linejoin=\"round\"></path></svg>Machine Learning Tutorial</a>\n",
      "<a href=\"https://www.tutorialspoint.com/big_data_analytics/index.htm\" title=\"Big Data Analytics Tutorial\"><svg fill=\"none\" height=\"16\" viewbox=\"0 0 12 12\" width=\"18\" xmlns=\"http://www.w3.org/2000/svg\"><path d=\"M9.52246 5.06689L6.08496 8.50439L2.64746 5.06689\" stroke=\"#fff\" stroke-linecap=\"round\" stroke-linejoin=\"round\"></path></svg>Big Data Analytics Tutorial</a>\n",
      "<a href=\"https://www.tutorialspoint.com/cryptography/index.htm\" title=\"Cryptography Tutorial\"><svg fill=\"none\" height=\"16\" viewbox=\"0 0 12 12\" width=\"18\" xmlns=\"http://www.w3.org/2000/svg\"> <path d=\"M9.52246 5.06689L6.08496 8.50439L2.64746 5.06689\" stroke=\"#fff\" stroke-linecap=\"round\" stroke-linejoin=\"round\"></path> </svg>Cryptography Tutorial</a>\n",
      "<a href=\"https://www.tutorialspoint.com/power_bi/index.htm\" title=\"Power BI Tutorial\"><svg fill=\"none\" height=\"16\" viewbox=\"0 0 12 12\" width=\"18\" xmlns=\"http://www.w3.org/2000/svg\"> <path d=\"M9.52246 5.06689L6.08496 8.50439L2.64746 5.06689\" stroke=\"#fff\" stroke-linecap=\"round\" stroke-linejoin=\"round\"></path> </svg>Power BI Tutorial</a>\n",
      "<a href=\"https://www.tutorialspoint.com/data_structures_algorithms/index.htm\" title=\"Data Structure Algorithms Tutorial\"><svg fill=\"none\" height=\"16\" viewbox=\"0 0 12 12\" width=\"18\" xmlns=\"http://www.w3.org/2000/svg\"><path d=\"M9.52246 5.06689L6.08496 8.50439L2.64746 5.06689\" stroke=\"#fff\" stroke-linecap=\"round\" stroke-linejoin=\"round\"></path></svg>DSA Tutorial</a>\n",
      "<a href=\"https://www.tutorialspoint.com/spring_boot/index.htm\" title=\"Spring Boot Tutorial\"><svg fill=\"none\" height=\"16\" viewbox=\"0 0 12 12\" width=\"18\" xmlns=\"http://www.w3.org/2000/svg\"><path d=\"M9.52246 5.06689L6.08496 8.50439L2.64746 5.06689\" stroke=\"#fff\" stroke-linecap=\"round\" stroke-linejoin=\"round\"></path></svg>Spring Boot Tutorial</a>\n",
      "<a href=\"https://www.tutorialspoint.com/sdlc/index.htm\" title=\"SDLC Tutorial\"><svg fill=\"none\" height=\"16\" viewbox=\"0 0 12 12\" width=\"18\" xmlns=\"http://www.w3.org/2000/svg\"> <path d=\"M9.52246 5.06689L6.08496 8.50439L2.64746 5.06689\" stroke=\"#fff\" stroke-linecap=\"round\" stroke-linejoin=\"round\"></path> </svg>SDLC Tutorial</a>\n",
      "<a href=\"https://www.tutorialspoint.com/unix/index.htm\" title=\"Unix Tutorial\"><svg fill=\"none\" height=\"16\" viewbox=\"0 0 12 12\" width=\"18\" xmlns=\"http://www.w3.org/2000/svg\"> <path d=\"M9.52246 5.06689L6.08496 8.50439L2.64746 5.06689\" stroke=\"#fff\" stroke-linecap=\"round\" stroke-linejoin=\"round\"></path> </svg>Unix Tutorial</a>\n",
      "<a href=\"https://www.tutorialspoint.com/operating_system/index.htm\" title=\"Operating System Tutorial\"><svg fill=\"none\" height=\"16\" viewbox=\"0 0 12 12\" width=\"18\" xmlns=\"http://www.w3.org/2000/svg\"> <path d=\"M9.52246 5.06689L6.08496 8.50439L2.64746 5.06689\" stroke=\"#fff\" stroke-linecap=\"round\" stroke-linejoin=\"round\"></path> </svg>Operating System Tutorial</a>\n",
      "<a href=\"https://www.tutorialspoint.com/assembly_programming/index.htm\" title=\"Assembly Programming Tutorial\"><svg fill=\"none\" height=\"16\" viewbox=\"0 0 12 12\" width=\"18\" xmlns=\"http://www.w3.org/2000/svg\"> <path d=\"M9.52246 5.06689L6.08496 8.50439L2.64746 5.06689\" stroke=\"#fff\" stroke-linecap=\"round\" stroke-linejoin=\"round\"></path> </svg>Assembly Programming Tutorial</a>\n",
      "<a href=\"https://www.tutorialspoint.com/digital_circuits/index.htm\" title=\"Digital Circuits Tutorial\"><svg fill=\"none\" height=\"16\" viewbox=\"0 0 12 12\" width=\"18\" xmlns=\"http://www.w3.org/2000/svg\"> <path d=\"M9.52246 5.06689L6.08496 8.50439L2.64746 5.06689\" stroke=\"#fff\" stroke-linecap=\"round\" stroke-linejoin=\"round\"></path> </svg>Digital Circuits Tutorial</a>\n",
      "<a href=\"https://www.tutorialspoint.com/microprocessor/index.htm\" title=\"Microprocessor Tutorial\"><svg fill=\"none\" height=\"16\" viewbox=\"0 0 12 12\" width=\"18\" xmlns=\"http://www.w3.org/2000/svg\"><path d=\"M9.52246 5.06689L6.08496 8.50439L2.64746 5.06689\" stroke=\"#fff\" stroke-linecap=\"round\" stroke-linejoin=\"round\"></path></svg>Microprocessor Tutorial</a>\n",
      "<a href=\"https://www.tutorialspoint.com/system_analysis_and_design/index.htm\" title=\"System Analysis and Design Tutorial\"><svg fill=\"none\" height=\"16\" viewbox=\"0 0 12 12\" width=\"18\" xmlns=\"http://www.w3.org/2000/svg\"> <path d=\"M9.52246 5.06689L6.08496 8.50439L2.64746 5.06689\" stroke=\"#fff\" stroke-linecap=\"round\" stroke-linejoin=\"round\"></path> </svg>System Analysis and Design Tutorial</a>\n",
      "<a href=\"https://www.tutorialspoint.com/flutter/index.htm\" title=\"Flutter Tutorial\"><svg fill=\"none\" height=\"16\" viewbox=\"0 0 12 12\" width=\"18\" xmlns=\"http://www.w3.org/2000/svg\"> <path d=\"M9.52246 5.06689L6.08496 8.50439L2.64746 5.06689\" stroke=\"#fff\" stroke-linecap=\"round\" stroke-linejoin=\"round\"></path> </svg>Flutter Tutorial</a>\n",
      "<a href=\"\thttps://www.tutorialspoint.com/certification/business-analytics-certification-2023/index.asp\" title=\"Business Analytics Certification\"><svg fill=\"none\" height=\"16\" viewbox=\"0 0 12 12\" width=\"18\" xmlns=\"http://www.w3.org/2000/svg\"><path d=\"M9.52246 5.06689L6.08496 8.50439L2.64746 5.06689\" stroke=\"#fff\" stroke-linecap=\"round\" stroke-linejoin=\"round\"></path></svg>Business Analytics Certification</a>\n",
      "<a href=\"https://www.tutorialspoint.com/certification/java-spring-boot-advanced-certification/index.asp\" title=\"Java &amp; Spring Boot Advanced Certification\"><svg fill=\"none\" height=\"16\" viewbox=\"0 0 12 12\" width=\"18\" xmlns=\"http://www.w3.org/2000/svg\"> <path d=\"M9.52246 5.06689L6.08496 8.50439L2.64746 5.06689\" stroke=\"#fff\" stroke-linecap=\"round\" stroke-linejoin=\"round\"></path></svg>Java &amp; Spring Boot Advanced Certification</a>\n",
      "<a href=\"https://www.tutorialspoint.com/certification/data-science-advanced-certification/index.asp\" title=\"Data Science Advanced Certification\"><svg fill=\"none\" height=\"16\" viewbox=\"0 0 12 12\" width=\"18\" xmlns=\"http://www.w3.org/2000/svg\"> <path d=\"M9.52246 5.06689L6.08496 8.50439L2.64746 5.06689\" stroke=\"#fff\" stroke-linecap=\"round\" stroke-linejoin=\"round\"></path></svg>Data Science Advanced Certification</a>\n",
      "<a href=\"https://www.tutorialspoint.com/certification/cloud-computing-and-devops-advanced-certification/index.asp\" title=\"Advanced Certification In Cloud Computing And DevOps\"><svg fill=\"none\" height=\"16\" viewbox=\"0 0 12 12\" width=\"18\" xmlns=\"http://www.w3.org/2000/svg\"> <path d=\"M9.52246 5.06689L6.08496 8.50439L2.64746 5.06689\" stroke=\"#fff\" stroke-linecap=\"round\" stroke-linejoin=\"round\"></path></svg>Advanced Certification In Cloud Computing And DevOps</a>\n",
      "<a href=\"https://www.tutorialspoint.com/certification/advanced-certification-in-business-analytics/index.asp\" title=\"Advanced Certification In Business Analytics\"><svg fill=\"none\" height=\"18\" viewbox=\"0 0 12 12\" xmlns=\"http://www.w3.org/2000/svg\"> <path d=\"M9.52246 5.06689L6.08496 8.50439L2.64746 5.06689\" stroke=\"#fff\" stroke-linecap=\"round\" stroke-linejoin=\"round\"></path></svg>Advanced Certification In Business Analytics</a>\n",
      "<a href=\"https://www.tutorialspoint.com/certification/artificial-intelligence-and-machine-learning-certification/index.asp\" title=\"Artificial Intelligence And Machine Learning Certification\"><svg fill=\"none\" height=\"16\" viewbox=\"0 0 12 12\" width=\"18\" xmlns=\"http://www.w3.org/2000/svg\"> <path d=\"M9.52246 5.06689L6.08496 8.50439L2.64746 5.06689\" stroke=\"#fff\" stroke-linecap=\"round\" stroke-linejoin=\"round\"></path></svg>Artificial Intelligence And Machine Learning Certification</a>\n",
      "<a href=\"https://www.tutorialspoint.com/certification/devops-certification/index.asp\" title=\"DevOps Certification\"><svg fill=\"none\" height=\"16\" viewbox=\"0 0 12 12\" width=\"18\" xmlns=\"http://www.w3.org/2000/svg\"> <path d=\"M9.52246 5.06689L6.08496 8.50439L2.64746 5.06689\" stroke=\"#fff\" stroke-linecap=\"round\" stroke-linejoin=\"round\"></path></svg>DevOps Certification</a>\n",
      "<a href=\"https://www.tutorialspoint.com/certification/game-development-prime-pack/index.asp\" title=\"Game Development Certification\"><svg fill=\"none\" height=\"16\" viewbox=\"0 0 12 12\" width=\"18\" xmlns=\"http://www.w3.org/2000/svg\"> <path d=\"M9.52246 5.06689L6.08496 8.50439L2.64746 5.06689\" stroke=\"#fff\" stroke-linecap=\"round\" stroke-linejoin=\"round\"></path></svg>Game Development Certification</a>\n",
      "<a href=\"https://www.tutorialspoint.com/certification/frontend-developer-certification/index.asp\" title=\"Front-End Developer Certification\"><svg fill=\"none\" height=\"16\" viewbox=\"0 0 12 12\" width=\"18\" xmlns=\"http://www.w3.org/2000/svg\"> <path d=\"M9.52246 5.06689L6.08496 8.50439L2.64746 5.06689\" stroke=\"#fff\" stroke-linecap=\"round\" stroke-linejoin=\"round\"></path></svg>Front-End Developer Certification</a>\n",
      "<a href=\"https://www.tutorialspoint.com/certification/aws-prime-pack/index.asp\" title=\"AWS Certification Training\"><svg fill=\"none\" height=\"16\" viewbox=\"0 0 12 12\" width=\"18\" xmlns=\"http://www.w3.org/2000/svg\"> <path d=\"M9.52246 5.06689L6.08496 8.50439L2.64746 5.06689\" stroke=\"#fff\" stroke-linecap=\"round\" stroke-linejoin=\"round\"></path></svg>AWS Certification Training</a>\n",
      "<a href=\"https://www.tutorialspoint.com/certification/complete-python-prime-pack/index.asp\" title=\"Python Programming Certification\"><svg fill=\"none\" height=\"16\" viewbox=\"0 0 12 12\" width=\"18\" xmlns=\"http://www.w3.org/2000/svg\"> <path d=\"M9.52246 5.06689L6.08496 8.50439L2.64746 5.06689\" stroke=\"#fff\" stroke-linecap=\"round\" stroke-linejoin=\"round\"></path></svg>Python Programming Certification</a>\n",
      "<a href=\"https://www.tutorialspoint.com/certification/generative-ai-certification/index.asp\" title=\"Generative AI Certification\"><svg fill=\"none\" height=\"16\" viewbox=\"0 0 12 12\" width=\"18\" xmlns=\"http://www.w3.org/2000/svg\"> <path d=\"M9.52246 5.06689L6.08496 8.50439L2.64746 5.06689\" stroke=\"#fff\" stroke-linecap=\"round\" stroke-linejoin=\"round\"></path></svg>Generative AI Certification</a>\n",
      "<a href=\"https://www.tutorialspoint.com/certification/microsoft-excel-certification-training/index.asp\" title=\"Microsoft Excel Certification Training\"><svg fill=\"none\" height=\"16\" viewbox=\"0 0 12 12\" width=\"18\" xmlns=\"http://www.w3.org/2000/svg\"> <path d=\"M9.52246 5.06689L6.08496 8.50439L2.64746 5.06689\" stroke=\"#fff\" stroke-linecap=\"round\" stroke-linejoin=\"round\"></path></svg>Microsoft Excel Certification Training</a>\n",
      "<a href=\"https://www.tutorialspoint.com/certification/java-prime-pack/index.asp\" title=\"Java Certification\"><svg fill=\"none\" height=\"16\" viewbox=\"0 0 12 12\" width=\"18\" xmlns=\"http://www.w3.org/2000/svg\"><path d=\"M9.52246 5.06689L6.08496 8.50439L2.64746 5.06689\" stroke=\"#fff\" stroke-linecap=\"round\" stroke-linejoin=\"round\"></path></svg>Java Certification</a>\n",
      "<a href=\"https://www.tutorialspoint.com/certification/cyber-security-certification/index.asp\" title=\"Cyber Security Certification\"><svg fill=\"none\" height=\"16\" viewbox=\"0 0 12 12\" width=\"18\" xmlns=\"http://www.w3.org/2000/svg\"> <path d=\"M9.52246 5.06689L6.08496 8.50439L2.64746 5.06689\" stroke=\"#fff\" stroke-linecap=\"round\" stroke-linejoin=\"round\"></path></svg>Cyber Security Certification</a>\n",
      "<a href=\"https://www.tutorialspoint.com/certification/all-in-one-coding-certification/index.asp\" title=\"Coding For Beginners Certification\"><svg fill=\"none\" height=\"16\" viewbox=\"0 0 12 12\" width=\"18\" xmlns=\"http://www.w3.org/2000/svg\"><path d=\"M9.52246 5.06689L6.08496 8.50439L2.64746 5.06689\" stroke=\"#fff\" stroke-linecap=\"round\" stroke-linejoin=\"round\"></path></svg>Coding For Beginners Certification</a>\n",
      "<a href=\"https://www.tutorialspoint.com/certification/java-prime-pack/index.asp\" title=\"JavaScript Certification\"><svg fill=\"none\" height=\"16\" viewbox=\"0 0 12 12\" width=\"18\" xmlns=\"http://www.w3.org/2000/svg\"><path d=\"M9.52246 5.06689L6.08496 8.50439L2.64746 5.06689\" stroke=\"#fff\" stroke-linecap=\"round\" stroke-linejoin=\"round\"></path></svg>JavaScript Certification</a>\n",
      "<a href=\"https://www.tutorialspoint.com/certification/apache-prime-pack/index.asp\" title=\"Apache Spark Certification\"><svg fill=\"none\" height=\"16\" viewbox=\"0 0 12 12\" width=\"18\" xmlns=\"http://www.w3.org/2000/svg\"><path d=\"M9.52246 5.06689L6.08496 8.50439L2.64746 5.06689\" stroke=\"#fff\" stroke-linecap=\"round\" stroke-linejoin=\"round\"></path></svg>Apache Spark Certification</a>\n",
      "<a href=\"https://www.tutorialspoint.com/certification/python-advanced-certification/index.asp\" title=\"Advanced Python Certification\"><svg fill=\"none\" height=\"16\" viewbox=\"0 0 12 12\" width=\"18\" xmlns=\"http://www.w3.org/2000/svg\"><path d=\"M9.52246 5.06689L6.08496 8.50439L2.64746 5.06689\" stroke=\"#fff\" stroke-linecap=\"round\" stroke-linejoin=\"round\"></path></svg>Advanced Python Certification</a>\n",
      "<a href=\"https://www.tutorialspoint.com/certification/backend-developer-certification/index.asp\" title=\"Back-End Developer Certification\"><svg fill=\"none\" height=\"16\" viewbox=\"0 0 12 12\" width=\"18\" xmlns=\"http://www.w3.org/2000/svg\"><path d=\"M9.52246 5.06689L6.08496 8.50439L2.64746 5.06689\" stroke=\"#fff\" stroke-linecap=\"round\" stroke-linejoin=\"round\"></path></svg>Back-End Developer Certification</a>\n",
      "<a href=\"https://www.tutorialspoint.com/certification/frontend-developer-certification/index.asp\" title=\"Front-End Developer Certification\"><svg fill=\"none\" height=\"16\" viewbox=\"0 0 12 12\" width=\"18\" xmlns=\"http://www.w3.org/2000/svg\"><path d=\"M9.52246 5.06689L6.08496 8.50439L2.64746 5.06689\" stroke=\"#fff\" stroke-linecap=\"round\" stroke-linejoin=\"round\"></path></svg>Front-End Developer Certification</a>\n",
      "<a href=\"https://www.tutorialspoint.com/certification/web-developer-advanced-certification/index.asp\" title=\"Web Developer Advanced Certification\"><svg fill=\"none\" height=\"16\" viewbox=\"0 0 12 12\" width=\"18\" xmlns=\"http://www.w3.org/2000/svg\"><path d=\"M9.52246 5.06689L6.08496 8.50439L2.64746 5.06689\" stroke=\"#fff\" stroke-linecap=\"round\" stroke-linejoin=\"round\"></path></svg>Web Developer Advanced Certification</a>\n",
      "<a href=\"\thttps://www.tutorialspoint.com/certification/linux-system-administrator-certification/index.asp\" title=\"Linux System Administrator Certification\"><svg fill=\"none\" height=\"16\" viewbox=\"0 0 12 12\" xmlns=\"http://www.w3.org/2000/svg\"><path d=\"M9.52246 5.06689L6.08496 8.50439L2.64746 5.06689\" stroke=\"#fff\" stroke-linecap=\"round\" stroke-linejoin=\"round\"></path></svg>Linux System Administrator Certification</a>\n",
      "<a href=\"https://www.tutorialspoint.com/certification/automation-testing-certification-training/index.asp\" title=\"Automation Testing Certification Training\"><svg fill=\"none\" height=\"16\" viewbox=\"0 0 12 12\" xmlns=\"http://www.w3.org/2000/svg\"><path d=\"M9.52246 5.06689L6.08496 8.50439L2.64746 5.06689\" stroke=\"#fff\" stroke-linecap=\"round\" stroke-linejoin=\"round\"></path></svg>Automation Testing Certification Training</a>\n"
     ]
    }
   ],
   "execution_count": 2
  },
  {
   "metadata": {
    "ExecuteTime": {
     "end_time": "2024-08-22T11:59:27.012203Z",
     "start_time": "2024-08-22T11:59:27.001514Z"
    }
   },
   "cell_type": "code",
   "source": [
    "for link in soup.find_all('a'):\n",
    "    print(link.get('href'))"
   ],
   "id": "b4f3c7013d363fc4",
   "outputs": [
    {
     "name": "stdout",
     "output_type": "stream",
     "text": [
      "/index.htm\n",
      "/codingground.htm\n",
      "/job_search.php\n",
      "/whiteboard.htm\n",
      "/online_dev_tools.htm\n",
      "/articles/index.php\n",
      "https://www.tutorialspoint.com/articles/write-and-earn.php\n",
      "/market/login.jsp\n",
      "https://www.facebook.com/tutorialspointindia\n",
      "https://www.instagram.com/tutorialspoint_/\n",
      "https://twitter.com/tutorialspoint\n",
      "https://www.youtube.com/channel/UCVLbzhxVTiTLiVKeGV7WEBg\n",
      "https://www.linkedin.com/company/tutorialspoint/\n",
      "https://www.tutorialspoint.com\n",
      "/tutorialslibrary.htm\n",
      "artificial_intelligence/index.htm\n",
      "machine_learning/index.htm\n",
      "machine_learning_with_python/index.htm\n",
      "data_science/index.htm\n",
      "statistics/index.htm\n",
      "natural_language_processing/index.htm\n",
      "artificial_neural_network/index.htm\n",
      "tensorflow/index.htm\n",
      "pytorch/index.htm\n",
      "matplotlib/index.htm\n",
      "numpy/index.htm\n",
      "python_pandas/index.htm\n",
      "scipy/index.htm\n",
      "big_data_analytics/index.htm\n",
      "machine_learning_tutorials.htm\n",
      "python/index.htm\n",
      "java/index.htm\n",
      "cplusplus/index.htm\n",
      "cprogramming/index.htm\n",
      "php/index.htm\n",
      "go/index.htm\n",
      "kotlin/index.htm\n",
      "r/index.htm\n",
      "asp.net/index.htm\n",
      "csharp/index.htm\n",
      "vb.net/index.htm\n",
      "scala/index.htm\n",
      "swift/index.htm\n",
      "perl/index.htm\n",
      "ruby/index.htm\n",
      "rust/index.htm\n",
      "lua/index.htm\n",
      "computer_programming_tutorials.htm\n",
      "html/index.htm\n",
      "css/index.htm\n",
      "javascript/index.htm\n",
      "jquery/index.htm\n",
      "reactjs/index.htm\n",
      "nodejs/index.htm\n",
      "wordpress/index.htm\n",
      "angularjs/index.htm\n",
      "php/index.htm\n",
      "django/index.htm\n",
      "/json/index.htm\n",
      "/codeigniter/index.htm\n",
      "/typescript/index.htm\n",
      "/ajax/index.htm\n",
      "/bootstrap/index.htm\n",
      "/sass/index.htm\n",
      "/appml/index.htm\n",
      "/web_development_tutorials.htm\n",
      "/git/index.htm\n",
      "/amazon_web_services/index.htm\n",
      "/docker/index.htm\n",
      "/kubernetes/index.htm\n",
      "/microsoft_azure/index.htm\n",
      "/gitlab/index.htm\n",
      "/jira/index.htm\n",
      "/gerrit/index.htm\n",
      "/ansible/index.htm\n",
      "/bugzilla/index.htm\n",
      "/chef/index.htm\n",
      "/saltstack/index.htm\n",
      "/openshift/index.htm\n",
      "/puppet/index.htm\n",
      "/unix/index.htm\n",
      "/linux_admin/index.htm\n",
      "/ubuntu/index.htm\n",
      "/devops_tutorials.htm\n",
      "dbms/index.htm\n",
      "sql/index.htm\n",
      "plsql/index.htm\n",
      "mysql/index.htm\n",
      "tinydb/index.htm\n",
      "ms_sql_server/index.htm\n",
      "mongodb/index.htm\n",
      "postgresql/index.htm\n",
      "sqlite/index.htm\n",
      "redis/index.htm\n",
      "phpmyadmin/index.htm\n",
      "mariadb/index.htm\n",
      "couchdb/index.htm\n",
      "db2/index.htm\n",
      "database_tutorials.htm\n",
      "computer_fundamentals/index.htm\n",
      "operating_system/index.htm\n",
      "dbms/index.htm\n",
      "data_structures_algorithms/index.htm\n",
      "data_communication_computer_network/index.htm\n",
      "software_engineering/index.htm\n",
      "computer_graphics/index.htm\n",
      "data_mining/index.htm\n",
      "digital_marketing/index.htm\n",
      "seo/index.htm\n",
      "digital_circuits/index.htm\n",
      "discrete_mathematics/index.htm\n",
      "cryptography/index.htm\n",
      "cloud_computing/index.htm\n",
      "compiler_design/index.htm\n",
      "embedded_systems/index.htm\n",
      "microprocessor/index.htm\n",
      "computer_science_tutorials.htm\n",
      "python/index.htm\n",
      "numpy/index.htm\n",
      "python_pandas/index.htm\n",
      "matplotlib/index.htm\n",
      "django/index.htm\n",
      "pyqt/index.htm\n",
      "pycharm/index.htm\n",
      "python_pillow/index.htm\n",
      "opencv/index.htm\n",
      "seaborn/index.htm\n",
      "machine_learning_with_python/index.htm\n",
      "scipy/index.htm\n",
      "python_technologies_tutorials.htm\n",
      "software_testing/index.htm\n",
      "jira/index.htm\n",
      "selenium/index.htm\n",
      "testrail/index.htm\n",
      "postman/index.htm\n",
      "cucumber/index.htm\n",
      "cypress/index.htm\n",
      "watir/index.htm\n",
      "agile/index.htm\n",
      "jmeter/index.htm\n",
      "/blockchain/index.htm\n",
      "/information_security_cyber_law/index.htm\n",
      "computer_security/index.htm\n",
      "internet_security/index.htm\n",
      "network_security/index.htm\n",
      "wireless_security/index.htm\n",
      "/tutorialslibrary.htm\n",
      "https://www.tutorialspoint.com/market/index.asp\n",
      "https://www.tutorialspoint.com/latest/certifications\n",
      "/market/login.jsp\n",
      "/cart\n",
      "/sql/index.htm\n",
      "/html/index.htm\n",
      "/css/index.htm\n",
      "/javascript/index.htm\n",
      "/python/index.htm\n",
      "/java/index.htm\n",
      "/cprogramming/index.htm\n",
      "/cplusplus/index.htm\n",
      "/php/index.htm\n",
      "/scala/index.htm\n",
      "/csharp/index.htm\n",
      "/nodejs/index.htm\n",
      "/mysql/index.htm\n",
      "/mongodb/index.htm\n",
      "/plsql/index.htm\n",
      "/swift/index.htm\n",
      "/bootstrap/index.htm\n",
      "/r/index.htm\n",
      "/machine_learning/index.htm\n",
      "/blockchain/index.htm\n",
      "/angular4/index.htm\n",
      "/react_native/index.htm\n",
      "/computer_fundamentals/index.htm\n",
      "/compiler_design/index.htm\n",
      "/operating_system/index.htm\n",
      "/data_structures_algorithms/index.htm\n",
      "/data_communication_computer_network/index.htm\n",
      "/dbms/index.htm\n",
      "/excel/index.htm\n",
      "https://www.tutorialspoint.com/market/index.asp\n",
      "https://www.tutorialspoint.com/latest/certifications\n",
      "https://www.tutorialspoint.com/tutorialslibrary.htm\n",
      "/tutorialslibrary.htm\n",
      "html/index.htm\n",
      "javascript/index.htm\n",
      "python/index.htm\n",
      "java/index.htm\n",
      "sql/index.htm\n",
      "linux_admin/index.htm\n",
      "cplusplus/index.htm\n",
      "data_structures_algorithms/index.htm\n",
      "machine_learning/index.htm\n",
      "computer_fundamentals/index.htm\n",
      "dbms/index.htm\n",
      "basics_of_computer_science/basics_of_computer_science_operating_system.htm\n",
      "computer_fundamentals/computer_networking.htm\n",
      "php/index.htm\n",
      "css/index.htm\n",
      "cprogramming/index.htm\n",
      "python/index.htm\n",
      "r/index.htm\n",
      "power_bi/index.htm\n",
      "powershell/index.htm\n",
      "python_pandas/index.htm\n",
      "numpy/index.htm\n",
      "artificial_intelligence/index.htm\n",
      "artificial_intelligence_with_python/index.htm\n",
      "machine_learning/index.htm\n",
      "scikit_learn/index.htm\n",
      "tensorflow/index.htm\n",
      "natural_language_processing/index.htm\n",
      "html/index.htm\n",
      "css/index.htm\n",
      "bootstrap/index.htm\n",
      "es6/index.htm\n",
      "reactjs/index.htm\n",
      "nodejs/index.htm\n",
      "java/index.htm\n",
      "plsql/index.htm\n",
      "jdbc/index.htm\n",
      "spring_boot/index.htm\n",
      "jsp/index.htm\n",
      "git/index.htm\n",
      "chatgpt/index.htm\n",
      "prompt_engineering/index.htm\n",
      "python/index.htm\n",
      "java/index.htm\n",
      "data_structures_algorithms/index.htm\n",
      "cplusplus/index.htm\n",
      "https://www.tutorialspoint.com/online_java_compiler.php\n",
      "https://www.tutorialspoint.com/online_java_compiler.php\n",
      "online_python_compiler.php\n",
      "compile_cpp_online.php\n",
      "online_html_editor.php\n",
      "../latest_technologies.htm\n",
      "/bitcoin/index.htm\n",
      "/blockchain/index.htm\n",
      "/blue_prism/index.htm\n",
      "/ethereum/index.htm\n",
      "/python_blockchain/index.htm\n",
      "../computer_science_tutorials.htm\n",
      "/computer_fundamentals/index.htm\n",
      "/compiler_design/index.htm\n",
      "/operating_system/index.htm\n",
      "/data_structures_algorithms/index.htm\n",
      "/dbms/index.htm\n",
      "../machine_learning_tutorials.htm\n",
      "/machine_learning/index.htm\n",
      "/tensorflow/index.htm\n",
      "/machine_learning_with_python/index.htm\n",
      "/artificial_intelligence_with_python/index.htm\n",
      "/time_series/index.htm\n",
      "../web_development_tutorials.htm\n",
      "/html/index.htm\n",
      "/css/index.htm\n",
      "/javascript/index.htm\n",
      "/php/index.htm\n",
      "/angular4/index.htm\n",
      "../computer_programming_tutorials.htm\n",
      "/html/index.htm\n",
      "/cplusplus/index.htm\n",
      "/java8/index.htm\n",
      "/python/index.htm\n",
      "/scala/index.htm\n",
      "../java_technology_tutorials.htm\n",
      "/java8/index.htm\n",
      "/jdbc/index.htm\n",
      "/swing/index.htm\n",
      "/servlets/index.htm\n",
      "/spring/index.htm\n",
      "../mobile_development_tutorials.htm\n",
      "/android/index.htm\n",
      "/swift/index.htm\n",
      "/ios/index.htm\n",
      "/kotlin/index.htm\n",
      "/xamarin/index.htm\n",
      "../database_tutorials.htm\n",
      "/mongodb/index.htm\n",
      "/plsql/index.htm\n",
      "/sql/index.htm\n",
      "/db2/index.htm\n",
      "/mysql/index.htm\n",
      "../microsoft_technologies_tutorials.htm\n",
      "/asp.net/index.htm\n",
      "/entity_framework/index.htm\n",
      "/vb.net/index.htm\n",
      "/ms_project/index.htm\n",
      "/excel/index.htm\n",
      "../big_data_tutorials.htm\n",
      "/big_data_analytics/index.htm\n",
      "/hadoop/index.htm\n",
      "/sas/index.htm\n",
      "/qlikview/index.htm\n",
      "/power_bi/index.htm\n",
      "/online_dev_tools.htm\n",
      "/qr_code_generator.htm\n",
      "/online_java_formatter.htm\n",
      "/online_image_optimizer.htm\n",
      "/whiteboard.htm\n",
      "/online_image_editor.htm\n",
      "/online_javascript_minifier.htm\n",
      "/online_document_viewer.php\n",
      "/online_python_formatter.htm\n",
      "https://www.tutorialspoint.com/market/business/subscription.jsp\n",
      "https://www.tutorialspoint.com/latest/certifications\n",
      "/about/index.htm\n",
      "/about/about_team.htm\n",
      "/about/about_careers.htm\n",
      "/about/about_careers.htm\n",
      "/about/contact_us.htm\n",
      "/about/about_terms_of_use.htm\n",
      "/about/about_privacy.htm\n",
      "/about/return_refund_policy.htm\n",
      "/about/about_cookies.htm\n",
      "/about/faq.htm\n",
      "https://www.facebook.com/tutorialspointindia\n",
      "https://www.instagram.com/tutorialspoint_/\n",
      "https://twitter.com/tutorialspoint\n",
      "https://www.youtube.com/channel/UCVLbzhxVTiTLiVKeGV7WEBg\n",
      "https://www.linkedin.com/company/tutorialspoint/\n",
      "https://play.google.com/store/apps/details?id=com.tutorialspoint.onlineviewer\n",
      "https://itunes.apple.com/us/app/tutorials-point/id914891263?ls=1&mt=8\n",
      "https://www.tutorialspoint.com/tutorialslibrary.htm\n",
      "https://www.tutorialspoint.com/articles/index.php\n",
      "https://www.tutorialspoint.com/job_search.php\n",
      "https://www.tutorialspoint.com/latest/courses\n",
      "https://www.tutorialspoint.com/latest/certifications\n",
      "https://www.tutorialspoint.com/market/business/subscription.jsp\n",
      "https://www.tutorialspoint.com/python/index.htm\n",
      "https://www.tutorialspoint.com/java/index.htm\n",
      "https://www.tutorialspoint.com/cplusplus/index.htm\n",
      "https://www.tutorialspoint.com/cprogramming/index.htm\n",
      "https://www.tutorialspoint.com/csharp/index.htm\n",
      "https://www.tutorialspoint.com/php/index.htm\n",
      "https://www.tutorialspoint.com/r/index.htm\n",
      "https://www.tutorialspoint.com/go/index.htm\n",
      "https://www.tutorialspoint.com/html/index.htm\n",
      "https://www.tutorialspoint.com/css/index.htm\n",
      "https://www.tutorialspoint.com/javascript/index.htm\n",
      "https://www.tutorialspoint.com/reactjs/index.htm\n",
      "https://www.tutorialspoint.com/bootstrap/index.htm\n",
      "https://www.tutorialspoint.com/angularjs/index.htm\n",
      "https://www.tutorialspoint.com/nodejs/index.htm\n",
      "https://www.tutorialspoint.com/typescript/index.htm\n",
      "https://www.tutorialspoint.com/sql/index.htm\n",
      "https://www.tutorialspoint.com/mysql/index.htm\n",
      "https://www.tutorialspoint.com/dbms/index.htm\n",
      "https://www.tutorialspoint.com/mongodb/index.htm\n",
      "https://www.tutorialspoint.com/sqlite/index.htm\n",
      "https://www.tutorialspoint.com/plsql/index.htm\n",
      "https://www.tutorialspoint.com/postgresql/index.htm\n",
      "https://www.tutorialspoint.com/excel/index.htm\n",
      "https://www.tutorialspoint.com/online_sql_editor.htm\n",
      "https://www.tutorialspoint.com/online_html_editor.php\n",
      "https://www.tutorialspoint.com/online_css_editor.php\n",
      "https://www.tutorialspoint.com/online_javascript_editor.php\n",
      "https://www.tutorialspoint.com/online_latex_editor.php\n",
      "https://www.tutorialspoint.com/online_tex_editor.php\n",
      "https://www.tutorialspoint.com/online_mathml_editor.php\n",
      "https://www.tutorialspoint.com/online_markdown_editor.php\n",
      "https://www.tutorialspoint.com/cloud_computing/index.htm\n",
      "https://www.tutorialspoint.com/amazon_web_services/index.htm\n",
      "https://www.tutorialspoint.com/microsoft_azure/index.htm\n",
      "https://www.tutorialspoint.com/git/index.htm\n",
      "https://www.tutorialspoint.com/ethical_hacking/index.htm\n",
      "https://www.tutorialspoint.com/docker/index.htm\n",
      "https://www.tutorialspoint.com/kubernetes/index.htm\n",
      "https://www.tutorialspoint.com/online_java_compiler.php\n",
      "https://www.tutorialspoint.com/compile_c_online.php\n",
      "https://www.tutorialspoint.com/compile_cpp_online.php\n",
      "https://www.tutorialspoint.com/online_csharp_compiler.php\n",
      "https://www.tutorialspoint.com/execute_php_online.php\n",
      "https://www.tutorialspoint.com/execute_matlab_online.php\n",
      "https://www.tutorialspoint.com/execute_bash_online.php\n",
      "https://www.tutorialspoint.com/linux_terminal_online.php\n",
      "https://www.tutorialspoint.com/python_terminal_online.php\n",
      "https://www.tutorialspoint.com/php_terminal_online.php\n",
      "https://www.tutorialspoint.com/nodejs_terminal_online.php\n",
      "https://www.tutorialspoint.com/r_terminal_online.php\n",
      "https://www.tutorialspoint.com/numpy_terminal_online.php\n",
      "https://www.tutorialspoint.com/octave_terminal_online.php\n",
      "https://www.tutorialspoint.com/natural_language_processing/index.htm\n",
      "https://www.tutorialspoint.com/numpy/index.htm\n",
      "https://www.tutorialspoint.com/python_pandas/index.htm\n",
      "https://www.tutorialspoint.com/machine_learning/index.htm\n",
      "https://www.tutorialspoint.com/big_data_analytics/index.htm\n",
      "https://www.tutorialspoint.com/cryptography/index.htm\n",
      "https://www.tutorialspoint.com/power_bi/index.htm\n",
      "https://www.tutorialspoint.com/data_structures_algorithms/index.htm\n",
      "https://www.tutorialspoint.com/spring_boot/index.htm\n",
      "https://www.tutorialspoint.com/sdlc/index.htm\n",
      "https://www.tutorialspoint.com/unix/index.htm\n",
      "https://www.tutorialspoint.com/operating_system/index.htm\n",
      "https://www.tutorialspoint.com/assembly_programming/index.htm\n",
      "https://www.tutorialspoint.com/digital_circuits/index.htm\n",
      "https://www.tutorialspoint.com/microprocessor/index.htm\n",
      "https://www.tutorialspoint.com/system_analysis_and_design/index.htm\n",
      "https://www.tutorialspoint.com/flutter/index.htm\n",
      "\thttps://www.tutorialspoint.com/certification/business-analytics-certification-2023/index.asp\n",
      "https://www.tutorialspoint.com/certification/java-spring-boot-advanced-certification/index.asp\n",
      "https://www.tutorialspoint.com/certification/data-science-advanced-certification/index.asp\n",
      "https://www.tutorialspoint.com/certification/cloud-computing-and-devops-advanced-certification/index.asp\n",
      "https://www.tutorialspoint.com/certification/advanced-certification-in-business-analytics/index.asp\n",
      "https://www.tutorialspoint.com/certification/artificial-intelligence-and-machine-learning-certification/index.asp\n",
      "https://www.tutorialspoint.com/certification/devops-certification/index.asp\n",
      "https://www.tutorialspoint.com/certification/game-development-prime-pack/index.asp\n",
      "https://www.tutorialspoint.com/certification/frontend-developer-certification/index.asp\n",
      "https://www.tutorialspoint.com/certification/aws-prime-pack/index.asp\n",
      "https://www.tutorialspoint.com/certification/complete-python-prime-pack/index.asp\n",
      "https://www.tutorialspoint.com/certification/generative-ai-certification/index.asp\n",
      "https://www.tutorialspoint.com/certification/microsoft-excel-certification-training/index.asp\n",
      "https://www.tutorialspoint.com/certification/java-prime-pack/index.asp\n",
      "https://www.tutorialspoint.com/certification/cyber-security-certification/index.asp\n",
      "https://www.tutorialspoint.com/certification/all-in-one-coding-certification/index.asp\n",
      "https://www.tutorialspoint.com/certification/java-prime-pack/index.asp\n",
      "https://www.tutorialspoint.com/certification/apache-prime-pack/index.asp\n",
      "https://www.tutorialspoint.com/certification/python-advanced-certification/index.asp\n",
      "https://www.tutorialspoint.com/certification/backend-developer-certification/index.asp\n",
      "https://www.tutorialspoint.com/certification/frontend-developer-certification/index.asp\n",
      "https://www.tutorialspoint.com/certification/web-developer-advanced-certification/index.asp\n",
      "\thttps://www.tutorialspoint.com/certification/linux-system-administrator-certification/index.asp\n",
      "https://www.tutorialspoint.com/certification/automation-testing-certification-training/index.asp\n"
     ]
    }
   ],
   "execution_count": 3
  },
  {
   "metadata": {
    "ExecuteTime": {
     "end_time": "2024-08-22T11:59:27.031986Z",
     "start_time": "2024-08-22T11:59:27.014207Z"
    }
   },
   "cell_type": "code",
   "source": [
    "# web page stored locally\n",
    "\n",
    "# from bs4 import BeautifulSoup\n",
    "# \n",
    "# with open(\"index.html\") as fp:\n",
    "#     soup = BeautifulSoup(fp, 'html.parser')\n",
    "# \n",
    "# print(soup)"
   ],
   "id": "2bb4ada0c48cd6ac",
   "outputs": [],
   "execution_count": 4
  },
  {
   "metadata": {},
   "cell_type": "markdown",
   "source": "## Beautiful Soup - Kinds of objects",
   "id": "4eb07c5519545afc"
  },
  {
   "metadata": {},
   "cell_type": "markdown",
   "source": "#### Name (tag.name)",
   "id": "1c709052b1e8b52b"
  },
  {
   "metadata": {
    "ExecuteTime": {
     "end_time": "2024-08-22T11:59:27.057915Z",
     "start_time": "2024-08-22T11:59:27.034994Z"
    }
   },
   "cell_type": "code",
   "source": [
    "from bs4 import BeautifulSoup\n",
    "\n",
    "soup = BeautifulSoup('<b class=\"boldest\">TutorialsPoint</b>', 'lxml')\n",
    "tag = soup.html\n",
    "print (type(tag))"
   ],
   "id": "55e348262ccb0465",
   "outputs": [
    {
     "name": "stdout",
     "output_type": "stream",
     "text": [
      "<class 'bs4.element.Tag'>\n"
     ]
    }
   ],
   "execution_count": 5
  },
  {
   "metadata": {
    "ExecuteTime": {
     "end_time": "2024-08-22T11:59:27.077829Z",
     "start_time": "2024-08-22T11:59:27.058925Z"
    }
   },
   "cell_type": "code",
   "source": "tag.name",
   "id": "8e1241870a981d80",
   "outputs": [
    {
     "data": {
      "text/plain": [
       "'html'"
      ]
     },
     "execution_count": 6,
     "metadata": {},
     "output_type": "execute_result"
    }
   ],
   "execution_count": 6
  },
  {
   "metadata": {
    "ExecuteTime": {
     "end_time": "2024-08-22T11:59:27.099361Z",
     "start_time": "2024-08-22T11:59:27.078851Z"
    }
   },
   "cell_type": "code",
   "source": [
    "# change the tag name\n",
    "tag.name = 'strong'\n",
    "tag"
   ],
   "id": "5b8955112e15afa8",
   "outputs": [
    {
     "data": {
      "text/plain": [
       "<strong><body><b class=\"boldest\">TutorialsPoint</b></body></strong>"
      ]
     },
     "execution_count": 7,
     "metadata": {},
     "output_type": "execute_result"
    }
   ],
   "execution_count": 7
  },
  {
   "metadata": {},
   "cell_type": "markdown",
   "source": "#### Attributes (tag.attrs)",
   "id": "98cf14481dc1ae85"
  },
  {
   "metadata": {
    "ExecuteTime": {
     "end_time": "2024-08-22T11:59:27.119762Z",
     "start_time": "2024-08-22T11:59:27.100374Z"
    }
   },
   "cell_type": "code",
   "source": [
    "from bs4 import BeautifulSoup\n",
    "\n",
    "soup = BeautifulSoup('<input type=\"text\" name=\"name\" value=\"Raju\">', 'lxml')\n",
    "tag = soup.input\n",
    "\n",
    "print (tag.attrs)"
   ],
   "id": "ddc0022103b4783b",
   "outputs": [
    {
     "name": "stdout",
     "output_type": "stream",
     "text": [
      "{'type': 'text', 'name': 'name', 'value': 'Raju'}\n"
     ]
    }
   ],
   "execution_count": 8
  },
  {
   "metadata": {
    "ExecuteTime": {
     "end_time": "2024-08-22T11:59:27.138936Z",
     "start_time": "2024-08-22T11:59:27.121778Z"
    }
   },
   "cell_type": "code",
   "source": [
    "# modify attrs\n",
    "tag['value']='ken'\n",
    "\n",
    "print(soup)"
   ],
   "id": "b8aad7de68de6cb",
   "outputs": [
    {
     "name": "stdout",
     "output_type": "stream",
     "text": [
      "<html><body><input name=\"name\" type=\"text\" value=\"ken\"/></body></html>\n"
     ]
    }
   ],
   "execution_count": 9
  },
  {
   "metadata": {
    "ExecuteTime": {
     "end_time": "2024-08-22T11:59:27.158570Z",
     "start_time": "2024-08-22T11:59:27.143936Z"
    }
   },
   "cell_type": "code",
   "source": [
    "from bs4 import BeautifulSoup\n",
    "\n",
    "css_soup = BeautifulSoup('<p class=\"body\"></p>', 'lxml')\n",
    "print (\"css_soup.p['class']:\", css_soup.p['class'])\n",
    "\n",
    "css_soup = BeautifulSoup('<p class=\"body bold\"></p>', 'lxml')\n",
    "print (\"css_soup.p['class']:\", css_soup.p['class'])"
   ],
   "id": "35c2fe50a4781c6e",
   "outputs": [
    {
     "name": "stdout",
     "output_type": "stream",
     "text": [
      "css_soup.p['class']: ['body']\n",
      "css_soup.p['class']: ['body', 'bold']\n"
     ]
    }
   ],
   "execution_count": 10
  },
  {
   "metadata": {},
   "cell_type": "markdown",
   "source": "#### NavigableString object",
   "id": "9c7dbd470f183541"
  },
  {
   "metadata": {
    "ExecuteTime": {
     "end_time": "2024-08-22T11:59:27.177957Z",
     "start_time": "2024-08-22T11:59:27.159576Z"
    }
   },
   "cell_type": "code",
   "source": [
    "from bs4 import BeautifulSoup\n",
    "soup = BeautifulSoup(\"<h2 id='message'>Hello, Tutorialspoint!</h2>\", 'html.parser')\n",
    "\n",
    "print (soup.string)\n",
    "\n",
    "print (type(soup.string))"
   ],
   "id": "eb02bdbf94d926bb",
   "outputs": [
    {
     "name": "stdout",
     "output_type": "stream",
     "text": [
      "Hello, Tutorialspoint!\n",
      "<class 'bs4.element.NavigableString'>\n"
     ]
    }
   ],
   "execution_count": 11
  },
  {
   "metadata": {
    "ExecuteTime": {
     "end_time": "2024-08-22T11:59:27.198260Z",
     "start_time": "2024-08-22T11:59:27.178971Z"
    }
   },
   "cell_type": "code",
   "source": [
    "soup = BeautifulSoup(\"<h2 id='message'>Hello, Tutorialspoint!</h2>\",'html.parser')\n",
    "\n",
    "tag = soup.h2\n",
    "print(tag.string)\n",
    "print(tag['id'])\n",
    "print(tag.attrs)"
   ],
   "id": "aa577e65daffb539",
   "outputs": [
    {
     "name": "stdout",
     "output_type": "stream",
     "text": [
      "Hello, Tutorialspoint!\n",
      "message\n",
      "{'id': 'message'}\n"
     ]
    }
   ],
   "execution_count": 12
  },
  {
   "metadata": {
    "ExecuteTime": {
     "end_time": "2024-08-22T11:59:27.218319Z",
     "start_time": "2024-08-22T11:59:27.199271Z"
    }
   },
   "cell_type": "code",
   "source": [
    "tag.string.replace_with(\"OnLine Tutorials Library\")\n",
    "print (tag.string)"
   ],
   "id": "9b8fa5736a38a922",
   "outputs": [
    {
     "name": "stdout",
     "output_type": "stream",
     "text": [
      "OnLine Tutorials Library\n"
     ]
    }
   ],
   "execution_count": 13
  },
  {
   "metadata": {},
   "cell_type": "markdown",
   "source": "#### Comment object",
   "id": "abfd39db01c4f4f4"
  },
  {
   "metadata": {
    "ExecuteTime": {
     "end_time": "2024-08-22T11:59:27.239714Z",
     "start_time": "2024-08-22T11:59:27.220327Z"
    }
   },
   "cell_type": "code",
   "source": [
    "markup = \"<b><!--This is a comment text in HTML--></b>\"\n",
    "soup = BeautifulSoup(markup, 'html.parser')\n",
    "comment = soup.b.string\n",
    "print (comment, type(comment))"
   ],
   "id": "5154cb53e1f23be",
   "outputs": [
    {
     "name": "stdout",
     "output_type": "stream",
     "text": [
      "This is a comment text in HTML <class 'bs4.element.Comment'>\n"
     ]
    }
   ],
   "execution_count": 14
  },
  {
   "metadata": {},
   "cell_type": "markdown",
   "source": "## Navigating by Tags",
   "id": "353865d12bd9ebef"
  },
  {
   "metadata": {},
   "cell_type": "markdown",
   "source": "#### soup.head",
   "id": "3d7d96dd0aa04dd9"
  },
  {
   "metadata": {
    "ExecuteTime": {
     "end_time": "2024-08-22T11:59:27.262666Z",
     "start_time": "2024-08-22T11:59:27.241719Z"
    }
   },
   "cell_type": "code",
   "source": [
    "with open('../data/index.html') as fp:\n",
    "    soup = BeautifulSoup(fp,'html.parser')\n",
    "    \n",
    "soup.head"
   ],
   "id": "8508d3b4e4c86166",
   "outputs": [
    {
     "data": {
      "text/plain": [
       "<head>\n",
       "<title>TutorialsPoint</title>\n",
       "<script>\n",
       "         document.write(\"Welcome to TutorialsPoint\");\n",
       "      </script>\n",
       "</head>"
      ]
     },
     "execution_count": 15,
     "metadata": {},
     "output_type": "execute_result"
    }
   ],
   "execution_count": 15
  },
  {
   "metadata": {},
   "cell_type": "markdown",
   "source": "#### soup.body",
   "id": "6dff52a2a3b189e5"
  },
  {
   "metadata": {
    "ExecuteTime": {
     "end_time": "2024-08-22T11:59:27.281019Z",
     "start_time": "2024-08-22T11:59:27.264673Z"
    }
   },
   "cell_type": "code",
   "source": "soup.body",
   "id": "707ab9cda777f4c8",
   "outputs": [
    {
     "data": {
      "text/plain": [
       "<body>\n",
       "<h1>Tutorialspoint Online Library</h1>\n",
       "<p><b>It's all Free</b></p>\n",
       "</body>"
      ]
     },
     "execution_count": 16,
     "metadata": {},
     "output_type": "execute_result"
    }
   ],
   "execution_count": 16
  },
  {
   "metadata": {
    "ExecuteTime": {
     "end_time": "2024-08-22T11:59:27.299755Z",
     "start_time": "2024-08-22T11:59:27.282035Z"
    }
   },
   "cell_type": "code",
   "source": [
    "print(soup.body.h1)\n",
    "print(soup.body.h1.string)"
   ],
   "id": "3cb2751d13005bdb",
   "outputs": [
    {
     "name": "stdout",
     "output_type": "stream",
     "text": [
      "<h1>Tutorialspoint Online Library</h1>\n",
      "Tutorialspoint Online Library\n"
     ]
    }
   ],
   "execution_count": 17
  },
  {
   "metadata": {},
   "cell_type": "markdown",
   "source": "#### soup.p",
   "id": "fef90f0332575c1a"
  },
  {
   "metadata": {
    "ExecuteTime": {
     "end_time": "2024-08-22T11:59:27.320173Z",
     "start_time": "2024-08-22T11:59:27.300765Z"
    }
   },
   "cell_type": "code",
   "source": [
    "print(soup.p)\n",
    "print(soup.p.string)"
   ],
   "id": "5915773705135e98",
   "outputs": [
    {
     "name": "stdout",
     "output_type": "stream",
     "text": [
      "<p><b>It's all Free</b></p>\n",
      "It's all Free\n"
     ]
    }
   ],
   "execution_count": 18
  },
  {
   "metadata": {},
   "cell_type": "markdown",
   "source": "#### Tag.contents",
   "id": "9353edeecb8108c1"
  },
  {
   "metadata": {
    "ExecuteTime": {
     "end_time": "2024-08-22T11:59:27.340474Z",
     "start_time": "2024-08-22T11:59:27.322171Z"
    }
   },
   "cell_type": "code",
   "source": "soup.head.contents",
   "id": "e40d3a38867472d4",
   "outputs": [
    {
     "data": {
      "text/plain": [
       "['\\n',\n",
       " <title>TutorialsPoint</title>,\n",
       " '\\n',\n",
       " <script>\n",
       "          document.write(\"Welcome to TutorialsPoint\");\n",
       "       </script>,\n",
       " '\\n']"
      ]
     },
     "execution_count": 19,
     "metadata": {},
     "output_type": "execute_result"
    }
   ],
   "execution_count": 19
  },
  {
   "metadata": {},
   "cell_type": "markdown",
   "source": "#### tag.children",
   "id": "de3f4c1f7ed68d59"
  },
  {
   "metadata": {
    "ExecuteTime": {
     "end_time": "2024-08-22T11:59:27.362779Z",
     "start_time": "2024-08-22T11:59:27.341483Z"
    }
   },
   "cell_type": "code",
   "source": [
    "with open(\"../data/index2.html\") as fp:\n",
    "   soup = BeautifulSoup(fp, 'html.parser')\n",
    "\n",
    "tag = soup.ul\n",
    "list(tag.children)"
   ],
   "id": "9d069b7250ca16cf",
   "outputs": [
    {
     "data": {
      "text/plain": [
       "['\\n',\n",
       " <li>Accounts</li>,\n",
       " '\\n',\n",
       " <ul>\n",
       " <li>Anand</li>\n",
       " <li>Mahesh</li>\n",
       " </ul>,\n",
       " '\\n',\n",
       " <li>HR</li>,\n",
       " '\\n',\n",
       " <ul>\n",
       " <li>Rani</li>\n",
       " <li>Ankita</li>\n",
       " </ul>,\n",
       " '\\n']"
      ]
     },
     "execution_count": 20,
     "metadata": {},
     "output_type": "execute_result"
    }
   ],
   "execution_count": 20
  },
  {
   "metadata": {
    "ExecuteTime": {
     "end_time": "2024-08-22T11:59:27.378812Z",
     "start_time": "2024-08-22T11:59:27.364782Z"
    }
   },
   "cell_type": "code",
   "source": [
    "# iterate teh children\n",
    "for child in tag.children:\n",
    "    print(child)"
   ],
   "id": "589f44310803589a",
   "outputs": [
    {
     "name": "stdout",
     "output_type": "stream",
     "text": [
      "\n",
      "\n",
      "<li>Accounts</li>\n",
      "\n",
      "\n",
      "<ul>\n",
      "<li>Anand</li>\n",
      "<li>Mahesh</li>\n",
      "</ul>\n",
      "\n",
      "\n",
      "<li>HR</li>\n",
      "\n",
      "\n",
      "<ul>\n",
      "<li>Rani</li>\n",
      "<li>Ankita</li>\n",
      "</ul>\n",
      "\n",
      "\n"
     ]
    }
   ],
   "execution_count": 21
  },
  {
   "metadata": {},
   "cell_type": "markdown",
   "source": "#### Tag.find_all()",
   "id": "d0028e9d90f679cc"
  },
  {
   "metadata": {
    "ExecuteTime": {
     "end_time": "2024-08-22T11:59:27.401532Z",
     "start_time": "2024-08-22T11:59:27.379820Z"
    }
   },
   "cell_type": "code",
   "source": [
    "results = soup.find_all('a')\n",
    "results"
   ],
   "id": "ff6993fb37643a87",
   "outputs": [
    {
     "data": {
      "text/plain": [
       "[<a class=\"prog\" href=\"https://www.tutorialspoint.com/java/java_overview.htm\" id=\"link1\">Java</a>,\n",
       " <a class=\"prog\" href=\"https://www.tutorialspoint.com/cprogramming/index.htm\" id=\"link2\">C</a>,\n",
       " <a class=\"prog\" href=\"https://www.tutorialspoint.com/python/index.htm\" id=\"link3\">Python</a>,\n",
       " <a class=\"prog\" href=\"https://www.tutorialspoint.com/javascript/javascript_overview.htm\" id=\"link4\">JavaScript</a>,\n",
       " <a class=\"prog\" href=\"https://www.tutorialspoint.com/ruby/index.htm\" id=\"link5\">C</a>]"
      ]
     },
     "execution_count": 22,
     "metadata": {},
     "output_type": "execute_result"
    }
   ],
   "execution_count": 22
  },
  {
   "metadata": {},
   "cell_type": "markdown",
   "source": "## Find Elements by ID",
   "id": "4d9ae1bddcf05023"
  },
  {
   "metadata": {
    "ExecuteTime": {
     "end_time": "2024-08-22T11:59:27.423054Z",
     "start_time": "2024-08-22T11:59:27.402549Z"
    }
   },
   "cell_type": "code",
   "source": "soup.find(id='nm').attrs",
   "id": "290fa9c2cb483d25",
   "outputs": [
    {
     "data": {
      "text/plain": [
       "{'type': 'text', 'id': 'nm', 'name': 'name'}"
      ]
     },
     "execution_count": 23,
     "metadata": {},
     "output_type": "execute_result"
    }
   ],
   "execution_count": 23
  },
  {
   "metadata": {
    "ExecuteTime": {
     "end_time": "2024-08-22T11:59:27.443148Z",
     "start_time": "2024-08-22T11:59:27.425077Z"
    }
   },
   "cell_type": "code",
   "source": "soup.find_all(id='nm')",
   "id": "63ae370840289e01",
   "outputs": [
    {
     "data": {
      "text/plain": [
       "[<input id=\"nm\" name=\"name\" type=\"text\"/>]"
      ]
     },
     "execution_count": 24,
     "metadata": {},
     "output_type": "execute_result"
    }
   ],
   "execution_count": 24
  },
  {
   "metadata": {},
   "cell_type": "markdown",
   "source": "#### select() method",
   "id": "93f03a8c7b0f8268"
  },
  {
   "metadata": {
    "ExecuteTime": {
     "end_time": "2024-08-22T11:59:27.476541Z",
     "start_time": "2024-08-22T11:59:27.444166Z"
    }
   },
   "cell_type": "code",
   "source": [
    "obj = soup.select(\"#nm\")\n",
    "print (obj)"
   ],
   "id": "b97007018efa8cdb",
   "outputs": [
    {
     "name": "stdout",
     "output_type": "stream",
     "text": [
      "[<input id=\"nm\" name=\"name\" type=\"text\"/>]\n"
     ]
    }
   ],
   "execution_count": 25
  },
  {
   "metadata": {
    "ExecuteTime": {
     "end_time": "2024-08-22T11:59:27.496686Z",
     "start_time": "2024-08-22T11:59:27.477546Z"
    }
   },
   "cell_type": "code",
   "source": [
    "obj = soup.select_one(\"#nm\")\n",
    "print (obj)"
   ],
   "id": "67bcf493bf20d4c7",
   "outputs": [
    {
     "name": "stdout",
     "output_type": "stream",
     "text": [
      "<input id=\"nm\" name=\"name\" type=\"text\"/>\n"
     ]
    }
   ],
   "execution_count": 26
  },
  {
   "metadata": {},
   "cell_type": "markdown",
   "source": "## Find Elements by Class",
   "id": "30029e3d5219a20f"
  },
  {
   "metadata": {
    "ExecuteTime": {
     "end_time": "2024-08-22T11:59:27.516742Z",
     "start_time": "2024-08-22T11:59:27.498733Z"
    }
   },
   "cell_type": "code",
   "source": "soup.find_all(attrs={'class':'mainmenu'})",
   "id": "6c882f607f2adc4f",
   "outputs": [
    {
     "data": {
      "text/plain": [
       "[<li class=\"mainmenu\">Accounts</li>, <li class=\"mainmenu\">HR</li>]"
      ]
     },
     "execution_count": 27,
     "metadata": {},
     "output_type": "execute_result"
    }
   ],
   "execution_count": 27
  },
  {
   "metadata": {
    "ExecuteTime": {
     "end_time": "2024-08-22T11:59:27.537073Z",
     "start_time": "2024-08-22T11:59:27.522725Z"
    }
   },
   "cell_type": "code",
   "source": "soup.find_all(attrs={'class':['mainmenu','submenu']})",
   "id": "488a2bdef928ab2f",
   "outputs": [
    {
     "data": {
      "text/plain": [
       "[<li class=\"mainmenu\">Accounts</li>,\n",
       " <li class=\"submenu\">Anand</li>,\n",
       " <li class=\"submenu\">Mahesh</li>,\n",
       " <li class=\"mainmenu\">HR</li>,\n",
       " <li class=\"submenu\">Rani</li>,\n",
       " <li class=\"submenu\">Ankita</li>]"
      ]
     },
     "execution_count": 28,
     "metadata": {},
     "output_type": "execute_result"
    }
   ],
   "execution_count": 28
  },
  {
   "metadata": {
    "ExecuteTime": {
     "end_time": "2024-08-22T11:59:27.559129Z",
     "start_time": "2024-08-22T11:59:27.540078Z"
    }
   },
   "cell_type": "code",
   "source": "soup.select('.heading')",
   "id": "871c3e48bb3b5498",
   "outputs": [
    {
     "data": {
      "text/plain": [
       "[<h2 class=\"heading\">Departmentwise Employees</h2>]"
      ]
     },
     "execution_count": 29,
     "metadata": {},
     "output_type": "execute_result"
    }
   ],
   "execution_count": 29
  },
  {
   "metadata": {
    "ExecuteTime": {
     "end_time": "2024-08-22T11:59:27.579492Z",
     "start_time": "2024-08-22T11:59:27.561141Z"
    }
   },
   "cell_type": "code",
   "source": "soup.select_one('.submenu')",
   "id": "7209a74a51ea9d46",
   "outputs": [
    {
     "data": {
      "text/plain": [
       "<li class=\"submenu\">Anand</li>"
      ]
     },
     "execution_count": 30,
     "metadata": {},
     "output_type": "execute_result"
    }
   ],
   "execution_count": 30
  },
  {
   "metadata": {},
   "cell_type": "markdown",
   "source": "## Searching the Tree",
   "id": "2376c07c8f57d5eb"
  },
  {
   "metadata": {
    "ExecuteTime": {
     "end_time": "2024-08-22T12:00:31.450359Z",
     "start_time": "2024-08-22T12:00:31.446368Z"
    }
   },
   "cell_type": "code",
   "source": [
    "html = \"\"\"\n",
    "<html><head><title>TutorialsPoint</title></head>\n",
    "   <body>\n",
    "      <p class=\"title\"><b>Online Tutorials Library</b></p>\n",
    "\n",
    "      <p class=\"story\">TutorialsPoint has an excellent collection of tutorials on:\n",
    "      <a href=\"https://tutorialspoint.com/Python\" class=\"lang\" id=\"link1\">Python</a>,\n",
    "      <a href=\"https://tutorialspoint.com/Java\" class=\"lang\" id=\"link2\">Java</a> and\n",
    "      <a href=\"https://tutorialspoint.com/PHP\" class=\"lang\" id=\"link3\">PHP</a>;\n",
    "      Enhance your Programming skills.</p>\n",
    "\n",
    "      <p class=\"tutorial\">...</p>\n",
    "\"\"\""
   ],
   "id": "cbea6349b0f5adb7",
   "outputs": [],
   "execution_count": 31
  },
  {
   "metadata": {
    "ExecuteTime": {
     "end_time": "2024-08-22T12:11:52.942909Z",
     "start_time": "2024-08-22T12:11:52.936983Z"
    }
   },
   "cell_type": "code",
   "source": [
    "soup = BeautifulSoup(html,'html.parser')\n",
    "print(soup.head.prettify())"
   ],
   "id": "2ed94045acdd43ec",
   "outputs": [
    {
     "name": "stdout",
     "output_type": "stream",
     "text": [
      "<head>\n",
      " <title>\n",
      "  TutorialsPoint\n",
      " </title>\n",
      "</head>\n",
      "\n"
     ]
    }
   ],
   "execution_count": 33
  }
 ],
 "metadata": {
  "kernelspec": {
   "display_name": "Python 3",
   "language": "python",
   "name": "python3"
  },
  "language_info": {
   "codemirror_mode": {
    "name": "ipython",
    "version": 2
   },
   "file_extension": ".py",
   "mimetype": "text/x-python",
   "name": "python",
   "nbconvert_exporter": "python",
   "pygments_lexer": "ipython2",
   "version": "2.7.6"
  }
 },
 "nbformat": 4,
 "nbformat_minor": 5
}
