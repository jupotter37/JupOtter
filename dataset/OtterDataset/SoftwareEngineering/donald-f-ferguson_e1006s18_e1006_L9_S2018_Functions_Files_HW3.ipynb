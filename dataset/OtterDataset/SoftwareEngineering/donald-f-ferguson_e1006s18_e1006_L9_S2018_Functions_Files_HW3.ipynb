{
 "cells": [
  {
   "cell_type": "code",
   "execution_count": 1,
   "metadata": {},
   "outputs": [
    {
     "data": {
      "text/html": [
       "<style>\n",
       ".example1 {\n",
       " height: 50px;\t\n",
       " overflow: hidden;\n",
       " position: relative;\n",
       "}\n",
       ".example1 h3 {\n",
       " font-size: 3em;\n",
       " color: red;\n",
       " position: absolute;\n",
       " width: 100%;\n",
       " height: 100%;\n",
       " margin: 0;\n",
       " line-height: 50px;\n",
       " text-align: center;\n",
       " /* Starting position */\n",
       " -moz-transform:translateX(100%);\n",
       " -webkit-transform:translateX(100%);\t\n",
       " transform:translateX(100%);\n",
       " /* Apply animation to this element */\t\n",
       " -moz-animation: example1 15s linear infinite;\n",
       " -webkit-animation: example1 15s linear infinite;\n",
       " animation: example1 15s linear infinite;\n",
       "}\n",
       "/* Move it (define the animation) */\n",
       "@-moz-keyframes example1 {\n",
       " 0%   { -moz-transform: translateX(100%); }\n",
       " 100% { -moz-transform: translateX(-100%); }\n",
       "}\n",
       "@-webkit-keyframes example1 {\n",
       " 0%   { -webkit-transform: translateX(100%); }\n",
       " 100% { -webkit-transform: translateX(-100%); }\n",
       "}\n",
       "@keyframes example1 {\n",
       " 0%   { \n",
       " -moz-transform: translateX(100%); /* Firefox bug fix */\n",
       " -webkit-transform: translateX(100%); /* Firefox bug fix */\n",
       " transform: translateX(100%); \t\t\n",
       " }\n",
       " 100% { \n",
       " -moz-transform: translateX(-100%); /* Firefox bug fix */\n",
       " -webkit-transform: translateX(-100%); /* Firefox bug fix */\n",
       " transform: translateX(-100%); \n",
       " }\n",
       "}\n",
       "</style>"
      ],
      "text/plain": [
       "<IPython.core.display.HTML object>"
      ]
     },
     "metadata": {},
     "output_type": "display_data"
    }
   ],
   "source": [
    "%%html\n",
    "<style>\n",
    ".example1 {\n",
    " height: 50px;\t\n",
    " overflow: hidden;\n",
    " position: relative;\n",
    "}\n",
    ".example1 h3 {\n",
    " font-size: 3em;\n",
    " color: red;\n",
    " position: absolute;\n",
    " width: 100%;\n",
    " height: 100%;\n",
    " margin: 0;\n",
    " line-height: 50px;\n",
    " text-align: center;\n",
    " /* Starting position */\n",
    " -moz-transform:translateX(100%);\n",
    " -webkit-transform:translateX(100%);\t\n",
    " transform:translateX(100%);\n",
    " /* Apply animation to this element */\t\n",
    " -moz-animation: example1 15s linear infinite;\n",
    " -webkit-animation: example1 15s linear infinite;\n",
    " animation: example1 15s linear infinite;\n",
    "}\n",
    "/* Move it (define the animation) */\n",
    "@-moz-keyframes example1 {\n",
    " 0%   { -moz-transform: translateX(100%); }\n",
    " 100% { -moz-transform: translateX(-100%); }\n",
    "}\n",
    "@-webkit-keyframes example1 {\n",
    " 0%   { -webkit-transform: translateX(100%); }\n",
    " 100% { -webkit-transform: translateX(-100%); }\n",
    "}\n",
    "@keyframes example1 {\n",
    " 0%   { \n",
    " -moz-transform: translateX(100%); /* Firefox bug fix */\n",
    " -webkit-transform: translateX(100%); /* Firefox bug fix */\n",
    " transform: translateX(100%); \t\t\n",
    " }\n",
    " 100% { \n",
    " -moz-transform: translateX(-100%); /* Firefox bug fix */\n",
    " -webkit-transform: translateX(-100%); /* Firefox bug fix */\n",
    " transform: translateX(-100%); \n",
    " }\n",
    "}\n",
    "</style>\n"
   ]
  },
  {
   "cell_type": "markdown",
   "metadata": {
    "slideshow": {
     "slide_type": "slide"
    }
   },
   "source": [
    "\n",
    "<h1 style=\"display:none;\">\n",
    "<h1 style=\"display:none;\">\n",
    "<h1 style=\"display:none;\">\n",
    "<h1 style=\"display:none;\">\n",
    "<h1 style=\"display:none;\">\n",
    "<h1 style=\"display:none;\">\n",
    "<h1 style=\"display:none;\">\n",
    "<h1 style=\"display:none;\">\n",
    "\n",
    "# Introduction to Computing for Engineers and Computer Scientists<BR><BR>Chapters 5, 6: Functions, Files, HW3"
   ]
  },
  {
   "cell_type": "markdown",
   "metadata": {},
   "source": [
    "## Questions, Discussion\n",
    "\n",
    "### From Class\n",
    "\n",
    "### Piazza"
   ]
  },
  {
   "cell_type": "markdown",
   "metadata": {},
   "source": [
    "### Observation on HW2\n",
    "\n",
    "#### Parameters versus Global Values\n",
    "\n"
   ]
  },
  {
   "cell_type": "markdown",
   "metadata": {},
   "source": [
    "## Functions\n",
    "\n",
    "__The Practice of Computing Using Python (3rd Edition) 3rd Edition__\n",
    "by William F. Punch (Author), Richard Enbody (Author), ISBN-13: 978-0134379760, &copy; 2017. Chapter 5."
   ]
  },
  {
   "cell_type": "markdown",
   "metadata": {},
   "source": [
    "### Overview\n",
    "\n",
    "- From Mathematics we know that functions perform some operation and return one value.\n",
    "    - This value may consist of sub-values, dimensions, etc. For example there may many functions of the form,<br><br>\n",
    "\\begin{equation}\n",
    "F:\\mathbb{R^n}\\rightarrow \\mathbb{R^m}\n",
    "\\end{equation}\n",
    "<br>\n",
    "    - The _range_ of the function may be multi-dimensional/composite, but a function maps to _exactly one_ element for any given input.\n",
    "\n",
    "\n",
    "- Python functions \"encapsulate\" the performance of some particular operation, so it can be used by others (for example, the sqrt() function).\n",
    "\n",
    "\n",
    "- Why use functions?\n",
    "    - Support divide-and-conquer strategy for complex functions.\n",
    "    - Decomposition strategy for solving complex problems with many simpler, reusable functions and algorithms.\n",
    "    - Abstraction of an operation. Hides complexity from caller.\n",
    "    - Reuse. Once written, use again.\n",
    "    - Sharing. If tested, others can use.\n",
    "    - Security. Well tested, then secure for reuse.\n",
    "    - Simplify code. More readable.\n",
    "    \n",
    "    \n",
    "    \n",
    "- Comments on initial reviews of HW2\n",
    "    - I defined HW2 as a set of tasks. Many of the tasks map to one or more general purpose, reusable functions.\n",
    "    - Some/many of you implemented your solution as one relatively large, monolithic sequence of statements. Others implemented functions that perform multiple, independent tasks.\n",
    "    - We will not take off points in HW2. The solution we publish will demonstrate use of functions and decomposition. I have gone over the concept in class.\n",
    "    - HW3 will require better design with reusable functions and decomposition.\n",
    "    - Some terms:\n",
    "        - A [_divide and conquer algorithm_](https://en.wikipedia.org/wiki/Divide_and_conquer_algorithm) works by recursively breaking down a problem into two or more sub-problems of the same or related type, until these become simple enough to be solved directly. The solutions to the sub-problems are then combined to give a solution to the original problem.\n",
    "        - [_Decomposition_](https://en.wikipedia.org/wiki/Decomposition_(computer_science)) in computer science, also known as factoring, is breaking a complex problem or system into parts that are easier to conceive, understand, program, and maintain.\n",
    "        - In software engineering, a [_monolithic application_](https://en.wikipedia.org/wiki/Monolithic_application) describes a software application which is designed without modularity. Modularity is desirable, in general, as it supports reuse of parts of the application logic and also facilitates maintenance by allowing repair or replacement of parts of the application without requiring wholesale replacement.\n",
    "    - E1006 is about __computing,__ not just Python programming.\n",
    "        - The course is a requirement $\\Rightarrow$ some students know Python and programming and are \"phoning it in.\" \n",
    "        - Many students in my advanced classes write some of the crappiest code I have ever seen.\n",
    "        - Some students that can program python skip lectures because they have programmed in Python. This course is about computing and introduction of software engineering.\n",
    "        - This is important. Interviewers and internships take software engineering seriously.\n",
    "        - Poor software engineering and design may negatively affect exam scores.\n",
    "    \n",
    "    \n",
    "| <img src=\"../images/karma_bus_2.jpg\" width=\"150%\">\n",
    "| :---: |\n",
    "| __Karma Bus__ |"
   ]
  },
  {
   "cell_type": "markdown",
   "metadata": {},
   "source": [
    "### Example\n",
    "\n",
    "- Converting from Celsius to Fahrenheit, metric to US customary units, etc. is a common, recurring program requirement.\n",
    "\n",
    "\n",
    "- Consider a function which converts temperatures in Celsius to temperatures in Fahrenheit.\n",
    "\n",
    "\\begin{equation}\n",
    "f(c) = c * 1.8 + 32.0\n",
    "\\end{equation}\n",
    "\n",
    "\n",
    "- You could repeatedly embed the snippet of code in many programs in many places."
   ]
  },
  {
   "cell_type": "code",
   "execution_count": null,
   "metadata": {},
   "outputs": [],
   "source": [
    "#\n",
    "#\n",
    "# Imagine a lot of statements\n",
    "f = c * 1.8 + 32.0\n",
    "#\n",
    "# in a ln a lot of programs\n",
    "#"
   ]
  },
  {
   "cell_type": "markdown",
   "metadata": {},
   "source": [
    "- Embedding the formula creates problems\n",
    "    - Some programmer, sometime, somewhere will make a careless mistake, e.g. type 1.6 or replace $*$ with $+.$ It's just a matter of time.\n",
    "    - We decide to evolve the large bode of code to use Celsius instead of Fahrenheit and need to find all the places we embedded code snippets like the one above.\n",
    "    - Finding and changing is tedious and error prone. The snippets may look vastly different."
   ]
  },
  {
   "cell_type": "code",
   "execution_count": null,
   "metadata": {},
   "outputs": [],
   "source": [
    "#\n",
    "f = c * 1.8 + 32.0\n",
    "#\n",
    "#\n",
    "temp_f = temp_c * (212-32)/100 + 32\n",
    "#\n",
    "#"
   ]
  },
  {
   "cell_type": "markdown",
   "metadata": {},
   "source": [
    "- A much better approach is a reusable function."
   ]
  },
  {
   "cell_type": "code",
   "execution_count": 107,
   "metadata": {},
   "outputs": [],
   "source": [
    "# Copyright 2017, 2013, 2011 Pearson Education, Inc., W.F. Punch & R.J.Enbody\n",
    "# Temperature conversion\n",
    "\n",
    "def celsius_to_fahrenheit(celsius_float):\n",
    "    \"\"\" Convert Celsius to Fahrenheit.\"\"\"\n",
    "    return celsius_float * 1.8 + 32\n"
   ]
  },
  {
   "cell_type": "code",
   "execution_count": 109,
   "metadata": {},
   "outputs": [
    {
     "name": "stdout",
     "output_type": "stream",
     "text": [
      "The Fahrenheit water freezing temperatur is  32.0\n"
     ]
    }
   ],
   "source": [
    "freezing_c = 0\n",
    "freezing_f = celsius_to_fahrenheit(freezing_c)\n",
    "print(\"The Fahrenheit water freezing temperature is \", freezing_f)"
   ]
  },
  {
   "cell_type": "markdown",
   "metadata": {},
   "source": [
    "- Some comments in the example\n",
    "    - The calling code and the function are often (usually) in different Python programs/files.\n",
    "    - Naming\n",
    "        - You know my opinion of names like \"celsius_float.\"\n",
    "        - \"celsius_to_fahrenheit,\" and \"freezing_f\" are good names.\n",
    "        \n",
    "        \n",
    "- Terminology: In the example\n",
    "    - \"freezing_c\" is an __argument.__\n",
    "    - \"celsius_float\" is a __parameter.__\n",
    "    \n",
    "    \n",
    "- A parameter is a variable\n",
    "    - Visible only within the function. No other code can access the parameter.\n",
    "    - Set to the value of the argument for the specific, individual function call."
   ]
  },
  {
   "cell_type": "markdown",
   "metadata": {},
   "source": [
    "- This is a simple example. Understanding the importance of the [modular programming](https://en.wikipedia.org/wiki/Modular_programming) and decomposition approach is difficult to understand from small examples, but ...\n",
    "    - Becomes more obvious in larger programs that multiple teams develop.\n",
    "    - Easier to value when you have learned from experience.\n",
    "\n",
    "\n",
    "__I may not be able to tell you the correct way to do things. But, I know a lot of mistakes to avoid.__\n",
    "\n",
    "| <img src=\"../images/me_mistakes.jpeg\"> |\n",
    "| :---: |\n",
    "| [_Mistakes_](https://despair.com/products/mistakes) |"
   ]
  },
  {
   "cell_type": "markdown",
   "metadata": {},
   "source": [
    "### Python Function Definition\n",
    "\n",
    "- Is a _compound statement._ \"[Compound statements](https://docs.python.org/3/reference/compound_stmts.html) contain (groups of) other statements; they affect or control the execution of those other statements in some way.\"\n",
    "\n",
    "\n",
    "- We have seen other compound statements:\n",
    "    - for ...\n",
    "    - while ...\n",
    "    - if ...\n",
    "    \n",
    "| <img src=\"../images/python_function.jpeg\">\n",
    "| :---: |\n",
    "| __Function Definition__ |"
   ]
  },
  {
   "cell_type": "markdown",
   "metadata": {},
   "source": [
    "- Comments\n",
    "    - The return statement indicates the value that is returned by the function. The statement is optional (the function can return nothing). If no return, function is often called a _procedure._\n",
    "    - The code in the function suite usually calls other functions.\n",
    "    \n",
    "    \n",
    "- The function again "
   ]
  },
  {
   "cell_type": "code",
   "execution_count": null,
   "metadata": {},
   "outputs": [],
   "source": [
    "# Copyright 2017, 2013, 2011 Pearson Education, Inc., W.F. Punch & R.J.Enbody\n",
    "# Conversion program\n",
    "\n",
    "def celsius_to_fahrenheit(celsius_float):\n",
    "    \"\"\" Convert Celsius to Fahrenheit.\"\"\"\n",
    "    return celsius_float * 1.8 + 32"
   ]
  },
  {
   "cell_type": "markdown",
   "metadata": {},
   "source": [
    "- A triple quoted string just after the def is called a [docstring.](https://www.python.org/dev/peps/pep-0257/)\n",
    "    - docstring is documentation of the function's purpose, to be used by other tools to tell the user what the function's purposes and uses.\n",
    "    - Will cover later. "
   ]
  },
  {
   "cell_type": "markdown",
   "metadata": {},
   "source": [
    "### Python Function Execution\n",
    "\n",
    "| <img src=\"../images/python_function_call.jpeg\"> |\n",
    "| :---: |\n",
    "| __Function Call__ |\n",
    "\n",
    "| <img src=\"../images/python_function_return.jpeg\"> |\n",
    "| :---: |\n",
    "| __Function Return__ |\n",
    "\n",
    "| <img src=\"../images/python_function_execution.jpeg\"> |\n",
    "| :---: |\n",
    "| __Function Statement Execution__ |\n",
    "\n"
   ]
  },
  {
   "cell_type": "markdown",
   "metadata": {},
   "source": [
    "### Software Design Principle\n",
    "\n",
    "- A function's operation should be completely defined by\n",
    "    - The parameters.\n",
    "    - Statements it executes, including calls to other functions.\n",
    "    - Well-defined constants, e.g. 1.8.\n",
    "    \n",
    "    \n",
    "- A function __should not access__ external, variable data.\n",
    "\n",
    "\n",
    "- The follow code, which some of you wrote is a software __anti-pattern.__ \n"
   ]
  },
  {
   "cell_type": "code",
   "execution_count": 117,
   "metadata": {},
   "outputs": [
    {
     "name": "stdout",
     "output_type": "stream",
     "text": [
      "Mu =  1285.5166666666667\n",
      "Sigma =  420.96248961952256\n"
     ]
    }
   ],
   "source": [
    "import math\n",
    "\n",
    "test = [727.7, 1086.5, 1091.0, 1361.3, 1490.5, 1956.1]\n",
    "\n",
    "def compute_mu(data):\n",
    "    total = 0\n",
    "    count = len(data)\n",
    "    for i in range(0,count):\n",
    "        total += data[i]\n",
    "        \n",
    "    result = total/count\n",
    "    \n",
    "    return result\n",
    "\n",
    "mu = compute_mu(test)\n",
    "print(\"Mu = \", mu)\n",
    "\n",
    "# The function needs/uses mu, but mu is not a parameter.\n",
    "# Big mistake.\n",
    "def compute_sigma(data):\n",
    "    total = 0\n",
    "    for n in data:\n",
    "        total += (mu - n)**2\n",
    "        \n",
    "    result = math.sqrt(total/(len(data)-1))\n",
    "    return result\n",
    "\n",
    "\n",
    "sigma = compute_sigma(test)\n",
    "print(\"Sigma = \", sigma)"
   ]
  },
  {
   "cell_type": "markdown",
   "metadata": {},
   "source": [
    "- compute\\_sigma relies on an external variable. This is an anti-pattern. \n",
    "    - Mu could get changed between call to average and standard deviation.\n",
    "    - Programmer could forget to change mu.\n",
    "    - Programmer may call compute_sigma from another Python program and not know how to set mu.\n",
    "    - etc."
   ]
  },
  {
   "cell_type": "markdown",
   "metadata": {},
   "source": [
    "__Anti-patterns: Don't be \"that guy.\"__\n",
    "\n",
    "\"An [anti-pattern](https://en.wikipedia.org/wiki/Anti-pattern) is a common response (solution) to a recurring problem that is usually ineffective and risks being highly counterproductive\"\n",
    "\n",
    "| <img src=\"../images/that_guy.jpeg\"> |\n",
    "| :--: |\n",
    "| __Don't be \"that guy.\"__ |"
   ]
  },
  {
   "cell_type": "markdown",
   "metadata": {},
   "source": [
    "### Some Function Design Principles\n",
    "\n",
    "- A well-design function:\n",
    "    - Does one thing. If it does too many things, it should be broken down into multiple functions refactored/decomposed.\n",
    "    - Is readable.  How often should we say this? If you write it, it should be readable. (You know. Like an essay. Or lyric poem)\n",
    "    - Is reusable. If it does one thing well, then when a similar situation (in another program) occurs, use it there as well.\n",
    "    - Is complete. A function should check for all the cases where it might be invoked. Check for potential errors.\n",
    "    - Is not too long. Kind of synonymous with do one thing. Use it as a measure of doing too much.\n",
    "\n",
    "\n",
    "- In the above example,\n",
    "    - compute\\_mu and compute\\_sigma are independent of the application.\n",
    "    - And would be compute\\_mean and compute\\_standard\\_deviation in a library.\n",
    "    - And in fact are. I had you write these functions to understand Python functions, loops, math, etc.\n"
   ]
  },
  {
   "cell_type": "markdown",
   "metadata": {},
   "source": [
    "### Function and Returns\n",
    "\n",
    "- Procedures\n",
    "    - Functions that have no return statements are often called procedures.\n",
    "    - Procedures are used to perform some duty (print output, store a file, etc.)\n",
    "    - Remember, return is not required.\n",
    "    \n",
    "    \n",
    "- A function can have multiple return statements.\n",
    "    - Remember, the first return statement executed ends the function.\n",
    "    - Multiple returns can be confusing to the reader and should be used judiciously.\n"
   ]
  },
  {
   "cell_type": "markdown",
   "metadata": {},
   "source": [
    "## Rules So Far ...\n",
    "\n",
    "1. Think before you program!\n",
    "<br><br>\n",
    "1. A program is a human-readable essay (or lyric poem for those so inclinded) on problem solving that also happens to execute on a computer.\n",
    "<br><br>\n",
    "1. The best way to imporve your programming and problem solving skills is to practice!\n",
    "<br><br>\n",
    "1. A foolish consistency is the hobgoblin of little minds\n",
    "<br><br>\n",
    "1. Test your code, often and thoroughly (aka \"The Thank You Captain Obvious Rule\")\n",
    "<br><br>\n",
    "1. If it was hard to write, it is probably hard to read. Add a comment. \n",
    "<br><br>\n",
    "1. All input is evil, unless proven otherwise. (Will get back to this one)\n",
    "<br><br>\n",
    "1. A function should do one thing.\n"
   ]
  },
  {
   "cell_type": "markdown",
   "metadata": {},
   "source": [
    "## Functions, HW3 Preview and Future Assignments\n",
    "\n",
    "- We are going to implement a very simple spell checker that makes \"Did you mean ...?\" suggestions.\n",
    "\n",
    "\n",
    "- The word is misspelled if it is not in the dictionary. Easy enough to check, and you will.\n",
    "\n",
    "\n",
    "- But how do you find suggested changes?\n",
    "\n",
    "\n",
    "- One approach is to find correctly spelled words that are \"close\" to the unrecognized words.\n",
    "\n",
    "\n",
    "- One measurement of distance is the [Levenshtein Distance (LD)](https://en.wikipedia.org/wiki/Levenshtein_distance)\n",
    "\n",
    "| <img src=\"../images/levenshtein_distance.jpeg\"> |\n",
    "| :---: |\n",
    "| [__Levenshtein Distance__](https://en.wikipedia.org/wiki/Levenshtein_distance) |"
   ]
  },
  {
   "cell_type": "markdown",
   "metadata": {},
   "source": [
    "- This is a [recursively](https://en.wikipedia.org/wiki/Recursion_(computer_science)) defined function, which is a type of function we will learn to implement.\n",
    "\n",
    "\n",
    "- Computing the LD for all words and finding \"the closest\" is inefficient. Why compute the distance for completely different words?\n",
    "\n",
    "\n",
    "- A better approach to to \"guess an error, correct, and see if that word is in the dictionary.\"\n",
    "\n",
    "\n",
    "- A common error is transposing characters: The word is \"mouse\" but the person typed \"muose.\"\n",
    "\n",
    "\n",
    "- Write a generate guess function that produces possible correct spellings.\n"
   ]
  },
  {
   "cell_type": "code",
   "execution_count": 1,
   "metadata": {},
   "outputs": [],
   "source": [
    "def generate_transposes(word):\n",
    "    result = []\n",
    "    # This was NOT that that hard to write, but ...\n",
    "    # is not easy to understand and I should have a comment or two,\n",
    "    for i in range(0,len(word)-1):\n",
    "        l = word[:i]\n",
    "        c1 = word[i]\n",
    "        c2 = word[i+1]\n",
    "        r = word[i+2:]\n",
    "        n = l + c2 + c1 + r\n",
    "        result.append(n)\n",
    "\n",
    "    return result"
   ]
  },
  {
   "cell_type": "code",
   "execution_count": 2,
   "metadata": {},
   "outputs": [
    {
     "name": "stdout",
     "output_type": "stream",
     "text": [
      "Possible words are:  ['umose', 'mouse', 'musoe', 'muoes']\n"
     ]
    }
   ],
   "source": [
    "bad_word = \"muose\"\n",
    "possible_words = generate_transposes(bad_word)\n",
    "print(\"Possible words are: \", possible_words)"
   ]
  },
  {
   "cell_type": "markdown",
   "metadata": {},
   "source": [
    " - HW3's core is\n",
    "     - A function that takes a word input, checks a dictionary and suggests corrections if necessary.\n",
    "     - Suggesting corrections will be\n",
    "         - Applying several simple functions that generate possible correct words by\n",
    "             - Transposing letters.\n",
    "             - Replacing letters.\n",
    "             - Inserting letters.\n",
    "             - Splitting words.\n",
    "             - etc.\n",
    "         - Checking if possible corrections are in the dictionary.\n",
    "         - Recommending corrections based on\n",
    "             - How close the correction is to the misspelled word.\n",
    "             - How often is the corrected word actually used? \"thg\" could be \"thy, the, thug, ...\" \"thy\" is unlikely because not commonly used.\n",
    "         \n",
    "         \n",
    " - We will do in the connect of a web application and HTML, but the core is excellent practice with\n",
    "     - Strings\n",
    "     - Functions\n",
    "     - if, for, while, ...\n",
    "     - Simple algorithm design\n",
    "     - Decomposition"
   ]
  },
  {
   "cell_type": "markdown",
   "metadata": {},
   "source": [
    "## Files\n",
    "\n",
    "### Overview\n",
    "\n",
    "- A file is a collection of data (bytes) that is stored on secondary storage like a disk or a thumb drive.\n",
    "\n",
    "\n",
    "- Accessing a file means establishing a connection between the file and the program and moving data between the two. \n",
    "\n",
    "<br>\n",
    "\n",
    "| <img src=\"../images/cpu1.jpg\"> |\n",
    "| :---: |\n",
    "| [__CPU, RAM, Files__](http://csbapp.uncw.edu/mis213/TG01/TG1-5-A.html) |\n"
   ]
  },
  {
   "cell_type": "markdown",
   "metadata": {},
   "source": [
    "- Files come in two general types:\n",
    "    - Text files. Files where control characters such as \"/n\" are translated and bytes are translated into characters/strings.\n",
    "        - These files are generally human readable.\n",
    "        - They may be strings of text, or have a \"schema,\" e.g. CSV.\n",
    "    - Binary files. All the information is taken directly without translation. Not readable and contains non-readable info. Examples are .jpg, .exe, etc.\n",
    "\n",
    "\n",
    "- File object (file stream):\n",
    "    - When opening a file, you create a file object or file stream that is a connection between the file information on disk and the program.\n",
    "    - The stream contains a buffer of the information from the file, and provides the information to the program.\n",
    "    \n",
    "    \n",
    "- You can think of the stream being a _sequence_ of characters or bytes. The sequence can be huge, and the input/output system optimizes reading and writing to/from storage.\n",
    "<br>    \n",
    "\n",
    "| <img src=\"../images/file_io.jpeg\" width=\"100%\"> |\n",
    "| :---: |\n",
    "| __Input/Output (I/O)__ |\n"
   ]
  },
  {
   "cell_type": "markdown",
   "metadata": {},
   "source": [
    "- Buffers\n",
    "    - Reading from a disk is very slow. \n",
    "    - Reading a large number of characters, e.g. 64 KB, takes as long as reading one character.\n",
    "    - Thus the computer will read a lot of data from a file in the hopes that, if you need the data in the future, it will be buffered in the file object.\n",
    "    - This means that the file object contains a copy of information from the file called a cache (pronounced \"cash\")\n",
    "\n",
    "| <img src=\"../images/memory_hierarchy.jpeg\"> |\n",
    "| :---: |\n",
    "| __Memory Access Times__ |"
   ]
  },
  {
   "cell_type": "markdown",
   "metadata": {},
   "source": [
    "### Reading Files"
   ]
  },
  {
   "cell_type": "code",
   "execution_count": 127,
   "metadata": {},
   "outputs": [
    {
     "name": "stdout",
     "output_type": "stream",
     "text": [
      "The first line of text is \n",
      "Date,Open,High,Low,Close,Adj Close,Volume\n",
      "\n",
      "The first five characters of the next line of text are \n",
      "\n",
      "2018-\n",
      "The 10 characters after that are + \n",
      "\n",
      "01-02,170.\n"
     ]
    }
   ],
   "source": [
    "f = open(\"AAPL.csv\",\"r\")\n",
    "s = f.readline()\n",
    "print(\"The first line of text is \\n\" + s)\n",
    "print(\"The first five characters of the next line of text are \\n\")\n",
    "s = f.readline(5)\n",
    "print(s)\n",
    "print(\"The 10 characters after that are + \\n\")\n",
    "s = f.readline(10)\n",
    "print(s)\n",
    "f.close()"
   ]
  },
  {
   "cell_type": "code",
   "execution_count": 130,
   "metadata": {},
   "outputs": [
    {
     "name": "stdout",
     "output_type": "stream",
     "text": [
      "File 'paths' follow the conventions of the OS directory/folder structure.\n",
      "The first 5 lines are:\n",
      "Date,Open,High,Low,Close,Adj Close,Volume\n",
      "\n",
      "2018-01-02,170.16000400000001,172.300003,169.259995,172.259995,172.259995,25555900\n",
      "\n",
      "2018-01-03,172.529999,174.550003,171.96000700000002,172.229996,172.229996,29517900\n",
      "\n",
      "2018-01-04,172.53999299999998,173.470001,172.080002,173.029999,173.029999,22434600\n",
      "\n",
      "2018-01-05,173.440002,175.369995,173.050003,175.0,175.0,23660000\n",
      "\n"
     ]
    }
   ],
   "source": [
    "print(\"File 'paths' follow the conventions of the OS directory/folder structure.\")\n",
    "f = open(\"/Users/donaldferguson/Documents/GitHub/e1006s18/Notebooks/AAPL.csv\",\"r\")\n",
    "print(\"The first 5 lines are:\")\n",
    "\n",
    "for i in range(0,5):\n",
    "    print(f.readline())\n",
    "    \n",
    "f.close()"
   ]
  },
  {
   "cell_type": "code",
   "execution_count": 137,
   "metadata": {},
   "outputs": [
    {
     "name": "stdout",
     "output_type": "stream",
     "text": [
      "File 'paths' follow the conventions of the OS directory/folder structure.\n",
      "The first 5 lines are just line any other strings:\n",
      "file_lines is a 'list' of strings, which are sequences of text. The list =\n",
      "['Date,Open,High,Low,Close,Adj Close,Volume\\n', '2018-01-02,170.16000400000001,172.300003,169.259995,172.259995,172.259995,25555900\\n', '2018-01-03,172.529999,174.550003,171.96000700000002,172.229996,172.229996,29517900\\n', '2018-01-04,172.53999299999998,173.470001,172.080002,173.029999,173.029999,22434600\\n', '2018-01-05,173.440002,175.369995,173.050003,175.0,175.0,23660000\\n']\n",
      "\n",
      "And let's do some string stuff ...\n",
      "The first string backwards is \n",
      "emuloV,esolC jdA,esolC,woL,hgiH,nepO,etaD\n"
     ]
    }
   ],
   "source": [
    "print(\"File 'paths' follow the conventions of the OS directory/folder structure.\")\n",
    "f = open(\"/Users/donaldferguson/Documents/GitHub/e1006s18/Notebooks/AAPL.csv\",\"r\")\n",
    "print(\"The first 5 lines are just line any other strings:\")\n",
    "\n",
    "file_lines = []\n",
    "for i in range(0,5):\n",
    "    file_lines.append(f.readline())\n",
    "    \n",
    "print(\"file_lines is a 'list' of strings, which are sequences of text. The list =\")\n",
    "print(file_lines)\n",
    "print(\"\")\n",
    "print(\"And let's do some string stuff ...\")\n",
    "s = file_lines[0]\n",
    "print(\"The first string backwards is\", s[-1::-1])\n",
    "f.close()"
   ]
  },
  {
   "cell_type": "markdown",
   "metadata": {},
   "source": [
    "- File location: When opened, the name of the file can come in one of two forms:\n",
    "    - \"file.txt\" assumes the file name is file.txt and it is located in the current program directory\n",
    "    - (Windows) \"c:\\bill\\file.txt\" is the fully qualified file name and includes the directory information\n",
    "    - (Mac) \"/Users/donaldferguson/file.txt\"\n",
    "   \n",
    "### Writing Files\n",
    "\n",
    "| <img src=\"../images/file_modes.jpeg\"> |\n",
    "| :---: |\n",
    "| __File Open Modes__ |\n"
   ]
  },
  {
   "cell_type": "markdown",
   "metadata": {},
   "source": [
    "- Be very careful\n",
    "    - Be careful if you open a file with the 'w' mode. It sets an existing file’s contents to be empty, destroying any existing data.\n",
    "    - The 'a' mode is nicer, allowing you to write to the end of an existing file without changing the existing contents\n",
    "    \n",
    "    \n",
    "- If you are interacting with text files (\"which is all we will do in this book\"), remember that everything is a string\n",
    "    - Everything read is a string\n",
    "    - If you write to a file, you can only write a string\n",
    "\n",
    "\n",
    "- We may cover some binary files, and will give some details on what \"everything is a string means.\"\n"
   ]
  },
  {
   "cell_type": "markdown",
   "metadata": {},
   "source": [
    "- Writing a file:\n",
    "    - Once you have created a file object, opened for reading, you can use the \"print\" function\n",
    "    - You add \"file=filename\" to the print command."
   ]
  },
  {
   "cell_type": "code",
   "execution_count": 6,
   "metadata": {},
   "outputs": [],
   "source": [
    "import time\n",
    "\n",
    "f = open(\"/users/donaldferguson/tmp/message.txt\",\"a\")\n",
    "t = time.gmtime()\n",
    "t = time.asctime(t)\n",
    "print(\"Writing the current time to the text file: \",t,file=f)\n",
    "f.close()"
   ]
  },
  {
   "cell_type": "markdown",
   "metadata": {},
   "source": [
    "- All print() function calls have the parameter \"file=...\" If you do not include it, the default is [_stdout_](https://en.wikipedia.org/wiki/Standard_streams) (aka \"standard out.\"). This is the _default_ output file, which is usually the terminal window."
   ]
  },
  {
   "cell_type": "markdown",
   "metadata": {},
   "source": [
    "- When the program is finished with a file, we close the file\n",
    "    - Flush the buffer contents from the computer to the file\n",
    "    - Tear down the connection to the file (release the file for other programs)\n",
    "\n",
    "\n",
    "- _close()_ is a method of a file obj\n",
    "\n",
    "\n",
    "- All files should be closed!\n"
   ]
  },
  {
   "cell_type": "markdown",
   "metadata": {},
   "source": [
    "### Structured Files and Streams\n",
    "\n",
    "- The most basic file types are text files and binary files.\n",
    "\n",
    "\n",
    "- There are many text and file types that use a pattern or schema for the text or binary file.\n",
    "\n",
    "\n",
    "- You have already seen one of these types -- CSV files.\n",
    "    - A CSV file is a text file, but\n",
    "    - The text follows a pattern\n",
    "    \n",
    "    \n",
    "- There are libraries for many of these patterned files. Some examples\n",
    "    - csv.reader, csv.writer\n",
    "    - [Python Imagine Library](https://en.wikipedia.org/wiki/Python_Imaging_Library)\n",
    "    - [The ElementTree XML API](http://localhost:8888/notebooks/Documents/GitHub/e1006s18/Notebooks/e1006_L9_S2018_Functions_Files_HW3.ipynb)\n",
    "    - [Simple HTML and XHTML parser](https://docs.python.org/3/library/html.parser.html)\n",
    "    - [JSON encoder and decoder](https://docs.python.org/3/library/json.html)\n",
    "    "
   ]
  },
  {
   "cell_type": "code",
   "execution_count": 142,
   "metadata": {},
   "outputs": [
    {
     "name": "stdout",
     "output_type": "stream",
     "text": [
      "[\n",
      "    {\n",
      "        \"title\": \"Introduction to Databases\",\n",
      "        \"number\": \"W4111\"\n",
      "    },\n",
      "    {\n",
      "        \"title\": \"Introduction to Computing for Engineers and Applied Scientists\",\n",
      "        \"number\": \"E1006\"\n",
      "    }\n",
      "]\n"
     ]
    }
   ],
   "source": [
    "import json\n",
    "\n",
    "courses = []\n",
    "\n",
    "courses.append({ \"title\" : \"Introduction to Databases\", \"number\": \"W4111\" })\n",
    "courses.append({ \"title\" : \"Introduction to Computing for Engineers and Applied Scientists\", \"number\": \"E1006\" })\n",
    "\n",
    "print(json.dumps(courses, indent=4))"
   ]
  },
  {
   "cell_type": "markdown",
   "metadata": {},
   "source": [
    "- Remember the terminal is \"just another file.\" I can write the structured data to a JSON file."
   ]
  },
  {
   "cell_type": "code",
   "execution_count": 143,
   "metadata": {},
   "outputs": [],
   "source": [
    "import time\n",
    "\n",
    "t = time.gmtime()\n",
    "t =  time.asctime(t)\n",
    "\n",
    "s = { \"output_time\": t, \"courses\": courses}\n",
    "\n",
    "f = open(\"/Users/donaldferguson/tmp/some.json\",\"a\")\n",
    "print(json.dumps(s, indent=4),file=f)\n",
    "f.close()\n"
   ]
  },
  {
   "cell_type": "markdown",
   "metadata": {},
   "source": [
    "## Introduction to Exceptions\n",
    "\n",
    "### Overview\n",
    "\n",
    "From Punch and Enbody, chpt. 6.\n",
    "\n",
    "- Most modern languages provide methods to deal with ‘exceptional’ situations\n",
    "\n",
    "\n",
    "- Gives the programmer the option to keep the user from having the program stop (die) without warning or explanation. The programmer codes the program to:\n",
    "    - Retry failed condition.\n",
    "    - Terminate gracefully and with an explanation.\n",
    "    \n",
    "    \n",
    "- \"Again, this is not about fundamental CS, but about doing a better job as a programmer.\"\n",
    "    - __I strongly disagree.__\n",
    "    - This is fundamental. Software and programs are everywhere and critical.\n",
    "    - Robust, reliable programs can be the difference between life and death.\n",
    "    - This is what makes us engineers.\n",
    "    \n",
    "| <img src=\"../images/weinbergs_law.png\"> |\n",
    "| :--: |\n",
    "| [Weinberg's Second Law](https://en.wikipedia.org/wiki/Gerald_Weinberg) |\n"
   ]
  },
  {
   "cell_type": "markdown",
   "metadata": {},
   "source": [
    "- What constitutes an exception?\n",
    "    - There are many common ones that programs commonly experience\n",
    "        - User enters invalid data.\n",
    "        - Variable is wrong type.\n",
    "        - for loop range index outside a list.\n",
    "        - File not found on open.\n",
    "        - ... ...\n",
    "    - Developers can define their own exceptions to handle failures or errors in their application logic or input data.\n",
    "    \n",
    "    \n",
    "- Error and exceptions have specific _names._ You have seen many when your programs fail to execute. You have posted many of the errors on Piazza.\n",
    "\n",
    "| <img src=\"../images/error_names.jpeg\"> |\n",
    "| :---: |\n",
    "| __Error Names (Punch and Enbody)__ |\n",
    "\n"
   ]
  },
  {
   "cell_type": "markdown",
   "metadata": {},
   "source": [
    "### Exceptions and Exception Handling\n",
    "\n",
    "- Basic idea:\n",
    "    - Brackets and keep watch on a particular section of code\n",
    "    - If we get an exception, raise/throw that exception (let it be known)\n",
    "    - Look for a catcher that can handle that kind of exception\n",
    "    - If found, handle it, otherwise let Python handle it (which usually halts the program)\n",
    "    \n",
    "    \n",
    "- For example,\n",
    "    - We have assumed that the input we receive is correct (from a file, from the user).\n",
    "    - This is almost never true. There is always the chance that the input could be wrong.\n",
    "    - Our programs should be able to handle this.\n",
    "    \n",
    "    \n",
    "- \"Writing Secure Code”, by Howard and LeBlanc, ISBN 978-0735617223.\n",
    "    - __“All input is evil until proven otherwise.”__\n",
    "    - Many security holes in programs are based on assumptions programmers make about input.\n",
    "    - Secure programs protect themselves from evil input.\n",
    "    \n",
    "\n",
    "<span style=\"color:red;\">\n",
    "< DFF-Non-Textbook-Digression >\n",
    "    </span>\n",
    "- For example, \n",
    "    - \"[Fuzzing](https://en.wikipedia.org/wiki/Fuzzing) or fuzz testing is an automated software testing technique that involves providing invalid, unexpected, or random data as inputs to a computer program.\" \n",
    "    - \"Fuzzing is used mostly as an automated technique to expose vulnerabilities in security-critical programs that might be exploited with malicious intent.\"\n",
    "    - Both \"good guys\" and \"bad guys\" use fuzzing.\n",
    "\n",
    "<span style=\"color:red;\">    \n",
    "< /DFF-Non-Textbook-Digression >\n",
    "    </span>\n",
    "\n"
   ]
  },
  {
   "cell_type": "code",
   "execution_count": 19,
   "metadata": {},
   "outputs": [
    {
     "data": {
      "text/html": [
       "<!-- HTML -->\t\n",
       "<div style=\"height:85px; color:red\" class=\"example1\">\n",
       "<h3>Rule 7: All input is evil until proven otherwise.</h3>\n",
       "</div>"
      ],
      "text/plain": [
       "<IPython.core.display.HTML object>"
      ]
     },
     "metadata": {},
     "output_type": "display_data"
    }
   ],
   "source": [
    "%%HTML\n",
    "<!-- HTML -->\t\n",
    "<div style=\"height:85px; color:red\" class=\"example1\">\n",
    "<h3>Rule 7: All input is evil until proven otherwise.</h3>\n",
    "</div>"
   ]
  },
  {
   "cell_type": "markdown",
   "metadata": {},
   "source": [
    "### Implementing Exceptions\n",
    "\n",
    "| <img src=\"../images/exception_1.jpeg\"> |\n",
    "| :---: |\n",
    "| __Exceptions Form 1__ |"
   ]
  },
  {
   "cell_type": "markdown",
   "metadata": {},
   "source": [
    "- try suite\n",
    "    - The try suite contains code that we want to monitor for errors during its execution. \n",
    "    - If an error occurs anywhere in that try suite, Python looks for a handler that can deal with the error.\n",
    "    - If no special handler exists, Python handles it, meaning the program halts and with an error message as we have seen so many times\n",
    "    \n",
    "    \n",
    "- except suite\n",
    "    - An  except suite (perhaps multiple except suites) is associated with a try suite.\n",
    "    - Each exception names a type of exception it is monitoring for.\n",
    "    - If the error that occurs in the try suite matches the type of exception, then that except suite is activated."
   ]
  },
  {
   "cell_type": "code",
   "execution_count": 17,
   "metadata": {},
   "outputs": [
    {
     "name": "stdout",
     "output_type": "stream",
     "text": [
      "Enter the radius of a circle: f\n",
      "\n",
      "Invalid type. You need to enter an integer.\n",
      "\n",
      " Finally always called.\n",
      "Enter the radius of a circle: f\n",
      "\n",
      "Invalid type. What part of integer did you not understand?\n",
      "\n",
      " Finally always called.\n",
      "Enter the radius of a circle: f\n",
      "\n",
      "Seriously? I cannot work like this. I am a professional.\n",
      "Next time you do this I divide by 0!\n",
      "\n",
      " Finally always called.\n",
      "Enter the radius of a circle: f\n",
      "\n",
      " Self-destruct sequence started.\n",
      "\n",
      " Finally always called.\n",
      "\n",
      "Exception =  division by zero\n",
      "Self-destruct complete.\n",
      "\n",
      " Finally always called.\n"
     ]
    }
   ],
   "source": [
    "# This program allows a user to input the radius on a circle.\n",
    "# We want to teach the formula to young children. So, we only\n",
    "# allow the radius to be an integer.\n",
    "\n",
    "# Almost every program you write will use \"programs\" others have written.\n",
    "# Your successful programs will become programs that others use.\n",
    "# Any non-trivial program requires a team. The team members assemble\n",
    "# the solution from individual subcomponents they build.\n",
    "# The subcomponents and reusable parts are called modules.\n",
    "\n",
    "import math     # We just imported our first module.\n",
    "\n",
    "# Programs, like mathematical functions, are only useful if they\n",
    "# operate on many user provided inputs. To start, we will get the input from\n",
    "# the \"command line.\"\n",
    "\n",
    "done = False\n",
    "error_count = 0\n",
    "self_destruct = False\n",
    "\n",
    "while not done:\n",
    "    try:\n",
    "        if self_destruct:\n",
    "            x = 1 / 0\n",
    "            \n",
    "        # Print a prompt asking for the radius.\n",
    "        # Set a variable to the input value.\n",
    "        radius_str = input('Enter the radius of a circle: ')\n",
    "\n",
    "        # We are going to do 'math' on the input. So, we should\n",
    "        # covert it to an Integer.\n",
    "        radius_int = int(radius_str)\n",
    "\n",
    "        # The circumfrence is 2 times pi time the radius.\n",
    "        # The area is pi * r squared.\n",
    "        circumference = 2 * math.pi * radius_int\n",
    "        area = math.pi * (radius_int ** 2)\n",
    "        \n",
    "        # Python conventions do not like lines that are too long.\n",
    "        # \\ means that we will continue the command on the next line.\n",
    "        print (\"The cirumference is:\",circumference,  \\\n",
    "              \", and the area is:\",area)\n",
    "        done = True\n",
    "    except ValueError as e1:\n",
    "        error_count = error_count + 1\n",
    "        if (error_count == 1):\n",
    "            print(\"\\nInvalid type. You need to enter an integer.\")  \n",
    "        elif error_count == 2:\n",
    "            print(\"\\nInvalid type. What part of integer did you not understand?\")\n",
    "        elif error_count == 3:\n",
    "            print(\"\\nSeriously? I cannot work like this. I am a professional.\")\n",
    "            print(\"Next time you do this I divide by 0!\")\n",
    "        else:\n",
    "            print(\"\\n Self-destruct sequence started.\")\n",
    "            self_destruct = True\n",
    "    except Exception as e:\n",
    "        print(\"\\nException = \", e)\n",
    "        print(\"Self-destruct complete.\")\n",
    "        break\n",
    "    finally:\n",
    "        print('\\n Finally always called.')"
   ]
  },
  {
   "cell_type": "markdown",
   "metadata": {},
   "source": [
    "### What Does This Have to Do With Files?\n",
    "\n",
    "- File not found is a very common error.\n"
   ]
  },
  {
   "cell_type": "code",
   "execution_count": 21,
   "metadata": {},
   "outputs": [
    {
     "name": "stdout",
     "output_type": "stream",
     "text": [
      "Please enter a file name?f\n",
      "You entered ... f\n",
      "File not found. I will be patient.\n",
      "Please enter a file name?/Users/donaldferguson/tmp/message.txt\n",
      "You entered ... /Users/donaldferguson/tmp/message.txt\n",
      "\n",
      "Reading file.\n",
      "A line =  Writing the current time to the text file:  Sat Feb 10 23:21:50 2018\n",
      "\n",
      "Done\n"
     ]
    }
   ],
   "source": [
    "done = False\n",
    "\n",
    "while not done:\n",
    "    try:\n",
    "        fn = input(\"Please enter a file name?\")\n",
    "        print(\"You entered ...\", fn)\n",
    "        f = open(fn,\"r\")\n",
    "        print(\"\\nReading file.\")\n",
    "        for s in f:\n",
    "            print(\"A line = \",s)\n",
    "        print(\"Done\")\n",
    "        done = True\n",
    "    except FileNotFoundError:\n",
    "        print(\"File not found. I will be patient.\")\n",
    "    except Exception:\n",
    "        print(\"Something else happened.\")\n",
    "        break\n",
    "    "
   ]
  },
  {
   "cell_type": "code",
   "execution_count": 4,
   "metadata": {},
   "outputs": [
    {
     "data": {
      "text/html": [
       "<!-- HTML -->\t\n",
       "<div style=\"height:100px; color:red\" class=\"example1\">\n",
       "<h3 class=\"example1\">Reminder: Rules do far</h3>\n",
       "</div>\n",
       "<div style=\"height:100px; color:red\" class=\"example1\">\n",
       "<h3 class=\"example1\">Think before you program!</h3>\n",
       "</div>\n",
       "<div style=\"height:200px; color:green\" class=\"example1\">\n",
       "<h3 style=\"color:green;\" class=\"example1\">A program is a human-readable essay on problem solving that also happens to execute on a computer.</h3>\n",
       "</div>\n",
       "<div style=\"height:150px; color:red\" class=\"example1\">\n",
       "<h3 class=\"example1\">The best way to improve your programming and problem solving skills is to practice!</h3>\n",
       "</div>\n",
       "<div style=\"height:150px; color:red\" class=\"example1\">\n",
       "<h3 style=\"color:red;\" class=\"example1\">A foolish consistency is the hobgoblin of little minds</h3>\n",
       "</div>\n",
       "<div style=\"height:100px; color:red\" class=\"example1\">\n",
       "<h3 style=\"color:red;\" class=\"example1\">Test your code, often and thoroughly</h3>\n",
       "</div>\n",
       "<div style=\"height:150px; color:red\" class=\"example1\">\n",
       "<h3 style=\"color:red;\" class=\"example1\">If it was hard to write, it is probably hard to read. Add a comment.</h3>\n",
       "</div>\n",
       "<div style=\"height:150px; color:red\" class=\"example1\">\n",
       "<h3 style=\"color:red;\" class=\"example1\">All input is evil, unless proven otherwise.</h3>\n",
       "</div>\n",
       "<div style=\"height:100px; color:red\" class=\"example1\">\n",
       "<h3 style=\"color:blue;\" class=\"example1\">Don get's bored easily.'</h3>\n",
       "</div>"
      ],
      "text/plain": [
       "<IPython.core.display.HTML object>"
      ]
     },
     "metadata": {},
     "output_type": "display_data"
    }
   ],
   "source": [
    "%%HTML\n",
    "<!-- HTML -->\t\n",
    "<div style=\"height:100px; color:red\" class=\"example1\">\n",
    "<h3 class=\"example1\">Reminder: Rules do far</h3>\n",
    "</div>\n",
    "<div style=\"height:100px; color:red\" class=\"example1\">\n",
    "<h3 class=\"example1\">Think before you program!</h3>\n",
    "</div>\n",
    "<div style=\"height:200px; color:green\" class=\"example1\">\n",
    "<h3 style=\"color:green;\" class=\"example1\">A program is a human-readable essay on problem solving that also happens to execute on a computer.</h3>\n",
    "</div>\n",
    "<div style=\"height:150px; color:red\" class=\"example1\">\n",
    "<h3 class=\"example1\">The best way to improve your programming and problem solving skills is to practice!</h3>\n",
    "</div>\n",
    "<div style=\"height:150px; color:red\" class=\"example1\">\n",
    "<h3 style=\"color:red;\" class=\"example1\">A foolish consistency is the hobgoblin of little minds</h3>\n",
    "</div>\n",
    "<div style=\"height:100px; color:red\" class=\"example1\">\n",
    "<h3 style=\"color:red;\" class=\"example1\">Test your code, often and thoroughly</h3>\n",
    "</div>\n",
    "<div style=\"height:150px; color:red\" class=\"example1\">\n",
    "<h3 style=\"color:red;\" class=\"example1\">If it was hard to write, it is probably hard to read. Add a comment.</h3>\n",
    "</div>\n",
    "<div style=\"height:150px; color:red\" class=\"example1\">\n",
    "<h3 style=\"color:red;\" class=\"example1\">All input is evil, unless proven otherwise.</h3>\n",
    "</div>\n",
    "<div style=\"height:100px; color:red\" class=\"example1\">\n",
    "<h3 style=\"color:blue;\" class=\"example1\">Don get's bored easily.'</h3>\n",
    "</div>\n"
   ]
  },
  {
   "cell_type": "code",
   "execution_count": null,
   "metadata": {},
   "outputs": [],
   "source": []
  }
 ],
 "metadata": {
  "celltoolbar": "Raw Cell Format",
  "kernelspec": {
   "display_name": "Python 3",
   "language": "python",
   "name": "python3"
  },
  "language_info": {
   "codemirror_mode": {
    "name": "ipython",
    "version": 3
   },
   "file_extension": ".py",
   "mimetype": "text/x-python",
   "name": "python",
   "nbconvert_exporter": "python",
   "pygments_lexer": "ipython3",
   "version": "3.6.3"
  },
  "toc": {
   "nav_menu": {},
   "number_sections": true,
   "sideBar": true,
   "skip_h1_title": false,
   "title_cell": "Table of Contents",
   "title_sidebar": "Contents",
   "toc_cell": false,
   "toc_position": {},
   "toc_section_display": true,
   "toc_window_display": false
  }
 },
 "nbformat": 4,
 "nbformat_minor": 2
}
