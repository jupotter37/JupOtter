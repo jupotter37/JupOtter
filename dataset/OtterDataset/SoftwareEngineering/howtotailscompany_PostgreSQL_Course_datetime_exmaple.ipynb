{
    "metadata": {
        "kernelspec": {
            "name": "SQL",
            "display_name": "SQL",
            "language": "sql"
        },
        "language_info": {
            "name": "sql",
            "version": ""
        }
    },
    "nbformat_minor": 2,
    "nbformat": 4,
    "cells": [
        {
            "cell_type": "code",
            "source": [
                "SELECT LOCALTIMESTAMP, '2022-11-29'::DATE, \r\n",
                "    to_char(LOCALTIMESTAMP, 'DD') \"DD\";\r\n",
                "    to_char(LOCALTIMESTAMP, 'DDD') \"DDD\",\r\n",
                "    to_char(LOCALTIMESTAMP, 'Dy') \"Dy\",\r\n",
                "    to_char(LOCALTIMESTAMP, 'HH') \"HH\",\r\n",
                "    to_char(LOCALTIMESTAMP, 'HH24') \"HH24\""
            ],
            "metadata": {
                "azdata_cell_guid": "ed8579dc-465c-4041-aa76-f86b94bc0084",
                "language": "sql"
            },
            "outputs": [
                {
                    "output_type": "display_data",
                    "data": {
                        "text/html": "(1 row(s) affected)"
                    },
                    "metadata": {}
                },
                {
                    "output_type": "display_data",
                    "data": {
                        "text/html": "Total execution time: 00:00:00.002"
                    },
                    "metadata": {}
                },
                {
                    "output_type": "execute_result",
                    "execution_count": 15,
                    "data": {
                        "application/vnd.dataresource+json": {
                            "schema": {
                                "fields": [
                                    {
                                        "name": "localtimestamp"
                                    },
                                    {
                                        "name": "date"
                                    },
                                    {
                                        "name": "DD"
                                    },
                                    {
                                        "name": "DDD"
                                    },
                                    {
                                        "name": "Dy"
                                    },
                                    {
                                        "name": "HH"
                                    },
                                    {
                                        "name": "HH24"
                                    }
                                ]
                            },
                            "data": [
                                {
                                    "0": "2022-11-29T10:38:19.288447",
                                    "1": "2022-11-29",
                                    "2": "29",
                                    "3": "333",
                                    "4": "Tue",
                                    "5": "10",
                                    "6": "10"
                                }
                            ]
                        },
                        "text/html": "<table><tr><th>localtimestamp</th><th>date</th><th>DD</th><th>DDD</th><th>Dy</th><th>HH</th><th>HH24</th></tr><tr><td>2022-11-29T10:38:19.288447</td><td>2022-11-29</td><td>29</td><td>333</td><td>Tue</td><td>10</td><td>10</td></tr></table>"
                    },
                    "metadata": {}
                }
            ],
            "execution_count": 15
        },
        {
            "cell_type": "code",
            "source": [
                "SELECT '2022-11-29'::DATE, \r\n",
                "    to_char('2022-11-29'::DATE, 'DD') \"DD\",\r\n",
                "    to_char('2022-11-29'::DATE, 'DDD') \"DDD\",\r\n",
                "    to_char('2022-11-29'::DATE, 'Dy') \"Dy\",\r\n",
                "    to_char('2022-11-29'::DATE, 'Day') \"Day\",\r\n",
                "    to_char('2022-11-29'::DATE, 'MM') \"MM\",\r\n",
                "    to_char('2022-11-29'::DATE, 'Mon') \"Mon\",\r\n",
                "    to_char('2022-11-29'::DATE, 'Month') \"Month\""
            ],
            "metadata": {
                "azdata_cell_guid": "1f4e1d02-61b6-4232-a309-e3e67a0eb703",
                "language": "sql"
            },
            "outputs": [
                {
                    "output_type": "display_data",
                    "data": {
                        "text/html": "(1 row(s) affected)"
                    },
                    "metadata": {}
                },
                {
                    "output_type": "display_data",
                    "data": {
                        "text/html": "Total execution time: 00:00:00.001"
                    },
                    "metadata": {}
                },
                {
                    "output_type": "execute_result",
                    "execution_count": 16,
                    "data": {
                        "application/vnd.dataresource+json": {
                            "schema": {
                                "fields": [
                                    {
                                        "name": "date"
                                    },
                                    {
                                        "name": "DD"
                                    },
                                    {
                                        "name": "DDD"
                                    },
                                    {
                                        "name": "Dy"
                                    },
                                    {
                                        "name": "Day"
                                    },
                                    {
                                        "name": "MM"
                                    },
                                    {
                                        "name": "Mon"
                                    },
                                    {
                                        "name": "Month"
                                    }
                                ]
                            },
                            "data": [
                                {
                                    "0": "2022-11-29",
                                    "1": "29",
                                    "2": "333",
                                    "3": "Tue",
                                    "4": "Tuesday  ",
                                    "5": "11",
                                    "6": "Nov",
                                    "7": "November "
                                }
                            ]
                        },
                        "text/html": "<table><tr><th>date</th><th>DD</th><th>DDD</th><th>Dy</th><th>Day</th><th>MM</th><th>Mon</th><th>Month</th></tr><tr><td>2022-11-29</td><td>29</td><td>333</td><td>Tue</td><td>Tuesday  </td><td>11</td><td>Nov</td><td>November </td></tr></table>"
                    },
                    "metadata": {}
                }
            ],
            "execution_count": 16
        },
        {
            "cell_type": "code",
            "source": [
                "SELECT text 'Origin' AS \"label\", point '(0,0)' AS \"value\";"
            ],
            "metadata": {
                "language": "sql",
                "azdata_cell_guid": "ac743c60-060c-4bfa-98d4-7769513b990a"
            },
            "outputs": [
                {
                    "output_type": "display_data",
                    "data": {
                        "text/html": "(1 row(s) affected)"
                    },
                    "metadata": {}
                },
                {
                    "output_type": "display_data",
                    "data": {
                        "text/html": "Total execution time: 00:00:00.009"
                    },
                    "metadata": {}
                },
                {
                    "output_type": "execute_result",
                    "execution_count": 17,
                    "data": {
                        "application/vnd.dataresource+json": {
                            "schema": {
                                "fields": [
                                    {
                                        "name": "label"
                                    },
                                    {
                                        "name": "value"
                                    }
                                ]
                            },
                            "data": [
                                {
                                    "0": "Origin",
                                    "1": "(0,0)"
                                }
                            ]
                        },
                        "text/html": "<table><tr><th>label</th><th>value</th></tr><tr><td>Origin</td><td>(0,0)</td></tr></table>"
                    },
                    "metadata": {}
                }
            ],
            "execution_count": 17
        },
        {
            "cell_type": "code",
            "source": [
                "SELECT |/ CAST(40 AS double precision) AS \"square root of 40\";"
            ],
            "metadata": {
                "language": "sql",
                "azdata_cell_guid": "4a74a368-0b95-40e3-b16b-8bf665c20ada"
            },
            "outputs": [
                {
                    "output_type": "display_data",
                    "data": {
                        "text/html": "(1 row(s) affected)"
                    },
                    "metadata": {}
                },
                {
                    "output_type": "display_data",
                    "data": {
                        "text/html": "Total execution time: 00:00:00.009"
                    },
                    "metadata": {}
                },
                {
                    "output_type": "execute_result",
                    "execution_count": 18,
                    "data": {
                        "application/vnd.dataresource+json": {
                            "schema": {
                                "fields": [
                                    {
                                        "name": "square root of 40"
                                    }
                                ]
                            },
                            "data": [
                                {
                                    "0": "6.324555320336759"
                                }
                            ]
                        },
                        "text/html": "<table><tr><th>square root of 40</th></tr><tr><td>6.324555320336759</td></tr></table>"
                    },
                    "metadata": {}
                }
            ],
            "execution_count": 18
        },
        {
            "cell_type": "code",
            "source": [
                "SELECT '2022-11-29 15:53'::timestamp, \r\n",
                "    to_char('2022-11-29 15:53'::timestamp, 'HH') \"HH\",\r\n",
                "    to_char('2022-11-29 15:53'::timestamp, 'HH24') \"HH24\",\r\n",
                "    to_char('2022-11-29 15:53'::timestamp, 'HH24:MI') \"HH24:MI\",\r\n",
                "    to_char('2022-11-29 15:53'::timestamp, 'HH:MI am') \"HH24:MI am\",\r\n",
                "    to_char('2022-11-29 15:53'::timestamp, 'Dy DD-Mon-YYYY HH:MI am') \"Dy DD-Mon-YYYY HH:MI am\""
            ],
            "metadata": {
                "language": "sql",
                "azdata_cell_guid": "48c2e745-263d-4b76-b2b5-c329ab5c6b29"
            },
            "outputs": [
                {
                    "output_type": "display_data",
                    "data": {
                        "text/html": "(1 row(s) affected)"
                    },
                    "metadata": {}
                },
                {
                    "output_type": "display_data",
                    "data": {
                        "text/html": "Total execution time: 00:00:00.001"
                    },
                    "metadata": {}
                },
                {
                    "output_type": "execute_result",
                    "execution_count": 19,
                    "data": {
                        "application/vnd.dataresource+json": {
                            "schema": {
                                "fields": [
                                    {
                                        "name": "timestamp"
                                    },
                                    {
                                        "name": "HH"
                                    },
                                    {
                                        "name": "HH24"
                                    },
                                    {
                                        "name": "HH24:MI"
                                    },
                                    {
                                        "name": "HH24:MI am"
                                    },
                                    {
                                        "name": "Dy DD-Mon-YYYY HH:MI am"
                                    }
                                ]
                            },
                            "data": [
                                {
                                    "0": "2022-11-29T15:53:00",
                                    "1": "03",
                                    "2": "15",
                                    "3": "15:53",
                                    "4": "03:53 pm",
                                    "5": "Tue 29-Nov-2022 03:53 pm"
                                }
                            ]
                        },
                        "text/html": "<table><tr><th>timestamp</th><th>HH</th><th>HH24</th><th>HH24:MI</th><th>HH24:MI am</th><th>Dy DD-Mon-YYYY HH:MI am</th></tr><tr><td>2022-11-29T15:53:00</td><td>03</td><td>15</td><td>15:53</td><td>03:53 pm</td><td>Tue 29-Nov-2022 03:53 pm</td></tr></table>"
                    },
                    "metadata": {}
                }
            ],
            "execution_count": 19
        },
        {
            "cell_type": "code",
            "source": [
                ""
            ],
            "metadata": {
                "language": "sql",
                "azdata_cell_guid": "097e6c10-3652-473e-b410-bd9d9339552e"
            },
            "outputs": [
                {
                    "output_type": "display_data",
                    "data": {
                        "text/html": "(100 row(s) affected)"
                    },
                    "metadata": {}
                },
                {
                    "output_type": "display_data",
                    "data": {
                        "text/html": "Total execution time: 00:00:00.015"
                    },
                    "metadata": {}
                },
                {
                    "output_type": "execute_result",
                    "execution_count": 22,
                    "data": {
                        "application/vnd.dataresource+json": {
                            "schema": {
                                "fields": [
                                    {
                                        "name": "name"
                                    },
                                    {
                                        "name": "platform"
                                    },
                                    {
                                        "name": "year_of_release"
                                    },
                                    {
                                        "name": "genre"
                                    },
                                    {
                                        "name": "publisher"
                                    },
                                    {
                                        "name": "na_sales"
                                    },
                                    {
                                        "name": "eu_sales"
                                    },
                                    {
                                        "name": "jp_sales"
                                    },
                                    {
                                        "name": "other_sales"
                                    },
                                    {
                                        "name": "global_sales"
                                    },
                                    {
                                        "name": "critic_score"
                                    },
                                    {
                                        "name": "critic_count"
                                    },
                                    {
                                        "name": "user_score"
                                    },
                                    {
                                        "name": "user_count"
                                    },
                                    {
                                        "name": "developer"
                                    },
                                    {
                                        "name": "rating"
                                    }
                                ]
                            },
                            "data": [
                                {
                                    "0": "Shin Megami Tensei: Persona 4",
                                    "1": "PS2",
                                    "2": "2008",
                                    "3": "Role-Playing",
                                    "4": "Atlus",
                                    "5": "0.34",
                                    "6": "0.04",
                                    "7": "0.36",
                                    "8": "0.08",
                                    "9": "0.82",
                                    "10": "90.0",
                                    "11": "47.0",
                                    "12": "8.9",
                                    "13": "634.0",
                                    "14": "Atlus Co.",
                                    "15": "M"
                                },
                                {
                                    "0": "NCAA March Madness 08",
                                    "1": "PS2",
                                    "2": "2007",
                                    "3": "Sports",
                                    "4": "Electronic Arts",
                                    "5": "0.13",
                                    "6": "0.1",
                                    "7": "0.0",
                                    "8": "0.03",
                                    "9": "0.26",
                                    "10": "NULL",
                                    "11": "NULL",
                                    "12": "5",
                                    "13": "8.0",
                                    "14": "EA Canada",
                                    "15": "E"
                                },
                                {
                                    "0": "The Amazing Spider-Man (Console Version)",
                                    "1": "PS3",
                                    "2": "2012",
                                    "3": "Action",
                                    "4": "Activision",
                                    "5": "0.31",
                                    "6": "0.35",
                                    "7": "0.0",
                                    "8": "0.13",
                                    "9": "0.79",
                                    "10": "NULL",
                                    "11": "NULL",
                                    "12": "NULL",
                                    "13": "NULL",
                                    "14": "NULL",
                                    "15": "NULL"
                                },
                                {
                                    "0": "Tony Hawk's Pro Skater 3",
                                    "1": "XB",
                                    "2": "2002",
                                    "3": "Sports",
                                    "4": "Activision",
                                    "5": "0.34",
                                    "6": "0.18",
                                    "7": "0.0",
                                    "8": "0.02",
                                    "9": "0.55",
                                    "10": "93.0",
                                    "11": "22.0",
                                    "12": "8.4",
                                    "13": "17.0",
                                    "14": "Neversoft Entertainment",
                                    "15": "T"
                                },
                                {
                                    "0": "Monster Trucks Mayhem",
                                    "1": "Wii",
                                    "2": "2009",
                                    "3": "Racing",
                                    "4": "Zoo Games",
                                    "5": "0.38",
                                    "6": "0.0",
                                    "7": "0.0",
                                    "8": "0.02",
                                    "9": "0.4",
                                    "10": "NULL",
                                    "11": "NULL",
                                    "12": "tbd",
                                    "13": "NULL",
                                    "14": "Zoo Games",
                                    "15": "E"
                                },
                                {
                                    "0": "Pro Yaky? Spirits 6",
                                    "1": "PS3",
                                    "2": "2009",
                                    "3": "Sports",
                                    "4": "Konami Digital Entertainment",
                                    "5": "0.0",
                                    "6": "0.0",
                                    "7": "0.15",
                                    "8": "0.0",
                                    "9": "0.15",
                                    "10": "NULL",
                                    "11": "NULL",
                                    "12": "NULL",
                                    "13": "NULL",
                                    "14": "NULL",
                                    "15": "NULL"
                                },
                                {
                                    "0": "Tom Clancy's Rainbow Six 3: Black Arrow",
                                    "1": "XB",
                                    "2": "2004",
                                    "3": "Shooter",
                                    "4": "Ubisoft",
                                    "5": "0.99",
                                    "6": "0.12",
                                    "7": "0.0",
                                    "8": "0.02",
                                    "9": "1.13",
                                    "10": "84.0",
                                    "11": "55.0",
                                    "12": "8.6",
                                    "13": "14.0",
                                    "14": "Ubisoft Montreal",
                                    "15": "M"
                                },
                                {
                                    "0": "Famista 64",
                                    "1": "N64",
                                    "2": "NULL",
                                    "3": "Sports",
                                    "4": "Namco Bandai Games",
                                    "5": "0.0",
                                    "6": "0.0",
                                    "7": "0.17",
                                    "8": "0.03",
                                    "9": "0.2",
                                    "10": "NULL",
                                    "11": "NULL",
                                    "12": "NULL",
                                    "13": "NULL",
                                    "14": "NULL",
                                    "15": "NULL"
                                },
                                {
                                    "0": "Ride",
                                    "1": "PS4",
                                    "2": "2015",
                                    "3": "Racing",
                                    "4": "Milestone S.r.l.",
                                    "5": "0.04",
                                    "6": "0.13",
                                    "7": "0.03",
                                    "8": "0.03",
                                    "9": "0.22",
                                    "10": "66.0",
                                    "11": "30.0",
                                    "12": "7",
                                    "13": "47.0",
                                    "14": "Milestone S.r.l",
                                    "15": "E"
                                },
                                {
                                    "0": "Test Drive Unlimited",
                                    "1": "X360",
                                    "2": "2006",
                                    "3": "Racing",
                                    "4": "Atari",
                                    "5": "0.23",
                                    "6": "0.04",
                                    "7": "0.02",
                                    "8": "0.02",
                                    "9": "0.32",
                                    "10": "82.0",
                                    "11": "69.0",
                                    "12": "8",
                                    "13": "86.0",
                                    "14": "Eden Studios",
                                    "15": "E10+"
                                },
                                {
                                    "0": "R-Type Delta",
                                    "1": "PS",
                                    "2": "1998",
                                    "3": "Shooter",
                                    "4": "Irem Software Engineering",
                                    "5": "0.01",
                                    "6": "0.01",
                                    "7": "0.0",
                                    "8": "0.0",
                                    "9": "0.03",
                                    "10": "NULL",
                                    "11": "NULL",
                                    "12": "NULL",
                                    "13": "NULL",
                                    "14": "NULL",
                                    "15": "NULL"
                                },
                                {
                                    "0": "Ratatouille",
                                    "1": "PC",
                                    "2": "2007",
                                    "3": "Action",
                                    "4": "THQ",
                                    "5": "0.01",
                                    "6": "0.01",
                                    "7": "0.0",
                                    "8": "0.0",
                                    "9": "0.03",
                                    "10": "NULL",
                                    "11": "NULL",
                                    "12": "7.9",
                                    "13": "9.0",
                                    "14": "Asobo Studio",
                                    "15": "E"
                                },
                                {
                                    "0": "DJ Hero",
                                    "1": "PS2",
                                    "2": "2009",
                                    "3": "Misc",
                                    "4": "Activision",
                                    "5": "0.1",
                                    "6": "0.02",
                                    "7": "0.0",
                                    "8": "0.2",
                                    "9": "0.32",
                                    "10": "87.0",
                                    "11": "4.0",
                                    "12": "6.4",
                                    "13": "5.0",
                                    "14": "FreeStyleGames",
                                    "15": "T"
                                },
                                {
                                    "0": "Whiplash",
                                    "1": "XB",
                                    "2": "2003",
                                    "3": "Racing",
                                    "4": "Eidos Interactive",
                                    "5": "0.04",
                                    "6": "0.01",
                                    "7": "0.0",
                                    "8": "0.0",
                                    "9": "0.06",
                                    "10": "68.0",
                                    "11": "28.0",
                                    "12": "tbd",
                                    "13": "NULL",
                                    "14": "Crystal Dynamics",
                                    "15": "T"
                                },
                                {
                                    "0": "NBA",
                                    "1": "PSP",
                                    "2": "2005",
                                    "3": "Sports",
                                    "4": "Sony Computer Entertainment",
                                    "5": "0.2",
                                    "6": "0.0",
                                    "7": "0.0",
                                    "8": "0.02",
                                    "9": "0.21",
                                    "10": "57.0",
                                    "11": "25.0",
                                    "12": "6.9",
                                    "13": "14.0",
                                    "14": "989 Sports",
                                    "15": "E"
                                },
                                {
                                    "0": "YoKai Watch Dance: Just Dance Special Version",
                                    "1": "WiiU",
                                    "2": "2015",
                                    "3": "Misc",
                                    "4": "Level 5",
                                    "5": "0.0",
                                    "6": "0.0",
                                    "7": "0.03",
                                    "8": "0.0",
                                    "9": "0.03",
                                    "10": "NULL",
                                    "11": "NULL",
                                    "12": "NULL",
                                    "13": "NULL",
                                    "14": "NULL",
                                    "15": "NULL"
                                },
                                {
                                    "0": "Thomas and Friends: Steaming around Sodor",
                                    "1": "3DS",
                                    "2": "2015",
                                    "3": "Action",
                                    "4": "Avanquest Software",
                                    "5": "0.0",
                                    "6": "0.02",
                                    "7": "0.0",
                                    "8": "0.0",
                                    "9": "0.02",
                                    "10": "NULL",
                                    "11": "NULL",
                                    "12": "tbd",
                                    "13": "NULL",
                                    "14": "Avanquest Software",
                                    "15": "NULL"
                                },
                                {
                                    "0": "Samurai Warriors 4: Empires",
                                    "1": "PS4",
                                    "2": "2015",
                                    "3": "Action",
                                    "4": "Tecmo Koei",
                                    "5": "0.02",
                                    "6": "0.01",
                                    "7": "0.06",
                                    "8": "0.01",
                                    "9": "0.1",
                                    "10": "71.0",
                                    "11": "29.0",
                                    "12": "6.5",
                                    "13": "15.0",
                                    "14": "Omega Force",
                                    "15": "T"
                                },
                                {
                                    "0": "Deus Ex: Invisible War",
                                    "1": "XB",
                                    "2": "2003",
                                    "3": "Shooter",
                                    "4": "Eidos Interactive",
                                    "5": "0.25",
                                    "6": "0.07",
                                    "7": "0.0",
                                    "8": "0.01",
                                    "9": "0.33",
                                    "10": "84.0",
                                    "11": "50.0",
                                    "12": "7.6",
                                    "13": "37.0",
                                    "14": "Ion Storm",
                                    "15": "M"
                                },
                                {
                                    "0": "Do-Konjou Shougakussei: Bon Bita - Hadaka no Choujou Ketsusen!! Bita vs. Dokuro Dei!",
                                    "1": "DS",
                                    "2": "2010",
                                    "3": "Action",
                                    "4": "Namco Bandai Games",
                                    "5": "0.0",
                                    "6": "0.0",
                                    "7": "0.04",
                                    "8": "0.0",
                                    "9": "0.04",
                                    "10": "NULL",
                                    "11": "NULL",
                                    "12": "NULL",
                                    "13": "NULL",
                                    "14": "NULL",
                                    "15": "NULL"
                                },
                                {
                                    "0": "Satisfashion",
                                    "1": "DS",
                                    "2": "2010",
                                    "3": "Misc",
                                    "4": "Destineer",
                                    "5": "0.05",
                                    "6": "0.0",
                                    "7": "0.0",
                                    "8": "0.0",
                                    "9": "0.06",
                                    "10": "NULL",
                                    "11": "NULL",
                                    "12": "NULL",
                                    "13": "NULL",
                                    "14": "NULL",
                                    "15": "NULL"
                                },
                                {
                                    "0": "ZooCube",
                                    "1": "GBA",
                                    "2": "2002",
                                    "3": "Puzzle",
                                    "4": "Acclaim Entertainment",
                                    "5": "0.03",
                                    "6": "0.01",
                                    "7": "0.0",
                                    "8": "0.0",
                                    "9": "0.05",
                                    "10": "71.0",
                                    "11": "11.0",
                                    "12": "tbd",
                                    "13": "NULL",
                                    "14": "PuzzleKings",
                                    "15": "E"
                                },
                                {
                                    "0": "The Godfather II",
                                    "1": "PS3",
                                    "2": "2009",
                                    "3": "Action",
                                    "4": "Electronic Arts",
                                    "5": "0.41",
                                    "6": "0.21",
                                    "7": "0.01",
                                    "8": "0.1",
                                    "9": "0.74",
                                    "10": "67.0",
                                    "11": "53.0",
                                    "12": "7.2",
                                    "13": "50.0",
                                    "14": "EA Redwood Shores",
                                    "15": "M"
                                },
                                {
                                    "0": "Texas Hold 'Em Poker DS",
                                    "1": "DS",
                                    "2": "2005",
                                    "3": "Misc",
                                    "4": "Majesco Entertainment",
                                    "5": "0.03",
                                    "6": "0.0",
                                    "7": "0.0",
                                    "8": "0.0",
                                    "9": "0.04",
                                    "10": "NULL",
                                    "11": "NULL",
                                    "12": "tbd",
                                    "13": "NULL",
                                    "14": "Skyworks Technologies",
                                    "15": "E"
                                },
                                {
                                    "0": "Magic Encyclopedia: Moonlight",
                                    "1": "DS",
                                    "2": "2010",
                                    "3": "Misc",
                                    "4": "Foreign Media Games",
                                    "5": "0.0",
                                    "6": "0.01",
                                    "7": "0.0",
                                    "8": "0.0",
                                    "9": "0.01",
                                    "10": "NULL",
                                    "11": "NULL",
                                    "12": "NULL",
                                    "13": "NULL",
                                    "14": "NULL",
                                    "15": "NULL"
                                },
                                {
                                    "0": "Ookiku Furikabutte: Honto no Ace ni Nareru kamo",
                                    "1": "DS",
                                    "2": "2007",
                                    "3": "Sports",
                                    "4": "Marvelous Interactive",
                                    "5": "0.0",
                                    "6": "0.0",
                                    "7": "0.03",
                                    "8": "0.0",
                                    "9": "0.03",
                                    "10": "NULL",
                                    "11": "NULL",
                                    "12": "NULL",
                                    "13": "NULL",
                                    "14": "NULL",
                                    "15": "NULL"
                                },
                                {
                                    "0": "Nobunaga no Yabou: Souzou",
                                    "1": "PS3",
                                    "2": "2013",
                                    "3": "Strategy",
                                    "4": "Tecmo Koei",
                                    "5": "0.0",
                                    "6": "0.0",
                                    "7": "0.19",
                                    "8": "0.0",
                                    "9": "0.19",
                                    "10": "NULL",
                                    "11": "NULL",
                                    "12": "NULL",
                                    "13": "NULL",
                                    "14": "NULL",
                                    "15": "NULL"
                                },
                                {
                                    "0": "Mace Griffin: Bounty Hunter",
                                    "1": "PS2",
                                    "2": "2003",
                                    "3": "Shooter",
                                    "4": "Electronic Arts",
                                    "5": "0.09",
                                    "6": "0.07",
                                    "7": "0.0",
                                    "8": "0.02",
                                    "9": "0.19",
                                    "10": "62.0",
                                    "11": "19.0",
                                    "12": "8.3",
                                    "13": "7.0",
                                    "14": "Warthog",
                                    "15": "M"
                                },
                                {
                                    "0": "Wolfenstein 3D",
                                    "1": "GBA",
                                    "2": "2002",
                                    "3": "Shooter",
                                    "4": "BAM! Entertainment",
                                    "5": "0.12",
                                    "6": "0.04",
                                    "7": "0.0",
                                    "8": "0.0",
                                    "9": "0.17",
                                    "10": "57.0",
                                    "11": "9.0",
                                    "12": "6",
                                    "13": "7.0",
                                    "14": "Stalker Entertainment",
                                    "15": "M"
                                },
                                {
                                    "0": "Ace Combat 5: The Unsung War",
                                    "1": "PS2",
                                    "2": "2004",
                                    "3": "Simulation",
                                    "4": "Sony Computer Entertainment Europe",
                                    "5": "0.88",
                                    "6": "0.34",
                                    "7": "0.32",
                                    "8": "0.18",
                                    "9": "1.71",
                                    "10": "84.0",
                                    "11": "57.0",
                                    "12": "9.1",
                                    "13": "81.0",
                                    "14": "Namco",
                                    "15": "T"
                                },
                                {
                                    "0": "Madden NFL 2001",
                                    "1": "PS2",
                                    "2": "2000",
                                    "3": "Sports",
                                    "4": "Electronic Arts",
                                    "5": "1.19",
                                    "6": "0.07",
                                    "7": "0.05",
                                    "8": "0.2",
                                    "9": "1.5",
                                    "10": "91.0",
                                    "11": "25.0",
                                    "12": "7.7",
                                    "13": "7.0",
                                    "14": "EA Sports",
                                    "15": "E"
                                },
                                {
                                    "0": "Mad Max (2015)",
                                    "1": "XOne",
                                    "2": "2015",
                                    "3": "Action",
                                    "4": "Warner Bros. Interactive Entertainment",
                                    "5": "0.28",
                                    "6": "0.16",
                                    "7": "0.0",
                                    "8": "0.04",
                                    "9": "0.48",
                                    "10": "NULL",
                                    "11": "NULL",
                                    "12": "NULL",
                                    "13": "NULL",
                                    "14": "NULL",
                                    "15": "NULL"
                                },
                                {
                                    "0": "Scooby-Doo! Night of 100 Frights",
                                    "1": "GC",
                                    "2": "2002",
                                    "3": "Platform",
                                    "4": "THQ",
                                    "5": "0.23",
                                    "6": "0.06",
                                    "7": "0.0",
                                    "8": "0.01",
                                    "9": "0.3",
                                    "10": "NULL",
                                    "11": "NULL",
                                    "12": "NULL",
                                    "13": "NULL",
                                    "14": "NULL",
                                    "15": "NULL"
                                },
                                {
                                    "0": "Elf: The Movie",
                                    "1": "GBA",
                                    "2": "2004",
                                    "3": "Action",
                                    "4": "Crave Entertainment",
                                    "5": "0.1",
                                    "6": "0.04",
                                    "7": "0.0",
                                    "8": "0.0",
                                    "9": "0.15",
                                    "10": "NULL",
                                    "11": "NULL",
                                    "12": "tbd",
                                    "13": "NULL",
                                    "14": "Human Soft",
                                    "15": "E"
                                },
                                {
                                    "0": "The Adventures of Tintin: The Game",
                                    "1": "Wii",
                                    "2": "2011",
                                    "3": "Action",
                                    "4": "Ubisoft",
                                    "5": "0.12",
                                    "6": "0.16",
                                    "7": "0.0",
                                    "8": "0.04",
                                    "9": "0.32",
                                    "10": "NULL",
                                    "11": "NULL",
                                    "12": "5.7",
                                    "13": "6.0",
                                    "14": "Ubisoft Montpellier",
                                    "15": "E10+"
                                },
                                {
                                    "0": "S.C.A.R.S",
                                    "1": "N64",
                                    "2": "1998",
                                    "3": "Racing",
                                    "4": "Ubisoft",
                                    "5": "0.05",
                                    "6": "0.01",
                                    "7": "0.0",
                                    "8": "0.0",
                                    "9": "0.06",
                                    "10": "NULL",
                                    "11": "NULL",
                                    "12": "NULL",
                                    "13": "NULL",
                                    "14": "NULL",
                                    "15": "NULL"
                                },
                                {
                                    "0": "Angry Birds: Rio",
                                    "1": "PC",
                                    "2": "2011",
                                    "3": "Puzzle",
                                    "4": "Focus Home Interactive",
                                    "5": "0.0",
                                    "6": "0.07",
                                    "7": "0.0",
                                    "8": "0.02",
                                    "9": "0.09",
                                    "10": "NULL",
                                    "11": "NULL",
                                    "12": "tbd",
                                    "13": "NULL",
                                    "14": "Rovio Mobile, Rovio Entertainment",
                                    "15": "E"
                                },
                                {
                                    "0": "Rugby Challenge 3",
                                    "1": "PS3",
                                    "2": "2016",
                                    "3": "Sports",
                                    "4": "Alternative Software",
                                    "5": "0.0",
                                    "6": "0.02",
                                    "7": "0.0",
                                    "8": "0.0",
                                    "9": "0.03",
                                    "10": "NULL",
                                    "11": "NULL",
                                    "12": "tbd",
                                    "13": "NULL",
                                    "14": "Wicked Witch Software",
                                    "15": "NULL"
                                },
                                {
                                    "0": "Hometown Story",
                                    "1": "3DS",
                                    "2": "2013",
                                    "3": "Role-Playing",
                                    "4": "Rising Star Games",
                                    "5": "0.23",
                                    "6": "0.12",
                                    "7": "0.04",
                                    "8": "0.04",
                                    "9": "0.43",
                                    "10": "47.0",
                                    "11": "14.0",
                                    "12": "6",
                                    "13": "24.0",
                                    "14": "TOYBOX",
                                    "15": "E10+"
                                },
                                {
                                    "0": "Total Immersion Racing",
                                    "1": "XB",
                                    "2": "2002",
                                    "3": "Racing",
                                    "4": "Empire Interactive",
                                    "5": "0.02",
                                    "6": "0.01",
                                    "7": "0.0",
                                    "8": "0.0",
                                    "9": "0.02",
                                    "10": "60.0",
                                    "11": "7.0",
                                    "12": "tbd",
                                    "13": "NULL",
                                    "14": "Razorworks Studios",
                                    "15": "E"
                                },
                                {
                                    "0": "Open Season",
                                    "1": "Wii",
                                    "2": "2006",
                                    "3": "Platform",
                                    "4": "Ubisoft",
                                    "5": "0.06",
                                    "6": "0.0",
                                    "7": "0.0",
                                    "8": "0.01",
                                    "9": "0.07",
                                    "10": "49.0",
                                    "11": "5.0",
                                    "12": "5.6",
                                    "13": "7.0",
                                    "14": "Ubisoft",
                                    "15": "E10+"
                                },
                                {
                                    "0": "Shin Megami Tensei: Devil Survivor 2",
                                    "1": "3DS",
                                    "2": "2015",
                                    "3": "Role-Playing",
                                    "4": "Atlus",
                                    "5": "0.0",
                                    "6": "0.02",
                                    "7": "0.09",
                                    "8": "0.0",
                                    "9": "0.12",
                                    "10": "NULL",
                                    "11": "NULL",
                                    "12": "NULL",
                                    "13": "NULL",
                                    "14": "NULL",
                                    "15": "NULL"
                                },
                                {
                                    "0": "Pressure Cooker",
                                    "1": "2600",
                                    "2": "1982",
                                    "3": "Action",
                                    "4": "Activision",
                                    "5": "0.14",
                                    "6": "0.01",
                                    "7": "0.0",
                                    "8": "0.0",
                                    "9": "0.15",
                                    "10": "NULL",
                                    "11": "NULL",
                                    "12": "NULL",
                                    "13": "NULL",
                                    "14": "NULL",
                                    "15": "NULL"
                                },
                                {
                                    "0": "Namco Museum",
                                    "1": "PS2",
                                    "2": "2001",
                                    "3": "Misc",
                                    "4": "Namco Bandai Games",
                                    "5": "1.73",
                                    "6": "0.07",
                                    "7": "0.0",
                                    "8": "0.02",
                                    "9": "1.82",
                                    "10": "72.0",
                                    "11": "9.0",
                                    "12": "6",
                                    "13": "5.0",
                                    "14": "Mass Media",
                                    "15": "E"
                                },
                                {
                                    "0": "Rooms: The Main Building",
                                    "1": "DS",
                                    "2": "2010",
                                    "3": "Adventure",
                                    "4": "Nintendo",
                                    "5": "0.1",
                                    "6": "0.34",
                                    "7": "0.01",
                                    "8": "0.05",
                                    "9": "0.5",
                                    "10": "56.0",
                                    "11": "23.0",
                                    "12": "tbd",
                                    "13": "NULL",
                                    "14": "HandMade Game",
                                    "15": "E"
                                },
                                {
                                    "0": "Alien: Isolation",
                                    "1": "PC",
                                    "2": "2014",
                                    "3": "Shooter",
                                    "4": "Sega",
                                    "5": "0.0",
                                    "6": "0.14",
                                    "7": "0.0",
                                    "8": "0.01",
                                    "9": "0.14",
                                    "10": "81.0",
                                    "11": "41.0",
                                    "12": "8.4",
                                    "13": "1588.0",
                                    "14": "Creative Assembly",
                                    "15": "M"
                                },
                                {
                                    "0": "Mario & Sonic at the Rio 2016 Olympic Games",
                                    "1": "3DS",
                                    "2": "2016",
                                    "3": "Action",
                                    "4": "Nintendo",
                                    "5": "0.05",
                                    "6": "0.21",
                                    "7": "0.25",
                                    "8": "0.02",
                                    "9": "0.53",
                                    "10": "NULL",
                                    "11": "NULL",
                                    "12": "NULL",
                                    "13": "NULL",
                                    "14": "NULL",
                                    "15": "NULL"
                                },
                                {
                                    "0": "Jewel Match 2",
                                    "1": "DS",
                                    "2": "2012",
                                    "3": "Puzzle",
                                    "4": "Easy Interactive",
                                    "5": "0.0",
                                    "6": "0.02",
                                    "7": "0.0",
                                    "8": "0.0",
                                    "9": "0.02",
                                    "10": "NULL",
                                    "11": "NULL",
                                    "12": "NULL",
                                    "13": "NULL",
                                    "14": "NULL",
                                    "15": "NULL"
                                },
                                {
                                    "0": "Gold's Gym: Cardio Workout",
                                    "1": "Wii",
                                    "2": "2008",
                                    "3": "Sports",
                                    "4": "Ubisoft",
                                    "5": "1.1",
                                    "6": "0.03",
                                    "7": "0.06",
                                    "8": "0.09",
                                    "9": "1.28",
                                    "10": "NULL",
                                    "11": "NULL",
                                    "12": "8.4",
                                    "13": "13.0",
                                    "14": "Ubisoft",
                                    "15": "E"
                                },
                                {
                                    "0": "PopCap Arcade Vol 1",
                                    "1": "X360",
                                    "2": "2007",
                                    "3": "Puzzle",
                                    "4": "PopCap Games",
                                    "5": "0.04",
                                    "6": "0.0",
                                    "7": "0.0",
                                    "8": "0.0",
                                    "9": "0.04",
                                    "10": "NULL",
                                    "11": "NULL",
                                    "12": "tbd",
                                    "13": "NULL",
                                    "14": "PopCap",
                                    "15": "E"
                                },
                                {
                                    "0": "Hasbro Family Game Night Fun Pack",
                                    "1": "Wii",
                                    "2": "2011",
                                    "3": "Misc",
                                    "4": "Electronic Arts",
                                    "5": "0.1",
                                    "6": "0.0",
                                    "7": "0.0",
                                    "8": "0.01",
                                    "9": "0.11",
                                    "10": "NULL",
                                    "11": "NULL",
                                    "12": "tbd",
                                    "13": "NULL",
                                    "14": "Virtuos",
                                    "15": "E"
                                },
                                {
                                    "0": "NBA Ballers",
                                    "1": "PS2",
                                    "2": "2004",
                                    "3": "Sports",
                                    "4": "Midway Games",
                                    "5": "0.81",
                                    "6": "0.63",
                                    "7": "0.0",
                                    "8": "0.21",
                                    "9": "1.66",
                                    "10": "83.0",
                                    "11": "44.0",
                                    "12": "9.2",
                                    "13": "19.0",
                                    "14": "Midway",
                                    "15": "E"
                                },
                                {
                                    "0": "Irotoridori no Sekai: World's End Re-Birth",
                                    "1": "PSV",
                                    "2": "2015",
                                    "3": "Action",
                                    "4": "HuneX",
                                    "5": "0.0",
                                    "6": "0.0",
                                    "7": "0.01",
                                    "8": "0.0",
                                    "9": "0.01",
                                    "10": "NULL",
                                    "11": "NULL",
                                    "12": "NULL",
                                    "13": "NULL",
                                    "14": "NULL",
                                    "15": "NULL"
                                },
                                {
                                    "0": "Woody Woodpecker in Crazy Castle 5",
                                    "1": "GBA",
                                    "2": "2002",
                                    "3": "Platform",
                                    "4": "Kemco",
                                    "5": "0.01",
                                    "6": "0.0",
                                    "7": "0.0",
                                    "8": "0.0",
                                    "9": "0.01",
                                    "10": "NULL",
                                    "11": "NULL",
                                    "12": "NULL",
                                    "13": "NULL",
                                    "14": "NULL",
                                    "15": "NULL"
                                },
                                {
                                    "0": "Alundra",
                                    "1": "PS",
                                    "2": "1997",
                                    "3": "Role-Playing",
                                    "4": "Psygnosis",
                                    "5": "0.13",
                                    "6": "0.09",
                                    "7": "0.0",
                                    "8": "0.01",
                                    "9": "0.23",
                                    "10": "86.0",
                                    "11": "9.0",
                                    "12": "9",
                                    "13": "41.0",
                                    "14": "Matrix Software",
                                    "15": "T"
                                },
                                {
                                    "0": "Shonen Jump's Shaman King: Master of Spirits",
                                    "1": "GBA",
                                    "2": "2004",
                                    "3": "Role-Playing",
                                    "4": "Konami Digital Entertainment",
                                    "5": "0.1",
                                    "6": "0.04",
                                    "7": "0.0",
                                    "8": "0.0",
                                    "9": "0.14",
                                    "10": "NULL",
                                    "11": "NULL",
                                    "12": "NULL",
                                    "13": "NULL",
                                    "14": "NULL",
                                    "15": "NULL"
                                },
                                {
                                    "0": "MySims",
                                    "1": "DS",
                                    "2": "2007",
                                    "3": "Simulation",
                                    "4": "Electronic Arts",
                                    "5": "1.58",
                                    "6": "1.59",
                                    "7": "0.08",
                                    "8": "0.41",
                                    "9": "3.66",
                                    "10": "67.0",
                                    "11": "15.0",
                                    "12": "7.3",
                                    "13": "13.0",
                                    "14": "TOSE",
                                    "15": "E"
                                },
                                {
                                    "0": "Brave: The Video Game",
                                    "1": "DS",
                                    "2": "2012",
                                    "3": "Action",
                                    "4": "Disney Interactive Studios",
                                    "5": "0.0",
                                    "6": "0.01",
                                    "7": "0.0",
                                    "8": "0.0",
                                    "9": "0.02",
                                    "10": "NULL",
                                    "11": "NULL",
                                    "12": "tbd",
                                    "13": "NULL",
                                    "14": "Behaviour Interactive",
                                    "15": "E10+"
                                },
                                {
                                    "0": "Winning Post 7 2013",
                                    "1": "PS3",
                                    "2": "2013",
                                    "3": "Sports",
                                    "4": "Tecmo Koei",
                                    "5": "0.0",
                                    "6": "0.0",
                                    "7": "0.05",
                                    "8": "0.0",
                                    "9": "0.05",
                                    "10": "NULL",
                                    "11": "NULL",
                                    "12": "NULL",
                                    "13": "NULL",
                                    "14": "NULL",
                                    "15": "NULL"
                                },
                                {
                                    "0": "God Eater Off Shot: Soma Shikkuzaru-hen Twin Pack & Animation Vol.4",
                                    "1": "PS4",
                                    "2": "2016",
                                    "3": "Action",
                                    "4": "Namco Bandai Games",
                                    "5": "0.0",
                                    "6": "0.0",
                                    "7": "0.02",
                                    "8": "0.0",
                                    "9": "0.02",
                                    "10": "NULL",
                                    "11": "NULL",
                                    "12": "NULL",
                                    "13": "NULL",
                                    "14": "NULL",
                                    "15": "NULL"
                                },
                                {
                                    "0": "Broken Sword 5: The Serpent's Curse",
                                    "1": "XOne",
                                    "2": "2015",
                                    "3": "Adventure",
                                    "4": "Revolution Software",
                                    "5": "0.0",
                                    "6": "0.02",
                                    "7": "0.0",
                                    "8": "0.0",
                                    "9": "0.02",
                                    "10": "77.0",
                                    "11": "12.0",
                                    "12": "7.2",
                                    "13": "11.0",
                                    "14": "Revolution Software",
                                    "15": "T"
                                },
                                {
                                    "0": "Showdown: Legends of Wrestling",
                                    "1": "PS2",
                                    "2": "2004",
                                    "3": "Fighting",
                                    "4": "Acclaim Entertainment",
                                    "5": "0.15",
                                    "6": "0.11",
                                    "7": "0.0",
                                    "8": "0.04",
                                    "9": "0.3",
                                    "10": "55.0",
                                    "11": "24.0",
                                    "12": "6.1",
                                    "13": "7.0",
                                    "14": "Acclaim",
                                    "15": "T"
                                },
                                {
                                    "0": "Dead or Alive Xtreme 2",
                                    "1": "X360",
                                    "2": "2006",
                                    "3": "Sports",
                                    "4": "Tecmo Koei",
                                    "5": "0.15",
                                    "6": "0.02",
                                    "7": "0.06",
                                    "8": "0.02",
                                    "9": "0.25",
                                    "10": "53.0",
                                    "11": "46.0",
                                    "12": "6.7",
                                    "13": "42.0",
                                    "14": "Team Ninja",
                                    "15": "M"
                                },
                                {
                                    "0": "Mahjongg Mysteries: Ancient Egypt",
                                    "1": "DS",
                                    "2": "2010",
                                    "3": "Puzzle",
                                    "4": "Avanquest",
                                    "5": "0.07",
                                    "6": "0.11",
                                    "7": "0.0",
                                    "8": "0.02",
                                    "9": "0.2",
                                    "10": "NULL",
                                    "11": "NULL",
                                    "12": "NULL",
                                    "13": "NULL",
                                    "14": "NULL",
                                    "15": "NULL"
                                },
                                {
                                    "0": "Tak and the Power of Juju",
                                    "1": "PS2",
                                    "2": "2003",
                                    "3": "Platform",
                                    "4": "THQ",
                                    "5": "0.56",
                                    "6": "0.44",
                                    "7": "0.0",
                                    "8": "0.15",
                                    "9": "1.15",
                                    "10": "68.0",
                                    "11": "28.0",
                                    "12": "9",
                                    "13": "28.0",
                                    "14": "Avalanche Software",
                                    "15": "E"
                                },
                                {
                                    "0": "Ferrari F355 Challenge",
                                    "1": "PS2",
                                    "2": "2002",
                                    "3": "Racing",
                                    "4": "Sony Computer Entertainment",
                                    "5": "0.03",
                                    "6": "0.02",
                                    "7": "0.0",
                                    "8": "0.01",
                                    "9": "0.05",
                                    "10": "70.0",
                                    "11": "14.0",
                                    "12": "4.4",
                                    "13": "5.0",
                                    "14": "Sega AM2",
                                    "15": "E"
                                },
                                {
                                    "0": "Power Spike Pro Beach Volleyball",
                                    "1": "PS",
                                    "2": "2000",
                                    "3": "Sports",
                                    "4": "Infogrames",
                                    "5": "0.03",
                                    "6": "0.02",
                                    "7": "0.0",
                                    "8": "0.0",
                                    "9": "0.05",
                                    "10": "48.0",
                                    "11": "10.0",
                                    "12": "tbd",
                                    "13": "NULL",
                                    "14": "Carapace",
                                    "15": "E"
                                },
                                {
                                    "0": "Buzz Lightyear of Star Command",
                                    "1": "PS",
                                    "2": "2000",
                                    "3": "Platform",
                                    "4": "Activision",
                                    "5": "0.35",
                                    "6": "0.24",
                                    "7": "0.0",
                                    "8": "0.04",
                                    "9": "0.63",
                                    "10": "54.0",
                                    "11": "10.0",
                                    "12": "5.3",
                                    "13": "4.0",
                                    "14": "Traveller's Tales",
                                    "15": "E"
                                },
                                {
                                    "0": "Pirates of the Caribbean: Dead Man's Chest",
                                    "1": "DS",
                                    "2": "2006",
                                    "3": "Adventure",
                                    "4": "Disney Interactive Studios",
                                    "5": "0.23",
                                    "6": "0.01",
                                    "7": "0.0",
                                    "8": "0.02",
                                    "9": "0.26",
                                    "10": "63.0",
                                    "11": "11.0",
                                    "12": "8.6",
                                    "13": "7.0",
                                    "14": "Amaze Entertainment",
                                    "15": "T"
                                },
                                {
                                    "0": "Motor Trend presents Lotus Challenge",
                                    "1": "XB",
                                    "2": "2003",
                                    "3": "Racing",
                                    "4": "Xicat Interactive",
                                    "5": "0.02",
                                    "6": "0.01",
                                    "7": "0.0",
                                    "8": "0.0",
                                    "9": "0.03",
                                    "10": "61.0",
                                    "11": "9.0",
                                    "12": "tbd",
                                    "13": "NULL",
                                    "14": "Kuju Entertainment",
                                    "15": "E"
                                },
                                {
                                    "0": "Rec Room Games",
                                    "1": "Wii",
                                    "2": "2009",
                                    "3": "Sports",
                                    "4": "Destineer",
                                    "5": "0.35",
                                    "6": "0.0",
                                    "7": "0.0",
                                    "8": "0.03",
                                    "9": "0.37",
                                    "10": "NULL",
                                    "11": "NULL",
                                    "12": "tbd",
                                    "13": "NULL",
                                    "14": "Arcade Moon",
                                    "15": "E"
                                },
                                {
                                    "0": "Disney's Chicken Little",
                                    "1": "XB",
                                    "2": "2005",
                                    "3": "Platform",
                                    "4": "Disney Interactive Studios",
                                    "5": "0.1",
                                    "6": "0.03",
                                    "7": "0.0",
                                    "8": "0.0",
                                    "9": "0.14",
                                    "10": "68.0",
                                    "11": "15.0",
                                    "12": "tbd",
                                    "13": "NULL",
                                    "14": "Avalanche Software",
                                    "15": "E10+"
                                },
                                {
                                    "0": "Gears of War",
                                    "1": "X360",
                                    "2": "2006",
                                    "3": "Shooter",
                                    "4": "Microsoft Game Studios",
                                    "5": "3.54",
                                    "6": "1.88",
                                    "7": "0.07",
                                    "8": "0.6",
                                    "9": "6.09",
                                    "10": "94.0",
                                    "11": "88.0",
                                    "12": "8.3",
                                    "13": "2295.0",
                                    "14": "Epic Games",
                                    "15": "M"
                                },
                                {
                                    "0": "Disney Sports Skateboarding",
                                    "1": "GC",
                                    "2": "2002",
                                    "3": "Sports",
                                    "4": "Konami Digital Entertainment",
                                    "5": "0.05",
                                    "6": "0.01",
                                    "7": "0.0",
                                    "8": "0.0",
                                    "9": "0.06",
                                    "10": "36.0",
                                    "11": "7.0",
                                    "12": "4.7",
                                    "13": "6.0",
                                    "14": "KCEO",
                                    "15": "E"
                                },
                                {
                                    "0": "The Lord of the Rings: Aragorn's Quest",
                                    "1": "DS",
                                    "2": "2010",
                                    "3": "Action",
                                    "4": "Warner Bros. Interactive Entertainment",
                                    "5": "0.09",
                                    "6": "0.02",
                                    "7": "0.0",
                                    "8": "0.01",
                                    "9": "0.11",
                                    "10": "NULL",
                                    "11": "NULL",
                                    "12": "tbd",
                                    "13": "NULL",
                                    "14": "Headstrong Games",
                                    "15": "E10+"
                                },
                                {
                                    "0": "MLB 09: The Show",
                                    "1": "PSP",
                                    "2": "2009",
                                    "3": "Sports",
                                    "4": "Sony Computer Entertainment",
                                    "5": "0.24",
                                    "6": "0.0",
                                    "7": "0.0",
                                    "8": "0.02",
                                    "9": "0.26",
                                    "10": "78.0",
                                    "11": "12.0",
                                    "12": "6.9",
                                    "13": "7.0",
                                    "14": "SCEA San Diego Studios",
                                    "15": "E"
                                },
                                {
                                    "0": "Viking: Battle for Asgard",
                                    "1": "X360",
                                    "2": "2008",
                                    "3": "Action",
                                    "4": "Sega",
                                    "5": "0.16",
                                    "6": "0.23",
                                    "7": "0.0",
                                    "8": "0.05",
                                    "9": "0.44",
                                    "10": "68.0",
                                    "11": "67.0",
                                    "12": "8",
                                    "13": "88.0",
                                    "14": "Creative Assembly",
                                    "15": "M"
                                },
                                {
                                    "0": "Romancing SaGa 2",
                                    "1": "SNES",
                                    "2": "1993",
                                    "3": "Role-Playing",
                                    "4": "SquareSoft",
                                    "5": "0.0",
                                    "6": "0.0",
                                    "7": "1.17",
                                    "8": "0.0",
                                    "9": "1.17",
                                    "10": "NULL",
                                    "11": "NULL",
                                    "12": "NULL",
                                    "13": "NULL",
                                    "14": "NULL",
                                    "15": "NULL"
                                },
                                {
                                    "0": "Driven",
                                    "1": "GC",
                                    "2": "2002",
                                    "3": "Racing",
                                    "4": "BAM! Entertainment",
                                    "5": "0.06",
                                    "6": "0.02",
                                    "7": "0.0",
                                    "8": "0.0",
                                    "9": "0.08",
                                    "10": "55.0",
                                    "11": "12.0",
                                    "12": "tbd",
                                    "13": "NULL",
                                    "14": "Bam Entertainment",
                                    "15": "T"
                                },
                                {
                                    "0": "Doraemon: Nobita no Kyouryuu 2006 DS",
                                    "1": "DS",
                                    "2": "2006",
                                    "3": "Role-Playing",
                                    "4": "Sega",
                                    "5": "0.0",
                                    "6": "0.0",
                                    "7": "0.05",
                                    "8": "0.0",
                                    "9": "0.05",
                                    "10": "NULL",
                                    "11": "NULL",
                                    "12": "NULL",
                                    "13": "NULL",
                                    "14": "NULL",
                                    "15": "NULL"
                                },
                                {
                                    "0": "Evolution Skateboarding",
                                    "1": "PS2",
                                    "2": "2002",
                                    "3": "Sports",
                                    "4": "Konami Digital Entertainment",
                                    "5": "0.13",
                                    "6": "0.1",
                                    "7": "0.0",
                                    "8": "0.03",
                                    "9": "0.26",
                                    "10": "44.0",
                                    "11": "14.0",
                                    "12": "6.7",
                                    "13": "9.0",
                                    "14": "Konami",
                                    "15": "T"
                                },
                                {
                                    "0": "Nicktoons: Unite!",
                                    "1": "PS2",
                                    "2": "2005",
                                    "3": "Adventure",
                                    "4": "THQ",
                                    "5": "0.34",
                                    "6": "0.01",
                                    "7": "0.0",
                                    "8": "0.06",
                                    "9": "0.41",
                                    "10": "NULL",
                                    "11": "NULL",
                                    "12": "NULL",
                                    "13": "NULL",
                                    "14": "NULL",
                                    "15": "NULL"
                                },
                                {
                                    "0": "Call of Duty Black Ops: Declassified",
                                    "1": "PSV",
                                    "2": "2012",
                                    "3": "Action",
                                    "4": "Activision",
                                    "5": "0.71",
                                    "6": "0.43",
                                    "7": "0.07",
                                    "8": "0.26",
                                    "9": "1.47",
                                    "10": "33.0",
                                    "11": "58.0",
                                    "12": "4.8",
                                    "13": "479.0",
                                    "14": "Nihilistic",
                                    "15": "M"
                                },
                                {
                                    "0": "Command & Conquer 3: Tiberium Wars",
                                    "1": "X360",
                                    "2": "2007",
                                    "3": "Strategy",
                                    "4": "Electronic Arts",
                                    "5": "0.35",
                                    "6": "0.04",
                                    "7": "0.0",
                                    "8": "0.03",
                                    "9": "0.42",
                                    "10": "NULL",
                                    "11": "NULL",
                                    "12": "NULL",
                                    "13": "NULL",
                                    "14": "NULL",
                                    "15": "NULL"
                                },
                                {
                                    "0": "Hayate no Gotoku! Ojousama Produce Daisakusen Boku Iro ni Somare! Gakkou-Hen",
                                    "1": "DS",
                                    "2": "2008",
                                    "3": "Simulation",
                                    "4": "Konami Digital Entertainment",
                                    "5": "0.0",
                                    "6": "0.0",
                                    "7": "0.04",
                                    "8": "0.0",
                                    "9": "0.04",
                                    "10": "NULL",
                                    "11": "NULL",
                                    "12": "NULL",
                                    "13": "NULL",
                                    "14": "NULL",
                                    "15": "NULL"
                                },
                                {
                                    "0": "Stronghold Crusader Extreme",
                                    "1": "PC",
                                    "2": "2008",
                                    "3": "Strategy",
                                    "4": "Gamecock",
                                    "5": "0.0",
                                    "6": "0.02",
                                    "7": "0.0",
                                    "8": "0.0",
                                    "9": "0.02",
                                    "10": "45.0",
                                    "11": "11.0",
                                    "12": "6.8",
                                    "13": "45.0",
                                    "14": "FireFly Studios",
                                    "15": "T"
                                },
                                {
                                    "0": "My First Dollhouse",
                                    "1": "DS",
                                    "2": "2010",
                                    "3": "Misc",
                                    "4": "505 Games",
                                    "5": "0.1",
                                    "6": "0.0",
                                    "7": "0.0",
                                    "8": "0.01",
                                    "9": "0.1",
                                    "10": "NULL",
                                    "11": "NULL",
                                    "12": "tbd",
                                    "13": "NULL",
                                    "14": "505 Games",
                                    "15": "E"
                                },
                                {
                                    "0": "Pokémon Yellow: Special Pikachu Edition",
                                    "1": "GB",
                                    "2": "1998",
                                    "3": "Role-Playing",
                                    "4": "Nintendo",
                                    "5": "5.89",
                                    "6": "5.04",
                                    "7": "3.12",
                                    "8": "0.59",
                                    "9": "14.64",
                                    "10": "NULL",
                                    "11": "NULL",
                                    "12": "NULL",
                                    "13": "NULL",
                                    "14": "NULL",
                                    "15": "NULL"
                                },
                                {
                                    "0": "Banjo-Tooie",
                                    "1": "N64",
                                    "2": "2000",
                                    "3": "Platform",
                                    "4": "Nintendo",
                                    "5": "0.82",
                                    "6": "0.36",
                                    "7": "0.25",
                                    "8": "0.06",
                                    "9": "1.49",
                                    "10": "NULL",
                                    "11": "NULL",
                                    "12": "NULL",
                                    "13": "NULL",
                                    "14": "NULL",
                                    "15": "NULL"
                                },
                                {
                                    "0": "BloodRayne",
                                    "1": "PS2",
                                    "2": "2002",
                                    "3": "Shooter",
                                    "4": "Universal Interactive",
                                    "5": "0.2",
                                    "6": "0.16",
                                    "7": "0.0",
                                    "8": "0.05",
                                    "9": "0.42",
                                    "10": "75.0",
                                    "11": "18.0",
                                    "12": "8.5",
                                    "13": "26.0",
                                    "14": "Terminal Reality",
                                    "15": "M"
                                },
                                {
                                    "0": "Pro Evolution Soccer 2013",
                                    "1": "PS3",
                                    "2": "2012",
                                    "3": "Sports",
                                    "4": "Konami Digital Entertainment",
                                    "5": "0.18",
                                    "6": "0.63",
                                    "7": "0.49",
                                    "8": "0.24",
                                    "9": "1.53",
                                    "10": "82.0",
                                    "11": "37.0",
                                    "12": "6.7",
                                    "13": "146.0",
                                    "14": "Konami",
                                    "15": "E"
                                },
                                {
                                    "0": "Tropico Reloaded",
                                    "1": "PC",
                                    "2": "2009",
                                    "3": "Strategy",
                                    "4": "Kalypso Media",
                                    "5": "0.0",
                                    "6": "0.02",
                                    "7": "0.0",
                                    "8": "0.0",
                                    "9": "0.02",
                                    "10": "NULL",
                                    "11": "NULL",
                                    "12": "tbd",
                                    "13": "NULL",
                                    "14": "Kalypso",
                                    "15": "T"
                                },
                                {
                                    "0": "Barbie Super Sports",
                                    "1": "PS",
                                    "2": "1999",
                                    "3": "Sports",
                                    "4": "Mattel Interactive",
                                    "5": "0.12",
                                    "6": "0.08",
                                    "7": "0.0",
                                    "8": "0.01",
                                    "9": "0.22",
                                    "10": "NULL",
                                    "11": "NULL",
                                    "12": "NULL",
                                    "13": "NULL",
                                    "14": "NULL",
                                    "15": "NULL"
                                },
                                {
                                    "0": "Battlebots: Design & Destroy",
                                    "1": "GBA",
                                    "2": "2003",
                                    "3": "Action",
                                    "4": "Majesco Entertainment",
                                    "5": "0.31",
                                    "6": "0.12",
                                    "7": "0.0",
                                    "8": "0.01",
                                    "9": "0.44",
                                    "10": "NULL",
                                    "11": "NULL",
                                    "12": "NULL",
                                    "13": "NULL",
                                    "14": "NULL",
                                    "15": "NULL"
                                },
                                {
                                    "0": "Burnout",
                                    "1": "PS2",
                                    "2": "2001",
                                    "3": "Racing",
                                    "4": "Acclaim Entertainment",
                                    "5": "0.36",
                                    "6": "0.28",
                                    "7": "0.0",
                                    "8": "0.1",
                                    "9": "0.74",
                                    "10": "79.0",
                                    "11": "25.0",
                                    "12": "7.7",
                                    "13": "33.0",
                                    "14": "Criterion Games",
                                    "15": "E"
                                },
                                {
                                    "0": "Super Robot Taisen UX",
                                    "1": "3DS",
                                    "2": "2013",
                                    "3": "Role-Playing",
                                    "4": "Namco Bandai Games",
                                    "5": "0.0",
                                    "6": "0.0",
                                    "7": "0.18",
                                    "8": "0.0",
                                    "9": "0.18",
                                    "10": "NULL",
                                    "11": "NULL",
                                    "12": "NULL",
                                    "13": "NULL",
                                    "14": "NULL",
                                    "15": "NULL"
                                },
                                {
                                    "0": "Ice Age: Dawn of the Dinosaurs",
                                    "1": "DS",
                                    "2": "2009",
                                    "3": "Action",
                                    "4": "Activision",
                                    "5": "0.2",
                                    "6": "0.15",
                                    "7": "0.0",
                                    "8": "0.04",
                                    "9": "0.38",
                                    "10": "54.0",
                                    "11": "4.0",
                                    "12": "tbd",
                                    "13": "NULL",
                                    "14": "Activision",
                                    "15": "E"
                                },
                                {
                                    "0": "Spider-Man: Web of Shadows",
                                    "1": "PS3",
                                    "2": "2008",
                                    "3": "Action",
                                    "4": "Activision",
                                    "5": "0.2",
                                    "6": "0.04",
                                    "7": "0.0",
                                    "8": "0.02",
                                    "9": "0.26",
                                    "10": "67.0",
                                    "11": "44.0",
                                    "12": "7.9",
                                    "13": "34.0",
                                    "14": "Treyarch, Shaba Games",
                                    "15": "T"
                                },
                                {
                                    "0": "NFL Street",
                                    "1": "PS2",
                                    "2": "2004",
                                    "3": "Sports",
                                    "4": "Electronic Arts",
                                    "5": "1.15",
                                    "6": "0.08",
                                    "7": "0.0",
                                    "8": "0.19",
                                    "9": "1.42",
                                    "10": "80.0",
                                    "11": "36.0",
                                    "12": "8.9",
                                    "13": "45.0",
                                    "14": "EA Tiburon",
                                    "15": "E"
                                },
                                {
                                    "0": "SOCOM: U.S. Navy SEALs Confrontation",
                                    "1": "PS3",
                                    "2": "2008",
                                    "3": "Shooter",
                                    "4": "Sony Computer Entertainment",
                                    "5": "0.94",
                                    "6": "0.16",
                                    "7": "0.02",
                                    "8": "0.13",
                                    "9": "1.25",
                                    "10": "63.0",
                                    "11": "64.0",
                                    "12": "6.9",
                                    "13": "223.0",
                                    "14": "Slant Six",
                                    "15": "M"
                                }
                            ]
                        },
                        "text/html": "<table><tr><th>name</th><th>platform</th><th>year_of_release</th><th>genre</th><th>publisher</th><th>na_sales</th><th>eu_sales</th><th>jp_sales</th><th>other_sales</th><th>global_sales</th><th>critic_score</th><th>critic_count</th><th>user_score</th><th>user_count</th><th>developer</th><th>rating</th></tr><tr><td>Shin Megami Tensei: Persona 4</td><td>PS2</td><td>2008</td><td>Role-Playing</td><td>Atlus</td><td>0.34</td><td>0.04</td><td>0.36</td><td>0.08</td><td>0.82</td><td>90.0</td><td>47.0</td><td>8.9</td><td>634.0</td><td>Atlus Co.</td><td>M</td></tr><tr><td>NCAA March Madness 08</td><td>PS2</td><td>2007</td><td>Sports</td><td>Electronic Arts</td><td>0.13</td><td>0.1</td><td>0.0</td><td>0.03</td><td>0.26</td><td>NULL</td><td>NULL</td><td>5</td><td>8.0</td><td>EA Canada</td><td>E</td></tr><tr><td>The Amazing Spider-Man (Console Version)</td><td>PS3</td><td>2012</td><td>Action</td><td>Activision</td><td>0.31</td><td>0.35</td><td>0.0</td><td>0.13</td><td>0.79</td><td>NULL</td><td>NULL</td><td>NULL</td><td>NULL</td><td>NULL</td><td>NULL</td></tr><tr><td>Tony Hawk's Pro Skater 3</td><td>XB</td><td>2002</td><td>Sports</td><td>Activision</td><td>0.34</td><td>0.18</td><td>0.0</td><td>0.02</td><td>0.55</td><td>93.0</td><td>22.0</td><td>8.4</td><td>17.0</td><td>Neversoft Entertainment</td><td>T</td></tr><tr><td>Monster Trucks Mayhem</td><td>Wii</td><td>2009</td><td>Racing</td><td>Zoo Games</td><td>0.38</td><td>0.0</td><td>0.0</td><td>0.02</td><td>0.4</td><td>NULL</td><td>NULL</td><td>tbd</td><td>NULL</td><td>Zoo Games</td><td>E</td></tr><tr><td>Pro Yaky? Spirits 6</td><td>PS3</td><td>2009</td><td>Sports</td><td>Konami Digital Entertainment</td><td>0.0</td><td>0.0</td><td>0.15</td><td>0.0</td><td>0.15</td><td>NULL</td><td>NULL</td><td>NULL</td><td>NULL</td><td>NULL</td><td>NULL</td></tr><tr><td>Tom Clancy's Rainbow Six 3: Black Arrow</td><td>XB</td><td>2004</td><td>Shooter</td><td>Ubisoft</td><td>0.99</td><td>0.12</td><td>0.0</td><td>0.02</td><td>1.13</td><td>84.0</td><td>55.0</td><td>8.6</td><td>14.0</td><td>Ubisoft Montreal</td><td>M</td></tr><tr><td>Famista 64</td><td>N64</td><td>NULL</td><td>Sports</td><td>Namco Bandai Games</td><td>0.0</td><td>0.0</td><td>0.17</td><td>0.03</td><td>0.2</td><td>NULL</td><td>NULL</td><td>NULL</td><td>NULL</td><td>NULL</td><td>NULL</td></tr><tr><td>Ride</td><td>PS4</td><td>2015</td><td>Racing</td><td>Milestone S.r.l.</td><td>0.04</td><td>0.13</td><td>0.03</td><td>0.03</td><td>0.22</td><td>66.0</td><td>30.0</td><td>7</td><td>47.0</td><td>Milestone S.r.l</td><td>E</td></tr><tr><td>Test Drive Unlimited</td><td>X360</td><td>2006</td><td>Racing</td><td>Atari</td><td>0.23</td><td>0.04</td><td>0.02</td><td>0.02</td><td>0.32</td><td>82.0</td><td>69.0</td><td>8</td><td>86.0</td><td>Eden Studios</td><td>E10+</td></tr><tr><td>R-Type Delta</td><td>PS</td><td>1998</td><td>Shooter</td><td>Irem Software Engineering</td><td>0.01</td><td>0.01</td><td>0.0</td><td>0.0</td><td>0.03</td><td>NULL</td><td>NULL</td><td>NULL</td><td>NULL</td><td>NULL</td><td>NULL</td></tr><tr><td>Ratatouille</td><td>PC</td><td>2007</td><td>Action</td><td>THQ</td><td>0.01</td><td>0.01</td><td>0.0</td><td>0.0</td><td>0.03</td><td>NULL</td><td>NULL</td><td>7.9</td><td>9.0</td><td>Asobo Studio</td><td>E</td></tr><tr><td>DJ Hero</td><td>PS2</td><td>2009</td><td>Misc</td><td>Activision</td><td>0.1</td><td>0.02</td><td>0.0</td><td>0.2</td><td>0.32</td><td>87.0</td><td>4.0</td><td>6.4</td><td>5.0</td><td>FreeStyleGames</td><td>T</td></tr><tr><td>Whiplash</td><td>XB</td><td>2003</td><td>Racing</td><td>Eidos Interactive</td><td>0.04</td><td>0.01</td><td>0.0</td><td>0.0</td><td>0.06</td><td>68.0</td><td>28.0</td><td>tbd</td><td>NULL</td><td>Crystal Dynamics</td><td>T</td></tr><tr><td>NBA</td><td>PSP</td><td>2005</td><td>Sports</td><td>Sony Computer Entertainment</td><td>0.2</td><td>0.0</td><td>0.0</td><td>0.02</td><td>0.21</td><td>57.0</td><td>25.0</td><td>6.9</td><td>14.0</td><td>989 Sports</td><td>E</td></tr><tr><td>YoKai Watch Dance: Just Dance Special Version</td><td>WiiU</td><td>2015</td><td>Misc</td><td>Level 5</td><td>0.0</td><td>0.0</td><td>0.03</td><td>0.0</td><td>0.03</td><td>NULL</td><td>NULL</td><td>NULL</td><td>NULL</td><td>NULL</td><td>NULL</td></tr><tr><td>Thomas and Friends: Steaming around Sodor</td><td>3DS</td><td>2015</td><td>Action</td><td>Avanquest Software</td><td>0.0</td><td>0.02</td><td>0.0</td><td>0.0</td><td>0.02</td><td>NULL</td><td>NULL</td><td>tbd</td><td>NULL</td><td>Avanquest Software</td><td>NULL</td></tr><tr><td>Samurai Warriors 4: Empires</td><td>PS4</td><td>2015</td><td>Action</td><td>Tecmo Koei</td><td>0.02</td><td>0.01</td><td>0.06</td><td>0.01</td><td>0.1</td><td>71.0</td><td>29.0</td><td>6.5</td><td>15.0</td><td>Omega Force</td><td>T</td></tr><tr><td>Deus Ex: Invisible War</td><td>XB</td><td>2003</td><td>Shooter</td><td>Eidos Interactive</td><td>0.25</td><td>0.07</td><td>0.0</td><td>0.01</td><td>0.33</td><td>84.0</td><td>50.0</td><td>7.6</td><td>37.0</td><td>Ion Storm</td><td>M</td></tr><tr><td>Do-Konjou Shougakussei: Bon Bita - Hadaka no Choujou Ketsusen!! Bita vs. Dokuro Dei!</td><td>DS</td><td>2010</td><td>Action</td><td>Namco Bandai Games</td><td>0.0</td><td>0.0</td><td>0.04</td><td>0.0</td><td>0.04</td><td>NULL</td><td>NULL</td><td>NULL</td><td>NULL</td><td>NULL</td><td>NULL</td></tr><tr><td>Satisfashion</td><td>DS</td><td>2010</td><td>Misc</td><td>Destineer</td><td>0.05</td><td>0.0</td><td>0.0</td><td>0.0</td><td>0.06</td><td>NULL</td><td>NULL</td><td>NULL</td><td>NULL</td><td>NULL</td><td>NULL</td></tr><tr><td>ZooCube</td><td>GBA</td><td>2002</td><td>Puzzle</td><td>Acclaim Entertainment</td><td>0.03</td><td>0.01</td><td>0.0</td><td>0.0</td><td>0.05</td><td>71.0</td><td>11.0</td><td>tbd</td><td>NULL</td><td>PuzzleKings</td><td>E</td></tr><tr><td>The Godfather II</td><td>PS3</td><td>2009</td><td>Action</td><td>Electronic Arts</td><td>0.41</td><td>0.21</td><td>0.01</td><td>0.1</td><td>0.74</td><td>67.0</td><td>53.0</td><td>7.2</td><td>50.0</td><td>EA Redwood Shores</td><td>M</td></tr><tr><td>Texas Hold 'Em Poker DS</td><td>DS</td><td>2005</td><td>Misc</td><td>Majesco Entertainment</td><td>0.03</td><td>0.0</td><td>0.0</td><td>0.0</td><td>0.04</td><td>NULL</td><td>NULL</td><td>tbd</td><td>NULL</td><td>Skyworks Technologies</td><td>E</td></tr><tr><td>Magic Encyclopedia: Moonlight</td><td>DS</td><td>2010</td><td>Misc</td><td>Foreign Media Games</td><td>0.0</td><td>0.01</td><td>0.0</td><td>0.0</td><td>0.01</td><td>NULL</td><td>NULL</td><td>NULL</td><td>NULL</td><td>NULL</td><td>NULL</td></tr><tr><td>Ookiku Furikabutte: Honto no Ace ni Nareru kamo</td><td>DS</td><td>2007</td><td>Sports</td><td>Marvelous Interactive</td><td>0.0</td><td>0.0</td><td>0.03</td><td>0.0</td><td>0.03</td><td>NULL</td><td>NULL</td><td>NULL</td><td>NULL</td><td>NULL</td><td>NULL</td></tr><tr><td>Nobunaga no Yabou: Souzou</td><td>PS3</td><td>2013</td><td>Strategy</td><td>Tecmo Koei</td><td>0.0</td><td>0.0</td><td>0.19</td><td>0.0</td><td>0.19</td><td>NULL</td><td>NULL</td><td>NULL</td><td>NULL</td><td>NULL</td><td>NULL</td></tr><tr><td>Mace Griffin: Bounty Hunter</td><td>PS2</td><td>2003</td><td>Shooter</td><td>Electronic Arts</td><td>0.09</td><td>0.07</td><td>0.0</td><td>0.02</td><td>0.19</td><td>62.0</td><td>19.0</td><td>8.3</td><td>7.0</td><td>Warthog</td><td>M</td></tr><tr><td>Wolfenstein 3D</td><td>GBA</td><td>2002</td><td>Shooter</td><td>BAM! Entertainment</td><td>0.12</td><td>0.04</td><td>0.0</td><td>0.0</td><td>0.17</td><td>57.0</td><td>9.0</td><td>6</td><td>7.0</td><td>Stalker Entertainment</td><td>M</td></tr><tr><td>Ace Combat 5: The Unsung War</td><td>PS2</td><td>2004</td><td>Simulation</td><td>Sony Computer Entertainment Europe</td><td>0.88</td><td>0.34</td><td>0.32</td><td>0.18</td><td>1.71</td><td>84.0</td><td>57.0</td><td>9.1</td><td>81.0</td><td>Namco</td><td>T</td></tr><tr><td>Madden NFL 2001</td><td>PS2</td><td>2000</td><td>Sports</td><td>Electronic Arts</td><td>1.19</td><td>0.07</td><td>0.05</td><td>0.2</td><td>1.5</td><td>91.0</td><td>25.0</td><td>7.7</td><td>7.0</td><td>EA Sports</td><td>E</td></tr><tr><td>Mad Max (2015)</td><td>XOne</td><td>2015</td><td>Action</td><td>Warner Bros. Interactive Entertainment</td><td>0.28</td><td>0.16</td><td>0.0</td><td>0.04</td><td>0.48</td><td>NULL</td><td>NULL</td><td>NULL</td><td>NULL</td><td>NULL</td><td>NULL</td></tr><tr><td>Scooby-Doo! Night of 100 Frights</td><td>GC</td><td>2002</td><td>Platform</td><td>THQ</td><td>0.23</td><td>0.06</td><td>0.0</td><td>0.01</td><td>0.3</td><td>NULL</td><td>NULL</td><td>NULL</td><td>NULL</td><td>NULL</td><td>NULL</td></tr><tr><td>Elf: The Movie</td><td>GBA</td><td>2004</td><td>Action</td><td>Crave Entertainment</td><td>0.1</td><td>0.04</td><td>0.0</td><td>0.0</td><td>0.15</td><td>NULL</td><td>NULL</td><td>tbd</td><td>NULL</td><td>Human Soft</td><td>E</td></tr><tr><td>The Adventures of Tintin: The Game</td><td>Wii</td><td>2011</td><td>Action</td><td>Ubisoft</td><td>0.12</td><td>0.16</td><td>0.0</td><td>0.04</td><td>0.32</td><td>NULL</td><td>NULL</td><td>5.7</td><td>6.0</td><td>Ubisoft Montpellier</td><td>E10+</td></tr><tr><td>S.C.A.R.S</td><td>N64</td><td>1998</td><td>Racing</td><td>Ubisoft</td><td>0.05</td><td>0.01</td><td>0.0</td><td>0.0</td><td>0.06</td><td>NULL</td><td>NULL</td><td>NULL</td><td>NULL</td><td>NULL</td><td>NULL</td></tr><tr><td>Angry Birds: Rio</td><td>PC</td><td>2011</td><td>Puzzle</td><td>Focus Home Interactive</td><td>0.0</td><td>0.07</td><td>0.0</td><td>0.02</td><td>0.09</td><td>NULL</td><td>NULL</td><td>tbd</td><td>NULL</td><td>Rovio Mobile, Rovio Entertainment</td><td>E</td></tr><tr><td>Rugby Challenge 3</td><td>PS3</td><td>2016</td><td>Sports</td><td>Alternative Software</td><td>0.0</td><td>0.02</td><td>0.0</td><td>0.0</td><td>0.03</td><td>NULL</td><td>NULL</td><td>tbd</td><td>NULL</td><td>Wicked Witch Software</td><td>NULL</td></tr><tr><td>Hometown Story</td><td>3DS</td><td>2013</td><td>Role-Playing</td><td>Rising Star Games</td><td>0.23</td><td>0.12</td><td>0.04</td><td>0.04</td><td>0.43</td><td>47.0</td><td>14.0</td><td>6</td><td>24.0</td><td>TOYBOX</td><td>E10+</td></tr><tr><td>Total Immersion Racing</td><td>XB</td><td>2002</td><td>Racing</td><td>Empire Interactive</td><td>0.02</td><td>0.01</td><td>0.0</td><td>0.0</td><td>0.02</td><td>60.0</td><td>7.0</td><td>tbd</td><td>NULL</td><td>Razorworks Studios</td><td>E</td></tr><tr><td>Open Season</td><td>Wii</td><td>2006</td><td>Platform</td><td>Ubisoft</td><td>0.06</td><td>0.0</td><td>0.0</td><td>0.01</td><td>0.07</td><td>49.0</td><td>5.0</td><td>5.6</td><td>7.0</td><td>Ubisoft</td><td>E10+</td></tr><tr><td>Shin Megami Tensei: Devil Survivor 2</td><td>3DS</td><td>2015</td><td>Role-Playing</td><td>Atlus</td><td>0.0</td><td>0.02</td><td>0.09</td><td>0.0</td><td>0.12</td><td>NULL</td><td>NULL</td><td>NULL</td><td>NULL</td><td>NULL</td><td>NULL</td></tr><tr><td>Pressure Cooker</td><td>2600</td><td>1982</td><td>Action</td><td>Activision</td><td>0.14</td><td>0.01</td><td>0.0</td><td>0.0</td><td>0.15</td><td>NULL</td><td>NULL</td><td>NULL</td><td>NULL</td><td>NULL</td><td>NULL</td></tr><tr><td>Namco Museum</td><td>PS2</td><td>2001</td><td>Misc</td><td>Namco Bandai Games</td><td>1.73</td><td>0.07</td><td>0.0</td><td>0.02</td><td>1.82</td><td>72.0</td><td>9.0</td><td>6</td><td>5.0</td><td>Mass Media</td><td>E</td></tr><tr><td>Rooms: The Main Building</td><td>DS</td><td>2010</td><td>Adventure</td><td>Nintendo</td><td>0.1</td><td>0.34</td><td>0.01</td><td>0.05</td><td>0.5</td><td>56.0</td><td>23.0</td><td>tbd</td><td>NULL</td><td>HandMade Game</td><td>E</td></tr><tr><td>Alien: Isolation</td><td>PC</td><td>2014</td><td>Shooter</td><td>Sega</td><td>0.0</td><td>0.14</td><td>0.0</td><td>0.01</td><td>0.14</td><td>81.0</td><td>41.0</td><td>8.4</td><td>1588.0</td><td>Creative Assembly</td><td>M</td></tr><tr><td>Mario &amp; Sonic at the Rio 2016 Olympic Games</td><td>3DS</td><td>2016</td><td>Action</td><td>Nintendo</td><td>0.05</td><td>0.21</td><td>0.25</td><td>0.02</td><td>0.53</td><td>NULL</td><td>NULL</td><td>NULL</td><td>NULL</td><td>NULL</td><td>NULL</td></tr><tr><td>Jewel Match 2</td><td>DS</td><td>2012</td><td>Puzzle</td><td>Easy Interactive</td><td>0.0</td><td>0.02</td><td>0.0</td><td>0.0</td><td>0.02</td><td>NULL</td><td>NULL</td><td>NULL</td><td>NULL</td><td>NULL</td><td>NULL</td></tr><tr><td>Gold's Gym: Cardio Workout</td><td>Wii</td><td>2008</td><td>Sports</td><td>Ubisoft</td><td>1.1</td><td>0.03</td><td>0.06</td><td>0.09</td><td>1.28</td><td>NULL</td><td>NULL</td><td>8.4</td><td>13.0</td><td>Ubisoft</td><td>E</td></tr><tr><td>PopCap Arcade Vol 1</td><td>X360</td><td>2007</td><td>Puzzle</td><td>PopCap Games</td><td>0.04</td><td>0.0</td><td>0.0</td><td>0.0</td><td>0.04</td><td>NULL</td><td>NULL</td><td>tbd</td><td>NULL</td><td>PopCap</td><td>E</td></tr><tr><td>Hasbro Family Game Night Fun Pack</td><td>Wii</td><td>2011</td><td>Misc</td><td>Electronic Arts</td><td>0.1</td><td>0.0</td><td>0.0</td><td>0.01</td><td>0.11</td><td>NULL</td><td>NULL</td><td>tbd</td><td>NULL</td><td>Virtuos</td><td>E</td></tr><tr><td>NBA Ballers</td><td>PS2</td><td>2004</td><td>Sports</td><td>Midway Games</td><td>0.81</td><td>0.63</td><td>0.0</td><td>0.21</td><td>1.66</td><td>83.0</td><td>44.0</td><td>9.2</td><td>19.0</td><td>Midway</td><td>E</td></tr><tr><td>Irotoridori no Sekai: World's End Re-Birth</td><td>PSV</td><td>2015</td><td>Action</td><td>HuneX</td><td>0.0</td><td>0.0</td><td>0.01</td><td>0.0</td><td>0.01</td><td>NULL</td><td>NULL</td><td>NULL</td><td>NULL</td><td>NULL</td><td>NULL</td></tr><tr><td>Woody Woodpecker in Crazy Castle 5</td><td>GBA</td><td>2002</td><td>Platform</td><td>Kemco</td><td>0.01</td><td>0.0</td><td>0.0</td><td>0.0</td><td>0.01</td><td>NULL</td><td>NULL</td><td>NULL</td><td>NULL</td><td>NULL</td><td>NULL</td></tr><tr><td>Alundra</td><td>PS</td><td>1997</td><td>Role-Playing</td><td>Psygnosis</td><td>0.13</td><td>0.09</td><td>0.0</td><td>0.01</td><td>0.23</td><td>86.0</td><td>9.0</td><td>9</td><td>41.0</td><td>Matrix Software</td><td>T</td></tr><tr><td>Shonen Jump's Shaman King: Master of Spirits</td><td>GBA</td><td>2004</td><td>Role-Playing</td><td>Konami Digital Entertainment</td><td>0.1</td><td>0.04</td><td>0.0</td><td>0.0</td><td>0.14</td><td>NULL</td><td>NULL</td><td>NULL</td><td>NULL</td><td>NULL</td><td>NULL</td></tr><tr><td>MySims</td><td>DS</td><td>2007</td><td>Simulation</td><td>Electronic Arts</td><td>1.58</td><td>1.59</td><td>0.08</td><td>0.41</td><td>3.66</td><td>67.0</td><td>15.0</td><td>7.3</td><td>13.0</td><td>TOSE</td><td>E</td></tr><tr><td>Brave: The Video Game</td><td>DS</td><td>2012</td><td>Action</td><td>Disney Interactive Studios</td><td>0.0</td><td>0.01</td><td>0.0</td><td>0.0</td><td>0.02</td><td>NULL</td><td>NULL</td><td>tbd</td><td>NULL</td><td>Behaviour Interactive</td><td>E10+</td></tr><tr><td>Winning Post 7 2013</td><td>PS3</td><td>2013</td><td>Sports</td><td>Tecmo Koei</td><td>0.0</td><td>0.0</td><td>0.05</td><td>0.0</td><td>0.05</td><td>NULL</td><td>NULL</td><td>NULL</td><td>NULL</td><td>NULL</td><td>NULL</td></tr><tr><td>God Eater Off Shot: Soma Shikkuzaru-hen Twin Pack &amp; Animation Vol.4</td><td>PS4</td><td>2016</td><td>Action</td><td>Namco Bandai Games</td><td>0.0</td><td>0.0</td><td>0.02</td><td>0.0</td><td>0.02</td><td>NULL</td><td>NULL</td><td>NULL</td><td>NULL</td><td>NULL</td><td>NULL</td></tr><tr><td>Broken Sword 5: The Serpent's Curse</td><td>XOne</td><td>2015</td><td>Adventure</td><td>Revolution Software</td><td>0.0</td><td>0.02</td><td>0.0</td><td>0.0</td><td>0.02</td><td>77.0</td><td>12.0</td><td>7.2</td><td>11.0</td><td>Revolution Software</td><td>T</td></tr><tr><td>Showdown: Legends of Wrestling</td><td>PS2</td><td>2004</td><td>Fighting</td><td>Acclaim Entertainment</td><td>0.15</td><td>0.11</td><td>0.0</td><td>0.04</td><td>0.3</td><td>55.0</td><td>24.0</td><td>6.1</td><td>7.0</td><td>Acclaim</td><td>T</td></tr><tr><td>Dead or Alive Xtreme 2</td><td>X360</td><td>2006</td><td>Sports</td><td>Tecmo Koei</td><td>0.15</td><td>0.02</td><td>0.06</td><td>0.02</td><td>0.25</td><td>53.0</td><td>46.0</td><td>6.7</td><td>42.0</td><td>Team Ninja</td><td>M</td></tr><tr><td>Mahjongg Mysteries: Ancient Egypt</td><td>DS</td><td>2010</td><td>Puzzle</td><td>Avanquest</td><td>0.07</td><td>0.11</td><td>0.0</td><td>0.02</td><td>0.2</td><td>NULL</td><td>NULL</td><td>NULL</td><td>NULL</td><td>NULL</td><td>NULL</td></tr><tr><td>Tak and the Power of Juju</td><td>PS2</td><td>2003</td><td>Platform</td><td>THQ</td><td>0.56</td><td>0.44</td><td>0.0</td><td>0.15</td><td>1.15</td><td>68.0</td><td>28.0</td><td>9</td><td>28.0</td><td>Avalanche Software</td><td>E</td></tr><tr><td>Ferrari F355 Challenge</td><td>PS2</td><td>2002</td><td>Racing</td><td>Sony Computer Entertainment</td><td>0.03</td><td>0.02</td><td>0.0</td><td>0.01</td><td>0.05</td><td>70.0</td><td>14.0</td><td>4.4</td><td>5.0</td><td>Sega AM2</td><td>E</td></tr><tr><td>Power Spike Pro Beach Volleyball</td><td>PS</td><td>2000</td><td>Sports</td><td>Infogrames</td><td>0.03</td><td>0.02</td><td>0.0</td><td>0.0</td><td>0.05</td><td>48.0</td><td>10.0</td><td>tbd</td><td>NULL</td><td>Carapace</td><td>E</td></tr><tr><td>Buzz Lightyear of Star Command</td><td>PS</td><td>2000</td><td>Platform</td><td>Activision</td><td>0.35</td><td>0.24</td><td>0.0</td><td>0.04</td><td>0.63</td><td>54.0</td><td>10.0</td><td>5.3</td><td>4.0</td><td>Traveller's Tales</td><td>E</td></tr><tr><td>Pirates of the Caribbean: Dead Man's Chest</td><td>DS</td><td>2006</td><td>Adventure</td><td>Disney Interactive Studios</td><td>0.23</td><td>0.01</td><td>0.0</td><td>0.02</td><td>0.26</td><td>63.0</td><td>11.0</td><td>8.6</td><td>7.0</td><td>Amaze Entertainment</td><td>T</td></tr><tr><td>Motor Trend presents Lotus Challenge</td><td>XB</td><td>2003</td><td>Racing</td><td>Xicat Interactive</td><td>0.02</td><td>0.01</td><td>0.0</td><td>0.0</td><td>0.03</td><td>61.0</td><td>9.0</td><td>tbd</td><td>NULL</td><td>Kuju Entertainment</td><td>E</td></tr><tr><td>Rec Room Games</td><td>Wii</td><td>2009</td><td>Sports</td><td>Destineer</td><td>0.35</td><td>0.0</td><td>0.0</td><td>0.03</td><td>0.37</td><td>NULL</td><td>NULL</td><td>tbd</td><td>NULL</td><td>Arcade Moon</td><td>E</td></tr><tr><td>Disney's Chicken Little</td><td>XB</td><td>2005</td><td>Platform</td><td>Disney Interactive Studios</td><td>0.1</td><td>0.03</td><td>0.0</td><td>0.0</td><td>0.14</td><td>68.0</td><td>15.0</td><td>tbd</td><td>NULL</td><td>Avalanche Software</td><td>E10+</td></tr><tr><td>Gears of War</td><td>X360</td><td>2006</td><td>Shooter</td><td>Microsoft Game Studios</td><td>3.54</td><td>1.88</td><td>0.07</td><td>0.6</td><td>6.09</td><td>94.0</td><td>88.0</td><td>8.3</td><td>2295.0</td><td>Epic Games</td><td>M</td></tr><tr><td>Disney Sports Skateboarding</td><td>GC</td><td>2002</td><td>Sports</td><td>Konami Digital Entertainment</td><td>0.05</td><td>0.01</td><td>0.0</td><td>0.0</td><td>0.06</td><td>36.0</td><td>7.0</td><td>4.7</td><td>6.0</td><td>KCEO</td><td>E</td></tr><tr><td>The Lord of the Rings: Aragorn's Quest</td><td>DS</td><td>2010</td><td>Action</td><td>Warner Bros. Interactive Entertainment</td><td>0.09</td><td>0.02</td><td>0.0</td><td>0.01</td><td>0.11</td><td>NULL</td><td>NULL</td><td>tbd</td><td>NULL</td><td>Headstrong Games</td><td>E10+</td></tr><tr><td>MLB 09: The Show</td><td>PSP</td><td>2009</td><td>Sports</td><td>Sony Computer Entertainment</td><td>0.24</td><td>0.0</td><td>0.0</td><td>0.02</td><td>0.26</td><td>78.0</td><td>12.0</td><td>6.9</td><td>7.0</td><td>SCEA San Diego Studios</td><td>E</td></tr><tr><td>Viking: Battle for Asgard</td><td>X360</td><td>2008</td><td>Action</td><td>Sega</td><td>0.16</td><td>0.23</td><td>0.0</td><td>0.05</td><td>0.44</td><td>68.0</td><td>67.0</td><td>8</td><td>88.0</td><td>Creative Assembly</td><td>M</td></tr><tr><td>Romancing SaGa 2</td><td>SNES</td><td>1993</td><td>Role-Playing</td><td>SquareSoft</td><td>0.0</td><td>0.0</td><td>1.17</td><td>0.0</td><td>1.17</td><td>NULL</td><td>NULL</td><td>NULL</td><td>NULL</td><td>NULL</td><td>NULL</td></tr><tr><td>Driven</td><td>GC</td><td>2002</td><td>Racing</td><td>BAM! Entertainment</td><td>0.06</td><td>0.02</td><td>0.0</td><td>0.0</td><td>0.08</td><td>55.0</td><td>12.0</td><td>tbd</td><td>NULL</td><td>Bam Entertainment</td><td>T</td></tr><tr><td>Doraemon: Nobita no Kyouryuu 2006 DS</td><td>DS</td><td>2006</td><td>Role-Playing</td><td>Sega</td><td>0.0</td><td>0.0</td><td>0.05</td><td>0.0</td><td>0.05</td><td>NULL</td><td>NULL</td><td>NULL</td><td>NULL</td><td>NULL</td><td>NULL</td></tr><tr><td>Evolution Skateboarding</td><td>PS2</td><td>2002</td><td>Sports</td><td>Konami Digital Entertainment</td><td>0.13</td><td>0.1</td><td>0.0</td><td>0.03</td><td>0.26</td><td>44.0</td><td>14.0</td><td>6.7</td><td>9.0</td><td>Konami</td><td>T</td></tr><tr><td>Nicktoons: Unite!</td><td>PS2</td><td>2005</td><td>Adventure</td><td>THQ</td><td>0.34</td><td>0.01</td><td>0.0</td><td>0.06</td><td>0.41</td><td>NULL</td><td>NULL</td><td>NULL</td><td>NULL</td><td>NULL</td><td>NULL</td></tr><tr><td>Call of Duty Black Ops: Declassified</td><td>PSV</td><td>2012</td><td>Action</td><td>Activision</td><td>0.71</td><td>0.43</td><td>0.07</td><td>0.26</td><td>1.47</td><td>33.0</td><td>58.0</td><td>4.8</td><td>479.0</td><td>Nihilistic</td><td>M</td></tr><tr><td>Command &amp; Conquer 3: Tiberium Wars</td><td>X360</td><td>2007</td><td>Strategy</td><td>Electronic Arts</td><td>0.35</td><td>0.04</td><td>0.0</td><td>0.03</td><td>0.42</td><td>NULL</td><td>NULL</td><td>NULL</td><td>NULL</td><td>NULL</td><td>NULL</td></tr><tr><td>Hayate no Gotoku! Ojousama Produce Daisakusen Boku Iro ni Somare! Gakkou-Hen</td><td>DS</td><td>2008</td><td>Simulation</td><td>Konami Digital Entertainment</td><td>0.0</td><td>0.0</td><td>0.04</td><td>0.0</td><td>0.04</td><td>NULL</td><td>NULL</td><td>NULL</td><td>NULL</td><td>NULL</td><td>NULL</td></tr><tr><td>Stronghold Crusader Extreme</td><td>PC</td><td>2008</td><td>Strategy</td><td>Gamecock</td><td>0.0</td><td>0.02</td><td>0.0</td><td>0.0</td><td>0.02</td><td>45.0</td><td>11.0</td><td>6.8</td><td>45.0</td><td>FireFly Studios</td><td>T</td></tr><tr><td>My First Dollhouse</td><td>DS</td><td>2010</td><td>Misc</td><td>505 Games</td><td>0.1</td><td>0.0</td><td>0.0</td><td>0.01</td><td>0.1</td><td>NULL</td><td>NULL</td><td>tbd</td><td>NULL</td><td>505 Games</td><td>E</td></tr><tr><td>Pokémon Yellow: Special Pikachu Edition</td><td>GB</td><td>1998</td><td>Role-Playing</td><td>Nintendo</td><td>5.89</td><td>5.04</td><td>3.12</td><td>0.59</td><td>14.64</td><td>NULL</td><td>NULL</td><td>NULL</td><td>NULL</td><td>NULL</td><td>NULL</td></tr><tr><td>Banjo-Tooie</td><td>N64</td><td>2000</td><td>Platform</td><td>Nintendo</td><td>0.82</td><td>0.36</td><td>0.25</td><td>0.06</td><td>1.49</td><td>NULL</td><td>NULL</td><td>NULL</td><td>NULL</td><td>NULL</td><td>NULL</td></tr><tr><td>BloodRayne</td><td>PS2</td><td>2002</td><td>Shooter</td><td>Universal Interactive</td><td>0.2</td><td>0.16</td><td>0.0</td><td>0.05</td><td>0.42</td><td>75.0</td><td>18.0</td><td>8.5</td><td>26.0</td><td>Terminal Reality</td><td>M</td></tr><tr><td>Pro Evolution Soccer 2013</td><td>PS3</td><td>2012</td><td>Sports</td><td>Konami Digital Entertainment</td><td>0.18</td><td>0.63</td><td>0.49</td><td>0.24</td><td>1.53</td><td>82.0</td><td>37.0</td><td>6.7</td><td>146.0</td><td>Konami</td><td>E</td></tr><tr><td>Tropico Reloaded</td><td>PC</td><td>2009</td><td>Strategy</td><td>Kalypso Media</td><td>0.0</td><td>0.02</td><td>0.0</td><td>0.0</td><td>0.02</td><td>NULL</td><td>NULL</td><td>tbd</td><td>NULL</td><td>Kalypso</td><td>T</td></tr><tr><td>Barbie Super Sports</td><td>PS</td><td>1999</td><td>Sports</td><td>Mattel Interactive</td><td>0.12</td><td>0.08</td><td>0.0</td><td>0.01</td><td>0.22</td><td>NULL</td><td>NULL</td><td>NULL</td><td>NULL</td><td>NULL</td><td>NULL</td></tr><tr><td>Battlebots: Design &amp; Destroy</td><td>GBA</td><td>2003</td><td>Action</td><td>Majesco Entertainment</td><td>0.31</td><td>0.12</td><td>0.0</td><td>0.01</td><td>0.44</td><td>NULL</td><td>NULL</td><td>NULL</td><td>NULL</td><td>NULL</td><td>NULL</td></tr><tr><td>Burnout</td><td>PS2</td><td>2001</td><td>Racing</td><td>Acclaim Entertainment</td><td>0.36</td><td>0.28</td><td>0.0</td><td>0.1</td><td>0.74</td><td>79.0</td><td>25.0</td><td>7.7</td><td>33.0</td><td>Criterion Games</td><td>E</td></tr><tr><td>Super Robot Taisen UX</td><td>3DS</td><td>2013</td><td>Role-Playing</td><td>Namco Bandai Games</td><td>0.0</td><td>0.0</td><td>0.18</td><td>0.0</td><td>0.18</td><td>NULL</td><td>NULL</td><td>NULL</td><td>NULL</td><td>NULL</td><td>NULL</td></tr><tr><td>Ice Age: Dawn of the Dinosaurs</td><td>DS</td><td>2009</td><td>Action</td><td>Activision</td><td>0.2</td><td>0.15</td><td>0.0</td><td>0.04</td><td>0.38</td><td>54.0</td><td>4.0</td><td>tbd</td><td>NULL</td><td>Activision</td><td>E</td></tr><tr><td>Spider-Man: Web of Shadows</td><td>PS3</td><td>2008</td><td>Action</td><td>Activision</td><td>0.2</td><td>0.04</td><td>0.0</td><td>0.02</td><td>0.26</td><td>67.0</td><td>44.0</td><td>7.9</td><td>34.0</td><td>Treyarch, Shaba Games</td><td>T</td></tr><tr><td>NFL Street</td><td>PS2</td><td>2004</td><td>Sports</td><td>Electronic Arts</td><td>1.15</td><td>0.08</td><td>0.0</td><td>0.19</td><td>1.42</td><td>80.0</td><td>36.0</td><td>8.9</td><td>45.0</td><td>EA Tiburon</td><td>E</td></tr><tr><td>SOCOM: U.S. Navy SEALs Confrontation</td><td>PS3</td><td>2008</td><td>Shooter</td><td>Sony Computer Entertainment</td><td>0.94</td><td>0.16</td><td>0.02</td><td>0.13</td><td>1.25</td><td>63.0</td><td>64.0</td><td>6.9</td><td>223.0</td><td>Slant Six</td><td>M</td></tr></table>"
                    },
                    "metadata": {}
                }
            ],
            "execution_count": 22
        }
    ]
}