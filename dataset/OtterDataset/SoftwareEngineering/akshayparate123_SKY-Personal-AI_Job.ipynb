{
 "cells": [
  {
   "cell_type": "code",
   "execution_count": 35,
   "id": "9feea3b6-c764-4c49-a939-90629bf252ec",
   "metadata": {},
   "outputs": [],
   "source": [
    "#imports\n",
    "import pandas as pd\n",
    "import numpy as np\n",
    "import requests\n",
    "import time\n",
    "from selenium import webdriver\n",
    "from selenium.webdriver.common.by import By\n",
    "from selenium.webdriver.common.keys import Keys\n",
    "from selenium.webdriver.chrome.options import Options\n",
    "# Set Chrome options (optional)\n",
    "chrome_options = Options()\n",
    "# chrome_options.add_argument(\"--headless\")  # Run browser in headless mode\n",
    "\n",
    "# Initialize the Chrome WebDriver\n",
    "driver = webdriver.Chrome(options=chrome_options)\n",
    "#using selenium to launch and scroll through the Google Jobs page\n",
    "url = \"https://www.google.com/search?q=data+scientist+jobs+new+york+in+the+last+1+week\"\n",
    "driver.get(url)\n"
   ]
  },
  {
   "cell_type": "code",
   "execution_count": null,
   "id": "cb3eb974-efc3-47f9-8dd2-53af3c16c933",
   "metadata": {},
   "outputs": [],
   "source": []
  },
  {
   "cell_type": "code",
   "execution_count": 36,
   "id": "2c6a7846-7657-4222-b5e2-9b2d687bc366",
   "metadata": {},
   "outputs": [],
   "source": [
    "from bs4 import BeautifulSoup\n",
    "html_content = driver.page_source\n",
    "soup = BeautifulSoup(html_content, 'html.parser')\n",
    "page_text = soup.get_text()"
   ]
  },
  {
   "cell_type": "code",
   "execution_count": 37,
   "id": "361265e8-78c9-45dd-ad86-71c099db658e",
   "metadata": {},
   "outputs": [],
   "source": [
    "jobsDiv = soup.find('div', attrs = {'class':'crJ18e'}).find_all(\"div\")"
   ]
  },
  {
   "cell_type": "code",
   "execution_count": 38,
   "id": "3781f219-f3e3-481e-aef1-8066d9b89706",
   "metadata": {},
   "outputs": [],
   "source": [
    "def get_jobs_url(jobsDiv):\n",
    "    for links in jobsDiv[1:]:\n",
    "        if links.getText() == \"Jobs\":\n",
    "            if len(links.find_all('a', href=True)) == 0:\n",
    "                pass\n",
    "            else:\n",
    "                split_str = (str(links.find_all(\"a\")[0]).split(\" \"))\n",
    "                for st in split_str:\n",
    "                    if \"href\" in st:\n",
    "                        url = \"https://www.google.com\"+st.split('\"')[1].replace(\"amp;\",\"\")\n",
    "                        return url\n",
    "                    else:\n",
    "                        pass\n",
    "    return \"\""
   ]
  },
  {
   "cell_type": "code",
   "execution_count": 39,
   "id": "69d242c4-73b6-41ad-b573-fc0a289dd009",
   "metadata": {},
   "outputs": [
    {
     "name": "stdout",
     "output_type": "stream",
     "text": [
      "https://www.google.com/search?sca_esv=a070f1a21c6d59ce&q=data+scientist+jobs+new+york+in+the+last+1+week&udm=8&fbs=AEQNm0Aa4sjWe7Rqy32pFwRj0UkWMsfQD7WCPyiYA6ksw1JggZiiKYT754MEbxpHmevMqD1TqahQSGkMlmB-a2LAltd1l19qFLyrE_uwfMSVXZ9siPqziIbo8YB_lOU8DCTSAZTvOMoESzoOAnhYsVjIfvWBdueqqVXvCVAZh5pITj9S0zFvl32q6YxS3bVLG6VvRBAI8wyk&sa=X&ved=2ahUKEwiNz5rlpZSKAxVnTWcHHQONMkwQs6gLegQILhAB\n"
     ]
    }
   ],
   "source": [
    "# driver.quit()\n",
    "url = get_jobs_url(jobsDiv)\n",
    "driver = webdriver.Chrome(options=chrome_options)\n",
    "driver.get(url)\n",
    "print(url)"
   ]
  },
  {
   "cell_type": "code",
   "execution_count": 40,
   "id": "238eafa7-75cd-4167-863f-21eeb52bc9af",
   "metadata": {},
   "outputs": [
    {
     "data": {
      "text/plain": [
       "10"
      ]
     },
     "execution_count": 40,
     "metadata": {},
     "output_type": "execute_result"
    }
   ],
   "source": [
    "html_content = driver.page_source\n",
    "soup = BeautifulSoup(html_content, 'html.parser')\n",
    "div = soup.find_all('div', attrs = {'class':'EimVGf'})\n",
    "len(div)"
   ]
  },
  {
   "cell_type": "code",
   "execution_count": null,
   "id": "2f5105a0-1d6e-44ea-b696-7c9e2ef9c6ef",
   "metadata": {},
   "outputs": [],
   "source": []
  },
  {
   "cell_type": "code",
   "execution_count": 41,
   "id": "480676d5-e651-40fc-aab8-01a6145a5fc8",
   "metadata": {},
   "outputs": [],
   "source": [
    "time.sleep(5)\n",
    "driver.execute_script(\"window.scrollTo(0, document.body.scrollHeight);\")\n",
    "time.sleep(2)\n",
    "driver.execute_script(\"window.scrollTo(0, document.body.scrollHeight);\")\n",
    "time.sleep(2)"
   ]
  },
  {
   "cell_type": "code",
   "execution_count": 8,
   "id": "ee80667d-d500-4b05-b385-fd0500785e0a",
   "metadata": {},
   "outputs": [
    {
     "data": {
      "text/plain": [
       "10"
      ]
     },
     "execution_count": 8,
     "metadata": {},
     "output_type": "execute_result"
    }
   ],
   "source": [
    "html_content = driver.page_source\n",
    "soup = BeautifulSoup(html_content, 'html.parser')\n",
    "job_detail_div = soup.find_all('div', attrs = {'class':'EimVGf'})\n",
    "len(div)"
   ]
  },
  {
   "cell_type": "code",
   "execution_count": 9,
   "id": "278cb64b-678b-4dc3-8e45-2ac9d79b66aa",
   "metadata": {},
   "outputs": [],
   "source": [
    "details_link = []\n",
    "for div in job_detail_div:\n",
    "    details_link.append(str(div.find_all(\"a\")[0]).split(\" \")[2].split('\"')[1].replace(\"amp;\",\"\"))"
   ]
  },
  {
   "cell_type": "code",
   "execution_count": 10,
   "id": "10a7d6ea-ff1c-473d-89fe-9bd7574f62db",
   "metadata": {},
   "outputs": [],
   "source": [
    "def monitor_length_of_all_list(job_details_dict):\n",
    "    lengthList = []\n",
    "    for value in list(job_details_dict.values()):\n",
    "        lengthList.append((len(value)))\n",
    "    max_length = max(lengthList)\n",
    "    for key in list(job_details_dict.keys()):\n",
    "        if len(job_details_dict[key]) < max_length:\n",
    "            job_details_dict[key].append(\"\")\n",
    "        else:\n",
    "            pass\n",
    "    return job_details_dict"
   ]
  },
  {
   "cell_type": "code",
   "execution_count": 11,
   "id": "d2ee92ce-3a74-41ef-b368-affc87493663",
   "metadata": {},
   "outputs": [
    {
     "name": "stdout",
     "output_type": "stream",
     "text": [
      "0) Data Analytics Engineering Graduate Internship - Summer 2025\n",
      "1) Data Analytics Engineering Graduate Internship - Summer 2025\n",
      "2) Data Analytics Engineering Graduate Internship - Summer 2025\n",
      "3) Summer Internship Program 2025 - Data Analyst, Data Science and Visualization Intern\n",
      "4) Data Science Graduate Internship - Summer 2025\n",
      "5) Associate data science\n",
      "6) Business Data Scientist Intern, PhD, Summer 2025\n",
      "7) 2025 PhD Graduate - AI/ML Data Scientist/Engineer - Analytic Capabilities\n",
      "8) 2025 Summer Intern: Associate Data Scientist\n",
      "9) 2025 Summer Internship Program - Data Scientist - Internal Consulting\n"
     ]
    }
   ],
   "source": [
    "job_details_dict = {\"job_header\":[],\"job_sites\":[],'Job highlights':[],'Qualifications':[],'Benefits':[],'Responsibilities':[],'Job description':[]}\n",
    "for idx,link in enumerate(details_link[:10]):\n",
    "    driver = webdriver.Chrome(options=chrome_options)\n",
    "    driver.get(link)\n",
    "    time.sleep(5)\n",
    "    html_content = driver.page_source\n",
    "    soup = BeautifulSoup(html_content, 'html.parser')\n",
    "    job_header = soup.find('div', attrs = {'class':'JmvMcb'}).get_text(separator=\"@@@###@@@\").split(\"@@@###@@@\")\n",
    "    print(\"{}) {}\".format(idx,job_header[0]))\n",
    "    job_sites = soup.find('div', attrs = {'class':'gwBWYe'}).get_text(separator=\"@@@###@@@\").split(\"@@@###@@@\")\n",
    "    job_details_header = soup.find('div', attrs = {'class':'NgUYpe'})\n",
    "    job_details_header = [i.get_text() for i in job_details_header.find_all([\"h1\",\"h2\",\"h3\",\"h4\",\"h5\"])]\n",
    "    job_details_text = soup.find('div', attrs = {'class':'NgUYpe'}).get_text(separator=\"@@@###@@@\").replace(\"@@@###@@@\",\"\\n\")\n",
    "    for i in job_details_header:\n",
    "        job_details_text = job_details_text.replace(i,\"<###HEADER###>\",1)\n",
    "    job_details_dict[\"job_header\"].append(job_header)\n",
    "    job_details_dict[\"job_sites\"].append(job_sites)\n",
    "    sep = job_details_text.split(\"<###HEADER###>\")[1:]\n",
    "    for s,j in zip(sep,job_details_header):\n",
    "        if j in list(job_details_dict.keys()):\n",
    "            job_details_dict[j].append(s)\n",
    "        # else:\n",
    "        #     job_details_dict[j] = [s]\n",
    "    job_details_dict = monitor_length_of_all_list(job_details_dict)\n",
    "driver.quit()"
   ]
  },
  {
   "cell_type": "code",
   "execution_count": 12,
   "id": "25283b74-f6f8-4ae8-a7a1-c05e1f9cd610",
   "metadata": {},
   "outputs": [
    {
     "data": {
      "text/plain": [
       "['Job highlights',\n",
       " 'Qualifications',\n",
       " 'Benefits',\n",
       " 'Responsibilities',\n",
       " 'Job description']"
      ]
     },
     "execution_count": 12,
     "metadata": {},
     "output_type": "execute_result"
    }
   ],
   "source": [
    "job_details_header"
   ]
  },
  {
   "cell_type": "code",
   "execution_count": 13,
   "id": "1330b26a-4708-4143-af9d-95f9a64d3a83",
   "metadata": {},
   "outputs": [
    {
     "data": {
      "text/plain": [
       "{'job_header': [['Data Analytics Engineering Graduate Internship - Summer 2025',\n",
       "   'CVS Health • New York, NY •  via LinkedIn',\n",
       "   '17 hours ago',\n",
       "   'Full-time',\n",
       "   'Health insurance'],\n",
       "  ['Data Analytics Engineering Graduate Internship - Summer 2025',\n",
       "   'CVS Health • New York, NY •  via LinkedIn',\n",
       "   '17 hours ago',\n",
       "   'Full-time',\n",
       "   'Health insurance'],\n",
       "  ['Data Analytics Engineering Graduate Internship - Summer 2025',\n",
       "   'CVS Health • New York, NY •  via LinkedIn',\n",
       "   '17 hours ago',\n",
       "   'Full-time',\n",
       "   'Health insurance'],\n",
       "  ['Summer Internship Program 2025 - Data Analyst, Data Science and Visualization Intern',\n",
       "   'ICE • New York, NY •  via LinkedIn',\n",
       "   '2 days ago',\n",
       "   'Internship'],\n",
       "  ['Data Science Graduate Internship - Summer 2025',\n",
       "   'CVS Health • New York, NY •  via CVS Health',\n",
       "   '5 days ago',\n",
       "   'Full-time',\n",
       "   'Health insurance'],\n",
       "  ['Associate data science',\n",
       "   'JPMorgan Chase Bank, N.A. • New York, NY •  via Talent.com',\n",
       "   '4 days ago',\n",
       "   '135K–155K a year',\n",
       "   'Full-time'],\n",
       "  ['Business Data Scientist Intern, PhD, Summer 2025',\n",
       "   'Google • New York, NY •  via Indeed',\n",
       "   '85K–109K a year',\n",
       "   'Internship',\n",
       "   'Health insurance'],\n",
       "  ['2025 PhD Graduate - AI/ML Data Scientist/Engineer - Analytic Capabilities',\n",
       "   'Johns Hopkins Applied Physics Lab • New York, NY •  via GrabJobs',\n",
       "   '4 days ago',\n",
       "   'Full-time',\n",
       "   'Health insurance'],\n",
       "  ['2025 Summer Intern: Associate Data Scientist',\n",
       "   'SPECTRUM • Stamford, CT •  via Spectrum - Jobs',\n",
       "   'Internship'],\n",
       "  ['2025 Summer Internship Program - Data Scientist - Internal Consulting',\n",
       "   'UBS • Weehawken, NJ •  via Glassdoor',\n",
       "   'Internship']],\n",
       " 'job_sites': [['Apply on LinkedIn  ',\n",
       "   'Apply on Orion Talent  ',\n",
       "   'Apply on Glassdoor  ',\n",
       "   'Apply on Indeed  ',\n",
       "   'Apply on SimplyHired  ',\n",
       "   'Apply on Rise AI Job Search | Tech Startup Jobs, Remote Jobs Hiring Now  ',\n",
       "   'Apply on Adzuna  ',\n",
       "   'Apply on Talentify  '],\n",
       "  ['Apply on LinkedIn  ',\n",
       "   'Apply on Orion Talent  ',\n",
       "   'Apply on Glassdoor  ',\n",
       "   'Apply on Indeed  ',\n",
       "   'Apply on SimplyHired  ',\n",
       "   'Apply on Rise AI Job Search | Tech Startup Jobs, Remote Jobs Hiring Now  ',\n",
       "   'Apply on Adzuna  ',\n",
       "   'Apply on Talentify  '],\n",
       "  ['Apply on LinkedIn  ',\n",
       "   'Apply on Orion Talent  ',\n",
       "   'Apply on Glassdoor  ',\n",
       "   'Apply on Indeed  ',\n",
       "   'Apply on SimplyHired  ',\n",
       "   'Apply on Rise AI Job Search | Tech Startup Jobs, Remote Jobs Hiring Now  ',\n",
       "   'Apply on Adzuna  ',\n",
       "   'Apply on Talentify  '],\n",
       "  ['Apply on LinkedIn  ',\n",
       "   'Apply on Diversity Jobs  ',\n",
       "   'Apply directly on Intercontinental Exchange Holdings, Inc. - ICE',\n",
       "   'Apply on Karkidi  ',\n",
       "   'Apply on Indeed  ',\n",
       "   'Apply on Glassdoor  ',\n",
       "   'Apply on Rise AI Job Search | Tech Startup Jobs, Remote Jobs Hiring Now  ',\n",
       "   'Apply on Jooble  '],\n",
       "  ['Apply on CVS Health  ',\n",
       "   'Apply on ZipRecruiter  ',\n",
       "   'Apply on Towards AI Jobs  ',\n",
       "   'Apply on Jobtrees  ',\n",
       "   'Apply on Talentify  ',\n",
       "   'Apply on Fairygodboss  ',\n",
       "   'Apply on Jobilize  '],\n",
       "  ['Apply on Talent.com  ', 'Apply on Karkidi  '],\n",
       "  ['Apply on Indeed  ', 'Apply on SimplyHired  '],\n",
       "  ['Apply directly on GrabJobs'],\n",
       "  ['Apply on Spectrum - Jobs  ',\n",
       "   'Apply on ZipRecruiter  ',\n",
       "   'Apply directly on The Muse',\n",
       "   'Apply on LinkedIn  ',\n",
       "   'Apply on Monster  ',\n",
       "   'Apply on Built In NYC  ',\n",
       "   'Apply on Diversity Jobs  ',\n",
       "   'Apply on BeBee  '],\n",
       "  ['Apply on Glassdoor  ', 'Apply on Companies  ', 'Apply on Jobilize  ']],\n",
       " 'Job highlights': ['\\nIdentified by Google from the original job post\\n',\n",
       "  '\\nIdentified by Google from the original job post\\n',\n",
       "  '\\nIdentified by Google from the original job post\\n',\n",
       "  '\\nIdentified by Google from the original job post\\n',\n",
       "  '\\nIdentified by Google from the original job post\\n',\n",
       "  '\\nIdentified by Google from the original job post\\n',\n",
       "  '',\n",
       "  '\\nIdentified by Google from the original job post\\n',\n",
       "  '\\nIdentified by Google from the original job post\\n',\n",
       "  '\\nIdentified by Google from the original job post\\n'],\n",
       " 'Qualifications': ['\\nMeet educational requirements (see Education section)\\nSQL\\nPython\\nSpark/PySpark\\nETL/ELT and building high-volume data pipelines\\nWorking in cloud platforms such as GCP, AWS or Azure\\nInternship or work experience in a related field\\nCurrently pursuing a Master’s degree program with an expected graduation date between December 2025 and August 2026\\n5 more items(s)\\n',\n",
       "  '\\nMeet educational requirements (see Education section)\\nSQL\\nPython\\nSpark/PySpark\\nETL/ELT and building high-volume data pipelines\\nWorking in cloud platforms such as GCP, AWS or Azure\\nInternship or work experience in a related field\\nCurrently pursuing a Master’s degree program with an expected graduation date between December 2025 and August 2026\\n5 more items(s)\\n',\n",
       "  '\\nMeet educational requirements (see Education section)\\nSQL\\nPython\\nSpark/PySpark\\nETL/ELT and building high-volume data pipelines\\nWorking in cloud platforms such as GCP, AWS or Azure\\nInternship or work experience in a related field\\nCurrently pursuing a Master’s degree program with an expected graduation date between December 2025 and August 2026\\n5 more items(s)\\n',\n",
       "  '\\nCurrently enrolled in a degree program at an accredited university and be at least advancing to their junior year of study\\nSolid knowledge of Data Science and Data Visualization\\nPython, Relational Databases, SQL\\nStrong analytical and written/oral communication skills\\nStrong programming and computer skills in Linux environment\\n2 more items(s)\\n',\n",
       "  '\\nMeet educational requirements (see Education section)\\nKnowledge of data science techniques including statistical analysis and modeling\\nExperience in R or Python\\nExperience in SQL\\nInternship or work experience in a related field\\nCurrently pursuing a Master’s degree program with an expected graduation date between December 2025 and August 2026\\n3 more items(s)\\n',\n",
       "  \"\\nNo prior experience in financial markets required\\nFocus on Deep Learning, Reinforcement Learning, Natural Language Processing, Speech / Voice Analytics, Time Series, Computer Vision, Cryptography, and Interpretability, and Ethics and Fairness of AI Required qualifications, capabilities and skills\\nEnrolled in a Ph.D\\nor 2 year Master's degree program in math, science, engineering, computer science or other quantitative fields with an expected graduation date of December 2025 through August 2026\\nKnowledge of machine learning / data science theory, techniques and tools\\nKnowledge and proficiency in Python\\nExcellent analytical, quantitative and problem solving skills and demonstrated research ability\\nExperience with modern machine learning tools such as PyTorch and XGBoost\\nExperience with data tools such as Hadoop, PySpark and SQL\\nExperience with Java, C++, C#, Rust an additional bonus\\nKnowledge in Reinforcement, Meta, or Transfer learning\\nIf you are pursuing a 4+1 or 1-year Master's program, we encourage you to apply for the Data Science Summer Analyst program\\n9 more items(s)\\n\",\n",
       "  '',\n",
       "  '\\nHave a PhD in Computer Science, Mathematics, Engineering, or related technical field\\nHave maintained a minimum 3.0/4.0 GPA\\nAre able to obtain a Top Secret level security clearance\\nIf selected, a government security clearance investigation will need to be conducted and the requirements met for access to classified information\\nEligibility requirements include U.S. citizenship\\n2 more items(s)\\n',\n",
       "  \"\\nAssigned mentor and interactions with senior executives to help you accomplish practical goals you can add to your résumé\\nYou are a motivated and driven student who is currently enrolled in a full-time bachelor's degree program with a GPA of 3.0 or higher, and you must have a graduation date between December 2025 and June 2026\\nFor this position, you need to bring your bachelor’s degree in a STEM related major (Science, Technology, Engineering or Math) and a desire to learn how you can impact data science modeling projects at Spectrum\\nThis is a learning-intensive program designed to give you essential business insights and hands-on experience in your field\\nSkills and experience required for this role include:\\u202f\\nEffective problem-solving skills with attention to detail and data accuracy\\nAbility to travel locally to Spectrum Intern development events and activities throughout the program\\nAbility to work 100% in office\\nAnalytical skills\\nCommunication Skills - Verbal and Written\\nProficiency in Microsoft Office: Word, Excel, PowerPoint, Access\\n8 more items(s)\\n\",\n",
       "  '\\nis graduating between December 2025 and June 2026 and has a cumulative GPA of 3.0 and above\\nhas experience working in a project-based environment\\nhas values that align with ours: hard-working, trustworthy, dedicated and collaborative\\nis a strategic thinker with strong communication skills\\nis motivated to work in a business with high demands and tight deadlines\\nWe’re looking for someone who’s curious and wants to thrive in a business that never stops moving\\n3 more items(s)\\n'],\n",
       " 'Benefits': ['\\nWe offer challenging opportunities for you to learn and grow professionally\\nThe other 2 days each week will be working remotely from home, office, or another location of your choice\\nThe hourly rate is $55 per hour with 40 hours/week, no work on July 4th (company holiday), and two days of paid leave\\nHealth care cost savings\\nThis includes participation in Curricular Practical Training (CPT), Optional Practical Training (OPT), and F-1 Visa programs\\nThe Typical Pay Range For This Role Is\\n$55.00 - $55.00\\n4 more items(s)\\n',\n",
       "  '\\nWe offer challenging opportunities for you to learn and grow professionally\\nThe other 2 days each week will be working remotely from home, office, or another location of your choice\\nThe hourly rate is $55 per hour with 40 hours/week, no work on July 4th (company holiday), and two days of paid leave\\nHealth care cost savings\\nThis includes participation in Curricular Practical Training (CPT), Optional Practical Training (OPT), and F-1 Visa programs\\nThe Typical Pay Range For This Role Is\\n$55.00 - $55.00\\n4 more items(s)\\n',\n",
       "  '\\nWe offer challenging opportunities for you to learn and grow professionally\\nThe other 2 days each week will be working remotely from home, office, or another location of your choice\\nThe hourly rate is $55 per hour with 40 hours/week, no work on July 4th (company holiday), and two days of paid leave\\nHealth care cost savings\\nThis includes participation in Curricular Practical Training (CPT), Optional Practical Training (OPT), and F-1 Visa programs\\nThe Typical Pay Range For This Role Is\\n$55.00 - $55.00\\n4 more items(s)\\n',\n",
       "  '\\nThe expected hourly rate for this role is $30 per hour\\n',\n",
       "  '\\nWe offer challenging opportunities for you to learn and grow professionally\\nThe other 2 days each week will be working remotely from home, office, or another location of your choice\\nThe hourly rate is $55 per hour with 40 hours/ week, no work on July 4th (company holiday), and two days of paid leave\\nHealth care cost savings\\nThis includes participation in Curricular Practical Training (CPT), Optional Practical Training (OPT), and F-1 Visa programs\\n$55.00 - $55.00\\n3 more items(s)\\n',\n",
       "  '\\nYour professional growth and development will be supported throughout the internship program via project work related to your academic and professional interests, mentorship, engaging speaker series with senior leaders and more\\nBase Pay / Salary Palo Alto,CA $135,000.00 - $155,000\\n00 / year; New York,NY $135,000.00 - $155,000.00 / year\\n',\n",
       "  '',\n",
       "  '\\nOur employees enjoy generous benefits, including a robust education assistance program, unparalleled retirement contributions, and a healthy work/life balance\\n',\n",
       "  '\\nPaid, full-time work experience that offers exposure to business culture\\nOpportunities to gain new skills and elevate the ones you already have in a dynamic, forward-thinking business setting\\nHands-on experience at an industry-leading telecommunications company\\nThat’s why we believe in offering a comprehensive pay and benefits package that rewards employees for their contributions to our success, supports all aspects of their well-being, and delivers real value at every stage of life\\n1 more items(s)\\n',\n",
       "  '\\nDuring your 10-week paid internship, you’ll work with our experts and learn about the industry, our clients and our firm\\nYou’ll have plenty of opportunities to develop new skills and make contacts along the way\\nIf you like challenges, enjoy learning and want to work where no two days are the same, this program is for you\\n'],\n",
       " 'Responsibilities': ['\\nYou will be aligned to projects to lead or contribute to while also participating in networking, development, and career exploration activities\\nCustomer experience and behavior change\\nAnalyze complex data structures from disparate sources to develop robust data pipelines to organize, collect and standardize data that helps generate insights and addresses analytical needs\\nWrite ETL (Extract/Transform/Load) processes and develop tools for real-time and offline analytic processing\\nCollaborate with data science and product teams to collect user stories, translate into technical specifications, and implement data transformation, algorithms and models into automated processes\\nDevelop and implement technical efforts to design, build, and deploy GCP (Google Cloud Platform) applications at the direction of architects, including large-scale data processing, computationally intensive statistical modeling, and advanced analytics\\nTroubleshoot incidents, identify root cause, fix and document problems, and help implement preventive measures\\n4 more items(s)\\nMore job highlights\\n',\n",
       "  '\\nYou will be aligned to projects to lead or contribute to while also participating in networking, development, and career exploration activities\\nCustomer experience and behavior change\\nAnalyze complex data structures from disparate sources to develop robust data pipelines to organize, collect and standardize data that helps generate insights and addresses analytical needs\\nWrite ETL (Extract/Transform/Load) processes and develop tools for real-time and offline analytic processing\\nCollaborate with data science and product teams to collect user stories, translate into technical specifications, and implement data transformation, algorithms and models into automated processes\\nDevelop and implement technical efforts to design, build, and deploy GCP (Google Cloud Platform) applications at the direction of architects, including large-scale data processing, computationally intensive statistical modeling, and advanced analytics\\nTroubleshoot incidents, identify root cause, fix and document problems, and help implement preventive measures\\n4 more items(s)\\nMore job highlights\\n',\n",
       "  '\\nYou will be aligned to projects to lead or contribute to while also participating in networking, development, and career exploration activities\\nCustomer experience and behavior change\\nAnalyze complex data structures from disparate sources to develop robust data pipelines to organize, collect and standardize data that helps generate insights and addresses analytical needs\\nWrite ETL (Extract/Transform/Load) processes and develop tools for real-time and offline analytic processing\\nCollaborate with data science and product teams to collect user stories, translate into technical specifications, and implement data transformation, algorithms and models into automated processes\\nDevelop and implement technical efforts to design, build, and deploy GCP (Google Cloud Platform) applications at the direction of architects, including large-scale data processing, computationally intensive statistical modeling, and advanced analytics\\nTroubleshoot incidents, identify root cause, fix and document problems, and help implement preventive measures\\n4 more items(s)\\nMore job highlights\\n',\n",
       "  '\\nYou’ll have the chance to build meaningful professional relationships and sharpen your interpersonal skills, all while making an impact\\nThe Data Analyst, Data Science and Visualization Intern will work on System Performance Visualization and Dashboards\\nUnderstand trading systems data and workflow\\nDevelop effective ways of storing/querying data\\nCreate dashboards visualizing trading and/or performance data\\nContribute individually or as a team member to support functional areas, analyze business processes, and achieve assigned by an experienced manager\\nEngage with business partners and contribute to projects that drive significant value\\nPerform other related duties as assigned\\n5 more items(s)\\nMore job highlights\\n',\n",
       "  '\\nYou will be aligned to projects to lead or contribute to while also participating in networking, development, and career exploration activities\\nCustomer experience and behavior change\\nWork with analytics teams and our business partners to understand their goals and objectives\\nUse programming skills, predictive/statistical modeling and analysis to analyze large volumes of structured and unstructured data, determine analytical approaches, and evaluate potential outcomes\\nGenerate insights connecting analytical results with business problems/goals and present recommendations to internal teams and business partners\\nHelp design programs/campaigns that improve the quality of health care, lower costs, and help our members and customers achieve their best health\\n3 more items(s)\\nMore job highlights\\n',\n",
       "  '\\nExplore cutting-edge research in partnership with leading academic institutions, applying the latest Machine Learning techniques to J.P\\nCollaborate directly with traders and salespeople to drive the data-led transformation of our businesses\\nMore job highlights\\n',\n",
       "  '',\n",
       "  '\\nCollaborate with dedicated colleagues in developing solutions that align with national priorities\\nHarness your expertise in areas such as Artificial Intelligence, Machine Learning, Data Science, Cybersecurity, Software Engineering & DevOps, Signal and Image Processing, and Mathematics\\nMore job highlights\\n',\n",
       "  '\\nAs a Spectrum Intern, you’ll be essential to two teams — your respective department and your Intern peer group\\nYour role as a Customer Operations Intern will: Support the Digital & Credit Services team with data science modeling projects\\nMore job highlights\\n',\n",
       "  \"\\npropose ideas on how we can make improvements to our business; take these ideas and bring them to life by developing Proof of concepts (PoCs) or prototypes\\nproblem solve and craft actionable solutions across transformation/integration projects\\npresent your findings internally by transforming complex information into clear takeaways and recommendations\\nManage your project’s timelines, stakeholders, risks etc\\nDevelop your business acumen and consulting skillset to help advise internal clients across the firm\\nBuild and maintain strong relationships within the Solutions team, Group Functions and Business Divisions\\nYou'll be given mentors along the way and will have the chance to get to know some of the most senior members of our teams\\n4 more items(s)\\nMore job highlights\\n\"],\n",
       " 'Job description': [\"\\nYou’ve invested a lot of time and energy in your education. Now you want the chance to make your mark. We offer challenging opportunities for you to learn and grow professionally. In our programs, you’ll be immersed in a culture of continuous improvement, with the goal of changing health care for the better.\\nPosition Summary\\nThis program is a 11-week full-time opportunity that provides real work\\n...\\n\\xa0experience with a team in your business area. You will be aligned to projects to lead or contribute to while also participating in networking, development, and career exploration activities. Our Corporate Interns can apply for future full-time roles during the program and have an increased likelihood to receive an offer for a post-graduation role.\\nThe summer internship program is from May 28th – August 8th 2025.\\nCVS Health follows a 3 day in office (generally Tuesday, Wednesday, and Thursday) hybrid work model providing office-based colleagues the ability to flex between working in the office and working from home based on the work you need to accomplish. The other 2 days each week will be working remotely from home, office, or another location of your choice.\\nOur office locations are currently expected to be: New York, NY, Wellesley (Boston), MA, Hartford, CT, and Irving (Dallas), TX . A housing stipend may be provided, based on eligibility, and interns will be given the opportunity to connect with each other prior to the start of the program to coordinate housing if desired.\\nThe hourly rate is $55 per hour with 40 hours/week, no work on July 4th (company holiday), and two days of paid leave. Please disregard the range listed below.\\nWho We Are\\nWe are Americas leading health solutions company delivering care in ways no one else can. Our purpose is simple and clear: Bringing our heart to every moment of your health. We are working to transform health care through innovations that make quality care more accessible, easier to use, less expensive and patient focused. Working together and organizing around the individual, we are pioneering a new approach to total health that puts people at the heart.\\nAbout The Business Area\\nAnalytics & Behavior Change is an innovation engine supporting the entire CVS Health organization (Aetna health care business, retail, and pharmacy services) by embedding deep insights into key decision processes and focusing on our biggest, most complex problems. We partner with business leaders throughout the organization using advanced analytics tools, modeling, and machine learning to generate insights by using data to create meaningful impact. We're focused on creating new opportunities that drive change across the enterprise in areas such as:\\n• Customer experience and behavior change\\n• Clinical trial recruitment and engagement\\n• Digital health\\n• Provider efficiency and effectiveness\\n• Patient safety\\n• Health care cost savings\\n• Clinical services/care management\\n• Fraud, waste, and abuse detection/prevention\\nAnalytics & Behavior Change has the feel of a startup within one of the nation's largest companies, and we're looking for people who are motivated by solving tough challenges to join us in transforming health care….one line of code at a time.\\nWhat You Will Do\\n• Analyze complex data structures from disparate sources to develop robust data pipelines to organize, collect and standardize data that helps generate insights and addresses analytical needs\\n• Write ETL (Extract/Transform/Load) processes and develop tools for real-time and offline analytic processing\\n• Collaborate with data science and product teams to collect user stories, translate into technical specifications, and implement data transformation, algorithms and models into automated processes\\n• Develop and implement technical efforts to design, build, and deploy GCP (Google Cloud Platform) applications at the direction of architects, including large-scale data processing, computationally intensive statistical modeling, and advanced analytics\\n• Troubleshoot incidents, identify root cause, fix and document problems, and help implement preventive measures\\nWork visa sponsorship is available for this role. This includes participation in Curricular Practical Training (CPT), Optional Practical Training (OPT), and F-1 Visa programs.\\nRequired Qualifications\\n• Meet educational requirements (see Education section)\\n• Experience with the following:\\n• SQL\\n• Python\\n• Spark/PySpark\\n• ETL/ELT and building high-volume data pipelines\\n• Working in cloud platforms such as GCP, AWS or Azure\\n• Internship or work experience in a related field\\nPreferred Qualifications\\n• Google Cloud Platform (GCP) experience is highly preferred\\n• Ability to leverage multiple tools and programming languages to analyze and manipulate data sets from disparate data sources\\n• Experience designing and optimizing queries and building data transformation/processing solutions\\n• Strong collaboration and communication skills within and across teams\\n• Strong problem-solving skills and critical thinking ability\\nEducation\\n• Currently pursuing a Master’s degree program with an expected graduation date between December 2025 and August 2026\\n• Preferred majors include Computer Science, Engineering, Information Technology/Management, Information Systems\\nPay Range\\nThe Typical Pay Range For This Role Is\\n$55.00 - $55.00\\nWhether in our pharmacies or through our health service offerings, we are pioneering a bold new approach to total health care. As health care innovators, we are making quality care affordable, accessible, simple and seamless. We await your fresh ideas, new perspectives, and the unique contributions you will make to our organization.\\nWe anticipate the application window for this opening will close on: 01/01/2025\\nQualified applicants with arrest or conviction records will be considered for employment in accordance with all federal, state and local laws.\",\n",
       "  \"\\nYou’ve invested a lot of time and energy in your education. Now you want the chance to make your mark. We offer challenging opportunities for you to learn and grow professionally. In our programs, you’ll be immersed in a culture of continuous improvement, with the goal of changing health care for the better.\\nPosition Summary\\nThis program is a 11-week full-time opportunity that provides real work\\n...\\n\\xa0experience with a team in your business area. You will be aligned to projects to lead or contribute to while also participating in networking, development, and career exploration activities. Our Corporate Interns can apply for future full-time roles during the program and have an increased likelihood to receive an offer for a post-graduation role.\\nThe summer internship program is from May 28th – August 8th 2025.\\nCVS Health follows a 3 day in office (generally Tuesday, Wednesday, and Thursday) hybrid work model providing office-based colleagues the ability to flex between working in the office and working from home based on the work you need to accomplish. The other 2 days each week will be working remotely from home, office, or another location of your choice.\\nOur office locations are currently expected to be: New York, NY, Wellesley (Boston), MA, Hartford, CT, and Irving (Dallas), TX . A housing stipend may be provided, based on eligibility, and interns will be given the opportunity to connect with each other prior to the start of the program to coordinate housing if desired.\\nThe hourly rate is $55 per hour with 40 hours/week, no work on July 4th (company holiday), and two days of paid leave. Please disregard the range listed below.\\nWho We Are\\nWe are Americas leading health solutions company delivering care in ways no one else can. Our purpose is simple and clear: Bringing our heart to every moment of your health. We are working to transform health care through innovations that make quality care more accessible, easier to use, less expensive and patient focused. Working together and organizing around the individual, we are pioneering a new approach to total health that puts people at the heart.\\nAbout The Business Area\\nAnalytics & Behavior Change is an innovation engine supporting the entire CVS Health organization (Aetna health care business, retail, and pharmacy services) by embedding deep insights into key decision processes and focusing on our biggest, most complex problems. We partner with business leaders throughout the organization using advanced analytics tools, modeling, and machine learning to generate insights by using data to create meaningful impact. We're focused on creating new opportunities that drive change across the enterprise in areas such as:\\n• Customer experience and behavior change\\n• Clinical trial recruitment and engagement\\n• Digital health\\n• Provider efficiency and effectiveness\\n• Patient safety\\n• Health care cost savings\\n• Clinical services/care management\\n• Fraud, waste, and abuse detection/prevention\\nAnalytics & Behavior Change has the feel of a startup within one of the nation's largest companies, and we're looking for people who are motivated by solving tough challenges to join us in transforming health care….one line of code at a time.\\nWhat You Will Do\\n• Analyze complex data structures from disparate sources to develop robust data pipelines to organize, collect and standardize data that helps generate insights and addresses analytical needs\\n• Write ETL (Extract/Transform/Load) processes and develop tools for real-time and offline analytic processing\\n• Collaborate with data science and product teams to collect user stories, translate into technical specifications, and implement data transformation, algorithms and models into automated processes\\n• Develop and implement technical efforts to design, build, and deploy GCP (Google Cloud Platform) applications at the direction of architects, including large-scale data processing, computationally intensive statistical modeling, and advanced analytics\\n• Troubleshoot incidents, identify root cause, fix and document problems, and help implement preventive measures\\nWork visa sponsorship is available for this role. This includes participation in Curricular Practical Training (CPT), Optional Practical Training (OPT), and F-1 Visa programs.\\nRequired Qualifications\\n• Meet educational requirements (see Education section)\\n• Experience with the following:\\n• SQL\\n• Python\\n• Spark/PySpark\\n• ETL/ELT and building high-volume data pipelines\\n• Working in cloud platforms such as GCP, AWS or Azure\\n• Internship or work experience in a related field\\nPreferred Qualifications\\n• Google Cloud Platform (GCP) experience is highly preferred\\n• Ability to leverage multiple tools and programming languages to analyze and manipulate data sets from disparate data sources\\n• Experience designing and optimizing queries and building data transformation/processing solutions\\n• Strong collaboration and communication skills within and across teams\\n• Strong problem-solving skills and critical thinking ability\\nEducation\\n• Currently pursuing a Master’s degree program with an expected graduation date between December 2025 and August 2026\\n• Preferred majors include Computer Science, Engineering, Information Technology/Management, Information Systems\\nPay Range\\nThe Typical Pay Range For This Role Is\\n$55.00 - $55.00\\nWhether in our pharmacies or through our health service offerings, we are pioneering a bold new approach to total health care. As health care innovators, we are making quality care affordable, accessible, simple and seamless. We await your fresh ideas, new perspectives, and the unique contributions you will make to our organization.\\nWe anticipate the application window for this opening will close on: 01/01/2025\\nQualified applicants with arrest or conviction records will be considered for employment in accordance with all federal, state and local laws.\",\n",
       "  \"\\nYou’ve invested a lot of time and energy in your education. Now you want the chance to make your mark. We offer challenging opportunities for you to learn and grow professionally. In our programs, you’ll be immersed in a culture of continuous improvement, with the goal of changing health care for the better.\\nPosition Summary\\nThis program is a 11-week full-time opportunity that provides real work\\n...\\n\\xa0experience with a team in your business area. You will be aligned to projects to lead or contribute to while also participating in networking, development, and career exploration activities. Our Corporate Interns can apply for future full-time roles during the program and have an increased likelihood to receive an offer for a post-graduation role.\\nThe summer internship program is from May 28th – August 8th 2025.\\nCVS Health follows a 3 day in office (generally Tuesday, Wednesday, and Thursday) hybrid work model providing office-based colleagues the ability to flex between working in the office and working from home based on the work you need to accomplish. The other 2 days each week will be working remotely from home, office, or another location of your choice.\\nOur office locations are currently expected to be: New York, NY, Wellesley (Boston), MA, Hartford, CT, and Irving (Dallas), TX . A housing stipend may be provided, based on eligibility, and interns will be given the opportunity to connect with each other prior to the start of the program to coordinate housing if desired.\\nThe hourly rate is $55 per hour with 40 hours/week, no work on July 4th (company holiday), and two days of paid leave. Please disregard the range listed below.\\nWho We Are\\nWe are Americas leading health solutions company delivering care in ways no one else can. Our purpose is simple and clear: Bringing our heart to every moment of your health. We are working to transform health care through innovations that make quality care more accessible, easier to use, less expensive and patient focused. Working together and organizing around the individual, we are pioneering a new approach to total health that puts people at the heart.\\nAbout The Business Area\\nAnalytics & Behavior Change is an innovation engine supporting the entire CVS Health organization (Aetna health care business, retail, and pharmacy services) by embedding deep insights into key decision processes and focusing on our biggest, most complex problems. We partner with business leaders throughout the organization using advanced analytics tools, modeling, and machine learning to generate insights by using data to create meaningful impact. We're focused on creating new opportunities that drive change across the enterprise in areas such as:\\n• Customer experience and behavior change\\n• Clinical trial recruitment and engagement\\n• Digital health\\n• Provider efficiency and effectiveness\\n• Patient safety\\n• Health care cost savings\\n• Clinical services/care management\\n• Fraud, waste, and abuse detection/prevention\\nAnalytics & Behavior Change has the feel of a startup within one of the nation's largest companies, and we're looking for people who are motivated by solving tough challenges to join us in transforming health care….one line of code at a time.\\nWhat You Will Do\\n• Analyze complex data structures from disparate sources to develop robust data pipelines to organize, collect and standardize data that helps generate insights and addresses analytical needs\\n• Write ETL (Extract/Transform/Load) processes and develop tools for real-time and offline analytic processing\\n• Collaborate with data science and product teams to collect user stories, translate into technical specifications, and implement data transformation, algorithms and models into automated processes\\n• Develop and implement technical efforts to design, build, and deploy GCP (Google Cloud Platform) applications at the direction of architects, including large-scale data processing, computationally intensive statistical modeling, and advanced analytics\\n• Troubleshoot incidents, identify root cause, fix and document problems, and help implement preventive measures\\nWork visa sponsorship is available for this role. This includes participation in Curricular Practical Training (CPT), Optional Practical Training (OPT), and F-1 Visa programs.\\nRequired Qualifications\\n• Meet educational requirements (see Education section)\\n• Experience with the following:\\n• SQL\\n• Python\\n• Spark/PySpark\\n• ETL/ELT and building high-volume data pipelines\\n• Working in cloud platforms such as GCP, AWS or Azure\\n• Internship or work experience in a related field\\nPreferred Qualifications\\n• Google Cloud Platform (GCP) experience is highly preferred\\n• Ability to leverage multiple tools and programming languages to analyze and manipulate data sets from disparate data sources\\n• Experience designing and optimizing queries and building data transformation/processing solutions\\n• Strong collaboration and communication skills within and across teams\\n• Strong problem-solving skills and critical thinking ability\\nEducation\\n• Currently pursuing a Master’s degree program with an expected graduation date between December 2025 and August 2026\\n• Preferred majors include Computer Science, Engineering, Information Technology/Management, Information Systems\\nPay Range\\nThe Typical Pay Range For This Role Is\\n$55.00 - $55.00\\nWhether in our pharmacies or through our health service offerings, we are pioneering a bold new approach to total health care. As health care innovators, we are making quality care affordable, accessible, simple and seamless. We await your fresh ideas, new perspectives, and the unique contributions you will make to our organization.\\nWe anticipate the application window for this opening will close on: 01/01/2025\\nQualified applicants with arrest or conviction records will be considered for employment in accordance with all federal, state and local laws.\",\n",
       "  '\\nOverview\\nJob Purpose\\nThe ICE Internship Program offers a dynamic experience that combines on-the-job training with exciting team projects, community outreach, social events, and professional development sessions. You’ll have the chance to build meaningful professional relationships and sharpen your interpersonal skills, all while making an impact.\\nThe Data Analyst, Data Science and Visualizatio\\n...\\nn Intern will work on System Performance Visualization and Dashboards.\\nResponsibilities\\n• Understand trading systems data and workflow\\n• Develop effective ways of storing/querying data\\n• Create dashboards visualizing trading and/or performance data\\n• Contribute individually or as a team member to support functional areas, analyze business processes, and achieve assigned by an experienced manager\\n• Engage with business partners and contribute to projects that drive significant value\\n• Perform other related duties as assigned\\nKnowledge And Experience\\n• Currently enrolled in a degree program at an accredited university and be at least advancing to their junior year of study\\n• Solid knowledge of Data Science and Data Visualization\\n• Python, Relational Databases, SQL\\n• Strong analytical and written/oral communication skills\\n• Strong programming and computer skills in Linux environment\\nHourly Pay Rate for New York Candidates\\nThe expected hourly rate for this role is $30 per hour.\\nInternship Program Schedule\\nInternships start on either May 12, 2025, or June 9, 2025, and run until August 1, 2025. Interns should be available to work full-time, 5 days a week, at our New York (11 Wall Street) office.\\nIntercontinental Exchange, Inc. is an Equal Opportunity and Affirmative Action Employer.\\u202f All qualified applicants will receive consideration for employment without regard to race, color, religion, gender, sexual orientation, gender identity, national origin or ancestry, age, disability or veteran status, or other protected status.',\n",
       "  \"\\nYou’ve invested a lot of time and energy in your education. Now you want the chance to make your mark. We offer challenging opportunities for you to learn and grow professionally. In our programs, you’ll be immersed in a culture of continuous improvement, with the goal of changing health care for the better.\\nPosition Summary\\nThis program is a 11-week full-time opportunity that provides real work \\n...\\nexperience with a team in your business area. You will be aligned to projects to lead or contribute to while also participating in networking, development, and career exploration activities. Our Corporate Interns can apply for future full-time roles during the program and have an increased likelihood to receive an offer for a post-graduation role.\\nThe summer internship program is from May 28th – August 8th 2025.\\nCVS Health follows a 3 day in office (generally Tuesday, Wednesday, and Thursday) hybrid work model providing office-based colleagues the ability to flex between working in the office and working from home based on the work you need to accomplish. The other 2 days each week will be working remotely from home, office, or another location of your choice.\\nOur office locations are currently expected to be: New York City, NY or Wellesley, MA. A housing stipend will be provided, and interns will be given the opportunity to connect with each other prior to the start of the program to coordinate housing if desired.\\nThe hourly rate is $55 per hour with 40 hours/ week, no work on July 4th (company holiday), and two days of paid leave. Please disregard the range listed below.\\nWho we are\\nWe are Americas leading health solutions company delivering care in ways no one else can. Our purpose is simple and clear: Bringing our heart to every moment of your health. At CVS Health, we possess an extensive repository of data that spans over 150 million individuals, providing an unparalleled foundation for ambitious Data Scientists and Engineers. In this role, your work will underpin data driven business decisions and contribute to our mission of delivering the industry’s best data products with a customer first mindset and team-oriented approach.\\nAbout the Business Area\\nOur organization, Analytics & Behavior Change, is an innovation engine supporting the entire CVS Health organization (Aetna health care business, retail, and pharmacy services) by embedding deep insights into key decision processes and focusing on our biggest, most complex problems. We partner with business leaders throughout the organization using advanced analytics tools, modeling, and machine learning to generate insights by using data to create meaningful impact. We're focused on creating new opportunities that drive change across the enterprise in areas such as:\\n• Customer experience and behavior change\\n• Digital health\\n• Provider efficiency and effectiveness\\n• Patient safety\\n• Health care cost savings\\n• Clinical services/Care management\\n• Fraud, waste, and abuse detection/prevention\\nAnalytics & Behavior Change has the feel of a startup within one of the nation's largest companies, and we're looking for people who are motivated by solving tough challenges to join us in transforming health care….one line of code at a time.\\nWhat you will do\\n• Work with analytics teams and our business partners to understand their goals and objectives\\n• Use programming skills, predictive/statistical modeling and analysis to analyze large volumes of structured and unstructured data, determine analytical approaches, and evaluate potential outcomes\\n• Generate insights connecting analytical results with business problems/goals and present recommendations to internal teams and business partners\\n• Help design programs/campaigns that improve the quality of health care, lower costs, and help our members and customers achieve their best health\\nWork visa sponsorship is available for this role. This includes participation in Curricular Practical Training (CPT), Optional Practical Training (OPT), and F-1 Visa programs.\\nRequired Qualifications\\n• Meet educational requirements (see Education section)\\n• Knowledge of data science techniques including statistical analysis and modeling\\n• Experience in R or Python\\n• Experience in SQL\\n• Internship or work experience in a related field\\nPreferred Qualifications\\n• Excellent problem solving and critical thinking ability\\n• Strong written and verbal communication skills\\n• Ability to clearly present technical concepts and implications to both technical and non-technical audiences\\nEducation\\n• Currently pursuing a Master’s degree program with an expected graduation date between December 2025 and August 2026\\n• Preferred majors include Statistics, Biostatistics, Mathematics, Data Science, Health Data Science, Operations Research\\nPay Range\\nThe typical pay range for this role is:\\n$55.00 - $55.00\\nWhether in our pharmacies or through our health service offerings, we are pioneering a bold new approach to total health care. As health care innovators, we are making quality care affordable, accessible, simple and seamless. We await your fresh ideas, new perspectives, and the unique contributions you will make to our organization.\\nWe anticipate the application window for this opening will close on: 01/01/2025\\nQualified applicants with arrest or conviction records will be considered for employment in accordance with all federal, state and local laws.\",\n",
       "  \"\\n2025 AI & DATA SCIENCE ASSOCIATE PROGRAM - SUMMER INTERNSHIP (USA) Delivering excellence at the intersection of data science, research and industry expertise, our AI and Data Science teams go beyond where any bank has gone before.\\nWe ask the questions and find the answers to create solutions and technology that help to solve the world's most pressing financial problems, and improve and protect ou\\n...\\nr customer and client experiences every day.\\nWhether you're working with artificial intelligence, blockchain technology, big data, machine learning or robotics, our entrepreneurial team environment challenges you to push the limits of your expertise in the pursuit of impactful and commercial real world applications.\\nAs an Intern in the Summer Internship Program, you will work with our AI and Data Science teams.\\nYour professional growth and development will be supported throughout the internship program via project work related to your academic and professional interests, mentorship, engaging speaker series with senior leaders and more.\\nFull-time employment offers may be extended upon successful completion of the program.\\nThe Summer Associate Internship Program begins in June.\\nNo prior experience in financial markets required. JPMorgan Chase & Co.\\nNYSE : JPM) is a leading financial services firm with operations worldwide.\\nWith over 55,000 technologists globally and an annual tech spend of $15 billion, JPMorgan Chase is dedicated to innovating and improving the design, analytics, development, coding, testing and application programming that goes into creating high quality software and new products.\\nUnder the J.P.\\nMorgan and Chase brands, the Firm serves millions of customers in the U.S., and many of the world's most prominent corporate, institutional and government clients globally.\\nVisit http : / / www.jpmorganchase.com / tech for more information. Job Responsibilities\\nExplore cutting-edge research in partnership with leading academic institutions, applying the latest Machine Learning techniques to J.P.\\nMorgan's unique data assets\\n• Collaborate directly with traders and salespeople to drive the data-led transformation of our businesses\\n• Focus on Deep Learning, Reinforcement Learning, Natural Language Processing, Speech / Voice Analytics, Time Series, Computer Vision, Cryptography, and Interpretability, and Ethics and Fairness of AI Required qualifications, capabilities and skills\\n• Enrolled in a Ph.D.\\nor 2 year Master's degree program in math, science, engineering, computer science or other quantitative fields with an expected graduation date of December 2025 through August 2026\\n• Knowledge of machine learning / data science theory, techniques and tools\\n• Knowledge and proficiency in Python\\n• Excellent analytical, quantitative and problem solving skills and demonstrated research ability\\n• Strong communication skills and the ability to present findings to a non-technical audience Preferred qualifications, capabilities and skills\\n• Experience with modern machine learning tools such as PyTorch and XGBoost\\n• Experience with data tools such as Hadoop, PySpark and SQL\\n• Experience with Java, C++, C#, Rust an additional bonus\\n• Knowledge in Reinforcement, Meta, or Transfer learning\\n• If you are pursuing a 4+1 or 1-year Master's program, we encourage you to apply for the Data Science Summer Analyst program.\\nWhat's next? Help us learn about you by submitting a complete and thoughtful application, which includes your resume and location preference.\\nAfter you confirm your application, we will review it to determine whether you meet certain required qualifications. If you are advanced to the next step of the process, you'll receive an email invitation to complete a coding challenge powered by HackerRank and a recorded video interview powered by HireVue..\\nThis is your opportunity to further bring your resume to life and showcase your experience for our recruiting team and hiring managers.\\nHackerRank and HireVue are required, and your application will not be considered for further review until you have completed this step.\\nWe strongly encourage that you apply and complete these required elements as soon as possible, since programs will close as positions are filled.\\nApplications will be reviewed on a rolling basis.\\nWe strongly encourage you to submit your application as early as possible as programs will close once positions are filled.\\nJPMorgan Chase is committed to creating an inclusive work environment that respects all people for their unique skills, backgrounds and professional experiences.\\nWe strive to hire qualified, diverse candidates, and we will provide reasonable accommodations for known disabilities. Visit jpmorganchase.\\ncom / careers for upcoming events, career advice, our locations and more. 2024 JPMorgan Chase & Co.\\nJPMorgan Chase is an equal opportunity and affirmative action employer Disability / Veteran. JPMorganChase, one of the oldest financial institutions, offers innovative financial solutions to millions of consumers, small businesses and many of the world's most prominent corporate, institutional and government clients under the J.P.\\nMorgan and Chase brands.\\nOur history spans over 200 years and today we are a leader in investment banking, consumer and small business banking, commercial banking, financial transaction processing and asset management.\\nWe recognize that our people are our strength and the diverse talents they bring to our global workforce are directly linked to our success.\\nWe are an equal opportunity employer and place a high value on diversity and inclusion at our company.\\nWe do not discriminate on the basis of any protected attribute, including race, religion, color, national origin, gender, sexual orientation, gender identity, gender expression, age, marital or veteran status, pregnancy or disability, or any other basis protected under applicable law.\\nWe also make reasonable accommodations for applicants' and employees' religious practices and beliefs, as well as mental health or physical disability needs.\\nVisit our FAQs for more information about requesting an accommodation. Base Pay / Salary Palo Alto,CA $135,000.00 - $155,000.\\n00 / year; New York,NY $135,000.00 - $155,000.00 / year\\nLast updated : 2024-11-07\",\n",
       "  \"\\nPlease complete your application before November 22nd, 2024.\\nParticipation in the internship program requires that you are located in the United States for the duration of the internship program.\\nThis role may also be located in our Playa Vista, CA campus.\\nThis internship is intended for students in their penultimate academic year, who are pursuing a PhD degree program in a quantitative discipline\\n...\\n\\xa0(e.g., statistics, biostatistics, physics, applied mathematics, operations research, economics).\\nGoogle is a global company and, in order to facilitate efficient collaboration and communication globally, English proficiency is a requirement for this internship program.To start the application process, you will need an updated CV or resume and a current unofficial or official transcript in English. Click on the “Apply” button on this page and provide the required materials in the appropriate sections (PDFs preferred):\\n• In the “Resume Section: ” attach an updated CV or resume.\\n• Please ensure you’ve listed your anticipated graduation date (in MM/YY)\\n• In the “Education Section: ” attach a current or recent unofficial or official transcript in English.\\n• Under “Degree Status,” select “Now attending” to upload a transcript.\\nNote: By applying to this position you will have an opportunity to share your preferred working location from the following: Mountain View, CA, USA; Ann Arbor, MI, USA; Atlanta, GA, USA; Austin, TX, USA; Boulder, CO, USA; Cambridge, MA, USA; Bellevue, WA, USA; Chicago, IL, USA; Irvine, CA, USA; Kirkland, WA, USA; Los Angeles, CA, USA; Madison, WI, USA; New York, NY, USA; Palo Alto, CA, USA; Portland, OR, USA; Pittsburgh, PA, USA; Raleigh, NC, USA; Durham, NC, USA; Reston, VA, USA; Redmond, WA, USA; Redwood City, CA, USA; San Diego, CA, USA; Goleta, CA, USA; San Bruno, CA, USA; Seattle, WA, USA; San Francisco, CA, USA; San Jose, CA, USA; Sunnyvale, CA, USA; Washington D.C., DC, USA; Santa Cruz, CA, USA.\\nMinimum qualifications:\\n• Currently pursuing a PhD degree in a quantitative discipline (e.g., statistics, biostatistics, physics, applied mathematics, operations research, economics).\\n• Experience with statistical methods (i.e., linear models, multivariate analysis, stochastic processes, sampling methods, etc.).\\n• Experience with statistical software (e.g., R, Python, MATLAB) and database languages (i.e., SQL).\\nPreferred qualifications:\\n• Currently attending a degree program in the US and available to work full time for 12 weeks outside of university term time.\\n• In their penultimate academic year or returning to a degree program after completion of the internship.\\n• Experience leveraging data insights into storytelling for business stakeholders.\\n• Experience in controlled experiment design and causal inference methods.\\n• Ability to prioritize requests and partner well in an environment with competing demands from stakeholders.\\nAbout the job\\nAs a Business Data Scientist, you will be a subject matter specialist for translating business problems from your supported organization or functional area into analytical solutions and insights. You will provide technical mentorship in delivering project work including implementing data science solutions, improving data pipelines, developing evaluation metrics, or building statistical models that provide insights to the business. You will create and implement reused and scaled solutions within the team's development process. You will collaborate with supported teams and win stakeholder trust by translating business needs into tractable analyses or evaluation metrics. You will work closely with product and engineering teams to analyze impact on product or Google-wide metrics (including daily activities, retention, churn).\\nGoogle is and always will be an engineering company. We hire people with a broad set of technical skills who are ready to address some of technology's greatest challenges and make an impact on millions, if not billions, of users. At Google, engineers not only revolutionize search, they routinely work on massive scalability and storage solutions, large-scale applications and entirely new platforms for developers around the world. From Google Ads to Chrome, Android to YouTube, Social to Local, Google engineers are changing the world one technological achievement after another.\\nThe US base salary range for this full-time position is $85,000-$109,000. Our salary ranges are determined by role, level, and location. The range displayed on each job posting reflects the minimum and maximum target salaries for the position across all US locations. Within the range, individual pay is determined by work location and additional factors, including job-related skills, experience, and relevant education or training. Your recruiter can share more about the specific salary range for your preferred location during the hiring process.\\nPlease note that the compensation details listed in US role postings reflect the base salary only, and do not include bonus, equity, or benefits. Learn more aboutbenefits at Google.\\nResponsibilities\\n• Work with large complex data sets, solve difficult non-routine analysis problems, and apply advanced analytical methods. Conduct analysis that includes data gathering and requirements specification, processing, analysis, ongoing deliverables, and presentations.\\n• Build and prototype analysis pipelines iteratively to provide insights at scale. Develop a comprehensive understanding of Google data structures and metrics, advocating for changes.\\n• Design and analyze controlled experiments or counterfactual causal inference studies to examine the incremental impact of Ads marketing programs.\\n• Interact cross-functionally, making business recommendations (e.g., cost-benefit, forecasting, experiment analysis) with effective presentations of findings at multiple levels of stakeholders through visual displays of quantitative information.\\n• Develop and automate reports, and iteratively build and prototype dashboards to provide insights at scale, solving for business priorities.\\nGoogle is proud to be an equal opportunity workplace and is an affirmative action employer. We are committed to equal employment opportunity regardless of race, color, ancestry, religion, sex, national origin, sexual orientation, age, citizenship, marital status, disability, gender identity or Veteran status. We also consider qualified applicants regardless of criminal histories, consistent with legal requirements. See alsoGoogle's EEO Policy andEEO is the Law. If you have a disability or special need that requires accommodation, please let us know by completing ourAccommodations for Applicants form.\",\n",
       "  '\\nDescription\\nAre you searching for a place to build upon the foundation of your academic work?\\nAre you searching for engaging work with an employer that prioritizes impact, innovation, and personal development?\\nAre you motivated to apply your skills within a vibrant intellectual community?\\nIf so, we\\'re looking for someone like you to join our team at APL!\\nWe are seeking recent college graduate\\n...\\ns to help us tackle the complex research, engineering, and analytical problems that present critical challenges to our nation. Our group is currently making critical contributions in the fight against online misinformation and the development of the first truly autonomous UAV. Our work on the public health response to the COVID-19 pandemic was recognized by Time Magazine as one of the \"Best Inventions of 2020\". To address these emerging national challenges, we design and develop software systems that leverage the potential of data science, generative AI, large language models, and artificial intelligence across various domains, including social media analysis, healthcare, climate monitoring, cybersecurity, and signal & image processing.\\nAs a member of our team you will...\\n• Collaborate with dedicated colleagues in developing solutions that align with national priorities.\\n• Harness your expertise in areas such as Artificial Intelligence, Machine Learning, Data Science, Cybersecurity, Software Engineering & DevOps, Signal and Image Processing, and Mathematics.\\nQualifications\\nYou meet our minimum qualifications for the job if you...\\n• Have a PhD in Computer Science, Mathematics, Engineering, or related technical field.\\n• Have maintained a minimum 3.0/4.0 GPA.\\n• Are able to obtain a Top Secret level security clearance. If selected, a government security clearance investigation will need to be conducted and the requirements met for access to classified information. Eligibility requirements include U.S. citizenship.\\nWhy work at APL?\\nThe Johns Hopkins University Applied Physics Laboratory (APL) brings world-class expertise to our nation’s most critical defense, security, space, and science challenges. While we are dedicated to solving complex challenges and pioneering new technologies, what makes us truly outstanding is our culture. We offer a vibrant, welcoming atmosphere where you can bring your authentic self to work, continue to grow, and build strong connections with inspiring teammates.\\nAt APL, we celebrate our differences and encourage creativity and bold, new ideas. Our employees enjoy generous benefits, including a robust education assistance program, unparalleled retirement contributions, and a healthy work/life balance. APL’s campus is located in the Baltimore-Washington metro area. Learn more about our career opportunities at www.jhuapl.edu/careers.\\nAbout Us\\nAPL is an Equal Opportunity/Affirmative Action employer. All qualified applicants will receive consideration for employment without regard to race, creed, color, religion, sex, gender identity or expression, sexual orientation, national origin, age, physical or mental disability, genetic information, veteran status, occupation, marital or familial status, political opinion, personal appearance, or any other characteristic protected by applicable law.\\nAPL is committed to promoting an innovative environment that embraces diversity, encourages creativity, and supports inclusion of new ideas. In doing so, we are committed to providing reasonable accommodation to individuals of all abilities, including those with disabilities. If you require a reasonable accommodation to participate in any part of the hiring process, please contact Accommodations@jhuapl.edu. Only by ensuring that everyone’s voice is heard are we empowered to be bold, do great things, and make the world a better place.\\n#J-18808-Ljbffr\\nOriginal job 2025 PhD Graduate - AI/ML Data Scientist/Engineer - Analytic Capabilities posted on GrabJobs ©. To flag any issues with this job please use the Report Job button on GrabJobs.',\n",
       "  \"\\nThe Spectrum Internship Experience\\nWho is Spectrum? We are a Connectivity Company. We connect our customers to superior communications and entertainment products with the highest quality service.\\u202f\\nAs a Spectrum Intern, you’ll be essential to two teams — your respective department and your Intern peer group. Our internship will provide you:\\n• Paid, full-time work experience that offers exposure t\\n...\\no business culture.\\n• Opportunities to gain new skills and elevate the ones you already have in a dynamic, forward-thinking business setting.\\n• Hands-on experience at an industry-leading telecommunications company\\n• Assigned mentor and interactions with senior executives to help you accomplish practical goals you can add to your résumé.\\nBegin your career journey with Spectrum, named one of the Top 100 Internship Programs in the United States by WayUp. Apply Today!\\nYour role\\nYour role as a Customer Operations Intern will: Support the Digital & Credit Services team with data science modeling projects.\\nWhat you will bring with you\\nYou are a motivated and driven student who is currently enrolled in a full-time bachelor's degree program with a GPA of 3.0 or higher, and you must have a graduation date between December 2025 and June 2026.\\nFor this position, you need to bring your bachelor’s degree in a STEM related major (Science, Technology, Engineering or Math) and a desire to learn how you can impact data science modeling projects at Spectrum.\\nThis is a learning-intensive program designed to give you essential business insights and hands-on experience in your field. It’s a full-time, 10-week commitment from\\u202fMay 28, 2025,\\u202fthrough\\u202fAugust 1, 2025. This internship is located in Stamford, CT.\\nSkills and experience required for this role include:\\u202f\\n• Effective problem-solving skills with attention to detail and data accuracy\\n• Ability to travel locally to Spectrum Intern development events and activities throughout the program\\n• Ability to work 100% in office\\n• Analytical skills\\n• Communication Skills - Verbal and Written\\n• Proficiency in Microsoft Office: Word, Excel, PowerPoint, Access\\nGGN100 2024-38502 2024\\nHere, employees don’t just have jobs, they build careers. That’s why we believe in offering a comprehensive pay and benefits package that rewards employees for their contributions to our success, supports all aspects of their well-being, and delivers real value at every stage of life.\\nA qualified applicant’s criminal history, if any, will be considered in a manner consistent with applicable laws, including local ordinances.\\nGet to Know Us Charter Communications is known in the United States by our Spectrum brands, including: Spectrum Internet®, TV, Mobile and Voice, Spectrum Networks, Spectrum Enterprise and Spectrum Reach. When you join us, you’re joining a strong community of more than 100,000 individuals working together to serve nearly 32 million customers in 41 states and keep them connected to what matters most. Watch this video to learn more.\\nWho You Are Matters Here We’re committed to growing a workforce that reflects our communities, and providing equal opportunities for employment and advancement. EOE, including disability/vets. Learn about our inclusive culture.\",\n",
       "  \"\\nUnited States\\nBusiness management, administration and support\\nGroup Functions\\nJob Reference #\\n305705BR\\nCity\\nWeehawken\\nType\\nIntern Analyst (Pipeline)\\nApplication Deadline\\n31-Oct-2024\\nYour role\\nAre you passionate about data science and modelling? Do you have an analytical mindset and enjoy working in a data-driven team? Do you want to work for a firm with a truly global footprint?\\nWe're\\n...\\n\\xa0looking for bright students to join our 2025 Summer Internship Program within Group Internal Consulting, Predictive and Behavioral Analytics.\\nThis program lasts 10 weeks and you may be potentially working on a summer internship project with exposure to our core businesses, such as the Investment Bank, Wealth Management, Asset Management and supporting Functions delivering innovative machine learning, data science, quantitative modelling and Generative AI, among others.\\nYou’ll get to:\\n• propose ideas on how we can make improvements to our business; take these ideas and bring them to life by developing Proof of concepts (PoCs) or prototypes\\n• problem solve and craft actionable solutions across transformation/integration projects\\n• present your findings internally by transforming complex information into clear takeaways and recommendations\\nManage your project’s timelines, stakeholders, risks etc.\\nDevelop your business acumen and consulting skillset to help advise internal clients across the firm\\nBuild and maintain strong relationships within the Solutions team, Group Functions and Business Divisions.\\nYour team\\nYou’ll be working in Group Internal Consulting located in Weehawken, NJ. We’re a dynamic, driven, and diverse team with over 750 people present in 5 regions across the globe. As part of the firm’s Group Integration Office, we work in close partnership with all divisions and functions to drive transformation and change across UBS, supporting the firm in achieving its strategic goals. Our focus is on delivering high quality services, with fast onboarding, leveraging institutional knowledge. We offer our consultants a diverse portfolio of projects, providing them with the chance to work across the firm.\\nYour expertise\\nWe’re looking for a candidate who:\\n• is graduating between December 2025 and June 2026 and has a cumulative GPA of 3.0 and above\\n• has experience working in a project-based environment\\n• has values that align with ours: hard-working, trustworthy, dedicated and collaborative\\n• is a strategic thinker with strong communication skills\\n• is motivated to work in a business with high demands and tight deadlines\\nWe’re looking for someone who’s curious and wants to thrive in a business that never stops moving. We welcome all majors, but it’s important to have an interest in the financial industry. We want to see what makes you unique and discover what you can bring to our team. Perhaps you’ve organized a fundraising event or taken part in team sports? Or stepped out of your comfort zone to learn about a subject you found challenging? Let us know how your achievements match the skills we’re after.\\nPlease note, this position is not eligible for any employment-based immigration sponsorship. Additionally, UBS will not provide any assistance or sign any documentation in support of any other form of immigration sponsorship including optional practical training (OPT) or curricular practical training (CPT).\\nYour program\\nDuring your 10-week paid internship, you’ll work with our experts and learn about the industry, our clients and our firm.\\nYou’ll be right at the heart of our business, learning from your colleagues, taking part in day-to-day operations. You'll be given mentors along the way and will have the chance to get to know some of the most senior members of our teams.\\nYou’ll have plenty of opportunities to develop new skills and make contacts along the way. If you like challenges, enjoy learning and want to work where no two days are the same, this program is for you.\\nIf you have a successful internship, you may get an offer to return for our Graduate Talent Program after you've completed your studies.\\nAbout us\\nUBS is the world’s largest and only truly global wealth manager. We operate through four business divisions: Global Wealth Management, Personal & Corporate Banking, Asset Management and the Investment Bank. Our global reach and the breadth of our expertise set us apart from our competitors.\\nWith our large and diverse team operating internationally, we have a presence in all major financial centers in more than 50 countries. Although we all come from different backgrounds and specializations, two things unite us: the conviction that we’re stronger together, and the will and curiosity to constantly improve.\\nJoin us\\nWe know that it's our people, with their unique backgrounds, skills, experience levels and interests, who drive our ongoing success. You’ll get to learn from the best at UBS, inspirational leaders from across the business and experts in everything financial industry. Together we’re more than ourselves. Ready to be part of #teamUBS and make an impact?\\nDisclaimer / Policy Statements\\nUBS is an Equal Opportunity Employer. We respect and seek to empower each individual and support the diverse cultures, perspectives, skills and experiences within our workforce.\"]}"
      ]
     },
     "execution_count": 13,
     "metadata": {},
     "output_type": "execute_result"
    }
   ],
   "source": [
    "job_details_dict"
   ]
  },
  {
   "cell_type": "code",
   "execution_count": 14,
   "id": "465fd5bb-34cc-49e3-9e4a-ed2bd9a41f87",
   "metadata": {},
   "outputs": [
    {
     "name": "stdout",
     "output_type": "stream",
     "text": [
      "10\n",
      "10\n",
      "10\n",
      "10\n",
      "10\n",
      "10\n",
      "10\n"
     ]
    }
   ],
   "source": [
    "for value in list(job_details_dict.values()):\n",
    "    print(len(value))"
   ]
  },
  {
   "cell_type": "code",
   "execution_count": 21,
   "id": "aae9eb8e-cebc-4fa9-883f-d7ec323bc1bb",
   "metadata": {},
   "outputs": [],
   "source": [
    "df = pd.DataFrame(job_details_dict)"
   ]
  },
  {
   "cell_type": "code",
   "execution_count": 36,
   "id": "7369b4e9-3d81-4d18-a305-f85945ab24b3",
   "metadata": {},
   "outputs": [
    {
     "data": {
      "text/html": [
       "<div>\n",
       "<style scoped>\n",
       "    .dataframe tbody tr th:only-of-type {\n",
       "        vertical-align: middle;\n",
       "    }\n",
       "\n",
       "    .dataframe tbody tr th {\n",
       "        vertical-align: top;\n",
       "    }\n",
       "\n",
       "    .dataframe thead th {\n",
       "        text-align: right;\n",
       "    }\n",
       "</style>\n",
       "<table border=\"1\" class=\"dataframe\">\n",
       "  <thead>\n",
       "    <tr style=\"text-align: right;\">\n",
       "      <th></th>\n",
       "      <th>job_header</th>\n",
       "      <th>job_sites</th>\n",
       "      <th>Job highlights</th>\n",
       "      <th>Qualifications</th>\n",
       "      <th>Benefits</th>\n",
       "      <th>Responsibilities</th>\n",
       "      <th>Job description</th>\n",
       "    </tr>\n",
       "  </thead>\n",
       "  <tbody>\n",
       "    <tr>\n",
       "      <th>0</th>\n",
       "      <td>[Data Analytics Engineering Graduate Internshi...</td>\n",
       "      <td>[Apply on LinkedIn  , Apply on Orion Talent  ,...</td>\n",
       "      <td>Identified by Google from the original job post</td>\n",
       "      <td>\\nMeet educational requirements (see Education...</td>\n",
       "      <td>\\nWe offer challenging opportunities for you t...</td>\n",
       "      <td>\\nYou will be aligned to projects to lead or c...</td>\n",
       "      <td>\\nYou’ve invested a lot of time and energy in ...</td>\n",
       "    </tr>\n",
       "    <tr>\n",
       "      <th>1</th>\n",
       "      <td>[Data Analytics Engineering Graduate Internshi...</td>\n",
       "      <td>[Apply on LinkedIn  , Apply on Orion Talent  ,...</td>\n",
       "      <td>Identified by Google from the original job post</td>\n",
       "      <td>\\nMeet educational requirements (see Education...</td>\n",
       "      <td>\\nWe offer challenging opportunities for you t...</td>\n",
       "      <td>\\nYou will be aligned to projects to lead or c...</td>\n",
       "      <td>\\nYou’ve invested a lot of time and energy in ...</td>\n",
       "    </tr>\n",
       "    <tr>\n",
       "      <th>2</th>\n",
       "      <td>[Data Analytics Engineering Graduate Internshi...</td>\n",
       "      <td>[Apply on LinkedIn  , Apply on Orion Talent  ,...</td>\n",
       "      <td>Identified by Google from the original job post</td>\n",
       "      <td>\\nMeet educational requirements (see Education...</td>\n",
       "      <td>\\nWe offer challenging opportunities for you t...</td>\n",
       "      <td>\\nYou will be aligned to projects to lead or c...</td>\n",
       "      <td>\\nYou’ve invested a lot of time and energy in ...</td>\n",
       "    </tr>\n",
       "    <tr>\n",
       "      <th>3</th>\n",
       "      <td>[Summer Internship Program 2025 - Data Analyst...</td>\n",
       "      <td>[Apply on LinkedIn  , Apply on Diversity Jobs ...</td>\n",
       "      <td>Identified by Google from the original job post</td>\n",
       "      <td>\\nCurrently enrolled in a degree program at an...</td>\n",
       "      <td>\\nThe expected hourly rate for this role is $3...</td>\n",
       "      <td>\\nYou’ll have the chance to build meaningful p...</td>\n",
       "      <td>\\nOverview\\nJob Purpose\\nThe ICE Internship Pr...</td>\n",
       "    </tr>\n",
       "    <tr>\n",
       "      <th>4</th>\n",
       "      <td>[Data Science Graduate Internship - Summer 202...</td>\n",
       "      <td>[Apply on CVS Health  , Apply on ZipRecruiter ...</td>\n",
       "      <td>Identified by Google from the original job post</td>\n",
       "      <td>\\nMeet educational requirements (see Education...</td>\n",
       "      <td>\\nWe offer challenging opportunities for you t...</td>\n",
       "      <td>\\nYou will be aligned to projects to lead or c...</td>\n",
       "      <td>\\nYou’ve invested a lot of time and energy in ...</td>\n",
       "    </tr>\n",
       "  </tbody>\n",
       "</table>\n",
       "</div>"
      ],
      "text/plain": [
       "                                          job_header  \\\n",
       "0  [Data Analytics Engineering Graduate Internshi...   \n",
       "1  [Data Analytics Engineering Graduate Internshi...   \n",
       "2  [Data Analytics Engineering Graduate Internshi...   \n",
       "3  [Summer Internship Program 2025 - Data Analyst...   \n",
       "4  [Data Science Graduate Internship - Summer 202...   \n",
       "\n",
       "                                           job_sites  \\\n",
       "0  [Apply on LinkedIn  , Apply on Orion Talent  ,...   \n",
       "1  [Apply on LinkedIn  , Apply on Orion Talent  ,...   \n",
       "2  [Apply on LinkedIn  , Apply on Orion Talent  ,...   \n",
       "3  [Apply on LinkedIn  , Apply on Diversity Jobs ...   \n",
       "4  [Apply on CVS Health  , Apply on ZipRecruiter ...   \n",
       "\n",
       "                                    Job highlights  \\\n",
       "0  Identified by Google from the original job post   \n",
       "1  Identified by Google from the original job post   \n",
       "2  Identified by Google from the original job post   \n",
       "3  Identified by Google from the original job post   \n",
       "4  Identified by Google from the original job post   \n",
       "\n",
       "                                      Qualifications  \\\n",
       "0  \\nMeet educational requirements (see Education...   \n",
       "1  \\nMeet educational requirements (see Education...   \n",
       "2  \\nMeet educational requirements (see Education...   \n",
       "3  \\nCurrently enrolled in a degree program at an...   \n",
       "4  \\nMeet educational requirements (see Education...   \n",
       "\n",
       "                                            Benefits  \\\n",
       "0  \\nWe offer challenging opportunities for you t...   \n",
       "1  \\nWe offer challenging opportunities for you t...   \n",
       "2  \\nWe offer challenging opportunities for you t...   \n",
       "3  \\nThe expected hourly rate for this role is $3...   \n",
       "4  \\nWe offer challenging opportunities for you t...   \n",
       "\n",
       "                                    Responsibilities  \\\n",
       "0  \\nYou will be aligned to projects to lead or c...   \n",
       "1  \\nYou will be aligned to projects to lead or c...   \n",
       "2  \\nYou will be aligned to projects to lead or c...   \n",
       "3  \\nYou’ll have the chance to build meaningful p...   \n",
       "4  \\nYou will be aligned to projects to lead or c...   \n",
       "\n",
       "                                     Job description  \n",
       "0  \\nYou’ve invested a lot of time and energy in ...  \n",
       "1  \\nYou’ve invested a lot of time and energy in ...  \n",
       "2  \\nYou’ve invested a lot of time and energy in ...  \n",
       "3  \\nOverview\\nJob Purpose\\nThe ICE Internship Pr...  \n",
       "4  \\nYou’ve invested a lot of time and energy in ...  "
      ]
     },
     "execution_count": 36,
     "metadata": {},
     "output_type": "execute_result"
    }
   ],
   "source": [
    "df.head()"
   ]
  },
  {
   "cell_type": "code",
   "execution_count": 38,
   "id": "67bacab9-9653-47a5-ad5a-03ca89d3a90e",
   "metadata": {},
   "outputs": [
    {
     "data": {
      "text/plain": [
       "['job_header',\n",
       " 'job_sites',\n",
       " 'Job highlights',\n",
       " 'Qualifications',\n",
       " 'Benefits',\n",
       " 'Responsibilities',\n",
       " 'Job description']"
      ]
     },
     "execution_count": 38,
     "metadata": {},
     "output_type": "execute_result"
    }
   ],
   "source": []
  },
  {
   "cell_type": "code",
   "execution_count": 49,
   "id": "d7527a4f-115f-4761-b42a-5dc43b2bae7b",
   "metadata": {},
   "outputs": [],
   "source": [
    "for column in df.columns.tolist():\n",
    "    if isinstance(df[column][0],list):\n",
    "        continue\n",
    "    df[column] = [i.replace(\"\\n\",\"\") for i in list(df[column])]"
   ]
  },
  {
   "cell_type": "code",
   "execution_count": null,
   "id": "e1320ea6-dd7d-44d2-b790-2d39135fa854",
   "metadata": {},
   "outputs": [],
   "source": []
  },
  {
   "cell_type": "code",
   "execution_count": 50,
   "id": "88c24828-eef4-4234-a6c8-b9a6db7e50ea",
   "metadata": {},
   "outputs": [],
   "source": [
    "df.to_csv(\"jobs.csv\")\n",
    "\n"
   ]
  },
  {
   "cell_type": "code",
   "execution_count": null,
   "id": "2e92b621-692b-4244-80a8-c427d1257109",
   "metadata": {},
   "outputs": [],
   "source": []
  },
  {
   "cell_type": "code",
   "execution_count": 16,
   "id": "61d42691-cd9f-4ffd-8b52-88cdc7819e45",
   "metadata": {},
   "outputs": [
    {
     "data": {
      "text/plain": [
       "['Job highlights',\n",
       " 'Qualifications',\n",
       " 'Benefits',\n",
       " 'Responsibilities',\n",
       " 'Job description']"
      ]
     },
     "execution_count": 16,
     "metadata": {},
     "output_type": "execute_result"
    }
   ],
   "source": [
    "\n",
    "job_details_header"
   ]
  },
  {
   "cell_type": "code",
   "execution_count": null,
   "id": "6ce8ff69-e95a-4580-84a8-2fbcc173131a",
   "metadata": {},
   "outputs": [],
   "source": []
  },
  {
   "cell_type": "code",
   "execution_count": null,
   "id": "2c6abc18-8826-41f7-8882-25c5deeea88b",
   "metadata": {},
   "outputs": [],
   "source": []
  },
  {
   "cell_type": "code",
   "execution_count": null,
   "id": "eb920a3f-49d0-44c5-8de8-5884167ab7b4",
   "metadata": {},
   "outputs": [],
   "source": [
    "\n"
   ]
  },
  {
   "cell_type": "code",
   "execution_count": null,
   "id": "1775c0d5-0f7c-4116-97a8-3e8b1dc2a01a",
   "metadata": {},
   "outputs": [],
   "source": [
    "\n",
    "\n"
   ]
  },
  {
   "cell_type": "code",
   "execution_count": null,
   "id": "f560a6fb-9b79-4412-8f2c-a8fdb666b114",
   "metadata": {},
   "outputs": [],
   "source": []
  },
  {
   "cell_type": "code",
   "execution_count": null,
   "id": "e28fd830-0044-47e7-9d62-56c398fde086",
   "metadata": {},
   "outputs": [],
   "source": []
  },
  {
   "cell_type": "code",
   "execution_count": null,
   "id": "39893404-38b7-412b-b592-0c14fe7530eb",
   "metadata": {},
   "outputs": [],
   "source": []
  },
  {
   "cell_type": "code",
   "execution_count": 17,
   "id": "d9088f21-3643-4c28-81de-832de1b6ff3c",
   "metadata": {},
   "outputs": [],
   "source": [
    "all_tags = soup.find_all([\"h1\",\"h2\",\"h3\",\"h4\",\"h5\",\"ul\",\"li\",\"p\"])"
   ]
  },
  {
   "cell_type": "code",
   "execution_count": 18,
   "id": "cf7401fb-7072-48fd-b98f-51b474d0291c",
   "metadata": {
    "scrolled": true
   },
   "outputs": [
    {
     "name": "stdout",
     "output_type": "stream",
     "text": [
      "Accessibility Links\n",
      "\n",
      "Delete\n",
      "See more\n",
      "\n",
      "Delete\n",
      "\n",
      "Filters and Topics\n",
      "Search settings\n",
      "Search Results\n",
      "Footer Links\n",
      "2025 Summer Internship Program - Data Scientist - Internal Consulting\n",
      "Job highlights\n",
      "Qualifications\n",
      "is graduating between December 2025 and June 2026 and has a cumulative GPA of 3.0 and abovehas experience working in a project-based environmenthas values that align with ours: hard-working, trustworthy, dedicated and collaborativeis a strategic thinker with strong communication skillsis motivated to work in a business with high demands and tight deadlinesWe’re looking for someone who’s curious and wants to thrive in a business that never stops moving3 more items(s)\n",
      "is graduating between December 2025 and June 2026 and has a cumulative GPA of 3.0 and above\n",
      "has experience working in a project-based environment\n",
      "has values that align with ours: hard-working, trustworthy, dedicated and collaborative\n",
      "is a strategic thinker with strong communication skills\n",
      "is motivated to work in a business with high demands and tight deadlines\n",
      "We’re looking for someone who’s curious and wants to thrive in a business that never stops moving\n",
      "3 more items(s)\n",
      "Benefits\n",
      "During your 10-week paid internship, you’ll work with our experts and learn about the industry, our clients and our firmYou’ll have plenty of opportunities to develop new skills and make contacts along the wayIf you like challenges, enjoy learning and want to work where no two days are the same, this program is for you\n",
      "During your 10-week paid internship, you’ll work with our experts and learn about the industry, our clients and our firm\n",
      "You’ll have plenty of opportunities to develop new skills and make contacts along the way\n",
      "If you like challenges, enjoy learning and want to work where no two days are the same, this program is for you\n",
      "Responsibilities\n",
      "propose ideas on how we can make improvements to our business; take these ideas and bring them to life by developing Proof of concepts (PoCs) or prototypesproblem solve and craft actionable solutions across transformation/integration projectspresent your findings internally by transforming complex information into clear takeaways and recommendationsManage your project’s timelines, stakeholders, risks etcDevelop your business acumen and consulting skillset to help advise internal clients across the firmBuild and maintain strong relationships within the Solutions team, Group Functions and Business DivisionsYou'll be given mentors along the way and will have the chance to get to know some of the most senior members of our teams4 more items(s)\n",
      "propose ideas on how we can make improvements to our business; take these ideas and bring them to life by developing Proof of concepts (PoCs) or prototypes\n",
      "problem solve and craft actionable solutions across transformation/integration projects\n",
      "present your findings internally by transforming complex information into clear takeaways and recommendations\n",
      "Manage your project’s timelines, stakeholders, risks etc\n",
      "Develop your business acumen and consulting skillset to help advise internal clients across the firm\n",
      "Build and maintain strong relationships within the Solutions team, Group Functions and Business Divisions\n",
      "You'll be given mentors along the way and will have the chance to get to know some of the most senior members of our teams\n",
      "4 more items(s)\n",
      "Job description\n",
      "2025 Summer Intern: Technology Data & Analytics, Data Engineer & Data Science\n",
      "Job highlights\n",
      "Qualifications\n",
      "Artificial neural networksAzureChatbotsData architecturesHadoopMATLABPowerBIPythonRSQLCurrently pursuing a degree in: Business Administration, Business Information Systems, Computer Science, Computer Engineering, Engineering, Finance, Information Systems, MIS or Software Engineering (other related majors may be considered)Minimum GPA 3.0Ability to learn new technologies and processes information quicklyAbility to adapt to changes in timelines and sequencesExcellent verbal and written communication skillsAbility to participate in ten or twelve-week internship program May - AugustThis position is limited to persons with indefinite right to work in the United StatesGraduate with bachelor’s or master’s degree within one (1) year of internship completion15 more items(s)\n",
      "Artificial neural networks\n",
      "Azure\n",
      "Chatbots\n",
      "Data architectures\n",
      "Hadoop\n",
      "MATLAB\n",
      "PowerBI\n",
      "Python\n",
      "R\n",
      "SQL\n",
      "Currently pursuing a degree in: Business Administration, Business Information Systems, Computer Science, Computer Engineering, Engineering, Finance, Information Systems, MIS or Software Engineering (other related majors may be considered)\n",
      "Minimum GPA 3.0\n",
      "Ability to learn new technologies and processes information quickly\n",
      "Ability to adapt to changes in timelines and sequences\n",
      "Excellent verbal and written communication skills\n",
      "Ability to participate in ten or twelve-week internship program May - August\n",
      "This position is limited to persons with indefinite right to work in the United States\n",
      "Graduate with bachelor’s or master’s degree within one (1) year of internship completion\n",
      "15 more items(s)\n",
      "Benefits\n",
      "The expected compensation hourly pay ranges for hires into our 2025 campus intern openings is $21.50 - $54/hourRole, degree discipline, degree level, and location are part of the process when determining actual starting salary for positionsHourly pay for our campus hires is pre-determined and non-negotiableWe love to convert our interns to full time opportunities!Our full-time positions have a comprehensive benefits package that include:Paid time off subject to eligibility, including paid parental leave, vacation, sick, and bereavementIn addition to salary, PepsiCo offers a comprehensive benefits package to support our employees and their families, subject to elections and eligibility: Medical, Dental, Vision, Disability, Health and Dependent Care Reimbursement Accounts, Employee Assistance Program (EAP), Insurance (Accident, Group Legal, Life), Defined Contribution Retirement Plan4 more items(s)\n",
      "The expected compensation hourly pay ranges for hires into our 2025 campus intern openings is $21.50 - $54/hour\n",
      "Role, degree discipline, degree level, and location are part of the process when determining actual starting salary for positions\n",
      "Hourly pay for our campus hires is pre-determined and non-negotiable\n",
      "We love to convert our interns to full time opportunities!\n",
      "Our full-time positions have a comprehensive benefits package that include:\n",
      "Paid time off subject to eligibility, including paid parental leave, vacation, sick, and bereavement\n",
      "In addition to salary, PepsiCo offers a comprehensive benefits package to support our employees and their families, subject to elections and eligibility: Medical, Dental, Vision, Disability, Health and Dependent Care Reimbursement Accounts, Employee Assistance Program (EAP), Insurance (Accident, Group Legal, Life), Defined Contribution Retirement Plan\n",
      "4 more items(s)\n",
      "Responsibilities\n",
      "Students are afforded opportunities for beneficial, meaningful work experience within one of PepsiCo’s Strategy & Transformation teamsData & Analytics: Develops reporting & analytical solutions to turn data into business insightsIncludes the management of reusable & consistent data foundationsData Engineers: designs and codes specific cross-sub-system of key algorithmic structuresThey manage and evaluate solutions for large scale data processing systems, data warehousing services and solutions using advanced database technologiesData Scientists: are responsible for designing and building predictive models to measure data difficulty and ambiguity level and error probabilityThey build data models and organize structured and unstructured data to interpret solutions4 more items(s)\n",
      "Students are afforded opportunities for beneficial, meaningful work experience within one of PepsiCo’s Strategy & Transformation teams\n",
      "Data & Analytics: Develops reporting & analytical solutions to turn data into business insights\n",
      "Includes the management of reusable & consistent data foundations\n",
      "Data Engineers: designs and codes specific cross-sub-system of key algorithmic structures\n",
      "They manage and evaluate solutions for large scale data processing systems, data warehousing services and solutions using advanced database technologies\n",
      "Data Scientists: are responsible for designing and building predictive models to measure data difficulty and ambiguity level and error probability\n",
      "They build data models and organize structured and unstructured data to interpret solutions\n",
      "4 more items(s)\n",
      "Job description\n",
      "PepsiCo\n"
     ]
    }
   ],
   "source": [
    "for t in all_tags:\n",
    "    print(t.get_text())"
   ]
  },
  {
   "cell_type": "code",
   "execution_count": 19,
   "id": "42080c75-b64c-4b1a-83b5-dc3160cc4d89",
   "metadata": {},
   "outputs": [
    {
     "data": {
      "text/plain": [
       "[<a href=\"/search?q=2025+graduate+data+scientist+jobs+new+york+in+the+last+1+week&amp;sa=X&amp;sca_esv=2c272caab9e83ec0&amp;udm=8&amp;gbv=1&amp;sei=-kYxZ4LwCYX-ptQPgebg6Q0\">here</a>,\n",
       " <a class=\"gyPpGe\" data-ved=\"0ahUKEwiC1ZrK-tKJAxUFv4kEHQEzON0Q67oDCAU\" jsaction=\"i3viod\" jsname=\"BKxS1e\" role=\"link\" tabindex=\"0\">Skip to main content</a>,\n",
       " <a class=\"gyPpGe\" href=\"https://support.google.com/websearch/answer/181196?hl=en\" jsname=\"KI37ad\" ping=\"/url?sa=t&amp;source=web&amp;rct=j&amp;url=https://support.google.com/websearch/answer/181196%3Fhl%3Den&amp;ved=0ahUKEwiC1ZrK-tKJAxUFv4kEHQEzON0QwcMDCAY&amp;opi=89978449\">Accessibility help</a>,\n",
       " <a class=\"gyPpGe\" data-async-trigger=\"duf3-78\" jsaction=\"trigger.szjOR\" jsname=\"JUypV\" role=\"link\" tabindex=\"0\">Accessibility feedback</a>,\n",
       " <a data-hveid=\"8\" href=\"https://www.google.com/webhp?hl=en&amp;sa=X&amp;ved=0ahUKEwiC1ZrK-tKJAxUFv4kEHQEzON0QPAgI\" id=\"logo\" title=\"Go to Google Home\"><svg height=\"30\" viewbox=\"0 0 92 30\" width=\"92\" xmlns=\"http://www.w3.org/2000/svg\"><path d=\"M38.9 15.51c0 4.26-3.32 7.39-7.4 7.39s-7.4-3.14-7.4-7.39c0-4.28 3.32-7.39 7.4-7.39s7.4 3.1 7.4 7.39zm-3.24 0c0-2.66-1.93-4.48-4.16-4.48-2.23 0-4.16 1.82-4.16 4.48 0 2.63 1.93 4.48 4.16 4.48 2.23 0 4.16-1.85 4.16-4.48z\" fill=\"#EA4335\"></path><path d=\"M11.96 22.98C5.63 22.98.31 17.83.31 11.5S5.63.02 11.96.02c3.5 0 5.99 1.37 7.87 3.16L17.62 5.4c-1.34-1.26-3.16-2.24-5.66-2.24-4.62 0-8.23 3.72-8.23 8.34 0 4.62 3.61 8.34 8.23 8.34 3 0 4.7-1.2 5.79-2.3.9-.9 1.49-2.2 1.74-4.17H12v-3.14h10.52c.11.56.17 1.23.17 1.96 0 2.35-.64 5.49-2.72 7.56-2.02 2.11-4.59 3.23-8.01 3.23z\" fill=\"#4285F4\"></path><path d=\"M54.9 15.51c0 4.26-3.32 7.39-7.4 7.39s-7.4-3.14-7.4-7.39c0-4.28 3.32-7.39 7.4-7.39s7.4 3.1 7.4 7.39zm-3.24 0c0-2.66-1.93-4.48-4.16-4.48-2.23 0-4.16 1.82-4.16 4.48 0 2.63 1.93 4.48 4.16 4.48 2.23 0 4.16-1.85 4.16-4.48z\" fill=\"#FBBC05\"></path><path d=\"M70 8.56v13.27c0 5.46-3.05 7.7-6.86 7.7-3.58 0-5.74-2.41-6.55-4.37l2.83-1.18c.5 1.2 1.74 2.63 3.72 2.63 2.44 0 3.78-1.51 3.78-4.34v-1.06h-.11c-.73.9-2.04 1.68-3.81 1.68-3.7 0-7-3.22-7-7.36 0-4.17 3.3-7.42 7-7.42 1.76 0 3.08.78 3.81 1.65h.11v-1.2H70zm-2.86 6.97c0-2.6-1.74-4.51-3.95-4.51-2.24 0-3.95 1.9-3.95 4.51 0 2.58 1.71 4.45 3.95 4.45 2.22.01 3.95-1.87 3.95-4.45z\" fill=\"#4285F4\"></path><path d=\"M75 1.17V22.9h-3V1.17h3z\" fill=\"#34A853\"></path><path d=\"M87.5 17.94l2.48 1.68c-.8 1.2-2.73 3.28-6.06 3.28-4.13 0-7.22-3.25-7.22-7.39 0-4.4 3.11-7.39 6.86-7.39 3.78 0 5.62 3.05 6.23 4.7l.31.85-9.71 4.08c.74 1.48 1.9 2.24 3.53 2.24s2.76-.82 3.58-2.05zm-7.63-2.66l6.5-2.74c-.36-.92-1.43-1.57-2.7-1.57-1.62 0-3.88 1.46-3.8 4.31z\" fill=\"#EA4335\"></path></svg></a>,\n",
       " <a aria-expanded=\"false\" aria-label=\"Google apps\" class=\"gb_A\" href=\"https://www.google.com/intl/en/about/products?tab=wh\" role=\"button\" tabindex=\"0\"><svg class=\"gb_E\" focusable=\"false\" viewbox=\"0 0 24 24\"><path d=\"M6,8c1.1,0 2,-0.9 2,-2s-0.9,-2 -2,-2 -2,0.9 -2,2 0.9,2 2,2zM12,20c1.1,0 2,-0.9 2,-2s-0.9,-2 -2,-2 -2,0.9 -2,2 0.9,2 2,2zM6,20c1.1,0 2,-0.9 2,-2s-0.9,-2 -2,-2 -2,0.9 -2,2 0.9,2 2,2zM6,14c1.1,0 2,-0.9 2,-2s-0.9,-2 -2,-2 -2,0.9 -2,2 0.9,2 2,2zM12,14c1.1,0 2,-0.9 2,-2s-0.9,-2 -2,-2 -2,0.9 -2,2 0.9,2 2,2zM16,6c0,1.1 0.9,2 2,2s2,-0.9 2,-2 -0.9,-2 -2,-2 -2,0.9 -2,2zM12,8c1.1,0 2,-0.9 2,-2s-0.9,-2 -2,-2 -2,0.9 -2,2 0.9,2 2,2zM18,14c1.1,0 2,-0.9 2,-2s-0.9,-2 -2,-2 -2,0.9 -2,2 0.9,2 2,2zM18,20c1.1,0 2,-0.9 2,-2s-0.9,-2 -2,-2 -2,0.9 -2,2 0.9,2 2,2z\"></path><image alt=\"\" height=\"24\" src=\"https://ssl.gstatic.com/gb/images/bar/al-icon.png\" style=\"border:none;display:none \\9\" width=\"24\"/></svg></a>,\n",
       " <a aria-label=\"Sign in\" class=\"gb_z\" href=\"https://accounts.google.com/ServiceLogin?hl=en&amp;passive=true&amp;continue=https://www.google.com/search%3Fsca_esv%3D2c272caab9e83ec0%26q%3D2025%2Bgraduate%2Bdata%2Bscientist%2Bjobs%2Bnew%2Byork%2Bin%2Bthe%2Blast%2B1%2Bweek%26udm%3D8%26fbs%3DAEQNm0BfLny2ggB-KDliWrXpEAi8buBZhx33_saU4_gDeS9HJ8Cu2ho92Z9huxV-SgXFZL45dc9mshYKwV9pWXsNp7yG5IAQV4w7LRcjjNr7COKHeqZxmq2o8mDQnFwcnkKSfCuULSVjigoOgC3qj-gwznvQI8KfujDDbE8C776YX2jTv2iWcD1lkHgIt66Stt30okyrqrcE%26sa%3DX&amp;ec=GAZAAQ\" target=\"_top\"><span class=\"gb_S\">Sign in</span></a>,\n",
       " <a class=\"LatpMc nPDzT T3FoJb\" data-hveid=\"CBYQAQ\" data-ved=\"2ahUKEwiC1ZrK-tKJAxUFv4kEHQEzON0Q0pQJegQIFhAB\" href=\"/search?sca_esv=2c272caab9e83ec0&amp;q=2025+graduate+data+scientist+jobs+new+york+in+the+last+1+week&amp;source=lnms&amp;fbs=AEQNm0BfLny2ggB-KDliWrXpEAi8buBZhx33_saU4_gDeS9HJ8Cu2ho92Z9huxV-SgXFZL45dc9mshYKwV9pWXsNp7yG5IAQV4w7LRcjjNr7COKHeqZxmq2o8mDQnFwcnkKSfCuULSVjigoOgC3qj-gwznvQI8KfujDDbE8C776YX2jTv2iWcD1lkHgIt66Stt30okyrqrcE&amp;sa=X&amp;ved=2ahUKEwiC1ZrK-tKJAxUFv4kEHQEzON0Q0pQJegQIFhAB\" jsname=\"VIftV\" role=\"link\"><div class=\"YmvwI\" jsname=\"bVqjv\">All</div></a>,\n",
       " <a aria-current=\"page\" aria-disabled=\"true\" class=\"nPDzT\" data-hveid=\"CBcQAQ\" data-ved=\"2ahUKEwiC1ZrK-tKJAxUFv4kEHQEzON0Q850MegQIFxAB\" role=\"link\" tabindex=\"-1\"><div class=\"YmvwI\" jsname=\"bVqjv\" selected=\"\">Jobs</div></a>,\n",
       " <a class=\"LatpMc nPDzT T3FoJb\" data-hveid=\"CBAQAQ\" data-ved=\"2ahUKEwiC1ZrK-tKJAxUFv4kEHQEzON0Q0pQJegQIEBAB\" href=\"/search?sca_esv=2c272caab9e83ec0&amp;q=2025+graduate+data+scientist+jobs+new+york+in+the+last+1+week&amp;tbm=nws&amp;source=lnms&amp;fbs=AEQNm0BfLny2ggB-KDliWrXpEAi8buBZhx33_saU4_gDeS9HJ8Cu2ho92Z9huxV-SgXFZL45dc9mshYKwV9pWXsNp7yG5IAQV4w7LRcjjNr7COKHeqZxmq2o8mDQnFwcnkKSfCuULSVjigoOgC3qj-gwznvQI8KfujDDbE8C776YX2jTv2iWcD1lkHgIt66Stt30okyrqrcE&amp;sa=X&amp;ved=2ahUKEwiC1ZrK-tKJAxUFv4kEHQEzON0Q0pQJegQIEBAB\" jsname=\"VIftV\" role=\"link\"><div class=\"YmvwI\" jsname=\"bVqjv\">News</div></a>,\n",
       " <a class=\"nPDzT T3FoJb\" data-hveid=\"CA8QAQ\" data-ved=\"2ahUKEwiC1ZrK-tKJAxUFv4kEHQEzON0QtKgLegQIDxAB\" href=\"/search?sca_esv=2c272caab9e83ec0&amp;q=2025+graduate+data+scientist+jobs+new+york+in+the+last+1+week&amp;udm=2&amp;fbs=AEQNm0BfLny2ggB-KDliWrXpEAi8buBZhx33_saU4_gDeS9HJ8Cu2ho92Z9huxV-SgXFZL45dc9mshYKwV9pWXsNp7yG5IAQV4w7LRcjjNr7COKHeqZxmq2o8mDQnFwcnkKSfCuULSVjigoOgC3qj-gwznvQI8KfujDDbE8C776YX2jTv2iWcD1lkHgIt66Stt30okyrqrcE&amp;sa=X&amp;ved=2ahUKEwiC1ZrK-tKJAxUFv4kEHQEzON0QtKgLegQIDxAB\" jsname=\"VIftV\" role=\"link\"><div class=\"YmvwI\" jsname=\"bVqjv\">Images</div></a>,\n",
       " <a class=\"nPDzT T3FoJb\" data-hveid=\"CBQQAQ\" data-ved=\"2ahUKEwiC1ZrK-tKJAxUFv4kEHQEzON0Qs6gLegQIFBAB\" href=\"/search?sca_esv=2c272caab9e83ec0&amp;q=2025+graduate+data+scientist+jobs+new+york+in+the+last+1+week&amp;udm=18&amp;fbs=AEQNm0BfLny2ggB-KDliWrXpEAi8buBZhx33_saU4_gDeS9HJ8Cu2ho92Z9huxV-SgXFZL45dc9mshYKwV9pWXsNp7yG5IAQV4w7LRcjjNr7COKHeqZxmq2o8mDQnFwcnkKSfCuULSVjigoOgC3qj-gwznvQI8KfujDDbE8C776YX2jTv2iWcD1lkHgIt66Stt30okyrqrcE&amp;sa=X&amp;ved=2ahUKEwiC1ZrK-tKJAxUFv4kEHQEzON0Qs6gLegQIFBAB\" jsname=\"VIftV\" role=\"link\"><div class=\"YmvwI\" jsname=\"bVqjv\">Forums</div></a>,\n",
       " <a class=\"nPDzT T3FoJb\" data-hveid=\"CBIQAQ\" data-ved=\"2ahUKEwiC1ZrK-tKJAxUFv4kEHQEzON0Qj7gNegQIEhAB\" href=\"/search?sca_esv=2c272caab9e83ec0&amp;q=2025+graduate+data+scientist+jobs+new+york+in+the+last+1+week&amp;udm=28&amp;fbs=AEQNm0BfLny2ggB-KDliWrXpEAi8buBZhx33_saU4_gDeS9HJ8Cu2ho92Z9huxV-SgXFZL45dc9mshYKwV9pWXsNp7yG5IAQV4w7LRcjjNr7COKHeqZxmq2o8mDQnFwcnkKSfCuULSVjigoOgC3qj-gwznvQI8KfujDDbE8C776YX2jTv2iWcD1lkHgIt66Stt30okyrqrcE&amp;ved=1t:220175&amp;ictx=111\" jsname=\"VIftV\" ping=\"/url?sa=t&amp;source=web&amp;rct=j&amp;opi=89978449&amp;url=/search%3Fsca_esv%3D2c272caab9e83ec0%26q%3D2025%2Bgraduate%2Bdata%2Bscientist%2Bjobs%2Bnew%2Byork%2Bin%2Bthe%2Blast%2B1%2Bweek%26udm%3D28%26fbs%3DAEQNm0BfLny2ggB-KDliWrXpEAi8buBZhx33_saU4_gDeS9HJ8Cu2ho92Z9huxV-SgXFZL45dc9mshYKwV9pWXsNp7yG5IAQV4w7LRcjjNr7COKHeqZxmq2o8mDQnFwcnkKSfCuULSVjigoOgC3qj-gwznvQI8KfujDDbE8C776YX2jTv2iWcD1lkHgIt66Stt30okyrqrcE%26ved%3D1t:220175%26ictx%3D111&amp;ved=2ahUKEwiC1ZrK-tKJAxUFv4kEHQEzON0Qj7gNegQIEhAB\" role=\"link\"><div class=\"YmvwI\" jsname=\"bVqjv\">Shopping</div></a>,\n",
       " <a class=\"LatpMc nPDzT T3FoJb\" data-hveid=\"CBMQAQ\" data-ved=\"2ahUKEwiC1ZrK-tKJAxUFv4kEHQEzON0Q0pQJegQIExAB\" href=\"/search?sca_esv=2c272caab9e83ec0&amp;q=2025+graduate+data+scientist+jobs+new+york+in+the+last+1+week&amp;tbm=vid&amp;source=lnms&amp;fbs=AEQNm0BfLny2ggB-KDliWrXpEAi8buBZhx33_saU4_gDeS9HJ8Cu2ho92Z9huxV-SgXFZL45dc9mshYKwV9pWXsNp7yG5IAQV4w7LRcjjNr7COKHeqZxmq2o8mDQnFwcnkKSfCuULSVjigoOgC3qj-gwznvQI8KfujDDbE8C776YX2jTv2iWcD1lkHgIt66Stt30okyrqrcE&amp;sa=X&amp;ved=2ahUKEwiC1ZrK-tKJAxUFv4kEHQEzON0Q0pQJegQIExAB\" jsname=\"VIftV\" role=\"link\"><div class=\"YmvwI\" jsname=\"bVqjv\">Videos</div></a>,\n",
       " <a class=\"d4DFfb nPDzT T3FoJb\" data-hveid=\"CCMQAQ\" data-ved=\"2ahUKEwiC1ZrK-tKJAxUFv4kEHQEzON0Qs6gLegQIIxAB\" href=\"/search?sca_esv=2c272caab9e83ec0&amp;q=2025+graduate+data+scientist+jobs+new+york+in+the+last+1+week&amp;udm=14&amp;fbs=AEQNm0BfLny2ggB-KDliWrXpEAi8buBZhx33_saU4_gDeS9HJ8Cu2ho92Z9huxV-SgXFZL45dc9mshYKwV9pWXsNp7yG5IAQV4w7LRcjjNr7COKHeqZxmq2o8mDQnFwcnkKSfCuULSVjigoOgC3qj-gwznvQI8KfujDDbE8C776YX2jTv2iWcD1lkHgIt66Stt30okyrqrcE&amp;sa=X&amp;ved=2ahUKEwiC1ZrK-tKJAxUFv4kEHQEzON0Qs6gLegQIIxAB\" jsname=\"VIftV\" role=\"link\"><div class=\"eJWNqc YmvwI\" jsname=\"bVqjv\">Web</div></a>,\n",
       " <a class=\"LatpMc d4DFfb nPDzT T3FoJb\" data-hveid=\"CCUQAQ\" data-ved=\"2ahUKEwiC1ZrK-tKJAxUFv4kEHQEzON0Q0pQJegQIJRAB\" href=\"/search?sca_esv=2c272caab9e83ec0&amp;q=2025+graduate+data+scientist+jobs+new+york+in+the+last+1+week&amp;tbm=bks&amp;source=lnms&amp;fbs=AEQNm0BfLny2ggB-KDliWrXpEAi8buBZhx33_saU4_gDeS9HJ8Cu2ho92Z9huxV-SgXFZL45dc9mshYKwV9pWXsNp7yG5IAQV4w7LRcjjNr7COKHeqZxmq2o8mDQnFwcnkKSfCuULSVjigoOgC3qj-gwznvQI8KfujDDbE8C776YX2jTv2iWcD1lkHgIt66Stt30okyrqrcE&amp;sa=X&amp;ved=2ahUKEwiC1ZrK-tKJAxUFv4kEHQEzON0Q0pQJegQIJRAB\" jsname=\"VIftV\" role=\"link\"><div class=\"eJWNqc YmvwI\" jsname=\"bVqjv\">Books</div></a>,\n",
       " <a class=\"LatpMc d4DFfb nPDzT T3FoJb\" data-hveid=\"CCQQAQ\" data-ved=\"2ahUKEwiC1ZrK-tKJAxUFv4kEHQEzON0Qi6AMegQIJBAB\" href=\"https://maps.google.com/maps?sca_esv=2c272caab9e83ec0&amp;output=search&amp;q=2025+graduate+data+scientist+jobs+new+york+in+the+last+1+week&amp;source=lnms&amp;fbs=AEQNm0BfLny2ggB-KDliWrXpEAi8buBZhx33_saU4_gDeS9HJ8Cu2ho92Z9huxV-SgXFZL45dc9mshYKwV9pWXsNp7yG5IAQV4w7LRcjjNr7COKHeqZxmq2o8mDQnFwcnkKSfCuULSVjigoOgC3qj-gwznvQI8KfujDDbE8C776YX2jTv2iWcD1lkHgIt66Stt30okyrqrcE&amp;entry=mc&amp;ved=1t:200715&amp;ictx=111\" jsname=\"VIftV\" ping=\"/url?sa=t&amp;source=web&amp;rct=j&amp;opi=89978449&amp;url=https://maps.google.com/maps%3Fsca_esv%3D2c272caab9e83ec0%26output%3Dsearch%26q%3D2025%2Bgraduate%2Bdata%2Bscientist%2Bjobs%2Bnew%2Byork%2Bin%2Bthe%2Blast%2B1%2Bweek%26source%3Dlnms%26fbs%3DAEQNm0BfLny2ggB-KDliWrXpEAi8buBZhx33_saU4_gDeS9HJ8Cu2ho92Z9huxV-SgXFZL45dc9mshYKwV9pWXsNp7yG5IAQV4w7LRcjjNr7COKHeqZxmq2o8mDQnFwcnkKSfCuULSVjigoOgC3qj-gwznvQI8KfujDDbE8C776YX2jTv2iWcD1lkHgIt66Stt30okyrqrcE%26entry%3Dmc%26ved%3D1t:200715%26ictx%3D111&amp;ved=2ahUKEwiC1ZrK-tKJAxUFv4kEHQEzON0Qi6AMegQIJBAB\" role=\"link\"><div class=\"eJWNqc YmvwI\" jsname=\"bVqjv\">Maps</div></a>,\n",
       " <a aria-label=\"Add Yesterday\" class=\"qSvskb\" data-ved=\"2ahUKEwiC1ZrK-tKJAxUFv4kEHQEzON0QkbEKegQIDBAD\" href=\"/search?sca_esv=2c272caab9e83ec0&amp;q=2025+graduate+data+scientist+jobs+new+york+in+the+last+1+week+since+yesterday&amp;uds=ADvngMijmqg495nDmKmhKyM08ccoc_7pY1GbEOhxwgHxD0V12b8NDFaSaSR8LSBNI9BRQ8P60OJBHWfd_n9gXlv22C3IdIdtLOMN4SZrU4bcw7zTBylN_O8WTY4zB3qJaHCmKhuN-NrkNgI0fpdHS7VbXgdsgItUUb7YQA5NFM7nz7P9ZwInCmgX08xDdvJYAMXhegyIpAl1QaL8E2SZuYqHCoJq-nJ_j3KIyyL3voXkb3JooUf2K5ldwJxTD3fXHgbHnGqqlN6NBx1gCkomximEyN3VWNMnF2yYE62K1j-no2e6VSNrqKMI_M69vOqvt3PKWM5-EQNqphGXaasR3SSf2gYfm0u2vxHMFz0dHCCx8LWu4lVJrmM&amp;udm=8&amp;sa=X&amp;ved=2ahUKEwiC1ZrK-tKJAxUFv4kEHQEzON0QkbEKegQIDBAD\" jsname=\"VIftV\"><div class=\"GKS7s\" jsname=\"bVqjv\"><span class=\"FMKtTb UqcIvb bSsRe\" jsname=\"pIvPIe\">Yesterday</span></div></a>,\n",
       " <a aria-label=\"Add Last 3 days\" class=\"qSvskb\" data-ved=\"2ahUKEwiC1ZrK-tKJAxUFv4kEHQEzON0QkbEKegQIDBAE\" href=\"/search?sca_esv=2c272caab9e83ec0&amp;q=2025+graduate+data+scientist+jobs+new+york+in+the+last+1+week+in+the+last+3+days&amp;uds=ADvngMjcH0KdF7qGWtwTBrP0nt7drk0YWKIrgUQ9f3rhVbGUkRQf__VAXNOZXeItLoRBem38MQ03mLz2ZBK3fJo0WCYW1J87aghb_kgB5adKSmUidC5_9NU9yvP601xkrAhqMPqj6FTrhoT4r06uxEf0BROSC65MT2RJjS5sm6fcbS712NJwwNQgO989z7bX-T-3R5gwEJPPQ3lHEvI_i7hXPmTvKxAL7Ds2DPO9zJraqglORus7jH5sX8C8r6-tfGFlgUGCp79clxPh61zJNKH-z_qg7nfXZe0_KIeG0jA5wpVvY6La9qkqBXiWd81E5fgFK4RCsUT5-yyJ0VXPn8qiCKrhB4IUKojmnJqah2ZvF5I5X4Rg6dU&amp;udm=8&amp;sa=X&amp;ved=2ahUKEwiC1ZrK-tKJAxUFv4kEHQEzON0QkbEKegQIDBAE\" jsname=\"VIftV\"><div class=\"GKS7s\" jsname=\"bVqjv\"><span class=\"FMKtTb UqcIvb bSsRe\" jsname=\"pIvPIe\">Last 3 days</span></div></a>,\n",
       " <a aria-label=\"Add Last week\" class=\"qSvskb\" data-ved=\"2ahUKEwiC1ZrK-tKJAxUFv4kEHQEzON0QkbEKegQIDBAF\" href=\"/search?sca_esv=2c272caab9e83ec0&amp;q=2025+graduate+data+scientist+jobs+new+york+in+the+last+1+week+in+the+last+week&amp;uds=ADvngMjXcR1SZArjwIL3DkY5NAjx1pQVdqRnZ1Nl7VhWRL86C4_f7QLD_y7EuyUWyhUTodT8sNf89wHQTkjhTb97CMDv7hGfPjSvJz0222XdvuJE8oRg6TJzn_Nqru0PQlgSDYweGm2wOWl_b8j6c8C_dUA4COKMqeh0JIdP3p5dGewTut4Y5U0hFYVCuyF8wJriG6zPpmpse4RAOVEi_Pp-YmCiYHDa6achZR78szYKmsHaOOGPNiuUGqn7pSl6EsWMKmHT-BUp9T00KGa_PiQXum-j9BdScGlrEiNeT4hY-R11LHrEiTPS6IHW0lMJ5ww0UZ2ZfxAGUmFP2_dIWZJ8IQGEOw5v8KiqomsNahfFgINvaWKLtHc&amp;udm=8&amp;sa=X&amp;ved=2ahUKEwiC1ZrK-tKJAxUFv4kEHQEzON0QkbEKegQIDBAF\" jsname=\"VIftV\"><div class=\"GKS7s\" jsname=\"bVqjv\"><span class=\"FMKtTb UqcIvb bSsRe\" jsname=\"pIvPIe\">Last week</span></div></a>,\n",
       " <a aria-label=\"Add Last month\" class=\"qSvskb\" data-ved=\"2ahUKEwiC1ZrK-tKJAxUFv4kEHQEzON0QkbEKegQIDBAG\" href=\"/search?sca_esv=2c272caab9e83ec0&amp;q=2025+graduate+data+scientist+jobs+new+york+in+the+last+1+week+in+the+last+month&amp;uds=ADvngMgahqLOueync30L-nnjx5h5AHoTw50kuROr3HROxdDCo8eeqKhWZfAJDBVnWjRtMrDsNqdvKC_atJAVjZYqzCzkCpfCXkeeIKbEgat3_4enHZbUmjecAcBwwa5zUu5aT7YAlcY5Jl12wi7q2jrN4YO6Byt_MrpvqSGWD_Cse9GybNQcbL0cYLIpoHMlLTLe9cGDUmINiRvAB47QkfHmmPUKi3ERzM4uqkLrULadDVuvvrGnNW_PwkNMkgY33x4cEzqfjRPkW_XWY94_1QHB2GJ08KfApAOzmmK0gTggVCXhcYsxygSqFXqpp6t_4iiTD_XO_h0rVaaowAMSgmL54N7qYJOVyokKLJXYkQSdzjoMVudOwC4&amp;udm=8&amp;sa=X&amp;ved=2ahUKEwiC1ZrK-tKJAxUFv4kEHQEzON0QkbEKegQIDBAG\" jsname=\"VIftV\"><div class=\"GKS7s\" jsname=\"bVqjv\"><span class=\"FMKtTb UqcIvb bSsRe\" jsname=\"pIvPIe\">Last month</span></div></a>,\n",
       " <a aria-label=\"Add Full time\" class=\"qSvskb\" data-ved=\"2ahUKEwiC1ZrK-tKJAxUFv4kEHQEzON0QkbEKegQIDRAD\" href=\"/search?sca_esv=2c272caab9e83ec0&amp;q=2025+graduate+data+scientist+jobs+new+york+in+the+last+1+week+full+time&amp;uds=ADvngMgNDerT8NPO4KjNN-0oXVZ-kxe3dyD5JBYM7wi9UYGa1wQRgFWAmKrN2wEi16WZ8q1aWDnZaCHNMuR22gG7RX5SKq1I2-oVdUq6OF8S8I5V0jv1RKMVRGxhKLEzd0CODwiq9a2_nMwlq67c7NMBZIDYOQCCy7_DrioI_FBVT-3hqBZ4TcV4O9oASIRIzWJ3xyH_TrO5KDMLiaVe9XEnnIuaayNLZAnzpS3xmvlNpCfDDbhtzA7xD3JX3hGuZreThdQ7UyWcAdfkzc-ad2lXLhEUttcupFA4eCM4srl1bBmOjWCjATonPWtXMWum8MsZnXMLYPa7DQwgzhqMRG-uvBQ392_xG-AIfPc6XYvWQsfFb5aLaFw&amp;udm=8&amp;sa=X&amp;ved=2ahUKEwiC1ZrK-tKJAxUFv4kEHQEzON0QkbEKegQIDRAD\" jsaction=\"a1lzCb\" jsname=\"VIftV\" role=\"button\" tabindex=\"0\"><div class=\"GKS7s\" jsname=\"bVqjv\"><span class=\"FMKtTb UqcIvb bSsRe\" jsname=\"pIvPIe\">Full time</span></div></a>,\n",
       " <a aria-label=\"Add Part time\" class=\"qSvskb\" data-ved=\"2ahUKEwiC1ZrK-tKJAxUFv4kEHQEzON0QkbEKegQIDRAE\" href=\"/search?sca_esv=2c272caab9e83ec0&amp;q=2025+graduate+data+scientist+jobs+new+york+in+the+last+1+week+part+time&amp;uds=ADvngMhEs-lCobs7V2jc5rLyF036IXLbK8rJbm4aFCsjH_212TEjIB6VBGG8FFRs5fP_i5J6jr1EDTCHmggbpyTyo7gNGizUi7MgkypPaxxF2_hdCf2fe_N4RzQKq7XIsb5wXMhEuzu1nfN36tKxjn7FYc29w5pzFCePZmasXp7YK45W7NFYAeCiJoW2Q5B3d1RkB6fTAmm1AFZHqcvdavj_mvgU6bAVDzKrNRWerBitaVVtmhpEZk7EwJDKKkDB60yzt0KRue1d2FRz12KfOGH-lvOy_3u-mr2MAPyseLSB7ZucxgeFW4wM95ILH1l1XNko7qXkVh5rxag8Ak_Cckc4nqIDCLJTLJ26y8rbIjH96ursdPSz498VCwodgMQ7IzdEFjOjDTCc&amp;udm=8&amp;sa=X&amp;ved=2ahUKEwiC1ZrK-tKJAxUFv4kEHQEzON0QkbEKegQIDRAE\" jsaction=\"a1lzCb\" jsname=\"VIftV\" role=\"button\" tabindex=\"0\"><div class=\"GKS7s\" jsname=\"bVqjv\"><span class=\"FMKtTb UqcIvb bSsRe\" jsname=\"pIvPIe\">Part time</span></div></a>,\n",
       " <a aria-label=\"Add Contract\" class=\"qSvskb\" data-ved=\"2ahUKEwiC1ZrK-tKJAxUFv4kEHQEzON0QkbEKegQIDRAF\" href=\"/search?sca_esv=2c272caab9e83ec0&amp;q=2025+graduate+data+scientist+jobs+new+york+in+the+last+1+week+contract&amp;uds=ADvngMiryL0X42tPzCf9vsutSNwruyGymA-VQ94mapUQmuddQAkbn7fQz5nzAGRMobpf33DNX-ZCrxCRVcxrhBqCenKXU1nHybMlQuwbSb1Uh_AdFchBkfx5szQD5r__-YqU1IUhGw2OIbmewn09NQtelLlZxyuWdmXd2o_r5pVO_oviiMkXKvYG33A-FRXqedzAY_Rde0vS8UfeORFtZ0p3L8eJl0tqplycjIrN8MO-cRlbbuFpnyKiYqm1lMJ-LiKnnisp94NznrtuZGwzpkbaaT4EsRWK-dg88Byeg8oW9UQ9zmjrVQ5nDBOd-nbalWHBxIV7ec4A-uIwIykF91fJZRycS584VsHXTBQpztPMR7iwNLFQgm8&amp;udm=8&amp;sa=X&amp;ved=2ahUKEwiC1ZrK-tKJAxUFv4kEHQEzON0QkbEKegQIDRAF\" jsaction=\"a1lzCb\" jsname=\"VIftV\" role=\"button\" tabindex=\"0\"><div class=\"GKS7s\" jsname=\"bVqjv\"><span class=\"FMKtTb UqcIvb bSsRe\" jsname=\"pIvPIe\">Contract</span></div></a>,\n",
       " <a aria-label=\"Add Internship\" class=\"qSvskb\" data-ved=\"2ahUKEwiC1ZrK-tKJAxUFv4kEHQEzON0QkbEKegQIDRAG\" href=\"/search?sca_esv=2c272caab9e83ec0&amp;q=2025+graduate+data+scientist+jobs+new+york+in+the+last+1+week+internship&amp;uds=ADvngMiC1Pxkj6I8taLjFjeJQ08i_h1HiPBX6ZkpYtON0L3sXUFjjyDXxUGmwzDmf2x19j9R-_eWeU8nagmn2u_58mz1sCoZON_LBKp0M6d7_z8MNlZMJ1nIfpRUU4AkpAgl_kV5md8kgK7IYmjPTjqqvGcKwBwvGf_MmUP_avOvxZjLzm51IoicDlPU3Niduinf0DST1bVJaztj8Qbl7oOiQKSR0x92Oy5zGYE3P_t4N-QCofej1o9dCY5cwGojmE2oTflXTcSoGk4ibhRKQzCteP-0-LL6M5hUgVHVvm5ihQjSqAY9zDrh1qtA58GiUtm5r3h9wQlCuQUgzMrnNQepv3XiLrZYL8ob_-e_5_DVMmTuXtajCQY&amp;udm=8&amp;sa=X&amp;ved=2ahUKEwiC1ZrK-tKJAxUFv4kEHQEzON0QkbEKegQIDRAG\" jsaction=\"a1lzCb\" jsname=\"VIftV\" role=\"button\" tabindex=\"0\"><div class=\"GKS7s\" jsname=\"bVqjv\"><span class=\"FMKtTb UqcIvb bSsRe\" jsname=\"pIvPIe\">Internship</span></div></a>,\n",
       " <a aria-label=\"Add No degree\" class=\"nPDzT T3FoJb\" data-hveid=\"CA4QAQ\" data-ved=\"2ahUKEwiC1ZrK-tKJAxUFv4kEHQEzON0QxKsJegQIDhAB\" href=\"/search?sca_esv=2c272caab9e83ec0&amp;q=2025+graduate+data+scientist+jobs+new+york+in+the+last+1+week+no+degree&amp;uds=ADvngMjcH0KdF7qGWtwTBrP0nt7dH4Mv73iR14cBzoRShUZNR5HnFk496ct0HQaOy49E7ZXFORU5A5g9emaZicyf_HZI38C4qQm5IZbEJcZtCqZ9GzEBcQg-S4xNMx4Q0hRWtWUY_z10ANk8Z4Pk6cWkaTU9cgsp3RTt0uOtwpFvpkGkJlfj55KkyuJMj-IrawZFzxS0ehDcR6QfpAx3VWn9eyG-bEGNP5JGu3XyciOFiFBE_Ew8Law&amp;udm=8&amp;sa=X&amp;ved=2ahUKEwiC1ZrK-tKJAxUFv4kEHQEzON0QxKsJegQIDhAB&amp;ictx=0\" jsname=\"VIftV\" role=\"link\"><div class=\"GKS7s\" jsname=\"bVqjv\"><span class=\"FMKtTb UqcIvb bSsRe\" jsname=\"pIvPIe\">No degree</span></div></a>,\n",
       " <a aria-label=\"Add Remote\" class=\"nPDzT T3FoJb\" data-hveid=\"CBEQAQ\" data-ved=\"2ahUKEwiC1ZrK-tKJAxUFv4kEHQEzON0QxKsJegQIERAB\" href=\"/search?sca_esv=2c272caab9e83ec0&amp;q=2025+graduate+data+scientist+jobs+new+york+in+the+last+1+week+remote&amp;uds=ADvngMjcH0KdF7qGWtwTBrP0nt7drj6x427c1P8pzobnjR880m6Q9HaXkdj6eb9roXT90cKUMITk38gIZ7ZGyKmi0NJ0C0dskKUQubv8TSq959--c1puD5RYqjK83GLZFTXUw4vnooGUHXIRs4OurtD2Z61cOz-Cxz73cMgvCkKlf3I88S9z07Naf6AWCVuSRHtNr7ca61DVLH0NFtAoovnsmm8hxCAwMQ&amp;udm=8&amp;sa=X&amp;ved=2ahUKEwiC1ZrK-tKJAxUFv4kEHQEzON0QxKsJegQIERAB&amp;ictx=0\" jsname=\"VIftV\" role=\"link\"><div class=\"GKS7s\" jsname=\"bVqjv\"><span class=\"FMKtTb UqcIvb bSsRe\" jsname=\"pIvPIe\">Remote</span></div></a>,\n",
       " <a aria-checked=\"false\" href=\"/search?q=2025+graduate+data+scientist+jobs+new+york+in+the+last+1+week&amp;sca_esv=2c272caab9e83ec0&amp;udm=8&amp;source=lnt&amp;tbs=qdr:h&amp;sa=X&amp;ved=2ahUKEwiC1ZrK-tKJAxUFv4kEHQEzON0QpwV6BAgFEAc\" role=\"menuitemradio\">Past hour</a>,\n",
       " <a aria-checked=\"false\" href=\"/search?q=2025+graduate+data+scientist+jobs+new+york+in+the+last+1+week&amp;sca_esv=2c272caab9e83ec0&amp;udm=8&amp;source=lnt&amp;tbs=qdr:d&amp;sa=X&amp;ved=2ahUKEwiC1ZrK-tKJAxUFv4kEHQEzON0QpwV6BAgFEAg\" role=\"menuitemradio\">Past 24 hours</a>,\n",
       " <a aria-checked=\"false\" href=\"/search?q=2025+graduate+data+scientist+jobs+new+york+in+the+last+1+week&amp;sca_esv=2c272caab9e83ec0&amp;udm=8&amp;source=lnt&amp;tbs=qdr:w&amp;sa=X&amp;ved=2ahUKEwiC1ZrK-tKJAxUFv4kEHQEzON0QpwV6BAgFEAk\" role=\"menuitemradio\">Past week</a>,\n",
       " <a aria-checked=\"false\" href=\"/search?q=2025+graduate+data+scientist+jobs+new+york+in+the+last+1+week&amp;sca_esv=2c272caab9e83ec0&amp;udm=8&amp;source=lnt&amp;tbs=qdr:m&amp;sa=X&amp;ved=2ahUKEwiC1ZrK-tKJAxUFv4kEHQEzON0QpwV6BAgFEAo\" role=\"menuitemradio\">Past month</a>,\n",
       " <a aria-checked=\"false\" href=\"/search?q=2025+graduate+data+scientist+jobs+new+york+in+the+last+1+week&amp;sca_esv=2c272caab9e83ec0&amp;udm=8&amp;source=lnt&amp;tbs=qdr:y&amp;sa=X&amp;ved=2ahUKEwiC1ZrK-tKJAxUFv4kEHQEzON0QpwV6BAgFEAs\" role=\"menuitemradio\">Past year</a>,\n",
       " <a aria-checked=\"false\" href=\"/search?q=2025+graduate+data+scientist+jobs+new+york+in+the+last+1+week&amp;sca_esv=2c272caab9e83ec0&amp;udm=8&amp;source=lnt&amp;tbs=li:1&amp;sa=X&amp;ved=2ahUKEwiC1ZrK-tKJAxUFv4kEHQEzON0QpwV6BAgFEBM\" role=\"menuitemradio\">Verbatim</a>,\n",
       " <a href=\"https://www.google.com/advanced_search?sca_esv=2c272caab9e83ec0&amp;q=2025+graduate+data+scientist+jobs+new+york+in+the+last+1+week&amp;udm=8&amp;fbs=AEQNm0BfLny2ggB-KDliWrXpEAi8buBZhx33_saU4_gDeS9HJ8Cu2ho92Z9huxV-SgXFZL45dc9mshYKwV9pWXsNp7yG5IAQV4w7LRcjjNr7COKHeqZxmq2o8mDQnFwcnkKSfCuULSVjigoOgC3qj-gwznvQI8KfujDDbE8C776YX2jTv2iWcD1lkHgIt66Stt30okyrqrcE\" ping=\"/url?sa=t&amp;source=web&amp;rct=j&amp;opi=89978449&amp;url=https://www.google.com/advanced_search%3Fsca_esv%3D2c272caab9e83ec0%26q%3D2025%2Bgraduate%2Bdata%2Bscientist%2Bjobs%2Bnew%2Byork%2Bin%2Bthe%2Blast%2B1%2Bweek%26udm%3D8%26fbs%3DAEQNm0BfLny2ggB-KDliWrXpEAi8buBZhx33_saU4_gDeS9HJ8Cu2ho92Z9huxV-SgXFZL45dc9mshYKwV9pWXsNp7yG5IAQV4w7LRcjjNr7COKHeqZxmq2o8mDQnFwcnkKSfCuULSVjigoOgC3qj-gwznvQI8KfujDDbE8C776YX2jTv2iWcD1lkHgIt66Stt30okyrqrcE&amp;ved=2ahUKEwiC1ZrK-tKJAxUFv4kEHQEzON0Q7psIegQIBRAU\"> <div class=\"AozSsc\"><span class=\"KTBKoe\">Advanced Search</span></div> </a>,\n",
       " <a href=\"/history/optout?hl=en\" ping=\"/url?sa=t&amp;source=web&amp;rct=j&amp;opi=89978449&amp;url=/history/optout%3Fhl%3Den&amp;ved=2ahUKEwiC1ZrK-tKJAxUFv4kEHQEzON0QpdoJegQIChAF\"><span class=\"z1asCe dAmgBb\"><svg focusable=\"false\" viewbox=\"0 0 24 24\" xmlns=\"http://www.w3.org/2000/svg\"><path d=\"M4 4v2.01C5.83 3.58 8.73 2 12.01 2 17.53 2 22 6.48 22 12s-4.47 10-9.99 10C6.48 22 2 17.52 2 12h2c0 4.42 3.58 8 8 8s8-3.58 8-8-3.58-8-8-8C9.04 4 6.47 5.61 5.09 8H8v2H2V4h2z\"></path><path d=\"M13 12V6h-2v7l4.97 3.49 1.26-1.55z\"></path></svg></span><div class=\"uXoAyd\"><span class=\"ZI7elf\">Search Customization</span><span class=\"kQEH5b\"><span data-ved=\"2ahUKEwiC1ZrK-tKJAxUFv4kEHQEzON0Qp9oJegQIChAG\" jsname=\"dYUyg\" style=\"display: none;\">Off</span></span></div></a>,\n",
       " <a href=\"/safesearch?prev=https://www.google.com/search?sca_esv%3D2c272caab9e83ec0%26q%3D2025%2Bgraduate%2Bdata%2Bscientist%2Bjobs%2Bnew%2Byork%2Bin%2Bthe%2Blast%2B1%2Bweek%26udm%3D8%26fbs%3DAEQNm0BfLny2ggB-KDliWrXpEAi8buBZhx33_saU4_gDeS9HJ8Cu2ho92Z9huxV-SgXFZL45dc9mshYKwV9pWXsNp7yG5IAQV4w7LRcjjNr7COKHeqZxmq2o8mDQnFwcnkKSfCuULSVjigoOgC3qj-gwznvQI8KfujDDbE8C776YX2jTv2iWcD1lkHgIt66Stt30okyrqrcE%26sa%3DX&amp;sa=X&amp;ved=2ahUKEwiC1ZrK-tKJAxUFv4kEHQEzON0Q8JsIegQIChAH\"><span class=\"z1asCe\"><svg height=\"24\" viewbox=\"0 -960 960 960\" width=\"24\" xmlns=\"http://www.w3.org/2000/svg\"><path d=\"m644-428-58-58q9-47-27-88t-93-32l-58-58q17-8 34.5-12t37.5-4q75 0 127.5 52.5T660-500q0 20-4 37.5T644-428Zm128 126-58-56q38-29 67.5-63.5T832-500q-50-101-143.5-160.5T480-720q-29 0-57 4t-55 12l-62-62q41-17 84-25.5t90-8.5q151 0 269 83.5T920-500q-23 59-60.5 109.5T772-302Zm20 246L624-222q-35 11-70.5 16.5T480-200q-151 0-269-83.5T40-500q21-53 53-98.5t73-81.5L56-792l56-56 736 736-56 56ZM222-624q-29 26-53 57t-41 67q50 101 143.5 160.5T480-280q20 0 39-2.5t39-5.5l-36-38q-11 3-21 4.5t-21 1.5q-75 0-127.5-52.5T300-500q0-11 1.5-21t4.5-21l-84-82Zm319 93Zm-151 75Z\"></path></svg></span><div class=\"uXoAyd\"><span class=\"ZI7elf\">SafeSearch</span><span class=\"kQEH5b\">Blurring on</span></div></a>,\n",
       " <a href=\"/preferences?lang=1&amp;hl=en&amp;prev=https://www.google.com/search?q%3D2025%2Bgraduate%2Bdata%2Bscientist%2Bjobs%2Bnew%2Byork%2Bin%2Bthe%2Blast%2B1%2Bweek%26sa%3DX%26sca_esv%3D2c272caab9e83ec0%26udm%3D8#languages\" ping=\"/url?sa=t&amp;source=web&amp;rct=j&amp;opi=89978449&amp;url=/preferences%3Flang%3D1%26hl%3Den%26prev%3Dhttps://www.google.com/search%3Fq%253D2025%252Bgraduate%252Bdata%252Bscientist%252Bjobs%252Bnew%252Byork%252Bin%252Bthe%252Blast%252B1%252Bweek%2526sa%253DX%2526sca_esv%253D2c272caab9e83ec0%2526udm%253D8%23languages&amp;ved=2ahUKEwiC1ZrK-tKJAxUFv4kEHQEzON0Q8ZsIegQIChAI\" style=\"display:flex\"><span class=\"z1asCe Rxk5mb\"><svg focusable=\"false\" viewbox=\"0 0 24 24\" xmlns=\"http://www.w3.org/2000/svg\"><path d=\"M11.99 2C6.47 2 2 6.48 2 12s4.47 10 9.99 10C17.52 22 22 17.52 22 12S17.52 2 11.99 2zm6.93 6h-2.95a15.65 15.65 0 0 0-1.38-3.56A8.03 8.03 0 0 1 18.92 8zM12 4.04c.83 1.2 1.48 2.53 1.91 3.96h-3.82c.43-1.43 1.08-2.76 1.91-3.96zM4.26 14C4.1 13.36 4 12.69 4 12s.1-1.36.26-2h3.38c-.08.66-.14 1.32-.14 2s.06 1.34.14 2H4.26zm.82 2h2.95c.32 1.25.78 2.45 1.38 3.56A7.987 7.987 0 0 1 5.08 16zm2.95-8H5.08a7.987 7.987 0 0 1 4.33-3.56A15.65 15.65 0 0 0 8.03 8zM12 19.96c-.83-1.2-1.48-2.53-1.91-3.96h3.82c-.43 1.43-1.08 2.76-1.91 3.96zM14.34 14H9.66c-.09-.66-.16-1.32-.16-2s.07-1.35.16-2h4.68c.09.65.16 1.32.16 2s-.07 1.34-.16 2zm.25 5.56c.6-1.11 1.06-2.31 1.38-3.56h2.95a8.03 8.03 0 0 1-4.33 3.56zM16.36 14c.08-.66.14-1.32.14-2s-.06-1.34-.14-2h3.38c.16.64.26 1.31.26 2s-.1 1.36-.26 2h-3.38z\"></path></svg></span><div class=\"uXoAyd\"><div class=\"ZI7elf UCGAnb\">Language</div><span class=\"kQEH5b\">English</span></div></a>,\n",
       " <a href=\"/setprefs?hl=en&amp;prev=https://www.google.com/search?sca_esv%3D2c272caab9e83ec0%26q%3D2025%2Bgraduate%2Bdata%2Bscientist%2Bjobs%2Bnew%2Byork%2Bin%2Bthe%2Blast%2B1%2Bweek%26udm%3D8%26fbs%3DAEQNm0BfLny2ggB-KDliWrXpEAi8buBZhx33_saU4_gDeS9HJ8Cu2ho92Z9huxV-SgXFZL45dc9mshYKwV9pWXsNp7yG5IAQV4w7LRcjjNr7COKHeqZxmq2o8mDQnFwcnkKSfCuULSVjigoOgC3qj-gwznvQI8KfujDDbE8C776YX2jTv2iWcD1lkHgIt66Stt30okyrqrcE%26sa%3DX%26pccc%3D1&amp;sig=0_IP0fxbA-0fQL5FMEJYh3Sz2nm5I%3D&amp;cs=2&amp;sa=X&amp;ved=2ahUKEwiC1ZrK-tKJAxUFv4kEHQEzON0QqsEHegQIChAJ&amp;ictx=1\"><span class=\"z1asCe tSAV7\"><svg enable-background=\"new 0 0 24 24\" focusable=\"false\" height=\"24\" viewbox=\"0 0 24 24\" width=\"24\" xmlns=\"http://www.w3.org/2000/svg\"><rect fill=\"none\" height=\"24\" width=\"24\"></rect><path d=\"M9.37,5.51C9.19,6.15,9.1,6.82,9.1,7.5c0,4.08,3.32,7.4,7.4,7.4c0.68,0,1.35-0.09,1.99-0.27C17.45,17.19,14.93,19,12,19 c-3.86,0-7-3.14-7-7C5,9.07,6.81,6.55,9.37,5.51z M12,3c-4.97,0-9,4.03-9,9s4.03,9,9,9s9-4.03,9-9c0-0.46-0.04-0.92-0.1-1.36 c-0.98,1.37-2.58,2.26-4.4,2.26c-2.98,0-5.4-2.42-5.4-5.4c0-1.81,0.89-3.42,2.26-4.4C12.92,3.04,12.46,3,12,3L12,3z\"></path></svg></span><div class=\"uXoAyd\"><span class=\"ZI7elf UCGAnb\">Dark theme</span><span class=\"kQEH5b\">Device default</span></div></a>,\n",
       " <a class=\"tGS0Nc\" href=\"/preferences?hl=en&amp;prev=https://www.google.com/search?q%3D2025%2Bgraduate%2Bdata%2Bscientist%2Bjobs%2Bnew%2Byork%2Bin%2Bthe%2Blast%2B1%2Bweek%26sa%3DX%26sca_esv%3D2c272caab9e83ec0%26udm%3D8\" ping=\"/url?sa=t&amp;source=web&amp;rct=j&amp;opi=89978449&amp;url=/preferences%3Fhl%3Den%26prev%3Dhttps://www.google.com/search%3Fq%253D2025%252Bgraduate%252Bdata%252Bscientist%252Bjobs%252Bnew%252Byork%252Bin%252Bthe%252Blast%252B1%252Bweek%2526sa%253DX%2526sca_esv%253D2c272caab9e83ec0%2526udm%253D8&amp;ved=2ahUKEwiC1ZrK-tKJAxUFv4kEHQEzON0Q65sIegQIChAK\" tabindex=\"0\">More settings<span class=\"z1asCe GNeCNe\"><svg focusable=\"false\" viewbox=\"0 0 24 24\" xmlns=\"http://www.w3.org/2000/svg\"><path d=\"M10 6L8.59 7.41 13.17 12l-4.58 4.59L10 18l6-6z\"></path></svg></span></a>,\n",
       " <a href=\"https://support.google.com/websearch/?p=dsrp_search_hc&amp;hl=en\" ping=\"/url?sa=t&amp;source=web&amp;rct=j&amp;opi=89978449&amp;url=https://support.google.com/websearch/%3Fp%3Ddsrp_search_hc%26hl%3Den&amp;ved=2ahUKEwiC1ZrK-tKJAxUFv4kEHQEzON0Q8psIegQIChAM\">Help</a>,\n",
       " <a href=\"https://policies.google.com/privacy?hl=en&amp;fg=1\" ping=\"/url?sa=t&amp;source=web&amp;rct=j&amp;opi=89978449&amp;url=https://policies.google.com/privacy%3Fhl%3Den%26fg%3D1&amp;ved=2ahUKEwiC1ZrK-tKJAxUFv4kEHQEzON0QxZEKegQIChAN\">Privacy</a>,\n",
       " <a href=\"https://policies.google.com/terms?hl=en&amp;fg=1\" ping=\"/url?sa=t&amp;source=web&amp;rct=j&amp;opi=89978449&amp;url=https://policies.google.com/terms%3Fhl%3Den%26fg%3D1&amp;ved=2ahUKEwiC1ZrK-tKJAxUFv4kEHQEzON0Qu58KegQIChAO\">Terms</a>,\n",
       " <a class=\"mh8jsf\" data-ved=\"2ahUKEwiC1ZrK-tKJAxUFv4kEHQEzON0Qv8MHegQICxAC\" href=\"#\" jsaction=\"oRIe8b\" jsname=\"hXPRfe\" role=\"button\" tabindex=\"0\"><span class=\"HzHK1\">Choose area</span></a>,\n",
       " <a aria-label=\"How location is used\" data-biw=\"1440\" data-ved=\"2ahUKEwiC1ZrK-tKJAxUFv4kEHQEzON0Q-OcIegQICxAF\" href=\"#\" jsaction=\"click:HTIlC\" jsname=\"gXWYVe\" role=\"button\" style=\"white-space:normal\" tabindex=\"0\"><div class=\"bWHbab\"><span class=\"itmdEc z1asCe SaPW2b\" style=\"height:18px;line-height:18px;width:18px\"><svg focusable=\"false\" viewbox=\"0 0 24 24\" xmlns=\"http://www.w3.org/2000/svg\"><path d=\"M12 8c1.1 0 2-.9 2-2s-.9-2-2-2-2 .9-2 2 .9 2 2 2zm0 2c-1.1 0-2 .9-2 2s.9 2 2 2 2-.9 2-2-.9-2-2-2zm0 6c-1.1 0-2 .9-2 2s.9 2 2 2 2-.9 2-2-.9-2-2-2z\"></path></svg></span></div></a>,\n",
       " <a aria-selected=\"true\" class=\"zzG8g kvxLRc\" data-index=\"0\" data-uiis=\"1\" jsaction=\"h5M12e\" jsname=\"AznF2e\" role=\"tab\" style=\"height:48px;border-color:#4285f4;padding:0 16px\" tabindex=\"0\"><div class=\"F3Istb sSWCId\" jsslot=\"\"> <div data-ved=\"2ahUKEwiC1ZrK-tKJAxUFv4kEHQEzON0Qo-8GegQIIRAI\" jsname=\"nDlIDf\"> Job postings </div> </div><div class=\"jAWEXe\" style=\"min-height:48px\"></div></a>,\n",
       " <a aria-selected=\"false\" class=\"zzG8g QmGLUd kvxLRc\" data-index=\"1\" jsaction=\"h5M12e\" jsname=\"AznF2e\" role=\"tab\" style=\"height:48px;color:var(--IXoxUe);border-color:#4285f4;padding:0 16px\" tabindex=\"-1\"><div class=\"F3Istb sSWCId\" jsslot=\"\"> <div class=\"ZXLb6c\" data-ved=\"2ahUKEwiC1ZrK-tKJAxUFv4kEHQEzON0Qou8GegQIIRAJ\" jsname=\"ojJkqc\"> <div>Saved jobs</div> </div> </div><div class=\"jAWEXe\" style=\"min-height:48px\"></div></a>,\n",
       " <a aria-selected=\"false\" class=\"zzG8g QmGLUd kvxLRc\" data-index=\"2\" jsaction=\"h5M12e\" jsname=\"AznF2e\" role=\"tab\" style=\"height:48px;color:var(--IXoxUe);border-color:#4285f4;padding:0 16px\" tabindex=\"-1\"><div class=\"F3Istb sSWCId\" jsslot=\"\"> <div data-ved=\"2ahUKEwiC1ZrK-tKJAxUFv4kEHQEzON0Qoe8GegQIIRAK\" jsname=\"SckOAe\"> Following </div> </div><div class=\"jAWEXe\" style=\"min-height:48px\"></div></a>,\n",
       " <a class=\"MQUd2b\" href=\"https://www.google.com/search?sca_esv=2c272caab9e83ec0&amp;q=2025+graduate+data+scientist+jobs+new+york+in+the+last+1+week&amp;udm=8&amp;fbs=AEQNm0BfLny2ggB-KDliWrXpEAi8buBZhx33_saU4_gDeS9HJ8Cu2ho92Z9huxV-SgXFZL45dc9mshYKwV9pWXsNp7yG5IAQV4w7LRcjjNr7COKHeqZxmq2o8mDQnFwcnkKSfCuULSVjigoOgC3qj-gwznvQI8KfujDDbE8C776YX2jTv2iWcD1lkHgIt66Stt30okyrqrcE&amp;sa=X#vhid=vt%3D20/docid%3DNvFwK9UY2QK0z2foAAAAAA%3D%3D&amp;vssid=jobs-detail-viewer\"> <span class=\"rPPrHb\"> <div> <g-img class=\"p761wc\"><img alt=\"\" class=\"YQ4gaf zr758c\" data-atf=\"1\" data-csiid=\"-kYxZ4LwCYX-ptQPgebg6Q0_1\" height=\"56\" id=\"_-kYxZ4LwCYX-ptQPgebg6Q0_54\" src=\"data:image/jpeg;base64,/9j/4AAQSkZJRgABAQAAAQABAAD/2wCEAAkGBwgHBgkIBwgKCgkLDRYPDQwMDRsUFRAWIB0iIiAdHx8kKDQsJCYxJx8fLT0tMTU3Ojo6Iys/RD84QzQ5OjcBCgoKDQwNGg8PGjclHyU3Nzc3Nzc3Nzc3Nzc3Nzc3Nzc3Nzc3Nzc3Nzc3Nzc3Nzc3Nzc3Nzc3Nzc3Nzc3Nzc3N//AABEIADgAOAMBIgACEQEDEQH/xAAcAAEAAgIDAQAAAAAAAAAAAAAAAQcFBgIDBAj/xAAwEAABAwMDAwEGBgMAAAAAAAABAgMEAAURBhIhEzFBURQiI2FxgQcVFjJSYjNCQ//EABkBAQACAwAAAAAAAAAAAAAAAAABBAIFBv/EACIRAAICAQMEAwAAAAAAAAAAAAABAgMRBSFBBBJxsSIxkf/aAAwDAQACEQMRAD8AvGlKjNATSozTNATSozTNATSlKA1r8Qvzn9MSP0/u9oz8XZ/k6WDu2f27fPGcc4qjBfrw7bmrWmfIVGS5vQ2lRzuPbnueew9TX0nKd6EZx7puO9NJVsbxuVjwM45rSGoum46Ea8atkwpkoS4hoIT7u88OhGcAqyD385wDmq91MpvKZuNO1Grpq5QsgnyvJr+pZ+oTbNMWW6yVxX57m2U4g4WU70pTuI8gKyR64rsu+k3LSqZBteplHqRi63b3pA9oWpIKgUgY77Tzjtmt71Jpu36pt7TVwbdaUj321pIDjRPceR9Rz2rxac0Rb7HcF3EyZU6aU7EvSl7ikduPtxUOp925MOvrVS7fi1nbCw3nK/Por+HdpmqXdMWqJLdbXFjLVKcDhAyknG8+eEJ7/wA6xyBLtUhL+ovz2HL6+RcmHeog/Lng+vCjx4rf9M2DTlnu13LZkIcLoguNzNmz4mFBLeO4UCkc814LXoCyXFctlqZd0Q4k1TbkF1xIRvAB4xngpUOe+KwdVmM8lmOodIpOK2h435b985RY7C0usNuIUFpWkKCh5BHelcm0JbbShtIShIASB4FKuHOs6pzrbEJ955W1tDalKV6DFVuIqWvwqtr67jcMiJGbMcn3QtO0KRt254KVD7VZ9KAqyd15Mi5mTMaYurktZgO7H1yEtlXwFMpScFG3aVADbndu/wBqjUiowsWpDcVTRqUOSfZuiXer08no9Lb/AMtmzdjj927nNWpSgKyuzMBcqZ1W1GKi4W6Q2cLwI+xtBXn+IwQT4xzXC4piC2ayu0Yum5RppchOJK8oUGmwjYPQqSQcfuwQcirQpQGNt93bnTXo7TKwhCQpLp7KBxj6Zzx6ilZKlAKUpQClKUApSlAKUpQH/9k=\" width=\"56\"/></g-img> </div> <div class=\"bj4wsc\"> </div> </span> <span class=\"gmxZue\"> <div class=\"u9g6vf\"> <div class=\"GoEOPd\"> <div class=\"tNxQIb PUpOsf\">Data Analytics Engineering Graduate Internship - Summer 2025</div> <div class=\"wHYlTd MKCbgd a3jPc\">CVS Health</div> <div class=\"wHYlTd FqK3wc MKCbgd\">   New York, NY     •  via LinkedIn   </div> </div> <div class=\"HFilHf\"> </div> </div> <div class=\"ApHyTb ncqQR\" style=\"gap:8px\"><div class=\"K3eUK\"><span aria-hidden=\"true\" style=\"height:18px\"><span class=\"z1asCe EZMfad\" style=\"height:18px;line-height:18px;width:18px\"><svg focusable=\"false\" viewbox=\"0 0 24 24\" xmlns=\"http://www.w3.org/2000/svg\"><path d=\"M11.99 2C6.47 2 2 6.48 2 12s4.47 10 9.99 10C17.52 22 22 17.52 22 12S17.52 2 11.99 2zM12 20c-4.42 0-8-3.58-8-8s3.58-8 8-8 8 3.58 8 8-3.58 8-8 8z\"></path><path d=\"M12.5 7H11v6l5.25 3.15.75-1.23-4.5-2.67z\"></path></svg></span></span><span aria-label=\"Posted 17 hours ago\" class=\"Yf9oye\"><span aria-hidden=\"true\">17 hours ago</span></span></div><div class=\"K3eUK\"><span aria-hidden=\"true\" style=\"height:18px\"><span class=\"z1asCe mQ5pwc\" style=\"height:18px;line-height:18px;width:18px\"><svg focusable=\"false\" viewbox=\"0 0 24 24\" xmlns=\"http://www.w3.org/2000/svg\"><path d=\"M20 6h-4V4c0-1.11-.89-2-2-2h-4c-1.11 0-2 .89-2 2v2H4c-1.11 0-1.99.89-1.99 2L2 19c0 1.11.89 2 2 2h16c1.11 0 2-.89 2-2V8c0-1.11-.89-2-2-2zm-6 0h-4V4h4v2z\"></path></svg></span></span><span aria-label=\"Employment Type Full-time\" class=\"Yf9oye\"><span aria-hidden=\"true\">Full-time</span></span></div><div class=\"HvHIEc\"><span aria-hidden=\"true\" class=\"z1asCe\" style=\"height:18px;line-height:18px;width:18px\"><svg enable-background=\"new 0 0 24 24\" focusable=\"false\" height=\"24\" viewbox=\"0 0 24 24\" width=\"24\" xmlns=\"http://www.w3.org/2000/svg\"><rect fill=\"none\" height=\"24\" width=\"24\"></rect><path d=\"M10.5,13H8v-3h2.5V7.5h3V10H16v3h-2.5v2.5h-3V13z M12,2L4,5v6.09c0,5.05,3.41,9.76,8,10.91c4.59-1.15,8-5.86,8-10.91V5L12,2 z M18,11.09c0,4-2.55,7.7-6,8.83c-3.45-1.13-6-4.82-6-8.83v-4.7l6-2.25l6,2.25V11.09z\"></path></svg></span><span>Health insurance</span></div></div> </span> </a>,\n",
       " <a class=\"MQUd2b\" href=\"https://www.google.com/search?sca_esv=2c272caab9e83ec0&amp;q=2025+graduate+data+scientist+jobs+new+york+in+the+last+1+week&amp;udm=8&amp;fbs=AEQNm0BfLny2ggB-KDliWrXpEAi8buBZhx33_saU4_gDeS9HJ8Cu2ho92Z9huxV-SgXFZL45dc9mshYKwV9pWXsNp7yG5IAQV4w7LRcjjNr7COKHeqZxmq2o8mDQnFwcnkKSfCuULSVjigoOgC3qj-gwznvQI8KfujDDbE8C776YX2jTv2iWcD1lkHgIt66Stt30okyrqrcE&amp;sa=X#vhid=vt%3D20/docid%3DoxAi54Zr9z-AWBj1AAAAAA%3D%3D&amp;vssid=jobs-detail-viewer\"> <span class=\"rPPrHb\"> <div> <g-img class=\"p761wc\"><img alt=\"\" class=\"YQ4gaf zr758c\" data-atf=\"1\" data-csiid=\"-kYxZ4LwCYX-ptQPgebg6Q0_2\" height=\"56\" id=\"_-kYxZ4LwCYX-ptQPgebg6Q0_51\" src=\"data:image/png;base64,iVBORw0KGgoAAAANSUhEUgAAADgAAAA4CAMAAACfWMssAAAAYFBMVEX///8WFhYAAAASEhIgICAKCgq8vLyZmZm0tLSWlpYcHBzCwsLFxcU1NTUPDw9fX1/h4eHW1tZ8fHyJiYnPz8/n5+dSUlJubm6oqKhKSkpXV1c7OztoaGj5+fl1dXWioqKB22cZAAABTUlEQVRIie2U2Y6EIBBF4SIIrSCC+/r/fzmFTpt5mGQSn6YTbwIpkFOLRWDs0aNHn6/sppi4KcZv6gH/HQhIgAsalxzE3+BrU0sMsI26SDe28Vr87oJAuj5Aa2A0uJPppBQoIpwjy3FYx899x2VyckwH+CKwyJFrYKrAMfcWZcy6Dlk/IR+sQFVByBGLJW/09QLHQBCB9aR2BDP7BCprFS9Qqw1NV9WIrB+YzBRvFvkG53FQCeQwCi0cZWAixV8nDmWQF7SxgxJb50FvOx18pyrBJqoxbEpjhaAa6xoCca1TEbQJ8pxAWwYAP35OxrjRfE1hvQHVGHSDXqKdG4PFA03Pj4ixBUZxtiN40+vupVWmyuCnzPtgy537vRqCQd8GxDxGbL7q6oihVbN4XwBKlVpAuSUzzedCpqy+R5qkO+3Uj/tPx+3H6tGjR5+vL1jyFS+blp5AAAAAAElFTkSuQmCC\" width=\"56\"/></g-img> </div> <div class=\"bj4wsc\"> </div> </span> <span class=\"gmxZue\"> <div class=\"u9g6vf\"> <div class=\"GoEOPd\"> <div class=\"tNxQIb PUpOsf\">2025 Blackstone Data Science Summer Analyst</div> <div class=\"wHYlTd MKCbgd a3jPc\">Blackstone</div> <div class=\"wHYlTd FqK3wc MKCbgd\">   New York, NY     •  via Recruit.net   </div> </div> <div class=\"HFilHf\"> </div> </div> <div class=\"ApHyTb ncqQR\" style=\"gap:8px\"><div class=\"K3eUK\"><span aria-hidden=\"true\" style=\"height:18px\"><span class=\"z1asCe EZMfad\" style=\"height:18px;line-height:18px;width:18px\"><svg focusable=\"false\" viewbox=\"0 0 24 24\" xmlns=\"http://www.w3.org/2000/svg\"><path d=\"M11.99 2C6.47 2 2 6.48 2 12s4.47 10 9.99 10C17.52 22 22 17.52 22 12S17.52 2 11.99 2zM12 20c-4.42 0-8-3.58-8-8s3.58-8 8-8 8 3.58 8 8-3.58 8-8 8z\"></path><path d=\"M12.5 7H11v6l5.25 3.15.75-1.23-4.5-2.67z\"></path></svg></span></span><span aria-label=\"Posted 24 hours ago\" class=\"Yf9oye\"><span aria-hidden=\"true\">24 hours ago</span></span></div><div class=\"K3eUK\"><span aria-hidden=\"true\" style=\"height:18px\"><span class=\"z1asCe mQ5pwc\" style=\"height:18px;line-height:18px;width:18px\"><svg focusable=\"false\" viewbox=\"0 0 24 24\" xmlns=\"http://www.w3.org/2000/svg\"><path d=\"M20 6h-4V4c0-1.11-.89-2-2-2h-4c-1.11 0-2 .89-2 2v2H4c-1.11 0-1.99.89-1.99 2L2 19c0 1.11.89 2 2 2h16c1.11 0 2-.89 2-2V8c0-1.11-.89-2-2-2zm-6 0h-4V4h4v2z\"></path></svg></span></span><span aria-label=\"Employment Type Full-time\" class=\"Yf9oye\"><span aria-hidden=\"true\">Full-time</span></span></div><div class=\"HvHIEc\"><span aria-hidden=\"true\" class=\"z1asCe\" style=\"height:18px;line-height:18px;width:18px\"><svg enable-background=\"new 0 0 24 24\" focusable=\"false\" height=\"24\" viewbox=\"0 0 24 24\" width=\"24\" xmlns=\"http://www.w3.org/2000/svg\"><rect fill=\"none\" height=\"24\" width=\"24\"></rect><path d=\"M10.5,13H8v-3h2.5V7.5h3V10H16v3h-2.5v2.5h-3V13z M12,2L4,5v6.09c0,5.05,3.41,9.76,8,10.91c4.59-1.15,8-5.86,8-10.91V5L12,2 z M18,11.09c0,4-2.55,7.7-6,8.83c-3.45-1.13-6-4.82-6-8.83v-4.7l6-2.25l6,2.25V11.09z\"></path></svg></span><span>Health insurance</span></div></div> </span> </a>,\n",
       " <a class=\"MQUd2b\" href=\"https://www.google.com/search?sca_esv=2c272caab9e83ec0&amp;q=2025+graduate+data+scientist+jobs+new+york+in+the+last+1+week&amp;udm=8&amp;fbs=AEQNm0BfLny2ggB-KDliWrXpEAi8buBZhx33_saU4_gDeS9HJ8Cu2ho92Z9huxV-SgXFZL45dc9mshYKwV9pWXsNp7yG5IAQV4w7LRcjjNr7COKHeqZxmq2o8mDQnFwcnkKSfCuULSVjigoOgC3qj-gwznvQI8KfujDDbE8C776YX2jTv2iWcD1lkHgIt66Stt30okyrqrcE&amp;sa=X#vhid=vt%3D20/docid%3Do0_83mOgF7NJz0nRAAAAAA%3D%3D&amp;vssid=jobs-detail-viewer\"> <span class=\"rPPrHb\"> <div> <g-img class=\"p761wc\"><img alt=\"\" class=\"YQ4gaf zr758c\" data-atf=\"1\" data-csiid=\"-kYxZ4LwCYX-ptQPgebg6Q0_3\" height=\"56\" id=\"_-kYxZ4LwCYX-ptQPgebg6Q0_53\" src=\"data:image/jpeg;base64,/9j/4AAQSkZJRgABAQAAAQABAAD/2wCEAAkGBwgHBgkIBwgKCgkLDRYPDQwMDRsUFRAWIB0iIiAdHx8kKDQsJCYxJx8fLT0tMTU3Ojo6Iys/RD84QzQ5OjcBCgoKDQwNGg8PGjclHyU3Nzc3Nzc3Nzc3Nzc3Nzc3Nzc3Nzc3Nzc3Nzc3Nzc3Nzc3Nzc3Nzc3Nzc3Nzc3Nzc3N//AABEIADgAOAMBIgACEQEDEQH/xAAaAAEAAwEBAQAAAAAAAAAAAAAAAwUGBwIE/8QAMBAAAQQBAgIJAgcBAAAAAAAAAQACAwQFBhEhMRIWIjZVc5Gx0VFhFDJSdIGUsgf/xAAXAQEBAQEAAAAAAAAAAAAAAAAAAgED/8QAIhEAAwABAQkBAAAAAAAAAAAAAAECERIDITEyQVFScYET/9oADAMBAAIRAxEAPwDhqIp6dSe9ajq1IzLPIdmMHNxQECLQdSdS+ET+rflOpOpfCJ/Vvyr0V2I/WPJGfRaDqTqXwif1b8qmuVJ6NmStbjMU8Z6L2Hm0qXLXFGq5rgyBERYUFf6D74Yrzx7FUCv9B98MV549iqjmRG15K9E+p87mINSZSKHLX442W5WtY2y8BoDjsAN+SrOsWc8ZyP8Aaf8AK96t705f95L/ALKqVtU8syJnStxptMZ3MT6jxcU2WvyRvtxNcx1l5DgXDcEbqDXne/K+efYL49NTR1tQ4yed4jijtRue93ANAcNyVPrKzDb1RkbFWVssMk27HsO4cNgtzmPpKnG1yl0KVERczsFf6D74Yrzx7FUCmqWZ6dmOzVldFNGd2PaeLStl4aZNrVLR0LCYV0n/AGCvHl8d06VzITljbEW7Jm9o77HgRxBUhMOnNPaZdi9M47MOy0bpbE9qp+IdJL0iDCz9BaBtsOO/8rFP1Nm33a112Tsm1VJMEpd2oyeB2XvEas1Bha0tbFZe3VglJLo45CBueZH0P3C2mm8oQmpSZ1DF4zB4nT+CnmpYhkmTmkNqO7i57Ujnh5aYIy0OMZaARse1uN/quU6pr0Kmo8jXxJkNGOw9sIlY5rmt3/KQ4BwI5cePBT4rVuocPFPFjMxcrxzuLpGslOxcebuPI/ccVTyyPmkdJK9z5Hkuc5x3LieZJUlHhERAEREAREQBERAEREB//9k=\" width=\"56\"/></g-img> </div> <div class=\"bj4wsc\"> </div> </span> <span class=\"gmxZue\"> <div class=\"u9g6vf\"> <div class=\"GoEOPd\"> <div class=\"tNxQIb PUpOsf\">Summer Internship Program 2025 - Data Analyst, Data Science and Visualization Intern</div> <div class=\"wHYlTd MKCbgd a3jPc\">ICE</div> <div class=\"wHYlTd FqK3wc MKCbgd\">   New York, NY     •  via LinkedIn   </div> </div> <div class=\"HFilHf\"> </div> </div> <div class=\"ApHyTb ncqQR\" style=\"gap:8px\"><div class=\"K3eUK\"><span aria-hidden=\"true\" style=\"height:18px\"><span class=\"z1asCe EZMfad\" style=\"height:18px;line-height:18px;width:18px\"><svg focusable=\"false\" viewbox=\"0 0 24 24\" xmlns=\"http://www.w3.org/2000/svg\"><path d=\"M11.99 2C6.47 2 2 6.48 2 12s4.47 10 9.99 10C17.52 22 22 17.52 22 12S17.52 2 11.99 2zM12 20c-4.42 0-8-3.58-8-8s3.58-8 8-8 8 3.58 8 8-3.58 8-8 8z\"></path><path d=\"M12.5 7H11v6l5.25 3.15.75-1.23-4.5-2.67z\"></path></svg></span></span><span aria-label=\"Posted 2 days ago\" class=\"Yf9oye\"><span aria-hidden=\"true\">2 days ago</span></span></div><div class=\"K3eUK\"><span aria-hidden=\"true\" style=\"height:18px\"><span class=\"z1asCe mQ5pwc\" style=\"height:18px;line-height:18px;width:18px\"><svg focusable=\"false\" viewbox=\"0 0 24 24\" xmlns=\"http://www.w3.org/2000/svg\"><path d=\"M20 6h-4V4c0-1.11-.89-2-2-2h-4c-1.11 0-2 .89-2 2v2H4c-1.11 0-1.99.89-1.99 2L2 19c0 1.11.89 2 2 2h16c1.11 0 2-.89 2-2V8c0-1.11-.89-2-2-2zm-6 0h-4V4h4v2z\"></path></svg></span></span><span aria-label=\"Employment Type Internship\" class=\"Yf9oye\"><span aria-hidden=\"true\">Internship</span></span></div></div> </span> </a>,\n",
       " <a class=\"MQUd2b\" href=\"https://www.google.com/search?sca_esv=2c272caab9e83ec0&amp;q=2025+graduate+data+scientist+jobs+new+york+in+the+last+1+week&amp;udm=8&amp;fbs=AEQNm0BfLny2ggB-KDliWrXpEAi8buBZhx33_saU4_gDeS9HJ8Cu2ho92Z9huxV-SgXFZL45dc9mshYKwV9pWXsNp7yG5IAQV4w7LRcjjNr7COKHeqZxmq2o8mDQnFwcnkKSfCuULSVjigoOgC3qj-gwznvQI8KfujDDbE8C776YX2jTv2iWcD1lkHgIt66Stt30okyrqrcE&amp;sa=X#vhid=vt%3D20/docid%3Dq91_eA6wp1xpqG-tAAAAAA%3D%3D&amp;vssid=jobs-detail-viewer\"> <span class=\"rPPrHb\"> <div> <g-img class=\"p761wc\"><img alt=\"\" class=\"YQ4gaf zr758c\" data-atf=\"1\" data-csiid=\"-kYxZ4LwCYX-ptQPgebg6Q0_4\" height=\"28\" id=\"_-kYxZ4LwCYX-ptQPgebg6Q0_48\" src=\"data:image/png;base64,iVBORw0KGgoAAAANSUhEUgAAADgAAAAcCAMAAAADZYwMAAAAolBMVEX////MAADLAAAAAADKAADJAABnZ2eioqK1tbVhYWFJSUnExMT4+PjceXn9+Ph7e3vqtLROTk7v7+8qKirfh4fZa2vrubndf3/VVFSurq5sbGxycnLLy8sbGxvT09O7u7vPLCzvxcX02dnSQUHacnLc3NwMDAxYWFiEhIQjIyP67e3hkJDNDAzy0dH35OTOHx/XXV3UTEzjmprlo6OTk5M4ODhg6mvOAAACiklEQVQ4jZWSCXeiMBCAJyQBQURArOVQQOSoB9pu/f9/bWcCWOrjtbvje04yzDdnAAACtsF/OLEFdHI8vZ/PRdCCG5yCCxpa1C7k64xdby4MspZMvHbqXRlcKTTGNCHdXGrygJYP1Plaagx/Muu5m2CMidtBKSIvEimJXkzu0aihqUDgBc2iwJBC1QcbAvCzphSlztBrfTwuBNMOC43JFhzJtMUGj3sAcT6fFdgBD5FOK7ssIFEwu3ABk8kLxtBuufPosM/YC2Z8oUz0xUEBzLUGyks0dVCcjuMeBw57dBEMHnEP2BNWRaEOkjxxZvkwVTHmFLh4gDnVKphy3gdXxUrniey2sceSrnTACUocBt7Qd9iwS5chZU/SRPtxiRNQT1oB1B9TJZxxVi3OBPu9jN/Ag8P94wWzYeiXbqvK9UOQTyFGpYJq/PVxWUi1o+7RAL0XQYdMqHVr8g+M5PA6uuQF7TDrXmWQZVk35ZNG5iKHH8RpW2fCfGzbn6h/lXQ2C0nPUKa+h7Py6dBLtOUeaZNX5hRockNpu+bh9y+N12k9mi6pQtAkhj9VtOxBU58GKePK+A3c1fytsamyZlstYRnPELTjyop9BD+rqhmB92SOklgIGtwoE4vbYPN7UjZbHu8IDLdR6EPFmzJZ3b9A7lkoXhWBz3dkWS0hfqODwdNxqTQEmyfPpeo6GBXYtg0hH/oh9QWqqb4ZEz02vBfoUj+BKtjqcwLEjMMo0/8AIyi5ehxpCqaawex7jx1ogJ9SPfP6rqLPLSvFWlPfbxD3eV36Bsc5guftwLN2/pwukGzjMjEoTqTr3ZPTdXxyqcU5rgzAjzmPbL0Ooazv4Jurso5M9K9189Ofz/8CIC8uW2VKYvcAAAAASUVORK5CYII=\" width=\"56\"/></g-img> </div> <div class=\"bj4wsc\"> </div> </span> <span class=\"gmxZue\"> <div class=\"u9g6vf\"> <div class=\"GoEOPd\"> <div class=\"tNxQIb PUpOsf\">Data Science Graduate Internship - Summer 2025</div> <div class=\"wHYlTd MKCbgd a3jPc\">CVS Health</div> <div class=\"wHYlTd FqK3wc MKCbgd\">   New York, NY  (+1 other)      •  via CVS Health   </div> </div> <div class=\"HFilHf\"> </div> </div> <div class=\"ApHyTb ncqQR\" style=\"gap:8px\"><div class=\"K3eUK\"><span aria-hidden=\"true\" style=\"height:18px\"><span class=\"z1asCe EZMfad\" style=\"height:18px;line-height:18px;width:18px\"><svg focusable=\"false\" viewbox=\"0 0 24 24\" xmlns=\"http://www.w3.org/2000/svg\"><path d=\"M11.99 2C6.47 2 2 6.48 2 12s4.47 10 9.99 10C17.52 22 22 17.52 22 12S17.52 2 11.99 2zM12 20c-4.42 0-8-3.58-8-8s3.58-8 8-8 8 3.58 8 8-3.58 8-8 8z\"></path><path d=\"M12.5 7H11v6l5.25 3.15.75-1.23-4.5-2.67z\"></path></svg></span></span><span aria-label=\"Posted 5 days ago\" class=\"Yf9oye\"><span aria-hidden=\"true\">5 days ago</span></span></div><div class=\"K3eUK\"><span aria-hidden=\"true\" style=\"height:18px\"><span class=\"z1asCe mQ5pwc\" style=\"height:18px;line-height:18px;width:18px\"><svg focusable=\"false\" viewbox=\"0 0 24 24\" xmlns=\"http://www.w3.org/2000/svg\"><path d=\"M20 6h-4V4c0-1.11-.89-2-2-2h-4c-1.11 0-2 .89-2 2v2H4c-1.11 0-1.99.89-1.99 2L2 19c0 1.11.89 2 2 2h16c1.11 0 2-.89 2-2V8c0-1.11-.89-2-2-2zm-6 0h-4V4h4v2z\"></path></svg></span></span><span aria-label=\"Employment Type Full-time\" class=\"Yf9oye\"><span aria-hidden=\"true\">Full-time</span></span></div><div class=\"HvHIEc\"><span aria-hidden=\"true\" class=\"z1asCe\" style=\"height:18px;line-height:18px;width:18px\"><svg enable-background=\"new 0 0 24 24\" focusable=\"false\" height=\"24\" viewbox=\"0 0 24 24\" width=\"24\" xmlns=\"http://www.w3.org/2000/svg\"><rect fill=\"none\" height=\"24\" width=\"24\"></rect><path d=\"M10.5,13H8v-3h2.5V7.5h3V10H16v3h-2.5v2.5h-3V13z M12,2L4,5v6.09c0,5.05,3.41,9.76,8,10.91c4.59-1.15,8-5.86,8-10.91V5L12,2 z M18,11.09c0,4-2.55,7.7-6,8.83c-3.45-1.13-6-4.82-6-8.83v-4.7l6-2.25l6,2.25V11.09z\"></path></svg></span><span>Health insurance</span></div></div> </span> </a>,\n",
       " <a class=\"MQUd2b\" href=\"https://www.google.com/search?sca_esv=2c272caab9e83ec0&amp;q=2025+graduate+data+scientist+jobs+new+york+in+the+last+1+week&amp;udm=8&amp;fbs=AEQNm0BfLny2ggB-KDliWrXpEAi8buBZhx33_saU4_gDeS9HJ8Cu2ho92Z9huxV-SgXFZL45dc9mshYKwV9pWXsNp7yG5IAQV4w7LRcjjNr7COKHeqZxmq2o8mDQnFwcnkKSfCuULSVjigoOgC3qj-gwznvQI8KfujDDbE8C776YX2jTv2iWcD1lkHgIt66Stt30okyrqrcE&amp;sa=X#vhid=vt%3D20/docid%3DjH02otOLm6qgTYo_AAAAAA%3D%3D&amp;vssid=jobs-detail-viewer\"> <span class=\"rPPrHb\"> <div> <div aria-hidden=\"true\" class=\"p761wc\" style=\"background-color:#F4511E;color:#FFFFFF\">J</div> </div> <div class=\"bj4wsc\"> </div> </span> <span class=\"gmxZue\"> <div class=\"u9g6vf\"> <div class=\"GoEOPd\"> <div class=\"tNxQIb PUpOsf\">Associate data science</div> <div class=\"wHYlTd MKCbgd a3jPc\">JPMorgan Chase Bank, N.A.</div> <div class=\"wHYlTd FqK3wc MKCbgd\">   New York, NY     •  via Talent.com   </div> </div> <div class=\"HFilHf\"> </div> </div> <div class=\"ApHyTb ncqQR\" style=\"gap:8px\"><div class=\"K3eUK\"><span aria-hidden=\"true\" style=\"height:18px\"><span class=\"z1asCe EZMfad\" style=\"height:18px;line-height:18px;width:18px\"><svg focusable=\"false\" viewbox=\"0 0 24 24\" xmlns=\"http://www.w3.org/2000/svg\"><path d=\"M11.99 2C6.47 2 2 6.48 2 12s4.47 10 9.99 10C17.52 22 22 17.52 22 12S17.52 2 11.99 2zM12 20c-4.42 0-8-3.58-8-8s3.58-8 8-8 8 3.58 8 8-3.58 8-8 8z\"></path><path d=\"M12.5 7H11v6l5.25 3.15.75-1.23-4.5-2.67z\"></path></svg></span></span><span aria-label=\"Posted 4 days ago\" class=\"Yf9oye\"><span aria-hidden=\"true\">4 days ago</span></span></div><div class=\"K3eUK QZEeP\"><span aria-hidden=\"true\" style=\"height:18px\"><span class=\"z1asCe M2F2P\" style=\"height:18px;line-height:18px;width:18px\"><svg focusable=\"false\" viewbox=\"0 0 24 24\" xmlns=\"http://www.w3.org/2000/svg\"><path d=\"M11.8 10.9c-2.27-.59-3-1.2-3-2.15 0-1.09 1.01-1.85 2.7-1.85 1.78 0 2.44.85 2.5 2.1h2.21c-.07-1.72-1.12-3.3-3.21-3.81V3h-3v2.16c-1.94.42-3.5 1.68-3.5 3.61 0 2.31 1.91 3.46 4.7 4.13 2.5.6 3 1.48 3 2.41 0 .69-.49 1.79-2.7 1.79-2.06 0-2.87-.92-2.98-2.1h-2.2c.12 2.19 1.76 3.42 3.68 3.83V21h3v-2.15c1.95-.37 3.5-1.5 3.5-3.55 0-2.84-2.43-3.81-4.7-4.4z\"></path></svg></span></span><span aria-label=\"Salary 135K–155K a year\" class=\"Yf9oye\"><span aria-hidden=\"true\">135K–155K a year</span></span></div><div class=\"K3eUK\"><span aria-hidden=\"true\" style=\"height:18px\"><span class=\"z1asCe mQ5pwc\" style=\"height:18px;line-height:18px;width:18px\"><svg focusable=\"false\" viewbox=\"0 0 24 24\" xmlns=\"http://www.w3.org/2000/svg\"><path d=\"M20 6h-4V4c0-1.11-.89-2-2-2h-4c-1.11 0-2 .89-2 2v2H4c-1.11 0-1.99.89-1.99 2L2 19c0 1.11.89 2 2 2h16c1.11 0 2-.89 2-2V8c0-1.11-.89-2-2-2zm-6 0h-4V4h4v2z\"></path></svg></span></span><span aria-label=\"Employment Type Full-time\" class=\"Yf9oye\"><span aria-hidden=\"true\">Full-time</span></span></div></div> </span> </a>,\n",
       " <a class=\"MQUd2b\" href=\"https://www.google.com/search?sca_esv=2c272caab9e83ec0&amp;q=2025+graduate+data+scientist+jobs+new+york+in+the+last+1+week&amp;udm=8&amp;fbs=AEQNm0BfLny2ggB-KDliWrXpEAi8buBZhx33_saU4_gDeS9HJ8Cu2ho92Z9huxV-SgXFZL45dc9mshYKwV9pWXsNp7yG5IAQV4w7LRcjjNr7COKHeqZxmq2o8mDQnFwcnkKSfCuULSVjigoOgC3qj-gwznvQI8KfujDDbE8C776YX2jTv2iWcD1lkHgIt66Stt30okyrqrcE&amp;sa=X#vhid=vt%3D20/docid%3Dn9S6Cp2MQ5CG03ywAAAAAA%3D%3D&amp;vssid=jobs-detail-viewer\"> <span class=\"rPPrHb\"> <div> <g-img class=\"p761wc\"><img alt=\"\" class=\"YQ4gaf zr758c\" data-atf=\"4\" data-csiid=\"-kYxZ4LwCYX-ptQPgebg6Q0_5\" height=\"56\" id=\"_-kYxZ4LwCYX-ptQPgebg6Q0_49\" src=\"data:image/jpeg;base64,/9j/4AAQSkZJRgABAQAAAQABAAD/2wCEAAkGBwgHBgkIBwgKCgkLDRYPDQwMDRsUFRAWIB0iIiAdHx8kKDQsJCYxJx8fLT0tMTU3Ojo6Iys/RD84QzQ5OjcBCgoKDQwNGg8PGjclHyU3Nzc3Nzc3Nzc3Nzc3Nzc3Nzc3Nzc3Nzc3Nzc3Nzc3Nzc3Nzc3Nzc3Nzc3Nzc3Nzc3N//AABEIADgAOAMBEQACEQEDEQH/xAAZAAEBAQEBAQAAAAAAAAAAAAAABgUCBwT/xAAwEAABAwIDBQcDBQAAAAAAAAACAAEDBBEFEiEGEzFRcQcUFRZBkdEiUsEzYoGhsf/EABkBAQEBAQEBAAAAAAAAAAAAAAAFBAMGAv/EACoRAAEDAwIGAQQDAAAAAAAAAAABAgMEBRESQRMUITFRkSIyYYGxFSMz/9oADAMBAAIRAxEAPwD3FAEAQBAEAQBAEBzJIEQEchMIi1yInszMgRFVcIQmN9oGSQosGhA2bTfys9n6D+XWKSrx0YegpbIrk1Trj7IYPnbHs+bvUdvt3I2+Vw5qQofw1JjGF9lBgG3pTzx02KwMJSEwjNAz2u/MdX9l3iqtS4chNrLNw2q+J2UTZS7W0ghAEBH9oMlVPRjRUZaP9cwtxNvRvzboo9wuEcMiQLuWbOyNsnFf+Cf2N2UbFs1XX5hpQLKMbaPI7cejMu1NAkial7FG5XNYP64vq8+C58s4Jut14ZTZbccmvvxW7gx4xg8/z1TnVrX2fPg+yeHYTXyVkAkZP+m0j33XO3yvlkDGOyh1qLlPURpG9en7N9djAEAfggJLHr+KSX4WG3svC3zPOuz4QtUX+KG/g2Tw2nyWtl1tzvr/AGvV2zHJx48EuoXMriZ7RHqmKg7q87aSZt05ft42XpbXw8u1427kut1dNJGHNiUY5pJawR5kRsysoyncuERF9E9XSJ3VSj7PamolxuYZZ5ZA7sT2M3dr5h5qddY2NiRWphcmqic5ZFRV2PRFBKgQElt9FUxUg1tI2jfRMTcRb0dSq23RTypM7bY51NXPBAqRe/BgbI7UNhOalrmIqUyzMbavG78erOtMUiMTTsSaWs4fxf2LbzJgrxbzxKntyza+3FaeIzyU+ZhxnUhFbYbTR4swUlFm7sBZiMmtvH9NOSs2fgucrtXy8GCpqkl+LOxs9nOGnDSz4hKNt/YI7/a3F/5f/Eus6PkSNNjRQx4ar13LJSTcEByYDIBAYsQk1nZ2uzsgVMkTjOwbSSFLhEwx313Et8rdH9FndBn6SZNb0Vcxrgw/JeOZrbiK33b1rLnwXmXkZvBt4NsHkkGXFphNm13EV7P1f4XaKNzHI7PU1Q2/C5kUtwAYwEAFhEWszM1mZl2XquVKaJg6QBAEAQBAEAQBAf/Z\" width=\"56\"/></g-img> </div> <div class=\"bj4wsc\"> </div> </span> <span class=\"gmxZue\"> <div class=\"u9g6vf\"> <div class=\"GoEOPd\"> <div class=\"tNxQIb PUpOsf\">Business Data Scientist Intern, PhD, Summer 2025</div> <div class=\"wHYlTd MKCbgd a3jPc\">Google</div> <div class=\"wHYlTd FqK3wc MKCbgd\">   New York, NY     •  via Indeed   </div> </div> <div class=\"HFilHf\"> </div> </div> <div class=\"ApHyTb ncqQR\" style=\"gap:8px\"><div class=\"K3eUK QZEeP\"><span aria-hidden=\"true\" style=\"height:18px\"><span class=\"z1asCe M2F2P\" style=\"height:18px;line-height:18px;width:18px\"><svg focusable=\"false\" viewbox=\"0 0 24 24\" xmlns=\"http://www.w3.org/2000/svg\"><path d=\"M11.8 10.9c-2.27-.59-3-1.2-3-2.15 0-1.09 1.01-1.85 2.7-1.85 1.78 0 2.44.85 2.5 2.1h2.21c-.07-1.72-1.12-3.3-3.21-3.81V3h-3v2.16c-1.94.42-3.5 1.68-3.5 3.61 0 2.31 1.91 3.46 4.7 4.13 2.5.6 3 1.48 3 2.41 0 .69-.49 1.79-2.7 1.79-2.06 0-2.87-.92-2.98-2.1h-2.2c.12 2.19 1.76 3.42 3.68 3.83V21h3v-2.15c1.95-.37 3.5-1.5 3.5-3.55 0-2.84-2.43-3.81-4.7-4.4z\"></path></svg></span></span><span aria-label=\"Salary 85K–109K a year\" class=\"Yf9oye\"><span aria-hidden=\"true\">85K–109K a year</span></span></div><div class=\"K3eUK\"><span aria-hidden=\"true\" style=\"height:18px\"><span class=\"z1asCe mQ5pwc\" style=\"height:18px;line-height:18px;width:18px\"><svg focusable=\"false\" viewbox=\"0 0 24 24\" xmlns=\"http://www.w3.org/2000/svg\"><path d=\"M20 6h-4V4c0-1.11-.89-2-2-2h-4c-1.11 0-2 .89-2 2v2H4c-1.11 0-1.99.89-1.99 2L2 19c0 1.11.89 2 2 2h16c1.11 0 2-.89 2-2V8c0-1.11-.89-2-2-2zm-6 0h-4V4h4v2z\"></path></svg></span></span><span aria-label=\"Employment Type Internship\" class=\"Yf9oye\"><span aria-hidden=\"true\">Internship</span></span></div><div class=\"HvHIEc\"><span aria-hidden=\"true\" class=\"z1asCe\" style=\"height:18px;line-height:18px;width:18px\"><svg enable-background=\"new 0 0 24 24\" focusable=\"false\" height=\"24\" viewbox=\"0 0 24 24\" width=\"24\" xmlns=\"http://www.w3.org/2000/svg\"><rect fill=\"none\" height=\"24\" width=\"24\"></rect><path d=\"M10.5,13H8v-3h2.5V7.5h3V10H16v3h-2.5v2.5h-3V13z M12,2L4,5v6.09c0,5.05,3.41,9.76,8,10.91c4.59-1.15,8-5.86,8-10.91V5L12,2 z M18,11.09c0,4-2.55,7.7-6,8.83c-3.45-1.13-6-4.82-6-8.83v-4.7l6-2.25l6,2.25V11.09z\"></path></svg></span><span>Health insurance</span></div></div> </span> </a>,\n",
       " <a class=\"MQUd2b\" href=\"https://www.google.com/search?sca_esv=2c272caab9e83ec0&amp;q=2025+graduate+data+scientist+jobs+new+york+in+the+last+1+week&amp;udm=8&amp;fbs=AEQNm0BfLny2ggB-KDliWrXpEAi8buBZhx33_saU4_gDeS9HJ8Cu2ho92Z9huxV-SgXFZL45dc9mshYKwV9pWXsNp7yG5IAQV4w7LRcjjNr7COKHeqZxmq2o8mDQnFwcnkKSfCuULSVjigoOgC3qj-gwznvQI8KfujDDbE8C776YX2jTv2iWcD1lkHgIt66Stt30okyrqrcE&amp;sa=X#vhid=vt%3D20/docid%3D0uOYmWmzOGvl-__HAAAAAA%3D%3D&amp;vssid=jobs-detail-viewer\"> <span class=\"rPPrHb\"> <div> <g-img class=\"p761wc\"><img alt=\"\" class=\"YQ4gaf zr758c\" data-atf=\"4\" data-csiid=\"-kYxZ4LwCYX-ptQPgebg6Q0_6\" height=\"28\" id=\"_-kYxZ4LwCYX-ptQPgebg6Q0_47\" src=\"data:image/jpeg;base64,/9j/4AAQSkZJRgABAQAAAQABAAD/2wCEAAkGBwgHBgkIBwgKCgkLDRYPDQwMDRsUFRAWIB0iIiAdHx8kKDQsJCYxJx8fLT0tMTU3Ojo6Iys/RD84QzQ5OjcBCgoKDQwNGg8PGjclHyU3Nzc3Nzc3Nzc3Nzc3Nzc3Nzc3Nzc3Nzc3Nzc3Nzc3Nzc3Nzc3Nzc3Nzc3Nzc3Nzc3N//AABEIABwAOAMBEQACEQEDEQH/xAAaAAADAAMBAAAAAAAAAAAAAAACAwQBBQcA/8QALhAAAgECBQIEBAcAAAAAAAAAAQIDABEEEhMhMSJBMlFxoQVSwtEUIyVhgbHB/8QAGQEAAwEBAQAAAAAAAAAAAAAAAQIDAAUE/8QAKBEAAgIBAwIEBwAAAAAAAAAAAAECEQMSITFBUSJCwfATJGFxgbHR/9oADAMBAAIRAxEAPwDqEeAzc9Ivbjeo6TpSz0FLgEjtZrn0rOII5mw4cLCLiWMt5ML2opIWWWXlY9sDhjYgFR6/ejpQizTEzYVQ3QoA8weaDiPHI+oIwhtfLtW0h+Kj34a3atRviB4aT86XOwCCRrb/ALmsnuLOPhVGqxOKKY9J1yCZwo8PItuKm5b2eyGO8bi+EVyRnI87YFwChbV19uOct/amfeiKkrUVP8V6lGHxer8NOIbKpHSL73NMpXGyU8WnLoQuWaVI2KyMCCB4C/byoNsZQi3uvQbFiijIJbvnG3TY3uB9QopiSx2timF9cpJYjOtxf0pluSktNo0eNxenOA0ojVJVz9N9jckeHuKjKW50cWK48Xa99RGLjY/EIo8vUo2H8UGvEPjklibAlCK0p0YM5QkNrHP4flrMaNut3X2257lKt+iRKCCdbjvxR8hFr5hv6FLpM4ICXFhtnYG9h5cU25JOK6mWkSOWMSOisvIZ9xup779qxkm06XvcowmMgijhBZSUQCwPO1MpIlkxSk2LeJXBzhWud7xqb+1BodSa4/bD0wz5zYv8xRb/ANVqF1Uq/ovERRpEZNOMvmtmKC9rDbis0qsaEpN1ewhHKm6hQfPKKUq4pjWxUqhChCkg3IUb8D/KOpk1ji7sUE1mMs1nc7ElF39q3PI96fDEEsQekItuLRr9qAa7n//Z\" width=\"56\"/></g-img> </div> <div class=\"bj4wsc\"> </div> </span> <span class=\"gmxZue\"> <div class=\"u9g6vf\"> <div class=\"GoEOPd\"> <div class=\"tNxQIb PUpOsf\">2025 PhD Graduate - AI/ML Data Scientist/Engineer - Analytic Capabilities</div> <div class=\"wHYlTd MKCbgd a3jPc\">Johns Hopkins Applied Physics Lab</div> <div class=\"wHYlTd FqK3wc MKCbgd\">   New York, NY     •  via GrabJobs   </div> </div> <div class=\"HFilHf\"> </div> </div> <div class=\"ApHyTb ncqQR\" style=\"gap:8px\"><div class=\"K3eUK\"><span aria-hidden=\"true\" style=\"height:18px\"><span class=\"z1asCe EZMfad\" style=\"height:18px;line-height:18px;width:18px\"><svg focusable=\"false\" viewbox=\"0 0 24 24\" xmlns=\"http://www.w3.org/2000/svg\"><path d=\"M11.99 2C6.47 2 2 6.48 2 12s4.47 10 9.99 10C17.52 22 22 17.52 22 12S17.52 2 11.99 2zM12 20c-4.42 0-8-3.58-8-8s3.58-8 8-8 8 3.58 8 8-3.58 8-8 8z\"></path><path d=\"M12.5 7H11v6l5.25 3.15.75-1.23-4.5-2.67z\"></path></svg></span></span><span aria-label=\"Posted 4 days ago\" class=\"Yf9oye\"><span aria-hidden=\"true\">4 days ago</span></span></div><div class=\"K3eUK\"><span aria-hidden=\"true\" style=\"height:18px\"><span class=\"z1asCe mQ5pwc\" style=\"height:18px;line-height:18px;width:18px\"><svg focusable=\"false\" viewbox=\"0 0 24 24\" xmlns=\"http://www.w3.org/2000/svg\"><path d=\"M20 6h-4V4c0-1.11-.89-2-2-2h-4c-1.11 0-2 .89-2 2v2H4c-1.11 0-1.99.89-1.99 2L2 19c0 1.11.89 2 2 2h16c1.11 0 2-.89 2-2V8c0-1.11-.89-2-2-2zm-6 0h-4V4h4v2z\"></path></svg></span></span><span aria-label=\"Employment Type Full-time\" class=\"Yf9oye\"><span aria-hidden=\"true\">Full-time</span></span></div><div class=\"HvHIEc\"><span aria-hidden=\"true\" class=\"z1asCe\" style=\"height:18px;line-height:18px;width:18px\"><svg enable-background=\"new 0 0 24 24\" focusable=\"false\" height=\"24\" viewbox=\"0 0 24 24\" width=\"24\" xmlns=\"http://www.w3.org/2000/svg\"><rect fill=\"none\" height=\"24\" width=\"24\"></rect><path d=\"M10.5,13H8v-3h2.5V7.5h3V10H16v3h-2.5v2.5h-3V13z M12,2L4,5v6.09c0,5.05,3.41,9.76,8,10.91c4.59-1.15,8-5.86,8-10.91V5L12,2 z M18,11.09c0,4-2.55,7.7-6,8.83c-3.45-1.13-6-4.82-6-8.83v-4.7l6-2.25l6,2.25V11.09z\"></path></svg></span><span>Health insurance</span></div></div> </span> </a>,\n",
       " <a class=\"MQUd2b\" href=\"https://www.google.com/search?sca_esv=2c272caab9e83ec0&amp;q=2025+graduate+data+scientist+jobs+new+york+in+the+last+1+week&amp;udm=8&amp;fbs=AEQNm0BfLny2ggB-KDliWrXpEAi8buBZhx33_saU4_gDeS9HJ8Cu2ho92Z9huxV-SgXFZL45dc9mshYKwV9pWXsNp7yG5IAQV4w7LRcjjNr7COKHeqZxmq2o8mDQnFwcnkKSfCuULSVjigoOgC3qj-gwznvQI8KfujDDbE8C776YX2jTv2iWcD1lkHgIt66Stt30okyrqrcE&amp;sa=X#vhid=vt%3D20/docid%3D2q4-QEnn5VYrpo2CAAAAAA%3D%3D&amp;vssid=jobs-detail-viewer\"> <span class=\"rPPrHb\"> <div> <g-img class=\"p761wc\"><img alt=\"\" class=\"YQ4gaf zr758c\" data-atf=\"4\" data-csiid=\"-kYxZ4LwCYX-ptQPgebg6Q0_7\" height=\"56\" id=\"_-kYxZ4LwCYX-ptQPgebg6Q0_50\" src=\"data:image/jpeg;base64,/9j/4AAQSkZJRgABAQAAAQABAAD/2wCEAAkGBwgHBgkIBwgKCgkLDRYPDQwMDRsUFRAWIB0iIiAdHx8kKDQsJCYxJx8fLT0tMTU3Ojo6Iys/RD84QzQ5OjcBCgoKDQwNGg8PGjclHyU3Nzc3Nzc3Nzc3Nzc3Nzc3Nzc3Nzc3Nzc3Nzc3Nzc3Nzc3Nzc3Nzc3Nzc3Nzc3Nzc3N//AABEIADgAOAMBIgACEQEDEQH/xAAZAAEBAAMBAAAAAAAAAAAAAAAABwMEBQH/xAAnEAABBAIBAwQCAwAAAAAAAAABAAIDBAUREgYTIRQiMVFhcSNBof/EABYBAQEBAAAAAAAAAAAAAAAAAAACAf/EABwRAQADAAIDAAAAAAAAAAAAAAABAhIRYQMhQf/aAAwDAQACEQMRAD8AuKIiAiIgIiICIiDlDqPCHKHFDLUTkAePpfUN7nL6473v8fK6qjj5vQ5h9THGW2TmxKcJksWTIxzpduminb4DfJc1ztjQ8/nn4jLZa5RoXMFkszb6gs1bst+KTuOhA7bzE5rXDg338Azj96P0rx65Tpc1gfagZZjqvmjbYkaXsiLxyc0a2QPkgbG/2FG6dnKDFWJaeSykuPPpBf7b7Us0I7v8zmve0EO4b5NZ8a2suZd2562S6cu5uxFRpZGSrPa7h9+ouLAXt3JHskjlvZB8kDQZNLMik+VlvdNOvV5Mlmpm2unXMpTSySyukuOc86aWjw/3N18aGv6C03VcpapvsWb+aZaZnq2NIiuzMHp+ETXjQPnyXEv+d+dpjs0siKedMT5nHZ+/iqzLVzHx5CRgNyV7zDF24iCJHbOgXP0Dvf8Aq8U2rNeGV8kWmYj4oZG1qYnG1MPjoMfjou1Vgbxij5F3EfsklbiLFiIiAiIgIiICIiAiIgIiICIiD//Z\" width=\"56\"/></g-img> </div> <div class=\"bj4wsc\"> </div> </span> <span class=\"gmxZue\"> <div class=\"u9g6vf\"> <div class=\"GoEOPd\"> <div class=\"tNxQIb PUpOsf\">2025 Summer Intern: Associate Data Scientist</div> <div class=\"wHYlTd MKCbgd a3jPc\">SPECTRUM</div> <div class=\"wHYlTd FqK3wc MKCbgd\">   Stamford, CT     •  via Spectrum - Jobs   </div> </div> <div class=\"HFilHf\"> </div> </div> <div class=\"ApHyTb ncqQR\" style=\"gap:8px\"><div class=\"K3eUK\"><span aria-hidden=\"true\" style=\"height:18px\"><span class=\"z1asCe mQ5pwc\" style=\"height:18px;line-height:18px;width:18px\"><svg focusable=\"false\" viewbox=\"0 0 24 24\" xmlns=\"http://www.w3.org/2000/svg\"><path d=\"M20 6h-4V4c0-1.11-.89-2-2-2h-4c-1.11 0-2 .89-2 2v2H4c-1.11 0-1.99.89-1.99 2L2 19c0 1.11.89 2 2 2h16c1.11 0 2-.89 2-2V8c0-1.11-.89-2-2-2zm-6 0h-4V4h4v2z\"></path></svg></span></span><span aria-label=\"Employment Type Internship\" class=\"Yf9oye\"><span aria-hidden=\"true\">Internship</span></span></div></div> </span> </a>,\n",
       " <a class=\"MQUd2b\" href=\"https://www.google.com/search?sca_esv=2c272caab9e83ec0&amp;q=2025+graduate+data+scientist+jobs+new+york+in+the+last+1+week&amp;udm=8&amp;fbs=AEQNm0BfLny2ggB-KDliWrXpEAi8buBZhx33_saU4_gDeS9HJ8Cu2ho92Z9huxV-SgXFZL45dc9mshYKwV9pWXsNp7yG5IAQV4w7LRcjjNr7COKHeqZxmq2o8mDQnFwcnkKSfCuULSVjigoOgC3qj-gwznvQI8KfujDDbE8C776YX2jTv2iWcD1lkHgIt66Stt30okyrqrcE&amp;sa=X#vhid=vt%3D20/docid%3D0GKi10svWLjSirRBAAAAAA%3D%3D&amp;vssid=jobs-detail-viewer\"> <span class=\"rPPrHb\"> <div> <g-img class=\"p761wc\"><img alt=\"\" class=\"YQ4gaf zr758c\" data-atf=\"4\" data-csiid=\"-kYxZ4LwCYX-ptQPgebg6Q0_8\" height=\"56\" id=\"_-kYxZ4LwCYX-ptQPgebg6Q0_52\" src=\"data:image/jpeg;base64,/9j/4AAQSkZJRgABAQAAAQABAAD/2wCEAAkGBwgHBgkIBwgKCgkLDRYPDQwMDRsUFRAWIB0iIiAdHx8kKDQsJCYxJx8fLT0tMTU3Ojo6Iys/RD84QzQ5OjcBCgoKDQwNGg8PGjclHyU3Nzc3Nzc3Nzc3Nzc3Nzc3Nzc3Nzc3Nzc3Nzc3Nzc3Nzc3Nzc3Nzc3Nzc3Nzc3Nzc3N//AABEIADgAOAMBIgACEQEDEQH/xAAcAAACAgIDAAAAAAAAAAAAAAAABgUHAwQBAgj/xAAxEAABAwIFAwIEBgMBAAAAAAABAgMEBREABhITIRQxQQcVMlFSYRYiQnGiwSMkkRf/xAAUAQEAAAAAAAAAAAAAAAAAAAAA/8QAFBEBAAAAAAAAAAAAAAAAAAAAAP/aAAwDAQACEQMRAD8AvHBgwn5+zdIyl0czpmJNP1HrEh8JfQkkJCkIPxC5sf3H74BjqlVhUptlyoPpZbeeSylau2pXa58du5wu0bPMSt5tbo9NQh+I5TBORLS4QfjCdBRbjvfn/mNLN1apFeyfElwmhVWJclDbAbZS8pLhBtdtdgSOfyqtiu/RGJJjepEt2SlWmVTXZDLimw3vNqeRZYSPhBsePGA9AYMR1crVPoNOdqFVlIjxmhypR5J+QHcn7DEBkHN0jNwmzDGYjU/UOjTvBT60glKlLSPhFxYfsf3wDhgwYMAYrv1CyO7WlTqg9OXJYEVYaiusbvTLOgKW3pGonSlVk/Ue/JxYTi0toUtaglKQSpRNgBhKmeptFjsrloh1WRTG1lCqixDJjgg24USLi/FxxgK6yDlnMdMhya/lF9xxoO6moUoo0TWhcEK0qOh0EHji3HPcYzj1EgJ9Rvek0+aH/ZeiFODJ3up3b7drfLz/AHhok+p7dQkro2TKf11UeV/qr1AMhBSCXV25FiTdJsePvhSTkqrj1L2DmF338Ur3Hr9A0725o0W+jTx/XjAceoGW8yVSFFzBm+Q6hncu7BilGmE0bAJTqUNbpJHAvfnnsMO3p7kh2irhz2pq2GDFQHYrTG11Kxrst0KGoHSpN0/UD9sa8f1Oap8luj5zgdDVGVEyl6hs6Ep1JdR5NyBZI55+2JaF6m0WSyiWqHVY9MWvQmovwyI5N7XKgeBfyRbAO47YMdULS4hK0KCkqFwQeCMGAVPVXd/AlT2ioIIbD5R32StO5/G+FCvyZEinogUSuU9eVKzKFPD+0SYCdOkoSeE6TpsCfKvN74syv0eLXqS/TJ+50z4AcDbhQSAb2uPHGFdGQpVPjmBQMxyYNKKtSYTsZqSlo3v+RTgJHPzvgE/KFEpGQc0V/wB1lMPwqUwzKZmOoG4wtwKTp4/URcW88YWBn5Y9TfeuqqZY2un09A3u7O5r0aL9rfq+LFh5moUHLLFAW4pyRD93D1Rky1lZddKFJbW6fpC9P2GARM0fi/8AEXttC68wum9u63/JtXvu7mn58du3nAQWb6HSc+5ooApMlliBVmHpT0xtF3HlthKdPP6kiwt45843aDJksQFwKzXKc3lSiyzT1P7RvPTp0pbV3TpGqyiPKftfEhlqgwszM19banI8P3cvU+VEXoLTwQlLi2lfSV6vsecSi8gyahHEGv5ilT6WF6lQm4zUZLvN/wA6mwCeeeCOecBt+lZeORaXu6igJWGCrvshatv+GnBidoNHi0GlMUynhwRmAQ2HHCsgE3tc+OcGAkMGDBgME2HHnxHYkxht+O8nS424m6VA+CMV9/5LTvxL1vWzfa+j2Oi6pzVfVfTqvfbt+j54MGAsGDDjwIrUWGw2xHaSEtttpslIHgDGfBgwBgwYMB//2Q==\" width=\"56\"/></g-img> </div> <div class=\"bj4wsc\"> </div> </span> <span class=\"gmxZue\"> <div class=\"u9g6vf\"> <div class=\"GoEOPd\"> <div class=\"tNxQIb PUpOsf\">2025 Summer Internship Program - Data Scientist - Internal Consulting</div> <div class=\"wHYlTd MKCbgd a3jPc\">UBS</div> <div class=\"wHYlTd FqK3wc MKCbgd\">   Weehawken, NJ     •  via Glassdoor   </div> </div> <div class=\"HFilHf\"> </div> </div> <div class=\"ApHyTb ncqQR\" style=\"gap:8px\"><div class=\"K3eUK\"><span aria-hidden=\"true\" style=\"height:18px\"><span class=\"z1asCe mQ5pwc\" style=\"height:18px;line-height:18px;width:18px\"><svg focusable=\"false\" viewbox=\"0 0 24 24\" xmlns=\"http://www.w3.org/2000/svg\"><path d=\"M20 6h-4V4c0-1.11-.89-2-2-2h-4c-1.11 0-2 .89-2 2v2H4c-1.11 0-1.99.89-1.99 2L2 19c0 1.11.89 2 2 2h16c1.11 0 2-.89 2-2V8c0-1.11-.89-2-2-2zm-6 0h-4V4h4v2z\"></path></svg></span></span><span aria-label=\"Employment Type Internship\" class=\"Yf9oye\"><span aria-hidden=\"true\">Internship</span></span></div></div> </span> </a>,\n",
       " <a class=\"MQUd2b\" href=\"https://www.google.com/search?sca_esv=2c272caab9e83ec0&amp;q=2025+graduate+data+scientist+jobs+new+york+in+the+last+1+week&amp;udm=8&amp;fbs=AEQNm0BfLny2ggB-KDliWrXpEAi8buBZhx33_saU4_gDeS9HJ8Cu2ho92Z9huxV-SgXFZL45dc9mshYKwV9pWXsNp7yG5IAQV4w7LRcjjNr7COKHeqZxmq2o8mDQnFwcnkKSfCuULSVjigoOgC3qj-gwznvQI8KfujDDbE8C776YX2jTv2iWcD1lkHgIt66Stt30okyrqrcE&amp;sa=X#vhid=vt%3D20/docid%3DrI-jMxcCZ-4MlsICAAAAAA%3D%3D&amp;vssid=jobs-detail-viewer\"> <span class=\"rPPrHb\"> <div> <div aria-hidden=\"true\" class=\"p761wc\" style=\"background-color:#689F38;color:#FFFFFF\">P</div> </div> <div class=\"bj4wsc\"> </div> </span> <span class=\"gmxZue\"> <div class=\"u9g6vf\"> <div class=\"GoEOPd\"> <div class=\"tNxQIb PUpOsf\">2025 Summer Intern: Technology Data &amp; Analytics, Data Engineer &amp; Data Science</div> <div class=\"wHYlTd MKCbgd a3jPc\">PepsiCo</div> <div class=\"wHYlTd FqK3wc MKCbgd\">   Harrison, NY  (+1 other)      •  via PepsiCo Careers   </div> </div> <div class=\"HFilHf\"> </div> </div> <div class=\"ApHyTb ncqQR\" style=\"gap:8px\"><div class=\"K3eUK\"><span aria-hidden=\"true\" style=\"height:18px\"><span class=\"z1asCe mQ5pwc\" style=\"height:18px;line-height:18px;width:18px\"><svg focusable=\"false\" viewbox=\"0 0 24 24\" xmlns=\"http://www.w3.org/2000/svg\"><path d=\"M20 6h-4V4c0-1.11-.89-2-2-2h-4c-1.11 0-2 .89-2 2v2H4c-1.11 0-1.99.89-1.99 2L2 19c0 1.11.89 2 2 2h16c1.11 0 2-.89 2-2V8c0-1.11-.89-2-2-2zm-6 0h-4V4h4v2z\"></path></svg></span></span><span aria-label=\"Employment Type Full-time\" class=\"Yf9oye\"><span aria-hidden=\"true\">Full-time</span></span></div><div class=\"HvHIEc\"><span aria-hidden=\"true\" class=\"z1asCe\" style=\"height:18px;line-height:18px;width:18px\"><svg focusable=\"false\" viewbox=\"0 0 24 24\" xmlns=\"http://www.w3.org/2000/svg\"><path d=\"M19 4h-1V2h-2v2H8V2H6v2H5c-1.11 0-1.99.9-1.99 2L3 20a2 2 0 0 0 2 2h14c1.1 0 2-.9 2-2V6c0-1.1-.9-2-2-2zm0 16H5V9h14v11zm-3.4-9.4L17 12l-5.99 6-4-4 1.4-1.4 2.6 2.6 4.59-4.6z\"></path></svg></span><span>Paid time off</span></div><div class=\"HvHIEc\"><span aria-hidden=\"true\" class=\"z1asCe\" style=\"height:18px;line-height:18px;width:18px\"><svg enable-background=\"new 0 0 24 24\" focusable=\"false\" height=\"24\" viewbox=\"0 0 24 24\" width=\"24\" xmlns=\"http://www.w3.org/2000/svg\"><g><rect fill=\"none\" height=\"24\" width=\"24\"></rect></g><g><path d=\"M15.05,20.07c-2.65-3.86-2.65-3.87-2.67-3.89c-0.12-0.17-0.56-0.32-0.81,0.05c0,0,0,0,0,0s-0.17,0.25-2.59,3.78 c-1.5,1.87-4.21,0.89-4.47-1.16C4.37,17.84,3,8.75,3,7c0-2.21,1.79-4,4-4c2.38,0,2.58,1.5,5,1.5c2.4,0,2.65-1.5,5-1.5 c2.21,0,4,1.79,4,4c0,1.75-1.37,10.84-1.53,11.87C19.21,20.94,16.46,21.8,15.05,20.07z M14.07,15.1l2.58,3.78 c0.22,0.25,0.79,0.11,0.84-0.28C17.91,15.81,19,8.36,19,7c0-0.96-0.76-2-2-2c-1.49,0-2.11,1.5-5,1.5C9.11,6.5,8.5,5,7,5 C5.76,5,5,6.04,5,7c0,1.36,1.09,8.81,1.5,11.57c0.05,0.38,0.58,0.61,0.89,0.24l2.53-3.71C10.93,13.64,13.07,13.63,14.07,15.1z\"></path></g></svg></span><span>Dental insurance</span></div><div class=\"HvHIEc\"><span aria-hidden=\"true\" class=\"z1asCe\" style=\"height:18px;line-height:18px;width:18px\"><svg enable-background=\"new 0 0 24 24\" focusable=\"false\" height=\"24\" viewbox=\"0 0 24 24\" width=\"24\" xmlns=\"http://www.w3.org/2000/svg\"><rect fill=\"none\" height=\"24\" width=\"24\"></rect><path d=\"M10.5,13H8v-3h2.5V7.5h3V10H16v3h-2.5v2.5h-3V13z M12,2L4,5v6.09c0,5.05,3.41,9.76,8,10.91c4.59-1.15,8-5.86,8-10.91V5L12,2 z M18,11.09c0,4-2.55,7.7-6,8.83c-3.45-1.13-6-4.82-6-8.83v-4.7l6-2.25l6,2.25V11.09z\"></path></svg></span><span>Health insurance</span></div></div> </span> </a>,\n",
       " <a data-biw=\"1440\" data-ved=\"2ahUKEwiC1ZrK-tKJAxUFv4kEHQEzON0QuZ0HegQICRAB\" href=\"#\" jsaction=\"click:HTIlC\" jsname=\"gXWYVe\" role=\"button\" style=\"white-space:normal\" tabindex=\"0\"><div class=\"GNm3Qb\"><span class=\"EYqSq unknown_loc\"></span><span class=\"dfB0uf\">08757, Berkeley Township, NJ</span></div><div class=\"GNm3Qb\"><span id=\"VdZal\"> - </span><span class=\"KwU3F\"><span>From your IP address</span></span></div></a>,\n",
       " <a class=\"Fx4vi wHYlTd ZYHQ7e\" href=\"https://support.google.com/websearch/?p=ws_results_help&amp;hl=en&amp;fg=1\" ping=\"/url?sa=t&amp;source=web&amp;rct=j&amp;opi=89978449&amp;url=https://support.google.com/websearch/%3Fp%3Dws_results_help%26hl%3Den%26fg%3D1&amp;ved=2ahUKEwiC1ZrK-tKJAxUFv4kEHQEzON0Q8KwCegQICRAK\">Help</a>,\n",
       " <a class=\"Fx4vi wHYlTd\" data-bucket=\"websearch\" data-psd-ssc=\"0\" data-ved=\"2ahUKEwiC1ZrK-tKJAxUFv4kEHQEzON0QLnoECAkQCw\" href=\"#\" id=\"dk2qOd\" jsaction=\"trigger.YcfJ\" target=\"_blank\">Send feedback</a>,\n",
       " <a class=\"Fx4vi wHYlTd ZYHQ7e\" href=\"https://policies.google.com/privacy?hl=en&amp;fg=1\" ping=\"/url?sa=t&amp;source=web&amp;rct=j&amp;opi=89978449&amp;url=https://policies.google.com/privacy%3Fhl%3Den%26fg%3D1&amp;ved=2ahUKEwiC1ZrK-tKJAxUFv4kEHQEzON0Q8awCegQICRAM\">Privacy</a>,\n",
       " <a class=\"Fx4vi wHYlTd ZYHQ7e\" href=\"https://policies.google.com/terms?hl=en&amp;fg=1\" ping=\"/url?sa=t&amp;source=web&amp;rct=j&amp;opi=89978449&amp;url=https://policies.google.com/terms%3Fhl%3Den%26fg%3D1&amp;ved=2ahUKEwiC1ZrK-tKJAxUFv4kEHQEzON0Q8qwCegQICRAN\">Terms</a>,\n",
       " <a class=\"nNzjpf-cS4Vcb-PvZLI-Ueh9jd-LgbsSe-Jyewjb-tlSJBe\" href=\"https://www.glassdoor.com/job-listing/2025-summer-internship-program-data-scientist-gic-weehawken-ubs-JV_IC1127035_KO0,59_KE60,63.htm?jl=1009479444524&amp;utm_campaign=google_jobs_apply&amp;utm_source=google_jobs_apply&amp;utm_medium=organic\" ping=\"/url?sa=t&amp;source=web&amp;rct=j&amp;url=https%3A%2F%2Fwww.glassdoor.com%2Fjob-listing%2F2025-summer-internship-program-data-scientist-gic-weehawken-ubs-JV_IC1127035_KO0%2C59_KE60%2C63.htm%3Fjl%3D1009479444524%26utm_campaign%3Dgoogle_jobs_apply%26utm_source%3Dgoogle_jobs_apply%26utm_medium%3Dorganic&amp;ved=0CA8QpowCKABqFwoTCLjc7sr60okDFQAAAAAdAAAAABAF&amp;opi=89978449\" target=\"_blank\" title=\"Apply on Glassdoor\"><div class=\"nNzjpf-cS4Vcb-PvZLI-Ueh9jd-H9tDt nNzjpf-cS4Vcb-PvZLI-Ueh9jd-sM5MNb nNzjpf-cS4Vcb-PvZLI-LCEg5b nNzjpf-cS4Vcb-PvZLI-vsAuyf nNzjpf-cS4Vcb-PvZLI-Cs25Qc-ESNdvf\"><div class=\"nNzjpf-cS4Vcb-PvZLI-Ueh9jd-haAclf cS4Vcb-pGL6qe-dMyTib cS4Vcb-pGL6qe-HrPAd\"><div class=\"nNzjpf-cS4Vcb-PvZLI-Ueh9jd-MJoBVe-bF1uUb\"><span class=\"nNzjpf-cS4Vcb-PvZLI-Q1vkfd-bN97Pc cS4Vcb-pGL6qe-lfQAOe\"><span class=\"AVeKwc\">Apply on Glassdoor  </span></span></div></div></div></a>,\n",
       " <a class=\"nNzjpf-cS4Vcb-PvZLI-Ueh9jd-LgbsSe-Jyewjb-tlSJBe\" href=\"https://careers.outforundergrad.org/companies/ubs-2/jobs/41413707-2025-summer-internship-program-data-scientist-internal-consulting?utm_campaign=google_jobs_apply&amp;utm_source=google_jobs_apply&amp;utm_medium=organic\" ping=\"/url?sa=t&amp;source=web&amp;rct=j&amp;url=https%3A%2F%2Fcareers.outforundergrad.org%2Fcompanies%2Fubs-2%2Fjobs%2F41413707-2025-summer-internship-program-data-scientist-internal-consulting%3Futm_campaign%3Dgoogle_jobs_apply%26utm_source%3Dgoogle_jobs_apply%26utm_medium%3Dorganic&amp;ved=0CBEQ3d0CKAFqFwoTCLjc7sr60okDFQAAAAAdAAAAABAF&amp;opi=89978449\" target=\"_blank\" title=\"Apply on Companies\"><div class=\"nNzjpf-cS4Vcb-PvZLI-Ueh9jd-H9tDt nNzjpf-cS4Vcb-PvZLI-Ueh9jd-sM5MNb nNzjpf-cS4Vcb-PvZLI-LCEg5b nNzjpf-cS4Vcb-PvZLI-vsAuyf nNzjpf-cS4Vcb-PvZLI-Cs25Qc-ESNdvf\"><div class=\"nNzjpf-cS4Vcb-PvZLI-Ueh9jd-haAclf cS4Vcb-pGL6qe-dMyTib cS4Vcb-pGL6qe-HrPAd\"><div class=\"nNzjpf-cS4Vcb-PvZLI-Ueh9jd-MJoBVe-bF1uUb\"><span class=\"nNzjpf-cS4Vcb-PvZLI-Q1vkfd-bN97Pc cS4Vcb-pGL6qe-lfQAOe\"><span class=\"AVeKwc\">Apply on Companies  </span></span></div></div></div></a>,\n",
       " <a class=\"nNzjpf-cS4Vcb-PvZLI-Ueh9jd-LgbsSe-Jyewjb-tlSJBe\" href=\"https://www.jobilize.com/job/us-nj-weehawken-2025-summer-internship-program-data-scientist-internal?utm_campaign=google_jobs_apply&amp;utm_source=google_jobs_apply&amp;utm_medium=organic\" ping=\"/url?sa=t&amp;source=web&amp;rct=j&amp;url=https%3A%2F%2Fwww.jobilize.com%2Fjob%2Fus-nj-weehawken-2025-summer-internship-program-data-scientist-internal%3Futm_campaign%3Dgoogle_jobs_apply%26utm_source%3Dgoogle_jobs_apply%26utm_medium%3Dorganic&amp;ved=0CBMQ3d0CKAJqFwoTCLjc7sr60okDFQAAAAAdAAAAABAF&amp;opi=89978449\" target=\"_blank\" title=\"Apply on Jobilize\"><div class=\"nNzjpf-cS4Vcb-PvZLI-Ueh9jd-H9tDt nNzjpf-cS4Vcb-PvZLI-Ueh9jd-sM5MNb nNzjpf-cS4Vcb-PvZLI-LCEg5b nNzjpf-cS4Vcb-PvZLI-vsAuyf nNzjpf-cS4Vcb-PvZLI-Cs25Qc-ESNdvf\"><div class=\"nNzjpf-cS4Vcb-PvZLI-Ueh9jd-haAclf cS4Vcb-pGL6qe-dMyTib cS4Vcb-pGL6qe-HrPAd\"><div class=\"nNzjpf-cS4Vcb-PvZLI-Ueh9jd-MJoBVe-bF1uUb\"><span class=\"nNzjpf-cS4Vcb-PvZLI-Q1vkfd-bN97Pc cS4Vcb-pGL6qe-lfQAOe\"><span class=\"AVeKwc\">Apply on Jobilize  </span></span></div></div></div></a>,\n",
       " <a class=\"nNzjpf-cS4Vcb-PvZLI-Ueh9jd-LgbsSe-Jyewjb-tlSJBe\" href=\"https://www.pepsicojobs.com/internshipsprograms/jobs/315336?lang=en-us&amp;utm_campaign=google_jobs_apply&amp;utm_source=google_jobs_apply&amp;utm_medium=organic\" ping=\"/url?sa=t&amp;source=web&amp;rct=j&amp;url=https%3A%2F%2Fwww.pepsicojobs.com%2Finternshipsprograms%2Fjobs%2F315336%3Flang%3Den-us%26utm_campaign%3Dgoogle_jobs_apply%26utm_source%3Dgoogle_jobs_apply%26utm_medium%3Dorganic&amp;ved=0CA8QpowCKABqFwoTCLjc7sr60okDFQAAAAAdAAAAABAE&amp;opi=89978449\" target=\"_blank\" title=\"Apply directly on PepsiCo Careers\"><div class=\"nNzjpf-cS4Vcb-PvZLI-Ueh9jd-H9tDt nNzjpf-cS4Vcb-PvZLI-Ueh9jd-sM5MNb nNzjpf-cS4Vcb-PvZLI-LCEg5b nNzjpf-cS4Vcb-PvZLI-vsAuyf nNzjpf-cS4Vcb-PvZLI-Cs25Qc-ESNdvf\"><div class=\"nNzjpf-cS4Vcb-PvZLI-Ueh9jd-haAclf cS4Vcb-pGL6qe-dMyTib cS4Vcb-pGL6qe-HrPAd\"><div class=\"nNzjpf-cS4Vcb-PvZLI-Ueh9jd-MJoBVe-bF1uUb\"><span class=\"nNzjpf-cS4Vcb-PvZLI-Q1vkfd-bN97Pc cS4Vcb-pGL6qe-lfQAOe\"><span class=\"oJRcHf\">Apply directly on PepsiCo Careers</span></span></div></div></div></a>,\n",
       " <a class=\"nNzjpf-cS4Vcb-PvZLI-Ueh9jd-LgbsSe-Jyewjb-tlSJBe\" href=\"https://www.indeed.com/viewjob?jk=98e5701a02ccd9c1&amp;utm_campaign=google_jobs_apply&amp;utm_source=google_jobs_apply&amp;utm_medium=organic\" ping=\"/url?sa=t&amp;source=web&amp;rct=j&amp;url=https%3A%2F%2Fwww.indeed.com%2Fviewjob%3Fjk%3D98e5701a02ccd9c1%26utm_campaign%3Dgoogle_jobs_apply%26utm_source%3Dgoogle_jobs_apply%26utm_medium%3Dorganic&amp;ved=0CBEQ3d0CKAFqFwoTCLjc7sr60okDFQAAAAAdAAAAABAE&amp;opi=89978449\" target=\"_blank\" title=\"Apply directly on Indeed\"><div class=\"nNzjpf-cS4Vcb-PvZLI-Ueh9jd-H9tDt nNzjpf-cS4Vcb-PvZLI-Ueh9jd-sM5MNb nNzjpf-cS4Vcb-PvZLI-LCEg5b nNzjpf-cS4Vcb-PvZLI-vsAuyf nNzjpf-cS4Vcb-PvZLI-Cs25Qc-ESNdvf\"><div class=\"nNzjpf-cS4Vcb-PvZLI-Ueh9jd-haAclf cS4Vcb-pGL6qe-dMyTib cS4Vcb-pGL6qe-HrPAd\"><div class=\"nNzjpf-cS4Vcb-PvZLI-Ueh9jd-MJoBVe-bF1uUb\"><span class=\"nNzjpf-cS4Vcb-PvZLI-Q1vkfd-bN97Pc cS4Vcb-pGL6qe-lfQAOe\"><span class=\"oJRcHf\">Apply directly on Indeed</span></span></div></div></div></a>,\n",
       " <a class=\"nNzjpf-cS4Vcb-PvZLI-Ueh9jd-LgbsSe-Jyewjb-tlSJBe\" href=\"https://www.ziprecruiter.com/c/Highland-Homes/Job/Summer-2025-Sales-Intern:-Dallas/-in-Plano,TX?jid=6cb1762a87e68036&amp;utm_campaign=google_jobs_apply&amp;utm_source=google_jobs_apply&amp;utm_medium=organic\" ping=\"/url?sa=t&amp;source=web&amp;rct=j&amp;url=https%3A%2F%2Fwww.ziprecruiter.com%2Fc%2FHighland-Homes%2FJob%2FSummer-2025-Sales-Intern%3A-Dallas%2F-in-Plano%2CTX%3Fjid%3D6cb1762a87e68036%26utm_campaign%3Dgoogle_jobs_apply%26utm_source%3Dgoogle_jobs_apply%26utm_medium%3Dorganic&amp;ved=0CBMQ3d0CKAJqFwoTCLjc7sr60okDFQAAAAAdAAAAABAE&amp;opi=89978449\" target=\"_blank\" title=\"Apply on ZipRecruiter\"><div class=\"nNzjpf-cS4Vcb-PvZLI-Ueh9jd-H9tDt nNzjpf-cS4Vcb-PvZLI-Ueh9jd-sM5MNb nNzjpf-cS4Vcb-PvZLI-LCEg5b nNzjpf-cS4Vcb-PvZLI-vsAuyf nNzjpf-cS4Vcb-PvZLI-Cs25Qc-ESNdvf\"><div class=\"nNzjpf-cS4Vcb-PvZLI-Ueh9jd-haAclf cS4Vcb-pGL6qe-dMyTib cS4Vcb-pGL6qe-HrPAd\"><div class=\"nNzjpf-cS4Vcb-PvZLI-Ueh9jd-MJoBVe-bF1uUb\"><span class=\"nNzjpf-cS4Vcb-PvZLI-Q1vkfd-bN97Pc cS4Vcb-pGL6qe-lfQAOe\"><span class=\"AVeKwc\">Apply on ZipRecruiter  </span></span></div></div></div></a>,\n",
       " <a class=\"nNzjpf-cS4Vcb-PvZLI-Ueh9jd-LgbsSe-Jyewjb-tlSJBe\" href=\"https://www.adzuna.com/details/4862444114?utm_campaign=google_jobs_apply&amp;utm_source=google_jobs_apply&amp;utm_medium=organic\" ping=\"/url?sa=t&amp;source=web&amp;rct=j&amp;url=https%3A%2F%2Fwww.adzuna.com%2Fdetails%2F4862444114%3Futm_campaign%3Dgoogle_jobs_apply%26utm_source%3Dgoogle_jobs_apply%26utm_medium%3Dorganic&amp;ved=0CBUQ3d0CKANqFwoTCLjc7sr60okDFQAAAAAdAAAAABAE&amp;opi=89978449\" target=\"_blank\" title=\"Apply on Adzuna\"><div class=\"nNzjpf-cS4Vcb-PvZLI-Ueh9jd-H9tDt nNzjpf-cS4Vcb-PvZLI-Ueh9jd-sM5MNb nNzjpf-cS4Vcb-PvZLI-LCEg5b nNzjpf-cS4Vcb-PvZLI-vsAuyf nNzjpf-cS4Vcb-PvZLI-Cs25Qc-ESNdvf\"><div class=\"nNzjpf-cS4Vcb-PvZLI-Ueh9jd-haAclf cS4Vcb-pGL6qe-dMyTib cS4Vcb-pGL6qe-HrPAd\"><div class=\"nNzjpf-cS4Vcb-PvZLI-Ueh9jd-MJoBVe-bF1uUb\"><span class=\"nNzjpf-cS4Vcb-PvZLI-Q1vkfd-bN97Pc cS4Vcb-pGL6qe-lfQAOe\"><span class=\"AVeKwc\">Apply on Adzuna  </span></span></div></div></div></a>,\n",
       " <a class=\"nNzjpf-cS4Vcb-PvZLI-Ueh9jd-LgbsSe-Jyewjb-tlSJBe\" href=\"https://www.linkedin.com/jobs/view/2025-summer-intern-technology-data-analytics-data-engineer-data-science-at-pepsico-3998833950?utm_campaign=google_jobs_apply&amp;utm_source=google_jobs_apply&amp;utm_medium=organic\" ping=\"/url?sa=t&amp;source=web&amp;rct=j&amp;url=https%3A%2F%2Fwww.linkedin.com%2Fjobs%2Fview%2F2025-summer-intern-technology-data-analytics-data-engineer-data-science-at-pepsico-3998833950%3Futm_campaign%3Dgoogle_jobs_apply%26utm_source%3Dgoogle_jobs_apply%26utm_medium%3Dorganic&amp;ved=0CBcQ3d0CKARqFwoTCLjc7sr60okDFQAAAAAdAAAAABAE&amp;opi=89978449\" target=\"_blank\" title=\"Apply on LinkedIn\"><div class=\"nNzjpf-cS4Vcb-PvZLI-Ueh9jd-H9tDt nNzjpf-cS4Vcb-PvZLI-Ueh9jd-sM5MNb nNzjpf-cS4Vcb-PvZLI-LCEg5b nNzjpf-cS4Vcb-PvZLI-vsAuyf nNzjpf-cS4Vcb-PvZLI-Cs25Qc-ESNdvf\"><div class=\"nNzjpf-cS4Vcb-PvZLI-Ueh9jd-haAclf cS4Vcb-pGL6qe-dMyTib cS4Vcb-pGL6qe-HrPAd\"><div class=\"nNzjpf-cS4Vcb-PvZLI-Ueh9jd-MJoBVe-bF1uUb\"><span class=\"nNzjpf-cS4Vcb-PvZLI-Q1vkfd-bN97Pc cS4Vcb-pGL6qe-lfQAOe\"><span class=\"AVeKwc\">Apply on LinkedIn  </span></span></div></div></div></a>,\n",
       " <a class=\"nNzjpf-cS4Vcb-PvZLI-Ueh9jd-LgbsSe-Jyewjb-tlSJBe\" href=\"https://www.simplyhired.com/job/JUP3ll12mRxQWnnISciSRbShxIdCMMc6W19D04LVWXmEDwz5WC7A2g?utm_campaign=google_jobs_apply&amp;utm_source=google_jobs_apply&amp;utm_medium=organic\" ping=\"/url?sa=t&amp;source=web&amp;rct=j&amp;url=https%3A%2F%2Fwww.simplyhired.com%2Fjob%2FJUP3ll12mRxQWnnISciSRbShxIdCMMc6W19D04LVWXmEDwz5WC7A2g%3Futm_campaign%3Dgoogle_jobs_apply%26utm_source%3Dgoogle_jobs_apply%26utm_medium%3Dorganic&amp;ved=0CBkQ3d0CKAVqFwoTCLjc7sr60okDFQAAAAAdAAAAABAE&amp;opi=89978449\" target=\"_blank\" title=\"Apply on SimplyHired\"><div class=\"nNzjpf-cS4Vcb-PvZLI-Ueh9jd-H9tDt nNzjpf-cS4Vcb-PvZLI-Ueh9jd-sM5MNb nNzjpf-cS4Vcb-PvZLI-LCEg5b nNzjpf-cS4Vcb-PvZLI-vsAuyf nNzjpf-cS4Vcb-PvZLI-Cs25Qc-ESNdvf\"><div class=\"nNzjpf-cS4Vcb-PvZLI-Ueh9jd-haAclf cS4Vcb-pGL6qe-dMyTib cS4Vcb-pGL6qe-HrPAd\"><div class=\"nNzjpf-cS4Vcb-PvZLI-Ueh9jd-MJoBVe-bF1uUb\"><span class=\"nNzjpf-cS4Vcb-PvZLI-Q1vkfd-bN97Pc cS4Vcb-pGL6qe-lfQAOe\"><span class=\"AVeKwc\">Apply on SimplyHired  </span></span></div></div></div></a>,\n",
       " <a class=\"nNzjpf-cS4Vcb-PvZLI-Ueh9jd-LgbsSe-Jyewjb-tlSJBe\" href=\"https://www.talentify.io/job/summer-2025-purchasing-intern-dallas-plano-texas-highland-homes-summe002445?utm_campaign=google_jobs_apply&amp;utm_source=google_jobs_apply&amp;utm_medium=organic\" ping=\"/url?sa=t&amp;source=web&amp;rct=j&amp;url=https%3A%2F%2Fwww.talentify.io%2Fjob%2Fsummer-2025-purchasing-intern-dallas-plano-texas-highland-homes-summe002445%3Futm_campaign%3Dgoogle_jobs_apply%26utm_source%3Dgoogle_jobs_apply%26utm_medium%3Dorganic&amp;ved=0CBsQ3d0CKAZqFwoTCLjc7sr60okDFQAAAAAdAAAAABAE&amp;opi=89978449\" target=\"_blank\" title=\"Apply on Talentify\"><div class=\"nNzjpf-cS4Vcb-PvZLI-Ueh9jd-H9tDt nNzjpf-cS4Vcb-PvZLI-Ueh9jd-sM5MNb nNzjpf-cS4Vcb-PvZLI-LCEg5b nNzjpf-cS4Vcb-PvZLI-vsAuyf nNzjpf-cS4Vcb-PvZLI-Cs25Qc-ESNdvf\"><div class=\"nNzjpf-cS4Vcb-PvZLI-Ueh9jd-haAclf cS4Vcb-pGL6qe-dMyTib cS4Vcb-pGL6qe-HrPAd\"><div class=\"nNzjpf-cS4Vcb-PvZLI-Ueh9jd-MJoBVe-bF1uUb\"><span class=\"nNzjpf-cS4Vcb-PvZLI-Q1vkfd-bN97Pc cS4Vcb-pGL6qe-lfQAOe\"><span class=\"AVeKwc\">Apply on Talentify  </span></span></div></div></div></a>,\n",
       " <a class=\"nNzjpf-cS4Vcb-PvZLI-Ueh9jd-LgbsSe-Jyewjb-tlSJBe\" href=\"https://www.jobilize.com/job/us-tx-plano-summer-2025-purchasing-intern-dallas-highland-homes-hiring?utm_campaign=google_jobs_apply&amp;utm_source=google_jobs_apply&amp;utm_medium=organic\" ping=\"/url?sa=t&amp;source=web&amp;rct=j&amp;url=https%3A%2F%2Fwww.jobilize.com%2Fjob%2Fus-tx-plano-summer-2025-purchasing-intern-dallas-highland-homes-hiring%3Futm_campaign%3Dgoogle_jobs_apply%26utm_source%3Dgoogle_jobs_apply%26utm_medium%3Dorganic&amp;ved=0CB0Q3d0CKAdqFwoTCLjc7sr60okDFQAAAAAdAAAAABAE&amp;opi=89978449\" target=\"_blank\" title=\"Apply on Jobilize\"><div class=\"nNzjpf-cS4Vcb-PvZLI-Ueh9jd-H9tDt nNzjpf-cS4Vcb-PvZLI-Ueh9jd-sM5MNb nNzjpf-cS4Vcb-PvZLI-LCEg5b nNzjpf-cS4Vcb-PvZLI-vsAuyf nNzjpf-cS4Vcb-PvZLI-Cs25Qc-ESNdvf\"><div class=\"nNzjpf-cS4Vcb-PvZLI-Ueh9jd-haAclf cS4Vcb-pGL6qe-dMyTib cS4Vcb-pGL6qe-HrPAd\"><div class=\"nNzjpf-cS4Vcb-PvZLI-Ueh9jd-MJoBVe-bF1uUb\"><span class=\"nNzjpf-cS4Vcb-PvZLI-Q1vkfd-bN97Pc cS4Vcb-pGL6qe-lfQAOe\"><span class=\"AVeKwc\">Apply on Jobilize  </span></span></div></div></div></a>,\n",
       " <a class=\"p56vUc\" href=\"https://www.glassdoor.com/Overview/Working-at-PepsiCo-EI_IE522.11,18.htm?utm_campaign=google_jobs_reviews&amp;utm_source=google_jobs_reviews&amp;utm_medium=organic\" ping=\"/url?sa=t&amp;source=web&amp;rct=j&amp;url=https%3A%2F%2Fwww.glassdoor.com%2FOverview%2FWorking-at-PepsiCo-EI_IE522.11%2C18.htm%3Futm_campaign%3Dgoogle_jobs_reviews%26utm_source%3Dgoogle_jobs_reviews%26utm_medium%3Dorganic&amp;ved=0CAMQzqIHKABqFwoTCLjc7sr60okDFQAAAAAdAAAAABAG&amp;opi=89978449\" target=\"_blank\"><div aria-label=\"Link opens in a new tab.\"></div><div class=\"jMnnrb\"><span class=\"vmedtf\">Glassdoor</span><span><svg class=\"NMm5M hhikbc\" focusable=\"false\" height=\"15\" viewbox=\"0 0 24 24\" width=\"15\"><path d=\"M19 19H5V5h7V3H5a2 2 0 0 0-2 2v14a2 2 0 0 0 2 2h14c1.1 0 2-.9 2-2v-7h-2v7zM14 3v2h3.59l-9.83 9.83 1.41 1.41L19 6.41V10h2V3h-7z\"></path></svg></span></div><div class=\"mGhx1\"><div class=\"XCapYb\">3.9/5</div><div class=\"bmrW9c\">22.4K reviews</div></div></a>,\n",
       " <a class=\"p56vUc\" href=\"https://www.indeed.com/cmp/PepsiCo/reviews?utm_campaign=google_jobs_reviews&amp;utm_source=google_jobs_reviews&amp;utm_medium=organic\" ping=\"/url?sa=t&amp;source=web&amp;rct=j&amp;url=https%3A%2F%2Fwww.indeed.com%2Fcmp%2FPepsiCo%2Freviews%3Futm_campaign%3Dgoogle_jobs_reviews%26utm_source%3Dgoogle_jobs_reviews%26utm_medium%3Dorganic&amp;ved=0CAQQzqIHKAFqFwoTCLjc7sr60okDFQAAAAAdAAAAABAG&amp;opi=89978449\" target=\"_blank\"><div aria-label=\"Link opens in a new tab.\"></div><div class=\"jMnnrb\"><span class=\"vmedtf\">Indeed</span><span><svg class=\"NMm5M hhikbc\" focusable=\"false\" height=\"15\" viewbox=\"0 0 24 24\" width=\"15\"><path d=\"M19 19H5V5h7V3H5a2 2 0 0 0-2 2v14a2 2 0 0 0 2 2h14c1.1 0 2-.9 2-2v-7h-2v7zM14 3v2h3.59l-9.83 9.83 1.41 1.41L19 6.41V10h2V3h-7z\"></path></svg></span></div><div class=\"mGhx1\"><div class=\"XCapYb\">3.7/5</div><div class=\"bmrW9c\">20.5K reviews</div></div></a>,\n",
       " <a class=\"p56vUc\" href=\"https://fairygodboss.com/company-overview/pepsico?utm_campaign=google_jobs_reviews&amp;utm_source=google_jobs_reviews&amp;utm_medium=organic\" ping=\"/url?sa=t&amp;source=web&amp;rct=j&amp;url=https%3A%2F%2Ffairygodboss.com%2Fcompany-overview%2Fpepsico%3Futm_campaign%3Dgoogle_jobs_reviews%26utm_source%3Dgoogle_jobs_reviews%26utm_medium%3Dorganic&amp;ved=0CAUQzqIHKAJqFwoTCLjc7sr60okDFQAAAAAdAAAAABAG&amp;opi=89978449\" target=\"_blank\"><div aria-label=\"Link opens in a new tab.\"></div><div class=\"jMnnrb\"><span class=\"vmedtf\">Fairygodboss</span><span><svg class=\"NMm5M hhikbc\" focusable=\"false\" height=\"15\" viewbox=\"0 0 24 24\" width=\"15\"><path d=\"M19 19H5V5h7V3H5a2 2 0 0 0-2 2v14a2 2 0 0 0 2 2h14c1.1 0 2-.9 2-2v-7h-2v7zM14 3v2h3.59l-9.83 9.83 1.41 1.41L19 6.41V10h2V3h-7z\"></path></svg></span></div><div class=\"mGhx1\"><div class=\"XCapYb\">3.9/5</div><div class=\"bmrW9c\">197 reviews</div></div></a>,\n",
       " <a href=\"http://www.pepsico.com/\" ping=\"/url?sa=t&amp;source=web&amp;rct=j&amp;url=http%3A%2F%2Fwww.pepsico.com%2F&amp;ved=0CAgQuokCahcKEwi43O7K-tKJAxUAAAAAHQAAAAAQBg&amp;opi=89978449\" target=\"_blank\" title=\"pepsico.com\"><div class=\"LF2Zfc\"><span class=\"ncbTwe\"><svg class=\"NMm5M\" focusable=\"false\" height=\"24\" viewbox=\"0 0 24 24\" width=\"24\"><path d=\"M12 2C6.48 2 2 6.48 2 12s4.48 10 10 10 10-4.48 10-10S17.52 2 12 2zM4 12c0-.61.08-1.21.21-1.78L8.99 15v1c0 1.1.9 2 2 2v1.93C7.06 19.43 4 16.07 4 12zm13.89 5.4c-.26-.81-1-1.4-1.9-1.4h-1v-3c0-.55-.45-1-1-1h-6v-2h2c.55 0 1-.45 1-1V7h2c1.1 0 2-.9 2-2v-.41C17.92 5.77 20 8.65 20 12c0 2.08-.81 3.98-2.11 5.4z\"></path></svg></span><span class=\"Le44vd\">pepsico.com</span><span class=\"ncbTwe\"><svg class=\"NMm5M hhikbc\" focusable=\"false\" height=\"24\" viewbox=\"0 0 24 24\" width=\"24\"><path d=\"M9.71 18.71l-1.42-1.42 5.3-5.29-5.3-5.29 1.42-1.42 6.7 6.71z\"></path></svg></span></div></a>,\n",
       " <a href=\"?sca_esv=2c272caab9e83ec0&amp;q=Jobs%20at%20PepsiCo&amp;fbs=AEQNm0BfLny2ggB-KDliWrXpEAi8buBZhx33_saU4_gDeS9HJ8Cu2ho92Z9huxV-SgXFZL45dc9mshYKwV9pWXsNp7yG5IAQV4w7LRcjjNr7COKHeqZxmq2o8mDQnFwcnkKSfCuULSVjigoOgC3qj-gwznvQI8KfujDDbE8C776YX2jTv2iWcD1lkHgIt66Stt30okyrqrcE&amp;sa=X&amp;jbr=sep:0\" jsname=\"Dtxzhc\" title=\"More jobs at PepsiCo\"><div class=\"LF2Zfc\"><span class=\"ncbTwe\"><svg class=\"NMm5M\" focusable=\"false\" height=\"24\" viewbox=\"0 0 24 24\" width=\"24\"><path d=\"M20.49 19l-5.73-5.73C15.53 12.2 16 10.91 16 9.5A6.5 6.5 0 1 0 9.5 16c1.41 0 2.7-.47 3.77-1.24L19 20.49 20.49 19zM5 9.5C5 7.01 7.01 5 9.5 5S14 7.01 14 9.5 11.99 14 9.5 14 5 11.99 5 9.5z\"></path></svg></span><span class=\"Le44vd\">More jobs at PepsiCo</span><span class=\"ncbTwe\"><svg class=\"NMm5M hhikbc\" focusable=\"false\" height=\"24\" viewbox=\"0 0 24 24\" width=\"24\"><path d=\"M9.71 18.71l-1.42-1.42 5.3-5.29-5.3-5.29 1.42-1.42 6.7 6.71z\"></path></svg></span></div></a>,\n",
       " <a href=\"?sca_esv=2c272caab9e83ec0&amp;q=PepsiCo&amp;fbs=AEQNm0BfLny2ggB-KDliWrXpEAi8buBZhx33_saU4_gDeS9HJ8Cu2ho92Z9huxV-SgXFZL45dc9mshYKwV9pWXsNp7yG5IAQV4w7LRcjjNr7COKHeqZxmq2o8mDQnFwcnkKSfCuULSVjigoOgC3qj-gwznvQI8KfujDDbE8C776YX2jTv2iWcD1lkHgIt66Stt30okyrqrcE&amp;sa=X&amp;jbr=sep:0\" jsname=\"VfCvzb\" target=\"_blank\" title=\"See web results for PepsiCo\"><div class=\"LF2Zfc\"><span class=\"ncbTwe\"><svg class=\"NMm5M\" focusable=\"false\" height=\"24\" viewbox=\"0 0 24 24\" width=\"24\"><path d=\"M12 13.9v-3.72h9.36c.14.63.25 1.22.25 2.05 0 5.71-3.83 9.77-9.6 9.77C6.48 22 2 17.52 2 12S6.48 2 12 2c2.7 0 4.96.99 6.69 2.61l-2.84 2.76c-.72-.68-1.97-1.49-3.85-1.49-3.31 0-6.01 2.75-6.01 6.12s2.7 6.12 6.01 6.12c3.83 0 5.24-2.65 5.5-4.22H12z\"></path><path d=\"M2 2h20v20H2z\" fill=\"none\"></path></svg></span><span class=\"Le44vd\">See web results for PepsiCo</span><span class=\"ncbTwe\"><svg class=\"NMm5M hhikbc\" focusable=\"false\" height=\"24\" viewbox=\"0 0 24 24\" width=\"24\"><path d=\"M9.71 18.71l-1.42-1.42 5.3-5.29-5.3-5.29 1.42-1.42 6.7 6.71z\"></path></svg></span></div></a>]"
      ]
     },
     "execution_count": 19,
     "metadata": {},
     "output_type": "execute_result"
    }
   ],
   "source": [
    "soup.find_all(\"a\")"
   ]
  },
  {
   "cell_type": "code",
   "execution_count": 42,
   "id": "2a0e349f-6e11-4698-afbc-f9df874c4e39",
   "metadata": {},
   "outputs": [
    {
     "data": {
      "text/plain": [
       "['can ', ' explain me']"
      ]
     },
     "execution_count": 42,
     "metadata": {},
     "output_type": "execute_result"
    }
   ],
   "source": [
    "s = \"can you explain me\"\n",
    "s.split(\"you\")"
   ]
  },
  {
   "cell_type": "code",
   "execution_count": null,
   "id": "750854e0-22fd-4cbd-9a7b-32088e0d9c5e",
   "metadata": {},
   "outputs": [],
   "source": []
  }
 ],
 "metadata": {
  "kernelspec": {
   "display_name": "Python 3 (ipykernel)",
   "language": "python",
   "name": "python3"
  },
  "language_info": {
   "codemirror_mode": {
    "name": "ipython",
    "version": 3
   },
   "file_extension": ".py",
   "mimetype": "text/x-python",
   "name": "python",
   "nbconvert_exporter": "python",
   "pygments_lexer": "ipython3",
   "version": "3.9.19"
  }
 },
 "nbformat": 4,
 "nbformat_minor": 5
}
