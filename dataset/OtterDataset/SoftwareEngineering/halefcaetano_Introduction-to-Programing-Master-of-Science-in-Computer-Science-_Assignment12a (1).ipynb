{
 "cells": [
  {
   "cell_type": "markdown",
   "id": "7d72a21c-52bc-448a-8931-54bcad8302b7",
   "metadata": {},
   "source": [
    "# Programming Assignment 12a"
   ]
  },
  {
   "cell_type": "markdown",
   "id": "140bcba3-ea14-4441-b516-35543e23eceb",
   "metadata": {},
   "source": [
    "## Assignment Instructions"
   ]
  },
  {
   "cell_type": "markdown",
   "id": "fa7e56f5-00f2-4498-96b4-ef3ec55341a2",
   "metadata": {
    "jp-MarkdownHeadingCollapsed": true,
    "tags": []
   },
   "source": [
    "For this assignment, we will present the user with a menu of choices, each of which accesses different properties of the TextBlob module.  The user will be able to enter a filename, then obtain a report of different features of the corpus, though the user of the TextBlob module.  The menu will consist of the choices: \n",
    "\n",
    "1. Enter a new corpus of text. \n",
    "2. Print a report summarizing the total number of words and total number of sentences. \n",
    "3. Print a list of all the noun phrases, one per line. \n",
    "4. Print a sentiment analysis, listing the polarity and subjectivity of the corpus. \n",
    "5. Exit the program. \n",
    "\n",
    "Options 1-4 will be implemented using functions.  The menu will be provided for you in the main program, and the function for option 1 (open a file, convert to a TextBlob) are also provided. \n",
    "\n",
    "- #### Function for Option 2: generate_counts(text) \n",
    "Write a function that, given a TextBlob object, will return a string containing the total number of words and sentences, formatted exactly as in the output below. \n",
    "\n",
    "- #### Function for Option 3: generate_np(text) \n",
    "Write a function that, given a TextBlob object, will return a string containing all of the noun phrases, one per line. \n",
    "\n",
    "- #### Function for Option 4: generate_sentiment(text) \n",
    "Write a function that, given a TextBlob object, will return a string containing the sentiment analysis, formatted exactly as in the output below. \n",
    "\n",
    "- #### Challenge (not required):  \n",
    "Add the ability to print a per-sentence sentiment analysis. \n",
    "\n",
    "\n",
    "#### Main program \n",
    "\n",
    "As usual, main() is provided.  In this case, though, there is an annoying issue that should probably be fixed (but is optional!).  If you are up for a challenge, make it so that your program will NOT crash if you enter a title for an article that does not exist in Wikipedia (such as the article “asoidfjklwqer;ewqm”). \n",
    " "
   ]
  },
  {
   "cell_type": "markdown",
   "id": "c663d14a-f174-4019-96f0-a90e21683a16",
   "metadata": {
    "jp-MarkdownHeadingCollapsed": true,
    "tags": []
   },
   "source": [
    "#### Sample Outputs\n"
   ]
  },
  {
   "cell_type": "markdown",
   "id": "86350c58-e333-4ee1-949d-d895018916dd",
   "metadata": {
    "tags": []
   },
   "source": [
    "**Sample Output 1:**\n",
    "\n",
    "Please make a choice: \n",
    "1. Enter a new corpus of text. \n",
    "2. Print a report summarizing the total number of words and sentences. \n",
    "3. Print a list of all the noun phrases. \n",
    "4. Print a sentiment analysis. \n",
    "5. Exit the program. \n",
    " \n",
    "**User Input** 1   \n",
    "Please enter a filename: computer_science.txt \n",
    "\n",
    "Computer science is the study of computation, information, and automation.[1][2][3] Computer science spans theoretical disciplines (such as algorithms, theory of computation, and information theory) to applied disciplines (including the design and implementation of hardware and software).[4][5][6] Though more often considered an academic discipline, computer science is closely related to computer programming.[7] \n",
    "  \n",
    " Algorithms and data structures are central to computer science.[8] The theory of computation concerns abstract models of computation and general classes of problems that can be solved using them. The fields of cryptography and computer security involve studying the means for secure communication and for preventing security vulnerabilities. Computer graphics and computational geometry address the generation of images. Programming language theory considers different ways to describe computational processes, and database theory concerns the management of repositories of data. Human–computer interaction investigates the interfaces through which humans and computers interact, and software engineering focuses on the design and principles behind developing software. Areas such as operating systems, networks and embedded systems investigate the principles and design behind complex systems. Computer architecture describes the construction of computer components and computer-operated equipment. Artificial intelligence and machine learning aim to synthesize goal-orientated processes such as problem-solving, decision-making, environmental adaptation, planning and learning found in humans and animals. Within artificial intelligence, computer vision aims to understand and process image and video data, while natural language processing aims to understand and process textual and linguistic data. \n",
    "  \n",
    "The fundamental concern of computer science is determining what can and cannot be automated.[2][9][3][10][11] The Turing Award is generally recognized as the highest distinction in computer science.[12][13] "
   ]
  },
  {
   "cell_type": "markdown",
   "id": "5412288b-812c-485a-929f-a7798e57d6a0",
   "metadata": {
    "tags": []
   },
   "source": [
    "**Sample Output 2:**  \n",
    "Please make a choice: \n",
    "1. Enter a new corpus of text. \n",
    "2. Print a report summarizing the total number of words and sentences. \n",
    "3. Print a list of all the noun phrases. \n",
    "4. Print a sentiment analysis. \n",
    "5. Exit the program. \n",
    " \n",
    "**User Input** 2   \n",
    "The total number of words is 274   \n",
    "The total number of sentences is 16 \n"
   ]
  },
  {
   "cell_type": "markdown",
   "id": "5968eb64-df2e-4baf-8d57-d5f412f4cce2",
   "metadata": {
    "tags": []
   },
   "source": [
    "**Sample Output 3:**  \n",
    "Please make a choice: \n",
    "1. Enter a new corpus of text. \n",
    "2. Print a report summarizing the total number of words and sentences. \n",
    "3. Print a list of all the noun phrases. \n",
    "4. Print a sentiment analysis. \n",
    "5. Exit the program. \n",
    " \n",
    "**User Input**  3  \n",
    "\n",
    "computer  \n",
    "] [   \n",
    "] [   \n",
    "computer   \n",
    "science spans theoretical disciplines   \n",
    "information theory   \n",
    "] [   \n",
    "] [ \n",
    "academic discipline   \n",
    "computer science   \n",
    "algorithms   \n",
    "data structures   \n",
    "computer science   \n",
    "abstract models   \n",
    "general classes   \n",
    "computer security   \n",
    "security vulnerabilities   \n",
    "computer   \n",
    "computational geometry address   \n",
    "programming   \n",
    "language theory considers   \n",
    "different ways   \n",
    "describe computational processes   \n",
    "database theory   \n",
    "human–computer   \n",
    "interaction investigates   \n",
    "computers interact   \n",
    "software engineering focuses   \n",
    "areas   \n",
    "complex systems   \n",
    "computer   \n",
    "computer components   \n",
    "artificial   \n",
    "machine learning aim   \n",
    "environmental adaptation   \n",
    "artificial intelligence   \n",
    "computer vision aims   \n",
    "process image   \n",
    "video data   \n",
    "natural language processing aims   \n",
    "process textual   \n",
    "linguistic data   \n",
    "fundamental concern   \n",
    "computer science   \n",
    "] [   \n",
    "] [   \n",
    "] [   \n",
    "] [   \n",
    "turing   \n",
    "computer science   \n",
    "] [   \n"
   ]
  },
  {
   "cell_type": "markdown",
   "id": "ed00913a-e919-4aba-a238-01d2412b4b7f",
   "metadata": {
    "tags": []
   },
   "source": [
    "**Sample Output 4:**  \n",
    "Please make a choice:   \n",
    "1. Enter a new corpus of text. \n",
    "2. Print a report summarizing the total number of words and sentences. \n",
    "3. Print a list of all the noun phrases. \n",
    "4. Print a sentiment analysis. \n",
    "5. Exit the program. \n",
    "\n",
    "**User Input** 4  \n",
    "The overall sentiment polarity of this selection is -0.057894736842105256   \n",
    "The overall sentiment objectivity is 0.4868421052631579   \n"
   ]
  },
  {
   "cell_type": "markdown",
   "id": "d4eeeec7-a81c-4afe-9c79-1cdf3dd18421",
   "metadata": {
    "tags": []
   },
   "source": [
    "**Sample Output 5:**\n",
    "Please make a choice: \n",
    "1. Enter a new corpus of text. \n",
    "2. Print a report summarizing the total number of words and sentences. \n",
    "3. Print a list of all the noun phrases. \n",
    "4. Print a sentiment analysis. \n",
    "5. Exit the program\n",
    "\n",
    "**User Input** 1  \n",
    "Please enter a filename:  data_science.txt\n",
    "\n",
    "Data science is an interdisciplinary academic field [1] that uses statistics, scientific computing, scientific methods, processes, algorithms and systems to extract or extrapolate knowledge and insights from noisy, structured, and unstructured data.[2] \n",
    "  \n",
    "Data science also integrates domain knowledge from the underlying application domain (e.g., natural sciences, information technology, and medicine).[3] Data science is multifaceted and can be described as a science, a research paradigm, a research method, a discipline, a workflow, and a profession.[4] \n",
    "  \n",
    "Data science is a \"concept to unify statistics, data analysis, informatics, and their related methods\" to \"understand and analyze actual phenomena\" with data.[5] It uses techniques and theories drawn from many fields within the context of mathematics, statistics, computer science, information science, and domain knowledge.[6] However, data science is different from computer science and information science. Turing Award winner Jim Gray imagined data science as a \"fourth paradigm\" of science (empirical, theoretical, computational, and now data-driven) and asserted that \"everything about science is changing because of the impact of information technology\" and the data deluge.[7][8] \n",
    "  \n",
    "A data scientist is a professional who creates programming code and combines it with statistical knowledge to create insights from data.[9]"
   ]
  },
  {
   "cell_type": "markdown",
   "id": "e10511f7-edcf-4aed-a81c-03038ae8705b",
   "metadata": {
    "tags": []
   },
   "source": [
    "**Sample Output 6:**  \n",
    "Please make a choice: \n",
    "1. Enter a new corpus of text. \n",
    "2. Print a report summarizing the total number of words and sentences. \n",
    "3. Print a list of all the noun phrases. \n",
    "4. Print a sentiment analysis. \n",
    "5. Exit the program. \n",
    "\n",
    "**User Input** 2\n",
    "\n",
    "The total number of words is 198   \n",
    "The total number of sentences is 9   \n"
   ]
  },
  {
   "cell_type": "markdown",
   "id": "716088b8-2833-4e08-913c-b925def2f744",
   "metadata": {
    "tags": []
   },
   "source": [
    "**Sample Output 7:**  \n",
    "Please make a choice: \n",
    "1. Enter a new corpus of text. \n",
    "2. Print a report summarizing the total number of words and sentences. \n",
    "3. Print a list of all the noun phrases. \n",
    "4. Print a sentiment analysis. \n",
    "5. Exit the program. \n",
    "\n",
    "**User Input**  3  \n",
    "data   \n",
    "academic field [   \n",
    "uses statistics   \n",
    "scientific methods   \n",
    "extrapolate knowledge   \n",
    "data   \n",
    "integrates domain knowledge   \n",
    "application domain   \n",
    "natural sciences   \n",
    "information technology   \n",
    "data   \n",
    "research paradigm   \n",
    "research method   \n",
    "data   \n",
    "data analysis   \n",
    "actual phenomena   \n",
    "uses techniques   \n",
    "computer science   \n",
    "information science   \n",
    "domain knowledge   \n",
    "data science   \n",
    "computer science   \n",
    "information science   \n",
    "turing   \n",
    "award winner   \n",
    "jim   \n",
    "data science   \n",
    "information technology   \n",
    "data deluge   \n",
    "] [   \n",
    "data scientist   \n",
    "statistical knowledge   \n",
    "   \n"
   ]
  },
  {
   "cell_type": "markdown",
   "id": "4ce9ef8c-c0ec-4982-bdae-6bee2d77268a",
   "metadata": {},
   "source": [
    "**Sample Output 8:**  \n",
    "Please make a choice: \n",
    "1. Enter a new corpus of text. \n",
    "2. Print a report summarizing the total number of words and sentences. \n",
    "3. Print a list of all the noun phrases. \n",
    "4. Print a sentiment analysis. \n",
    "5. Exit the program. \n",
    "\n",
    "**User Input**  4  \n",
    "The overall sentiment polarity of this selection is 0.07999999999999999   \n",
    "The overal sentiment objectivity is 0.23000000000000004  "
   ]
  },
  {
   "cell_type": "markdown",
   "id": "d108cb31-35b3-4afb-854d-33b28cb4aee2",
   "metadata": {},
   "source": [
    "**Sample Output 9:**  \n",
    "Please make a choice:   \n",
    "1. Enter a new corpus of text. \n",
    "2. Print a report summarizing the total number of words and sentences. \n",
    "3. Print a list of all the noun phrases. \n",
    "4. Print a sentiment analysis. \n",
    "5. Exit the program. \n",
    "\n",
    "**User Input**  5"
   ]
  },
  {
   "cell_type": "markdown",
   "id": "c8a6ba59-d628-4bbb-9a06-7bf0ef55cacb",
   "metadata": {
    "tags": []
   },
   "source": [
    "## Let's start coding!"
   ]
  },
  {
   "cell_type": "markdown",
   "id": "39532d65-9907-4a07-afae-8f6ed57a100f",
   "metadata": {
    "tags": []
   },
   "source": [
    "#### Using this Notebook "
   ]
  },
  {
   "cell_type": "markdown",
   "id": "6a8c2887-c13e-48f4-a6d5-be6d7e86177f",
   "metadata": {
    "tags": []
   },
   "source": [
    "Notice that some of the cells are not able to be edited – they are just meant to be run to test your code, and perform the auto grading. You should begin at the top and execute each code cell, adding your code when you see # YOUR CODE HERE. If you have written the functions correctly, you should see no errors.\n",
    "\n",
    "When you execute the TEST CASES cell, what you want to see is no output. You may want to intentionally make the function give a wrong result, so that you can see what the error message looks like – and then fix your function. Once you execute the TEST CASES cell, and get no output, then your function is most likely correct!"
   ]
  },
  {
   "cell_type": "code",
   "execution_count": 2,
   "id": "77996c36-460c-47d0-8f45-f6760469b6dd",
   "metadata": {
    "tags": []
   },
   "outputs": [],
   "source": [
    "from textblob import TextBlob\n",
    "import re # regular expressions\n",
    "import nltk"
   ]
  },
  {
   "cell_type": "markdown",
   "id": "6ce92287-24fe-465f-98a8-31674d168340",
   "metadata": {},
   "source": [
    "### Step 1: You are provided the function show_menu() and the read_file(filename) functions"
   ]
  },
  {
   "cell_type": "markdown",
   "id": "8a391b8f-4d58-4968-9d38-7503a1be2fe4",
   "metadata": {
    "tags": []
   },
   "source": [
    "As these two functions are provided in advance, they are readonly. You do not need to modify these first two functions, but you do need to run them."
   ]
  },
  {
   "cell_type": "code",
   "execution_count": 3,
   "id": "3e9cc52d-2676-4568-afc0-cad192c99c9a",
   "metadata": {
    "deletable": false,
    "editable": false,
    "nbgrader": {
     "cell_type": "code",
     "checksum": "a36a4dc48b6a53d039d539a9d1564945",
     "grade": false,
     "grade_id": "cell-1492121b909a2949",
     "locked": true,
     "schema_version": 3,
     "solution": false,
     "task": false
    },
    "tags": []
   },
   "outputs": [],
   "source": [
    "### UNGRADED FUNCTIONS: Review and run the functions \"show_menu\" and \"read_file\"\n",
    "\n",
    "def show_menu():\n",
    "    ''' show the menu options, and return a choice as a string, if valid.\n",
    "        Otherwise, loop to prompt the user to make another choice. '''\n",
    "    while True:\n",
    "        print('Please make a choice:')\n",
    "        print('1. Enter a new corpus of text.')\n",
    "        print('2. Print a report summarizing the total number of words and sentences.')\n",
    "        print('3. Print a list of all the noun phrases.')\n",
    "        print('4. Print a sentiment analysis.')\n",
    "        print('5. Exit the program.')\n",
    "        choice = input()\n",
    "        # process choice, using a regular expression to see if they entered a valid choice\n",
    "        if re.fullmatch(r'^[1-5]$', choice):  # if valid\n",
    "            return choice\n",
    "        else:\n",
    "            print('That is not a valid choice.  Please enter a number.')\n",
    "            \n",
    "def read_file(filename):\n",
    "    ''' Open a file, and convert the contents to a TextBlob, then return it.\n",
    "        The filename is passed to the function as an argument.'''\n",
    "    try:\n",
    "        datafile = open(filename, 'r')\n",
    "        # read all lines into a list and close file\n",
    "        text_lines = datafile.readlines()\n",
    "        datafile.close()\n",
    "        # combine the list into a single string, with spaces between items\n",
    "        text_string = ' '.join(text_lines)\n",
    "        # convert to a TextBlob\n",
    "        return TextBlob(text_string)\n",
    "    except FileNotFoundError:  \n",
    "        # if there was no file by that name, return an error\n",
    "        contents = f'There is no file named {filename} in this directory.'\n",
    "        return TextBlob(contents)\n",
    "    #Remember to remove the return error statement "
   ]
  },
  {
   "cell_type": "markdown",
   "id": "a7a5e3f7-beb5-4906-9c5d-e7d8c962a302",
   "metadata": {
    "tags": []
   },
   "source": [
    "### Step 2: Write function generate_counts(text)"
   ]
  },
  {
   "cell_type": "markdown",
   "id": "a686eb96-51d1-4e93-9ff6-5ff55bb79d94",
   "metadata": {
    "tags": []
   },
   "source": [
    "Your output for this function must match the sample output exactly, so that it is formatted as follows (where ### represents the results):  \n",
    " \n",
    "The total number of words is ###  \n",
    "The total number of sentences is ###  "
   ]
  },
  {
   "cell_type": "code",
   "execution_count": 4,
   "id": "57ab6ea5-afa7-4947-be3e-a3ac188076b1",
   "metadata": {
    "deletable": false,
    "nbgrader": {
     "cell_type": "code",
     "checksum": "9a0189339d66e19ac24dcb8cb790bec6",
     "grade": false,
     "grade_id": "cell-b8df4cc0186a657c",
     "locked": false,
     "schema_version": 3,
     "solution": true,
     "task": false
    },
    "tags": []
   },
   "outputs": [],
   "source": [
    "### GRADED FUNCTION:  Write a third function for option 2 called \"generate_counts\"\n",
    "                                                                                      \n",
    "def generate_counts(text):\n",
    "    ''' Given a TextBlob object, return a string with the total number of words and sentences '''\n",
    "    words = len(text.words)\n",
    "    words2 = len(text.sentences)\n",
    "    return f'The total number of words is {words}\\nThe total number of sentences is {words2}'"
   ]
  },
  {
   "cell_type": "code",
   "execution_count": null,
   "id": "0b3a67f4-7c14-47c6-ab57-6026f234d776",
   "metadata": {
    "tags": []
   },
   "outputs": [],
   "source": [
    "# Try out your function\n",
    "filename = 'computer_science.txt'\n",
    "textblob = read_file(filename)\n",
    "print(generate_counts(textblob))"
   ]
  },
  {
   "cell_type": "markdown",
   "id": "e8365fc3-0e5b-43cf-b39b-3c8d86b1296f",
   "metadata": {
    "tags": []
   },
   "source": [
    "### Step 3: Write function generate_np(text)"
   ]
  },
  {
   "cell_type": "code",
   "execution_count": 18,
   "id": "b6ead91c-dfec-448d-bec8-c6d36ffb4631",
   "metadata": {
    "deletable": false,
    "nbgrader": {
     "cell_type": "code",
     "checksum": "6a527b68ec06f3295f10bd960cdf65c5",
     "grade": false,
     "grade_id": "cell-246433127d09a89f",
     "locked": false,
     "schema_version": 3,
     "solution": true,
     "task": false
    },
    "tags": []
   },
   "outputs": [],
   "source": [
    "### GRADED FUNCTION:  Write a fourth function for option 3 called \"generate_np\"\n",
    "\n",
    "def generate_np(text):\n",
    "    ''' Given a TextBlob object, return a string with the noun phrases, one per line'''\n",
    "    out_string = ''\n",
    "    word = text.noun_phrases \n",
    "    for i in word:\n",
    "        out_string += f'{i}\\n'\n",
    "    return out_string\n",
    "        "
   ]
  },
  {
   "cell_type": "code",
   "execution_count": 19,
   "id": "e5b79c79-ad6b-4cfa-8a8e-d2fef900114c",
   "metadata": {
    "tags": []
   },
   "outputs": [
    {
     "name": "stdout",
     "output_type": "stream",
     "text": [
      "data\n",
      "academic field [\n",
      "uses statistics\n",
      "scientific methods\n",
      "extrapolate knowledge\n",
      "data\n",
      "integrates domain knowledge\n",
      "application domain\n",
      "natural sciences\n",
      "information technology\n",
      "data\n",
      "research paradigm\n",
      "research method\n",
      "data\n",
      "data analysis\n",
      "actual phenomena\n",
      "uses techniques\n",
      "computer science\n",
      "information science\n",
      "domain knowledge\n",
      "data science\n",
      "computer science\n",
      "information science\n",
      "turing\n",
      "award winner\n",
      "jim\n",
      "data science\n",
      "information technology\n",
      "data deluge\n",
      "] [\n",
      "data scientist\n",
      "statistical knowledge\n",
      "\n"
     ]
    }
   ],
   "source": [
    "# return a string containing all of the noun phrases, one per line. \n",
    "filename = 'data_science.txt'\n",
    "textblob = read_file(filename)\n",
    "print(generate_np(textblob))"
   ]
  },
  {
   "cell_type": "markdown",
   "id": "f20f11cb-4a98-48d5-976d-f80eb9ca2f95",
   "metadata": {
    "tags": []
   },
   "source": [
    "### Step 5: Write function generate_sentiment(text)"
   ]
  },
  {
   "cell_type": "code",
   "execution_count": 6,
   "id": "12ae8650-5b7c-4b2f-b0ad-d60856f26405",
   "metadata": {
    "deletable": false,
    "nbgrader": {
     "cell_type": "code",
     "checksum": "4f22560ccb6c57f6fd76706208e5abd1",
     "grade": false,
     "grade_id": "cell-4488f95397e1c043",
     "locked": false,
     "schema_version": 3,
     "solution": true,
     "task": false
    },
    "tags": []
   },
   "outputs": [],
   "source": [
    "### GRADED FUNCTION:  Write a fifth function for option 4 called \"generate_sentiment\"\n",
    "\n",
    "def generate_sentiment(text):\n",
    "    ''' Print a sentiment analysis, return a string with a TextBlob object '''\n",
    "    \n",
    "    return f\"The overall sentiment polarity of this selection is {text.sentiment.polarity}\\nThe overall sentiment objectivity is {text.sentiment.subjectivity}\"\n"
   ]
  },
  {
   "cell_type": "code",
   "execution_count": 73,
   "id": "135749d8-9134-48e9-b15b-94d9634ac4ac",
   "metadata": {
    "tags": []
   },
   "outputs": [
    {
     "name": "stdout",
     "output_type": "stream",
     "text": [
      "Sentiment(polarity=-0.057894736842105256, subjectivity=0.4868421052631579)\n"
     ]
    }
   ],
   "source": [
    "# return a string containing the sentiment analysis, formatted exactly as in the output below. \n",
    "filename = 'computer_science.txt'\n",
    "textblob = read_file(filename)\n",
    "print(textblob.sentiment)"
   ]
  },
  {
   "cell_type": "markdown",
   "id": "30368aea-7061-41cf-ab5c-b6350195a1b0",
   "metadata": {},
   "source": [
    "### Bring it all together in main()"
   ]
  },
  {
   "cell_type": "code",
   "execution_count": 7,
   "id": "fecc068b-7f1e-467c-b25e-d47c67eaa0bb",
   "metadata": {
    "tags": []
   },
   "outputs": [
    {
     "name": "stdout",
     "output_type": "stream",
     "text": [
      "Please make a choice:\n",
      "1. Enter a new corpus of text.\n",
      "2. Print a report summarizing the total number of words and sentences.\n",
      "3. Print a list of all the noun phrases.\n",
      "4. Print a sentiment analysis.\n",
      "5. Exit the program.\n"
     ]
    },
    {
     "name": "stdin",
     "output_type": "stream",
     "text": [
      " sample.txt\n"
     ]
    },
    {
     "name": "stdout",
     "output_type": "stream",
     "text": [
      "That is not a valid choice.  Please enter a number.\n",
      "Please make a choice:\n",
      "1. Enter a new corpus of text.\n",
      "2. Print a report summarizing the total number of words and sentences.\n",
      "3. Print a list of all the noun phrases.\n",
      "4. Print a sentiment analysis.\n",
      "5. Exit the program.\n"
     ]
    },
    {
     "name": "stdin",
     "output_type": "stream",
     "text": [
      " computer_science.txt\n"
     ]
    },
    {
     "name": "stdout",
     "output_type": "stream",
     "text": [
      "That is not a valid choice.  Please enter a number.\n",
      "Please make a choice:\n",
      "1. Enter a new corpus of text.\n",
      "2. Print a report summarizing the total number of words and sentences.\n",
      "3. Print a list of all the noun phrases.\n",
      "4. Print a sentiment analysis.\n",
      "5. Exit the program.\n"
     ]
    },
    {
     "ename": "KeyboardInterrupt",
     "evalue": "Interrupted by user",
     "output_type": "error",
     "traceback": [
      "\u001b[0;31m---------------------------------------------------------------------------\u001b[0m",
      "\u001b[0;31mKeyboardInterrupt\u001b[0m                         Traceback (most recent call last)",
      "Cell \u001b[0;32mIn[7], line 24\u001b[0m\n\u001b[1;32m     21\u001b[0m         \u001b[38;5;28;01melse\u001b[39;00m:\n\u001b[1;32m     22\u001b[0m             \u001b[38;5;28mprint\u001b[39m(\u001b[38;5;124m'\u001b[39m\u001b[38;5;124mOops, that is not an option.\u001b[39m\u001b[38;5;124m'\u001b[39m)\n\u001b[0;32m---> 24\u001b[0m \u001b[43mmain\u001b[49m\u001b[43m(\u001b[49m\u001b[43m)\u001b[49m\n",
      "Cell \u001b[0;32mIn[7], line 4\u001b[0m, in \u001b[0;36mmain\u001b[0;34m()\u001b[0m\n\u001b[1;32m      2\u001b[0m \u001b[38;5;250m\u001b[39m\u001b[38;5;124;03m''' loop until the user wants to quit '''\u001b[39;00m\n\u001b[1;32m      3\u001b[0m \u001b[38;5;28;01mwhile\u001b[39;00m \u001b[38;5;28;01mTrue\u001b[39;00m:\n\u001b[0;32m----> 4\u001b[0m     choice \u001b[38;5;241m=\u001b[39m \u001b[43mshow_menu\u001b[49m\u001b[43m(\u001b[49m\u001b[43m)\u001b[49m\n\u001b[1;32m      5\u001b[0m     \u001b[38;5;66;03m# take action\u001b[39;00m\n\u001b[1;32m      6\u001b[0m     \u001b[38;5;28;01mif\u001b[39;00m choice \u001b[38;5;241m==\u001b[39m \u001b[38;5;124m'\u001b[39m\u001b[38;5;124m1\u001b[39m\u001b[38;5;124m'\u001b[39m:\n\u001b[1;32m      7\u001b[0m         \u001b[38;5;66;03m# new text selection\u001b[39;00m\n",
      "Cell \u001b[0;32mIn[3], line 13\u001b[0m, in \u001b[0;36mshow_menu\u001b[0;34m()\u001b[0m\n\u001b[1;32m     11\u001b[0m \u001b[38;5;28mprint\u001b[39m(\u001b[38;5;124m'\u001b[39m\u001b[38;5;124m4. Print a sentiment analysis.\u001b[39m\u001b[38;5;124m'\u001b[39m)\n\u001b[1;32m     12\u001b[0m \u001b[38;5;28mprint\u001b[39m(\u001b[38;5;124m'\u001b[39m\u001b[38;5;124m5. Exit the program.\u001b[39m\u001b[38;5;124m'\u001b[39m)\n\u001b[0;32m---> 13\u001b[0m choice \u001b[38;5;241m=\u001b[39m \u001b[38;5;28;43minput\u001b[39;49m\u001b[43m(\u001b[49m\u001b[43m)\u001b[49m\n\u001b[1;32m     14\u001b[0m \u001b[38;5;66;03m# process choice, using a regular expression to see if they entered a valid choice\u001b[39;00m\n\u001b[1;32m     15\u001b[0m \u001b[38;5;28;01mif\u001b[39;00m re\u001b[38;5;241m.\u001b[39mfullmatch(\u001b[38;5;124mr\u001b[39m\u001b[38;5;124m'\u001b[39m\u001b[38;5;124m^[1-5]$\u001b[39m\u001b[38;5;124m'\u001b[39m, choice):  \u001b[38;5;66;03m# if valid\u001b[39;00m\n",
      "File \u001b[0;32m/opt/conda/lib/python3.11/site-packages/ipykernel/kernelbase.py:1177\u001b[0m, in \u001b[0;36mKernel.raw_input\u001b[0;34m(self, prompt)\u001b[0m\n\u001b[1;32m   1173\u001b[0m \u001b[38;5;28;01mif\u001b[39;00m \u001b[38;5;129;01mnot\u001b[39;00m \u001b[38;5;28mself\u001b[39m\u001b[38;5;241m.\u001b[39m_allow_stdin:\n\u001b[1;32m   1174\u001b[0m     \u001b[38;5;28;01mraise\u001b[39;00m StdinNotImplementedError(\n\u001b[1;32m   1175\u001b[0m         \u001b[38;5;124m\"\u001b[39m\u001b[38;5;124mraw_input was called, but this frontend does not support input requests.\u001b[39m\u001b[38;5;124m\"\u001b[39m\n\u001b[1;32m   1176\u001b[0m     )\n\u001b[0;32m-> 1177\u001b[0m \u001b[38;5;28;01mreturn\u001b[39;00m \u001b[38;5;28;43mself\u001b[39;49m\u001b[38;5;241;43m.\u001b[39;49m\u001b[43m_input_request\u001b[49m\u001b[43m(\u001b[49m\n\u001b[1;32m   1178\u001b[0m \u001b[43m    \u001b[49m\u001b[38;5;28;43mstr\u001b[39;49m\u001b[43m(\u001b[49m\u001b[43mprompt\u001b[49m\u001b[43m)\u001b[49m\u001b[43m,\u001b[49m\n\u001b[1;32m   1179\u001b[0m \u001b[43m    \u001b[49m\u001b[38;5;28;43mself\u001b[39;49m\u001b[38;5;241;43m.\u001b[39;49m\u001b[43m_parent_ident\u001b[49m\u001b[43m[\u001b[49m\u001b[38;5;124;43m\"\u001b[39;49m\u001b[38;5;124;43mshell\u001b[39;49m\u001b[38;5;124;43m\"\u001b[39;49m\u001b[43m]\u001b[49m\u001b[43m,\u001b[49m\n\u001b[1;32m   1180\u001b[0m \u001b[43m    \u001b[49m\u001b[38;5;28;43mself\u001b[39;49m\u001b[38;5;241;43m.\u001b[39;49m\u001b[43mget_parent\u001b[49m\u001b[43m(\u001b[49m\u001b[38;5;124;43m\"\u001b[39;49m\u001b[38;5;124;43mshell\u001b[39;49m\u001b[38;5;124;43m\"\u001b[39;49m\u001b[43m)\u001b[49m\u001b[43m,\u001b[49m\n\u001b[1;32m   1181\u001b[0m \u001b[43m    \u001b[49m\u001b[43mpassword\u001b[49m\u001b[38;5;241;43m=\u001b[39;49m\u001b[38;5;28;43;01mFalse\u001b[39;49;00m\u001b[43m,\u001b[49m\n\u001b[1;32m   1182\u001b[0m \u001b[43m\u001b[49m\u001b[43m)\u001b[49m\n",
      "File \u001b[0;32m/opt/conda/lib/python3.11/site-packages/ipykernel/kernelbase.py:1219\u001b[0m, in \u001b[0;36mKernel._input_request\u001b[0;34m(self, prompt, ident, parent, password)\u001b[0m\n\u001b[1;32m   1216\u001b[0m             \u001b[38;5;28;01mbreak\u001b[39;00m\n\u001b[1;32m   1217\u001b[0m \u001b[38;5;28;01mexcept\u001b[39;00m \u001b[38;5;167;01mKeyboardInterrupt\u001b[39;00m:\n\u001b[1;32m   1218\u001b[0m     \u001b[38;5;66;03m# re-raise KeyboardInterrupt, to truncate traceback\u001b[39;00m\n\u001b[0;32m-> 1219\u001b[0m     \u001b[38;5;28;01mraise\u001b[39;00m \u001b[38;5;167;01mKeyboardInterrupt\u001b[39;00m(\u001b[38;5;124m\"\u001b[39m\u001b[38;5;124mInterrupted by user\u001b[39m\u001b[38;5;124m\"\u001b[39m) \u001b[38;5;28;01mfrom\u001b[39;00m \u001b[38;5;28;01mNone\u001b[39;00m\n\u001b[1;32m   1220\u001b[0m \u001b[38;5;28;01mexcept\u001b[39;00m \u001b[38;5;167;01mException\u001b[39;00m:\n\u001b[1;32m   1221\u001b[0m     \u001b[38;5;28mself\u001b[39m\u001b[38;5;241m.\u001b[39mlog\u001b[38;5;241m.\u001b[39mwarning(\u001b[38;5;124m\"\u001b[39m\u001b[38;5;124mInvalid Message:\u001b[39m\u001b[38;5;124m\"\u001b[39m, exc_info\u001b[38;5;241m=\u001b[39m\u001b[38;5;28;01mTrue\u001b[39;00m)\n",
      "\u001b[0;31mKeyboardInterrupt\u001b[0m: Interrupted by user"
     ]
    }
   ],
   "source": [
    "def main():\n",
    "    ''' loop until the user wants to quit '''\n",
    "    while True:\n",
    "        choice = show_menu()\n",
    "        # take action\n",
    "        if choice == '1':\n",
    "            # new text selection\n",
    "            corpus_text = input('Please enter a filename:')\n",
    "            corpus = read_file(corpus_text)\n",
    "            print(corpus)\n",
    "        elif choice == '2':\n",
    "            # report counts of words and sentences\n",
    "            print(generate_counts(corpus))\n",
    "        elif choice == '3':\n",
    "            print(generate_np(corpus))\n",
    "        elif choice == '4':\n",
    "            print(generate_sentiment(corpus))\n",
    "        elif choice == '5':\n",
    "            # quit program\n",
    "            break\n",
    "        else:\n",
    "            print('Oops, that is not an option.')\n",
    "            \n",
    "main()"
   ]
  },
  {
   "cell_type": "markdown",
   "id": "ad0475ba-fd69-43c7-9621-918d778a5c7b",
   "metadata": {},
   "source": [
    "### Step 3: Testing Your Work"
   ]
  },
  {
   "cell_type": "markdown",
   "id": "03ff9aea-7fed-4f6c-8a37-690638a8c65c",
   "metadata": {},
   "source": [
    "Your work will be autograded based on your function outputs for the test cases below. The next cell shows how the auto-grading tests are executed.  \n",
    "\n",
    "Several possible cases are run through the function, and the results are tested against that actual correct answer. If you run the test cell and there is no output, then the tests all passed – Great!"
   ]
  },
  {
   "cell_type": "code",
   "execution_count": 8,
   "id": "f4707b20-4abc-49fa-a5a5-55d94d389c66",
   "metadata": {
    "deletable": false,
    "editable": false,
    "nbgrader": {
     "cell_type": "code",
     "checksum": "d9f9f2456f49a144b7694395c3b99769",
     "grade": true,
     "grade_id": "cell-19240d2478ff1f89",
     "locked": true,
     "points": 3,
     "schema_version": 3,
     "solution": false,
     "task": false
    },
    "tags": []
   },
   "outputs": [],
   "source": [
    "# GRADED TEST CASE 1: This cell should not deliver any errors when this cell is run\n",
    "\n",
    "# Function generate_counts(text): \n",
    "filename = 'data_science.txt'\n",
    "textblob = read_file(filename)\n",
    "\n",
    "assert generate_counts(textblob) == 'The total number of words is 198\\nThe total number of sentences is 9', \"Please check that word and sentence counts are correct, with the appropriate formatting that matches expected output guidance.\""
   ]
  },
  {
   "cell_type": "code",
   "execution_count": 20,
   "id": "5ecf72c2-afcb-4509-933d-65eb65333970",
   "metadata": {
    "deletable": false,
    "editable": false,
    "nbgrader": {
     "cell_type": "code",
     "checksum": "d78d844fd8c3217f77f5ccb9d228b9c8",
     "grade": true,
     "grade_id": "cell-972625f7aab31e18",
     "locked": true,
     "points": 3,
     "schema_version": 3,
     "solution": false,
     "task": false
    },
    "tags": []
   },
   "outputs": [],
   "source": [
    "# GRADED TEST CASE 2: This cell should not deliver any errors when this cell is run\n",
    "# Function generate_np(text):\n",
    "\n",
    "filename = 'data_science.txt'\n",
    "textblob = read_file(filename)\n",
    "exp_np_blob = \"data\\nacademic field [\\nuses statistics\\nscientific methods\\nextrapolate knowledge\\ndata\\nintegrates domain knowledge\\napplication domain\\nnatural sciences\\ninformation technology\\ndata\\nresearch paradigm\\nresearch method\\ndata\\ndata analysis\\nactual phenomena\\nuses techniques\\ncomputer science\\ninformation science\\ndomain knowledge\\ndata science\\ncomputer science\\ninformation science\\nturing\\naward winner\\njim\\ndata science\\ninformation technology\\ndata deluge\\n] [\\ndata scientist\\nstatistical knowledge\\n\"\n",
    "\n",
    "assert generate_np(textblob) == exp_np_blob,\"Please verify your function lists all noun phrases - with one on each line\""
   ]
  },
  {
   "cell_type": "code",
   "execution_count": 10,
   "id": "15a35843-2e7c-4664-9d95-e6b8a3703609",
   "metadata": {
    "deletable": false,
    "editable": false,
    "nbgrader": {
     "cell_type": "code",
     "checksum": "d550f6e3a49849521a2d7729c9dc1042",
     "grade": true,
     "grade_id": "cell-3a25b6898afbf1a6",
     "locked": true,
     "points": 4,
     "schema_version": 3,
     "solution": false,
     "task": false
    },
    "tags": []
   },
   "outputs": [
    {
     "name": "stdout",
     "output_type": "stream",
     "text": [
      "The overall sentiment polarity of this selection is 0.07999999999999999\n",
      "The overall sentiment objectivity is 0.23000000000000004\n"
     ]
    }
   ],
   "source": [
    "# GRADED TEST CASE 3: This cell should not deliver any errors when this cell is run\n",
    "\n",
    "# Function generate_sentiment(text)\n",
    "filename = 'data_science.txt'\n",
    "textblob = read_file(filename)\n",
    "\n",
    "print(generate_sentiment(textblob))\n",
    "\n",
    "assert generate_sentiment(textblob) == \"The overall sentiment polarity of this selection is 0.07999999999999999\\nThe overall sentiment objectivity is 0.23000000000000004\", \"Please double check that your function delivers the sentiment polarity in the correct format as specified in the Sample Outputs section.\"\n"
   ]
  },
  {
   "cell_type": "markdown",
   "id": "cace715c-2c61-4ecf-a8aa-1d60f8d15401",
   "metadata": {
    "tags": []
   },
   "source": [
    "### Step 4: Submit your Work for Grading"
   ]
  },
  {
   "cell_type": "markdown",
   "id": "d689cd88-efdb-4888-acb8-cf37c3ba1d5e",
   "metadata": {
    "tags": []
   },
   "source": [
    "To receive a final score for your work, please select the \"Submit Assignment\" button at the top of your lab."
   ]
  }
 ],
 "metadata": {
  "kernelspec": {
   "display_name": "Python 3 (ipykernel)",
   "language": "python",
   "name": "python3"
  },
  "language_info": {
   "codemirror_mode": {
    "name": "ipython",
    "version": 3
   },
   "file_extension": ".py",
   "mimetype": "text/x-python",
   "name": "python",
   "nbconvert_exporter": "python",
   "pygments_lexer": "ipython3",
   "version": "3.11.4"
  }
 },
 "nbformat": 4,
 "nbformat_minor": 5
}
