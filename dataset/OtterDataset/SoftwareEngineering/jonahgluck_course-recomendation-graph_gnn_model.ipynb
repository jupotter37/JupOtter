{
  "nbformat": 4,
  "nbformat_minor": 0,
  "metadata": {
    "colab": {
      "provenance": []
    },
    "kernelspec": {
      "name": "python3",
      "display_name": "Python 3"
    },
    "language_info": {
      "name": "python"
    },
    "widgets": {
      "application/vnd.jupyter.widget-state+json": {
        "081920dfd2be44f092be35db599409fb": {
          "model_module": "@jupyter-widgets/controls",
          "model_name": "SelectMultipleModel",
          "model_module_version": "1.5.0",
          "state": {
            "_dom_classes": [],
            "_model_module": "@jupyter-widgets/controls",
            "_model_module_version": "1.5.0",
            "_model_name": "SelectMultipleModel",
            "_options_labels": [
              "CAS CS 111",
              "CAS CS 112",
              "CAS CS 210",
              "CAS CS 330",
              "CAS CS 411",
              "CAS CS 440",
              "CAS CS 455",
              "CAS CS 460",
              "CAS EC 101",
              "CAS EC 102",
              "CAS EC 201",
              "CAS EC 202",
              "CAS EC 320",
              "CAS EC 414",
              "CAS PH 100",
              "CAS PH 110",
              "CAS PH 150",
              "CAS PH 245",
              "CAS PH 260",
              "CAS PH 300",
              "CAS PS 101",
              "CAS PS 231",
              "CAS PS 241",
              "CAS PS 332",
              "CAS PS 371",
              "ENG BE 403",
              "ENG EC 327",
              "ENG EC 464",
              "ENG EK 125",
              "ENG EK 210",
              "ENG ME 231",
              "ENG SE 501"
            ],
            "_view_count": null,
            "_view_module": "@jupyter-widgets/controls",
            "_view_module_version": "1.5.0",
            "_view_name": "SelectMultipleView",
            "description": "Courses:",
            "description_tooltip": null,
            "disabled": false,
            "index": [
              0,
              1,
              2,
              3
            ],
            "layout": "IPY_MODEL_59afcd94fbbf4c01a23fae82183e5fcd",
            "rows": 5,
            "style": "IPY_MODEL_75a23019e71b48ae852657104d18adc9"
          }
        },
        "59afcd94fbbf4c01a23fae82183e5fcd": {
          "model_module": "@jupyter-widgets/base",
          "model_name": "LayoutModel",
          "model_module_version": "1.2.0",
          "state": {
            "_model_module": "@jupyter-widgets/base",
            "_model_module_version": "1.2.0",
            "_model_name": "LayoutModel",
            "_view_count": null,
            "_view_module": "@jupyter-widgets/base",
            "_view_module_version": "1.2.0",
            "_view_name": "LayoutView",
            "align_content": null,
            "align_items": null,
            "align_self": null,
            "border": null,
            "bottom": null,
            "display": null,
            "flex": null,
            "flex_flow": null,
            "grid_area": null,
            "grid_auto_columns": null,
            "grid_auto_flow": null,
            "grid_auto_rows": null,
            "grid_column": null,
            "grid_gap": null,
            "grid_row": null,
            "grid_template_areas": null,
            "grid_template_columns": null,
            "grid_template_rows": null,
            "height": null,
            "justify_content": null,
            "justify_items": null,
            "left": null,
            "margin": null,
            "max_height": null,
            "max_width": null,
            "min_height": null,
            "min_width": null,
            "object_fit": null,
            "object_position": null,
            "order": null,
            "overflow": null,
            "overflow_x": null,
            "overflow_y": null,
            "padding": null,
            "right": null,
            "top": null,
            "visibility": null,
            "width": null
          }
        },
        "75a23019e71b48ae852657104d18adc9": {
          "model_module": "@jupyter-widgets/controls",
          "model_name": "DescriptionStyleModel",
          "model_module_version": "1.5.0",
          "state": {
            "_model_module": "@jupyter-widgets/controls",
            "_model_module_version": "1.5.0",
            "_model_name": "DescriptionStyleModel",
            "_view_count": null,
            "_view_module": "@jupyter-widgets/base",
            "_view_module_version": "1.2.0",
            "_view_name": "StyleView",
            "description_width": ""
          }
        },
        "1c0e51e7dedd4953b2206765e0681d34": {
          "model_module": "@jupyter-widgets/controls",
          "model_name": "SelectMultipleModel",
          "model_module_version": "1.5.0",
          "state": {
            "_dom_classes": [],
            "_model_module": "@jupyter-widgets/controls",
            "_model_module_version": "1.5.0",
            "_model_name": "SelectMultipleModel",
            "_options_labels": [
              "Algorithmic Thinking",
              "Artificial Intelligence",
              "Behavioral Economics",
              "Biomedical Engineering Principles",
              "Computer Systems",
              "Critical Thinking",
              "Data Analysis",
              "Data Structures",
              "Data Visualization",
              "Design Skills",
              "Digital Signal Processing",
              "Econometrics",
              "Economic Theory",
              "Embedded Systems",
              "Engineering Fundamentals",
              "Introductory Programming",
              "Machine Learning",
              "Macroeconomics",
              "Mathematical Skills",
              "Mechanical Engineering Skills",
              "Microeconomics",
              "Policy Analysis",
              "Problem Solving",
              "Programming Skills",
              "Project Management",
              "Quantitative Analysis",
              "Software Engineering",
              "Systems Engineering Concepts",
              "Technical Writing",
              "Theory of Computation"
            ],
            "_view_count": null,
            "_view_module": "@jupyter-widgets/controls",
            "_view_module_version": "1.5.0",
            "_view_name": "SelectMultipleView",
            "description": "Skills:",
            "description_tooltip": null,
            "disabled": false,
            "index": [
              1,
              2
            ],
            "layout": "IPY_MODEL_45fd28c3a3284e999509532f3a1fea7c",
            "rows": 5,
            "style": "IPY_MODEL_8168b94bb8764d1f956d9d8dbabbf8b6"
          }
        },
        "45fd28c3a3284e999509532f3a1fea7c": {
          "model_module": "@jupyter-widgets/base",
          "model_name": "LayoutModel",
          "model_module_version": "1.2.0",
          "state": {
            "_model_module": "@jupyter-widgets/base",
            "_model_module_version": "1.2.0",
            "_model_name": "LayoutModel",
            "_view_count": null,
            "_view_module": "@jupyter-widgets/base",
            "_view_module_version": "1.2.0",
            "_view_name": "LayoutView",
            "align_content": null,
            "align_items": null,
            "align_self": null,
            "border": null,
            "bottom": null,
            "display": null,
            "flex": null,
            "flex_flow": null,
            "grid_area": null,
            "grid_auto_columns": null,
            "grid_auto_flow": null,
            "grid_auto_rows": null,
            "grid_column": null,
            "grid_gap": null,
            "grid_row": null,
            "grid_template_areas": null,
            "grid_template_columns": null,
            "grid_template_rows": null,
            "height": null,
            "justify_content": null,
            "justify_items": null,
            "left": null,
            "margin": null,
            "max_height": null,
            "max_width": null,
            "min_height": null,
            "min_width": null,
            "object_fit": null,
            "object_position": null,
            "order": null,
            "overflow": null,
            "overflow_x": null,
            "overflow_y": null,
            "padding": null,
            "right": null,
            "top": null,
            "visibility": null,
            "width": null
          }
        },
        "8168b94bb8764d1f956d9d8dbabbf8b6": {
          "model_module": "@jupyter-widgets/controls",
          "model_name": "DescriptionStyleModel",
          "model_module_version": "1.5.0",
          "state": {
            "_model_module": "@jupyter-widgets/controls",
            "_model_module_version": "1.5.0",
            "_model_name": "DescriptionStyleModel",
            "_view_count": null,
            "_view_module": "@jupyter-widgets/base",
            "_view_module_version": "1.2.0",
            "_view_name": "StyleView",
            "description_width": ""
          }
        },
        "7aff7ed17f28452c953cd34e6539bc89": {
          "model_module": "@jupyter-widgets/controls",
          "model_name": "SelectMultipleModel",
          "model_module_version": "1.5.0",
          "state": {
            "_dom_classes": [],
            "_model_module": "@jupyter-widgets/controls",
            "_model_module_version": "1.5.0",
            "_model_name": "SelectMultipleModel",
            "_options_labels": [
              "AI Researcher",
              "Actuary",
              "Behavioral Economist",
              "Biomedical Engineer",
              "Business Intelligence Analyst",
              "Clinical Engineer",
              "Computational Scientist",
              "Consultant",
              "Data Analyst",
              "Data Scientist",
              "Data Visualization Specialist",
              "DevOps Engineer",
              "Econometrician",
              "Economic Consultant",
              "Economic Researcher",
              "Embedded Software Engineer",
              "Engineer",
              "Financial Analyst",
              "IT Support Specialist",
              "Machine Learning Engineer",
              "Market Research Analyst",
              "Mechanical Engineer",
              "Operations Analyst",
              "Policy Analyst",
              "Product Designer",
              "Product Manager",
              "Project Manager",
              "Researcher",
              "Robotics Engineer",
              "Signal Processing Engineer",
              "Software Developer",
              "Software Engineer",
              "Systems Analyst",
              "Systems Engineer",
              "Technical Writer",
              "UI/UX Designer"
            ],
            "_view_count": null,
            "_view_module": "@jupyter-widgets/controls",
            "_view_module_version": "1.5.0",
            "_view_name": "SelectMultipleView",
            "description": "Jobs:",
            "description_tooltip": null,
            "disabled": false,
            "index": [],
            "layout": "IPY_MODEL_e9279421103d4c28b84b1247c56c77bc",
            "rows": 5,
            "style": "IPY_MODEL_5e170b5f691a441c9310d1d030e6406b"
          }
        },
        "e9279421103d4c28b84b1247c56c77bc": {
          "model_module": "@jupyter-widgets/base",
          "model_name": "LayoutModel",
          "model_module_version": "1.2.0",
          "state": {
            "_model_module": "@jupyter-widgets/base",
            "_model_module_version": "1.2.0",
            "_model_name": "LayoutModel",
            "_view_count": null,
            "_view_module": "@jupyter-widgets/base",
            "_view_module_version": "1.2.0",
            "_view_name": "LayoutView",
            "align_content": null,
            "align_items": null,
            "align_self": null,
            "border": null,
            "bottom": null,
            "display": null,
            "flex": null,
            "flex_flow": null,
            "grid_area": null,
            "grid_auto_columns": null,
            "grid_auto_flow": null,
            "grid_auto_rows": null,
            "grid_column": null,
            "grid_gap": null,
            "grid_row": null,
            "grid_template_areas": null,
            "grid_template_columns": null,
            "grid_template_rows": null,
            "height": null,
            "justify_content": null,
            "justify_items": null,
            "left": null,
            "margin": null,
            "max_height": null,
            "max_width": null,
            "min_height": null,
            "min_width": null,
            "object_fit": null,
            "object_position": null,
            "order": null,
            "overflow": null,
            "overflow_x": null,
            "overflow_y": null,
            "padding": null,
            "right": null,
            "top": null,
            "visibility": null,
            "width": null
          }
        },
        "5e170b5f691a441c9310d1d030e6406b": {
          "model_module": "@jupyter-widgets/controls",
          "model_name": "DescriptionStyleModel",
          "model_module_version": "1.5.0",
          "state": {
            "_model_module": "@jupyter-widgets/controls",
            "_model_module_version": "1.5.0",
            "_model_name": "DescriptionStyleModel",
            "_view_count": null,
            "_view_module": "@jupyter-widgets/base",
            "_view_module_version": "1.2.0",
            "_view_name": "StyleView",
            "description_width": ""
          }
        },
        "16fc394de9b04aedb17b8795c366d539": {
          "model_module": "@jupyter-widgets/controls",
          "model_name": "ButtonModel",
          "model_module_version": "1.5.0",
          "state": {
            "_dom_classes": [],
            "_model_module": "@jupyter-widgets/controls",
            "_model_module_version": "1.5.0",
            "_model_name": "ButtonModel",
            "_view_count": null,
            "_view_module": "@jupyter-widgets/controls",
            "_view_module_version": "1.5.0",
            "_view_name": "ButtonView",
            "button_style": "",
            "description": "Get Suggestions",
            "disabled": false,
            "icon": "",
            "layout": "IPY_MODEL_4513e540dcfe4130873fc3eec7d6a56c",
            "style": "IPY_MODEL_25f962b5ef2e444aa5caeaeb14c4c734",
            "tooltip": ""
          }
        },
        "4513e540dcfe4130873fc3eec7d6a56c": {
          "model_module": "@jupyter-widgets/base",
          "model_name": "LayoutModel",
          "model_module_version": "1.2.0",
          "state": {
            "_model_module": "@jupyter-widgets/base",
            "_model_module_version": "1.2.0",
            "_model_name": "LayoutModel",
            "_view_count": null,
            "_view_module": "@jupyter-widgets/base",
            "_view_module_version": "1.2.0",
            "_view_name": "LayoutView",
            "align_content": null,
            "align_items": null,
            "align_self": null,
            "border": null,
            "bottom": null,
            "display": null,
            "flex": null,
            "flex_flow": null,
            "grid_area": null,
            "grid_auto_columns": null,
            "grid_auto_flow": null,
            "grid_auto_rows": null,
            "grid_column": null,
            "grid_gap": null,
            "grid_row": null,
            "grid_template_areas": null,
            "grid_template_columns": null,
            "grid_template_rows": null,
            "height": null,
            "justify_content": null,
            "justify_items": null,
            "left": null,
            "margin": null,
            "max_height": null,
            "max_width": null,
            "min_height": null,
            "min_width": null,
            "object_fit": null,
            "object_position": null,
            "order": null,
            "overflow": null,
            "overflow_x": null,
            "overflow_y": null,
            "padding": null,
            "right": null,
            "top": null,
            "visibility": null,
            "width": null
          }
        },
        "25f962b5ef2e444aa5caeaeb14c4c734": {
          "model_module": "@jupyter-widgets/controls",
          "model_name": "ButtonStyleModel",
          "model_module_version": "1.5.0",
          "state": {
            "_model_module": "@jupyter-widgets/controls",
            "_model_module_version": "1.5.0",
            "_model_name": "ButtonStyleModel",
            "_view_count": null,
            "_view_module": "@jupyter-widgets/base",
            "_view_module_version": "1.2.0",
            "_view_name": "StyleView",
            "button_color": null,
            "font_weight": ""
          }
        }
      }
    }
  },
  "cells": [
    {
      "cell_type": "code",
      "source": [
        "!pip install torch_geometric"
      ],
      "metadata": {
        "colab": {
          "base_uri": "https://localhost:8080/"
        },
        "id": "BAQkGGHzSgHJ",
        "outputId": "8a2322a0-daef-48fc-fc2b-13d172cce090"
      },
      "execution_count": null,
      "outputs": [
        {
          "output_type": "stream",
          "name": "stdout",
          "text": [
            "Requirement already satisfied: torch_geometric in /usr/local/lib/python3.10/dist-packages (2.6.1)\n",
            "Requirement already satisfied: aiohttp in /usr/local/lib/python3.10/dist-packages (from torch_geometric) (3.10.10)\n",
            "Requirement already satisfied: fsspec in /usr/local/lib/python3.10/dist-packages (from torch_geometric) (2024.10.0)\n",
            "Requirement already satisfied: jinja2 in /usr/local/lib/python3.10/dist-packages (from torch_geometric) (3.1.4)\n",
            "Requirement already satisfied: numpy in /usr/local/lib/python3.10/dist-packages (from torch_geometric) (1.26.4)\n",
            "Requirement already satisfied: psutil>=5.8.0 in /usr/local/lib/python3.10/dist-packages (from torch_geometric) (5.9.5)\n",
            "Requirement already satisfied: pyparsing in /usr/local/lib/python3.10/dist-packages (from torch_geometric) (3.2.0)\n",
            "Requirement already satisfied: requests in /usr/local/lib/python3.10/dist-packages (from torch_geometric) (2.32.3)\n",
            "Requirement already satisfied: tqdm in /usr/local/lib/python3.10/dist-packages (from torch_geometric) (4.66.6)\n",
            "Requirement already satisfied: aiohappyeyeballs>=2.3.0 in /usr/local/lib/python3.10/dist-packages (from aiohttp->torch_geometric) (2.4.3)\n",
            "Requirement already satisfied: aiosignal>=1.1.2 in /usr/local/lib/python3.10/dist-packages (from aiohttp->torch_geometric) (1.3.1)\n",
            "Requirement already satisfied: attrs>=17.3.0 in /usr/local/lib/python3.10/dist-packages (from aiohttp->torch_geometric) (24.2.0)\n",
            "Requirement already satisfied: frozenlist>=1.1.1 in /usr/local/lib/python3.10/dist-packages (from aiohttp->torch_geometric) (1.5.0)\n",
            "Requirement already satisfied: multidict<7.0,>=4.5 in /usr/local/lib/python3.10/dist-packages (from aiohttp->torch_geometric) (6.1.0)\n",
            "Requirement already satisfied: yarl<2.0,>=1.12.0 in /usr/local/lib/python3.10/dist-packages (from aiohttp->torch_geometric) (1.17.1)\n",
            "Requirement already satisfied: async-timeout<5.0,>=4.0 in /usr/local/lib/python3.10/dist-packages (from aiohttp->torch_geometric) (4.0.3)\n",
            "Requirement already satisfied: MarkupSafe>=2.0 in /usr/local/lib/python3.10/dist-packages (from jinja2->torch_geometric) (3.0.2)\n",
            "Requirement already satisfied: charset-normalizer<4,>=2 in /usr/local/lib/python3.10/dist-packages (from requests->torch_geometric) (3.4.0)\n",
            "Requirement already satisfied: idna<4,>=2.5 in /usr/local/lib/python3.10/dist-packages (from requests->torch_geometric) (3.10)\n",
            "Requirement already satisfied: urllib3<3,>=1.21.1 in /usr/local/lib/python3.10/dist-packages (from requests->torch_geometric) (2.2.3)\n",
            "Requirement already satisfied: certifi>=2017.4.17 in /usr/local/lib/python3.10/dist-packages (from requests->torch_geometric) (2024.8.30)\n",
            "Requirement already satisfied: typing-extensions>=4.1.0 in /usr/local/lib/python3.10/dist-packages (from multidict<7.0,>=4.5->aiohttp->torch_geometric) (4.12.2)\n",
            "Requirement already satisfied: propcache>=0.2.0 in /usr/local/lib/python3.10/dist-packages (from yarl<2.0,>=1.12.0->aiohttp->torch_geometric) (0.2.0)\n"
          ]
        }
      ]
    },
    {
      "cell_type": "code",
      "execution_count": null,
      "metadata": {
        "colab": {
          "base_uri": "https://localhost:8080/"
        },
        "id": "lOD3tNT0SQk3",
        "outputId": "70a1490f-c892-4efe-ec3a-a82d2eed83e4"
      },
      "outputs": [
        {
          "output_type": "stream",
          "name": "stdout",
          "text": [
            "Graph data ready for training!\n"
          ]
        }
      ],
      "source": [
        "import torch\n",
        "import torch.nn.functional as F\n",
        "from torch_geometric.data import Data\n",
        "from torch_geometric.nn import GCNConv\n",
        "import networkx as nx\n",
        "\n",
        "courses = {\n",
        "    'ENG EK 125': {'prerequisites': [], 'skills': ['Mathematical Skills', 'Problem Solving']},\n",
        "    'ENG EK 210': {'prerequisites': ['ENG EK 125'], 'skills': ['Engineering Fundamentals', 'Technical Writing']},\n",
        "    'ENG ME 231': {'prerequisites': ['ENG EK 210'], 'skills': ['Mechanical Engineering Skills', 'Design Skills']},\n",
        "    'ENG EC 327': {'prerequisites': ['ENG EK 125'], 'skills': ['Embedded Systems', 'Programming Skills']},\n",
        "    'ENG EC 464': {'prerequisites': ['ENG EC 327'], 'skills': ['Digital Signal Processing', 'Advanced Programming']},\n",
        "    'ENG BE 403': {'prerequisites': ['ENG EK 125'], 'skills': ['Biomedical Engineering Principles', 'Analytical Skills']},\n",
        "    'ENG SE 501': {'prerequisites': ['ENG EK 210'], 'skills': ['Systems Engineering Concepts', 'Modeling Skills']},\n",
        "\n",
        "    'CAS CS 111': {'prerequisites': [], 'skills': ['Mathematical Skills', 'Introductory Programming', 'Algorithmic Thinking']},\n",
        "    'CAS CS 112': {'prerequisites': ['CAS CS 111'], 'skills': ['Data Structures', 'Algorithmic Thinking']},\n",
        "    'CAS CS 210': {'prerequisites': ['CAS CS 112'], 'skills': ['Computer Systems', 'Programming Skills']},\n",
        "    'CAS CS 330': {'prerequisites': ['CAS CS 210'], 'skills': ['Theory of Computation', 'Problem Solving']},\n",
        "    'CAS CS 455': {'prerequisites': ['CAS CS 330'], 'skills': ['Machine Learning', 'Data Analysis']},\n",
        "    'CAS CS 460': {'prerequisites': ['CAS CS 210'], 'skills': ['Data Visualization', 'Information Design']},\n",
        "    'CAS CS 411': {'prerequisites': ['CAS CS 210'], 'skills': ['Software Engineering', 'Project Management']},\n",
        "    'CAS CS 440': {'prerequisites': ['CAS CS 210'], 'skills': ['Artificial Intelligence', 'Problem Solving']},\n",
        "\n",
        "    'CAS EC 101': {'prerequisites': [], 'skills': ['Economic Theory', 'Analytical Skills']},\n",
        "    'CAS EC 102': {'prerequisites': [], 'skills': ['Economic Theory', 'Critical Thinking']},\n",
        "    'CAS EC 201': {'prerequisites': ['CAS EC 101', 'CAS MA 123'], 'skills': ['Microeconomics', 'Quantitative Analysis']},\n",
        "    'CAS EC 202': {'prerequisites': ['CAS EC 102', 'CAS MA 124'], 'skills': ['Macroeconomics', 'Analytical Skills']},\n",
        "    'CAS EC 320': {'prerequisites': ['CAS EC 201'], 'skills': ['Econometrics', 'Data Analysis']},\n",
        "    'CAS EC 414': {'prerequisites': ['CAS EC 320'], 'skills': ['Behavioral Economics', 'Policy Analysis']},\n",
        "\n",
        "    'CAS PS 101': {'prerequisites': [], 'skills': ['Psychological Concepts', 'Critical Thinking']},\n",
        "    'CAS PS 231': {'prerequisites': ['CAS PS 101'], 'skills': ['Developmental Psychology', 'Research Skills']},\n",
        "    'CAS PS 241': {'prerequisites': ['CAS PS 101'], 'skills': ['Social Psychology', 'Interpersonal Skills']},\n",
        "    'CAS PS 371': {'prerequisites': ['CAS PS 241'], 'skills': ['Cognitive Psychology', 'Analytical Skills']},\n",
        "    'CAS PS 332': {'prerequisites': ['CAS PS 231'], 'skills': ['Neuroscience', 'Analytical Thinking']},\n",
        "\n",
        "    'CAS PH 100': {'prerequisites': [], 'skills': ['Philosophical Thinking', 'Ethical Reasoning']},\n",
        "    'CAS PH 110': {'prerequisites': [], 'skills': ['Logic', 'Analytical Thinking']},\n",
        "    'CAS PH 150': {'prerequisites': [], 'skills': ['Ethics', 'Moral Reasoning']},\n",
        "    'CAS PH 245': {'prerequisites': ['CAS PH 100'], 'skills': ['Philosophy of Mind', 'Critical Analysis']},\n",
        "    'CAS PH 260': {'prerequisites': ['CAS PH 110'], 'skills': ['Epistemology', 'Logical Reasoning']},\n",
        "    'CAS PH 300': {'prerequisites': ['CAS PH 150'], 'skills': ['Metaphysics', 'Abstract Thinking']}\n",
        "}\n",
        "\n",
        "\n",
        "skill_categories_to_jobs = {\n",
        "    'Mathematical Skills': ['Data Analyst', 'Engineer', 'Actuary'],\n",
        "    'Problem Solving': ['Engineer', 'Consultant', 'Data Scientist'],\n",
        "    'Engineering Fundamentals': ['Mechanical Engineer', 'Project Manager'],\n",
        "    'Technical Writing': ['Technical Writer', 'Project Manager'],\n",
        "    'Mechanical Engineering Skills': ['Mechanical Engineer', 'Robotics Engineer'],\n",
        "    'Design Skills': ['Product Designer', 'Mechanical Engineer'],\n",
        "    'Embedded Systems': ['Embedded Software Engineer', 'Robotics Engineer'],\n",
        "    'Digital Signal Processing': ['Signal Processing Engineer', 'Software Developer'],\n",
        "    'Biomedical Engineering Principles': ['Biomedical Engineer', 'Clinical Engineer'],\n",
        "    'Systems Engineering Concepts': ['Systems Engineer', 'Operations Analyst'],\n",
        "\n",
        "    'Introductory Programming': ['Software Developer', 'IT Support Specialist'],\n",
        "    'Algorithmic Thinking': ['Software Engineer', 'Data Scientist'],\n",
        "    'Data Structures': ['Software Engineer', 'Systems Analyst'],\n",
        "    'Computer Systems': ['Systems Engineer', 'Software Developer'],\n",
        "    'Theory of Computation': ['Software Engineer', 'Computational Scientist'],\n",
        "    'Machine Learning': ['Machine Learning Engineer', 'Data Scientist'],\n",
        "    'Data Analysis': ['Data Analyst', 'Business Intelligence Analyst'],\n",
        "    'Data Visualization': ['Data Visualization Specialist', 'UI/UX Designer'],\n",
        "    'Programming Skills': ['Software Developer', 'Data Scientist'],\n",
        "    'Software Engineering': ['Software Engineer', 'DevOps Engineer'],\n",
        "    'Project Management': ['Project Manager', 'Product Manager'],\n",
        "    'Artificial Intelligence': ['AI Researcher', 'Machine Learning Engineer'],\n",
        "\n",
        "    'Economic Theory': ['Economic Consultant', 'Policy Analyst'],\n",
        "    'Critical Thinking': ['Policy Analyst', 'Researcher'],\n",
        "    'Microeconomics': ['Financial Analyst', 'Economic Consultant'],\n",
        "    'Macroeconomics': ['Policy Analyst', 'Economic Consultant'],\n",
        "    'Quantitative Analysis': ['Data Analyst', 'Financial Analyst'],\n",
        "    'Econometrics': ['Econometrician', 'Data Scientist'],\n",
        "    'Policy Analysis': ['Policy Analyst', 'Economic Researcher'],\n",
        "    'Behavioral Economics': ['Behavioral Economist', 'Market Research Analyst'],\n",
        "}\n",
        "\n",
        "G = nx.DiGraph()\n",
        "\n",
        "for course in courses:\n",
        "    G.add_node(course, layer=0)\n",
        "\n",
        "for skill_category in skill_categories_to_jobs:\n",
        "    G.add_node(skill_category, layer=1)\n",
        "\n",
        "for jobs in skill_categories_to_jobs.values():\n",
        "    for job in jobs:\n",
        "        G.add_node(job, layer=2)\n",
        "\n",
        "for course, details in courses.items():\n",
        "    for prereq in details['prerequisites']:\n",
        "        if prereq in G:\n",
        "            G.add_edge(prereq, course, relationship='prerequisite')\n",
        "\n",
        "for course, details in courses.items():\n",
        "    for skill in details['skills']:\n",
        "        if skill in G:\n",
        "            G.add_edge(course, skill, relationship='course_to_skill')\n",
        "\n",
        "for skill_category, jobs in skill_categories_to_jobs.items():\n",
        "    for job in jobs:\n",
        "        if job in G:\n",
        "            G.add_edge(skill_category, job, relationship='skill_to_job')\n",
        "\n",
        "for node in G.nodes:\n",
        "    if 'layer' not in G.nodes[node]:\n",
        "        print(f\"Node {node} is missing the 'layer' attribute\")\n",
        "\n",
        "node_mapping = {node: idx for idx, node in enumerate(G.nodes)}\n",
        "\n",
        "edges = [(node_mapping[u], node_mapping[v]) for u, v in G.edges]\n",
        "edge_index = torch.tensor(edges, dtype=torch.long).t().contiguous()\n",
        "\n",
        "node_features = torch.eye(len(G.nodes))\n",
        "\n",
        "data = Data(x=node_features, edge_index=edge_index)\n",
        "\n",
        "print(\"Graph data ready for training!\")"
      ]
    },
    {
      "cell_type": "code",
      "source": [
        "class GCN(torch.nn.Module):\n",
        "    def __init__(self, input_dim, hidden_dim, output_dim):\n",
        "        super(GCN, self).__init__()\n",
        "        self.conv1 = GCNConv(input_dim, hidden_dim)\n",
        "        self.conv2 = GCNConv(hidden_dim, output_dim)\n",
        "\n",
        "    def forward(self, data):\n",
        "        x, edge_index = data.x, data.edge_index\n",
        "        x = self.conv1(x, edge_index)\n",
        "        x = F.relu(x)\n",
        "        x = self.conv2(x, edge_index)\n",
        "        return F.log_softmax(x, dim=1)\n",
        "\n",
        "model = GCN(input_dim=len(G.nodes), hidden_dim=16, output_dim=len(G.nodes))\n",
        "optimizer = torch.optim.Adam(model.parameters(), lr=0.01)\n",
        "\n",
        "def train():\n",
        "    model.train()\n",
        "    optimizer.zero_grad()\n",
        "    out = model(data)\n",
        "    target = torch.randint(0, len(G.nodes), (len(G.nodes),), dtype=torch.long)\n",
        "    loss = F.nll_loss(out, target)\n",
        "    loss.backward()\n",
        "    optimizer.step()\n",
        "    return loss.item()\n",
        "\n",
        "for epoch in range(100):\n",
        "    loss = train()\n",
        "    if epoch % 10 == 0:\n",
        "        print(f\"Epoch {epoch}, Loss: {loss}\")\n",
        "\n",
        "model.eval()\n",
        "output = model(data)\n",
        "predicted_classes = output.argmax(dim=1)\n",
        "print(\"Predicted classes:\", predicted_classes)"
      ],
      "metadata": {
        "colab": {
          "base_uri": "https://localhost:8080/"
        },
        "id": "yVRY-45aozCz",
        "outputId": "b281dc8f-174d-40a7-f42a-852d0fb8334f"
      },
      "execution_count": null,
      "outputs": [
        {
          "output_type": "stream",
          "name": "stdout",
          "text": [
            "Epoch 0, Loss: 4.579655170440674\n",
            "Epoch 10, Loss: 4.5756378173828125\n",
            "Epoch 20, Loss: 4.602993965148926\n",
            "Epoch 30, Loss: 4.585259437561035\n",
            "Epoch 40, Loss: 4.581970691680908\n",
            "Epoch 50, Loss: 4.582065105438232\n",
            "Epoch 60, Loss: 4.5879807472229\n",
            "Epoch 70, Loss: 4.594422340393066\n",
            "Epoch 80, Loss: 4.579429626464844\n",
            "Epoch 90, Loss: 4.593581676483154\n",
            "Predicted classes: tensor([ 8,  8, 23, 31, 23, 23, 23, 42, 23, 23, 23, 23, 23, 23, 23, 23, 23, 23,\n",
            "        23, 23, 23, 23, 23, 23, 23, 23, 23, 23,  8, 23, 23,  8, 42,  8, 23, 23,\n",
            "        23, 23, 23, 23, 23, 23, 42, 23, 23, 23, 23, 23, 23, 23, 23, 23, 23, 10,\n",
            "        23, 23, 23, 23, 23, 23, 10, 23, 23, 23, 23, 23, 23, 23, 23, 23, 23, 23,\n",
            "        23, 23, 23, 23, 23, 10, 10, 23, 23, 23, 23, 23, 23, 23, 23, 23, 23, 23,\n",
            "        23, 10, 23, 23, 23, 10, 23, 23])\n"
          ]
        }
      ]
    },
    {
      "cell_type": "markdown",
      "source": [],
      "metadata": {
        "id": "Dl7MMJNKlLMJ"
      }
    },
    {
      "cell_type": "code",
      "source": [
        "def suggest_next_steps(current_courses=[], current_skills=[]):\n",
        "    next_courses = set()\n",
        "    next_skills = set()\n",
        "    next_jobs = set()\n",
        "\n",
        "    for course in current_courses:\n",
        "        if course in G:\n",
        "            for neighbor in G.neighbors(course):\n",
        "                if G.nodes[neighbor]['layer'] == 1:\n",
        "                    next_skills.add(neighbor)\n",
        "                elif G.nodes[neighbor]['layer'] == 0:\n",
        "                    next_courses.add(neighbor)\n",
        "\n",
        "    for skill in current_skills:\n",
        "        if skill in G:\n",
        "            for neighbor in G.neighbors(skill):\n",
        "                if G.nodes[neighbor]['layer'] == 2:\n",
        "                    next_jobs.add(neighbor)\n",
        "\n",
        "    return {\n",
        "        'next_courses': list(next_courses),\n",
        "        'next_skills': list(next_skills),\n",
        "        'next_jobs': list(next_jobs)\n",
        "    }\n",
        "\n",
        "current_courses = ['ENG EK 125', 'CAS CS 111']\n",
        "current_skills = ['Programming Skills']\n",
        "\n",
        "suggestions = suggest_next_steps(current_courses, current_skills)\n",
        "\n",
        "print(\"Based on your current status:\")\n",
        "print(f\"Next possible courses: {suggestions['next_courses']}\")\n",
        "print(f\"Next possible skills to develop: {suggestions['next_skills']}\")\n",
        "print(f\"Potential career paths: {suggestions['next_jobs']}\")\n"
      ],
      "metadata": {
        "colab": {
          "base_uri": "https://localhost:8080/"
        },
        "id": "XvzrISZASVry",
        "outputId": "701f7f94-f894-478e-a56f-e863f01ab9d9"
      },
      "execution_count": null,
      "outputs": [
        {
          "output_type": "stream",
          "name": "stdout",
          "text": [
            "Based on your current status:\n",
            "Next possible courses: ['ENG EC 327', 'ENG EK 210', 'CAS CS 112', 'ENG BE 403']\n",
            "Next possible skills to develop: ['Introductory Programming', 'Problem Solving', 'Algorithmic Thinking', 'Mathematical Skills']\n",
            "Potential career paths: ['Software Developer', 'Data Scientist']\n"
          ]
        }
      ]
    },
    {
      "cell_type": "code",
      "source": [
        "import ipywidgets as widgets\n",
        "from IPython.display import display\n",
        "import matplotlib.pyplot as plt"
      ],
      "metadata": {
        "id": "uwwxI8j-pAEg"
      },
      "execution_count": null,
      "outputs": []
    },
    {
      "cell_type": "code",
      "source": [
        "import networkx as nx\n",
        "import matplotlib.pyplot as plt\n",
        "import ipywidgets as widgets\n",
        "from IPython.display import display\n",
        "\n",
        "def build_and_display_graph(suggestions):\n",
        "    G = nx.DiGraph()\n",
        "\n",
        "    for course in suggestions['next_courses']:\n",
        "        G.add_node(course, layer='Course')\n",
        "    for skill in suggestions['next_skills']:\n",
        "        G.add_node(skill, layer='Skill')\n",
        "    for job in suggestions['next_jobs']:\n",
        "        G.add_node(job, layer='Job')\n",
        "\n",
        "    for course in suggestions['next_courses']:\n",
        "        if course in courses:\n",
        "            for skill in courses[course]['skills']:\n",
        "                if skill in suggestions['next_skills']:\n",
        "                    G.add_edge(course, skill)\n",
        "\n",
        "    for skill in suggestions['next_skills']:\n",
        "        if skill in skill_categories_to_jobs:\n",
        "            for job in skill_categories_to_jobs[skill]:\n",
        "                if job in suggestions['next_jobs']:\n",
        "                    G.add_edge(skill, job)\n",
        "\n",
        "    pos = nx.spring_layout(G)\n",
        "    plt.figure(figsize=(10, 6))\n",
        "    nx.draw(\n",
        "        G, pos, with_labels=True, node_size=2000, node_color='lightblue',\n",
        "        font_size=10, font_weight='bold', arrows=True, arrowstyle='-|>', arrowsize=15\n",
        "    )\n",
        "    plt.title(\"Suggested Courses, Skills, and Career Paths\")\n",
        "    plt.show()\n",
        "\n",
        "def display_suggestions(courses, skills, jobs):\n",
        "    suggestions = suggest_next_steps(current_courses=courses, current_skills=skills)\n",
        "    print(\"\\nBased on your current academic, skill, and job status:\")\n",
        "    print(f\"Next possible courses: {suggestions['next_courses']}\")\n",
        "    print(f\"Skills you can develop: {suggestions['next_skills']}\")\n",
        "    print(f\"Potential career paths: {suggestions['next_jobs']}\")\n",
        "    if jobs:\n",
        "        print(f\"Selected jobs: {jobs}\")\n",
        "\n",
        "    build_and_display_graph(suggestions)\n",
        "\n",
        "all_courses = sorted(courses.keys())\n",
        "all_skills = sorted(skill_categories_to_jobs.keys())\n",
        "all_jobs = sorted(set(job for jobs in skill_categories_to_jobs.values() for job in jobs))\n",
        "\n",
        "course_selector = widgets.SelectMultiple(options=all_courses, description='Courses:', disabled=False)\n",
        "skill_selector = widgets.SelectMultiple(options=all_skills, description='Skills:', disabled=False)\n",
        "job_selector = widgets.SelectMultiple(options=all_jobs, description='Jobs:', disabled=False)\n",
        "\n",
        "suggest_button = widgets.Button(description=\"Get Suggestions\")\n",
        "\n",
        "def on_suggest_button_clicked(b):\n",
        "    selected_courses = list(course_selector.value)\n",
        "    selected_skills = list(skill_selector.value)\n",
        "    selected_jobs = list(job_selector.value)\n",
        "    display_suggestions(selected_courses, selected_skills, selected_jobs)\n",
        "\n",
        "suggest_button.on_click(on_suggest_button_clicked)\n",
        "\n",
        "display(course_selector, skill_selector, job_selector, suggest_button)"
      ],
      "metadata": {
        "colab": {
          "base_uri": "https://localhost:8080/",
          "height": 888,
          "referenced_widgets": [
            "081920dfd2be44f092be35db599409fb",
            "59afcd94fbbf4c01a23fae82183e5fcd",
            "75a23019e71b48ae852657104d18adc9",
            "1c0e51e7dedd4953b2206765e0681d34",
            "45fd28c3a3284e999509532f3a1fea7c",
            "8168b94bb8764d1f956d9d8dbabbf8b6",
            "7aff7ed17f28452c953cd34e6539bc89",
            "e9279421103d4c28b84b1247c56c77bc",
            "5e170b5f691a441c9310d1d030e6406b",
            "16fc394de9b04aedb17b8795c366d539",
            "4513e540dcfe4130873fc3eec7d6a56c",
            "25f962b5ef2e444aa5caeaeb14c4c734"
          ]
        },
        "id": "BeW_PF0ZnuLX",
        "outputId": "182e36c2-7df3-4bd5-d073-e9b0afc84e7c"
      },
      "execution_count": null,
      "outputs": [
        {
          "output_type": "display_data",
          "data": {
            "text/plain": [
              "SelectMultiple(description='Courses:', options=('CAS CS 111', 'CAS CS 112', 'CAS CS 210', 'CAS CS 330', 'CAS C…"
            ],
            "application/vnd.jupyter.widget-view+json": {
              "version_major": 2,
              "version_minor": 0,
              "model_id": "081920dfd2be44f092be35db599409fb"
            }
          },
          "metadata": {}
        },
        {
          "output_type": "display_data",
          "data": {
            "text/plain": [
              "SelectMultiple(description='Skills:', options=('Algorithmic Thinking', 'Artificial Intelligence', 'Behavioral …"
            ],
            "application/vnd.jupyter.widget-view+json": {
              "version_major": 2,
              "version_minor": 0,
              "model_id": "1c0e51e7dedd4953b2206765e0681d34"
            }
          },
          "metadata": {}
        },
        {
          "output_type": "display_data",
          "data": {
            "text/plain": [
              "SelectMultiple(description='Jobs:', options=('AI Researcher', 'Actuary', 'Behavioral Economist', 'Biomedical E…"
            ],
            "application/vnd.jupyter.widget-view+json": {
              "version_major": 2,
              "version_minor": 0,
              "model_id": "7aff7ed17f28452c953cd34e6539bc89"
            }
          },
          "metadata": {}
        },
        {
          "output_type": "display_data",
          "data": {
            "text/plain": [
              "Button(description='Get Suggestions', style=ButtonStyle())"
            ],
            "application/vnd.jupyter.widget-view+json": {
              "version_major": 2,
              "version_minor": 0,
              "model_id": "16fc394de9b04aedb17b8795c366d539"
            }
          },
          "metadata": {}
        },
        {
          "output_type": "stream",
          "name": "stdout",
          "text": [
            "\n",
            "Based on your current academic, skill, and job status:\n",
            "Next possible courses: ['CAS CS 411', 'CAS CS 455', 'CAS CS 460', 'CAS CS 440', 'CAS CS 112', 'CAS CS 210', 'CAS CS 330']\n",
            "Skills you can develop: ['Computer Systems', 'Algorithmic Thinking', 'Introductory Programming', 'Theory of Computation', 'Data Structures', 'Programming Skills', 'Problem Solving', 'Mathematical Skills']\n",
            "Potential career paths: ['Behavioral Economist', 'Market Research Analyst', 'Machine Learning Engineer', 'AI Researcher']\n"
          ]
        },
        {
          "output_type": "display_data",
          "data": {
            "text/plain": [
              "<Figure size 1000x600 with 1 Axes>"
            ],
            "image/png": "[encoded data removed]"
          },
          "metadata": {}
        }
      ]
    },
    {
      "cell_type": "code",
      "source": [
        "torch.save(model.state_dict(), 'model_weights.pth')\n",
        "print(\"Model weights saved to model_weights.pth\")"
      ],
      "metadata": {
        "colab": {
          "base_uri": "https://localhost:8080/"
        },
        "id": "4kTbVcAskki3",
        "outputId": "20152168-61df-4862-c167-ab918d42d4fc"
      },
      "execution_count": null,
      "outputs": [
        {
          "output_type": "stream",
          "name": "stdout",
          "text": [
            "Model weights saved to model_weights.pth\n"
          ]
        }
      ]
    },
    {
      "cell_type": "code",
      "source": [],
      "metadata": {
        "id": "Vw9S2HXRpclm"
      },
      "execution_count": null,
      "outputs": []
    }
  ]
}