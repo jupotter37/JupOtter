{
 "cells": [
  {
   "cell_type": "code",
   "execution_count": 1,
   "metadata": {},
   "outputs": [],
   "source": [
    "import re\n",
    "import openai\n",
    "import numpy as np\n",
    "from llama_index.core import Document\n",
    "from llama_index.embeddings.openai import OpenAIEmbedding\n",
    "from llama_index.core.node_parser import SentenceSplitter\n",
    "from llama_index.core.ingestion import IngestionPipeline\n",
    "from llama_index.core.schema import TransformComponent\n",
    "from llama_index.llms.openai import OpenAI\n",
    "from llama_index.agent.openai import OpenAIAgent\n",
    "from llama_index.core import SimpleDirectoryReader, VectorStoreIndex, Settings,StorageContext\n",
    "from llama_index.core.objects import ObjectIndex\n",
    "from typing import Sequence\n",
    "from llama_index.core.tools import BaseTool, FunctionTool\n",
    "import pickle\n",
    "import os\n",
    "import yaml\n",
    "import json\n",
    "import utils"
   ]
  },
  {
   "cell_type": "code",
   "execution_count": 2,
   "metadata": {},
   "outputs": [
    {
     "name": "stderr",
     "output_type": "stream",
     "text": [
      "/opt/miniconda3/envs/lenolabs_challenge_env/lib/python3.10/site-packages/tqdm/auto.py:21: TqdmWarning: IProgress not found. Please update jupyter and ipywidgets. See https://ipywidgets.readthedocs.io/en/stable/user_install.html\n",
      "  from .autonotebook import tqdm as notebook_tqdm\n",
      "Generating embeddings: 100%|██████████| 153/153 [00:10<00:00, 14.40it/s]\n"
     ]
    }
   ],
   "source": [
    "Settings.llm = OpenAI(api_key=utils.get_api_key(name='openai'),model=\"gpt-4o-mini\", temperature=0.5, max_tokens=1024)\n",
    "Settings.embed_model = OpenAIEmbedding(api_key=utils.get_api_key(name='openai'), model=\"text-embedding-3-large\", embed_batch_size=10,dimensions=1024)\n",
    "book = SimpleDirectoryReader(\"../data/books\").load_data()\n",
    "class TextCleaner(TransformComponent):\n",
    "    def __call__(self, nodes, **kwargs):\n",
    "        for node in nodes:\n",
    "            node.text = re.sub(r\"[^0-9A-Za-z ]\", \"\", node.text)\n",
    "        return nodes\n",
    "pipeline = IngestionPipeline(\n",
    "    transformations=[\n",
    "        SentenceSplitter(chunk_size=1000, chunk_overlap=120),\n",
    "        TextCleaner(),\n",
    "    ],\n",
    ")\n",
    "nodes = pipeline.run(documents=book)\n",
    "vector_index = VectorStoreIndex(\n",
    "        nodes=nodes,\n",
    "        show_progress=True,\n",
    "    )\n",
    "# Guardar el índice vectorial usando un contexto de almacenamiento\n",
    "vector_index.storage_context.persist('../data/models/')"
   ]
  },
  {
   "cell_type": "markdown",
   "metadata": {},
   "source": [
    "### Creación del Chat\n",
    "\n",
    "* Ahora validamos que si usamos el chat, efectivamente \"tiene memoria\"\n",
    "* Se usa como referencia esto: https://docs.llamaindex.ai/en/stable/examples/chat_engine/chat_engine_openai/"
   ]
  },
  {
   "cell_type": "markdown",
   "metadata": {},
   "source": []
  },
  {
   "cell_type": "code",
   "execution_count": 3,
   "metadata": {},
   "outputs": [
    {
     "name": "stdout",
     "output_type": "stream",
     "text": [
      "Added user message to memory: which are the Specific stages of a data science project?\n",
      "=== Calling Function ===\n",
      "Calling function: query_engine_tool with args: {\"input\":\"What are the specific stages of a data science project?\"}\n",
      "Got output: The specific stages of a data science project are:\n",
      "\n",
      "1. Question\n",
      "2. Exploratory data analysis\n",
      "3. Formal modeling\n",
      "4. Interpretation\n",
      "5. Communication\n",
      "========================\n",
      "\n",
      "The specific stages of a data science project are:\n",
      "\n",
      "1. **Question**: Define the problem or question you want to address.\n",
      "2. **Exploratory Data Analysis (EDA)**: Analyze and visualize the data to understand its structure, patterns, and relationships.\n",
      "3. **Formal Modeling**: Develop models using statistical or machine learning techniques to make predictions or gain insights.\n",
      "4. **Interpretation**: Analyze the results of the models and understand their implications in the context of the original question.\n",
      "5. **Communication**: Present the findings and insights to stakeholders in a clear and actionable manner.\n"
     ]
    }
   ],
   "source": [
    "chat_engine = vector_index.as_chat_engine(chat_mode=\"openai\", verbose=True)\n",
    "response = chat_engine.chat(\"which are the Specific stages of a data science project?\")\n",
    "print(response)"
   ]
  },
  {
   "cell_type": "code",
   "execution_count": 4,
   "metadata": {},
   "outputs": [
    {
     "name": "stdout",
     "output_type": "stream",
     "text": [
      "Added user message to memory: thanks, and now can you translate it to spanish?\n",
      "=== Calling Function ===\n",
      "Calling function: query_engine_tool with args: {\"input\":\"Translate the specific stages of a data science project to Spanish.\"}\n",
      "Got output: Las cinco fases de un proyecto de ciencia de datos son:\n",
      "\n",
      "1. Pregunta\n",
      "2. Análisis exploratorio de datos\n",
      "3. Modelado formal\n",
      "4. Interpretación\n",
      "5. Comunicación\n",
      "========================\n",
      "\n",
      "Las etapas específicas de un proyecto de ciencia de datos son:\n",
      "\n",
      "1. **Pregunta**\n",
      "2. **Análisis exploratorio de datos**\n",
      "3. **Modelado formal**\n",
      "4. **Interpretación**\n",
      "5. **Comunicación**\n"
     ]
    }
   ],
   "source": [
    "response = chat_engine.chat(\"thanks, and now can you translate it to spanish?\")\n",
    "print(response)"
   ]
  },
  {
   "cell_type": "code",
   "execution_count": 5,
   "metadata": {},
   "outputs": [
    {
     "name": "stdout",
     "output_type": "stream",
     "text": [
      "Added user message to memory: give me a list of roles in a data science team?\n",
      "=== Calling Function ===\n",
      "Calling function: query_engine_tool with args: {\"input\":\"What are the roles in a data science team?\"}\n",
      "Got output: A data science team typically includes data scientists, data engineers, and a data science manager. Data scientists focus on solving individual projects or subproblems, while data engineers develop and maintain the infrastructure necessary for data science work. The data science manager is responsible for building the team, recruiting members, setting goals, and prioritizing projects. Additionally, team members often interact with external stakeholders to communicate about the data science infrastructure and ongoing projects.\n",
      "========================\n",
      "\n",
      "A data science team typically includes the following roles:\n",
      "\n",
      "1. **Data Scientist**: Focuses on solving individual projects or subproblems using statistical and machine learning techniques.\n",
      "2. **Data Engineer**: Develops and maintains the infrastructure necessary for data collection, storage, and processing.\n",
      "3. **Data Science Manager**: Responsible for building the team, recruiting members, setting goals, and prioritizing projects.\n",
      "4. **Business Analyst**: Bridges the gap between data science and business, ensuring that insights align with business objectives.\n",
      "5. **Machine Learning Engineer**: Specializes in implementing and optimizing machine learning models for production.\n",
      "6. **Data Analyst**: Analyzes data to provide actionable insights and supports decision-making processes.\n",
      "7. **Statistician**: Focuses on applying statistical methods to analyze and interpret data.\n",
      "8. **Data Visualization Specialist**: Creates visual representations of data to communicate findings effectively.\n",
      "\n",
      "Additionally, team members often interact with external stakeholders to communicate about the data science infrastructure and ongoing projects.\n"
     ]
    }
   ],
   "source": [
    "response = chat_engine.chat(\"give me a list of roles in a data science team?\")\n",
    "print(response)"
   ]
  },
  {
   "cell_type": "code",
   "execution_count": 6,
   "metadata": {},
   "outputs": [
    {
     "name": "stdout",
     "output_type": "stream",
     "text": [
      "Added user message to memory: how can i be a good data scientist?\n",
      "=== Calling Function ===\n",
      "Calling function: query_engine_tool with args: {\"input\":\"What are the tips to become a good data scientist?\"}\n",
      "Got output: To become a good data scientist, it is important to develop a range of skills and qualities. Here are some tips:\n",
      "\n",
      "1. **Master Data Analysis**: Learn how to extract, clean, and analyze data sets effectively. Familiarize yourself with statistical inference and prediction techniques.\n",
      "\n",
      "2. **Enhance Communication Skills**: Be able to communicate your findings clearly. This includes creating visualizations that effectively convey the results and the level of uncertainty involved.\n",
      "\n",
      "3. **Learn Programming Languages**: Gain proficiency in languages commonly used in data science, such as R or Python, and understand SQL for database interactions.\n",
      "\n",
      "4. **Understand Visualization Tools**: Familiarize yourself with visualization tools, including interactive options like D3.js, to present data in an engaging manner.\n",
      "\n",
      "5. **Develop a Strong Statistical Background**: A background in statistics or biostatistics, especially in applied settings, can be beneficial.\n",
      "\n",
      "6. **Gain Software Engineering Knowledge**: Acquire some knowledge of software engineering principles, including version control, to collaborate effectively with technical teams.\n",
      "\n",
      "7. **Cultivate Problem-Solving Skills**: Be proactive in identifying the right problems to solve, and demonstrate leadership and initiative through past experiences or contributions to open-source projects.\n",
      "\n",
      "8. **Stay Open to New Data**: Be willing to work with unfamiliar data types and approach challenges with a positive mindset.\n",
      "\n",
      "9. **Embrace Uncertainty**: Be comfortable admitting when you don't know something, as this openness can lead to better learning and collaboration.\n",
      "\n",
      "By focusing on these areas, you can enhance your capabilities and effectiveness as a data scientist.\n",
      "========================\n",
      "\n",
      "To become a good data scientist, consider the following tips:\n",
      "\n",
      "1. **Master Data Analysis**: Learn how to extract, clean, and analyze datasets effectively. Familiarize yourself with statistical inference and prediction techniques.\n",
      "\n",
      "2. **Enhance Communication Skills**: Develop the ability to communicate your findings clearly, including creating visualizations that effectively convey results and their associated uncertainties.\n",
      "\n",
      "3. **Learn Programming Languages**: Gain proficiency in programming languages commonly used in data science, such as R or Python, and understand SQL for database interactions.\n",
      "\n",
      "4. **Understand Visualization Tools**: Familiarize yourself with data visualization tools, including interactive options like D3.js, to present data in an engaging manner.\n",
      "\n",
      "5. **Develop a Strong Statistical Background**: A solid understanding of statistics, particularly in applied settings, can be very beneficial.\n",
      "\n",
      "6. **Gain Software Engineering Knowledge**: Acquire knowledge of software engineering principles, including version control, to collaborate effectively with technical teams.\n",
      "\n",
      "7. **Cultivate Problem-Solving Skills**: Be proactive in identifying the right problems to solve and demonstrate leadership and initiative through past experiences or contributions to open-source projects.\n",
      "\n",
      "8. **Stay Open to New Data**: Be willing to work with unfamiliar data types and approach challenges with a positive mindset.\n",
      "\n",
      "9. **Embrace Uncertainty**: Be comfortable admitting when you don't know something, as this openness can lead to better learning and collaboration.\n",
      "\n",
      "By focusing on these areas, you can enhance your capabilities and effectiveness as a data scientist.\n"
     ]
    }
   ],
   "source": [
    "response = chat_engine.chat(\"how can i be a good data scientist?\")\n",
    "print(response)"
   ]
  }
 ],
 "metadata": {
  "kernelspec": {
   "display_name": "lenolabs_challenge_env",
   "language": "python",
   "name": "python3"
  },
  "language_info": {
   "codemirror_mode": {
    "name": "ipython",
    "version": 3
   },
   "file_extension": ".py",
   "mimetype": "text/x-python",
   "name": "python",
   "nbconvert_exporter": "python",
   "pygments_lexer": "ipython3",
   "version": "3.10.14"
  }
 },
 "nbformat": 4,
 "nbformat_minor": 2
}
