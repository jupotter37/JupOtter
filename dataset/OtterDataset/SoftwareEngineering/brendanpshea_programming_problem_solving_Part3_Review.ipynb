{
  "nbformat": 4,
  "nbformat_minor": 0,
  "metadata": {
    "colab": {
      "provenance": [],
      "authorship_tag": "ABX9TyPZOZ2tFRNVK9iYNwKsen1C",
      "include_colab_link": true
    },
    "kernelspec": {
      "name": "python3",
      "display_name": "Python 3"
    },
    "language_info": {
      "name": "python"
    }
  },
  "cells": [
    {
      "cell_type": "markdown",
      "metadata": {
        "id": "view-in-github",
        "colab_type": "text"
      },
      "source": [
        "<a href=\"https://colab.research.google.com/github/brendanpshea/programming_problem_solving/blob/main/Part3_Review.ipynb\" target=\"_parent\"><img src=\"https://colab.research.google.com/assets/colab-badge.svg\" alt=\"Open In Colab\"/></a>"
      ]
    },
    {
      "cell_type": "code",
      "execution_count": null,
      "metadata": {
        "id": "WajP5DECwcLn"
      },
      "outputs": [],
      "source": []
    },
    {
      "cell_type": "markdown",
      "source": [
        "# Part 3 Review: Java, OOP and Inheritance\n",
        "In this chapter, we'll be reviewing concepts related to chapters 7, 8, and 9.\n"
      ],
      "metadata": {
        "id": "UBv4v-wewe8M"
      }
    },
    {
      "cell_type": "markdown",
      "source": [],
      "metadata": {
        "id": "5uYAb9S1wvp7"
      }
    },
    {
      "cell_type": "markdown",
      "source": [
        "## The basic structure of a Java program\n",
        "\n",
        "Every Java program consists of at least one class, which contains the main method. The main method is the entry point of the program, and it's where the execution begins. Here's a basic structure of a Java program:\n"
      ],
      "metadata": {
        "id": "GGZjseNTwod-"
      }
    },
    {
      "cell_type": "code",
      "source": [
        "%%writefile GameDemo.java\n",
        "\n",
        "public class GameDemo {\n",
        "    public static void main(String[] args) {\n",
        "        // Code goes here\n",
        "        System.out.println(\"Welcome to the game!\");\n",
        "    }\n",
        "}"
      ],
      "metadata": {
        "colab": {
          "base_uri": "https://localhost:8080/"
        },
        "id": "Ump5wzPdwtuK",
        "outputId": "9c1f4dac-5aa7-40a2-bf6c-f7660053f4c9"
      },
      "execution_count": 1,
      "outputs": [
        {
          "output_type": "stream",
          "name": "stdout",
          "text": [
            "Writing GameDemo.java\n"
          ]
        }
      ]
    },
    {
      "cell_type": "markdown",
      "source": [
        "We can compille GameDemo using `javac`, the Java Compiler."
      ],
      "metadata": {
        "id": "IjnA4u96w4VO"
      }
    },
    {
      "cell_type": "code",
      "source": [
        "!javac GameDemo.java"
      ],
      "metadata": {
        "id": "QmXmAUTlw0ds"
      },
      "execution_count": 2,
      "outputs": []
    },
    {
      "cell_type": "markdown",
      "source": [
        "We can run it using the Java Virtual Machine, which we call by typing this:"
      ],
      "metadata": {
        "id": "bCmsEeXcw_E4"
      }
    },
    {
      "cell_type": "code",
      "source": [
        "!java GameDemo"
      ],
      "metadata": {
        "colab": {
          "base_uri": "https://localhost:8080/"
        },
        "id": "aQuxgGhFxEni",
        "outputId": "c42a0971-488a-406c-c5fa-f978b18f2b6e"
      },
      "execution_count": 3,
      "outputs": [
        {
          "output_type": "stream",
          "name": "stdout",
          "text": [
            "Welcome to the game!\n"
          ]
        }
      ]
    },
    {
      "cell_type": "markdown",
      "source": [
        "In this example, we have a class named `GameDemo`. The class name should match the file name (e.g., `GameDemo.java`). Inside the class, we have the `main` method, which is declared as `public static void main(String[] args)`. This is the standard signature for the main method in Java.\n",
        "\n",
        "Inside the main method, we can write our code. In this case, we have a simple line that prints \"Welcome to the game!\" to the console using `System.out.println()`.\n",
        "\n",
        "Let's look at another example related to a classic game, such as Chess:"
      ],
      "metadata": {
        "id": "EntnSdrbxMB5"
      }
    },
    {
      "cell_type": "code",
      "source": [
        "%%writefile ChessDemo.java\n",
        "\n",
        "public class ChessDemo {\n",
        "    public static void main(String[] args) {\n",
        "        System.out.println(\"Welcome to Chess!\");\n",
        "        System.out.println(\"Setting up the chessboard...\");\n",
        "        // Code to set up the chessboard\n",
        "        System.out.println(\"Ready to play!\");\n",
        "    }\n",
        "}"
      ],
      "metadata": {
        "colab": {
          "base_uri": "https://localhost:8080/"
        },
        "id": "mVbkfvjlxO4R",
        "outputId": "ecdf9234-1868-4313-e1fa-4acc48f7ef86"
      },
      "execution_count": 6,
      "outputs": [
        {
          "output_type": "stream",
          "name": "stdout",
          "text": [
            "Writing ChessDemo.java\n"
          ]
        }
      ]
    },
    {
      "cell_type": "code",
      "source": [
        "!javac ChessDemo.java"
      ],
      "metadata": {
        "id": "8RIfCt2yxb-Z"
      },
      "execution_count": 8,
      "outputs": []
    },
    {
      "cell_type": "code",
      "source": [
        "!java ChessDemo"
      ],
      "metadata": {
        "colab": {
          "base_uri": "https://localhost:8080/"
        },
        "id": "0p09lpE4xfS8",
        "outputId": "ad04ca11-a32d-432e-fd33-a7a904e76de9"
      },
      "execution_count": 9,
      "outputs": [
        {
          "output_type": "stream",
          "name": "stdout",
          "text": [
            "Welcome to Chess!\n",
            "Setting up the chessboard...\n",
            "Ready to play!\n"
          ]
        }
      ]
    },
    {
      "cell_type": "markdown",
      "source": [
        "In this example, we have a class named `ChessDemo` with the main method. We print a welcome message, indicate that we're setting up the chessboard, and then print \"Ready to play!\" after the setup is complete.\n",
        "\n",
        "This is the basic structure of a Java program. The code inside the main method is executed sequentially, from top to bottom. As we progress, we'll explore more concepts and add functionality to our examples."
      ],
      "metadata": {
        "id": "zDFRbTISxoEA"
      }
    },
    {
      "cell_type": "markdown",
      "source": [
        "## Variables and Data Types in Java\n",
        "\n",
        "In Java, variables are used to store data values. Before using a variable, you need to declare it by specifying its data type and giving it a name. Java has several built-in data types, including:\n",
        "\n",
        "-   `int`: used for integers (whole numbers)\n",
        "-   `double`: used for floating-point numbers (numbers with decimals)\n",
        "-   `boolean`: used for true/false values\n",
        "-   `char`: used for single characters\n",
        "-   `String`: used for text (a sequence of characters)\n",
        "\n",
        "Here's an example that demonstrates variable declaration and usage:"
      ],
      "metadata": {
        "id": "FcgySynXx6nO"
      }
    },
    {
      "cell_type": "code",
      "source": [
        "%%writefile DiceRoller.java\n",
        "\n",
        "public class DiceRoller {\n",
        "    public static void main(String[] args) {\n",
        "        int numSides = 6;\n",
        "        int roll = (int) (Math.random() * numSides) + 1;\n",
        "        System.out.println(\"You rolled a \" + roll);\n",
        "    }\n",
        "}"
      ],
      "metadata": {
        "colab": {
          "base_uri": "https://localhost:8080/"
        },
        "id": "BGK82L_8x8r1",
        "outputId": "07a81b68-7f7b-4ae4-abb0-28ad81b11f62"
      },
      "execution_count": 10,
      "outputs": [
        {
          "output_type": "stream",
          "name": "stdout",
          "text": [
            "Writing DiceRoller.java\n"
          ]
        }
      ]
    },
    {
      "cell_type": "code",
      "source": [
        "!javac DiceRoller.java"
      ],
      "metadata": {
        "id": "AA1vaB8CyDJU"
      },
      "execution_count": 11,
      "outputs": []
    },
    {
      "cell_type": "code",
      "source": [
        "!java DiceRoller"
      ],
      "metadata": {
        "colab": {
          "base_uri": "https://localhost:8080/"
        },
        "id": "r-gLdNjwyGTI",
        "outputId": "1d561ac4-5171-4741-80f1-ee6ac9dee986"
      },
      "execution_count": 12,
      "outputs": [
        {
          "output_type": "stream",
          "name": "stdout",
          "text": [
            "You rolled a 6\n"
          ]
        }
      ]
    },
    {
      "cell_type": "markdown",
      "source": [
        "In this example, we have a simple dice roller. We declare an integer variable `numSides` and assign it a value of 6, representing a standard six-sided die. We then declare another integer variable `roll` and assign it a random value between 1 and `numSides` using `Math.random()` and type casting to `int`.\n",
        "\n",
        "Finally, we print the result using `System.out.println()`, concatenating the string \"You rolled a \" with the value of `roll`.\n",
        "\n",
        "Let's look at another example involving character movement in a game:"
      ],
      "metadata": {
        "id": "alJrauElyNX8"
      }
    },
    {
      "cell_type": "code",
      "source": [
        "%%writefile CharacterMovement.java\n",
        "public class CharacterMovement {\n",
        "    public static void main(String[] args) {\n",
        "        double x = 0.0;\n",
        "        double y = 0.0;\n",
        "        double speed = 5.5;\n",
        "\n",
        "        // Move the character to the right\n",
        "        x += speed;\n",
        "\n",
        "        System.out.println(\"Character position: (\" + x + \", \" + y + \")\");\n",
        "    }\n",
        "}"
      ],
      "metadata": {
        "colab": {
          "base_uri": "https://localhost:8080/"
        },
        "id": "0FBoDAm6yN8p",
        "outputId": "82a8e0f6-7000-470e-96c1-0ee2942e3b33"
      },
      "execution_count": 13,
      "outputs": [
        {
          "output_type": "stream",
          "name": "stdout",
          "text": [
            "Writing CharacterMovement.java\n"
          ]
        }
      ]
    },
    {
      "cell_type": "code",
      "source": [
        "!javac CharacterMovement.java"
      ],
      "metadata": {
        "id": "gCBuZcMWydLm"
      },
      "execution_count": 14,
      "outputs": []
    },
    {
      "cell_type": "code",
      "source": [
        "!java CharacterMovement"
      ],
      "metadata": {
        "colab": {
          "base_uri": "https://localhost:8080/"
        },
        "id": "q6GSanDlyfZO",
        "outputId": "7793bc4a-2964-4cc9-d804-a7fb444037a7"
      },
      "execution_count": 15,
      "outputs": [
        {
          "output_type": "stream",
          "name": "stdout",
          "text": [
            "Character position: (5.5, 0.0)\n"
          ]
        }
      ]
    },
    {
      "cell_type": "markdown",
      "source": [
        "In this example, we declare two `double` variables, `x` and `y`, to represent the character's position on a 2D plane. We also declare a `double` variable `speed` to represent the character's movement speed.\n",
        "\n",
        "We then update the `x` position by adding the `speed` value to it, simulating movement to the right.\n",
        "\n",
        "Finally, we print the character's current position using `System.out.println()`, concatenating the string \"Character position: (\" with the values of `x` and `y`."
      ],
      "metadata": {
        "id": "gGxDXZ2xyXxE"
      }
    },
    {
      "cell_type": "markdown",
      "source": [
        "### Arrays and ArrayLists\n",
        "\n",
        "Arrays and ArrayLists are used to store multiple values of the same data type. They allow you to group related data together and access elements by their index.\n",
        "\n",
        "**Arrays** have a fixed size, which means you need to specify the number of elements when creating an array. Here's an example of creating an array of integers to represent the health points of players in a game:"
      ],
      "metadata": {
        "id": "ocjAdHwHy2I4"
      }
    },
    {
      "cell_type": "code",
      "source": [
        "%%writefile PlayerHealth.java\n",
        "public class PlayerHealth {\n",
        "    public static void main(String[] args) {\n",
        "        int[] healthPoints = new int[4];\n",
        "        healthPoints[0] = 100;\n",
        "        healthPoints[1] = 75;\n",
        "        healthPoints[2] = 90;\n",
        "        healthPoints[3] = 120;\n",
        "\n",
        "        System.out.println(\"Player 1 health: \" + healthPoints[0]);\n",
        "        System.out.println(\"Player 2 health: \" + healthPoints[1]);\n",
        "        System.out.println(\"Player 3 health: \" + healthPoints[2]);\n",
        "        System.out.println(\"Player 4 health: \" + healthPoints[3]);\n",
        "    }\n",
        "}"
      ],
      "metadata": {
        "colab": {
          "base_uri": "https://localhost:8080/"
        },
        "id": "dbuZR2Iky7gI",
        "outputId": "09a0d0aa-9845-44aa-e151-b2958c52fad2"
      },
      "execution_count": 16,
      "outputs": [
        {
          "output_type": "stream",
          "name": "stdout",
          "text": [
            "Writing PlayerHealth.java\n"
          ]
        }
      ]
    },
    {
      "cell_type": "code",
      "source": [
        "!javac PlayerHealth.java"
      ],
      "metadata": {
        "id": "QcrpUhqjzCIb"
      },
      "execution_count": 17,
      "outputs": []
    },
    {
      "cell_type": "code",
      "source": [
        "!java PlayerHealth"
      ],
      "metadata": {
        "colab": {
          "base_uri": "https://localhost:8080/"
        },
        "id": "g4r7sIygzFfx",
        "outputId": "0cb81d75-3782-49ab-9965-87089b2a278e"
      },
      "execution_count": 18,
      "outputs": [
        {
          "output_type": "stream",
          "name": "stdout",
          "text": [
            "Player 1 health: 100\n",
            "Player 2 health: 75\n",
            "Player 3 health: 90\n",
            "Player 4 health: 120\n"
          ]
        }
      ]
    },
    {
      "cell_type": "markdown",
      "source": [
        "In this example, we create an integer array `healthPoints` with a size of 4 using the syntax `int[] healthPoints = new int[4]`. We then assign health point values to each element of the array using their respective indices (0, 1, 2, 3).\n",
        "\n",
        "Finally, we print the health points of each player using `System.out.println()`, accessing the values from the array using their indices.\n",
        "\n",
        "**ArrayLists**, on the other hand, are more flexible than arrays because they can grow or shrink dynamically. Here's an example of using an ArrayList to store the names of game items:"
      ],
      "metadata": {
        "id": "dh7PEUFBzIAh"
      }
    },
    {
      "cell_type": "code",
      "source": [
        "%%writefile GameItems.java\n",
        "import java.util.ArrayList;\n",
        "\n",
        "public class GameItems {\n",
        "    public static void main(String[] args) {\n",
        "        ArrayList<String> items = new ArrayList<>();\n",
        "        items.add(\"Sword\");\n",
        "        items.add(\"Shield\");\n",
        "        items.add(\"Health Potion\");\n",
        "        items.add(\"Mana Potion\");\n",
        "\n",
        "        System.out.println(\"Game items: \" + items);\n",
        "\n",
        "        // Remove an item\n",
        "        items.remove(\"Shield\");\n",
        "\n",
        "        System.out.println(\"Updated game items: \" + items);\n",
        "    }\n",
        "}"
      ],
      "metadata": {
        "colab": {
          "base_uri": "https://localhost:8080/"
        },
        "id": "xTuj7Ou9zNGy",
        "outputId": "c90e04ac-5e9d-4f3f-8bed-c44da9e79677"
      },
      "execution_count": 19,
      "outputs": [
        {
          "output_type": "stream",
          "name": "stdout",
          "text": [
            "Writing GameItems.java\n"
          ]
        }
      ]
    },
    {
      "cell_type": "markdown",
      "source": [
        "## Decision Making with if, else, and Boolean Operators:\n",
        "\n",
        "In Java, you can make decisions based on certain conditions using the `if` and `else` statements. The `if` statement allows you to execute a block of code if a condition is true, while the `else` statement provides an alternative block of code to execute if the condition is false.\n",
        "\n",
        "Boolean operators (`&&`, `||`, `!`) are used to combine or negate conditions.\n",
        "\n",
        "Here's an example that demonstrates decision making:"
      ],
      "metadata": {
        "id": "S5fccNLp_nz6"
      }
    },
    {
      "cell_type": "code",
      "source": [
        "%%writefile GameLevelAccess.java\n",
        "public class GameLevelAccess {\n",
        "    public static void main(String[] args) {\n",
        "        int playerLevel = 5;\n",
        "        boolean hasKey = true;\n",
        "\n",
        "        if (playerLevel >= 10 && hasKey) {\n",
        "            System.out.println(\"Access granted to level 10!\");\n",
        "        } else if (playerLevel >= 5 && hasKey) {\n",
        "            System.out.println(\"Access granted to level 5!\");\n",
        "        } else {\n",
        "            System.out.println(\"Access denied. Insufficient level or missing key.\");\n",
        "        }\n",
        "    }\n",
        "}"
      ],
      "metadata": {
        "colab": {
          "base_uri": "https://localhost:8080/"
        },
        "id": "PZww4WqA_ob4",
        "outputId": "1b6a5aea-a488-4d32-c279-624f3cc5c1c5"
      },
      "execution_count": 1,
      "outputs": [
        {
          "output_type": "stream",
          "name": "stdout",
          "text": [
            "Writing GameLevelAccess.java\n"
          ]
        }
      ]
    },
    {
      "cell_type": "code",
      "source": [
        "!javac GameLevelAccess.java"
      ],
      "metadata": {
        "id": "luZzEQkb_x8R"
      },
      "execution_count": 2,
      "outputs": []
    },
    {
      "cell_type": "code",
      "source": [
        "!java GameLevelAccess"
      ],
      "metadata": {
        "colab": {
          "base_uri": "https://localhost:8080/"
        },
        "id": "THMianqe_0bT",
        "outputId": "e18528c3-76cd-44f8-bd93-c1eacc9a7da8"
      },
      "execution_count": 3,
      "outputs": [
        {
          "output_type": "stream",
          "name": "stdout",
          "text": [
            "Access granted to level 5!\n"
          ]
        }
      ]
    },
    {
      "cell_type": "markdown",
      "source": [
        "## Decision Making with if, else, and Boolean Operators:\n",
        "\n",
        "In this example, we have two variables: `playerLevel` (an integer representing the player's level) and `hasKey` (a boolean indicating whether the player has a key).\n",
        "\n",
        "We use an `if-else if-else` statement to make decisions based on the player's level and key possession:\n",
        "\n",
        "-   If the player's level is greater than or equal to 10 (`playerLevel >= 10`) AND (`&&`) the player has the key (`hasKey`), we print \"Access granted to level 10!\".\n",
        "-   If the first condition is false, but the player's level is greater than or equal to 5 (`playerLevel >= 5`) AND (`&&`) the player has the key (`hasKey`), we print \"Access granted to level 5!\".\n",
        "-   If none of the above conditions are true, we print \"Access denied. Insufficient level or missing key.\" using the `else` statement.\n",
        "\n",
        "Let's look at another example that uses boolean operators to determine the outcome of a game move:"
      ],
      "metadata": {
        "id": "jUv9LB8k_2nc"
      }
    },
    {
      "cell_type": "code",
      "source": [
        "%%writefile GameMove.java\n",
        "public class GameMove {\n",
        "    public static void main(String[] args) {\n",
        "        boolean isJumping = true;\n",
        "        boolean isRunning = false;\n",
        "        boolean isBlocking = false;\n",
        "\n",
        "        if (isJumping || isRunning) {\n",
        "            System.out.println(\"The character is moving.\");\n",
        "        } else if (!isBlocking) {\n",
        "            System.out.println(\"The character is not blocking.\");\n",
        "        } else {\n",
        "            System.out.println(\"The character is standing still.\");\n",
        "        }\n",
        "    }\n",
        "}"
      ],
      "metadata": {
        "colab": {
          "base_uri": "https://localhost:8080/"
        },
        "id": "MG7zW_IY__l8",
        "outputId": "df7ce1c9-e29d-4617-c5ec-b0f99ac2cbe3"
      },
      "execution_count": 4,
      "outputs": [
        {
          "output_type": "stream",
          "name": "stdout",
          "text": [
            "Writing GameMove.java\n"
          ]
        }
      ]
    },
    {
      "cell_type": "code",
      "source": [
        "!javac GameMove.java"
      ],
      "metadata": {
        "id": "qlBAd1h0Ajbw"
      },
      "execution_count": 5,
      "outputs": []
    },
    {
      "cell_type": "code",
      "source": [
        "!java GameMove"
      ],
      "metadata": {
        "colab": {
          "base_uri": "https://localhost:8080/"
        },
        "id": "7vnLb44TAmVa",
        "outputId": "2fdef8da-5c23-4143-fc5b-92e4c76f8b40"
      },
      "execution_count": 6,
      "outputs": [
        {
          "output_type": "stream",
          "name": "stdout",
          "text": [
            "The character is moving.\n"
          ]
        }
      ]
    },
    {
      "cell_type": "markdown",
      "source": [
        "In this example, we have three boolean variables: `isJumping`, `isRunning`, and `isBlocking`, representing different states of a game character.\n",
        "\n",
        "We use an `if-else if-else` statement with boolean operators to determine the character's action:\n",
        "\n",
        "-   If the character is jumping (`isJumping`) OR (`||`) running (`isRunning`), we print \"The character is moving.\".\n",
        "-   If the character is not jumping or running, but is not blocking (`!isBlocking`), we print \"The character is not blocking.\".\n",
        "-   If none of the above conditions are true, we print \"The character is standing still.\" using the `else` statement.\n"
      ],
      "metadata": {
        "id": "sBl_-SzsAppt"
      }
    },
    {
      "cell_type": "markdown",
      "source": [
        "## For and While Loops\n",
        "\n",
        "Loops in Java allow you to repeat a block of code multiple times. The two most common types of loops are `for` loops and `while` loops.\n",
        "\n",
        "`for` loops are used when you know the exact number of iterations needed, while `while` loops are used when the number of iterations is not known in advance and depends on a certain condition.\n",
        "\n",
        "Let's start with a `for` loop:"
      ],
      "metadata": {
        "id": "upn-hrvsBKHP"
      }
    },
    {
      "cell_type": "code",
      "source": [
        "%%writefile DigDugTunnel.java\n",
        "public class DigDugTunnel {\n",
        "    public static void main(String[] args) {\n",
        "        int tunnelLength = 10;\n",
        "\n",
        "        for (int i = 0; i < tunnelLength; i++) {\n",
        "            System.out.println(\"Digging tunnel: \" + (i + 1) + \" meters\");\n",
        "        }\n",
        "\n",
        "        System.out.println(\"Tunnel digging completed!\");\n",
        "    }\n",
        "}"
      ],
      "metadata": {
        "colab": {
          "base_uri": "https://localhost:8080/"
        },
        "id": "RINpCsn3BNq4",
        "outputId": "c8a6ec23-88d7-4dc3-b272-d3830c109f95"
      },
      "execution_count": 7,
      "outputs": [
        {
          "output_type": "stream",
          "name": "stdout",
          "text": [
            "Writing DigDugTunnel.java\n"
          ]
        }
      ]
    },
    {
      "cell_type": "code",
      "source": [
        "!javac DigDugTunnel.java"
      ],
      "metadata": {
        "id": "CfLfT5HWAwRM"
      },
      "execution_count": 8,
      "outputs": []
    },
    {
      "cell_type": "code",
      "source": [
        "!java DigDugTunnel"
      ],
      "metadata": {
        "colab": {
          "base_uri": "https://localhost:8080/"
        },
        "id": "SN2WbII_BYbM",
        "outputId": "9954d6e1-de54-4467-87a6-e518e2193145"
      },
      "execution_count": 9,
      "outputs": [
        {
          "output_type": "stream",
          "name": "stdout",
          "text": [
            "Digging tunnel: 1 meters\n",
            "Digging tunnel: 2 meters\n",
            "Digging tunnel: 3 meters\n",
            "Digging tunnel: 4 meters\n",
            "Digging tunnel: 5 meters\n",
            "Digging tunnel: 6 meters\n",
            "Digging tunnel: 7 meters\n",
            "Digging tunnel: 8 meters\n",
            "Digging tunnel: 9 meters\n",
            "Digging tunnel: 10 meters\n",
            "Tunnel digging completed!\n"
          ]
        }
      ]
    },
    {
      "cell_type": "markdown",
      "source": [
        "In this example, we have a variable `tunnelLength` representing the length of the tunnel that Dig Dug needs to dig.\n",
        "\n",
        "We use a `for` loop to simulate the digging process. The loop initializes a variable `i` to 0, and it continues as long as `i` is less than `tunnelLength`. After each iteration, `i` is incremented by 1.\n",
        "\n",
        "Inside the loop, we print the current digging progress using `System.out.println()`, displaying the current meter of the tunnel being dug.\n",
        "\n",
        "After the loop finishes, we print a message indicating that the tunnel digging is completed.\n",
        "\n",
        "Now, let's look at an example using a `while` loop:"
      ],
      "metadata": {
        "id": "J7zv1XAmBltB"
      }
    },
    {
      "cell_type": "code",
      "source": [
        "%%writefile DigDugEnemies.java\n",
        "public class DigDugEnemies {\n",
        "    public static void main(String[] args) {\n",
        "        int enemyCount = 5;\n",
        "\n",
        "        while (enemyCount > 0) {\n",
        "            System.out.println(\"Enemies remaining: \" + enemyCount);\n",
        "            enemyCount--;\n",
        "        }\n",
        "\n",
        "        System.out.println(\"All enemies defeated!\");\n",
        "    }\n",
        "}"
      ],
      "metadata": {
        "colab": {
          "base_uri": "https://localhost:8080/"
        },
        "id": "rg3h0wRGBmrU",
        "outputId": "acf5b40a-87bf-47cc-d61e-c7ec39a1e8bc"
      },
      "execution_count": 10,
      "outputs": [
        {
          "output_type": "stream",
          "name": "stdout",
          "text": [
            "Writing DigDugEnemies.java\n"
          ]
        }
      ]
    },
    {
      "cell_type": "code",
      "source": [
        "!javac DigDugEnemies.java"
      ],
      "metadata": {
        "id": "BlE3mUm9Buiu"
      },
      "execution_count": 11,
      "outputs": []
    },
    {
      "cell_type": "code",
      "source": [
        "!java DigDugEnemies"
      ],
      "metadata": {
        "colab": {
          "base_uri": "https://localhost:8080/"
        },
        "id": "KGQMl5srByW8",
        "outputId": "45477c05-4a4c-471b-ca3a-cea07b46b98e"
      },
      "execution_count": 12,
      "outputs": [
        {
          "output_type": "stream",
          "name": "stdout",
          "text": [
            "Enemies remaining: 5\n",
            "Enemies remaining: 4\n",
            "Enemies remaining: 3\n",
            "Enemies remaining: 2\n",
            "Enemies remaining: 1\n",
            "All enemies defeated!\n"
          ]
        }
      ]
    },
    {
      "cell_type": "markdown",
      "source": [
        "In this example, we have a variable `enemyCount` representing the number of enemies Dig Dug needs to defeat.\n",
        "\n",
        "We use a `while` loop to simulate the process of defeating enemies. The loop continues as long as `enemyCount` is greater than 0.\n",
        "\n",
        "Inside the loop, we print the number of remaining enemies using `System.out.println()`, and then we decrement `enemyCount` by 1 using the `--` operator.\n",
        "\n",
        "The loop continues until `enemyCount` reaches 0, indicating that all enemies have been defeated. After the loop finishes, we print a message stating that all enemies are defeated."
      ],
      "metadata": {
        "id": "T1EhKzToB3AZ"
      }
    },
    {
      "cell_type": "markdown",
      "source": [
        "## Methods\n",
        "Methods in Java are blocks of code that perform specific tasks. They are used to break down a program into smaller, more manageable pieces, making the code more organized, reusable, and easier to understand. Methods can take parameters (inputs) and return values (outputs).\n",
        "\n",
        "Here are some important keywords and concepts related to methods in Java:\n",
        "\n",
        "-   **`void`** is a keyword used to declare a method that doesn't return a value.\n",
        "-   The **return type* is the type of value a method returns. It can be any valid Java data type, such as `int`, `double`, `boolean`, or even a class type. If a method doesn't return a value, the return type is `void`.\n",
        "-   `return` is a keyword used to specify the value that a method returns. It is followed by the value to be returned.\n",
        "-   A **parameter** is a value passed to a method when it is called. Parameters are specified within the parentheses of the method declaration.\n",
        "-   **Visibility modifiers** are keywords that control the accessibility of methods. The most common modifiers are `public` (accessible from anywhere), `private` (accessible only within the same class), and `protected` (accessible within the same package and subclasses).\n",
        "\n",
        "In the context of Donkey Kong, let's say we have a method called `jumpOverBarrel()` that represents Mario jumping over a barrel. It could be declared as follows:\n",
        "\n",
        "```java\n",
        "public void jumpOverBarrel() {\n",
        "    // Code to perform the jump\n",
        "    System.out.println(\"Mario jumps over a barrel!\");\n",
        "}\n",
        "```\n",
        "In this example, `jumpOverBarrel()` is a method with the `public` visibility modifier and a `void` return type, meaning it doesn't return any value. When called, it executes the code inside the method body, which in this case, prints a message indicating that Mario jumps over a barrel.\n",
        "\n",
        "Now, let's look at a longer example."
      ],
      "metadata": {
        "id": "ghjtYUbmEYFe"
      }
    },
    {
      "cell_type": "code",
      "source": [
        "%%writefile DonkeyKong.java\n",
        "public class DonkeyKong {\n",
        "    private int score;\n",
        "    private int lives;\n",
        "\n",
        "    public DonkeyKong() {\n",
        "        score = 0;\n",
        "        lives = 3;\n",
        "    }\n",
        "\n",
        "    public void jumpOverBarrel() {\n",
        "        System.out.println(\"Mario jumps over a barrel!\");\n",
        "        score += 100;\n",
        "    }\n",
        "\n",
        "    public void hitByBarrel() {\n",
        "        System.out.println(\"Mario is hit by a barrel!\");\n",
        "        lives--;\n",
        "    }\n",
        "\n",
        "    public boolean isGameOver() {\n",
        "        return lives == 0;\n",
        "    }\n",
        "\n",
        "    public int getScore() {\n",
        "        return score;\n",
        "    }\n",
        "\n",
        "    public void printStatus() {\n",
        "        System.out.println(\"Score: \" + score);\n",
        "        System.out.println(\"Lives: \" + lives);\n",
        "    }\n",
        "\n",
        "    public static void main(String[] args) {\n",
        "    DonkeyKong game = new DonkeyKong();\n",
        "\n",
        "    game.jumpOverBarrel();\n",
        "    game.jumpOverBarrel();\n",
        "    game.hitByBarrel();\n",
        "    game.printStatus();\n",
        "\n",
        "    if (game.isGameOver()) {\n",
        "        System.out.println(\"Game Over!\");\n",
        "    } else {\n",
        "        System.out.println(\"Keep playing!\");\n",
        "    }\n",
        "}\n",
        "\n",
        "\n",
        "}"
      ],
      "metadata": {
        "colab": {
          "base_uri": "https://localhost:8080/"
        },
        "id": "CC786rJWEjT5",
        "outputId": "f738ce0f-c3bb-4c2b-8886-c754904ccbe2"
      },
      "execution_count": 13,
      "outputs": [
        {
          "output_type": "stream",
          "name": "stdout",
          "text": [
            "Writing DonkeyKong.java\n"
          ]
        }
      ]
    },
    {
      "cell_type": "code",
      "source": [
        "!javac DonkeyKong.java"
      ],
      "metadata": {
        "id": "nPRGRtQqB_dq"
      },
      "execution_count": 14,
      "outputs": []
    },
    {
      "cell_type": "code",
      "source": [
        "!java DonkeyKong"
      ],
      "metadata": {
        "colab": {
          "base_uri": "https://localhost:8080/"
        },
        "id": "WHSJzxOfE79N",
        "outputId": "abe8f92b-64e5-47d2-b061-6885b72950ac"
      },
      "execution_count": 15,
      "outputs": [
        {
          "output_type": "stream",
          "name": "stdout",
          "text": [
            "Mario jumps over a barrel!\n",
            "Mario jumps over a barrel!\n",
            "Mario is hit by a barrel!\n",
            "Score: 200\n",
            "Lives: 2\n",
            "Keep playing!\n"
          ]
        }
      ]
    },
    {
      "cell_type": "markdown",
      "source": [
        "In this program, we have a number of different classes and methods:\n",
        "\n",
        "-   The `DonkeyKong` class represents the game state and contains methods related to the game mechanics.\n",
        "-   The class has two private instance variables: `score` and `lives`, which keep track of the player's score and remaining lives, respectively.\n",
        "-   The constructor `DonkeyKong()` initializes the `score` to 0 and `lives` to 3 when a new instance of the class is created.\n",
        "-   The `jumpOverBarrel()` method is called when Mario successfully jumps over a barrel. It prints a message and increments the `score` by 100 points.\n",
        "-   The `hitByBarrel()` method is called when Mario is hit by a barrel. It prints a message and decrements the `lives` by 1.\n",
        "-   The `isGameOver()` method returns a boolean value indicating whether the game is over. It checks if the number of `lives` has reached 0.\n",
        "-   The `getScore()` method is a getter method that returns the current value of the `score`.\n",
        "-   The `printStatus()` method is used to display the current score and remaining lives.\n",
        "\n",
        "These methods encapsulate specific actions and game logic, making the code more organized and easier to understand. By breaking down the game into smaller methods, we can easily modify and extend the functionality of the game."
      ],
      "metadata": {
        "id": "vCdzoK_pR82R"
      }
    },
    {
      "cell_type": "markdown",
      "source": [
        "## Object-Oriented Programming\n",
        "**Object-oriented programming (OOP)** is a programming paradigm that organizes code into objects, which are instances of classes. It focuses on creating reusable and modular code structures. In OOP, we define classes that represent real-world entities or abstract concepts, and objects are created based on these classes.\n",
        "\n",
        "1. A **class** of objects.\n",
        "    -   It encapsulates data (attributes) and functions (methods) that operate on that data.\n",
        "    -   Classes provide a way to organize related code and create reusable components.\n",
        "2. **Attributes**, also known as properties or instance variables, are the data members of a class.\n",
        "    -   They represent the state or characteristics of an object.\n",
        "    -   Attributes can have different data types, such as integers, strings, or even other objects.\n",
        "3.  **Methods** (discussed above) are the functions or procedures defined within a class.\n",
        "    -   They define the behavior or actions that objects of the class can perform.\n",
        "    -   Methods can access and manipulate the attributes of an object.\n",
        "    -   They can also take parameters and return values.\n",
        "4.  A **constructor** is a special method that is called when an object is created.\n",
        "    -   It is used to initialize the attributes of an object and perform any necessary setup.\n",
        "    -   Constructors have the same name as the class and do not have a return type.\n",
        "5.  An **object** is an instance of a class.\n",
        "    -   It represents a specific entity or concept based on the blueprint defined by the class.\n",
        "    -   Objects are created using the `new` keyword followed by the constructor of the class.\n",
        "    -   Each object has its own set of attribute values and can independently execute the methods defined in the class.\n",
        "\n",
        "Now, let's see how we might apply these concepts  a Space Invaders-style game."
      ],
      "metadata": {
        "id": "hxL9JnG0ARp0"
      }
    },
    {
      "cell_type": "markdown",
      "source": [
        "### Example: Space-Invaders, OO-style\n",
        "Let's suppose we are designing a simple \"Space Invaders\"-style game, in which a spaceship controlled by a player battles alien ship. In keeping with OOP, let's begin by defining the basic \"ontology\" or the classes that represent the main elements of the game.\n",
        "1.  `Player` class:\n",
        "    -   Represents the player's spaceship.\n",
        "    -   Contains properties such as position, lives, and score.\n",
        "    -   Has methods for moving the spaceship, firing weapons, and handling collisions.\n",
        "2.  `Enemy` class:\n",
        "    -   Represents the enemy spaceships.\n",
        "    -   Contains properties such as position, speed, and hit points.\n",
        "    -   Has methods for moving the enemy, firing weapons, and handling collisions.\n",
        "3.  `Bullet` class:\n",
        "    -   Represents the bullets fired by the player and enemies.\n",
        "    -   Contains properties such as position, speed, and damage.\n",
        "    -   Has methods for moving the bullet and handling collisions.\n",
        "4.  `GameManager` class:\n",
        "    -   Manages the overall game state and game loop.\n",
        "    -   Contains properties such as score, level, and game over status.\n",
        "    -   Has methods for starting the game, updating game objects, and handling game events.\n",
        "\n",
        "The (partial) code for this might be as follows."
      ],
      "metadata": {
        "id": "n0KQR-gPBPea"
      }
    },
    {
      "cell_type": "markdown",
      "source": [
        "```java\n",
        "\n",
        "public class Player {\n",
        "    private int x, y, lives, score;\n",
        "\n",
        "    public Player(int initialX, int initialY) {\n",
        "        x = initialX; y = initialY; lives = 3; score = 0;\n",
        "    }\n",
        "\n",
        "    public void moveLeft() { x--; }\n",
        "\n",
        "    public void moveRight() { x++; }\n",
        "\n",
        "    public void fire() { /* Code for bullet management */ }\n",
        "}\n",
        "\n",
        "public class Enemy {\n",
        "    private int x, y, speed, hitPoints;\n",
        "\n",
        "    public Enemy(int initialX, int initialY, int initialSpeed, int initialHitPoints) {\n",
        "        x = initialX; y = initialY; speed = initialSpeed; hitPoints = initialHitPoints;\n",
        "    }\n",
        "\n",
        "    public void move() { y += speed; }\n",
        "\n",
        "    public void fire() { /* Code for bullet management */ }\n",
        "}\n",
        "\n",
        "public class Bullet {\n",
        "    private int x, y, speed, damage;\n",
        "\n",
        "    public Bullet(int initialX, int initialY, int initialSpeed, int initialDamage) {\n",
        "        x = initialX; y = initialY; speed = initialSpeed; damage = initialDamage;\n",
        "    }\n",
        "\n",
        "    public void move() { y -= speed; }\n",
        "}\n",
        "\n",
        "public class GameManager {\n",
        "    private int score, level;\n",
        "    private boolean gameOver;\n",
        "\n",
        "    public GameManager() {\n",
        "        score = 0; level = 1; gameOver = false;\n",
        "    }\n",
        "\n",
        "    public void startGame() { /* Code to initialize game */ }\n",
        "\n",
        "    public void updateGame() { /* Code to update game state */ }\n",
        "}\n",
        "```"
      ],
      "metadata": {
        "id": "ecXJMjZwB5IS"
      }
    },
    {
      "cell_type": "markdown",
      "source": [
        "### UML Diagram: Object Invaders\n",
        "![image.png](data:image/png;base64,iVBORw0KGgoAAAANSUhEUgAAA4AAAANcCAYAAAAOyMEDAAAAAXNSR0IArs4c6QAAAARnQU1BAACxjwv8YQUAAAAJcEhZcwAADsMAAA7DAcdvqGQAALDHSURBVHhe7N0PfFxVnf//d1YBF12hS9YmGmEDuoHqsmlFJcnv20rZhgiN7iZC1mbRLUW0LSVxE//URhFMwT+JJpa2ioTqsqkGTNbddjFM12hxm+BS2ixIS1zbaFpt1o0CooB/sL977j0zc2fybzKZSWdyX08eQ+aeO/fOZDJN5j3nc87JOekQAAAAAGDe+yP7FQAAAAAwzxEAAQAAACAgCIAAAAAAEBAEQAAAAAAICAIgAAAAAAQEARAAAAAAAoIACAAAAAABQQAEAAAAgIAgAAIAAABAQBAAAQAAACAgck467HUgKzyx/xn96PFn7RYAAJgrZ+W+WCVXnWO3AGQjAiCyjgmAw48/p/wLzrQtAAAg3X711O/1opwXCIBAliMAIuuEA+CbVr7CtgAAgHQ7PPAUARCYBxgDCAAAAAABQQAEAAAAgIAgAAIAAABAQBAAAQAAACAgCIAAAAAAEBAEQAAAAAAICAIgAAAAAAQEARAAAAAAAoIACAAAAAABQQAEAAAAgIAgAAIA5saP79enPnK5/u6uAdvwlAa/eqM2vOt6hUZtEwAASCsCIABgct/frLKiHBVFLvm60gls2/cc1m/sTRL25EHd3d2ng7+123pexx7aqtD3npz5uQAAQFIIgACAyf1eGrNXPaM68r0Otd24XJt6T1G33W+GtfeuG7WhplWDtgkAACSGAAgAmF5Fp/YNndTQ0HP61m1VTsOodh0d9vbNtScH9PXPbFVo8HnbAAAAEkUABAAk7gXZcs08VZ5f6F6TBrTdLQ+t1i5fp+DY7mq3bHTD7hn2FP7ysHZ95ipdWWZLTtfeqM5HnvL2je7UhmW1CrkbTaqxpakjv3QbAADANAiAAIDp9dZ6YwEX/bGu/EiPLl3XqY9V5NmdKTTao03vWKTGu+7XEbf2dFRH+rbq1lUX6dZv2xAIAACSRgAEAMzYQ9su1986QTB2fOBsPa+Hdq7X13+8WNd94YQedUtOT+rRUKcqc0fV2d6hQ3mrtGVvp8rd2zery97m3Je7DQAAYBoEQADA9CJjAJ1A1vfvWlssHe9u1r8dtvtT4rAOdpty0YO6+335utiWd15cXqtdJmke7tcRlosAAGBWCIAAgBk541VX6i3LzLWDOvTjVCay5+OnHI3zEp3xYnsVAAAkhQAIAJiR3/zkfn1nr7mWpwsKzDhAJ5hdZLaHdeTH3ji934zer3++p8e9nriLtOid5muJ1n7pqB495PU4Ri+dKs91b2id0NNM/gIAwIwQAAEA0wtPAmNKMpdfpe2DUu7bW1X5erPTCW5LTRA8qO3vWuDdZpl3mwntP6Aj9qqnRwd/YJZ0OFuXvqNZi82sou85Xxcv8u7PXMo+2xddLD6vUIvcILhVN7zR23/oZywlDwBAIgiAAIAZKSiuUm1Tv7756VUqcFteokvfd78+Vl1itwu1uLpZH7p+ubsVcdGV+tCbnaB4vE8H/8c05Klk5RrnmDwd+V6fW/15xus36Svf7FZ95FyesW7nmEjGK9F1d92hdxSHl6Eo1ItfZK8CAIAp5Zx02OtAVnhi/zMafvw5vWnlK2wLAABIt8MDT+lFOS+o5KpzbAuAbEQPIAAAAAAEBAEQAAAAAAKCAAgAAAAAAUEABAAAAICAIAACAAAAQEAQAAEAAAAgIAiAAAAAABAQBEAAAAAACAgCIAAAAAAERM5Jh70OZIUn9j+j/37waf35X/6JbQEAAOl24uhz+rNXvlhllbm2BUA2IgAi65gA+HDoSS388z+2LQAAIN1+Mfobvfq1LyEAAlmOAIisYwLg8OPP6U0rX2FbAABAuh0eeEovynlBJVedY1sAZCPGAAIAAABAQBAAAQAAACAgCIAAAAAAEBAEQAAAAAAICAIgAAAAAAQEARAAAAAAAoIACAAAAAABQQAEAAAAgIAgAAIAAABAQBAAAQAAACAgCIAAAAAAEBAEQAAAAAAICAIgAAAAAAQEARAAAAAAAoIACAAAAAABQQBEwAxoe1GOirYN2G0AAAAgOAiACJhCFVTYqwnzQuOG3aN2GwAAAMhOBEAETJ4q209qaF2J3QYAAACCgwCIALHln/4S0NGd2lBUrV2jvn0xvX2mvVRtzrVQQ763v26nxrydsdxz+c7touQUAAAAmYMAiAAp0dqhftXbrageNS7rU8nQSQ2ZS1ezG/a2D5p90WPKW094+9tXKdfsipe3Slv2dqq8vdQeKw1uc8JjRaf20eMIAACADEAABBz1XZtUbK+reLkb+A4dT2LMnxMCb26tUlvNZg0OblZNe5VaNk4SGAEAAIA5RgDE/OSEr3A5Z5Fb4mnbZyA0MmyvzUzuyq1qqWhSTU2TEyy7VZlndwAAAACnGAEQ81PxJq9c073McQgb7VOo17vatmOS8YIAAADAKUAABFJqVLtur1Worl9DZjxgb61uYfkIAAAAZAgCIDAtb+3A0J6+aXvzxnavV2NvlVqqSiLjAUMN65MqQQUAAABSjQAITCtPlRu93rwyO64wPMtnjMHNKmvoUXnr1kjJqTce0MwyulnPek0AAADAKZNz0mGvA1nhif3PaPjx5/Smla+wLQAAIN0ODzylF+W8oJKrzrEtALIRPYAAAAAAEBAEQAAAAAAICAIgAAAAAAQEARAAAAAAAoIACAAAAAABQQAEAAAAgIAgAAIAAABAQBAAAQAAACAgCIAAAAAAEBAEQAAAAAAICAIgAAAAAAQEARAAAAAAAoIACAAAAAABQQAEAAAAgIAgAAIAAABAQBAAAQAAACAgCIAImAFtL8pR0bYBuw0AAAAEBwEQAVOoggp7NWFeaNywe9RuAwAAANmJAIiAyVNl+0kNrSux2wAAAEBwEAARILb8018COrpTG4qqtWvUty+mt8+0l6rNuRZqyPf21+3UmLcz1uBmZ785l922xnZXO+2b9azdBgAAAE4VAiACpERrh/pVb7eietS4rE8lQyc1ZC5dzW7Y2z5o9kWPKW894e1vX6Vcsyte8XLndj0K7fcnwFEN7Olxjl2jM20LAAAAcKoQAAFHfdcmFdvrXpCTDh2f6Zi/El3dWqXQnr5oD+Fon0K9VSq/JM82AAAAAKcOARDzk1uOGS7pHF+WmYjQyLC9lrjcS6pV3tutAXt/Y/u7FaqoVgn5DwAAABmAAIj5qXiTV67pXrpVOVcBLG+5yit61Nhjxhh65Z/1qycpGQUAAADmGAEQSKk8Va5ultr7NOiWfzarJFJbCgAAAJxaBEBgWt7agTFj+6bijiFsUsft3QrVLY+OLQQAAABOMQIgMK08VW7sVHlvrcrsuEJvhtDJlKikzgmMvVJLFesNAgAAIHPknHTY60BWeGL/Mxp+/Dm9aeUrbEvmMWv/le2p1r7JlowAACDLHB54Si/KeUElV51jWwBkI3oAgZQb0H0NPSpfsZzwBwAAgIxCAARSaHCbKREtlbpOastK1n4AAABAZiEAAilUvM5bemItM78AAAAgAxEAAQAAACAgCIAAAAAAEBAEQAAAAAAICAIgAAAAAAQEARAAAAAAAoIACAAAAAABQQAEAAAAgIAgAAIAAABAQBAAAQAAACAgCIAAAAAAEBAEQAAAAAAICAIgMN8NblZRUbX+/X/tNgAAAAKLAIiAGdD2ohwVbRuw2wAAAEBwEAARMIUqqLBXE+aFxg27R+02AAAAkJ0IgAiYPFW2n9TQuhK7DQAAAAQHARABYss//SWgozu1oahau0Z9+2J6+0x7qdqca6GGfG9/3U6NeTvHc8fbRc8Tvu3Y7mpne7O2b/Ptc+/XOyzCfTz+22zWoN0VNhhzjol6JuO+lx0HbDsAAACCjgCIACnR2qF+1dutqB41LutTydBJDZlLV7Mb9ra7ySt6THnrCW9/+yrlml3jOMGrpil6u3G3bZJKbbtz2dcq535z7P04THhcVqtFXdHbdNU1qSYSFEe1qy5HNUOd2mf3D+3tlEwwjQm0TmCt64+c4+YV3i4AAACAAAg46rs2qdheV/FyN/AdOp7cmL/QyLC9Fq9ZJZE7kXJXblVLhdTWb8KbE+52eOFxre82xetM+OxRaL/zWAY71NjbrC5/qMxbpZtbq6T2PrencLCnVqEKJyD6SlxzC5bYawAAAAg6AiDmp5hSzAlKLRMweZCbTInWdjU7YazUuc/xpZvj5enVRc6XoWGNjfYp1OsrM41cvPJTY7C/yfm/6RH0789RWUOPdwMNaKBdKl+xfJIeSgAAAAQdARDzU/GmSAnk0FC3KvNse7rZ+93XesALajNcbiKmfNR32bIy/A00q2uC/UNDvh5MAAAAYBIEQCANcld2u2MJTW9gZIzfOF6PnYoKlZtXqEXO1al6HQvOrXL+f0DHJu3N9Ja4mHnPJQAAAIKCAAhMywarPX2Tz/6ZkNjwNrjNlHdWqaXKjNeLlo/GzOo5uDmy7Y0ZNBPW+MtLzcQw4e08laww4wFjzzF2nFlAAQAA4CEAAtPKU+XGTpX31qrMjrubuFcvdvmFIjsjqH9Sl9Dt0f017U742+srTzXlo3YG0ug5DmhRgd3vrmF4wgmB/nGA+WoscgKqzXvhnkf/OW7Z4+0DAAAAck467HUgKzyx/xkNP/6c3rTyFbYl85l1AMsalqiLsXoAgCx1eOApvSjnBZVcdY5tAZCN6AEEAAAAgIAgAAIAAABAQBAAgTngjs2j/BMAAACnGAEQAAAAAAKCAAgAAAAAAUEABAAAAICAIAACAAAAQEAQAAEAAAAgIAiAAAAAABAQBEAAAAAACAgCIAAAAAAEBAEQAAAAAAKCAAgAAAAAAUEABAAAAICAIAACAAAAQEAQAIF0G9ysoqJq7Rq12wAAAMApQgBEwAxoe1GOirYN2G0AAAAgOAiACJhCFVTYqwnzQuOG3XThAQAAILsRABEweapsP6mhdSV2GwAAAAgOAiACxJZ/+ktAR3dqgzs+z7cvprfPtJeqzbkWasj39tft1Ji3cxJx59pxwLZb7n1G9xcVbdag3WUMbnPanMfnfg2fwz6esd3V0eNiylhHtasuentz2e4/qSPm2PDFf45pHhcAAACyHwEQAVKitUP9qrdbUT1qXNankqGTGjKXrmY37HkBKnpMeesJb3/7KuWaXRNxQ5QTGOv6vds6l5tX2H0uJ6jd3q3yvfa+hk6opaJJNfGhsr1UA6Xh2/RrkXk8u3fqPm312pzHaG4TDYbrFVphH59z2ddapbaa6MQzJvyVNSxRl93vHu+oP7fQu18zUc2yWi3qsvudS1ed87iccDz0K/emAAAAmAcIgICjvmuTiu11FS93A9+h4zMf8zfYU6tQRaf2+UpMcwuW2GuGKUHtVmWe3TTbq50w1tutAf/dOee4OvKASlRSJ7Xtka5eaQ8sXuMERyk0Muxu5q7s1pbwPkfuykbne+hRaL856agG9vRIdcvHfY9tzvG5JpTuaHID7trIDZybrDPBt0dHfkoCBAAAmC8IgJif3KUXwqWMyS3BEA5XiRvQQLtUvmL55D2ErrhyzZom2z47sSWeXtlqQkb7FOr1lbgmcw4AAABkBQIg5qfiTZFSxqEhf4/bqWbGB+arUZ3aF358thxzNsx4wbIGqSVSWuovdc1TyYoqqb0vOqZvsM8Nd/Wl0Z7KSIlr3OXKv3iZvQUAAACyHQEQSBlviYkpew7d4FWllo3RcYSD/bPtAbQ9j61bo0HXBryw3JVbvbGG4d69mibVd530Sj7zCrXI+TLzHk8AAABkGwIgMC0b7Pb0TTP7Z7inLTo5izF23DcLqBO2ytWjyPDCwc3qUHNs24zFB88Bbd8h1fvbBjtiex2dS3S8X4nWxk0q43IeW8w2AAAAsh4BEJhWnio3dqq8t1ZltgctfomFMDMZS3gW0fBYulv22J1G3ird7M7QaXvi+pdry7pNWmMmedkx3fISk7GPzwlw3n32qaR9k9aayWXaW6LjH32PP3yJfB+mZDbucRfVHNCiArsfAAAA80LOSYe9DmSFJ/Y/o+HHn9ObVr7CtiAZ0aUhfDOgAgAwicMDT+lFOS+o5KpzbAuAbEQPIBAEozu1Pa6c8/hIj70GAACAoCAAAgFg1idsi1vmoWbIjAmk9w8AACBIKAFF1qEEFACAuUcJKDA/0AMIAAAAAAFBAAQAAACAgCAAAgAAAEBAEAABAAAAICAIgAAAAAAQEARAAAAAAAgIAiAAAAAABAQBEAAAAAACggAIAAAAAAGRc9JhrwNZ4Yn9z+iH//2sllyRa1sAAEC6/eDhp3Xai/+gskr+/gLZjACIrGMC4N6v/0wvPo0ObAAA5srvf/cHvb7sLAIgkOUIgMg6JgAOP/6c3rTyFbYFAACk2+GBp/SinBdUctU5tgVANqILBQAAAAACggAIAAAAAAFBAAQAAACAgCAAAgAAAEBAEAABAAAAICAIgAAAAAAQEARAAAAAAAgIAiAAAAAABAQBEAAAAAACggAIAAAAAAFBAAQAAACAgCAAAkkb1a66HBVtG7DbxoC2F+Vow+5Ru50qzn1t26kxuxU0Y7urVVS0WYN2G7M0uNl5Pqu1K9Uv04DJqtclP/MEpet3eOYa272Z1wUQMARABJT3R74o7pKpf/QHt+UrdO5y5dpt741n+t7MJXP+xI+xwbku+UA76X25b3JztH2m78iTPS5RyZx/BsfM9vUwuM28/icKMjP8WaX5eUzq+0z4Mc3+deka3akNzv2Z+wxfsjtMpOh5mVQy55/BMal4TdpzxF7mzwdSuZcUKrSMD9iAICEAItjq+jU0dNK7dDUr1JCftjevU3LfYEzyxtbZV9PerDUr82yD8we7YIm9NgNT3UecZM4//pjJPknP06uL7NUk5a7cqpaKHjX2xPW+1jSpvPWE1hbbpkTlFarcXk3YDJ7PpM4/7hj7pjemx9mT1OvBp3jdCef5bFJN3LnHdq9XY2+zutpXRT58mFKan8ekvs9xjyl9r0v33MtqFfL9Xumqq1L5JdF/u9knmedl8tfqeMmcf4JjJnsdJfOanER9l/1b4Vz2tR5QjfM6OiV/L1Itb5XW1I3/9w9g/iIAAmHFy1XvfDl0PJF39HPFeSO1o8kJqssVk2mKNzlvQrpVma73lcmcfwbHFK9z3kQlGiomlKfKjZ0qby+NvAEb3FaqtopO3ewLyglz3gBtcd7UzTg4JiqZ88/kmFm/HsY/n6Yn65aGHudN76bY195U0v08JvN9zuAxzfp1OdinNlWpparENphzpvHf6RyZ/b/XqSVz/oSPSdNrMndltxMCq9RWk+CHQBmuuLRZau+jFxAICAIg5jnvk+hEPqUd293ivnkLf1rvlZvFlcXY8q4Zf+o7rizMd17zyXWNE/LUo8Zl3v5I78Ron0K9Uvm5hd62w3tc5nbRNx5uCd+2Ad++GdxHnGTOP/4Y08viBDLnmulVdfe55Vq2ZyCybU31/EzGeWO3pk7OGzDnts73V9Mu1a9O4k2q23Pg3W/45+p+P+bx+fbF9C7M4PlM+vwxx5jnLV+NzmtBTkjz9nnP0UQ/L+/24fP6zzMF5/m82X1Da87rHH+715OV8BvnZL/PNL4uxz+mOXhdOt/LZJ8heY9zs7a7Jbfhi//nZiVwv17ZbvQy/nnzejoj+3ccsO0zMdHz4p13+2DcayzSe2TaJ36tjpfs+eOOmex1NMFr0pj+uUtM7iXVKnfuM7TfHj/Nzy38evXff/i+Y17Dke/ViHsenEv8v+XY17+9xJwj9rUw4WvO7SltUkeSzwWA7EIARLBF3qDkqGykMT29auZNyLJaLfKVD3WZcpvwH2HTq9HV7FypUsteb/+WcC/W6LBCzpdFBdEHFf7keRzne7lFW+192JK+8Bukqe4jTjLnH39MidYO9bs9qqYk0z3G/bQ+T5Xt5ljvVh7nDc7t3Sq3j2vcY59C8TpzH85tzZu/mYQVv8hzE6e3VmX9y+1jMj8z8+bSvqGbwfM5u/OH+Z63SHmh1zM30c/LlG6GVtjn3bkk2lPhldaa16Z5A9+srnXRnqxppfl5nN3rPizNr8viNe452mri34D7Oa/V0vA5zc9GbmiJvKmf7veFDQQ1Q53aZ/cP7e2UTKAN36cbRJyg6ytFvXmFt2tmJnpePG0166WN0fs3vcdemJn8tTreLM8fNtnraKLXpPP81ihFpf9OaFrkfAmNDDv/T/D14nwfA5Gff78WmfvevVP3hV/D5vFGvtfp/y2b8FfWsERddn/4+60/t9C7X/taOBR+vbvniHvNGTHfC4D5jgCIYPO9QRoq7XODYLKfBk/MeVOwY/y4NC+4+D45nsTY8Rl8ah9T/pinkhXOm+XeYR23LbOWtvObN3T+4O1sr3bexPR2a2DaH0WJSuq8a/WlMwgrCYkNQG6JlA7oWMpeHuk7vwlL/iCVu7Ixodeb+9ybUlDn2oxKP6eU5ucxo16X5hgT2Jyrzpt498OlcUGwWSW+J9YL3U7g6Te3S+D3xWDH+HGZtvc2XMI32FOrkPO87PM977MdJxqvvHVr9LnJW65y53tIZXhI2/lNKPR/sBEO7e7zPxsJvl6cn8vVkZ+t9/urbY90dfg1bB9P+Hud+t/yqAb29MQOEbBDGdqc483rw30tOH/nYs/hf83FGRrWs/YqgPmLAIh5KVoS45UiuZ/Iu9uTlSI5nDcG5tPVUMP6aXtKEmZLOCPlZpGLV4aWfqkMLBNJ1fm9Xo3I8+OWcyXAfJrfXqX6unDpYrpNXt6XGqk7f2xZ2Fy93hKV7ufx1L4u3fFpbk+LCWVOEJy0N9CwE5o4b7zHEvh9MdhvHoPpEfTvz1FZgxMEXAMaaHcC1IrorMFzxnwP9mpapOr8vtLQ8N+I1Ejy99g0kv+37L0WIh9GRC6p/J4BZCMCIOYl86mp17PnlQpFZ2+bulfD+5Q89W9OI+VmcZfJyt2CxYxPcd6QyFfSFl+2NSHnOOcNlukpWLvOfCrO+JUwM8aorEGRcjhTamZ6BTATyb4uo8zvIa83cGaTa0z/+6I5WvIXc0lVr+385YYp5/dG9G/CxCWoCRkd1iHni1d9MPvXy0Sm/rdse7z9ry93IqK4igh/pYv/4u8JBRAoBEDAxyu5rJJvyN3szHJcRarLtjJSeObEjdGSNq+XY2repD3h5TFKdHWqe2+zlu0B8pfQ2TeFmIEkX5fxCs513qBPyfbSFBUqN4HfF975purhLFSBr4QQfuGSSd94Ydvrmoyx/d0KhUt6U/R6iTX9v+XouF3bu2fDrff9ea+FGfWcOq/DM+1VAPMXARAIG/WmvVddo/vH1gtfTRqIfLQ66s2MaLcipVsxn+7bN197+uwf3BKtjRvU7xrcHLvtzsA2wRitVC5NMdl9pE38czEJ+7gi36Lz3HQ4b6r8beN+FvZn5R+nFlkb8PbopAvebHvTT36SlDl/Pid6vU0kPgAMaPsOqd7fNsPHPr+exzS+Ls1z7Z/0I/I7xb+MS2x4c5cvMcHBXTpi+t8Xkdd5zMLdpvQwvB3uFYo9x7jxxO7kIM7Pdcry1GQl+lpNoYReR75yW3fb/E4f1iLTSxtpS/D14fxMTNlt5HdQAq+XmUvg37IZE+rvdXQu0fGjed6YXjMRk//nbH728T/3mN5MAPMdARDznDcpg39ChRj+sRHLaiVTehUui7FjAqPjB9dLq70JMsIiC2hH3hyb++tXvfmDGx5vaGeiixnXU3NAiwrMTstO4hC9TfjNXPwbgFmY9D7Sxffmw37fE860F1l+wD43/cu1Zd0mb4mHHdHZHMM/iw27H/WCeMxkCkZ40oVa3eJ/8zztm8IkzfnzaV5vpvwr+ml/TEiIsM975LXdp5L2TVprnpv2Fu916jz2LeHXZMIBYL48j+l6XTrPjemd8Z133O8UK3S73e9czBjWlr2+yUOm/X1hfseEf++Ez5OvxiLnd4X98bgl8HHnuGWPt2+cNIW0xF6rKZTg68h9XJGfkZlp1Pm3UeW9Hu5zDzDPb9zvcCv6t8C57Ch0Q1fkb0sir5cZS+DfsuF/zdlL5DVt/q3bWVQj+80ss+FZQsOcABjpzQQw7+WcdNjrQFZ4Yv8zGn78Ob1p5Stsyzw3aNa4kroY35ME0zOSr+OrU78QdLDwPKZCdMr+DPm3bH63mCAzw0XYkdmSeZ2ZXn53eYxpxgUeHnhKL8p5QSVXnWNbAGQjegCBTFe8yV0HjAlOkmDLo2J7CjFjPI/zkBPqdzSpfjXhL6uN7tT2uL8Nx0fCM8ImyDlHR3vsci0A5jcCIJAFTKlp+cg0Y1IQi96N1OB5nIfo0Z0vzDp/bf5yYedSM2TGBCbe+ze2f1jle6kwAYKEElBkncCVgAIAkAEoAQXmB3oAAQAAACAgCIAAAAAAEBAEQAAAAAAICAIgAAAAAAQEARAAAAAAAoIACAAAAAABQQAEAAAAgIAgAAIAAABAQBAAAQAAACAgCIAAAAAAEBAEQAAAAAAICAIgkE6Dm1VUVK1do3Y7C43t3hx5/P7rAAAAyD4EQCBJY7ursz7cTcsJsGV7ClWS523mXlKo0LLNGvQ2AQAAkGUIgECScguW2Gvz1YC21zSpfvUq5doW5a3Smrom1WwbsA0AAADIJgRAIFnFmzQ01K1K2zs234ztblGbmlVSbBus4tJmqb2PXkAAAIAsRADEPDeqXXU52h6TVry2orqdGrMtrtGd2lCUow27bU2nO37PuV344uv18so/TXt8CeiAtvuO2bDjgG2fhHufzjkGvfv2jguXWPrPFX8/9nuYYP/gNrMdX6Zpz+X7HrzbRS+R79s1qoE9PVJFoQpsS0ReocrVpI6Y2wMAACAbEAARQHmqXN0s9XZrwJdhBntqFaro1M0r87yAZ8ofu05qaMhc+lXfXhoJjbkru7Wvtco7MMwNc6Vqq+u3x5zUzSvsvin1qHGHdLM9Zl/rAdU497NrW59K3LYTaqlwbhMZe2fCXL4a1al9kWPk7PeCbnFVpxvQBnwJMNyb17WuxNnywmPNUPT4ob2dUkO+LyAO63iv86WoMFr+GeYEwEXOl9DIsLcNAACArEEARDAVL1e9E7xC+8MJcEAD7VL5iuVO4BnQfQ09khPk1kbKH0u0tmt8aPQLB8h9bsjyJDpO0D/OLveSapX31up46SZ5d28Dqw7omHPfXpirUstG3zErtzohUWrrdwJc3nKVh6+7bG9e3XLvfIMdaux1wmB77Ni+m02gDZd2jg7rkLtjCkPDesZeBQAAQHYgAGJeipZo5jthxwlDNeFSx3AvWomudgJPqKHD2x7sc3vI1qzMi4Sf+tJokHO5pY89Oj5hAPQHyPQ6PmJKM6sjM3N68vTqIueLE8rGwoGxvcUrCx3tU6jXCYxV3vcz2N/k/L9JNb7yT3MpM6EXAAAA8xoBEPOSKdH0yjBN+aQT5iKlnOFeNXObRtW7pZKj2rWjSeWtayL7sl7xGrds1PRwuj2TdY1xk9U0qytc/hlziT4/AAAAmH8IgAgwrxewrcb0EtreP8OOcYuWUFqjwwqpSgUTzvpZqAInaM7FuLiCc6smKEUd1bEh50tkzJ7XCxhqyFdNe7T3z3CPt+Wkk7LPwZSc+/oTexUAAADZgQCIQHPH25kr4fFxLi8YRkooXd6aeBrXkxaWp5IV5pjSmNk0x45PMwtoEryeyx419kQD6tju9U6IjQ163jhHR1y5qDde0D+pjGEmhvFvl6ikzvnilpTGmaxEFgAAABmPAIh5Lk+V7Sd9k7nEcRc2jwtODm+WT29mTW+MnJ3d0zfBSzy37LTL63ULj6u7ZY/dmVIlWhuelTQyfk9q2Ru/JqEXZGMWcneZ58SUxvrHAearsahQBb5eQa+ncVjH7XaE2xM6fn1AAAAAZL6ckw57HcgKT+x/RsOPP6c3rXyFbUF6mOUmSqWu2ABt1g+s0dRhGAAw/xweeEovynlBJVedY1sAZCN6AAFMwlv6om2Hb8H80Z3qaA+vJwgAAIBsQwAEMLniTdq3Yjgy4czY/mGV72WmUAAAgGxFCSiyDiWgAADMPUpAgfmBHkAAAAAACAgCIAAAAAAEBAEQAAAAAAKCAAgAAAAAAUEABAAAAICAIAACAAAAQEAQAAEAAAAgIAiAAAAAABAQBEAAAAAACIickw57HcgKT+x/RsOPP6eX/elptgUAAMyFF//RH1Ry1Tl2C0A2IgAi65gA+OT//s5uwTh8+JAeeeQRLVmyRIsWvc62AgCSMTx8VPv379drXvMaLV68xLYirOSqP7XXAGQjAiCQxYaHh9Xe3i7zz7iurk7nn3++3QMAmI2nnnrK/f165MgR9/frG97wBrsHALIbARDIUl/96lfdNyfmjck73/lO2woASKXe3l59/vOf11VXXaX169fbVgDIXgRAIMs8+OCD6u7uVk5Ojm666SZ6/QAgzcK9gT/84Q9VUVGh2tpauwcAsg8BEMgiO3fudD+JXrFihT7xiU/YVgDAXLjzzjv1jW98g95AAFmNAAhkgaNHj7qfPpteP1PyWVhYaPcAAOaS6Q00H8T9z//8j/v7+JJLLrF7ACA7EACBDPfFL35RO3bsUH19vf7u7/7OtgIATqUHHnjA/WCO3kAA2YYACGSokZERfe5zn9Mvf/lLNTU10esHABnm6aef1gc/+EG98MILamxs1IUXXmj3AEDm+iP7FUAG6enpcScZMNOOd3R0EP4AIAOdddZZbpWG6QW87rrrdN9999k9AJC56AEEMsj//d//ub1+P//5z/X+97+fT5MBIEuYGUI/85nPaOHChfrABz6gP/mTP7F7ACCz0AMIZIhvfvObbq+f6e0znygT/gAge7zmNa9xf3ebAPiud71L/f39dg8AZBZ6AIFT7Fe/+pXb62c+PTYTvSxevNjuAQBkI7Ne66c//WlVVlbqve99r20FgMxADyBwCv3Hf/yHrrnmGp199tn6yle+QvgDgHlg6dKluueee/SjH/1IVVVV7lcAyBT0AAKnwHPPPaetW7fqe9/7nj70oQ+xjhQAzFNf/epX3QXkze/6iooK2woApw4BEJhj+/fvd9eOet3rXqcPf/jDthUAMF8NDg7qtttu07Jly1gzEMApRwAE5pAp8/zyl7+sjRs3qry83LYCAOa7Z599Vrfeeqv+8Ic/6KMf/SizhAI4ZQiAwBw4ceKE2+tnSj/NH/7c3Fy7BwAQJKb8f2BgQLfccosuuOAC2woAc4dJYIA0++53v6u1a9e6f+hNCCT8AUBwmRLQv/3bv9W6dev08MMP21YAmDv0AAJpZMo9zQQAN998s0pLS20rACDovv3tb7vDAT75yU/qLW95i20FgPQjAAJpYNb2a21t1c9+9jM1NzdrwYIFdg8AAB7TA/iBD3xAmzZt0ooVK2wrAKQXJaBAipkF3d///vfrpS99qTvWg/AHAJjIG9/4RrW1ten222/Xt771LdsKAOlFDyCQQg8++KA+/elP69prr1VNTY1tBQBgcgcOHNBNN92kz3zmMyopKbGtAJAeBEAgRXbv3q3Nmzfrc5/7nC699FLbCgDA9P7zP/9TH/vYx7Rt2zZdeOGFthUAUo8ACKTA17/+dX3hC1/Ql770JRUWFtpWAAAS92//9m/auXOn+/fk7LPPtq0AkFoEQGCW/uVf/kXbt293/2izxAMAYDbM35Mf/ehH+tSnPmVbACC1mAQGmAUzjbcZs3HPPfcQ/gAAs2bWjf3d736nHTt22BYASC0CIDALd911l7u4+8KFC20LAACz8+EPf1j//M//rEcffdS2AEDqEACBJH3zm9/UCy+84E7jDQBAqrziFa9QXV2dOyEMAKQaARBIkgmA119/vd0CACB13va2t+m0007TN77xDdsCAKlBAASS8Mwzz+jXv/61/vqv/9q2AACQWtddd506OzvtFgCkBgEQSMJvf/tbPfvss3YLAIDUW7x4sV71qle5FScAkCoEQCAJ/f39euqpp3Tw4EHbAgBA6lVWVqq3t9duAcDsEQCBGTpx4oTuuOMOrVy50l2n6bnnnrN7AABIrcsvv1yDg4N68sknbQsAzA4BEJihT37yk1q1apXWr1+vkpISFusFAKTVG97wBpaEAJAyBEBgBrZv364zzzxT7373u91tM033//7v/+prX/uauw0AQKq9/vWv1+HDh+0WAMwOARBI0Le//W2FQiF3gV6/D33oQ/riF7/olugAAJBqr33ta/WTn/zEbgHA7BAAgQSYcX+m9NOEv7POOsu2ev78z//cDYFm//PPP29bAQBIjb/4i7/QT3/6U7sFALNDAAQSEB739+Y3v9m2xKqoqHDHA5rbAQCQSgsXLtTo6KjdAoDZIQAC04gf9zcZxgMCANLl6aef1sjIiN0CgOQRAIFpPPLII7r44ovt1tTMOI3/+q//slsAAKTGOeec464/CwCzRQAEpvH+979fd95557TlN2aGtn/7t39TY2OjbQEAIDVe/vKX61e/+pXdAoDkEQCBabzuda/Ttddeq/b2dtsyMbPflIG+8pWvtC0AAKTGs88+qyNHjtgtAEgeARBIwHXXXaef//zn+sY3vmFbYu3YscOdHfRv//ZvbQsAAKlj/saYBeEBYLYIgECCTO+e6eWLLwU1pZ9f+cpX3P0AAABAJiMAAgmarBSU0k8AQLqZdWZ///vf2y0ASB4BEJiB+FJQSj8BAOnW39+vY8eO6Z577rEtAJA8AiAwQ+FS0O9+97uUfgIA0uoXv/iFPvnJT2rz5s3uWoD33Xef3QMAyck56bDXASTo7rvv1le/+lWtW7eO3j8AQNp88IMf1Gte8xrdcMMNOnr0qP7hH/5BW7du1V/+5V/aWwDAzBAA02zkiWd1Yvh5u4X55MmnntKCs8+2W5hPXlP8Mp2Tf7rdAoBTw3zY+P3vf1+f/exnbYt0//33q7OzU1/+8pd12mmn2VYASBwBMM1MAHyk72mdU/AS2wIgkx1/4le64tqFBEAAp5QZ99fc3OwGvVe84hW21WMCoVkU/mMf+5htAYDEEQDTLBwAl9bk2xYAmeyBjmMEQACnlBn3Z0o9GxsbtXTpUtsa6z3veY9WrFiha665xrYAQGKYBAYAACCDmElfVq5cOWn4MzZu3KgtW7bo0UcftS0AkBgCIAAAQIYw4/5MD6CZ9GUq559/vj784Q/rlltu0W9/+1vbCgDTIwACAABkiNzc3IQXfH/22Wf1Z3/2Zzr9dErWASSOAAgAAJAh3va2t+lVr3qV7rrrLtsysZGREXdN2oaGBtsCAIkhAAIAAGSQm266yV1r9rHHHrMt45nw9973vlevfe1rbQsAJIYACAAAkEEWLlyouro6ff7zn7ctse677z795je/0bXXXmtbACBxBEAAAIAMY0pBzfp/8aWg4dJPExABIBkEQAAAgAw0USkopZ8AZosACAAAkIHiS0Ep/QSQCgRAAACADBUuBW1tbaX0E0BKEAAB45cD6vx4td790R6N2SYAADKBKQXds2eP3v72t1P6CWDWck467HWkwcgTz+qRvqe1tCbftmCuje2uVllDj91ynFeiSy8pVeXbG/WON+d5baM7tWFZrUIVndrXvkq5XisC6IGOY7ri2oU6Jz97F1buaj1urwEAgEx26VV/qvMuPNNuzQ0CYJoRAE+9cQHQZ/E/HtBX3rtYZxAAYc2HAHjPbSMqeftCuwUAADLRYw/+QksuO4sAON8QAE+9SACs69fQuhLpN0/pyIMt2nTjZh1Ug77yaIsufZIACM98CYBLr8nXyxacZlsAAECmefDeE6ckADIGEMFzxtm6YMVVWuZuDOv/nnSvjPcTJxQW5ajIXi6vqdandh/WL82+w636W9P+kR5vO8y2l322T79xG5ywubtRN1Tmu+coq7xKt94zED3G9Dy6579RneZ25eZ6vr68///sDQAAAIDUIQAieF54Xscf/HftNddzl+gCOwxwnFddpEW+rsDjgz26u2G52r79lHRRra6rcBq7OxT6sbdfel4PfbNFh5Snv1++XGdoVKGPLNGVDa3a+4NR9xZjP7hfnc2leuvH748NjtqqW83tzLlyq1Vy0Z95zQAAAEAKEQARHO2lXm/eoj/W5e8x5Z95qty4Sovs7vEWa+2+kxoaMpfntK99vXKdUNe5t98Jb3kqX7XJ2XYC3Z6D3s2fvF+7vugEvYsataxY+s337tAt3cNadP2/a9+j9jyPHlXL2/M09tUmff2wd5jHeSyfOKSHzW323aGil9pmAAAAIIUIgAie3It0acV6feyfDqplZaFtnMALo3ronhu1oeZ8Jzj+scrqtnpLRDz5lH7rfDnjzdVac5F0aEe3HvqNNLavU1932pddW+WGyiODHe7tD911lcou9spIiy4+X43/anoDD+rgEa9X0LNGf3/NRXq53QIAAADSgQCI4DCTwLg9bIf0lfY7VBteAmJCowptXKx3N29VaHDYtsVbrLddX+Ukv83a9eCAvvOvZqbRNXrHci9U/tYJkFM548X2iuuP7VcAAAAgfQiAwERG+7TL9NSd36yvPOyVbz78T5vGlYvmrlivtbnS1z9epc896Gy/d5WWLfD2nX/Revfr4vf+u7510JaA+i4tFVMFUAAAACD1CICAX2+/Hn/W+bogTxeYCWCONundb/TKN9/4rs065L+NccZyla9eLI2NakyLteatZvIXz8tL16i+WDr4xat0+WJbAmouZU1uySgAAAAw1wiAgJG3XJXVhVLuYT20f9QNdmvvuku1S+0YwfOuVO1t3dpsb3M8MvOntOiSau/KRbW69CLvquuMxVq745C21K3R4vNsmzHWoYcGn7cbAAAAwNxhIfg0YyH4ee6F53XkG7W68iM9WnbbUd1pAiKyGgvBAwCAucBC8ECWGdtd7S4pYcKfztuk695K+AMAAEBmIwACs3Feid5R1637v96sS+f2wxsAAABgxgiAQJJyV3ZrKNSvzeuqdAEL+AFA4LmVIeEJv+IvdTu9tWQB4BQjAAIAAABAQBAAAQAAUqmuf9zar0Ptq2RWFwKAU40ACAAAMEcGt+WoqKxRX9/dqBsq893y0LLKq/Sp3YcVs0TsLw9r12eu0pVlpoQ0X1euvVGdjzxld4bLTa/XrsEefeo959vz1Gr7g8Mae6RVjfbcl9dcr87DZumhg7r7b8y5rlfoSe8cHtte1qSxP9gmAPMaARAAACCV2kvd8OVdqrVr1LaHjbVqU0Or9v7A2zH2g/t1d8NyferbNuCN9mjTOxap8a77dcQdODiqI31bdeuqi3Rr+DauDjXWVOtuJ/QZYz/YqTYnDJatatQue+7jgx269fpG7X1ysd52fZXT0qGv93m3N37zvW51HJZya69SLu8KgUDgnzoAAMAcW3T9v2vfo6Y89En9y8YrnZZRde7t1y/1vB7auV5f//FiXfeFE3rUlpA+GupUZa5zm/YOHfJO4SnepDv3Obc5dFSbK7wm99yHnLaHv6W1FzkNY1t16MdOyFuxXmtzpb339NhzPKW9/7pZY1qsNZeVuC0A5j8CIAAAQCrFjAHsVmWebfcpuGiJcs8w187WosuqdKm5+uRT+q0O62C36b07qLvfl6+LbU/ixeW12mV6Aw/364i/R3HZVVpmBhe+qFBvWWF6+Oy5X+RceflyvaXcbfKcsVzlqxc752hR6HvPO5nzfu3qdtqXrle5CYoAAiHnpMNeRxqMPPGs+v/9F7r4LefYFgCZ7OFv/kwr1+TrnPzTbUv2uee2ES29Jl8vW3CabQEwF8y4vLKGHi8Arpu4R82MAaxpl8pbT2jLSpsMR3dqw7JahSo6ta+9UPcVlarN2zOBVdqyr1NLHhp/X+H79587fH/1XSe1tthpCN9Xdbe63tChmo/cr3fc8aQ2rzjbvT2AufPgvSe05LKzdN6Fc7uYNAEwzUwAfOCeUS3Icz/mA5DhfvHT36j6pgICIIAZS00AvFKPf3yBbvhqidZ+qVNrywp1hunNizPRfSUUAE2J6WcL9e4vSrm5oxrTJn2lr1mX8jYFmHMEwHnKBMBH+p7W0pp82wIgkz3QcUxXXLuQAAhgxiKhbCJuuFul49MGwFX6k+9v1rurm3TQ2xuR+95vqe8fl8tkteQDoONwq/72bxrdcYCLPnBA/3L9Yq8dwJw6VQGQMYAAAAAZ5IzXb9JXvtmt+uoSFdg2Y6y7Twdj1opI0kWl8oYGLlZlGeEPCBp6ANOMHkAgu9ADCGC++83RDjW+9XqFlt6lb31pTUzIBDB36AEEAABA+phSUzOjqAl/KtTa62sJf0AAEQABAAACo1CLq5u1ZfcB1b/5JbYNQJAQAAEAAIIgb5W2DB3V127bpPLXsuwDEFQEQAAAAAAICAIgAAAAAAQEARAAAAAAAoIACAAAAAABQQAEAAAAgIAgAAIAAABAQOScdNjrSIORJ57VI31Pa2lNvm0BkMke6DimK65dqHPyT7ct2efum3+k/AvO1Okv4TM+AAAy1bEnfq3LrvkznXfhmbZlbhAA04wACGSX+RIACy/+E51x5otsCwAAyDRHDv5SS6tyCYDzDQEQyC7zIQDec9uIll6Tr5ctOM22AACATPPgvSe05LKz5jwAUh8EAAAAAAFBAAQAAACAgCAAZrQBbS/KUdG2AbsNAAAAAMkjAGa0QhVU2KsJ80Ljht2jdhsAAAAAPATAjJanyvaTGlpXYrcBAAAAIHkEwIxlyz/9JaCjO7WhqFq7Rn37Ynr7THup2pxroYZ8b3/dTo15O2O55/Kd20XJKQAAADCfEQAzVonWDvWr3m5F9ahxWZ9Khk5qyFy6mt2wt33Q7IseU956wtvfvkq5Zle8vFXasrdT5e2l9lhpcJsTHis6tY8eRwAAAGBeIgBmofquTSq211W83A18h44nMebPCYE3t1aprWazBgc3q6a9Si0bJwmMAAAAALIeATATOOErXM5Z5JZ42vYZCI0M22szk7tyq1oqmlRT0+QEy25V5tkdAAAAAOYdAmAmKN7klWu6lzkOYaN9CvV6V9t2TDJeEAAAAMC8QAAMtFHtur1Wobp+DZnxgL21uoXlIwAAAIB5iwA473hrB4b29E3bmze2e70ae6vUUlUSGQ8YalifVAkqAAAAgMxHAJx38lS50evNK7PjCsOzfMYY3Kyyhh6Vt26NlJx64wHNLKOb9bTXBAAAAGAeyTnpsNeRBiNPPKtH+p7W0pp82wIgkz3QcUxXXLtQ5+Sfbluyzz23jWjpNfl62YLTbAsAAMg0D957QksuO0vnXXimbZkb9AACAAAAQEAQAAEAEWO7q5NejgYAAGQ+AiAAICK3YIm9ljgvNG7WRMONAQBAZiEAAgCi3HVJ53g9UgAAMGcIgAAAl9eTZ2YPjpaADm5ztrcN+PaZS7S3z7SbGYWlJtVMNfOwwz1XXHlpuOT0oSdtAwAASCsCIADAlbuyW/taq+yWT3upbtFWDQ2ddC4n1FLhhL26ne5ao9FjmtXl7j+ptcXuUeMUrzuprroeNd7uHavRnbrFCY/1Xd26dIF7EwAAkGYEQADA1Co6dfPKcE1onkpWOIGvd1jHbctMFK/rV31vrW7ZPaBdt9cqVNc/aWAEAACpRwAEgMAZ1a66cDmnc9k2YNtn4oCOJTVTaInWdjUr1FCqRnVq37oS2w4AAOYCARAAAidPle1euaZ7meMQNtjf5F3prdV9TB0KAMCcIgACAObO4GbVtFepZa8ZDyi11bB8BAAAc4kACACYFW/twCYNTJvkBrS9pkmqa3SXmXDHA5rZQ5MqQQUAAMkgAAIAZqd4k+3Ns2MK7Qyhscy4w1K1mdlCIyWn3nhAM8vo1u+xDgQAAHMh56TDXkcajDzxrB7pe1pLa/JtC4BM9kDHMV1x7UKdk3+6bck+99w2oqXX5OtlC06zLQAAINM8eO8JLbnsLJ134Zm2ZW7QAwgAAAAAAUEABAAAAICAIABmtAFtT3qNLgAAAACIRQDMaIUqqLBXE+aFxg27k1qhGQAAAMA8RgDMaHax5jlepBkAAADA/EQAzFi2/NNfAjq6UxuKqrVr1LcvprfPtJtp1qVQQ/4U07E7Bjc7+8257LY1trvaad+sp+02AAAAgPmDAJixSrR2yCySHK9Hjcv6VDJ0UkPm0tXshr3t7gLM0WPKW094+9tXKdfsile83Lldj0L7/QlwVAN7epxj1+gs2wIAAABg/iAAZqH6rk0qtte9ICcdOj7TMX8lurq1SqE9fdEewtE+hXqrVH5Jnm0AAAAAMJ8QADOBW44ZLukcX5aZiNDIsL2WuNxLqlXe260Be39j+7sVqqhWCfkPAAAAmJcIgJmgeJNXruleulU5VwEsb7nKK3rU2GPGGHrln/WrJykZBQAAAJD1CICBlqfK1c1Se58G3fLPZpVEaksBAAAAzDcEwHnHWzswZmzfVNwxhE3quL1bobrl0bGFAAAAAOYdAuC8k6fKjZ0q761VmR1X6M0QOpkSldQ5gbFXaqlivUEAAABgPiMAZjSzrMPJ6ELweau0xdleG9NNF3cbw94uPK4w9vbjFZxbJTH5CwAAADDvEQADb0D3NfSofMVyJn8BAAAA5jkCYIANbjMloqVS10ltWUn3HwAAADDfEQADrHhdYiWiAIJjbHd10uuRAgCAzEcABABE5BYssdcS54XGzZpyvikAAJARCIAAgKjiTRoa6lYlVeEAAMxLBEAAgMvryTNjg6MloO5Y4W0Dvn3mEu3tM+1lDT3OtSbVTLn0zKh21XnnijWg7c4xW7/3pN0GAADpRAAEALhyV3ZrX2uV3fJpL9Ut2mqXljmhlgon7NXt1JizK3pMs7qmXHomTyUrnNu198WWig72qc05tuLNC2wDAABIJwIgAGBqFZ26OTJTsA1yvcM6blsSlbuyUfVq0oAvAQ72N0l1y3WB3QYAAOlFAASAwLHlmOGSznFlmYk4oGMznim0RCV1Ult/+P4GNNAu1ZeW2G0AAJBuBEAACJw8VbZ75ZruZd3cBbDi0mapvcUbY2jKPys6dTVL0QAAMGcIgACAuVO8Ri0VPQrtH3XLP8tXLFeu3QUAANKPAAgAmBVv7cDYsX2T88YQhvasV0d7lcovYb0JAADmEgEQADA7xZvUZcb21dgxhXaG0MnkXlKt8t4eheoaWW8QAIA5lnPSYa8jDUaeeFaP9D2tpTX5tgVAJnug45iuuHahzsk/3bZkn3tuG9HSa/L1sgWn2ZZMY9b+K5W6JlsyAgCA+e/Be09oyWVn6bwLz7Qtc4MewADzFnaOLugMAHNhbHeLu/ZfCeEPAIA5RwDMaOZT8mSnaE/S4Ga3hGs7qRBAqo3u1Abn90vZnmrtG9ok8h8AAHOPAJjRClVQYa8mzAuNG3bPeIEuT16hyu1VAEipvFXaYpadaF/FzJ8AAJwiBMCMZtfqmsM1usJv0BiXAwAAAMw/BMCMZcs//SWgbvlUtXaN+vbF9PZ5Eyu0OddCDfne/mlm44thyz/NxS0BnaQcdHCbuU107KA3ljD6eGJKVm3JV3T/Zg3ZXQAAAADmFgEwY5Vo7VC/6u1WVI8al/WpxJRRmUtXsxv2vJAWPaa89YS3fyalVsWb3PNFuAs2S239sYGuo12q7/LG75gwWNawRF3hx2Puv73UBs9R7bq9VqG6frvPXDapyDsTAAAAgDlGAMxC4fDlKl7uBr5Dx5Mc8zclb8FmtfdFe/v2dysUnr3PDYNVatnrn8zBCaEmRPZ2ayD8kIaGE++FBAAAAJA2BMBM4Cu9LHJLPG37DIRGhu211Mpd2egEzCZ1uGWmoxrY06Py1jVu4PPCoOmR9Jd4OpeaJvdYdwzjxk6V99aqLMnvCwAAAEDqEAAzgSm9jJRIdqsyz7ZnhBJd3Vql0J4+jQ12qLG3WWtW+h+g6QEMP3b/xX4f4Vn/upZ4QbFup57yDgQAAAAwxwiAmJbbC2h68WqaIr1/bnvBEuf/PUqo+tSE3L1eb+Cd3/25bQQAAAAwlwiA8463dqDbY2dbJuMFuCYNxM3yOV6JSurM1yqVX+Lr/XNCXZfT3lYTW945uI1yTwAAACATEQDnHf+4O29MXvwyDhFOgNvXWuUEuOkXji+ucs5Z1ziuPLV43UknBMaOA6wZWqJXu3tHtasu2l60zJsR9IP/7xx3LwAAAIC5lXPSYa8jDUaeeFaP9D2tpTX5tgVAJnug45iuuHahzsk/3bZkn3tuG9HSa/L1sgWn2RYAAJBpHrz3hJZcdpbOu/BM2zI36AEEAAAAgIAgAAIAAsyWqm8bsNsAAMxvBEAAQMTY7molux4pAADIfARAAECENzvwzHihcbOmnVAYAACccgRAAECUWbNzqHvcjL8AAGB+IAACAFxeT55ZtiVaAjq4zRsfF91nLtHePtNe1tDjXGtSjd0/6dIz8UvDRG47oO3O9Q3bNmuDb99E4/Lcx+O7zbglbEZ3xp5jgp7J2O9lvUK2HQCAICAAAgBcuSu73bVBx2kv1S3aqqGhk87lhFoqnLBXt1Njzq7oMc3qcvef1Npi96hxxnavV2Nv9Hbxtw0NFermyL5+1Tv3W2TvJxwea4Y6tS98m72dUkN+NCgObnbXG13UFT6HWafUBNPYQFvWILXsDd+mUYt6vX0AAAQBARAAMLWKTt28MlwTmqeSFU7g6x3WcdsyMwd0bJIJZspXLFeuvS6VaG1Xs3M/3Rowtx/s8MJj+6robfJW6WYTPtv7NGgC4o4mlbeeiAmVxeucIKkehfY7JxndqY52qb7LX+JaqIIKexUAgAAgAAJA4MSVYia1BMLkQW4yuSu3qqWiR43LJijdnEheocqd8Hbcuelgf5PTEC0zDV+88lPHaJ9CvVLI9AjG3KZUbd4tNLa/WyE1q2SSHkoAAIKAAAgAgZOnyvZomeTQuhLbnm7h++3XIjeozXS5idjy0ehlk8KZzvQAjt9/UlsiPZgAAAQbARAAMMdKtNYdS9ijxtvDY/zG83rsqlTgZLeCc804wyl6HfMKtcj5EhoZ9rYn4C1xMfOeSwAA5hMCIABgVrxg1aSBWS4EGBPeRnfqFlPeWdfojteLlo/6Z/U0pazhbTtmsL00trx0cHN0u3i5Ox4w9hzDOs4kMACAACEAAgBmp3iTuuqktho77i4yc2es2OUX8sdN6lI+1BLdv6xWobp+X3mqKR+1M5D6z1FUqIJw3jNrGDohMGYcYM0BLSqw+yM9j/5ztOgQk8AAAAIk56TDXkcajDzxrB7pe1pLa/JtC4BM9kDHMV1x7UKdk3+6bck+99w2oqXX5OtlC06zLZnOrANYqkOtJxirBwAIjAfvPaEll52l8y4807bMDXoAAQAAACAgCIAAAAAAEBAEwIxmyqJyklyjCwCyhRmbx1INAADMBQJgRitUwYwnJ/BCY0KLLAMAAAAIFAJgRrOLJs/ZIs0AAAAA5jMCYMay5Z/+EtDRndpQVK1do759Mb193kx6bc61yDTok0zH7hrcHDnH+NvG3keRe792lxF/bEyZargXcqfvHNF1twa3+Y5zb0dvJQAAADAXCIAZy4yJ6Ve93Yoyixj3qWTopIbMxa55td1NV9FjyltPePt9a2zFckJaTVP0dv7bukHTCZJmDa7I/SxR4+1eQHTX8nKOre+y+8x9tpeOC5uhhlopcptNKnYXbc5RzVCn9oXPu7dTMmGVcY4AAABA2hEAs1B9lwlTVvFyN/AdOp5cL1poZNheixrsqVWowglp/tJTs8CyGxAHdF9Dj+SEw7WRB+EETyeIqrdbA/6HEXMbx2DHuIWflbdKN7dWSe19TjwEAAAAkE4EwEwQU04ZV2qZoImC3NRsaDM9d77yTNMzONDufCkqnLjncHRYh5wv9aVx4xLzClWuHvlzaPm5hfaaZ7C/yfl/k2p85Z/mUmYCJQAAAIC0IwBmAtO7Fi6JHOpW5VzNhG7vd1/rAS+U+cow48Nb6jSrK/K9+i+bxATwAAAAQHoRAKHcld3uWELTG7h90Ft6IrSnb+LJY/IKtcj50tYfN2ZvdFghValgihRXcG6V8/8DOkatJwAAAHBKEADnnWkC3LTyVLnajOerVZl/YhYzMYy7XaKr3TF7Lb5SVW9CGdU1Ttl7mbtyq1oqzCQ2/pJTMzGMfxsAAABAuhAA5x0nwG3sVLkJcHaMnTdDaLy4ZR7sjKDupC2mNHSvcw53fKDdv6xb5aWFbqg0PYb7WuUEufDxdsbQadcrNOsannBCoH8cYL4ai5zQSq8gAAAAkHY5Jx32OtJg5Iln9Ujf01pak29bAGSyBzqO6YprF+qc/NNtS/a557YRLb0mXy9bcJptAQAAmebBe09oyWVn6bwLz7Qtc4MeQAAAAAAICAIgAGBumLHERZOVpQMAgLlAAAQARIztrlay65Gmhh2f7J+EakJmAqnwWOLoZcPumTzwRO8LAID5gwAIAIjILVhiryXOC42pms3Xm8nYb8rzV3RqX3g90b2dUkO+iup2JjgL8vj7mp4XGmcWNAEAyBwEQABAlJkFeKh7yiVd0svMFuyEuWlnFZ5A3irdbJap6e3WQEL5bBb3BQBAliIAAgBcXk+bKaWMloAObvNKJKP7zCXaG2fayxp6nGvR5V2mH+MXuwxNtDfN127LMmd6fq8Hs0fH/Y8/fM6YY8fflzdG0XzvUz2+UrU510Kmp9HsD/c22vGN4WNS1yMKAEBqEQABAC5vjc8qu+XTXqpbtNUrsxyya3na4BM9plldthTTXU90Cm01fSqJK9v0glmJ1g71q969lWem5x87fsD5f5UK8rwxgjXt0eOGupqd+w4HuvH35elR4zLf43OOMWEv/vGZdVPd/e2rlGvGI95eq5BZDzV83NAmTfM0AABwShAAAQBTq+jUzSvDNaF5KllhyiyHddy2zFR9ly8c5RVqkfPlULjLbjZGd+oW01tY16jK0Q419sbdV/EmddVJoT19U44RjD1muRv4Enp8Q8MJjj0EAODUIQACQODEzaCZ1CyYB3QsBZktLDQybK/NUG+tysLfx7JayfTMrSuxPYHNKonrhis4N7nwOvXjy1Plxk6Vu4/lVM6gCgDA9AiAABA4dvKTcLliNk+C4p8F1LlsifRUzrG8VdpiHkPXEjUuc8JowjORAgAwtwiAAIB5x5sMpkkDcTOxHB/pcUJjoQrsdsqZWVT3er2Bt7BUBAAgAxEAAQCzMlnYSpWkzl+8Ri0VUtsOX0/c4GbVtEv1q83ELcny1g6cbhwhAACZigAIAJgdO7mKmWHTHYuX6vLHpM5vylxPqEW+MYI1Tarvmn6W0qn5x/t5590+GDemcpk3I+gpK0cFAGAKOScd9jrSYOSJZ9X7T6P6oxfl2BYAmewPvz+p6psKdE7+6bYl+9xz24iWXpOvly04zbYAAIBM8+C9J7TksrN03oVn2pa5QQBMMxMAH97zlEr/dqFtAZDJ+v75J6p4dx4BEAAApBUBcJ4yAfCRvqe1tCbftgDIZA90HNMV1y4kAAIAgLQ6VQGQMYAAAAAAEBAEQAAAAAAICAIgAAAAAAQEARAAAAAAAoIACAAAAAABQQAEAAAAgIAgAAIAAABAQBAAAQAAACAgCIAAAAAAEBAEQAAAAAAIiJyTDnsdaTDyxLN6pO9pLa3Jty1pMrhZRTUH1LK3W5V5ti0jDGj7NmntuhK7HSTO915UqkOtJ7RlZUb9ULLUqHbV5auxqF9DM3o9zew1+EDHMV1x7UKdk3+6bck+X771xyq+/Byd+Scvti0AACDTHPzWmC5965/qvAvPtC1zgwCYZqkJgF6QaLNbYfVdJ7W22G5kZAD03rAfXx1+nPYNvDq1r32Vct3bpFIy55/JMfbnUJdoAIkPgJPf1+C2HNW0N6traJPCP9JEjO2uVlmD0vRzT+7nlfhjmunzaR9PJABO9fhiz22e345zEwvi8yEA3n3zj/SSl75IL3pxjm0BAACZ5umx3+qKd+URAOeblAZA/xtlN/A1SeG2DAyAbhDYUx3z5twNOkNJBLQEe31mfv4Jjpn0uZzZYxkfAB2jO7VhWa0WpSq8J3GsF9CWJBQ2k3k+xz2mlD2fE91+gufYMe5xu897t8oTeJ7mQwC857YRLb0mXy9bcJptAQAAmebBe09oyWVnzXkAZAxgtirepK4652t7nwa9lgwzoPsaelS+YnlMcChed1JDMwkTM5TM+RM/Jk+V7c5tEwork8hbpZtbq9RWs9n+3JwA4wT58tatMw9/hvM6GBpKIjgmKKmfV8KPKQXPp0q0tqtZoYb12jVqm5zAWdNepZaNvsedt1zlFT0K7Q/fCAAAIJgIgBnF9HDkaHuCia7g3Crn/wd0bNL3tN75ioqil8i5Ta9MUXX0TbNleoeKisLhJLztO8e2AbvHML0vOdqwe6f71buNPXawzy1ZXVQQTgG+x1K3U2Num3f89sG4xxm5D9vj0+tcbS+NPf84yZ4/7hi3t6rJudKjxmXevg27zZPknSv2eK+nKXLeyG2nlruyUfVqUo1znsFtprS3WWuSGCMY/dlEf47u43HOG/tzi/15ljnBXOb+7f6JX2/JPJ8TPKYZPp/e69K2m0vkvqfgfhjinP92c1vnvBMG6jy9ukhOUOyY5PUDAAAQDATALHZ8xLyRX6JXT5IdxnavV2jFCQ0NnXQv+9yeJ/vGvHi5E0Lie0RGNbCnx3nzvMYtDTRhwisV9I4fGupXvQlicW/KQw21Ulf4Nl5Z4djxA87/qxTJf25vzwm1VNhNn7aa9dJGe/zeTpU79+GFBN8xptTVd/7xZnn+MNN71dXsXKlSy17vGK+0sERrzffv3sgyPU0KPy7n4vZE5U8SqPy8XisTamvazVjOmY37C8td2e3+TMdxznuLttrHZb4/J+zZn1n0GDPe0HvckVLUGMk8nxM8ppk8n254c15K9nG5r7feWpX5A+IkitfZ25pS6YpO3TxBoJ7+AxMAAID5jwCYrUz4cMJDOKxNxLwZ94+L8nqewqGvRFc7b9RDe/qiYW60T6HeKpVf4hwzulMdpoxurz+c2ODS260B/5toJ5zFhwgvnCYmprfGLdVzQuXIsG2YvbSd34Qbf/li8Ro3MLX1Tx9YvABuNKskmfQ3lZgAlKeSFU7w6R3WcdsyW+n7eZlQGPt6M6/RxMqc7WvTBE1/6ec4PTpOAAQAAAFGAMwA0bI5r9yxrSZcAhdX7tgeLoN0LjVN7iyg/oA3kdhSQFNuGJV7SbXKfWFubH+3QhXVKnFO6V73le357zde+bmF9loKDQ1PX/o3G6k6f0zJoi1XTYBb+lnRrHrTO5dAD9fspbnnK2U/L19pqHPxylUBAACQKgTADGB66qLlet7yDt52XGlgpAzSu0xcuhfllXCa6fjDx8SV3NmJMRp7TADxyj/rV/t7T6Jle7GX9E06kk3ccG2DuPe8TFwyOY7be2t6qjZp7WpTCtoybixmIJmZOsOz3drX2oQlrgAAAEgaAXDeGtCAWyLqK9ezE7NE5anSDSB9GnTLP6PliLkFS5z/J18u5423ms+8wBxT/uo+h/b6pEa1a4dZvqPR+7m4ZaPhCUyCzet1blZXpKzWPscp5R+XCgAAEDwEwPkir1DlMZO6FKogZmzWgLbvkOrjx2u5Y9Ga1HG78+a7bnm0x9GdWdGUo8bOFDq4bfzMoRNxy0tTMt7Km71xTpe7GPdcTsQ+rkjpoxPsbh/WIrM0R6TN/gx84yzNxDyNTtCOhhwnhG/sVHlvrW6JzCAanmVzshlPZ8cL900amKsnNKHnM/y4oqWq5rk6XmTG9YXbZvdacMel2hJnAACAoCIAZhQz8+L0pZ0TylulLXYWSm9afRssIuMG+1TSPlHJYYlKnNBieq5aqmLXYzNrwLnT6/vGAdYMLdGr7f4pOW/6FzlfDqVgxg13hkffsgWJLLUwK3atPve5dO9z4iAWnXnS3MbMjOk8v1VemLvPPcD8PMO3cc4xulO3mLUR4yfuce5vjfkZ+Neyc6UppEXCvf25JrLUwmwk+Hx6jyv6ejMzma5dZ3tI3TJl85zbWU0nWMJkaqM6NqRx61ICAAAETc5Jh72ONBh54lk90ve0ltbk25bM464Nt6da+1K8QHu6zhsMZjKUFhXsZbxlSpjxhcu6VZ7A8/lAxzFdce1CnZN/um3JPvfcNqKl1+TrZQtOsy0AACDTPHjvCS257Cydd+GZtmVu0AMYeAO6z/RKpaFnJHflVrUo3BuGmRjb3aK28DhBzNpgT600bnF4AACA4CEABpiZJdQsDWEWcZ9uOYnkeCWQSmRdPES4PacjjbFrDGIWBpz/+tP0GkdGG9ys7UH9AMpdomampdKYnLdETdqHIMx32fS6dGemzgnu75AZ8JYcS8+8BdlocFvmPxcEwAAzY/zMVPtJjTlMWInWEmRmxF0WhOcshXgNJsP7g27HicZdsuINkXnzVuP89CO/3+wak2lbdzOZ8yd+jPfzmM0b58nuy046NeOxwNn9fIbXcE36tTzF8TP7WQX8eXSFJz7zXdI9Nj3NZv/vdWrJnD/xY5L9neA3+Wto3ONI+DVkzxl3mdFrLyWv1+kVl0o1Gf4aJgACACYx8Vqg6f3QKBXMrLym7Nc/4ZI3K+/MeG84Euv1Seb844/x3hyN//TYmyV3Nkq0tmv8uqORmYlnPFY7me/XvrFMKIyk9/n0ZieeheJN7jqlbTVx57aTfdV3JTp+O5nvM3Nel7N+Hh2D2/K912D4d4zzOs32CbuS+fc66XM8gWTOP/6YyV5HdsbtuTLuNTTN7wn/mtjOa8Wd0C7RDziSeb26oXGGYd4s8SX/7O6ZhwAIAJhfBjucN5RVKr/E/w7cm2U5fb3ryZx/Bsc4gWNoaJaTQoVn2g2vOxoJK5tiZyZOSJY/n2bm7Fl+mOGOczezEkfefHofPIT868NOK+jPY3jNYt+HNc7rNOtL9lPx73UqyZx/Bse4FWJzNYHfbF5D7u8052uiy0Ol4N99YvJUsqIqZhmwTEMABIAgM59uJlGq4n5abY6zJTXeZYJPSe04muhtfJ9wu/ucYwb9twnv95f7hM872SfDsZ9kD/Y3Of9foldH3uj4zhU+Nnzfo/778X8abtpL1eZciyxhMunzNP780z8/Ex9T5gQyswRMeNkbU6rk9QzEH2+fi/A57G2nU2yXqrll94AXVio6dfWM3wwl83yax2t6epyrkeWJJuvtSOb8iT+f4TKwyLbljYuPXsb3jMRzgpJdbsn7OcWv8zqdZL/P5F+X6X8ek3tdxqxP7Oc+Xucc2/z/jib62cR+PxP9Lor+O7KX8HMSEffYb++27TMz0b9X97Xl3F/sY4i+/id9jieQ7Pljj5nsdeR7DvyvK/tzmOjcszLuNTST3xOegnOrnP+H1wuOf/35XgcTvF7d52Wq39Omvcb8PYkuURV57cUc41zi/h26Pa6RZcEyDwEQAJAcs8Zl/3KvFMe5eOs4+v5Ymz+Qy2q1qMvb793GvMHx/YE1f1h3SDfb/ftaD7hjJ3Zt61OJ22bWfgyf1/tUddynvYN9zhuZZq1xew28NR9VUagCd6dRorVDZj3ReOa84ftxLnYtVe/NQfSY8tYT3v5JPxGf5PxTPj/jjzHjf01ZoZzvJVwOZz6pjrZHmbARWmEfl3PxyhH9z+skIutylrq9pC0bk/mUP5nn0/QqmZ+lczVSwjVZz+Psfl5hkz2fbk+Ic2wM57Vao9jSsui5p2CfT1OGZt7Az6w3dXbfZ9KvyzQ+jzN/XZboanNu983+5G/02xT9dzS0t1NyHm9sqC3VofDz4d6vnO8x+kbfBKSyhiXRMlPzPZr7jLxpN4HICR7q1L7wbVYvUcjdNzMT/Xt1Ofdn1rf17t+uaWvvf9LneAKzO3/YZK8j37/TCCdUOWG4PDIcIPbcszLuNTST3xOe4yMmOJsP/Mb/DGNeBxP9uzem+j0dOSY6HMLrnXbuywmGkefOXOL/Hdpy01Ssh50OBEAAwCTMH8LJP+F036z4ejuKS80fSt8nsTu8P5D+NzLF68ybjh6F9kf/KNavjv7hzL2k2u2hOl4a/qPvvCFYHT1v7spG5/gmDfjeKbo9fnXL7e2Hddx8epygmDfsxcvdN0Sp+4M91fMzO+YNnb9MznteYp/XybjPsblSUa2SBMrBZiK9z2caz2/e6Pl77swYHudNaFsCs1h7paDOlRmVfk4tW5/HZF6X5hjvTXa492t8EKwv9f1sbOgOfxBklvkxZbex9+v9TNyfnxMQO9rNG3jf92wCkLnP3m4NOA/NXXrJ/Hv1v4lPwfjGGBWdujnyGO2HWb3O7yvbMmtpO78JZf7SUfs72T53U4r04kUvXk9nipgPbmwJcYH7M4z9UCvmdTCp5H9PT9pz7ZPIbU4FAiAABI6vXMqUt5hPQO12bGlV3CQwk/Y0+PXIfR852qeQE8RMz4L/j79ZesaUHSWvRCV1/j/o3hiimDeIs5TeP9j2+UmB2HKvRJ9X82m+ecPcrHrn5z4XkxSk+w1Qys4fU9Jly9AySLY8j0m9Lk0AN79j9nY6ocsEwcl7Aw1vQhPzJt379z8+aER/fmP7uxVy/t3FfJhlLm5pnzGqgT1OKIl8iDSXUvOB0ORSdf640srIczeNSC9e9DJh7+VM+H/WzuOot0uZuT2B4z7UshPaDA3PsLdyut/T9gME97FM/VrNVARAAAgcU/5j/yCbP2IV0ZIZ/6foqRBTIuO7zOZ+3E9ow7NZmvLPpMaxZTevpE2+gD5Rqd940XFqm9zSu1BDR1a+eUk1N7TYN5Pe8xlfBodEJPu6jDCTdNjeQH8v/7QmCBruJdKzE/dhVuSSxola5o0JymPdn9EpEvezTlWv+4zZDy3cYQsmjI4bU5rZCIAAgNTLK9Qi50taei3c8jyvrMyUf8ZOGZ/MtPfZJjxz4tbom1d3HOR0BnRfQ49bLmXeM4XLaaOzWAZVuAfIV8Jpe7AxE8m+LuMkUHoZnejJ/nufoofH6y2cqkcn2V6igHB/hrGlld7zn1ncyWDGlaXaMeFFhQlUryQnUsLc7k0GFa/83EJ7LbMQAAEAaRAtkYkpKx3cPMEMfjMVnmJ7vTu2J365h9SNffHeXM7lVN7em9Xpej/s44qE6wFt3yHV+9vcN9GxY68Gt5W6vaXRcULRn1HkjUt4tr+0hEL7RjvRKdtTILHnMz4AmDLZYS0y08tH2mb4WrDlpLN/rU9kvr0u/ZPE2BJlNavE17MTMz7RN+6r2PnZuTOxmjJ2/2vWvI7D28XeUgHxk9H479etKhh3juG4SWDCZZDpKflL7DlOpQRfR/ZnFvkROM9/h/Pz8bel9rEn93siPN60sSf6M/QqHpzwWjWLIQITvGYT4r5+4v8+ZQ4CIAAEmSljmXRs3wTjZpzLRJ9yTsic2wkYMeMAaw5oUXR6zqR5k8U4f5TrGseVcHlvRlIx9sX35nKm33uyIm9W7fM14Ux79nFFxsL0qaR9k9aaiRnCpbG2lM597s2bWvum2T/hjis82Un8guZpCmneJEDhyT7SFZB8Eno+7eOK/JzXSxud59MumeFN424mwgjfJvEAkJ6QNo9el26vof/3TLjU0D9hi2PPervfudR4k0tFysjNOc3Ywcj9Ohcz+/C5hZHHaNa182Z3tPudS83QEr3a7nd/V8WfY8cB543/RNIU0hJ8raZOgq8jO+lO5HH1L9eWdZu0xjzWHfYxOo/djO0zt0nFv+nkfk+YoQ3Ocb6foVeOPMsyX/v9R/+OmX//vnH05mJfk/5y1LHjB9Iy0Vaq5Jx02OtIg5EnntUjfU9raU2+bQGQyR7oOKYrrl2oc/JPty3Z557bRrT0mny9bMFptmU+Mn+AS6WuicaAmE/q893p6FM9pjEQTO/VjkLtS2jSH0zGjCssG2lM4yLvAWB68uxSMqdsrFcM83unRQWzDRWY5xL/G/TgvSe05LKzdN6FZ9qWuUEPIKLckpUE1pGat8LlHeFPeBLhHLMt+ind4Lb0lIYAiBWett1fJhblfbItJjhJgvM7bUfT+J5CzJAZb6nZlZ4h47i/dyaoOgBiDHa4PdnRcvvMQwAMCG9a5nka7tzgOvsSmMFt/lmu4spPJmGOCZ0bnYCiuFSpWRwVwMTsGLWyPdXjy8T83FIz5204CXAGvE+tj6/OlN6WbEUv0XxEjy4SNdiv2DUlMxABMCC8MTGYlLtQ7PjxMV5wnqRXzx1T06w1/k94zHgazc3aWkAgmWBnPqRJ5I9r8SaCzIyYcW6Ev9kzY5EIfylh/71nwmvSne2R8IcEFK9LrBPhVCIABoUZ4MwfpMnZ2ZoKEn5+vDKp8QvHhmcnnLvZ2QAAAIBEEQAzijcGLbaU0WsbNxuULYOKzIxktyMzEvlu7/Vimfb4EtDYWYw27Dhg2yfh3odzjkH/fYV7x/znir8f+z1MtH+S8k2zmKy/583bjl5mPMtU/PPjO7f7/NSYNW3CM4R5+9xyj4Ye51p0JqrI47RrRE20vovb2xqZOQ4AAADIHATAjJenSjOFctziloM9tQqF13MyIWpZrdR6QkPu+LUTbhlieKpqU7ZgpueN4QaiUrXV9dtjTurmFXbflJyQtEO62R6zr/WAO+Zt17Y+lYTvu8IEKX8w9I+tM8fIDVpumApPQd7vX3vHlmN2mS50LzzWDEWPN1M1KzKFdALs82NmEQt/r111JtR5QTSyiKej3r2N13Uffd6a1WWPi5ShuD2G0qKJugzdNWPi1i0CAAAAMgABMBsUL3cXt4wuQmnWzZHKV5jJR2wpYszivnZtlynWqgkHyH2+evZExwn6x8l5a3HV6nhpuN7ZBla7Bpc3U1+VWjb6jlm51Rf67KLNvjWnxvZ3RxeBNTMp9ToBzD/ex67Jktg6Vd7zE78+i7fGTBILe1ru+i7TiC6GCwAAAGQGAmAGiJZo5jthx7cIaKRMsURXu4tQ2inNB/vc6c+9yUeGddyUIrph0CevUIucLxP3QvkDZHodH+mZYCHMPL26yPkyNOyWqeaubHQX/OxwyzpHNbCnxwlsa9xAOdhvSjOjJZjhi1eamQBbqhmzELV7KXWeQwAAACBYCIAZwC1BdEsMTflkuAwxWoro3cYLSQOD4R4tLyDNDzbgmolTbI9fzMyavhLM2EvisyyZHsDxx59kkWgAAAAECgEwa3ghqa3G9BL6A1KhCpzQOG7WydFhHXK+TDhGLXzMHJQoFpxbNW78ounlOzbkfCkq9JWFOgG3t1ZlNbHh1j3elpMmxfaEpvp7TaRcdqIJYgAAAIBTiQCYRdzxduZKzNID4Uli/LNOjmrX7d4Yv6sn7CILj7srjZlNM5FxbTPl9Vz2qLEnOmHL2O71ToitUkuVfz2dEpXUma9VKr8kGlq98YL+SWUMMzGMf3sqJVprJniJ+17NxDCJzCTqBb0JxlK64zInKbF1J4iJ/T4AAACATEAAzCjTLMKbt0pr6uKDk8Os8eeEnOjYQTvr5hQLJYdnvvSPjbtlj92ZUmZB3H7VOwEsfD9lDVLL3vFrEhZXdaq8rjGu3TwnpjTWPw7Q+f6KClUQl72i33/04oY8+/zEjAOsOaBFBfbAqTjHdjnBNHLuyPIak/eiukF63LhHAAAA4NTLOemw15EGI088q0f6ntbSmnzbgnnDLC9RI3XFjEU0vZP5Cq04wfjCLPVAxzFdce1CnZN/um3JPvfcNqKl1+TrZQtOsy0AACDTPHjvCS257Cydd+GZtmVu0AMIJMvtHQzPXmqZSWzkX5IDAAAAyBwEQGAWitedUPlIdAKewX7FrlkIYAqmxzxHRduiY4Szz4C2Rx6//zoAAJmJAAjMSp4q10UDX/G6xJemAOY3JwyZcbPzOhCZAFsqlYbHZZc4/8VNOAUAQIYhAAIA0sCbKGk+c2c0Vuxsy2YyKzWs1y4yIAAgQxEAAQBp4M1qPLQubtbieWNA9zX0qHzF8tiS77zlKq/oUWg/CRAAkJkIgAAQZGY228jyJpZpK8rR9rj1Lwe3meVQwmtw2vF74aVViqp9vV62/HOCEtCx3dW+Y9YrZNsn496ncw7vvr1LuMQy5lzxpab2exi3f3SnNjjb8WWa3rl834O9XfQccWuPDvapzfmyqCB+wqc8vbpICjV0JLhWKQAAc4sACACIVbxGLRVSW78vVDmBqKNdqu8y41xNwLPrjQ6d1JBz2dcqNS4Lh0a7/qd7YJQJcd46oN4xQ0ONWtRrd06lvVQDpeFj+rWoIV/bd+/UfdrqtXU1u7eJCYY1Tc5jjR7jrkVqgq67nqoT0PZEJ2+K9Oa1bvXWITXhcVmtFkWOP+nO+FvjC4juep+q0rj85yg4t8r5/wEdi82YAABkBAIgACBOnkpWOCGmvS/SizW2v1shNauk2ASsFrU54adlY3QCpNyVW8eHRr9IgOz2QpYrwXGCFf5xdiUqcQJc2x7p6vByKzawhkaGnQ0vzKmuX2t9x6w1IbG3WwNOKCsujV53ub15VSq/xJxvVLt2NDlh8ITveDPBkwm00dLO4yPOfUypR8cJgACADEQABIDA8ZVo1jQ5YahWZXY73IuWu7LRCTzhdS5HNbDH9JCtcWe5dcNPRbVKYnq/vNJHDQ3HlpNa/gCZVqPDOuR8qY/MzGnlFao8HMrcwNijxh4vrA72O89BXaMXTEf7FOo1JZz5vvJPcyl1Sz4BAMh2BEAACBxTomnLG03PWEW0lHNLuFfNuc3VrVVeqeRghxp7m7Umsi/b5alytSkb7dOg2zNZpZaq2MBoegDD5Z/+S/T5AQAgOxEAAQATcnsBTe9gjSmJ9Hr/DHeMm7+E0jWqY0POl6LC2FkxrdyCJc7/52BcXF6hFjlfxpWijg4r5B+z5/YCNqlmWa1C4d4/wx7vlZNOzhvnN5WJxwcCAHCqEQABAJPwxtuZMOONj/N45aHREkrDXROvd3xPWkTxcu+YZf7ZNId1PJFJYGbE67lUe0vsrKSm1NUf9MLjHB2x5aJ2vKBvUhnX4OaY7dxLqqMlpXEmLpEFACAzEAABIMiKN2moPTqZSzyzsHl5THAy7CyfZmZNO0bOm93TP8FLPHPMCa/XLTKurkWH0rBYfO7K7sispJHxe3X949YkdINszAQzlnlOnBAYMw6w5oAWFdj9hu0pPDQuAXo9oePWBwQAIEPknHTY60iDkSee1SN9T2tpTb5tAZDJHug4piuuXahz8k+3LdnnnttGtPSafL1swWm2Belglpso21Otff4AbdYPXNat8inDMAAA0oP3ntCSy87SeReeaVvmBj2AAAAkwV36QrW6z7fi+2BPrRReTxAAgAxEAESUWfzYt9BxoJlP8YvCi1rPxoC2bwuPk/JfB5D98lTZ3i9FJpwZcP7rZ6ZQAEBGIwAGhClVmrfhzg2u4bE+4Uv89zqqXXVOe93OCdcoSw9zn6VSZIKJEue/uIklAGS5Eq2NjC30XwcAIDMRAAPCm4J9fqvv8q3X1bXEnQAi2oNnF6lOKRsqJ+nVc2dFVOwEE2ZCDTWsp5cVAAAApwQBMCjMrHZDAZqUwJ1yPnYtsOJ1TjCcYrbD1BrQfQ0942cCzFuu8ooehfaTAAEAADD3CIAZxetRih13Nknpoh2jFikntNuREkjf7b3yT9MeXxY5oO2+YzbsOGDbJ+Heh3OOQf99hdf08p9rkvLLifbb8s34sXaD28ztouuFedvRS6JllOXnFjr/991/zPMY+/17l2meo8j9mnPmq9GsYRaZCt+3vtlgn9qcL4vGrQTt9USGGjp8a6EBAAAAc4MAmPHyVLm6Wert1oAvmJiZ5kIVnbrZTDZgQtQyM/PcCVsCecKdma7MBhJvTSxvweMIN8zZtbFs2eTNK+y+KfWocYd0sz1mX+sB1Tihate2PpWE77vCv9izCVBOUFKn9kWO8dbnckNf8Rrn9rE9deaxdbSbks5NKrbhrWYoevzQXlNGmT9p6aUxuM353iKLV5uJGszj8vZ5zOMq1SH/c2b2VyzRq70buNpqwt9X9H69sOo7Z+Q5NI/XM3bchOkqjct/joJzzc/igI4llmEBAACAlCEAZgO3nNFfNjigAScgeeWFTkDa0eQEFxsGXU442dipcjVpYJJupnCA3OebsCDRcYL1q6NllLmXVKu8t1bHS8PhxwZWG3DGdre4Qaxlo+8YM3V6JPTlqWSFE4ja+yI9YmP7uxVSs0rMCQc71NjbrC5/6WbeKt1sAq3vGKOtJtpT5wXGKUpe3R66cEA07OPodR63bTG8EGpNuvDzeMdHeuy1yfQogdMAAAAAKUUAzADREk2vpDAaZMK9aCW62gk8kbJBN7w0a40b+IZ13Dlm/FizqcKKP0CmlxuEKqpVEhPE7IQsQ8NuOWbuykYn4Dapwy2vHNXAnh6Vt65xg9dgvxNunX01NtiFL2UN4wOWNwmM7ZXrdZ4XrznlQiPD9hoAAACQXQiAGcCUaPrLEKOzWUZ7n8IhaWDQ6/ELB6T5wQbcPX0asz1+XrgNa1ZXuAwz5uLrnYuI9n7WTLXm3rheVS94jg+rAAAAwPxBAMwaXkhqqzG9hP6AVKgCJzS64cm2uEaHdcj5Mn4SEsMeMwc9We54t7jxiyZsHRtyvhQV+spCnYDbW6uymthwm9R4uUiJaMsUyy2UaG1Xs0JmLKHbq2jHKaZollDvcU9l4vGBAAAAQDoRALOIO97OXKlb7uv5smPunPB0X2RA3Kh23e6N8fOvQRcVHncXuyi5N3FJank9lz1q7In2xrnr4/VWqaXKv2ByiUrqzFf/uDxzvBkv6J9UxjATw/i3x4vc7+2TLfzu9aTGrB044/BnS1njxiIa3s9q4nF+E5fFAgAAAOlHAMwoZmbJk1o7WW1n3iqtqYsPTg6zxl9Xs2/s4PS9WW7ZaUwPWI5u2WN3plSJ1g71qz6yVIIZvye17B0/QYtZJL28rjGu3TwnpjTWPw7Q+f6KClUwZa+g18NngnHZFKWg/olj3Ev8chvTKF7nfG++MYqRQD3pGEyv93Muxl8CAAAA8XJOOux1pMHIE8/qkb6ntbQm37Ygc0WXhtgSMwYxOWZyn7I91bFB3Cy/saxb5RMEYGSGBzqO6YprF+qc/NNtS/a557YRLb0mXy9bcJptAQAAmebBe09oyWVn6bwLz7Qtc4MeQATW4La4MlI7bjJV3PJV+UtznfvsMes1biX8AQAA4JQgACKY3MXm45aXWFarRV0nU9L75zHlq/1SZJH7Aee//hSeH8h2Zjyv829vqhl7rehyOTnaPtUA4FlxHs+2aBn4uA+JAACYBwiACKa8VdoSs6SEd5l0/GXSSrQ2sti+/zow35mS6sTC3bQGN9uxw75/p05bqsPg4LZ8hc6Njs8tLpVqZjguGACATEcABACkgbfczOx5M/YqfoKovEJvVuRUcQJlTXvcGqTFa9wy7lt8syUDAJDtCIAAgDTwZjUemnWv97CO90rl5xbabcv24qem1z4cMv1L7Bjekjnj1lkFACCLEQABIMhMKWV8meMk5ZWD28wYvPC4ODt+z47LKyqq1q5IR5kt/zSXuBJQ/1i+oqL1Ctn2CZlZc4tK1eZcDS9Z4z4m+/gi24bb5jyG3dF90fv2PR734n+sjtE+hSYKmY7cgiVx66wCAJDdCIAAgFim9LFCaotMYORwJ06S6rs2qdgNVHa9UTt+dl+r1LgsHMjs+p/ugVEmQPrH8g0NNWqRE7wm5fby2fPU9UfH/9m1T8frUaNz/i77mNzeRxsizfIu3n3GP1bH6LAbRBcVTDBBky01Hb+mJwAA2YkACACI45U+qr0vMgvm2P5uJyQ1q8QJYGO7W9SmKrVsjK5x6S57Eh8a/SIB0r8GZqrGCUZ5ATXKLL0ScsKjf/bd+Mc6dvyA+3UqoZFhew0AgOxGAASAwPGVRNY0uSWOZXZ7g53wJHdlo+rVpA53e1QDe3pU3rrGDVfHR3qkimqVxHSY5enVRc6XoeEJx8v5A2T6VCm2E29AA07oVHupr/zTXPLVOFXPIwAA8xgBEAACx5Ro2jJJU0pZES3ljPaUlejqVjsBymCHE5jiZsjMJrZ8dNyFZVkAAAFEAAQATMjtBTS9gzVNkd4/o+DcKqm3WwMxw+JGdWzI+VJUGCkL9XMnU9EBHZvToXS2xHSSXskw77FNbaIJYgAAyEYEQADAJEpUUme+Vqn8Ev8YOlMe2qPGnuh4v7Hd69XYW6WWqkl61YqXe8csC88ianhLPKRPnio3dqrchFj/bKRmYhj/tvvYJpnoxZ0gJvb7BwAgmxEAASDIzIya7dHJXOIVVzkBKn4R9vAsn76xdd7snv4JXuKZY06opaJJNZGxeC06lOJJYMYxM4nudb4H/zjAZbVadG6hr1fQ6ymcaKIXd4KYceMdAQDIXjknHfY60mDkiWf1SN/TWlqTb1sAZLIHOo7pimsX6pz8021L9rnnthEtvSZfL1twmm3BtMw6gjVmCQn/LKJmrcN8hVaciJlFFACAVHjw3hNactlZOu/CM23L3KAHEFHhhZSnHaPjm0EwfgHplHLux7+Qc9yC0gCQMsWb1FUXnvXUMpPfqFM3E/4AAPMIATAgxnZXJxjupmM+ES9VW3hWPbd0zLSlOgx696PS8HiiEue/0sgU9QCQasXrTqh8pC/ye2ywX+qaojwWAIBsRAAMiERmuUuIOx18/EQPdv2vFHInlFCnrvatGWbGIqlhfQpCLABMJE+V66KBr3hd7KLyAADMBwTAoDATPQxNNUFDYtwJEbREr447T/G6cG9gKgzovoYela9YHnu+vOUqr+hRaD8JEAAAAEgGATCjeKWU26NzpDsmKa8005gX5URLIu12ZJY73+298k/THl8C6hvL51w27DDhbnKD28xMfz3ONTuLn3sf9vFFtg3btm1ndJ/vvqOPx17ix/YN9qnN+bKoID6tej2NoYYOPW5bAAAAACSOAJjx8lS5unncosuDPbUKVdjJCczkLctqpdYT3rg8M9W6alVW5K23lbuyW/taq7wDw9zA6BvL51xuXmH3TcL08nnnqVLL3nCPn/P42s3U7t5tYrQ7j3FF+DF5vY9eiFyiLnufQ+Gp5P2B1e1lrNK4/OdwF6DWAf30/7xtAAAAAIkjAGYDu4BytPRxQAPtsiWSo9q1o0kKh0GXXfxYTRqI6U2MCgfIfeuiY/lSNk4wLOYxOZzQ2dFuwqN/XE2J1nbFBtzjI6aXcSo9OvEzexUAAABAwgiAGSBaEpmvxl6prSZcHun14JmQdHVrlVv66G67JZLNWuOGq2Edd44ZP16uUIucL4eOx9R8Wv4AmUZFhTHnH9vfrZAT3hqXhb8/e6lxAiwAAACAtCMAZgBTohkp3ayQ6rvC5ZHRnrLclY2qd3v0vB6/8tY1WTo7nS0fjZSAhi+zn6AGAAAAwNQIgFnD6wVsqzG9hOHeP6NQBU5oDO2Jrl3lGh3WIefL+IlUDHvMyLDdnhteiWmPJuyU9PHG+U2lSvmvsFcBAAAAJIwAmEVyL6lWublSt9zX+xeeJKZW90XG+41q1+3eGD//OnpReSpZ4YSs9tiF1b3JV9KoeJO66kyJa+xspIPbYre973PioOiOD6yo1hv+zDYAAAAASFjOSYe9jjQYeeJZPdL3tJbW5NuW2TFh6VjVBOWSZiZQ/1g6M8GLb10+M86wrEFq2es7Nu6Y8ooqhXrjbhNnwvO4yz7kuwu3e/dpt4v6NeSbZCbMzARa0243jIpmdW3cpOLI+czyFKU61HpCW/yTyNjzmplFY9uB1Hmg45iuuHahzsk/3bZkn3tuG1HJ2xfaLQAAkIkee/AXWnLZWTrvwjNty9wgAKZZqgNgULhBc091TIh1l65Y1q3yKQIqMFvzIQB2tR631wDMF2M/H9PL/+TlOv307P3dBGC8S6/6UwLgfEMATJbX23d89UmttWWspuew41x6/5Be8yEAAph/rrvuOjU2NmrRIjPHNwAkjzGAyFBmgfl+qX/Abg84//UT/gAAAIBZIAAig5VobWQMof86AAAAgGQQAAEAAAAgIAiAAAAAABAQBEAAAIAMl5OTo6NHj9otAEgeARAAACDDmUnbzz//fLsFAMkjAAIAAABAQBAAAQAAMtxzzz2n3//+93YLAJJHAAQAAMhwv/zlL/WqV73KbgFA8giAAAAAGe7JJ5/U2WefbbcAIHkEQAAAgAz29NNPq7y8XC960YtsCwAkL+ekmVYKaTPyxLN6pO9pnVPwEtsCIJMdf+JXuuLahTon/3TbAgCn1g9/+EPdcsstuueee2wLACSPAJhmJgCeGH7ebmG++N3vfqeue7v097V/b1swn7ym+GUEQAAZIxQK6cEHH1Rzc7NtAYDkEQCBJDz77LNauXKl+vr6bAsAAOnR3t6uBQsW6F3vepdtAYDkMQYQAAAggz366KN63eteZ7cAYHYIgAAAABnKVJwcOXJEF198sW0BgNkhAAJJMH+QzzjjDLsFAEB67Nu3T29+85t12mmn2RYAmB0CIJCE3//+9yooKLBbAACkx969e1VaWmq3AGD2CIBAEvLy8jQ8PKxnnnnGtgAAkFp/+MMf9J3vfEf/3//3/9kWAJg9AiCQJBMCT5w4YbcAAEitb37zmyorK9M555xjWwBg9giAQJJe9apX6ac//andAgAgtXbv3q0rrrjCbgFAahAAgST95V/+pR5++GG7BQBA6jz22GP6+c9/ruXLl9sWAEgNAiCQpDe+8Y3u4HwAAFKtq6tLVVVVdgsAUocACCSpqKhIr371q9Xf329bAACYvcOHD7uLv7/jHe+wLQCQOgRAYBYqKir09a9/3W4BADB7X/7yl7Vq1Sq9+MUvti0AkDoEQGAW3v72t+vHP/6xnnjiCdsCAEDyTFXJsWPH9Hd/93e2BQBSiwAIzNLVV1+tu+++224BAJC8O++8U6tXr7ZbAJB6BEBglsyntGY9wP/8z/+0LQAAzFxnZ6cWLlyoFStW2BYASD0CIJAC1113nT7/+c/bLQAAZuYnP/mJ7rjjDt1www22BQDSgwAIpMBll12mxYsX63Of+5xtAQAgcW1tbVq7dq0uuOAC2wIA6UEABFJk3bp1GhgYYG1AAMCM9PT06Fe/+pXe9a532RYASB8CIJAiZ511lurr69Xc3KyxsTHbCgDA5IaHh9XS0qKbbrrJtgBAeuWcdNjrAFLgK1/5ir73ve9p27ZttgUAgIm9973v1fLly1VTU2NbACC96AEEUuzd73638vLy9OlPf9q2AAAwXmtrq175ylcS/gDMKQIgkAYf+9jH9MMf/lA7d+60LQAARJlxf48++qg+/OEP2xYAmBsEQCBNNm3apHvvvVehUMi2AAAg/dd//Ze75IP5O3HGGWfYVgCYG4wBBNLo4MGD7sQwn/rUp3TppZfaVgBAUP34xz921/rbuHGj3vKWt9hWAJg7BEAgzb773e+6JT5mUpi/+qu/sq0AgKB55pln9L73vU9/8zd/o6uvvtq2AsDcIgACc2DPnj267bbbtGXLFr3+9a+3rQCAIFm/fr0uvvhid+ZPADhVGAMIzIEVK1boQx/6kLvO02OPPWZbAQBBYf4GFBYWEv4AnHIEQGCOVFRUuG8AbrzxRh04cMC2AgDmu5tvvlkvfelL1djYaFsA4NQhAAJz6IorrnDfCJgyoH379tlWAMB81dzcrBdeeMFdHggAMgFjAIFToL+/353+28wCV15eblsBAPPJ5s2b9atf/Uq33367bQGAU48ACJwig4OD+uhHP6p3vetdzAYHAPOM6fn79a9/TfgDkHEIgMApdOTIEbckdOnSpe66UACA7Pfxj39cv/vd79weQADINARA4BQbGxvTLbfcole+8pVuSSgAIHuZ3+MveclL3A/3ACATMQkMcIrl5ua66wP+9re/1T/+4z/q+eeft3sAANnC/A6vr6/XWWedRfgDkNEIgECGMG8YXvOa12jNmjUaHh62rQCATPfzn//cnd35ggsu0Ic//GHbCgCZiQAIZJB169apqqrKDYEsEwEAme/o0aPu7+7S0lJt2LDBtgJA5mIMIJCBTPj7xCc+odWrV6umpsa2AgAyySOPPKKPfOQj7iRe1dXVthUAMhsBEMhQpgzUzCBXVFSkD3zgA7YVAJAJHnjgAd16663uh3XLly+3rQCQ+QiAQAYz04jfdttt7kyhZlrxc845x+4BAJwq//zP/6z77rvPDYB/9Vd/ZVsBIDswBhDIYKeddpo7OcySJUv0D//wD3r44YftHgDAqdDa2qrvfOc72rZtG+EPQFaiBxDIEn19fW5v4Hve8x7GBQLAHHv22WfdD+TOOOMM96v5gA4AshEBEMgiZlzg7bffrvPOO0+bNm2yrQCAdPqf//kftwzfzPRplnsAgGxGCSiQRQoLC3XnnXfqxS9+sTtD6JEjR+weAEA6mOqL66+/Xu94xzsIfwDmBXoAgSzV3d2tz372s25P4JVXXmlbAQCp8uUvf1k9PT366Ec/qje+8Y22FQCyGwEQyGL//d//rU9/+tO65JJL9P73v9+2AgBm4/e//727vMMvfvEL90O2vLw8uwcAsh8loEAWMzPQfelLX9Ivf/lLve1tb9PRo0ftHgBAMn74wx+6JZ8vf/nLtWXLFsIfgHmHAAhkuTPPPNOdke7v//7v3aUi7r//frsHADATe/bs0Zo1a1RZWamGhgbbCgDzCyWgwDzy6KOPurOEvulNb6IkNI2OPvZr/e/Ib+wWMHdOf0mO3nD5AruFVPriF7+oUCjklnyatVcBYL4iAALzzG9/+1s3BP70pz/Vhz/8YXfmUKSWCYDff+gZLcg7w7YA6ff7357Uy88mAKba008/rc2bN8u8HTLh7+yzz7Z7AGB+IgAC81RXV5e2bdvmhsC3vvWtthWp4AbAgWdUVs3YIMydR7/zCwJgij3yyCNu+CsvL9f73vc+2woA8xtjAIF5qqamRp///Of1T//0T2pra7OtAADja1/7mj7wgQ9o3bp1hD8AgUIABOYxM0uoWcfKlDiZNzg/+tGP7B4ACCazxMOtt96qb3/729qxY4f++q//2u4BgGAgAALz3BlnnOHOEvqWt7zFnSXUrBsIAEH0+OOPu78HX/rSl7qTvpx33nl2DwAEBwEQCIi/+7u/cyc4OHjwoD75yU/qd7/7nd0DAPNfd3e3brjhBrc8niUeAAQZARAIkBUrVmjnzp168Ytf7K4b+F//9V92D2Ysx34FkNFMyaeZ6MWskWpK4s0afwAQZARAIGBycnLU2NjofhL+8Y9/XF/4whfsHswI8ycDGe+xxx5zSz5NKXxHR4de+9rX2j0AEFwEQCCgLr/8cnV2dur48eN673vfqx/84Ad2DwBkP7MUzvr16/XOd77T/dALAOAhAAIBtmDBAjU3N7trYJlPyc0bJgDIZr/61a/0sY99TN/5znf0la98RVdddZXdAwAwCIAAVF1drX/+53/Wgw8+6C4c/7Of/czuAYDs8dBDD+ld73qXXvGKV2j79u0qLCy0ewAAYQRAAK7zzz9fW7du1Wte8xp3gpgHHnjA7gGAzPelL31Jn/jEJ3TTTTfpxhtvtK0AgHgEQAAxrr/+eneZCDNb3kc/+lH99re/tXsQg1lAgYwwMjKiDRs2qL+/3y35NGueAgAmRwAEMM6SJUvcCWLOOusstzfwe9/7nt2DiFM2C+hTOrKnVbfWleryohwVOZfLa6r1qe4Bjb1gb3Kq/bhD7y66UXt/abfDBjerrKhJg3YTmK3du3fr2muv1aWXXqodO3YoNzfX7gEATIYACGBCf/RHf+TOnPe+971Pt956K8tFZIJnD+rutRfpyhsb1dk7oOO2+fhgj+7+SIcOxAeuU+SXRw/qIW3VQ489b1s8hwa7NaYB/fDHtgFI0u9+9zvddtttuu+++3THHXeotrbW7gEATIcACGBKy5cvdyeIYbmIU+15PbT1Sn2qb1S5b25Qyzee1KNDJzXkXB7tO6AtOxtUvsDe9BQ7/oNu9+vd/f36jXvNcELhNw46X/t06OhTXhOQhEceecSd6OX00093Sz7/8i//0u4BACSCAAhgWvHLRXzta1+zezBnftypu+8alXIb1PqFFlVedLbOsLvOeNVilb/hIrvl+MlObbDloZES0d2HFekgHPX2b9o9oNBnrvJKScsWqXHb/To+OqC7GxapzLSVl2rTPQd9Ic4x1qe7PxIuPz1ff/eRzQod9ff0DevIY87jNL7Rp4Phg398QHsPe1cf+MGwd8Ux2B59nOYxvPsjrXpozO50DG4z7Y36+u5G3VCZ796urPIq9/uJPq4BtYXP4e6/XJvu6vOVxD6vI3s2a1PN+ZH7uaHuKl35rkaFIr2RT+lI3H3ces/AuOesqOhGdZrblZvr+Rr48a/sDTAXzNhkM1Px6tWrWdsPAJKUc9JhrwPAtI4eParPfvazeulLX6qGhgZ3uvWgOfrYr/X9gWdUVp1nW9JvrLdWZXU7lVvXr33rSmyrF5Bq2u1GRaf2ta9Srg5qe9kStfmClJSn2i8c1scuO9sLM8tqFbJ7phY97jffb9UN722MCWieEn3oG/26zmTQ3/TpUxdfrrvd9jzVd53Q2mLpeLcTND9yv9uqFZ361h2rVOBcDX9fMYpb9C9dDVrkXI35/mL4vh+NKvTBfG34V29P2OKNB/S1f1gce99+Fzn38w1zP87xTqjd0B0NpmG57/x3ffPjV+rlEz1nuev14Lfv0MLT7XaaPfqdX+jlZ+foDZdnSFfvHDpx4oQ+85nPKCcnxw1++fn5dg8AYKboAQQwI2a5CDPm5i/+4i9YLmIu/d7rZVtybiLrmi3W2n1eeejQ0HNOKFzvhMJRde7tj/ZouUq09ksn3Nt967Yqr+miBt3pHvukvrJusdPgHHfYdN0Na1e7CX9V+tg3nrTnPqmH/6nZubcBfarrfu/c7vg/x7UNui7XCVb7TdnnqA4+6ASwpZu0tsLZ3HNAx233Xa4TWsPnGnqoXx9a6jQOduoh21sYtuj6f9e+R73H9S8br3Ra/N9Pnso/bc9hHlNXi5Y5rQe/0adDzu0Ofc8Lf9d9wT7ug9/S2vOdhsP9OjLqZNbv3aFbnPAXvQ/n8uhRtbw9T2NfbdLXYx5Lnio/cUgPm9vsm7vwF2Tmd4wp+bz44ovV2tpK+AOAWSIAAkjKmjVr3OUi/umf/sn9+qtfUQo3F46PnbDXPMXrnCCyt1Pldtv1wqgeuudGbXBLHv9YZXVb5XbaPfmUYhf1uEpvWer1YhaUVXvnOG+JXudOpHi2Ll1Wba54xpxg96C50qNb/2aBV0rpXN74riaZiKevHtRRc7MfH3BCl1R5SaOuqM3Tod1OCBvtU6hXKn/7jSpfZO7PjAM0B0m//J8ebf/I5bqyzDnfpaX6lHsfB/WbmLpT5/FdtES5bs3r2Vp0WZUuNVcj34+ZGXWzNr3LK119Y02j9prmw887+/O0ZLnpFZXufp993Isv13Zz/845X71AOjLY4T4/h+66SmUXe99X0cXnq/FfTSnrQR00KTFijf7+mov0cruF9PnDH/6gj3/8427Z56c+9Sm3/BwAMHsEQABJM8tFmAlizDpc7373u/Xd737X7kGq5V5Q6pZEHvpGtwaf9domNqrQxsV6d/NWhQbHlzQm7ffPx44FjOckLNMZdnzIlHPm6YKCPBVf1qhFh+/X3p5+hZzgVFmWp1ect9zZf1CHfjyq33x/s25YWa227j4dGVdWOoUz/tgXwJ7XoS9eqStvbNLXv3fYC7pxcis69KUPmPsNK9Ti6hZ17dikYidU/tYJzFM548X2iuuP7Vekk1l6ZtWqVXrqqafcD5nM7xoAQGoQAAHMihmTs23bNtXX16utrc0t0XrhhUxZkG4euahW15nyycObtb5hs/ZGZtJ8XmOHD0SWhNBon3aZnqvzm/WVh71yxof/aZMbHmcl7yItNmP8cldps28G0shln7mPYf3wv82Nq7XoXOfLRctVeVGf2tq3Kve9q7RsgXN4wSK3N27X0LAOP+j1HlbedtQ736Gj2my+xxk5qL2fHXC+Oo8r9Jz3WPruiu0RPbxVt36mT7rmLn3LfU6O6mu3NajYDqU7/6L17tfF7/13feug/X58l5aKuRvrCbkl5mbSqfe85z3u75TTTjvN7gEApAIBEEBK/L//9/+0c+dO/f73v3c/uR8YMG/KkTp5qvzgv6u22EzE2aQb3houw/xjlb2v1S27zH3pS6QFebrAJKyjTXr3G71yxje+a7O7X739enzK3sOpLNbb3rdKuWM7telvFuhi9769yw3hyVN+eViH9jlfLyrUn7lddItVfq0Zr5enq8tKvVlLnSDpTmHz34f0+4VmnxMGP3K+d75F52tTr9ukh9xxh4nI05+ZcYNyHlf5H3uPafn1drKWPj1+1CtLdctU771el9vnxJ0J9DM7dcR5Pl5eukb1zvN68ItX6fLFdr97myY9NGW3J1Lp4MGD7li/X/ziF+rs7NTll19u9wAAUokACCBlzjjjDH3oQx9yF4834wLb2yecvhHJetWV+tiXjurOpvVa9hfhXqlCLa5Y77Z/87Yq5Z6xXGvvuku1S+1kMeddqdrburW52tnOPazjs1iE3UzY8s2dd6h2+UVuL17Y3t4+rwdy5KDcKYHKFusC89VRUFar8osaVf5mJ5wauYVaZHoS9x3Ur1fcoa/UrfICqykbXdmsLa3NutTZPn5kOG7CmskU6h0f/5bqV9rHlHuRKuu61fKPy53tYR05/pRyl96oD4Wfj7Cxw9p7V60+9U0nvJ6xWGt3HNKWujVafJ7db4x16KHB2MXskR5f/OIX3eUd3vnOd+pjH/uYXv5yRlkCQLqwDASAtPj1r3/tlm8dOnRIdXV1etOb3mT3ZL9TsQwEZmNYu27v0Bk1ThA93ywb8bwOfXm5/vb2AeX+4wHte6+Z7TTzzcdlIL7//e+7vyfy8vLcMvLcXP9HCwCAdCAAAkirPXv2uG/w3vrWt+rGG2+0rdmNAJhdjv9rtS7/YI/d8itRfXef1r7e9k5muPkWAHfs2OFO8GKC39vf/nbbCgBIN0pAAaTVihUr3LGBZlyPmSn0wIEDdg8wNwre3qH772jWO4ptGWjuRbq0ullbvpk94W8++cEPfuCWiT/xxBPu7wbCHwDMLXoAAcwZ82l/+A3f2rVrbWv2oQcQp8J86AE0y8Z84Qtf0E033aRrrrnGtgIA5hI9gADmjJnhzwTA0dFRrV69Wv/93+6aAQDmueHhYXcs8COPPOLO8En4A4BThwAIYE796Z/+qW655Ra94x3v0Ac+8AHdeeeddg+A+airq8tdGubSSy/V5z73OZ13nn+qVQDAXCMAAjglrrrqKrc3cGRkRNdff70ee+wxuwfAfHDs2DE1NDToP//zP93ST7PEAwDg1CMAAjhlzJTvzc3N7phAMxNgR0eH3QMgm3V3d7u9fsXFxdqyZYsuuCC8MiQA4FQjAAI45SorK93ewB/+8Id673vf664dCCD7mPG9ZkH3//iP/9CXvvQlXXvttXYPACBTEAABZISFCxfq9ttvd9cL/PznP++uEQYge/zrv/6rO773L/7iL7R9+3ZdeOGFdg8AIJOwDASAjGPGBW7btk1PPvmkO3PgokWL7J7MYJaB2P+tp/S6svmxIDeyw9FHn9Er//z0jFsGwvT6tbe36+c//7n77/V1r3ud3QMAyEQEQAAZ61/+5V/c3kBTRnbdddfZ1lPPBMBv3/szLcg7w7YA6ffML36n15e+PKMC4De+8Q3332htba3WrFljWwEAmYwACCCjnThxwu1dyKTeQBaCx6mQSQvBm3+XJvjR6wcA2YcxgAAyWn5+vj75yU+6YwPXr1+vu+++2+4BcCqYhdzNDJ+vfe1r3XU8CX8AkF0IgACywt/8zd+4M4Xu37+fmUKBU8D0+pkZPr/zne/ojjvuyKiybABA4giAALKG6Q00k8PQGwjMLTPWz/T6mRk+zfIO9PoBQPYiAALIOqY38Ktf/ar+53/+RzfccIMef/xxu2cO5divwDwW7vX75je/qa1bt9LrBwDzAAEQQFbKy8tz1w288sordeONN6qjo8PumSNMn4V5zszC+853vlNFRUX64he/mHHLsQAAkkMABJDVwr2BP/zhD09dbyAwj/z0pz/Vhz70IfX29rol16tXr7Z7AADzAQEQQNYL9wZeddVV2rBhw9z3BgLzhOn1M2P9LrzwQnr9AGCeIgACmDfe/va3uzOFHjlyRO95z3v0/e9/3+4BMJVwr98DDzyg7du30+sHAPMYARDAvGJ6A2+77TatXLlSN910k+666y67B8BEenp6Ir1+X/jCF3TRRRfZPQCA+YgACGBeMr2BZmzg0aNH09MbyCygyHI/+clP3F6/UChErx8ABAgBEMC8tXDhQrc3sLKyUnV1dantDWQWUGSxcK+f6e2j1w8AgoUACGDee9vb3uaODQz3Bj722GN2DxAsptfvgx/8oPbs2eMGv3/4h3+wewAAQUEABBAI/t7A+vr6aXsDzaQY5vLII4+4FyAThV+j4deruUymu7vb7fUzM3uakk96/QAgmHJOOux1AAiEn/3sZ2pvb9fDDz+swsJCnThxwm33v3l+5Stfqfz8fPe62W96S0ybcfSxX+v7A8+orDrP3QbmwqPf+YVefnaO3nD5Atvi9W4b5rUa/zoOv17NPtN21llnqampyZ3sBQAQXARAAIFl1g00k8WYGUON8BvmeLfccouWLFni9h4aBECcCvEB0IS6973vffq3f/s3dzteOAiaHsIvfelLk94OABAslIACCCzz5tn0mpjgN1n4M0z42717t92ymAUUp5h5TYY/vJhI+HVtXuNT3Q4AECwEQACBZXr0wuOnpmJuZ95Ex9wu6dqJAW0vylHRtgG7DcyceS3eeeeduuGGG2zL5KYLigCAYCEAAgi0N7zhDQlN8mLeQI/rBUxKoQoq7NWEeaFxw+5Ru42gM6/FRMJf+EOLqXq4AQDBQgAEEGimvPPAgQN2a3LmzbZ50z1db+H08lTZflJD60rsNjBzifbq0fsHAIhHAAQQaImWgRqmt3B2vYC2/NNfAjq6UxuKqrVr1LcvprfPtJeqzbkWasj39tft1Ji3c7zBzZFzjL9t7H0Uufdrdxnxx8aUqYZ7IXf6zrFZg3bv4Dbfce7t6K1Ml5n06pkyUQIgAMCPAAgg8GZSBprI7SZXorVD/aq3W1E9alzWp5Khkxoyl65mN+xtd9NV9Jjy1hPe/vZVyjW7xnFCWk1T9Hb+27pB0wmSdf3RfV1L1Hi7FxDHdleryDm2vsvuM/fZXjoubIYaaqXIbTapWKPaVZejmqFO7Qufd2+nZMIq4xzTwszomUioM0ExPBEMAABhBEAAgWfeTCfSs2eCopkM5siRI7Yldeq7TJiyipe7ge/Q8eR60UIjw/Za1GBPrUIVTkjzl54Wb7IBcUD3NfRITjhcG3kQTvB0gqh6uzXgfxgxt3EMdqixt1ld/lCat0o3t1ZJ7X36X9uE1PjlL59xP4Rg8hcAQLJYBxAAHGZB7UTeLJs333/+Z2/W6869cup1AE05ZU2T3ahSy95uVbo3tyWdpifOhDHTM7esVou6TvqCVdxt7Pah1hPasnKatQcj9+uEMreHzog/X5wJH4Mjpn3ix2BKP2va7cY4zXrQeQwL7RZmx6wD+MQPHtbgj3rcDyOmY8o/9+/fb7cAAPDQAwgAjve85z322tTMG+8FC7yFuKdketfCJZFD4fA3B+z97ms9oBozHs9Xhll+bqG9lmombIa/V/+F8JcOiYQ/I5FeQgBA8NADCAAzdPSxX+v7A89M3QM4qTT3APrZ3sD6rhMq2JGvRnVq34TjByfpIXSPP2B7Lyd+DGbsYFmDfD2cSBfTA/jys3P0hssT+AACAIBJ0AMIABnPWzswtKdv8tk/p5SnytVmPF+tyvwTs5jw6W6X6Gp3zF6Lb1ZQJ/CZUtK6ximDXe7KrWqpMJPYRGcEdU6sXXX+bQAAkCkIgACQ8ZwAt7FT5SbA2WUWvBlC45leOt9yDE6AMzOCuj2LpjR0r3MOM7NneP+ybpWXFrqhMndlt/a1ygly4eOnGDMYw6xreMIJgU1eyal7yVdjkRNaWQkCAICMQwkoAMzQ7EpAgeRQAgoASAV6AAEAAAAgIAiAAAAAABAQBEAAAAAACAgCIAAAAAAEBAEQAAAAAAKCAAgAAAAAAUEABAAAAICAIAACAAAAQEAQAAEAAAAgIAiAAAAAABAQBEAAAAAACAgCIAAAAAAEBAEQAAAAAAKCAAgAAAAAAUEABIB5ZGx3tYqKNmvQbs+Jwc3OfVZr16jdBgAAGYsACABzakDbi3JUtG3AbgMAAMwdAiAAzKlCFVTYqwnzQuOG3XSxAQCA2SEAAsCcylNl+0kNrSux2wAAAHOHAAgAc8aWf/pLQEd3aoM7fs63L6a3z7SXqs25FmrI9/bX7dSYtzNhg9ui5445v3v/43sXvbGE0XF93rbvHJSwAgCQlQiAADBnSrR2qF/1diuqR43L+lQydFJD5tLV7Ia97e5MLtFjyltPePvbVynX7ErIqHbV5ahmqFP7wuff2ymZMGlCXN4qralzwuWePl+oHNB9DT3O/W1VZZ4XHssalqgrfLx5PO2lSQVRAABwahEAASAD1HdtUrG9ruLlbuA7dDwFY/4GO9TY26wuf2h0Qt/NrVVSe587W2hxabPU262B8N0N9qlNVSq/xEl/ozvV0V6llr2+x2dCqRNSY44BAABZgQAIAOngLo0QLplMbomE0MiwvZa8wf4m5/9NqvGXbzqXsoYe7wZG8Rq1VPSosccr63SPqWt0e//G9ncr5PZQxh5fVGPOCwAAsg0BEADSoXiTLZc0l243TJ06zb7yTf8l3KuXp8rVzV6PYLjHr8o/SY3pAZzo+FP9fQEAgJkiAALAPFZwbpXz/wM6Nl0PpNsL2KSaZbUK2d4/I7dgifP/HqWiGhUAAJx6BEAAyHje2oGxE7VMzAtsTRpwJ5Bxtldu9co7l212x/t5zMQw/m0jTyUrTFiU6kt9vX/Fm9RVJ7XVxJaxDm7zbecVqtwJiaH9pEQAADIdARAAMl6eKjd2qry3VmV2DJ43Q+gEnMC2r7XKCWzhpR3MuoMnvN69yBi+fDUWOaEyLq/lrmxUfUWnro7O9uIqXnfSCYGx4wBrhpbo1Xa/mVRmi525tOzL+20jAADIRDknHfY6ACABRx/7tb4/8IzKqhkAh7nz6Hd+oZefnaM3XL7AtgAAMHP0AAIAAABAQBAAAQAAACAgCIAAAAAAEBAEQAAAAAAICAIgAAAAAAQEARAAAAAAAoIACAAAAAABQQAEAAAAgIAgAAIAAABAQBAAAQAAACAgCIAAAAAAEBAEQAAAAAAICAIgAAAAAAQEARAAAAAAAoIACABzaHBbjorqdmrMbqfHgLYX5WjD7lG7DQAA4CEAAgACa2x3tYqcsBy9bNag3QcAwHxEAAQABNCodtXlqKxhibqGTmrIXva1HlCNEwS3kwIBAPMUARAAEDyDHWrsrVLL3k0qtk1G7spuddVJbTX0BAIA5icCIADMuWHdV+crO5xgTKA7VjBSljhBj9ToTm3w7U9sXKE3NjB63mrt8g8TjD9nXDmk+5i2DcSVTU4flMaXWToX5zweryfOv8//vbrHOt/boP8c4WMHN0fbxn3/U32vzn3uaJIqqlWSZ5t8ikubnf83aWDQPrb4c9vnKTLGcsrnzZ5j207f91mtsd/a3QAAzDECIADMtd4DKtgYLjvsV31vrcoiocELDDXtzdHSxK5mtdX4AocJPstqpdYT9hwn1CL/OSbghpRSHYocY8odpcZl4cDl3O/t3Srfa+/TnLOiSTXx4ae9VLdo69S38TEBLqbM0vlejPpzC91jxnavV2iF/zFVOd9rXDB1np8O/30OlTrPxU5t71/ute3tVLl5DsPBcNrvdVjHe50vRYXKNZvx8gpV7nw5dFyqXO083t5uDfgez2BPrUIVnbp5pZMe7c9iUZd3P+bSVec8J/Hhut05JvJ9div3dNsOAMAcIwACwFyL6Xkq0VoTYNSkDhPw3NJEJyB1+UoTize5ZYmhPX1OaAr3XtkA4spT5UbvHAOTJEA3tNT1a0vkGFPuuNUJcFJbvwlOzjnau1UZ2e1sTxB+4u+3ZEWVcxsnUNmWWKMa2NMj1S33fS/LVe98aRsZdsOXKbmMfUyNzv4ehfb777RZa+LuM9QwrJJ1JbZpldY4z4+Ght1QOf33OgPu4/U/ngENtEvlK5Y7j9/7WZQ7QXOtr460eJ0T6uO/h5jnDQCAU4cACADp4C9PjO8Nipe3XOVOOAk5oWjs+AGnoVkl/oFpjoJzw0HL673yAohPXqEWOV8OHZ/ojrzQYnrvoo/JXPLdsBllyxXD+2ucoJmQAzo21fc3jdgS0VK12fbkJPq9JqpEV7eawNnh9a4O9jmPzwbS0T6FnHOGGvLj7muC72Gy3kYAAOYYARAA0qF4U6Qk0JT8RXvWTqG6ft9j8l3cnjQzZs4JSerUvnC7LddMnu0hbO+Llqa6AUqqL/V678y4wrIGqSVSemp6z1Jgyu+1UAVO4A73GI4zOqyQ82VRgfdD83ol7ZhAt8dvTczEMaYHcKL78vdAAgCQKQiAAHDK2V69cwuVW7DE2R5fynl8pEeqcIKLDS9eOaiPE1oOOV/CoSXWNIHHcINZlVo2ror0VA32J9oDODmv9NKMibO9YzVNqu86aUsmbTll69ZoQLYBMXkJfK+R8tZa3TeuZDZaYnt1JOV5vYBtNaYX0VeOantdTc8tAADZggAIAHMtbszc4DZTMmiDRfEab6zaDt/EKoObVeMEpfrVJpxNFF6c0HK7NzGJF1riQ6IdI+ifKMUwk6WEt92JT3oUqSB17rPDeUwxbckwYxr9vYrOJTpezj7OSIAa0PYdzvcZ0zZTCXyvRvh5jlvuYXCbVyrqPddRuZdUuxPDxIxnNOM3TS9pu5mUxvckOc9dzDYAABmEAAgAc6y8tVADvjFjNUMmIIUnfXECTHt4Vs+Jes0cprzUzgzqncOWbraHQ4s5R9zsonmrtMVMNuMfG2dmr7SzcZr9N7u9XHZf/3JtWbfJnVwlJoz+/+3dT0gc6Z/H8a+XZRd2swm4SwdMFg+7sp4kCT9oPQQMSg7mogwN8TR40hAU9BIUwoBhLgo2IXoSTwZk0Ise3A7I5KANS5BmEgLuIUJGSC8rM4f8cti9uM+/qnqqbbX907ader9+9M+uqu7qpyqX+fD9Pk+dhRmHO6972dU4XVgLx7Qh6ey4DOqAm506ft7kcU66VkPfo+jB78HngtVX/UVdDLPQTK9M9bqFZwLu3yI2DzCzLa1N7jgAAFdMw4Hi3gMAKvDp/Tf5kP8qHX3M8TqL6NEQ8Yew43i//fqHXLveIHcf3HB7AAA4PSqAAIDqKb6WuZJ2SDOfEQAA1AQBEABQNfqZfDMlj0mIt7wCAIDLRAsoAJwSLaCoBVpAAQAXgQogAAAAACQEARAAAAAAEoIACAAAAAAJQQAEAAAAgIQgAAIAAABAQhAAAQAAACAhCIAAAAAAkBAEQAAAAABICAIgAAAAACQEARAAAAAAEqLhQHHvAQAV+PT+m/znf/wp//aXf3R7gOr7/PGvcutf/1buPrjh9gAAcHoEQAA4JR0A3y7/j/zzv/yd2wNU35/F/5V//8s/EAABAOdCAASAU9IB8EP+q3T0pdweoPp++/UPuXa9gQAIADgX5gACAAAAQEIQAAEAAAAgIQiAAAAAAJAQBEAAAAAASAgCIAAAAAAkBAEQAAAAABKCAAgAAAAACUEABAAAAICEIAACAAAAQEIQAAEAAAAgIQiAAAAAAJAQBEAAAEJ5mZvNl3kPAMD3gQAIADW2v9YnLS0N3qtPVovuYE0VZXW43FiO2l/v9HW1i7Sn3XZa/a9dnq59dxcKAEgwAiAA1Exe5lTg6xi9I0s7B7LjXpvTImMrV6HytCt76yuSe1cSgIobklP7976zXLS/9kTGZFF+aHM7lLbeRZHRJ99h2AUAJBUBEABqwlabZmRShb9x8TKHNPYsy85QUIWqoeKufFR/cm82ZN/uMfbfLUtO/f34XSXAvPwyuiLdXZ3S6PYYqU7pflgmBAMAUKcIgABQVTroNchcwW0GTBVNpHt6IBb+yrPn8NtE/fOZFtLh11LwW0mDuWuFF9E+9Rk/yAUVyPB4aeupCoA66Mn6suTD/UXJv1kx73Kfd81fq7Ix7vvjOfR7r+Wp9/2WlhdSetsKs/5x+/JbNA+108bm8Nnrfbr22rtu9xuFDRXGRVqbUnrLk5JbLepaR+cPjQUAgHpEAASAGrBVtF7pvlcaOA7TrYm5ri9ei2ivzGRKwtN6v8zLK/eZLzK1o+euqaCz1Wn3vV2UbvWZjiAQmbDVLh+n/fOKjN2Pgtv+3rbIw0WZGvYrYLottFempidFshthKKp0jB3BeNRrSZ137H4Q8lSA/HlZut/aY+YaHk5IxgutOvxldhZl0/sNUfewtSk6Hm+n3ZKRbPuh4Jsb7RdZCj5jq6/mWtW5DuU/pem2/p1t+d2/FgAA6hQBEACuEL/CFVS2dEvoy54omTT2jMmIlLYlTspA+JmUpLt6VdDZlXTQSpp6LAPD6u/OrglDhZV+yQ1vlZz3lQpdIjNbNiTufV4RaWmWR+2TURuorpQ97JP0vWbp9kJRpWNc8lpb29R5o2CVkkfZZXkUnkJt/6iOh9XHvOSzEmvRbLzXp8awIh/31IYKtPNZFUzf+u20aRlc8s/hqOseLCm7mms91vc35xEAkEwEQACogqgV8aaMratQlSlpOTxC29CBrda57UC8tVHPHTwPG6ZEV8fCc+qXHavlAtftZjWoThlxIaqwNWFDWKpZWktC0dnG6J+jpI00M+H2n8xWVHVF0fv+Eecw1wQAQEIRAAGgCsxCLqbFULcyioyUtBw2Nt1R/19ZVcm2NopMhe2RWzLijp3L8JY7X8lLV+ncAjB2Tlxa0qYN9LUKhUHbarM0qesKFoI5/xj1/DwVQCVq8dzR1buQHkN8QZrDbbS6Ahj8vv/yK4sAACQbARAAaqFtwLZbLpQuzFLKVeKmX0Uhxi1YcnY2vAXtoGWZBWCiOXG6XVPPnTPtn2afWxzFBLILGKP5vApwzx6HLZ662uhrG1KhUs8jdNU9GzhtuDtNoC7HzvM7Tvn5gQAA1BsCIADUREoePXMLs5S0hQaPWbBsWItW3MzL3ILISGzfaXm/7a+SqReGcdt2UZQ7cisIPboNVP3x5+CZ0LS+K3sXMcaUnlPoBbjCC5mXydi+/bUpmYlVLb3KXtu4LA3rVtv4wjOF2ZKFaI4QzCcsFyDN/MAw+AIAUN8IgABQVXpxk4NDi44YqcfyMljt0pu31jG6YlpG7aIqLqyF8/U2JJ0dl0G9QEp2qqJwU5b+bT3X0J8HeL9fWm83m6qgDT0q2NlPK7oFM75qqa266UVcLmCMajzPzcqhbixbnfJyaNwsXBOrkh6atxgFPD1/0q4sGh3P7KgQaw8fz8xpLPdsw6L8vhMPvgAA1LOGA8W9BwBU4NP7b/Ih/1U6+igJ1Vr4aIhs1Dp6VnoRm443ffFz6aroff14itrPI/zt1z/k2vUGufvghtsDAMDpUQEEANSHwouSB+rb6txFMY/BkH75xfsN/bgM8ec2AgBQ5wiAAHAWDe4vLklRVhcmvMdp6NdNGWvZkp0LqP5Zul13S8Q9B9EswCPxZyUCAFDvaAEFgFOiBRS1QAsoAOAiUAEEgLOgAggAAOoQARAAzoLeCQAAUIcIgABwFlQAAQBAHSIAAsBZUAEEAAB1iAAIAGdBBRAAANQhAiAAnAUVQAAAUIcIgABwFlQAAQBAHSIAAsBZUAEEAAB1iAAIAAAAAAlBAAQAAACAhCAAAgAAAEBCEAAB4HtWeCEtLX2yWnTbOLf9tRfh/fTfAwBQDwiAAFCn9tf6vrtwZ6+pwXtdsetTgbrjTbOkU3az8V6z5O6/kILdBADgyiMAAkCdamy6495VyYVXD4uyOqxC3WzebfvyMqcCX8foHVnaOZAd99qcFhlbKff5WlBjzEzIyI+PpdHtkdRjGRiekEzZawIA4OohAAJAvWobVyFpWR65alT90sGwXWZkUoW/cWlze7XGnmXZGUq7rdraX5syY0z7A1Ta2idFshtUAQEAdYEACABVZatec7F04Cphw69l3+0xiq/laUuDPF1zJTe3HbZDep+PWiVLK3S2khZ85+nCttt/FDcW7ztmrLr6l5lQb1Zk7L47VzCuo74TCCqHa/qv+8zsmvrOTRlbV8ez7W6/a50sbkhO7e+eHoiFv6MUZqPf1a9oXIq5Z+q3C/69C1o0/XtzuLJ57HnVNeffrIg8bJYmtyeUapZumZD52OcBALiaCIAAcOlS8ujHSZH1Zcl7maGw0i+5h4vyvCdlQ9T9fpHpL64d8otMSb90uDCjK2Ob0732iwETftplZngrbKF83uWOHWF/7YkKZbryFrVdDuoUpquLS2qM0itTb+3+l3pc7ju5rmBcuk2zV2YypYFKBcdRic471COPsuoaHqpD4fhstW//3bLk1O9036uglKnuS0ai69NjzI3eLAnY6rcXRJ67z2xOb0tGhefV2Q1Jm316HDrYBsHQBtrMzqJsBud9uyiizhu1q+7Kng6vLc1R+2dABcBW9Sf3edduAwBwhREAAaAW2jplRAWV3LsgNeUlnxXp7upUAUMFkoUJkSAMGio0Pls0laZ8LOxEggC56bVMVjZPcFt+P0XxSofPIAxqjT1jJddijSzF2zlPy6/IhdU4HUz9ltC2ARMqZ7bic/D8eXqN9/qke71f9tqD8bgAHlx3Yd6G4Gx8bt9zHbCD1s7irnw0B46xsxuv6AIAcAURAAGgCqIWTdv2OJMJwkxQdUrLDypg5Ebn7XZhw8wvGzDBylabbBj0uErTx71yac0PkJVr7HnlqmGlLY/Hi6/WqefvleqVpgoKesdpG7KVuG63HTItpsFvu7bScyhs6VbXCcmE57SvjtEV+wEAAL4jBEAAqAKzeEnYbqirYa610FvkxFbOdEXPVvwqnQN3sVLyKKvHtSWtuuWxglU/dWWuY1TC1lD93RF37CxslXJFyubaEiZ46pU4w/vp2krPLd4GG73OV8UEAOCqIQACQM3YKuBMRlexguqf1ixNKtTk3myULBJj2xBby5bW3HfOPA8tLYPB3LifSxaniXGVxulX0eqjpnp5DkEb58Jxv6u5hViGt+w8RbPLLiBzHk239VzKE9pgXfX1WOXmBwIAcMUQAAGghsz8NP1muNOrNAWLxPTLL+F8v6Ks/mzn+P1QtiSVknSXnrPWHmvl3N87aRXQY5jVLUvn9pUGzbzMLYiMVBQ+U3KrRf059MgEN79RXW+wyE3ALhATcN8P59rpe7IrrcP+vtOL2mD939YLw/jbaUkf9TsumI+0X43HVQAAcBwCIABUlW2xDCtWpcyDxHtlqrckPLhVOKO5gzdlTBZl01+opIRpO3WrYgbz2H564w4eIT6Xz1Yiw8VQ3EIo0fl0IHJhLXyUw4aks+MyqANrdurE9tG2Id0uGs23C8Oq+q2XpgIZn4un5+Hpds9g0RnzfRMU9fEnIs/Ub/fa8BiF5dPS/0alv63uRYsKu971mErh+q7sue2QCoC5Ms8HBADgKmo4UNx7AEAFPr3/Jh/yX6Wj75yrnKDO6OcItouoQOoHej0n0jyaosoPrP/t1z/k2vUGufvghtsDAMDpUQEEAKAiaRnUVVl/rmLxtcxnJ2WpyuEPAICLQgAEAKBSbeOy2bUbPsB//92udL9lpVAAQP0gAAIAcAqNPePhCqj+ewAA6gEBEAAAAAASggAIAAAAAAlBAAQAAACAhCAAAgAAAEBCEAABAAAAICEIgAAAAACQEARAAAAAAEgIAiAAAAAAJAQBEAAAAAASggAIAAAAAAlBAAQAAACAhCAAAsD3rPBCWlr6ZLXoti9RYbZBWoZfy77bhlaU1dnonhRmX0jBvQcA4DIQAAGgTu2v9dUs3F1V9p6o4Bm+rtb9KczelNztTml0223tIhlCMgDgEhEAAaBONTbdce++E+eqVuZlTgW+jtE7srRzIDvutTktMraSd5+pMXV9meykDPSk3A6lbUCmpF9+WiPFAwAuBwEQAOpV27gKOcvyyMsTyVSU1eF2mZFJFf7Gpc3t1Rp7lmVnKO22akmNcWFCZLgzNj6RlKS7eiX3ZoMqIADgUhAAAaCqdDhpkLnYRC+779D8uOJredrSIE+DapDbDtsZvc9HrY6lFTNbCQu+83Rh2+0/gvuNsuObtZUzO5fvhczpfeG5y8xdMxW84HifzO+4/YHYcfXyr18fy6iAJCsydt8eD++DVnov/N8vbkhuXaR7eqAkXJXjrs07l3/t5r6qcRX8VlJ3H2LjP9S2Gb/vh/5dgjHebnY7IqaSu94vvxy6oQAAXDwCIABcupQ8+nFS/Uf/suS9kFBY6Zfcw0V5rlsEddi43y8y/cW1M34xrYIdLvjoytbmdK/9YsCEpHaZGd4KWyCfd7lj57W+LU3PotbKpeEJyXghxwQnFeBGloLPvJJue8hRASkjXnvmloyo0NMRhCtdzVxS90R6Zeqt/czLoFXS3YvW8Nzx399/tyw59b3ueyeXQvfXnkiuK7inukW0V2YyJWFNjWteXrnPqPu+067C6GuZ2+q0+94uSrc/dnffP4b/Vq71VAXZMFwWd9UYRVqbyowx1Wzu1cc9fxAAAFQHARAAaqGtU0ZkRXLvgv/oz0s+K9LdpRcIce2CQRg0VGh8poKHTEj+iEpRECA3vZbHC5sn+LBP0l52aRtSAS4cf15+GV2RbhWABsMSXEputbi3RloGY+2ZaflBB9jsxgmrYNp7ET936e+XZyqXriIXVBN1cA6DpdLYM1bmPP48PdeiObor6eC+ph7LwLD6u7NrqoDmvqvQHT/vK5l6KDKzZUPi/t4JlVgl93nXvQMAoHoIgABQBVGL5k0ZW1dBIBOEkaB10Qag3Oi83S5smDlsNnjsyp5uFzRh0JNqllb1p3ylyA+Ql6FZmlTAMaHFjL2SCly8TbJDhcYTudbJ3OjN8Hv2pef8Ha9tyFXr3HYgvlLoyec5nr3vkm33zqlf9t8dAICrhgAIAFVgFh8JWghVUIpaI6MqmK0+6YpeUOWqZA5bnSrTnnqohfUYugIYfM9/6aqbrXKuSCUdlLoq2DEqYZupaUV1x87Fu67Y60osQAMAQIQACAA1Y6uAMxldLfLbDl11rXRlyOKufFR/ys4j8ytyl8Ff1MTMYTs+gNl5epOyFAaiouTfVFABdFXPY69LP0pBt1sunPQ8PVclnX4VrZxqqpfnYe970A56lEpaccstEAMAwEUjAAJADTXe67MtirHHAwSLxPgrQxZl9Wc7x++HsmVCO1dNtyL6q2eeOPfMBaxgrpqmF0o51L64vit77m04lqBlNdUp3TqAxRZTKcrv3iqgNgBty+/uuP6NvRa96Eu0LwiS8fl4aRnUi8OUXJdeGCbadvMj9cIsJauT2uAZKA3JeZlbEBk5V3D2fjtYFEbTFU9/28z5PKJ9VwX7ShexAQDgvAiAAFBVKiBkD2ILmMSYBUV6Zaq3pFXQrYoZzR28KWOyKJvZx0fO8TNtp+o7/ny5n964g0dSAUvPk/PmsP2kfklX1GIebsu8O27nt/nP3LPXuDQcPcKhpeWJF7wUdT3+8Z/klQwO6cqd2hc8qF3di+dmXmQwfhfm3L2IzQPMbEtrk/mWpb770rTb6tVB3WfUS88z1O23doEWF9bCa92QdHZcBnXYzk7FVwI9Df3bJffQrFp6u9mrCh5doTUhvWSRHQAAqqXhQHHvAQAV+PT+m3zIf5WOvmT8F7ueN5fZOT58ogLmWYf6URj+aqhFWR2+aR5N4a8iWs5vv/4h1643yN0HN9weAABOjwogAACXwVRBJ2Q+1so6byq70eM+AACoLgIgAACXpG3oi3R/jhb3KWyJLFFZBQBcIlpAAeCUktYCiquBFlAAwEWgAggAAAAACUEABAAAAICEIAACAAAAQEIQAAEAAAAgIQiAAAAAAJAQBEAAAAAASAgCIAAAAAAkBAEQAAAAABKCAAgAAAAACdFwoLj3AIAKfHr/TT7kv8rt1r93e4Dq+/O//0+uXW+Quw9uuD0AAJweARAATkkHwP/a/qvbAi7PPzX9DQEQAHAuBEAAAAAASAjmAAIAAABAQhAAAQAAACAhCIAAAAAAkBAEQAAAAABICAIgAAAAACQEARAAAAAAEoIACAAAAAAJQQAEAAAAgIQgAAIAAABAQhAAAQAAACAhCIAAAAAAkBAEQAAAAABICAIgAAAAACQEARAAAAAAEoIACAAAAACJIPL/FR8o5m1/I0AAAAAASUVORK5CYII=)"
      ],
      "metadata": {
        "id": "tZtJqwNH-EEk"
      }
    },
    {
      "cell_type": "markdown",
      "source": [
        "###  Unified Modeling Language (UML)\n",
        "\n",
        "UML (Unified Modeling Language) is a standardized modeling language used in software engineering to visualize, specify, construct, and document the artifacts of a software system. UML diagrams provide a graphical representation of the system's structure, behavior, and interactions.\n",
        "\n",
        "In the context of object-oriented programming, UML class diagrams are commonly used to represent the static structure of a system by showing the classes, their attributes, methods, and the relationships between them. Class diagrams help in understanding the system's architecture, identifying the key components, and communicating the design to other developers.\n",
        "\n",
        "When interpreting a UML class diagram, here are some key points to consider:\n",
        "\n",
        "-   Each class is represented by a rectangle, with the class name at the top, followed by attributes and methods.\n",
        "-   Attributes are the data members of a class and are listed below the class name. They are usually prefixed with `-` for private or `+` for public visibility. Sometime `#` is used for protected.\n",
        "-   Methods are the functions or operations defined within a class and are listed below the attributes. They are also prefixed with `-` or `+` to indicate their visibility.\n",
        "-   Relationships between classes are shown using lines connecting the classes. Common relationships include:\n",
        "    -   **Association.** A general relationship between classes, represented by a solid line.\n",
        "    -   ***Inheritance.** Indicates that one class is a subclass of another, represented by an arrow pointing from the subclass to the superclass.\n",
        "    -   **Composition.** Represents a strong \"has-a\" relationship, where one class is composed of another. It is denoted by a solid diamond at the composing class end.\n",
        "    -   **Aggregation.** Represents a weaker \"has-a\" relationship, where one class contains a reference to another. It is denoted by an open diamond at the containing class end.\n",
        "\n",
        "By analyzing a UML class diagram, developers can gain a high-level understanding of the system's structure, the relationships between classes, and the responsibilities of each class. It serves as a visual blueprint of the system and helps in designing, communicating, and documenting the software architecture.\n"
      ],
      "metadata": {
        "id": "qLUohLHz-Lzw"
      }
    },
    {
      "cell_type": "code",
      "source": [],
      "metadata": {
        "id": "XAmINiudB4oP"
      },
      "execution_count": null,
      "outputs": []
    },
    {
      "cell_type": "code",
      "source": [],
      "metadata": {
        "id": "PZ3eZUlKBvDz"
      },
      "execution_count": null,
      "outputs": []
    },
    {
      "cell_type": "code",
      "source": [],
      "metadata": {
        "id": "cNFjxZa7R9SX"
      },
      "execution_count": null,
      "outputs": []
    }
  ]
}