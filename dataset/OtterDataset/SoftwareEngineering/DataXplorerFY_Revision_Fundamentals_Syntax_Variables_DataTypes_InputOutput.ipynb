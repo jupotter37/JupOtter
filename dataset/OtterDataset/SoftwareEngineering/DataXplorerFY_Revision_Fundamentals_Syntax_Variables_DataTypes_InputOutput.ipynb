{
 "cells": [
  {
   "cell_type": "markdown",
   "id": "67af065c",
   "metadata": {},
   "source": [
    "# Syntax and Variables"
   ]
  },
  {
   "cell_type": "markdown",
   "id": "3888511f",
   "metadata": {},
   "source": [
    "What is the correct syntax to declare a variable in Python?"
   ]
  },
  {
   "cell_type": "markdown",
   "id": "34a8efeb",
   "metadata": {},
   "source": [
    "variable names a case-sensitive\n",
    "\n",
    "we can declare a variable using any word but it should be styart from underscore(_), letter, and name of variable should not be researved word"
   ]
  },
  {
   "cell_type": "markdown",
   "id": "abb5f35b",
   "metadata": {},
   "source": [
    "For-Examples"
   ]
  },
  {
   "cell_type": "code",
   "execution_count": 1,
   "id": "65f47d85",
   "metadata": {},
   "outputs": [],
   "source": [
    "x=10"
   ]
  },
  {
   "cell_type": "code",
   "execution_count": 2,
   "id": "b5eeed5b",
   "metadata": {},
   "outputs": [],
   "source": [
    "name = \"Farhan Ali\""
   ]
  },
  {
   "cell_type": "code",
   "execution_count": 3,
   "id": "7524a5ac",
   "metadata": {},
   "outputs": [],
   "source": [
    "_age = 25"
   ]
  },
  {
   "cell_type": "code",
   "execution_count": 4,
   "id": "b7ba5ebf",
   "metadata": {},
   "outputs": [
    {
     "name": "stdout",
     "output_type": "stream",
     "text": [
      "10\n",
      "Farhan Ali\n"
     ]
    },
    {
     "ename": "NameError",
     "evalue": "name 'age' is not defined",
     "output_type": "error",
     "traceback": [
      "\u001b[1;31m---------------------------------------------------------------------------\u001b[0m",
      "\u001b[1;31mNameError\u001b[0m                                 Traceback (most recent call last)",
      "\u001b[1;32m~\\AppData\\Local\\Temp/ipykernel_528/3963104987.py\u001b[0m in \u001b[0;36m<module>\u001b[1;34m\u001b[0m\n\u001b[0;32m      1\u001b[0m \u001b[0mprint\u001b[0m\u001b[1;33m(\u001b[0m\u001b[0mx\u001b[0m\u001b[1;33m)\u001b[0m\u001b[1;33m\u001b[0m\u001b[1;33m\u001b[0m\u001b[0m\n\u001b[0;32m      2\u001b[0m \u001b[0mprint\u001b[0m\u001b[1;33m(\u001b[0m\u001b[0mname\u001b[0m\u001b[1;33m)\u001b[0m\u001b[1;33m\u001b[0m\u001b[1;33m\u001b[0m\u001b[0m\n\u001b[1;32m----> 3\u001b[1;33m \u001b[0mprint\u001b[0m\u001b[1;33m(\u001b[0m\u001b[0mage\u001b[0m\u001b[1;33m)\u001b[0m\u001b[1;33m\u001b[0m\u001b[1;33m\u001b[0m\u001b[0m\n\u001b[0m",
      "\u001b[1;31mNameError\u001b[0m: name 'age' is not defined"
     ]
    }
   ],
   "source": [
    "print(x)\n",
    "print(name)\n",
    "print(age)"
   ]
  },
  {
   "cell_type": "markdown",
   "id": "608bea95",
   "metadata": {},
   "source": [
    "# What is the difference between a local variable and a global variable in Python?"
   ]
  },
  {
   "cell_type": "markdown",
   "id": "b334a194",
   "metadata": {},
   "source": [
    "Local variables"
   ]
  },
  {
   "cell_type": "markdown",
   "id": "5c066038",
   "metadata": {},
   "source": [
    "local variables are those, which is crated in python function and we can only used in within the function, we cannot use in out side the function here is an example"
   ]
  },
  {
   "cell_type": "code",
   "execution_count": null,
   "id": "1b645655",
   "metadata": {},
   "outputs": [],
   "source": [
    "def name():\n",
    "    MyName = \"Farhan\"\n",
    "    print(MyName)\n",
    "name()\n",
    "\n",
    "# but if we try to use this local variable outside the function then it will give us an error\n",
    "\n",
    "# print(MyName)"
   ]
  },
  {
   "cell_type": "markdown",
   "id": "35a44877",
   "metadata": {},
   "source": [
    "Golbal variables\n",
    "\n",
    "Global varibales are those that we can declare outside the function and we can use it in any where we want in th script that are caled global variables For Example"
   ]
  },
  {
   "cell_type": "code",
   "execution_count": null,
   "id": "0d8ceb16",
   "metadata": {},
   "outputs": [],
   "source": [
    "age = 25\n",
    "\n",
    "def Age():\n",
    "    print(f\"My age is {age} \")\n",
    "Age()\n",
    "\n",
    "#This is an example of Global varibale that we declare out side the function and we are using it in within the function"
   ]
  },
  {
   "cell_type": "markdown",
   "id": "bda8417b",
   "metadata": {},
   "source": [
    "# What will be the output of the following code? a = 10, b = 20,print(a + b)"
   ]
  },
  {
   "cell_type": "code",
   "execution_count": 5,
   "id": "cb244da7",
   "metadata": {},
   "outputs": [
    {
     "name": "stdout",
     "output_type": "stream",
     "text": [
      "30\n"
     ]
    }
   ],
   "source": [
    "a=10\n",
    "b=20\n",
    "print(a+b)"
   ]
  },
  {
   "cell_type": "markdown",
   "id": "602f6639",
   "metadata": {},
   "source": [
    "# Basic Arithmatic operators"
   ]
  },
  {
   "cell_type": "code",
   "execution_count": 6,
   "id": "6bb5ea6b",
   "metadata": {},
   "outputs": [
    {
     "name": "stdout",
     "output_type": "stream",
     "text": [
      "50\n",
      "10\n",
      "1.5\n",
      "1\n",
      "348678440100000000000000000000\n",
      "10\n"
     ]
    }
   ],
   "source": [
    "a=30\n",
    "b=20\n",
    "print(a+b)\n",
    "print(a-b)\n",
    "print(a/b)\n",
    "print(a//b)\n",
    "print(a**b)\n",
    "print(a%b)"
   ]
  },
  {
   "cell_type": "markdown",
   "id": "9041d4f3",
   "metadata": {},
   "source": [
    "# comparison operators"
   ]
  },
  {
   "cell_type": "code",
   "execution_count": 7,
   "id": "869237cc",
   "metadata": {},
   "outputs": [
    {
     "name": "stdout",
     "output_type": "stream",
     "text": [
      "True\n",
      "True\n",
      "True\n",
      "False\n"
     ]
    }
   ],
   "source": [
    "a=40\n",
    "b=50\n",
    "print(a<b) #True\n",
    "print(b>=a)#True\n",
    "print(a!=b)#True\n",
    "print(a==b)#False"
   ]
  },
  {
   "cell_type": "markdown",
   "id": "3b845f04",
   "metadata": {},
   "source": [
    "# Logical Operators"
   ]
  },
  {
   "cell_type": "code",
   "execution_count": 10,
   "id": "e68bc336",
   "metadata": {},
   "outputs": [
    {
     "name": "stdout",
     "output_type": "stream",
     "text": [
      "False\n",
      "True\n",
      "True\n"
     ]
    }
   ],
   "source": [
    "name = \"Farhan\"\n",
    "age = 25\n",
    "height = 5.8\n",
    "print(age==height and age>height)#false\n",
    "print(age==height or age>height)#true\n",
    "print(not name==age) #True"
   ]
  },
  {
   "cell_type": "markdown",
   "id": "d1add620",
   "metadata": {},
   "source": [
    "# Taking Input From users"
   ]
  },
  {
   "cell_type": "code",
   "execution_count": 17,
   "id": "bc795fe0",
   "metadata": {},
   "outputs": [
    {
     "name": "stdout",
     "output_type": "stream",
     "text": [
      "Enter your name!Farhan\n",
      "What is your age35\n",
      "My name is Farhan and my age is 35\n",
      "<class 'str'> <class 'int'>\n"
     ]
    }
   ],
   "source": [
    "name = input(\"Enter your name!\")\n",
    "age = int(input(\"What is your age\"))\n",
    "\n",
    "print(f\"My name is {name} and my age is {age}\")\n",
    "\n",
    "print( type(name), type(age))"
   ]
  },
  {
   "cell_type": "markdown",
   "id": "2689cc22",
   "metadata": {},
   "source": [
    "# Indexing, Negtive indexing of string"
   ]
  },
  {
   "cell_type": "code",
   "execution_count": 23,
   "id": "30067fcc",
   "metadata": {},
   "outputs": [
    {
     "name": "stdout",
     "output_type": "stream",
     "text": [
      "I am Farhan ALi, a recent graduate with a BS in software engineering from univeristy of Agriculture Faisalabad.\n",
      "I\n",
      ",\n",
      ", a recent graduate w\n",
      "a\n",
      "111\n"
     ]
    }
   ],
   "source": [
    "myself = \"I am Farhan ALi, a recent graduate with a BS in software engineering from univeristy of Agriculture Faisalabad.\"\n",
    "\n",
    "print(myself)\n",
    "\n",
    "print(myself[0])\n",
    "print(myself[15])\n",
    "print(myself[15:36])\n",
    "\n",
    "print(myself[-10])\n",
    "print(len(myself))"
   ]
  },
  {
   "cell_type": "code",
   "execution_count": 25,
   "id": "abbfccb4",
   "metadata": {},
   "outputs": [
    {
     "name": "stdout",
     "output_type": "stream",
     "text": [
      "i am farhan ali, a recent graduate with a bs in software engineering from univeristy of agriculture faisalabad.\n"
     ]
    }
   ],
   "source": [
    "print(myself.lower())"
   ]
  },
  {
   "cell_type": "code",
   "execution_count": 26,
   "id": "13706c3d",
   "metadata": {},
   "outputs": [
    {
     "name": "stdout",
     "output_type": "stream",
     "text": [
      "I AM FARHAN ALI, A RECENT GRADUATE WITH A BS IN SOFTWARE ENGINEERING FROM UNIVERISTY OF AGRICULTURE FAISALABAD.\n"
     ]
    }
   ],
   "source": [
    "print(myself.upper())"
   ]
  },
  {
   "cell_type": "code",
   "execution_count": 27,
   "id": "97a77c35",
   "metadata": {},
   "outputs": [
    {
     "name": "stdout",
     "output_type": "stream",
     "text": [
      "I Am Farhan Ali, A Recent Graduate With A Bs In Software Engineering From Univeristy Of Agriculture Faisalabad.\n"
     ]
    }
   ],
   "source": [
    "print(myself.title())"
   ]
  },
  {
   "cell_type": "markdown",
   "id": "5304cad8",
   "metadata": {},
   "source": [
    "# How to find character or name in strings"
   ]
  },
  {
   "cell_type": "code",
   "execution_count": 28,
   "id": "d976841f",
   "metadata": {},
   "outputs": [
    {
     "data": {
      "text/plain": [
       "'I am Farhan ALi, a recent graduate with a BS in software engineering from univeristy of Agriculture Faisalabad.'"
      ]
     },
     "execution_count": 28,
     "metadata": {},
     "output_type": "execute_result"
    }
   ],
   "source": [
    "myself"
   ]
  },
  {
   "cell_type": "code",
   "execution_count": 30,
   "id": "82e691ff",
   "metadata": {},
   "outputs": [
    {
     "data": {
      "text/plain": [
       "14"
      ]
     },
     "execution_count": 30,
     "metadata": {},
     "output_type": "execute_result"
    }
   ],
   "source": [
    "myself.find(\"i\")"
   ]
  },
  {
   "cell_type": "code",
   "execution_count": 31,
   "id": "8863a29d",
   "metadata": {},
   "outputs": [
    {
     "data": {
      "text/plain": [
       "5"
      ]
     },
     "execution_count": 31,
     "metadata": {},
     "output_type": "execute_result"
    }
   ],
   "source": [
    "myself.find(\"Farhan\")"
   ]
  },
  {
   "cell_type": "code",
   "execution_count": 32,
   "id": "ac92d590",
   "metadata": {},
   "outputs": [
    {
     "data": {
      "text/plain": [
       "'I am Farhan ALi, a recent graduate with a BS in software engineering from univeristy of Agriculture Faisalabad.'"
      ]
     },
     "execution_count": 32,
     "metadata": {},
     "output_type": "execute_result"
    }
   ],
   "source": [
    "myself"
   ]
  },
  {
   "cell_type": "code",
   "execution_count": 33,
   "id": "20f7df46",
   "metadata": {},
   "outputs": [
    {
     "data": {
      "text/plain": [
       "'I am Farhan ALi, a recent graduate with a BS in software engineering from UAF'"
      ]
     },
     "execution_count": 33,
     "metadata": {},
     "output_type": "execute_result"
    }
   ],
   "source": [
    "myself.replace(\"univeristy of Agriculture Faisalabad.\", \"UAF\")"
   ]
  },
  {
   "cell_type": "code",
   "execution_count": 35,
   "id": "5391939a",
   "metadata": {},
   "outputs": [],
   "source": [
    "myself=myself.replace(\"univeristy of Agriculture Faisalabad.\", \"UAF\")"
   ]
  },
  {
   "cell_type": "code",
   "execution_count": 36,
   "id": "bb1ec566",
   "metadata": {},
   "outputs": [
    {
     "data": {
      "text/plain": [
       "'I am Farhan ALi, a recent graduate with a BS in software engineering from UAF'"
      ]
     },
     "execution_count": 36,
     "metadata": {},
     "output_type": "execute_result"
    }
   ],
   "source": [
    "myself"
   ]
  },
  {
   "cell_type": "code",
   "execution_count": 39,
   "id": "a3812e1d",
   "metadata": {},
   "outputs": [
    {
     "data": {
      "text/plain": [
       "True"
      ]
     },
     "execution_count": 39,
     "metadata": {},
     "output_type": "execute_result"
    }
   ],
   "source": [
    "\"ALi\"  in myself"
   ]
  },
  {
   "cell_type": "markdown",
   "id": "b59b07de",
   "metadata": {},
   "source": [
    "# Conditional statements"
   ]
  },
  {
   "cell_type": "markdown",
   "id": "27171e51",
   "metadata": {},
   "source": [
    "Write a Python program that helps a store owner decide which discount to apply based on the total purchase amount."
   ]
  },
  {
   "cell_type": "code",
   "execution_count": 48,
   "id": "f2daf05f",
   "metadata": {},
   "outputs": [
    {
     "name": "stdout",
     "output_type": "stream",
     "text": [
      "Enter the total purchase amount.250\n",
      "Congrats! You get a 10% discount. The final amount is 225.0\n"
     ]
    }
   ],
   "source": [
    "purchase_Amount = int(input(\"Enter the total purchase amount.\"))\n",
    "\n",
    "if purchase_Amount >= 500:\n",
    "    discount = (purchase_Amount/100)*20\n",
    "    remaining_balance = purchase_Amount - discount\n",
    "    print(f\"Congrats! You get a 20% discount. The final amount is {remaining_balance}\")\n",
    "    \n",
    "elif purchase_Amount >= 200:\n",
    "    discount = (purchase_Amount/100)*10\n",
    "    remaining_balance = purchase_Amount - discount\n",
    "    print(f\"Congrats! You get a 10% discount. The final amount is {remaining_balance}\")\n",
    "    \n",
    "else:\n",
    "    print(f\"No discount applied. The final amount {purchase_Amount}\")\n",
    "    \n",
    "    \n",
    "\n"
   ]
  },
  {
   "cell_type": "markdown",
   "id": "710a1e81",
   "metadata": {},
   "source": [
    "# Write a Python program to categorize a person's age group based on their age input."
   ]
  },
  {
   "cell_type": "markdown",
   "id": "c7bc7882",
   "metadata": {},
   "source": [
    "The age categories are as follows:\n",
    "\n",
    "Age less than 13: \"Child\"\n",
    "\n",
    "Age between 13 and 17: \"Teenager\"\n",
    "\n",
    "Age between 18 and 64: \"Adult\"\n",
    "\n",
    "Age 65 and above: \"Senior Citizen\""
   ]
  },
  {
   "cell_type": "code",
   "execution_count": 54,
   "id": "1166f72d",
   "metadata": {},
   "outputs": [
    {
     "name": "stdout",
     "output_type": "stream",
     "text": [
      "Enter your age!65\n",
      "Senior Citizen\n"
     ]
    }
   ],
   "source": [
    "age = int(input(\"Enter your age!\"))\n",
    "\n",
    "if age < 13:\n",
    "    print(\"You are a Child!\")\n",
    "    \n",
    "elif age >= 13 and age <= 17:\n",
    "    print(\"You are a Teenager\")\n",
    "    \n",
    "elif age <= 64:\n",
    "    print(\"You are Adult!\")\n",
    "    \n",
    "else:\n",
    "    print(\"Senior Citizen\")"
   ]
  },
  {
   "cell_type": "markdown",
   "id": "8fdcc855",
   "metadata": {},
   "source": [
    "# Write a Python program that checks whether a given year is a leap year or not."
   ]
  },
  {
   "cell_type": "markdown",
   "id": "4868e8e9",
   "metadata": {},
   "source": [
    "A leap year occurs:\n",
    "\n",
    "Every year that is divisible by 4, except for years that are divisible by 100.\n",
    "\n",
    "However, years divisible by 100 are leap years if they are also divisible by 400."
   ]
  },
  {
   "cell_type": "code",
   "execution_count": 57,
   "id": "6469454a",
   "metadata": {},
   "outputs": [
    {
     "name": "stdout",
     "output_type": "stream",
     "text": [
      "Enter the Year!2020\n",
      "2020 is a leap year.\n"
     ]
    }
   ],
   "source": [
    "leapYear = int(input(\"Enter the Year!\"))\n",
    "\n",
    "if leapYear % 400 == 0:\n",
    "    print(f\"{leapYear} is a leap year.\")\n",
    "elif leapYear % 100 == 0:\n",
    "    print(f\"{leapYear} is not a leap year.\")\n",
    "elif leapYear % 4 == 0:\n",
    "    print(f\"{leapYear} is a leap year.\")\n",
    "else:\n",
    "    print(f\"{leapYear} is not a leap year.\")"
   ]
  },
  {
   "cell_type": "code",
   "execution_count": null,
   "id": "725ad326",
   "metadata": {},
   "outputs": [],
   "source": []
  }
 ],
 "metadata": {
  "kernelspec": {
   "display_name": "Python 3 (ipykernel)",
   "language": "python",
   "name": "python3"
  },
  "language_info": {
   "codemirror_mode": {
    "name": "ipython",
    "version": 3
   },
   "file_extension": ".py",
   "mimetype": "text/x-python",
   "name": "python",
   "nbconvert_exporter": "python",
   "pygments_lexer": "ipython3",
   "version": "3.9.7"
  }
 },
 "nbformat": 4,
 "nbformat_minor": 5
}
