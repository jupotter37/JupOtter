{
 "cells": [
  {
   "cell_type": "markdown",
   "source": [
    "# Markdown for Research Methodology descriptions"
   ],
   "metadata": {
    "collapsed": false
   },
   "id": "206d05f6c2e35a13"
  },
  {
   "cell_type": "code",
   "execution_count": 16,
   "id": "initial_id",
   "metadata": {
    "collapsed": true,
    "ExecuteTime": {
     "end_time": "2024-07-22T14:16:37.900830Z",
     "start_time": "2024-07-22T14:16:37.893864Z"
    }
   },
   "outputs": [],
   "source": [
    "import sqlite3\n",
    "import pandas as pd\n",
    "\n",
    "\n",
    "# Connect to the SQLite database\n",
    "conn = sqlite3.connect('../../../coding_website/db_llm_education_survey.sqlite3')\n",
    "\n",
    "# Create a cursor object\n",
    "cursor = conn.cursor()\n",
    "\n",
    "# Execute a SQL query\n",
    "cursor.execute(\"SELECT * FROM llm_education_survey_researchmethodology \"\n",
    "               \"WHERE name LIKE 'ACM%'\")\n",
    "\n",
    "# fetch all the results in a data frame\n",
    "rows = cursor.fetchall()\n",
    "df = pd.DataFrame(rows, columns=['id', 'name', 'desciption'])"
   ]
  },
  {
   "cell_type": "code",
   "outputs": [],
   "source": [
    "# iterate over each row\n",
    "categories = [\n",
    "    ('General', 0),\n",
    "    ('Qualitative', 2),\n",
    "    ('Quantitative', 6),\n",
    "    \n",
    "    ('Literature Review', 14),\n",
    "    ('Other', 16),\n",
    "]\n",
    "\n",
    "# all_methodologies = [row['name'].replace(\"ACM:\",\"\").strip() for _, row in df.iterrows()]\n",
    "\n",
    "\n",
    "with open('../../ResearchMethodologies.md', 'w') as f:\n",
    "    for index, row in df.iterrows():\n",
    "        for category, category_id in categories:\n",
    "            if category_id == index:\n",
    "                f.write(f\"\\n# {category}\\n\")\n",
    "        \n",
    "        description = row['desciption']\n",
    "        f.write(f\"\\n## {row['name']}\\n\")\n",
    "        for line in description.split('\\n'):\n",
    "            if line.strip() == 'Application':\n",
    "                f.write(f\"### Application\\n\")\n",
    "            else:\n",
    "                # for methodology in all_methodologies:\n",
    "                #     if methodology + \" standard\" in line.lower():\n",
    "                #         line = line.replace(methodology + \" \", f\"**{methodology}** \")\n",
    "                f.write(line + \"\\n\")\n",
    "    "
   ],
   "metadata": {
    "collapsed": false,
    "ExecuteTime": {
     "end_time": "2024-07-22T14:49:51.592010Z",
     "start_time": "2024-07-22T14:49:51.579730Z"
    }
   },
   "id": "2c2cff0feb93bff9",
   "execution_count": 30
  },
  {
   "cell_type": "code",
   "outputs": [
    {
     "data": {
      "text/plain": "['Engineering Research (AKA Design Science)',\n 'Multi-Methodology and Mixed Methods Research',\n 'Action Research',\n 'Case Study and Ethnography',\n 'Grounded Theory',\n 'Qualitative Surveys (Interview Studies)',\n 'Benchmarking (of Software Systems)',\n 'Data Science',\n 'Experiments (with Human Participants)',\n 'Longitudinal Studies',\n 'Optimization Studies in SE (including Search-Based Software Engineering)',\n 'Simulation (Quantitative)',\n 'Questionnaire Surveys',\n 'Repository Mining',\n 'Case Survey (AKA Case Meta-Analysis)',\n 'Systematic Reviews',\n 'Methodological Guidelines and Meta-Science',\n 'Replication']"
     },
     "execution_count": 27,
     "metadata": {},
     "output_type": "execute_result"
    }
   ],
   "source": [
    "line = all_methodologies"
   ],
   "metadata": {
    "collapsed": false,
    "ExecuteTime": {
     "end_time": "2024-07-22T14:48:34.938777Z",
     "start_time": "2024-07-22T14:48:34.934043Z"
    }
   },
   "id": "fa0d8cc6360c2c3",
   "execution_count": 27
  },
  {
   "cell_type": "code",
   "outputs": [],
   "source": [],
   "metadata": {
    "collapsed": false
   },
   "id": "877be21bb441a9a6"
  }
 ],
 "metadata": {
  "kernelspec": {
   "display_name": "Python 3",
   "language": "python",
   "name": "python3"
  },
  "language_info": {
   "codemirror_mode": {
    "name": "ipython",
    "version": 2
   },
   "file_extension": ".py",
   "mimetype": "text/x-python",
   "name": "python",
   "nbconvert_exporter": "python",
   "pygments_lexer": "ipython2",
   "version": "2.7.6"
  }
 },
 "nbformat": 4,
 "nbformat_minor": 5
}
