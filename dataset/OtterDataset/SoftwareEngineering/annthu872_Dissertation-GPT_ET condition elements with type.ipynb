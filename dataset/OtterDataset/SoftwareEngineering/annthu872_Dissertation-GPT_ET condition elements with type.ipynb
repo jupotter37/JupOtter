{
 "cells": [
  {
   "cell_type": "code",
   "execution_count": 37,
   "metadata": {},
   "outputs": [],
   "source": [
    "from openai import OpenAI\n",
    "import json\n",
    "import os\n",
    "\n",
    "GPT_MODEL_3_5 = \"gpt-3.5-turbo-1106\"\n",
    "GPT_MODEL_4 = \"gpt-4-0125-preview\"\n",
    "\n",
    "OPEN_API_KEY = os.getenv(\"OPENAI_API_KEY\")\n",
    "\n",
    "client = OpenAI()\n",
    "model = GPT_MODEL_4\n",
    "\n",
    "def ask(prompt, client, model, temperature = 0):\n",
    "    response = None\n",
    "    \n",
    "    response = client.chat.completions.create(\n",
    "      model=model,\n",
    "      messages=prompt,\n",
    "      temperature=temperature,\n",
    "      response_format={ \"type\": \"json_object\" },\n",
    "    )\n",
    "\n",
    "    return (response.choices[0].message.content)"
   ]
  },
  {
   "cell_type": "code",
   "execution_count": 38,
   "metadata": {},
   "outputs": [],
   "source": [
    "usecase_flow=\"\"\"\n",
    "\"\"\""
   ]
  },
  {
   "cell_type": "code",
   "execution_count": 39,
   "metadata": {},
   "outputs": [],
   "source": [
    "SYSTEM_PROMPT_extract_condition =\"\"\"\n",
    "I want you to work as a software engineering who has profound knowledge about software design and software testing.\n",
    "You will be given a use case specification for an agile application.\n",
    "Your task is to identify and list out all the interactive elements within the application that require user input. For each input element, specify all the conditions of that element and what type of that element (button, card, tab, multiple tabs, text field, radio buttons, dropdown menu, sliders, switches, dialog, link, form).\n",
    "To extract all the conditions you should do as following:\n",
    "Go though the use case and define all the interactive elements, list all of them.\n",
    "For each elements, go though the use case once again and extract all the conditions related with that elements to make make the input valid and the conditions that would render it invalid base on the description of the use case specification. Then defined what type of elements, if the use case not mention, predict the type base on the input.\n",
    "Do not arbitrarily create additional conditions.\n",
    "Do not negate conditions to create the opposite condition.\n",
    "If element has multiple conditions, then combine these conditions in the valid or invalid field of that element.\n",
    "For example: In a use case mentions: 'Main flow: User input a valid username with at least 8 characters and contain at least 1 special character.\n",
    "Exception flow: User input a invalid username with is less than 8 characters or do not contain at least 1 special character.'\n",
    "Element extracted: { Username: {valid: \"should have at least 8 characters and contain at least 1 special character.\", invalid: \"\", type: 'text field'}\n",
    "Return the element extracted in json format.\n",
    "The JSON format should follow the following structure:\n",
    "{ Name of interactive element 1:   {\"valid\": Condition , \"invalid\": Condition, type: 'element type' },\n",
    " Name of interactive element 2:   {\"valid\": Condition , \"invalid\": Condition }\n",
    "  }\n",
    "\"\"\"\n",
    "#  For example: The condition 'The system should display a list of available items' or 'User can select the available items' or 'Item must display item's informaiton' must be skipped."
   ]
  },
  {
   "cell_type": "code",
   "execution_count": 40,
   "metadata": {},
   "outputs": [],
   "source": [
    "promptExtractCondtition = [\n",
    "    { \"role\": \"system\", \"content\": SYSTEM_PROMPT_extract_condition},\n",
    "    { \"role\": \"user\", \"content\": usecase_flow }\n",
    "  ]\n",
    "\n",
    "gpt_response = ask(promptExtractCondtition, client, model)\n"
   ]
  },
  {
   "cell_type": "code",
   "execution_count": 41,
   "metadata": {},
   "outputs": [
    {
     "name": "stdout",
     "output_type": "stream",
     "text": [
      "{'Personal name and avatar section': {'valid': \"User clicks on the personal name and avatar section at the top right of the platform's page.\", 'invalid': '', 'type': 'link'}, 'Status tabs': {'valid': 'User clicks on one of the tabs named All, Waiting for payment, Delivering, Waiting to deliver, Finished, Cancelled, and Returned.', 'invalid': '', 'type': 'multiple tabs'}, 'Search bar': {'valid': \"User fills in one of these options: shop's name, order's ID, or product's ID and presses enter.\", 'invalid': '', 'type': 'text field'}}\n"
     ]
    }
   ],
   "source": [
    "element = json.loads(gpt_response)\n",
    "print(element)"
   ]
  },
  {
   "cell_type": "code",
   "execution_count": 42,
   "metadata": {},
   "outputs": [],
   "source": [
    "filtered_data = {key: value for key, value in element.items() if value['type'] not in ['button', 'tab', 'card','link']}\n"
   ]
  },
  {
   "cell_type": "code",
   "execution_count": 43,
   "metadata": {},
   "outputs": [
    {
     "name": "stdout",
     "output_type": "stream",
     "text": [
      "{'Status tabs': {'valid': 'User clicks on one of the tabs named All, Waiting for payment, Delivering, Waiting to deliver, Finished, Cancelled, and Returned.', 'invalid': '', 'type': 'multiple tabs'}, 'Search bar': {'valid': \"User fills in one of these options: shop's name, order's ID, or product's ID and presses enter.\", 'invalid': '', 'type': 'text field'}}\n"
     ]
    }
   ],
   "source": [
    "print(filtered_data)"
   ]
  },
  {
   "cell_type": "code",
   "execution_count": 1,
   "metadata": {},
   "outputs": [
    {
     "ename": "NameError",
     "evalue": "name 'filtered_data' is not defined",
     "output_type": "error",
     "traceback": [
      "\u001b[1;31m---------------------------------------------------------------------------\u001b[0m",
      "\u001b[1;31mNameError\u001b[0m                                 Traceback (most recent call last)",
      "Cell \u001b[1;32mIn[1], line 1\u001b[0m\n\u001b[1;32m----> 1\u001b[0m \u001b[38;5;28;01mfor\u001b[39;00m key, value \u001b[38;5;129;01min\u001b[39;00m \u001b[43mfiltered_data\u001b[49m\u001b[38;5;241m.\u001b[39mitems:\n\u001b[0;32m      2\u001b[0m     \u001b[38;5;28mprint\u001b[39m(key)\n",
      "\u001b[1;31mNameError\u001b[0m: name 'filtered_data' is not defined"
     ]
    }
   ],
   "source": [
    "for key, value in filtered_data.items:\n",
    "    print(key)"
   ]
  }
 ],
 "metadata": {
  "kernelspec": {
   "display_name": "Python 3",
   "language": "python",
   "name": "python3"
  },
  "language_info": {
   "codemirror_mode": {
    "name": "ipython",
    "version": 3
   },
   "file_extension": ".py",
   "mimetype": "text/x-python",
   "name": "python",
   "nbconvert_exporter": "python",
   "pygments_lexer": "ipython3",
   "version": "3.10.9"
  }
 },
 "nbformat": 4,
 "nbformat_minor": 2
}
