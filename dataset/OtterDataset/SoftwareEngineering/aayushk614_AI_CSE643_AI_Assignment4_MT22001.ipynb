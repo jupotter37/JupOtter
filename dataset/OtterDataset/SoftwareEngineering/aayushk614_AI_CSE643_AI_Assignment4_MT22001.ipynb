{
  "cells": [
    {
      "cell_type": "markdown",
      "id": "92b4dcba",
      "metadata": {
        "id": "92b4dcba"
      },
      "source": [
        "## Import all the libraries"
      ]
    },
    {
      "cell_type": "code",
      "execution_count": 1,
      "id": "706a0c58",
      "metadata": {
        "id": "706a0c58"
      },
      "outputs": [],
      "source": [
        "import pandas as pd\n",
        "import numpy as np\n",
        "import os\n",
        "\n",
        "from sklearn.preprocessing import LabelEncoder, OneHotEncoder\n",
        "from sklearn.model_selection import train_test_split  \n",
        "from sklearn.preprocessing import StandardScaler  \n",
        "from sklearn.metrics import classification_report\n",
        "from sklearn.metrics import accuracy_score, confusion_matrix"
      ]
    },
    {
      "cell_type": "code",
      "execution_count": 40,
      "id": "8363b2e8",
      "metadata": {
        "id": "8363b2e8"
      },
      "outputs": [],
      "source": [
        "# Reading the roo_data.csv file using pandas library\n",
        "train_data = pd.read_csv('roo_data.csv')"
      ]
    },
    {
      "cell_type": "code",
      "execution_count": 41,
      "id": "9dc28c7c",
      "metadata": {
        "colab": {
          "base_uri": "https://localhost:8080/",
          "height": 1000
        },
        "id": "9dc28c7c",
        "outputId": "5b1af04d-74e9-4d00-8149-94d093d56cc4"
      },
      "outputs": [
        {
          "output_type": "execute_result",
          "data": {
            "text/plain": [
              "    Acedamic percentage in Operating Systems  percentage in Algorithms  \\\n",
              "0                                         69                        63   \n",
              "1                                         78                        62   \n",
              "2                                         71                        86   \n",
              "3                                         76                        87   \n",
              "4                                         92                        62   \n",
              "5                                         88                        86   \n",
              "6                                         93                        77   \n",
              "7                                         84                        72   \n",
              "8                                         73                        66   \n",
              "9                                         62                        76   \n",
              "10                                        73                        80   \n",
              "11                                        63                        76   \n",
              "12                                        63                        64   \n",
              "13                                        68                        93   \n",
              "14                                        90                        83   \n",
              "15                                        94                        71   \n",
              "16                                        60                        92   \n",
              "17                                        92                        86   \n",
              "18                                        82                        91   \n",
              "19                                        90                        73   \n",
              "\n",
              "    Percentage in Programming Concepts  Percentage in Software Engineering  \\\n",
              "0                                   78                                  87   \n",
              "1                                   73                                  60   \n",
              "2                                   91                                  87   \n",
              "3                                   60                                  84   \n",
              "4                                   90                                  67   \n",
              "5                                   62                                  79   \n",
              "6                                   69                                  79   \n",
              "7                                   88                                  62   \n",
              "8                                   66                                  81   \n",
              "9                                   85                                  91   \n",
              "10                                  70                                  83   \n",
              "11                                  81                                  90   \n",
              "12                                  61                                  67   \n",
              "13                                  77                                  60   \n",
              "14                                  66                                  71   \n",
              "15                                  63                                  74   \n",
              "16                                  94                                  90   \n",
              "17                                  61                                  63   \n",
              "18                                  68                                  86   \n",
              "19                                  90                                  67   \n",
              "\n",
              "    Percentage in Computer Networks  Percentage in Electronics Subjects  \\\n",
              "0                                94                                  94   \n",
              "1                                71                                  70   \n",
              "2                                61                                  81   \n",
              "3                                89                                  73   \n",
              "4                                71                                  89   \n",
              "5                                93                                  84   \n",
              "6                                90                                  93   \n",
              "7                                66                                  63   \n",
              "8                                81                                  69   \n",
              "9                                82                                  69   \n",
              "10                               61                                  82   \n",
              "11                               70                                  72   \n",
              "12                               61                                  70   \n",
              "13                               77                                  81   \n",
              "14                               65                                  67   \n",
              "15                               61                                  69   \n",
              "16                               62                                  94   \n",
              "17                               64                                  65   \n",
              "18                               78                                  61   \n",
              "19                               63                                  88   \n",
              "\n",
              "    Percentage in Computer Architecture  Percentage in Mathematics  \\\n",
              "0                                    87                         84   \n",
              "1                                    73                         84   \n",
              "2                                    72                         72   \n",
              "3                                    62                         88   \n",
              "4                                    73                         71   \n",
              "5                                    69                         71   \n",
              "6                                    73                         63   \n",
              "7                                    78                         94   \n",
              "8                                    61                         87   \n",
              "9                                    63                         63   \n",
              "10                                   75                         94   \n",
              "11                                   86                         89   \n",
              "12                                   65                         64   \n",
              "13                                   67                         81   \n",
              "14                                   86                         63   \n",
              "15                                   65                         62   \n",
              "16                                   62                         73   \n",
              "17                                   92                         65   \n",
              "18                                   91                         82   \n",
              "19                                   67                         60   \n",
              "\n",
              "    Percentage in Communication skills  Hours working per day  ...  \\\n",
              "0                                   61                      9  ...   \n",
              "1                                   91                     12  ...   \n",
              "2                                   94                     11  ...   \n",
              "3                                   69                      7  ...   \n",
              "4                                   73                      4  ...   \n",
              "5                                   82                     11  ...   \n",
              "6                                   77                      6  ...   \n",
              "7                                   60                     12  ...   \n",
              "8                                   90                     10  ...   \n",
              "9                                   81                     10  ...   \n",
              "10                                  89                      8  ...   \n",
              "11                                  85                      8  ...   \n",
              "12                                  79                      8  ...   \n",
              "13                                  91                     12  ...   \n",
              "14                                  62                      9  ...   \n",
              "15                                  68                      4  ...   \n",
              "16                                  60                     11  ...   \n",
              "17                                  60                      4  ...   \n",
              "18                                  82                     12  ...   \n",
              "19                                  69                     12  ...   \n",
              "\n",
              "    Interested Type of Books  Salary Range Expected  In a Realtionship?  \\\n",
              "0               Prayer books                 salary                  no   \n",
              "1                  Childrens                 salary                 yes   \n",
              "2                     Travel                   Work                  no   \n",
              "3                    Romance                   Work                 yes   \n",
              "4                  Cookbooks                 salary                  no   \n",
              "5                  Self help                 salary                  no   \n",
              "6                      Drama                   Work                 yes   \n",
              "7                    Romance                 salary                  no   \n",
              "8                       Math                   Work                  no   \n",
              "9      Religion-Spirituality                   Work                 yes   \n",
              "10                 Cookbooks                   Work                 yes   \n",
              "11                 Anthology                   Work                 yes   \n",
              "12                   Trilogy                 salary                 yes   \n",
              "13           Autobiographies                 salary                 yes   \n",
              "14                      Math                 salary                  no   \n",
              "15                 Childrens                 salary                  no   \n",
              "16                   Mystery                 salary                 yes   \n",
              "17                      Math                   Work                 yes   \n",
              "18                   Diaries                   Work                 yes   \n",
              "19           Autobiographies                   Work                 yes   \n",
              "\n",
              "    Gentle or Tuff behaviour? Management or Technical Salary/work  \\\n",
              "0                    stubborn              Management      salary   \n",
              "1                      gentle               Technical      salary   \n",
              "2                    stubborn              Management        work   \n",
              "3                      gentle              Management        work   \n",
              "4                    stubborn              Management        work   \n",
              "5                    stubborn              Management        work   \n",
              "6                      gentle               Technical      salary   \n",
              "7                    stubborn               Technical      salary   \n",
              "8                      gentle               Technical        work   \n",
              "9                      gentle              Management      salary   \n",
              "10                   stubborn              Management      salary   \n",
              "11                   stubborn              Management        work   \n",
              "12                   stubborn               Technical        work   \n",
              "13                   stubborn              Management        work   \n",
              "14                   stubborn              Management        work   \n",
              "15                   stubborn               Technical      salary   \n",
              "16                     gentle               Technical        work   \n",
              "17                   stubborn              Management      salary   \n",
              "18                   stubborn               Technical        work   \n",
              "19                   stubborn              Management        work   \n",
              "\n",
              "   hard/smart worker worked in teams ever? Introvert  \\\n",
              "0        hard worker                   yes        no   \n",
              "1        hard worker                    no       yes   \n",
              "2        hard worker                    no       yes   \n",
              "3       smart worker                   yes       yes   \n",
              "4        hard worker                   yes       yes   \n",
              "5       smart worker                   yes        no   \n",
              "6        hard worker                   yes       yes   \n",
              "7       smart worker                    no        no   \n",
              "8        hard worker                   yes       yes   \n",
              "9        hard worker                   yes        no   \n",
              "10       hard worker                   yes       yes   \n",
              "11      smart worker                   yes        no   \n",
              "12      smart worker                   yes        no   \n",
              "13      smart worker                   yes       yes   \n",
              "14       hard worker                   yes        no   \n",
              "15       hard worker                    no        no   \n",
              "16       hard worker                   yes       yes   \n",
              "17      smart worker                   yes        no   \n",
              "18       hard worker                   yes        no   \n",
              "19       hard worker                    no        no   \n",
              "\n",
              "                Suggested Job Role  \n",
              "0               Database Developer  \n",
              "1             Portal Administrator  \n",
              "2             Portal Administrator  \n",
              "3   Systems Security Administrator  \n",
              "4         Business Systems Analyst  \n",
              "5        Software Systems Engineer  \n",
              "6               Database Developer  \n",
              "7    Business Intelligence Analyst  \n",
              "8         Business Systems Analyst  \n",
              "9          CRM Technical Developer  \n",
              "10   Mobile Applications Developer  \n",
              "11                     UX Designer  \n",
              "12         CRM Technical Developer  \n",
              "13        Business Systems Analyst  \n",
              "14     Quality Assurance Associate  \n",
              "15                   Web Developer  \n",
              "16                   Web Developer  \n",
              "17    Information Security Analyst  \n",
              "18            CRM Business Analyst  \n",
              "19    Information Security Analyst  \n",
              "\n",
              "[20 rows x 39 columns]"
            ],
            "text/html": [
              "\n",
              "  <div id=\"df-20989a38-1761-4ed9-a468-ca574d67a86a\">\n",
              "    <div class=\"colab-df-container\">\n",
              "      <div>\n",
              "<style scoped>\n",
              "    .dataframe tbody tr th:only-of-type {\n",
              "        vertical-align: middle;\n",
              "    }\n",
              "\n",
              "    .dataframe tbody tr th {\n",
              "        vertical-align: top;\n",
              "    }\n",
              "\n",
              "    .dataframe thead th {\n",
              "        text-align: right;\n",
              "    }\n",
              "</style>\n",
              "<table border=\"1\" class=\"dataframe\">\n",
              "  <thead>\n",
              "    <tr style=\"text-align: right;\">\n",
              "      <th></th>\n",
              "      <th>Acedamic percentage in Operating Systems</th>\n",
              "      <th>percentage in Algorithms</th>\n",
              "      <th>Percentage in Programming Concepts</th>\n",
              "      <th>Percentage in Software Engineering</th>\n",
              "      <th>Percentage in Computer Networks</th>\n",
              "      <th>Percentage in Electronics Subjects</th>\n",
              "      <th>Percentage in Computer Architecture</th>\n",
              "      <th>Percentage in Mathematics</th>\n",
              "      <th>Percentage in Communication skills</th>\n",
              "      <th>Hours working per day</th>\n",
              "      <th>...</th>\n",
              "      <th>Interested Type of Books</th>\n",
              "      <th>Salary Range Expected</th>\n",
              "      <th>In a Realtionship?</th>\n",
              "      <th>Gentle or Tuff behaviour?</th>\n",
              "      <th>Management or Technical</th>\n",
              "      <th>Salary/work</th>\n",
              "      <th>hard/smart worker</th>\n",
              "      <th>worked in teams ever?</th>\n",
              "      <th>Introvert</th>\n",
              "      <th>Suggested Job Role</th>\n",
              "    </tr>\n",
              "  </thead>\n",
              "  <tbody>\n",
              "    <tr>\n",
              "      <th>0</th>\n",
              "      <td>69</td>\n",
              "      <td>63</td>\n",
              "      <td>78</td>\n",
              "      <td>87</td>\n",
              "      <td>94</td>\n",
              "      <td>94</td>\n",
              "      <td>87</td>\n",
              "      <td>84</td>\n",
              "      <td>61</td>\n",
              "      <td>9</td>\n",
              "      <td>...</td>\n",
              "      <td>Prayer books</td>\n",
              "      <td>salary</td>\n",
              "      <td>no</td>\n",
              "      <td>stubborn</td>\n",
              "      <td>Management</td>\n",
              "      <td>salary</td>\n",
              "      <td>hard worker</td>\n",
              "      <td>yes</td>\n",
              "      <td>no</td>\n",
              "      <td>Database Developer</td>\n",
              "    </tr>\n",
              "    <tr>\n",
              "      <th>1</th>\n",
              "      <td>78</td>\n",
              "      <td>62</td>\n",
              "      <td>73</td>\n",
              "      <td>60</td>\n",
              "      <td>71</td>\n",
              "      <td>70</td>\n",
              "      <td>73</td>\n",
              "      <td>84</td>\n",
              "      <td>91</td>\n",
              "      <td>12</td>\n",
              "      <td>...</td>\n",
              "      <td>Childrens</td>\n",
              "      <td>salary</td>\n",
              "      <td>yes</td>\n",
              "      <td>gentle</td>\n",
              "      <td>Technical</td>\n",
              "      <td>salary</td>\n",
              "      <td>hard worker</td>\n",
              "      <td>no</td>\n",
              "      <td>yes</td>\n",
              "      <td>Portal Administrator</td>\n",
              "    </tr>\n",
              "    <tr>\n",
              "      <th>2</th>\n",
              "      <td>71</td>\n",
              "      <td>86</td>\n",
              "      <td>91</td>\n",
              "      <td>87</td>\n",
              "      <td>61</td>\n",
              "      <td>81</td>\n",
              "      <td>72</td>\n",
              "      <td>72</td>\n",
              "      <td>94</td>\n",
              "      <td>11</td>\n",
              "      <td>...</td>\n",
              "      <td>Travel</td>\n",
              "      <td>Work</td>\n",
              "      <td>no</td>\n",
              "      <td>stubborn</td>\n",
              "      <td>Management</td>\n",
              "      <td>work</td>\n",
              "      <td>hard worker</td>\n",
              "      <td>no</td>\n",
              "      <td>yes</td>\n",
              "      <td>Portal Administrator</td>\n",
              "    </tr>\n",
              "    <tr>\n",
              "      <th>3</th>\n",
              "      <td>76</td>\n",
              "      <td>87</td>\n",
              "      <td>60</td>\n",
              "      <td>84</td>\n",
              "      <td>89</td>\n",
              "      <td>73</td>\n",
              "      <td>62</td>\n",
              "      <td>88</td>\n",
              "      <td>69</td>\n",
              "      <td>7</td>\n",
              "      <td>...</td>\n",
              "      <td>Romance</td>\n",
              "      <td>Work</td>\n",
              "      <td>yes</td>\n",
              "      <td>gentle</td>\n",
              "      <td>Management</td>\n",
              "      <td>work</td>\n",
              "      <td>smart worker</td>\n",
              "      <td>yes</td>\n",
              "      <td>yes</td>\n",
              "      <td>Systems Security Administrator</td>\n",
              "    </tr>\n",
              "    <tr>\n",
              "      <th>4</th>\n",
              "      <td>92</td>\n",
              "      <td>62</td>\n",
              "      <td>90</td>\n",
              "      <td>67</td>\n",
              "      <td>71</td>\n",
              "      <td>89</td>\n",
              "      <td>73</td>\n",
              "      <td>71</td>\n",
              "      <td>73</td>\n",
              "      <td>4</td>\n",
              "      <td>...</td>\n",
              "      <td>Cookbooks</td>\n",
              "      <td>salary</td>\n",
              "      <td>no</td>\n",
              "      <td>stubborn</td>\n",
              "      <td>Management</td>\n",
              "      <td>work</td>\n",
              "      <td>hard worker</td>\n",
              "      <td>yes</td>\n",
              "      <td>yes</td>\n",
              "      <td>Business Systems Analyst</td>\n",
              "    </tr>\n",
              "    <tr>\n",
              "      <th>5</th>\n",
              "      <td>88</td>\n",
              "      <td>86</td>\n",
              "      <td>62</td>\n",
              "      <td>79</td>\n",
              "      <td>93</td>\n",
              "      <td>84</td>\n",
              "      <td>69</td>\n",
              "      <td>71</td>\n",
              "      <td>82</td>\n",
              "      <td>11</td>\n",
              "      <td>...</td>\n",
              "      <td>Self help</td>\n",
              "      <td>salary</td>\n",
              "      <td>no</td>\n",
              "      <td>stubborn</td>\n",
              "      <td>Management</td>\n",
              "      <td>work</td>\n",
              "      <td>smart worker</td>\n",
              "      <td>yes</td>\n",
              "      <td>no</td>\n",
              "      <td>Software Systems Engineer</td>\n",
              "    </tr>\n",
              "    <tr>\n",
              "      <th>6</th>\n",
              "      <td>93</td>\n",
              "      <td>77</td>\n",
              "      <td>69</td>\n",
              "      <td>79</td>\n",
              "      <td>90</td>\n",
              "      <td>93</td>\n",
              "      <td>73</td>\n",
              "      <td>63</td>\n",
              "      <td>77</td>\n",
              "      <td>6</td>\n",
              "      <td>...</td>\n",
              "      <td>Drama</td>\n",
              "      <td>Work</td>\n",
              "      <td>yes</td>\n",
              "      <td>gentle</td>\n",
              "      <td>Technical</td>\n",
              "      <td>salary</td>\n",
              "      <td>hard worker</td>\n",
              "      <td>yes</td>\n",
              "      <td>yes</td>\n",
              "      <td>Database Developer</td>\n",
              "    </tr>\n",
              "    <tr>\n",
              "      <th>7</th>\n",
              "      <td>84</td>\n",
              "      <td>72</td>\n",
              "      <td>88</td>\n",
              "      <td>62</td>\n",
              "      <td>66</td>\n",
              "      <td>63</td>\n",
              "      <td>78</td>\n",
              "      <td>94</td>\n",
              "      <td>60</td>\n",
              "      <td>12</td>\n",
              "      <td>...</td>\n",
              "      <td>Romance</td>\n",
              "      <td>salary</td>\n",
              "      <td>no</td>\n",
              "      <td>stubborn</td>\n",
              "      <td>Technical</td>\n",
              "      <td>salary</td>\n",
              "      <td>smart worker</td>\n",
              "      <td>no</td>\n",
              "      <td>no</td>\n",
              "      <td>Business Intelligence Analyst</td>\n",
              "    </tr>\n",
              "    <tr>\n",
              "      <th>8</th>\n",
              "      <td>73</td>\n",
              "      <td>66</td>\n",
              "      <td>66</td>\n",
              "      <td>81</td>\n",
              "      <td>81</td>\n",
              "      <td>69</td>\n",
              "      <td>61</td>\n",
              "      <td>87</td>\n",
              "      <td>90</td>\n",
              "      <td>10</td>\n",
              "      <td>...</td>\n",
              "      <td>Math</td>\n",
              "      <td>Work</td>\n",
              "      <td>no</td>\n",
              "      <td>gentle</td>\n",
              "      <td>Technical</td>\n",
              "      <td>work</td>\n",
              "      <td>hard worker</td>\n",
              "      <td>yes</td>\n",
              "      <td>yes</td>\n",
              "      <td>Business Systems Analyst</td>\n",
              "    </tr>\n",
              "    <tr>\n",
              "      <th>9</th>\n",
              "      <td>62</td>\n",
              "      <td>76</td>\n",
              "      <td>85</td>\n",
              "      <td>91</td>\n",
              "      <td>82</td>\n",
              "      <td>69</td>\n",
              "      <td>63</td>\n",
              "      <td>63</td>\n",
              "      <td>81</td>\n",
              "      <td>10</td>\n",
              "      <td>...</td>\n",
              "      <td>Religion-Spirituality</td>\n",
              "      <td>Work</td>\n",
              "      <td>yes</td>\n",
              "      <td>gentle</td>\n",
              "      <td>Management</td>\n",
              "      <td>salary</td>\n",
              "      <td>hard worker</td>\n",
              "      <td>yes</td>\n",
              "      <td>no</td>\n",
              "      <td>CRM Technical Developer</td>\n",
              "    </tr>\n",
              "    <tr>\n",
              "      <th>10</th>\n",
              "      <td>73</td>\n",
              "      <td>80</td>\n",
              "      <td>70</td>\n",
              "      <td>83</td>\n",
              "      <td>61</td>\n",
              "      <td>82</td>\n",
              "      <td>75</td>\n",
              "      <td>94</td>\n",
              "      <td>89</td>\n",
              "      <td>8</td>\n",
              "      <td>...</td>\n",
              "      <td>Cookbooks</td>\n",
              "      <td>Work</td>\n",
              "      <td>yes</td>\n",
              "      <td>stubborn</td>\n",
              "      <td>Management</td>\n",
              "      <td>salary</td>\n",
              "      <td>hard worker</td>\n",
              "      <td>yes</td>\n",
              "      <td>yes</td>\n",
              "      <td>Mobile Applications Developer</td>\n",
              "    </tr>\n",
              "    <tr>\n",
              "      <th>11</th>\n",
              "      <td>63</td>\n",
              "      <td>76</td>\n",
              "      <td>81</td>\n",
              "      <td>90</td>\n",
              "      <td>70</td>\n",
              "      <td>72</td>\n",
              "      <td>86</td>\n",
              "      <td>89</td>\n",
              "      <td>85</td>\n",
              "      <td>8</td>\n",
              "      <td>...</td>\n",
              "      <td>Anthology</td>\n",
              "      <td>Work</td>\n",
              "      <td>yes</td>\n",
              "      <td>stubborn</td>\n",
              "      <td>Management</td>\n",
              "      <td>work</td>\n",
              "      <td>smart worker</td>\n",
              "      <td>yes</td>\n",
              "      <td>no</td>\n",
              "      <td>UX Designer</td>\n",
              "    </tr>\n",
              "    <tr>\n",
              "      <th>12</th>\n",
              "      <td>63</td>\n",
              "      <td>64</td>\n",
              "      <td>61</td>\n",
              "      <td>67</td>\n",
              "      <td>61</td>\n",
              "      <td>70</td>\n",
              "      <td>65</td>\n",
              "      <td>64</td>\n",
              "      <td>79</td>\n",
              "      <td>8</td>\n",
              "      <td>...</td>\n",
              "      <td>Trilogy</td>\n",
              "      <td>salary</td>\n",
              "      <td>yes</td>\n",
              "      <td>stubborn</td>\n",
              "      <td>Technical</td>\n",
              "      <td>work</td>\n",
              "      <td>smart worker</td>\n",
              "      <td>yes</td>\n",
              "      <td>no</td>\n",
              "      <td>CRM Technical Developer</td>\n",
              "    </tr>\n",
              "    <tr>\n",
              "      <th>13</th>\n",
              "      <td>68</td>\n",
              "      <td>93</td>\n",
              "      <td>77</td>\n",
              "      <td>60</td>\n",
              "      <td>77</td>\n",
              "      <td>81</td>\n",
              "      <td>67</td>\n",
              "      <td>81</td>\n",
              "      <td>91</td>\n",
              "      <td>12</td>\n",
              "      <td>...</td>\n",
              "      <td>Autobiographies</td>\n",
              "      <td>salary</td>\n",
              "      <td>yes</td>\n",
              "      <td>stubborn</td>\n",
              "      <td>Management</td>\n",
              "      <td>work</td>\n",
              "      <td>smart worker</td>\n",
              "      <td>yes</td>\n",
              "      <td>yes</td>\n",
              "      <td>Business Systems Analyst</td>\n",
              "    </tr>\n",
              "    <tr>\n",
              "      <th>14</th>\n",
              "      <td>90</td>\n",
              "      <td>83</td>\n",
              "      <td>66</td>\n",
              "      <td>71</td>\n",
              "      <td>65</td>\n",
              "      <td>67</td>\n",
              "      <td>86</td>\n",
              "      <td>63</td>\n",
              "      <td>62</td>\n",
              "      <td>9</td>\n",
              "      <td>...</td>\n",
              "      <td>Math</td>\n",
              "      <td>salary</td>\n",
              "      <td>no</td>\n",
              "      <td>stubborn</td>\n",
              "      <td>Management</td>\n",
              "      <td>work</td>\n",
              "      <td>hard worker</td>\n",
              "      <td>yes</td>\n",
              "      <td>no</td>\n",
              "      <td>Quality Assurance Associate</td>\n",
              "    </tr>\n",
              "    <tr>\n",
              "      <th>15</th>\n",
              "      <td>94</td>\n",
              "      <td>71</td>\n",
              "      <td>63</td>\n",
              "      <td>74</td>\n",
              "      <td>61</td>\n",
              "      <td>69</td>\n",
              "      <td>65</td>\n",
              "      <td>62</td>\n",
              "      <td>68</td>\n",
              "      <td>4</td>\n",
              "      <td>...</td>\n",
              "      <td>Childrens</td>\n",
              "      <td>salary</td>\n",
              "      <td>no</td>\n",
              "      <td>stubborn</td>\n",
              "      <td>Technical</td>\n",
              "      <td>salary</td>\n",
              "      <td>hard worker</td>\n",
              "      <td>no</td>\n",
              "      <td>no</td>\n",
              "      <td>Web Developer</td>\n",
              "    </tr>\n",
              "    <tr>\n",
              "      <th>16</th>\n",
              "      <td>60</td>\n",
              "      <td>92</td>\n",
              "      <td>94</td>\n",
              "      <td>90</td>\n",
              "      <td>62</td>\n",
              "      <td>94</td>\n",
              "      <td>62</td>\n",
              "      <td>73</td>\n",
              "      <td>60</td>\n",
              "      <td>11</td>\n",
              "      <td>...</td>\n",
              "      <td>Mystery</td>\n",
              "      <td>salary</td>\n",
              "      <td>yes</td>\n",
              "      <td>gentle</td>\n",
              "      <td>Technical</td>\n",
              "      <td>work</td>\n",
              "      <td>hard worker</td>\n",
              "      <td>yes</td>\n",
              "      <td>yes</td>\n",
              "      <td>Web Developer</td>\n",
              "    </tr>\n",
              "    <tr>\n",
              "      <th>17</th>\n",
              "      <td>92</td>\n",
              "      <td>86</td>\n",
              "      <td>61</td>\n",
              "      <td>63</td>\n",
              "      <td>64</td>\n",
              "      <td>65</td>\n",
              "      <td>92</td>\n",
              "      <td>65</td>\n",
              "      <td>60</td>\n",
              "      <td>4</td>\n",
              "      <td>...</td>\n",
              "      <td>Math</td>\n",
              "      <td>Work</td>\n",
              "      <td>yes</td>\n",
              "      <td>stubborn</td>\n",
              "      <td>Management</td>\n",
              "      <td>salary</td>\n",
              "      <td>smart worker</td>\n",
              "      <td>yes</td>\n",
              "      <td>no</td>\n",
              "      <td>Information Security Analyst</td>\n",
              "    </tr>\n",
              "    <tr>\n",
              "      <th>18</th>\n",
              "      <td>82</td>\n",
              "      <td>91</td>\n",
              "      <td>68</td>\n",
              "      <td>86</td>\n",
              "      <td>78</td>\n",
              "      <td>61</td>\n",
              "      <td>91</td>\n",
              "      <td>82</td>\n",
              "      <td>82</td>\n",
              "      <td>12</td>\n",
              "      <td>...</td>\n",
              "      <td>Diaries</td>\n",
              "      <td>Work</td>\n",
              "      <td>yes</td>\n",
              "      <td>stubborn</td>\n",
              "      <td>Technical</td>\n",
              "      <td>work</td>\n",
              "      <td>hard worker</td>\n",
              "      <td>yes</td>\n",
              "      <td>no</td>\n",
              "      <td>CRM Business Analyst</td>\n",
              "    </tr>\n",
              "    <tr>\n",
              "      <th>19</th>\n",
              "      <td>90</td>\n",
              "      <td>73</td>\n",
              "      <td>90</td>\n",
              "      <td>67</td>\n",
              "      <td>63</td>\n",
              "      <td>88</td>\n",
              "      <td>67</td>\n",
              "      <td>60</td>\n",
              "      <td>69</td>\n",
              "      <td>12</td>\n",
              "      <td>...</td>\n",
              "      <td>Autobiographies</td>\n",
              "      <td>Work</td>\n",
              "      <td>yes</td>\n",
              "      <td>stubborn</td>\n",
              "      <td>Management</td>\n",
              "      <td>work</td>\n",
              "      <td>hard worker</td>\n",
              "      <td>no</td>\n",
              "      <td>no</td>\n",
              "      <td>Information Security Analyst</td>\n",
              "    </tr>\n",
              "  </tbody>\n",
              "</table>\n",
              "<p>20 rows × 39 columns</p>\n",
              "</div>\n",
              "      <button class=\"colab-df-convert\" onclick=\"convertToInteractive('df-20989a38-1761-4ed9-a468-ca574d67a86a')\"\n",
              "              title=\"Convert this dataframe to an interactive table.\"\n",
              "              style=\"display:none;\">\n",
              "        \n",
              "  <svg xmlns=\"http://www.w3.org/2000/svg\" height=\"24px\"viewBox=\"0 0 24 24\"\n",
              "       width=\"24px\">\n",
              "    <path d=\"M0 0h24v24H0V0z\" fill=\"none\"/>\n",
              "    <path d=\"M18.56 5.44l.94 2.06.94-2.06 2.06-.94-2.06-.94-.94-2.06-.94 2.06-2.06.94zm-11 1L8.5 8.5l.94-2.06 2.06-.94-2.06-.94L8.5 2.5l-.94 2.06-2.06.94zm10 10l.94 2.06.94-2.06 2.06-.94-2.06-.94-.94-2.06-.94 2.06-2.06.94z\"/><path d=\"M17.41 7.96l-1.37-1.37c-.4-.4-.92-.59-1.43-.59-.52 0-1.04.2-1.43.59L10.3 9.45l-7.72 7.72c-.78.78-.78 2.05 0 2.83L4 21.41c.39.39.9.59 1.41.59.51 0 1.02-.2 1.41-.59l7.78-7.78 2.81-2.81c.8-.78.8-2.07 0-2.86zM5.41 20L4 18.59l7.72-7.72 1.47 1.35L5.41 20z\"/>\n",
              "  </svg>\n",
              "      </button>\n",
              "      \n",
              "  <style>\n",
              "    .colab-df-container {\n",
              "      display:flex;\n",
              "      flex-wrap:wrap;\n",
              "      gap: 12px;\n",
              "    }\n",
              "\n",
              "    .colab-df-convert {\n",
              "      background-color: #E8F0FE;\n",
              "      border: none;\n",
              "      border-radius: 50%;\n",
              "      cursor: pointer;\n",
              "      display: none;\n",
              "      fill: #1967D2;\n",
              "      height: 32px;\n",
              "      padding: 0 0 0 0;\n",
              "      width: 32px;\n",
              "    }\n",
              "\n",
              "    .colab-df-convert:hover {\n",
              "      background-color: #E2EBFA;\n",
              "      box-shadow: 0px 1px 2px rgba(60, 64, 67, 0.3), 0px 1px 3px 1px rgba(60, 64, 67, 0.15);\n",
              "      fill: #174EA6;\n",
              "    }\n",
              "\n",
              "    [theme=dark] .colab-df-convert {\n",
              "      background-color: #3B4455;\n",
              "      fill: #D2E3FC;\n",
              "    }\n",
              "\n",
              "    [theme=dark] .colab-df-convert:hover {\n",
              "      background-color: #434B5C;\n",
              "      box-shadow: 0px 1px 3px 1px rgba(0, 0, 0, 0.15);\n",
              "      filter: drop-shadow(0px 1px 2px rgba(0, 0, 0, 0.3));\n",
              "      fill: #FFFFFF;\n",
              "    }\n",
              "  </style>\n",
              "\n",
              "      <script>\n",
              "        const buttonEl =\n",
              "          document.querySelector('#df-20989a38-1761-4ed9-a468-ca574d67a86a button.colab-df-convert');\n",
              "        buttonEl.style.display =\n",
              "          google.colab.kernel.accessAllowed ? 'block' : 'none';\n",
              "\n",
              "        async function convertToInteractive(key) {\n",
              "          const element = document.querySelector('#df-20989a38-1761-4ed9-a468-ca574d67a86a');\n",
              "          const dataTable =\n",
              "            await google.colab.kernel.invokeFunction('convertToInteractive',\n",
              "                                                     [key], {});\n",
              "          if (!dataTable) return;\n",
              "\n",
              "          const docLinkHtml = 'Like what you see? Visit the ' +\n",
              "            '<a target=\"_blank\" href=https://colab.research.google.com/notebooks/data_table.ipynb>data table notebook</a>'\n",
              "            + ' to learn more about interactive tables.';\n",
              "          element.innerHTML = '';\n",
              "          dataTable['output_type'] = 'display_data';\n",
              "          await google.colab.output.renderOutput(dataTable, element);\n",
              "          const docLink = document.createElement('div');\n",
              "          docLink.innerHTML = docLinkHtml;\n",
              "          element.appendChild(docLink);\n",
              "        }\n",
              "      </script>\n",
              "    </div>\n",
              "  </div>\n",
              "  "
            ]
          },
          "metadata": {},
          "execution_count": 41
        }
      ],
      "source": [
        "# Printing top 20 rows of data\n",
        "train_data.head(20)"
      ]
    },
    {
      "cell_type": "code",
      "execution_count": 42,
      "id": "7c7127ae",
      "metadata": {
        "id": "7c7127ae"
      },
      "outputs": [],
      "source": [
        "df = train_data.copy()"
      ]
    },
    {
      "cell_type": "code",
      "source": [
        "df.info()"
      ],
      "metadata": {
        "colab": {
          "base_uri": "https://localhost:8080/"
        },
        "id": "Eu9mOyLuxwoT",
        "outputId": "2bdf5da9-a6d0-44be-8269-9015540c81ec"
      },
      "id": "Eu9mOyLuxwoT",
      "execution_count": 43,
      "outputs": [
        {
          "output_type": "stream",
          "name": "stdout",
          "text": [
            "<class 'pandas.core.frame.DataFrame'>\n",
            "RangeIndex: 20000 entries, 0 to 19999\n",
            "Data columns (total 39 columns):\n",
            " #   Column                                    Non-Null Count  Dtype \n",
            "---  ------                                    --------------  ----- \n",
            " 0   Acedamic percentage in Operating Systems  20000 non-null  int64 \n",
            " 1   percentage in Algorithms                  20000 non-null  int64 \n",
            " 2   Percentage in Programming Concepts        20000 non-null  int64 \n",
            " 3   Percentage in Software Engineering        20000 non-null  int64 \n",
            " 4   Percentage in Computer Networks           20000 non-null  int64 \n",
            " 5   Percentage in Electronics Subjects        20000 non-null  int64 \n",
            " 6   Percentage in Computer Architecture       20000 non-null  int64 \n",
            " 7   Percentage in Mathematics                 20000 non-null  int64 \n",
            " 8   Percentage in Communication skills        20000 non-null  int64 \n",
            " 9   Hours working per day                     20000 non-null  int64 \n",
            " 10  Logical quotient rating                   20000 non-null  int64 \n",
            " 11  hackathons                                20000 non-null  int64 \n",
            " 12  coding skills rating                      20000 non-null  int64 \n",
            " 13  public speaking points                    20000 non-null  int64 \n",
            " 14  can work long time before system?         20000 non-null  object\n",
            " 15  self-learning capability?                 20000 non-null  object\n",
            " 16  Extra-courses did                         20000 non-null  object\n",
            " 17  certifications                            20000 non-null  object\n",
            " 18  workshops                                 20000 non-null  object\n",
            " 19  talenttests taken?                        20000 non-null  object\n",
            " 20  olympiads                                 20000 non-null  object\n",
            " 21  reading and writing skills                20000 non-null  object\n",
            " 22  memory capability score                   20000 non-null  object\n",
            " 23  Interested subjects                       20000 non-null  object\n",
            " 24  interested career area                    20000 non-null  object\n",
            " 25  Job/Higher Studies?                       20000 non-null  object\n",
            " 26  Type of company want to settle in?        20000 non-null  object\n",
            " 27  Taken inputs from seniors or elders       20000 non-null  object\n",
            " 28  interested in games                       20000 non-null  object\n",
            " 29  Interested Type of Books                  20000 non-null  object\n",
            " 30  Salary Range Expected                     20000 non-null  object\n",
            " 31  In a Realtionship?                        20000 non-null  object\n",
            " 32  Gentle or Tuff behaviour?                 20000 non-null  object\n",
            " 33  Management or Technical                   20000 non-null  object\n",
            " 34  Salary/work                               20000 non-null  object\n",
            " 35  hard/smart worker                         20000 non-null  object\n",
            " 36  worked in teams ever?                     20000 non-null  object\n",
            " 37  Introvert                                 20000 non-null  object\n",
            " 38  Suggested Job Role                        20000 non-null  object\n",
            "dtypes: int64(14), object(25)\n",
            "memory usage: 6.0+ MB\n"
          ]
        }
      ]
    },
    {
      "cell_type": "markdown",
      "id": "f6446ba1",
      "metadata": {
        "id": "f6446ba1"
      },
      "source": [
        "## Data Preprocessing"
      ]
    },
    {
      "cell_type": "code",
      "source": [
        "df.columns"
      ],
      "metadata": {
        "colab": {
          "base_uri": "https://localhost:8080/"
        },
        "id": "dlTia4yLs8K3",
        "outputId": "f7247c27-a77a-43a5-8029-c65fed4117a8"
      },
      "id": "dlTia4yLs8K3",
      "execution_count": 5,
      "outputs": [
        {
          "output_type": "execute_result",
          "data": {
            "text/plain": [
              "Index(['Acedamic percentage in Operating Systems', 'percentage in Algorithms',\n",
              "       'Percentage in Programming Concepts',\n",
              "       'Percentage in Software Engineering', 'Percentage in Computer Networks',\n",
              "       'Percentage in Electronics Subjects',\n",
              "       'Percentage in Computer Architecture', 'Percentage in Mathematics',\n",
              "       'Percentage in Communication skills', 'Hours working per day',\n",
              "       'Logical quotient rating', 'hackathons', 'coding skills rating',\n",
              "       'public speaking points', 'can work long time before system?',\n",
              "       'self-learning capability?', 'Extra-courses did', 'certifications',\n",
              "       'workshops', 'talenttests taken?', 'olympiads',\n",
              "       'reading and writing skills', 'memory capability score',\n",
              "       'Interested subjects', 'interested career area ', 'Job/Higher Studies?',\n",
              "       'Type of company want to settle in?',\n",
              "       'Taken inputs from seniors or elders', 'interested in games',\n",
              "       'Interested Type of Books', 'Salary Range Expected',\n",
              "       'In a Realtionship?', 'Gentle or Tuff behaviour?',\n",
              "       'Management or Technical', 'Salary/work', 'hard/smart worker',\n",
              "       'worked in teams ever?', 'Introvert', 'Suggested Job Role'],\n",
              "      dtype='object')"
            ]
          },
          "metadata": {},
          "execution_count": 5
        }
      ]
    },
    {
      "cell_type": "code",
      "source": [
        "df.rename(columns = {'Acedamic percentage in Operating Systems':'Acedamic percentage in ML', \n",
        "                     'percentage in Algorithms':'Percentage in AI',\n",
        "                     'Percentage in Programming Concepts':'Percentage in GA',\n",
        "                     'Percentage in Software Engineering':'Percentage in DMG',\n",
        "                     'Percentage in Computer Networks':'Percentage in NLP',\n",
        "                     'Percentage in Computer Architecture':'Percentage in DL',\n",
        "                     'Percentage in Mathematics':'Percentage in LA',\n",
        "                     'Percentage in Electronics Subjects':'Percentage in NSC',\n",
        "                     'Percentage in Communication skills':'Percentage in PSOSM'},inplace = True)"
      ],
      "metadata": {
        "id": "0fInGQkeiCyr"
      },
      "id": "0fInGQkeiCyr",
      "execution_count": 6,
      "outputs": []
    },
    {
      "cell_type": "code",
      "source": [
        "#Printing columns name\n",
        "\n",
        "df.columns"
      ],
      "metadata": {
        "colab": {
          "base_uri": "https://localhost:8080/"
        },
        "id": "fv2T1rpTtCaS",
        "outputId": "85eec920-1915-4190-dfc6-4239b12725eb"
      },
      "id": "fv2T1rpTtCaS",
      "execution_count": 8,
      "outputs": [
        {
          "output_type": "execute_result",
          "data": {
            "text/plain": [
              "Index(['Acedamic percentage in ML', 'Percentage in AI', 'Percentage in GA',\n",
              "       'Percentage in DMG', 'Percentage in NLP', 'Percentage in NSC',\n",
              "       'Percentage in DL', 'Percentage in LA', 'Percentage in PSOSM',\n",
              "       'Hours working per day', 'Logical quotient rating', 'hackathons',\n",
              "       'coding skills rating', 'public speaking points',\n",
              "       'can work long time before system?', 'self-learning capability?',\n",
              "       'Extra-courses did', 'certifications', 'workshops',\n",
              "       'talenttests taken?', 'olympiads', 'reading and writing skills',\n",
              "       'memory capability score', 'Interested subjects',\n",
              "       'interested career area ', 'Job/Higher Studies?',\n",
              "       'Type of company want to settle in?',\n",
              "       'Taken inputs from seniors or elders', 'interested in games',\n",
              "       'Interested Type of Books', 'Salary Range Expected',\n",
              "       'In a Realtionship?', 'Gentle or Tuff behaviour?',\n",
              "       'Management or Technical', 'Salary/work', 'hard/smart worker',\n",
              "       'worked in teams ever?', 'Introvert', 'Suggested Job Role'],\n",
              "      dtype='object')"
            ]
          },
          "metadata": {},
          "execution_count": 8
        }
      ]
    },
    {
      "cell_type": "code",
      "source": [],
      "metadata": {
        "id": "X5mDzW5cs_AW"
      },
      "id": "X5mDzW5cs_AW",
      "execution_count": 8,
      "outputs": []
    },
    {
      "cell_type": "code",
      "execution_count": 9,
      "id": "bf420596",
      "metadata": {
        "id": "bf420596"
      },
      "outputs": [],
      "source": [
        "# Converting Percentage values of the subject to Grades on a scale of 10 to 4\n",
        "# Where 4 is the lowest grade and 10 is the highest grade\n",
        "\n",
        "subject_columns = ['Acedamic percentage in ML', 'Percentage in AI', 'Percentage in GA', 'Percentage in DMG', 'Percentage in NLP','Percentage in DL',               \n",
        "'Percentage in LA','Percentage in NSC','Percentage in PSOSM']\n",
        "\n",
        "for i in subject_columns:\n",
        "    df.loc[(df[i] < 40), i] = 4\n",
        "    df.loc[(df[i] >= 40) & (df[i] < 50), i] = 5\n",
        "    df.loc[(df[i] >= 50) & (df[i] < 60), i] = 6\n",
        "    df.loc[(df[i] >= 60) & (df[i] < 70), i] = 7\n",
        "    df.loc[(df[i] >= 70) & (df[i] < 80), i] = 8\n",
        "    df.loc[(df[i] >= 80) & (df[i] < 90), i] = 9\n",
        "    df.loc[(df[i] >= 90), i] = 10    \n",
        "    "
      ]
    },
    {
      "cell_type": "code",
      "execution_count": 10,
      "id": "8c1e0af9",
      "metadata": {
        "id": "8c1e0af9"
      },
      "outputs": [],
      "source": [
        "# Converting Logical quotient rating column to Low, Medium, High\n",
        "\n",
        "df.loc[df['Logical quotient rating'] < 4, 'Logical quotient rating'] = 1\n",
        "df.loc[(df['Logical quotient rating'] >= 4) & (df['Logical quotient rating'] < 8), 'Logical quotient rating'] = 2\n",
        "df.loc[df['Logical quotient rating'] >= 8, 'Logical quotient rating'] = 3"
      ]
    },
    {
      "cell_type": "code",
      "source": [
        "df['Type of company want to settle in?'].unique()"
      ],
      "metadata": {
        "colab": {
          "base_uri": "https://localhost:8080/"
        },
        "id": "W5fpRvYUbtTa",
        "outputId": "18abadc5-d295-4a56-a17b-1bdf36148cb7"
      },
      "id": "W5fpRvYUbtTa",
      "execution_count": 11,
      "outputs": [
        {
          "output_type": "execute_result",
          "data": {
            "text/plain": [
              "array(['Web Services', 'SAaS services', 'Sales and Marketing',\n",
              "       'Testing and Maintainance Services', 'product development', 'BPA',\n",
              "       'Service Based', 'Product based', 'Cloud Services', 'Finance'],\n",
              "      dtype=object)"
            ]
          },
          "metadata": {},
          "execution_count": 11
        }
      ]
    },
    {
      "cell_type": "code",
      "execution_count": 47,
      "id": "8599c97b",
      "metadata": {
        "id": "8599c97b"
      },
      "outputs": [],
      "source": [
        "# Converting column values into three types of categories for attribute Type of company want to settle in?\n",
        "\n",
        "job_categories = {'Product Based':['product development', 'BPA','Product based'],\n",
        "                 'Service Based':['Web Services','SAaS services','Testing and Maintainance Services','Service Based','Cloud Services'],\n",
        "                 'Sales Based':['Sales and Marketing','Finance']}\n",
        "\n",
        "for jobs in job_categories:\n",
        "    df.loc[df['Type of company want to settle in?'].isin(job_categories[jobs]),'Type of company want to settle in?'] = jobs"
      ]
    },
    {
      "cell_type": "code",
      "source": [
        "df['Type of company want to settle in?'].unique()"
      ],
      "metadata": {
        "colab": {
          "base_uri": "https://localhost:8080/"
        },
        "id": "hh81uKxDmmxD",
        "outputId": "b4bb0283-a22b-4665-fbae-d24f6d34661a"
      },
      "id": "hh81uKxDmmxD",
      "execution_count": 48,
      "outputs": [
        {
          "output_type": "execute_result",
          "data": {
            "text/plain": [
              "array(['Service Based', 'Sales Based', 'Product Based'], dtype=object)"
            ]
          },
          "metadata": {},
          "execution_count": 48
        }
      ]
    },
    {
      "cell_type": "code",
      "execution_count": 14,
      "id": "d9861a11",
      "metadata": {
        "colab": {
          "base_uri": "https://localhost:8080/"
        },
        "id": "d9861a11",
        "outputId": "e70bbaaf-5306-4be8-e9cd-21f7aa3f51f8"
      },
      "outputs": [
        {
          "output_type": "execute_result",
          "data": {
            "text/plain": [
              "array(['Database Developer', 'Portal Administrator',\n",
              "       'Systems Security Administrator', 'Business Systems Analyst',\n",
              "       'Software Systems Engineer', 'Business Intelligence Analyst',\n",
              "       'CRM Technical Developer', 'Mobile Applications Developer',\n",
              "       'UX Designer', 'Quality Assurance Associate', 'Web Developer',\n",
              "       'Information Security Analyst', 'CRM Business Analyst',\n",
              "       'Technical Support', 'Project Manager',\n",
              "       'Information Technology Manager', 'Programmer Analyst',\n",
              "       'Design & UX', 'Solutions Architect', 'Systems Analyst',\n",
              "       'Network Security Administrator', 'Data Architect',\n",
              "       'Software Developer', 'E-Commerce Analyst',\n",
              "       'Technical Services/Help Desk/Tech Support',\n",
              "       'Information Technology Auditor', 'Database Manager',\n",
              "       'Applications Developer', 'Database Administrator',\n",
              "       'Network Engineer', 'Software Engineer', 'Technical Engineer',\n",
              "       'Network Security Engineer',\n",
              "       'Software Quality Assurance (QA) / Testing'], dtype=object)"
            ]
          },
          "metadata": {},
          "execution_count": 14
        }
      ],
      "source": [
        "train_data['Suggested Job Role'].unique()"
      ]
    },
    {
      "cell_type": "code",
      "execution_count": 15,
      "id": "43af1443",
      "metadata": {
        "id": "43af1443"
      },
      "outputs": [],
      "source": [
        "# Converting Suggested Job Role column into 7 categories\n",
        "\n",
        "job_role = {'Software Developer':['Database Developer', 'CRM Technical Developer', 'Mobile Applications Developer', 'Web Developer', 'Software Developer', 'Applications Developer'],\n",
        "            'Engineer':['Software Engineer', 'Software Systems Engineer', 'Technical Engineer', 'Network Security Engineer', 'Network Engineer',  'Quality Assurance Associate'],\n",
        "            'Designer':['Solutions Architect','Data Architect', 'Design & UX', 'UX Designer'],\n",
        "            'Manager':['Information Technology Auditor', 'Information Technology Manager', 'Project Manager', 'Database Manager'],\n",
        "            'Analyst':['Business Systems Analyst', 'CRM Business Analyst', 'Information Security Analyst',  'Programmer Analyst', 'E-Commerce Analyst', 'Business Intelligence Analyst', 'Systems Analyst'],\n",
        "           'Administrator':[ 'Systems Security Administrator', 'Portal Administrator', 'Database Administrator',  'Network Security Administrator'],\n",
        "           'Site Reliability and Testing':['Software Quality Assurance (QA) / Testing', 'Technical Support', 'Technical Services/Help Desk/Tech Support'] }\n",
        "\n",
        "for jobs in job_role:\n",
        "    df.loc[df['Suggested Job Role'].isin(job_role[jobs]), 'Suggested Job Role'] = jobs\n",
        "    "
      ]
    },
    {
      "cell_type": "code",
      "execution_count": 16,
      "id": "2ae28a3e",
      "metadata": {
        "colab": {
          "base_uri": "https://localhost:8080/"
        },
        "id": "2ae28a3e",
        "outputId": "58e22fad-a855-4c4d-d5fa-04858acb8305"
      },
      "outputs": [
        {
          "output_type": "execute_result",
          "data": {
            "text/plain": [
              "array(['Software Developer', 'Administrator', 'Analyst', 'Engineer',\n",
              "       'Designer/Architect', 'Technical Support/ Testing', 'Manager'],\n",
              "      dtype=object)"
            ]
          },
          "metadata": {},
          "execution_count": 16
        }
      ],
      "source": [
        "df['Suggested Job Role'].unique()"
      ]
    },
    {
      "cell_type": "code",
      "execution_count": 17,
      "id": "23b4c5ee",
      "metadata": {
        "colab": {
          "base_uri": "https://localhost:8080/",
          "height": 369
        },
        "id": "23b4c5ee",
        "outputId": "947a2d09-ac87-4359-af03-0457f88e8d84"
      },
      "outputs": [
        {
          "output_type": "execute_result",
          "data": {
            "text/plain": [
              "   Acedamic percentage in ML  Percentage in AI  Percentage in GA  \\\n",
              "0                          7                 7                 8   \n",
              "1                          8                 7                 8   \n",
              "2                          8                 9                10   \n",
              "3                          8                 9                 7   \n",
              "4                         10                 7                10   \n",
              "\n",
              "   Percentage in DMG  Percentage in NLP  Percentage in NSC  Percentage in DL  \\\n",
              "0                  9                 10                 10                 9   \n",
              "1                  7                  8                  8                 8   \n",
              "2                  9                  7                  9                 8   \n",
              "3                  9                  9                  8                 7   \n",
              "4                  7                  8                  9                 8   \n",
              "\n",
              "   Percentage in LA  Percentage in PSOSM  Hours working per day  ...  \\\n",
              "0                 9                    7                      9  ...   \n",
              "1                 9                   10                     12  ...   \n",
              "2                 8                   10                     11  ...   \n",
              "3                 9                    7                      7  ...   \n",
              "4                 8                    8                      4  ...   \n",
              "\n",
              "   Interested Type of Books  Salary Range Expected  In a Realtionship?  \\\n",
              "0              Prayer books                 salary                  no   \n",
              "1                 Childrens                 salary                 yes   \n",
              "2                    Travel                   Work                  no   \n",
              "3                   Romance                   Work                 yes   \n",
              "4                 Cookbooks                 salary                  no   \n",
              "\n",
              "   Gentle or Tuff behaviour? Management or Technical Salary/work  \\\n",
              "0                   stubborn              Management      salary   \n",
              "1                     gentle               Technical      salary   \n",
              "2                   stubborn              Management        work   \n",
              "3                     gentle              Management        work   \n",
              "4                   stubborn              Management        work   \n",
              "\n",
              "  hard/smart worker worked in teams ever? Introvert  Suggested Job Role  \n",
              "0       hard worker                   yes        no  Software Developer  \n",
              "1       hard worker                    no       yes       Administrator  \n",
              "2       hard worker                    no       yes       Administrator  \n",
              "3      smart worker                   yes       yes       Administrator  \n",
              "4       hard worker                   yes       yes             Analyst  \n",
              "\n",
              "[5 rows x 39 columns]"
            ],
            "text/html": [
              "\n",
              "  <div id=\"df-3e1162d9-edbd-4a84-afef-8f6865d74412\">\n",
              "    <div class=\"colab-df-container\">\n",
              "      <div>\n",
              "<style scoped>\n",
              "    .dataframe tbody tr th:only-of-type {\n",
              "        vertical-align: middle;\n",
              "    }\n",
              "\n",
              "    .dataframe tbody tr th {\n",
              "        vertical-align: top;\n",
              "    }\n",
              "\n",
              "    .dataframe thead th {\n",
              "        text-align: right;\n",
              "    }\n",
              "</style>\n",
              "<table border=\"1\" class=\"dataframe\">\n",
              "  <thead>\n",
              "    <tr style=\"text-align: right;\">\n",
              "      <th></th>\n",
              "      <th>Acedamic percentage in ML</th>\n",
              "      <th>Percentage in AI</th>\n",
              "      <th>Percentage in GA</th>\n",
              "      <th>Percentage in DMG</th>\n",
              "      <th>Percentage in NLP</th>\n",
              "      <th>Percentage in NSC</th>\n",
              "      <th>Percentage in DL</th>\n",
              "      <th>Percentage in LA</th>\n",
              "      <th>Percentage in PSOSM</th>\n",
              "      <th>Hours working per day</th>\n",
              "      <th>...</th>\n",
              "      <th>Interested Type of Books</th>\n",
              "      <th>Salary Range Expected</th>\n",
              "      <th>In a Realtionship?</th>\n",
              "      <th>Gentle or Tuff behaviour?</th>\n",
              "      <th>Management or Technical</th>\n",
              "      <th>Salary/work</th>\n",
              "      <th>hard/smart worker</th>\n",
              "      <th>worked in teams ever?</th>\n",
              "      <th>Introvert</th>\n",
              "      <th>Suggested Job Role</th>\n",
              "    </tr>\n",
              "  </thead>\n",
              "  <tbody>\n",
              "    <tr>\n",
              "      <th>0</th>\n",
              "      <td>7</td>\n",
              "      <td>7</td>\n",
              "      <td>8</td>\n",
              "      <td>9</td>\n",
              "      <td>10</td>\n",
              "      <td>10</td>\n",
              "      <td>9</td>\n",
              "      <td>9</td>\n",
              "      <td>7</td>\n",
              "      <td>9</td>\n",
              "      <td>...</td>\n",
              "      <td>Prayer books</td>\n",
              "      <td>salary</td>\n",
              "      <td>no</td>\n",
              "      <td>stubborn</td>\n",
              "      <td>Management</td>\n",
              "      <td>salary</td>\n",
              "      <td>hard worker</td>\n",
              "      <td>yes</td>\n",
              "      <td>no</td>\n",
              "      <td>Software Developer</td>\n",
              "    </tr>\n",
              "    <tr>\n",
              "      <th>1</th>\n",
              "      <td>8</td>\n",
              "      <td>7</td>\n",
              "      <td>8</td>\n",
              "      <td>7</td>\n",
              "      <td>8</td>\n",
              "      <td>8</td>\n",
              "      <td>8</td>\n",
              "      <td>9</td>\n",
              "      <td>10</td>\n",
              "      <td>12</td>\n",
              "      <td>...</td>\n",
              "      <td>Childrens</td>\n",
              "      <td>salary</td>\n",
              "      <td>yes</td>\n",
              "      <td>gentle</td>\n",
              "      <td>Technical</td>\n",
              "      <td>salary</td>\n",
              "      <td>hard worker</td>\n",
              "      <td>no</td>\n",
              "      <td>yes</td>\n",
              "      <td>Administrator</td>\n",
              "    </tr>\n",
              "    <tr>\n",
              "      <th>2</th>\n",
              "      <td>8</td>\n",
              "      <td>9</td>\n",
              "      <td>10</td>\n",
              "      <td>9</td>\n",
              "      <td>7</td>\n",
              "      <td>9</td>\n",
              "      <td>8</td>\n",
              "      <td>8</td>\n",
              "      <td>10</td>\n",
              "      <td>11</td>\n",
              "      <td>...</td>\n",
              "      <td>Travel</td>\n",
              "      <td>Work</td>\n",
              "      <td>no</td>\n",
              "      <td>stubborn</td>\n",
              "      <td>Management</td>\n",
              "      <td>work</td>\n",
              "      <td>hard worker</td>\n",
              "      <td>no</td>\n",
              "      <td>yes</td>\n",
              "      <td>Administrator</td>\n",
              "    </tr>\n",
              "    <tr>\n",
              "      <th>3</th>\n",
              "      <td>8</td>\n",
              "      <td>9</td>\n",
              "      <td>7</td>\n",
              "      <td>9</td>\n",
              "      <td>9</td>\n",
              "      <td>8</td>\n",
              "      <td>7</td>\n",
              "      <td>9</td>\n",
              "      <td>7</td>\n",
              "      <td>7</td>\n",
              "      <td>...</td>\n",
              "      <td>Romance</td>\n",
              "      <td>Work</td>\n",
              "      <td>yes</td>\n",
              "      <td>gentle</td>\n",
              "      <td>Management</td>\n",
              "      <td>work</td>\n",
              "      <td>smart worker</td>\n",
              "      <td>yes</td>\n",
              "      <td>yes</td>\n",
              "      <td>Administrator</td>\n",
              "    </tr>\n",
              "    <tr>\n",
              "      <th>4</th>\n",
              "      <td>10</td>\n",
              "      <td>7</td>\n",
              "      <td>10</td>\n",
              "      <td>7</td>\n",
              "      <td>8</td>\n",
              "      <td>9</td>\n",
              "      <td>8</td>\n",
              "      <td>8</td>\n",
              "      <td>8</td>\n",
              "      <td>4</td>\n",
              "      <td>...</td>\n",
              "      <td>Cookbooks</td>\n",
              "      <td>salary</td>\n",
              "      <td>no</td>\n",
              "      <td>stubborn</td>\n",
              "      <td>Management</td>\n",
              "      <td>work</td>\n",
              "      <td>hard worker</td>\n",
              "      <td>yes</td>\n",
              "      <td>yes</td>\n",
              "      <td>Analyst</td>\n",
              "    </tr>\n",
              "  </tbody>\n",
              "</table>\n",
              "<p>5 rows × 39 columns</p>\n",
              "</div>\n",
              "      <button class=\"colab-df-convert\" onclick=\"convertToInteractive('df-3e1162d9-edbd-4a84-afef-8f6865d74412')\"\n",
              "              title=\"Convert this dataframe to an interactive table.\"\n",
              "              style=\"display:none;\">\n",
              "        \n",
              "  <svg xmlns=\"http://www.w3.org/2000/svg\" height=\"24px\"viewBox=\"0 0 24 24\"\n",
              "       width=\"24px\">\n",
              "    <path d=\"M0 0h24v24H0V0z\" fill=\"none\"/>\n",
              "    <path d=\"M18.56 5.44l.94 2.06.94-2.06 2.06-.94-2.06-.94-.94-2.06-.94 2.06-2.06.94zm-11 1L8.5 8.5l.94-2.06 2.06-.94-2.06-.94L8.5 2.5l-.94 2.06-2.06.94zm10 10l.94 2.06.94-2.06 2.06-.94-2.06-.94-.94-2.06-.94 2.06-2.06.94z\"/><path d=\"M17.41 7.96l-1.37-1.37c-.4-.4-.92-.59-1.43-.59-.52 0-1.04.2-1.43.59L10.3 9.45l-7.72 7.72c-.78.78-.78 2.05 0 2.83L4 21.41c.39.39.9.59 1.41.59.51 0 1.02-.2 1.41-.59l7.78-7.78 2.81-2.81c.8-.78.8-2.07 0-2.86zM5.41 20L4 18.59l7.72-7.72 1.47 1.35L5.41 20z\"/>\n",
              "  </svg>\n",
              "      </button>\n",
              "      \n",
              "  <style>\n",
              "    .colab-df-container {\n",
              "      display:flex;\n",
              "      flex-wrap:wrap;\n",
              "      gap: 12px;\n",
              "    }\n",
              "\n",
              "    .colab-df-convert {\n",
              "      background-color: #E8F0FE;\n",
              "      border: none;\n",
              "      border-radius: 50%;\n",
              "      cursor: pointer;\n",
              "      display: none;\n",
              "      fill: #1967D2;\n",
              "      height: 32px;\n",
              "      padding: 0 0 0 0;\n",
              "      width: 32px;\n",
              "    }\n",
              "\n",
              "    .colab-df-convert:hover {\n",
              "      background-color: #E2EBFA;\n",
              "      box-shadow: 0px 1px 2px rgba(60, 64, 67, 0.3), 0px 1px 3px 1px rgba(60, 64, 67, 0.15);\n",
              "      fill: #174EA6;\n",
              "    }\n",
              "\n",
              "    [theme=dark] .colab-df-convert {\n",
              "      background-color: #3B4455;\n",
              "      fill: #D2E3FC;\n",
              "    }\n",
              "\n",
              "    [theme=dark] .colab-df-convert:hover {\n",
              "      background-color: #434B5C;\n",
              "      box-shadow: 0px 1px 3px 1px rgba(0, 0, 0, 0.15);\n",
              "      filter: drop-shadow(0px 1px 2px rgba(0, 0, 0, 0.3));\n",
              "      fill: #FFFFFF;\n",
              "    }\n",
              "  </style>\n",
              "\n",
              "      <script>\n",
              "        const buttonEl =\n",
              "          document.querySelector('#df-3e1162d9-edbd-4a84-afef-8f6865d74412 button.colab-df-convert');\n",
              "        buttonEl.style.display =\n",
              "          google.colab.kernel.accessAllowed ? 'block' : 'none';\n",
              "\n",
              "        async function convertToInteractive(key) {\n",
              "          const element = document.querySelector('#df-3e1162d9-edbd-4a84-afef-8f6865d74412');\n",
              "          const dataTable =\n",
              "            await google.colab.kernel.invokeFunction('convertToInteractive',\n",
              "                                                     [key], {});\n",
              "          if (!dataTable) return;\n",
              "\n",
              "          const docLinkHtml = 'Like what you see? Visit the ' +\n",
              "            '<a target=\"_blank\" href=https://colab.research.google.com/notebooks/data_table.ipynb>data table notebook</a>'\n",
              "            + ' to learn more about interactive tables.';\n",
              "          element.innerHTML = '';\n",
              "          dataTable['output_type'] = 'display_data';\n",
              "          await google.colab.output.renderOutput(dataTable, element);\n",
              "          const docLink = document.createElement('div');\n",
              "          docLink.innerHTML = docLinkHtml;\n",
              "          element.appendChild(docLink);\n",
              "        }\n",
              "      </script>\n",
              "    </div>\n",
              "  </div>\n",
              "  "
            ]
          },
          "metadata": {},
          "execution_count": 17
        }
      ],
      "source": [
        "df.head()"
      ]
    },
    {
      "cell_type": "markdown",
      "id": "3eaf1c6a",
      "metadata": {
        "id": "3eaf1c6a"
      },
      "source": [
        "## Label Encoding of Categorical Column"
      ]
    },
    {
      "cell_type": "code",
      "source": [
        "categorical_cols = train_data.select_dtypes(include=['object']).columns.tolist()\n",
        "categorical_cols"
      ],
      "metadata": {
        "colab": {
          "base_uri": "https://localhost:8080/"
        },
        "id": "XWFtCHVg4zLj",
        "outputId": "bcb61d71-dc54-4a50-ea8f-afb2d45389b5"
      },
      "id": "XWFtCHVg4zLj",
      "execution_count": 18,
      "outputs": [
        {
          "output_type": "execute_result",
          "data": {
            "text/plain": [
              "['can work long time before system?',\n",
              " 'self-learning capability?',\n",
              " 'Extra-courses did',\n",
              " 'certifications',\n",
              " 'workshops',\n",
              " 'talenttests taken?',\n",
              " 'olympiads',\n",
              " 'reading and writing skills',\n",
              " 'memory capability score',\n",
              " 'Interested subjects',\n",
              " 'interested career area ',\n",
              " 'Job/Higher Studies?',\n",
              " 'Type of company want to settle in?',\n",
              " 'Taken inputs from seniors or elders',\n",
              " 'interested in games',\n",
              " 'Interested Type of Books',\n",
              " 'Salary Range Expected',\n",
              " 'In a Realtionship?',\n",
              " 'Gentle or Tuff behaviour?',\n",
              " 'Management or Technical',\n",
              " 'Salary/work',\n",
              " 'hard/smart worker',\n",
              " 'worked in teams ever?',\n",
              " 'Introvert',\n",
              " 'Suggested Job Role']"
            ]
          },
          "metadata": {},
          "execution_count": 18
        }
      ]
    },
    {
      "cell_type": "code",
      "execution_count": 19,
      "id": "f3ae92fd",
      "metadata": {
        "id": "f3ae92fd"
      },
      "outputs": [],
      "source": [
        "# Converting All Categorical columns to numerical for model training using Label Encoder from SK Learn\n",
        "for cols in categorical_cols:\n",
        "    labelencod_x = LabelEncoder()\n",
        "    df[cols] = labelencod_x.fit_transform(df[cols])"
      ]
    },
    {
      "cell_type": "code",
      "execution_count": 20,
      "id": "c9e3c50e",
      "metadata": {
        "id": "c9e3c50e"
      },
      "outputs": [],
      "source": [
        "X_feature = df.iloc[:,:-1].values  \n",
        "y_labels = df.iloc[:,-1].values"
      ]
    },
    {
      "cell_type": "code",
      "execution_count": 21,
      "id": "3e127293",
      "metadata": {
        "colab": {
          "base_uri": "https://localhost:8080/"
        },
        "id": "3e127293",
        "outputId": "3f91f16d-4a4e-43bd-e956-7919f4ab0627"
      },
      "outputs": [
        {
          "output_type": "execute_result",
          "data": {
            "text/plain": [
              "(20000, 38)"
            ]
          },
          "metadata": {},
          "execution_count": 21
        }
      ],
      "source": [
        "X_feature.shape"
      ]
    },
    {
      "cell_type": "code",
      "source": [
        "y_labels.shape"
      ],
      "metadata": {
        "colab": {
          "base_uri": "https://localhost:8080/"
        },
        "id": "bDQEr8AMW712",
        "outputId": "9f3e28f5-57bb-4924-91b0-4ada1246014c"
      },
      "id": "bDQEr8AMW712",
      "execution_count": 22,
      "outputs": [
        {
          "output_type": "execute_result",
          "data": {
            "text/plain": [
              "(20000,)"
            ]
          },
          "metadata": {},
          "execution_count": 22
        }
      ]
    },
    {
      "cell_type": "code",
      "source": [
        "from keras.utils import np_utils\n",
        "\n",
        "encoded_y = np_utils.to_categorical(y_labels)"
      ],
      "metadata": {
        "id": "c67P-z0TiZrB"
      },
      "id": "c67P-z0TiZrB",
      "execution_count": 23,
      "outputs": []
    },
    {
      "cell_type": "code",
      "source": [
        "encoded_y.shape"
      ],
      "metadata": {
        "colab": {
          "base_uri": "https://localhost:8080/"
        },
        "id": "YjYwDwmlicnB",
        "outputId": "573736ef-0a03-49c8-969a-c5f6008a96b0"
      },
      "id": "YjYwDwmlicnB",
      "execution_count": 24,
      "outputs": [
        {
          "output_type": "execute_result",
          "data": {
            "text/plain": [
              "(20000, 7)"
            ]
          },
          "metadata": {},
          "execution_count": 24
        }
      ]
    },
    {
      "cell_type": "code",
      "execution_count": 25,
      "id": "22698469",
      "metadata": {
        "id": "22698469"
      },
      "outputs": [],
      "source": [
        "# Different size of train test splits\n",
        "\n",
        "split_sizes = [0.1, 0.3, 0.4]\n",
        "\n",
        "x_train_list=[]\n",
        "x_test_list=[]\n",
        "y_train_list=[]\n",
        "y_test_list=[]\n",
        "\n",
        "for i in range(len(split_sizes)):\n",
        "    x_train, x_test, y_train, y_test = train_test_split(X_feature, encoded_y, test_size = split_sizes[i], random_state=42)  \n",
        "\n",
        "    x_train_list.append(x_train)\n",
        "    x_test_list.append(x_test)\n",
        "    y_train_list.append(y_train)\n",
        "    y_test_list.append(y_test)"
      ]
    },
    {
      "cell_type": "code",
      "execution_count": 26,
      "id": "3d2134aa",
      "metadata": {
        "colab": {
          "base_uri": "https://localhost:8080/"
        },
        "id": "3d2134aa",
        "outputId": "ad6c59df-8645-48ca-9cfe-d5a57f0d31d8"
      },
      "outputs": [
        {
          "output_type": "execute_result",
          "data": {
            "text/plain": [
              "12000"
            ]
          },
          "metadata": {},
          "execution_count": 26
        }
      ],
      "source": [
        "len(x_train)"
      ]
    },
    {
      "cell_type": "code",
      "source": [
        "x_train_list[i].shape"
      ],
      "metadata": {
        "colab": {
          "base_uri": "https://localhost:8080/"
        },
        "id": "NY7q57f4g1AW",
        "outputId": "e3a30d7a-9030-4844-8db4-105178da9fa9"
      },
      "id": "NY7q57f4g1AW",
      "execution_count": 27,
      "outputs": [
        {
          "output_type": "execute_result",
          "data": {
            "text/plain": [
              "(12000, 38)"
            ]
          },
          "metadata": {},
          "execution_count": 27
        }
      ]
    },
    {
      "cell_type": "code",
      "execution_count": 28,
      "id": "409c4c12",
      "metadata": {
        "id": "409c4c12"
      },
      "outputs": [],
      "source": [
        "# Standardizing the data so that mean value is 0 and standard variation is 1\n",
        "for i in range(len(split_sizes)):\n",
        "    sc = StandardScaler()  \n",
        "    x_train_list[i]= sc.fit_transform(x_train_list[i])  \n",
        "    x_test_list[i]= sc.transform(x_test_list[i]) "
      ]
    },
    {
      "cell_type": "code",
      "source": [],
      "metadata": {
        "id": "aS03fsPzgs0K"
      },
      "id": "aS03fsPzgs0K",
      "execution_count": 43,
      "outputs": []
    },
    {
      "cell_type": "markdown",
      "id": "0fd58793",
      "metadata": {
        "id": "0fd58793"
      },
      "source": [
        "## ANN Model"
      ]
    },
    {
      "cell_type": "code",
      "source": [
        "from tensorflow.keras.models import Sequential\n",
        "from tensorflow.keras.layers import Dense"
      ],
      "metadata": {
        "id": "qUaXaOQzlOsB"
      },
      "id": "qUaXaOQzlOsB",
      "execution_count": 29,
      "outputs": []
    },
    {
      "cell_type": "code",
      "source": [
        "#Building ANN by defining the keras model\n",
        "\n",
        "model = Sequential()\n",
        "model.add(Dense(12, input_shape = (38,), activation = 'relu'))\n",
        "model.add(Dense(8, activation = 'relu'))\n",
        "model.add(Dense(7, activation = 'softmax'))\n"
      ],
      "metadata": {
        "id": "0wzwvR0elD0s"
      },
      "id": "0wzwvR0elD0s",
      "execution_count": 30,
      "outputs": []
    },
    {
      "cell_type": "code",
      "source": [
        "# compiling the keras model\n",
        "model.compile(loss='categorical_crossentropy', optimizer='adam', metrics=['accuracy'])"
      ],
      "metadata": {
        "id": "b0hOpC-ZlDyD"
      },
      "id": "b0hOpC-ZlDyD",
      "execution_count": 31,
      "outputs": []
    },
    {
      "cell_type": "code",
      "source": [
        "#printing the model summary\n",
        "model.summary()"
      ],
      "metadata": {
        "colab": {
          "base_uri": "https://localhost:8080/"
        },
        "id": "F_jyRtEmk8HA",
        "outputId": "305e6cf8-0c7d-47f8-de13-002be634c6ce"
      },
      "id": "F_jyRtEmk8HA",
      "execution_count": 32,
      "outputs": [
        {
          "output_type": "stream",
          "name": "stdout",
          "text": [
            "Model: \"sequential\"\n",
            "_________________________________________________________________\n",
            " Layer (type)                Output Shape              Param #   \n",
            "=================================================================\n",
            " dense (Dense)               (None, 12)                468       \n",
            "                                                                 \n",
            " dense_1 (Dense)             (None, 8)                 104       \n",
            "                                                                 \n",
            " dense_2 (Dense)             (None, 7)                 63        \n",
            "                                                                 \n",
            "=================================================================\n",
            "Total params: 635\n",
            "Trainable params: 635\n",
            "Non-trainable params: 0\n",
            "_________________________________________________________________\n"
          ]
        }
      ]
    },
    {
      "cell_type": "code",
      "execution_count": 34,
      "id": "f0781f36",
      "metadata": {
        "colab": {
          "base_uri": "https://localhost:8080/"
        },
        "id": "f0781f36",
        "outputId": "37808a5b-c002-44ac-ef59-def1c827d178"
      },
      "outputs": [
        {
          "output_type": "stream",
          "name": "stdout",
          "text": [
            "Epoch 1/10\n",
            "563/563 [==============================] - 1s 2ms/step - loss: 1.9012 - accuracy: 0.2015\n",
            "Epoch 2/10\n",
            "563/563 [==============================] - 1s 2ms/step - loss: 1.8998 - accuracy: 0.2042\n",
            "Epoch 3/10\n",
            "563/563 [==============================] - 1s 2ms/step - loss: 1.8989 - accuracy: 0.2042\n",
            "Epoch 4/10\n",
            "563/563 [==============================] - 1s 2ms/step - loss: 1.8981 - accuracy: 0.2036\n",
            "Epoch 5/10\n",
            "563/563 [==============================] - 2s 3ms/step - loss: 1.8972 - accuracy: 0.2058\n",
            "Epoch 6/10\n",
            "563/563 [==============================] - 1s 2ms/step - loss: 1.8963 - accuracy: 0.2077\n",
            "Epoch 7/10\n",
            "563/563 [==============================] - 1s 2ms/step - loss: 1.8954 - accuracy: 0.2074\n",
            "Epoch 8/10\n",
            "563/563 [==============================] - 1s 2ms/step - loss: 1.8947 - accuracy: 0.2081\n",
            "Epoch 9/10\n",
            "563/563 [==============================] - 1s 2ms/step - loss: 1.8938 - accuracy: 0.2104\n",
            "Epoch 10/10\n",
            "563/563 [==============================] - 1s 2ms/step - loss: 1.8934 - accuracy: 0.2107\n",
            "63/63 [==============================] - 0s 1ms/step\n",
            "Epoch 1/10\n",
            "438/438 [==============================] - 1s 2ms/step - loss: 1.8914 - accuracy: 0.2114\n",
            "Epoch 2/10\n",
            "438/438 [==============================] - 1s 2ms/step - loss: 1.8900 - accuracy: 0.2140\n",
            "Epoch 3/10\n",
            "438/438 [==============================] - 1s 3ms/step - loss: 1.8891 - accuracy: 0.2131\n",
            "Epoch 4/10\n",
            "438/438 [==============================] - 2s 4ms/step - loss: 1.8884 - accuracy: 0.2153\n",
            "Epoch 5/10\n",
            "438/438 [==============================] - 2s 5ms/step - loss: 1.8871 - accuracy: 0.2170\n",
            "Epoch 6/10\n",
            "438/438 [==============================] - 1s 3ms/step - loss: 1.8862 - accuracy: 0.2186\n",
            "Epoch 7/10\n",
            "438/438 [==============================] - 1s 2ms/step - loss: 1.8850 - accuracy: 0.2171\n",
            "Epoch 8/10\n",
            "438/438 [==============================] - 1s 2ms/step - loss: 1.8843 - accuracy: 0.2175\n",
            "Epoch 9/10\n",
            "438/438 [==============================] - 1s 2ms/step - loss: 1.8833 - accuracy: 0.2174\n",
            "Epoch 10/10\n",
            "438/438 [==============================] - 1s 2ms/step - loss: 1.8830 - accuracy: 0.2156\n",
            "188/188 [==============================] - 0s 1ms/step\n",
            "Epoch 1/10\n",
            "375/375 [==============================] - 1s 3ms/step - loss: 1.8816 - accuracy: 0.2157\n",
            "Epoch 2/10\n",
            "375/375 [==============================] - 1s 3ms/step - loss: 1.8802 - accuracy: 0.2222\n",
            "Epoch 3/10\n",
            "375/375 [==============================] - 1s 3ms/step - loss: 1.8790 - accuracy: 0.2201\n",
            "Epoch 4/10\n",
            "375/375 [==============================] - 1s 3ms/step - loss: 1.8782 - accuracy: 0.2193\n",
            "Epoch 5/10\n",
            "375/375 [==============================] - 1s 3ms/step - loss: 1.8773 - accuracy: 0.2225\n",
            "Epoch 6/10\n",
            "375/375 [==============================] - 1s 3ms/step - loss: 1.8763 - accuracy: 0.2227\n",
            "Epoch 7/10\n",
            "375/375 [==============================] - 1s 3ms/step - loss: 1.8756 - accuracy: 0.2223\n",
            "Epoch 8/10\n",
            "375/375 [==============================] - 1s 3ms/step - loss: 1.8748 - accuracy: 0.2197\n",
            "Epoch 9/10\n",
            "375/375 [==============================] - 1s 2ms/step - loss: 1.8736 - accuracy: 0.2227\n",
            "Epoch 10/10\n",
            "375/375 [==============================] - 1s 2ms/step - loss: 1.8730 - accuracy: 0.2243\n",
            "250/250 [==============================] - 0s 2ms/step\n"
          ]
        }
      ],
      "source": [
        "#Applying ANN Model with 2 hidden layer of 5 and 4 nodes respectively \n",
        "y_preds = []\n",
        "for i in range(len(split_sizes)):\n",
        "    model.fit(x_train_list[i], y_train_list[i], epochs = 10)\n",
        "    y_preds.append(model.predict(x_test_list[i]))"
      ]
    },
    {
      "cell_type": "code",
      "source": [],
      "metadata": {
        "id": "hGvLPfybg-Ap"
      },
      "id": "hGvLPfybg-Ap",
      "execution_count": null,
      "outputs": []
    },
    {
      "cell_type": "code",
      "source": [],
      "metadata": {
        "id": "TzyuoiwghAmx"
      },
      "id": "TzyuoiwghAmx",
      "execution_count": 48,
      "outputs": []
    },
    {
      "cell_type": "code",
      "source": [
        "y_preds[0]"
      ],
      "metadata": {
        "colab": {
          "base_uri": "https://localhost:8080/"
        },
        "id": "OgLuOMJBnyDI",
        "outputId": "0143f7ff-8b88-4aad-eec5-584a65bb437c"
      },
      "id": "OgLuOMJBnyDI",
      "execution_count": 33,
      "outputs": [
        {
          "output_type": "execute_result",
          "data": {
            "text/plain": [
              "array([[0.18996835, 0.1830845 , 0.11127157, ..., 0.1889208 , 0.09708864,\n",
              "        0.06635383],\n",
              "       [0.17546675, 0.18558313, 0.11211247, ..., 0.18535295, 0.10536599,\n",
              "        0.07229397],\n",
              "       [0.14867167, 0.17146705, 0.1193378 , ..., 0.16035706, 0.12552023,\n",
              "        0.09243604],\n",
              "       ...,\n",
              "       [0.12732354, 0.20736559, 0.10567519, ..., 0.18712635, 0.11438012,\n",
              "        0.08965   ],\n",
              "       [0.16477315, 0.19326638, 0.11082959, ..., 0.18795216, 0.11006291,\n",
              "        0.0747167 ],\n",
              "       [0.1415082 , 0.19371936, 0.10688878, ..., 0.17683409, 0.12399197,\n",
              "        0.08720057]], dtype=float32)"
            ]
          },
          "metadata": {},
          "execution_count": 33
        }
      ]
    },
    {
      "cell_type": "code",
      "source": [
        "from sklearn.metrics import classification_report\n"
      ],
      "metadata": {
        "id": "pT0pu32MYJU7"
      },
      "id": "pT0pu32MYJU7",
      "execution_count": null,
      "outputs": []
    },
    {
      "cell_type": "code",
      "source": [
        "# Calculating and showing the confusion matrix for each train-test split"
      ],
      "metadata": {
        "id": "Dk6yJBgfqpga"
      },
      "id": "Dk6yJBgfqpga",
      "execution_count": 38,
      "outputs": []
    },
    {
      "cell_type": "code",
      "execution_count": 46,
      "id": "7c158687",
      "metadata": {
        "colab": {
          "base_uri": "https://localhost:8080/"
        },
        "id": "7c158687",
        "outputId": "17483470-c3db-4417-9264-f01d64699d03"
      },
      "outputs": [
        {
          "output_type": "stream",
          "name": "stdout",
          "text": [
            "              precision    recall  f1-score   support\n",
            "\n",
            "           0       0.00      0.00      0.00       288\n",
            "           1       0.19      0.59      0.28       382\n",
            "           2       0.00      0.00      0.00       229\n",
            "           3       0.17      0.34      0.23       335\n",
            "           4       0.00      0.00      0.00       235\n",
            "           5       0.15      0.05      0.07       345\n",
            "           6       0.00      0.00      0.00       186\n",
            "\n",
            "    accuracy                           0.18      2000\n",
            "   macro avg       0.07      0.14      0.08      2000\n",
            "weighted avg       0.09      0.18      0.11      2000\n",
            "\n",
            "Confusion Matrix :\n",
            "[[  0 173   0 101   2  12   0]\n",
            " [  0 226   0 126   4  26   0]\n",
            " [  0 135   0  80   3  11   0]\n",
            " [  0 199   0 114   2  20   0]\n",
            " [  0 146   0  74   0  15   0]\n",
            " [  0 219   0 106   3  17   0]\n",
            " [  0 115   0  56   5  10   0]]\n",
            "[0.         0.59162304 0.         0.34029851 0.         0.04927536\n",
            " 0.        ]\n",
            "              precision    recall  f1-score   support\n",
            "\n",
            "           0       0.00      0.00      0.00       846\n",
            "           1       0.19      0.51      0.28      1112\n",
            "           2       0.00      0.00      0.00       672\n",
            "           3       0.21      0.28      0.24      1118\n",
            "           4       0.21      0.03      0.05       717\n",
            "           5       0.18      0.27      0.22       995\n",
            "           6       1.00      0.00      0.00       540\n",
            "\n",
            "    accuracy                           0.19      6000\n",
            "   macro avg       0.26      0.15      0.11      6000\n",
            "weighted avg       0.22      0.19      0.14      6000\n",
            "\n",
            "Confusion Matrix :\n",
            "[[  0 446   0 206   9 185   0]\n",
            " [  1 566   0 261  15 269   0]\n",
            " [  2 310   0 181  11 168   0]\n",
            " [  4 543   0 308  12 251   0]\n",
            " [  1 342   0 159  19 196   0]\n",
            " [  1 482   0 225  19 268   0]\n",
            " [  2 258   0 136   6 137   1]]\n",
            "[0.         0.50899281 0.         0.27549195 0.0264993  0.26934673\n",
            " 0.00185185]\n",
            "              precision    recall  f1-score   support\n",
            "\n",
            "           0       0.06      0.00      0.00      1117\n",
            "           1       0.19      0.64      0.29      1492\n",
            "           2       0.00      0.00      0.00       890\n",
            "           3       0.21      0.31      0.25      1495\n",
            "           4       0.17      0.03      0.05       962\n",
            "           5       0.19      0.06      0.09      1337\n",
            "           6       0.17      0.00      0.01       707\n",
            "\n",
            "    accuracy                           0.19      8000\n",
            "   macro avg       0.14      0.15      0.10      8000\n",
            "weighted avg       0.15      0.19      0.12      8000\n",
            "\n",
            "Confusion Matrix :\n",
            "[[  1 726   0 320  20  49   1]\n",
            " [  4 955   2 424  28  77   2]\n",
            " [  2 582   0 242  20  43   1]\n",
            " [  7 923   1 464  27  72   1]\n",
            " [  2 629   1 243  30  56   1]\n",
            " [  0 847   1 369  40  76   4]\n",
            " [  1 454   0 198  15  37   2]]\n",
            "[0.00089526 0.64008043 0.         0.31036789 0.03118503 0.05684368\n",
            " 0.00282885]\n"
          ]
        },
        {
          "output_type": "stream",
          "name": "stderr",
          "text": [
            "/usr/local/lib/python3.7/dist-packages/sklearn/metrics/_classification.py:1318: UndefinedMetricWarning: Precision and F-score are ill-defined and being set to 0.0 in labels with no predicted samples. Use `zero_division` parameter to control this behavior.\n",
            "  _warn_prf(average, modifier, msg_start, len(result))\n",
            "/usr/local/lib/python3.7/dist-packages/sklearn/metrics/_classification.py:1318: UndefinedMetricWarning: Precision and F-score are ill-defined and being set to 0.0 in labels with no predicted samples. Use `zero_division` parameter to control this behavior.\n",
            "  _warn_prf(average, modifier, msg_start, len(result))\n",
            "/usr/local/lib/python3.7/dist-packages/sklearn/metrics/_classification.py:1318: UndefinedMetricWarning: Precision and F-score are ill-defined and being set to 0.0 in labels with no predicted samples. Use `zero_division` parameter to control this behavior.\n",
            "  _warn_prf(average, modifier, msg_start, len(result))\n",
            "/usr/local/lib/python3.7/dist-packages/sklearn/metrics/_classification.py:1318: UndefinedMetricWarning: Precision and F-score are ill-defined and being set to 0.0 in labels with no predicted samples. Use `zero_division` parameter to control this behavior.\n",
            "  _warn_prf(average, modifier, msg_start, len(result))\n",
            "/usr/local/lib/python3.7/dist-packages/sklearn/metrics/_classification.py:1318: UndefinedMetricWarning: Precision and F-score are ill-defined and being set to 0.0 in labels with no predicted samples. Use `zero_division` parameter to control this behavior.\n",
            "  _warn_prf(average, modifier, msg_start, len(result))\n",
            "/usr/local/lib/python3.7/dist-packages/sklearn/metrics/_classification.py:1318: UndefinedMetricWarning: Precision and F-score are ill-defined and being set to 0.0 in labels with no predicted samples. Use `zero_division` parameter to control this behavior.\n",
            "  _warn_prf(average, modifier, msg_start, len(result))\n"
          ]
        }
      ],
      "source": [
        "# Pritning results\n",
        "for i in range(len(split_sizes)):\n",
        "    rounded_labels = np.argmax(y_test_list[i], axis=1)\n",
        "    rounded_pred = np.argmax(y_preds[i], axis=1)    \n",
        "    cm = confusion_matrix(rounded_labels, rounded_pred)\n",
        "    print(classification_report(rounded_labels, rounded_pred))\n",
        "    print(\"Confusion Matrix :\")\n",
        "    print(cm)\n",
        "\n",
        "    # Printing class wise accuracies\n",
        "\n",
        "    cm = cm.astype('float') / cm.sum(axis=1)[:, np.newaxis]\n",
        "\n",
        "    print(cm.diagonal())\n"
      ]
    },
    {
      "cell_type": "code",
      "source": [],
      "metadata": {
        "id": "__7_ptAlrAfP"
      },
      "id": "__7_ptAlrAfP",
      "execution_count": 46,
      "outputs": []
    },
    {
      "cell_type": "code",
      "execution_count": 38,
      "id": "635a5be6",
      "metadata": {
        "id": "635a5be6"
      },
      "outputs": [],
      "source": []
    },
    {
      "cell_type": "code",
      "execution_count": 38,
      "id": "cbf237e7",
      "metadata": {
        "id": "cbf237e7"
      },
      "outputs": [],
      "source": []
    },
    {
      "cell_type": "code",
      "source": [],
      "metadata": {
        "id": "5lTfaTNvrIoM"
      },
      "id": "5lTfaTNvrIoM",
      "execution_count": null,
      "outputs": []
    },
    {
      "cell_type": "code",
      "execution_count": 36,
      "id": "30a38da3",
      "metadata": {
        "id": "30a38da3"
      },
      "outputs": [],
      "source": [
        "\n"
      ]
    },
    {
      "cell_type": "code",
      "execution_count": 36,
      "id": "77c31959",
      "metadata": {
        "id": "77c31959"
      },
      "outputs": [],
      "source": []
    }
  ],
  "metadata": {
    "kernelspec": {
      "display_name": "Python 3",
      "language": "python",
      "name": "python3"
    },
    "language_info": {
      "codemirror_mode": {
        "name": "ipython",
        "version": 3
      },
      "file_extension": ".py",
      "mimetype": "text/x-python",
      "name": "python",
      "nbconvert_exporter": "python",
      "pygments_lexer": "ipython3",
      "version": "3.8.8"
    },
    "colab": {
      "provenance": []
    }
  },
  "nbformat": 4,
  "nbformat_minor": 5
}