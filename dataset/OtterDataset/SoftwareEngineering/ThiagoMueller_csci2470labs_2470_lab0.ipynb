{
  "cells": [
    {
      "cell_type": "markdown",
      "metadata": {
        "colab_type": "text",
        "id": "view-in-github"
      },
      "source": [
        "<a href=\"https://colab.research.google.com/github/ThiagoMueller/csci2470labs/blob/main/2470_lab0.ipynb\" target=\"_parent\"><img src=\"https://colab.research.google.com/assets/colab-badge.svg\" alt=\"Open In Colab\"/></a>"
      ]
    },
    {
      "cell_type": "markdown",
      "metadata": {
        "id": "Zqe5-vszXsgM"
      },
      "source": [
        "# CSCI1470 Lab 0: Python Refresher + NumPy Intro\n",
        "**IMPORTANT:** *Before starting, copy this notebook into your Google Drive via `File > \"Save a copy in Drive\"`*"
      ]
    },
    {
      "cell_type": "markdown",
      "metadata": {
        "id": "yRgj9OUOmaeV"
      },
      "source": [
        "![meme.jpg](data:image/jpeg;base64,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)"
      ]
    },
    {
      "cell_type": "markdown",
      "metadata": {
        "id": "YXLB9ffymi-Q"
      },
      "source": [
        "This course will be primarily taught in TensorFlow on Python3. TensorFlow is an open source deep learning library created by Google. Currently it is the most popular and widely used library.\n",
        "\n",
        "This lab is a refresher on Python3 and basic linear algebra; you will be expected to be familiar with both in this class. **Treat this lab as your ONLY opportunity to ask questions about general coding with Python: this is a class on deep learning, not software engineering. For every upcoming assignment and labs, you will be expected to have a working knowledge of Python and linear algebra.**\n",
        "<!--\n",
        "Visit [this link](https://www.python.org/downloads/) for instructions on how to install Python on your system. If you are installing locally, please use **Python3.9, 64-bit version** for consistency purposes. (IMPORTANT: TensorFlow requires a 64-bit installation of Python!)\n",
        "\n",
        "\n",
        "Visit [this link](https://docs.google.com/document/d/1Qcss983uPe25bn-gH4DBVGq6X1viyEHW/edit?usp=sharing&ouid=112154987784487363993&rtpof=true&sd=true) for instructions on how to setup virtualenvs (virtual environments) for easy, isolated Python workspaces. -->"
      ]
    },
    {
      "cell_type": "markdown",
      "metadata": {
        "id": "GP3Ic_p-7b0i"
      },
      "source": [
        "## Hello World ##\n",
        "Printing in Python can be done with the `print` function.\n",
        "\n",
        "This is one of many functions that are pre-loaded in when a Python interpreter instance is created. Try running it!"
      ]
    },
    {
      "cell_type": "code",
      "execution_count": 1,
      "metadata": {
        "colab": {
          "base_uri": "https://localhost:8080/"
        },
        "id": "uRibIYcY7b0j",
        "outputId": "54a4d58a-31e8-4411-9345-9b27413e2809"
      },
      "outputs": [
        {
          "name": "stdout",
          "output_type": "stream",
          "text": [
            "Hello World!\n"
          ]
        }
      ],
      "source": [
        "print(\"Hello World!\")"
      ]
    },
    {
      "cell_type": "markdown",
      "metadata": {
        "id": "6E-RBu5i7b0n"
      },
      "source": [
        "## Libraries ##\n",
        "\n",
        "Python has a number of built-in modules and libraries that offer convenient access to useful functions. These libraries can be imported by using the built-in `import` function followed by the library name.\n",
        "\n",
        "Here is one example with the `random` library that can be used for generating a series of random integers within some specified range.\n",
        "\n",
        "Note that `for i in range(5):` is analogous to `for (int i = 0; i < 5; i++)` in Java. `range(5)` is an iterable object, and is functionally similar to `for i in [0, 1, 2, 3, 4]`. The `:` (colon) indicates the creation of a scope, so the indented section after the `for` loop will be called for every value in the output of `range(5)`."
      ]
    },
    {
      "cell_type": "code",
      "execution_count": null,
      "metadata": {
        "colab": {
          "base_uri": "https://localhost:8080/"
        },
        "id": "7bkyT-KI7b0o",
        "outputId": "5976cd56-17c4-44a1-8788-c7d87d569de6"
      },
      "outputs": [
        {
          "name": "stdout",
          "output_type": "stream",
          "text": [
            "37\n",
            "67\n",
            "85\n",
            "84\n",
            "19\n"
          ]
        }
      ],
      "source": [
        "import random\n",
        "for i in range(5):\n",
        "    print(random.randint(10,99))"
      ]
    },
    {
      "cell_type": "markdown",
      "metadata": {
        "id": "moY_F_OW7b0r"
      },
      "source": [
        "## Indentation ##\n",
        "Notice that Python uses indentation and colons in order to specify scope, as opposed to brackets. This means that you need to be careful to make sure that all of your code is indented correctly."
      ]
    },
    {
      "cell_type": "code",
      "execution_count": null,
      "metadata": {
        "colab": {
          "base_uri": "https://localhost:8080/"
        },
        "id": "Py_pxO7o7b0s",
        "outputId": "0e98eebc-2344-499b-9a2c-90d75365644a"
      },
      "outputs": [
        {
          "name": "stdout",
          "output_type": "stream",
          "text": [
            "0\n",
            "2\n",
            "4\n",
            "6\n",
            "8\n",
            "done.\n"
          ]
        }
      ],
      "source": [
        "x = 0\n",
        "\n",
        "while x < 10:\n",
        "    if x % 2 == 0:\n",
        "        print(x)\n",
        "    x += 1\n",
        "\n",
        "print('done.')"
      ]
    },
    {
      "cell_type": "markdown",
      "metadata": {
        "id": "qc8GsIzC7b0u"
      },
      "source": [
        "## Dynamic Typing ##\n",
        "In Python, variables are associated with single objects and no data types at run-time of the program. Furthermore, primitive data types in Python are immutable."
      ]
    },
    {
      "cell_type": "code",
      "execution_count": null,
      "metadata": {
        "colab": {
          "base_uri": "https://localhost:8080/"
        },
        "id": "V5dtS-3m7b0v",
        "outputId": "727bf674-6e2f-4f7a-9f47-9b208cfe769b"
      },
      "outputs": [
        {
          "name": "stdout",
          "output_type": "stream",
          "text": [
            "5\n",
            "<class 'int'>\n",
            "spam\n",
            "<class 'str'>\n"
          ]
        }
      ],
      "source": [
        "var = 5\n",
        "print(var)\n",
        "print(type(var))\n",
        "\n",
        "var = 'spam'\n",
        "print(var)\n",
        "print(type(var))"
      ]
    },
    {
      "cell_type": "markdown",
      "metadata": {
        "id": "BubRxDwH7b0x"
      },
      "source": [
        "## Strings ##\n",
        "Python supports strings along with the expected indexing schema and methods."
      ]
    },
    {
      "cell_type": "code",
      "execution_count": null,
      "metadata": {
        "colab": {
          "base_uri": "https://localhost:8080/"
        },
        "id": "b3okI-KD7b0y",
        "outputId": "18eeebd6-7837-40d3-e9a0-5ad45583a5f9"
      },
      "outputs": [
        {
          "name": "stdout",
          "output_type": "stream",
          "text": [
            "ham \n",
            "4\n",
            "['ham', 'and', 'eggs']\n"
          ]
        }
      ],
      "source": [
        "mystring = 'ham and eggs'\n",
        "print(mystring[0:4]) # note that the first index is inclusive and the second index is exclusive\n",
        "print(mystring.find('and'))\n",
        "print(mystring.split(' '))"
      ]
    },
    {
      "cell_type": "markdown",
      "metadata": {
        "id": "nW0SLcc37b00"
      },
      "source": [
        "## Lists ##\n",
        "Lists are mutable objects in Python."
      ]
    },
    {
      "cell_type": "code",
      "execution_count": null,
      "metadata": {
        "colab": {
          "base_uri": "https://localhost:8080/"
        },
        "id": "g9HgHZCk7b01",
        "outputId": "0145ccd3-a8ba-4a20-de39-a5858406c59a"
      },
      "outputs": [
        {
          "name": "stdout",
          "output_type": "stream",
          "text": [
            "[1, 2, 'three']\n"
          ]
        }
      ],
      "source": [
        "mylist = [1, 2]\n",
        "mylist.append(\"three\")\n",
        "\n",
        "print(mylist)"
      ]
    },
    {
      "cell_type": "markdown",
      "metadata": {
        "id": "vODt4GNd7b04"
      },
      "source": [
        "## Tuples ##\n",
        "Tuples are like immutable lists. However, you can create new tuples from existing ones."
      ]
    },
    {
      "cell_type": "code",
      "execution_count": null,
      "metadata": {
        "colab": {
          "base_uri": "https://localhost:8080/"
        },
        "id": "X6UVltx_7b04",
        "outputId": "659506ad-7234-432e-e57b-7be5b701aede"
      },
      "outputs": [
        {
          "name": "stdout",
          "output_type": "stream",
          "text": [
            "See why this returns an error?\n",
            "(12, 34.56, 'abc', 'xyz')\n",
            "4\n",
            "12\n",
            "34.56\n",
            "abc\n",
            "xyz\n"
          ]
        }
      ],
      "source": [
        "tup1 = (12, 34.56)\n",
        "tup2 = ('abc', 'xyz')\n",
        "\n",
        "try:\n",
        "    tup1[0] = 100;\n",
        "except TypeError:\n",
        "    print('See why this returns an error?')\n",
        "\n",
        "\n",
        "tup3 = tup1 + tup2 # this concatenates the two tuples\n",
        "print(tup3)\n",
        "print(len(tup3))\n",
        "for x in tup3: print(x)"
      ]
    },
    {
      "cell_type": "markdown",
      "metadata": {
        "id": "O7FkCwvW7b07"
      },
      "source": [
        "## Dictionaries ##\n",
        "Python also supports dictionaries (hash maps) for mapping between specified keys and values."
      ]
    },
    {
      "cell_type": "code",
      "execution_count": null,
      "metadata": {
        "colab": {
          "base_uri": "https://localhost:8080/"
        },
        "id": "4RKLsTHt7b09",
        "outputId": "2126dccd-5a45-4f9b-9f97-874c635bed3f"
      },
      "outputs": [
        {
          "name": "stdout",
          "output_type": "stream",
          "text": [
            "1\n",
            "This shouldn't work, since we deleted numbers['one'] above\n",
            "{'two': 2, 'three': 3, 'four': 4}\n",
            "dict_keys(['two', 'three', 'four'])\n",
            "dict_values([2, 3, 4])\n"
          ]
        }
      ],
      "source": [
        "numbers = {'one': 1, 'two': 2, 'three': 3, 'four': 4 }\n",
        "print(numbers['one'])\n",
        "del numbers['one']  # Remove an entry from the dictionary via key\n",
        "\n",
        "try:\n",
        "    print(numbers['one'])\n",
        "except KeyError:\n",
        "    print(\"This shouldn't work, since we deleted numbers['one'] above\")\n",
        "\n",
        "print(numbers)\n",
        "print(numbers.keys())\n",
        "print(numbers.values())"
      ]
    },
    {
      "cell_type": "markdown",
      "metadata": {
        "id": "oRSNo34F7b0_"
      },
      "source": [
        "## Name binding ##\n",
        "Notice that Python assignment binds a name to a particular object. Some objects, such as integers and strings, are considered **immutable**. For these, you can safely bind a new name to an object and change it however you'd like, and the value referenced from the old name will not change (i.e. pass-by-value-like). However, containers and certain object types might be **mutable**, in which case modifying a (shallow) copy of the original will modify all instances of the object (pass-by-reference-like). For more details, consider checking out [this page on Call by Object Reference](https://www.geeksforgeeks.org/is-python-call-by-reference-or-call-by-value/).\n",
        "\n",
        "***If your goal is to make an independent clone of a general object, you should use the `deepcopy` function from Python's `copy` library. Alternatively, you can use the `list` function to copy a list. When using numpy, feel free to look into [copying options](https://numpy.org/doc/stable/reference/generated/numpy.copy.html) (i.e. `.copy()`)"
      ]
    },
    {
      "cell_type": "code",
      "execution_count": null,
      "metadata": {
        "colab": {
          "base_uri": "https://localhost:8080/"
        },
        "id": "315sAl-X7b1B",
        "outputId": "23f3aa34-5dea-4633-b6ea-4c1c5e8fc584"
      },
      "outputs": [
        {
          "name": "stdout",
          "output_type": "stream",
          "text": [
            "Pass-By-Reference-like\n",
            "A = [1, 2] \t B = [1, 2]\n",
            "A = [1, 2, 3] \t B = [1, 2, 3]\n",
            "\n",
            "Pass-By-Value-like\n",
            "A = 1 \t\t B = 1\n",
            "A = 1 \t\t B = 2\n"
          ]
        }
      ],
      "source": [
        "print('Pass-By-Reference-like')\n",
        "a = [1, 2]\n",
        "b = a\n",
        "print(f'A = {a} \\t B = {b}')\n",
        "b.append(3)\n",
        "print(f'A = {a} \\t B = {b}')\n",
        "\n",
        "print('\\nPass-By-Value-like')\n",
        "a = 1\n",
        "b = a\n",
        "print(f'A = {a} \\t\\t B = {b}')\n",
        "b = b + 1\n",
        "print(f'A = {a} \\t\\t B = {b}')\n"
      ]
    },
    {
      "cell_type": "markdown",
      "metadata": {
        "id": "4P08298f7b1D"
      },
      "source": [
        "## Control Flow ##\n",
        "Here are examples of if-else statements, for loops, and while loops in Python. Notice how identation controls scope in each statement."
      ]
    },
    {
      "cell_type": "code",
      "execution_count": null,
      "metadata": {
        "colab": {
          "base_uri": "https://localhost:8080/"
        },
        "id": "WwnCCuCg7b1D",
        "outputId": "2acc4cb4-86f1-4b60-d800-8044a10b7397"
      },
      "outputs": [
        {
          "name": "stdout",
          "output_type": "stream",
          "text": [
            "adult\n"
          ]
        }
      ],
      "source": [
        "age = 22\n",
        "\n",
        "if age < 13:\n",
        "    print('kid')\n",
        "elif age < 18:\n",
        "    print('teen')\n",
        "else:\n",
        "    print('adult')"
      ]
    },
    {
      "cell_type": "code",
      "execution_count": null,
      "metadata": {
        "colab": {
          "base_uri": "https://localhost:8080/"
        },
        "id": "l6nZyVie7b1F",
        "outputId": "6cce3c9f-2a41-457c-c198-be1953680c6e"
      },
      "outputs": [
        {
          "name": "stdout",
          "output_type": "stream",
          "text": [
            "Python supports the else keyword for for-loops. It executes if the loop completes without breaking\n"
          ]
        }
      ],
      "source": [
        "for i in range(5):\n",
        "    pass\n",
        "\n",
        "for i in [0, 1, 2, 3, 4]:\n",
        "    if i > 5:\n",
        "        break\n",
        "else:\n",
        "    print('Python supports the else keyword for for-loops. It executes if the loop completes without breaking')"
      ]
    },
    {
      "cell_type": "code",
      "execution_count": null,
      "metadata": {
        "colab": {
          "base_uri": "https://localhost:8080/"
        },
        "id": "Rhkfyn9A7b1I",
        "outputId": "2b5abf6c-bd3d-4f6c-8210-4bd24abf22ff"
      },
      "outputs": [
        {
          "name": "stdout",
          "output_type": "stream",
          "text": [
            "512.0\n",
            "32.0\n",
            "2.0\n"
          ]
        }
      ],
      "source": [
        "x = 1024\n",
        "\n",
        "while x > 1:\n",
        "    x = x / 2\n",
        "    if (x % 10) != 2: # if the remainder of x / 10 is different than 2\n",
        "        continue # don't execute the rest of this iteration (i.e. print)\n",
        "    print(x)"
      ]
    },
    {
      "cell_type": "markdown",
      "metadata": {
        "id": "CBVsh5pZ7b1N"
      },
      "source": [
        "## Functions ##\n",
        "Specify functions using the `def` keyword and create a new name binding in the local space. They can also be assigned directly to variables using the `lambda` keyword (use sparingly).\n",
        "\n",
        "**NOTE!!** You are allowed to override core methods, for example:\n",
        "```\n",
        "def sum(a, b):\n",
        "    return a + b\n",
        "```\n",
        "\n",
        "This is almost-always a terrible idea! Try to make sure that you don't override any built-in functions if there are other options (i.e. renaming your new function)."
      ]
    },
    {
      "cell_type": "code",
      "execution_count": null,
      "metadata": {
        "colab": {
          "base_uri": "https://localhost:8080/"
        },
        "id": "4ORqZN287b1N",
        "outputId": "3dddaf31-b257-4ec1-cd71-adf05430501f"
      },
      "outputs": [
        {
          "name": "stdout",
          "output_type": "stream",
          "text": [
            "goodbye!\n",
            "hello!\n"
          ]
        }
      ],
      "source": [
        "def example_func(s=\"hello!\"):\n",
        "    print(s)\n",
        "\n",
        "example_func(\"goodbye!\")\n",
        "example_func()\n",
        "# This is equivalent to example_func(\"hello!\") since we\n",
        "# give the parameter 's' a default value of \"hello!\""
      ]
    },
    {
      "cell_type": "markdown",
      "metadata": {
        "id": "4lYbRW5JtvcN"
      },
      "source": [
        "Functions can also be passed as variables. This may come in handy when implementing generalizable code."
      ]
    },
    {
      "cell_type": "code",
      "execution_count": null,
      "metadata": {
        "colab": {
          "base_uri": "https://localhost:8080/"
        },
        "id": "SvE3xQ0Qt7p0",
        "outputId": "284c4513-8e9d-44de-a9d7-4e0a4c800de4"
      },
      "outputs": [
        {
          "name": "stdout",
          "output_type": "stream",
          "text": [
            "Output: (4, 5)\n",
            "Output: 1024.0\n",
            "4 5\n",
            "Output: None\n",
            "Output: 41\n"
          ]
        }
      ],
      "source": [
        "import math\n",
        "\n",
        "def apply_and_print(a, b, op=lambda a, b: (a, b)):\n",
        "    '''\n",
        "    Apply a method to a pair of numbers and then print it.\n",
        "    By default, use identity function (aka just return the values)\n",
        "    '''\n",
        "    return print('Output:', op(a, b))\n",
        "\n",
        "apply_and_print(4, 5)\n",
        "apply_and_print(4, 5, math.pow)\n",
        "apply_and_print(4, 5, print)\n",
        "apply_and_print(4, 5, lambda a, b: a**2 + b**2)  # shorthand lambda syntax"
      ]
    },
    {
      "cell_type": "markdown",
      "metadata": {
        "id": "0CmoTBPn7b1S"
      },
      "source": [
        "## Fibonacci (Checkoff)"
      ]
    },
    {
      "cell_type": "code",
      "execution_count": 4,
      "metadata": {
        "id": "d-H4qosk7b1U"
      },
      "outputs": [],
      "source": [
        "from typing import List\n",
        "# TODO implement fibonacci numbers\n",
        "# Args:\n",
        "#   num: int, number of fibonacci numbers to generate\n",
        "# Returns:\n",
        "#   sequence: list, generated fibonacci sequence\n",
        "\n",
        "def fibonacci(num: int) -> List[int]:\n",
        "    if num <= 0:\n",
        "        return []\n",
        "    elif num == 1:\n",
        "        return [0]\n",
        "    sequence = [0, 1]\n",
        "    for _ in range(2, num):\n",
        "        sequence.append(sequence[-1] + sequence[-2])\n",
        "    return sequence\n",
        "\n",
        "\n",
        "assert(fibonacci(10)[9] == 34)"
      ]
    },
    {
      "cell_type": "markdown",
      "metadata": {
        "id": "C-9xGqO07b1Q"
      },
      "source": [
        "## Classes ##\n",
        "Specify classes using the `class` keyword. Notice the `__` around the first method of this class; this denotes what are more commonly referred to as [\"magic methods\"](http://minhhh.github.io/posts/a-guide-to-pythons-magic-methods) in Python. The magic method defined for this class is the constructor that you will need to define for all your classes. It includes logic run at the creation of the object. You can assign the object attributes here."
      ]
    },
    {
      "cell_type": "code",
      "execution_count": 7,
      "metadata": {
        "colab": {
          "base_uri": "https://localhost:8080/"
        },
        "id": "07kcUmPR7b1Q",
        "outputId": "343a6f53-566c-41ee-aa16-b072feb055e3"
      },
      "outputs": [
        {
          "name": "stdout",
          "output_type": "stream",
          "text": [
            "v = V(3, 4) or (3, 4)\n",
            "Start BasicVector len method!\n",
            "v.len() = 5.0\n",
            "Vector addition not implemented, so: \n",
            "\t Exception: unsupported operand type(s) for +: 'BasicVector' and 'BasicVector'\n"
          ]
        }
      ],
      "source": [
        "import math\n",
        "\n",
        "class BasicVector:\n",
        "    def __init__(self, x, y):\n",
        "        '''\n",
        "        The Vector2 object can have 'properties' assigned to it.\n",
        "        'self', the first argument, is a particular object instance.\n",
        "        We can assign values to it as follows:\n",
        "        '''\n",
        "        self.x = x\n",
        "        self.y = y\n",
        "\n",
        "    def len(self):\n",
        "        '''Useful method that can be called by all instances of the object'''\n",
        "        print('Start BasicVector len method!')\n",
        "        return math.sqrt(self.x ** 2 + self.y ** 2)\n",
        "\n",
        "    def __str__(self):\n",
        "        '''\n",
        "        One of many possible overrideable methods.\n",
        "        This one says what the string version is, which is what print uses...\n",
        "        '''\n",
        "        return f'V{(self.x, self.y)}'\n",
        "\n",
        "\n",
        "v = BasicVector(3, 4)\n",
        "print(f'v = {v} or {(v.x, v.y)}')\n",
        "print(f'v.len() = {v.len()}')\n",
        "try:\n",
        "    print(f'v + v = {v + v}')\n",
        "except Exception as e:\n",
        "    print('Vector addition not implemented, so: \\n\\t Exception:', e)"
      ]
    },
    {
      "cell_type": "markdown",
      "metadata": {
        "id": "uYcGRTamylFe"
      },
      "source": [
        "A class can also be sub-classed, where we can add onto the default implementation with additional customizations"
      ]
    },
    {
      "cell_type": "code",
      "execution_count": 8,
      "metadata": {
        "colab": {
          "base_uri": "https://localhost:8080/"
        },
        "id": "862tya6ey6rc",
        "outputId": "1b98134b-494f-4a39-b141-7554b47e2496"
      },
      "outputs": [
        {
          "name": "stdout",
          "output_type": "stream",
          "text": [
            "v1 = V(3, 4)\n",
            "v2 = V(5, 6)\n",
            "Start Vector len method!\n",
            "Start BasicVector len method!\n",
            "v1.len() = 5.0\n",
            "Start BasicVector len method!\n",
            "len(v2) = 7.810249675906654\n",
            "v1 + v2 = V(8, 10)\n",
            "v1 - v2 = V(-2, -2)\n"
          ]
        }
      ],
      "source": [
        "class Vector(BasicVector):\n",
        "    def __init__(self, x, y, name='V'):\n",
        "        super().__init__(x, y)  ## Initiate the init method of super-class\n",
        "        self.name = name\n",
        "\n",
        "    def __str__(self): return f'{self.name}{(self.x, self.y)}'\n",
        "    def len(self):\n",
        "      print('Start Vector len method!')\n",
        "      return super().len() # call the len method from the parent class\n",
        "\n",
        "    def __add__(self, other):\n",
        "        return self.__class__(self.x + other.x, self.y + other.y)\n",
        "    def __sub__(self, other):\n",
        "        return self.__class__(self.x - other.x, self.y - other.y)\n",
        "\n",
        "v1 = Vector(3, 4)\n",
        "v2 = BasicVector(5, 6)\n",
        "\n",
        "print(f'v1 = {v1}')\n",
        "print(f'v2 = {v2}')\n",
        "\n",
        "print(f'v1.len() = {v1.len()}')     ## Override of __len__ works!\n",
        "print(f'len(v2) = {v2.len()}')      ## Old method still works!\n",
        "\n",
        "print(f'v1 + v2 = {v1 + v2}')\n",
        "print(f'v1 - v2 = {v1 - v2}')"
      ]
    },
    {
      "cell_type": "markdown",
      "metadata": {
        "id": "qii2Tvfi4a9G"
      },
      "source": [
        "## Logger Class (Checkoff)\n",
        "\n",
        "For a check-off, you are going to implement a logging wrapper for your Vector2. In other words, you are going to log when operations happen on your objects and then print them out.\n",
        "\n",
        "This will require storing an input vector in an Logger class instance and then calling the operations on its behalf. This is an example of hiding complexity from the user to facilitate background functionality (which is going to be very common going forward). Some of the methods have already been pre-filled for you. Please implement the additional methods as necessary to get the desired result. Note that the result of `Logger` operations should also be `Logger` instances. Hint: type-cast the output of the operation when returning the value."
      ]
    },
    {
      "cell_type": "code",
      "execution_count": 9,
      "metadata": {
        "id": "L4N-HTZBBWcg"
      },
      "outputs": [
        {
          "name": "stdout",
          "output_type": "stream",
          "text": [
            "v1 = myV1(3, 4)\n",
            "v2 = myV2(5, 6)\n",
            "v1 + v2 = V(8, 10)\n",
            "v1 - v2 = V(-2, -2)\n",
            "\n",
            "myV1(3, 4) Logs:\n",
            " - Query String [myV1(3, 4)]\n",
            " - Query myV1(3, 4) + myV2(5, 6) [V(8, 10)]\n",
            " - Query myV1(3, 4) - myV2(5, 6) [V(-2, -2)]\n",
            "\n",
            "myV2(5, 6) Logs:\n",
            " - Query String [myV2(5, 6)]\n",
            "\n",
            "V(8, 10) Logs:\n",
            " - Query String [V(8, 10)]\n",
            "\n",
            "V(-2, -2) Logs:\n",
            " - Query String [V(-2, -2)]\n"
          ]
        }
      ],
      "source": [
        "class Logger:\n",
        "    def __init__(self, v):\n",
        "        assert isinstance(v, Vector)\n",
        "        self.v = v\n",
        "        self._logs = []  # Internal variable to hold logs\n",
        "\n",
        "    def _log_get(self, msg, val):\n",
        "        '''Utility Method: Adds entry to the log and returns the value.\n",
        "        Args : msg (hint: the operation being performed)\n",
        "               val (hint: the operation's result)\n",
        "        Returns:\n",
        "          val\n",
        "        '''\n",
        "        self._logs += [f'{msg} [{val}]']  # Append to a list\n",
        "        return val\n",
        "\n",
        "    def __call__(self):\n",
        "        '''Call override'''\n",
        "        print(f'{self.v} Logs:')\n",
        "        [print(f' - {log}') for log in self._logs]  # List comprehension loop.\n",
        "\n",
        "    def __str__(self):\n",
        "        self._log_get('Query String', str(self.v))\n",
        "        return str(self.v)\n",
        "\n",
        "    def __add__(self, other):\n",
        "        assert isinstance(other, Logger)\n",
        "        result = self.v + other.v\n",
        "        self._log_get(f'Query {self.v} + {other.v}', str(result))\n",
        "        return Logger(result)\n",
        "\n",
        "    def __sub__(self, other):\n",
        "        assert isinstance(other, Logger)\n",
        "        result = self.v - other.v\n",
        "        self._log_get(f'Query {self.v} - {other.v}', str(result))\n",
        "        return Logger(result)\n",
        "\n",
        "\n",
        "v1 = Logger(Vector(3, 4, name='myV1'))\n",
        "v2 = Logger(Vector(5, 6, name='myV2'))\n",
        "\n",
        "print(f'v1 = {v1}')\n",
        "print(f'v2 = {v2}')\n",
        "\n",
        "v3 = v1 + v2\n",
        "v4 = v1 - v2\n",
        "print(f'v1 + v2 = {v3}')\n",
        "print(f'v1 - v2 = {v4}')\n",
        "\n",
        "print(); v1()   ## quick hack for issuing commands back-to-back. Use sparingly\n",
        "print(); v2()\n",
        "print(); v3()\n",
        "print(); v4()"
      ]
    },
    {
      "cell_type": "markdown",
      "metadata": {
        "id": "ZZz5n-q5GKoc"
      },
      "source": [
        "EXPECTED:\n",
        "```\n",
        "v1 = myV1(3, 4)\n",
        "v2 = myV2(5, 6)\n",
        "v1 + v2 = V(8, 10)\n",
        "v1 - v2 = V(-2, -2)\n",
        "\n",
        "myV1(3, 4) Logs:\n",
        " - Query String [myV1(3, 4)]\n",
        " - Query myV1(3, 4) + myV2(5, 6) [V(8, 10)]\n",
        " - Query myV1(3, 4) - myV2(5, 6) [V(-2, -2)]\n",
        "\n",
        "myV2(5, 6) Logs:\n",
        " - Query String [myV2(5, 6)]\n",
        "\n",
        "V(8, 10) Logs:\n",
        " - Query String [V(8, 10)]\n",
        "\n",
        "V(-2, -2) Logs:\n",
        " - Query String [V(-2, -2)]\n",
        "```"
      ]
    },
    {
      "cell_type": "markdown",
      "metadata": {
        "id": "pU4PAF0G7b1X"
      },
      "source": [
        "## Linear Algebra Refresher\n",
        "Before moving on to NumPy, we need to talk about our favourite type of math: Linear Algebra. Most of the operations in Deep Learning are done by matrices. It's both practical and easy to optimize using very powerful parallel hardwares like GPUs. For the purpose of this lab and most of this course, we only really need to know about matrix multiplications. Let's take a look at how that works."
      ]
    },
    {
      "cell_type": "markdown",
      "metadata": {
        "id": "ag78QcCj7b1Z"
      },
      "source": [
        "Given the following two matrices:\n",
        "``` Python\n",
        "A = [[1,2,3],[4,5,6]]      # Shape=(2,3)\n",
        "B = [[7,8],[9,10],[11,12]] # Shape=(3,2)\n",
        "```\n",
        "And we want to find A * B, to do this we dot the rows of A and the columns of B to find each element in AB:"
      ]
    },
    {
      "cell_type": "markdown",
      "metadata": {
        "id": "ahuqdNw1m875"
      },
      "source": [
        "![matrix1.svg](data:image/svg+xml;base64,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)\n",
        "\n",
        "![matrix2.svg](data:image/svg+xml;base64,PD94bWwgdmVyc2lvbj0iMS4wIiBlbmNvZGluZz0iVVRGLTgiIHN0YW5kYWxvbmU9Im5vIj8+CjwhLS0gQ29weXJpZ2h0IDIwMTcgbWF0aHNpc2Z1bi5jb20gLS0+CjxzdmcgeG1sbnM9Imh0dHA6Ly93d3cudzMub3JnLzIwMDAvc3ZnIiB3aWR0aD0iMzYwIiBoZWlnaHQ9IjEwMy40IiB2ZXJzaW9uPSIxLjEiIHN0eWxlPSJmb250LWZhbWlseTonQ29taWMgU2FucyBNUyc7IGZvbnQtc2l6ZToxOS41cHg7IGZpbGw6I2ZkMzMwMTsgc3Ryb2tlLXdpZHRoOjEuMTsiPgo8ZGVmcz4KPC9kZWZzPgo8ZyB0cmFuc2Zvcm09InRyYW5zbGF0ZSgyNjMuMjgwODMsLTIzMzEuNzQ3KSI+Cgk8Y2lyY2xlIGN4PSI2OS4yIiBjeT0iMjM3My40IiByPSIxNy42NjE0MzIiIHN0eWxlPSJmaWxsOiNlZWM3M2U7IGZpbGwtb3BhY2l0eTowLjMyOyIvPgoJPHJlY3QgeD0iMjM0Ny45IiB5PSI1MS4zIiByeD0iMTAuNSIgcnk9IjE5LjMiIHdpZHRoPSI4Ny4yIiBoZWlnaHQ9IjI3LjMiIHRyYW5zZm9ybT0ibWF0cml4KDAsMSwtMSwwLDAsMCkiIHN0eWxlPSJmaWxsOiNlZWM3M2U7IGZpbGwtb3BhY2l0eTowLjMyOyIvPgoJPHJlY3QgeD0iLTI1My41IiB5PSIyMzYxLjYiIHJ4PSIxMC45IiByeT0iMTYuNCIgd2lkdGg9IjkxIiBoZWlnaHQ9IjIzLjIiIHN0eWxlPSJmaWxsOiNlZWM3M2U7IGZpbGwtb3BhY2l0eTowLjMyOyIvPgoJPHBhdGggc3R5bGU9ImZpbGw6IzAxNjljOTsgc3Ryb2tlOiM2MzY0NjY7IHN0cm9rZS13aWR0aDowLjEzOyBzdHJva2UtbGluZWpvaW46cm91bmQ7IiBkPSJtIC0yNTMsMjM2My4xIGMgLTIuNiwtMC4zIC01LjcsLTAuMiAtOC4xLC0wLjMgMi44LC0yIDAuMyw2LjkgMS4xLDguOSAtMC40LDEzLjIgLTAuNywyNy4xIC0wLjMsNDAgLTAuMSwtMC42IDQsLTAgNS4zLC0wLjIgMi4xLC0xLjEgMy4xLDIgMS43LDIuNyAtMy4xLC0wLjUgLTcuNSwxLjMgLTkuNiwtMS41IC0wLjksLTE3IDAuMiwtMzQuMSAwLjIsLTUxLjIgMS44LC0yLjYgNiwtMC43IDguOCwtMS4xIDIuMSwtMC4zIDAuNiwxLjYgMC44LDIuOCB6Ii8+Cgk8cGF0aCBzdHlsZT0iZmlsbDojMDE2OWM5OyBzdHJva2U6IzYzNjQ2Njsgc3Ryb2tlLXdpZHRoOjAuMTM7IHN0cm9rZS1saW5lam9pbjpyb3VuZDsiIGQ9Im0gLTE2MS45LDIzNjIuOSBjIDIuNiwtMC4zIDUuNywtMC4xIDguMSwtMC4yIC0yLjYsLTIuMSAtMC41LDYuMSAtMS4zLDguMSAwLjMsMTMuMiAtMCwyOC41IC0wLjQsNDAuNyAtMC43LC0wLjMgLTMuOSwtMC4xIC01LjUsLTAuMiAtMi4xLC0xLjIgLTMuMSwxLjkgLTEuNywyLjYgMy4xLC0wLjQgNy41LDEuNSA5LjYsLTEuMyAxLjMsLTE3IDAuNCwtMzQuMSAwLjgsLTUxLjIgLTEuOSwtMi43IC02LjMsLTAuOCAtOS4yLC0xLjIgLTEuNiwtMC4zIC0wLjIsMiAtMC40LDIuOCB6Ii8+Cgk8dGV4dCB4PSItMjQ3LjEiIHk9IjI0MDcuNiIgc3R5bGU9ImZvbnQtd2VpZ2h0OjkwMDsiPjQ8L3RleHQ+Cgk8dGV4dCB4PSItMjQ3LjUiIHk9IjIzODAuMSIgc3R5bGU9ImZvbnQtd2VpZ2h0OjkwMDsiPjE8L3RleHQ+Cgk8dGV4dCB4PSItMjE1LjYiIHk9IjIzODAuMSIgc3R5bGU9ImZvbnQtd2VpZ2h0OjkwMDsiPjI8L3RleHQ+Cgk8dGV4dCB4PSItMTgyLjYiIHk9IjI0MDcuNiIgc3R5bGU9ImZvbnQtd2VpZ2h0OjkwMDsiPjY8L3RleHQ+Cgk8dGV4dCB4PSItMTg0LjgiIHk9IjIzODAuMSIgc3R5bGU9ImZvbnQtd2VpZ2h0OjkwMDsiPjM8L3RleHQ+Cgk8dGV4dCB4PSItMjE1LjkiIHk9IjI0MDcuNiIgc3R5bGU9ImZvbnQtd2VpZ2h0OjkwMDsiPjU8L3RleHQ+Cgk8dGV4dCB4PSItNjkuNSIgeT0iMjM3MC45IiBzdHlsZT0iZm9udC13ZWlnaHQ6OTAwOyI+ODwvdGV4dD4KCTx0ZXh0IHg9Ii0xMDEuMSIgeT0iMjM3MC45IiBzdHlsZT0iZm9udC13ZWlnaHQ6OTAwOyI+NzwvdGV4dD4KCTx0ZXh0IHg9Ii0xMDAuOSIgeT0iMjM5OC45IiBzdHlsZT0iZm9udC13ZWlnaHQ6OTAwOyI+OTwvdGV4dD4KCTx0ZXh0IHg9Ii03Ni4xIiB5PSIyNDI3LjMiIHN0eWxlPSJmb250LXdlaWdodDo5MDA7Ij4xMjwvdGV4dD4KCTx0ZXh0IHg9Ii0xMDYuNyIgeT0iMjQyNy4zIiBzdHlsZT0iZm9udC13ZWlnaHQ6OTAwOyI+MTE8L3RleHQ+Cgk8dGV4dCB4PSItNzYuNSIgeT0iMjM5OC45IiBzdHlsZT0iZm9udC13ZWlnaHQ6OTAwOyI+MTA8L3RleHQ+Cgk8cGF0aCBzdHlsZT0iZmlsbDojMDE2OWM5OyBzdHJva2U6IzYzNjQ2Njsgc3Ryb2tlLXdpZHRoOjAuMTM7IHN0cm9rZS1saW5lam9pbjpyb3VuZDsiIGQ9Im0gLTEwNy42LDIzNTAuMiBjIC0yLjgsMC42IC02LjksLTEuNSAtOC44LDEgMC41LDEzLjIgLTAsMjYuNCAtMC41LDM5LjYgMC40LDEzLjYgLTAuMywyNy4zIDAuNSw0MC44IDIuMywyLjIgNi4zLDEgOS4zLDEuNCAxLjgsLTQgLTMuMiwtMS44IC01LjMsLTIuNSAtMS41LC0wLjUgLTIuNiwwLjEgLTEuNSwwLjMgLTAuNSwtMTYuOCAtMC42LC0zMy43IC0wLjEsLTUwLjUgMC42LC05LjEgMC42LC0yMC4yIC0wLC0yOC40IC0yLjEsMC44IDIuNCwwLjQgMy4yLDAuNiAyLjIsLTAuMiA0LDEuMiAzLjIsLTIuMyB6Ii8+Cgk8cGF0aCBzdHlsZT0iZmlsbDojMDE2OWM5OyBzdHJva2U6IzYzNjQ2Njsgc3Ryb2tlLXdpZHRoOjAuMTM7IHN0cm9rZS1saW5lam9pbjpyb3VuZDsiIGQ9Im0gLTUyLjYsMjM1MC4xIGMgMi44LDAuNiA2LjksLTEuNSA4LjgsMS4xIC0wLjcsMTMuNCAtMC4yLDI2LjkgMCw0MC40IC0wLjYsMTMuMyAwLDI2LjcgLTAuOSw0MCAtMi40LDIuMiAtNi4zLDAuOSAtOS4zLDEuMyAtMS44LC00IDMuMiwtMS44IDUuMywtMi40IDEuNSwtMC41IDIuNiwwLjEgMS41LDAuMyAwLjYsLTE3LjEgMC45LC0zNC4yIDAuNiwtNTEuMyAtMC42LC05LjMgLTAuMSwtMTguNiAwLjIsLTI3LjggMi41LDEuMiAtMi43LDAuNSAtMy43LDAuOCAtMi4xLDAgLTMuMiwwLjUgLTIuNSwtMi4zIHoiLz4KCTx0ZXh0IHg9Ii0xNDEuNCIgeT0iMjM5NC43IiBzdHlsZT0iZm9udC13ZWlnaHQ6Ym9sZDsgZm9udC1zaXplOjI0LjdweDsgZmlsbDojMDE5N2ZkOyI+eDwvdGV4dD4KCTx0ZXh0IHg9Ii0zMC44IiB5PSIyNDAxLjgiIHN0eWxlPSJmb250LXNpemU6MzIuMXB4OyBmaWxsOiMwMTk3ZmQ7Ij49PC90ZXh0PgoJPHBhdGggc3R5bGU9ImZpbGw6IzAxNjljOTsgc3Ryb2tlOiM2MzY0NjY7IHN0cm9rZS13aWR0aDowLjEzOyBzdHJva2UtbGluZWpvaW46cm91bmQ7IiBkPSJtIDEyLjQsMjM2My4xIGMgLTIuNiwtMC4zIC01LjcsLTAuMiAtOC4xLC0wLjMgMi44LC0yIDAuMyw2LjkgMS4xLDguOSAtMC40LDEzLjIgLTAuNywyNy4xIC0wLjMsNDAgLTAuMSwtMC42IDQsLTAgNS4zLC0wLjIgMi4xLC0xLjEgMy4xLDIgMS43LDIuNyAtMy4xLC0wLjUgLTcuNSwxLjMgLTkuNiwtMS41IC0wLjksLTE3IDAuMiwtMzQuMSAwLjIsLTUxLjIgMS44LC0yLjYgNiwtMC43IDguOCwtMS4xIDIuMSwtMC4zIDAuNiwxLjYgMC44LDIuOCB6Ii8+Cgk8cGF0aCBzdHlsZT0iZmlsbDojMDE2OWM5OyBzdHJva2U6IzYzNjQ2Njsgc3Ryb2tlLXdpZHRoOjAuMTM7IHN0cm9rZS1saW5lam9pbjpyb3VuZDsiIGQ9Im0gODcsMjM2My44IGMgMi42LC0wLjMgNS43LC0wLjEgOC4xLC0wLjIgLTIuNywtMiAtMC40LDYuOSAtMS4zLDguOSAwLjIsMTMuMiAwLDI3IC0wLjQsMzkuOSAwLjUsLTAuNCAtMy4zLC0wLjEgLTQuNCwtMC4yIC0yLjIsLTAuNCAtNC4zLC0wIC0zLDIuNiAzLjIsLTAuMyA3LjMsMS4zIDkuOCwtMSAxLjMsLTkuNCAwLjQsLTE5LjEgMC45LC0yOC42IC0wLjMsLTcuOCAwLC0xNS42IC0wLjEsLTIzLjMgLTIuNSwtMi4xIC02LjcsLTAuNSAtOS44LC0wLjggMC4xLDAuOSAwLjIsMS45IDAuMywyLjcgeiIvPgoJPHRleHQgeD0iMTcuOCIgeT0iMjM4MC4xIiBzdHlsZT0iZm9udC13ZWlnaHQ6OTAwOyI+NTg8L3RleHQ+Cgk8dGV4dCB4PSI1Ny4xIiB5PSIyMzgwLjEiIHN0eWxlPSJmb250LXdlaWdodDo5MDA7Ij42NDwvdGV4dD4KCTxwYXRoIHN0eWxlPSJmaWxsOiNlZWM3M2U7IiBkPSJtIC0yMjEuMSwyMzYyLjMgYyAxNC41LC0xNi4xIDM2LjcsLTIyLjQgNTcuMywtMjYuNyAzMy4yLC02LjQgNjguNCwtMy41IDk5LjEsMTEuMSAtNiw3LjUgLTE4LjgsLTcuMiAtMjcuNywtNiAtMzIuNCwtOC40IC02Ny41LC01LjMgLTk4LjYsNi41IC05LjgsMy41IC0xOS41LDEwLjQgLTI2LjcsMTYuNSAtMS4xLC0wLjUgLTIuMiwtMSAtMy4zLC0xLjQgeiIvPgoJPHBhdGggc3R5bGU9ImZpbGw6I2VlYzczZTsiIGQ9Im0gLTY3LjcsMjM0OC4zIGMgMTYuOCwtMTQuNSA0MC42LC0xNy4zIDYyLC0xNi40IDI1LjIsMC44IDQ5LjgsMTAuNSA2OC43LDI3LjIgLTcuMiw1LjUgLTE2LjgsLTEyLjMgLTI2LjIsLTEzIC0yNS4xLC0xMiAtNTUsLTEzLjkgLTgxLjYsLTYuMSAtOC42LC0wLjYgLTE2LjQsMTMuMyAtMjIuOSw4LjMgbCA1ZS02LDhlLTQgeiIvPgoJPHBhdGggc3R5bGU9ImZpbGw6I2VlYzczZTsiIGQ9Im0gNDQuMywyMzU1LjEgYyAwLjIsLTAgMC4zLC0wLjEgMC41LC0wLjIgMC4yLC0wIDAuNCwtMCAwLjUsLTAuMSAwLjIsLTAgMC40LC0wIDAuNiwtMC4xIDAuMiwtMCAwLjUsLTAgMC43LC0wIDAuMywtMCAwLjUsLTAgMC44LC0wIDAuMywtMCAwLjUsLTAgMC44LDAgMC4zLDAgMC41LDAgMC44LDAgMC4zLDAgMC42LDAgMC44LDAgMC4zLDAgMC42LDAgMC44LDAuMSAwLjMsMCAwLjUsMCAwLjgsMC4xIDAuMywwIDAuNSwwLjEgMC44LDAuMSAwLjMsMCAwLjYsMC4xIDAuOCwwLjIgMC4zLDAgMC42LDAuMSAwLjgsMC4yIDAuMywwIDAuNSwwLjEgMC44LDAuMiAwLjIsMCAwLjUsMC4xIDAuNywwLjIgMC4yLDAgMC40LDAuMSAwLjcsMC4yIDAuMiwwIDAuNCwwLjEgMC42LDAuMiAwLjIsMCAwLjQsMC4xIDAuNiwwLjIgMC4yLDAgMC4zLDAuMSAwLjUsMC4yIDAuMiwwIDAuMywwIDAuNSwwLjEgMC4xLDAgMC4zLDAgMC40LDAuMSAwLjEsMCAwLjMsMCAwLjQsMC4xIDAuMSwwIDAuMywwIDAuNCwwLjEgMC4xLDAgMC4zLDAgMC40LDAuMSAwLjEsMCAwLjMsMCAwLjQsMC4xIDAuMSwwIDAuMywwIDAuNCwwLjEgMC4xLDAgMC4zLDAgMC40LDAuMSAwLjEsMCAwLjIsMCAwLjMsMC4xIDAuMSwwIDAuMiwwIDAuMywwLjEgMCwwIDAuMiwwIDAuMywwLjEgMCwwIDAuMiwwIDAuMiwwIDAsMCAwLjEsMCAwLjIsMCAwLDAgLTEuMSwzLjUgLTEuMSwzLjUgbCAwLDAgYyAtMCwtMCAtMC4xLC0wIC0wLjIsLTAgLTAuMSwtMCAtMC4yLC0wIC0wLjMsLTAuMSAtMC4xLC0wIC0wLjIsLTAgLTAuMywtMC4xIC0wLjEsLTAgLTAuMiwtMCAtMC4zLC0wLjEgLTAuMSwtMCAtMC4yLC0wIC0wLjMsLTAuMSAtMC4xLC0wIC0wLjIsLTAgLTAuMywtMC4xIC0wLjEsLTAgLTAuMiwtMCAtMC4zLC0wLjEgLTAuMSwtMCAtMC4yLC0wIC0wLjMsLTAuMSAtMC4xLC0wIC0wLjIsLTAgLTAuMywtMC4xIC0wLjEsLTAgLTAuMiwtMCAtMC40LC0wLjEgLTAuMSwtMCAtMC4zLC0wIC0wLjQsLTAuMSAtMC4xLC0wIC0wLjMsLTAgLTAuNCwtMC4xIC0wLjIsLTAgLTAuMywtMCAtMC41LC0wLjEgLTAuMiwtMCAtMC4zLC0wLjEgLTAuNSwtMC4yIC0wLjIsLTAgLTAuNCwtMC4xIC0wLjYsLTAuMiAtMC4yLC0wIC0wLjQsLTAuMSAtMC42LC0wLjIgLTAuMiwtMCAtMC40LC0wLjEgLTAuNywtMC4yIC0wLjIsLTAgLTAuNSwtMC4xIC0wLjcsLTAuMiAtMC4yLC0wIC0wLjUsLTAuMSAtMC43LC0wLjIgLTAuMiwtMCAtMC41LC0wLjEgLTAuNywtMC4yIC0wLjIsLTAgLTAuNSwtMC4xIC0wLjcsLTAuMSAtMC4yLC0wIC0wLjUsLTAgLTAuNywtMC4xIC0wLjIsLTAgLTAuNSwtMCAtMC43LC0wLjEgLTAuMiwtMCAtMC41LC0wIC0wLjcsLTAuMSAtMC4yLC0wIC0wLjUsLTAgLTAuNywtMCAtMC4yLC0wIC0wLjQsLTAgLTAuNiwtMCAtMC4yLDAgLTAuNCwtMCAtMC42LDAgLTAuMiwwIC0wLjQsMCAtMC41LDAgLTAuMiwwIC0wLjQsMCAtMC42LDAgLTAuMSwwIC0wLjMsMCAtMC40LDAgLTAsMCAtMC4yLDAgLTAuMywwIC0wLDAgLTAuMiwwIC0wLjIsMCAwLDAgLTEuMywtMy40IC0xLjMsLTMuNCB6Ii8+Cgk8cGF0aCBzdHlsZT0iZmlsbDojZWVjNzNlOyIgZD0ibSA1NywyMzQ3LjMgYyAwLDAgMCwwLjIgMCwwLjIgMCwwIDAsMC4yIDAsMC4zIDAsMC4xIDAsMC4zIDAsMC40IDAsMC4xIDAsMC4zIDAuMSwwLjQgMCwwLjEgMCwwLjMgMC4xLDAuNCAwLDAuMiAwLjEsMC4zIDAuMiwwLjUgMCwwLjIgMC4xLDAuMyAwLjIsMC41IDAsMC4yIDAuMiwwLjQgMC4yLDAuNSAwLDAuMiAwLjIsMC40IDAuMiwwLjUgMCwwLjIgMC4yLDAuNCAwLjMsMC42IDAuMSwwLjIgMC4yLDAuNCAwLjMsMC42IDAuMSwwLjIgMC4yLDAuNCAwLjMsMC42IDAuMSwwLjIgMC4yLDAuNCAwLjMsMC41IDAuMSwwLjIgMC4yLDAuMyAwLjMsMC41IDAsMC4yIDAuMiwwLjMgMC4zLDAuNSAwLDAuMSAwLjIsMC4zIDAuMywwLjQgMC4xLDAuMSAwLjIsMC4zIDAuMywwLjQgMC4xLDAuMSAwLjIsMC4zIDAuMywwLjQgMC4xLDAuMSAwLjIsMC4zIDAuMywwLjQgMC4xLDAuMSAwLjIsMC4zIDAuMywwLjQgMC4xLDAuMSAwLjIsMC4zIDAuMywwLjQgMCwwLjEgMC4yLDAuMiAwLjMsMC40IDAsMC4xIDAuMiwwLjIgMC4zLDAuNCAwLDAuMSAwLjIsMC4yIDAuMywwLjMgMCwwLjEgMC4yLDAuMiAwLjIsMC4zIDAsMC4xIDAuMSwwLjIgMC4yLDAuMyAwLDAgMC4xLDAuMiAwLjIsMC4zIDAsMCAwLjEsMC4yIDAuMiwwLjMgMCwwIDAsMCAwLDAuMSAwLDAgLTMsMi4xIC0zLDIuMSBsIDAsMCBjIC0wLC0wLjEgMCwwIC0wLC0wIC0wLC0wIC0wLjEsLTAuMiAtMC4yLC0wLjMgLTAsLTAgLTAuMSwtMC4yIC0wLjIsLTAuMyAtMCwtMC4xIC0wLjEsLTAuMiAtMC4yLC0wLjMgLTAsLTAuMSAtMC4yLC0wLjIgLTAuMiwtMC4zIC0wLC0wLjEgLTAuMiwtMC4yIC0wLjMsLTAuNCAtMCwtMC4xIC0wLjIsLTAuMiAtMC4zLC0wLjQgLTAsLTAuMSAtMC4yLC0wLjMgLTAuMywtMC40IC0wLjEsLTAuMSAtMC4yLC0wLjMgLTAuMywtMC40IC0wLjEsLTAuMSAtMC4yLC0wLjMgLTAuMywtMC40IC0wLjEsLTAuMSAtMC4yLC0wLjMgLTAuMywtMC40IC0wLjEsLTAuMiAtMC4yLC0wLjMgLTAuMywtMC41IC0wLjEsLTAuMiAtMC4yLC0wLjMgLTAuMywtMC41IC0wLjEsLTAuMiAtMC4yLC0wLjQgLTAuNCwtMC41IC0wLjEsLTAuMiAtMC4yLC0wLjQgLTAuMywtMC41IC0wLjEsLTAuMiAtMC4yLC0wLjQgLTAuMywtMC42IC0wLjEsLTAuMiAtMC4yLC0wLjQgLTAuMywtMC42IC0wLjEsLTAuMiAtMC4yLC0wLjQgLTAuMywtMC42IC0wLjEsLTAuMiAtMC4yLC0wLjQgLTAuMywtMC43IC0wLjEsLTAuMiAtMC4yLC0wLjQgLTAuMywtMC42IC0wLjEsLTAuMiAtMC4yLC0wLjQgLTAuMywtMC42IC0wLC0wLjIgLTAuMiwtMC40IC0wLjIsLTAuNiAtMCwtMC4yIC0wLjIsLTAuNCAtMC4yLC0wLjYgLTAsLTAuMiAtMC4yLC0wLjQgLTAuMiwtMC42IC0wLC0wLjIgLTAuMSwtMC40IC0wLjIsLTAuNiAtMCwtMC4yIC0wLjEsLTAuNCAtMC4yLC0wLjYgLTAsLTAuMiAtMCwtMC4zIC0wLjEsLTAuNSAtMCwtMC4yIC0wLC0wLjMgLTAuMSwtMC41IC0wLC0wLjIgLTAsLTAuMyAtMCwtMC41IDAsMCAzLjYsLTAuMyAzLjYsLTAuMyB6Ii8+CjwvZz4KPC9zdmc+)\n",
        "\n",
        "![matrix3.svg](data:image/svg+xml;base64,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)"
      ]
    },
    {
      "cell_type": "markdown",
      "metadata": {
        "id": "ELk_RKQenT4q"
      },
      "source": [
        "Take note of the resultant shape of the multiplication. When we have a matrix of shape (N, M) multiplied by a matrix of shape (M, V), we end up with a matrix of shape (N, V). If the last dimension of the first matrix and the first dimension of the matrix do not match, the multiplication won't work.\n",
        "\n",
        "Matrix multiplication can also work with a vector and a matrix since a vector is a (length, 1) matrix."
      ]
    },
    {
      "cell_type": "markdown",
      "metadata": {
        "id": "4Po1KjCT7b1a"
      },
      "source": [
        "## NumPy (Numeric Python) ##\n",
        "For much of this course, you will often find yourself in need of creating, modifying, and combining n-dimensional arrays. Numpy is the standard Python library for quickly, cleanly, and efficiently performing all of these functions.\n",
        "\n",
        "Here are just a few examples with basic Numpy arrays.\n",
        "\n",
        "For a more in-depth view of the other useful features of Numpy, visit [this tutorial](http://cs231n.github.io/python-numpy-tutorial/#numpy)."
      ]
    },
    {
      "cell_type": "markdown",
      "metadata": {
        "id": "Yg3eGEQB7b1b"
      },
      "source": [
        "### Basics"
      ]
    },
    {
      "cell_type": "code",
      "execution_count": null,
      "metadata": {
        "colab": {
          "base_uri": "https://localhost:8080/"
        },
        "id": "obhsLnYK7b1c",
        "outputId": "7e4b6ff7-8cf8-425c-a628-2c1dda6354f6"
      },
      "outputs": [
        {
          "name": "stdout",
          "output_type": "stream",
          "text": [
            "(3,)\n",
            "1 2 3\n",
            "[5 2 3]\n",
            "(2, 3)\n",
            "1 2 4\n"
          ]
        }
      ],
      "source": [
        "import numpy as np\n",
        "\n",
        "a = np.array([1, 2, 3])   # Create a rank 1 array\n",
        "print(a.shape)            # Prints shape of the array as a tuple\n",
        "print(a[0], a[1], a[2])\n",
        "a[0] = 5                  # Change an element of the array\n",
        "print(a)\n",
        "\n",
        "b = np.array([[1,2,3],[4,5,6]])    # Create a rank 2 array\n",
        "print(b.shape)\n",
        "print(b[0, 0], b[0, 1], b[1, 0])"
      ]
    },
    {
      "cell_type": "markdown",
      "metadata": {
        "id": "L4HEh_8cMh4I"
      },
      "source": [
        "###Indexing into arrays"
      ]
    },
    {
      "cell_type": "code",
      "execution_count": null,
      "metadata": {
        "colab": {
          "base_uri": "https://localhost:8080/"
        },
        "id": "JT5td4a-MmLF",
        "outputId": "bee46201-d7a1-4a34-c2ca-a267481c1281"
      },
      "outputs": [
        {
          "name": "stdout",
          "output_type": "stream",
          "text": [
            "SLICING: \n",
            "[ 8  9 10]\n",
            "\n",
            "BOOLEAN INDEXING: \n",
            "[[False False False False False]\n",
            " [ True  True  True  True  True]]\n",
            "[ 6  7  8  9 10]\n",
            "\n",
            "REVERSING: \n",
            "[10  2  1]\n",
            "\n"
          ]
        }
      ],
      "source": [
        "# Similar to lists, numpy arrays can be sliced\n",
        "a = np.array([[1,2,3,4,5],[6,7,8,9,10]])\n",
        "print(\"SLICING: \")\n",
        "print(a[1, 2:]) # Prints columns 3 and up in the 2nd row of b\n",
        "print()\n",
        "\n",
        "# Boolean indexing\n",
        "print(\"BOOLEAN INDEXING: \")\n",
        "print(a > 5) # Prints true for each element greater than 5\n",
        "print(a[a > 5]) # Prints all values in the array that satisfy the condition\n",
        "print()\n",
        "\n",
        "# Reversing a numpy array\n",
        "b = np.array([1,2,10])\n",
        "print(\"REVERSING: \")\n",
        "print(b[::-1])\n",
        "print()"
      ]
    },
    {
      "cell_type": "markdown",
      "metadata": {
        "id": "TbOKKI-97b1f"
      },
      "source": [
        "### Some custom functions to create arrays."
      ]
    },
    {
      "cell_type": "code",
      "execution_count": null,
      "metadata": {
        "colab": {
          "base_uri": "https://localhost:8080/"
        },
        "id": "Xb4QgvWK7b1g",
        "outputId": "ce05c3f2-987c-481c-bbf3-c61e2c4a33a3"
      },
      "outputs": [
        {
          "name": "stdout",
          "output_type": "stream",
          "text": [
            "ZEROS: \n",
            "[[0. 0.]\n",
            " [0. 0.]]\n",
            "\n",
            "ONES: \n",
            "[[1. 1.]]\n",
            "\n",
            "FULL: \n",
            "[[7 7]\n",
            " [7 7]]\n",
            "\n",
            "IDENTITY: \n",
            "[[1. 0.]\n",
            " [0. 1.]]\n",
            "\n",
            "RANDOM: \n",
            "[[0.06559125 0.91004083]\n",
            " [0.03570772 0.33233269]]\n",
            "\n"
          ]
        }
      ],
      "source": [
        "import numpy as np\n",
        "\n",
        "a = np.zeros((2,2))             # Create an array of all zeros (input: shape)\n",
        "print(\"ZEROS: \")\n",
        "print(a)                        # Prints \"[[ 0.  0.]\n",
        "print()                         #          [ 0.  0.]]\"\n",
        "\n",
        "b = np.ones((1,2))              # Create an array of all ones (input: shape)\n",
        "print(\"ONES: \")\n",
        "print(b)                        # Prints \"[[ 1.  1.]]\"\n",
        "print()\n",
        "\n",
        "c = np.full((2,2), 7)           # Create a constant array (input: shape, val)\n",
        "print(\"FULL: \")\n",
        "print(c)                        # Prints \"[[ 7.  7.]\n",
        "print()                         #          [ 7.  7.]]\"\n",
        "\n",
        "d = np.eye(2)                   # Create a 2x2 identity matrix\n",
        "print(\"IDENTITY: \")\n",
        "print(d)                        # Prints \"[[ 1.  0.]\n",
        "print()                         #          [ 0.  1.]]\"\n",
        "\n",
        "e = np.random.random((2,2))     # Create an array filled with random values\n",
        "print(\"RANDOM: \")\n",
        "print(e)                        # Might print \"[[ 0.91940167  0.08143941]\n",
        "print()                         #               [ 0.68744134  0.87236687]]\""
      ]
    },
    {
      "cell_type": "markdown",
      "metadata": {
        "id": "hQbpOgu57b1i"
      },
      "source": [
        "### Array operations.\n",
        "Basic mathematical functions operate elementwise on arrays, and are available both as operator overloads and as functions in the numpy module:"
      ]
    },
    {
      "cell_type": "code",
      "execution_count": null,
      "metadata": {
        "colab": {
          "base_uri": "https://localhost:8080/"
        },
        "id": "oVMngTXW7b1j",
        "outputId": "2f05eb34-4814-4b86-f04a-b23237f706e0"
      },
      "outputs": [
        {
          "name": "stdout",
          "output_type": "stream",
          "text": [
            "ADD: \n",
            "[[ 6.  8.]\n",
            " [10. 12.]]\n",
            "[[ 6.  8.]\n",
            " [10. 12.]]\n",
            "\n",
            "SUBTRACT: \n",
            "[[-4. -4.]\n",
            " [-4. -4.]]\n",
            "[[-4. -4.]\n",
            " [-4. -4.]]\n",
            "\n",
            "MULTIPLY: \n",
            "[[ 5. 12.]\n",
            " [21. 32.]]\n",
            "[[ 5. 12.]\n",
            " [21. 32.]]\n",
            "\n",
            "DIVIDE: \n",
            "[[0.2        0.33333333]\n",
            " [0.42857143 0.5       ]]\n",
            "[[0.2        0.33333333]\n",
            " [0.42857143 0.5       ]]\n",
            "\n",
            "SQRT: \n",
            "[[1.         1.41421356]\n",
            " [1.73205081 2.        ]]\n",
            "\n",
            "TYPE CONVERSION: \n",
            "[[1 2]\n",
            " [3 4]] <class 'numpy.uint8'>\n",
            "\n",
            "TRANSPOE: \n",
            "[[0 2]\n",
            " [1 3]]\n",
            "\n",
            "RESHAPE: \n",
            "[[1. 2. 3. 4.]]\n",
            "\n",
            "MAX: \n",
            "4.0\n",
            "\n",
            "ARGMAX: \n",
            "3\n",
            "\n",
            "MEAN: \n",
            "2.5\n",
            "\n",
            "SUM: \n",
            "10.0\n",
            "\n",
            "MAX WITH AXIS: \n",
            "[2 3]\n",
            "\n"
          ]
        }
      ],
      "source": [
        "import numpy as np\n",
        "\n",
        "x = np.array([[1,2],[3,4]], dtype=np.float64)\n",
        "y = np.array([[5,6],[7,8]], dtype=np.float64)\n",
        "\n",
        "# Elementwise sum; both produce an array\n",
        "# [[ 6.0  8.0]\n",
        "#  [10.0 12.0]]\n",
        "print(\"ADD: \")\n",
        "print(x + y)\n",
        "print(np.add(x, y))\n",
        "print()\n",
        "\n",
        "# Elementwise difference; both produce an array\n",
        "# [[-4.0 -4.0]\n",
        "#  [-4.0 -4.0]]\n",
        "print(\"SUBTRACT: \")\n",
        "print(x - y)\n",
        "print(np.subtract(x, y))\n",
        "print()\n",
        "\n",
        "# Elementwise product; both produce an array\n",
        "# [[ 5.0 12.0]\n",
        "#  [21.0 32.0]]\n",
        "print(\"MULTIPLY: \")\n",
        "print(x * y)\n",
        "print(np.multiply(x, y))\n",
        "print()\n",
        "\n",
        "# Elementwise division; both produce an array\n",
        "# [[ 0.2         0.33333333]\n",
        "#  [ 0.42857143  0.5       ]]\n",
        "print(\"DIVIDE: \")\n",
        "print(x / y)\n",
        "print(np.divide(x, y))\n",
        "print()\n",
        "\n",
        "# Elementwise square root; produces an array\n",
        "# [[ 1.          1.41421356]\n",
        "#  [ 1.73205081  2.        ]]\n",
        "print(\"SQRT: \")\n",
        "print(np.sqrt(x))\n",
        "print()\n",
        "\n",
        "# Type conversion; copies the array, casting the types of the elements\n",
        "# [[1,2],[3,4]], np.uint8\n",
        "print(\"TYPE CONVERSION: \")\n",
        "print(x.astype(np.uint8), type(x.astype(np.uint8)[0][0]))\n",
        "print()\n",
        "\n",
        "# Transpose; reverses the order of axes (parallels matrix transpose in 2D)\n",
        "# [[ 0  2]\n",
        "#  [ 1  3]]\n",
        "x1 = np.array([[0, 1], [2, 3]]).T # np.transpose(x1) also works\n",
        "print(\"TRANSPOE: \")\n",
        "print(x1)\n",
        "print()\n",
        "\n",
        "# Reshape; changes the dimensions of a matrix\n",
        "# [[ 1.  2.  3.  4.]]\n",
        "x2 = np.reshape(x, [1, 4])\n",
        "print(\"RESHAPE: \")\n",
        "print(x2)\n",
        "print()\n",
        "\n",
        "# Max; returns the value of the largest element\n",
        "# 4.0\n",
        "print(\"MAX: \")\n",
        "print(np.max(x2))\n",
        "print()\n",
        "\n",
        "# Argmax; returns the index of the largest element\n",
        "# 3\n",
        "print(\"ARGMAX: \")\n",
        "print(np.argmax(x2))\n",
        "print()\n",
        "\n",
        "# Mean; returns mean of all elements in array\n",
        "# 2.5\n",
        "print(\"MEAN: \")\n",
        "print(np.mean(x))\n",
        "print()\n",
        "\n",
        "# Sum; returns sum of all elements in array\n",
        "# 10.0\n",
        "print(\"SUM: \")\n",
        "print(np.sum(x))\n",
        "print()\n",
        "\n",
        "# Note: if you set a value to the argument axis (if the function has that\n",
        "# argument), the operation will be applied along that axis. Ex. if we apply\n",
        "# np.max to a 2D array and specify axis=0, it will get the max of every row\n",
        "# [1, 3]\n",
        "x3 = np.max(np.array([[0, 1], [2, 3]]), axis=0)\n",
        "print(\"MAX WITH AXIS: \")\n",
        "print(x3)\n",
        "print()"
      ]
    },
    {
      "cell_type": "code",
      "execution_count": null,
      "metadata": {
        "colab": {
          "base_uri": "https://localhost:8080/"
        },
        "id": "daeW1JtBHS6o",
        "outputId": "b0f2b4cd-3354-428e-ec18-a60743ea0e6a"
      },
      "outputs": [
        {
          "name": "stdout",
          "output_type": "stream",
          "text": [
            "ARANGE: \n",
            "[2 3 4 5 6 7 8 9]\n",
            "\n",
            "HSTACK: \n",
            "[[1. 0.]\n",
            " [1. 0.]\n",
            " [1. 0.]\n",
            " [1. 0.]\n",
            " [1. 0.]]\n",
            "\n",
            "VSTACK: \n",
            "[[1. 1. 1. 1. 1.]\n",
            " [0. 0. 0. 0. 0.]]\n",
            "\n",
            "EXPAND DIMS: \n",
            "(2,) (2, 1)\n",
            "\n",
            "SPLIT: \n",
            "[array([0, 1]), array([2, 3]), array([4, 5]), array([6, 7]), array([8, 9])]\n",
            "\n"
          ]
        }
      ],
      "source": [
        "import numpy as np\n",
        "# Arange(a,b); creates a 1D array from a to b inclusive\n",
        "print(\"ARANGE: \")\n",
        "print(np.arange(2,10))\n",
        "print()\n",
        "\n",
        "# Concatenate; Join a sequence of arrays along an existing axis\n",
        "# Hstack; Stack arrays in sequence horizontally (column wise)\n",
        "print(\"HSTACK: \")\n",
        "print(np.hstack((np.ones((5,1)), np.zeros((5,1)))))\n",
        "print()\n",
        "\n",
        "# Vstack; Stack arrays in sequence vertically (row wise)\n",
        "print(\"VSTACK: \")\n",
        "print(np.vstack((np.ones((1,5)), np.zeros((1,5)))))\n",
        "print()\n",
        "\n",
        "# Expand_dims; Expand the shape of an array\n",
        "  # Note: Squeeze does the opposite by removing axes of length 1\n",
        "print(\"EXPAND DIMS: \")\n",
        "print(np.array([1, 2]).shape, np.expand_dims(np.array([1, 2]), axis=1).shape)\n",
        "print()\n",
        "\n",
        "# Split; Splits an array (along axis 0) into a specified number of smaller arrays\n",
        "print(\"SPLIT: \")\n",
        "print(np.split(np.arange(10), 5))\n",
        "print()"
      ]
    },
    {
      "cell_type": "markdown",
      "metadata": {
        "id": "4knNHv2I7b1p"
      },
      "source": [
        "### Matrix multiplication"
      ]
    },
    {
      "cell_type": "code",
      "execution_count": null,
      "metadata": {
        "colab": {
          "base_uri": "https://localhost:8080/"
        },
        "id": "qTpkesCM7b1p",
        "outputId": "47aa9362-f5cd-4416-8fab-921837da1d3f"
      },
      "outputs": [
        {
          "name": "stdout",
          "output_type": "stream",
          "text": [
            "DOT PRODUCT: \n",
            "219\n",
            "219\n",
            "\n",
            "DOT PRODUCT 2: \n",
            "[29 67]\n",
            "[29 67]\n",
            "\n",
            "MATRIX MULTIPLICATION: \n",
            "[[19 22]\n",
            " [43 50]]\n",
            "[[19 22]\n",
            " [43 50]]\n",
            "\n"
          ]
        }
      ],
      "source": [
        "import numpy as np\n",
        "\n",
        "x = np.array([[1,2],[3,4]])\n",
        "y = np.array([[5,6],[7,8]])\n",
        "\n",
        "v = np.array([9,10])\n",
        "w = np.array([11, 12])\n",
        "\n",
        "# Inner product of vectors; both produce 219\n",
        "print(\"DOT PRODUCT: \")\n",
        "print(v.dot(w))\n",
        "print(np.dot(v, w))\n",
        "print()\n",
        "\n",
        "# Matrix / vector product; both produce the rank 1 array [29 67]\n",
        "print(\"DOT PRODUCT 2: \")\n",
        "print(x.dot(v))\n",
        "print(np.dot(x, v))\n",
        "print()\n",
        "\n",
        "# Matrix / matrix product; both produce the rank 2 array\n",
        "# Matmul and dot are the same for 2D operations, but differ when we increase dimensionalities.\n",
        "# [[19 22]\n",
        "#  [43 50]]\n",
        "print(\"MATRIX MULTIPLICATION: \")\n",
        "print(x.dot(y))\n",
        "print(np.matmul(x, y))\n",
        "print()"
      ]
    },
    {
      "cell_type": "markdown",
      "metadata": {
        "id": "39QMjZvi7b1r"
      },
      "source": [
        "### Broadcasting\n",
        "Broadcasting is a powerful mechanism that allows numpy to work with arrays of different shapes when performing arithmetic operations. Frequently we have a smaller array and a larger array, and we want to use the smaller array multiple times to perform some operation on the larger array."
      ]
    },
    {
      "cell_type": "code",
      "execution_count": null,
      "metadata": {
        "colab": {
          "base_uri": "https://localhost:8080/"
        },
        "id": "YzQjASMU7b1s",
        "outputId": "88d99a6b-dd95-4dff-d0ef-2d1c6ef7ad87"
      },
      "outputs": [
        {
          "name": "stdout",
          "output_type": "stream",
          "text": [
            "[[ 2  2  4]\n",
            " [ 5  5  7]\n",
            " [ 8  8 10]\n",
            " [11 11 13]]\n"
          ]
        }
      ],
      "source": [
        "import numpy as np\n",
        "\n",
        "# We will add the vector v to each row of the matrix x,\n",
        "# storing the result in the matrix y\n",
        "x = np.array([[1,2,3], [4,5,6], [7,8,9], [10, 11, 12]])\n",
        "v = np.array([1, 0, 1])\n",
        "y = x + v  # Add v to each row of x using broadcasting\n",
        "print(y)  # Prints \"[[ 2  2  4]\n",
        "          #          [ 5  5  7]\n",
        "          #          [ 8  8 10]\n",
        "          #          [11 11 13]]\""
      ]
    },
    {
      "cell_type": "markdown",
      "metadata": {
        "id": "hoyLSlCw7b1u"
      },
      "source": [
        "### Multiple Dimensional Matrix Multiplication"
      ]
    },
    {
      "cell_type": "code",
      "execution_count": null,
      "metadata": {
        "colab": {
          "base_uri": "https://localhost:8080/"
        },
        "id": "3_Rr3-BV7b1v",
        "outputId": "7cfcbe58-79fc-4271-eba8-c173ca7f94af"
      },
      "outputs": [
        {
          "name": "stdout",
          "output_type": "stream",
          "text": [
            "(50, 100, 40)\n"
          ]
        }
      ],
      "source": [
        "import numpy as np\n",
        "\n",
        "# Let's say we have the following matrix A.\n",
        "A = np.random.random((50, 100, 20))\n",
        "# We can imagine A as 50 instances of (100,20) matrices.\n",
        "\n",
        "# We have the following matrix B\n",
        "B = np.random.random((20,40))\n",
        "# We want to multiply each (100,20) instance of A by B,\n",
        "# we can do this because the dimensions match up: 20 = 20\n",
        "\n",
        "print(np.dot(A,B).shape)\n",
        "# output should be of shape (50, 100, 40)\n",
        "# each of the 50 (100,20) is multiplied by the (20,40) matrix to yield (100, 40)"
      ]
    },
    {
      "cell_type": "markdown",
      "metadata": {
        "id": "nJ_kNNDW7b1x"
      },
      "source": [
        "#### P.S. on Numpy\n",
        "Stackoverflow it."
      ]
    },
    {
      "cell_type": "markdown",
      "metadata": {
        "id": "hYTmCUZT7b1x"
      },
      "source": [
        "### Numpy Matrix Operations (Checkoff)\n",
        "Implement some of the numpy matrix operations described earlier."
      ]
    },
    {
      "cell_type": "code",
      "execution_count": 10,
      "metadata": {
        "id": "VjyasiSA7b1y"
      },
      "outputs": [],
      "source": [
        "import numpy as np\n",
        "A = np.array([[0,1,2],[3,4,5]]) # shape (2,3)\n",
        "B = np.array([[1,1,1]]) # shape (1,3)\n",
        "C = np.array([[-1,-1,-1],[1,1,1]]) # shape (2,3)\n",
        "\n",
        "# TODO\n",
        "# Create matrix \"D\" as A - B using broadcasting\n",
        "# Create matrix \"E\" with shape (3,2) by reshaping C\n",
        "# Create matrix \"F\" with shape (2,2) by matrix multiplying \"D\" by \"E\"\n",
        "D = A - B\n",
        "\n",
        "# Create matrix \"E\" with shape (3, 2) by reshaping C\n",
        "E = C.reshape(3, 2)\n",
        "\n",
        "# Create matrix \"F\" with shape (2, 2) by matrix multiplying \"D\" by \"E\"\n",
        "F = D.dot(E)\n",
        "\n",
        "assert(np.all(D == [[-1,0,1],[2,3,4]]))\n",
        "assert(np.all(E == [[-1,-1],[-1,1],[1,1]]))\n",
        "assert(np.all(F == [[2,2],[-1,5]]))"
      ]
    },
    {
      "cell_type": "markdown",
      "metadata": {
        "id": "yOkmB3cN7b11"
      },
      "source": [
        "## Acknowledgements & Sources ##\n",
        "This tutorial was adapted from an analogous tutorial and slides developed by Zhenyu Zhou, Richard Guo, Cam Allen-Lloyd, and Nakul Gopalan, and is based on the\n",
        "Python Numpy Tutorial written by Justin Johnson for Stanford's CS231n: Convolutional Neural Networks for Visual Recognition.\n",
        "\n",
        "Wikibooks: A Guide to Python's Magic Methods by Ha Minh\n",
        "\n",
        "- This lab is written by Bryce Blinn and James Wang, with the original version by Philip Xu.\n",
        "- Logger component/class system added by Vadim Kudlay in Spring 2022.\n",
        "- Updated by Shirley Loayza and Madhav Ramesh for Fall 2022."
      ]
    }
  ],
  "metadata": {
    "colab": {
      "include_colab_link": true,
      "provenance": []
    },
    "kernelspec": {
      "display_name": "Python 3",
      "language": "python",
      "name": "python3"
    },
    "language_info": {
      "codemirror_mode": {
        "name": "ipython",
        "version": 3
      },
      "file_extension": ".py",
      "mimetype": "text/x-python",
      "name": "python",
      "nbconvert_exporter": "python",
      "pygments_lexer": "ipython3",
      "version": "3.10.13"
    }
  },
  "nbformat": 4,
  "nbformat_minor": 0
}
