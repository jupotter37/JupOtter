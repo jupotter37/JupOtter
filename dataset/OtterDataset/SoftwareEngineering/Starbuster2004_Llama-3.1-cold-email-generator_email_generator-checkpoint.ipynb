{
 "cells": [
  {
   "cell_type": "code",
   "execution_count": 3,
   "id": "fbb35b3d-3b96-4bcd-afe6-ea3362a3068c",
   "metadata": {},
   "outputs": [],
   "source": [
    "!pip install -qU langchain_community beautifulsoup4"
   ]
  },
  {
   "cell_type": "code",
   "execution_count": 14,
   "id": "1fa25c39-6fa7-42d1-9635-7299a1c2635c",
   "metadata": {},
   "outputs": [
    {
     "name": "stdout",
     "output_type": "stream",
     "text": [
      "The first person to land on the moon was Neil Armstrong. He stepped onto the lunar surface on July 20, 1969, as part of the Apollo 11 mission.\n"
     ]
    }
   ],
   "source": [
    "from langchain_groq import ChatGroq\n",
    "\n",
    "llm = ChatGroq(\n",
    "    temperature=0, \n",
    "    groq_api_key='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', \n",
    "    model_name=\"llama-3.1-70b-versatile\"\n",
    ")\n",
    "\n",
    "response = llm.invoke(\"The first person to land on moon was ...\")\n",
    "print(response.content)"
   ]
  },
  {
   "cell_type": "code",
   "execution_count": 10,
   "id": "88ad6558-1839-4e8a-a85a-cfe624134af1",
   "metadata": {},
   "outputs": [
    {
     "name": "stdout",
     "output_type": "stream",
     "text": [
      "Apply for Lead Software Engineer\n",
      "\n",
      "Search JobsSkip navigationSearch JobsNIKE, INC. JOBSContract JobsJoin The Talent CommunityLife @ NikeOverviewBenefitsBrandsOverviewJordanConverseTeamsOverviewAdministrative SupportAdvanced InnovationAir Manufacturing InnovationAviationCommunicationsCustomer ServiceDesignDigitalFacilitiesFinance & AccountingGovernment & Public AffairsHuman ResourcesInsights & AnalyticsLegalManufacturing & EngineeringMarketingMerchandisingPlanningPrivacyProcurementProduct Creation, Development & ManagementRetail CorporateRetail StoresSalesSocial & Community ImpactSports MarketingStrategic PlanningSupply Chain, Distribution & LogisticsSustainabilityTechnologyLocationsOverviewNike WHQNike New York HQEHQ: Hilversum, The NetherlandsELC: Laakdal, BelgiumGreater China HQDiversity, Equity & InclusionOverviewMilitary InclusionDisability InclusionIndigenous InclusionInternshipsTechnologyLead Software EngineerHilversum, North HollandBecome a Part of the NIKE, Inc. TeamNIKE, Inc. does more than outfit the world’s best athletes. It is a place to explore potential, obliterate boundaries and push out the edges of what can be. The company looks for people who can grow, think, dream and create. Its culture thrives by embracing diversity and rewarding imagination. The brand seeks achievers, leaders and visionaries. At NIKE, Inc. it’s about each person bringing skills and passion to a challenging and constantly evolving game.NIKE is a technology company. From our flagship website and five-star mobile apps to developing products, managing big data and providing leading edge engineering and systems support, our teams at NIKE Global Technology exist to revolutionize the future at the confluence of tech and sport. We invest and develop advances in technology and employ the most creative people in the world, and then give them the support to constantly innovate, iterate and serve consumers more directly and personally.  Our teams are innovative, diverse, multidisciplinary and collaborative, taking technology into the future and bringing the world with it.WHO WE ARE LOOKING FORA Lead Software Engineer who can drive the technical aspects of a software engineering squad to design, develop and deliver high quality software solutions that solve specific business problems and grow Nike’s digital businesses. Equipped with excellent leadership and communication skills, with a passion for mentoring and developing teams, and ability to manage multiple projects in a fast-paced environment, always striving for technical excellence.In this role, you will gain a deep understanding of Nike’s technology landscape and business perspectives for the geography. You will be responsible for partnering with Global teams to augment existing and implement new products and capabilities through the development cycle into EMEA countries.  In this role, it is critical to partnering with local engineering teams, global engineering teams, technical product managers, business stakeholders and the rest of your immediate development team. At Nike, we believe in owning the lifecycle of the software that you develop within this fast-paced environment.  That means that new features and products are delivered to production with speed, but also reinforced with a mature, agile development methodology and automated testing to ensure deliverables are of the highest quality.WHAT YOU WILL WORK ONTechnical and data foundation are core to the direction of Nike as we strive to grow in our ability to make better and faster decisions that support our efforts to accelerate a positive consumer experience. You will use both business and information tools to objectively measure technology systems and how they are performing for the business and when necessary, advocate for key technology and process improvements and you are closely tied in with operational and support SLA’s, OLA’s and KPI’s that measure those systems.  In this role, you will:Lead the development of a fault-tolerant, scalable supply chain platform, driving digital transformation.Design and implement RESTful APIs using domain-driven design, ensuring high performance and reliability.Collaborate with engineers, architects, and product teams to develop agile, scalable technical solutions.Ensure code quality through automated testing, continuous integration, and code reviews.Maintain the health of the codebase, promoting best practices and mentoring team members.Provide technical leadership, advising on technology strategy and roadmap alignment.Stay current with industry trends, contributing to innovation and supporting production environments as needed.WHAT YOU BRINGExpertise in distributed/cloud environments (AWS, GCE, Azure) and building scalable web applications with microservices architecture.Proficiency in languages like Java, Javascript, Scala, and experience with RESTful services and domain-driven design.Experience with IaC tools (Terraform, CloudFormation), NoSQL databases (Cassandra, DynamoDB), and relational databases (MySQL, Oracle).Strong background with monitoring tools (Splunk, SignalFx, New Relic), and experience in automated testing within CI/CD pipelines.Knowledge of Scrum and agile principles, with excellent communication and collaboration skills across technical and business teams.Excellent leadership and communication skills, with a passion for mentoring and developing teams.Ability to manage multiple projects in a fast-paced environment, always striving for technical excellence.Bonus pointsExperience with supply chain systems (inventory, order, logistics, warehouse) or enterprise packages (SAP S4, IBM Sterling, Manhattan WMS).​NO RELOCATION SUPPORT PROVIDED FOR THIS ROLEThis job post will expire on the 22nd of OctoberNIKE, Inc. is a growth company that looks for team members to grow with it. Nike offers a generous total rewards package, casual work environment, a diverse and inclusive culture, and an electric atmosphere for professional development. No matter the location, or the role, every Nike employee shares one galvanizing mission: To bring inspiration and innovation to every athlete* in the world.NIKE, Inc. is committed to employing a diverse workforce. Qualified applicants will receive consideration without regard to race, color, religion, sex, national origin, age, sexual orientation, gender identity, gender expression, veteran status, or disability.How We HireAt NIKE, Inc. we promise to provide a premium, inclusive, compelling and authentic candidate experience. Delivering on this promise means we allow you to be at your best — and to do that, you need to understand how the hiring process works. Transparency is key.\n",
      "\n",
      "* This overview explains our hiring process for corporate roles. Note there may be different hiring steps involved for non-corporate roles.Start nowBenefitsWhether it’s transportation or financial health, we continually invest in our employees to help them achieve greatness — inside and outside of work. All who work here should be able to realize their full potential.Employee Assistance ProgramEmployee Stock Purchase Plan (ESPP)HolidaysMedical PlanPaid Time Off (PTO)Product DiscountsSabbaticalsLearn moreFIND A STOREBECOME A MEMBERSIGN UP FOR EMAILSEND US FEEDBACKSTUDENT DISCOUNTSGET HELPGET HELPOrder StatusDeliveryReturnsPayment OptionsContact Us On Nike.com InquiriesContact Us On All Other InquiriesABOUT NIKEABOUT NIKENewsCareersInvestorsSustainabilityIndia© 2024 Nike, Inc. All Rights ReservedGuidesNike AdaptNike Air MaxNike FlyleatherNike PegasusNike Zoom FlyNike AirNike FlyEaseNike FreeNike ReactNike ZoomXNike Air Force 1Nike FlyknitNike JoyrideNike VaporflyTerms of SaleTerms of UseNike Privacy Policy\n"
     ]
    }
   ],
   "source": [
    "from langchain_community.document_loaders import WebBaseLoader\n",
    "\n",
    "loader = WebBaseLoader(\"https://jobs.nike.com/job/R-40212?from=job%20search%20funnel\")\n",
    "page_data = loader.load().pop().page_content\n",
    "print(page_data)"
   ]
  },
  {
   "cell_type": "code",
   "execution_count": 17,
   "id": "abef0f45-4d5f-4033-90c0-a6dad307f5a0",
   "metadata": {},
   "outputs": [
    {
     "name": "stdout",
     "output_type": "stream",
     "text": [
      "```json\n",
      "{\n",
      "  \"role\": \"Lead Software Engineer\",\n",
      "  \"experience\": \"Not specified\",\n",
      "  \"skills\": [\n",
      "    \"Distributed/cloud environments (AWS, GCE, Azure)\",\n",
      "    \"Building scalable web applications with microservices architecture\",\n",
      "    \"Languages like Java, Javascript, Scala\",\n",
      "    \"RESTful services and domain-driven design\",\n",
      "    \"IaC tools (Terraform, CloudFormation)\",\n",
      "    \"NoSQL databases (Cassandra, DynamoDB)\",\n",
      "    \"Relational databases (MySQL, Oracle)\",\n",
      "    \"Monitoring tools (Splunk, SignalFx, New Relic)\",\n",
      "    \"Automated testing within CI/CD pipelines\",\n",
      "    \"Scrum and agile principles\"\n",
      "  ],\n",
      "  \"description\": \"Lead the development of a fault-tolerant, scalable supply chain platform, driving digital transformation. Design and implement RESTful APIs using domain-driven design, ensuring high performance and reliability. Collaborate with engineers, architects, and product teams to develop agile, scalable technical solutions. Ensure code quality through automated testing, continuous integration, and code reviews. Maintain the health of the codebase, promoting best practices and mentoring team members. Provide technical leadership, advising on technology strategy and roadmap alignment. Stay current with industry trends, contributing to innovation and supporting production environments as needed.\"\n",
      "}\n",
      "```\n"
     ]
    }
   ],
   "source": [
    "from langchain_core.prompts import PromptTemplate\n",
    "\n",
    "prompt_extract = PromptTemplate.from_template(\n",
    "        \"\"\"\n",
    "        ### SCRAPED TEXT FROM WEBSITE:\n",
    "        {page_data}\n",
    "        ### INSTRUCTION:\n",
    "        The scraped text is from the career's page of a website.\n",
    "        Your job is to extract the job postings and return them in JSON format containing the \n",
    "        following keys: `role`, `experience`, `skills` and `description`.\n",
    "        Only return the valid JSON.\n",
    "        ### VALID JSON (NO PREAMBLE):    \n",
    "        \"\"\"\n",
    ")\n",
    "\n",
    "chain_extract = prompt_extract | llm \n",
    "res = chain_extract.invoke(input={'page_data':page_data})\n",
    "print(res.content)\n",
    "\n"
   ]
  },
  {
   "cell_type": "code",
   "execution_count": 18,
   "id": "f4cd7614-ee5b-45e5-8aa0-6e3efe0b9690",
   "metadata": {},
   "outputs": [
    {
     "data": {
      "text/plain": [
       "{'role': 'Lead Software Engineer',\n",
       " 'experience': 'Not specified',\n",
       " 'skills': ['Distributed/cloud environments (AWS, GCE, Azure)',\n",
       "  'Building scalable web applications with microservices architecture',\n",
       "  'Languages like Java, Javascript, Scala',\n",
       "  'RESTful services and domain-driven design',\n",
       "  'IaC tools (Terraform, CloudFormation)',\n",
       "  'NoSQL databases (Cassandra, DynamoDB)',\n",
       "  'Relational databases (MySQL, Oracle)',\n",
       "  'Monitoring tools (Splunk, SignalFx, New Relic)',\n",
       "  'Automated testing within CI/CD pipelines',\n",
       "  'Scrum and agile principles'],\n",
       " 'description': 'Lead the development of a fault-tolerant, scalable supply chain platform, driving digital transformation. Design and implement RESTful APIs using domain-driven design, ensuring high performance and reliability. Collaborate with engineers, architects, and product teams to develop agile, scalable technical solutions. Ensure code quality through automated testing, continuous integration, and code reviews. Maintain the health of the codebase, promoting best practices and mentoring team members. Provide technical leadership, advising on technology strategy and roadmap alignment. Stay current with industry trends, contributing to innovation and supporting production environments as needed.'}"
      ]
     },
     "execution_count": 18,
     "metadata": {},
     "output_type": "execute_result"
    }
   ],
   "source": [
    "from langchain_core.output_parsers import JsonOutputParser\n",
    "\n",
    "json_parser = JsonOutputParser()\n",
    "json_res = json_parser.parse(res.content)\n",
    "json_res"
   ]
  },
  {
   "cell_type": "code",
   "execution_count": 19,
   "id": "fe46aaae-ef4c-4552-9ce7-7f3936159310",
   "metadata": {},
   "outputs": [
    {
     "data": {
      "text/plain": [
       "dict"
      ]
     },
     "execution_count": 19,
     "metadata": {},
     "output_type": "execute_result"
    }
   ],
   "source": [
    "type(json_res)\n"
   ]
  },
  {
   "cell_type": "code",
   "execution_count": 23,
   "id": "565f063e-6715-45d3-9459-8e8f89104237",
   "metadata": {
    "scrolled": true
   },
   "outputs": [
    {
     "name": "stdout",
     "output_type": "stream",
     "text": [
      "Collecting pandas\n",
      "  Downloading pandas-2.2.3-cp312-cp312-win_amd64.whl.metadata (19 kB)\n",
      "Requirement already satisfied: numpy>=1.26.0 in c:\\users\\govin\\.ai-navigator\\micromamba\\envs\\cpu\\lib\\site-packages (from pandas) (1.26.4)\n",
      "Requirement already satisfied: python-dateutil>=2.8.2 in c:\\users\\govin\\.ai-navigator\\micromamba\\envs\\cpu\\lib\\site-packages (from pandas) (2.9.0.post0)\n",
      "Requirement already satisfied: pytz>=2020.1 in c:\\users\\govin\\.ai-navigator\\micromamba\\envs\\cpu\\lib\\site-packages (from pandas) (2024.1)\n",
      "Collecting tzdata>=2022.7 (from pandas)\n",
      "  Downloading tzdata-2024.2-py2.py3-none-any.whl.metadata (1.4 kB)\n",
      "Requirement already satisfied: six>=1.5 in c:\\users\\govin\\.ai-navigator\\micromamba\\envs\\cpu\\lib\\site-packages (from python-dateutil>=2.8.2->pandas) (1.16.0)\n",
      "Downloading pandas-2.2.3-cp312-cp312-win_amd64.whl (11.5 MB)\n",
      "   ---------------------------------------- 0.0/11.5 MB ? eta -:--:--\n",
      "    --------------------------------------- 0.3/11.5 MB ? eta -:--:--\n",
      "   - -------------------------------------- 0.5/11.5 MB 1.7 MB/s eta 0:00:07\n",
      "   --- ------------------------------------ 1.0/11.5 MB 1.9 MB/s eta 0:00:06\n",
      "   ----- ---------------------------------- 1.6/11.5 MB 2.0 MB/s eta 0:00:05\n",
      "   ------- -------------------------------- 2.1/11.5 MB 2.3 MB/s eta 0:00:05\n",
      "   ---------- ----------------------------- 2.9/11.5 MB 2.6 MB/s eta 0:00:04\n",
      "   ------------- -------------------------- 3.9/11.5 MB 2.9 MB/s eta 0:00:03\n",
      "   ----------------- ---------------------- 5.0/11.5 MB 3.2 MB/s eta 0:00:03\n",
      "   ---------------------- ----------------- 6.6/11.5 MB 3.7 MB/s eta 0:00:02\n",
      "   ---------------------------- ----------- 8.1/11.5 MB 4.2 MB/s eta 0:00:01\n",
      "   ---------------------------------- ----- 10.0/11.5 MB 4.6 MB/s eta 0:00:01\n",
      "   ---------------------------------------- 11.5/11.5 MB 5.0 MB/s eta 0:00:00\n",
      "Downloading tzdata-2024.2-py2.py3-none-any.whl (346 kB)\n",
      "Installing collected packages: tzdata, pandas\n",
      "Successfully installed pandas-2.2.3 tzdata-2024.2\n"
     ]
    },
    {
     "ename": "FileNotFoundError",
     "evalue": "[Errno 2] No such file or directory: 'email generator/my_portfolio.csv'",
     "output_type": "error",
     "traceback": [
      "\u001b[1;31m---------------------------------------------------------------------------\u001b[0m",
      "\u001b[1;31mFileNotFoundError\u001b[0m                         Traceback (most recent call last)",
      "Cell \u001b[1;32mIn[23], line 4\u001b[0m\n\u001b[0;32m      1\u001b[0m get_ipython()\u001b[38;5;241m.\u001b[39msystem(\u001b[38;5;124m'\u001b[39m\u001b[38;5;124mpip install pandas\u001b[39m\u001b[38;5;124m'\u001b[39m)\n\u001b[0;32m      2\u001b[0m \u001b[38;5;28;01mimport\u001b[39;00m \u001b[38;5;21;01mpandas\u001b[39;00m \u001b[38;5;28;01mas\u001b[39;00m \u001b[38;5;21;01mpd\u001b[39;00m\n\u001b[1;32m----> 4\u001b[0m df \u001b[38;5;241m=\u001b[39m pd\u001b[38;5;241m.\u001b[39mread_csv(\u001b[38;5;124m\"\u001b[39m\u001b[38;5;124memail generator/my_portfolio.csv\u001b[39m\u001b[38;5;124m\"\u001b[39m)\n\u001b[0;32m      5\u001b[0m \u001b[38;5;28mprint\u001b[39m(df)\n",
      "File \u001b[1;32m~\\.ai-navigator\\micromamba\\envs\\cpu\\Lib\\site-packages\\pandas\\io\\parsers\\readers.py:1026\u001b[0m, in \u001b[0;36mread_csv\u001b[1;34m(filepath_or_buffer, sep, delimiter, header, names, index_col, usecols, dtype, engine, converters, true_values, false_values, skipinitialspace, skiprows, skipfooter, nrows, na_values, keep_default_na, na_filter, verbose, skip_blank_lines, parse_dates, infer_datetime_format, keep_date_col, date_parser, date_format, dayfirst, cache_dates, iterator, chunksize, compression, thousands, decimal, lineterminator, quotechar, quoting, doublequote, escapechar, comment, encoding, encoding_errors, dialect, on_bad_lines, delim_whitespace, low_memory, memory_map, float_precision, storage_options, dtype_backend)\u001b[0m\n\u001b[0;32m   1013\u001b[0m kwds_defaults \u001b[38;5;241m=\u001b[39m _refine_defaults_read(\n\u001b[0;32m   1014\u001b[0m     dialect,\n\u001b[0;32m   1015\u001b[0m     delimiter,\n\u001b[1;32m   (...)\u001b[0m\n\u001b[0;32m   1022\u001b[0m     dtype_backend\u001b[38;5;241m=\u001b[39mdtype_backend,\n\u001b[0;32m   1023\u001b[0m )\n\u001b[0;32m   1024\u001b[0m kwds\u001b[38;5;241m.\u001b[39mupdate(kwds_defaults)\n\u001b[1;32m-> 1026\u001b[0m \u001b[38;5;28;01mreturn\u001b[39;00m _read(filepath_or_buffer, kwds)\n",
      "File \u001b[1;32m~\\.ai-navigator\\micromamba\\envs\\cpu\\Lib\\site-packages\\pandas\\io\\parsers\\readers.py:620\u001b[0m, in \u001b[0;36m_read\u001b[1;34m(filepath_or_buffer, kwds)\u001b[0m\n\u001b[0;32m    617\u001b[0m _validate_names(kwds\u001b[38;5;241m.\u001b[39mget(\u001b[38;5;124m\"\u001b[39m\u001b[38;5;124mnames\u001b[39m\u001b[38;5;124m\"\u001b[39m, \u001b[38;5;28;01mNone\u001b[39;00m))\n\u001b[0;32m    619\u001b[0m \u001b[38;5;66;03m# Create the parser.\u001b[39;00m\n\u001b[1;32m--> 620\u001b[0m parser \u001b[38;5;241m=\u001b[39m TextFileReader(filepath_or_buffer, \u001b[38;5;241m*\u001b[39m\u001b[38;5;241m*\u001b[39mkwds)\n\u001b[0;32m    622\u001b[0m \u001b[38;5;28;01mif\u001b[39;00m chunksize \u001b[38;5;129;01mor\u001b[39;00m iterator:\n\u001b[0;32m    623\u001b[0m     \u001b[38;5;28;01mreturn\u001b[39;00m parser\n",
      "File \u001b[1;32m~\\.ai-navigator\\micromamba\\envs\\cpu\\Lib\\site-packages\\pandas\\io\\parsers\\readers.py:1620\u001b[0m, in \u001b[0;36mTextFileReader.__init__\u001b[1;34m(self, f, engine, **kwds)\u001b[0m\n\u001b[0;32m   1617\u001b[0m     \u001b[38;5;28mself\u001b[39m\u001b[38;5;241m.\u001b[39moptions[\u001b[38;5;124m\"\u001b[39m\u001b[38;5;124mhas_index_names\u001b[39m\u001b[38;5;124m\"\u001b[39m] \u001b[38;5;241m=\u001b[39m kwds[\u001b[38;5;124m\"\u001b[39m\u001b[38;5;124mhas_index_names\u001b[39m\u001b[38;5;124m\"\u001b[39m]\n\u001b[0;32m   1619\u001b[0m \u001b[38;5;28mself\u001b[39m\u001b[38;5;241m.\u001b[39mhandles: IOHandles \u001b[38;5;241m|\u001b[39m \u001b[38;5;28;01mNone\u001b[39;00m \u001b[38;5;241m=\u001b[39m \u001b[38;5;28;01mNone\u001b[39;00m\n\u001b[1;32m-> 1620\u001b[0m \u001b[38;5;28mself\u001b[39m\u001b[38;5;241m.\u001b[39m_engine \u001b[38;5;241m=\u001b[39m \u001b[38;5;28mself\u001b[39m\u001b[38;5;241m.\u001b[39m_make_engine(f, \u001b[38;5;28mself\u001b[39m\u001b[38;5;241m.\u001b[39mengine)\n",
      "File \u001b[1;32m~\\.ai-navigator\\micromamba\\envs\\cpu\\Lib\\site-packages\\pandas\\io\\parsers\\readers.py:1880\u001b[0m, in \u001b[0;36mTextFileReader._make_engine\u001b[1;34m(self, f, engine)\u001b[0m\n\u001b[0;32m   1878\u001b[0m     \u001b[38;5;28;01mif\u001b[39;00m \u001b[38;5;124m\"\u001b[39m\u001b[38;5;124mb\u001b[39m\u001b[38;5;124m\"\u001b[39m \u001b[38;5;129;01mnot\u001b[39;00m \u001b[38;5;129;01min\u001b[39;00m mode:\n\u001b[0;32m   1879\u001b[0m         mode \u001b[38;5;241m+\u001b[39m\u001b[38;5;241m=\u001b[39m \u001b[38;5;124m\"\u001b[39m\u001b[38;5;124mb\u001b[39m\u001b[38;5;124m\"\u001b[39m\n\u001b[1;32m-> 1880\u001b[0m \u001b[38;5;28mself\u001b[39m\u001b[38;5;241m.\u001b[39mhandles \u001b[38;5;241m=\u001b[39m get_handle(\n\u001b[0;32m   1881\u001b[0m     f,\n\u001b[0;32m   1882\u001b[0m     mode,\n\u001b[0;32m   1883\u001b[0m     encoding\u001b[38;5;241m=\u001b[39m\u001b[38;5;28mself\u001b[39m\u001b[38;5;241m.\u001b[39moptions\u001b[38;5;241m.\u001b[39mget(\u001b[38;5;124m\"\u001b[39m\u001b[38;5;124mencoding\u001b[39m\u001b[38;5;124m\"\u001b[39m, \u001b[38;5;28;01mNone\u001b[39;00m),\n\u001b[0;32m   1884\u001b[0m     compression\u001b[38;5;241m=\u001b[39m\u001b[38;5;28mself\u001b[39m\u001b[38;5;241m.\u001b[39moptions\u001b[38;5;241m.\u001b[39mget(\u001b[38;5;124m\"\u001b[39m\u001b[38;5;124mcompression\u001b[39m\u001b[38;5;124m\"\u001b[39m, \u001b[38;5;28;01mNone\u001b[39;00m),\n\u001b[0;32m   1885\u001b[0m     memory_map\u001b[38;5;241m=\u001b[39m\u001b[38;5;28mself\u001b[39m\u001b[38;5;241m.\u001b[39moptions\u001b[38;5;241m.\u001b[39mget(\u001b[38;5;124m\"\u001b[39m\u001b[38;5;124mmemory_map\u001b[39m\u001b[38;5;124m\"\u001b[39m, \u001b[38;5;28;01mFalse\u001b[39;00m),\n\u001b[0;32m   1886\u001b[0m     is_text\u001b[38;5;241m=\u001b[39mis_text,\n\u001b[0;32m   1887\u001b[0m     errors\u001b[38;5;241m=\u001b[39m\u001b[38;5;28mself\u001b[39m\u001b[38;5;241m.\u001b[39moptions\u001b[38;5;241m.\u001b[39mget(\u001b[38;5;124m\"\u001b[39m\u001b[38;5;124mencoding_errors\u001b[39m\u001b[38;5;124m\"\u001b[39m, \u001b[38;5;124m\"\u001b[39m\u001b[38;5;124mstrict\u001b[39m\u001b[38;5;124m\"\u001b[39m),\n\u001b[0;32m   1888\u001b[0m     storage_options\u001b[38;5;241m=\u001b[39m\u001b[38;5;28mself\u001b[39m\u001b[38;5;241m.\u001b[39moptions\u001b[38;5;241m.\u001b[39mget(\u001b[38;5;124m\"\u001b[39m\u001b[38;5;124mstorage_options\u001b[39m\u001b[38;5;124m\"\u001b[39m, \u001b[38;5;28;01mNone\u001b[39;00m),\n\u001b[0;32m   1889\u001b[0m )\n\u001b[0;32m   1890\u001b[0m \u001b[38;5;28;01massert\u001b[39;00m \u001b[38;5;28mself\u001b[39m\u001b[38;5;241m.\u001b[39mhandles \u001b[38;5;129;01mis\u001b[39;00m \u001b[38;5;129;01mnot\u001b[39;00m \u001b[38;5;28;01mNone\u001b[39;00m\n\u001b[0;32m   1891\u001b[0m f \u001b[38;5;241m=\u001b[39m \u001b[38;5;28mself\u001b[39m\u001b[38;5;241m.\u001b[39mhandles\u001b[38;5;241m.\u001b[39mhandle\n",
      "File \u001b[1;32m~\\.ai-navigator\\micromamba\\envs\\cpu\\Lib\\site-packages\\pandas\\io\\common.py:873\u001b[0m, in \u001b[0;36mget_handle\u001b[1;34m(path_or_buf, mode, encoding, compression, memory_map, is_text, errors, storage_options)\u001b[0m\n\u001b[0;32m    868\u001b[0m \u001b[38;5;28;01melif\u001b[39;00m \u001b[38;5;28misinstance\u001b[39m(handle, \u001b[38;5;28mstr\u001b[39m):\n\u001b[0;32m    869\u001b[0m     \u001b[38;5;66;03m# Check whether the filename is to be opened in binary mode.\u001b[39;00m\n\u001b[0;32m    870\u001b[0m     \u001b[38;5;66;03m# Binary mode does not support 'encoding' and 'newline'.\u001b[39;00m\n\u001b[0;32m    871\u001b[0m     \u001b[38;5;28;01mif\u001b[39;00m ioargs\u001b[38;5;241m.\u001b[39mencoding \u001b[38;5;129;01mand\u001b[39;00m \u001b[38;5;124m\"\u001b[39m\u001b[38;5;124mb\u001b[39m\u001b[38;5;124m\"\u001b[39m \u001b[38;5;129;01mnot\u001b[39;00m \u001b[38;5;129;01min\u001b[39;00m ioargs\u001b[38;5;241m.\u001b[39mmode:\n\u001b[0;32m    872\u001b[0m         \u001b[38;5;66;03m# Encoding\u001b[39;00m\n\u001b[1;32m--> 873\u001b[0m         handle \u001b[38;5;241m=\u001b[39m \u001b[38;5;28mopen\u001b[39m(\n\u001b[0;32m    874\u001b[0m             handle,\n\u001b[0;32m    875\u001b[0m             ioargs\u001b[38;5;241m.\u001b[39mmode,\n\u001b[0;32m    876\u001b[0m             encoding\u001b[38;5;241m=\u001b[39mioargs\u001b[38;5;241m.\u001b[39mencoding,\n\u001b[0;32m    877\u001b[0m             errors\u001b[38;5;241m=\u001b[39merrors,\n\u001b[0;32m    878\u001b[0m             newline\u001b[38;5;241m=\u001b[39m\u001b[38;5;124m\"\u001b[39m\u001b[38;5;124m\"\u001b[39m,\n\u001b[0;32m    879\u001b[0m         )\n\u001b[0;32m    880\u001b[0m     \u001b[38;5;28;01melse\u001b[39;00m:\n\u001b[0;32m    881\u001b[0m         \u001b[38;5;66;03m# Binary mode\u001b[39;00m\n\u001b[0;32m    882\u001b[0m         handle \u001b[38;5;241m=\u001b[39m \u001b[38;5;28mopen\u001b[39m(handle, ioargs\u001b[38;5;241m.\u001b[39mmode)\n",
      "\u001b[1;31mFileNotFoundError\u001b[0m: [Errno 2] No such file or directory: 'email generator/my_portfolio.csv'"
     ]
    }
   ],
   "source": [
    "!pip install pandas\n"
   ]
  },
  {
   "cell_type": "code",
   "execution_count": 25,
   "id": "71fad20e-def9-44d3-b780-a8d0bff0ba38",
   "metadata": {},
   "outputs": [
    {
     "name": "stdout",
     "output_type": "stream",
     "text": [
      "                               Techstack  \\\n",
      "0                React, Node.js, MongoDB   \n",
      "1               Angular,.NET, SQL Server   \n",
      "2      Vue.js, Ruby on Rails, PostgreSQL   \n",
      "3                  Python, Django, MySQL   \n",
      "4              Java, Spring Boot, Oracle   \n",
      "5             Flutter, Firebase, GraphQL   \n",
      "6                  WordPress, PHP, MySQL   \n",
      "7                    Magento, PHP, MySQL   \n",
      "8         React Native, Node.js, MongoDB   \n",
      "9                  iOS, Swift, Core Data   \n",
      "10       Android, Java, Room Persistence   \n",
      "11             Kotlin, Android, Firebase   \n",
      "12       Android TV, Kotlin, Android NDK   \n",
      "13                     iOS, Swift, ARKit   \n",
      "14        Cross-platform, Xamarin, Azure   \n",
      "15          Backend, Kotlin, Spring Boot   \n",
      "16         Frontend, TypeScript, Angular   \n",
      "17    Full-stack, JavaScript, Express.js   \n",
      "18  Machine Learning, Python, TensorFlow   \n",
      "19               DevOps, Jenkins, Docker   \n",
      "\n",
      "                                                Links  \n",
      "0                 https://example.com/react-portfolio  \n",
      "1               https://example.com/angular-portfolio  \n",
      "2                   https://example.com/vue-portfolio  \n",
      "3                https://example.com/python-portfolio  \n",
      "4                  https://example.com/java-portfolio  \n",
      "5               https://example.com/flutter-portfolio  \n",
      "6             https://example.com/wordpress-portfolio  \n",
      "7               https://example.com/magento-portfolio  \n",
      "8          https://example.com/react-native-portfolio  \n",
      "9                   https://example.com/ios-portfolio  \n",
      "10              https://example.com/android-portfolio  \n",
      "11       https://example.com/kotlin-android-portfolio  \n",
      "12           https://example.com/android-tv-portfolio  \n",
      "13               https://example.com/ios-ar-portfolio  \n",
      "14              https://example.com/xamarin-portfolio  \n",
      "15       https://example.com/kotlin-backend-portfolio  \n",
      "16  https://example.com/typescript-frontend-portfolio  \n",
      "17        https://example.com/full-stack-js-portfolio  \n",
      "18            https://example.com/ml-python-portfolio  \n",
      "19               https://example.com/devops-portfolio  \n"
     ]
    }
   ],
   "source": [
    "import pandas as pd\n",
    "import os\n",
    "\n",
    "\n",
    "file_path = os.path.abspath(\"my_portfolio.csv\")\n",
    "df = pd.read_csv(file_path)\n",
    "\n",
    "print(df)"
   ]
  },
  {
   "cell_type": "code",
   "execution_count": null,
   "id": "d9f9601a-9d3c-4ae2-820a-6751651dee31",
   "metadata": {},
   "outputs": [],
   "source": []
  }
 ],
 "metadata": {
  "kernelspec": {
   "display_name": "Python 3 (ipykernel)",
   "language": "python",
   "name": "python3"
  },
  "language_info": {
   "codemirror_mode": {
    "name": "ipython",
    "version": 3
   },
   "file_extension": ".py",
   "mimetype": "text/x-python",
   "name": "python",
   "nbconvert_exporter": "python",
   "pygments_lexer": "ipython3",
   "version": "3.12.5"
  }
 },
 "nbformat": 4,
 "nbformat_minor": 5
}
