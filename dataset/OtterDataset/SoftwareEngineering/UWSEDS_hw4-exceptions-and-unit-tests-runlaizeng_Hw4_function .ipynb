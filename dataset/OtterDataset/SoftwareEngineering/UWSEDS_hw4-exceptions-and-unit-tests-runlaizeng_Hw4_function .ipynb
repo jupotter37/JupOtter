{
 "cells": [
  {
   "cell_type": "markdown",
   "metadata": {
    "deletable": true,
    "editable": true
   },
   "source": [
    "In HW1, you downloaded the data from https://data.seattle.gov/resource/4xy5-26gy.csv and put it in a data directory. In general, we don't keep data in github because of limitations on github storage.\n",
    "\n",
    "In this homework, you will develop a function and related tests to manage downloaded data. You will use a technique that is very common in software engineering called data caching. You will implement two functions. Both have a single argument, a URL of a data you want to access. The first function, get_data, downloads the data if it is not present locally; if the data are already present, then it takes no action. The second function, delete_data, removes the data if it is present locally.\n",
    "\n",
    "The grading rubric is:\n",
    "\n",
    "Correctly implement get_data with an exception if the URL does not exist. (Hint: Try downloading the file using urllib3 instead of wget.) (2 pt)\n",
    "\n",
    "Correctly implement remove_data (1/2 pt)\n",
    "\n",
    "Implement tests for get_data that consider the following cases: (a) file is present locally; (b) file is not present locally, and the URL points to a file that exists; and (c) URL does not point to a file that exists. (2 pt)\n",
    "\n",
    "Correctly implement tests for remove_data (1/2 pt)\n",
    "Tests should be in a separate file from the functions get_data and remove_data."
   ]
  },
  {
   "cell_type": "code",
   "execution_count": 107,
   "metadata": {
    "collapsed": false,
    "deletable": true,
    "editable": true
   },
   "outputs": [],
   "source": [
    "import requests \n",
    "import os \n",
    "import pandas as pd \n",
    "import urllib3\n",
    "import shutil "
   ]
  },
  {
   "cell_type": "code",
   "execution_count": 108,
   "metadata": {
    "collapsed": false,
    "deletable": true,
    "editable": true
   },
   "outputs": [],
   "source": [
    "\n",
    "def get_data(url):\n",
    "    from urllib.parse import urlparse\n",
    "    from urllib.parse import urlsplit\n",
    "    filename=url.split('/')[-1]\n",
    "    if (os.path.exists(filename)):\n",
    "            print('File Already exists')\n",
    "            return True \n",
    "    else: \n",
    "            try:\n",
    "                http = urllib3.PoolManager()\n",
    "                response = http.request('GET', url)\n",
    "                with open(filename, 'wb') as f:\n",
    "                    f.write(response.data)\n",
    "                return response.status\n",
    "            \n",
    "            except :\n",
    "                   print('The URL is not valid')\n",
    "\n"
   ]
  },
  {
   "cell_type": "code",
   "execution_count": 109,
   "metadata": {
    "collapsed": false,
    "deletable": true,
    "editable": true
   },
   "outputs": [
    {
     "name": "stdout",
     "output_type": "stream",
     "text": [
      "File Already exists\n"
     ]
    },
    {
     "data": {
      "text/plain": [
       "True"
      ]
     },
     "execution_count": 109,
     "metadata": {},
     "output_type": "execute_result"
    }
   ],
   "source": [
    "get_data('http://earthquake.usgs.gov/earthquakes/feed/v1.0/summary/all_week.csv')"
   ]
  },
  {
   "cell_type": "code",
   "execution_count": 110,
   "metadata": {
    "collapsed": false,
    "deletable": true,
    "editable": true
   },
   "outputs": [
    {
     "name": "stdout",
     "output_type": "stream",
     "text": [
      "The URL is not valid\n"
     ]
    }
   ],
   "source": [
    "get_data('sshttps://data.dsss')"
   ]
  },
  {
   "cell_type": "code",
   "execution_count": 111,
   "metadata": {
    "collapsed": false,
    "deletable": true,
    "editable": true
   },
   "outputs": [],
   "source": [
    "def remove_data(url):\n",
    "    filename=url.split('/')[-1]\n",
    "    if(os.path.exists(filename)): \n",
    "        os.remove(filename)\n",
    "        print(\"File Removed!\")\n",
    "        return True \n",
    "        \n",
    "    else: \n",
    "        print('No such file')\n",
    "        return False "
   ]
  },
  {
   "cell_type": "code",
   "execution_count": 112,
   "metadata": {
    "collapsed": false,
    "deletable": true,
    "editable": true
   },
   "outputs": [
    {
     "name": "stdout",
     "output_type": "stream",
     "text": [
      "File Removed!\n"
     ]
    },
    {
     "data": {
      "text/plain": [
       "True"
      ]
     },
     "execution_count": 112,
     "metadata": {},
     "output_type": "execute_result"
    }
   ],
   "source": [
    "remove_data('http://earthquake.usgs.gov/earthquakes/feed/v1.0/summary/all_week.csv')"
   ]
  },
  {
   "cell_type": "code",
   "execution_count": 113,
   "metadata": {
    "collapsed": false,
    "deletable": true,
    "editable": true
   },
   "outputs": [
    {
     "name": "stderr",
     "output_type": "stream",
     "text": [
      "/Users/runlaizeng/miniconda3/lib/python3.6/site-packages/urllib3/connectionpool.py:852: InsecureRequestWarning: Unverified HTTPS request is being made. Adding certificate verification is strongly advised. See: https://urllib3.readthedocs.io/en/latest/advanced-usage.html#ssl-warnings\n",
      "  InsecureRequestWarning)\n"
     ]
    },
    {
     "data": {
      "text/plain": [
       "200"
      ]
     },
     "execution_count": 113,
     "metadata": {},
     "output_type": "execute_result"
    }
   ],
   "source": [
    "get_data('http://earthquake.usgs.gov/earthquakes/feed/v1.0/summary/all_week.csv')"
   ]
  },
  {
   "cell_type": "code",
   "execution_count": null,
   "metadata": {
    "collapsed": true,
    "deletable": true,
    "editable": true
   },
   "outputs": [],
   "source": []
  },
  {
   "cell_type": "code",
   "execution_count": null,
   "metadata": {
    "collapsed": true
   },
   "outputs": [],
   "source": []
  }
 ],
 "metadata": {
  "kernelspec": {
   "display_name": "Python 3",
   "language": "python",
   "name": "python3"
  },
  "language_info": {
   "codemirror_mode": {
    "name": "ipython",
    "version": 3
   },
   "file_extension": ".py",
   "mimetype": "text/x-python",
   "name": "python",
   "nbconvert_exporter": "python",
   "pygments_lexer": "ipython3",
   "version": "3.6.0"
  }
 },
 "nbformat": 4,
 "nbformat_minor": 2
}
