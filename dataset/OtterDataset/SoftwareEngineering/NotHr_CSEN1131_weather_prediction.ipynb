{
 "cells": [
  {
   "cell_type": "markdown",
   "id": "080592cd-5b3c-4418-8fac-ed6b77e70811",
   "metadata": {},
   "source": [
    "# Software Engineering - Lab 1 - Weather Prediction\n",
    "---"
   ]
  },
  {
   "cell_type": "code",
   "execution_count": 8,
   "id": "8af0a7cb-e063-4387-b2ba-3ce97de82662",
   "metadata": {},
   "outputs": [
    {
     "name": "stdout",
     "output_type": "stream",
     "text": [
      "Now the weather is Cloudy\n"
     ]
    }
   ],
   "source": [
    "# Satic Input\n",
    "temp, humidity, wind_speed = 23,45,3\n",
    "\n",
    "# Prediction Model\n",
    "prediction = 0.5 * temp**2 - 0.2 * humidity + 0.1 * wind_speed - 15\n",
    "\n",
    "# Determing Category \n",
    "if prediction > 300:\n",
    "    print(f\"Now the weather is Sunny with \\nTemperature: {temp}C\\nHumidity: {humidity}%\\nWindSpeed: {wind_speed}km/h\")\n",
    "elif (prediction > 200) and (prediction <= 300) :\n",
    "    print(f\"Now the weather is Cloudy with \\nTemperature: {temp}C\\nHumidity: {humidity}%\\nWindSpeed: {wind_speed}km/h\")\n",
    "elif (prediction > 100) and (prediction <= 200) :\n",
    "    print(f\"Now the weather is Rainy with \\nTemperature: {temp}C\\nHumidity: {humidity}%\\nWindSpeed: {wind_speed}km/h\")\n",
    "elif prediction < 100 :\n",
    "    print(f\"Now the weather is Stormy\")\n",
    "else:\n",
    "    print(\"Invaild Values\")\n"
   ]
  },
  {
   "cell_type": "code",
   "execution_count": null,
   "id": "27af18bc-f632-490e-8c12-15b95b3bc52b",
   "metadata": {},
   "outputs": [],
   "source": []
  }
 ],
 "metadata": {
  "kernelspec": {
   "display_name": "Python 3 (ipykernel)",
   "language": "python",
   "name": "python3"
  },
  "language_info": {
   "codemirror_mode": {
    "name": "ipython",
    "version": 3
   },
   "file_extension": ".py",
   "mimetype": "text/x-python",
   "name": "python",
   "nbconvert_exporter": "python",
   "pygments_lexer": "ipython3",
   "version": "3.12.7"
  }
 },
 "nbformat": 4,
 "nbformat_minor": 5
}
