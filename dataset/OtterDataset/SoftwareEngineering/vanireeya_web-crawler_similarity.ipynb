{
 "cells": [
  {
   "cell_type": "code",
   "execution_count": 156,
   "metadata": {},
   "outputs": [],
   "source": [
    "import pandas as pd\n",
    "\n",
    "chatbot_data = pd.read_csv(\"chatbot_data.csv\")\n",
    "\n",
    "chatbot_data_100 = chatbot_data.head(50)\n",
    "r, c = chatbot_data_100.shape\n",
    "# print(chatbot_data.loc[2][0])\n",
    "\n",
    "# for i in range(0,r):\n",
    "#     print(chatbot_data_100.loc[i][3])"
   ]
  },
  {
   "cell_type": "code",
   "execution_count": 192,
   "metadata": {},
   "outputs": [],
   "source": [
    "Categories = []\n",
    "for i in range(0,len(chatbot_data)):\n",
    "    if chatbot_data.iloc[i][3] not in Categories and pd.isnull(chatbot_data.iloc[i][3]) is False:\n",
    "        Categories.append(chatbot_data.loc[i][3])\n",
    "    "
   ]
  },
  {
   "cell_type": "code",
   "execution_count": 193,
   "metadata": {},
   "outputs": [
    {
     "data": {
      "text/plain": [
       "['MSISE',\n",
       " 'F1 student',\n",
       " 'Admissions',\n",
       " 'GAPE',\n",
       " 'MISC',\n",
       " 'MSSE',\n",
       " 'CMPE',\n",
       " 'WST',\n",
       " 'Major',\n",
       " 'OU',\n",
       " 'Graduation',\n",
       " 'Financial Aid',\n",
       " 'MSCS',\n",
       " 'admissions',\n",
       " 'ISSS',\n",
       " 'Library',\n",
       " 'financial Aid',\n",
       " 'graduation',\n",
       " 'Health Center',\n",
       " 'Sports',\n",
       " 'Canvas',\n",
       " 'Zoom']"
      ]
     },
     "execution_count": 193,
     "metadata": {},
     "output_type": "execute_result"
    }
   ],
   "source": [
    "Categories"
   ]
  },
  {
   "cell_type": "code",
   "execution_count": 194,
   "metadata": {},
   "outputs": [],
   "source": [
    "ps = PorterStemmer()"
   ]
  },
  {
   "cell_type": "code",
   "execution_count": 195,
   "metadata": {
    "scrolled": false
   },
   "outputs": [],
   "source": [
    "import spacy\n",
    "import nltk\n",
    "from nltk.stem import PorterStemmer\n",
    "import warnings; \n",
    "warnings.simplefilter('ignore')\n",
    "\n",
    "nlp = spacy.load('en')\n",
    "\n",
    "synonym_dict = {}\n",
    "synonym_dict[('United States', 'USA', 'America', 'United States of America',)] = 'US'\n",
    "synonym_dict[('International student', 'international students')] = 'F1 student'\n",
    "synonym_dict[('San Jose State University', 'SJ State University')] = 'SJSU'\n",
    "synonym_dict[('International cell', 'International student and scholar services ')] = 'ISSS'\n",
    "synonym_dict[('Graduate admission and programs evaluation', 'Graduate admissions and program evaluation',)] = 'GAPE'\n",
    "synonym_dict[('Masters of Science in Software Engineering', 'MS in Software Engineering')] = 'MSSE'\n",
    "synonym_dict[('MS-ISE', 'MS ISE', 'Masters in Industrial and Systems Engineering', 'MS in Industrial and Systems Engineering', 'Masters in ISE', 'MS in ISE')] = 'MSISE'\n",
    "synonym_dict[('Computer Engineering', 'Computers Engineering')] = 'CMPE'\n",
    "synonym_dict[('Software Engineering', 'SW Engineering')] = 'SE'\n",
    "synonym_dict[('General Education', 'General Education')] = 'GE'\n",
    "synonym_dict[('Writing skills test', 'Writing skill test')] = 'WST'\n",
    "synonym_dict[('lower division', 'lower-division')] = 'LD'\n",
    "synonym_dict[('California state university', 'California state university')] = 'CSU'\n",
    "synonym_dict[('Former Student Returning', 'Former Student Returning')] = 'FSR'\n",
    "synonym_dict[('Grade point average', 'Grade point average')] = 'GPA'\n",
    "synonym_dict[('Open University', 'Open University')] = 'OU'\n",
    "synonym_dict[('full-time', 'fulltime')] = 'full time'\n",
    "synonym_dict[('Free Application for Federal Student Aid', 'Free Application for Federal Students Aid')] = 'FAFSA'\n",
    "synonym_dict[('MS in Computer Science', 'Masters in CS', 'Masters in Computer Science', 'MS in CS')] = 'MSCS'\n",
    "synonym_dict[('part-time', 'parttime')] = 'part time'\n",
    "synonym_dict[('credit/no-credit', 'credit no-credit')] = 'CR/NCR'\n",
    "\n",
    "stopwords = [\"is\", \"an\", \"the\", \"are\", \"am\", \"was\", \"were\", \"I\", \"we\", \"will\", \"would\", \"a\"]\n",
    "def normalize_string(string):\n",
    "    test_string = \"\"\n",
    "    for word in string:\n",
    "        test_string += word.text.lower()\n",
    "        test_string += \" \"\n",
    "    \n",
    "    \n",
    "    for key in synonym_dict:\n",
    "        for t in key:\n",
    "            strng = t.lower()\n",
    "            if strng in test_string:\n",
    "                test_string = test_string.replace(strng, synonym_dict[key])\n",
    "                \n",
    "    return nlp(test_string)\n",
    "\n",
    "\n",
    "def preprocess(sentence_1):\n",
    "    s1_stem = \"\"\n",
    "    \n",
    "    for word in sentence_1:\n",
    "        if word.text in stopwords:\n",
    "            continue\n",
    "        \n",
    "        rootWord = ps.stem(str(word.text))\n",
    "        s1_stem += rootWord\n",
    "        s1_stem += \" \"\n",
    "    \n",
    "    return s1_stem\n",
    "\n",
    "    \n",
    "def find_similarity(sentence_1, sentence_2):\n",
    "    \n",
    "    similarity_score = nlp(sentence_1).similarity(nlp(sentence_2))\n",
    "    return similarity_score\n",
    "\n",
    "Bot_data = []\n",
    "for i in range(0,len(chatbot_data)):\n",
    "    database_question = chatbot_data.loc[i][0]\n",
    "    database_question = nlp(database_question)\n",
    "    database_question = normalize_string((database_question))\n",
    "    database_question = preprocess((database_question))\n",
    "    Bot_data.append(database_question)\n",
    "    \n",
    "context = \"\"\n",
    "\n"
   ]
  },
  {
   "cell_type": "code",
   "execution_count": 217,
   "metadata": {},
   "outputs": [
    {
     "name": "stdout",
     "output_type": "stream",
     "text": [
      "Incoming question : \n",
      " What is the application deadline\n",
      "\n",
      "Answer : \n",
      " University admission deadlines are listed at\n",
      "  http://www.sjsu.edu/gape/prospective_students/deadlines/\n"
     ]
    }
   ],
   "source": [
    "# incoming_question = \"I am not yet disqualiefied from San Jose State University, do I still need to file for a reinstatement petition\"\n",
    "incoming_question = \"What is the application deadline?\"\n",
    "print(\"Incoming question : \\n\", incoming_question)\n",
    "flag = 0\n",
    "incoming_question = preprocess(normalize_string(nlp(incoming_question)))\n",
    "\n",
    "m = 0.0\n",
    "index = 0\n",
    "for i in range(0,len(Bot_data)):\n",
    "    \n",
    "    sim = find_similarity(incoming_question, Bot_data[i])\n",
    "    if (sim > m):\n",
    "        m = sim\n",
    "        index = i;\n",
    "\n",
    "print(\"\")\n",
    "print(\"Answer : \\n\",chatbot_data.loc[index][1])\n",
    "if pd.isnull(chatbot_data.loc[index][2]) is False:\n",
    "    print(\" \",chatbot_data.loc[index][2])"
   ]
  },
  {
   "cell_type": "code",
   "execution_count": 218,
   "metadata": {},
   "outputs": [
    {
     "name": "stdout",
     "output_type": "stream",
     "text": [
      "Incoming question : \n",
      " What is Open University?\n",
      "\n",
      "Answer : \n",
      "  \"Open University,\" or \"Continuing Education\" at SJSU allows individuals that are not registered in a degree program to take university courses. There are a number of restrictions.\n",
      "                     \n"
     ]
    }
   ],
   "source": [
    "incoming_question = \"What is Open University?\"\n",
    "print(\"Incoming question : \\n\", incoming_question)\n",
    "flag = 0\n",
    "incoming_question = preprocess(normalize_string(nlp(incoming_question)))\n",
    "\n",
    "for word in nlp(incoming_question):\n",
    "    if word.text in Categories:\n",
    "        context = word.text\n",
    "        flag = 1\n",
    "        break\n",
    "    \n",
    "m = 0.0\n",
    "index = 0\n",
    "for i in range(0,len(Bot_data)):\n",
    "    \n",
    "    sim = find_similarity(incoming_question, Bot_data[i])\n",
    "    if (sim > m):\n",
    "        m = sim\n",
    "        index = i;\n",
    "\n",
    "print(\"\")\n",
    "print(\"Answer : \\n\",chatbot_data.loc[index][1])\n",
    "if pd.isnull(chatbot_data.loc[index][2]) is False:\n",
    "    print(\" \",chatbot_data.loc[index][2])"
   ]
  },
  {
   "cell_type": "code",
   "execution_count": 220,
   "metadata": {},
   "outputs": [
    {
     "name": "stdout",
     "output_type": "stream",
     "text": [
      "Incoming question : \n",
      " What is the application deadline?\n",
      "\n",
      "Answer : \n",
      "  Please see registration website for Open University: https://www.sjsu.edu/openuniversity/registration/                     \n"
     ]
    }
   ],
   "source": [
    "incoming_question = \"What is the application deadline?\"\n",
    "print(\"Incoming question : \\n\", incoming_question)\n",
    "flag = 0\n",
    "incoming_question = preprocess(normalize_string(nlp(incoming_question)))\n",
    "\n",
    "for word in nlp(incoming_question):\n",
    "    if word.text in Categories:\n",
    "        context = word.text\n",
    "        flag = 1\n",
    "        break\n",
    "\n",
    "if flag == 0:\n",
    "    incoming_question += context\n",
    "\n",
    "\n",
    "m = 0.0\n",
    "index = 0\n",
    "for i in range(0,len(Bot_data)):\n",
    "    \n",
    "    sim = find_similarity(incoming_question, Bot_data[i] + chatbot_data.loc[i][3])\n",
    "    if (sim > m):\n",
    "        m = sim\n",
    "        index = i;\n",
    "\n",
    "print(\"\")\n",
    "print(\"Answer : \\n\",chatbot_data.loc[index][1])\n",
    "if pd.isnull(chatbot_data.loc[index][2]) is False:\n",
    "    print(\" \",chatbot_data.loc[index][2])"
   ]
  },
  {
   "cell_type": "code",
   "execution_count": null,
   "metadata": {},
   "outputs": [],
   "source": []
  }
 ],
 "metadata": {
  "kernelspec": {
   "display_name": "Python 3",
   "language": "python",
   "name": "python3"
  },
  "language_info": {
   "codemirror_mode": {
    "name": "ipython",
    "version": 3
   },
   "file_extension": ".py",
   "mimetype": "text/x-python",
   "name": "python",
   "nbconvert_exporter": "python",
   "pygments_lexer": "ipython3",
   "version": "3.7.6"
  }
 },
 "nbformat": 4,
 "nbformat_minor": 2
}
