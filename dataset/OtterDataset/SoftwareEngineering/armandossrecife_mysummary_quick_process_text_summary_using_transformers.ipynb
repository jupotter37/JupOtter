{
  "cells": [
    {
      "cell_type": "markdown",
      "metadata": {
        "id": "view-in-github",
        "colab_type": "text"
      },
      "source": [
        "<a href=\"https://colab.research.google.com/github/armandossrecife/mysummary/blob/main/quick_process_text_summary_using_transformers.ipynb\" target=\"_parent\"><img src=\"https://colab.research.google.com/assets/colab-badge.svg\" alt=\"Open In Colab\"/></a>"
      ]
    },
    {
      "cell_type": "markdown",
      "metadata": {
        "id": "-QhPWE1lwZHH"
      },
      "source": [
        "# Abordagem Hibrida para resumo de textos\n",
        "\n",
        "Usando a API do Google Gemini e Transformers do Hugging Face\n",
        "\n",
        "Como ler o conteúdo de um arquivo pdf e fazer o resumo desse conteudo em Português.\n",
        "\n",
        "1. Ler o conteúdo em português\n",
        "2. Traduz o conteúdo de português para inglês (o Transformers só reconhece texto em inglês)\n",
        "3. Faz o resumo do texto em inglês\n",
        "4. Traduz o resumo de inglês para português\n",
        "5. Exibe o resultado do resumo em português"
      ]
    },
    {
      "cell_type": "markdown",
      "metadata": {
        "id": "kHkHARdb1ZID"
      },
      "source": [
        "## Instale o SDK da API do Gemini e o Transformers do Hugging Face\n",
        "\n",
        "The Python SDK for the Gemini API is contained in the [`google-generativeai`](https://pypi.org/project/google-generativeai/) package.\n",
        "\n",
        "Also, install [PyPDF2](https://pypdf2.readthedocs.io/en/3.x/)\n",
        "\n",
        "Install the dependency using pip:"
      ]
    },
    {
      "cell_type": "code",
      "execution_count": 1,
      "metadata": {
        "id": "J6Pd9SFJ1yVi"
      },
      "outputs": [],
      "source": [
        "!pip install -q -U google-generativeai"
      ]
    },
    {
      "cell_type": "code",
      "source": [
        "!pip install transformers"
      ],
      "metadata": {
        "id": "sE0bsjxGPblJ",
        "outputId": "86773507-2a92-45be-e5a1-08be6704adc0",
        "colab": {
          "base_uri": "https://localhost:8080/"
        }
      },
      "execution_count": 2,
      "outputs": [
        {
          "output_type": "stream",
          "name": "stdout",
          "text": [
            "Requirement already satisfied: transformers in /usr/local/lib/python3.10/dist-packages (4.44.2)\n",
            "Requirement already satisfied: filelock in /usr/local/lib/python3.10/dist-packages (from transformers) (3.16.1)\n",
            "Requirement already satisfied: huggingface-hub<1.0,>=0.23.2 in /usr/local/lib/python3.10/dist-packages (from transformers) (0.24.7)\n",
            "Requirement already satisfied: numpy>=1.17 in /usr/local/lib/python3.10/dist-packages (from transformers) (1.26.4)\n",
            "Requirement already satisfied: packaging>=20.0 in /usr/local/lib/python3.10/dist-packages (from transformers) (24.1)\n",
            "Requirement already satisfied: pyyaml>=5.1 in /usr/local/lib/python3.10/dist-packages (from transformers) (6.0.2)\n",
            "Requirement already satisfied: regex!=2019.12.17 in /usr/local/lib/python3.10/dist-packages (from transformers) (2024.9.11)\n",
            "Requirement already satisfied: requests in /usr/local/lib/python3.10/dist-packages (from transformers) (2.32.3)\n",
            "Requirement already satisfied: safetensors>=0.4.1 in /usr/local/lib/python3.10/dist-packages (from transformers) (0.4.5)\n",
            "Requirement already satisfied: tokenizers<0.20,>=0.19 in /usr/local/lib/python3.10/dist-packages (from transformers) (0.19.1)\n",
            "Requirement already satisfied: tqdm>=4.27 in /usr/local/lib/python3.10/dist-packages (from transformers) (4.66.5)\n",
            "Requirement already satisfied: fsspec>=2023.5.0 in /usr/local/lib/python3.10/dist-packages (from huggingface-hub<1.0,>=0.23.2->transformers) (2024.6.1)\n",
            "Requirement already satisfied: typing-extensions>=3.7.4.3 in /usr/local/lib/python3.10/dist-packages (from huggingface-hub<1.0,>=0.23.2->transformers) (4.12.2)\n",
            "Requirement already satisfied: charset-normalizer<4,>=2 in /usr/local/lib/python3.10/dist-packages (from requests->transformers) (3.4.0)\n",
            "Requirement already satisfied: idna<4,>=2.5 in /usr/local/lib/python3.10/dist-packages (from requests->transformers) (3.10)\n",
            "Requirement already satisfied: urllib3<3,>=1.21.1 in /usr/local/lib/python3.10/dist-packages (from requests->transformers) (2.2.3)\n",
            "Requirement already satisfied: certifi>=2017.4.17 in /usr/local/lib/python3.10/dist-packages (from requests->transformers) (2024.8.30)\n"
          ]
        }
      ]
    },
    {
      "cell_type": "code",
      "source": [
        "!pip install PyPDF2"
      ],
      "metadata": {
        "colab": {
          "base_uri": "https://localhost:8080/"
        },
        "id": "jVlELpoaA-zC",
        "outputId": "e3fade50-4121-453b-9ced-d634654ae927"
      },
      "execution_count": 3,
      "outputs": [
        {
          "output_type": "stream",
          "name": "stdout",
          "text": [
            "Collecting PyPDF2\n",
            "  Downloading pypdf2-3.0.1-py3-none-any.whl.metadata (6.8 kB)\n",
            "Downloading pypdf2-3.0.1-py3-none-any.whl (232 kB)\n",
            "\u001b[?25l   \u001b[90m━━━━━━━━━━━━━━━━━━━━━━━━━━━━━━━━━━━━━━━━\u001b[0m \u001b[32m0.0/232.6 kB\u001b[0m \u001b[31m?\u001b[0m eta \u001b[36m-:--:--\u001b[0m\r\u001b[2K   \u001b[91m━━━━━━━━━━━━━━━━━━━━━\u001b[0m\u001b[90m╺\u001b[0m\u001b[90m━━━━━━━━━━━━━━━━━━\u001b[0m \u001b[32m122.9/232.6 kB\u001b[0m \u001b[31m3.9 MB/s\u001b[0m eta \u001b[36m0:00:01\u001b[0m\r\u001b[2K   \u001b[90m━━━━━━━━━━━━━━━━━━━━━━━━━━━━━━━━━━━━━━━━\u001b[0m \u001b[32m232.6/232.6 kB\u001b[0m \u001b[31m3.4 MB/s\u001b[0m eta \u001b[36m0:00:00\u001b[0m\n",
            "\u001b[?25hInstalling collected packages: PyPDF2\n",
            "Successfully installed PyPDF2-3.0.1\n"
          ]
        }
      ]
    },
    {
      "cell_type": "markdown",
      "metadata": {
        "id": "EeMCtmx9ykyx"
      },
      "source": [
        "## Configure a sua chave da API do Gemini\n",
        "\n",
        "To use the Gemini API, you'll need an API key. If you don't already have one, create a key in Google AI Studio.\n",
        "\n",
        "<a class=\"button\" href=\"https://aistudio.google.com/app/apikey\" target=\"_blank\" rel=\"noopener noreferrer\">Get an API key</a>\n",
        "\n",
        "In Colab, add the key to the secrets manager under the \"🔑\" in the left panel. Give it the name `GOOGLE_API_KEY`. Then pass the key to the SDK:\n",
        "\n",
        "Obs: nunca publique sua chave no repositório"
      ]
    },
    {
      "cell_type": "code",
      "execution_count": 4,
      "metadata": {
        "id": "HTiaTu6O1LRC"
      },
      "outputs": [],
      "source": [
        "# Import the Python SDK\n",
        "import google.generativeai as genai\n",
        "# Used to securely store your API key\n",
        "from google.colab import userdata\n",
        "\n",
        "GOOGLE_API_KEY=userdata.get('GOOGLE_API_KEY')\n",
        "genai.configure(api_key=GOOGLE_API_KEY)"
      ]
    },
    {
      "cell_type": "markdown",
      "metadata": {
        "id": "CZPYk29o2No0"
      },
      "source": [
        "## Inicialize o Modelo Generativo\n",
        "\n",
        "Before you can make any API calls, you need to initialize the Generative Model."
      ]
    },
    {
      "cell_type": "code",
      "execution_count": 5,
      "metadata": {
        "id": "s-JqXcDe2hZ_"
      },
      "outputs": [],
      "source": [
        "model = genai.GenerativeModel('gemini-pro')"
      ]
    },
    {
      "cell_type": "markdown",
      "metadata": {
        "id": "nXxypzJH4MUl"
      },
      "source": [
        "## Dado um documento, faz a tradução de português para inglês\n",
        "\n",
        "O texto pode ser extraído de um arquivo .pdf"
      ]
    },
    {
      "cell_type": "code",
      "source": [
        "!wget https://raw.githubusercontent.com/armandossrecife/mysummary/refs/heads/main/pdfs/d1.pdf"
      ],
      "metadata": {
        "colab": {
          "base_uri": "https://localhost:8080/"
        },
        "id": "Y_u-ET60AaeM",
        "outputId": "5a354b49-0b26-42b6-beee-42b07bdab250"
      },
      "execution_count": 6,
      "outputs": [
        {
          "output_type": "stream",
          "name": "stdout",
          "text": [
            "--2024-10-19 15:27:47--  https://raw.githubusercontent.com/armandossrecife/mysummary/refs/heads/main/pdfs/d1.pdf\n",
            "Resolving raw.githubusercontent.com (raw.githubusercontent.com)... 185.199.108.133, 185.199.109.133, 185.199.110.133, ...\n",
            "Connecting to raw.githubusercontent.com (raw.githubusercontent.com)|185.199.108.133|:443... connected.\n",
            "HTTP request sent, awaiting response... 200 OK\n",
            "Length: 1850029 (1.8M) [application/octet-stream]\n",
            "Saving to: ‘d1.pdf’\n",
            "\n",
            "d1.pdf              100%[===================>]   1.76M  --.-KB/s    in 0.07s   \n",
            "\n",
            "2024-10-19 15:27:47 (25.5 MB/s) - ‘d1.pdf’ saved [1850029/1850029]\n",
            "\n"
          ]
        }
      ]
    },
    {
      "cell_type": "code",
      "source": [
        "import PyPDF2\n",
        "import os\n",
        "from datetime import datetime\n",
        "# Load pipeline from transformers\n",
        "from transformers import pipeline\n",
        "\n",
        "def extract_pdf_text(pdf_path):\n",
        "    try:\n",
        "        with open(pdf_path, 'rb') as pdf_file:\n",
        "            pdf_reader = PyPDF2.PdfReader(pdf_file)\n",
        "\n",
        "            pdf_text = {}\n",
        "            for page_num in range(len(pdf_reader.pages)):\n",
        "                page = pdf_reader.pages[page_num]\n",
        "                text = page.extract_text()\n",
        "                pdf_text[page_num + 1] = text\n",
        "            return pdf_text\n",
        "    except FileNotFoundError:\n",
        "        print(f\"Error: PDF file not found at {pdf_path}\")\n",
        "    except PermissionError:\n",
        "        print(f\"Error: Permission denied to access PDF file at {pdf_path}\")\n",
        "    except Exception as e:\n",
        "        print(f\"Error: An unexpected error occurred: {e}\")\n",
        "\n",
        "def request_to_gemini(prompt_text):\n",
        "  print(\"Aguarde...\")\n",
        "  t1 = datetime.now()\n",
        "  response_texto = model.generate_content(prompt_text)\n",
        "  t2 = datetime.now()\n",
        "  print(response_texto)\n",
        "  tempo_resposta = t2 - t1\n",
        "  print(f\"Tempo de resposta: {tempo_resposta}\")\n",
        "  return response_texto\n",
        "\n",
        "def get_text_from_response(response_texto):\n",
        "  try:\n",
        "    if len(response_texto.candidates) > 0:\n",
        "      summary_content = response_texto.candidates[0].content\n",
        "      if len(summary_content.parts) > 0:\n",
        "        summary_text = summary_content.parts[0].text\n",
        "        return summary_text  # Return the extracted text\n",
        "      else:\n",
        "        print(\"No content parts found in the first candidate.\")\n",
        "    else:\n",
        "      print(\"Nenhuma resposta disponível\")\n",
        "  except (AttributeError, IndexError):\n",
        "    print(\"Error accessing response data. Please check the response structure.\")"
      ],
      "metadata": {
        "id": "yqB42_A6BEWR"
      },
      "execution_count": 7,
      "outputs": []
    },
    {
      "cell_type": "code",
      "source": [
        "texto_documento = \"\"\n",
        "\n",
        "meu_conteudo =  extract_pdf_text(pdf_path=\"d1.pdf\")"
      ],
      "metadata": {
        "id": "rLnlNFJ4BJft"
      },
      "execution_count": 8,
      "outputs": []
    },
    {
      "cell_type": "code",
      "source": [
        "print(f\"Quantidade de páginas: {len(meu_conteudo.keys())}\")"
      ],
      "metadata": {
        "colab": {
          "base_uri": "https://localhost:8080/"
        },
        "id": "O7RqeuWzB8IO",
        "outputId": "b3ee5b81-1c75-4ee8-a3fd-dca5afdf6bc5"
      },
      "execution_count": 9,
      "outputs": [
        {
          "output_type": "stream",
          "name": "stdout",
          "text": [
            "Quantidade de páginas: 25\n"
          ]
        }
      ]
    },
    {
      "cell_type": "code",
      "source": [
        "for k,v in meu_conteudo.items():\n",
        "  print(f\"Página: {k}\")\n",
        "  print(f\"Texto: {v}\")\n",
        "  texto_documento = texto_documento + v"
      ],
      "metadata": {
        "colab": {
          "base_uri": "https://localhost:8080/"
        },
        "id": "xnsyGhjvBhT3",
        "outputId": "f7cfe99c-1953-4445-abb0-73d979b24b68"
      },
      "execution_count": 10,
      "outputs": [
        {
          "output_type": "stream",
          "name": "stdout",
          "text": [
            "Página: 1\n",
            "Texto: AO CHEFE DO DEPARTAMENTO DE COMPUTAÇÃO  DA UNIVERSIDADE FEDERAL DO PIAUÍ  Caro Chefe de Departamento, Eu Armando Soares Sousa, Matrícula UFPI 1886865 lotado no Departamento de Computação do Centro de Ciência da Natureza da Universidade Federal do Piauí solicita sua concordância quanto minha PRORROGAÇÃO DE AFASTAMENTO a fim de dar continuidade ao curso de Pós-Graduação em Ciência da Computação em nível de Doutorado na (Área de Concentração: Ciência da Computação) na Universidade Federal do Ceará, por mais 6 (seis) meses, a partir de 23/02/2022, em conformidade com a Resolução No. 186/06-CEPEX. Além disso, gostaria que o senhor anexasse a meu pedido o documento referente ao plano de qualificação 2022 aprovado na Assembleia Departamental informando a deliberação favorável a meu pedido de afastamento em 2022 para poder concluir minhas atividades do doutorado. Fortaleza, 21, de Dezembro de 2021  __________________________________  (Assinatura) \n",
            "Solicitação ao Chefe para Prorrogac ̧ão de Afastamento 1\n",
            "Página: 2\n",
            "Texto: Documentos que constam no presente arquivo.  Gostaria de informar que além do \"Pedido de Concordância do Chefe de Departamento de Computação\", seguem em os seguintes documentos:  1. Solicitação de renovação de afastamento para o Reitor 2. Declaração de Requisitos e carga horária do Doutorado MDCC/UFC 3. Concordância do pedido de renovação do Coordenador do MDCC/UFC 4. Concordância do pedido de renovação do Orientador 5. Atestado semestral de frequência 2021.1 6. Atestado semestral de frequência 2021.2 7. Avaliação semestral de desempenho 2021.1 8. Avaliação semestral de desempenho 2021.2 9. Termo de compromisso 10. Relatório semestral de atividade 2021.1 11. Relatório semestral de atividade 2021.2 12. Atestado de matrícula 2021.2 13. Declaração de matrícula 2021.2 14. Histórico atualizado 15. Declaração de bolsa da FUNCAP (Fundação Cearense de Apoio ao Desenvolvimento Científico)  Fortaleza, 21, de Dezembro de 2021  __________________________________  (Assinatura)  \n",
            "Documentos Anexados 2\n",
            "Página: 3\n",
            "Texto: AO MAGNÍFICO REITOR DA UNIVERSIDADE FEDERAL DO PIAUÍ  Magnífico Reitor,       Eu Armando Soares Sousa, Matrícula UFPI 1886865 lotado no Departamento de Computação do Centro de Ciência da Natureza da Universidade Federal do Piauí solicita a Vossa Magnificência, autorizar a PRORROGAÇÃO DE AFASTAMENTO a fim de dar continuidade ao curso de Pós-Graduação em Ciência da Computação em nível de Doutorado na (Área de Concentração: Ciência da Computação) na Universidade Federal do Ceará, por mais 6 (seis) meses, a partir de 23/02/2022, em conformidade com a Resolução No. 186/06-CEPEX.  Fortaleza, 22, de Dezembro de 2021 __________________________________  (Assinatura)  Contato: (86) 994693558 / armando@ufpi.edu.br  \n",
            "Solicitação de Prorrogac ̧ão de Afastamento 3\n",
            "Página: 4\n",
            "Texto:  \n",
            "MINISTÉRIO DA EDUCAÇÃO \n",
            "UNIVERSIDADE FEDERAL DO CEARÁ  \n",
            "CENTRO DE CIÊNCIAS  \n",
            "DEPARTAMENTO DE COMPUTAÇÃO  \n",
            "MESTRADO E DOUTORADO EM CIÊNCIA DA COMPUTAÇÃO  \n",
            " \n",
            "DECLARAÇÃO \n",
            " \n",
            " \n",
            "Declaramos, para os devidos fins, que o Programa de Pós-Graduação em Ciência da              \n",
            "Computação da Universidade Federal do Ceará (MDCC/UFC) tem como exigência para a conclusão              \n",
            "do Curso de Doutorado o cumprimento/aprovação dos seguintes requisitos:  \n",
            "* Cursar, no mínimo, 12 disciplinas (48 créditos) - 768h \n",
            "* 02 Estágios de Docência (08 créditos) - 128h \n",
            "* 01 Proficiência em Inglês (01 crédito) - 16h \n",
            "* Defesa de Qualificação de Doutorado (01 crédito) - 16h \n",
            "* Defesa de Proposta de Doutorado (02 créditos) - 32h \n",
            "* Defesa da Tese (12 créditos) - 192h \n",
            " \n",
            "Total de créditos exigidos: 72 \n",
            "Carga horária total exigida: 1.152h \n",
            " \n",
            " \n",
            "Fortaleza, 25 de janeiro de 2021. \n",
            " \n",
            " \n",
            "_____________________________________ \n",
            "Prof. João Paulo Pordeus Gomes \n",
            "Coordenador do Programa de Pós-graduação \n",
            "em Ciência da Computação/UFC \n",
            " \n",
            " \n",
            "  \n",
            "Campus do Pici - Bloco 910 - CEP: 60440-900 - Fortaleza/Ceará  \n",
            "Fone: (85) 3366-9847 - E-mail: ​secretaria@mdcc.ufc.br   \n",
            " \n",
            " Declarac ̧ão_Requisitos_e_carga_horaria_Doutorado 4\n",
            "Página: 5\n",
            "Texto: CONCORDÂNCIA DE PEDIDO DE RENOVAÇÃO DE AFASTAMENTO Eu Prof. Dr. João Paulo Pordeus Gomes, Coordenador do Programa de Pós-graduação em Ciência da Computação da Universidade Federal do Ceará (UFC), venho por meio deste manifestar minha concordância na prorrogação de afastamento por mais 6 (seis) meses, a partir de 23/02/2022, do aluno Armando Soares Sousa, devidamente matriculado, no semestre corrente (2021.2) no curso de doutorado em Ciência da Computação na Universidade Federal do Ceará (UFC) e orientado pelo Prof. Dr. Lincoln Souza Rocha. Para com isso, o referido aluno possa concluir com qualidade os componentes curriculares \"Proposta de Tese de Doutorado\" e “Tese\". A justificativa é que devido às adversidades provocadas pela pandemia do Corona Vírus, nos anos de 2020 e 2021, as atividades presenciais, desta universidade, foram suspensas e os laboratórios de pesquisa foram fechados, impactando diretamente nas atividades de pesquisas dos cursos de pós-graduação desta universidade. Com isso, houve extensão nos prazos dos cursos de pós-graduação stricto sensu da UFC conforme Ofício Circular 1/2020/PRPPG/UFC de 30/04/2020, Ofício Circular 10/2020-CGSI/DPB/CAPES/UFC de 30/04/2020 e prorrogação de prazo conforme Ofício 14/2021/PRPPG/DIV_ENSINO/PRPPG/CENS/PRPPG/REITORIA, de 14 de julho de 2021 da Universidade Federal do Ceará. Adicionalmente, gostaria de informar que o referido aluno, dentro deste período de 4 anos (2018, 2019, 2020, 2021), concluiu e foi aprovado nas disciplinas obrigatórias, na proficiência em língua estrangeira, nas atividades de estágio de docência e no exame de Qualificação. Local e data: ________________, ___/___/_____ _____________________________________ Prof. Dr. João Paulo Pordeus Gomes Coordenador do Programa de Pós-graduação em Ciência da Computação - UFC\n",
            "Coordenador - Concorda ̂ncia Pedido Renovac ̧ão Afastamento 5\n",
            "Página: 6\n",
            "Texto: CONCORDÂNCIA DE PEDIDO DE RENOVAÇÃO DE AFASTAMENTO Eu prof. Dr. Lincoln Souza Rocha, orientador do aluno Armando Soares Sousa, devidamente matriculado, no semestre corrente (2021.2) no curso de doutorado em Ciência da Computação na Universidade Federal do Ceará (UFC), venho por meio deste manifestar minha concordância na prorrogação de afastamento por mais 6 (seis) meses a partir de 23/02/2022, para com isso o referido aluno possa concluir com qualidade os componentes curriculares \"Proposta de Tese de Doutorado\" e \"Tese\". Adicionalmente, gostaria de informar que o referido aluno, dentro deste período de 4 anos (2018, 2019, 2020, 2021), concluiu e foi aprovado nas disciplinas obrigatórias, na proficiência em língua estrangeira, nas atividades de estágio de docência e no exame de Qualificação. Local e data: ________________, ___/___/_____ _____________________________________ Lincoln Souza Rocha Assinatura do Orientador(a) \n",
            "Orientador - Concorda ̂ncia Pedido Renovac ̧ão Afastamento-Ass 6\n",
            "Página: 7\n",
            "Texto: ATESTADO SEMESTRAL DE FREQUÊNCIA DO(A) PÓS-GRADUANDO(A) Atestamos, para fins de comprovação junto à CPSS/PRPG/UFPI, que o (a) Sr(a) Armando Soares Sousa aluno(a) matriculado(a) no curso de Pós-Graduação em Ciência da Computação área de concentração em Ciência da Computação em nível de Doutorado participou regularmente das suas atividades do Curso, no 1º [x] ou 2º [ ] semestre de: 2021.  O presente atestado visa cumprir o que estabelece as normas da UFPI de afastamento para Pós-Graduação.   Devido às adversidades provocadas pela pandemia do Corona Vírus, nos anos de 2020 e 2021, as atividades presenciais, da Universidade Federal do Ceará, foram suspensas e os laboratórios de pesquisa foram fechados. Com isso, as atividades tem sido realizadas remotamente sendo amparadas pelos seguintes documentos: Ofício Circular 1/2020/ PRPPG/UFC de 30/04/2020, Ofício Circular 10/2020-CGSI/DPB/CAPES/UFC de 30/04/2020, e prorrogação de prazo conforme Ofício 14/2021/PRPPG/DIV_ENSINO/PRPPG/CENS/ PRPPG/REITORIA, de 14 de julho de 2021.  O período 2021.1 foi encerrado em 02/09/2021.    \n",
            "ENDEREÇO PARA REMESSA: Universidade Federal do Piauí – Pró-Reitoria de Ensino de Pós-Graduação-PRPG/CPSS Campus Universitário da Ininga – CEP: 64049-550 – Teresina/Piauí Fone: (86) 3215-7405 E-mail: cpss.capacitacao@ufpi.edu.br DEVOLUÇÃO:  Primeiro semestre até 15.08  Segundo semestre até 15.01\n",
            "Atestado_Semestral_de_Frequencia_2021-1 7\n",
            "Página: 8\n",
            "Texto: ATESTADO SEMESTRAL DE FREQUÊNCIA DO(A) PÓS-GRADUANDO(A) Atestamos, para fins de comprovação junto à CPSS/PRPG/UFPI, que o (a) Sr(a) Armando Soares Sousa aluno(a) matriculado(a) no curso de Pós-Graduação em Ciência da Computação área de concentração em Ciência da Computação em nível de Doutorado participa regularmente das suas atividades do Curso, no 1º [ ] ou 2º [x] semestre de: 2021.  O presente atestado visa cumprir o que estabelece as normas da UFPI de afastamento para Pós-Graduação.   Devido às adversidades provocadas pela pandemia do Corona Vírus, nos anos de 2020 e 2021, as atividades presenciais, da Universidade Federal do Ceará, foram suspensas e os laboratórios de pesquisa foram fechados. Com isso, as atividades tem sido realizadas remotamente sendo amparadas pelos seguintes documentos: Ofício Circular 1/2020/ PRPPG/UFC de 30/04/2020, Ofício Circular 10/2020-CGSI/DPB/CAPES/UFC de 30/04/2020, e prorrogação de prazo conforme Ofício 14/2021/PRPPG/DIV_ENSINO/PRPPG/CENS/ PRPPG/REITORIA, de 14 de julho de 2021. O período de 2021.2 se encerra no próximo dia 10/02/2022   \n",
            "ENDEREÇO PARA REMESSA: Universidade Federal do Piauí – Pró-Reitoria de Ensino de Pós-Graduação-PRPG/CPSS Campus Universitário da Ininga – CEP: 64049-550 – Teresina/Piauí Fone: (86) 3215-7405 E-mail: cpss.capacitacao@ufpi.edu.br DEVOLUÇÃO:  Primeiro semestre até 15.08  Segundo semestre até 15.01\n",
            "Atestado_Semestral_de_Frequencia_2021-2 8\n",
            "Página: 9\n",
            "Texto: AVALIAÇÃO SEMESTRAL DO DESEMPENHO DO(A) PÓS-GRADUANDO(A) PELO(A) ORIENTADOR(A)  1 – Nome: ARMANDO SOARES SOUSA  2 – IES do curso: UNIVERSIDADE FEDERAL DO CEARÁ 3 – Nome do Curso: PÓS-GRADUAÇÃO EM CIÊNCIA DA COMPUTAÇÃO 5 – Área de Concentração: Ciência da Computação \n",
            "Observação: em decorrência das adversidades provocadas pela pandemia do Corona Vírus, em 2020 e 2021, houve alteração nos prazos dos semestres 2021.1. e 2021.2 conforme Ofício Circular 1/2020/PRPPG/UFC de 30/04/2020, Ofício Circular 10/2020-CGSI/DPB/CAPES/UFC de 30/04/2020  e prorrogação de prazo conforme Ofício 14/2021/PRPPG/DIV_ENSINO/PRPPG/CENS/ PRPPG/REITORIA, de 14 de julho de 2021 da Universidade Federal do Ceará. O período de 2021.1 foi encerrado em 02/09/2021. Local e data: ________________, ___/___/_____ _____________________________________ Lincoln Souza Rocha Assinatura do Orientador(a) ENDEREÇO PARA REMESSA: Universidade Federal do Piauí - PRPPG/Coordenadoria Geral de Pós-Graduação Campus Universitário da Ininga -   64049-550 – Teresina – Piauí Fone: (0**86) 3215-5561 E-mail: cgpg.capacitacao@ufpi.edu.br4 – Nível do Curso: MestradoDoutoradoXPós-Doutorado6 – Avaliando cuidadosamente as atividades do(a) Pós-Graduando(a) acima, sob minha orientaçãono 1º  x OU  2º  semestre de 2021, classifico seu desempenho como:AnoMuito Bom BomRegularInsuficientePROGRAMAS: \n",
            "Avaliacao Semestral de Desempenho 2021-1-Ass 9\n",
            "Página: 10\n",
            "Texto: AVALIAÇÃO SEMESTRAL DO DESEMPENHO DO(A) PÓS-GRADUANDO(A) PELO(A) ORIENTADOR(A)  1 – Nome: ARMANDO SOARES SOUSA  2 – IES do curso: UNIVERSIDADE FEDERAL DO CEARÁ 3 – Nome do Curso: PÓS-GRADUAÇÃO EM CIÊNCIA DA COMPUTAÇÃO 5 – Área de Concentração: Ciência da Computação \n",
            "Observação: em decorrência das adversidades provocadas pela pandemia do Corona Vírus, em 2020 e 2021, houve alteração nos prazos dos semestres 2021.1. e 2021.2 conforme Ofício Circular 1/2020/PRPPG/UFC de 30/04/2020, Ofício Circular 10/2020-CGSI/DPB/CAPES/UFC de 30/04/2020  e prorrogação de prazo conforme Ofício 14/2021/PRPPG/DIV_ENSINO/PRPPG/CENS/ PRPPG/REITORIA, de 14 de julho de 2021 da Universidade Federal do Ceará. O período de 2021.2 deverá ser encerrado em 10/02/2022. Com isso, o referido aluno continua exercendo suas atividades até o presente momento. Local e data: __________________, ___/___/_____ _____________________________________ Lincoln Souza Rocha Assinatura do Orientador(a) ENDEREÇO PARA REMESSA: Universidade Federal do Piauí - PRPPG/Coordenadoria Geral de Pós-Graduação Campus Universitário da Ininga -   64049-550 – Teresina – Piauí Fone: (0**86) 3215-5561 E-mail: cgpg.capacitacao@ufpi.edu.br 4 – Nível do Curso: MestradoDoutoradoXPós-Doutorado6 – Avaliando cuidadosamente as atividades do(a) Pós-Graduando(a) acima, sob minha orientaçãono 1º  OU  2º X  semestre de      2021, classifico seu desempenho como:AnoMuito Bom BomRegularInsuficientePROGRAMAS: \n",
            "Avaliacao Semestral de Desempenho 2021-2-Ass 10\n",
            "Página: 11\n",
            "Texto: TERMO DE COMPROMISSO E RESPONSABILIDADE    Declaro e assumo o compromisso e a responsabilidade legal de prestar serviço à Universidade Federal do Piauí, após conclusão do curso de Pós-Graduação em Ciência da Computação em nível de Doutorado na Universidade Federal do Ceará, na cidade de Fortaleza pelo prazo equivalente ao tempo usufruído no afastamento das atividades funcionais para a realização do citado curso.  Teresina, ______/_____/_____   _____________________________________________ (assinatura) \n",
            "TERMO_DE_COMPROMISSO_RESPONSABILIDADE 11\n",
            "Página: 12\n",
            "Texto: RELATÓRIO SEMESTRAL DO(A) PÓS-GRADUANDO(A) PROGRAMA:  Pós-Graduação em Ciência da Computação_ 1 - IDENTIFICAÇÃO:     \n",
            "2 - ATIVIDADES ACADÊMICAS DA PÓS-GRADUAÇÃO: (realizadas no semestre) 2.1. DISCIPLINA(S) CURSADA(S)Nº HORAS SEMANAISNº CRÉDITOSCONCEITO(S)CKP6666 - Qualificação -    1 Aprovado NOME: Armando Soares Sousa CATEGORIA FUNCIONAL:          Docente  ( X )             Técnico ( )     LOTAÇÃO: Departamento de Computação / Centro de Ciências da Natureza / UFPI NOME DO CURSO: Doutorado em Ciência da Computação ÁREA DE CONCENTRAÇÃO: Ciência da Computação NÍVEL:     Mestrado ( )      Doutorado ( X )  Pós-Doutorado (  )   IES DO CURSO: Mestrado e Doutorado em Ciência  Ciência da Computação / Universidade Federal do Ceará PERÍODO DO RELATÓRIO:     1º  ( X )  OU 2° (  )     SEMESTRE DE   2021   \n",
            "Relatorio Semestral de Atividades 2021-1-Ass 12\n",
            "Página: 13\n",
            "Texto: 3. PLANO DE ESTUDO: 2.2. ESTÁGIO(S) REALIZADO(S)Nº HORAS SEMANAISNº CRÉDITOSCONCEITO(S)----2.3. CURSOS EXTRAORDINÁRIOS, P A R T I C I P A Ç Ã O E M SEMINÁRIOS,  C O N G R E S S O S , ENCONTROS E OUTRAS ATIVIDADESLOCALTOTAL DE HORASCONCEITO(S)    Publicação e apresentação do paper \"Technical Debt in Large-Scale  Distributed  Projects: An Industrial Case Study\" no SANER 2021. IEEE International Conference on Software Analysis, Evolution and Reengineering. Participação do EASE 2021 - International Conference on Evaluation and Assessment in Software Engineering Honolulu, Hawaii, USA \n",
            "     Trondheim, Norway NA \n",
            "        NA- \n",
            "-3.1. Descrever, de forma clara e sucinta, o plano de estudo a ser desenvolvido no próximo semestre, incluindo a(s) disciplina(s) que pretende cursar, sua carga horária e número de crédito(s). -Fazer a revisão do mapeamento sistemático sobre Dívida Técnica Arquitetural  -Realizar um experimento que avalie as versões de um repositório de código de um sistema para avaliar o comportamento de indicadores de dívida técnica arquitetural -Fazer a matrícula no componente curricular CKP8588 - PROPOSTA DE TESE DE DOUTORADO (32 horas - 2 créditos) -Preparar a proposta da tese\n",
            "Relatorio Semestral de Atividades 2021-1-Ass 13\n",
            "Página: 14\n",
            "Texto: 3.2. Sumário do Projeto (Dissertação ou Tese): incluindo o título e o desenvolvimento do projeto propriamente dito. Título: Uma Abordagem para Estimativa de Dívida Técnica Arquitetural por meio de Indicadores de Degradação extraídos a partir de Repositórios de Software - Atividades realizadas relacionadas ao Projeto de Doutorado: •Cursei e concluí a atividade de qualificação; •Participei de todas reuniões relacionadas ao projeto de doutorado e reuniões de orientação; •Fiz a leitura dos principais artigos e trabalhos relacionados a Dívida Técnica, Dívida Técnica Arquitetural e Mineração de Software relacionados ao projeto de doutorado; •Realizei estudos em ferramentas de mineração de repositório de software e data science; •Publiquei o paper \"Technical Debt in Large-Scale Distributed Projects: An Industrial Case Study\" no evento SANER 2021 - International Conference on Software Analysis, Evolution and Reengineering - DOI: 10.1109/SANER50967.2021.00071. Conferência classificada como Qualis A2; •Fiz a apresentação de um mapeamento sistemático sobre Dívida Técnica Arquitetural no Exame de Qualificação como trabalho principal; •Produzi uma monografia sobre um Relatório Técnico sobre Computação em Nuvem como trabalho secundário do Exame de Qualificação.\n",
            "Relatorio Semestral de Atividades 2021-1-Ass 14\n",
            "Página: 15\n",
            "Texto: 4.   DESENVOLVIMENTO DA TESE OU DISSERTAÇÃO: Assinalar ou especificar sua atual situação: a. ( X ) Não ingressou ainda nessa atividade b. (     ) Realiza estudos preliminares para elaboração do Projeto da Tese ou Dissertação c. (     ) Está desenvolvendo o Projeto Tese ou Dissertação d. (     ) Está redigindo o Relatório Final da Tese ou Dissertação  e. (     ) Não se enquadra nos itens acima citados Caso assinale a letra \"c\" ou \"d\", informe o seguinte: -Tema da Tese ou Dissertação:   -Sumário do Projeto de Tese / Dissertação 5. DESENVOLVIMENTO ACADÊMICO: TOTAL DE CRÉDITOS PREVISTOS NO CURSO: ________76________ Nº DE CRÉDITOS CURSADOS NO SEMESTRE:   _______1________ Nº DE CRÉDITOS ACUMULADOS:                         _______61________ Nº DE CRÉDITOS QUE FALTAM:                           ________14________ Nº DE CRÉDITOS CORRESPONDENTES À TESE OU DISSERTAÇÃO:  _____12______ OBS: No total de créditos previsto no plano do curso deverá ser colocado o número de créditos   correspondentes às disciplinas mais o número correspondente à Tese ou Dissertação.   6. PROCESSO DE QUALIFICAÇÃO: \n",
            "7. PROBLEMAS E DIFICULDADES ENCONTRADAS: Não se aplica _________Fortaleza__________, ____/____/______                                                       (Local) _________________________________________________ Coordenador(a) do Curso de Pós-Graduação _________________________________________________ Assinatura do(a) Pós-Graduando(a) __________________________________________ Assinatura do(a) Orientador(a)O curso exige exame de qualificação antes da defesa de Tese ou Dissertação: (  X  ) SIM                 (      ) NÃO Caso haja a exigência, informar a provável data do citado exame de V.Sa.:   __08__/_07_/_2021_\n",
            "Relatorio Semestral de Atividades 2021-1-Ass 15\n",
            "Página: 16\n",
            "Texto: RELATÓRIO SEMESTRAL DO(A) PÓS-GRADUANDO(A) PROGRAMA:  Pós-Graduação em Ciência da Computação_ 1 - IDENTIFICAÇÃO:     \n",
            "2 - ATIVIDADES ACADÊMICAS DA PÓS-GRADUAÇÃO: (realizadas no semestre) 2.1. DISCIPLINA(S) CURSADA(S)Nº HORAS SEMANAISNº CRÉDITOSCONCEITO(S)CKP8588 - Proposta de Tese de Doutorado - 2 Em andamento NOME: Armando Soares Sousa CATEGORIA FUNCIONAL:     Docente (X)             Técnico ( )      LOTAÇÃO: Departamento de Computação / Centro de Ciências da Natureza / UFPI NOME DO CURSO: Doutorado em Ciência da Computação ÁREA DE CONCENTRAÇÃO: Ciência da Computação NÍVEL:   Mestrado ( )    Doutorado (X)  Pós-Doutorado ( )   IES DO CURSO: Mestrado e Doutorado em Ciência  Ciência da Computação / Universidade Federal do Ceará PERÍODO DO RELATÓRIO:        1º  ( )   OU 2° (X)    SEMESTRE DE         2021      \n",
            "Relatorio Semestral de Atividades 2021-2-Ass 16\n",
            "Página: 17\n",
            "Texto: 2.2. ESTÁGIO(S) REALIZADO(S)Nº HORAS SEMANAISNº CRÉDITOSCONCEITO(S)-- --2.3. CURSOS EXTRAORDINÁRIOS, P A R T I C I P A Ç Ã O E M SEMINÁRIOS,  CONGRESSOS,  ENCONTROS E OUTRAS ATIVIDADES E C S A 2 0 2 1 - 1 5 t h E u r o p e a n Conference on Software Architecture. 13-17 September. Vaxjo, Sweden. MSR4SA 2021 -  International Workshop on Mining Software Repositories for Software Architecture.  16  ,17  September. Vaxjo, Sweden. CBSoft 2021 - Congresso Brasileiro de Software. 27 de Setembro a 1o. de Outubro 2021. Joinville, Santa Catarina, Brasil. SBES 2021 - Simpósio Brasileiro de Engenharia de Software. 27, 28 e 29 de Setembro. Joinville, Santa Catarina, Brasil. International Latin American School in Software Engineering. 27 e 28 de Setembro - Joinville, Santa Catarina, Brasil.Local Vaxjo, Sweden Vaxjo, Sweden Joinville, Santa Catarina, Brasil Joinville, Santa Catarina, Brasil Joinville, Santa Catarina, Brasil TOTAL DE HORAS - - - - - CONCEITO(S) - - - - - \n",
            "Relatorio Semestral de Atividades 2021-2-Ass 17\n",
            "Página: 18\n",
            "Texto: 3. PLANO DE ESTUDO: 3.1. Descrever, de forma clara e sucinta, o plano de estudo a ser desenvolvido no próximo semestre, incluindo a(s) disciplina(s) que pretende cursar, sua carga horária e número de crédito(s). •Publicar os resultados dos experimentos referentes a validação de um protótipo desenvolvido, índice e indicadores sugeridos na pesquisa em um sistema alvo para extrair informações de seus repositórios de código referente a dívida técnica arquitetural.   •Publicar os estudos em evento internacional na área de dívida técnica. •Publicar o mapeamento sistemático revisado, apresentar a proposta de tese e escrever a tese de doutorado 3.2. Sumário do Projeto (Dissertação ou Tese): incluindo o título e o desenvolvimento do projeto propriamente dito.\n",
            "Relatorio Semestral de Atividades 2021-2-Ass 18\n",
            "Página: 19\n",
            "Texto: 4.   DESENVOLVIMENTO DA TESE OU DISSERTAÇÃO: Assinalar ou especificar sua atual situação: a. ( X ) Não ingressou ainda nessa atividade b. (     ) Realiza estudos preliminares para elaboração do Projeto da Tese ou Dissertação c. (     ) Está desenvolvendo o Projeto Tese ou Dissertação d. (     ) Está redigindo o Relatório Final da Tese ou Dissertação  e. (     ) Não se enquadra nos itens acima citados Caso assinale a letra \"c\" ou \"d\", informe o seguinte: -Tema da Tese ou Dissertação:   -Sumário do Projeto de Tese / Dissertação Título: Uma Abordagem para Estimativa de Dívida Técnica Arquitetural por meio de Indicadores de Degradação Extraídos a partir de Repositórios de Software - Atividades realizadas relacionadas ao Projeto de Doutorado: •Cursando o componente curricular \"Proposta de Tese de Doutorado\"; •Até o presente momento, participei de todas reuniões relacionadas ao projeto de doutorado e reuniões de orientação; •Leitura dos principais artigos e trabalhos relacionados a Dívida Técnica, Dívida Técnica Arquitetural e Mineração de Software relacionados ao projeto de doutorado; •Aprofundamento e consolidação de estudos em ferramentas de mineração de repositório de software, data mining e data science; •Dando continuidade nos estudos, melhorias e atualizações sobre o mapeamento sistemático sobre Dívida Técnica Arquitetural; •Definição do primeiro esboço de proposta de experimento para análise de repositório de software de um sistema de médio porte para extrair indicadores de dívida técnica arquitetural; •Estou fazendo testes usando técnicas de MSR (Mining software repositories) em repositórios de software da Apache Software Foundation para detectar comportamentos ou padrões que possam indicar Dívida Técnica Arquitetural, para com isso possamos elaborar um experimento que ajude na validação de uma definição de Dívida Técnica Arquitetural mais precisa, bem como fazer a proposição de um método que detecte artefatos que possam indicar Dívida Técnica Arquitetural em um repositório de software. \n",
            "Relatorio Semestral de Atividades 2021-2-Ass 19\n",
            "Página: 20\n",
            "Texto: 5. DESENVOLVIMENTO ACADÊMICO: TOTAL DE CRÉDITOS PREVISTOS NO CURSO: ________76________ Nº DE CRÉDITOS CURSADOS NO SEMESTRE:   _______2________ Nº DE CRÉDITOS ACUMULADOS:                         _______62______ Nº DE CRÉDITOS QUE FALTAM:                           ________12_______ Nº DE CRÉDITOS CORRESPONDENTES À TESE OU DISSERTAÇÃO:  ____12_______ OBS: No total de créditos previsto no plano do curso deverá ser colocado o número de créditos   correspondentes às disciplinas mais o número correspondente à Tese ou Dissertação.   6. PROCESSO DE QUALIFICAÇÃO: \n",
            "7. PROBLEMAS E DIFICULDADES ENCONTRADAS: _________Fortaleza__________, ____/____/______                                                       (Local) _________________________________________________ Coordenador(a) do Curso de Pós-Graduação _________________________________________________ Assinatura do(a) Pós-Graduando(a) __________________________________________ Assinatura do(a) Orientador(a) O curso exige exame de qualificação antes da defesa de Tese ou Dissertação: (  X  ) SIM                 (      ) NÃO Caso haja a exigência, informar a provável data do citado exame de V.Sa.:   08 / 07 / 2021Não se aplica \n",
            "Relatorio Semestral de Atividades 2021-2-Ass 20\n",
            "Página: 21\n",
            "Texto: Portal doDiscenteUNIVERSIDADE FEDERAL DO CEARÁSISTEMA INTEGRADODE GESTÃODE ATIVIDADES ACADÊMICASEMITIDOEM 17/12/2021 10:36ATESTADO DE MATRÍCULAPeríodo Letivo:2021.2Nível:DOUTORADOMatrícula:409428Vínculo:REGULARNome:ARMANDO SOARES SOUSAPrograma:PROGRAMA DE PÓS-GRADUAÇÃO EM CIÊNCIAS DA COMPUTAÇÃONível:DOUTORADOStatus:ATIVOÁrea deConcentração:CIÊNCIA DA COMPUTAÇÃOLinha de Pesquisa:SISTEMAS DE INFORMAÇÃOOrientador:LINCOLN SOUZA ROCHATURMAS MATRICULADAS: 0ATIVIDADES MATRICULADAS: 1Componentes Curriculares/DocentesStatusHorárioCKP8588 - PROPOSTA DE TESE DE DOUTORADOTipo: ATIVIDADE Ano/Periodo: 2021.2MATRICULADO--ATENÇÃOPara verificar a autenticidade deste documento acesse http://www.si3.ufc.br/sigaa/documentos/informando a matrícula, a data de emissão e o código de verificação b7b04434d4SIGAA | Copyright © 2006-2021 - Superintendência de Tecnologia da Informação - UFC - (85) 3366-9999 -si3asprd04.ufc.brSIGAA - Sistema Integrado de Gestão de Atividades Acadêmicashttps://si3.ufc.br/sigaa/portais/discente/discente.jsf\n",
            "1 of 112/17/21, 10:36 AMAtestado de Matri ́cula 2021-2 21\n",
            "Página: 22\n",
            "Texto: Universidade Federal do Ceará\n",
            "PRÓ-REITORIA DE PÓS-GRADUAÇÃO\n",
            "D E C L A R A Ç Ã O\n",
            "             Declaramos, para os fins a que se fizerem necessários, que ARMANDO\n",
            "SOARES SOUSA é aluno(a) REGULAR vinculado(a) a esta universidade, sob o\n",
            "número 409428, no programa de DOUTORADO EM CIÊNCIA DA COMPUTAÇÃO -\n",
            "DOUTORADO - FORTALEZA.\n",
            "             Pró-Reitoria de Pós-Graduação da Universidade Federal do Ceará,  em\n",
            "Fortaleza, 17 de Dezembro de 2021.07.272.636/0001-31\n",
            "Campus Universitário - Reitoria, PICI\n",
            "Fortaleza/CE - CEP: 60020-181\n",
            "(85) 3366-9999 - Fax: (85) 3366-9999  -  e-mail: dsi@sti.ufc.br\n",
            "Código de verificação:\n",
            " c0f80c6e3f\n",
            "Para verificar a autenticidade deste documento acesse http://si3.ufc.br/sigaa/documentos,\n",
            "informando a matrícula, data de emissão do documento e o código de verificação.\n",
            "ATENÇÃO\n",
            "ESTE DOCUMENTO NÃO É VÁLIDO PARA FINS DE SOLICITAÇÃO DE VAGA EM OUTRA INSTITUIÇÃO DE\n",
            "ENSINO SUPERIOR. CASO SEJA NECESSÁRIO TAL DOCUMENTO, É NECESSÁRIO COMPARECER AO DAE.\n",
            "declaracao_409428 22\n",
            "Página: 23\n",
            "Texto: Histórico Escolar - Emitido em: 16/12/2021 às 15:38hPRPPG - Pró-Reitoria de Pesquisa e Pós-Graduação\n",
            "409428 ARMANDO SOARES SOUSA Nome: Matrícula:\n",
            "BENINU DO CARMO SOUSADados Pessoais\n",
            "Nome do Pai:\n",
            "Nome da Mãe: MARIA DOS SANTOS SOARES SOUSA\n",
            "TRAVESSA JÚLIO CÉSAR, 110 - APTO 805 DAMAS\n",
            "FORTALEZA CEEndereço:\n",
            "Município:Bairro:\n",
            "UF:Data de Nascimento: 19/02/1979 Local de Nascimento: TERESINA/PI\n",
            "Dados do Curso\n",
            "PROGRAMA DE PÓS-GRADUAÇÃO EM CIÊNCIAS DA COMPUTAÇÃO\n",
            "MAR/2018\n",
            "FEV/2024Programa:\n",
            "Mês/Ano Inicial: Status:ATIVO\n",
            "Mês Atual: 46ºÁrea de Concentração: CIÊNCIA DA COMPUTAÇÃOCurso:DOUTORADO EM CIÊNCIA DA COMPUTAÇÃO\n",
            "Linha de Pesquisa: SISTEMAS DE INFORMAÇÃOCurrículo: 2015.1\n",
            "Orientador: 1669759 - LINCOLN SOUZA ROCHA\n",
            "8.68Forma Ingresso:\n",
            "Média Final:Autorização do Curso:\n",
            "Data da Publição:\n",
            "SELEÇÃO\n",
            "Motivo Saída: ---Prazo para Conclusão:\n",
            " \n",
            " SIGAA - Sistema Integrado de Gestão de Atividades Acadêmicas\n",
            "UFC - Universidade Federal do Ceará\n",
            "Av. da Universidade, 2853 - Benfica - Fortaleza - CE- CEP 60020-181\n",
            "Identidade: 1599355 Órgão Emissor: SSP Nacionalidade: BRASILEIRA\n",
            "Observações:\n",
            " - Prorrogação de prazo conforme Ofício 14/2021/PRPPG/DIV_ENSINO/PRPPG/CENS/PRPPG/REITORIA, de 14 de julho de 2021\n",
            " - prazo prorrogado conforme Ofício Circular 1/2020/PRPPG de 30/04/2020 e Ofício Circular 10/2020-CGSI/DPB/CAPES de 30/04/2020.Disciplinas/Atividades Cursadas/Cursando\n",
            "Início Componente Curricular Situação CRFreq % Nota Fim CH\n",
            "3/2018 SISTEMAS DISTRIBUÍDOS E REDES DE COMUNICAÇÃO APROVT CKP7500 4100.00 8.0 5/2018 64\n",
            "3/2018 ENGENHARIA DE SOFTWARE APROVT CKP7788 4100.00 8.0 5/2018 64\n",
            "3/2018 BANCO DE DADOS APROVT CKP7944 4100.00 10.0 5/2018 64\n",
            "3/2018 AVALIAÇÃO DE DESEMPENHO DE SISTEMAS COMPUTACIONAIS APROVT CKP8555 4100.00 8.0 5/2018 64\n",
            "2/2018TÓPICOS ESPECIAIS EM SISTEMAS DE INFORMAÇÃO I - Tema:\n",
            "Qualidade de SoftwareAPROVADO CKP8433 484.37 9.1 7/2018 64\n",
            "2/2018 LÓGICA DA PESQUISA CIENTÍFICA APROVADO CKP8466 496.87 9.5 7/2018 64\n",
            "2/2018 ESTRUTURAS DE DADOS APROVADO CKP8077 4100.00 9.5 9/2018 64\n",
            "7/2018 PROFICIÊNCIA EM LÍNGUA ESTRANGEIRA APROVADO CKP5555 1100.00 -- 10/2018 16\n",
            "7/2018 REDES MÓVEIS E SEM FIO APROVADO CKP8222 481.25 8.6 12/2018 64\n",
            "7/2018 APRENDIZAGEM AUTOMATICA APROVADO CKP8277 495.31 7.8 12/2018 64\n",
            "7/2018 COMPUTAÇÃO MÓVEL E UBÍQUA APROVADO CKP8622 4100.00 9.9 12/2018 64\n",
            "2/2019 ESTÁGIO DE DOCÊNCIA II APROVADO CKP0183 4100.00 -- 7/2019 64\n",
            "2/2019 TÓPICOS ESPECIAIS EM REDES E SIST. DISTRIBUÍDOS II APROVADO CKP8422 4100.00 10.0 7/2019 64\n",
            "2/2019 PROGRAMAÇÃO CONCORRENTE APROVADO CKP8477 493.75 7.0 7/2019 64\n",
            "7/2019 ESTÁGIO DE DOCÊNCIA III APROVADO CKP0200 4100.00 -- 12/2019 64\n",
            "7/2019 VISUALIZAÇÃO CIENTÍFICA APROVADO CKP8533 475.00 7.4 12/2019 64\n",
            "2/2020 QUALIFICAÇÃO APROVADO CKP6666 1100.00 -- 7/2021 16\n",
            "9/2021 PROPOSTA DE TESE DE DOUTORADO MATRICULADO CKP8588 2-- -- -- 32\n",
            "Componentes Curriculares Obrigatórios Pendentes: 2\n",
            "Componente Curricular CH Código\n",
            "CKP8588 PROPOSTA DE TESE DE DOUTORADO 32 h Matriculado\n",
            "CKP8999 TESE 192 hCréditos Exigidos: Créditos Integralizados: Créditos Pendentes: 60 0 62\n",
            " Carga Horária Exigida: 960 Carga Horária Integralizada: 992 Carga Horária Pendente: 0\n",
            "Trancamentos, Mobilidades Acadêmica e Prorrogações\n",
            "Trancamento Total:\n",
            "Mobilidade Acadêmica:\n",
            "Prorrogações:Nenhum trancamento total realizado.\n",
            "Nenhuma mobilidade acadêmica realizada.\n",
            "12 meses\n",
            "2 Página 1de Para verificar a autenticidade deste documento entre em http://si3.ufc.br/sigaa/documentos informando a matrícula,\n",
            "data de emissão e o código de verificação: 0205650b46\n",
            "historico_409428 23\n",
            "Página: 24\n",
            "Texto: Histórico Escolar - Emitido em:\n",
            "409428 ARMANDO SOARES SOUSA Nome: Matrícula:16/12/2021 às 15:38hPRPPG - Pró-Reitoria de Pesquisa e Pós-Graduação\n",
            " \n",
            " SIGAA - Sistema Integrado de Gestão de Atividades Acadêmicas\n",
            "UFC - Universidade Federal do Ceará\n",
            "Av. da Universidade, 2853 - Benfica - Fortaleza - CE- CEP 60020-181\n",
            "Atenção, agora o histórico possui uma verificação automática de autenticidade e consistência. Favor, ler instruções no rodapé.\n",
            "2 Página 2de Para verificar a autenticidade deste documento entre em http://si3.ufc.br/sigaa/documentos informando a matrícula,\n",
            "data de emissão e o código de verificação: 0205650b46\n",
            "historico_409428 24\n",
            "Página: 25\n",
            "Texto: 1\n",
            "D E C L A R A Ç Ã O      Declaro, para os devidos ﬁns, que Armando Soares Sousa, aluno(a) do(a) Ciências DaComputação - M/d, UNIVERSIDADE FEDERAL DO CEARÁ, foi contemplado(a) com uma bolsade Doutorado pela Fundação Cearense de Apoio ao Desenvolvimento Cientíﬁco e Tecnológico -FUNCAP, no período de janeiro de 2021 a novembro de 2021, através do Programa de BolsasAcadêmicas de Mestrado e Doutorado desta Fundação.      Declaramos, outrossim, que a referida bolsa não caracteriza nenhum vínculo empregatício dobolsista com esta Fundação.      Fortaleza, 17 de dezembro de 2021.      \n",
            "Chave de Autenticação: 9DMW-5JOE-61bc93a752df7 em 17/12/2021 10:41:59Acesse o link abaixo para autenticar o documento. http://montenegro.funcap.ce.gov.br/sugba/autenticacao_eletronica/Fundação Cearense de Apoio ao Desenvolvimento Cientíﬁco e TecnológicoCNPJ: 00078.007/0001-26Av. Oliveira Paiva, 941 - Cidade dos Funcionários - CEP: 60822-130 - Fortaleza/CETel: (85) 3101-2170 /(85) 3275-9274 / (85) 3275-9475 - Fax - 3275-7862\n",
            "Declarac ̧ão de Bolsa FUNCAP 2021 25\n"
          ]
        }
      ]
    },
    {
      "cell_type": "code",
      "source": [
        "texto_documento"
      ],
      "metadata": {
        "colab": {
          "base_uri": "https://localhost:8080/",
          "height": 157
        },
        "id": "tvO1V6ioCkH4",
        "outputId": "b28701ef-7662-46ac-8291-4f230eec0e5d"
      },
      "execution_count": 11,
      "outputs": [
        {
          "output_type": "execute_result",
          "data": {
            "text/plain": [
              "'AO CHEFE DO DEPARTAMENTO DE COMPUTAÇÃO  DA UNIVERSIDADE FEDERAL DO PIAUÍ  Caro Chefe de Departamento, Eu Armando Soares Sousa, Matrícula UFPI 1886865 lotado no Departamento de Computação do Centro de Ciência da Natureza da Universidade Federal do Piauí solicita sua concordância quanto minha PRORROGAÇÃO DE AFASTAMENTO a fim de dar continuidade ao curso de Pós-Graduação em Ciência da Computação em nível de Doutorado na (Área de Concentração: Ciência da Computação) na Universidade Federal do Ceará, por mais 6 (seis) meses, a partir de 23/02/2022, em conformidade com a Resolução No. 186/06-CEPEX. Além disso, gostaria que o senhor anexasse a meu pedido o documento referente ao plano de qualificação 2022 aprovado na Assembleia Departamental informando a deliberação favorável a meu pedido de afastamento em 2022 para poder concluir minhas atividades do doutorado. Fortaleza, 21, de Dezembro de 2021  __________________________________  (Assinatura) \\nSolicitação ao Chefe para Prorrogac ̧ão de Afastamento 1Documentos que constam no presente arquivo.  Gostaria de informar que além do \"Pedido de Concordância do Chefe de Departamento de Computação\", seguem em os seguintes documentos:  1. Solicitação de renovação de afastamento para o Reitor 2. Declaração de Requisitos e carga horária do Doutorado MDCC/UFC 3. Concordância do pedido de renovação do Coordenador do MDCC/UFC 4. Concordância do pedido de renovação do Orientador 5. Atestado semestral de frequência 2021.1 6. Atestado semestral de frequência 2021.2 7. Avaliação semestral de desempenho 2021.1 8. Avaliação semestral de desempenho 2021.2 9. Termo de compromisso 10. Relatório semestral de atividade 2021.1 11. Relatório semestral de atividade 2021.2 12. Atestado de matrícula 2021.2 13. Declaração de matrícula 2021.2 14. Histórico atualizado 15. Declaração de bolsa da FUNCAP (Fundação Cearense de Apoio ao Desenvolvimento Científico)  Fortaleza, 21, de Dezembro de 2021  __________________________________  (Assinatura)  \\nDocumentos Anexados 2AO MAGNÍFICO REITOR DA UNIVERSIDADE FEDERAL DO PIAUÍ  Magnífico Reitor,  \\u2028 \\u2028  Eu Armando Soares Sousa, Matrícula UFPI 1886865 lotado no Departamento de Computação do Centro de Ciência da Natureza da Universidade Federal do Piauí solicita a Vossa Magnificência, autorizar a PRORROGAÇÃO DE AFASTAMENTO a fim de dar continuidade ao curso de Pós-Graduação em Ciência da Computação em nível de Doutorado na (Área de Concentração: Ciência da Computação) na Universidade Federal do Ceará, por mais 6 (seis) meses, a partir de 23/02/2022, em conformidade com a Resolução No. 186/06-CEPEX.  Fortaleza, 22, de Dezembro de 2021 __________________________________  (Assinatura)  Contato: (86) 994693558 / armando@ufpi.edu.br  \\nSolicitação de Prorrogac ̧ão de Afastamento 3 \\nMINISTÉRIO DA EDUCAÇÃO \\nUNIVERSIDADE FEDERAL DO CEARÁ  \\nCENTRO DE CIÊNCIAS  \\nDEPARTAMENTO DE COMPUTAÇÃO  \\nMESTRADO E DOUTORADO EM CIÊNCIA DA COMPUTAÇÃO  \\n \\nDECLARAÇÃO \\n \\n \\nDeclaramos, para os devidos fins, que o Programa de Pós-Graduação em Ciência da              \\nComputação da Universidade Federal do Ceará (MDCC/UFC) tem como exigência para a conclusão              \\ndo Curso de Doutorado o cumprimento/aprovação dos seguintes requisitos:  \\n* Cursar, no mínimo, 12 disciplinas (48 créditos) - 768h \\n* 02 Estágios de Docência (08 créditos) - 128h \\n* 01 Proficiência em Inglês (01 crédito) - 16h \\n* Defesa de Qualificação de Doutorado (01 crédito) - 16h \\n* Defesa de Proposta de Doutorado (02 créditos) - 32h \\n* Defesa da Tese (12 créditos) - 192h \\n \\nTotal de créditos exigidos: 72 \\nCarga horária total exigida: 1.152h \\n \\n \\nFortaleza, 25 de janeiro de 2021. \\n \\n \\n_____________________________________ \\nProf. João Paulo Pordeus Gomes \\nCoordenador do Programa de Pós-graduação \\nem Ciência da Computação/UFC \\n \\n \\n  \\nCampus do Pici - Bloco 910 - CEP: 60440-900 - Fortaleza/Ceará  \\nFone: (85) 3366-9847 - E-mail: \\u200bsecretaria@mdcc.ufc.br   \\n \\n Declarac ̧ão_Requisitos_e_carga_horaria_Doutorado 4CONCORDÂNCIA DE PEDIDO DE RENOVAÇÃO DE AFASTAMENTO Eu Prof. Dr. João Paulo Pordeus Gomes, Coordenador do Programa de Pós-graduação em Ciência da Computação da Universidade Federal do Ceará (UFC), venho por meio deste manifestar minha concordância na prorrogação de afastamento por mais 6 (seis) meses, a partir de 23/02/2022, do aluno Armando Soares Sousa, devidamente matriculado, no semestre corrente (2021.2) no curso de doutorado em Ciência da Computação na Universidade Federal do Ceará (UFC) e orientado pelo Prof. Dr. Lincoln Souza Rocha. Para com isso, o referido aluno possa concluir com qualidade os componentes curriculares \"Proposta de Tese de Doutorado\" e “Tese\". A justificativa é que devido às adversidades provocadas pela pandemia do Corona Vírus, nos anos de 2020 e 2021, as atividades presenciais, desta universidade, foram suspensas e os laboratórios de pesquisa foram fechados, impactando diretamente nas atividades de pesquisas dos cursos de pós-graduação desta universidade. Com isso, houve extensão nos prazos dos cursos de pós-graduação stricto sensu da UFC conforme Ofício Circular 1/2020/PRPPG/UFC de 30/04/2020, Ofício Circular 10/2020-CGSI/DPB/CAPES/UFC de 30/04/2020 e prorrogação de prazo conforme Ofício 14/2021/PRPPG/DIV_ENSINO/PRPPG/CENS/PRPPG/REITORIA, de 14 de julho de 2021 da Universidade Federal do Ceará. Adicionalmente, gostaria de informar que o referido aluno, dentro deste período de 4 anos (2018, 2019, 2020, 2021), concluiu e foi aprovado nas disciplinas obrigatórias, na proficiência em língua estrangeira, nas atividades de estágio de docência e no exame de Qualificação. Local e data: ________________, ___/___/_____ _____________________________________ Prof. Dr. João Paulo Pordeus Gomes Coordenador do Programa de Pós-graduação em Ciência da Computação - UFC\\nCoordenador - Concorda ̂ncia Pedido Renovac ̧ão Afastamento 5CONCORDÂNCIA DE PEDIDO DE RENOVAÇÃO DE AFASTAMENTO Eu prof. Dr. Lincoln Souza Rocha, orientador do aluno Armando Soares Sousa, devidamente matriculado, no semestre corrente (2021.2) no curso de doutorado em Ciência da Computação na Universidade Federal do Ceará (UFC), venho por meio deste manifestar minha concordância na prorrogação de afastamento por mais 6 (seis) meses a partir de 23/02/2022, para com isso o referido aluno possa concluir com qualidade os componentes curriculares \"Proposta de Tese de Doutorado\" e \"Tese\". Adicionalmente, gostaria de informar que o referido aluno, dentro deste período de 4 anos (2018, 2019, 2020, 2021), concluiu e foi aprovado nas disciplinas obrigatórias, na proficiência em língua estrangeira, nas atividades de estágio de docência e no exame de Qualificação. Local e data: ________________, ___/___/_____ _____________________________________ Lincoln Souza Rocha Assinatura do Orientador(a) \\nOrientador - Concorda ̂ncia Pedido Renovac ̧ão Afastamento-Ass 6ATESTADO SEMESTRAL DE FREQUÊNCIA DO(A) PÓS-GRADUANDO(A) Atestamos, para fins de comprovação junto à CPSS/PRPG/UFPI, que o (a) Sr(a) Armando Soares Sousa aluno(a) matriculado(a) no curso de Pós-Graduação em Ciência da Computação área de concentração em Ciência da Computação em nível de Doutorado participou regularmente das suas atividades do Curso, no 1º [x] ou 2º [ ] semestre de: 2021.  O presente atestado visa cumprir o que estabelece as normas da UFPI de afastamento para Pós-Graduação.   Devido às adversidades provocadas pela pandemia do Corona Vírus, nos anos de 2020 e 2021, as atividades presenciais, da Universidade Federal do Ceará, foram suspensas e os laboratórios de pesquisa foram fechados. Com isso, as atividades tem sido realizadas remotamente sendo amparadas pelos seguintes documentos: Ofício Circular 1/2020/ PRPPG/UFC de 30/04/2020, Ofício Circular 10/2020-CGSI/DPB/CAPES/UFC de 30/04/2020, e prorrogação de prazo conforme Ofício 14/2021/PRPPG/DIV_ENSINO/PRPPG/CENS/ PRPPG/REITORIA, de 14 de julho de 2021.  O período 2021.1 foi encerrado em 02/09/2021.    \\nENDEREÇO PARA REMESSA: Universidade Federal do Piauí – Pró-Reitoria de Ensino de Pós-Graduação-PRPG/CPSS Campus Universitário da Ininga – CEP: 64049-550 – Teresina/Piauí Fone: (86) 3215-7405 E-mail: cpss.capacitacao@ufpi.edu.br DEVOLUÇÃO:  Primeiro semestre até 15.08  Segundo semestre até 15.01\\nAtestado_Semestral_de_Frequencia_2021-1 7ATESTADO SEMESTRAL DE FREQUÊNCIA DO(A) PÓS-GRADUANDO(A) Atestamos, para fins de comprovação junto à CPSS/PRPG/UFPI, que o (a) Sr(a) Armando Soares Sousa aluno(a) matriculado(a) no curso de Pós-Graduação em Ciência da Computação área de concentração em Ciência da Computação em nível de Doutorado participa regularmente das suas atividades do Curso, no 1º [ ] ou 2º [x] semestre de: 2021.  O presente atestado visa cumprir o que estabelece as normas da UFPI de afastamento para Pós-Graduação.   Devido às adversidades provocadas pela pandemia do Corona Vírus, nos anos de 2020 e 2021, as atividades presenciais, da Universidade Federal do Ceará, foram suspensas e os laboratórios de pesquisa foram fechados. Com isso, as atividades tem sido realizadas remotamente sendo amparadas pelos seguintes documentos: Ofício Circular 1/2020/ PRPPG/UFC de 30/04/2020, Ofício Circular 10/2020-CGSI/DPB/CAPES/UFC de 30/04/2020, e prorrogação de prazo conforme Ofício 14/2021/PRPPG/DIV_ENSINO/PRPPG/CENS/ PRPPG/REITORIA, de 14 de julho de 2021. O período de 2021.2 se encerra no próximo dia 10/02/2022   \\nENDEREÇO PARA REMESSA: Universidade Federal do Piauí – Pró-Reitoria de Ensino de Pós-Graduação-PRPG/CPSS Campus Universitário da Ininga – CEP: 64049-550 – Teresina/Piauí Fone: (86) 3215-7405 E-mail: cpss.capacitacao@ufpi.edu.br DEVOLUÇÃO:  Primeiro semestre até 15.08  Segundo semestre até 15.01\\nAtestado_Semestral_de_Frequencia_2021-2 8AVALIAÇÃO SEMESTRAL DO DESEMPENHO DO(A) PÓS-GRADUANDO(A) PELO(A) ORIENTADOR(A)  1 – Nome: ARMANDO SOARES SOUSA  2 – IES do curso: UNIVERSIDADE FEDERAL DO CEARÁ 3 – Nome do Curso: PÓS-GRADUAÇÃO EM CIÊNCIA DA COMPUTAÇÃO 5 – Área de Concentração: Ciência da Computação \\nObservação: em decorrência das adversidades provocadas pela pandemia do Corona Vírus, em 2020 e 2021, houve alteração nos prazos dos semestres 2021.1. e 2021.2 conforme Ofício Circular 1/2020/PRPPG/UFC de 30/04/2020, Ofício Circular 10/2020-CGSI/DPB/CAPES/UFC de 30/04/2020  e prorrogação de prazo conforme Ofício 14/2021/PRPPG/DIV_ENSINO/PRPPG/CENS/ PRPPG/REITORIA, de 14 de julho de 2021 da Universidade Federal do Ceará. O período de 2021.1 foi encerrado em 02/09/2021. Local e data: ________________, ___/___/_____ _____________________________________ Lincoln Souza Rocha Assinatura do Orientador(a) ENDEREÇO PARA REMESSA: Universidade Federal do Piauí - PRPPG/Coordenadoria Geral de Pós-Graduação Campus Universitário da Ininga -   64049-550 – Teresina – Piauí Fone: (0**86) 3215-5561 E-mail: cgpg.capacitacao@ufpi.edu.br4 – Nível do Curso: MestradoDoutoradoXPós-Doutorado6 – Avaliando cuidadosamente as atividades do(a) Pós-Graduando(a) acima, sob minha orientaçãono 1º  x OU  2º  semestre de 2021, classifico seu desempenho como:AnoMuito Bom BomRegularInsuficientePROGRAMAS: \\nAvaliacao Semestral de Desempenho 2021-1-Ass 9AVALIAÇÃO SEMESTRAL DO DESEMPENHO DO(A) PÓS-GRADUANDO(A) PELO(A) ORIENTADOR(A)  1 – Nome: ARMANDO SOARES SOUSA  2 – IES do curso: UNIVERSIDADE FEDERAL DO CEARÁ 3 – Nome do Curso: PÓS-GRADUAÇÃO EM CIÊNCIA DA COMPUTAÇÃO 5 – Área de Concentração: Ciência da Computação \\nObservação: em decorrência das adversidades provocadas pela pandemia do Corona Vírus, em 2020 e 2021, houve alteração nos prazos dos semestres 2021.1. e 2021.2 conforme Ofício Circular 1/2020/PRPPG/UFC de 30/04/2020, Ofício Circular 10/2020-CGSI/DPB/CAPES/UFC de 30/04/2020  e prorrogação de prazo conforme Ofício 14/2021/PRPPG/DIV_ENSINO/PRPPG/CENS/ PRPPG/REITORIA, de 14 de julho de 2021 da Universidade Federal do Ceará. O período de 2021.2 deverá ser encerrado em 10/02/2022. Com isso, o referido aluno continua exercendo suas atividades até o presente momento. Local e data: __________________, ___/___/_____ _____________________________________ Lincoln Souza Rocha Assinatura do Orientador(a) ENDEREÇO PARA REMESSA: Universidade Federal do Piauí - PRPPG/Coordenadoria Geral de Pós-Graduação Campus Universitário da Ininga -   64049-550 – Teresina – Piauí Fone: (0**86) 3215-5561 E-mail: cgpg.capacitacao@ufpi.edu.br 4 – Nível do Curso: MestradoDoutoradoXPós-Doutorado6 – Avaliando cuidadosamente as atividades do(a) Pós-Graduando(a) acima, sob minha orientaçãono 1º  OU  2º X  semestre de      2021, classifico seu desempenho como:AnoMuito Bom BomRegularInsuficientePROGRAMAS: \\nAvaliacao Semestral de Desempenho 2021-2-Ass 10TERMO DE COMPROMISSO E RESPONSABILIDADE    Declaro e assumo o compromisso e a responsabilidade legal de prestar serviço à Universidade Federal do Piauí, após conclusão do curso de Pós-Graduação em Ciência da Computação em nível de Doutorado na Universidade Federal do Ceará, na cidade de Fortaleza pelo prazo equivalente ao tempo usufruído no afastamento das atividades funcionais para a realização do citado curso.  Teresina, ______/_____/_____   _____________________________________________ (assinatura) \\nTERMO_DE_COMPROMISSO_RESPONSABILIDADE 11RELATÓRIO SEMESTRAL DO(A) PÓS-GRADUANDO(A) PROGRAMA:  Pós-Graduação em Ciência da Computação_ 1 - IDENTIFICAÇÃO:     \\n2 - ATIVIDADES ACADÊMICAS DA PÓS-GRADUAÇÃO: (realizadas no semestre) 2.1. DISCIPLINA(S) CURSADA(S)Nº HORAS SEMANAISNº CRÉDITOSCONCEITO(S)CKP6666 - Qualificação -    1 Aprovado NOME: Armando Soares Sousa CATEGORIA FUNCIONAL:          Docente  ( X )             Técnico ( )     LOTAÇÃO: Departamento de Computação / Centro de Ciências da Natureza / UFPI NOME DO CURSO: Doutorado em Ciência da Computação ÁREA DE CONCENTRAÇÃO: Ciência da Computação NÍVEL:     Mestrado ( )      Doutorado ( X )  Pós-Doutorado (  )   IES DO CURSO: Mestrado e Doutorado em Ciência  Ciência da Computação / Universidade Federal do Ceará PERÍODO DO RELATÓRIO:     1º  ( X )  OU 2° (  )     SEMESTRE DE   2021   \\nRelatorio Semestral de Atividades 2021-1-Ass 123. PLANO DE ESTUDO: 2.2. ESTÁGIO(S) REALIZADO(S)Nº HORAS SEMANAISNº CRÉDITOSCONCEITO(S)----2.3. CURSOS EXTRAORDINÁRIOS, P A R T I C I P A Ç Ã O E M SEMINÁRIOS,  C O N G R E S S O S , ENCONTROS E OUTRAS ATIVIDADESLOCALTOTAL DE HORASCONCEITO(S)    Publicação e apresentação do paper \"Technical Debt in Large-Scale  Distributed  Projects: An Industrial Case Study\" no SANER 2021. IEEE International Conference on Software Analysis, Evolution and Reengineering. Participação do EASE 2021 - International Conference on Evaluation and Assessment in Software Engineering Honolulu, Hawaii, USA \\n     Trondheim, Norway NA \\n        NA- \\n-3.1. Descrever, de forma clara e sucinta, o plano de estudo a ser desenvolvido no próximo semestre, incluindo a(s) disciplina(s) que pretende cursar, sua carga horária e número de crédito(s). -Fazer a revisão do mapeamento sistemático sobre Dívida Técnica Arquitetural  -Realizar um experimento que avalie as versões de um repositório de código de um sistema para avaliar o comportamento de indicadores de dívida técnica arquitetural -Fazer a matrícula no componente curricular CKP8588 - PROPOSTA DE TESE DE DOUTORADO (32 horas - 2 créditos) -Preparar a proposta da tese\\nRelatorio Semestral de Atividades 2021-1-Ass 133.2. Sumário do Projeto (Dissertação ou Tese): incluindo o título e o desenvolvimento do projeto propriamente dito. Título: Uma Abordagem para Estimativa de Dívida Técnica Arquitetural por meio de Indicadores de Degradação extraídos a partir de Repositórios de Software - Atividades realizadas relacionadas ao Projeto de Doutorado: •Cursei e concluí a atividade de qualificação; •Participei de todas reuniões relacionadas ao projeto de doutorado e reuniões de orientação; •Fiz a leitura dos principais artigos e trabalhos relacionados a Dívida Técnica, Dívida Técnica Arquitetural e Mineração de Software relacionados ao projeto de doutorado; •Realizei estudos em ferramentas de mineração de repositório de software e data science; •Publiquei o paper \"Technical Debt in Large-Scale Distributed Projects: An Industrial Case Study\" no evento SANER 2021 - International Conference on Software Analysis, Evolution and Reengineering - DOI: 10.1109/SANER50967.2021.00071. Conferência classificada como Qualis A2; •Fiz a apresentação de um mapeamento sistemático sobre Dívida Técnica Arquitetural no Exame de Qualificação como trabalho principal; •Produzi uma monografia sobre um Relatório Técnico sobre Computação em Nuvem como trabalho secundário do Exame de Qualificação.\\nRelatorio Semestral de Atividades 2021-1-Ass 144.   DESENVOLVIMENTO DA TESE OU DISSERTAÇÃO: Assinalar ou especificar sua atual situação: a. ( X ) Não ingressou ainda nessa atividade b. (     ) Realiza estudos preliminares para elaboração do Projeto da Tese ou Dissertação c. (     ) Está desenvolvendo o Projeto Tese ou Dissertação d. (     ) Está redigindo o Relatório Final da Tese ou Dissertação  e. (     ) Não se enquadra nos itens acima citados Caso assinale a letra \"c\" ou \"d\", informe o seguinte: -Tema da Tese ou Dissertação:   -Sumário do Projeto de Tese / Dissertação 5. DESENVOLVIMENTO ACADÊMICO: TOTAL DE CRÉDITOS PREVISTOS NO CURSO: ________76________ Nº DE CRÉDITOS CURSADOS NO SEMESTRE:   _______1________ Nº DE CRÉDITOS ACUMULADOS:                         _______61________ Nº DE CRÉDITOS QUE FALTAM:                           ________14________ Nº DE CRÉDITOS CORRESPONDENTES À TESE OU DISSERTAÇÃO:  _____12______ OBS: No total de créditos previsto no plano do curso deverá ser colocado o número de créditos   correspondentes às disciplinas mais o número correspondente à Tese ou Dissertação.   6. PROCESSO DE QUALIFICAÇÃO: \\n7. PROBLEMAS E DIFICULDADES ENCONTRADAS: Não se aplica _________Fortaleza__________, ____/____/______                                                       (Local) _________________________________________________ Coordenador(a) do Curso de Pós-Graduação _________________________________________________ Assinatura do(a) Pós-Graduando(a) __________________________________________ Assinatura do(a) Orientador(a)O curso exige exame de qualificação antes da defesa de Tese ou Dissertação: (  X  ) SIM                 (      ) NÃO Caso haja a exigência, informar a provável data do citado exame de V.Sa.:   __08__/_07_/_2021_\\nRelatorio Semestral de Atividades 2021-1-Ass 15RELATÓRIO SEMESTRAL DO(A) PÓS-GRADUANDO(A) PROGRAMA:  Pós-Graduação em Ciência da Computação_ 1 - IDENTIFICAÇÃO:     \\n2 - ATIVIDADES ACADÊMICAS DA PÓS-GRADUAÇÃO: (realizadas no semestre) 2.1. DISCIPLINA(S) CURSADA(S)Nº HORAS SEMANAISNº CRÉDITOSCONCEITO(S)CKP8588 - Proposta de Tese de Doutorado - 2 Em andamento NOME: Armando Soares Sousa CATEGORIA FUNCIONAL:     Docente (X)             Técnico ( )      LOTAÇÃO: Departamento de Computação / Centro de Ciências da Natureza / UFPI NOME DO CURSO: Doutorado em Ciência da Computação ÁREA DE CONCENTRAÇÃO: Ciência da Computação NÍVEL:   Mestrado ( )    Doutorado (X)  Pós-Doutorado ( )   IES DO CURSO: Mestrado e Doutorado em Ciência  Ciência da Computação / Universidade Federal do Ceará PERÍODO DO RELATÓRIO:        1º  ( )   OU 2° (X)    SEMESTRE DE         2021      \\nRelatorio Semestral de Atividades 2021-2-Ass 162.2. ESTÁGIO(S) REALIZADO(S)Nº HORAS SEMANAISNº CRÉDITOSCONCEITO(S)-- --2.3. CURSOS EXTRAORDINÁRIOS, P A R T I C I P A Ç Ã O E M SEMINÁRIOS,  CONGRESSOS,  ENCONTROS E OUTRAS ATIVIDADES E C S A 2 0 2 1 - 1 5 t h E u r o p e a n Conference on Software Architecture. 13-17 September. Vaxjo, Sweden. MSR4SA 2021 -  International Workshop on Mining Software Repositories for Software Architecture.  16  ,17  September. Vaxjo, Sweden. CBSoft 2021 - Congresso Brasileiro de Software. 27 de Setembro a 1o. de Outubro 2021. Joinville, Santa Catarina, Brasil. SBES 2021 - Simpósio Brasileiro de Engenharia de Software. 27, 28 e 29 de Setembro. Joinville, Santa Catarina, Brasil. International Latin American School in Software Engineering. 27 e 28 de Setembro - Joinville, Santa Catarina, Brasil.Local Vaxjo, Sweden Vaxjo, Sweden Joinville, Santa Catarina, Brasil Joinville, Santa Catarina, Brasil Joinville, Santa Catarina, Brasil TOTAL DE HORAS - - - - - CONCEITO(S) - - - - - \\nRelatorio Semestral de Atividades 2021-2-Ass 173. PLANO DE ESTUDO: 3.1. Descrever, de forma clara e sucinta, o plano de estudo a ser desenvolvido no próximo semestre, incluindo a(s) disciplina(s) que pretende cursar, sua carga horária e número de crédito(s). •Publicar os resultados dos experimentos referentes a validação de um protótipo desenvolvido, índice e indicadores sugeridos na pesquisa em um sistema alvo para extrair informações de seus repositórios de código referente a dívida técnica arquitetural.   •Publicar os estudos em evento internacional na área de dívida técnica. •Publicar o mapeamento sistemático revisado, apresentar a proposta de tese e escrever a tese de doutorado 3.2. Sumário do Projeto (Dissertação ou Tese): incluindo o título e o desenvolvimento do projeto propriamente dito.\\nRelatorio Semestral de Atividades 2021-2-Ass 184.   DESENVOLVIMENTO DA TESE OU DISSERTAÇÃO: Assinalar ou especificar sua atual situação: a. ( X ) Não ingressou ainda nessa atividade b. (     ) Realiza estudos preliminares para elaboração do Projeto da Tese ou Dissertação c. (     ) Está desenvolvendo o Projeto Tese ou Dissertação d. (     ) Está redigindo o Relatório Final da Tese ou Dissertação  e. (     ) Não se enquadra nos itens acima citados Caso assinale a letra \"c\" ou \"d\", informe o seguinte: -Tema da Tese ou Dissertação:   -Sumário do Projeto de Tese / Dissertação Título: Uma Abordagem para Estimativa de Dívida Técnica Arquitetural por meio de Indicadores de Degradação Extraídos a partir de Repositórios de Software - Atividades realizadas relacionadas ao Projeto de Doutorado: •Cursando o componente curricular \"Proposta de Tese de Doutorado\"; •Até o presente momento, participei de todas reuniões relacionadas ao projeto de doutorado e reuniões de orientação; •Leitura dos principais artigos e trabalhos relacionados a Dívida Técnica, Dívida Técnica Arquitetural e Mineração de Software relacionados ao projeto de doutorado; •Aprofundamento e consolidação de estudos em ferramentas de mineração de repositório de software, data mining e data science; •Dando continuidade nos estudos, melhorias e atualizações sobre o mapeamento sistemático sobre Dívida Técnica Arquitetural; •Definição do primeiro esboço de proposta de experimento para análise de repositório de software de um sistema de médio porte para extrair indicadores de dívida técnica arquitetural; •Estou fazendo testes usando técnicas de MSR (Mining software repositories) em repositórios de software da Apache Software Foundation para detectar comportamentos ou padrões que possam indicar Dívida Técnica Arquitetural, para com isso possamos elaborar um experimento que ajude na validação de uma definição de Dívida Técnica Arquitetural mais precisa, bem como fazer a proposição de um método que detecte artefatos que possam indicar Dívida Técnica Arquitetural em um repositório de software. \\nRelatorio Semestral de Atividades 2021-2-Ass 195. DESENVOLVIMENTO ACADÊMICO: TOTAL DE CRÉDITOS PREVISTOS NO CURSO: ________76________ Nº DE CRÉDITOS CURSADOS NO SEMESTRE:   _______2________ Nº DE CRÉDITOS ACUMULADOS:                         _______62______ Nº DE CRÉDITOS QUE FALTAM:                           ________12_______ Nº DE CRÉDITOS CORRESPONDENTES À TESE OU DISSERTAÇÃO:  ____12_______ OBS: No total de créditos previsto no plano do curso deverá ser colocado o número de créditos   correspondentes às disciplinas mais o número correspondente à Tese ou Dissertação.   6. PROCESSO DE QUALIFICAÇÃO: \\n7. PROBLEMAS E DIFICULDADES ENCONTRADAS: _________Fortaleza__________, ____/____/______                                                       (Local) _________________________________________________ Coordenador(a) do Curso de Pós-Graduação _________________________________________________ Assinatura do(a) Pós-Graduando(a) __________________________________________ Assinatura do(a) Orientador(a) O curso exige exame de qualificação antes da defesa de Tese ou Dissertação: (  X  ) SIM                 (      ) NÃO Caso haja a exigência, informar a provável data do citado exame de V.Sa.:   08 / 07 / 2021Não se aplica \\nRelatorio Semestral de Atividades 2021-2-Ass 20Portal doDiscenteUNIVERSIDADE FEDERAL DO CEARÁSISTEMA INTEGRADODE GESTÃODE ATIVIDADES ACADÊMICASEMITIDOEM 17/12/2021 10:36ATESTADO DE MATRÍCULAPeríodo Letivo:2021.2Nível:DOUTORADOMatrícula:409428Vínculo:REGULARNome:ARMANDO SOARES SOUSAPrograma:PROGRAMA DE PÓS-GRADUAÇÃO EM CIÊNCIAS DA COMPUTAÇÃONível:DOUTORADOStatus:ATIVOÁrea deConcentração:CIÊNCIA DA COMPUTAÇÃOLinha de Pesquisa:SISTEMAS DE INFORMAÇÃOOrientador:LINCOLN SOUZA ROCHATURMAS MATRICULADAS: 0ATIVIDADES MATRICULADAS: 1Componentes Curriculares/DocentesStatusHorárioCKP8588 - PROPOSTA DE TESE DE DOUTORADOTipo: ATIVIDADE Ano/Periodo: 2021.2MATRICULADO--ATENÇÃOPara verificar a autenticidade deste documento acesse http://www.si3.ufc.br/sigaa/documentos/informando a matrícula, a data de emissão e o código de verificação b7b04434d4SIGAA | Copyright © 2006-2021 - Superintendência de Tecnologia da Informação - UFC - (85) 3366-9999 -si3asprd04.ufc.brSIGAA - Sistema Integrado de Gestão de Atividades Acadêmicashttps://si3.ufc.br/sigaa/portais/discente/discente.jsf\\n1 of 112/17/21, 10:36 AMAtestado de Matri ́cula 2021-2 21Universidade Federal do Ceará\\nPRÓ-REITORIA DE PÓS-GRADUAÇÃO\\nD E C L A R A Ç Ã O\\n             Declaramos, para os fins a que se fizerem necessários, que ARMANDO\\nSOARES SOUSA é aluno(a) REGULAR vinculado(a) a esta universidade, sob o\\nnúmero 409428, no programa de DOUTORADO EM CIÊNCIA DA COMPUTAÇÃO -\\nDOUTORADO - FORTALEZA.\\n             Pró-Reitoria de Pós-Graduação da Universidade Federal do Ceará,  em\\nFortaleza, 17 de Dezembro de 2021.07.272.636/0001-31\\nCampus Universitário - Reitoria, PICI\\nFortaleza/CE - CEP: 60020-181\\n(85) 3366-9999 - Fax: (85) 3366-9999  -  e-mail: dsi@sti.ufc.br\\nCódigo de verificação:\\n c0f80c6e3f\\nPara verificar a autenticidade deste documento acesse http://si3.ufc.br/sigaa/documentos,\\ninformando a matrícula, data de emissão do documento e o código de verificação.\\nATENÇÃO\\nESTE DOCUMENTO NÃO É VÁLIDO PARA FINS DE SOLICITAÇÃO DE VAGA EM OUTRA INSTITUIÇÃO DE\\nENSINO SUPERIOR. CASO SEJA NECESSÁRIO TAL DOCUMENTO, É NECESSÁRIO COMPARECER AO DAE.\\ndeclaracao_409428 22Histórico Escolar - Emitido em: 16/12/2021 às 15:38hPRPPG - Pró-Reitoria de Pesquisa e Pós-Graduação\\n409428 ARMANDO SOARES SOUSA Nome: Matrícula:\\nBENINU DO CARMO SOUSADados Pessoais\\nNome do Pai:\\nNome da Mãe: MARIA DOS SANTOS SOARES SOUSA\\nTRAVESSA JÚLIO CÉSAR, 110 - APTO 805 DAMAS\\nFORTALEZA CEEndereço:\\nMunicípio:Bairro:\\nUF:Data de Nascimento: 19/02/1979 Local de Nascimento: TERESINA/PI\\nDados do Curso\\nPROGRAMA DE PÓS-GRADUAÇÃO EM CIÊNCIAS DA COMPUTAÇÃO\\nMAR/2018\\nFEV/2024Programa:\\nMês/Ano Inicial: Status:ATIVO\\nMês Atual: 46ºÁrea de Concentração: CIÊNCIA DA COMPUTAÇÃOCurso:DOUTORADO EM CIÊNCIA DA COMPUTAÇÃO\\nLinha de Pesquisa: SISTEMAS DE INFORMAÇÃOCurrículo: 2015.1\\nOrientador: 1669759 - LINCOLN SOUZA ROCHA\\n8.68Forma Ingresso:\\nMédia Final:Autorização do Curso:\\nData da Publição:\\nSELEÇÃO\\nMotivo Saída: ---Prazo para Conclusão:\\n \\n SIGAA - Sistema Integrado de Gestão de Atividades Acadêmicas\\nUFC - Universidade Federal do Ceará\\nAv. da Universidade, 2853 - Benfica - Fortaleza - CE- CEP 60020-181\\nIdentidade: 1599355 Órgão Emissor: SSP Nacionalidade: BRASILEIRA\\nObservações:\\n - Prorrogação de prazo conforme Ofício 14/2021/PRPPG/DIV_ENSINO/PRPPG/CENS/PRPPG/REITORIA, de 14 de julho de 2021\\n - prazo prorrogado conforme Ofício Circular 1/2020/PRPPG de 30/04/2020 e Ofício Circular 10/2020-CGSI/DPB/CAPES de 30/04/2020.Disciplinas/Atividades Cursadas/Cursando\\nInício Componente Curricular Situação CRFreq % Nota Fim CH\\n3/2018 SISTEMAS DISTRIBUÍDOS E REDES DE COMUNICAÇÃO APROVT CKP7500 4100.00 8.0 5/2018 64\\n3/2018 ENGENHARIA DE SOFTWARE APROVT CKP7788 4100.00 8.0 5/2018 64\\n3/2018 BANCO DE DADOS APROVT CKP7944 4100.00 10.0 5/2018 64\\n3/2018 AVALIAÇÃO DE DESEMPENHO DE SISTEMAS COMPUTACIONAIS APROVT CKP8555 4100.00 8.0 5/2018 64\\n2/2018TÓPICOS ESPECIAIS EM SISTEMAS DE INFORMAÇÃO I - Tema:\\nQualidade de SoftwareAPROVADO CKP8433 484.37 9.1 7/2018 64\\n2/2018 LÓGICA DA PESQUISA CIENTÍFICA APROVADO CKP8466 496.87 9.5 7/2018 64\\n2/2018 ESTRUTURAS DE DADOS APROVADO CKP8077 4100.00 9.5 9/2018 64\\n7/2018 PROFICIÊNCIA EM LÍNGUA ESTRANGEIRA APROVADO CKP5555 1100.00 -- 10/2018 16\\n7/2018 REDES MÓVEIS E SEM FIO APROVADO CKP8222 481.25 8.6 12/2018 64\\n7/2018 APRENDIZAGEM AUTOMATICA APROVADO CKP8277 495.31 7.8 12/2018 64\\n7/2018 COMPUTAÇÃO MÓVEL E UBÍQUA APROVADO CKP8622 4100.00 9.9 12/2018 64\\n2/2019 ESTÁGIO DE DOCÊNCIA II APROVADO CKP0183 4100.00 -- 7/2019 64\\n2/2019 TÓPICOS ESPECIAIS EM REDES E SIST. DISTRIBUÍDOS II APROVADO CKP8422 4100.00 10.0 7/2019 64\\n2/2019 PROGRAMAÇÃO CONCORRENTE APROVADO CKP8477 493.75 7.0 7/2019 64\\n7/2019 ESTÁGIO DE DOCÊNCIA III APROVADO CKP0200 4100.00 -- 12/2019 64\\n7/2019 VISUALIZAÇÃO CIENTÍFICA APROVADO CKP8533 475.00 7.4 12/2019 64\\n2/2020 QUALIFICAÇÃO APROVADO CKP6666 1100.00 -- 7/2021 16\\n9/2021 PROPOSTA DE TESE DE DOUTORADO MATRICULADO CKP8588 2-- -- -- 32\\nComponentes Curriculares Obrigatórios Pendentes: 2\\nComponente Curricular CH Código\\nCKP8588 PROPOSTA DE TESE DE DOUTORADO 32 h Matriculado\\nCKP8999 TESE 192 hCréditos Exigidos: Créditos Integralizados: Créditos Pendentes: 60 0 62\\n Carga Horária Exigida: 960 Carga Horária Integralizada: 992 Carga Horária Pendente: 0\\nTrancamentos, Mobilidades Acadêmica e Prorrogações\\nTrancamento Total:\\nMobilidade Acadêmica:\\nProrrogações:Nenhum trancamento total realizado.\\nNenhuma mobilidade acadêmica realizada.\\n12 meses\\n2 Página 1de Para verificar a autenticidade deste documento entre em http://si3.ufc.br/sigaa/documentos informando a matrícula,\\ndata de emissão e o código de verificação: 0205650b46\\nhistorico_409428 23Histórico Escolar - Emitido em:\\n409428 ARMANDO SOARES SOUSA Nome: Matrícula:16/12/2021 às 15:38hPRPPG - Pró-Reitoria de Pesquisa e Pós-Graduação\\n \\n SIGAA - Sistema Integrado de Gestão de Atividades Acadêmicas\\nUFC - Universidade Federal do Ceará\\nAv. da Universidade, 2853 - Benfica - Fortaleza - CE- CEP 60020-181\\nAtenção, agora o histórico possui uma verificação automática de autenticidade e consistência. Favor, ler instruções no rodapé.\\n2 Página 2de Para verificar a autenticidade deste documento entre em http://si3.ufc.br/sigaa/documentos informando a matrícula,\\ndata de emissão e o código de verificação: 0205650b46\\nhistorico_409428 241\\nD E C L A R A Ç Ã O      Declaro, para os devidos ﬁns, que Armando Soares Sousa, aluno(a) do(a) Ciências DaComputação - M/d, UNIVERSIDADE FEDERAL DO CEARÁ, foi contemplado(a) com uma bolsade Doutorado pela Fundação Cearense de Apoio ao Desenvolvimento Cientíﬁco e Tecnológico -FUNCAP, no período de janeiro de 2021 a novembro de 2021, através do Programa de BolsasAcadêmicas de Mestrado e Doutorado desta Fundação.      Declaramos, outrossim, que a referida bolsa não caracteriza nenhum vínculo empregatício dobolsista com esta Fundação.      Fortaleza, 17 de dezembro de 2021.      \\nChave de Autenticação: 9DMW-5JOE-61bc93a752df7 em 17/12/2021 10:41:59Acesse o link abaixo para autenticar o documento. http://montenegro.funcap.ce.gov.br/sugba/autenticacao_eletronica/Fundação Cearense de Apoio ao Desenvolvimento Cientíﬁco e TecnológicoCNPJ: 00078.007/0001-26Av. Oliveira Paiva, 941 - Cidade dos Funcionários - CEP: 60822-130 - Fortaleza/CETel: (85) 3101-2170 /(85) 3275-9274 / (85) 3275-9475 - Fax - 3275-7862\\nDeclarac ̧ão de Bolsa FUNCAP 2021 25'"
            ],
            "application/vnd.google.colaboratory.intrinsic+json": {
              "type": "string"
            }
          },
          "metadata": {},
          "execution_count": 11
        }
      ]
    },
    {
      "cell_type": "markdown",
      "source": [
        "### Envia o conteúdo para o Google Gemini traduzir"
      ],
      "metadata": {
        "id": "kGqs7rvmET6c"
      }
    },
    {
      "cell_type": "code",
      "source": [
        "pergunte_ao_gemini = \"Translate the following text from portuguese to english: \"\n",
        "prompt_text = f\"{pergunte_ao_gemini}{texto_documento}\"\n",
        "response_text_in_english = request_to_gemini(prompt_text)"
      ],
      "metadata": {
        "colab": {
          "base_uri": "https://localhost:8080/",
          "height": 836
        },
        "id": "eXvx9zMOEdEz",
        "outputId": "6e51547a-0c26-4ef9-8838-964a5f848553"
      },
      "execution_count": 12,
      "outputs": [
        {
          "output_type": "stream",
          "name": "stdout",
          "text": [
            "Aguarde...\n",
            "response:\n",
            "GenerateContentResponse(\n",
            "    done=True,\n",
            "    iterator=None,\n",
            "    result=protos.GenerateContentResponse({\n",
            "      \"candidates\": [\n",
            "        {\n",
            "          \"content\": {\n",
            "            \"parts\": [\n",
            "              {\n",
            "                \"text\": \"TO THE HEAD OF THE COMPUTER SCIENCE DEPARTMENT   OF THE FEDERAL UNIVERSITY OF PIAU\\u00cd   Dear Head of the Department, I, Armando Soares Sousa, Registration UFPI 1886865, assigned to the Computer Science Department of the Center for Natural Science of the Federal University of Piau\\u00ed, request your approval for the EXTENSION OF MY LEAVE OF ABSENCE in order to continue the Postgraduate course in Computer Science at the Doctoral level in the (Concentration Area: Computer Science) at the Federal University of Cear\\u00e1, for an additional 6 (six) months, starting on 02/23/2022, in accordance with Resolution No. 186/06-CEPEX. Furthermore, I would like you to attach to my request the document referring to the 2022 qualifying plan approved by the Departmental Assembly, informing the favorable decision to approve my request for leave in 2022 so that I can complete my doctoral activities. Fortaleza, December 21, 2021   __________________________________   (Signature)   REQUEST FOR EXTENSION OF ABSENCE 1Documents that appear in this file.   I would like to inform you that in addition to the \\\"Request for Approval from the Head of the Department of Computer Science\\\", the following documents are attached:   1. Request for renewal of leave to the Rector 2. Declaration of Requirements and workload for the MDCC / UFC Doctoral Degree 3. Approval of the request for renewal from the MDCC / UFC Coordinator 4. Approval of the request for renewal from the Advisor 5. Biannual certificate of attendance 2021.1 6. Biannual certificate of attendance 2021.2 7. Biannual performance evaluation 2021.1 8. Biannual performance evaluation 2021.2 9. Term of commitment 10. Biannual activity report 2021.1 11. Biannual activity report 2021.2 12. Certificate of enrollment 2021.2 13. Statement of enrollment 2021.2 14. Updated transcript 15. FUNCAP scholarship declaration (Cearense Foundation for the Support of Scientific and Technological Development)   Fortaleza, December 21, 2021   __________________________________   (Signature)   Attached Documents 2TO THE MAGNIFICENT RECTOR OF THE FEDERAL UNIVERSITY OF PIAU\\u00cd  Magnificent Rector,   \\u2028 I, Armando Soares Sousa, Registration UFPI 1886865, assigned to the Computer Science Department of the Center for Natural Science of the Federal University of Piau\\u00ed, request Your Magnificence to authorize the EXTENSION OF LEAVE OF ABSENCE in order to continue the Postgraduate course in Computer Science at the Doctoral level in the (Concentration Area: Computer Science) at the Federal University of Cear\\u00e1, for an additional 6 (six) months, starting on 02/23/2022, in accordance with Resolution No. 186/06-CEPEX.   Fortaleza, December 22, 2021 __________________________________   (Signature)   Contact: (86) 994693558 / armando@ufpi.edu.br   REQUEST FOR EXTENSION OF ABSENCE 3 \\nMINISTRY OF EDUCATION   FEDERAL UNIVERSITY OF CEAR\\u00c1  \\nCENTER FOR SCIENCES   COMPUTER SCIENCE DEPARTMENT  \\nMASTERS AND DOCTORATE IN COMPUTER SCIENCE   \\n \\nSTATEMENT \\nIn compliance with the corresponding objectives, we declare that the Computer Sciences Post-Graduate Program at the Federal University of Cear\\u00e1 (MDCC / UFC) requires the fulfillment / approval of the following requisites\\u00a0in\\u00a0order to conclude the Doctoral Degree:  \\n* Attend at least 12 disciplines (48 credits) - 768h \\n* 02 Teaching Internships (08 credits) - 128h \\n* 01 Proficiency in English (01 credit) - 16h \\n* Defense of Doctoral Qualification (01 credit) - 16h \\n* Defense of Doctoral Proposal (02 credits) - 32h \\n* Defense of the Thesis (12 credits) - 192h \\n \\nTotal credits required: 72 \\nTotal workload required: 1,152h \\n \\n \\nFortaleza, January 25, 2021. \\n \\n \\n_____________________________________ \\nProfessor Jo\\u00e3o Paulo Pordeus Gomes \\nCoordinator of the Computer Science Post-Graduate Program / UFC \\n \\n \\n  \\nPici Campus - Building 910 - ZIP Code: 60440-900 - Fortaleza / Cear\\u00e1  \\nPhone: (85) 3366-9847 - Email: \\u200bsecretaria@mdcc.ufc.br   \\n \\n Declarac \\u0327a\\u0303o_Requisitos_e_carga_horaria_Doutorado 4APPROVAL OF REQUEST FOR EXTENSION OF LEAVE I, Professor Dr. Jo\\u00e3o Paulo Pordeus Gomes, Coordinator of the Computer Science Post-Graduate Program of the Federal University of Cear\\u00e1 (UFC), hereby express my approval for the extension of leave for an additional 6 (six) months, starting on 02/23/2022, of the student Armando Soares Sousa, duly enrolled, in the current semester (2021.2) in the doctoral program in Computer Science at the Federal University of Cear\\u00e1 (UFC) and advised by Professor Dr. Lincoln Souza Rocha. With this, the aforementioned student will be able to complete with quality the curricular components \\\"Doctoral Thesis Proposal\\\" and \\\"Thesis\\\". The justification is that due to the adversities caused by the Corona Virus pandemic, in the years 2020 and 2021, the on-site activities of this university were suspended and the research laboratories were closed, directly impacting the research activities of the postgraduate courses at this university. With this, there was an extension in the deadlines for postgraduate courses stricto sensu of the UFC according to Circular 1/2020/PRPPG/UFC of 04/30/2020, Circular 10/2020-CGSI/DPB/CAPES/UFC of 04/30/2020 and extension of the deadline according to Official Letter 14/2021/PRPPG/DIV_ENSINO/PRPPG/CENS/PRPPG/REITORIA, dated July 14, 2021 from the Federal University of Cear\\u00e1. Additionally, I would like to inform you that the aforementioned student, within this 4-year period (2018, 2019, 2020, 2021), completed and passed the required disciplines, language proficiency, teaching internship activities, and the Qualification exam. Place and date: ________________, ___/___/_____ _____________________________________ Professor Dr. Jo\\u00e3o Paulo Pordeus Gomes Coordinator of the Computer Science Post-Graduate Program - UFC\\nCoordenador - Concorda \\u0302ncia Pedido Renovac \\u0327a\\u0303o Afastamento 5APPROVAL OF REQUEST FOR EXTENSION OF LEAVE I, Professor Dr. Lincoln Souza Rocha, advisor of the student Armando Soares Sousa, duly enrolled, in the current semester (2021.2) in the doctoral program in Computer Science at the Federal University of Cear\\u00e1 (UFC), hereby express my approval for the extension of leave for an additional 6 (six) months starting on 02/23/2022, so that the aforementioned student can complete with quality the curricular components \\\"Doctoral Thesis Proposal\\\" and \\\"Thesis\\\". Additionally, I would like to inform you that the aforementioned student, within this 4-year period (2018, 2019, 2020, 2021), completed and passed the required disciplines, language proficiency, teaching internship activities, and the Qualification exam. Place and date: ________________, ___/___/_____ _____________________________________ Lincoln Souza Rocha Signature of the Advisor\\nOrientador - Concorda \\u0302ncia Pedido Renovac \\u0327a\\u0303o Afastamento-Ass 6BIANNUAL CERTIFICATE OF STUDENT ATTENDANCE We confirm, for the purposes of proof with CPSS / PRPG / UFPI, that Mr. (Ms.) Armando Soares Sousa, student enrolled in the Postgraduate program in Computer Science in the concentration area of Computer Science at the Doctoral level, participated regularly in the activities of the Course, in the 1st [x] or 2nd [ ] semester of: 2021.  This certificate is intended to comply with the UFPI regulations regarding leave of absence for Postgraduate studies.   Due to the adversities caused by the Corona Virus pandemic, in the years 2020 and 2021, the on-site activities of the Federal University of Cear\\u00e1 were suspended and the research laboratories were closed. With this, the activities have been carried out remotely and are supported by the following documents: Circular 1/2020/ PRPPG / UFC of 04/30/2020, Circular 10/2020-CGSI / DPB / CAPES / UFC of 04/30/2020, and extension of the deadline according to Official Letter 14/2021/PRPPG/DIV_ENSINO/PRPPG/CENS/ PRPPG/REITORIA, dated July 14, 2021.  The period 202\"\n",
            "              }\n",
            "            ],\n",
            "            \"role\": \"model\"\n",
            "          },\n",
            "          \"finish_reason\": \"STOP\",\n",
            "          \"index\": 0,\n",
            "          \"safety_ratings\": [\n",
            "            {\n",
            "              \"category\": \"HARM_CATEGORY_SEXUALLY_EXPLICIT\",\n",
            "              \"probability\": \"NEGLIGIBLE\"\n",
            "            },\n",
            "            {\n",
            "              \"category\": \"HARM_CATEGORY_HATE_SPEECH\",\n",
            "              \"probability\": \"NEGLIGIBLE\"\n",
            "            },\n",
            "            {\n",
            "              \"category\": \"HARM_CATEGORY_HARASSMENT\",\n",
            "              \"probability\": \"NEGLIGIBLE\"\n",
            "            },\n",
            "            {\n",
            "              \"category\": \"HARM_CATEGORY_DANGEROUS_CONTENT\",\n",
            "              \"probability\": \"NEGLIGIBLE\"\n",
            "            }\n",
            "          ]\n",
            "        }\n",
            "      ],\n",
            "      \"usage_metadata\": {\n",
            "        \"prompt_token_count\": 10400,\n",
            "        \"candidates_token_count\": 2048,\n",
            "        \"total_token_count\": 12448\n",
            "      }\n",
            "    }),\n",
            ")\n",
            "Tempo de resposta: 0:00:31.276438\n"
          ]
        }
      ]
    },
    {
      "cell_type": "code",
      "source": [
        "minha_traducao_01 = get_text_from_response(response_text_in_english)\n",
        "print(minha_traducao_01)"
      ],
      "metadata": {
        "id": "E-ymIcoj_mhA",
        "outputId": "0404896a-1d5f-43a1-a270-1bd36cef7bbc",
        "colab": {
          "base_uri": "https://localhost:8080/"
        }
      },
      "execution_count": 13,
      "outputs": [
        {
          "output_type": "stream",
          "name": "stdout",
          "text": [
            "TO THE HEAD OF THE COMPUTER SCIENCE DEPARTMENT   OF THE FEDERAL UNIVERSITY OF PIAUÍ   Dear Head of the Department, I, Armando Soares Sousa, Registration UFPI 1886865, assigned to the Computer Science Department of the Center for Natural Science of the Federal University of Piauí, request your approval for the EXTENSION OF MY LEAVE OF ABSENCE in order to continue the Postgraduate course in Computer Science at the Doctoral level in the (Concentration Area: Computer Science) at the Federal University of Ceará, for an additional 6 (six) months, starting on 02/23/2022, in accordance with Resolution No. 186/06-CEPEX. Furthermore, I would like you to attach to my request the document referring to the 2022 qualifying plan approved by the Departmental Assembly, informing the favorable decision to approve my request for leave in 2022 so that I can complete my doctoral activities. Fortaleza, December 21, 2021   __________________________________   (Signature)   REQUEST FOR EXTENSION OF ABSENCE 1Documents that appear in this file.   I would like to inform you that in addition to the \"Request for Approval from the Head of the Department of Computer Science\", the following documents are attached:   1. Request for renewal of leave to the Rector 2. Declaration of Requirements and workload for the MDCC / UFC Doctoral Degree 3. Approval of the request for renewal from the MDCC / UFC Coordinator 4. Approval of the request for renewal from the Advisor 5. Biannual certificate of attendance 2021.1 6. Biannual certificate of attendance 2021.2 7. Biannual performance evaluation 2021.1 8. Biannual performance evaluation 2021.2 9. Term of commitment 10. Biannual activity report 2021.1 11. Biannual activity report 2021.2 12. Certificate of enrollment 2021.2 13. Statement of enrollment 2021.2 14. Updated transcript 15. FUNCAP scholarship declaration (Cearense Foundation for the Support of Scientific and Technological Development)   Fortaleza, December 21, 2021   __________________________________   (Signature)   Attached Documents 2TO THE MAGNIFICENT RECTOR OF THE FEDERAL UNIVERSITY OF PIAUÍ  Magnificent Rector,     I, Armando Soares Sousa, Registration UFPI 1886865, assigned to the Computer Science Department of the Center for Natural Science of the Federal University of Piauí, request Your Magnificence to authorize the EXTENSION OF LEAVE OF ABSENCE in order to continue the Postgraduate course in Computer Science at the Doctoral level in the (Concentration Area: Computer Science) at the Federal University of Ceará, for an additional 6 (six) months, starting on 02/23/2022, in accordance with Resolution No. 186/06-CEPEX.   Fortaleza, December 22, 2021 __________________________________   (Signature)   Contact: (86) 994693558 / armando@ufpi.edu.br   REQUEST FOR EXTENSION OF ABSENCE 3 \n",
            "MINISTRY OF EDUCATION   FEDERAL UNIVERSITY OF CEARÁ  \n",
            "CENTER FOR SCIENCES   COMPUTER SCIENCE DEPARTMENT  \n",
            "MASTERS AND DOCTORATE IN COMPUTER SCIENCE   \n",
            " \n",
            "STATEMENT \n",
            "In compliance with the corresponding objectives, we declare that the Computer Sciences Post-Graduate Program at the Federal University of Ceará (MDCC / UFC) requires the fulfillment / approval of the following requisites in order to conclude the Doctoral Degree:  \n",
            "* Attend at least 12 disciplines (48 credits) - 768h \n",
            "* 02 Teaching Internships (08 credits) - 128h \n",
            "* 01 Proficiency in English (01 credit) - 16h \n",
            "* Defense of Doctoral Qualification (01 credit) - 16h \n",
            "* Defense of Doctoral Proposal (02 credits) - 32h \n",
            "* Defense of the Thesis (12 credits) - 192h \n",
            " \n",
            "Total credits required: 72 \n",
            "Total workload required: 1,152h \n",
            " \n",
            " \n",
            "Fortaleza, January 25, 2021. \n",
            " \n",
            " \n",
            "_____________________________________ \n",
            "Professor João Paulo Pordeus Gomes \n",
            "Coordinator of the Computer Science Post-Graduate Program / UFC \n",
            " \n",
            " \n",
            "  \n",
            "Pici Campus - Building 910 - ZIP Code: 60440-900 - Fortaleza / Ceará  \n",
            "Phone: (85) 3366-9847 - Email: ​secretaria@mdcc.ufc.br   \n",
            " \n",
            " Declarac ̧ão_Requisitos_e_carga_horaria_Doutorado 4APPROVAL OF REQUEST FOR EXTENSION OF LEAVE I, Professor Dr. João Paulo Pordeus Gomes, Coordinator of the Computer Science Post-Graduate Program of the Federal University of Ceará (UFC), hereby express my approval for the extension of leave for an additional 6 (six) months, starting on 02/23/2022, of the student Armando Soares Sousa, duly enrolled, in the current semester (2021.2) in the doctoral program in Computer Science at the Federal University of Ceará (UFC) and advised by Professor Dr. Lincoln Souza Rocha. With this, the aforementioned student will be able to complete with quality the curricular components \"Doctoral Thesis Proposal\" and \"Thesis\". The justification is that due to the adversities caused by the Corona Virus pandemic, in the years 2020 and 2021, the on-site activities of this university were suspended and the research laboratories were closed, directly impacting the research activities of the postgraduate courses at this university. With this, there was an extension in the deadlines for postgraduate courses stricto sensu of the UFC according to Circular 1/2020/PRPPG/UFC of 04/30/2020, Circular 10/2020-CGSI/DPB/CAPES/UFC of 04/30/2020 and extension of the deadline according to Official Letter 14/2021/PRPPG/DIV_ENSINO/PRPPG/CENS/PRPPG/REITORIA, dated July 14, 2021 from the Federal University of Ceará. Additionally, I would like to inform you that the aforementioned student, within this 4-year period (2018, 2019, 2020, 2021), completed and passed the required disciplines, language proficiency, teaching internship activities, and the Qualification exam. Place and date: ________________, ___/___/_____ _____________________________________ Professor Dr. João Paulo Pordeus Gomes Coordinator of the Computer Science Post-Graduate Program - UFC\n",
            "Coordenador - Concorda ̂ncia Pedido Renovac ̧ão Afastamento 5APPROVAL OF REQUEST FOR EXTENSION OF LEAVE I, Professor Dr. Lincoln Souza Rocha, advisor of the student Armando Soares Sousa, duly enrolled, in the current semester (2021.2) in the doctoral program in Computer Science at the Federal University of Ceará (UFC), hereby express my approval for the extension of leave for an additional 6 (six) months starting on 02/23/2022, so that the aforementioned student can complete with quality the curricular components \"Doctoral Thesis Proposal\" and \"Thesis\". Additionally, I would like to inform you that the aforementioned student, within this 4-year period (2018, 2019, 2020, 2021), completed and passed the required disciplines, language proficiency, teaching internship activities, and the Qualification exam. Place and date: ________________, ___/___/_____ _____________________________________ Lincoln Souza Rocha Signature of the Advisor\n",
            "Orientador - Concorda ̂ncia Pedido Renovac ̧ão Afastamento-Ass 6BIANNUAL CERTIFICATE OF STUDENT ATTENDANCE We confirm, for the purposes of proof with CPSS / PRPG / UFPI, that Mr. (Ms.) Armando Soares Sousa, student enrolled in the Postgraduate program in Computer Science in the concentration area of Computer Science at the Doctoral level, participated regularly in the activities of the Course, in the 1st [x] or 2nd [ ] semester of: 2021.  This certificate is intended to comply with the UFPI regulations regarding leave of absence for Postgraduate studies.   Due to the adversities caused by the Corona Virus pandemic, in the years 2020 and 2021, the on-site activities of the Federal University of Ceará were suspended and the research laboratories were closed. With this, the activities have been carried out remotely and are supported by the following documents: Circular 1/2020/ PRPPG / UFC of 04/30/2020, Circular 10/2020-CGSI / DPB / CAPES / UFC of 04/30/2020, and extension of the deadline according to Official Letter 14/2021/PRPPG/DIV_ENSINO/PRPPG/CENS/ PRPPG/REITORIA, dated July 14, 2021.  The period 202\n"
          ]
        }
      ]
    },
    {
      "cell_type": "markdown",
      "source": [
        "## Faz o resumo do texto em inglês\n",
        "\n",
        "Usando o Transformers do Hugging Face"
      ],
      "metadata": {
        "id": "bVUVbeRLSHuQ"
      }
    },
    {
      "cell_type": "markdown",
      "source": [
        "### Carrega o pipeline do Hugging Face"
      ],
      "metadata": {
        "id": "RRItrp30SUL0"
      }
    },
    {
      "cell_type": "code",
      "source": [
        "# Load the summarization pipeline. Set facebook/bart-large-cnn as the model to use for summarization\n",
        "summarizer = pipeline(\"summarization\", model=\"facebook/bart-large-cnn\")"
      ],
      "metadata": {
        "id": "vRCGQ1JPSOFg",
        "outputId": "9b6ddefa-ea09-45a5-f567-1f37554b990e",
        "colab": {
          "base_uri": "https://localhost:8080/",
          "height": 368,
          "referenced_widgets": [
            "5e80c2ad746e49de953b3c799c92f04c",
            "2b208a7f767e4e8783637fc19eba68e2",
            "5e81407fe5b249a7ad531800e91eaa9f",
            "79456039c8e5489ba0dce7f506517b73",
            "4c788d9bbdda4db49fa6c7bd36bc4f2c",
            "ec813593b73442779cbf5bc6aa21b262",
            "ccbf5fb082f14583822f78ca6e2624a7",
            "32973a3a54134a6597b402149283d951",
            "83979b8cbc9746fda15f0c6dbacb6818",
            "58e52d8ab0b945239bb48bd96721e7d2",
            "b88ba534c27f473eab736dbd34fbc5a1",
            "968f7500ab164067b7d97d3c98ca1fc4",
            "d0654eedab9c42b09cf371ca807a904c",
            "84b80e2cd9f14101a5bf6961b44102ac",
            "f86810797bed46f18f6e83183529e299",
            "0520532044a94492b6f73840f61af97f",
            "c57da838823a4b5d9ea99d018ae56d40",
            "6381c274d08b451b94704a8476916911",
            "2e7f58b79b164cc595383d5854b131ee",
            "41b675e1b72446498335feddb1e37336",
            "85f1d94c115f4498ae11945986edc434",
            "914e9965bdd84b68b796ed076a3b97af",
            "92b41c22ffa74f4a8ddd7fd62d949dc7",
            "5a372a81e7484345923c4a1d8571c8dd",
            "9caac11e58d242a5bac132dd2835d2c0",
            "413d3bc23eba45a5942fc50f737f0eb4",
            "1aaf066b57ad4876b19a9860ae930b9a",
            "56c210a54f2a40fe946b07e73024dd89",
            "928f9fbcc5bf426ebea80731dc6403f0",
            "0ec2f10b8bec47119fd8545f69b9b966",
            "e96ad16842f040c0875f65978978c56b",
            "f25cddb9fbb2420d977cd1e9046fabae",
            "defc5d6f5c154fc6906f82d569c21bc5",
            "59069f6be274405494b79dd4e379daee",
            "8d489d07846e42c3a8ddb19b2fa5774b",
            "0145c5bd8a554e9b81e6638a956c88a5",
            "b6313868a9b84eccb090fa747db54c52",
            "656133b39a9946b19f4c67e838679b33",
            "b6b78aae7f114e0cae4b11045bb7f5f2",
            "787bce34372c4c819bd8c7b924f1b438",
            "9762db885fb7405c83e75a061f281760",
            "f24c0b1943c143dc8efa7f3190c7026a",
            "21438bf4643a4dfa97cbfbac72a23e38",
            "2707bc042972486bb130d734c737f3db",
            "3dda1945ae5e4c88a94d0306b05c578e",
            "2e871d85a66d4b678bec4c9547b395ec",
            "409e3df27e2b4e21a8513830993df037",
            "11a759a1733d4bcd9b81428ba2e43c4d",
            "01d53385dd4f41ba8517b230f12ab5e2",
            "fc9088bea9f14605910ca91e2f899e5d",
            "1711854a2bb944c69dd9a58e29bb1054",
            "b82cc9aa69214dc1ac1459c54b4ebf0a",
            "7f04e0c557d348f79157a2d76e0e877a",
            "b61e6ce0d19d43bc93696eb9b9885dbe",
            "3deb687b1fcc47a3aaf3a9250a7264f7",
            "8987cbdc0c95472faaa76e920dbe0bb9",
            "e8f9bab555ad42f7948359c744d47ef8",
            "583c33dce85045838b48d56de42a5d56",
            "b5f435a37de14b53a9418f11a32181fa",
            "41bac819e83f4b0db4293e621ec550d6",
            "9a8b6870cd904461adbe32b3b388cc3f",
            "f3c6ad3d2c7b433eaa37cee832af8d3f",
            "e45d8e457c14417d972cde44e1bf2ea8",
            "2c1a018be47640eaaa7e7868e4ac7377",
            "9f312e3c835d48409fcdd98cd1db572c",
            "edc2242dec8c45f783b4f1d4f58e2ad1"
          ]
        }
      },
      "execution_count": 14,
      "outputs": [
        {
          "output_type": "stream",
          "name": "stderr",
          "text": [
            "/usr/local/lib/python3.10/dist-packages/huggingface_hub/utils/_token.py:89: UserWarning: \n",
            "The secret `HF_TOKEN` does not exist in your Colab secrets.\n",
            "To authenticate with the Hugging Face Hub, create a token in your settings tab (https://huggingface.co/settings/tokens), set it as secret in your Google Colab and restart your session.\n",
            "You will be able to reuse this secret in all of your notebooks.\n",
            "Please note that authentication is recommended but still optional to access public models or datasets.\n",
            "  warnings.warn(\n"
          ]
        },
        {
          "output_type": "display_data",
          "data": {
            "text/plain": [
              "config.json:   0%|          | 0.00/1.58k [00:00<?, ?B/s]"
            ],
            "application/vnd.jupyter.widget-view+json": {
              "version_major": 2,
              "version_minor": 0,
              "model_id": "5e80c2ad746e49de953b3c799c92f04c"
            }
          },
          "metadata": {}
        },
        {
          "output_type": "display_data",
          "data": {
            "text/plain": [
              "model.safetensors:   0%|          | 0.00/1.63G [00:00<?, ?B/s]"
            ],
            "application/vnd.jupyter.widget-view+json": {
              "version_major": 2,
              "version_minor": 0,
              "model_id": "968f7500ab164067b7d97d3c98ca1fc4"
            }
          },
          "metadata": {}
        },
        {
          "output_type": "display_data",
          "data": {
            "text/plain": [
              "generation_config.json:   0%|          | 0.00/363 [00:00<?, ?B/s]"
            ],
            "application/vnd.jupyter.widget-view+json": {
              "version_major": 2,
              "version_minor": 0,
              "model_id": "92b41c22ffa74f4a8ddd7fd62d949dc7"
            }
          },
          "metadata": {}
        },
        {
          "output_type": "display_data",
          "data": {
            "text/plain": [
              "vocab.json:   0%|          | 0.00/899k [00:00<?, ?B/s]"
            ],
            "application/vnd.jupyter.widget-view+json": {
              "version_major": 2,
              "version_minor": 0,
              "model_id": "59069f6be274405494b79dd4e379daee"
            }
          },
          "metadata": {}
        },
        {
          "output_type": "display_data",
          "data": {
            "text/plain": [
              "merges.txt:   0%|          | 0.00/456k [00:00<?, ?B/s]"
            ],
            "application/vnd.jupyter.widget-view+json": {
              "version_major": 2,
              "version_minor": 0,
              "model_id": "3dda1945ae5e4c88a94d0306b05c578e"
            }
          },
          "metadata": {}
        },
        {
          "output_type": "display_data",
          "data": {
            "text/plain": [
              "tokenizer.json:   0%|          | 0.00/1.36M [00:00<?, ?B/s]"
            ],
            "application/vnd.jupyter.widget-view+json": {
              "version_major": 2,
              "version_minor": 0,
              "model_id": "8987cbdc0c95472faaa76e920dbe0bb9"
            }
          },
          "metadata": {}
        },
        {
          "output_type": "stream",
          "name": "stderr",
          "text": [
            "/usr/local/lib/python3.10/dist-packages/transformers/tokenization_utils_base.py:1601: FutureWarning: `clean_up_tokenization_spaces` was not set. It will be set to `True` by default. This behavior will be depracted in transformers v4.45, and will be then set to `False` by default. For more details check this issue: https://github.com/huggingface/transformers/issues/31884\n",
            "  warnings.warn(\n"
          ]
        }
      ]
    },
    {
      "cell_type": "code",
      "source": [
        "len(minha_traducao_01)"
      ],
      "metadata": {
        "id": "T3LVOjsFTB6q",
        "outputId": "27a0279b-667b-4a5a-ed3a-dda038a74e27",
        "colab": {
          "base_uri": "https://localhost:8080/"
        }
      },
      "execution_count": 15,
      "outputs": [
        {
          "output_type": "execute_result",
          "data": {
            "text/plain": [
              "7817"
            ]
          },
          "metadata": {},
          "execution_count": 15
        }
      ]
    },
    {
      "cell_type": "code",
      "source": [
        "teste_parte_traducao = minha_traducao_01[:3000]"
      ],
      "metadata": {
        "id": "GfMBKdjEV1SK"
      },
      "execution_count": 18,
      "outputs": []
    },
    {
      "cell_type": "code",
      "source": [
        "my_summary = summarizer(teste_parte_traducao)"
      ],
      "metadata": {
        "id": "qRRTs7qmSwHG"
      },
      "execution_count": 19,
      "outputs": []
    },
    {
      "cell_type": "code",
      "source": [
        "# Print the summary\n",
        "print(my_summary[0]['summary_text'])"
      ],
      "metadata": {
        "id": "EYjiSUTwVoMI",
        "outputId": "cbb63735-ed25-4f82-cde1-1c77025e7574",
        "colab": {
          "base_uri": "https://localhost:8080/"
        }
      },
      "execution_count": 20,
      "outputs": [
        {
          "output_type": "stream",
          "name": "stdout",
          "text": [
            "I, Armando Soares Sousa, want to continue the Postgraduate course in Computer Science at the Doctoral level in the (Concentration Area: Computer Science) at the Federal University of Ceará, for an additional 6 (six) months, starting on 02/23/2022. I would like to inform you that in addition to the \"Request for Approval from the Head of the Department of Computer Science\", the following documents are attached.\n"
          ]
        }
      ]
    },
    {
      "cell_type": "markdown",
      "source": [
        "## Traduz o resumo para o português"
      ],
      "metadata": {
        "id": "bWjgLnITXXNW"
      }
    },
    {
      "cell_type": "code",
      "source": [
        "summary_in_english = my_summary[0]['summary_text']\n",
        "print(type(summary_in_english))\n",
        "print(summary_in_english)"
      ],
      "metadata": {
        "id": "qGWkGwQNX9gw",
        "outputId": "7adb2b79-e051-4282-e2a4-f37ec84e5eb5",
        "colab": {
          "base_uri": "https://localhost:8080/"
        }
      },
      "execution_count": 21,
      "outputs": [
        {
          "output_type": "stream",
          "name": "stdout",
          "text": [
            "<class 'str'>\n",
            "I, Armando Soares Sousa, want to continue the Postgraduate course in Computer Science at the Doctoral level in the (Concentration Area: Computer Science) at the Federal University of Ceará, for an additional 6 (six) months, starting on 02/23/2022. I would like to inform you that in addition to the \"Request for Approval from the Head of the Department of Computer Science\", the following documents are attached.\n"
          ]
        }
      ]
    },
    {
      "cell_type": "code",
      "source": [
        "pergunte_ao_gemini2 = \"Translate the following text from english to portuguese: \"\n",
        "prompt_text2 = f\"{pergunte_ao_gemini2}{summary_in_english}\"\n",
        "response_summary_in_english = request_to_gemini(prompt_text2)"
      ],
      "metadata": {
        "id": "tmFN1jXbXbwa",
        "outputId": "4b7bd4ef-c5f8-4c6d-96a4-b800c7d604bb",
        "colab": {
          "base_uri": "https://localhost:8080/",
          "height": 836
        }
      },
      "execution_count": 22,
      "outputs": [
        {
          "output_type": "stream",
          "name": "stdout",
          "text": [
            "Aguarde...\n",
            "response:\n",
            "GenerateContentResponse(\n",
            "    done=True,\n",
            "    iterator=None,\n",
            "    result=protos.GenerateContentResponse({\n",
            "      \"candidates\": [\n",
            "        {\n",
            "          \"content\": {\n",
            "            \"parts\": [\n",
            "              {\n",
            "                \"text\": \"Eu, Armando Soares Sousa, solicito prorroga\\u00e7\\u00e3o de prazo do curso de P\\u00f3s-Gradua\\u00e7\\u00e3o em Ci\\u00eancia da Computa\\u00e7\\u00e3o, n\\u00edvel Doutorado, na \\u00c1rea de Concentra\\u00e7\\u00e3o: Ci\\u00eancia da Computa\\u00e7\\u00e3o, na Universidade Federal do Cear\\u00e1, por mais 6 (seis) meses, a partir de 23/02/2022. Esclare\\u00e7o que al\\u00e9m do \\\"Requerimento para Prorroga\\u00e7\\u00e3o Submetido ao Chefe do Departamento de Ci\\u00eancia da Computa\\u00e7\\u00e3o\\\" segue anexo os documentos.\"\n",
            "              }\n",
            "            ],\n",
            "            \"role\": \"model\"\n",
            "          },\n",
            "          \"finish_reason\": \"STOP\",\n",
            "          \"index\": 0,\n",
            "          \"safety_ratings\": [\n",
            "            {\n",
            "              \"category\": \"HARM_CATEGORY_SEXUALLY_EXPLICIT\",\n",
            "              \"probability\": \"NEGLIGIBLE\"\n",
            "            },\n",
            "            {\n",
            "              \"category\": \"HARM_CATEGORY_HATE_SPEECH\",\n",
            "              \"probability\": \"NEGLIGIBLE\"\n",
            "            },\n",
            "            {\n",
            "              \"category\": \"HARM_CATEGORY_HARASSMENT\",\n",
            "              \"probability\": \"NEGLIGIBLE\"\n",
            "            },\n",
            "            {\n",
            "              \"category\": \"HARM_CATEGORY_DANGEROUS_CONTENT\",\n",
            "              \"probability\": \"NEGLIGIBLE\"\n",
            "            }\n",
            "          ]\n",
            "        }\n",
            "      ],\n",
            "      \"usage_metadata\": {\n",
            "        \"prompt_token_count\": 101,\n",
            "        \"candidates_token_count\": 113,\n",
            "        \"total_token_count\": 214\n",
            "      }\n",
            "    }),\n",
            ")\n",
            "Tempo de resposta: 0:00:04.531375\n"
          ]
        }
      ]
    },
    {
      "cell_type": "code",
      "source": [
        "get_text_from_response(response_texto=response_summary_in_english)"
      ],
      "metadata": {
        "id": "iYnJCoxhYcli",
        "outputId": "0361dea5-ae30-40ac-a871-285b16dcfa0d",
        "colab": {
          "base_uri": "https://localhost:8080/",
          "height": 70
        }
      },
      "execution_count": 23,
      "outputs": [
        {
          "output_type": "execute_result",
          "data": {
            "text/plain": [
              "'Eu, Armando Soares Sousa, solicito prorrogação de prazo do curso de Pós-Graduação em Ciência da Computação, nível Doutorado, na Área de Concentração: Ciência da Computação, na Universidade Federal do Ceará, por mais 6 (seis) meses, a partir de 23/02/2022. Esclareço que além do \"Requerimento para Prorrogação Submetido ao Chefe do Departamento de Ciência da Computação\" segue anexo os documentos.'"
            ],
            "application/vnd.google.colaboratory.intrinsic+json": {
              "type": "string"
            }
          },
          "metadata": {},
          "execution_count": 23
        }
      ]
    }
  ],
  "metadata": {
    "colab": {
      "provenance": [],
      "include_colab_link": true
    },
    "kernelspec": {
      "display_name": "Python 3",
      "name": "python3"
    },
    "widgets": {
      "application/vnd.jupyter.widget-state+json": {
        "5e80c2ad746e49de953b3c799c92f04c": {
          "model_module": "@jupyter-widgets/controls",
          "model_name": "HBoxModel",
          "model_module_version": "1.5.0",
          "state": {
            "_dom_classes": [],
            "_model_module": "@jupyter-widgets/controls",
            "_model_module_version": "1.5.0",
            "_model_name": "HBoxModel",
            "_view_count": null,
            "_view_module": "@jupyter-widgets/controls",
            "_view_module_version": "1.5.0",
            "_view_name": "HBoxView",
            "box_style": "",
            "children": [
              "IPY_MODEL_2b208a7f767e4e8783637fc19eba68e2",
              "IPY_MODEL_5e81407fe5b249a7ad531800e91eaa9f",
              "IPY_MODEL_79456039c8e5489ba0dce7f506517b73"
            ],
            "layout": "IPY_MODEL_4c788d9bbdda4db49fa6c7bd36bc4f2c"
          }
        },
        "2b208a7f767e4e8783637fc19eba68e2": {
          "model_module": "@jupyter-widgets/controls",
          "model_name": "HTMLModel",
          "model_module_version": "1.5.0",
          "state": {
            "_dom_classes": [],
            "_model_module": "@jupyter-widgets/controls",
            "_model_module_version": "1.5.0",
            "_model_name": "HTMLModel",
            "_view_count": null,
            "_view_module": "@jupyter-widgets/controls",
            "_view_module_version": "1.5.0",
            "_view_name": "HTMLView",
            "description": "",
            "description_tooltip": null,
            "layout": "IPY_MODEL_ec813593b73442779cbf5bc6aa21b262",
            "placeholder": "​",
            "style": "IPY_MODEL_ccbf5fb082f14583822f78ca6e2624a7",
            "value": "config.json: 100%"
          }
        },
        "5e81407fe5b249a7ad531800e91eaa9f": {
          "model_module": "@jupyter-widgets/controls",
          "model_name": "FloatProgressModel",
          "model_module_version": "1.5.0",
          "state": {
            "_dom_classes": [],
            "_model_module": "@jupyter-widgets/controls",
            "_model_module_version": "1.5.0",
            "_model_name": "FloatProgressModel",
            "_view_count": null,
            "_view_module": "@jupyter-widgets/controls",
            "_view_module_version": "1.5.0",
            "_view_name": "ProgressView",
            "bar_style": "success",
            "description": "",
            "description_tooltip": null,
            "layout": "IPY_MODEL_32973a3a54134a6597b402149283d951",
            "max": 1585,
            "min": 0,
            "orientation": "horizontal",
            "style": "IPY_MODEL_83979b8cbc9746fda15f0c6dbacb6818",
            "value": 1585
          }
        },
        "79456039c8e5489ba0dce7f506517b73": {
          "model_module": "@jupyter-widgets/controls",
          "model_name": "HTMLModel",
          "model_module_version": "1.5.0",
          "state": {
            "_dom_classes": [],
            "_model_module": "@jupyter-widgets/controls",
            "_model_module_version": "1.5.0",
            "_model_name": "HTMLModel",
            "_view_count": null,
            "_view_module": "@jupyter-widgets/controls",
            "_view_module_version": "1.5.0",
            "_view_name": "HTMLView",
            "description": "",
            "description_tooltip": null,
            "layout": "IPY_MODEL_58e52d8ab0b945239bb48bd96721e7d2",
            "placeholder": "​",
            "style": "IPY_MODEL_b88ba534c27f473eab736dbd34fbc5a1",
            "value": " 1.58k/1.58k [00:00&lt;00:00, 72.2kB/s]"
          }
        },
        "4c788d9bbdda4db49fa6c7bd36bc4f2c": {
          "model_module": "@jupyter-widgets/base",
          "model_name": "LayoutModel",
          "model_module_version": "1.2.0",
          "state": {
            "_model_module": "@jupyter-widgets/base",
            "_model_module_version": "1.2.0",
            "_model_name": "LayoutModel",
            "_view_count": null,
            "_view_module": "@jupyter-widgets/base",
            "_view_module_version": "1.2.0",
            "_view_name": "LayoutView",
            "align_content": null,
            "align_items": null,
            "align_self": null,
            "border": null,
            "bottom": null,
            "display": null,
            "flex": null,
            "flex_flow": null,
            "grid_area": null,
            "grid_auto_columns": null,
            "grid_auto_flow": null,
            "grid_auto_rows": null,
            "grid_column": null,
            "grid_gap": null,
            "grid_row": null,
            "grid_template_areas": null,
            "grid_template_columns": null,
            "grid_template_rows": null,
            "height": null,
            "justify_content": null,
            "justify_items": null,
            "left": null,
            "margin": null,
            "max_height": null,
            "max_width": null,
            "min_height": null,
            "min_width": null,
            "object_fit": null,
            "object_position": null,
            "order": null,
            "overflow": null,
            "overflow_x": null,
            "overflow_y": null,
            "padding": null,
            "right": null,
            "top": null,
            "visibility": null,
            "width": null
          }
        },
        "ec813593b73442779cbf5bc6aa21b262": {
          "model_module": "@jupyter-widgets/base",
          "model_name": "LayoutModel",
          "model_module_version": "1.2.0",
          "state": {
            "_model_module": "@jupyter-widgets/base",
            "_model_module_version": "1.2.0",
            "_model_name": "LayoutModel",
            "_view_count": null,
            "_view_module": "@jupyter-widgets/base",
            "_view_module_version": "1.2.0",
            "_view_name": "LayoutView",
            "align_content": null,
            "align_items": null,
            "align_self": null,
            "border": null,
            "bottom": null,
            "display": null,
            "flex": null,
            "flex_flow": null,
            "grid_area": null,
            "grid_auto_columns": null,
            "grid_auto_flow": null,
            "grid_auto_rows": null,
            "grid_column": null,
            "grid_gap": null,
            "grid_row": null,
            "grid_template_areas": null,
            "grid_template_columns": null,
            "grid_template_rows": null,
            "height": null,
            "justify_content": null,
            "justify_items": null,
            "left": null,
            "margin": null,
            "max_height": null,
            "max_width": null,
            "min_height": null,
            "min_width": null,
            "object_fit": null,
            "object_position": null,
            "order": null,
            "overflow": null,
            "overflow_x": null,
            "overflow_y": null,
            "padding": null,
            "right": null,
            "top": null,
            "visibility": null,
            "width": null
          }
        },
        "ccbf5fb082f14583822f78ca6e2624a7": {
          "model_module": "@jupyter-widgets/controls",
          "model_name": "DescriptionStyleModel",
          "model_module_version": "1.5.0",
          "state": {
            "_model_module": "@jupyter-widgets/controls",
            "_model_module_version": "1.5.0",
            "_model_name": "DescriptionStyleModel",
            "_view_count": null,
            "_view_module": "@jupyter-widgets/base",
            "_view_module_version": "1.2.0",
            "_view_name": "StyleView",
            "description_width": ""
          }
        },
        "32973a3a54134a6597b402149283d951": {
          "model_module": "@jupyter-widgets/base",
          "model_name": "LayoutModel",
          "model_module_version": "1.2.0",
          "state": {
            "_model_module": "@jupyter-widgets/base",
            "_model_module_version": "1.2.0",
            "_model_name": "LayoutModel",
            "_view_count": null,
            "_view_module": "@jupyter-widgets/base",
            "_view_module_version": "1.2.0",
            "_view_name": "LayoutView",
            "align_content": null,
            "align_items": null,
            "align_self": null,
            "border": null,
            "bottom": null,
            "display": null,
            "flex": null,
            "flex_flow": null,
            "grid_area": null,
            "grid_auto_columns": null,
            "grid_auto_flow": null,
            "grid_auto_rows": null,
            "grid_column": null,
            "grid_gap": null,
            "grid_row": null,
            "grid_template_areas": null,
            "grid_template_columns": null,
            "grid_template_rows": null,
            "height": null,
            "justify_content": null,
            "justify_items": null,
            "left": null,
            "margin": null,
            "max_height": null,
            "max_width": null,
            "min_height": null,
            "min_width": null,
            "object_fit": null,
            "object_position": null,
            "order": null,
            "overflow": null,
            "overflow_x": null,
            "overflow_y": null,
            "padding": null,
            "right": null,
            "top": null,
            "visibility": null,
            "width": null
          }
        },
        "83979b8cbc9746fda15f0c6dbacb6818": {
          "model_module": "@jupyter-widgets/controls",
          "model_name": "ProgressStyleModel",
          "model_module_version": "1.5.0",
          "state": {
            "_model_module": "@jupyter-widgets/controls",
            "_model_module_version": "1.5.0",
            "_model_name": "ProgressStyleModel",
            "_view_count": null,
            "_view_module": "@jupyter-widgets/base",
            "_view_module_version": "1.2.0",
            "_view_name": "StyleView",
            "bar_color": null,
            "description_width": ""
          }
        },
        "58e52d8ab0b945239bb48bd96721e7d2": {
          "model_module": "@jupyter-widgets/base",
          "model_name": "LayoutModel",
          "model_module_version": "1.2.0",
          "state": {
            "_model_module": "@jupyter-widgets/base",
            "_model_module_version": "1.2.0",
            "_model_name": "LayoutModel",
            "_view_count": null,
            "_view_module": "@jupyter-widgets/base",
            "_view_module_version": "1.2.0",
            "_view_name": "LayoutView",
            "align_content": null,
            "align_items": null,
            "align_self": null,
            "border": null,
            "bottom": null,
            "display": null,
            "flex": null,
            "flex_flow": null,
            "grid_area": null,
            "grid_auto_columns": null,
            "grid_auto_flow": null,
            "grid_auto_rows": null,
            "grid_column": null,
            "grid_gap": null,
            "grid_row": null,
            "grid_template_areas": null,
            "grid_template_columns": null,
            "grid_template_rows": null,
            "height": null,
            "justify_content": null,
            "justify_items": null,
            "left": null,
            "margin": null,
            "max_height": null,
            "max_width": null,
            "min_height": null,
            "min_width": null,
            "object_fit": null,
            "object_position": null,
            "order": null,
            "overflow": null,
            "overflow_x": null,
            "overflow_y": null,
            "padding": null,
            "right": null,
            "top": null,
            "visibility": null,
            "width": null
          }
        },
        "b88ba534c27f473eab736dbd34fbc5a1": {
          "model_module": "@jupyter-widgets/controls",
          "model_name": "DescriptionStyleModel",
          "model_module_version": "1.5.0",
          "state": {
            "_model_module": "@jupyter-widgets/controls",
            "_model_module_version": "1.5.0",
            "_model_name": "DescriptionStyleModel",
            "_view_count": null,
            "_view_module": "@jupyter-widgets/base",
            "_view_module_version": "1.2.0",
            "_view_name": "StyleView",
            "description_width": ""
          }
        },
        "968f7500ab164067b7d97d3c98ca1fc4": {
          "model_module": "@jupyter-widgets/controls",
          "model_name": "HBoxModel",
          "model_module_version": "1.5.0",
          "state": {
            "_dom_classes": [],
            "_model_module": "@jupyter-widgets/controls",
            "_model_module_version": "1.5.0",
            "_model_name": "HBoxModel",
            "_view_count": null,
            "_view_module": "@jupyter-widgets/controls",
            "_view_module_version": "1.5.0",
            "_view_name": "HBoxView",
            "box_style": "",
            "children": [
              "IPY_MODEL_d0654eedab9c42b09cf371ca807a904c",
              "IPY_MODEL_84b80e2cd9f14101a5bf6961b44102ac",
              "IPY_MODEL_f86810797bed46f18f6e83183529e299"
            ],
            "layout": "IPY_MODEL_0520532044a94492b6f73840f61af97f"
          }
        },
        "d0654eedab9c42b09cf371ca807a904c": {
          "model_module": "@jupyter-widgets/controls",
          "model_name": "HTMLModel",
          "model_module_version": "1.5.0",
          "state": {
            "_dom_classes": [],
            "_model_module": "@jupyter-widgets/controls",
            "_model_module_version": "1.5.0",
            "_model_name": "HTMLModel",
            "_view_count": null,
            "_view_module": "@jupyter-widgets/controls",
            "_view_module_version": "1.5.0",
            "_view_name": "HTMLView",
            "description": "",
            "description_tooltip": null,
            "layout": "IPY_MODEL_c57da838823a4b5d9ea99d018ae56d40",
            "placeholder": "​",
            "style": "IPY_MODEL_6381c274d08b451b94704a8476916911",
            "value": "model.safetensors: 100%"
          }
        },
        "84b80e2cd9f14101a5bf6961b44102ac": {
          "model_module": "@jupyter-widgets/controls",
          "model_name": "FloatProgressModel",
          "model_module_version": "1.5.0",
          "state": {
            "_dom_classes": [],
            "_model_module": "@jupyter-widgets/controls",
            "_model_module_version": "1.5.0",
            "_model_name": "FloatProgressModel",
            "_view_count": null,
            "_view_module": "@jupyter-widgets/controls",
            "_view_module_version": "1.5.0",
            "_view_name": "ProgressView",
            "bar_style": "success",
            "description": "",
            "description_tooltip": null,
            "layout": "IPY_MODEL_2e7f58b79b164cc595383d5854b131ee",
            "max": 1625222120,
            "min": 0,
            "orientation": "horizontal",
            "style": "IPY_MODEL_41b675e1b72446498335feddb1e37336",
            "value": 1625222120
          }
        },
        "f86810797bed46f18f6e83183529e299": {
          "model_module": "@jupyter-widgets/controls",
          "model_name": "HTMLModel",
          "model_module_version": "1.5.0",
          "state": {
            "_dom_classes": [],
            "_model_module": "@jupyter-widgets/controls",
            "_model_module_version": "1.5.0",
            "_model_name": "HTMLModel",
            "_view_count": null,
            "_view_module": "@jupyter-widgets/controls",
            "_view_module_version": "1.5.0",
            "_view_name": "HTMLView",
            "description": "",
            "description_tooltip": null,
            "layout": "IPY_MODEL_85f1d94c115f4498ae11945986edc434",
            "placeholder": "​",
            "style": "IPY_MODEL_914e9965bdd84b68b796ed076a3b97af",
            "value": " 1.63G/1.63G [00:14&lt;00:00, 149MB/s]"
          }
        },
        "0520532044a94492b6f73840f61af97f": {
          "model_module": "@jupyter-widgets/base",
          "model_name": "LayoutModel",
          "model_module_version": "1.2.0",
          "state": {
            "_model_module": "@jupyter-widgets/base",
            "_model_module_version": "1.2.0",
            "_model_name": "LayoutModel",
            "_view_count": null,
            "_view_module": "@jupyter-widgets/base",
            "_view_module_version": "1.2.0",
            "_view_name": "LayoutView",
            "align_content": null,
            "align_items": null,
            "align_self": null,
            "border": null,
            "bottom": null,
            "display": null,
            "flex": null,
            "flex_flow": null,
            "grid_area": null,
            "grid_auto_columns": null,
            "grid_auto_flow": null,
            "grid_auto_rows": null,
            "grid_column": null,
            "grid_gap": null,
            "grid_row": null,
            "grid_template_areas": null,
            "grid_template_columns": null,
            "grid_template_rows": null,
            "height": null,
            "justify_content": null,
            "justify_items": null,
            "left": null,
            "margin": null,
            "max_height": null,
            "max_width": null,
            "min_height": null,
            "min_width": null,
            "object_fit": null,
            "object_position": null,
            "order": null,
            "overflow": null,
            "overflow_x": null,
            "overflow_y": null,
            "padding": null,
            "right": null,
            "top": null,
            "visibility": null,
            "width": null
          }
        },
        "c57da838823a4b5d9ea99d018ae56d40": {
          "model_module": "@jupyter-widgets/base",
          "model_name": "LayoutModel",
          "model_module_version": "1.2.0",
          "state": {
            "_model_module": "@jupyter-widgets/base",
            "_model_module_version": "1.2.0",
            "_model_name": "LayoutModel",
            "_view_count": null,
            "_view_module": "@jupyter-widgets/base",
            "_view_module_version": "1.2.0",
            "_view_name": "LayoutView",
            "align_content": null,
            "align_items": null,
            "align_self": null,
            "border": null,
            "bottom": null,
            "display": null,
            "flex": null,
            "flex_flow": null,
            "grid_area": null,
            "grid_auto_columns": null,
            "grid_auto_flow": null,
            "grid_auto_rows": null,
            "grid_column": null,
            "grid_gap": null,
            "grid_row": null,
            "grid_template_areas": null,
            "grid_template_columns": null,
            "grid_template_rows": null,
            "height": null,
            "justify_content": null,
            "justify_items": null,
            "left": null,
            "margin": null,
            "max_height": null,
            "max_width": null,
            "min_height": null,
            "min_width": null,
            "object_fit": null,
            "object_position": null,
            "order": null,
            "overflow": null,
            "overflow_x": null,
            "overflow_y": null,
            "padding": null,
            "right": null,
            "top": null,
            "visibility": null,
            "width": null
          }
        },
        "6381c274d08b451b94704a8476916911": {
          "model_module": "@jupyter-widgets/controls",
          "model_name": "DescriptionStyleModel",
          "model_module_version": "1.5.0",
          "state": {
            "_model_module": "@jupyter-widgets/controls",
            "_model_module_version": "1.5.0",
            "_model_name": "DescriptionStyleModel",
            "_view_count": null,
            "_view_module": "@jupyter-widgets/base",
            "_view_module_version": "1.2.0",
            "_view_name": "StyleView",
            "description_width": ""
          }
        },
        "2e7f58b79b164cc595383d5854b131ee": {
          "model_module": "@jupyter-widgets/base",
          "model_name": "LayoutModel",
          "model_module_version": "1.2.0",
          "state": {
            "_model_module": "@jupyter-widgets/base",
            "_model_module_version": "1.2.0",
            "_model_name": "LayoutModel",
            "_view_count": null,
            "_view_module": "@jupyter-widgets/base",
            "_view_module_version": "1.2.0",
            "_view_name": "LayoutView",
            "align_content": null,
            "align_items": null,
            "align_self": null,
            "border": null,
            "bottom": null,
            "display": null,
            "flex": null,
            "flex_flow": null,
            "grid_area": null,
            "grid_auto_columns": null,
            "grid_auto_flow": null,
            "grid_auto_rows": null,
            "grid_column": null,
            "grid_gap": null,
            "grid_row": null,
            "grid_template_areas": null,
            "grid_template_columns": null,
            "grid_template_rows": null,
            "height": null,
            "justify_content": null,
            "justify_items": null,
            "left": null,
            "margin": null,
            "max_height": null,
            "max_width": null,
            "min_height": null,
            "min_width": null,
            "object_fit": null,
            "object_position": null,
            "order": null,
            "overflow": null,
            "overflow_x": null,
            "overflow_y": null,
            "padding": null,
            "right": null,
            "top": null,
            "visibility": null,
            "width": null
          }
        },
        "41b675e1b72446498335feddb1e37336": {
          "model_module": "@jupyter-widgets/controls",
          "model_name": "ProgressStyleModel",
          "model_module_version": "1.5.0",
          "state": {
            "_model_module": "@jupyter-widgets/controls",
            "_model_module_version": "1.5.0",
            "_model_name": "ProgressStyleModel",
            "_view_count": null,
            "_view_module": "@jupyter-widgets/base",
            "_view_module_version": "1.2.0",
            "_view_name": "StyleView",
            "bar_color": null,
            "description_width": ""
          }
        },
        "85f1d94c115f4498ae11945986edc434": {
          "model_module": "@jupyter-widgets/base",
          "model_name": "LayoutModel",
          "model_module_version": "1.2.0",
          "state": {
            "_model_module": "@jupyter-widgets/base",
            "_model_module_version": "1.2.0",
            "_model_name": "LayoutModel",
            "_view_count": null,
            "_view_module": "@jupyter-widgets/base",
            "_view_module_version": "1.2.0",
            "_view_name": "LayoutView",
            "align_content": null,
            "align_items": null,
            "align_self": null,
            "border": null,
            "bottom": null,
            "display": null,
            "flex": null,
            "flex_flow": null,
            "grid_area": null,
            "grid_auto_columns": null,
            "grid_auto_flow": null,
            "grid_auto_rows": null,
            "grid_column": null,
            "grid_gap": null,
            "grid_row": null,
            "grid_template_areas": null,
            "grid_template_columns": null,
            "grid_template_rows": null,
            "height": null,
            "justify_content": null,
            "justify_items": null,
            "left": null,
            "margin": null,
            "max_height": null,
            "max_width": null,
            "min_height": null,
            "min_width": null,
            "object_fit": null,
            "object_position": null,
            "order": null,
            "overflow": null,
            "overflow_x": null,
            "overflow_y": null,
            "padding": null,
            "right": null,
            "top": null,
            "visibility": null,
            "width": null
          }
        },
        "914e9965bdd84b68b796ed076a3b97af": {
          "model_module": "@jupyter-widgets/controls",
          "model_name": "DescriptionStyleModel",
          "model_module_version": "1.5.0",
          "state": {
            "_model_module": "@jupyter-widgets/controls",
            "_model_module_version": "1.5.0",
            "_model_name": "DescriptionStyleModel",
            "_view_count": null,
            "_view_module": "@jupyter-widgets/base",
            "_view_module_version": "1.2.0",
            "_view_name": "StyleView",
            "description_width": ""
          }
        },
        "92b41c22ffa74f4a8ddd7fd62d949dc7": {
          "model_module": "@jupyter-widgets/controls",
          "model_name": "HBoxModel",
          "model_module_version": "1.5.0",
          "state": {
            "_dom_classes": [],
            "_model_module": "@jupyter-widgets/controls",
            "_model_module_version": "1.5.0",
            "_model_name": "HBoxModel",
            "_view_count": null,
            "_view_module": "@jupyter-widgets/controls",
            "_view_module_version": "1.5.0",
            "_view_name": "HBoxView",
            "box_style": "",
            "children": [
              "IPY_MODEL_5a372a81e7484345923c4a1d8571c8dd",
              "IPY_MODEL_9caac11e58d242a5bac132dd2835d2c0",
              "IPY_MODEL_413d3bc23eba45a5942fc50f737f0eb4"
            ],
            "layout": "IPY_MODEL_1aaf066b57ad4876b19a9860ae930b9a"
          }
        },
        "5a372a81e7484345923c4a1d8571c8dd": {
          "model_module": "@jupyter-widgets/controls",
          "model_name": "HTMLModel",
          "model_module_version": "1.5.0",
          "state": {
            "_dom_classes": [],
            "_model_module": "@jupyter-widgets/controls",
            "_model_module_version": "1.5.0",
            "_model_name": "HTMLModel",
            "_view_count": null,
            "_view_module": "@jupyter-widgets/controls",
            "_view_module_version": "1.5.0",
            "_view_name": "HTMLView",
            "description": "",
            "description_tooltip": null,
            "layout": "IPY_MODEL_56c210a54f2a40fe946b07e73024dd89",
            "placeholder": "​",
            "style": "IPY_MODEL_928f9fbcc5bf426ebea80731dc6403f0",
            "value": "generation_config.json: 100%"
          }
        },
        "9caac11e58d242a5bac132dd2835d2c0": {
          "model_module": "@jupyter-widgets/controls",
          "model_name": "FloatProgressModel",
          "model_module_version": "1.5.0",
          "state": {
            "_dom_classes": [],
            "_model_module": "@jupyter-widgets/controls",
            "_model_module_version": "1.5.0",
            "_model_name": "FloatProgressModel",
            "_view_count": null,
            "_view_module": "@jupyter-widgets/controls",
            "_view_module_version": "1.5.0",
            "_view_name": "ProgressView",
            "bar_style": "success",
            "description": "",
            "description_tooltip": null,
            "layout": "IPY_MODEL_0ec2f10b8bec47119fd8545f69b9b966",
            "max": 363,
            "min": 0,
            "orientation": "horizontal",
            "style": "IPY_MODEL_e96ad16842f040c0875f65978978c56b",
            "value": 363
          }
        },
        "413d3bc23eba45a5942fc50f737f0eb4": {
          "model_module": "@jupyter-widgets/controls",
          "model_name": "HTMLModel",
          "model_module_version": "1.5.0",
          "state": {
            "_dom_classes": [],
            "_model_module": "@jupyter-widgets/controls",
            "_model_module_version": "1.5.0",
            "_model_name": "HTMLModel",
            "_view_count": null,
            "_view_module": "@jupyter-widgets/controls",
            "_view_module_version": "1.5.0",
            "_view_name": "HTMLView",
            "description": "",
            "description_tooltip": null,
            "layout": "IPY_MODEL_f25cddb9fbb2420d977cd1e9046fabae",
            "placeholder": "​",
            "style": "IPY_MODEL_defc5d6f5c154fc6906f82d569c21bc5",
            "value": " 363/363 [00:00&lt;00:00, 11.2kB/s]"
          }
        },
        "1aaf066b57ad4876b19a9860ae930b9a": {
          "model_module": "@jupyter-widgets/base",
          "model_name": "LayoutModel",
          "model_module_version": "1.2.0",
          "state": {
            "_model_module": "@jupyter-widgets/base",
            "_model_module_version": "1.2.0",
            "_model_name": "LayoutModel",
            "_view_count": null,
            "_view_module": "@jupyter-widgets/base",
            "_view_module_version": "1.2.0",
            "_view_name": "LayoutView",
            "align_content": null,
            "align_items": null,
            "align_self": null,
            "border": null,
            "bottom": null,
            "display": null,
            "flex": null,
            "flex_flow": null,
            "grid_area": null,
            "grid_auto_columns": null,
            "grid_auto_flow": null,
            "grid_auto_rows": null,
            "grid_column": null,
            "grid_gap": null,
            "grid_row": null,
            "grid_template_areas": null,
            "grid_template_columns": null,
            "grid_template_rows": null,
            "height": null,
            "justify_content": null,
            "justify_items": null,
            "left": null,
            "margin": null,
            "max_height": null,
            "max_width": null,
            "min_height": null,
            "min_width": null,
            "object_fit": null,
            "object_position": null,
            "order": null,
            "overflow": null,
            "overflow_x": null,
            "overflow_y": null,
            "padding": null,
            "right": null,
            "top": null,
            "visibility": null,
            "width": null
          }
        },
        "56c210a54f2a40fe946b07e73024dd89": {
          "model_module": "@jupyter-widgets/base",
          "model_name": "LayoutModel",
          "model_module_version": "1.2.0",
          "state": {
            "_model_module": "@jupyter-widgets/base",
            "_model_module_version": "1.2.0",
            "_model_name": "LayoutModel",
            "_view_count": null,
            "_view_module": "@jupyter-widgets/base",
            "_view_module_version": "1.2.0",
            "_view_name": "LayoutView",
            "align_content": null,
            "align_items": null,
            "align_self": null,
            "border": null,
            "bottom": null,
            "display": null,
            "flex": null,
            "flex_flow": null,
            "grid_area": null,
            "grid_auto_columns": null,
            "grid_auto_flow": null,
            "grid_auto_rows": null,
            "grid_column": null,
            "grid_gap": null,
            "grid_row": null,
            "grid_template_areas": null,
            "grid_template_columns": null,
            "grid_template_rows": null,
            "height": null,
            "justify_content": null,
            "justify_items": null,
            "left": null,
            "margin": null,
            "max_height": null,
            "max_width": null,
            "min_height": null,
            "min_width": null,
            "object_fit": null,
            "object_position": null,
            "order": null,
            "overflow": null,
            "overflow_x": null,
            "overflow_y": null,
            "padding": null,
            "right": null,
            "top": null,
            "visibility": null,
            "width": null
          }
        },
        "928f9fbcc5bf426ebea80731dc6403f0": {
          "model_module": "@jupyter-widgets/controls",
          "model_name": "DescriptionStyleModel",
          "model_module_version": "1.5.0",
          "state": {
            "_model_module": "@jupyter-widgets/controls",
            "_model_module_version": "1.5.0",
            "_model_name": "DescriptionStyleModel",
            "_view_count": null,
            "_view_module": "@jupyter-widgets/base",
            "_view_module_version": "1.2.0",
            "_view_name": "StyleView",
            "description_width": ""
          }
        },
        "0ec2f10b8bec47119fd8545f69b9b966": {
          "model_module": "@jupyter-widgets/base",
          "model_name": "LayoutModel",
          "model_module_version": "1.2.0",
          "state": {
            "_model_module": "@jupyter-widgets/base",
            "_model_module_version": "1.2.0",
            "_model_name": "LayoutModel",
            "_view_count": null,
            "_view_module": "@jupyter-widgets/base",
            "_view_module_version": "1.2.0",
            "_view_name": "LayoutView",
            "align_content": null,
            "align_items": null,
            "align_self": null,
            "border": null,
            "bottom": null,
            "display": null,
            "flex": null,
            "flex_flow": null,
            "grid_area": null,
            "grid_auto_columns": null,
            "grid_auto_flow": null,
            "grid_auto_rows": null,
            "grid_column": null,
            "grid_gap": null,
            "grid_row": null,
            "grid_template_areas": null,
            "grid_template_columns": null,
            "grid_template_rows": null,
            "height": null,
            "justify_content": null,
            "justify_items": null,
            "left": null,
            "margin": null,
            "max_height": null,
            "max_width": null,
            "min_height": null,
            "min_width": null,
            "object_fit": null,
            "object_position": null,
            "order": null,
            "overflow": null,
            "overflow_x": null,
            "overflow_y": null,
            "padding": null,
            "right": null,
            "top": null,
            "visibility": null,
            "width": null
          }
        },
        "e96ad16842f040c0875f65978978c56b": {
          "model_module": "@jupyter-widgets/controls",
          "model_name": "ProgressStyleModel",
          "model_module_version": "1.5.0",
          "state": {
            "_model_module": "@jupyter-widgets/controls",
            "_model_module_version": "1.5.0",
            "_model_name": "ProgressStyleModel",
            "_view_count": null,
            "_view_module": "@jupyter-widgets/base",
            "_view_module_version": "1.2.0",
            "_view_name": "StyleView",
            "bar_color": null,
            "description_width": ""
          }
        },
        "f25cddb9fbb2420d977cd1e9046fabae": {
          "model_module": "@jupyter-widgets/base",
          "model_name": "LayoutModel",
          "model_module_version": "1.2.0",
          "state": {
            "_model_module": "@jupyter-widgets/base",
            "_model_module_version": "1.2.0",
            "_model_name": "LayoutModel",
            "_view_count": null,
            "_view_module": "@jupyter-widgets/base",
            "_view_module_version": "1.2.0",
            "_view_name": "LayoutView",
            "align_content": null,
            "align_items": null,
            "align_self": null,
            "border": null,
            "bottom": null,
            "display": null,
            "flex": null,
            "flex_flow": null,
            "grid_area": null,
            "grid_auto_columns": null,
            "grid_auto_flow": null,
            "grid_auto_rows": null,
            "grid_column": null,
            "grid_gap": null,
            "grid_row": null,
            "grid_template_areas": null,
            "grid_template_columns": null,
            "grid_template_rows": null,
            "height": null,
            "justify_content": null,
            "justify_items": null,
            "left": null,
            "margin": null,
            "max_height": null,
            "max_width": null,
            "min_height": null,
            "min_width": null,
            "object_fit": null,
            "object_position": null,
            "order": null,
            "overflow": null,
            "overflow_x": null,
            "overflow_y": null,
            "padding": null,
            "right": null,
            "top": null,
            "visibility": null,
            "width": null
          }
        },
        "defc5d6f5c154fc6906f82d569c21bc5": {
          "model_module": "@jupyter-widgets/controls",
          "model_name": "DescriptionStyleModel",
          "model_module_version": "1.5.0",
          "state": {
            "_model_module": "@jupyter-widgets/controls",
            "_model_module_version": "1.5.0",
            "_model_name": "DescriptionStyleModel",
            "_view_count": null,
            "_view_module": "@jupyter-widgets/base",
            "_view_module_version": "1.2.0",
            "_view_name": "StyleView",
            "description_width": ""
          }
        },
        "59069f6be274405494b79dd4e379daee": {
          "model_module": "@jupyter-widgets/controls",
          "model_name": "HBoxModel",
          "model_module_version": "1.5.0",
          "state": {
            "_dom_classes": [],
            "_model_module": "@jupyter-widgets/controls",
            "_model_module_version": "1.5.0",
            "_model_name": "HBoxModel",
            "_view_count": null,
            "_view_module": "@jupyter-widgets/controls",
            "_view_module_version": "1.5.0",
            "_view_name": "HBoxView",
            "box_style": "",
            "children": [
              "IPY_MODEL_8d489d07846e42c3a8ddb19b2fa5774b",
              "IPY_MODEL_0145c5bd8a554e9b81e6638a956c88a5",
              "IPY_MODEL_b6313868a9b84eccb090fa747db54c52"
            ],
            "layout": "IPY_MODEL_656133b39a9946b19f4c67e838679b33"
          }
        },
        "8d489d07846e42c3a8ddb19b2fa5774b": {
          "model_module": "@jupyter-widgets/controls",
          "model_name": "HTMLModel",
          "model_module_version": "1.5.0",
          "state": {
            "_dom_classes": [],
            "_model_module": "@jupyter-widgets/controls",
            "_model_module_version": "1.5.0",
            "_model_name": "HTMLModel",
            "_view_count": null,
            "_view_module": "@jupyter-widgets/controls",
            "_view_module_version": "1.5.0",
            "_view_name": "HTMLView",
            "description": "",
            "description_tooltip": null,
            "layout": "IPY_MODEL_b6b78aae7f114e0cae4b11045bb7f5f2",
            "placeholder": "​",
            "style": "IPY_MODEL_787bce34372c4c819bd8c7b924f1b438",
            "value": "vocab.json: 100%"
          }
        },
        "0145c5bd8a554e9b81e6638a956c88a5": {
          "model_module": "@jupyter-widgets/controls",
          "model_name": "FloatProgressModel",
          "model_module_version": "1.5.0",
          "state": {
            "_dom_classes": [],
            "_model_module": "@jupyter-widgets/controls",
            "_model_module_version": "1.5.0",
            "_model_name": "FloatProgressModel",
            "_view_count": null,
            "_view_module": "@jupyter-widgets/controls",
            "_view_module_version": "1.5.0",
            "_view_name": "ProgressView",
            "bar_style": "success",
            "description": "",
            "description_tooltip": null,
            "layout": "IPY_MODEL_9762db885fb7405c83e75a061f281760",
            "max": 898823,
            "min": 0,
            "orientation": "horizontal",
            "style": "IPY_MODEL_f24c0b1943c143dc8efa7f3190c7026a",
            "value": 898823
          }
        },
        "b6313868a9b84eccb090fa747db54c52": {
          "model_module": "@jupyter-widgets/controls",
          "model_name": "HTMLModel",
          "model_module_version": "1.5.0",
          "state": {
            "_dom_classes": [],
            "_model_module": "@jupyter-widgets/controls",
            "_model_module_version": "1.5.0",
            "_model_name": "HTMLModel",
            "_view_count": null,
            "_view_module": "@jupyter-widgets/controls",
            "_view_module_version": "1.5.0",
            "_view_name": "HTMLView",
            "description": "",
            "description_tooltip": null,
            "layout": "IPY_MODEL_21438bf4643a4dfa97cbfbac72a23e38",
            "placeholder": "​",
            "style": "IPY_MODEL_2707bc042972486bb130d734c737f3db",
            "value": " 899k/899k [00:00&lt;00:00, 5.38MB/s]"
          }
        },
        "656133b39a9946b19f4c67e838679b33": {
          "model_module": "@jupyter-widgets/base",
          "model_name": "LayoutModel",
          "model_module_version": "1.2.0",
          "state": {
            "_model_module": "@jupyter-widgets/base",
            "_model_module_version": "1.2.0",
            "_model_name": "LayoutModel",
            "_view_count": null,
            "_view_module": "@jupyter-widgets/base",
            "_view_module_version": "1.2.0",
            "_view_name": "LayoutView",
            "align_content": null,
            "align_items": null,
            "align_self": null,
            "border": null,
            "bottom": null,
            "display": null,
            "flex": null,
            "flex_flow": null,
            "grid_area": null,
            "grid_auto_columns": null,
            "grid_auto_flow": null,
            "grid_auto_rows": null,
            "grid_column": null,
            "grid_gap": null,
            "grid_row": null,
            "grid_template_areas": null,
            "grid_template_columns": null,
            "grid_template_rows": null,
            "height": null,
            "justify_content": null,
            "justify_items": null,
            "left": null,
            "margin": null,
            "max_height": null,
            "max_width": null,
            "min_height": null,
            "min_width": null,
            "object_fit": null,
            "object_position": null,
            "order": null,
            "overflow": null,
            "overflow_x": null,
            "overflow_y": null,
            "padding": null,
            "right": null,
            "top": null,
            "visibility": null,
            "width": null
          }
        },
        "b6b78aae7f114e0cae4b11045bb7f5f2": {
          "model_module": "@jupyter-widgets/base",
          "model_name": "LayoutModel",
          "model_module_version": "1.2.0",
          "state": {
            "_model_module": "@jupyter-widgets/base",
            "_model_module_version": "1.2.0",
            "_model_name": "LayoutModel",
            "_view_count": null,
            "_view_module": "@jupyter-widgets/base",
            "_view_module_version": "1.2.0",
            "_view_name": "LayoutView",
            "align_content": null,
            "align_items": null,
            "align_self": null,
            "border": null,
            "bottom": null,
            "display": null,
            "flex": null,
            "flex_flow": null,
            "grid_area": null,
            "grid_auto_columns": null,
            "grid_auto_flow": null,
            "grid_auto_rows": null,
            "grid_column": null,
            "grid_gap": null,
            "grid_row": null,
            "grid_template_areas": null,
            "grid_template_columns": null,
            "grid_template_rows": null,
            "height": null,
            "justify_content": null,
            "justify_items": null,
            "left": null,
            "margin": null,
            "max_height": null,
            "max_width": null,
            "min_height": null,
            "min_width": null,
            "object_fit": null,
            "object_position": null,
            "order": null,
            "overflow": null,
            "overflow_x": null,
            "overflow_y": null,
            "padding": null,
            "right": null,
            "top": null,
            "visibility": null,
            "width": null
          }
        },
        "787bce34372c4c819bd8c7b924f1b438": {
          "model_module": "@jupyter-widgets/controls",
          "model_name": "DescriptionStyleModel",
          "model_module_version": "1.5.0",
          "state": {
            "_model_module": "@jupyter-widgets/controls",
            "_model_module_version": "1.5.0",
            "_model_name": "DescriptionStyleModel",
            "_view_count": null,
            "_view_module": "@jupyter-widgets/base",
            "_view_module_version": "1.2.0",
            "_view_name": "StyleView",
            "description_width": ""
          }
        },
        "9762db885fb7405c83e75a061f281760": {
          "model_module": "@jupyter-widgets/base",
          "model_name": "LayoutModel",
          "model_module_version": "1.2.0",
          "state": {
            "_model_module": "@jupyter-widgets/base",
            "_model_module_version": "1.2.0",
            "_model_name": "LayoutModel",
            "_view_count": null,
            "_view_module": "@jupyter-widgets/base",
            "_view_module_version": "1.2.0",
            "_view_name": "LayoutView",
            "align_content": null,
            "align_items": null,
            "align_self": null,
            "border": null,
            "bottom": null,
            "display": null,
            "flex": null,
            "flex_flow": null,
            "grid_area": null,
            "grid_auto_columns": null,
            "grid_auto_flow": null,
            "grid_auto_rows": null,
            "grid_column": null,
            "grid_gap": null,
            "grid_row": null,
            "grid_template_areas": null,
            "grid_template_columns": null,
            "grid_template_rows": null,
            "height": null,
            "justify_content": null,
            "justify_items": null,
            "left": null,
            "margin": null,
            "max_height": null,
            "max_width": null,
            "min_height": null,
            "min_width": null,
            "object_fit": null,
            "object_position": null,
            "order": null,
            "overflow": null,
            "overflow_x": null,
            "overflow_y": null,
            "padding": null,
            "right": null,
            "top": null,
            "visibility": null,
            "width": null
          }
        },
        "f24c0b1943c143dc8efa7f3190c7026a": {
          "model_module": "@jupyter-widgets/controls",
          "model_name": "ProgressStyleModel",
          "model_module_version": "1.5.0",
          "state": {
            "_model_module": "@jupyter-widgets/controls",
            "_model_module_version": "1.5.0",
            "_model_name": "ProgressStyleModel",
            "_view_count": null,
            "_view_module": "@jupyter-widgets/base",
            "_view_module_version": "1.2.0",
            "_view_name": "StyleView",
            "bar_color": null,
            "description_width": ""
          }
        },
        "21438bf4643a4dfa97cbfbac72a23e38": {
          "model_module": "@jupyter-widgets/base",
          "model_name": "LayoutModel",
          "model_module_version": "1.2.0",
          "state": {
            "_model_module": "@jupyter-widgets/base",
            "_model_module_version": "1.2.0",
            "_model_name": "LayoutModel",
            "_view_count": null,
            "_view_module": "@jupyter-widgets/base",
            "_view_module_version": "1.2.0",
            "_view_name": "LayoutView",
            "align_content": null,
            "align_items": null,
            "align_self": null,
            "border": null,
            "bottom": null,
            "display": null,
            "flex": null,
            "flex_flow": null,
            "grid_area": null,
            "grid_auto_columns": null,
            "grid_auto_flow": null,
            "grid_auto_rows": null,
            "grid_column": null,
            "grid_gap": null,
            "grid_row": null,
            "grid_template_areas": null,
            "grid_template_columns": null,
            "grid_template_rows": null,
            "height": null,
            "justify_content": null,
            "justify_items": null,
            "left": null,
            "margin": null,
            "max_height": null,
            "max_width": null,
            "min_height": null,
            "min_width": null,
            "object_fit": null,
            "object_position": null,
            "order": null,
            "overflow": null,
            "overflow_x": null,
            "overflow_y": null,
            "padding": null,
            "right": null,
            "top": null,
            "visibility": null,
            "width": null
          }
        },
        "2707bc042972486bb130d734c737f3db": {
          "model_module": "@jupyter-widgets/controls",
          "model_name": "DescriptionStyleModel",
          "model_module_version": "1.5.0",
          "state": {
            "_model_module": "@jupyter-widgets/controls",
            "_model_module_version": "1.5.0",
            "_model_name": "DescriptionStyleModel",
            "_view_count": null,
            "_view_module": "@jupyter-widgets/base",
            "_view_module_version": "1.2.0",
            "_view_name": "StyleView",
            "description_width": ""
          }
        },
        "3dda1945ae5e4c88a94d0306b05c578e": {
          "model_module": "@jupyter-widgets/controls",
          "model_name": "HBoxModel",
          "model_module_version": "1.5.0",
          "state": {
            "_dom_classes": [],
            "_model_module": "@jupyter-widgets/controls",
            "_model_module_version": "1.5.0",
            "_model_name": "HBoxModel",
            "_view_count": null,
            "_view_module": "@jupyter-widgets/controls",
            "_view_module_version": "1.5.0",
            "_view_name": "HBoxView",
            "box_style": "",
            "children": [
              "IPY_MODEL_2e871d85a66d4b678bec4c9547b395ec",
              "IPY_MODEL_409e3df27e2b4e21a8513830993df037",
              "IPY_MODEL_11a759a1733d4bcd9b81428ba2e43c4d"
            ],
            "layout": "IPY_MODEL_01d53385dd4f41ba8517b230f12ab5e2"
          }
        },
        "2e871d85a66d4b678bec4c9547b395ec": {
          "model_module": "@jupyter-widgets/controls",
          "model_name": "HTMLModel",
          "model_module_version": "1.5.0",
          "state": {
            "_dom_classes": [],
            "_model_module": "@jupyter-widgets/controls",
            "_model_module_version": "1.5.0",
            "_model_name": "HTMLModel",
            "_view_count": null,
            "_view_module": "@jupyter-widgets/controls",
            "_view_module_version": "1.5.0",
            "_view_name": "HTMLView",
            "description": "",
            "description_tooltip": null,
            "layout": "IPY_MODEL_fc9088bea9f14605910ca91e2f899e5d",
            "placeholder": "​",
            "style": "IPY_MODEL_1711854a2bb944c69dd9a58e29bb1054",
            "value": "merges.txt: 100%"
          }
        },
        "409e3df27e2b4e21a8513830993df037": {
          "model_module": "@jupyter-widgets/controls",
          "model_name": "FloatProgressModel",
          "model_module_version": "1.5.0",
          "state": {
            "_dom_classes": [],
            "_model_module": "@jupyter-widgets/controls",
            "_model_module_version": "1.5.0",
            "_model_name": "FloatProgressModel",
            "_view_count": null,
            "_view_module": "@jupyter-widgets/controls",
            "_view_module_version": "1.5.0",
            "_view_name": "ProgressView",
            "bar_style": "success",
            "description": "",
            "description_tooltip": null,
            "layout": "IPY_MODEL_b82cc9aa69214dc1ac1459c54b4ebf0a",
            "max": 456318,
            "min": 0,
            "orientation": "horizontal",
            "style": "IPY_MODEL_7f04e0c557d348f79157a2d76e0e877a",
            "value": 456318
          }
        },
        "11a759a1733d4bcd9b81428ba2e43c4d": {
          "model_module": "@jupyter-widgets/controls",
          "model_name": "HTMLModel",
          "model_module_version": "1.5.0",
          "state": {
            "_dom_classes": [],
            "_model_module": "@jupyter-widgets/controls",
            "_model_module_version": "1.5.0",
            "_model_name": "HTMLModel",
            "_view_count": null,
            "_view_module": "@jupyter-widgets/controls",
            "_view_module_version": "1.5.0",
            "_view_name": "HTMLView",
            "description": "",
            "description_tooltip": null,
            "layout": "IPY_MODEL_b61e6ce0d19d43bc93696eb9b9885dbe",
            "placeholder": "​",
            "style": "IPY_MODEL_3deb687b1fcc47a3aaf3a9250a7264f7",
            "value": " 456k/456k [00:00&lt;00:00, 8.94MB/s]"
          }
        },
        "01d53385dd4f41ba8517b230f12ab5e2": {
          "model_module": "@jupyter-widgets/base",
          "model_name": "LayoutModel",
          "model_module_version": "1.2.0",
          "state": {
            "_model_module": "@jupyter-widgets/base",
            "_model_module_version": "1.2.0",
            "_model_name": "LayoutModel",
            "_view_count": null,
            "_view_module": "@jupyter-widgets/base",
            "_view_module_version": "1.2.0",
            "_view_name": "LayoutView",
            "align_content": null,
            "align_items": null,
            "align_self": null,
            "border": null,
            "bottom": null,
            "display": null,
            "flex": null,
            "flex_flow": null,
            "grid_area": null,
            "grid_auto_columns": null,
            "grid_auto_flow": null,
            "grid_auto_rows": null,
            "grid_column": null,
            "grid_gap": null,
            "grid_row": null,
            "grid_template_areas": null,
            "grid_template_columns": null,
            "grid_template_rows": null,
            "height": null,
            "justify_content": null,
            "justify_items": null,
            "left": null,
            "margin": null,
            "max_height": null,
            "max_width": null,
            "min_height": null,
            "min_width": null,
            "object_fit": null,
            "object_position": null,
            "order": null,
            "overflow": null,
            "overflow_x": null,
            "overflow_y": null,
            "padding": null,
            "right": null,
            "top": null,
            "visibility": null,
            "width": null
          }
        },
        "fc9088bea9f14605910ca91e2f899e5d": {
          "model_module": "@jupyter-widgets/base",
          "model_name": "LayoutModel",
          "model_module_version": "1.2.0",
          "state": {
            "_model_module": "@jupyter-widgets/base",
            "_model_module_version": "1.2.0",
            "_model_name": "LayoutModel",
            "_view_count": null,
            "_view_module": "@jupyter-widgets/base",
            "_view_module_version": "1.2.0",
            "_view_name": "LayoutView",
            "align_content": null,
            "align_items": null,
            "align_self": null,
            "border": null,
            "bottom": null,
            "display": null,
            "flex": null,
            "flex_flow": null,
            "grid_area": null,
            "grid_auto_columns": null,
            "grid_auto_flow": null,
            "grid_auto_rows": null,
            "grid_column": null,
            "grid_gap": null,
            "grid_row": null,
            "grid_template_areas": null,
            "grid_template_columns": null,
            "grid_template_rows": null,
            "height": null,
            "justify_content": null,
            "justify_items": null,
            "left": null,
            "margin": null,
            "max_height": null,
            "max_width": null,
            "min_height": null,
            "min_width": null,
            "object_fit": null,
            "object_position": null,
            "order": null,
            "overflow": null,
            "overflow_x": null,
            "overflow_y": null,
            "padding": null,
            "right": null,
            "top": null,
            "visibility": null,
            "width": null
          }
        },
        "1711854a2bb944c69dd9a58e29bb1054": {
          "model_module": "@jupyter-widgets/controls",
          "model_name": "DescriptionStyleModel",
          "model_module_version": "1.5.0",
          "state": {
            "_model_module": "@jupyter-widgets/controls",
            "_model_module_version": "1.5.0",
            "_model_name": "DescriptionStyleModel",
            "_view_count": null,
            "_view_module": "@jupyter-widgets/base",
            "_view_module_version": "1.2.0",
            "_view_name": "StyleView",
            "description_width": ""
          }
        },
        "b82cc9aa69214dc1ac1459c54b4ebf0a": {
          "model_module": "@jupyter-widgets/base",
          "model_name": "LayoutModel",
          "model_module_version": "1.2.0",
          "state": {
            "_model_module": "@jupyter-widgets/base",
            "_model_module_version": "1.2.0",
            "_model_name": "LayoutModel",
            "_view_count": null,
            "_view_module": "@jupyter-widgets/base",
            "_view_module_version": "1.2.0",
            "_view_name": "LayoutView",
            "align_content": null,
            "align_items": null,
            "align_self": null,
            "border": null,
            "bottom": null,
            "display": null,
            "flex": null,
            "flex_flow": null,
            "grid_area": null,
            "grid_auto_columns": null,
            "grid_auto_flow": null,
            "grid_auto_rows": null,
            "grid_column": null,
            "grid_gap": null,
            "grid_row": null,
            "grid_template_areas": null,
            "grid_template_columns": null,
            "grid_template_rows": null,
            "height": null,
            "justify_content": null,
            "justify_items": null,
            "left": null,
            "margin": null,
            "max_height": null,
            "max_width": null,
            "min_height": null,
            "min_width": null,
            "object_fit": null,
            "object_position": null,
            "order": null,
            "overflow": null,
            "overflow_x": null,
            "overflow_y": null,
            "padding": null,
            "right": null,
            "top": null,
            "visibility": null,
            "width": null
          }
        },
        "7f04e0c557d348f79157a2d76e0e877a": {
          "model_module": "@jupyter-widgets/controls",
          "model_name": "ProgressStyleModel",
          "model_module_version": "1.5.0",
          "state": {
            "_model_module": "@jupyter-widgets/controls",
            "_model_module_version": "1.5.0",
            "_model_name": "ProgressStyleModel",
            "_view_count": null,
            "_view_module": "@jupyter-widgets/base",
            "_view_module_version": "1.2.0",
            "_view_name": "StyleView",
            "bar_color": null,
            "description_width": ""
          }
        },
        "b61e6ce0d19d43bc93696eb9b9885dbe": {
          "model_module": "@jupyter-widgets/base",
          "model_name": "LayoutModel",
          "model_module_version": "1.2.0",
          "state": {
            "_model_module": "@jupyter-widgets/base",
            "_model_module_version": "1.2.0",
            "_model_name": "LayoutModel",
            "_view_count": null,
            "_view_module": "@jupyter-widgets/base",
            "_view_module_version": "1.2.0",
            "_view_name": "LayoutView",
            "align_content": null,
            "align_items": null,
            "align_self": null,
            "border": null,
            "bottom": null,
            "display": null,
            "flex": null,
            "flex_flow": null,
            "grid_area": null,
            "grid_auto_columns": null,
            "grid_auto_flow": null,
            "grid_auto_rows": null,
            "grid_column": null,
            "grid_gap": null,
            "grid_row": null,
            "grid_template_areas": null,
            "grid_template_columns": null,
            "grid_template_rows": null,
            "height": null,
            "justify_content": null,
            "justify_items": null,
            "left": null,
            "margin": null,
            "max_height": null,
            "max_width": null,
            "min_height": null,
            "min_width": null,
            "object_fit": null,
            "object_position": null,
            "order": null,
            "overflow": null,
            "overflow_x": null,
            "overflow_y": null,
            "padding": null,
            "right": null,
            "top": null,
            "visibility": null,
            "width": null
          }
        },
        "3deb687b1fcc47a3aaf3a9250a7264f7": {
          "model_module": "@jupyter-widgets/controls",
          "model_name": "DescriptionStyleModel",
          "model_module_version": "1.5.0",
          "state": {
            "_model_module": "@jupyter-widgets/controls",
            "_model_module_version": "1.5.0",
            "_model_name": "DescriptionStyleModel",
            "_view_count": null,
            "_view_module": "@jupyter-widgets/base",
            "_view_module_version": "1.2.0",
            "_view_name": "StyleView",
            "description_width": ""
          }
        },
        "8987cbdc0c95472faaa76e920dbe0bb9": {
          "model_module": "@jupyter-widgets/controls",
          "model_name": "HBoxModel",
          "model_module_version": "1.5.0",
          "state": {
            "_dom_classes": [],
            "_model_module": "@jupyter-widgets/controls",
            "_model_module_version": "1.5.0",
            "_model_name": "HBoxModel",
            "_view_count": null,
            "_view_module": "@jupyter-widgets/controls",
            "_view_module_version": "1.5.0",
            "_view_name": "HBoxView",
            "box_style": "",
            "children": [
              "IPY_MODEL_e8f9bab555ad42f7948359c744d47ef8",
              "IPY_MODEL_583c33dce85045838b48d56de42a5d56",
              "IPY_MODEL_b5f435a37de14b53a9418f11a32181fa"
            ],
            "layout": "IPY_MODEL_41bac819e83f4b0db4293e621ec550d6"
          }
        },
        "e8f9bab555ad42f7948359c744d47ef8": {
          "model_module": "@jupyter-widgets/controls",
          "model_name": "HTMLModel",
          "model_module_version": "1.5.0",
          "state": {
            "_dom_classes": [],
            "_model_module": "@jupyter-widgets/controls",
            "_model_module_version": "1.5.0",
            "_model_name": "HTMLModel",
            "_view_count": null,
            "_view_module": "@jupyter-widgets/controls",
            "_view_module_version": "1.5.0",
            "_view_name": "HTMLView",
            "description": "",
            "description_tooltip": null,
            "layout": "IPY_MODEL_9a8b6870cd904461adbe32b3b388cc3f",
            "placeholder": "​",
            "style": "IPY_MODEL_f3c6ad3d2c7b433eaa37cee832af8d3f",
            "value": "tokenizer.json: 100%"
          }
        },
        "583c33dce85045838b48d56de42a5d56": {
          "model_module": "@jupyter-widgets/controls",
          "model_name": "FloatProgressModel",
          "model_module_version": "1.5.0",
          "state": {
            "_dom_classes": [],
            "_model_module": "@jupyter-widgets/controls",
            "_model_module_version": "1.5.0",
            "_model_name": "FloatProgressModel",
            "_view_count": null,
            "_view_module": "@jupyter-widgets/controls",
            "_view_module_version": "1.5.0",
            "_view_name": "ProgressView",
            "bar_style": "success",
            "description": "",
            "description_tooltip": null,
            "layout": "IPY_MODEL_e45d8e457c14417d972cde44e1bf2ea8",
            "max": 1355863,
            "min": 0,
            "orientation": "horizontal",
            "style": "IPY_MODEL_2c1a018be47640eaaa7e7868e4ac7377",
            "value": 1355863
          }
        },
        "b5f435a37de14b53a9418f11a32181fa": {
          "model_module": "@jupyter-widgets/controls",
          "model_name": "HTMLModel",
          "model_module_version": "1.5.0",
          "state": {
            "_dom_classes": [],
            "_model_module": "@jupyter-widgets/controls",
            "_model_module_version": "1.5.0",
            "_model_name": "HTMLModel",
            "_view_count": null,
            "_view_module": "@jupyter-widgets/controls",
            "_view_module_version": "1.5.0",
            "_view_name": "HTMLView",
            "description": "",
            "description_tooltip": null,
            "layout": "IPY_MODEL_9f312e3c835d48409fcdd98cd1db572c",
            "placeholder": "​",
            "style": "IPY_MODEL_edc2242dec8c45f783b4f1d4f58e2ad1",
            "value": " 1.36M/1.36M [00:00&lt;00:00, 16.1MB/s]"
          }
        },
        "41bac819e83f4b0db4293e621ec550d6": {
          "model_module": "@jupyter-widgets/base",
          "model_name": "LayoutModel",
          "model_module_version": "1.2.0",
          "state": {
            "_model_module": "@jupyter-widgets/base",
            "_model_module_version": "1.2.0",
            "_model_name": "LayoutModel",
            "_view_count": null,
            "_view_module": "@jupyter-widgets/base",
            "_view_module_version": "1.2.0",
            "_view_name": "LayoutView",
            "align_content": null,
            "align_items": null,
            "align_self": null,
            "border": null,
            "bottom": null,
            "display": null,
            "flex": null,
            "flex_flow": null,
            "grid_area": null,
            "grid_auto_columns": null,
            "grid_auto_flow": null,
            "grid_auto_rows": null,
            "grid_column": null,
            "grid_gap": null,
            "grid_row": null,
            "grid_template_areas": null,
            "grid_template_columns": null,
            "grid_template_rows": null,
            "height": null,
            "justify_content": null,
            "justify_items": null,
            "left": null,
            "margin": null,
            "max_height": null,
            "max_width": null,
            "min_height": null,
            "min_width": null,
            "object_fit": null,
            "object_position": null,
            "order": null,
            "overflow": null,
            "overflow_x": null,
            "overflow_y": null,
            "padding": null,
            "right": null,
            "top": null,
            "visibility": null,
            "width": null
          }
        },
        "9a8b6870cd904461adbe32b3b388cc3f": {
          "model_module": "@jupyter-widgets/base",
          "model_name": "LayoutModel",
          "model_module_version": "1.2.0",
          "state": {
            "_model_module": "@jupyter-widgets/base",
            "_model_module_version": "1.2.0",
            "_model_name": "LayoutModel",
            "_view_count": null,
            "_view_module": "@jupyter-widgets/base",
            "_view_module_version": "1.2.0",
            "_view_name": "LayoutView",
            "align_content": null,
            "align_items": null,
            "align_self": null,
            "border": null,
            "bottom": null,
            "display": null,
            "flex": null,
            "flex_flow": null,
            "grid_area": null,
            "grid_auto_columns": null,
            "grid_auto_flow": null,
            "grid_auto_rows": null,
            "grid_column": null,
            "grid_gap": null,
            "grid_row": null,
            "grid_template_areas": null,
            "grid_template_columns": null,
            "grid_template_rows": null,
            "height": null,
            "justify_content": null,
            "justify_items": null,
            "left": null,
            "margin": null,
            "max_height": null,
            "max_width": null,
            "min_height": null,
            "min_width": null,
            "object_fit": null,
            "object_position": null,
            "order": null,
            "overflow": null,
            "overflow_x": null,
            "overflow_y": null,
            "padding": null,
            "right": null,
            "top": null,
            "visibility": null,
            "width": null
          }
        },
        "f3c6ad3d2c7b433eaa37cee832af8d3f": {
          "model_module": "@jupyter-widgets/controls",
          "model_name": "DescriptionStyleModel",
          "model_module_version": "1.5.0",
          "state": {
            "_model_module": "@jupyter-widgets/controls",
            "_model_module_version": "1.5.0",
            "_model_name": "DescriptionStyleModel",
            "_view_count": null,
            "_view_module": "@jupyter-widgets/base",
            "_view_module_version": "1.2.0",
            "_view_name": "StyleView",
            "description_width": ""
          }
        },
        "e45d8e457c14417d972cde44e1bf2ea8": {
          "model_module": "@jupyter-widgets/base",
          "model_name": "LayoutModel",
          "model_module_version": "1.2.0",
          "state": {
            "_model_module": "@jupyter-widgets/base",
            "_model_module_version": "1.2.0",
            "_model_name": "LayoutModel",
            "_view_count": null,
            "_view_module": "@jupyter-widgets/base",
            "_view_module_version": "1.2.0",
            "_view_name": "LayoutView",
            "align_content": null,
            "align_items": null,
            "align_self": null,
            "border": null,
            "bottom": null,
            "display": null,
            "flex": null,
            "flex_flow": null,
            "grid_area": null,
            "grid_auto_columns": null,
            "grid_auto_flow": null,
            "grid_auto_rows": null,
            "grid_column": null,
            "grid_gap": null,
            "grid_row": null,
            "grid_template_areas": null,
            "grid_template_columns": null,
            "grid_template_rows": null,
            "height": null,
            "justify_content": null,
            "justify_items": null,
            "left": null,
            "margin": null,
            "max_height": null,
            "max_width": null,
            "min_height": null,
            "min_width": null,
            "object_fit": null,
            "object_position": null,
            "order": null,
            "overflow": null,
            "overflow_x": null,
            "overflow_y": null,
            "padding": null,
            "right": null,
            "top": null,
            "visibility": null,
            "width": null
          }
        },
        "2c1a018be47640eaaa7e7868e4ac7377": {
          "model_module": "@jupyter-widgets/controls",
          "model_name": "ProgressStyleModel",
          "model_module_version": "1.5.0",
          "state": {
            "_model_module": "@jupyter-widgets/controls",
            "_model_module_version": "1.5.0",
            "_model_name": "ProgressStyleModel",
            "_view_count": null,
            "_view_module": "@jupyter-widgets/base",
            "_view_module_version": "1.2.0",
            "_view_name": "StyleView",
            "bar_color": null,
            "description_width": ""
          }
        },
        "9f312e3c835d48409fcdd98cd1db572c": {
          "model_module": "@jupyter-widgets/base",
          "model_name": "LayoutModel",
          "model_module_version": "1.2.0",
          "state": {
            "_model_module": "@jupyter-widgets/base",
            "_model_module_version": "1.2.0",
            "_model_name": "LayoutModel",
            "_view_count": null,
            "_view_module": "@jupyter-widgets/base",
            "_view_module_version": "1.2.0",
            "_view_name": "LayoutView",
            "align_content": null,
            "align_items": null,
            "align_self": null,
            "border": null,
            "bottom": null,
            "display": null,
            "flex": null,
            "flex_flow": null,
            "grid_area": null,
            "grid_auto_columns": null,
            "grid_auto_flow": null,
            "grid_auto_rows": null,
            "grid_column": null,
            "grid_gap": null,
            "grid_row": null,
            "grid_template_areas": null,
            "grid_template_columns": null,
            "grid_template_rows": null,
            "height": null,
            "justify_content": null,
            "justify_items": null,
            "left": null,
            "margin": null,
            "max_height": null,
            "max_width": null,
            "min_height": null,
            "min_width": null,
            "object_fit": null,
            "object_position": null,
            "order": null,
            "overflow": null,
            "overflow_x": null,
            "overflow_y": null,
            "padding": null,
            "right": null,
            "top": null,
            "visibility": null,
            "width": null
          }
        },
        "edc2242dec8c45f783b4f1d4f58e2ad1": {
          "model_module": "@jupyter-widgets/controls",
          "model_name": "DescriptionStyleModel",
          "model_module_version": "1.5.0",
          "state": {
            "_model_module": "@jupyter-widgets/controls",
            "_model_module_version": "1.5.0",
            "_model_name": "DescriptionStyleModel",
            "_view_count": null,
            "_view_module": "@jupyter-widgets/base",
            "_view_module_version": "1.2.0",
            "_view_name": "StyleView",
            "description_width": ""
          }
        }
      }
    }
  },
  "nbformat": 4,
  "nbformat_minor": 0
}