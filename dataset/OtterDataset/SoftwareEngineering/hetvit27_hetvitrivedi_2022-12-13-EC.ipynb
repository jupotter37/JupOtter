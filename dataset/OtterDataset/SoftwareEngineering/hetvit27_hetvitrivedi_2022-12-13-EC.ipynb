{
 "cells": [
  {
   "attachments": {},
   "cell_type": "markdown",
   "metadata": {},
   "source": [
    "# \"Comp Sci/Technical Business Panel Notes\"\n",
    "> \"Notes + Summary/Reflection\"\n",
    "\n",
    "- toc:true\n",
    "- branch: master\n",
    "- badges: true\n",
    "- comments: true\n",
    "- author: Hetvi Trivedi\n",
    "- categories: [extracredit]"
   ]
  },
  {
   "attachments": {},
   "cell_type": "markdown",
   "metadata": {},
   "source": [
    "# Kathleen Beveridge\n",
    "- Grew up in vietnam\n",
    "- Went to Santa Clara University and got the opportunity to study abroad in Spain\n",
    "- Finance bachelors degree from Santa Clara\n",
    "- MBA at USC\n",
    "- Not a traditional education \n",
    "- Don't just survive. Live life with passion, compassion, humor, and style\n",
    "- Senior director of Marketing: lead of 50 people\n"
   ]
  },
  {
   "attachments": {},
   "cell_type": "markdown",
   "metadata": {},
   "source": [
    "### Career\n",
    "- Investment Banker at Wells Fargo\n",
    "- Switched to high tech\n",
    "- Started first job at HP\n",
    "- Moved to SD and learned how to surf\n",
    "- Went to Qualcomm \n",
    "- Went to ThermoFischer \n",
    "- If you are interested in software engineering, you can work even in biotechnology\n",
    "- All companies are interested in using technology for the good of the people. Making and providing services that the world wants\n",
    "- Financial banking was helping people with retirement and become wealthy\n",
    "- She didn't feel like it was her calling; her impact wasn't good enough for her\n",
    "- High tech company had a macro/global impact on people in the world\n",
    "- In order to commercialize product, people in her team work closely with the scrum master to bring the product to the market\n"
   ]
  },
  {
   "attachments": {},
   "cell_type": "markdown",
   "metadata": {},
   "source": [
    "# Kris Porter\n",
    "- Software Engineer - SRE, DevOps, Infrastructure \n",
    "- Went to Livermore High School, UCLA for electrical engineering \n",
    "- It doesn't matter what you like at this age. You can always have a tech career later on.\n",
    "- Studied radar systems and wireless communication \n",
    "- Researched between undergrad and grad school at the Center for Embedded Networked Sensors. Learned Linux operating system.\n",
    "- Graduated in 2008 from grad school when stock market crash\n",
    "- 2010: worked at a startup through email marketing automation\n",
    "- 2012: NBC Universal\n",
    "- 2014: Qualcomm for 6 years/DevOps/Automation/Monitoring\n",
    "- 2021: Working at Twitter on the API timeline for a user in 200 milliseconds "
   ]
  },
  {
   "attachments": {},
   "cell_type": "markdown",
   "metadata": {},
   "source": [
    "### Learning\n",
    "- Continuous learning in high tech \n",
    "- Twitter: added a new data center, migrated home timeline, moving twitter to GraphQL\n",
    "- Even if you are laid off, you can find other jobs that work with your own skills.\n",
    "- Most important skills in the technical industry: continuous learning and willingness to learn new things. Don't be super concerned about what you read on the news\n",
    "- Listen to requirements, translate it to technology and how it meets the requirements "
   ]
  },
  {
   "attachments": {},
   "cell_type": "markdown",
   "metadata": {},
   "source": [
    "# Summary and Reflection\n",
    "\n",
    "From Ms. Beveridge, I realized that I don't need to be 100% determined on what I want to do in the future. Currently, I want to be a biomedical engineer but it's okay if I decide that that's not my cup of tea later on. She inspired me to be open to exploring new fields and being okay with exploring what I may not find interesting right now because I will never know until I try. I find it super cool that within one company like Qualcommn or ThermoFischer, there are multiple levels and groups of people that are needed to make the company progress. For example, ThermoFischer is a biotechnology company. However, the company has research scientists, marketing teams, biomedical engineers, software engineers, and more. Even if I go into a company as a biomedical engineer, I can always learn the more software/computer science aspect or even dabble into research. Overall, Ms. Beveridge proved the value of expanding your horizons and using your energy to maximize your impact on the world.  \n",
    "\n",
    "From Mr. Porter, I learned the value of being able to keep trying. He failed his first computer science class but never gave up. As he retook it, he started to learn more. Even though he had a break from programming for 8 years, he still ended up finding his way back to it and gained experience in different companies. This made me realize that even if I don't like something at the moment, I should be open to coming back to it. It also teaches me to always prioritize learning. Grades and scores are important but so is walking away from a class/job with more knowledge than you came in with. On a side note, Mr. Porter's interest in being a DevOps and working on deployment is very important. Without DevOps Engineers, it's hard to keep sites secure. "
   ]
  }
 ],
 "metadata": {
  "kernelspec": {
   "display_name": "Java",
   "language": "java",
   "name": "java"
  },
  "language_info": {
   "name": "java"
  },
  "orig_nbformat": 4
 },
 "nbformat": 4,
 "nbformat_minor": 2
}
