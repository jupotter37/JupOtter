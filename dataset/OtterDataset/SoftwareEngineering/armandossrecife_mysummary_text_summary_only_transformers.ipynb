{
  "nbformat": 4,
  "nbformat_minor": 0,
  "metadata": {
    "colab": {
      "provenance": [],
      "authorship_tag": "ABX9TyMxya+wtcbfZ4E9Pkca0bCA",
      "include_colab_link": true
    },
    "kernelspec": {
      "name": "python3",
      "display_name": "Python 3"
    },
    "language_info": {
      "name": "python"
    },
    "widgets": {
      "application/vnd.jupyter.widget-state+json": {
        "245c97631d8b4cc5ad3e293da013e3c5": {
          "model_module": "@jupyter-widgets/controls",
          "model_name": "HBoxModel",
          "model_module_version": "1.5.0",
          "state": {
            "_dom_classes": [],
            "_model_module": "@jupyter-widgets/controls",
            "_model_module_version": "1.5.0",
            "_model_name": "HBoxModel",
            "_view_count": null,
            "_view_module": "@jupyter-widgets/controls",
            "_view_module_version": "1.5.0",
            "_view_name": "HBoxView",
            "box_style": "",
            "children": [
              "IPY_MODEL_4776842afbf141989b660ec869ae294c",
              "IPY_MODEL_38cad5560f4f49af8d2fd69b68b1ad53",
              "IPY_MODEL_7e3e827f04754572904664185524bc47"
            ],
            "layout": "IPY_MODEL_e96dd957ea014e0093e8945f809550f2"
          }
        },
        "4776842afbf141989b660ec869ae294c": {
          "model_module": "@jupyter-widgets/controls",
          "model_name": "HTMLModel",
          "model_module_version": "1.5.0",
          "state": {
            "_dom_classes": [],
            "_model_module": "@jupyter-widgets/controls",
            "_model_module_version": "1.5.0",
            "_model_name": "HTMLModel",
            "_view_count": null,
            "_view_module": "@jupyter-widgets/controls",
            "_view_module_version": "1.5.0",
            "_view_name": "HTMLView",
            "description": "",
            "description_tooltip": null,
            "layout": "IPY_MODEL_ed17f95832284ab3b40d2307301766c0",
            "placeholder": "​",
            "style": "IPY_MODEL_8d27683e351942d6b57c74c0471de2e8",
            "value": "tokenizer_config.json: 100%"
          }
        },
        "38cad5560f4f49af8d2fd69b68b1ad53": {
          "model_module": "@jupyter-widgets/controls",
          "model_name": "FloatProgressModel",
          "model_module_version": "1.5.0",
          "state": {
            "_dom_classes": [],
            "_model_module": "@jupyter-widgets/controls",
            "_model_module_version": "1.5.0",
            "_model_name": "FloatProgressModel",
            "_view_count": null,
            "_view_module": "@jupyter-widgets/controls",
            "_view_module_version": "1.5.0",
            "_view_name": "ProgressView",
            "bar_style": "success",
            "description": "",
            "description_tooltip": null,
            "layout": "IPY_MODEL_24458f2e6cae436ea6a5fca440389805",
            "max": 1945,
            "min": 0,
            "orientation": "horizontal",
            "style": "IPY_MODEL_f9dcb20f70704171a75bc7ab9c2e807d",
            "value": 1945
          }
        },
        "7e3e827f04754572904664185524bc47": {
          "model_module": "@jupyter-widgets/controls",
          "model_name": "HTMLModel",
          "model_module_version": "1.5.0",
          "state": {
            "_dom_classes": [],
            "_model_module": "@jupyter-widgets/controls",
            "_model_module_version": "1.5.0",
            "_model_name": "HTMLModel",
            "_view_count": null,
            "_view_module": "@jupyter-widgets/controls",
            "_view_module_version": "1.5.0",
            "_view_name": "HTMLView",
            "description": "",
            "description_tooltip": null,
            "layout": "IPY_MODEL_76dc8dad1927429b88a811b1885a18c7",
            "placeholder": "​",
            "style": "IPY_MODEL_00b6ca099ff74d83a387c6b467dfc097",
            "value": " 1.95k/1.95k [00:00&lt;00:00, 81.7kB/s]"
          }
        },
        "e96dd957ea014e0093e8945f809550f2": {
          "model_module": "@jupyter-widgets/base",
          "model_name": "LayoutModel",
          "model_module_version": "1.2.0",
          "state": {
            "_model_module": "@jupyter-widgets/base",
            "_model_module_version": "1.2.0",
            "_model_name": "LayoutModel",
            "_view_count": null,
            "_view_module": "@jupyter-widgets/base",
            "_view_module_version": "1.2.0",
            "_view_name": "LayoutView",
            "align_content": null,
            "align_items": null,
            "align_self": null,
            "border": null,
            "bottom": null,
            "display": null,
            "flex": null,
            "flex_flow": null,
            "grid_area": null,
            "grid_auto_columns": null,
            "grid_auto_flow": null,
            "grid_auto_rows": null,
            "grid_column": null,
            "grid_gap": null,
            "grid_row": null,
            "grid_template_areas": null,
            "grid_template_columns": null,
            "grid_template_rows": null,
            "height": null,
            "justify_content": null,
            "justify_items": null,
            "left": null,
            "margin": null,
            "max_height": null,
            "max_width": null,
            "min_height": null,
            "min_width": null,
            "object_fit": null,
            "object_position": null,
            "order": null,
            "overflow": null,
            "overflow_x": null,
            "overflow_y": null,
            "padding": null,
            "right": null,
            "top": null,
            "visibility": null,
            "width": null
          }
        },
        "ed17f95832284ab3b40d2307301766c0": {
          "model_module": "@jupyter-widgets/base",
          "model_name": "LayoutModel",
          "model_module_version": "1.2.0",
          "state": {
            "_model_module": "@jupyter-widgets/base",
            "_model_module_version": "1.2.0",
            "_model_name": "LayoutModel",
            "_view_count": null,
            "_view_module": "@jupyter-widgets/base",
            "_view_module_version": "1.2.0",
            "_view_name": "LayoutView",
            "align_content": null,
            "align_items": null,
            "align_self": null,
            "border": null,
            "bottom": null,
            "display": null,
            "flex": null,
            "flex_flow": null,
            "grid_area": null,
            "grid_auto_columns": null,
            "grid_auto_flow": null,
            "grid_auto_rows": null,
            "grid_column": null,
            "grid_gap": null,
            "grid_row": null,
            "grid_template_areas": null,
            "grid_template_columns": null,
            "grid_template_rows": null,
            "height": null,
            "justify_content": null,
            "justify_items": null,
            "left": null,
            "margin": null,
            "max_height": null,
            "max_width": null,
            "min_height": null,
            "min_width": null,
            "object_fit": null,
            "object_position": null,
            "order": null,
            "overflow": null,
            "overflow_x": null,
            "overflow_y": null,
            "padding": null,
            "right": null,
            "top": null,
            "visibility": null,
            "width": null
          }
        },
        "8d27683e351942d6b57c74c0471de2e8": {
          "model_module": "@jupyter-widgets/controls",
          "model_name": "DescriptionStyleModel",
          "model_module_version": "1.5.0",
          "state": {
            "_model_module": "@jupyter-widgets/controls",
            "_model_module_version": "1.5.0",
            "_model_name": "DescriptionStyleModel",
            "_view_count": null,
            "_view_module": "@jupyter-widgets/base",
            "_view_module_version": "1.2.0",
            "_view_name": "StyleView",
            "description_width": ""
          }
        },
        "24458f2e6cae436ea6a5fca440389805": {
          "model_module": "@jupyter-widgets/base",
          "model_name": "LayoutModel",
          "model_module_version": "1.2.0",
          "state": {
            "_model_module": "@jupyter-widgets/base",
            "_model_module_version": "1.2.0",
            "_model_name": "LayoutModel",
            "_view_count": null,
            "_view_module": "@jupyter-widgets/base",
            "_view_module_version": "1.2.0",
            "_view_name": "LayoutView",
            "align_content": null,
            "align_items": null,
            "align_self": null,
            "border": null,
            "bottom": null,
            "display": null,
            "flex": null,
            "flex_flow": null,
            "grid_area": null,
            "grid_auto_columns": null,
            "grid_auto_flow": null,
            "grid_auto_rows": null,
            "grid_column": null,
            "grid_gap": null,
            "grid_row": null,
            "grid_template_areas": null,
            "grid_template_columns": null,
            "grid_template_rows": null,
            "height": null,
            "justify_content": null,
            "justify_items": null,
            "left": null,
            "margin": null,
            "max_height": null,
            "max_width": null,
            "min_height": null,
            "min_width": null,
            "object_fit": null,
            "object_position": null,
            "order": null,
            "overflow": null,
            "overflow_x": null,
            "overflow_y": null,
            "padding": null,
            "right": null,
            "top": null,
            "visibility": null,
            "width": null
          }
        },
        "f9dcb20f70704171a75bc7ab9c2e807d": {
          "model_module": "@jupyter-widgets/controls",
          "model_name": "ProgressStyleModel",
          "model_module_version": "1.5.0",
          "state": {
            "_model_module": "@jupyter-widgets/controls",
            "_model_module_version": "1.5.0",
            "_model_name": "ProgressStyleModel",
            "_view_count": null,
            "_view_module": "@jupyter-widgets/base",
            "_view_module_version": "1.2.0",
            "_view_name": "StyleView",
            "bar_color": null,
            "description_width": ""
          }
        },
        "76dc8dad1927429b88a811b1885a18c7": {
          "model_module": "@jupyter-widgets/base",
          "model_name": "LayoutModel",
          "model_module_version": "1.2.0",
          "state": {
            "_model_module": "@jupyter-widgets/base",
            "_model_module_version": "1.2.0",
            "_model_name": "LayoutModel",
            "_view_count": null,
            "_view_module": "@jupyter-widgets/base",
            "_view_module_version": "1.2.0",
            "_view_name": "LayoutView",
            "align_content": null,
            "align_items": null,
            "align_self": null,
            "border": null,
            "bottom": null,
            "display": null,
            "flex": null,
            "flex_flow": null,
            "grid_area": null,
            "grid_auto_columns": null,
            "grid_auto_flow": null,
            "grid_auto_rows": null,
            "grid_column": null,
            "grid_gap": null,
            "grid_row": null,
            "grid_template_areas": null,
            "grid_template_columns": null,
            "grid_template_rows": null,
            "height": null,
            "justify_content": null,
            "justify_items": null,
            "left": null,
            "margin": null,
            "max_height": null,
            "max_width": null,
            "min_height": null,
            "min_width": null,
            "object_fit": null,
            "object_position": null,
            "order": null,
            "overflow": null,
            "overflow_x": null,
            "overflow_y": null,
            "padding": null,
            "right": null,
            "top": null,
            "visibility": null,
            "width": null
          }
        },
        "00b6ca099ff74d83a387c6b467dfc097": {
          "model_module": "@jupyter-widgets/controls",
          "model_name": "DescriptionStyleModel",
          "model_module_version": "1.5.0",
          "state": {
            "_model_module": "@jupyter-widgets/controls",
            "_model_module_version": "1.5.0",
            "_model_name": "DescriptionStyleModel",
            "_view_count": null,
            "_view_module": "@jupyter-widgets/base",
            "_view_module_version": "1.2.0",
            "_view_name": "StyleView",
            "description_width": ""
          }
        },
        "79e705ff0a1d4abdb0e6bbedc3b726d3": {
          "model_module": "@jupyter-widgets/controls",
          "model_name": "HBoxModel",
          "model_module_version": "1.5.0",
          "state": {
            "_dom_classes": [],
            "_model_module": "@jupyter-widgets/controls",
            "_model_module_version": "1.5.0",
            "_model_name": "HBoxModel",
            "_view_count": null,
            "_view_module": "@jupyter-widgets/controls",
            "_view_module_version": "1.5.0",
            "_view_name": "HBoxView",
            "box_style": "",
            "children": [
              "IPY_MODEL_f9c81c1275cb4f2f95777c85ad760ad0",
              "IPY_MODEL_886262893d8c40fbbe163f4f3a0640e1",
              "IPY_MODEL_f1806762c1a24d3e83c9c70038516ca4"
            ],
            "layout": "IPY_MODEL_1467a9b55e254c5f812e64f0ed8c244c"
          }
        },
        "f9c81c1275cb4f2f95777c85ad760ad0": {
          "model_module": "@jupyter-widgets/controls",
          "model_name": "HTMLModel",
          "model_module_version": "1.5.0",
          "state": {
            "_dom_classes": [],
            "_model_module": "@jupyter-widgets/controls",
            "_model_module_version": "1.5.0",
            "_model_name": "HTMLModel",
            "_view_count": null,
            "_view_module": "@jupyter-widgets/controls",
            "_view_module_version": "1.5.0",
            "_view_name": "HTMLView",
            "description": "",
            "description_tooltip": null,
            "layout": "IPY_MODEL_e058898ba9254391b2add164dd8a0e84",
            "placeholder": "​",
            "style": "IPY_MODEL_338c413c1eff4f059ad5f240955474ba",
            "value": "spiece.model: 100%"
          }
        },
        "886262893d8c40fbbe163f4f3a0640e1": {
          "model_module": "@jupyter-widgets/controls",
          "model_name": "FloatProgressModel",
          "model_module_version": "1.5.0",
          "state": {
            "_dom_classes": [],
            "_model_module": "@jupyter-widgets/controls",
            "_model_module_version": "1.5.0",
            "_model_name": "FloatProgressModel",
            "_view_count": null,
            "_view_module": "@jupyter-widgets/controls",
            "_view_module_version": "1.5.0",
            "_view_name": "ProgressView",
            "bar_style": "success",
            "description": "",
            "description_tooltip": null,
            "layout": "IPY_MODEL_9aee42a447be4102964f82a8220a6f5d",
            "max": 755569,
            "min": 0,
            "orientation": "horizontal",
            "style": "IPY_MODEL_8c345267fd9b4422bd4695321b4d393e",
            "value": 755569
          }
        },
        "f1806762c1a24d3e83c9c70038516ca4": {
          "model_module": "@jupyter-widgets/controls",
          "model_name": "HTMLModel",
          "model_module_version": "1.5.0",
          "state": {
            "_dom_classes": [],
            "_model_module": "@jupyter-widgets/controls",
            "_model_module_version": "1.5.0",
            "_model_name": "HTMLModel",
            "_view_count": null,
            "_view_module": "@jupyter-widgets/controls",
            "_view_module_version": "1.5.0",
            "_view_name": "HTMLView",
            "description": "",
            "description_tooltip": null,
            "layout": "IPY_MODEL_2265c61f5bca4ff791e4189504bb0af8",
            "placeholder": "​",
            "style": "IPY_MODEL_50a21cdae22b4e53991f440692de11ac",
            "value": " 756k/756k [00:00&lt;00:00, 20.0MB/s]"
          }
        },
        "1467a9b55e254c5f812e64f0ed8c244c": {
          "model_module": "@jupyter-widgets/base",
          "model_name": "LayoutModel",
          "model_module_version": "1.2.0",
          "state": {
            "_model_module": "@jupyter-widgets/base",
            "_model_module_version": "1.2.0",
            "_model_name": "LayoutModel",
            "_view_count": null,
            "_view_module": "@jupyter-widgets/base",
            "_view_module_version": "1.2.0",
            "_view_name": "LayoutView",
            "align_content": null,
            "align_items": null,
            "align_self": null,
            "border": null,
            "bottom": null,
            "display": null,
            "flex": null,
            "flex_flow": null,
            "grid_area": null,
            "grid_auto_columns": null,
            "grid_auto_flow": null,
            "grid_auto_rows": null,
            "grid_column": null,
            "grid_gap": null,
            "grid_row": null,
            "grid_template_areas": null,
            "grid_template_columns": null,
            "grid_template_rows": null,
            "height": null,
            "justify_content": null,
            "justify_items": null,
            "left": null,
            "margin": null,
            "max_height": null,
            "max_width": null,
            "min_height": null,
            "min_width": null,
            "object_fit": null,
            "object_position": null,
            "order": null,
            "overflow": null,
            "overflow_x": null,
            "overflow_y": null,
            "padding": null,
            "right": null,
            "top": null,
            "visibility": null,
            "width": null
          }
        },
        "e058898ba9254391b2add164dd8a0e84": {
          "model_module": "@jupyter-widgets/base",
          "model_name": "LayoutModel",
          "model_module_version": "1.2.0",
          "state": {
            "_model_module": "@jupyter-widgets/base",
            "_model_module_version": "1.2.0",
            "_model_name": "LayoutModel",
            "_view_count": null,
            "_view_module": "@jupyter-widgets/base",
            "_view_module_version": "1.2.0",
            "_view_name": "LayoutView",
            "align_content": null,
            "align_items": null,
            "align_self": null,
            "border": null,
            "bottom": null,
            "display": null,
            "flex": null,
            "flex_flow": null,
            "grid_area": null,
            "grid_auto_columns": null,
            "grid_auto_flow": null,
            "grid_auto_rows": null,
            "grid_column": null,
            "grid_gap": null,
            "grid_row": null,
            "grid_template_areas": null,
            "grid_template_columns": null,
            "grid_template_rows": null,
            "height": null,
            "justify_content": null,
            "justify_items": null,
            "left": null,
            "margin": null,
            "max_height": null,
            "max_width": null,
            "min_height": null,
            "min_width": null,
            "object_fit": null,
            "object_position": null,
            "order": null,
            "overflow": null,
            "overflow_x": null,
            "overflow_y": null,
            "padding": null,
            "right": null,
            "top": null,
            "visibility": null,
            "width": null
          }
        },
        "338c413c1eff4f059ad5f240955474ba": {
          "model_module": "@jupyter-widgets/controls",
          "model_name": "DescriptionStyleModel",
          "model_module_version": "1.5.0",
          "state": {
            "_model_module": "@jupyter-widgets/controls",
            "_model_module_version": "1.5.0",
            "_model_name": "DescriptionStyleModel",
            "_view_count": null,
            "_view_module": "@jupyter-widgets/base",
            "_view_module_version": "1.2.0",
            "_view_name": "StyleView",
            "description_width": ""
          }
        },
        "9aee42a447be4102964f82a8220a6f5d": {
          "model_module": "@jupyter-widgets/base",
          "model_name": "LayoutModel",
          "model_module_version": "1.2.0",
          "state": {
            "_model_module": "@jupyter-widgets/base",
            "_model_module_version": "1.2.0",
            "_model_name": "LayoutModel",
            "_view_count": null,
            "_view_module": "@jupyter-widgets/base",
            "_view_module_version": "1.2.0",
            "_view_name": "LayoutView",
            "align_content": null,
            "align_items": null,
            "align_self": null,
            "border": null,
            "bottom": null,
            "display": null,
            "flex": null,
            "flex_flow": null,
            "grid_area": null,
            "grid_auto_columns": null,
            "grid_auto_flow": null,
            "grid_auto_rows": null,
            "grid_column": null,
            "grid_gap": null,
            "grid_row": null,
            "grid_template_areas": null,
            "grid_template_columns": null,
            "grid_template_rows": null,
            "height": null,
            "justify_content": null,
            "justify_items": null,
            "left": null,
            "margin": null,
            "max_height": null,
            "max_width": null,
            "min_height": null,
            "min_width": null,
            "object_fit": null,
            "object_position": null,
            "order": null,
            "overflow": null,
            "overflow_x": null,
            "overflow_y": null,
            "padding": null,
            "right": null,
            "top": null,
            "visibility": null,
            "width": null
          }
        },
        "8c345267fd9b4422bd4695321b4d393e": {
          "model_module": "@jupyter-widgets/controls",
          "model_name": "ProgressStyleModel",
          "model_module_version": "1.5.0",
          "state": {
            "_model_module": "@jupyter-widgets/controls",
            "_model_module_version": "1.5.0",
            "_model_name": "ProgressStyleModel",
            "_view_count": null,
            "_view_module": "@jupyter-widgets/base",
            "_view_module_version": "1.2.0",
            "_view_name": "StyleView",
            "bar_color": null,
            "description_width": ""
          }
        },
        "2265c61f5bca4ff791e4189504bb0af8": {
          "model_module": "@jupyter-widgets/base",
          "model_name": "LayoutModel",
          "model_module_version": "1.2.0",
          "state": {
            "_model_module": "@jupyter-widgets/base",
            "_model_module_version": "1.2.0",
            "_model_name": "LayoutModel",
            "_view_count": null,
            "_view_module": "@jupyter-widgets/base",
            "_view_module_version": "1.2.0",
            "_view_name": "LayoutView",
            "align_content": null,
            "align_items": null,
            "align_self": null,
            "border": null,
            "bottom": null,
            "display": null,
            "flex": null,
            "flex_flow": null,
            "grid_area": null,
            "grid_auto_columns": null,
            "grid_auto_flow": null,
            "grid_auto_rows": null,
            "grid_column": null,
            "grid_gap": null,
            "grid_row": null,
            "grid_template_areas": null,
            "grid_template_columns": null,
            "grid_template_rows": null,
            "height": null,
            "justify_content": null,
            "justify_items": null,
            "left": null,
            "margin": null,
            "max_height": null,
            "max_width": null,
            "min_height": null,
            "min_width": null,
            "object_fit": null,
            "object_position": null,
            "order": null,
            "overflow": null,
            "overflow_x": null,
            "overflow_y": null,
            "padding": null,
            "right": null,
            "top": null,
            "visibility": null,
            "width": null
          }
        },
        "50a21cdae22b4e53991f440692de11ac": {
          "model_module": "@jupyter-widgets/controls",
          "model_name": "DescriptionStyleModel",
          "model_module_version": "1.5.0",
          "state": {
            "_model_module": "@jupyter-widgets/controls",
            "_model_module_version": "1.5.0",
            "_model_name": "DescriptionStyleModel",
            "_view_count": null,
            "_view_module": "@jupyter-widgets/base",
            "_view_module_version": "1.2.0",
            "_view_name": "StyleView",
            "description_width": ""
          }
        },
        "bad07fefd38841d393b2741fedfab5bf": {
          "model_module": "@jupyter-widgets/controls",
          "model_name": "HBoxModel",
          "model_module_version": "1.5.0",
          "state": {
            "_dom_classes": [],
            "_model_module": "@jupyter-widgets/controls",
            "_model_module_version": "1.5.0",
            "_model_name": "HBoxModel",
            "_view_count": null,
            "_view_module": "@jupyter-widgets/controls",
            "_view_module_version": "1.5.0",
            "_view_name": "HBoxView",
            "box_style": "",
            "children": [
              "IPY_MODEL_d508eb90dbb94a028e7d05d4639a50d6",
              "IPY_MODEL_4eaec41eb3e447f6884be825731281d5",
              "IPY_MODEL_13a369585cae4512ba2e886487311a63"
            ],
            "layout": "IPY_MODEL_e7cc82fd00b9404188ad89c6518fd57f"
          }
        },
        "d508eb90dbb94a028e7d05d4639a50d6": {
          "model_module": "@jupyter-widgets/controls",
          "model_name": "HTMLModel",
          "model_module_version": "1.5.0",
          "state": {
            "_dom_classes": [],
            "_model_module": "@jupyter-widgets/controls",
            "_model_module_version": "1.5.0",
            "_model_name": "HTMLModel",
            "_view_count": null,
            "_view_module": "@jupyter-widgets/controls",
            "_view_module_version": "1.5.0",
            "_view_name": "HTMLView",
            "description": "",
            "description_tooltip": null,
            "layout": "IPY_MODEL_77fb3eb7b7974dc3a272130173b0cf5a",
            "placeholder": "​",
            "style": "IPY_MODEL_a234400a998c4b089ec32b480ec85f3c",
            "value": "tokenizer.json: 100%"
          }
        },
        "4eaec41eb3e447f6884be825731281d5": {
          "model_module": "@jupyter-widgets/controls",
          "model_name": "FloatProgressModel",
          "model_module_version": "1.5.0",
          "state": {
            "_dom_classes": [],
            "_model_module": "@jupyter-widgets/controls",
            "_model_module_version": "1.5.0",
            "_model_name": "FloatProgressModel",
            "_view_count": null,
            "_view_module": "@jupyter-widgets/controls",
            "_view_module_version": "1.5.0",
            "_view_name": "ProgressView",
            "bar_style": "success",
            "description": "",
            "description_tooltip": null,
            "layout": "IPY_MODEL_34380164e82d4c19a8d1a1eebd097c7e",
            "max": 1351327,
            "min": 0,
            "orientation": "horizontal",
            "style": "IPY_MODEL_4ad808d06dc6412fb9907e74d386b041",
            "value": 1351327
          }
        },
        "13a369585cae4512ba2e886487311a63": {
          "model_module": "@jupyter-widgets/controls",
          "model_name": "HTMLModel",
          "model_module_version": "1.5.0",
          "state": {
            "_dom_classes": [],
            "_model_module": "@jupyter-widgets/controls",
            "_model_module_version": "1.5.0",
            "_model_name": "HTMLModel",
            "_view_count": null,
            "_view_module": "@jupyter-widgets/controls",
            "_view_module_version": "1.5.0",
            "_view_name": "HTMLView",
            "description": "",
            "description_tooltip": null,
            "layout": "IPY_MODEL_c3ec98a7ab6843418f13edc58f35a9da",
            "placeholder": "​",
            "style": "IPY_MODEL_c62b6eadfcdf437881420ad0ed2bced1",
            "value": " 1.35M/1.35M [00:00&lt;00:00, 8.42MB/s]"
          }
        },
        "e7cc82fd00b9404188ad89c6518fd57f": {
          "model_module": "@jupyter-widgets/base",
          "model_name": "LayoutModel",
          "model_module_version": "1.2.0",
          "state": {
            "_model_module": "@jupyter-widgets/base",
            "_model_module_version": "1.2.0",
            "_model_name": "LayoutModel",
            "_view_count": null,
            "_view_module": "@jupyter-widgets/base",
            "_view_module_version": "1.2.0",
            "_view_name": "LayoutView",
            "align_content": null,
            "align_items": null,
            "align_self": null,
            "border": null,
            "bottom": null,
            "display": null,
            "flex": null,
            "flex_flow": null,
            "grid_area": null,
            "grid_auto_columns": null,
            "grid_auto_flow": null,
            "grid_auto_rows": null,
            "grid_column": null,
            "grid_gap": null,
            "grid_row": null,
            "grid_template_areas": null,
            "grid_template_columns": null,
            "grid_template_rows": null,
            "height": null,
            "justify_content": null,
            "justify_items": null,
            "left": null,
            "margin": null,
            "max_height": null,
            "max_width": null,
            "min_height": null,
            "min_width": null,
            "object_fit": null,
            "object_position": null,
            "order": null,
            "overflow": null,
            "overflow_x": null,
            "overflow_y": null,
            "padding": null,
            "right": null,
            "top": null,
            "visibility": null,
            "width": null
          }
        },
        "77fb3eb7b7974dc3a272130173b0cf5a": {
          "model_module": "@jupyter-widgets/base",
          "model_name": "LayoutModel",
          "model_module_version": "1.2.0",
          "state": {
            "_model_module": "@jupyter-widgets/base",
            "_model_module_version": "1.2.0",
            "_model_name": "LayoutModel",
            "_view_count": null,
            "_view_module": "@jupyter-widgets/base",
            "_view_module_version": "1.2.0",
            "_view_name": "LayoutView",
            "align_content": null,
            "align_items": null,
            "align_self": null,
            "border": null,
            "bottom": null,
            "display": null,
            "flex": null,
            "flex_flow": null,
            "grid_area": null,
            "grid_auto_columns": null,
            "grid_auto_flow": null,
            "grid_auto_rows": null,
            "grid_column": null,
            "grid_gap": null,
            "grid_row": null,
            "grid_template_areas": null,
            "grid_template_columns": null,
            "grid_template_rows": null,
            "height": null,
            "justify_content": null,
            "justify_items": null,
            "left": null,
            "margin": null,
            "max_height": null,
            "max_width": null,
            "min_height": null,
            "min_width": null,
            "object_fit": null,
            "object_position": null,
            "order": null,
            "overflow": null,
            "overflow_x": null,
            "overflow_y": null,
            "padding": null,
            "right": null,
            "top": null,
            "visibility": null,
            "width": null
          }
        },
        "a234400a998c4b089ec32b480ec85f3c": {
          "model_module": "@jupyter-widgets/controls",
          "model_name": "DescriptionStyleModel",
          "model_module_version": "1.5.0",
          "state": {
            "_model_module": "@jupyter-widgets/controls",
            "_model_module_version": "1.5.0",
            "_model_name": "DescriptionStyleModel",
            "_view_count": null,
            "_view_module": "@jupyter-widgets/base",
            "_view_module_version": "1.2.0",
            "_view_name": "StyleView",
            "description_width": ""
          }
        },
        "34380164e82d4c19a8d1a1eebd097c7e": {
          "model_module": "@jupyter-widgets/base",
          "model_name": "LayoutModel",
          "model_module_version": "1.2.0",
          "state": {
            "_model_module": "@jupyter-widgets/base",
            "_model_module_version": "1.2.0",
            "_model_name": "LayoutModel",
            "_view_count": null,
            "_view_module": "@jupyter-widgets/base",
            "_view_module_version": "1.2.0",
            "_view_name": "LayoutView",
            "align_content": null,
            "align_items": null,
            "align_self": null,
            "border": null,
            "bottom": null,
            "display": null,
            "flex": null,
            "flex_flow": null,
            "grid_area": null,
            "grid_auto_columns": null,
            "grid_auto_flow": null,
            "grid_auto_rows": null,
            "grid_column": null,
            "grid_gap": null,
            "grid_row": null,
            "grid_template_areas": null,
            "grid_template_columns": null,
            "grid_template_rows": null,
            "height": null,
            "justify_content": null,
            "justify_items": null,
            "left": null,
            "margin": null,
            "max_height": null,
            "max_width": null,
            "min_height": null,
            "min_width": null,
            "object_fit": null,
            "object_position": null,
            "order": null,
            "overflow": null,
            "overflow_x": null,
            "overflow_y": null,
            "padding": null,
            "right": null,
            "top": null,
            "visibility": null,
            "width": null
          }
        },
        "4ad808d06dc6412fb9907e74d386b041": {
          "model_module": "@jupyter-widgets/controls",
          "model_name": "ProgressStyleModel",
          "model_module_version": "1.5.0",
          "state": {
            "_model_module": "@jupyter-widgets/controls",
            "_model_module_version": "1.5.0",
            "_model_name": "ProgressStyleModel",
            "_view_count": null,
            "_view_module": "@jupyter-widgets/base",
            "_view_module_version": "1.2.0",
            "_view_name": "StyleView",
            "bar_color": null,
            "description_width": ""
          }
        },
        "c3ec98a7ab6843418f13edc58f35a9da": {
          "model_module": "@jupyter-widgets/base",
          "model_name": "LayoutModel",
          "model_module_version": "1.2.0",
          "state": {
            "_model_module": "@jupyter-widgets/base",
            "_model_module_version": "1.2.0",
            "_model_name": "LayoutModel",
            "_view_count": null,
            "_view_module": "@jupyter-widgets/base",
            "_view_module_version": "1.2.0",
            "_view_name": "LayoutView",
            "align_content": null,
            "align_items": null,
            "align_self": null,
            "border": null,
            "bottom": null,
            "display": null,
            "flex": null,
            "flex_flow": null,
            "grid_area": null,
            "grid_auto_columns": null,
            "grid_auto_flow": null,
            "grid_auto_rows": null,
            "grid_column": null,
            "grid_gap": null,
            "grid_row": null,
            "grid_template_areas": null,
            "grid_template_columns": null,
            "grid_template_rows": null,
            "height": null,
            "justify_content": null,
            "justify_items": null,
            "left": null,
            "margin": null,
            "max_height": null,
            "max_width": null,
            "min_height": null,
            "min_width": null,
            "object_fit": null,
            "object_position": null,
            "order": null,
            "overflow": null,
            "overflow_x": null,
            "overflow_y": null,
            "padding": null,
            "right": null,
            "top": null,
            "visibility": null,
            "width": null
          }
        },
        "c62b6eadfcdf437881420ad0ed2bced1": {
          "model_module": "@jupyter-widgets/controls",
          "model_name": "DescriptionStyleModel",
          "model_module_version": "1.5.0",
          "state": {
            "_model_module": "@jupyter-widgets/controls",
            "_model_module_version": "1.5.0",
            "_model_name": "DescriptionStyleModel",
            "_view_count": null,
            "_view_module": "@jupyter-widgets/base",
            "_view_module_version": "1.2.0",
            "_view_name": "StyleView",
            "description_width": ""
          }
        },
        "df648e88e15f443ea34fb219d6213626": {
          "model_module": "@jupyter-widgets/controls",
          "model_name": "HBoxModel",
          "model_module_version": "1.5.0",
          "state": {
            "_dom_classes": [],
            "_model_module": "@jupyter-widgets/controls",
            "_model_module_version": "1.5.0",
            "_model_name": "HBoxModel",
            "_view_count": null,
            "_view_module": "@jupyter-widgets/controls",
            "_view_module_version": "1.5.0",
            "_view_name": "HBoxView",
            "box_style": "",
            "children": [
              "IPY_MODEL_cc58ea00404e441fbb0bacb18f842674",
              "IPY_MODEL_c74a0183d6e245dcae053c73574892b5",
              "IPY_MODEL_c8be2e3a931b431e92d80206e8da85af"
            ],
            "layout": "IPY_MODEL_df541d43ef9f4e0a9eac33e055c5e032"
          }
        },
        "cc58ea00404e441fbb0bacb18f842674": {
          "model_module": "@jupyter-widgets/controls",
          "model_name": "HTMLModel",
          "model_module_version": "1.5.0",
          "state": {
            "_dom_classes": [],
            "_model_module": "@jupyter-widgets/controls",
            "_model_module_version": "1.5.0",
            "_model_name": "HTMLModel",
            "_view_count": null,
            "_view_module": "@jupyter-widgets/controls",
            "_view_module_version": "1.5.0",
            "_view_name": "HTMLView",
            "description": "",
            "description_tooltip": null,
            "layout": "IPY_MODEL_e8d8882e10144dc4901ce0ce8f7f776e",
            "placeholder": "​",
            "style": "IPY_MODEL_21cb4003ebc64130b9cc2578c81b092b",
            "value": "special_tokens_map.json: 100%"
          }
        },
        "c74a0183d6e245dcae053c73574892b5": {
          "model_module": "@jupyter-widgets/controls",
          "model_name": "FloatProgressModel",
          "model_module_version": "1.5.0",
          "state": {
            "_dom_classes": [],
            "_model_module": "@jupyter-widgets/controls",
            "_model_module_version": "1.5.0",
            "_model_name": "FloatProgressModel",
            "_view_count": null,
            "_view_module": "@jupyter-widgets/controls",
            "_view_module_version": "1.5.0",
            "_view_name": "ProgressView",
            "bar_style": "success",
            "description": "",
            "description_tooltip": null,
            "layout": "IPY_MODEL_22ec73a7af7844babe7f328e4832277c",
            "max": 1786,
            "min": 0,
            "orientation": "horizontal",
            "style": "IPY_MODEL_c883829795c046cfa3b30948ad7f6b34",
            "value": 1786
          }
        },
        "c8be2e3a931b431e92d80206e8da85af": {
          "model_module": "@jupyter-widgets/controls",
          "model_name": "HTMLModel",
          "model_module_version": "1.5.0",
          "state": {
            "_dom_classes": [],
            "_model_module": "@jupyter-widgets/controls",
            "_model_module_version": "1.5.0",
            "_model_name": "HTMLModel",
            "_view_count": null,
            "_view_module": "@jupyter-widgets/controls",
            "_view_module_version": "1.5.0",
            "_view_name": "HTMLView",
            "description": "",
            "description_tooltip": null,
            "layout": "IPY_MODEL_548be1ecb2ee4c1887bbf603b3e74e1d",
            "placeholder": "​",
            "style": "IPY_MODEL_69ec09a071904816b8dde54cfa899a4d",
            "value": " 1.79k/1.79k [00:00&lt;00:00, 118kB/s]"
          }
        },
        "df541d43ef9f4e0a9eac33e055c5e032": {
          "model_module": "@jupyter-widgets/base",
          "model_name": "LayoutModel",
          "model_module_version": "1.2.0",
          "state": {
            "_model_module": "@jupyter-widgets/base",
            "_model_module_version": "1.2.0",
            "_model_name": "LayoutModel",
            "_view_count": null,
            "_view_module": "@jupyter-widgets/base",
            "_view_module_version": "1.2.0",
            "_view_name": "LayoutView",
            "align_content": null,
            "align_items": null,
            "align_self": null,
            "border": null,
            "bottom": null,
            "display": null,
            "flex": null,
            "flex_flow": null,
            "grid_area": null,
            "grid_auto_columns": null,
            "grid_auto_flow": null,
            "grid_auto_rows": null,
            "grid_column": null,
            "grid_gap": null,
            "grid_row": null,
            "grid_template_areas": null,
            "grid_template_columns": null,
            "grid_template_rows": null,
            "height": null,
            "justify_content": null,
            "justify_items": null,
            "left": null,
            "margin": null,
            "max_height": null,
            "max_width": null,
            "min_height": null,
            "min_width": null,
            "object_fit": null,
            "object_position": null,
            "order": null,
            "overflow": null,
            "overflow_x": null,
            "overflow_y": null,
            "padding": null,
            "right": null,
            "top": null,
            "visibility": null,
            "width": null
          }
        },
        "e8d8882e10144dc4901ce0ce8f7f776e": {
          "model_module": "@jupyter-widgets/base",
          "model_name": "LayoutModel",
          "model_module_version": "1.2.0",
          "state": {
            "_model_module": "@jupyter-widgets/base",
            "_model_module_version": "1.2.0",
            "_model_name": "LayoutModel",
            "_view_count": null,
            "_view_module": "@jupyter-widgets/base",
            "_view_module_version": "1.2.0",
            "_view_name": "LayoutView",
            "align_content": null,
            "align_items": null,
            "align_self": null,
            "border": null,
            "bottom": null,
            "display": null,
            "flex": null,
            "flex_flow": null,
            "grid_area": null,
            "grid_auto_columns": null,
            "grid_auto_flow": null,
            "grid_auto_rows": null,
            "grid_column": null,
            "grid_gap": null,
            "grid_row": null,
            "grid_template_areas": null,
            "grid_template_columns": null,
            "grid_template_rows": null,
            "height": null,
            "justify_content": null,
            "justify_items": null,
            "left": null,
            "margin": null,
            "max_height": null,
            "max_width": null,
            "min_height": null,
            "min_width": null,
            "object_fit": null,
            "object_position": null,
            "order": null,
            "overflow": null,
            "overflow_x": null,
            "overflow_y": null,
            "padding": null,
            "right": null,
            "top": null,
            "visibility": null,
            "width": null
          }
        },
        "21cb4003ebc64130b9cc2578c81b092b": {
          "model_module": "@jupyter-widgets/controls",
          "model_name": "DescriptionStyleModel",
          "model_module_version": "1.5.0",
          "state": {
            "_model_module": "@jupyter-widgets/controls",
            "_model_module_version": "1.5.0",
            "_model_name": "DescriptionStyleModel",
            "_view_count": null,
            "_view_module": "@jupyter-widgets/base",
            "_view_module_version": "1.2.0",
            "_view_name": "StyleView",
            "description_width": ""
          }
        },
        "22ec73a7af7844babe7f328e4832277c": {
          "model_module": "@jupyter-widgets/base",
          "model_name": "LayoutModel",
          "model_module_version": "1.2.0",
          "state": {
            "_model_module": "@jupyter-widgets/base",
            "_model_module_version": "1.2.0",
            "_model_name": "LayoutModel",
            "_view_count": null,
            "_view_module": "@jupyter-widgets/base",
            "_view_module_version": "1.2.0",
            "_view_name": "LayoutView",
            "align_content": null,
            "align_items": null,
            "align_self": null,
            "border": null,
            "bottom": null,
            "display": null,
            "flex": null,
            "flex_flow": null,
            "grid_area": null,
            "grid_auto_columns": null,
            "grid_auto_flow": null,
            "grid_auto_rows": null,
            "grid_column": null,
            "grid_gap": null,
            "grid_row": null,
            "grid_template_areas": null,
            "grid_template_columns": null,
            "grid_template_rows": null,
            "height": null,
            "justify_content": null,
            "justify_items": null,
            "left": null,
            "margin": null,
            "max_height": null,
            "max_width": null,
            "min_height": null,
            "min_width": null,
            "object_fit": null,
            "object_position": null,
            "order": null,
            "overflow": null,
            "overflow_x": null,
            "overflow_y": null,
            "padding": null,
            "right": null,
            "top": null,
            "visibility": null,
            "width": null
          }
        },
        "c883829795c046cfa3b30948ad7f6b34": {
          "model_module": "@jupyter-widgets/controls",
          "model_name": "ProgressStyleModel",
          "model_module_version": "1.5.0",
          "state": {
            "_model_module": "@jupyter-widgets/controls",
            "_model_module_version": "1.5.0",
            "_model_name": "ProgressStyleModel",
            "_view_count": null,
            "_view_module": "@jupyter-widgets/base",
            "_view_module_version": "1.2.0",
            "_view_name": "StyleView",
            "bar_color": null,
            "description_width": ""
          }
        },
        "548be1ecb2ee4c1887bbf603b3e74e1d": {
          "model_module": "@jupyter-widgets/base",
          "model_name": "LayoutModel",
          "model_module_version": "1.2.0",
          "state": {
            "_model_module": "@jupyter-widgets/base",
            "_model_module_version": "1.2.0",
            "_model_name": "LayoutModel",
            "_view_count": null,
            "_view_module": "@jupyter-widgets/base",
            "_view_module_version": "1.2.0",
            "_view_name": "LayoutView",
            "align_content": null,
            "align_items": null,
            "align_self": null,
            "border": null,
            "bottom": null,
            "display": null,
            "flex": null,
            "flex_flow": null,
            "grid_area": null,
            "grid_auto_columns": null,
            "grid_auto_flow": null,
            "grid_auto_rows": null,
            "grid_column": null,
            "grid_gap": null,
            "grid_row": null,
            "grid_template_areas": null,
            "grid_template_columns": null,
            "grid_template_rows": null,
            "height": null,
            "justify_content": null,
            "justify_items": null,
            "left": null,
            "margin": null,
            "max_height": null,
            "max_width": null,
            "min_height": null,
            "min_width": null,
            "object_fit": null,
            "object_position": null,
            "order": null,
            "overflow": null,
            "overflow_x": null,
            "overflow_y": null,
            "padding": null,
            "right": null,
            "top": null,
            "visibility": null,
            "width": null
          }
        },
        "69ec09a071904816b8dde54cfa899a4d": {
          "model_module": "@jupyter-widgets/controls",
          "model_name": "DescriptionStyleModel",
          "model_module_version": "1.5.0",
          "state": {
            "_model_module": "@jupyter-widgets/controls",
            "_model_module_version": "1.5.0",
            "_model_name": "DescriptionStyleModel",
            "_view_count": null,
            "_view_module": "@jupyter-widgets/base",
            "_view_module_version": "1.2.0",
            "_view_name": "StyleView",
            "description_width": ""
          }
        },
        "527afccd0c624ab58d0eac4610970a5f": {
          "model_module": "@jupyter-widgets/controls",
          "model_name": "HBoxModel",
          "model_module_version": "1.5.0",
          "state": {
            "_dom_classes": [],
            "_model_module": "@jupyter-widgets/controls",
            "_model_module_version": "1.5.0",
            "_model_name": "HBoxModel",
            "_view_count": null,
            "_view_module": "@jupyter-widgets/controls",
            "_view_module_version": "1.5.0",
            "_view_name": "HBoxView",
            "box_style": "",
            "children": [
              "IPY_MODEL_85b4141a4a57409289c340563fa7b72c",
              "IPY_MODEL_2a3c361cc38d4d6ca120c2c70e37a337",
              "IPY_MODEL_fcdcb211fa06446aa83b011bc0298a0a"
            ],
            "layout": "IPY_MODEL_5d77c733a3694a0986fc7fbf7872b6b6"
          }
        },
        "85b4141a4a57409289c340563fa7b72c": {
          "model_module": "@jupyter-widgets/controls",
          "model_name": "HTMLModel",
          "model_module_version": "1.5.0",
          "state": {
            "_dom_classes": [],
            "_model_module": "@jupyter-widgets/controls",
            "_model_module_version": "1.5.0",
            "_model_name": "HTMLModel",
            "_view_count": null,
            "_view_module": "@jupyter-widgets/controls",
            "_view_module_version": "1.5.0",
            "_view_name": "HTMLView",
            "description": "",
            "description_tooltip": null,
            "layout": "IPY_MODEL_2f76ecae88e140f59d2ae2862c533e4e",
            "placeholder": "​",
            "style": "IPY_MODEL_547c9790fc5b4759af22f6b69876cfab",
            "value": "config.json: 100%"
          }
        },
        "2a3c361cc38d4d6ca120c2c70e37a337": {
          "model_module": "@jupyter-widgets/controls",
          "model_name": "FloatProgressModel",
          "model_module_version": "1.5.0",
          "state": {
            "_dom_classes": [],
            "_model_module": "@jupyter-widgets/controls",
            "_model_module_version": "1.5.0",
            "_model_name": "FloatProgressModel",
            "_view_count": null,
            "_view_module": "@jupyter-widgets/controls",
            "_view_module_version": "1.5.0",
            "_view_name": "ProgressView",
            "bar_style": "success",
            "description": "",
            "description_tooltip": null,
            "layout": "IPY_MODEL_a7d89c9f06b84b6a9fa2674d506b82d5",
            "max": 634,
            "min": 0,
            "orientation": "horizontal",
            "style": "IPY_MODEL_3caf2387d8294f6d83b032870e4219ed",
            "value": 634
          }
        },
        "fcdcb211fa06446aa83b011bc0298a0a": {
          "model_module": "@jupyter-widgets/controls",
          "model_name": "HTMLModel",
          "model_module_version": "1.5.0",
          "state": {
            "_dom_classes": [],
            "_model_module": "@jupyter-widgets/controls",
            "_model_module_version": "1.5.0",
            "_model_name": "HTMLModel",
            "_view_count": null,
            "_view_module": "@jupyter-widgets/controls",
            "_view_module_version": "1.5.0",
            "_view_name": "HTMLView",
            "description": "",
            "description_tooltip": null,
            "layout": "IPY_MODEL_fecff5e69ca7451493b80299d8b58ed5",
            "placeholder": "​",
            "style": "IPY_MODEL_9f373697ecce4c4dbf4fd450793e8065",
            "value": " 634/634 [00:00&lt;00:00, 18.9kB/s]"
          }
        },
        "5d77c733a3694a0986fc7fbf7872b6b6": {
          "model_module": "@jupyter-widgets/base",
          "model_name": "LayoutModel",
          "model_module_version": "1.2.0",
          "state": {
            "_model_module": "@jupyter-widgets/base",
            "_model_module_version": "1.2.0",
            "_model_name": "LayoutModel",
            "_view_count": null,
            "_view_module": "@jupyter-widgets/base",
            "_view_module_version": "1.2.0",
            "_view_name": "LayoutView",
            "align_content": null,
            "align_items": null,
            "align_self": null,
            "border": null,
            "bottom": null,
            "display": null,
            "flex": null,
            "flex_flow": null,
            "grid_area": null,
            "grid_auto_columns": null,
            "grid_auto_flow": null,
            "grid_auto_rows": null,
            "grid_column": null,
            "grid_gap": null,
            "grid_row": null,
            "grid_template_areas": null,
            "grid_template_columns": null,
            "grid_template_rows": null,
            "height": null,
            "justify_content": null,
            "justify_items": null,
            "left": null,
            "margin": null,
            "max_height": null,
            "max_width": null,
            "min_height": null,
            "min_width": null,
            "object_fit": null,
            "object_position": null,
            "order": null,
            "overflow": null,
            "overflow_x": null,
            "overflow_y": null,
            "padding": null,
            "right": null,
            "top": null,
            "visibility": null,
            "width": null
          }
        },
        "2f76ecae88e140f59d2ae2862c533e4e": {
          "model_module": "@jupyter-widgets/base",
          "model_name": "LayoutModel",
          "model_module_version": "1.2.0",
          "state": {
            "_model_module": "@jupyter-widgets/base",
            "_model_module_version": "1.2.0",
            "_model_name": "LayoutModel",
            "_view_count": null,
            "_view_module": "@jupyter-widgets/base",
            "_view_module_version": "1.2.0",
            "_view_name": "LayoutView",
            "align_content": null,
            "align_items": null,
            "align_self": null,
            "border": null,
            "bottom": null,
            "display": null,
            "flex": null,
            "flex_flow": null,
            "grid_area": null,
            "grid_auto_columns": null,
            "grid_auto_flow": null,
            "grid_auto_rows": null,
            "grid_column": null,
            "grid_gap": null,
            "grid_row": null,
            "grid_template_areas": null,
            "grid_template_columns": null,
            "grid_template_rows": null,
            "height": null,
            "justify_content": null,
            "justify_items": null,
            "left": null,
            "margin": null,
            "max_height": null,
            "max_width": null,
            "min_height": null,
            "min_width": null,
            "object_fit": null,
            "object_position": null,
            "order": null,
            "overflow": null,
            "overflow_x": null,
            "overflow_y": null,
            "padding": null,
            "right": null,
            "top": null,
            "visibility": null,
            "width": null
          }
        },
        "547c9790fc5b4759af22f6b69876cfab": {
          "model_module": "@jupyter-widgets/controls",
          "model_name": "DescriptionStyleModel",
          "model_module_version": "1.5.0",
          "state": {
            "_model_module": "@jupyter-widgets/controls",
            "_model_module_version": "1.5.0",
            "_model_name": "DescriptionStyleModel",
            "_view_count": null,
            "_view_module": "@jupyter-widgets/base",
            "_view_module_version": "1.2.0",
            "_view_name": "StyleView",
            "description_width": ""
          }
        },
        "a7d89c9f06b84b6a9fa2674d506b82d5": {
          "model_module": "@jupyter-widgets/base",
          "model_name": "LayoutModel",
          "model_module_version": "1.2.0",
          "state": {
            "_model_module": "@jupyter-widgets/base",
            "_model_module_version": "1.2.0",
            "_model_name": "LayoutModel",
            "_view_count": null,
            "_view_module": "@jupyter-widgets/base",
            "_view_module_version": "1.2.0",
            "_view_name": "LayoutView",
            "align_content": null,
            "align_items": null,
            "align_self": null,
            "border": null,
            "bottom": null,
            "display": null,
            "flex": null,
            "flex_flow": null,
            "grid_area": null,
            "grid_auto_columns": null,
            "grid_auto_flow": null,
            "grid_auto_rows": null,
            "grid_column": null,
            "grid_gap": null,
            "grid_row": null,
            "grid_template_areas": null,
            "grid_template_columns": null,
            "grid_template_rows": null,
            "height": null,
            "justify_content": null,
            "justify_items": null,
            "left": null,
            "margin": null,
            "max_height": null,
            "max_width": null,
            "min_height": null,
            "min_width": null,
            "object_fit": null,
            "object_position": null,
            "order": null,
            "overflow": null,
            "overflow_x": null,
            "overflow_y": null,
            "padding": null,
            "right": null,
            "top": null,
            "visibility": null,
            "width": null
          }
        },
        "3caf2387d8294f6d83b032870e4219ed": {
          "model_module": "@jupyter-widgets/controls",
          "model_name": "ProgressStyleModel",
          "model_module_version": "1.5.0",
          "state": {
            "_model_module": "@jupyter-widgets/controls",
            "_model_module_version": "1.5.0",
            "_model_name": "ProgressStyleModel",
            "_view_count": null,
            "_view_module": "@jupyter-widgets/base",
            "_view_module_version": "1.2.0",
            "_view_name": "StyleView",
            "bar_color": null,
            "description_width": ""
          }
        },
        "fecff5e69ca7451493b80299d8b58ed5": {
          "model_module": "@jupyter-widgets/base",
          "model_name": "LayoutModel",
          "model_module_version": "1.2.0",
          "state": {
            "_model_module": "@jupyter-widgets/base",
            "_model_module_version": "1.2.0",
            "_model_name": "LayoutModel",
            "_view_count": null,
            "_view_module": "@jupyter-widgets/base",
            "_view_module_version": "1.2.0",
            "_view_name": "LayoutView",
            "align_content": null,
            "align_items": null,
            "align_self": null,
            "border": null,
            "bottom": null,
            "display": null,
            "flex": null,
            "flex_flow": null,
            "grid_area": null,
            "grid_auto_columns": null,
            "grid_auto_flow": null,
            "grid_auto_rows": null,
            "grid_column": null,
            "grid_gap": null,
            "grid_row": null,
            "grid_template_areas": null,
            "grid_template_columns": null,
            "grid_template_rows": null,
            "height": null,
            "justify_content": null,
            "justify_items": null,
            "left": null,
            "margin": null,
            "max_height": null,
            "max_width": null,
            "min_height": null,
            "min_width": null,
            "object_fit": null,
            "object_position": null,
            "order": null,
            "overflow": null,
            "overflow_x": null,
            "overflow_y": null,
            "padding": null,
            "right": null,
            "top": null,
            "visibility": null,
            "width": null
          }
        },
        "9f373697ecce4c4dbf4fd450793e8065": {
          "model_module": "@jupyter-widgets/controls",
          "model_name": "DescriptionStyleModel",
          "model_module_version": "1.5.0",
          "state": {
            "_model_module": "@jupyter-widgets/controls",
            "_model_module_version": "1.5.0",
            "_model_name": "DescriptionStyleModel",
            "_view_count": null,
            "_view_module": "@jupyter-widgets/base",
            "_view_module_version": "1.2.0",
            "_view_name": "StyleView",
            "description_width": ""
          }
        },
        "c449a98bf3c24301833109bb1fe73491": {
          "model_module": "@jupyter-widgets/controls",
          "model_name": "HBoxModel",
          "model_module_version": "1.5.0",
          "state": {
            "_dom_classes": [],
            "_model_module": "@jupyter-widgets/controls",
            "_model_module_version": "1.5.0",
            "_model_name": "HBoxModel",
            "_view_count": null,
            "_view_module": "@jupyter-widgets/controls",
            "_view_module_version": "1.5.0",
            "_view_name": "HBoxView",
            "box_style": "",
            "children": [
              "IPY_MODEL_92e44fc194174c35a1dc23802dca91a8",
              "IPY_MODEL_67f1e5f5b3ad4c6b8bfb5e1d026034ce",
              "IPY_MODEL_889c9e01cfc344fdb71b17a9ef9cbc96"
            ],
            "layout": "IPY_MODEL_4b3dd4e031034411aaddbf66d09465ff"
          }
        },
        "92e44fc194174c35a1dc23802dca91a8": {
          "model_module": "@jupyter-widgets/controls",
          "model_name": "HTMLModel",
          "model_module_version": "1.5.0",
          "state": {
            "_dom_classes": [],
            "_model_module": "@jupyter-widgets/controls",
            "_model_module_version": "1.5.0",
            "_model_name": "HTMLModel",
            "_view_count": null,
            "_view_module": "@jupyter-widgets/controls",
            "_view_module_version": "1.5.0",
            "_view_name": "HTMLView",
            "description": "",
            "description_tooltip": null,
            "layout": "IPY_MODEL_35f2ff2d55b34067a8c7f66f50bdd26b",
            "placeholder": "​",
            "style": "IPY_MODEL_d179c697b5dd4b7da9eb995dc28e364f",
            "value": "pytorch_model.bin: 100%"
          }
        },
        "67f1e5f5b3ad4c6b8bfb5e1d026034ce": {
          "model_module": "@jupyter-widgets/controls",
          "model_name": "FloatProgressModel",
          "model_module_version": "1.5.0",
          "state": {
            "_dom_classes": [],
            "_model_module": "@jupyter-widgets/controls",
            "_model_module_version": "1.5.0",
            "_model_name": "FloatProgressModel",
            "_view_count": null,
            "_view_module": "@jupyter-widgets/controls",
            "_view_module_version": "1.5.0",
            "_view_name": "ProgressView",
            "bar_style": "success",
            "description": "",
            "description_tooltip": null,
            "layout": "IPY_MODEL_f1101bcc3733450695c0aebeed0fa268",
            "max": 891689589,
            "min": 0,
            "orientation": "horizontal",
            "style": "IPY_MODEL_d18c2a62786b4edd8fc4edfdb5bb2fd8",
            "value": 891689589
          }
        },
        "889c9e01cfc344fdb71b17a9ef9cbc96": {
          "model_module": "@jupyter-widgets/controls",
          "model_name": "HTMLModel",
          "model_module_version": "1.5.0",
          "state": {
            "_dom_classes": [],
            "_model_module": "@jupyter-widgets/controls",
            "_model_module_version": "1.5.0",
            "_model_name": "HTMLModel",
            "_view_count": null,
            "_view_module": "@jupyter-widgets/controls",
            "_view_module_version": "1.5.0",
            "_view_name": "HTMLView",
            "description": "",
            "description_tooltip": null,
            "layout": "IPY_MODEL_d6086a79bf91489794930e57bb629428",
            "placeholder": "​",
            "style": "IPY_MODEL_7532ffbdf274495ca45c7d4af26981b9",
            "value": " 892M/892M [00:03&lt;00:00, 224MB/s]"
          }
        },
        "4b3dd4e031034411aaddbf66d09465ff": {
          "model_module": "@jupyter-widgets/base",
          "model_name": "LayoutModel",
          "model_module_version": "1.2.0",
          "state": {
            "_model_module": "@jupyter-widgets/base",
            "_model_module_version": "1.2.0",
            "_model_name": "LayoutModel",
            "_view_count": null,
            "_view_module": "@jupyter-widgets/base",
            "_view_module_version": "1.2.0",
            "_view_name": "LayoutView",
            "align_content": null,
            "align_items": null,
            "align_self": null,
            "border": null,
            "bottom": null,
            "display": null,
            "flex": null,
            "flex_flow": null,
            "grid_area": null,
            "grid_auto_columns": null,
            "grid_auto_flow": null,
            "grid_auto_rows": null,
            "grid_column": null,
            "grid_gap": null,
            "grid_row": null,
            "grid_template_areas": null,
            "grid_template_columns": null,
            "grid_template_rows": null,
            "height": null,
            "justify_content": null,
            "justify_items": null,
            "left": null,
            "margin": null,
            "max_height": null,
            "max_width": null,
            "min_height": null,
            "min_width": null,
            "object_fit": null,
            "object_position": null,
            "order": null,
            "overflow": null,
            "overflow_x": null,
            "overflow_y": null,
            "padding": null,
            "right": null,
            "top": null,
            "visibility": null,
            "width": null
          }
        },
        "35f2ff2d55b34067a8c7f66f50bdd26b": {
          "model_module": "@jupyter-widgets/base",
          "model_name": "LayoutModel",
          "model_module_version": "1.2.0",
          "state": {
            "_model_module": "@jupyter-widgets/base",
            "_model_module_version": "1.2.0",
            "_model_name": "LayoutModel",
            "_view_count": null,
            "_view_module": "@jupyter-widgets/base",
            "_view_module_version": "1.2.0",
            "_view_name": "LayoutView",
            "align_content": null,
            "align_items": null,
            "align_self": null,
            "border": null,
            "bottom": null,
            "display": null,
            "flex": null,
            "flex_flow": null,
            "grid_area": null,
            "grid_auto_columns": null,
            "grid_auto_flow": null,
            "grid_auto_rows": null,
            "grid_column": null,
            "grid_gap": null,
            "grid_row": null,
            "grid_template_areas": null,
            "grid_template_columns": null,
            "grid_template_rows": null,
            "height": null,
            "justify_content": null,
            "justify_items": null,
            "left": null,
            "margin": null,
            "max_height": null,
            "max_width": null,
            "min_height": null,
            "min_width": null,
            "object_fit": null,
            "object_position": null,
            "order": null,
            "overflow": null,
            "overflow_x": null,
            "overflow_y": null,
            "padding": null,
            "right": null,
            "top": null,
            "visibility": null,
            "width": null
          }
        },
        "d179c697b5dd4b7da9eb995dc28e364f": {
          "model_module": "@jupyter-widgets/controls",
          "model_name": "DescriptionStyleModel",
          "model_module_version": "1.5.0",
          "state": {
            "_model_module": "@jupyter-widgets/controls",
            "_model_module_version": "1.5.0",
            "_model_name": "DescriptionStyleModel",
            "_view_count": null,
            "_view_module": "@jupyter-widgets/base",
            "_view_module_version": "1.2.0",
            "_view_name": "StyleView",
            "description_width": ""
          }
        },
        "f1101bcc3733450695c0aebeed0fa268": {
          "model_module": "@jupyter-widgets/base",
          "model_name": "LayoutModel",
          "model_module_version": "1.2.0",
          "state": {
            "_model_module": "@jupyter-widgets/base",
            "_model_module_version": "1.2.0",
            "_model_name": "LayoutModel",
            "_view_count": null,
            "_view_module": "@jupyter-widgets/base",
            "_view_module_version": "1.2.0",
            "_view_name": "LayoutView",
            "align_content": null,
            "align_items": null,
            "align_self": null,
            "border": null,
            "bottom": null,
            "display": null,
            "flex": null,
            "flex_flow": null,
            "grid_area": null,
            "grid_auto_columns": null,
            "grid_auto_flow": null,
            "grid_auto_rows": null,
            "grid_column": null,
            "grid_gap": null,
            "grid_row": null,
            "grid_template_areas": null,
            "grid_template_columns": null,
            "grid_template_rows": null,
            "height": null,
            "justify_content": null,
            "justify_items": null,
            "left": null,
            "margin": null,
            "max_height": null,
            "max_width": null,
            "min_height": null,
            "min_width": null,
            "object_fit": null,
            "object_position": null,
            "order": null,
            "overflow": null,
            "overflow_x": null,
            "overflow_y": null,
            "padding": null,
            "right": null,
            "top": null,
            "visibility": null,
            "width": null
          }
        },
        "d18c2a62786b4edd8fc4edfdb5bb2fd8": {
          "model_module": "@jupyter-widgets/controls",
          "model_name": "ProgressStyleModel",
          "model_module_version": "1.5.0",
          "state": {
            "_model_module": "@jupyter-widgets/controls",
            "_model_module_version": "1.5.0",
            "_model_name": "ProgressStyleModel",
            "_view_count": null,
            "_view_module": "@jupyter-widgets/base",
            "_view_module_version": "1.2.0",
            "_view_name": "StyleView",
            "bar_color": null,
            "description_width": ""
          }
        },
        "d6086a79bf91489794930e57bb629428": {
          "model_module": "@jupyter-widgets/base",
          "model_name": "LayoutModel",
          "model_module_version": "1.2.0",
          "state": {
            "_model_module": "@jupyter-widgets/base",
            "_model_module_version": "1.2.0",
            "_model_name": "LayoutModel",
            "_view_count": null,
            "_view_module": "@jupyter-widgets/base",
            "_view_module_version": "1.2.0",
            "_view_name": "LayoutView",
            "align_content": null,
            "align_items": null,
            "align_self": null,
            "border": null,
            "bottom": null,
            "display": null,
            "flex": null,
            "flex_flow": null,
            "grid_area": null,
            "grid_auto_columns": null,
            "grid_auto_flow": null,
            "grid_auto_rows": null,
            "grid_column": null,
            "grid_gap": null,
            "grid_row": null,
            "grid_template_areas": null,
            "grid_template_columns": null,
            "grid_template_rows": null,
            "height": null,
            "justify_content": null,
            "justify_items": null,
            "left": null,
            "margin": null,
            "max_height": null,
            "max_width": null,
            "min_height": null,
            "min_width": null,
            "object_fit": null,
            "object_position": null,
            "order": null,
            "overflow": null,
            "overflow_x": null,
            "overflow_y": null,
            "padding": null,
            "right": null,
            "top": null,
            "visibility": null,
            "width": null
          }
        },
        "7532ffbdf274495ca45c7d4af26981b9": {
          "model_module": "@jupyter-widgets/controls",
          "model_name": "DescriptionStyleModel",
          "model_module_version": "1.5.0",
          "state": {
            "_model_module": "@jupyter-widgets/controls",
            "_model_module_version": "1.5.0",
            "_model_name": "DescriptionStyleModel",
            "_view_count": null,
            "_view_module": "@jupyter-widgets/base",
            "_view_module_version": "1.2.0",
            "_view_name": "StyleView",
            "description_width": ""
          }
        }
      }
    }
  },
  "cells": [
    {
      "cell_type": "markdown",
      "metadata": {
        "id": "view-in-github",
        "colab_type": "text"
      },
      "source": [
        "<a href=\"https://colab.research.google.com/github/armandossrecife/mysummary/blob/main/text_summary_only_transformers.ipynb\" target=\"_parent\"><img src=\"https://colab.research.google.com/assets/colab-badge.svg\" alt=\"Open In Colab\"/></a>"
      ]
    },
    {
      "cell_type": "markdown",
      "source": [
        "# Resumo de texto em português usando apenas o Transformers"
      ],
      "metadata": {
        "id": "LN6jEsqroR8T"
      }
    },
    {
      "cell_type": "markdown",
      "source": [
        "Lendo o conteúdo de um arquivo pdf e fazer o resumo desse conteudo em Português.\n",
        "\n",
        "Os modelos estáveis que usam Transformers só reconhecem texto em inglês\n",
        "\n",
        "1. Ler o conteúdo em português\n",
        "2. Traduz o conteúdo de português para inglês (usando o modelo unicamp-dl/translation-pt-en-t5)\n",
        "3. Faz o resumo do texto em inglês (usando o modelo Falconsai/text_summarization)\n",
        "4. Traduz o resumo de inglês para português (usando o modelo unicamp-dl/translation-en-pt-t5)\n",
        "5. Exibe o resultado do resumo em português"
      ],
      "metadata": {
        "id": "I7uk8xzSoXgS"
      }
    },
    {
      "cell_type": "markdown",
      "source": [
        "## Instalação das dependências"
      ],
      "metadata": {
        "id": "WHTUhREypax2"
      }
    },
    {
      "cell_type": "code",
      "execution_count": 1,
      "metadata": {
        "colab": {
          "base_uri": "https://localhost:8080/"
        },
        "id": "CEMP_mU6oCvo",
        "outputId": "353a7bdc-3831-41e5-bfcb-bea02d9d8ac5"
      },
      "outputs": [
        {
          "output_type": "stream",
          "name": "stdout",
          "text": [
            "Requirement already satisfied: transformers in /usr/local/lib/python3.10/dist-packages (4.44.2)\n",
            "Requirement already satisfied: filelock in /usr/local/lib/python3.10/dist-packages (from transformers) (3.16.1)\n",
            "Requirement already satisfied: huggingface-hub<1.0,>=0.23.2 in /usr/local/lib/python3.10/dist-packages (from transformers) (0.24.7)\n",
            "Requirement already satisfied: numpy>=1.17 in /usr/local/lib/python3.10/dist-packages (from transformers) (1.26.4)\n",
            "Requirement already satisfied: packaging>=20.0 in /usr/local/lib/python3.10/dist-packages (from transformers) (24.1)\n",
            "Requirement already satisfied: pyyaml>=5.1 in /usr/local/lib/python3.10/dist-packages (from transformers) (6.0.2)\n",
            "Requirement already satisfied: regex!=2019.12.17 in /usr/local/lib/python3.10/dist-packages (from transformers) (2024.9.11)\n",
            "Requirement already satisfied: requests in /usr/local/lib/python3.10/dist-packages (from transformers) (2.32.3)\n",
            "Requirement already satisfied: safetensors>=0.4.1 in /usr/local/lib/python3.10/dist-packages (from transformers) (0.4.5)\n",
            "Requirement already satisfied: tokenizers<0.20,>=0.19 in /usr/local/lib/python3.10/dist-packages (from transformers) (0.19.1)\n",
            "Requirement already satisfied: tqdm>=4.27 in /usr/local/lib/python3.10/dist-packages (from transformers) (4.66.5)\n",
            "Requirement already satisfied: fsspec>=2023.5.0 in /usr/local/lib/python3.10/dist-packages (from huggingface-hub<1.0,>=0.23.2->transformers) (2024.6.1)\n",
            "Requirement already satisfied: typing-extensions>=3.7.4.3 in /usr/local/lib/python3.10/dist-packages (from huggingface-hub<1.0,>=0.23.2->transformers) (4.12.2)\n",
            "Requirement already satisfied: charset-normalizer<4,>=2 in /usr/local/lib/python3.10/dist-packages (from requests->transformers) (3.4.0)\n",
            "Requirement already satisfied: idna<4,>=2.5 in /usr/local/lib/python3.10/dist-packages (from requests->transformers) (3.10)\n",
            "Requirement already satisfied: urllib3<3,>=1.21.1 in /usr/local/lib/python3.10/dist-packages (from requests->transformers) (2.2.3)\n",
            "Requirement already satisfied: certifi>=2017.4.17 in /usr/local/lib/python3.10/dist-packages (from requests->transformers) (2024.8.30)\n"
          ]
        }
      ],
      "source": [
        "!pip install transformers"
      ]
    },
    {
      "cell_type": "code",
      "source": [
        "!pip install PyPDF2"
      ],
      "metadata": {
        "colab": {
          "base_uri": "https://localhost:8080/"
        },
        "id": "pF8bra-zoKv0",
        "outputId": "e53f1725-00df-459d-94a1-4d0312e0b8f0"
      },
      "execution_count": 2,
      "outputs": [
        {
          "output_type": "stream",
          "name": "stdout",
          "text": [
            "Requirement already satisfied: PyPDF2 in /usr/local/lib/python3.10/dist-packages (3.0.1)\n"
          ]
        }
      ]
    },
    {
      "cell_type": "markdown",
      "source": [
        "## Baixa o arquivo que será resumido"
      ],
      "metadata": {
        "id": "HitRMzQRpqE5"
      }
    },
    {
      "cell_type": "code",
      "source": [
        "!wget https://raw.githubusercontent.com/armandossrecife/mysummary/refs/heads/main/pdfs/d1.pdf"
      ],
      "metadata": {
        "colab": {
          "base_uri": "https://localhost:8080/"
        },
        "id": "kR3-Fv51pjrr",
        "outputId": "55c597e5-698f-442a-c5a6-dccfdd1036ad"
      },
      "execution_count": 3,
      "outputs": [
        {
          "output_type": "stream",
          "name": "stdout",
          "text": [
            "--2024-10-19 16:40:24--  https://raw.githubusercontent.com/armandossrecife/mysummary/refs/heads/main/pdfs/d1.pdf\n",
            "Resolving raw.githubusercontent.com (raw.githubusercontent.com)... 185.199.108.133, 185.199.109.133, 185.199.110.133, ...\n",
            "Connecting to raw.githubusercontent.com (raw.githubusercontent.com)|185.199.108.133|:443... connected.\n",
            "HTTP request sent, awaiting response... 200 OK\n",
            "Length: 1850029 (1.8M) [application/octet-stream]\n",
            "Saving to: ‘d1.pdf’\n",
            "\n",
            "\rd1.pdf                0%[                    ]       0  --.-KB/s               \rd1.pdf              100%[===================>]   1.76M  --.-KB/s    in 0.01s   \n",
            "\n",
            "2024-10-19 16:40:25 (167 MB/s) - ‘d1.pdf’ saved [1850029/1850029]\n",
            "\n"
          ]
        }
      ]
    },
    {
      "cell_type": "markdown",
      "source": [
        "## Funções de Apoio"
      ],
      "metadata": {
        "id": "Y-3OQXGfpx5W"
      }
    },
    {
      "cell_type": "code",
      "source": [
        "import PyPDF2\n",
        "import os\n",
        "from datetime import datetime\n",
        "# Load pipeline from transformers\n",
        "from transformers import pipeline\n",
        "from tqdm import tqdm\n",
        "\n",
        "def extract_pdf_text(pdf_path):\n",
        "    try:\n",
        "        with open(pdf_path, 'rb') as pdf_file:\n",
        "            pdf_reader = PyPDF2.PdfReader(pdf_file)\n",
        "\n",
        "            pdf_text = {}\n",
        "            for page_num in range(len(pdf_reader.pages)):\n",
        "                page = pdf_reader.pages[page_num]\n",
        "                text = page.extract_text()\n",
        "                pdf_text[page_num + 1] = text\n",
        "            return pdf_text\n",
        "    except FileNotFoundError:\n",
        "        print(f\"Error: PDF file not found at {pdf_path}\")\n",
        "    except PermissionError:\n",
        "        print(f\"Error: Permission denied to access PDF file at {pdf_path}\")\n",
        "    except Exception as e:\n",
        "        print(f\"Error: An unexpected error occurred: {e}\")"
      ],
      "metadata": {
        "id": "XSaFw3THpsqe"
      },
      "execution_count": 23,
      "outputs": []
    },
    {
      "cell_type": "markdown",
      "source": [
        "## Ler o conteúdo texto do arquivo pdf"
      ],
      "metadata": {
        "id": "2OgqYLeBqQ6C"
      }
    },
    {
      "cell_type": "code",
      "source": [
        "texto_documento = \"\"\n",
        "meu_conteudo =  extract_pdf_text(pdf_path=\"d1.pdf\")\n",
        "\n",
        "print(f\"Quantidade de páginas: {len(meu_conteudo.keys())}\")\n",
        "\n",
        "for k,v in meu_conteudo.items():\n",
        "  print(f\"Página: {k}\")\n",
        "  print(f\"Texto: {v}\")\n",
        "  texto_documento = texto_documento + v"
      ],
      "metadata": {
        "colab": {
          "base_uri": "https://localhost:8080/"
        },
        "id": "NoAjIj_Qp5yH",
        "outputId": "dc7ab517-cc6d-41dd-dc81-1067603cc7aa"
      },
      "execution_count": 4,
      "outputs": [
        {
          "output_type": "stream",
          "name": "stdout",
          "text": [
            "Quantidade de páginas: 25\n",
            "Página: 1\n",
            "Texto: AO CHEFE DO DEPARTAMENTO DE COMPUTAÇÃO  DA UNIVERSIDADE FEDERAL DO PIAUÍ  Caro Chefe de Departamento, Eu Armando Soares Sousa, Matrícula UFPI 1886865 lotado no Departamento de Computação do Centro de Ciência da Natureza da Universidade Federal do Piauí solicita sua concordância quanto minha PRORROGAÇÃO DE AFASTAMENTO a fim de dar continuidade ao curso de Pós-Graduação em Ciência da Computação em nível de Doutorado na (Área de Concentração: Ciência da Computação) na Universidade Federal do Ceará, por mais 6 (seis) meses, a partir de 23/02/2022, em conformidade com a Resolução No. 186/06-CEPEX. Além disso, gostaria que o senhor anexasse a meu pedido o documento referente ao plano de qualificação 2022 aprovado na Assembleia Departamental informando a deliberação favorável a meu pedido de afastamento em 2022 para poder concluir minhas atividades do doutorado. Fortaleza, 21, de Dezembro de 2021  __________________________________  (Assinatura) \n",
            "Solicitação ao Chefe para Prorrogac ̧ão de Afastamento 1\n",
            "Página: 2\n",
            "Texto: Documentos que constam no presente arquivo.  Gostaria de informar que além do \"Pedido de Concordância do Chefe de Departamento de Computação\", seguem em os seguintes documentos:  1. Solicitação de renovação de afastamento para o Reitor 2. Declaração de Requisitos e carga horária do Doutorado MDCC/UFC 3. Concordância do pedido de renovação do Coordenador do MDCC/UFC 4. Concordância do pedido de renovação do Orientador 5. Atestado semestral de frequência 2021.1 6. Atestado semestral de frequência 2021.2 7. Avaliação semestral de desempenho 2021.1 8. Avaliação semestral de desempenho 2021.2 9. Termo de compromisso 10. Relatório semestral de atividade 2021.1 11. Relatório semestral de atividade 2021.2 12. Atestado de matrícula 2021.2 13. Declaração de matrícula 2021.2 14. Histórico atualizado 15. Declaração de bolsa da FUNCAP (Fundação Cearense de Apoio ao Desenvolvimento Científico)  Fortaleza, 21, de Dezembro de 2021  __________________________________  (Assinatura)  \n",
            "Documentos Anexados 2\n",
            "Página: 3\n",
            "Texto: AO MAGNÍFICO REITOR DA UNIVERSIDADE FEDERAL DO PIAUÍ  Magnífico Reitor,       Eu Armando Soares Sousa, Matrícula UFPI 1886865 lotado no Departamento de Computação do Centro de Ciência da Natureza da Universidade Federal do Piauí solicita a Vossa Magnificência, autorizar a PRORROGAÇÃO DE AFASTAMENTO a fim de dar continuidade ao curso de Pós-Graduação em Ciência da Computação em nível de Doutorado na (Área de Concentração: Ciência da Computação) na Universidade Federal do Ceará, por mais 6 (seis) meses, a partir de 23/02/2022, em conformidade com a Resolução No. 186/06-CEPEX.  Fortaleza, 22, de Dezembro de 2021 __________________________________  (Assinatura)  Contato: (86) 994693558 / armando@ufpi.edu.br  \n",
            "Solicitação de Prorrogac ̧ão de Afastamento 3\n",
            "Página: 4\n",
            "Texto:  \n",
            "MINISTÉRIO DA EDUCAÇÃO \n",
            "UNIVERSIDADE FEDERAL DO CEARÁ  \n",
            "CENTRO DE CIÊNCIAS  \n",
            "DEPARTAMENTO DE COMPUTAÇÃO  \n",
            "MESTRADO E DOUTORADO EM CIÊNCIA DA COMPUTAÇÃO  \n",
            " \n",
            "DECLARAÇÃO \n",
            " \n",
            " \n",
            "Declaramos, para os devidos fins, que o Programa de Pós-Graduação em Ciência da              \n",
            "Computação da Universidade Federal do Ceará (MDCC/UFC) tem como exigência para a conclusão              \n",
            "do Curso de Doutorado o cumprimento/aprovação dos seguintes requisitos:  \n",
            "* Cursar, no mínimo, 12 disciplinas (48 créditos) - 768h \n",
            "* 02 Estágios de Docência (08 créditos) - 128h \n",
            "* 01 Proficiência em Inglês (01 crédito) - 16h \n",
            "* Defesa de Qualificação de Doutorado (01 crédito) - 16h \n",
            "* Defesa de Proposta de Doutorado (02 créditos) - 32h \n",
            "* Defesa da Tese (12 créditos) - 192h \n",
            " \n",
            "Total de créditos exigidos: 72 \n",
            "Carga horária total exigida: 1.152h \n",
            " \n",
            " \n",
            "Fortaleza, 25 de janeiro de 2021. \n",
            " \n",
            " \n",
            "_____________________________________ \n",
            "Prof. João Paulo Pordeus Gomes \n",
            "Coordenador do Programa de Pós-graduação \n",
            "em Ciência da Computação/UFC \n",
            " \n",
            " \n",
            "  \n",
            "Campus do Pici - Bloco 910 - CEP: 60440-900 - Fortaleza/Ceará  \n",
            "Fone: (85) 3366-9847 - E-mail: ​secretaria@mdcc.ufc.br   \n",
            " \n",
            " Declarac ̧ão_Requisitos_e_carga_horaria_Doutorado 4\n",
            "Página: 5\n",
            "Texto: CONCORDÂNCIA DE PEDIDO DE RENOVAÇÃO DE AFASTAMENTO Eu Prof. Dr. João Paulo Pordeus Gomes, Coordenador do Programa de Pós-graduação em Ciência da Computação da Universidade Federal do Ceará (UFC), venho por meio deste manifestar minha concordância na prorrogação de afastamento por mais 6 (seis) meses, a partir de 23/02/2022, do aluno Armando Soares Sousa, devidamente matriculado, no semestre corrente (2021.2) no curso de doutorado em Ciência da Computação na Universidade Federal do Ceará (UFC) e orientado pelo Prof. Dr. Lincoln Souza Rocha. Para com isso, o referido aluno possa concluir com qualidade os componentes curriculares \"Proposta de Tese de Doutorado\" e “Tese\". A justificativa é que devido às adversidades provocadas pela pandemia do Corona Vírus, nos anos de 2020 e 2021, as atividades presenciais, desta universidade, foram suspensas e os laboratórios de pesquisa foram fechados, impactando diretamente nas atividades de pesquisas dos cursos de pós-graduação desta universidade. Com isso, houve extensão nos prazos dos cursos de pós-graduação stricto sensu da UFC conforme Ofício Circular 1/2020/PRPPG/UFC de 30/04/2020, Ofício Circular 10/2020-CGSI/DPB/CAPES/UFC de 30/04/2020 e prorrogação de prazo conforme Ofício 14/2021/PRPPG/DIV_ENSINO/PRPPG/CENS/PRPPG/REITORIA, de 14 de julho de 2021 da Universidade Federal do Ceará. Adicionalmente, gostaria de informar que o referido aluno, dentro deste período de 4 anos (2018, 2019, 2020, 2021), concluiu e foi aprovado nas disciplinas obrigatórias, na proficiência em língua estrangeira, nas atividades de estágio de docência e no exame de Qualificação. Local e data: ________________, ___/___/_____ _____________________________________ Prof. Dr. João Paulo Pordeus Gomes Coordenador do Programa de Pós-graduação em Ciência da Computação - UFC\n",
            "Coordenador - Concorda ̂ncia Pedido Renovac ̧ão Afastamento 5\n",
            "Página: 6\n",
            "Texto: CONCORDÂNCIA DE PEDIDO DE RENOVAÇÃO DE AFASTAMENTO Eu prof. Dr. Lincoln Souza Rocha, orientador do aluno Armando Soares Sousa, devidamente matriculado, no semestre corrente (2021.2) no curso de doutorado em Ciência da Computação na Universidade Federal do Ceará (UFC), venho por meio deste manifestar minha concordância na prorrogação de afastamento por mais 6 (seis) meses a partir de 23/02/2022, para com isso o referido aluno possa concluir com qualidade os componentes curriculares \"Proposta de Tese de Doutorado\" e \"Tese\". Adicionalmente, gostaria de informar que o referido aluno, dentro deste período de 4 anos (2018, 2019, 2020, 2021), concluiu e foi aprovado nas disciplinas obrigatórias, na proficiência em língua estrangeira, nas atividades de estágio de docência e no exame de Qualificação. Local e data: ________________, ___/___/_____ _____________________________________ Lincoln Souza Rocha Assinatura do Orientador(a) \n",
            "Orientador - Concorda ̂ncia Pedido Renovac ̧ão Afastamento-Ass 6\n",
            "Página: 7\n",
            "Texto: ATESTADO SEMESTRAL DE FREQUÊNCIA DO(A) PÓS-GRADUANDO(A) Atestamos, para fins de comprovação junto à CPSS/PRPG/UFPI, que o (a) Sr(a) Armando Soares Sousa aluno(a) matriculado(a) no curso de Pós-Graduação em Ciência da Computação área de concentração em Ciência da Computação em nível de Doutorado participou regularmente das suas atividades do Curso, no 1º [x] ou 2º [ ] semestre de: 2021.  O presente atestado visa cumprir o que estabelece as normas da UFPI de afastamento para Pós-Graduação.   Devido às adversidades provocadas pela pandemia do Corona Vírus, nos anos de 2020 e 2021, as atividades presenciais, da Universidade Federal do Ceará, foram suspensas e os laboratórios de pesquisa foram fechados. Com isso, as atividades tem sido realizadas remotamente sendo amparadas pelos seguintes documentos: Ofício Circular 1/2020/ PRPPG/UFC de 30/04/2020, Ofício Circular 10/2020-CGSI/DPB/CAPES/UFC de 30/04/2020, e prorrogação de prazo conforme Ofício 14/2021/PRPPG/DIV_ENSINO/PRPPG/CENS/ PRPPG/REITORIA, de 14 de julho de 2021.  O período 2021.1 foi encerrado em 02/09/2021.    \n",
            "ENDEREÇO PARA REMESSA: Universidade Federal do Piauí – Pró-Reitoria de Ensino de Pós-Graduação-PRPG/CPSS Campus Universitário da Ininga – CEP: 64049-550 – Teresina/Piauí Fone: (86) 3215-7405 E-mail: cpss.capacitacao@ufpi.edu.br DEVOLUÇÃO:  Primeiro semestre até 15.08  Segundo semestre até 15.01\n",
            "Atestado_Semestral_de_Frequencia_2021-1 7\n",
            "Página: 8\n",
            "Texto: ATESTADO SEMESTRAL DE FREQUÊNCIA DO(A) PÓS-GRADUANDO(A) Atestamos, para fins de comprovação junto à CPSS/PRPG/UFPI, que o (a) Sr(a) Armando Soares Sousa aluno(a) matriculado(a) no curso de Pós-Graduação em Ciência da Computação área de concentração em Ciência da Computação em nível de Doutorado participa regularmente das suas atividades do Curso, no 1º [ ] ou 2º [x] semestre de: 2021.  O presente atestado visa cumprir o que estabelece as normas da UFPI de afastamento para Pós-Graduação.   Devido às adversidades provocadas pela pandemia do Corona Vírus, nos anos de 2020 e 2021, as atividades presenciais, da Universidade Federal do Ceará, foram suspensas e os laboratórios de pesquisa foram fechados. Com isso, as atividades tem sido realizadas remotamente sendo amparadas pelos seguintes documentos: Ofício Circular 1/2020/ PRPPG/UFC de 30/04/2020, Ofício Circular 10/2020-CGSI/DPB/CAPES/UFC de 30/04/2020, e prorrogação de prazo conforme Ofício 14/2021/PRPPG/DIV_ENSINO/PRPPG/CENS/ PRPPG/REITORIA, de 14 de julho de 2021. O período de 2021.2 se encerra no próximo dia 10/02/2022   \n",
            "ENDEREÇO PARA REMESSA: Universidade Federal do Piauí – Pró-Reitoria de Ensino de Pós-Graduação-PRPG/CPSS Campus Universitário da Ininga – CEP: 64049-550 – Teresina/Piauí Fone: (86) 3215-7405 E-mail: cpss.capacitacao@ufpi.edu.br DEVOLUÇÃO:  Primeiro semestre até 15.08  Segundo semestre até 15.01\n",
            "Atestado_Semestral_de_Frequencia_2021-2 8\n",
            "Página: 9\n",
            "Texto: AVALIAÇÃO SEMESTRAL DO DESEMPENHO DO(A) PÓS-GRADUANDO(A) PELO(A) ORIENTADOR(A)  1 – Nome: ARMANDO SOARES SOUSA  2 – IES do curso: UNIVERSIDADE FEDERAL DO CEARÁ 3 – Nome do Curso: PÓS-GRADUAÇÃO EM CIÊNCIA DA COMPUTAÇÃO 5 – Área de Concentração: Ciência da Computação \n",
            "Observação: em decorrência das adversidades provocadas pela pandemia do Corona Vírus, em 2020 e 2021, houve alteração nos prazos dos semestres 2021.1. e 2021.2 conforme Ofício Circular 1/2020/PRPPG/UFC de 30/04/2020, Ofício Circular 10/2020-CGSI/DPB/CAPES/UFC de 30/04/2020  e prorrogação de prazo conforme Ofício 14/2021/PRPPG/DIV_ENSINO/PRPPG/CENS/ PRPPG/REITORIA, de 14 de julho de 2021 da Universidade Federal do Ceará. O período de 2021.1 foi encerrado em 02/09/2021. Local e data: ________________, ___/___/_____ _____________________________________ Lincoln Souza Rocha Assinatura do Orientador(a) ENDEREÇO PARA REMESSA: Universidade Federal do Piauí - PRPPG/Coordenadoria Geral de Pós-Graduação Campus Universitário da Ininga -   64049-550 – Teresina – Piauí Fone: (0**86) 3215-5561 E-mail: cgpg.capacitacao@ufpi.edu.br4 – Nível do Curso: MestradoDoutoradoXPós-Doutorado6 – Avaliando cuidadosamente as atividades do(a) Pós-Graduando(a) acima, sob minha orientaçãono 1º  x OU  2º  semestre de 2021, classifico seu desempenho como:AnoMuito Bom BomRegularInsuficientePROGRAMAS: \n",
            "Avaliacao Semestral de Desempenho 2021-1-Ass 9\n",
            "Página: 10\n",
            "Texto: AVALIAÇÃO SEMESTRAL DO DESEMPENHO DO(A) PÓS-GRADUANDO(A) PELO(A) ORIENTADOR(A)  1 – Nome: ARMANDO SOARES SOUSA  2 – IES do curso: UNIVERSIDADE FEDERAL DO CEARÁ 3 – Nome do Curso: PÓS-GRADUAÇÃO EM CIÊNCIA DA COMPUTAÇÃO 5 – Área de Concentração: Ciência da Computação \n",
            "Observação: em decorrência das adversidades provocadas pela pandemia do Corona Vírus, em 2020 e 2021, houve alteração nos prazos dos semestres 2021.1. e 2021.2 conforme Ofício Circular 1/2020/PRPPG/UFC de 30/04/2020, Ofício Circular 10/2020-CGSI/DPB/CAPES/UFC de 30/04/2020  e prorrogação de prazo conforme Ofício 14/2021/PRPPG/DIV_ENSINO/PRPPG/CENS/ PRPPG/REITORIA, de 14 de julho de 2021 da Universidade Federal do Ceará. O período de 2021.2 deverá ser encerrado em 10/02/2022. Com isso, o referido aluno continua exercendo suas atividades até o presente momento. Local e data: __________________, ___/___/_____ _____________________________________ Lincoln Souza Rocha Assinatura do Orientador(a) ENDEREÇO PARA REMESSA: Universidade Federal do Piauí - PRPPG/Coordenadoria Geral de Pós-Graduação Campus Universitário da Ininga -   64049-550 – Teresina – Piauí Fone: (0**86) 3215-5561 E-mail: cgpg.capacitacao@ufpi.edu.br 4 – Nível do Curso: MestradoDoutoradoXPós-Doutorado6 – Avaliando cuidadosamente as atividades do(a) Pós-Graduando(a) acima, sob minha orientaçãono 1º  OU  2º X  semestre de      2021, classifico seu desempenho como:AnoMuito Bom BomRegularInsuficientePROGRAMAS: \n",
            "Avaliacao Semestral de Desempenho 2021-2-Ass 10\n",
            "Página: 11\n",
            "Texto: TERMO DE COMPROMISSO E RESPONSABILIDADE    Declaro e assumo o compromisso e a responsabilidade legal de prestar serviço à Universidade Federal do Piauí, após conclusão do curso de Pós-Graduação em Ciência da Computação em nível de Doutorado na Universidade Federal do Ceará, na cidade de Fortaleza pelo prazo equivalente ao tempo usufruído no afastamento das atividades funcionais para a realização do citado curso.  Teresina, ______/_____/_____   _____________________________________________ (assinatura) \n",
            "TERMO_DE_COMPROMISSO_RESPONSABILIDADE 11\n",
            "Página: 12\n",
            "Texto: RELATÓRIO SEMESTRAL DO(A) PÓS-GRADUANDO(A) PROGRAMA:  Pós-Graduação em Ciência da Computação_ 1 - IDENTIFICAÇÃO:     \n",
            "2 - ATIVIDADES ACADÊMICAS DA PÓS-GRADUAÇÃO: (realizadas no semestre) 2.1. DISCIPLINA(S) CURSADA(S)Nº HORAS SEMANAISNº CRÉDITOSCONCEITO(S)CKP6666 - Qualificação -    1 Aprovado NOME: Armando Soares Sousa CATEGORIA FUNCIONAL:          Docente  ( X )             Técnico ( )     LOTAÇÃO: Departamento de Computação / Centro de Ciências da Natureza / UFPI NOME DO CURSO: Doutorado em Ciência da Computação ÁREA DE CONCENTRAÇÃO: Ciência da Computação NÍVEL:     Mestrado ( )      Doutorado ( X )  Pós-Doutorado (  )   IES DO CURSO: Mestrado e Doutorado em Ciência  Ciência da Computação / Universidade Federal do Ceará PERÍODO DO RELATÓRIO:     1º  ( X )  OU 2° (  )     SEMESTRE DE   2021   \n",
            "Relatorio Semestral de Atividades 2021-1-Ass 12\n",
            "Página: 13\n",
            "Texto: 3. PLANO DE ESTUDO: 2.2. ESTÁGIO(S) REALIZADO(S)Nº HORAS SEMANAISNº CRÉDITOSCONCEITO(S)----2.3. CURSOS EXTRAORDINÁRIOS, P A R T I C I P A Ç Ã O E M SEMINÁRIOS,  C O N G R E S S O S , ENCONTROS E OUTRAS ATIVIDADESLOCALTOTAL DE HORASCONCEITO(S)    Publicação e apresentação do paper \"Technical Debt in Large-Scale  Distributed  Projects: An Industrial Case Study\" no SANER 2021. IEEE International Conference on Software Analysis, Evolution and Reengineering. Participação do EASE 2021 - International Conference on Evaluation and Assessment in Software Engineering Honolulu, Hawaii, USA \n",
            "     Trondheim, Norway NA \n",
            "        NA- \n",
            "-3.1. Descrever, de forma clara e sucinta, o plano de estudo a ser desenvolvido no próximo semestre, incluindo a(s) disciplina(s) que pretende cursar, sua carga horária e número de crédito(s). -Fazer a revisão do mapeamento sistemático sobre Dívida Técnica Arquitetural  -Realizar um experimento que avalie as versões de um repositório de código de um sistema para avaliar o comportamento de indicadores de dívida técnica arquitetural -Fazer a matrícula no componente curricular CKP8588 - PROPOSTA DE TESE DE DOUTORADO (32 horas - 2 créditos) -Preparar a proposta da tese\n",
            "Relatorio Semestral de Atividades 2021-1-Ass 13\n",
            "Página: 14\n",
            "Texto: 3.2. Sumário do Projeto (Dissertação ou Tese): incluindo o título e o desenvolvimento do projeto propriamente dito. Título: Uma Abordagem para Estimativa de Dívida Técnica Arquitetural por meio de Indicadores de Degradação extraídos a partir de Repositórios de Software - Atividades realizadas relacionadas ao Projeto de Doutorado: •Cursei e concluí a atividade de qualificação; •Participei de todas reuniões relacionadas ao projeto de doutorado e reuniões de orientação; •Fiz a leitura dos principais artigos e trabalhos relacionados a Dívida Técnica, Dívida Técnica Arquitetural e Mineração de Software relacionados ao projeto de doutorado; •Realizei estudos em ferramentas de mineração de repositório de software e data science; •Publiquei o paper \"Technical Debt in Large-Scale Distributed Projects: An Industrial Case Study\" no evento SANER 2021 - International Conference on Software Analysis, Evolution and Reengineering - DOI: 10.1109/SANER50967.2021.00071. Conferência classificada como Qualis A2; •Fiz a apresentação de um mapeamento sistemático sobre Dívida Técnica Arquitetural no Exame de Qualificação como trabalho principal; •Produzi uma monografia sobre um Relatório Técnico sobre Computação em Nuvem como trabalho secundário do Exame de Qualificação.\n",
            "Relatorio Semestral de Atividades 2021-1-Ass 14\n",
            "Página: 15\n",
            "Texto: 4.   DESENVOLVIMENTO DA TESE OU DISSERTAÇÃO: Assinalar ou especificar sua atual situação: a. ( X ) Não ingressou ainda nessa atividade b. (     ) Realiza estudos preliminares para elaboração do Projeto da Tese ou Dissertação c. (     ) Está desenvolvendo o Projeto Tese ou Dissertação d. (     ) Está redigindo o Relatório Final da Tese ou Dissertação  e. (     ) Não se enquadra nos itens acima citados Caso assinale a letra \"c\" ou \"d\", informe o seguinte: -Tema da Tese ou Dissertação:   -Sumário do Projeto de Tese / Dissertação 5. DESENVOLVIMENTO ACADÊMICO: TOTAL DE CRÉDITOS PREVISTOS NO CURSO: ________76________ Nº DE CRÉDITOS CURSADOS NO SEMESTRE:   _______1________ Nº DE CRÉDITOS ACUMULADOS:                         _______61________ Nº DE CRÉDITOS QUE FALTAM:                           ________14________ Nº DE CRÉDITOS CORRESPONDENTES À TESE OU DISSERTAÇÃO:  _____12______ OBS: No total de créditos previsto no plano do curso deverá ser colocado o número de créditos   correspondentes às disciplinas mais o número correspondente à Tese ou Dissertação.   6. PROCESSO DE QUALIFICAÇÃO: \n",
            "7. PROBLEMAS E DIFICULDADES ENCONTRADAS: Não se aplica _________Fortaleza__________, ____/____/______                                                       (Local) _________________________________________________ Coordenador(a) do Curso de Pós-Graduação _________________________________________________ Assinatura do(a) Pós-Graduando(a) __________________________________________ Assinatura do(a) Orientador(a)O curso exige exame de qualificação antes da defesa de Tese ou Dissertação: (  X  ) SIM                 (      ) NÃO Caso haja a exigência, informar a provável data do citado exame de V.Sa.:   __08__/_07_/_2021_\n",
            "Relatorio Semestral de Atividades 2021-1-Ass 15\n",
            "Página: 16\n",
            "Texto: RELATÓRIO SEMESTRAL DO(A) PÓS-GRADUANDO(A) PROGRAMA:  Pós-Graduação em Ciência da Computação_ 1 - IDENTIFICAÇÃO:     \n",
            "2 - ATIVIDADES ACADÊMICAS DA PÓS-GRADUAÇÃO: (realizadas no semestre) 2.1. DISCIPLINA(S) CURSADA(S)Nº HORAS SEMANAISNº CRÉDITOSCONCEITO(S)CKP8588 - Proposta de Tese de Doutorado - 2 Em andamento NOME: Armando Soares Sousa CATEGORIA FUNCIONAL:     Docente (X)             Técnico ( )      LOTAÇÃO: Departamento de Computação / Centro de Ciências da Natureza / UFPI NOME DO CURSO: Doutorado em Ciência da Computação ÁREA DE CONCENTRAÇÃO: Ciência da Computação NÍVEL:   Mestrado ( )    Doutorado (X)  Pós-Doutorado ( )   IES DO CURSO: Mestrado e Doutorado em Ciência  Ciência da Computação / Universidade Federal do Ceará PERÍODO DO RELATÓRIO:        1º  ( )   OU 2° (X)    SEMESTRE DE         2021      \n",
            "Relatorio Semestral de Atividades 2021-2-Ass 16\n",
            "Página: 17\n",
            "Texto: 2.2. ESTÁGIO(S) REALIZADO(S)Nº HORAS SEMANAISNº CRÉDITOSCONCEITO(S)-- --2.3. CURSOS EXTRAORDINÁRIOS, P A R T I C I P A Ç Ã O E M SEMINÁRIOS,  CONGRESSOS,  ENCONTROS E OUTRAS ATIVIDADES E C S A 2 0 2 1 - 1 5 t h E u r o p e a n Conference on Software Architecture. 13-17 September. Vaxjo, Sweden. MSR4SA 2021 -  International Workshop on Mining Software Repositories for Software Architecture.  16  ,17  September. Vaxjo, Sweden. CBSoft 2021 - Congresso Brasileiro de Software. 27 de Setembro a 1o. de Outubro 2021. Joinville, Santa Catarina, Brasil. SBES 2021 - Simpósio Brasileiro de Engenharia de Software. 27, 28 e 29 de Setembro. Joinville, Santa Catarina, Brasil. International Latin American School in Software Engineering. 27 e 28 de Setembro - Joinville, Santa Catarina, Brasil.Local Vaxjo, Sweden Vaxjo, Sweden Joinville, Santa Catarina, Brasil Joinville, Santa Catarina, Brasil Joinville, Santa Catarina, Brasil TOTAL DE HORAS - - - - - CONCEITO(S) - - - - - \n",
            "Relatorio Semestral de Atividades 2021-2-Ass 17\n",
            "Página: 18\n",
            "Texto: 3. PLANO DE ESTUDO: 3.1. Descrever, de forma clara e sucinta, o plano de estudo a ser desenvolvido no próximo semestre, incluindo a(s) disciplina(s) que pretende cursar, sua carga horária e número de crédito(s). •Publicar os resultados dos experimentos referentes a validação de um protótipo desenvolvido, índice e indicadores sugeridos na pesquisa em um sistema alvo para extrair informações de seus repositórios de código referente a dívida técnica arquitetural.   •Publicar os estudos em evento internacional na área de dívida técnica. •Publicar o mapeamento sistemático revisado, apresentar a proposta de tese e escrever a tese de doutorado 3.2. Sumário do Projeto (Dissertação ou Tese): incluindo o título e o desenvolvimento do projeto propriamente dito.\n",
            "Relatorio Semestral de Atividades 2021-2-Ass 18\n",
            "Página: 19\n",
            "Texto: 4.   DESENVOLVIMENTO DA TESE OU DISSERTAÇÃO: Assinalar ou especificar sua atual situação: a. ( X ) Não ingressou ainda nessa atividade b. (     ) Realiza estudos preliminares para elaboração do Projeto da Tese ou Dissertação c. (     ) Está desenvolvendo o Projeto Tese ou Dissertação d. (     ) Está redigindo o Relatório Final da Tese ou Dissertação  e. (     ) Não se enquadra nos itens acima citados Caso assinale a letra \"c\" ou \"d\", informe o seguinte: -Tema da Tese ou Dissertação:   -Sumário do Projeto de Tese / Dissertação Título: Uma Abordagem para Estimativa de Dívida Técnica Arquitetural por meio de Indicadores de Degradação Extraídos a partir de Repositórios de Software - Atividades realizadas relacionadas ao Projeto de Doutorado: •Cursando o componente curricular \"Proposta de Tese de Doutorado\"; •Até o presente momento, participei de todas reuniões relacionadas ao projeto de doutorado e reuniões de orientação; •Leitura dos principais artigos e trabalhos relacionados a Dívida Técnica, Dívida Técnica Arquitetural e Mineração de Software relacionados ao projeto de doutorado; •Aprofundamento e consolidação de estudos em ferramentas de mineração de repositório de software, data mining e data science; •Dando continuidade nos estudos, melhorias e atualizações sobre o mapeamento sistemático sobre Dívida Técnica Arquitetural; •Definição do primeiro esboço de proposta de experimento para análise de repositório de software de um sistema de médio porte para extrair indicadores de dívida técnica arquitetural; •Estou fazendo testes usando técnicas de MSR (Mining software repositories) em repositórios de software da Apache Software Foundation para detectar comportamentos ou padrões que possam indicar Dívida Técnica Arquitetural, para com isso possamos elaborar um experimento que ajude na validação de uma definição de Dívida Técnica Arquitetural mais precisa, bem como fazer a proposição de um método que detecte artefatos que possam indicar Dívida Técnica Arquitetural em um repositório de software. \n",
            "Relatorio Semestral de Atividades 2021-2-Ass 19\n",
            "Página: 20\n",
            "Texto: 5. DESENVOLVIMENTO ACADÊMICO: TOTAL DE CRÉDITOS PREVISTOS NO CURSO: ________76________ Nº DE CRÉDITOS CURSADOS NO SEMESTRE:   _______2________ Nº DE CRÉDITOS ACUMULADOS:                         _______62______ Nº DE CRÉDITOS QUE FALTAM:                           ________12_______ Nº DE CRÉDITOS CORRESPONDENTES À TESE OU DISSERTAÇÃO:  ____12_______ OBS: No total de créditos previsto no plano do curso deverá ser colocado o número de créditos   correspondentes às disciplinas mais o número correspondente à Tese ou Dissertação.   6. PROCESSO DE QUALIFICAÇÃO: \n",
            "7. PROBLEMAS E DIFICULDADES ENCONTRADAS: _________Fortaleza__________, ____/____/______                                                       (Local) _________________________________________________ Coordenador(a) do Curso de Pós-Graduação _________________________________________________ Assinatura do(a) Pós-Graduando(a) __________________________________________ Assinatura do(a) Orientador(a) O curso exige exame de qualificação antes da defesa de Tese ou Dissertação: (  X  ) SIM                 (      ) NÃO Caso haja a exigência, informar a provável data do citado exame de V.Sa.:   08 / 07 / 2021Não se aplica \n",
            "Relatorio Semestral de Atividades 2021-2-Ass 20\n",
            "Página: 21\n",
            "Texto: Portal doDiscenteUNIVERSIDADE FEDERAL DO CEARÁSISTEMA INTEGRADODE GESTÃODE ATIVIDADES ACADÊMICASEMITIDOEM 17/12/2021 10:36ATESTADO DE MATRÍCULAPeríodo Letivo:2021.2Nível:DOUTORADOMatrícula:409428Vínculo:REGULARNome:ARMANDO SOARES SOUSAPrograma:PROGRAMA DE PÓS-GRADUAÇÃO EM CIÊNCIAS DA COMPUTAÇÃONível:DOUTORADOStatus:ATIVOÁrea deConcentração:CIÊNCIA DA COMPUTAÇÃOLinha de Pesquisa:SISTEMAS DE INFORMAÇÃOOrientador:LINCOLN SOUZA ROCHATURMAS MATRICULADAS: 0ATIVIDADES MATRICULADAS: 1Componentes Curriculares/DocentesStatusHorárioCKP8588 - PROPOSTA DE TESE DE DOUTORADOTipo: ATIVIDADE Ano/Periodo: 2021.2MATRICULADO--ATENÇÃOPara verificar a autenticidade deste documento acesse http://www.si3.ufc.br/sigaa/documentos/informando a matrícula, a data de emissão e o código de verificação b7b04434d4SIGAA | Copyright © 2006-2021 - Superintendência de Tecnologia da Informação - UFC - (85) 3366-9999 -si3asprd04.ufc.brSIGAA - Sistema Integrado de Gestão de Atividades Acadêmicashttps://si3.ufc.br/sigaa/portais/discente/discente.jsf\n",
            "1 of 112/17/21, 10:36 AMAtestado de Matri ́cula 2021-2 21\n",
            "Página: 22\n",
            "Texto: Universidade Federal do Ceará\n",
            "PRÓ-REITORIA DE PÓS-GRADUAÇÃO\n",
            "D E C L A R A Ç Ã O\n",
            "             Declaramos, para os fins a que se fizerem necessários, que ARMANDO\n",
            "SOARES SOUSA é aluno(a) REGULAR vinculado(a) a esta universidade, sob o\n",
            "número 409428, no programa de DOUTORADO EM CIÊNCIA DA COMPUTAÇÃO -\n",
            "DOUTORADO - FORTALEZA.\n",
            "             Pró-Reitoria de Pós-Graduação da Universidade Federal do Ceará,  em\n",
            "Fortaleza, 17 de Dezembro de 2021.07.272.636/0001-31\n",
            "Campus Universitário - Reitoria, PICI\n",
            "Fortaleza/CE - CEP: 60020-181\n",
            "(85) 3366-9999 - Fax: (85) 3366-9999  -  e-mail: dsi@sti.ufc.br\n",
            "Código de verificação:\n",
            " c0f80c6e3f\n",
            "Para verificar a autenticidade deste documento acesse http://si3.ufc.br/sigaa/documentos,\n",
            "informando a matrícula, data de emissão do documento e o código de verificação.\n",
            "ATENÇÃO\n",
            "ESTE DOCUMENTO NÃO É VÁLIDO PARA FINS DE SOLICITAÇÃO DE VAGA EM OUTRA INSTITUIÇÃO DE\n",
            "ENSINO SUPERIOR. CASO SEJA NECESSÁRIO TAL DOCUMENTO, É NECESSÁRIO COMPARECER AO DAE.\n",
            "declaracao_409428 22\n",
            "Página: 23\n",
            "Texto: Histórico Escolar - Emitido em: 16/12/2021 às 15:38hPRPPG - Pró-Reitoria de Pesquisa e Pós-Graduação\n",
            "409428 ARMANDO SOARES SOUSA Nome: Matrícula:\n",
            "BENINU DO CARMO SOUSADados Pessoais\n",
            "Nome do Pai:\n",
            "Nome da Mãe: MARIA DOS SANTOS SOARES SOUSA\n",
            "TRAVESSA JÚLIO CÉSAR, 110 - APTO 805 DAMAS\n",
            "FORTALEZA CEEndereço:\n",
            "Município:Bairro:\n",
            "UF:Data de Nascimento: 19/02/1979 Local de Nascimento: TERESINA/PI\n",
            "Dados do Curso\n",
            "PROGRAMA DE PÓS-GRADUAÇÃO EM CIÊNCIAS DA COMPUTAÇÃO\n",
            "MAR/2018\n",
            "FEV/2024Programa:\n",
            "Mês/Ano Inicial: Status:ATIVO\n",
            "Mês Atual: 46ºÁrea de Concentração: CIÊNCIA DA COMPUTAÇÃOCurso:DOUTORADO EM CIÊNCIA DA COMPUTAÇÃO\n",
            "Linha de Pesquisa: SISTEMAS DE INFORMAÇÃOCurrículo: 2015.1\n",
            "Orientador: 1669759 - LINCOLN SOUZA ROCHA\n",
            "8.68Forma Ingresso:\n",
            "Média Final:Autorização do Curso:\n",
            "Data da Publição:\n",
            "SELEÇÃO\n",
            "Motivo Saída: ---Prazo para Conclusão:\n",
            " \n",
            " SIGAA - Sistema Integrado de Gestão de Atividades Acadêmicas\n",
            "UFC - Universidade Federal do Ceará\n",
            "Av. da Universidade, 2853 - Benfica - Fortaleza - CE- CEP 60020-181\n",
            "Identidade: 1599355 Órgão Emissor: SSP Nacionalidade: BRASILEIRA\n",
            "Observações:\n",
            " - Prorrogação de prazo conforme Ofício 14/2021/PRPPG/DIV_ENSINO/PRPPG/CENS/PRPPG/REITORIA, de 14 de julho de 2021\n",
            " - prazo prorrogado conforme Ofício Circular 1/2020/PRPPG de 30/04/2020 e Ofício Circular 10/2020-CGSI/DPB/CAPES de 30/04/2020.Disciplinas/Atividades Cursadas/Cursando\n",
            "Início Componente Curricular Situação CRFreq % Nota Fim CH\n",
            "3/2018 SISTEMAS DISTRIBUÍDOS E REDES DE COMUNICAÇÃO APROVT CKP7500 4100.00 8.0 5/2018 64\n",
            "3/2018 ENGENHARIA DE SOFTWARE APROVT CKP7788 4100.00 8.0 5/2018 64\n",
            "3/2018 BANCO DE DADOS APROVT CKP7944 4100.00 10.0 5/2018 64\n",
            "3/2018 AVALIAÇÃO DE DESEMPENHO DE SISTEMAS COMPUTACIONAIS APROVT CKP8555 4100.00 8.0 5/2018 64\n",
            "2/2018TÓPICOS ESPECIAIS EM SISTEMAS DE INFORMAÇÃO I - Tema:\n",
            "Qualidade de SoftwareAPROVADO CKP8433 484.37 9.1 7/2018 64\n",
            "2/2018 LÓGICA DA PESQUISA CIENTÍFICA APROVADO CKP8466 496.87 9.5 7/2018 64\n",
            "2/2018 ESTRUTURAS DE DADOS APROVADO CKP8077 4100.00 9.5 9/2018 64\n",
            "7/2018 PROFICIÊNCIA EM LÍNGUA ESTRANGEIRA APROVADO CKP5555 1100.00 -- 10/2018 16\n",
            "7/2018 REDES MÓVEIS E SEM FIO APROVADO CKP8222 481.25 8.6 12/2018 64\n",
            "7/2018 APRENDIZAGEM AUTOMATICA APROVADO CKP8277 495.31 7.8 12/2018 64\n",
            "7/2018 COMPUTAÇÃO MÓVEL E UBÍQUA APROVADO CKP8622 4100.00 9.9 12/2018 64\n",
            "2/2019 ESTÁGIO DE DOCÊNCIA II APROVADO CKP0183 4100.00 -- 7/2019 64\n",
            "2/2019 TÓPICOS ESPECIAIS EM REDES E SIST. DISTRIBUÍDOS II APROVADO CKP8422 4100.00 10.0 7/2019 64\n",
            "2/2019 PROGRAMAÇÃO CONCORRENTE APROVADO CKP8477 493.75 7.0 7/2019 64\n",
            "7/2019 ESTÁGIO DE DOCÊNCIA III APROVADO CKP0200 4100.00 -- 12/2019 64\n",
            "7/2019 VISUALIZAÇÃO CIENTÍFICA APROVADO CKP8533 475.00 7.4 12/2019 64\n",
            "2/2020 QUALIFICAÇÃO APROVADO CKP6666 1100.00 -- 7/2021 16\n",
            "9/2021 PROPOSTA DE TESE DE DOUTORADO MATRICULADO CKP8588 2-- -- -- 32\n",
            "Componentes Curriculares Obrigatórios Pendentes: 2\n",
            "Componente Curricular CH Código\n",
            "CKP8588 PROPOSTA DE TESE DE DOUTORADO 32 h Matriculado\n",
            "CKP8999 TESE 192 hCréditos Exigidos: Créditos Integralizados: Créditos Pendentes: 60 0 62\n",
            " Carga Horária Exigida: 960 Carga Horária Integralizada: 992 Carga Horária Pendente: 0\n",
            "Trancamentos, Mobilidades Acadêmica e Prorrogações\n",
            "Trancamento Total:\n",
            "Mobilidade Acadêmica:\n",
            "Prorrogações:Nenhum trancamento total realizado.\n",
            "Nenhuma mobilidade acadêmica realizada.\n",
            "12 meses\n",
            "2 Página 1de Para verificar a autenticidade deste documento entre em http://si3.ufc.br/sigaa/documentos informando a matrícula,\n",
            "data de emissão e o código de verificação: 0205650b46\n",
            "historico_409428 23\n",
            "Página: 24\n",
            "Texto: Histórico Escolar - Emitido em:\n",
            "409428 ARMANDO SOARES SOUSA Nome: Matrícula:16/12/2021 às 15:38hPRPPG - Pró-Reitoria de Pesquisa e Pós-Graduação\n",
            " \n",
            " SIGAA - Sistema Integrado de Gestão de Atividades Acadêmicas\n",
            "UFC - Universidade Federal do Ceará\n",
            "Av. da Universidade, 2853 - Benfica - Fortaleza - CE- CEP 60020-181\n",
            "Atenção, agora o histórico possui uma verificação automática de autenticidade e consistência. Favor, ler instruções no rodapé.\n",
            "2 Página 2de Para verificar a autenticidade deste documento entre em http://si3.ufc.br/sigaa/documentos informando a matrícula,\n",
            "data de emissão e o código de verificação: 0205650b46\n",
            "historico_409428 24\n",
            "Página: 25\n",
            "Texto: 1\n",
            "D E C L A R A Ç Ã O      Declaro, para os devidos ﬁns, que Armando Soares Sousa, aluno(a) do(a) Ciências DaComputação - M/d, UNIVERSIDADE FEDERAL DO CEARÁ, foi contemplado(a) com uma bolsade Doutorado pela Fundação Cearense de Apoio ao Desenvolvimento Cientíﬁco e Tecnológico -FUNCAP, no período de janeiro de 2021 a novembro de 2021, através do Programa de BolsasAcadêmicas de Mestrado e Doutorado desta Fundação.      Declaramos, outrossim, que a referida bolsa não caracteriza nenhum vínculo empregatício dobolsista com esta Fundação.      Fortaleza, 17 de dezembro de 2021.      \n",
            "Chave de Autenticação: 9DMW-5JOE-61bc93a752df7 em 17/12/2021 10:41:59Acesse o link abaixo para autenticar o documento. http://montenegro.funcap.ce.gov.br/sugba/autenticacao_eletronica/Fundação Cearense de Apoio ao Desenvolvimento Cientíﬁco e TecnológicoCNPJ: 00078.007/0001-26Av. Oliveira Paiva, 941 - Cidade dos Funcionários - CEP: 60822-130 - Fortaleza/CETel: (85) 3101-2170 /(85) 3275-9274 / (85) 3275-9475 - Fax - 3275-7862\n",
            "Declarac ̧ão de Bolsa FUNCAP 2021 25\n"
          ]
        }
      ]
    },
    {
      "cell_type": "markdown",
      "source": [
        "## Traduz do português para o inglês"
      ],
      "metadata": {
        "id": "4iNP0ePaqWma"
      }
    },
    {
      "cell_type": "code",
      "source": [
        "from transformers import AutoTokenizer, AutoModelForSeq2SeqLM, pipeline"
      ],
      "metadata": {
        "id": "_T2SD9CjqkQO"
      },
      "execution_count": 5,
      "outputs": []
    },
    {
      "cell_type": "code",
      "source": [
        "tokenizer_pt_en = AutoTokenizer.from_pretrained(\"unicamp-dl/translation-pt-en-t5\")"
      ],
      "metadata": {
        "colab": {
          "base_uri": "https://localhost:8080/"
        },
        "id": "NYalbiisqHZt",
        "outputId": "8f186fca-5e90-4b28-e750-3a879343d040"
      },
      "execution_count": 6,
      "outputs": [
        {
          "output_type": "stream",
          "name": "stderr",
          "text": [
            "/usr/local/lib/python3.10/dist-packages/huggingface_hub/utils/_token.py:89: UserWarning: \n",
            "The secret `HF_TOKEN` does not exist in your Colab secrets.\n",
            "To authenticate with the Hugging Face Hub, create a token in your settings tab (https://huggingface.co/settings/tokens), set it as secret in your Google Colab and restart your session.\n",
            "You will be able to reuse this secret in all of your notebooks.\n",
            "Please note that authentication is recommended but still optional to access public models or datasets.\n",
            "  warnings.warn(\n",
            "/usr/local/lib/python3.10/dist-packages/transformers/tokenization_utils_base.py:1601: FutureWarning: `clean_up_tokenization_spaces` was not set. It will be set to `True` by default. This behavior will be depracted in transformers v4.45, and will be then set to `False` by default. For more details check this issue: https://github.com/huggingface/transformers/issues/31884\n",
            "  warnings.warn(\n"
          ]
        }
      ]
    },
    {
      "cell_type": "code",
      "source": [
        "model_pt_en = AutoModelForSeq2SeqLM.from_pretrained(\"unicamp-dl/translation-pt-en-t5\")"
      ],
      "metadata": {
        "id": "TGsvSpZyqtUC"
      },
      "execution_count": 7,
      "outputs": []
    },
    {
      "cell_type": "code",
      "source": [
        "len(texto_documento)"
      ],
      "metadata": {
        "colab": {
          "base_uri": "https://localhost:8080/"
        },
        "id": "HLgE3Vs3shkj",
        "outputId": "53e6c625-081d-4301-cba9-ec4eacdf62b0"
      },
      "execution_count": 24,
      "outputs": [
        {
          "output_type": "execute_result",
          "data": {
            "text/plain": [
              "31565"
            ]
          },
          "metadata": {},
          "execution_count": 24
        }
      ]
    },
    {
      "cell_type": "code",
      "source": [
        "pten_pipeline = pipeline('text2text-generation', model=model_pt_en, tokenizer=tokenizer_pt_en)"
      ],
      "metadata": {
        "id": "mz0C-ddi7gEv"
      },
      "execution_count": 25,
      "outputs": []
    },
    {
      "cell_type": "code",
      "source": [
        "texto_documento_to_english = \"\"\n",
        "\n",
        "with tqdm(total=len(meu_conteudo)) as pbar:\n",
        "  for key, value in meu_conteudo.items():\n",
        "    pbar.update(1)\n",
        "    if len(value) > 1000:\n",
        "      my_prompt_pt_to_en = f\"translate Portuguese to English: {value[:1000]}\"\n",
        "    else:\n",
        "      my_prompt_pt_to_en = f\"translate Portuguese to English: {value}\"\n",
        "    resposta = pten_pipeline(my_prompt_pt_to_en, max_length=1000)\n",
        "    texto_documento_to_english = texto_documento_to_english + resposta[0]['generated_text']\n",
        "    tqdm.write(f\"Traduzindo a página {key}\")"
      ],
      "metadata": {
        "colab": {
          "base_uri": "https://localhost:8080/"
        },
        "id": "gcE3G_fG4rmS",
        "outputId": "b9e9738e-0745-420a-d368-b0a73c19f95e"
      },
      "execution_count": 26,
      "outputs": [
        {
          "output_type": "stream",
          "name": "stderr",
          "text": [
            "  8%|▊         | 2/25 [01:39<19:02, 49.66s/it]"
          ]
        },
        {
          "output_type": "stream",
          "name": "stdout",
          "text": [
            "Traduzindo a página 1\n"
          ]
        },
        {
          "output_type": "stream",
          "name": "stderr",
          "text": [
            " 12%|█▏        | 3/25 [02:07<14:53, 40.60s/it]"
          ]
        },
        {
          "output_type": "stream",
          "name": "stdout",
          "text": [
            "Traduzindo a página 2\n"
          ]
        },
        {
          "output_type": "stream",
          "name": "stderr",
          "text": [
            " 16%|█▌        | 4/25 [02:26<11:28, 32.81s/it]"
          ]
        },
        {
          "output_type": "stream",
          "name": "stdout",
          "text": [
            "Traduzindo a página 3\n"
          ]
        },
        {
          "output_type": "stream",
          "name": "stderr",
          "text": [
            " 20%|██        | 5/25 [04:06<18:38, 55.91s/it]"
          ]
        },
        {
          "output_type": "stream",
          "name": "stdout",
          "text": [
            "Traduzindo a página 4\n"
          ]
        },
        {
          "output_type": "stream",
          "name": "stderr",
          "text": [
            " 24%|██▍       | 6/25 [04:26<13:58, 44.12s/it]"
          ]
        },
        {
          "output_type": "stream",
          "name": "stdout",
          "text": [
            "Traduzindo a página 5\n"
          ]
        },
        {
          "output_type": "stream",
          "name": "stderr",
          "text": [
            " 28%|██▊       | 7/25 [04:46<10:56, 36.46s/it]"
          ]
        },
        {
          "output_type": "stream",
          "name": "stdout",
          "text": [
            "Traduzindo a página 6\n"
          ]
        },
        {
          "output_type": "stream",
          "name": "stderr",
          "text": [
            " 32%|███▏      | 8/25 [05:08<08:59, 31.74s/it]"
          ]
        },
        {
          "output_type": "stream",
          "name": "stdout",
          "text": [
            "Traduzindo a página 7\n"
          ]
        },
        {
          "output_type": "stream",
          "name": "stderr",
          "text": [
            " 36%|███▌      | 9/25 [05:29<07:34, 28.42s/it]"
          ]
        },
        {
          "output_type": "stream",
          "name": "stdout",
          "text": [
            "Traduzindo a página 8\n"
          ]
        },
        {
          "output_type": "stream",
          "name": "stderr",
          "text": [
            " 40%|████      | 10/25 [05:53<06:44, 27.00s/it]"
          ]
        },
        {
          "output_type": "stream",
          "name": "stdout",
          "text": [
            "Traduzindo a página 9\n"
          ]
        },
        {
          "output_type": "stream",
          "name": "stderr",
          "text": [
            " 44%|████▍     | 11/25 [06:15<05:59, 25.67s/it]"
          ]
        },
        {
          "output_type": "stream",
          "name": "stdout",
          "text": [
            "Traduzindo a página 10\n"
          ]
        },
        {
          "output_type": "stream",
          "name": "stderr",
          "text": [
            " 48%|████▊     | 12/25 [06:24<04:28, 20.64s/it]"
          ]
        },
        {
          "output_type": "stream",
          "name": "stdout",
          "text": [
            "Traduzindo a página 11\n"
          ]
        },
        {
          "output_type": "stream",
          "name": "stderr",
          "text": [
            " 52%|█████▏    | 13/25 [08:03<08:49, 44.17s/it]"
          ]
        },
        {
          "output_type": "stream",
          "name": "stdout",
          "text": [
            "Traduzindo a página 12\n"
          ]
        },
        {
          "output_type": "stream",
          "name": "stderr",
          "text": [
            " 56%|█████▌    | 14/25 [08:24<06:48, 37.12s/it]"
          ]
        },
        {
          "output_type": "stream",
          "name": "stdout",
          "text": [
            "Traduzindo a página 13\n"
          ]
        },
        {
          "output_type": "stream",
          "name": "stderr",
          "text": [
            " 60%|██████    | 15/25 [08:44<05:19, 31.97s/it]"
          ]
        },
        {
          "output_type": "stream",
          "name": "stdout",
          "text": [
            "Traduzindo a página 14\n"
          ]
        },
        {
          "output_type": "stream",
          "name": "stderr",
          "text": [
            " 64%|██████▍   | 16/25 [10:25<07:54, 52.72s/it]"
          ]
        },
        {
          "output_type": "stream",
          "name": "stdout",
          "text": [
            "Traduzindo a página 15\n"
          ]
        },
        {
          "output_type": "stream",
          "name": "stderr",
          "text": [
            " 68%|██████▊   | 17/25 [10:41<05:34, 41.78s/it]"
          ]
        },
        {
          "output_type": "stream",
          "name": "stdout",
          "text": [
            "Traduzindo a página 16\n"
          ]
        },
        {
          "output_type": "stream",
          "name": "stderr",
          "text": [
            " 72%|███████▏  | 18/25 [12:21<06:55, 59.38s/it]"
          ]
        },
        {
          "output_type": "stream",
          "name": "stdout",
          "text": [
            "Traduzindo a página 17\n"
          ]
        },
        {
          "output_type": "stream",
          "name": "stderr",
          "text": [
            " 76%|███████▌  | 19/25 [12:42<04:45, 47.66s/it]"
          ]
        },
        {
          "output_type": "stream",
          "name": "stdout",
          "text": [
            "Traduzindo a página 18\n"
          ]
        },
        {
          "output_type": "stream",
          "name": "stderr",
          "text": [
            " 80%|████████  | 20/25 [13:02<03:17, 39.50s/it]"
          ]
        },
        {
          "output_type": "stream",
          "name": "stdout",
          "text": [
            "Traduzindo a página 19\n"
          ]
        },
        {
          "output_type": "stream",
          "name": "stderr",
          "text": [
            " 84%|████████▍ | 21/25 [14:43<03:51, 57.90s/it]"
          ]
        },
        {
          "output_type": "stream",
          "name": "stdout",
          "text": [
            "Traduzindo a página 20\n"
          ]
        },
        {
          "output_type": "stream",
          "name": "stderr",
          "text": [
            " 88%|████████▊ | 22/25 [16:24<03:32, 70.89s/it]"
          ]
        },
        {
          "output_type": "stream",
          "name": "stdout",
          "text": [
            "Traduzindo a página 21\n"
          ]
        },
        {
          "output_type": "stream",
          "name": "stderr",
          "text": [
            " 92%|█████████▏| 23/25 [16:43<01:50, 55.32s/it]"
          ]
        },
        {
          "output_type": "stream",
          "name": "stdout",
          "text": [
            "Traduzindo a página 22\n"
          ]
        },
        {
          "output_type": "stream",
          "name": "stderr",
          "text": [
            " 96%|█████████▌| 24/25 [18:24<01:08, 68.84s/it]"
          ]
        },
        {
          "output_type": "stream",
          "name": "stdout",
          "text": [
            "Traduzindo a página 23\n"
          ]
        },
        {
          "output_type": "stream",
          "name": "stderr",
          "text": [
            "100%|██████████| 25/25 [18:40<00:00, 53.24s/it]"
          ]
        },
        {
          "output_type": "stream",
          "name": "stdout",
          "text": [
            "Traduzindo a página 24\n"
          ]
        },
        {
          "output_type": "stream",
          "name": "stderr",
          "text": [
            "100%|██████████| 25/25 [18:57<00:00, 45.52s/it]"
          ]
        },
        {
          "output_type": "stream",
          "name": "stdout",
          "text": [
            "Traduzindo a página 25\n"
          ]
        },
        {
          "output_type": "stream",
          "name": "stderr",
          "text": [
            "\n"
          ]
        }
      ]
    },
    {
      "cell_type": "code",
      "source": [
        "print(len(texto_documento_to_english))"
      ],
      "metadata": {
        "colab": {
          "base_uri": "https://localhost:8080/"
        },
        "id": "phAMrxIVrDHI",
        "outputId": "da2fded1-1faf-42e3-f0a3-6f045303f8d6"
      },
      "execution_count": 33,
      "outputs": [
        {
          "output_type": "stream",
          "name": "stdout",
          "text": [
            "27357\n"
          ]
        }
      ]
    },
    {
      "cell_type": "code",
      "source": [
        "print(texto_documento_to_english)"
      ],
      "metadata": {
        "colab": {
          "base_uri": "https://localhost:8080/"
        },
        "id": "w7GQrUWxLW9K",
        "outputId": "28fe7fe2-b632-493f-d0b7-d460bceb73d2"
      },
      "execution_count": 34,
      "outputs": [
        {
          "output_type": "stream",
          "name": "stdout",
          "text": [
            "THE CHEFE OF THE DEPARTION OF THE FEDERAL UNIVERSITY OF PIAUÍ Dear Head of Department, Eu Armando Soares Sousa, UFPI Registry 1886865 located in the Department of Computing, Center of Nature Science, Federal University of Piauí, requests your agreement as to my PRORROGATION in order to continue the graduate course in computer science at the Federal University of Ceará, for another 6 months, from February 23, 22, in accordance with Resolution No. 186/06-CEPEX. In addition, I would like you to attach to my request the document relating to the qualification plan 2022 approved in the Department Assembly informing the favourable decision on my request for removal in 2022 to complete my doctoral activities. Fortaleza, 21, December 2021 __________________________________________________________________________________________________________________________________________________________________________________________________________________________________________________________________________________________________________________________________________________________________________________________________________________________________________________________________________________________________________________________________________________________________________________________________________________________________________________________________________________________________________________________________________________________________________________________________________________________________________________________________________________________________________________________________________________________________________________________________________________________________________________________________________________________________________________________________________________________________________________________________________________________________________________________________________________________________________________________________________________________________________________________________________________________________________________________________________________________________________________________Documents appearing in this archive. I would like to inform that in addition to the \"Request for a renewal of the Department of Computer Science\", the following documents are found: 1. Request for a renewal of the leave for the Rector 2. Declaration of requirements and workload of the PhD MDCC/UFC 3. Agreement with the renewal request of the Coordinator of MDCC/UFC 4. Agreement with the renewal request of the Advisor 5. A six-monthly renewal of 2021.1 6. A six-monthly renewal of 2021.2 7. A six-monthly renewal of 2021.1 8. A six-monthly renewal of 2021.2 9. Agreement 10. A six-monthly renewal of 2021.1 11. A six-monthly renewal of 2021.2 12. Registration renewal of 2021.2 13. Updated history 15. A grant request of FUNCAP (Fundação Cearense de Apoio ao Desenvolvimento Científico) Fortaleza, 21. December 2021.1 16. Agreement with the Reference request for a renewal of the Department of Science Sciences.THE REITOR MAGNIFIC OF THE PIAUÍ Magnífico Reitor, Eu Armando Soares Sousa, UFPI Registry 1886865 located in the Computing Department of the Center for Nature Science of the Federal University of Piauí requests you, authorize the PRORROGATION of AFASTAMENT to continue the course of Graduate Studies in Computing Science at the level of PhD in the Area of Concentration: Computer Science of the Federal University of Ceará, for another 6 (six) months, from February 23, 22, in accordance with Resolution No. 186/06-CEPEX. Fortaleza, 22, December, 2021 __________________________________________________________ (Subscription) Contact: (86) 994693558 / armando@ufpi.edu.brMINISTERIO DA EDUCATION UNIVERSITY OF CEARÁ CENTRO DE CIÊNCIAS DEPARTAMENT OF THE TRANSLATION AND OUTERED IN THE SCIENCY OF THE TRANSLATION DECLARATION We declare, for the appropriate purposes, that the Graduate Program in Computer Science of the Federal University of Ceará (MDCC/UFC) has as its requirement for the completion of the PhD's programme, complying with/approval of the following requirements: * To complete at least 12 disciplines (48 claims) - 768h * 02 Teaching Internships (08 claims) - 128h * 01 Professional Qualification of PhD (01 claims) - 16h * Defesa de Qualificação de Qualificação de Doutorado (02 claims) - 32h * Defesa da Tese (12 claims) - 192h Total claims: 72 hours required: 1,152h Fortaleza, 25.1.20202020202020202020202020202020202020202020202020202020202020202020202020202020202020202020202020202020202020202020202020202020202020202020202020202020202020202020202020202020202020202020202020202020202020202020202020202020202020202020202020202020202020202020202020202020202020202020202020202020202020202020202020202020202020202020202020202020202020202020202020202020202020202020202020202020202020202020202020202020202020202020202020202020202020202020202020202020202020202020202020202020202020202020202020202020202020202020202020202020202020202020202020202020202020202020202020202020202020202020202020202020202020202020202020202020202020202020202020202020202020202020202020202020202020202020202020202020202020202020202020202020202020202020202020202020202020202020202020202020202020202020202020202020202020202020202020202020202020202020202020202020202020202020202020202020202020202020202020202020202020202020202020202020202020202020202020202020202020202020202020202020202020202020202020202020202020202020202020202020202020202020202020202020202020202020202020202020202020202020202020202020202020202020202020202020202020202020202020202020202020202020202020202020202020202020202020202020202020202020202020202020202020202020202020202020202020202020202020202020202020202020202020202020202020202020202020202020202020202020202020202020202020202020202020202020202020202020202020202020202020202020202020202020202020202020202020202020202020202020202020The authors of this study agree with the extension of their sick leave for another six months from February 23, 22.2022, of the student Armando Soares Sousa, duly enrolled in the current semester (2021.2) in the doctoral course in computer Science at the Federal University of Ceará and advised by Prof. Lincoln Souza Rocha. To achieve this, the student can complete the curriculum components \"Proposal for a PhD thesis\" and \"Thesis\". The justification is that, due to the adversities caused by the pandemic of Corona Vírus in the years of 2020 and 2021, the classroom activities in this university were suspended and the research laboratories were closed, impacting directly on the research activities of the post-graduate courses of this university.CONCORDANCE OF A PEDIDAL RENEWAL OF AFASTAMENT I Professor Lincoln Souza Rocha, advisor of Armando Soares Sousa, duly enrolled in the current semester (2021.2) in the PhD in Computer Science at the Federal University of Ceará (UFC), I come by means of this expressing my agreement in extending the sick leave for another 6 months from February 23, 22, so that the said student can complete the curriculum components \"Proposal for a PhD thesis\" and \"Thesis\". In addition, I would like to inform that the said student, within this 4-year period (2018, 2019, 2020, 2021), has completed and was approved in the compulsory disciplines, in the proficiency in a foreign language, in the teaching internship activities and in the qualification exam.The SEMESTRAL ATESTADO OF THE POST-GRADUATE ACTION Attests that, for the purpose of proof to the CPSS/PRPG/UFPI, Mr Armando Soares Sousa, a student enrolled in the Graduate Course in Computer Science area of concentration in Computer Science at the PhD level, regularly participated in its activities of the course, in the 1st [x] or 2nd [d] of: 2021. This certificate aims to comply with the adversities caused by the pandemic of Corona Virus in the years 2020 and 2021, the activities of the Federal University of Ceará were suspended and the research laboratories were closed. Thus, the activities have been carried out remotely and are supported by the following documents: Circular 1/2020/PRPPG/UFC of 30 April 2020 and the following documents:The SEMESTRAL ATESTADO OF THE POST-GRADUATE ACTION Attests that, for the purpose of proof to the CPSS/PRPG/UFPI, Mr Armando Soares Sousa, a student enrolled in the Graduate Course in Computer Science area of concentration in Computer Science at the PhD level, regularly participates in their activities of the course, in the 1st [ ] or 2nd [x] semester of: 2021. This certificate aims to comply with the adversities caused by the pandemic of Corona Virus in the years 2020 and 2021, the activities of the Federal University of Ceará were suspended and the research laboratories were closed. Thus, the activities have been carried out remotely and are supported by the following documents: Circular 1/2020/PRPPG/UFC of 30 April 2020 and the following documents:SEMESTRAL EVALUATION OF THE DESEMPENDENT OF THE POST-GRADUING BY THE ORIENTARY 1 – Name: ARMANDO SOARES SOUSA 2 – IES of the course: UNIVERSIDADE FEDERAL DO CEARÁ 3 – Name of the course: POST-GRADUATION IN SCIENCE OF THE COMPUTATION 5 – Concentration Area: Ciência da Computação Note: due to the adversities caused by the pandemic of Corona Virus in 2020 and 2021, there were changes in the deadlines of the semesters 2021.1 and 2021.2 according to Circular No. 1/2020/PRPPG/UFC of 30.04/2020, Circular No. 10/2020-CGSI/PRPPG/CENS/PRPPG/REITORIA of 14.2021/PRPPG/DIV_ENSINO/PRPPG/CENS/PRPPG/REITORIA of 14.09/2021.SEMESTRAL EVALUATION OF THE DESEMPENDENT OF THE POST-GRADUING BY THE ORIENTARY 1 – Name: ARMANDO SOARES SOUSA 2 – IES of the course: UNIVERSIDADE FEDERAL DO CEARÁ 3 – Name of the course: POST-GRADUATION IN SCIENCE OF THE COMPUTATION 5 – Concentration Area: Ciência da Computação Note: due to the adversities caused by the pandemic of Corona Virus in 2020 and 2021, the deadlines of the semesters have changed to 2021.1 and 2021.2 according to Circular No. 1/2020/PRPPG/UFC of 30.04/2020, Circular No. 10/2020-CGSI/PDB/CAPES/UFC of 30.04/2020 and extension of the deadline according to the order of 2021.2 should be closed by 10.02/2021.THE COMPROMISSION AND RESPONSIBILITY I declare and assume the commitment and legal responsibility to provide service to the Federal University of Piauí, after completion of the Post-Graduate Program in Computer Science at the Federal University of Ceará, in Fortaleza, for the time equivalent to the time used in the removal from functional activities for the realization of the above-mentioned course.WITHDRAWAL REPORT OF THE POST-GRADE PROGRAM: Post-Graduation in Computer Science_1 - IDENTIFICATION: 2 - ACADENCE ATHIVITIES OF THE POST-GRADE: (Over the half) 2.1. DISCIPLINA(S) CURSED IN THE WORDSONE WORDSONE WORDSONE WORDSONE WORDSONE WORDSONE WORDSONE WORDSONE WORDSONE WORDSONE WORDSONE WORDSONE WORDSONE WORDS: MORELINE WORDS: MORELINE WORDS: MORELINE WORDS: MORELINE WORDS: MORELINE WORDS: MORELINE WORDS: MORELINE WORDS: MORELINE WORDS: MORELINE WORDS: MORELINE WORDS: MORELINE WORDS: MORELINE WORDS: MORELINE WORDS: MORELINE WORDS: MORELINE WORDS: MORELINE WORDS, MORELINE WORDS, MORELINE WORDS, MORELINE WORDS, MORELINE WORDS, MORELINE WORDS, MORELINE WORDS, MORELINE WORDS, MORELINE WORDS, MORELINE WORDS, MORELINE WORDS, MORELINE WORDS, MORELINE WORDS, MORELINE WORDS, MORELINE WORDS, MORELINE WORDS, MORELINE WORDS, MORELINE WORDS, MORELINE WORDS, MORELINE WORDS, MORELINE WORDS, MORELINE WORDS, MORELINE WORDS, MORELINE WORDS, MORELINE WORDS, MORELINE WORDS, MORELINE WORDS, MORELINE WORDS, MORELINE WORDS, MORELINE WORDS, MORELINE WORDS, MORELINE WORDS, MORELINE WORDS, MORELINE WORDS, MORELINE WORDS, MORELINE WORDS, MORELINE WORDS, MORELINE WORDS, MORELINE WORDS, MORELINE WORDS, MORELINE WORDS, MORELINE WORDS, MORELINE WORDS, MORELINE WORDS, MORELINE WORDS, MORELINE WORDS, MORELINE WORDS, MORELINE WORDS, MORELINE WORDS, MORELINE WORDS, MORELINE WORDS, MORELINE WORDS, MORELINE WORDS, MORELINE WORDS, MORELINE WORDS, MORELINE WORDS, MORELINE WORDS, MORELINE WORDS, MORELINE WORDS, MORELINE WORDS, MORELINE WORDS, MORELINE WORDS, MORELINE WORDS, MORELINE WORDS, MORELINE WORDS, MORELINE WORDS, MORELINE WORDS, MORELINE WORDS, MORELINE WORDS, MORELINE WORDS, MORELINE WORDS, MORELINE WORDS, MORELINE WORDS, MORELINE WORDS, MORELINE WORDS, MORELINE WORDS, MORELINE WORDS, M3. STUDY PLANT: 2.2. STAGIUM REEALIZED IN THE SEMANAL HOUSE IN THE CREDITOSCONCEITO(S)----2.3. EXTRAORDINARY CURSONS, P A R T I C I P A Ç Ã O E M SEMINARY, C O N G R E S S O S , ENCONTROUS AND OTHER ACTIVE ACTIVITIES OF THE EASE 2021 - International Conference on Evaluation and Assessment in Software Engineering Honolulu, Hawaii, USA Trondheim, Norway NA NA--3.1. To describe, clearly and succinctly, the study plan to be developed in the next half year, including the code review of a systematic mapping of the architectural debt, its workload and credit number.3.2. Project Summary (Dissertation or Thesis): including the title and the development of the project itself. Title: An Approach to Estimate Architectural Technical Debt through Degradation Indicators extracted from Software Repositories - Activities related to the PhD Project: •Cursei and completed the qualification activity; •I participated in all meetings related to the PhD project and guidance meetings; •I read the main articles and works related to Technical Debt, Architectural Technical Debt and Software Mining related to the PhD project; •I conducted studies on software repository mining tools and data science; •I published the paper \"Technical Debt in Large-Scale Distributed Projects: An Industrial Case Study\" at the SANER 2021 event.4. DEVELOPMENT OF THE TESE OR DISSERTATION: To specify or specify your current situation: a. ( X ) Do not entere this activity yet b. ( ) Carry out preliminary studies for the drafting of the Thesis or Dissertation Project c. ( ) You are developing the Thesis or Dissertation Project e. ( ) Do not fit the above items If you sign the letter \"c\" or \"d\", please tell the following: -Thesis or Dissertation Project Summary: -Thesis or Dissertation Project Summary: -Thesis or Dissertation Project Summary: -Thesis or Dissertation Project Summary: -Thesis or Dissertation Project Summary: -Thesis or Dissertation Project Summary: -Thesis or Dissertation Project Summary: -Thesis or Dissertation Project Summary: -Thesis or Dissertation Project Summary: -Thesis or Dissertation Project Summary: -Thesis or Dissertation Project Summary: -Thesis or Dissertation Project Summary: -Thesis or Dissertation Project Summary: -Thesis or Dissertation Project Summary: -Thesis or Dissertation Project Summary: -Thesis or Dissertation Project Summary: -Thesis or Dissertation Project Summary: -Thesis or Dissertation Project Summary: -Thesis or Dissertation Summary: -Thesis or Dissertation Summary: -Thesis or Dissertation Summary: -Thesis or Dissertation Summary: -Thesis or Dissertation Summary: -Thesis or Dissertation Summary: -Thesis or Dissertation Summary: -Thesis or Dissertation Summary: -Thesis or Dissertation Summary: -Thesis or Dissertation Summary: -Thesis or Dissertation Summary: -Thesis or Dissertation Summary: -Thesis or Dissertation Summary: -Thesis or Dissertation Summary: -Thesis or Dissertation Summary: -Thesis or Dissertation Summary: -Thesis or Dissertation Summary: -Thesis or Dissertation Summary: -Thesis or Dissertation Summary: -Thesis or Dissertation Summary: -Thesis or Dissertation Summary: -Thesis or Dissertation Summary: -Thesis or Dissertation Summary: -Thesis or Dissertation Summary: -Thesis or Dissertation Summary: -Thesis or Dissertation Summary: -Thesis or Dissertation Summary: -Thesis or Dissertation Summary: -Thesis or Dissertation Summary: -Thesis or Dissertation Summary: -Thesis or Dissertation Summary: -Thesis or Dissertation Summary: -Thesis or Dissertation Summary: -Thesis or Dissertation Summary: -Thesis or Dissertation Summary: -Thesis or Dissertation Summary: -Thesis or Dissertation Summary: -Thesis or Dissertation Summary: -Thesis or Dissertation Summary: -Thesis or Dissertation Summary: -Thesis or Dissertation Summary: -Thesis or Dissertation Summary: -Thesis or Dissertation Summary: -Thesis or Dissertation Summary: -Thesis or Dissertation Summary: -Thesis oWITHDRAWAL REPORT OF THE POST-GRADE PROGRAM: Post-Graduation in Computer Science_1 - IDENTIFICATION: 2 - ACADENCE ATHIVITIES OF THE POST-GRADE: (Overall) 2.1. DISCIPLINA(S) CURSED IN THE WORDSALE IN THE CREDITOCONCEITO(S)CKP8588 - Proposal for a PhD - 2 Ongoing NAME: Armando Soares Sousa WITHDRAWAL REPORT: 1st ( ) OR 2nd (X) WITHDRAWAL REPORT OF 2021 WITHDRAWAL REPORT:2.2. STATEMENTS REALIZED IN THE SEMANAL HOUSESIn THE CREDITSCONCEITO(S)----2.3. EXTRAORDINARY CURSONS, P AR R T I C I P A Ç Ã O AND MORENY , CONGRESS, ENCONTROUS AND OTHER ATHER ATHIBOURS AND MORENY AND MORENY , AS AN ARTICLE 2 1 - 1 5 t h EU R THE P AND NCLES NCLES NCLES NCLES NCLES NCLES NCLES NCLES NCLES NCLES NCLES NCLES NCLES NCLES NCLES NCLES NCLES NCLES NCLES NCLES NCLES NCLES NCLES NCLES NCLES NCLES NCLES NCLES NCLES NCLES NCLES NCLES NCLES NCLES NCLES NCLES NCLES NCLES NCLES NCLES NCLES NCLES NCLES NCLES NCLES NCLES NCLES NCLES NCLES NCLES NCLES NCLES NCLES NCLES NCLES NCLES NCLES NCLES NCLES NCLES NCLES NCLES NCLES NCLES NCLES NCLES NCLES NCLES NCLES NCLES NCLES NCLES NCLES NCLES NCLES NCLES NCLES NCLES NCLES NCLES NCLES NCLES NCLES NCLES NCLES NCLES NCLES NCLES NCLES NCLES NCLES NCLES NCLES NCLES NCLES NCLES NCLES NCLES NCLES NCLES NCLES NCLES NCLES NCLES NCLES NCLES NCLES NCLES NCLES NCLES NCLES NCLES NCLES NCLES NCLES NCLES NCLES NCLES NCLES NCLES NCLES NCLES NCLES NCLES NCLES NCLES NCLES NCLES NCLES NCLES NCLES NCLES NCLES NCLES NCLES NCLES NCLES NCLES NCLES NCLES NCLES NCLES NCLES NCLES NCLES NCLES NCLES NCLES NCLES NCLES NCLES NCLES NCLES NCLES NCLES NCLES NCLES NCLES NCLES NCLES NCLES NCLES NCLES NCLES NCLES NCLES NCLES NCLES NCLES NCLES NCLES NCLES NCLES NCLES NCLES NCLES NCLES NCLES NCLES NCLES NCLES NCLES NCLES NCLES NCLES NCLES NCLES NCLES NCLES NCLES NCLES NCLES NCLES NCLES NCLES NCLES NCLES NCLES NCLES NCLES NCLES NCLES NCLES NCLES NCLES NCLES NCLES NCLES NCLES NCLES NCLES NC3. STUDY PLANT: 3.1. Clearly and briefly describe the study plan to be developed in the next half year, including the subject or subjects that you intend to attend, their workload and credit number. • Publish the results of the experiments relating to the validation of a prototype developed, the index and indicators suggested in the research in a target system to extract information from its code repositories related to architectural technical debt. • Publish the studies at an international event in the field of technical debt. • Publish the revised systematic mapping, present the thesis proposal and write the PhD thesis 3.2. Project Summary (Dissertation or Thesis): including the title and development of the project itself. Annual Activities Report 2021-2-Ass 184. DEVELOPMENT OF THE TESE OR DISSERTATION: To assign or specify your current situation: a. ( X ) Do not yet join this activity b. ( ) Preliminary studies for the drafting of the Thesis or Dissertation Project c. ( ) You are developing the Thesis or Dissertation Project d. ( ) You are writing the Final Report of the Thesis or Dissertation e. ( ) Do not fit into the above items If you sign the letter \"c\" or \"d\", please tell your doctorate/dissertation Project: An activity for estimating architectural debt: •Cursing the curricular component \"Proposal for a PhD and guidance project\"; •Reading the main articles and work on Technical Debt.5. ACADENCE DEVELOPMENT: TOTAL OF CREVENUE DUTY: ________76________ OF CREVENUE DUTY: _______2______ OF CREVENUE DUTY: _______62____ OF CREVENUE DUTY: ________12_______ OF CREVENUE DUTY: _________________________________________________________________________________________________________________________________________________________________________________________________________________________________________________________________________________________________________________________________________________________________________________________________________________________________________________________________________________________________________________________________________________________________________________________________________________________________________________________________________________________________________________________________________________________________________________________________________________________________________________________________________________________________________________________________________________________________________________________________________________________________________________________________________________________________________________________________________________________________________________________________________________________________________________________________________________________________________________________________________________________________________________________________________________________________________________________________________________________________________________________________________________________________________________________________________________________________________________________________________________________________________________________________________________________________________________________________________________________________________________Portal do DiscenteUNIVERSIDADE FEDERAL DO CEARÁSISTEMA INTEGRADODE GESTÃODE ATIVIDADES ACADÊMICASEMITIDOEM 17/12/2021 10:36ATESTADO DE MATRÍCULALear period:2021.2Level:DOUTORADOMatricle:409428Vínculo:REGULARNome:ARMANDO SOARES SOUSAPrograma:PROGRAME DE PÓS-GRADUCAÇÃOENSING THE POWERS OF THE COMPUTATION:DOUTORADOStatus:ATIVOArea of verification:CKP8588 - ATIONAL THE CARARARY OF THE COMPUTATION:IMPLEMENTATIONSOURCKSOURCKSOURCKSOURCKSOURCKSOURCKSOURCKSOURCKSOURCKSOURCKSOURCKSOURCKSOURCKSOURCKSOURCKSOURCKSOURCKSOURCKSOURCKSOURCKSOURCKSOURCULATION:THE COMPUTATION INFORMATION:THE COMPUTATION:THE COMPUTATION:THE COMPUTATION:THE COMPUTATION:THE COMPUTATION:THE COMPUTATION:THE COMPUTATION:THE COMPUTATION:THE COMPUTATION:THE COMPUTATION:THE COMPUTATION:THE COMPUTATION:THE COMPUTATION:THE COMPUTATION:THE COMPUTATION:THE COMPUTATION:THE COMPUTATION:THE COMPUTATION:THE COMPUTATION:THE COMPUTATION:THE COMPUTATION:THE COMPUTATION:THE COMPUTATION:THE COMPUTATION:THE COMPUTATION:THE COMPUTATION:THE COMPUTATION:THE COMPUTATION:THE COMPUTATION:THE COMPUTATION:THE COMPUTATION:THE COMPUTATION:THE COMPUTATION:THE COMPUTATION:THE COMPUTATION:THE COMPUTATION:THE COMPUTATION:THE COMPUTATION:THE COMPUTATION:THE COMPUTATION:THE COMPUTATION:THE COMPUTATION:THE COMPUTATION:THE COMPUTATION:THE COMPUTATION:THE COMPUTATION:THE COMPUTATION:THE COMPUTATION:THE COMPUTATION:THE COMPUTATION:THE COMPUTATION:THE COMPUTATION:THE COMPUTATION:THE COMPUTATION:THE COMPUTATION:THE COMPUTATION:THE COMPUTATION:THE COMPUTATION:THE COMPUTATION:THE COMPUTATION:THE COMPUTATION:THE COMPUTATION:THE COMPUTATION:THE COMPUTATION:THE COMPUTATION:THE COMPUTATION:TThe Federal University of Ceará PRO-REITORIA DE PÓS-GRADUAÇÃO D E C L A R A Ç Ã O Declaramos, para os fins a se necessary, that ARMANDO SOARES SOUSA is a student who is affiliated to this university, under the number 409428, in the programme of DOCUMENT IN SCIENCE OF THE COMPUTATION - DOCUMENT - FORTALEZA. Pró-Reitoria de Pós-Graduação da Universidade Federal do Ceará, Fortaleza, 17 December 2021.07.272.636/0001-31 Campus Universitário - Reitoria, PICI Fortaleza/CE - CEP: 60020-181 (85) 3366-9999 - Fax: (85) 3366-9999 - e-mail: dsi@sti.ufc.brSchool History - Issued on: December 16,2021 at 15:38hPRPPG - Pro-Rector of Research and Post-Graduation 409428 ARMANDO SOARES SOUSA Name: Registry: BENINU DO CARMO SOUSADados Pessoal Name: Mother's Name: MARIA DOS SANTOS SOUSA TRAVESSA JÚLIO CÉSAR, 110 - APTO 805 DAMAS FORTALEZA CEEAddress: Municipality:Bairro: UF:Date of publication: TERESINA/PI Data from the Program: Month/August: TERESINA/PI Data from the Program: MOUTE/AGING Area: TERESINA/PI Data from the Program: MOUTE/AGING Area: TERESINA/PI Data from the Program: MOUTE/AGING Area: TERESINA/PI Data from the Program: MOUTE/AGING Area: TERESINA/PI Data from the Program: MOUTE/AGING Area: TERESINA/PI Data from the Program: MOUTE/AGING Area: TERESINA/PI Data from the Program: MOUTE/AGING Area: TERESINA/PI Data from the Program: MOUTE/AGING Area: TERESINA/PI Data from the Program: MOUTE/AGING Area: TERESINA/PI Data from the Program: MOUTE/AGING Area: TERESINA/PI Data from the Program: MOUTE/AGING Area: TERESINA/PI Data from the Program: MOUTE/AGING Area: TERESINA/PI Data from the Program: MOUTE/AGING Area: TERESINA/PI Data from the Program: MOUTE/AGING Area: TERESINA/PI Data from the Program: MOUTE/AGING Area: TERESINA/PI Data from the Program: MOUTE/AGING Area: TERESINA/PI Data from the Program: MOUTE/AGING Area: TERESINA/PI Data from the Program: MOUTE/AGING Area: TERESINA/PI Data from the Program: MOUTE/AGING Area: TERESINA/PI Data from the Program: MOUTE/AGING Area: TERESINA/PI Data from the Program: MOUTE/AGING Area: TERESINA/PI Data from the Program: MOUTE/AGING Area: TERESINA/PI Data from the Program: MOUTE/AGING Area: TERESINA/PI Data from the Program: MOUTE/AGING Area: TERESINA/PI Data from the Program: MOUTE/AGING Area: TERESINA/PI Data from the Program: MOUTE/AGING Area: TERESINA/PI Data from the Program: MOUTE/AGING Area: TERESINA/PI Data from the Program: MOUTE/AGING Area: TERESINA/PI Data from the Program: MOUTE/AGING Area: TERESINA/PI Data from the Program: MOUTE/AGING Area: TERESINA/PI Data from the Program: MOUTE/AGING Area: TERESINA/PI Data from the Program: MOUTE/AGING Area: TERESINA/PI Data from the Program: MOUTE/AGING Area: TERESINA/PI Data from the Program: MOUTE/AGING Area: TERESINA/PI Data from the Program: MOUTE/AGING Area: TERESINA/PI Data from the Program: MOUTE/AGING Area: TERESINA/PI Data from the Program:School Historical - Issued at: 409428 ARMANDO SOARES SOUSA Name: Registry: 16/12/2021 at 15:38hPRPPG - Pro-Rector of Research and Post-Graduation SIGAA - Integrated System of Activity Activity Management UFC - Universidade Federal do Ceará Av. da Universidade, 2853 - Benfica - Fortaleza - CE-CEP 60020-181 Attention, now the history has an automatic verification of authenticity and consistency. Please read instructions on the footnote. 2 Page 2To verify the authenticity of this document, please read the following: http://si3.ufc.br/sigaa/documents informing the registration, date of issue and the verification code: 0205650b46 historico_409428 241 D E C L A R A Ç Ã O Declaro, para os devidos fins, que Armando Soares Sousa, student(a) of the Commercial Sciences - M/d, UNIVERSIDADE FEDERAL DO CEARÁ, was granted a PhD scholarship by the Fundação Cearense de Apoio ao Desenvolvimento Científico e Tecnológico - FUNCAP, from January 2021 to November 2021, through the BolsasAcadêmicas Programme of Master's and PhD scholarship of this Foundation. We also declare that this scholarship does not characterize any employment link dobolsista with this Foundation. Fortaleza, December 17, 2021. Authentication key: 9DMW-5JOE-61bc93a752df7\n"
          ]
        }
      ]
    },
    {
      "cell_type": "markdown",
      "source": [
        "## Faz o resumo do texto em inglês"
      ],
      "metadata": {
        "id": "YHvqSEdZBCaZ"
      }
    },
    {
      "cell_type": "code",
      "source": [
        "my_summarizer = pipeline(\"summarization\", model=\"Falconsai/text_summarization\")"
      ],
      "metadata": {
        "id": "kZhOUHYJA9AE"
      },
      "execution_count": 35,
      "outputs": []
    },
    {
      "cell_type": "code",
      "source": [
        "my_summary_in_english = my_summarizer(texto_documento_to_english, max_length=5000, min_length=30, do_sample=False)"
      ],
      "metadata": {
        "colab": {
          "base_uri": "https://localhost:8080/"
        },
        "id": "9cH6Ji6RBZ-v",
        "outputId": "fb376f59-ede2-4c65-ba83-77bba5bf3884"
      },
      "execution_count": 36,
      "outputs": [
        {
          "output_type": "stream",
          "name": "stderr",
          "text": [
            "Token indices sequence length is longer than the specified maximum sequence length for this model (8035 > 512). Running this sequence through the model will result in indexing errors\n"
          ]
        }
      ]
    },
    {
      "cell_type": "code",
      "source": [
        "if len(my_summary_in_english) > 0:\n",
        "  print(my_summary_in_english[0]['summary_text'])"
      ],
      "metadata": {
        "colab": {
          "base_uri": "https://localhost:8080/"
        },
        "id": "KZ-Lv9dTCchh",
        "outputId": "cf0c0f80-b95d-4a2a-f5a2-1d2c5f844345"
      },
      "execution_count": 37,
      "outputs": [
        {
          "output_type": "stream",
          "name": "stdout",
          "text": [
            "DEVELOPMENT OF THE FEDERAL UNIVERSITY OF PIAU Dear Head of Department, Eu Armando Sousa, UFPI Registry 1886865 located in the Department of Computing, Center of Nature Science, Federal University of Ceará . This certificate aims to comply with the adversities caused by the pandemic of Corona Virus in the years of 2020 and 2021 . Thesis or Dissertation Project Summary: -Thesis and DisSer\n"
          ]
        }
      ]
    },
    {
      "cell_type": "markdown",
      "source": [
        "## Faz a tradução do resumo em inglês para português"
      ],
      "metadata": {
        "id": "399VP9bgM76O"
      }
    },
    {
      "cell_type": "code",
      "source": [
        "my_final_summary_in_english = my_summary_in_english[0]['summary_text']\n",
        "print(len(my_final_summary_in_english))"
      ],
      "metadata": {
        "colab": {
          "base_uri": "https://localhost:8080/"
        },
        "id": "oHip6Dw7NVKC",
        "outputId": "84475164-583b-4e25-e21b-84af0891badb"
      },
      "execution_count": 43,
      "outputs": [
        {
          "output_type": "stream",
          "name": "stdout",
          "text": [
            "389\n"
          ]
        }
      ]
    },
    {
      "cell_type": "code",
      "source": [
        "tokenizer_en_pt = AutoTokenizer.from_pretrained(\"unicamp-dl/translation-en-pt-t5\")"
      ],
      "metadata": {
        "colab": {
          "base_uri": "https://localhost:8080/",
          "height": 200,
          "referenced_widgets": [
            "245c97631d8b4cc5ad3e293da013e3c5",
            "4776842afbf141989b660ec869ae294c",
            "38cad5560f4f49af8d2fd69b68b1ad53",
            "7e3e827f04754572904664185524bc47",
            "e96dd957ea014e0093e8945f809550f2",
            "ed17f95832284ab3b40d2307301766c0",
            "8d27683e351942d6b57c74c0471de2e8",
            "24458f2e6cae436ea6a5fca440389805",
            "f9dcb20f70704171a75bc7ab9c2e807d",
            "76dc8dad1927429b88a811b1885a18c7",
            "00b6ca099ff74d83a387c6b467dfc097",
            "79e705ff0a1d4abdb0e6bbedc3b726d3",
            "f9c81c1275cb4f2f95777c85ad760ad0",
            "886262893d8c40fbbe163f4f3a0640e1",
            "f1806762c1a24d3e83c9c70038516ca4",
            "1467a9b55e254c5f812e64f0ed8c244c",
            "e058898ba9254391b2add164dd8a0e84",
            "338c413c1eff4f059ad5f240955474ba",
            "9aee42a447be4102964f82a8220a6f5d",
            "8c345267fd9b4422bd4695321b4d393e",
            "2265c61f5bca4ff791e4189504bb0af8",
            "50a21cdae22b4e53991f440692de11ac",
            "bad07fefd38841d393b2741fedfab5bf",
            "d508eb90dbb94a028e7d05d4639a50d6",
            "4eaec41eb3e447f6884be825731281d5",
            "13a369585cae4512ba2e886487311a63",
            "e7cc82fd00b9404188ad89c6518fd57f",
            "77fb3eb7b7974dc3a272130173b0cf5a",
            "a234400a998c4b089ec32b480ec85f3c",
            "34380164e82d4c19a8d1a1eebd097c7e",
            "4ad808d06dc6412fb9907e74d386b041",
            "c3ec98a7ab6843418f13edc58f35a9da",
            "c62b6eadfcdf437881420ad0ed2bced1",
            "df648e88e15f443ea34fb219d6213626",
            "cc58ea00404e441fbb0bacb18f842674",
            "c74a0183d6e245dcae053c73574892b5",
            "c8be2e3a931b431e92d80206e8da85af",
            "df541d43ef9f4e0a9eac33e055c5e032",
            "e8d8882e10144dc4901ce0ce8f7f776e",
            "21cb4003ebc64130b9cc2578c81b092b",
            "22ec73a7af7844babe7f328e4832277c",
            "c883829795c046cfa3b30948ad7f6b34",
            "548be1ecb2ee4c1887bbf603b3e74e1d",
            "69ec09a071904816b8dde54cfa899a4d"
          ]
        },
        "id": "0ubG67ulM_cl",
        "outputId": "69a1f09c-0f95-4189-cf06-8fa8323a54e8"
      },
      "execution_count": 38,
      "outputs": [
        {
          "output_type": "display_data",
          "data": {
            "text/plain": [
              "tokenizer_config.json:   0%|          | 0.00/1.95k [00:00<?, ?B/s]"
            ],
            "application/vnd.jupyter.widget-view+json": {
              "version_major": 2,
              "version_minor": 0,
              "model_id": "245c97631d8b4cc5ad3e293da013e3c5"
            }
          },
          "metadata": {}
        },
        {
          "output_type": "display_data",
          "data": {
            "text/plain": [
              "spiece.model:   0%|          | 0.00/756k [00:00<?, ?B/s]"
            ],
            "application/vnd.jupyter.widget-view+json": {
              "version_major": 2,
              "version_minor": 0,
              "model_id": "79e705ff0a1d4abdb0e6bbedc3b726d3"
            }
          },
          "metadata": {}
        },
        {
          "output_type": "display_data",
          "data": {
            "text/plain": [
              "tokenizer.json:   0%|          | 0.00/1.35M [00:00<?, ?B/s]"
            ],
            "application/vnd.jupyter.widget-view+json": {
              "version_major": 2,
              "version_minor": 0,
              "model_id": "bad07fefd38841d393b2741fedfab5bf"
            }
          },
          "metadata": {}
        },
        {
          "output_type": "display_data",
          "data": {
            "text/plain": [
              "special_tokens_map.json:   0%|          | 0.00/1.79k [00:00<?, ?B/s]"
            ],
            "application/vnd.jupyter.widget-view+json": {
              "version_major": 2,
              "version_minor": 0,
              "model_id": "df648e88e15f443ea34fb219d6213626"
            }
          },
          "metadata": {}
        },
        {
          "output_type": "stream",
          "name": "stderr",
          "text": [
            "/usr/local/lib/python3.10/dist-packages/transformers/tokenization_utils_base.py:1601: FutureWarning: `clean_up_tokenization_spaces` was not set. It will be set to `True` by default. This behavior will be depracted in transformers v4.45, and will be then set to `False` by default. For more details check this issue: https://github.com/huggingface/transformers/issues/31884\n",
            "  warnings.warn(\n"
          ]
        }
      ]
    },
    {
      "cell_type": "code",
      "source": [
        "model_en_pt = AutoModelForSeq2SeqLM.from_pretrained(\"unicamp-dl/translation-en-pt-t5\")"
      ],
      "metadata": {
        "colab": {
          "base_uri": "https://localhost:8080/",
          "height": 81,
          "referenced_widgets": [
            "527afccd0c624ab58d0eac4610970a5f",
            "85b4141a4a57409289c340563fa7b72c",
            "2a3c361cc38d4d6ca120c2c70e37a337",
            "fcdcb211fa06446aa83b011bc0298a0a",
            "5d77c733a3694a0986fc7fbf7872b6b6",
            "2f76ecae88e140f59d2ae2862c533e4e",
            "547c9790fc5b4759af22f6b69876cfab",
            "a7d89c9f06b84b6a9fa2674d506b82d5",
            "3caf2387d8294f6d83b032870e4219ed",
            "fecff5e69ca7451493b80299d8b58ed5",
            "9f373697ecce4c4dbf4fd450793e8065",
            "c449a98bf3c24301833109bb1fe73491",
            "92e44fc194174c35a1dc23802dca91a8",
            "67f1e5f5b3ad4c6b8bfb5e1d026034ce",
            "889c9e01cfc344fdb71b17a9ef9cbc96",
            "4b3dd4e031034411aaddbf66d09465ff",
            "35f2ff2d55b34067a8c7f66f50bdd26b",
            "d179c697b5dd4b7da9eb995dc28e364f",
            "f1101bcc3733450695c0aebeed0fa268",
            "d18c2a62786b4edd8fc4edfdb5bb2fd8",
            "d6086a79bf91489794930e57bb629428",
            "7532ffbdf274495ca45c7d4af26981b9"
          ]
        },
        "id": "_3Rv6CeHNJMb",
        "outputId": "15f7555e-36e5-4b5a-de2d-f678b3013168"
      },
      "execution_count": 39,
      "outputs": [
        {
          "output_type": "display_data",
          "data": {
            "text/plain": [
              "config.json:   0%|          | 0.00/634 [00:00<?, ?B/s]"
            ],
            "application/vnd.jupyter.widget-view+json": {
              "version_major": 2,
              "version_minor": 0,
              "model_id": "527afccd0c624ab58d0eac4610970a5f"
            }
          },
          "metadata": {}
        },
        {
          "output_type": "display_data",
          "data": {
            "text/plain": [
              "pytorch_model.bin:   0%|          | 0.00/892M [00:00<?, ?B/s]"
            ],
            "application/vnd.jupyter.widget-view+json": {
              "version_major": 2,
              "version_minor": 0,
              "model_id": "c449a98bf3c24301833109bb1fe73491"
            }
          },
          "metadata": {}
        }
      ]
    },
    {
      "cell_type": "code",
      "source": [
        "enpt_pipeline = pipeline('text2text-generation', model=model_en_pt, tokenizer=tokenizer_en_pt)\n",
        "meu_resumo = enpt_pipeline(f\"translate English to Portuguese: {my_final_summary_in_english}\", max_length=len(my_final_summary_in_english))"
      ],
      "metadata": {
        "id": "GoIbcsMFNME_"
      },
      "execution_count": 44,
      "outputs": []
    },
    {
      "cell_type": "code",
      "source": [
        "if len(meu_resumo) > 0:\n",
        "  print(meu_resumo[0]['generated_text'])"
      ],
      "metadata": {
        "colab": {
          "base_uri": "https://localhost:8080/"
        },
        "id": "DhReNoNqNgx3",
        "outputId": "53fbc578-b55b-46a9-8765-46f0ce8b5414"
      },
      "execution_count": 46,
      "outputs": [
        {
          "output_type": "stream",
          "name": "stdout",
          "text": [
            "DESENVOLVIMENTO DA UNIVERSÍDIA FEDERAL DO PIAU Prezado Chefe de Sector, Eu Armando Sousa, UFPI Registro 1886865, localizado no Departamento de Informática, Centro de Ciência da Natureza, Universidade Federal do Ceará . Este certificado tem por objetivo cumprir as dificuldades provocadas pela pandemia do vírus Corona nos anos de 2020 e 2021 . Tese ou Projeto de Dissertação resumo: -Tese e Dissertação\n"
          ]
        }
      ]
    }
  ]
}