{
 "cells": [
  {
   "cell_type": "markdown",
   "metadata": {},
   "source": [
    "# Iteration and Design"
   ]
  },
  {
   "cell_type": "markdown",
   "metadata": {},
   "source": [
    "> An exploration of Python iteration constructs, in the context of software design.\n",
    ">\n",
    "> This page covers the same programming language constructs as [Iteration Basics](iteration-basics), but adds principles for choosing between them, and relates them to concepts of software engineering.\n",
    ">\n",
    "> Standard terms from software engineering are written in **bold**."
   ]
  },
  {
   "cell_type": "markdown",
   "metadata": {},
   "source": [
    "## I. Data-Shaped Code"
   ]
  },
  {
   "cell_type": "markdown",
   "metadata": {},
   "source": [
    "Let's print all the characters of a string, one per line:"
   ]
  },
  {
   "cell_type": "code",
   "execution_count": 1,
   "metadata": {
    "scrolled": true
   },
   "outputs": [
    {
     "name": "stdout",
     "output_type": "stream",
     "text": [
      "飛\n",
      "ぶ\n",
      "火\n",
      "鳥\n"
     ]
    }
   ],
   "source": [
    "text = \"飛ぶ火鳥\"\n",
    "\n",
    "print(text[0])\n",
    "print(text[1])\n",
    "print(text[2])\n",
    "print(text[3])"
   ]
  },
  {
   "cell_type": "markdown",
   "metadata": {},
   "source": [
    "### Changes to the Data"
   ]
  },
  {
   "cell_type": "markdown",
   "metadata": {},
   "source": [
    "This code runs fine on this exact data (and on any other four-character string, such as \"fire\" or \"burn\"), but it's *fragile* – a slight change to the data will break it.\n",
    "\n",
    "\\[Terminology: Fragile is the opposite of **robust**. \"Robustness\" is one of the **non-functional** properties, or **design considerations**, of a design.\\]\n",
    "\n",
    "To see, this let's replace \"飛ぶ火鳥\" by a longer string:"
   ]
  },
  {
   "cell_type": "code",
   "execution_count": 5,
   "metadata": {
    "scrolled": true
   },
   "outputs": [
    {
     "name": "stdout",
     "output_type": "stream",
     "text": [
      "火\n",
      "鳥\n",
      "が\n",
      "飛\n"
     ]
    }
   ],
   "source": [
    "text = \"火鳥が飛んでいる\"\n",
    "\n",
    "print(text[0])\n",
    "print(text[1])\n",
    "print(text[2])\n",
    "print(text[3])"
   ]
  },
  {
   "cell_type": "markdown",
   "metadata": {},
   "source": [
    "Oops, what happened? Now we are only seeing the first four characters of the text.\n",
    "\n",
    "That word *four* in the previous sentence is a hint. That's how many characters the first string had. We changed the *data*, but not the *code*, but our design requires that the code be kept in sync with the data (the number of lines of code must match the number of characters in the string).\n",
    "\n",
    "This (almost) fixes it:"
   ]
  },
  {
   "cell_type": "code",
   "execution_count": 3,
   "metadata": {
    "scrolled": false
   },
   "outputs": [
    {
     "name": "stdout",
     "output_type": "stream",
     "text": [
      "火\n",
      "鳥\n",
      "が\n",
      "飛\n",
      "ん\n",
      "で\n",
      "で\n",
      "る\n"
     ]
    }
   ],
   "source": [
    "text = \"火鳥が飛んでいる\"\n",
    "\n",
    "print(text[0])\n",
    "print(text[1])\n",
    "print(text[2])\n",
    "print(text[3])\n",
    "print(text[4])\n",
    "print(text[5])\n",
    "print(text[5])\n",
    "print(text[7])"
   ]
  },
  {
   "cell_type": "markdown",
   "metadata": {},
   "source": [
    "Now we've printed eight characters, one for each character of the string.\n",
    "\n",
    "The code above still isn't correct, though. Can you spot the mistake?\n",
    "\n",
    "You can find it either (1) by inspecting the code, or (2) by comparing the *input* (the data – in this case, the value of `text`) to the *output*.\n",
    "\n",
    "It's easy to *make* this kind of mistake – I copied the code, and forgot to change a `5` to a `6`. It's difficult to *spot* it.\n",
    "\n",
    "\\[Terminology: it's easy to **inject** this category of **defect**. It's expensive to **detect** it.\\]"
   ]
  },
  {
   "cell_type": "markdown",
   "metadata": {},
   "source": [
    "### Changes to the Specification"
   ]
  },
  {
   "cell_type": "markdown",
   "metadata": {},
   "source": [
    "The original specification was:\n",
    "\n",
    "> Print all the characters of a string, one per line.\n",
    "\n",
    "The customer has changed this to:\n",
    "\n",
    "> Print all the characters of a string, one per line. Parenthesize each character.\n",
    ">\n",
    "> For example, if the string is \"飛ぶ火鳥\", the program should print `(飛)` on the first line, `(ぶ)` on the second line, and so on.\n",
    "\n",
    "\\[Aside: You'll noticed that I've supplemented the specification with an example. This is good technique for verifying that the author and reader of the specification understand it the same way. It can also reveal potential defects in the specification – if the specification and the examples don't agree, at least one of them is wrong. Specification examples are like [doctest](https://en.wikipedia.org/wiki/Doctest), for specifications – and can be used as fodder for the actual code tests.\\]\n",
    "\n",
    "Here's the code from the first cell, again:"
   ]
  },
  {
   "cell_type": "code",
   "execution_count": 1,
   "metadata": {
    "scrolled": true
   },
   "outputs": [
    {
     "name": "stdout",
     "output_type": "stream",
     "text": [
      "飛\n",
      "ぶ\n",
      "火\n",
      "鳥\n"
     ]
    }
   ],
   "source": [
    "text = \"飛ぶ火鳥\"\n",
    "\n",
    "print(text[0])\n",
    "print(text[1])\n",
    "print(text[2])\n",
    "print(text[3])"
   ]
  },
  {
   "cell_type": "markdown",
   "metadata": {},
   "source": [
    "And here I've modified the code to match the modified specification:"
   ]
  },
  {
   "cell_type": "code",
   "execution_count": 7,
   "metadata": {
    "scrolled": true
   },
   "outputs": [
    {
     "name": "stdout",
     "output_type": "stream",
     "text": [
      "(飛)\n",
      "(ぶ)\n",
      "(火)\n",
      "(鳥)\n"
     ]
    }
   ],
   "source": [
    "text = \"飛ぶ火鳥\"\n",
    "\n",
    "print('(' + text[0] + ')')\n",
    "print('(' + text[1] + ')')\n",
    "print('(' + text[2] + ')')\n",
    "print('(' + text[3] + ')')"
   ]
  },
  {
   "cell_type": "markdown",
   "metadata": {},
   "source": [
    "So – this *works* (it meets the **functional requirements**), but it's not *robust*, as we've seen above.\n",
    "\n",
    "Also, making a small change to the specification (adding the statement \"parenthesize each character\") required making a large change to the code (editing every line).\n",
    "\n",
    "Another small change to the specification (adding \"there should be a space between the parentheses and the characters, *e.g.* `( 飛 )`\") would require editing every line of the code again.\n",
    "\n",
    "\\[Terminology: the code has low **extensibility**.\\]"
   ]
  },
  {
   "cell_type": "markdown",
   "metadata": {},
   "source": [
    "## II. Specification-Shaped Code"
   ]
  },
  {
   "cell_type": "markdown",
   "metadata": {},
   "source": [
    "The advantage of the `for` statement, from [Iteration Basics](iteration-basics), is that it shapes the *lines* of code to the specification, and the *behavior* of the code to the data. (The versions above shaped the *lines* of code to the data.)\n",
    "\n",
    "### First difference: The lines of code do *not* line up against the data\n",
    "\n",
    "The behavior of the code comes from the data, but the lines of code themselves do not line up against the lines of data.\n",
    "\n",
    "This means the same lines of code can re-shape themselves to different data:"
   ]
  },
  {
   "cell_type": "code",
   "execution_count": 10,
   "metadata": {
    "scrolled": true
   },
   "outputs": [
    {
     "name": "stdout",
     "output_type": "stream",
     "text": [
      "飛\n",
      "ぶ\n",
      "火\n",
      "鳥\n"
     ]
    }
   ],
   "source": [
    "text = \"飛ぶ火鳥\"\n",
    "\n",
    "# Print all the characters of a string, one per line.\n",
    "for c in text:\n",
    "    print(c)"
   ]
  },
  {
   "cell_type": "code",
   "execution_count": 13,
   "metadata": {
    "scrolled": true
   },
   "outputs": [
    {
     "name": "stdout",
     "output_type": "stream",
     "text": [
      "火\n",
      "鳥\n",
      "が\n",
      "飛\n",
      "ん\n",
      "で\n",
      "い\n",
      "る\n"
     ]
    }
   ],
   "source": [
    "text = \"火鳥が飛んでいる\"\n",
    "\n",
    "# Print all the characters of a string, one per line.\n",
    "for c in text:\n",
    "    print(c)"
   ]
  },
  {
   "cell_type": "markdown",
   "metadata": {},
   "source": [
    "### Second difference: the implementation *does* match the specification\n",
    "\n",
    "The lines of code correspond closely to the specification:\n",
    "\n",
    ">Print all the characters of a string, one per line.\n",
    "\n",
    "\"Print\" in the specification corresponds to `print` in the code. \"all the characters of the string\" corresponds to `for c in text` in the code. It's not a *mechanical* translation, but it is relatively easy to check the code against the specification."
   ]
  },
  {
   "cell_type": "code",
   "execution_count": 17,
   "metadata": {
    "scrolled": true
   },
   "outputs": [
    {
     "name": "stdout",
     "output_type": "stream",
     "text": [
      "飛\n",
      "ぶ\n",
      "火\n",
      "鳥\n"
     ]
    }
   ],
   "source": [
    "text = \"飛ぶ火鳥\"\n",
    "\n",
    "# Print all the characters of a string, one per line.\n",
    "for c in text:\n",
    "    print(c)"
   ]
  },
  {
   "cell_type": "markdown",
   "metadata": {},
   "source": [
    "This also means that a simple (local) change to the specification requires only a local change to the implementation."
   ]
  },
  {
   "cell_type": "code",
   "execution_count": 19,
   "metadata": {
    "scrolled": true
   },
   "outputs": [
    {
     "name": "stdout",
     "output_type": "stream",
     "text": [
      "(飛)\n",
      "(ぶ)\n",
      "(火)\n",
      "(鳥)\n"
     ]
    }
   ],
   "source": [
    "text = \"飛ぶ火鳥\"\n",
    "\n",
    "# Print all the characters of a string, one per line.\n",
    "for c in text:\n",
    "    print('(' + c + ')')"
   ]
  },
  {
   "cell_type": "markdown",
   "metadata": {},
   "source": [
    "## Appendix: Trade-Offs"
   ]
  },
  {
   "cell_type": "markdown",
   "metadata": {},
   "source": [
    "The implementation that uses `for` is more **general** and more **abstract** than the implementation that uses a different line to write each character.\n",
    "\n",
    "It's more *general* because it works on a wider variety of inputs, without change.\n",
    "\n",
    "It's more *abstract* because the relationship between the data, the implementation, and the output is *less direct*. (That's what we give up by making the relationship between specification and the implementation *more* direct.) In the original implementation, a single line of code operated on a single piece of the input (a character) to produce a single piece of output (a line containing that character). In the final implementation, a single line operates on all the pieces of the input, behaving differently (printing a different character) on each piece. \n",
    "\n",
    "Generality and abstraction aren't all sunshine and roses. (\"Engineering is the navigation of trade-offs.\")\n",
    "\n",
    "1. The relation between the *lines of code* and the *output* is more abstract. Which line in the original program (at the top of this page, without the `for` statement) was responsible for printing just the second character of the string? Which line in the final code program is?\n",
    "\n",
    "2. It's more difficult to make exceptions. Consider the following specification. How would you change the original program to do this? How would you change the final program?\n",
    "\n",
    "> Print all the characters of a string, one per line. Parenthesize each character except the second.\n",
    ">\n",
    "> For example, if the string is \"飛ぶ火鳥\", the program should print (飛) on the first line, ぶ on the second line, `(火)` on the third line, and so on."
   ]
  }
 ],
 "metadata": {
  "kernelspec": {
   "display_name": "Python 3",
   "language": "python",
   "name": "python3"
  },
  "language_info": {
   "codemirror_mode": {
    "name": "ipython",
    "version": 3
   },
   "file_extension": ".py",
   "mimetype": "text/x-python",
   "name": "python",
   "nbconvert_exporter": "python",
   "pygments_lexer": "ipython3",
   "version": "3.5.2"
  }
 },
 "nbformat": 4,
 "nbformat_minor": 2
}
