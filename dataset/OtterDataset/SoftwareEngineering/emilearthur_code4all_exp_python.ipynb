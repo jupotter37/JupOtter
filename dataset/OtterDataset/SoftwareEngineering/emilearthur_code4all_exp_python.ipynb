{
 "cells": [
  {
   "cell_type": "code",
   "execution_count": 73,
   "source": [
    "from IPython.core.interactiveshell import InteractiveShell\n",
    "InteractiveShell.ast_node_interactivity = \"all\""
   ],
   "outputs": [],
   "metadata": {}
  },
  {
   "cell_type": "code",
   "execution_count": null,
   "source": [
    "!python --version"
   ],
   "outputs": [],
   "metadata": {}
  },
  {
   "cell_type": "markdown",
   "source": [],
   "metadata": {}
  },
  {
   "cell_type": "code",
   "execution_count": null,
   "source": [
    "!python -m site"
   ],
   "outputs": [],
   "metadata": {}
  },
  {
   "cell_type": "code",
   "execution_count": null,
   "source": [
    "import site\n",
    "site.getsitepackages()\n",
    "site.getusersitepackages()"
   ],
   "outputs": [],
   "metadata": {}
  },
  {
   "cell_type": "markdown",
   "source": [
    "# Python changes\n",
    "## Dictionary merge and update operators"
   ],
   "metadata": {}
  },
  {
   "cell_type": "code",
   "execution_count": null,
   "source": [
    "[1, 2, 3] + [4, 5, 6]\n",
    "(1, 2, 3) + (4, 5, 6)\n",
    "value = [1, 2, 3]\n",
    "value +=  [4, 5, 6]\n",
    "value\n",
    "value = (1, 2, 3)\n",
    "value += (4, 5, 6)\n",
    "value"
   ],
   "outputs": [],
   "metadata": {}
  },
  {
   "cell_type": "code",
   "execution_count": null,
   "source": [
    "# intersection operator\n",
    "{1, 2, 3} & {1, 4}\n",
    "\n",
    "# union operator \n",
    "{1, 2, 4} | {1, 4}\n",
    "\n",
    "# difference operator \n",
    "{1, 2, 3} - {1, 4}\n",
    "\n",
    "# symmetirc difference\n",
    "{1, 2, 3} ^ {1, 4}\n"
   ],
   "outputs": [],
   "metadata": {}
  },
  {
   "cell_type": "code",
   "execution_count": null,
   "source": [
    "# merging two dictionaries \n",
    "# i.e. dict1 | dict2\n",
    "{'a': 1} | {'a': 3, 'b': 2}\n",
    "\n",
    "mydict = {'a': 1}\n",
    "mydict |= {'a': 3, 'b': 2}\n",
    "mydict # returns error becuase its implmented in python 3.9"
   ],
   "outputs": [],
   "metadata": {}
  },
  {
   "cell_type": "code",
   "execution_count": null,
   "source": [
    "mydict = {'a': 1}\n",
    "mydict.update({'a': 3, 'b': 2})\n",
    "mydict"
   ],
   "outputs": [],
   "metadata": {}
  },
  {
   "cell_type": "code",
   "execution_count": null,
   "source": [
    "# alternative - Dict. unpacking {**dict1, **dict2}\n",
    "a = {'a': 1}\n",
    "b = {'a':3, 'b':2}\n",
    "{**a, **b}\n"
   ],
   "outputs": [],
   "metadata": {}
  },
  {
   "cell_type": "code",
   "execution_count": null,
   "source": [
    "# alternative - chainmap from collections module  new_map = ChainMap(dict2, dict1)\n",
    "from collections import ChainMap\n",
    "\n",
    "user_account = {\"iban\": \"GB71BARC20031885581746\", \"type\": \"account\"}\n",
    "user_profile = {\"display_name\": \"John Doe\", \"type\": \"profile\"}\n",
    "\n",
    "# when one key overlap ChainMap instance will return the value of leftmost mapping that has \n",
    "# the specific key\n",
    "\n",
    "user = ChainMap(user_account, user_profile) \n",
    "\n",
    "user[\"iban\"], user[\"type\"], user[\"display_name\"]\n",
    "\n",
    "# ChainMap is a wrapper object. i.e. does not copy object but store them reference.\n",
    "# this means when the object changes, them ChainMap will return modified data.\n",
    "user[\"display_name\"]\n",
    "user_profile[\"display_name\"] = \"Emile Jones\"\n",
    "user[\"display_name\"]\n",
    "\n",
    "# Also, ChainMap is writable and populates changes back to the underlying mapping.\n",
    "user_profile\n",
    "user_account\n",
    "user[\"display_name\"] = \"John Doe\"\n",
    "user[\"age\"] = 33\n",
    "user[\"type\"] = \"extension\"\n",
    "user_profile\n",
    "user_account\n",
    "\n",
    "\n",
    "dict(ChainMap(user_account, user_profile))"
   ],
   "outputs": [],
   "metadata": {}
  },
  {
   "cell_type": "markdown",
   "source": [
    "Usually, the most important reason for using ChainMap over dictionary unpacking or the union operator is backward compatibility. On Python versions older than 3.9, you won't be able to use the new dictionary merge operator syntax. So, if you have to write code for older versions of Python, use ChainMap . If you don't, it is better to use the merge operator\n"
   ],
   "metadata": {}
  },
  {
   "cell_type": "markdown",
   "source": [
    "# Assignment Expression"
   ],
   "metadata": {}
  },
  {
   "cell_type": "markdown",
   "source": [
    "### user of walrus operator (i.e. :=)"
   ],
   "metadata": {}
  },
  {
   "cell_type": "markdown",
   "source": [
    "\n",
    "``` python\n",
    "import os\n",
    "import re\n",
    "import sys\n",
    "\n",
    "import_re = re.compile(r\"^\\s*import\\s+\\.{0,2}((\\w+\\.)*(\\w+))\\s*$\")\n",
    "import_from_re = re.compile(r\"^\\s*from\\s+\\.{0,2}((\\w+\\.)*(\\w+))\\s+import\\s+(\\w+|\\*)+\\s*$\")\n",
    "\n",
    "if __name__ == \"__main__\":\n",
    "    if len(sys.argv) != 2:\n",
    "        file_ = \"__file__\"\n",
    "        print(f\"usage: {os.path.basename(file_)} file-name\")\n",
    "        sys.exit(1)\n",
    "    with open(sys.argv[1]) as file:\n",
    "        for line in file:\n",
    "            match = import_re.search(line)\n",
    "            if match:\n",
    "                print(match.groups()[0])\n",
    "            match = import_from_re.search(line)\n",
    "            if match:\n",
    "                print(match.groups()[0])\n",
    "```\n",
    "\n",
    "since there is repeation of match we can use walrus operation as\n",
    "``` python\n",
    "if match := import_re.match(line):\n",
    "    print(match.groups()[0])\n",
    "\n",
    "if match := import_from_re.match(line):\n",
    "    print(match.groups()[0])\n",
    "```\n"
   ],
   "metadata": {}
  },
  {
   "cell_type": "code",
   "execution_count": null,
   "source": [
    "first_name = \"Emile\"\n",
    "last_name = \"May\"\n",
    "height = 168\n",
    "weight = 50\n",
    "\n",
    "user = {\"first_name\": first_name,\n",
    "        \"last_name\": last_name,\n",
    "        \"display_name\" : f\"{first_name} {last_name}\",\n",
    "        \"height\": height,\n",
    "        \"weight\": weight,\n",
    "        \"bmi\": weight / (height / 100) ** 2, }\n",
    "user\n",
    "\n",
    "# using the walrus operation \n",
    "user = {\"first_name\": (first_name_ := \"Emile\"),\n",
    "        \"last_name\": (last_name_ := \"May\"),\n",
    "        \"display_name\" : f\"{first_name_} {last_name_}\",\n",
    "        \"height\": (height_ := 168),\n",
    "        \"weight\":(weight_ := 70),\n",
    "        \"bmi\": weight_ / (height_ / 100) ** 2, }\n",
    "user\n"
   ],
   "outputs": [],
   "metadata": {}
  },
  {
   "cell_type": "markdown",
   "source": [
    "### typing-hinting generics"
   ],
   "metadata": {}
  },
  {
   "cell_type": "code",
   "execution_count": null,
   "source": [
    "from typing import Any, Dict\n",
    "\n",
    "def get_ci(d: dict, key: str) -> Any:\n",
    "    for k, v in d.items():\n",
    "        if key.lower == k.lower():\n",
    "            return v\n",
    "        \n",
    "# further annotating the datatype of the dict type \n",
    "# def get_ci(d: dict[str, Any], key: str) -> Any: ... this works for python 3.9\n",
    "def get_ci(d: Dict[str, Any], key:str) -> Any:\n",
    "    for k, v in d.items():\n",
    "        if key.lower == k.lower():\n",
    "            return v\n"
   ],
   "outputs": [],
   "metadata": {}
  },
  {
   "cell_type": "markdown",
   "source": [
    "### postional-only params."
   ],
   "metadata": {}
  },
  {
   "cell_type": "code",
   "execution_count": null,
   "source": [
    "# concatentes the strings using a delimeter\n",
    "def concatenate(first: str, second: str, delim: str):\n",
    "    return delim.join([first, second])\n",
    "\n",
    "\n",
    "concatenate(\"Emile\", \"Arthur\", \" \") # position args \n",
    "concatenate(first=\"Emile\", second=\"Arthur\", delim=\" \") # keyword args\n",
    "concatenate(\"Emile\", \"Arthur\", delim=\" \") # mix of keyword and position args"
   ],
   "outputs": [],
   "metadata": {}
  },
  {
   "cell_type": "code",
   "execution_count": null,
   "source": [
    "def concatenate(first: str, /, *, second: str, delim: str):\n",
    "    return delim.join([first, second])"
   ],
   "outputs": [],
   "metadata": {}
  },
  {
   "cell_type": "markdown",
   "source": [
    "The way in which you read this definition is as follows:\n",
    "* All arguments preceding the / mark are positional-only arguments\n",
    "* All arguments following the * mark are keyword-only arguments"
   ],
   "metadata": {}
  },
  {
   "cell_type": "code",
   "execution_count": null,
   "source": [
    "concatenate(\"Emile\", second=\"Arthur\", delim=\" \") # this will run and pass\n",
    "concatenate(\"Emile\", \"Arthur\", \" \")"
   ],
   "outputs": [],
   "metadata": {}
  },
  {
   "cell_type": "markdown",
   "source": [
    "Using args unpacking in concatenate function"
   ],
   "metadata": {}
  },
  {
   "cell_type": "markdown",
   "source": [],
   "metadata": {}
  },
  {
   "cell_type": "code",
   "execution_count": null,
   "source": [
    "def concatenate(*items, delim: str):\n",
    "    return delim.join(items)\n",
    "\n",
    "concatenate(\"Emile\", \"Arthur\", delim=\" \")\n",
    "concatenate(\"Emile\", \"Frederick\", \"Emile\", delim=\" \")\n",
    "concatenate(\"Emile\", delim=\" \")\n",
    "concatenate(delim=\" \")"
   ],
   "outputs": [],
   "metadata": {}
  },
  {
   "cell_type": "markdown",
   "source": [
    "### zoneinfo module"
   ],
   "metadata": {}
  },
  {
   "cell_type": "code",
   "execution_count": null,
   "source": [
    "from datetime import datetime\n",
    "from zoneinfo import ZoneInfo\n",
    "\n",
    "dt = datetime(2020, 11, 28, tzinfo=ZoneInfo(\"Europe/Warsaw\"))\n",
    "dt"
   ],
   "outputs": [],
   "metadata": {}
  },
  {
   "cell_type": "markdown",
   "source": [
    "### graphlib\n",
    "\n",
    "module for working on graph-like data structures. A graph is a data structure consisting of nodes connected by edges. Depending on edge type, we can distinguish two main types of graphs.\n",
    "\n",
    "* An undirected graph is a graph where every edge is undirected.\n",
    "* A directed  graph is a graph where every edge is directed.\n",
    "\n",
    "* A cyclic graph is a graph that has at least one cycle -  a closed path that starts and ends at the same node.\n",
    "* Acyclic graph is a graph that does not have any cycles.\n",
    "\n",
    "Topological sorting (`TopologicalSorter` - class in graphlib module) is an operation of order nodes of Directed Acyclic Graph (DAG) in a specific way. The result of topological sorting is a list of all nodes where every nodes appears before all nodes that you can transverse to from that node\n",
    "i.e.\n",
    "\n",
    "* The first node will be the node that cannot be tranversed to from any other node.\n",
    "* Every next node will be a node from which you cannot tranverse to previous nodes.\n",
    "* The last node will be a node from which you cannot traverse to any node.\n"
   ],
   "metadata": {}
  },
  {
   "cell_type": "markdown",
   "source": [
    "Understanding use of graph;\n",
    "We have a complex operation to execute that consist of multiple dependent tasks. Eg. is a job of migrating multiple db table between two different database systems.\n",
    "\n",
    "In relational database systems, rows in tables are often cross-referenced, and the\n",
    "integrity of those references is guarded by foreign key constraints. If we would like\n",
    "to ensure that, at any given point in time, the target database is referentially integral,\n",
    "we would have to migrate our all the tables in specific order.\n",
    "\n",
    "* A `customers` table, which holds personal information pertaining to customers.\n",
    "* An `accounts` table, which holds information about user accounts, including\n",
    "their balances. A single user can have multiple accounts (for instance, personal and business accounts), and the same account cannot be accessed by multiple users.\n",
    " *A `products` table, which holds information on the products available for sale in our system.\n",
    "* An `orders` table, which holds individual orders of multiple products within a\n",
    "single account made by a single user.\n",
    "* An `order_products` table, which holds information regarding the quantities of individual products within a single order.\n"
   ],
   "metadata": {}
  },
  {
   "cell_type": "code",
   "execution_count": null,
   "source": [
    "from graphlib import TopologicalSorter\n",
    "\n",
    "table_references = {\n",
    "    \"customers\": set(),\n",
    "    \"accounts\": {\"customers\"},\n",
    "    \"products\": set(),\n",
    "    \"orders\": {\"accounts\", \"customers\"},\n",
    "    \"order_products\": {\"orders\", \"products\"},\n",
    "}\n",
    "sorter = TopologicalSorter(table_references)\n",
    "list(sorter.static_order())"
   ],
   "outputs": [],
   "metadata": {}
  },
  {
   "cell_type": "markdown",
   "source": [
    "### breakpoint() function "
   ],
   "metadata": {}
  },
  {
   "cell_type": "code",
   "execution_count": null,
   "source": [
    "# impyport pdb; pdb.set_trace()\n",
    "import ipdb\n",
    "#PYTHONBREAKPOINT=ipdb.set_trace()\n"
   ],
   "outputs": [],
   "metadata": {}
  },
  {
   "cell_type": "code",
   "execution_count": null,
   "source": [
    "import sys\n",
    "sys.setrecursionlimit(1 << 30)\n",
    "\n",
    "def crasher():\n",
    "    return crasher()\n",
    "\n",
    "# crasher()"
   ],
   "outputs": [],
   "metadata": {}
  },
  {
   "cell_type": "code",
   "execution_count": null,
   "source": [],
   "outputs": [],
   "metadata": {}
  },
  {
   "cell_type": "markdown",
   "source": [
    "### Module-level `__getattr__()` and `__dir__()` functions.\n",
    "\n",
    "Every python class can define the custom `___getattr__()` and `__dir__()` methods to customize the dynamic attributes access of objects.\n",
    "The `__getattr__()` function is invoked when a given attribute name is not found to capture a missing attribute lookup and possibly generate a value on the fly.\n",
    "\n",
    "The `__dir__()` method is called when an object is passed to the dir() function and it should return a list of object attribute names.\n"
   ],
   "metadata": {}
  },
  {
   "cell_type": "markdown",
   "source": [],
   "metadata": {}
  },
  {
   "cell_type": "code",
   "execution_count": null,
   "source": [
    "from typing import Any\n",
    "from warnings import warn\n",
    "\n",
    "def ci_lookup(d: dict[str, Any], key: str) -> Any:\n",
    "    ...\n",
    "\n",
    "def __getattr__(name: str):\n",
    "    if name == \"get_ci\":\n",
    "        warn(f\"{name} is deprecated\", DeprecationWarning)\n",
    "        return ci_lookup\n",
    "    raise AttributeError(f\"module {__name__} has no attribute {name}\")"
   ],
   "outputs": [],
   "metadata": {}
  },
  {
   "cell_type": "markdown",
   "source": [
    "### Formatting strings with f-strings"
   ],
   "metadata": {}
  },
  {
   "cell_type": "code",
   "execution_count": null,
   "source": [
    "import math \n",
    "f\"approx. value of pi: {math.pi:f}\""
   ],
   "outputs": [],
   "metadata": {}
  },
  {
   "cell_type": "code",
   "execution_count": null,
   "source": [
    "for x in range(10):\n",
    "    print(f\"10^{x} == {10**x:10d}\")"
   ],
   "outputs": [],
   "metadata": {}
  },
  {
   "cell_type": "code",
   "execution_count": null,
   "source": [],
   "outputs": [],
   "metadata": {}
  },
  {
   "cell_type": "markdown",
   "source": [
    "### secret module\n",
    "\n",
    "Used to generate random values for security context.\n",
    "The three most important functions are:\n",
    "\n",
    "* `secrets.token_bytes(nbytes=None)` : This returns nbytes of random bytes. This function is used internally by `secrets.token_hex()` and `secrets.token_urlsafe()`. If nbytes is not specified, it will return a default number of bytes, which is documented as \"reasonable.\"\n",
    "* `secrets.token_hex(nbytes=None)` : This returns nbytes of random bytes\n",
    "in the form of a hex-encoded string (not a bytes() object). As it takes two hexadecimal digits to encode one byte, the resulting string will consist of nbytes × 2 characters. If nbytes is not specified, it will return the same default number of bytes as `secrets.token_bytes()`.\n",
    "* `secrets.token_urlsafe(nbytes=None)` : This returns nbytes of random bytes\n",
    "in the form of a URL-safe, base64-encoded string. As a single byte takes\n",
    "approximately 1.3 characters in base64 encoding, the resulting string will\n",
    "consist of nbytes × 1.3 characters. If nbytes is not specified, it will return the\n",
    "same default number of bytes as `secrets.token_bytes()`."
   ],
   "metadata": {}
  },
  {
   "cell_type": "code",
   "execution_count": null,
   "source": [
    "import secrets\n",
    "\n",
    "secrets.token_bytes(nbytes=None)\n",
    "secrets.token_hex(nbytes=None)\n",
    "secrets.token_urlsafe(nbytes=None)"
   ],
   "outputs": [],
   "metadata": {}
  },
  {
   "cell_type": "code",
   "execution_count": null,
   "source": [
    "a = secrets.token_urlsafe(nbytes=None)\n",
    "b = c = secrets.token_urlsafe(nbytes=None)\n",
    "secrets.compare_digest(a, b) # compare two string \n",
    "secrets.compare_digest(b, c)"
   ],
   "outputs": [],
   "metadata": {}
  },
  {
   "cell_type": "markdown",
   "source": [
    "### Union types with the | operator"
   ],
   "metadata": {}
  },
  {
   "cell_type": "code",
   "execution_count": null,
   "source": [
    "# redefining the get_ci function to get bytes as inputs\n",
    "\n",
    "from typing import Union, Any\n",
    "\n",
    "def get_ci(d: dict[Union[str, bytes], Any], key: Union[str, bytes]) -> Any:\n",
    "    ...\n",
    "\n",
    "\n",
    "# we can rewrite the function above as \n",
    "# def get_ci(d: dict[str | bytes, Any], key: str | bytes) -> Any:  # Works on python 3.10\n",
    "#     ..."
   ],
   "outputs": [],
   "metadata": {}
  },
  {
   "cell_type": "code",
   "execution_count": null,
   "source": [],
   "outputs": [],
   "metadata": {}
  },
  {
   "cell_type": "markdown",
   "source": [
    "### Structural pattern matching"
   ],
   "metadata": {}
  },
  {
   "cell_type": "code",
   "execution_count": null,
   "source": [
    "# working on python 3.10\n",
    "# class Point:\n",
    "#     x: int\n",
    "#     y: int\n",
    "\n",
    "#     def __init__(self, x: int, y: int) -> None:\n",
    "#         self.x = x\n",
    "#         self.y = y\n",
    "\n",
    "#     def where_is(point):\n",
    "#         match point:\n",
    "#             case Point(x=0, y=0):\n",
    "#                 print(\"Origin\")\n",
    "#             case Point(x=0, y=y):\n",
    "#                 print(f\"Y={y}\")\n",
    "#             case Point(x=x, y=0):\n",
    "#                 print(f\"X={x}\")\n",
    "#             case Point():\n",
    "#                 print(\"Somewhere else\")\n",
    "#             case _:\n",
    "#                 print(\"Not a point\")\n",
    "\n",
    "\n",
    "# class Point:\n",
    "#     x: int\n",
    "#     y: int\n",
    "# __match_args__ = [\"x\", \"y\"]\n",
    "\n",
    "# def __init__(self, x, y):\n",
    "#     self.x = x\n",
    "#     self.y = y\n",
    "\n",
    "# def where_is(point):\n",
    "#     match point:\n",
    "#         case Point(0, 0):\n",
    "#             print(\"Origin\")\n",
    "#         case Point(0, y):\n",
    "#             print(f\"Y={y}\")\n",
    "#         case Point(x, 0):\n",
    "#             print(f\"X={x}\")\n",
    "#         case Point():\n",
    "#             print(\"Somewhere else\")\n",
    "#         case _:\n",
    "#             print(\"Not a point\")"
   ],
   "outputs": [],
   "metadata": {}
  },
  {
   "cell_type": "code",
   "execution_count": null,
   "source": [],
   "outputs": [],
   "metadata": {}
  },
  {
   "cell_type": "markdown",
   "source": [
    "### Accessing super-classes\n",
    "\n",
    "Subclassing is a convenient way of reusing existing classes by enhancing or specializing their behaviour. Subclass often rely on the behavior of their base classes but extend them with additional methods or provide completely new implementations for existing methods by overriding their definition.\n",
    "Overriding methods without access to thier original implementations within the subclass would not facilitaet code resuse at all. This reuslts to python use of the `super()` function, which return as proxy object to the method implementation in all base classes.\n"
   ],
   "metadata": {}
  },
  {
   "cell_type": "code",
   "execution_count": null,
   "source": [
    "from collections import UserDict\n",
    "from typing import Any\n",
    "\n",
    "class CaseInsensitiveDict(UserDict):\n",
    "    # allows access to store keys thorugh case-sentive key lookup \n",
    "    def __setitem__(self, key: str, value: Any) -> None:\n",
    "        return super().__setitem__(key.lower(), value)\n",
    "\n",
    "    def __getitem__(self, key: str) -> Any:\n",
    "        return super().__getitem__(key.lower())\n",
    "\n",
    "    def __delitem__(self, key: str) -> None:\n",
    "        return super().__delitem__(key.lower())"
   ],
   "outputs": [],
   "metadata": {}
  },
  {
   "cell_type": "markdown",
   "source": [
    "Notes -> Code Above\n",
    "\n",
    "\n",
    "Our implementation of CaseInsensitiveDict relies on `collections.UserDict` instead of the built-in `dict` type. Although inheriting from the dict type is possible, we would quickly run into inconsistencies as the built-in dict type doesn't always call `__setitem__()` to update its state. Most importantly, it won't be used on object initialization and on `update()` method calls. Similar problems can arise when subclassing the list type. That's why good practice dictates to use collections. `UserDict` classes for subclassing the dict type and `collections.UserList` for\n",
    "subclassing the list type.\n",
    "\n",
    "`__setitem__()` is responsible for storing and modifying dictionary values. It would\n",
    "not make sense to subclass the base dictionary type and not leverage its internal key-value storage. That's why we use `super().__setitem__()` to invoke the original set-item implementation. But before we allow the value to be stored, we transform the\n",
    "key to lowercase using the `str.lower()` method. That way we ensure that all keys\n",
    "stored in the dictionary will always be lowercase.\n",
    "\n",
    "The `__getitem__()` method is analogous to the `__setitem__()` implementation. We\n",
    "know that every key is transformed to lowercase before being stored in a dictionary.\n",
    "Thanks to this, when key lookup occurs, we can also transform it to lowercase as\n",
    "well. If the super implementation of the `__getitem__()` method does not return the\n",
    "result, we can be sure that there is no case-insensitive match in the dictionary.\n",
    "\n",
    "Last but not least, the `__delitem__()` method deletes existing dictionary keys. It\n",
    "uses the same technique to transform a key to lowercase and invoke super-class\n",
    "implementation. Thanks to this, we will be able to remove dictionary keys using the\n",
    "`del dictionary[key]` statement.\n"
   ],
   "metadata": {}
  },
  {
   "cell_type": "code",
   "execution_count": null,
   "source": [
    "headers = CaseInsensitiveDict({\n",
    "    \"Content-Length\":  30,\n",
    "    \"Content-Type\": \"application/json\",\n",
    "})\n",
    "\n",
    "headers[\"Content-Length\"]\n",
    "headers[\"Content-Type\"]"
   ],
   "outputs": [],
   "metadata": {}
  },
  {
   "cell_type": "markdown",
   "source": [],
   "metadata": {}
  },
  {
   "cell_type": "markdown",
   "source": [
    "### Multiple inheritance and Method Resolution Order\n",
    "\n",
    "Python MRO is based on C3 linearization, the deterministic MRO algorithm\n",
    "originally created for the Dylan programming language. The C3 algorithm builds\n",
    "the linearization of a class, also called precedence, which is an ordered list of the\n",
    "ancestors. This list is used to seek an attribute in a class inheritance tree.\n"
   ],
   "metadata": {}
  },
  {
   "cell_type": "code",
   "execution_count": null,
   "source": [
    "class Base1:\n",
    "    pass \n",
    "\n",
    "class Base2:\n",
    "    def method(self):\n",
    "        print(\"Base2.method() called\")\n",
    "\n",
    "class NewClass(Base1, Base2):\n",
    "    pass"
   ],
   "outputs": [],
   "metadata": {}
  },
  {
   "cell_type": "code",
   "execution_count": null,
   "source": [
    "class CommonBase:\n",
    "    pass\n",
    "\n",
    "class Base1(CommonBase):\n",
    "    pass \n",
    "\n",
    "class Base2(CommonBase):\n",
    "    def method(self):\n",
    "        print(\"Base2.method() called\")\n",
    "\n",
    "class NewClass(Base1, Base2):\n",
    "    pass"
   ],
   "outputs": [],
   "metadata": {}
  },
  {
   "cell_type": "code",
   "execution_count": null,
   "source": [
    "NewClass.__mro__"
   ],
   "outputs": [],
   "metadata": {}
  },
  {
   "cell_type": "code",
   "execution_count": null,
   "source": [],
   "outputs": [],
   "metadata": {}
  },
  {
   "cell_type": "markdown",
   "source": [
    "### Class instance initilization\n",
    "\n",
    "An object in OOP is an entity that encapsulates data together with behavior. Python, data is contained as object attributes, which are simply object variables.\n",
    "Behavior, on the other hand, is represented by methods. Python classes do not require\n",
    "you to define attributes in the class body.\n",
    "\n",
    "A variable comes into existence at the time\n",
    "it is initialized. That's why the canonical way to declare object attributes is through\n",
    "assigning their values during object initialization in the `__init__()` method.\n"
   ],
   "metadata": {}
  },
  {
   "cell_type": "code",
   "execution_count": null,
   "source": [
    "class Point:\n",
    "    def __init__(self, x:int, y:int) -> None:\n",
    "        self.x = x \n",
    "        self.y = y"
   ],
   "outputs": [],
   "metadata": {}
  },
  {
   "cell_type": "code",
   "execution_count": null,
   "source": [
    "from typing import List, Any\n",
    "class Aggregator:\n",
    "    all_aggregated: List[Any]\n",
    "    last_aggregated: Any\n",
    "\n",
    "    def __init__(self) -> None:\n",
    "        self.all_aggregated = []\n",
    "        self.last_aggregated = None\n",
    "\n",
    "    def aggregate(self, value):\n",
    "        self.last_aggregated = value\n",
    "        self.all_aggregated.append(value)"
   ],
   "outputs": [],
   "metadata": {}
  },
  {
   "cell_type": "code",
   "execution_count": null,
   "source": [],
   "outputs": [],
   "metadata": {}
  },
  {
   "cell_type": "markdown",
   "source": [
    "### Attribute access patterns"
   ],
   "metadata": {}
  },
  {
   "cell_type": "code",
   "execution_count": null,
   "source": [
    "class NewClass:\n",
    "    def __init__(self) -> None:\n",
    "        self.__secret_value = 1"
   ],
   "outputs": [],
   "metadata": {}
  },
  {
   "cell_type": "code",
   "execution_count": null,
   "source": [
    "instance_of = NewClass()\n",
    "instance_of.__secret_value"
   ],
   "outputs": [],
   "metadata": {}
  },
  {
   "cell_type": "code",
   "execution_count": null,
   "source": [
    "instance_of._NewClass__secret_value\n",
    "\n",
    "instance_of._NewClass__secret_value = 2\n",
    "\n",
    "instance_of._NewClass__secret_value"
   ],
   "outputs": [],
   "metadata": {}
  },
  {
   "cell_type": "code",
   "execution_count": null,
   "source": [],
   "outputs": [],
   "metadata": {}
  },
  {
   "cell_type": "markdown",
   "source": [
    "### Descriptors\n",
    "\n",
    "A descriptor lets you customize what should be done when you refer to an attribute\n",
    "of an object. Descriptors are the basis of complex attribute access in Python. They are\n",
    "used internally to implement properties, methods, class methods, static methods,\n",
    "and super . They are objects that define how attributes of another class can be\n",
    "accessed. In other words, a class can delegate the management of an attribute to\n",
    "another class.\n",
    "\n",
    "The descriptor classes are based no three special methods that form the descriptor protocol;\n",
    "\n",
    "* `__set__(self, obj, value)`: This is called whenever the attribute is set. `setter`\n",
    "* `__get__(self, obj, owner=None)`: This is called whenever the attribute is read. `getter`\n",
    "* `__delete__(self, obj)`: This is called when del is invoked on the attribute.\n",
    "\n",
    "descriptor that implements `__get__()` and `__set__()` ==> data descriptor.\n",
    "\n",
    "if implements only `__get__()` ==> non-data descriptor.\n",
    "Method of descriptor protocol ==> called by object's special   `__getattribute__()` method on every attribute lookup.\n",
    "\n",
    "Whenever such a lookup is performed, either by using a dotted notation in the form of instance.attribute or by using the `getattr(instance, 'attribute')` function call, the `__getattribute__()`\n",
    "method is implicitly invoked and it looks for an attribute in the following order:\n",
    "\n",
    "1. It verifies whether the attribute is a data descriptor on the class object of the instance\n",
    "2. If not, it looks to see whether the attribute can be found in the `__dict__` lookup of the instance object\n",
    "3. Finally, it looks to see whether the attribute is a non-data descriptor on the\n",
    "class object of the instance\n",
    "\n",
    "In other words, data descriptors take precedence over the `__dict__` lookup, and the `__dict__` lookup takes precedence over non-data descriptors.\n"
   ],
   "metadata": {}
  },
  {
   "cell_type": "code",
   "execution_count": null,
   "source": [
    "class RevealAccess(object):\n",
    "    \"\"\"A data descriptor that sets and return values normally and prints a\n",
    "       message logging their accesss. \n",
    "\n",
    "    Args:\n",
    "        object ([type]): [description]\n",
    "    \"\"\"\n",
    "\n",
    "    def __init__(self, initval=None, name='var') -> None:\n",
    "        self.val = initval\n",
    "        self.name = name\n",
    "\n",
    "    def __get__(self, obj, objtype):\n",
    "        print(\"Retrieving\", self.name)\n",
    "        return self.val\n",
    "\n",
    "    def __set__(self, obj, val):\n",
    "        print('Updating', self.name)\n",
    "        self.val = val\n",
    "\n",
    "    def __delete__(self, obj):\n",
    "        print('Deleting', self.name)\n",
    "        \n",
    "\n",
    "class NewClass(object):\n",
    "    x = RevealAccess(10, 'var \"x\"')\n",
    "    y = 5\n",
    "\n",
    "xp = NewClass()\n",
    "\n",
    "xp.x\n",
    "xp.y"
   ],
   "outputs": [],
   "metadata": {}
  },
  {
   "cell_type": "code",
   "execution_count": null,
   "source": [
    "m = NewClass()\n",
    "m.x\n",
    "m.y\n",
    "m.x = 15\n",
    "m.x\n",
    "\n",
    "del m.x"
   ],
   "outputs": [],
   "metadata": {}
  },
  {
   "cell_type": "markdown",
   "source": [
    "Descriptors also power the mechniasm behind the classmethod and staticmethod decorators. This is becuase function objects are non-data descriptors too."
   ],
   "metadata": {}
  },
  {
   "cell_type": "code",
   "execution_count": null,
   "source": [
    "def function(): pass\n",
    "\n",
    "hasattr(function, '__get__')\n",
    "hasattr(function, '__set__')"
   ],
   "outputs": [],
   "metadata": {}
  },
  {
   "cell_type": "code",
   "execution_count": null,
   "source": [
    "# lazily evaluated attributes\n",
    "\n",
    "class InitOnAccess:\n",
    "    def __init__(self, init_func, *args, **kwargs):\n",
    "        self.klass = init_func\n",
    "        self.args = args \n",
    "        self.kwargs = kwargs\n",
    "        self._initialized = None\n",
    "\n",
    "    def __get__(self, instance, owner):\n",
    "        if self._initialized is None:\n",
    "            print(\"initialized!\")\n",
    "            self._initialized = self.klass(*self.args, **self.kwargs)\n",
    "        else:\n",
    "            print('cached!')\n",
    "        return self._initialized\n",
    "\n",
    "\n",
    "import random\n",
    "\n",
    "class WithSortedRandoms:\n",
    "    lazily_initialized = InitOnAccess(sorted, [random.random() for _ in range(5)])\n",
    "\n",
    "\n",
    "m = WithSortedRandoms()\n",
    "m.lazily_initialized"
   ],
   "outputs": [],
   "metadata": {}
  },
  {
   "cell_type": "code",
   "execution_count": null,
   "source": [
    "m.lazily_initialized"
   ],
   "outputs": [],
   "metadata": {}
  },
  {
   "cell_type": "code",
   "execution_count": null,
   "source": [
    "class lazy_property(object):\n",
    "    def __init__(self, function):\n",
    "        self.fget = function\n",
    "\n",
    "    def __get__(self, obj, cls):\n",
    "        value = self.fget(obj)  ## setter is on obj. thus new object will be created when code runs\n",
    "        setattr(obj, self.fget.__name__, value)\n",
    "        return value\n",
    "\n",
    "class WithSoretedRandoms:\n",
    "    @lazy_property\n",
    "    def lazily_initialized(self):\n",
    "        return sorted([[random.random() for _ in range(5)]])"
   ],
   "outputs": [],
   "metadata": {}
  },
  {
   "cell_type": "code",
   "execution_count": null,
   "source": [
    "# here everytime you run method a new values are initialized.\n",
    "WithSoretedRandoms().lazily_initialized\n",
    "WithSoretedRandoms().lazily_initialized"
   ],
   "outputs": [],
   "metadata": {}
  },
  {
   "cell_type": "code",
   "execution_count": null,
   "source": [
    "\n",
    "class lazy_class_attribute(object):\n",
    "    def __init__(self, function) -> None:\n",
    "        self.fget = function\n",
    "\n",
    "    def __get__(self, obj, cls):\n",
    "        value = self.fget(cls)      #get is on class thus same object will be returned when class is called.\n",
    "        setattr(cls, self.fget.__name__, value)\n",
    "        return value\n",
    "\n",
    "\n",
    "class MyComplexClass:\n",
    "    @lazy_class_attribute\n",
    "    def evaluated_only_once(self):\n",
    "        print(\"Evaluation of a method!\")\n",
    "        return sum(x ** 2 for x in range(200))\n",
    "\n",
    "\n",
    "MyComplexClass().evaluated_only_once\n",
    "MyComplexClass().evaluated_only_once"
   ],
   "outputs": [],
   "metadata": {}
  },
  {
   "cell_type": "code",
   "execution_count": null,
   "source": [
    "class WithSoretedRandoms_:\n",
    "    @lazy_class_attribute\n",
    "    def lazily_initialized(self):\n",
    "        return sorted([[random.random() for _ in range(5)]])\n",
    "\n",
    "WithSoretedRandoms_().lazily_initialized\n",
    "WithSoretedRandoms_().lazily_initialized"
   ],
   "outputs": [],
   "metadata": {}
  },
  {
   "cell_type": "markdown",
   "source": [
    "### Properties\n",
    "\n",
    "In a fully encapsulated class, as few methods as possible should be exposed to public. Any write and read access to an object's state should be exposed through setter and getter methods that are able to guard proper usage.\n",
    "Example below is an encapsulated UserAccount class that does not use the feature of properties.\n"
   ],
   "metadata": {}
  },
  {
   "cell_type": "code",
   "execution_count": null,
   "source": [
    "class UserAccount:\n",
    "    \"\"\"Similar code that a C++ or java programmer could write.\n",
    "    \"\"\"\n",
    "    def __init__(self, username: str, password: str):\n",
    "        self._username = username\n",
    "        self._password = password\n",
    "\n",
    "    def get_username(self):\n",
    "        return self._username\n",
    "\n",
    "    def set_username(self, username: str):\n",
    "        self._username = username\n",
    "\n",
    "    def get_password(self):\n",
    "        return self._password\n",
    "\n",
    "    def set_password(self, password: str):\n",
    "        self._password = password"
   ],
   "outputs": [],
   "metadata": {}
  },
  {
   "cell_type": "code",
   "execution_count": null,
   "source": [
    "class UserAccount:\n",
    "    \"\"\"In a pythonic way, we can hide a specific field behind a property.\n",
    "    \"\"\"\n",
    "    def __init__(self, username: str, password: str):\n",
    "        self._username = username \n",
    "        self._password =  password\n",
    "\n",
    "    # def get_username(self):\n",
    "    #     return self.username\n",
    "    \n",
    "    # def set_username(self, value: str):\n",
    "    #     self.username = value\n",
    "    @property\n",
    "    def username(self):\n",
    "        return self._username\n",
    "    \n",
    "    @username.setter\n",
    "    def username(self, value: str):\n",
    "        self._username = value\n",
    "\n",
    "    @property\n",
    "    def password(self):\n",
    "        return self._password\n",
    "\n",
    "    @password.setter\n",
    "    def password(self, value: str):\n",
    "        self._password = value"
   ],
   "outputs": [],
   "metadata": {}
  },
  {
   "cell_type": "code",
   "execution_count": null,
   "source": [
    "x = UserAccount(username=\"Emile\", password=\"kkk\")"
   ],
   "outputs": [],
   "metadata": {}
  },
  {
   "cell_type": "code",
   "execution_count": null,
   "source": [
    "x.password, x.username = \"may\", \"Kindg\"\n",
    "x.password, x.username"
   ],
   "outputs": [],
   "metadata": {}
  },
  {
   "cell_type": "code",
   "execution_count": null,
   "source": [
    "from typing import Union\n",
    "\n",
    "class Rectangle:\n",
    "    def __init__(self, x1: Union[int, float], y1: Union[int, float], x2: Union[int, float], y2: Union[int, float]) -> None:\n",
    "        self.x1, self.y1 = x1, y1\n",
    "        self.x2, self.y2 = x2, y2\n",
    "\n",
    "    def _width_get(self) -> Union[int, float]:\n",
    "        return self.x2 - self.x1\n",
    "\n",
    "    def _width_set(self, value: Union[int, float]) -> None:\n",
    "        self.x2 = self.x1 + value\n",
    "\n",
    "    def _height_get(self) -> Union[int, float]:\n",
    "        return self.y2 - self.y1\n",
    "\n",
    "    def _height_set(self, value: Union[int, float]) -> None:\n",
    "        self.y2 = self.y1 + value\n",
    "\n",
    "    width = property(_width_get, _width_set, doc=\"rectangle width measured from left\")\n",
    "    height = property(_height_get, _height_set, doc=\"rectangle height measured from top\")\n",
    "\n",
    "    def __repr__(self):\n",
    "        return \"{}({}, {}, {}, {})\".format(self.__class__.__name__, self.x1, self.y1, self.x2, self.y2)\n",
    "\n",
    "\n",
    "rectangle = Rectangle(10, 10, 25, 34)\n",
    "rectangle.width, rectangle.height\n",
    "\n",
    "rectangle.width = 100\n",
    "rectangle\n",
    "\n",
    "rectangle.height = 100\n",
    "rectangle\n",
    "\n",
    "help(Rectangle)"
   ],
   "outputs": [],
   "metadata": {}
  },
  {
   "cell_type": "code",
   "execution_count": null,
   "source": [
    "class MetricRectangle(Rectangle):\n",
    "    def _width_get(self) -> str:\n",
    "        \"\"\"Overriding the _width_get class. But this will not work\"\"\"\n",
    "        return f\"{self.x2 - self.x1} meters\"\n",
    "\n",
    "\n",
    "MetricRectangle(0, 0, 100, 100).width"
   ],
   "outputs": [],
   "metadata": {}
  },
  {
   "cell_type": "code",
   "execution_count": null,
   "source": [
    "class MetricRectangle(Rectangle):\n",
    "    def _width_get(self) -> str:\n",
    "        return f\"{self.x2 - self.x1} meters\"\n",
    "    \n",
    "    \"\"\"Overriding the derived class.\"\"\"\n",
    "    width = property(_width_get, Rectangle.width.fset)\n",
    "\n",
    "\n",
    "MetricRectangle(0, 0, 100, 100).width"
   ],
   "outputs": [],
   "metadata": {}
  },
  {
   "cell_type": "code",
   "execution_count": null,
   "source": [
    "# Making the code more readable and maintainable\n",
    "class Rectangle_:\n",
    "    def __init__(self, x1: Union[int, float], y1: Union[int, float], x2: Union[int, float], y2: Union[int, float]) -> None:\n",
    "        self.x1, self.y1 = x1, y1\n",
    "        self.x2, self.y2 = x2, y2\n",
    "\n",
    "    @property\n",
    "    def width(self) -> Union[int, float]:\n",
    "        \"\"\"Rectangle width measured from left.\"\"\"\n",
    "        return self.x2 - self.x1\n",
    "\n",
    "    @width.setter\n",
    "    def width(self, value: Union[int, float]):\n",
    "        self.x2 = self.x1 + value\n",
    "\n",
    "    @property\n",
    "    def height(self):\n",
    "        \"\"\"Rectangle height measured from top.\"\"\"\n",
    "        return self.y2 - self.y1\n",
    "\n",
    "    @height.setter\n",
    "    def height(self, value: Union[int, float]):\n",
    "        self.y2 = self.y1 + value\n",
    "\n",
    "\n",
    "rectangle = Rectangle(10, 10, 25, 34)\n",
    "rectangle.width, rectangle.height\n",
    "\n",
    "rectangle.width = 100\n",
    "rectangle\n",
    "\n",
    "rectangle.height = 100\n",
    "rectangle\n",
    "\n",
    "help(Rectangle)"
   ],
   "outputs": [],
   "metadata": {}
  },
  {
   "cell_type": "code",
   "execution_count": null,
   "source": [
    "class MetricRectangle(Rectangle_):\n",
    "    def _width_get(self) -> str:\n",
    "        return f\"{self.x2 - self.x1} meters\"\n",
    "    \n",
    "    \"\"\"Overriding the derived class.\"\"\"\n",
    "    width = property(_width_get, Rectangle_.width.fset)\n",
    "\n",
    "\n",
    "MetricRectangle(0, 0, 100, 100).width"
   ],
   "outputs": [],
   "metadata": {}
  },
  {
   "cell_type": "code",
   "execution_count": null,
   "source": [],
   "outputs": [],
   "metadata": {}
  },
  {
   "cell_type": "markdown",
   "source": [
    "### Dynamic polymorphism\n",
    "\n",
    "Polymorphism abstracts the interface of an object from its type. For statically types language polymorphism is achived through:\n",
    "\n",
    "* Subtyping: Subtypes of type A can be used in every interface that expects type A. Interfaces are defined explicity and subtypes/subclass inherit interfaces of their parents.\n",
    "* Implicit interfaces: Every type can be used in the interface that expects an interface of type A as long as it implements the same methods (has the interface) as type A. The declarations of interfaces are still defined explicitly but subclass/subtypes don't have to explicitly inherit from the base classes/types that define an interface.\n",
    "\n",
    "Python is a dynamically typed lang., so uses duck typing (i.e. if it walks like a duck and it quacks like a duck, then it must be a duck.)\n"
   ],
   "metadata": {}
  },
  {
   "cell_type": "code",
   "execution_count": null,
   "source": [
    "def printfile(file):\n",
    "    try:\n",
    "        contents = file.read()\n",
    "        print(file)\n",
    "    finally:\n",
    "        file.close()"
   ],
   "outputs": [],
   "metadata": {}
  },
  {
   "cell_type": "markdown",
   "source": [
    "The code above notes:\n",
    "\n",
    "From the signature of the printfile() function, we can already guess that it expects a file or a file-like object (like StringIO from the io module). But the truth is this function will consume any object without raising an unexpected exception if we are able to ensure for the input argument that:\n",
    "\n",
    "* The file argument has a read() method\n",
    "* The result of file.read() is a valid argument to the print() function\n",
    "* The file argument has the close() method\n"
   ],
   "metadata": {}
  },
  {
   "cell_type": "code",
   "execution_count": null,
   "source": [],
   "outputs": [],
   "metadata": {}
  },
  {
   "cell_type": "markdown",
   "source": [
    "### Operator overloading\n",
    "\n",
    "Operator overloading is a specific type of polymorphism that allows the language to have different implementations of specifi operators depending on the types of opernads.\n",
    "Operator in prog. lang. are already polymorphic. Consider the following expersion tha would be valid in python operation.\n",
    "```\n",
    "7 * 6\n",
    "3.14 * 2\n",
    "[\"a\", \"b\"] * 2\n",
    "```"
   ],
   "metadata": {}
  },
  {
   "cell_type": "markdown",
   "source": [
    "### Dunder methods (language protocols)\n",
    "\n",
    "The Python data model specifies a lot of specially named methods tha can be overridden in your custom classes to provide them with additional syntax capabilities. You can recognize these methods by their specific naming conventions that wrap the method name with double underscores. They are referred as dunder methods. The most common dunder methods is `__init__()`, which is used for classs initailization.\n",
    "\n",
    "Protocol language:\n",
    "\n",
    "Callable protocol => `__call__()` => allows objects to be called with parenthese: `instance()`\n",
    "\n",
    "Desciptor protocol => `__set__()`,`__get__()`, `__del__()` => allows us to manipulate the attributes access of pattern of classes.\n",
    "\n",
    "Container protocol => `__contains__()` => allows us to test wether or not an object contains some values using the in keyword. `value in instance()`\n",
    "\n",
    "Iterable protocol => `__iter__()` => allows objects to be iterated using the for keyword. `for value in instance`\n",
    "\n",
    "Sequence protocol => `__getitem__()`, `__len_()` => allow objects to be indexed with square bracket syntax and queried for length using built-in function: `item = instance[index], lenght = len(instance)`\n"
   ],
   "metadata": {}
  },
  {
   "cell_type": "code",
   "execution_count": null,
   "source": [
    "class Matrix:\n",
    "    def __init__(self, rows) -> None:\n",
    "        \"\"\"Accepts lis tof matrix rows as inputs args. through args. unpacking. As every row\n",
    "        needs  to have the same number of columns, we iterate over them and verify each have the \n",
    "        same length.\"\"\"\n",
    "        if len(set(len(row) for row in rows)) > 1:\n",
    "            raise ValueError(\"All matrix rows must be the same length\")\n",
    "\n",
    "        self.rows = rows\n",
    "\n",
    "    def __add__(self, other):\n",
    "        if (len(self.rows)  != len(other.rows) or len(self.rows[0]) != len(other.rows[0])):\n",
    "            raise ValueError(\"Matrix dimensions don't match\")\n",
    "        return Matrix([[a + b for a, b in zip(a_row, b_row)] for a_row, b_row in zip(self.rows, other.rows)])\n",
    "\n",
    "    def __sub__(self, other):\n",
    "        if (len(self.rows)  != len(other.rows) or len(self.rows[0]) != len(other.rows[0])):\n",
    "            raise ValueError(\"Matrix dimensions don't match\")\n",
    "        return Matrix([[a - b for a, b in zip(a_row, b_row)] for a_row, b_row in zip(self.rows, other.rows)])\n",
    "\n",
    "    def __mul__(self, other):\n",
    "        if isinstance(other, Matrix):\n",
    "            if len(self.rows[0]) != len(other.rows):\n",
    "                raise ValueError(\"Matrix dimensions don't match\")\n",
    "\n",
    "            rows = [[0 for _ in other.rows[0]] for _ in self.rows]\n",
    "            \n",
    "            for i in range(len(self.rows)):\n",
    "                for j in range(len(other.rows[0])):\n",
    "                    for k in range(len(other.rows)):\n",
    "                        rows[i][j] += self.rows[i][k] * other.rows[k][j]\n",
    "            return Matrix(rows)\n",
    "        elif isinstance(other, int):\n",
    "            rows = [[item * other for item in row] for row in self.rows]\n",
    "            return Matrix(rows)\n",
    "    \n",
    "        else:\n",
    "            raise TypeError(f\"Don't know how to multiply {type(other)} with Matrix\")\n",
    "\n",
    "    def __rmul__(self, other):\n",
    "        if isinstance(other, Matrix):\n",
    "            if len(self.rows[0]) != len(other.rows):\n",
    "                raise ValueError(\"Matrix dimensions don't match\")\n",
    "\n",
    "            rows = [[0 for _ in other.rows[0]] for _ in self.rows]\n",
    "            \n",
    "            for i in range(len(self.rows)):\n",
    "                for j in range(len(other.rows[0])):\n",
    "                    for k in range(len(other.rows)):\n",
    "                        rows[i][j] += self.rows[i][k] * other.rows[k][j]\n",
    "            return Matrix(rows)\n",
    "        elif isinstance(other, int):\n",
    "            rows = [[item * other for item in row] for row in self.rows]\n",
    "            return Matrix(rows)\n",
    "    \n",
    "        else:\n",
    "            raise TypeError(f\"Don't know how to multiply {type(other)} with Matrix\")"
   ],
   "outputs": [],
   "metadata": {}
  },
  {
   "cell_type": "code",
   "execution_count": null,
   "source": [
    "x = Matrix([[1,2,4],[5,6,7]])\n",
    "y = Matrix([[1,2,4],[5,6,7], [2,5,6]])"
   ],
   "outputs": [],
   "metadata": {}
  },
  {
   "cell_type": "code",
   "execution_count": null,
   "source": [
    "(x*y).rows"
   ],
   "outputs": [],
   "metadata": {}
  },
  {
   "cell_type": "code",
   "execution_count": null,
   "source": [
    "(Matrix([[1,2,4],[5,6,7]])*5).rows\n"
   ],
   "outputs": [],
   "metadata": {}
  },
  {
   "cell_type": "code",
   "execution_count": null,
   "source": [
    "(5*Matrix([[1,2,4],[5,6,7]])).rows"
   ],
   "outputs": [],
   "metadata": {}
  },
  {
   "cell_type": "code",
   "execution_count": null,
   "source": [],
   "outputs": [],
   "metadata": {}
  },
  {
   "cell_type": "markdown",
   "source": [
    "### Function and method overloading\n",
    "\n",
    "Overloading allows you to have multiple implementations of a single function by using different call signatures. Either the language's complier or interpretor is able to select mathcing implementation based on the set of function calls args provided. Function overloading is usually resolved based on:\n",
    "\n",
    "* Function arity (number of parameters): two func. definitions can share a function name if thier signatures expect a different number of params.\n",
    "* Types of parameers: Two function can share a function name if their signatures expect different types of params.\n",
    "\n",
    "Python lacks an overloading mechanism for func. and methods other than operator overlaoding. If you define multiple functions in a single module that share the same name, the latter definition will always shadow all previous definitions.\n",
    "\n",
    "Python provides several alternatives:\n",
    "\n",
    "* Using methods and/or subclassing: instead of relying on a function to distinguish the parameter type, you can bind it to a specifi type by defining it as a method of that type. -- For this kind of solution, pushing functions implementation directly to class definitions as methods will not make any sense if said method doesnt constitute unique object behavior.\n",
    "* Using arg and keyword arg unpacking: Python allow for some flexibility regarding func signature to support variable number of args via `*args` and `**kwargs` patterns. -- This kind of solution is hard to maintain and args unpacking can make function signatures vague.\n",
    "* Using type checking: The `isinstance()` func allows us to test input args against specific types of base classes to decide how to handle them. -- THis method is the most reliable one.\n"
   ],
   "metadata": {}
  },
  {
   "cell_type": "code",
   "execution_count": null,
   "source": [],
   "outputs": [],
   "metadata": {}
  },
  {
   "cell_type": "markdown",
   "source": [
    "### Single-dispatch functions\n",
    "\n",
    "In situation when an alternative to function overling is requrired and the number of alternative function implementations is really large, using multiple `if isintance(...)` clause get out of hands.\n",
    "good design pratice dictates writing a small, sinlge-purpose function. One large function that branches over serveral types to handle inputs args differently is rarely a good design.\n",
    "Python's `functools.singledispatch()` decorator allows to register multiple implementations of a function.\n",
    "\n",
    "Those implementations can take any number of arguments but implementations will be dispatched depending on the type of the first argument. Single dispatch starts with a definition of a function that will be used by default for any non-registered type. Let's assume that we need a function that can output various variables in human-readable format for the purpose of a larger report being displayed in the console output.\n"
   ],
   "metadata": {}
  },
  {
   "cell_type": "code",
   "execution_count": null,
   "source": [
    "from functools import singledispatch\n",
    "\n",
    "@singledispatch\n",
    "def report(value):\n",
    "    return f\"raw: {value}\""
   ],
   "outputs": [],
   "metadata": {}
  },
  {
   "cell_type": "markdown",
   "source": [
    "We can registering different implementations for various types using report.register() decorator. That decorator is able to read a function args type annotations to register specific type handles. Eg. we want datetime object to be reported in ISO format."
   ],
   "metadata": {}
  },
  {
   "cell_type": "code",
   "execution_count": null,
   "source": [
    "from datetime import datetime\n",
    "from numbers import Real\n",
    "\n",
    "@report.register\n",
    "def _(value: datetime):\n",
    "    return f\"dt: {value.isoformat()}\"\n",
    "\n",
    "\n",
    "@report.register\n",
    "def _(value: complex):\n",
    "    return f\"complex: {value.real}{value.imag:+}j\"\n",
    "\n",
    "@report.register\n",
    "def _(value: Real):\n",
    "    return f\"real: {value:f}\"\n"
   ],
   "outputs": [],
   "metadata": {}
  },
  {
   "cell_type": "markdown",
   "source": [
    "Notes of function above:\n",
    "\n",
    "Note that we used the `_` token as the actual function name.\n",
    "That serves two purposes.\n",
    "\n",
    "* First, it is a convention for names of objects that are not supposed to be used explicitly. \n",
    "* Second, if we used the report name instead, we would shadow the original function, thus losing the ability to access it and register new types.\n"
   ],
   "metadata": {}
  },
  {
   "cell_type": "code",
   "execution_count": null,
   "source": [
    "report(datetime.now())\n",
    "report(100-30j)\n",
    "report(100)\n",
    "report('January')\n"
   ],
   "outputs": [],
   "metadata": {}
  },
  {
   "cell_type": "code",
   "execution_count": null,
   "source": [
    "for key, value in report.registry.items():\n",
    "    print(f\"{key} -> {value}\")\n"
   ],
   "outputs": [],
   "metadata": {}
  },
  {
   "cell_type": "code",
   "execution_count": null,
   "source": [],
   "outputs": [],
   "metadata": {}
  },
  {
   "cell_type": "markdown",
   "source": [
    "### Data classes"
   ],
   "metadata": {}
  },
  {
   "cell_type": "code",
   "execution_count": null,
   "source": [
    "from typing import Union\n",
    "\n",
    "class Vector:\n",
    "    def __init__(self, x:Union[int, float], y:Union[int, float]) -> None:\n",
    "        self.x = x \n",
    "        self.y = y\n",
    "\n",
    "    def __add__(self, other: Vector) -> Vector:\n",
    "        \"\"\"Add two vectors using + operator\"\"\"\n",
    "        return Vector(self.x + other.x, self.y + other.y)\n",
    "\n",
    "    def __radd__(self, other: Vector) -> Vector:\n",
    "        \"\"\"Add two vectors using + operator\"\"\"\n",
    "        return Vector(self.x + other.x, self.y + other.y)\n",
    "\n",
    "    def __sub__(self, other: Vector) -> Vector:\n",
    "        \"\"\"sub two vector using - operator\"\"\"\n",
    "        return Vector(self.x - other.x, self.y - other.y)\n",
    "    \n",
    "    def __rsub__(self, other: Vector) -> Vector:\n",
    "        \"\"\"sub two vector using - operator\"\"\"\n",
    "        return Vector(self.x - other.x, self.y - other.y)\n",
    "\n",
    "    def __repr__(self):\n",
    "        \"\"\"Return textual representation of vector\"\"\"\n",
    "        return f\"<Vector: x={self.x}, y={self.y}\"\n",
    "    \n",
    "    def __eq__(self, other):\n",
    "        \"\"\"Compare two vectors for equality.\"\"\"\n",
    "        return self.x == other.x and self.y == other.y\n",
    "\n",
    "    def __req__(self, other):\n",
    "        \"\"\"Compare two vectors for equality.\"\"\"\n",
    "        return self.x == other.x and self.y == other.y\n",
    "        "
   ],
   "outputs": [],
   "metadata": {}
  },
  {
   "cell_type": "code",
   "execution_count": null,
   "source": [
    "Vector(1,2) == Vector(5,6)\n",
    "Vector(4, 4) == Vector(4,4)\n",
    "Vector(1,3) + Vector(8, 10)\n",
    "Vector(1,3) - Vector(8, 10)"
   ],
   "outputs": [],
   "metadata": {}
  },
  {
   "cell_type": "markdown",
   "source": [
    "Using dataclasses. Dataclass take care of __init__, __repr__ and __eq__ methods.\n",
    "`dataclass` class decorator reads attribute annotations of the vector class and auto. creates  `__init__()`, `__repr__()` and `__eq__()` methods. The default equalty comparism assumes that the two instances are equal if all their respective attributes are equal to each other.\n"
   ],
   "metadata": {}
  },
  {
   "cell_type": "code",
   "execution_count": null,
   "source": [
    "from dataclasses import dataclass\n",
    "\n",
    "@dataclass\n",
    "class Vector:\n",
    "    x : Union[int, float]\n",
    "    y : Union[int, float]\n",
    "\n",
    "    def __add__(self, other):\n",
    "        \"\"\"Add two vectors using + operator\"\"\"\n",
    "        return Vector(self.x + other.x, self.y + other.y)\n",
    "\n",
    "    def __radd__(self, other):\n",
    "        \"\"\"Add two vectors using + operator\"\"\"\n",
    "        return Vector(self.x + other.x, self.y + other.y)\n",
    "\n",
    "    def __sub__(self, other):\n",
    "        \"\"\"sub two vector using - operator\"\"\"\n",
    "        return Vector(self.x - other.x, self.y - other.y)\n",
    "    \n",
    "    def __rsub__(self, other):\n",
    "        \"\"\"sub two vector using - operator\"\"\""
   ],
   "outputs": [],
   "metadata": {}
  },
  {
   "cell_type": "code",
   "execution_count": null,
   "source": [
    "Vector(1,2) == Vector(5,6)\n",
    "Vector(4, 4) == Vector(4,4)\n",
    "Vector(1,3) + Vector(8, 10)\n",
    "Vector(1,3) - Vector(8, 10)"
   ],
   "outputs": [],
   "metadata": {}
  },
  {
   "cell_type": "code",
   "execution_count": null,
   "source": [
    "# making an class instance immutable.\n",
    "@dataclass(frozen=True)\n",
    "class FrozenVector:\n",
    "    \"\"\"this class becomes immutable, so you won't be able to modify any of it attributes.\n",
    "    Operation performed will create a new class.\"\"\"\n",
    "    x: Union[int, float]\n",
    "    y: Union[int, float]"
   ],
   "outputs": [],
   "metadata": {}
  },
  {
   "cell_type": "markdown",
   "source": [
    "`field() constructor` allws us to specify both mutable and immutable default values for data class attrbutes in a sane and secure way without risking leaking the state between class instances.\n",
    "Static and immutable defuaults values are provided using the `field(default=value)` call. The mutable value should always be passed by providing the type constructor using the `field(default_factory=constructor)` call."
   ],
   "metadata": {}
  },
  {
   "cell_type": "code",
   "execution_count": null,
   "source": [
    "from dataclasses import field\n",
    "\n",
    "@dataclass\n",
    "class DataClasswithDefaults:\n",
    "    immutable: str  = field(default=\"this is static default value\")\n",
    "    mutable: list = field(default_factory=list)"
   ],
   "outputs": [],
   "metadata": {}
  },
  {
   "cell_type": "code",
   "execution_count": null,
   "source": [
    "DataClasswithDefaults()"
   ],
   "outputs": [],
   "metadata": {}
  },
  {
   "cell_type": "code",
   "execution_count": null,
   "source": [],
   "outputs": [],
   "metadata": {}
  },
  {
   "cell_type": "markdown",
   "source": [
    "### Functional Programming\n",
    "\n",
    "Functional programming is a paradigm where the program flow is achieved mainly through the evaluation of (mathematical) functions rather than through a series of steps that change the state of the program. Purely functional programs avoid the changing of state (side effects) and the use of mutable data structures.\n",
    "\n",
    "Genereal Concept of functional programming:\n",
    "\n",
    "* Side effects: A function is said to have side effect if it modifies the state outside of its local environment. IOW, side effect is any observable change outside of the function scope that happens as a result of a function call. Eg. modification of global variable.\n",
    "\n",
    "* Referential transparency: When a function or expression is referentially transparent, it can be replaced with the value tha corresponds to its output without changing the behavior of the program. Python's `pow(x,y)` is a referentially transparent. `datetime.now()` constructor method of `datetime` type doesnt seem to have any observable side ffect but will return a different value every time is called, thus is referentially opaque.\n",
    "\n",
    "* Pure functions: A pure function is a function that does not have any side effects and that always return the same value for the same set of input args. In other words, it is function that is referentially transparent.\n",
    "Every mathematical function is, by definition, a pure function. Analogously, a function that leaves a trace of its execution for the outside world (for instance, by modifying received objects) is not a pure function.\n",
    "\n",
    "* First-class functions: Language is said to contain first-class functions if functions in this language can be treated as any other value or entity. First-class functions can be passed as rgs to other functions, returned as function return values and assigned to variables. In other words, a language\n",
    "that has first-class functions is a language that treats functions as first-class citizens.\n",
    "\n",
    "A purely function programmng language is a language that:\n",
    "\n",
    "* Has first-class functions\n",
    "* Is concered only with pure functions\n",
    "* Avoids any state modification and side effects.\n",
    "\n",
    "Python provides some functional features such as:\n",
    "\n",
    "* Lambda functions and first-class functions.\n",
    "* `map()`, `filter()`, and `reduce()` functions.\n",
    "* Partial objects and functions.\n",
    "* Generators and generator expressions.\n"
   ],
   "metadata": {}
  },
  {
   "cell_type": "code",
   "execution_count": null,
   "source": [],
   "outputs": [],
   "metadata": {}
  },
  {
   "cell_type": "markdown",
   "source": [
    "### Lambda functions\n",
    "Lambda functions are anonymous functions that don't have to be bound to any identifier (variable).\n",
    "Lambda functions in python can be defined using  expressions. i.e. `lambda <args> : <expression>`"
   ],
   "metadata": {}
  },
  {
   "cell_type": "code",
   "execution_count": null,
   "source": [
    "import math \n",
    "\n",
    "def cirlce_area(radius: Union[int, float]):\n",
    "    return math.pi * radius ** 2\n",
    "\n",
    "cirlce_area_lambda = lambda radius: math.pi * radius ** 2\n",
    "\n",
    "cirlce_area(42), cirlce_area_lambda(42)"
   ],
   "outputs": [],
   "metadata": {}
  },
  {
   "cell_type": "code",
   "execution_count": null,
   "source": [
    "cirlce_area_lambda.__name__, cirlce_area.__name__\n",
    "cirlce_area_lambda.__class__, cirlce_area.__class__"
   ],
   "outputs": [],
   "metadata": {}
  },
  {
   "cell_type": "code",
   "execution_count": null,
   "source": [
    "from dataclasses import dataclass\n",
    "\n",
    "@dataclass\n",
    "class Person:\n",
    "    age: int\n",
    "    weight: int\n",
    "    name: str\n",
    "\n",
    "#sorted(people, key=lambda person: person.age)"
   ],
   "outputs": [],
   "metadata": {}
  },
  {
   "cell_type": "code",
   "execution_count": null,
   "source": [],
   "outputs": [],
   "metadata": {}
  },
  {
   "cell_type": "markdown",
   "source": [
    "### The map(), filter(), and reduce() functions\n",
    "`map(func, iterable, ...)` ==> applies the `func` function arg to every item of iterable.\n",
    "\n",
    "`filter(func, iterable)` ==> works like `map()` by evaluating input elements one by one. `filter()` does not tansform input elements but allows us to filter out those input value that do not meet the predicate defined by the func arg.\n",
    "\n",
    "`reduce(func, iterable)` ==> works opposite of `map()`. This function is used reduce an iterable to a single value. i.e. `reduce(func, [a, b, c, d])` returns equivaluent to `func(func(func(a, b), c), d)`."
   ],
   "metadata": {}
  },
  {
   "cell_type": "code",
   "execution_count": null,
   "source": [
    "list(map(lambda x: x**2, range(10)))"
   ],
   "outputs": [],
   "metadata": {}
  },
  {
   "cell_type": "code",
   "execution_count": null,
   "source": [
    "# map() function being used over multiple iterables of different sizes.\n",
    "list(map(print, range(5), range(4), range(5)))"
   ],
   "outputs": [],
   "metadata": {}
  },
  {
   "cell_type": "code",
   "execution_count": null,
   "source": [
    "evens = filter(lambda number: number % 2 == 0, range(10))\n",
    "odds = filter(lambda number: number % 2 == 1, range(10))\n",
    "\n",
    "list(evens), list(odds)"
   ],
   "outputs": [],
   "metadata": {}
  },
  {
   "cell_type": "code",
   "execution_count": null,
   "source": [
    "animals = [\"giraffe\", \"snake\", \"lion\", \"squirrel\"]\n",
    "animals_s = filter(lambda animal: animal.startswith(\"s\"), animals)\n",
    "list(animals_s)"
   ],
   "outputs": [],
   "metadata": {}
  },
  {
   "cell_type": "code",
   "execution_count": null,
   "source": [
    "from functools import reduce\n",
    "\n",
    "reduce(lambda a, b: a + b, [2, 2])\n",
    "reduce(lambda a, b: a + b, [2, 2, 2])\n",
    "\n",
    "reduce(lambda a, b: a + b, range(1000))"
   ],
   "outputs": [],
   "metadata": {}
  },
  {
   "cell_type": "code",
   "execution_count": null,
   "source": [],
   "outputs": [],
   "metadata": {}
  },
  {
   "cell_type": "markdown",
   "source": [
    "### Partial objects and partial fuctions\n",
    "\n",
    "Partial objects are used to slice the possible input range of a give function by setting some of it args to a fixed value.\n",
    "The signature of a partial object constructor is `partial(func, *args, **kwargs)`. The partial object will behave exactly like func, but its input args will be pre-populated with `*args` and `**keywords`.\n"
   ],
   "metadata": {}
  },
  {
   "cell_type": "code",
   "execution_count": null,
   "source": [
    "from functools import partial\n",
    "\n",
    "powers_of_2 = partial(pow, 2)\n",
    "powers_of_2(2)\n",
    "powers_of_2(5)\n",
    "powers_of_2(10)"
   ],
   "outputs": [],
   "metadata": {}
  },
  {
   "cell_type": "code",
   "execution_count": null,
   "source": [],
   "outputs": [],
   "metadata": {}
  },
  {
   "cell_type": "markdown",
   "source": [
    "### Generators\n",
    "\n",
    "Generators provide an elegant way to write simple and efficient code for functions that return a seq. of elements. Based on the `yield` statement, they allow you to pause a function and return an intermediate results. The fuction save its execution context and can be resumed later, if necessary.\n"
   ],
   "metadata": {}
  },
  {
   "cell_type": "code",
   "execution_count": null,
   "source": [
    "def fibonacci():\n",
    "    a, b = 0, 1\n",
    "    while True:\n",
    "        yield b\n",
    "        a, b = b, a + b\n",
    "\n",
    "fib = fibonacci()\n",
    "next(fib)\n"
   ],
   "outputs": [],
   "metadata": {}
  },
  {
   "cell_type": "code",
   "execution_count": null,
   "source": [
    "next(fib)\n",
    "next(fib)\n",
    "next(fib)"
   ],
   "outputs": [],
   "metadata": {}
  },
  {
   "cell_type": "code",
   "execution_count": null,
   "source": [
    "for item in fibonacci():\n",
    "    print(item)\n",
    "    if item > 1_0:\n",
    "        break"
   ],
   "outputs": [],
   "metadata": {}
  },
  {
   "cell_type": "code",
   "execution_count": null,
   "source": [],
   "outputs": [],
   "metadata": {}
  },
  {
   "cell_type": "markdown",
   "source": [
    "### Generator expression\n",
    "\n",
    "Generator expression allows you to write code in a more functional way. `(item for item in iterable_expression)`.\n",
    "Generator expressions can be used as input args in any function that accepts iterables. They also allow if clauses to filter specific elements the same way a list, dict and set comprehnsions. You can often replace complex `map()` and `filter()` constructions with more readable and compact generator expressions.\n",
    "\n",
    "### Decorators\n",
    "\n",
    "Is a callable expression that accepts a single arg when called and returns another callable object. Any object that implements the `__call__` method is callable and cabe used as a decorator and often, objects reutrned by them are not simple functions but are instances of more complex classes that are implemented thier own `__call__` method.\n",
    "\n",
    "E.g. of a decorator.\n",
    "```\n",
    "@some_decorator\n",
    "def decorated_function():\n",
    "    pass\n",
    "```\n",
    "\n",
    "code above is equivalent to \n",
    "```\n",
    "def decorated_function():\n",
    "    pass\n",
    "decorated_function = some_decorator(decorated_function)\n",
    "```\n"
   ],
   "metadata": {}
  },
  {
   "cell_type": "code",
   "execution_count": null,
   "source": [],
   "outputs": [],
   "metadata": {}
  },
  {
   "cell_type": "markdown",
   "source": [
    "### Enumerations\n",
    "\n",
    "They are useful for encoding a closed set of values for variable or function args.\n"
   ],
   "metadata": {}
  },
  {
   "cell_type": "code",
   "execution_count": null,
   "source": [
    "\n",
    "\n",
    "from enum import Enum, auto\n",
    "\n",
    "class Weekday(Enum):\n",
    "    MONDAY = 0\n",
    "    TUESDAY = 1\n",
    "    WEDNESDAY = 2\n",
    "    THURSDAY= 3\n",
    "    FRIDAY = 4\n",
    "    SATURDAY = 5\n",
    "    SUNDAY = 6\n",
    "\n",
    "\n",
    "class Weekday_(Enum):\n",
    "    MONDAY = auto()\n",
    "    TUESDAY = auto()\n",
    "    WEDNESDAY = auto()\n",
    "    THURSDAY= auto()\n",
    "    FRIDAY = auto()\n",
    "    SATURDAY = auto()\n",
    "    SUNDAY = auto()\n",
    "\n",
    "\n",
    "class OrderStatus(Enum):\n",
    "    PENDING = auto()\n",
    "    PROCESSING = auto()\n",
    "    PROCESSED = auto()"
   ],
   "outputs": [],
   "metadata": {}
  },
  {
   "cell_type": "code",
   "execution_count": null,
   "source": [
    "Weekday_.__members__\n",
    "Weekday.__members__\n",
    "OrderStatus.__members__"
   ],
   "outputs": [],
   "metadata": {}
  },
  {
   "cell_type": "code",
   "execution_count": null,
   "source": [
    "class Order:\n",
    "    def __init__(self) -> None:\n",
    "        self.status = OrderStatus.PENDING\n",
    "\n",
    "    def process(self):\n",
    "        if self.status == OrderStatus.PROCESSED:\n",
    "            raise ValueError(\"Can't process order that has been already processed.\")\n",
    "        self.status = OrderStatus.PROCESSING\n",
    "        ...\n",
    "        self.status = OrderStatus.PROCESSED"
   ],
   "outputs": [],
   "metadata": {}
  },
  {
   "cell_type": "code",
   "execution_count": null,
   "source": [
    "from enum import Flag\n",
    "\n",
    "class Side(Flag):\n",
    "    GUACAMOLE = auto()\n",
    "    TORTILLA = auto()\n",
    "    FRIES = auto()\n",
    "    BEER = auto()\n",
    "    POTATO_SALAD = auto()"
   ],
   "outputs": [],
   "metadata": {}
  },
  {
   "cell_type": "code",
   "execution_count": null,
   "source": [
    "Side.__members__, Side.__flags__"
   ],
   "outputs": [],
   "metadata": {}
  },
  {
   "cell_type": "code",
   "execution_count": null,
   "source": [
    "mexican_side = Side.GUACAMOLE | Side.BEER | Side.TORTILLA\n",
    "bavarian_side = Side.BEER | Side.POTATO_SALAD\n",
    "\n",
    "common_side = mexican_side & bavarian_side\n",
    "\n",
    "mexican_side, bavarian_side\n",
    "\n",
    "Side.GUACAMOLE in mexican_side, Side.TORTILLA in bavarian_side"
   ],
   "outputs": [],
   "metadata": {}
  },
  {
   "cell_type": "code",
   "execution_count": null,
   "source": [],
   "outputs": [],
   "metadata": {}
  },
  {
   "cell_type": "markdown",
   "source": [
    "### Interfaces, Pattern and Modularity\n"
   ],
   "metadata": {}
  },
  {
   "cell_type": "markdown",
   "source": [
    "Idioms are small and well-recognised programming patterns for solving small problems. The key x'tics of a programming idiom is that is specific to a single programming language.\n",
    "\n",
    "Design patterns deals with larger code structure -functions and classes. Design pattern are reusable solutions to many common design problems appearing in software engineering. Design patterns can be expressed using many programming languages.\n"
   ],
   "metadata": {}
  },
  {
   "cell_type": "markdown",
   "source": [
    "### Interfaces\n",
    "\n",
    "An interface is an intermediary that takes part in the interaction between two entities. Eg. interface of a car consists mainly of steering wheel, pedals, dashboard and etc.\n",
    "\n",
    "In programming interface means;\n",
    "\n",
    "* The overall shape of the interaction plane that code can have.;\n",
    "The interface of a function, for instance, will be the name of the function and its input args and the output it returns. The interface of an object will be all of its methods that can be invoked and all the attributes that can be accessed.\n",
    "OS hae interfaces in the form of filesystems and system calls. Web and remote services have interfaces in teh form of communcation protocols.\n",
    "\n",
    "* The abstract definition of possible interactions with the code that is intentionally separated from its implementation.;\n",
    "Interface is understood as a contract that a specific element of a code declares to fulfill. Such a formal interface can be extracted from the implementation and can live as a standalone entity. This gives the possibility to build applications that depends on a specific interface but don't care about the actual implemenation, as long as it exists and fulfills the contract.\n"
   ],
   "metadata": {}
  },
  {
   "cell_type": "markdown",
   "source": [
    "### zope.interface\n",
    "The interface concept of zope.interface works best for areas where a single abstraction can have multiple implementations or can be applied to different objects that probably shouldn't be tangled with inheritance structure.\n",
    "We build a simple collider system that can detect collisions between multiple overlapping objects. The algo to be used is the Axis-Aligned Bouding Box (AABB). It is the simplest way to detect a collision between two axis-aligned rectangles. It assumes that all elements that will be rested can be constrained with a rectangular bounding box.\n"
   ],
   "metadata": {}
  },
  {
   "cell_type": "code",
   "execution_count": null,
   "source": [
    "import itertools\n",
    "from dataclasses import dataclass\n",
    "from typing import Iterable\n",
    "\n",
    "def rects_collide(rect1, rect2) -> bool:\n",
    "    \"\"\"Check collision between two rectangle.\n",
    "    Rectangle coordinates:\n",
    "    ┌─────(x2, y2)\n",
    "    │\n",
    "    │\n",
    "    (x1, y1) ────┘\n",
    "    \"\"\"\n",
    "    return (rect1.x1 < rect2.x2 and rect1.x2 > rect2.x1 and \n",
    "            rect1.y1 < rect2.y2 and rect1.y2 > rect2.y1)\n",
    "\n",
    "\n",
    "def find_collisions(objects: Iterable):\n",
    "    \"\"\"Detects all collisions within a batch of objects.\"\"\"\n",
    "    return [(item1, item2) for item1, item2 in itertools.combinations(objects, 2)\n",
    "            if rects_collide(item1.bounding_box, item2.bounding_box)]\n",
    "\n",
    "\n",
    "@dataclass\n",
    "class Box:\n",
    "    x1: float\n",
    "    y1: float\n",
    "    x2: float\n",
    "    y2: float\n",
    "\n",
    "@dataclass\n",
    "class Square:\n",
    "    x: float\n",
    "    y: float\n",
    "    size: float\n",
    "    \n",
    "    @property\n",
    "    def bounding_box(self) -> Box:\n",
    "        return Box(self.x, self.y, self.x +self.size, self.y + self.size)\n",
    "\n",
    "\n",
    "@dataclass\n",
    "class Rect:\n",
    "    x: float\n",
    "    y: float\n",
    "    width: float\n",
    "    height: float\n",
    "\n",
    "    @property\n",
    "    def bounding_box(self) -> Box:\n",
    "        return Box(self.x, self.y, self.x + self.width, self.y + self.height)\n",
    "\n",
    "\n",
    "@dataclass\n",
    "class Circle:\n",
    "    x: float\n",
    "    y: float\n",
    "    radius: float\n",
    "\n",
    "    @property\n",
    "    def bounding_box(self) -> Box:\n",
    "        return Box(self.x - self.radius, self.y - self.radius, self.x + self.radius, self.y + self.radius)"
   ],
   "outputs": [],
   "metadata": {}
  },
  {
   "cell_type": "code",
   "execution_count": null,
   "source": [
    "for collision in find_collisions([Square(0, 0, 10), Rect(5, 5, 20, 20),Square(15, 20, 5), Circle(1, 1, 2)]):\n",
    "    print(collision)"
   ],
   "outputs": [],
   "metadata": {}
  },
  {
   "cell_type": "code",
   "execution_count": null,
   "source": [
    "itertools.combinations([Square(0, 0, 10), Rect(5, 5, 20, 20),Square(15, 20, 5), Circle(1, 1, 2)], 2)"
   ],
   "outputs": [],
   "metadata": {}
  },
  {
   "cell_type": "code",
   "execution_count": null,
   "source": [
    "\n",
    "from zope.interface import Interface, Attribute, implementer\n",
    "from zope.interface.verify import verifyObject\n",
    "\n",
    "class ICollidable(Interface):\n",
    "    bounding_box = Attribute(\"Object's bounding box\")\n",
    "\n",
    "\n",
    "@implementer(ICollidable)\n",
    "@dataclass\n",
    "class Square:\n",
    "    x: float\n",
    "    y: float\n",
    "    size: float\n",
    "    \n",
    "    @property\n",
    "    def bounding_box(self) -> Box:\n",
    "        return Box(self.x, self.y, self.x +self.size, self.y + self.size)\n",
    "\n",
    "\n",
    "@implementer(ICollidable)\n",
    "@dataclass\n",
    "class Rect:\n",
    "    x: float\n",
    "    y: float\n",
    "    width: float\n",
    "    height: float\n",
    "\n",
    "    @property\n",
    "    def bounding_box(self) -> Box:\n",
    "        return Box(self.x, self.y, self.x + self.width, self.y + self.height)\n",
    "\n",
    "\n",
    "@implementer(ICollidable)\n",
    "@dataclass\n",
    "class Circle:\n",
    "    x: float\n",
    "    y: float\n",
    "    radius: float\n",
    "\n",
    "    @property\n",
    "    def bounding_box(self) -> Box:\n",
    "        return Box(self.x - self.radius, self.y - self.radius, self.x + self.radius, self.y + self.radius)\n",
    "\n",
    "\n",
    "def find_collisons(objects: Iterable):\n",
    "    \"\"\"Detects all collisions within a batch of objects.\"\"\"\n",
    "    for item in objects:\n",
    "        verifyObject(ICollidable, item)\n",
    "    \n",
    "    return [(item1, item2) for item1, item2 in itertools.combinations(objects, 2)\n",
    "            if rects_collide(item1.bounding_box, item2.bounding_box)]\n",
    "    "
   ],
   "outputs": [],
   "metadata": {}
  },
  {
   "cell_type": "code",
   "execution_count": null,
   "source": [
    "# raise error\n",
    "@dataclass\n",
    "class Point:\n",
    "    x: float\n",
    "    y: float\n",
    "\n",
    "\n",
    "for collision in find_collisons([Point(1,2), Square(0, 0, 10), Rect(5, 5, 20, 20),Square(15, 20, 5), Circle(1, 1, 2)]):\n",
    "    print(collision)"
   ],
   "outputs": [],
   "metadata": {}
  },
  {
   "cell_type": "code",
   "execution_count": null,
   "source": [
    "# raise error\n",
    "@implementer(ICollidable)\n",
    "@dataclass\n",
    "class Point:\n",
    "    x: float\n",
    "    y: float\n",
    "\n",
    "\n",
    "for collision in find_collisons([Point(1,2), Square(0, 0, 10), Rect(5, 5, 20, 20),Square(15, 20, 5), Circle(1, 1, 2)]):\n",
    "    print(collision)"
   ],
   "outputs": [],
   "metadata": {}
  },
  {
   "cell_type": "code",
   "execution_count": null,
   "source": [
    "\n",
    "from zope.interface import Interface, Attribute, invariant, implementer\n",
    "from zope.interface.verify import verifyObject\n",
    "from typing import Iterable\n",
    "\n",
    "\n",
    "class IBBOX(Interface):\n",
    "    x1 = Attribute(\"lower-left x coordinate\")\n",
    "    y1 = Attribute(\"lower-left y coordinate\")\n",
    "    x2 = Attribute(\"upper-right x coordinate\")\n",
    "    y2 = Attribute(\"upper-right y coordinate\")\n",
    "\n",
    "\n",
    "class ICollidate(Interface):\n",
    "    bounding_box = Attribute(\"Object's bounding box\")\n",
    "    invariant(lambda self: verifyObject(IBBOX, self.bounding_box))\n",
    "\n",
    "\n",
    "def find_collisons(objects: Iterable):\n",
    "    \"\"\"Detects all collisions within a batch of objects.\"\"\"\n",
    "    for item in objects:\n",
    "        verifyObject(ICollidable, item)\n",
    "        ICollidable.validateInvariants(item)  # indepth verification of the object.\n",
    "    \n",
    "    return [(item1, item2) for item1, item2 in itertools.combinations(objects, 2)\n",
    "            if rects_collide(item1.bounding_box, item2.bounding_box)]"
   ],
   "outputs": [],
   "metadata": {}
  },
  {
   "cell_type": "code",
   "execution_count": null,
   "source": [
    "@implementer(ICollidable)\n",
    "@dataclass\n",
    "class Square:\n",
    "    x: float\n",
    "    y: float\n",
    "    size: float\n",
    "    \n",
    "    @property\n",
    "    def bounding_box(self) -> Box:\n",
    "        return Box(self.x, self.y, self.x +self.size, self.y + self.size)\n",
    "\n",
    "\n",
    "@implementer(ICollidable)\n",
    "@dataclass\n",
    "class Rect:\n",
    "    x: float\n",
    "    y: float\n",
    "    width: float\n",
    "    height: float\n",
    "\n",
    "    @property\n",
    "    def bounding_box(self) -> Box:\n",
    "        return Box(self.x, self.y, self.x + self.width, self.y + self.height)\n",
    "\n",
    "\n",
    "@implementer(ICollidable)\n",
    "@dataclass\n",
    "class Circle:\n",
    "    x: float\n",
    "    y: float\n",
    "    radius: float\n",
    "\n",
    "    @property\n",
    "    def bounding_box(self) -> Box:\n",
    "        return Box(self.x - self.radius, self.y - self.radius, self.x + self.radius, self.y + self.radius)\n",
    "\n",
    "\n",
    "for collision in find_collisons([Square(0, 0, 10), Rect(5, 5, 20, 20),Square(15, 20, 5), Circle(1, 1, 2)]):\n",
    "    print(collision)"
   ],
   "outputs": [],
   "metadata": {}
  },
  {
   "cell_type": "code",
   "execution_count": null,
   "source": [
    "# raise error\n",
    "@implementer(ICollidable)\n",
    "@dataclass\n",
    "class Point:\n",
    "    x: float\n",
    "    y: float\n",
    "\n",
    "\n",
    "for collision in find_collisons([Point(1,2), Square(0, 0, 10), Rect(5, 5, 20, 20),Square(15, 20, 5), Circle(1, 1, 2)]):\n",
    "    print(collision)"
   ],
   "outputs": [],
   "metadata": {}
  },
  {
   "cell_type": "code",
   "execution_count": null,
   "source": [],
   "outputs": [],
   "metadata": {}
  },
  {
   "cell_type": "markdown",
   "source": [
    "### Using function annotations and abstract base classes.\n",
    "\n",
    "In performing type comparism, it is less harmful to use `assert isinstance(instance, list)` instead of `assert type(instance) == list)`. Also you can check a large range of types  via `assert isintance(instance, (list, tuple, range))`.\n",
    "`ABCs` is a class that does not need to provide a concrete implementation, but instead defines a bluerpint of a classs that may be used to check against type compatibility.\n",
    "Abstract base classes are used for two purposes:\n",
    "\n",
    "* checking for implementation completeness.\n",
    "* checking for implicity interface compatibility.\n",
    "\n",
    "The `@abstractmethod` decorator denotes a part of the interface that must be implemnted (by overriding) in classes that will subclass our `ABC`. If a class will have a nonoveridden method or property, you won't be able to instantiate it. Any attempt to do so will result in a `TypeError` exception.\n"
   ],
   "metadata": {}
  },
  {
   "cell_type": "code",
   "execution_count": null,
   "source": [
    "from abc import ABC, abstractmethod\n",
    "\n",
    "class DummyInterface(ABC):\n",
    "\n",
    "    @abstractmethod\n",
    "    def dummy_method(self): \n",
    "        ...\n",
    "\n",
    "    @property\n",
    "    @abstractmethod\n",
    "    def dummy_property(self):\n",
    "        ..."
   ],
   "outputs": [],
   "metadata": {}
  },
  {
   "cell_type": "code",
   "execution_count": null,
   "source": [
    "from abc import ABC, abstractmethod\n",
    "from dataclasses import dataclass\n",
    "from typing import Iterable\n",
    "\n",
    "\n",
    "class ColliderABC(ABC):\n",
    "    @property\n",
    "    @abstractmethod\n",
    "    def bounding_box(self):\n",
    "        ...\n",
    "\n",
    "@dataclass\n",
    "class Square(ColliderABC):\n",
    "    ...\n",
    "\n",
    "\n",
    "@dataclass\n",
    "class Rect(ColliderABC):\n",
    "    ...\n",
    "\n",
    "@dataclass\n",
    "class Circle(ColliderABC):\n",
    "    ...\n",
    "\n",
    "\n",
    "def find_collisions(objects: Iterable):\n",
    "    for item in objects:\n",
    "        if not isinstance(item, ColliderABC):\n",
    "            raise TypeError(f\"{item} is not a collider\")\n",
    "    return [(item1, item2) for item1, item2 in itertools.combinations(objects, 2)\n",
    "            if rects_collide(item1.bounding_box, item2.bounding_box)]"
   ],
   "outputs": [],
   "metadata": {}
  },
  {
   "cell_type": "code",
   "execution_count": null,
   "source": [
    "# __subclasshook__(cls) method allows you to inject your own logic into the procedure that \n",
    "# determines whether the object is an instance of a given class.\n",
    "\n",
    "# extending our ColliderABC interface.ABC\n",
    "\n",
    "class ColliderABC(ABC):\n",
    "    @property\n",
    "    @abstractmethod\n",
    "    def bounding_box(self):\n",
    "        ...\n",
    "\n",
    "    @classmethod\n",
    "    def __subclasshook__(cls, C):\n",
    "        if cls is ColliderABC:\n",
    "            if any(\"bounding_box\" in B.__dict__ for B in C.__mro__):\n",
    "                return True\n",
    "        return NotImplemented"
   ],
   "outputs": [],
   "metadata": {}
  },
  {
   "cell_type": "markdown",
   "source": [
    "with the `__subclasshook__()` method defined that way, `ColliderABC` becomes an implicit interface. i.e. any object will be considered an instance of `ColliderABC` as long as it structure that passes the subclass hook check. With this we can add a new components compatible with the `ColliderABC` interface without explicitly inheriting from it. E.g. below."
   ],
   "metadata": {}
  },
  {
   "cell_type": "code",
   "execution_count": null,
   "source": [
    "@dataclass\n",
    "class Line:\n",
    "    p1: Point\n",
    "    p2: Point\n",
    "\n",
    "    @property\n",
    "    def bounding_box(self):\n",
    "        return Box(self.p1.x, self.p1.y, self.p2.x, self.p2.y)\n",
    "\n",
    "line = Line(Point(0,0), Point(100,100))\n",
    "line.bounding_box\n",
    "isinstance(line, ColliderABC)"
   ],
   "outputs": [],
   "metadata": {}
  },
  {
   "cell_type": "markdown",
   "source": [],
   "metadata": {}
  },
  {
   "cell_type": "markdown",
   "source": [
    "### Using collections.abc\n",
    "\n",
    "ABCs are like small building blocks for creating a higher level of abstraction. They allow you to implement really usable interfaces, but are very generic and designed to handle a lot more than this single design pattern.\n",
    "\n",
    "The `collections.abc` module provides lots of predefined ABCs that allows checking for the compactibility of types with common Python interfaces. With the base classes provided in this module you can check for eg., whether a give object is callable, mapping or whether it supports iter.\n",
    "\n",
    "The most common abstract base classes from collections.abc are:\n",
    "\n",
    "* `Container`: This interface means that the obj supports the in operator and implements the `__contains__()` method. \n",
    "* `Iterable`: This interface means that the obj supports iteration and implements the  `__iter__()` method.\n",
    "* `Callable`: This interface means that it can be called like a function and implements the `__call__()` method.\n",
    "* `Hashable`: This interface means that the obj is hashable (i.e. it can be included in set and as key in dict.) and implements the `__hash__` method.\n",
    "* `Sized`: This interface means that the object has size (i.e. `len()` function) and implements the `__len__()` method.\n"
   ],
   "metadata": {}
  },
  {
   "cell_type": "markdown",
   "source": [
    "### Interface through type annotations\n"
   ],
   "metadata": {}
  },
  {
   "cell_type": "code",
   "execution_count": null,
   "source": [
    "from typing import Protocol, runtime_checkable\n",
    "\n",
    "@runtime_checkable\n",
    "class IBox(Protocol):\n",
    "    x1: float\n",
    "    y1: float\n",
    "    x2: float\n",
    "    y2: float\n",
    "\n",
    "\n",
    "@runtime_checkable\n",
    "class ICollider(Protocol):\n",
    "    @property\n",
    "    def bounding_box(self) -> IBox:\n",
    "        ..."
   ],
   "outputs": [],
   "metadata": {}
  },
  {
   "cell_type": "markdown",
   "source": [
    "Notes: In the code above;  we have used two interfaces. mypy will perform deep type verification thus adding interfaces to increase the type safety. The `@runtime_checkable` decorator extends the protocol class with `isintance()` checks. This is something performed manually for `ABCs` using subclass hooks."
   ],
   "metadata": {}
  },
  {
   "cell_type": "code",
   "execution_count": null,
   "source": [
    "# Taking full advantage of static type analysis.\n",
    "\n",
    "import itertools\n",
    "from dataclasses import dataclass\n",
    "from typing import Iterable, Protocol, runtime_checkable\n",
    "\n",
    "\n",
    "@runtime_checkable\n",
    "class IBox(Protocol):\n",
    "    x1: float\n",
    "    y1: float\n",
    "    x2: float\n",
    "    y2: float\n",
    "\n",
    "\n",
    "@runtime_checkable\n",
    "class ICollider(Protocol):\n",
    "    @property\n",
    "    def bounding_box(self) -> IBox:\n",
    "        ...\n",
    "\n",
    "def rects_collide(rect1: IBox, rect2: IBox):\n",
    "    \"\"\"Check collision between rectangles\"\"\"\n",
    "    return (rect1.x1 < rect2.x2 and rect1.x2 > rect2.x1 and \n",
    "            rect1.y1 < rect1.y2 and rect1.y2 > rect2.y1)\n",
    "\n",
    "def find_collisions(objects: Iterable[ICollider]):\n",
    "    for item in objects:\n",
    "        if not isinstance(item, ICollider):\n",
    "            raise TypeError(f\"{item} is not a collider\")\n",
    "    return [(item1, item2) for item1, item2 in itertools.combinations(objects, 2) \n",
    "            if rects_collide(item1.bounding_box, item2.bounding_box)]\n",
    "    "
   ],
   "outputs": [],
   "metadata": {}
  },
  {
   "cell_type": "markdown",
   "source": [
    "Notes: The beauty of implicit interfaces is there is no explicit interface declaration in a concrete class beyond the inherent interface that comes from the actual implementation."
   ],
   "metadata": {}
  },
  {
   "cell_type": "code",
   "execution_count": null,
   "source": [],
   "outputs": [],
   "metadata": {}
  },
  {
   "cell_type": "markdown",
   "source": [
    "### Inversion of control and dependency injection\n",
    "\n",
    "IoC is a simple property of some software designs. Traditional arch. of a program is a layered structure of procedures where control always goes from top to bottom. Higher-level layeers invoke procedures from lower layers. THose invoked procedures gain control and can invoke even deeper-layered procedures before returning control upward. In traditional arch. control is passed from application to library functions. Library functions may pass it deeper to even lower-level libraries but, eventually, return it back to the application.\n",
    "\n",
    "IoC happens when a library passes control up to the application so that the application can take part in the library behavior.\n",
    "\n",
    "`sorted([1,2,3,4,5,6])`\n",
    "\n",
    "The built-in sorted() function takes an iterable of items and returns a list of sorted\n",
    "items. Control goes from the caller (your application) directly to the sorted()\n",
    "function. When the sorted() function is done with sorting, it simply returns the\n",
    "sorted result and gives control back to the caller. Nothing special.\n"
   ],
   "metadata": {}
  },
  {
   "cell_type": "code",
   "execution_count": null,
   "source": [
    "# sorting by absolute distance from number 3. Integers closet to 3 should be at the beginning of the result\n",
    "# list and the farthest should be at the end.\n",
    "\n",
    "def distance_from_3(item: int):\n",
    "    return abs(item - 3)\n",
    "\n",
    "sorted([1,2,3,4,5,6], key=distance_from_3)"
   ],
   "outputs": [],
   "metadata": {}
  },
  {
   "cell_type": "markdown",
   "source": [
    "Notes: In the code above, the `sorted()`  function will invoke the key function on every element of the iterable args. Instead of comparing item values, it now compares the return values of the key function. => IoC happens here. => the `sorted()` function `\"upcalls\"` back to the `distance_from_3()` function provided by the application as an argument. Now it is a library that calls the functions from the application, and thus the flow of control is reversed."
   ],
   "metadata": {}
  },
  {
   "cell_type": "markdown",
   "source": [
    "IoC is a property of a design and not a design pattern by itself.\n",
    "Examples of callback-based IoC include:\n",
    "\n",
    "* Polymorphism: When a custom class inherits from a base class and base methods are suppposed to call custom methods.\n",
    "* Ags passing: When the receiving function is supposed to call methods of the supplied object.\n",
    "* Decorators: When a decorator function calls a docorated function.\n",
    "* Closures: When a nested function calls a function outside of its scope.\n"
   ],
   "metadata": {}
  },
  {
   "cell_type": "markdown",
   "source": [
    "### IoC in applications\n",
    "\n",
    "Here we build an application that tracks web page view using `tracking pixels` and serve page view stats over an HTTPP endpoint. This technique is commonly used in tracking advertisement views or email openings. Our application will have to track counts of page views in some persistent storage.\n",
    "\n",
    "backend will have two endpoints:\n",
    "\n",
    "* /track: Endpoint will return an HTTP response with a `1x1` pixel GIF image. Upon request, it will store the `Refere` header and increase the number of requests associated with that value.\n",
    "* /stats: Endpoint will read the top most 10 most common `Referer` values recieved on `track` endpoint and return an HTTP response containing a summary of the results in JSON format.\n"
   ],
   "metadata": {}
  },
  {
   "cell_type": "code",
   "execution_count": null,
   "source": [
    "%%writefile track_backend.py\n",
    "\n",
    "from collections import Counter\n",
    "from fastapi import status, FastAPI, Response, Request\n",
    "import uvicorn\n",
    "\n",
    "app = FastAPI(title=\"IoC Web Application\")\n",
    "\n",
    "storage = Counter()\n",
    "\n",
    "PIXEL = (\n",
    "    b'GIF89a\\x01\\x00\\x01\\x00\\x80\\x00\\x00\\x00'\n",
    "    b'\\x00\\x00\\xff\\xff\\xff!\\xf9\\x04\\x01\\x00'\n",
    "    b'\\x00\\x00\\x00,\\x00\\x00\\x00\\x00\\x01\\x00'\n",
    "    b'\\x01\\x00\\x00\\x02\\x01D\\x00;'\n",
    "    )\n",
    "\n",
    "@app.get(\"/track\")\n",
    "def track(request: Request):\n",
    "    try:\n",
    "        referer =  request.headers[\"Referer\"]\n",
    "    except KeyError:\n",
    "        return Response(status_code=status.HTTP_400_BAD_REQUEST)\n",
    "\n",
    "    storage[referer] += 1\n",
    "    \n",
    "    return Response(content=PIXEL,\n",
    "                    headers={\n",
    "                        \"Content-Type\": \"image/gif\",\n",
    "                        \"Expires\": \"Mon, 01 Jan 1990 00:00:00 GMT\",\n",
    "                        \"Cache-Control\": \"no-cache, no-store, must-revalidate\",\n",
    "                        \"Pragma\": \"no-cache\",\n",
    "                    }\n",
    "    )\n",
    "\n",
    "@app.get(\"/stats\")\n",
    "def stats():\n",
    "    return dict(storage.most_common(10))\n",
    "\n",
    "@app.get(\"/test\")\n",
    "def test(request: Request):\n",
    "    try:\n",
    "        referer =  request.headers[\"Referer\"]\n",
    "    except KeyError:\n",
    "        return Response(status_code=status.HTTP_400_BAD_REQUEST)\n",
    "    \n",
    "    storage[referer] += 1\n",
    "\n",
    "    return \"\"\"\n",
    "    <html>\n",
    "    <head></head>\n",
    "    <body><img src=\"/track\"></body>\n",
    "    </html>\n",
    "    \"\"\"\n",
    "\n",
    "if __name__ == \"__main__\":\n",
    "    uvicorn.run(app, port=8005, host='127.0.0.1')\n"
   ],
   "outputs": [],
   "metadata": {}
  },
  {
   "cell_type": "code",
   "execution_count": 3,
   "source": [
    "%%writefile track_backend.py\n",
    "\n",
    "# modifying the previous function with good design in mind.\n",
    "\n",
    "from collections import Counter\n",
    "from fastapi import status, FastAPI, Response, Request\n",
    "from abc import ABC, abstractmethod\n",
    "from redis import Redis\n",
    "from typing import Dict\n",
    "import uvicorn\n",
    "\n",
    "\n",
    "class ViewStorageBackend(ABC):\n",
    "    @abstractmethod\n",
    "    def increment(self, key: str) -> None:\n",
    "        ...\n",
    "\n",
    "    @abstractmethod\n",
    "    def most_common(self, n: int) -> Dict[str, int]: \n",
    "        ...\n",
    "\n",
    "\n",
    "class CounterBackend(ViewStorageBackend):\n",
    "    \"\"\"This implementation adapts Counter class into the ViewsStorageBackend\n",
    "    Infterface.\n",
    "    \"\"\"\n",
    "    def __init__(self):\n",
    "        self._counter = Counter()\n",
    "\n",
    "    def increment(self, key: str) -> None:\n",
    "        self._counter[key] += 1\n",
    "\n",
    "    def most_common(self, n: int) -> Dict[str, int]:\n",
    "        return dict(self._counter.most_common(n))\n",
    "\n",
    "\n",
    "class RedisBackend(ViewStorageBackend):\n",
    "    \"\"\"Storage using redis\"\"\"\n",
    "    def __init__(self, redis_client: Redis, set_name: str) -> None:\n",
    "        self._client = redis_client\n",
    "        self._set_name = set_name\n",
    "\n",
    "    def increment(self, key: str) -> None:\n",
    "        self._client.zincrby(self._set_name, 1, key)\n",
    "\n",
    "    def most_common(self, n: int) -> Dict[str, int]:\n",
    "        return {key.decode(): int(value) for key, value \n",
    "                in self._client.zrange(self._set_name, 0, n-1,\n",
    "                                       desc=True, withscores=True,)}\n",
    "\n",
    "app = FastAPI(title=\"IoC Web Application\")\n",
    "\n",
    "storage = RedisBackend(Redis(host=\"redis\"), \"my-stats\")\n",
    "\n",
    "PIXEL = (\n",
    "    b'GIF89a\\x01\\x00\\x01\\x00\\x80\\x00\\x00\\x00'\n",
    "    b'\\x00\\x00\\xff\\xff\\xff!\\xf9\\x04\\x01\\x00'\n",
    "    b'\\x00\\x00\\x00,\\x00\\x00\\x00\\x00\\x01\\x00'\n",
    "    b'\\x01\\x00\\x00\\x02\\x01D\\x00;'\n",
    "    )\n",
    "\n",
    "@app.get(\"/track\")\n",
    "def track(request: Request, storage: ViewStorageBackend = storage):\n",
    "    try:\n",
    "        referer =  request.headers[\"Referer\"]\n",
    "    except KeyError:\n",
    "        return Response(status_code=status.HTTP_400_BAD_REQUEST)\n",
    "    storage.increment(referer)\n",
    "    \n",
    "    return Response(content=PIXEL,\n",
    "                    headers={\n",
    "                        \"Content-Type\": \"image/gif\",\n",
    "                        \"Expires\": \"Mon, 01 Jan 1990 00:00:00 GMT\",\n",
    "                        \"Cache-Control\": \"no-cache, no-store, must-revalidate\",\n",
    "                        \"Pragma\": \"no-cache\",\n",
    "                    }\n",
    "    )\n",
    "\n",
    "@app.get(\"/stats\")\n",
    "def stats(storage: ViewStorageBackend = storage):\n",
    "    return storage.most_common(10)\n",
    "\n",
    "@app.get(\"/test\")\n",
    "def test(request: Request, storage: ViewStorageBackend = storage):\n",
    "    return \"\"\"\n",
    "    <html>\n",
    "    <head></head>\n",
    "    <body><img src=\"/track\"></body>\n",
    "    </html>\n",
    "    \"\"\"\n",
    "\n",
    "if __name__ == \"__main__\":\n",
    "    uvicorn.run(app, port=8005, host='127.0.0.1')"
   ],
   "outputs": [
    {
     "output_type": "stream",
     "name": "stdout",
     "text": [
      "Overwriting track_backend.py\n"
     ]
    }
   ],
   "metadata": {}
  },
  {
   "cell_type": "markdown",
   "source": [
    "### Dependency Injection\n"
   ],
   "metadata": {}
  },
  {
   "cell_type": "code",
   "execution_count": null,
   "source": [],
   "outputs": [],
   "metadata": {}
  },
  {
   "cell_type": "code",
   "execution_count": null,
   "source": [],
   "outputs": [],
   "metadata": {}
  },
  {
   "cell_type": "markdown",
   "source": [
    "### Concurrency\n",
    "\n",
    "Concurrency is a property of a program, algorithm, or problem, whereas parallelism is just one of the possible approaches to problems that are concurrent.\n",
    "\n",
    "By extrapolating events to programs, algorithms, or problems, we can say that something is concurrent if it can be fully or partially decomposed into components (units) that are order-independent. Such units may be processed independently from each other, and the order of processing does not affect the final result.\n",
    "This means that they can also be processed simultaneously or in parallel. If we process\n",
    "information this way (that is, in parallel), then we are indeed dealing with parallel processing. But this is still not obligatory.\n"
   ],
   "metadata": {}
  },
  {
   "cell_type": "markdown",
   "source": [
    "#### Multithreading\n",
    "\n",
    "This is characterized by running multiple threads of execution that share the memory context of the parent process. works in applications that do alot of I/O operations or need to maintain UI responsiveness. Its fairly lightweight but comes ceveats and memory safety risks.\n",
    "Work can be split into threads and run simultaneously. Threads are still bound to the parent process and can easy communicate becuase they share the same memory context. The execution of threads is coordinated by the OS kernel.\n",
    "Multithreading will benefit from a multiprocessor or multicore machines, where each thread can be executed on a separate CPU core, thus making the program run faster.\n"
   ],
   "metadata": {}
  },
  {
   "cell_type": "code",
   "execution_count": 5,
   "source": [
    "%%writefile test_thread.py\n",
    "from threading import Thread\n",
    "\n",
    "def my_func():\n",
    "    print(\"printing from thread\")\n",
    "\n",
    "if __name__ == \"___main__\":\n",
    "    thread = Thread(target=my_func)\n",
    "    thread.start()\n",
    "    thread.join()"
   ],
   "outputs": [
    {
     "output_type": "stream",
     "name": "stdout",
     "text": [
      "Writing test_thread.py\n"
     ]
    }
   ],
   "metadata": {}
  },
  {
   "cell_type": "code",
   "execution_count": 7,
   "source": [
    "!python test_thread.py"
   ],
   "outputs": [],
   "metadata": {}
  },
  {
   "cell_type": "code",
   "execution_count": 16,
   "source": [
    "%%writefile test_thread.py\n",
    "from threading import Thread\n",
    "\n",
    "def my_func():\n",
    "    print(\"printing from thread\")\n",
    "\n",
    "if __name__ == \"__main__\":\n",
    "    threads = [Thread(target=my_func) for _ in range(10)]\n",
    "    for thread in threads:\n",
    "        thread.start()\n",
    "\n",
    "    for thread in threads:\n",
    "        thread.join()\n"
   ],
   "outputs": [
    {
     "output_type": "stream",
     "name": "stdout",
     "text": [
      "Overwriting test_thread.py\n"
     ]
    }
   ],
   "metadata": {}
  },
  {
   "cell_type": "code",
   "execution_count": 18,
   "source": [
    "!python test_thread.py"
   ],
   "outputs": [
    {
     "output_type": "stream",
     "name": "stdout",
     "text": [
      "printing from thread\n",
      "printing from threadprinting from thread\n",
      "\n",
      "printing from thread\n",
      "printing from threadprinting from thread\n",
      "printing from thread\n",
      "\n",
      "printing from thread\n",
      "printing from thread\n",
      "printing from thread\n"
     ]
    }
   ],
   "metadata": {}
  },
  {
   "cell_type": "code",
   "execution_count": 15,
   "source": [
    "%%writefile test_thread2.py\n",
    "from threading import Thread\n",
    "\n",
    "thread_visits = 0\n",
    "\n",
    "def visit_counter():\n",
    "    global thread_visits\n",
    "    for i in range(100_000):\n",
    "        value = thread_visits\n",
    "        thread_visits = value + 1\n",
    "\n",
    "if __name__ == \"__main__\":\n",
    "    thread_count = 100\n",
    "\n",
    "    threads = [Thread(target=visit_counter) for _ in range(thread_count)]\n",
    "    for thread in threads:\n",
    "        thread.start()\n",
    "\n",
    "    for thread in threads:\n",
    "        thread.join()\n",
    "\n",
    "    print(f\"{thread_count=}, {thread_visits=}\")"
   ],
   "outputs": [
    {
     "output_type": "stream",
     "name": "stdout",
     "text": [
      "Overwriting test_thread2.py\n"
     ]
    }
   ],
   "metadata": {}
  },
  {
   "cell_type": "code",
   "execution_count": 17,
   "source": [
    "!python test_thread2.py"
   ],
   "outputs": [
    {
     "output_type": "stream",
     "name": "stdout",
     "text": [
      "thread_count=100, thread_visits=9876748\n"
     ]
    }
   ],
   "metadata": {}
  },
  {
   "cell_type": "markdown",
   "source": [
    "The codes above introduces us to a race condition. This happends in multithreaded applications. The way to avoid this issue is to use thread locking primitives. Python has a few lock classes in the thread module.\n",
    "E.g. below."
   ],
   "metadata": {}
  },
  {
   "cell_type": "code",
   "execution_count": 3,
   "source": [
    "\n",
    "%%writefile test_thread3.py\n",
    "\n",
    "from threading import Lock\n",
    "from threading import Thread\n",
    "\n",
    "thread_visits = 0\n",
    "thread_visits_lock = Lock()\n",
    "\n",
    "def visit_counter():\n",
    "    global thread_visits\n",
    "    for i in range(100_000):\n",
    "        with thread_visits_lock:\n",
    "            thread_visits += 1\n",
    "\n",
    "if __name__ == \"__main__\":\n",
    "    thread_count = 100\n",
    "\n",
    "    threads = [Thread(target=visit_counter) for _ in range(thread_count)]\n",
    "    for thread in threads:\n",
    "        thread.start()\n",
    "\n",
    "    for thread in threads:\n",
    "        thread.join()\n",
    "\n",
    "    print(f\"{thread_count=}, {thread_visits=}\")"
   ],
   "outputs": [
    {
     "output_type": "stream",
     "name": "stdout",
     "text": [
      "Overwriting test_thread3.py\n"
     ]
    }
   ],
   "metadata": {}
  },
  {
   "cell_type": "code",
   "execution_count": 4,
   "source": [
    "!python test_thread3.py"
   ],
   "outputs": [
    {
     "output_type": "stream",
     "name": "stdout",
     "text": [
      "thread_count=100, thread_visits=10000000\n"
     ]
    }
   ],
   "metadata": {}
  },
  {
   "cell_type": "markdown",
   "source": [
    "Though we fixed the race condition issue, we encounted performance issue as `Lock()` made sure only one thread at a time can process a single block of code. This resulted to the protected block not running in parallel. Also, acquiring and releasing lock are operation and takes some efforts.\n",
    "\n",
    "\n",
    "#### When should we use multithreading?\n",
    "\n",
    "* Application responsiveness: Apps that can accepts new inputs and respond within a given time frame even if they did not finish processing previous input.\n",
    "* Multiuser applications and network communication: Apps that are supposed to accept inputs of multiple users simultaneously often communicate with users over the network.\n",
    "* Work delegation and background processing: Apps where much of heavy lifting is done by external applications or services and your code act as a gateway to thos resources.\n"
   ],
   "metadata": {}
  },
  {
   "cell_type": "code",
   "execution_count": 45,
   "source": [
    "# example of multithreading\n",
    "\n",
    "import  requests\n",
    "\n",
    "response = requests.get(\"https://api.vatcomply.com/rates?base=USD\")\n",
    "\n",
    "\n",
    "response.json().get('rates')"
   ],
   "outputs": [
    {
     "output_type": "execute_result",
     "data": {
      "text/plain": [
       "{'EUR': 0.8447372867038352,\n",
       " 'USD': 1.0,\n",
       " 'JPY': 109.90032100016894,\n",
       " 'BGN': 1.6521371853353608,\n",
       " 'CZK': 21.454637607704004,\n",
       " 'DKK': 6.281635411387059,\n",
       " 'GBP': 0.7227149856394661,\n",
       " 'HUF': 296.40141915864166,\n",
       " 'PLN': 3.8296164892718365,\n",
       " 'RON': 4.178577462409191,\n",
       " 'SEK': 8.604747423551276,\n",
       " 'CHF': 0.9174691670890354,\n",
       " 'ISK': 127.38638283493835,\n",
       " 'NOK': 8.671059300557527,\n",
       " 'HRK': 6.32361885453624,\n",
       " 'RUB': 72.88055414766008,\n",
       " 'TRY': 8.470349721236696,\n",
       " 'AUD': 1.3545362392295996,\n",
       " 'BRL': 5.293968575772935,\n",
       " 'CAD': 1.2672748775130935,\n",
       " 'CNY': 6.453961817874641,\n",
       " 'HKD': 7.777665146139551,\n",
       " 'IDR': 14240.969758405136,\n",
       " 'ILS': 3.203750633552965,\n",
       " 'INR': 73.55169792194627,\n",
       " 'KRW': 1168.043588443994,\n",
       " 'MXN': 19.881990201047476,\n",
       " 'MYR': 4.1496029734752495,\n",
       " 'NZD': 1.4036999493157627,\n",
       " 'PHP': 49.9113025848961,\n",
       " 'SGD': 1.3432167595877682,\n",
       " 'THB': 32.68035141071127,\n",
       " 'ZAR': 14.145801655685082}"
      ]
     },
     "metadata": {},
     "execution_count": 45
    }
   ],
   "metadata": {}
  },
  {
   "cell_type": "code",
   "execution_count": 63,
   "source": [
    "%%writefile fetch_rate_sync.py\n",
    "import time\n",
    "import requests\n",
    "from typing import Tuple\n",
    "\n",
    "SYMBOLS: Tuple[str] = ('USD', 'EUR', 'PLN', 'NOK', 'CZK')\n",
    "BASES: Tuple[str] = ('USD', 'EUR', 'PLN', 'NOK', 'CZK')\n",
    "\n",
    "def fetch_rate(base: str):\n",
    "    \"\"\"Fetches value from vatcomply api\n",
    "    Args:\n",
    "        base (str): currency\n",
    "    \"\"\"\n",
    "    try:\n",
    "        response = requests.get(f\"https://api.vatcomply.com/rates?base={base}\")\n",
    "        response.raise_for_status()\n",
    "        rates = response.json().get(\"rates\")\n",
    "        \n",
    "        rates[base] = 1.\n",
    "        \n",
    "        rates_line = \", \".join([f\"{rates[symbol]:7.03} {symbol}\" for symbol in SYMBOLS])\n",
    "        print(f\"1 {base} = {rates_line}\")\n",
    "    except requests.exceptions.RequestException as err:\n",
    "        raise SystemExit(err)\n",
    "    \n",
    "\n",
    "def main():\n",
    "    for base in BASES:\n",
    "        fetch_rate(base)\n",
    "\n",
    "if __name__ == \"__main__\":\n",
    "    started = time.time()\n",
    "    main()\n",
    "    elapsed = time.time() - started\n",
    "    \n",
    "    print()\n",
    "    print(\"time elapsed: {:.2f}s\".format(elapsed))"
   ],
   "outputs": [
    {
     "output_type": "stream",
     "name": "stdout",
     "text": [
      "Overwriting fetch_rate_sync.py\n"
     ]
    }
   ],
   "metadata": {}
  },
  {
   "cell_type": "code",
   "execution_count": 64,
   "source": [
    "!python fetch_rate_sync.py"
   ],
   "outputs": [
    {
     "output_type": "stream",
     "name": "stdout",
     "text": [
      "1 USD =     1.0 USD,   0.845 EUR,    3.83 PLN,    8.67 NOK,    21.5 CZK\n",
      "1 EUR =    1.18 USD,     1.0 EUR,    4.53 PLN,    10.3 NOK,    25.4 CZK\n",
      "1 PLN =   0.261 USD,   0.221 EUR,     1.0 PLN,    2.26 NOK,     5.6 CZK\n",
      "1 NOK =   0.115 USD,  0.0974 EUR,   0.442 PLN,     1.0 NOK,    2.47 CZK\n",
      "1 CZK =  0.0466 USD,  0.0394 EUR,   0.178 PLN,   0.404 NOK,     1.0 CZK\n",
      "\n",
      "time elapsed: 3.12s\n"
     ]
    }
   ],
   "metadata": {}
  },
  {
   "cell_type": "code",
   "execution_count": 65,
   "source": [
    "%%writefile fetch_rate_thread.py\n",
    "import time\n",
    "import requests\n",
    "from typing import Tuple\n",
    "from threading import Thread\n",
    "\n",
    "SYMBOLS: Tuple[str] = ('USD', 'EUR', 'PLN', 'NOK', 'CZK')\n",
    "BASES: Tuple[str] = ('USD', 'EUR', 'PLN', 'NOK', 'CZK')\n",
    "\n",
    "def fetch_rate(base: str):\n",
    "    \"\"\"Fetches value from vatcomply api\n",
    "    Args:\n",
    "        base (str): currency\n",
    "    \"\"\"\n",
    "    try:\n",
    "        response = requests.get(f\"https://api.vatcomply.com/rates?base={base}\")\n",
    "        response.raise_for_status()\n",
    "        rates = response.json().get(\"rates\")\n",
    "        \n",
    "        rates[base] = 1.\n",
    "        \n",
    "        rates_line = \", \".join([f\"{rates[symbol]:7.03} {symbol}\" for symbol in SYMBOLS])\n",
    "        print(f\"1 {base} = {rates_line}\")\n",
    "    except requests.exceptions.RequestException as err:\n",
    "        raise SystemExit(err)\n",
    "    \n",
    "\n",
    "def main():\n",
    "    threads: list = []\n",
    "    for base in BASES:\n",
    "        thread = Thread(target=fetch_rate, args=[base])\n",
    "        thread.start()\n",
    "        threads.append(thread)\n",
    "\n",
    "    while threads:\n",
    "        threads.pop().join()\n",
    "\n",
    "if __name__ == \"__main__\":\n",
    "    started = time.time()\n",
    "    main()\n",
    "    elapsed = time.time() - started\n",
    "    \n",
    "    print()\n",
    "    print(\"time elapsed: {:.2f}s\".format(elapsed))"
   ],
   "outputs": [
    {
     "output_type": "stream",
     "name": "stdout",
     "text": [
      "Overwriting fetch_rate_thread.py\n"
     ]
    }
   ],
   "metadata": {}
  },
  {
   "cell_type": "code",
   "execution_count": 66,
   "source": [
    "!python fetch_rate_thread.py"
   ],
   "outputs": [
    {
     "output_type": "stream",
     "name": "stdout",
     "text": [
      "1 PLN =   0.261 USD,   0.221 EUR,     1.0 PLN,    2.26 NOK,     5.6 CZK\n",
      "1 USD =     1.0 USD,   0.845 EUR,    3.83 PLN,    8.67 NOK,    21.5 CZK\n",
      "1 CZK =  0.0466 USD,  0.0394 EUR,   0.178 PLN,   0.404 NOK,     1.0 CZK1 NOK =   0.115 USD,  0.0974 EUR,   0.442 PLN,     1.0 NOK,    2.47 CZK\n",
      "\n",
      "1 EUR =    1.18 USD,     1.0 EUR,    4.53 PLN,    10.3 NOK,    25.4 CZK\n",
      "\n",
      "time elapsed: 0.74s\n"
     ]
    }
   ],
   "metadata": {}
  },
  {
   "cell_type": "markdown",
   "source": [
    "#### Using a thread pool\n",
    "\n",
    "To avoid unobounded number of threads, we define size of thread workers to handle all parallel work and communicate with main thread through some safe data structure."
   ],
   "metadata": {}
  },
  {
   "cell_type": "code",
   "execution_count": 67,
   "source": [
    "%%writefile fetch_rate_thread_pool.py\n",
    "import time\n",
    "import requests\n",
    "from typing import Tuple\n",
    "from threading import Thread\n",
    "from queue import Queue, Empty\n",
    "\n",
    "THREAD_POOL_SIZE: int = 6\n",
    "\n",
    "SYMBOLS: Tuple[str] = ('USD', 'EUR', 'PLN', 'NOK', 'CZK')\n",
    "BASES: Tuple[str] = ('USD', 'EUR', 'PLN', 'NOK', 'CZK')\n",
    "\n",
    "def fetch_rate(base: str):\n",
    "    \"\"\"Fetches value from vatcomply api\n",
    "    Args:\n",
    "        base (str): currency\n",
    "    \"\"\"\n",
    "    try:\n",
    "        response = requests.get(f\"https://api.vatcomply.com/rates?base={base}\")\n",
    "        response.raise_for_status()\n",
    "        rates = response.json().get(\"rates\")\n",
    "        \n",
    "        rates[base] = 1.\n",
    "        \n",
    "        rates_line = \", \".join([f\"{rates[symbol]:7.03} {symbol}\" for symbol in SYMBOLS])\n",
    "        print(f\"1 {base} = {rates_line}\")\n",
    "    except requests.exceptions.RequestException as err:\n",
    "        raise SystemExit(err)\n",
    "    \n",
    "def worker(work_queue: Queue):\n",
    "    while not work_queue.empty():\n",
    "        try:\n",
    "            item = work_queue.get_nowait()\n",
    "        except Empty:\n",
    "            break\n",
    "        else:\n",
    "            fetch_rate(item)\n",
    "            work_queue.task_done()\n",
    "\n",
    "\n",
    "def main():\n",
    "    work_queue: Queue = Queue()\n",
    "\n",
    "    for base in BASES:\n",
    "        work_queue.put(base)\n",
    "\n",
    "    threads = [Thread(target=worker, args=(work_queue,)) for  _ in range(THREAD_POOL_SIZE)]\n",
    "    for thread in threads:\n",
    "        thread.start()\n",
    "    \n",
    "    work_queue.join()\n",
    "\n",
    "    while threads:\n",
    "        threads.pop().join()\n",
    "\n",
    "if __name__ == \"__main__\":\n",
    "    started = time.time()\n",
    "    main()\n",
    "    elapsed = time.time() - started\n",
    "    \n",
    "    print()\n",
    "    print(\"time elapsed: {:.2f}s\".format(elapsed))"
   ],
   "outputs": [
    {
     "output_type": "stream",
     "name": "stdout",
     "text": [
      "Overwriting fetch_rate_thread_pool.py\n"
     ]
    }
   ],
   "metadata": {}
  },
  {
   "cell_type": "code",
   "execution_count": 68,
   "source": [
    "!python fetch_rate_thread_pool.py"
   ],
   "outputs": [
    {
     "output_type": "stream",
     "name": "stdout",
     "text": [
      "1 EUR =    1.18 USD,     1.0 EUR,    4.53 PLN,    10.3 NOK,    25.4 CZK1 PLN =   0.261 USD,   0.221 EUR,     1.0 PLN,    2.26 NOK,     5.6 CZK1 USD =     1.0 USD,   0.845 EUR,    3.83 PLN,    8.67 NOK,    21.5 CZK\n",
      "\n",
      "\n",
      "1 NOK =   0.115 USD,  0.0974 EUR,   0.442 PLN,     1.0 NOK,    2.47 CZK\n",
      "1 CZK =  0.0466 USD,  0.0394 EUR,   0.178 PLN,   0.404 NOK,     1.0 CZK\n",
      "\n",
      "time elapsed: 1.62s\n"
     ]
    }
   ],
   "metadata": {}
  },
  {
   "cell_type": "code",
   "execution_count": 69,
   "source": [
    "%%writefile fetch_rate_thread_pool_two_way.py\n",
    "# two way queues.\n",
    "import time\n",
    "import requests\n",
    "from typing import Tuple, Dict\n",
    "from threading import Thread\n",
    "from queue import Queue, Empty\n",
    "\n",
    "THREAD_POOL_SIZE: int = 6\n",
    "\n",
    "SYMBOLS: Tuple[str] = ('USD', 'EUR', 'PLN', 'NOK', 'CZK')\n",
    "BASES: Tuple[str] = ('USD', 'EUR', 'PLN', 'NOK', 'CZK')\n",
    "\n",
    "def fetch_rate(base: str) -> Tuple[str, Dict[str, float]]:\n",
    "    \"\"\"Fetches value from vatcomply api\n",
    "    Args:\n",
    "        base (str): currency\n",
    "    \"\"\"\n",
    "    try:\n",
    "        response = requests.get(f\"https://api.vatcomply.com/rates?base={base}\")\n",
    "        response.raise_for_status()\n",
    "        rates = response.json().get(\"rates\")\n",
    "        \n",
    "        rates[base] = 1.\n",
    "        return (base, rates)\n",
    "\n",
    "    except requests.exceptions.RequestException as err:\n",
    "        raise SystemExit(err)\n",
    "\n",
    "\n",
    "def present_results(base: str, rates: Dict[str, float]):\n",
    "    rates_line = \", \".join([f\"{rates[symbol]:7.03} {symbol}\" for symbol in SYMBOLS])\n",
    "    print(f\"1 {base} = {rates_line}\")\n",
    "\n",
    "\n",
    "def worker(work_queue: Queue, results_queue: Queue):\n",
    "    while not work_queue.empty():\n",
    "        try:\n",
    "            item = work_queue.get_nowait()\n",
    "        except Empty:\n",
    "            break\n",
    "        else:\n",
    "            results_queue.put(fetch_rate(item))\n",
    "            work_queue.task_done()\n",
    "\n",
    "\n",
    "def main():\n",
    "    work_queue: Queue = Queue()\n",
    "    result_queue: Queue = Queue()\n",
    "\n",
    "    for base in BASES:\n",
    "        work_queue.put(base)\n",
    "\n",
    "    threads = [Thread(target=worker, args=(work_queue, result_queue)) for  _ in range(THREAD_POOL_SIZE)]\n",
    "    for thread in threads:\n",
    "        thread.start()\n",
    "    \n",
    "    work_queue.join()\n",
    "\n",
    "    while threads:\n",
    "        threads.pop().join()\n",
    "\n",
    "    while not result_queue.empty():\n",
    "        present_results(*result_queue.get())\n",
    "\n",
    "if __name__ == \"__main__\":\n",
    "    started = time.time()\n",
    "    main()\n",
    "    elapsed = time.time() - started\n",
    "    \n",
    "    print()\n",
    "    print(\"time elapsed: {:.2f}s\".format(elapsed))"
   ],
   "outputs": [
    {
     "output_type": "stream",
     "name": "stdout",
     "text": [
      "Overwriting fetch_rate_thread_pool_two_way.py\n"
     ]
    }
   ],
   "metadata": {}
  },
  {
   "cell_type": "code",
   "execution_count": 70,
   "source": [
    "!python fetch_rate_thread_pool_two_way.py"
   ],
   "outputs": [
    {
     "output_type": "stream",
     "name": "stdout",
     "text": [
      "1 EUR =    1.18 USD,     1.0 EUR,    4.53 PLN,    10.3 NOK,    25.4 CZK\n",
      "1 CZK =  0.0466 USD,  0.0394 EUR,   0.178 PLN,   0.404 NOK,     1.0 CZK\n",
      "1 PLN =   0.261 USD,   0.221 EUR,     1.0 PLN,    2.26 NOK,     5.6 CZK\n",
      "1 USD =     1.0 USD,   0.845 EUR,    3.83 PLN,    8.67 NOK,    21.5 CZK\n",
      "1 NOK =   0.115 USD,  0.0974 EUR,   0.442 PLN,     1.0 NOK,    2.47 CZK\n",
      "\n",
      "time elapsed: 0.63s\n"
     ]
    }
   ],
   "metadata": {}
  },
  {
   "cell_type": "markdown",
   "source": [
    "### Dealing with errors in threads\n"
   ],
   "metadata": {}
  },
  {
   "cell_type": "code",
   "execution_count": 71,
   "source": [
    "%%writefile fetch_rate_thread_pool_two_way_err.py\n",
    "# two way queues.\n",
    "import time\n",
    "import requests\n",
    "from typing import Tuple, Dict\n",
    "from threading import Thread\n",
    "from queue import Queue, Empty\n",
    "import random\n",
    "\n",
    "THREAD_POOL_SIZE: int = 6\n",
    "\n",
    "SYMBOLS: Tuple[str] = ('USD', 'EUR', 'PLN', 'NOK', 'CZK')\n",
    "BASES: Tuple[str] = ('USD', 'EUR', 'PLN', 'NOK', 'CZK')\n",
    "\n",
    "def fetch_rate(base: str) -> Tuple[str, Dict[str, float]]:\n",
    "    \"\"\"Fetches value from vatcomply api\n",
    "    Args:\n",
    "        base (str): currency\n",
    "    \"\"\"\n",
    "\n",
    "    response = requests.get(f\"https://api.vatcomply.com/rates?base={base}\")\n",
    "    rand_val = random.randint(0, 5)\n",
    "    if rand_val < 1:\n",
    "        # simulate error by overiding status code\n",
    "        response.status_code = 500\n",
    "    response.raise_for_status()\n",
    "    \n",
    "    rates = response.json().get(\"rates\")\n",
    "    \n",
    "    rates[base] = 1.\n",
    "    return (base, rates)\n",
    "\n",
    "\n",
    "def present_results(base: str, rates: Dict[str, float]):\n",
    "    rates_line = \", \".join([f\"{rates[symbol]:7.03} {symbol}\" for symbol in SYMBOLS])\n",
    "    print(f\"1 {base} = {rates_line}\")\n",
    "\n",
    "\n",
    "def worker(work_queue: Queue, results_queue: Queue):\n",
    "    while not work_queue.empty():\n",
    "        try:\n",
    "            item = work_queue.get_nowait()\n",
    "        except Empty:\n",
    "            break\n",
    "\n",
    "        try:\n",
    "            result = fetch_rate(item)\n",
    "        except Exception as err:\n",
    "            results_queue.put(err)\n",
    "        else:\n",
    "            results_queue.put(result)\n",
    "        finally:\n",
    "            work_queue.task_done()\n",
    "\n",
    "\n",
    "def main():\n",
    "    work_queue: Queue = Queue()\n",
    "    results_queue: Queue = Queue()\n",
    "\n",
    "    for base in BASES:\n",
    "        work_queue.put(base)\n",
    "\n",
    "    threads = [Thread(target=worker, args=(work_queue, results_queue)) for  _ in range(THREAD_POOL_SIZE)]\n",
    "    for thread in threads:\n",
    "        thread.start()\n",
    "    \n",
    "    work_queue.join()\n",
    "\n",
    "    while threads:\n",
    "        threads.pop().join()\n",
    "\n",
    "    while not results_queue.empty():\n",
    "        result = results_queue.get()\n",
    "        if isinstance(result, Exception):\n",
    "            raise result\n",
    "        present_results(*result)\n",
    "\n",
    "if __name__ == \"__main__\":\n",
    "    started = time.time()\n",
    "    main()\n",
    "    elapsed = time.time() - started\n",
    "    \n",
    "    print()\n",
    "    print(\"time elapsed: {:.2f}s\".format(elapsed))"
   ],
   "outputs": [
    {
     "output_type": "stream",
     "name": "stdout",
     "text": [
      "Overwriting fetch_rate_thread_pool_two_way_err.py\n"
     ]
    }
   ],
   "metadata": {}
  },
  {
   "cell_type": "code",
   "execution_count": 72,
   "source": [
    "!python fetch_rate_thread_pool_two_way_err.py"
   ],
   "outputs": [
    {
     "output_type": "stream",
     "name": "stdout",
     "text": [
      "1 PLN =   0.261 USD,   0.221 EUR,     1.0 PLN,    2.26 NOK,     5.6 CZK\n",
      "1 CZK =  0.0466 USD,  0.0394 EUR,   0.178 PLN,   0.404 NOK,     1.0 CZK\n",
      "1 EUR =    1.18 USD,     1.0 EUR,    4.53 PLN,    10.3 NOK,    25.4 CZK\n",
      "Traceback (most recent call last):\n",
      "  File \"/home/emilextrig/workspace/code4all/test_python/fetch_rate_thread_pool_two_way_err.py\", line 79, in <module>\n",
      "    main()\n",
      "  File \"/home/emilextrig/workspace/code4all/test_python/fetch_rate_thread_pool_two_way_err.py\", line 74, in main\n",
      "    raise result\n",
      "  File \"/home/emilextrig/workspace/code4all/test_python/fetch_rate_thread_pool_two_way_err.py\", line 46, in worker\n",
      "    result = fetch_rate(item)\n",
      "  File \"/home/emilextrig/workspace/code4all/test_python/fetch_rate_thread_pool_two_way_err.py\", line 25, in fetch_rate\n",
      "    response.raise_for_status()\n",
      "  File \"/home/emilextrig/miniconda3/envs/ml_3.9/lib/python3.9/site-packages/requests/models.py\", line 943, in raise_for_status\n",
      "    raise HTTPError(http_error_msg, response=self)\n",
      "requests.exceptions.HTTPError: 500 Server Error: OK for url: https://api.vatcomply.com/rates?base=USD\n"
     ]
    }
   ],
   "metadata": {}
  },
  {
   "cell_type": "markdown",
   "source": [
    "### Throttling\n",
    "\n",
    "The last of the issues mentioned in the Using one thread per item section that we\n",
    "haven't tackled yet is potential rate limits that may be imposed by external service\n",
    "providers.\n",
    "\n",
    "The algorithm we will use is sometimes called a token bucket and is very simple. It\n",
    "includes the following functionality:\n",
    "\n",
    "* There is a bucket with a predefined number of tokens\n",
    "* Each token corresponds to a single permission to process one item of work\n",
    "* Each time the worker asks for one or more tokens (permissions), we do the\n",
    "following:\n",
    "\n",
    "        * We check how much time has passed since the last time we refilled the bucket\n",
    "        * If the time difference allows for it, we refill the bucket with the number of tokens that correspond to the time difference\n",
    "        * If the number of stored tokens is bigger than or equal to the amount requested, we decrease the number of stored tokens and return that value\n",
    "        * If the number of stored tokens is less than requested, we return zero\n"
   ],
   "metadata": {}
  },
  {
   "cell_type": "code",
   "execution_count": 78,
   "source": [
    "%%writefile fetch_rate_thread_pool_two_way_throttle.py\n",
    "\n",
    "from threading import Lock\n",
    "import time\n",
    "import time\n",
    "import requests\n",
    "from typing import Tuple, Dict\n",
    "from threading import Thread\n",
    "from queue import Queue, Empty\n",
    "import random\n",
    "\n",
    "class Throttle:\n",
    "    def __init__(self, rate: int) -> None:\n",
    "        self._consume_lock = Lock()\n",
    "        self.rate = rate\n",
    "        self.tokens = 0\n",
    "        self.last = None\n",
    "\n",
    "    def consume(self, amount: int = 1):\n",
    "        with self._consume_lock:\n",
    "            now = time.time()\n",
    "\n",
    "            # time measurement is initialized on first and token request to avoid initial bursts\n",
    "            if self.last is None:\n",
    "                self.last = now\n",
    "\n",
    "            elapsed = now - self.last\n",
    "\n",
    "            # make sure that quant of passed time is big enough to add new tokens.\n",
    "            if elapsed * self.rate > 1:\n",
    "                self.tokens += elapsed * self.rate\n",
    "                self.last = now\n",
    "\n",
    "            # never over-fill the bucket\n",
    "            self.tokens = min(self.rate, self.tokens)\n",
    "\n",
    "            # finally dispatch tokens if available\n",
    "            if self.tokens >= amount:\n",
    "                self.tokens -= amount\n",
    "                return amount \n",
    "            return 0\n",
    "\n",
    "\n",
    "THREAD_POOL_SIZE: int = 6\n",
    "\n",
    "SYMBOLS: Tuple[str] = ('USD', 'EUR', 'PLN', 'NOK', 'CZK')\n",
    "BASES: Tuple[str] = ('USD', 'EUR', 'PLN', 'NOK', 'CZK')\n",
    "\n",
    "def fetch_rate(base: str) -> Tuple[str, Dict[str, float]]:\n",
    "    \"\"\"Fetches value from vatcomply api\n",
    "    Args:\n",
    "        base (str): currency\n",
    "    \"\"\"\n",
    "\n",
    "    response = requests.get(f\"https://api.vatcomply.com/rates?base={base}\")\n",
    "    rand_val = random.randint(0, 5)\n",
    "    # if rand_val < 1:\n",
    "    #     # simulate error by overiding status code\n",
    "    #     response.status_code = 500\n",
    "    response.raise_for_status()\n",
    "    \n",
    "    rates = response.json().get(\"rates\")\n",
    "    \n",
    "    rates[base] = 1.\n",
    "    return (base, rates)\n",
    "\n",
    "\n",
    "def present_results(base: str, rates: Dict[str, float]):\n",
    "    rates_line = \", \".join([f\"{rates[symbol]:7.03} {symbol}\" for symbol in SYMBOLS])\n",
    "    print(f\"1 {base} = {rates_line}\")\n",
    "\n",
    "\n",
    "def worker(work_queue: Queue, results_queue: Queue, throttle: Throttle):\n",
    "    while True:\n",
    "        try:\n",
    "            item = work_queue.get_nowait()\n",
    "        except Empty:\n",
    "            break\n",
    "\n",
    "        while not throttle.consume():\n",
    "            time.sleep(0.1)\n",
    "\n",
    "        try:\n",
    "            result = fetch_rate(item)\n",
    "        except Exception as err:\n",
    "            results_queue.put(err)\n",
    "        else:\n",
    "            results_queue.put(result)\n",
    "        finally:\n",
    "            work_queue.task_done()\n",
    "\n",
    "\n",
    "def main():\n",
    "    work_queue: Queue = Queue()\n",
    "    results_queue: Queue = Queue()\n",
    "    throttle: Throttle = Throttle(10)\n",
    "\n",
    "    for base in BASES:\n",
    "        work_queue.put(base)\n",
    "\n",
    "    threads = [Thread(target=worker, args=(work_queue, results_queue, throttle)) for  _ in range(THREAD_POOL_SIZE)]\n",
    "    for thread in threads:\n",
    "        thread.start()\n",
    "    \n",
    "    work_queue.join()\n",
    "\n",
    "    while threads:\n",
    "        threads.pop().join()\n",
    "\n",
    "    while not results_queue.empty():\n",
    "        result = results_queue.get()\n",
    "        if isinstance(result, Exception):\n",
    "            raise result\n",
    "        present_results(*result)\n",
    "\n",
    "if __name__ == \"__main__\":\n",
    "    started = time.time()\n",
    "    main()\n",
    "    elapsed = time.time() - started\n",
    "    \n",
    "    print()\n",
    "    print(\"time elapsed: {:.2f}s\".format(elapsed))"
   ],
   "outputs": [
    {
     "output_type": "stream",
     "name": "stdout",
     "text": [
      "Overwriting fetch_rate_thread_pool_two_way_throttle.py\n"
     ]
    }
   ],
   "metadata": {}
  },
  {
   "cell_type": "code",
   "execution_count": 79,
   "source": [
    "!python fetch_rate_thread_pool_two_way_throttle.py"
   ],
   "outputs": [
    {
     "output_type": "stream",
     "name": "stdout",
     "text": [
      "1 USD =     1.0 USD,   0.845 EUR,    3.84 PLN,    8.62 NOK,    21.4 CZK\n",
      "1 EUR =    1.18 USD,     1.0 EUR,    4.54 PLN,    10.2 NOK,    25.3 CZK\n",
      "1 PLN =   0.261 USD,    0.22 EUR,     1.0 PLN,    2.25 NOK,    5.57 CZK\n",
      "1 CZK =  0.0468 USD,  0.0395 EUR,    0.18 PLN,   0.403 NOK,     1.0 CZK\n",
      "1 NOK =   0.116 USD,   0.098 EUR,   0.445 PLN,     1.0 NOK,    2.48 CZK\n",
      "\n",
      "time elapsed: 1.13s\n"
     ]
    }
   ],
   "metadata": {}
  },
  {
   "cell_type": "markdown",
   "source": [
    "### Multiprocessing\n",
    "\n",
    "Multithreading is challenging and another approach that allows us to achieve parallelism is multiprocessing. i.e seperate python processes that do not contstrain each other with GIL allow for better resource utilizaiton. This is especially important for CPU-intensive task in applications running multicore processes.\n",
    "Other advantage of using multiple processes over threads is the fact that they do not share a memory context; this introduction of data corruption and deadlocks/race conditions harder in aplications. This process of not sharing memory context results to difficulty in passing data between seperate processes, however there are many good ways to implment reliable interprocess communication.\n"
   ],
   "metadata": {}
  },
  {
   "cell_type": "code",
   "execution_count": 83,
   "source": [
    "%%writefile fork_prog.py\n",
    "import os \n",
    "\n",
    "pid_list = []\n",
    "\n",
    "def main():\n",
    "    pid_list.append(os.getpid())\n",
    "    child_pid = os.fork()\n",
    "    \n",
    "    if child_pid == 0:\n",
    "        pid_list.append(os.getpid())\n",
    "        print()\n",
    "        print(\"PRNT: hey I am the child process\")\n",
    "        print(f\"PRNT: all the pid I know {pid_list}\")\n",
    "    else:\n",
    "        pid_list.append(os.getpid())\n",
    "        print()\n",
    "        print(\"PRNT: hey I am the parent process\")\n",
    "        print(f\"PRNT: the child pid is {child_pid}\")\n",
    "        print(f\"PRNT: all the pid I know {pid_list}\")\n",
    "\n",
    "\n",
    "if __name__==\"__main__\":\n",
    "    main()"
   ],
   "outputs": [
    {
     "output_type": "stream",
     "name": "stdout",
     "text": [
      "Overwriting fork_prog.py\n"
     ]
    }
   ],
   "metadata": {}
  },
  {
   "cell_type": "code",
   "execution_count": 85,
   "source": [
    "!python fork_prog.py"
   ],
   "outputs": [
    {
     "output_type": "stream",
     "name": "stdout",
     "text": [
      "\n",
      "PRNT: hey I am the parent process\n",
      "PRNT: the child pid is 1485708\n",
      "PRNT: all the pid I know [1485706, 1485706]\n",
      "\n",
      "PRNT: hey I am the child process\n",
      "PRNT: all the pid I know [1485706, 1485708]\n"
     ]
    }
   ],
   "metadata": {}
  },
  {
   "cell_type": "code",
   "execution_count": 93,
   "source": [
    "%%writefile os_mutliprocessing.py\n",
    "from multiprocessing import Process\n",
    "import os\n",
    "\n",
    "def work(identifier: int):\n",
    "    print(f\"Hey, I am the process, {identifier}, pid {os.getpid()} \\n\")\n",
    "\n",
    "def main():\n",
    "    processes = [Process(target=work, args=(number,)) for number in range(10)]\n",
    "    for process in processes:\n",
    "        process.start()\n",
    "\n",
    "    while processes:\n",
    "        processes.pop().join()\n",
    "\n",
    "if __name__ == \"__main__\":\n",
    "    main()"
   ],
   "outputs": [
    {
     "output_type": "stream",
     "name": "stdout",
     "text": [
      "Overwriting os_mutliprocessing.py\n"
     ]
    }
   ],
   "metadata": {}
  },
  {
   "cell_type": "code",
   "execution_count": 94,
   "source": [
    "!python os_mutliprocessing.py"
   ],
   "outputs": [
    {
     "output_type": "stream",
     "name": "stdout",
     "text": [
      "Hey, I am the process, 0, pid 1489083 \n",
      "\n",
      "Hey, I am the process, 1, pid 1489084 \n",
      "\n",
      "Hey, I am the process, 2, pid 1489085 \n",
      "\n",
      "Hey, I am the process, 4, pid 1489087 \n",
      "\n",
      "Hey, I am the process, 9, pid 1489092 \n",
      "\n",
      "Hey, I am the process, 8, pid 1489091 \n",
      "\n",
      "Hey, I am the process, 3, pid 1489086 \n",
      "\n",
      "Hey, I am the process, 7, pid 1489090 \n",
      "\n",
      "Hey, I am the process, 5, pid 1489088 \n",
      "\n",
      "Hey, I am the process, 6, pid 1489089 \n",
      "\n"
     ]
    }
   ],
   "metadata": {}
  },
  {
   "cell_type": "markdown",
   "source": [
    "When processes are created, the memoory is forked on POSIX and POSIX-like systems. Beside the memory state that is copied, the `Process` class also provides an extra args in it constructor so that data can be passed along.\n",
    "\n",
    "Communication between processes requires some additional work because thier local memory is not shared by default. To make this work, the multiprocessing module provides the following few ways of communcating between processes:\n",
    "\n",
    "* Using the `multiprocessing.Queue` class, which is function equivalent of queue.Queue as used in threads. \n",
    "* Using `multiprocessing.Pipe`, which is a socket-like two-way communcation channel.\n",
    "* Using `multiprocessing.sharedctypes` module, which allows you to create arbitrary C types in a dedicated pool of memory that is shared between processes.\n"
   ],
   "metadata": {}
  },
  {
   "cell_type": "code",
   "execution_count": 108,
   "source": [
    "%%writefile os_mutliprocessing_queue.py\n",
    "from multiprocessing import Process\n",
    "import os\n",
    "import time\n",
    "import requests\n",
    "from typing import Tuple, Dict\n",
    "\n",
    "from queue import Queue, Empty\n",
    "import random\n",
    "\n",
    "PROCESS_POOL_SIZE: int = 10\n",
    "\n",
    "SYMBOLS: Tuple[str] = ('USD', 'EUR')\n",
    "BASES: Tuple[str] = ('USD', 'EUR')\n",
    "\n",
    "def fetch_rate(base: str) -> Tuple[str, Dict[str, float]]:\n",
    "    \"\"\"Fetches value from vatcomply api\n",
    "    Args:\n",
    "        base (str): currency\n",
    "    \"\"\"\n",
    "\n",
    "    response = requests.get(f\"https://api.vatcomply.com/rates?base={base}\")\n",
    "    \n",
    "    response.raise_for_status()\n",
    "    \n",
    "    rates = response.json().get(\"rates\")\n",
    "    \n",
    "    rates[base] = 1.\n",
    "    return (base, rates)\n",
    "\n",
    "\n",
    "def present_results(base: str, rates: Dict[str, float]):\n",
    "    rates_line = \", \".join([f\"{rates[symbol]:7.03} {symbol}\" for symbol in SYMBOLS])\n",
    "    print(f\"1 {base} = {rates_line}\")\n",
    "\n",
    "\n",
    "def worker(work_queue: Queue, results_queue: Queue):\n",
    "    while not work_queue.empty():\n",
    "        try:\n",
    "            item = work_queue.get_nowait()\n",
    "        except Empty:\n",
    "            break\n",
    "\n",
    "        try:\n",
    "            result = fetch_rate(item)\n",
    "        except Exception as err:\n",
    "            results_queue.put(err)\n",
    "        else:\n",
    "            results_queue.put(result)\n",
    "        finally:\n",
    "            work_queue.task_done()\n",
    "\n",
    "\n",
    "def main():\n",
    "    work_queue: Queue = Queue()\n",
    "    results_queue: Queue = Queue()\n",
    "\n",
    "    for base in BASES:\n",
    "        work_queue.put(base)\n",
    "\n",
    "    processes = [Process(target=worker, args=(work_queue, results_queue)) for  _ in range(10)]\n",
    "    for process in processes:\n",
    "        process.start()\n",
    "    \n",
    "    work_queue.join()\n",
    "\n",
    "    while processes:\n",
    "        processes.pop().join()\n",
    "\n",
    "    while not results_queue.empty():\n",
    "        result = results_queue.get()\n",
    "        if isinstance(result, Exception):\n",
    "            raise result\n",
    "        present_results(*result)\n",
    "\n",
    "\n",
    "if __name__ == \"__main__\":\n",
    "    started = time.time()\n",
    "    main()\n",
    "    elapsed = time.time() - started\n",
    "    \n",
    "    print()\n",
    "    print(\"time elapsed: {:.2f}s\".format(elapsed))"
   ],
   "outputs": [
    {
     "output_type": "stream",
     "name": "stdout",
     "text": [
      "Overwriting os_mutliprocessing_queue.py\n"
     ]
    }
   ],
   "metadata": {}
  },
  {
   "cell_type": "code",
   "execution_count": 2,
   "source": [
    "# !python os_mutliprocessing_queue.py # code not working currently. In a kind of loop \n"
   ],
   "outputs": [],
   "metadata": {}
  },
  {
   "cell_type": "code",
   "execution_count": 3,
   "source": [
    "%%writefile multiprocess_pipe.py\n",
    "def worker(connection):\n",
    "    while True:\n",
    "        instance = connection.recv()\n",
    "        if instance:\n",
    "            print(f\"CHILD: recv: {instance}\")\n",
    "        if instance is None:\n",
    "            break\n",
    "\n",
    "from multiprocessing import Process, Pipe\n",
    "\n",
    "class CustomClass:\n",
    "    pass\n",
    "\n",
    "def main():\n",
    "    parent_conn, child_conn = Pipe()\n",
    "    child = Process(target=worker, args=(child_conn,))\n",
    "\n",
    "    for item in (42, \"some string\",{\"one\":1}, CustomClass, None):\n",
    "        parent_conn.send(item)\n",
    "\n",
    "    child.start()\n",
    "    child.join()\n",
    "    \n",
    "\n",
    "if __name__ == \"__main__\":\n",
    "    main()"
   ],
   "outputs": [
    {
     "output_type": "stream",
     "name": "stdout",
     "text": [
      "Writing multiprocess_pipe.py\n"
     ]
    }
   ],
   "metadata": {}
  },
  {
   "cell_type": "code",
   "execution_count": 4,
   "source": [
    "!python multiprocess_pipe.py"
   ],
   "outputs": [
    {
     "output_type": "stream",
     "name": "stdout",
     "text": [
      "CHILD: recv: 42\n",
      "CHILD: recv: some string\n",
      "CHILD: recv: {'one': 1}\n",
      "CHILD: recv: <class '__main__.CustomClass'>\n"
     ]
    }
   ],
   "metadata": {}
  },
  {
   "cell_type": "markdown",
   "source": [
    "Other way to share a state between processes is to use raw types in a shared memory pool with classes provided in `multiprocess.sharedctypes`. The most basic ones are Values and Array."
   ],
   "metadata": {}
  },
  {
   "cell_type": "code",
   "execution_count": 5,
   "source": [
    "from multiprocessing import Process, Value, Array\n",
    "\n",
    "def f(n, a):\n",
    "    n.values = 3.1515927\n",
    "    for i in range(len(a)):\n",
    "        a[i] = -a[i]\n",
    "\n",
    "\n",
    "num = Value('d', 0.0)\n",
    "arr = Array('i', range(10))\n",
    "\n",
    "p = Process(target=f, args=(num, arr))\n",
    "p.start()\n",
    "p.join()\n",
    "\n",
    "print(num.value)\n",
    "print(arr[:])"
   ],
   "outputs": [
    {
     "output_type": "stream",
     "name": "stdout",
     "text": [
      "0.0\n",
      "[0, -1, -2, -3, -4, -5, -6, -7, -8, -9]\n"
     ]
    }
   ],
   "metadata": {}
  },
  {
   "cell_type": "markdown",
   "source": [
    "### Using process pools\n",
    "\n",
    "Using multiple processes instead of threads adds some overhead. Mostly, it increases the memory footprint because each process has its own and independent memory context. This means allowing unbound numbers of child processes may be more of an issue than allowing an unbounded number of threads in multithreaded applications.\n",
    "The best pattern to control resource usage in applications that rely on multiprocessing is to build a process pool [like a thread pool].\n"
   ],
   "metadata": {}
  },
  {
   "cell_type": "code",
   "execution_count": 19,
   "source": [
    "%%writefile fetch_rate_processpools.py\n",
    "\n",
    "from time import time\n",
    "from multiprocessing import Pool\n",
    "\n",
    "import requests\n",
    "from typing import List, Tuple, Dict\n",
    "\n",
    "SYMBOLS : Tuple[str] = ('USD', 'EUR', 'PLN', 'NOK', 'CZK')\n",
    "BASES: Tuple[str] = ('USD', 'EUR', 'PLN', 'NOK', 'CZK')\n",
    "\n",
    "POOL_SIZE : int = 4\n",
    "\n",
    "def fetch_rate(base: str) -> Tuple[str, Dict[str, float]]:\n",
    "    response = requests.get(f\"https://api.vatcomply.com/rates?base={base}\")\n",
    "    rates = response.json()[\"rates\"]\n",
    "    \n",
    "    rates[base] = 1\n",
    "    return base, rates\n",
    "\n",
    "def present_results(base: str, rates: Dict[str, float]) -> None:\n",
    "    rates_line = \", \".join([f\"{rates[symbol]:7.03} {symbol}\" for symbol in SYMBOLS])\n",
    "    print(f\"1 {base} = {rates_line}\")\n",
    "\n",
    "def main():\n",
    "    with Pool(POOL_SIZE) as pool:\n",
    "        results = pool.map(fetch_rate, BASES)\n",
    "    \n",
    "    for result in results:\n",
    "        print(*result)\n",
    "\n",
    "if __name__ == \"__main__\":\n",
    "    started: time = time()\n",
    "    main()\n",
    "    elapsed: time = time() - started\n",
    "\n",
    "    print()\n",
    "    print(\"time elapsed: {:.2f}s\".format(elapsed))"
   ],
   "outputs": [
    {
     "output_type": "stream",
     "name": "stdout",
     "text": [
      "Writing fetch_rate_processpools.py\n"
     ]
    }
   ],
   "metadata": {}
  },
  {
   "cell_type": "code",
   "execution_count": 21,
   "source": [
    "!python fetch_rate_processpools.py"
   ],
   "outputs": [
    {
     "output_type": "stream",
     "name": "stdout",
     "text": [
      "USD {'EUR': 0.8525876033762468, 'USD': 1, 'JPY': 109.55750703384773, 'BGN': 1.6674908346832635, 'CZK': 21.638673373689144, 'DKK': 6.339926677466109, 'GBP': 0.7332253389035723, 'HUF': 302.90732372751296, 'PLN': 3.949612072640464, 'RON': 4.22073493051411, 'SEK': 8.675760934436013, 'CHF': 0.9224997868530992, 'ISK': 129.67857447352714, 'NOK': 8.633984141870576, 'HRK': 6.388865205899906, 'RUB': 72.80049450080995, 'TRY': 8.655725125756671, 'AUD': 1.379316224742092, 'BRL': 5.255008952169835, 'CAD': 1.2786256287833575, 'CNY': 6.466876971608833, 'HKD': 7.786938357916275, 'IDR': 14233.753943217665, 'ILS': 3.205047318611987, 'INR': 73.85284337965726, 'KRW': 1183.2807570977916, 'MXN': 20.081251598601757, 'MYR': 4.1925142808423566, 'NZD': 1.4234802625969818, 'PHP': 50.29840566118168, 'SGD': 1.3517776451530394, 'THB': 33.440190979623154, 'ZAR': 14.781140762213317}\n",
      "EUR {'EUR': 1, 'USD': 1.1729, 'JPY': 128.5, 'BGN': 1.9558, 'CZK': 25.38, 'DKK': 7.4361, 'GBP': 0.86, 'HUF': 355.28, 'PLN': 4.6325, 'RON': 4.9505, 'SEK': 10.1758, 'CHF': 1.082, 'ISK': 152.1, 'NOK': 10.1268, 'HRK': 7.4935, 'RUB': 85.3877, 'TRY': 10.1523, 'AUD': 1.6178, 'BRL': 6.1636, 'CAD': 1.4997, 'CNY': 7.585, 'HKD': 9.1333, 'IDR': 16694.77, 'ILS': 3.7592, 'INR': 86.622, 'KRW': 1387.87, 'MXN': 23.5533, 'MYR': 4.9174, 'NZD': 1.6696, 'PHP': 58.995, 'SGD': 1.5855, 'THB': 39.222, 'ZAR': 17.3368}\n",
      "PLN {'EUR': 0.21586616297895303, 'USD': 0.253189422558014, 'JPY': 27.738801942795465, 'BGN': 0.42219104155423637, 'CZK': 5.478683216405828, 'DKK': 1.6052023745277926, 'GBP': 0.1856449001618996, 'HUF': 76.69293038316243, 'PLN': 1, 'RON': 1.068645439827307, 'SEK': 2.1966109012412303, 'CHF': 0.2335671883432272, 'ISK': 32.833243389098755, 'NOK': 2.1860334592552615, 'HRK': 1.6175930922827846, 'RUB': 18.43231516459795, 'TRY': 2.191538046411225, 'AUD': 0.3492282784673502, 'BRL': 1.330512682137075, 'CAD': 0.32373448461953586, 'CNY': 1.6373448461953588, 'HKD': 1.9715704263356717, 'IDR': 3603.835941716136, 'ILS': 0.8114840798704802, 'INR': 18.69875876956287, 'KRW': 299.59417161359954, 'MXN': 5.084360496492175, 'MYR': 1.0615002698327036, 'NZD': 0.36041014570965996, 'PHP': 12.735024284943334, 'SGD': 0.34225580140313, 'THB': 8.466702644360497, 'ZAR': 3.742428494333513}\n",
      "NOK {'EUR': 0.09874787692064621, 'USD': 0.11582138484022594, 'JPY': 12.689102184303039, 'BGN': 0.19313109768139985, 'CZK': 2.506221116246001, 'DKK': 0.7342990875696173, 'GBP': 0.08492317415175574, 'HUF': 35.083145712367184, 'PLN': 0.4574495398348936, 'RON': 0.48885136469565904, 'SEK': 1.0048386459691119, 'CHF': 0.10684520282813921, 'ISK': 15.019552079630289, 'NOK': 1, 'HRK': 0.7399672157048623, 'RUB': 8.431854090137062, 'TRY': 1.0025180708614765, 'AUD': 0.15975431528222142, 'BRL': 0.608642414188095, 'CAD': 0.14809219101789312, 'CNY': 0.7490026464431015, 'HKD': 0.9018939842793381, 'IDR': 1648.5730931784967, 'ILS': 0.37121301892009323, 'INR': 8.553738594620215, 'KRW': 137.04921594185726, 'MXN': 2.3258383694750564, 'MYR': 0.48558280996958564, 'NZD': 0.1648694553067109, 'PHP': 5.825630998933523, 'SGD': 0.15656475885768456, 'THB': 3.873089228581586, 'ZAR': 1.7119721925978593}\n",
      "CZK {'EUR': 0.039401103230890466, 'USD': 0.04621355397951143, 'JPY': 5.063041765169425, 'BGN': 0.07706067769897558, 'CZK': 1, 'DKK': 0.2929905437352246, 'GBP': 0.0338849487785658, 'HUF': 13.998423955870765, 'PLN': 0.1825256107171001, 'RON': 0.19505516154452324, 'SEK': 0.4009377462568952, 'CHF': 0.04263199369582349, 'ISK': 5.99290780141844, 'NOK': 0.39900709219858155, 'HRK': 0.2952521670606777, 'RUB': 3.3643695823483055, 'TRY': 0.40001182033096927, 'AUD': 0.0637431048069346, 'BRL': 0.24285263987391648, 'CAD': 0.05908983451536643, 'CNY': 0.2988573680063042, 'HKD': 0.3598620961386919, 'IDR': 657.7923561859733, 'ILS': 0.14811662726556343, 'INR': 3.413002364066194, 'KRW': 54.683609141055946, 'MXN': 0.9280260047281325, 'MYR': 0.19375098502758076, 'NZD': 0.06578408195429472, 'PHP': 2.324468085106383, 'SGD': 0.06247044917257683, 'THB': 1.5453900709219859, 'ZAR': 0.6830890464933018}\n",
      "\n",
      "time elapsed: 2.71s\n"
     ]
    }
   ],
   "metadata": {}
  },
  {
   "cell_type": "code",
   "execution_count": null,
   "source": [],
   "outputs": [],
   "metadata": {}
  },
  {
   "cell_type": "code",
   "execution_count": null,
   "source": [],
   "outputs": [],
   "metadata": {}
  },
  {
   "cell_type": "code",
   "execution_count": null,
   "source": [],
   "outputs": [],
   "metadata": {}
  },
  {
   "cell_type": "code",
   "execution_count": null,
   "source": [],
   "outputs": [],
   "metadata": {}
  },
  {
   "cell_type": "code",
   "execution_count": null,
   "source": [],
   "outputs": [],
   "metadata": {}
  },
  {
   "cell_type": "code",
   "execution_count": null,
   "source": [],
   "outputs": [],
   "metadata": {}
  },
  {
   "cell_type": "code",
   "execution_count": null,
   "source": [],
   "outputs": [],
   "metadata": {}
  },
  {
   "cell_type": "code",
   "execution_count": null,
   "source": [],
   "outputs": [],
   "metadata": {}
  },
  {
   "cell_type": "code",
   "execution_count": null,
   "source": [],
   "outputs": [],
   "metadata": {}
  },
  {
   "cell_type": "code",
   "execution_count": null,
   "source": [],
   "outputs": [],
   "metadata": {}
  },
  {
   "cell_type": "code",
   "execution_count": null,
   "source": [],
   "outputs": [],
   "metadata": {}
  }
 ],
 "metadata": {
  "interpreter": {
   "hash": "8fb32b4a763607e55b4eaa17ff711ea3be1e8d15fb59c66210835a4625460ab3"
  },
  "kernelspec": {
   "name": "python3",
   "display_name": "Python 3.9.5 64-bit ('ml_3.9': conda)"
  },
  "language_info": {
   "codemirror_mode": {
    "name": "ipython",
    "version": 3
   },
   "file_extension": ".py",
   "mimetype": "text/x-python",
   "name": "python",
   "nbconvert_exporter": "python",
   "pygments_lexer": "ipython3",
   "version": "3.9.5"
  },
  "orig_nbformat": 4
 },
 "nbformat": 4,
 "nbformat_minor": 2
}