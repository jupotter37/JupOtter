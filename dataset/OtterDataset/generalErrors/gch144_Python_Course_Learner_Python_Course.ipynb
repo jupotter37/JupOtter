{
  "nbformat": 4,
  "nbformat_minor": 0,
  "metadata": {
    "colab": {
      "provenance": []
    },
    "kernelspec": {
      "name": "python3",
      "display_name": "Python 3"
    },
    "language_info": {
      "name": "python"
    }
  },
  "cells": [
    {
      "cell_type": "markdown",
      "metadata": {
        "id": "ZDKkIZtpM_mL"
      },
      "source": [
        "##1. ARITHMETIC OPERATION"
      ]
    },
    {
      "cell_type": "markdown",
      "metadata": {
        "id": "sufuTFEnNg_Z"
      },
      "source": [
        "###Simple Arithmetic"
      ]
    },
    {
      "cell_type": "code",
      "metadata": {
        "id": "TtfZ-IOgHfGW"
      },
      "source": [
        "a=5\n",
        "b=6\n",
        "c=a+b\n",
        "print(c)"
      ],
      "execution_count": null,
      "outputs": []
    },
    {
      "cell_type": "markdown",
      "metadata": {
        "id": "cHMpw0heNlMR"
      },
      "source": [
        "###Simple Arithmetic - Get input from User (+,-,*,%)"
      ]
    },
    {
      "cell_type": "code",
      "metadata": {
        "id": "Vhx4KcUBKOh2"
      },
      "source": [
        "a = float(input(\"Enter the value of a: \"))\n",
        "b = float(input(\"Enter the value of b: \"))\n",
        "add=a+b\n",
        "print(add)"
      ],
      "execution_count": null,
      "outputs": []
    },
    {
      "cell_type": "code",
      "metadata": {
        "id": "bKxsuv-pNpQe"
      },
      "source": [
        "a = int(input(\"Enter the value of a: \"))\n",
        "b = int(input(\"Enter the value of b: \"))\n",
        "add=a+b\n",
        "sub=a-b\n",
        "mult=a*b\n",
        "div=a/b\n",
        "mod=a%b\n",
        "print(\"ADD:\",add)\n",
        "print(\"Sum: {0}, Diff: {1}, Mult: {2}, Div:{3}, Mod:{4}\".format(add,sub,mult,div,mod)) #Print using Format"
      ],
      "execution_count": null,
      "outputs": []
    },
    {
      "cell_type": "code",
      "metadata": {
        "id": "IjSJ9cjeJSKg"
      },
      "source": [
        "print(\"Sum: %d, Diff: %d, Mult: %d, Div:%15.6f, Mod:%d\"%(add,sub,mult,div,mod)) #Print using PADDING & PRECISION"
      ],
      "execution_count": null,
      "outputs": []
    },
    {
      "cell_type": "code",
      "metadata": {
        "id": "HOKG86Pmd2Jz"
      },
      "source": [
        "print('{0:<4} | {1:^4} | {2:^4} | {3:>4}'.format('Sum','Diff','Mult','Div'))\n",
        "print('{0:<4} | {1:^4} | {2:^4} | {3:>4}'.format(add,sub,mult,div))"
      ],
      "execution_count": null,
      "outputs": []
    },
    {
      "cell_type": "markdown",
      "metadata": {
        "id": "qmmK4KwfS-2c"
      },
      "source": [
        "###Simple Arithmetic - Get input from User (power)"
      ]
    },
    {
      "cell_type": "code",
      "metadata": {
        "id": "8Lbkg5sBTQfB"
      },
      "source": [
        "a=2\n",
        "b=3\n",
        "power=a**b #Power\n",
        "print(power)"
      ],
      "execution_count": null,
      "outputs": []
    },
    {
      "cell_type": "markdown",
      "metadata": {
        "id": "FVME_SkfM_h8"
      },
      "source": [
        "##2. STRINGS"
      ]
    },
    {
      "cell_type": "markdown",
      "metadata": {
        "id": "Zlh0wiu_VdvU"
      },
      "source": [
        "###Create String"
      ]
    },
    {
      "cell_type": "code",
      "metadata": {
        "id": "V-1duhSmVaZY"
      },
      "source": [
        "a = 'Python'\n",
        "b = \"Bootcamp\"\n",
        "print(a+b)"
      ],
      "execution_count": null,
      "outputs": []
    },
    {
      "cell_type": "markdown",
      "metadata": {
        "id": "OrUXHr7eWFWI"
      },
      "source": [
        "###Length of String"
      ]
    },
    {
      "cell_type": "code",
      "metadata": {
        "id": "SDe_zX2FWEZn"
      },
      "source": [
        "a=\"Champ\"\n",
        "print(len(a))"
      ],
      "execution_count": null,
      "outputs": []
    },
    {
      "cell_type": "code",
      "metadata": {
        "id": "e_VcXyr1YdSW"
      },
      "source": [
        "a=\"S\"\n",
        "b=a*5\n",
        "print(b)"
      ],
      "execution_count": null,
      "outputs": []
    },
    {
      "cell_type": "markdown",
      "metadata": {
        "id": "C_SUK4nhWf0v"
      },
      "source": [
        "###String Index"
      ]
    },
    {
      "cell_type": "code",
      "metadata": {
        "id": "aV0n3FvMWlgl"
      },
      "source": [
        "a=\"champ\"\n",
        "print(a[3]) #identifing the element based on index\n",
        "print(a[2:]) #Grab the remaing elements except upto the Index\n",
        "print(a[:2]) #Grab the elements upto the Index\n",
        "print(a[-1]) #Grab the Last element\n",
        "print(a[:-1]) #Grab the elements except last element\n",
        "print(a[::2]) #Grab everything with 2 steps\n",
        "print(a[::-1]) #Print string backwards"
      ],
      "execution_count": null,
      "outputs": []
    },
    {
      "cell_type": "markdown",
      "metadata": {
        "id": "1Ikxg5ypYumu"
      },
      "source": [
        "###String Functions"
      ]
    },
    {
      "cell_type": "code",
      "metadata": {
        "id": "0kuA2ylZYwpO"
      },
      "source": [
        "a=\"Master Class\"\n",
        "print(a.upper()) #Changing to Upper case\n",
        "print(a.lower()) #Changing to Lowerb= a.split() case"
      ],
      "execution_count": null,
      "outputs": []
    },
    {
      "cell_type": "code",
      "metadata": {
        "id": "IARDq5yVdp8a"
      },
      "source": [
        "b= a.split() #Splitting String\n",
        "print(b)\n",
        "print(b[1]) #Printing the splitting string based on Index"
      ],
      "execution_count": null,
      "outputs": []
    },
    {
      "cell_type": "code",
      "metadata": {
        "id": "EBrFZG2eduaB"
      },
      "source": [
        "c=\"ElonMusk,SteveJobs,BillGates\"\n",
        "d=c.split(\",\") #Splitting string based on Delimitter\n",
        "print(d)\n",
        "print(d[1])"
      ],
      "execution_count": null,
      "outputs": []
    },
    {
      "cell_type": "code",
      "metadata": {
        "id": "Zx454moWeA0W"
      },
      "source": [
        "a=\"Master Class\"\n",
        "print(f\"Welcome to Python {a} !\") #Formatting string Literals"
      ],
      "execution_count": null,
      "outputs": []
    },
    {
      "cell_type": "markdown",
      "metadata": {
        "id": "2W2MF7VEex9_"
      },
      "source": [
        "##3. LIST"
      ]
    },
    {
      "cell_type": "markdown",
      "metadata": {
        "id": "HpPAYPkRfBan"
      },
      "source": [
        "###Create List"
      ]
    },
    {
      "cell_type": "code",
      "metadata": {
        "id": "bHrBdmWIezyQ"
      },
      "source": [
        "a = [1,2,3,4,5]\n",
        "b = [\"Champ\",21,99.5]\n",
        "print(a,b)\n",
        "print(len(b)) #Length of List\n",
        "print(b[0]) #Locate list element based on Index\n",
        "print(a[1:]) #print elements except 1st\n",
        "print(a[:2]) #Print elements upto 2nd element\n",
        "print(a+b) #Concatenate 2 list"
      ],
      "execution_count": null,
      "outputs": []
    },
    {
      "cell_type": "code",
      "metadata": {
        "id": "eMPl3oytgQH4"
      },
      "source": [
        "a = [1,2,3,4,5]\n",
        "a.append(6) #inserting new elements to the existing list\n",
        "print(a)"
      ],
      "execution_count": null,
      "outputs": []
    },
    {
      "cell_type": "code",
      "metadata": {
        "id": "kdK761TMhAJx"
      },
      "source": [
        "a = [1,2,3,4,5]\n",
        "a.reverse() #Reverse list\n",
        "print(a)\n",
        "print(min(a)) #Minimum\n",
        "print(max(a)) #Maximum"
      ],
      "execution_count": null,
      "outputs": []
    },
    {
      "cell_type": "code",
      "metadata": {
        "id": "UAMYYkAeAsQI"
      },
      "source": [
        "a = [1,2,3,4,5]\n",
        "from random import shuffle\n",
        "shuffle(a)\n",
        "a"
      ],
      "execution_count": null,
      "outputs": []
    },
    {
      "cell_type": "code",
      "metadata": {
        "id": "mXeXdfb3hS0L"
      },
      "source": [
        "a=[1,2,3]\n",
        "b=[4,5,6]\n",
        "c=[a,b] #Nested List Matrix\n",
        "print(c)\n",
        "print(c[0]) #Printing row\n",
        "print(c[0][0]) #Printing 1st element"
      ],
      "execution_count": null,
      "outputs": []
    },
    {
      "cell_type": "markdown",
      "metadata": {
        "id": "p9h7qc2iiA5W"
      },
      "source": [
        "##4. DICTIONARIES"
      ]
    },
    {
      "cell_type": "markdown",
      "metadata": {
        "id": "ZeI2uhJYiX_C"
      },
      "source": [
        "###Creating Dictionary : Key & Value"
      ]
    },
    {
      "cell_type": "code",
      "metadata": {
        "id": "Wth0bhfMiEyj"
      },
      "source": [
        "a = {\"Name\":\"Elon\",\"Age\":50,\"Company\":[\"SpaceX\",\"Tesla\"]}\n",
        "a"
      ],
      "execution_count": null,
      "outputs": []
    },
    {
      "cell_type": "code",
      "metadata": {
        "id": "asOL47w6icRS"
      },
      "source": [
        "a = {\"Name\":\"Elon\",\"Age\":50,\"Company\":[\"SpaceX\",\"Tesla\"]}\n",
        "print(a[\"Name\"]) #Printing value based on its Key\n",
        "a[\"Age\"]= 51 #Changing values\n",
        "a"
      ],
      "execution_count": null,
      "outputs": []
    },
    {
      "cell_type": "code",
      "metadata": {
        "id": "3VcWsp45kIgR"
      },
      "source": [
        "b={\"Climate\":{\"Condition\":{\"Temperature\":\"38 Degree\",\"Humidity\":\"70 Percentage\"}}}\n",
        "print(b[\"Climate\"][\"Condition\"][\"Humidity\"])"
      ],
      "execution_count": null,
      "outputs": []
    },
    {
      "cell_type": "code",
      "metadata": {
        "id": "eQVX7s6wk1Mv"
      },
      "source": [
        "print(a.keys()) #Printing Keys of the Dictionaries\n",
        "print(a.values()) #Printing Values of the Dictionaries\n",
        "print(a.items()) #Printing Tuple of the all items"
      ],
      "execution_count": null,
      "outputs": []
    },
    {
      "cell_type": "markdown",
      "metadata": {
        "id": "iniC2ZLGlo16"
      },
      "source": [
        "##5. TUPLES"
      ]
    },
    {
      "cell_type": "markdown",
      "metadata": {
        "id": "O7cLAnFxls8O"
      },
      "source": [
        "###Creating Tuples"
      ]
    },
    {
      "cell_type": "code",
      "metadata": {
        "id": "cOW8W-Eolq9b"
      },
      "source": [
        "a = (\"Champ\",21,99.5)\n",
        "a"
      ],
      "execution_count": null,
      "outputs": []
    },
    {
      "cell_type": "code",
      "metadata": {
        "id": "6P9GgeT1lzvb"
      },
      "source": [
        "print(len(a)) #Length of tuple\n",
        "print(a[0]) #Printing elements from tuple via index\n",
        "print(a.index(\"Champ\")) #Getting Index of Elements"
      ],
      "execution_count": null,
      "outputs": []
    },
    {
      "cell_type": "markdown",
      "metadata": {
        "id": "CPDJQZ27nBNB"
      },
      "source": [
        "##6. SETS"
      ]
    },
    {
      "cell_type": "markdown",
      "metadata": {
        "id": "9fRq2c1fnJ-q"
      },
      "source": [
        "###Creating Set"
      ]
    },
    {
      "cell_type": "code",
      "metadata": {
        "id": "mJnSp_RmnFRh"
      },
      "source": [
        "a = set()"
      ],
      "execution_count": null,
      "outputs": []
    },
    {
      "cell_type": "code",
      "metadata": {
        "id": "4Dv5syk4nPn9"
      },
      "source": [
        "a.add(\"Champ\")\n",
        "a"
      ],
      "execution_count": null,
      "outputs": []
    },
    {
      "cell_type": "code",
      "metadata": {
        "id": "oyftaYrmnYUt"
      },
      "source": [
        "a.add(30)\n",
        "a"
      ],
      "execution_count": null,
      "outputs": []
    },
    {
      "cell_type": "code",
      "metadata": {
        "id": "OSR4aGAenoAT"
      },
      "source": [
        "b = [\"Champ\",21,99.5]\n",
        "set(b)"
      ],
      "execution_count": null,
      "outputs": []
    },
    {
      "cell_type": "markdown",
      "metadata": {
        "id": "W_kyyeDnn1pv"
      },
      "source": [
        "##7. BOOLEAN"
      ]
    },
    {
      "cell_type": "markdown",
      "metadata": {
        "id": "3kzjcsHUn-RV"
      },
      "source": [
        "###Creating Boolean"
      ]
    },
    {
      "cell_type": "code",
      "metadata": {
        "id": "3PRhfVm4n4iw"
      },
      "source": [
        "a = True"
      ],
      "execution_count": null,
      "outputs": []
    },
    {
      "cell_type": "code",
      "metadata": {
        "id": "9rfOJjBboBkk"
      },
      "source": [
        "a = 10\n",
        "b = 5\n",
        "c=15\n",
        "print(a<b)\n",
        "print(a>b)\n",
        "print(a==b)\n",
        "print(a!=b)\n",
        "print(a<=b)\n",
        "print(a>=b)\n",
        "print(a<b and c>a)\n",
        "print(a<b or c>a)"
      ],
      "execution_count": null,
      "outputs": []
    },
    {
      "cell_type": "markdown",
      "metadata": {
        "id": "ouleFIQQw8bR"
      },
      "source": [
        "##8.Python Statements"
      ]
    },
    {
      "cell_type": "markdown",
      "metadata": {
        "id": "Llr9gACdx8_a"
      },
      "source": [
        "###If"
      ]
    },
    {
      "cell_type": "code",
      "metadata": {
        "id": "FVnVrqQyxckv"
      },
      "source": [
        "a = True\n",
        "if a:\n",
        "  print(\"Positive\")\n",
        "else:\n",
        "  print(\"negative\")"
      ],
      "execution_count": null,
      "outputs": []
    },
    {
      "cell_type": "code",
      "metadata": {
        "id": "21sn8ZEdz6B4"
      },
      "source": [
        "a=10\n",
        "b=6\n",
        "c=6\n",
        "\n",
        "if a<b:\n",
        "  print(\"a less than b\")\n",
        "elif c==b:\n",
        "  print(\"a is equal to b\")\n",
        "  print(\"a is not less than b\")\n",
        "  if c<a:\n",
        "    print(\"c is less than b\")\n",
        "else:\n",
        "  print(\"a is not less than b\")"
      ],
      "execution_count": null,
      "outputs": []
    },
    {
      "cell_type": "markdown",
      "metadata": {
        "id": "8PXBa4y_0Tas"
      },
      "source": [
        "###For"
      ]
    },
    {
      "cell_type": "code",
      "metadata": {
        "id": "TYnMa0YW0VAh"
      },
      "source": [
        "a = [1,2,3,4,5,6,7,8,9,10]\n",
        "for i in a:\n",
        "  print(i)"
      ],
      "execution_count": null,
      "outputs": []
    },
    {
      "cell_type": "code",
      "metadata": {
        "id": "J_dKeL7XIEOX"
      },
      "source": [
        "a = [i for i in 'Champ']\n",
        "a"
      ],
      "execution_count": null,
      "outputs": []
    },
    {
      "cell_type": "markdown",
      "metadata": {
        "id": "4jtbIiC80zKR"
      },
      "source": [
        "###Odd & Even Number"
      ]
    },
    {
      "cell_type": "code",
      "metadata": {
        "id": "IBPXEpEu025H"
      },
      "source": [
        "a = [1,2,3,4,5,6,7,8,9,10]\n",
        "for i in a:\n",
        "  if i % 2 == 0:\n",
        "    print(i,\"Even Number\")\n",
        "  else:\n",
        "    print(i,\"Odd Number\")"
      ],
      "execution_count": null,
      "outputs": []
    },
    {
      "cell_type": "markdown",
      "metadata": {
        "id": "YQr4SPiO1p1q"
      },
      "source": [
        "###String - For"
      ]
    },
    {
      "cell_type": "code",
      "metadata": {
        "id": "3eUBOYZh1s_H"
      },
      "source": [
        "for a in \"Hello all\":\n",
        "  print(a)"
      ],
      "execution_count": null,
      "outputs": []
    },
    {
      "cell_type": "markdown",
      "metadata": {
        "id": "WYtBZ7Qy19HO"
      },
      "source": [
        "###Dictionary - For"
      ]
    },
    {
      "cell_type": "code",
      "metadata": {
        "id": "wUPeD10P1_9p"
      },
      "source": [
        "a = {\"Name\":\"Elon\",\"Age\":50,\"Company\":[\"SpaceX\",\"Tesla\"]}\n",
        "for k,v in a.items():\n",
        "  print(k)\n",
        "  print(v)"
      ],
      "execution_count": null,
      "outputs": []
    },
    {
      "cell_type": "markdown",
      "metadata": {
        "id": "mX5M0Iub2lqm"
      },
      "source": [
        "###While"
      ]
    },
    {
      "cell_type": "code",
      "metadata": {
        "id": "giMPJG_Z2nnN"
      },
      "source": [
        "a=0\n",
        "while a <11:\n",
        "  print(a)\n",
        "  a+=1 #a=a+1"
      ],
      "execution_count": null,
      "outputs": []
    },
    {
      "cell_type": "markdown",
      "metadata": {
        "id": "mTt9y0-B5f_4"
      },
      "source": [
        "### While - Break & Continue"
      ]
    },
    {
      "cell_type": "code",
      "metadata": {
        "id": "Xzqk3wpc5Nvo"
      },
      "source": [
        "a=0\n",
        "while a < 10:\n",
        "  print(a)\n",
        "  a+=1\n",
        "  if a==5:\n",
        "    print(\"a is equal to 5\")\n",
        "    break\n",
        "  else:\n",
        "    print(\"Continueeee\")\n",
        "    continue"
      ],
      "execution_count": null,
      "outputs": []
    },
    {
      "cell_type": "markdown",
      "metadata": {
        "id": "eG0qdlq92W8g"
      },
      "source": [
        "###Range"
      ]
    },
    {
      "cell_type": "code",
      "metadata": {
        "id": "WnACQSNc2Z9X"
      },
      "source": [
        "for a in range (6):\n",
        "  print(a)"
      ],
      "execution_count": null,
      "outputs": []
    },
    {
      "cell_type": "code",
      "metadata": {
        "id": "rw8UgmgP56NY"
      },
      "source": [
        "for a in range (1,10,1):\n",
        "  print(a)"
      ],
      "execution_count": null,
      "outputs": []
    },
    {
      "cell_type": "code",
      "metadata": {
        "id": "c3WrFlKy6BtS"
      },
      "source": [
        "for a in range (10,0,-3):\n",
        "  print(a)"
      ],
      "execution_count": null,
      "outputs": []
    },
    {
      "cell_type": "code",
      "metadata": {
        "id": "RhySC28sSmf-"
      },
      "source": [
        "a = [i**2 for i in range(0,5)]\n",
        "a"
      ],
      "execution_count": null,
      "outputs": []
    },
    {
      "cell_type": "code",
      "metadata": {
        "id": "CiACxsUxTBJn"
      },
      "source": [
        "a = [i for i in range(10) if i % 2 == 0]\n",
        "a"
      ],
      "execution_count": null,
      "outputs": []
    },
    {
      "cell_type": "markdown",
      "metadata": {
        "id": "N03agy3C6GGH"
      },
      "source": [
        "### Enumerate - To track no. of iteration in the loop, without working with variable increament"
      ]
    },
    {
      "cell_type": "code",
      "metadata": {
        "id": "9AL5CLTl6K7Z"
      },
      "source": [
        "a=0\n",
        "for i,a in enumerate(\"Hello Champ\"):\n",
        "  print(i,a)"
      ],
      "execution_count": null,
      "outputs": []
    },
    {
      "cell_type": "markdown",
      "metadata": {
        "id": "a6ZRJmEw7QTi"
      },
      "source": [
        "### Zip - Creating a tuples by zipping 2 list"
      ]
    },
    {
      "cell_type": "code",
      "metadata": {
        "id": "1dXD3Juc8fdv"
      },
      "source": [
        "a = [\"Name\",\"Age\",\"Country\"]\n",
        "b = [\"Champ\",27,\"India\"]\n",
        "list(zip(a,b))"
      ],
      "execution_count": null,
      "outputs": []
    },
    {
      "cell_type": "markdown",
      "metadata": {
        "id": "ojYkLiPMk3O-"
      },
      "source": [
        "##9. Function"
      ]
    },
    {
      "cell_type": "markdown",
      "metadata": {
        "id": "W4ON4k_lk9ZZ"
      },
      "source": [
        "###Initializing & Calling basic function"
      ]
    },
    {
      "cell_type": "code",
      "metadata": {
        "id": "WnctQ-L7lBut"
      },
      "source": [
        "def welcome():\n",
        "  print(\"Hello guyz Welcome to Python Bootcamp !!!\")"
      ],
      "execution_count": null,
      "outputs": []
    },
    {
      "cell_type": "code",
      "metadata": {
        "id": "ipA0VzrylM6o"
      },
      "source": [
        "welcome()"
      ],
      "execution_count": null,
      "outputs": []
    },
    {
      "cell_type": "markdown",
      "metadata": {
        "id": "52_g9IUblccX"
      },
      "source": [
        "###Initializing & Calling basic function - With Argument"
      ]
    },
    {
      "cell_type": "code",
      "metadata": {
        "id": "UPIgpDmEluT8"
      },
      "source": [
        "def welcome(a):\n",
        "  print(\"Hello {0},Welcome to Python Bootcamp !!!\".format(a))"
      ],
      "execution_count": null,
      "outputs": []
    },
    {
      "cell_type": "code",
      "metadata": {
        "id": "d3EviR9ZmEUz"
      },
      "source": [
        "welcome(\"Champ\")"
      ],
      "execution_count": null,
      "outputs": []
    },
    {
      "cell_type": "markdown",
      "metadata": {
        "id": "QRemRrSpmTW2"
      },
      "source": [
        "###Print & Return"
      ]
    },
    {
      "cell_type": "code",
      "metadata": {
        "id": "GK-KiW9emVCX"
      },
      "source": [
        "def add(a,b):\n",
        "  add = a+b\n",
        "  print(\"Sum of {0} and {1} is {2}\".format(a,b,add))"
      ],
      "execution_count": null,
      "outputs": []
    },
    {
      "cell_type": "code",
      "metadata": {
        "id": "RvSD3iq9nBPN"
      },
      "source": [
        "def addR(a,b):\n",
        "  add = a+b\n",
        "  return add"
      ],
      "execution_count": null,
      "outputs": []
    },
    {
      "cell_type": "code",
      "metadata": {
        "id": "rC2YO9hgmyu2"
      },
      "source": [
        "ans = addR(45,5)\n",
        "final = ans*500\n",
        "final"
      ],
      "execution_count": null,
      "outputs": []
    },
    {
      "cell_type": "markdown",
      "metadata": {
        "id": "z3K7AfUoo_ov"
      },
      "source": [
        "## Practice Project - Extracting Prime no."
      ]
    },
    {
      "cell_type": "code",
      "metadata": {
        "id": "FiqX54lLpHx7"
      },
      "source": [
        "def check(numbers):\n",
        "    primeNumber = []\n",
        "    for number in numbers:\n",
        "      if number>1:\n",
        "        for i in range(2, int(number/2)+1):\n",
        "          if (number % i) == 0:#If number is divisible by any number between 2 and number / 2, it is not prime\n",
        "              print(number, \"is not a prime number\")\n",
        "              break\n",
        "        else:\n",
        "          print(number, \"is a prime number\")\n",
        "          primeNumber.append(number)\n",
        "      else:\n",
        "        pass\n",
        "    return primeNumber"
      ],
      "execution_count": null,
      "outputs": []
    },
    {
      "cell_type": "code",
      "metadata": {
        "id": "ffLIBac3uLkf"
      },
      "source": [
        "check([2,3,4,5,6,7,8,9])"
      ],
      "execution_count": null,
      "outputs": []
    },
    {
      "cell_type": "markdown",
      "metadata": {
        "id": "WvgDGjub0mUy"
      },
      "source": [
        "## 10 Map Function - Map a function to an iterable object"
      ]
    },
    {
      "cell_type": "code",
      "metadata": {
        "id": "K9CKz9vS0s10"
      },
      "source": [
        "def cubeFn(num):\n",
        "    return num**3"
      ],
      "execution_count": null,
      "outputs": []
    },
    {
      "cell_type": "code",
      "metadata": {
        "id": "JyvYXfSO1fOg"
      },
      "source": [
        "a = [1,2,3,4,5]\n",
        "list(map(cubeFn,a))"
      ],
      "execution_count": null,
      "outputs": []
    },
    {
      "cell_type": "markdown",
      "metadata": {
        "id": "vipXo2u627mx"
      },
      "source": [
        "##11. Filter Functions - Yields items of iterable in which function is true"
      ]
    },
    {
      "cell_type": "code",
      "metadata": {
        "id": "2INUpOMM3Imi"
      },
      "source": [
        "def evenFn(num):\n",
        "    return num % 2 == 0"
      ],
      "execution_count": null,
      "outputs": []
    },
    {
      "cell_type": "code",
      "metadata": {
        "id": "286arEjk3RgR"
      },
      "source": [
        "a = [0,1,2,3,4,5,6,7,8,9,10]\n",
        "print(list(map(evenFn,a)))\n",
        "print(list(filter(evenFn,a)))"
      ],
      "execution_count": null,
      "outputs": []
    },
    {
      "cell_type": "markdown",
      "metadata": {
        "id": "hW2mAK7F4j0B"
      },
      "source": [
        "## 12. Lambda Fn - To create anonymous functions, without using def"
      ]
    },
    {
      "cell_type": "code",
      "metadata": {
        "id": "16i6hVjF4o-L"
      },
      "source": [
        "#Normal Fn\n",
        "def cubeFn(num):\n",
        "    return num**3\n",
        "cubeFn(6)"
      ],
      "execution_count": null,
      "outputs": []
    },
    {
      "cell_type": "code",
      "metadata": {
        "id": "vKXjio_j6a6D"
      },
      "source": [
        "# LAMBDA\n",
        "cubefn = lambda num: num**3\n",
        "cubefn(5)"
      ],
      "execution_count": null,
      "outputs": []
    },
    {
      "cell_type": "markdown",
      "metadata": {
        "id": "aTYSC4UtKrE4"
      },
      "source": [
        "##13. *args and **kwargs"
      ]
    },
    {
      "cell_type": "code",
      "metadata": {
        "id": "xhT8LfhQKxyv"
      },
      "source": [
        "#Normal Fn. with Arguements\n",
        "def addR(a,b,c,d):\n",
        "  add = a+b+c\n",
        "  return add\n",
        "addR(10,20,30,40)"
      ],
      "execution_count": null,
      "outputs": []
    },
    {
      "cell_type": "code",
      "metadata": {
        "id": "vYigcSAgLS8Q"
      },
      "source": [
        "#Purpose of args\n",
        "def addR(*argg):\n",
        "  return sum(argg)\n",
        "addR(10,20,30,40,52,75,8,5,26,15)"
      ],
      "execution_count": null,
      "outputs": []
    },
    {
      "cell_type": "markdown",
      "metadata": {
        "id": "7N2de1a0MFeJ"
      },
      "source": [
        "## **Kwargs - dictionary of key/value pairs"
      ]
    },
    {
      "cell_type": "code",
      "metadata": {
        "id": "Lr5Sxec8MJ2o"
      },
      "source": [
        "def func(**kwargs):\n",
        "    if 'name' in kwargs:\n",
        "        print(\"My Name is {0}\".format(kwargs['name']))\n",
        "    if 'age' in kwargs:\n",
        "        print(\"My Age is {0}\".format(kwargs['age']))\n",
        "    else:\n",
        "        print(\"No Key Found\")\n",
        "\n",
        "func(name='champ',age=24,marks=99)"
      ],
      "execution_count": null,
      "outputs": []
    },
    {
      "cell_type": "markdown",
      "metadata": {
        "id": "kt212XUN-uSD"
      },
      "source": [
        "## 14. Object Oriented Programming"
      ]
    },
    {
      "cell_type": "markdown",
      "metadata": {
        "id": "Pa2aHqAsJFSP"
      },
      "source": [
        "##Class"
      ]
    },
    {
      "cell_type": "markdown",
      "metadata": {
        "id": "M-LFDWU4_OVL"
      },
      "source": [
        "### User defined objects created x using Class- Initializing Class"
      ]
    },
    {
      "cell_type": "code",
      "metadata": {
        "id": "45J-c3Gb-0qm"
      },
      "source": [
        "class Student:\n",
        "  print(\"Hello All\")\n",
        "x = Student() #Object Instantiation\n",
        "print(type(x))"
      ],
      "execution_count": null,
      "outputs": []
    },
    {
      "cell_type": "code",
      "metadata": {
        "id": "-3KjafEQoC1k"
      },
      "source": [
        "class Student:\n",
        "  def func():\n",
        "    print(\"Hello all welcome to the session\")\n",
        "Student.func()"
      ],
      "execution_count": null,
      "outputs": []
    },
    {
      "cell_type": "code",
      "metadata": {
        "id": "UOyy7xRKAgAj"
      },
      "source": [
        "class Student:\n",
        "  def func(self):\n",
        "    print(\"Hello all welcome to the session\")\n",
        "x = Student()\n",
        "x.func()"
      ],
      "execution_count": null,
      "outputs": []
    },
    {
      "cell_type": "markdown",
      "metadata": {
        "id": "DmXxSeMuJ7m5"
      },
      "source": [
        "###Class Object attribute - same for any instance of the class"
      ]
    },
    {
      "cell_type": "code",
      "metadata": {
        "id": "wKr-Vc2IKJ-F"
      },
      "source": [
        "class Student:\n",
        "  year = '2021'\n",
        "  def func():\n",
        "    print(\"Hello all welcome to the session\")\n",
        "x = Student()\n",
        "x.year"
      ],
      "execution_count": null,
      "outputs": []
    },
    {
      "cell_type": "code",
      "metadata": {
        "id": "IuUoPpu7_9Dy"
      },
      "source": [
        "class Student:\n",
        "  year = '2021'\n",
        "  def func(self):\n",
        "    print(\"Hello all welcome to the session\", self.year)\n",
        "x = Student()\n",
        "x.func()"
      ],
      "execution_count": null,
      "outputs": []
    },
    {
      "cell_type": "markdown",
      "metadata": {
        "id": "J0rhBerZ_yEZ"
      },
      "source": [
        "### Attribute of an Object (characteristic of an object) Attribute won't take any argument"
      ]
    },
    {
      "cell_type": "code",
      "metadata": {
        "id": "BiaQNBOJ_3X_"
      },
      "source": [
        "class Student:\n",
        "    def __init__(self,name): #__init__ (Method) to initialize attribute of an object (Constructor)\n",
        "        self.name = name #self.name = attribute initialized\n",
        " #(Creating Instance of Student class{Object of certain class})\n",
        "elon = Student(name='Elon Musk !') #name: argument\n",
        "\n",
        "print(elon.name) #accessing class attribute through object"
      ],
      "execution_count": null,
      "outputs": []
    },
    {
      "cell_type": "code",
      "metadata": {
        "id": "s-qEmQigH3Ej"
      },
      "source": [
        "class Student:\n",
        "    def __init__(self,name):\n",
        "        self.name = name\n",
        "elon = Student(name='Elon Musk !')\n",
        "champ = Student(name='I am Champ !')\n",
        "\n",
        "print(elon.name)\n",
        "print(champ.name)"
      ],
      "execution_count": null,
      "outputs": []
    },
    {
      "cell_type": "code",
      "metadata": {
        "id": "oQKTzI4fIA1S"
      },
      "source": [
        "class Student:\n",
        "    def __init__(self,name,age):\n",
        "        self.name = name\n",
        "        self.age = age\n",
        "elon = Student(name='Elon Musk !',age=40)\n",
        "\n",
        "print(elon.name)\n",
        "print(elon.age)"
      ],
      "execution_count": null,
      "outputs": []
    },
    {
      "cell_type": "code",
      "metadata": {
        "id": "_1cWnX5kLSAp"
      },
      "source": [
        "class Student:\n",
        "    Total = 500\n",
        "\n",
        "    def __init__(self, marks):\n",
        "        self.marks=marks\n",
        "        print(\"Initialized...\")\n",
        "\n",
        "    def findLoss(self):\n",
        "        return self.Total - self.marks\n",
        "\n",
        "    def findPercentage(self):\n",
        "        return self.marks/self.Total*100\n",
        "\n",
        "a = Student(marks=450)\n",
        "\n",
        "print('Total Marks: ',a.Total)\n",
        "print('Lossed Marks: ',a.findLoss())\n",
        "print('Percentage is: ',a.findPercentage())"
      ],
      "execution_count": null,
      "outputs": []
    },
    {
      "cell_type": "markdown",
      "source": [],
      "metadata": {
        "id": "clZAmi6YOUMo"
      }
    },
    {
      "cell_type": "markdown",
      "source": [
        "#Class Methods as Alternative Constructors\n",
        "In OOP the construtor is use to initilize the object's attributies and automaticlly execute the object in class , but sometime you need to create an object in diffrent way or with diffrnt values than what u provided by default construtor thhis wher u need to define a claas methods can be used as alternative construtors.\n",
        "One common use case for class methods as alternative constructors is when you want to create an object from data that is stored in a different format, such as a string or a dictionary"
      ],
      "metadata": {
        "id": "wFZFOhHjBDqL"
      }
    },
    {
      "cell_type": "code",
      "source": [
        "class Person:\n",
        "    def __init__(self, name, age):\n",
        "        self.name = name\n",
        "        self.age = age\n",
        "# think if u have name and age in form of string and u have to splint them\n",
        "    @classmethod\n",
        "    def from_string(cls, string):\n",
        "        name, age = string.split(',')\n",
        "        return cls(name, int(age))\n",
        "\n",
        "Person=Person.from_string(\"Gaurav Chauhan , 25\")\n",
        "print(f\"{Person.name}/{Person.age}\")"
      ],
      "metadata": {
        "colab": {
          "base_uri": "https://localhost:8080/"
        },
        "id": "OHg_2X6xZjfq",
        "outputId": "07dad928-8650-410e-94fd-b68a65ccbb16"
      },
      "execution_count": null,
      "outputs": [
        {
          "output_type": "stream",
          "name": "stdout",
          "text": [
            "Gaurav Chauhan /25\n"
          ]
        }
      ]
    },
    {
      "cell_type": "code",
      "source": [
        "class Rectangle:\n",
        "  def __init__(self, width, height):\n",
        "    self.width = width\n",
        "    self.height = height\n",
        "\n",
        "  @classmethod\n",
        "  def square(cls, size):\n",
        "    return cls(size, size)\n",
        "\n",
        "rectangle=Rectangle.square(10)\n",
        "print(f\"{rectangle.width},{rectangle.height}\")\n",
        "rectangle=Rectangle(10,11)\n",
        "print(f\"{rectangle.width},{rectangle.height}\")"
      ],
      "metadata": {
        "id": "J9vr5XSbZ8KW"
      },
      "execution_count": null,
      "outputs": []
    },
    {
      "cell_type": "markdown",
      "source": [
        "##Super keyword in Python\n",
        "The super() keyword in Python is used to refer to the parent class. It is especially useful when a class inherits from multiple parent classes and you want to call a method from one of the parent classes.\n",
        "\n",
        "When a class inherits from a parent class, it can override or extend the methods defined in the parent class. However, sometimes you might want to use the parent class method in the child class. This is where the super() keyword comes in handy.\n",
        "\n",
        "Here's an example of how to use the super() keyword in a simple inheritance scenario:"
      ],
      "metadata": {
        "id": "NiW2Mgi98u7y"
      }
    },
    {
      "cell_type": "code",
      "source": [
        "class emp:\n",
        "  def __init__(self,name,id):\n",
        "    self.name=name\n",
        "    self.id=id\n",
        "\n",
        "class programer(emp):\n",
        "  def __init__(self,name,id,lang):\n",
        "    super().__init__(name,id)\n",
        "    self.lang=lang\n",
        "\n",
        "rhon=emp('Ram','410')\n",
        "cha=programer('Gaurav','415','python')\n",
        "cha.name\n"
      ],
      "metadata": {
        "id": "qWAkN_Y08ui-",
        "colab": {
          "base_uri": "https://localhost:8080/",
          "height": 35
        },
        "outputId": "c95d0dd0-5345-44c9-c23e-211e9eaed1a3"
      },
      "execution_count": null,
      "outputs": [
        {
          "output_type": "execute_result",
          "data": {
            "text/plain": [
              "'Gaurav'"
            ],
            "application/vnd.google.colaboratory.intrinsic+json": {
              "type": "string"
            }
          },
          "metadata": {},
          "execution_count": 3
        }
      ]
    },
    {
      "cell_type": "markdown",
      "source": [
        "#Magic/Dunder Methods in Python\n",
        "\n",
        "`__init__ method`:\n",
        "The init method is a special method that is automatically invoked when you create a new instance of a class. This method is responsible for setting up the object's initial state, and it is where you would typically define any instance variables that you need. Also called \"constructor\", we have discussed this method already\n",
        "\n",
        "`__str__ and __repr__ methods`:The str and repr methods are both used to convert an object to a string representation. The str method is used when you want to print out an object, while the repr method is used when you want to get a string representation of an object that can be used to recreate the object.\n",
        "\n",
        "`__call__ method`:\n",
        "The call method is used to make an object callable, meaning that you can pass it as a parameter to a function and it will be executed when the function is called. This is an incredibly powerful tool that allows you to create objects that behave like functions.\n",
        "\n",
        "\n",
        "`__len__ method`:\n",
        "The len method is used to get the length of an object. This is useful when you want to be able to find the size of a data structure, such as a list or dictionary."
      ],
      "metadata": {
        "id": "hl3tWwP3ddbp"
      }
    },
    {
      "cell_type": "code",
      "source": [
        "class Employee:\n",
        "  def __init__(self,name):\n",
        "    self.name=name\n",
        "  def __len__(self):\n",
        "    i=0\n",
        "    for c in self.name:\n",
        "      i+=1\n",
        "    return i\n",
        "\n",
        "  def __str__(self):\n",
        "    return f\"person(name is {self.name})\"\n",
        "\n",
        "  def __repr__(self):\n",
        "    return f\"employe{self.name}\"\n",
        "\n",
        "\n",
        "pmp=Employee('Gaurav')\n",
        "print(len(pmp))\n",
        "print(str(pmp))\n",
        "print(repr(pmp))\n"
      ],
      "metadata": {
        "id": "TtXtwx15y4PT",
        "colab": {
          "base_uri": "https://localhost:8080/"
        },
        "outputId": "2a25c165-8ca5-4b1f-b402-e4810ac30a59"
      },
      "execution_count": null,
      "outputs": [
        {
          "output_type": "stream",
          "name": "stdout",
          "text": [
            "6\n",
            "person(name is Gaurav)\n",
            "employeGaurav\n"
          ]
        }
      ]
    },
    {
      "cell_type": "markdown",
      "source": [
        "#Method Overriding\n",
        "It feacture in OOP that allows a subclass to provide a diffrent implemantation of a method that is alredy defined in its superclass.When a method in subclass has same name ,same return time ans smae parameter list as a method in it superclass , it is said to override the super class method.\n",
        "\n",
        " By overriding a method, the subclass can provide its own specific implementation of the method while still maintaining the same method signature. This allows for customization and specialization of behavior for specific subclasses."
      ],
      "metadata": {
        "id": "uiRQXh9jtNVI"
      }
    },
    {
      "cell_type": "code",
      "source": [
        "class Animal:\n",
        "  def __init__(self,name):\n",
        "    self.name=name\n",
        "  def make_sound(self):\n",
        "    print(\"Animal make sound\")\n",
        "class Cat(Animal):\n",
        "  def make_sound(self):\n",
        "    print(\"Meaow\")\n",
        "\n",
        "class Dog(Animal):\n",
        "  def make_sound(self):\n",
        "    print(\"Woof!\")\n",
        "\n",
        "ani=Animal('genrealy animal')\n",
        "cat=Cat(\"Mini\")\n",
        "dog = Dog(\"Buddy\")\n",
        "\n",
        "print(ani.name)\n",
        "ani.make_sound()\n",
        "\n",
        "print(cat.name)\n",
        "cat.make_sound()\n",
        "\n",
        "print(dog.name)\n",
        "dog.make_sound()\n"
      ],
      "metadata": {
        "colab": {
          "base_uri": "https://localhost:8080/"
        },
        "id": "3hCOpGZEpal2",
        "outputId": "b09f40f8-6efe-413e-a85c-b7b587cb89ff"
      },
      "execution_count": null,
      "outputs": [
        {
          "output_type": "stream",
          "name": "stdout",
          "text": [
            "genrealy animal\n",
            "Animal make sound\n",
            "Mini\n",
            "Meaow\n",
            "Buddy\n",
            "Woof!\n"
          ]
        }
      ]
    },
    {
      "cell_type": "markdown",
      "metadata": {
        "id": "XrfoEB_4Suri"
      },
      "source": [
        "##Special Methods"
      ]
    },
    {
      "cell_type": "markdown",
      "source": [
        "#Operator Overloading:\n",
        "The Operator overloading is a feature in python that allow devloper to redefine the mathametical opertor `(+,=,-,/)` or compare operator A user-defined type can overload the `<`, `>`, `<=`, and `>=` operators.\n",
        "\n",
        "If a type overloads one of the `<`or `>` operators, it must overload both `<` and `>`. If a type overloads one of the `<=` or `>=` operators, it must overload both `<=` and `>=`.\n",
        "\n",
        "`Operator`\t`Magic Method`\n",
        "\n",
        "`+`\t`__add__(self, other)`\n",
        "\n",
        "`–` `__sub__(self, other)`\n",
        "\n",
        "`*`\t`__mul__(self, other)`\n",
        "\n",
        "`/`\t`__truediv__(self, other)`\n",
        "\n",
        "`//`\t`__floordiv__(self, other)`\n",
        "\n",
        "`%`\t`__mod__(self, other)`\n",
        "\n",
        "`**`\t`__pow__(self, other)`\n",
        "\n",
        "`>>`\t`__rshift__(self, other)`\n",
        "\n",
        "`<<`\t`__lshift__(self, other)`\n",
        "\n",
        "`&`\t`__and__(self, other)`\n",
        "\n",
        "`|`\t`__or__(self, other)`\n",
        "\n",
        "`^`\t`__xor__(self, other)`\n",
        "\n",
        "\n",
        "\n",
        "> `Assigment Operator`\n",
        "\n",
        "`-=`\t`__isub__(self, other)`\n",
        "\n",
        "`+=`\t`__iadd__(self, other)`\n",
        "\n",
        "`*=`\t`__imul__(self, other)`\n",
        "\n",
        "`/=`\t`__idiv__(self, other)`\n",
        "\n",
        "`//=`\t`__ifloordiv__(self, other)`\n",
        "\n",
        "`%=`\t`__imod__(self, other)`\n",
        "\n",
        "`**=`\t`__ipow__(self, other)`\n",
        "\n",
        "`>>=`\t`__irshift__(self, other)`\n",
        "\n",
        "`<<=`\t`__ilshift__(self, other)`\n",
        "\n",
        "`&=`\t`__iand__(self, other)`\n",
        "\n",
        "`|=`\t`__ior__(self, other)`\n",
        "\n",
        "`^=`\t`__ixor__(self, other)`\n",
        "\n",
        "\n",
        "> `Unary Operators:`\n",
        "\n",
        "\n",
        "\n",
        "`–`\t`__neg__(self)`\n",
        "\n",
        "`+`\t`__pos__(self)`\n",
        "\n",
        "`~`\t`__invert__(self)`\n"
      ],
      "metadata": {
        "id": "RZdzhbwaapf0"
      }
    },
    {
      "cell_type": "code",
      "source": [
        "class student:\n",
        "  def __init__(self,m1,m2):\n",
        "    self.m1=m1\n",
        "    self.m2=m2\n",
        "  def __add__(self,marks):\n",
        "   return student(self.m1+marks.m1,self.m2+marks.m2)\n",
        "p1 = student(1, 2)\n",
        "p2 = student(3, 4)\n",
        "p3 = p1 + p2\n",
        "print(p3.m1,p3.m2) # prints 4, 6\n",
        "print(type(p1+p2))"
      ],
      "metadata": {
        "colab": {
          "base_uri": "https://localhost:8080/"
        },
        "id": "Yu2n0hupeiI5",
        "outputId": "a19dd05f-20f6-45a4-a1e8-9413f1437d61"
      },
      "execution_count": null,
      "outputs": [
        {
          "output_type": "stream",
          "name": "stdout",
          "text": [
            "4 6\n",
            "<class '__main__.student'>\n"
          ]
        }
      ]
    },
    {
      "cell_type": "code",
      "source": [
        "class Vector:\n",
        "  def __init__(self, i, j, k):\n",
        "    self.i = i\n",
        "    self.j = j\n",
        "    self.k = k\n",
        "\n",
        "  # def __str__(self):\n",
        "  #   return f\"{self.i}i + {self.j}j + {self.k}k\"\n",
        "\n",
        "  def __add__(self, x):\n",
        "    return Vector(self.i + x.i,  self.j+x.j, self.k+x.k)\n",
        "v1 = Vector(3, 5, 6)\n",
        "print(v1)\n",
        "\n",
        "v2 = Vector(1, 2, 9)\n",
        "print(v2)\n",
        "\n",
        "print(v1 + v2)\n",
        "print(type(v1 + v2))"
      ],
      "metadata": {
        "colab": {
          "base_uri": "https://localhost:8080/"
        },
        "id": "xm7vYy-xKWfh",
        "outputId": "1db5c9f3-6ac1-46a6-d9f0-93abc6e79c37"
      },
      "execution_count": null,
      "outputs": [
        {
          "output_type": "stream",
          "name": "stdout",
          "text": [
            "<__main__.Vector object at 0x7fc9faf5a860>\n",
            "<__main__.Vector object at 0x7fc9faf5ae90>\n",
            "<__main__.Vector object at 0x7fc9faf5aa40>\n",
            "<class '__main__.Vector'>\n"
          ]
        }
      ]
    },
    {
      "cell_type": "markdown",
      "source": [
        "#Inheritance in OOP:\n",
        "Its a feature in a OOP in which Child class will inherit all the public and porteced properties and method from parent class.`Child class( have its own method and propeties)`\n"
      ],
      "metadata": {
        "id": "f0-2BrLnh_es"
      }
    },
    {
      "cell_type": "markdown",
      "source": [
        "#Single inheritance Clas:\n",
        "\n",
        "It means the child class tha inherit the properties of only one parent class."
      ],
      "metadata": {
        "id": "88R1KWC4EgT6"
      }
    },
    {
      "cell_type": "code",
      "source": [
        "class animal:\n",
        "  def __init__(self,name,species):\n",
        "    self.name=name\n",
        "    self.species=species\n",
        "\n",
        "  def make_sound(self):\n",
        "    print(\"Sound make by Animals\")\n"
      ],
      "metadata": {
        "id": "DyIxNl9TiHlK"
      },
      "execution_count": null,
      "outputs": []
    },
    {
      "cell_type": "code",
      "source": [
        "class Dog(animal):\n",
        "  def __init__(self,name,bread):\n",
        "    animal.__init__(self,name,species='Dog')\n",
        "    self.bread=bread\n",
        "\n",
        "  def make_sound(self):\n",
        "    print(\"Bark!\")"
      ],
      "metadata": {
        "id": "dnOAwjrPHesF"
      },
      "execution_count": null,
      "outputs": []
    },
    {
      "cell_type": "code",
      "source": [
        "dog=Dog('kity','labra')\n",
        "\n",
        "print(dog.name,dog.bread,dog.species)\n",
        "dog.make_sound()"
      ],
      "metadata": {
        "colab": {
          "base_uri": "https://localhost:8080/"
        },
        "id": "qdWqKd-zJGJK",
        "outputId": "3ba3c719-14ce-4c00-f27b-a1e1943736eb"
      },
      "execution_count": null,
      "outputs": [
        {
          "output_type": "stream",
          "name": "stdout",
          "text": [
            "kity labra Dog\n",
            "Bark!\n"
          ]
        }
      ]
    },
    {
      "cell_type": "markdown",
      "source": [
        "#Multiple Inheritance:\n",
        "It allow child class to inherit all atribute and methods from multiple parent class."
      ],
      "metadata": {
        "id": "Et9zMOBiKHzX"
      }
    },
    {
      "cell_type": "code",
      "source": [
        "class animal:\n",
        "  def __init__(self,name,species):\n",
        "    self.name=name\n",
        "    self.species=species\n",
        "\n",
        "  def make_sound(self):\n",
        "    print(\"Sound make by Animals\")\n",
        "\n"
      ],
      "metadata": {
        "id": "2qzCTyL16xYR"
      },
      "execution_count": null,
      "outputs": []
    },
    {
      "cell_type": "code",
      "source": [
        "class mammal:\n",
        "  def __init__(self,name,colour):\n",
        "     self.name = name\n",
        "     self.colour = colour"
      ],
      "metadata": {
        "id": "payeRnN36_wF"
      },
      "execution_count": null,
      "outputs": []
    },
    {
      "cell_type": "code",
      "source": [
        "class Dog(animal,mammal):\n",
        "  def __init__(self,name,bread,colour):\n",
        "    animal.__init__(self,name,species='Dog')\n",
        "    mammal.__init__(self,name,colour)\n",
        "    self.bread=bread\n",
        "\n",
        "  def make_sound(self):\n",
        "    print(\"Bark!\")"
      ],
      "metadata": {
        "id": "XSs-IhAX6-Jw"
      },
      "execution_count": null,
      "outputs": []
    },
    {
      "cell_type": "code",
      "source": [
        "dog=Dog('kity','labra','black')\n",
        "\n",
        "print(dog.name,dog.bread,dog.colour,dog.species)\n",
        "dog.make_sound()"
      ],
      "metadata": {
        "colab": {
          "base_uri": "https://localhost:8080/"
        },
        "id": "G7nQKTMt8H6l",
        "outputId": "0e6bd846-4afa-4f89-c4e1-c28a00e2620a"
      },
      "execution_count": null,
      "outputs": [
        {
          "output_type": "stream",
          "name": "stdout",
          "text": [
            "kity labra black Dog\n",
            "Bark!\n"
          ]
        }
      ]
    },
    {
      "cell_type": "markdown",
      "source": [
        "#Abstract Class\n",
        "Abstract class is class that cannot be instantiated and serves as bluesprint of the the other class. It serves as a blueprint for its derived classes, providing common attributes and methods that the derived classes must implement.\n",
        "`from abc import ABC, abstractmethod`"
      ],
      "metadata": {
        "id": "-019q5BfN9Q3"
      }
    },
    {
      "cell_type": "code",
      "source": [
        "from abc import ABC, abstractmethod\n",
        "\n",
        "class AbstractClass(ABC):\n",
        "    @abstractmethod\n",
        "    def abstract_method(self):\n",
        "        pass\n",
        "\n",
        "    @abstractmethod\n",
        "    def another_abstract_method(self):\n",
        "        pass\n",
        "\n",
        "class ConcreteClass(AbstractClass):\n",
        "    def abstract_method(self):\n",
        "        print(\"Implementation of abstract_method\")\n",
        "\n",
        "    def another_abstract_method(self):\n",
        "        print(\"Implementation of another_abstract_method\")\n",
        "\n",
        "# Attempting to instantiate the abstract class will raise an error\n",
        "# abstract_obj = AbstractClass()\n",
        "\n",
        "# Instantiate the derived class instead\n",
        "concrete_obj = ConcreteClass()\n",
        "concrete_obj.abstract_method()\n",
        "concrete_obj.another_abstract_method()\n"
      ],
      "metadata": {
        "colab": {
          "base_uri": "https://localhost:8080/"
        },
        "id": "50YY_rQhJDbk",
        "outputId": "f472a257-abe0-43ea-be9a-cd383120d59c"
      },
      "execution_count": null,
      "outputs": [
        {
          "output_type": "stream",
          "name": "stdout",
          "text": [
            "Implementation of abstract_method\n",
            "Implementation of another_abstract_method\n"
          ]
        }
      ]
    },
    {
      "cell_type": "markdown",
      "source": [
        "#Multilevel Inheritance\n",
        "\n",
        "![image.png](data:image/png;base64,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)\n",
        "\n",
        "\n",
        "Where a drived class inherit form another drived class . In thia type of inhertance allows you to build a hirarchy of classes where one class build from another"
      ],
      "metadata": {
        "id": "AC-4DriKyrK8"
      }
    },
    {
      "cell_type": "code",
      "source": [
        "class BaseClass:\n",
        "  pass\n",
        "    # Base class code\n",
        "\n",
        "class DerivedClass1(BaseClass):\n",
        "  pass\n",
        "    # Derived class 1 code\n",
        "\n",
        "class DerivedClass2(DerivedClass1):\n",
        "  pass\n",
        "    # Derived class 2 code"
      ],
      "metadata": {
        "id": "T0jLRAfnbML9"
      },
      "execution_count": null,
      "outputs": []
    },
    {
      "cell_type": "code",
      "source": [
        "class Animal:\n",
        "    def __init__(self, name, species):\n",
        "        self.name = name\n",
        "        self.species = species\n",
        "\n",
        "    def show_details(self):\n",
        "        print(f\"Name: {self.name}\")\n",
        "        print(f\"Species: {self.species}\")\n",
        "\n",
        "class Dog(Animal):\n",
        "    def __init__(self, name, breed):\n",
        "        Animal.__init__(self, name, species=\"Dog\")\n",
        "        self.breed = breed\n",
        "\n",
        "    def show_details(self):\n",
        "        Animal.show_details(self)\n",
        "        print(f\"Breed: {self.breed}\")\n",
        "\n",
        "class GoldenRetriever(Dog):\n",
        "    def __init__(self, name, color):\n",
        "        Dog.__init__(self, name, breed=\"Golden Retriever\")\n",
        "        self.color = color\n",
        "\n",
        "    def show_details(self):\n",
        "        Dog.show_details(self)\n",
        "        print(f\"Color: {self.color}\")"
      ],
      "metadata": {
        "id": "IJU8642AdUMs"
      },
      "execution_count": null,
      "outputs": []
    },
    {
      "cell_type": "code",
      "source": [
        "dog = GoldenRetriever(\"Max\", \"Golden\")\n",
        "dog.show_details()"
      ],
      "metadata": {
        "colab": {
          "base_uri": "https://localhost:8080/"
        },
        "id": "k8kRSEHEfkHq",
        "outputId": "86c5a85f-6284-4013-c42c-82d78adafd3b"
      },
      "execution_count": null,
      "outputs": [
        {
          "output_type": "stream",
          "name": "stdout",
          "text": [
            "Name: Max\n",
            "Species: Dog\n",
            "Breed: Golden Retriever\n",
            "Color: Golden\n"
          ]
        }
      ]
    },
    {
      "cell_type": "markdown",
      "source": [
        "\n",
        "# Hybrid inheritance\n",
        "\n",
        "![image.png](data:image/png;base64,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)\n",
        "\n",
        "\n",
        "Hybrid inheritance is a combination of multiple inheritance and single inheritance in object-oriented programming."
      ],
      "metadata": {
        "id": "MrQdfHoUigmP"
      }
    },
    {
      "cell_type": "code",
      "source": [
        "class Human:\n",
        "  def __init__(self,name,age):\n",
        "    self.name =  name\n",
        "    self.age = age\n",
        "\n",
        "  def show_details(self):\n",
        "    print(\"Nmae:\",self.name)\n",
        "    print(\"Age:\",self.age)\n",
        "\n",
        "class Person(Human):\n",
        "  def __init__(self,name,age,add):\n",
        "    Human.__init__(self,name,age)\n",
        "    self.add=add\n",
        "  def show_details(self):\n",
        "    Human.show_details(self)\n",
        "    print(\"Address:\",self.add)\n",
        "\n",
        "class Program:\n",
        "  def __init__(self, program_name, duration):\n",
        "    self.program_name = program_name\n",
        "    self.duration = duration\n",
        "\n",
        "  def show_details(self):\n",
        "    print(\"Program Name:\", self.program_name)\n",
        "    print(\"Duration:\", self.duration)\n",
        "\n",
        "class Student(Person):\n",
        "  def __init__(self, name, age, add, program):\n",
        "    Person.__init__(self, name, age, add)\n",
        "    self.program = program\n",
        "\n",
        "  def show_details(self):\n",
        "    Person.show_details(self)\n",
        "    self.program.show_details()"
      ],
      "metadata": {
        "id": "C6Ct-_QA0_jK"
      },
      "execution_count": null,
      "outputs": []
    },
    {
      "cell_type": "code",
      "source": [
        "program = Program(\"Computer Science\", 4)\n",
        "student = Student(\"John Doe\", 25, \"123 Main St.\", program)\n",
        "student.show_details()"
      ],
      "metadata": {
        "colab": {
          "base_uri": "https://localhost:8080/"
        },
        "id": "x26Owv8fIIf-",
        "outputId": "c0e8001a-0d50-4302-eaa3-7b35b55f82d2"
      },
      "execution_count": null,
      "outputs": [
        {
          "output_type": "stream",
          "name": "stdout",
          "text": [
            "Nmae: John Doe\n",
            "Age: 25\n",
            "Address: 123 Main St.\n",
            "Program Name: Computer Science\n",
            "Duration: 4\n"
          ]
        }
      ]
    },
    {
      "cell_type": "markdown",
      "source": [
        "#Hierarchical Inheritance\n",
        "![image.png](data:image/png;base64,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)\n",
        "\n",
        "\n",
        "\n",
        "Hierarchical Inheritance is a type of inheritance in Object-Oriented Programming where multiple subclasses inherit from a single base class."
      ],
      "metadata": {
        "id": "n70zgl8DKPZl"
      }
    },
    {
      "cell_type": "code",
      "source": [
        "class Animal:\n",
        "    def __init__(self, name, species):\n",
        "        self.name = name\n",
        "        self.species = species\n",
        "\n",
        "    def show_details(self):\n",
        "        print(f\"Name: {self.name}\")\n",
        "        print(f\"Species: {self.species}\")\n",
        "\n",
        "class Dog(Animal):\n",
        "    def __init__(self, name,species, breed):\n",
        "        Animal.__init__(self, name,species )\n",
        "        self.breed = breed\n",
        "\n",
        "    def show_details(self):\n",
        "        Animal.show_details(self)\n",
        "        print(f\"Breed: {self.breed}\")\n",
        "\n",
        "class Cat(Animal):\n",
        "  def __init__(self,name,species,bread):\n",
        "    Animal. __init__(self,name,species)\n",
        "    self.bread=bread\n",
        "\n",
        "  def show_details(self):\n",
        "     super().show_details()\n",
        "     print(f\"Bread:{self.bread}\")\n"
      ],
      "metadata": {
        "id": "gPdkZtTqQ0j6"
      },
      "execution_count": null,
      "outputs": []
    },
    {
      "cell_type": "code",
      "source": [
        "dog=Dog('MONU','Dog','GoldenRetiver')\n",
        "dog.show_details()\n",
        "\n",
        "cat=Cat(\"Bittu\",'cat','Persion')\n",
        "cat.show_details()"
      ],
      "metadata": {
        "colab": {
          "base_uri": "https://localhost:8080/"
        },
        "id": "fa49fPFQwKFR",
        "outputId": "e5b4eb5f-64ae-4b21-dd17-d0664e2cc314"
      },
      "execution_count": null,
      "outputs": [
        {
          "output_type": "stream",
          "name": "stdout",
          "text": [
            "Name: MONU\n",
            "Species: Dog\n",
            "Breed: GoldenRetiver\n",
            "Name: Bittu\n",
            "Species: cat\n",
            "Bread:Persion\n"
          ]
        }
      ]
    },
    {
      "cell_type": "markdown",
      "source": [
        "#Iterator\n",
        "An iterator in Python is an object that implements the iterator protocol, which consists of the `__iter__()` and `__next__()` methods. Iterators are used to loop over a sequence of elements or values, allowing you to traverse through a collection of items.\n",
        "\n",
        "To create your own iterator in Python, you can define a class with the __iter__() and __next__() methods."
      ],
      "metadata": {
        "id": "9zFVu3qIM2t7"
      }
    },
    {
      "cell_type": "code",
      "source": [
        "class Normal:\n",
        "\n",
        "    def __init__(self,num):\n",
        "        self.data = 1\n",
        "        self.num = num\n",
        "\n",
        "\n",
        "    def __iter__(self):\n",
        "        return self\n",
        "\n",
        "    def __next__(self):\n",
        "      if self.data<=self.num:\n",
        "        val=self.data\n",
        "        self.data+=1\n",
        "        return val\n",
        "      else:\n",
        "        raise StopIteration  #When there are no more values to iterate over, it raises a StopIteration exception.\n"
      ],
      "metadata": {
        "id": "7Bd6YjHV0nsQ"
      },
      "execution_count": null,
      "outputs": []
    },
    {
      "cell_type": "code",
      "source": [
        "rev = Normal(10)\n",
        "#iter(rev)\n",
        "for char in rev:\n",
        "    print(char)"
      ],
      "metadata": {
        "id": "xfFEZpIC0neE"
      },
      "execution_count": null,
      "outputs": []
    },
    {
      "cell_type": "code",
      "source": [
        "dic= {'one':1, 'two':2}\n",
        "for key in dic:\n",
        "  print(key)\n",
        "  print(dic[key])\n"
      ],
      "metadata": {
        "colab": {
          "base_uri": "https://localhost:8080/"
        },
        "id": "uuGmaECtK-p-",
        "outputId": "3ef29301-f0c8-48e2-9ed0-35068e813dec"
      },
      "execution_count": null,
      "outputs": [
        {
          "output_type": "stream",
          "name": "stdout",
          "text": [
            "one\n",
            "1\n",
            "two\n",
            "2\n"
          ]
        }
      ]
    },
    {
      "cell_type": "markdown",
      "source": [
        "#Generator\n",
        "A generator in Python is a type of iterator that is defined using a special function called a generator function. Generator functions are defined using the `yield` keyword instead of `return`, allowing them to `yield` a sequence of values one at a time.\n",
        "\n",
        "They are useful when you want to generate a sequence of values dynamically without storing them all in memory at once.\n",
        "\n",
        "The advantage of using generators is that they are memory-efficient and can generate an infinite sequence of values without consuming excessive memory. The values are generated on the fly as requested, saving memory resources."
      ],
      "metadata": {
        "id": "AswbPe0WOHmX"
      }
    },
    {
      "cell_type": "code",
      "source": [
        "def number_generator(n):\n",
        "    for i in range(n):\n",
        "        yield i\n"
      ],
      "metadata": {
        "id": "FBknsKAJPw-A"
      },
      "execution_count": null,
      "outputs": []
    },
    {
      "cell_type": "code",
      "source": [
        "n=number_generator(5)\n",
        "for value in n:\n",
        "  print(value)\n",
        "# print(next(n))  # 0\n",
        "# print(next(n))  # 1"
      ],
      "metadata": {
        "id": "T3Zhfm3tPyh0"
      },
      "execution_count": null,
      "outputs": []
    },
    {
      "cell_type": "markdown",
      "source": [
        "#Creating Command Line Utilities in Python\n",
        "\n",
        "Command line utilities are programs that can be run from the terminal or command line interface, and they are an essential part of many development workflows. In Python, you can create your own command line utilities using the built-in `argparse` module."
      ],
      "metadata": {
        "id": "WnQLrFE0RBOs"
      }
    },
    {
      "cell_type": "code",
      "source": [
        "import argparse\n",
        "\n",
        "parser = argparse.ArgumentParser()\n",
        "\n",
        "# Add command line arguments\n",
        "parser.add_argument(\"arg1\", help=\"description of argument 1\")\n",
        "parser.add_argument(\"arg2\", help=\"description of argument 2\")\n",
        "\n",
        "# Parse the arguments\n",
        "args = parser.parse_args()\n",
        "\n",
        "# Use the arguments in your code\n",
        "print(args.arg1)\n",
        "print(args.arg2)"
      ],
      "metadata": {
        "id": "UzO3k_QQXDE5"
      },
      "execution_count": null,
      "outputs": []
    },
    {
      "cell_type": "markdown",
      "source": [
        "# Walrus Operator\n",
        "\n",
        "The Walrus Operator is represented by the `:=` syntax and can be used in a variety of contexts including while loops and if statements."
      ],
      "metadata": {
        "id": "PGsPFJKm3X0a"
      }
    },
    {
      "cell_type": "code",
      "source": [
        "names = [\"John\", \"Jane\", \"Jim\"]\n",
        "\n",
        "if (name := input(\"Enter a name: \")) in names:\n",
        "    print(f\"Hello, {name}!\")\n",
        "else:\n",
        "    print(\"Name not found.\")"
      ],
      "metadata": {
        "id": "vwRIZ8XY3589"
      },
      "execution_count": null,
      "outputs": []
    },
    {
      "cell_type": "code",
      "source": [
        "happy = True\n",
        "print(happy)\n",
        "print(happy := True)"
      ],
      "metadata": {
        "id": "YUQDh1Gq38k6"
      },
      "execution_count": null,
      "outputs": []
    },
    {
      "cell_type": "markdown",
      "source": [
        "#Shutil Module in Python\n",
        "The following are some of the most commonly used functions in the shutil module:\n",
        "\n",
        "* `shutil.copy(src, dst)`: This function copies the file located at src to a new location specified by dst. If the destination location already exists, the original file will be overwritten.\n",
        "\n",
        "* `shutil.copy2(src, dst)`: This function is similar to shutil.copy, but it also preserves more metadata about the original file, such as the timestamp.\n",
        "\n",
        "* `shutil.copytree(src, dst)`: This function recursively copies the directory located at src to a new location specified by dst. If the destination location already exists, the original directory will be merged with it.\n",
        "\n",
        "* `shutil.move(src, dst)`: This function moves the file located at src to a new location specified by dst. This function is equivalent to renaming a file in most cases.\n",
        "\n",
        "* `shutil.rmtree(path)`: This function recursively deletes the directory located at path, along with all of its contents. This function is similar to using the rm -rf command in a shell.\n",
        "\n"
      ],
      "metadata": {
        "id": "uZusSYyp7aY3"
      }
    },
    {
      "cell_type": "code",
      "source": [
        "import shutil\n",
        "\n",
        "# Copying a file\n",
        "shutil.copy(\"src.txt\", \"dst.txt\")\n",
        "\n",
        "# Copying a directory\n",
        "shutil.copytree(\"src_dir\", \"dst_dir\")\n",
        "\n",
        "# Moving a file\n",
        "shutil.move(\"src.txt\", \"dst.txt\")\n",
        "\n",
        "# Deleting a directory\n",
        "shutil.rmtree(\"dir\")"
      ],
      "metadata": {
        "id": "Jl7wjMfA7wZs"
      },
      "execution_count": null,
      "outputs": []
    },
    {
      "cell_type": "markdown",
      "source": [
        "# Request module\n",
        "The Python Requests module is an HTTP library that enables developers to send HTTP requests in Python. This module enables you to send HTTP requests using Python code and makes it possible to interact with APIs and web services.\n",
        "##Get Request\n",
        "`requests.get()`\n",
        "\n",
        "##Post Request\n",
        "`requests.post(url, headers=headers, json=data)`\n",
        "#bs4 Module\n",
        "There is another module called BeautifulSoup which is used for web scraping in Python."
      ],
      "metadata": {
        "id": "ONAnqSsn-iSv"
      }
    },
    {
      "cell_type": "code",
      "source": [
        "import requests\n",
        "\n",
        "url = \"https://api.example.com/login\"\n",
        "headers = {\n",
        "    \"User-Agent\": \"Mozilla/5.0 (Windows NT 10.0; Win64; x64) AppleWebKit/537.36 (KHTML, like Gecko) Chrome/58.0.3029.110 Safari/537.36\",\n",
        "    \"Content-Type\": \"application/json\"\n",
        "}\n",
        "data = {\n",
        "    \"username\": \"myusername\",\n",
        "    \"password\": \"mypassword\"\n",
        "}\n",
        "\n",
        "response = requests.post(url, headers=headers, json=data)\n",
        "\n",
        "print(response.text)"
      ],
      "metadata": {
        "id": "_PKNajzC5IVY"
      },
      "execution_count": null,
      "outputs": []
    },
    {
      "cell_type": "markdown",
      "source": [
        "#Function Caching\n",
        "It is a technique for improving the performance of a program by storing the results of a function call so that you can reuse the results instead of recomputing them every time the function is called.\n",
        "\n",
        "Its store alredy output in chach to reduse time , if you give as input again"
      ],
      "metadata": {
        "id": "HmaZ36ls_F2R"
      }
    },
    {
      "cell_type": "code",
      "source": [
        "import functools\n",
        "\n",
        "@functools.lru_cache(maxsize=None)\n",
        "def fib(n):\n",
        "    if n < 2:\n",
        "        return n\n",
        "    return fib(n-1) + fib(n-2)\n",
        "\n",
        "print(fib(20))\n",
        "# Output: 6765"
      ],
      "metadata": {
        "id": "pV5leT1YRVcA"
      },
      "execution_count": null,
      "outputs": []
    },
    {
      "cell_type": "code",
      "source": [
        "from functools import lru_cache\n",
        "import time\n",
        "\n",
        "@lru_cache(maxsize=None)\n",
        "def fx(n):\n",
        "  time.sleep(5)\n",
        "  return n*5\n",
        "\n",
        "\n",
        "print(fx(20))\n",
        "print(\"done for 20\")\n",
        "print(fx(2))\n",
        "print(\"done for 2\")\n",
        "print(fx(6))\n",
        "print(\"done for 6\")\n",
        "\n",
        "print(fx(20))\n",
        "print(\"done for 20\")\n",
        "print(fx(2))\n",
        "print(\"done for 2\")\n",
        "print(fx(6))\n",
        "print(\"done for 6\")"
      ],
      "metadata": {
        "id": "fvriA_ZtRnJI"
      },
      "execution_count": null,
      "outputs": []
    },
    {
      "cell_type": "markdown",
      "source": [
        "Makin the news application\n"
      ],
      "metadata": {
        "id": "N3fMOGs4R0gF"
      }
    },
    {
      "cell_type": "code",
      "source": [
        "!pip install newsapi-python"
      ],
      "metadata": {
        "colab": {
          "base_uri": "https://localhost:8080/"
        },
        "id": "bChAqp9oVPMP",
        "outputId": "4fcfbeb2-cf58-4f60-b8fa-a9abb5d9dd58"
      },
      "execution_count": null,
      "outputs": [
        {
          "output_type": "stream",
          "name": "stdout",
          "text": [
            "Looking in indexes: https://pypi.org/simple, https://us-python.pkg.dev/colab-wheels/public/simple/\n",
            "Collecting newsapi-python\n",
            "  Downloading newsapi_python-0.2.7-py2.py3-none-any.whl (7.9 kB)\n",
            "Requirement already satisfied: requests<3.0.0 in /usr/local/lib/python3.10/dist-packages (from newsapi-python) (2.27.1)\n",
            "Requirement already satisfied: urllib3<1.27,>=1.21.1 in /usr/local/lib/python3.10/dist-packages (from requests<3.0.0->newsapi-python) (1.26.16)\n",
            "Requirement already satisfied: certifi>=2017.4.17 in /usr/local/lib/python3.10/dist-packages (from requests<3.0.0->newsapi-python) (2023.5.7)\n",
            "Requirement already satisfied: charset-normalizer~=2.0.0 in /usr/local/lib/python3.10/dist-packages (from requests<3.0.0->newsapi-python) (2.0.12)\n",
            "Requirement already satisfied: idna<4,>=2.5 in /usr/local/lib/python3.10/dist-packages (from requests<3.0.0->newsapi-python) (3.4)\n",
            "Installing collected packages: newsapi-python\n",
            "Successfully installed newsapi-python-0.2.7\n"
          ]
        }
      ]
    },
    {
      "cell_type": "code",
      "source": [
        "import requests\n",
        "import json\n",
        "\n",
        "query = input(\"What type of news are you interested in? \")\n",
        "url = f\"https://newsapi.org/v2/everything?q={query}&from=2023-06-24&sortBy=popularity&apiKey=b87b0fc5948646a2914b052260ceaaae\"\n",
        "r = requests.get(url)\n",
        "print(r.text)\n",
        "# news = json.loads(r.text)\n",
        "# print(news, type(news))\n",
        "# for article in news[\"articles\"]:\n",
        "#   print(article[\"title\"])\n",
        "#   print(article[\"description\"])\n",
        "#   print(\"--------------------------------------\")\n",
        "\n"
      ],
      "metadata": {
        "id": "PQGnMioKR9yT"
      },
      "execution_count": null,
      "outputs": []
    },
    {
      "cell_type": "markdown",
      "source": [
        "#Regular Expression\n",
        "They allow you to match and manipulate strings based on patterns, making it easy to perform complex string operations with just a few lines of code.\n",
        "\n",
        "`[]  Represent a character class`\n",
        "\n",
        "`^   Matches the beginning`\n",
        "\n",
        "`$   Matches the end`\n",
        "\n",
        "`.   Matches any character except newline`\n",
        "\n",
        "`?   Matches zero or one occurrence.`\n",
        "\n",
        "`|   Means OR (Matches with any of the characters    separated by it).`\n",
        "\n",
        "`*   Any number of occurrences (including 0 occurrences)`\n",
        "\n",
        "`+   One or more occurrences`\n",
        "\n",
        "`{}  Indicate number of occurrences of a preceding RE     to match.`\n",
        "\n",
        "\n",
        "`()  Enclose a group of REs`"
      ],
      "metadata": {
        "id": "uP5J9UCscCd0"
      }
    },
    {
      "cell_type": "code",
      "source": [
        "# Define a regular expression pattern\n",
        "pattern = r\"expression\"\n",
        "\n",
        "# Match the pattern against a string\n",
        "text = \"Hello, world!\"\n",
        "\n",
        "match = re.search(pattern, text)\n",
        "\n",
        "if match:\n",
        "    print(\"Match found!\")\n",
        "else:\n",
        "    print(\"Match not found.\")"
      ],
      "metadata": {
        "id": "8msPJLoyecfT"
      },
      "execution_count": null,
      "outputs": []
    },
    {
      "cell_type": "code",
      "source": [
        "import re\n",
        "pattern = r\"expression\"\n",
        "text = \"The cat is in the hat.\"\n",
        "\n",
        "matches = re.findall(pattern, text)\n",
        "\n",
        "print(matches)\n",
        "# Output: ['cat', 'hat']"
      ],
      "metadata": {
        "id": "Id2NAAp9ee2g"
      },
      "execution_count": null,
      "outputs": []
    },
    {
      "cell_type": "code",
      "source": [
        "import re\n",
        "pattern = r\"[a-z]+at\"\n",
        "text = \"The cat is in the hat.\"\n",
        "\n",
        "matches = re.findall(pattern, text)\n",
        "\n",
        "print(matches)\n",
        "# Output: ['cat', 'hat']\n",
        "\n",
        "new_text = re.sub(pattern, \"dog\", text)\n",
        "\n",
        "print(new_text)\n",
        "# Output: \"The dog is in the dog.\""
      ],
      "metadata": {
        "colab": {
          "base_uri": "https://localhost:8080/"
        },
        "id": "gxV_U5J3egTo",
        "outputId": "e183eecf-9766-4a34-8611-3fc4b48c4963"
      },
      "execution_count": null,
      "outputs": [
        {
          "output_type": "stream",
          "name": "stdout",
          "text": [
            "['cat', 'hat']\n",
            "The dog is in the dog.\n"
          ]
        }
      ]
    },
    {
      "cell_type": "markdown",
      "source": [
        "#Async IO\n",
        "It is programming pattern that allow for high Performance I/O operation  in a concurrent and non-blocking manner.\n",
        "`asyncio`\n",
        "\n",
        "For example if you want to run the all Function at same time u can use `asyncio` in form of `await asyncio.gather`"
      ],
      "metadata": {
        "id": "WxxsTdmxeijW"
      }
    },
    {
      "cell_type": "code",
      "source": [
        "import time\n",
        "import asyncio\n",
        "import requests\n",
        "\n",
        "\n",
        "async def function1():\n",
        "  print(\"func 1\")\n",
        "  URL = \"https://wallpaperaccess.in/public/uploads/preview/1920x1200-desktop-background-ultra-hd-wallpaper-wiki-desktop-wallpaper-4k-.jpg\"\n",
        "  response = requests.get(URL)\n",
        "  open(\"instagram.ico\", \"wb\").write(response.content)\n",
        "\n",
        "  return \"Harry\"\n",
        "\n",
        "async def function2():\n",
        "  print(\"func 2\")\n",
        "  URL = \"https://p4.wallpaperbetter.com/wallpaper/490/433/199/nature-2560x1440-tree-snow-wallpaper-preview.jpg\"\n",
        "  response = requests.get(URL)\n",
        "  open(\"instagram2.jpg\", \"wb\").write(response.content)\n",
        "\n",
        "async def function3():\n",
        "  print(\"func 3\")\n",
        "  URL = \"https://c4.wallpaperflare.com/wallpaper/622/676/943/3d-hd-wikipedia-3d-wallpaper-preview.jpg\"\n",
        "  response = requests.get(URL)\n",
        "  open(\"instagram3.ico\", \"wb\").write(response.content)\n",
        "\n",
        "async def main():\n",
        "  # await function1()\n",
        "  # await function2()\n",
        "  # await function3()\n",
        "  # return 3\n",
        "  L = await asyncio.gather(\n",
        "        function1(),\n",
        "        function2(),\n",
        "        function3(),\n",
        "    )\n",
        "  print(L)\n",
        "  # task = asyncio.create_task(function1())\n",
        "  # # await function1()\n",
        "  # await function2()\n",
        "  # await function3()\n",
        "\n",
        "asyncio.run(main())"
      ],
      "metadata": {
        "id": "wic504OABKXi"
      },
      "execution_count": null,
      "outputs": []
    },
    {
      "cell_type": "markdown",
      "source": [
        "#Polymorphism\n",
        "It means the same function name (but different signatures) being used for different types."
      ],
      "metadata": {
        "id": "JIonOqd9Ol_5"
      }
    },
    {
      "cell_type": "code",
      "source": [
        "\n",
        "def add(x, y, z = 0):\n",
        "\treturn x + y+z\n",
        "\n",
        "# Driver code\n",
        "print(add(2, 3))\n",
        "print(add(2, 3, 4))\n"
      ],
      "metadata": {
        "id": "7fLaj-jjbw0o"
      },
      "execution_count": null,
      "outputs": []
    },
    {
      "cell_type": "code",
      "source": [
        "class data_science:\n",
        "  def syllabus(self):\n",
        "    print('This is for Data Science')"
      ],
      "metadata": {
        "id": "rcPGq6EfE2eG"
      },
      "execution_count": null,
      "outputs": []
    },
    {
      "cell_type": "code",
      "source": [
        "class data_analyis:\n",
        "  def syllabus(self):\n",
        "    print('This is for Data Analysis')"
      ],
      "metadata": {
        "id": "Ss5gVk1vZ50P"
      },
      "execution_count": null,
      "outputs": []
    },
    {
      "cell_type": "code",
      "source": [
        "def class_praser(class_obj):\n",
        "  for i in class_obj:\n",
        "    i.syllabus()"
      ],
      "metadata": {
        "id": "baYp7gQwaDM_"
      },
      "execution_count": null,
      "outputs": []
    },
    {
      "cell_type": "code",
      "source": [
        "sci=data_science()\n",
        "any=data_analyis()"
      ],
      "metadata": {
        "id": "aL_fjlqOaU_b"
      },
      "execution_count": null,
      "outputs": []
    },
    {
      "cell_type": "code",
      "source": [
        "class_obj =[sci,any]\n",
        "class_praser(class_obj)"
      ],
      "metadata": {
        "colab": {
          "base_uri": "https://localhost:8080/"
        },
        "id": "E9_kU40DbGVf",
        "outputId": "02baff48-e35f-451f-940e-eadab286c8f5"
      },
      "execution_count": null,
      "outputs": [
        {
          "output_type": "stream",
          "name": "stdout",
          "text": [
            "This is for Data Science\n",
            "This is for Data Analysis\n"
          ]
        }
      ]
    },
    {
      "cell_type": "markdown",
      "source": [
        "# Encapsulation\n",
        "It is prosess in which that allows you to bundle data and methods together within a class and control access to them from outside the class. It helps to enforce data hiding and maintain the integrity of the class by preventing direct access to its internal implementation details.\n",
        "\n",
        "Encapsulation is typically achieved through the use of access modifiers and property methods. `__` use for make it private and `_` is used for make it protected"
      ],
      "metadata": {
        "id": "mjITX_WicV5f"
      }
    },
    {
      "cell_type": "code",
      "source": [
        "class Person:\n",
        "    def __init__(self, name, age):\n",
        "        self._name = name  # Protected attribute\n",
        "        self._age = age    # Protected attribute\n",
        "\n",
        "    def get_name(self):\n",
        "        return self._name\n",
        "\n",
        "    def set_name(self, name):\n",
        "        self._name = name\n",
        "\n",
        "    def get_age(self):\n",
        "        return self._age\n",
        "\n",
        "    def set_age(self, age):\n",
        "        if age >= 0:\n",
        "            self._age = age\n",
        "        else:\n",
        "            print(\"Invalid age!\")\n",
        "\n",
        "person = Person(\"Alice\", 25)\n",
        "print(person.get_name())\n",
        "person.set_name(\"Bob\")\n",
        "print(person.get_name())\n",
        "\n",
        "person.set_age(-5)\n",
        "print(person.get_age())\n"
      ],
      "metadata": {
        "colab": {
          "base_uri": "https://localhost:8080/"
        },
        "id": "GwdGEzbbWj9X",
        "outputId": "80a653c1-a48a-4cdc-bc00-8fd14b7b8963"
      },
      "execution_count": null,
      "outputs": [
        {
          "output_type": "stream",
          "name": "stdout",
          "text": [
            "Alice\n",
            "Bob\n",
            "Invalid age!\n",
            "25\n"
          ]
        }
      ]
    },
    {
      "cell_type": "code",
      "source": [
        "class bank_account:\n",
        "  def __init__(self,balance):\n",
        "    self.__balance=balance\n",
        "\n",
        "  def deposit(self,amount):\n",
        "    self.__balance=self.__balance+amount\n",
        "\n",
        "  def withdraw(self,amount):\n",
        "    if self.__balance >= amount:\n",
        "      self.__balance=self.__balance-amount\n",
        "      return True\n",
        "    else:\n",
        "      print(f\"Enter a valid amount\")\n",
        "      # return False\n",
        "\n",
        "  def get_balance(self):\n",
        "    return f\"Balance is: {self.__balance}\""
      ],
      "metadata": {
        "id": "7v_ualb1Wzzs"
      },
      "execution_count": null,
      "outputs": []
    },
    {
      "cell_type": "code",
      "source": [
        "sub=bank_account(500)\n",
        "sub.get_balance()"
      ],
      "metadata": {
        "colab": {
          "base_uri": "https://localhost:8080/",
          "height": 35
        },
        "id": "CWfsGu-W8hYw",
        "outputId": "246098fa-68e8-4662-8879-8a517df71c5a"
      },
      "execution_count": null,
      "outputs": [
        {
          "output_type": "execute_result",
          "data": {
            "text/plain": [
              "'Balance is: 500'"
            ],
            "application/vnd.google.colaboratory.intrinsic+json": {
              "type": "string"
            }
          },
          "metadata": {},
          "execution_count": 23
        }
      ]
    },
    {
      "cell_type": "code",
      "source": [
        "sub.deposit(5000)\n",
        "sub.get_balance()"
      ],
      "metadata": {
        "colab": {
          "base_uri": "https://localhost:8080/",
          "height": 35
        },
        "id": "2zG9EEPK9JSL",
        "outputId": "18546205-988a-4f73-e61b-e2001da50534"
      },
      "execution_count": null,
      "outputs": [
        {
          "output_type": "execute_result",
          "data": {
            "text/plain": [
              "'Balance is: 5500'"
            ],
            "application/vnd.google.colaboratory.intrinsic+json": {
              "type": "string"
            }
          },
          "metadata": {},
          "execution_count": 24
        }
      ]
    },
    {
      "cell_type": "code",
      "source": [
        "sub.withdraw(6000)"
      ],
      "metadata": {
        "colab": {
          "base_uri": "https://localhost:8080/"
        },
        "id": "vtnVk1Gv9Zbl",
        "outputId": "3f085367-4b87-48ae-f94f-462465982c70"
      },
      "execution_count": null,
      "outputs": [
        {
          "output_type": "stream",
          "name": "stdout",
          "text": [
            "Enter a valid amount\n"
          ]
        }
      ]
    },
    {
      "cell_type": "code",
      "source": [
        "sub.withdraw(4000)"
      ],
      "metadata": {
        "colab": {
          "base_uri": "https://localhost:8080/"
        },
        "id": "3uSqdx679iYf",
        "outputId": "a09babb4-38cf-4f23-c1a6-2397dbe3bc40"
      },
      "execution_count": null,
      "outputs": [
        {
          "output_type": "execute_result",
          "data": {
            "text/plain": [
              "True"
            ]
          },
          "metadata": {},
          "execution_count": 26
        }
      ]
    },
    {
      "cell_type": "code",
      "source": [
        "sub.get_balance()"
      ],
      "metadata": {
        "colab": {
          "base_uri": "https://localhost:8080/",
          "height": 35
        },
        "id": "MF2hFnvq9nmL",
        "outputId": "7c43669c-ddcc-4756-e769-d846d774a66e"
      },
      "execution_count": null,
      "outputs": [
        {
          "output_type": "execute_result",
          "data": {
            "text/plain": [
              "'Balance is: 1500'"
            ],
            "application/vnd.google.colaboratory.intrinsic+json": {
              "type": "string"
            }
          },
          "metadata": {},
          "execution_count": 27
        }
      ]
    },
    {
      "cell_type": "markdown",
      "metadata": {
        "id": "hj5uLu9lxpBB"
      },
      "source": [
        "## 15 Python Decorators - functions which modify the functionality of another function/Class\n"
      ]
    },
    {
      "cell_type": "code",
      "metadata": {
        "id": "rmVUsEmkXGp_"
      },
      "source": [
        "'''@decName\n",
        "def func():\n",
        "    print(\"statement\")\n",
        "\n",
        "EQUAL TO\n",
        "\n",
        "def func():\n",
        "    print(\"statement\")\n",
        "\n",
        "func = decName(func)'''"
      ],
      "execution_count": null,
      "outputs": []
    },
    {
      "cell_type": "markdown",
      "metadata": {
        "id": "LbycyEK38MZU"
      },
      "source": [
        "###FUNCTION AS OBJECT"
      ]
    },
    {
      "cell_type": "code",
      "metadata": {
        "id": "6n2wj25Tx2qU"
      },
      "source": [
        "def welcome(a):\n",
        "  print(\"Hello {0},Welcome to Python Bootcamp !!!\".format(a))"
      ],
      "execution_count": null,
      "outputs": []
    },
    {
      "cell_type": "code",
      "metadata": {
        "id": "0e8Dyjrl0dHY"
      },
      "source": [
        "a = welcome #No paranthesis, if its paranthesis it will call fn. - FUNCTION AS OBJECT\n",
        "a(\"champ\")"
      ],
      "execution_count": null,
      "outputs": []
    },
    {
      "cell_type": "markdown",
      "metadata": {
        "id": "ezAqYdm78PAm"
      },
      "source": [
        "###FUNCTION IN VARIABLE"
      ]
    },
    {
      "cell_type": "code",
      "metadata": {
        "id": "T_tNX4BW1THH",
        "colab": {
          "base_uri": "https://localhost:8080/"
        },
        "outputId": "af68d414-3478-4133-e743-70f756886839"
      },
      "source": [
        "def lowerCase(text):\n",
        "  return text.lower()\n",
        "\n",
        "def upperCase(text):\n",
        "  return text.upper()\n",
        "\n",
        "def a(welcome):\n",
        "  message = welcome(\"Hello all, Welcome to Python Bootcamp\") #FUNCTION IN VARIABLE\n",
        "  print(message)\n",
        "\n",
        "a(lowerCase)\n",
        "a(upperCase)"
      ],
      "execution_count": null,
      "outputs": [
        {
          "output_type": "stream",
          "name": "stdout",
          "text": [
            "hello all, welcome to python bootcamp\n",
            "HELLO ALL, WELCOME TO PYTHON BOOTCAMP\n"
          ]
        }
      ]
    },
    {
      "cell_type": "code",
      "metadata": {
        "id": "CgIODbI3E9EN"
      },
      "source": [
        "def lowerCase(text):\n",
        "  return text.lower()\n",
        "\n",
        "def a(welcome):\n",
        "  message = welcome(\"Hello all, Welcome to Python Bootcamp\") #FUNCTION IN VARIABLE\n",
        "  print(message)\n",
        "\n",
        "a(lowerCase)"
      ],
      "execution_count": null,
      "outputs": []
    },
    {
      "cell_type": "markdown",
      "metadata": {
        "id": "v_hTj9qG8Skj"
      },
      "source": [
        "###RETURNING FUNCTION FROM ANOTHER FUNCTION"
      ]
    },
    {
      "cell_type": "code",
      "metadata": {
        "id": "IqqYHx4f8s4T"
      },
      "source": [
        "def addMain(a):#child\n",
        "  def addSub(b): #parent  = a+b\n",
        "    print(a,b)\n",
        "    return a+b #apple\n",
        "  return addSub #return of parent is return of child now - apple {child = return(parent)}\n",
        "\n",
        "addition = addMain(100)\n",
        "print(addition(75))"
      ],
      "execution_count": null,
      "outputs": []
    },
    {
      "cell_type": "markdown",
      "metadata": {
        "id": "SCgrfJN4-w0X"
      },
      "source": [
        "##DECORATORS in Action"
      ]
    },
    {
      "cell_type": "code",
      "metadata": {
        "id": "7Roeq7vu-1Sq"
      },
      "source": [
        "def decoratorFunc (welcome):#2. Decorator\n",
        "  def a(): #3. can access the outer local functions like in this case \"welcome\"\n",
        "    print(\"Start\")\n",
        "    welcome() #4.calling actual fn.\n",
        "    print(\"End\")\n",
        "  return a\n",
        "\n",
        "def subFunc(): #veg with cheese\n",
        "  print(\"Sub fn\")\n",
        "\n",
        "subFunc = decoratorFunc(subFunc) #1. subFunc inside the decorator to control behavior\n",
        "\n",
        "subFunc()"
      ],
      "execution_count": null,
      "outputs": []
    },
    {
      "cell_type": "markdown",
      "metadata": {
        "id": "4cJ1b9xUGoqG"
      },
      "source": [
        "## 16 Python Generators -  to generate as we go along, instead of holding everything in memory & generator functions will automatically suspend and resume their execution and state around the last point of value generation | n. This feature is known as state suspension"
      ]
    },
    {
      "cell_type": "code",
      "metadata": {
        "id": "qOibAFehHhmS"
      },
      "source": [
        "def square(n):\n",
        "  for i in range (n):\n",
        "    yield i**2"
      ],
      "execution_count": null,
      "outputs": []
    },
    {
      "cell_type": "code",
      "metadata": {
        "id": "6h84--3DJqTk"
      },
      "source": [
        "for n in square(10):\n",
        "  print(n)"
      ],
      "execution_count": null,
      "outputs": []
    },
    {
      "cell_type": "markdown",
      "metadata": {
        "id": "Wziel_TgK-jG"
      },
      "source": [
        "###Builtin Function - next"
      ]
    },
    {
      "cell_type": "code",
      "metadata": {
        "id": "CwvkQQPbLEwN"
      },
      "source": [
        "def square():\n",
        "  for i in range (n):\n",
        "    yield i**2"
      ],
      "execution_count": null,
      "outputs": []
    },
    {
      "cell_type": "code",
      "metadata": {
        "id": "eTTYwEdhLNk_"
      },
      "source": [
        "a = square()"
      ],
      "execution_count": null,
      "outputs": []
    },
    {
      "cell_type": "code",
      "metadata": {
        "id": "qfsEwjwWLYfh"
      },
      "source": [
        "print(next(a)) #After yielding all the values next() caused a StopIteration error"
      ],
      "execution_count": null,
      "outputs": []
    },
    {
      "cell_type": "markdown",
      "metadata": {
        "id": "HsJa6C1_LzuY"
      },
      "source": [
        "###Builtin Function - iter"
      ]
    },
    {
      "cell_type": "code",
      "metadata": {
        "id": "FTTe2u7xL1dD"
      },
      "source": [
        "a = \"champ\"\n",
        "for i in a:\n",
        "  print(i)"
      ],
      "execution_count": null,
      "outputs": []
    },
    {
      "cell_type": "code",
      "metadata": {
        "id": "Vv24I6zvMf8X"
      },
      "source": [
        "next(a)"
      ],
      "execution_count": null,
      "outputs": []
    },
    {
      "cell_type": "code",
      "metadata": {
        "id": "CaVdaFTzMB50"
      },
      "source": [
        "iterOper = iter(a)"
      ],
      "execution_count": null,
      "outputs": []
    },
    {
      "cell_type": "code",
      "metadata": {
        "id": "hGk7nv1zMLMK",
        "colab": {
          "base_uri": "https://localhost:8080/",
          "height": 35
        },
        "outputId": "2ee316a2-be35-4848-ccdb-4238dd13fd9b"
      },
      "source": [
        "next(iterOper)"
      ],
      "execution_count": null,
      "outputs": [
        {
          "output_type": "execute_result",
          "data": {
            "text/plain": [
              "'c'"
            ],
            "application/vnd.google.colaboratory.intrinsic+json": {
              "type": "string"
            }
          },
          "metadata": {},
          "execution_count": 7
        }
      ]
    },
    {
      "cell_type": "markdown",
      "metadata": {
        "id": "E52xY7QdwRbn"
      },
      "source": [
        "## 17 Python Modules & Libraries"
      ]
    },
    {
      "cell_type": "markdown",
      "metadata": {
        "id": "xbZKFpbT2oq7"
      },
      "source": [
        "###Accessing one Python program from another program"
      ]
    },
    {
      "cell_type": "code",
      "metadata": {
        "id": "zMIj2I-K2tzf"
      },
      "source": [
        "import main #importing python file\n",
        "main.welcome() #parathesis (Func)\n",
        "x = main.a #no paranthesis (variable)\n",
        "y = main.b\n",
        "print(x+y)"
      ],
      "execution_count": null,
      "outputs": []
    },
    {
      "cell_type": "markdown",
      "metadata": {
        "id": "mWixozKc3ix7"
      },
      "source": [
        "### Accessing python program from another Python program present in another Folder"
      ]
    },
    {
      "cell_type": "code",
      "metadata": {
        "id": "nfVl0SOb3oCt"
      },
      "source": [
        "from sample_data.demo import main\n",
        "main.welcome()\n",
        "x = main.a\n",
        "y = main.b\n",
        "print(x+y)"
      ],
      "execution_count": null,
      "outputs": []
    },
    {
      "cell_type": "markdown",
      "metadata": {
        "id": "aBSMV2jE4jzm"
      },
      "source": [
        "##Try Except Finally"
      ]
    },
    {
      "cell_type": "markdown",
      "metadata": {
        "id": "GCLNC9dG6sYy"
      },
      "source": [
        "###Base Exception Errors"
      ]
    },
    {
      "cell_type": "code",
      "metadata": {
        "id": "gnDHaveg6q4c"
      },
      "source": [
        "BaseException\n",
        " +-- SystemExit\n",
        " +-- KeyboardInterrupt\n",
        " +-- GeneratorExit\n",
        " +-- Exception\n",
        "      +-- StopIteration\n",
        "      +-- StandardError\n",
        "      |    +-- BufferError\n",
        "      |    +-- ArithmeticError\n",
        "      |    |    +-- FloatingPointError\n",
        "      |    |    +-- OverflowError\n",
        "      |    |    +-- ZeroDivisionError\n",
        "      |    +-- AssertionError\n",
        "      |    +-- AttributeError\n",
        "      |    +-- EnvironmentError\n",
        "      |    |    +-- IOError\n",
        "      |    |    +-- OSError\n",
        "      |    |         +-- WindowsError (Windows)\n",
        "      |    |         +-- VMSError (VMS)\n",
        "      |    +-- EOFError\n",
        "      |    +-- ImportError\n",
        "      |    +-- LookupError\n",
        "      |    |    +-- IndexError\n",
        "      |    |    +-- KeyError\n",
        "      |    +-- MemoryError\n",
        "      |    +-- NameError\n",
        "      |    |    +-- UnboundLocalError\n",
        "      |    +-- ReferenceError\n",
        "      |    +-- RuntimeError\n",
        "      |    |    +-- NotImplementedError\n",
        "      |    +-- SyntaxError\n",
        "      |    |    +-- IndentationError\n",
        "      |    |         +-- TabError\n",
        "      |    +-- SystemError\n",
        "      |    +-- TypeError\n",
        "      |    +-- ValueError\n",
        "      |         +-- UnicodeError\n",
        "      |              +-- UnicodeDecodeError\n",
        "      |              +-- UnicodeEncodeError\n",
        "      |              +-- UnicodeTranslateError\n",
        "      +-- Warning\n",
        "           +-- DeprecationWarning\n",
        "           +-- PendingDeprecationWarning\n",
        "           +-- RuntimeWarning\n",
        "           +-- SyntaxWarning\n",
        "           +-- UserWarning\n",
        "           +-- FutureWarning\n",
        "       +-- ImportWarning\n",
        "       +-- UnicodeWarning\n",
        "       +-- BytesWarning"
      ],
      "execution_count": null,
      "outputs": []
    },
    {
      "cell_type": "code",
      "metadata": {
        "id": "4DAcxNhE4oci",
        "colab": {
          "base_uri": "https://localhost:8080/"
        },
        "outputId": "f6888e59-4961-4b4c-d8a8-0c5382df4ac1"
      },
      "source": [
        "for i in range(3, -3, -1):\n",
        "    try:\n",
        "        print(1.0 / i)\n",
        "    except ZeroDivisionError:\n",
        "        print(\"You're trying to divide by zero. U IDIOT\")"
      ],
      "execution_count": null,
      "outputs": [
        {
          "output_type": "stream",
          "name": "stdout",
          "text": [
            "0.3333333333333333\n",
            "0.5\n",
            "1.0\n",
            "You're trying to divide by zero. U IDIOT\n",
            "-1.0\n",
            "-0.5\n"
          ]
        }
      ]
    },
    {
      "cell_type": "code",
      "metadata": {
        "id": "eDeJx6ns7iq4",
        "colab": {
          "base_uri": "https://localhost:8080/"
        },
        "outputId": "b0b270b5-5eba-4ad1-bb79-730a40409cc4"
      },
      "source": [
        "for i in range(3, -3, -1):\n",
        "    try:\n",
        "        print(1.0 / i)\n",
        "    except ZeroDivisionError as er:\n",
        "        print('Zero Division Error: ', str(er.args[0]))"
      ],
      "execution_count": null,
      "outputs": [
        {
          "output_type": "stream",
          "name": "stdout",
          "text": [
            "0.3333333333333333\n",
            "0.5\n",
            "1.0\n",
            "Zero Division Error:  float division by zero\n",
            "-1.0\n",
            "-0.5\n"
          ]
        }
      ]
    },
    {
      "cell_type": "code",
      "metadata": {
        "id": "K3M8KSae7IJT",
        "colab": {
          "base_uri": "https://localhost:8080/"
        },
        "outputId": "a002ee4b-c7c9-470d-c096-922055e31e3d"
      },
      "source": [
        "def check():\n",
        "    while True:\n",
        "        try:\n",
        "            a = int(input(\"Please Value of a in numbers: \"))\n",
        "            b = int(input(\"Please enter value of b in numbers: \"))\n",
        "        except:\n",
        "            print(\"You did not entered numbers\")\n",
        "            continue\n",
        "        else:\n",
        "            print(\"Yes its Numbers\")\n",
        "            break\n",
        "        finally:\n",
        "            print(\"Execution Successfull\")\n",
        "            print(a+b)\n",
        "\n",
        "check()"
      ],
      "execution_count": null,
      "outputs": [
        {
          "output_type": "stream",
          "name": "stdout",
          "text": [
            "Please Value of a in numbers: 5\n",
            "Please enter value of b in numbers: 6\n",
            "Yes its Numbers\n",
            "Execution Successfull\n",
            "11\n"
          ]
        }
      ]
    },
    {
      "cell_type": "markdown",
      "metadata": {
        "id": "wdFoAwKcwfp5"
      },
      "source": [
        "###Importing Library"
      ]
    },
    {
      "cell_type": "code",
      "metadata": {
        "id": "RlokaL0YwXjl"
      },
      "source": [
        "import math #import libraryName"
      ],
      "execution_count": null,
      "outputs": []
    },
    {
      "cell_type": "markdown",
      "metadata": {
        "id": "QuhO5JSnwqzK"
      },
      "source": [
        "###Installing Library"
      ]
    },
    {
      "cell_type": "code",
      "metadata": {
        "id": "YaBMUw5wwtcg"
      },
      "source": [
        "!pip install imutils #pip install libraryName (! only while executing in colab, it is not needed in command window)"
      ],
      "execution_count": null,
      "outputs": []
    },
    {
      "cell_type": "markdown",
      "metadata": {
        "id": "Kk5KloZ0xDYq"
      },
      "source": [
        "###uninstalling Library"
      ]
    },
    {
      "cell_type": "code",
      "metadata": {
        "id": "yB2PWCOkxGFV"
      },
      "source": [
        "!pip uninstall imutils #pip uninstall libraryName"
      ],
      "execution_count": null,
      "outputs": []
    },
    {
      "cell_type": "code",
      "metadata": {
        "id": "4KVHdy5ZNDKM"
      },
      "source": [
        "import imutils"
      ],
      "execution_count": null,
      "outputs": []
    },
    {
      "cell_type": "markdown",
      "metadata": {
        "id": "2kPEOjcuxN7C"
      },
      "source": [
        "###Installing Library based on Version"
      ]
    },
    {
      "cell_type": "code",
      "metadata": {
        "id": "Q5ZX6pf-xWFL"
      },
      "source": [
        "!pip install imutils==0.5.4 #pip install libraryName==versionNumber"
      ],
      "execution_count": null,
      "outputs": []
    },
    {
      "cell_type": "markdown",
      "metadata": {
        "id": "NoGM1hhExfIj"
      },
      "source": [
        "###Checking Installed Library version"
      ]
    },
    {
      "cell_type": "code",
      "metadata": {
        "id": "FShc-BQJxi7M"
      },
      "source": [
        "import imutils\n",
        "imutils.__version__"
      ],
      "execution_count": null,
      "outputs": []
    },
    {
      "cell_type": "markdown",
      "metadata": {
        "id": "OyqxhF_syCcz"
      },
      "source": [
        "##Playing with Libraries"
      ]
    },
    {
      "cell_type": "markdown",
      "metadata": {
        "id": "5xbetOxzyN90"
      },
      "source": [
        "###Math Library"
      ]
    },
    {
      "cell_type": "code",
      "metadata": {
        "id": "Z1lRDZujyE9C"
      },
      "source": [
        "import math\n",
        "print(dir(math))\n",
        "print(math.pi)"
      ],
      "execution_count": null,
      "outputs": []
    },
    {
      "cell_type": "code",
      "metadata": {
        "id": "6ezIH8c1zafo"
      },
      "source": [
        "import math as mt\n",
        "print(dir(mt))\n",
        "print(mt.pi)"
      ],
      "execution_count": null,
      "outputs": []
    },
    {
      "cell_type": "markdown",
      "metadata": {
        "id": "pHBLC-t68AM7"
      },
      "source": [
        "###Reduce"
      ]
    },
    {
      "cell_type": "code",
      "metadata": {
        "id": "3YibVDLK8FQO",
        "colab": {
          "base_uri": "https://localhost:8080/"
        },
        "outputId": "fb9c4619-1be4-4bab-94db-7359ee49f390"
      },
      "source": [
        "from functools import reduce\n",
        "lst =[47,11,42,13]\n",
        "reduce(lambda x,y: x+y,lst)"
      ],
      "execution_count": null,
      "outputs": [
        {
          "output_type": "execute_result",
          "data": {
            "text/plain": [
              "113"
            ]
          },
          "metadata": {},
          "execution_count": 13
        }
      ]
    },
    {
      "cell_type": "markdown",
      "metadata": {
        "id": "KveCmBlq8O9h"
      },
      "source": [
        "###IPython"
      ]
    },
    {
      "cell_type": "code",
      "metadata": {
        "id": "PbeagwRC8U6B"
      },
      "source": [
        "from IPython.display import Image\n",
        "Image('https://venturebeat.com/wp-content/uploads/2018/09/ironman.jpg')"
      ],
      "execution_count": null,
      "outputs": []
    },
    {
      "cell_type": "markdown",
      "metadata": {
        "id": "KnqASEoR98Pg"
      },
      "source": [
        "###Filter"
      ]
    },
    {
      "cell_type": "code",
      "metadata": {
        "id": "JYKvrM4O99xy",
        "colab": {
          "base_uri": "https://localhost:8080/"
        },
        "outputId": "3ac82093-d77d-4727-919e-4b8b7f5ab152"
      },
      "source": [
        "def check(num):\n",
        "    if num%2 ==0:\n",
        "        return True\n",
        "lst =range(20)\n",
        "list(filter(check,lst))"
      ],
      "execution_count": null,
      "outputs": [
        {
          "output_type": "execute_result",
          "data": {
            "text/plain": [
              "[0, 2, 4, 6, 8, 10, 12, 14, 16, 18]"
            ]
          },
          "metadata": {},
          "execution_count": 14
        }
      ]
    },
    {
      "cell_type": "markdown",
      "metadata": {
        "id": "dlTwe3t46eKA"
      },
      "source": [
        "###Counter"
      ]
    },
    {
      "cell_type": "code",
      "metadata": {
        "id": "GF2aejuq6hcL",
        "colab": {
          "base_uri": "https://localhost:8080/"
        },
        "outputId": "57c1bf0c-92be-47cc-e194-ab358d1a9041"
      },
      "source": [
        "from collections import Counter\n",
        "print(Counter([5,6,8,4,7,5,9,6,2,1,3,5,8,4,5,8,7,2,5,8,6,2,5,4,1,2,6,8,7,4,5,7,5,8,2,2,6])) #Numbers\n",
        "print(Counter('sdasdasdadasdasdasdassdasdassdasdadasdaasdasdasd')) #String"
      ],
      "execution_count": null,
      "outputs": [
        {
          "output_type": "stream",
          "name": "stdout",
          "text": [
            "Counter({5: 8, 8: 6, 2: 6, 6: 5, 4: 4, 7: 4, 1: 2, 9: 1, 3: 1})\n",
            "Counter({'s': 16, 'd': 16, 'a': 16})\n"
          ]
        }
      ]
    },
    {
      "cell_type": "markdown",
      "metadata": {
        "id": "9Jeq7aTs6eOw"
      },
      "source": [
        "###Regular Expression\n"
      ]
    },
    {
      "cell_type": "code",
      "metadata": {
        "id": "AUP-Ll3lPKYT"
      },
      "source": [
        "import re\n",
        "patt = r'\\d{2}-\\d{2}-\\d{4}'\n",
        "message = \"His birthday is 16-11-2016\"\n",
        "re.findall(patt,message)"
      ],
      "execution_count": null,
      "outputs": []
    },
    {
      "cell_type": "markdown",
      "metadata": {
        "id": "j-1-TPF9RD_A"
      },
      "source": [
        "###Working with Files"
      ]
    },
    {
      "cell_type": "code",
      "metadata": {
        "id": "XrYK82SaRSDS"
      },
      "source": [
        "f = open(\"welcome.txt\", \"r\")\n",
        "print(f.read())\n",
        "f.close()"
      ],
      "execution_count": null,
      "outputs": []
    },
    {
      "cell_type": "code",
      "metadata": {
        "id": "vztepQDDScAx"
      },
      "source": [
        "f = open(\"welcome.txt\", \"r\")\n",
        "print(f.read(5))\n",
        "f.close()"
      ],
      "execution_count": null,
      "outputs": []
    },
    {
      "cell_type": "code",
      "metadata": {
        "id": "OGHumZZBSgdU"
      },
      "source": [
        "f = open(\"welcome.txt\", \"r\")\n",
        "print(f.readline())\n",
        "f.close()"
      ],
      "execution_count": null,
      "outputs": []
    },
    {
      "cell_type": "code",
      "metadata": {
        "id": "lR_PppOlSl56"
      },
      "source": [
        "f = open(\"welcome.txt\", \"r\")\n",
        "for x in f:\n",
        "  print(x)"
      ],
      "execution_count": null,
      "outputs": []
    },
    {
      "cell_type": "markdown",
      "metadata": {
        "id": "CBBZKysYs7CE"
      },
      "source": [
        "###File Handling using Pandas"
      ]
    },
    {
      "cell_type": "code",
      "metadata": {
        "id": "w-a6IOV9UxqO"
      },
      "source": [
        "!pip install pandas"
      ],
      "execution_count": null,
      "outputs": []
    },
    {
      "cell_type": "code",
      "metadata": {
        "id": "b8GMBetRs99J"
      },
      "source": [
        "import pandas as pd\n",
        "data = pd.read_csv('data.csv')\n",
        "print(data.to_string())"
      ],
      "execution_count": null,
      "outputs": []
    },
    {
      "cell_type": "code",
      "metadata": {
        "id": "Qtc0SccyuI0o"
      },
      "source": [
        "import pandas as pd\n",
        "data = pd.read_csv('data.csv')\n",
        "print(data.shape)\n",
        "print(data.describe())\n",
        "print(data.head(5))"
      ],
      "execution_count": null,
      "outputs": []
    },
    {
      "cell_type": "markdown",
      "metadata": {
        "id": "eDhMnyS5SsEm"
      },
      "source": [
        "###Working with Directories"
      ]
    },
    {
      "cell_type": "code",
      "metadata": {
        "id": "mGPpYLZcSzCx"
      },
      "source": [
        "import os\n",
        "print(os.getcwd()) #current working directory\n",
        "print(os.listdir())\n",
        "os.mkdir(\"Junk\")"
      ],
      "execution_count": null,
      "outputs": []
    },
    {
      "cell_type": "code",
      "metadata": {
        "id": "4N4ifINbTSAB"
      },
      "source": [
        "import shutil\n",
        "shutil.move('welcome.txt','/content/Junk')"
      ],
      "execution_count": null,
      "outputs": []
    },
    {
      "cell_type": "code",
      "metadata": {
        "id": "uIv8_pXETsyx"
      },
      "source": [
        "import send2trash\n",
        "os.listdir()\n",
        "send2trash.send2trash('Junk/welcome.txt')"
      ],
      "execution_count": null,
      "outputs": []
    },
    {
      "cell_type": "code",
      "metadata": {
        "id": "sFR-2CFtT6Pq"
      },
      "source": [
        "os.listdir()"
      ],
      "execution_count": null,
      "outputs": []
    },
    {
      "cell_type": "markdown",
      "metadata": {
        "id": "v1waiSPWWgm8"
      },
      "source": [
        "###Time"
      ]
    },
    {
      "cell_type": "code",
      "metadata": {
        "id": "AIf3tBQ7WiGl"
      },
      "source": [
        "import time\n",
        "print(time.time())#time since epoch"
      ],
      "execution_count": null,
      "outputs": []
    },
    {
      "cell_type": "code",
      "metadata": {
        "id": "mwmJIjDeg3BZ"
      },
      "source": [
        "import time\n",
        "print(time.gmtime())"
      ],
      "execution_count": null,
      "outputs": []
    },
    {
      "cell_type": "code",
      "metadata": {
        "id": "S_s_KXjvg7yG"
      },
      "source": [
        "print (time.ctime())"
      ],
      "execution_count": null,
      "outputs": []
    },
    {
      "cell_type": "code",
      "metadata": {
        "id": "ey4rLSv8hVfN"
      },
      "source": [
        "startTime = time.time()\n",
        "i=0\n",
        "while(i<5):\n",
        "  i+=1\n",
        "  print(\".\")\n",
        "  time.sleep(1) #delay 1 second\n",
        "stopTime = time.time()\n",
        "diff = stopTime - startTime\n",
        "diff"
      ],
      "execution_count": null,
      "outputs": []
    },
    {
      "cell_type": "markdown",
      "metadata": {
        "id": "WK845fWpipDy"
      },
      "source": [
        "###Date & Time"
      ]
    },
    {
      "cell_type": "code",
      "metadata": {
        "id": "MjCTHaKxisDt"
      },
      "source": [
        "import datetime\n",
        "x = datetime.datetime.now()\n",
        "print(x)"
      ],
      "execution_count": null,
      "outputs": []
    },
    {
      "cell_type": "code",
      "metadata": {
        "id": "7Vjk9hi8jS3T"
      },
      "source": [
        "import datetime\n",
        "x = datetime.datetime(2021, 12, 16, 12, 30, 51) #(year, month, date, hour, minute, second, microsecond, tzone)\n",
        "print(x)"
      ],
      "execution_count": null,
      "outputs": []
    },
    {
      "cell_type": "code",
      "metadata": {
        "id": "XrBeNg1qjySc"
      },
      "source": [
        "'''%a\tWeekday, short version\tWed\n",
        "%A\tWeekday, full version\tWednesday\n",
        "%w\tWeekday as a number 0-6, 0 is Sunday\t3\n",
        "%d\tDay of month 01-31\t31\n",
        "%b\tMonth name, short version\tDec\n",
        "%B\tMonth name, full version\tDecember\n",
        "%m\tMonth as a number 01-12\t12\n",
        "%y\tYear, short version, without century\t18\n",
        "%Y\tYear, full version\t2018\n",
        "%H\tHour 00-23\t17\n",
        "%I\tHour 00-12\t05\n",
        "%p\tAM/PM\tPM\n",
        "%M\tMinute 00-59\t41\n",
        "%S\tSecond 00-59\t08\n",
        "%f\tMicrosecond 000000-999999\t548513\n",
        "%z\tUTC offset\t+0100\n",
        "%Z\tTimezone\tCST\n",
        "%j\tDay number of year 001-366\t365\n",
        "%U\tWeek number of year, Sunday as the first day of week, 00-53\t52\n",
        "%W\tWeek number of year, Monday as the first day of week, 00-53\t52\n",
        "%c\tLocal version of date and time\tMon Dec 31 17:41:00 2018\n",
        "%C\tCentury\t20\n",
        "%x\tLocal version of date\t12/31/18\n",
        "%X\tLocal version of time\t17:41:00\n",
        "%%\tA % character\t%\n",
        "%G\tISO 8601 year\t2018\n",
        "%u\tISO 8601 weekday (1-7)\t1\n",
        "%V\tISO 8601 weeknumber (01-53)\t01'''"
      ],
      "execution_count": null,
      "outputs": []
    },
    {
      "cell_type": "code",
      "metadata": {
        "id": "76Z-ozHkjvsG"
      },
      "source": [
        "import datetime\n",
        "a = datetime.datetime(2021, 12, 16)\n",
        "print(a.strftime(\"%a\"))"
      ],
      "execution_count": null,
      "outputs": []
    },
    {
      "cell_type": "markdown",
      "source": [
        "## os Module in Python\n",
        "\n",
        "The os module in Python is a built-in library that provides functions for interacting with the operating system. It allows you to perform a wide variety of tasks, such as reading and\n",
        "writing files, interacting with the file system, and running system commands.\n",
        "\n",
        "Here are some common tasks you can perform with the os module:\n",
        "\n",
        "Reading and writing files The os module provides functions for opening, reading, and writing files. For example, to open a file for reading, you can use the open function:"
      ],
      "metadata": {
        "id": "okACoP3vNaiW"
      }
    },
    {
      "cell_type": "code",
      "source": [
        "import os\n",
        "# Open the file in write-only mode\n",
        "f = os.open(\"myfile.txt\", os.O_WRONLY)\n",
        "# Write to the file\n",
        "os.write(f, b\"Hello, world!\")\n",
        "# Close the file\n",
        "os.close(f)"
      ],
      "metadata": {
        "id": "howKNWCZSdiN"
      },
      "execution_count": null,
      "outputs": []
    },
    {
      "cell_type": "markdown",
      "source": [
        "To open a file for writing, you can use the os.O_WRONLY flag:"
      ],
      "metadata": {
        "id": "GVvoexH9SSU9"
      }
    },
    {
      "cell_type": "code",
      "source": [
        "import os\n",
        "# Open the file in write-only mode\n",
        "f = os.open(\"myfile.txt\", os.O_WRONLY)\n",
        "# Write to the file\n",
        "os.write(f, b\"Hello, world!\")\n",
        "# Close the file\n",
        "os.close(f)"
      ],
      "metadata": {
        "id": "t6IsHbxvNqCR"
      },
      "execution_count": null,
      "outputs": []
    },
    {
      "cell_type": "markdown",
      "source": [
        "Interacting with the file system.The os module also provides functions for interacting with the file system.\n",
        "For example, you can use the os.listdir function to get a list of the files\n",
        "in a directory:"
      ],
      "metadata": {
        "id": "QKjIDQ8nSfOr"
      }
    },
    {
      "cell_type": "code",
      "source": [
        "import os\n",
        "# Get a list of the files in the current directory\n",
        "files = os.listdir(\".\")\n",
        "print(files)  # Output: ['myfile.txt', 'otherfile.txt']"
      ],
      "metadata": {
        "id": "Gc5j8tmNSl4M"
      },
      "execution_count": null,
      "outputs": []
    },
    {
      "cell_type": "code",
      "source": [
        "'''\n",
        "You can also use the os.mkdir function to create a new directory:\n",
        "'''\n",
        "import os\n",
        "# Create a new directory\n",
        "os.mkdir(\"newdir\")"
      ],
      "metadata": {
        "id": "ICZu1oBLSp6O"
      },
      "execution_count": null,
      "outputs": []
    },
    {
      "cell_type": "markdown",
      "source": [
        "Running system commands\n",
        "Finally, the os module provides functions for running system commands.\n",
        " For example, you can use the os.system function to run a command and get the output:"
      ],
      "metadata": {
        "id": "pIOSu9AdStPN"
      }
    },
    {
      "cell_type": "code",
      "source": [
        "import os\n",
        "# Run the \"ls\" command and print the output\n",
        "output = os.system(\"ls\")\n",
        "print(output)  # Output: ['myfile.txt', 'otherfile.txt']"
      ],
      "metadata": {
        "id": "eN_FvMLES2S3",
        "colab": {
          "base_uri": "https://localhost:8080/"
        },
        "outputId": "3569e6d5-e9ae-4a3e-c9a0-541286d094a0"
      },
      "execution_count": null,
      "outputs": [
        {
          "output_type": "stream",
          "name": "stdout",
          "text": [
            "0\n"
          ]
        }
      ]
    },
    {
      "cell_type": "code",
      "source": [
        "'''\n",
        "You can also use the os.popen function to run a command and get the output as\n",
        "a file-like object:'''\n",
        "\n",
        "import os\n",
        "# Run the \"ls\" command and get the output as a file-like object\n",
        "f = os.popen(\"ls\")\n",
        "# Read the contents of the output\n",
        "output = f.read()\n",
        "print(output)  # Output: ['myfile.txt', 'otherfile.txt']\n",
        "# Close the file-like object\n",
        "f.close()"
      ],
      "metadata": {
        "id": "1Iaj0aMtS5fu",
        "colab": {
          "base_uri": "https://localhost:8080/"
        },
        "outputId": "b4382738-5ef9-4340-9a5a-95c0fb1b1000"
      },
      "execution_count": null,
      "outputs": [
        {
          "output_type": "stream",
          "name": "stdout",
          "text": [
            "sample_data\n",
            "\n"
          ]
        }
      ]
    },
    {
      "cell_type": "markdown",
      "source": [
        "In summary, the os module in Python is a built-in library provides a wide variety of functions for interacting with the operating system.\n",
        " It allows you to perform tasks such as reading and writing files, interacting\n",
        " with the file system, and running system commands."
      ],
      "metadata": {
        "id": "fpxJN00mS6zx"
      }
    },
    {
      "cell_type": "code",
      "source": [
        "# List of numbers\n",
        "numbers = [1, 2, 3, 4, 5]\n",
        "\n",
        "# Get only the even numbers using the filter function\n",
        "evens = filter(lambda x: x % 2 == 0, numbers)\n",
        "# Double each number using the map function\n",
        "doubled = map(lambda x:  x % 2 == 0, numbers)\n",
        "# Print the doubled numbers\n",
        "print(list(doubled))\n",
        "# Print the even numbers\n",
        "print(list(evens))"
      ],
      "metadata": {
        "colab": {
          "base_uri": "https://localhost:8080/"
        },
        "id": "F_0w-i0i9tpL",
        "outputId": "0593ae41-4185-435d-a0c1-81bceca2a947"
      },
      "execution_count": null,
      "outputs": [
        {
          "output_type": "stream",
          "name": "stdout",
          "text": [
            "[False, True, False, True, False]\n",
            "[2, 4]\n"
          ]
        }
      ]
    },
    {
      "cell_type": "code",
      "source": [
        "from functools import reduce\n",
        "\n",
        "# List of numbers\n",
        "numbers = [1, 2, 3, 4, 5]\n",
        "\n",
        "# Calculate the sum of the numbers using the reduce function\n",
        "sum = reduce(lambda x, y: x + y, numbers)\n",
        "\n",
        "# Print the sum\n",
        "print(sum)"
      ],
      "metadata": {
        "colab": {
          "base_uri": "https://localhost:8080/"
        },
        "id": "Y9drX1c-Y5ga",
        "outputId": "4a1255e1-bbab-47f7-ffc7-569501263f9c"
      },
      "execution_count": null,
      "outputs": [
        {
          "output_type": "stream",
          "name": "stdout",
          "text": [
            "15\n"
          ]
        }
      ]
    },
    {
      "cell_type": "code",
      "source": [
        "def to_smash(total_candies):\n",
        "    \"\"\"Return the number of leftover candies that must be smashed after distributing\n",
        "    the given number of candies evenly between 3 friends.\n",
        "\n",
        "    >>> to_smash(91)\n",
        "    1\n",
        "    \"\"\"\n",
        "    return total_candies % 3\n",
        "\n",
        "# Check your answer\n",
        "q3.check()"
      ],
      "metadata": {
        "id": "wOTpUQZLNxvg"
      },
      "execution_count": null,
      "outputs": []
    },
    {
      "cell_type": "markdown",
      "source": [
        "# Multitherading\n",
        "When we have multiple threads, each thread can perform a specific task independently. For example, in a chat application, one thread can listen for incoming messages while another thread can handle user input. This allows tasks to be executed concurrently, improving performance and responsiveness.\n",
        "\n",
        "In Python, the `threading` module provides functions and classes to create and manage threads. By using this module, we can define different functions or blocks of code that can run concurrently in separate threads.\n",
        "\n",
        "The advantage of multithreading is that it allows programs to make better use of system resources and handle multiple tasks simultaneously. It is especially useful in situations where tasks can be executed independently or where responsiveness is crucial.\n",
        "\n",
        "However, it's important to note that multithreading can also introduce challenges, such as synchronization issues when multiple threads access shared resources. Proper coordination and synchronization mechanisms need to be employed to ensure the correctness and reliability of the program.\n",
        "\n",
        "Overall, multithreading in Python enables concurrent execution of different parts of a program, improving performance and responsiveness.\n",
        "\n",
        "\n",
        "##Creating a thread\n",
        "To create a thread, we need to create a Thread object and then call its `start()` method. The `start()` method runs the thread and then to stop the execution, we use the `join()` method. Here's how we can create a simple thread.\n",
        "\n",
        "##Functions\n",
        "The following are some of the most commonly used functions in the threading module:\n",
        "\n",
        "`threading.Thread(target, args)`: This function creates a new thread that runs the target function with the specified arguments.\n",
        "\n",
        "`threading.Lock()`: This function creates a lock that can be used to synchronize access to shared resources between threads.\n",
        "\n",
        "## Using a lock to synchronize access to shared resources\n",
        "When working with multithreading in python, locks can be used to synchronize access to shared resources among multiple threads. A lock is an object that acts as a semaphore, allowing only one thread at a time to execute a critical section of code. The lock is released when the thread finishes executing the critical section.\n",
        "\n"
      ],
      "metadata": {
        "id": "9udJuLX99vcP"
      }
    },
    {
      "cell_type": "code",
      "source": [
        "from time import sleep\n",
        "from threading import Thread\n",
        "# Function to be executed in a separate thread\n",
        "class hello(Thread):# this is use to make theard bwtween multiple program\n",
        "  def run(self):\n",
        "    for i in range(5):\n",
        "      print(f\"Therd1:{i}hello\")\n",
        "      sleep(1)# Pause for 1 second between each number\n",
        "\n",
        "\n",
        "class hi(Thread):# Create two threads\n",
        "  def run(self):\n",
        "    for i in range(5):\n",
        "      print(f\"Therd2:{i} hi\")\n",
        "      sleep(1)\n",
        "\n",
        "\n",
        "t1=hello()\n",
        "t2=hi()\n",
        "\n",
        "t1.start()\n",
        "sleep(0.2)\n",
        "t2.start()\n",
        "\n",
        "t1.join()# Wait for both threads to finish\n",
        "t2.join()\n",
        "print(\"bye\")"
      ],
      "metadata": {
        "colab": {
          "base_uri": "https://localhost:8080/"
        },
        "id": "z_1V57CItdSV",
        "outputId": "ecff7604-409b-42d3-b8ec-5b6b8fd6272e"
      },
      "execution_count": null,
      "outputs": [
        {
          "output_type": "stream",
          "name": "stdout",
          "text": [
            "Therd1:0hello\n",
            "Therd2:0 hi\n",
            "Therd1:1hello\n",
            "Therd2:1 hi\n",
            "Therd1:2hello\n",
            "Therd2:2 hi\n",
            "Therd1:3hello\n",
            "Therd2:3 hi\n",
            "Therd1:4hello\n",
            "Therd2:4 hi\n",
            "bye\n"
          ]
        }
      ]
    },
    {
      "cell_type": "code",
      "source": [
        "import threading\n",
        "import time\n",
        "\n",
        "# Function to be executed in a separate thread\n",
        "def print_numbers():\n",
        "    for i in range(1, 6):\n",
        "        print(f\"Thread 1: {i}\")\n",
        "        time.sleep(1)  # Pause for 1 second between each number\n",
        "\n",
        "# Function to be executed in another separate thread\n",
        "def print_letters():\n",
        "    for letter in 'ABCDE':\n",
        "        print(f\"Thread 2: {letter}\")\n",
        "        time.sleep(1)  # Pause for 1 second between each letter\n",
        "\n",
        "# Create two threads\n",
        "thread1 = threading.Thread(target=print_numbers)\n",
        "thread2 = threading.Thread(target=print_letters)\n",
        "\n",
        "# Start the threads\n",
        "thread1.start()\n",
        "thread2.start()\n",
        "\n",
        "# Wait for both threads to finish\n",
        "thread1.join()\n",
        "thread2.join()\n",
        "\n",
        "print(\"Done\")\n"
      ],
      "metadata": {
        "colab": {
          "base_uri": "https://localhost:8080/"
        },
        "id": "XYxuBK5_w16R",
        "outputId": "593bf0cf-ed8c-4701-abf8-77ade6667566"
      },
      "execution_count": null,
      "outputs": [
        {
          "output_type": "stream",
          "name": "stdout",
          "text": [
            "Thread 1: 1\n",
            "Thread 2: A\n",
            "Thread 1: 2\n",
            "Thread 2: B\n",
            "Thread 1: 3\n",
            "Thread 2: C\n",
            "Thread 1: 4\n",
            "Thread 2: D\n",
            "Thread 1: 5\n",
            "Thread 2: E\n",
            "Done\n"
          ]
        }
      ]
    },
    {
      "cell_type": "code",
      "source": [
        "import threading\n",
        "\n",
        "def thread_task(task):\n",
        "    # Do some work here\n",
        "    print(\"Task processed:\", task)\n",
        "\n",
        "if __name__ == '__main__':\n",
        "    tasks = [1, 2, 3, 4, 5, 6, 7, 8, 9, 10]\n",
        "\n",
        "    threads = []\n",
        "    for task in tasks:\n",
        "        thread = threading.Thread(target=thread_task, args=(task,))\n",
        "        threads.append(thread)\n",
        "        thread.start()\n",
        "\n",
        "    for thread in threads:\n",
        "        thread.join()"
      ],
      "metadata": {
        "colab": {
          "base_uri": "https://localhost:8080/"
        },
        "id": "baIKN_WHx4T3",
        "outputId": "70c20b3f-4ed5-4401-b86e-cc06ee2e33f6"
      },
      "execution_count": null,
      "outputs": [
        {
          "output_type": "stream",
          "name": "stdout",
          "text": [
            "Task processed: 1\n",
            "Task processed: 2\n",
            "Task processed: 3\n",
            "Task processed: 4\n",
            "Task processed: 5\n",
            "Task processed:Task processed: 6\n",
            " 7\n",
            "Task processed:Task processed: 8\n",
            "Task processed:  10\n",
            "9\n"
          ]
        }
      ]
    },
    {
      "cell_type": "code",
      "source": [
        "import threading\n",
        "\n",
        "def increment(counter, lock):\n",
        "    for i in range(10000):\n",
        "        lock.acquire()\n",
        "        counter += 1\n",
        "        lock.release()\n",
        "\n",
        "if __name__ == '__main__':\n",
        "    counter = 0\n",
        "    lock = threading.Lock()\n",
        "\n",
        "    threads = []\n",
        "    for i in range(2):\n",
        "        thread = threading.Thread(target=increment, args=(counter, lock))\n",
        "        threads.append(thread)\n",
        "        thread.start()\n",
        "\n",
        "    for thread in threads:\n",
        "        thread.join()\n",
        "\n",
        "    print(\"Counter value:\", counter)"
      ],
      "metadata": {
        "colab": {
          "base_uri": "https://localhost:8080/"
        },
        "id": "HclWR5bBx88q",
        "outputId": "fb1e62e1-fc23-4358-9859-452c219d176a"
      },
      "execution_count": null,
      "outputs": [
        {
          "output_type": "stream",
          "name": "stdout",
          "text": [
            "Counter value: 0\n"
          ]
        }
      ]
    }
  ]
}