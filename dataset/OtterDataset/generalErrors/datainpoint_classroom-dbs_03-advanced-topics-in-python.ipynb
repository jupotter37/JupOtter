{
 "cells": [
  {
   "cell_type": "markdown",
   "metadata": {
    "slideshow": {
     "slide_type": "slide"
    }
   },
   "source": [
    "# Introduction to Python\n",
    "\n",
    "> Advanced Topics in Python\n",
    "\n",
    "Kuo, Yao-Jen from [DATAINPOINT](https://www.datainpoint.com/)"
   ]
  },
  {
   "cell_type": "markdown",
   "metadata": {
    "slideshow": {
     "slide_type": "subslide"
    }
   },
   "source": [
    "## TL; DR\n",
    "\n",
    "> In this lecture, we will talk about some more advanced topics in Python including encapsulation and some useful skills."
   ]
  },
  {
   "cell_type": "markdown",
   "metadata": {
    "slideshow": {
     "slide_type": "slide"
    }
   },
   "source": [
    "## Encapsulations"
   ]
  },
  {
   "cell_type": "markdown",
   "metadata": {
    "slideshow": {
     "slide_type": "subslide"
    }
   },
   "source": [
    "## What is encapsulation?\n",
    "\n",
    ">  Encapsulation refers to one of two related but distinct notions, and sometimes to the combination thereof:\n",
    "> 1. A language mechanism for restricting direct access to some of the object's components.\n",
    "> 2. A language construct that facilitates the bundling of data with the methods (or other functions) operating on that data.\n",
    "\n",
    "Source: <https://en.wikipedia.org/wiki/Encapsulation_(computer_programming)>"
   ]
  },
  {
   "cell_type": "markdown",
   "metadata": {
    "slideshow": {
     "slide_type": "subslide"
    }
   },
   "source": [
    "## Why encapsulation?\n",
    "\n",
    "As our codes piled up, we need a mechanism making them:\n",
    "- more structured\n",
    "- more reusable\n",
    "- more scalable"
   ]
  },
  {
   "cell_type": "markdown",
   "metadata": {
    "slideshow": {
     "slide_type": "subslide"
    }
   },
   "source": [
    "## Python provides several tools for programmers organizing their codes\n",
    "\n",
    "- Functions\n",
    "- Classes\n",
    "- Modules\n",
    "- Libraries"
   ]
  },
  {
   "cell_type": "markdown",
   "metadata": {
    "slideshow": {
     "slide_type": "subslide"
    }
   },
   "source": [
    "## How do we decide which tool to adopt?\n",
    "\n",
    "Simply put, that depends on **scale** and project spec."
   ]
  },
  {
   "cell_type": "markdown",
   "metadata": {
    "slideshow": {
     "slide_type": "subslide"
    }
   },
   "source": [
    "## These components are mixed and matched with great flexibility\n",
    "\n",
    "- A couple lines of code assembles a function\n",
    "    - A couple of functions assembles a class\n",
    "        - A couple of classes assembles a module\n",
    "            - A couple of modules assembles a library\n",
    "                - A couple of libraries assembles a larger library"
   ]
  },
  {
   "cell_type": "markdown",
   "metadata": {
    "slideshow": {
     "slide_type": "subslide"
    }
   },
   "source": [
    "## Codes, assemble!\n",
    "\n",
    "![](https://media.giphy.com/media/j2pWZpr5RlpCodOB0d/giphy.gif)\n",
    "\n",
    "Source: <https://giphy.com/>"
   ]
  },
  {
   "cell_type": "markdown",
   "metadata": {
    "slideshow": {
     "slide_type": "slide"
    }
   },
   "source": [
    "## Functions"
   ]
  },
  {
   "cell_type": "markdown",
   "metadata": {
    "slideshow": {
     "slide_type": "subslide"
    }
   },
   "source": [
    "## What is a function\n",
    "\n",
    "> A function is a named sequence of statements that performs a computation, either mathematical, symbolic, or graphical. When we define a function, we specify the name and the sequence of statements. Later, we can call the function by name."
   ]
  },
  {
   "cell_type": "markdown",
   "metadata": {
    "slideshow": {
     "slide_type": "subslide"
    }
   },
   "source": [
    "## Besides built-in functions or library-powered functions, we sometimes need to self-define our own functions\n",
    "\n",
    "- `def` the name of our function\n",
    "- `return` the output of our function\n",
    "\n",
    "```python\n",
    "def function_name(INPUTS, ARGUMENTS, ...):\n",
    "    \"\"\"\n",
    "    docstring: print documentation when help() is called\n",
    "    \"\"\"\n",
    "    # sequence of statements\n",
    "    return OUTPUTS\n",
    "```"
   ]
  },
  {
   "cell_type": "markdown",
   "metadata": {
    "slideshow": {
     "slide_type": "subslide"
    }
   },
   "source": [
    "## The principle of designing of a function is about mapping the relationship of inputs and outputs\n",
    "\n",
    "- The one-on-one relationship\n",
    "- The many-on-one relationship\n",
    "- The one-on-many relationship\n",
    "- The many-on-many releationship"
   ]
  },
  {
   "cell_type": "markdown",
   "metadata": {
    "slideshow": {
     "slide_type": "subslide"
    }
   },
   "source": [
    "## The one-on-one relationship\n",
    "\n",
    "Using scalar as input and output."
   ]
  },
  {
   "cell_type": "code",
   "execution_count": 1,
   "metadata": {},
   "outputs": [],
   "source": [
    "def absolute(x):\n",
    "    \"\"\"\n",
    "    Return the absolute value of the x.\n",
    "    \"\"\"\n",
    "    if x >= 0:\n",
    "        return x\n",
    "    else:\n",
    "        return -x"
   ]
  },
  {
   "cell_type": "markdown",
   "metadata": {
    "slideshow": {
     "slide_type": "subslide"
    }
   },
   "source": [
    "## Once the function is defined, call as if it is a built-in function"
   ]
  },
  {
   "cell_type": "code",
   "execution_count": 2,
   "metadata": {},
   "outputs": [
    {
     "name": "stdout",
     "output_type": "stream",
     "text": [
      "Help on function absolute in module __main__:\n",
      "\n",
      "absolute(x)\n",
      "    Return the absolute value of the x.\n",
      "\n",
      "5566\n",
      "5566\n",
      "0\n"
     ]
    }
   ],
   "source": [
    "help(absolute)\n",
    "print(absolute(-5566))\n",
    "print(absolute(5566))\n",
    "print(absolute(0))"
   ]
  },
  {
   "cell_type": "markdown",
   "metadata": {
    "slideshow": {
     "slide_type": "subslide"
    }
   },
   "source": [
    "## The many-on-one relationship relationship\n",
    "\n",
    "- Using scalars or structures for fixed inputs\n",
    "- Using `*args` or `**kwargs` for flexible inputs"
   ]
  },
  {
   "cell_type": "markdown",
   "metadata": {
    "slideshow": {
     "slide_type": "subslide"
    }
   },
   "source": [
    "## Using scalars for fixed inputs"
   ]
  },
  {
   "cell_type": "code",
   "execution_count": 3,
   "metadata": {},
   "outputs": [
    {
     "name": "stdout",
     "output_type": "stream",
     "text": [
      "30\n"
     ]
    }
   ],
   "source": [
    "def product(x, y):\n",
    "    \"\"\"\n",
    "    Return the product values of x and y.\n",
    "    \"\"\"\n",
    "    return x*y\n",
    "\n",
    "print(product(5, 6))"
   ]
  },
  {
   "cell_type": "markdown",
   "metadata": {
    "slideshow": {
     "slide_type": "subslide"
    }
   },
   "source": [
    "## Using structures for fixed inputs"
   ]
  },
  {
   "cell_type": "code",
   "execution_count": 4,
   "metadata": {},
   "outputs": [
    {
     "name": "stdout",
     "output_type": "stream",
     "text": [
      "900\n"
     ]
    }
   ],
   "source": [
    "def product(x):\n",
    "    \"\"\"\n",
    "    x: an iterable.\n",
    "    Return the product values of x.\n",
    "    \"\"\"\n",
    "    prod = 1\n",
    "    for i in x:\n",
    "        prod *= i\n",
    "    return prod\n",
    "\n",
    "print(product([5, 5, 6, 6]))"
   ]
  },
  {
   "cell_type": "markdown",
   "metadata": {
    "slideshow": {
     "slide_type": "subslide"
    }
   },
   "source": [
    "## Using `*args` for flexible inputs\n",
    "\n",
    "- As in flexible arguments\n",
    "- Getting flexible `*args` as a `tuple`"
   ]
  },
  {
   "cell_type": "code",
   "execution_count": 5,
   "metadata": {},
   "outputs": [
    {
     "name": "stdout",
     "output_type": "stream",
     "text": [
      "(5, 5, 6, 6)\n"
     ]
    }
   ],
   "source": [
    "def plain_return(*args):\n",
    "    \"\"\"\n",
    "    Return args.\n",
    "    \"\"\"\n",
    "    return args\n",
    "\n",
    "print(plain_return(5, 5, 6, 6))"
   ]
  },
  {
   "cell_type": "markdown",
   "metadata": {
    "slideshow": {
     "slide_type": "subslide"
    }
   },
   "source": [
    "## Using `**kwargs` for flexible inputs\n",
    "\n",
    "- AS in keyword arguments\n",
    "- Getting flexible `**kwargs` as a `dict`"
   ]
  },
  {
   "cell_type": "code",
   "execution_count": 6,
   "metadata": {},
   "outputs": [
    {
     "name": "stdout",
     "output_type": "stream",
     "text": [
      "{'TW': 'Taiwan', 'JP': 'Japan', 'CN': 'China', 'KR': 'South Korea'}\n"
     ]
    }
   ],
   "source": [
    "def plain_return(**kwargs):\n",
    "    \"\"\"\n",
    "    Retrun kwargs.\n",
    "    \"\"\"\n",
    "    return kwargs\n",
    "\n",
    "print(plain_return(TW='Taiwan', JP='Japan', CN='China', KR='South Korea'))"
   ]
  },
  {
   "cell_type": "markdown",
   "metadata": {
    "slideshow": {
     "slide_type": "subslide"
    }
   },
   "source": [
    "## The one-on-many relationship\n",
    "\n",
    "- Using default `tuple` with comma\n",
    "- Using preferred data structure"
   ]
  },
  {
   "cell_type": "markdown",
   "metadata": {
    "slideshow": {
     "slide_type": "subslide"
    }
   },
   "source": [
    "## Using default `tuple` with comma"
   ]
  },
  {
   "cell_type": "code",
   "execution_count": 7,
   "metadata": {},
   "outputs": [
    {
     "name": "stdout",
     "output_type": "stream",
     "text": [
      "(157, 50)\n",
      "(14, 25)\n"
     ]
    }
   ],
   "source": [
    "def as_integer_ratio(x):\n",
    "    \"\"\"\n",
    "    Return x as integer ratio.\n",
    "    \"\"\"\n",
    "    x_str = str(x)\n",
    "    int_part = int(x_str.split(\".\")[0])\n",
    "    decimal_part = x_str.split(\".\")[1]\n",
    "    n_decimal = len(decimal_part)\n",
    "    denominator = 10**(n_decimal)\n",
    "    numerator = int(decimal_part)\n",
    "    while numerator % 2 == 0 and denominator % 2 == 0:\n",
    "        denominator /= 2\n",
    "        numerator /= 2\n",
    "    while numerator % 5 == 0 and denominator % 5 == 0:\n",
    "        denominator /= 5\n",
    "        numerator /= 5\n",
    "    final_numerator = int(int_part*denominator + numerator)\n",
    "    final_denominator = int(denominator)\n",
    "    return final_numerator, final_denominator\n",
    "\n",
    "print(as_integer_ratio(3.14))\n",
    "print(as_integer_ratio(0.56))"
   ]
  },
  {
   "cell_type": "markdown",
   "metadata": {
    "slideshow": {
     "slide_type": "subslide"
    }
   },
   "source": [
    "## Using preferred data structure"
   ]
  },
  {
   "cell_type": "code",
   "execution_count": 8,
   "metadata": {},
   "outputs": [
    {
     "name": "stdout",
     "output_type": "stream",
     "text": [
      "{'numerator': 157, 'denominator': 50}\n",
      "{'numerator': 14, 'denominator': 25}\n"
     ]
    }
   ],
   "source": [
    "def as_integer_ratio(x):\n",
    "    \"\"\"\n",
    "    Return x as integer ratio.\n",
    "    \"\"\"\n",
    "    x_str = str(x)\n",
    "    int_part = int(x_str.split(\".\")[0])\n",
    "    decimal_part = x_str.split(\".\")[1]\n",
    "    n_decimal = len(decimal_part)\n",
    "    denominator = 10**(n_decimal)\n",
    "    numerator = int(decimal_part)\n",
    "    while numerator % 2 == 0 and denominator % 2 == 0:\n",
    "        denominator /= 2\n",
    "        numerator /= 2\n",
    "    while numerator % 5 == 0 and denominator % 5 == 0:\n",
    "        denominator /= 5\n",
    "        numerator /= 5\n",
    "    final_numerator = int(int_part*denominator + numerator)\n",
    "    final_denominator = int(denominator)\n",
    "    integer_ratio = {\n",
    "        'numerator': final_numerator,\n",
    "        'denominator': final_denominator\n",
    "    }\n",
    "    return integer_ratio\n",
    "\n",
    "print(as_integer_ratio(3.14))\n",
    "print(as_integer_ratio(0.56))"
   ]
  },
  {
   "cell_type": "markdown",
   "metadata": {
    "slideshow": {
     "slide_type": "subslide"
    }
   },
   "source": [
    "## The many-on-many relationship\n",
    "\n",
    "A mix-and-match of one-on-many and many-on-one relationship."
   ]
  },
  {
   "cell_type": "markdown",
   "metadata": {
    "slideshow": {
     "slide_type": "subslide"
    }
   },
   "source": [
    "## Coding mistakes are common, they happen all the time\n",
    "\n",
    "![Imgur](https://i.imgur.com/t9sYsyk.jpg?1)\n",
    "\n",
    "Source: Google Search"
   ]
  },
  {
   "cell_type": "markdown",
   "metadata": {
    "slideshow": {
     "slide_type": "subslide"
    }
   },
   "source": [
    "## How does a function designer handle errors?\n",
    "\n",
    "Python mistakes come in three basic flavors:\n",
    "- Syntax errors\n",
    "- Runtime errors\n",
    "- Semantic errors"
   ]
  },
  {
   "cell_type": "markdown",
   "metadata": {
    "slideshow": {
     "slide_type": "subslide"
    }
   },
   "source": [
    "## Syntax errors\n",
    "\n",
    "Errors where the code is not valid Python (generally easy to fix)."
   ]
  },
  {
   "cell_type": "code",
   "execution_count": 9,
   "metadata": {},
   "outputs": [
    {
     "ename": "SyntaxError",
     "evalue": "invalid syntax (<ipython-input-9-47000583e244>, line 2)",
     "output_type": "error",
     "traceback": [
      "\u001b[0;36m  File \u001b[0;32m\"<ipython-input-9-47000583e244>\"\u001b[0;36m, line \u001b[0;32m2\u001b[0m\n\u001b[0;31m    for (i in range(10)) {print(i)}\u001b[0m\n\u001b[0m                         ^\u001b[0m\n\u001b[0;31mSyntaxError\u001b[0m\u001b[0;31m:\u001b[0m invalid syntax\n"
     ]
    }
   ],
   "source": [
    "# Python does not need curly braces to create a code block\n",
    "for (i in range(10)) {print(i)}"
   ]
  },
  {
   "cell_type": "markdown",
   "metadata": {
    "slideshow": {
     "slide_type": "subslide"
    }
   },
   "source": [
    "## Runtime errors\n",
    "\n",
    "Errors where syntactically valid code fails to execute, perhaps due to invalid user input (sometimes easy to fix)\n",
    "\n",
    "- `NameError`\n",
    "- `TypeError`\n",
    "- `ZeroDivisionError`\n",
    "- `IndexError`\n",
    "- ...etc."
   ]
  },
  {
   "cell_type": "code",
   "execution_count": 10,
   "metadata": {},
   "outputs": [
    {
     "ename": "IndexError",
     "evalue": "string index out of range",
     "output_type": "error",
     "traceback": [
      "\u001b[0;31m---------------------------------------------------------------------------\u001b[0m",
      "\u001b[0;31mIndexError\u001b[0m                                Traceback (most recent call last)",
      "\u001b[0;32m<ipython-input-10-05aa90e95975>\u001b[0m in \u001b[0;36m<module>\u001b[0;34m\u001b[0m\n\u001b[0;32m----> 1\u001b[0;31m \u001b[0mprint\u001b[0m\u001b[0;34m(\u001b[0m\u001b[0;34m'5566'\u001b[0m\u001b[0;34m[\u001b[0m\u001b[0;36m4\u001b[0m\u001b[0;34m]\u001b[0m\u001b[0;34m)\u001b[0m\u001b[0;34m\u001b[0m\u001b[0;34m\u001b[0m\u001b[0m\n\u001b[0m",
      "\u001b[0;31mIndexError\u001b[0m: string index out of range"
     ]
    }
   ],
   "source": [
    "print('5566'[4])"
   ]
  },
  {
   "cell_type": "markdown",
   "metadata": {
    "slideshow": {
     "slide_type": "subslide"
    }
   },
   "source": [
    "## Semantic errors\n",
    "\n",
    "Errors in logic: code executes without a problem, but the result is not what you expect (often very difficult to identify and fix)"
   ]
  },
  {
   "cell_type": "code",
   "execution_count": 11,
   "metadata": {},
   "outputs": [
    {
     "name": "stdout",
     "output_type": "stream",
     "text": [
      "0\n"
     ]
    }
   ],
   "source": [
    "def product(x):\n",
    "    \"\"\"\n",
    "    x: an iterable.\n",
    "    Return the product values of x.\n",
    "    \"\"\"\n",
    "    prod = 0 # set \n",
    "    for i in x:\n",
    "        prod *= i\n",
    "    return prod\n",
    "\n",
    "print(product([5, 5, 6, 6])) # expecting 900"
   ]
  },
  {
   "cell_type": "markdown",
   "metadata": {
    "slideshow": {
     "slide_type": "subslide"
    }
   },
   "source": [
    "## Using `try` and `except` to catch exceptions\n",
    "\n",
    "```python\n",
    "try:\n",
    "    # sequence of statements if everything is fine\n",
    "except TYPE_OF_ERROR:\n",
    "    # sequence of statements if something goes wrong\n",
    "```"
   ]
  },
  {
   "cell_type": "code",
   "execution_count": 12,
   "metadata": {
    "slideshow": {
     "slide_type": "subslide"
    }
   },
   "outputs": [
    {
     "name": "stdout",
     "output_type": "stream",
     "text": [
      "Encountering a SyntaxError.\n"
     ]
    }
   ],
   "source": [
    "try:\n",
    "    exec(\"\"\"for (i in range(10)) {print(i)}\"\"\")\n",
    "except SyntaxError:\n",
    "    print(\"Encountering a SyntaxError.\")"
   ]
  },
  {
   "cell_type": "code",
   "execution_count": 13,
   "metadata": {
    "slideshow": {
     "slide_type": "subslide"
    }
   },
   "outputs": [
    {
     "name": "stdout",
     "output_type": "stream",
     "text": [
      "Encountering a IndexError.\n"
     ]
    }
   ],
   "source": [
    "try:\n",
    "    print('5566'[4])\n",
    "except IndexError:\n",
    "    print(\"Encountering a IndexError.\")"
   ]
  },
  {
   "cell_type": "code",
   "execution_count": 14,
   "metadata": {
    "slideshow": {
     "slide_type": "subslide"
    }
   },
   "outputs": [
    {
     "name": "stdout",
     "output_type": "stream",
     "text": [
      "Encountering a ZeroDivisionError.\n"
     ]
    }
   ],
   "source": [
    "try:\n",
    "    print(5566 / 0)\n",
    "except ZeroDivisionError:\n",
    "    print(\"Encountering a ZeroDivisionError.\")"
   ]
  },
  {
   "cell_type": "code",
   "execution_count": 15,
   "metadata": {
    "slideshow": {
     "slide_type": "subslide"
    }
   },
   "outputs": [
    {
     "name": "stdout",
     "output_type": "stream",
     "text": [
      "Encountering a whatever error.\n"
     ]
    }
   ],
   "source": [
    "# it is optional to specify the type of error\n",
    "try:\n",
    "    print(5566 / 0)\n",
    "except:\n",
    "    print(\"Encountering a whatever error.\")"
   ]
  },
  {
   "cell_type": "markdown",
   "metadata": {
    "slideshow": {
     "slide_type": "subslide"
    }
   },
   "source": [
    "## When it comes to defining functions, it is vital to understand the scope of a variable"
   ]
  },
  {
   "cell_type": "markdown",
   "metadata": {
    "slideshow": {
     "slide_type": "subslide"
    }
   },
   "source": [
    "## What is scope?\n",
    "\n",
    "> In computer programming, the scope of a name binding, an association of a name to an entity, such as a variable, is the region of a computer program where the binding is valid.\n",
    "\n",
    "Source: <https://en.wikipedia.org/wiki/Scope_(computer_science)>"
   ]
  },
  {
   "cell_type": "markdown",
   "metadata": {
    "slideshow": {
     "slide_type": "subslide"
    }
   },
   "source": [
    "## Simply put, now we have a self-defined function, so the programming environment is now split into 2:\n",
    "\n",
    "- Global\n",
    "- Local"
   ]
  },
  {
   "cell_type": "markdown",
   "metadata": {
    "slideshow": {
     "slide_type": "subslide"
    }
   },
   "source": [
    "## A variable declared within the indented block of a function is a local variable, it is only valid inside the `def` block"
   ]
  },
  {
   "cell_type": "code",
   "execution_count": 16,
   "metadata": {
    "slideshow": {
     "slide_type": "-"
    }
   },
   "outputs": [
    {
     "name": "stdout",
     "output_type": "stream",
     "text": [
      "0 is a even number.\n"
     ]
    },
    {
     "ename": "NameError",
     "evalue": "name 'x' is not defined",
     "output_type": "error",
     "traceback": [
      "\u001b[0;31m---------------------------------------------------------------------------\u001b[0m",
      "\u001b[0;31mNameError\u001b[0m                                 Traceback (most recent call last)",
      "\u001b[0;32m<ipython-input-16-31bf3d4d9608>\u001b[0m in \u001b[0;36m<module>\u001b[0;34m\u001b[0m\n\u001b[1;32m      7\u001b[0m \u001b[0;34m\u001b[0m\u001b[0m\n\u001b[1;32m      8\u001b[0m \u001b[0mprint\u001b[0m\u001b[0;34m(\u001b[0m\u001b[0mcheck_odd_even\u001b[0m\u001b[0;34m(\u001b[0m\u001b[0;36m0\u001b[0m\u001b[0;34m)\u001b[0m\u001b[0;34m)\u001b[0m\u001b[0;34m\u001b[0m\u001b[0;34m\u001b[0m\u001b[0m\n\u001b[0;32m----> 9\u001b[0;31m \u001b[0mprint\u001b[0m\u001b[0;34m(\u001b[0m\u001b[0mx\u001b[0m\u001b[0;34m)\u001b[0m\u001b[0;34m\u001b[0m\u001b[0;34m\u001b[0m\u001b[0m\n\u001b[0m",
      "\u001b[0;31mNameError\u001b[0m: name 'x' is not defined"
     ]
    }
   ],
   "source": [
    "def check_odd_even(x):\n",
    "    mod = x % 2 # local variable, declared inside def block\n",
    "    if mod == 0:\n",
    "        return '{} is a even number.'.format(x)\n",
    "    else:\n",
    "        return '{} is a odd number.'.format(x)\n",
    "\n",
    "print(check_odd_even(0))\n",
    "print(x)"
   ]
  },
  {
   "cell_type": "code",
   "execution_count": 17,
   "metadata": {
    "slideshow": {
     "slide_type": "subslide"
    }
   },
   "outputs": [
    {
     "ename": "NameError",
     "evalue": "name 'mod' is not defined",
     "output_type": "error",
     "traceback": [
      "\u001b[0;31m---------------------------------------------------------------------------\u001b[0m",
      "\u001b[0;31mNameError\u001b[0m                                 Traceback (most recent call last)",
      "\u001b[0;32m<ipython-input-17-55a92c19d90f>\u001b[0m in \u001b[0;36m<module>\u001b[0;34m\u001b[0m\n\u001b[0;32m----> 1\u001b[0;31m \u001b[0mprint\u001b[0m\u001b[0;34m(\u001b[0m\u001b[0mmod\u001b[0m\u001b[0;34m)\u001b[0m\u001b[0;34m\u001b[0m\u001b[0;34m\u001b[0m\u001b[0m\n\u001b[0m",
      "\u001b[0;31mNameError\u001b[0m: name 'mod' is not defined"
     ]
    }
   ],
   "source": [
    "print(mod)"
   ]
  },
  {
   "cell_type": "markdown",
   "metadata": {
    "slideshow": {
     "slide_type": "subslide"
    }
   },
   "source": [
    "## A variable declared outside of the indented block of a function is a glocal variable, it is valid everywhere"
   ]
  },
  {
   "cell_type": "code",
   "execution_count": 18,
   "metadata": {},
   "outputs": [
    {
     "name": "stdout",
     "output_type": "stream",
     "text": [
      "0 is a even number.\n",
      "0\n",
      "0\n"
     ]
    }
   ],
   "source": [
    "x = 0\n",
    "mod = x % 2\n",
    "def check_odd_even():\n",
    "    if mod == 0:\n",
    "        return '{} is a even number.'.format(x)\n",
    "    else:\n",
    "        return '{} is a odd number.'.format(x)\n",
    "\n",
    "print(check_odd_even())\n",
    "print(x)\n",
    "print(mod)"
   ]
  },
  {
   "cell_type": "markdown",
   "metadata": {
    "slideshow": {
     "slide_type": "subslide"
    }
   },
   "source": [
    "## Although global variable looks quite convenient, it is HIGHLY recommended NOT using global variable directly in a indented function block."
   ]
  },
  {
   "cell_type": "markdown",
   "metadata": {
    "slideshow": {
     "slide_type": "slide"
    }
   },
   "source": [
    "## Classes"
   ]
  },
  {
   "cell_type": "markdown",
   "metadata": {
    "slideshow": {
     "slide_type": "subslide"
    }
   },
   "source": [
    "## So far, we've learned programming known as \"Procedural Programming\"\n",
    "\n",
    "In its simplest definition, procedural programming involves writing code in a number of sequential steps and sometimes we combine these steps into commands called functions."
   ]
  },
  {
   "cell_type": "markdown",
   "metadata": {
    "slideshow": {
     "slide_type": "subslide"
    }
   },
   "source": [
    "## Another practice adopted in software development is called \"Object-Oriented Programming, OOP\"\n",
    "\n",
    "Rather than code being designed around sequential steps, it is instead defined around objects."
   ]
  },
  {
   "cell_type": "markdown",
   "metadata": {
    "slideshow": {
     "slide_type": "subslide"
    }
   },
   "source": [
    "## What is an object?\n",
    "\n",
    "> In Object-oriented programming, an object is an instance of a Class. Objects are an abstraction. They hold both data, and ways to manipulate the data. The data is usually not visible outside the object. It can only be changed by using a well-specified mechanism (usually called interface).\n",
    "\n",
    "Source: <https://simple.wikipedia.org/wiki/Object_(computer_science)>"
   ]
  },
  {
   "cell_type": "markdown",
   "metadata": {
    "slideshow": {
     "slide_type": "subslide"
    }
   },
   "source": [
    "## Simply put, an object is instantiated via a specific class."
   ]
  },
  {
   "cell_type": "code",
   "execution_count": 19,
   "metadata": {},
   "outputs": [
    {
     "name": "stdout",
     "output_type": "stream",
     "text": [
      "<class 'int'>\n"
     ]
    }
   ],
   "source": [
    "# the object favorite_integer is instantiated via int class\n",
    "favorite_integer = 5566\n",
    "print(type(favorite_integer))"
   ]
  },
  {
   "cell_type": "markdown",
   "metadata": {
    "slideshow": {
     "slide_type": "subslide"
    }
   },
   "source": [
    "## What is a class?\n",
    "\n",
    "> A class provides a set of behaviors in the form of member functions (also known as methods), with implementations that are common to all instances of that class. A class also serves as a **blueprint** for its instances, effectively determining the way that state information for each instance is represented in the form of attributes.\n",
    "\n",
    "Source: <https://www.amazon.com/Structures-Algorithms-Python-Michael-Goodrich/dp/1118290275>"
   ]
  },
  {
   "cell_type": "markdown",
   "metadata": {
    "slideshow": {
     "slide_type": "subslide"
    }
   },
   "source": [
    "## The relationship between object and class\n",
    "\n",
    "- A class is like a blueprint designed by its creators;\n",
    "- An object is like the final product build by its users based on its blueprint."
   ]
  },
  {
   "cell_type": "markdown",
   "metadata": {
    "slideshow": {
     "slide_type": "subslide"
    }
   },
   "source": [
    "## Why implementing a class by ourselves?\n",
    "\n",
    "- We define our own functions if there is no appropriate built-in functions or library-powered functions\n",
    "- We implement our own classes if there is no appropriate built-in classes or library-powered classes"
   ]
  },
  {
   "cell_type": "markdown",
   "metadata": {
    "slideshow": {
     "slide_type": "subslide"
    }
   },
   "source": [
    "## So far, we've been using these built-in classes\n",
    "\n",
    "- Scalars\n",
    "    - `int`\n",
    "    - `float`\n",
    "    - `str`\n",
    "    - `bool`\n",
    "    - `NoneType`\n",
    "- Data Structures\n",
    "    - `list`\n",
    "    - `tuple`\n",
    "    - `dict`\n",
    "    - `set`"
   ]
  },
  {
   "cell_type": "markdown",
   "metadata": {
    "slideshow": {
     "slide_type": "subslide"
    }
   },
   "source": [
    "## Popular object classes created by third party libraries\n",
    "\n",
    "- `ndarray`\n",
    "- `Index`\n",
    "- `Series`\n",
    "- `DataFrame`"
   ]
  },
  {
   "cell_type": "markdown",
   "metadata": {
    "slideshow": {
     "slide_type": "subslide"
    }
   },
   "source": [
    "## Simply put, implementing a class is binding specific functions and data onto an object\n",
    "\n",
    "- `class` defines the name diplayed when calling `type()` after object is created\n",
    "- `__init__` initiates the object itself\n",
    "- `self` proxies the object itself after object is created\n",
    "\n",
    "```python\n",
    "class ClassName:\n",
    "    \"\"\"\n",
    "    docstring: print documentation when __doc__ attribute is accessed\n",
    "    \"\"\"\n",
    "    def __init__(self, ATTRIBUTES, ...):\n",
    "        # sequence of statements\n",
    "    def method(self, ATTRIBUTES, ...):\n",
    "        # sequence of statements\n",
    "```"
   ]
  },
  {
   "cell_type": "markdown",
   "metadata": {
    "slideshow": {
     "slide_type": "subslide"
    }
   },
   "source": [
    "## Let's create a class named `SimpleCalculator` with no methods"
   ]
  },
  {
   "cell_type": "code",
   "execution_count": 20,
   "metadata": {},
   "outputs": [],
   "source": [
    "class SimpleCalculator:\n",
    "    \"\"\"\n",
    "    This class creates a simple calculator that is unable to do anything.\n",
    "    \"\"\"\n",
    "    pass"
   ]
  },
  {
   "cell_type": "code",
   "execution_count": 21,
   "metadata": {
    "slideshow": {
     "slide_type": "subslide"
    }
   },
   "outputs": [
    {
     "name": "stdout",
     "output_type": "stream",
     "text": [
      "<class '__main__.SimpleCalculator'>\n",
      "\n",
      "    This class creates a simple calculator that is unable to do anything.\n",
      "    \n"
     ]
    }
   ],
   "source": [
    "sc = SimpleCalculator()\n",
    "print(type(sc))\n",
    "print(sc.__doc__)"
   ]
  },
  {
   "cell_type": "markdown",
   "metadata": {
    "slideshow": {
     "slide_type": "subslide"
    }
   },
   "source": [
    "## Defining functions inside a class makes them methods"
   ]
  },
  {
   "cell_type": "code",
   "execution_count": 22,
   "metadata": {},
   "outputs": [],
   "source": [
    "class SimpleCalculator:\n",
    "    \"\"\"\n",
    "    This class creates a simple calculator that is able to add and subtract 2 numbers.\n",
    "    \"\"\"\n",
    "    def add(self, x, y):\n",
    "        return x + y\n",
    "    def subtract(self, x, y):\n",
    "        return x - y"
   ]
  },
  {
   "cell_type": "markdown",
   "metadata": {
    "slideshow": {
     "slide_type": "subslide"
    }
   },
   "source": [
    "## What does \"self\" mean in the parenthesis?\n",
    "\n",
    "![](https://media.giphy.com/media/QBcuE4Jas6MxmTWiIn/giphy.gif)\n",
    "\n",
    "Source: <https://giphy.com/>"
   ]
  },
  {
   "cell_type": "markdown",
   "metadata": {
    "slideshow": {
     "slide_type": "subslide"
    }
   },
   "source": [
    "## The \"self\" actually means the class itself\n",
    "\n",
    "Think of the behavior of whom that is gonna use our class:\n",
    "\n",
    "```python\n",
    "sc = SimpleCalculator()\n",
    "sc.add('55', '66')\n",
    "sc.subtract(55, 66)\n",
    "```"
   ]
  },
  {
   "cell_type": "code",
   "execution_count": 23,
   "metadata": {
    "slideshow": {
     "slide_type": "subslide"
    }
   },
   "outputs": [],
   "source": [
    "class SimpleCalculator:\n",
    "    \"\"\"\n",
    "    This class creates a simple calculator that is able to add and subtract 2 numbers.\n",
    "    \"\"\"\n",
    "    def add(self, x, y):\n",
    "        return x + y\n",
    "    def subtract(self, x, y):\n",
    "        return x - y"
   ]
  },
  {
   "cell_type": "code",
   "execution_count": 24,
   "metadata": {
    "slideshow": {
     "slide_type": "-"
    }
   },
   "outputs": [
    {
     "data": {
      "text/plain": [
       "'5566'"
      ]
     },
     "execution_count": 24,
     "metadata": {},
     "output_type": "execute_result"
    }
   ],
   "source": [
    "sc = SimpleCalculator()\n",
    "sc.add('55', '66')"
   ]
  },
  {
   "cell_type": "code",
   "execution_count": 25,
   "metadata": {
    "slideshow": {
     "slide_type": "-"
    }
   },
   "outputs": [
    {
     "data": {
      "text/plain": [
       "-11"
      ]
     },
     "execution_count": 25,
     "metadata": {},
     "output_type": "execute_result"
    }
   ],
   "source": [
    "sc.subtract(55, 66)"
   ]
  },
  {
   "cell_type": "markdown",
   "metadata": {
    "slideshow": {
     "slide_type": "subslide"
    }
   },
   "source": [
    "## The `SimpleCalculator` class with four methods"
   ]
  },
  {
   "cell_type": "code",
   "execution_count": 26,
   "metadata": {
    "slideshow": {
     "slide_type": "-"
    }
   },
   "outputs": [],
   "source": [
    "class SimpleCalculator:\n",
    "    \"\"\"\n",
    "    This class creates a simple calculator that is able to add, subtract, multiply, and divide 2 numbers.\n",
    "    \"\"\"\n",
    "    def add(self, x, y):\n",
    "        return x + y\n",
    "    def subtract(self, x, y):\n",
    "        return x - y\n",
    "    def multiply(self, x, y):\n",
    "        return x * y\n",
    "    def divide(self, x, y):\n",
    "        return x / y"
   ]
  },
  {
   "cell_type": "code",
   "execution_count": 27,
   "metadata": {
    "slideshow": {
     "slide_type": "subslide"
    }
   },
   "outputs": [
    {
     "name": "stdout",
     "output_type": "stream",
     "text": [
      "5566\n",
      "-11\n",
      "30\n",
      "0.8333333333333334\n"
     ]
    }
   ],
   "source": [
    "sc = SimpleCalculator()\n",
    "print(sc.add('55', '66'))\n",
    "print(sc.subtract(55, 66))\n",
    "print(sc.multiply(5, 6))\n",
    "print(sc.divide(5, 6))"
   ]
  },
  {
   "cell_type": "markdown",
   "metadata": {
    "slideshow": {
     "slide_type": "subslide"
    }
   },
   "source": [
    "## We not only can bind functions to a class, but also binding data to a class\n",
    "\n",
    "Use the `__init__` methods to create attributes."
   ]
  },
  {
   "cell_type": "code",
   "execution_count": 28,
   "metadata": {
    "slideshow": {
     "slide_type": "subslide"
    }
   },
   "outputs": [],
   "source": [
    "class SimpleCalculator:\n",
    "    \"\"\"\n",
    "    This class creates a simple calculator that is able to add, subtract, multiply, and divide 2 numbers.\n",
    "    This class has an attribute of Euler's number: e.\n",
    "    \"\"\"\n",
    "    def __init__(self):\n",
    "        self.e = 2.71828182846\n",
    "    def add(self, x, y):\n",
    "        return x + y\n",
    "    def subtract(self, x, y):\n",
    "        return x - y\n",
    "    def multiply(self, x, y):\n",
    "        return x * y\n",
    "    def divide(self, x, y):\n",
    "        return x / y"
   ]
  },
  {
   "cell_type": "code",
   "execution_count": 29,
   "metadata": {},
   "outputs": [
    {
     "data": {
      "text/plain": [
       "2.71828182846"
      ]
     },
     "execution_count": 29,
     "metadata": {},
     "output_type": "execute_result"
    }
   ],
   "source": [
    "sc = SimpleCalculator()\n",
    "sc.e"
   ]
  },
  {
   "cell_type": "markdown",
   "metadata": {
    "slideshow": {
     "slide_type": "subslide"
    }
   },
   "source": [
    "## The `SimpleCalculator` is a bit too simple, can we add more methods?\n",
    "\n",
    "- Of course! Let's implement a `IntermediateCalculator` class with other arithmetic operations; \n",
    "- But do we have to define the class from scratch?"
   ]
  },
  {
   "cell_type": "markdown",
   "metadata": {
    "slideshow": {
     "slide_type": "subslide"
    }
   },
   "source": [
    "## Besides encapsulation, there is another powerful feature of implementing a class called \"Inheritance\"\n",
    "\n",
    "Inheritance enables new objects to take on the properties of existing objects.\n",
    "\n",
    "```python\n",
    "class ChildClass(ParentClass):\n",
    "    # sequence of statements\n",
    "```"
   ]
  },
  {
   "cell_type": "code",
   "execution_count": 30,
   "metadata": {
    "slideshow": {
     "slide_type": "subslide"
    }
   },
   "outputs": [
    {
     "name": "stdout",
     "output_type": "stream",
     "text": [
      "5566\n",
      "-11\n",
      "30\n",
      "0.8333333333333334\n",
      "2.71828182846\n"
     ]
    }
   ],
   "source": [
    "class IntermediateCalculator(SimpleCalculator):\n",
    "    \"\"\"\n",
    "    This class inherits from simple calculator do nothing.\n",
    "    \"\"\"\n",
    "    pass\n",
    "\n",
    "ic = IntermediateCalculator()\n",
    "print(ic.add('55', '66'))\n",
    "print(ic.subtract(55, 66))\n",
    "print(ic.multiply(5, 6))\n",
    "print(ic.divide(5, 6))\n",
    "print(ic.e)"
   ]
  },
  {
   "cell_type": "markdown",
   "metadata": {
    "slideshow": {
     "slide_type": "subslide"
    }
   },
   "source": [
    "## What can we do when inheriting from a parent class?\n",
    "\n",
    "- Extending attributes or methods\n",
    "- Revising attributes or methods"
   ]
  },
  {
   "cell_type": "code",
   "execution_count": 31,
   "metadata": {
    "slideshow": {
     "slide_type": "subslide"
    }
   },
   "outputs": [],
   "source": [
    "class IntermediateCalculator(SimpleCalculator):\n",
    "    \"\"\"\n",
    "    This class inherits from simple calculator and add more methods to it.\n",
    "    \"\"\"\n",
    "    def power(self, x, y):\n",
    "        return x**y\n",
    "    def mod(self, x, y):\n",
    "        return x % y\n",
    "    def floor_divide(self, x, y):\n",
    "        return x // y\n",
    "    def exp(self, x):\n",
    "        return self.e**x"
   ]
  },
  {
   "cell_type": "code",
   "execution_count": 32,
   "metadata": {
    "slideshow": {
     "slide_type": "subslide"
    }
   },
   "outputs": [
    {
     "name": "stdout",
     "output_type": "stream",
     "text": [
      "15625\n",
      "1\n",
      "9\n",
      "7.38905609893584\n"
     ]
    }
   ],
   "source": [
    "ic = IntermediateCalculator()\n",
    "print(ic.power(5, 6))\n",
    "print(ic.mod(55, 6))\n",
    "print(ic.floor_divide(55, 6))\n",
    "print(ic.exp(2))"
   ]
  },
  {
   "cell_type": "markdown",
   "metadata": {
    "slideshow": {
     "slide_type": "subslide"
    }
   },
   "source": [
    "## Say we want to join a tea shop chain\n",
    "\n",
    "- A tea shop has a few attributes\n",
    "    - Its chain brand\n",
    "    - Its drink menu\n",
    "    - Its sweetness/ice cube scale\n",
    "- A tea shop has a few methods\n",
    "    - It builds itself\n",
    "    - It creates a drink menu\n",
    "    - It creates sweetness/ice cube scale\n",
    "    - It puts drink item on the menu"
   ]
  },
  {
   "cell_type": "code",
   "execution_count": 33,
   "metadata": {
    "slideshow": {
     "slide_type": "subslide"
    }
   },
   "outputs": [],
   "source": [
    "class TeaShop:\n",
    "    \"\"\"\n",
    "    Create a tea shop.\n",
    "    \"\"\"\n",
    "    def __init__(self, brand_name):\n",
    "        self.brand_name = brand_name\n",
    "    def create_menu(self):\n",
    "        self.menu = []\n",
    "    def create_sweetness(self, **kwargs):\n",
    "        sweetness = {}\n",
    "        for k, v in kwargs.items():\n",
    "            sweetness[k] = v\n",
    "        self.sweetness = sweetness\n",
    "    def create_ice_cube(self, **kwargs):\n",
    "        ice_cube = {}\n",
    "        for k, v in kwargs.items():\n",
    "            ice_cube[k] = v\n",
    "        self.ice_cube = ice_cube\n",
    "    def add_drink(self, drink_name, drink_price, upgrade_price):\n",
    "        drink = {\n",
    "            'name': drink_name,\n",
    "            'medium': drink_price,\n",
    "            'large': drink_price + upgrade_price\n",
    "        }\n",
    "        self.menu.append(drink)"
   ]
  },
  {
   "cell_type": "markdown",
   "metadata": {
    "slideshow": {
     "slide_type": "subslide"
    }
   },
   "source": [
    "## We've implemented a `TeaShop` class with a few attributes and methods\n",
    "\n",
    "- Attributes:\n",
    "    - `brand_name`\n",
    "    - `menu`\n",
    "    - `sweetness`\n",
    "    - `ice_cube`\n",
    "- Methods:\n",
    "    - `__init__`\n",
    "    - `create_menu`\n",
    "    - `create_sweetness`\n",
    "    - `create_ice_cube`\n",
    "    - `add_drink`"
   ]
  },
  {
   "cell_type": "code",
   "execution_count": 34,
   "metadata": {
    "slideshow": {
     "slide_type": "subslide"
    }
   },
   "outputs": [],
   "source": [
    "kebuke = TeaShop('可不可熟成紅茶')\n",
    "kebuke.create_menu()\n",
    "kebuke.create_sweetness(Extra='多糖', Regular='正常糖', Less='少糖', Half='半糖', Little='少糖', No='無糖')\n",
    "kebuke.create_ice_cube(Extra='多冰', Regular='正常冰', Less='少冰', Half='微冰', Little='去冰', No='完全去冰')\n",
    "kebuke.add_drink('熟成紅茶', 30, 5)"
   ]
  },
  {
   "cell_type": "code",
   "execution_count": 35,
   "metadata": {
    "slideshow": {
     "slide_type": "subslide"
    }
   },
   "outputs": [
    {
     "name": "stdout",
     "output_type": "stream",
     "text": [
      "可不可熟成紅茶\n",
      "[{'name': '熟成紅茶', 'medium': 30, 'large': 35}]\n",
      "{'Extra': '多糖', 'Regular': '正常糖', 'Less': '少糖', 'Half': '半糖', 'Little': '少糖', 'No': '無糖'}\n",
      "{'Extra': '多冰', 'Regular': '正常冰', 'Less': '少冰', 'Half': '微冰', 'Little': '去冰', 'No': '完全去冰'}\n"
     ]
    }
   ],
   "source": [
    "print(kebuke.brand_name)\n",
    "print(kebuke.menu)\n",
    "print(kebuke.sweetness)\n",
    "print(kebuke.ice_cube)"
   ]
  },
  {
   "cell_type": "code",
   "execution_count": 36,
   "metadata": {
    "slideshow": {
     "slide_type": "subslide"
    }
   },
   "outputs": [],
   "source": [
    "lan50 = TeaShop('五十嵐')\n",
    "lan50.create_menu()\n",
    "lan50.create_sweetness(Regular='正常甜', Slightless='不要太甜', Less='少糖', Half='半糖', Little='微糖', No='無糖')\n",
    "lan50.create_ice_cube(Regular='正常冰', Less='少冰', Little='微冰', No='去冰')\n",
    "lan50.add_drink('冰淇淋紅茶', 30, 15)"
   ]
  },
  {
   "cell_type": "code",
   "execution_count": 37,
   "metadata": {
    "slideshow": {
     "slide_type": "subslide"
    }
   },
   "outputs": [
    {
     "name": "stdout",
     "output_type": "stream",
     "text": [
      "五十嵐\n",
      "[{'name': '冰淇淋紅茶', 'medium': 30, 'large': 45}]\n",
      "{'Regular': '正常甜', 'Slightless': '不要太甜', 'Less': '少糖', 'Half': '半糖', 'Little': '微糖', 'No': '無糖'}\n",
      "{'Regular': '正常冰', 'Less': '少冰', 'Little': '微冰', 'No': '去冰'}\n"
     ]
    }
   ],
   "source": [
    "print(lan50.brand_name)\n",
    "print(lan50.menu)\n",
    "print(lan50.sweetness)\n",
    "print(lan50.ice_cube)"
   ]
  },
  {
   "cell_type": "markdown",
   "metadata": {
    "slideshow": {
     "slide_type": "subslide"
    }
   },
   "source": [
    "## For junior data analysts, we only need to understand the meaning of a class\n",
    "\n",
    "- Class is a mechanism to bind data and functions onto a specific object\n",
    "- Thereafter we can access data via the object's **attributes** and call function via the object's **methods**"
   ]
  },
  {
   "cell_type": "markdown",
   "metadata": {
    "slideshow": {
     "slide_type": "subslide"
    }
   },
   "source": [
    "## Implementing a class is the entry point of software development\n",
    "\n",
    "Thereafter we can dig deeper in the following topics\n",
    "\n",
    "- Object-oriented programming\n",
    "- Data structures and algorithms\n",
    "- Design patterns"
   ]
  },
  {
   "cell_type": "markdown",
   "metadata": {
    "slideshow": {
     "slide_type": "slide"
    }
   },
   "source": [
    "## Modules and Libraries"
   ]
  },
  {
   "cell_type": "markdown",
   "metadata": {
    "slideshow": {
     "slide_type": "subslide"
    }
   },
   "source": [
    "## What is a module in Python?\n",
    "\n",
    "> A Python module is a file with the extension of `.py` which consists of a couple of functions or classes."
   ]
  },
  {
   "cell_type": "markdown",
   "metadata": {
    "slideshow": {
     "slide_type": "subslide"
    }
   },
   "source": [
    "## What is a libaray in Python?\n",
    "\n",
    "> A Python library is a folder which consists of a couple of libraries and modules."
   ]
  },
  {
   "cell_type": "markdown",
   "metadata": {
    "slideshow": {
     "slide_type": "subslide"
    }
   },
   "source": [
    "## Take `numpy` library as an example\n",
    "\n",
    "- We can find `numpy` in a folder called `site-pacakges` which links directly to our environment\n",
    "- `numpy`\n",
    "    - `__init__.py` module\n",
    "    - `random` library\n",
    "    - ...etc."
   ]
  },
  {
   "cell_type": "markdown",
   "metadata": {
    "slideshow": {
     "slide_type": "subslide"
    }
   },
   "source": [
    "## There are a couple of libraries and modules inside `numpy`\n",
    "\n",
    "![Imgur](https://i.imgur.com/vxKEAgS.png?1)"
   ]
  },
  {
   "cell_type": "markdown",
   "metadata": {
    "slideshow": {
     "slide_type": "subslide"
    }
   },
   "source": [
    "## We can also find modules inside `random`\n",
    "\n",
    "![Imgur](https://i.imgur.com/4eysMXI.png?1)"
   ]
  },
  {
   "cell_type": "markdown",
   "metadata": {
    "slideshow": {
     "slide_type": "subslide"
    }
   },
   "source": [
    "## Currently, we might not need to create our own libraries or packages. But we have to know how to leverage standard and third party modules/libraries"
   ]
  },
  {
   "cell_type": "markdown",
   "metadata": {
    "slideshow": {
     "slide_type": "subslide"
    }
   },
   "source": [
    "## How to install a library or module?\n",
    "\n",
    "Use `pip install` command from at terminal.\n",
    "\n",
    "```bash\n",
    "# for example\n",
    "pip install numpy pandas\n",
    "```"
   ]
  },
  {
   "cell_type": "markdown",
   "metadata": {
    "slideshow": {
     "slide_type": "subslide"
    }
   },
   "source": [
    "## How to import a library or module?\n",
    "\n",
    "- Use `import` keyword\n",
    "- Use `as` keyword for alias\n",
    "\n",
    "```python\n",
    "# for example\n",
    "import numpy as np\n",
    "import pandas as pd\n",
    "```"
   ]
  },
  {
   "cell_type": "markdown",
   "metadata": {
    "slideshow": {
     "slide_type": "subslide"
    }
   },
   "source": [
    "## Distinguish the use of function, attributes and methods given an object"
   ]
  },
  {
   "cell_type": "code",
   "execution_count": 38,
   "metadata": {},
   "outputs": [
    {
     "name": "stdout",
     "output_type": "stream",
     "text": [
      "5\n",
      "28\n"
     ]
    }
   ],
   "source": [
    "import numpy as np\n",
    "\n",
    "arr = np.array([2, 3, 5, 7, 11]) # function\n",
    "print(arr.size)                  # the attribute of arr object\n",
    "print(arr.sum())                 # the method of arr object"
   ]
  },
  {
   "cell_type": "markdown",
   "metadata": {
    "slideshow": {
     "slide_type": "subslide"
    }
   },
   "source": [
    "## Make our own `simple_calculator.py` module\n",
    "\n",
    "- Create an empty `simple_calculator.py`\n",
    "- Copy our previously defined `SimpleCalculator` class and paste onto `simple_calculator.py`\n",
    "- Import from module\n",
    "\n",
    "```python\n",
    "from simple_calculator import SimpleCalculator\n",
    "```"
   ]
  },
  {
   "cell_type": "markdown",
   "metadata": {
    "slideshow": {
     "slide_type": "subslide"
    }
   },
   "source": [
    "## Make our own `calculators` library\n",
    "\n",
    "- Create an empty folder named `calculators`\n",
    "- Put `simple_calculator.py` inside folder `calculators`\n",
    "- Import from library\n",
    "\n",
    "```python\n",
    "from calculators.simple_calculator import SimpleCalculator\n",
    "```"
   ]
  },
  {
   "cell_type": "markdown",
   "metadata": {
    "slideshow": {
     "slide_type": "slide"
    }
   },
   "source": [
    "## Useful Skills"
   ]
  },
  {
   "cell_type": "markdown",
   "metadata": {
    "slideshow": {
     "slide_type": "subslide"
    }
   },
   "source": [
    "## Python provides some convenient tricks for its users\n",
    "\n",
    "- Comprehensions\n",
    "- Generators\n",
    "- Iterators\n",
    "- ...etc."
   ]
  },
  {
   "cell_type": "markdown",
   "metadata": {
    "slideshow": {
     "slide_type": "slide"
    }
   },
   "source": [
    "## Comprehensions"
   ]
  },
  {
   "cell_type": "markdown",
   "metadata": {
    "slideshow": {
     "slide_type": "subslide"
    }
   },
   "source": [
    "## What are comprehension?\n",
    "\n",
    "> Comprehensions are constructs that allow sequences to be built from other sequences. Python 2.0 introduced list comprehensions and Python 3.0 comes with dictionary and set comprehensions.\n",
    "\n",
    "Source: <https://python-3-patterns-idioms-test.readthedocs.io/en/latest/>"
   ]
  },
  {
   "cell_type": "markdown",
   "metadata": {
    "slideshow": {
     "slide_type": "subslide"
    }
   },
   "source": [
    "## Building a list the traditional way"
   ]
  },
  {
   "cell_type": "code",
   "execution_count": 39,
   "metadata": {},
   "outputs": [
    {
     "name": "stdout",
     "output_type": "stream",
     "text": [
      "[4, 9, 25, 49, 121]\n"
     ]
    }
   ],
   "source": [
    "primes = [2, 3, 5, 7, 11]\n",
    "squared_primes = []\n",
    "for p in primes:\n",
    "    squared_primes.append(p**2)\n",
    "print(squared_primes)"
   ]
  },
  {
   "cell_type": "markdown",
   "metadata": {
    "slideshow": {
     "slide_type": "subslide"
    }
   },
   "source": [
    "## Building a list with list comprehension"
   ]
  },
  {
   "cell_type": "code",
   "execution_count": 40,
   "metadata": {},
   "outputs": [
    {
     "name": "stdout",
     "output_type": "stream",
     "text": [
      "[4, 9, 25, 49, 121]\n"
     ]
    }
   ],
   "source": [
    "primes = [2, 3, 5, 7, 11]\n",
    "squared_primes = [p**2 for p in primes]\n",
    "print(squared_primes)"
   ]
  },
  {
   "cell_type": "markdown",
   "metadata": {
    "slideshow": {
     "slide_type": "subslide"
    }
   },
   "source": [
    "## Building a list with list comprehension and `if` statement"
   ]
  },
  {
   "cell_type": "code",
   "execution_count": 41,
   "metadata": {},
   "outputs": [
    {
     "name": "stdout",
     "output_type": "stream",
     "text": [
      "[53, 80, 5, 59, 33, 25, 53, 19, 48, 73, 2, 32, 97, 27, 66, 29, 61, 68, 18, 40]\n",
      "[53, 5, 59, 33, 25, 53, 19, 73, 97, 27, 29, 61]\n"
     ]
    }
   ],
   "source": [
    "from random import randint\n",
    "\n",
    "random_integers = [randint(1, 100) for _ in range(20)]\n",
    "odds_from_random_integers = [ri for ri in random_integers if ri % 2 == 1]\n",
    "print(random_integers)\n",
    "print(odds_from_random_integers)"
   ]
  },
  {
   "cell_type": "markdown",
   "metadata": {
    "slideshow": {
     "slide_type": "subslide"
    }
   },
   "source": [
    "## Building a list with list comprehension and `if-else` statement"
   ]
  },
  {
   "cell_type": "code",
   "execution_count": 42,
   "metadata": {},
   "outputs": [
    {
     "name": "stdout",
     "output_type": "stream",
     "text": [
      "[14, 5, 53, 76, 65, 37, 9, 33, 85, 63, 82, 48, 65, 32, 32, 84, 22, 45, 49, 24]\n",
      "[False, True, True, False, True, True, True, True, True, True, False, False, True, False, False, False, False, True, True, False]\n"
     ]
    }
   ],
   "source": [
    "random_integers = [randint(1, 100) for _ in range(20)]\n",
    "is_odd_from_random_integers = [True if ri % 2 == 1 else False for ri in random_integers]\n",
    "print(random_integers)\n",
    "print(is_odd_from_random_integers)"
   ]
  },
  {
   "cell_type": "markdown",
   "metadata": {
    "slideshow": {
     "slide_type": "subslide"
    }
   },
   "source": [
    "## Building a set with set comprehension"
   ]
  },
  {
   "cell_type": "code",
   "execution_count": 43,
   "metadata": {},
   "outputs": [
    {
     "name": "stdout",
     "output_type": "stream",
     "text": [
      "{4, 9, 49, 121, 25}\n",
      "<class 'set'>\n"
     ]
    }
   ],
   "source": [
    "primes = {2, 3, 5, 7, 11}\n",
    "squared_primes = {p**2 for p in primes}\n",
    "print(squared_primes)\n",
    "print(type(squared_primes))"
   ]
  },
  {
   "cell_type": "markdown",
   "metadata": {
    "slideshow": {
     "slide_type": "subslide"
    }
   },
   "source": [
    "## Building a dictionary with dictionary comprehension"
   ]
  },
  {
   "cell_type": "code",
   "execution_count": 44,
   "metadata": {},
   "outputs": [
    {
     "name": "stdout",
     "output_type": "stream",
     "text": [
      "{2: 4, 3: 9, 5: 25, 7: 49, 11: 121}\n",
      "<class 'dict'>\n"
     ]
    }
   ],
   "source": [
    "primes = {2, 3, 5, 7, 11}\n",
    "squared_primes = {p: p**2 for p in primes}\n",
    "print(squared_primes)\n",
    "print(type(squared_primes))"
   ]
  },
  {
   "cell_type": "markdown",
   "metadata": {
    "slideshow": {
     "slide_type": "slide"
    }
   },
   "source": [
    "## Generators"
   ]
  },
  {
   "cell_type": "markdown",
   "metadata": {
    "slideshow": {
     "slide_type": "subslide"
    }
   },
   "source": [
    "## What is a generator in Python?\n",
    "\n",
    "> A generator is quite like a list comprehension, the difference is that the result of a list comprehension is a collection of values, while the result of a generator is a recipe for producing values."
   ]
  },
  {
   "cell_type": "markdown",
   "metadata": {
    "slideshow": {
     "slide_type": "subslide"
    }
   },
   "source": [
    "## Sounds pretty abstract, huh?\n",
    "\n",
    "![](https://media.giphy.com/media/iKBYnBTbrUV6gRmwYP/giphy.gif)\n",
    "\n",
    "Source: <https://giphy.com/>"
   ]
  },
  {
   "cell_type": "markdown",
   "metadata": {
    "slideshow": {
     "slide_type": "subslide"
    }
   },
   "source": [
    "## Replace square brackets with parentheses in the previous list comprehension example"
   ]
  },
  {
   "cell_type": "code",
   "execution_count": 45,
   "metadata": {
    "slideshow": {
     "slide_type": "-"
    }
   },
   "outputs": [
    {
     "name": "stdout",
     "output_type": "stream",
     "text": [
      "<generator object <genexpr> at 0x7fa714424a40>\n",
      "<class 'generator'>\n"
     ]
    }
   ],
   "source": [
    "primes = [2, 3, 5, 7, 11]\n",
    "squared_primes = (p**2 for p in primes)\n",
    "print(squared_primes)\n",
    "print(type(squared_primes))"
   ]
  },
  {
   "cell_type": "markdown",
   "metadata": {
    "slideshow": {
     "slide_type": "subslide"
    }
   },
   "source": [
    "## A generator expression does not actually compute the values until they are needed\n",
    "\n",
    "- This leads to both memory and computational efficiency\n",
    "- However, a generator is single use"
   ]
  },
  {
   "cell_type": "code",
   "execution_count": 46,
   "metadata": {},
   "outputs": [
    {
     "name": "stdout",
     "output_type": "stream",
     "text": [
      "[4, 9, 25, 49, 121]\n",
      "[]\n"
     ]
    }
   ],
   "source": [
    "print(list(squared_primes))\n",
    "print(list(squared_primes))"
   ]
  },
  {
   "cell_type": "markdown",
   "metadata": {
    "slideshow": {
     "slide_type": "subslide"
    }
   },
   "source": [
    "## We can also define a generator function replacing `return` with `yield`"
   ]
  },
  {
   "cell_type": "code",
   "execution_count": 47,
   "metadata": {},
   "outputs": [
    {
     "name": "stdout",
     "output_type": "stream",
     "text": [
      "<generator object fib_number_generator at 0x7fa713efdc50>\n",
      "<class 'generator'>\n",
      "[1, 2, 3, 5, 8, 13, 21, 34]\n"
     ]
    }
   ],
   "source": [
    "def fib_number_generator(N):\n",
    "    fib = [0, 1]\n",
    "    i = 1\n",
    "    while len(fib) < N:\n",
    "        n = fib[i - 1] + fib[i]\n",
    "        fib.append(n)\n",
    "        yield n\n",
    "        i += 1\n",
    "print(fib_number_generator(10))\n",
    "print(type(fib_number_generator(10)))\n",
    "print(list(fib_number_generator(10)))"
   ]
  },
  {
   "cell_type": "markdown",
   "metadata": {
    "slideshow": {
     "slide_type": "slide"
    }
   },
   "source": [
    "## Iterators"
   ]
  },
  {
   "cell_type": "markdown",
   "metadata": {
    "slideshow": {
     "slide_type": "subslide"
    }
   },
   "source": [
    "## The reason why we mention generators\n",
    "\n",
    "- It is because we want to confuse you (X)\n",
    "- It is because we have to deal with it quite often (O)"
   ]
  },
  {
   "cell_type": "markdown",
   "metadata": {
    "slideshow": {
     "slide_type": "subslide"
    }
   },
   "source": [
    "## Useful iterators in Python\n",
    "\n",
    "- `range()`\n",
    "- `enumerate()`\n",
    "- `zip()`\n",
    "- `map()`\n",
    "- `filter()`"
   ]
  },
  {
   "cell_type": "markdown",
   "metadata": {
    "slideshow": {
     "slide_type": "subslide"
    }
   },
   "source": [
    "## Except for `range` the other four are all generator functions"
   ]
  },
  {
   "cell_type": "code",
   "execution_count": 48,
   "metadata": {
    "slideshow": {
     "slide_type": "subslide"
    }
   },
   "outputs": [
    {
     "name": "stdout",
     "output_type": "stream",
     "text": [
      "Help on class enumerate in module builtins:\n",
      "\n",
      "class enumerate(object)\n",
      " |  enumerate(iterable[, start]) -> iterator for index, value of iterable\n",
      " |  \n",
      " |  Return an enumerate object.  iterable must be another object that supports\n",
      " |  iteration.  The enumerate object yields pairs containing a count (from\n",
      " |  start, which defaults to zero) and a value yielded by the iterable argument.\n",
      " |  enumerate is useful for obtaining an indexed list:\n",
      " |      (0, seq[0]), (1, seq[1]), (2, seq[2]), ...\n",
      " |  \n",
      " |  Methods defined here:\n",
      " |  \n",
      " |  __getattribute__(self, name, /)\n",
      " |      Return getattr(self, name).\n",
      " |  \n",
      " |  __iter__(self, /)\n",
      " |      Implement iter(self).\n",
      " |  \n",
      " |  __new__(*args, **kwargs) from builtins.type\n",
      " |      Create and return a new object.  See help(type) for accurate signature.\n",
      " |  \n",
      " |  __next__(self, /)\n",
      " |      Implement next(self).\n",
      " |  \n",
      " |  __reduce__(...)\n",
      " |      Return state information for pickling.\n",
      "\n"
     ]
    }
   ],
   "source": [
    "help(enumerate)"
   ]
  },
  {
   "cell_type": "code",
   "execution_count": 49,
   "metadata": {
    "slideshow": {
     "slide_type": "subslide"
    }
   },
   "outputs": [
    {
     "name": "stdout",
     "output_type": "stream",
     "text": [
      "<enumerate object at 0x7fa714428ca8>\n",
      "[(0, 'The Avengers'), (1, 'Avengers: Age of Ultron'), (2, 'Avengers: Infinity War'), (3, 'Avengers: Endgame')]\n"
     ]
    }
   ],
   "source": [
    "avenger_movies = ['The Avengers', 'Avengers: Age of Ultron', 'Avengers: Infinity War', 'Avengers: Endgame']\n",
    "print(enumerate(avenger_movies))\n",
    "print(list(enumerate(avenger_movies)))"
   ]
  },
  {
   "cell_type": "code",
   "execution_count": 50,
   "metadata": {
    "slideshow": {
     "slide_type": "subslide"
    }
   },
   "outputs": [
    {
     "name": "stdout",
     "output_type": "stream",
     "text": [
      "Help on class zip in module builtins:\n",
      "\n",
      "class zip(object)\n",
      " |  zip(iter1 [,iter2 [...]]) --> zip object\n",
      " |  \n",
      " |  Return a zip object whose .__next__() method returns a tuple where\n",
      " |  the i-th element comes from the i-th iterable argument.  The .__next__()\n",
      " |  method continues until the shortest iterable in the argument sequence\n",
      " |  is exhausted and then it raises StopIteration.\n",
      " |  \n",
      " |  Methods defined here:\n",
      " |  \n",
      " |  __getattribute__(self, name, /)\n",
      " |      Return getattr(self, name).\n",
      " |  \n",
      " |  __iter__(self, /)\n",
      " |      Implement iter(self).\n",
      " |  \n",
      " |  __new__(*args, **kwargs) from builtins.type\n",
      " |      Create and return a new object.  See help(type) for accurate signature.\n",
      " |  \n",
      " |  __next__(self, /)\n",
      " |      Implement next(self).\n",
      " |  \n",
      " |  __reduce__(...)\n",
      " |      Return state information for pickling.\n",
      "\n"
     ]
    }
   ],
   "source": [
    "help(zip)"
   ]
  },
  {
   "cell_type": "code",
   "execution_count": 51,
   "metadata": {
    "slideshow": {
     "slide_type": "subslide"
    }
   },
   "outputs": [
    {
     "name": "stdout",
     "output_type": "stream",
     "text": [
      "<zip object at 0x7fa714436388>\n",
      "[(2012, 'The Avengers'), (2015, 'Avengers: Age of Ultron'), (2018, 'Avengers: Infinity War'), (2019, 'Avengers: Endgame')]\n"
     ]
    }
   ],
   "source": [
    "avenger_movies = ['The Avengers', 'Avengers: Age of Ultron', 'Avengers: Infinity War', 'Avengers: Endgame']\n",
    "release_years = [2012, 2015, 2018, 2019]\n",
    "print(zip(release_years, avenger_movies))\n",
    "print(list(zip(release_years, avenger_movies)))"
   ]
  },
  {
   "cell_type": "code",
   "execution_count": 52,
   "metadata": {
    "slideshow": {
     "slide_type": "subslide"
    }
   },
   "outputs": [
    {
     "name": "stdout",
     "output_type": "stream",
     "text": [
      "Help on class map in module builtins:\n",
      "\n",
      "class map(object)\n",
      " |  map(func, *iterables) --> map object\n",
      " |  \n",
      " |  Make an iterator that computes the function using arguments from\n",
      " |  each of the iterables.  Stops when the shortest iterable is exhausted.\n",
      " |  \n",
      " |  Methods defined here:\n",
      " |  \n",
      " |  __getattribute__(self, name, /)\n",
      " |      Return getattr(self, name).\n",
      " |  \n",
      " |  __iter__(self, /)\n",
      " |      Implement iter(self).\n",
      " |  \n",
      " |  __new__(*args, **kwargs) from builtins.type\n",
      " |      Create and return a new object.  See help(type) for accurate signature.\n",
      " |  \n",
      " |  __next__(self, /)\n",
      " |      Implement next(self).\n",
      " |  \n",
      " |  __reduce__(...)\n",
      " |      Return state information for pickling.\n",
      "\n"
     ]
    }
   ],
   "source": [
    "help(map)"
   ]
  },
  {
   "cell_type": "code",
   "execution_count": 53,
   "metadata": {
    "slideshow": {
     "slide_type": "subslide"
    }
   },
   "outputs": [
    {
     "name": "stdout",
     "output_type": "stream",
     "text": [
      "<map object at 0x7fa714422b38>\n",
      "[0.0, 1.0, 2.0, 3.0, 4.0, 5.0, 6.0, 7.0, 8.0, 9.0]\n"
     ]
    }
   ],
   "source": [
    "print(map(float, range(10)))\n",
    "print(list(map(float, range(10))))"
   ]
  },
  {
   "cell_type": "code",
   "execution_count": 54,
   "metadata": {
    "slideshow": {
     "slide_type": "subslide"
    }
   },
   "outputs": [
    {
     "name": "stdout",
     "output_type": "stream",
     "text": [
      "Help on class filter in module builtins:\n",
      "\n",
      "class filter(object)\n",
      " |  filter(function or None, iterable) --> filter object\n",
      " |  \n",
      " |  Return an iterator yielding those items of iterable for which function(item)\n",
      " |  is true. If function is None, return the items that are true.\n",
      " |  \n",
      " |  Methods defined here:\n",
      " |  \n",
      " |  __getattribute__(self, name, /)\n",
      " |      Return getattr(self, name).\n",
      " |  \n",
      " |  __iter__(self, /)\n",
      " |      Implement iter(self).\n",
      " |  \n",
      " |  __new__(*args, **kwargs) from builtins.type\n",
      " |      Create and return a new object.  See help(type) for accurate signature.\n",
      " |  \n",
      " |  __next__(self, /)\n",
      " |      Implement next(self).\n",
      " |  \n",
      " |  __reduce__(...)\n",
      " |      Return state information for pickling.\n",
      "\n"
     ]
    }
   ],
   "source": [
    "help(filter)"
   ]
  },
  {
   "cell_type": "code",
   "execution_count": 55,
   "metadata": {
    "slideshow": {
     "slide_type": "subslide"
    }
   },
   "outputs": [
    {
     "name": "stdout",
     "output_type": "stream",
     "text": [
      "[True, True, True, True, True, False, False, True, True, False, True, False, False, True, False, True, True, False, True, False]\n",
      "<filter object at 0x7fa71442d4a8>\n",
      "[True, True, True, True, True, True, True, True, True, True, True, True]\n"
     ]
    }
   ],
   "source": [
    "random_bools = [bool(randint(0, 1)) for _ in range(20)]\n",
    "print(random_bools)\n",
    "print(filter(None, random_bools))\n",
    "print(list(filter(None, random_bools)))"
   ]
  },
  {
   "cell_type": "markdown",
   "metadata": {
    "slideshow": {
     "slide_type": "subslide"
    }
   },
   "source": [
    "## Besides built-in functions, it is more common to define a lambda expression with `map` and `filter`\n",
    "\n",
    "- A lambda expression is like an anonymous function\n",
    "- We can define a lambda expression, use it, then ditch it all in the same line"
   ]
  },
  {
   "cell_type": "code",
   "execution_count": 56,
   "metadata": {
    "slideshow": {
     "slide_type": "-"
    }
   },
   "outputs": [
    {
     "name": "stdout",
     "output_type": "stream",
     "text": [
      "[4, 9, 25, 49, 121, 169, 289, 361, 529, 841]\n",
      "[11, 13, 17, 19, 23, 29]\n"
     ]
    }
   ],
   "source": [
    "primes = [2, 3, 5, 7, 11, 13, 17, 19, 23, 29]\n",
    "print(list(map(lambda x: x**2, primes)))\n",
    "print(list(filter(lambda x: x >= 10, primes)))"
   ]
  },
  {
   "cell_type": "markdown",
   "metadata": {
    "slideshow": {
     "slide_type": "subslide"
    }
   },
   "source": [
    "## Then we do not have to waste two function names on such easy operations"
   ]
  },
  {
   "cell_type": "code",
   "execution_count": 57,
   "metadata": {
    "slideshow": {
     "slide_type": "-"
    }
   },
   "outputs": [
    {
     "name": "stdout",
     "output_type": "stream",
     "text": [
      "[4, 9, 25, 49, 121, 169, 289, 361, 529, 841]\n",
      "[11, 13, 17, 19, 23, 29]\n"
     ]
    }
   ],
   "source": [
    "def squared(x):\n",
    "    return x**2\n",
    "def larger_than_ten(x):\n",
    "    return x>=10\n",
    "print(list(map(squared, primes)))\n",
    "print(list(filter(larger_than_ten, primes)))"
   ]
  }
 ],
 "metadata": {
  "celltoolbar": "Slideshow",
  "kernelspec": {
   "display_name": "Python Data Analysis",
   "language": "python",
   "name": "pyda"
  },
  "language_info": {
   "codemirror_mode": {
    "name": "ipython",
    "version": 3
   },
   "file_extension": ".py",
   "mimetype": "text/x-python",
   "name": "python",
   "nbconvert_exporter": "python",
   "pygments_lexer": "ipython3",
   "version": "3.6.8"
  }
 },
 "nbformat": 4,
 "nbformat_minor": 4
}
