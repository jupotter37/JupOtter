{
  "nbformat": 4,
  "nbformat_minor": 0,
  "metadata": {
    "colab": {
      "provenance": [],
      "authorship_tag": "ABX9TyNyRQutP9j7o1QEaorYv6OO",
      "include_colab_link": true
    },
    "kernelspec": {
      "name": "python3",
      "display_name": "Python 3"
    },
    "language_info": {
      "name": "python"
    }
  },
  "cells": [
    {
      "cell_type": "markdown",
      "metadata": {
        "id": "view-in-github",
        "colab_type": "text"
      },
      "source": [
        "<a href=\"https://colab.research.google.com/github/NilayGaitonde/stackoverflow-questions/blob/main/main.ipynb\" target=\"_parent\"><img src=\"https://colab.research.google.com/assets/colab-badge.svg\" alt=\"Open In Colab\"/></a>"
      ]
    },
    {
      "cell_type": "code",
      "source": [
        "import os\n",
        "import shutil\n",
        "import string\n",
        "\n",
        "import numpy as np\n",
        "import matplotlib.pyplot as plt\n",
        "import re\n",
        "\n",
        "import nltk\n",
        "from nltk.corpus import stopwords\n",
        "from nltk.stem import WordNetLemmatizer\n",
        "from nltk.tokenize import word_tokenize\n",
        "nltk.download(\"punkt\")\n",
        "nltk.download(\"stopwords\")\n",
        "stopwords_english = set(stopwords.words(\"english\"))\n",
        "!unzip /usr/share/nltk_data/corpora/wordnet.zip -d /usr/share/nltk_data/corpora/\n",
        "\n",
        "\n",
        "import tensorflow as tf\n",
        "from tensorflow import keras\n",
        "from tensorflow.keras.models import Sequential\n",
        "from tensorflow.keras.layers import Dense, RNN, Embedding, Activation, Dropout, GlobalAveragePooling1D, Flatten, TextVectorization, LSTM, GRU\n",
        "from tensorflow.keras.losses import CategoricalCrossentropy, BinaryCrossentropy\n",
        "from tensorflow.keras.metrics import CategoricalAccuracy, BinaryAccuracy"
      ],
      "metadata": {
        "id": "9ES0IHsPSVFb",
        "colab": {
          "base_uri": "https://localhost:8080/"
        },
        "outputId": "2b6464fd-5de0-4850-e8b2-2c8a4914fc69"
      },
      "execution_count": 2,
      "outputs": [
        {
          "output_type": "stream",
          "name": "stderr",
          "text": [
            "[nltk_data] Downloading package punkt to /root/nltk_data...\n",
            "[nltk_data]   Unzipping tokenizers/punkt.zip.\n"
          ]
        },
        {
          "output_type": "stream",
          "name": "stdout",
          "text": [
            "unzip:  cannot find or open /usr/share/nltk_data/corpora/wordnet.zip, /usr/share/nltk_data/corpora/wordnet.zip.zip or /usr/share/nltk_data/corpora/wordnet.zip.ZIP.\n"
          ]
        },
        {
          "output_type": "stream",
          "name": "stderr",
          "text": [
            "[nltk_data] Downloading package stopwords to /root/nltk_data...\n",
            "[nltk_data]   Unzipping corpora/stopwords.zip.\n"
          ]
        }
      ]
    },
    {
      "cell_type": "code",
      "source": [
        "url = \"https://storage.googleapis.com/download.tensorflow.org/data/stack_overflow_16k.tar.gz\"\n",
        "\n",
        "dataset = keras.utils.get_file(fname=\"stackoverflow\",origin=url,cache_dir=\".\",cache_subdir=\"\",untar=True)\n"
      ],
      "metadata": {
        "colab": {
          "base_uri": "https://localhost:8080/"
        },
        "id": "acHB9yny1IwO",
        "outputId": "7b1ef97e-434d-41f0-ce05-345f1acbf9b1"
      },
      "execution_count": 3,
      "outputs": [
        {
          "output_type": "stream",
          "name": "stdout",
          "text": [
            "Downloading data from https://storage.googleapis.com/download.tensorflow.org/data/stack_overflow_16k.tar.gz\n",
            "6053168/6053168 [==============================] - 0s 0us/step\n"
          ]
        }
      ]
    },
    {
      "cell_type": "code",
      "source": [
        "with open(\"test/csharp/1.txt\",\"r\") as f:\n",
        "    print(f.read())"
      ],
      "metadata": {
        "colab": {
          "base_uri": "https://localhost:8080/"
        },
        "id": "eFT-8AUD2Ao4",
        "outputId": "9a51f10b-bd73-47bb-87ad-ca9c1cadb499"
      },
      "execution_count": null,
      "outputs": [
        {
          "output_type": "stream",
          "name": "stdout",
          "text": [
            "\"maxdegreeofparallelism not limiting the number of parallel tasks i am creating a number of threads and want to execute only n at a time. but i have a problem that when the code is executed it starts all threads at once...for (int i = 0; i &lt; global.mylist.count - 1; i++).{.    thread thread = new thread(() =&gt;.    {.        debug.writeline(\"\"start signal from thread\"\", thread.currentthread.name);.        var account = global.mylist[i];.        thread.sleep(5000);.        debug.writeline(\"\"end signal from thread\"\", thread.currentthread.name);.    });.    thread.name = i.tostring();.    threads.add(thread);.}..var option = new paralleloptions().{.    maxdegreeofparallelism = convert.toint32(numthreads.value).};..var locker = new object();.parallel.foreach(threads, option, t =&gt;.{.    if (t.isalive == false).    {.        t.start();.    }.    var count = convert.toint32(t.name);.    interlocked.increment(ref count);.    lock (locker).    {.        debug.writeline(\"\"number of active threads:\"\" + count);.        thread.sleep(10);.    }.    interlocked.decrement(ref count);.});\"\n",
            "\n"
          ]
        }
      ]
    },
    {
      "cell_type": "code",
      "source": [
        "raw_test_ds = keras.utils.text_dataset_from_directory(\"/content/test\",batch_size=50,validation_split=0.2,subset=\"training\",label_mode=\"categorical\",seed=42)\n",
        "raw_val_ds = keras.utils.text_dataset_from_directory(\"/content/train\",batch_size=50,validation_split=0.2,subset=\"validation\",label_mode=\"categorical\",seed=42)\n",
        "raw_train_ds = keras.utils.text_dataset_from_directory(\"/content/train\",batch_size=50,label_mode=\"categorical\")\n"
      ],
      "metadata": {
        "colab": {
          "base_uri": "https://localhost:8080/"
        },
        "id": "sO8MBjQ03OY9",
        "outputId": "5f9f5df7-2d2c-4c69-dd79-cf2d0ae274ca"
      },
      "execution_count": null,
      "outputs": [
        {
          "output_type": "stream",
          "name": "stdout",
          "text": [
            "Found 8000 files belonging to 4 classes.\n",
            "Using 6400 files for training.\n",
            "Found 8000 files belonging to 4 classes.\n",
            "Using 1600 files for validation.\n",
            "Found 8000 files belonging to 4 classes.\n"
          ]
        }
      ]
    },
    {
      "cell_type": "code",
      "source": [
        "for text,label in raw_train_ds.take(1):\n",
        "    print(text,label)"
      ],
      "metadata": {
        "colab": {
          "base_uri": "https://localhost:8080/"
        },
        "id": "ZUR7uHH93_ML",
        "outputId": "9fd77383-9472-450e-a118-39532ce44dd4"
      },
      "execution_count": null,
      "outputs": [
        {
          "output_type": "stream",
          "name": "stdout",
          "text": [
            "tf.Tensor(\n",
            "[b'\"blank ternary operator i am creating two different icons for a google map. .however only one icon appears..a drop down select called facility will allow one icon based on a value of \\'8\\', all other values create the other icon...var marker = createmarker(latlng, name, address, city, state, zipcode, telephone, images, url, facility);...function createmarker(latlng, name, address, city, state, zipcode, telephone, images, url, facility) { .  var html = \"\"&lt;div id=\\'infodiv\\'&gt;\"\" + name + \"\"&lt;br/&gt;&lt;h4&gt;\"\" + address + \"\"&lt;br/&gt;\"\" + city + \"\", \"\" + state + \"\" \"\" + zipcode + \"\"&lt;br/&gt;\"\" + (formatphone(telephone)) + \"\"&lt;/h4&gt;&lt;div class=\\'infoimage\\'&gt;&lt;img src=\\'\"\" + images + \"\"\\'&gt;&lt;/div&gt;&lt;div class=\\'footer\\'&gt;&lt;a href=\\'http://\"\" + url + \"\"\\'&gt;\"\" + url + \"\"&lt;/a&gt;&lt;/div&gt;&lt;/div&gt;\"\";.  var marker = new google.maps.marker({.    icon: icon2,.    icon: (facility == 8) ? icon : icon, .    map: map, .    position: latlng .  });...here are the icons:..var icon = new google.maps.markerimage(\"\"./images/plum_flag.png\"\", .new google.maps.size(35, 52), new google.maps.point(0, 0), .new google.maps.point(0, 52));.//callup the orange icon.var icon2 = new google.maps.markerimage(\"\"./images/orange_flag.png\"\", .new google.maps.size(26, 39), new google.maps.point(0, 0), .new google.maps.point(0, 39));...the only icon showing up is the \\'var icon = new google.maps.markerimage(\"\"./images/plum_flag.png\"\",\\' no matter what the select option is....\"\\n'\n",
            " b'\"setting an array key value in blank this code obviously doesn\\'t work in blank, but how do i do this in js?..it should be obvious from the code but i need to assign an array key value (so \\'a\\', \\'5\\' and \\'8\\' in the example below) - unfortunately i do need to have a letter, so 0, 1, 2 etc. is no good...i\\'ve seen something to do with objects and \\'a\\':\\'op1\\' but it doesn\\'t seem to work an i\\'m getting errors such as \"\" unexpected token : \"\" - i bet this is easy when you know how?..var options = new array(\\'a\\' =&gt; \\'op1\\', \\'5\\' =&gt; \\'op2\\', \\'8\\' =&gt; \\'op3\\');..for(x in options) {..    var value = options[x];..    alert(\"\"the key is \"\" + value[0]);..    alert(\"\"the value is \"\" + value[1]);..}...jquery or native js, whichever is best is fine (i\\'m using jquery on that page anyway)\"\\n'\n",
            " b'\"make this a one-liner: `return sum[dict.get(char) for char in word]` obviously, the title has code that can\\'t be interpreted. an uninformative ..syntaxerror: invalid syntax...stderr message didn\\'t tell me much, so i threw it in line by line, using:..[dict.get([\\'val\\',\\'val\\',\\'foo\\'])]...and have since discovered that dict.get() and iterables don\\'t play well together...if you haven\\'t already guessed, i\\'m in the exciting field of building toy programs for learning and amusement. here\\'s my code:..def wordpoints(word):.    points = 0.    for char in word:.        points += dict.get(char).    return points...here\\'s what i want:..def wordpoints(word):.    return sum[dict.get(char) for char in word]...for clarification, dict is named tile_p in my code, and stands for tile points. there is another def that looks up the scrabble player\\'s dictionary for true|false results in a mysql table, and passes it to this function if it cursor.fectchone() has something in it.\"\\n'\n",
            " b\"symbol.prototype comparison error why do i get this error:..uncaught typeerror: symbol.prototype [ @@toprimitive ] requires that 'this' be a symbol...when i run this code?..3 == symbol.prototype...i'm still trying to work out the reason why by myself and so far using a try-catch block to hold it down for awhile but i want a reason for the error.\\n\"\n",
            " b'\"how to check whether a type is string in blank? i want to go through all the properties of a type and want to check whether a property type is not a string, how can i do it ?..my class is:..public class markerinfo.{.    public string name { get; set; }.    public byte[] color { get; set; }.    public typeid type { get; set; }.    public bool isguivisible { get; set; }..    public markerinfo().    {.        color = new byte[4]; // a, r, g, b.        isguivisible = true;.    }.}...the code i am using to check for type is:..foreach (var property in typeof(markerinfo).getproperties()).{               .    if (property.propertytype is typeof(string))              .}...but this code is not working, any idea how to do that  ?\"\\n'\n",
            " b'\"blank: caesar shift - inputting string that contains multiple \"\"#\\'{]$ values i created a caesar shift program in blank, see below:..from string import maketrans..originalchar = (raw_input(\"\"enter a letter: \"\")).numtoinc = int(raw_input(\"\"enter a number: \"\")).code = \"\"\"\"..for x in originalchar:.    newchar = (chr(ord(x) + numtoinc)).    code = code + newchar..transtab = maketrans(chr(32+numtoinc), \"\" \"\").print code.translate(transtab)...i have to shift the following code:..%%$@_$^__#)^)&amp;!_+]!*@&amp;^}@[@%]()%+$&amp;[(_@%+%$*^@$^!+]!&amp;_#)_*}{}}!}_]$[%}@[{_@#_^{*.@##&amp;{#&amp;{&amp;)*%(]{{([*}@[@&amp;]+!!*{)!}{%+{))])[!^})+)$]#{*+^((@^@}$[**$&amp;^{$!@#$%)!@(&amp;.+^!{%_$&amp;@^!}$_${)$_#)!({@!)(^}!*^&amp;!$%_&amp;&amp;}&amp;_#&amp;@{)]{+)%*{&amp;*%*&amp;@%$+]!*__(#!*){%&amp;@++.!_)^$&amp;&amp;%#+)}!@!)&amp;^}**#!_$([$!$}#*^}$+&amp;#[{*{}{((#$]{[$[$$()_#}!@}^@_&amp;%^*!){*^^_$^...as you can see, it contains comments...how do i make that code into a string? the comments are stopping my blank script from giving any output...thanks\"\\n'\n",
            " b'\"connect blank app thru proxy with authentification i have a blank app that has to connect thru a proxy to some addresses..this is what i\\'ve tried:..final string authuser = \"\"xxx\"\";.final string authpassword = \"\"xxx\"\";.authenticator.setdefault(.new authenticator(){.   public passwordauthentication getpasswordauthentication(){.       return new passwordauthentication(.       authuser, authpassword.tochararray());.   }.});..system.setproperty(\"\"http.proxyuser\"\", authuser);.system.setproperty(\"\"http.proxypassword\"\",authpassword);.system.setproperty(\"\"http.proxyhost\"\",\"\"xxx\"\");.system.setproperty(\"\"http.proxyport\"\",\"\"8080\"\");...after i run the program it gives me this exception:..blank.net.connectexception: connection refused: connect...is it correct how i tried to connect through the proxy and authenticate?\"\\n'\n",
            " b'\"how can i fix this arrayindexoutofboundsexception public class matrix.{...  private int[][] matrix;.  private int rows;.  private int cols;..  public matrix(int r, int c).  {.    matrix = new int[r][c];.    this.rows = r;.    this.cols = c;.  }.  public matrix(int[][] m).  {.    matrix = new int[m.length][m[0].length];.    this.rows = m.length;.    this.cols = m[0].length;..    for(int i=0; i&lt;m.length; i++).    {.      for(int j=0; j&lt;m[0].length; j++).      {.        matrix[i][j] = m[i][j];.      }.    }.  }...this is how i started my class with my constructors and later on i included the code:..public int get(int r, int c).  {.    return matrix[r][c];.  }...can anyone please explain to me why i am getting the arrayindexoutofboundsexception here?.this was my error:.. blank.lang.arrayindexoutofboundsexception: 0.    at matrix.get(matrix.blank:117).    at matrixtest.dispatch(matrixtest.blank:76).    at matrixtest.main(matrixtest.blank:21).    at sun.reflect.nativemethodaccessorimpl.invoke0(native method).    at sun.reflect.nativemethodaccessorimpl.invoke(nativemethodaccessorimpl.blank:39).    at sun.reflect.delegatingmethodaccessorimpl.invoke(delegatingmethodaccessorimpl.blank:25).    at blank.lang.reflect.method.invoke(method.blank:597).    at edu.rice.cs.drblank.model.compiler.blankccompiler.runcommand(blankccompiler.blank:272)...i made a tester class and called the get method like this:..case 5:.        system.out.println(matrix.get(0, 0));.        break;...after this:..       int[][] n = new int[r][c];.         for(int i=0; i&lt;n.length; i++).         {.           for(int j=0; j&lt;n[0].length; j++).           {.             n[i][j] = scan.nextint();.           }.         }..       matrix matrix = new matrix(n);.       break;\"\\n'\n",
            " b'\"upgrading from blank 2.7 to 3.6 - completely uninstall 2.7 or run side by side? i have only been using blank seriously at work for the previous year (2.7), so i apologise if this is a stupid question...i want to upgrade to 3.6...do i completely uninstall blank from my computer and then start again with 3.6, or can you install 3.6 in parallels with 2.7?..i rather completely reinstall and start again, are there any problems with doing that?..this is different from: https://stackoverflow.com/questions/2547554/official-multiple-blank-versions-on-the-same-machine as i want to know if there are any problems with uninstalling blank 2.7 first./..many thanks!\"\\n'\n",
            " b'\"finding subsequences of a large string i am trying to get all the subsequences of a string. example:-..firststring = \"\"abcd\"\"...o/p should be;..\\'abcd\\', \\'bcd\\', \\'acd\\', \\'abd\\', \\'abc\\', \\'cd\\', \\'bd\\', \\'bc\\', \\'ad\\', \\'ac\\', \\'ab\\', \\'d\\', \\'c\\', \\'b\\', \\'a\\'...for that i am using following part of code:-..#!usr/bin/blank..from __future__ import print_function.from operator import itemgetter.from subprocess import call.import math.import itertools.import operator..call([\"\"date\"\"])..firstarray = []..firststring = \"\"abcd\"\"..firstlist = list(firststring)..for l in range(0, len(firstlist)+1):.    for subset in itertools.combinations(firstlist, l):..            firstarray.append(\\'\\'.join(subset))..firstarray.reverse()..print (firstarray)..call([\"\"date\"\"])...but this code is not scalable...if i provide :- ..firststring = \"\"abcdabcdabcdabcdabcdabcdabcd\"\"...the program takes almost 6 mins time to complete...---------------- capture while running the script --------------------..blank sample-0012.py.wed feb  8 21:30:30 pst 2017.wed feb  8 21:30:30 pst 2017...can someone please help?\"\\n'\n",
            " b'\"generic error occurred in gdi+ saving bitmap to file in a loop witin blank i\\'m saving a bitmap to a file on my hard drive inside of a loop (all the jpeg files within a directory are being saved to a database).  the save works fine the first pass through the loop, but then gives the subject error on the second pass.  i thought perhaps the file was getting locked so i tried generating a unique file name for each pass, and i\\'m also using dispose() on the bitmap after the file get saved.  any idea what is causing this error?..here is my code:..private string filereduceddimname = @\"\"c:tempphotostestfilephotoreddim\"\";.....foreach (string file in files).{.    int i = 0;..    //if the file dimensions are big, scale the file down.    stream photostream = file.openread(file);.    byte[] photobyte = new byte[photostream.length];.    photostream.read(photobyte, 0, system.convert.toint32(photobyte.length));.    image image = image.fromstream(new memorystream(photobyte));.    bitmap bm = scaleimage(image);.    bm.save(filereduceddimname + i.tostring() + \"\".jpg\"\", imageformat.jpeg);//error occurs here.    array.clear(photobyte,0, photobyte.length);.    bm.dispose();..    i ++;.}.......thanks..here\\'s the scale image code: (this seems to be working ok)..protected bitmap scaleimage(system.drawing.image image).    {.        //reduce dimensions of image if appropriate.        int destwidth;.        int destheight;.        int sourceres;//resolution of image.        int maxdimpix;//largest dimension of image pixels.        int maxdiminch;//largest dimension of image inches.        double redfactor;//factor to reduce dimensions by.        if (image.width &gt; image.height).        {.            maxdimpix = image.width;.        }.        else.        {.            maxdimpix = image.height;.        }.        sourceres = convert.toint32(image.horizontalresolution);.        maxdiminch = convert.toint32(maxdimpix / sourceres);..        //assign size red factor based on max dimension of image (inches).        if (maxdiminch &gt;= 17).        {.            redfactor = 0.45;.        }.        else if (maxdiminch &lt; 17 &amp;&amp; maxdiminch &gt;= 11).        {.            redfactor = 0.65;.        }.        else if (maxdiminch &lt; 11 &amp;&amp; maxdiminch &gt;= 8).        {.            redfactor = 0.85;.        }.        else//smaller than 8\"\" dont reduce dimensions.        {.            redfactor = 1;.        }.        destwidth = convert.toint32(image.width * redfactor);.        destheight = convert.toint32(image.height * redfactor);.        bitmap bm = new bitmap(destwidth, destheight,.            pixelformat.format24bpprgb);.        bm.setresolution(image.horizontalresolution, image.verticalresolution);.        graphics grphoto = graphics.fromimage(bm);.        grphoto.interpolationmode = system.drawing.drawing2d.interpolationmode.highqualitybicubic;..        grphoto.drawimage(image,.            new rectangle(0, 0, destwidth, destheight),.            new rectangle(0, 0, image.width, image.height),.            graphicsunit.pixel);..        grphoto.dispose();.        return bm;..    }\"\\n'\n",
            " b'how can i create [experimental] tag in blank which throws a compiler warning in blank i can mark some functions as obsolete by doing..[obsolete].void foo().{}...this tell the compiler to throw warning if i am using this function...i want to create my own tag [experimental] which just as obsolete throw a warning telling the user who build the code that this function is not well tested and using it may result in troubles...is it possible to do this? how?\\n'\n",
            " b\"get the highest value of property in class i'm trying to get the highest number of all propreties in my class: ..public class aclass{ ..        public int propa{ get; set; } = 1;.        public int propb{ get; set; } = 18;.        public int propc{ get; set; } = 25; .}  ...here's my code: ..public int getmaxconfiguratablecolumns().        {.            int _highestnumber = 0;.            propertyinfo[] _info = this.gettype().getproperties(); .            foreach(propertyinfo _propretyinfo in _info).            {.                //i'm lost here!!!!!!!.            }.            return _highestnumber;.        }...any suggestions? thanks!\\n\"\n",
            " b'\"thread sequence using autoresetevent i am having a collection(list) object which contains enums and assigned with one class. i have a main class with operations relating with the enums defined. i am creating 3 threads and calling the same method of the above class.i want to sequnce btw the threads in different ways, but my threads are not getting moving as required. attaching the sample code..for(interaliterator=0;interaliterator&lt;coll.nodelist.count;interaliterator++).{   .    console.writeline(threadid +\"\"  : \"\" + \"\"waitting\"\");..    while(coll.processcompleted.waitone()).    {.        console.writeline(threadid + \"\"  : thread load port id \"\" + .                  coll.nodelist[interaliterator].loadportid);             .        if (carrieroperation == operations.l1).        {.            lock (this).            {.                if (coll.nodelist[interaliterator].loadportid == p.loadports).                {.                    console.writeline(threadid + \"\"  : \"\" + .                            \"\"entered  operation for lp:\"\" + .                            p.loadports.tostring());.                    setnextenum(coll, interaliterator);..                    //checkcollectionend(interaliterator);.                    coll.processcompleted.set();.                    console.writeline(threadid + \"\"  : \"\" + .                           \"\"released thread - load operation for lp:\"\" +.                            p.loadports.tostring());.                }.            }.        }.        else if (carrieroperation == operations.p1).        {.            lock (this).            {.                if(coll.nodelist[interaliterator].loadportid == p.loadports).                {.                    console.writeline(threadid + \"\"  : \"\" + .                        \"\"entered  operation for lp:\"\" + .                        p.loadports.tostring());.                    setnextenum(coll, interaliterator);.                    coll.processcompleted.set();.                }.            }.        }.        else if (carrieroperation == operations.c1).        {.            lock (this).            {.                if(coll.nodelist[interaliterator].loadportid == p.loadports).                {.                    console.writeline(threadid + \"\"  : \"\" + .                        \"\"entered operation for lp:\"\" + .                        p.loadports.tostring());.                    setnextenum(coll, interaliterator);.                    coll.processcompleted.set();.                }.            }.        }.        console.writeline(threadid + \"\"  : \"\" + \"\"loop end\"\");.        thread.sleep(1500);.    }.}\"\\n'\n",
            " b'\"blank won\\'t print what i tell it to score = {\"\"a\"\": 1, \"\"c\"\": 3, \"\"b\"\": 3, \"\"e\"\": 1, \"\"d\"\": 2, \"\"g\"\": 2,.         \"\"f\"\": 4, \"\"i\"\": 1, \"\"h\"\": 4, \"\"k\"\": 5, \"\"j\"\": 8, \"\"m\"\": 3,.         \"\"l\"\": 1, \"\"o\"\": 1, \"\"n\"\": 1, \"\"q\"\": 10, \"\"p\"\": 3, \"\"s\"\": 1,.         \"\"r\"\": 1, \"\"u\"\": 1, \"\"t\"\": 1, \"\"w\"\": 4, \"\"v\"\": 4, \"\"y\"\": 4,.         \"\"x\"\": 8, \"\"z\"\": 10}..def scrabble_score(word):.    total = [].    for x in word:.        total.append(score[x.lower()]).        total_1 = sum(total).    return total_1.    print total_1..scrabble_score(\\'hey\\')...okay. so i\\'m trying to get it to print out the total. basically this takes a word and adds up the scrabble score of the word.  for some reason, it won\\'t print it out.\"\\n'\n",
            " b'\"finding website name for a given string using blank i am new to blank world, i am wondering is there a way to find out the website name for a given string. the string could be place name or place of interest...thanks for quick reply, what i am trying to build a database of colleges for a given place. so far i got list of college names, now i would like to get their websites so that i can add to the database. for eg, if i search for standford in google i can the link to the college website. i tried using xpath for the first link to the search results, but sometime i noticed google displays ads and i cannot generalise this. so i am looking for some alternatives way to do this\"\\n'\n",
            " b'\"can someone please tell me what += does in blank for example i += 2; can someone please tell me what += means in blank, for example i +=2;.any help would be great, thanks!\"\\n'\n",
            " b'\"extract data points from text i\\'d like to extract data from a sentence. i know that this is not a simple and easy process but was wondering what would be the best way about doing so. for example i\\'d have the sentence:..the silver boat moved through the dark waters, light by the moonlight....from that i\\'d like to get:..boat: sliver, moving through water //moving through water referring to water:.water: dark, light by the moonlight, boat moving //boat moving referring to boat:.moonlight: lighting water...basically i\\'d like to get all the words that describe the noun whether a single word or short phrase. some details are kept both twice (the item boat has a reference to water and the item water reference to boat)..i was thinking about getting a list of nouns and finding all them in the sentence. then i\\'d somehow get everything describing it (all the links)...if someone has already done something similar or if there\\'s a way to get all related data from a sentence, please tell me or give a link.\"\\n'\n",
            " b'\"i am trying to sort a linked list in descending order can you please help me, i am trying to sort the linked lists according to the documentation in the add function but i am getting an error which says:.f.add(\\'b\\', 2).file \"\"\"\", line 69, in add.attributeerror: \\'nonetype\\' object has no attribute \\'next\\'.how can i avoid this?.thankyou...class frequency(object):.    \"\"\"\"\"\"..    stores a letter:frequency pair...    &gt;&gt;&gt; f = frequency(\\'c\\', 2).    &gt;&gt;&gt; f.letter.    \\'c\\'.    &gt;&gt;&gt; f.frequency.    2.    &gt;&gt;&gt; f.    {c: 2}.    \"\"\"\"\"\".    def __init__(self, letter, frequency):.        self.letter = letter.        self.frequency = frequency.        self.next = none..    def __repr__(self):.        return \\'{%s: %d}\\' % (self.letter, self.frequency)..class sortedfrequencylist(object):.    \"\"\"\"\"\".    stores a collection of frequency objects as a sorted linked list..    items are sorted from the highest frequency to the lowest..    \"\"\"\"\"\".    def __init__(self):.        self.head = none..    def add(self, letter, frequency):.        \"\"\"\"\"\".        adds the given `letter`:`frequency` combination as a frequency object.        to the list. if the given `letter` is already in the list, the given.        `frequency` is added to its frequency...        &gt;&gt;&gt; f = sortedfrequencylist().        &gt;&gt;&gt; f.add(\\'a\\', 3).        &gt;&gt;&gt; f.        ({a: 3}).        &gt;&gt;&gt; f.add(\\'b\\', 2).        &gt;&gt;&gt; f.            ({a: 3}, {b: 2}).        &gt;&gt;&gt; f.add(\\'c\\', 4).        &gt;&gt;&gt; f.        ({c: 4}, {a: 3}, {b: 2}).        &gt;&gt;&gt; f.add(\\'b\\', 3).        &gt;&gt;&gt; f.        ({b: 5}, {c: 4}, {a: 3}).        \"\"\"\"\"\"..        current = self.head.        found = false.        if self.head is none:.            self.head = frequency(letter, frequency).        else:.            prev = none.            while current is not none:.                if current.letter == letter:.                    current.frequency = current.frequency + frequency.                    found = true.                prev = current.                current = current.next..                next1 = current.next.                if next1 is none:.                    current = next1..                if current.frequency &lt; next1.frequency:.                    temp = current.                    current = next1.                    next1 = temp.                else:.                    current = next1.                    next1 = current.next.next...            if found is false:.                prev.next = frequency(letter, frequency)\"\\n'\n",
            " b'\"passing variables between functions in blank ok so i am having a tough time getting my head around passing variables between functions:..i can\\'t seem to find a clear example. ..i do not want to run funa() in funb(). ..def funa():.    name=input(\"\"what is your name?\"\").    age=input(\"\"how old are you?\"\").    return name, age..funa()..def funb(name, age):.    print(name).    print(age)..funb()\"\\n'\n",
            " b'\"what is = i < 10 ? \"\"0\"\" + convert.tostring(i) : convert.tostring(i) - blank never seen something like this before. specifically line 4..currently i understand:..days array at position i-1 gets the value.....i don\\'t know anything beyond the = sign excluding the concatenation from the +...public string[] months() {.        string[] days = new string[12];.        for (int i = 1; i &lt;= 12; i++) {.            days[i - 1] = i &lt; 10 ? \"\"0\"\" + convert.tostring(i) : convert.tostring(i);.        }.        return days;.    }...also why are there 2 converts?..looking further into the other code i think the developer copied and pasted previous code. days array should be months probably, as there are 12 months.....solved..thanks, never seen ternary operators before. thanks!..public string[] months() {.        string[] months = new string[12];.        for (int i = 1; i &lt;= 12; i++) {.            /* faster way of saying */.            /* if i &lt; 10 {} else {} */.            /* if condition is met do everything before the :, else do everything after */..            /* checks for 10 because months can be 1 or 2 digits, 0-9, then 10-12 */.            /* single digits concatenated to the 0 */.            /* double digits replace the 0 */.            months[i - 1] = i &lt; 10 ? \"\"0\"\" + convert.tostring(i) : convert.tostring(i);.        }.        return months;.    }\"\\n'\n",
            " b'\"auto copy for blank so i am trying to find a code that will automatically copy a text when you click on it with no button...what i mean by this:..say we have a symbol and this symbol is \"\"t\"\". when you click on t it should copy \"\"t\"\" to your clipboard. i do not want a button either.\"\\n'\n",
            " b'\"blank - type error this is my code:..def get_num():.    number = int(raw_input(\"\" \"\")),.    print \"\"|\"\".    return number.list_of_letter = [\\'a\\',   \\'b\\',   \\'c\\',    \\'d\\',    \\'e\\',    \\'f\\',    \\'g\\',    \\'h\\',    \\'i\\',    \\'j\\',    \\'k\\' \\'l\\' \\'m\\' \\'n\\' \\'o\\' \\'p\\' \\'q\\' \\'r\\' \\'s\\' \\'t\\' \\'u\\' \\'v\\' \\'w\\' \\'x\\' \\'y\\' \\'z\\'].num = -1.print \"\"welcome to the sudoko maker!!!\"\".print \"\"i will start asking you information.\"\".for lines in range (9):.    for ask in range(9):.        if num == 25:.             num = 0.        num = num + 1             .        print list_of_letter [num],.    print...and when i run it blank writes:.indexerror: list index out of range.why????\"\\n'\n",
            " b'\"calculate average from sources that sends data at different time. in my current project, i am going to write a function of calculating average temperature...a notatable  point of this function is that  it receives data from many temperature sources at different time. could you advise me \"\"how can i write a function with such a behavior?\"\"..for instance,  following function receives tempsensordata from many temperature sensors, which sends temperature data at different time. i need to write a logic of calculating average temperature.   ..public void calculateroomavgtemp(tempstruct tempsensordata) {..   // write logic of calculating average temperature...}\"\\n'\n",
            " b'\"blank get content of url if i enter this link, i get an array of search suggestions for the word \\'sun\\' in a textfile \\'f.txt\\'..http://suggestqueries.google.com/complete/search?client=firefox&amp;q=sun...how can i get this into an array in blank using only this url?\"\\n'\n",
            " b'\"get member of global object using string i have a global blank object which has submembers and i need to access it\\'s members by a provided string. the object looks like:..var student = {.    0 : {.        name : \"\"a\"\",.        level : 2.      }.    1 : {.        name : \"\"b\"\",.        level : 3.      }.      ......and i want to access it like when using the top level as a string:..   this[\"\"student[0][\\'name\\']\"\"];   // returns undefined.   window[\"\"student[0][\\'name\\']\"\"]; // same here...but this is only working for the variable names:..  this[\"\"student\"\"];    // returns the student object.  window[\"\"student\"\"];  // same...can this be done? or what is the correct way to get the member defined with ..var accesskey = \\'student[0][\"\"name\"\"]\\';...thank you.\"\\n'\n",
            " b'\"return var-type variable i has some method, for example:..    public var getallposts().    {.        var post = from p in _db.posts  select p;.        return post;.    }...how return var-type variable?\"\\n'\n",
            " b'\"numberformatexception for string while parsing float this error is probably caused due to my different system locale. i use dot as decimal separator...i tried to set a default locale when my application starts but i\\'m getting the same exception...locale.setdefault(locale.us);...stacktrace:.. caused by: blank.lang.numberformatexception: for input string: \"\"6,2\"\" at. sun.misc.floatingdecimal.readblankformatstring(floatingdecimal.blank:2043) at. sun.misc.floatingdecimal.parsefloat(floatingdecimal.blank:122)  at. blank.lang.float.parsefloat(float.blank:451)\"\\n'\n",
            " b'\"creating arrays containing text attributes from input elements i\\'m trying to create a slideshow that is opened in a new window when the user presses a button...it uses two arrays with the values of the url:s and the texts associated with the images. ..with the current code, i only get the last value of the imagetext array pushed into the variable textlist...how can i get the text-attributes inside the input-tags inserted into my textlist array? i only want the values of the images that have the associated checkbox checked. ..the html: (there are multiple divs like this, with different images and texts)..&lt;div class=\"\"outerdiv\"\"&gt;.    &lt;label&gt;&lt;input type=\"\"checkbox\"\"&gt;.        &lt;img src=\"\"img/lorem/1.jpg\"\" alt=\"\"img 1\"\"&gt;.    &lt;/label&gt;.    &lt;div class=\"\"innerdiv\"\"&gt;.        &lt;label&gt;text: &lt;input type=\"\"text\"\" value=\"\"lorem ipsum\"\"&gt;&lt;/label&gt;.    &lt;/div&gt; .&lt;/div&gt; ...the blank:..function slideshow() {. var imagecreatitext = [];. var picturetexts = [];..for (i=0; i&lt; outerdiv.length; i++) {.   imagetext = texttag.getelementsbytagname(\"\"input\"\")[0];.}..    picturetexts = imagetext.getattribute(\"\"value\"\");.    textlist.push(picturetexts);..   newwindow(400, 500 , \"\"images.htm\"\", imglist, textlist);   ..}...the variable texttag is declared like this in another function:..texttag = this.getelementsbyclassname(\"\"innerdiv\"\")[0];\"\\n'\n",
            " b'\"program that prints one word per line need to create a program that prints one word per line, but only if that word is less than 4 character. i have this so far..the input will be a list such as [\\'not\\',\\'very\\',\\'good\\',\\'at\\',\\'blank\\']..string = input(\"\"enter word list:\"\")..txt = string.split()..for words in txt:..     print(words)...when the input is a list, it prints it in one line, but if the input is just text, for example..enter word list: not very good at blank..then it\\'ll print every word on its own single line. ..not sure how to implement a 4 character only print and not sure how to get the list to print its elements on its own lines\"\\n'\n",
            " b\"multiple increment/decrements in a single statement var a = 0;.(++a)+(a++)+(++a); .print(a);...this prints 3. i'm assuming it only executes single increment...var a = 0;.(++a)+(a++)+(--a); ...this prints 1. what's the rule to follow here?..thank you.\\n\"\n",
            " b'\"while loop gets executes 4 times while it shouldn\\'t edit!..my mistake has been found. i forgot to close the for loop...--------------------------------------------------------------------------..i have a streamreader to read from a file and add every line into a listbox..but for whatever reason the while loop executes 4 times, but i just give it one impulse..in the end i have the same listbox items 4 times...here\\'s my code:..private void button_click(object sender, routedeventargs e).    {.    string path = system.appdomain.currentdomain.basedirectory;.    listboxdates.items.clear();.    directoryinfo dinfo = new directoryinfo(path);.    fileinfo[] files = dinfo.getfiles(\"\"*.txt\"\");...    foreach (fileinfo file in files).    {.        listboxdates.items.add(file.name);.    }.    for (int n = listboxdates.items.count - 1; n &gt;= 0; --n).    {.        string removelistitem = \"\"users\"\";.        if (listboxdates.items[n].tostring().contains(removelistitem)).        {.            listboxdates.items.removeat(n);.        }.    }..string file = convert.tostring(listboxdates.items[3].tostring());.using (streamreader stread = new streamreader(file)).{.   while (!stread.endofstream).   {.      listboxnames.items.add(stread.readline());.   }.}\"\\n'\n",
            " b'\"blank syntax error, can\\'t find a solution to indentions been having issues with one of my scripts. when i run the script, i get the following message under line 23:..syntaxerror: inconsistent use of tabs and spaces in indentation..i have tried using anaconda to replace any tabs with 4/8 spaces but no success...any ideas where i\\'m going wrong here?..cheers...import rpi.gpio as gpio.import time..sensor = 4..gpio.setmode(gpio.bcm).gpio.setup(sensor, gpio.in, gpio.pud_down)..previous_state = false.current_state = false..try:..    while true:.        time.sleep(0.1).        previous_state = current_state.        current_state = gpio.input(sensor).        if current_state != previous_state:.            new_state = \"\"high\"\" if current_state else \"\"low\"\".            print(\"\"gpio pin %s is %s\"\" % (sensor, new_state)).            import smtplib..        smtpuser = \\'rpigroupproject@gmail.com\\'.        smtppass = \\'w1r3l355\\'..        toadd = \\'rpigroupproject@gmail.com\\'.        fromadd = smtpuser..        subject = \\'alert!\\'.        header = \\'to: \\' + toadd + \\'n\\' + \\'from: \\' + .            fromadd + \\'n\\' + \\'subject:\\' + subject.        body = \\'motion was detected...\\'..        print header + \\'n\\' + body..        s = smtplib.smtp(\\'smtp.gmail.com\\', 587)..        s.ehlo().        s.starttls().        s.ehlo()..        s.login(smtpuser, smtppass).        s.sendmail(fromadd, toadd, header + \\'n\\' + body)..        s.quit()..except:.    gpio.cleanup()\"\\n'\n",
            " b'\"how to make path strings in code file system independent? i realized that my code has a lot of paths of the form c:folderpathtofile, and i was wondering what is typically done to allow code to be usable under different file systems?..i was hoping there was some environment property i could check in blank that would give me either forward slash or backslash in order to create new path strings.\"\\n'\n",
            " b'\"given a string s and a set of words d, find the longest word in d that is a subsequence of s i tried solving this in blank 2.7 using regex. i found it to be quite simple. wondering if i am missing something. is there an edge case or corner case here?..s = \"\"abppplee\"\".d = {\"\"able\"\", \"\"ale\"\", \"\"apple\"\", \"\"bale\"\", \"\"kangaroo\"\"}..def subseq(s,d):  .    # every word in d is made into a regex pattern interspersed with .* and looked up in s.    import re.    in_dict = {word:len(word) for word in d if bool(re.search(pattern=\"\".*\"\".join(word),string=s))}.    return max(in_dict, key=in_dict.get)..subseq(s,d)...returns \\'apple\\'\"\\n'\n",
            " b'\"paste formatted blank code in command line i want to run blank code from an example in the anaconda shell. unfortunately the statement i want to paste has lines starting with .... is there an easy way to run such a statement without having to manually remove the ...? i know that other shells exist, but i don\\'t want to have to try getting them working with anaconda..&gt;&gt;&gt; features  = array([[ 1.9,2.3],....                    [ 1.5,2.5],....                    [ 0.8,0.6],....                    [ 0.4,1.8],....                    [ 0.1,0.1],....                    [ 0.2,1.8],....                    [ 2.0,0.5],....                    [ 0.3,1.5],....                    [ 1.0,1.0]])\"\\n'\n",
            " b'\"designing a process i challenge you :)..i have a process that someone already implemented. i will try to describe the requirements, and i was hoping i could get some input to the \"\"best way\"\" to do this.....it\\'s for a financial institution...i have a routing framework that will allow me to recieve files and send requests to other systems. i have a database i can use as i wish but it is only me and my software that has access to this database...the facts...via the routing framework i recieve a file. .each line in this file follows a fixed length format with the identification of a person and an amount (+ lots of other stuff)..this file is 99% of the time im below 100mb ( around 800bytes per line, ie 2,2mb = 2600lines).once a year we have 1-3 gb of data instead..running on an \"\"appserver\"\".i can fork subprocesses as i like. (within reason).i can not ensure consistency when running for more than two days. subprocesses may die, connection to db/framework might be lost, files might move.i can not send reliable messages via the framework. the call is synchronus, so i must wait for the answer....it\\'s possible/likely that sending these getperson request will crash my \"\"process\"\" when sending lots. ..we\\'re using blank......requirements...i must return a file with all the data +  i must add some more info for somelines. (about 25-50% of the lines : 25.000 at least).this info i can only get by doing a getperson request via the framework to another system. one per person. takes between 200 and 400msec..it must be able to complete within two days...nice to have...checkpointing. if im going to run for a long time i sure would like to be able to restart the process without starting from the top........how would you design this?.i will later add the current \"\"hack\"\" and my brief idea..========== current solution ================..it\\'s running on bea/oracle weblogic integration, not by choice but by definition..when the file is received each line is read into a database with ..id, line, status,batchfilename and status \\'needs processing\\'..when all lines is in the database the rows are seperated by mod 4 and a process is started per each quarter of the rows and each line  that needs it is enriched by the getperson call and status is set to \\'processed\\'. (38.0000 in the current batch)...when all 4 quaters of the rows has been processed a writer process startes by select 100 rows from that database, writing them to file and updating their status to \\'written\\'..when all is done the new file is handed back to the routing framework, and a \"\"im done\"\" email is sent to the operations crew...the 4 processing processes can/will fail so its possible to restart them with a http get to a servlet on wli.\"\\n'\n",
            " b'\"why is this blank code crashing the process? static void main(string[] args).        {.            try.            {.                var intvalue = \"\"test\"\";.                var test = convert.toint32(intvalue);.            }.            catch (formatexception).            {.                console.writeline(\"\"format exception\"\");.                throw;.            }.            catch (exception).            {..            }.            finally.            {.                console.writeline(\"\"finally\"\");.            }.        }...according to me, during conversion from string to int, a formatexception is thrown. now inside the catch block, we are re throwing the original exception. why is this not caught in the generic exception catch block? if i put try/catch around the throw then application doesn\\'t crashes.\"\\n'\n",
            " b'\"blank asp.net for append int value to the label id i have the following label with ids:..&lt;asp:label id=\"\"fromname0\"\" runat=\"\"server\"\"  visible=\"\"true\"\"&gt;&lt;/asp:label&gt;.&lt;asp:label id=\"\"fromname1\"\" runat=\"\"server\"\"  visible=\"\"true\"\"&gt;&lt;/asp:label&gt;.&lt;asp:label id=\"\"fromname2\"\" runat=\"\"server\"\"  visible=\"\"true\"\"&gt;&lt;/asp:label&gt;.&lt;asp:label id=\"\"fromname3\"\" runat=\"\"server\"\"  visible=\"\"true\"\"&gt;&lt;/asp:label&gt;.&lt;asp:label id=\"\"fromname4\"\" runat=\"\"server\"\"  visible=\"\"true\"\"&gt;&lt;/asp:label&gt;...i want to assign the values to the label ids using for loop..i am using the following tags in blank:..for (int i = 0; i &lt; count; i++).{.var label = this.controls.find(\"\"fromname \"\" + i, true) as label;.label.text = session[\"\"deliveraddress\"\" + i].tostring();.}...but \\xe2\\x80\\x98find\\xe2\\x80\\x99 shows error like below:.system.web.ui.controlcollections does not have the definition for \\xe2\\x80\\x98find\\xe2\\x80\\x99. but i have already added \\xe2\\x80\\x98system.web.ui\\xe2\\x80\\x99 dll file. can anyone help me?..i am using dotnet framework 4.0...thanks in advance.\"\\n'\n",
            " b'\"how to enumerate through idictionary how can i enumerate through an idictionary? please refer to the code below... public idictionary&lt;string, string&gt; selectdatasource. {.    set.    {.        // this line does not work because it returns a generic enumerator,.        // but mine is of type string,string.        idictionaryenumerator enumerator = value.getenumerator();.    }. }\"\\n'\n",
            " b'\"blank multithread http server i am trying to write a simple multithreaded http server which answers requests after 5 sec..this code does not work, two simultaneous requests take 10 sec to complete, and i don\\'t understand why...from socketserver import threadingmixin.from http.server import simplehttprequesthandler, httpserver, basehttprequesthandler..class threadingsimpleserver(threadingmixin, httpserver):.    pass..import sys.import os.import time     ..class handler(basehttprequesthandler):.    def do_get(self):.        time.sleep(5).        self.send_response(200).        self.send_header(\\'content-type\\',\\'text/html\\').        self.end_headers().        self.wfile.write(\"\"answer\"\").        return..server = threadingsimpleserver((\\'\\', 8000), handler)..try:.    while 1:.        sys.stdout.flush().        server.handle_request().except keyboardinterrupt:.    print(\"\"finished\"\")\"\\n'\n",
            " b'\"calculate upper bound based on a max values from a list i have a list of transactions, integer. i need to create range to display that list in a bar chart. i am trying to compute upper bound of that range based on the maximum value from the list..eg: if the list is {8, 9 , 91, 45}, then .1. calculate max as 91..2. calculate range, lower bound always 0 but upper bound  can be 100...any ideas how to do that?\"\\n'\n",
            " b'\"blank: how to show results on a web page? most likely it\\'s a dumb question for those who knows the answer, but i\\'m a beginner, and here it goes:..i have a blank script which i run in a command-line with some parameter, and it prints me some results. let\\'s say results are some html code...i never done any blank programming for web, and couldn\\'t figure it out... i need to have a page (ok, i know how to upload files to a server, apache is running, blank is installed on the server...) with an edit field, which will accept that parameter, and submit button, and i need it to \"\"print\"\" the results on a web page after the user submitted a proper parameter, or show any output that in a command-line situation are printed...i\\'ve read dive into blank\\'s chapters about \"\"html processing\"\" and \"\"http web services\"\", but they do not describe what i\\'m looking for...if the answer isn\\'t short, i would very much appreciate links to the more relevant stuff to read or maybe the key words to google for it.\"\\n'\n",
            " b'\"compare datetime currentdate blank i\\'ve txtstartdate control like that format : 09.03.2012..i want to compare txtstartdate value currentdate. if txtstartdate bigger than currentdate, i want to return true. how to to this?\"\\n'\n",
            " b'\"need help/stuck on overload generic method i need to overload generic method printarray of genericmethodtest so that ...  it takes two additional integer arguments, lowsubscript and highsubscript. a call to this method prints only the designated portion of the array. validate lowsubscript and highsubscript. if either is out of range, the overloaded printarray method should throw an invalidsubscriptexception; otherwise, printarray should return the number of elements printed. .  .  then modify main to exercise both verisons of printarray on arrays integerarray, doublearray and characterarray. test all capabilities of both versions of printarray....this is what i have so far i\\'m stuck and don\\'t know where to begin...public class genericmethodtest   .{     .  public static void main(string[] args)   .  {        .     // create arrays of integer, double and character  .     integer[] integerarray = {1, 2, 3, 4, 5, 6};   .     double[] doublearray = {1.1, 2.2, 3.3, 4.4, 5.5, 6.6, 7.7};   .     character[] characterarray = {\\'h\\', \\'e\\', \\'l\\', \\'l\\', \\'o\\'}   ...     system.out.printf(\"\"%narray integerarray contains:%n\"\");.     printarray(integerarray); // pass an integer array .     system.out.printf(\"\"%narray doublearray contains:%n\"\");.     printarray(doublearray); // pass a double array.     system.out.printf(\"\"%narray characterarray contains:%n\"\");.     printarray(characterarray); // pass a character array.   }    ..   // generic method printarray       .   public static &lt;t&gt; void printarray(t[] inputarray)      .   {.     // display array elements  .     for (t element : inputarray)   .       system.out.printf(\"\"%s \"\", element);..     system.out.println();.   }.} // end class genericmethodtest\"\\n'\n",
            " b'\"how to fix string too long exception in blank i have a algorithm to analysis string but it take only about 10000 characters more than that it will throw following exception..exception in thread \"\"main\"\" blank.lang.runtimeexception: uncompilable source code - constant string too long...this is the code i\\'m using ..public static void printrepeatingstrings(string inputstring, int sequencelength) {.    if (inputstring.isempty() || sequencelength &lt;= 0 || sequencelength &gt;= inputstring.length()) {.        system.out.println(\"\"invalid input\"\");.    } else {.        int i = 0;.        int j = i + sequencelength;.        set&lt;string&gt; tempset = new hashset&lt;&gt;();.        set&lt;string&gt; repeatingsequences = new treeset&lt;&gt;();.        while (j &lt;= inputstring.length()) {.            if (!tempset.add(inputstring.substring(i, j))) {.                repeatingsequences.add(inputstring.substring(i, j));.            }.            i++;.            j = i + sequencelength;.        }.        for (string str : repeatingsequences) {.            system.out.println(str);.        }.    }.}...if you can help me to fix this that will be very helpful\"\\n'\n",
            " b'\"how to make the dialog window button do something after being clicked? this is the code i can make the dialog window easy but how do i program the button that shows up with the dialog button? is it possible? this is the image with the button:...    package millionaire;..    import blank.awt.component;.    import blankx.swing.joptionpane;..    public class time extends blankx.swing.jframe implements runnable {.         public static int timer;..         public void run(){..         try{..            while(true){.                if(doyouwanttobeamillionaire.timeractive){.                    if (timer == 0){                    .                        questionscreen.btnclicked = true;.                        questionscreen.answercorrect = false;.                        losescreen losewindow = new losescreen();.                        losewindow.setvisible(true);.                        questionscreen.closescreen=true;.                        component frame = null;.                        joptionpane.showmessagedialog(frame, \"\"sorry,time\\'s up\"\",\"\"error\"\", joptionpane.error_message);.                        break;.                    }.                    else {.                        system.out.println(timer);.                        thread.sleep(1000);.                        timer -= 1;.                    }.                }.                else{.                    break;.                }..            }..        }       .        catch(exception e){.    }.}    ...}\"\\n'\n",
            " b'\"while loop giving different return and print results? the below code is for a class exercise. we are trying to find the last position of the target string:..def find_last(search, target):.    count = 0.    while search.find(target, count) != -1:.        return search.find(target, count).        count = count +1..print find_last(\\'aaaabbaaabbbab\\', \\'ab\\')...the answer should be 12 but if i run the code i get the answer 3...however, if i use this code:..def find_last(search, target):.    count = 0.    while search.find(target, count) != -1:.        print search.find(target, count).        count = count +1..print find_last(\\'aaaabbaaabbbab\\', \\'ab\\')...i get this answer instead: ..3 3 3 3 8 8 8 8 8 12 12 12 12 none...so, it looks like my function is finding the correct answer 12, the question is why is it printing out 3, which is the first result of the loop, and not 12 when i use the return statement?\"\\n'\n",
            " b'data fields or local variables whose value cannot be modified? hey guys i am brand new to blank. i was reading this book and this fill in the blanks says  __ are the data fields or local variables whose values cannot be modifed? can someone tell me the answer? thanks. .ps: total newbie i searched youtube but i was messed up in code..thanks.\\n'\n",
            " b'\"how to check the sum of every lines in js okay, so if i have this:..var array = [\"\"1\"\", \"\"2\"\", \"\"3\"\", \"\"4\"\", \"\"5\"\", \"\"6\"\", \"\"7\"\", \"\"8\"\", \"\"9\"\"];...and what i want is to sum:..1 + 2 + 3 &amp;&amp; 1 + 4 + 7 &amp;&amp; 1 + 5 + 9...like in tic tac toe, so my question is how can i do that without filling my code with 300 lines of code?\"\\n'], shape=(50,), dtype=string) tf.Tensor(\n",
            "[[0. 0. 1. 0.]\n",
            " [0. 0. 1. 0.]\n",
            " [0. 0. 0. 1.]\n",
            " [0. 0. 1. 0.]\n",
            " [1. 0. 0. 0.]\n",
            " [0. 0. 0. 1.]\n",
            " [0. 1. 0. 0.]\n",
            " [0. 1. 0. 0.]\n",
            " [0. 0. 0. 1.]\n",
            " [0. 0. 0. 1.]\n",
            " [1. 0. 0. 0.]\n",
            " [1. 0. 0. 0.]\n",
            " [1. 0. 0. 0.]\n",
            " [1. 0. 0. 0.]\n",
            " [0. 0. 0. 1.]\n",
            " [0. 0. 0. 1.]\n",
            " [0. 1. 0. 0.]\n",
            " [0. 0. 0. 1.]\n",
            " [0. 0. 0. 1.]\n",
            " [0. 0. 0. 1.]\n",
            " [1. 0. 0. 0.]\n",
            " [0. 0. 1. 0.]\n",
            " [0. 0. 0. 1.]\n",
            " [0. 1. 0. 0.]\n",
            " [0. 0. 1. 0.]\n",
            " [0. 0. 1. 0.]\n",
            " [1. 0. 0. 0.]\n",
            " [0. 1. 0. 0.]\n",
            " [0. 0. 1. 0.]\n",
            " [0. 0. 0. 1.]\n",
            " [0. 0. 1. 0.]\n",
            " [1. 0. 0. 0.]\n",
            " [0. 0. 0. 1.]\n",
            " [1. 0. 0. 0.]\n",
            " [0. 0. 0. 1.]\n",
            " [0. 0. 0. 1.]\n",
            " [0. 1. 0. 0.]\n",
            " [1. 0. 0. 0.]\n",
            " [1. 0. 0. 0.]\n",
            " [1. 0. 0. 0.]\n",
            " [0. 0. 0. 1.]\n",
            " [0. 1. 0. 0.]\n",
            " [0. 0. 0. 1.]\n",
            " [0. 0. 1. 0.]\n",
            " [0. 1. 0. 0.]\n",
            " [0. 1. 0. 0.]\n",
            " [0. 1. 0. 0.]\n",
            " [0. 0. 0. 1.]\n",
            " [1. 0. 0. 0.]\n",
            " [0. 0. 1. 0.]], shape=(50, 4), dtype=float32)\n"
          ]
        }
      ]
    },
    {
      "cell_type": "code",
      "source": [
        "def custom_standardization(input_data):\n",
        "    lowercase = tf.strings.lower(input_data)\n",
        "    stripped_html = tf.strings.regex_replace(lowercase, '<br />', ' ')\n",
        "    return tf.strings.regex_replace(stripped_html,\n",
        "                                  '[%s]' % re.escape(string.punctuation),\n",
        "                                  '')"
      ],
      "metadata": {
        "id": "V_qgBE2E4HSS"
      },
      "execution_count": null,
      "outputs": []
    },
    {
      "cell_type": "code",
      "source": [
        "max_features = 10000\n",
        "sequence_length = 1000\n",
        "\n",
        "vectorize_layer = TextVectorization(max_tokens=max_features,standardize=custom_standardization,output_sequence_length=sequence_length,output_mode=\"int\")"
      ],
      "metadata": {
        "id": "KECJLQ6f7OOL"
      },
      "execution_count": null,
      "outputs": []
    },
    {
      "cell_type": "code",
      "source": [
        "train_text = raw_train_ds.map(lambda x, y: x)\n",
        "# type(train_text)\n",
        "vectorize_layer.adapt(train_text)"
      ],
      "metadata": {
        "id": "5Th0MNS18CDM"
      },
      "execution_count": null,
      "outputs": []
    },
    {
      "cell_type": "code",
      "source": [
        "len(vectorize_layer.get_vocabulary())"
      ],
      "metadata": {
        "colab": {
          "base_uri": "https://localhost:8080/"
        },
        "id": "3h0-G7do8X-Q",
        "outputId": "137e4e33-a52d-4713-9896-cf899e2a463b"
      },
      "execution_count": null,
      "outputs": [
        {
          "output_type": "execute_result",
          "data": {
            "text/plain": [
              "10000"
            ]
          },
          "metadata": {},
          "execution_count": 80
        }
      ]
    },
    {
      "cell_type": "code",
      "source": [
        "def vectorize_text(text, label):\n",
        "    text = tf.expand_dims(text, -1)\n",
        "    return vectorize_layer(text), label\n",
        "train_ds = raw_train_ds.map(vectorize_text)\n",
        "test_ds = raw_test_ds.map(vectorize_text)\n",
        "val_ds = raw_val_ds.map(vectorize_text)"
      ],
      "metadata": {
        "id": "8rS3EFdl-XWH"
      },
      "execution_count": null,
      "outputs": []
    },
    {
      "cell_type": "code",
      "source": [
        "AUTOTUNE = tf.data.AUTOTUNE\n",
        "train_ds = train_ds.cache().prefetch(buffer_size = AUTOTUNE)\n",
        "test_ds = test_ds.cache().prefetch(buffer_size = AUTOTUNE)\n",
        "val_ds = val_ds.cache().prefetch(buffer_size = AUTOTUNE)\n"
      ],
      "metadata": {
        "id": "pnWBbKwW-ptq"
      },
      "execution_count": null,
      "outputs": []
    },
    {
      "cell_type": "code",
      "source": [
        "model = Sequential([\n",
        "    Embedding(max_features,20),\n",
        "    Dropout(0.2),\n",
        "    GlobalAveragePooling1D(),\n",
        "    Dropout(0.2),\n",
        "    Dense(4,activation='sigmoid')\n",
        "])\n",
        "\n",
        "model.compile(loss=CategoricalCrossentropy(),metrics=CategoricalAccuracy(),optimizer=\"adam\")\n",
        "model.summary()"
      ],
      "metadata": {
        "colab": {
          "base_uri": "https://localhost:8080/"
        },
        "id": "mx4QCXGI_Ii5",
        "outputId": "726d9f2e-b859-416c-d2f4-9067b0eea69a"
      },
      "execution_count": null,
      "outputs": [
        {
          "output_type": "stream",
          "name": "stdout",
          "text": [
            "Model: \"sequential_7\"\n",
            "_________________________________________________________________\n",
            " Layer (type)                Output Shape              Param #   \n",
            "=================================================================\n",
            " embedding_7 (Embedding)     (None, None, 20)          200000    \n",
            "                                                                 \n",
            " dropout_13 (Dropout)        (None, None, 20)          0         \n",
            "                                                                 \n",
            " global_average_pooling1d_7  (None, 20)                0         \n",
            "  (GlobalAveragePooling1D)                                       \n",
            "                                                                 \n",
            " dropout_14 (Dropout)        (None, 20)                0         \n",
            "                                                                 \n",
            " dense_7 (Dense)             (None, 4)                 84        \n",
            "                                                                 \n",
            "=================================================================\n",
            "Total params: 200084 (781.58 KB)\n",
            "Trainable params: 200084 (781.58 KB)\n",
            "Non-trainable params: 0 (0.00 Byte)\n",
            "_________________________________________________________________\n"
          ]
        }
      ]
    },
    {
      "cell_type": "code",
      "source": [
        "history = model.fit(train_ds,validation_data=val_ds,epochs=100,verbose=1)"
      ],
      "metadata": {
        "colab": {
          "base_uri": "https://localhost:8080/"
        },
        "id": "KNr7LhdFBHQC",
        "outputId": "ffb6b356-65f8-4ebe-e28a-8b7851e88a29"
      },
      "execution_count": null,
      "outputs": [
        {
          "output_type": "stream",
          "name": "stdout",
          "text": [
            "Epoch 1/100\n",
            "160/160 [==============================] - 4s 25ms/step - loss: 1.1281 - categorical_accuracy: 0.6570 - val_loss: 1.0941 - val_categorical_accuracy: 0.6888\n",
            "Epoch 2/100\n",
            "160/160 [==============================] - 5s 28ms/step - loss: 1.0906 - categorical_accuracy: 0.6739 - val_loss: 1.0572 - val_categorical_accuracy: 0.7075\n",
            "Epoch 3/100\n",
            "160/160 [==============================] - 3s 22ms/step - loss: 1.0568 - categorical_accuracy: 0.6920 - val_loss: 1.0202 - val_categorical_accuracy: 0.7225\n",
            "Epoch 4/100\n",
            "160/160 [==============================] - 4s 22ms/step - loss: 1.0237 - categorical_accuracy: 0.7065 - val_loss: 0.9848 - val_categorical_accuracy: 0.7406\n",
            "Epoch 5/100\n",
            "160/160 [==============================] - 5s 29ms/step - loss: 0.9909 - categorical_accuracy: 0.7216 - val_loss: 0.9516 - val_categorical_accuracy: 0.7469\n",
            "Epoch 6/100\n",
            "160/160 [==============================] - 4s 22ms/step - loss: 0.9606 - categorical_accuracy: 0.7285 - val_loss: 0.9195 - val_categorical_accuracy: 0.7600\n",
            "Epoch 7/100\n",
            "160/160 [==============================] - 4s 22ms/step - loss: 0.9314 - categorical_accuracy: 0.7394 - val_loss: 0.8890 - val_categorical_accuracy: 0.7700\n",
            "Epoch 8/100\n",
            "160/160 [==============================] - 5s 28ms/step - loss: 0.9037 - categorical_accuracy: 0.7492 - val_loss: 0.8607 - val_categorical_accuracy: 0.7781\n",
            "Epoch 9/100\n",
            "160/160 [==============================] - 3s 22ms/step - loss: 0.8765 - categorical_accuracy: 0.7567 - val_loss: 0.8339 - val_categorical_accuracy: 0.7887\n",
            "Epoch 10/100\n",
            "160/160 [==============================] - 4s 26ms/step - loss: 0.8542 - categorical_accuracy: 0.7604 - val_loss: 0.8081 - val_categorical_accuracy: 0.7950\n",
            "Epoch 11/100\n",
            "160/160 [==============================] - 3s 22ms/step - loss: 0.8284 - categorical_accuracy: 0.7685 - val_loss: 0.7841 - val_categorical_accuracy: 0.7950\n",
            "Epoch 12/100\n",
            "160/160 [==============================] - 4s 22ms/step - loss: 0.8066 - categorical_accuracy: 0.7756 - val_loss: 0.7614 - val_categorical_accuracy: 0.8056\n",
            "Epoch 13/100\n",
            "160/160 [==============================] - 4s 24ms/step - loss: 0.7862 - categorical_accuracy: 0.7812 - val_loss: 0.7389 - val_categorical_accuracy: 0.8138\n",
            "Epoch 14/100\n",
            "160/160 [==============================] - 4s 22ms/step - loss: 0.7649 - categorical_accuracy: 0.7881 - val_loss: 0.7183 - val_categorical_accuracy: 0.8169\n",
            "Epoch 15/100\n",
            "160/160 [==============================] - 5s 29ms/step - loss: 0.7467 - categorical_accuracy: 0.7874 - val_loss: 0.6981 - val_categorical_accuracy: 0.8250\n",
            "Epoch 16/100\n",
            "160/160 [==============================] - 4s 26ms/step - loss: 0.7288 - categorical_accuracy: 0.7936 - val_loss: 0.6806 - val_categorical_accuracy: 0.8231\n",
            "Epoch 17/100\n",
            "160/160 [==============================] - 3s 22ms/step - loss: 0.7134 - categorical_accuracy: 0.7955 - val_loss: 0.6624 - val_categorical_accuracy: 0.8306\n",
            "Epoch 18/100\n",
            "160/160 [==============================] - 4s 27ms/step - loss: 0.6967 - categorical_accuracy: 0.7981 - val_loss: 0.6455 - val_categorical_accuracy: 0.8344\n",
            "Epoch 19/100\n",
            "160/160 [==============================] - 4s 22ms/step - loss: 0.6802 - categorical_accuracy: 0.8061 - val_loss: 0.6301 - val_categorical_accuracy: 0.8356\n",
            "Epoch 20/100\n",
            "160/160 [==============================] - 4s 22ms/step - loss: 0.6650 - categorical_accuracy: 0.8075 - val_loss: 0.6150 - val_categorical_accuracy: 0.8363\n",
            "Epoch 21/100\n",
            "160/160 [==============================] - 5s 29ms/step - loss: 0.6505 - categorical_accuracy: 0.8104 - val_loss: 0.5999 - val_categorical_accuracy: 0.8394\n",
            "Epoch 22/100\n",
            "160/160 [==============================] - 3s 21ms/step - loss: 0.6362 - categorical_accuracy: 0.8170 - val_loss: 0.5854 - val_categorical_accuracy: 0.8462\n",
            "Epoch 23/100\n",
            "160/160 [==============================] - 4s 22ms/step - loss: 0.6239 - categorical_accuracy: 0.8176 - val_loss: 0.5723 - val_categorical_accuracy: 0.8494\n",
            "Epoch 24/100\n",
            "160/160 [==============================] - 4s 22ms/step - loss: 0.6115 - categorical_accuracy: 0.8214 - val_loss: 0.5593 - val_categorical_accuracy: 0.8544\n",
            "Epoch 25/100\n",
            "160/160 [==============================] - 4s 22ms/step - loss: 0.6008 - categorical_accuracy: 0.8273 - val_loss: 0.5470 - val_categorical_accuracy: 0.8562\n",
            "Epoch 26/100\n",
            "160/160 [==============================] - 4s 27ms/step - loss: 0.5891 - categorical_accuracy: 0.8264 - val_loss: 0.5354 - val_categorical_accuracy: 0.8569\n",
            "Epoch 27/100\n",
            "160/160 [==============================] - 3s 21ms/step - loss: 0.5763 - categorical_accuracy: 0.8313 - val_loss: 0.5236 - val_categorical_accuracy: 0.8625\n",
            "Epoch 28/100\n",
            "160/160 [==============================] - 4s 27ms/step - loss: 0.5652 - categorical_accuracy: 0.8369 - val_loss: 0.5126 - val_categorical_accuracy: 0.8625\n",
            "Epoch 29/100\n",
            "160/160 [==============================] - 4s 24ms/step - loss: 0.5552 - categorical_accuracy: 0.8399 - val_loss: 0.5023 - val_categorical_accuracy: 0.8681\n",
            "Epoch 30/100\n",
            "160/160 [==============================] - 4s 23ms/step - loss: 0.5464 - categorical_accuracy: 0.8399 - val_loss: 0.4918 - val_categorical_accuracy: 0.8744\n",
            "Epoch 31/100\n",
            "160/160 [==============================] - 4s 28ms/step - loss: 0.5345 - categorical_accuracy: 0.8413 - val_loss: 0.4819 - val_categorical_accuracy: 0.8694\n",
            "Epoch 32/100\n",
            "160/160 [==============================] - 3s 22ms/step - loss: 0.5272 - categorical_accuracy: 0.8430 - val_loss: 0.4724 - val_categorical_accuracy: 0.8756\n",
            "Epoch 33/100\n",
            "160/160 [==============================] - 4s 23ms/step - loss: 0.5163 - categorical_accuracy: 0.8496 - val_loss: 0.4631 - val_categorical_accuracy: 0.8781\n",
            "Epoch 34/100\n",
            "160/160 [==============================] - 4s 28ms/step - loss: 0.5084 - categorical_accuracy: 0.8534 - val_loss: 0.4538 - val_categorical_accuracy: 0.8806\n",
            "Epoch 35/100\n",
            "160/160 [==============================] - 4s 22ms/step - loss: 0.5005 - categorical_accuracy: 0.8515 - val_loss: 0.4459 - val_categorical_accuracy: 0.8844\n",
            "Epoch 36/100\n",
            "160/160 [==============================] - 4s 23ms/step - loss: 0.4911 - categorical_accuracy: 0.8581 - val_loss: 0.4371 - val_categorical_accuracy: 0.8838\n",
            "Epoch 37/100\n",
            "160/160 [==============================] - 4s 27ms/step - loss: 0.4820 - categorical_accuracy: 0.8624 - val_loss: 0.4291 - val_categorical_accuracy: 0.8925\n",
            "Epoch 38/100\n",
            "160/160 [==============================] - 4s 22ms/step - loss: 0.4751 - categorical_accuracy: 0.8601 - val_loss: 0.4216 - val_categorical_accuracy: 0.8906\n",
            "Epoch 39/100\n",
            "160/160 [==============================] - 4s 23ms/step - loss: 0.4664 - categorical_accuracy: 0.8651 - val_loss: 0.4138 - val_categorical_accuracy: 0.8931\n",
            "Epoch 40/100\n",
            "160/160 [==============================] - 4s 27ms/step - loss: 0.4601 - categorical_accuracy: 0.8650 - val_loss: 0.4062 - val_categorical_accuracy: 0.8950\n",
            "Epoch 41/100\n",
            "160/160 [==============================] - 4s 22ms/step - loss: 0.4507 - categorical_accuracy: 0.8710 - val_loss: 0.3986 - val_categorical_accuracy: 0.8950\n",
            "Epoch 42/100\n",
            "160/160 [==============================] - 3s 22ms/step - loss: 0.4439 - categorical_accuracy: 0.8698 - val_loss: 0.3921 - val_categorical_accuracy: 0.8963\n",
            "Epoch 43/100\n",
            "160/160 [==============================] - 5s 29ms/step - loss: 0.4392 - categorical_accuracy: 0.8705 - val_loss: 0.3849 - val_categorical_accuracy: 0.8975\n",
            "Epoch 44/100\n",
            "160/160 [==============================] - 3s 22ms/step - loss: 0.4323 - categorical_accuracy: 0.8795 - val_loss: 0.3785 - val_categorical_accuracy: 0.9006\n",
            "Epoch 45/100\n",
            "160/160 [==============================] - 4s 22ms/step - loss: 0.4249 - categorical_accuracy: 0.8786 - val_loss: 0.3720 - val_categorical_accuracy: 0.9019\n",
            "Epoch 46/100\n",
            "160/160 [==============================] - 5s 28ms/step - loss: 0.4208 - categorical_accuracy: 0.8779 - val_loss: 0.3660 - val_categorical_accuracy: 0.9000\n",
            "Epoch 47/100\n",
            "160/160 [==============================] - 4s 22ms/step - loss: 0.4117 - categorical_accuracy: 0.8832 - val_loss: 0.3604 - val_categorical_accuracy: 0.9044\n",
            "Epoch 48/100\n",
            "160/160 [==============================] - 4s 26ms/step - loss: 0.4056 - categorical_accuracy: 0.8823 - val_loss: 0.3536 - val_categorical_accuracy: 0.9081\n",
            "Epoch 49/100\n",
            "160/160 [==============================] - 4s 25ms/step - loss: 0.3991 - categorical_accuracy: 0.8856 - val_loss: 0.3476 - val_categorical_accuracy: 0.9106\n",
            "Epoch 50/100\n",
            "160/160 [==============================] - 4s 23ms/step - loss: 0.3934 - categorical_accuracy: 0.8859 - val_loss: 0.3423 - val_categorical_accuracy: 0.9125\n",
            "Epoch 51/100\n",
            "160/160 [==============================] - 5s 28ms/step - loss: 0.3879 - categorical_accuracy: 0.8899 - val_loss: 0.3373 - val_categorical_accuracy: 0.9125\n",
            "Epoch 52/100\n",
            "160/160 [==============================] - 4s 23ms/step - loss: 0.3809 - categorical_accuracy: 0.8924 - val_loss: 0.3316 - val_categorical_accuracy: 0.9156\n",
            "Epoch 53/100\n",
            "160/160 [==============================] - 3s 22ms/step - loss: 0.3768 - categorical_accuracy: 0.8906 - val_loss: 0.3263 - val_categorical_accuracy: 0.9162\n",
            "Epoch 54/100\n",
            "160/160 [==============================] - 4s 28ms/step - loss: 0.3699 - categorical_accuracy: 0.8930 - val_loss: 0.3208 - val_categorical_accuracy: 0.9181\n",
            "Epoch 55/100\n",
            "160/160 [==============================] - 4s 23ms/step - loss: 0.3677 - categorical_accuracy: 0.8963 - val_loss: 0.3162 - val_categorical_accuracy: 0.9181\n",
            "Epoch 56/100\n",
            "160/160 [==============================] - 4s 22ms/step - loss: 0.3592 - categorical_accuracy: 0.8964 - val_loss: 0.3126 - val_categorical_accuracy: 0.9187\n",
            "Epoch 57/100\n",
            "160/160 [==============================] - 4s 22ms/step - loss: 0.3558 - categorical_accuracy: 0.8997 - val_loss: 0.3068 - val_categorical_accuracy: 0.9194\n",
            "Epoch 58/100\n",
            "160/160 [==============================] - 4s 23ms/step - loss: 0.3485 - categorical_accuracy: 0.9026 - val_loss: 0.3022 - val_categorical_accuracy: 0.9237\n",
            "Epoch 59/100\n",
            "160/160 [==============================] - 5s 29ms/step - loss: 0.3454 - categorical_accuracy: 0.9016 - val_loss: 0.2973 - val_categorical_accuracy: 0.9250\n",
            "Epoch 60/100\n",
            "160/160 [==============================] - 4s 22ms/step - loss: 0.3401 - categorical_accuracy: 0.9045 - val_loss: 0.2933 - val_categorical_accuracy: 0.9244\n",
            "Epoch 61/100\n",
            "160/160 [==============================] - 4s 23ms/step - loss: 0.3373 - categorical_accuracy: 0.9049 - val_loss: 0.2884 - val_categorical_accuracy: 0.9269\n",
            "Epoch 62/100\n",
            "160/160 [==============================] - 4s 27ms/step - loss: 0.3319 - categorical_accuracy: 0.9040 - val_loss: 0.2844 - val_categorical_accuracy: 0.9269\n",
            "Epoch 63/100\n",
            "160/160 [==============================] - 4s 22ms/step - loss: 0.3251 - categorical_accuracy: 0.9091 - val_loss: 0.2812 - val_categorical_accuracy: 0.9287\n",
            "Epoch 64/100\n",
            "160/160 [==============================] - 4s 22ms/step - loss: 0.3223 - categorical_accuracy: 0.9100 - val_loss: 0.2768 - val_categorical_accuracy: 0.9287\n",
            "Epoch 65/100\n",
            "160/160 [==============================] - 5s 30ms/step - loss: 0.3195 - categorical_accuracy: 0.9135 - val_loss: 0.2721 - val_categorical_accuracy: 0.9306\n",
            "Epoch 66/100\n",
            "160/160 [==============================] - 4s 22ms/step - loss: 0.3120 - categorical_accuracy: 0.9143 - val_loss: 0.2686 - val_categorical_accuracy: 0.9319\n",
            "Epoch 67/100\n",
            "160/160 [==============================] - 4s 23ms/step - loss: 0.3091 - categorical_accuracy: 0.9135 - val_loss: 0.2640 - val_categorical_accuracy: 0.9350\n",
            "Epoch 68/100\n",
            "160/160 [==============================] - 5s 29ms/step - loss: 0.3055 - categorical_accuracy: 0.9185 - val_loss: 0.2606 - val_categorical_accuracy: 0.9350\n",
            "Epoch 69/100\n",
            "160/160 [==============================] - 4s 23ms/step - loss: 0.3014 - categorical_accuracy: 0.9160 - val_loss: 0.2575 - val_categorical_accuracy: 0.9337\n",
            "Epoch 70/100\n",
            "160/160 [==============================] - 4s 22ms/step - loss: 0.2968 - categorical_accuracy: 0.9178 - val_loss: 0.2536 - val_categorical_accuracy: 0.9356\n",
            "Epoch 71/100\n",
            "160/160 [==============================] - 4s 22ms/step - loss: 0.2939 - categorical_accuracy: 0.9180 - val_loss: 0.2496 - val_categorical_accuracy: 0.9375\n",
            "Epoch 72/100\n",
            "160/160 [==============================] - 4s 23ms/step - loss: 0.2891 - categorical_accuracy: 0.9190 - val_loss: 0.2466 - val_categorical_accuracy: 0.9350\n",
            "Epoch 73/100\n",
            "160/160 [==============================] - 4s 24ms/step - loss: 0.2845 - categorical_accuracy: 0.9221 - val_loss: 0.2433 - val_categorical_accuracy: 0.9375\n",
            "Epoch 74/100\n",
            "160/160 [==============================] - 4s 27ms/step - loss: 0.2826 - categorical_accuracy: 0.9227 - val_loss: 0.2404 - val_categorical_accuracy: 0.9344\n",
            "Epoch 75/100\n",
            "160/160 [==============================] - 4s 23ms/step - loss: 0.2780 - categorical_accuracy: 0.9237 - val_loss: 0.2357 - val_categorical_accuracy: 0.9375\n",
            "Epoch 76/100\n",
            "160/160 [==============================] - 5s 29ms/step - loss: 0.2759 - categorical_accuracy: 0.9236 - val_loss: 0.2336 - val_categorical_accuracy: 0.9375\n",
            "Epoch 77/100\n",
            "160/160 [==============================] - 4s 22ms/step - loss: 0.2700 - categorical_accuracy: 0.9286 - val_loss: 0.2294 - val_categorical_accuracy: 0.9406\n",
            "Epoch 78/100\n",
            "160/160 [==============================] - 4s 23ms/step - loss: 0.2665 - categorical_accuracy: 0.9279 - val_loss: 0.2265 - val_categorical_accuracy: 0.9419\n",
            "Epoch 79/100\n",
            "160/160 [==============================] - 4s 26ms/step - loss: 0.2642 - categorical_accuracy: 0.9295 - val_loss: 0.2242 - val_categorical_accuracy: 0.9419\n",
            "Epoch 80/100\n",
            "160/160 [==============================] - 4s 22ms/step - loss: 0.2593 - categorical_accuracy: 0.9289 - val_loss: 0.2213 - val_categorical_accuracy: 0.9406\n",
            "Epoch 81/100\n",
            "160/160 [==============================] - 4s 23ms/step - loss: 0.2566 - categorical_accuracy: 0.9311 - val_loss: 0.2188 - val_categorical_accuracy: 0.9419\n",
            "Epoch 82/100\n",
            "160/160 [==============================] - 4s 27ms/step - loss: 0.2550 - categorical_accuracy: 0.9323 - val_loss: 0.2157 - val_categorical_accuracy: 0.9425\n",
            "Epoch 83/100\n",
            "160/160 [==============================] - 4s 22ms/step - loss: 0.2494 - categorical_accuracy: 0.9308 - val_loss: 0.2118 - val_categorical_accuracy: 0.9444\n",
            "Epoch 84/100\n",
            "160/160 [==============================] - 4s 25ms/step - loss: 0.2455 - categorical_accuracy: 0.9331 - val_loss: 0.2092 - val_categorical_accuracy: 0.9463\n",
            "Epoch 85/100\n",
            "160/160 [==============================] - 4s 23ms/step - loss: 0.2424 - categorical_accuracy: 0.9325 - val_loss: 0.2081 - val_categorical_accuracy: 0.9456\n",
            "Epoch 86/100\n",
            "160/160 [==============================] - 4s 22ms/step - loss: 0.2400 - categorical_accuracy: 0.9356 - val_loss: 0.2041 - val_categorical_accuracy: 0.9475\n",
            "Epoch 87/100\n",
            "160/160 [==============================] - 4s 23ms/step - loss: 0.2391 - categorical_accuracy: 0.9352 - val_loss: 0.2021 - val_categorical_accuracy: 0.9469\n",
            "Epoch 88/100\n",
            "160/160 [==============================] - 4s 23ms/step - loss: 0.2330 - categorical_accuracy: 0.9390 - val_loss: 0.1993 - val_categorical_accuracy: 0.9481\n",
            "Epoch 89/100\n",
            "160/160 [==============================] - 4s 23ms/step - loss: 0.2317 - categorical_accuracy: 0.9392 - val_loss: 0.1954 - val_categorical_accuracy: 0.9481\n",
            "Epoch 90/100\n",
            "160/160 [==============================] - 4s 28ms/step - loss: 0.2278 - categorical_accuracy: 0.9384 - val_loss: 0.1939 - val_categorical_accuracy: 0.9494\n",
            "Epoch 91/100\n",
            "160/160 [==============================] - 4s 23ms/step - loss: 0.2260 - categorical_accuracy: 0.9394 - val_loss: 0.1910 - val_categorical_accuracy: 0.9500\n",
            "Epoch 92/100\n",
            "160/160 [==============================] - 4s 22ms/step - loss: 0.2252 - categorical_accuracy: 0.9400 - val_loss: 0.1890 - val_categorical_accuracy: 0.9500\n",
            "Epoch 93/100\n",
            "160/160 [==============================] - 5s 28ms/step - loss: 0.2212 - categorical_accuracy: 0.9409 - val_loss: 0.1858 - val_categorical_accuracy: 0.9519\n",
            "Epoch 94/100\n",
            "160/160 [==============================] - 4s 22ms/step - loss: 0.2164 - categorical_accuracy: 0.9409 - val_loss: 0.1849 - val_categorical_accuracy: 0.9513\n",
            "Epoch 95/100\n",
            "160/160 [==============================] - 4s 23ms/step - loss: 0.2134 - categorical_accuracy: 0.9450 - val_loss: 0.1820 - val_categorical_accuracy: 0.9475\n",
            "Epoch 96/100\n",
            "160/160 [==============================] - 4s 27ms/step - loss: 0.2134 - categorical_accuracy: 0.9452 - val_loss: 0.1793 - val_categorical_accuracy: 0.9519\n",
            "Epoch 97/100\n",
            "160/160 [==============================] - 4s 22ms/step - loss: 0.2087 - categorical_accuracy: 0.9465 - val_loss: 0.1770 - val_categorical_accuracy: 0.9519\n",
            "Epoch 98/100\n",
            "160/160 [==============================] - 4s 26ms/step - loss: 0.2077 - categorical_accuracy: 0.9454 - val_loss: 0.1754 - val_categorical_accuracy: 0.9519\n",
            "Epoch 99/100\n",
            "160/160 [==============================] - 4s 25ms/step - loss: 0.2041 - categorical_accuracy: 0.9481 - val_loss: 0.1726 - val_categorical_accuracy: 0.9525\n",
            "Epoch 100/100\n",
            "160/160 [==============================] - 4s 22ms/step - loss: 0.2014 - categorical_accuracy: 0.9484 - val_loss: 0.1701 - val_categorical_accuracy: 0.9525\n"
          ]
        }
      ]
    },
    {
      "cell_type": "code",
      "source": [
        "loss, accuracy = model.evaluate(test_ds)\n",
        "print(f\"Loss: {loss}\\nAccuracy: {accuracy}\")"
      ],
      "metadata": {
        "colab": {
          "base_uri": "https://localhost:8080/"
        },
        "id": "h3eBznrcBRkd",
        "outputId": "604bd574-7876-4d73-fa4c-6e08dea7cd37"
      },
      "execution_count": null,
      "outputs": [
        {
          "output_type": "stream",
          "name": "stdout",
          "text": [
            "128/128 [==============================] - 2s 18ms/step - loss: 0.5343 - categorical_accuracy: 0.8127\n",
            "Loss: 0.5343488454818726\n",
            "Accuracy: 0.8126562237739563\n"
          ]
        }
      ]
    },
    {
      "cell_type": "code",
      "source": [
        "export_model = tf.keras.Sequential([\n",
        "  vectorize_layer,\n",
        "  model,\n",
        "])\n",
        "\n",
        "export_model.compile(\n",
        "    loss=CategoricalCrossentropy(), optimizer=\"adam\", metrics=CategoricalAccuracy()\n",
        ")"
      ],
      "metadata": {
        "id": "2gSNAmPHGhzK"
      },
      "execution_count": null,
      "outputs": []
    },
    {
      "cell_type": "code",
      "source": [
        "loss,accuracy = export_model.evaluate(raw_test_ds)\n",
        "print(loss,accuracy)"
      ],
      "metadata": {
        "colab": {
          "base_uri": "https://localhost:8080/"
        },
        "id": "ouBFX9s-G5Hm",
        "outputId": "2917455f-58c8-4d13-cdf8-be260a6925b0"
      },
      "execution_count": null,
      "outputs": [
        {
          "output_type": "stream",
          "name": "stdout",
          "text": [
            "128/128 [==============================] - 2s 16ms/step - loss: 0.5343 - categorical_accuracy: 0.8127\n",
            "0.5343489646911621 0.8126562237739563\n"
          ]
        }
      ]
    },
    {
      "cell_type": "code",
      "source": [
        "inputs = \"\"\"Recently, I ran some of my JavaScript code through Crockford's JSLint, and it gave the following error:\n",
        "\n",
        "Problem at line 1 character 1: Missing \"use strict\" statement.\n",
        "Doing some searching, I realized that some people add \"use strict\"; into their JavaScript code. Once I added the statement, the error stopped appearing. Unfortunately, Google did not reveal much of the history behind this string statement. Certainly it must have something to do with how the JavaScript is interpreted by the browser, but I have no idea what the effect would be.\n",
        "\n",
        "So what is \"use strict\"; all about, what does it imply, and is it still relevant?\n",
        "\n",
        "Do any of the current browsers respond to the \"use strict\"; string or is it for future use?\"\"\"\n",
        "\n",
        "predictions = export_model.predict([inputs])\n",
        "print(predictions,raw_train_ds.class_names[np.argmax(predictions)])"
      ],
      "metadata": {
        "colab": {
          "base_uri": "https://localhost:8080/"
        },
        "id": "N1MsyqAQHDcT",
        "outputId": "6bf28f45-47e0-41d7-fae8-6dfefaba263d"
      },
      "execution_count": null,
      "outputs": [
        {
          "output_type": "stream",
          "name": "stdout",
          "text": [
            "1/1 [==============================] - 0s 42ms/step\n",
            "[[0.44488397 0.19873452 0.95622635 0.49443305]] javascript\n"
          ]
        }
      ]
    },
    {
      "cell_type": "code",
      "source": [
        "export_model.save_weights(\"./model\")"
      ],
      "metadata": {
        "id": "27cOUlveJvO4"
      },
      "execution_count": null,
      "outputs": []
    },
    {
      "cell_type": "code",
      "source": [
        "export_model.save(\"stackoverflow_multi.keras\")"
      ],
      "metadata": {
        "id": "I0EvvYrWJyaV"
      },
      "execution_count": null,
      "outputs": []
    },
    {
      "cell_type": "code",
      "source": [],
      "metadata": {
        "id": "6jE8kesgKQT-"
      },
      "execution_count": null,
      "outputs": []
    }
  ]
}