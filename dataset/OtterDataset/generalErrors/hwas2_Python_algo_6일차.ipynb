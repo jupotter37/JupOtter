{
  "cells": [
    {
      "cell_type": "markdown",
      "metadata": {
        "id": "view-in-github",
        "colab_type": "text"
      },
      "source": [
        "<a href=\"https://colab.research.google.com/github/hwas2/Python_study/blob/master/6%EC%9D%BC%EC%B0%A8.ipynb\" target=\"_parent\"><img src=\"https://colab.research.google.com/assets/colab-badge.svg\" alt=\"Open In Colab\"/></a>"
      ]
    },
    {
      "cell_type": "code",
      "execution_count": null,
      "id": "25869d54",
      "metadata": {
        "scrolled": false,
        "id": "25869d54",
        "outputId": "6945f6e5-ad78-41ca-95d4-db0df2216368"
      },
      "outputs": [
        {
          "name": "stdout",
          "output_type": "stream",
          "text": [
            "['C:\\\\Users\\\\장연화\\\\Python', 'C:\\\\Users\\\\장연화\\\\AppData\\\\Local\\\\Programs\\\\Python\\\\Python39\\\\python39.zip', 'C:\\\\Users\\\\장연화\\\\AppData\\\\Local\\\\Programs\\\\Python\\\\Python39\\\\DLLs', 'C:\\\\Users\\\\장연화\\\\AppData\\\\Local\\\\Programs\\\\Python\\\\Python39\\\\lib', 'C:\\\\Users\\\\장연화\\\\AppData\\\\Local\\\\Programs\\\\Python\\\\Python39', '', 'C:\\\\Users\\\\장연화\\\\AppData\\\\Local\\\\Programs\\\\Python\\\\Python39\\\\lib\\\\site-packages', 'C:\\\\Users\\\\장연화\\\\AppData\\\\Local\\\\Programs\\\\Python\\\\Python39\\\\lib\\\\site-packages\\\\win32', 'C:\\\\Users\\\\장연화\\\\AppData\\\\Local\\\\Programs\\\\Python\\\\Python39\\\\lib\\\\site-packages\\\\win32\\\\lib', 'C:\\\\Users\\\\장연화\\\\AppData\\\\Local\\\\Programs\\\\Python\\\\Python39\\\\lib\\\\site-packages\\\\Pythonwin']\n"
          ]
        }
      ],
      "source": [
        "import sys\n",
        "print(sys.path)"
      ]
    },
    {
      "cell_type": "markdown",
      "id": "b5a2f6b2",
      "metadata": {
        "id": "b5a2f6b2"
      },
      "source": [
        "# 모듈"
      ]
    },
    {
      "cell_type": "markdown",
      "id": "fa36b3f7",
      "metadata": {
        "id": "fa36b3f7"
      },
      "source": [
        "모듈 생성 방법\n",
        "1. 메모장 열기\n",
        "2. 코드 입력\n",
        "\n",
        "def add(a,b):<br>\n",
        "&nbsp;&nbsp;&nbsp;&nbsp;return a+b\n",
        "\n",
        "def sub(a,b):<br>\n",
        "&nbsp;&nbsp;&nbsp;&nbsp;return a-b<br>\n",
        "\n",
        "3. 주피터 노트북 위치에 저장(mod1.py)"
      ]
    },
    {
      "cell_type": "markdown",
      "id": "4695e79e",
      "metadata": {
        "id": "4695e79e"
      },
      "source": [
        "모듈 불러오기 예제"
      ]
    },
    {
      "cell_type": "code",
      "execution_count": null,
      "id": "ecb71c13",
      "metadata": {
        "id": "ecb71c13"
      },
      "outputs": [],
      "source": [
        "import mod1"
      ]
    },
    {
      "cell_type": "markdown",
      "id": "19c02521",
      "metadata": {
        "id": "19c02521"
      },
      "source": [
        "모듈 vs 라이브러리\n",
        "- 기능상의 차이는 없음\n",
        "- 모듈\n",
        " - 작은 부품으로 비유\n",
        " - mod1.py\n",
        "- 라이브러리\n",
        " - 자주 사용되는 로직을 잘 정리한 집합 느낌\n",
        " - 흐름이 잘 짜여진 집합 느낌\n",
        " - 모듈이라고 부를 수 있음"
      ]
    },
    {
      "cell_type": "markdown",
      "id": "b5bc9343",
      "metadata": {
        "id": "b5bc9343"
      },
      "source": [
        "\\_\\_name\\_\\_ 변수는 파이썬에서 자동으로 사용할 수 있도록 등록된 변수\n",
        "- 파일을 생성할 시 자동으로 생성되는 변수"
      ]
    },
    {
      "cell_type": "code",
      "execution_count": null,
      "id": "d57852d2",
      "metadata": {
        "id": "d57852d2",
        "outputId": "1b1203d6-ae2b-49cf-e370-f8a25ed96673"
      },
      "outputs": [
        {
          "name": "stdout",
          "output_type": "stream",
          "text": [
            "__main__\n"
          ]
        }
      ],
      "source": [
        "print(__name__)"
      ]
    },
    {
      "cell_type": "markdown",
      "id": "885e02cc",
      "metadata": {
        "id": "885e02cc"
      },
      "source": [
        "- \\_\\_main\\_\\_의 의미:현재 작업 공간이 main이라는 뜻\n",
        " - import 순간 더 이상 main 환경이 아님. jupyter가 main = 작업 환경을 jupyter로 불러옴\n",
        " \n",
        "\n",
        "\\_\\_name\\_\\_변수 사용 예제\n",
        "1. 메모장 열기\n",
        "2. 코드 입력\n",
        "\n",
        "print(\\_\\_name\\_\\_)<br><br>\n",
        "if__name__=='\\_\\_name\\_\\_':<br>\n",
        "&nbsp;&nbsp;&nbsp;&nbsp;print('실행합니다.')<br>\n",
        "\n",
        "else:<br>\n",
        "&nbsp;&nbsp;&nbsp;&nbsp;print('실행하지 않습니다.')<br>\n",
        "\n",
        "3. 주피터 노트북 위치에 저장 (test.py)\n",
        "4. cmd창에서 test.py 실행시켜보기\n",
        "- C:\\Users\\장연화\\Python>python test.py\n",
        "- 결과\n",
        "- \\_\\_main\\_\\_\n",
        "실행합니다.\n"
      ]
    },
    {
      "cell_type": "code",
      "execution_count": null,
      "id": "e489a6b0",
      "metadata": {
        "id": "e489a6b0",
        "outputId": "3745aab2-44c8-4f27-862e-e92410742a22"
      },
      "outputs": [
        {
          "name": "stdout",
          "output_type": "stream",
          "text": [
            "test\n",
            "실행하지 않습니다.\n"
          ]
        },
        {
          "data": {
            "text/plain": [
              "<module 'test' from 'C:\\\\Users\\\\장연화\\\\Python\\\\test.py'>"
            ]
          },
          "execution_count": 11,
          "metadata": {},
          "output_type": "execute_result"
        }
      ],
      "source": [
        "import test\n",
        "from importlib import reload\n",
        "reload(test)"
      ]
    },
    {
      "cell_type": "code",
      "execution_count": null,
      "id": "3923a228",
      "metadata": {
        "id": "3923a228",
        "outputId": "6d804c94-8ded-4cf4-8bae-89f7044b33b7"
      },
      "outputs": [
        {
          "name": "stdout",
          "output_type": "stream",
          "text": [
            "__main__\n"
          ]
        }
      ],
      "source": [
        "import test\n",
        "print(__name__)"
      ]
    },
    {
      "cell_type": "markdown",
      "id": "8e62420f",
      "metadata": {
        "id": "8e62420f"
      },
      "source": [
        "\\_\\_name\\_\\_ 변수를 사용하는 목적?\n",
        "- 메인 환경에서 실행시킬 수 있는 코드와 import 시켜서 실행시킬 수 있는 코드를 구분지어 주고 싶을 때 사용"
      ]
    },
    {
      "cell_type": "markdown",
      "id": "3c06e4df",
      "metadata": {
        "id": "3c06e4df"
      },
      "source": [
        "모듈 사용해보기 예제\n",
        "1. 메모장 열기\n",
        "2. 코드 입력\n",
        "\n",
        "PI=3.141592<br><br>\n",
        "class Math:<br>\n",
        "&nbsp;&nbsp;&nbsp;&nbsp;def solv(self, r):<br>\n",
        "&nbsp;&nbsp;&nbsp;&nbsp;&nbsp;&nbsp;&nbsp;&nbsp;return PI * (r **2)<br><br>\n",
        "\n",
        "def add(a,b):<br>\n",
        "&nbsp;&nbsp;&nbsp;&nbsp;return a+b\n",
        "\n",
        "3. 주피터 노트북 위치에 저장(mod2.py)"
      ]
    },
    {
      "cell_type": "code",
      "execution_count": null,
      "id": "a1c8e656",
      "metadata": {
        "id": "a1c8e656",
        "outputId": "c2e0d859-d216-49e5-cc73-ae2047998f6c"
      },
      "outputs": [
        {
          "name": "stdout",
          "output_type": "stream",
          "text": [
            "3.141592\n"
          ]
        }
      ],
      "source": [
        "import mod2\n",
        "print(mod2.PI)"
      ]
    },
    {
      "cell_type": "markdown",
      "id": "4383babe",
      "metadata": {
        "id": "4383babe"
      },
      "source": [
        "- 사용 방법:모듈이름.모듈변수\n",
        "- 모듈 mod2의 PI변수 출력"
      ]
    },
    {
      "cell_type": "code",
      "execution_count": null,
      "id": "a2554c84",
      "metadata": {
        "id": "a2554c84",
        "outputId": "b10b8fe1-bfd7-4bfb-9c67-6ca0307b0368"
      },
      "outputs": [
        {
          "name": "stdout",
          "output_type": "stream",
          "text": [
            "12.566368\n"
          ]
        }
      ],
      "source": [
        "a=mod2.Math()\n",
        "print(a.solv(2))"
      ]
    },
    {
      "cell_type": "markdown",
      "id": "345e81e8",
      "metadata": {
        "id": "345e81e8"
      },
      "source": [
        "- 모듈 내에 있는 클래스를 객체로 지정\n",
        "- 클래스 내의 메서드를 사용할 수 있음"
      ]
    },
    {
      "cell_type": "code",
      "execution_count": null,
      "id": "69bab074",
      "metadata": {
        "id": "69bab074",
        "outputId": "6b0e4a51-54dd-4744-e3d3-5b95892888fa"
      },
      "outputs": [
        {
          "name": "stdout",
          "output_type": "stream",
          "text": [
            "7.5415920000000005\n"
          ]
        }
      ],
      "source": [
        "print(mod2.add(mod2.PI,4.4))"
      ]
    },
    {
      "cell_type": "code",
      "execution_count": null,
      "id": "a877e09f",
      "metadata": {
        "id": "a877e09f",
        "outputId": "85d353c4-2d1a-4ca0-b1d4-6a389edab647"
      },
      "outputs": [
        {
          "name": "stdout",
          "output_type": "stream",
          "text": [
            "3\n"
          ]
        }
      ],
      "source": [
        "def add(a,b): #우리가 지정한 함수와 비교\n",
        "    return a+b\n",
        "\n",
        "print(add(1,2))"
      ]
    },
    {
      "cell_type": "markdown",
      "id": "4a9a514d",
      "metadata": {
        "id": "4a9a514d"
      },
      "source": [
        "모듈 변경 후에는 모듈을 다시 불러들어여함"
      ]
    },
    {
      "cell_type": "code",
      "execution_count": null,
      "id": "b1295cc8",
      "metadata": {
        "id": "b1295cc8"
      },
      "outputs": [],
      "source": [
        "from importlib import reload\n",
        "import mod2\n",
        "reload(mod2)"
      ]
    },
    {
      "cell_type": "markdown",
      "id": "aab34a27",
      "metadata": {
        "id": "aab34a27"
      },
      "source": [
        "모듈 경로 추가하기 예제\n",
        "- 선행) 주피터 노트북으로 사용중인 폴더의 상위 폴더에 mymod 폴더 생성"
      ]
    },
    {
      "cell_type": "code",
      "execution_count": null,
      "id": "efe9da78",
      "metadata": {
        "id": "efe9da78",
        "outputId": "a5d0b398-dda7-4859-f87d-a49f802a4d1c"
      },
      "outputs": [
        {
          "name": "stdout",
          "output_type": "stream",
          "text": [
            "['C:\\\\Users\\\\장연화\\\\Python', 'C:\\\\Users\\\\장연화\\\\AppData\\\\Local\\\\Programs\\\\Python\\\\Python39\\\\python39.zip', 'C:\\\\Users\\\\장연화\\\\AppData\\\\Local\\\\Programs\\\\Python\\\\Python39\\\\DLLs', 'C:\\\\Users\\\\장연화\\\\AppData\\\\Local\\\\Programs\\\\Python\\\\Python39\\\\lib', 'C:\\\\Users\\\\장연화\\\\AppData\\\\Local\\\\Programs\\\\Python\\\\Python39', '', 'C:\\\\Users\\\\장연화\\\\AppData\\\\Local\\\\Programs\\\\Python\\\\Python39\\\\lib\\\\site-packages', 'C:\\\\Users\\\\장연화\\\\AppData\\\\Local\\\\Programs\\\\Python\\\\Python39\\\\lib\\\\site-packages\\\\win32', 'C:\\\\Users\\\\장연화\\\\AppData\\\\Local\\\\Programs\\\\Python\\\\Python39\\\\lib\\\\site-packages\\\\win32\\\\lib', 'C:\\\\Users\\\\장연화\\\\AppData\\\\Local\\\\Programs\\\\Python\\\\Python39\\\\lib\\\\site-packages\\\\Pythonwin']\n"
          ]
        }
      ],
      "source": [
        "import sys\n",
        "print(sys.path)"
      ]
    },
    {
      "cell_type": "markdown",
      "id": "b4c0b649",
      "metadata": {
        "id": "b4c0b649"
      },
      "source": [
        "- 모듈을 사용할 수 있는 경로를 먼저 확인"
      ]
    },
    {
      "cell_type": "code",
      "execution_count": null,
      "id": "7b10aeaa",
      "metadata": {
        "scrolled": true,
        "id": "7b10aeaa"
      },
      "outputs": [],
      "source": [
        "sys.path.append(\"C:/Users/장연화/mymod\")"
      ]
    },
    {
      "cell_type": "markdown",
      "id": "bd595a5f",
      "metadata": {
        "id": "bd595a5f"
      },
      "source": [
        "- 모듈을 사용할 수 있는 경로를 추가"
      ]
    },
    {
      "cell_type": "code",
      "execution_count": null,
      "id": "1fb2b7d6",
      "metadata": {
        "id": "1fb2b7d6",
        "outputId": "a545b940-2066-482d-f382-a3977a0ecad7"
      },
      "outputs": [
        {
          "data": {
            "text/plain": [
              "['C:\\\\Users\\\\장연화\\\\Python',\n",
              " 'C:\\\\Users\\\\장연화\\\\AppData\\\\Local\\\\Programs\\\\Python\\\\Python39\\\\python39.zip',\n",
              " 'C:\\\\Users\\\\장연화\\\\AppData\\\\Local\\\\Programs\\\\Python\\\\Python39\\\\DLLs',\n",
              " 'C:\\\\Users\\\\장연화\\\\AppData\\\\Local\\\\Programs\\\\Python\\\\Python39\\\\lib',\n",
              " 'C:\\\\Users\\\\장연화\\\\AppData\\\\Local\\\\Programs\\\\Python\\\\Python39',\n",
              " '',\n",
              " 'C:\\\\Users\\\\장연화\\\\AppData\\\\Local\\\\Programs\\\\Python\\\\Python39\\\\lib\\\\site-packages',\n",
              " 'C:\\\\Users\\\\장연화\\\\AppData\\\\Local\\\\Programs\\\\Python\\\\Python39\\\\lib\\\\site-packages\\\\win32',\n",
              " 'C:\\\\Users\\\\장연화\\\\AppData\\\\Local\\\\Programs\\\\Python\\\\Python39\\\\lib\\\\site-packages\\\\win32\\\\lib',\n",
              " 'C:\\\\Users\\\\장연화\\\\AppData\\\\Local\\\\Programs\\\\Python\\\\Python39\\\\lib\\\\site-packages\\\\Pythonwin',\n",
              " 'C:/Users/장연화/mymod']"
            ]
          },
          "execution_count": 23,
          "metadata": {},
          "output_type": "execute_result"
        }
      ],
      "source": [
        "sys.path"
      ]
    },
    {
      "cell_type": "markdown",
      "id": "f7230266",
      "metadata": {
        "id": "f7230266"
      },
      "source": [
        "모듈 경로 제거하기 예제(두 가지)"
      ]
    },
    {
      "cell_type": "code",
      "execution_count": null,
      "id": "cf766577",
      "metadata": {
        "id": "cf766577"
      },
      "outputs": [],
      "source": [
        "sys.path.remove(\"C:/Users/장연화/mymod\")"
      ]
    },
    {
      "cell_type": "code",
      "execution_count": null,
      "id": "c4c28cd3",
      "metadata": {
        "id": "c4c28cd3"
      },
      "outputs": [],
      "source": [
        "sys.path.remove(sys.path[-1])"
      ]
    },
    {
      "cell_type": "markdown",
      "id": "c82f0323",
      "metadata": {
        "id": "c82f0323"
      },
      "source": [
        "- 지울 때도 경로를 직접 입력해서 지울 수 있음\n",
        "- 리스트를 인덱싱하여 제거하는 것도 가능"
      ]
    },
    {
      "cell_type": "markdown",
      "id": "ce560740",
      "metadata": {
        "id": "ce560740"
      },
      "source": [
        "모듈 경로 추가하기 예제(윈도우 gul 환경)<br>\n",
        "고급 시스템 설정 보기 - 고급 - 환경변수 - 시스템변수 - Path - 환경 변수 편집 - 새로 만들기"
      ]
    },
    {
      "cell_type": "markdown",
      "id": "d22bdc58",
      "metadata": {
        "id": "d22bdc58"
      },
      "source": [
        "# 예외처리"
      ]
    },
    {
      "cell_type": "markdown",
      "id": "10454949",
      "metadata": {
        "id": "10454949"
      },
      "source": [
        "**189page 7번째 줄 글자 깨짐 ->호출하게**"
      ]
    },
    {
      "cell_type": "markdown",
      "id": "8baa907d",
      "metadata": {
        "id": "8baa907d"
      },
      "source": [
        "재귀함수"
      ]
    },
    {
      "cell_type": "code",
      "execution_count": null,
      "id": "d615ae88",
      "metadata": {
        "id": "d615ae88"
      },
      "outputs": [],
      "source": [
        "def hello():\n",
        "    print(\"Hello world\")\n",
        "    hello()\n",
        "    \n",
        "hello() #무한루프 발생"
      ]
    },
    {
      "cell_type": "markdown",
      "id": "a9e79541",
      "metadata": {
        "id": "a9e79541"
      },
      "source": [
        "try~except 문 예제(에러 지정X)"
      ]
    },
    {
      "cell_type": "code",
      "execution_count": null,
      "id": "f685e4ad",
      "metadata": {
        "id": "f685e4ad",
        "outputId": "6735d2d1-fc61-4d51-8b44-3da26b43a011"
      },
      "outputs": [
        {
          "name": "stdout",
          "output_type": "stream",
          "text": [
            "error\n"
          ]
        }
      ],
      "source": [
        "a,b=5,0\n",
        "try:\n",
        "    c=a/b #0으로 나누려고 해서 오류 발생\n",
        "    print(c)\n",
        "except:\n",
        "    print(\"error\")"
      ]
    },
    {
      "cell_type": "markdown",
      "id": "7bada996",
      "metadata": {
        "id": "7bada996"
      },
      "source": [
        "try~except 문 예제(에러 지정)"
      ]
    },
    {
      "cell_type": "code",
      "execution_count": null,
      "id": "6f0c102a",
      "metadata": {
        "id": "6f0c102a",
        "outputId": "78d6798f-e418-4512-a724-6a1a4f1bd5f3"
      },
      "outputs": [
        {
          "name": "stdout",
          "output_type": "stream",
          "text": [
            "error\n"
          ]
        }
      ],
      "source": [
        "a,b=5,0\n",
        "try:\n",
        "    c=a/b #0으로 나누려고 해서 오류 발생\n",
        "    print(c)\n",
        "except ZeroDivisionError:\n",
        "    print(\"error\")"
      ]
    },
    {
      "cell_type": "markdown",
      "id": "10a0010f",
      "metadata": {
        "id": "10a0010f"
      },
      "source": [
        "try~except 문 예제(에러 지정, as 사용)"
      ]
    },
    {
      "cell_type": "code",
      "execution_count": null,
      "id": "42e8b2f7",
      "metadata": {
        "id": "42e8b2f7",
        "outputId": "46008211-54d1-4be0-ba60-0d26961b8781"
      },
      "outputs": [
        {
          "ename": "SyntaxError",
          "evalue": "invalid syntax (1346325407.py, line 3)",
          "output_type": "error",
          "traceback": [
            "\u001b[1;36m  Input \u001b[1;32mIn [27]\u001b[1;36m\u001b[0m\n\u001b[1;33m    exce #구문 에러\u001b[0m\n\u001b[1;37m    ^\u001b[0m\n\u001b[1;31mSyntaxError\u001b[0m\u001b[1;31m:\u001b[0m invalid syntax\n"
          ]
        }
      ],
      "source": [
        "try:\n",
        "    sapm()\n",
        "exce #구문 에러"
      ]
    },
    {
      "cell_type": "code",
      "execution_count": null,
      "id": "f447b640",
      "metadata": {
        "id": "f447b640",
        "outputId": "4db9e7ff-fc20-49e7-be66-0227cba50cf1"
      },
      "outputs": [
        {
          "ename": "NameError",
          "evalue": "name 'spam' is not defined",
          "output_type": "error",
          "traceback": [
            "\u001b[1;31m---------------------------------------------------------------------------\u001b[0m",
            "\u001b[1;31mNameError\u001b[0m                                 Traceback (most recent call last)",
            "Input \u001b[1;32mIn [28]\u001b[0m, in \u001b[0;36m<module>\u001b[1;34m\u001b[0m\n\u001b[1;32m----> 1\u001b[0m \u001b[43mspam\u001b[49m()\n",
            "\u001b[1;31mNameError\u001b[0m: name 'spam' is not defined"
          ]
        }
      ],
      "source": [
        "spam() #네임 에러"
      ]
    },
    {
      "cell_type": "code",
      "execution_count": null,
      "id": "203b7afd",
      "metadata": {
        "id": "203b7afd",
        "outputId": "281e930a-74ec-48a4-83bd-e3da1dbc6523"
      },
      "outputs": [
        {
          "name": "stdout",
          "output_type": "stream",
          "text": [
            "name 'sapm' is not defined\n"
          ]
        }
      ],
      "source": [
        "try:\n",
        "    sapm()\n",
        "except NameError as x:\n",
        "    print(x)"
      ]
    },
    {
      "cell_type": "markdown",
      "id": "c93913f3",
      "metadata": {
        "id": "c93913f3"
      },
      "source": [
        "여러 개의 예외 발생\n",
        "- except 문을 여러번 사용할 수 있음\n",
        "\n",
        "형식)<br><br>\n",
        "try:<br>\n",
        "&nbsp;&nbsp;&nbsp;&nbsp;some_job()<br>\n",
        "&nbsp;&nbsp;&nbsp;&nbsp;<구문><br>\n",
        "except NameError:<br>\n",
        "&nbsp;&nbsp;&nbsp;&nbsp;<구문><br>\n",
        "except (TypeError, IOError): #두 가지 에러를 동시에 잡아냄<br>\n",
        "&nbsp;&nbsp;&nbsp;&nbsp;<구문>"
      ]
    },
    {
      "cell_type": "markdown",
      "id": "21b67880",
      "metadata": {
        "id": "21b67880"
      },
      "source": [
        "try~finally문\n",
        "- try,except,finally 문 세 개가 다 들어갈 수 있음\n",
        "- try 문에서 정상 동작 중인 코드가 에러를 만날 경우\n",
        " - except 문을 수행\n",
        " - except 문 수행이 끝나면 finally문이 수행\n",
        "-try 문에서 코드가 끝까지 정상 동작할 경우\n",
        " - try 문 수행이 끝나면 finally 문이 수행"
      ]
    },
    {
      "cell_type": "code",
      "execution_count": null,
      "id": "8de2d91d",
      "metadata": {
        "id": "8de2d91d",
        "outputId": "45626c49-221c-46a3-f328-480d6815319e"
      },
      "outputs": [
        {
          "name": "stdout",
          "output_type": "stream",
          "text": [
            "0\n",
            "error\n",
            "어떤 경우에도 호출이 된다.\n"
          ]
        }
      ],
      "source": [
        "x=0\n",
        "try:\n",
        "    print(x)\n",
        "    1/x\n",
        "except:\n",
        "    print(\"error\")\n",
        "finally:\n",
        "    print(\"어떤 경우에도 호출이 된다.\")"
      ]
    },
    {
      "cell_type": "markdown",
      "id": "e2b3b312",
      "metadata": {
        "id": "e2b3b312"
      },
      "source": [
        "두 가지의 예외를 한 번에 묶어서 처리하기 예제"
      ]
    },
    {
      "cell_type": "code",
      "execution_count": null,
      "id": "d0112414",
      "metadata": {
        "id": "d0112414",
        "outputId": "4e58eb51-8cc5-477a-93e4-54e31a85c678"
      },
      "outputs": [
        {
          "ename": "NameError",
          "evalue": "name 'indexError' is not defined",
          "output_type": "error",
          "traceback": [
            "\u001b[1;31m---------------------------------------------------------------------------\u001b[0m",
            "\u001b[1;31mIndexError\u001b[0m                                Traceback (most recent call last)",
            "Input \u001b[1;32mIn [32]\u001b[0m, in \u001b[0;36m<module>\u001b[1;34m\u001b[0m\n\u001b[0;32m      2\u001b[0m a\u001b[38;5;241m=\u001b[39m[\u001b[38;5;241m1\u001b[39m,\u001b[38;5;241m2\u001b[39m]\n\u001b[1;32m----> 3\u001b[0m \u001b[38;5;28mprint\u001b[39m(\u001b[43ma\u001b[49m\u001b[43m[\u001b[49m\u001b[38;5;241;43m3\u001b[39;49m\u001b[43m]\u001b[49m)\n\u001b[0;32m      4\u001b[0m \u001b[38;5;241m4\u001b[39m\u001b[38;5;241m/\u001b[39m\u001b[38;5;241m0\u001b[39m\n",
            "\u001b[1;31mIndexError\u001b[0m: list index out of range",
            "\nDuring handling of the above exception, another exception occurred:\n",
            "\u001b[1;31mNameError\u001b[0m                                 Traceback (most recent call last)",
            "Input \u001b[1;32mIn [32]\u001b[0m, in \u001b[0;36m<module>\u001b[1;34m\u001b[0m\n\u001b[0;32m      3\u001b[0m     \u001b[38;5;28mprint\u001b[39m(a[\u001b[38;5;241m3\u001b[39m])\n\u001b[0;32m      4\u001b[0m     \u001b[38;5;241m4\u001b[39m\u001b[38;5;241m/\u001b[39m\u001b[38;5;241m0\u001b[39m\n\u001b[1;32m----> 5\u001b[0m \u001b[38;5;28;01mexcept\u001b[39;00m(\u001b[38;5;167;01mZeroDivisionError\u001b[39;00m,\u001b[43mindexError\u001b[49m)\u001b[38;5;28;01mas\u001b[39;00m e:\n\u001b[0;32m      6\u001b[0m     \u001b[38;5;28mprint\u001b[39m(e)\n",
            "\u001b[1;31mNameError\u001b[0m: name 'indexError' is not defined"
          ]
        }
      ],
      "source": [
        "try:\n",
        "    a=[1,2]\n",
        "    print(a[3])\n",
        "    4/0\n",
        "except(ZeroDivisionError,indexError)as e:\n",
        "    print(e)"
      ]
    },
    {
      "cell_type": "markdown",
      "id": "18de58ca",
      "metadata": {
        "id": "18de58ca"
      },
      "source": [
        "오류 회피하기 예제"
      ]
    },
    {
      "cell_type": "code",
      "execution_count": null,
      "id": "9f826b4a",
      "metadata": {
        "id": "9f826b4a"
      },
      "outputs": [],
      "source": [
        "try:\n",
        "    f=open(\"없는파일\",\"r\")\n",
        "except FileNotFoundError:\n",
        "    pass"
      ]
    },
    {
      "cell_type": "markdown",
      "id": "3d57bc91",
      "metadata": {
        "id": "3d57bc91"
      },
      "source": [
        "예외 만들기 예제"
      ]
    },
    {
      "cell_type": "code",
      "execution_count": null,
      "id": "d7235c63",
      "metadata": {
        "id": "d7235c63"
      },
      "outputs": [],
      "source": [
        "class MyError(Exception):\n",
        "    pass\n",
        "def say_nick(nick):\n",
        "    if nick==\"바보\":\n",
        "        raise MyError()\n",
        "    print(nick)"
      ]
    },
    {
      "cell_type": "code",
      "execution_count": null,
      "id": "14d5de6f",
      "metadata": {
        "id": "14d5de6f",
        "outputId": "365395cc-a079-4396-9d28-ced436fc249c"
      },
      "outputs": [
        {
          "ename": "MyError",
          "evalue": "",
          "output_type": "error",
          "traceback": [
            "\u001b[1;31m---------------------------------------------------------------------------\u001b[0m",
            "\u001b[1;31mMyError\u001b[0m                                   Traceback (most recent call last)",
            "Input \u001b[1;32mIn [37]\u001b[0m, in \u001b[0;36m<module>\u001b[1;34m\u001b[0m\n\u001b[1;32m----> 1\u001b[0m \u001b[43msay_nick\u001b[49m\u001b[43m(\u001b[49m\u001b[38;5;124;43m\"\u001b[39;49m\u001b[38;5;124;43m바보\u001b[39;49m\u001b[38;5;124;43m\"\u001b[39;49m\u001b[43m)\u001b[49m\n",
            "Input \u001b[1;32mIn [36]\u001b[0m, in \u001b[0;36msay_nick\u001b[1;34m(nick)\u001b[0m\n\u001b[0;32m      3\u001b[0m \u001b[38;5;28;01mdef\u001b[39;00m \u001b[38;5;21msay_nick\u001b[39m(nick):\n\u001b[0;32m      4\u001b[0m     \u001b[38;5;28;01mif\u001b[39;00m nick\u001b[38;5;241m==\u001b[39m\u001b[38;5;124m\"\u001b[39m\u001b[38;5;124m바보\u001b[39m\u001b[38;5;124m\"\u001b[39m:\n\u001b[1;32m----> 5\u001b[0m         \u001b[38;5;28;01mraise\u001b[39;00m MyError()\n\u001b[0;32m      6\u001b[0m     \u001b[38;5;28mprint\u001b[39m(nick)\n",
            "\u001b[1;31mMyError\u001b[0m: "
          ]
        }
      ],
      "source": [
        "say_nick(\"바보\")"
      ]
    },
    {
      "cell_type": "markdown",
      "id": "73205272",
      "metadata": {
        "id": "73205272"
      },
      "source": [
        "- raise 문을 사용하여 예외를 발생시킬 수 있음\n",
        "- raise 문은 예외 클래스의 인스턴스 객체처럼 받아들여짐"
      ]
    },
    {
      "cell_type": "markdown",
      "id": "2ead8274",
      "metadata": {
        "id": "2ead8274"
      },
      "source": [
        "만든 예외를 실제 코드에 적용하기 예제"
      ]
    },
    {
      "cell_type": "code",
      "execution_count": null,
      "id": "3c80e7bf",
      "metadata": {
        "id": "3c80e7bf",
        "outputId": "49f95fd8-9bd4-4c3e-9a3d-f8d9d9d85db0"
      },
      "outputs": [
        {
          "name": "stdout",
          "output_type": "stream",
          "text": [
            "천사\n",
            "허용되지 않는 별명입니다.\n"
          ]
        }
      ],
      "source": [
        "try:\n",
        "    say_nick(\"천사\")\n",
        "    say_nick(\"바보\")\n",
        "except MyError:\n",
        "    print(\"허용되지 않는 별명입니다.\")"
      ]
    },
    {
      "cell_type": "markdown",
      "id": "35c8cde3",
      "metadata": {
        "id": "35c8cde3"
      },
      "source": [
        "오류 메세지를 작성하여 출력하기 예제"
      ]
    },
    {
      "cell_type": "code",
      "execution_count": null,
      "id": "90c3cc87",
      "metadata": {
        "id": "90c3cc87"
      },
      "outputs": [],
      "source": [
        "class MyError(Exception):\n",
        "    def __str__(self):\n",
        "        return \"허용되지 않는 별명입니다.\"\n",
        "    \n",
        "def say_nick(nick):\n",
        "    if nick==\"바보\":\n",
        "        raise MyError()\n",
        "    print(nick)"
      ]
    },
    {
      "cell_type": "code",
      "execution_count": null,
      "id": "ded2bfc6",
      "metadata": {
        "id": "ded2bfc6",
        "outputId": "6f27092e-2b87-4e6f-cbb9-97a619046114"
      },
      "outputs": [
        {
          "ename": "MyError",
          "evalue": "허용되지 않는 별명입니다.",
          "output_type": "error",
          "traceback": [
            "\u001b[1;31m---------------------------------------------------------------------------\u001b[0m",
            "\u001b[1;31mMyError\u001b[0m                                   Traceback (most recent call last)",
            "Input \u001b[1;32mIn [40]\u001b[0m, in \u001b[0;36m<module>\u001b[1;34m\u001b[0m\n\u001b[1;32m----> 1\u001b[0m \u001b[43msay_nick\u001b[49m\u001b[43m(\u001b[49m\u001b[38;5;124;43m\"\u001b[39;49m\u001b[38;5;124;43m바보\u001b[39;49m\u001b[38;5;124;43m\"\u001b[39;49m\u001b[43m)\u001b[49m\n",
            "Input \u001b[1;32mIn [39]\u001b[0m, in \u001b[0;36msay_nick\u001b[1;34m(nick)\u001b[0m\n\u001b[0;32m      5\u001b[0m \u001b[38;5;28;01mdef\u001b[39;00m \u001b[38;5;21msay_nick\u001b[39m(nick):\n\u001b[0;32m      6\u001b[0m     \u001b[38;5;28;01mif\u001b[39;00m nick\u001b[38;5;241m==\u001b[39m\u001b[38;5;124m\"\u001b[39m\u001b[38;5;124m바보\u001b[39m\u001b[38;5;124m\"\u001b[39m:\n\u001b[1;32m----> 7\u001b[0m         \u001b[38;5;28;01mraise\u001b[39;00m MyError()\n\u001b[0;32m      8\u001b[0m     \u001b[38;5;28mprint\u001b[39m(nick)\n",
            "\u001b[1;31mMyError\u001b[0m: 허용되지 않는 별명입니다."
          ]
        }
      ],
      "source": [
        "say_nick(\"바보\")"
      ]
    },
    {
      "cell_type": "code",
      "execution_count": null,
      "id": "3c0aaafb",
      "metadata": {
        "id": "3c0aaafb",
        "outputId": "e007af7c-81ae-4283-87a6-6dc87ed9e6d5"
      },
      "outputs": [
        {
          "name": "stdout",
          "output_type": "stream",
          "text": [
            "Exception class :  <class 'ZeroDivisionError'>\n",
            "Value :  division by zero\n",
            "Traceback object :  <traceback object at 0x000001F0FA192F40>\n",
            "==========\n"
          ]
        },
        {
          "name": "stderr",
          "output_type": "stream",
          "text": [
            "Traceback (most recent call last):\n",
            "  File \"C:\\Users\\장연화\\AppData\\Local\\Temp\\ipykernel_18900\\2149511977.py\", line 6, in <module>\n",
            "    1/x\n",
            "ZeroDivisionError: division by zero\n"
          ]
        }
      ],
      "source": [
        "import sys\n",
        "import traceback\n",
        "\n",
        "x=0\n",
        "try:\n",
        "    1/x\n",
        "except:\n",
        "    etype, evalue, tb=sys.exc_info()\n",
        "    print(\"Exception class : \", etype)\n",
        "    print(\"Value : \", evalue)\n",
        "    print(\"Traceback object : \", tb)\n",
        "    print(\"=\"*10)\n",
        "    traceback.print_exc()"
      ]
    },
    {
      "cell_type": "markdown",
      "id": "ff81c430",
      "metadata": {
        "id": "ff81c430"
      },
      "source": [
        "# 내장함수, 외장함수\n",
        "\n",
        "내장함수\n",
        "\n",
        "abs()함수 예제"
      ]
    },
    {
      "cell_type": "code",
      "execution_count": null,
      "id": "c5f383dd",
      "metadata": {
        "id": "c5f383dd",
        "outputId": "99dd1783-27e2-4f00-bd13-a9fa0a4c05fb"
      },
      "outputs": [
        {
          "name": "stdout",
          "output_type": "stream",
          "text": [
            "3\n",
            "3\n",
            "1.2\n"
          ]
        }
      ],
      "source": [
        "print(abs(3))\n",
        "print(abs(-3))\n",
        "print(abs(-1.2))"
      ]
    },
    {
      "cell_type": "markdown",
      "id": "d0aab4c6",
      "metadata": {
        "id": "d0aab4c6"
      },
      "source": [
        "**206page 5번째 줄 글자 깨짐->반복**"
      ]
    },
    {
      "cell_type": "markdown",
      "id": "0611b721",
      "metadata": {
        "id": "0611b721"
      },
      "source": [
        "all() 함수 예제"
      ]
    },
    {
      "cell_type": "code",
      "execution_count": null,
      "id": "e2207503",
      "metadata": {
        "id": "e2207503",
        "outputId": "7713ae50-12ee-4375-d1a5-e11fee3465b4"
      },
      "outputs": [
        {
          "name": "stdout",
          "output_type": "stream",
          "text": [
            "True\n",
            "False\n"
          ]
        }
      ],
      "source": [
        "print(all([1,2,3]))\n",
        "print(all([1,2,3,0])) #0이 있으면"
      ]
    },
    {
      "cell_type": "markdown",
      "id": "46d85e7f",
      "metadata": {
        "id": "46d85e7f"
      },
      "source": [
        "any() 함수 예제"
      ]
    },
    {
      "cell_type": "code",
      "execution_count": null,
      "id": "d7da87f8",
      "metadata": {
        "id": "d7da87f8",
        "outputId": "fc5c78c8-a904-4500-da1a-f88a42c7d659"
      },
      "outputs": [
        {
          "name": "stdout",
          "output_type": "stream",
          "text": [
            "True\n",
            "False\n"
          ]
        }
      ],
      "source": [
        "print(any([1,2,3,0])) #하나라도 참이면 True\n",
        "print(any([0,\"\"])) #모두 거짓일 때 False"
      ]
    },
    {
      "cell_type": "markdown",
      "id": "05561761",
      "metadata": {
        "id": "05561761"
      },
      "source": [
        "- 대부분의 시스템과 프로그래밍 언어에서 0은 거짓을 의미, 0을 제외한 모든 수는 참을 의미"
      ]
    },
    {
      "cell_type": "markdown",
      "id": "fcbdb7ba",
      "metadata": {
        "id": "fcbdb7ba"
      },
      "source": [
        "chr() 함수 예제"
      ]
    },
    {
      "cell_type": "code",
      "execution_count": null,
      "id": "74c534ae",
      "metadata": {
        "id": "74c534ae",
        "outputId": "3bfad390-7483-4db8-971c-d32564ca5441"
      },
      "outputs": [
        {
          "name": "stdout",
          "output_type": "stream",
          "text": [
            "a\n",
            "0\n"
          ]
        }
      ],
      "source": [
        "print(chr(97))\n",
        "print(chr(48))"
      ]
    },
    {
      "cell_type": "markdown",
      "id": "5b3a54be",
      "metadata": {
        "id": "5b3a54be"
      },
      "source": [
        "dir() 함수 예제\n",
        "- 자료형이 자체적으로 가지고 있는 변수나 함수를 보여줌"
      ]
    },
    {
      "cell_type": "code",
      "execution_count": null,
      "id": "b0ca2630",
      "metadata": {
        "id": "b0ca2630",
        "outputId": "9ed16941-da74-434c-ecbf-3a3fb4f1270d"
      },
      "outputs": [
        {
          "data": {
            "text/plain": [
              "['__add__',\n",
              " '__class__',\n",
              " '__class_getitem__',\n",
              " '__contains__',\n",
              " '__delattr__',\n",
              " '__delitem__',\n",
              " '__dir__',\n",
              " '__doc__',\n",
              " '__eq__',\n",
              " '__format__',\n",
              " '__ge__',\n",
              " '__getattribute__',\n",
              " '__getitem__',\n",
              " '__gt__',\n",
              " '__hash__',\n",
              " '__iadd__',\n",
              " '__imul__',\n",
              " '__init__',\n",
              " '__init_subclass__',\n",
              " '__iter__',\n",
              " '__le__',\n",
              " '__len__',\n",
              " '__lt__',\n",
              " '__mul__',\n",
              " '__ne__',\n",
              " '__new__',\n",
              " '__reduce__',\n",
              " '__reduce_ex__',\n",
              " '__repr__',\n",
              " '__reversed__',\n",
              " '__rmul__',\n",
              " '__setattr__',\n",
              " '__setitem__',\n",
              " '__sizeof__',\n",
              " '__str__',\n",
              " '__subclasshook__',\n",
              " 'append',\n",
              " 'clear',\n",
              " 'copy',\n",
              " 'count',\n",
              " 'extend',\n",
              " 'index',\n",
              " 'insert',\n",
              " 'pop',\n",
              " 'remove',\n",
              " 'reverse',\n",
              " 'sort']"
            ]
          },
          "execution_count": 54,
          "metadata": {},
          "output_type": "execute_result"
        }
      ],
      "source": [
        "dir([1,2,3])"
      ]
    },
    {
      "cell_type": "code",
      "execution_count": null,
      "id": "7b4a9597",
      "metadata": {
        "id": "7b4a9597",
        "outputId": "a06f2ebd-f1d1-49d6-de9d-75677139222d"
      },
      "outputs": [
        {
          "data": {
            "text/plain": [
              "['__class__',\n",
              " '__class_getitem__',\n",
              " '__contains__',\n",
              " '__delattr__',\n",
              " '__delitem__',\n",
              " '__dir__',\n",
              " '__doc__',\n",
              " '__eq__',\n",
              " '__format__',\n",
              " '__ge__',\n",
              " '__getattribute__',\n",
              " '__getitem__',\n",
              " '__gt__',\n",
              " '__hash__',\n",
              " '__init__',\n",
              " '__init_subclass__',\n",
              " '__ior__',\n",
              " '__iter__',\n",
              " '__le__',\n",
              " '__len__',\n",
              " '__lt__',\n",
              " '__ne__',\n",
              " '__new__',\n",
              " '__or__',\n",
              " '__reduce__',\n",
              " '__reduce_ex__',\n",
              " '__repr__',\n",
              " '__reversed__',\n",
              " '__ror__',\n",
              " '__setattr__',\n",
              " '__setitem__',\n",
              " '__sizeof__',\n",
              " '__str__',\n",
              " '__subclasshook__',\n",
              " 'clear',\n",
              " 'copy',\n",
              " 'fromkeys',\n",
              " 'get',\n",
              " 'items',\n",
              " 'keys',\n",
              " 'pop',\n",
              " 'popitem',\n",
              " 'setdefault',\n",
              " 'update',\n",
              " 'values']"
            ]
          },
          "execution_count": 78,
          "metadata": {},
          "output_type": "execute_result"
        }
      ],
      "source": [
        "dir({'1':'a'})"
      ]
    },
    {
      "cell_type": "markdown",
      "id": "ecbe2063",
      "metadata": {
        "id": "ecbe2063"
      },
      "source": [
        "- 함수를 호출하는 순간 메모리에 올라가므로 PDF자료에서 객체라고 표현함\n",
        "- 따라서 아래 예시의 class도 가능"
      ]
    },
    {
      "cell_type": "code",
      "execution_count": null,
      "id": "585dc948",
      "metadata": {
        "id": "585dc948",
        "outputId": "3f7c008f-5b20-4928-c18b-7ba6a7f5a85f"
      },
      "outputs": [
        {
          "name": "stdout",
          "output_type": "stream",
          "text": [
            "['__class__', '__delattr__', '__dict__', '__dir__', '__doc__', '__eq__', '__format__', '__ge__', '__getattribute__', '__gt__', '__hash__', '__init__', '__init_subclass__', '__le__', '__lt__', '__module__', '__ne__', '__new__', '__reduce__', '__reduce_ex__', '__repr__', '__setattr__', '__sizeof__', '__str__', '__subclasshook__', '__weakref__', 'add']\n"
          ]
        }
      ],
      "source": [
        "class Calculator:                  #no class parameter\n",
        "    def __init__(self):            #self: placeholder for the instance itself\n",
        "        self.result = 0\n",
        "        \n",
        "    def add(self, num):\n",
        "        self.result = num + self.result\n",
        "        return self.result\n",
        "print(dir(Calculator))"
      ]
    },
    {
      "cell_type": "markdown",
      "id": "c758787f",
      "metadata": {
        "id": "c758787f"
      },
      "source": [
        "divmod() 함수 예제"
      ]
    },
    {
      "cell_type": "code",
      "execution_count": null,
      "id": "15f88575",
      "metadata": {
        "id": "15f88575",
        "outputId": "b991c1bb-8e89-485f-8cd9-4889aed998e6"
      },
      "outputs": [
        {
          "data": {
            "text/plain": [
              "(2, 1)"
            ]
          },
          "execution_count": 61,
          "metadata": {},
          "output_type": "execute_result"
        }
      ],
      "source": [
        "divmod(7,3)"
      ]
    },
    {
      "cell_type": "markdown",
      "id": "862eb84c",
      "metadata": {
        "id": "862eb84c"
      },
      "source": [
        "enumerate() 함수 예제 - 열거"
      ]
    },
    {
      "cell_type": "code",
      "execution_count": null,
      "id": "f2f1fb16",
      "metadata": {
        "id": "f2f1fb16",
        "outputId": "94bd3c60-5d30-4ff7-ce10-1627217e0c62"
      },
      "outputs": [
        {
          "name": "stdout",
          "output_type": "stream",
          "text": [
            "0 body\n",
            "1 foo\n",
            "2 bar\n"
          ]
        }
      ],
      "source": [
        "for i,name in enumerate(['body','foo','bar']):\n",
        "    print(i,name)"
      ]
    },
    {
      "cell_type": "markdown",
      "id": "f904a0d2",
      "metadata": {
        "id": "f904a0d2"
      },
      "source": [
        "eval() 함수 예제"
      ]
    },
    {
      "cell_type": "code",
      "execution_count": null,
      "id": "0a99ce15",
      "metadata": {
        "id": "0a99ce15",
        "outputId": "9a136f32-8022-4560-ea84-5c5598b97476"
      },
      "outputs": [
        {
          "name": "stdout",
          "output_type": "stream",
          "text": [
            "1+2\n",
            "hia\n"
          ]
        },
        {
          "data": {
            "text/plain": [
              "3"
            ]
          },
          "execution_count": 66,
          "metadata": {},
          "output_type": "execute_result"
        }
      ],
      "source": [
        "a='1+2'\n",
        "print(a)\n",
        "b='hi'+'a'\n",
        "print(b)\n",
        "eval('1+2') #입력받은 문자열로 파이썬 함수나 클래스를 동적으로 실행하고 싶을 때"
      ]
    },
    {
      "cell_type": "markdown",
      "id": "b9e637d2",
      "metadata": {
        "id": "b9e637d2"
      },
      "source": [
        "filter()함수 예제(filter 사용 전)"
      ]
    },
    {
      "cell_type": "code",
      "execution_count": null,
      "id": "e71ebf57",
      "metadata": {
        "id": "e71ebf57",
        "outputId": "779de9c9-245e-4715-db29-04f9322d3b0a"
      },
      "outputs": [
        {
          "name": "stdout",
          "output_type": "stream",
          "text": [
            "[1, 2, 6]\n"
          ]
        }
      ],
      "source": [
        "#필터링하는 함수\n",
        "def positive(l):\n",
        "    result=[]\n",
        "    for i in l:\n",
        "        if i>0:\n",
        "            result.append(i)\n",
        "    return result\n",
        "print(positive([1,-3,2,0,-5,6]))"
      ]
    },
    {
      "cell_type": "markdown",
      "id": "571dc648",
      "metadata": {
        "id": "571dc648"
      },
      "source": [
        "filter()함수 예제(filter 사용)"
      ]
    },
    {
      "cell_type": "code",
      "execution_count": null,
      "id": "9942b0f3",
      "metadata": {
        "id": "9942b0f3",
        "outputId": "ecbd80e3-496e-4f8b-8bb1-8326d1b9a7cf"
      },
      "outputs": [
        {
          "name": "stdout",
          "output_type": "stream",
          "text": [
            "True\n",
            "False\n"
          ]
        }
      ],
      "source": [
        "def positive(x):\n",
        "    return x>0\n",
        "print(positive(1))\n",
        "print(positive(-1))"
      ]
    },
    {
      "cell_type": "code",
      "execution_count": null,
      "id": "0dc7e49a",
      "metadata": {
        "id": "0dc7e49a",
        "outputId": "7b678915-ac7e-4aba-f313-38fbd6cd289a"
      },
      "outputs": [
        {
          "name": "stdout",
          "output_type": "stream",
          "text": [
            "[1, 2, 6]\n"
          ]
        }
      ],
      "source": [
        "print(list(filter(positive,[1,-3,2,0,-5,6])))"
      ]
    },
    {
      "cell_type": "markdown",
      "id": "50b5e087",
      "metadata": {
        "id": "50b5e087"
      },
      "source": [
        "filter()함수 예제(filter 사용) - 람다함수"
      ]
    },
    {
      "cell_type": "code",
      "execution_count": null,
      "id": "00d29751",
      "metadata": {
        "id": "00d29751",
        "outputId": "be0017c6-edac-40f4-d3f5-ebc16046be7d"
      },
      "outputs": [
        {
          "name": "stdout",
          "output_type": "stream",
          "text": [
            "[1, 2, 6]\n"
          ]
        }
      ],
      "source": [
        "print(list(filter(lambda x:x>0,[1,-3,2,0,-5,6])))"
      ]
    },
    {
      "cell_type": "markdown",
      "id": "bc2f0c3a",
      "metadata": {
        "id": "bc2f0c3a"
      },
      "source": [
        "int()\n",
        "- 문자열 형태의 숫자나 소수점이 있는 숫자 등을 정수 형태로 돌려줌"
      ]
    },
    {
      "cell_type": "code",
      "execution_count": null,
      "id": "c33c78e2",
      "metadata": {
        "id": "c33c78e2",
        "outputId": "5bf69ddd-f7cb-426c-b3d4-2647b1fedc90"
      },
      "outputs": [
        {
          "name": "stdout",
          "output_type": "stream",
          "text": [
            "3\n",
            "3\n",
            "3\n",
            "26\n"
          ]
        }
      ],
      "source": [
        "print(int('3'))\n",
        "print(int(3.4))\n",
        "print(int('11',2)) #2진수로 표현된 11의 10진수 값\n",
        "print(int('1A',16))"
      ]
    },
    {
      "cell_type": "markdown",
      "id": "f88419bc",
      "metadata": {
        "id": "f88419bc"
      },
      "source": [
        "isinstance(object,class) 함수 예제"
      ]
    },
    {
      "cell_type": "code",
      "execution_count": null,
      "id": "5c31d636",
      "metadata": {
        "id": "5c31d636"
      },
      "outputs": [],
      "source": [
        "class Person:\n",
        "    pass"
      ]
    },
    {
      "cell_type": "code",
      "execution_count": null,
      "id": "09817282",
      "metadata": {
        "id": "09817282",
        "outputId": "5c757bb7-0e49-4a3d-dbb6-5c9cdc40a872"
      },
      "outputs": [
        {
          "data": {
            "text/plain": [
              "True"
            ]
          },
          "execution_count": 75,
          "metadata": {},
          "output_type": "execute_result"
        }
      ],
      "source": [
        "a=Person()\n",
        "isinstance(a,Person)"
      ]
    },
    {
      "cell_type": "code",
      "execution_count": null,
      "id": "38e9006c",
      "metadata": {
        "id": "38e9006c",
        "outputId": "f28cea24-9815-4cff-fef3-4dfa2fb54b36"
      },
      "outputs": [
        {
          "data": {
            "text/plain": [
              "False"
            ]
          },
          "execution_count": 76,
          "metadata": {},
          "output_type": "execute_result"
        }
      ],
      "source": [
        "b=3\n",
        "isinstance(b,Person)"
      ]
    },
    {
      "cell_type": "markdown",
      "id": "16e8f76b",
      "metadata": {
        "id": "16e8f76b"
      },
      "source": [
        "map(f,iterable)\n",
        "- 함수f와 반복가능한iterable) 자료형을 입력으로 받음\n",
        "- map 입력받은 자료형의 각 요소를 함수 f가 수행한 결과를 묶어서 돌려주는 함수\n",
        "\n",
        "map() 함수 예제 (map 사용X)"
      ]
    },
    {
      "cell_type": "code",
      "execution_count": null,
      "id": "a6b5f438",
      "metadata": {
        "id": "a6b5f438",
        "outputId": "2217663f-a155-4537-f367-cd0960c10003"
      },
      "outputs": [
        {
          "name": "stdout",
          "output_type": "stream",
          "text": [
            "[2, 4, 6, 8]\n"
          ]
        }
      ],
      "source": [
        "def two_times(numberList):\n",
        "    result=[]\n",
        "    for number in numberList:\n",
        "        result.append(number*2)\n",
        "    return result\n",
        "result=two_times([1,2,3,4])\n",
        "print(result)"
      ]
    },
    {
      "cell_type": "markdown",
      "id": "55212f5f",
      "metadata": {
        "id": "55212f5f"
      },
      "source": [
        "map() 함수 예제 (map 사용)"
      ]
    },
    {
      "cell_type": "code",
      "execution_count": null,
      "id": "2e6c05ac",
      "metadata": {
        "id": "2e6c05ac",
        "outputId": "667f9216-320b-45d6-b5bc-7dcf0e18c864"
      },
      "outputs": [
        {
          "name": "stdout",
          "output_type": "stream",
          "text": [
            "[2, 4, 6, 8]\n"
          ]
        }
      ],
      "source": [
        "def two_times(x):\n",
        "    return x*2\n",
        "print(list(map(two_times,[1,2,3,4])))"
      ]
    },
    {
      "cell_type": "markdown",
      "id": "a499add9",
      "metadata": {
        "id": "a499add9"
      },
      "source": [
        "map() 함수 예제 (map 사용) - 람다함수"
      ]
    },
    {
      "cell_type": "code",
      "execution_count": null,
      "id": "e437f500",
      "metadata": {
        "id": "e437f500",
        "outputId": "4e72298b-ff25-4caa-c86d-b6db4a414be4"
      },
      "outputs": [
        {
          "name": "stdout",
          "output_type": "stream",
          "text": [
            "[2, 4, 6, 8]\n"
          ]
        }
      ],
      "source": [
        "print(list(map(lambda a:a*2,[1,2,3,4])))"
      ]
    },
    {
      "cell_type": "markdown",
      "id": "5b4da6b5",
      "metadata": {
        "id": "5b4da6b5"
      },
      "source": [
        "- map()함수는 연산을 위한 함수\n",
        "- 결과값을 따로 반환해주진 않음"
      ]
    },
    {
      "cell_type": "markdown",
      "id": "40ff73b5",
      "metadata": {
        "id": "40ff73b5"
      },
      "source": [
        "max() 함수 예제\n",
        "- 크기를 정하는 함수라 같은 자료형으로 입력"
      ]
    },
    {
      "cell_type": "code",
      "execution_count": null,
      "id": "b2562aed",
      "metadata": {
        "id": "b2562aed",
        "outputId": "5ae17421-eb8f-4b4c-9bc3-dbbfe5977693"
      },
      "outputs": [
        {
          "name": "stdout",
          "output_type": "stream",
          "text": [
            "3\n",
            "y\n",
            "3\n"
          ]
        }
      ],
      "source": [
        "print(max([1,2,3]))\n",
        "print(max(\"python\"))\n",
        "print(max(1,2,3))"
      ]
    },
    {
      "cell_type": "markdown",
      "id": "91e8df88",
      "metadata": {
        "id": "91e8df88"
      },
      "source": [
        "min() 함수 예제"
      ]
    },
    {
      "cell_type": "code",
      "execution_count": null,
      "id": "1fc47af0",
      "metadata": {
        "id": "1fc47af0",
        "outputId": "e2f19793-a7e6-4132-de8a-a769c3db81b0"
      },
      "outputs": [
        {
          "name": "stdout",
          "output_type": "stream",
          "text": [
            "1\n",
            "h\n",
            "1\n"
          ]
        }
      ],
      "source": [
        "print(min([1,2,3]))\n",
        "print(min(\"python\"))\n",
        "print(min(1,2,3))"
      ]
    },
    {
      "cell_type": "markdown",
      "id": "08059764",
      "metadata": {
        "id": "08059764"
      },
      "source": [
        "ord() 함수 예제"
      ]
    },
    {
      "cell_type": "code",
      "execution_count": null,
      "id": "d4c31758",
      "metadata": {
        "id": "d4c31758",
        "outputId": "4e9e1463-69fb-421f-eecc-464e640ce54c"
      },
      "outputs": [
        {
          "name": "stdout",
          "output_type": "stream",
          "text": [
            "97\n",
            "48\n"
          ]
        }
      ],
      "source": [
        "print(ord('a')) #문자를 아스키코드로\n",
        "print(ord('0'))"
      ]
    },
    {
      "cell_type": "markdown",
      "id": "a29843a6",
      "metadata": {
        "id": "a29843a6"
      },
      "source": [
        "pow() 함수 예제"
      ]
    },
    {
      "cell_type": "code",
      "execution_count": null,
      "id": "0e172d88",
      "metadata": {
        "id": "0e172d88",
        "outputId": "8dd728b3-1e94-4e9d-b3de-75bb317d2162"
      },
      "outputs": [
        {
          "name": "stdout",
          "output_type": "stream",
          "text": [
            "16\n",
            "27\n"
          ]
        }
      ],
      "source": [
        "print(pow(2,4)) #2의 4승\n",
        "print(pow(3,3))"
      ]
    },
    {
      "cell_type": "markdown",
      "id": "bf7d4bcd",
      "metadata": {
        "id": "bf7d4bcd"
      },
      "source": [
        "range() 함수 예제\n",
        "- 초기값이 0으로 세팅된 상태에서 -10으로 거꾸로 범위 지정하는 것은 불가능\n",
        "- 마지막 값을 -10으로 범위 지정하고 싶은 경우 step 자리에 -1을 명시해줘야 함"
      ]
    },
    {
      "cell_type": "code",
      "execution_count": null,
      "id": "f77406f1",
      "metadata": {
        "id": "f77406f1",
        "outputId": "2a9b6bdd-b4e3-4f7e-9832-a9e00f9bb639"
      },
      "outputs": [
        {
          "name": "stdout",
          "output_type": "stream",
          "text": [
            "[0, 1, 2, 3, 4]\n",
            "[5, 6, 7, 8, 9]\n",
            "[1, 3, 5, 7, 9]\n",
            "[0, -1, -2, -3, -4, -5, -6, -7, -8, -9]\n",
            "[]\n"
          ]
        }
      ],
      "source": [
        "print(list(range(5)))\n",
        "print(list(range(5,10)))\n",
        "print(list(range(1,10,2))) #1에서 10이전까지 2씩 건너뛰기\n",
        "print(list(range(0,-10,-1)))\n",
        "print(list(range(0,-10)))"
      ]
    },
    {
      "cell_type": "markdown",
      "id": "50cd3462",
      "metadata": {
        "id": "50cd3462"
      },
      "source": [
        "round() 반올림 함수"
      ]
    },
    {
      "cell_type": "code",
      "execution_count": null,
      "id": "c3f3c19a",
      "metadata": {
        "id": "c3f3c19a",
        "outputId": "68487544-96cb-44ac-befe-cf2ed836ebf0"
      },
      "outputs": [
        {
          "name": "stdout",
          "output_type": "stream",
          "text": [
            "5\n",
            "4\n",
            "5.68\n",
            "6\n"
          ]
        }
      ],
      "source": [
        "print(round(4.6))\n",
        "print(round(4.2))\n",
        "print(round(5.678,2)) #두 번째 매개변수는 반올림하여 표시하고 싶은 소수점의 자릿수\n",
        "print(round(5.678)) #정수까지 반올림됨"
      ]
    },
    {
      "cell_type": "code",
      "execution_count": null,
      "id": "be76015e",
      "metadata": {
        "id": "be76015e"
      },
      "outputs": [],
      "source": [
        ""
      ]
    },
    {
      "cell_type": "code",
      "execution_count": null,
      "id": "9cffdd53",
      "metadata": {
        "id": "9cffdd53"
      },
      "outputs": [],
      "source": [
        ""
      ]
    },
    {
      "cell_type": "code",
      "execution_count": null,
      "id": "0a16b4eb",
      "metadata": {
        "id": "0a16b4eb"
      },
      "outputs": [],
      "source": [
        ""
      ]
    },
    {
      "cell_type": "code",
      "execution_count": null,
      "id": "649f8aac",
      "metadata": {
        "id": "649f8aac"
      },
      "outputs": [],
      "source": [
        ""
      ]
    },
    {
      "cell_type": "code",
      "execution_count": null,
      "id": "811bc5ab",
      "metadata": {
        "id": "811bc5ab"
      },
      "outputs": [],
      "source": [
        ""
      ]
    }
  ],
  "metadata": {
    "kernelspec": {
      "display_name": "Python 3 (ipykernel)",
      "language": "python",
      "name": "python3"
    },
    "language_info": {
      "codemirror_mode": {
        "name": "ipython",
        "version": 3
      },
      "file_extension": ".py",
      "mimetype": "text/x-python",
      "name": "python",
      "nbconvert_exporter": "python",
      "pygments_lexer": "ipython3",
      "version": "3.9.7"
    },
    "colab": {
      "name": "6일차.ipynb",
      "provenance": [],
      "include_colab_link": true
    }
  },
  "nbformat": 4,
  "nbformat_minor": 5
}