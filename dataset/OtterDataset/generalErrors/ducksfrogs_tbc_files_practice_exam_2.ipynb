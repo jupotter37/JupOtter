{
 "cells": [
  {
   "cell_type": "markdown",
   "id": "037d946d-78ff-482b-a881-92156f6e92fc",
   "metadata": {},
   "source": [
    "## 4"
   ]
  },
  {
   "cell_type": "code",
   "execution_count": 1,
   "id": "c54bcde0-c994-4632-bbe9-a2a927ad58aa",
   "metadata": {},
   "outputs": [
    {
     "name": "stdout",
     "output_type": "stream",
     "text": [
      "3.0, 1\n"
     ]
    }
   ],
   "source": [
    "a = 2\n",
    "b = a ** 3\n",
    "c = b / 2 + 3\n",
    "d = 10\n",
    "e = d // b\n",
    "f = d % c\n",
    "print ('{1}, {0}'.format(e, f))"
   ]
  },
  {
   "cell_type": "markdown",
   "id": "b2d58bf4-870e-464b-834a-475c3d261e4a",
   "metadata": {},
   "source": [
    "## 6"
   ]
  },
  {
   "cell_type": "code",
   "execution_count": 2,
   "id": "ef3ed480-f852-42fe-870d-8d583d5e6aca",
   "metadata": {},
   "outputs": [
    {
     "name": "stdout",
     "output_type": "stream",
     "text": [
      "sNow\n"
     ]
    }
   ],
   "source": [
    "Zen = 'NowIsBetterThanNever'\n",
    "print('{}{}{}'.format(Zen[4], Zen[-5], Zen[1:3] ))"
   ]
  },
  {
   "cell_type": "markdown",
   "id": "38076740-033c-4785-b805-51950d51f642",
   "metadata": {},
   "source": [
    "## 7"
   ]
  },
  {
   "cell_type": "code",
   "execution_count": 3,
   "id": "4a09dc49-af7b-4fdf-8490-64801686bcd8",
   "metadata": {},
   "outputs": [],
   "source": [
    "Zen = 'BeautifulIsBetterThanUgly'"
   ]
  },
  {
   "cell_type": "code",
   "execution_count": 4,
   "id": "84c67433-0e97-4ec7-b6c8-3c9dcdb8a5d2",
   "metadata": {},
   "outputs": [
    {
     "data": {
      "text/plain": [
       "''"
      ]
     },
     "execution_count": 4,
     "metadata": {},
     "output_type": "execute_result"
    }
   ],
   "source": [
    "Zen[1000:10000]"
   ]
  },
  {
   "cell_type": "code",
   "execution_count": 5,
   "id": "85a66852-b355-4243-835d-63b21a95da8c",
   "metadata": {},
   "outputs": [
    {
     "ename": "IndexError",
     "evalue": "string index out of range",
     "output_type": "error",
     "traceback": [
      "\u001b[0;31m---------------------------------------------------------------------------\u001b[0m",
      "\u001b[0;31mIndexError\u001b[0m                                Traceback (most recent call last)",
      "Cell \u001b[0;32mIn[5], line 1\u001b[0m\n\u001b[0;32m----> 1\u001b[0m Zen[\u001b[38;5;241m50\u001b[39m]\n",
      "\u001b[0;31mIndexError\u001b[0m: string index out of range"
     ]
    }
   ],
   "source": [
    "Zen[50]"
   ]
  },
  {
   "cell_type": "markdown",
   "id": "41b205c4-fd58-4cf1-b0d8-e9470f20bff8",
   "metadata": {},
   "source": [
    "## 8"
   ]
  },
  {
   "cell_type": "code",
   "execution_count": 7,
   "id": "56414c5a-b8bd-4ebd-ab3d-eca0a56a3f8c",
   "metadata": {},
   "outputs": [
    {
     "name": "stdout",
     "output_type": "stream",
     "text": [
      "0,1,1,2,3,5,8,"
     ]
    }
   ],
   "source": [
    "a, b = 0, 1\n",
    "while a < 10:\n",
    "    print(a, end=',')\n",
    "    a, b = b, a+b"
   ]
  },
  {
   "cell_type": "markdown",
   "id": "1d6a5a11-8041-47f7-b535-1b8d290268d6",
   "metadata": {},
   "source": [
    "## 9"
   ]
  },
  {
   "cell_type": "code",
   "execution_count": 8,
   "id": "22e029ea-dc57-4aa1-83ac-5e2528eec102",
   "metadata": {},
   "outputs": [
    {
     "name": "stdout",
     "output_type": "stream",
     "text": [
      "['September', 'January', 'January', 'March', 'May', 'July', 'September']"
     ]
    }
   ],
   "source": [
    "months = ['January', 'March', 'May', 'July']\n",
    "months.append('September')\n",
    "for month in months[:]:\n",
    "    if len(month) > 5:\n",
    "        months.insert(0,month)\n",
    "\n",
    "print(months, end = '')"
   ]
  },
  {
   "cell_type": "markdown",
   "id": "5b71a40c-744a-44fe-989f-b3432ba0825a",
   "metadata": {},
   "source": [
    "## 10"
   ]
  },
  {
   "cell_type": "code",
   "execution_count": 11,
   "id": "17091beb-4854-4543-ab8f-72eb8cb16f3f",
   "metadata": {},
   "outputs": [
    {
     "name": "stdout",
     "output_type": "stream",
     "text": [
      "2 is a prime number\n",
      "3 is a prime number\n",
      "4 equals 2 * 2\n",
      "5 is a prime number\n",
      "6 equals 2 * 3\n",
      "7 is a prime number\n",
      "8 equals 2 * 4\n",
      "9 equals 3 * 3\n"
     ]
    }
   ],
   "source": [
    "for n in range(2, 10):\n",
    "    for x in range(2 ,n):\n",
    "        if n % x == 0:\n",
    "            print(n, 'equals', x, '*', n//x)\n",
    "            break                    \n",
    "    else:\n",
    "        print(n,'is a prime number')"
   ]
  },
  {
   "cell_type": "markdown",
   "id": "ecf28773-d91b-4c3d-960d-1c6fa0873913",
   "metadata": {},
   "source": [
    "## 11"
   ]
  },
  {
   "cell_type": "code",
   "execution_count": 12,
   "id": "b686fcea-7750-4e90-80cb-b3de224760d5",
   "metadata": {},
   "outputs": [
    {
     "name": "stdout",
     "output_type": "stream",
     "text": [
      "-3, -6, -9, -12, -15, "
     ]
    }
   ],
   "source": [
    "for i in range(-3, -18, -3):\n",
    "    print(i, end=\", \")"
   ]
  },
  {
   "cell_type": "markdown",
   "id": "026bace7-169b-4b49-8543-b9e1bf417edc",
   "metadata": {},
   "source": [
    "## 12"
   ]
  },
  {
   "cell_type": "code",
   "execution_count": 13,
   "id": "6be1b753-318e-4320-829e-826f9803fa7a",
   "metadata": {},
   "outputs": [
    {
     "name": "stdout",
     "output_type": "stream",
     "text": [
      "0 Now\n",
      "1 is\n",
      "2 better\n",
      "3 than\n",
      "4 never\n"
     ]
    }
   ],
   "source": [
    "Zen = ['Now','is','better','than','never']\n",
    "for i ,v in enumerate(Zen):\n",
    "    print(i, v)"
   ]
  },
  {
   "cell_type": "code",
   "execution_count": 14,
   "id": "5793ff0a-7b03-45f0-8b38-dcca39bdec11",
   "metadata": {},
   "outputs": [
    {
     "name": "stdout",
     "output_type": "stream",
     "text": [
      "0 Now\n",
      "1 is\n",
      "2 better\n",
      "3 than\n",
      "4 never\n"
     ]
    }
   ],
   "source": [
    "for i in range(len(Zen)):\n",
    "    print(i, Zen[i])"
   ]
  },
  {
   "cell_type": "markdown",
   "id": "696f7332-84de-4726-a518-f2981f230cb5",
   "metadata": {},
   "source": [
    "## 13"
   ]
  },
  {
   "cell_type": "code",
   "execution_count": 15,
   "id": "eedf24a3-6141-4f7c-8f6a-bb641dfb7bdf",
   "metadata": {},
   "outputs": [
    {
     "name": "stdout",
     "output_type": "stream",
     "text": [
      "5\n"
     ]
    }
   ],
   "source": [
    "i = 1\n",
    "i = 2\n",
    "\n",
    "def f(arg):\n",
    "    i = 3\n",
    "    print(arg)\n",
    "\n",
    "i = 4\n",
    "i = 5\n",
    "\n",
    "f(i)"
   ]
  },
  {
   "cell_type": "markdown",
   "id": "e6dee998-6a0c-4376-b22c-15ec13c9cb2c",
   "metadata": {},
   "source": [
    "## 14"
   ]
  },
  {
   "cell_type": "code",
   "execution_count": 16,
   "id": "37487823-c7e1-4a60-881d-67ff5460e94e",
   "metadata": {},
   "outputs": [
    {
     "name": "stdout",
     "output_type": "stream",
     "text": [
      "([4], [8])\n",
      "([4, 9], [8, 27])\n",
      "ans  ([4, 9, 16], [8, 27, 64])\n",
      "([4, 9, 16, 25], [8, 27, 64, 125])\n"
     ]
    }
   ],
   "source": [
    "def culc(a, b, squares=[], cubes=[]):\n",
    "    squares.append(a ** 2)\n",
    "    cubes.append(b ** 3)\n",
    "    return squares, cubes\n",
    "\n",
    "print(culc(2,2))\n",
    "print(culc(3,3))\n",
    "print('ans ', culc(4,4))\n",
    "print(culc(5,5))"
   ]
  },
  {
   "cell_type": "markdown",
   "id": "c7ec7755-5664-470c-82a8-e36808d060db",
   "metadata": {},
   "source": [
    "## 15"
   ]
  },
  {
   "cell_type": "code",
   "execution_count": 17,
   "id": "ca8cf213-a81d-458d-b6f4-0fa4b10c82fe",
   "metadata": {},
   "outputs": [],
   "source": [
    "def location(city, state='NewYork', country='USA'):\n",
    "    print(\"I live in\", country, \".\")\n",
    "    print(\"My company is located in\",city,\",\",state,\".\")\n"
   ]
  },
  {
   "cell_type": "code",
   "execution_count": 18,
   "id": "cf177524-720b-4111-8cd7-b1572198b6bc",
   "metadata": {},
   "outputs": [
    {
     "ename": "TypeError",
     "evalue": "location() got an unexpected keyword argument 'zipcode'",
     "output_type": "error",
     "traceback": [
      "\u001b[0;31m---------------------------------------------------------------------------\u001b[0m",
      "\u001b[0;31mTypeError\u001b[0m                                 Traceback (most recent call last)",
      "Cell \u001b[0;32mIn[18], line 1\u001b[0m\n\u001b[0;32m----> 1\u001b[0m location(city\u001b[38;5;241m=\u001b[39m\u001b[38;5;124m'\u001b[39m\u001b[38;5;124mchiyoda\u001b[39m\u001b[38;5;124m'\u001b[39m, state\u001b[38;5;241m=\u001b[39m\u001b[38;5;124m'\u001b[39m\u001b[38;5;124mTokyo\u001b[39m\u001b[38;5;124m'\u001b[39m, zipcode\u001b[38;5;241m=\u001b[39m\u001b[38;5;124m'\u001b[39m\u001b[38;5;124m1000004\u001b[39m\u001b[38;5;124m'\u001b[39m)\n",
      "\u001b[0;31mTypeError\u001b[0m: location() got an unexpected keyword argument 'zipcode'"
     ]
    }
   ],
   "source": [
    "location(city='chiyoda', state='Tokyo', zipcode='1000004')"
   ]
  },
  {
   "cell_type": "code",
   "execution_count": 19,
   "id": "cc2d55ac-1eab-45d9-89c0-41da54b03211",
   "metadata": {},
   "outputs": [
    {
     "ename": "SyntaxError",
     "evalue": "positional argument follows keyword argument (4022836367.py, line 1)",
     "output_type": "error",
     "traceback": [
      "\u001b[0;36m  Cell \u001b[0;32mIn[19], line 1\u001b[0;36m\u001b[0m\n\u001b[0;31m    location(state='California', country='USA', 'San Francisco')\u001b[0m\n\u001b[0m                                                               ^\u001b[0m\n\u001b[0;31mSyntaxError\u001b[0m\u001b[0;31m:\u001b[0m positional argument follows keyword argument\n"
     ]
    }
   ],
   "source": [
    "location(state='California', country='USA', 'San Francisco') "
   ]
  },
  {
   "cell_type": "code",
   "execution_count": 20,
   "id": "7d014251-0455-4c31-a99e-0eeec27db294",
   "metadata": {},
   "outputs": [
    {
     "name": "stdout",
     "output_type": "stream",
     "text": [
      "I live in USA .\n",
      "My company is located in Cikini , Jakarta .\n"
     ]
    }
   ],
   "source": [
    "location(state='Jakarta', city='Cikini')"
   ]
  },
  {
   "cell_type": "code",
   "execution_count": 21,
   "id": "0fede346-89a9-43f9-a69a-b7f8176168ce",
   "metadata": {},
   "outputs": [
    {
     "ename": "TypeError",
     "evalue": "location() got multiple values for argument 'city'",
     "output_type": "error",
     "traceback": [
      "\u001b[0;31m---------------------------------------------------------------------------\u001b[0m",
      "\u001b[0;31mTypeError\u001b[0m                                 Traceback (most recent call last)",
      "Cell \u001b[0;32mIn[21], line 1\u001b[0m\n\u001b[0;32m----> 1\u001b[0m location(\u001b[38;5;124m'\u001b[39m\u001b[38;5;124mGeelong\u001b[39m\u001b[38;5;124m'\u001b[39m, city\u001b[38;5;241m=\u001b[39m\u001b[38;5;124m'\u001b[39m\u001b[38;5;124mMelbourne\u001b[39m\u001b[38;5;124m'\u001b[39m)\n",
      "\u001b[0;31mTypeError\u001b[0m: location() got multiple values for argument 'city'"
     ]
    }
   ],
   "source": [
    "location('Geelong', city='Melbourne')"
   ]
  },
  {
   "cell_type": "markdown",
   "id": "8797af20-7e9d-4dd8-bb8d-344f72358230",
   "metadata": {},
   "source": [
    "## 16"
   ]
  },
  {
   "cell_type": "code",
   "execution_count": null,
   "id": "9e93aaca-497b-4a1f-a3fe-6ddace044f22",
   "metadata": {},
   "outputs": [],
   "source": [
    "def shop(name,【A】, 【B】):\n",
    "    print(\"flowershop:\", name)\n",
    "    keys = sorted(argsX.keys())\n",
    "    for kw in keys:\n",
    "        print(kw, \":\", argsX[kw])\n",
    "    for Y in argsY:\n",
    "        print(Y)\n",
    "\n",
    "shop(\"Iris\",\"Open: 9:30 am\",\"Close: 10:30 pm\",\"Monday and holidays are closed.\",bouquet=\"Sunflower\",plants=\"Pachira\",dried=\"Rose\")"
   ]
  },
  {
   "cell_type": "code",
   "execution_count": 22,
   "id": "614939a1-22ac-4981-80e2-a064cf310d40",
   "metadata": {},
   "outputs": [
    {
     "name": "stdout",
     "output_type": "stream",
     "text": [
      "flowershop: Iris\n",
      "bouquet : Sunflower\n",
      "dried : Rose\n",
      "plants : Pachira\n",
      "Open: 9:30 am\n",
      "Close: 10:30 pm\n",
      "Monday and holidays are closed.\n"
     ]
    }
   ],
   "source": [
    "def shop(name,*argsY, **argsX):\n",
    "    print(\"flowershop:\", name)\n",
    "    keys = sorted(argsX.keys())\n",
    "    for kw in keys:\n",
    "        print(kw, \":\", argsX[kw])\n",
    "    for Y in argsY:\n",
    "        print(Y)\n",
    "\n",
    "shop(\"Iris\",\"Open: 9:30 am\",\"Close: 10:30 pm\",\"Monday and holidays are closed.\",bouquet=\"Sunflower\",plants=\"Pachira\",dried=\"Rose\")"
   ]
  },
  {
   "cell_type": "markdown",
   "id": "29417d99-f8dd-45b5-8855-b23c06ee0373",
   "metadata": {},
   "source": [
    "## 18 "
   ]
  },
  {
   "cell_type": "code",
   "execution_count": 23,
   "id": "b3aefccc-c134-497c-b0fc-e993dcca3e83",
   "metadata": {},
   "outputs": [
    {
     "name": "stdout",
     "output_type": "stream",
     "text": [
      "[0, 9, 36, 81]\n"
     ]
    }
   ],
   "source": [
    "squares = []\n",
    "for x in range(0, 10, 3):\n",
    "    squares.append(x ** 2)\n",
    "\n",
    "print(squares)"
   ]
  },
  {
   "cell_type": "code",
   "execution_count": 27,
   "id": "92ac1878-09a5-43be-ba3d-e081e018bf1e",
   "metadata": {},
   "outputs": [],
   "source": [
    "squares = [x ** 2 for x in range(0, 10, 3)] "
   ]
  },
  {
   "cell_type": "markdown",
   "id": "e8a44e93-3127-4119-b325-89877e490920",
   "metadata": {},
   "source": [
    "## 19"
   ]
  },
  {
   "cell_type": "code",
   "execution_count": 28,
   "id": "7b1dc517-adf6-428d-9a59-5ba612fae494",
   "metadata": {},
   "outputs": [
    {
     "name": "stdout",
     "output_type": "stream",
     "text": [
      "[[1, 4, 8], [3, 9, 27], [5, 25, 125]]\n"
     ]
    }
   ],
   "source": [
    "matrix = [[1, 3, 5], [4, 9, 25], [8, 27, 125]]\n",
    "power = [[row[i] for row in matrix] for i in range(3)]\n",
    "print(power)"
   ]
  },
  {
   "cell_type": "code",
   "execution_count": 32,
   "id": "1fb6f8f0-1058-42fb-af05-d4f772012a9a",
   "metadata": {},
   "outputs": [],
   "source": [
    "power = list(zip(*matrix))"
   ]
  },
  {
   "cell_type": "code",
   "execution_count": 33,
   "id": "173b0720-c029-4c2c-a2b5-cc6c53829759",
   "metadata": {},
   "outputs": [
    {
     "data": {
      "text/plain": [
       "[(1, 4, 8), (3, 9, 27), (5, 25, 125)]"
      ]
     },
     "execution_count": 33,
     "metadata": {},
     "output_type": "execute_result"
    }
   ],
   "source": [
    "power"
   ]
  },
  {
   "cell_type": "markdown",
   "id": "65fcfce2-bc09-445b-b4df-2fcd78900621",
   "metadata": {},
   "source": [
    "## 20"
   ]
  },
  {
   "cell_type": "code",
   "execution_count": 1,
   "id": "08331203-1c2b-413c-a230-be5a78cb048d",
   "metadata": {},
   "outputs": [
    {
     "name": "stdout",
     "output_type": "stream",
     "text": [
      "[(1, 3), (1, 2), (1, 5), (2, 3), (2, 5), (3, 2), (3, 5)]\n"
     ]
    }
   ],
   "source": [
    "combs = []\n",
    "for x in [1,2,3]:\n",
    "    for y in [3,2,5]:\n",
    "        if x != y:\n",
    "            combs.append((x, y))\n",
    "\n",
    "print(combs)"
   ]
  },
  {
   "cell_type": "code",
   "execution_count": 4,
   "id": "fef68591-310d-41f2-bf57-0df0d1d6d239",
   "metadata": {},
   "outputs": [],
   "source": [
    "combs = [(a,b) for a in [1,2,3] for b in [3,2,5] if a != b] "
   ]
  },
  {
   "cell_type": "markdown",
   "id": "48c6d49e-0026-4b20-a403-76fca0863f7b",
   "metadata": {},
   "source": [
    "## 21"
   ]
  },
  {
   "cell_type": "code",
   "execution_count": 5,
   "id": "d42bf0c9-64b2-4cce-b4bc-40f11f1e02ec",
   "metadata": {},
   "outputs": [
    {
     "name": "stdout",
     "output_type": "stream",
     "text": [
      "[50, 30, 5, 20, 15, 1]\n"
     ]
    }
   ],
   "source": [
    "list = [-10, 1, 15, 20, 30]\n",
    "list.append(50)\n",
    "list.sort(reverse = True)\n",
    "list.insert(2,5)\n",
    "list.pop(-1)\n",
    "print(list)"
   ]
  },
  {
   "cell_type": "markdown",
   "id": "fbb897ab-3788-43ca-865f-bf7612526f93",
   "metadata": {},
   "source": [
    "## 22"
   ]
  },
  {
   "cell_type": "code",
   "execution_count": 6,
   "id": "587615ba-dbf4-4d87-aadb-8d86d666aef0",
   "metadata": {},
   "outputs": [
    {
     "name": "stdout",
     "output_type": "stream",
     "text": [
      "FtBtTns\n"
     ]
    }
   ],
   "source": [
    "Zen = 'FlatIsBetterThanNested'\n",
    "print(Zen[0:20:3])"
   ]
  },
  {
   "cell_type": "markdown",
   "id": "6d7482d7-a3ae-4afe-9516-281224added7",
   "metadata": {},
   "source": [
    "## 24"
   ]
  },
  {
   "cell_type": "code",
   "execution_count": 7,
   "id": "e8c1ea25-4b53-4bbc-b138-4d457960ac2c",
   "metadata": {},
   "outputs": [
    {
     "data": {
      "text/plain": [
       "False"
      ]
     },
     "execution_count": 7,
     "metadata": {},
     "output_type": "execute_result"
    }
   ],
   "source": [
    "(-1, -10, -3, -4) > (-1, -2, -5) "
   ]
  },
  {
   "cell_type": "code",
   "execution_count": null,
   "id": "a9f40335-21ab-41fa-aea0-dd3a3bfe6e11",
   "metadata": {},
   "outputs": [],
   "source": []
  }
 ],
 "metadata": {
  "kernelspec": {
   "display_name": "Python 3 (ipykernel)",
   "language": "python",
   "name": "python3"
  },
  "language_info": {
   "codemirror_mode": {
    "name": "ipython",
    "version": 3
   },
   "file_extension": ".py",
   "mimetype": "text/x-python",
   "name": "python",
   "nbconvert_exporter": "python",
   "pygments_lexer": "ipython3",
   "version": "3.12.4"
  }
 },
 "nbformat": 4,
 "nbformat_minor": 5
}
