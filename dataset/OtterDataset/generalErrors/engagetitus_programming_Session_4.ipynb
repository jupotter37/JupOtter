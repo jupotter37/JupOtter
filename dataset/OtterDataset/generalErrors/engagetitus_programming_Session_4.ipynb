{
  "nbformat": 4,
  "nbformat_minor": 0,
  "metadata": {
    "colab": {
      "provenance": []
    },
    "kernelspec": {
      "name": "python3",
      "display_name": "Python 3"
    },
    "language_info": {
      "name": "python"
    }
  },
  "cells": [
    {
      "cell_type": "code",
      "execution_count": null,
      "metadata": {
        "id": "M70J6HEquBoU"
      },
      "outputs": [],
      "source": []
    },
    {
      "cell_type": "markdown",
      "source": [
        "# Error Handling"
      ],
      "metadata": {
        "id": "eojIy2PauOQV"
      }
    },
    {
      "cell_type": "code",
      "source": [
        "isValid = False\n",
        "try: # try - risky operation\n",
        "  Valid # we know we havent defined it or the defination is not clear\n",
        "except Exception as e: # handling the error\n",
        "  print(e)\n",
        "\n",
        "Valid # without error handling\n"
      ],
      "metadata": {
        "colab": {
          "base_uri": "https://localhost:8080/",
          "height": 193
        },
        "id": "7J-P4puoupWg",
        "outputId": "89f218c2-8845-4922-fd4b-d8590e09ca22"
      },
      "execution_count": 5,
      "outputs": [
        {
          "output_type": "stream",
          "name": "stdout",
          "text": [
            "name 'Valid' is not defined\n"
          ]
        },
        {
          "output_type": "error",
          "ename": "NameError",
          "evalue": "name 'Valid' is not defined",
          "traceback": [
            "\u001b[0;31m---------------------------------------------------------------------------\u001b[0m",
            "\u001b[0;31mNameError\u001b[0m                                 Traceback (most recent call last)",
            "\u001b[0;32m<ipython-input-5-787cf15c9598>\u001b[0m in \u001b[0;36m<cell line: 7>\u001b[0;34m()\u001b[0m\n\u001b[1;32m      5\u001b[0m   \u001b[0mprint\u001b[0m\u001b[0;34m(\u001b[0m\u001b[0me\u001b[0m\u001b[0;34m)\u001b[0m\u001b[0;34m\u001b[0m\u001b[0;34m\u001b[0m\u001b[0m\n\u001b[1;32m      6\u001b[0m \u001b[0;31m# without error handling\u001b[0m\u001b[0;34m\u001b[0m\u001b[0;34m\u001b[0m\u001b[0m\n\u001b[0;32m----> 7\u001b[0;31m \u001b[0mValid\u001b[0m\u001b[0;34m\u001b[0m\u001b[0;34m\u001b[0m\u001b[0m\n\u001b[0m",
            "\u001b[0;31mNameError\u001b[0m: name 'Valid' is not defined"
          ]
        }
      ]
    },
    {
      "cell_type": "markdown",
      "source": [],
      "metadata": {
        "id": "OyfalKxAxlL4"
      }
    },
    {
      "cell_type": "code",
      "source": [
        "# Example 2 - Nested Try, Except\n",
        "try:\n",
        "  # Inner Something\n",
        "    Valid\n",
        "\n",
        "except Exception as e:\n",
        "  print(f'{e} Outer case 1')\n",
        "\n",
        "try:\n",
        "      # Inner Something\n",
        "      result = 10/0 # trying to compare a boolean to an int\n",
        "except Exception as e:\n",
        "      print(f'{e} Inner Comparison')"
      ],
      "metadata": {
        "colab": {
          "base_uri": "https://localhost:8080/"
        },
        "id": "Vx6RquRYv5ni",
        "outputId": "0820aa30-59c0-4174-bcff-98e131228b15"
      },
      "execution_count": 13,
      "outputs": [
        {
          "output_type": "stream",
          "name": "stdout",
          "text": [
            "name 'Valid' is not defined Outer case 1\n",
            "division by zero Inner Comparison\n"
          ]
        }
      ]
    },
    {
      "cell_type": "markdown",
      "source": [
        "# List of Common Exceptions"
      ],
      "metadata": {
        "id": "D9pCHLQexsLe"
      }
    },
    {
      "cell_type": "code",
      "source": [
        "\n",
        "# SyntaxError: Invalid syntax.\n",
        "try:\n",
        "  print('hello \"World!)\n",
        "except SyntaxError as e:\n",
        "  print(e)\n",
        "# TypeError: Operation applied to an object of inappropriate type.\n",
        "try:\n",
        "  results = 'a' + 2\n",
        "  results\n",
        "except TypeError as e:\n",
        "  print(e)\n",
        "\n",
        "# IndexError: Sequence subscript out of range.\n",
        "numbers = [7,9,10,8]\n",
        "number[4]\n",
        "# KeyError: Key not found in a dictionary.\n",
        "profile = {\n",
        "    'name': ' John'\n",
        "    'age' : 56\n",
        "}\n",
        "profile['country']\n",
        "profile['phone']\n",
        "\n",
        "# AttributeError: Attempt to access an attribute that doesn't exist.\n",
        "\n",
        "# ValueError: Argument of the correct type but inappropriate value.\n",
        "amount = '560 ksh'\n",
        "amount = int(amount)\n",
        "# IOError: I/O operation failed.\n",
        "        with open('charles.jpg')\n",
        "# ZeroDivisionError: Division by zero.\n",
        "# ImportError: Module not found or couldn't be loaded.\n",
        ""
      ],
      "metadata": {
        "colab": {
          "base_uri": "https://localhost:8080/",
          "height": 106
        },
        "id": "0dD4JroQwPFB",
        "outputId": "577ca195-a449-4144-85fe-ff22e2715dcc"
      },
      "execution_count": 15,
      "outputs": [
        {
          "output_type": "error",
          "ename": "SyntaxError",
          "evalue": "unterminated string literal (detected at line 3) (<ipython-input-15-1c8ba1d90fc6>, line 3)",
          "traceback": [
            "\u001b[0;36m  File \u001b[0;32m\"<ipython-input-15-1c8ba1d90fc6>\"\u001b[0;36m, line \u001b[0;32m3\u001b[0m\n\u001b[0;31m    print('hello \"World!)\u001b[0m\n\u001b[0m          ^\u001b[0m\n\u001b[0;31mSyntaxError\u001b[0m\u001b[0;31m:\u001b[0m unterminated string literal (detected at line 3)\n"
          ]
        }
      ]
    },
    {
      "cell_type": "markdown",
      "source": [],
      "metadata": {
        "id": "T0V8v4P-xm3N"
      }
    }
  ]
}