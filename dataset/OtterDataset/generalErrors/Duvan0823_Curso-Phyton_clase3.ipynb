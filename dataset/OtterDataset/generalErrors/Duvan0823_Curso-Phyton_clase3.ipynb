{
  "nbformat": 4,
  "nbformat_minor": 0,
  "metadata": {
    "colab": {
      "provenance": [],
      "authorship_tag": "ABX9TyMHEFJ5EGPGyzmLMiIvf6Ow",
      "include_colab_link": true
    },
    "kernelspec": {
      "name": "python3",
      "display_name": "Python 3"
    },
    "language_info": {
      "name": "python"
    }
  },
  "cells": [
    {
      "cell_type": "markdown",
      "metadata": {
        "id": "view-in-github",
        "colab_type": "text"
      },
      "source": [
        "<a href=\"https://colab.research.google.com/github/Duvan0823/Curso-Phyton/blob/main/clase3.ipynb\" target=\"_parent\"><img src=\"https://colab.research.google.com/assets/colab-badge.svg\" alt=\"Open In Colab\"/></a>"
      ]
    },
    {
      "cell_type": "markdown",
      "source": [
        "**manejo de errores, ciclos y bucles**\n",
        "\n",
        "CURSO PYTHON\n",
        "\n",
        "UNICAFAM\n",
        "\n",
        "DUVAN MELO\n",
        "\n",
        "DOCENTE: NICOLAS MOJICA"
      ],
      "metadata": {
        "id": "XyIlGST4IBSV"
      }
    },
    {
      "cell_type": "markdown",
      "source": [
        "**MANEJO DE ERRORES**\n",
        "\n",
        "En Python, el manejo de errores se realiza utilizando el bloque try-except. Este bloque permite capturar y manejar excepciones (errores) que puedan ocurrir durante la ejecución de tu código. Aquí te muestro cómo funciona:\n",
        "\n",
        "\n",
        "**Tipos de Errores:**\n",
        "\n",
        "- SyntaxError: Error de sintaxis en el código.\n",
        "- TypeError: Operación o función aplicada a un tipo inapropiado.\n",
        "- ValueError: Argumento con el tipo correcto pero valor inapropiado.\n",
        "- IndexError: Índice fuera del rango de una lista o secuencia.\n",
        "- KeyError: Clave que no existe en un diccionario.\n",
        "- FileNotFoundError: Archivo no encontrado.\n",
        "- ZeroDivisionError: División por cero.\n",
        "- IOError: Problema de entrada/salida al leer o escribir archivos.\n",
        "- AttributeError: Atributo que no existe en un objeto.\n",
        "- ImportError: Módulo no encontrado al intentar importarlo.\n",
        "- MemoryError: Agotamiento de memoria.\n",
        "- OverflowError: Operación que excede el rango numérico."
      ],
      "metadata": {
        "id": "zJqYhOe2IN6k"
      }
    },
    {
      "cell_type": "code",
      "source": [
        "# definicion de variables\n",
        "a=int(input(\"ingresar numero:\"))\n",
        "b=int(input(\"ingresar segundo numero:\"))"
      ],
      "metadata": {
        "colab": {
          "base_uri": "https://localhost:8080/"
        },
        "id": "v7wiYFyrNtPX",
        "outputId": "6c2a9978-fa73-406e-a8f9-45b0d15cc841"
      },
      "execution_count": 9,
      "outputs": [
        {
          "name": "stdout",
          "output_type": "stream",
          "text": [
            "ingresar numero:0\n",
            "ingresar segundo numero:0\n"
          ]
        }
      ]
    },
    {
      "cell_type": "code",
      "execution_count": 7,
      "metadata": {
        "colab": {
          "base_uri": "https://localhost:8080/"
        },
        "id": "mjNMnI61H_kz",
        "outputId": "3885498a-2753-44db-b507-79436125859c"
      },
      "outputs": [
        {
          "output_type": "stream",
          "name": "stdout",
          "text": [
            "ingresar numero:0\n",
            "ingresar segundo numero:0\n",
            "no se puede dividir 0/0\n"
          ]
        }
      ],
      "source": [
        "# generar una funcion que me divida dos numeros\n",
        "#a=int(input(\"ingresar numero:\"))\n",
        "#b=int(input(\"ingresar segundo numero:\"))\n",
        "\n",
        "try:\n",
        "    def division(a,b):\n",
        "        c=a/b\n",
        "        return print(c)\n",
        "    division(a,b)\n",
        "except  ZeroDivisionError:\n",
        "  print(\"no se puede dividir 0/0\")"
      ]
    },
    {
      "cell_type": "code",
      "source": [
        "try:\n",
        "    def division(a,b):\n",
        "        c=a/b\n",
        "        return print(c)\n",
        "    division(a,b)\n",
        "except Exception as e:\n",
        "  print(f\"se produjo una excepcion conel error: {e}\")"
      ],
      "metadata": {
        "colab": {
          "base_uri": "https://localhost:8080/"
        },
        "id": "EtWgf91jLwZ1",
        "outputId": "45807c5c-6a5c-4612-96bd-012b997b2640"
      },
      "execution_count": 10,
      "outputs": [
        {
          "output_type": "stream",
          "name": "stdout",
          "text": [
            "se produjo una excepcion conel error: division by zero\n"
          ]
        }
      ]
    },
    {
      "cell_type": "markdown",
      "source": [
        "**CICLOS Y BUCLES**"
      ],
      "metadata": {
        "id": "k3sNfaGxRMe3"
      }
    },
    {
      "cell_type": "code",
      "source": [
        "# QUIERO IMPRIMIR TODOS LOS NUMEROS QUE SE ENCUEENTRAN EN UNA LISTA\n",
        "# for es la senencia que me permite generar un bucle sobre un conjunto de datos finito como puede ser una lista una dupla o estructura de datos de las calses pasadas\n",
        "numeros=[1,2,3,4,5]\n",
        "for num in numeros:\n",
        "  c=num+1\n",
        "  print(c)"
      ],
      "metadata": {
        "colab": {
          "base_uri": "https://localhost:8080/"
        },
        "id": "TMBp2oAqPj9-",
        "outputId": "999bde7a-ce5a-45ae-a7db-423ef9e61919"
      },
      "execution_count": 13,
      "outputs": [
        {
          "output_type": "stream",
          "name": "stdout",
          "text": [
            "3\n",
            "4\n",
            "5\n",
            "6\n",
            "7\n"
          ]
        }
      ]
    },
    {
      "cell_type": "code",
      "source": [
        "for num in range(10):\n",
        "  if num>=5:\n",
        "    break\n",
        "  else:\n",
        "    print(num)"
      ],
      "metadata": {
        "colab": {
          "base_uri": "https://localhost:8080/"
        },
        "id": "Sca48aJHURJG",
        "outputId": "ae3aa6a8-ad5a-4627-8d85-e3be7159ce6b"
      },
      "execution_count": 16,
      "outputs": [
        {
          "output_type": "stream",
          "name": "stdout",
          "text": [
            "0\n",
            "1\n",
            "2\n",
            "3\n",
            "4\n"
          ]
        }
      ]
    },
    {
      "cell_type": "code",
      "source": [
        "# generar un ciclo que saque la exponenciacion 2 de una lista de 7 numeros\n",
        "\n",
        "for num in range(7):\n",
        "  c=num**2\n",
        "  print(c)"
      ],
      "metadata": {
        "colab": {
          "base_uri": "https://localhost:8080/"
        },
        "id": "pmU-V8wLWPAv",
        "outputId": "ffdc177d-817c-4c97-f54d-7d41dc7e63c9"
      },
      "execution_count": 23,
      "outputs": [
        {
          "output_type": "stream",
          "name": "stdout",
          "text": [
            "0\n",
            "1\n",
            "4\n",
            "9\n",
            "16\n",
            "25\n",
            "36\n"
          ]
        }
      ]
    },
    {
      "cell_type": "code",
      "source": [
        "# de una lista de precios dada calcule un descuento del 10% y añada una lista\n",
        "precios_actuales=[500,200,300,400]\n",
        "precios_descuento=[]\n",
        "for precio in precios_actuales:\n",
        "  nuevo_precio=precio*0.1\n",
        "  precios_descuento.append(nuevo_precio)\n",
        "\n",
        "print(precios_descuento)"
      ],
      "metadata": {
        "colab": {
          "base_uri": "https://localhost:8080/"
        },
        "id": "4399xuvvWgsH",
        "outputId": "f5ccda35-2bbe-4d40-adac-9fcbd2613828"
      },
      "execution_count": 24,
      "outputs": [
        {
          "output_type": "stream",
          "name": "stdout",
          "text": [
            "[50.0, 20.0, 30.0, 40.0]\n"
          ]
        }
      ]
    },
    {
      "cell_type": "code",
      "source": [
        "contador=0\n",
        "while contador<=5:\n",
        "  print(contador)\n",
        "  contador+=1"
      ],
      "metadata": {
        "colab": {
          "base_uri": "https://localhost:8080/"
        },
        "id": "kVrVBh2gY0xl",
        "outputId": "fd6b7266-1d1e-46ab-f38c-f3765b5fabaf"
      },
      "execution_count": 28,
      "outputs": [
        {
          "output_type": "stream",
          "name": "stdout",
          "text": [
            "0\n",
            "1\n",
            "2\n",
            "3\n",
            "4\n",
            "5\n"
          ]
        }
      ]
    },
    {
      "cell_type": "code",
      "source": [
        "from typing_extensions import clear_overloads\n",
        "# generar un programa que permita tres intentos de contraseña\n",
        "clave_correcta=\"123\"\n",
        "intentos=3\n",
        "while intentos>0:\n",
        "  clave=input(\"ingrese clave:\")\n",
        "  if clave==clave_correcta:\n",
        "    print(\"acceso concedido\")\n",
        "    break\n",
        "  else:\n",
        "    intentos-=1\n",
        "    print(f\"intentos restantes:{intentos}\")\n",
        "if intentos==0:\n",
        "  print(\"has excedido del numero de intentos\")\n",
        ""
      ],
      "metadata": {
        "colab": {
          "base_uri": "https://localhost:8080/"
        },
        "id": "UwJJaZtJaJlu",
        "outputId": "6e34c8ad-5233-40b7-ca0a-bc21a494eea7"
      },
      "execution_count": 30,
      "outputs": [
        {
          "output_type": "stream",
          "name": "stdout",
          "text": [
            "ingrese clave:12\n",
            "intentos restantes:2\n",
            "ingrese clave:123\n",
            "acceso concedido\n"
          ]
        }
      ]
    },
    {
      "cell_type": "markdown",
      "source": [
        "Escribe un programa que permita al usuario adivinar un número secreto entre 1 y 10. El programa debe seguir pidiendo al usuario que adivine hasta que acierte.\n",
        "\n",
        "**Instrucciones:**\n",
        "\n",
        "Define un número secreto.\n",
        "\n",
        "Utiliza un bucle while para seguir solicitando adivinanzas al usuario hasta que acierte.\n",
        "\n",
        "Si el usuario adivina el número, imprime un mensaje de felicitación y termina el programa."
      ],
      "metadata": {
        "id": "9Kn-QHSqeJWL"
      }
    },
    {
      "cell_type": "code",
      "source": [
        "# Escribe un programa que permita al usuario adivinar un número secreto entre 1 y 10. El programa debe seguir pidiendo al usuario que adivine hasta que acierte.\n",
        "numero_secreto=\"5\"\n",
        "while numero_secreto==10:\n",
        "    numeros=int(input(\"ingrese numero:\"))\n",
        "    if numeros==numero_secreto:\n",
        "      print(\"numero correcto\")\n",
        "      break\n",
        "    else:\n",
        "      print(\"intente de nuevo\")\n",
        "\n",
        ""
      ],
      "metadata": {
        "id": "gz9O6EDkeL53"
      },
      "execution_count": 41,
      "outputs": []
    },
    {
      "cell_type": "markdown",
      "source": [
        "**Ejercicio 3: Tabla de Multiplicar (Bucle for y while)**\n",
        "\n",
        "**Descripción:**\n",
        "\n",
        "Escribe un programa que genere la tabla de multiplicar de un número ingresado por el usuario. El programa debe continuar pidiendo un número hasta que el usuario ingrese 0.\n",
        "\n",
        "**Instrucciones:**\n",
        "\n",
        "Utiliza un bucle while para pedir un número al usuario.\n",
        "\n",
        "Si el número es diferente de 0, usa un bucle for para imprimir la tabla de multiplicar de ese número.\n",
        "\n",
        "Si el usuario ingresa 0, termina el programa.\n",
        ""
      ],
      "metadata": {
        "id": "dT16x9wUjqGQ"
      }
    },
    {
      "cell_type": "code",
      "source": [
        "# Escribe un programa que genere la tabla de multiplicar de un número ingresado por el usuario. El programa debe continuar pidiendo un número hasta que el usuario ingrese 0.\n",
        "tabla_multiplicar=5\n",
        "while tabla_multiplicar!=0:\n",
        "  tabla_multiplicar=int(input(\"ingrese numero:\"))\n",
        "      for i in range(1,11):\n",
        "        multiplicar=tabla_multiplicar*i\n",
        "        print(f\"{tabla_multiplicar}*{i}={multiplicar}\")\n",
        "print(\"fin del programa\")\n"
      ],
      "metadata": {
        "id": "LtFXQSnhgzOW"
      },
      "execution_count": null,
      "outputs": []
    },
    {
      "cell_type": "code",
      "source": [],
      "metadata": {
        "id": "2cngjAq7mCmu"
      },
      "execution_count": null,
      "outputs": []
    }
  ]
}