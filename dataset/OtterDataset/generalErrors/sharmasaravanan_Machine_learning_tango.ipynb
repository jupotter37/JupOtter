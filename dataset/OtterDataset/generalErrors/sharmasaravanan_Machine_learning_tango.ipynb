{
 "cells": [
  {
   "cell_type": "code",
   "execution_count": 52,
   "metadata": {},
   "outputs": [
    {
     "ename": "NameError",
     "evalue": "name 'd' is not defined",
     "output_type": "error",
     "traceback": [
      "\u001b[1;31m---------------------------------------------------------------------------\u001b[0m",
      "\u001b[1;31mNameError\u001b[0m                                 Traceback (most recent call last)",
      "\u001b[1;32m<ipython-input-52-20bd3f7cba3a>\u001b[0m in \u001b[0;36m<module>\u001b[1;34m()\u001b[0m\n\u001b[0;32m      1\u001b[0m \u001b[0ma\u001b[0m\u001b[1;33m=\u001b[0m\u001b[1;36m6\u001b[0m\u001b[1;33m\u001b[0m\u001b[0m\n\u001b[1;32m----> 2\u001b[1;33m \u001b[1;32mprint\u001b[0m \u001b[0ma\u001b[0m\u001b[1;33m+\u001b[0m\u001b[0md\u001b[0m\u001b[1;33m\u001b[0m\u001b[0m\n\u001b[0m\u001b[0;32m      3\u001b[0m \u001b[0md\u001b[0m\u001b[1;33m=\u001b[0m\u001b[1;36m10\u001b[0m\u001b[1;33m\u001b[0m\u001b[0m\n",
      "\u001b[1;31mNameError\u001b[0m: name 'd' is not defined"
     ]
    }
   ],
   "source": [
    "a=6\n",
    "print a+d\n",
    "d=10\n"
   ]
  },
  {
   "cell_type": "code",
   "execution_count": 54,
   "metadata": {},
   "outputs": [
    {
     "name": "stdout",
     "output_type": "stream",
     "text": [
      "hello @world\n"
     ]
    }
   ],
   "source": [
    "print \"hello @world\""
   ]
  },
  {
   "cell_type": "code",
   "execution_count": 6,
   "metadata": {},
   "outputs": [],
   "source": [
    "a=500\n",
    "name='ball'\n"
   ]
  },
  {
   "cell_type": "code",
   "execution_count": 11,
   "metadata": {},
   "outputs": [
    {
     "name": "stdout",
     "output_type": "stream",
     "text": [
      "500 ball apple\n"
     ]
    }
   ],
   "source": [
    "print a,name,'apple'"
   ]
  },
  {
   "cell_type": "code",
   "execution_count": 14,
   "metadata": {},
   "outputs": [
    {
     "name": "stdout",
     "output_type": "stream",
     "text": [
      "hello ball\n"
     ]
    }
   ],
   "source": [
    "print \"hello \"+name"
   ]
  },
  {
   "cell_type": "code",
   "execution_count": 56,
   "metadata": {},
   "outputs": [
    {
     "name": "stdout",
     "output_type": "stream",
     "text": [
      "hello 6\n"
     ]
    }
   ],
   "source": [
    "print \"hello \"+str(a)\n",
    "print \"hello\",a"
   ]
  },
  {
   "cell_type": "code",
   "execution_count": 57,
   "metadata": {},
   "outputs": [
    {
     "data": {
      "text/plain": [
       "int"
      ]
     },
     "execution_count": 57,
     "metadata": {},
     "output_type": "execute_result"
    }
   ],
   "source": [
    "type(a)"
   ]
  },
  {
   "cell_type": "code",
   "execution_count": 25,
   "metadata": {},
   "outputs": [
    {
     "data": {
      "text/plain": [
       "\"\\nprint 'hi'\\nprint 'hello'\\n\""
      ]
     },
     "execution_count": 25,
     "metadata": {},
     "output_type": "execute_result"
    }
   ],
   "source": [
    "'''\n",
    "print 'hi'\n",
    "print 'hello'\n",
    "'''"
   ]
  },
  {
   "cell_type": "code",
   "execution_count": 64,
   "metadata": {},
   "outputs": [
    {
     "name": "stdout",
     "output_type": "stream",
     "text": [
      "Enter numerical value: 4\n",
      "Enter string: 10\n"
     ]
    }
   ],
   "source": [
    "#numerical value\n",
    "num=input(\"Enter numerical value: \")\n",
    "#string\n",
    "nam=raw_input(\"Enter string: \")"
   ]
  },
  {
   "cell_type": "code",
   "execution_count": 65,
   "metadata": {},
   "outputs": [
    {
     "data": {
      "text/plain": [
       "str"
      ]
     },
     "execution_count": 65,
     "metadata": {},
     "output_type": "execute_result"
    }
   ],
   "source": [
    "type(nam)"
   ]
  },
  {
   "cell_type": "code",
   "execution_count": 67,
   "metadata": {},
   "outputs": [
    {
     "data": {
      "text/plain": [
       "'1010101010'"
      ]
     },
     "execution_count": 67,
     "metadata": {},
     "output_type": "execute_result"
    }
   ],
   "source": [
    "nam*5"
   ]
  },
  {
   "cell_type": "code",
   "execution_count": 68,
   "metadata": {},
   "outputs": [
    {
     "data": {
      "text/plain": [
       "15"
      ]
     },
     "execution_count": 68,
     "metadata": {},
     "output_type": "execute_result"
    }
   ],
   "source": [
    "int(nam)+5\n"
   ]
  },
  {
   "cell_type": "code",
   "execution_count": 50,
   "metadata": {},
   "outputs": [
    {
     "name": "stdout",
     "output_type": "stream",
     "text": [
      "Enter numerical value: 45\n",
      "odd\n",
      "Enter numerical value: 12\n",
      "divisible by 4 and even\n",
      "Enter numerical value: 18\n",
      "even\n"
     ]
    }
   ],
   "source": [
    "i=0\n",
    "while i<3:\n",
    "    num=input(\"Enter numerical value: \")\n",
    "    if num==10:\n",
    "        print \"goodbye\"\n",
    "        break\n",
    "    elif num==20:\n",
    "        print \"skipping.....,\"\n",
    "        continue\n",
    "    if num%4==0:\n",
    "        print \"divisible by 4 and even\"\n",
    "    elif num%2==0:\n",
    "        print 'even'\n",
    "    else:\n",
    "        print \"odd\"\n",
    "    i+=1"
   ]
  },
  {
   "cell_type": "code",
   "execution_count": 34,
   "metadata": {
    "scrolled": true
   },
   "outputs": [
    {
     "name": "stdout",
     "output_type": "stream",
     "text": [
      "Enter the side value of the square: 4\n",
      "Enter the radius of the circle: 3\n",
      "The area of square is 16 sq.cm\n",
      "The area of circle is 28.26 sq.cm\n"
     ]
    }
   ],
   "source": [
    "a=input(\"Enter the side value of the square: \")\n",
    "r=input(\"Enter the radius of the circle: \")\n",
    "area_s=a*a\n",
    "area_c=3.14*r*r\n",
    "print \"The area of square is\",area_s,\"sq.cm\"\n",
    "print \"The area of circle is\",area_c  ,\"sq.cm\""
   ]
  },
  {
   "cell_type": "code",
   "execution_count": 69,
   "metadata": {},
   "outputs": [
    {
     "name": "stdout",
     "output_type": "stream",
     "text": [
      ": 5\n",
      "odd\n"
     ]
    }
   ],
   "source": [
    "#if-else\n",
    "num=input(\": \")\n",
    "if num%2==0:\n",
    "    print \"even\"\n",
    "else:\n",
    "    print \"odd\""
   ]
  },
  {
   "cell_type": "code",
   "execution_count": 73,
   "metadata": {},
   "outputs": [
    {
     "name": "stdout",
     "output_type": "stream",
     "text": [
      ": 8\n",
      "divisible by 4\n",
      "number is 8\n"
     ]
    }
   ],
   "source": [
    "#if-elif-else\n",
    "num=input(\": \")\n",
    "if num%4==0:\n",
    "    print \"divisible by 4\"\n",
    "    if num==8:\n",
    "        print \"number is 8\"\n",
    "elif num%2==0:\n",
    "    print \"even\"\n",
    "else:\n",
    "    print \"odd\""
   ]
  },
  {
   "cell_type": "code",
   "execution_count": 83,
   "metadata": {},
   "outputs": [
    {
     "name": "stdout",
     "output_type": "stream",
     "text": [
      ": 45\n",
      "odd\n",
      "do you want to continue? y/ny\n",
      ": 85\n",
      "odd\n",
      "do you want to continue? y/nn\n"
     ]
    }
   ],
   "source": [
    "i=0\n",
    "while i<len(nam) :\n",
    "    num=input(\": \")\n",
    "    if num==15:\n",
    "        break\n",
    "    elif num==25:\n",
    "        print \"skipping...\"\n",
    "        pass \n",
    "    if num%4==0:\n",
    "        print \"divisible by 4\"\n",
    "    elif num%2==0:\n",
    "        print \"even\"\n",
    "    else:\n",
    "        print \"odd\"\n",
    "    opt=raw_input(\"do you want to continue? y/n\")"
   ]
  },
  {
   "cell_type": "code",
   "execution_count": 85,
   "metadata": {},
   "outputs": [],
   "source": [
    "nam='apple'"
   ]
  },
  {
   "cell_type": "code",
   "execution_count": 88,
   "metadata": {},
   "outputs": [
    {
     "data": {
      "text/plain": [
       "5"
      ]
     },
     "execution_count": 88,
     "metadata": {},
     "output_type": "execute_result"
    }
   ],
   "source": [
    "len(nam)"
   ]
  },
  {
   "cell_type": "code",
   "execution_count": 89,
   "metadata": {},
   "outputs": [],
   "source": [
    "n='5'"
   ]
  },
  {
   "cell_type": "code",
   "execution_count": 92,
   "metadata": {},
   "outputs": [
    {
     "data": {
      "text/plain": [
       "615"
      ]
     },
     "execution_count": 92,
     "metadata": {},
     "output_type": "execute_result"
    }
   ],
   "source": [
    "int(n*3)+int(n*2)+int(n)"
   ]
  },
  {
   "cell_type": "code",
   "execution_count": 141,
   "metadata": {},
   "outputs": [],
   "source": [
    "name=' Elephant '"
   ]
  },
  {
   "cell_type": "code",
   "execution_count": 150,
   "metadata": {},
   "outputs": [
    {
     "data": {
      "text/plain": [
       "' eLEPHANT '"
      ]
     },
     "execution_count": 150,
     "metadata": {},
     "output_type": "execute_result"
    }
   ],
   "source": [
    "name.capitalize()\n",
    "name.count('e')\n",
    "name.decode('utf8')\n",
    "name.endswith('i')\n",
    "name.startswith('l')\n",
    "name.find('e')\n",
    "name.index('p')\n",
    "name.isdigit()\n",
    "name.islower()\n",
    "name.isupper()\n",
    "name.isspace()\n",
    "name.lower()\n",
    "name.upper()\n",
    "name.lstrip()\n",
    "name.rstrip()\n",
    "name.strip()\n",
    "name.replace('p','f')\n",
    "name.swapcase()"
   ]
  },
  {
   "cell_type": "code",
   "execution_count": 151,
   "metadata": {},
   "outputs": [],
   "source": [
    "sent=\"elephant is an animal\""
   ]
  },
  {
   "cell_type": "code",
   "execution_count": 156,
   "metadata": {},
   "outputs": [
    {
     "data": {
      "text/plain": [
       "['eleph', 't is ', ' ', 'imal']"
      ]
     },
     "execution_count": 156,
     "metadata": {},
     "output_type": "execute_result"
    }
   ],
   "source": [
    "sp=sent.split('an')\n",
    "sp"
   ]
  },
  {
   "cell_type": "code",
   "execution_count": 157,
   "metadata": {},
   "outputs": [
    {
     "data": {
      "text/plain": [
       "'elephant is an animal'"
      ]
     },
     "execution_count": 157,
     "metadata": {},
     "output_type": "execute_result"
    }
   ],
   "source": [
    "'an'.join(sp)"
   ]
  },
  {
   "cell_type": "markdown",
   "metadata": {},
   "source": [
    "1. Palindorme\n",
    "2. Elephant is an animal -> animal an is Elephant "
   ]
  },
  {
   "cell_type": "code",
   "execution_count": 162,
   "metadata": {},
   "outputs": [],
   "source": [
    "sp=sent.split()"
   ]
  },
  {
   "cell_type": "code",
   "execution_count": 168,
   "metadata": {},
   "outputs": [
    {
     "data": {
      "text/plain": [
       "'animal an is elephant'"
      ]
     },
     "execution_count": 168,
     "metadata": {},
     "output_type": "execute_result"
    }
   ],
   "source": [
    "\" \".join(sp[::-1])"
   ]
  },
  {
   "cell_type": "markdown",
   "metadata": {},
   "source": [
    "1. Rock beats scissors\n",
    "2. Scissors beats paper\n",
    "3. Paper beats rock"
   ]
  },
  {
   "cell_type": "code",
   "execution_count": 1,
   "metadata": {},
   "outputs": [],
   "source": [
    "import random as r"
   ]
  },
  {
   "cell_type": "code",
   "execution_count": 2,
   "metadata": {},
   "outputs": [],
   "source": [
    "comp=r.randint(0,20)"
   ]
  },
  {
   "cell_type": "code",
   "execution_count": null,
   "metadata": {},
   "outputs": [],
   "source": [
    "while 1:\n",
    "    num=raw_input(\"Enter your guess : \")\n",
    "    if num=='q' or num==\"quit\":\n",
    "        break\n",
    "    int(num)"
   ]
  },
  {
   "cell_type": "code",
   "execution_count": 3,
   "metadata": {},
   "outputs": [],
   "source": [
    "#list\n",
    "l=[]\n",
    "L=[1,'a','apple',2,'b','ball',3,'c','cat']"
   ]
  },
  {
   "cell_type": "code",
   "execution_count": 19,
   "metadata": {},
   "outputs": [],
   "source": [
    "L.reverse()"
   ]
  },
  {
   "cell_type": "code",
   "execution_count": 31,
   "metadata": {},
   "outputs": [],
   "source": [
    "L.append(2)"
   ]
  },
  {
   "cell_type": "code",
   "execution_count": 36,
   "metadata": {},
   "outputs": [
    {
     "ename": "TypeError",
     "evalue": "count() takes exactly one argument (0 given)",
     "output_type": "error",
     "traceback": [
      "\u001b[1;31m---------------------------------------------------------------------------\u001b[0m",
      "\u001b[1;31mTypeError\u001b[0m                                 Traceback (most recent call last)",
      "\u001b[1;32m<ipython-input-36-c3e52bd87b8d>\u001b[0m in \u001b[0;36m<module>\u001b[1;34m()\u001b[0m\n\u001b[1;32m----> 1\u001b[1;33m \u001b[0mL\u001b[0m\u001b[1;33m.\u001b[0m\u001b[0mcount\u001b[0m\u001b[1;33m(\u001b[0m\u001b[1;33m)\u001b[0m\u001b[1;33m\u001b[0m\u001b[0m\n\u001b[0m",
      "\u001b[1;31mTypeError\u001b[0m: count() takes exactly one argument (0 given)"
     ]
    }
   ],
   "source": [
    "L.count()"
   ]
  },
  {
   "cell_type": "code",
   "execution_count": 28,
   "metadata": {},
   "outputs": [],
   "source": [
    "l.append(\"orange\")"
   ]
  },
  {
   "cell_type": "code",
   "execution_count": 34,
   "metadata": {},
   "outputs": [],
   "source": [
    "L.extend('orange')"
   ]
  },
  {
   "cell_type": "code",
   "execution_count": 46,
   "metadata": {},
   "outputs": [
    {
     "data": {
      "text/plain": [
       "11"
      ]
     },
     "execution_count": 46,
     "metadata": {},
     "output_type": "execute_result"
    }
   ],
   "source": [
    "len(L)"
   ]
  },
  {
   "cell_type": "code",
   "execution_count": 47,
   "metadata": {},
   "outputs": [
    {
     "data": {
      "text/plain": [
       "[1, 'a', 'apple', 2, 'b', 'ball', 3, 'c', 'cat', 'dog', 2]"
      ]
     },
     "execution_count": 47,
     "metadata": {},
     "output_type": "execute_result"
    }
   ],
   "source": [
    "L"
   ]
  },
  {
   "cell_type": "code",
   "execution_count": 48,
   "metadata": {},
   "outputs": [],
   "source": [
    "L[3]=8"
   ]
  },
  {
   "cell_type": "code",
   "execution_count": 49,
   "metadata": {},
   "outputs": [
    {
     "data": {
      "text/plain": [
       "[1, 'a', 'apple', 8, 'b', 'ball', 3, 'c', 'cat', 'dog', 2]"
      ]
     },
     "execution_count": 49,
     "metadata": {},
     "output_type": "execute_result"
    }
   ],
   "source": [
    "L"
   ]
  },
  {
   "cell_type": "code",
   "execution_count": 50,
   "metadata": {},
   "outputs": [
    {
     "data": {
      "text/plain": [
       "3"
      ]
     },
     "execution_count": 50,
     "metadata": {},
     "output_type": "execute_result"
    }
   ],
   "source": [
    "L.index(8)"
   ]
  },
  {
   "cell_type": "code",
   "execution_count": 56,
   "metadata": {},
   "outputs": [
    {
     "ename": "SyntaxError",
     "evalue": "can't delete function call (<ipython-input-56-91ceb31a7be2>, line 1)",
     "output_type": "error",
     "traceback": [
      "\u001b[1;36m  File \u001b[1;32m\"<ipython-input-56-91ceb31a7be2>\"\u001b[1;36m, line \u001b[1;32m1\u001b[0m\n\u001b[1;33m    del L.index('cat')\u001b[0m\n\u001b[1;31mSyntaxError\u001b[0m\u001b[1;31m:\u001b[0m can't delete function call\n"
     ]
    }
   ],
   "source": [
    "del L[4]"
   ]
  },
  {
   "cell_type": "code",
   "execution_count": 54,
   "metadata": {},
   "outputs": [],
   "source": [
    "L.insert(4,\"elephant\")"
   ]
  },
  {
   "cell_type": "code",
   "execution_count": 57,
   "metadata": {},
   "outputs": [
    {
     "data": {
      "text/plain": [
       "2"
      ]
     },
     "execution_count": 57,
     "metadata": {},
     "output_type": "execute_result"
    }
   ],
   "source": [
    "L.pop()"
   ]
  },
  {
   "cell_type": "code",
   "execution_count": 67,
   "metadata": {},
   "outputs": [],
   "source": [
    "L.remove(3)"
   ]
  },
  {
   "cell_type": "code",
   "execution_count": 65,
   "metadata": {},
   "outputs": [],
   "source": [
    "L.append(3)"
   ]
  },
  {
   "cell_type": "code",
   "execution_count": 69,
   "metadata": {},
   "outputs": [],
   "source": [
    "L.sort()"
   ]
  },
  {
   "cell_type": "code",
   "execution_count": 70,
   "metadata": {},
   "outputs": [
    {
     "data": {
      "text/plain": [
       "[1, 3, 8, 'a', 'apple', 'ball', 'c', 'cat', 'dog', 'elephant']"
      ]
     },
     "execution_count": 70,
     "metadata": {},
     "output_type": "execute_result"
    }
   ],
   "source": [
    "L"
   ]
  },
  {
   "cell_type": "code",
   "execution_count": 72,
   "metadata": {},
   "outputs": [],
   "source": [
    "#tuple\n",
    "days=('Monday','Tuesday','Wednesday','Thursday','Friday','Saturday','Sunday')"
   ]
  },
  {
   "cell_type": "code",
   "execution_count": 84,
   "metadata": {},
   "outputs": [],
   "source": [
    "#dictionary\n",
    "d={'a':'apple','b':'ball','c':'cat',1:'orange','d':4,'m':'mango'}"
   ]
  },
  {
   "cell_type": "code",
   "execution_count": 85,
   "metadata": {},
   "outputs": [
    {
     "data": {
      "text/plain": [
       "['a', 1, 'c', 'b', 'd', 'm']"
      ]
     },
     "execution_count": 85,
     "metadata": {},
     "output_type": "execute_result"
    }
   ],
   "source": [
    "d.keys()"
   ]
  },
  {
   "cell_type": "code",
   "execution_count": 86,
   "metadata": {},
   "outputs": [
    {
     "data": {
      "text/plain": [
       "['apple', 'orange', 'cat', 'ball', 4, 'mango']"
      ]
     },
     "execution_count": 86,
     "metadata": {},
     "output_type": "execute_result"
    }
   ],
   "source": [
    "d.values()"
   ]
  },
  {
   "cell_type": "code",
   "execution_count": 90,
   "metadata": {},
   "outputs": [],
   "source": [
    "d[\"s\"]=\"sun\""
   ]
  },
  {
   "cell_type": "code",
   "execution_count": 95,
   "metadata": {},
   "outputs": [
    {
     "name": "stdout",
     "output_type": "stream",
     "text": [
      "[('a', 'apple'), (1, 'orange'), ('c', 'cat'), ('b', 'ball'), ('d', 4), ('m', 'mango'), ('s', 'sun')]\n"
     ]
    }
   ],
   "source": [
    "print d.items()"
   ]
  },
  {
   "cell_type": "code",
   "execution_count": 96,
   "metadata": {},
   "outputs": [
    {
     "data": {
      "text/plain": [
       "{1: 'orange',\n",
       " 'a': 'apple',\n",
       " 'b': 'ball',\n",
       " 'c': 'cat',\n",
       " 'd': 4,\n",
       " 'm': 'mango',\n",
       " 's': 'sun'}"
      ]
     },
     "execution_count": 96,
     "metadata": {},
     "output_type": "execute_result"
    }
   ],
   "source": [
    "d"
   ]
  },
  {
   "cell_type": "code",
   "execution_count": 97,
   "metadata": {},
   "outputs": [
    {
     "data": {
      "text/plain": [
       "[1, 3, 8, 'a', 'apple', 'ball', 'c', 'cat', 'dog', 'elephant']"
      ]
     },
     "execution_count": 97,
     "metadata": {},
     "output_type": "execute_result"
    }
   ],
   "source": [
    "L"
   ]
  },
  {
   "cell_type": "code",
   "execution_count": 98,
   "metadata": {},
   "outputs": [
    {
     "data": {
      "text/plain": [
       "('Monday', 'Tuesday', 'Wednesday', 'Thursday', 'Friday', 'Saturday', 'Sunday')"
      ]
     },
     "execution_count": 98,
     "metadata": {},
     "output_type": "execute_result"
    }
   ],
   "source": [
    "days"
   ]
  },
  {
   "cell_type": "code",
   "execution_count": 116,
   "metadata": {},
   "outputs": [
    {
     "name": "stdout",
     "output_type": "stream",
     "text": [
      "a\n",
      "1\n",
      "c\n",
      "b\n",
      "d\n",
      "m\n",
      "s\n"
     ]
    }
   ],
   "source": [
    "for i in d:\n",
    "    print i"
   ]
  },
  {
   "cell_type": "code",
   "execution_count": 106,
   "metadata": {},
   "outputs": [],
   "source": [
    "name='apple'"
   ]
  },
  {
   "cell_type": "code",
   "execution_count": 107,
   "metadata": {},
   "outputs": [
    {
     "data": {
      "text/plain": [
       "5"
      ]
     },
     "execution_count": 107,
     "metadata": {},
     "output_type": "execute_result"
    }
   ],
   "source": [
    "len(name)"
   ]
  },
  {
   "cell_type": "markdown",
   "metadata": {},
   "source": [
    "##task##\n",
    "1. Take two list and print the common number between two list without duplicates\n",
    "2. Take one numerical list of length atleast 15 and create a new list with number less than 10 of list A.\n"
   ]
  },
  {
   "cell_type": "code",
   "execution_count": 117,
   "metadata": {},
   "outputs": [],
   "source": [
    "a=['a','b','c','a']\n",
    "b=['a','c','e','n','a']"
   ]
  },
  {
   "cell_type": "code",
   "execution_count": 120,
   "metadata": {},
   "outputs": [],
   "source": [
    "d=[]\n",
    "for i in b:\n",
    "     if i in a:\n",
    "            d.append(i)"
   ]
  },
  {
   "cell_type": "code",
   "execution_count": 122,
   "metadata": {},
   "outputs": [
    {
     "data": {
      "text/plain": [
       "{'a', 'c'}"
      ]
     },
     "execution_count": 122,
     "metadata": {},
     "output_type": "execute_result"
    }
   ],
   "source": [
    "set(d)"
   ]
  },
  {
   "cell_type": "code",
   "execution_count": 130,
   "metadata": {},
   "outputs": [
    {
     "data": {
      "text/plain": [
       "['a', 'c']"
      ]
     },
     "execution_count": 130,
     "metadata": {},
     "output_type": "execute_result"
    }
   ],
   "source": [
    "list(set(a)&set(b))"
   ]
  },
  {
   "cell_type": "code",
   "execution_count": 124,
   "metadata": {},
   "outputs": [],
   "source": [
    "s=[1,2,3,4,5,6,7,8,9,10,11,12,13,14,15,15,7,4]"
   ]
  },
  {
   "cell_type": "code",
   "execution_count": 125,
   "metadata": {},
   "outputs": [],
   "source": [
    "e=[]\n",
    "for i in s if i<=10:\n",
    "        e.append(i)\n",
    "        "
   ]
  },
  {
   "cell_type": "code",
   "execution_count": 12,
   "metadata": {},
   "outputs": [
    {
     "ename": "NameError",
     "evalue": "name 'e' is not defined",
     "output_type": "error",
     "traceback": [
      "\u001b[0;31m---------------------------------------------------------------------------\u001b[0m",
      "\u001b[0;31mNameError\u001b[0m                                 Traceback (most recent call last)",
      "\u001b[0;32m<ipython-input-12-094e3afb2fe8>\u001b[0m in \u001b[0;36m<module>\u001b[0;34m()\u001b[0m\n\u001b[0;32m----> 1\u001b[0;31m \u001b[0me\u001b[0m\u001b[0;34m\u001b[0m\u001b[0m\n\u001b[0m",
      "\u001b[0;31mNameError\u001b[0m: name 'e' is not defined"
     ]
    }
   ],
   "source": [
    "e"
   ]
  },
  {
   "cell_type": "code",
   "execution_count": 128,
   "metadata": {},
   "outputs": [],
   "source": [
    "f=[i for i in s if i<=10]"
   ]
  },
  {
   "cell_type": "code",
   "execution_count": 129,
   "metadata": {},
   "outputs": [
    {
     "data": {
      "text/plain": [
       "[1, 2, 3, 4, 5, 6, 7, 8, 9, 10, 7, 4]"
      ]
     },
     "execution_count": 129,
     "metadata": {},
     "output_type": "execute_result"
    }
   ],
   "source": [
    "f"
   ]
  },
  {
   "cell_type": "code",
   "execution_count": 132,
   "metadata": {},
   "outputs": [],
   "source": [
    "import random as r"
   ]
  },
  {
   "cell_type": "code",
   "execution_count": 136,
   "metadata": {},
   "outputs": [
    {
     "data": {
      "text/plain": [
       "2"
      ]
     },
     "execution_count": 136,
     "metadata": {},
     "output_type": "execute_result"
    }
   ],
   "source": [
    "r.randint(0,10)"
   ]
  },
  {
   "cell_type": "code",
   "execution_count": 137,
   "metadata": {},
   "outputs": [],
   "source": [
    "from math import *"
   ]
  },
  {
   "cell_type": "code",
   "execution_count": 138,
   "metadata": {},
   "outputs": [
    {
     "data": {
      "text/plain": [
       "120"
      ]
     },
     "execution_count": 138,
     "metadata": {},
     "output_type": "execute_result"
    }
   ],
   "source": [
    "factorial(5)"
   ]
  },
  {
   "cell_type": "code",
   "execution_count": 139,
   "metadata": {},
   "outputs": [
    {
     "data": {
      "text/plain": [
       "0.8939966636005579"
      ]
     },
     "execution_count": 139,
     "metadata": {},
     "output_type": "execute_result"
    }
   ],
   "source": [
    "sin(90)"
   ]
  },
  {
   "cell_type": "code",
   "execution_count": 140,
   "metadata": {},
   "outputs": [],
   "source": [
    "from math import sin,tanh,factorial"
   ]
  },
  {
   "cell_type": "code",
   "execution_count": 141,
   "metadata": {},
   "outputs": [
    {
     "ename": "TypeError",
     "evalue": "choice() takes exactly 2 arguments (1 given)",
     "output_type": "error",
     "traceback": [
      "\u001b[1;31m---------------------------------------------------------------------------\u001b[0m",
      "\u001b[1;31mTypeError\u001b[0m                                 Traceback (most recent call last)",
      "\u001b[1;32m<ipython-input-141-c526fc55d841>\u001b[0m in \u001b[0;36m<module>\u001b[1;34m()\u001b[0m\n\u001b[1;32m----> 1\u001b[1;33m \u001b[0mr\u001b[0m\u001b[1;33m.\u001b[0m\u001b[0mchoice\u001b[0m\u001b[1;33m(\u001b[0m\u001b[1;33m)\u001b[0m\u001b[1;33m\u001b[0m\u001b[0m\n\u001b[0m",
      "\u001b[1;31mTypeError\u001b[0m: choice() takes exactly 2 arguments (1 given)"
     ]
    }
   ],
   "source": [
    "r.choice()\n",
    "r.sample()\n",
    "r.randint()\n",
    "r.randrange()"
   ]
  },
  {
   "cell_type": "code",
   "execution_count": 142,
   "metadata": {},
   "outputs": [],
   "source": [
    "s=\"ABCDEFGHIJKLMNOPQRSTUVWXYZabcdefghijklmnopqrstuvwxyz0123456789`~!@#$%^&*()_+=-|\\{}[]:/?>,<\""
   ]
  },
  {
   "cell_type": "code",
   "execution_count": 149,
   "metadata": {},
   "outputs": [
    {
     "data": {
      "text/plain": [
       "'5KpNUC*e'"
      ]
     },
     "execution_count": 149,
     "metadata": {},
     "output_type": "execute_result"
    }
   ],
   "source": [
    "''.join(r.sample(s,8))"
   ]
  },
  {
   "cell_type": "code",
   "execution_count": 162,
   "metadata": {},
   "outputs": [
    {
     "name": "stdout",
     "output_type": "stream",
     "text": [
      "There is an error!!!\n"
     ]
    }
   ],
   "source": [
    "#error-handling\n",
    "try:\n",
    "    print x\n",
    "except:\n",
    "    print \"There is an error!!!\"\n"
   ]
  },
  {
   "cell_type": "code",
   "execution_count": 192,
   "metadata": {},
   "outputs": [],
   "source": [
    "#functions\n",
    "def addition(b,a=25):\n",
    "    return a+b,a*b"
   ]
  },
  {
   "cell_type": "code",
   "execution_count": 190,
   "metadata": {},
   "outputs": [
    {
     "name": "stdout",
     "output_type": "stream",
     "text": [
      "a: 10\n",
      "b: 25\n"
     ]
    },
    {
     "ename": "TypeError",
     "evalue": "addition() takes exactly 2 arguments (1 given)",
     "output_type": "error",
     "traceback": [
      "\u001b[1;31m---------------------------------------------------------------------------\u001b[0m",
      "\u001b[1;31mTypeError\u001b[0m                                 Traceback (most recent call last)",
      "\u001b[1;32m<ipython-input-190-9e9161670251>\u001b[0m in \u001b[0;36m<module>\u001b[1;34m()\u001b[0m\n\u001b[0;32m      1\u001b[0m \u001b[0ma\u001b[0m\u001b[1;33m=\u001b[0m\u001b[0minput\u001b[0m\u001b[1;33m(\u001b[0m\u001b[1;34m'a: '\u001b[0m\u001b[1;33m)\u001b[0m\u001b[1;33m\u001b[0m\u001b[0m\n\u001b[0;32m      2\u001b[0m \u001b[0mb\u001b[0m\u001b[1;33m=\u001b[0m\u001b[0minput\u001b[0m\u001b[1;33m(\u001b[0m\u001b[1;34m'b: '\u001b[0m\u001b[1;33m)\u001b[0m\u001b[1;33m\u001b[0m\u001b[0m\n\u001b[1;32m----> 3\u001b[1;33m \u001b[0mc\u001b[0m\u001b[1;33m,\u001b[0m\u001b[0mm\u001b[0m\u001b[1;33m=\u001b[0m\u001b[0maddition\u001b[0m\u001b[1;33m(\u001b[0m\u001b[0ma\u001b[0m\u001b[1;33m)\u001b[0m\u001b[1;33m\u001b[0m\u001b[0m\n\u001b[0m",
      "\u001b[1;31mTypeError\u001b[0m: addition() takes exactly 2 arguments (1 given)"
     ]
    }
   ],
   "source": [
    "a=input('a: ')\n",
    "b=input('b: ')\n",
    "c,m=addition(a)"
   ]
  },
  {
   "cell_type": "code",
   "execution_count": 188,
   "metadata": {},
   "outputs": [
    {
     "data": {
      "text/plain": [
       "20"
      ]
     },
     "execution_count": 188,
     "metadata": {},
     "output_type": "execute_result"
    }
   ],
   "source": [
    "c"
   ]
  },
  {
   "cell_type": "code",
   "execution_count": 186,
   "metadata": {},
   "outputs": [
    {
     "data": {
      "text/plain": [
       "375"
      ]
     },
     "execution_count": 186,
     "metadata": {},
     "output_type": "execute_result"
    }
   ],
   "source": [
    "m"
   ]
  },
  {
   "cell_type": "code",
   "execution_count": 177,
   "metadata": {},
   "outputs": [
    {
     "data": {
      "text/plain": [
       "'sum'"
      ]
     },
     "execution_count": 177,
     "metadata": {},
     "output_type": "execute_result"
    }
   ],
   "source": [
    "s"
   ]
  },
  {
   "cell_type": "code",
   "execution_count": 1,
   "metadata": {},
   "outputs": [],
   "source": []
  },
  {
   "cell_type": "code",
   "execution_count": 17,
   "metadata": {},
   "outputs": [],
   "source": [
    "f=open(\"tango.txt\",\"a+\")\n",
    "f.write(\"\\nhi,how are you?\")\n",
    "f.write(\"\\ni am fine\")\n",
    "f.close()"
   ]
  },
  {
   "cell_type": "code",
   "execution_count": 24,
   "metadata": {},
   "outputs": [],
   "source": [
    "f1=open('tango.txt',mode='r',encoding='utf8')"
   ]
  },
  {
   "cell_type": "code",
   "execution_count": 19,
   "metadata": {},
   "outputs": [
    {
     "data": {
      "text/plain": [
       "'hi,how are you?\\ni am finehi,how are you?\\ni am finehi,how are you?\\ni am fine\\nhi,how are you?\\ni am fine'"
      ]
     },
     "execution_count": 19,
     "metadata": {},
     "output_type": "execute_result"
    }
   ],
   "source": [
    "f1.read()"
   ]
  },
  {
   "cell_type": "code",
   "execution_count": 6,
   "metadata": {},
   "outputs": [
    {
     "data": {
      "text/plain": [
       "True"
      ]
     },
     "execution_count": 6,
     "metadata": {},
     "output_type": "execute_result"
    }
   ],
   "source": [
    "f1.readable()"
   ]
  },
  {
   "cell_type": "code",
   "execution_count": 23,
   "metadata": {},
   "outputs": [
    {
     "data": {
      "text/plain": [
       "'i am finehi,how are you?\\n'"
      ]
     },
     "execution_count": 23,
     "metadata": {},
     "output_type": "execute_result"
    }
   ],
   "source": [
    "f1.readline()"
   ]
  },
  {
   "cell_type": "code",
   "execution_count": 25,
   "metadata": {},
   "outputs": [
    {
     "data": {
      "text/plain": [
       "['hi,how are you?\\n',\n",
       " 'i am finehi,how are you?\\n',\n",
       " 'i am finehi,how are you?\\n',\n",
       " 'i am fine\\n',\n",
       " 'hi,how are you?\\n',\n",
       " 'i am fine']"
      ]
     },
     "execution_count": 25,
     "metadata": {},
     "output_type": "execute_result"
    }
   ],
   "source": [
    "f1.readlines()"
   ]
  },
  {
   "cell_type": "code",
   "execution_count": 1,
   "metadata": {},
   "outputs": [],
   "source": [
    "import numpy as np"
   ]
  },
  {
   "cell_type": "code",
   "execution_count": 2,
   "metadata": {},
   "outputs": [],
   "source": [
    "import numpy.linalg as la"
   ]
  },
  {
   "cell_type": "code",
   "execution_count": 3,
   "metadata": {},
   "outputs": [],
   "source": [
    "A=np.asmatrix([[1,2,3],[4,5,6],[7,8,9]])"
   ]
  },
  {
   "cell_type": "code",
   "execution_count": 4,
   "metadata": {},
   "outputs": [
    {
     "data": {
      "text/plain": [
       "matrix([[1, 2, 3],\n",
       "        [4, 5, 6],\n",
       "        [7, 8, 9]])"
      ]
     },
     "execution_count": 4,
     "metadata": {},
     "output_type": "execute_result"
    }
   ],
   "source": [
    "A"
   ]
  },
  {
   "cell_type": "code",
   "execution_count": 6,
   "metadata": {},
   "outputs": [
    {
     "data": {
      "text/plain": [
       "matrix([[4, 5, 6]])"
      ]
     },
     "execution_count": 6,
     "metadata": {},
     "output_type": "execute_result"
    }
   ],
   "source": [
    "A[1]"
   ]
  },
  {
   "cell_type": "code",
   "execution_count": 7,
   "metadata": {},
   "outputs": [
    {
     "data": {
      "text/plain": [
       "matrix([[2],\n",
       "        [5],\n",
       "        [8]])"
      ]
     },
     "execution_count": 7,
     "metadata": {},
     "output_type": "execute_result"
    }
   ],
   "source": [
    "A[:,1]"
   ]
  },
  {
   "cell_type": "code",
   "execution_count": 9,
   "metadata": {},
   "outputs": [
    {
     "data": {
      "text/plain": [
       "[[1, 2, 3], [4, 5, 6], [7, 8, 9]]"
      ]
     },
     "execution_count": 9,
     "metadata": {},
     "output_type": "execute_result"
    }
   ],
   "source": [
    "A.tolist()"
   ]
  },
  {
   "cell_type": "code",
   "execution_count": 11,
   "metadata": {},
   "outputs": [
    {
     "name": "stdout",
     "output_type": "stream",
     "text": [
      "[1 2 3 4 5 6 7 8 9]\n"
     ]
    }
   ],
   "source": [
    "print (np.ravel(A))"
   ]
  },
  {
   "cell_type": "code",
   "execution_count": 18,
   "metadata": {},
   "outputs": [],
   "source": [
    "B=[1, 2, 3, 4, 5, 6, 7, 8, 9]"
   ]
  },
  {
   "cell_type": "code",
   "execution_count": 19,
   "metadata": {},
   "outputs": [
    {
     "data": {
      "text/plain": [
       "array([[1, 2, 3],\n",
       "       [4, 5, 6],\n",
       "       [7, 8, 9]])"
      ]
     },
     "execution_count": 19,
     "metadata": {},
     "output_type": "execute_result"
    }
   ],
   "source": [
    "np.reshape(B,[3,3])"
   ]
  },
  {
   "cell_type": "code",
   "execution_count": 21,
   "metadata": {},
   "outputs": [
    {
     "data": {
      "text/plain": [
       "0.0"
      ]
     },
     "execution_count": 21,
     "metadata": {},
     "output_type": "execute_result"
    }
   ],
   "source": [
    "la.det(A)"
   ]
  },
  {
   "cell_type": "code",
   "execution_count": 22,
   "metadata": {},
   "outputs": [],
   "source": [
    "C=np.asmatrix([[2,1,1],[1,1,1],[1,-1,2]])"
   ]
  },
  {
   "cell_type": "code",
   "execution_count": 23,
   "metadata": {},
   "outputs": [
    {
     "data": {
      "text/plain": [
       "matrix([[ 2,  1,  1],\n",
       "        [ 1,  1,  1],\n",
       "        [ 1, -1,  2]])"
      ]
     },
     "execution_count": 23,
     "metadata": {},
     "output_type": "execute_result"
    }
   ],
   "source": [
    "C"
   ]
  },
  {
   "cell_type": "code",
   "execution_count": 26,
   "metadata": {},
   "outputs": [
    {
     "data": {
      "text/plain": [
       "2.9999999999999996"
      ]
     },
     "execution_count": 26,
     "metadata": {},
     "output_type": "execute_result"
    }
   ],
   "source": [
    "la.det(C)"
   ]
  },
  {
   "cell_type": "code",
   "execution_count": 28,
   "metadata": {},
   "outputs": [
    {
     "name": "stdout",
     "output_type": "stream",
     "text": [
      "[[ 1.         -1.          0.        ]\n",
      " [-0.33333333  1.         -0.33333333]\n",
      " [-0.66666667  1.          0.33333333]]\n"
     ]
    }
   ],
   "source": [
    "print(C.I)"
   ]
  },
  {
   "cell_type": "code",
   "execution_count": 32,
   "metadata": {},
   "outputs": [
    {
     "data": {
      "text/plain": [
       "3.142857142857143"
      ]
     },
     "execution_count": 32,
     "metadata": {},
     "output_type": "execute_result"
    }
   ],
   "source": [
    "float(22/7)"
   ]
  },
  {
   "cell_type": "code",
   "execution_count": 36,
   "metadata": {},
   "outputs": [
    {
     "data": {
      "text/plain": [
       "matrix([[1, 4, 7],\n",
       "        [2, 5, 8],\n",
       "        [3, 6, 9]])"
      ]
     },
     "execution_count": 36,
     "metadata": {},
     "output_type": "execute_result"
    }
   ],
   "source": [
    "A.T"
   ]
  },
  {
   "cell_type": "code",
   "execution_count": 37,
   "metadata": {},
   "outputs": [
    {
     "data": {
      "text/plain": [
       "matrix([[ 2,  1,  1],\n",
       "        [ 1,  1,  1],\n",
       "        [ 1, -1,  2]])"
      ]
     },
     "execution_count": 37,
     "metadata": {},
     "output_type": "execute_result"
    }
   ],
   "source": [
    "C"
   ]
  },
  {
   "cell_type": "code",
   "execution_count": 42,
   "metadata": {},
   "outputs": [],
   "source": [
    "D=np.asmatrix([[5],[4],[1]])"
   ]
  },
  {
   "cell_type": "code",
   "execution_count": 43,
   "metadata": {},
   "outputs": [
    {
     "data": {
      "text/plain": [
       "matrix([[5],\n",
       "        [4],\n",
       "        [1]])"
      ]
     },
     "execution_count": 43,
     "metadata": {},
     "output_type": "execute_result"
    }
   ],
   "source": [
    "D"
   ]
  },
  {
   "cell_type": "code",
   "execution_count": 41,
   "metadata": {},
   "outputs": [
    {
     "data": {
      "text/plain": [
       "matrix([[1.],\n",
       "        [2.],\n",
       "        [1.]])"
      ]
     },
     "execution_count": 41,
     "metadata": {},
     "output_type": "execute_result"
    }
   ],
   "source": [
    "la.solve(C,D.T)"
   ]
  },
  {
   "cell_type": "code",
   "execution_count": 44,
   "metadata": {},
   "outputs": [
    {
     "data": {
      "text/plain": [
       "array([[1., 0., 0., 0.],\n",
       "       [0., 1., 0., 0.],\n",
       "       [0., 0., 1., 0.],\n",
       "       [0., 0., 0., 1.]])"
      ]
     },
     "execution_count": 44,
     "metadata": {},
     "output_type": "execute_result"
    }
   ],
   "source": [
    "np.eye(4)"
   ]
  },
  {
   "cell_type": "code",
   "execution_count": 47,
   "metadata": {},
   "outputs": [
    {
     "data": {
      "text/plain": [
       "array([[1., 1., 1., 1.],\n",
       "       [1., 1., 1., 1.],\n",
       "       [1., 1., 1., 1.],\n",
       "       [1., 1., 1., 1.]])"
      ]
     },
     "execution_count": 47,
     "metadata": {},
     "output_type": "execute_result"
    }
   ],
   "source": [
    "np.ones([4,4])"
   ]
  },
  {
   "cell_type": "code",
   "execution_count": 49,
   "metadata": {},
   "outputs": [
    {
     "data": {
      "text/plain": [
       "array([[0., 0., 0.],\n",
       "       [0., 0., 0.],\n",
       "       [0., 0., 0.],\n",
       "       [0., 0., 0.]])"
      ]
     },
     "execution_count": 49,
     "metadata": {},
     "output_type": "execute_result"
    }
   ],
   "source": [
    "np.zeros([4,3])"
   ]
  },
  {
   "cell_type": "code",
   "execution_count": 51,
   "metadata": {},
   "outputs": [
    {
     "data": {
      "text/plain": [
       "array([[7, 7, 7],\n",
       "       [7, 7, 7],\n",
       "       [7, 7, 7]])"
      ]
     },
     "execution_count": 51,
     "metadata": {},
     "output_type": "execute_result"
    }
   ],
   "source": [
    "np.full([3,3],7)"
   ]
  },
  {
   "cell_type": "code",
   "execution_count": 52,
   "metadata": {},
   "outputs": [
    {
     "data": {
      "text/plain": [
       "matrix([[ 2,  1,  1],\n",
       "        [ 1,  1,  1],\n",
       "        [ 1, -1,  2]])"
      ]
     },
     "execution_count": 52,
     "metadata": {},
     "output_type": "execute_result"
    }
   ],
   "source": [
    "C"
   ]
  },
  {
   "cell_type": "code",
   "execution_count": 54,
   "metadata": {},
   "outputs": [
    {
     "data": {
      "text/plain": [
       "matrix([[-8.01783726e-01, -7.07106781e-01,  7.07106781e-01],\n",
       "        [-5.34522484e-01, -1.32382025e-08, -1.32382025e-08],\n",
       "        [-2.67261242e-01,  7.07106781e-01, -7.07106781e-01]])"
      ]
     },
     "execution_count": 54,
     "metadata": {},
     "output_type": "execute_result"
    }
   ],
   "source": [
    "la.eig(C)[1]"
   ]
  },
  {
   "cell_type": "code",
   "execution_count": 55,
   "metadata": {},
   "outputs": [
    {
     "data": {
      "text/plain": [
       "(array([3.        , 1.00000002, 0.99999998]),\n",
       " matrix([[-8.01783726e-01, -7.07106781e-01,  7.07106781e-01],\n",
       "         [-5.34522484e-01, -1.32382025e-08, -1.32382025e-08],\n",
       "         [-2.67261242e-01,  7.07106781e-01, -7.07106781e-01]]))"
      ]
     },
     "execution_count": 55,
     "metadata": {},
     "output_type": "execute_result"
    }
   ],
   "source": [
    "la.eig(C)"
   ]
  },
  {
   "cell_type": "code",
   "execution_count": 56,
   "metadata": {},
   "outputs": [
    {
     "data": {
      "text/plain": [
       "matrix([[1, 2, 3],\n",
       "        [4, 5, 6],\n",
       "        [7, 8, 9]])"
      ]
     },
     "execution_count": 56,
     "metadata": {},
     "output_type": "execute_result"
    }
   ],
   "source": [
    "A"
   ]
  },
  {
   "cell_type": "code",
   "execution_count": 57,
   "metadata": {},
   "outputs": [
    {
     "data": {
      "text/plain": [
       "matrix([[ 2,  1,  1],\n",
       "        [ 1,  1,  1],\n",
       "        [ 1, -1,  2]])"
      ]
     },
     "execution_count": 57,
     "metadata": {},
     "output_type": "execute_result"
    }
   ],
   "source": [
    "C"
   ]
  },
  {
   "cell_type": "code",
   "execution_count": 58,
   "metadata": {},
   "outputs": [
    {
     "data": {
      "text/plain": [
       "matrix([[ 7,  0,  9],\n",
       "        [19,  3, 21],\n",
       "        [31,  6, 33]])"
      ]
     },
     "execution_count": 58,
     "metadata": {},
     "output_type": "execute_result"
    }
   ],
   "source": [
    "A*C"
   ]
  },
  {
   "cell_type": "code",
   "execution_count": 59,
   "metadata": {},
   "outputs": [
    {
     "data": {
      "text/plain": [
       "matrix([[13, 17, 21],\n",
       "        [12, 15, 18],\n",
       "        [11, 13, 15]])"
      ]
     },
     "execution_count": 59,
     "metadata": {},
     "output_type": "execute_result"
    }
   ],
   "source": [
    "C*A"
   ]
  },
  {
   "cell_type": "code",
   "execution_count": 60,
   "metadata": {},
   "outputs": [
    {
     "data": {
      "text/plain": [
       "matrix([[ 3,  3,  4],\n",
       "        [ 5,  6,  7],\n",
       "        [ 8,  7, 11]])"
      ]
     },
     "execution_count": 60,
     "metadata": {},
     "output_type": "execute_result"
    }
   ],
   "source": [
    "A+C"
   ]
  },
  {
   "cell_type": "code",
   "execution_count": 61,
   "metadata": {},
   "outputs": [
    {
     "data": {
      "text/plain": [
       "matrix([[ 8,  4,  4],\n",
       "        [ 4,  4,  4],\n",
       "        [ 4, -4,  8]])"
      ]
     },
     "execution_count": 61,
     "metadata": {},
     "output_type": "execute_result"
    }
   ],
   "source": [
    "4*C"
   ]
  },
  {
   "cell_type": "code",
   "execution_count": 62,
   "metadata": {},
   "outputs": [
    {
     "data": {
      "text/plain": [
       "matrix([[5],\n",
       "        [4],\n",
       "        [1]])"
      ]
     },
     "execution_count": 62,
     "metadata": {},
     "output_type": "execute_result"
    }
   ],
   "source": [
    "D"
   ]
  },
  {
   "cell_type": "code",
   "execution_count": 63,
   "metadata": {},
   "outputs": [
    {
     "data": {
      "text/plain": [
       "6.48074069840786"
      ]
     },
     "execution_count": 63,
     "metadata": {},
     "output_type": "execute_result"
    }
   ],
   "source": [
    "la.norm(D)"
   ]
  },
  {
   "cell_type": "code",
   "execution_count": 65,
   "metadata": {},
   "outputs": [
    {
     "data": {
      "text/plain": [
       "6.48074069840786"
      ]
     },
     "execution_count": 65,
     "metadata": {},
     "output_type": "execute_result"
    }
   ],
   "source": [
    "np.sqrt(25+16+1)"
   ]
  },
  {
   "cell_type": "code",
   "execution_count": 71,
   "metadata": {},
   "outputs": [],
   "source": [
    "F= np.matrix(np.random.random((3,3)))"
   ]
  },
  {
   "cell_type": "code",
   "execution_count": 72,
   "metadata": {},
   "outputs": [
    {
     "data": {
      "text/plain": [
       "matrix([[0.56080439, 0.40470409, 0.9258669 ],\n",
       "        [0.07985019, 0.13827478, 0.72897899],\n",
       "        [0.76391931, 0.44739706, 0.14144427]])"
      ]
     },
     "execution_count": 72,
     "metadata": {},
     "output_type": "execute_result"
    }
   ],
   "source": [
    "F"
   ]
  },
  {
   "cell_type": "code",
   "execution_count": 73,
   "metadata": {},
   "outputs": [
    {
     "data": {
      "text/plain": [
       "(matrix([[-0.67937901,  0.45611003,  0.5748111 ],\n",
       "         [-0.46675103,  0.3358339 , -0.81814367],\n",
       "         [-0.56620459, -0.82412331, -0.01526867]]),\n",
       " array([3.35385579, 1.87740375, 0.47645204]),\n",
       " matrix([[-0.71312358, -0.17291305, -0.67937901],\n",
       "         [ 0.22580687,  0.86079899, -0.45611003],\n",
       "         [ 0.66367614, -0.47867126, -0.5748111 ]]))"
      ]
     },
     "execution_count": 73,
     "metadata": {},
     "output_type": "execute_result"
    }
   ],
   "source": [
    "la.svd(C)"
   ]
  },
  {
   "cell_type": "code",
   "execution_count": 1,
   "metadata": {},
   "outputs": [
    {
     "name": "stderr",
     "output_type": "stream",
     "text": [
      "/usr/local/lib/python3.6/dist-packages/sklearn/cross_validation.py:41: DeprecationWarning: This module was deprecated in version 0.18 in favor of the model_selection module into which all the refactored classes and functions are moved. Also note that the interface of the new CV iterators are different from that of this module. This module will be removed in 0.20.\n",
      "  \"This module will be removed in 0.20.\", DeprecationWarning)\n"
     ]
    }
   ],
   "source": [
    "import numpy as np\n",
    "import pandas as pd\n",
    "from sklearn.linear_model import LinearRegression\n",
    "from sklearn.cross_validation import train_test_split\n",
    "from sklearn import metrics\n",
    "import pickle\n"
   ]
  },
  {
   "cell_type": "code",
   "execution_count": 2,
   "metadata": {},
   "outputs": [],
   "source": [
    "data = pd.read_csv(\"./Advertising.csv\", index_col=0)"
   ]
  },
  {
   "cell_type": "code",
   "execution_count": 36,
   "metadata": {},
   "outputs": [],
   "source": [
    "feature_names = ['TV', 'radio']\n",
    "\n",
    "X = data[feature_names]\n",
    "\n",
    "y = data.sales\n"
   ]
  },
  {
   "cell_type": "code",
   "execution_count": 37,
   "metadata": {},
   "outputs": [],
   "source": [
    "X_train, X_test, y_train, y_test = train_test_split(X, y, random_state=1)"
   ]
  },
  {
   "cell_type": "code",
   "execution_count": 38,
   "metadata": {},
   "outputs": [],
   "source": [
    "linreg = LinearRegression()"
   ]
  },
  {
   "cell_type": "code",
   "execution_count": 39,
   "metadata": {},
   "outputs": [
    {
     "data": {
      "text/plain": [
       "LinearRegression(copy_X=True, fit_intercept=True, n_jobs=1, normalize=False)"
      ]
     },
     "execution_count": 39,
     "metadata": {},
     "output_type": "execute_result"
    }
   ],
   "source": [
    "linreg.fit(X_train, y_train)"
   ]
  },
  {
   "cell_type": "code",
   "execution_count": 40,
   "metadata": {},
   "outputs": [
    {
     "name": "stdout",
     "output_type": "stream",
     "text": [
      "1.3879034699382888\n"
     ]
    }
   ],
   "source": [
    "y_pred = linreg.predict(X_test)\n",
    "\n",
    "print(np.sqrt(metrics.mean_squared_error(y_test, y_pred)))"
   ]
  },
  {
   "cell_type": "code",
   "execution_count": 41,
   "metadata": {},
   "outputs": [
    {
     "data": {
      "text/plain": [
       "25.705430594456228"
      ]
     },
     "execution_count": 41,
     "metadata": {},
     "output_type": "execute_result"
    }
   ],
   "source": [
    "linreg.predict([[100,100]])[0]"
   ]
  },
  {
   "cell_type": "code",
   "execution_count": 42,
   "metadata": {},
   "outputs": [],
   "source": [
    "fname=\"tango_model.sav\"\n",
    "\n",
    "pickle.dump(linreg, open(fname, 'wb'))"
   ]
  },
  {
   "cell_type": "code",
   "execution_count": 2,
   "metadata": {},
   "outputs": [],
   "source": [
    "import pickle"
   ]
  },
  {
   "cell_type": "code",
   "execution_count": 4,
   "metadata": {},
   "outputs": [],
   "source": [
    "fname=\"tango_model.sav\"\n",
    "\n",
    "model = pickle.load(open(fname, 'rb'))"
   ]
  },
  {
   "cell_type": "code",
   "execution_count": 6,
   "metadata": {},
   "outputs": [
    {
     "data": {
      "text/plain": [
       "array([25.70543059])"
      ]
     },
     "execution_count": 6,
     "metadata": {},
     "output_type": "execute_result"
    }
   ],
   "source": [
    "model.predict([[100,100]])"
   ]
  },
  {
   "cell_type": "code",
   "execution_count": 7,
   "metadata": {},
   "outputs": [],
   "source": [
    "import pandas as pd"
   ]
  },
  {
   "cell_type": "code",
   "execution_count": 8,
   "metadata": {},
   "outputs": [],
   "source": []
  },
  {
   "cell_type": "code",
   "execution_count": 9,
   "metadata": {},
   "outputs": [
    {
     "data": {
      "text/html": [
       "<div>\n",
       "<style scoped>\n",
       "    .dataframe tbody tr th:only-of-type {\n",
       "        vertical-align: middle;\n",
       "    }\n",
       "\n",
       "    .dataframe tbody tr th {\n",
       "        vertical-align: top;\n",
       "    }\n",
       "\n",
       "    .dataframe thead th {\n",
       "        text-align: right;\n",
       "    }\n",
       "</style>\n",
       "<table border=\"1\" class=\"dataframe\">\n",
       "  <thead>\n",
       "    <tr style=\"text-align: right;\">\n",
       "      <th></th>\n",
       "      <th>id</th>\n",
       "      <th>sentiment</th>\n",
       "      <th>review</th>\n",
       "    </tr>\n",
       "  </thead>\n",
       "  <tbody>\n",
       "    <tr>\n",
       "      <th>0</th>\n",
       "      <td>5814_8</td>\n",
       "      <td>1</td>\n",
       "      <td>With all this stuff going down at the moment w...</td>\n",
       "    </tr>\n",
       "    <tr>\n",
       "      <th>1</th>\n",
       "      <td>2381_9</td>\n",
       "      <td>1</td>\n",
       "      <td>\\The Classic War of the Worlds\\\" by Timothy Hi...</td>\n",
       "    </tr>\n",
       "    <tr>\n",
       "      <th>2</th>\n",
       "      <td>7759_3</td>\n",
       "      <td>0</td>\n",
       "      <td>The film starts with a manager (Nicholas Bell)...</td>\n",
       "    </tr>\n",
       "    <tr>\n",
       "      <th>3</th>\n",
       "      <td>3630_4</td>\n",
       "      <td>0</td>\n",
       "      <td>It must be assumed that those who praised this...</td>\n",
       "    </tr>\n",
       "    <tr>\n",
       "      <th>4</th>\n",
       "      <td>9495_8</td>\n",
       "      <td>1</td>\n",
       "      <td>Superbly trashy and wondrously unpretentious 8...</td>\n",
       "    </tr>\n",
       "  </tbody>\n",
       "</table>\n",
       "</div>"
      ],
      "text/plain": [
       "       id  sentiment                                             review\n",
       "0  5814_8          1  With all this stuff going down at the moment w...\n",
       "1  2381_9          1  \\The Classic War of the Worlds\\\" by Timothy Hi...\n",
       "2  7759_3          0  The film starts with a manager (Nicholas Bell)...\n",
       "3  3630_4          0  It must be assumed that those who praised this...\n",
       "4  9495_8          1  Superbly trashy and wondrously unpretentious 8..."
      ]
     },
     "execution_count": 9,
     "metadata": {},
     "output_type": "execute_result"
    }
   ],
   "source": [
    "df.head()"
   ]
  },
  {
   "cell_type": "code",
   "execution_count": 12,
   "metadata": {},
   "outputs": [
    {
     "data": {
      "text/plain": [
       "\"With all this stuff going down at the moment with MJ i've started listening to his music, watching the odd documentary here and there, watched The Wiz and watched Moonwalker again. Maybe i just want to get a certain insight into this guy who i thought was really cool in the eighties just to maybe make up my mind whether he is guilty or innocent. Moonwalker is part biography, part feature film which i remember going to see at the cinema when it was originally released. Some of it has subtle messages about MJ's feeling towards the press and also the obvious message of drugs are bad m'kay.<br /><br />Visually impressive but of course this is all about Michael Jackson so unless you remotely like MJ in anyway then you are going to hate this and find it boring. Some may call MJ an egotist for consenting to the making of this movie BUT MJ and most of his fans would say that he made it for the fans which if true is really nice of him.<br /><br />The actual feature film bit when it finally starts is only on for 20 minutes or so excluding the Smooth Criminal sequence and Joe Pesci is convincing as a psychopathic all powerful drug lord. Why he wants MJ dead so bad is beyond me. Because MJ overheard his plans? Nah, Joe Pesci's character ranted that he wanted people to know it is he who is supplying drugs etc so i dunno, maybe he just hates MJ's music.<br /><br />Lots of cool things in this like MJ turning into a car and a robot and the whole Speed Demon sequence. Also, the director must have had the patience of a saint when it came to filming the kiddy Bad sequence as usually directors hate working with one kid let alone a whole bunch of them performing a complex dance scene.<br /><br />Bottom line, this movie is for people who like MJ on one level or another (which i think is most people). If not, then stay away. It does try and give off a wholesome message and ironically MJ's bestest buddy in this movie is a girl! Michael Jackson is truly one of the most talented people ever to grace this planet but is he guilty? Well, with all the attention i've gave this subject....hmmm well i don't know because people can be different behind closed doors, i know this for a fact. He is either an extremely nice but stupid guy or one of the most sickest liars. I hope he is not the latter.\""
      ]
     },
     "execution_count": 12,
     "metadata": {},
     "output_type": "execute_result"
    }
   ],
   "source": [
    "df[\"review\"][0]"
   ]
  },
  {
   "cell_type": "code",
   "execution_count": null,
   "metadata": {},
   "outputs": [],
   "source": [
    "1. HTML Tags  -> beautifulsoup\n",
    "2. Lower Case\n",
    "3. a-z,A-Z    -> re\n"
   ]
<<<<<<< HEAD
  },
  {
   "cell_type": "code",
   "execution_count": 22,
   "metadata": {},
   "outputs": [],
   "source": [
    "from sklearn.naive_bayes import GaussianNB,MultinomialNB\n",
    "from sklearn.metrics import accuracy_score\n",
    "import pandas as pd"
   ]
  },
  {
   "cell_type": "code",
   "execution_count": 23,
   "metadata": {},
   "outputs": [],
   "source": [
    "df = pd.read_csv(\"./weather.csv\",header=0)\n"
   ]
  },
  {
   "cell_type": "code",
   "execution_count": 30,
   "metadata": {},
   "outputs": [
    {
     "data": {
      "text/html": [
       "<div>\n",
       "<style scoped>\n",
       "    .dataframe tbody tr th:only-of-type {\n",
       "        vertical-align: middle;\n",
       "    }\n",
       "\n",
       "    .dataframe tbody tr th {\n",
       "        vertical-align: top;\n",
       "    }\n",
       "\n",
       "    .dataframe thead th {\n",
       "        text-align: right;\n",
       "    }\n",
       "</style>\n",
       "<table border=\"1\" class=\"dataframe\">\n",
       "  <thead>\n",
       "    <tr style=\"text-align: right;\">\n",
       "      <th></th>\n",
       "      <th>outlook</th>\n",
       "      <th>temperature</th>\n",
       "      <th>humidity</th>\n",
       "      <th>wind</th>\n",
       "    </tr>\n",
       "  </thead>\n",
       "  <tbody>\n",
       "    <tr>\n",
       "      <th>0</th>\n",
       "      <td>2</td>\n",
       "      <td>2</td>\n",
       "      <td>1</td>\n",
       "      <td>0</td>\n",
       "    </tr>\n",
       "    <tr>\n",
       "      <th>1</th>\n",
       "      <td>2</td>\n",
       "      <td>2</td>\n",
       "      <td>1</td>\n",
       "      <td>1</td>\n",
       "    </tr>\n",
       "    <tr>\n",
       "      <th>2</th>\n",
       "      <td>1</td>\n",
       "      <td>2</td>\n",
       "      <td>1</td>\n",
       "      <td>0</td>\n",
       "    </tr>\n",
       "    <tr>\n",
       "      <th>3</th>\n",
       "      <td>0</td>\n",
       "      <td>1</td>\n",
       "      <td>1</td>\n",
       "      <td>0</td>\n",
       "    </tr>\n",
       "    <tr>\n",
       "      <th>4</th>\n",
       "      <td>0</td>\n",
       "      <td>0</td>\n",
       "      <td>0</td>\n",
       "      <td>0</td>\n",
       "    </tr>\n",
       "    <tr>\n",
       "      <th>5</th>\n",
       "      <td>0</td>\n",
       "      <td>0</td>\n",
       "      <td>0</td>\n",
       "      <td>1</td>\n",
       "    </tr>\n",
       "    <tr>\n",
       "      <th>6</th>\n",
       "      <td>1</td>\n",
       "      <td>0</td>\n",
       "      <td>0</td>\n",
       "      <td>1</td>\n",
       "    </tr>\n",
       "    <tr>\n",
       "      <th>7</th>\n",
       "      <td>2</td>\n",
       "      <td>1</td>\n",
       "      <td>1</td>\n",
       "      <td>0</td>\n",
       "    </tr>\n",
       "    <tr>\n",
       "      <th>8</th>\n",
       "      <td>2</td>\n",
       "      <td>0</td>\n",
       "      <td>0</td>\n",
       "      <td>0</td>\n",
       "    </tr>\n",
       "    <tr>\n",
       "      <th>9</th>\n",
       "      <td>0</td>\n",
       "      <td>1</td>\n",
       "      <td>0</td>\n",
       "      <td>0</td>\n",
       "    </tr>\n",
       "    <tr>\n",
       "      <th>10</th>\n",
       "      <td>2</td>\n",
       "      <td>1</td>\n",
       "      <td>0</td>\n",
       "      <td>1</td>\n",
       "    </tr>\n",
       "    <tr>\n",
       "      <th>11</th>\n",
       "      <td>1</td>\n",
       "      <td>1</td>\n",
       "      <td>1</td>\n",
       "      <td>1</td>\n",
       "    </tr>\n",
       "    <tr>\n",
       "      <th>12</th>\n",
       "      <td>1</td>\n",
       "      <td>2</td>\n",
       "      <td>0</td>\n",
       "      <td>0</td>\n",
       "    </tr>\n",
       "    <tr>\n",
       "      <th>13</th>\n",
       "      <td>0</td>\n",
       "      <td>1</td>\n",
       "      <td>1</td>\n",
       "      <td>1</td>\n",
       "    </tr>\n",
       "  </tbody>\n",
       "</table>\n",
       "</div>"
      ],
      "text/plain": [
       "    outlook  temperature  humidity  wind\n",
       "0         2            2         1     0\n",
       "1         2            2         1     1\n",
       "2         1            2         1     0\n",
       "3         0            1         1     0\n",
       "4         0            0         0     0\n",
       "5         0            0         0     1\n",
       "6         1            0         0     1\n",
       "7         2            1         1     0\n",
       "8         2            0         0     0\n",
       "9         0            1         0     0\n",
       "10        2            1         0     1\n",
       "11        1            1         1     1\n",
       "12        1            2         0     0\n",
       "13        0            1         1     1"
      ]
     },
     "execution_count": 30,
     "metadata": {},
     "output_type": "execute_result"
    }
   ],
   "source": [
    "x = df.loc[:,:\"wind\"]\n",
    "x"
   ]
  },
  {
   "cell_type": "code",
   "execution_count": 10,
   "metadata": {},
   "outputs": [],
   "source": [
    "y = df.play"
   ]
  },
  {
   "cell_type": "code",
   "execution_count": 25,
   "metadata": {},
   "outputs": [],
   "source": [
    "model =  MultinomialNB()"
   ]
  },
  {
   "cell_type": "code",
   "execution_count": 26,
   "metadata": {},
   "outputs": [
    {
     "data": {
      "text/plain": [
       "MultinomialNB(alpha=1.0, class_prior=None, fit_prior=True)"
      ]
     },
     "execution_count": 26,
     "metadata": {},
     "output_type": "execute_result"
    }
   ],
   "source": [
    "model.fit(x,y)"
   ]
  },
  {
   "cell_type": "code",
   "execution_count": 27,
   "metadata": {},
   "outputs": [
    {
     "data": {
      "text/plain": [
       "array(['yes'], dtype='<U3')"
      ]
     },
     "execution_count": 27,
     "metadata": {},
     "output_type": "execute_result"
    }
   ],
   "source": [
    "model.predict([[2,1,1,1]])"
   ]
  },
  {
   "cell_type": "code",
   "execution_count": 28,
   "metadata": {},
   "outputs": [
    {
     "data": {
      "text/plain": [
       "array(['no', 'yes'], dtype='<U3')"
      ]
     },
     "execution_count": 28,
     "metadata": {},
     "output_type": "execute_result"
    }
   ],
   "source": [
    "model.classes_"
   ]
  },
  {
   "cell_type": "code",
   "execution_count": 29,
   "metadata": {},
   "outputs": [
    {
     "data": {
      "text/plain": [
       "array([[0.37623147, 0.62376853]])"
      ]
     },
     "execution_count": 29,
     "metadata": {},
     "output_type": "execute_result"
    }
   ],
   "source": [
    "model.predict_proba([[2,1,1,1]])"
   ]
  },
  {
   "cell_type": "code",
   "execution_count": 32,
   "metadata": {},
   "outputs": [],
   "source": [
    "import pandas as pd\n",
    "from mlxtend.preprocessing import TransactionEncoder\n",
    "from mlxtend.frequent_patterns import apriori"
   ]
  },
  {
   "cell_type": "code",
   "execution_count": 33,
   "metadata": {},
   "outputs": [],
   "source": [
    "dataset = [['Milk', 'Onion', 'Nutmeg', 'Kidney Beans', 'Eggs', 'Yogurt'],\n",
    "           ['Dill', 'Onion', 'Nutmeg', 'Kidney Beans', 'Eggs', 'Yogurt'],\n",
    "           ['Milk', 'Apple', 'Kidney Beans', 'Eggs'],\n",
    "           ['Milk', 'Unicorn', 'Corn', 'Kidney Beans', 'Yogurt'],\n",
    "           ['Corn', 'Onion', 'Onion', 'Kidney Beans', 'Ice cream', 'Eggs']]\n"
   ]
  },
  {
   "cell_type": "code",
   "execution_count": 34,
   "metadata": {},
   "outputs": [
    {
     "data": {
      "text/plain": [
       "[['Milk', 'Onion', 'Nutmeg', 'Kidney Beans', 'Eggs', 'Yogurt'],\n",
       " ['Dill', 'Onion', 'Nutmeg', 'Kidney Beans', 'Eggs', 'Yogurt'],\n",
       " ['Milk', 'Apple', 'Kidney Beans', 'Eggs'],\n",
       " ['Milk', 'Unicorn', 'Corn', 'Kidney Beans', 'Yogurt'],\n",
       " ['Corn', 'Onion', 'Onion', 'Kidney Beans', 'Ice cream', 'Eggs']]"
      ]
     },
     "execution_count": 34,
     "metadata": {},
     "output_type": "execute_result"
    }
   ],
   "source": [
    "dataset"
   ]
  },
  {
   "cell_type": "code",
   "execution_count": 35,
   "metadata": {},
   "outputs": [],
   "source": [
    "te = TransactionEncoder()\n",
    "te_ary = te.fit(dataset).transform(dataset)\n",
    "df = pd.DataFrame(te_ary, columns=te.columns_)"
   ]
  },
  {
   "cell_type": "code",
   "execution_count": 37,
   "metadata": {},
   "outputs": [
    {
     "data": {
      "text/html": [
       "<div>\n",
       "<style scoped>\n",
       "    .dataframe tbody tr th:only-of-type {\n",
       "        vertical-align: middle;\n",
       "    }\n",
       "\n",
       "    .dataframe tbody tr th {\n",
       "        vertical-align: top;\n",
       "    }\n",
       "\n",
       "    .dataframe thead th {\n",
       "        text-align: right;\n",
       "    }\n",
       "</style>\n",
       "<table border=\"1\" class=\"dataframe\">\n",
       "  <thead>\n",
       "    <tr style=\"text-align: right;\">\n",
       "      <th></th>\n",
       "      <th>Apple</th>\n",
       "      <th>Corn</th>\n",
       "      <th>Dill</th>\n",
       "      <th>Eggs</th>\n",
       "      <th>Ice cream</th>\n",
       "      <th>Kidney Beans</th>\n",
       "      <th>Milk</th>\n",
       "      <th>Nutmeg</th>\n",
       "      <th>Onion</th>\n",
       "      <th>Unicorn</th>\n",
       "      <th>Yogurt</th>\n",
       "    </tr>\n",
       "  </thead>\n",
       "  <tbody>\n",
       "    <tr>\n",
       "      <th>0</th>\n",
       "      <td>False</td>\n",
       "      <td>False</td>\n",
       "      <td>False</td>\n",
       "      <td>True</td>\n",
       "      <td>False</td>\n",
       "      <td>True</td>\n",
       "      <td>True</td>\n",
       "      <td>True</td>\n",
       "      <td>True</td>\n",
       "      <td>False</td>\n",
       "      <td>True</td>\n",
       "    </tr>\n",
       "    <tr>\n",
       "      <th>1</th>\n",
       "      <td>False</td>\n",
       "      <td>False</td>\n",
       "      <td>True</td>\n",
       "      <td>True</td>\n",
       "      <td>False</td>\n",
       "      <td>True</td>\n",
       "      <td>False</td>\n",
       "      <td>True</td>\n",
       "      <td>True</td>\n",
       "      <td>False</td>\n",
       "      <td>True</td>\n",
       "    </tr>\n",
       "    <tr>\n",
       "      <th>2</th>\n",
       "      <td>True</td>\n",
       "      <td>False</td>\n",
       "      <td>False</td>\n",
       "      <td>True</td>\n",
       "      <td>False</td>\n",
       "      <td>True</td>\n",
       "      <td>True</td>\n",
       "      <td>False</td>\n",
       "      <td>False</td>\n",
       "      <td>False</td>\n",
       "      <td>False</td>\n",
       "    </tr>\n",
       "    <tr>\n",
       "      <th>3</th>\n",
       "      <td>False</td>\n",
       "      <td>True</td>\n",
       "      <td>False</td>\n",
       "      <td>False</td>\n",
       "      <td>False</td>\n",
       "      <td>True</td>\n",
       "      <td>True</td>\n",
       "      <td>False</td>\n",
       "      <td>False</td>\n",
       "      <td>True</td>\n",
       "      <td>True</td>\n",
       "    </tr>\n",
       "    <tr>\n",
       "      <th>4</th>\n",
       "      <td>False</td>\n",
       "      <td>True</td>\n",
       "      <td>False</td>\n",
       "      <td>True</td>\n",
       "      <td>True</td>\n",
       "      <td>True</td>\n",
       "      <td>False</td>\n",
       "      <td>False</td>\n",
       "      <td>True</td>\n",
       "      <td>False</td>\n",
       "      <td>False</td>\n",
       "    </tr>\n",
       "  </tbody>\n",
       "</table>\n",
       "</div>"
      ],
      "text/plain": [
       "   Apple   Corn   Dill   Eggs  Ice cream  Kidney Beans   Milk  Nutmeg  Onion  \\\n",
       "0  False  False  False   True      False          True   True    True   True   \n",
       "1  False  False   True   True      False          True  False    True   True   \n",
       "2   True  False  False   True      False          True   True   False  False   \n",
       "3  False   True  False  False      False          True   True   False  False   \n",
       "4  False   True  False   True       True          True  False   False   True   \n",
       "\n",
       "   Unicorn  Yogurt  \n",
       "0    False    True  \n",
       "1    False    True  \n",
       "2    False   False  \n",
       "3     True    True  \n",
       "4    False   False  "
      ]
     },
     "execution_count": 37,
     "metadata": {},
     "output_type": "execute_result"
    }
   ],
   "source": [
    "df"
   ]
  },
  {
   "cell_type": "code",
   "execution_count": 42,
   "metadata": {},
   "outputs": [
    {
     "data": {
      "text/html": [
       "<div>\n",
       "<style scoped>\n",
       "    .dataframe tbody tr th:only-of-type {\n",
       "        vertical-align: middle;\n",
       "    }\n",
       "\n",
       "    .dataframe tbody tr th {\n",
       "        vertical-align: top;\n",
       "    }\n",
       "\n",
       "    .dataframe thead th {\n",
       "        text-align: right;\n",
       "    }\n",
       "</style>\n",
       "<table border=\"1\" class=\"dataframe\">\n",
       "  <thead>\n",
       "    <tr style=\"text-align: right;\">\n",
       "      <th></th>\n",
       "      <th>support</th>\n",
       "      <th>itemsets</th>\n",
       "      <th>length</th>\n",
       "    </tr>\n",
       "  </thead>\n",
       "  <tbody>\n",
       "    <tr>\n",
       "      <th>0</th>\n",
       "      <td>0.8</td>\n",
       "      <td>(Eggs)</td>\n",
       "      <td>1</td>\n",
       "    </tr>\n",
       "    <tr>\n",
       "      <th>1</th>\n",
       "      <td>1.0</td>\n",
       "      <td>(Kidney Beans)</td>\n",
       "      <td>1</td>\n",
       "    </tr>\n",
       "    <tr>\n",
       "      <th>2</th>\n",
       "      <td>0.6</td>\n",
       "      <td>(Milk)</td>\n",
       "      <td>1</td>\n",
       "    </tr>\n",
       "    <tr>\n",
       "      <th>3</th>\n",
       "      <td>0.6</td>\n",
       "      <td>(Onion)</td>\n",
       "      <td>1</td>\n",
       "    </tr>\n",
       "    <tr>\n",
       "      <th>4</th>\n",
       "      <td>0.6</td>\n",
       "      <td>(Yogurt)</td>\n",
       "      <td>1</td>\n",
       "    </tr>\n",
       "    <tr>\n",
       "      <th>5</th>\n",
       "      <td>0.8</td>\n",
       "      <td>(Eggs, Kidney Beans)</td>\n",
       "      <td>2</td>\n",
       "    </tr>\n",
       "    <tr>\n",
       "      <th>6</th>\n",
       "      <td>0.6</td>\n",
       "      <td>(Onion, Eggs)</td>\n",
       "      <td>2</td>\n",
       "    </tr>\n",
       "    <tr>\n",
       "      <th>7</th>\n",
       "      <td>0.6</td>\n",
       "      <td>(Milk, Kidney Beans)</td>\n",
       "      <td>2</td>\n",
       "    </tr>\n",
       "    <tr>\n",
       "      <th>8</th>\n",
       "      <td>0.6</td>\n",
       "      <td>(Onion, Kidney Beans)</td>\n",
       "      <td>2</td>\n",
       "    </tr>\n",
       "    <tr>\n",
       "      <th>9</th>\n",
       "      <td>0.6</td>\n",
       "      <td>(Yogurt, Kidney Beans)</td>\n",
       "      <td>2</td>\n",
       "    </tr>\n",
       "    <tr>\n",
       "      <th>10</th>\n",
       "      <td>0.6</td>\n",
       "      <td>(Onion, Eggs, Kidney Beans)</td>\n",
       "      <td>3</td>\n",
       "    </tr>\n",
       "  </tbody>\n",
       "</table>\n",
       "</div>"
      ],
      "text/plain": [
       "    support                     itemsets  length\n",
       "0       0.8                       (Eggs)       1\n",
       "1       1.0               (Kidney Beans)       1\n",
       "2       0.6                       (Milk)       1\n",
       "3       0.6                      (Onion)       1\n",
       "4       0.6                     (Yogurt)       1\n",
       "5       0.8         (Eggs, Kidney Beans)       2\n",
       "6       0.6                (Onion, Eggs)       2\n",
       "7       0.6         (Milk, Kidney Beans)       2\n",
       "8       0.6        (Onion, Kidney Beans)       2\n",
       "9       0.6       (Yogurt, Kidney Beans)       2\n",
       "10      0.6  (Onion, Eggs, Kidney Beans)       3"
      ]
     },
     "execution_count": 42,
     "metadata": {},
     "output_type": "execute_result"
    }
   ],
   "source": [
    "\n",
    "frequent_itemsets = apriori(df, min_support=0.6, use_colnames=True)\n",
    "frequent_itemsets['length'] = frequent_itemsets['itemsets'].apply(lambda x: len(x))\n",
    "frequent_itemsets"
   ]
  },
  {
   "cell_type": "code",
   "execution_count": null,
   "metadata": {},
   "outputs": [],
   "source": [
    "PCA\n",
    "NN"
   ]
||||||| 5ffaec5... updated on 25/7/18 from 19/7/18
=======
  },
  {
   "cell_type": "code",
   "execution_count": 20,
   "metadata": {},
   "outputs": [],
   "source": [
    "import pandas as pd\n",
    "import numpy as np\n",
    "import sklearn\n",
    "from sklearn.model_selection import train_test_split\n",
    "from sklearn.feature_extraction.text import CountVectorizer\n",
    "from sklearn.linear_model import LogisticRegression\n",
    "from sklearn.metrics import roc_auc_score"
   ]
  },
  {
   "cell_type": "code",
   "execution_count": 21,
   "metadata": {},
   "outputs": [
    {
     "ename": "ValueError",
     "evalue": "At least one array required as input",
     "output_type": "error",
     "traceback": [
      "\u001b[0;31m---------------------------------------------------------------------------\u001b[0m",
      "\u001b[0;31mValueError\u001b[0m                                Traceback (most recent call last)",
      "\u001b[0;32m<ipython-input-21-17075fc6fd4e>\u001b[0m in \u001b[0;36m<module>\u001b[0;34m()\u001b[0m\n\u001b[0;32m----> 1\u001b[0;31m \u001b[0mtrain_test_split\u001b[0m\u001b[0;34m(\u001b[0m\u001b[0;34m)\u001b[0m\u001b[0;34m\u001b[0m\u001b[0m\n\u001b[0m",
      "\u001b[0;32m/usr/local/lib/python3.6/dist-packages/sklearn/model_selection/_split.py\u001b[0m in \u001b[0;36mtrain_test_split\u001b[0;34m(*arrays, **options)\u001b[0m\n\u001b[1;32m   2008\u001b[0m     \u001b[0mn_arrays\u001b[0m \u001b[0;34m=\u001b[0m \u001b[0mlen\u001b[0m\u001b[0;34m(\u001b[0m\u001b[0marrays\u001b[0m\u001b[0;34m)\u001b[0m\u001b[0;34m\u001b[0m\u001b[0m\n\u001b[1;32m   2009\u001b[0m     \u001b[0;32mif\u001b[0m \u001b[0mn_arrays\u001b[0m \u001b[0;34m==\u001b[0m \u001b[0;36m0\u001b[0m\u001b[0;34m:\u001b[0m\u001b[0;34m\u001b[0m\u001b[0m\n\u001b[0;32m-> 2010\u001b[0;31m         \u001b[0;32mraise\u001b[0m \u001b[0mValueError\u001b[0m\u001b[0;34m(\u001b[0m\u001b[0;34m\"At least one array required as input\"\u001b[0m\u001b[0;34m)\u001b[0m\u001b[0;34m\u001b[0m\u001b[0m\n\u001b[0m\u001b[1;32m   2011\u001b[0m     \u001b[0mtest_size\u001b[0m \u001b[0;34m=\u001b[0m \u001b[0moptions\u001b[0m\u001b[0;34m.\u001b[0m\u001b[0mpop\u001b[0m\u001b[0;34m(\u001b[0m\u001b[0;34m'test_size'\u001b[0m\u001b[0;34m,\u001b[0m \u001b[0;34m'default'\u001b[0m\u001b[0;34m)\u001b[0m\u001b[0;34m\u001b[0m\u001b[0m\n\u001b[1;32m   2012\u001b[0m     \u001b[0mtrain_size\u001b[0m \u001b[0;34m=\u001b[0m \u001b[0moptions\u001b[0m\u001b[0;34m.\u001b[0m\u001b[0mpop\u001b[0m\u001b[0;34m(\u001b[0m\u001b[0;34m'train_size'\u001b[0m\u001b[0;34m,\u001b[0m \u001b[0;32mNone\u001b[0m\u001b[0;34m)\u001b[0m\u001b[0;34m\u001b[0m\u001b[0m\n",
      "\u001b[0;31mValueError\u001b[0m: At least one array required as input"
     ]
    }
   ],
   "source": [
    "train_test_split()"
   ]
  },
  {
   "cell_type": "code",
   "execution_count": 22,
   "metadata": {},
   "outputs": [],
   "source": [
    "df = pd.read_csv(\"labeledTrainData.tsv\", header=0, delimiter=\"\\t\", quoting=0)\n"
   ]
  },
  {
   "cell_type": "code",
   "execution_count": 23,
   "metadata": {},
   "outputs": [
    {
     "data": {
      "text/html": [
       "<div>\n",
       "<style scoped>\n",
       "    .dataframe tbody tr th:only-of-type {\n",
       "        vertical-align: middle;\n",
       "    }\n",
       "\n",
       "    .dataframe tbody tr th {\n",
       "        vertical-align: top;\n",
       "    }\n",
       "\n",
       "    .dataframe thead th {\n",
       "        text-align: right;\n",
       "    }\n",
       "</style>\n",
       "<table border=\"1\" class=\"dataframe\">\n",
       "  <thead>\n",
       "    <tr style=\"text-align: right;\">\n",
       "      <th></th>\n",
       "      <th>id</th>\n",
       "      <th>sentiment</th>\n",
       "      <th>review</th>\n",
       "    </tr>\n",
       "  </thead>\n",
       "  <tbody>\n",
       "    <tr>\n",
       "      <th>0</th>\n",
       "      <td>5814_8</td>\n",
       "      <td>1</td>\n",
       "      <td>With all this stuff going down at the moment w...</td>\n",
       "    </tr>\n",
       "    <tr>\n",
       "      <th>1</th>\n",
       "      <td>2381_9</td>\n",
       "      <td>1</td>\n",
       "      <td>\\The Classic War of the Worlds\\\" by Timothy Hi...</td>\n",
       "    </tr>\n",
       "    <tr>\n",
       "      <th>2</th>\n",
       "      <td>7759_3</td>\n",
       "      <td>0</td>\n",
       "      <td>The film starts with a manager (Nicholas Bell)...</td>\n",
       "    </tr>\n",
       "    <tr>\n",
       "      <th>3</th>\n",
       "      <td>3630_4</td>\n",
       "      <td>0</td>\n",
       "      <td>It must be assumed that those who praised this...</td>\n",
       "    </tr>\n",
       "    <tr>\n",
       "      <th>4</th>\n",
       "      <td>9495_8</td>\n",
       "      <td>1</td>\n",
       "      <td>Superbly trashy and wondrously unpretentious 8...</td>\n",
       "    </tr>\n",
       "  </tbody>\n",
       "</table>\n",
       "</div>"
      ],
      "text/plain": [
       "       id  sentiment                                             review\n",
       "0  5814_8          1  With all this stuff going down at the moment w...\n",
       "1  2381_9          1  \\The Classic War of the Worlds\\\" by Timothy Hi...\n",
       "2  7759_3          0  The film starts with a manager (Nicholas Bell)...\n",
       "3  3630_4          0  It must be assumed that those who praised this...\n",
       "4  9495_8          1  Superbly trashy and wondrously unpretentious 8..."
      ]
     },
     "execution_count": 23,
     "metadata": {},
     "output_type": "execute_result"
    }
   ],
   "source": [
    "df.head()"
   ]
  },
  {
   "cell_type": "code",
   "execution_count": 24,
   "metadata": {},
   "outputs": [],
   "source": [
    "df.dropna(inplace=True)\n"
   ]
  },
  {
   "cell_type": "code",
   "execution_count": 25,
   "metadata": {},
   "outputs": [],
   "source": [
    "df[\"Rated\"]=np.where(df['sentiment']>0,1,0)"
   ]
  },
  {
   "cell_type": "code",
   "execution_count": 26,
   "metadata": {},
   "outputs": [
    {
     "data": {
      "text/plain": [
       "25000"
      ]
     },
     "execution_count": 26,
     "metadata": {},
     "output_type": "execute_result"
    }
   ],
   "source": [
    "len(df)"
   ]
  },
  {
   "cell_type": "code",
   "execution_count": 27,
   "metadata": {},
   "outputs": [],
   "source": [
    "X_train, X_test, y_train, y_test = train_test_split(df['review'],df['Rated'],random_state=21)"
   ]
  },
  {
   "cell_type": "code",
   "execution_count": 28,
   "metadata": {},
   "outputs": [],
   "source": [
    "vect=CountVectorizer(min_df=5,ngram_range=(1,2)).fit(X_train)\n",
    "\n",
    "X_train_vetorised=vect.transform(X_train)"
   ]
  },
  {
   "cell_type": "code",
   "execution_count": null,
   "metadata": {},
   "outputs": [],
   "source": [
    "model=LogisticRegression()\n",
    "\n",
    "model.fit(X_train_vetorised,y_train)\n",
    "\n",
    "clf = svm.SVC(kernel='linear', C = 1.0,probability=True)\n",
    "\n",
    "clf.fit(X_train_vetorised,y_train)"
   ]
  },
  {
   "cell_type": "code",
   "execution_count": null,
   "metadata": {},
   "outputs": [],
   "source": [
    "\n",
    "predictions=model.predict(vect.transform(X_test))\n",
    "\n",
    "print (\"AUC Logistic:\",roc_auc_score(y_test,predictions))\n",
    "\n",
    "predictions=clf.predict(vect.transform(X_test))\n",
    "\n",
    "print (\"AUC SVM:\",roc_auc_score(y_test,predictions))\n"
   ]
  },
  {
   "cell_type": "code",
   "execution_count": 43,
   "metadata": {
    "scrolled": true
   },
   "outputs": [
    {
     "name": "stdout",
     "output_type": "stream",
     "text": [
      "enter the review :One of the worst movie I have seen in 2009 so far: The story hesitates between a silly thriller or a dumb comedy.<br /><br />As nothings happens, the void is filled with long, boring dialogs that don't make any sense! <br /><br />The cast is famous but doesn't bring any emotions except to fast-forward the play! <br /><br />And it happens in a plush seaside hotel that looks really gloomy. In comparison, the one of the \\\"Shining\\\" is funfair! <br /><br />NB: a lot of users think that it is located in the French Riviera! They are wrong! It isn't the south of France (Nice, Cannes) but totally the opposite: Cabourg & Normandy, to be simple the beaches of the D-Day! That's why the sea is as grey as the sky and there isn't sun!\n",
      "[0]\n",
      "[[0.99740394 0.00259606]]\n"
     ]
    }
   ],
   "source": [
    "test = input(\"enter the review :\")\n",
    "print(model.predict(vect.transform([test])))\n",
    "print(model.predict_proba(vect.transform([test])))\n"
   ]
  },
  {
   "cell_type": "code",
   "execution_count": 25,
   "metadata": {},
   "outputs": [
    {
     "data": {
      "text/plain": [
       "array([0, 1])"
      ]
     },
     "execution_count": 25,
     "metadata": {},
     "output_type": "execute_result"
    }
   ],
   "source": [
    "model.classes_"
   ]
  },
  {
   "cell_type": "code",
   "execution_count": 46,
   "metadata": {},
   "outputs": [
    {
     "name": "stdout",
     "output_type": "stream",
     "text": [
      "small coeff :  ['worst' 'waste' 'boring' 'awful' 'disappointment' 'poor' 'poorly'\n",
      " 'disappointing' 'terrible' 'lacks' 'worse' 'horrible' 'laughable' 'lame'\n",
      " 'dull' 'fails' 'not worth' 'mess' 'not even' 'ridiculous' 'unfortunately'\n",
      " 'the worst' 'avoid' 'badly' 'save' 'annoying' 'basically' 'bad' 'wonder'\n",
      " 'the good' 'script' 'oh' 'weak' 'at all' 'pointless' 'forgettable'\n",
      " 'not good' 'unfunny' 'not funny' 'than this' 'wooden' 'pretentious'\n",
      " 'waste of' 'couldn' 'stupid' 'at best' 'way too' 'painful' 'effort'\n",
      " 'bored']\n",
      "large coeff :  ['excellent' 'perfect' 'wonderful' 'amazing' 'very good' 'enjoyable'\n",
      " 'superb' 'today' 'brilliant' 'great' 'incredible' 'entertaining'\n",
      " 'love this' '10 10' 'definitely worth' 'you don' 'wonderfully'\n",
      " 'well worth' 'simple' 'hilarious' 'fun' 'better than' 'fantastic'\n",
      " 'must see' 'favorite' 'believable' 'on dvd' 'gem' 'subtitles'\n",
      " 'refreshing' 'recommended' 'rare' 'enjoy' 'perfectly' 'bit' 'powerful'\n",
      " 'strong' 'moving' 'of what' 'expecting' 'realistic' 'sweet' 'the way'\n",
      " 'enjoyed' 'and found' 'surprisingly' 'genius' 'subtle' 'outstanding'\n",
      " 'innocent']\n"
     ]
    }
   ],
   "source": [
    "\n",
    "feature_name=np.array(vect.get_feature_names())\n",
    "\n",
    "sort_coeff=model.coef_[0].argsort()\n",
    "\n",
    "print (\"small coeff : \",feature_name[sort_coeff[:50]])\n",
    "\n",
    "print (\"large coeff : \",feature_name[sort_coeff[:-51:-1]])"
   ]
  },
  {
   "cell_type": "code",
   "execution_count": 29,
   "metadata": {},
   "outputs": [
    {
     "data": {
      "text/plain": [
       "array([121300, 116142,  16389, ..., 120794,  78537,  34256])"
      ]
     },
     "execution_count": 29,
     "metadata": {},
     "output_type": "execute_result"
    }
   ],
   "source": [
    "sort_coeff"
   ]
  },
  {
   "cell_type": "code",
   "execution_count": 17,
   "metadata": {},
   "outputs": [
    {
     "data": {
      "text/plain": [
       "SVC(C=2.0, cache_size=200, class_weight=None, coef0=0.0,\n",
       "  decision_function_shape='ovr', degree=3, gamma='auto', kernel='linear',\n",
       "  max_iter=-1, probability=True, random_state=None, shrinking=True,\n",
       "  tol=0.001, verbose=False)"
      ]
     },
     "execution_count": 17,
     "metadata": {},
     "output_type": "execute_result"
    }
   ],
   "source": [
    "import numpy as np\n",
    "from sklearn import svm\n",
    "\n",
    "x =np.array([[1,2],\n",
    "             [5,8],\n",
    "             [1.5,1.8],\n",
    "             [8,8],\n",
    "             [1,0.6],\n",
    "             [9,11]])\n",
    "y = [0,1,0,1,0,1]\n",
    "\n",
    "clf = svm.SVC(kernel='linear', C = 2.0,probability=True)\n",
    "clf.fit(x,y)\n",
    "\n"
   ]
  },
  {
   "cell_type": "code",
   "execution_count": 18,
   "metadata": {},
   "outputs": [
    {
     "name": "stdout",
     "output_type": "stream",
     "text": [
      "[0]\n",
      "[1]\n"
     ]
    }
   ],
   "source": [
    "\n",
    "print (clf.predict([[0.58,0.76]]))\n",
    "\n",
    "print (clf.predict([[13.58,20.76]]))"
   ]
  },
  {
   "cell_type": "code",
   "execution_count": 19,
   "metadata": {},
   "outputs": [
    {
     "data": {
      "text/plain": [
       "array([[0.45126948, 0.54873052]])"
      ]
     },
     "execution_count": 19,
     "metadata": {},
     "output_type": "execute_result"
    }
   ],
   "source": [
    "clf.predict_proba([[5.1,5]])"
   ]
  },
  {
   "cell_type": "code",
   "execution_count": null,
   "metadata": {},
   "outputs": [],
   "source": [
    "#K-means\n",
    "#K-NN"
   ]
  },
  {
   "cell_type": "code",
   "execution_count": null,
   "metadata": {},
   "outputs": [],
   "source": [
    "http://dataaspirant.com/2015/04/11/five-most-popular-similarity-measures-implementation-in-python/"
   ]
  },
  {
   "cell_type": "code",
   "execution_count": 6,
   "metadata": {
    "scrolled": true
   },
   "outputs": [
    {
     "name": "stdout",
     "output_type": "stream",
     "text": [
      "[[ 1.16666667  1.46666667]\n",
      " [ 6.5         8.        ]\n",
      " [ 9.         11.        ]]\n",
      "[0 1 0 1 0 2]\n"
     ]
    }
   ],
   "source": [
    "import numpy as np\n",
    "import matplotlib.pyplot as plt\n",
    "from matplotlib import style\n",
    "from sklearn.cluster import KMeans\n",
    "\n",
    "X = np.array([[1, 2],\n",
    "              [5, 8],\n",
    "              [1.5, 1.8],\n",
    "              [8, 8],\n",
    "              [1, 0.6],\n",
    "              [9, 11]])\n",
    "kmeans = KMeans(n_clusters=3)\n",
    "kmeans.fit(X)\n",
    "\n",
    "centroids = kmeans.cluster_centers_\n",
    "labels = kmeans.labels_\n",
    "\n",
    "print(centroids)\n",
    "print(labels)"
   ]
  },
  {
   "cell_type": "code",
   "execution_count": 7,
   "metadata": {},
   "outputs": [
    {
     "name": "stdout",
     "output_type": "stream",
     "text": [
      "coordinate: [1. 2.] label: 0\n",
      "coordinate: [5. 8.] label: 1\n",
      "coordinate: [1.5 1.8] label: 0\n",
      "coordinate: [8. 8.] label: 1\n",
      "coordinate: [1.  0.6] label: 0\n",
      "coordinate: [ 9. 11.] label: 2\n"
     ]
    },
    {
     "ename": "IndexError",
     "evalue": "index 2 is out of bounds for axis 1 with size 2",
     "output_type": "error",
     "traceback": [
      "\u001b[0;31m---------------------------------------------------------------------------\u001b[0m",
      "\u001b[0;31mIndexError\u001b[0m                                Traceback (most recent call last)",
      "\u001b[0;32m<ipython-input-7-5f2e8fbc8feb>\u001b[0m in \u001b[0;36m<module>\u001b[0;34m()\u001b[0m\n\u001b[1;32m      6\u001b[0m \u001b[0;34m\u001b[0m\u001b[0m\n\u001b[1;32m      7\u001b[0m \u001b[0;34m\u001b[0m\u001b[0m\n\u001b[0;32m----> 8\u001b[0;31m \u001b[0mplt\u001b[0m\u001b[0;34m.\u001b[0m\u001b[0mscatter\u001b[0m\u001b[0;34m(\u001b[0m\u001b[0mcentroids\u001b[0m\u001b[0;34m[\u001b[0m\u001b[0;34m:\u001b[0m\u001b[0;34m,\u001b[0m \u001b[0;36m0\u001b[0m\u001b[0;34m]\u001b[0m\u001b[0;34m,\u001b[0m\u001b[0mcentroids\u001b[0m\u001b[0;34m[\u001b[0m\u001b[0;34m:\u001b[0m\u001b[0;34m,\u001b[0m \u001b[0;36m1\u001b[0m\u001b[0;34m]\u001b[0m\u001b[0;34m,\u001b[0m\u001b[0mcentroids\u001b[0m\u001b[0;34m[\u001b[0m\u001b[0;34m:\u001b[0m\u001b[0;34m,\u001b[0m \u001b[0;36m2\u001b[0m\u001b[0;34m]\u001b[0m\u001b[0;34m,\u001b[0m \u001b[0mmarker\u001b[0m \u001b[0;34m=\u001b[0m \u001b[0;34m\"x\"\u001b[0m\u001b[0;34m,\u001b[0m \u001b[0ms\u001b[0m\u001b[0;34m=\u001b[0m\u001b[0;36m150\u001b[0m\u001b[0;34m,\u001b[0m \u001b[0mlinewidths\u001b[0m \u001b[0;34m=\u001b[0m \u001b[0;36m5\u001b[0m\u001b[0;34m,\u001b[0m \u001b[0mzorder\u001b[0m \u001b[0;34m=\u001b[0m \u001b[0;36m10\u001b[0m\u001b[0;34m)\u001b[0m\u001b[0;34m\u001b[0m\u001b[0m\n\u001b[0m\u001b[1;32m      9\u001b[0m \u001b[0;34m\u001b[0m\u001b[0m\n\u001b[1;32m     10\u001b[0m \u001b[0mplt\u001b[0m\u001b[0;34m.\u001b[0m\u001b[0mshow\u001b[0m\u001b[0;34m(\u001b[0m\u001b[0;34m)\u001b[0m\u001b[0;34m\u001b[0m\u001b[0m\n",
      "\u001b[0;31mIndexError\u001b[0m: index 2 is out of bounds for axis 1 with size 2"
     ]
    },
    {
     "data": {
      "image/png": "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\n",
      "text/plain": [
       "<Figure size 432x288 with 1 Axes>"
      ]
     },
     "metadata": {},
     "output_type": "display_data"
    }
   ],
   "source": [
    "colors = [\"g.\",\"r.\",\"c.\",\"y.\"]\n",
    "\n",
    "for i in range(len(X)):\n",
    "    print(\"coordinate:\",X[i], \"label:\", labels[i])\n",
    "    plt.plot(X[i][0], X[i][1], colors[labels[i]], markersize = 10)\n",
    "\n",
    "\n",
    "plt.scatter(centroids[:, 0],centroids[:, 1],centroids[:, 2], marker = \"x\", s=150, linewidths = 5, zorder = 10)\n",
    "\n",
    "plt.show()"
   ]
  },
  {
   "cell_type": "code",
   "execution_count": 21,
   "metadata": {},
   "outputs": [
    {
     "data": {
      "image/png": "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\n",
      "text/plain": [
       "<Figure size 432x288 with 1 Axes>"
      ]
     },
     "metadata": {},
     "output_type": "display_data"
    },
    {
     "name": "stdout",
     "output_type": "stream",
     "text": [
      "[[217.54074074  36.14814815]\n",
      " [ 69.528       24.256     ]\n",
      " [ 22.18571429  25.53142857]\n",
      " [179.91428571  21.08928571]\n",
      " [230.53684211  11.34210526]\n",
      " [132.992       24.048     ]\n",
      " [275.79583333  25.7625    ]\n",
      " [ 97.55882353   8.9       ]]\n",
      "[0 2 2 5 3 2 1 5 2 3 1 0 2 7 0 0 1 6 1 5 0 4 2 4 1 6 5 4 4 1 6 7 7 6 7 6 6\n",
      " 1 2 0 0 3 6 4 2 3 7 0 4 1 3 7 0 3 6 0 2 5 0 0 1 6 4 7 5 1 2 5 4 0 0 7 2 5\n",
      " 0 2 2 5 2 7 1 4 1 1 0 3 1 5 1 5 5 2 0 6 7 3 3 3 6 5 4 6 6 3 0 5 2 7 2 6 4\n",
      " 0 3 0 1 1 5 7 5 2 5 2 4 5 0 7 2 7 0 1 2 6 2 0 2 1 2 6 2 3 1 3 0 7 7 5 4 0\n",
      " 2 2 6 5 3 3 3 2 1 5 2 5 3 1 3 3 5 4 2 4 0 6 1 3 2 3 4 6 4 3 6 3 3 4 1 6 6\n",
      " 0 5 3 6 2 2 1 2 3 5 2 7 3 6 4]\n"
     ]
    },
    {
     "data": {
      "image/png": "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\n",
      "text/plain": [
       "<Figure size 432x288 with 1 Axes>"
      ]
     },
     "metadata": {},
     "output_type": "display_data"
    }
   ],
   "source": [
    "import numpy as np\n",
    "import pandas as pd\n",
    "import matplotlib.pyplot as plt\n",
    "from matplotlib import style\n",
    "style.use(\"ggplot\")\n",
    "from sklearn.cluster import KMeans\n",
    "\n",
    "data = pd.read_csv(\"./Advertising.csv\", index_col=0)\n",
    "\n",
    "feature_names = ['TV', 'radio']\n",
    "\n",
    "X = data[feature_names]\n",
    "X =np.asarray(X)\n",
    "for i in range(len(X)):\n",
    "    plt.scatter(X[i][0],X[i][1])\n",
    "plt.show()\n",
    "kmeans = KMeans().fit(X)\n",
    "\n",
    "centroids = kmeans.cluster_centers_\n",
    "labels = kmeans.labels_\n",
    "\n",
    "print(centroids)\n",
    "print(labels)\n",
    "\n",
    "colors = [\"g.\",\"r.\",\"c.\",\"y.\",\"b.\",\"k.\",\"m.\",\"y.\"]\n",
    "\n",
    "for i in range(len(X)):\n",
    "    #print(\"coordinate:\",X[i], \"label:\", labels[i])\n",
    "    plt.plot(X[i][0], X[i][1], colors[labels[i]], markersize = 10)"
   ]
  },
  {
   "cell_type": "code",
   "execution_count": 12,
   "metadata": {},
   "outputs": [
    {
     "data": {
      "text/plain": [
       "200"
      ]
     },
     "execution_count": 12,
     "metadata": {},
     "output_type": "execute_result"
    }
   ],
   "source": [
    "len(X)"
   ]
  },
  {
   "cell_type": "code",
   "execution_count": 29,
   "metadata": {},
   "outputs": [
    {
     "data": {
      "image/png": "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\n",
      "text/plain": [
       "<Figure size 432x288 with 1 Axes>"
      ]
     },
     "metadata": {},
     "output_type": "display_data"
    }
   ],
   "source": [
    "import numpy as np\n",
    "from scipy.cluster.hierarchy import linkage,dendrogram\n",
    "import matplotlib.pyplot as plt\n",
    "\n",
    "x=np.array([[1,1],[1.1,1.1],[3,3],[4,4],[3,3.5],[3.5,4]])\n",
    "\n",
    "#plt.scatter(x[:,0],x[:,1],s=50)\n",
    "\n",
    "linkage_matrix=linkage(x,\"single\")\n",
    "\n",
    "dend=dendrogram(linkage_matrix,truncate_mode='lastp',p=8)\n",
    "\n",
    "plt.title(\"Hierarchial clustering\")\n",
    "\n",
    "plt.show()\n"
   ]
  },
  {
   "cell_type": "code",
   "execution_count": null,
   "metadata": {},
   "outputs": [],
   "source": []
>>>>>>> parent of 5ffaec5... updated on 25/7/18 from 19/7/18
  }
 ],
 "metadata": {
  "kernelspec": {
   "display_name": "Python 3",
   "language": "python",
   "name": "python3"
  },
  "language_info": {
   "codemirror_mode": {
    "name": "ipython",
    "version": 3
   },
   "file_extension": ".py",
   "mimetype": "text/x-python",
   "name": "python",
   "nbconvert_exporter": "python",
   "pygments_lexer": "ipython3",
   "version": "3.6.5"
  }
 },
 "nbformat": 4,
 "nbformat_minor": 2
}
