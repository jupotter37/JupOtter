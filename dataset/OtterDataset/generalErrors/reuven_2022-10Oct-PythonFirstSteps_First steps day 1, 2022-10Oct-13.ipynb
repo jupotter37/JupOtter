{
 "cells": [
  {
   "cell_type": "markdown",
   "metadata": {},
   "source": [
    "# Agenda\n",
    "\n",
    "1. Fundamentals and core concepts\n",
    "    - Values\n",
    "    - Variables\n",
    "    - Different value types\n",
    "    - Comparisons\n",
    "    - `if` and `else` -- conditions\n",
    "    - Numbers\n",
    "    - Text (\"strings\")\n",
    "2. Loops, lists, and tuples\n",
    "    - Loops -- repeating yourself with `for` and `while`\n",
    "    - Lists -- a container for other data\n",
    "    - Tuples -- another container (a little bit)\n",
    "    - Unpacking \n",
    "3. Dictionaries and files\n",
    "    - Creating dicts\n",
    "    - Retrieving from dicts\n",
    "    - Looping over dicts\n",
    "    - Reading from (text) files\n",
    "    - Writing to (text) files\n",
    "4. Functions\n",
    "    - How do we define our own new functions, to add to Python's vocabulary?\n",
    "    - How do functions accept arguments, and assign them to parameters?\n",
    "5. Modules and packages\n",
    "    - Using other modules\n",
    "    - Writing our own modules\n",
    "    - PyPI and downloading packages from the Internet\n"
   ]
  },
  {
   "cell_type": "markdown",
   "metadata": {},
   "source": [
    "# Jupyter\n",
    "\n",
    "Jupyter is a program that lets you pretend that Python is running in your browser. Moreover, it works with about 50 other programming languages (or so I've heard). And you can have text, along with Python, in your notebook.\n",
    "\n",
    "Jupyter works based on a system of \"cells,\" into which we can type. Each cell has a mode:\n",
    "\n",
    "- Text (in something known as \"markdown\")\n",
    "- Code (in Python and others)\n",
    "\n",
    "This cell, into which I'm typing now, is a markdown cell.  I can indicate that I'm done writing/editing by pressing shift+enter."
   ]
  },
  {
   "cell_type": "code",
   "execution_count": 1,
   "metadata": {},
   "outputs": [
    {
     "name": "stdout",
     "output_type": "stream",
     "text": [
      "hello!\n"
     ]
    }
   ],
   "source": [
    "# this cell contains Python code\n",
    "# these lines, which start with #, are comments -- Python ignores anything on this line\n",
    "\n",
    "print('hello!')    \n",
    "\n",
    "# press shift+enter, and the Python code will execute"
   ]
  },
  {
   "cell_type": "markdown",
   "metadata": {},
   "source": [
    "# Cool Jupyter tricks\n",
    "\n",
    "Jupyter has two \"modes\" for input:\n",
    "\n",
    "- Edit mode, in which anything we type goes into the current cell.  Click inside of a cell, or press ENTER, to start edit mode. You'll see a green outline around the cell.\n",
    "- Command mode, in which anything we type (usually 1 character) is a command that Jupyter interprets.  Click to the left of a cell, or press ESC, to start command mode. You'll see a blue outline around the cell.\n",
    "\n",
    "In command mode, you can issue a bunch of commands:\n",
    "\n",
    "- `c` -- copy the current cell\n",
    "- `x` -- cut the current cell\n",
    "- `v` -- paste the current cell\n",
    "- `h` -- get help -- what are the commands I can use?\n",
    "- `a` -- create a new, empty cell above the current one\n",
    "- `b` -- create a new, empty cell below the current one\n",
    "- `m` -- make the current cell in markdown (formatted text) mode\n",
    "- `y` -- make the current cell in code (Python) mode"
   ]
  },
  {
   "cell_type": "code",
   "execution_count": 2,
   "metadata": {},
   "outputs": [
    {
     "name": "stdout",
     "output_type": "stream",
     "text": [
      "Hello!\n"
     ]
    }
   ],
   "source": [
    "print('Hello!')     # this executes the \"print\" function, and asks it to display the text 'Hello!' on the screen"
   ]
  },
  {
   "cell_type": "code",
   "execution_count": 3,
   "metadata": {},
   "outputs": [],
   "source": [
    "# we need quotes around text\n",
    "# if we don't have quotes there, then Python will look for a function or variable with that name\n",
    "\n",
    "# whenever you want text to be displayed literally, put quotes around it\n",
    "# it doesn't matter whether you use ' or \", but it's traditional to use '"
   ]
  },
  {
   "cell_type": "code",
   "execution_count": 4,
   "metadata": {},
   "outputs": [
    {
     "name": "stdout",
     "output_type": "stream",
     "text": [
      "Reuven\n"
     ]
    }
   ],
   "source": [
    "print('Reuven')"
   ]
  },
  {
   "cell_type": "code",
   "execution_count": 5,
   "metadata": {},
   "outputs": [
    {
     "name": "stdout",
     "output_type": "stream",
     "text": [
      "2 + 2 = 4\n"
     ]
    }
   ],
   "source": [
    "print('2 + 2 = 4')"
   ]
  },
  {
   "cell_type": "code",
   "execution_count": 6,
   "metadata": {},
   "outputs": [],
   "source": [
    "# I want to be able to store data once, and use it many times\n",
    "# we can do that in a *variable*\n",
    "# variables are sort of like pronouns\n",
    "\n",
    "# assigning a value to a variable -- the value ('Reuven') is on the right, and the variable is on the left\n",
    "# notice that we use = for assignment.  This is *NOT* the same as = in mathematics!\n",
    "\n",
    "# when we use = for assignment, we're saying: Take the value on the right, and assign it to the variable on the left\n",
    "# Python is a \"dynamic\" language, meaning that any variable can contain any value.\n",
    "# Thus, we don't need to \"declare\" our variables in advance. \n",
    "# The first time you assign to a variable, it is created\n",
    "# The second time you assign to a variable, the new value is assigned to it, but the same variable exists\n",
    "\n",
    "name = 'Reuven'"
   ]
  },
  {
   "cell_type": "code",
   "execution_count": 7,
   "metadata": {},
   "outputs": [
    {
     "name": "stdout",
     "output_type": "stream",
     "text": [
      "Reuven\n"
     ]
    }
   ],
   "source": [
    "print(name)   # this is exactly the same as print('Reuven'), but more flexible"
   ]
  },
  {
   "cell_type": "code",
   "execution_count": 8,
   "metadata": {},
   "outputs": [
    {
     "name": "stdout",
     "output_type": "stream",
     "text": [
      "Hello, Reuven!\n"
     ]
    }
   ],
   "source": [
    "# What if I want to add some text before and after my name?\n",
    "# + allows us to join text strings together, getting a new one\n",
    "\n",
    "print('Hello, ' + name + '!')"
   ]
  },
  {
   "cell_type": "code",
   "execution_count": 9,
   "metadata": {},
   "outputs": [
    {
     "name": "stdout",
     "output_type": "stream",
     "text": [
      "Hello,Reuven!\n"
     ]
    }
   ],
   "source": [
    "print('Hello,' + name + '!')"
   ]
  },
  {
   "cell_type": "code",
   "execution_count": 10,
   "metadata": {},
   "outputs": [
    {
     "name": "stdout",
     "output_type": "stream",
     "text": [
      "30\n"
     ]
    }
   ],
   "source": [
    "# Just as we can assign text (\"string\") values to variables, we can also\n",
    "# assign numeric values to variables.  Don't put quotes around numbers:\n",
    "\n",
    "x = 10\n",
    "y = 20\n",
    "\n",
    "print(x+y)  # we can use + with numbers (not surprisingly), and after adding two numbers, we get a new number"
   ]
  },
  {
   "cell_type": "code",
   "execution_count": 11,
   "metadata": {},
   "outputs": [
    {
     "name": "stdout",
     "output_type": "stream",
     "text": [
      "1020\n"
     ]
    }
   ],
   "source": [
    "# what if I do this a little differently?\n",
    "\n",
    "x = '10'   # notice: text string\n",
    "y = '20'   # again: text string\n",
    "\n",
    "print(x+y)"
   ]
  },
  {
   "cell_type": "code",
   "execution_count": 13,
   "metadata": {
    "scrolled": true
   },
   "outputs": [
    {
     "ename": "TypeError",
     "evalue": "unsupported operand type(s) for +: 'int' and 'str'",
     "output_type": "error",
     "traceback": [
      "\u001b[0;31m---------------------------------------------------------------------------\u001b[0m",
      "\u001b[0;31mTypeError\u001b[0m                                 Traceback (most recent call last)",
      "\u001b[0;32m/var/folders/rr/0mnyyv811fs5vyp22gf4fxk00000gn/T/ipykernel_52484/755633120.py\u001b[0m in \u001b[0;36m<module>\u001b[0;34m\u001b[0m\n\u001b[1;32m      4\u001b[0m \u001b[0my\u001b[0m \u001b[0;34m=\u001b[0m \u001b[0;34m'20'\u001b[0m\u001b[0;34m\u001b[0m\u001b[0;34m\u001b[0m\u001b[0m\n\u001b[1;32m      5\u001b[0m \u001b[0;34m\u001b[0m\u001b[0m\n\u001b[0;32m----> 6\u001b[0;31m \u001b[0mprint\u001b[0m\u001b[0;34m(\u001b[0m\u001b[0mx\u001b[0m\u001b[0;34m+\u001b[0m\u001b[0my\u001b[0m\u001b[0;34m)\u001b[0m  \u001b[0;31m# Python doesn't know what to do when you add a number and a string -- so it gives us an error\u001b[0m\u001b[0;34m\u001b[0m\u001b[0;34m\u001b[0m\u001b[0m\n\u001b[0m",
      "\u001b[0;31mTypeError\u001b[0m: unsupported operand type(s) for +: 'int' and 'str'"
     ]
    }
   ],
   "source": [
    "# what happens if we mix numbers and text?\n",
    "\n",
    "x = 10\n",
    "y = '20'\n",
    "\n",
    "print(x+y)  # Python doesn't know what to do when you add a number and a string -- so it gives us an error"
   ]
  },
  {
   "cell_type": "markdown",
   "metadata": {},
   "source": [
    "# Exercise: Simple calculator\n",
    "\n",
    "1. Define two variables, `x` and `y`, each of which has a numeric (integer -- whole number) value.\n",
    "2. Print the sum of these two numbers. Don't try to mix text with the result, because that will give you an error."
   ]
  },
  {
   "cell_type": "code",
   "execution_count": 15,
   "metadata": {},
   "outputs": [
    {
     "name": "stdout",
     "output_type": "stream",
     "text": [
      "107\n"
     ]
    }
   ],
   "source": [
    "x = 32\n",
    "y = 75\n",
    "\n",
    "print(x+y)  \n",
    "\n",
    "# first, Python adds x+y, and gets a new value back\n",
    "# that value is then passed to the \"print\" function, which knows how to display anything"
   ]
  },
  {
   "cell_type": "code",
   "execution_count": 17,
   "metadata": {},
   "outputs": [
    {
     "data": {
      "text/plain": [
       "107"
      ]
     },
     "execution_count": 17,
     "metadata": {},
     "output_type": "execute_result"
    }
   ],
   "source": [
    "# here's a special, Jupyter-only Python trick (it WILL NOT WORK in regular programs)\n",
    "\n",
    "x+y   # if we get a value back from an expression, and if it's on the final line of a cell, we don't need to print"
   ]
  },
  {
   "cell_type": "code",
   "execution_count": 18,
   "metadata": {},
   "outputs": [
    {
     "data": {
      "text/plain": [
       "32"
      ]
     },
     "execution_count": 18,
     "metadata": {},
     "output_type": "execute_result"
    }
   ],
   "source": [
    "x"
   ]
  },
  {
   "cell_type": "code",
   "execution_count": 19,
   "metadata": {},
   "outputs": [
    {
     "data": {
      "text/plain": [
       "75"
      ]
     },
     "execution_count": 19,
     "metadata": {},
     "output_type": "execute_result"
    }
   ],
   "source": [
    "y"
   ]
  },
  {
   "cell_type": "markdown",
   "metadata": {},
   "source": [
    "# To install Jupyter, if you already have Python installed\n",
    "\n",
    "pip install -U jupyter \n",
    "\n",
    "# To run Jupyter, after you've installed it\n",
    "jupyter notebook\n",
    "\n",
    "If you're on Windows and didn't tell Python to put its programs in your `PATH` environment variable, this might well fail. "
   ]
  },
  {
   "cell_type": "markdown",
   "metadata": {},
   "source": [
    "# What if I want to display text and numbers together?\n",
    "\n",
    "Python has a great construct called an \"f-string,\" short for \"format string\" or (I'm trying to push this) \"fancy string.\"\n",
    "\n",
    "An f-string is just like a regular string, except:\n",
    "\n",
    "1. It has an `f` before the opening quote mark\n",
    "2. Inside of the f-string, you can have `{}`. And inside of those, you can have variables or expressions.\n",
    "3. Anything in the `{}` is turned into text."
   ]
  },
  {
   "cell_type": "code",
   "execution_count": 20,
   "metadata": {},
   "outputs": [
    {
     "name": "stdout",
     "output_type": "stream",
     "text": [
      "Hello, Reuven!\n"
     ]
    }
   ],
   "source": [
    "name = 'Reuven'\n",
    "\n",
    "print(f'Hello, {name}!') # f-string, in {} we have a variable"
   ]
  },
  {
   "cell_type": "code",
   "execution_count": 21,
   "metadata": {},
   "outputs": [
    {
     "name": "stdout",
     "output_type": "stream",
     "text": [
      "10 + 20 = 30\n"
     ]
    }
   ],
   "source": [
    "# here's our calculator in a slightly fancier version, using f-strings\n",
    "\n",
    "x = 10\n",
    "y = 20\n",
    "\n",
    "print(f'{x} + {y} = {x+y}')   "
   ]
  },
  {
   "cell_type": "markdown",
   "metadata": {},
   "source": [
    "# Friendly greeting\n",
    "\n",
    "1. Define a variable, `name`, to have your name.\n",
    "2. Define another variable, `city`, to contain your city's name.\n",
    "3. Print, using an f-string, a nice greeting to you, mentioning both your name and your city."
   ]
  },
  {
   "cell_type": "code",
   "execution_count": 22,
   "metadata": {},
   "outputs": [
    {
     "data": {
      "text/plain": [
       "30"
      ]
     },
     "execution_count": 22,
     "metadata": {},
     "output_type": "execute_result"
    }
   ],
   "source": [
    "10+20"
   ]
  },
  {
   "cell_type": "code",
   "execution_count": 23,
   "metadata": {},
   "outputs": [
    {
     "data": {
      "text/plain": [
       "30"
      ]
     },
     "execution_count": 23,
     "metadata": {},
     "output_type": "execute_result"
    }
   ],
   "source": [
    "10 + 20"
   ]
  },
  {
   "cell_type": "code",
   "execution_count": 24,
   "metadata": {},
   "outputs": [
    {
     "data": {
      "text/plain": [
       "30"
      ]
     },
     "execution_count": 24,
     "metadata": {},
     "output_type": "execute_result"
    }
   ],
   "source": [
    "10     +     20"
   ]
  },
  {
   "cell_type": "code",
   "execution_count": 25,
   "metadata": {},
   "outputs": [
    {
     "name": "stdout",
     "output_type": "stream",
     "text": [
      "30\n"
     ]
    }
   ],
   "source": [
    "print(10+20)"
   ]
  },
  {
   "cell_type": "code",
   "execution_count": 26,
   "metadata": {},
   "outputs": [
    {
     "name": "stdout",
     "output_type": "stream",
     "text": [
      "30\n"
     ]
    }
   ],
   "source": [
    "print    (10    + 20 )"
   ]
  },
  {
   "cell_type": "code",
   "execution_count": 27,
   "metadata": {},
   "outputs": [
    {
     "name": "stdout",
     "output_type": "stream",
     "text": [
      "Hello, Reuven from Modi'in!\n"
     ]
    }
   ],
   "source": [
    "name = 'Reuven'\n",
    "city = \"Modi'in\"\n",
    "\n",
    "print(f'Hello, {name} from {city}!')"
   ]
  },
  {
   "cell_type": "code",
   "execution_count": 28,
   "metadata": {},
   "outputs": [
    {
     "name": "stdout",
     "output_type": "stream",
     "text": [
      "abcd\n"
     ]
    }
   ],
   "source": [
    "# Python strings can contain any character from Unicode\n",
    "# which basically means any character, in any language\n",
    "\n",
    "s = 'abcd'\n",
    "print(s)"
   ]
  },
  {
   "cell_type": "code",
   "execution_count": 29,
   "metadata": {},
   "outputs": [
    {
     "name": "stdout",
     "output_type": "stream",
     "text": [
      "שלום\n"
     ]
    }
   ],
   "source": [
    "s = 'שלום'  # 'shalom' in Hebrew\n",
    "print(s)   "
   ]
  },
  {
   "cell_type": "code",
   "execution_count": 30,
   "metadata": {},
   "outputs": [
    {
     "name": "stdout",
     "output_type": "stream",
     "text": [
      "你好\n"
     ]
    }
   ],
   "source": [
    "s = '你好'   # ni hao in Chinese\n",
    "print(s)"
   ]
  },
  {
   "cell_type": "code",
   "execution_count": 31,
   "metadata": {},
   "outputs": [
    {
     "name": "stdout",
     "output_type": "stream",
     "text": [
      "Hello, Reuven.  How is your beautiful city, Modi'in?\n"
     ]
    }
   ],
   "source": [
    "print(f'Hello, {name}.  How is your beautiful city, {city}?')"
   ]
  },
  {
   "cell_type": "code",
   "execution_count": 32,
   "metadata": {},
   "outputs": [
    {
     "name": "stdout",
     "output_type": "stream",
     "text": [
      "⏰🌭\n"
     ]
    }
   ],
   "source": [
    "print('⏰🌭')"
   ]
  },
  {
   "cell_type": "markdown",
   "metadata": {},
   "source": [
    "# Next up:\n",
    "\n",
    "1. Input from the user\n",
    "2. Comparisons\n",
    "3. Conditions with `if` and `else`"
   ]
  },
  {
   "cell_type": "code",
   "execution_count": 33,
   "metadata": {},
   "outputs": [
    {
     "name": "stdout",
     "output_type": "stream",
     "text": [
      "Enter your name: Reuven\n"
     ]
    },
    {
     "data": {
      "text/plain": [
       "'Reuven'"
      ]
     },
     "execution_count": 33,
     "metadata": {},
     "output_type": "execute_result"
    }
   ],
   "source": [
    "# to get input from the user, we'll use the special function \"input\"\n",
    "# a function is a verb in the programing world\n",
    "\n",
    "# so far, we've used the \"print\" function, which displays something on the screen\n",
    "# this \"input\" function will get a value from the user, and then return that value\n",
    "\n",
    "# call the input function with one argument, a text string that is what we show to the user\n",
    "# then the program will wait for the user to type something\n",
    "\n",
    "input('Enter your name: ')   "
   ]
  },
  {
   "cell_type": "code",
   "execution_count": 35,
   "metadata": {},
   "outputs": [
    {
     "name": "stdout",
     "output_type": "stream",
     "text": [
      "Enter your name: world\n",
      "Hello, world!\n"
     ]
    }
   ],
   "source": [
    "# whatever the user entered to the input prompt, is returned by the input function as a text string\n",
    "# we can assign that value to a variable!\n",
    "\n",
    "name = input('Enter your name: ')\n",
    "print(f'Hello, {name}!')"
   ]
  },
  {
   "cell_type": "code",
   "execution_count": 38,
   "metadata": {},
   "outputs": [
    {
     "name": "stdout",
     "output_type": "stream",
     "text": [
      "Enter a first number: 10\n",
      "Enter a second number: 20\n"
     ]
    }
   ],
   "source": [
    "# input always returns text strings, even if the user entered only digits\n",
    "# we'll soon see how we can convert a string value to an integer value\n",
    "\n",
    "x = input('Enter a first number: ')\n",
    "y = input('Enter a second number: ')"
   ]
  },
  {
   "cell_type": "code",
   "execution_count": 37,
   "metadata": {},
   "outputs": [
    {
     "data": {
      "text/plain": [
       "'1020'"
      ]
     },
     "execution_count": 37,
     "metadata": {},
     "output_type": "execute_result"
    }
   ],
   "source": [
    "x+y"
   ]
  },
  {
   "cell_type": "markdown",
   "metadata": {},
   "source": [
    "# Comparisons\n",
    "\n",
    "We've already seen that we can assign a value to a variable with `=`, and that we can combine (in some way) two values with `+`.  (`+` works differently with text strings than with numbers.)\n",
    "\n",
    "How can we know if two values are the same? Or, similarly, if two variables contain the same value?\n",
    "\n",
    "The answer is: We can check with a variety of *comparison operators*, all of which return `True` or `False` values. \n",
    "\n",
    "The most common comparison operator is `==`.  \n",
    "\n",
    "## Note\n",
    "\n",
    "- The assignment operator is `=`. This changes the value in the variable named to the left.\n",
    "- The equality comparison operator is `==`. This returns `True` or `False`, checking if the value on the left is the same as the value on the right.\n",
    "\n",
    "Don't use the wrong one!"
   ]
  },
  {
   "cell_type": "code",
   "execution_count": 39,
   "metadata": {},
   "outputs": [
    {
     "data": {
      "text/plain": [
       "True"
      ]
     },
     "execution_count": 39,
     "metadata": {},
     "output_type": "execute_result"
    }
   ],
   "source": [
    "x = 10\n",
    "y = 10\n",
    "\n",
    "x == y   # are these the same value?"
   ]
  },
  {
   "cell_type": "code",
   "execution_count": 40,
   "metadata": {},
   "outputs": [
    {
     "data": {
      "text/plain": [
       "False"
      ]
     },
     "execution_count": 40,
     "metadata": {},
     "output_type": "execute_result"
    }
   ],
   "source": [
    "x = 10\n",
    "y = 11\n",
    "\n",
    "x == y"
   ]
  },
  {
   "cell_type": "code",
   "execution_count": 41,
   "metadata": {},
   "outputs": [
    {
     "data": {
      "text/plain": [
       "True"
      ]
     },
     "execution_count": 41,
     "metadata": {},
     "output_type": "execute_result"
    }
   ],
   "source": [
    "x = 'abcd'\n",
    "y = 'abcd'\n",
    "\n",
    "x == y   # are these the same value?"
   ]
  },
  {
   "cell_type": "code",
   "execution_count": 42,
   "metadata": {},
   "outputs": [
    {
     "data": {
      "text/plain": [
       "False"
      ]
     },
     "execution_count": 42,
     "metadata": {},
     "output_type": "execute_result"
    }
   ],
   "source": [
    "x = 'abcd'\n",
    "y = 'Abcd'\n",
    "\n",
    "x == y"
   ]
  },
  {
   "cell_type": "markdown",
   "metadata": {},
   "source": [
    "# Comparison operators\n",
    "\n",
    "- `==` -- equality\n",
    "- `!=` -- inequality\n",
    "- `<` -- less than\n",
    "- `<=` -- less than or equal\n",
    "- `>` -- greater than\n",
    "- `>=` -- greater than or equal\n",
    "\n",
    "These all work on numbers, and on text strings. (Both compared values must be of the same type.)\n",
    "\n",
    "We can understand what it means for a number to be less than another number. What does it mean for one text string to be less than the other? Answer: We check them alphabetically."
   ]
  },
  {
   "cell_type": "code",
   "execution_count": 43,
   "metadata": {},
   "outputs": [
    {
     "data": {
      "text/plain": [
       "False"
      ]
     },
     "execution_count": 43,
     "metadata": {},
     "output_type": "execute_result"
    }
   ],
   "source": [
    "x = 'banana'\n",
    "y = 'apple'\n",
    "\n",
    "x < y"
   ]
  },
  {
   "cell_type": "code",
   "execution_count": 44,
   "metadata": {},
   "outputs": [
    {
     "data": {
      "text/plain": [
       "True"
      ]
     },
     "execution_count": 44,
     "metadata": {},
     "output_type": "execute_result"
    }
   ],
   "source": [
    "y < x"
   ]
  },
  {
   "cell_type": "markdown",
   "metadata": {},
   "source": [
    "# How can we make use of these comparisons?\n",
    "\n",
    "The answer is: `if` (and `else`).\n",
    "\n"
   ]
  },
  {
   "cell_type": "code",
   "execution_count": 50,
   "metadata": {
    "scrolled": true
   },
   "outputs": [
    {
     "name": "stdout",
     "output_type": "stream",
     "text": [
      "Enter your name: Reuven\n",
      "Hello, boss!\n",
      "I have missed you very much!\n"
     ]
    }
   ],
   "source": [
    "name = input('Enter your name: ')   # get input from the user, and assign to name\n",
    "\n",
    "# \"if\" lets us say that a portion of the code should only be run if a particular\n",
    "# comparison returns True.\n",
    "# if looks to its right, and executes its block of code if the comparison is True\n",
    "# at the end of the \"if\" line, we have a : This is mandatory!\n",
    "# also mandatory: that the next line(s) be indented, traditionally four spaces\n",
    "\n",
    "if name == 'Reuven':\n",
    "    print('Hello, boss!')\n",
    "    print('I have missed you very much!')\n",
    "\n",
    "# optionally, we can have an \"else\" clause\n",
    "# this means: execute this block if the \"if\" got a False value back\n",
    "\n",
    "else:\n",
    "    print(f'Hello, {name}.')\n",
    "    "
   ]
  },
  {
   "cell_type": "code",
   "execution_count": 48,
   "metadata": {},
   "outputs": [
    {
     "data": {
      "text/plain": [
       "False"
      ]
     },
     "execution_count": 48,
     "metadata": {},
     "output_type": "execute_result"
    }
   ],
   "source": [
    "x = 'Reuven'\n",
    "y = ' Reuven'\n",
    "\n",
    "x == y  # do x and y contain the same values?  NO!"
   ]
  },
  {
   "cell_type": "code",
   "execution_count": 49,
   "metadata": {},
   "outputs": [
    {
     "data": {
      "text/plain": [
       "True"
      ]
     },
     "execution_count": 49,
     "metadata": {},
     "output_type": "execute_result"
    }
   ],
   "source": [
    "x = 'banana'\n",
    "y = 'apple'\n",
    "\n",
    "y < x   # meaning, alphabetically, 'apple' comes before 'banana'"
   ]
  },
  {
   "cell_type": "code",
   "execution_count": 51,
   "metadata": {},
   "outputs": [
    {
     "data": {
      "text/plain": [
       "True"
      ]
     },
     "execution_count": 51,
     "metadata": {},
     "output_type": "execute_result"
    }
   ],
   "source": [
    "'abc' == \"abc\""
   ]
  },
  {
   "cell_type": "code",
   "execution_count": 52,
   "metadata": {},
   "outputs": [
    {
     "data": {
      "text/plain": [
       "False"
      ]
     },
     "execution_count": 52,
     "metadata": {},
     "output_type": "execute_result"
    }
   ],
   "source": [
    "x = 'applied'\n",
    "y = 'apple'\n",
    "\n",
    "x < y"
   ]
  },
  {
   "cell_type": "code",
   "execution_count": 53,
   "metadata": {},
   "outputs": [
    {
     "data": {
      "text/plain": [
       "True"
      ]
     },
     "execution_count": 53,
     "metadata": {},
     "output_type": "execute_result"
    }
   ],
   "source": [
    "y < x"
   ]
  },
  {
   "cell_type": "markdown",
   "metadata": {},
   "source": [
    "# Exercise: Which comes first?\n",
    "\n",
    "1. Ask the user to enter a first word, and assign to `first`.\n",
    "2. Ask the user to enter a second word, and assign to `second`.\n",
    "3. Print which word comes first, alphabetically.\n",
    "\n",
    "Assumptions:\n",
    "\n",
    "1. words are all lowercase\n",
    "2. the words are different\n",
    "3. no punctuation (but you can play with that, if you want)"
   ]
  },
  {
   "cell_type": "code",
   "execution_count": 58,
   "metadata": {},
   "outputs": [
    {
     "name": "stdout",
     "output_type": "stream",
     "text": [
      "Enter first word: chicken\n",
      "Enter second word: egg\n",
      "chicken comes before egg\n"
     ]
    }
   ],
   "source": [
    "first = input('Enter first word: ')\n",
    "second = input('Enter second word: ')\n",
    "\n",
    "if first < second:\n",
    "    print(f'{first} comes before {second}')\n",
    "else:\n",
    "    print(f'{second} comes before {first}')"
   ]
  },
  {
   "cell_type": "code",
   "execution_count": null,
   "metadata": {},
   "outputs": [],
   "source": []
  },
  {
   "cell_type": "code",
   "execution_count": 56,
   "metadata": {},
   "outputs": [
    {
     "name": "stdout",
     "output_type": "stream",
     "text": [
      "Enter your name: asda\n",
      "Hello, asda.\n"
     ]
    }
   ],
   "source": [
    "name = input('Enter your name: ') \n",
    "\n",
    "if name == 'Reuven':\n",
    "    print('Hello, boss!')\n",
    "    print('I have missed you very much!')\n",
    "\n",
    "else:\n",
    "    print(f'Hello, {name}.')\n",
    "    "
   ]
  },
  {
   "cell_type": "markdown",
   "metadata": {},
   "source": [
    "# Structure of `if`-`else` conditions\n",
    "\n",
    "It's always going to look like this:\n",
    "\n",
    "```python\n",
    "if CONDITION:\n",
    "    to-do-if-True 1\n",
    "    to-do-if-True 2\n",
    "    ...\n",
    "    to-do-if-True n\n",
    "\n",
    "else:\n",
    "    to-do-if-False 1\n",
    "    to-do-if-False 2\n",
    "    to-do-if-False 3\n",
    "```"
   ]
  },
  {
   "cell_type": "markdown",
   "metadata": {},
   "source": [
    "# Limitations with our conditions\n",
    "\n",
    "1. What if we want to check more than two options?  Right now, we can check if something is `True` or `False`, but that's it.\n",
    "    - For example: What if the two words that the user input are the same? The program's output is now wrong.\n",
    "2. What if we want a more complex condition than just `==` or `<` or the like? What if we want to know if more than one thing is `True`?    \n",
    "\n",
    "\n",
    "We can solve the first problem with `elif`, which goes between an `if` and an `else`, and allows us to check another condition"
   ]
  },
  {
   "cell_type": "code",
   "execution_count": 60,
   "metadata": {},
   "outputs": [
    {
     "name": "stdout",
     "output_type": "stream",
     "text": [
      "Enter your name: something else\n",
      "That is a very weird name, no?\n"
     ]
    }
   ],
   "source": [
    "name = input('Enter your name: ') \n",
    "\n",
    "if name == 'Reuven':\n",
    "    print('Hello, boss!')\n",
    "    print('I have missed you very much!')\n",
    "    \n",
    "elif name == 'something else':\n",
    "    print(f'That is a very weird name, no?')\n",
    "\n",
    "else:\n",
    "    # here, I pass an f-string to print\n",
    "    print(f'Hello, {name}.')\n",
    "    "
   ]
  },
  {
   "cell_type": "markdown",
   "metadata": {},
   "source": [
    "# Exercise: Which word comes first — or are they the same?\n",
    "\n",
    "This time, I want you to get input from the user, entering two words, and assigning them to variables.\n",
    "\n",
    "Then indicate:\n",
    "- Which comes earlier, alphabetically,\n",
    "- If they are the same."
   ]
  },
  {
   "cell_type": "code",
   "execution_count": 64,
   "metadata": {},
   "outputs": [
    {
     "name": "stdout",
     "output_type": "stream",
     "text": [
      "Enter first word: papaya\n",
      "Enter second word: papaya\n",
      "You entered papaya twice!\n"
     ]
    }
   ],
   "source": [
    "first = input('Enter first word: ')\n",
    "second = input('Enter second word: ')\n",
    "\n",
    "if first < second:\n",
    "    print(f'{first} comes before {second}')\n",
    "elif second < first:\n",
    "    print(f'{second} comes before {first}')\n",
    "else:\n",
    "    print(f'You entered {first} twice!')"
   ]
  },
  {
   "cell_type": "code",
   "execution_count": 65,
   "metadata": {},
   "outputs": [
    {
     "name": "stdout",
     "output_type": "stream",
     "text": [
      "Enter first word: Banana\n",
      "Enter second word: apple\n",
      "Banana comes before apple\n"
     ]
    }
   ],
   "source": [
    "# what about capital letters?\n",
    "\n",
    "first = input('Enter first word: ')\n",
    "second = input('Enter second word: ')\n",
    "\n",
    "if first < second:\n",
    "    print(f'{first} comes before {second}')\n",
    "elif second < first:\n",
    "    print(f'{second} comes before {first}')\n",
    "else:\n",
    "    print(f'You entered {first} twice!')"
   ]
  },
  {
   "cell_type": "markdown",
   "metadata": {},
   "source": [
    "# Python's comparisons\n",
    "\n",
    "When Python wants to compare two strings, it looks at the first character in each. If they're the same, then it continues to the second.\n",
    "\n",
    "If they aren't the same, then it checks the number value for the first characters. This number value is actually the Unicode number for each character. Whichever one comes earlier in the Unicode table determines which word comes first.\n",
    "\n",
    "It turns out that in Unicode, capital letters always come before lowercase letters."
   ]
  },
  {
   "cell_type": "markdown",
   "metadata": {},
   "source": [
    "# Combining conditions\n",
    "\n",
    "Each condition returns `True` or `False`. What if I want to combine them, such that I'll only `print` if both are `True`?\n",
    "\n",
    "I can use the `and` keyword in Python.  `and` looks to its left and right, and expects to find `True` and `False` values.  If the value to the left and the value to the right both produce `True`, then the whole expression is `True`."
   ]
  },
  {
   "cell_type": "code",
   "execution_count": 66,
   "metadata": {},
   "outputs": [
    {
     "data": {
      "text/plain": [
       "True"
      ]
     },
     "execution_count": 66,
     "metadata": {},
     "output_type": "execute_result"
    }
   ],
   "source": [
    "x = 10\n",
    "y = 20\n",
    "\n",
    "# True  and  True\n",
    "x == 10 and y == 20"
   ]
  },
  {
   "cell_type": "code",
   "execution_count": 70,
   "metadata": {},
   "outputs": [
    {
     "data": {
      "text/plain": [
       "False"
      ]
     },
     "execution_count": 70,
     "metadata": {},
     "output_type": "execute_result"
    }
   ],
   "source": [
    "x = 10\n",
    "y = 5\n",
    "\n",
    "# True  and  False --> False\n",
    "x == 10 and y == 20"
   ]
  },
  {
   "cell_type": "markdown",
   "metadata": {},
   "source": [
    "# Combining with `or`\n",
    "\n",
    "You might want to check if one of several conditions is `True`, that's what `or` is for. It works like `and`, but it checks if *one* is `True`."
   ]
  },
  {
   "cell_type": "code",
   "execution_count": 68,
   "metadata": {},
   "outputs": [
    {
     "data": {
      "text/plain": [
       "True"
      ]
     },
     "execution_count": 68,
     "metadata": {},
     "output_type": "execute_result"
    }
   ],
   "source": [
    "x = 10\n",
    "y = 20\n",
    "\n",
    "# True  or  True\n",
    "x == 10 or y == 20"
   ]
  },
  {
   "cell_type": "code",
   "execution_count": 69,
   "metadata": {},
   "outputs": [
    {
     "data": {
      "text/plain": [
       "True"
      ]
     },
     "execution_count": 69,
     "metadata": {},
     "output_type": "execute_result"
    }
   ],
   "source": [
    "x = 10\n",
    "y = 5\n",
    "\n",
    "# True  or  False --> True (one of them is True)\n",
    "x == 10 or y == 5"
   ]
  },
  {
   "cell_type": "markdown",
   "metadata": {},
   "source": [
    "# `not` for flipping the logic\n",
    "\n",
    "```python3\n",
    "x = 10\n",
    "if not x == 20:   # compare x and 20, then flip its logic: True->False, False-> True.\n",
    "    print(\n",
    "\n",
    "```"
   ]
  },
  {
   "cell_type": "markdown",
   "metadata": {},
   "source": [
    "# Next up\n",
    "\n",
    "1. Practice with `and`, `or`, and `not`\n",
    "2. Numbers as data types"
   ]
  },
  {
   "cell_type": "code",
   "execution_count": 73,
   "metadata": {},
   "outputs": [
    {
     "name": "stdout",
     "output_type": "stream",
     "text": [
      "we do not have an apple and a banana, but rather a banana and apple\n"
     ]
    }
   ],
   "source": [
    "fruit1 = 'banana'\n",
    "fruit2 = 'apple'\n",
    "\n",
    "if fruit1 == 'apple' and fruit2 == 'banana':\n",
    "    print('we have an apple and a banana!')\n",
    "\n",
    "else:  # in any case where fruit1 isn't 'apple' and fruit2 isn't 'banana', this will fire\n",
    "    print(f'we do not have an apple and a banana, but rather a {fruit1} and {fruit2}')"
   ]
  },
  {
   "cell_type": "code",
   "execution_count": 76,
   "metadata": {},
   "outputs": [
    {
     "name": "stdout",
     "output_type": "stream",
     "text": [
      "Enter your name: help\n",
      "Hello, help!\n"
     ]
    }
   ],
   "source": [
    "name = input('Enter your name: ')\n",
    "\n",
    "print(f'Hello, {name}!')"
   ]
  },
  {
   "cell_type": "markdown",
   "metadata": {},
   "source": [
    "# Keywords/identifiers vs. text strings\n",
    "\n",
    "Python programs contains keywords (i.e., special words that are built into the language, such as `if`) and identifiers (i.e., variable + function names, including for builtin functions like `print` and `input`).\n",
    "\n",
    "You cannot assign to these. \n",
    "\n",
    "But there is no connection, and no confusion (in Python's mind, at least) between the keyword `if` and the text string `'if'`.  \n",
    "\n",
    "The difference is that `'if'` (the string) is surrounded by quotes. It's not going to be interpreted by Python."
   ]
  },
  {
   "cell_type": "markdown",
   "metadata": {},
   "source": [
    "# Exercise: Name and company\n",
    "\n",
    "1. Ask the user to enter their name, and assign to the variable `name`.\n",
    "2. Ask the user to enter their company/employer, and assign to the variable `company`.\n",
    "3. Print one of four different possibilities:\n",
    "    - If both `name` and `company` match you, say that it must be you.\n",
    "    - If only `name` matches, but `company` doesn't, say that the user has a great name, but works for a terrible company.\n",
    "    - If only `company` matches, and `name` does not, say that the user works at a great place, but has a terrible name.\n",
    "    - If neither matches, then make fun of both the name and the company."
   ]
  },
  {
   "cell_type": "code",
   "execution_count": 80,
   "metadata": {},
   "outputs": [
    {
     "ename": "SyntaxError",
     "evalue": "expected ':' (2620146933.py, line 4)",
     "output_type": "error",
     "traceback": [
      "\u001b[0;36m  File \u001b[0;32m\"/var/folders/rr/0mnyyv811fs5vyp22gf4fxk00000gn/T/ipykernel_52484/2620146933.py\"\u001b[0;36m, line \u001b[0;32m4\u001b[0m\n\u001b[0;31m    if name == 'Reuven' and company == 'Lerner'\u001b[0m\n\u001b[0m                                               ^\u001b[0m\n\u001b[0;31mSyntaxError\u001b[0m\u001b[0;31m:\u001b[0m expected ':'\n"
     ]
    }
   ],
   "source": [
    "name = input('Enter your name: ')\n",
    "company = input('Enter your company: ')\n",
    "\n",
    "if name == 'Reuven' and company == 'Lerner':\n",
    "    print('You must be me! Hello, me!')\n",
    "\n",
    "elif name == 'Reuven':   # if company == 'Lerner', the previous condition would have fired...\n",
    "    print('You have a great name, but work for a terrible company!')\n",
    "\n",
    "elif company == 'Lerner':  # if we're here, then we know that the name is not equal to 'Reuven'\n",
    "    print('You work for a great company, but you should get a better name')\n",
    "    \n",
    "else:    # neither name nor company matched\n",
    "    print('You have a bad name and work for a bad employer')"
   ]
  },
  {
   "cell_type": "code",
   "execution_count": null,
   "metadata": {},
   "outputs": [],
   "source": []
  },
  {
   "cell_type": "markdown",
   "metadata": {},
   "source": [
    "# Data structures\n",
    "\n",
    "At the end of the day, everything in a program, and in a computer, is 1s and 0s. It's our programming language that keeps track of different data structures -- ways of organizing our information.\n",
    "\n",
    "Why have different data structures? So that we can think at a higher level about our program. Because numbers behave differently from text, which behaves differently from lists, which behave differently from dictionaries, each data structure / data type has its own behavior.  Learning these behaviors, and which data structure is appropriate for each task, is a big part of learning to program."
   ]
  },
  {
   "cell_type": "markdown",
   "metadata": {},
   "source": [
    "# Numbers\n",
    "\n",
    "Python supports 2 main types of numbers:\n",
    "\n",
    "- whole numbers, aka `int` (integers)\n",
    "- numbers with decimal points, aka `float` (floating-point numbers)"
   ]
  },
  {
   "cell_type": "code",
   "execution_count": 81,
   "metadata": {},
   "outputs": [
    {
     "data": {
      "text/plain": [
       "int"
      ]
     },
     "execution_count": 81,
     "metadata": {},
     "output_type": "execute_result"
    }
   ],
   "source": [
    "x = 100\n",
    "\n",
    "type(x)   # what type of data is x referring to?"
   ]
  },
  {
   "cell_type": "code",
   "execution_count": 82,
   "metadata": {},
   "outputs": [
    {
     "data": {
      "text/plain": [
       "13"
      ]
     },
     "execution_count": 82,
     "metadata": {},
     "output_type": "execute_result"
    }
   ],
   "source": [
    "x = 10\n",
    "y = 3\n",
    "\n",
    "x + y   # addition"
   ]
  },
  {
   "cell_type": "code",
   "execution_count": 83,
   "metadata": {},
   "outputs": [
    {
     "data": {
      "text/plain": [
       "7"
      ]
     },
     "execution_count": 83,
     "metadata": {},
     "output_type": "execute_result"
    }
   ],
   "source": [
    "x - y   # subtraction"
   ]
  },
  {
   "cell_type": "code",
   "execution_count": 84,
   "metadata": {},
   "outputs": [
    {
     "data": {
      "text/plain": [
       "30"
      ]
     },
     "execution_count": 84,
     "metadata": {},
     "output_type": "execute_result"
    }
   ],
   "source": [
    "x * y    # multiplication"
   ]
  },
  {
   "cell_type": "code",
   "execution_count": 85,
   "metadata": {},
   "outputs": [
    {
     "data": {
      "text/plain": [
       "3.3333333333333335"
      ]
     },
     "execution_count": 85,
     "metadata": {},
     "output_type": "execute_result"
    }
   ],
   "source": [
    "x / y    # division, always returning a float!"
   ]
  },
  {
   "cell_type": "code",
   "execution_count": 87,
   "metadata": {},
   "outputs": [
    {
     "data": {
      "text/plain": [
       "3"
      ]
     },
     "execution_count": 87,
     "metadata": {},
     "output_type": "execute_result"
    }
   ],
   "source": [
    "x // y        # truediv, returning an integer"
   ]
  },
  {
   "cell_type": "code",
   "execution_count": 88,
   "metadata": {},
   "outputs": [
    {
     "data": {
      "text/plain": [
       "1000"
      ]
     },
     "execution_count": 88,
     "metadata": {},
     "output_type": "execute_result"
    }
   ],
   "source": [
    "x ** y      # exponentiation"
   ]
  },
  {
   "cell_type": "code",
   "execution_count": 89,
   "metadata": {},
   "outputs": [
    {
     "data": {
      "text/plain": [
       "1"
      ]
     },
     "execution_count": 89,
     "metadata": {},
     "output_type": "execute_result"
    }
   ],
   "source": [
    "x % y        # the remainder after dividing x by y"
   ]
  },
  {
   "cell_type": "code",
   "execution_count": 90,
   "metadata": {},
   "outputs": [
    {
     "data": {
      "text/plain": [
       "11"
      ]
     },
     "execution_count": 90,
     "metadata": {},
     "output_type": "execute_result"
    }
   ],
   "source": [
    "x = 10\n",
    "\n",
    "x = x + 1   # = is *not* the mathematical equality operator; it is assignment\n",
    "\n",
    "x  # will this work? What will x's value be"
   ]
  },
  {
   "cell_type": "code",
   "execution_count": 91,
   "metadata": {},
   "outputs": [],
   "source": [
    "# shortcut to doing that:\n",
    "\n",
    "x += 1   # this is the same as saying x = x + 1"
   ]
  },
  {
   "cell_type": "code",
   "execution_count": 92,
   "metadata": {},
   "outputs": [
    {
     "ename": "TypeError",
     "evalue": "unsupported operand type(s) for +: 'int' and 'str'",
     "output_type": "error",
     "traceback": [
      "\u001b[0;31m---------------------------------------------------------------------------\u001b[0m",
      "\u001b[0;31mTypeError\u001b[0m                                 Traceback (most recent call last)",
      "\u001b[0;32m/var/folders/rr/0mnyyv811fs5vyp22gf4fxk00000gn/T/ipykernel_52484/978236076.py\u001b[0m in \u001b[0;36m<module>\u001b[0;34m\u001b[0m\n\u001b[1;32m      3\u001b[0m \u001b[0;34m\u001b[0m\u001b[0m\n\u001b[1;32m      4\u001b[0m \u001b[0;31m# we saw before that we cannot add these -- that Python refuses, because it won't guess\u001b[0m\u001b[0;34m\u001b[0m\u001b[0;34m\u001b[0m\u001b[0m\n\u001b[0;32m----> 5\u001b[0;31m \u001b[0mx\u001b[0m \u001b[0;34m+\u001b[0m \u001b[0my\u001b[0m\u001b[0;34m\u001b[0m\u001b[0;34m\u001b[0m\u001b[0m\n\u001b[0m",
      "\u001b[0;31mTypeError\u001b[0m: unsupported operand type(s) for +: 'int' and 'str'"
     ]
    }
   ],
   "source": [
    "x = 10\n",
    "y = '20'\n",
    "\n",
    "# we saw before that we cannot add these -- that Python refuses, because it won't guess\n",
    "x + y"
   ]
  },
  {
   "cell_type": "code",
   "execution_count": 93,
   "metadata": {},
   "outputs": [
    {
     "data": {
      "text/plain": [
       "20"
      ]
     },
     "execution_count": 93,
     "metadata": {},
     "output_type": "execute_result"
    }
   ],
   "source": [
    "# to get an integer back from a string value, we use the int() function\n",
    "\n",
    "int(y)  # this returns an integer based on y's string"
   ]
  },
  {
   "cell_type": "code",
   "execution_count": 94,
   "metadata": {},
   "outputs": [
    {
     "data": {
      "text/plain": [
       "30"
      ]
     },
     "execution_count": 94,
     "metadata": {},
     "output_type": "execute_result"
    }
   ],
   "source": [
    "# calling int on a string does *NOT* change the string\n",
    "# I could, however, say \n",
    "\n",
    "y = int(y)   # now y refers to a new value, an integer\n",
    "\n",
    "x + y"
   ]
  },
  {
   "cell_type": "code",
   "execution_count": 95,
   "metadata": {},
   "outputs": [
    {
     "data": {
      "text/plain": [
       "12345"
      ]
     },
     "execution_count": 95,
     "metadata": {},
     "output_type": "execute_result"
    }
   ],
   "source": [
    "# if you have a string\n",
    "# and you want to turn it into an integer\n",
    "# then call int() on the string, and assign it to a variable (or just use it right away)\n",
    "\n",
    "# if it contains illegal characters, then it'll blow up with an error\n",
    "\n",
    "int('12345')"
   ]
  },
  {
   "cell_type": "code",
   "execution_count": 96,
   "metadata": {},
   "outputs": [
    {
     "ename": "ValueError",
     "evalue": "invalid literal for int() with base 10: 'hello'",
     "output_type": "error",
     "traceback": [
      "\u001b[0;31m---------------------------------------------------------------------------\u001b[0m",
      "\u001b[0;31mValueError\u001b[0m                                Traceback (most recent call last)",
      "\u001b[0;32m/var/folders/rr/0mnyyv811fs5vyp22gf4fxk00000gn/T/ipykernel_52484/1136785238.py\u001b[0m in \u001b[0;36m<module>\u001b[0;34m\u001b[0m\n\u001b[0;32m----> 1\u001b[0;31m \u001b[0mint\u001b[0m\u001b[0;34m(\u001b[0m\u001b[0;34m'hello'\u001b[0m\u001b[0;34m)\u001b[0m\u001b[0;34m\u001b[0m\u001b[0;34m\u001b[0m\u001b[0m\n\u001b[0m",
      "\u001b[0;31mValueError\u001b[0m: invalid literal for int() with base 10: 'hello'"
     ]
    }
   ],
   "source": [
    "int('hello')"
   ]
  },
  {
   "cell_type": "markdown",
   "metadata": {},
   "source": [
    "# Simple calculator\n",
    "\n",
    "1. Ask the user to enter two numbers.  Assign these numbers to `first` and `second`.\n",
    "2. Ask the user to enter either `+` or `-`, as an operation.\n",
    "3. Print the full math expression and the solution.\n",
    "\n",
    "Example:\n",
    "\n",
    "    Enter first: 10\n",
    "    Enter second: 5\n",
    "    Enter operator: +\n",
    "    10 + 5 = 15"
   ]
  },
  {
   "cell_type": "code",
   "execution_count": 100,
   "metadata": {},
   "outputs": [
    {
     "name": "stdout",
     "output_type": "stream",
     "text": [
      "Enter first: abcd\n",
      "Enter second: efgh\n"
     ]
    },
    {
     "ename": "ValueError",
     "evalue": "invalid literal for int() with base 10: 'abcd'",
     "output_type": "error",
     "traceback": [
      "\u001b[0;31m---------------------------------------------------------------------------\u001b[0m",
      "\u001b[0;31mValueError\u001b[0m                                Traceback (most recent call last)",
      "\u001b[0;32m/var/folders/rr/0mnyyv811fs5vyp22gf4fxk00000gn/T/ipykernel_52484/51158497.py\u001b[0m in \u001b[0;36m<module>\u001b[0;34m\u001b[0m\n\u001b[1;32m      2\u001b[0m \u001b[0msecond\u001b[0m \u001b[0;34m=\u001b[0m \u001b[0minput\u001b[0m\u001b[0;34m(\u001b[0m\u001b[0;34m'Enter second: '\u001b[0m\u001b[0;34m)\u001b[0m\u001b[0;34m\u001b[0m\u001b[0;34m\u001b[0m\u001b[0m\n\u001b[1;32m      3\u001b[0m \u001b[0;34m\u001b[0m\u001b[0m\n\u001b[0;32m----> 4\u001b[0;31m \u001b[0mfirst\u001b[0m \u001b[0;34m=\u001b[0m \u001b[0mint\u001b[0m\u001b[0;34m(\u001b[0m\u001b[0mfirst\u001b[0m\u001b[0;34m)\u001b[0m\u001b[0;34m\u001b[0m\u001b[0;34m\u001b[0m\u001b[0m\n\u001b[0m\u001b[1;32m      5\u001b[0m \u001b[0msecond\u001b[0m \u001b[0;34m=\u001b[0m \u001b[0mint\u001b[0m\u001b[0;34m(\u001b[0m\u001b[0msecond\u001b[0m\u001b[0;34m)\u001b[0m\u001b[0;34m\u001b[0m\u001b[0;34m\u001b[0m\u001b[0m\n\u001b[1;32m      6\u001b[0m \u001b[0;34m\u001b[0m\u001b[0m\n",
      "\u001b[0;31mValueError\u001b[0m: invalid literal for int() with base 10: 'abcd'"
     ]
    }
   ],
   "source": [
    "first = input('Enter first: ')\n",
    "second = input('Enter second: ')\n",
    "\n",
    "first = int(first)\n",
    "second = int(second)\n",
    "\n",
    "op = input('Enter operator: ')\n",
    "\n",
    "if op == '+':\n",
    "    result = first + second\n",
    "elif op == '-':\n",
    "    result = first - second\n",
    "else:\n",
    "    result = f'unsupported {op}!'\n",
    "    \n",
    "print(f'{first} {op} {second} = {result}')    "
   ]
  },
  {
   "cell_type": "code",
   "execution_count": 101,
   "metadata": {},
   "outputs": [
    {
     "name": "stdout",
     "output_type": "stream",
     "text": [
      "Enter first: 20\n",
      "Enter second: 5\n",
      "Enter operator: *\n",
      "20 * 5 = 100\n"
     ]
    }
   ],
   "source": [
    "first = input('Enter first: ')\n",
    "first = int(first)\n",
    "\n",
    "second = input('Enter second: ')\n",
    "second = int(second)\n",
    "\n",
    "op = input('Enter operator: ')\n",
    "\n",
    "if op == '+':\n",
    "    result = first + second\n",
    "elif op == '-':\n",
    "    result = first - second\n",
    "elif op == '*':\n",
    "    result = first * second\n",
    "elif op == '/':\n",
    "    result = first / second\n",
    "else:\n",
    "    result = f'unsupported {op}!'\n",
    "    \n",
    "print(f'{first} {op} {second} = {result}')    "
   ]
  },
  {
   "cell_type": "code",
   "execution_count": 102,
   "metadata": {},
   "outputs": [
    {
     "name": "stdout",
     "output_type": "stream",
     "text": [
      "Enter first: 10\n",
      "Enter second: 5\n",
      "Enter operator: +\n",
      "10 + 5 = 15\n"
     ]
    }
   ],
   "source": [
    "# SD found that we could clean up our code with the \"eval\" function\n",
    "# eval takes a string, and executes it as a tiny Python program, and then returns the result\n",
    "\n",
    "first = input('Enter first: ')\n",
    "first = int(first)\n",
    "\n",
    "second = input('Enter second: ')\n",
    "second = int(second)\n",
    "\n",
    "op = input('Enter operator: ')\n",
    "\n",
    "# we cleaned up! How great is that?\n",
    "result = eval(f'{first} {op} {second}')\n",
    "\n",
    "print(f'{first} {op} {second} = {result}')    "
   ]
  },
  {
   "cell_type": "markdown",
   "metadata": {},
   "source": [
    "# NEVER EVER EVER EVER EVER EVER EVER USE `eval`\n",
    "\n",
    "There's a reason that there is a 75% overlap between \"eval\" and \"evil\".\n",
    "\n",
    "This is a terrible thing to do, because you're basically saying, \"I'll let the user enter something, and I'll then execute that as code on my computer.\""
   ]
  },
  {
   "cell_type": "markdown",
   "metadata": {},
   "source": [
    "# Floating-point numbers (`float`)\n",
    "\n",
    "We can also, if we want, use numbers that include a decimal point and a fractional part. These are known as `float`. You can use `int` and `float` values with one another; when needed, integers will be converted to floats.\n",
    "\n",
    "We're going to (largely) ignore floats in this course. But they do exist, and you can use them!\n",
    "\n",
    "If you want to get a float from an integer or string, just call `float(thing)`, just as we were able to call `int(thing)` on our strings."
   ]
  },
  {
   "cell_type": "markdown",
   "metadata": {},
   "source": [
    "# Next up: Strings!\n",
    "\n",
    "1. Creating strings\n",
    "2. Retrieving from strings (one character, and slices)\n",
    "3. String methods\n",
    "4. Strings being immutable "
   ]
  },
  {
   "cell_type": "markdown",
   "metadata": {},
   "source": [
    "# Text with strings (aka `str`)\n",
    "\n",
    "We've already been using strings, which are how we work with all text in Python."
   ]
  },
  {
   "cell_type": "code",
   "execution_count": 103,
   "metadata": {},
   "outputs": [
    {
     "data": {
      "text/plain": [
       "str"
      ]
     },
     "execution_count": 103,
     "metadata": {},
     "output_type": "execute_result"
    }
   ],
   "source": [
    "s = 'abcd'\n",
    "type(s)"
   ]
  },
  {
   "cell_type": "code",
   "execution_count": 104,
   "metadata": {},
   "outputs": [],
   "source": [
    "# there's no difference between ' and \", except convenience\n",
    "# it's also useful to use ' around strings containing \", and vice versa\n",
    "# but if you need, you can use \\' in a single-quoted string, or \\\" in a double-quoted string\n",
    "\n",
    "# unlike PHP, Ruby, Perl, and bash , there's really no difference between ' and \""
   ]
  },
  {
   "cell_type": "code",
   "execution_count": 106,
   "metadata": {},
   "outputs": [
    {
     "data": {
      "text/plain": [
       "26"
      ]
     },
     "execution_count": 106,
     "metadata": {},
     "output_type": "execute_result"
    }
   ],
   "source": [
    "s = 'abcdefghijklmnopqrstuvwxyz'\n",
    "\n",
    "# how many characters are in my string? I use call the builtin \"len\" function\n",
    "len(s)"
   ]
  },
  {
   "cell_type": "code",
   "execution_count": 107,
   "metadata": {},
   "outputs": [],
   "source": [
    "# how can I retrieve the first character in s?\n",
    "# we use [], and in the [], we put the index of what we want\n",
    "# Python strings are zero-indexed, meaning that the first character is at index 0, the second at 1,\n",
    "# etc.\n",
    "\n",
    "# in a 26-character string, the indexes will be from 0 through 25."
   ]
  },
  {
   "cell_type": "code",
   "execution_count": 108,
   "metadata": {},
   "outputs": [
    {
     "data": {
      "text/plain": [
       "'a'"
      ]
     },
     "execution_count": 108,
     "metadata": {},
     "output_type": "execute_result"
    }
   ],
   "source": [
    "s[0]"
   ]
  },
  {
   "cell_type": "code",
   "execution_count": 109,
   "metadata": {},
   "outputs": [
    {
     "data": {
      "text/plain": [
       "'b'"
      ]
     },
     "execution_count": 109,
     "metadata": {},
     "output_type": "execute_result"
    }
   ],
   "source": [
    "s[1]"
   ]
  },
  {
   "cell_type": "code",
   "execution_count": 110,
   "metadata": {},
   "outputs": [
    {
     "data": {
      "text/plain": [
       "'c'"
      ]
     },
     "execution_count": 110,
     "metadata": {},
     "output_type": "execute_result"
    }
   ],
   "source": [
    "s[2]"
   ]
  },
  {
   "cell_type": "code",
   "execution_count": 111,
   "metadata": {},
   "outputs": [
    {
     "data": {
      "text/plain": [
       "'z'"
      ]
     },
     "execution_count": 111,
     "metadata": {},
     "output_type": "execute_result"
    }
   ],
   "source": [
    "s[25]"
   ]
  },
  {
   "cell_type": "code",
   "execution_count": 112,
   "metadata": {},
   "outputs": [
    {
     "data": {
      "text/plain": [
       "'g'"
      ]
     },
     "execution_count": 112,
     "metadata": {},
     "output_type": "execute_result"
    }
   ],
   "source": [
    "i = 6\n",
    "s[i]  # can I use a variable here? Yes!"
   ]
  },
  {
   "cell_type": "code",
   "execution_count": 113,
   "metadata": {},
   "outputs": [
    {
     "ename": "IndexError",
     "evalue": "string index out of range",
     "output_type": "error",
     "traceback": [
      "\u001b[0;31m---------------------------------------------------------------------------\u001b[0m",
      "\u001b[0;31mIndexError\u001b[0m                                Traceback (most recent call last)",
      "\u001b[0;32m/var/folders/rr/0mnyyv811fs5vyp22gf4fxk00000gn/T/ipykernel_52484/2385953638.py\u001b[0m in \u001b[0;36m<module>\u001b[0;34m\u001b[0m\n\u001b[1;32m      1\u001b[0m \u001b[0;31m# what if I ask for an index that doesn't exist?\u001b[0m\u001b[0;34m\u001b[0m\u001b[0;34m\u001b[0m\u001b[0m\n\u001b[0;32m----> 2\u001b[0;31m \u001b[0ms\u001b[0m\u001b[0;34m[\u001b[0m\u001b[0;36m100\u001b[0m\u001b[0;34m]\u001b[0m\u001b[0;34m\u001b[0m\u001b[0;34m\u001b[0m\u001b[0m\n\u001b[0m",
      "\u001b[0;31mIndexError\u001b[0m: string index out of range"
     ]
    }
   ],
   "source": [
    "# what if I ask for an index that doesn't exist?\n",
    "s[100]"
   ]
  },
  {
   "cell_type": "code",
   "execution_count": 114,
   "metadata": {},
   "outputs": [
    {
     "data": {
      "text/plain": [
       "'z'"
      ]
     },
     "execution_count": 114,
     "metadata": {},
     "output_type": "execute_result"
    }
   ],
   "source": [
    "# what's the maximum index in s? 25 here, but more generally, we can say\n",
    "s[  len(s)-1   ]"
   ]
  },
  {
   "cell_type": "code",
   "execution_count": 115,
   "metadata": {},
   "outputs": [
    {
     "data": {
      "text/plain": [
       "'z'"
      ]
     },
     "execution_count": 115,
     "metadata": {},
     "output_type": "execute_result"
    }
   ],
   "source": [
    "# or, more nicely, we can write\n",
    "s[-1]   # negative indexes count from the right side"
   ]
  },
  {
   "cell_type": "code",
   "execution_count": 116,
   "metadata": {},
   "outputs": [
    {
     "data": {
      "text/plain": [
       "'y'"
      ]
     },
     "execution_count": 116,
     "metadata": {},
     "output_type": "execute_result"
    }
   ],
   "source": [
    "s[-2]"
   ]
  },
  {
   "cell_type": "code",
   "execution_count": 117,
   "metadata": {},
   "outputs": [
    {
     "data": {
      "text/plain": [
       "'x'"
      ]
     },
     "execution_count": 117,
     "metadata": {},
     "output_type": "execute_result"
    }
   ],
   "source": [
    "s[-3]"
   ]
  },
  {
   "cell_type": "markdown",
   "metadata": {},
   "source": [
    "# Exercise: Print a character\n",
    "\n",
    "1. Ask the user to enter a string, and assign to `s`.\n",
    "2. Ask the user to enter an integer, the index of the character we want back, and assign to `i`.\n",
    "3. If `i` is less than 0, or is greater than the largest legal index, print an error message.\n",
    "4. Otherwise, print the character at that index.\n",
    "\n",
    "Example:\n",
    "\n",
    "    Enter a string: hello out there!\n",
    "    Enter an index: 100\n",
    "    Too big\n",
    "    \n",
    "    Enter a string: hello out there!\n",
    "    Enter an index: 6\n",
    "    o is at index 6\n",
    "    \n",
    "    "
   ]
  },
  {
   "cell_type": "code",
   "execution_count": 124,
   "metadata": {},
   "outputs": [
    {
     "name": "stdout",
     "output_type": "stream",
     "text": [
      "Enter a string: hello\n",
      "Enter an index: 0\n",
      "h is at index 0\n"
     ]
    }
   ],
   "source": [
    "s = input('Enter a string: ')\n",
    "\n",
    "i = input('Enter an index: ')\n",
    "i = int(i)\n",
    "\n",
    "if i >= len(s):\n",
    "    print(f'Too big! Maximum index is {len(s)-1}')\n",
    "elif i < 0:\n",
    "    print(f'Too small! Minimum index is 0')\n",
    "else:\n",
    "    print(f'{s[i]} is at index {i}')"
   ]
  },
  {
   "cell_type": "markdown",
   "metadata": {},
   "source": [
    "# What if I want more than one character? Slices to the rescue!\n",
    "\n",
    "A \"slice\" is a string that we got from an existing string, from a certain index up to (and not including) a second index. "
   ]
  },
  {
   "cell_type": "code",
   "execution_count": 126,
   "metadata": {},
   "outputs": [
    {
     "data": {
      "text/plain": [
       "26"
      ]
     },
     "execution_count": 126,
     "metadata": {},
     "output_type": "execute_result"
    }
   ],
   "source": [
    "s = 'abcdefghijklmnopqrstuvwxyz'\n",
    "len(s)"
   ]
  },
  {
   "cell_type": "code",
   "execution_count": 127,
   "metadata": {},
   "outputs": [
    {
     "data": {
      "text/plain": [
       "'klmnopqrst'"
      ]
     },
     "execution_count": 127,
     "metadata": {},
     "output_type": "execute_result"
    }
   ],
   "source": [
    "s[10:20]   # get a new string, based on s, starting at s's index 10 until (not including) index 20"
   ]
  },
  {
   "cell_type": "code",
   "execution_count": 128,
   "metadata": {},
   "outputs": [
    {
     "data": {
      "text/plain": [
       "'fghijklmno'"
      ]
     },
     "execution_count": 128,
     "metadata": {},
     "output_type": "execute_result"
    }
   ],
   "source": [
    "s[5:15]    # starting at index 5, until (not including) index 15"
   ]
  },
  {
   "cell_type": "code",
   "execution_count": 129,
   "metadata": {},
   "outputs": [
    {
     "data": {
      "text/plain": [
       "'abcdefghijklmno'"
      ]
     },
     "execution_count": 129,
     "metadata": {},
     "output_type": "execute_result"
    }
   ],
   "source": [
    "# start at the beginning of s, until (not including) 15\n",
    "s[:15]"
   ]
  },
  {
   "cell_type": "code",
   "execution_count": 130,
   "metadata": {},
   "outputs": [
    {
     "data": {
      "text/plain": [
       "'pqrstuvwxyz'"
      ]
     },
     "execution_count": 130,
     "metadata": {},
     "output_type": "execute_result"
    }
   ],
   "source": [
    "# end at the end of the string\n",
    "s[15:]   # no explicit end is specified"
   ]
  },
  {
   "cell_type": "code",
   "execution_count": 131,
   "metadata": {},
   "outputs": [
    {
     "data": {
      "text/plain": [
       "True"
      ]
     },
     "execution_count": 131,
     "metadata": {},
     "output_type": "execute_result"
    }
   ],
   "source": [
    "# searching in a string:\n",
    "# we can use the \"in\" operator to search in a string\n",
    "\n",
    "'j' in s   # returns True/False did it find the small thing (on the left) in the data on the right?"
   ]
  },
  {
   "cell_type": "code",
   "execution_count": 132,
   "metadata": {},
   "outputs": [
    {
     "data": {
      "text/plain": [
       "False"
      ]
     },
     "execution_count": 132,
     "metadata": {},
     "output_type": "execute_result"
    }
   ],
   "source": [
    "'!' in s"
   ]
  },
  {
   "cell_type": "code",
   "execution_count": 133,
   "metadata": {},
   "outputs": [
    {
     "data": {
      "text/plain": [
       "True"
      ]
     },
     "execution_count": 133,
     "metadata": {},
     "output_type": "execute_result"
    }
   ],
   "source": [
    "'defg' in s  # can we look for a small string in a big string?"
   ]
  },
  {
   "cell_type": "code",
   "execution_count": 134,
   "metadata": {},
   "outputs": [
    {
     "data": {
      "text/plain": [
       "False"
      ]
     },
     "execution_count": 134,
     "metadata": {},
     "output_type": "execute_result"
    }
   ],
   "source": [
    "'dg' in s   # it needs the left-side all in a row -- we're not looking for both 'd' and 'g'"
   ]
  },
  {
   "cell_type": "code",
   "execution_count": 135,
   "metadata": {},
   "outputs": [
    {
     "data": {
      "text/plain": [
       "'abcdefghijklmnopqrstuvwxyz'"
      ]
     },
     "execution_count": 135,
     "metadata": {},
     "output_type": "execute_result"
    }
   ],
   "source": [
    "# What if we try to change our string?\n",
    "\n",
    "s"
   ]
  },
  {
   "cell_type": "code",
   "execution_count": 136,
   "metadata": {},
   "outputs": [
    {
     "ename": "TypeError",
     "evalue": "'str' object does not support item assignment",
     "output_type": "error",
     "traceback": [
      "\u001b[0;31m---------------------------------------------------------------------------\u001b[0m",
      "\u001b[0;31mTypeError\u001b[0m                                 Traceback (most recent call last)",
      "\u001b[0;32m/var/folders/rr/0mnyyv811fs5vyp22gf4fxk00000gn/T/ipykernel_52484/1826938866.py\u001b[0m in \u001b[0;36m<module>\u001b[0;34m\u001b[0m\n\u001b[0;32m----> 1\u001b[0;31m \u001b[0ms\u001b[0m\u001b[0;34m[\u001b[0m\u001b[0;36m0\u001b[0m\u001b[0;34m]\u001b[0m \u001b[0;34m=\u001b[0m \u001b[0;34m'!'\u001b[0m   \u001b[0;31m# can we do this?\u001b[0m\u001b[0;34m\u001b[0m\u001b[0;34m\u001b[0m\u001b[0m\n\u001b[0m",
      "\u001b[0;31mTypeError\u001b[0m: 'str' object does not support item assignment"
     ]
    }
   ],
   "source": [
    "s[0] = '!'   # can we do this?"
   ]
  },
  {
   "cell_type": "markdown",
   "metadata": {},
   "source": [
    "# Strings are immutable\n",
    "\n",
    "Once a string is created, we cannot change it. We can create a new string based on it. We cannot change it in any way, shape, or form.  Such data structures are known as \"immutable.\""
   ]
  },
  {
   "cell_type": "markdown",
   "metadata": {},
   "source": [
    "# Exercise: Pig Latin translator\n",
    "\n",
    "Pig Latin is a children's \"secret\" language. You can translate from English to Pig Latin with the following rules:\n",
    "\n",
    "1. If the first letter of a word is a vowel (a, e, i, o, or u), then add `way` to the end of the word.\n",
    "2. Otherwise, move the first letter to the end, and add `ay`.\n",
    "\n",
    "Examples:\n",
    "\n",
    "- `computer` -> `omputercay`\n",
    "- `octopus` -> `octopusway`\n",
    "- `microphone` -> `icrophoneway`\n",
    "- `papaya` -> `apayapay`\n",
    "\n",
    "1. Ask the user to enter a word -- all lowercase, no punctuation.\n",
    "2. Translate the word into Pig Latin, and print the result."
   ]
  },
  {
   "cell_type": "code",
   "execution_count": 139,
   "metadata": {},
   "outputs": [
    {
     "name": "stdout",
     "output_type": "stream",
     "text": [
      "Enter a word: octopus\n",
      "octopusway\n"
     ]
    }
   ],
   "source": [
    "word = input('Enter a word: ')\n",
    "\n",
    "# does the word begin with a vowel?\n",
    "if word[0] == 'a' or word[0] == 'e' or word[0] == 'i' or word[0] == 'o' or word[0] == 'u':\n",
    "    print(word + 'way')"
   ]
  },
  {
   "cell_type": "code",
   "execution_count": 141,
   "metadata": {},
   "outputs": [
    {
     "name": "stdout",
     "output_type": "stream",
     "text": [
      "Enter a word: door\n",
      "doorway\n"
     ]
    }
   ],
   "source": [
    "# let's try something else:\n",
    "\n",
    "word = input('Enter a word: ')\n",
    "\n",
    "# this looks great, and tempting, but WILL NOT WORK\n",
    "if word[0] == 'a' or 'e' or 'i' or 'o' or 'u':\n",
    "    print(word + 'way')"
   ]
  },
  {
   "cell_type": "code",
   "execution_count": null,
   "metadata": {},
   "outputs": [],
   "source": [
    "# when we use \"or\", it looks to its left and right for True/False values.\n",
    "# here, we said:\n",
    "\n",
    "#       False         True          True      True           True\n",
    "if word[0] == 'a' or    'e'    or   'i'   or    'o'     or    'u':\n"
   ]
  },
  {
   "cell_type": "code",
   "execution_count": 144,
   "metadata": {},
   "outputs": [
    {
     "name": "stdout",
     "output_type": "stream",
     "text": [
      "Enter a word: horseshoe\n",
      "orseshoehay\n"
     ]
    }
   ],
   "source": [
    "# if you really want to check if word[0] is in an established group of characters,\n",
    "# use the \"in\" operator to check in a string\n",
    "\n",
    "# here, we treat our string as as collection in which we can search\n",
    "\n",
    "word = input('Enter a word: ')\n",
    "\n",
    "if word[0] in 'aeiou':   # this means: if the first character of word is in 'aeiou', then ... \n",
    "    print(word + 'way')\n",
    "else:\n",
    "    print(word[1:] + word[0] + 'ay')  # all but the first letter + the first letter + ay"
   ]
  },
  {
   "cell_type": "markdown",
   "metadata": {},
   "source": [
    "# Methods\n",
    "\n",
    "We have spoken, so far, about some functions -- the verbs in our programming language. But there's another kind of verb, a cousin to functions, known as \"methods.\"\n",
    "\n",
    "Whereas we call functions as\n",
    "\n",
    "    FUNC(DATA, THING1, THING2)\n",
    "    \n",
    "we call methods like this:\n",
    "\n",
    "    DATA.FUNC(THING1, THING2)\n",
    "    \n",
    "You can think of a method as a function that's connected to an object. All objects of the same type (e.g., all strings) have the same methods available.    "
   ]
  },
  {
   "cell_type": "code",
   "execution_count": 146,
   "metadata": {},
   "outputs": [
    {
     "name": "stdout",
     "output_type": "stream",
     "text": [
      "Enter your name:            Reuven        \n",
      "Hello,            Reuven        !\n"
     ]
    }
   ],
   "source": [
    "# What string methods exist?\n",
    "\n",
    "name = input('Enter your name: ')\n",
    "\n",
    "print(f'Hello, {name}!')"
   ]
  },
  {
   "cell_type": "code",
   "execution_count": 147,
   "metadata": {},
   "outputs": [
    {
     "data": {
      "text/plain": [
       "'           Reuven        '"
      ]
     },
     "execution_count": 147,
     "metadata": {},
     "output_type": "execute_result"
    }
   ],
   "source": [
    "name"
   ]
  },
  {
   "cell_type": "code",
   "execution_count": 148,
   "metadata": {},
   "outputs": [
    {
     "data": {
      "text/plain": [
       "'Reuven'"
      ]
     },
     "execution_count": 148,
     "metadata": {},
     "output_type": "execute_result"
    }
   ],
   "source": [
    "# the \"strip\" string method returns a new string based on the existing one, \n",
    "# without whitespace (spaces, newlines, etc.) at the start or end\n",
    "\n",
    "name.strip()"
   ]
  },
  {
   "cell_type": "code",
   "execution_count": 149,
   "metadata": {},
   "outputs": [
    {
     "name": "stdout",
     "output_type": "stream",
     "text": [
      "Enter your name:    Reuven   \n",
      "Hello, Reuven!\n"
     ]
    }
   ],
   "source": [
    "# how to use strip in improving our program?\n",
    "\n",
    "name = input('Enter your name: ')\n",
    "name = name.strip()\n",
    "\n",
    "print(f'Hello, {name}!')"
   ]
  },
  {
   "cell_type": "code",
   "execution_count": 150,
   "metadata": {},
   "outputs": [
    {
     "name": "stdout",
     "output_type": "stream",
     "text": [
      "Enter your name:    Reuven   \n",
      "Hello, Reuven!\n"
     ]
    }
   ],
   "source": [
    "# even better: strip the string that input returns\n",
    "\n",
    "name = input('Enter your name: ').strip()\n",
    "\n",
    "print(f'Hello, {name}!')"
   ]
  },
  {
   "cell_type": "markdown",
   "metadata": {},
   "source": [
    "# Some other string methods\n",
    "\n",
    "- `s.lower()` -- returns a new string, with all lowercase letters, based on `s`\n",
    "- `s.upper()` -- returns a new string, with all uppercase letters, based on `s`\n",
    "- `s.capitalize()` -- returns a new string, with the first letter capitalized and the rest lowercase, based on `s`\n",
    "\n"
   ]
  },
  {
   "cell_type": "code",
   "execution_count": 151,
   "metadata": {},
   "outputs": [],
   "source": [
    "s = 'aBcD eFgH'"
   ]
  },
  {
   "cell_type": "code",
   "execution_count": 152,
   "metadata": {},
   "outputs": [
    {
     "data": {
      "text/plain": [
       "'ABCD EFGH'"
      ]
     },
     "execution_count": 152,
     "metadata": {},
     "output_type": "execute_result"
    }
   ],
   "source": [
    "s.upper()"
   ]
  },
  {
   "cell_type": "code",
   "execution_count": 153,
   "metadata": {},
   "outputs": [
    {
     "data": {
      "text/plain": [
       "'abcd efgh'"
      ]
     },
     "execution_count": 153,
     "metadata": {},
     "output_type": "execute_result"
    }
   ],
   "source": [
    "s.lower()"
   ]
  },
  {
   "cell_type": "code",
   "execution_count": 154,
   "metadata": {},
   "outputs": [
    {
     "data": {
      "text/plain": [
       "'Abcd efgh'"
      ]
     },
     "execution_count": 154,
     "metadata": {},
     "output_type": "execute_result"
    }
   ],
   "source": [
    "s.capitalize()"
   ]
  },
  {
   "cell_type": "code",
   "execution_count": 155,
   "metadata": {},
   "outputs": [
    {
     "name": "stdout",
     "output_type": "stream",
     "text": [
      "Enter first word: Banana\n",
      "Enter second word: apple\n",
      "apple comes before Banana\n"
     ]
    }
   ],
   "source": [
    "# revisit our \"which word comes first?\" exercise\n",
    "\n",
    "first = input('Enter first word: ')\n",
    "second = input('Enter second word: ')\n",
    "\n",
    "if first.lower() < second.lower():\n",
    "    print(f'{first} comes before {second}')\n",
    "elif second.lower() < first.lower():\n",
    "    print(f'{second} comes before {first}')\n",
    "else:\n",
    "    print(f'You entered {first} twice!')"
   ]
  },
  {
   "cell_type": "code",
   "execution_count": 156,
   "metadata": {},
   "outputs": [
    {
     "ename": "SyntaxError",
     "evalue": "invalid syntax (2632905108.py, line 2)",
     "output_type": "error",
     "traceback": [
      "\u001b[0;36m  File \u001b[0;32m\"/var/folders/rr/0mnyyv811fs5vyp22gf4fxk00000gn/T/ipykernel_52484/2632905108.py\"\u001b[0;36m, line \u001b[0;32m2\u001b[0m\n\u001b[0;31m    s.\u001b[0m\n\u001b[0m      ^\u001b[0m\n\u001b[0;31mSyntaxError\u001b[0m\u001b[0;31m:\u001b[0m invalid syntax\n"
     ]
    }
   ],
   "source": [
    "# in Jupyter, if you have a string, you can then use . and tab to see all of the methods\n",
    "s."
   ]
  },
  {
   "cell_type": "code",
   "execution_count": 159,
   "metadata": {},
   "outputs": [
    {
     "name": "stdout",
     "output_type": "stream",
     "text": [
      "Enter a number:   123  \n",
      "2 * 123 = 246\n"
     ]
    }
   ],
   "source": [
    "s = input('Enter a number: ').strip()\n",
    "\n",
    "if s.isdigit(): # is a string method, returns True if all characters in s are 0-9\n",
    "    n = int(s)\n",
    "    print(f'2 * {n} = {2*n}')\n",
    "else:\n",
    "    print(f'Illegal input')"
   ]
  },
  {
   "cell_type": "code",
   "execution_count": 162,
   "metadata": {},
   "outputs": [
    {
     "data": {
      "text/plain": [
       "'Abcd efgh'"
      ]
     },
     "execution_count": 162,
     "metadata": {},
     "output_type": "execute_result"
    }
   ],
   "source": [
    "s = 'aBcD eFgH'\n",
    "\n",
    "s.lower().capitalize()  # method chaining"
   ]
  },
  {
   "cell_type": "code",
   "execution_count": null,
   "metadata": {},
   "outputs": [],
   "source": []
  }
 ],
 "metadata": {
  "kernelspec": {
   "display_name": "Python 3 (ipykernel)",
   "language": "python",
   "name": "python3"
  },
  "language_info": {
   "codemirror_mode": {
    "name": "ipython",
    "version": 3
   },
   "file_extension": ".py",
   "mimetype": "text/x-python",
   "name": "python",
   "nbconvert_exporter": "python",
   "pygments_lexer": "ipython3",
   "version": "3.10.8"
  }
 },
 "nbformat": 4,
 "nbformat_minor": 4
}
