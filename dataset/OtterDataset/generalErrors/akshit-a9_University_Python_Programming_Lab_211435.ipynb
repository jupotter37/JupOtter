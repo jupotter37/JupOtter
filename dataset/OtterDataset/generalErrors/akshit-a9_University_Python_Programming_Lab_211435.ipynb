{
  "nbformat": 4,
  "nbformat_minor": 0,
  "metadata": {
    "colab": {
      "provenance": []
    },
    "kernelspec": {
      "name": "python3",
      "display_name": "Python 3"
    },
    "language_info": {
      "name": "python"
    }
  },
  "cells": [
    {
      "cell_type": "markdown",
      "source": [
        "# **AKSHIT SHARMA**\n",
        "# **211435**\n",
        "# **CS-34**\n",
        "# **PYTHON PROGRAMMING ESSENTIALS LAB**"
      ],
      "metadata": {
        "id": "mpedHveEXwqJ"
      }
    },
    {
      "cell_type": "markdown",
      "source": [
        "# **LAB 1 - 22/07/2022**"
      ],
      "metadata": {
        "id": "pNRKvQdVBXBR"
      }
    },
    {
      "cell_type": "code",
      "source": [
        "print(\"Hello World\")"
      ],
      "metadata": {
        "colab": {
          "base_uri": "https://localhost:8080/"
        },
        "id": "CC1RthZvBwm2",
        "outputId": "44af01ac-c5d0-42a0-adbf-2bac56738520"
      },
      "execution_count": null,
      "outputs": [
        {
          "output_type": "stream",
          "name": "stdout",
          "text": [
            "Hello World\n"
          ]
        }
      ]
    },
    {
      "cell_type": "code",
      "source": [
        "a=10.12\n",
        "str = \"Äkshit\"\n",
        "print (type (str))\n",
        "b=220\n",
        "c=a+b #add two values\n",
        "print(a, \"+\", b, \"---> \", c)"
      ],
      "metadata": {
        "colab": {
          "base_uri": "https://localhost:8080/"
        },
        "id": "rC-oSf7tCwWq",
        "outputId": "7f0a4ba0-0bb4-4acf-a0be-a97f3088bf27"
      },
      "execution_count": null,
      "outputs": [
        {
          "output_type": "stream",
          "name": "stdout",
          "text": [
            "<class 'str'>\n",
            "10.12 + 220 --->  230.12\n"
          ]
        }
      ]
    },
    {
      "cell_type": "code",
      "source": [
        "a = \"Akshit\"\n",
        "b = \" Sharma\"\n",
        "c = a + b #conactenate two strings\n",
        "print(a, \"+\", b, \"---> \", c)\n"
      ],
      "metadata": {
        "colab": {
          "base_uri": "https://localhost:8080/"
        },
        "id": "wS621EPUEVrx",
        "outputId": "99572356-c424-44e3-f807-42d8e9f2bfb6"
      },
      "execution_count": null,
      "outputs": [
        {
          "output_type": "stream",
          "name": "stdout",
          "text": [
            "Akshit +  Sharma --->  Akshit Sharma\n"
          ]
        }
      ]
    },
    {
      "cell_type": "markdown",
      "source": [
        "Assignment - WAP to add three numbers and print results.\n"
      ],
      "metadata": {
        "id": "xKeAyeIREwUy"
      }
    },
    {
      "cell_type": "code",
      "source": [
        "a = 14\n",
        "b = 15.36\n",
        "c = 75\n",
        "d = a + b + c #adding three values\n",
        "print(a, \"+\", b, \"+\", c, \"--> \", d)"
      ],
      "metadata": {
        "colab": {
          "base_uri": "https://localhost:8080/"
        },
        "id": "UwrAQoITE3ih",
        "outputId": "890731a3-94b4-4598-8a1c-f9f2b36be060"
      },
      "execution_count": null,
      "outputs": [
        {
          "output_type": "stream",
          "name": "stdout",
          "text": [
            "14 + 15.36 + 75 -->  104.36\n"
          ]
        }
      ]
    },
    {
      "cell_type": "markdown",
      "source": [
        "Assignment - WAP to concatenate three strings and print result"
      ],
      "metadata": {
        "id": "Oda1tlr_FP1S"
      }
    },
    {
      "cell_type": "code",
      "source": [
        "a = \"WAP to concatenate\"\n",
        "b = \" three strings\"\n",
        "c = \" and print result.\"\n",
        "d = a + b + c\n",
        "print(a, \"+\", b, \"+\", c, \"--> \", d)"
      ],
      "metadata": {
        "colab": {
          "base_uri": "https://localhost:8080/"
        },
        "id": "qrwzTGT3FWLa",
        "outputId": "a722dae0-79bb-49d1-e57d-a075dc6c0cd8"
      },
      "execution_count": null,
      "outputs": [
        {
          "output_type": "stream",
          "name": "stdout",
          "text": [
            "WAP to concatenate +  three strings +  and print result. -->  WAP to concatenate three strings and print result.\n"
          ]
        }
      ]
    },
    {
      "cell_type": "code",
      "source": [
        "#Input from user and how to take input as integer.\n",
        "a = int(input(\"Enter first number : \"))\n",
        "print(\"The datatype of the above input : \", type(a))\n",
        "b = int(input(\"Enter second number : \"))\n",
        "print(\"The datatype of the above input : \", type(b))\n",
        "c = a + b\n",
        "print(a, \"+\", b, \"---> \", c)\n",
        "print(\"The datatype of the output : \", type(c))"
      ],
      "metadata": {
        "colab": {
          "base_uri": "https://localhost:8080/"
        },
        "id": "oWYsD0zdF7TL",
        "outputId": "834c47f5-7724-4280-fd5a-bc443ab5b017"
      },
      "execution_count": null,
      "outputs": [
        {
          "output_type": "stream",
          "name": "stdout",
          "text": [
            "Enter first number : 52\n",
            "The datatype of the above input :  <class 'int'>\n",
            "Enter second number : 12\n",
            "The datatype of the above input :  <class 'int'>\n",
            "52 + 12 --->  64\n",
            "The datatype of the output :  <class 'int'>\n"
          ]
        }
      ]
    },
    {
      "cell_type": "code",
      "source": [
        "#Same program without explicit typecasting\n",
        "a = (input(\"Enter first number : \"))\n",
        "print(\"The datatype of the above input : \", type(a))\n",
        "b = (input(\"Enter second number : \"))\n",
        "print(\"The datatype of the above input : \", type(b))\n",
        "c = a + b\n",
        "print(a, \"+\", b, \"---> \", c)\n",
        "print(\"The datatype of the output : \", type(c))"
      ],
      "metadata": {
        "colab": {
          "base_uri": "https://localhost:8080/"
        },
        "id": "8fS2_I_fGuII",
        "outputId": "2ab8ab7d-2842-40a9-f8c2-2511701d1ff9"
      },
      "execution_count": null,
      "outputs": [
        {
          "output_type": "stream",
          "name": "stdout",
          "text": [
            "Enter first number : 52\n",
            "The datatype of the above input :  <class 'str'>\n",
            "Enter second number : 12\n",
            "The datatype of the above input :  <class 'str'>\n",
            "52 + 12 --->  5212\n",
            "The datatype of the output :  <class 'str'>\n"
          ]
        }
      ]
    },
    {
      "cell_type": "code",
      "source": [
        "#Input two strings and concatenate them\n",
        "a = (input(\"Enter first string : \"))\n",
        "print(\"The datatype of the above input : \", type(a))\n",
        "b = (input(\"Enter second string : \"))\n",
        "print(\"The datatype of the above input : \", type(b))\n",
        "c = a + b\n",
        "print(a, \"+\", b, \"---> \", c)\n",
        "print(\"The datatype of the output : \", type(c))"
      ],
      "metadata": {
        "colab": {
          "base_uri": "https://localhost:8080/"
        },
        "id": "yTuMvts2G8CZ",
        "outputId": "4c055f32-8405-48ac-812d-7830ee2fc567"
      },
      "execution_count": null,
      "outputs": [
        {
          "output_type": "stream",
          "name": "stdout",
          "text": [
            "Enter first string : Akshit\n",
            "The datatype of the above input :  <class 'str'>\n",
            "Enter second string :  Sharma\n",
            "The datatype of the above input :  <class 'str'>\n",
            "Akshit +  Sharma --->  Akshit Sharma\n",
            "The datatype of the output :  <class 'str'>\n"
          ]
        }
      ]
    },
    {
      "cell_type": "markdown",
      "source": [
        "Assignment: WAP to add three numbers, input from user and print result"
      ],
      "metadata": {
        "id": "hPmWsVt0HdoJ"
      }
    },
    {
      "cell_type": "code",
      "source": [
        "#Input from user and add three numbers\n",
        "a = int(input(\"Enter first number : \"))\n",
        "b = int(input(\"Enter second number : \"))\n",
        "c = int(input(\"Enter third number : \"))\n",
        "d = a + b + c\n",
        "print(a, \"+\", b, \"+\", c, \"---> \", d)"
      ],
      "metadata": {
        "colab": {
          "base_uri": "https://localhost:8080/"
        },
        "id": "iM1oqOprHZ9g",
        "outputId": "0b324009-057c-4d1c-c28a-0e460b1dc100"
      },
      "execution_count": null,
      "outputs": [
        {
          "output_type": "stream",
          "name": "stdout",
          "text": [
            "Enter first number : 86\n",
            "Enter second number : 54\n",
            "Enter third number : 12\n",
            "86 + 54 + 12 --->  152\n"
          ]
        }
      ]
    },
    {
      "cell_type": "markdown",
      "source": [
        "Assignment: WAP to concatenate three strings"
      ],
      "metadata": {
        "id": "OutK3h6IH_wZ"
      }
    },
    {
      "cell_type": "code",
      "source": [
        "#Input from user and concatenate three strings\n",
        "a = (input(\"Enter first string : \"))\n",
        "b = (input(\"Enter second string : \"))\n",
        "c = (input(\"Enter third string : \"))\n",
        "d = a + b + c\n",
        "print(a, \"+\", b, \"+\", c, \"---> \", d)"
      ],
      "metadata": {
        "colab": {
          "base_uri": "https://localhost:8080/"
        },
        "id": "RWN2wm_cIFJA",
        "outputId": "00117198-fb4d-4828-d928-30ae6e35a720"
      },
      "execution_count": null,
      "outputs": [
        {
          "output_type": "stream",
          "name": "stdout",
          "text": [
            "Enter first string : WAP to\n",
            "Enter second string :  concatenate\n",
            "Enter third string :  three strings\n",
            "WAP to +  concatenate +  three strings --->  WAP to concatenate three strings\n"
          ]
        }
      ]
    },
    {
      "cell_type": "code",
      "source": [
        "#while loop\n",
        "i=1\n",
        "while i<=10:\n",
        "  print(i)\n",
        "  i=i+1"
      ],
      "metadata": {
        "colab": {
          "base_uri": "https://localhost:8080/"
        },
        "id": "aT-hD_mZJXFi",
        "outputId": "8a577776-7f56-4b2f-b6be-b642e45e087b"
      },
      "execution_count": null,
      "outputs": [
        {
          "output_type": "stream",
          "name": "stdout",
          "text": [
            "1\n",
            "2\n",
            "3\n",
            "4\n",
            "5\n",
            "6\n",
            "7\n",
            "8\n",
            "9\n",
            "10\n"
          ]
        }
      ]
    },
    {
      "cell_type": "code",
      "source": [
        "#while loop\n",
        "i=1\n",
        "while i<=10:\n",
        "  print(i, end=\" \")\n",
        "  i+=1"
      ],
      "metadata": {
        "colab": {
          "base_uri": "https://localhost:8080/"
        },
        "id": "Yq0gDSPIJ_eS",
        "outputId": "51623baf-b75e-4c15-c8cf-0dae2e64cbfb"
      },
      "execution_count": null,
      "outputs": [
        {
          "output_type": "stream",
          "name": "stdout",
          "text": [
            "1 2 3 4 5 6 7 8 9 10 "
          ]
        }
      ]
    },
    {
      "cell_type": "code",
      "source": [
        "#range function\n",
        "print(\"range(10) ---> \", list(range(10)))\n",
        "print(\"range(0,20) ---> \", list(range(0,20)))\n",
        "print(\"range(10,20) ---> \", list(range(10,20)))\n",
        "print(\"range(0,20,2) ---> \", list(range(0,20,2)))\n",
        "print(\"range(-18,-28,2) ---> \", list(range(-18,-28,2)))\n",
        "print(\"range(-10,28,-2) ---> \", list(range(10,-28,-2)))"
      ],
      "metadata": {
        "colab": {
          "base_uri": "https://localhost:8080/"
        },
        "id": "nHu78lAxKROa",
        "outputId": "c5181521-48a5-41d2-fdff-da383b3d1b20"
      },
      "execution_count": null,
      "outputs": [
        {
          "output_type": "stream",
          "name": "stdout",
          "text": [
            "range(10) --->  [0, 1, 2, 3, 4, 5, 6, 7, 8, 9]\n",
            "range(0,20) --->  [0, 1, 2, 3, 4, 5, 6, 7, 8, 9, 10, 11, 12, 13, 14, 15, 16, 17, 18, 19]\n",
            "range(10,20) --->  [10, 11, 12, 13, 14, 15, 16, 17, 18, 19]\n",
            "range(0,20,2) --->  [0, 2, 4, 6, 8, 10, 12, 14, 16, 18]\n",
            "range(-18,-28,2) --->  []\n",
            "range(-10,28,-2) --->  [10, 8, 6, 4, 2, 0, -2, -4, -6, -8, -10, -12, -14, -16, -18, -20, -22, -24, -26]\n"
          ]
        }
      ]
    },
    {
      "cell_type": "code",
      "source": [
        "#for loop\n",
        "for i in range(0,10):\n",
        "  print (i)"
      ],
      "metadata": {
        "colab": {
          "base_uri": "https://localhost:8080/"
        },
        "id": "1a8VMfguL3o5",
        "outputId": "007eb057-1395-4c83-9590-f99c8f36215d"
      },
      "execution_count": null,
      "outputs": [
        {
          "output_type": "stream",
          "name": "stdout",
          "text": [
            "0\n",
            "1\n",
            "2\n",
            "3\n",
            "4\n",
            "5\n",
            "6\n",
            "7\n",
            "8\n",
            "9\n"
          ]
        }
      ]
    },
    {
      "cell_type": "markdown",
      "source": [
        "Assignment: WAP for a simple calculator"
      ],
      "metadata": {
        "id": "eUxuyYiAMG5K"
      }
    },
    {
      "cell_type": "code",
      "source": [
        "#simple calculator\n",
        "print (\"For addition press 1, For subtraction press 2, For divison press 3, For multiplication press 4.\")\n",
        "a = int(input(\"Enter your choice : \"))\n",
        "num1 = int(input(\"Enter the first operand :\"))\n",
        "num2 = int(input(\"Enter the second operand :\"))\n",
        "\n",
        "if a == 1:\n",
        "  print(num1, \"+\", num2, \" = \", num1+num2)\n",
        "\n",
        "if a == 2:\n",
        "  print(num1, \"-\", num2, \" = \", num1-num2)\n",
        "\n",
        "if a == 3:\n",
        "  print(num1, \"/\", num2, \" = \", num1/num2)\n",
        "\n",
        "if a == 4:\n",
        "  print(num1, \"*\", num2, \" = \", num1*num2)"
      ],
      "metadata": {
        "colab": {
          "base_uri": "https://localhost:8080/"
        },
        "id": "0d-HUz3HMKqT",
        "outputId": "b7f63006-2ee2-4e21-8a39-f301304e92d5"
      },
      "execution_count": null,
      "outputs": [
        {
          "output_type": "stream",
          "name": "stdout",
          "text": [
            "For addition press 1, For subtraction press 2, For divison press 3, For multiplication press 4.\n",
            "Enter your choice : 4\n",
            "Enter the first operand :96\n",
            "Enter the second operand :024\n",
            "96 * 24  =  2304\n"
          ]
        }
      ]
    },
    {
      "cell_type": "markdown",
      "source": [
        "# **LAB 2 - 25/07/2022**\n",
        "\n"
      ],
      "metadata": {
        "id": "3AbyR4baawI2"
      }
    },
    {
      "cell_type": "markdown",
      "source": [
        "## Executing a collab sheet given in the classroom."
      ],
      "metadata": {
        "id": "L_poNhfCcbf1"
      }
    },
    {
      "cell_type": "markdown",
      "source": [
        "### Part - 01 : print()"
      ],
      "metadata": {
        "id": "gw_aEnnZcjxW"
      }
    },
    {
      "cell_type": "code",
      "source": [
        "#hello world\n",
        "print(\"Hello! Welcome to the course\")"
      ],
      "metadata": {
        "colab": {
          "base_uri": "https://localhost:8080/"
        },
        "id": "Jy7VXwOfcoyO",
        "outputId": "35366dd3-d185-4b5b-907f-ae509758cdab"
      },
      "execution_count": null,
      "outputs": [
        {
          "output_type": "stream",
          "name": "stdout",
          "text": [
            "Hello! Welcome to the course\n"
          ]
        }
      ]
    },
    {
      "cell_type": "code",
      "source": [
        "#comments in python\n",
        "\n",
        "# print(\"Hello World!\")\n",
        "print(\"hello Universe!\")"
      ],
      "metadata": {
        "colab": {
          "base_uri": "https://localhost:8080/"
        },
        "id": "7SzGpHWEc0B-",
        "outputId": "272f27cb-4a10-4ef9-b79d-37d700b4911a"
      },
      "execution_count": null,
      "outputs": [
        {
          "output_type": "stream",
          "name": "stdout",
          "text": [
            "hello Universe!\n"
          ]
        }
      ]
    },
    {
      "cell_type": "code",
      "source": [
        "#multiline comments\n",
        "\n",
        "'''\n",
        "print(\"This\")\n",
        "print(\"is\")\n",
        "print(\"how we give multi-line comment\")\n",
        "5 + 3\n",
        "I am here\n",
        "'''\n",
        "print('This line')"
      ],
      "metadata": {
        "colab": {
          "base_uri": "https://localhost:8080/"
        },
        "id": "2z6Dm-jTc6uP",
        "outputId": "3e9f3af4-6dda-4a7f-9b2e-dc6a9c96d10a"
      },
      "execution_count": null,
      "outputs": [
        {
          "output_type": "stream",
          "name": "stdout",
          "text": [
            "This line\n"
          ]
        }
      ]
    },
    {
      "cell_type": "code",
      "source": [
        "#indentation in python\n",
        "\n",
        "print(\"abcd\")\n",
        "  print(\"efgh\")\n",
        "\n",
        "#blank spaces have a meaning in python."
      ],
      "metadata": {
        "colab": {
          "base_uri": "https://localhost:8080/",
          "height": 130
        },
        "id": "b4z7ngNbc_3N",
        "outputId": "06bc3a9a-bc1c-44ca-ebbf-fda062159004"
      },
      "execution_count": null,
      "outputs": [
        {
          "output_type": "error",
          "ename": "IndentationError",
          "evalue": "ignored",
          "traceback": [
            "\u001b[0;36m  File \u001b[0;32m\"<ipython-input-5-a372cc8cd705>\"\u001b[0;36m, line \u001b[0;32m4\u001b[0m\n\u001b[0;31m    print(\"efgh\")\u001b[0m\n\u001b[0m    ^\u001b[0m\n\u001b[0;31mIndentationError\u001b[0m\u001b[0;31m:\u001b[0m unexpected indent\n"
          ]
        }
      ]
    },
    {
      "cell_type": "code",
      "source": [
        "#without indentation\n",
        "\n",
        "print(\"abcd\")\n",
        "print(\"efgh\")"
      ],
      "metadata": {
        "colab": {
          "base_uri": "https://localhost:8080/"
        },
        "id": "SXsyegQJdLgd",
        "outputId": "918bea4d-cc73-4a16-8f61-f5a8582119ea"
      },
      "execution_count": null,
      "outputs": [
        {
          "output_type": "stream",
          "name": "stdout",
          "text": [
            "abcd\n",
            "efgh\n"
          ]
        }
      ]
    },
    {
      "cell_type": "code",
      "source": [
        "# printing more 2 more more strings\n",
        "# print('This is a message I want to print')\n",
        "print('This', 'is', 'a', 'course', \"on\", 'python')"
      ],
      "metadata": {
        "colab": {
          "base_uri": "https://localhost:8080/"
        },
        "id": "AORpIgePdS2g",
        "outputId": "18242aa8-7f83-4a62-c990-127a83ca4bbe"
      },
      "execution_count": null,
      "outputs": [
        {
          "output_type": "stream",
          "name": "stdout",
          "text": [
            "This is a course on python\n"
          ]
        }
      ]
    },
    {
      "cell_type": "code",
      "source": [
        "#using seperator\n",
        "\n",
        "print('This', 'is', 'a', 'course', 'on', 'python', sep=' ')\n",
        "\n",
        "print('This', 'is', \"a\", 'course', 'on', 'python', sep='**')"
      ],
      "metadata": {
        "colab": {
          "base_uri": "https://localhost:8080/"
        },
        "id": "A8widYu5dZG-",
        "outputId": "9c832db4-2f5d-434a-d456-7933f40df970"
      },
      "execution_count": null,
      "outputs": [
        {
          "output_type": "stream",
          "name": "stdout",
          "text": [
            "This is a course on python\n",
            "This**is**a**course**on**python\n"
          ]
        }
      ]
    },
    {
      "cell_type": "code",
      "source": [
        "#using end parameter\n",
        "\n",
        "print('This is a course on python', end='\\n') # it defaults to '\\n'\n",
        "print('Another message')\n",
        "print('\\n')\n",
        "\n",
        "print('This is a course on python', end='---------') # it defaults to '\\n'\n",
        "print('Another message')\n",
        "print('\\n')\n",
        "\n",
        "\n",
        "print('This is a course on python', end='\\n\\n')\n",
        "print('Another message')\n",
        "print('\\n')\n",
        "\n",
        "\n",
        "print('This is a course on python', end='     ')\n",
        "print('Another message')\n",
        "print('\\n')\n"
      ],
      "metadata": {
        "colab": {
          "base_uri": "https://localhost:8080/"
        },
        "id": "LrhystVjdke-",
        "outputId": "6b50f139-3e1f-4243-d221-a4a2c9d054c0"
      },
      "execution_count": null,
      "outputs": [
        {
          "output_type": "stream",
          "name": "stdout",
          "text": [
            "This is a course on python\n",
            "Another message\n",
            "\n",
            "\n",
            "This is a course on python---------Another message\n",
            "\n",
            "\n",
            "This is a course on python\n",
            "\n",
            "Another message\n",
            "\n",
            "\n",
            "This is a course on python     Another message\n",
            "\n",
            "\n"
          ]
        }
      ]
    },
    {
      "cell_type": "code",
      "source": [
        "#printing string with quotes\n",
        "\n",
        "print('It's a beautiful day')"
      ],
      "metadata": {
        "colab": {
          "base_uri": "https://localhost:8080/",
          "height": 130
        },
        "id": "th2FY5yFebjH",
        "outputId": "21d75b0d-8c67-40e0-c20f-0cd389cda7a5"
      },
      "execution_count": null,
      "outputs": [
        {
          "output_type": "error",
          "ename": "SyntaxError",
          "evalue": "ignored",
          "traceback": [
            "\u001b[0;36m  File \u001b[0;32m\"<ipython-input-14-d0ac336b1c38>\"\u001b[0;36m, line \u001b[0;32m3\u001b[0m\n\u001b[0;31m    print('It's a beautiful day')\u001b[0m\n\u001b[0m              ^\u001b[0m\n\u001b[0;31mSyntaxError\u001b[0m\u001b[0;31m:\u001b[0m invalid syntax\n"
          ]
        }
      ]
    },
    {
      "cell_type": "code",
      "source": [
        "# printing string with quotes (correct ways)\n",
        "\n",
        "print(\"It's a beautiful day\")\n",
        "print(\"It is called 'programming'\")\n",
        "print('It is called \"programming\"')\n",
        "print('\\n')\n",
        "# print \"It is called 'programming'\"\n",
        "print('''\"It is called 'programming'\"''')\n",
        "\n"
      ],
      "metadata": {
        "colab": {
          "base_uri": "https://localhost:8080/"
        },
        "id": "p5idRzHseeym",
        "outputId": "6d4d3a36-de27-4143-e19d-b4097bdd70b4"
      },
      "execution_count": null,
      "outputs": [
        {
          "output_type": "stream",
          "name": "stdout",
          "text": [
            "It's a beautiful day\n",
            "It is called 'programming'\n",
            "It is called \"programming\"\n",
            "\n",
            "\n",
            "\"It is called 'programming'\"\n"
          ]
        }
      ]
    },
    {
      "cell_type": "markdown",
      "source": [
        "### Part 02 - escape characters\n"
      ],
      "metadata": {
        "id": "e9nKjZh-fLfu"
      }
    },
    {
      "cell_type": "code",
      "source": [
        "# single quote\n",
        "print('It\\'s a beautiful day..')\n",
        "print('\\n')\n",
        "\n",
        "# new line\n",
        "print('Line 1 ends here\\nLine 2 starts here...')\n",
        "print('\\n')\n",
        "\n",
        "# tab\n",
        "print('Phrase 1 ends here\\tPhrase 2 starts here...')"
      ],
      "metadata": {
        "colab": {
          "base_uri": "https://localhost:8080/"
        },
        "id": "q0s24vTnfPIG",
        "outputId": "963eb011-0446-4814-979e-76f9aaeaa66e"
      },
      "execution_count": null,
      "outputs": [
        {
          "output_type": "stream",
          "name": "stdout",
          "text": [
            "It's a beautiful day..\n",
            "\n",
            "\n",
            "Line 1 ends here\n",
            "Line 2 starts here...\n",
            "\n",
            "\n",
            "Phrase 1 ends here\tPhrase 2 starts here...\n"
          ]
        }
      ]
    },
    {
      "cell_type": "markdown",
      "source": [
        "### **EXERCISES**"
      ],
      "metadata": {
        "id": "Jm-E7aOIfpV-"
      }
    },
    {
      "cell_type": "code",
      "source": [
        "'''\n",
        "Q1. Display the following text:\n",
        "I am here to learn \\python\\ programming.\n",
        "'''\n",
        "\n",
        "print('I am here to learn \\python\\ programming.')"
      ],
      "metadata": {
        "colab": {
          "base_uri": "https://localhost:8080/"
        },
        "id": "pOYYUO_CdyCn",
        "outputId": "28f79fea-10d9-49da-f30f-790f7d914243"
      },
      "execution_count": null,
      "outputs": [
        {
          "output_type": "stream",
          "name": "stdout",
          "text": [
            "I am here to learn \\python\\ programming.\n"
          ]
        }
      ]
    },
    {
      "cell_type": "code",
      "source": [
        "'''\n",
        "Q2. Ask a user to enter his name and then print following message.\n",
        "'Hi user_name, Welcome to this course!'\n",
        "Eg.\n",
        "Input: Sarvesh\n",
        "Output: Hi Sarvesh, Welcome to this course!\n",
        "'''\n",
        "\n",
        "a = (input(\"Please enter your name: \"))\n",
        "print(\"Hi\",a,\", Welcome to this course!\")"
      ],
      "metadata": {
        "colab": {
          "base_uri": "https://localhost:8080/"
        },
        "id": "TyWbvYhpf7yl",
        "outputId": "22362f8c-4e6b-4e97-8f5c-1a05a6c41757"
      },
      "execution_count": null,
      "outputs": [
        {
          "output_type": "stream",
          "name": "stdout",
          "text": [
            "Please enter your name: Sarvesh\n",
            "Hi Sarvesh , Welcome to this course!\n"
          ]
        }
      ]
    },
    {
      "cell_type": "code",
      "source": [
        "'''\n",
        "Q3. Use a single print() statement to print the following string in the format shown.\n",
        "\n",
        "Twinkle, twinkle, little star,\n",
        "\tHow I wonder what you are!\n",
        "\t\tUp above the world so high,\n",
        "\t\tLike a diamond in the sky.\n",
        "Twinkle, twinkle, little star,\n",
        "\tHow I wonder what you are!\n",
        "'''\n",
        "\n",
        "print(\"Twinkle, twinkle, little star, \\n   How I wonder what you are! \\n     Up above the world so high, \\n     Like a diamond in the sky.\\nTwinkle, twinkle, little star, \\n   How I wonder what you are!\")"
      ],
      "metadata": {
        "colab": {
          "base_uri": "https://localhost:8080/"
        },
        "id": "ULhCMCq9gqFN",
        "outputId": "56e67a1d-d0e3-4b00-bfec-e408bde38159"
      },
      "execution_count": null,
      "outputs": [
        {
          "output_type": "stream",
          "name": "stdout",
          "text": [
            "Twinkle, twinkle, little star, \n",
            "   How I wonder what you are! \n",
            "     Up above the world so high, \n",
            "     Like a diamond in the sky.\n",
            "Twinkle, twinkle, little star, \n",
            "   How I wonder what you are!\n"
          ]
        }
      ]
    },
    {
      "cell_type": "markdown",
      "source": [
        "## EXPERIMENTS FROM THE COURSE DESCRIPTION"
      ],
      "metadata": {
        "id": "cq1UbdmTiYic"
      }
    },
    {
      "cell_type": "code",
      "source": [
        "#Exp 1.1 - program to get the verison of python you are using.\n",
        "\n",
        "import sys\n",
        "print(\"Python Version :\", sys.version)\n",
        "print(sys.version_info)"
      ],
      "metadata": {
        "colab": {
          "base_uri": "https://localhost:8080/"
        },
        "id": "pkizhtpQiMXU",
        "outputId": "b4335018-ab20-4593-f40e-4025b49f19c4"
      },
      "execution_count": null,
      "outputs": [
        {
          "output_type": "stream",
          "name": "stdout",
          "text": [
            "Python Version : 3.7.13 (default, Apr 24 2022, 01:04:09) \n",
            "[GCC 7.5.0]\n",
            "sys.version_info(major=3, minor=7, micro=13, releaselevel='final', serial=0)\n"
          ]
        }
      ]
    },
    {
      "cell_type": "code",
      "source": [
        "#Exp 1.2 - Write a Python program which accepts the radius of a circle from the user and compute the area.\n",
        "\n",
        "a=int(input(\"Enter the radius of the circle (in cm) :\"))\n",
        "b=a*a*3.14\n",
        "print(\"The area of the circle is :\",b,\"centimeters squared\")"
      ],
      "metadata": {
        "colab": {
          "base_uri": "https://localhost:8080/"
        },
        "id": "hSGqWiXGim8A",
        "outputId": "4f059be4-bed5-49e5-a1e4-f45bfd7bd657"
      },
      "execution_count": null,
      "outputs": [
        {
          "output_type": "stream",
          "name": "stdout",
          "text": [
            "Enter the radius of the circle (in cm) :5\n",
            "The area of the circle is : 78.5 centimeters squared\n"
          ]
        }
      ]
    },
    {
      "cell_type": "code",
      "source": [
        "#Exp 2.1 - WAP to get the current date and time\n",
        "\n",
        "import datetime\n",
        "now = datetime.datetime.now()\n",
        "print(\"Current date and time: \")\n",
        "print(str(now))"
      ],
      "metadata": {
        "colab": {
          "base_uri": "https://localhost:8080/"
        },
        "id": "hPKhgY-7jG8-",
        "outputId": "ee83e13c-f6cd-4908-ef0e-207af0123f51"
      },
      "execution_count": null,
      "outputs": [
        {
          "output_type": "stream",
          "name": "stdout",
          "text": [
            "Current date and time: \n",
            "2022-07-25 04:13:50.987145\n"
          ]
        }
      ]
    },
    {
      "cell_type": "code",
      "source": [
        "#Exp 2.2 -  WAP which accepts the radius of a circle from the user and compute the area.\n",
        "\n",
        "a=int(input(\"Enter the radius of the circle (in m) :\"))\n",
        "b=a*a*3.14\n",
        "print(\"The area of the circle is :\",b,\"meters squared\")"
      ],
      "metadata": {
        "colab": {
          "base_uri": "https://localhost:8080/"
        },
        "id": "fJPd3M9Ajh__",
        "outputId": "9ca2c7f5-c4c7-4893-b3da-597f4e8130e2"
      },
      "execution_count": null,
      "outputs": [
        {
          "output_type": "stream",
          "name": "stdout",
          "text": [
            "Enter the radius of the circle (in m) :95\n",
            "The area of the circle is : 28338.5 meters squared\n"
          ]
        }
      ]
    },
    {
      "cell_type": "code",
      "source": [
        "#Exp 3.1 - Write a Python program which accepts the user's first and last name and print them in reverse order with a space between them.\n",
        "\n",
        "a=input(\"Ënter your first name :\")\n",
        "b=input(\"Enter your last name :\")\n",
        "print(\"Your name in reverse order is:\",b,a)"
      ],
      "metadata": {
        "colab": {
          "base_uri": "https://localhost:8080/"
        },
        "id": "5ZBuvjmNjyk6",
        "outputId": "e3a63ba1-65ed-4460-f611-837c6a97a802"
      },
      "execution_count": null,
      "outputs": [
        {
          "output_type": "stream",
          "name": "stdout",
          "text": [
            "Ënter your first name :Akshit\n",
            "Enter your last name :Sharma\n",
            "Your name in reverse order is: Sharma Akshit\n"
          ]
        }
      ]
    },
    {
      "cell_type": "code",
      "source": [
        "#Exp 3.2 - Write a Python program to display the first and last colors from the following list. color_list = [\"Red\",\"Green\",\"White\" ,\"Black\"].\n",
        "\n",
        "color_list = [\"Red\",\"Green\",\"White\" ,\"Black\"]\n",
        "print(\"First color :\",color_list[0])\n",
        "print(\"Last color :\",color_list[3])"
      ],
      "metadata": {
        "colab": {
          "base_uri": "https://localhost:8080/"
        },
        "id": "CiVkfzctkHgh",
        "outputId": "1a00ae89-785f-4c04-d1e6-9a85b04d591d"
      },
      "execution_count": null,
      "outputs": [
        {
          "output_type": "stream",
          "name": "stdout",
          "text": [
            "First color : Red\n",
            "Last color : Black\n"
          ]
        }
      ]
    },
    {
      "cell_type": "markdown",
      "source": [
        "# **LAB 3 - 29/07/2022**"
      ],
      "metadata": {
        "id": "RZbSjBhvCALI"
      }
    },
    {
      "cell_type": "markdown",
      "source": [
        "## Collab Sheet 3"
      ],
      "metadata": {
        "id": "sGMr8fN7C1hR"
      }
    },
    {
      "cell_type": "code",
      "source": [
        "#declaring and initializing the variables\n",
        "\n",
        "m = 64\n",
        "c = 'acads'\n",
        "f = 3.1416"
      ],
      "metadata": {
        "id": "rfcJIg27C4rA"
      },
      "execution_count": null,
      "outputs": []
    },
    {
      "cell_type": "code",
      "source": [
        "#printing the value held by 'f'\n",
        "\n",
        "print(f)"
      ],
      "metadata": {
        "colab": {
          "base_uri": "https://localhost:8080/"
        },
        "id": "ncvFqRloDXLw",
        "outputId": "7ff5b0ba-8af9-4797-ce6d-73ff1af0c975"
      },
      "execution_count": null,
      "outputs": [
        {
          "output_type": "stream",
          "name": "stdout",
          "text": [
            "3.1416\n"
          ]
        }
      ]
    },
    {
      "cell_type": "code",
      "source": [
        "#assign new value to the existing variable\n",
        "\n",
        "f = 2.785\n",
        "print(f)"
      ],
      "metadata": {
        "colab": {
          "base_uri": "https://localhost:8080/"
        },
        "id": "VU4oHhWRDdqg",
        "outputId": "8ca30cf0-1285-4eba-e727-7f1363715911"
      },
      "execution_count": null,
      "outputs": [
        {
          "output_type": "stream",
          "name": "stdout",
          "text": [
            "2.785\n"
          ]
        }
      ]
    },
    {
      "cell_type": "code",
      "source": [
        "#We can even change the type\n",
        "\n",
        "f = 'This is the third python Lab'\n",
        "print(f)"
      ],
      "metadata": {
        "colab": {
          "base_uri": "https://localhost:8080/"
        },
        "id": "BR7sz8pCDqUp",
        "outputId": "09227255-cb8c-43df-fe78-de55d801cc6e"
      },
      "execution_count": null,
      "outputs": [
        {
          "output_type": "stream",
          "name": "stdout",
          "text": [
            "This is the third python Lab\n"
          ]
        }
      ]
    },
    {
      "cell_type": "code",
      "source": [
        "#valid variable names\n",
        "mcomment = \"\"\"This is a doc string.\n",
        "It can even span multiple lines,\n",
        "Like this\"\"\"\n",
        "\n",
        "i = 5\n",
        "count = 0\n",
        "Lab5 = 'python data types'\n",
        "max_profit = 100\n",
        "_left = False\n",
        "fUnNy = 5.7\n",
        "\n",
        "print(\"i =\", i)\n",
        "print(\"count =\", count)\n",
        "print(\"Lab5 = \", Lab5)\n",
        "print(\"max_profit =\", max_profit)\n",
        "print(\"_left =\", _left)\n",
        "print(\"fUnNy =\", fUnNy)\n",
        "print(mcomment)"
      ],
      "metadata": {
        "colab": {
          "base_uri": "https://localhost:8080/"
        },
        "id": "uhEHCWwMD2cG",
        "outputId": "c53edb1b-cea5-41e3-878a-942ec162941a"
      },
      "execution_count": null,
      "outputs": [
        {
          "output_type": "stream",
          "name": "stdout",
          "text": [
            "i = 5\n",
            "count = 0\n",
            "Lab5 =  python data types\n",
            "max_profit = 100\n",
            "_left = False\n",
            "fUnNy = 5.7\n",
            "This is a doc string.\n",
            "It can even span multiple lines,\n",
            "Like this\n"
          ]
        }
      ]
    },
    {
      "cell_type": "code",
      "source": [
        "# invalid variable names\n",
        "\n",
        "# 5j = 50\n",
        "# min profit = 10.4\n",
        "# lab.7 = 'data science'"
      ],
      "metadata": {
        "id": "nDAIrVsoFVuJ"
      },
      "execution_count": null,
      "outputs": []
    },
    {
      "cell_type": "code",
      "source": [
        "#get a list of keywords in python\n",
        "\n",
        "import keyword\n",
        "\n",
        "print(keyword.kwlist)"
      ],
      "metadata": {
        "colab": {
          "base_uri": "https://localhost:8080/"
        },
        "id": "MNlaOx9eFW_4",
        "outputId": "825ab40a-9b2b-4c03-ea1d-c558386ff0df"
      },
      "execution_count": null,
      "outputs": [
        {
          "output_type": "stream",
          "name": "stdout",
          "text": [
            "['False', 'None', 'True', 'and', 'as', 'assert', 'async', 'await', 'break', 'class', 'continue', 'def', 'del', 'elif', 'else', 'except', 'finally', 'for', 'from', 'global', 'if', 'import', 'in', 'is', 'lambda', 'nonlocal', 'not', 'or', 'pass', 'raise', 'return', 'try', 'while', 'with', 'yield']\n"
          ]
        }
      ]
    },
    {
      "cell_type": "code",
      "source": [
        "# keywords cannot be used as a variable name. Note that 'class' is a keyword in python.\n",
        "\n",
        "# class = 6.4"
      ],
      "metadata": {
        "id": "PfCb8B9YFluQ"
      },
      "execution_count": null,
      "outputs": []
    },
    {
      "cell_type": "code",
      "source": [
        "#variable names are case sensitive\n",
        "\n",
        "number = 755\n",
        "numBer = 446\n",
        "\n",
        "print(number, numBer)"
      ],
      "metadata": {
        "colab": {
          "base_uri": "https://localhost:8080/"
        },
        "id": "1JJf7KrLFmx4",
        "outputId": "34f177ab-a464-45dd-d78b-1f1590f2d250"
      },
      "execution_count": null,
      "outputs": [
        {
          "output_type": "stream",
          "name": "stdout",
          "text": [
            "755 446\n"
          ]
        }
      ]
    },
    {
      "cell_type": "code",
      "source": [
        "#Formatting output: Extra space here and there\n",
        "\n",
        "print('The value of numBer is {} which is greater than {}. Thats it.' .format(numBer, number))"
      ],
      "metadata": {
        "colab": {
          "base_uri": "https://localhost:8080/"
        },
        "id": "55bYqIF7F4XZ",
        "outputId": "6dead951-1263-4190-8e62-3505a5aed3f1"
      },
      "execution_count": null,
      "outputs": [
        {
          "output_type": "stream",
          "name": "stdout",
          "text": [
            "The value of numBer is 446 which is greater than 755. Thats it.\n"
          ]
        }
      ]
    },
    {
      "cell_type": "code",
      "source": [
        "# Formatted output, without unwanted space\n",
        "print('The value of NumBer is {} which is greater than {}. Thats it.'.format(numBer, number))"
      ],
      "metadata": {
        "colab": {
          "base_uri": "https://localhost:8080/"
        },
        "id": "rCX3CUmVGfNy",
        "outputId": "70febf08-ff6c-4ed3-bdbc-3730f13f6625"
      },
      "execution_count": null,
      "outputs": [
        {
          "output_type": "stream",
          "name": "stdout",
          "text": [
            "The value of NumBer is 446 which is greater than 755. Thats it.\n"
          ]
        }
      ]
    },
    {
      "cell_type": "markdown",
      "source": [
        "### Assignment statement"
      ],
      "metadata": {
        "id": "JQUitpo5G2Sy"
      }
    },
    {
      "cell_type": "code",
      "source": [
        "#to assign a value to a variable, we use  '=' operator (assignment operator).\n",
        "\n",
        "x = 10"
      ],
      "metadata": {
        "id": "X1DU_XjJG_0C"
      },
      "execution_count": null,
      "outputs": []
    },
    {
      "cell_type": "code",
      "source": [
        "#expression on RHS is evaluated before assigning the value\n",
        "b, a, c = 3, 8, 4\n",
        "\n",
        "disc_2 = b * b - 4 * a * c\n",
        "print(disc_2)"
      ],
      "metadata": {
        "colab": {
          "base_uri": "https://localhost:8080/"
        },
        "id": "idAWDbuuHL1w",
        "outputId": "c6bd8630-0425-44fe-e636-084baf978a00"
      },
      "execution_count": null,
      "outputs": [
        {
          "output_type": "stream",
          "name": "stdout",
          "text": [
            "-119\n"
          ]
        }
      ]
    },
    {
      "cell_type": "code",
      "source": [
        "count = 5\n",
        "\n",
        "count = count + 1\n",
        "\n",
        "print(count)"
      ],
      "metadata": {
        "colab": {
          "base_uri": "https://localhost:8080/"
        },
        "id": "LoPFHBWeHaMY",
        "outputId": "632d3ece-044b-4982-9cd8-915ff5906eaa"
      },
      "execution_count": null,
      "outputs": [
        {
          "output_type": "stream",
          "name": "stdout",
          "text": [
            "6\n"
          ]
        }
      ]
    },
    {
      "cell_type": "code",
      "source": [
        "#initializing multiple variables\n",
        "\n",
        "x , y = 556, 548\n",
        "print(x, y)"
      ],
      "metadata": {
        "colab": {
          "base_uri": "https://localhost:8080/"
        },
        "id": "VBZDN_zRISTO",
        "outputId": "13b68b12-d19b-4777-ca03-14350d33b570"
      },
      "execution_count": null,
      "outputs": [
        {
          "output_type": "stream",
          "name": "stdout",
          "text": [
            "556 548\n"
          ]
        }
      ]
    },
    {
      "cell_type": "code",
      "source": [
        "#incrementing both values by 1\n",
        "\n",
        "x,y = x+1,y+1\n",
        "print(x,y)"
      ],
      "metadata": {
        "colab": {
          "base_uri": "https://localhost:8080/"
        },
        "id": "MfTbCTgFIguV",
        "outputId": "fa853948-f371-43e6-d8db-6eabbf7571a1"
      },
      "execution_count": null,
      "outputs": [
        {
          "output_type": "stream",
          "name": "stdout",
          "text": [
            "557 549\n"
          ]
        }
      ]
    },
    {
      "cell_type": "code",
      "source": [
        "#comments in python\n",
        "\n",
        "pi = 3.14\n",
        "radius = 10\n",
        "diameter = 2 *radius #diameter of the circle\n",
        "area = pi* radius* radius #and its area\n",
        "\n",
        "print(diameter, area)"
      ],
      "metadata": {
        "colab": {
          "base_uri": "https://localhost:8080/"
        },
        "id": "MJ_0VnRqIsps",
        "outputId": "0c6c2426-89cc-4e5f-ff40-33eb0295054e"
      },
      "execution_count": null,
      "outputs": [
        {
          "output_type": "stream",
          "name": "stdout",
          "text": [
            "20 314.0\n"
          ]
        }
      ]
    },
    {
      "cell_type": "markdown",
      "source": [
        "### Types"
      ],
      "metadata": {
        "id": "mn5mp3HZI4k9"
      }
    },
    {
      "cell_type": "code",
      "source": [
        "#type() can be used to get the type of an object passed to it\n",
        "\n",
        "type(500)\n",
        "print(type(500))"
      ],
      "metadata": {
        "colab": {
          "base_uri": "https://localhost:8080/"
        },
        "id": "m2F0H7PvI-kz",
        "outputId": "6570a585-4bdb-4fd5-a672-2b74c2815f2c"
      },
      "execution_count": null,
      "outputs": [
        {
          "output_type": "stream",
          "name": "stdout",
          "text": [
            "<class 'int'>\n"
          ]
        }
      ]
    },
    {
      "cell_type": "code",
      "source": [
        "print(type(-200))\n"
      ],
      "metadata": {
        "colab": {
          "base_uri": "https://localhost:8080/"
        },
        "id": "1R5rq2EUJNhc",
        "outputId": "11fd11cf-53e8-4bd6-81bb-fa4c7dce9a40"
      },
      "execution_count": null,
      "outputs": [
        {
          "output_type": "stream",
          "name": "stdout",
          "text": [
            "<class 'int'>\n"
          ]
        }
      ]
    },
    {
      "cell_type": "code",
      "source": [
        "print(type(3.1413))"
      ],
      "metadata": {
        "colab": {
          "base_uri": "https://localhost:8080/"
        },
        "id": "iQ1M0LGFJS07",
        "outputId": "5f175100-c6b6-4a22-f45f-bcd783439c24"
      },
      "execution_count": null,
      "outputs": [
        {
          "output_type": "stream",
          "name": "stdout",
          "text": [
            "<class 'float'>\n"
          ]
        }
      ]
    },
    {
      "cell_type": "code",
      "source": [
        "print(type(True))"
      ],
      "metadata": {
        "colab": {
          "base_uri": "https://localhost:8080/"
        },
        "id": "UHT-r-3NJV4b",
        "outputId": "420d8e82-aff3-4dc0-f5e7-546461bef682"
      },
      "execution_count": null,
      "outputs": [
        {
          "output_type": "stream",
          "name": "stdout",
          "text": [
            "<class 'bool'>\n"
          ]
        }
      ]
    },
    {
      "cell_type": "code",
      "source": [
        "print(type(3 != 2))"
      ],
      "metadata": {
        "colab": {
          "base_uri": "https://localhost:8080/"
        },
        "id": "soYtfCLpJZHj",
        "outputId": "4550162b-edd8-4590-f3f7-0f7d6cce8d10"
      },
      "execution_count": null,
      "outputs": [
        {
          "output_type": "stream",
          "name": "stdout",
          "text": [
            "<class 'bool'>\n"
          ]
        }
      ]
    },
    {
      "cell_type": "code",
      "source": [
        "#explicit type conversion\n",
        "\n",
        "a = int(2.5)\n",
        "print(a, type(a))"
      ],
      "metadata": {
        "colab": {
          "base_uri": "https://localhost:8080/"
        },
        "id": "KXR4hVubJfUT",
        "outputId": "5729c39d-0d14-4c02-8b2f-5e083bafa2d4"
      },
      "execution_count": null,
      "outputs": [
        {
          "output_type": "stream",
          "name": "stdout",
          "text": [
            "2 <class 'int'>\n"
          ]
        }
      ]
    },
    {
      "cell_type": "code",
      "source": [
        "b = float(3)\n",
        "print(b, type(b))"
      ],
      "metadata": {
        "colab": {
          "base_uri": "https://localhost:8080/"
        },
        "id": "Y-Ix5rJbJvB8",
        "outputId": "d6afe59c-41ea-4011-8837-be617f569a6a"
      },
      "execution_count": null,
      "outputs": [
        {
          "output_type": "stream",
          "name": "stdout",
          "text": [
            "3.0 <class 'float'>\n"
          ]
        }
      ]
    },
    {
      "cell_type": "code",
      "source": [
        "a = int('73')+2\n",
        "print(a, type(a))"
      ],
      "metadata": {
        "colab": {
          "base_uri": "https://localhost:8080/"
        },
        "id": "vCVGMnfIJ51i",
        "outputId": "895cc0c1-7841-4b1d-fb99-2f4e8492fd72"
      },
      "execution_count": null,
      "outputs": [
        {
          "output_type": "stream",
          "name": "stdout",
          "text": [
            "75 <class 'int'>\n"
          ]
        }
      ]
    },
    {
      "cell_type": "code",
      "source": [
        "a = int('A')\n",
        "print(a, type(a))"
      ],
      "metadata": {
        "colab": {
          "base_uri": "https://localhost:8080/",
          "height": 183
        },
        "id": "1gA0J1y0J92a",
        "outputId": "83e3f92f-19d1-4648-e4e6-22afd1e87a0b"
      },
      "execution_count": null,
      "outputs": [
        {
          "output_type": "error",
          "ename": "ValueError",
          "evalue": "ignored",
          "traceback": [
            "\u001b[0;31m---------------------------------------------------------------------------\u001b[0m",
            "\u001b[0;31mValueError\u001b[0m                                Traceback (most recent call last)",
            "\u001b[0;32m<ipython-input-34-1f346feb7ea4>\u001b[0m in \u001b[0;36m<module>\u001b[0;34m()\u001b[0m\n\u001b[0;32m----> 1\u001b[0;31m \u001b[0ma\u001b[0m \u001b[0;34m=\u001b[0m \u001b[0mint\u001b[0m\u001b[0;34m(\u001b[0m\u001b[0;34m'A'\u001b[0m\u001b[0;34m)\u001b[0m\u001b[0;34m\u001b[0m\u001b[0;34m\u001b[0m\u001b[0m\n\u001b[0m\u001b[1;32m      2\u001b[0m \u001b[0mprint\u001b[0m\u001b[0;34m(\u001b[0m\u001b[0ma\u001b[0m\u001b[0;34m,\u001b[0m \u001b[0mtype\u001b[0m\u001b[0;34m(\u001b[0m\u001b[0ma\u001b[0m\u001b[0;34m)\u001b[0m\u001b[0;34m)\u001b[0m\u001b[0;34m\u001b[0m\u001b[0;34m\u001b[0m\u001b[0m\n",
            "\u001b[0;31mValueError\u001b[0m: invalid literal for int() with base 10: 'A'"
          ]
        }
      ]
    },
    {
      "cell_type": "code",
      "source": [
        "a = str(3.14)\n",
        "print(a, type(a))"
      ],
      "metadata": {
        "colab": {
          "base_uri": "https://localhost:8080/"
        },
        "id": "MQIfAQ3XKC7j",
        "outputId": "f25d5980-c6c9-4db4-fb50-c859d4d5a736"
      },
      "execution_count": null,
      "outputs": [
        {
          "output_type": "stream",
          "name": "stdout",
          "text": [
            "3.14 <class 'str'>\n"
          ]
        }
      ]
    },
    {
      "cell_type": "code",
      "source": [
        "#Type conversion and input\n",
        "\n",
        "age = input('How old are you? ')\n",
        "age = int(age)"
      ],
      "metadata": {
        "colab": {
          "base_uri": "https://localhost:8080/"
        },
        "id": "I-BJbQjQKH1T",
        "outputId": "542e7b24-9488-49b3-cab4-fb29e7b6c4da"
      },
      "execution_count": null,
      "outputs": [
        {
          "name": "stdout",
          "output_type": "stream",
          "text": [
            "How old are you? 54\n"
          ]
        }
      ]
    },
    {
      "cell_type": "code",
      "source": [
        "print('In 5 years, your age will be', age + 5)"
      ],
      "metadata": {
        "colab": {
          "base_uri": "https://localhost:8080/"
        },
        "id": "VhrVCe37K8_k",
        "outputId": "8c9ae113-36ff-457e-e561-eb4535c3287a"
      },
      "execution_count": null,
      "outputs": [
        {
          "output_type": "stream",
          "name": "stdout",
          "text": [
            "In 5 years, your age will be 59\n"
          ]
        }
      ]
    },
    {
      "cell_type": "code",
      "source": [
        "print('The double of your age will be', age * 2)"
      ],
      "metadata": {
        "colab": {
          "base_uri": "https://localhost:8080/"
        },
        "id": "QjsCTJ3pLF9z",
        "outputId": "dbbbf80f-2347-4165-e660-4ae746ca7394"
      },
      "execution_count": null,
      "outputs": [
        {
          "output_type": "stream",
          "name": "stdout",
          "text": [
            "The double of your age will be 108\n"
          ]
        }
      ]
    },
    {
      "cell_type": "code",
      "source": [
        "print('In 5 years, your age will be', int(age) + 5)"
      ],
      "metadata": {
        "colab": {
          "base_uri": "https://localhost:8080/"
        },
        "id": "Vrvc3Ll3Ll9h",
        "outputId": "5e1c949c-fb3e-4d09-c1b7-5bdc42cfbe44"
      },
      "execution_count": null,
      "outputs": [
        {
          "output_type": "stream",
          "name": "stdout",
          "text": [
            "In 5 years, your age will be 59\n"
          ]
        }
      ]
    },
    {
      "cell_type": "code",
      "source": [
        "print('The double of your age will be', int(age) * 2)"
      ],
      "metadata": {
        "colab": {
          "base_uri": "https://localhost:8080/"
        },
        "id": "Cykosf9gLo_B",
        "outputId": "81dd24ad-dabb-4bac-e645-e05b915ad258"
      },
      "execution_count": null,
      "outputs": [
        {
          "output_type": "stream",
          "name": "stdout",
          "text": [
            "The double of your age will be 108\n"
          ]
        }
      ]
    },
    {
      "cell_type": "code",
      "source": [
        "str, type  = type, str\n",
        "\n",
        "print('The type of value 3.14 is', type(3.14))\n",
        "print('The value of str(3.14) =', str(3.14))"
      ],
      "metadata": {
        "colab": {
          "base_uri": "https://localhost:8080/"
        },
        "id": "7nMg2cPXLuZS",
        "outputId": "7051c177-5a10-4984-92f5-d86dc7f85e44"
      },
      "execution_count": null,
      "outputs": [
        {
          "output_type": "stream",
          "name": "stdout",
          "text": [
            "The type of value 3.14 is 3.14\n",
            "The value of str(3.14) = <class 'float'>\n"
          ]
        }
      ]
    },
    {
      "cell_type": "code",
      "source": [
        "#binary operators +, -, *, /, //, %\n",
        "\n",
        "print(9 + 2)\n",
        "print(9.1 + 2.0)\n",
        "print(9 - 2)\n",
        "print(9.1 - 2.0)\n",
        "print(9 * 2)\n",
        "print(9.1 * 2.0)\n",
        "print(9 / 2)\n",
        "print(9.1 / 2.0)\n",
        "print(9 // 2)\n",
        "print(9 % 2)"
      ],
      "metadata": {
        "colab": {
          "base_uri": "https://localhost:8080/"
        },
        "id": "s-HODF6RL84L",
        "outputId": "b49dcd8a-f3e5-463f-cdc0-c3b6f4634f78"
      },
      "execution_count": null,
      "outputs": [
        {
          "output_type": "stream",
          "name": "stdout",
          "text": [
            "11\n",
            "11.1\n",
            "7\n",
            "7.1\n",
            "18\n",
            "18.2\n",
            "4.5\n",
            "4.55\n",
            "4\n",
            "1\n"
          ]
        }
      ]
    },
    {
      "cell_type": "code",
      "source": [
        "#the // operator\n",
        "print(9//4)\n",
        "print(-1 // 2)\n",
        "print((-1)// (-2))\n",
        "print(1/-2)\n",
        "print(1 // (-2))\n",
        "str, type  = type, str\n",
        "\n",
        "print('The value and type of 9 // 4.5 are {} {}'.format(9//4.5, type(9//4.5)))"
      ],
      "metadata": {
        "colab": {
          "base_uri": "https://localhost:8080/"
        },
        "id": "FtNHcTaKMYIC",
        "outputId": "284008b3-fa6b-413a-de59-21f3cde88043"
      },
      "execution_count": null,
      "outputs": [
        {
          "output_type": "stream",
          "name": "stdout",
          "text": [
            "2\n",
            "-1\n",
            "0\n",
            "-0.5\n",
            "-1\n",
            "The value and type of 9 // 4.5 are 2.0 <class 'float'>\n"
          ]
        }
      ]
    },
    {
      "cell_type": "code",
      "source": [
        "#the % operator\n",
        "print(9 % 4)\n",
        "print((-1) % 2)\n",
        "print((-1) % (-2))\n",
        "print(1 % 0.6)\n",
        "print(1 % (-2))\n",
        "print(9 % 4.5)"
      ],
      "metadata": {
        "colab": {
          "base_uri": "https://localhost:8080/"
        },
        "id": "-rdXDPw_MsQf",
        "outputId": "6939c975-0fe8-41c6-e152-b161c3028c7a"
      },
      "execution_count": null,
      "outputs": [
        {
          "output_type": "stream",
          "name": "stdout",
          "text": [
            "1\n",
            "1\n",
            "-1\n",
            "0.4\n",
            "-1\n",
            "0.0\n"
          ]
        }
      ]
    },
    {
      "cell_type": "code",
      "source": [
        "#Guess result of the expression below:\n",
        "x = -5 * 4 // 2 * 3 + -1 * 2\n",
        "print(x)"
      ],
      "metadata": {
        "colab": {
          "base_uri": "https://localhost:8080/"
        },
        "id": "7l_r3nWpMynX",
        "outputId": "57cb2245-e3f7-4adb-a024-c53c3c19bebd"
      },
      "execution_count": null,
      "outputs": [
        {
          "output_type": "stream",
          "name": "stdout",
          "text": [
            "-32\n"
          ]
        }
      ]
    },
    {
      "cell_type": "markdown",
      "source": [
        "## Collab Sheet 4"
      ],
      "metadata": {
        "id": "I7yB0lI1M8Ej"
      }
    },
    {
      "cell_type": "markdown",
      "source": [
        "### Built in Data Types : Numbers"
      ],
      "metadata": {
        "id": "37p-25lzOzxm"
      }
    },
    {
      "cell_type": "code",
      "source": [
        "num = 10\n",
        "print(\"The number (\", num, \") is of type\", type(num))\n",
        "\n",
        "num = 10.0\n",
        "print(\"The number (\", num, \") is of type\", type(num))\n",
        "\n",
        "num = 3+5j\n",
        "print(\"The number \", num, \" is of type\", type(num))\n",
        "print(\"Is the number \", num, \"a complex number?\", isinstance(3+5j, complex))"
      ],
      "metadata": {
        "colab": {
          "base_uri": "https://localhost:8080/"
        },
        "id": "W00Yjj97OX8u",
        "outputId": "6f8bc0cf-16a5-4226-d251-006627b92d1e"
      },
      "execution_count": null,
      "outputs": [
        {
          "output_type": "stream",
          "name": "stdout",
          "text": [
            "The number ( 10 ) is of type <class 'int'>\n",
            "The number ( 10.0 ) is of type <class 'float'>\n",
            "The number  (3+5j)  is of type <class 'complex'>\n",
            "Is the number  (3+5j) a complex number? True\n"
          ]
        }
      ]
    },
    {
      "cell_type": "code",
      "metadata": {
        "id": "1a65-WgUXL-Z",
        "colab": {
          "base_uri": "https://localhost:8080/",
          "height": 72
        },
        "outputId": "ac583264-81e0-4490-bbb9-7a54a80ee2ef"
      },
      "source": [
        "#type conversion and input\n",
        "\n",
        "age = input('How old are you? ')\n",
        "print(age)\n",
        "print('In 5 years, your age will be', age + 5)"
      ],
      "execution_count": null,
      "outputs": [
        {
          "output_type": "stream",
          "text": [
            "How old are you? 50\n",
            "50\n"
          ],
          "name": "stdout"
        }
      ]
    },
    {
      "cell_type": "code",
      "metadata": {
        "id": "uGVSJ01LdP_c",
        "colab": {
          "base_uri": "https://localhost:8080/",
          "height": 35
        },
        "outputId": "e2c80dd7-2cc5-4199-bcea-7a18d7ffe7a1"
      },
      "source": [
        "print('In 5 years, your age will be', int(age) + 5)"
      ],
      "execution_count": null,
      "outputs": [
        {
          "output_type": "stream",
          "text": [
            "In 5 years, your age will be 55\n"
          ],
          "name": "stdout"
        }
      ]
    },
    {
      "cell_type": "markdown",
      "source": [
        "### Built in Data Types : Strings"
      ],
      "metadata": {
        "id": "ZN7Wfz2tO3vN"
      }
    },
    {
      "cell_type": "code",
      "metadata": {
        "id": "o5969pIQ8iFq",
        "colab": {
          "base_uri": "https://localhost:8080/"
        },
        "outputId": "b63ca2d5-b1a2-4611-b674-c1d35e496eae"
      },
      "source": [
        "#create a string variable and assign a value to it.\n",
        "\n",
        "name = 'Niharika'\n",
        "print(name)\n",
        "type(name)"
      ],
      "execution_count": null,
      "outputs": [
        {
          "output_type": "stream",
          "name": "stdout",
          "text": [
            "Niharika\n"
          ]
        },
        {
          "output_type": "execute_result",
          "data": {
            "text/plain": [
              "str"
            ]
          },
          "metadata": {},
          "execution_count": 47
        }
      ]
    },
    {
      "cell_type": "code",
      "source": [
        "#creating another variable\n",
        "\n",
        "another_name = \"Saksham Salathia\"\n",
        "print(another_name)"
      ],
      "metadata": {
        "colab": {
          "base_uri": "https://localhost:8080/"
        },
        "id": "OdtIc2PDPH9t",
        "outputId": "40baab2e-3bb9-4bee-b806-639f2aef5791"
      },
      "execution_count": null,
      "outputs": [
        {
          "output_type": "stream",
          "name": "stdout",
          "text": [
            "Saksham Salathia\n"
          ]
        }
      ]
    },
    {
      "cell_type": "code",
      "source": [
        "#checking if both strings are equal\n",
        "\n",
        "name == another_name"
      ],
      "metadata": {
        "colab": {
          "base_uri": "https://localhost:8080/"
        },
        "id": "bbljJxT1PcBN",
        "outputId": "02a7ec31-3396-4faf-fcf1-a0456ac1a2d7"
      },
      "execution_count": null,
      "outputs": [
        {
          "output_type": "execute_result",
          "data": {
            "text/plain": [
              "False"
            ]
          },
          "metadata": {},
          "execution_count": 49
        }
      ]
    },
    {
      "cell_type": "code",
      "metadata": {
        "id": "yY6N5idKCBO5",
        "colab": {
          "base_uri": "https://localhost:8080/"
        },
        "outputId": "72796eb3-78ba-40fe-bc9e-8a535f31a701"
      },
      "source": [
        "#modifying 'name' to have the same value and then again compare\n",
        "\n",
        "name = \"Saksham Salathia\"\n",
        "name == another_name"
      ],
      "execution_count": null,
      "outputs": [
        {
          "output_type": "execute_result",
          "data": {
            "text/plain": [
              "True"
            ]
          },
          "metadata": {},
          "execution_count": 51
        }
      ]
    },
    {
      "cell_type": "code",
      "source": [
        "#string with apostrophes\n",
        "name = \"intro to python\"\n",
        "descr  = 'acad's first course'"
      ],
      "metadata": {
        "colab": {
          "base_uri": "https://localhost:8080/",
          "height": 130
        },
        "id": "yIH9tyxVP0CD",
        "outputId": "7961ee9b-2f95-4c40-9359-a717d9d6217a"
      },
      "execution_count": null,
      "outputs": [
        {
          "output_type": "error",
          "ename": "SyntaxError",
          "evalue": "ignored",
          "traceback": [
            "\u001b[0;36m  File \u001b[0;32m\"<ipython-input-55-06b086a396e5>\"\u001b[0;36m, line \u001b[0;32m3\u001b[0m\n\u001b[0;31m    descr  = 'acad's first course'\u001b[0m\n\u001b[0m                   ^\u001b[0m\n\u001b[0;31mSyntaxError\u001b[0m\u001b[0;31m:\u001b[0m invalid syntax\n"
          ]
        }
      ]
    },
    {
      "cell_type": "code",
      "source": [
        "#using escape character '\\'\n",
        "\n",
        "descr  = 'acad\\'s first course'\n",
        "print(descr)\n",
        "\n",
        "#using double quotes\n",
        "\n",
        "descr = \"Everybody's course in Programming\"\n",
        "print(descr)"
      ],
      "metadata": {
        "colab": {
          "base_uri": "https://localhost:8080/"
        },
        "id": "rcs8_KfkQRZH",
        "outputId": "6053ed95-c5a5-4ba1-cd1c-84ee73d3f4bc"
      },
      "execution_count": null,
      "outputs": [
        {
          "output_type": "stream",
          "name": "stdout",
          "text": [
            "acad's first course\n",
            "Everybody's course in Programming\n"
          ]
        }
      ]
    },
    {
      "cell_type": "code",
      "source": [
        "#len() returns length of the string\n",
        "\n",
        "name = 'intro to python'\n",
        "empty = ''\n",
        "single = 'a'\n",
        "\n",
        "print(len(name), len(empty), len(single))"
      ],
      "metadata": {
        "colab": {
          "base_uri": "https://localhost:8080/"
        },
        "id": "pqMe_gfNQfUy",
        "outputId": "cde75719-efdd-4b97-997b-b47651b2f642"
      },
      "execution_count": null,
      "outputs": [
        {
          "output_type": "stream",
          "name": "stdout",
          "text": [
            "15 0 1\n"
          ]
        }
      ]
    },
    {
      "cell_type": "code",
      "source": [
        "a = str(3 + 29)\n",
        "print(a)\n",
        "type(a)"
      ],
      "metadata": {
        "colab": {
          "base_uri": "https://localhost:8080/"
        },
        "id": "SW04wcNQQk7N",
        "outputId": "ede1b6ea-f99a-4d57-ec8a-1bf97a4c96b3"
      },
      "execution_count": null,
      "outputs": [
        {
          "output_type": "stream",
          "name": "stdout",
          "text": [
            "32\n"
          ]
        },
        {
          "output_type": "execute_result",
          "data": {
            "text/plain": [
              "str"
            ]
          },
          "metadata": {},
          "execution_count": 58
        }
      ]
    },
    {
      "cell_type": "markdown",
      "source": [
        "### Operations on strings"
      ],
      "metadata": {
        "id": "K7mwlw5jQpj1"
      }
    },
    {
      "cell_type": "code",
      "metadata": {
        "id": "e1b-BNdpDWpu",
        "colab": {
          "base_uri": "https://localhost:8080/"
        },
        "outputId": "db5054ae-c72e-469c-8264-c659d0fbdcc1"
      },
      "source": [
        "#operations on strings\n",
        "\n",
        "first_phrase = \"hello!.. \"\n",
        "second_phrase = \"Hello! Who is this?\"\n",
        "third_phrase = \"I won't fly paper airplanes in the class!\"\n",
        "\n",
        "print(first_phrase * 3) # repeats the string three times\n",
        "print(first_phrase + second_phrase) # concatenates the two strings\n",
        "print(third_phrase * 10) # repeats the string ten times"
      ],
      "execution_count": null,
      "outputs": [
        {
          "output_type": "stream",
          "name": "stdout",
          "text": [
            "hello!.. hello!.. hello!.. \n",
            "hello!.. Hello! Who is this?\n",
            "I won't fly paper airplanes in the class!I won't fly paper airplanes in the class!I won't fly paper airplanes in the class!I won't fly paper airplanes in the class!I won't fly paper airplanes in the class!I won't fly paper airplanes in the class!I won't fly paper airplanes in the class!I won't fly paper airplanes in the class!I won't fly paper airplanes in the class!I won't fly paper airplanes in the class!\n"
          ]
        }
      ]
    },
    {
      "cell_type": "code",
      "source": [
        "#Write a script to print third_phrase 10 times, but on a new line.\n",
        "third_phrase = \"I won't fly paper airplanes in the class! \\n\"\n",
        "print(third_phrase * 10, end= '\\n')"
      ],
      "metadata": {
        "colab": {
          "base_uri": "https://localhost:8080/"
        },
        "id": "yp2VyDQNRZfi",
        "outputId": "fc04c3ed-15bb-42ad-e1ae-e31eb20abac2"
      },
      "execution_count": null,
      "outputs": [
        {
          "output_type": "stream",
          "name": "stdout",
          "text": [
            "I won't fly paper airplanes in the class! \n",
            "I won't fly paper airplanes in the class! \n",
            "I won't fly paper airplanes in the class! \n",
            "I won't fly paper airplanes in the class! \n",
            "I won't fly paper airplanes in the class! \n",
            "I won't fly paper airplanes in the class! \n",
            "I won't fly paper airplanes in the class! \n",
            "I won't fly paper airplanes in the class! \n",
            "I won't fly paper airplanes in the class! \n",
            "I won't fly paper airplanes in the class! \n",
            "\n"
          ]
        }
      ]
    },
    {
      "cell_type": "code",
      "source": [
        "#concatenate more than two strings\n",
        "\n",
        "details = name + ', ' + descr\n",
        "details"
      ],
      "metadata": {
        "colab": {
          "base_uri": "https://localhost:8080/",
          "height": 35
        },
        "id": "pdRE-HFISAuh",
        "outputId": "11678b33-1646-43c8-9fe1-38bf2275336b"
      },
      "execution_count": null,
      "outputs": [
        {
          "output_type": "execute_result",
          "data": {
            "text/plain": [
              "\"intro to python, Everybody's course in Programming\""
            ],
            "application/vnd.google.colaboratory.intrinsic+json": {
              "type": "string"
            }
          },
          "metadata": {},
          "execution_count": 65
        }
      ]
    },
    {
      "cell_type": "code",
      "source": [
        "#What would be the result of the following statement?\n",
        "#second_phrase / first_phrase\n",
        "\n",
        "c = second_phrase / first_phrase"
      ],
      "metadata": {
        "colab": {
          "base_uri": "https://localhost:8080/",
          "height": 200
        },
        "id": "CV5wg9fVULdv",
        "outputId": "8fb2a598-44db-404c-e41f-e61929bbf981"
      },
      "execution_count": null,
      "outputs": [
        {
          "output_type": "error",
          "ename": "TypeError",
          "evalue": "ignored",
          "traceback": [
            "\u001b[0;31m---------------------------------------------------------------------------\u001b[0m",
            "\u001b[0;31mTypeError\u001b[0m                                 Traceback (most recent call last)",
            "\u001b[0;32m<ipython-input-79-45af796283cd>\u001b[0m in \u001b[0;36m<module>\u001b[0;34m()\u001b[0m\n\u001b[1;32m      2\u001b[0m \u001b[0;31m#second_phrase / first_phrase\u001b[0m\u001b[0;34m\u001b[0m\u001b[0;34m\u001b[0m\u001b[0;34m\u001b[0m\u001b[0m\n\u001b[1;32m      3\u001b[0m \u001b[0;34m\u001b[0m\u001b[0m\n\u001b[0;32m----> 4\u001b[0;31m \u001b[0mc\u001b[0m \u001b[0;34m=\u001b[0m \u001b[0msecond_phrase\u001b[0m \u001b[0;34m/\u001b[0m \u001b[0mfirst_phrase\u001b[0m\u001b[0;34m\u001b[0m\u001b[0;34m\u001b[0m\u001b[0m\n\u001b[0m",
            "\u001b[0;31mTypeError\u001b[0m: unsupported operand type(s) for /: 'str' and 'str'"
          ]
        }
      ]
    },
    {
      "cell_type": "code",
      "source": [
        "#substring membership in strings\n",
        "'z' not in 'abc'"
      ],
      "metadata": {
        "colab": {
          "base_uri": "https://localhost:8080/"
        },
        "id": "UJZ3QbtgUWwd",
        "outputId": "3ef94568-8967-409e-e44a-47b2d7ba919c"
      },
      "execution_count": null,
      "outputs": [
        {
          "output_type": "execute_result",
          "data": {
            "text/plain": [
              "True"
            ]
          },
          "metadata": {},
          "execution_count": 82
        }
      ]
    },
    {
      "cell_type": "code",
      "source": [
        "'ab' in 'abc'"
      ],
      "metadata": {
        "colab": {
          "base_uri": "https://localhost:8080/"
        },
        "id": "mSTA6hbaUinj",
        "outputId": "ef7fdb6e-9b14-4736-cb35-c533fdefd9c3"
      },
      "execution_count": null,
      "outputs": [
        {
          "output_type": "execute_result",
          "data": {
            "text/plain": [
              "True"
            ]
          },
          "metadata": {},
          "execution_count": 83
        }
      ]
    },
    {
      "cell_type": "code",
      "source": [
        "'z' not in 'xyz'"
      ],
      "metadata": {
        "colab": {
          "base_uri": "https://localhost:8080/"
        },
        "id": "bYjIVFraUkVc",
        "outputId": "17246d00-f238-4ebd-b259-b1fee6f0d906"
      },
      "execution_count": null,
      "outputs": [
        {
          "output_type": "execute_result",
          "data": {
            "text/plain": [
              "False"
            ]
          },
          "metadata": {},
          "execution_count": 84
        }
      ]
    },
    {
      "cell_type": "markdown",
      "source": [
        "### Indexing and Slicing in Strings"
      ],
      "metadata": {
        "id": "QnLtlnMPUpQ0"
      }
    },
    {
      "cell_type": "code",
      "source": [
        "#indexing\n",
        "\n",
        "name = 'Acads'\n",
        "print(name[0]) # prints the first character in the string\n",
        "print(name[3]) # prints the fourth character in the string"
      ],
      "metadata": {
        "colab": {
          "base_uri": "https://localhost:8080/"
        },
        "id": "eYQmRRj8U7Ib",
        "outputId": "c09b5e4a-a09a-46e9-ad74-8b1eee973d98"
      },
      "execution_count": null,
      "outputs": [
        {
          "output_type": "stream",
          "name": "stdout",
          "text": [
            "A\n",
            "d\n"
          ]
        }
      ]
    },
    {
      "cell_type": "code",
      "source": [
        "#What is the result of following statements?\n",
        "\n",
        "c = name[3]\n",
        "type(c)"
      ],
      "metadata": {
        "colab": {
          "base_uri": "https://localhost:8080/"
        },
        "id": "b1_Ao10RVC26",
        "outputId": "51891ce4-8490-4e49-a599-e0c3659f607f"
      },
      "execution_count": null,
      "outputs": [
        {
          "output_type": "execute_result",
          "data": {
            "text/plain": [
              "str"
            ]
          },
          "metadata": {},
          "execution_count": 3
        }
      ]
    },
    {
      "cell_type": "code",
      "source": [
        "print(name[-1]) # get sixth character from the right side"
      ],
      "metadata": {
        "colab": {
          "base_uri": "https://localhost:8080/"
        },
        "id": "F_T_xTveVM8p",
        "outputId": "4d6c8cc5-ebb7-46ea-c333-60db2fc1d351"
      },
      "execution_count": null,
      "outputs": [
        {
          "output_type": "stream",
          "name": "stdout",
          "text": [
            "s\n"
          ]
        }
      ]
    },
    {
      "cell_type": "code",
      "source": [
        "#Which character will be returned by the following statement?\n",
        "name[5]"
      ],
      "metadata": {
        "colab": {
          "base_uri": "https://localhost:8080/",
          "height": 183
        },
        "id": "983I4YuTVXNb",
        "outputId": "5f6047cb-f124-4033-d9ac-ecc6853151d8"
      },
      "execution_count": null,
      "outputs": [
        {
          "output_type": "error",
          "ename": "IndexError",
          "evalue": "ignored",
          "traceback": [
            "\u001b[0;31m---------------------------------------------------------------------------\u001b[0m",
            "\u001b[0;31mIndexError\u001b[0m                                Traceback (most recent call last)",
            "\u001b[0;32m<ipython-input-4-93ec14e5a01b>\u001b[0m in \u001b[0;36m<module>\u001b[0;34m()\u001b[0m\n\u001b[1;32m      1\u001b[0m \u001b[0;31m#Which character will be returned by the following statement?\u001b[0m\u001b[0;34m\u001b[0m\u001b[0;34m\u001b[0m\u001b[0;34m\u001b[0m\u001b[0m\n\u001b[0;32m----> 2\u001b[0;31m \u001b[0mname\u001b[0m\u001b[0;34m[\u001b[0m\u001b[0;36m5\u001b[0m\u001b[0;34m]\u001b[0m\u001b[0;34m\u001b[0m\u001b[0;34m\u001b[0m\u001b[0m\n\u001b[0m",
            "\u001b[0;31mIndexError\u001b[0m: string index out of range"
          ]
        }
      ]
    },
    {
      "cell_type": "code",
      "source": [
        "print(name[-1]) # print the last character\n",
        "print(name[-2]) # print the second last character"
      ],
      "metadata": {
        "colab": {
          "base_uri": "https://localhost:8080/"
        },
        "id": "JMu7LW7mVa0a",
        "outputId": "aa04cf93-d377-4781-b1a8-f86b684aaa92"
      },
      "execution_count": null,
      "outputs": [
        {
          "output_type": "stream",
          "name": "stdout",
          "text": [
            "s\n",
            "d\n"
          ]
        }
      ]
    },
    {
      "cell_type": "code",
      "source": [
        "#substring\n",
        "\n",
        "#printing first three letters\n",
        "print(name[:3])\n",
        "#printing letters from index 1 to index 4\n",
        "print(name[1:5])"
      ],
      "metadata": {
        "colab": {
          "base_uri": "https://localhost:8080/"
        },
        "id": "ZIC8kM49VwKf",
        "outputId": "e2f2cf83-c511-4195-d8b8-910013eeba2b"
      },
      "execution_count": null,
      "outputs": [
        {
          "output_type": "stream",
          "name": "stdout",
          "text": [
            "Aca\n",
            "cads\n"
          ]
        }
      ]
    },
    {
      "cell_type": "code",
      "source": [
        "#Can we pass slice of a string to len() method?\n",
        "\n",
        "len(name[:3])"
      ],
      "metadata": {
        "colab": {
          "base_uri": "https://localhost:8080/"
        },
        "id": "X09Cmh3qWAOH",
        "outputId": "6c5ce063-4cd0-4513-d378-e393ab044e7e"
      },
      "execution_count": null,
      "outputs": [
        {
          "output_type": "execute_result",
          "data": {
            "text/plain": [
              "3"
            ]
          },
          "metadata": {},
          "execution_count": 7
        }
      ]
    },
    {
      "cell_type": "code",
      "source": [
        "#slicing the string using 0:length gives the original string\n",
        "\n",
        "name == name[0:len(name)]"
      ],
      "metadata": {
        "colab": {
          "base_uri": "https://localhost:8080/"
        },
        "id": "KO3BtoMpWms-",
        "outputId": "cf3f50de-9af6-48fd-c45b-e4b8b0b765f0"
      },
      "execution_count": null,
      "outputs": [
        {
          "output_type": "execute_result",
          "data": {
            "text/plain": [
              "True"
            ]
          },
          "metadata": {},
          "execution_count": 8
        }
      ]
    },
    {
      "cell_type": "code",
      "source": [
        "name[:2] #String containing characters upto index 1"
      ],
      "metadata": {
        "colab": {
          "base_uri": "https://localhost:8080/",
          "height": 35
        },
        "id": "JCDznv2NYGeF",
        "outputId": "8155f6f0-eb5a-4212-9cce-3b782d51e533"
      },
      "execution_count": null,
      "outputs": [
        {
          "output_type": "execute_result",
          "data": {
            "text/plain": [
              "'Ac'"
            ],
            "application/vnd.google.colaboratory.intrinsic+json": {
              "type": "string"
            }
          },
          "metadata": {},
          "execution_count": 9
        }
      ]
    },
    {
      "cell_type": "code",
      "source": [
        "name[:] #String containing all the characters"
      ],
      "metadata": {
        "colab": {
          "base_uri": "https://localhost:8080/",
          "height": 35
        },
        "id": "EiY4i75Cg6wC",
        "outputId": "5a33e1c5-bc86-4914-9a61-82810f3dbadc"
      },
      "execution_count": null,
      "outputs": [
        {
          "output_type": "execute_result",
          "data": {
            "text/plain": [
              "'Acads'"
            ],
            "application/vnd.google.colaboratory.intrinsic+json": {
              "type": "string"
            }
          },
          "metadata": {},
          "execution_count": 10
        }
      ]
    },
    {
      "cell_type": "code",
      "source": [
        "print(name[-4:-1]) #Substring from fourth last character to the second last character from end\n",
        "\n",
        "print(name[-4:]) #Substring from fourth last character of string\n",
        "\n",
        "print(name[-4:4]) #Substring from fourth last character to the character at index 3"
      ],
      "metadata": {
        "colab": {
          "base_uri": "https://localhost:8080/"
        },
        "id": "Sc3Giixdg9RM",
        "outputId": "e9fef3bb-bbd8-4e37-9043-d339b87435d3"
      },
      "execution_count": null,
      "outputs": [
        {
          "output_type": "stream",
          "name": "stdout",
          "text": [
            "cad\n",
            "cads\n",
            "cad\n"
          ]
        }
      ]
    },
    {
      "cell_type": "code",
      "source": [
        "name[1:7] #Original string has only 5 characters"
      ],
      "metadata": {
        "colab": {
          "base_uri": "https://localhost:8080/",
          "height": 35
        },
        "id": "X1h-WHE8hJLQ",
        "outputId": "d6cdb7c1-2852-41f1-8ce2-0d3121eb7846"
      },
      "execution_count": null,
      "outputs": [
        {
          "output_type": "execute_result",
          "data": {
            "text/plain": [
              "'cads'"
            ],
            "application/vnd.google.colaboratory.intrinsic+json": {
              "type": "string"
            }
          },
          "metadata": {},
          "execution_count": 12
        }
      ]
    },
    {
      "cell_type": "code",
      "source": [
        "name[7:1]"
      ],
      "metadata": {
        "colab": {
          "base_uri": "https://localhost:8080/",
          "height": 35
        },
        "id": "dybBymuuhZzP",
        "outputId": "9bc392d7-717e-46c6-bd34-de4a0ee64d7d"
      },
      "execution_count": null,
      "outputs": [
        {
          "output_type": "execute_result",
          "data": {
            "text/plain": [
              "''"
            ],
            "application/vnd.google.colaboratory.intrinsic+json": {
              "type": "string"
            }
          },
          "metadata": {},
          "execution_count": 13
        }
      ]
    },
    {
      "cell_type": "code",
      "source": [
        "# Specifying a Stride in a String Slice\n",
        "s = \"Atul Gupta\"\n",
        "s[0:6:2]\n",
        "#s[1:6:2]"
      ],
      "metadata": {
        "colab": {
          "base_uri": "https://localhost:8080/",
          "height": 35
        },
        "id": "QHTtS4fzhbeP",
        "outputId": "baefd510-3edc-40ae-de00-5919775166cb"
      },
      "execution_count": null,
      "outputs": [
        {
          "output_type": "execute_result",
          "data": {
            "text/plain": [
              "'Au '"
            ],
            "application/vnd.google.colaboratory.intrinsic+json": {
              "type": "string"
            }
          },
          "metadata": {},
          "execution_count": 14
        }
      ]
    },
    {
      "cell_type": "markdown",
      "source": [
        "### Other String Functions\n"
      ],
      "metadata": {
        "id": "aFRUoAYOhecG"
      }
    },
    {
      "cell_type": "code",
      "source": [
        "title = 'dell inc.'\n",
        "\n",
        "#Convert first character of the string to upper case\n",
        "title.capitalize()"
      ],
      "metadata": {
        "colab": {
          "base_uri": "https://localhost:8080/",
          "height": 35
        },
        "id": "j1xVbs6Lhna9",
        "outputId": "23db9b13-f771-48aa-b20c-106392f27da8"
      },
      "execution_count": null,
      "outputs": [
        {
          "output_type": "execute_result",
          "data": {
            "text/plain": [
              "'Dell inc.'"
            ],
            "application/vnd.google.colaboratory.intrinsic+json": {
              "type": "string"
            }
          },
          "metadata": {},
          "execution_count": 15
        }
      ]
    },
    {
      "cell_type": "code",
      "source": [
        "title = 'DELL INC.'\n",
        "\n",
        "#Convert case of the full title string\n",
        "title.casefold()"
      ],
      "metadata": {
        "colab": {
          "base_uri": "https://localhost:8080/",
          "height": 35
        },
        "id": "kjzwiz9Ohq2K",
        "outputId": "a7bb8dde-66d3-480b-ef14-867c1532cf94"
      },
      "execution_count": null,
      "outputs": [
        {
          "output_type": "execute_result",
          "data": {
            "text/plain": [
              "'dell inc.'"
            ],
            "application/vnd.google.colaboratory.intrinsic+json": {
              "type": "string"
            }
          },
          "metadata": {},
          "execution_count": 16
        }
      ]
    },
    {
      "cell_type": "code",
      "source": [
        "#Count how many times a letter occurs in a string\n",
        "title.count('L')"
      ],
      "metadata": {
        "colab": {
          "base_uri": "https://localhost:8080/"
        },
        "id": "6TuXJHxFhzNm",
        "outputId": "b6cda4b2-6737-4903-8b83-4ed6b6b268d1"
      },
      "execution_count": null,
      "outputs": [
        {
          "output_type": "execute_result",
          "data": {
            "text/plain": [
              "2"
            ]
          },
          "metadata": {},
          "execution_count": 17
        }
      ]
    },
    {
      "cell_type": "code",
      "source": [
        "#Get the position of a character in a string\n",
        "title.find('C')"
      ],
      "metadata": {
        "colab": {
          "base_uri": "https://localhost:8080/"
        },
        "id": "SeRU9nQjh2YE",
        "outputId": "fee5ff90-657a-4832-92d0-d8c938cd4b5f"
      },
      "execution_count": null,
      "outputs": [
        {
          "output_type": "execute_result",
          "data": {
            "text/plain": [
              "7"
            ]
          },
          "metadata": {},
          "execution_count": 18
        }
      ]
    },
    {
      "cell_type": "code",
      "source": [
        "#What happens if we pass a character that is not present in the string?\n",
        "title.find('T')"
      ],
      "metadata": {
        "colab": {
          "base_uri": "https://localhost:8080/"
        },
        "id": "E6gALu6Qh-t2",
        "outputId": "25b744d8-7dcc-4215-c6c4-f4695ca343d3"
      },
      "execution_count": null,
      "outputs": [
        {
          "output_type": "execute_result",
          "data": {
            "text/plain": [
              "-1"
            ]
          },
          "metadata": {},
          "execution_count": 19
        }
      ]
    },
    {
      "cell_type": "code",
      "source": [
        "#Check if the string ends with a specified value\n",
        "title.endswith('inc.')"
      ],
      "metadata": {
        "colab": {
          "base_uri": "https://localhost:8080/"
        },
        "id": "avOgztvuiHWC",
        "outputId": "daab0274-2d75-4fda-8e3a-1ed0328c8923"
      },
      "execution_count": null,
      "outputs": [
        {
          "output_type": "execute_result",
          "data": {
            "text/plain": [
              "False"
            ]
          },
          "metadata": {},
          "execution_count": 23
        }
      ]
    },
    {
      "cell_type": "code",
      "source": [
        "#Modify above statement so that it returns True.\n",
        "title.endswith('INC.')"
      ],
      "metadata": {
        "colab": {
          "base_uri": "https://localhost:8080/"
        },
        "id": "cWTiOv6wib-8",
        "outputId": "c65a7b28-ed96-492e-f139-b1e9c8532633"
      },
      "execution_count": null,
      "outputs": [
        {
          "output_type": "execute_result",
          "data": {
            "text/plain": [
              "True"
            ]
          },
          "metadata": {},
          "execution_count": 24
        }
      ]
    },
    {
      "cell_type": "code",
      "source": [
        "name = '1st Python Programming Course !'\n",
        "\n",
        "name.isalnum() # checks if all characters in a string are alphaneumeric"
      ],
      "metadata": {
        "colab": {
          "base_uri": "https://localhost:8080/"
        },
        "id": "dA2A-gLHioYt",
        "outputId": "a255c876-51de-4f8f-b28e-c5d89b951fe9"
      },
      "execution_count": null,
      "outputs": [
        {
          "output_type": "execute_result",
          "data": {
            "text/plain": [
              "False"
            ]
          },
          "metadata": {},
          "execution_count": 25
        }
      ]
    },
    {
      "cell_type": "code",
      "source": [
        "# lets get rid of '!'\n",
        "# we replace '!' with 'nothing'\n",
        "print(name)\n",
        "name.replace('!', '')"
      ],
      "metadata": {
        "colab": {
          "base_uri": "https://localhost:8080/",
          "height": 52
        },
        "id": "H_fl3bj6isJ-",
        "outputId": "c634bd0a-81de-4cc3-df56-9cd099628028"
      },
      "execution_count": null,
      "outputs": [
        {
          "output_type": "stream",
          "name": "stdout",
          "text": [
            "1st Python Programming Course !\n"
          ]
        },
        {
          "output_type": "execute_result",
          "data": {
            "text/plain": [
              "'1st Python Programming Course '"
            ],
            "application/vnd.google.colaboratory.intrinsic+json": {
              "type": "string"
            }
          },
          "metadata": {},
          "execution_count": 26
        }
      ]
    },
    {
      "cell_type": "code",
      "source": [
        "print(name)"
      ],
      "metadata": {
        "colab": {
          "base_uri": "https://localhost:8080/"
        },
        "id": "RwOuRhwvixM3",
        "outputId": "de19b300-23c8-42d7-cf31-c1b817addb43"
      },
      "execution_count": null,
      "outputs": [
        {
          "output_type": "stream",
          "name": "stdout",
          "text": [
            "1st Python Programming Course !\n"
          ]
        }
      ]
    },
    {
      "cell_type": "code",
      "source": [
        "# check if all characters in the string are:\n",
        "# uppercase or lowercase\n",
        "# or if the string follow all rules of a title\n",
        "\n",
        "name = 'Python Programming Course!'\n",
        "\n",
        "print(name.isupper())\n",
        "\n",
        "print(name.islower())\n",
        "\n",
        "print(name.istitle())"
      ],
      "metadata": {
        "colab": {
          "base_uri": "https://localhost:8080/"
        },
        "id": "GnvC3bNJi4Rv",
        "outputId": "759b35b9-084f-4436-a584-227aea989bcf"
      },
      "execution_count": null,
      "outputs": [
        {
          "output_type": "stream",
          "name": "stdout",
          "text": [
            "False\n",
            "False\n",
            "True\n"
          ]
        }
      ]
    },
    {
      "cell_type": "code",
      "source": [
        "# join a list of elements in an iterable with a '-'\n",
        "\n",
        "print('-'.join(['Welcome', 'to', 'this', 'course!']))"
      ],
      "metadata": {
        "colab": {
          "base_uri": "https://localhost:8080/"
        },
        "id": "maiGyNxti6kk",
        "outputId": "e06a10ee-65bb-4ed7-c9b2-ad9b69646cf6"
      },
      "execution_count": null,
      "outputs": [
        {
          "output_type": "stream",
          "name": "stdout",
          "text": [
            "Welcome-to-this-course!\n"
          ]
        }
      ]
    },
    {
      "cell_type": "code",
      "source": [
        "string = 'atukl1'\n",
        "\n",
        "# check if the string is an identifier (?)\n",
        "string.isidentifier()"
      ],
      "metadata": {
        "colab": {
          "base_uri": "https://localhost:8080/"
        },
        "id": "F3_7VM8ti6rj",
        "outputId": "fab2893c-8ffc-4d7d-8d93-7a7f7f746392"
      },
      "execution_count": null,
      "outputs": [
        {
          "output_type": "execute_result",
          "data": {
            "text/plain": [
              "True"
            ]
          },
          "metadata": {},
          "execution_count": 30
        }
      ]
    },
    {
      "cell_type": "markdown",
      "source": [
        "### Unpacking a string"
      ],
      "metadata": {
        "id": "wL-lJY4ujFnX"
      }
    },
    {
      "cell_type": "code",
      "source": [
        "#Split the string at specified seperator\n",
        "\n",
        "name.split(' ')"
      ],
      "metadata": {
        "colab": {
          "base_uri": "https://localhost:8080/"
        },
        "id": "XP2VqgltjQLJ",
        "outputId": "c254f095-28de-4fd7-8de4-d99126f82334"
      },
      "execution_count": null,
      "outputs": [
        {
          "output_type": "execute_result",
          "data": {
            "text/plain": [
              "['Python', 'Programming', 'Course!']"
            ]
          },
          "metadata": {},
          "execution_count": 31
        }
      ]
    },
    {
      "cell_type": "code",
      "source": [
        "#Check the type of object returned by split() method.\n",
        "type(name.split(' '))"
      ],
      "metadata": {
        "colab": {
          "base_uri": "https://localhost:8080/"
        },
        "id": "YPo8yFJVjbVL",
        "outputId": "ce0bed9b-6c7b-46cc-8c8f-3b104fb3cd7e"
      },
      "execution_count": null,
      "outputs": [
        {
          "output_type": "execute_result",
          "data": {
            "text/plain": [
              "list"
            ]
          },
          "metadata": {},
          "execution_count": 32
        }
      ]
    },
    {
      "cell_type": "code",
      "source": [
        "initials = 'USA'\n",
        "\n",
        "# unpack the string to get the characters (?)\n",
        "a, b, c = initials\n",
        "\n",
        "print(a, b, c)"
      ],
      "metadata": {
        "colab": {
          "base_uri": "https://localhost:8080/"
        },
        "id": "zJR1hL9akRmo",
        "outputId": "e4a4292d-c18f-45b6-8dcf-e549fd901b2d"
      },
      "execution_count": null,
      "outputs": [
        {
          "output_type": "stream",
          "name": "stdout",
          "text": [
            "U S A\n"
          ]
        }
      ]
    },
    {
      "cell_type": "markdown",
      "source": [
        "### Some example problems on Strings"
      ],
      "metadata": {
        "id": "dVlN86dmkUw2"
      }
    },
    {
      "cell_type": "code",
      "source": [
        "# More compact way..\n",
        "\n",
        "txt = \"Hello World\"[::-1]\n",
        "print(txt)"
      ],
      "metadata": {
        "colab": {
          "base_uri": "https://localhost:8080/"
        },
        "id": "4CwOyAA6kZIu",
        "outputId": "cd6c68eb-9f5c-44b8-f1c2-e2183c45f580"
      },
      "execution_count": null,
      "outputs": [
        {
          "output_type": "stream",
          "name": "stdout",
          "text": [
            "dlroW olleH\n"
          ]
        }
      ]
    },
    {
      "cell_type": "code",
      "source": [
        "# last occurance of a substring\n",
        "\n",
        "txt = 'the the loudest word ever shouted is probably the word quiet'\n",
        "substring = 'word'\n",
        "index = txt.rfind(substring)\n",
        "print(\"Last occurrence of '%s' starts at %d\" % (substring, index))"
      ],
      "metadata": {
        "colab": {
          "base_uri": "https://localhost:8080/"
        },
        "id": "sQD1XTdGke5v",
        "outputId": "a4857a51-2573-462d-f23a-7bb07724622f"
      },
      "execution_count": null,
      "outputs": [
        {
          "output_type": "stream",
          "name": "stdout",
          "text": [
            "Last occurrence of 'word' starts at 50\n"
          ]
        }
      ]
    },
    {
      "cell_type": "code",
      "source": [
        "#Given an odd string length, print the middle three characters\n",
        "\n",
        "sampleStr = 'nationalist'\n",
        "middleIndex = int(len(sampleStr) /2)\n",
        "print(\"Original String is\", sampleStr)\n",
        "middleThree = sampleStr[middleIndex-1:middleIndex+2]\n",
        "print(\"Middle three chars are\", middleThree)\n"
      ],
      "metadata": {
        "colab": {
          "base_uri": "https://localhost:8080/"
        },
        "id": "DaYb2LMjk_sN",
        "outputId": "1e48da8a-8dc0-453f-c15d-9be3c79d1021"
      },
      "execution_count": null,
      "outputs": [
        {
          "output_type": "stream",
          "name": "stdout",
          "text": [
            "Original String is nationalist\n",
            "Middle three chars are ona\n"
          ]
        }
      ]
    },
    {
      "cell_type": "markdown",
      "source": [
        "# **LAB 4 - 08/08/2022**"
      ],
      "metadata": {
        "id": "isdoE07SieqX"
      }
    },
    {
      "cell_type": "markdown",
      "source": [
        "## Implementing all string functions"
      ],
      "metadata": {
        "id": "endPF3wiiypj"
      }
    },
    {
      "cell_type": "code",
      "source": [
        "#https://www.w3schools.com/python/python_ref_string.asp\n",
        "\n",
        "a = 'this is our fourth lab'\n",
        "a = a.capitalize()\n",
        "print(a)"
      ],
      "metadata": {
        "colab": {
          "base_uri": "https://localhost:8080/"
        },
        "id": "nkeZcB4Ti57q",
        "outputId": "8bff8039-3a66-4e7a-ccd2-ed1675b14b00"
      },
      "execution_count": null,
      "outputs": [
        {
          "output_type": "stream",
          "name": "stdout",
          "text": [
            "This is our fourth lab\n"
          ]
        }
      ]
    },
    {
      "cell_type": "code",
      "source": [
        "#casefold\n",
        "\n",
        "a = 'Hello Universe'\n",
        "a = a.casefold()\n",
        "print(a)"
      ],
      "metadata": {
        "colab": {
          "base_uri": "https://localhost:8080/"
        },
        "id": "oRd1lf55j3_9",
        "outputId": "c31a8eb7-b858-450b-fcaf-7be2aa51abe5"
      },
      "execution_count": null,
      "outputs": [
        {
          "output_type": "stream",
          "name": "stdout",
          "text": [
            "hello universe\n"
          ]
        }
      ]
    },
    {
      "cell_type": "code",
      "source": [
        "a = 'banana'\n",
        "a = a.center(15)\n",
        "print(a)"
      ],
      "metadata": {
        "colab": {
          "base_uri": "https://localhost:8080/"
        },
        "id": "9sGlJIV1kGXr",
        "outputId": "d467cbd3-2cbd-4462-9454-d648b96e4e87"
      },
      "execution_count": null,
      "outputs": [
        {
          "output_type": "stream",
          "name": "stdout",
          "text": [
            "     banana    \n"
          ]
        }
      ]
    },
    {
      "cell_type": "code",
      "source": [
        "x = a.count(\"na\")\n",
        "print(x)"
      ],
      "metadata": {
        "colab": {
          "base_uri": "https://localhost:8080/"
        },
        "id": "pVXJWiTAksQe",
        "outputId": "13f956ca-0dd6-4825-ccdb-4e961509cb66"
      },
      "execution_count": null,
      "outputs": [
        {
          "output_type": "stream",
          "name": "stdout",
          "text": [
            "2\n"
          ]
        }
      ]
    },
    {
      "cell_type": "code",
      "source": [
        "a = 'My Name Is Akshit'\n",
        "x = a.encode()\n",
        "print(x)"
      ],
      "metadata": {
        "colab": {
          "base_uri": "https://localhost:8080/"
        },
        "id": "SoFqfzG_k5dc",
        "outputId": "5d0276f9-c765-44d1-dd42-96cd13730b18"
      },
      "execution_count": null,
      "outputs": [
        {
          "output_type": "stream",
          "name": "stdout",
          "text": [
            "b'My Name Is Akshit'\n"
          ]
        }
      ]
    },
    {
      "cell_type": "code",
      "source": [
        "print(a.endswith('t'))"
      ],
      "metadata": {
        "colab": {
          "base_uri": "https://localhost:8080/"
        },
        "id": "2_VvA1aalXx5",
        "outputId": "6632f99c-2652-4b3e-c5ea-2a8f4d8a9556"
      },
      "execution_count": null,
      "outputs": [
        {
          "output_type": "stream",
          "name": "stdout",
          "text": [
            "True\n"
          ]
        }
      ]
    },
    {
      "cell_type": "code",
      "source": [
        "a = 'H\\te\\tl\\tl\\to'\n",
        "print(a)\n",
        "b = a.expandtabs(2)\n",
        "print(b)"
      ],
      "metadata": {
        "colab": {
          "base_uri": "https://localhost:8080/"
        },
        "id": "sXK6EiNple0y",
        "outputId": "2edff55b-4da3-496c-affc-b9c5c84dd35d"
      },
      "execution_count": null,
      "outputs": [
        {
          "output_type": "stream",
          "name": "stdout",
          "text": [
            "H\te\tl\tl\to\n",
            "H e l l o\n"
          ]
        }
      ]
    },
    {
      "cell_type": "code",
      "source": [
        "a = 'My Name Is Akshit'\n",
        "print(a.find('Is'))"
      ],
      "metadata": {
        "colab": {
          "base_uri": "https://localhost:8080/"
        },
        "id": "lu0HNBWul21m",
        "outputId": "be30fff9-cf6f-4de8-b6cb-4b5c816e9e31"
      },
      "execution_count": null,
      "outputs": [
        {
          "output_type": "stream",
          "name": "stdout",
          "text": [
            "8\n"
          ]
        }
      ]
    },
    {
      "cell_type": "code",
      "source": [
        "txt = \"For only {price:.2f} dollars!\"\n",
        "print(txt.format(price = 69))"
      ],
      "metadata": {
        "colab": {
          "base_uri": "https://localhost:8080/"
        },
        "id": "leYMGgSWmD7G",
        "outputId": "33a5cd5a-7e70-45e1-afbe-c00e35b0ce7d"
      },
      "execution_count": null,
      "outputs": [
        {
          "output_type": "stream",
          "name": "stdout",
          "text": [
            "For only 69.00 dollars!\n"
          ]
        }
      ]
    },
    {
      "cell_type": "code",
      "source": [
        "a = 'My Name Is Akshit'\n",
        "print(a.index('Is'))"
      ],
      "metadata": {
        "colab": {
          "base_uri": "https://localhost:8080/"
        },
        "id": "99h_IxCymUTN",
        "outputId": "a967c95d-26d0-4846-aff6-97548ee61dc8"
      },
      "execution_count": null,
      "outputs": [
        {
          "output_type": "stream",
          "name": "stdout",
          "text": [
            "8\n"
          ]
        }
      ]
    },
    {
      "cell_type": "code",
      "source": [
        "print(a.isalnum())"
      ],
      "metadata": {
        "colab": {
          "base_uri": "https://localhost:8080/"
        },
        "id": "6JDtA2AGmwxL",
        "outputId": "efcaf0a1-7b93-4c05-f941-3706d4dc05c3"
      },
      "execution_count": null,
      "outputs": [
        {
          "output_type": "stream",
          "name": "stdout",
          "text": [
            "False\n"
          ]
        }
      ]
    },
    {
      "cell_type": "code",
      "source": [
        "print(a.isalpha())"
      ],
      "metadata": {
        "colab": {
          "base_uri": "https://localhost:8080/"
        },
        "id": "7bk4kJ0Jm9V4",
        "outputId": "55a73691-a437-42ee-c888-dcf31ba462cd"
      },
      "execution_count": null,
      "outputs": [
        {
          "output_type": "stream",
          "name": "stdout",
          "text": [
            "False\n"
          ]
        }
      ]
    },
    {
      "cell_type": "code",
      "source": [
        "print(a.isascii())"
      ],
      "metadata": {
        "colab": {
          "base_uri": "https://localhost:8080/"
        },
        "id": "DSttCnbynAvI",
        "outputId": "23e570a1-8715-4763-cbea-52a37dc38386"
      },
      "execution_count": null,
      "outputs": [
        {
          "output_type": "stream",
          "name": "stdout",
          "text": [
            "True\n"
          ]
        }
      ]
    },
    {
      "cell_type": "code",
      "source": [
        "print(a.isdecimal())"
      ],
      "metadata": {
        "colab": {
          "base_uri": "https://localhost:8080/"
        },
        "id": "ecAmFvLXnFGr",
        "outputId": "d7cc04c1-9cc9-4fcb-fd0f-17d2ffc5fbf4"
      },
      "execution_count": null,
      "outputs": [
        {
          "output_type": "stream",
          "name": "stdout",
          "text": [
            "False\n"
          ]
        }
      ]
    },
    {
      "cell_type": "code",
      "source": [
        "print(a.isdigit())"
      ],
      "metadata": {
        "colab": {
          "base_uri": "https://localhost:8080/"
        },
        "id": "WsHOfpz1nKEf",
        "outputId": "47244617-13ba-455e-8dc4-7f879b33245c"
      },
      "execution_count": null,
      "outputs": [
        {
          "output_type": "stream",
          "name": "stdout",
          "text": [
            "False\n"
          ]
        }
      ]
    },
    {
      "cell_type": "code",
      "source": [
        "print(a.isidentifier())"
      ],
      "metadata": {
        "colab": {
          "base_uri": "https://localhost:8080/"
        },
        "id": "o1WS3EJ0nON2",
        "outputId": "794e962e-dde8-4edd-fc6b-7f971b021820"
      },
      "execution_count": null,
      "outputs": [
        {
          "output_type": "stream",
          "name": "stdout",
          "text": [
            "False\n"
          ]
        }
      ]
    },
    {
      "cell_type": "code",
      "source": [
        "a = a.casefold()\n",
        "print(a.islower())"
      ],
      "metadata": {
        "colab": {
          "base_uri": "https://localhost:8080/"
        },
        "id": "w1QUjnsunTj_",
        "outputId": "b7775ffb-112c-42ab-f0bf-97d8792665c3"
      },
      "execution_count": null,
      "outputs": [
        {
          "output_type": "stream",
          "name": "stdout",
          "text": [
            "True\n"
          ]
        }
      ]
    },
    {
      "cell_type": "code",
      "source": [
        "print(a.isnumeric())"
      ],
      "metadata": {
        "colab": {
          "base_uri": "https://localhost:8080/"
        },
        "id": "ArpLbSrvnZ_N",
        "outputId": "aa169b49-4fe0-4a59-8462-ea4bd6d4b56f"
      },
      "execution_count": null,
      "outputs": [
        {
          "output_type": "stream",
          "name": "stdout",
          "text": [
            "False\n"
          ]
        }
      ]
    },
    {
      "cell_type": "code",
      "source": [
        "print(a.isprintable())"
      ],
      "metadata": {
        "colab": {
          "base_uri": "https://localhost:8080/"
        },
        "id": "8qOYOa2Ondjg",
        "outputId": "ecd0aba0-517f-4ff7-afc9-1351894e548c"
      },
      "execution_count": null,
      "outputs": [
        {
          "output_type": "stream",
          "name": "stdout",
          "text": [
            "True\n"
          ]
        }
      ]
    },
    {
      "cell_type": "code",
      "source": [
        "print(a.isspace())"
      ],
      "metadata": {
        "colab": {
          "base_uri": "https://localhost:8080/"
        },
        "id": "SWg_12LBnf-F",
        "outputId": "319c1ba3-3638-40b8-cdde-d17e22c9ad45"
      },
      "execution_count": null,
      "outputs": [
        {
          "output_type": "stream",
          "name": "stdout",
          "text": [
            "False\n"
          ]
        }
      ]
    },
    {
      "cell_type": "code",
      "source": [
        "print(a.istitle())\n",
        "a = \"My Name Is Akshit\"\n",
        "print(a.istitle())"
      ],
      "metadata": {
        "colab": {
          "base_uri": "https://localhost:8080/"
        },
        "id": "RJP_6PN_nlk_",
        "outputId": "dbe609c2-b4fa-4e63-817d-adf2f7d8dd2b"
      },
      "execution_count": null,
      "outputs": [
        {
          "output_type": "stream",
          "name": "stdout",
          "text": [
            "False\n",
            "True\n"
          ]
        }
      ]
    },
    {
      "cell_type": "code",
      "source": [
        "print(a.isupper())"
      ],
      "metadata": {
        "colab": {
          "base_uri": "https://localhost:8080/"
        },
        "id": "7oikO25snn98",
        "outputId": "d10076c5-7953-47d8-aae7-3fea7d051f74"
      },
      "execution_count": null,
      "outputs": [
        {
          "output_type": "stream",
          "name": "stdout",
          "text": [
            "False\n"
          ]
        }
      ]
    },
    {
      "cell_type": "code",
      "source": [
        "a  = (\"John\", \"Peter\", \"Vicky\")\n",
        "a = \"%\".join(a)\n",
        "print(a)\n",
        "a  = (\"John\", \"Peter\", \"Vicky\")\n",
        "a = \" \".join(a)\n",
        "print(a)"
      ],
      "metadata": {
        "colab": {
          "base_uri": "https://localhost:8080/"
        },
        "id": "o1-zVR_In5hj",
        "outputId": "830a78d2-ff19-48b3-fcfb-aa75ee4e513e"
      },
      "execution_count": null,
      "outputs": [
        {
          "output_type": "stream",
          "name": "stdout",
          "text": [
            "John%Peter%Vicky\n",
            "John Peter Vicky\n"
          ]
        }
      ]
    },
    {
      "cell_type": "code",
      "source": [
        "a = \"banana\"\n",
        "\n",
        "x = a.ljust(20)\n",
        "\n",
        "print(x, \"is my favorite fruit.\")"
      ],
      "metadata": {
        "colab": {
          "base_uri": "https://localhost:8080/"
        },
        "id": "QRSFg3S5oYPI",
        "outputId": "88928615-d2b0-4207-f495-6d52a75bd141"
      },
      "execution_count": null,
      "outputs": [
        {
          "output_type": "stream",
          "name": "stdout",
          "text": [
            "banana               is my favorite fruit.\n"
          ]
        }
      ]
    },
    {
      "cell_type": "code",
      "source": [
        "a = 'My Name Is Akshit'\n",
        "print(a.lower())"
      ],
      "metadata": {
        "colab": {
          "base_uri": "https://localhost:8080/"
        },
        "id": "GuvKoftCogdw",
        "outputId": "da315e90-9fa1-4dcd-c5d4-cd15a69b7f81"
      },
      "execution_count": null,
      "outputs": [
        {
          "output_type": "stream",
          "name": "stdout",
          "text": [
            "my name is akshit\n"
          ]
        }
      ]
    },
    {
      "cell_type": "code",
      "source": [
        "x = \"     banana     \"\n",
        "\n",
        "x = x.lstrip()\n",
        "\n",
        "print(\"of all fruits\", x, \"is my favorite\")"
      ],
      "metadata": {
        "colab": {
          "base_uri": "https://localhost:8080/"
        },
        "id": "bVHpKJ5Kotr_",
        "outputId": "6f435899-71ab-403a-de32-aba8c14ddbea"
      },
      "execution_count": null,
      "outputs": [
        {
          "output_type": "stream",
          "name": "stdout",
          "text": [
            "of all fruits banana      is my favorite\n"
          ]
        }
      ]
    },
    {
      "cell_type": "code",
      "source": [
        "txt = \"Hello Sam!\"\n",
        "mytable = txt.maketrans(\"S\", \"P\")\n",
        "print(txt.translate(mytable))"
      ],
      "metadata": {
        "colab": {
          "base_uri": "https://localhost:8080/"
        },
        "id": "DBLk47Mxo4UO",
        "outputId": "19774ff4-c09e-42ac-c59c-d2e612386d8f"
      },
      "execution_count": null,
      "outputs": [
        {
          "output_type": "stream",
          "name": "stdout",
          "text": [
            "Hello Pam!\n"
          ]
        }
      ]
    },
    {
      "cell_type": "code",
      "source": [
        "a = \"My Name Is AKshit\"\n",
        "print(a.partition(\" Is \"))"
      ],
      "metadata": {
        "colab": {
          "base_uri": "https://localhost:8080/"
        },
        "id": "3NLp4WJjpIlc",
        "outputId": "07697bee-ac79-4fcd-bf9a-e1a541b296ba"
      },
      "execution_count": null,
      "outputs": [
        {
          "output_type": "stream",
          "name": "stdout",
          "text": [
            "('My Name', ' Is ', 'AKshit')\n"
          ]
        }
      ]
    },
    {
      "cell_type": "code",
      "source": [
        "a = \"Akshit, Saksham, Niharika\"\n",
        "x = a.rsplit(\", \")\n",
        "print(x)"
      ],
      "metadata": {
        "colab": {
          "base_uri": "https://localhost:8080/"
        },
        "id": "5ypJABSxqbIv",
        "outputId": "cce51d14-a4b9-48a3-bc1d-2d18eedfe5fa"
      },
      "execution_count": null,
      "outputs": [
        {
          "output_type": "stream",
          "name": "stdout",
          "text": [
            "['Akshit', 'Saksham', 'Niharika']\n"
          ]
        }
      ]
    },
    {
      "cell_type": "code",
      "source": [
        "x = \"     banana     \"\n",
        "x = x.rstrip()\n",
        "print(\"of all fruits\", x, \"is my favorite\")"
      ],
      "metadata": {
        "colab": {
          "base_uri": "https://localhost:8080/"
        },
        "id": "4xhvtaRpr-ss",
        "outputId": "eecfea12-3390-4bb8-cb83-7460d96c457b"
      },
      "execution_count": null,
      "outputs": [
        {
          "output_type": "stream",
          "name": "stdout",
          "text": [
            "of all fruits      banana is my favorite\n"
          ]
        }
      ]
    },
    {
      "cell_type": "code",
      "source": [
        "x = a.split()\n",
        "print(x)"
      ],
      "metadata": {
        "colab": {
          "base_uri": "https://localhost:8080/"
        },
        "id": "6PeXOLIysu1w",
        "outputId": "ad39da0c-d581-4ca2-9afb-82feda5ecc41"
      },
      "execution_count": null,
      "outputs": [
        {
          "output_type": "stream",
          "name": "stdout",
          "text": [
            "['Akshit,', 'Saksham,', 'Niharika']\n"
          ]
        }
      ]
    },
    {
      "cell_type": "code",
      "source": [
        "x = \"Thank you for the music\\nWelcome to the jungle\"\n",
        "x = x.splitlines()\n",
        "print(x)"
      ],
      "metadata": {
        "colab": {
          "base_uri": "https://localhost:8080/"
        },
        "id": "enBhiUkos85m",
        "outputId": "6d01282d-a302-40d9-b1f5-d413fea47dc1"
      },
      "execution_count": null,
      "outputs": [
        {
          "output_type": "stream",
          "name": "stdout",
          "text": [
            "['Thank you for the music', 'Welcome to the jungle']\n"
          ]
        }
      ]
    },
    {
      "cell_type": "code",
      "source": [
        "a = \"Akshit, Saksham, Niharika\"\n",
        "print(a.startswith(\"A\"))"
      ],
      "metadata": {
        "colab": {
          "base_uri": "https://localhost:8080/"
        },
        "id": "bAkra9ubtFnm",
        "outputId": "075eccf5-f442-465c-a3e3-831aea27f7bc"
      },
      "execution_count": null,
      "outputs": [
        {
          "output_type": "stream",
          "name": "stdout",
          "text": [
            "True\n"
          ]
        }
      ]
    },
    {
      "cell_type": "code",
      "source": [
        "x = \"     banana     \"\n",
        "x = x.strip()\n",
        "print(\"of all fruits\", x, \"is my favorite\")"
      ],
      "metadata": {
        "colab": {
          "base_uri": "https://localhost:8080/"
        },
        "id": "rskIGV_utjWD",
        "outputId": "52b43a22-d4bb-4378-8a53-e20221234089"
      },
      "execution_count": null,
      "outputs": [
        {
          "output_type": "stream",
          "name": "stdout",
          "text": [
            "of all fruits banana is my favorite\n"
          ]
        }
      ]
    },
    {
      "cell_type": "code",
      "source": [
        "a = \"Akshit, Saksham, Niharika\"\n",
        "print(a.swapcase())"
      ],
      "metadata": {
        "colab": {
          "base_uri": "https://localhost:8080/"
        },
        "id": "Ssihar7FttYa",
        "outputId": "d3a41960-a1f6-4933-bcc5-74c72b0672d7"
      },
      "execution_count": null,
      "outputs": [
        {
          "output_type": "stream",
          "name": "stdout",
          "text": [
            "aKSHIT, sAKSHAM, nIHARIKA\n"
          ]
        }
      ]
    },
    {
      "cell_type": "code",
      "source": [
        "a = 'My name is Akshit'\n",
        "print(a.title())"
      ],
      "metadata": {
        "colab": {
          "base_uri": "https://localhost:8080/"
        },
        "id": "IJi7VpcHt3FB",
        "outputId": "7636e92b-10eb-4c3c-deeb-de0090df8fdb"
      },
      "execution_count": null,
      "outputs": [
        {
          "output_type": "stream",
          "name": "stdout",
          "text": [
            "My Name Is Akshit\n"
          ]
        }
      ]
    },
    {
      "cell_type": "code",
      "source": [
        "print(a.upper())"
      ],
      "metadata": {
        "colab": {
          "base_uri": "https://localhost:8080/"
        },
        "id": "6nsND9jhuAI6",
        "outputId": "3dd9c075-533e-4a73-8336-8647137cf908"
      },
      "execution_count": null,
      "outputs": [
        {
          "output_type": "stream",
          "name": "stdout",
          "text": [
            "MY NAME IS AKSHIT\n"
          ]
        }
      ]
    },
    {
      "cell_type": "code",
      "source": [
        "#using a dictionary with ascii codes to replace 83 (S) with 80 (P):\n",
        "d = {83:  80}\n",
        "txt = \"Hello Sam!\"\n",
        "print(txt.translate(d))"
      ],
      "metadata": {
        "colab": {
          "base_uri": "https://localhost:8080/"
        },
        "id": "ZdbDni1UuWoA",
        "outputId": "88f85569-72d3-4232-fdb2-eecea398172f"
      },
      "execution_count": null,
      "outputs": [
        {
          "output_type": "stream",
          "name": "stdout",
          "text": [
            "Hello Pam!\n"
          ]
        }
      ]
    },
    {
      "cell_type": "code",
      "source": [
        "print(a.zfill(10))"
      ],
      "metadata": {
        "colab": {
          "base_uri": "https://localhost:8080/"
        },
        "id": "NJqLn0hUunK2",
        "outputId": "7a05b78b-5f44-42d1-80da-c9ad32c41137"
      },
      "execution_count": null,
      "outputs": [
        {
          "output_type": "stream",
          "name": "stdout",
          "text": [
            "My name is Akshit\n"
          ]
        }
      ]
    },
    {
      "cell_type": "code",
      "source": [
        "print(-5.5%2.5)"
      ],
      "metadata": {
        "colab": {
          "base_uri": "https://localhost:8080/"
        },
        "id": "72jIFpgs06la",
        "outputId": "a481b606-84ab-438b-e4be-43d350581c4e"
      },
      "execution_count": null,
      "outputs": [
        {
          "output_type": "stream",
          "name": "stdout",
          "text": [
            "2.0\n"
          ]
        }
      ]
    },
    {
      "cell_type": "markdown",
      "source": [
        "# **LAB 5 - 22/08/2022**"
      ],
      "metadata": {
        "id": "Xl1JJUdIpUQ7"
      }
    },
    {
      "cell_type": "markdown",
      "source": [
        "## Variables and Expressions"
      ],
      "metadata": {
        "id": "BDWMgEPspnYD"
      }
    },
    {
      "cell_type": "code",
      "source": [
        "#expression\n",
        "\n",
        "10+2"
      ],
      "metadata": {
        "colab": {
          "base_uri": "https://localhost:8080/"
        },
        "id": "b_9Dfc4Wp0Jo",
        "outputId": "459fb1c3-b819-4f53-d525-7b55fa2e524d"
      },
      "execution_count": null,
      "outputs": [
        {
          "output_type": "execute_result",
          "data": {
            "text/plain": [
              "12"
            ]
          },
          "metadata": {},
          "execution_count": 1
        }
      ]
    },
    {
      "cell_type": "code",
      "source": [
        "#expression with multiple operators\n",
        "\n",
        "10+2*4"
      ],
      "metadata": {
        "colab": {
          "base_uri": "https://localhost:8080/"
        },
        "id": "YA0rTeezqJzk",
        "outputId": "a9003c0c-eb2e-46f7-b5d9-f65bee816792"
      },
      "execution_count": null,
      "outputs": [
        {
          "output_type": "execute_result",
          "data": {
            "text/plain": [
              "18"
            ]
          },
          "metadata": {},
          "execution_count": 3
        }
      ]
    },
    {
      "cell_type": "code",
      "source": [
        "#printing the result of the expression directly\n",
        "\n",
        "print(10+2*4)"
      ],
      "metadata": {
        "colab": {
          "base_uri": "https://localhost:8080/"
        },
        "id": "BrX_VKAeqOkg",
        "outputId": "24ad4244-9ec7-4995-93c8-643e470e50a7"
      },
      "execution_count": null,
      "outputs": [
        {
          "output_type": "stream",
          "name": "stdout",
          "text": [
            "18\n"
          ]
        }
      ]
    },
    {
      "cell_type": "code",
      "source": [
        "#assigning value of an expression to a variable\n",
        "\n",
        "a = 10+2*4\n",
        "print(a)"
      ],
      "metadata": {
        "colab": {
          "base_uri": "https://localhost:8080/"
        },
        "id": "zBmFPWMNqWqk",
        "outputId": "33a7b67a-29ed-4de5-88e0-a26ab348c899"
      },
      "execution_count": null,
      "outputs": [
        {
          "output_type": "stream",
          "name": "stdout",
          "text": [
            "18\n"
          ]
        }
      ]
    },
    {
      "cell_type": "code",
      "source": [
        "#variable assigning value to another variable\n",
        "\n",
        "b = 40\n",
        "b = a\n",
        "print(b)"
      ],
      "metadata": {
        "colab": {
          "base_uri": "https://localhost:8080/"
        },
        "id": "u8cwxW-hqf0y",
        "outputId": "8695d496-ea96-4886-eede-90582f33678a"
      },
      "execution_count": null,
      "outputs": [
        {
          "output_type": "stream",
          "name": "stdout",
          "text": [
            "18\n"
          ]
        }
      ]
    },
    {
      "cell_type": "code",
      "source": [
        "#changing value directly using a variable\n",
        "\n",
        "a = a+2\n",
        "print(a)"
      ],
      "metadata": {
        "colab": {
          "base_uri": "https://localhost:8080/"
        },
        "id": "2WAwimoXqyIN",
        "outputId": "26b16e84-3b7e-4cdd-d419-e5683518b2cf"
      },
      "execution_count": null,
      "outputs": [
        {
          "output_type": "stream",
          "name": "stdout",
          "text": [
            "20\n"
          ]
        }
      ]
    },
    {
      "cell_type": "code",
      "source": [
        "#initializing multiple variables\n",
        "\n",
        "a=b=c=d=e=6\n",
        "print(a,b,c,d,e)"
      ],
      "metadata": {
        "colab": {
          "base_uri": "https://localhost:8080/"
        },
        "id": "vx4gVeCrq-yw",
        "outputId": "4a6e7ba1-79f1-46d2-fe73-b5a680babc10"
      },
      "execution_count": null,
      "outputs": [
        {
          "output_type": "stream",
          "name": "stdout",
          "text": [
            "6 6 6 6 6\n"
          ]
        }
      ]
    },
    {
      "cell_type": "code",
      "source": [
        "#multiline commment\n",
        "\n",
        "a = 8\n",
        "a = a+1\n",
        "b = 2\n",
        "c = a+b\n",
        "print(a)\n",
        "print(c)"
      ],
      "metadata": {
        "colab": {
          "base_uri": "https://localhost:8080/"
        },
        "id": "bYzKGIZXrYe_",
        "outputId": "c8d1ed32-e84e-4f8f-d6fd-ed6d7a3569cd"
      },
      "execution_count": null,
      "outputs": [
        {
          "output_type": "stream",
          "name": "stdout",
          "text": [
            "9\n",
            "11\n"
          ]
        }
      ]
    },
    {
      "cell_type": "markdown",
      "source": [
        "## type() function"
      ],
      "metadata": {
        "id": "kc5a9ubUr4UJ"
      }
    },
    {
      "cell_type": "code",
      "source": [
        "#type() function is used to get the type of an object passed to it.\n",
        "\n",
        "type(\"Hello World\")"
      ],
      "metadata": {
        "colab": {
          "base_uri": "https://localhost:8080/"
        },
        "id": "-vryDl90sGCC",
        "outputId": "82ad3a8e-8eaa-4e73-a7d2-49a5b47ef0fc"
      },
      "execution_count": null,
      "outputs": [
        {
          "output_type": "execute_result",
          "data": {
            "text/plain": [
              "str"
            ]
          },
          "metadata": {},
          "execution_count": 13
        }
      ]
    },
    {
      "cell_type": "code",
      "source": [
        "type(7.9)"
      ],
      "metadata": {
        "colab": {
          "base_uri": "https://localhost:8080/"
        },
        "id": "lM13x9pcsPJw",
        "outputId": "f55fd77a-2dee-4a98-f7d8-b32c66e5d8e3"
      },
      "execution_count": null,
      "outputs": [
        {
          "output_type": "execute_result",
          "data": {
            "text/plain": [
              "float"
            ]
          },
          "metadata": {},
          "execution_count": 14
        }
      ]
    },
    {
      "cell_type": "code",
      "source": [
        "type(\"7.9\")"
      ],
      "metadata": {
        "colab": {
          "base_uri": "https://localhost:8080/"
        },
        "id": "1mBFpJ83sR3N",
        "outputId": "f8045879-8122-4ab1-b958-205d6a5f2501"
      },
      "execution_count": null,
      "outputs": [
        {
          "output_type": "execute_result",
          "data": {
            "text/plain": [
              "str"
            ]
          },
          "metadata": {},
          "execution_count": 15
        }
      ]
    },
    {
      "cell_type": "code",
      "source": [
        "type(None)"
      ],
      "metadata": {
        "colab": {
          "base_uri": "https://localhost:8080/"
        },
        "id": "06oIkWQQsUEF",
        "outputId": "ae50da1b-6b3b-42c9-82e7-f682fd328c2a"
      },
      "execution_count": null,
      "outputs": [
        {
          "output_type": "execute_result",
          "data": {
            "text/plain": [
              "NoneType"
            ]
          },
          "metadata": {},
          "execution_count": 16
        }
      ]
    },
    {
      "cell_type": "code",
      "source": [
        "type(print(\"Hello World\"))"
      ],
      "metadata": {
        "colab": {
          "base_uri": "https://localhost:8080/"
        },
        "id": "hRrj7klPsW7S",
        "outputId": "79107a9f-7dd7-4912-e343-9d3889995f70"
      },
      "execution_count": null,
      "outputs": [
        {
          "output_type": "stream",
          "name": "stdout",
          "text": [
            "Hello World\n"
          ]
        },
        {
          "output_type": "execute_result",
          "data": {
            "text/plain": [
              "NoneType"
            ]
          },
          "metadata": {},
          "execution_count": 17
        }
      ]
    },
    {
      "cell_type": "markdown",
      "source": [
        "## print() function"
      ],
      "metadata": {
        "id": "kMsxW9v-sczI"
      }
    },
    {
      "cell_type": "code",
      "source": [
        "#printing a variable\n",
        "\n",
        "name = 'Akshit Sharma'\n",
        "age = 20\n",
        "print('Your age is', age, 'years')"
      ],
      "metadata": {
        "colab": {
          "base_uri": "https://localhost:8080/"
        },
        "id": "qlaqWRiQsfvd",
        "outputId": "683f821e-1104-4e0a-ed7b-fb405f931c31"
      },
      "execution_count": null,
      "outputs": [
        {
          "output_type": "stream",
          "name": "stdout",
          "text": [
            "Your age is 20 years\n"
          ]
        }
      ]
    },
    {
      "cell_type": "code",
      "source": [
        "GPA = 9.845555\n",
        "\n",
        "print('GPA = %.3f' % GPA)"
      ],
      "metadata": {
        "colab": {
          "base_uri": "https://localhost:8080/"
        },
        "id": "WNTdv7PDsu23",
        "outputId": "c0012a19-ad10-41d2-88bb-4884073aaf82"
      },
      "execution_count": null,
      "outputs": [
        {
          "output_type": "stream",
          "name": "stdout",
          "text": [
            "GPA = 9.846\n"
          ]
        }
      ]
    },
    {
      "cell_type": "code",
      "source": [
        "print('Your age is %d years.' % age)"
      ],
      "metadata": {
        "colab": {
          "base_uri": "https://localhost:8080/"
        },
        "id": "j775MFlbtF3i",
        "outputId": "e42fb38b-0c6a-469e-9e11-e8303212e114"
      },
      "execution_count": null,
      "outputs": [
        {
          "output_type": "stream",
          "name": "stdout",
          "text": [
            "Your age is 20 years.\n"
          ]
        }
      ]
    },
    {
      "cell_type": "code",
      "source": [
        "# print(name, 'is', age, 'years old.')\n",
        "print('%s is %d years old.' % (name, age))"
      ],
      "metadata": {
        "colab": {
          "base_uri": "https://localhost:8080/"
        },
        "id": "BU88ElMItKcZ",
        "outputId": "71cc5521-7a19-482d-9c8e-20abd810fd60"
      },
      "execution_count": null,
      "outputs": [
        {
          "output_type": "stream",
          "name": "stdout",
          "text": [
            "Akshit Sharma is 20 years old.\n"
          ]
        }
      ]
    },
    {
      "cell_type": "code",
      "source": [
        "print('%s is %d years old.' % (name.split()[0], age))"
      ],
      "metadata": {
        "colab": {
          "base_uri": "https://localhost:8080/"
        },
        "id": "5OnU-n32tcoD",
        "outputId": "bbabbcfa-d70e-4e37-bfb3-2a2deab00fcc"
      },
      "execution_count": null,
      "outputs": [
        {
          "output_type": "stream",
          "name": "stdout",
          "text": [
            "Akshit is 20 years old.\n"
          ]
        }
      ]
    },
    {
      "cell_type": "markdown",
      "source": [
        "## EXERCISE"
      ],
      "metadata": {
        "id": "C4TAUsskteXs"
      }
    },
    {
      "cell_type": "code",
      "source": [
        "'''\n",
        "Q1. Read radious of a circle and side of a square from user using single input() method.\n",
        "Then calculate and display area of the circle and the square.\n",
        "\n",
        "Input:\n",
        "3.33 3.33\n",
        "\n",
        "Output:\n",
        "Area of circle:34.82\n",
        "Area of square:11.09\n",
        "\n",
        "Hint:\n",
        "Use float() to convert string to float data type.\n",
        "'''\n",
        "\n",
        "a, b = input('Enter the value:').split()\n",
        "a = float(a)\n",
        "b = float(b)\n",
        "area1 = a * a * 3.14\n",
        "area2 = b * b\n",
        "print('Area of circle: %.2f' % area1, '\\nArea of square: %.2f' % area2)"
      ],
      "metadata": {
        "colab": {
          "base_uri": "https://localhost:8080/"
        },
        "id": "FfQEIZ44thal",
        "outputId": "af442678-1c16-4842-f407-bedbdbb3c36d"
      },
      "execution_count": null,
      "outputs": [
        {
          "output_type": "stream",
          "name": "stdout",
          "text": [
            "Enter the value:3.33 3.33\n",
            "Area of circle: 34.82 \n",
            "Area of square: 11.09\n"
          ]
        }
      ]
    },
    {
      "cell_type": "code",
      "source": [
        "'''\n",
        "Q2. Write a program that reads names of two python files and strips the extension. The filenames are then concatenated to form a single string. The program then\n",
        "prints 'True' if the newly generated string is palindrome, or prints 'False' otherwise.\n",
        "\n",
        "Input: malay.py aLam.py\n",
        "\n",
        "malay alam\n",
        "\n",
        "malayalam\n",
        "\n",
        "malayalam\n",
        "\n",
        "Output: True\n",
        "'''\n",
        "\n",
        "a,b = input(\"Enter the file names :\").split()\n",
        "a = a.rstrip('.py')\n",
        "b = b.rstrip('.py')\n",
        "c = a+b\n",
        "d = c[::-1]\n",
        "if c==d:\n",
        "  print('True')\n",
        "else:\n",
        "  print('False')"
      ],
      "metadata": {
        "colab": {
          "base_uri": "https://localhost:8080/"
        },
        "id": "mfG1GP8BwkDx",
        "outputId": "15b18799-1238-4255-ede7-c078d866d233"
      },
      "execution_count": null,
      "outputs": [
        {
          "output_type": "stream",
          "name": "stdout",
          "text": [
            "Enter the file names :malay.py alam.py\n",
            "True\n"
          ]
        }
      ]
    },
    {
      "cell_type": "code",
      "source": [
        "'''\n",
        "Q3. Write a program that reads full name as a input and returns abbreviations of the first and middle names except the last name.\n",
        "Note that the abbreviations must be in capitals. Also, only the first letter in the Surname must be in higher case.\n",
        "\n",
        "Eg.\n",
        "Input: Sachin Ramesh Tendulkar\n",
        "\n",
        "Output: S. R. Tendulkar\n",
        "'''\n",
        "\n",
        "a,b,c = input('Enter the full name (First, Middle, Last Name ) :').split()\n",
        "x = a[0].capitalize()\n",
        "y = b[0].capitalize()\n",
        "z = c.title()\n",
        "print(x,'. ',y,'. ',z)\n",
        "\n"
      ],
      "metadata": {
        "colab": {
          "base_uri": "https://localhost:8080/"
        },
        "id": "hnxgkM1xz32l",
        "outputId": "2458c56b-5be4-422a-eba0-591abec28731"
      },
      "execution_count": null,
      "outputs": [
        {
          "output_type": "stream",
          "name": "stdout",
          "text": [
            "Enter the full name (First, Middle, Last Name ) :sachin ramesh tendulkar\n",
            "S .  R .  Tendulkar\n"
          ]
        }
      ]
    },
    {
      "cell_type": "code",
      "source": [
        "'''\n",
        "Q4. A course instructor wants to compute overall GPA of a student based on his\n",
        "performance in the whole semester. Maximum GPA is 10. To evaluate a student, the instructor follows the policy as shown below:\n",
        "\n",
        "Exam    Maximum Marks   Weightage\n",
        "\n",
        "Quiz 1    20               5%\n",
        "Mid Sem   50               20%\n",
        "Quiz 2    20               5%\n",
        "End Sem   100              30%\n",
        "Lab Work  100              20%\n",
        "Project   50               20%\n",
        "\n",
        "Write a program that reads marks got by a student in all 6 exams and based on the policy shown above computes the GPA.\n",
        "Note: Limit the float value till two decimal points.\n",
        "\n",
        "Input:\n",
        "20 40 18 80 90 45\n",
        "\n",
        "Output:\n",
        "8.55\n",
        "'''\n",
        "\n",
        "a = float(input('Enter the marks in Quiz 1: (MM: 20) '))\n",
        "a = (a/20)*100\n",
        "b = float(input('Enter the marks in Mid Sem: (MM: 50) '))\n",
        "b = (b/50)*100\n",
        "c = float(input('Enter the marks in Quiz 2: (MM: 20) '))\n",
        "c = (c/20)*100\n",
        "d = float(input('Enter the marks in End Sem: (MM: 100) '))\n",
        "e = float(input('Enter the marks in Lab Work: (MM: 100) '))\n",
        "f = float(input('Enter the marks in Project: (MM: 50) '))\n",
        "f = (f/50)*100\n",
        "\n",
        "a = (a*5)/100\n",
        "b = (b*20)/100\n",
        "c = (c*5)/100\n",
        "d = (d*30)/100\n",
        "e = (e*20)/100\n",
        "f = (f*20)/100\n",
        "\n",
        "gpa = (a+b+c+d+e+f)/10\n",
        "\n",
        "print('GPA = %.2f' %gpa)"
      ],
      "metadata": {
        "colab": {
          "base_uri": "https://localhost:8080/"
        },
        "id": "yu6PqdJK2ynW",
        "outputId": "4f787c14-1a1c-4c42-e5f2-7d7a5fbac4d9"
      },
      "execution_count": null,
      "outputs": [
        {
          "output_type": "stream",
          "name": "stdout",
          "text": [
            "Enter the marks in Quiz 1: (MM: 20) 20\n",
            "Enter the marks in Mid Sem: (MM: 50) 40\n",
            "Enter the marks in Quiz 2: (MM: 20) 18\n",
            "Enter the marks in End Sem: (MM: 100) 80\n",
            "Enter the marks in Lab Work: (MM: 100) 90\n",
            "Enter the marks in Project: (MM: 50) 45\n",
            "GPA = 8.55\n"
          ]
        }
      ]
    },
    {
      "cell_type": "markdown",
      "source": [
        "## Today's Challenge"
      ],
      "metadata": {
        "id": "H9nBNSNa9zqX"
      }
    },
    {
      "cell_type": "code",
      "source": [
        "'''\n",
        "Write a program that first reads a piece of text entered by a user, and then reads a key. The program should display a frequency with which the key has occurred in the piece of text.\n",
        "\n",
        "Input:\n",
        "Can you write a whole paragraph without letter a? I wouldn't recommend it. Honestly, your sentences will sound wrong. Not just you but everyone else too will notice you are doing something weird. You will use uncommon words. It's not worth the effort involved.\n",
        "\n",
        "you\n",
        "\n",
        "Output:\n",
        "The you count is: 1\n",
        "'''\n",
        "\n",
        "a = input('Enter the text : ')\n",
        "b = input('Enter the key : ')\n",
        "\n",
        "c = a.count(b)\n",
        "\n",
        "print('The', b ,'count is : ',c)\n"
      ],
      "metadata": {
        "colab": {
          "base_uri": "https://localhost:8080/"
        },
        "id": "qVES-NYo93jG",
        "outputId": "dcfce3c8-0d7f-436a-d924-e3579a44b1e9"
      },
      "execution_count": null,
      "outputs": [
        {
          "output_type": "stream",
          "name": "stdout",
          "text": [
            "Enter the text : Can you write a whole paragraph without letter a? I wouldn't recommend it. Honestly, your sentences will sound wrong. Not just you but everyone else too will notice you are doing something weird. You will use uncommon words. It's not worth the effort involved.\n",
            "Enter the key : you\n",
            "The you count is :  4\n"
          ]
        }
      ]
    },
    {
      "cell_type": "markdown",
      "source": [
        "## Questions from the course description"
      ],
      "metadata": {
        "id": "ZW3vpwFQEeHf"
      }
    },
    {
      "cell_type": "code",
      "source": [
        "#Question 5 - Part 01\n",
        "'''Write a Python program to get the difference between a given number and 17,\n",
        "if the number is greater than 17 return double the absolute difference.'''\n",
        "\n",
        "a = int(input('Enter a number : '))\n",
        "if a <=17 :\n",
        "  print('The difference between the given number and 17 :', 17-a)\n",
        "else :\n",
        "  print('Since the number is greater than 17, the double of the absolute diffrence:', 2*(a-17))\n"
      ],
      "metadata": {
        "colab": {
          "base_uri": "https://localhost:8080/"
        },
        "id": "ESv14j6REmeB",
        "outputId": "de5e491f-f2a8-4ee0-cf92-ff6474a508db"
      },
      "execution_count": null,
      "outputs": [
        {
          "output_type": "stream",
          "name": "stdout",
          "text": [
            "Enter a number : 34\n",
            "Since the number is greater than 17, the double of the absolute diffrence: 34\n"
          ]
        }
      ]
    },
    {
      "cell_type": "code",
      "source": [
        "#Question 5 - Part 02\n",
        "'''Write a Python program to test whether a number is within 100 of 1000 or 2000'''\n",
        "\n",
        "a = int(input('Enter a number : '))\n",
        "if a>=900 and a<=1100 :\n",
        "  print('The number is within 100 of 1000.')\n",
        "elif a>=1900 and a<=2100 :\n",
        "  print('The number is within 100 of 2000.')\n",
        "else :\n",
        "  print('Not in range')"
      ],
      "metadata": {
        "colab": {
          "base_uri": "https://localhost:8080/"
        },
        "id": "QjBj5Q_xGdij",
        "outputId": "92df7a68-f284-4add-e241-b0868e8c23b8"
      },
      "execution_count": null,
      "outputs": [
        {
          "output_type": "stream",
          "name": "stdout",
          "text": [
            "Enter a number : 1936\n",
            "The number is within 100 of 2000.\n"
          ]
        }
      ]
    },
    {
      "cell_type": "code",
      "source": [
        "#Question 5 - Part 03\n",
        "'''Write a Python program to check whether a specified value is contained in a group of values'''\n",
        "\n",
        "a = int(input('Enter a number : '))\n",
        "test_data = [1, 5, 8, 3]\n",
        "if a in test_data:\n",
        "  print('True')\n",
        "else :\n",
        "  print('False')"
      ],
      "metadata": {
        "colab": {
          "base_uri": "https://localhost:8080/"
        },
        "id": "6sduU7InHTQS",
        "outputId": "8b30ad1b-1b82-4aae-9f57-4f5d3726cd48"
      },
      "execution_count": null,
      "outputs": [
        {
          "output_type": "stream",
          "name": "stdout",
          "text": [
            "Enter a number : -3\n",
            "False\n"
          ]
        }
      ]
    },
    {
      "cell_type": "code",
      "source": [
        "#Question 6\n",
        "\n",
        "'''Write a Python program to print all even numbers from a given numbers list in the\n",
        "same order and stop the printing if any numbers that come after 237 in the sequence.'''\n",
        "\n",
        "numbers = [386, 462, 47, 418, 907, 344, 236, 375, 823, 566, 597, 978, 328, 615, 953, 345, 399, 162, 758, 219, 918, 237, 412, 566, 826, 248, 866, 950, 626, 949, 687, 217, 815, 67, 104, 58, 512, 24, 892, 894, 767, 553, 81, 379, 843, 831, 445, 742, 717, 958,743, 527]\n",
        "for i in numbers:\n",
        "  if i == 237:\n",
        "    break;\n",
        "  elif i%2 == 0:\n",
        "    print(i)\n",
        "\n",
        "#TO-DO: USE A FILE AS AN INPUT"
      ],
      "metadata": {
        "colab": {
          "base_uri": "https://localhost:8080/"
        },
        "id": "rigy4hYsH7MQ",
        "outputId": "39ccbe9a-5d7a-45ff-e7bd-6610f569dfe1"
      },
      "execution_count": null,
      "outputs": [
        {
          "output_type": "stream",
          "name": "stdout",
          "text": [
            "386\n",
            "462\n",
            "418\n",
            "344\n",
            "236\n",
            "566\n",
            "978\n",
            "328\n",
            "162\n",
            "758\n",
            "918\n"
          ]
        }
      ]
    },
    {
      "cell_type": "code",
      "source": [
        "#Question 7\n",
        "'''Write a Python program that accepts a single integer value entered by the user. If the\n",
        "value entered is less than one, the program prints nothing. If the user enters a\n",
        "positive integer, n, the program prints an n×n box drawn with * characters.'''\n",
        "\n",
        "a = int(input('Enter a number : '))\n",
        "i = 0\n",
        "if a < 1 :\n",
        "  printf('Unable')\n",
        "else :\n",
        "  for i in range(a) :\n",
        "    for j in range(a):\n",
        "      print('*', end = ' ')\n",
        "      j = j+1\n",
        "    print('')\n",
        "    i = i+1\n"
      ],
      "metadata": {
        "colab": {
          "base_uri": "https://localhost:8080/"
        },
        "id": "_kaYVBWwI8OA",
        "outputId": "2b65d19c-3fee-4e1f-98b8-144dbdd15e8d"
      },
      "execution_count": null,
      "outputs": [
        {
          "output_type": "stream",
          "name": "stdout",
          "text": [
            "Enter a number : 6\n",
            "* * * * * * \n",
            "* * * * * * \n",
            "* * * * * * \n",
            "* * * * * * \n",
            "* * * * * * \n",
            "* * * * * * \n"
          ]
        }
      ]
    },
    {
      "cell_type": "code",
      "source": [
        "#Question 8 - Part 01\n",
        "'''Write a Python program to sum of two given integers. However, if the sum is\n",
        "between 15 to 20 it will return 20'''\n",
        "\n",
        "a = int(input('Enter the first integer : '))\n",
        "b = int(input('Enter the second integer : '))\n",
        "\n",
        "sum = a+b\n",
        "\n",
        "if sum >=15 and sum <=20:\n",
        "  print('The sum is : 20')\n",
        "else :\n",
        "  print('The sum is :', sum)\n"
      ],
      "metadata": {
        "colab": {
          "base_uri": "https://localhost:8080/"
        },
        "id": "ikqGLNdaLKng",
        "outputId": "80458537-556c-47ab-bb99-bd24927196f4"
      },
      "execution_count": null,
      "outputs": [
        {
          "output_type": "stream",
          "name": "stdout",
          "text": [
            "Enter the first integer : 10\n",
            "Enter the second integer : 8\n",
            "The sum is : 20\n"
          ]
        }
      ]
    },
    {
      "cell_type": "code",
      "source": [
        "#Question 8 - Part 02\n",
        "'''Write a Python program to compute the future\n",
        "value of a specified principal amount, rate of interest, and a number of years.'''\n",
        "import math\n",
        "p = float(input('Enter the principal amount : '))\n",
        "r = float(input('Enter the rate of interest : '))\n",
        "t = float(input('Enter the number of years : '))\n",
        "amt = p*(pow((1+(r/100)), t))\n",
        "\n",
        "print('The amount after', t, 'years is : %.2f' %amt)"
      ],
      "metadata": {
        "colab": {
          "base_uri": "https://localhost:8080/"
        },
        "id": "AWtYoDQ6MNjY",
        "outputId": "3c94d0ea-5550-4404-a039-cf63bede5792"
      },
      "execution_count": null,
      "outputs": [
        {
          "output_type": "stream",
          "name": "stdout",
          "text": [
            "Enter the principal amount : 10000\n",
            "Enter the rate of interest : 3.5\n",
            "Enter the number of years : 7\n",
            "The amount after 7.0 years is : 12722.79\n"
          ]
        }
      ]
    },
    {
      "cell_type": "markdown",
      "source": [
        "# **LAB 6 - 29/08/2022**"
      ],
      "metadata": {
        "id": "57KqH6qzy1-b"
      }
    },
    {
      "cell_type": "markdown",
      "source": [
        "## Collab Sheet 6\n"
      ],
      "metadata": {
        "id": "GqkNiwuCzJTA"
      }
    },
    {
      "cell_type": "markdown",
      "source": [
        "### Relational and logical operators"
      ],
      "metadata": {
        "id": "d6ikpCO5YuqR"
      }
    },
    {
      "cell_type": "code",
      "source": [
        "# relational operators\n",
        "\n",
        "print('3 > 2 is', 3 > 2)\n",
        "print('3 > 3 is', 3 > 3)\n",
        "print(\"Is 'Z' > 'a'? '\", 'Z' > 'a')\n",
        "print('2==3 is', 2 == 3)\n",
        "print('Is car < carpet?', 'car' <= 'carpet')\n",
        "print('Is CAR == car? ', 'CAR' == 'car')\n",
        "print('Is car > do?', 'car' > 'do')\n",
        "print('What is 5 != 10?', 5 != 10)\n",
        "# Avoid mixing the Ints and Floats for comparison.\n",
        "# It may give unexpected result due to approximation of Floats.\n",
        "# In this case it works, but may not work for some other numbers.\n",
        "print('Comparing float and int: 1.0 == 1 is {}. Try to avoid.'.format(1.0 == 1))"
      ],
      "metadata": {
        "colab": {
          "base_uri": "https://localhost:8080/"
        },
        "id": "JAuqfwvKAXHt",
        "outputId": "f320c1b1-80ce-4245-ed81-d24a3f692a8a"
      },
      "execution_count": null,
      "outputs": [
        {
          "output_type": "stream",
          "name": "stdout",
          "text": [
            "3 > 2 is True\n",
            "3 > 3 is False\n",
            "Is 'Z' > 'a'? ' False\n",
            "2==3 is False\n",
            "Is car < carpet? True\n",
            "Is CAR == car?  False\n",
            "Is car > do? False\n",
            "What is 5 != 10? True\n",
            "Comparing float and int: 1.0 == 1 is True. Try to avoid.\n"
          ]
        }
      ]
    },
    {
      "cell_type": "code",
      "source": [
        "# Logical Operators\n",
        "print(True and (not True))\n",
        "print(not True)\n",
        "print(False or True)\n",
        "x = not True\n",
        "y = not False\n",
        "print ( (not x) and not (not (x or y)))"
      ],
      "metadata": {
        "colab": {
          "base_uri": "https://localhost:8080/"
        },
        "id": "3G5GBqUzA4nS",
        "outputId": "ec2bfd0b-67e3-4cf4-d283-df53358446a8"
      },
      "execution_count": null,
      "outputs": [
        {
          "output_type": "stream",
          "name": "stdout",
          "text": [
            "False\n",
            "False\n",
            "True\n",
            "True\n"
          ]
        }
      ]
    },
    {
      "cell_type": "code",
      "source": [
        "print(1 and 0)\n",
        "print(1 or 0)\n",
        "print(0 or 2)\n",
        "print(not 1)\n",
        "print(not 0)"
      ],
      "metadata": {
        "colab": {
          "base_uri": "https://localhost:8080/"
        },
        "id": "DLK13d5oA6eR",
        "outputId": "7d99d613-4fa4-429c-9c14-9e21f3e61458"
      },
      "execution_count": null,
      "outputs": [
        {
          "output_type": "stream",
          "name": "stdout",
          "text": [
            "0\n",
            "1\n",
            "2\n",
            "False\n",
            "True\n"
          ]
        }
      ]
    },
    {
      "cell_type": "code",
      "source": [
        "print (\"Hello\" and \"Goodbye\")\n",
        "print (\"Hello\" or \"Goodbye\")\n",
        "print (not \"Hello\")\n",
        "print (\"\" or \"Hello\")\n",
        "print (\"The result is:\", \"\" and \"Hello\")\n",
        "\n",
        "\n",
        "'''\n",
        "\"Hello\" and \"Goodbye\" - 1st check \"Hello\", i have to evaluate \"Goodbye\" :\n",
        "and operator gives the last value it evaluated\n",
        "'''\n",
        "print (\"Hello\" or \"Goodbye\" and \"Mr Amey\" and \"Nothing\")"
      ],
      "metadata": {
        "colab": {
          "base_uri": "https://localhost:8080/"
        },
        "id": "tp3pe0i1A8kD",
        "outputId": "e563a370-338a-453f-d48a-86daf172c990"
      },
      "execution_count": null,
      "outputs": [
        {
          "output_type": "stream",
          "name": "stdout",
          "text": [
            "Goodbye\n",
            "Hello\n",
            "False\n",
            "Hello\n",
            "The result is: \n",
            "Hello\n"
          ]
        }
      ]
    },
    {
      "cell_type": "markdown",
      "source": [
        "### Conditional Statements"
      ],
      "metadata": {
        "id": "pNS4RG01BGu7"
      }
    },
    {
      "cell_type": "code",
      "source": [
        "# if else\n",
        "\n",
        "x = 6\n",
        "y = 10\n",
        "\n",
        "if x < y:\n",
        "  print(x)\n",
        "else:\n",
        "  print(y)\n",
        "print('is the minimum!')"
      ],
      "metadata": {
        "colab": {
          "base_uri": "https://localhost:8080/"
        },
        "id": "0FWtDqozBK8C",
        "outputId": "67af6768-9c6e-48ff-a6e5-27348539795a"
      },
      "execution_count": null,
      "outputs": [
        {
          "output_type": "stream",
          "name": "stdout",
          "text": [
            "6\n",
            "is the minimum!\n"
          ]
        }
      ]
    },
    {
      "cell_type": "code",
      "source": [
        "# when you have not followed proper indentation..\n",
        "\n",
        "# if else\n",
        "\n",
        "x = 30\n",
        "y = 20\n",
        "\n",
        "if x < y:\n",
        "  print(x)\n",
        "else:\n",
        "  print(y)\n",
        "  print('is the minimum!')"
      ],
      "metadata": {
        "colab": {
          "base_uri": "https://localhost:8080/"
        },
        "id": "kW8dP6uCBRne",
        "outputId": "0fe50f52-7373-4d16-a61c-50c745fe5787"
      },
      "execution_count": null,
      "outputs": [
        {
          "output_type": "stream",
          "name": "stdout",
          "text": [
            "20\n",
            "is the minimum!\n"
          ]
        }
      ]
    },
    {
      "cell_type": "code",
      "source": [
        "'''\n",
        "Find minimum of three numbers.\n",
        "'''\n",
        "\n",
        "a, b, c = 100, 210, 30\n",
        "\n",
        "if a <= b:\n",
        "  if a <= c:\n",
        "    print('min =', a)\n",
        "  else:\n",
        "    print('min =', c)\n",
        "else:\n",
        "  if b <= c:\n",
        "    print('min =', b)\n",
        "  else:\n",
        "    print('min =', c)"
      ],
      "metadata": {
        "colab": {
          "base_uri": "https://localhost:8080/"
        },
        "id": "lbINpmqXBULd",
        "outputId": "6cab564d-c050-4c0a-b514-1740638ed473"
      },
      "execution_count": null,
      "outputs": [
        {
          "output_type": "stream",
          "name": "stdout",
          "text": [
            "min = 30\n"
          ]
        }
      ]
    },
    {
      "cell_type": "code",
      "source": [
        "# if without else\n",
        "\n",
        "ticket_price = 100\n",
        "age = int(input(\"Your age? \"))\n",
        "\n",
        "if age <= 15:\n",
        "  ticket_price = ticket_price // 2\n",
        "\n",
        "print('Ticket Price is: {}'.format(ticket_price))"
      ],
      "metadata": {
        "colab": {
          "base_uri": "https://localhost:8080/"
        },
        "id": "98qs-i9OBWDU",
        "outputId": "3b5c3fca-7d40-4acc-b525-2e61d2201b15"
      },
      "execution_count": null,
      "outputs": [
        {
          "output_type": "stream",
          "name": "stdout",
          "text": [
            "Your age? 50\n",
            "Ticket Price is: 100\n"
          ]
        }
      ]
    },
    {
      "cell_type": "markdown",
      "source": [
        "### Nested If"
      ],
      "metadata": {
        "id": "F5Hj9VYgBaNs"
      }
    },
    {
      "cell_type": "code",
      "source": [
        "# sorting three numbers\n",
        "\n",
        "a, b, c = 39, 40, 8\n",
        "\n",
        "if a <= b:\n",
        "  if a <=c:\n",
        "    if b <= c:\n",
        "      print(a, b, c)\n",
        "    else:\n",
        "      print(a, c, b)\n",
        "  else:\n",
        "    print(c, a, b)\n",
        "else:\n",
        "  if b <= c:\n",
        "    if a <= c:\n",
        "      print(b, a, c)\n",
        "    else:\n",
        "      print(b, c, a)\n",
        "  else:\n",
        "    print(c, b, a)"
      ],
      "metadata": {
        "colab": {
          "base_uri": "https://localhost:8080/"
        },
        "id": "7qcmf60lBdv0",
        "outputId": "e83add4f-7654-40f6-b4be-06bd050bd1ac"
      },
      "execution_count": null,
      "outputs": [
        {
          "output_type": "stream",
          "name": "stdout",
          "text": [
            "8 39 40\n"
          ]
        }
      ]
    },
    {
      "cell_type": "code",
      "source": [
        "# min of three numbers..again..using elif\n",
        "a, b, c = 4, 6, 2\n",
        "\n",
        "if a <= b and a <= c:\n",
        "  print('min =', a)\n",
        "elif b <= a and b <= c:\n",
        "  print('min =', b)\n",
        "else:\n",
        "  print('min =', c)"
      ],
      "metadata": {
        "colab": {
          "base_uri": "https://localhost:8080/"
        },
        "id": "SUDPqisbBhnh",
        "outputId": "1aa8bce9-bbae-48bd-fd05-da6ba5a6ede2"
      },
      "execution_count": null,
      "outputs": [
        {
          "output_type": "stream",
          "name": "stdout",
          "text": [
            "min = 2\n"
          ]
        }
      ]
    },
    {
      "cell_type": "markdown",
      "source": [
        "### Shortcircuit evaluation"
      ],
      "metadata": {
        "id": "VNw9e_LnBnOf"
      }
    },
    {
      "cell_type": "code",
      "source": [
        "#shortcircuiting\n",
        "\n",
        "print((10 < 2) and (3/0 != 0))\n",
        "print((10 > 2) or (3/0 != 0))"
      ],
      "metadata": {
        "colab": {
          "base_uri": "https://localhost:8080/"
        },
        "id": "tH9Yg0nOBre5",
        "outputId": "1ca60218-56fe-4523-b9c1-7319b24f864d"
      },
      "execution_count": null,
      "outputs": [
        {
          "output_type": "stream",
          "name": "stdout",
          "text": [
            "False\n",
            "True\n"
          ]
        }
      ]
    },
    {
      "cell_type": "markdown",
      "source": [
        "### Float Values"
      ],
      "metadata": {
        "id": "uiqAtUjEBuFK"
      }
    },
    {
      "cell_type": "code",
      "source": [
        "# caution about working with float\n",
        "\n",
        "y = 0.1 * 3 # y = 0.300000004\n",
        "if y != 0.3: # True\n",
        "  print('Launch the missile!')\n",
        "else:\n",
        "  print('Lets have peace..')"
      ],
      "metadata": {
        "colab": {
          "base_uri": "https://localhost:8080/"
        },
        "id": "GJCG77KxB9SE",
        "outputId": "41a5091b-88a7-4d59-f30b-57ddaae54e59"
      },
      "execution_count": null,
      "outputs": [
        {
          "output_type": "stream",
          "name": "stdout",
          "text": [
            "Launch the missile!\n"
          ]
        }
      ]
    },
    {
      "cell_type": "code",
      "source": [
        "from decimal import Decimal\n",
        "print(0.1)\n",
        "print(0.3)\n",
        "print(0.1*3)\n",
        "input('Press Enter When ready')\n",
        "print(Decimal(0.1))\n",
        "print(Decimal(0.1*3))\n",
        "print(Decimal(0.3))\n",
        "print(Decimal(0.1*3 - 0.3))"
      ],
      "metadata": {
        "colab": {
          "base_uri": "https://localhost:8080/"
        },
        "id": "_HIZZcLMCAUS",
        "outputId": "2a1ec235-118b-4ae0-ae94-9b9ed2670be9"
      },
      "execution_count": null,
      "outputs": [
        {
          "output_type": "stream",
          "name": "stdout",
          "text": [
            "0.1\n",
            "0.3\n",
            "0.30000000000000004\n",
            "Press Enter When ready\n",
            "0.1000000000000000055511151231257827021181583404541015625\n",
            "0.3000000000000000444089209850062616169452667236328125\n",
            "0.299999999999999988897769753748434595763683319091796875\n",
            "5.5511151231257827021181583404541015625E-17\n"
          ]
        }
      ]
    },
    {
      "cell_type": "code",
      "source": [
        "y = 0.1 * 3 # 0.3000000000000000444089209850062616169452667236328125\n",
        "# 0.3000000000000000444089209850062616169452667236328125\n",
        "# 0.299999999999999988897769753748434595763683319091796875\n",
        "epsilon = 0.0000001\n",
        "\n",
        "if abs(y - 0.3) > epsilon:\n",
        "  print('Launch the missile!')\n",
        "else:\n",
        "  print('Lets have peace..')"
      ],
      "metadata": {
        "colab": {
          "base_uri": "https://localhost:8080/"
        },
        "id": "uR55X5uTCDBf",
        "outputId": "acc07e3b-4341-4f78-d7dd-3e755e20eba5"
      },
      "execution_count": null,
      "outputs": [
        {
          "output_type": "stream",
          "name": "stdout",
          "text": [
            "Lets have peace..\n"
          ]
        }
      ]
    },
    {
      "cell_type": "code",
      "source": [
        "print('What is 5 != 10?', 5 != 10)\n",
        "print(5 != 10)\n",
        "print (not (5 == 10))\n",
        "#  !=  is not equal to operator"
      ],
      "metadata": {
        "colab": {
          "base_uri": "https://localhost:8080/"
        },
        "id": "dUQigPxBCHC0",
        "outputId": "ef0ceed6-f13d-4d71-bdc5-e4e434a0ed34"
      },
      "execution_count": null,
      "outputs": [
        {
          "output_type": "stream",
          "name": "stdout",
          "text": [
            "What is 5 != 10? True\n",
            "True\n",
            "True\n"
          ]
        }
      ]
    },
    {
      "cell_type": "markdown",
      "source": [
        "## Collab Sheet 7\n"
      ],
      "metadata": {
        "id": "ZIy1pCFozT8k"
      }
    },
    {
      "cell_type": "markdown",
      "source": [
        "### while Loop"
      ],
      "metadata": {
        "id": "62h1U3M6CT0H"
      }
    },
    {
      "cell_type": "code",
      "source": [
        "# read value entered by a user using input() method\n",
        "\n",
        "n = input()"
      ],
      "metadata": {
        "colab": {
          "base_uri": "https://localhost:8080/"
        },
        "id": "c1xzflGjCXJg",
        "outputId": "6fd1da42-3700-4649-f56f-bb93343691ab"
      },
      "execution_count": null,
      "outputs": [
        {
          "name": "stdout",
          "output_type": "stream",
          "text": [
            "8\n"
          ]
        }
      ]
    },
    {
      "cell_type": "code",
      "source": [
        "# input method returns a string object\n",
        "print(type(n))"
      ],
      "metadata": {
        "colab": {
          "base_uri": "https://localhost:8080/"
        },
        "id": "F5uVJ4hQCbzs",
        "outputId": "f64b14a2-3d36-429d-d4fe-ed2a5588a63b"
      },
      "execution_count": null,
      "outputs": [
        {
          "output_type": "stream",
          "name": "stdout",
          "text": [
            "<class 'str'>\n"
          ]
        }
      ]
    },
    {
      "cell_type": "code",
      "source": [
        "# convert it into int by using int() converter\n",
        "n = int(n)\n",
        "print(type(n))"
      ],
      "metadata": {
        "colab": {
          "base_uri": "https://localhost:8080/"
        },
        "id": "D45f0odgCex2",
        "outputId": "6d3533e1-1085-42df-823d-8196828b915a"
      },
      "execution_count": null,
      "outputs": [
        {
          "output_type": "stream",
          "name": "stdout",
          "text": [
            "<class 'int'>\n"
          ]
        }
      ]
    },
    {
      "cell_type": "code",
      "source": [
        "#we can put them together..\n",
        "\n",
        "n = int(input())"
      ],
      "metadata": {
        "colab": {
          "base_uri": "https://localhost:8080/"
        },
        "id": "RWe2BwU_Coj4",
        "outputId": "c42ba96a-5f83-497c-ac2b-f2706fb09b7b"
      },
      "execution_count": null,
      "outputs": [
        {
          "name": "stdout",
          "output_type": "stream",
          "text": [
            "8\n"
          ]
        }
      ]
    },
    {
      "cell_type": "code",
      "source": [
        "# while loop\n",
        "\n",
        "#printing multiplication table\n",
        "\n",
        "i = 1\n",
        "\n",
        "while i <= 10:\n",
        "  print(n, ' X ', i, ' = ', n * i)\n",
        "  i = i + 1\n",
        "\n",
        "print('Done!')"
      ],
      "metadata": {
        "colab": {
          "base_uri": "https://localhost:8080/"
        },
        "id": "27k1NO1wCv2R",
        "outputId": "2cb5aea0-6fee-4532-faac-e17de96e6db2"
      },
      "execution_count": null,
      "outputs": [
        {
          "output_type": "stream",
          "name": "stdout",
          "text": [
            "8  X  1  =  8\n",
            "8  X  2  =  16\n",
            "8  X  3  =  24\n",
            "8  X  4  =  32\n",
            "8  X  5  =  40\n",
            "8  X  6  =  48\n",
            "8  X  7  =  56\n",
            "8  X  8  =  64\n",
            "8  X  9  =  72\n",
            "8  X  10  =  80\n",
            "Done!\n"
          ]
        }
      ]
    },
    {
      "cell_type": "code",
      "source": [
        "# read numbers from the user until user enters -1 and find the maximum\n",
        "n = int(input())\n",
        "max = n\n",
        "while n != -1:\n",
        "  n = int(input())\n",
        "  if max < n:\n",
        "    max = n\n",
        "print('Maxmimum =', max)"
      ],
      "metadata": {
        "colab": {
          "base_uri": "https://localhost:8080/"
        },
        "id": "PfoV4DsjC2Se",
        "outputId": "9e8d2a65-9588-4cf6-b90b-7b05ecc2b58c"
      },
      "execution_count": null,
      "outputs": [
        {
          "output_type": "stream",
          "name": "stdout",
          "text": [
            "90\n",
            "80\n",
            "115\n",
            "-1\n",
            "Maxmimum = 115\n"
          ]
        }
      ]
    },
    {
      "cell_type": "markdown",
      "source": [
        "### for Loop"
      ],
      "metadata": {
        "id": "Flb6BaAXDEUD"
      }
    },
    {
      "cell_type": "code",
      "source": [
        "#x = range(3, 10)\n",
        "for n in range(3, 10):\n",
        "  print(n)"
      ],
      "metadata": {
        "colab": {
          "base_uri": "https://localhost:8080/"
        },
        "id": "Ucf_P3cTDIuw",
        "outputId": "5fd95089-5750-4e93-f296-e0977c01213d"
      },
      "execution_count": null,
      "outputs": [
        {
          "output_type": "stream",
          "name": "stdout",
          "text": [
            "3\n",
            "4\n",
            "5\n",
            "6\n",
            "7\n",
            "8\n",
            "9\n"
          ]
        }
      ]
    },
    {
      "cell_type": "code",
      "source": [
        "x = range(3, 20, 2)\n",
        "for n in x:\n",
        "  print(n)"
      ],
      "metadata": {
        "colab": {
          "base_uri": "https://localhost:8080/"
        },
        "id": "eoQs7gXaDQGs",
        "outputId": "7814b017-589d-4fd2-bb6a-a960e83c1f3f"
      },
      "execution_count": null,
      "outputs": [
        {
          "output_type": "stream",
          "name": "stdout",
          "text": [
            "3\n",
            "5\n",
            "7\n",
            "9\n",
            "11\n",
            "13\n",
            "15\n",
            "17\n",
            "19\n"
          ]
        }
      ]
    },
    {
      "cell_type": "code",
      "source": [
        "# print the sum of resiprocals of first 100 natural nuumbers\n",
        "\n",
        "rsum = 0.0 # reciprocal sum\n",
        "\n",
        "# for loop\n",
        "for i in range(1, 101):\n",
        "  rsum = rsum + 1.0 / i\n",
        "\n",
        "print('The sum is', rsum)"
      ],
      "metadata": {
        "colab": {
          "base_uri": "https://localhost:8080/"
        },
        "id": "4hjCuv-nDSIz",
        "outputId": "a17ee6c3-1077-4860-ef9f-bd57461426f8"
      },
      "execution_count": null,
      "outputs": [
        {
          "output_type": "stream",
          "name": "stdout",
          "text": [
            "The sum is 5.187377517639621\n"
          ]
        }
      ]
    },
    {
      "cell_type": "markdown",
      "source": [
        "### Nested Loops"
      ],
      "metadata": {
        "id": "pJhArok7DT13"
      }
    },
    {
      "cell_type": "code",
      "source": [
        "# display a table of first 5 natural numbers\n",
        "\n",
        "for i in range(1, 11):\n",
        "  for j in range(1, 6):\n",
        "    print(i * j, end=' ') # note 'end' argument\n",
        "  print('\\n')"
      ],
      "metadata": {
        "colab": {
          "base_uri": "https://localhost:8080/"
        },
        "id": "JQa-LN9KDXMD",
        "outputId": "18eabec5-a182-4467-f80b-48239143d6d6"
      },
      "execution_count": null,
      "outputs": [
        {
          "output_type": "stream",
          "name": "stdout",
          "text": [
            "1 2 3 4 5 \n",
            "\n",
            "2 4 6 8 10 \n",
            "\n",
            "3 6 9 12 15 \n",
            "\n",
            "4 8 12 16 20 \n",
            "\n",
            "5 10 15 20 25 \n",
            "\n",
            "6 12 18 24 30 \n",
            "\n",
            "7 14 21 28 35 \n",
            "\n",
            "8 16 24 32 40 \n",
            "\n",
            "9 18 27 36 45 \n",
            "\n",
            "10 20 30 40 50 \n",
            "\n"
          ]
        }
      ]
    },
    {
      "cell_type": "code",
      "source": [
        "# print the following pattern:\n",
        "# 1\n",
        "# 2 3\n",
        "# 3 4 5\n",
        "# 4 5 6 7\n",
        "# 5 6 7 8 9\n",
        "\n",
        "for i in range(1, 6):\n",
        "  for j in range(i, 2 * i):\n",
        "    print(j, end=' ')\n",
        "  print('\\n')"
      ],
      "metadata": {
        "colab": {
          "base_uri": "https://localhost:8080/"
        },
        "id": "CRR5dNjMDhKq",
        "outputId": "f13c1098-f66b-4c77-dc34-3c282a5f1ead"
      },
      "execution_count": null,
      "outputs": [
        {
          "output_type": "stream",
          "name": "stdout",
          "text": [
            "1 \n",
            "\n",
            "2 3 \n",
            "\n",
            "3 4 5 \n",
            "\n",
            "4 5 6 7 \n",
            "\n",
            "5 6 7 8 9 \n",
            "\n"
          ]
        }
      ]
    },
    {
      "cell_type": "code",
      "source": [
        "# Read 100 integer inputs from a user.\n",
        "# Print the sum of inputs until a negative input is found (Excluding the negative number)\n",
        "# or all 100 inputs are exhausted.\n",
        "\n",
        "sum = 0\n",
        "\n",
        "for i in range(100):\n",
        "\n",
        "  value = int(input())\n",
        "\n",
        "  if (value < 0):\n",
        "    # if the number is negative, exit from the loop\n",
        "    break\n",
        "\n",
        "  sum = sum + value\n",
        "\n",
        "print('sum =', sum)"
      ],
      "metadata": {
        "colab": {
          "base_uri": "https://localhost:8080/"
        },
        "id": "wMeU-VGwDkrb",
        "outputId": "6e450faf-5692-45cc-c6fe-17e82558a659"
      },
      "execution_count": null,
      "outputs": [
        {
          "output_type": "stream",
          "name": "stdout",
          "text": [
            "50\n",
            "42\n",
            "7\n",
            "9\n",
            "69\n",
            "-8\n",
            "sum = 177\n"
          ]
        }
      ]
    },
    {
      "cell_type": "code",
      "source": [
        "# Read 5 integer inputs from a user. Print the sum of only positive inputs.\n",
        "\n",
        "sum = 0\n",
        "\n",
        "for i in range(5):\n",
        "\n",
        "  value = int(input())\n",
        "\n",
        "  if (value < 0):\n",
        "    # if the number is negative, skip only this number\n",
        "    continue\n",
        "\n",
        "  sum = sum + value\n",
        "\n",
        "print('sum =', sum)"
      ],
      "metadata": {
        "colab": {
          "base_uri": "https://localhost:8080/"
        },
        "id": "9dL8caukDv0n",
        "outputId": "bd3e490c-789d-42b1-dd74-4c53348dc943"
      },
      "execution_count": null,
      "outputs": [
        {
          "output_type": "stream",
          "name": "stdout",
          "text": [
            "85\n",
            "69\n",
            "44\n",
            "-800\n",
            "55\n",
            "sum = 253\n"
          ]
        }
      ]
    },
    {
      "cell_type": "markdown",
      "source": [
        "## Collab Sheet 8\n"
      ],
      "metadata": {
        "id": "sX_Mp1qszpEW"
      }
    },
    {
      "cell_type": "markdown",
      "source": [
        "### Practice Problems"
      ],
      "metadata": {
        "id": "M_Fg8uxBAkZy"
      }
    },
    {
      "cell_type": "code",
      "source": [
        "'''\n",
        "Given an integer day , where 1≤𝑑𝑎𝑦≤7, print Weekday,\n",
        "if the day corresponds to weekday, print Weekend otherwise.\n",
        "1, 7: Weekend\n",
        "2,3,4,5,6: Weekday\n",
        "'''\n",
        "\n",
        "day = int(input('Enter the day number :'))\n",
        "\n",
        "if day == 1:\n",
        "  print('Weekend')\n",
        "elif day == 2:\n",
        "  print('Weekday')\n",
        "elif day == 3:\n",
        "  print('Weekday')\n",
        "elif day == 4:\n",
        "  print('Weekday')\n",
        "elif day == 5:\n",
        "  print('Weekday')\n",
        "elif day == 6:\n",
        "  print('Weekday')\n",
        "elif day == 7:\n",
        "  print('Weekend')\n",
        "else:\n",
        "  print('Illegal Day Entered')"
      ],
      "metadata": {
        "colab": {
          "base_uri": "https://localhost:8080/"
        },
        "id": "fcn35pnB9aFQ",
        "outputId": "ce52267f-c60e-4f8c-c341-b37975eee5f3"
      },
      "execution_count": null,
      "outputs": [
        {
          "output_type": "stream",
          "name": "stdout",
          "text": [
            "Enter the day number :5\n",
            "Weekday\n"
          ]
        }
      ]
    },
    {
      "cell_type": "code",
      "source": [
        "#doing it in a better way\n",
        "\n",
        "day = int(input('Enter the day number :'))\n",
        "\n",
        "if day == 1 or day == 7:\n",
        "  print('Weekend')\n",
        "elif day ==2 or day ==3 or day ==4 or day ==5 or day ==6:\n",
        "  print('Weekday')\n",
        "else:\n",
        "  print('Illegal Day Entered')"
      ],
      "metadata": {
        "colab": {
          "base_uri": "https://localhost:8080/"
        },
        "id": "KR9FxZ_U-D02",
        "outputId": "db0be2bd-dbe7-439e-f38b-9291f0354bf3"
      },
      "execution_count": null,
      "outputs": [
        {
          "output_type": "stream",
          "name": "stdout",
          "text": [
            "Enter the day number :5\n",
            "Weekday\n"
          ]
        }
      ]
    },
    {
      "cell_type": "code",
      "source": [
        "#doing it in an even better way\n",
        "\n",
        "day = int(input('Enter the day number :'))\n",
        "\n",
        "if day == 1 or day == 7:\n",
        "  print('Weekend')\n",
        "elif day >1 and day<7:\n",
        "  print('Weekday')\n",
        "else:\n",
        "  print(\"Illegal Day Entered\")"
      ],
      "metadata": {
        "colab": {
          "base_uri": "https://localhost:8080/"
        },
        "id": "kpBoegyH-cpW",
        "outputId": "7e3f703e-7a17-4e4a-913a-00558dcd697e"
      },
      "execution_count": null,
      "outputs": [
        {
          "output_type": "stream",
          "name": "stdout",
          "text": [
            "Enter the day number :5\n",
            "Weekday\n"
          ]
        }
      ]
    },
    {
      "cell_type": "code",
      "source": [
        "'''\n",
        "Given a positive integer n print all the integers less than or equal to n\n",
        "that are divisible by 3 or divisible by 5.\n",
        "Hint: Two conditions will be used:\n",
        "x <= n\n",
        "(x % 3 == 0) or (x % 5 == 0)\n",
        "'''\n",
        "\n",
        "inp = int(input('Enter a positive integer: '))\n",
        "for i in range(inp+1):\n",
        "  if(i%3 == 0) or (i%5 == 0):\n",
        "    print(i)"
      ],
      "metadata": {
        "colab": {
          "base_uri": "https://localhost:8080/"
        },
        "id": "kfVEsJrk_g7N",
        "outputId": "2717a28c-e4b1-4347-bf2c-f111c10b4ab6"
      },
      "execution_count": null,
      "outputs": [
        {
          "output_type": "stream",
          "name": "stdout",
          "text": [
            "Enter a positive integer: 30\n",
            "0\n",
            "3\n",
            "5\n",
            "6\n",
            "9\n",
            "10\n",
            "12\n",
            "15\n",
            "18\n",
            "20\n",
            "21\n",
            "24\n",
            "25\n",
            "27\n",
            "30\n"
          ]
        }
      ]
    },
    {
      "cell_type": "markdown",
      "source": [
        "### More on Range Function"
      ],
      "metadata": {
        "id": "GbgMIhRdAtMd"
      }
    },
    {
      "cell_type": "code",
      "source": [
        "range(5)"
      ],
      "metadata": {
        "colab": {
          "base_uri": "https://localhost:8080/"
        },
        "id": "XFhja-4EAz5q",
        "outputId": "1d663a34-ab7b-4bb9-d25f-ad2a330f79fc"
      },
      "execution_count": null,
      "outputs": [
        {
          "output_type": "execute_result",
          "data": {
            "text/plain": [
              "range(0, 5)"
            ]
          },
          "metadata": {},
          "execution_count": 47
        }
      ]
    },
    {
      "cell_type": "code",
      "source": [
        "type(range(5))"
      ],
      "metadata": {
        "colab": {
          "base_uri": "https://localhost:8080/"
        },
        "id": "5QWvodeTA2Qe",
        "outputId": "9b29c2ce-d1e6-4fb0-c31e-b0c06407ac00"
      },
      "execution_count": null,
      "outputs": [
        {
          "output_type": "execute_result",
          "data": {
            "text/plain": [
              "range"
            ]
          },
          "metadata": {},
          "execution_count": 48
        }
      ]
    },
    {
      "cell_type": "code",
      "source": [
        "list(range(5))"
      ],
      "metadata": {
        "colab": {
          "base_uri": "https://localhost:8080/"
        },
        "id": "XDN81qD6A4qN",
        "outputId": "546499f4-2e9e-48a8-de57-d9880a8d1461"
      },
      "execution_count": null,
      "outputs": [
        {
          "output_type": "execute_result",
          "data": {
            "text/plain": [
              "[0, 1, 2, 3, 4]"
            ]
          },
          "metadata": {},
          "execution_count": 49
        }
      ]
    },
    {
      "cell_type": "code",
      "source": [
        "list(range(0,5))"
      ],
      "metadata": {
        "colab": {
          "base_uri": "https://localhost:8080/"
        },
        "id": "xfoBFO3UA7Rk",
        "outputId": "dd184555-2ad4-4d8a-bbea-57e444237d44"
      },
      "execution_count": null,
      "outputs": [
        {
          "output_type": "execute_result",
          "data": {
            "text/plain": [
              "[0, 1, 2, 3, 4]"
            ]
          },
          "metadata": {},
          "execution_count": 50
        }
      ]
    },
    {
      "cell_type": "code",
      "source": [
        "list(range(5,10))"
      ],
      "metadata": {
        "colab": {
          "base_uri": "https://localhost:8080/"
        },
        "id": "FT4dkXFHA-97",
        "outputId": "76bde0c2-8050-44fb-8193-f669db706542"
      },
      "execution_count": null,
      "outputs": [
        {
          "output_type": "execute_result",
          "data": {
            "text/plain": [
              "[5, 6, 7, 8, 9]"
            ]
          },
          "metadata": {},
          "execution_count": 51
        }
      ]
    },
    {
      "cell_type": "code",
      "source": [
        "list(range(-10,5))"
      ],
      "metadata": {
        "colab": {
          "base_uri": "https://localhost:8080/"
        },
        "id": "uJx_YuZTBCl9",
        "outputId": "8494265d-5871-4aa9-fba7-8e0c10e56a02"
      },
      "execution_count": null,
      "outputs": [
        {
          "output_type": "execute_result",
          "data": {
            "text/plain": [
              "[-10, -9, -8, -7, -6, -5, -4, -3, -2, -1, 0, 1, 2, 3, 4]"
            ]
          },
          "metadata": {},
          "execution_count": 52
        }
      ]
    },
    {
      "cell_type": "code",
      "source": [
        "#getting a list of all odd numbers till 20\n",
        "\n",
        "list(range(1,20,2))"
      ],
      "metadata": {
        "colab": {
          "base_uri": "https://localhost:8080/"
        },
        "id": "8L6sNPwwBG9J",
        "outputId": "2f9f35fe-5bce-41a4-b44e-1ebad0608085"
      },
      "execution_count": null,
      "outputs": [
        {
          "output_type": "execute_result",
          "data": {
            "text/plain": [
              "[1, 3, 5, 7, 9, 11, 13, 15, 17, 19]"
            ]
          },
          "metadata": {},
          "execution_count": 54
        }
      ]
    },
    {
      "cell_type": "code",
      "source": [
        "#getting all even numbers till 20\n",
        "\n",
        "list(range(0,21,2))"
      ],
      "metadata": {
        "colab": {
          "base_uri": "https://localhost:8080/"
        },
        "id": "Kd6lSEFfBWvK",
        "outputId": "6c168a85-88e8-4cd5-e234-348ff1811383"
      },
      "execution_count": null,
      "outputs": [
        {
          "output_type": "execute_result",
          "data": {
            "text/plain": [
              "[0, 2, 4, 6, 8, 10, 12, 14, 16, 18, 20]"
            ]
          },
          "metadata": {},
          "execution_count": 55
        }
      ]
    },
    {
      "cell_type": "code",
      "source": [
        "list(range(10,0,-1))"
      ],
      "metadata": {
        "colab": {
          "base_uri": "https://localhost:8080/"
        },
        "id": "yjgFkG59BziN",
        "outputId": "2ae73ddc-5495-4229-ee45-329d3aebfb9e"
      },
      "execution_count": null,
      "outputs": [
        {
          "output_type": "execute_result",
          "data": {
            "text/plain": [
              "[10, 9, 8, 7, 6, 5, 4, 3, 2, 1]"
            ]
          },
          "metadata": {},
          "execution_count": 56
        }
      ]
    },
    {
      "cell_type": "code",
      "source": [
        "list(range(10,-11,-2))"
      ],
      "metadata": {
        "colab": {
          "base_uri": "https://localhost:8080/"
        },
        "id": "QqU_PR3EB1zA",
        "outputId": "fd122c80-242f-41bd-998f-0604d9e48d82"
      },
      "execution_count": null,
      "outputs": [
        {
          "output_type": "execute_result",
          "data": {
            "text/plain": [
              "[10, 8, 6, 4, 2, 0, -2, -4, -6, -8, -10]"
            ]
          },
          "metadata": {},
          "execution_count": 57
        }
      ]
    },
    {
      "cell_type": "markdown",
      "source": [
        "### Indexing in python iterables"
      ],
      "metadata": {
        "id": "FLBHsvWdCftF"
      }
    },
    {
      "cell_type": "code",
      "source": [
        "text = 'String is nothing but a sequence of characters'"
      ],
      "metadata": {
        "id": "Kk67FQyGCpCn"
      },
      "execution_count": null,
      "outputs": []
    },
    {
      "cell_type": "code",
      "source": [
        "text[-10]"
      ],
      "metadata": {
        "colab": {
          "base_uri": "https://localhost:8080/",
          "height": 35
        },
        "id": "l8It29g2Cq8t",
        "outputId": "23c5f52d-b11f-4fea-fbda-05b86670aaea"
      },
      "execution_count": null,
      "outputs": [
        {
          "output_type": "execute_result",
          "data": {
            "text/plain": [
              "'c'"
            ],
            "application/vnd.google.colaboratory.intrinsic+json": {
              "type": "string"
            }
          },
          "metadata": {},
          "execution_count": 59
        }
      ]
    },
    {
      "cell_type": "code",
      "source": [
        "len(text)"
      ],
      "metadata": {
        "colab": {
          "base_uri": "https://localhost:8080/"
        },
        "id": "z8Vz9mIuCs4J",
        "outputId": "ef0ab4c2-a783-4ee0-b6f7-ebd95b8f1556"
      },
      "execution_count": null,
      "outputs": [
        {
          "output_type": "execute_result",
          "data": {
            "text/plain": [
              "46"
            ]
          },
          "metadata": {},
          "execution_count": 60
        }
      ]
    },
    {
      "cell_type": "code",
      "source": [
        "text[45]"
      ],
      "metadata": {
        "colab": {
          "base_uri": "https://localhost:8080/",
          "height": 35
        },
        "id": "KcUIyO6sCvrY",
        "outputId": "457a06e0-9e34-4a74-95b7-3602deb5ca34"
      },
      "execution_count": null,
      "outputs": [
        {
          "output_type": "execute_result",
          "data": {
            "text/plain": [
              "'s'"
            ],
            "application/vnd.google.colaboratory.intrinsic+json": {
              "type": "string"
            }
          },
          "metadata": {},
          "execution_count": 64
        }
      ]
    },
    {
      "cell_type": "code",
      "source": [
        "text[36]"
      ],
      "metadata": {
        "colab": {
          "base_uri": "https://localhost:8080/",
          "height": 35
        },
        "id": "epbhzbM5C8c3",
        "outputId": "a13b13bd-3aad-4d8f-a29f-fbd90354e30e"
      },
      "execution_count": null,
      "outputs": [
        {
          "output_type": "execute_result",
          "data": {
            "text/plain": [
              "'c'"
            ],
            "application/vnd.google.colaboratory.intrinsic+json": {
              "type": "string"
            }
          },
          "metadata": {},
          "execution_count": 65
        }
      ]
    },
    {
      "cell_type": "code",
      "source": [
        "text[-1] == text[len(text) - 1]"
      ],
      "metadata": {
        "colab": {
          "base_uri": "https://localhost:8080/"
        },
        "id": "9SMB5GwVC_yI",
        "outputId": "54fe916b-f16a-4850-d1bd-68831c170afe"
      },
      "execution_count": null,
      "outputs": [
        {
          "output_type": "execute_result",
          "data": {
            "text/plain": [
              "True"
            ]
          },
          "metadata": {},
          "execution_count": 66
        }
      ]
    },
    {
      "cell_type": "markdown",
      "source": [
        "### String split function"
      ],
      "metadata": {
        "id": "Ww4BzFVUDJ9r"
      }
    },
    {
      "cell_type": "code",
      "source": [
        "sentence = 'This is a string'\n",
        "\n",
        "sentence.split()"
      ],
      "metadata": {
        "colab": {
          "base_uri": "https://localhost:8080/"
        },
        "id": "TgT9RFGcDNHw",
        "outputId": "5cddf8ab-380c-4bd6-b655-028b46869662"
      },
      "execution_count": null,
      "outputs": [
        {
          "output_type": "execute_result",
          "data": {
            "text/plain": [
              "['This', 'is', 'a', 'string']"
            ]
          },
          "metadata": {},
          "execution_count": 67
        }
      ]
    },
    {
      "cell_type": "code",
      "source": [
        "words_list = sentence.split()\n",
        "\n",
        "print(words_list[0])\n",
        "\n",
        "word3 = words_list[3]\n",
        "print(word3)"
      ],
      "metadata": {
        "colab": {
          "base_uri": "https://localhost:8080/"
        },
        "id": "PiPxeBu-DPsN",
        "outputId": "499443a5-27fd-468d-b074-dd0f482a0ba5"
      },
      "execution_count": null,
      "outputs": [
        {
          "output_type": "stream",
          "name": "stdout",
          "text": [
            "This\n",
            "string\n"
          ]
        }
      ]
    },
    {
      "cell_type": "markdown",
      "source": [
        "### Menu Driven Program"
      ],
      "metadata": {
        "id": "f4DmO02SEvSP"
      }
    },
    {
      "cell_type": "code",
      "source": [
        "while True:\n",
        "    print(\"\\nMenu:\\n(A) Addition\\n(S) Subtraction\\n(M) Multiplication\\n(D) Division\\n(Q) Quit\")\n",
        "    choice = input(\"Enter your Choice: \").upper().rstrip()\n",
        "    if choice==\"A\":\n",
        "        a, b = input().split(\" \")\n",
        "        print('Addition:', float(a) + float(b)) #Addition: 5\n",
        "    elif choice==\"S\":\n",
        "        a, b = input().split(\" \")\n",
        "        print('Subtraction:', float(a) - float(b))\n",
        "    elif choice==\"M\":\n",
        "        a, b = input().split(\" \")\n",
        "        print('Multiplication:', float(a) * float(b))\n",
        "    elif choice==\"D\":\n",
        "        a, b = input().split(\" \")\n",
        "        print('Division:', float(a) / float(b))\n",
        "    elif choice==\"Q\":\n",
        "        break\n",
        "    else:\n",
        "        print(\"You have entered a wrong character. Please choose again...\\n\")\n",
        "\n",
        "print(\"\\nThank You! Visit Again!\")"
      ],
      "metadata": {
        "id": "3DVBznkUEzrs",
        "outputId": "e76d1570-bed0-4e7b-f0bd-c59f9a753585",
        "colab": {
          "base_uri": "https://localhost:8080/"
        }
      },
      "execution_count": null,
      "outputs": [
        {
          "output_type": "stream",
          "name": "stdout",
          "text": [
            "\n",
            "Menu:\n",
            "(A) Addition\n",
            "(S) Subtraction\n",
            "(M) Multiplication\n",
            "(D) Division\n",
            "(Q) Quit\n",
            "Enter your Choice: A\n",
            "3 8\n",
            "Addition: 11.0\n",
            "\n",
            "Menu:\n",
            "(A) Addition\n",
            "(S) Subtraction\n",
            "(M) Multiplication\n",
            "(D) Division\n",
            "(Q) Quit\n",
            "Enter your Choice: Q\n",
            "\n",
            "Thank You! Visit Again!\n"
          ]
        }
      ]
    },
    {
      "cell_type": "markdown",
      "source": [
        "### Practice Questions"
      ],
      "metadata": {
        "id": "YB5qipa6EV2n"
      }
    },
    {
      "cell_type": "code",
      "source": [
        "'''\n",
        "Q1. You have written a program to compute GPA, given marks of all six exams.\n",
        "A course instructor further wants to use GPA of a student to assign grade\n",
        "as follows:\n",
        "\n",
        "    GPA      Grade\n",
        "\n",
        "    10        E\n",
        "     9+       A\n",
        "     8+       B\n",
        "     7+       C\n",
        "     6+       D\n",
        "     5.5+     Pass\n",
        "     0+       Fail\n",
        "\n",
        "Extend the program you have written yesterday to assist the instructor\n",
        "in assigning grades to students. The program should read marks of all 6 exams\n",
        "and then print the GPA and/or the grade, as per the case.\n",
        "Follow the guidelines:\n",
        "- The program should be menu-driven:\n",
        "  Menu:\n",
        "  (A) Compute GPA\n",
        "  (B) Assign Grade\n",
        "  (Q) Quit\n",
        "- Read choice from the user as a letter 'A', 'B', 'Q'\n",
        "- If the choice is A:\n",
        "  - Read marks of all 6 exams are entered by a user at once, seperated with a single space.\n",
        "  - The program should check if the marks entered for each exam are not exceeding maximum marks.\n",
        "  - Compute and print the GPA.\n",
        "- If the choice is B:\n",
        "  - Read GPA entered by a user and print the grade.\n",
        "\n",
        "Eg.\n",
        "\n",
        "Menu:\n",
        "(A) Compute GPA\n",
        "(B) Assign Grade\n",
        "(Q) Quit\n",
        "Enter your Choice: A\n",
        "20 20 20 70 70 50\n",
        "4.1\n",
        "\n",
        "Menu:\n",
        "(A) Compute GPA\n",
        "(B) Assign Grade\n",
        "(Q) Quit\n",
        "Enter your Choice: B\n",
        "5.51\n",
        "Pass\n",
        "\n",
        "Menu:\n",
        "(A) Compute GPA\n",
        "(B) Assign Grade\n",
        "(Q) Quit\n",
        "Enter your Choice: q\n",
        "'''\n",
        "\n",
        "\n",
        "while True:\n",
        "  print(\"MENU:\\n(A) COMPUTE GPA\\n(B) ASSIGN GRADE\\n(Q) QUIT\")\n",
        "  a = input()\n",
        "\n",
        "  if(a == \"A\" or a == \"a\"):\n",
        "    print(\"ENTER THE MARKS OUT OF 10\\n\")\n",
        "    b = int(input())\n",
        "    c = int(input())\n",
        "    d = int(input())\n",
        "    e = int(input())\n",
        "    f = int(input())\n",
        "    g = int(input())\n",
        "\n",
        "    gpa = b + c + d + e + f + g\n",
        "    gpa = gpa/ 6\n",
        "    print(\"GPA = \", gpa)\n",
        "    continue\n",
        "\n",
        "  elif a == \"B\" or a == \"b\":\n",
        "    print(\"ENTER THE CGPA\\n\")\n",
        "    b = float(input())\n",
        "    if b == 10:\n",
        "      print(\"E\\n\")\n",
        "    elif b >= 9 and b < 10:\n",
        "      print(\"A\\n\")\n",
        "    elif b >= 8 and b < 9:\n",
        "      print(\"B\\n\")\n",
        "    elif b >= 7 and b < 8:\n",
        "      print(\"C\\n\")\n",
        "    elif b >= 6 and b < 7:\n",
        "      print(\"D\\n\")\n",
        "    elif b >= 5.5 and b < 6:\n",
        "      print(\"PASS\\n\")\n",
        "    elif b >= 0 and b < 9:\n",
        "      print(\"FAIL\\n\")\n",
        "    continue\n",
        "\n",
        "  elif(a == \"Q\" or a == \"q\"):\n",
        "    break"
      ],
      "metadata": {
        "colab": {
          "base_uri": "https://localhost:8080/"
        },
        "id": "9cMh8wcIEYve",
        "outputId": "cee17e46-4f56-4717-92b7-f2c675e8287a"
      },
      "execution_count": null,
      "outputs": [
        {
          "name": "stdout",
          "output_type": "stream",
          "text": [
            "MENU:\n",
            "(A) COMPUTE GPA\n",
            "(B) ASSIGN GRADE\n",
            "(Q) QUIT\n",
            "A\n",
            "ENTER THE MARKS OUT OF 10\n",
            "\n",
            "9\n",
            "8\n",
            "5\n",
            "10\n",
            "7\n",
            "6\n",
            "GPA =  7.5\n",
            "MENU:\n",
            "(A) COMPUTE GPA\n",
            "(B) ASSIGN GRADE\n",
            "(Q) QUIT\n",
            "B\n",
            "ENTER THE CGPA\n",
            "\n",
            "7.5\n",
            "C\n",
            "\n",
            "MENU:\n",
            "(A) COMPUTE GPA\n",
            "(B) ASSIGN GRADE\n",
            "(Q) QUIT\n",
            "Q\n"
          ]
        }
      ]
    },
    {
      "cell_type": "code",
      "source": [
        "'''\n",
        "Q2. Write a program that reads number of rows and prints following pattern:\n",
        "\n",
        "\n",
        "Input: 3\n",
        "\n",
        "   1\n",
        "   2    1\n",
        "   4    2    1\n",
        "\n",
        "\n",
        "Input: 5\n",
        "\n",
        "   1\n",
        "   2    1\n",
        "   4    2    1\n",
        "   8    4    2    1\n",
        "  16    8    4    2     1\n",
        "\n",
        "'''\n",
        "import math\n",
        "print(\"ENTER THE NUMBER OF ROWS\\n\")\n",
        "n = int(input())\n",
        "\n",
        "for row in range(n+1):\n",
        "\n",
        "  for column in range(row-1, -1, -1):\n",
        "    print(int(math.pow(2, column)), end = \"   \")\n",
        "  row = row + 1\n",
        "  print(\"\\n\")"
      ],
      "metadata": {
        "colab": {
          "base_uri": "https://localhost:8080/"
        },
        "id": "yzcNZNrSEtku",
        "outputId": "7d8c2535-58ad-427a-a0a3-490b881e6e00"
      },
      "execution_count": null,
      "outputs": [
        {
          "output_type": "stream",
          "name": "stdout",
          "text": [
            "ENTER THE NUMBER OF ROWS\n",
            "\n",
            "10\n",
            "\n",
            "\n",
            "1   \n",
            "\n",
            "2   1   \n",
            "\n",
            "4   2   1   \n",
            "\n",
            "8   4   2   1   \n",
            "\n",
            "16   8   4   2   1   \n",
            "\n",
            "32   16   8   4   2   1   \n",
            "\n",
            "64   32   16   8   4   2   1   \n",
            "\n",
            "128   64   32   16   8   4   2   1   \n",
            "\n",
            "256   128   64   32   16   8   4   2   1   \n",
            "\n",
            "512   256   128   64   32   16   8   4   2   1   \n",
            "\n"
          ]
        }
      ]
    },
    {
      "cell_type": "markdown",
      "source": [
        "### Today's Challenge"
      ],
      "metadata": {
        "id": "T-uj1s1iE4n5"
      }
    },
    {
      "cell_type": "code",
      "source": [
        "# get unicode of a character\n",
        "\n",
        "letter = 'a'\n",
        "\n",
        "ord(letter)"
      ],
      "metadata": {
        "colab": {
          "base_uri": "https://localhost:8080/"
        },
        "id": "RvUaQKJ4E9sM",
        "outputId": "8299b1e8-5797-4eaf-d26c-8094679a5466"
      },
      "execution_count": null,
      "outputs": [
        {
          "output_type": "execute_result",
          "data": {
            "text/plain": [
              "97"
            ]
          },
          "metadata": {},
          "execution_count": 33
        }
      ]
    },
    {
      "cell_type": "code",
      "source": [
        "ord('A')"
      ],
      "metadata": {
        "colab": {
          "base_uri": "https://localhost:8080/"
        },
        "id": "yVJoClEIFB_c",
        "outputId": "20d59d95-c033-4128-ce2d-84d2c9f828a8"
      },
      "execution_count": null,
      "outputs": [
        {
          "output_type": "execute_result",
          "data": {
            "text/plain": [
              "65"
            ]
          },
          "metadata": {},
          "execution_count": 34
        }
      ]
    },
    {
      "cell_type": "code",
      "source": [
        "# get character  given a valid  unicode\n",
        "\n",
        "chr(65)"
      ],
      "metadata": {
        "colab": {
          "base_uri": "https://localhost:8080/",
          "height": 35
        },
        "id": "S38dEJSxFE9H",
        "outputId": "c64089f4-72d8-48c7-bb46-97ed58a51c69"
      },
      "execution_count": null,
      "outputs": [
        {
          "output_type": "execute_result",
          "data": {
            "text/plain": [
              "'A'"
            ],
            "application/vnd.google.colaboratory.intrinsic+json": {
              "type": "string"
            }
          },
          "metadata": {},
          "execution_count": 35
        }
      ]
    },
    {
      "cell_type": "code",
      "source": [
        "pattern = '***'\n",
        "\n",
        "\n",
        "print(pattern.center(10, '-'))\n",
        "print(pattern.center(10, '-'))"
      ],
      "metadata": {
        "colab": {
          "base_uri": "https://localhost:8080/"
        },
        "id": "NPRYGwzhFG3W",
        "outputId": "842c0042-da4f-4b63-a6e0-2858f27c5b00"
      },
      "execution_count": null,
      "outputs": [
        {
          "output_type": "stream",
          "name": "stdout",
          "text": [
            "---***----\n",
            "---***----\n"
          ]
        }
      ]
    },
    {
      "cell_type": "code",
      "source": [
        "'''\n",
        "Write a program that reads a positive integer and then displays the following pattern.\n",
        "\n",
        "Input:\n",
        "3\n",
        "\n",
        "Output:\n",
        "\n",
        "----c----\n",
        "--c-b-c--\n",
        "c-b-a-b-c\n",
        "--c-b-c--\n",
        "----c----\n",
        "\n",
        "Input:\n",
        "5\n",
        "\n",
        "Output:\n",
        "\n",
        "--------e--------\n",
        "------e-d-e------\n",
        "----e-d-c-d-e----\n",
        "--e-d-c-b-c-d-e--\n",
        "e-d-c-b-a-b-c-d-e\n",
        "--e-d-c-b-c-d-e--\n",
        "----e-d-c-d-e----\n",
        "------e-d-e------\n",
        "--------e--------\n",
        "\n",
        "'''\n",
        "\n",
        "\n",
        "n=int(input())\n",
        "for i in range(n-1,-1,-1):\n",
        "    for j in range(i):\n",
        "        print(end=\"--\")\n",
        "    for j in range(n-1,i,-1):\n",
        "        print(chr(j+97),end=\"-\")\n",
        "    for j in range(i,n):\n",
        "        if j != n-1:\n",
        "            print(chr(j+97),end=\"-\")\n",
        "        else:\n",
        "            print(chr(j+97),end=\"\")\n",
        "    for j in range(2*i):\n",
        "        print(end=\"-\")\n",
        "    print()\n",
        "for i in range(1,n):\n",
        "    for j in range(i):\n",
        "        print(end=\"--\")\n",
        "    for j in range(n-1,i,-1):\n",
        "        print(chr(j+97),end=\"-\")\n",
        "    for j in range(i,n):\n",
        "        if j != n-1:\n",
        "            print(chr(j+97),end=\"-\")\n",
        "        else:\n",
        "            print(chr(j+97),end=\"\")\n",
        "    for j in range(2*i):\n",
        "        print(end=\"-\")\n",
        "    print()"
      ],
      "metadata": {
        "colab": {
          "base_uri": "https://localhost:8080/"
        },
        "id": "X7BpNWUmFPiG",
        "outputId": "9b3b1cc4-be60-48fe-dd54-b90a0c95ae1b"
      },
      "execution_count": null,
      "outputs": [
        {
          "output_type": "stream",
          "name": "stdout",
          "text": [
            "12\n",
            "----------------------l----------------------\n",
            "--------------------l-k-l--------------------\n",
            "------------------l-k-j-k-l------------------\n",
            "----------------l-k-j-i-j-k-l----------------\n",
            "--------------l-k-j-i-h-i-j-k-l--------------\n",
            "------------l-k-j-i-h-g-h-i-j-k-l------------\n",
            "----------l-k-j-i-h-g-f-g-h-i-j-k-l----------\n",
            "--------l-k-j-i-h-g-f-e-f-g-h-i-j-k-l--------\n",
            "------l-k-j-i-h-g-f-e-d-e-f-g-h-i-j-k-l------\n",
            "----l-k-j-i-h-g-f-e-d-c-d-e-f-g-h-i-j-k-l----\n",
            "--l-k-j-i-h-g-f-e-d-c-b-c-d-e-f-g-h-i-j-k-l--\n",
            "l-k-j-i-h-g-f-e-d-c-b-a-b-c-d-e-f-g-h-i-j-k-l\n",
            "--l-k-j-i-h-g-f-e-d-c-b-c-d-e-f-g-h-i-j-k-l--\n",
            "----l-k-j-i-h-g-f-e-d-c-d-e-f-g-h-i-j-k-l----\n",
            "------l-k-j-i-h-g-f-e-d-e-f-g-h-i-j-k-l------\n",
            "--------l-k-j-i-h-g-f-e-f-g-h-i-j-k-l--------\n",
            "----------l-k-j-i-h-g-f-g-h-i-j-k-l----------\n",
            "------------l-k-j-i-h-g-h-i-j-k-l------------\n",
            "--------------l-k-j-i-h-i-j-k-l--------------\n",
            "----------------l-k-j-i-j-k-l----------------\n",
            "------------------l-k-j-k-l------------------\n",
            "--------------------l-k-l--------------------\n",
            "----------------------l----------------------\n"
          ]
        }
      ]
    },
    {
      "cell_type": "markdown",
      "source": [
        "## Python List/ Array Methods\n"
      ],
      "metadata": {
        "id": "UxhXXgGOz00W"
      }
    },
    {
      "cell_type": "code",
      "source": [
        "#append()\n",
        "\n",
        "fruits = ['apple', 'banana', 'cherry']\n",
        "fruits.append(\"orange\")\n",
        "print(fruits)"
      ],
      "metadata": {
        "colab": {
          "base_uri": "https://localhost:8080/"
        },
        "id": "g2fdtqvN4oTW",
        "outputId": "cd8867b0-fb29-4c59-eae0-85b809ab53d4"
      },
      "execution_count": null,
      "outputs": [
        {
          "output_type": "stream",
          "name": "stdout",
          "text": [
            "['apple', 'banana', 'cherry', 'orange']\n"
          ]
        }
      ]
    },
    {
      "cell_type": "code",
      "source": [
        "#clear()\n",
        "\n",
        "fruits2 = ['apple', 'banana', 'cherry']\n",
        "fruits2.clear()\n",
        "print(fruits2)"
      ],
      "metadata": {
        "colab": {
          "base_uri": "https://localhost:8080/"
        },
        "id": "57GZ04dL40bX",
        "outputId": "fb9bc720-3ec3-423c-9aac-c3b8809c74f7"
      },
      "execution_count": null,
      "outputs": [
        {
          "output_type": "stream",
          "name": "stdout",
          "text": [
            "[]\n"
          ]
        }
      ]
    },
    {
      "cell_type": "code",
      "source": [
        "#copy()\n",
        "\n",
        "horticulture = fruits.copy()\n",
        "print(horticulture)"
      ],
      "metadata": {
        "colab": {
          "base_uri": "https://localhost:8080/"
        },
        "id": "F_j9CnJk48Ib",
        "outputId": "54b1d009-de66-471c-8de2-9647cfb3be0a"
      },
      "execution_count": null,
      "outputs": [
        {
          "output_type": "stream",
          "name": "stdout",
          "text": [
            "['apple', 'banana', 'cherry', 'orange']\n"
          ]
        }
      ]
    },
    {
      "cell_type": "code",
      "source": [
        "#count()\n",
        "\n",
        "print(fruits.count('apple'))"
      ],
      "metadata": {
        "colab": {
          "base_uri": "https://localhost:8080/"
        },
        "id": "bsK_YDsB5FSE",
        "outputId": "abffc7a9-0eb3-4d4d-ea5a-34d5cbf4513d"
      },
      "execution_count": null,
      "outputs": [
        {
          "output_type": "stream",
          "name": "stdout",
          "text": [
            "1\n"
          ]
        }
      ]
    },
    {
      "cell_type": "code",
      "source": [
        "#extend()\n",
        "fruits = ['apple', 'banana', 'cherry']\n",
        "fruits2 = ['tomato', 'mango']\n",
        "fruits.extend(fruits2)\n",
        "print(fruits)"
      ],
      "metadata": {
        "colab": {
          "base_uri": "https://localhost:8080/"
        },
        "id": "IiXPuD8J5W7-",
        "outputId": "94713cb5-a116-4790-ced1-f71bc560bd85"
      },
      "execution_count": null,
      "outputs": [
        {
          "output_type": "stream",
          "name": "stdout",
          "text": [
            "['apple', 'banana', 'cherry', 'tomato', 'mango']\n"
          ]
        }
      ]
    },
    {
      "cell_type": "code",
      "source": [
        "#index()\n",
        "\n",
        "print(fruits.index('tomato'))"
      ],
      "metadata": {
        "colab": {
          "base_uri": "https://localhost:8080/"
        },
        "id": "X1zB3yGP6LMi",
        "outputId": "78b841ea-0632-4349-8174-16b339354479"
      },
      "execution_count": null,
      "outputs": [
        {
          "output_type": "stream",
          "name": "stdout",
          "text": [
            "3\n"
          ]
        }
      ]
    },
    {
      "cell_type": "code",
      "source": [
        "#insert()\n",
        "\n",
        "fruits.insert(3, 'grapes')\n",
        "print(fruits)"
      ],
      "metadata": {
        "colab": {
          "base_uri": "https://localhost:8080/"
        },
        "id": "6fKzZfH-6S2x",
        "outputId": "b901d48a-5d4a-4aad-a1c3-64989cd84f4a"
      },
      "execution_count": null,
      "outputs": [
        {
          "output_type": "stream",
          "name": "stdout",
          "text": [
            "['apple', 'banana', 'cherry', 'grapes', 'tomato', 'mango']\n"
          ]
        }
      ]
    },
    {
      "cell_type": "code",
      "source": [
        "#pop()\n",
        "\n",
        "fruits.pop(4)\n",
        "print(fruits)"
      ],
      "metadata": {
        "colab": {
          "base_uri": "https://localhost:8080/"
        },
        "id": "1tsIy78r6kbA",
        "outputId": "b2da35b9-06ff-479b-888f-9abd55d5c7d9"
      },
      "execution_count": null,
      "outputs": [
        {
          "output_type": "stream",
          "name": "stdout",
          "text": [
            "['apple', 'banana', 'cherry', 'grapes', 'mango']\n"
          ]
        }
      ]
    },
    {
      "cell_type": "code",
      "source": [
        "#remove()\n",
        "\n",
        "fruits.remove('grapes')\n",
        "print(fruits)"
      ],
      "metadata": {
        "colab": {
          "base_uri": "https://localhost:8080/"
        },
        "id": "U7fOoS576s_w",
        "outputId": "67e005a8-eeea-4e1e-eb5f-a6e187fddf39"
      },
      "execution_count": null,
      "outputs": [
        {
          "output_type": "stream",
          "name": "stdout",
          "text": [
            "['apple', 'banana', 'cherry', 'mango']\n"
          ]
        }
      ]
    },
    {
      "cell_type": "code",
      "source": [
        "#reverse()\n",
        "fruits.reverse()\n",
        "print(fruits)"
      ],
      "metadata": {
        "colab": {
          "base_uri": "https://localhost:8080/"
        },
        "id": "QUUH0neJ64s_",
        "outputId": "d6f3d25b-f2f4-4965-a9c9-fa8a652b08d8"
      },
      "execution_count": null,
      "outputs": [
        {
          "output_type": "stream",
          "name": "stdout",
          "text": [
            "['mango', 'cherry', 'banana', 'apple']\n"
          ]
        }
      ]
    },
    {
      "cell_type": "code",
      "source": [
        "#sort()\n",
        "\n",
        "fruits.sort()\n",
        "print(fruits)"
      ],
      "metadata": {
        "colab": {
          "base_uri": "https://localhost:8080/"
        },
        "id": "gLuitgoS7YTZ",
        "outputId": "c27b94e4-6a1f-4dea-a3c7-2bdc77cca99c"
      },
      "execution_count": null,
      "outputs": [
        {
          "output_type": "stream",
          "name": "stdout",
          "text": [
            "['apple', 'banana', 'cherry', 'mango']\n"
          ]
        }
      ]
    },
    {
      "cell_type": "markdown",
      "source": [
        "# **--------------------------------------------------------------------------------------**"
      ],
      "metadata": {
        "id": "x_oc6oRXNy-0"
      }
    },
    {
      "cell_type": "markdown",
      "source": [
        "# **LAB 7 - 12/09/2022**\n"
      ],
      "metadata": {
        "id": "guaPMYagz6pq"
      }
    },
    {
      "cell_type": "markdown",
      "source": [
        "## Python Dictionary Methods\n"
      ],
      "metadata": {
        "id": "Uloo-RIc0CRJ"
      }
    },
    {
      "cell_type": "code",
      "source": [
        "#clear()\n",
        "car =\t{\n",
        "  \"brand\": \"Ford\",\n",
        "  \"model\": \"Mustang\",\n",
        "  \"year\": 1964\n",
        "}\n",
        "\n",
        "car.clear()\n",
        "\n",
        "print(car)"
      ],
      "metadata": {
        "colab": {
          "base_uri": "https://localhost:8080/"
        },
        "id": "NEBdjehz1UqZ",
        "outputId": "cb150d79-8354-496a-bfb6-a02005efdcee"
      },
      "execution_count": null,
      "outputs": [
        {
          "output_type": "stream",
          "name": "stdout",
          "text": [
            "{}\n"
          ]
        }
      ]
    },
    {
      "cell_type": "code",
      "source": [
        "#copy()\n",
        "car =\t{\n",
        "  \"brand\": \"Ford\",\n",
        "  \"model\": \"Mustang\",\n",
        "  \"year\": 1964\n",
        "}\n",
        "\n",
        "mycar = car.copy()\n",
        "\n",
        "print(mycar)"
      ],
      "metadata": {
        "colab": {
          "base_uri": "https://localhost:8080/"
        },
        "id": "ohuw-biO1pOs",
        "outputId": "be834ca9-99e5-451a-dbe8-f6ebea12244f"
      },
      "execution_count": null,
      "outputs": [
        {
          "output_type": "stream",
          "name": "stdout",
          "text": [
            "{'brand': 'Ford', 'model': 'Mustang', 'year': 1964}\n"
          ]
        }
      ]
    },
    {
      "cell_type": "code",
      "source": [
        "#fromkeys()\n",
        "x = ('key1', 'key2', 'key3')\n",
        "y = 0\n",
        "\n",
        "thisdict = dict.fromkeys(x, y)\n",
        "\n",
        "print(thisdict)"
      ],
      "metadata": {
        "colab": {
          "base_uri": "https://localhost:8080/"
        },
        "id": "-pZfPs0i17Pw",
        "outputId": "cdcce8b8-9703-46a0-d4bb-fd5a05af0e28"
      },
      "execution_count": null,
      "outputs": [
        {
          "output_type": "stream",
          "name": "stdout",
          "text": [
            "{'key1': 0, 'key2': 0, 'key3': 0}\n"
          ]
        }
      ]
    },
    {
      "cell_type": "code",
      "source": [
        "#get()\n",
        "\n",
        "print(car.get(\"model\"))"
      ],
      "metadata": {
        "colab": {
          "base_uri": "https://localhost:8080/"
        },
        "id": "0jjn4AHg2HQf",
        "outputId": "f74b4be4-3599-4682-df09-b9762d9c14ce"
      },
      "execution_count": null,
      "outputs": [
        {
          "output_type": "stream",
          "name": "stdout",
          "text": [
            "Mustang\n"
          ]
        }
      ]
    },
    {
      "cell_type": "code",
      "source": [
        "#items()\n",
        "\n",
        "print(car.items())"
      ],
      "metadata": {
        "colab": {
          "base_uri": "https://localhost:8080/"
        },
        "id": "-Ih7mhMP2PV0",
        "outputId": "fa4b7acf-68a8-4c69-a0e3-d6b8993256d6"
      },
      "execution_count": null,
      "outputs": [
        {
          "output_type": "stream",
          "name": "stdout",
          "text": [
            "dict_items([('brand', 'Ford'), ('model', 'Mustang'), ('year', 1964)])\n"
          ]
        }
      ]
    },
    {
      "cell_type": "code",
      "source": [
        "#keys()\n",
        "\n",
        "print(car.keys())"
      ],
      "metadata": {
        "colab": {
          "base_uri": "https://localhost:8080/"
        },
        "id": "gXl5phlz2eQe",
        "outputId": "6a079b96-0c92-472f-ed58-50b7ad44327f"
      },
      "execution_count": null,
      "outputs": [
        {
          "output_type": "stream",
          "name": "stdout",
          "text": [
            "dict_keys(['brand', 'model', 'year'])\n"
          ]
        }
      ]
    },
    {
      "cell_type": "code",
      "source": [
        "#pop()\n",
        "car =\t{\n",
        "  \"brand\": \"Ford\",\n",
        "  \"model\": \"Mustang\",\n",
        "  \"year\": 1964\n",
        "}\n",
        "car.pop(\"year\")\n",
        "print(car)"
      ],
      "metadata": {
        "colab": {
          "base_uri": "https://localhost:8080/"
        },
        "id": "N7ZpPWac2jsU",
        "outputId": "d3f4d3c5-6fdf-404e-95e5-3cb2d7162e0a"
      },
      "execution_count": null,
      "outputs": [
        {
          "output_type": "stream",
          "name": "stdout",
          "text": [
            "{'brand': 'Ford', 'model': 'Mustang'}\n"
          ]
        }
      ]
    },
    {
      "cell_type": "code",
      "source": [
        "#popitem()\n",
        "car =\t{\n",
        "  \"brand\": \"Ford\",\n",
        "  \"model\": \"Mustang\",\n",
        "  \"year\": 1964\n",
        "}\n",
        "car.popitem()\n",
        "print(car)"
      ],
      "metadata": {
        "colab": {
          "base_uri": "https://localhost:8080/"
        },
        "id": "BrsWeU2x26iu",
        "outputId": "e12279d6-7c5d-48a5-f16b-07c3ba29bb29"
      },
      "execution_count": null,
      "outputs": [
        {
          "output_type": "stream",
          "name": "stdout",
          "text": [
            "{'brand': 'Ford', 'model': 'Mustang'}\n"
          ]
        }
      ]
    },
    {
      "cell_type": "code",
      "source": [
        "#setdefault()\n",
        "car = {\n",
        "  \"brand\": \"Ford\",\n",
        "  \"model\": \"Mustang\",\n",
        "  \"year\": 1964\n",
        "}\n",
        "\n",
        "x = car.setdefault(\"model\", \"Bronco\")\n",
        "\n",
        "print(x)"
      ],
      "metadata": {
        "colab": {
          "base_uri": "https://localhost:8080/"
        },
        "id": "yFBm8uLm3Adu",
        "outputId": "498bfa62-71dd-4a18-e82f-295ff84e3e60"
      },
      "execution_count": null,
      "outputs": [
        {
          "output_type": "stream",
          "name": "stdout",
          "text": [
            "Mustang\n"
          ]
        }
      ]
    },
    {
      "cell_type": "code",
      "source": [
        "#update()\n",
        "car = {\n",
        "  \"brand\": \"Ford\",\n",
        "  \"model\": \"Mustang\",\n",
        "  \"year\": 1964\n",
        "}\n",
        "\n",
        "car.update({\"color\": \"White\"})\n",
        "\n",
        "print(car)"
      ],
      "metadata": {
        "id": "jBlAHqlH3Obb"
      },
      "execution_count": null,
      "outputs": []
    },
    {
      "cell_type": "code",
      "source": [
        "#values()\n",
        "car = {\n",
        "  \"brand\": \"Ford\",\n",
        "  \"model\": \"Mustang\",\n",
        "  \"year\": 1964\n",
        "}\n",
        "print(car.values())"
      ],
      "metadata": {
        "colab": {
          "base_uri": "https://localhost:8080/"
        },
        "id": "eYLUEqBY3WAo",
        "outputId": "e88de2f2-fbd8-4e4d-b967-a1a749ea2503"
      },
      "execution_count": null,
      "outputs": [
        {
          "output_type": "stream",
          "name": "stdout",
          "text": [
            "dict_values(['Ford', 'Mustang', 1964])\n"
          ]
        }
      ]
    },
    {
      "cell_type": "markdown",
      "source": [
        "## Experiments 09-14 of the course description"
      ],
      "metadata": {
        "id": "ZxE71v-m6EVx"
      }
    },
    {
      "cell_type": "code",
      "source": [
        "#Exeriment 09\n",
        "'''Write a Python program to create an array of 5 integers and display the array items.\n",
        "Access individual element through indexes. Write a Python program to convert an\n",
        "array to an ordinary list with the same items.'''\n",
        "\n",
        "import numpy as np\n",
        "\n",
        "a = np.array([1,2,3,4,5])\n",
        "print(a)\n",
        "\n",
        "li = a.tolist()\n",
        "\n",
        "print(li)\n",
        "type(li)"
      ],
      "metadata": {
        "colab": {
          "base_uri": "https://localhost:8080/"
        },
        "id": "MecVEN7o6UdO",
        "outputId": "9d332c1a-f176-4b29-9542-66d48bcfab22"
      },
      "execution_count": null,
      "outputs": [
        {
          "output_type": "stream",
          "name": "stdout",
          "text": [
            "[1 2 3 4 5]\n",
            "[1, 2, 3, 4, 5]\n"
          ]
        },
        {
          "output_type": "execute_result",
          "data": {
            "text/plain": [
              "list"
            ]
          },
          "metadata": {},
          "execution_count": 11
        }
      ]
    },
    {
      "cell_type": "code",
      "source": [
        "#Experiment 10\n",
        "'''Write a Python program to display all the member name of an enum class ordered by\n",
        "their values. Expected Output:\n",
        "Country Name ordered by Country Code: Afghanistan Algeria Angola Albania Andorra Antarctica'''\n",
        "\n",
        "from enum import Enum\n",
        "\n",
        "class country(Enum):\n",
        "  Antarctica = 672\n",
        "  Afghanistan = 93\n",
        "  Albania = 355\n",
        "  Algeria = 213\n",
        "  Andorra = 376\n",
        "  Angola = 244\n",
        "\n",
        "li = list()\n",
        "for i in country:\n",
        "  li.append(i.value)\n",
        "li.sort()\n",
        "\n",
        "for j in li:\n",
        "  for i in country:\n",
        "    if j == i.value:\n",
        "      print(i.name)"
      ],
      "metadata": {
        "colab": {
          "base_uri": "https://localhost:8080/"
        },
        "id": "3SUYdswVC0ni",
        "outputId": "eb87ba1c-22e1-4a80-cb30-8cc020e1592a"
      },
      "execution_count": null,
      "outputs": [
        {
          "output_type": "stream",
          "name": "stdout",
          "text": [
            "Afghanistan\n",
            "Algeria\n",
            "Angola\n",
            "Albania\n",
            "Andorra\n",
            "Antarctica\n"
          ]
        }
      ]
    },
    {
      "cell_type": "code",
      "source": [
        "#Experiment 11\n",
        "'''Write a Python program to get all values from an enum class.\n",
        "Expected output: [93, 355, 213, 376, 244, 672].'''\n",
        "\n",
        "from enum import Enum\n",
        "\n",
        "class country(Enum):\n",
        "  Antarctica = 672\n",
        "  Afghanistan = 93\n",
        "  Albania = 355\n",
        "  Algeria = 213\n",
        "  Andorra = 376\n",
        "  Angola = 244\n",
        "\n",
        "li = list()\n",
        "for i in country:\n",
        "  li.append(i.value)\n",
        "print(li)"
      ],
      "metadata": {
        "colab": {
          "base_uri": "https://localhost:8080/"
        },
        "id": "tb2Ea231MCCV",
        "outputId": "6a01dc76-742d-4e77-e4b0-b3a7b373c21c"
      },
      "execution_count": null,
      "outputs": [
        {
          "output_type": "stream",
          "name": "stdout",
          "text": [
            "[672, 93, 355, 213, 376, 244]\n"
          ]
        }
      ]
    },
    {
      "cell_type": "code",
      "source": [
        "#Experiment 12\n",
        "'''Write a Python program to get an array buffer information Expected Output:\n",
        "Array buffer start address in memory and number of elements.\n",
        "(25855056, 2)'''\n",
        "\n",
        "from array import array\n",
        "a = array(\"I\", (12,25,89,64,69))\n",
        "print(\"Array buffer start address in memory and number of elements : \")\n",
        "print(a.buffer_info())"
      ],
      "metadata": {
        "colab": {
          "base_uri": "https://localhost:8080/"
        },
        "id": "eeSG5JX1MpNs",
        "outputId": "9c5824d8-23e0-425a-d948-30257ddc3940"
      },
      "execution_count": null,
      "outputs": [
        {
          "output_type": "stream",
          "name": "stdout",
          "text": [
            "Array buffer start address in memory and number of elements : \n",
            "(140682131940528, 5)\n"
          ]
        }
      ]
    },
    {
      "cell_type": "code",
      "source": [
        "#Experiment 13-14\n",
        "'''Write a Python program to push three items into a heap and return the smallest item\n",
        "from the heap. Also Pop and return the smallest item from the heap. Expected\n",
        "Output:\n",
        "Items in the heap:\n",
        "('V', 1)\n",
        "('V', 3)\n",
        "('V', 2)\n",
        "The smallest item in the heap: ('V', 1)\n",
        "Pop the smallest item in the heap: ('V', 2)\n",
        "('V', 3)'''\n",
        "\n"
      ],
      "metadata": {
        "id": "KYkApLGlNekb"
      },
      "execution_count": null,
      "outputs": []
    },
    {
      "cell_type": "markdown",
      "source": [
        "# **LAB 8 - 26/09/2022**"
      ],
      "metadata": {
        "id": "g87UgvBx5jF3"
      }
    },
    {
      "cell_type": "markdown",
      "source": [
        "## Experiment 15-20 from the course description\n"
      ],
      "metadata": {
        "id": "axeWRwjH5xhy"
      }
    },
    {
      "cell_type": "code",
      "source": [
        "#Experiment 15, 16\n",
        "'''Write a function named print_big_enough that accepts two parameters, a list of\n",
        "numbers and a number. The function should print, in order, all the elements in the list\n",
        "that are at least as large as the second parameter.'''\n",
        "\n",
        "def print_big_enough(li, num):\n",
        "  li2 = list()\n",
        "  for x in li:\n",
        "    if x>=num:\n",
        "      li2.append(x)\n",
        "  li2.sort()\n",
        "  print(li2)\n",
        "\n",
        "p = [26,58,4,75,99,63,9,7]\n",
        "q = 15\n",
        "print_big_enough(p, q)"
      ],
      "metadata": {
        "colab": {
          "base_uri": "https://localhost:8080/"
        },
        "id": "a-ZnV52D53A7",
        "outputId": "f4d5d80a-0c3c-479b-a812-b4402a0e55c9"
      },
      "execution_count": null,
      "outputs": [
        {
          "output_type": "stream",
          "name": "stdout",
          "text": [
            "[26, 58, 63, 75, 99]\n"
          ]
        }
      ]
    },
    {
      "cell_type": "code",
      "source": [
        "#Experiment 17, 18\n",
        "'''Write a function called draw_rectangle that takes a Canvas and a Rectangle as\n",
        "arguments and draws a representation of the Rectangle on the Canvas. 2. Add an\n",
        "attribute named color to your Rectangle objects and modify draw_rectangle so that it\n",
        "uses the color attribute as the fill color. 3. Write a function called draw_point that\n",
        "takes a Canvas and a Point as arguments and draws a representation of the Point on\n",
        "the Canvas. 4. Define a new class called Circle with appropriate attributes and\n",
        "instantiate a few Circle objects. Write a function called draw_circle that draws circles\n",
        "on the canvas. 5. Write a program that draws the national flag of the India. Hint: you\n",
        "can draw a polygon like this: points\n",
        "= [[-150,-100], [150, 100], [150, -100]] canvas.polygon(points,\n",
        "fill='saffron,white,green')'''\n",
        "\n",
        "from tkinter import *\n",
        "\n",
        "def draw_rectangle(canva, rect):VNCFB\n",
        "\n",
        ""
      ],
      "metadata": {
        "id": "Cziyslun92OA"
      },
      "execution_count": null,
      "outputs": []
    },
    {
      "cell_type": "code",
      "source": [
        "#Experiment 19,20\n",
        "'''The datetime module provides date and time objects that are similar to the Date and\n",
        "Time objects in this chapter, but they provide a rich set of methods and operators.\n",
        "Read the documentation at http: // docs. python.\n",
        "org/ 2/ library/ datetime. html . 1. Use the datetime module to write a\n",
        "program that gets the current date and prints the day of the week. 2. Write a program\n",
        "that takes a birthday as input and prints the user‟s age and the number of days, hours,\n",
        "minutes and seconds until their next birthday. 3. For two people born on different\n",
        "days, there is a day when one is twice as old as the other. That‟s their Double Day.\n",
        "Write a program that takes two birthdays and computes their Double Day. 4. For a\n",
        "little more challenge, write the more general version that computes the\n",
        "day when one person is n times older than the other.'''"
      ],
      "metadata": {
        "colab": {
          "base_uri": "https://localhost:8080/"
        },
        "id": "9aGqJKF3L-ej",
        "outputId": "ff34ed2c-bd71-4a3b-c5fb-fcf3af5b6003"
      },
      "execution_count": null,
      "outputs": [
        {
          "output_type": "stream",
          "name": "stdout",
          "text": [
            "4\n"
          ]
        }
      ]
    }
  ]
}