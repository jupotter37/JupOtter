{
 "cells": [
  {
   "cell_type": "code",
   "execution_count": 3,
   "id": "68a9f482-0821-4f23-9272-721f209d375f",
   "metadata": {},
   "outputs": [],
   "source": [
    "def gfg():\n",
    "    i=21\n",
    "    if (i % 2==0):\n",
    "        print(\"The given number is even\")\n",
    "    else:\n",
    "        print(\"The given number is odd\")"
   ]
  },
  {
   "cell_type": "code",
   "execution_count": 4,
   "id": "25e772cf-4060-4830-ba33-aaa4c1317de2",
   "metadata": {},
   "outputs": [
    {
     "name": "stdout",
     "output_type": "stream",
     "text": [
      "The given number is odd\n"
     ]
    }
   ],
   "source": [
    "gfg()"
   ]
  },
  {
   "cell_type": "code",
   "execution_count": 6,
   "id": "2ffad71d-2ced-4773-baba-2d61c29927fb",
   "metadata": {},
   "outputs": [
    {
     "name": "stdout",
     "output_type": "stream",
     "text": [
      "2\n",
      "3\n",
      "4\n",
      "5\n",
      "6\n"
     ]
    }
   ],
   "source": [
    "a=lambda b: b+1\n",
    "\n",
    "for i in range(1,6):\n",
    "    print(a(i))"
   ]
  },
  {
   "cell_type": "code",
   "execution_count": 7,
   "id": "5e92b07e-8a70-4cc6-8f61-5181f056432d",
   "metadata": {},
   "outputs": [
    {
     "name": "stdout",
     "output_type": "stream",
     "text": [
      "30\n"
     ]
    }
   ],
   "source": [
    "x=lambda a,b:a*b\n",
    "print(x(5,6))"
   ]
  },
  {
   "cell_type": "code",
   "execution_count": 17,
   "id": "a8819ca0-0707-4ca0-bac0-01a2986076ba",
   "metadata": {},
   "outputs": [],
   "source": [
    "def myfun(n):\n",
    "    return lambda a:a*n"
   ]
  },
  {
   "cell_type": "code",
   "execution_count": 18,
   "id": "20d45e5f-2315-42a1-9643-fbfdc4108be8",
   "metadata": {},
   "outputs": [
    {
     "name": "stdout",
     "output_type": "stream",
     "text": [
      "6\n"
     ]
    }
   ],
   "source": [
    "mydoubler=myfun(2)\n",
    "print(mydoubler(3))"
   ]
  },
  {
   "cell_type": "code",
   "execution_count": 19,
   "id": "f4c6a0b7-496b-4335-a57f-6096e2afd07b",
   "metadata": {},
   "outputs": [
    {
     "name": "stdout",
     "output_type": "stream",
     "text": [
      "['False', 'None', 'True', 'and', 'as', 'assert', 'async', 'await', 'break', 'class', 'continue', 'def', 'del', 'elif', 'else', 'except', 'finally', 'for', 'from', 'global', 'if', 'import', 'in', 'is', 'lambda', 'nonlocal', 'not', 'or', 'pass', 'raise', 'return', 'try', 'while', 'with', 'yield']\n"
     ]
    }
   ],
   "source": [
    "import keyword \n",
    "print(keyword.kwlist)"
   ]
  },
  {
   "cell_type": "code",
   "execution_count": 22,
   "id": "d258dd97-86bf-4937-970a-2d967731348d",
   "metadata": {},
   "outputs": [],
   "source": [
    "c = lambda a,b : (a*a)+(b*b)"
   ]
  },
  {
   "cell_type": "code",
   "execution_count": 23,
   "id": "43ce255e-0b5f-4dd9-8f9c-e6f124bee02d",
   "metadata": {},
   "outputs": [
    {
     "data": {
      "text/plain": [
       "25"
      ]
     },
     "execution_count": 23,
     "metadata": {},
     "output_type": "execute_result"
    }
   ],
   "source": [
    "c(3,4)"
   ]
  },
  {
   "cell_type": "code",
   "execution_count": 24,
   "id": "0aabc695-072a-4029-9e39-a8bffbf1fd36",
   "metadata": {},
   "outputs": [],
   "source": [
    "def fun():\n",
    "    a=5\n",
    "    return a"
   ]
  },
  {
   "cell_type": "code",
   "execution_count": 29,
   "id": "8bd4226e-0c4e-4149-a20e-71eb153d9337",
   "metadata": {},
   "outputs": [
    {
     "data": {
      "text/plain": [
       "5"
      ]
     },
     "execution_count": 29,
     "metadata": {},
     "output_type": "execute_result"
    }
   ],
   "source": [
    "fun() "
   ]
  },
  {
   "cell_type": "code",
   "execution_count": 27,
   "id": "9ea0b411-6b57-4d97-947c-2a3ee5055336",
   "metadata": {},
   "outputs": [
    {
     "name": "stdout",
     "output_type": "stream",
     "text": [
      "5\n"
     ]
    }
   ],
   "source": [
    "print(t)"
   ]
  },
  {
   "cell_type": "code",
   "execution_count": 30,
   "id": "eaf70b5a-918f-4d7c-ac94-53a266e6ab44",
   "metadata": {},
   "outputs": [],
   "source": [
    "l=[1,2,3,4,5,6,7]"
   ]
  },
  {
   "cell_type": "code",
   "execution_count": 31,
   "id": "3cbad533-674e-4474-a742-3d15aca22e8f",
   "metadata": {},
   "outputs": [
    {
     "name": "stdout",
     "output_type": "stream",
     "text": [
      "[1, 2, 3, 4, 5, 6, 7]\n"
     ]
    }
   ],
   "source": [
    "print(l)"
   ]
  },
  {
   "cell_type": "code",
   "execution_count": 32,
   "id": "3b119f0c-2bae-4200-8f15-7ecbc2307cd3",
   "metadata": {},
   "outputs": [],
   "source": [
    "del l[1]"
   ]
  },
  {
   "cell_type": "code",
   "execution_count": 33,
   "id": "d6dceada-fe33-43ee-a017-c7a19b8f5c0d",
   "metadata": {},
   "outputs": [
    {
     "name": "stdout",
     "output_type": "stream",
     "text": [
      "[1, 3, 4, 5, 6, 7]\n"
     ]
    }
   ],
   "source": [
    "print(l)"
   ]
  },
  {
   "cell_type": "code",
   "execution_count": 34,
   "id": "37f3a620-5e13-4296-8f5c-a251ab8cc1b8",
   "metadata": {},
   "outputs": [],
   "source": [
    "l=(1,2,3,4,5)"
   ]
  },
  {
   "cell_type": "code",
   "execution_count": 91,
   "id": "786d2970-d744-4bc8-aacd-4af36b2d2667",
   "metadata": {},
   "outputs": [],
   "source": [
    "gvar=100\n",
    "def func1():\n",
    "    gvar=10\n",
    "    print(gvar)"
   ]
  },
  {
   "cell_type": "code",
   "execution_count": 92,
   "id": "eeb3841e-a3e6-4c63-b5fe-b7da4aa9ccd4",
   "metadata": {},
   "outputs": [
    {
     "name": "stdout",
     "output_type": "stream",
     "text": [
      "10\n"
     ]
    }
   ],
   "source": [
    "func1()"
   ]
  },
  {
   "cell_type": "code",
   "execution_count": 95,
   "id": "38a883dd-2709-4a90-9e7c-7fac92a2c138",
   "metadata": {},
   "outputs": [],
   "source": [
    "def func2():\n",
    "    global gvar\n",
    "    gvar=150\n",
    "    print(gvar)"
   ]
  },
  {
   "cell_type": "code",
   "execution_count": 96,
   "id": "85454523-21d6-49d0-b14a-a22966e513a7",
   "metadata": {},
   "outputs": [
    {
     "name": "stdout",
     "output_type": "stream",
     "text": [
      "150\n"
     ]
    }
   ],
   "source": [
    "func2()"
   ]
  },
  {
   "cell_type": "code",
   "execution_count": 67,
   "id": "c284277d-221a-4964-b598-ab749e2f3330",
   "metadata": {},
   "outputs": [],
   "source": [
    "a=[1,2,3]\n",
    "b=[1,2,3]\n",
    "c=a"
   ]
  },
  {
   "cell_type": "code",
   "execution_count": 68,
   "id": "75407a30-7b20-4a4c-97c9-bd63816d05ef",
   "metadata": {},
   "outputs": [
    {
     "data": {
      "text/plain": [
       "139966384461376"
      ]
     },
     "execution_count": 68,
     "metadata": {},
     "output_type": "execute_result"
    }
   ],
   "source": [
    "id(c)"
   ]
  },
  {
   "cell_type": "code",
   "execution_count": 69,
   "id": "01737ea0-a71e-4b66-8f5d-d9669241b4a1",
   "metadata": {},
   "outputs": [
    {
     "data": {
      "text/plain": [
       "139966384461376"
      ]
     },
     "execution_count": 69,
     "metadata": {},
     "output_type": "execute_result"
    }
   ],
   "source": [
    "id(a)"
   ]
  },
  {
   "cell_type": "code",
   "execution_count": 70,
   "id": "54342e28-b41a-4576-b94b-4c1915535287",
   "metadata": {},
   "outputs": [
    {
     "data": {
      "text/plain": [
       "139966384453440"
      ]
     },
     "execution_count": 70,
     "metadata": {},
     "output_type": "execute_result"
    }
   ],
   "source": [
    "id(b)"
   ]
  },
  {
   "cell_type": "code",
   "execution_count": 71,
   "id": "5ff83ae8-e696-4924-8c43-54bab06c668b",
   "metadata": {},
   "outputs": [
    {
     "data": {
      "text/plain": [
       "False"
      ]
     },
     "execution_count": 71,
     "metadata": {},
     "output_type": "execute_result"
    }
   ],
   "source": [
    "a is b"
   ]
  },
  {
   "cell_type": "code",
   "execution_count": 72,
   "id": "5504ee39-f1a9-46e7-9655-55f11e09d786",
   "metadata": {},
   "outputs": [
    {
     "data": {
      "text/plain": [
       "True"
      ]
     },
     "execution_count": 72,
     "metadata": {},
     "output_type": "execute_result"
    }
   ],
   "source": [
    "c is a"
   ]
  },
  {
   "cell_type": "code",
   "execution_count": 73,
   "id": "999fcb36-4652-4e46-bf3f-7f6e5958a3ed",
   "metadata": {},
   "outputs": [
    {
     "data": {
      "text/plain": [
       "True"
      ]
     },
     "execution_count": 73,
     "metadata": {},
     "output_type": "execute_result"
    }
   ],
   "source": [
    "a == b"
   ]
  },
  {
   "cell_type": "code",
   "execution_count": 74,
   "id": "ec991eeb-4f5a-4f15-ad86-235c255e7063",
   "metadata": {},
   "outputs": [
    {
     "data": {
      "text/plain": [
       "True"
      ]
     },
     "execution_count": 74,
     "metadata": {},
     "output_type": "execute_result"
    }
   ],
   "source": [
    "c == a"
   ]
  },
  {
   "cell_type": "code",
   "execution_count": 75,
   "id": "41b6b933-06ce-403b-9f5f-67c657154750",
   "metadata": {},
   "outputs": [
    {
     "data": {
      "text/plain": [
       "list"
      ]
     },
     "execution_count": 75,
     "metadata": {},
     "output_type": "execute_result"
    }
   ],
   "source": [
    "type(a)"
   ]
  },
  {
   "cell_type": "code",
   "execution_count": 76,
   "id": "ee05ce70-e0df-442b-8e54-0f5334e195ba",
   "metadata": {},
   "outputs": [],
   "source": [
    "import numpy as np"
   ]
  },
  {
   "cell_type": "code",
   "execution_count": 77,
   "id": "630e7b73-dbcb-47de-87bb-c2800e03d6a3",
   "metadata": {},
   "outputs": [],
   "source": [
    "a=np.array([1,2,3])"
   ]
  },
  {
   "cell_type": "code",
   "execution_count": 78,
   "id": "802d2b34-e9c4-4a03-8900-c2e1d2f77ff1",
   "metadata": {},
   "outputs": [
    {
     "data": {
      "text/plain": [
       "numpy.ndarray"
      ]
     },
     "execution_count": 78,
     "metadata": {},
     "output_type": "execute_result"
    }
   ],
   "source": [
    "type(a)"
   ]
  },
  {
   "cell_type": "code",
   "execution_count": 79,
   "id": "e0350356-2225-4f64-97be-bb03f2d17700",
   "metadata": {},
   "outputs": [],
   "source": [
    "a='aswinpushkar'"
   ]
  },
  {
   "cell_type": "code",
   "execution_count": 80,
   "id": "2c8488e1-02b2-4549-862b-0b7ab373a37a",
   "metadata": {},
   "outputs": [
    {
     "data": {
      "text/plain": [
       "str"
      ]
     },
     "execution_count": 80,
     "metadata": {},
     "output_type": "execute_result"
    }
   ],
   "source": [
    "type(a)"
   ]
  },
  {
   "cell_type": "code",
   "execution_count": 81,
   "id": "85b94de2-5fde-4a93-9315-b107aa919b9a",
   "metadata": {},
   "outputs": [
    {
     "data": {
      "text/plain": [
       "int"
      ]
     },
     "execution_count": 81,
     "metadata": {},
     "output_type": "execute_result"
    }
   ],
   "source": [
    "a=0b111\n",
    "type(a)"
   ]
  },
  {
   "cell_type": "code",
   "execution_count": 82,
   "id": "06ba1c6c-5a63-4cef-ac97-67b29b822d04",
   "metadata": {},
   "outputs": [
    {
     "data": {
      "text/plain": [
       "'0b100'"
      ]
     },
     "execution_count": 82,
     "metadata": {},
     "output_type": "execute_result"
    }
   ],
   "source": [
    "bin(4)"
   ]
  },
  {
   "cell_type": "code",
   "execution_count": 83,
   "id": "0c447a68-d7f8-47be-b68c-25c910bfdc36",
   "metadata": {},
   "outputs": [
    {
     "data": {
      "text/plain": [
       "'0o10'"
      ]
     },
     "execution_count": 83,
     "metadata": {},
     "output_type": "execute_result"
    }
   ],
   "source": [
    "oct(8)"
   ]
  },
  {
   "cell_type": "code",
   "execution_count": 86,
   "id": "f764c975-e6be-414d-9609-11b08152c0d7",
   "metadata": {},
   "outputs": [
    {
     "data": {
      "text/plain": [
       "'0x11'"
      ]
     },
     "execution_count": 86,
     "metadata": {},
     "output_type": "execute_result"
    }
   ],
   "source": [
    "hex(17)"
   ]
  },
  {
   "cell_type": "code",
   "execution_count": 87,
   "id": "0471a1d4-b689-4007-a662-63be622c0661",
   "metadata": {},
   "outputs": [
    {
     "data": {
      "text/plain": [
       "float"
      ]
     },
     "execution_count": 87,
     "metadata": {},
     "output_type": "execute_result"
    }
   ],
   "source": [
    "f=1.2345\n",
    "type(f)"
   ]
  },
  {
   "cell_type": "code",
   "execution_count": 88,
   "id": "8740fba7-c3da-4a3c-bb9e-27d940523efb",
   "metadata": {},
   "outputs": [
    {
     "ename": "TypeError",
     "evalue": "'float' object cannot be interpreted as an integer",
     "output_type": "error",
     "traceback": [
      "\u001b[0;31m---------------------------------------------------------------------------\u001b[0m",
      "\u001b[0;31mTypeError\u001b[0m                                 Traceback (most recent call last)",
      "Cell \u001b[0;32mIn[88], line 1\u001b[0m\n\u001b[0;32m----> 1\u001b[0m \u001b[38;5;28;43mbin\u001b[39;49m\u001b[43m(\u001b[49m\u001b[38;5;241;43m1.234\u001b[39;49m\u001b[43m)\u001b[49m\n",
      "\u001b[0;31mTypeError\u001b[0m: 'float' object cannot be interpreted as an integer"
     ]
    }
   ],
   "source": [
    "bin(1.234)"
   ]
  },
  {
   "cell_type": "code",
   "execution_count": 105,
   "id": "2b645bef-08ac-4bdd-b64c-26698ebf9956",
   "metadata": {},
   "outputs": [],
   "source": [
    "c=0b100+8j"
   ]
  },
  {
   "cell_type": "code",
   "execution_count": 106,
   "id": "1ae3ae02-e3d6-4f83-a169-d304db349ffb",
   "metadata": {},
   "outputs": [
    {
     "data": {
      "text/plain": [
       "4.0"
      ]
     },
     "execution_count": 106,
     "metadata": {},
     "output_type": "execute_result"
    }
   ],
   "source": [
    "c.real"
   ]
  },
  {
   "cell_type": "code",
   "execution_count": 107,
   "id": "dd115be7-a792-4a79-b989-8ab5eb2c977a",
   "metadata": {},
   "outputs": [
    {
     "data": {
      "text/plain": [
       "8.0"
      ]
     },
     "execution_count": 107,
     "metadata": {},
     "output_type": "execute_result"
    }
   ],
   "source": [
    "c.imag"
   ]
  },
  {
   "cell_type": "code",
   "execution_count": 108,
   "id": "1ed52773-d0db-4c99-9557-cb6d055a2300",
   "metadata": {},
   "outputs": [],
   "source": [
    "b=True"
   ]
  },
  {
   "cell_type": "code",
   "execution_count": 111,
   "id": "4a7acdbb-fef9-4c75-a9d9-1617ccb35207",
   "metadata": {},
   "outputs": [
    {
     "data": {
      "text/plain": [
       "bool"
      ]
     },
     "execution_count": 111,
     "metadata": {},
     "output_type": "execute_result"
    }
   ],
   "source": [
    "type(b)"
   ]
  },
  {
   "cell_type": "code",
   "execution_count": 112,
   "id": "1103d613-938a-4719-8cd7-38917394387f",
   "metadata": {},
   "outputs": [
    {
     "data": {
      "text/plain": [
       "2"
      ]
     },
     "execution_count": 112,
     "metadata": {},
     "output_type": "execute_result"
    }
   ],
   "source": [
    "True+True"
   ]
  },
  {
   "cell_type": "code",
   "execution_count": 113,
   "id": "61786066-ba0a-42b4-bfa3-30de8f0584d6",
   "metadata": {},
   "outputs": [
    {
     "data": {
      "text/plain": [
       "1"
      ]
     },
     "execution_count": 113,
     "metadata": {},
     "output_type": "execute_result"
    }
   ],
   "source": [
    "True+False"
   ]
  },
  {
   "cell_type": "code",
   "execution_count": 114,
   "id": "059489c7-e9ba-4c67-81ea-dd95f8aa5c0b",
   "metadata": {},
   "outputs": [
    {
     "name": "stdout",
     "output_type": "stream",
     "text": [
      "strings\n"
     ]
    }
   ],
   "source": [
    "s1=\"strings\"\n",
    "print(s1)"
   ]
  },
  {
   "cell_type": "code",
   "execution_count": 115,
   "id": "9b667023-1e63-4bff-8f59-f7330e81c309",
   "metadata": {},
   "outputs": [
    {
     "data": {
      "text/plain": [
       "str"
      ]
     },
     "execution_count": 115,
     "metadata": {},
     "output_type": "execute_result"
    }
   ],
   "source": [
    "type(s1)"
   ]
  },
  {
   "cell_type": "code",
   "execution_count": 130,
   "id": "3f1b48ab-2b26-401f-be19-f856253bd866",
   "metadata": {},
   "outputs": [
    {
     "name": "stdout",
     "output_type": "stream",
     "text": [
      "\n",
      "\"CHELSEA\".     \n",
      "football.   \n",
      "club.\n",
      "\n"
     ]
    }
   ],
   "source": [
    "print(\"\"\"\n",
    "\"CHELSEA\".     \n",
    "football.   \n",
    "club.\n",
    "\"\"\")"
   ]
  },
  {
   "cell_type": "code",
   "execution_count": 123,
   "id": "fe547cd9-a539-4e95-aaea-50af4dea91e0",
   "metadata": {},
   "outputs": [
    {
     "name": "stdout",
     "output_type": "stream",
     "text": [
      "This is the first line.\n",
      "This is the second line.\n",
      "This is the third line.\n"
     ]
    }
   ],
   "source": [
    "print(\"\"\"This is the first line.\n",
    "This is the second line.\n",
    "This is the third line.\"\"\")"
   ]
  },
  {
   "cell_type": "code",
   "execution_count": 128,
   "id": "6bb5bb2c-71a7-4cf1-a7de-e5dbcaf3c616",
   "metadata": {},
   "outputs": [
    {
     "name": "stdout",
     "output_type": "stream",
     "text": [
      "line1 \n",
      "line2 \n",
      "line3\n"
     ]
    }
   ],
   "source": [
    "print(\"line1 \\nline2 \\nline3\")"
   ]
  },
  {
   "cell_type": "code",
   "execution_count": 129,
   "id": "10634a63-40a7-49ab-a56b-bce173511e00",
   "metadata": {},
   "outputs": [
    {
     "name": "stdout",
     "output_type": "stream",
     "text": [
      " line1\n",
      "line2\n",
      "line3 \n"
     ]
    }
   ],
   "source": [
    "print(\"\"\"line1\n",
    "line2\n",
    "line3 \"\"\")"
   ]
  },
  {
   "cell_type": "code",
   "execution_count": 131,
   "id": "6e62f19f-ca22-4d62-8ad1-fd278a1902bf",
   "metadata": {},
   "outputs": [],
   "source": [
    "d=\"aswin\""
   ]
  },
  {
   "cell_type": "code",
   "execution_count": 132,
   "id": "6fa6ef62-3bb3-45b2-baf7-dc628b3c3a6a",
   "metadata": {},
   "outputs": [
    {
     "data": {
      "text/plain": [
       "'a'"
      ]
     },
     "execution_count": 132,
     "metadata": {},
     "output_type": "execute_result"
    }
   ],
   "source": [
    "d[0]"
   ]
  },
  {
   "cell_type": "code",
   "execution_count": 133,
   "id": "683d4e93-6369-49c0-a019-65abba4b0553",
   "metadata": {},
   "outputs": [
    {
     "data": {
      "text/plain": [
       "'n'"
      ]
     },
     "execution_count": 133,
     "metadata": {},
     "output_type": "execute_result"
    }
   ],
   "source": [
    "d[-1]"
   ]
  },
  {
   "cell_type": "code",
   "execution_count": 134,
   "id": "5d7a371a-0a36-4133-8b91-2a4f4a031973",
   "metadata": {},
   "outputs": [
    {
     "data": {
      "text/plain": [
       "'a'"
      ]
     },
     "execution_count": 134,
     "metadata": {},
     "output_type": "execute_result"
    }
   ],
   "source": [
    "d[-5]"
   ]
  },
  {
   "cell_type": "code",
   "execution_count": 135,
   "id": "1c7bf00f-5616-4f8f-a384-a835e584ddb9",
   "metadata": {},
   "outputs": [
    {
     "data": {
      "text/plain": [
       "5"
      ]
     },
     "execution_count": 135,
     "metadata": {},
     "output_type": "execute_result"
    }
   ],
   "source": [
    "len(d)"
   ]
  },
  {
   "cell_type": "code",
   "execution_count": 136,
   "id": "2ee5f88d-125e-4e28-b3bd-284c279426bb",
   "metadata": {},
   "outputs": [
    {
     "data": {
      "text/plain": [
       "'aswin'"
      ]
     },
     "execution_count": 136,
     "metadata": {},
     "output_type": "execute_result"
    }
   ],
   "source": [
    "d[:]"
   ]
  },
  {
   "cell_type": "code",
   "execution_count": 137,
   "id": "fa504200-2446-4cb2-94a6-d5a5edbeaedf",
   "metadata": {},
   "outputs": [
    {
     "data": {
      "text/plain": [
       "'aswi'"
      ]
     },
     "execution_count": 137,
     "metadata": {},
     "output_type": "execute_result"
    }
   ],
   "source": [
    "d[:-1]"
   ]
  },
  {
   "cell_type": "code",
   "execution_count": 138,
   "id": "f610da4a-d54b-4d80-8350-c41272c53e68",
   "metadata": {},
   "outputs": [
    {
     "data": {
      "text/plain": [
       "'aswinaswinaswin'"
      ]
     },
     "execution_count": 138,
     "metadata": {},
     "output_type": "execute_result"
    }
   ],
   "source": [
    "d*3"
   ]
  },
  {
   "cell_type": "code",
   "execution_count": 139,
   "id": "b07a744d-734f-4a03-af1d-9355890f9376",
   "metadata": {},
   "outputs": [
    {
     "data": {
      "text/plain": [
       "'aswin'"
      ]
     },
     "execution_count": 139,
     "metadata": {},
     "output_type": "execute_result"
    }
   ],
   "source": [
    "d[:40]"
   ]
  },
  {
   "cell_type": "code",
   "execution_count": 140,
   "id": "79da435f-8377-4956-8369-d086e957ffaa",
   "metadata": {},
   "outputs": [],
   "source": [
    "a='c'"
   ]
  },
  {
   "cell_type": "code",
   "execution_count": 141,
   "id": "e80ae0e1-3124-42d4-b0c7-b68d69e4405d",
   "metadata": {},
   "outputs": [
    {
     "data": {
      "text/plain": [
       "str"
      ]
     },
     "execution_count": 141,
     "metadata": {},
     "output_type": "execute_result"
    }
   ],
   "source": [
    "type(a)"
   ]
  },
  {
   "cell_type": "code",
   "execution_count": 1,
   "id": "f3c9dee2-585f-461b-9cff-b284c6195fa2",
   "metadata": {},
   "outputs": [
    {
     "data": {
      "text/plain": [
       "11"
      ]
     },
     "execution_count": 1,
     "metadata": {},
     "output_type": "execute_result"
    }
   ],
   "source": [
    "int(\"11\")"
   ]
  },
  {
   "cell_type": "code",
   "execution_count": 2,
   "id": "23739f3c-5252-4dd3-9d87-9992b548e109",
   "metadata": {},
   "outputs": [
    {
     "ename": "ValueError",
     "evalue": "invalid literal for int() with base 10: '10.34'",
     "output_type": "error",
     "traceback": [
      "\u001b[0;31m---------------------------------------------------------------------------\u001b[0m",
      "\u001b[0;31mValueError\u001b[0m                                Traceback (most recent call last)",
      "Cell \u001b[0;32mIn[2], line 1\u001b[0m\n\u001b[0;32m----> 1\u001b[0m \u001b[38;5;28;43mint\u001b[39;49m\u001b[43m(\u001b[49m\u001b[38;5;124;43m\"\u001b[39;49m\u001b[38;5;124;43m10.34\u001b[39;49m\u001b[38;5;124;43m\"\u001b[39;49m\u001b[43m)\u001b[49m\n",
      "\u001b[0;31mValueError\u001b[0m: invalid literal for int() with base 10: '10.34'"
     ]
    }
   ],
   "source": [
    "int(\"10.34\")"
   ]
  },
  {
   "cell_type": "code",
   "execution_count": 3,
   "id": "d1b29a4d-f1e9-4224-9e21-20d5a9a93ed7",
   "metadata": {},
   "outputs": [
    {
     "ename": "ValueError",
     "evalue": "invalid literal for int() with base 10: '0B1111'",
     "output_type": "error",
     "traceback": [
      "\u001b[0;31m---------------------------------------------------------------------------\u001b[0m",
      "\u001b[0;31mValueError\u001b[0m                                Traceback (most recent call last)",
      "Cell \u001b[0;32mIn[3], line 1\u001b[0m\n\u001b[0;32m----> 1\u001b[0m \u001b[38;5;28;43mint\u001b[39;49m\u001b[43m(\u001b[49m\u001b[38;5;124;43m\"\u001b[39;49m\u001b[38;5;124;43m0B1111\u001b[39;49m\u001b[38;5;124;43m\"\u001b[39;49m\u001b[43m)\u001b[49m\n",
      "\u001b[0;31mValueError\u001b[0m: invalid literal for int() with base 10: '0B1111'"
     ]
    }
   ],
   "source": [
    "int(\"0B1111\")"
   ]
  },
  {
   "cell_type": "code",
   "execution_count": 4,
   "id": "d6e19dab-3779-4ab7-8846-4d955134265e",
   "metadata": {},
   "outputs": [
    {
     "data": {
      "text/plain": [
       "10.345"
      ]
     },
     "execution_count": 4,
     "metadata": {},
     "output_type": "execute_result"
    }
   ],
   "source": [
    "float(\"10.345\")"
   ]
  },
  {
   "cell_type": "code",
   "execution_count": 6,
   "id": "4bf1c3b2-485f-4573-98c1-8f93c13dce46",
   "metadata": {},
   "outputs": [
    {
     "data": {
      "text/plain": [
       "False"
      ]
     },
     "execution_count": 6,
     "metadata": {},
     "output_type": "execute_result"
    }
   ],
   "source": [
    "bool(\"\")"
   ]
  },
  {
   "cell_type": "code",
   "execution_count": 7,
   "id": "c87b346a-4b12-40fd-b309-7113597221f2",
   "metadata": {},
   "outputs": [
    {
     "data": {
      "text/plain": [
       "True"
      ]
     },
     "execution_count": 7,
     "metadata": {},
     "output_type": "execute_result"
    }
   ],
   "source": [
    "bool(0.00000001)"
   ]
  },
  {
   "cell_type": "code",
   "execution_count": 8,
   "id": "4d6c75dd-5d10-49c7-87f3-c0c17bef4900",
   "metadata": {},
   "outputs": [
    {
     "data": {
      "text/plain": [
       "True"
      ]
     },
     "execution_count": 8,
     "metadata": {},
     "output_type": "execute_result"
    }
   ],
   "source": [
    "bool(\"0.000000000000001111\")"
   ]
  },
  {
   "cell_type": "code",
   "execution_count": 9,
   "id": "82a4e113-1922-4afa-85f6-3ba042ec5615",
   "metadata": {},
   "outputs": [
    {
     "data": {
      "text/plain": [
       "'10'"
      ]
     },
     "execution_count": 9,
     "metadata": {},
     "output_type": "execute_result"
    }
   ],
   "source": [
    "str('10')"
   ]
  },
  {
   "cell_type": "code",
   "execution_count": 10,
   "id": "3428c9d3-05b6-4e51-8565-69f6b0d7a36b",
   "metadata": {},
   "outputs": [
    {
     "data": {
      "text/plain": [
       "'True'"
      ]
     },
     "execution_count": 10,
     "metadata": {},
     "output_type": "execute_result"
    }
   ],
   "source": [
    "str(\"True\")"
   ]
  },
  {
   "cell_type": "code",
   "execution_count": 11,
   "id": "40886630-3f6e-408b-8cd3-fec2db32640f",
   "metadata": {},
   "outputs": [
    {
     "data": {
      "text/plain": [
       "'10'"
      ]
     },
     "execution_count": 11,
     "metadata": {},
     "output_type": "execute_result"
    }
   ],
   "source": [
    "str(10)"
   ]
  },
  {
   "cell_type": "code",
   "execution_count": 12,
   "id": "933cbc41-c3a0-4556-881a-a00d694889cd",
   "metadata": {},
   "outputs": [
    {
     "data": {
      "text/plain": [
       "'True'"
      ]
     },
     "execution_count": 12,
     "metadata": {},
     "output_type": "execute_result"
    }
   ],
   "source": [
    "str(True)"
   ]
  },
  {
   "cell_type": "code",
   "execution_count": 16,
   "id": "c3ba96be-3389-4360-9806-ae9eca4c7fc5",
   "metadata": {},
   "outputs": [
    {
     "name": "stdout",
     "output_type": "stream",
     "text": [
      "True\n",
      "True\n",
      "True\n"
     ]
    }
   ],
   "source": [
    "a=10\n",
    "b=10\n",
    "c=a\n",
    "print(a is b)\n",
    "print(a is c)\n",
    "print(b is c)"
   ]
  },
  {
   "cell_type": "code",
   "execution_count": 17,
   "id": "87a0cf37-f5f9-419a-ad6c-0b9b24b09580",
   "metadata": {},
   "outputs": [
    {
     "data": {
      "text/plain": [
       "9772104"
      ]
     },
     "execution_count": 17,
     "metadata": {},
     "output_type": "execute_result"
    }
   ],
   "source": [
    "id(a)"
   ]
  },
  {
   "cell_type": "code",
   "execution_count": 18,
   "id": "9f8f5bbf-ab11-49fc-a2b6-e6fd7eeaa87c",
   "metadata": {},
   "outputs": [
    {
     "data": {
      "text/plain": [
       "9772104"
      ]
     },
     "execution_count": 18,
     "metadata": {},
     "output_type": "execute_result"
    }
   ],
   "source": [
    "id(b)"
   ]
  },
  {
   "cell_type": "code",
   "execution_count": 19,
   "id": "2e8ac096-f0d9-488f-b1c9-f6a2fd7562cb",
   "metadata": {},
   "outputs": [
    {
     "data": {
      "text/plain": [
       "9772104"
      ]
     },
     "execution_count": 19,
     "metadata": {},
     "output_type": "execute_result"
    }
   ],
   "source": [
    "id(c)"
   ]
  },
  {
   "cell_type": "code",
   "execution_count": 20,
   "id": "42ffcc09-17e8-48ec-af9b-f504428f3670",
   "metadata": {},
   "outputs": [
    {
     "data": {
      "text/plain": [
       "False"
      ]
     },
     "execution_count": 20,
     "metadata": {},
     "output_type": "execute_result"
    }
   ],
   "source": [
    "a=10+5j\n",
    "b=10+5j\n",
    "a is b"
   ]
  },
  {
   "cell_type": "code",
   "execution_count": 21,
   "id": "15da2d1d-ed7d-46e2-ad2c-6d09f54bb51b",
   "metadata": {},
   "outputs": [
    {
     "name": "stdout",
     "output_type": "stream",
     "text": [
      "140390204675216\n",
      "140390204675920\n"
     ]
    }
   ],
   "source": [
    "print(id(a))\n",
    "print(id(b))"
   ]
  },
  {
   "cell_type": "code",
   "execution_count": 29,
   "id": "a7114a60-865e-428c-8699-45d3d216b21b",
   "metadata": {},
   "outputs": [
    {
     "name": "stdout",
     "output_type": "stream",
     "text": [
      "True\n",
      "True\n",
      "True\n",
      "True\n"
     ]
    }
   ],
   "source": [
    "a='durga'\n",
    "b='durga'\n",
    "c='lakshmi'\n",
    "c=a\n",
    "print(a is b)\n",
    "print(b is c)\n",
    "print(a is c)\n",
    "print(b==c)"
   ]
  },
  {
   "cell_type": "code",
   "execution_count": 44,
   "id": "0e944371-c869-44dd-a4aa-788a110f70d0",
   "metadata": {},
   "outputs": [
    {
     "name": "stdout",
     "output_type": "stream",
     "text": [
      "140390203510592\n",
      "140390203485696\n",
      "<class 'list'>\n",
      "False\n",
      "True\n",
      "False\n",
      "True\n",
      "True\n",
      "True\n"
     ]
    }
   ],
   "source": [
    "A=[1,2,3]\n",
    "B=[1,2,3]\n",
    "C=A\n",
    "print(id(A))\n",
    "print(id(B))\n",
    "print(type(A))\n",
    "print(A is B)\n",
    "print(A == B)\n",
    "print(B is C)\n",
    "print(B == C)\n",
    "print(C == A)\n",
    "print(C is A)"
   ]
  },
  {
   "cell_type": "code",
   "execution_count": 33,
   "id": "7141694b-1a51-4dd4-a7b0-166285645ab1",
   "metadata": {},
   "outputs": [
    {
     "data": {
      "text/plain": [
       "(1+2j)"
      ]
     },
     "execution_count": 33,
     "metadata": {},
     "output_type": "execute_result"
    }
   ],
   "source": [
    "complex(1,2)"
   ]
  },
  {
   "cell_type": "code",
   "execution_count": 34,
   "id": "ecee10c2-5e98-43fe-aecb-5dd1c2fb18fc",
   "metadata": {},
   "outputs": [
    {
     "ename": "TypeError",
     "evalue": "complex() second arg can't be a string",
     "output_type": "error",
     "traceback": [
      "\u001b[0;31m---------------------------------------------------------------------------\u001b[0m",
      "\u001b[0;31mTypeError\u001b[0m                                 Traceback (most recent call last)",
      "Cell \u001b[0;32mIn[34], line 1\u001b[0m\n\u001b[0;32m----> 1\u001b[0m \u001b[38;5;28;43mcomplex\u001b[39;49m\u001b[43m(\u001b[49m\u001b[38;5;241;43m2\u001b[39;49m\u001b[43m,\u001b[49m\u001b[38;5;124;43m'\u001b[39;49m\u001b[38;5;124;43m4\u001b[39;49m\u001b[38;5;124;43m'\u001b[39;49m\u001b[43m)\u001b[49m\n",
      "\u001b[0;31mTypeError\u001b[0m: complex() second arg can't be a string"
     ]
    }
   ],
   "source": [
    "complex(2,'4')"
   ]
  },
  {
   "cell_type": "code",
   "execution_count": 41,
   "id": "4949e4b4-b0c6-44c8-ac9a-797b7f2b4747",
   "metadata": {},
   "outputs": [
    {
     "ename": "ValueError",
     "evalue": "bytes must be in range(0, 256)",
     "output_type": "error",
     "traceback": [
      "\u001b[0;31m---------------------------------------------------------------------------\u001b[0m",
      "\u001b[0;31mValueError\u001b[0m                                Traceback (most recent call last)",
      "Cell \u001b[0;32mIn[41], line 1\u001b[0m\n\u001b[0;32m----> 1\u001b[0m b\u001b[38;5;241m=\u001b[39m\u001b[38;5;28;43mbytes\u001b[39;49m\u001b[43m(\u001b[49m\u001b[43m[\u001b[49m\u001b[38;5;241;43m255\u001b[39;49m\u001b[43m \u001b[49m\u001b[43m,\u001b[49m\u001b[38;5;241;43m257\u001b[39;49m\u001b[43m]\u001b[49m\u001b[43m)\u001b[49m\n\u001b[1;32m      2\u001b[0m \u001b[38;5;28mprint\u001b[39m(b)\n",
      "\u001b[0;31mValueError\u001b[0m: bytes must be in range(0, 256)"
     ]
    }
   ],
   "source": [
    "b=bytes([255 ,257])\n",
    "print(b)"
   ]
  },
  {
   "cell_type": "code",
   "execution_count": 45,
   "id": "b9854410-5715-4971-bc05-fd22735839b7",
   "metadata": {},
   "outputs": [],
   "source": [
    "a=(10,2,3,4,5)\n",
    "b=(3,4,6,6,7,5)\n",
    "c=(10,2,3,4,5)"
   ]
  },
  {
   "cell_type": "code",
   "execution_count": 46,
   "id": "3c90e136-1858-419f-98ec-381f4a549a8d",
   "metadata": {},
   "outputs": [
    {
     "name": "stdout",
     "output_type": "stream",
     "text": [
      "140390203534176\n",
      "140390203588864\n",
      "140390203534576\n"
     ]
    }
   ],
   "source": [
    "print(id(a))\n",
    "print(id(b))\n",
    "print(id(c))"
   ]
  },
  {
   "cell_type": "code",
   "execution_count": 49,
   "id": "e50a95c4-9a94-4b89-afed-acad3afcc246",
   "metadata": {},
   "outputs": [
    {
     "data": {
      "text/plain": [
       "<enumerate at 0x7faf244e7790>"
      ]
     },
     "execution_count": 49,
     "metadata": {},
     "output_type": "execute_result"
    }
   ],
   "source": [
    "en=enumerate(a)\n",
    "en"
   ]
  },
  {
   "cell_type": "code",
   "execution_count": 50,
   "id": "e064dd90-1a61-4842-b5e2-74c986529687",
   "metadata": {},
   "outputs": [
    {
     "name": "stdout",
     "output_type": "stream",
     "text": [
      "0 10\n",
      "1 2\n",
      "2 3\n",
      "3 4\n",
      "4 5\n"
     ]
    }
   ],
   "source": [
    "for i,char in en:\n",
    "    print(i,char)"
   ]
  },
  {
   "cell_type": "code",
   "execution_count": 57,
   "id": "5f5d9435-8098-4be4-b59d-c1dc88c06ff0",
   "metadata": {},
   "outputs": [
    {
     "name": "stdout",
     "output_type": "stream",
     "text": [
      "range(10, 20, -1)\n"
     ]
    }
   ],
   "source": [
    "r=(range(10,20,-1))\n",
    "print(r)"
   ]
  },
  {
   "cell_type": "code",
   "execution_count": 58,
   "id": "1ee6ee8f-8834-4a67-b7b6-6406cf96fce3",
   "metadata": {},
   "outputs": [],
   "source": [
    "s={'a',1,3,4,'b','d'}"
   ]
  },
  {
   "cell_type": "code",
   "execution_count": 62,
   "id": "f2272386-8fea-446e-ad91-8e627ae65dfe",
   "metadata": {},
   "outputs": [],
   "source": [
    "s.add(100)"
   ]
  },
  {
   "cell_type": "code",
   "execution_count": 63,
   "id": "1d08e4f2-210d-492d-9917-0671816a298e",
   "metadata": {},
   "outputs": [
    {
     "data": {
      "text/plain": [
       "{1, 100, 3, 4, 'a', 'b', 'd'}"
      ]
     },
     "execution_count": 63,
     "metadata": {},
     "output_type": "execute_result"
    }
   ],
   "source": [
    "s"
   ]
  },
  {
   "cell_type": "code",
   "execution_count": 64,
   "id": "f6de4562-f1f1-40c6-a6f1-a3a66e0a8ffb",
   "metadata": {},
   "outputs": [],
   "source": [
    "s.remove('a')"
   ]
  },
  {
   "cell_type": "code",
   "execution_count": 65,
   "id": "e04450d2-2b4a-434a-b4e9-cc3212ef4609",
   "metadata": {},
   "outputs": [
    {
     "data": {
      "text/plain": [
       "{1, 100, 3, 4, 'b', 'd'}"
      ]
     },
     "execution_count": 65,
     "metadata": {},
     "output_type": "execute_result"
    }
   ],
   "source": [
    "s"
   ]
  },
  {
   "cell_type": "code",
   "execution_count": 66,
   "id": "75961da4-a560-42a0-a461-b0e2013007dc",
   "metadata": {},
   "outputs": [
    {
     "data": {
      "text/plain": [
       "{101: 'a', 102: 'b', 103: 'c', 104: 'd'}"
      ]
     },
     "execution_count": 66,
     "metadata": {},
     "output_type": "execute_result"
    }
   ],
   "source": [
    "dict = {101:'a',102:'b',103:'c',104:'d'}\n",
    "dict"
   ]
  },
  {
   "cell_type": "code",
   "execution_count": 67,
   "id": "17e97dff-b4da-4ce2-9e6e-d931dffbb1b6",
   "metadata": {},
   "outputs": [
    {
     "data": {
      "text/plain": [
       "dict"
      ]
     },
     "execution_count": 67,
     "metadata": {},
     "output_type": "execute_result"
    }
   ],
   "source": [
    "type(dict)"
   ]
  },
  {
   "cell_type": "code",
   "execution_count": 68,
   "id": "ace7950e-952d-4cef-90f5-52bfd5d75471",
   "metadata": {},
   "outputs": [],
   "source": [
    "dict[101]='e'"
   ]
  },
  {
   "cell_type": "code",
   "execution_count": 69,
   "id": "d24e62fd-7d2c-49a1-b549-5ca7daef2c40",
   "metadata": {},
   "outputs": [
    {
     "data": {
      "text/plain": [
       "{101: 'e', 102: 'b', 103: 'c', 104: 'd'}"
      ]
     },
     "execution_count": 69,
     "metadata": {},
     "output_type": "execute_result"
    }
   ],
   "source": [
    "dict"
   ]
  },
  {
   "cell_type": "code",
   "execution_count": 70,
   "id": "5bc79c93-6cb5-4eb3-beec-4cb9c31fa8c7",
   "metadata": {},
   "outputs": [],
   "source": [
    "d={}\n",
    "d[1]='apple'"
   ]
  },
  {
   "cell_type": "code",
   "execution_count": 71,
   "id": "a53fb947-88f6-4f14-bfc5-11428ce3e338",
   "metadata": {},
   "outputs": [
    {
     "data": {
      "text/plain": [
       "{1: 'apple'}"
      ]
     },
     "execution_count": 71,
     "metadata": {},
     "output_type": "execute_result"
    }
   ],
   "source": [
    "d"
   ]
  },
  {
   "cell_type": "code",
   "execution_count": 72,
   "id": "72c22586-fe9b-4da2-be9a-7746c9aed8a7",
   "metadata": {},
   "outputs": [],
   "source": [
    "d[100]='ten'"
   ]
  },
  {
   "cell_type": "code",
   "execution_count": 73,
   "id": "22d76494-79ba-46e6-9a7e-d170af031af0",
   "metadata": {},
   "outputs": [
    {
     "data": {
      "text/plain": [
       "{1: 'apple', 100: 'ten'}"
      ]
     },
     "execution_count": 73,
     "metadata": {},
     "output_type": "execute_result"
    }
   ],
   "source": [
    "d"
   ]
  },
  {
   "cell_type": "code",
   "execution_count": 74,
   "id": "b7a7d251-72b0-4350-adcb-71a7273533c2",
   "metadata": {},
   "outputs": [],
   "source": [
    "d[0]='zero'"
   ]
  },
  {
   "cell_type": "code",
   "execution_count": 75,
   "id": "2d8f1a89-71d6-4a5b-9d9a-e9246693080c",
   "metadata": {},
   "outputs": [
    {
     "data": {
      "text/plain": [
       "{1: 'apple', 100: 'ten', 0: 'zero'}"
      ]
     },
     "execution_count": 75,
     "metadata": {},
     "output_type": "execute_result"
    }
   ],
   "source": [
    "d"
   ]
  },
  {
   "cell_type": "code",
   "execution_count": 76,
   "id": "4a42bb22-130f-441a-b7dc-ae9392fb5f02",
   "metadata": {},
   "outputs": [],
   "source": [
    "s='apple'"
   ]
  },
  {
   "cell_type": "code",
   "execution_count": 78,
   "id": "d76d2662-f755-4de7-87fb-e98eb89b096a",
   "metadata": {},
   "outputs": [
    {
     "ename": "SyntaxError",
     "evalue": "invalid syntax (1070442570.py, line 1)",
     "output_type": "error",
     "traceback": [
      "\u001b[0;36m  Cell \u001b[0;32mIn[78], line 1\u001b[0;36m\u001b[0m\n\u001b[0;31m    s.del('p')\u001b[0m\n\u001b[0m      ^\u001b[0m\n\u001b[0;31mSyntaxError\u001b[0m\u001b[0;31m:\u001b[0m invalid syntax\n"
     ]
    }
   ],
   "source": [
    "s.del('p')"
   ]
  },
  {
   "cell_type": "code",
   "execution_count": 97,
   "id": "891dc8f3-a242-45f1-ab3d-8fe0ed022d08",
   "metadata": {},
   "outputs": [
    {
     "name": "stdout",
     "output_type": "stream",
     "text": [
      "  pushkar\n"
     ]
    }
   ],
   "source": [
    "s='aswin\\r  pushkar'\n",
    "print(s)"
   ]
  },
  {
   "cell_type": "code",
   "execution_count": 1,
   "id": "803b8950-861f-437b-98c5-cac5dec91539",
   "metadata": {},
   "outputs": [
    {
     "data": {
      "text/plain": [
       "2.0"
      ]
     },
     "execution_count": 1,
     "metadata": {},
     "output_type": "execute_result"
    }
   ],
   "source": [
    "10/5"
   ]
  },
  {
   "cell_type": "code",
   "execution_count": 2,
   "id": "130b0648",
   "metadata": {},
   "outputs": [
    {
     "data": {
      "text/plain": [
       "2"
      ]
     },
     "execution_count": 2,
     "metadata": {},
     "output_type": "execute_result"
    }
   ],
   "source": [
    "10//5"
   ]
  },
  {
   "cell_type": "code",
   "execution_count": 3,
   "id": "0ce09bcd",
   "metadata": {},
   "outputs": [
    {
     "data": {
      "text/plain": [
       "5.0"
      ]
     },
     "execution_count": 3,
     "metadata": {},
     "output_type": "execute_result"
    }
   ],
   "source": [
    "10/2.0"
   ]
  },
  {
   "cell_type": "code",
   "execution_count": 4,
   "id": "a3fdb70d",
   "metadata": {},
   "outputs": [
    {
     "data": {
      "text/plain": [
       "5.0"
      ]
     },
     "execution_count": 4,
     "metadata": {},
     "output_type": "execute_result"
    }
   ],
   "source": [
    "10//2.0"
   ]
  },
  {
   "cell_type": "code",
   "execution_count": 5,
   "id": "988a3911",
   "metadata": {},
   "outputs": [
    {
     "data": {
      "text/plain": [
       "'hamsahamsahamsa'"
      ]
     },
     "execution_count": 5,
     "metadata": {},
     "output_type": "execute_result"
    }
   ],
   "source": [
    "\"hamsa\"*3"
   ]
  },
  {
   "cell_type": "code",
   "execution_count": 6,
   "id": "f42e4da9",
   "metadata": {},
   "outputs": [
    {
     "data": {
      "text/plain": [
       "'hamsa3'"
      ]
     },
     "execution_count": 6,
     "metadata": {},
     "output_type": "execute_result"
    }
   ],
   "source": [
    "\"hamsa\"+'3'"
   ]
  },
  {
   "cell_type": "code",
   "execution_count": 7,
   "id": "39e4a5f8",
   "metadata": {},
   "outputs": [
    {
     "data": {
      "text/plain": [
       "'hamsahamsa'"
      ]
     },
     "execution_count": 7,
     "metadata": {},
     "output_type": "execute_result"
    }
   ],
   "source": [
    "2*\"hamsa\""
   ]
  },
  {
   "cell_type": "code",
   "execution_count": 8,
   "id": "887727f7",
   "metadata": {},
   "outputs": [
    {
     "ename": "TypeError",
     "evalue": "can't multiply sequence by non-int of type 'float'",
     "output_type": "error",
     "traceback": [
      "\u001b[0;31m---------------------------------------------------------------------------\u001b[0m",
      "\u001b[0;31mTypeError\u001b[0m                                 Traceback (most recent call last)",
      "Cell \u001b[0;32mIn[8], line 1\u001b[0m\n\u001b[0;32m----> 1\u001b[0m \u001b[38;5;241;43m2.5\u001b[39;49m\u001b[38;5;241;43m*\u001b[39;49m\u001b[38;5;124;43m\"\u001b[39;49m\u001b[38;5;124;43mhamsa\u001b[39;49m\u001b[38;5;124;43m\"\u001b[39;49m\n",
      "\u001b[0;31mTypeError\u001b[0m: can't multiply sequence by non-int of type 'float'"
     ]
    }
   ],
   "source": [
    "2.5*\"hamsa\""
   ]
  },
  {
   "cell_type": "code",
   "execution_count": 9,
   "id": "ccfa9281",
   "metadata": {},
   "outputs": [
    {
     "ename": "ZeroDivisionError",
     "evalue": "division by zero",
     "output_type": "error",
     "traceback": [
      "\u001b[0;31m---------------------------------------------------------------------------\u001b[0m",
      "\u001b[0;31mZeroDivisionError\u001b[0m                         Traceback (most recent call last)",
      "Cell \u001b[0;32mIn[9], line 1\u001b[0m\n\u001b[0;32m----> 1\u001b[0m \u001b[38;5;241;43m10\u001b[39;49m\u001b[38;5;241;43m/\u001b[39;49m\u001b[38;5;241;43m0\u001b[39;49m\n",
      "\u001b[0;31mZeroDivisionError\u001b[0m: division by zero"
     ]
    }
   ],
   "source": [
    "10/0"
   ]
  },
  {
   "cell_type": "code",
   "execution_count": 10,
   "id": "00496868",
   "metadata": {},
   "outputs": [
    {
     "ename": "ZeroDivisionError",
     "evalue": "float division by zero",
     "output_type": "error",
     "traceback": [
      "\u001b[0;31m---------------------------------------------------------------------------\u001b[0m",
      "\u001b[0;31mZeroDivisionError\u001b[0m                         Traceback (most recent call last)",
      "Cell \u001b[0;32mIn[10], line 1\u001b[0m\n\u001b[0;32m----> 1\u001b[0m \u001b[38;5;241;43m10.0\u001b[39;49m\u001b[38;5;241;43m/\u001b[39;49m\u001b[38;5;241;43m0\u001b[39;49m\n",
      "\u001b[0;31mZeroDivisionError\u001b[0m: float division by zero"
     ]
    }
   ],
   "source": [
    "10.0/0"
   ]
  },
  {
   "cell_type": "code",
   "execution_count": 11,
   "id": "8f2ac859",
   "metadata": {},
   "outputs": [
    {
     "data": {
      "text/plain": [
       "90.99009099009099"
      ]
     },
     "execution_count": 11,
     "metadata": {},
     "output_type": "execute_result"
    }
   ],
   "source": [
    "10.11/0.111111"
   ]
  },
  {
   "cell_type": "code",
   "execution_count": 33,
   "id": "aaf74176",
   "metadata": {},
   "outputs": [
    {
     "name": "stdout",
     "output_type": "stream",
     "text": [
      "a>b : True\n",
      "a>=b : True\n",
      "a<b : False\n",
      "a<=b : False\n",
      "a==b: False\n"
     ]
    }
   ],
   "source": [
    "a='python1'             \n",
    "b='pytgon2'    \n",
    "print('a>b :',a>b)  \n",
    "print('a>=b :',a>=b)\n",
    "print('a<b :',a<b) \n",
    "print('a<=b :',a<=b)\n",
    "print('a==b:',a==b)                                                                                                                                                                                                                                                                                                                                                                                                                                                                                                                                                                                                                                                                                                                                                                                                                                                                                                                                                                                                                                                                                                                                                     "
   ]
  },
  {
   "cell_type": "code",
   "execution_count": 22,
   "id": "a738596f",
   "metadata": {},
   "outputs": [
    {
     "ename": "TypeError",
     "evalue": "'>' not supported between instances of 'int' and 'str'",
     "output_type": "error",
     "traceback": [
      "\u001b[0;31m---------------------------------------------------------------------------\u001b[0m",
      "\u001b[0;31mTypeError\u001b[0m                                 Traceback (most recent call last)",
      "Cell \u001b[0;32mIn[22], line 1\u001b[0m\n\u001b[0;32m----> 1\u001b[0m \u001b[38;5;28mprint\u001b[39m(\u001b[38;5;241;43m10\u001b[39;49m\u001b[43m \u001b[49m\u001b[38;5;241;43m>\u001b[39;49m\u001b[43m \u001b[49m\u001b[38;5;124;43m'\u001b[39;49m\u001b[38;5;124;43mpython\u001b[39;49m\u001b[38;5;124;43m'\u001b[39;49m)\n",
      "\u001b[0;31mTypeError\u001b[0m: '>' not supported between instances of 'int' and 'str'"
     ]
    }
   ],
   "source": [
    "print(10 > 'python')"
   ]
  },
  {
   "cell_type": "code",
   "execution_count": 30,
   "id": "e08f215a",
   "metadata": {},
   "outputs": [
    {
     "name": "stdout",
     "output_type": "stream",
     "text": [
      "False\n"
     ]
    }
   ],
   "source": [
    "print('142'>'a')"
   ]
  },
  {
   "cell_type": "code",
   "execution_count": 34,
   "id": "afdd646d",
   "metadata": {},
   "outputs": [
    {
     "name": "stdout",
     "output_type": "stream",
     "text": [
      "False\n",
      "True\n",
      "True\n",
      "True\n",
      "False\n"
     ]
    }
   ],
   "source": [
    "print(True > True)\n",
    "print(True > False)\n",
    "print(True == True)\n",
    "print(10 > True)\n",
    "print( False >True)"
   ]
  },
  {
   "cell_type": "code",
   "execution_count": 35,
   "id": "a0aac6fa",
   "metadata": {},
   "outputs": [
    {
     "name": "stdout",
     "output_type": "stream",
     "text": [
      "b is greater than a\n"
     ]
    }
   ],
   "source": [
    "a=10\n",
    "b=20\n",
    "if(a>b):\n",
    "    print('a is greater than b')\n",
    "else:\n",
    "    print('b is greater than a')"
   ]
  },
  {
   "cell_type": "code",
   "execution_count": 36,
   "id": "846a79f2",
   "metadata": {},
   "outputs": [
    {
     "data": {
      "text/plain": [
       "True"
      ]
     },
     "execution_count": 36,
     "metadata": {},
     "output_type": "execute_result"
    }
   ],
   "source": [
    "10 < 20"
   ]
  },
  {
   "cell_type": "code",
   "execution_count": 37,
   "id": "7e6ad271",
   "metadata": {},
   "outputs": [
    {
     "data": {
      "text/plain": [
       "False"
      ]
     },
     "execution_count": 37,
     "metadata": {},
     "output_type": "execute_result"
    }
   ],
   "source": [
    "10 == 20"
   ]
  },
  {
   "cell_type": "code",
   "execution_count": 38,
   "id": "759057ea",
   "metadata": {},
   "outputs": [
    {
     "data": {
      "text/plain": [
       "True"
      ]
     },
     "execution_count": 38,
     "metadata": {},
     "output_type": "execute_result"
    }
   ],
   "source": [
    "10 != 20"
   ]
  },
  {
   "cell_type": "code",
   "execution_count": 39,
   "id": "eeaefb26",
   "metadata": {},
   "outputs": [
    {
     "data": {
      "text/plain": [
       "True"
      ]
     },
     "execution_count": 39,
     "metadata": {},
     "output_type": "execute_result"
    }
   ],
   "source": [
    "False == False"
   ]
  },
  {
   "cell_type": "code",
   "execution_count": 40,
   "id": "40afbf15",
   "metadata": {},
   "outputs": [
    {
     "data": {
      "text/plain": [
       "True"
      ]
     },
     "execution_count": 40,
     "metadata": {},
     "output_type": "execute_result"
    }
   ],
   "source": [
    "'python'=='python'"
   ]
  },
  {
   "cell_type": "code",
   "execution_count": 41,
   "id": "7426e9df",
   "metadata": {},
   "outputs": [
    {
     "data": {
      "text/plain": [
       "False"
      ]
     },
     "execution_count": 41,
     "metadata": {},
     "output_type": "execute_result"
    }
   ],
   "source": [
    "'python1'=='python2'"
   ]
  },
  {
   "cell_type": "code",
   "execution_count": 42,
   "id": "7fa2ccbf",
   "metadata": {},
   "outputs": [
    {
     "data": {
      "text/plain": [
       "False"
      ]
     },
     "execution_count": 42,
     "metadata": {},
     "output_type": "execute_result"
    }
   ],
   "source": [
    "'python'==5"
   ]
  },
  {
   "cell_type": "code",
   "execution_count": 43,
   "id": "0d16a04f",
   "metadata": {},
   "outputs": [
    {
     "data": {
      "text/plain": [
       "0"
      ]
     },
     "execution_count": 43,
     "metadata": {},
     "output_type": "execute_result"
    }
   ],
   "source": [
    "0"
   ]
  },
  {
   "cell_type": "code",
   "execution_count": 44,
   "id": "e3357071",
   "metadata": {},
   "outputs": [
    {
     "data": {
      "text/plain": [
       "10"
      ]
     },
     "execution_count": 44,
     "metadata": {},
     "output_type": "execute_result"
    }
   ],
   "source": [
    "10 and 10"
   ]
  },
  {
   "cell_type": "code",
   "execution_count": 45,
   "id": "1b2f9418",
   "metadata": {},
   "outputs": [
    {
     "data": {
      "text/plain": [
       "20"
      ]
     },
     "execution_count": 45,
     "metadata": {},
     "output_type": "execute_result"
    }
   ],
   "source": [
    "10 and 20"
   ]
  },
  {
   "cell_type": "code",
   "execution_count": 46,
   "id": "82356728",
   "metadata": {},
   "outputs": [
    {
     "data": {
      "text/plain": [
       "0"
      ]
     },
     "execution_count": 46,
     "metadata": {},
     "output_type": "execute_result"
    }
   ],
   "source": [
    "0 and 20"
   ]
  },
  {
   "cell_type": "code",
   "execution_count": 47,
   "id": "29cd5401",
   "metadata": {},
   "outputs": [
    {
     "data": {
      "text/plain": [
       "0"
      ]
     },
     "execution_count": 47,
     "metadata": {},
     "output_type": "execute_result"
    }
   ],
   "source": [
    "20 and 0"
   ]
  },
  {
   "cell_type": "code",
   "execution_count": 48,
   "id": "de3ddf94",
   "metadata": {},
   "outputs": [
    {
     "data": {
      "text/plain": [
       "10"
      ]
     },
     "execution_count": 48,
     "metadata": {},
     "output_type": "execute_result"
    }
   ],
   "source": [
    "20 and 10"
   ]
  },
  {
   "cell_type": "code",
   "execution_count": 49,
   "id": "1baef315",
   "metadata": {},
   "outputs": [
    {
     "data": {
      "text/plain": [
       "10"
      ]
     },
     "execution_count": 49,
     "metadata": {},
     "output_type": "execute_result"
    }
   ],
   "source": [
    "10 or 20"
   ]
  },
  {
   "cell_type": "code",
   "execution_count": 50,
   "id": "a6d8c8aa",
   "metadata": {},
   "outputs": [
    {
     "data": {
      "text/plain": [
       "20"
      ]
     },
     "execution_count": 50,
     "metadata": {},
     "output_type": "execute_result"
    }
   ],
   "source": [
    "0 or 20"
   ]
  },
  {
   "cell_type": "code",
   "execution_count": 51,
   "id": "eab78889",
   "metadata": {},
   "outputs": [
    {
     "data": {
      "text/plain": [
       "'ab'"
      ]
     },
     "execution_count": 51,
     "metadata": {},
     "output_type": "execute_result"
    }
   ],
   "source": [
    "'ab' or ''"
   ]
  },
  {
   "cell_type": "code",
   "execution_count": 52,
   "id": "ae5e476f",
   "metadata": {},
   "outputs": [
    {
     "data": {
      "text/plain": [
       "''"
      ]
     },
     "execution_count": 52,
     "metadata": {},
     "output_type": "execute_result"
    }
   ],
   "source": [
    "'ab' and ''"
   ]
  },
  {
   "cell_type": "code",
   "execution_count": 53,
   "id": "93ccc9cc",
   "metadata": {},
   "outputs": [
    {
     "data": {
      "text/plain": [
       "''"
      ]
     },
     "execution_count": 53,
     "metadata": {},
     "output_type": "execute_result"
    }
   ],
   "source": [
    "'' and 'ab'"
   ]
  },
  {
   "cell_type": "code",
   "execution_count": 54,
   "id": "1e53d355",
   "metadata": {},
   "outputs": [
    {
     "data": {
      "text/plain": [
       "False"
      ]
     },
     "execution_count": 54,
     "metadata": {},
     "output_type": "execute_result"
    }
   ],
   "source": [
    "bool('')"
   ]
  },
  {
   "cell_type": "code",
   "execution_count": 56,
   "id": "64a17f26",
   "metadata": {},
   "outputs": [
    {
     "data": {
      "text/plain": [
       "False"
      ]
     },
     "execution_count": 56,
     "metadata": {},
     "output_type": "execute_result"
    }
   ],
   "source": [
    "not 10"
   ]
  },
  {
   "cell_type": "code",
   "execution_count": 57,
   "id": "f4a6435d",
   "metadata": {},
   "outputs": [
    {
     "data": {
      "text/plain": [
       "True"
      ]
     },
     "execution_count": 57,
     "metadata": {},
     "output_type": "execute_result"
    }
   ],
   "source": [
    "not 0 "
   ]
  },
  {
   "cell_type": "code",
   "execution_count": 58,
   "id": "c315e99d",
   "metadata": {},
   "outputs": [
    {
     "data": {
      "text/plain": [
       "False"
      ]
     },
     "execution_count": 58,
     "metadata": {},
     "output_type": "execute_result"
    }
   ],
   "source": [
    "not 1"
   ]
  },
  {
   "cell_type": "code",
   "execution_count": 59,
   "id": "c8328f18",
   "metadata": {},
   "outputs": [
    {
     "data": {
      "text/plain": [
       "'python3'"
      ]
     },
     "execution_count": 59,
     "metadata": {},
     "output_type": "execute_result"
    }
   ],
   "source": [
    "'python' and 'python3'"
   ]
  },
  {
   "cell_type": "code",
   "execution_count": 60,
   "id": "6338eb1b",
   "metadata": {},
   "outputs": [
    {
     "data": {
      "text/plain": [
       "'python'"
      ]
     },
     "execution_count": 60,
     "metadata": {},
     "output_type": "execute_result"
    }
   ],
   "source": [
    "'python' or 'python3'"
   ]
  },
  {
   "cell_type": "code",
   "execution_count": 64,
   "id": "f51ea20b",
   "metadata": {},
   "outputs": [
    {
     "data": {
      "text/plain": [
       "''"
      ]
     },
     "execution_count": 64,
     "metadata": {},
     "output_type": "execute_result"
    }
   ],
   "source": [
    "'' and 'python'"
   ]
  },
  {
   "cell_type": "code",
   "execution_count": 65,
   "id": "eb81525a",
   "metadata": {},
   "outputs": [
    {
     "name": "stdout",
     "output_type": "stream",
     "text": [
      "4\n"
     ]
    }
   ],
   "source": [
    "print(4&5)"
   ]
  },
  {
   "cell_type": "code",
   "execution_count": 66,
   "id": "c8e0cd96",
   "metadata": {},
   "outputs": [
    {
     "name": "stdout",
     "output_type": "stream",
     "text": [
      "5\n"
     ]
    }
   ],
   "source": [
    "print(4|5)"
   ]
  },
  {
   "cell_type": "code",
   "execution_count": 67,
   "id": "034b1811",
   "metadata": {},
   "outputs": [
    {
     "name": "stdout",
     "output_type": "stream",
     "text": [
      "1\n"
     ]
    }
   ],
   "source": [
    "print(4^5)"
   ]
  },
  {
   "cell_type": "code",
   "execution_count": 68,
   "id": "5cf6cc54",
   "metadata": {},
   "outputs": [
    {
     "name": "stdout",
     "output_type": "stream",
     "text": [
      "2\n"
     ]
    }
   ],
   "source": [
    "a=10\n",
    "b=7\n",
    "print(a&b)"
   ]
  },
  {
   "cell_type": "code",
   "execution_count": 69,
   "id": "1c88d76e",
   "metadata": {},
   "outputs": [
    {
     "name": "stdout",
     "output_type": "stream",
     "text": [
      "-6\n"
     ]
    }
   ],
   "source": [
    " print(~5)"
   ]
  },
  {
   "cell_type": "code",
   "execution_count": 79,
   "id": "50de2828",
   "metadata": {},
   "outputs": [
    {
     "name": "stdout",
     "output_type": "stream",
     "text": [
      "3\n"
     ]
    }
   ],
   "source": [
    "x=10\n",
    "\n",
    "x//=3\n",
    "print(x)"
   ]
  },
  {
   "cell_type": "code",
   "execution_count": 94,
   "id": "36b0a9fe",
   "metadata": {},
   "outputs": [
    {
     "name": "stdout",
     "output_type": "stream",
     "text": [
      "78\n"
     ]
    }
   ],
   "source": [
    "a=int(input('Number1:'))\n",
    "b=int(input('Number2:'))\n",
    "c=int(input('Number3:'))\n",
    "max=a if (a > b and a > c) else b if b>c else c\n",
    "print(max)\n"
   ]
  },
  {
   "cell_type": "code",
   "execution_count": 96,
   "id": "f5c6c1fc",
   "metadata": {},
   "outputs": [
    {
     "name": "stdout",
     "output_type": "stream",
     "text": [
      "Both numbers are equal\n"
     ]
    }
   ],
   "source": [
    "a=int(input('Number1:'))\n",
    "b=int(input('Number2:'))\n",
    "print(\"Both numbers are equal\" if a == b else \"1 is less than 2\" if a < b else '1 is greater than 2')"
   ]
  },
  {
   "cell_type": "code",
   "execution_count": 101,
   "id": "dc5dd76e",
   "metadata": {},
   "outputs": [
    {
     "name": "stdout",
     "output_type": "stream",
     "text": [
      "I code using python\n"
     ]
    }
   ],
   "source": [
    "a='python'\n",
    "print(f\"I code using {a}\")"
   ]
  },
  {
   "cell_type": "code",
   "execution_count": 104,
   "id": "8c5d1989",
   "metadata": {},
   "outputs": [
    {
     "name": "stdout",
     "output_type": "stream",
     "text": [
      "9772104\n",
      "9772104\n"
     ]
    }
   ],
   "source": [
    "a=10\n",
    "b=10\n",
    "a is b\n",
    "print(id(a))\n",
    "print(id(b))"
   ]
  },
  {
   "cell_type": "code",
   "execution_count": 107,
   "id": "02cb9915",
   "metadata": {},
   "outputs": [
    {
     "name": "stdout",
     "output_type": "stream",
     "text": [
      "True\n",
      "140672252917440\n",
      "140672252917440\n"
     ]
    }
   ],
   "source": [
    "a='python'\n",
    "b='python'\n",
    "print(a is b)\n",
    "print(id(a))\n",
    "print(id(b))"
   ]
  },
  {
   "cell_type": "code",
   "execution_count": 110,
   "id": "c77ae486",
   "metadata": {},
   "outputs": [
    {
     "name": "stdout",
     "output_type": "stream",
     "text": [
      "False\n",
      "140672126093184\n",
      "140672126093376\n",
      "True\n"
     ]
    }
   ],
   "source": [
    "a=[1,2,3]\n",
    "b=[1,2,3]\n",
    "print(a is b)\n",
    "print(id(a))\n",
    "print(id(b))\n",
    "print(a==b)"
   ]
  },
  {
   "cell_type": "code",
   "execution_count": 120,
   "id": "cc7fea0a",
   "metadata": {},
   "outputs": [
    {
     "name": "stdout",
     "output_type": "stream",
     "text": [
      "True\n",
      "False\n",
      "True\n",
      "True\n"
     ]
    }
   ],
   "source": [
    "x='python is a programming language!!!!'\n",
    "\n",
    "print('p' in x)\n",
    "print('d' in x)\n",
    "print('!' in x)\n",
    "print(('python' in x))"
   ]
  },
  {
   "cell_type": "code",
   "execution_count": 117,
   "id": "af60e752",
   "metadata": {},
   "outputs": [
    {
     "name": "stdout",
     "output_type": "stream",
     "text": [
      "45\n"
     ]
    }
   ],
   "source": [
    "a=10\n",
    "b=30\n",
    "\n",
    "x=45 if a < b else 65 \n",
    "print(x)"
   ]
  },
  {
   "cell_type": "code",
   "execution_count": 119,
   "id": "c8360298",
   "metadata": {},
   "outputs": [
    {
     "name": "stdout",
     "output_type": "stream",
     "text": [
      "False\n"
     ]
    }
   ],
   "source": [
    "x=['sunny','bunny','chinny','pinny']\n",
    "\n",
    "print('sunnyy' in x)"
   ]
  },
  {
   "cell_type": "code",
   "execution_count": 127,
   "id": "578979b7",
   "metadata": {},
   "outputs": [],
   "source": [
    "import math as m"
   ]
  },
  {
   "cell_type": "code",
   "execution_count": 130,
   "id": "4a01e9b9",
   "metadata": {},
   "outputs": [
    {
     "data": {
      "text/plain": [
       "8.0"
      ]
     },
     "execution_count": 130,
     "metadata": {},
     "output_type": "execute_result"
    }
   ],
   "source": [
    "m.sqrt(64)"
   ]
  },
  {
   "cell_type": "code",
   "execution_count": 132,
   "id": "1739ed7b",
   "metadata": {},
   "outputs": [
    {
     "data": {
      "text/plain": [
       "3.141592653589793"
      ]
     },
     "execution_count": 132,
     "metadata": {},
     "output_type": "execute_result"
    }
   ],
   "source": [
    "m.pi"
   ]
  },
  {
   "cell_type": "code",
   "execution_count": 133,
   "id": "9be808a5",
   "metadata": {},
   "outputs": [],
   "source": [
    "from math import sqrt,pi"
   ]
  },
  {
   "cell_type": "code",
   "execution_count": 134,
   "id": "313c8029",
   "metadata": {},
   "outputs": [
    {
     "data": {
      "text/plain": [
       "10.0"
      ]
     },
     "execution_count": 134,
     "metadata": {},
     "output_type": "execute_result"
    }
   ],
   "source": [
    "sqrt(100)"
   ]
  },
  {
   "cell_type": "code",
   "execution_count": 136,
   "id": "72f2aa06",
   "metadata": {},
   "outputs": [
    {
     "name": "stdout",
     "output_type": "stream",
     "text": [
      "3.141592653589793\n"
     ]
    }
   ],
   "source": [
    "print(pi)"
   ]
  },
  {
   "cell_type": "code",
   "execution_count": 137,
   "id": "bdbe976b",
   "metadata": {},
   "outputs": [
    {
     "data": {
      "text/plain": [
       "3.141592653589793"
      ]
     },
     "execution_count": 137,
     "metadata": {},
     "output_type": "execute_result"
    }
   ],
   "source": [
    "math.pi"
   ]
  },
  {
   "cell_type": "code",
   "execution_count": 138,
   "id": "24d5af8a",
   "metadata": {},
   "outputs": [
    {
     "data": {
      "text/plain": [
       "3.3333333333333335"
      ]
     },
     "execution_count": 138,
     "metadata": {},
     "output_type": "execute_result"
    }
   ],
   "source": [
    "10/3"
   ]
  },
  {
   "cell_type": "code",
   "execution_count": 141,
   "id": "87892b9e",
   "metadata": {},
   "outputs": [
    {
     "data": {
      "text/plain": [
       "2"
      ]
     },
     "execution_count": 141,
     "metadata": {},
     "output_type": "execute_result"
    }
   ],
   "source": [
    "m.trunc(10/4)"
   ]
  },
  {
   "cell_type": "code",
   "execution_count": 142,
   "id": "f0f42ff2",
   "metadata": {},
   "outputs": [
    {
     "data": {
      "text/plain": [
       "12"
      ]
     },
     "execution_count": 142,
     "metadata": {},
     "output_type": "execute_result"
    }
   ],
   "source": [
    "m.trunc(100/8)"
   ]
  },
  {
   "cell_type": "code",
   "execution_count": 151,
   "id": "16b86463",
   "metadata": {},
   "outputs": [],
   "source": [
    "def area_circle(r):\n",
    "    pi = math.pi\n",
    "    area = pi*r**2\n",
    "    return math.trunc(area)"
   ]
  },
  {
   "cell_type": "code",
   "execution_count": 152,
   "id": "9d9201a7",
   "metadata": {},
   "outputs": [
    {
     "data": {
      "text/plain": [
       "804"
      ]
     },
     "execution_count": 152,
     "metadata": {},
     "output_type": "execute_result"
    }
   ],
   "source": [
    "area_circle(16)"
   ]
  },
  {
   "cell_type": "code",
   "execution_count": 155,
   "id": "48f35506",
   "metadata": {},
   "outputs": [
    {
     "name": "stdout",
     "output_type": "stream",
     "text": [
      "num:23\n",
      "<class 'str'>\n"
     ]
    }
   ],
   "source": [
    "num = input('Enter number:')\n",
    "print(f'num:{num}')\n",
    "print(type(num))"
   ]
  },
  {
   "cell_type": "code",
   "execution_count": 154,
   "id": "10b5c957",
   "metadata": {},
   "outputs": [
    {
     "data": {
      "text/plain": [
       "str"
      ]
     },
     "execution_count": 154,
     "metadata": {},
     "output_type": "execute_result"
    }
   ],
   "source": [
    "type(num)"
   ]
  },
  {
   "cell_type": "code",
   "execution_count": 157,
   "id": "5a3d8e0c",
   "metadata": {},
   "outputs": [
    {
     "name": "stdout",
     "output_type": "stream",
     "text": [
      "79\n"
     ]
    }
   ],
   "source": [
    "num1 = int(input('Enter number1:'))\n",
    "num2 = int(input('Enter number2:'))\n",
    "\n",
    "num = num1+num2\n",
    "print(num)"
   ]
  },
  {
   "cell_type": "code",
   "execution_count": 158,
   "id": "a47769f3",
   "metadata": {},
   "outputs": [
    {
     "name": "stdout",
     "output_type": "stream",
     "text": [
      "The sum: 90\n"
     ]
    }
   ],
   "source": [
    "print('The sum:',int(input('Enter number1:'))+int(input('Enter number2:')))"
   ]
  },
  {
   "cell_type": "code",
   "execution_count": 173,
   "id": "d7266be0",
   "metadata": {},
   "outputs": [
    {
     "name": "stdout",
     "output_type": "stream",
     "text": [
      "Product: 242\n"
     ]
    }
   ],
   "source": [
    "a,b =  [int(x) for x in input('Enter 2 Numbers:').split(',')]\n",
    "print('Product:',a*b)"
   ]
  },
  {
   "cell_type": "code",
   "execution_count": 182,
   "id": "f518e32b",
   "metadata": {},
   "outputs": [
    {
     "ename": "ValueError",
     "evalue": "invalid literal for int() with base 10: ' '",
     "output_type": "error",
     "traceback": [
      "\u001b[0;31m---------------------------------------------------------------------------\u001b[0m",
      "\u001b[0;31mValueError\u001b[0m                                Traceback (most recent call last)",
      "Cell \u001b[0;32mIn[182], line 1\u001b[0m\n\u001b[0;32m----> 1\u001b[0m num \u001b[38;5;241m=\u001b[39m [\u001b[38;5;28;43mint\u001b[39;49m\u001b[43m(\u001b[49m\u001b[43mx\u001b[49m\u001b[43m)\u001b[49m \u001b[38;5;28;01mfor\u001b[39;00m x \u001b[38;5;129;01min\u001b[39;00m \u001b[38;5;28minput\u001b[39m(\u001b[38;5;124m'\u001b[39m\u001b[38;5;124mEnter 4 numbers:\u001b[39m\u001b[38;5;124m'\u001b[39m\u001b[38;5;241m.\u001b[39msplit())]\n\u001b[1;32m      2\u001b[0m \u001b[38;5;28mprint\u001b[39m(num)\n\u001b[1;32m      3\u001b[0m square\u001b[38;5;241m=\u001b[39m[]\n",
      "\u001b[0;31mValueError\u001b[0m: invalid literal for int() with base 10: ' '"
     ]
    }
   ],
   "source": [
    "num = [int(x) for x in input('Enter 4 numbers:'.split())]\n",
    "print(num)\n",
    "square=[]\n",
    "for x in num:\n",
    "    sq=x**2\n",
    "    square.append(sq)\n",
    "\n",
    "print(square)\n"
   ]
  },
  {
   "cell_type": "code",
   "execution_count": 187,
   "id": "a2155758",
   "metadata": {},
   "outputs": [
    {
     "data": {
      "text/plain": [
       "[4, 16, 36, 64]"
      ]
     },
     "execution_count": 187,
     "metadata": {},
     "output_type": "execute_result"
    }
   ],
   "source": [
    "square= [x**2 for x in range(1,10) if x%2==0]\n",
    "square"
   ]
  },
  {
   "cell_type": "code",
   "execution_count": 192,
   "id": "0f62c275",
   "metadata": {},
   "outputs": [
    {
     "data": {
      "text/plain": [
       "[[1, 2, 3, 4, 5, 6, 7, 8, 9, 10],\n",
       " [3, 6, 9, 12, 15, 18, 21, 24, 27, 30],\n",
       " [5, 10, 15, 20, 25, 30, 35, 40, 45, 50],\n",
       " [7, 14, 21, 28, 35, 42, 49, 56, 63, 70],\n",
       " [9, 18, 27, 36, 45, 54, 63, 72, 81, 90],\n",
       " [11, 22, 33, 44, 55, 66, 77, 88, 99, 110],\n",
       " [13, 26, 39, 52, 65, 78, 91, 104, 117, 130],\n",
       " [15, 30, 45, 60, 75, 90, 105, 120, 135, 150],\n",
       " [17, 34, 51, 68, 85, 102, 119, 136, 153, 170],\n",
       " [19, 38, 57, 76, 95, 114, 133, 152, 171, 190],\n",
       " [21, 42, 63, 84, 105, 126, 147, 168, 189, 210],\n",
       " [23, 46, 69, 92, 115, 138, 161, 184, 207, 230],\n",
       " [25, 50, 75, 100, 125, 150, 175, 200, 225, 250],\n",
       " [27, 54, 81, 108, 135, 162, 189, 216, 243, 270],\n",
       " [29, 58, 87, 116, 145, 174, 203, 232, 261, 290],\n",
       " [31, 62, 93, 124, 155, 186, 217, 248, 279, 310],\n",
       " [33, 66, 99, 132, 165, 198, 231, 264, 297, 330],\n",
       " [35, 70, 105, 140, 175, 210, 245, 280, 315, 350],\n",
       " [37, 74, 111, 148, 185, 222, 259, 296, 333, 370],\n",
       " [39, 78, 117, 156, 195, 234, 273, 312, 351, 390],\n",
       " [41, 82, 123, 164, 205, 246, 287, 328, 369, 410],\n",
       " [43, 86, 129, 172, 215, 258, 301, 344, 387, 430],\n",
       " [45, 90, 135, 180, 225, 270, 315, 360, 405, 450],\n",
       " [47, 94, 141, 188, 235, 282, 329, 376, 423, 470],\n",
       " [49, 98, 147, 196, 245, 294, 343, 392, 441, 490],\n",
       " [51, 102, 153, 204, 255, 306, 357, 408, 459, 510],\n",
       " [53, 106, 159, 212, 265, 318, 371, 424, 477, 530],\n",
       " [55, 110, 165, 220, 275, 330, 385, 440, 495, 550],\n",
       " [57, 114, 171, 228, 285, 342, 399, 456, 513, 570],\n",
       " [59, 118, 177, 236, 295, 354, 413, 472, 531, 590],\n",
       " [61, 122, 183, 244, 305, 366, 427, 488, 549, 610],\n",
       " [63, 126, 189, 252, 315, 378, 441, 504, 567, 630],\n",
       " [65, 130, 195, 260, 325, 390, 455, 520, 585, 650],\n",
       " [67, 134, 201, 268, 335, 402, 469, 536, 603, 670],\n",
       " [69, 138, 207, 276, 345, 414, 483, 552, 621, 690],\n",
       " [71, 142, 213, 284, 355, 426, 497, 568, 639, 710],\n",
       " [73, 146, 219, 292, 365, 438, 511, 584, 657, 730],\n",
       " [75, 150, 225, 300, 375, 450, 525, 600, 675, 750],\n",
       " [77, 154, 231, 308, 385, 462, 539, 616, 693, 770],\n",
       " [79, 158, 237, 316, 395, 474, 553, 632, 711, 790],\n",
       " [81, 162, 243, 324, 405, 486, 567, 648, 729, 810],\n",
       " [83, 166, 249, 332, 415, 498, 581, 664, 747, 830],\n",
       " [85, 170, 255, 340, 425, 510, 595, 680, 765, 850],\n",
       " [87, 174, 261, 348, 435, 522, 609, 696, 783, 870],\n",
       " [89, 178, 267, 356, 445, 534, 623, 712, 801, 890],\n",
       " [91, 182, 273, 364, 455, 546, 637, 728, 819, 910],\n",
       " [93, 186, 279, 372, 465, 558, 651, 744, 837, 930],\n",
       " [95, 190, 285, 380, 475, 570, 665, 760, 855, 950],\n",
       " [97, 194, 291, 388, 485, 582, 679, 776, 873, 970],\n",
       " [99, 198, 297, 396, 495, 594, 693, 792, 891, 990]]"
      ]
     },
     "execution_count": 192,
     "metadata": {},
     "output_type": "execute_result"
    }
   ],
   "source": [
    "mul_tabl=[[x*y for y in range(1,11)] for x in range(1,101) if x % 2==1]\n",
    "mul_tabl"
   ]
  },
  {
   "cell_type": "code",
   "execution_count": 207,
   "id": "04e05671",
   "metadata": {},
   "outputs": [
    {
     "name": "stdout",
     "output_type": "stream",
     "text": [
      "['1', '2', '3']\n"
     ]
    }
   ],
   "source": [
    "print(([x for x in input('Ente 3 numbers:').split(',')]))\n",
    "a,b,c=[x for x in input('Ente 3 numbers:').split(',')]"
   ]
  },
  {
   "cell_type": "code",
   "execution_count": 209,
   "id": "57eccbd7",
   "metadata": {},
   "outputs": [
    {
     "data": {
      "text/plain": [
       "60"
      ]
     },
     "execution_count": 209,
     "metadata": {},
     "output_type": "execute_result"
    }
   ],
   "source": [
    "x=eval(\"10+20+30\")\n",
    "x"
   ]
  },
  {
   "cell_type": "code",
   "execution_count": 215,
   "id": "8e65634f",
   "metadata": {},
   "outputs": [
    {
     "name": "stdout",
     "output_type": "stream",
     "text": [
      "[5.0, 60]\n",
      "<class 'list'>\n"
     ]
    }
   ],
   "source": [
    "x=eval('[10*3/6,10+20+30]')\n",
    "print(x)\n",
    "print(type(x))"
   ]
  },
  {
   "cell_type": "code",
   "execution_count": 223,
   "id": "737b9391",
   "metadata": {},
   "outputs": [
    {
     "data": {
      "text/plain": [
       "[b'1', b'2', b'3']"
      ]
     },
     "execution_count": 223,
     "metadata": {},
     "output_type": "execute_result"
    }
   ],
   "source": [
    "b'1|2|3'.split(b'|')"
   ]
  },
  {
   "cell_type": "code",
   "execution_count": 230,
   "id": "bd80eafc",
   "metadata": {},
   "outputs": [
    {
     "name": "stdout",
     "output_type": "stream",
     "text": [
      "<class 'list'>\n"
     ]
    }
   ],
   "source": [
    "from sys import argv\n",
    "print(type(argv))"
   ]
  },
  {
   "cell_type": "code",
   "execution_count": 233,
   "id": "721bfad0",
   "metadata": {},
   "outputs": [
    {
     "name": "stdout",
     "output_type": "stream",
     "text": [
      "2\n",
      "['/home/aswinpushkar11/miniconda3/envs/python-env/lib/python3.12/site-packages/ipykernel_launcher.py', '--f=/home/aswinpushkar11/.local/share/jupyter/runtime/kernel-v35fa72b6f79aa86d48edc623c6edc41679c528588.json']\n",
      "/home/aswinpushkar11/miniconda3/envs/python-env/lib/python3.12/site-packages/ipykernel_launcher.py\n",
      "--f=/home/aswinpushkar11/.local/share/jupyter/runtime/kernel-v35fa72b6f79aa86d48edc623c6edc41679c528588.json\n"
     ]
    }
   ],
   "source": [
    "print(len(argv))\n",
    "print(argv)\n",
    "for x in argv:\n",
    "    print(x)"
   ]
  },
  {
   "cell_type": "code",
   "execution_count": 235,
   "id": "3419013e",
   "metadata": {},
   "outputs": [
    {
     "name": "stdout",
     "output_type": "stream",
     "text": [
      "Hello world\n",
      "cs50\n"
     ]
    }
   ],
   "source": [
    "print(\"Hello world\\ncs50\")"
   ]
  },
  {
   "cell_type": "code",
   "execution_count": 236,
   "id": "568fef45",
   "metadata": {},
   "outputs": [
    {
     "name": "stdout",
     "output_type": "stream",
     "text": [
      "Hello world\tcs50\n"
     ]
    }
   ],
   "source": [
    "print(\"Hello world\\tcs50\")"
   ]
  },
  {
   "cell_type": "code",
   "execution_count": 238,
   "id": "579c810c",
   "metadata": {},
   "outputs": [
    {
     "name": "stdout",
     "output_type": "stream",
     "text": [
      "HelloHelloHello|"
     ]
    }
   ],
   "source": [
    "print(\"Hello\"*3,end=\"|\")"
   ]
  },
  {
   "cell_type": "code",
   "execution_count": 243,
   "id": "138ed704",
   "metadata": {},
   "outputs": [
    {
     "name": "stdout",
     "output_type": "stream",
     "text": [
      "HelloWorld\n",
      "Hello||World\n"
     ]
    }
   ],
   "source": [
    "print(\"Hello\"+\"World\")\n",
    "print(\"Hello\",\"World\",sep=\"||\")"
   ]
  },
  {
   "cell_type": "code",
   "execution_count": 251,
   "id": "de21848d",
   "metadata": {},
   "outputs": [
    {
     "name": "stdout",
     "output_type": "stream",
     "text": [
      "amg  11:11  121 I code in python\n"
     ]
    }
   ],
   "source": [
    "a,b,c='amg','11:11',121\n",
    "print(a,b,c,sep='  ',end=' ')\n",
    "print('I code in python')\n"
   ]
  },
  {
   "cell_type": "code",
   "execution_count": 255,
   "id": "c7c8afd8",
   "metadata": {},
   "outputs": [
    {
     "name": "stdout",
     "output_type": "stream",
     "text": [
      "Hello\n",
      "amg\n",
      "I love BMW\n",
      "11:11\n",
      "and my favourite number is\n",
      "121\n"
     ]
    }
   ],
   "source": [
    "a,b,c='amg','11:11',121\n",
    "\n",
    "print(\"Hello\",a,\"I love BMW\",b,\"and my favourite number is\",c,sep=\"\\n\")"
   ]
  },
  {
   "cell_type": "code",
   "execution_count": 266,
   "id": "f645344c",
   "metadata": {},
   "outputs": [
    {
     "name": "stdout",
     "output_type": "stream",
     "text": [
      "Hello amg I love BMW 11:11 and my favourite number is 121\n",
      "The value of a is amg\n"
     ]
    }
   ],
   "source": [
    "a,b,c='amg','11:11',121\n",
    "\n",
    "print(\"Hello {0} I love BMW {1} and my favourite number is {2}\".format(a,b,c))\n",
    "print(\"The value of a is %s\"%a)"
   ]
  },
  {
   "cell_type": "code",
   "execution_count": 270,
   "id": "dcb9bde4",
   "metadata": {},
   "outputs": [
    {
     "name": "stdout",
     "output_type": "stream",
     "text": [
      "Enter a valid name\n"
     ]
    }
   ],
   "source": [
    "name = input(\"Enter name:\")\n",
    "if name=='Python':\n",
    "    print('Python')\n",
    "else:\n",
    "    print('Enter a valid name')"
   ]
  },
  {
   "cell_type": "code",
   "execution_count": 275,
   "id": "6859fb27",
   "metadata": {},
   "outputs": [
    {
     "name": "stdout",
     "output_type": "stream",
     "text": [
      "The greater number is 45 lesser number is 45\n"
     ]
    }
   ],
   "source": [
    "num1=int(input('Number 1:'))\n",
    "num2=int(input('Number 2:'))\n",
    "print('The greater number is',num1,'lesser number is',num2)"
   ]
  },
  {
   "cell_type": "code",
   "execution_count": 282,
   "id": "c4b4cc95",
   "metadata": {},
   "outputs": [
    {
     "name": "stdout",
     "output_type": "stream",
     "text": [
      "The number 56 lies between 0 and 100\n"
     ]
    }
   ],
   "source": [
    "number =int(input('Number :'))\n",
    "print(f'The number {number} lies between 0 and 100' if (number <=100 and number >=1) else 'The number {number} doesnot lies between 0 and 100')"
   ]
  },
  {
   "cell_type": "code",
   "execution_count": 295,
   "id": "648f9533",
   "metadata": {},
   "outputs": [
    {
     "name": "stdout",
     "output_type": "stream",
     "text": [
      "The character present in index 1 is R\n",
      "The character present in index 2 is o\n",
      "The character present in index 3 is g\n",
      "The character present in index 4 is e\n",
      "The character present in index 5 is r\n",
      "The character present in index 6 is  \n",
      "The character present in index 7 is F\n",
      "The character present in index 8 is e\n",
      "The character present in index 9 is d\n",
      "The character present in index 10 is e\n",
      "The character present in index 11 is r\n",
      "The character present in index 12 is e\n",
      "The character present in index 13 is r\n"
     ]
    }
   ],
   "source": [
    "s='Roger Federer'\n",
    "\n",
    "for _ in range(len(s)):\n",
    "    print('The character present in index',_+1,'is',s[_])"
   ]
  },
  {
   "cell_type": "code",
   "execution_count": 300,
   "id": "0a857b7b",
   "metadata": {},
   "outputs": [
    {
     "name": "stdout",
     "output_type": "stream",
     "text": [
      "R\n",
      "\n",
      "o\n",
      "\n",
      "g\n",
      "\n",
      "e\n",
      "\n",
      "r\n",
      "\n",
      " \n",
      "\n",
      "F\n",
      "\n",
      "e\n",
      "\n",
      "d\n",
      "\n",
      "e\n",
      "\n",
      "r\n",
      "\n",
      "e\n",
      "\n",
      "r\n",
      "\n"
     ]
    }
   ],
   "source": [
    "s='Roger Federer'\n",
    "for _ in s:\n",
    "    print(_,sep='|')\n",
    "    print()"
   ]
  },
  {
   "cell_type": "code",
   "execution_count": 307,
   "id": "4aa0f626",
   "metadata": {},
   "outputs": [
    {
     "name": "stdout",
     "output_type": "stream",
     "text": [
      "1\n",
      "3\n",
      "5\n",
      "7\n",
      "9\n"
     ]
    }
   ],
   "source": [
    "for x in range(1,11,2):\n",
    "    print(x)"
   ]
  },
  {
   "cell_type": "code",
   "execution_count": 314,
   "id": "7e84667c",
   "metadata": {},
   "outputs": [
    {
     "name": "stdout",
     "output_type": "stream",
     "text": [
      "1\n",
      "3\n",
      "5\n",
      "7\n",
      "9\n",
      "11\n",
      "13\n",
      "15\n",
      "17\n",
      "19\n"
     ]
    }
   ],
   "source": [
    "for x in range(21):\n",
    "    if(x%2 == 1):\n",
    "        print(x)"
   ]
  },
  {
   "cell_type": "code",
   "execution_count": 323,
   "id": "8c26d3d1",
   "metadata": {},
   "outputs": [
    {
     "name": "stdout",
     "output_type": "stream",
     "text": [
      "<class 'str'>\n",
      "<class 'list'>\n",
      "[1,2,3,4,5,6,7]\n",
      "The sum is : 28\n"
     ]
    }
   ],
   "source": [
    "list=input('Enter a list of num')\n",
    "print(type(list))\n",
    "eval_list=eval(list)\n",
    "print(type(eval_list))\n",
    "print(list)\n",
    "sum=0\n",
    "for _ in eval_list:\n",
    "    sum+=_\n",
    "print(\"The sum is :\",sum)"
   ]
  },
  {
   "cell_type": "code",
   "execution_count": 324,
   "id": "890e9b0e",
   "metadata": {},
   "outputs": [
    {
     "name": "stdout",
     "output_type": "stream",
     "text": [
      "<class 'int'>\n",
      "135\n"
     ]
    }
   ],
   "source": [
    "x=eval(\"12+34+89\")\n",
    "print(type(x))\n",
    "print(x)"
   ]
  },
  {
   "cell_type": "code",
   "execution_count": 333,
   "id": "be89278d",
   "metadata": {},
   "outputs": [
    {
     "name": "stdout",
     "output_type": "stream",
     "text": [
      "1\n",
      "2\n",
      "3\n",
      "4\n",
      "5\n",
      "6\n",
      "7\n",
      "8\n",
      "9\n",
      "10\n"
     ]
    }
   ],
   "source": [
    "x=1\n",
    "while x <= 10:\n",
    "    print(x)\n",
    "    x=x+1\n"
   ]
  },
  {
   "cell_type": "code",
   "execution_count": 345,
   "id": "82069234",
   "metadata": {},
   "outputs": [
    {
     "name": "stdout",
     "output_type": "stream",
     "text": [
      "i_befor 1\n",
      "i_after 2\n",
      "\n",
      "i_befor 2\n",
      "i_after 3\n",
      "\n",
      "i_befor 3\n",
      "i_after 4\n",
      "\n",
      "i_befor 4\n",
      "i_after 5\n",
      "\n",
      "i_befor 5\n",
      "i_after 6\n",
      "\n",
      "sum 15\n"
     ]
    }
   ],
   "source": [
    "n = int(input('ENTER THE RANGE OF NUMBERS:'))\n",
    "i=1\n",
    "sum=0\n",
    "while i <= n:\n",
    "    sum+=i\n",
    "    print('i_befor',i)\n",
    "    i+=1\n",
    "    print('i_after',i)\n",
    "    print()\n",
    "print('sum',sum)"
   ]
  },
  {
   "cell_type": "code",
   "execution_count": 352,
   "id": "5ea970a6",
   "metadata": {},
   "outputs": [
    {
     "name": "stdout",
     "output_type": "stream",
     "text": [
      "Thanks python for the confirmation\n"
     ]
    }
   ],
   "source": [
    "name=''\n",
    "while name not in ['durga','python']:\n",
    "    name=input('Enter the name:')\n",
    "print(f'Thanks {name} for the confirmation')\n"
   ]
  },
  {
   "cell_type": "code",
   "execution_count": 359,
   "id": "1e36f049",
   "metadata": {},
   "outputs": [
    {
     "name": "stdout",
     "output_type": "stream",
     "text": [
      "*\n",
      "**\n",
      "***\n",
      "****\n",
      "*****\n",
      "******\n"
     ]
    }
   ],
   "source": [
    "for i in range(6):\n",
    "    for j in range(i+1):\n",
    "        print('*',end='')\n",
    "    print()"
   ]
  },
  {
   "cell_type": "code",
   "execution_count": 363,
   "id": "750d4544",
   "metadata": {},
   "outputs": [
    {
     "name": "stdout",
     "output_type": "stream",
     "text": [
      "\n",
      "*\n",
      "**\n",
      "***\n",
      "****\n",
      "*****\n",
      "******\n",
      "*******\n",
      "********\n",
      "*********\n"
     ]
    }
   ],
   "source": [
    "n=int(input('ENTER A NUMBER:'))\n",
    "for i in range(n):\n",
    "   print('*'*i)"
   ]
  },
  {
   "cell_type": "code",
   "execution_count": 384,
   "id": "7e0e98bc",
   "metadata": {},
   "outputs": [
    {
     "name": "stdout",
     "output_type": "stream",
     "text": [
      "       \n",
      "      * \n",
      "     * * \n",
      "    * * * \n"
     ]
    }
   ],
   "source": [
    "n=int(input('ENTER THE NUMBER:'))\n",
    "if n <= 7:\n",
    "    for i in range(n):\n",
    "            print(\" \"*(7-i),end=\"\")    \n",
    "            print('* '*i)\n",
    "else :\n",
    "      print('Enter a number less than 7')"
   ]
  },
  {
   "cell_type": "code",
   "execution_count": 387,
   "id": "26b474f0",
   "metadata": {},
   "outputs": [
    {
     "name": "stdout",
     "output_type": "stream",
     "text": [
      "0\n",
      "1\n",
      "2\n",
      "3\n",
      "4\n",
      "5\n",
      "6\n",
      "Stop the processing\n"
     ]
    }
   ],
   "source": [
    "for i in range(10):\n",
    "    if i==7:\n",
    "        \n",
    "        print('Stop the processing')\n",
    "        break\n",
    "    print(i)"
   ]
  },
  {
   "cell_type": "code",
   "execution_count": 393,
   "id": "d3a612c7",
   "metadata": {},
   "outputs": [
    {
     "name": "stdout",
     "output_type": "stream",
     "text": [
      "10\n",
      "220\n",
      "30\n",
      "You need to have a valid liscence for item 500\n",
      "You need to have a valid liscence for item 510\n",
      "50\n",
      "90\n"
     ]
    }
   ],
   "source": [
    "cart=[10,220,30,500,510,50,90]\n",
    "for i in cart:\n",
    "#print('first instance',i)\n",
    "    if i >= 250:\n",
    "        print(f'You need to have a valid liscence for item {i}')\n",
    "        continue\n",
    "    print(i)\n"
   ]
  },
  {
   "cell_type": "code",
   "execution_count": 396,
   "id": "ba2aa1b2",
   "metadata": {},
   "outputs": [
    {
     "name": "stdout",
     "output_type": "stream",
     "text": [
      "100/10 gives the 10.0\n",
      "100/20 gives the 5.0\n",
      "100/30 gives the 3.3333333333333335\n",
      "Division by Zero is not possible\n",
      "100/31 gives the 3.225806451612903\n",
      "100/90 gives the 1.1111111111111112\n",
      "Division by Zero is not possible\n"
     ]
    }
   ],
   "source": [
    "n=[10,20,30,0,31,90,0]\n",
    "for _ in n:\n",
    "    if _==0:\n",
    "        print('Division by Zero is not possible')\n",
    "        continue\n",
    "    print(f'100/{_} gives the {100/_}')"
   ]
  },
  {
   "cell_type": "code",
   "execution_count": 399,
   "id": "5d8cdf7b",
   "metadata": {},
   "outputs": [],
   "source": [
    "if True:\n",
    "    pass"
   ]
  },
  {
   "cell_type": "code",
   "execution_count": 404,
   "id": "49be7225",
   "metadata": {},
   "outputs": [],
   "source": [
    "def fu():\n",
    "    pass"
   ]
  },
  {
   "cell_type": "code",
   "execution_count": 410,
   "id": "11fa8bb3",
   "metadata": {},
   "outputs": [
    {
     "name": "stdout",
     "output_type": "stream",
     "text": [
      "9\n",
      "18\n",
      "27\n",
      "36\n",
      "45\n",
      "54\n",
      "63\n",
      "72\n",
      "81\n",
      "90\n",
      "99\n"
     ]
    }
   ],
   "source": [
    "for i in range(1,100):\n",
    "    if i%9 == 0:\n",
    "        print(i)\n",
    "      "
   ]
  },
  {
   "cell_type": "code",
   "execution_count": 417,
   "id": "36b9a308",
   "metadata": {},
   "outputs": [
    {
     "name": "stdout",
     "output_type": "stream",
     "text": [
      "first instance 10\n",
      "9772104\n"
     ]
    },
    {
     "ename": "NameError",
     "evalue": "name 'x' is not defined",
     "output_type": "error",
     "traceback": [
      "\u001b[0;31m---------------------------------------------------------------------------\u001b[0m",
      "\u001b[0;31mNameError\u001b[0m                                 Traceback (most recent call last)",
      "Cell \u001b[0;32mIn[417], line 5\u001b[0m\n\u001b[1;32m      3\u001b[0m \u001b[38;5;28mprint\u001b[39m(\u001b[38;5;28mid\u001b[39m(x))\n\u001b[1;32m      4\u001b[0m \u001b[38;5;28;01mdel\u001b[39;00m x\n\u001b[0;32m----> 5\u001b[0m \u001b[38;5;28mprint\u001b[39m(\u001b[38;5;124m'\u001b[39m\u001b[38;5;124msecond instance\u001b[39m\u001b[38;5;124m'\u001b[39m,\u001b[43mx\u001b[49m)\n\u001b[1;32m      6\u001b[0m \u001b[38;5;28mprint\u001b[39m(\u001b[38;5;28mid\u001b[39m(x))\n",
      "\u001b[0;31mNameError\u001b[0m: name 'x' is not defined"
     ]
    }
   ],
   "source": [
    "x=10\n",
    "print('first instance',x)\n",
    "print(id(x))\n",
    "del x\n",
    "print('second instance',x)\n",
    "print(id(x))"
   ]
  },
  {
   "cell_type": "code",
   "execution_count": 415,
   "id": "e758d9f3",
   "metadata": {},
   "outputs": [
    {
     "name": "stdout",
     "output_type": "stream",
     "text": [
      "python\n",
      "None\n",
      "9678144\n"
     ]
    }
   ],
   "source": [
    "s='python'\n",
    "print(s)\n",
    "s=None\n",
    "print(s)\n",
    "print(id(s))"
   ]
  },
  {
   "cell_type": "code",
   "execution_count": 432,
   "id": "60f393aa",
   "metadata": {},
   "outputs": [
    {
     "name": "stdout",
     "output_type": "stream",
     "text": [
      "a1|hello|likea1|hello|like\n"
     ]
    }
   ],
   "source": [
    "print('a1','hello','like',end='',sep='|')\n",
    "print('a1','hello','like',sep='|')"
   ]
  },
  {
   "cell_type": "code",
   "execution_count": 438,
   "id": "dc137149",
   "metadata": {},
   "outputs": [
    {
     "name": "stdout",
     "output_type": "stream",
     "text": [
      "my name is aswinpushkar and my phone number is 65.457\n"
     ]
    }
   ],
   "source": [
    "s='aswinpushkar'\n",
    "d=65.45678929374\n",
    "print(f'my name is {s} and my phone number is {d:.3f}')"
   ]
  },
  {
   "cell_type": "code",
   "execution_count": 440,
   "id": "460fd03d",
   "metadata": {},
   "outputs": [
    {
     "name": "stdout",
     "output_type": "stream",
     "text": [
      "\n",
      "I \n",
      "love\n",
      "\"Kozhikode\"\n"
     ]
    }
   ],
   "source": [
    "print('''\n",
    "I \n",
    "love\n",
    "\"Kozhikode\"''')"
   ]
  },
  {
   "cell_type": "code",
   "execution_count": 445,
   "id": "43e2c27d",
   "metadata": {},
   "outputs": [
    {
     "name": "stdout",
     "output_type": "stream",
     "text": [
      "wherever 'u' go I am there\n"
     ]
    }
   ],
   "source": [
    "print('wherever \\'u\\' go I am there')"
   ]
  },
  {
   "cell_type": "code",
   "execution_count": 447,
   "id": "97452491",
   "metadata": {},
   "outputs": [
    {
     "ename": "IndexError",
     "evalue": "string index out of range",
     "output_type": "error",
     "traceback": [
      "\u001b[0;31m---------------------------------------------------------------------------\u001b[0m",
      "\u001b[0;31mIndexError\u001b[0m                                Traceback (most recent call last)",
      "Cell \u001b[0;32mIn[447], line 3\u001b[0m\n\u001b[1;32m      1\u001b[0m s\u001b[38;5;241m=\u001b[39m\u001b[38;5;124m'\u001b[39m\u001b[38;5;124maswin pushkar\u001b[39m\u001b[38;5;124m'\u001b[39m\n\u001b[1;32m      2\u001b[0m s[\u001b[38;5;241m-\u001b[39m\u001b[38;5;241m1\u001b[39m]\n\u001b[0;32m----> 3\u001b[0m \u001b[43ms\u001b[49m\u001b[43m[\u001b[49m\u001b[38;5;241;43m20\u001b[39;49m\u001b[43m]\u001b[49m\n",
      "\u001b[0;31mIndexError\u001b[0m: string index out of range"
     ]
    }
   ],
   "source": [
    "s='aswin pushkar'\n",
    "s[-1]\n",
    "s[20]"
   ]
  },
  {
   "cell_type": "code",
   "execution_count": 451,
   "id": "48eb48e5",
   "metadata": {},
   "outputs": [
    {
     "name": "stdout",
     "output_type": "stream",
     "text": [
      "Index of char a is 0 and revers_index is -12\n",
      "Index of char s is 1 and revers_index is -11\n",
      "Index of char w is 2 and revers_index is -10\n",
      "Index of char i is 3 and revers_index is -9\n",
      "Index of char n is 4 and revers_index is -8\n",
      "Index of char p is 5 and revers_index is -7\n",
      "Index of char u is 6 and revers_index is -6\n",
      "Index of char s is 7 and revers_index is -5\n",
      "Index of char h is 8 and revers_index is -4\n",
      "Index of char k is 9 and revers_index is -3\n",
      "Index of char a is 10 and revers_index is -2\n",
      "Index of char r is 11 and revers_index is -1\n"
     ]
    }
   ],
   "source": [
    "s=input('Enter your name:')\n",
    "i=0\n",
    "for x in s:\n",
    "    print(f'Index of char {x} is {i} and revers_index is',(i-len(s)))\n",
    "    i+=1"
   ]
  },
  {
   "cell_type": "code",
   "execution_count": 472,
   "id": "3e101df9",
   "metadata": {},
   "outputs": [
    {
     "name": "stdout",
     "output_type": "stream",
     "text": [
      "44\n",
      "Index of char a is 0 and revers_index is -12\n",
      "Index of char a is 0 and revers_index is -12\n",
      "21- si xedni_srever dna 0 si a rahc fo xednI\n"
     ]
    }
   ],
   "source": [
    "s='Index of char a is 0 and revers_index is -12'\n",
    "print(len(s))\n",
    "print(s[:44:1])\n",
    "print(s[:])\n",
    "print(s[-1:-45:-1])"
   ]
  },
  {
   "cell_type": "code",
   "execution_count": 478,
   "id": "afe23b1a",
   "metadata": {},
   "outputs": [
    {
     "name": "stdout",
     "output_type": "stream",
     "text": [
      "\n",
      "j\n",
      "jihg\n"
     ]
    }
   ],
   "source": [
    "s='abcdefghij'\n",
    "print(s[3:7:-1])\n",
    "print(s[-1:-2:-1])\n",
    "print(s[-1:-5:-1])"
   ]
  },
  {
   "cell_type": "code",
   "execution_count": 484,
   "id": "cbd3feed",
   "metadata": {},
   "outputs": [
    {
     "name": "stdout",
     "output_type": "stream",
     "text": [
      "Forward direction\n",
      "Index of char a is 0 and revers_index is -12\n",
      "Reverse direction\n",
      "21- si xedni_srever dna 0 si a rahc fo xednI"
     ]
    }
   ],
   "source": [
    "s='Index of char a is 0 and revers_index is -12'\n",
    "i=0\n",
    "print('Forward direction')\n",
    "while i <len(s):\n",
    "    print(s[i],end='')\n",
    "    i+=1\n",
    "print()\n",
    "print('Reverse direction')\n",
    "n=-1\n",
    "while n >= -(len(s)):\n",
    "    print(s[n],end='')\n",
    "    n-=1\n",
    "\n"
   ]
  },
  {
   "cell_type": "code",
   "execution_count": 495,
   "id": "4abe71d1",
   "metadata": {},
   "outputs": [
    {
     "name": "stdout",
     "output_type": "stream",
     "text": [
      "Index of char a is 0 and revers_index is -12\n",
      "Forward direction:\n",
      "Index of char a is 0 and revers_index is -12\n",
      "Backward direction:\n",
      "21- si xedni_srever dna 0 si a rahc fo xednI"
     ]
    }
   ],
   "source": [
    "for i in s:\n",
    "    print(i,end='')\n",
    "print()\n",
    "print(\"Forward direction:\")\n",
    "for i in s[::]:\n",
    "    print(i,end='')\n",
    "print()\n",
    "print(\"Backward direction:\")\n",
    "for i in s[::-1]:\n",
    "    print(i,end='')"
   ]
  },
  {
   "cell_type": "code",
   "execution_count": 501,
   "id": "b1c1ea7b",
   "metadata": {},
   "outputs": [
    {
     "name": "stdout",
     "output_type": "stream",
     "text": [
      "Sub \"python\" found in String\n"
     ]
    }
   ],
   "source": [
    "s=input('Enter a newline:')\n",
    "sub=input('Enter a sub:')\n",
    "if sub in s:\n",
    "    print(f'Sub \"{sub}\" found in String')\n",
    "else:\n",
    "    print(f'Sub \"{sub}\" not found in String')"
   ]
  },
  {
   "cell_type": "code",
   "execution_count": 507,
   "id": "b9566e70",
   "metadata": {},
   "outputs": [
    {
     "name": "stdout",
     "output_type": "stream",
     "text": [
      "String1 greater than string2\n"
     ]
    }
   ],
   "source": [
    "s1=input('Enter first String')\n",
    "s2=input('Enter second String')\n",
    "\n",
    "if s1==s2:\n",
    "    print('Both strings are equal')\n",
    "elif s1 > s2:\n",
    "    print('String1 greater than string2')\n",
    "else:\n",
    "    print('String2 greater than string1')\n"
   ]
  },
  {
   "cell_type": "code",
   "execution_count": 517,
   "id": "a19da109",
   "metadata": {},
   "outputs": [
    {
     "name": "stdout",
     "output_type": "stream",
     "text": [
      "52\n",
      "12\n",
      "52\n",
      "40\n",
      "52\n",
      "24\n",
      "52\n"
     ]
    }
   ],
   "source": [
    "s=input('Enter you name')\n",
    "print(len(s))\n",
    "s_strip=s.strip()\n",
    "print(len(s_strip))\n",
    "print(len(s))\n",
    "s_lstrip=s.lstrip()\n",
    "print(len(s_lstrip))\n",
    "print(len(s))\n",
    "s_rstrip=s.rstrip()\n",
    "print(len(s_rstrip))\n",
    "print(len(s))"
   ]
  },
  {
   "cell_type": "code",
   "execution_count": 527,
   "id": "a35a6464",
   "metadata": {},
   "outputs": [
    {
     "name": "stdout",
     "output_type": "stream",
     "text": [
      "I write code in Python\n"
     ]
    },
    {
     "data": {
      "text/plain": [
       "8"
      ]
     },
     "execution_count": 527,
     "metadata": {},
     "output_type": "execute_result"
    }
   ],
   "source": [
    "s='I write code in Python'\n",
    "sub=input('Enter sub:')\n",
    "print(s)\n",
    "s.find(sub,8)"
   ]
  },
  {
   "cell_type": "code",
   "execution_count": 533,
   "id": "ac93c001",
   "metadata": {},
   "outputs": [
    {
     "name": "stdout",
     "output_type": "stream",
     "text": [
      "I write code in Python\n",
      "16\n",
      "String found\n"
     ]
    }
   ],
   "source": [
    "s='I write code in Python'\n",
    "sub=input('Enter sub:')\n",
    "print(s)\n",
    "s.index(sub)\n",
    "try:\n",
    "    print(s.index(sub))\n",
    "\n",
    "except ValueError:\n",
    "    print('String not found')\n",
    "\n",
    "else:\n",
    "    print('String found')\n",
    "\n",
    "\n"
   ]
  },
  {
   "cell_type": "code",
   "execution_count": 540,
   "id": "85ebe240",
   "metadata": {},
   "outputs": [],
   "source": [
    "s='abababababababa'\n",
    "sub='ab'\n",
    "n=0\n",
    "for i in range(len(s)):\n",
    "    if s[i]==sub:\n",
    "        print(f'The position of \"{sub}\" is {n}')\n",
    "        n+=1\n",
    "    else:\n",
    "        n+=1\n",
    "    "
   ]
  },
  {
   "cell_type": "code",
   "execution_count": 541,
   "id": "6d4f3e70",
   "metadata": {},
   "outputs": [
    {
     "name": "stdout",
     "output_type": "stream",
     "text": [
      "hello world\n"
     ]
    }
   ],
   "source": [
    "print('hello world')"
   ]
  },
  {
   "cell_type": "code",
   "execution_count": 548,
   "id": "3ad5b806",
   "metadata": {},
   "outputs": [
    {
     "name": "stdout",
     "output_type": "stream",
     "text": [
      "s: abdbfbjkkjjldffddfigiig\n",
      "sub: ii\n",
      "Position of the SUB:20\n",
      "Total number of occurrence 1\n"
     ]
    }
   ],
   "source": [
    "s=input('Enter a string')\n",
    "print('s:',s)\n",
    "sub=input('Enter a substring')\n",
    "print('sub:',sub)\n",
    "flag = False\n",
    "\n",
    "n=len(s)\n",
    "count=0\n",
    "while True:pos=-1\n",
    "    pos=s.find(sub,pos+1,n)\n",
    "    \n",
    "    if pos == -1:\n",
    "        break\n",
    "    count+=1\n",
    "    print(f'Position of the SUB:{pos}')\n",
    "print('Total number of occurrence',count)\n"
   ]
  },
  {
   "cell_type": "code",
   "execution_count": 549,
   "id": "f86f242d",
   "metadata": {},
   "outputs": [
    {
     "data": {
      "text/plain": [
       "1"
      ]
     },
     "execution_count": 549,
     "metadata": {},
     "output_type": "execute_result"
    }
   ],
   "source": [
    "s.count(sub)"
   ]
  },
  {
   "cell_type": "code",
   "execution_count": 550,
   "id": "1ad915ac",
   "metadata": {},
   "outputs": [
    {
     "data": {
      "text/plain": [
       "0"
      ]
     },
     "execution_count": 550,
     "metadata": {},
     "output_type": "execute_result"
    }
   ],
   "source": [
    "s.count(sub,1,11)"
   ]
  },
  {
   "cell_type": "code",
   "execution_count": 551,
   "id": "453f4343",
   "metadata": {},
   "outputs": [
    {
     "data": {
      "text/plain": [
       "0"
      ]
     },
     "execution_count": 551,
     "metadata": {},
     "output_type": "execute_result"
    }
   ],
   "source": [
    "s.count(sub,10,21)"
   ]
  },
  {
   "cell_type": "code",
   "execution_count": 554,
   "id": "1aca4f51",
   "metadata": {},
   "outputs": [
    {
     "name": "stdout",
     "output_type": "stream",
     "text": [
      "abbbabbabbabbaaaabbabababbbaa\n",
      "140671630721152\n",
      "bbbbbbbbbbbbbbbbbbbbbbbbbbbbb\n",
      "140671599303920\n"
     ]
    }
   ],
   "source": [
    "s='abbbabbabbabbaaaabbabababbbaa'\n",
    "print(s)\n",
    "print(id(s))\n",
    "s1=s.replace('a','b')\n",
    "print(s1)\n",
    "print(id(s1))\n"
   ]
  },
  {
   "cell_type": "code",
   "execution_count": 564,
   "id": "92100be0",
   "metadata": {},
   "outputs": [
    {
     "data": {
      "text/plain": [
       "['I', 'code', 'in', '6python']"
      ]
     },
     "execution_count": 564,
     "metadata": {},
     "output_type": "execute_result"
    }
   ],
   "source": [
    "s='I_code_in_6python'\n",
    "m=s.split('_')\n",
    "m"
   ]
  },
  {
   "cell_type": "code",
   "execution_count": 567,
   "id": "4f207c3d",
   "metadata": {},
   "outputs": [
    {
     "name": "stdout",
     "output_type": "stream",
     "text": [
      "123-455-666\n",
      "140671370503600\n",
      "['123', '455', '666']\n",
      "140671627374080\n"
     ]
    }
   ],
   "source": [
    "s='123-455-666'\n",
    "print(s)\n",
    "print(id(s))\n",
    "s1 = s.split('-')\n",
    "print(s1)\n",
    "print(id(s1))"
   ]
  },
  {
   "cell_type": "code",
   "execution_count": 576,
   "id": "c69963e6",
   "metadata": {},
   "outputs": [
    {
     "data": {
      "text/plain": [
       "'I code in python'"
      ]
     },
     "execution_count": 576,
     "metadata": {},
     "output_type": "execute_result"
    }
   ],
   "source": [
    "l=['I','code','in','python']\n",
    "l1=' '.join(l)\n",
    "l1"
   ]
  },
  {
   "cell_type": "code",
   "execution_count": 581,
   "id": "e07d9b91",
   "metadata": {},
   "outputs": [
    {
     "data": {
      "text/plain": [
       "'HYD[:]DXB[:]BLR[:]MUM'"
      ]
     },
     "execution_count": 581,
     "metadata": {},
     "output_type": "execute_result"
    }
   ],
   "source": [
    "L=('HYD','DXB','BLR','MUM')\n",
    "'[:]'.join(L)"
   ]
  },
  {
   "cell_type": "code",
   "execution_count": 590,
   "id": "dd291661",
   "metadata": {},
   "outputs": [
    {
     "data": {
      "text/plain": [
       "'I Write Python Code'"
      ]
     },
     "execution_count": 590,
     "metadata": {},
     "output_type": "execute_result"
    }
   ],
   "source": [
    "s='i write PYThon code'\n",
    "s1=s.upper()\n",
    "s1\n",
    "s1=s.lower()\n",
    "s1\n",
    "s1=s.swapcase()\n",
    "s1\n",
    "s1=s1.capitalize()\n",
    "s1\n",
    "s1=s1.title()\n",
    "s1"
   ]
  },
  {
   "cell_type": "code",
   "execution_count": 604,
   "id": "a6ab6910",
   "metadata": {},
   "outputs": [
    {
     "name": "stdout",
     "output_type": "stream",
     "text": [
      "False\n",
      "True\n",
      "False\n",
      "True\n",
      "False\n",
      "False\n",
      "False\n"
     ]
    }
   ],
   "source": [
    "s='code123'\n",
    "print(s.isalpha())\n",
    "print(s.isalnum())\n",
    "print(s.isdigit())\n",
    "print(s.islower())\n",
    "print(s.isupper())\n",
    "print(s.istitle())\n",
    "print(s.isspace())"
   ]
  },
  {
   "cell_type": "code",
   "execution_count": 607,
   "id": "599c8a9d",
   "metadata": {},
   "outputs": [
    {
     "name": "stdout",
     "output_type": "stream",
     "text": [
      "True\n"
     ]
    }
   ],
   "source": [
    "print(' '.isspace())"
   ]
  },
  {
   "cell_type": "code",
   "execution_count": 625,
   "id": "ac46a508",
   "metadata": {},
   "outputs": [
    {
     "name": "stdout",
     "output_type": "stream",
     "text": [
      "Alpha numeric character\n",
      "Digit\n"
     ]
    }
   ],
   "source": [
    "s2=input('String:')\n",
    "if s2.isalnum():\n",
    "    print('Alpha numeric character')\n",
    "    if s2.isalpha():\n",
    "        print('Alpha Character')\n",
    "        if s2.islower():\n",
    "            print('Lower case')\n",
    "        else :\n",
    "            print('Upper case')\n",
    "    elif s2.isdigit():\n",
    "        print('Digit')\n",
    "    else:\n",
    "        pass\n",
    "elif s2.isspace():\n",
    "    print('Space')\n",
    "else:\n",
    "    print('Non Space Character')\n"
   ]
  },
  {
   "cell_type": "code",
   "execution_count": 631,
   "id": "3c3df1ec",
   "metadata": {},
   "outputs": [
    {
     "name": "stdout",
     "output_type": "stream",
     "text": [
      "i edoc ni nohtyp\n"
     ]
    }
   ],
   "source": [
    "s=input('Enter a sentence:')\n",
    "sent_split=s.split()\n",
    "result=[]\n",
    "for i in range(len(sent_split)):\n",
    "    word_rev=sent_split[i][::-1]\n",
    "    result.append(word_rev)\n",
    "result_str = ' '.join(result)\n",
    "print(result_str)\n",
    "\n"
   ]
  },
  {
   "cell_type": "code",
   "execution_count": 641,
   "id": "cb5f585f",
   "metadata": {},
   "outputs": [
    {
     "name": "stdout",
     "output_type": "stream",
     "text": [
      "String: aswinpushkar\n",
      "odd characters:\n",
      "a,w,n,u,h,a,\n",
      "Even characters:\n",
      "s,i,p,s,k,r,"
     ]
    }
   ],
   "source": [
    "#print the words in odd/even position\n",
    "s=input('Enter String:')\n",
    "i=0\n",
    "print('String:',s)\n",
    "print('odd characters:')\n",
    "while i< len(s):\n",
    "    print(s[i],end=',')\n",
    "    i=i+2\n",
    "print()\n",
    "i=1\n",
    "print('Even characters:')\n",
    "while i< len(s):\n",
    "    print(s[i],end=',')\n",
    "    i=i+2\n"
   ]
  },
  {
   "cell_type": "code",
   "execution_count": 649,
   "id": "e49bb1db",
   "metadata": {},
   "outputs": [
    {
     "name": "stdout",
     "output_type": "stream",
     "text": [
      "apsuwsihnkar\n"
     ]
    }
   ],
   "source": [
    "#merge characters of two strings alternatively to form a single string\n",
    "s1='aswin'\n",
    "s2='pushkar'\n",
    "result=''\n",
    "i,j=0,0\n",
    "while i < len(s1) or j<len(s2):\n",
    "    if i < len(s1):\n",
    "        result=result+s1[i]\n",
    "        i=i+1\n",
    "    if j < len(s2):\n",
    "        result =result+s2[j]\n",
    "        j=j+1\n",
    "print(result)\n",
    "\n"
   ]
  },
  {
   "cell_type": "code",
   "execution_count": null,
   "id": "9e9816af",
   "metadata": {},
   "outputs": [],
   "source": []
  }
 ],
 "metadata": {
  "kernelspec": {
   "display_name": "python-env",
   "language": "python",
   "name": "python3"
  },
  "language_info": {
   "codemirror_mode": {
    "name": "ipython",
    "version": 3
   },
   "file_extension": ".py",
   "mimetype": "text/x-python",
   "name": "python",
   "nbconvert_exporter": "python",
   "pygments_lexer": "ipython3",
   "version": "3.12.4"
  }
 },
 "nbformat": 4,
 "nbformat_minor": 5
}
