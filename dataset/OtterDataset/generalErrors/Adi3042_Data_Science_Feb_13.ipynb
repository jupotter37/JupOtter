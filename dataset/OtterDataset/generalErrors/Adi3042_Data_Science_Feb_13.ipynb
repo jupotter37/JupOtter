{
 "cells": [
  {
   "cell_type": "markdown",
   "id": "e37dd396-6638-4568-8875-d619b80439a9",
   "metadata": {},
   "source": [
    "<div class=\"alert alert-block alert-info\" align=\"center\" style=\"padding: 10px;\">\n",
    "<h1><b><u>Exception handling-2</u></b></h1>\n",
    "</div>"
   ]
  },
  {
   "cell_type": "markdown",
   "id": "2daf26a9-0d83-4f02-8f59-a742b5406ddb",
   "metadata": {},
   "source": [
    "#### **Q1. Explain why we have to use the Exception class while creating a Custom Exception.** ####\n",
    "\n",
    "Inheriting from the Exception class is recommended when creating custom exceptions in Python because it provides \n",
    "consistency, catchability, customizability, and polymorphism for your exception. \n",
    "This makes it easier to work with and integrate into your code.\n",
    "\n",
    "---\n",
    "        \n",
    "#### **Q2. Write a python program to print Python Exception Hierarchy.** ####"
   ]
  },
  {
   "cell_type": "code",
   "execution_count": 1,
   "id": "0abef956-5b0f-483e-8f8c-1ad967864f3a",
   "metadata": {},
   "outputs": [
    {
     "name": "stdout",
     "output_type": "stream",
     "text": [
      "ArithmeticError\n",
      "AssertionError\n",
      "AttributeError\n",
      "BlockingIOError\n",
      "BrokenPipeError\n",
      "BufferError\n",
      "ChildProcessError\n",
      "ConnectionAbortedError\n",
      "ConnectionError\n",
      "ConnectionRefusedError\n",
      "ConnectionResetError\n",
      "EOFError\n",
      "EnvironmentError\n",
      "FileExistsError\n",
      "FileNotFoundError\n",
      "FloatingPointError\n",
      "IOError\n",
      "ImportError\n",
      "IndentationError\n",
      "IndexError\n",
      "InterruptedError\n",
      "IsADirectoryError\n",
      "KeyError\n",
      "LookupError\n",
      "MemoryError\n",
      "ModuleNotFoundError\n",
      "NameError\n",
      "NotADirectoryError\n",
      "NotImplementedError\n",
      "OSError\n",
      "OverflowError\n",
      "PermissionError\n",
      "ProcessLookupError\n",
      "RecursionError\n",
      "ReferenceError\n",
      "RuntimeError\n",
      "SyntaxError\n",
      "SystemError\n",
      "TabError\n",
      "TimeoutError\n",
      "TypeError\n",
      "UnboundLocalError\n",
      "UnicodeDecodeError\n",
      "UnicodeEncodeError\n",
      "UnicodeError\n",
      "UnicodeTranslateError\n",
      "ValueError\n",
      "ZeroDivisionError\n"
     ]
    }
   ],
   "source": [
    "# Program to print the exception hierarchy\n",
    "\n",
    "for exc in dir(__builtins__):\n",
    "    if \"Error\" in exc:\n",
    "        print(exc)"
   ]
  },
  {
   "cell_type": "markdown",
   "id": "e5b8e30a-30d2-42d2-a459-cd7ab01f1e61",
   "metadata": {},
   "source": [
    "---\n",
    "#### **Q3. What errors are defined in the ArithmeticError class? Explain any two with an example.** ####\n",
    "\n",
    "The ArithmeticError class is a built-in Python exception that is raised for errors that occur during arithmetic operations, \n",
    "such as division by zero or overflow. It is a subclass of the Exception class, which is the base class for all built-in\n",
    "exceptions in Python.\n",
    "\n",
    "1. ZeroDivisionError: This exception is raised when you try to divide a number by zero. \n",
    "2. ValueError: It is raised when a function or method receives an argument of the correct type but with an inappropriate value. "
   ]
  },
  {
   "cell_type": "code",
   "execution_count": 2,
   "id": "b15b4e53-5408-4b9a-8ed7-297c310d4592",
   "metadata": {},
   "outputs": [
    {
     "name": "stdout",
     "output_type": "stream",
     "text": [
      "Error: division by zero\n"
     ]
    }
   ],
   "source": [
    "# Zerodivisionerror\n",
    "try:\n",
    "    x = 1 / 0\n",
    "except ZeroDivisionError as e:\n",
    "    print(\"Error:\", e)"
   ]
  },
  {
   "cell_type": "code",
   "execution_count": 3,
   "id": "8bfd8979-ca83-4838-bd01-ed6418d58e76",
   "metadata": {},
   "outputs": [
    {
     "name": "stdout",
     "output_type": "stream",
     "text": [
      "math domain error\n"
     ]
    }
   ],
   "source": [
    "try:\n",
    "    import math\n",
    "    math.sqrt(-1)\n",
    "except ValueError as e:\n",
    "    print(e)"
   ]
  },
  {
   "cell_type": "markdown",
   "id": "6f930720-aad4-4629-970f-7bd63fd0732b",
   "metadata": {},
   "source": [
    "---\n",
    "#### **Q4. Why LookupError class is used? Explain with an example KeyError and IndexError.** ####\n",
    "\n",
    "LookupError: The LookupError class is a built-in exception in Python that serves as the base class for all exceptions that occur\n",
    "             when a key or index is not found in a container, such as a dictionary or a list. \n",
    "\n",
    "KeyError and IndexError are both subclasses of LookupError\n",
    "\n",
    "KeyError: KeyError is raised when a dictionary key is not found in the dictionary. \n",
    "IndexError: IndexError is raised when trying to access an index in a sequence that is out of bounds."
   ]
  },
  {
   "cell_type": "code",
   "execution_count": 4,
   "id": "6733aa48-b064-4161-ac1a-f1f4ad41b89e",
   "metadata": {},
   "outputs": [
    {
     "name": "stdout",
     "output_type": "stream",
     "text": [
      "Key not found in dictionary\n"
     ]
    }
   ],
   "source": [
    "#KeyError\n",
    "d = {'a': 1, 'b': 2, 'c': 3}\n",
    "\n",
    "try:\n",
    "    value = d['d']\n",
    "except KeyError:\n",
    "    print(\"Key not found in dictionary\")"
   ]
  },
  {
   "cell_type": "code",
   "execution_count": 5,
   "id": "bec86320-e58b-41df-bca3-fb5939540694",
   "metadata": {},
   "outputs": [
    {
     "name": "stdout",
     "output_type": "stream",
     "text": [
      "Index out of bounds\n"
     ]
    }
   ],
   "source": [
    "#IndexError\n",
    "my_list = [1, 2, 3]\n",
    "\n",
    "try:\n",
    "    value = my_list[3]\n",
    "except IndexError:\n",
    "    print(\"Index out of bounds\")"
   ]
  },
  {
   "cell_type": "markdown",
   "id": "074658b4-91c0-43b3-b8ce-c4741acd21b0",
   "metadata": {},
   "source": [
    "---\n",
    "#### **Q5. Explain ImportError. What is ModuleNotFoundError?** ####\n",
    "\n",
    "#### 1. ImportError: ####\n",
    "\n",
    "ImportError is a built-in exception in Python that is raised when a module or package cannot be imported. This can happen for a number of reasons, such as the module not being installed, the module being in a different directory than the one the code is running in, or the module having syntax errors.\n",
    "\n",
    "#### 2. ModuleNotFoundError: ####\n",
    "\n",
    "ModuleNotFoundError is a subclass of ImportError that was introduced in Python 3.6. It is raised when a module is not found during the import process and is more specific than the general ImportError.\n"
   ]
  },
  {
   "cell_type": "code",
   "execution_count": 6,
   "id": "10e05139-f1ab-469b-a1da-be8e078bdbd0",
   "metadata": {},
   "outputs": [
    {
     "name": "stdout",
     "output_type": "stream",
     "text": [
      "Module not found\n"
     ]
    }
   ],
   "source": [
    "#ImportError\n",
    "try:\n",
    "    import no_module\n",
    "except ImportError:\n",
    "    print(\"Module not found\")"
   ]
  },
  {
   "cell_type": "code",
   "execution_count": 7,
   "id": "89259ff6-9fd0-4196-ba07-4c423154159d",
   "metadata": {},
   "outputs": [
    {
     "name": "stdout",
     "output_type": "stream",
     "text": [
      "Module not found\n"
     ]
    }
   ],
   "source": [
    "#ModuleNotFoundError\n",
    "try:\n",
    "    import no_module\n",
    "except ModuleNotFoundError:\n",
    "    print(\"Module not found\")"
   ]
  },
  {
   "cell_type": "markdown",
   "id": "bea5ab75-ede2-4b94-8d03-ce4172330ba6",
   "metadata": {},
   "source": [
    "---\n",
    "#### **Q6. List down some best practices for exception handling in python.** ####\n",
    "\n",
    "1. **Only catch exceptions that you can handle:** It's important to catch and handle only the exceptions you can reasonably manage. Catching overly broad exceptions may lead to unexpected issues in your code.\n",
    "\n",
    "2. **Use specific exception types:** Be specific when catching exceptions. This allows you to handle different exceptions differently and provides more accurate debugging information.\n",
    "\n",
    "3. **Always include a finally block:** When using a try-except block, include a `finally` block if you have cleanup code that should always run, whether an exception occurred or not.\n",
    "\n",
    "4. **Use with statements for file handling:** When working with files, use `with` statements (context managers) to ensure that files are properly closed, even if an exception is raised.\n",
    "\n",
    "5. **Log exceptions:** Logging exceptions and their details can be extremely helpful for debugging and monitoring your application. Use Python's logging framework to record exceptions.\n",
    "\n",
    "6. **Use meaningful error messages:** When raising custom exceptions or handling built-in ones, provide clear and meaningful error messages. This helps users and developers understand the issue.\n",
    "\n",
    "7. **Be consistent:** Maintain a consistent style and approach to exception handling in your codebase. Consistency makes it easier for you and your team to understand and maintain the code."
   ]
  }
 ],
 "metadata": {
  "kernelspec": {
   "display_name": "Python 3 (ipykernel)",
   "language": "python",
   "name": "python3"
  },
  "language_info": {
   "codemirror_mode": {
    "name": "ipython",
    "version": 3
   },
   "file_extension": ".py",
   "mimetype": "text/x-python",
   "name": "python",
   "nbconvert_exporter": "python",
   "pygments_lexer": "ipython3",
   "version": "3.10.8"
  }
 },
 "nbformat": 4,
 "nbformat_minor": 5
}
