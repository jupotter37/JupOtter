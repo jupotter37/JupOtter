{
  "nbformat": 4,
  "nbformat_minor": 0,
  "metadata": {
    "colab": {
      "provenance": [],
      "authorship_tag": "ABX9TyPkRVcOzNmlz1XbJXNS/fWK",
      "include_colab_link": true
    },
    "kernelspec": {
      "name": "python3",
      "display_name": "Python 3"
    },
    "language_info": {
      "name": "python"
    }
  },
  "cells": [
    {
      "cell_type": "markdown",
      "metadata": {
        "id": "view-in-github",
        "colab_type": "text"
      },
      "source": [
        "<a href=\"https://colab.research.google.com/github/italosilva02/exercicioPy/blob/main/Debugando_e_Tratando_erros.ipynb\" target=\"_parent\"><img src=\"https://colab.research.google.com/assets/colab-badge.svg\" alt=\"Open In Colab\"/></a>"
      ]
    },
    {
      "cell_type": "markdown",
      "source": [
        "# **Erros mais comuns em Python**"
      ],
      "metadata": {
        "id": "qffBDfbTp-62"
      }
    },
    {
      "cell_type": "markdown",
      "source": [
        "É importante prestar atenção e saber indentificar os erros da saída do código"
      ],
      "metadata": {
        "id": "VNkiOs_eqCth"
      }
    },
    {
      "cell_type": "code",
      "source": [
        "printf('Ola mundo')"
      ],
      "metadata": {
        "colab": {
          "base_uri": "https://localhost:8080/",
          "height": 166
        },
        "id": "It3REkd7s0Yk",
        "outputId": "2c0d4a2c-01ce-4673-de53-2f6306c3e2df"
      },
      "execution_count": 1,
      "outputs": [
        {
          "output_type": "error",
          "ename": "NameError",
          "evalue": "ignored",
          "traceback": [
            "\u001b[0;31m---------------------------------------------------------------------------\u001b[0m",
            "\u001b[0;31mNameError\u001b[0m                                 Traceback (most recent call last)",
            "\u001b[0;32m<ipython-input-1-6a37552cd16d>\u001b[0m in \u001b[0;36m<module>\u001b[0;34m\u001b[0m\n\u001b[0;32m----> 1\u001b[0;31m \u001b[0mprintf\u001b[0m\u001b[0;34m(\u001b[0m\u001b[0;34m'Ola mundo'\u001b[0m\u001b[0;34m)\u001b[0m\u001b[0;34m\u001b[0m\u001b[0;34m\u001b[0m\u001b[0m\n\u001b[0m",
            "\u001b[0;31mNameError\u001b[0m: name 'printf' is not defined"
          ]
        }
      ]
    },
    {
      "cell_type": "markdown",
      "source": [
        "**Traceback** = Saida do erro\n",
        "\n",
        "**File** = Onde está o erro\n",
        "\n",
        "**NameError** = O nome do erro"
      ],
      "metadata": {
        "id": "Yt7XS1V4tUFq"
      }
    },
    {
      "cell_type": "markdown",
      "source": [
        "Existem muitos erros comuns que os programadores iniciantes em Python podem cometer. Aqui estão alguns dos erros mais comuns:\n",
        "\n",
        "- **Sintaxe incorreta**: A sintaxe é muito importante em Python, e pequenos erros podem levar a erros de sintaxe. Por exemplo, esquecer um dos dois pontos no final de uma declaração de função, deixar de fechar parênteses ou usar aspas incorretas.\n",
        "\n",
        "- **Variáveis não definidas**: Antes de usar uma variável, ela deve ser definida. Se a variável não foi definida, Python emitirá um erro.\n",
        "\n",
        "- **Indentação incorreta**: Python usa indentação para delimitar blocos de código. Se a indentação estiver incorreta, o código não será executado como esperado.\n",
        "\n",
        "- **Erros de tipo**: Python é uma linguagem de tipagem dinâmica, mas ainda é importante garantir que os tipos de dados estejam corretos em todas as operações. Por exemplo, tentar concatenar uma string e um número pode resultar em um erro.\n",
        "\n",
        "- **Uso incorreto de funções**: Algumas funções em Python requerem argumentos específicos ou são sensíveis a maiúsculas e minúsculas. Se a função for usada incorretamente, pode resultar em um erro.\n",
        "\n",
        "- **Erros de lógica**: Esses erros ocorrem quando a lógica subjacente do código não está correta. Isso pode levar a resultados inesperados ou a um comportamento imprevisível.\n",
        "\n",
        "- **Módulos ou pacotes ausentes**: Se você está usando um módulo ou pacote que não está instalado em seu sistema, Python emitirá um erro. Certifique-se de que todos os módulos e pacotes necessários estejam instalados.\n",
        "\n",
        "- **Conflitos de nome**: Se você atribuir um nome a uma variável ou função que já foi usada para outra coisa, Python pode se confundir e gerar um erro.\n",
        "\n",
        "Esses são apenas alguns dos erros mais comuns que os programadores podem encontrar ao trabalhar com Python. É importante ler e entender as mensagens de erro que Python produz para que você possa solucionar esses erros de forma eficiente."
      ],
      "metadata": {
        "id": "3L0wDzdzuY-Y"
      }
    },
    {
      "cell_type": "markdown",
      "source": [
        "### **SyntaxError** -> Ocorre quando o Python encontra um erro de sintaze. Ou seja, você escreveu algo que o Python não reconhece como parte da linguagem.\n",
        "\n",
        "Exemplo:"
      ],
      "metadata": {
        "id": "rYOjY989ukbs"
      }
    },
    {
      "cell_type": "code",
      "source": [
        "def funcao:\n",
        "  retorn 'Ola mundo'"
      ],
      "metadata": {
        "colab": {
          "base_uri": "https://localhost:8080/",
          "height": 131
        },
        "id": "haGWPLLzuxlV",
        "outputId": "6b59d72f-851b-4ebf-fdbf-df2a0c22cecd"
      },
      "execution_count": 2,
      "outputs": [
        {
          "output_type": "error",
          "ename": "SyntaxError",
          "evalue": "ignored",
          "traceback": [
            "\u001b[0;36m  File \u001b[0;32m\"<ipython-input-2-c808c8ab6bed>\"\u001b[0;36m, line \u001b[0;32m1\u001b[0m\n\u001b[0;31m    def funcao:\u001b[0m\n\u001b[0m              ^\u001b[0m\n\u001b[0;31mSyntaxError\u001b[0m\u001b[0;31m:\u001b[0m invalid syntax\n"
          ]
        }
      ]
    },
    {
      "cell_type": "markdown",
      "source": [
        "SyntaxError já que None é um tipo no Python, portanto, uma palavra reservada"
      ],
      "metadata": {
        "id": "jJfTbGfuvZh6"
      }
    },
    {
      "cell_type": "code",
      "source": [
        "None = 1"
      ],
      "metadata": {
        "colab": {
          "base_uri": "https://localhost:8080/",
          "height": 131
        },
        "id": "ZhD43bwSvMZp",
        "outputId": "907beab3-7d39-48b0-997b-ecb6e4fb9a04"
      },
      "execution_count": 3,
      "outputs": [
        {
          "output_type": "error",
          "ename": "SyntaxError",
          "evalue": "ignored",
          "traceback": [
            "\u001b[0;36m  File \u001b[0;32m\"<ipython-input-3-d03f602a0186>\"\u001b[0;36m, line \u001b[0;32m1\u001b[0m\n\u001b[0;31m    None = 1\u001b[0m\n\u001b[0m    ^\u001b[0m\n\u001b[0;31mSyntaxError\u001b[0m\u001b[0;31m:\u001b[0m cannot assign to None\n"
          ]
        }
      ]
    },
    {
      "cell_type": "code",
      "source": [
        "return"
      ],
      "metadata": {
        "colab": {
          "base_uri": "https://localhost:8080/",
          "height": 131
        },
        "id": "sojWT857vc1q",
        "outputId": "2e528c79-79fd-4061-9b5d-b5f24357a0aa"
      },
      "execution_count": 4,
      "outputs": [
        {
          "output_type": "error",
          "ename": "SyntaxError",
          "evalue": "ignored",
          "traceback": [
            "\u001b[0;36m  File \u001b[0;32m\"<ipython-input-4-9b32c1431b19>\"\u001b[0;36m, line \u001b[0;32m1\u001b[0m\n\u001b[0;31m    return\u001b[0m\n\u001b[0m    ^\u001b[0m\n\u001b[0;31mSyntaxError\u001b[0m\u001b[0;31m:\u001b[0m 'return' outside function\n"
          ]
        }
      ]
    },
    {
      "cell_type": "markdown",
      "source": [
        "### **NameError** -> Ocorre quando uma variável ou função é chamada sem ser definida.\n",
        "\n",
        "Exemplo:"
      ],
      "metadata": {
        "id": "t5Ini1OSvh7f"
      }
    },
    {
      "cell_type": "code",
      "source": [
        "print(nome)"
      ],
      "metadata": {
        "colab": {
          "base_uri": "https://localhost:8080/",
          "height": 166
        },
        "id": "aqWuTQHMvycj",
        "outputId": "c40261b3-ffa0-40be-db28-d8b0e10f0be1"
      },
      "execution_count": 5,
      "outputs": [
        {
          "output_type": "error",
          "ename": "NameError",
          "evalue": "ignored",
          "traceback": [
            "\u001b[0;31m---------------------------------------------------------------------------\u001b[0m",
            "\u001b[0;31mNameError\u001b[0m                                 Traceback (most recent call last)",
            "\u001b[0;32m<ipython-input-5-759f7bacf2de>\u001b[0m in \u001b[0;36m<module>\u001b[0;34m\u001b[0m\n\u001b[0;32m----> 1\u001b[0;31m \u001b[0mprint\u001b[0m\u001b[0;34m(\u001b[0m\u001b[0mnome\u001b[0m\u001b[0;34m)\u001b[0m\u001b[0;34m\u001b[0m\u001b[0;34m\u001b[0m\u001b[0m\n\u001b[0m",
            "\u001b[0;31mNameError\u001b[0m: name 'nome' is not defined"
          ]
        }
      ]
    },
    {
      "cell_type": "code",
      "source": [
        "nome()"
      ],
      "metadata": {
        "colab": {
          "base_uri": "https://localhost:8080/",
          "height": 166
        },
        "id": "HN_HNKgAv8U5",
        "outputId": "1ea54316-2e5d-45e7-8301-5574c9ce6f8d"
      },
      "execution_count": 6,
      "outputs": [
        {
          "output_type": "error",
          "ename": "NameError",
          "evalue": "ignored",
          "traceback": [
            "\u001b[0;31m---------------------------------------------------------------------------\u001b[0m",
            "\u001b[0;31mNameError\u001b[0m                                 Traceback (most recent call last)",
            "\u001b[0;32m<ipython-input-6-4bb5b12a1054>\u001b[0m in \u001b[0;36m<module>\u001b[0;34m\u001b[0m\n\u001b[0;32m----> 1\u001b[0;31m \u001b[0mnome\u001b[0m\u001b[0;34m(\u001b[0m\u001b[0;34m)\u001b[0m\u001b[0;34m\u001b[0m\u001b[0;34m\u001b[0m\u001b[0m\n\u001b[0m",
            "\u001b[0;31mNameError\u001b[0m: name 'nome' is not defined"
          ]
        }
      ]
    },
    {
      "cell_type": "code",
      "source": [
        "a = 8\n",
        "if a < 10:\n",
        "  msg = 'É menor que 10'\n",
        "\n",
        "print(msg)"
      ],
      "metadata": {
        "colab": {
          "base_uri": "https://localhost:8080/"
        },
        "id": "0heseXtIwGid",
        "outputId": "c1d79733-901e-42ef-ef3d-560198bcdfba"
      },
      "execution_count": 7,
      "outputs": [
        {
          "output_type": "stream",
          "name": "stdout",
          "text": [
            "É menor que 10\n"
          ]
        }
      ]
    },
    {
      "cell_type": "markdown",
      "source": [
        "Como 20 é maior que 10, ele pula o bloco if, portanto, a variável msg1 nunca foi criada. "
      ],
      "metadata": {
        "id": "S1RTNZ-vwiwD"
      }
    },
    {
      "cell_type": "code",
      "source": [
        "a = 20\n",
        "if a < 10:\n",
        "  msg1 = 'É menor que 10'\n",
        "\n",
        "print(msg1)"
      ],
      "metadata": {
        "colab": {
          "base_uri": "https://localhost:8080/",
          "height": 201
        },
        "id": "gA9NdQguwXof",
        "outputId": "01e8f3ad-41f2-4534-ed29-2779c04227f7"
      },
      "execution_count": 9,
      "outputs": [
        {
          "output_type": "error",
          "ename": "NameError",
          "evalue": "ignored",
          "traceback": [
            "\u001b[0;31m---------------------------------------------------------------------------\u001b[0m",
            "\u001b[0;31mNameError\u001b[0m                                 Traceback (most recent call last)",
            "\u001b[0;32m<ipython-input-9-f344cb72356d>\u001b[0m in \u001b[0;36m<module>\u001b[0;34m\u001b[0m\n\u001b[1;32m      3\u001b[0m   \u001b[0mmsg1\u001b[0m \u001b[0;34m=\u001b[0m \u001b[0;34m'É menor que 10'\u001b[0m\u001b[0;34m\u001b[0m\u001b[0;34m\u001b[0m\u001b[0m\n\u001b[1;32m      4\u001b[0m \u001b[0;34m\u001b[0m\u001b[0m\n\u001b[0;32m----> 5\u001b[0;31m \u001b[0mprint\u001b[0m\u001b[0;34m(\u001b[0m\u001b[0mmsg1\u001b[0m\u001b[0;34m)\u001b[0m\u001b[0;34m\u001b[0m\u001b[0;34m\u001b[0m\u001b[0m\n\u001b[0m",
            "\u001b[0;31mNameError\u001b[0m: name 'msg1' is not defined"
          ]
        }
      ]
    },
    {
      "cell_type": "markdown",
      "source": [
        "### **TypeError** -> Ocorre quando uma função /operação/ação é aplicada a um tipo incorreto\n",
        "\n",
        "Exemplo:"
      ],
      "metadata": {
        "id": "CilncTONw4_r"
      }
    },
    {
      "cell_type": "markdown",
      "source": [
        "Retornou um erro pelo fato de len() precisa ser atribuido a um interável, como 5 é apenas um número inteiro, ele irá gerar erro"
      ],
      "metadata": {
        "id": "bP7Xj4sbxaiF"
      }
    },
    {
      "cell_type": "code",
      "source": [
        "print(len(5))"
      ],
      "metadata": {
        "colab": {
          "base_uri": "https://localhost:8080/",
          "height": 166
        },
        "id": "xZBd9nryxKMW",
        "outputId": "281d6897-8356-4412-8437-91cfb19dd750"
      },
      "execution_count": 10,
      "outputs": [
        {
          "output_type": "error",
          "ename": "TypeError",
          "evalue": "ignored",
          "traceback": [
            "\u001b[0;31m---------------------------------------------------------------------------\u001b[0m",
            "\u001b[0;31mTypeError\u001b[0m                                 Traceback (most recent call last)",
            "\u001b[0;32m<ipython-input-10-d514c5a8534b>\u001b[0m in \u001b[0;36m<module>\u001b[0;34m\u001b[0m\n\u001b[0;32m----> 1\u001b[0;31m \u001b[0mprint\u001b[0m\u001b[0;34m(\u001b[0m\u001b[0mlen\u001b[0m\u001b[0;34m(\u001b[0m\u001b[0;36m5\u001b[0m\u001b[0;34m)\u001b[0m\u001b[0;34m)\u001b[0m\u001b[0;34m\u001b[0m\u001b[0;34m\u001b[0m\u001b[0m\n\u001b[0m",
            "\u001b[0;31mTypeError\u001b[0m: object of type 'int' has no len()"
          ]
        }
      ]
    },
    {
      "cell_type": "markdown",
      "source": [
        "Retorna um erro pelo fato de não ser possivel concatenar uma str com outro tipo."
      ],
      "metadata": {
        "id": "c0dfrlw3xPqx"
      }
    },
    {
      "cell_type": "code",
      "source": [
        "print('Italo' + [])"
      ],
      "metadata": {
        "colab": {
          "base_uri": "https://localhost:8080/",
          "height": 166
        },
        "id": "r4xSnaiRxby9",
        "outputId": "94762ad8-b360-4331-ce25-d50b427f1026"
      },
      "execution_count": 11,
      "outputs": [
        {
          "output_type": "error",
          "ename": "TypeError",
          "evalue": "ignored",
          "traceback": [
            "\u001b[0;31m---------------------------------------------------------------------------\u001b[0m",
            "\u001b[0;31mTypeError\u001b[0m                                 Traceback (most recent call last)",
            "\u001b[0;32m<ipython-input-11-ea3d4f6e593a>\u001b[0m in \u001b[0;36m<module>\u001b[0;34m\u001b[0m\n\u001b[0;32m----> 1\u001b[0;31m \u001b[0mprint\u001b[0m\u001b[0;34m(\u001b[0m\u001b[0;34m'Italo'\u001b[0m \u001b[0;34m+\u001b[0m \u001b[0;34m[\u001b[0m\u001b[0;34m]\u001b[0m\u001b[0;34m)\u001b[0m\u001b[0;34m\u001b[0m\u001b[0;34m\u001b[0m\u001b[0m\n\u001b[0m",
            "\u001b[0;31mTypeError\u001b[0m: can only concatenate str (not \"list\") to str"
          ]
        }
      ]
    },
    {
      "cell_type": "markdown",
      "source": [
        "## **IndexError** -> Ocorre quando tentamos acessar um elemento em uma lista ou outro tipo de dado indexado utilizando um index inválido\n",
        "\n",
        "Exemplo:"
      ],
      "metadata": {
        "id": "payr3seAxmYh"
      }
    },
    {
      "cell_type": "code",
      "source": [
        "lista = [1,2,3]"
      ],
      "metadata": {
        "id": "9ns2XDWtxxE7"
      },
      "execution_count": 12,
      "outputs": []
    },
    {
      "cell_type": "code",
      "source": [
        "print(lista[3]) #Não existe nenhum elemento na posição 3"
      ],
      "metadata": {
        "colab": {
          "base_uri": "https://localhost:8080/",
          "height": 166
        },
        "id": "LGmxACDYxzQ7",
        "outputId": "e2c91bd5-0ccf-47cd-dc0a-cf61c2c91ccd"
      },
      "execution_count": 13,
      "outputs": [
        {
          "output_type": "error",
          "ename": "IndexError",
          "evalue": "ignored",
          "traceback": [
            "\u001b[0;31m---------------------------------------------------------------------------\u001b[0m",
            "\u001b[0;31mIndexError\u001b[0m                                Traceback (most recent call last)",
            "\u001b[0;32m<ipython-input-13-5937c695f79e>\u001b[0m in \u001b[0;36m<module>\u001b[0;34m\u001b[0m\n\u001b[0;32m----> 1\u001b[0;31m \u001b[0mprint\u001b[0m\u001b[0;34m(\u001b[0m\u001b[0mlista\u001b[0m\u001b[0;34m[\u001b[0m\u001b[0;36m3\u001b[0m\u001b[0;34m]\u001b[0m\u001b[0;34m)\u001b[0m\u001b[0;34m\u001b[0m\u001b[0;34m\u001b[0m\u001b[0m\n\u001b[0m",
            "\u001b[0;31mIndexError\u001b[0m: list index out of range"
          ]
        }
      ]
    },
    {
      "cell_type": "markdown",
      "source": [
        "### **ValueError** -> Ocorre quando uma função/operação built-in (integrada) recebe um argumento com tipo correto, mas valor inapropriado\n",
        "\n",
        "Exemplo:"
      ],
      "metadata": {
        "id": "eRnSui87yerh"
      }
    },
    {
      "cell_type": "code",
      "source": [
        "print(int('45'))"
      ],
      "metadata": {
        "colab": {
          "base_uri": "https://localhost:8080/"
        },
        "id": "kaxZN4Ukyr18",
        "outputId": "eafa6370-fd6d-4f7e-f552-72be0a3ce854"
      },
      "execution_count": 15,
      "outputs": [
        {
          "output_type": "stream",
          "name": "stdout",
          "text": [
            "45\n"
          ]
        }
      ]
    },
    {
      "cell_type": "code",
      "source": [
        "print(int('italo')) #ValueError já que um nome não pode ser convertido para um inteiro"
      ],
      "metadata": {
        "colab": {
          "base_uri": "https://localhost:8080/",
          "height": 166
        },
        "id": "4AL-03wYywvB",
        "outputId": "e523242c-30d1-4b4d-a86a-f93ceb0d2288"
      },
      "execution_count": 16,
      "outputs": [
        {
          "output_type": "error",
          "ename": "ValueError",
          "evalue": "ignored",
          "traceback": [
            "\u001b[0;31m---------------------------------------------------------------------------\u001b[0m",
            "\u001b[0;31mValueError\u001b[0m                                Traceback (most recent call last)",
            "\u001b[0;32m<ipython-input-16-4c0a82c6ff2c>\u001b[0m in \u001b[0;36m<module>\u001b[0;34m\u001b[0m\n\u001b[0;32m----> 1\u001b[0;31m \u001b[0mprint\u001b[0m\u001b[0;34m(\u001b[0m\u001b[0mint\u001b[0m\u001b[0;34m(\u001b[0m\u001b[0;34m'italo'\u001b[0m\u001b[0;34m)\u001b[0m\u001b[0;34m)\u001b[0m\u001b[0;34m\u001b[0m\u001b[0;34m\u001b[0m\u001b[0m\n\u001b[0m",
            "\u001b[0;31mValueError\u001b[0m: invalid literal for int() with base 10: 'italo'"
          ]
        }
      ]
    },
    {
      "cell_type": "markdown",
      "source": [
        "### **KeyError** -> Ocorre quando tentamos acessar um dicionário com uma chave que não existe\n",
        "\n",
        "Exemplos:"
      ],
      "metadata": {
        "id": "1jmrqsopy6fd"
      }
    },
    {
      "cell_type": "code",
      "source": [
        "dic = {'nome': 'Italo', 'idade': 22, 'cidade': 'Goiânia'}"
      ],
      "metadata": {
        "id": "6rZktMW0zC1V"
      },
      "execution_count": 19,
      "outputs": []
    },
    {
      "cell_type": "code",
      "source": [
        "print(dic['nome'])"
      ],
      "metadata": {
        "colab": {
          "base_uri": "https://localhost:8080/"
        },
        "id": "5kzhPBXwzE5v",
        "outputId": "703e7ec6-73a5-40a3-a7e0-afb93d1394ce"
      },
      "execution_count": 20,
      "outputs": [
        {
          "output_type": "stream",
          "name": "stdout",
          "text": [
            "Italo\n"
          ]
        }
      ]
    },
    {
      "cell_type": "code",
      "source": [
        "print(dic['sobrenome']) #KeyError já que não existe a chave \"sobrenome\" no nosso dicionário"
      ],
      "metadata": {
        "colab": {
          "base_uri": "https://localhost:8080/",
          "height": 166
        },
        "id": "6CEO37BfzTWL",
        "outputId": "5ddfd6ce-4fec-4906-b2a5-7e1449193b99"
      },
      "execution_count": 21,
      "outputs": [
        {
          "output_type": "error",
          "ename": "KeyError",
          "evalue": "ignored",
          "traceback": [
            "\u001b[0;31m---------------------------------------------------------------------------\u001b[0m",
            "\u001b[0;31mKeyError\u001b[0m                                  Traceback (most recent call last)",
            "\u001b[0;32m<ipython-input-21-b989a2c59529>\u001b[0m in \u001b[0;36m<module>\u001b[0;34m\u001b[0m\n\u001b[0;32m----> 1\u001b[0;31m \u001b[0mprint\u001b[0m\u001b[0;34m(\u001b[0m\u001b[0mdic\u001b[0m\u001b[0;34m[\u001b[0m\u001b[0;34m'sobrenome'\u001b[0m\u001b[0;34m]\u001b[0m\u001b[0;34m)\u001b[0m\u001b[0;34m\u001b[0m\u001b[0;34m\u001b[0m\u001b[0m\n\u001b[0m",
            "\u001b[0;31mKeyError\u001b[0m: 'sobrenome'"
          ]
        }
      ]
    },
    {
      "cell_type": "markdown",
      "source": [
        "### **AttributeError** -> Ocorre quando uma variável não tem um atributo ou função\n",
        "\n",
        "Exemplo:"
      ],
      "metadata": {
        "id": "O5xRz_uqzcn1"
      }
    },
    {
      "cell_type": "code",
      "source": [
        "tupla = (1,2,3,4,5,43,2,1,4,6,7)"
      ],
      "metadata": {
        "id": "8Ycvgl9czmzk"
      },
      "execution_count": 22,
      "outputs": []
    },
    {
      "cell_type": "code",
      "source": [
        "print(tupla.sort()) #A função sort é utilizada somente para List, portanto, quando a colocamos em uma tupla ela retorna um AttributeError"
      ],
      "metadata": {
        "colab": {
          "base_uri": "https://localhost:8080/",
          "height": 166
        },
        "id": "lMTN3aDvzsfx",
        "outputId": "27d7dd91-8054-4971-b2d3-3cad622f5a90"
      },
      "execution_count": 23,
      "outputs": [
        {
          "output_type": "error",
          "ename": "AttributeError",
          "evalue": "ignored",
          "traceback": [
            "\u001b[0;31m---------------------------------------------------------------------------\u001b[0m",
            "\u001b[0;31mAttributeError\u001b[0m                            Traceback (most recent call last)",
            "\u001b[0;32m<ipython-input-23-46072d2f4fc0>\u001b[0m in \u001b[0;36m<module>\u001b[0;34m\u001b[0m\n\u001b[0;32m----> 1\u001b[0;31m \u001b[0mprint\u001b[0m\u001b[0;34m(\u001b[0m\u001b[0mtupla\u001b[0m\u001b[0;34m.\u001b[0m\u001b[0msort\u001b[0m\u001b[0;34m(\u001b[0m\u001b[0;34m)\u001b[0m\u001b[0;34m)\u001b[0m\u001b[0;34m\u001b[0m\u001b[0;34m\u001b[0m\u001b[0m\n\u001b[0m",
            "\u001b[0;31mAttributeError\u001b[0m: 'tuple' object has no attribute 'sort'"
          ]
        }
      ]
    },
    {
      "cell_type": "code",
      "source": [
        "print(tupla.key())"
      ],
      "metadata": {
        "colab": {
          "base_uri": "https://localhost:8080/",
          "height": 166
        },
        "id": "GajZfl6Bz7u6",
        "outputId": "c994c327-aaf9-4937-c5b4-3e8496ead869"
      },
      "execution_count": 24,
      "outputs": [
        {
          "output_type": "error",
          "ename": "AttributeError",
          "evalue": "ignored",
          "traceback": [
            "\u001b[0;31m---------------------------------------------------------------------------\u001b[0m",
            "\u001b[0;31mAttributeError\u001b[0m                            Traceback (most recent call last)",
            "\u001b[0;32m<ipython-input-24-1daa4e378cb4>\u001b[0m in \u001b[0;36m<module>\u001b[0;34m\u001b[0m\n\u001b[0;32m----> 1\u001b[0;31m \u001b[0mprint\u001b[0m\u001b[0;34m(\u001b[0m\u001b[0mtupla\u001b[0m\u001b[0;34m.\u001b[0m\u001b[0mkey\u001b[0m\u001b[0;34m(\u001b[0m\u001b[0;34m)\u001b[0m\u001b[0;34m)\u001b[0m\u001b[0;34m\u001b[0m\u001b[0;34m\u001b[0m\u001b[0m\n\u001b[0m",
            "\u001b[0;31mAttributeError\u001b[0m: 'tuple' object has no attribute 'key'"
          ]
        }
      ]
    },
    {
      "cell_type": "markdown",
      "source": [
        "### **IdentationError** -> Ocorre quando não respeitamos a indentação do Python (que é de 4 espaços)\n",
        "\n",
        "Exemplo:"
      ],
      "metadata": {
        "id": "J_JMqFRJ0ACR"
      }
    },
    {
      "cell_type": "code",
      "source": [
        "def nova():\n",
        "print(nome)"
      ],
      "metadata": {
        "colab": {
          "base_uri": "https://localhost:8080/",
          "height": 131
        },
        "id": "TBiE1tSP0J_o",
        "outputId": "dee85996-4309-4dda-df3f-957116e0b67e"
      },
      "execution_count": 25,
      "outputs": [
        {
          "output_type": "error",
          "ename": "IndentationError",
          "evalue": "ignored",
          "traceback": [
            "\u001b[0;36m  File \u001b[0;32m\"<ipython-input-25-a3d23000457e>\"\u001b[0;36m, line \u001b[0;32m2\u001b[0m\n\u001b[0;31m    print(nome)\u001b[0m\n\u001b[0m    ^\u001b[0m\n\u001b[0;31mIndentationError\u001b[0m\u001b[0;31m:\u001b[0m expected an indented block\n"
          ]
        }
      ]
    },
    {
      "cell_type": "code",
      "source": [
        "if nome < len(nome):\n",
        "print(nome)"
      ],
      "metadata": {
        "colab": {
          "base_uri": "https://localhost:8080/",
          "height": 131
        },
        "id": "OqfiX_tg0QWu",
        "outputId": "8ca65f4d-c7fe-4139-b023-2623d65f2823"
      },
      "execution_count": 26,
      "outputs": [
        {
          "output_type": "error",
          "ename": "IndentationError",
          "evalue": "ignored",
          "traceback": [
            "\u001b[0;36m  File \u001b[0;32m\"<ipython-input-26-5d2aa679d05e>\"\u001b[0;36m, line \u001b[0;32m2\u001b[0m\n\u001b[0;31m    print(nome)\u001b[0m\n\u001b[0m    ^\u001b[0m\n\u001b[0;31mIndentationError\u001b[0m\u001b[0;31m:\u001b[0m expected an indented block\n"
          ]
        }
      ]
    },
    {
      "cell_type": "markdown",
      "source": [
        "Execptions e Erros são sinônimos na programação"
      ],
      "metadata": {
        "id": "aorYzSwY05ex"
      }
    },
    {
      "cell_type": "markdown",
      "source": [
        "# **Levantando os próprios erros com raise**"
      ],
      "metadata": {
        "id": "esqAZ7Jn0_u1"
      }
    },
    {
      "cell_type": "markdown",
      "source": [
        "Em Python, podemos levantar erros usando a declaração raise. A declaração raise permite que você levante exceções explicitamente em seu código, indicando que algo inesperado aconteceu e que o programa não pode continuar a ser executado normalmente.\n",
        "\n",
        "Para levantar um erro usando raise em Python, você pode usar a seguinte sintaxe:"
      ],
      "metadata": {
        "id": "00IvbJ453SSb"
      }
    },
    {
      "cell_type": "markdown",
      "source": [
        "raise TipoDoErro('Mensagem de erro')"
      ],
      "metadata": {
        "id": "iQMnQ_vQ3cyO"
      }
    },
    {
      "cell_type": "markdown",
      "source": [
        "Por exemplo, se você quiser levantar um erro do tipo ValueError com uma mensagem de erro personalizada, pode fazer o seguinte:"
      ],
      "metadata": {
        "id": "MTkyPCmQ3VvP"
      }
    },
    {
      "cell_type": "code",
      "source": [
        "x = -1\n",
        "\n",
        "if x < 0:\n",
        "    raise ValueError(\"O valor de x não pode ser negativo!\")"
      ],
      "metadata": {
        "colab": {
          "base_uri": "https://localhost:8080/",
          "height": 201
        },
        "id": "EKY2a7OU3XoZ",
        "outputId": "d24aeaf6-5862-4bf5-ba5e-d3261e3b060a"
      },
      "execution_count": 27,
      "outputs": [
        {
          "output_type": "error",
          "ename": "ValueError",
          "evalue": "ignored",
          "traceback": [
            "\u001b[0;31m---------------------------------------------------------------------------\u001b[0m",
            "\u001b[0;31mValueError\u001b[0m                                Traceback (most recent call last)",
            "\u001b[0;32m<ipython-input-27-76d249981745>\u001b[0m in \u001b[0;36m<module>\u001b[0;34m\u001b[0m\n\u001b[1;32m      2\u001b[0m \u001b[0;34m\u001b[0m\u001b[0m\n\u001b[1;32m      3\u001b[0m \u001b[0;32mif\u001b[0m \u001b[0mx\u001b[0m \u001b[0;34m<\u001b[0m \u001b[0;36m0\u001b[0m\u001b[0;34m:\u001b[0m\u001b[0;34m\u001b[0m\u001b[0;34m\u001b[0m\u001b[0m\n\u001b[0;32m----> 4\u001b[0;31m     \u001b[0;32mraise\u001b[0m \u001b[0mValueError\u001b[0m\u001b[0;34m(\u001b[0m\u001b[0;34m\"O valor de x não pode ser negativo!\"\u001b[0m\u001b[0;34m)\u001b[0m\u001b[0;34m\u001b[0m\u001b[0;34m\u001b[0m\u001b[0m\n\u001b[0m",
            "\u001b[0;31mValueError\u001b[0m: O valor de x não pode ser negativo!"
          ]
        }
      ]
    },
    {
      "cell_type": "markdown",
      "source": [
        "Ao executar o código acima, você verá a mensagem de erro personalizada que você definiu:"
      ],
      "metadata": {
        "id": "EHz6qhME3gif"
      }
    },
    {
      "cell_type": "markdown",
      "source": [
        "**O valor de x não pode ser negativo!**"
      ],
      "metadata": {
        "id": "e-Ax1Btw3iXJ"
      }
    },
    {
      "cell_type": "markdown",
      "source": [
        "Observe que a declaração raise interrompe a execução do código no ponto em que é chamada e levanta uma exceção para ser tratada em outro lugar no programa."
      ],
      "metadata": {
        "id": "lyunTWnN3klM"
      }
    },
    {
      "cell_type": "code",
      "source": [
        "raise ValueError('Valor incorreto')"
      ],
      "metadata": {
        "colab": {
          "base_uri": "https://localhost:8080/",
          "height": 166
        },
        "id": "mhrcpKIG3rdA",
        "outputId": "e0efce75-f0a6-44fb-be7d-f692840d9587"
      },
      "execution_count": 28,
      "outputs": [
        {
          "output_type": "error",
          "ename": "ValueError",
          "evalue": "ignored",
          "traceback": [
            "\u001b[0;31m---------------------------------------------------------------------------\u001b[0m",
            "\u001b[0;31mValueError\u001b[0m                                Traceback (most recent call last)",
            "\u001b[0;32m<ipython-input-28-09e1a8f21e8f>\u001b[0m in \u001b[0;36m<module>\u001b[0;34m\u001b[0m\n\u001b[0;32m----> 1\u001b[0;31m \u001b[0;32mraise\u001b[0m \u001b[0mValueError\u001b[0m\u001b[0;34m(\u001b[0m\u001b[0;34m'Valor incorreto'\u001b[0m\u001b[0;34m)\u001b[0m\u001b[0;34m\u001b[0m\u001b[0;34m\u001b[0m\u001b[0m\n\u001b[0m",
            "\u001b[0;31mValueError\u001b[0m: Valor incorreto"
          ]
        }
      ]
    },
    {
      "cell_type": "markdown",
      "source": [
        "**Exemplo real**"
      ],
      "metadata": {
        "id": "rUFX6d9X3wwq"
      }
    },
    {
      "cell_type": "code",
      "source": [
        "def funcao(texto, cor):\n",
        "  if type(texto) is not str:\n",
        "    raise TypeError('O texto deve ser uma string')\n",
        "  if type(cor) is not str:\n",
        "    raise TypeError('A cor deve ser uma string')\n",
        "  else:\n",
        "    return f'Definidir o texto {texto} com a cor {cor}'"
      ],
      "metadata": {
        "id": "KDFUxp373ysh"
      },
      "execution_count": 43,
      "outputs": []
    },
    {
      "cell_type": "code",
      "source": [
        "funcao('Alo mundo', 'azul')"
      ],
      "metadata": {
        "colab": {
          "base_uri": "https://localhost:8080/",
          "height": 35
        },
        "id": "dDnAsZV54BsN",
        "outputId": "281b7157-bf4f-4258-baad-64330f71b76f"
      },
      "execution_count": 44,
      "outputs": [
        {
          "output_type": "execute_result",
          "data": {
            "text/plain": [
              "'Definidir o texto Alo mundo com a cor azul'"
            ],
            "application/vnd.google.colaboratory.intrinsic+json": {
              "type": "string"
            }
          },
          "metadata": {},
          "execution_count": 44
        }
      ]
    },
    {
      "cell_type": "code",
      "source": [
        "funcao(4, 'azul')"
      ],
      "metadata": {
        "colab": {
          "base_uri": "https://localhost:8080/",
          "height": 287
        },
        "id": "haSWPL1f4TiV",
        "outputId": "e9605a11-658f-4947-8334-39b7c628fcd7"
      },
      "execution_count": 45,
      "outputs": [
        {
          "output_type": "error",
          "ename": "TypeError",
          "evalue": "ignored",
          "traceback": [
            "\u001b[0;31m---------------------------------------------------------------------------\u001b[0m",
            "\u001b[0;31mTypeError\u001b[0m                                 Traceback (most recent call last)",
            "\u001b[0;32m<ipython-input-45-3f69a0680d82>\u001b[0m in \u001b[0;36m<module>\u001b[0;34m\u001b[0m\n\u001b[0;32m----> 1\u001b[0;31m \u001b[0mfuncao\u001b[0m\u001b[0;34m(\u001b[0m\u001b[0;36m4\u001b[0m\u001b[0;34m,\u001b[0m \u001b[0;34m'azul'\u001b[0m\u001b[0;34m)\u001b[0m\u001b[0;34m\u001b[0m\u001b[0;34m\u001b[0m\u001b[0m\n\u001b[0m",
            "\u001b[0;32m<ipython-input-43-4bee597c0c68>\u001b[0m in \u001b[0;36mfuncao\u001b[0;34m(texto, cor)\u001b[0m\n\u001b[1;32m      1\u001b[0m \u001b[0;32mdef\u001b[0m \u001b[0mfuncao\u001b[0m\u001b[0;34m(\u001b[0m\u001b[0mtexto\u001b[0m\u001b[0;34m,\u001b[0m \u001b[0mcor\u001b[0m\u001b[0;34m)\u001b[0m\u001b[0;34m:\u001b[0m\u001b[0;34m\u001b[0m\u001b[0;34m\u001b[0m\u001b[0m\n\u001b[1;32m      2\u001b[0m   \u001b[0;32mif\u001b[0m \u001b[0mtype\u001b[0m\u001b[0;34m(\u001b[0m\u001b[0mtexto\u001b[0m\u001b[0;34m)\u001b[0m \u001b[0;32mis\u001b[0m \u001b[0;32mnot\u001b[0m \u001b[0mstr\u001b[0m\u001b[0;34m:\u001b[0m\u001b[0;34m\u001b[0m\u001b[0;34m\u001b[0m\u001b[0m\n\u001b[0;32m----> 3\u001b[0;31m     \u001b[0;32mraise\u001b[0m \u001b[0mTypeError\u001b[0m\u001b[0;34m(\u001b[0m\u001b[0;34m'O texto deve ser uma string'\u001b[0m\u001b[0;34m)\u001b[0m\u001b[0;34m\u001b[0m\u001b[0;34m\u001b[0m\u001b[0m\n\u001b[0m\u001b[1;32m      4\u001b[0m   \u001b[0;32mif\u001b[0m \u001b[0mtype\u001b[0m\u001b[0;34m(\u001b[0m\u001b[0mcor\u001b[0m\u001b[0;34m)\u001b[0m \u001b[0;32mis\u001b[0m \u001b[0;32mnot\u001b[0m \u001b[0mstr\u001b[0m\u001b[0;34m:\u001b[0m\u001b[0;34m\u001b[0m\u001b[0;34m\u001b[0m\u001b[0m\n\u001b[1;32m      5\u001b[0m     \u001b[0;32mraise\u001b[0m \u001b[0mTypeError\u001b[0m\u001b[0;34m(\u001b[0m\u001b[0;34m'A cor deve ser uma string'\u001b[0m\u001b[0;34m)\u001b[0m\u001b[0;34m\u001b[0m\u001b[0;34m\u001b[0m\u001b[0m\n",
            "\u001b[0;31mTypeError\u001b[0m: O texto deve ser uma string"
          ]
        }
      ]
    },
    {
      "cell_type": "code",
      "source": [
        "funcao('O mundo é lindo', 6)"
      ],
      "metadata": {
        "colab": {
          "base_uri": "https://localhost:8080/",
          "height": 287
        },
        "id": "gYlUSoce4k2I",
        "outputId": "f2219630-c97c-466a-eccb-abaca1846ac6"
      },
      "execution_count": 46,
      "outputs": [
        {
          "output_type": "error",
          "ename": "TypeError",
          "evalue": "ignored",
          "traceback": [
            "\u001b[0;31m---------------------------------------------------------------------------\u001b[0m",
            "\u001b[0;31mTypeError\u001b[0m                                 Traceback (most recent call last)",
            "\u001b[0;32m<ipython-input-46-c3a3f7bbde73>\u001b[0m in \u001b[0;36m<module>\u001b[0;34m\u001b[0m\n\u001b[0;32m----> 1\u001b[0;31m \u001b[0mfuncao\u001b[0m\u001b[0;34m(\u001b[0m\u001b[0;34m'O mundo é lindo'\u001b[0m\u001b[0;34m,\u001b[0m \u001b[0;36m6\u001b[0m\u001b[0;34m)\u001b[0m\u001b[0;34m\u001b[0m\u001b[0;34m\u001b[0m\u001b[0m\n\u001b[0m",
            "\u001b[0;32m<ipython-input-43-4bee597c0c68>\u001b[0m in \u001b[0;36mfuncao\u001b[0;34m(texto, cor)\u001b[0m\n\u001b[1;32m      3\u001b[0m     \u001b[0;32mraise\u001b[0m \u001b[0mTypeError\u001b[0m\u001b[0;34m(\u001b[0m\u001b[0;34m'O texto deve ser uma string'\u001b[0m\u001b[0;34m)\u001b[0m\u001b[0;34m\u001b[0m\u001b[0;34m\u001b[0m\u001b[0m\n\u001b[1;32m      4\u001b[0m   \u001b[0;32mif\u001b[0m \u001b[0mtype\u001b[0m\u001b[0;34m(\u001b[0m\u001b[0mcor\u001b[0m\u001b[0;34m)\u001b[0m \u001b[0;32mis\u001b[0m \u001b[0;32mnot\u001b[0m \u001b[0mstr\u001b[0m\u001b[0;34m:\u001b[0m\u001b[0;34m\u001b[0m\u001b[0;34m\u001b[0m\u001b[0m\n\u001b[0;32m----> 5\u001b[0;31m     \u001b[0;32mraise\u001b[0m \u001b[0mTypeError\u001b[0m\u001b[0;34m(\u001b[0m\u001b[0;34m'A cor deve ser uma string'\u001b[0m\u001b[0;34m)\u001b[0m\u001b[0;34m\u001b[0m\u001b[0;34m\u001b[0m\u001b[0m\n\u001b[0m\u001b[1;32m      6\u001b[0m   \u001b[0;32melse\u001b[0m\u001b[0;34m:\u001b[0m\u001b[0;34m\u001b[0m\u001b[0;34m\u001b[0m\u001b[0m\n\u001b[1;32m      7\u001b[0m     \u001b[0;32mreturn\u001b[0m \u001b[0;34mf'Definidir o texto {texto} com a cor {cor}'\u001b[0m\u001b[0;34m\u001b[0m\u001b[0;34m\u001b[0m\u001b[0m\n",
            "\u001b[0;31mTypeError\u001b[0m: A cor deve ser uma string"
          ]
        }
      ]
    },
    {
      "cell_type": "markdown",
      "source": [
        "Refatorando função acima"
      ],
      "metadata": {
        "id": "RdRZ53oK5xsO"
      }
    },
    {
      "cell_type": "code",
      "source": [
        "def colorir(texto, cor):\n",
        "  cores = ('verde', 'amarelo', 'azul', 'branco')\n",
        "  if type(texto) is not str:\n",
        "    raise TypeError('O texto deve ser uma string')\n",
        "  if type(cor) is not str:\n",
        "    raise TypeError('A cor deve ser uma string')\n",
        "  if cor not in cores:\n",
        "    raise ValueError('A cor precisa precisar ser uma entre: ', cores)\n",
        "  else:\n",
        "    return f'Definidir o texto {texto} com a cor {cor}'"
      ],
      "metadata": {
        "id": "ni_BLSu250fM"
      },
      "execution_count": 47,
      "outputs": []
    },
    {
      "cell_type": "code",
      "source": [
        "colorir('A palavra é essa', 'amarelo')"
      ],
      "metadata": {
        "colab": {
          "base_uri": "https://localhost:8080/",
          "height": 35
        },
        "id": "aEYjKlwc6Mng",
        "outputId": "7ccfb02e-5089-43be-e074-851e695417d7"
      },
      "execution_count": 48,
      "outputs": [
        {
          "output_type": "execute_result",
          "data": {
            "text/plain": [
              "'Definidir o texto A palavra é essa com a cor amarelo'"
            ],
            "application/vnd.google.colaboratory.intrinsic+json": {
              "type": "string"
            }
          },
          "metadata": {},
          "execution_count": 48
        }
      ]
    },
    {
      "cell_type": "code",
      "source": [
        "colorir('A palavra é essa', 'vermelho')"
      ],
      "metadata": {
        "colab": {
          "base_uri": "https://localhost:8080/",
          "height": 287
        },
        "id": "3oW8Asbd6Rva",
        "outputId": "1cd6d8a9-8806-45fa-cfcb-ba50aa7ec7bb"
      },
      "execution_count": 49,
      "outputs": [
        {
          "output_type": "error",
          "ename": "ValueError",
          "evalue": "ignored",
          "traceback": [
            "\u001b[0;31m---------------------------------------------------------------------------\u001b[0m",
            "\u001b[0;31mValueError\u001b[0m                                Traceback (most recent call last)",
            "\u001b[0;32m<ipython-input-49-d16afe0d52e0>\u001b[0m in \u001b[0;36m<module>\u001b[0;34m\u001b[0m\n\u001b[0;32m----> 1\u001b[0;31m \u001b[0mcolorir\u001b[0m\u001b[0;34m(\u001b[0m\u001b[0;34m'A palavra é essa'\u001b[0m\u001b[0;34m,\u001b[0m \u001b[0;34m'vermelho'\u001b[0m\u001b[0;34m)\u001b[0m\u001b[0;34m\u001b[0m\u001b[0;34m\u001b[0m\u001b[0m\n\u001b[0m",
            "\u001b[0;32m<ipython-input-47-dcf49a4fbad6>\u001b[0m in \u001b[0;36mcolorir\u001b[0;34m(texto, cor)\u001b[0m\n\u001b[1;32m      6\u001b[0m     \u001b[0;32mraise\u001b[0m \u001b[0mTypeError\u001b[0m\u001b[0;34m(\u001b[0m\u001b[0;34m'A cor deve ser uma string'\u001b[0m\u001b[0;34m)\u001b[0m\u001b[0;34m\u001b[0m\u001b[0;34m\u001b[0m\u001b[0m\n\u001b[1;32m      7\u001b[0m   \u001b[0;32mif\u001b[0m \u001b[0mcor\u001b[0m \u001b[0;32mnot\u001b[0m \u001b[0;32min\u001b[0m \u001b[0mcores\u001b[0m\u001b[0;34m:\u001b[0m\u001b[0;34m\u001b[0m\u001b[0;34m\u001b[0m\u001b[0m\n\u001b[0;32m----> 8\u001b[0;31m     \u001b[0;32mraise\u001b[0m \u001b[0mValueError\u001b[0m\u001b[0;34m(\u001b[0m\u001b[0;34m'A cor precisa precisar ser uma entre: '\u001b[0m\u001b[0;34m,\u001b[0m \u001b[0mcores\u001b[0m\u001b[0;34m)\u001b[0m\u001b[0;34m\u001b[0m\u001b[0;34m\u001b[0m\u001b[0m\n\u001b[0m\u001b[1;32m      9\u001b[0m   \u001b[0;32melse\u001b[0m\u001b[0;34m:\u001b[0m\u001b[0;34m\u001b[0m\u001b[0;34m\u001b[0m\u001b[0m\n\u001b[1;32m     10\u001b[0m     \u001b[0;32mreturn\u001b[0m \u001b[0;34mf'Definidir o texto {texto} com a cor {cor}'\u001b[0m\u001b[0;34m\u001b[0m\u001b[0;34m\u001b[0m\u001b[0m\n",
            "\u001b[0;31mValueError\u001b[0m: ('A cor precisa precisar ser uma entre: ', ('verde', 'amarelo', 'azul', 'branco'))"
          ]
        }
      ]
    },
    {
      "cell_type": "markdown",
      "source": [
        "O raise, assim como o return, finaliza a função. Ou seja, nada após o raise é executado"
      ],
      "metadata": {
        "id": "_qt9U90V6qLo"
      }
    },
    {
      "cell_type": "code",
      "source": [
        "def colorir(texto, cor):\n",
        "  cores = ('verde', 'amarelo', 'azul', 'branco')\n",
        "  if type(texto) is not str:\n",
        "    raise TypeError('O texto deve ser uma string')\n",
        "    print('Depois do Raise')\n",
        "  if type(cor) is not str:\n",
        "    raise TypeError('A cor deve ser uma string')\n",
        "  if cor not in cores:\n",
        "    raise ValueError('A cor precisa precisar ser uma entre: ', cores)\n",
        "  else:\n",
        "    return f'Definidir o texto {texto} com a cor {cor}'"
      ],
      "metadata": {
        "id": "xycoyk2K6xqa"
      },
      "execution_count": null,
      "outputs": []
    },
    {
      "cell_type": "code",
      "source": [
        "colorir(4, 'verde')"
      ],
      "metadata": {
        "colab": {
          "base_uri": "https://localhost:8080/",
          "height": 287
        },
        "id": "lTr3NNJv61Zg",
        "outputId": "143cd2df-0170-4bd8-ff8a-ef70f3d92537"
      },
      "execution_count": 50,
      "outputs": [
        {
          "output_type": "error",
          "ename": "TypeError",
          "evalue": "ignored",
          "traceback": [
            "\u001b[0;31m---------------------------------------------------------------------------\u001b[0m",
            "\u001b[0;31mTypeError\u001b[0m                                 Traceback (most recent call last)",
            "\u001b[0;32m<ipython-input-50-ace7af84630b>\u001b[0m in \u001b[0;36m<module>\u001b[0;34m\u001b[0m\n\u001b[0;32m----> 1\u001b[0;31m \u001b[0mcolorir\u001b[0m\u001b[0;34m(\u001b[0m\u001b[0;36m4\u001b[0m\u001b[0;34m,\u001b[0m \u001b[0;34m'verde'\u001b[0m\u001b[0;34m)\u001b[0m\u001b[0;34m\u001b[0m\u001b[0;34m\u001b[0m\u001b[0m\n\u001b[0m",
            "\u001b[0;32m<ipython-input-47-dcf49a4fbad6>\u001b[0m in \u001b[0;36mcolorir\u001b[0;34m(texto, cor)\u001b[0m\n\u001b[1;32m      2\u001b[0m   \u001b[0mcores\u001b[0m \u001b[0;34m=\u001b[0m \u001b[0;34m(\u001b[0m\u001b[0;34m'verde'\u001b[0m\u001b[0;34m,\u001b[0m \u001b[0;34m'amarelo'\u001b[0m\u001b[0;34m,\u001b[0m \u001b[0;34m'azul'\u001b[0m\u001b[0;34m,\u001b[0m \u001b[0;34m'branco'\u001b[0m\u001b[0;34m)\u001b[0m\u001b[0;34m\u001b[0m\u001b[0;34m\u001b[0m\u001b[0m\n\u001b[1;32m      3\u001b[0m   \u001b[0;32mif\u001b[0m \u001b[0mtype\u001b[0m\u001b[0;34m(\u001b[0m\u001b[0mtexto\u001b[0m\u001b[0;34m)\u001b[0m \u001b[0;32mis\u001b[0m \u001b[0;32mnot\u001b[0m \u001b[0mstr\u001b[0m\u001b[0;34m:\u001b[0m\u001b[0;34m\u001b[0m\u001b[0;34m\u001b[0m\u001b[0m\n\u001b[0;32m----> 4\u001b[0;31m     \u001b[0;32mraise\u001b[0m \u001b[0mTypeError\u001b[0m\u001b[0;34m(\u001b[0m\u001b[0;34m'O texto deve ser uma string'\u001b[0m\u001b[0;34m)\u001b[0m\u001b[0;34m\u001b[0m\u001b[0;34m\u001b[0m\u001b[0m\n\u001b[0m\u001b[1;32m      5\u001b[0m   \u001b[0;32mif\u001b[0m \u001b[0mtype\u001b[0m\u001b[0;34m(\u001b[0m\u001b[0mcor\u001b[0m\u001b[0;34m)\u001b[0m \u001b[0;32mis\u001b[0m \u001b[0;32mnot\u001b[0m \u001b[0mstr\u001b[0m\u001b[0;34m:\u001b[0m\u001b[0;34m\u001b[0m\u001b[0;34m\u001b[0m\u001b[0m\n\u001b[1;32m      6\u001b[0m     \u001b[0;32mraise\u001b[0m \u001b[0mTypeError\u001b[0m\u001b[0;34m(\u001b[0m\u001b[0;34m'A cor deve ser uma string'\u001b[0m\u001b[0;34m)\u001b[0m\u001b[0;34m\u001b[0m\u001b[0;34m\u001b[0m\u001b[0m\n",
            "\u001b[0;31mTypeError\u001b[0m: O texto deve ser uma string"
          ]
        }
      ]
    },
    {
      "cell_type": "markdown",
      "source": [
        "# **O bloco Try/Except**"
      ],
      "metadata": {
        "id": "n2ZRmt7G-cWr"
      }
    },
    {
      "cell_type": "markdown",
      "source": [
        "A estrutura try/except em Python é usada para lidar com exceções que podem ocorrer durante a execução do código. Ela permite que você \"tente\" executar um bloco de código e \"capture\" quaisquer exceções que possam ser levantadas, para que você possa lidar com elas de forma adequada.\n",
        "\n",
        "A sintaxe básica da estrutura try/except é a seguinte:"
      ],
      "metadata": {
        "id": "-AbYZHRv-vtw"
      }
    },
    {
      "cell_type": "code",
      "source": [
        "try:\n",
        "    # bloco de código que pode gerar exceções\n",
        "except Excecao1:\n",
        "    # bloco de código a ser executado caso a exceção Excecao1 seja levantada\n",
        "except Excecao2:\n",
        "    # bloco de código a ser executado caso a exceção Excecao2 seja levantada\n",
        "...\n",
        "except ExcecaoN:\n",
        "    # bloco de código a ser executado caso a exceção ExcecaoN seja levantada\n",
        "else:\n",
        "    # bloco de código a ser executado caso nenhuma exceção seja levantada no bloco try\n",
        "finally:\n",
        "    # bloco de código que será sempre executado, independentemente de exceções terem sido levantadas ou não\n"
      ],
      "metadata": {
        "id": "Ml-ivy5R-wVk"
      },
      "execution_count": null,
      "outputs": []
    },
    {
      "cell_type": "markdown",
      "source": [
        "O bloco try contém o código que pode levantar exceções. Se uma exceção for levantada dentro do bloco try, a execução será interrompida e o bloco except correspondente à exceção levantada será executado.\n",
        "\n",
        "Você pode especificar várias cláusulas except, uma para cada tipo de exceção que você deseja lidar. Se uma exceção for levantada que não corresponda a nenhuma das cláusulas except, ela será passada para a próxima instrução try/except que a contiver.\n",
        "\n",
        "O bloco else é opcional e contém o código a ser executado caso nenhuma exceção seja levantada dentro do bloco try.\n",
        "\n",
        "O bloco finally também é opcional e contém o código que será sempre executado, independentemente de exceções terem sido levantadas ou não.\n",
        "\n",
        "O uso da estrutura try/except é uma boa prática de programação para lidar com exceções e evitar que o programa pare de funcionar ou apresente comportamentos indesejados em caso de erros ou exceções."
      ],
      "metadata": {
        "id": "u2btgXAq-yho"
      }
    },
    {
      "cell_type": "markdown",
      "source": [
        "Exemplo 1 - Tratando um erro generico"
      ],
      "metadata": {
        "id": "i7JJu5RLCVrI"
      }
    },
    {
      "cell_type": "code",
      "source": [
        "geek()"
      ],
      "metadata": {
        "colab": {
          "base_uri": "https://localhost:8080/",
          "height": 166
        },
        "id": "v7XnHy0bCZKX",
        "outputId": "7cffab4f-961b-4277-d502-9f1e7f79d77f"
      },
      "execution_count": 51,
      "outputs": [
        {
          "output_type": "error",
          "ename": "NameError",
          "evalue": "ignored",
          "traceback": [
            "\u001b[0;31m---------------------------------------------------------------------------\u001b[0m",
            "\u001b[0;31mNameError\u001b[0m                                 Traceback (most recent call last)",
            "\u001b[0;32m<ipython-input-51-8d119cda765e>\u001b[0m in \u001b[0;36m<module>\u001b[0;34m\u001b[0m\n\u001b[0;32m----> 1\u001b[0;31m \u001b[0mgeek\u001b[0m\u001b[0;34m(\u001b[0m\u001b[0;34m)\u001b[0m\u001b[0;34m\u001b[0m\u001b[0;34m\u001b[0m\u001b[0m\n\u001b[0m",
            "\u001b[0;31mNameError\u001b[0m: name 'geek' is not defined"
          ]
        }
      ]
    },
    {
      "cell_type": "markdown",
      "source": [
        "Tente executar a função geek(), caso você encontre erros, imprima a mensagem de erro."
      ],
      "metadata": {
        "id": "rooF9A4VCzj8"
      }
    },
    {
      "cell_type": "code",
      "source": [
        "try:\n",
        "  geek()\n",
        "except:\n",
        "  print('Deu algum error')"
      ],
      "metadata": {
        "colab": {
          "base_uri": "https://localhost:8080/"
        },
        "id": "KQ8lCD82Cfe_",
        "outputId": "2976115f-34e8-4393-9331-0d7ff4d9e96b"
      },
      "execution_count": 52,
      "outputs": [
        {
          "output_type": "stream",
          "name": "stdout",
          "text": [
            "Deu algum error\n"
          ]
        }
      ]
    }
  ]
}