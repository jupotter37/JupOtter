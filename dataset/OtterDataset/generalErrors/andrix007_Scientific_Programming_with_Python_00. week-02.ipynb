{
 "cells": [
  {
   "cell_type": "markdown",
   "id": "c39a9390-dda4-4e44-9f97-1cdda9c485c2",
   "metadata": {},
   "source": []
  },
  {
   "cell_type": "markdown",
   "id": "06b2d17d-453e-4955-930c-b088a931634f",
   "metadata": {},
   "source": [
    "# Lists in Python"
   ]
  },
  {
   "cell_type": "markdown",
   "id": "c75b0d3c-648e-4dd2-b2da-3028b7b207b3",
   "metadata": {},
   "source": [
    "## Initializing a List"
   ]
  },
  {
   "cell_type": "code",
   "execution_count": null,
   "id": "4c8cae6e-5f92-4454-ab29-a78058d26a89",
   "metadata": {},
   "outputs": [],
   "source": []
  },
  {
   "cell_type": "code",
   "execution_count": 6,
   "id": "b74f3494-f4e0-4cc1-9e06-dd6200fccb42",
   "metadata": {},
   "outputs": [
    {
     "name": "stdout",
     "output_type": "stream",
     "text": [
      "[10, 20, 30, 40, 50]\n"
     ]
    }
   ],
   "source": [
    "values = [10, 20, 30, 40, 50]\n",
    "print(values)"
   ]
  },
  {
   "cell_type": "markdown",
   "id": "932b9b6b-f718-493e-878e-ff4e1aa43296",
   "metadata": {},
   "source": [
    "## Homogeneous vs. Hetrogeneous data items"
   ]
  },
  {
   "cell_type": "code",
   "execution_count": 12,
   "id": "19f09bf8-d7c7-4eca-90c9-405acf8bf6bf",
   "metadata": {},
   "outputs": [
    {
     "name": "stdout",
     "output_type": "stream",
     "text": [
      "10\n",
      "120.0\n",
      "Office Laptop\n",
      "True\n",
      "True\n"
     ]
    }
   ],
   "source": [
    "items = [10, 1.2E2, 'Office Laptop', True, None]\n",
    "\n",
    "print (items[0])\n",
    "print (items[1])\n",
    "print (items[2])\n",
    "print (items[3])\n",
    "print (items[3])"
   ]
  },
  {
   "cell_type": "markdown",
   "id": "8f013183-dd48-4927-b7b9-abd9c815417d",
   "metadata": {},
   "source": [
    "## Indexing and slicing the list"
   ]
  },
  {
   "cell_type": "code",
   "execution_count": 52,
   "id": "779ee8bd-eff3-4643-8de6-e62332ef4b0a",
   "metadata": {},
   "outputs": [],
   "source": [
    "values = [10, 20, 30, 40, 50, 60, 70, 80, 90, 100]            # Line No. 0"
   ]
  },
  {
   "cell_type": "code",
   "execution_count": 14,
   "id": "a5030d0e-3540-4aef-94d8-f48d58ae8ca5",
   "metadata": {},
   "outputs": [
    {
     "name": "stdout",
     "output_type": "stream",
     "text": [
      "values[0]: 10\n"
     ]
    }
   ],
   "source": [
    "print (f'values[0]: {values[0]}')            # Line No. 1"
   ]
  },
  {
   "cell_type": "code",
   "execution_count": 15,
   "id": "5f0b0ef5-3820-4874-ae78-7398ddb0ca18",
   "metadata": {},
   "outputs": [
    {
     "name": "stdout",
     "output_type": "stream",
     "text": [
      "values[9]: 100\n"
     ]
    }
   ],
   "source": [
    "print (f'values[9]: {values[9]}')            # Line No. 2"
   ]
  },
  {
   "cell_type": "code",
   "execution_count": 16,
   "id": "6a89d00b-7770-4b05-8ed0-be332141386a",
   "metadata": {},
   "outputs": [
    {
     "ename": "IndexError",
     "evalue": "list index out of range",
     "output_type": "error",
     "traceback": [
      "\u001b[1;31m---------------------------------------------------------------------------\u001b[0m",
      "\u001b[1;31mIndexError\u001b[0m                                Traceback (most recent call last)",
      "Cell \u001b[1;32mIn[16], line 1\u001b[0m\n\u001b[1;32m----> 1\u001b[0m \u001b[38;5;28mprint\u001b[39m (\u001b[38;5;124mf\u001b[39m\u001b[38;5;124m'\u001b[39m\u001b[38;5;124mvalues[10]: \u001b[39m\u001b[38;5;132;01m{\u001b[39;00m\u001b[43mvalues\u001b[49m\u001b[43m[\u001b[49m\u001b[38;5;241;43m10\u001b[39;49m\u001b[43m]\u001b[49m\u001b[38;5;132;01m}\u001b[39;00m\u001b[38;5;124m'\u001b[39m)            \u001b[38;5;66;03m# Line No. 3\u001b[39;00m\n",
      "\u001b[1;31mIndexError\u001b[0m: list index out of range"
     ]
    }
   ],
   "source": [
    "print (f'values[10]: {values[10]}')            # Line No. 3"
   ]
  },
  {
   "cell_type": "code",
   "execution_count": 17,
   "id": "c57b44e2-3a2e-4e56-8627-cbada67d20d2",
   "metadata": {},
   "outputs": [
    {
     "name": "stdout",
     "output_type": "stream",
     "text": [
      "values[-1]: 100\n"
     ]
    }
   ],
   "source": [
    "print (f'values[-1]: {values[-1]}')            # Line No. 4"
   ]
  },
  {
   "cell_type": "code",
   "execution_count": 53,
   "id": "ecaa45f2-af9d-4007-b955-4539807d0141",
   "metadata": {},
   "outputs": [
    {
     "name": "stdout",
     "output_type": "stream",
     "text": [
      "values[-10]: 10\n"
     ]
    }
   ],
   "source": [
    "print (f'values[-10]: {values[-10]}')            # Line No. 5"
   ]
  },
  {
   "cell_type": "code",
   "execution_count": 19,
   "id": "84183e8b-b21c-4d20-95d9-d6042df32f5c",
   "metadata": {},
   "outputs": [
    {
     "ename": "IndexError",
     "evalue": "list index out of range",
     "output_type": "error",
     "traceback": [
      "\u001b[1;31m---------------------------------------------------------------------------\u001b[0m",
      "\u001b[1;31mIndexError\u001b[0m                                Traceback (most recent call last)",
      "Cell \u001b[1;32mIn[19], line 1\u001b[0m\n\u001b[1;32m----> 1\u001b[0m \u001b[38;5;28mprint\u001b[39m (\u001b[38;5;124mf\u001b[39m\u001b[38;5;124m'\u001b[39m\u001b[38;5;124mvalues[-11]: \u001b[39m\u001b[38;5;132;01m{\u001b[39;00m\u001b[43mvalues\u001b[49m\u001b[43m[\u001b[49m\u001b[38;5;241;43m-\u001b[39;49m\u001b[38;5;241;43m11\u001b[39;49m\u001b[43m]\u001b[49m\u001b[38;5;132;01m}\u001b[39;00m\u001b[38;5;124m'\u001b[39m)            \u001b[38;5;66;03m# Line No. 6\u001b[39;00m\n",
      "\u001b[1;31mIndexError\u001b[0m: list index out of range"
     ]
    }
   ],
   "source": [
    "print (f'values[-11]: {values[-11]}')            # Line No. 6"
   ]
  },
  {
   "cell_type": "code",
   "execution_count": 54,
   "id": "1cad21ce-ce49-4f51-a1af-eb149c9af020",
   "metadata": {},
   "outputs": [
    {
     "name": "stdout",
     "output_type": "stream",
     "text": [
      "values[:5]: [10, 20, 30, 40, 50]\n"
     ]
    }
   ],
   "source": [
    "print (f'values[:5]: {values[:5]}')            # Line No. 7"
   ]
  },
  {
   "cell_type": "code",
   "execution_count": 21,
   "id": "a5bec322-379a-4dad-b4ae-0a7d2cfd17eb",
   "metadata": {},
   "outputs": [
    {
     "name": "stdout",
     "output_type": "stream",
     "text": [
      "values[5:]: [60, 70, 80, 90, 100]\n"
     ]
    }
   ],
   "source": [
    "print (f'values[5:]: {values[5:]}')            # Line No. 8"
   ]
  },
  {
   "cell_type": "code",
   "execution_count": 22,
   "id": "d8271b49-7e6e-4672-96fb-93fa0bd8ce1b",
   "metadata": {},
   "outputs": [
    {
     "name": "stdout",
     "output_type": "stream",
     "text": [
      "values[:]: [10, 20, 30, 40, 50, 60, 70, 80, 90, 100]\n"
     ]
    }
   ],
   "source": [
    "print (f'values[:]: {values[:]}')            # Line No. 9"
   ]
  },
  {
   "cell_type": "code",
   "execution_count": 27,
   "id": "a9081d49-560a-4861-a22f-19a4c523703e",
   "metadata": {},
   "outputs": [
    {
     "name": "stdout",
     "output_type": "stream",
     "text": [
      "values[:]: [10, 20, 30, 40, 50, 60, 70, 80, 90, 100]\n"
     ]
    }
   ],
   "source": [
    "#print (f'values[:]: {values[]}')            # Line No. 9.1"
   ]
  },
  {
   "cell_type": "code",
   "execution_count": 29,
   "id": "d8e3b448-466e-4ce7-b5c1-d9fa0ccca6ed",
   "metadata": {},
   "outputs": [
    {
     "name": "stdout",
     "output_type": "stream",
     "text": [
      "values[-6:]: [50, 60, 70, 80, 90, 100]\n"
     ]
    }
   ],
   "source": [
    "'''\n",
    "Index:    -1  -2  -3 -4   -5  -6  -7  -8   -9  -10\n",
    "Index:     0   1   2   3   4   5   6   7   8   9\n",
    "Value:     10  20  30  40  50  60  70  80  90  100\n",
    "\n",
    "'''\n",
    "\n",
    "print (f'values[-6:]: {values[-6:]}')            # Line No. 10"
   ]
  },
  {
   "cell_type": "code",
   "execution_count": 37,
   "id": "b4c1f789-5b93-4c91-a571-149f1a99e606",
   "metadata": {},
   "outputs": [
    {
     "name": "stdout",
     "output_type": "stream",
     "text": [
      "values[:-6]: [10, 20, 30, 40]\n"
     ]
    }
   ],
   "source": [
    "print (f'values[:-6]: {values[:-6]}')            # Line No. 11"
   ]
  },
  {
   "cell_type": "code",
   "execution_count": 36,
   "id": "d3680b0f-55cc-4b37-9574-f719e84b7105",
   "metadata": {},
   "outputs": [
    {
     "name": "stdout",
     "output_type": "stream",
     "text": [
      "values[-6:10]: [50, 60, 70, 80, 90, 100]\n",
      "values[-6:8]: [50, 60, 70, 80]\n",
      "values[-6:3]: []\n"
     ]
    }
   ],
   "source": [
    "'''\n",
    "Index:    -1  -2  -3 -4   -5  -6  -7  -8   -9  -10\n",
    "Index:     0   1   2   3   4   5   6   7   8   9\n",
    "Value:     10  20  30  40  50  60  70  80  90  100\n",
    "\n",
    "'''\n",
    "\n",
    "print (f'values[-6:10]: {values[-6:10]}')            # Line No. 12.1\n",
    "#\n",
    "print (f'values[-6:8]: {values[-6:8]}')            # Line No. 12.2\n",
    "#\n",
    "print (f'values[-6:3]: {values[-6:3]}')            # Line No. 12.3"
   ]
  },
  {
   "cell_type": "markdown",
   "id": "aaf531e3-ad01-4698-a558-6d3035611eea",
   "metadata": {},
   "source": [
    "## Concatenation, mutability, append, updating values of a slice"
   ]
  },
  {
   "cell_type": "markdown",
   "id": "89640ece-39b6-434a-970e-4cd7776c2432",
   "metadata": {},
   "source": [
    "### Concatenation"
   ]
  },
  {
   "cell_type": "code",
   "execution_count": 42,
   "id": "68e666f9-b666-494d-8cc3-0252a52c5f00",
   "metadata": {},
   "outputs": [
    {
     "name": "stdout",
     "output_type": "stream",
     "text": [
      "[1, 4, 9, 16, 25, 36, 49, 64, 81, 100]\n",
      "[1, 4, 9, 16, 25, 36, 49, 64, 81, 100]\n"
     ]
    }
   ],
   "source": [
    "squares_list_1 = [1, 4, 9, 16, 25]\n",
    "squares_list_2 = [36, 49, 64, 81, 100]\n",
    "squares_list_3 = squares_list_1 + squares_list_2\n",
    "print (squares_list_3)\n",
    "\n",
    "#\n",
    "squares_list_1 = squares_list_1 + [36, 49, 64, 81, 100]\n",
    "print (squares_list_1)"
   ]
  },
  {
   "cell_type": "code",
   "execution_count": null,
   "id": "248248e8-82a1-44f3-8264-b19479ed3e1b",
   "metadata": {},
   "outputs": [],
   "source": [
    "squares = [1, 4, 9, 16, 25]\n",
    "squares = squares + [36, 49, 64, 81, 100]\n",
    "print (squares)"
   ]
  },
  {
   "cell_type": "markdown",
   "id": "9135ee9f-93ad-45a9-af34-b8e23463a1c3",
   "metadata": {},
   "source": [
    "### Mutability and Append"
   ]
  },
  {
   "cell_type": "code",
   "execution_count": 47,
   "id": "227c8557-08be-4692-915b-1b3c10954112",
   "metadata": {},
   "outputs": [
    {
     "name": "stdout",
     "output_type": "stream",
     "text": [
      "[1, 8, 27, 65, 125]\n",
      "[1, 8, 27, 64, 125]\n",
      "\n",
      "\n",
      "Before append: [1, 8, 27, 64, 125]\n",
      "After first append: [1, 8, 27, 64, 125, 216]\n",
      "After second append: [1, 8, 27, 64, 125, 216, 343]\n"
     ]
    }
   ],
   "source": [
    "#\n",
    "cubes = [1, 8, 27, 65, 125]\n",
    "print(cubes)\n",
    "\n",
    "cubes[3] = 64\n",
    "print(cubes)\n",
    "print('\\n')\n",
    "#\n",
    "print(f'Before append: {cubes}')\n",
    "cubes.append(216)\n",
    "print(f'After first append: {cubes}')\n",
    "cubes.append(7 ** 3)\n",
    "print(f'After second append: {cubes}')"
   ]
  },
  {
   "cell_type": "markdown",
   "id": "e78b6152-d1e7-4738-bea5-48ac11d67db7",
   "metadata": {},
   "source": [
    "### Updating values of a slice"
   ]
  },
  {
   "cell_type": "code",
   "execution_count": 53,
   "id": "47e98ca7-8a6b-4a9d-8c04-9a8b756b9ea9",
   "metadata": {},
   "outputs": [
    {
     "name": "stdout",
     "output_type": "stream",
     "text": [
      "['a', 'b', 'c', 'd', 'e', 'f', 'g']\n",
      "['a', 'b', 'C', 'D', 'E', 'f', 'g']\n",
      "['a', 'b', 'f', 'g']\n",
      "['a', 'b', 'C', 'D', 'E']\n",
      "[]\n"
     ]
    }
   ],
   "source": [
    "letters = ['a', 'b', 'c', 'd', 'e', 'f', 'g']\n",
    "print(letters)\n",
    "\n",
    "#\n",
    "letters[2:5] = ['C', 'D', 'E']\n",
    "print(letters)\n",
    "\n",
    "#\n",
    "letters[2:5] = []\n",
    "print(letters)\n",
    "\n",
    "# overwrite the existing values and append the others.\n",
    "letters[2:5] = ['C', 'D', 'E']\n",
    "print(letters)\n",
    "\n",
    "#\n",
    "letters[:] = []\n",
    "print(letters)\n"
   ]
  },
  {
   "cell_type": "markdown",
   "id": "4d3bda5f-6418-46b6-b1f1-b085f7dd8e92",
   "metadata": {},
   "source": [
    "## Netsted Lists"
   ]
  },
  {
   "cell_type": "code",
   "execution_count": 56,
   "id": "831108b4-95c4-4470-b5b8-b4f59dc74c7a",
   "metadata": {},
   "outputs": [
    {
     "name": "stdout",
     "output_type": "stream",
     "text": [
      "[['a', 'b', 'c'], [1, 2, 3]]\n",
      "b\n",
      "[['a', 'B', 'c'], [1, 2, 3]]\n",
      "[['a', 'b', 'c'], [1, 2, 3]]\n"
     ]
    }
   ],
   "source": [
    "a = ['a', 'b', 'c']\n",
    "n = [1, 2, 3]\n",
    "\n",
    "x = [a, n]\n",
    "\n",
    "print(x)\n",
    "\n",
    "print(x[0][1]) # Row x Column\n",
    "\n",
    "x[0][1] = 'B'\n",
    "print(x)\n",
    "\n",
    "a[1] = 'b'\n",
    "print(x)"
   ]
  },
  {
   "cell_type": "code",
   "execution_count": 58,
   "id": "9d33420d-9514-460e-8440-b74d4a3e5d38",
   "metadata": {},
   "outputs": [
    {
     "name": "stdout",
     "output_type": "stream",
     "text": [
      "[['a', 'b', 'c'], [1, 2, 3]]\n",
      "b\n",
      "[['a', 'b', 'c', 'd'], [1, 2, 3], ['alice', 'bob', 'jacob']]\n",
      "[['a', 'b', 'c', 'd'], [1, 2, 3], ['alice', 'bob', 'jacob', 'dmitry']]\n",
      "[['a', 'b', 'c', 'd'], [1, 2, 3], ['alice', 'bob', 'jacob', 'dmitry', 'sofia']]\n"
     ]
    }
   ],
   "source": [
    "a = ['a', 'b', 'c']\n",
    "n = [1, 2, 3]\n",
    "x = [a, n]\n",
    "print(x)\n",
    "print(x[0][1]) # Row x Column\n",
    "\n",
    "x[0].append('d') # append to the existing (sub-)list: a\n",
    "\n",
    "x.append([\"alice\", \"bob\", \"jacob\"]) # append a third sub-list\n",
    "print(x)\n",
    "\n",
    "x[2].append(\"dmitry\") # append to the existing (3rd) sub-list\n",
    "print(x)\n",
    "\n",
    "names = x[2]\n",
    "names.append(\"sofia\")\n",
    "print(x)"
   ]
  },
  {
   "cell_type": "markdown",
   "id": "472a4c12-cb4d-40f3-91e9-c72c09148f45",
   "metadata": {},
   "source": [
    "### Inventory Management System\n",
    "\n",
    "You are tasked with developing a simple inventory management system for a small bookstore. The system needs to manage a list of books in the inventory, where each book is represented by its title (a string). The following operations are required to maintain and manipulate the inventory:\n",
    "\n",
    "1. **Add a new book to the inventory.**  \n",
    "   Use `list.append(x)` to add a new book to the end of the inventory list.\n",
    "\n",
    "2. **Add multiple books from a shipment to the inventory.**  \n",
    "   Use `list.extend(iterable)` to add a list of books from a new shipment to the inventory.\n",
    "\n",
    "3. **Insert a book at a specific position in the inventory.**  \n",
    "   Use `list.insert(i, x)` to insert a book at a specific position (e.g., placing a book at the start of the inventory list).\n",
    "\n",
    "4. **Remove a book from the inventory by its title.**  \n",
    "   Use `list.remove(x)` to remove a specific book by its title from the inventory.\n",
    "\n",
    "5. **Remove the last book or a book from a specific position.**  \n",
    "   Use `list.pop([i])` to remove the last book in the inventory or a book at a specific index.\n",
    "\n",
    "6. **Clear the entire inventory.**  \n",
    "   Use `list.clear()` to remove all books from the inventory list.\n",
    "\n",
    "7. **Find the position of a specific book in the inventory.**  \n",
    "   Use `list.index(x[, start[, end]])` to find the position of a book by its title, with an option to search within a specific range of the list.\n",
    "\n",
    "8. **Count the number of copies of a specific book in the inventory.**  \n",
    "   Use `list.count(x)` to count how many times a specific book appears in the inventory.\n",
    "\n",
    "9. **Sort the inventory alphabetically.**  \n",
    "   Use `list.sort(*, key=None, reverse=False)` to sort the inventory list alphabetically by book title.\n",
    "\n",
    "10. **Reverse the order of books in the inventory.**  \n",
    "    Use `list.reverse()` to reverse the order of the books in the inventory list.\n",
    "\n",
    "11. **Create a backup of the current inventory.**  \n",
    "    Use `list.copy()` to create a copy of the inventory list for backup purposes.\n",
    "\n",
    "### Problem Statement:\n",
    "\n",
    "Implement the following inventory management operations:\n",
    "\n",
    "1. **Initialize an empty inventory list.**\n",
    "2. **Add the following books to the inventory using `append`:**\n",
    "   - \"The Great Gatsby\"\n",
    "   - \"1984\"\n",
    "   - \"To Kill a Mockingbird\"\n",
    "3. **Add a new shipment of books [\"The Whale\", \"Pride and Prejudice\", \"The Catcher in the Rye\"] using `extend`.**\n",
    "4. **Insert the book \"War and Peace\" at the second position in the inventory using `insert`.**\n",
    "5. **Remove the book \"1984\" from the inventory using `remove`.**\n",
    "6. **Remove the last book in the inventory using `pop` without any arguments.**\n",
    "7. **Clear the inventory using `clear`.**\n",
    "8. **Repopulate the inventory with [\"The Great Gatsby\", \"The Whale\", \"1984\", \"The Catcher in the Rye\", \"1984\", \"1984\"] using `extend`.**\n",
    "9. **Find the index of the book \"1984\" using `index`.**\n",
    "10. **Count the number of copies of \"1984\" using `count`.**\n",
    "11. **Sort the inventory alphabetically using `sort`.**\n",
    "12. **Reverse the sorted inventory using `reverse`.**\n",
    "13. **Create a backup of the inventory using `copy`.**\n",
    "\n",
    "### Expected Output:\n",
    "\n",
    "- The final sorted and reversed inventory.\n",
    "- The backup inventory list.\n",
    "- The index of \"1984\".\n",
    "- The count of \"1984\" in the inventory.\n",
    "\n",
    "### Example Implementation:\n",
    "\n",
    "```python\n",
    "# Step 1: Initialize an empty inventory\n",
    "inventory = []\n",
    "\n",
    "# Step 2: Add books using append\n",
    "inventory.append(\"The Great Gatsby\")\n",
    "inventory.append(\"1984\")\n",
    "inventory.append(\"To Kill a Mockingbird\")\n",
    "\n",
    "# Step 3: Add a new shipment using extend\n",
    "inventory.extend([\"The Whale\", \"Pride and Prejudice\", \"The Catcher in the Rye\"])\n",
    "\n",
    "# Step 4: Insert a book at the second position\n",
    "inventory.insert(1, \"War and Peace\")\n",
    "\n",
    "# Step 5: Remove the book \"1984\"\n",
    "inventory.remove(\"1984\")\n",
    "\n",
    "# Step 6: Remove the last book\n",
    "inventory.pop()\n",
    "\n",
    "# Step 7: Clear the inventory\n",
    "inventory.clear()\n",
    "\n",
    "# Step 8: Repopulate the inventory\n",
    "inventory.extend([\"The Great Gatsby\", \"The Whale\", \"1984\", \"The Catcher in the Rye\", \"1984\", \"1984\"])\n",
    "\n",
    "# Step 9: Find the index of the book \"1984\"\n",
    "index_1984 = inventory.index(\"1984\")\n",
    "\n",
    "# Step 10: Count the number of copies of \"1984\"\n",
    "count_1984 = inventory.count(\"1984\")\n",
    "\n",
    "# Step 11: Sort the inventory alphabetically\n",
    "inventory.sort()\n",
    "\n",
    "# Step 12: Reverse the sorted inventory\n",
    "inventory.reverse()\n",
    "\n",
    "# Step 13: Create a backup of the inventory\n",
    "backup_inventory = inventory.copy()\n",
    "\n",
    "# Output results\n",
    "print(\"Final Inventory:\", inventory)\n",
    "print(\"Backup Inventory:\", backup_inventory)\n",
    "print(\"Index of '1984':\", index_1984)\n",
    "print(\"Count of '1984':\", count_1984)\n",
    "```\n",
    "\n",
    "### Output:\n",
    "```python\n",
    "Final Inventory: ['The Great Gatsby', 'The Catcher in the Rye', 'The Whale', '1984', '1984', '1984']\n",
    "Backup Inventory: ['The Great Gatsby', 'The Catcher in the Rye', 'The Whale', '1984', '1984', '1984']\n",
    "Index of '1984': 3\n",
    "Count of '1984': 3\n",
    "```\n",
    "\n",
    "This problem comprehensively utilizes all the listed list functions in Python to perform common operations in an inventory management system."
   ]
  },
  {
   "cell_type": "code",
   "execution_count": 83,
   "id": "c972dca8-8de0-4652-9dc7-079724387db7",
   "metadata": {},
   "outputs": [],
   "source": [
    "# Step 1: Initialize an empty inventory\n",
    "inventory = []\n"
   ]
  },
  {
   "cell_type": "code",
   "execution_count": 84,
   "id": "4ebac34f-86f4-470a-a10c-da9fb27119de",
   "metadata": {},
   "outputs": [
    {
     "name": "stdout",
     "output_type": "stream",
     "text": [
      "['The Great Gatsby', '1984', 'To Kill a Mockingbird']\n"
     ]
    }
   ],
   "source": [
    "# Step 2: Add books using append\n",
    "inventory.append(\"The Great Gatsby\")\n",
    "inventory.append(\"1984\")\n",
    "inventory.append(\"To Kill a Mockingbird\")\n",
    "\n",
    "#inventory.append(\"The Great Gatsby\", \"1984\", \"To Kill a Mockingbird\")\n",
    "\n",
    "print(inventory)"
   ]
  },
  {
   "cell_type": "code",
   "execution_count": 85,
   "id": "38964086-0037-471b-86a8-73167e0cf12c",
   "metadata": {},
   "outputs": [
    {
     "name": "stdout",
     "output_type": "stream",
     "text": [
      "['The Great Gatsby', '1984', 'To Kill a Mockingbird', 'The Whale', 'Pride and Prejudice', 'The Catcher in the Rye']\n"
     ]
    }
   ],
   "source": [
    "# Step 3: Add a new shipment using extend\n",
    "inventory.extend([\"The Whale\", \"Pride and Prejudice\", \"The Catcher in the Rye\"])\n",
    "\n",
    "print(inventory)"
   ]
  },
  {
   "cell_type": "code",
   "execution_count": 87,
   "id": "b26a6d60-8b42-4edc-b0f3-62c7c2e562d8",
   "metadata": {},
   "outputs": [
    {
     "name": "stdout",
     "output_type": "stream",
     "text": [
      "['The Great Gatsby', 'War and Peace', 'War and Peace', '1984', 'To Kill a Mockingbird', 'The Whale', 'Pride and Prejudice', 'The Catcher in the Rye']\n"
     ]
    }
   ],
   "source": [
    "# Step 4: Insert a book at the second position\n",
    "inventory.insert(1, \"War and Peace\")\n",
    "\n",
    "print(inventory)"
   ]
  },
  {
   "cell_type": "code",
   "execution_count": 88,
   "id": "ff214385-cbff-4d3a-8b90-f62a5da1890b",
   "metadata": {},
   "outputs": [
    {
     "name": "stdout",
     "output_type": "stream",
     "text": [
      "['The Great Gatsby', 'War and Peace', 'War and Peace', 'To Kill a Mockingbird', 'The Whale', 'Pride and Prejudice', 'The Catcher in the Rye']\n"
     ]
    },
    {
     "ename": "ValueError",
     "evalue": "list.remove(x): x not in list",
     "output_type": "error",
     "traceback": [
      "\u001b[1;31m---------------------------------------------------------------------------\u001b[0m",
      "\u001b[1;31mValueError\u001b[0m                                Traceback (most recent call last)",
      "Cell \u001b[1;32mIn[88], line 6\u001b[0m\n\u001b[0;32m      2\u001b[0m inventory\u001b[38;5;241m.\u001b[39mremove(\u001b[38;5;124m\"\u001b[39m\u001b[38;5;124m1984\u001b[39m\u001b[38;5;124m\"\u001b[39m)\n\u001b[0;32m      4\u001b[0m \u001b[38;5;28mprint\u001b[39m(inventory)\n\u001b[1;32m----> 6\u001b[0m \u001b[43minventory\u001b[49m\u001b[38;5;241;43m.\u001b[39;49m\u001b[43mremove\u001b[49m\u001b[43m(\u001b[49m\u001b[38;5;124;43m\"\u001b[39;49m\u001b[38;5;124;43mThe Non-existent Book\u001b[39;49m\u001b[38;5;124;43m\"\u001b[39;49m\u001b[43m)\u001b[49m\n\u001b[0;32m      7\u001b[0m \u001b[38;5;28mprint\u001b[39m(inventory)\n",
      "\u001b[1;31mValueError\u001b[0m: list.remove(x): x not in list"
     ]
    }
   ],
   "source": [
    "# Step 5: Remove the book \"1984\"\n",
    "inventory.remove(\"1984\")\n",
    "\n",
    "print(inventory)\n",
    "\n",
    "inventory.remove(\"The Non-existent Book\")\n",
    "print(inventory)"
   ]
  },
  {
   "cell_type": "code",
   "execution_count": 91,
   "id": "509e17b6-f7d9-4372-a6e4-0986ea25620b",
   "metadata": {},
   "outputs": [
    {
     "name": "stdout",
     "output_type": "stream",
     "text": [
      "The book 'The Whale' was removed from the inventory.\n",
      "['The Great Gatsby', 'War and Peace', 'War and Peace', 'To Kill a Mockingbird']\n"
     ]
    }
   ],
   "source": [
    "# Step 6: Remove the last book\n",
    "#\n",
    "inventory.pop()\n",
    "\n",
    "# catch the popped values in a variable\n",
    "book = inventory.pop()\n",
    "\n",
    "print(f\"The book '{book}' was removed from the inventory.\")\n",
    "\n",
    "print(inventory)\n",
    "\n",
    "# how are pop() and append() related?"
   ]
  },
  {
   "cell_type": "code",
   "execution_count": 94,
   "id": "41314a6b-d468-45d6-b169-860627e93d8f",
   "metadata": {},
   "outputs": [
    {
     "name": "stdout",
     "output_type": "stream",
     "text": [
      "[]\n"
     ]
    }
   ],
   "source": [
    "# Step 7: Clear the inventory\n",
    "inventory.clear()\n",
    "\n",
    "#\n",
    "print(inventory)"
   ]
  },
  {
   "cell_type": "code",
   "execution_count": 95,
   "id": "067a9931-e9c1-47e6-94ba-9682f54da439",
   "metadata": {},
   "outputs": [
    {
     "name": "stdout",
     "output_type": "stream",
     "text": [
      "['The Great Gatsby', 'The Whale', '1984', 'The Catcher in the Rye', '1984', '1984']\n"
     ]
    }
   ],
   "source": [
    "# Step 8: Repopulate the inventory\n",
    "inventory.extend([\"The Great Gatsby\", \"The Whale\", \"1984\", \"The Catcher in the Rye\", \"1984\", \"1984\"])\n",
    "\n",
    "#\n",
    "print(inventory)"
   ]
  },
  {
   "cell_type": "code",
   "execution_count": 101,
   "id": "5fdfbf95-6575-470c-9add-65b43c1e0aa2",
   "metadata": {},
   "outputs": [
    {
     "name": "stdout",
     "output_type": "stream",
     "text": [
      "2\n"
     ]
    }
   ],
   "source": [
    "# Step 9: Find the index of the book \"1984\"\n",
    "index_1984 = inventory.index(\"1984\")\n",
    "print(index_1984)\n",
    "\n",
    "#\n",
    "#index_1984 = inventory.index(\"1984\")\n",
    "#print(index_1984)"
   ]
  },
  {
   "cell_type": "code",
   "execution_count": 103,
   "id": "21faf78d-1ec8-4eff-bf61-aed53aa11624",
   "metadata": {},
   "outputs": [
    {
     "name": "stdout",
     "output_type": "stream",
     "text": [
      "Found 3 instances of '1984'\n"
     ]
    }
   ],
   "source": [
    "# Step 10: Count the number of copies of \"1984\"\n",
    "count_1984 = inventory.count(\"1984\")\n",
    "\n",
    "#\n",
    "print(f\"Found {count_1984} instances of '1984'\")"
   ]
  },
  {
   "cell_type": "code",
   "execution_count": 104,
   "id": "6fe6d7ef-ac5c-4310-9a18-73c57693e40c",
   "metadata": {},
   "outputs": [
    {
     "name": "stdout",
     "output_type": "stream",
     "text": [
      "['1984', '1984', '1984', 'The Catcher in the Rye', 'The Great Gatsby', 'The Whale']\n"
     ]
    }
   ],
   "source": [
    "# Step 11: Sort the inventory alphabetically\n",
    "inventory.sort()\n",
    "\n",
    "print(inventory)"
   ]
  },
  {
   "cell_type": "code",
   "execution_count": 105,
   "id": "408dc94f-4647-4fa6-9ffd-5bfb8d2a1849",
   "metadata": {},
   "outputs": [
    {
     "name": "stdout",
     "output_type": "stream",
     "text": [
      "['The Whale', 'The Great Gatsby', 'The Catcher in the Rye', '1984', '1984', '1984']\n"
     ]
    }
   ],
   "source": [
    "# Step 12: Reverse the sorted inventory\n",
    "inventory.reverse()\n",
    "\n",
    "print(inventory)"
   ]
  },
  {
   "cell_type": "code",
   "execution_count": 108,
   "id": "656cea78-fcb0-48ee-b1d8-3322195dc48c",
   "metadata": {},
   "outputs": [
    {
     "name": "stdout",
     "output_type": "stream",
     "text": [
      "['The Whale', 'The Great Gatsby', 'The Catcher in the Rye', '1984', '1984', '1984']\n",
      "['The Whale', 'The Great Gatsby', 'The Catcher in the Rye', '1984', '1984', '1984']\n"
     ]
    }
   ],
   "source": [
    "# Step 13: Create a backup of the inventory\n",
    "backup_inventory = inventory.copy()\n",
    "\n",
    "print(inventory)\n",
    "print(backup_inventory)\n",
    "#backup_inventory.pop()\n",
    "#print(backup_inventory)"
   ]
  },
  {
   "cell_type": "code",
   "execution_count": 110,
   "id": "23ee077e-5bb3-4017-8cec-1e3d66ac6779",
   "metadata": {},
   "outputs": [
    {
     "name": "stdout",
     "output_type": "stream",
     "text": [
      "Final Inventory: ['The Whale', 'The Great Gatsby', 'The Catcher in the Rye', '1984', '1984', '1984']\n",
      "Backup Inventory: ['The Whale', 'The Great Gatsby', 'The Catcher in the Rye', '1984', '1984', '1984']\n",
      "Index of '1984': 2\n",
      "Count of '1984': 3\n"
     ]
    }
   ],
   "source": [
    "# Output results\n",
    "print(\"Final Inventory:\", inventory)\n",
    "print(\"Backup Inventory:\", backup_inventory)\n",
    "print(\"Index of '1984':\", index_1984)\n",
    "print(\"Count of '1984':\", count_1984)"
   ]
  },
  {
   "cell_type": "markdown",
   "id": "e09acf30-f944-471a-b25c-d2ade8a13b50",
   "metadata": {},
   "source": [
    "## List Comprehension"
   ]
  },
  {
   "cell_type": "code",
   "execution_count": 127,
   "id": "06e5f366-0403-416d-b882-36f327fc01a5",
   "metadata": {},
   "outputs": [
    {
     "name": "stdout",
     "output_type": "stream",
     "text": [
      "[0, 1, 4, 9, 16, 25, 36, 49, 64, 81]\n"
     ]
    }
   ],
   "source": [
    "# Ordinarily\n",
    "squares = []\n",
    "for x in range(10):\n",
    "    squares.append(x**2)\n",
    "print(squares)"
   ]
  },
  {
   "cell_type": "code",
   "execution_count": 128,
   "id": "1ac709ad-e3b3-4faa-90d6-5d1e350dc757",
   "metadata": {},
   "outputs": [
    {
     "name": "stdout",
     "output_type": "stream",
     "text": [
      "[0, 1, 4, 9, 16, 25, 36, 49, 64, 81]\n"
     ]
    }
   ],
   "source": [
    "# list comprehension\n",
    "squares = [x**2 for x in range(10)]\n",
    "print(squares)"
   ]
  },
  {
   "cell_type": "code",
   "execution_count": 139,
   "id": "d6117b17-aa25-42ab-98cd-30e018e547b7",
   "metadata": {},
   "outputs": [
    {
     "name": "stdout",
     "output_type": "stream",
     "text": [
      "Double: [-8, -4, 0, 4, 8]\n",
      "Filter out negatives: [0, 2, 4]\n",
      "All combination: [(1, 3), (1, 1), (1, 4), (2, 3), (2, 1), (2, 4), (3, 3), (3, 1), (3, 4)]\n",
      "unequal: [(1, 3), (1, 4), (2, 3), (2, 1), (2, 4), (3, 1), (3, 4)]\n"
     ]
    }
   ],
   "source": [
    "#\n",
    "vec = [-4, -2, 0, 2, 4]\n",
    "double = [x*2 for x in vec]\n",
    "print(f\"Double: {double}\")\n",
    "\n",
    "# filter the list to exclude negative numbers\n",
    "filter_neg = [x for x in vec if x >= 0]\n",
    "print(f\"Filter out negatives: {filter_neg}\")\n",
    "\n",
    "#\n",
    "all = [(x, y) for x in [1,2,3] for y in [3,1,4]]\n",
    "print(f\"All combination: {all}\")\n",
    "\n",
    "#\n",
    "unequal = [(x, y) for x in [1,2,3] for y in [3,1,4] if x != y]\n",
    "print(f\"unequal: {unequal}\")"
   ]
  },
  {
   "cell_type": "markdown",
   "id": "916bdcda-cb5d-4115-877a-1952e5836e8f",
   "metadata": {},
   "source": [
    "### Nested-list comprehension"
   ]
  },
  {
   "cell_type": "code",
   "execution_count": 44,
   "id": "1c9a93eb-ba4e-412c-9c04-0f82cd9dbff5",
   "metadata": {},
   "outputs": [],
   "source": [
    "matrix = [[1, 2, 3, 4],\n",
    "          [5, 6, 7, 8],\n",
    "          [9, 10, 11, 12],]"
   ]
  },
  {
   "cell_type": "code",
   "execution_count": 50,
   "id": "955c6c19-988f-4f67-8e26-fe2b552dc7f6",
   "metadata": {},
   "outputs": [
    {
     "name": "stdout",
     "output_type": "stream",
     "text": [
      "[[1, 5, 9], [2, 6, 10], [3, 7, 11], [4, 8, 12]]\n"
     ]
    }
   ],
   "source": [
    "# compute transpose without Nested-list comprehension\n",
    "transposed = []\n",
    "\n",
    "for i in range(4):\n",
    "    # the following 3 lines implement\n",
    "    # the nested listcomp\n",
    "    transposed_row = []\n",
    "    for row in matrix:\n",
    "        transposed_row.append(row[i])\n",
    "    transposed.append(transposed_row)\n",
    "print(transposed)"
   ]
  },
  {
   "cell_type": "code",
   "execution_count": 146,
   "id": "adf71572-9fc7-45e9-94e6-c19e9f7be804",
   "metadata": {},
   "outputs": [
    {
     "name": "stdout",
     "output_type": "stream",
     "text": [
      "[[1, 5, 9], [2, 6, 10], [3, 7, 11], [4, 8, 12]]\n"
     ]
    }
   ],
   "source": [
    "# compute transpose with list comprehension\n",
    "transposed = []\n",
    "for i in range(4):\n",
    "    transposed.append([row[i] for row in matrix])\n",
    "\n",
    "print(transposed)\n"
   ]
  },
  {
   "cell_type": "code",
   "execution_count": 145,
   "id": "30f75cb7-afd5-4f22-8065-68fdac7ed0fd",
   "metadata": {},
   "outputs": [
    {
     "name": "stdout",
     "output_type": "stream",
     "text": [
      "[[1, 5, 9], [2, 6, 10], [3, 7, 11], [4, 8, 12]]\n"
     ]
    }
   ],
   "source": [
    "# compute transpose with Nested-list comprehension\n",
    "\n",
    "transposed = [[row[i] for row in matrix] for i in range(4)]\n",
    "\n",
    "print(transposed)\n"
   ]
  },
  {
   "cell_type": "markdown",
   "id": "9b9a1da8-8307-4a93-b4ca-f816cfb587c8",
   "metadata": {},
   "source": [
    "## The del Statement"
   ]
  },
  {
   "cell_type": "code",
   "execution_count": 51,
   "id": "5a10912f-168b-413f-8783-50d6f6808514",
   "metadata": {},
   "outputs": [
    {
     "name": "stdout",
     "output_type": "stream",
     "text": [
      "[1, 66.25, 'book', 333, 333, 1234.5]\n",
      "[1, 66.25, 333, 1234.5]\n",
      "[]\n"
     ]
    }
   ],
   "source": [
    "a = [-1, 1, 66.25, \"book\", 333, 333, 1234.5]\n",
    "del a[0]\n",
    "print(a)\n",
    "\n",
    "del a[2:4]\n",
    "print(a)\n",
    "\n",
    "del a[:]\n",
    "print(a)\n"
   ]
  },
  {
   "cell_type": "code",
   "execution_count": 158,
   "id": "ddaf4eb7-3dc7-4569-a2a5-9e487c050d4a",
   "metadata": {},
   "outputs": [
    {
     "ename": "NameError",
     "evalue": "name 'a' is not defined",
     "output_type": "error",
     "traceback": [
      "\u001b[1;31m---------------------------------------------------------------------------\u001b[0m",
      "\u001b[1;31mNameError\u001b[0m                                 Traceback (most recent call last)",
      "Cell \u001b[1;32mIn[158], line 3\u001b[0m\n\u001b[0;32m      1\u001b[0m a \u001b[38;5;241m=\u001b[39m [\u001b[38;5;241m1\u001b[39m,\u001b[38;5;241m2\u001b[39m,\u001b[38;5;241m3\u001b[39m,\u001b[38;5;241m4\u001b[39m,\u001b[38;5;241m5\u001b[39m]\n\u001b[0;32m      2\u001b[0m \u001b[38;5;28;01mdel\u001b[39;00m a\n\u001b[1;32m----> 3\u001b[0m \u001b[38;5;28mprint\u001b[39m(\u001b[43ma\u001b[49m)\n",
      "\u001b[1;31mNameError\u001b[0m: name 'a' is not defined"
     ]
    }
   ],
   "source": [
    "a = [1,2,3,4,5]\n",
    "del a\n",
    "print(a)"
   ]
  },
  {
   "cell_type": "markdown",
   "id": "9146cb03-fb2c-4714-bfb6-4f073d00d626",
   "metadata": {},
   "source": [
    "# Tuples in Python"
   ]
  },
  {
   "cell_type": "code",
   "execution_count": 160,
   "id": "dc1bf75f-452c-4732-aea4-2ea5f6d4b600",
   "metadata": {},
   "outputs": [
    {
     "name": "stdout",
     "output_type": "stream",
     "text": [
      "101\n"
     ]
    }
   ],
   "source": [
    "course = 101, 'Scientific Prog. with Python', 'Software, Data, Tech'\n",
    "print(course[0])"
   ]
  },
  {
   "cell_type": "code",
   "execution_count": 161,
   "id": "649c996b-6290-4a84-acba-4abcff159f09",
   "metadata": {},
   "outputs": [
    {
     "name": "stdout",
     "output_type": "stream",
     "text": [
      "(101, 'Scientific Prog. with Python', 'Software, Data, Tech')\n"
     ]
    }
   ],
   "source": [
    "print(course)"
   ]
  },
  {
   "cell_type": "code",
   "execution_count": 163,
   "id": "43b4f175-b12a-412f-8be9-bb8a907c552a",
   "metadata": {},
   "outputs": [
    {
     "name": "stdout",
     "output_type": "stream",
     "text": [
      "((101, 'Scientific Prog. with Python', 'Software, Data, Tech'), ('Exercises', 'Final-term Examination'), 'Remarks')\n"
     ]
    }
   ],
   "source": [
    "# Tuples may be nested:\n",
    "courseDetails = course, ('Exercises', 'Final-term Examination'), \"Remarks\"\n",
    "print(courseDetails)"
   ]
  },
  {
   "cell_type": "code",
   "execution_count": 164,
   "id": "9270d6f8-bfdd-48e6-a6d1-179c7d990dc2",
   "metadata": {},
   "outputs": [
    {
     "ename": "TypeError",
     "evalue": "'tuple' object does not support item assignment",
     "output_type": "error",
     "traceback": [
      "\u001b[1;31m---------------------------------------------------------------------------\u001b[0m",
      "\u001b[1;31mTypeError\u001b[0m                                 Traceback (most recent call last)",
      "Cell \u001b[1;32mIn[164], line 2\u001b[0m\n\u001b[0;32m      1\u001b[0m \u001b[38;5;66;03m# Tuples are immutable:\u001b[39;00m\n\u001b[1;32m----> 2\u001b[0m \u001b[43mcourse\u001b[49m\u001b[43m[\u001b[49m\u001b[38;5;241;43m0\u001b[39;49m\u001b[43m]\u001b[49m \u001b[38;5;241m=\u001b[39m \u001b[38;5;241m202\u001b[39m     \u001b[38;5;66;03m# this is not allowed\u001b[39;00m\n\u001b[0;32m      4\u001b[0m \u001b[38;5;66;03m# but they can contain mutable objects:\u001b[39;00m\n\u001b[0;32m      5\u001b[0m v \u001b[38;5;241m=\u001b[39m ([\u001b[38;5;241m1\u001b[39m, \u001b[38;5;241m2\u001b[39m, \u001b[38;5;241m3\u001b[39m], [\u001b[38;5;241m4\u001b[39m, \u001b[38;5;241m5\u001b[39m, \u001b[38;5;241m6\u001b[39m])\n",
      "\u001b[1;31mTypeError\u001b[0m: 'tuple' object does not support item assignment"
     ]
    }
   ],
   "source": [
    "# Tuples are immutable:\n",
    "course[0] = 202     # this is not allowed\n"
   ]
  },
  {
   "cell_type": "code",
   "execution_count": 165,
   "id": "64834bbd-9ff5-4163-990e-5dff886c77c0",
   "metadata": {},
   "outputs": [
    {
     "name": "stdout",
     "output_type": "stream",
     "text": [
      "([1, 2, 3], [4, 5, 6])\n",
      "([1, 2000, 3], [4, 5, 6])\n"
     ]
    }
   ],
   "source": [
    "# but they can contain mutable objects:\n",
    "v = ([1, 2, 3], [4, 5, 6])\n",
    "print(v)\n",
    "\n",
    "v[0][1] = 2000\n",
    "print(v)"
   ]
  },
  {
   "cell_type": "markdown",
   "id": "5634e8be-22d2-435e-a488-2bdab0d14518",
   "metadata": {},
   "source": [
    "### Tuple packing, unpacking, and indexing"
   ]
  },
  {
   "cell_type": "code",
   "execution_count": 167,
   "id": "943e8799-dca9-44e8-abce-5cdbba125e56",
   "metadata": {},
   "outputs": [],
   "source": [
    "course = 101, 'Scientific Programming in Python', 'Software, Data, Technology'"
   ]
  },
  {
   "cell_type": "code",
   "execution_count": 168,
   "id": "f4483357-db08-4d30-96de-07f6b338de97",
   "metadata": {},
   "outputs": [],
   "source": [
    "code, title, program = course"
   ]
  },
  {
   "cell_type": "code",
   "execution_count": 169,
   "id": "15d3c194-60ea-471f-9cee-a9fccdf830e7",
   "metadata": {},
   "outputs": [
    {
     "name": "stdout",
     "output_type": "stream",
     "text": [
      "Code: 101, Title: Scientific Programming in Python, Program: Software, Data, Technology\n"
     ]
    }
   ],
   "source": [
    "print(f'Code: {code}, Title: {title}, Program: {program}')"
   ]
  },
  {
   "cell_type": "code",
   "execution_count": 170,
   "id": "328d9f6a-f4d8-46c9-9a03-7ee021b97a8b",
   "metadata": {},
   "outputs": [
    {
     "name": "stdout",
     "output_type": "stream",
     "text": [
      "Code: 101, Title: Scientific Programming in Python, Program: Software, Data, Technology\n"
     ]
    }
   ],
   "source": [
    "print(f'Code: {course[0]}, Title: {course[1]}, Program: {course[2]}')"
   ]
  },
  {
   "cell_type": "markdown",
   "id": "61f6cc45-1c42-445d-9044-5ae8bf2f9add",
   "metadata": {},
   "source": [
    "### Empty and singleton tuple"
   ]
  },
  {
   "cell_type": "code",
   "execution_count": 171,
   "id": "ddd0ba53-ee69-42df-b944-f4650c1c979d",
   "metadata": {},
   "outputs": [],
   "source": [
    "emptyTuple = ()"
   ]
  },
  {
   "cell_type": "code",
   "execution_count": 180,
   "id": "e462588b-3314-45e8-88da-3086111bc723",
   "metadata": {},
   "outputs": [],
   "source": [
    "singletonTuple = 'Constructor University',    # <-- note trailing comma"
   ]
  },
  {
   "cell_type": "code",
   "execution_count": 181,
   "id": "4823ea6d-34d6-46d3-88e9-486198baa74f",
   "metadata": {},
   "outputs": [
    {
     "name": "stdout",
     "output_type": "stream",
     "text": [
      "0\n",
      "1\n"
     ]
    }
   ],
   "source": [
    "print(len(emptyTuple))\n",
    "print(len(singletonTuple))\n"
   ]
  },
  {
   "cell_type": "code",
   "execution_count": 178,
   "id": "1026f0d7-1168-43dc-b63a-285a3891bbde",
   "metadata": {},
   "outputs": [
    {
     "name": "stdout",
     "output_type": "stream",
     "text": [
      "0\n",
      "22\n"
     ]
    }
   ],
   "source": [
    "singletonTuple = 'Constructor University'    # <-- discarding the trailing comma\n",
    "\n",
    "print(len(emptyTuple))\n",
    "print(len(singletonTuple))"
   ]
  },
  {
   "cell_type": "markdown",
   "id": "1906d18d-7a17-4e1f-95e6-1f563c85db58",
   "metadata": {},
   "source": [
    "# Dictionaries in Python"
   ]
  },
  {
   "cell_type": "code",
   "execution_count": 7,
   "id": "9a6f1e1e-a4c3-40ae-bf0b-bed771202f60",
   "metadata": {},
   "outputs": [
    {
     "name": "stdout",
     "output_type": "stream",
     "text": [
      "3\n"
     ]
    }
   ],
   "source": [
    "courses = {'Python': '1', 'Java':'3', 'Kotlin': '2', 'C++': '1', 'C': '3'}\n",
    "print(courses['Java'])\n"
   ]
  },
  {
   "cell_type": "code",
   "execution_count": 11,
   "id": "598cc26a-03eb-4ea9-bcda-be9befdfbd51",
   "metadata": {},
   "outputs": [
    {
     "name": "stdout",
     "output_type": "stream",
     "text": [
      ".-\n"
     ]
    }
   ],
   "source": [
    "morse_code_dict = { 'A':'.-', 'B':'-...',\n",
    "                   'C':'-.-.', 'D':'-..', 'E':'.',\n",
    "                   'F':'..-.', 'G':'--.', 'H':'....',\n",
    "                   'I':'..', 'J':'.---', 'K':'-.-',\n",
    "                   'L':'.-..', 'M':'--', 'N':'-.',\n",
    "                   'O':'---', 'P':'.--.', 'Q':'--.-',\n",
    "                   'R':'.-.', 'S':'...', 'T':'-',\n",
    "                   'U':'..-', 'V':'...-', 'W':'.--',\n",
    "                   'X':'-..-', 'Y':'-.--', 'Z':'--..',\n",
    "                   '1':'.----', '2':'..---', '3':'...--',\n",
    "                   '4':'....-', '5':'.....', '6':'-....',\n",
    "                   '7':'--...', '8':'---..', '9':'----.',\n",
    "                   '0':'-----', ', ':'--..--', '.':'.-.-.-',\n",
    "                   '?':'..--..', '/':'-..-.', '-':'-....-',\n",
    "                   '(':'-.--.', ')':'-.--.-'}\n",
    "\n",
    "print(morse_code_dict['A'])"
   ]
  },
  {
   "cell_type": "markdown",
   "id": "0c3e1260-a681-44b1-9ccb-e94a0eb034b8",
   "metadata": {},
   "source": [
    "### Empty Dictionary and Dictionary initialization"
   ]
  },
  {
   "cell_type": "code",
   "execution_count": 12,
   "id": "d34b01cd-3e94-484a-b7b8-d7729b7ecf72",
   "metadata": {},
   "outputs": [],
   "source": [
    "courses = {} # empty dictionar"
   ]
  },
  {
   "cell_type": "code",
   "execution_count": 13,
   "id": "5c35b599-7c22-484a-992f-360e6b0593c3",
   "metadata": {},
   "outputs": [],
   "source": [
    "courses = {'Java': '3'} # singleton dictionary"
   ]
  },
  {
   "cell_type": "code",
   "execution_count": 14,
   "id": "ed312671-2940-42c7-b234-c3265c4faeda",
   "metadata": {},
   "outputs": [
    {
     "name": "stdout",
     "output_type": "stream",
     "text": [
      "Java is offered in year 3.\n"
     ]
    }
   ],
   "source": [
    "year = courses['Java']\n",
    "print(f'Java is offered in year {year}.')"
   ]
  },
  {
   "cell_type": "code",
   "execution_count": 22,
   "id": "75ab86fc-92b8-4996-ac40-506c09a7415a",
   "metadata": {},
   "outputs": [
    {
     "name": "stdout",
     "output_type": "stream",
     "text": [
      "Haskel is offered in year 1.\n"
     ]
    }
   ],
   "source": [
    "courses = {'Haskel': '1'} # singleton dictionary\n",
    "print(f'Haskel is offered in year {courses['Haskel']}.')"
   ]
  },
  {
   "cell_type": "markdown",
   "id": "cf3a5b4b-659a-40b6-b19d-9b608a519aaf",
   "metadata": {},
   "source": [
    "### The **del** operation"
   ]
  },
  {
   "cell_type": "code",
   "execution_count": 18,
   "id": "79c6924c-d6f8-40dd-9b06-f28ccb52d1f5",
   "metadata": {},
   "outputs": [
    {
     "name": "stdout",
     "output_type": "stream",
     "text": [
      "3\n",
      "{'Python': '1', 'Java': '3', 'Kotlin': '2', 'C++': '1', 'C': '3'}\n"
     ]
    }
   ],
   "source": [
    "courses = {'Python': '1', 'Java':'3', 'Kotlin': '2', 'C++': '1', 'C': '3'}\n",
    "print(courses['Java'])\n",
    "print(courses)\n"
   ]
  },
  {
   "cell_type": "code",
   "execution_count": 19,
   "id": "e10bc1b3-852a-4b7d-933e-7de6e847e88f",
   "metadata": {},
   "outputs": [
    {
     "ename": "KeyError",
     "evalue": "'Java'",
     "output_type": "error",
     "traceback": [
      "\u001b[1;31m---------------------------------------------------------------------------\u001b[0m",
      "\u001b[1;31mKeyError\u001b[0m                                  Traceback (most recent call last)",
      "Cell \u001b[1;32mIn[19], line 2\u001b[0m\n\u001b[0;32m      1\u001b[0m \u001b[38;5;28;01mdel\u001b[39;00m courses[\u001b[38;5;124m'\u001b[39m\u001b[38;5;124mJava\u001b[39m\u001b[38;5;124m'\u001b[39m]\n\u001b[1;32m----> 2\u001b[0m \u001b[38;5;28mprint\u001b[39m(\u001b[43mcourses\u001b[49m\u001b[43m[\u001b[49m\u001b[38;5;124;43m'\u001b[39;49m\u001b[38;5;124;43mJava\u001b[39;49m\u001b[38;5;124;43m'\u001b[39;49m\u001b[43m]\u001b[49m)\n",
      "\u001b[1;31mKeyError\u001b[0m: 'Java'"
     ]
    }
   ],
   "source": [
    "\n",
    "del courses['Java']\n",
    "print(courses['Java'])\n"
   ]
  },
  {
   "cell_type": "code",
   "execution_count": 20,
   "id": "4050d67e-5fcc-49d1-b316-35f21f928e1a",
   "metadata": {},
   "outputs": [
    {
     "ename": "NameError",
     "evalue": "name 'courses' is not defined",
     "output_type": "error",
     "traceback": [
      "\u001b[1;31m---------------------------------------------------------------------------\u001b[0m",
      "\u001b[1;31mNameError\u001b[0m                                 Traceback (most recent call last)",
      "Cell \u001b[1;32mIn[20], line 2\u001b[0m\n\u001b[0;32m      1\u001b[0m \u001b[38;5;28;01mdel\u001b[39;00m courses\n\u001b[1;32m----> 2\u001b[0m \u001b[38;5;28mprint\u001b[39m(\u001b[43mcourses\u001b[49m)\n",
      "\u001b[1;31mNameError\u001b[0m: name 'courses' is not defined"
     ]
    }
   ],
   "source": [
    "del courses\n",
    "print(courses)"
   ]
  },
  {
   "cell_type": "markdown",
   "id": "18a0abdc-0f83-47c5-9a0a-34d83ad78526",
   "metadata": {},
   "source": [
    "### list(dictionary) vs. sorted(dictionary)"
   ]
  },
  {
   "cell_type": "code",
   "execution_count": 23,
   "id": "89342c11-8171-429a-b011-d3e23635bc25",
   "metadata": {},
   "outputs": [
    {
     "name": "stdout",
     "output_type": "stream",
     "text": [
      "['Python', 'Java', 'Kotlin', 'C++', 'C']\n"
     ]
    }
   ],
   "source": [
    "courses = {'Python': '1', 'Java':'3', 'Kotlin': '2', 'C++': '1', 'C': '3'}\n",
    "print(list(courses))\n"
   ]
  },
  {
   "cell_type": "code",
   "execution_count": 24,
   "id": "502d5418-d2e6-4843-811a-5ee3acc19287",
   "metadata": {},
   "outputs": [
    {
     "name": "stdout",
     "output_type": "stream",
     "text": [
      "['C', 'C++', 'Java', 'Kotlin', 'Python']\n"
     ]
    }
   ],
   "source": [
    "courses = {'Python': '1', 'Java':'3', 'Kotlin': '2', 'C++': '1', 'C': '3'}\n",
    "print(sorted(courses))\n"
   ]
  },
  {
   "cell_type": "markdown",
   "id": "06cf6155-ac5e-40d7-9064-05d4bc117e6a",
   "metadata": {},
   "source": [
    "### Initializing dict() with sequence of key:value pairs"
   ]
  },
  {
   "cell_type": "code",
   "execution_count": 25,
   "id": "8e8434ec-bcbb-4530-8489-32735de23560",
   "metadata": {},
   "outputs": [
    {
     "name": "stdout",
     "output_type": "stream",
     "text": [
      "{'Python': '1', 'Java': '3', 'Kotlin': '2', 'C++': '1', 'C': '3'}\n"
     ]
    }
   ],
   "source": [
    "courseList = [('Python', '1'), ('Java','3'), ('Kotlin', '2'), ('C++', '1'), ('C', '3')]\n",
    "courses = dict(courseList)\n",
    "print(courses)\n"
   ]
  },
  {
   "cell_type": "code",
   "execution_count": 27,
   "id": "56b8e465-624e-421b-925b-bb6757c7464a",
   "metadata": {},
   "outputs": [
    {
     "ename": "ValueError",
     "evalue": "dictionary update sequence element #0 has length 3; 2 is required",
     "output_type": "error",
     "traceback": [
      "\u001b[1;31m---------------------------------------------------------------------------\u001b[0m",
      "\u001b[1;31mValueError\u001b[0m                                Traceback (most recent call last)",
      "Cell \u001b[1;32mIn[27], line 3\u001b[0m\n\u001b[0;32m      1\u001b[0m \u001b[38;5;66;03m# what if we have triplets instead of pairs?\u001b[39;00m\n\u001b[0;32m      2\u001b[0m courseList \u001b[38;5;241m=\u001b[39m [(\u001b[38;5;124m'\u001b[39m\u001b[38;5;124mPython\u001b[39m\u001b[38;5;124m'\u001b[39m, \u001b[38;5;124m'\u001b[39m\u001b[38;5;124m1\u001b[39m\u001b[38;5;124m'\u001b[39m, \u001b[38;5;124m'\u001b[39m\u001b[38;5;124mME\u001b[39m\u001b[38;5;124m'\u001b[39m), (\u001b[38;5;124m'\u001b[39m\u001b[38;5;124mJava\u001b[39m\u001b[38;5;124m'\u001b[39m,\u001b[38;5;124m'\u001b[39m\u001b[38;5;124m3\u001b[39m\u001b[38;5;124m'\u001b[39m, \u001b[38;5;124m'\u001b[39m\u001b[38;5;124mM\u001b[39m\u001b[38;5;124m'\u001b[39m)]\n\u001b[1;32m----> 3\u001b[0m courses \u001b[38;5;241m=\u001b[39m \u001b[38;5;28;43mdict\u001b[39;49m\u001b[43m(\u001b[49m\u001b[43mcourseList\u001b[49m\u001b[43m)\u001b[49m\n\u001b[0;32m      4\u001b[0m \u001b[38;5;28mprint\u001b[39m(courses)\n",
      "\u001b[1;31mValueError\u001b[0m: dictionary update sequence element #0 has length 3; 2 is required"
     ]
    }
   ],
   "source": [
    "# what if we have triplets instead of pairs?\n",
    "courseList = [('Python', '1', 'ME'), ('Java','3', 'M')]\n",
    "courses = dict(courseList)\n",
    "print(courses)\n"
   ]
  },
  {
   "cell_type": "code",
   "execution_count": 28,
   "id": "cf74510f-0f71-424b-a3f2-a1deed51146c",
   "metadata": {},
   "outputs": [
    {
     "name": "stdout",
     "output_type": "stream",
     "text": [
      "{'Python': '1', 'Java': '3', 'Kotlin': '2', 'CPP': '1', 'C': '3'}\n"
     ]
    }
   ],
   "source": [
    "courses = dict(Python='1', Java='3', Kotlin='2',CPP='1', C='3')\n",
    "print(courses)"
   ]
  },
  {
   "cell_type": "code",
   "execution_count": 31,
   "id": "67d85972-f76d-42b1-8982-aa2ac336da6e",
   "metadata": {},
   "outputs": [
    {
     "ename": "SyntaxError",
     "evalue": "positional argument follows keyword argument (3240118308.py, line 1)",
     "output_type": "error",
     "traceback": [
      "\u001b[1;36m  Cell \u001b[1;32mIn[31], line 1\u001b[1;36m\u001b[0m\n\u001b[1;33m    courses = dict(Python='1', Java='3', Kotlin='2',C++='1', C='3')\u001b[0m\n\u001b[1;37m                                                      ^\u001b[0m\n\u001b[1;31mSyntaxError\u001b[0m\u001b[1;31m:\u001b[0m positional argument follows keyword argument\n"
     ]
    }
   ],
   "source": [
    "courses = dict(Python='1', Java='3', Kotlin='2',C++='1', C='3')\n",
    "print(courses)\n"
   ]
  },
  {
   "cell_type": "code",
   "execution_count": 38,
   "id": "55be4fb9-6cdb-4145-a7db-2f51aaee04e2",
   "metadata": {},
   "outputs": [
    {
     "name": "stdout",
     "output_type": "stream",
     "text": [
      "3\n"
     ]
    }
   ],
   "source": [
    "courses = dict(Python='1', Java='3', Kotlin='2', C='3')\n",
    "courses['C++'] = '1'\n",
    "print(courses['Java'])"
   ]
  },
  {
   "cell_type": "code",
   "execution_count": 40,
   "id": "6b8e1f49-a853-4fcd-951b-a9a1e206b137",
   "metadata": {},
   "outputs": [
    {
     "ename": "KeyError",
     "evalue": "'java'",
     "output_type": "error",
     "traceback": [
      "\u001b[1;31m---------------------------------------------------------------------------\u001b[0m",
      "\u001b[1;31mKeyError\u001b[0m                                  Traceback (most recent call last)",
      "Cell \u001b[1;32mIn[40], line 4\u001b[0m\n\u001b[0;32m      1\u001b[0m \u001b[38;5;66;03m# case sensitivity of key\u001b[39;00m\n\u001b[0;32m      3\u001b[0m courses \u001b[38;5;241m=\u001b[39m \u001b[38;5;28mdict\u001b[39m(Python\u001b[38;5;241m=\u001b[39m\u001b[38;5;124m'\u001b[39m\u001b[38;5;124m1\u001b[39m\u001b[38;5;124m'\u001b[39m, Java\u001b[38;5;241m=\u001b[39m\u001b[38;5;124m'\u001b[39m\u001b[38;5;124m3\u001b[39m\u001b[38;5;124m'\u001b[39m, Kotlin\u001b[38;5;241m=\u001b[39m\u001b[38;5;124m'\u001b[39m\u001b[38;5;124m2\u001b[39m\u001b[38;5;124m'\u001b[39m, C\u001b[38;5;241m=\u001b[39m\u001b[38;5;124m'\u001b[39m\u001b[38;5;124m3\u001b[39m\u001b[38;5;124m'\u001b[39m)\n\u001b[1;32m----> 4\u001b[0m \u001b[38;5;28mprint\u001b[39m(\u001b[43mcourses\u001b[49m\u001b[43m[\u001b[49m\u001b[38;5;124;43m'\u001b[39;49m\u001b[38;5;124;43mjava\u001b[39;49m\u001b[38;5;124;43m'\u001b[39;49m\u001b[43m]\u001b[49m)\n\u001b[0;32m      5\u001b[0m \u001b[38;5;28mprint\u001b[39m(courses[\u001b[38;5;124m'\u001b[39m\u001b[38;5;124mJava\u001b[39m\u001b[38;5;124m'\u001b[39m])\n",
      "\u001b[1;31mKeyError\u001b[0m: 'java'"
     ]
    }
   ],
   "source": [
    "# case sensitivity of key\n",
    "\n",
    "courses = dict(Python='1', Java='3', Kotlin='2', C='3')\n",
    "#print(courses['java'])\n",
    "print(courses['Java'])"
   ]
  },
  {
   "cell_type": "markdown",
   "id": "c8d11f53-12b7-4784-b376-24fa659cde2c",
   "metadata": {},
   "source": [
    "### The dict comprehension"
   ]
  },
  {
   "cell_type": "code",
   "execution_count": 41,
   "id": "f5940c72-f2aa-40b4-84bb-7ccde32f99f2",
   "metadata": {},
   "outputs": [
    {
     "name": "stdout",
     "output_type": "stream",
     "text": [
      "{2: 4, 4: 16, 6: 36}\n"
     ]
    }
   ],
   "source": [
    "squares = {x: x**2 for x in (2, 4, 6)}\n",
    "print(squares)\n"
   ]
  },
  {
   "cell_type": "markdown",
   "id": "f82387c5-ff09-45af-9391-a04dd74c68d8",
   "metadata": {},
   "source": [
    "### Looping Techniques"
   ]
  },
  {
   "cell_type": "code",
   "execution_count": 42,
   "id": "2f8907ff-58ac-48c4-b508-81c83177d493",
   "metadata": {},
   "outputs": [
    {
     "name": "stdout",
     "output_type": "stream",
     "text": [
      "course: Python, year: 1\n",
      "course: Java, year: 3\n",
      "course: Kotlin, year: 2\n",
      "course: C, year: 3\n"
     ]
    }
   ],
   "source": [
    "for language,year in courses.items():\n",
    "    print(f'course: {language}, year: {year}')\n"
   ]
  },
  {
   "cell_type": "code",
   "execution_count": 43,
   "id": "e3d36e95-2ad5-40f7-8a10-2bb3c66319a5",
   "metadata": {},
   "outputs": [
    {
     "name": "stdout",
     "output_type": "stream",
     "text": [
      "What is your name?  It is lancelot.\n",
      "What is your quest?  It is the holy grail.\n",
      "What is your favorite color?  It is blue.\n"
     ]
    }
   ],
   "source": [
    "questions = ['name', 'quest', 'favorite color']\n",
    "answers = ['lancelot', 'the holy grail', 'blue']\n",
    "for q, a in zip(questions, answers):\n",
    "    print(f'What is your {q}?  It is {a}.')\n"
   ]
  },
  {
   "cell_type": "markdown",
   "id": "f17e90e3-cc1c-43f5-bd1e-96b2e0888d85",
   "metadata": {},
   "source": [
    "# Sets in Python"
   ]
  },
  {
   "cell_type": "code",
   "execution_count": 185,
   "id": "96ef00a4-06c1-40cf-860c-ff47996a8e65",
   "metadata": {},
   "outputs": [
    {
     "name": "stdout",
     "output_type": "stream",
     "text": [
      "Permission granted\n"
     ]
    }
   ],
   "source": [
    "permissions = {'read', 'write', 'execute', 'delete'}\n",
    "request = 'execute'\n",
    "if request in permissions:\n",
    "    print('Permission granted')\n",
    "else:\n",
    "    print('Permission denied')\n"
   ]
  },
  {
   "cell_type": "code",
   "execution_count": 3,
   "id": "27e338e5-13f4-42c1-8f13-92f3a9c66c2a",
   "metadata": {},
   "outputs": [
    {
     "name": "stdout",
     "output_type": "stream",
     "text": [
      "{'o', 'e', 'u'}\n"
     ]
    }
   ],
   "source": [
    "a = {x for x in 'aeiou' if x not in 'ai'} \n",
    "print(a)"
   ]
  },
  {
   "cell_type": "code",
   "execution_count": 188,
   "id": "a4edfa67-eebc-4efb-85b2-fe360e9c01fd",
   "metadata": {},
   "outputs": [
    {
     "name": "stdout",
     "output_type": "stream",
     "text": [
      "<class 'set'>\n",
      "The set is empty\n"
     ]
    }
   ],
   "source": [
    "# type of set, and creating an empty set\n",
    "permissions = set()\n",
    "\n",
    "print(type(permissions))\n",
    "\n",
    "if permissions:\n",
    "    print(\"The set is not empty\")\n",
    "else:\n",
    "    print(\"The set is empty\")\n"
   ]
  }
 ],
 "metadata": {
  "kernelspec": {
   "display_name": "Python 3 (ipykernel)",
   "language": "python",
   "name": "python3"
  },
  "language_info": {
   "codemirror_mode": {
    "name": "ipython",
    "version": 3
   },
   "file_extension": ".py",
   "mimetype": "text/x-python",
   "name": "python",
   "nbconvert_exporter": "python",
   "pygments_lexer": "ipython3",
   "version": "3.12.4"
  }
 },
 "nbformat": 4,
 "nbformat_minor": 5
}
