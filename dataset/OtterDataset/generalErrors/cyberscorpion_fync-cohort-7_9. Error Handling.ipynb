{
 "cells": [
  {
   "cell_type": "markdown",
   "id": "f0c6b440-fa56-48f9-b71e-5e8a7123acff",
   "metadata": {},
   "source": [
    "## Exception Handling"
   ]
  },
  {
   "cell_type": "markdown",
   "id": "5a86bf6d-f32a-40c7-88ba-a851a21b4ea8",
   "metadata": {},
   "source": [
    "Types of errors\n",
    "- Combile Time / Syntax Error\n",
    "- Logical Error\n",
    "- Run Time "
   ]
  },
  {
   "cell_type": "markdown",
   "id": "fa7c15e4-cf0d-4b47-a459-0b895e7a3113",
   "metadata": {},
   "source": [
    "#### Syntax Error"
   ]
  },
  {
   "cell_type": "code",
   "execution_count": 5,
   "id": "5967bb9f-9452-411d-9109-fb55e78464e7",
   "metadata": {
    "scrolled": true
   },
   "outputs": [
    {
     "ename": "SyntaxError",
     "evalue": "incomplete input (3774824020.py, line 1)",
     "output_type": "error",
     "traceback": [
      "\u001b[1;36m  Cell \u001b[1;32mIn[5], line 1\u001b[1;36m\u001b[0m\n\u001b[1;33m    print(x\u001b[0m\n\u001b[1;37m           ^\u001b[0m\n\u001b[1;31mSyntaxError\u001b[0m\u001b[1;31m:\u001b[0m incomplete input\n"
     ]
    }
   ],
   "source": [
    "print(x"
   ]
  },
  {
   "cell_type": "code",
   "execution_count": 7,
   "id": "d27da37e-5668-4c8d-a967-25f595a97425",
   "metadata": {},
   "outputs": [
    {
     "ename": "SyntaxError",
     "evalue": "expected ':' (2733300111.py, line 1)",
     "output_type": "error",
     "traceback": [
      "\u001b[1;36m  Cell \u001b[1;32mIn[7], line 1\u001b[1;36m\u001b[0m\n\u001b[1;33m    for i in range(10)\u001b[0m\n\u001b[1;37m                      ^\u001b[0m\n\u001b[1;31mSyntaxError\u001b[0m\u001b[1;31m:\u001b[0m expected ':'\n"
     ]
    }
   ],
   "source": [
    "for i in range(10)\n",
    "    print(i)"
   ]
  },
  {
   "cell_type": "code",
   "execution_count": 9,
   "id": "854eb14b-dec7-436f-ad5a-1197668c9120",
   "metadata": {},
   "outputs": [
    {
     "ename": "SyntaxError",
     "evalue": "expected ':' (547676204.py, line 1)",
     "output_type": "error",
     "traceback": [
      "\u001b[1;36m  Cell \u001b[1;32mIn[9], line 1\u001b[1;36m\u001b[0m\n\u001b[1;33m    if True\u001b[0m\n\u001b[1;37m           ^\u001b[0m\n\u001b[1;31mSyntaxError\u001b[0m\u001b[1;31m:\u001b[0m expected ':'\n"
     ]
    }
   ],
   "source": [
    "if True\n",
    "    print(\"hello\")"
   ]
  },
  {
   "cell_type": "code",
   "execution_count": 11,
   "id": "2e3cb082-8295-4f54-94b2-166fd1381d19",
   "metadata": {},
   "outputs": [
    {
     "ename": "SyntaxError",
     "evalue": "unterminated string literal (detected at line 1) (2084448154.py, line 1)",
     "output_type": "error",
     "traceback": [
      "\u001b[1;36m  Cell \u001b[1;32mIn[11], line 1\u001b[1;36m\u001b[0m\n\u001b[1;33m    print(\"Hello')\u001b[0m\n\u001b[1;37m          ^\u001b[0m\n\u001b[1;31mSyntaxError\u001b[0m\u001b[1;31m:\u001b[0m unterminated string literal (detected at line 1)\n"
     ]
    }
   ],
   "source": [
    "print(\"Hello')"
   ]
  },
  {
   "cell_type": "markdown",
   "id": "84f8dac8-5870-4ce5-87d9-d54d54a801ce",
   "metadata": {},
   "source": [
    "#### Logical Error"
   ]
  },
  {
   "cell_type": "code",
   "execution_count": 17,
   "id": "5c73e8a3-7ed9-4d6b-9df3-068ba1fa4ec3",
   "metadata": {},
   "outputs": [
    {
     "name": "stdout",
     "output_type": "stream",
     "text": [
      "4\n",
      "12\n"
     ]
    }
   ],
   "source": [
    "def sumTwoNumbers(a, b):\n",
    "    return a * b\n",
    "\n",
    "print(sumTwoNumbers(2,2))\n",
    "\n",
    "print(sumTwoNumbers(6,2))"
   ]
  },
  {
   "cell_type": "code",
   "execution_count": null,
   "id": "563ab1f5-a40f-49e7-a212-f64584058a78",
   "metadata": {},
   "outputs": [],
   "source": [
    "if a > b:\n",
    "    print(\"B is greater\")\n",
    "else:\n",
    "    print(\"A is greater\")"
   ]
  },
  {
   "cell_type": "markdown",
   "id": "ed04cf10-0085-4121-a0da-f2c42a3676ab",
   "metadata": {},
   "source": [
    "#### Run time Error / Exceptions"
   ]
  },
  {
   "cell_type": "code",
   "execution_count": 25,
   "id": "61d2c41a-ea04-4961-be0f-0052f8334051",
   "metadata": {},
   "outputs": [
    {
     "ename": "ZeroDivisionError",
     "evalue": "division by zero",
     "output_type": "error",
     "traceback": [
      "\u001b[1;31m---------------------------------------------------------------------------\u001b[0m",
      "\u001b[1;31mZeroDivisionError\u001b[0m                         Traceback (most recent call last)",
      "Cell \u001b[1;32mIn[25], line 1\u001b[0m\n\u001b[1;32m----> 1\u001b[0m divideByZero \u001b[38;5;241m=\u001b[39m \u001b[38;5;241m100\u001b[39m \u001b[38;5;241m/\u001b[39m \u001b[38;5;241m0\u001b[39m\n\u001b[0;32m      2\u001b[0m \u001b[38;5;28mprint\u001b[39m(divideByZero)\n",
      "\u001b[1;31mZeroDivisionError\u001b[0m: division by zero"
     ]
    }
   ],
   "source": [
    "divideByZero = 100 / 0\n",
    "print(divideByZero)"
   ]
  },
  {
   "cell_type": "code",
   "execution_count": 27,
   "id": "d03421d7-ff59-44e5-818e-62dbb57be789",
   "metadata": {},
   "outputs": [
    {
     "ename": "IndexError",
     "evalue": "list index out of range",
     "output_type": "error",
     "traceback": [
      "\u001b[1;31m---------------------------------------------------------------------------\u001b[0m",
      "\u001b[1;31mIndexError\u001b[0m                                Traceback (most recent call last)",
      "Cell \u001b[1;32mIn[27], line 2\u001b[0m\n\u001b[0;32m      1\u001b[0m x\u001b[38;5;241m=\u001b[39m [\u001b[38;5;241m1\u001b[39m,\u001b[38;5;241m2\u001b[39m,\u001b[38;5;241m3\u001b[39m]\n\u001b[1;32m----> 2\u001b[0m \u001b[38;5;28mprint\u001b[39m(x[\u001b[38;5;241m4\u001b[39m])\n",
      "\u001b[1;31mIndexError\u001b[0m: list index out of range"
     ]
    }
   ],
   "source": [
    "x= [1,2,3]\n",
    "print(x[4])"
   ]
  },
  {
   "cell_type": "code",
   "execution_count": 30,
   "id": "b4614eb4-f3fc-48b1-8cf3-2e8fcb9e7d15",
   "metadata": {},
   "outputs": [
    {
     "ename": "ModuleNotFoundError",
     "evalue": "No module named 'dsfd'",
     "output_type": "error",
     "traceback": [
      "\u001b[1;31m---------------------------------------------------------------------------\u001b[0m",
      "\u001b[1;31mModuleNotFoundError\u001b[0m                       Traceback (most recent call last)",
      "Cell \u001b[1;32mIn[30], line 1\u001b[0m\n\u001b[1;32m----> 1\u001b[0m \u001b[38;5;28;01mimport\u001b[39;00m \u001b[38;5;21;01mdsfd\u001b[39;00m\n",
      "\u001b[1;31mModuleNotFoundError\u001b[0m: No module named 'dsfd'"
     ]
    }
   ],
   "source": [
    "import dsfd"
   ]
  },
  {
   "cell_type": "code",
   "execution_count": 36,
   "id": "b0d90c86-2bfa-4935-87d1-b8128b1a7dea",
   "metadata": {},
   "outputs": [
    {
     "ename": "KeyError",
     "evalue": "'chapter'",
     "output_type": "error",
     "traceback": [
      "\u001b[1;31m---------------------------------------------------------------------------\u001b[0m",
      "\u001b[1;31mKeyError\u001b[0m                                  Traceback (most recent call last)",
      "Cell \u001b[1;32mIn[36], line 5\u001b[0m\n\u001b[0;32m      1\u001b[0m d \u001b[38;5;241m=\u001b[39m {\n\u001b[0;32m      2\u001b[0m     \u001b[38;5;124m'\u001b[39m\u001b[38;5;124mname\u001b[39m\u001b[38;5;124m'\u001b[39m: \u001b[38;5;124m'\u001b[39m\u001b[38;5;124mRajat Jain\u001b[39m\u001b[38;5;124m'\u001b[39m\n\u001b[0;32m      3\u001b[0m }\n\u001b[1;32m----> 5\u001b[0m \u001b[38;5;28mprint\u001b[39m(d[\u001b[38;5;124m'\u001b[39m\u001b[38;5;124mchapter\u001b[39m\u001b[38;5;124m'\u001b[39m])\n",
      "\u001b[1;31mKeyError\u001b[0m: 'chapter'"
     ]
    }
   ],
   "source": [
    "d = {\n",
    "    'name': 'Rajat Jain'\n",
    "}\n",
    "\n",
    "print(d['chapter'])"
   ]
  },
  {
   "cell_type": "markdown",
   "id": "1df31dce-5df4-4e4a-9188-5f120da8c2e2",
   "metadata": {},
   "source": [
    "### Raising an Exception"
   ]
  },
  {
   "cell_type": "code",
   "execution_count": 41,
   "id": "07054f7d-9529-4db1-aed6-a6d9d2ed3af0",
   "metadata": {},
   "outputs": [
    {
     "ename": "TypeError",
     "evalue": "Only positive integers are allowed",
     "output_type": "error",
     "traceback": [
      "\u001b[1;31m---------------------------------------------------------------------------\u001b[0m",
      "\u001b[1;31mTypeError\u001b[0m                                 Traceback (most recent call last)",
      "Cell \u001b[1;32mIn[41], line 5\u001b[0m\n\u001b[0;32m      3\u001b[0m     \u001b[38;5;28mprint\u001b[39m(\u001b[38;5;124m\"\u001b[39m\u001b[38;5;124mMy number is:\u001b[39m\u001b[38;5;124m\"\u001b[39m, x)\n\u001b[0;32m      4\u001b[0m \u001b[38;5;28;01melse\u001b[39;00m:\n\u001b[1;32m----> 5\u001b[0m     \u001b[38;5;28;01mraise\u001b[39;00m \u001b[38;5;167;01mTypeError\u001b[39;00m(\u001b[38;5;124m\"\u001b[39m\u001b[38;5;124mOnly positive integers are allowed\u001b[39m\u001b[38;5;124m\"\u001b[39m)\n",
      "\u001b[1;31mTypeError\u001b[0m: Only positive integers are allowed"
     ]
    }
   ],
   "source": [
    "x = -34\n",
    "if x > 0:\n",
    "    print(\"My number is:\", x)\n",
    "else:\n",
    "    raise TypeError(\"Only positive integers are allowed\")\n",
    "    "
   ]
  },
  {
   "cell_type": "code",
   "execution_count": 106,
   "id": "874c5ed6-7dd8-4d32-aaa1-ffa3a14282c5",
   "metadata": {},
   "outputs": [
    {
     "ename": "TypeError",
     "evalue": "Only integers allowed",
     "output_type": "error",
     "traceback": [
      "\u001b[1;31m---------------------------------------------------------------------------\u001b[0m",
      "\u001b[1;31mTypeError\u001b[0m                                 Traceback (most recent call last)",
      "Cell \u001b[1;32mIn[106], line 4\u001b[0m\n\u001b[0;32m      2\u001b[0m \u001b[38;5;28;01mif\u001b[39;00m \u001b[38;5;129;01mnot\u001b[39;00m \u001b[38;5;28mtype\u001b[39m(x) \u001b[38;5;129;01mis\u001b[39;00m \u001b[38;5;28mint\u001b[39m:\n\u001b[0;32m      3\u001b[0m     error \u001b[38;5;241m=\u001b[39m \u001b[38;5;167;01mTypeError\u001b[39;00m(\u001b[38;5;124m\"\u001b[39m\u001b[38;5;124mOnly integers allowed\u001b[39m\u001b[38;5;124m\"\u001b[39m)\n\u001b[1;32m----> 4\u001b[0m     \u001b[38;5;28;01mraise\u001b[39;00m error\n",
      "\u001b[1;31mTypeError\u001b[0m: Only integers allowed"
     ]
    }
   ],
   "source": [
    "x = \"df\"\n",
    "if not type(x) is int:\n",
    "    error = TypeError(\"Only integers allowed\")\n",
    "    raise error"
   ]
  },
  {
   "cell_type": "code",
   "execution_count": 102,
   "id": "6ef6c78e-dd39-4246-835d-20f481614aab",
   "metadata": {},
   "outputs": [
    {
     "name": "stdout",
     "output_type": "stream",
     "text": [
      "Hello\n"
     ]
    },
    {
     "ename": "IndexError",
     "evalue": "Only integers allowed",
     "output_type": "error",
     "traceback": [
      "\u001b[1;31m---------------------------------------------------------------------------\u001b[0m",
      "\u001b[1;31mIndexError\u001b[0m                                Traceback (most recent call last)",
      "Cell \u001b[1;32mIn[102], line 4\u001b[0m\n\u001b[0;32m      2\u001b[0m x \u001b[38;5;241m=\u001b[39m \u001b[38;5;124m'\u001b[39m\u001b[38;5;124mhi\u001b[39m\u001b[38;5;124m'\u001b[39m\n\u001b[0;32m      3\u001b[0m \u001b[38;5;28;01mif\u001b[39;00m \u001b[38;5;28mtype\u001b[39m(x) \u001b[38;5;129;01mis\u001b[39;00m \u001b[38;5;129;01mnot\u001b[39;00m \u001b[38;5;28mint\u001b[39m:\n\u001b[1;32m----> 4\u001b[0m     \u001b[38;5;28;01mraise\u001b[39;00m \u001b[38;5;167;01mIndexError\u001b[39;00m(\u001b[38;5;124m\"\u001b[39m\u001b[38;5;124mOnly integers allowed\u001b[39m\u001b[38;5;124m\"\u001b[39m)\n",
      "\u001b[1;31mIndexError\u001b[0m: Only integers allowed"
     ]
    }
   ],
   "source": [
    "print(\"Hello\")\n",
    "x = 'hi'\n",
    "if type(x) is not int:\n",
    "    raise IndexError(\"Only integers allowed\")\n"
   ]
  },
  {
   "cell_type": "code",
   "execution_count": null,
   "id": "e5d3c7a4-4db7-467b-84d7-71b59f124ab3",
   "metadata": {},
   "outputs": [],
   "source": []
  },
  {
   "cell_type": "code",
   "execution_count": 81,
   "id": "0d43eb80-70fc-495d-bd6d-c35397ed8c1c",
   "metadata": {},
   "outputs": [
    {
     "name": "stdout",
     "output_type": "stream",
     "text": [
      "press -1 to exit program\n"
     ]
    },
    {
     "name": "stdin",
     "output_type": "stream",
     "text": [
      "Enter your name:  Rajat\n"
     ]
    },
    {
     "name": "stdout",
     "output_type": "stream",
     "text": [
      "Welcome:  Rajat\n",
      "press -1 to exit program\n"
     ]
    },
    {
     "name": "stdin",
     "output_type": "stream",
     "text": [
      "Enter your name:  ABC\n"
     ]
    },
    {
     "name": "stdout",
     "output_type": "stream",
     "text": [
      "Welcome:  ABC\n",
      "press -1 to exit program\n"
     ]
    },
    {
     "name": "stdin",
     "output_type": "stream",
     "text": [
      "Enter your name:  XYZ\n"
     ]
    },
    {
     "name": "stdout",
     "output_type": "stream",
     "text": [
      "Welcome:  XYZ\n",
      "press -1 to exit program\n"
     ]
    },
    {
     "name": "stdin",
     "output_type": "stream",
     "text": [
      "Enter your name:  -1\n"
     ]
    }
   ],
   "source": [
    "while True:\n",
    "    print(\"press -1 to exit program\")\n",
    "    x = input(\"Enter your name: \")\n",
    "    if x == '-1':\n",
    "        break\n",
    "    print(\"Welcome: \", x)\n",
    "    "
   ]
  },
  {
   "cell_type": "markdown",
   "id": "0fd38f7c-6dd1-42ce-9262-d750f116d193",
   "metadata": {},
   "source": [
    "### AssertionError Exception"
   ]
  },
  {
   "cell_type": "code",
   "execution_count": 108,
   "id": "2ddee900-d7ff-4da8-8866-22185e7c57e6",
   "metadata": {},
   "outputs": [
    {
     "name": "stdout",
     "output_type": "stream",
     "text": [
      "0.25\n"
     ]
    }
   ],
   "source": [
    "a = 1\n",
    "b = 4\n",
    "assert b!=0, \"Invalid value of B\"\n",
    "\n",
    "print(a/b)\n",
    "\n",
    "\n"
   ]
  },
  {
   "cell_type": "code",
   "execution_count": 110,
   "id": "6c0f5489-c15a-4f96-9a7d-0bbc27c1fd72",
   "metadata": {},
   "outputs": [
    {
     "ename": "AssertionError",
     "evalue": "Invalid value of B",
     "output_type": "error",
     "traceback": [
      "\u001b[1;31m---------------------------------------------------------------------------\u001b[0m",
      "\u001b[1;31mAssertionError\u001b[0m                            Traceback (most recent call last)",
      "Cell \u001b[1;32mIn[110], line 3\u001b[0m\n\u001b[0;32m      1\u001b[0m a\u001b[38;5;241m=\u001b[39m\u001b[38;5;241m1\u001b[39m\n\u001b[0;32m      2\u001b[0m b\u001b[38;5;241m=\u001b[39m\u001b[38;5;241m4\u001b[39m\n\u001b[1;32m----> 3\u001b[0m \u001b[38;5;28;01massert\u001b[39;00m b\u001b[38;5;241m!=\u001b[39m\u001b[38;5;241m4\u001b[39m, \u001b[38;5;124m\"\u001b[39m\u001b[38;5;124mInvalid value of B\u001b[39m\u001b[38;5;124m\"\u001b[39m\n\u001b[0;32m      4\u001b[0m \u001b[38;5;28mprint\u001b[39m(a\u001b[38;5;241m/\u001b[39mb)\n",
      "\u001b[1;31mAssertionError\u001b[0m: Invalid value of B"
     ]
    }
   ],
   "source": [
    "a=1\n",
    "b=4\n",
    "assert b!=4, \"Invalid value of B\"\n",
    "print(a/b)"
   ]
  },
  {
   "cell_type": "markdown",
   "id": "6485eb1d-2036-485c-a736-4a4acc73501c",
   "metadata": {},
   "source": [
    "### Handling Python Exceptions"
   ]
  },
  {
   "cell_type": "code",
   "execution_count": 117,
   "id": "3021f2f4-aadf-417a-afad-85000f15c495",
   "metadata": {},
   "outputs": [
    {
     "name": "stdout",
     "output_type": "stream",
     "text": [
      "an exception occurred\n"
     ]
    }
   ],
   "source": [
    "try:\n",
    "    print(test) # exception\n",
    "except:\n",
    "    print(\"an exception occurred\")"
   ]
  },
  {
   "cell_type": "code",
   "execution_count": 135,
   "id": "8948f7c1-9212-427a-a0ba-4af60dc9290d",
   "metadata": {},
   "outputs": [
    {
     "name": "stdout",
     "output_type": "stream",
     "text": [
      "We got error\n",
      "Hello world\n"
     ]
    }
   ],
   "source": [
    "def checkValue():\n",
    "    x = -34\n",
    "    if x > 0:\n",
    "        print(\"My number is:\", x)\n",
    "    else:\n",
    "        raise TypeError(\"Only positive integers are allowed\")\n",
    "try:\n",
    "    checkValue()\n",
    "except:\n",
    "    print(\"We got error\")\n",
    "\n",
    "print(\"Hello world\")"
   ]
  },
  {
   "cell_type": "code",
   "execution_count": 145,
   "id": "69f0fbc2-b408-4871-bc8a-624ea60cd08d",
   "metadata": {},
   "outputs": [
    {
     "name": "stdout",
     "output_type": "stream",
     "text": [
      "This is assertion error\n"
     ]
    }
   ],
   "source": [
    "b=4\n",
    "\n",
    "try:\n",
    "    assert b!=4, \"Invalid value of B\"\n",
    "except:\n",
    "    print(\"We got error\")\n",
    "    "
   ]
  },
  {
   "cell_type": "code",
   "execution_count": 151,
   "id": "61e57af4-3c5a-401a-8db9-8e3163c89f1a",
   "metadata": {},
   "outputs": [
    {
     "name": "stdout",
     "output_type": "stream",
     "text": [
      "Any other error\n"
     ]
    }
   ],
   "source": [
    "b=4\n",
    "try:\n",
    "    raise ValueErrror(\"This is type error\")\n",
    "    \n",
    "except TypeError:\n",
    "    print(\"This is type error\")\n",
    "except AssertionError:\n",
    "    print(\"This is assertion error\")\n",
    "except:\n",
    "    print(\"Any other error\")"
   ]
  },
  {
   "cell_type": "code",
   "execution_count": 166,
   "id": "9c082ebb-32b3-4f59-9a4d-07a8c02ea657",
   "metadata": {},
   "outputs": [
    {
     "name": "stdout",
     "output_type": "stream",
     "text": [
      "Hello inside try\n",
      "Any other error\n"
     ]
    }
   ],
   "source": [
    "b=4\n",
    "try:\n",
    "    if b>3:\n",
    "        print(\"Hello inside try\")\n",
    "        raise NameError(\"Value of B to be less then 3\")\n",
    "        print(\"We are having excpt\")\n",
    "except TypeError:\n",
    "    print(\"This is type error\")\n",
    "except AssertionError:\n",
    "    print(\"This is assertion error\")\n",
    "except:\n",
    "    print(\"Any other error\")"
   ]
  },
  {
   "cell_type": "code",
   "execution_count": 170,
   "id": "c678dee8-5f50-4f41-bbdf-ffb72c299e1f",
   "metadata": {},
   "outputs": [
    {
     "name": "stdout",
     "output_type": "stream",
     "text": [
      "File not found error handled\n",
      "Closing file\n"
     ]
    }
   ],
   "source": [
    "try:\n",
    "    f = open(\"myfile.txt\", 'r')\n",
    "    print(\"File opend\")\n",
    "except FileNotFoundError:\n",
    "    print(\"File not found error handled\")\n",
    "except:\n",
    "    print(\"Any other error\")\n",
    "finally:\n",
    "    print(\"Closing file\")"
   ]
  },
  {
   "cell_type": "code",
   "execution_count": 174,
   "id": "feb15e28-7b90-4e01-b154-4fa7ed38f778",
   "metadata": {},
   "outputs": [
    {
     "name": "stdout",
     "output_type": "stream",
     "text": [
      "File opend\n",
      "Closing file\n"
     ]
    }
   ],
   "source": [
    "try:\n",
    "    # f = open(\"myfile.txt\", 'r')\n",
    "    print(\"File opend\")\n",
    "except FileNotFoundError:\n",
    "    print(\"File not found error handled\")\n",
    "except:\n",
    "    print(\"Any other error\")\n",
    "finally:\n",
    "    print(\"Closing file\")"
   ]
  },
  {
   "cell_type": "code",
   "execution_count": null,
   "id": "7bb58c5c-a517-4bbc-9a0e-0b2cfce74cc3",
   "metadata": {},
   "outputs": [],
   "source": []
  }
 ],
 "metadata": {
  "kernelspec": {
   "display_name": "Python 3 (ipykernel)",
   "language": "python",
   "name": "python3"
  },
  "language_info": {
   "codemirror_mode": {
    "name": "ipython",
    "version": 3
   },
   "file_extension": ".py",
   "mimetype": "text/x-python",
   "name": "python",
   "nbconvert_exporter": "python",
   "pygments_lexer": "ipython3",
   "version": "3.12.4"
  }
 },
 "nbformat": 4,
 "nbformat_minor": 5
}
