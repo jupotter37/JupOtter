{
 "cells": [
  {
   "cell_type": "markdown",
   "metadata": {},
   "source": [
    "**Lecture list**\n",
    "\n",
    "1. Introduction to Python\n",
    "\n",
    "2. The Python Standard Library, if/loops statements\n",
    "\n",
    "3. Vector/matrix structures, `numpy` library\n",
    "\n",
    "4. Python data types, File Processing, `Pandas` library\n",
    "\n",
    "5. **Functions in Python, Debugging.**\n",
    "\n",
    "    * Lambda function.\n",
    "    * Recursion.\n",
    "    * Common errors in Python.\n",
    "\n",
    "6. Introduction to R, R for Python programmers.\n",
    "\n",
    "7. Import data, plot data.\n",
    "\n",
    "8. Data Mining in Python/R."
   ]
  },
  {
   "cell_type": "markdown",
   "metadata": {
    "collapsed": true
   },
   "source": [
    "# Lambda function\n",
    "\n",
    "## Syntax of Lambda Function\n",
    "\n",
    "In Python, anonymous function (lambda function) is a function that is defined without a name.\n",
    "\n",
    "While normal functions are defined using the **def** keyword, in Python anonymous functions are defined using the **lambda** keyword. Hence, anonymous functions are also called lambda functions.\n",
    "\n",
    "Syntax:\n",
    "\n",
    "```python\n",
    "lambda arguments: expression\n",
    "```\n",
    "\n",
    "Example: \n",
    "\n",
    "```python\n",
    ">>> S = lambda a, b: a + b\n",
    ">>> S(5, 7)\n",
    "    12\n",
    "```\n",
    "\n",
    "```python\n",
    ">>> double = lambda x: x * 2\n",
    ">>> double(5)\n",
    "    10\n",
    "```\n",
    "\n",
    "Lambda functions can have any number of arguments but only one expression. The expression is evaluated and returned. Lambda functions can be used wherever function objects are required.\n",
    "\n",
    "\n",
    "In the above program, **lambda x: x * 2** is the `lambda function`. Here **x** is the argument and **x * 2** is the expression that gets evaluated and returned.\n",
    "\n",
    "This function has no name. It returns a function object which is assigned to the identifier **double**. We can now call it as a normal function. The statement\n",
    "\n",
    "```python\n",
    "double = lambda x: x * 2\n",
    "```\n",
    "\n",
    "is nearly the same as\n",
    "\n",
    "```python\n",
    "def double(x):\n",
    "    return x * 2\n",
    "```\n"
   ]
  },
  {
   "cell_type": "markdown",
   "metadata": {},
   "source": [
    "## Use of Lambda Function\n",
    "\n",
    "We use lambda functions when we require a nameless function for a short period of time.\n",
    "\n",
    "In Python, we generally use it as an argument to a higher-order function (a function that takes in other functions as [arguments](https://www.programiz.com/python-programming/function-argument)). Lambda functions are used along with built-in functions like `filter()`, `map()` etc.\n",
    "\n",
    "**Example use with filter()**\n",
    "\n",
    "The **filter()** function in Python takes in a function and a list as arguments.\n",
    "\n",
    "The function is called with all the items in the list and a new list is returned which contains items for which the function evaluats to `True`.\n",
    "\n",
    "Here is an example use of filter() function to filter out only even numbers from a list.\n",
    "\n",
    "\n",
    "```python\n",
    ">>> def is_odd(x):\n",
    ">>>     return x % 2 == 0\n",
    ">>>\n",
    ">>> my_list = [1, 5, 4, 6, 8, 11, 3, 12]\n",
    ">>> new_list = list(filter(is_odd, my_list))\n",
    "    [4, 6, 8, 12]\n",
    "```\n",
    "\n",
    "Instead, we can use lambda function:\n",
    "\n",
    "```python\n",
    ">>> my_list = [1, 5, 4, 6, 8, 11, 3, 12]\n",
    ">>> new_list = list(filter(lambda x: x % 2 == 0, my_list))\n",
    "    [4, 6, 8, 12]\n",
    "```"
   ]
  },
  {
   "cell_type": "markdown",
   "metadata": {},
   "source": [
    "**Example use with map()**\n",
    "\n",
    "The **map()** function in Python takes in a function and a list.\n",
    "\n",
    "The function is called with all the items in the list and a new list is returned which contains items returned by that function for each item.\n",
    "\n",
    "Here is an example use of **map()** function to double all the items in a list.\n",
    "\n",
    "```python\n",
    ">>> my_list = [1, 5, 4, 6, 8, 11, 3, 12]\n",
    ">>> new_list = list(map(lambda x: x ** 2 , my_list))\n",
    "    [1, 25, 16, 36, 64, 121, 9, 144]\n",
    "```"
   ]
  },
  {
   "cell_type": "markdown",
   "metadata": {},
   "source": [
    "**Example use with Pandas DataFrames**\n",
    "\n",
    "For example, we have the dataframe:"
   ]
  },
  {
   "cell_type": "code",
   "execution_count": 10,
   "metadata": {},
   "outputs": [
    {
     "data": {
      "text/html": [
       "<div>\n",
       "<style>\n",
       "    .dataframe thead tr:only-child th {\n",
       "        text-align: right;\n",
       "    }\n",
       "\n",
       "    .dataframe thead th {\n",
       "        text-align: left;\n",
       "    }\n",
       "\n",
       "    .dataframe tbody tr th {\n",
       "        vertical-align: top;\n",
       "    }\n",
       "</style>\n",
       "<table border=\"1\" class=\"dataframe\">\n",
       "  <thead>\n",
       "    <tr style=\"text-align: right;\">\n",
       "      <th></th>\n",
       "      <th>col1</th>\n",
       "      <th>col2</th>\n",
       "      <th>col3</th>\n",
       "    </tr>\n",
       "  </thead>\n",
       "  <tbody>\n",
       "    <tr>\n",
       "      <th>0</th>\n",
       "      <td>a</td>\n",
       "      <td>b</td>\n",
       "      <td>1</td>\n",
       "    </tr>\n",
       "    <tr>\n",
       "      <th>1</th>\n",
       "      <td>a</td>\n",
       "      <td>b</td>\n",
       "      <td>2</td>\n",
       "    </tr>\n",
       "    <tr>\n",
       "      <th>2</th>\n",
       "      <td>c</td>\n",
       "      <td>d</td>\n",
       "      <td>3</td>\n",
       "    </tr>\n",
       "  </tbody>\n",
       "</table>\n",
       "</div>"
      ],
      "text/plain": [
       "  col1 col2  col3\n",
       "0    a    b     1\n",
       "1    a    b     2\n",
       "2    c    d     3"
      ]
     },
     "execution_count": 10,
     "metadata": {},
     "output_type": "execute_result"
    }
   ],
   "source": [
    "import pandas as pd\n",
    "from StringIO import StringIO\n",
    "\n",
    "df = pd.read_csv(StringIO(\"col1,col2,col3\\na,b,1\\na,b,2\\nc,d,3\"))\n",
    "df"
   ]
  },
  {
   "cell_type": "markdown",
   "metadata": {},
   "source": [
    "Now, we'll start new **col3_double** from **col3** by apply the double function."
   ]
  },
  {
   "cell_type": "code",
   "execution_count": 12,
   "metadata": {
    "scrolled": true
   },
   "outputs": [
    {
     "data": {
      "text/html": [
       "<div>\n",
       "<style>\n",
       "    .dataframe thead tr:only-child th {\n",
       "        text-align: right;\n",
       "    }\n",
       "\n",
       "    .dataframe thead th {\n",
       "        text-align: left;\n",
       "    }\n",
       "\n",
       "    .dataframe tbody tr th {\n",
       "        vertical-align: top;\n",
       "    }\n",
       "</style>\n",
       "<table border=\"1\" class=\"dataframe\">\n",
       "  <thead>\n",
       "    <tr style=\"text-align: right;\">\n",
       "      <th></th>\n",
       "      <th>col1</th>\n",
       "      <th>col2</th>\n",
       "      <th>col3</th>\n",
       "      <th>col3_double</th>\n",
       "    </tr>\n",
       "  </thead>\n",
       "  <tbody>\n",
       "    <tr>\n",
       "      <th>0</th>\n",
       "      <td>a</td>\n",
       "      <td>b</td>\n",
       "      <td>1</td>\n",
       "      <td>2</td>\n",
       "    </tr>\n",
       "    <tr>\n",
       "      <th>1</th>\n",
       "      <td>a</td>\n",
       "      <td>b</td>\n",
       "      <td>2</td>\n",
       "      <td>4</td>\n",
       "    </tr>\n",
       "    <tr>\n",
       "      <th>2</th>\n",
       "      <td>c</td>\n",
       "      <td>d</td>\n",
       "      <td>3</td>\n",
       "      <td>6</td>\n",
       "    </tr>\n",
       "  </tbody>\n",
       "</table>\n",
       "</div>"
      ],
      "text/plain": [
       "  col1 col2  col3  col3_double\n",
       "0    a    b     1            2\n",
       "1    a    b     2            4\n",
       "2    c    d     3            6"
      ]
     },
     "execution_count": 12,
     "metadata": {},
     "output_type": "execute_result"
    }
   ],
   "source": [
    "def double(x):\n",
    "    return x * 2\n",
    "\n",
    "df['col3_double'] = df.col3.apply(double)\n",
    "df"
   ]
  },
  {
   "cell_type": "markdown",
   "metadata": {},
   "source": [
    "More quickly with **lambda function** here:"
   ]
  },
  {
   "cell_type": "code",
   "execution_count": 14,
   "metadata": {},
   "outputs": [
    {
     "data": {
      "text/html": [
       "<div>\n",
       "<style>\n",
       "    .dataframe thead tr:only-child th {\n",
       "        text-align: right;\n",
       "    }\n",
       "\n",
       "    .dataframe thead th {\n",
       "        text-align: left;\n",
       "    }\n",
       "\n",
       "    .dataframe tbody tr th {\n",
       "        vertical-align: top;\n",
       "    }\n",
       "</style>\n",
       "<table border=\"1\" class=\"dataframe\">\n",
       "  <thead>\n",
       "    <tr style=\"text-align: right;\">\n",
       "      <th></th>\n",
       "      <th>col1</th>\n",
       "      <th>col2</th>\n",
       "      <th>col3</th>\n",
       "      <th>col3_double</th>\n",
       "    </tr>\n",
       "  </thead>\n",
       "  <tbody>\n",
       "    <tr>\n",
       "      <th>0</th>\n",
       "      <td>a</td>\n",
       "      <td>b</td>\n",
       "      <td>1</td>\n",
       "      <td>2</td>\n",
       "    </tr>\n",
       "    <tr>\n",
       "      <th>1</th>\n",
       "      <td>a</td>\n",
       "      <td>b</td>\n",
       "      <td>2</td>\n",
       "      <td>4</td>\n",
       "    </tr>\n",
       "    <tr>\n",
       "      <th>2</th>\n",
       "      <td>c</td>\n",
       "      <td>d</td>\n",
       "      <td>3</td>\n",
       "      <td>6</td>\n",
       "    </tr>\n",
       "  </tbody>\n",
       "</table>\n",
       "</div>"
      ],
      "text/plain": [
       "  col1 col2  col3  col3_double\n",
       "0    a    b     1            2\n",
       "1    a    b     2            4\n",
       "2    c    d     3            6"
      ]
     },
     "execution_count": 14,
     "metadata": {},
     "output_type": "execute_result"
    }
   ],
   "source": [
    "df['col3_double'] = df.col3.apply(lambda x: x * 2)\n",
    "df"
   ]
  },
  {
   "cell_type": "code",
   "execution_count": 18,
   "metadata": {
    "scrolled": false
   },
   "outputs": [
    {
     "data": {
      "text/plain": [
       "0    False\n",
       "1    False\n",
       "2     True\n",
       "Name: col3, dtype: bool"
      ]
     },
     "execution_count": 18,
     "metadata": {},
     "output_type": "execute_result"
    }
   ],
   "source": [
    "df.col3.map(lambda t: t > 2)"
   ]
  },
  {
   "cell_type": "markdown",
   "metadata": {},
   "source": [
    "# Python Recursion\n",
    "\n",
    "Recursion is the process of defining something in terms of itself.\n",
    "\n",
    "We know that in Python, a function can call other functions. It is even possible for the function to call itself. These type of construct are termed as recursive functions.\n",
    "\n",
    "Following is an example of recursive function to find the factorial of an integer.\n",
    "\n",
    "Factorial of a number is the product of all the integers from 1 to that number. For example, the factorial of 6 (denoted as 6!) is `1*2*3*4*5*6 = 720`.\n",
    "\n"
   ]
  },
  {
   "cell_type": "code",
   "execution_count": 20,
   "metadata": {},
   "outputs": [
    {
     "name": "stdout",
     "output_type": "stream",
     "text": [
      "The factorial of 4 is 24\n"
     ]
    }
   ],
   "source": [
    "def calc_factorial(x):\n",
    "    \"\"\"This is a recursive function\n",
    "    to find the factorial of an integer\"\"\"\n",
    "\n",
    "    if x == 1:\n",
    "        return 1\n",
    "    else:\n",
    "        return (x * calc_factorial(x-1))\n",
    "\n",
    "num = 4\n",
    "print \"The factorial of\", num, \"is\", calc_factorial(num)"
   ]
  },
  {
   "cell_type": "markdown",
   "metadata": {},
   "source": [
    "In the above example, **calc_factorial()** is a recursive functions as it calls itself.\n",
    "\n",
    "When we call this function with a positive integer, it will recursively call itself by decreasing the number.\n",
    "\n",
    "Each function call multiples the number with the factorial of number 1 until the number is equal to one. This recursive call can be explained in the following steps.\n",
    "\n",
    "```python\n",
    "calc_factorial(4)              # 1st call with 4\n",
    "4 * calc_factorial(3)          # 2nd call with 3\n",
    "4 * 3 * calc_factorial(2)      # 3rd call with 2\n",
    "4 * 3 * 2 * calc_factorial(1)  # 4th call with 1\n",
    "4 * 3 * 2 * 1                  # return from 4th call as number=1\n",
    "4 * 3 * 2                      # return from 3rd call\n",
    "4 * 6                          # return from 2nd call\n",
    "24                             # return from 1st call\n",
    "```"
   ]
  },
  {
   "cell_type": "markdown",
   "metadata": {},
   "source": [
    "Our recursion ends when the number reduces to 1. This is called the base condition.\n",
    "\n",
    "Every recursive function must have a base condition that stops the recursion or else the function calls itself infinitely.\n",
    "\n",
    "\n",
    "\n",
    "* Advantages of recursion\n",
    "    * Recursive functions make the code look clean and elegant.\n",
    "    * A complex task can be broken down into simpler sub-problems using recursion.\n",
    "    * Sequence generation is easier with recursion than using some nested iteration.\n",
    "* Disadvantages of recursion\n",
    "    * Sometimes the logic behind recursion is hard to follow through.\n",
    "    * Recursive calls are expensive (inefficient) as they take up a lot of memory and time.\n",
    "    * Recursive functions are hard to debug."
   ]
  },
  {
   "cell_type": "markdown",
   "metadata": {},
   "source": [
    "**Ex1:** Python Program to Display Fibonacci Sequence Using Recursion\n",
    "\n",
    "A Fibonacci sequence is the integer sequence of 0, 1, 1, 2, 3, 5, 8....\n",
    "\n",
    "```python\n",
    "def fibo_recursion(n):\n",
    "    # your code goes here\n",
    "\n",
    "for i in range(10):\n",
    "    print fibo(i), \n",
    "\n",
    "# Output: 0 1 1 2 3 5 8 13 21 34\n",
    "```"
   ]
  },
  {
   "cell_type": "markdown",
   "metadata": {},
   "source": [
    "\n",
    "\n",
    "**Ex2:** Find Sum of Natural Numbers Using Recursion\n",
    "\n",
    "```python\n",
    "def sum_recursion(n):\n",
    "    # your code goes here\n",
    "    \n",
    "print sum_recursion(10) # Sum of 1 + 2 + 3 + ... + 10\n",
    "\n",
    "# Output: 55\n",
    "```"
   ]
  },
  {
   "cell_type": "markdown",
   "metadata": {},
   "source": [
    "# Python Errors and Built-in Exceptions\n",
    "\n",
    "When writing a program, we, more often than not, will encounter errors.\n",
    "\n",
    "Error caused by not following the proper structure (syntax) of the language is called syntax error or parsing error.\n",
    "\n",
    "```python\n",
    ">>> if a < 3\n",
    "  File \"<interactive input>\", line 1\n",
    "    if a < 3\n",
    "           ^\n",
    "SyntaxError: invalid syntax\n",
    "```\n",
    "\n",
    "We can notice here that a colon is missing in the if statement.\n",
    "\n",
    "Errors can also occur at runtime and these are called exceptions. They occur, for example, when a file we try to open does not exist (`FileNotFoundError`), dividing a number by zero (`ZeroDivisionError`), module we try to import is not found (`ImportError`) etc.\n",
    "\n",
    "Different kinds of errors can occur in a program, and it is useful to distinguish among them in order to track them down more quickly:\n",
    "\n",
    "* Syntax errors are produced by Python when it is translating the source code into byte code. They usually indicate that there is something wrong with the syntax of the program. Example: Omitting the colon at the end of a def statement yields the somewhat redundant message SyntaxError: invalid syntax.\n",
    "* Runtime errors are produced by the runtime system if something goes wrong while the program is running. Most runtime error messages include information about where the error occurred and what functions were executing. Example: An infinite recursion eventually causes a runtime error of \"maximum recursion depth exceeded.\"\n",
    "* Semantic errors are problems with a program that compiles and runs but doesn't do the right thing. Example: An expression may not be evaluated in the order you expect, yielding an unexpected result.\n",
    "\n",
    "\n",
    "The first step in debugging is to figure out which kind of error you are dealing with. Although the following sections are organized by error type, some techniques are applicable in more than one situation.\n",
    "\n"
   ]
  },
  {
   "cell_type": "markdown",
   "metadata": {},
   "source": [
    "Python Built-in Exceptions:\n",
    "\n",
    "| Exception             | Cause of Error                                                                                                             |\n",
    "|-----------------------|----------------------------------------------------------------------------------------------------------------------------|\n",
    "| AssertionError        | Raised when assert statement fails.                                                                                        |\n",
    "| AttributeError        | Raised when attribute assignment or reference fails.                                                                       |\n",
    "| EOFError              | Raised when the input() functions hits end-of-file condition.                                                              |\n",
    "| FloatingPointError    | Raised when a floating point operation fails.                                                                              |\n",
    "| GeneratorExit         | Raise when a generator's close() method is called.                                                                         |\n",
    "| ImportError           | Raised when the imported module is not found.                                                                              |\n",
    "| IndexError            | Raised when index of a sequence is out of range.                                                                           |\n",
    "| KeyError              | Raised when a key is not found in a dictionary.                                                                            |\n",
    "| KeyboardInterrupt     | Raised when the user hits interrupt key (Ctrl+c or delete).                                                                |\n",
    "| MemoryError           | Raised when an operation runs out of memory.                                                                               |\n",
    "| NameError             | Raised when a variable is not found in local or global scope.                                                              |\n",
    "| NotImplementedError   | Raised by abstract methods.                                                                                                |\n",
    "| OSError               | Raised when system operation causes system related error.                                                                  |\n",
    "| OverflowError         | Raised when result of an arithmetic operation is too large to be represented.                                              |\n",
    "| ReferenceError        | Raised when a weak reference proxy is used to access a garbage collected referent.                                         |\n",
    "| RuntimeError          | Raised when an error does not fall under any other category.                                                               |\n",
    "| StopIteration         | Raised by next() function to indicate that there is no further item to be returned by iterator.                            |\n",
    "| SyntaxError           | Raised by parser when syntax error is encountered.                                                                         |\n",
    "| IndentationError      | Raised when there is incorrect indentation.                                                                                |\n",
    "| TabError              | Raised when indentation consists of inconsistent tabs and spaces.                                                          |\n",
    "| SystemError           | Raised when interpreter detects internal error.                                                                            |\n",
    "| SystemExit            | Raised by sys.exit() function.                                                                                             |\n",
    "| TypeError             | Raised when a function or operation is applied to an object of incorrect type.                                             |\n",
    "| UnboundLocalError     | Raised when a reference is made to a local variable in a function or method, but no value has been bound to that variable. |\n",
    "| UnicodeError          | Raised when a Unicode-related encoding or decoding error occurs.                                                           |\n",
    "| UnicodeEncodeError    | Raised when a Unicode-related error occurs during encoding.                                                                |\n",
    "| UnicodeDecodeError    | Raised when a Unicode-related error occurs during decoding.                                                                |\n",
    "| UnicodeTranslateError | Raised when a Unicode-related error occurs during translating.                                                             |\n",
    "| ValueError            | Raised when a function gets argument of correct type but improper value.                                                   |\n",
    "| ZeroDivisionError     | Raised when second operand of division or modulo operation is zero.                                                        |"
   ]
  },
  {
   "cell_type": "markdown",
   "metadata": {},
   "source": [
    "## Syntax errors\n",
    "\n",
    "Syntax errors are usually easy to fix once you figure out what they are. Unfortunately, the error messages are often not helpful. The most common messages are **SyntaxError: invalid syntax** and **SyntaxError: invalid token**, neither of which is very informative.\n",
    "\n",
    "On the other hand, the message does tell you where in the program the problem occurred. Actually, it tells you where Python noticed a problem, which is not necessarily where the error is. Sometimes the error is prior to the location of the error message, often on the preceding line.\n",
    "\n",
    "If you are building the program incrementally, you should have a good idea about where the error is. It will be in the last line you added.\n",
    "\n",
    "If you are copying code from a book, start by comparing your code to the book's code very carefully. Check every character. At the same time, remember that the book might be wrong, so if you see something that looks like a syntax error, it might be.\n",
    "\n",
    "Here are some ways to avoid the most common syntax errors:\n",
    "\n",
    "* Make sure you are not using a Python keyword for a variable name.\n",
    "* Check that you have a colon at the end of the header of every compound statement, including for, while, if, and def statements.\n",
    "* Check that indentation is consistent. You may indent with either spaces or tabs but it's best not to mix them. Each level should be nested the same amount.\n",
    "* Make sure that any strings in the code have matching quotation marks.\n",
    "* If you have multiline strings with triple quotes (single or double), make sure you have terminated the string properly. An unterminated string may cause an invalid token error at the end of your program, or it may treat the following part of the program as a string until it comes to the next string. In the second case, it might not produce an error message at all!\n",
    "* An unclosed bracket     (, {, or [     makes Python continue with the next line as part of the current statement. Generally, an error occurs almost immediately in the next line.\n",
    "* Check for the classic = instead of == inside a conditional.\n",
    "\n",
    "If nothing works, move on to the next section...\n",
    "\n",
    "\n"
   ]
  },
  {
   "cell_type": "markdown",
   "metadata": {
    "collapsed": true
   },
   "source": [
    "## Runtime errors\n",
    "\n",
    "Once your program is syntactically correct, Python can import it and at least start running it. What could possibly go wrong?\n",
    "\n",
    "### My program hangs.\n",
    "\n",
    "\n",
    "If a program stops and seems to be doing nothing, we say it is \"hanging.\" Often that means that it is caught in an infinite loop or an infinite recursion.\n",
    "\n",
    "* If there is a particular loop that you suspect is the problem, add a print statement immediately before the loop that says \"entering the loop\" and another immediately after that says \"exiting the loop.\"\n",
    "* Run the program. If you get the first message and not the second, you've got an infinite loop. Go to the \"Infinite Loop\" section below.\n",
    "* Most of the time, an infinite recursion will cause the program to run for a while and then produce a \"RuntimeError: Maximum recursion depth exceeded\" error. If that happens, go to the \"Infinite Recursion\" section below.\n",
    "* If you are not getting this error but you suspect there is a problem with a recursive method or function, you can still use the techniques in the \"Infinite Recursion\" section.\n",
    "* If neither of those steps works, start testing other loops and other recursive functions and methods.\n"
   ]
  },
  {
   "cell_type": "markdown",
   "metadata": {},
   "source": [
    "### Infinite Loop\n",
    "\n",
    "If you think you have an infinite loop and you think you know what loop is causing the problem, add a `print` statement at the end of the loop that prints the values of the variables in the condition and the value of the condition.\n",
    "\n",
    "```python\n",
    "while x > 0 and y < 0 : \n",
    "  # do something to x \n",
    "  # do something to y \n",
    "\n",
    "  print  \"x: \", x \n",
    "  print  \"y: \", y \n",
    "  print  \"condition: \", (x > 0 and y < 0) \n",
    "```\n",
    "\n",
    "Now when you run the program, you will see three lines of output for each time through the loop. The last time through the loop, the condition should be false. If the loop keeps going, you will be able to see the values of x and y, and you might figure out why they are not being updated correctly.\n",
    "\n",
    "### Infinite Recursion\n",
    "\n",
    "Most of the time, an infinite recursion will cause the program to run for a while and then produce a Maximum recursion depth exceeded error.\n",
    "\n",
    "### Flow of Execution\n",
    "\n",
    "If you are not sure how the flow of execution is moving through your program, add print statements to the beginning of each function with a message like \"entering function foo,\" where foo is the name of the function.\n",
    "\n",
    "Now when you run the program, it will print a trace of each function as it is invoked."
   ]
  },
  {
   "cell_type": "markdown",
   "metadata": {},
   "source": [
    "# References\n",
    "\n",
    "* http://www.greenteapress.com/thinkpython/thinkCSpy/html/app01.html\n",
    "* http://www.python-course.eu/python3_lambda.php"
   ]
  }
 ],
 "metadata": {
  "kernelspec": {
   "display_name": "Python 2",
   "language": "python",
   "name": "python2"
  },
  "language_info": {
   "codemirror_mode": {
    "name": "ipython",
    "version": 2
   },
   "file_extension": ".py",
   "mimetype": "text/x-python",
   "name": "python",
   "nbconvert_exporter": "python",
   "pygments_lexer": "ipython2",
   "version": "2.7.13"
  }
 },
 "nbformat": 4,
 "nbformat_minor": 2
}
