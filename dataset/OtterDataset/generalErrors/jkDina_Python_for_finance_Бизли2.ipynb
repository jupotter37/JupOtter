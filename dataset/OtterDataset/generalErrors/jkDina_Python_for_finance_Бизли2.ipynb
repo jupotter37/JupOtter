{
 "cells": [
  {
   "cell_type": "markdown",
   "metadata": {},
   "source": [
    "## Бизли2  "
   ]
  },
  {
   "cell_type": "code",
   "execution_count": null,
   "metadata": {},
   "outputs": [],
   "source": [
    "публикация на русском канале с 12 января 2024 г"
   ]
  },
  {
   "cell_type": "code",
   "execution_count": null,
   "metadata": {},
   "outputs": [],
   "source": [
    "Что выведет код?\n",
    "```python\n",
    "```\n",
    "Что выведет код?\n",
    "Выберите правильный вариант\n",
    "Посмотреть результаты"
   ]
  },
  {
   "cell_type": "code",
   "execution_count": null,
   "metadata": {},
   "outputs": [],
   "source": [
    "#1+ 12 янв 2024"
   ]
  },
  {
   "cell_type": "markdown",
   "metadata": {},
   "source": [
    "Какая библиотека позволяет отлавливать и генерировать события клика и движения мышки?"
   ]
  },
  {
   "cell_type": "code",
   "execution_count": null,
   "metadata": {},
   "outputs": [],
   "source": [
    "mss\n",
    "pillow\n",
    "pytorch\n",
    "pynput #\n",
    "watchdog"
   ]
  },
  {
   "cell_type": "code",
   "execution_count": null,
   "metadata": {},
   "outputs": [],
   "source": [
    "Что выведет код?\n",
    "```python\n",
    "```\n",
    "Что выведет код?\n",
    "Выберите правильный вариант\n",
    "Посмотреть результаты"
   ]
  },
  {
   "cell_type": "code",
   "execution_count": null,
   "metadata": {},
   "outputs": [],
   "source": [
    "#2+"
   ]
  },
  {
   "cell_type": "markdown",
   "metadata": {},
   "source": [
    "Какое наибольшее целое число может быть в переменной?"
   ]
  },
  {
   "cell_type": "code",
   "execution_count": null,
   "metadata": {},
   "outputs": [],
   "source": [
    "2**32-1\n",
    "2**64-1\n",
    "2**52-1\n",
    "2**256-1\n",
    "2**1024-1\n",
    "Ограничено только памятью компьютера #"
   ]
  },
  {
   "cell_type": "code",
   "execution_count": null,
   "metadata": {},
   "outputs": [],
   "source": [
    "Что выведет код?\n",
    "```python\n",
    "```\n",
    "Что выведет код?\n",
    "Выберите правильный вариант\n",
    "Посмотреть результаты"
   ]
  },
  {
   "cell_type": "code",
   "execution_count": null,
   "metadata": {},
   "outputs": [],
   "source": [
    "#3+"
   ]
  },
  {
   "cell_type": "code",
   "execution_count": null,
   "metadata": {},
   "outputs": [],
   "source": [
    "Что выведет код?"
   ]
  },
  {
   "cell_type": "code",
   "execution_count": 1,
   "metadata": {},
   "outputs": [
    {
     "name": "stdout",
     "output_type": "stream",
     "text": [
      "1\n"
     ]
    }
   ],
   "source": [
    "import datetime\n",
    "t1 = datetime.date(2021, 3, 5) - datetime.date(2021, 2, 23)\n",
    "t2 = datetime.date(2020, 3, 5) - datetime.date(2020, 2, 23)\n",
    "print((t2 - t1).days)"
   ]
  },
  {
   "cell_type": "code",
   "execution_count": null,
   "metadata": {},
   "outputs": [],
   "source": [
    "-1\n",
    "0\n",
    "1 #\n",
    "5\n",
    "10\n",
    "11\n",
    "23\n",
    "ValueError\n",
    "TypeError"
   ]
  },
  {
   "cell_type": "code",
   "execution_count": null,
   "metadata": {},
   "outputs": [],
   "source": [
    "Лампочка"
   ]
  },
  {
   "cell_type": "code",
   "execution_count": null,
   "metadata": {},
   "outputs": [],
   "source": [
    "t1 = 2021-03-05 - 2021-02-23 = 10 дней\n",
    "t2 = 2020-03-05 - 2020-02-23 = 11 дней\n",
    "Разница между t2 и t1 составляет 11 - 10 = 1 день. Так как t2 больше t1, код выведет 1"
   ]
  },
  {
   "cell_type": "code",
   "execution_count": null,
   "metadata": {},
   "outputs": [],
   "source": [
    "Что выведет код?\n",
    "```python\n",
    "```\n",
    "Что выведет код?\n",
    "Выберите правильный вариант\n",
    "Посмотреть результаты"
   ]
  },
  {
   "cell_type": "code",
   "execution_count": null,
   "metadata": {},
   "outputs": [],
   "source": [
    "#4+"
   ]
  },
  {
   "cell_type": "code",
   "execution_count": 2,
   "metadata": {},
   "outputs": [
    {
     "name": "stdout",
     "output_type": "stream",
     "text": [
      "32 64\n"
     ]
    }
   ],
   "source": [
    "import hashlib\n",
    "m = hashlib.sha256()\n",
    "m.update(b\"hello\")\n",
    "print(m.digest_size, len(m.hexdigest()))"
   ]
  },
  {
   "cell_type": "code",
   "execution_count": null,
   "metadata": {},
   "outputs": [],
   "source": [
    "5 5\n",
    "5 10\n",
    "32 32\n",
    "32 64  #\n",
    "256 256\n",
    "256 512"
   ]
  },
  {
   "cell_type": "markdown",
   "metadata": {},
   "source": [
    "m.digest_size - размер хеша в байтах, для SHA-256 это 32 байта\n",
    "m.hexdigest() - 16-ричное представление хеша, каждый байт кодируется двумя 16-ричными символами (в 2 раза больше размера хеша)\n"
   ]
  },
  {
   "cell_type": "code",
   "execution_count": null,
   "metadata": {},
   "outputs": [],
   "source": [
    "Что выведет код?\n",
    "```python\n",
    "```\n",
    "Что выведет код?\n",
    "Выберите правильный вариант\n",
    "Посмотреть результаты"
   ]
  },
  {
   "cell_type": "code",
   "execution_count": null,
   "metadata": {},
   "outputs": [],
   "source": [
    "#5+"
   ]
  },
  {
   "cell_type": "markdown",
   "metadata": {},
   "source": [
    "Какую функцию стоит использовать для генерации криптографически надежных (псевдо)случайных элементов?"
   ]
  },
  {
   "cell_type": "code",
   "execution_count": null,
   "metadata": {},
   "outputs": [],
   "source": [
    "os.urandom(1)  #\n",
    "random.random()\n",
    "random.uniform(0, 1)\n",
    "id(0)"
   ]
  },
  {
   "cell_type": "code",
   "execution_count": null,
   "metadata": {},
   "outputs": [],
   "source": [
    "Что выведет код?\n",
    "```python\n",
    "```\n",
    "Что выведет код?\n",
    "Выберите правильный вариант\n",
    "Посмотреть результаты"
   ]
  },
  {
   "cell_type": "code",
   "execution_count": null,
   "metadata": {},
   "outputs": [],
   "source": [
    "#6+"
   ]
  },
  {
   "cell_type": "code",
   "execution_count": 7,
   "metadata": {},
   "outputs": [
    {
     "name": "stdout",
     "output_type": "stream",
     "text": [
      "225\n"
     ]
    }
   ],
   "source": [
    "x = (i**2 for i in range(1, 100) if not i % 3)\n",
    "y = (i for i in x if not i % 5)\n",
    "print(next(y))"
   ]
  },
  {
   "cell_type": "code",
   "execution_count": null,
   "metadata": {},
   "outputs": [],
   "source": [
    "6\n",
    "9\n",
    "15\n",
    "144 \n",
    "196\n",
    "225   #"
   ]
  },
  {
   "cell_type": "markdown",
   "metadata": {},
   "source": [
    "Код создаёт два генератора, x вычисляет квадраты чисел от 1 до 99, кратных 3. y фильтрует x, оставляя только те, что кратны 5. Затем выводится первый элемент y, который равен 225."
   ]
  },
  {
   "cell_type": "code",
   "execution_count": null,
   "metadata": {},
   "outputs": [],
   "source": [
    "Что выведет код?\n",
    "```python\n",
    "```\n",
    "Что выведет код?\n",
    "Выберите правильный вариант\n",
    "Посмотреть результаты"
   ]
  },
  {
   "cell_type": "code",
   "execution_count": null,
   "metadata": {},
   "outputs": [],
   "source": [
    "#7+"
   ]
  },
  {
   "cell_type": "code",
   "execution_count": 4,
   "metadata": {},
   "outputs": [
    {
     "name": "stdout",
     "output_type": "stream",
     "text": [
      "6\n"
     ]
    }
   ],
   "source": [
    "def f(**x): \n",
    "    return sum(x.values())\n",
    "s = f(a=1, b=2) + f(x=2, y=1, z=0)\n",
    "print(s)"
   ]
  },
  {
   "cell_type": "code",
   "execution_count": null,
   "metadata": {},
   "outputs": [],
   "source": [
    "(1, 2, 2, 1, 0)\n",
    "{\"a\":1, \"b\":2, \"x\":2, \"y\":1, \"z\":0}\n",
    "3\n",
    "6   #\n",
    "{1, 2, 2, 1, 0}\n",
    "0"
   ]
  },
  {
   "cell_type": "markdown",
   "metadata": {},
   "source": [
    "Код определяет функцию f, суммирующую значения именованных аргументов, и вычисляет сумму двух вызовов f. Выводится результат суммирования, который равен 6."
   ]
  },
  {
   "cell_type": "code",
   "execution_count": null,
   "metadata": {},
   "outputs": [],
   "source": [
    "Что выведет код?\n",
    "```python\n",
    "```\n",
    "Что выведет код?\n",
    "Выберите правильный вариант\n",
    "Посмотреть результаты"
   ]
  },
  {
   "cell_type": "code",
   "execution_count": null,
   "metadata": {},
   "outputs": [],
   "source": [
    "#8+"
   ]
  },
  {
   "cell_type": "code",
   "execution_count": 6,
   "metadata": {},
   "outputs": [
    {
     "data": {
      "text/plain": [
       "'Tue Feb 23 12:00:00 2023'"
      ]
     },
     "execution_count": 6,
     "metadata": {},
     "output_type": "execute_result"
    }
   ],
   "source": [
    "import time\n",
    "time.asctime((2023, 2, 23, 12, 0, 0, 1, 0, 0))"
   ]
  },
  {
   "cell_type": "code",
   "execution_count": null,
   "metadata": {},
   "outputs": [],
   "source": [
    "Feb 23 12:00:00 2023 Tue\n",
    "Tue Feb 23 12:00:00 2023     #\n",
    "Mon Feb 23 12:00:00 2023\n",
    "23.02.2023\n",
    "23-02-2023\n",
    "Tue Feb 23 12:00 2023 \n",
    "Mon Feb 23 12:00 2023\n",
    "2021 Feb 23 12:00:00 Tue"
   ]
  },
  {
   "cell_type": "markdown",
   "metadata": {},
   "source": [
    "Код использует функцию asctime из модуля time для форматирования кортежа, представляющего время, в строку. "
   ]
  },
  {
   "cell_type": "code",
   "execution_count": null,
   "metadata": {},
   "outputs": [],
   "source": [
    "Что выведет код?\n",
    "```python\n",
    "```\n",
    "Что выведет код?\n",
    "Выберите правильный вариант\n",
    "Посмотреть результаты"
   ]
  },
  {
   "cell_type": "code",
   "execution_count": null,
   "metadata": {},
   "outputs": [],
   "source": [
    "#9  (23 февраля 2021)  24 января 2024 "
   ]
  },
  {
   "cell_type": "code",
   "execution_count": 9,
   "metadata": {},
   "outputs": [
    {
     "name": "stdout",
     "output_type": "stream",
     "text": [
      "22.02.2023\n"
     ]
    }
   ],
   "source": [
    "import time\n",
    "my_time = time.strptime(\"Mon Feb 22 10:55:00 2023\")\n",
    "my_time = time.strftime(\"%d.%m.%Y\", my_time)\n",
    "print(my_time)"
   ]
  },
  {
   "cell_type": "code",
   "execution_count": null,
   "metadata": {},
   "outputs": [],
   "source": [
    "22 Feb 2023\n",
    "22.02.2023  #\n",
    "22.02.23\n",
    "2023.02.22\n",
    "22-02-2023\n",
    "Mon Feb 22 10:55:00 2023\n",
    "Feb 22 2023\n",
    "ValueError"
   ]
  },
  {
   "cell_type": "markdown",
   "metadata": {},
   "source": [
    "Результат вызова функции strptime преобразует строку в структуру времени time.struct_time.\n",
    "Затем strftime преобразует эту структуру в строку с заданным форматом даты"
   ]
  },
  {
   "cell_type": "code",
   "execution_count": null,
   "metadata": {},
   "outputs": [],
   "source": [
    "Что выведет код?\n",
    "```python\n",
    "```\n",
    "Что выведет код?\n",
    "Выберите правильный вариант\n",
    "Посмотреть результаты"
   ]
  },
  {
   "cell_type": "code",
   "execution_count": null,
   "metadata": {},
   "outputs": [],
   "source": [
    "/////////////"
   ]
  },
  {
   "cell_type": "code",
   "execution_count": null,
   "metadata": {},
   "outputs": [],
   "source": [
    "#10+"
   ]
  },
  {
   "cell_type": "code",
   "execution_count": 1,
   "metadata": {},
   "outputs": [
    {
     "data": {
      "text/plain": [
       "11"
      ]
     },
     "execution_count": 1,
     "metadata": {},
     "output_type": "execute_result"
    }
   ],
   "source": [
    "len(str(1 + 1) * int('1' + '1'))"
   ]
  },
  {
   "cell_type": "code",
   "execution_count": null,
   "metadata": {},
   "outputs": [],
   "source": [
    "2\n",
    "4\n",
    "11  #\n",
    "22\n",
    "TypeError"
   ]
  },
  {
   "cell_type": "markdown",
   "metadata": {},
   "source": [
    "1+1=2; \"1\"+\"1\"= \"11\"; \"2\"*11=\"22222222222\"; длина строки: 11."
   ]
  },
  {
   "cell_type": "code",
   "execution_count": null,
   "metadata": {},
   "outputs": [],
   "source": [
    "Что выведет код?\n",
    "```python\n",
    "```\n",
    "Что выведет код?\n",
    "Выберите правильный вариант\n",
    "Посмотреть результаты"
   ]
  },
  {
   "cell_type": "code",
   "execution_count": null,
   "metadata": {},
   "outputs": [],
   "source": [
    "#11+"
   ]
  },
  {
   "cell_type": "code",
   "execution_count": 4,
   "metadata": {},
   "outputs": [
    {
     "name": "stdout",
     "output_type": "stream",
     "text": [
      "True\n"
     ]
    }
   ],
   "source": [
    "a, b = 5, 15\n",
    "print(a == 5 == b / 3 == 4 + 1)"
   ]
  },
  {
   "cell_type": "code",
   "execution_count": null,
   "metadata": {},
   "outputs": [],
   "source": [
    "True   #\n",
    "False \n",
    "TypeError \n",
    "AttributeError\n",
    "None"
   ]
  },
  {
   "cell_type": "code",
   "execution_count": null,
   "metadata": {},
   "outputs": [],
   "source": [
    "5 == 5 == 15/3 == 4+1"
   ]
  },
  {
   "cell_type": "code",
   "execution_count": null,
   "metadata": {},
   "outputs": [],
   "source": [
    "Что выведет код?\n",
    "```python\n",
    "```\n",
    "Что выведет код?\n",
    "Выберите правильный вариант\n",
    "Посмотреть результаты"
   ]
  },
  {
   "cell_type": "code",
   "execution_count": null,
   "metadata": {},
   "outputs": [],
   "source": [
    "#12+"
   ]
  },
  {
   "cell_type": "code",
   "execution_count": 10,
   "metadata": {},
   "outputs": [
    {
     "name": "stdout",
     "output_type": "stream",
     "text": [
      "2 3 1\n"
     ]
    }
   ],
   "source": [
    "b, c, a = c, a, b = 1, 2, 3\n",
    "print(a, b, c)"
   ]
  },
  {
   "cell_type": "code",
   "execution_count": null,
   "metadata": {},
   "outputs": [],
   "source": [
    "1 2 3\n",
    "2 3 1   #\n",
    "3 1 2\n",
    "1 3 2\n",
    "2 1 3\n",
    "3 2 1"
   ]
  },
  {
   "cell_type": "markdown",
   "metadata": {},
   "source": [
    "Данное выражение эквивалентно двум строчкам b, c, a = 1, 2, 3; c, a, b = 1, 2, 3, последняя перезаписывает первую. "
   ]
  },
  {
   "cell_type": "code",
   "execution_count": null,
   "metadata": {},
   "outputs": [],
   "source": [
    "Что выведет код?\n",
    "```python\n",
    "```\n",
    "Что выведет код?\n",
    "Выберите правильный вариант\n",
    "Посмотреть результаты"
   ]
  },
  {
   "cell_type": "code",
   "execution_count": null,
   "metadata": {},
   "outputs": [],
   "source": [
    "#13  17 феврвля 2021 "
   ]
  },
  {
   "cell_type": "code",
   "execution_count": 15,
   "metadata": {},
   "outputs": [
    {
     "name": "stdout",
     "output_type": "stream",
     "text": [
      "True True True\n"
     ]
    }
   ],
   "source": [
    "print(bool(\"0\"), bool([0, None]), bool((None,)))"
   ]
  },
  {
   "cell_type": "code",
   "execution_count": null,
   "metadata": {},
   "outputs": [],
   "source": [
    "False False False\n",
    "False False True\n",
    "False True True\n",
    "True True True  #\n",
    "True False False\n",
    "True True False"
   ]
  },
  {
   "cell_type": "code",
   "execution_count": null,
   "metadata": {},
   "outputs": [],
   "source": [
    "True True True, так как все объекты непустые"
   ]
  },
  {
   "cell_type": "code",
   "execution_count": null,
   "metadata": {},
   "outputs": [],
   "source": [
    "Что выведет код?\n",
    "```python\n",
    "```\n",
    "Что выведет код?\n",
    "Выберите правильный вариант\n",
    "Посмотреть результаты"
   ]
  },
  {
   "cell_type": "code",
   "execution_count": null,
   "metadata": {},
   "outputs": [],
   "source": [
    "......///////////////"
   ]
  },
  {
   "cell_type": "code",
   "execution_count": null,
   "metadata": {},
   "outputs": [],
   "source": [
    "#14+"
   ]
  },
  {
   "cell_type": "code",
   "execution_count": 2,
   "metadata": {},
   "outputs": [
    {
     "data": {
      "text/plain": [
       "9"
      ]
     },
     "execution_count": 2,
     "metadata": {},
     "output_type": "execute_result"
    }
   ],
   "source": [
    "keys = [\"a\", \"b\", \"c\", \"d\"]\n",
    "values = [1, 2, 3, 4]\n",
    "dict_ = {key: value for (key, value) in zip(keys, values)}\n",
    "dict_ = {key: value for (key, value) in dict_.items() if value % 2 == 1}\n",
    "sum([value for value in dict_.values()], 5)"
   ]
  },
  {
   "cell_type": "code",
   "execution_count": null,
   "metadata": {},
   "outputs": [],
   "source": [
    "0\n",
    "1\n",
    "4\n",
    "9  #\n",
    "10\n",
    "15"
   ]
  },
  {
   "cell_type": "markdown",
   "metadata": {},
   "source": [
    "Код создает словарь с парами ключ-значение из списков keys и values, затем фильтрует его, оставляя только элементы со значениями-нечетными числами. К сумме всех значений в словаре добавляется 5. "
   ]
  },
  {
   "cell_type": "code",
   "execution_count": null,
   "metadata": {},
   "outputs": [],
   "source": [
    "Что выведет код?\n",
    "```python\n",
    "```\n",
    "Что выведет код?\n",
    "Выберите правильный вариант\n",
    "Посмотреть результаты"
   ]
  },
  {
   "cell_type": "code",
   "execution_count": null,
   "metadata": {},
   "outputs": [],
   "source": [
    "#15+"
   ]
  },
  {
   "cell_type": "code",
   "execution_count": 3,
   "metadata": {},
   "outputs": [
    {
     "data": {
      "text/plain": [
       "0"
      ]
     },
     "execution_count": 3,
     "metadata": {},
     "output_type": "execute_result"
    }
   ],
   "source": [
    "2 ^ 1 << 1 | 1 & 1 << 1"
   ]
  },
  {
   "cell_type": "code",
   "execution_count": 5,
   "metadata": {},
   "outputs": [
    {
     "data": {
      "text/plain": [
       "True"
      ]
     },
     "execution_count": 5,
     "metadata": {},
     "output_type": "execute_result"
    }
   ],
   "source": [
    "0  #\n",
    "1\n",
    "2\n",
    "3\n",
    "4\n",
    "True\n",
    "False"
   ]
  },
  {
   "cell_type": "markdown",
   "metadata": {},
   "source": [
    "С учетом правильного порядка приоритета операций, сначала выполняются сдвиги, затем побитовые операции AND, XOR и OR. "
   ]
  },
  {
   "cell_type": "code",
   "execution_count": null,
   "metadata": {},
   "outputs": [],
   "source": [
    "Что выведет код?\n",
    "```python\n",
    "```\n",
    "Что выведет код?\n",
    "Выберите правильный вариант\n",
    "Посмотреть результаты"
   ]
  },
  {
   "cell_type": "code",
   "execution_count": null,
   "metadata": {},
   "outputs": [],
   "source": [
    "#16+"
   ]
  },
  {
   "cell_type": "code",
   "execution_count": 6,
   "metadata": {},
   "outputs": [
    {
     "data": {
      "text/plain": [
       "True"
      ]
     },
     "execution_count": 6,
     "metadata": {},
     "output_type": "execute_result"
    }
   ],
   "source": [
    "a = True\n",
    "b= False\n",
    "c = {True, False}\n",
    "not b and b not in c or not a not in c"
   ]
  },
  {
   "cell_type": "code",
   "execution_count": null,
   "metadata": {},
   "outputs": [],
   "source": [
    "True  #\n",
    "False"
   ]
  },
  {
   "cell_type": "markdown",
   "metadata": {},
   "source": [
    "not b = True;\n",
    "b not in c = False;\n",
    "not a not in c = True;\n",
    "True and False or True = False or True = True"
   ]
  },
  {
   "cell_type": "code",
   "execution_count": null,
   "metadata": {},
   "outputs": [],
   "source": [
    "Что выведет код?\n",
    "```python\n",
    "```\n",
    "Что выведет код?\n",
    "Выберите правильный вариант\n",
    "Посмотреть результаты"
   ]
  },
  {
   "cell_type": "code",
   "execution_count": null,
   "metadata": {},
   "outputs": [],
   "source": [
    "#17+"
   ]
  },
  {
   "cell_type": "code",
   "execution_count": 9,
   "metadata": {},
   "outputs": [
    {
     "data": {
      "text/plain": [
       "-3.75"
      ]
     },
     "execution_count": 9,
     "metadata": {},
     "output_type": "execute_result"
    }
   ],
   "source": [
    "2 ** -2 + -2 ** 2"
   ]
  },
  {
   "cell_type": "code",
   "execution_count": null,
   "metadata": {},
   "outputs": [],
   "source": [
    "-3.75   #\n",
    "-0.5\n",
    "0\n",
    "3.75\n",
    "4.25"
   ]
  },
  {
   "cell_type": "code",
   "execution_count": null,
   "metadata": {},
   "outputs": [],
   "source": [
    "2 ^ -2 = 0.25;\n",
    "-2 ^ 2 = -(2 ** 2) = -4;\n",
    "0.25 + (-4) = -3.75\n"
   ]
  },
  {
   "cell_type": "code",
   "execution_count": null,
   "metadata": {},
   "outputs": [],
   "source": [
    "Что выведет код?\n",
    "```python\n",
    "```\n",
    "Что выведет код?\n",
    "Выберите правильный вариант\n",
    "Посмотреть результаты"
   ]
  },
  {
   "cell_type": "code",
   "execution_count": null,
   "metadata": {},
   "outputs": [],
   "source": [
    "#18+"
   ]
  },
  {
   "cell_type": "code",
   "execution_count": 10,
   "metadata": {},
   "outputs": [
    {
     "name": "stdout",
     "output_type": "stream",
     "text": [
      "20\n"
     ]
    }
   ],
   "source": [
    "d = {}\n",
    "print(d.get(\"a\", 0) + d.setdefault(\"a\", 10) + d.get(\"a\", 0))"
   ]
  },
  {
   "cell_type": "code",
   "execution_count": null,
   "metadata": {},
   "outputs": [],
   "source": [
    "0\n",
    "10\n",
    "20\n",
    "30\n",
    "TypeError\n",
    "AttributeError"
   ]
  },
  {
   "cell_type": "markdown",
   "metadata": {},
   "source": [
    "d.get(\"a\", 0) вернет 0 (тк а нет в d). d.setdefault(\"a\", 10) устанавливает значение ключа \"a\" равным 10, если ключ отсутствует, и возвращает его значение.  \n",
    "В итоге: 0 + 10 + 10 = 20"
   ]
  },
  {
   "cell_type": "code",
   "execution_count": null,
   "metadata": {},
   "outputs": [],
   "source": [
    "Что выведет код?\n",
    "```python\n",
    "```\n",
    "Что выведет код?\n",
    "Выберите правильный вариант\n",
    "Посмотреть результаты"
   ]
  },
  {
   "cell_type": "code",
   "execution_count": null,
   "metadata": {},
   "outputs": [],
   "source": [
    "#19+"
   ]
  },
  {
   "cell_type": "code",
   "execution_count": 11,
   "metadata": {},
   "outputs": [
    {
     "name": "stdout",
     "output_type": "stream",
     "text": [
      "20\n"
     ]
    }
   ],
   "source": [
    "d = {\"id\": 1, \"person\": {\"name\": \"Vasya\", \"age\": 18}}\n",
    "d1 = d.copy()\n",
    "d1[\"person\"][\"age\"] += 1\n",
    "d2 = d\n",
    "d2[\"person\"][\"age\"] += 1\n",
    "print(d[\"person\"][\"age\"])"
   ]
  },
  {
   "cell_type": "code",
   "execution_count": null,
   "metadata": {},
   "outputs": [],
   "source": [
    "18\n",
    "19\n",
    "20\n",
    "TypeError\n",
    "AttributeError"
   ]
  },
  {
   "cell_type": "markdown",
   "metadata": {},
   "source": [
    "Здесь создается поверхностная копия, поэтому вложенный словарь не копируется, лишь его ссылка, и все изменения в копиях отражаются на вложенном словаре."
   ]
  },
  {
   "cell_type": "code",
   "execution_count": null,
   "metadata": {},
   "outputs": [],
   "source": [
    "Что выведет код?\n",
    "```python\n",
    "```\n",
    "Что выведет код?\n",
    "Выберите правильный вариант\n",
    "Посмотреть результаты"
   ]
  },
  {
   "cell_type": "code",
   "execution_count": null,
   "metadata": {},
   "outputs": [],
   "source": [
    "#20+"
   ]
  },
  {
   "cell_type": "code",
   "execution_count": null,
   "metadata": {},
   "outputs": [],
   "source": [
    "Как вывести список установленных библиотек Python?"
   ]
  },
  {
   "cell_type": "code",
   "execution_count": null,
   "metadata": {},
   "outputs": [],
   "source": [
    "pip show\n",
    "pip search\n",
    "pip check\n",
    "pip list\n",
    "pip completion\n",
    "pip cache"
   ]
  },
  {
   "cell_type": "code",
   "execution_count": null,
   "metadata": {},
   "outputs": [],
   "source": [
    "Что выведет код?\n",
    "```python\n",
    "```\n",
    "Что выведет код?\n",
    "Выберите правильный вариант\n",
    "Посмотреть результаты"
   ]
  },
  {
   "cell_type": "code",
   "execution_count": null,
   "metadata": {},
   "outputs": [],
   "source": [
    "#21+  5 февраля 2021"
   ]
  },
  {
   "cell_type": "code",
   "execution_count": 12,
   "metadata": {},
   "outputs": [
    {
     "data": {
      "text/plain": [
       "'110o10'"
      ]
     },
     "execution_count": 12,
     "metadata": {},
     "output_type": "execute_result"
    }
   ],
   "source": [
    "\"{0:b}{1:#o}\".format(3, 8)"
   ]
  },
  {
   "cell_type": "code",
   "execution_count": null,
   "metadata": {},
   "outputs": [],
   "source": [
    "'1110'\n",
    "'11o10'  \n",
    "'110o10'  #\n",
    "'0o1011'\n",
    "'110b1000'\n",
    "'30o10'"
   ]
  },
  {
   "cell_type": "markdown",
   "metadata": {},
   "source": [
    "Форматирование строки: по первому индексу ставится 3 в двоичном виде, по второму - число 8 в восьмеричном с префиксом 0o (из-за #)"
   ]
  },
  {
   "cell_type": "code",
   "execution_count": null,
   "metadata": {},
   "outputs": [],
   "source": [
    "Что выведет код?\n",
    "```python\n",
    "```\n",
    "Что выведет код?\n",
    "Выберите правильный вариант\n",
    "Посмотреть результаты"
   ]
  },
  {
   "cell_type": "code",
   "execution_count": null,
   "metadata": {},
   "outputs": [],
   "source": [
    "/////////////////////////"
   ]
  },
  {
   "cell_type": "code",
   "execution_count": null,
   "metadata": {},
   "outputs": [],
   "source": [
    "#22+"
   ]
  },
  {
   "cell_type": "code",
   "execution_count": 1,
   "metadata": {},
   "outputs": [
    {
     "name": "stdout",
     "output_type": "stream",
     "text": [
      "17\n"
     ]
    }
   ],
   "source": [
    "def f(x, y):\n",
    "    return x ** y\n",
    "print(f.__call__(3, 2) + f(2, 3))"
   ]
  },
  {
   "cell_type": "code",
   "execution_count": null,
   "metadata": {},
   "outputs": [],
   "source": [
    "8\n",
    "9\n",
    "10\n",
    "16\n",
    "17  #\n",
    "27\n",
    "AttributeError"
   ]
  },
  {
   "cell_type": "markdown",
   "metadata": {},
   "source": [
    "Код определяет функцию f(x, y) для возведения в степень. Вызывает функцию дважды с разными аргументами и суммирует результаты."
   ]
  },
  {
   "cell_type": "code",
   "execution_count": null,
   "metadata": {},
   "outputs": [],
   "source": [
    "Что выведет код?\n",
    "```python\n",
    "```\n",
    "Что выведет код?\n",
    "Выберите правильный вариант\n",
    "Посмотреть результаты"
   ]
  },
  {
   "cell_type": "code",
   "execution_count": null,
   "metadata": {},
   "outputs": [],
   "source": [
    "#23+"
   ]
  },
  {
   "cell_type": "code",
   "execution_count": 2,
   "metadata": {},
   "outputs": [
    {
     "data": {
      "text/plain": [
       "9"
      ]
     },
     "execution_count": 2,
     "metadata": {},
     "output_type": "execute_result"
    }
   ],
   "source": [
    "sum(divmod(16,5), 5)"
   ]
  },
  {
   "cell_type": "code",
   "execution_count": null,
   "metadata": {},
   "outputs": [],
   "source": [
    "4\n",
    "5\n",
    "8\n",
    "9  #\n",
    "26"
   ]
  },
  {
   "cell_type": "markdown",
   "metadata": {},
   "source": [
    "divmod(16, 5) возвращает (3, 1), потому что 16 делится на 5 с остатком 1.\n",
    "sum((3, 1), 5) = 3 + 1 + 5 = 9."
   ]
  },
  {
   "cell_type": "code",
   "execution_count": null,
   "metadata": {},
   "outputs": [],
   "source": [
    "#24+"
   ]
  },
  {
   "cell_type": "code",
   "execution_count": 4,
   "metadata": {},
   "outputs": [
    {
     "name": "stdout",
     "output_type": "stream",
     "text": [
      "5 4 "
     ]
    }
   ],
   "source": [
    "def f(*, name):\n",
    "    print(len(name), end=\" \")\n",
    "\n",
    "try:\n",
    "    f(name=\"vasya\")\n",
    "    f(\"sergey\")\n",
    "except:\n",
    "    f(name=\"oleg\")"
   ]
  },
  {
   "cell_type": "code",
   "execution_count": null,
   "metadata": {},
   "outputs": [],
   "source": [
    "4\n",
    "5 6\n",
    "5 6 4\n",
    "6 4\n",
    "5 4 #\n",
    "TypeError"
   ]
  },
  {
   "cell_type": "markdown",
   "metadata": {},
   "source": [
    "Сигнатура функции f подразумевает использование именованного аргумента 'name', без позиционных. Поэтому f(\"sergey\") кидает исключение."
   ]
  },
  {
   "cell_type": "code",
   "execution_count": null,
   "metadata": {},
   "outputs": [],
   "source": [
    "#25+"
   ]
  },
  {
   "cell_type": "code",
   "execution_count": 5,
   "metadata": {},
   "outputs": [
    {
     "name": "stdout",
     "output_type": "stream",
     "text": [
      "False False\n"
     ]
    }
   ],
   "source": [
    "class A: pass\n",
    "class B:\n",
    "    def __init__(self):\n",
    "        x = super()\n",
    "        print(x is A, x is B)\n",
    "\n",
    "b = B()"
   ]
  },
  {
   "cell_type": "markdown",
   "metadata": {},
   "source": [
    "True True\n",
    "True False\n",
    "False True\n",
    "False False #"
   ]
  },
  {
   "cell_type": "code",
   "execution_count": 12,
   "metadata": {},
   "outputs": [
    {
     "name": "stdout",
     "output_type": "stream",
     "text": [
      "<super: <class 'B'>, <B object>>\n",
      "<class 'super'>\n",
      "False False\n",
      "False False\n"
     ]
    }
   ],
   "source": [
    "class A: pass\n",
    "class B:\n",
    "    def __init__(self):\n",
    "        x = super()\n",
    "        print(x)\n",
    "        print(type(x))\n",
    "        print(isinstance(x, A), isinstance(x, B))\n",
    "        print(x is A, x is B)\n",
    "\n",
    "b = B()"
   ]
  },
  {
   "cell_type": "markdown",
   "metadata": {},
   "source": [
    "x - это временный объект класса В, который является экземпляром класса super. Поэтому х не является экземпляром ни B ни A."
   ]
  },
  {
   "cell_type": "code",
   "execution_count": null,
   "metadata": {},
   "outputs": [],
   "source": [
    "#26   29 января 2021"
   ]
  },
  {
   "cell_type": "code",
   "execution_count": 13,
   "metadata": {},
   "outputs": [
    {
     "data": {
      "text/plain": [
       "4"
      ]
     },
     "execution_count": 13,
     "metadata": {},
     "output_type": "execute_result"
    }
   ],
   "source": [
    "5 >> 1 << 1"
   ]
  },
  {
   "cell_type": "code",
   "execution_count": null,
   "metadata": {},
   "outputs": [],
   "source": [
    "0\n",
    "1\n",
    "4  #\n",
    "5\n",
    "511"
   ]
  },
  {
   "cell_type": "markdown",
   "metadata": {},
   "source": [
    "Сперва происходит сдвиг (в бинарном представлении) на один разряд вправо, затем влево. Сдвиг на один разряд вправо - это целочисленное деление на 2, влево - умножение на 2."
   ]
  },
  {
   "cell_type": "code",
   "execution_count": null,
   "metadata": {},
   "outputs": [],
   "source": [
    "Что выведет код?\n",
    "```python\n",
    "```\n",
    "Что выведет код?\n",
    "Выберите правильный вариант\n",
    "Посмотреть результаты"
   ]
  },
  {
   "cell_type": "code",
   "execution_count": null,
   "metadata": {},
   "outputs": [],
   "source": [
    "...//////////////////"
   ]
  },
  {
   "cell_type": "code",
   "execution_count": null,
   "metadata": {},
   "outputs": [],
   "source": [
    "#27+"
   ]
  },
  {
   "cell_type": "code",
   "execution_count": 1,
   "metadata": {},
   "outputs": [
    {
     "name": "stdout",
     "output_type": "stream",
     "text": [
      "11\n"
     ]
    }
   ],
   "source": [
    "def counter(func):\n",
    "    def oncall(*args): \n",
    "        oncall.calls += 1\n",
    "        return func(*args) + oncall.calls\n",
    "    oncall.calls = 0\n",
    "    return oncall\n",
    "class C:\n",
    "    @counter\n",
    "    def square(self, a): \n",
    "        return a ** 2\n",
    "x = C()\n",
    "print(x.square(2) + x.square(2))"
   ]
  },
  {
   "cell_type": "code",
   "execution_count": null,
   "metadata": {},
   "outputs": [],
   "source": [
    "7\n",
    "8\n",
    "10\n",
    "11  #\n",
    "12"
   ]
  },
  {
   "cell_type": "markdown",
   "metadata": {},
   "source": [
    "counter - декоратор, который добавляет счетчик вызовов к функции.\n",
    "При 1-м вызове счетчик равен 1, при 2-м равен 2.;   2^2+1 + 2^2+2 = 5 + 6 = 11\n"
   ]
  },
  {
   "cell_type": "code",
   "execution_count": null,
   "metadata": {},
   "outputs": [],
   "source": [
    "Что выведет код?\n",
    "```python\n",
    "```\n",
    "Что выведет код?\n",
    "Выберите правильный вариант\n",
    "Посмотреть результаты"
   ]
  },
  {
   "cell_type": "code",
   "execution_count": null,
   "metadata": {},
   "outputs": [],
   "source": [
    "#28+"
   ]
  },
  {
   "cell_type": "code",
   "execution_count": 2,
   "metadata": {},
   "outputs": [
    {
     "name": "stdout",
     "output_type": "stream",
     "text": [
      "101\n"
     ]
    }
   ],
   "source": [
    "def decorator(cls):\n",
    "    class Proxy:\n",
    "        def __init__ (self, *args): \n",
    "            self.wrapped = cls(*args)\n",
    "        def __getattr__(self, name): \n",
    "            return 1 if name == 'x' else getattr(self.wrapped, name)\n",
    "    return Proxy\n",
    "\n",
    "@decorator\n",
    "class S:\n",
    "    def __init__(self, x):\n",
    "        self.x = x\n",
    "    def square(self): \n",
    "        return self.x ** 2 \n",
    "s = S(10) \n",
    "print(s.square() + s.x)"
   ]
  },
  {
   "cell_type": "code",
   "execution_count": null,
   "metadata": {},
   "outputs": [],
   "source": [
    "1\n",
    "10\n",
    "20\n",
    "100\n",
    "101 #\n",
    "110\n",
    "200"
   ]
  },
  {
   "cell_type": "markdown",
   "metadata": {},
   "source": [
    "Декоратор создает прокси-объект, который при обращении к аргументу x возвращает 1, другие аргументы делегирует объекту S. Поэтому: s.square() = 10^2 = 100;\n",
    "s.x = 1; 100 + 1 = 101"
   ]
  },
  {
   "cell_type": "code",
   "execution_count": null,
   "metadata": {},
   "outputs": [],
   "source": [
    "Что выведет код?\n",
    "```python\n",
    "```\n",
    "Что выведет код?\n",
    "Выберите правильный вариант\n",
    "Посмотреть результаты"
   ]
  },
  {
   "cell_type": "code",
   "execution_count": null,
   "metadata": {},
   "outputs": [],
   "source": [
    "#29+"
   ]
  },
  {
   "cell_type": "code",
   "execution_count": 3,
   "metadata": {},
   "outputs": [
    {
     "name": "stdout",
     "output_type": "stream",
     "text": [
      "16\n"
     ]
    }
   ],
   "source": [
    "class counter:\n",
    "    def __init__(self, func): \n",
    "        self.calls = 0\n",
    "        self.func = func\n",
    "        \n",
    "    def __call__(self, *args): \n",
    "        self.calls += 1\n",
    "        return self.func(*args), self.calls\n",
    "    \n",
    "@counter \n",
    "def square(a): \n",
    "    return a ** 2\n",
    "\n",
    "print(square(2)[0] + square(3)[0] + square(4)[1])"
   ]
  },
  {
   "cell_type": "code",
   "execution_count": null,
   "metadata": {},
   "outputs": [],
   "source": [
    "3\n",
    "6\n",
    "15\n",
    "16   #\n",
    "29\n"
   ]
  },
  {
   "cell_type": "markdown",
   "metadata": {},
   "source": [
    "1-й вызов square(2), функция возвращает кортеж (2 ^ 2, 1) = (4, 1); \n",
    "2-й - (3 ^ 2, 2) = (9, 2);\n",
    "3-й - (4 ^ 2, 3) = (16, 3);\n",
    "square(2)[0] + square(3)[0] + square(4)[1] = 4 + 9 + 3 = 16"
   ]
  },
  {
   "cell_type": "code",
   "execution_count": null,
   "metadata": {},
   "outputs": [],
   "source": [
    "Что выведет код?\n",
    "```python\n",
    "```\n",
    "Что выведет код?\n",
    "Выберите правильный вариант\n",
    "Посмотреть результаты"
   ]
  },
  {
   "cell_type": "code",
   "execution_count": null,
   "metadata": {},
   "outputs": [],
   "source": [
    "#30+"
   ]
  },
  {
   "cell_type": "code",
   "execution_count": 4,
   "metadata": {},
   "outputs": [
    {
     "data": {
      "text/plain": [
       "1"
      ]
     },
     "execution_count": 4,
     "metadata": {},
     "output_type": "execute_result"
    }
   ],
   "source": [
    "(0 or 8 != 11 or 0) + (0 and 8 != 11 and 0)"
   ]
  },
  {
   "cell_type": "code",
   "execution_count": null,
   "metadata": {},
   "outputs": [],
   "source": [
    "True\n",
    "False\n",
    "0\n",
    "1  #\n",
    "2"
   ]
  },
  {
   "cell_type": "markdown",
   "metadata": {},
   "source": [
    "!= имеет более высокий приоритет, чем or и and. А and - более высокий, чем or.\n",
    "(0 or 8 != 11 or 0) = True;\n",
    "(0 and 8!= 1 and 0) = False;\n",
    "при сложении True=1; False=0 => 1 + 0 = 1"
   ]
  },
  {
   "cell_type": "code",
   "execution_count": null,
   "metadata": {},
   "outputs": [],
   "source": [
    "Что выведет код?\n",
    "```python\n",
    "```\n",
    "Что выведет код?\n",
    "Выберите правильный вариант\n",
    "Посмотреть результаты"
   ]
  },
  {
   "cell_type": "code",
   "execution_count": null,
   "metadata": {},
   "outputs": [],
   "source": [
    "#31 + 22 января 21"
   ]
  },
  {
   "cell_type": "code",
   "execution_count": 5,
   "metadata": {},
   "outputs": [
    {
     "data": {
      "text/plain": [
       "True"
      ]
     },
     "execution_count": 5,
     "metadata": {},
     "output_type": "execute_result"
    }
   ],
   "source": [
    "import random\n",
    "random.random() < random.randint(1, 10)"
   ]
  },
  {
   "cell_type": "code",
   "execution_count": 6,
   "metadata": {},
   "outputs": [
    {
     "data": {
      "text/plain": [
       "True"
      ]
     },
     "execution_count": 6,
     "metadata": {},
     "output_type": "execute_result"
    }
   ],
   "source": [
    "True  #\n",
    "False\n",
    "AttributeError\n",
    "TypeError\n",
    "Неопределено"
   ]
  },
  {
   "cell_type": "markdown",
   "metadata": {},
   "source": [
    "Функция random() из модуля random возвращает любое число x такое, что 0 <= x < 1; а функция randint(1, 10) - целое число от 1 до 10. Поэтому второй вызов всегда будет больше первого"
   ]
  },
  {
   "cell_type": "code",
   "execution_count": null,
   "metadata": {},
   "outputs": [],
   "source": [
    "Что выведет код?\n",
    "```python\n",
    "```\n",
    "Что выведет код?\n",
    "Выберите правильный вариант\n",
    "Посмотреть результаты"
   ]
  },
  {
   "cell_type": "code",
   "execution_count": null,
   "metadata": {},
   "outputs": [],
   "source": [
    "////////////////////////////////////"
   ]
  },
  {
   "cell_type": "code",
   "execution_count": null,
   "metadata": {},
   "outputs": [],
   "source": [
    "#32+"
   ]
  },
  {
   "cell_type": "code",
   "execution_count": 1,
   "metadata": {},
   "outputs": [
    {
     "name": "stdout",
     "output_type": "stream",
     "text": [
      "1 2 3\n"
     ]
    }
   ],
   "source": [
    "class A:\n",
    "    count = 0\n",
    "    @classmethod\n",
    "    def inc(cls):\n",
    "        cls.count += 1 \n",
    "    def __init__ (self):\n",
    "        self.inc() \n",
    "        \n",
    "class B(A):\n",
    "    count = 0\n",
    "    def __init__(self): \n",
    "        A.__init__(self)\n",
    "        \n",
    "class C(A): \n",
    "    count = 0\n",
    "    \n",
    "x = A()  \n",
    "y1, y2 = B(), B() \n",
    "z1, z2, z3 = C(), C(), C()\n",
    "print(x.count, y1.count, z1.count)"
   ]
  },
  {
   "cell_type": "code",
   "execution_count": null,
   "metadata": {},
   "outputs": [],
   "source": [
    "1 2 3  #\n",
    "1 3 7\n",
    "1 3 0\n",
    "1 2 0\n",
    "1 0 0\n",
    "1 3 3"
   ]
  },
  {
   "cell_type": "markdown",
   "metadata": {},
   "source": [
    "Классы B и C наследуются от A и имеют атрибут count, который увеличивается при создании объекта. При выводе значений счетчиков x.count, y1.count и z1.count, будет выведено \"1 2 3\", что соответствует количеству созданных объектов каждого класса. И хранится в переменной count соответствующего класса."
   ]
  },
  {
   "cell_type": "code",
   "execution_count": null,
   "metadata": {},
   "outputs": [],
   "source": [
    "#33+"
   ]
  },
  {
   "cell_type": "code",
   "execution_count": 3,
   "metadata": {},
   "outputs": [
    {
     "name": "stdout",
     "output_type": "stream",
     "text": [
      "1 1 2\n"
     ]
    }
   ],
   "source": [
    "class A:\n",
    "    count = 0 \n",
    "    def __init__(self) :\n",
    "        self.__class__.count += 1\n",
    "  \n",
    "class B(A):\n",
    "    pass\n",
    "                  \n",
    "class C(A):\n",
    "    pass \n",
    "\n",
    "x, y, z = B(), A(), C()\n",
    "print(A.count, B.count, C.count)"
   ]
  },
  {
   "cell_type": "code",
   "execution_count": null,
   "metadata": {},
   "outputs": [],
   "source": [
    "1 1 1\n",
    "1 1 2   #\n",
    "1 2 2\n",
    "2 2 2 \n",
    "1 2 3"
   ]
  },
  {
   "cell_type": "markdown",
   "metadata": {},
   "source": [
    "При создании экземпляров классов A, B, C вызывается конструктор класса A. Изначально count нет в B,C, поэтому берется значение из A и новое записывается в текущий класс B или C. "
   ]
  },
  {
   "cell_type": "code",
   "execution_count": null,
   "metadata": {},
   "outputs": [],
   "source": [
    "Что выведет код?\n",
    "```python\n",
    "```\n",
    "Что выведет код?\n",
    "Выберите правильный вариант\n",
    "Посмотреть результаты"
   ]
  },
  {
   "cell_type": "code",
   "execution_count": null,
   "metadata": {},
   "outputs": [],
   "source": [
    "#34+"
   ]
  },
  {
   "cell_type": "code",
   "execution_count": 5,
   "metadata": {},
   "outputs": [
    {
     "name": "stdout",
     "output_type": "stream",
     "text": [
      "3\n"
     ]
    }
   ],
   "source": [
    "class A:\n",
    "    count = 0 \n",
    "    def __init__(self):\n",
    "        A.count += 1\n",
    "    def print_count():\n",
    "        print(A.count)  \n",
    "    print_count = staticmethod(print_count)\n",
    "    \n",
    "class B(A): pass\n",
    "\n",
    "x, y, z = B(), A(), B() \n",
    "B.print_count()"
   ]
  },
  {
   "cell_type": "code",
   "execution_count": null,
   "metadata": {},
   "outputs": [],
   "source": [
    "1\n",
    "2\n",
    "3   #\n",
    "4\n",
    "AttributeError"
   ]
  },
  {
   "cell_type": "markdown",
   "metadata": {},
   "source": [
    "Каждый раз при создании экземпляра A или B (наследуется от A) увеличивается count (который есть переменная класса A) на 1. Создано всего 3 экземпляра."
   ]
  },
  {
   "cell_type": "markdown",
   "metadata": {},
   "source": [
    "Код создает два класса, A и B, где B наследуется от A. Атрибут count увеличивается на 1 каждый раз при создании объекта класса A или его подкласса. В результате, при вызове метода B.print_count(), который является статическим методом, будет выведено число 3, соответствующее количеству созданных объектов."
   ]
  },
  {
   "cell_type": "code",
   "execution_count": null,
   "metadata": {},
   "outputs": [],
   "source": [
    "Что выведет код?\n",
    "```python\n",
    "```\n",
    "Что выведет код?\n",
    "Выберите правильный вариант\n",
    "Посмотреть результаты"
   ]
  },
  {
   "cell_type": "code",
   "execution_count": null,
   "metadata": {},
   "outputs": [],
   "source": [
    "#35"
   ]
  },
  {
   "cell_type": "code",
   "execution_count": 6,
   "metadata": {},
   "outputs": [
    {
     "name": "stdout",
     "output_type": "stream",
     "text": [
      "3 5 5\n"
     ]
    }
   ],
   "source": [
    "class A:\n",
    "    count = 0\n",
    "    def __init__(self):\n",
    "        A.count = A.count + 1\n",
    "    def get(self):\n",
    "        return A.count\n",
    "x, y, z = A(), A(), A()\n",
    "print(x.get(), A().__class__.get(A()), z.__class__.get(y))"
   ]
  },
  {
   "cell_type": "code",
   "execution_count": null,
   "metadata": {},
   "outputs": [],
   "source": [
    "3 3 3\n",
    "3 4 5\n",
    "3 5 3\n",
    "3 5 5  #\n",
    "3 5 6"
   ]
  },
  {
   "cell_type": "markdown",
   "metadata": {},
   "source": [
    "При создании экземпляра A переменная count этого класса увеличивается на 1. Создается 3 экземпляра - x, y, z. При вызове x.get только они и есть, но во втором аргументе print создается еще два экземпляра A, уже будет 5. "
   ]
  },
  {
   "cell_type": "markdown",
   "metadata": {},
   "source": [
    "При создании экземпляров x, y, z класса A переменная класса count увеличивается на 1. При вызове x.get только они и есть, но во втором аргументе print создается еще два экземпляра A, уже будет 5. "
   ]
  },
  {
   "cell_type": "code",
   "execution_count": null,
   "metadata": {},
   "outputs": [],
   "source": [
    "/////////////"
   ]
  },
  {
   "cell_type": "code",
   "execution_count": null,
   "metadata": {},
   "outputs": [],
   "source": [
    "Что выведет код?\n",
    "```python\n",
    "```\n",
    "Что выведет код?\n",
    "Выберите правильный вариант\n",
    "Посмотреть результаты"
   ]
  },
  {
   "cell_type": "code",
   "execution_count": null,
   "metadata": {},
   "outputs": [],
   "source": [
    "#36+"
   ]
  },
  {
   "cell_type": "code",
   "execution_count": 1,
   "metadata": {},
   "outputs": [
    {
     "name": "stdout",
     "output_type": "stream",
     "text": [
      "['D', 'A', 'B', 'X', 'object']\n"
     ]
    }
   ],
   "source": [
    "class X: pass\n",
    "class A(X): pass \n",
    "class B(X): pass \n",
    "class D(A, B): pass\n",
    "print([cls.__name__ for cls in D.__mro__])"
   ]
  },
  {
   "cell_type": "code",
   "execution_count": null,
   "metadata": {},
   "outputs": [],
   "source": [
    "['D', 'A', 'B', 'X']\n",
    "['D', 'A', 'B', 'X', 'object']    #\n",
    "['D', 'A', 'X', 'B', 'object']\n",
    "['D', 'A', 'X', 'B']"
   ]
  },
  {
   "cell_type": "markdown",
   "metadata": {},
   "source": [
    "MRO определяет порядок, в котором осуществляется поиск атрибутов и методов при наследовании. В Python используется алгоритм C3 линеаризации для определения MRO.\n",
    "В итоге: D -> A -> B -> X -> object"
   ]
  },
  {
   "cell_type": "code",
   "execution_count": null,
   "metadata": {},
   "outputs": [],
   "source": [
    "Что выведет код?\n",
    "```python\n",
    "```\n",
    "Что выведет код?\n",
    "Выберите правильный вариант\n",
    "Посмотреть результаты"
   ]
  },
  {
   "cell_type": "code",
   "execution_count": null,
   "metadata": {},
   "outputs": [],
   "source": [
    "#37+"
   ]
  },
  {
   "cell_type": "code",
   "execution_count": 3,
   "metadata": {},
   "outputs": [
    {
     "name": "stdout",
     "output_type": "stream",
     "text": [
      "True False\n"
     ]
    }
   ],
   "source": [
    "x = 9\n",
    "y = 2\n",
    "print(divmod(x, y) == (x // y, x % y), divmod(x, y) is (x // y, x % y))"
   ]
  },
  {
   "cell_type": "code",
   "execution_count": null,
   "metadata": {},
   "outputs": [],
   "source": [
    "True True\n",
    "True False  #\n",
    "False True\n",
    "False False"
   ]
  },
  {
   "cell_type": "markdown",
   "metadata": {},
   "source": [
    "divmod(x, y) возвращает кортеж с результатом целочисленного деления и остатком от деления. \n",
    "divmod(x, y) == (x // y, x % y) равно True, так как значения совпадают. Однако, divmod(x, y) is (x // y, x % y) равно False, потому что это разные объекты в памяти."
   ]
  },
  {
   "cell_type": "code",
   "execution_count": null,
   "metadata": {},
   "outputs": [],
   "source": [
    "Что выведет код?\n",
    "```python\n",
    "```\n",
    "Что выведет код?\n",
    "Выберите правильный вариант\n",
    "Посмотреть результаты"
   ]
  },
  {
   "cell_type": "code",
   "execution_count": null,
   "metadata": {},
   "outputs": [],
   "source": [
    "#38+"
   ]
  },
  {
   "cell_type": "code",
   "execution_count": 4,
   "metadata": {},
   "outputs": [
    {
     "name": "stdout",
     "output_type": "stream",
     "text": [
      "True False\n"
     ]
    }
   ],
   "source": [
    "class C: pass\n",
    "class D (C): __slots__ = ['a']\n",
    "X = D() \n",
    "X.a = 1\n",
    "class A: __slots__ = ['b']\n",
    "class B (A): __slots__ = ['b']\n",
    "Y = B() \n",
    "Y.b = 1\n",
    "print(hasattr(X, '__dict__'), hasattr(Y, '__dict__'))"
   ]
  },
  {
   "cell_type": "code",
   "execution_count": null,
   "metadata": {},
   "outputs": [],
   "source": [
    "True True\n",
    "True False  #\n",
    "False True\n",
    "False False"
   ]
  },
  {
   "cell_type": "markdown",
   "metadata": {},
   "source": [
    "При указании _slots_ атрибут _dict_ отсутствует. В первом случае он берется из класса C, так как там нет _slots_"
   ]
  },
  {
   "cell_type": "code",
   "execution_count": null,
   "metadata": {},
   "outputs": [],
   "source": [
    "Что выведет код?\n",
    "```python\n",
    "```\n",
    "Что выведет код?\n",
    "Выберите правильный вариант\n",
    "Посмотреть результаты"
   ]
  },
  {
   "cell_type": "code",
   "execution_count": null,
   "metadata": {},
   "outputs": [],
   "source": [
    "#39+"
   ]
  },
  {
   "cell_type": "code",
   "execution_count": 5,
   "metadata": {},
   "outputs": [
    {
     "data": {
      "text/plain": [
       "100"
      ]
     },
     "execution_count": 5,
     "metadata": {},
     "output_type": "execute_result"
    }
   ],
   "source": [
    "sum([10, 20, 30, 40], 10) - sum([], 10)"
   ]
  },
  {
   "cell_type": "code",
   "execution_count": null,
   "metadata": {},
   "outputs": [],
   "source": [
    "80 \n",
    "90\n",
    "100 #\n",
    "110\n",
    "120\n"
   ]
  },
  {
   "cell_type": "markdown",
   "metadata": {},
   "source": [
    "Функция sum суммирует элементы из списка в первом аргументе, имея начальное значение суммы из второго аргумента. Первая сумма даст 110, а вторая - 10 (т.к. пустой список)."
   ]
  },
  {
   "cell_type": "code",
   "execution_count": null,
   "metadata": {},
   "outputs": [],
   "source": [
    "Что выведет код?\n",
    "```python\n",
    "```\n",
    "Что выведет код?\n",
    "Выберите правильный вариант\n",
    "Посмотреть результаты"
   ]
  },
  {
   "cell_type": "code",
   "execution_count": null,
   "metadata": {},
   "outputs": [],
   "source": [
    "#40+"
   ]
  },
  {
   "cell_type": "code",
   "execution_count": 6,
   "metadata": {},
   "outputs": [
    {
     "name": "stdout",
     "output_type": "stream",
     "text": [
      "['D', 'A', 'X', 'B', 'Y', 'object']\n"
     ]
    }
   ],
   "source": [
    "class X: pass\n",
    "class Y: pass\n",
    "class A(X): pass \n",
    "class B(Y): pass \n",
    "class D(A, B): pass\n",
    "print([cls.__name__ for cls in D.__mro__])"
   ]
  },
  {
   "cell_type": "code",
   "execution_count": null,
   "metadata": {},
   "outputs": [],
   "source": [
    "['D', 'A', 'X', 'B', 'Y', 'object']  #\n",
    "['D', 'A', 'B', 'X', 'Y', 'object'] \n",
    "['D', 'A', 'X', 'B', 'Y']\n",
    "['D', 'A', 'B', 'X', 'Y'] \n",
    "['D', 'A', 'X', 'B', 'Y']\n",
    "['D', 'A',  'object', 'B', 'X']"
   ]
  },
  {
   "cell_type": "markdown",
   "metadata": {},
   "source": [
    "MRO для класса D будет следующим: D -> A -> X -> B -> Y -> object \n",
    "Алгоритм MRO идет вглубь до общего предка (не включая его), затем переходит к следующему на том же уровне. "
   ]
  },
  {
   "cell_type": "code",
   "execution_count": null,
   "metadata": {},
   "outputs": [],
   "source": [
    "Что выведет код?\n",
    "```python\n",
    "```\n",
    "Что выведет код?\n",
    "Выберите правильный вариант\n",
    "Посмотреть результаты"
   ]
  },
  {
   "cell_type": "code",
   "execution_count": null,
   "metadata": {},
   "outputs": [],
   "source": [
    "#41+"
   ]
  },
  {
   "cell_type": "code",
   "execution_count": 7,
   "metadata": {},
   "outputs": [
    {
     "data": {
      "text/plain": [
       "15"
      ]
     },
     "execution_count": 7,
     "metadata": {},
     "output_type": "execute_result"
    }
   ],
   "source": [
    "sum((round(1.5), round(2.5), round(3.5), round(4.5)), 3)"
   ]
  },
  {
   "cell_type": "code",
   "execution_count": null,
   "metadata": {},
   "outputs": [],
   "source": [
    "17\n",
    "16\n",
    "15  #\n",
    "14\n",
    "13\n",
    "12\n",
    "10\n",
    "TypeError"
   ]
  },
  {
   "cell_type": "markdown",
   "metadata": {},
   "source": [
    "round() округляет число до ближайшего целого числа (четного, если равноудалены). sum((2, 2, 4, 4), 3) = 2 + 2 + 4 + 4 + 3 = 15 "
   ]
  },
  {
   "cell_type": "code",
   "execution_count": null,
   "metadata": {},
   "outputs": [],
   "source": [
    "Что выведет код?\n",
    "```python\n",
    "```\n",
    "Что выведет код?\n",
    "Выберите правильный вариант\n",
    "Посмотреть результаты"
   ]
  },
  {
   "cell_type": "code",
   "execution_count": null,
   "metadata": {},
   "outputs": [],
   "source": [
    "#42 + 7 янв 2021"
   ]
  },
  {
   "cell_type": "code",
   "execution_count": 8,
   "metadata": {},
   "outputs": [
    {
     "data": {
      "text/plain": [
       "3"
      ]
     },
     "execution_count": 8,
     "metadata": {},
     "output_type": "execute_result"
    }
   ],
   "source": [
    "sum((pow(3, 3, 2), pow(2, 3, 7)), 1)"
   ]
  },
  {
   "cell_type": "code",
   "execution_count": null,
   "metadata": {},
   "outputs": [],
   "source": [
    "1\n",
    "2\n",
    "3   #\n",
    "35\n",
    "36\n",
    "TypeError"
   ]
  },
  {
   "cell_type": "markdown",
   "metadata": {},
   "source": [
    "pow() принимает три аргумента: основание, показатель степени и модуль\n",
    "pow(a, b, c) = a ^ b % c"
   ]
  },
  {
   "cell_type": "code",
   "execution_count": null,
   "metadata": {},
   "outputs": [],
   "source": [
    "Что выведет код?\n",
    "```python\n",
    "```\n",
    "Что выведет код?\n",
    "Выберите правильный вариант\n",
    "Посмотреть результаты"
   ]
  },
  {
   "cell_type": "code",
   "execution_count": null,
   "metadata": {},
   "outputs": [],
   "source": [
    ".................."
   ]
  },
  {
   "cell_type": "code",
   "execution_count": null,
   "metadata": {},
   "outputs": [],
   "source": [
    "#43+"
   ]
  },
  {
   "cell_type": "code",
   "execution_count": null,
   "metadata": {},
   "outputs": [],
   "source": [
    "Дан код:"
   ]
  },
  {
   "cell_type": "code",
   "execution_count": 1,
   "metadata": {},
   "outputs": [
    {
     "name": "stdout",
     "output_type": "stream",
     "text": [
      "True\n"
     ]
    }
   ],
   "source": [
    "class C: pass\n",
    "class D (C): __slots__ = ['a']\n",
    "X = D() \n",
    "X.a = 1\n",
    "print(hasattr(X, '__dict__'))"
   ]
  },
  {
   "cell_type": "code",
   "execution_count": null,
   "metadata": {},
   "outputs": [],
   "source": [
    "Вывод: True"
   ]
  },
  {
   "cell_type": "code",
   "execution_count": null,
   "metadata": {},
   "outputs": [],
   "source": [
    "Что нужно написать в классе С вместо pass, чтобы вывод был False?"
   ]
  },
  {
   "cell_type": "code",
   "execution_count": null,
   "metadata": {},
   "outputs": [],
   "source": [
    "a = 1\n",
    "del __dict__\n",
    "del self.__dict__\n",
    "__slots__ = ['a']     #\n",
    "def __init__(self): del self.__dict__"
   ]
  },
  {
   "cell_type": "markdown",
   "metadata": {},
   "source": [
    "Атрибут dict берется из класса C, но когда устанавливаем у него slots, то dict он уже не имеет, поэтому и у наследника не будет"
   ]
  },
  {
   "cell_type": "code",
   "execution_count": null,
   "metadata": {},
   "outputs": [],
   "source": [
    "Что выведет код?\n",
    "```python\n",
    "```\n",
    "Что выведет код?\n",
    "Выберите правильный вариант\n",
    "Посмотреть результаты"
   ]
  },
  {
   "cell_type": "code",
   "execution_count": null,
   "metadata": {},
   "outputs": [],
   "source": [
    "#44+"
   ]
  },
  {
   "cell_type": "code",
   "execution_count": 4,
   "metadata": {},
   "outputs": [
    {
     "name": "stdout",
     "output_type": "stream",
     "text": [
      "True False\n"
     ]
    }
   ],
   "source": [
    "print(bin(2**2) == bin(2**3 >> 1),  bin(2**2) is bin(2**3 >> 1))"
   ]
  },
  {
   "cell_type": "code",
   "execution_count": null,
   "metadata": {},
   "outputs": [],
   "source": [
    "True True\n",
    "True False  #\n",
    "False True\n",
    "False False"
   ]
  },
  {
   "cell_type": "markdown",
   "metadata": {},
   "source": [
    "bin(2^2) даст бинарное представление числа 4, то есть '0b100';\n",
    "bin(2^3 >> 1) даст '0b100'(8 сдвигаем на разряд вправо);\n",
    "Оператор == проверяет, равны ли значения, а оператор is проверяет, один ли объект"
   ]
  },
  {
   "cell_type": "code",
   "execution_count": null,
   "metadata": {},
   "outputs": [],
   "source": [
    "Что выведет код?\n",
    "```python\n",
    "```\n",
    "Что выведет код?\n",
    "Выберите правильный вариант\n",
    "Посмотреть результаты"
   ]
  },
  {
   "cell_type": "code",
   "execution_count": null,
   "metadata": {},
   "outputs": [],
   "source": [
    "#45+"
   ]
  },
  {
   "cell_type": "code",
   "execution_count": 5,
   "metadata": {},
   "outputs": [
    {
     "data": {
      "text/plain": [
       "False"
      ]
     },
     "execution_count": 5,
     "metadata": {},
     "output_type": "execute_result"
    }
   ],
   "source": [
    "None or False and True"
   ]
  },
  {
   "cell_type": "code",
   "execution_count": null,
   "metadata": {},
   "outputs": [],
   "source": [
    "None\n",
    "False  #\n",
    "True\n",
    "TypeError"
   ]
  },
  {
   "cell_type": "code",
   "execution_count": null,
   "metadata": {},
   "outputs": [],
   "source": [
    "and имеет более высокий приоритет, чем or;\n",
    "сначала выполняется операция False and True, даст False;\n",
    "затем None or False, даст False."
   ]
  },
  {
   "cell_type": "code",
   "execution_count": null,
   "metadata": {},
   "outputs": [],
   "source": [
    "Что выведет код?\n",
    "```python\n",
    "```\n",
    "Что выведет код?\n",
    "Выберите правильный вариант\n",
    "Посмотреть результаты"
   ]
  },
  {
   "cell_type": "code",
   "execution_count": null,
   "metadata": {},
   "outputs": [],
   "source": [
    "#46+"
   ]
  },
  {
   "cell_type": "code",
   "execution_count": 5,
   "metadata": {},
   "outputs": [
    {
     "name": "stdout",
     "output_type": "stream",
     "text": [
      "None\n"
     ]
    }
   ],
   "source": [
    "x = False or None and True\n",
    "print(x)"
   ]
  },
  {
   "cell_type": "code",
   "execution_count": null,
   "metadata": {},
   "outputs": [],
   "source": [
    "None  #\n",
    "False  \n",
    "True\n",
    "TypeError"
   ]
  },
  {
   "cell_type": "code",
   "execution_count": null,
   "metadata": {},
   "outputs": [],
   "source": [
    "and имеет более высокий приоритет, чем or;\n",
    "сначала выполняется операция None and True, даст None;\n",
    "False or None даст None."
   ]
  },
  {
   "cell_type": "code",
   "execution_count": null,
   "metadata": {},
   "outputs": [],
   "source": [
    "Что выведет код?\n",
    "```python\n",
    "```\n",
    "Что выведет код?\n",
    "Выберите правильный вариант\n",
    "Посмотреть результаты"
   ]
  },
  {
   "cell_type": "code",
   "execution_count": null,
   "metadata": {},
   "outputs": [],
   "source": [
    "#47+"
   ]
  },
  {
   "cell_type": "markdown",
   "metadata": {},
   "source": [
    "Целое число \"x\" можно проверить на нечетность с помощью остатка от деления по модулю\n",
    "cледующим образом: `x % 2`. Какой эквивалент данному выражению можно использовать в логических условиях?"
   ]
  },
  {
   "cell_type": "code",
   "execution_count": null,
   "metadata": {},
   "outputs": [],
   "source": [
    "x >> 1\n",
    "x++\n",
    "x ** x - 1\n",
    "x & 1  #\n",
    "x | 1\n",
    "x @ 2"
   ]
  },
  {
   "cell_type": "markdown",
   "metadata": {},
   "source": [
    "x % 2 будет истинным, когда остаток от деления равен 1 (число нечетное). x & 1 - побитовое 'И' с числом 1, оставит только младший разряд x, если он 1 (x нечетное), то итог 1, иначе 0."
   ]
  },
  {
   "cell_type": "code",
   "execution_count": null,
   "metadata": {},
   "outputs": [],
   "source": [
    "Что выведет код?\n",
    "```python\n",
    "```\n",
    "Что выведет код?\n",
    "Выберите правильный вариант\n",
    "Посмотреть результаты"
   ]
  },
  {
   "cell_type": "code",
   "execution_count": null,
   "metadata": {},
   "outputs": [],
   "source": [
    "#48+"
   ]
  },
  {
   "cell_type": "code",
   "execution_count": 6,
   "metadata": {},
   "outputs": [
    {
     "data": {
      "text/plain": [
       "0"
      ]
     },
     "execution_count": 6,
     "metadata": {},
     "output_type": "execute_result"
    }
   ],
   "source": [
    "True + ~False"
   ]
  },
  {
   "cell_type": "code",
   "execution_count": null,
   "metadata": {},
   "outputs": [],
   "source": [
    "True\n",
    "False\n",
    "0    #\n",
    "1\n",
    "None"
   ]
  },
  {
   "cell_type": "markdown",
   "metadata": {},
   "source": [
    "True=1, False=0\n",
    "~ - эта операция инвертирует все биты числа x, что эквивалентно выражению -(x + 1);  \n",
    "~False = -(0 + 1) = -1;\n",
    "True + ~False = 1 + (-1) = 0\n"
   ]
  },
  {
   "cell_type": "code",
   "execution_count": null,
   "metadata": {},
   "outputs": [],
   "source": [
    "Что выведет код?\n",
    "```python\n",
    "```\n",
    "Что выведет код?\n",
    "Выберите правильный вариант\n",
    "Посмотреть результаты"
   ]
  },
  {
   "cell_type": "code",
   "execution_count": null,
   "metadata": {},
   "outputs": [],
   "source": [
    "//////////////////////////"
   ]
  },
  {
   "cell_type": "code",
   "execution_count": null,
   "metadata": {},
   "outputs": [],
   "source": [
    "#49+"
   ]
  },
  {
   "cell_type": "code",
   "execution_count": 1,
   "metadata": {},
   "outputs": [
    {
     "name": "stderr",
     "output_type": "stream",
     "text": [
      "<>:1: SyntaxWarning: \"is\" with a literal. Did you mean \"==\"?\n",
      "<>:1: SyntaxWarning: \"is\" with a literal. Did you mean \"==\"?\n",
      "<ipython-input-1-b1850947398d>:1: SyntaxWarning: \"is\" with a literal. Did you mean \"==\"?\n",
      "  \"python\" * 0 is '' * 10\n"
     ]
    },
    {
     "data": {
      "text/plain": [
       "True"
      ]
     },
     "execution_count": 1,
     "metadata": {},
     "output_type": "execute_result"
    }
   ],
   "source": [
    "\"python\" * 0 is '' * 10"
   ]
  },
  {
   "cell_type": "code",
   "execution_count": null,
   "metadata": {},
   "outputs": [],
   "source": [
    "0\n",
    "python\n",
    "True  #\n",
    "False"
   ]
  },
  {
   "cell_type": "markdown",
   "metadata": {},
   "source": [
    "\"python\" * 0, умножает строку \"python\" на 0, что дает пустую строку;\n",
    "'' * 10, умножает пустую строку ('') на 10, что также дает пустую строку. "
   ]
  },
  {
   "cell_type": "code",
   "execution_count": null,
   "metadata": {},
   "outputs": [],
   "source": [
    "Что выведет код?\n",
    "```python\n",
    "```\n",
    "Что выведет код?\n",
    "Выберите правильный вариант\n",
    "Посмотреть результаты"
   ]
  },
  {
   "cell_type": "code",
   "execution_count": null,
   "metadata": {},
   "outputs": [],
   "source": [
    "#50+"
   ]
  },
  {
   "cell_type": "code",
   "execution_count": 2,
   "metadata": {},
   "outputs": [
    {
     "name": "stdout",
     "output_type": "stream",
     "text": [
      "0\n"
     ]
    }
   ],
   "source": [
    "import numpy as np\n",
    "A = np.random.randint(1, 100, size=(5, 5))\n",
    "B = A.copy()\n",
    "B[:, [0, -1]] = B[:, [-1, 0]]\n",
    "d = lambda x: round(np.linalg.det(x))\n",
    "print(d(A) + d(B))"
   ]
  },
  {
   "cell_type": "code",
   "execution_count": null,
   "metadata": {},
   "outputs": [],
   "source": [
    "0.0  #\n",
    "1.0\n",
    "7.0\n",
    "100.0\n",
    "None\n",
    "nan"
   ]
  },
  {
   "cell_type": "markdown",
   "metadata": {},
   "source": [
    "Перестановка двух столбцов матрицы приводит к изменению знака определителя, но неизменности его значения по модулю, поэтому в сумме получаем ноль"
   ]
  },
  {
   "cell_type": "code",
   "execution_count": null,
   "metadata": {},
   "outputs": [],
   "source": [
    "Что выведет код?\n",
    "```python\n",
    "```\n",
    "Что выведет код?\n",
    "Выберите правильный вариант\n",
    "Посмотреть результаты"
   ]
  },
  {
   "cell_type": "code",
   "execution_count": null,
   "metadata": {},
   "outputs": [],
   "source": [
    "#51+"
   ]
  },
  {
   "cell_type": "code",
   "execution_count": 4,
   "metadata": {},
   "outputs": [
    {
     "name": "stdout",
     "output_type": "stream",
     "text": [
      "0000python\n"
     ]
    }
   ],
   "source": [
    "print(\"python\".zfill(10))"
   ]
  },
  {
   "cell_type": "code",
   "execution_count": 5,
   "metadata": {},
   "outputs": [
    {
     "ename": "SyntaxError",
     "evalue": "invalid syntax (<ipython-input-5-4631731f9913>, line 1)",
     "output_type": "error",
     "traceback": [
      "\u001b[1;36m  File \u001b[1;32m\"<ipython-input-5-4631731f9913>\"\u001b[1;36m, line \u001b[1;32m1\u001b[0m\n\u001b[1;33m    0000000000python\u001b[0m\n\u001b[1;37m              ^\u001b[0m\n\u001b[1;31mSyntaxError\u001b[0m\u001b[1;31m:\u001b[0m invalid syntax\n"
     ]
    }
   ],
   "source": [
    "0000000000python\n",
    "python0000000000\n",
    "0000000000python0000000000\n",
    "0000python   #\n",
    "python0000\n",
    "0000python0000"
   ]
  },
  {
   "cell_type": "markdown",
   "metadata": {},
   "source": [
    "Метод zfill() заполняет нулями слева, чтобы длина строки стала равной 10"
   ]
  },
  {
   "cell_type": "markdown",
   "metadata": {},
   "source": [
    "Что выведет код?\n",
    "```python\n",
    "```\n",
    "Что выведет код?\n",
    "Выберите правильный вариант\n",
    "Посмотреть результаты"
   ]
  },
  {
   "cell_type": "code",
   "execution_count": null,
   "metadata": {},
   "outputs": [],
   "source": [
    "#52+"
   ]
  },
  {
   "cell_type": "code",
   "execution_count": 6,
   "metadata": {},
   "outputs": [
    {
     "data": {
      "text/plain": [
       "False"
      ]
     },
     "execution_count": 6,
     "metadata": {},
     "output_type": "execute_result"
    }
   ],
   "source": [
    "\"I have 10 cars\".isalnum()"
   ]
  },
  {
   "cell_type": "code",
   "execution_count": null,
   "metadata": {},
   "outputs": [],
   "source": [
    "I have 10 cars\n",
    "True\n",
    "False   #\n",
    "None\n",
    "AttributeError"
   ]
  },
  {
   "cell_type": "markdown",
   "metadata": {},
   "source": [
    "isalnum вернет True, если в строке только цифры и буквенные символы. В нашем случае есть еще пробелы"
   ]
  },
  {
   "cell_type": "code",
   "execution_count": null,
   "metadata": {},
   "outputs": [],
   "source": []
  },
  {
   "cell_type": "code",
   "execution_count": null,
   "metadata": {},
   "outputs": [],
   "source": []
  },
  {
   "cell_type": "code",
   "execution_count": null,
   "metadata": {},
   "outputs": [],
   "source": [
    "Что выведет код?\n",
    "```python\n",
    "```\n",
    "Что выведет код?\n",
    "Выберите правильный вариант\n",
    "Посмотреть результаты"
   ]
  },
  {
   "cell_type": "code",
   "execution_count": null,
   "metadata": {},
   "outputs": [],
   "source": [
    "#53+"
   ]
  },
  {
   "cell_type": "code",
   "execution_count": 7,
   "metadata": {},
   "outputs": [
    {
     "data": {
      "text/plain": [
       "13"
      ]
     },
     "execution_count": 7,
     "metadata": {},
     "output_type": "execute_result"
    }
   ],
   "source": [
    "-True % 13 + True % 13"
   ]
  },
  {
   "cell_type": "code",
   "execution_count": null,
   "metadata": {},
   "outputs": [],
   "source": [
    "True\n",
    "False\n",
    "0\n",
    "1\n",
    "13   #\n",
    "SyntaxError"
   ]
  },
  {
   "cell_type": "code",
   "execution_count": null,
   "metadata": {},
   "outputs": [],
   "source": [
    "-1 % 13 = 12; 1 % 13 = 1; 12 + 1 = 13"
   ]
  },
  {
   "cell_type": "code",
   "execution_count": null,
   "metadata": {},
   "outputs": [],
   "source": [
    "Что выведет код?\n",
    "```python\n",
    "```\n",
    "Что выведет код?\n",
    "Выберите правильный вариант\n",
    "Посмотреть результаты"
   ]
  },
  {
   "cell_type": "code",
   "execution_count": null,
   "metadata": {},
   "outputs": [],
   "source": [
    "#54+"
   ]
  },
  {
   "cell_type": "markdown",
   "metadata": {},
   "source": [
    "Как перезагрузить ранее импортированный модуль somemodule, если его код был изменен (Python 3)?"
   ]
  },
  {
   "cell_type": "code",
   "execution_count": null,
   "metadata": {},
   "outputs": [],
   "source": [
    "import somemodule\n",
    "import importlib; importlib.reload(somemodule)  #\n",
    "somemodule.reload()\n",
    "somemodule.reimport()\n",
    "import somemodule with reload\n",
    "reimport somemodule"
   ]
  },
  {
   "cell_type": "code",
   "execution_count": null,
   "metadata": {},
   "outputs": [],
   "source": [
    "Что выведет код?\n",
    "```python\n",
    "```\n",
    "Что выведет код?\n",
    "Выберите правильный вариант\n",
    "Посмотреть результаты"
   ]
  },
  {
   "cell_type": "code",
   "execution_count": null,
   "metadata": {},
   "outputs": [],
   "source": [
    "#55+"
   ]
  },
  {
   "cell_type": "code",
   "execution_count": 9,
   "metadata": {},
   "outputs": [
    {
     "name": "stdout",
     "output_type": "stream",
     "text": [
      "0\n"
     ]
    }
   ],
   "source": [
    "from math import log\n",
    "from functools import reduce\n",
    "f = lambda acc, x: x * acc\n",
    "gen = (abs(log(i / 10)) for i in range(1, 1000))\n",
    "print(int(reduce(f, gen, 1)))"
   ]
  },
  {
   "cell_type": "code",
   "execution_count": null,
   "metadata": {},
   "outputs": [],
   "source": [
    "-1\n",
    "0  #\n",
    "1\n",
    "10\n",
    "17844\n",
    "None\n",
    "ValueError"
   ]
  },
  {
   "cell_type": "markdown",
   "metadata": {},
   "source": [
    "результатом будет произведение чисел вида log(i / 10), где 1 <= i < 1000. Поскольку при i = 10 число будет log(10 / 10) = log(1) = 0, то и произведение будет 0"
   ]
  },
  {
   "cell_type": "code",
   "execution_count": null,
   "metadata": {},
   "outputs": [],
   "source": [
    "Что выведет код?\n",
    "```python\n",
    "```\n",
    "Что выведет код?\n",
    "Выберите правильный вариант\n",
    "Посмотреть результаты"
   ]
  },
  {
   "cell_type": "code",
   "execution_count": null,
   "metadata": {},
   "outputs": [],
   "source": [
    "#56+"
   ]
  },
  {
   "cell_type": "code",
   "execution_count": 10,
   "metadata": {},
   "outputs": [
    {
     "name": "stdout",
     "output_type": "stream",
     "text": [
      "True\n"
     ]
    }
   ],
   "source": [
    "from random import randint\n",
    "num = randint(10**8, 10**20)\n",
    "s = bin(num)[2:].replace('0', '\\n').replace('1', '\\t')\n",
    "print(s.isspace())"
   ]
  },
  {
   "cell_type": "code",
   "execution_count": null,
   "metadata": {},
   "outputs": [],
   "source": [
    "0\n",
    "1\n",
    "True   #\n",
    "False\n",
    "\\n\n",
    "\\t\n",
    "TypeError"
   ]
  },
  {
   "cell_type": "markdown",
   "metadata": {},
   "source": [
    "Cлучайное число преобразуется в двоичный вид, причем 0 и 1 заменяются на \\n и \\t. isspace вернет True, так как получаются только пробельные символы"
   ]
  },
  {
   "cell_type": "code",
   "execution_count": null,
   "metadata": {},
   "outputs": [],
   "source": [
    "Что выведет код?\n",
    "```python\n",
    "```\n",
    "Что выведет код?\n",
    "Выберите правильный вариант\n",
    "Посмотреть результаты"
   ]
  },
  {
   "cell_type": "code",
   "execution_count": null,
   "metadata": {},
   "outputs": [],
   "source": []
  },
  {
   "cell_type": "code",
   "execution_count": null,
   "metadata": {},
   "outputs": [],
   "source": [
    "следующая задача - 14 дек 20"
   ]
  },
  {
   "cell_type": "code",
   "execution_count": null,
   "metadata": {},
   "outputs": [],
   "source": [
    ".................."
   ]
  },
  {
   "cell_type": "code",
   "execution_count": null,
   "metadata": {},
   "outputs": [],
   "source": [
    "#57+"
   ]
  },
  {
   "cell_type": "code",
   "execution_count": 1,
   "metadata": {},
   "outputs": [
    {
     "name": "stdout",
     "output_type": "stream",
     "text": [
      "[1, 2, 3, 1, 2, 3]\n"
     ]
    }
   ],
   "source": [
    "class MyList(list):\n",
    "    def __iter__(self):\n",
    "        return iter(self*2)\n",
    "m = MyList([1, 2, 3])\n",
    "print(list(m))"
   ]
  },
  {
   "cell_type": "code",
   "execution_count": null,
   "metadata": {},
   "outputs": [],
   "source": [
    "[]\n",
    "[1, 2, 3]\n",
    "[1, 2, 3, 1, 2, 3]   #\n",
    "TypeError\n",
    "IndexError"
   ]
  },
  {
   "cell_type": "markdown",
   "metadata": {},
   "source": [
    "Этот код создает подкласс списка, который при итерации возвращает итератор от удвоенного списка."
   ]
  },
  {
   "cell_type": "code",
   "execution_count": null,
   "metadata": {},
   "outputs": [],
   "source": [
    "Что выведет код?\n",
    "```python\n",
    "```\n",
    "Что выведет код?\n",
    "Выберите правильный вариант\n",
    "Посмотреть результаты"
   ]
  },
  {
   "cell_type": "code",
   "execution_count": null,
   "metadata": {},
   "outputs": [],
   "source": [
    "#58+"
   ]
  },
  {
   "cell_type": "code",
   "execution_count": null,
   "metadata": {},
   "outputs": [],
   "source": [
    "В каких случаях в Python 3 ответом будет число типа int?"
   ]
  },
  {
   "cell_type": "code",
   "execution_count": null,
   "metadata": {},
   "outputs": [],
   "source": [
    "8.0 - 3\n",
    "4 / 2\n",
    "7 // 2  #\n",
    "3 / 2\n",
    "4 + 1.0\n",
    "4.5 % 3"
   ]
  },
  {
   "cell_type": "markdown",
   "metadata": {},
   "source": [
    "Сложение и вычитание типов int и float, а также деление даст float. А целочисленное деление дает int."
   ]
  },
  {
   "cell_type": "code",
   "execution_count": null,
   "metadata": {},
   "outputs": [],
   "source": [
    "Что выведет код?\n",
    "```python\n",
    "```\n",
    "Что выведет код?\n",
    "Выберите правильный вариант\n",
    "Посмотреть результаты"
   ]
  },
  {
   "cell_type": "code",
   "execution_count": null,
   "metadata": {},
   "outputs": [],
   "source": [
    "#59+"
   ]
  },
  {
   "cell_type": "code",
   "execution_count": 2,
   "metadata": {},
   "outputs": [
    {
     "data": {
      "text/plain": [
       "13"
      ]
     },
     "execution_count": 2,
     "metadata": {},
     "output_type": "execute_result"
    }
   ],
   "source": [
    "(2 << 2) + (20 >> 2)"
   ]
  },
  {
   "cell_type": "code",
   "execution_count": null,
   "metadata": {},
   "outputs": [],
   "source": [
    "2\n",
    "8\n",
    "11\n",
    "13  #\n",
    "14\n",
    "232\n",
    "True"
   ]
  },
  {
   "cell_type": "markdown",
   "metadata": {},
   "source": [
    "Побитовый сдвиг влево на два разряда равносилен умножению на 4. А вправо - целочисленному делению на 4."
   ]
  },
  {
   "cell_type": "code",
   "execution_count": null,
   "metadata": {},
   "outputs": [],
   "source": [
    "Что выведет код?\n",
    "```python\n",
    "```\n",
    "Что выведет код?\n",
    "Выберите правильный вариант\n",
    "Посмотреть результаты"
   ]
  },
  {
   "cell_type": "code",
   "execution_count": null,
   "metadata": {},
   "outputs": [],
   "source": [
    "#60+"
   ]
  },
  {
   "cell_type": "code",
   "execution_count": 3,
   "metadata": {},
   "outputs": [
    {
     "name": "stdout",
     "output_type": "stream",
     "text": [
      "True False True False\n"
     ]
    }
   ],
   "source": [
    "f = lambda x: isinstance(x, int)\n",
    "print(f(1), f(1.0), f(True), f(1j))"
   ]
  },
  {
   "cell_type": "code",
   "execution_count": null,
   "metadata": {},
   "outputs": [],
   "source": [
    "True True True True\n",
    "True True False True\n",
    "True False True False  #\n",
    "True True False False\n",
    "True False False False"
   ]
  },
  {
   "cell_type": "markdown",
   "metadata": {},
   "source": [
    "Лямбда-функция f в этом коде проверяет, является ли аргумент целым числом. f(1) и f(True) возвращают True, так как 1 и True считаются целыми числами в Python. Однако f(1.0) и f(1j) возвращают False, так как 1.0 - это число с плавающей запятой, а 1j - комплексное число."
   ]
  },
  {
   "cell_type": "code",
   "execution_count": null,
   "metadata": {},
   "outputs": [],
   "source": [
    "Что выведет код?\n",
    "```python\n",
    "```\n",
    "Что выведет код?\n",
    "Выберите правильный вариант\n",
    "Посмотреть результаты"
   ]
  },
  {
   "cell_type": "code",
   "execution_count": null,
   "metadata": {},
   "outputs": [],
   "source": [
    "#61+"
   ]
  },
  {
   "cell_type": "code",
   "execution_count": 4,
   "metadata": {},
   "outputs": [
    {
     "name": "stdout",
     "output_type": "stream",
     "text": [
      "149\n"
     ]
    }
   ],
   "source": [
    "g = (str(i**2) for i in range(1, 4))\n",
    "print(\"\".join(g) + \"\".join(g))"
   ]
  },
  {
   "cell_type": "code",
   "execution_count": null,
   "metadata": {},
   "outputs": [],
   "source": [
    "14\n",
    "116\n",
    "123\n",
    "1234\n",
    "149    #\n",
    "149149\n",
    "14916\n",
    "1491614916"
   ]
  },
  {
   "cell_type": "markdown",
   "metadata": {},
   "source": [
    "Первый вызов \"\".join(g) вернет строку, состоящую из квадратов чисел от 1 до 3. Поскольку генератор исчерпан, второй вызов \"\".join(g) не вернет ничего."
   ]
  },
  {
   "cell_type": "code",
   "execution_count": null,
   "metadata": {},
   "outputs": [],
   "source": [
    "Что выведет код?\n",
    "```python\n",
    "```\n",
    "Что выведет код?\n",
    "Выберите правильный вариант\n",
    "Посмотреть результаты"
   ]
  },
  {
   "cell_type": "code",
   "execution_count": null,
   "metadata": {},
   "outputs": [],
   "source": [
    "#62+"
   ]
  },
  {
   "cell_type": "code",
   "execution_count": 5,
   "metadata": {},
   "outputs": [
    {
     "name": "stdout",
     "output_type": "stream",
     "text": [
      "[2, 3]\n"
     ]
    }
   ],
   "source": [
    "class D:\n",
    "    __slots__ = [\"a\", \"__dict__\"]\n",
    "    def __init__(self):\n",
    "        self.b = 2\n",
    "d = D()\n",
    "d.a = 1\n",
    "d.c = 3\n",
    "print(sorted(d.__dict__.values()))"
   ]
  },
  {
   "cell_type": "code",
   "execution_count": null,
   "metadata": {},
   "outputs": [],
   "source": [
    "[1, 2, 3]\n",
    "[1, 2]\n",
    "[2, 3]   #\n",
    "[1, 3]\n",
    "[1]\n",
    "[2]\n",
    "AttributeError"
   ]
  },
  {
   "cell_type": "markdown",
   "metadata": {},
   "source": [
    "__dict__  включен в __slots__, что позволяет экземплярам класса D иметь динамические атрибуты, помимо тех, что определены в __slots__. Aтрибут a находится в __slots__, он не будет включен в d.__dict__"
   ]
  },
  {
   "cell_type": "code",
   "execution_count": null,
   "metadata": {},
   "outputs": [],
   "source": [
    "Что выведет код?\n",
    "```python\n",
    "```\n",
    "Что выведет код?\n",
    "Выберите правильный вариант\n",
    "Посмотреть результаты"
   ]
  },
  {
   "cell_type": "code",
   "execution_count": null,
   "metadata": {},
   "outputs": [],
   "source": [
    "#63+"
   ]
  },
  {
   "cell_type": "code",
   "execution_count": 6,
   "metadata": {},
   "outputs": [
    {
     "data": {
      "text/plain": [
       "-1"
      ]
     },
     "execution_count": 6,
     "metadata": {},
     "output_type": "execute_result"
    }
   ],
   "source": [
    "6 + ~6"
   ]
  },
  {
   "cell_type": "code",
   "execution_count": null,
   "metadata": {},
   "outputs": [],
   "source": [
    "-1  #\n",
    "0\n",
    "1\n",
    "6\n",
    "12\n",
    "SyntaxError"
   ]
  },
  {
   "cell_type": "markdown",
   "metadata": {},
   "source": [
    "~ - эта операция инвертирует все биты числа x, что эквивалентно выражению -(x + 1);\n",
    "x + ~x = x + (- (x + 1)) = x - x - 1 = -1"
   ]
  },
  {
   "cell_type": "code",
   "execution_count": null,
   "metadata": {},
   "outputs": [],
   "source": [
    "Что выведет код?\n",
    "```python\n",
    "```\n",
    "Что выведет код?\n",
    "Выберите правильный вариант\n",
    "Посмотреть результаты"
   ]
  },
  {
   "cell_type": "code",
   "execution_count": null,
   "metadata": {},
   "outputs": [],
   "source": [
    "#64+"
   ]
  },
  {
   "cell_type": "code",
   "execution_count": null,
   "metadata": {},
   "outputs": [],
   "source": [
    "class D:\n",
    "    __slots__ = ['a', 'b']\n",
    "d = D()\n",
    "d.a = 1\n",
    "f = lambda attr: getattr(d, attr, '*')\n",
    "print(f('a'), f('b'), f('__dict__'))"
   ]
  },
  {
   "cell_type": "code",
   "execution_count": null,
   "metadata": {},
   "outputs": [],
   "source": [
    "1 1 1\n",
    "1 1 *\n",
    "1 * *   #\n",
    "* * *\n",
    "* 1 1\n",
    "* * 1"
   ]
  },
  {
   "cell_type": "markdown",
   "metadata": {},
   "source": [
    "Атрибут b не выводится, так как он не был установлен, а _dict_ отсутствует из-за определения атрибута _slots_"
   ]
  },
  {
   "cell_type": "code",
   "execution_count": null,
   "metadata": {},
   "outputs": [],
   "source": [
    "Что выведет код?\n",
    "```python\n",
    "```\n",
    "Что выведет код?\n",
    "Выберите правильный вариант\n",
    "Посмотреть результаты"
   ]
  },
  {
   "cell_type": "code",
   "execution_count": null,
   "metadata": {},
   "outputs": [],
   "source": [
    "#65+"
   ]
  },
  {
   "cell_type": "code",
   "execution_count": 7,
   "metadata": {},
   "outputs": [
    {
     "name": "stdout",
     "output_type": "stream",
     "text": [
      "{'b': ['y'], 'a': ['x', 'z']}\n"
     ]
    }
   ],
   "source": [
    "def invertdict(D):\n",
    "    def keysof(V):\n",
    "        return sorted(K for K in D.keys() if D[K] == V)\n",
    "    return {V: keysof(V) for V in set(D.values())}\n",
    "D = {'x': 'a', 'y': 'b', 'z': 'a'}\n",
    "print(invertdict(D))"
   ]
  },
  {
   "cell_type": "code",
   "execution_count": null,
   "metadata": {},
   "outputs": [],
   "source": [
    "{'a':'x', 'b':'y', 'a':'z'}\n",
    "{'b':['y'], 'a':['x', 'z']}   #\n",
    "{'y':['b'], 'x, z':['a']}\n",
    "{'a':['y'], 'b':['x', 'z']}\n",
    "AttributeErrror"
   ]
  },
  {
   "cell_type": "markdown",
   "metadata": {},
   "source": [
    "invertdict принимает словарь и возвращает новый, где ключи и значения исходного словаря меняются местами. Если у одного значения в исходном словаре было несколько ключей, они становятся списком"
   ]
  },
  {
   "cell_type": "code",
   "execution_count": null,
   "metadata": {},
   "outputs": [],
   "source": [
    "Что выведет код?\n",
    "```python\n",
    "```\n",
    "Что выведет код?\n",
    "Выберите правильный вариант\n",
    "Посмотреть результаты"
   ]
  },
  {
   "cell_type": "code",
   "execution_count": null,
   "metadata": {},
   "outputs": [],
   "source": [
    "#66+"
   ]
  },
  {
   "cell_type": "code",
   "execution_count": 8,
   "metadata": {},
   "outputs": [
    {
     "name": "stdout",
     "output_type": "stream",
     "text": [
      "[3, 6]\n"
     ]
    }
   ],
   "source": [
    "class MyList(list):\n",
    "    def __getitem__(self, index):\n",
    "        return super().__getitem__(index) * 2\n",
    "m = MyList([1, 2])\n",
    "print([m[i] + x for i, x in enumerate(m)])"
   ]
  },
  {
   "cell_type": "code",
   "execution_count": null,
   "metadata": {},
   "outputs": [],
   "source": [
    "[1, 2]\n",
    "[1, 2, 1, 2]\n",
    "[2, 4]\n",
    "[3, 6]  #\n",
    "TypeError\n",
    "IndexError"
   ]
  },
  {
   "cell_type": "markdown",
   "metadata": {},
   "source": [
    "Этот код создает подкласс списка, который удваивает каждый элемент при обращении к нему по индексу. Создается экземпляр этого класса с элементами 1 и 2. Затем выполняется генератор списка, который суммирует удвоенное значение каждого элемента с его исходным значением, в результате получается [3, 6]."
   ]
  },
  {
   "cell_type": "markdown",
   "metadata": {},
   "source": [
    "MyList - подкласс list, который при обращении к элементу по индексу возвращает удвоенное значение элемента списка. Но при итерации удвоения не происходит.  1*2+1=3; 2*2+2=6"
   ]
  },
  {
   "cell_type": "code",
   "execution_count": null,
   "metadata": {},
   "outputs": [],
   "source": [
    "3 dec 20"
   ]
  },
  {
   "cell_type": "code",
   "execution_count": null,
   "metadata": {},
   "outputs": [],
   "source": [
    "..................."
   ]
  },
  {
   "cell_type": "code",
   "execution_count": null,
   "metadata": {},
   "outputs": [],
   "source": [
    "Что выведет код?\n",
    "```python\n",
    "```\n",
    "Что выведет код?\n",
    "Выберите правильный вариант\n",
    "Посмотреть результаты"
   ]
  },
  {
   "cell_type": "code",
   "execution_count": null,
   "metadata": {},
   "outputs": [],
   "source": [
    "#67+"
   ]
  },
  {
   "cell_type": "code",
   "execution_count": 1,
   "metadata": {},
   "outputs": [
    {
     "name": "stdout",
     "output_type": "stream",
     "text": [
      "True\n"
     ]
    }
   ],
   "source": [
    "class A: pass\n",
    "class B(A): pass \n",
    "class C1(A): pass \n",
    "class C2: pass\n",
    "class D1(B, C1): pass\n",
    "class D2(B, C2): pass\n",
    "\n",
    "X = list(D1.__mro__)\n",
    "Y = list(D2.__mro__)\n",
    "print(X[3] is Y[2])"
   ]
  },
  {
   "cell_type": "code",
   "execution_count": null,
   "metadata": {},
   "outputs": [],
   "source": [
    "True  #\n",
    "False\n",
    "TypeError\n",
    "AttributeError"
   ]
  },
  {
   "cell_type": "markdown",
   "metadata": {},
   "source": [
    "MRO для классов D1 и D2:\n",
    "D1: D1, B, C1, A, object;\n",
    "D2: D2, B, A, C2, object;\n",
    "В данном случае, оба класса D1 и D2 имеют класс A в своём MRO. Поэтому код X[3] is Y[2] выведет True."
   ]
  },
  {
   "cell_type": "code",
   "execution_count": null,
   "metadata": {},
   "outputs": [],
   "source": [
    "Что выведет код?\n",
    "```python\n",
    "```\n",
    "Что выведет код?\n",
    "Выберите правильный вариант\n",
    "Посмотреть результаты"
   ]
  },
  {
   "cell_type": "code",
   "execution_count": null,
   "metadata": {},
   "outputs": [],
   "source": [
    "#68+"
   ]
  },
  {
   "cell_type": "code",
   "execution_count": 4,
   "metadata": {},
   "outputs": [
    {
     "name": "stderr",
     "output_type": "stream",
     "text": [
      "<>:1: SyntaxWarning: \"is\" with a literal. Did you mean \"==\"?\n",
      "<>:1: SyntaxWarning: \"is\" with a literal. Did you mean \"==\"?\n",
      "<ipython-input-4-2f91c90e43b7>:1: SyntaxWarning: \"is\" with a literal. Did you mean \"==\"?\n",
      "  int(2) is 2 * True\n"
     ]
    },
    {
     "data": {
      "text/plain": [
       "True"
      ]
     },
     "execution_count": 4,
     "metadata": {},
     "output_type": "execute_result"
    }
   ],
   "source": [
    "int(2) is 2 * True"
   ]
  },
  {
   "cell_type": "code",
   "execution_count": null,
   "metadata": {},
   "outputs": [],
   "source": [
    "0\n",
    "1\n",
    "2\n",
    "True   #\n",
    "False\n",
    "TypeError"
   ]
  },
  {
   "cell_type": "markdown",
   "metadata": {},
   "source": [
    "int(2) возвращает число 2. 2 * True также даёт 2, потому что True интерпретируется как 1 в математических вычислениях. Таким образом, int(2) is 2 * True вернёт True."
   ]
  },
  {
   "cell_type": "code",
   "execution_count": null,
   "metadata": {},
   "outputs": [],
   "source": [
    "Что выведет код?\n",
    "```python\n",
    "```\n",
    "Что выведет код?\n",
    "Выберите правильный вариант\n",
    "Посмотреть результаты"
   ]
  },
  {
   "cell_type": "code",
   "execution_count": null,
   "metadata": {},
   "outputs": [],
   "source": [
    "#69+"
   ]
  },
  {
   "cell_type": "code",
   "execution_count": 3,
   "metadata": {},
   "outputs": [
    {
     "name": "stdout",
     "output_type": "stream",
     "text": [
      "1\n"
     ]
    }
   ],
   "source": [
    "class A: attr = 1  \n",
    "class B(A): pass\n",
    "class C(B): pass\n",
    "class D(A): attr = 2\n",
    "class E(C, D): attr = C.attr  \n",
    "x = E()\n",
    "print(x.attr)"
   ]
  },
  {
   "cell_type": "code",
   "execution_count": null,
   "metadata": {},
   "outputs": [],
   "source": [
    "1    #\n",
    "2\n",
    "None\n",
    "AttributeError"
   ]
  },
  {
   "cell_type": "markdown",
   "metadata": {},
   "source": [
    "У класса E MRO такой: E-C-B-D-A-object, но у E attr берется из C, а там MRO будет C-B-A-object, то есть attr будет браться не из D, а из A."
   ]
  },
  {
   "cell_type": "code",
   "execution_count": null,
   "metadata": {},
   "outputs": [],
   "source": [
    "Что выведет код?\n",
    "```python\n",
    "```\n",
    "Что выведет код?\n",
    "Выберите правильный вариант\n",
    "Посмотреть результаты"
   ]
  },
  {
   "cell_type": "code",
   "execution_count": null,
   "metadata": {},
   "outputs": [],
   "source": [
    "#70+"
   ]
  },
  {
   "cell_type": "code",
   "execution_count": 8,
   "metadata": {},
   "outputs": [
    {
     "name": "stdout",
     "output_type": "stream",
     "text": [
      "False False\n"
     ]
    }
   ],
   "source": [
    "a = type([1, 2, 3]) == type(list)\n",
    "b = [1, 2, 3].__class__ == list.__class__\n",
    "print(a, b)"
   ]
  },
  {
   "cell_type": "code",
   "execution_count": null,
   "metadata": {},
   "outputs": [],
   "source": [
    "True True  \n",
    "True False \n",
    "False True \n",
    "False False   #\n",
    "TypeError\n",
    "AttributeError"
   ]
  },
  {
   "cell_type": "markdown",
   "metadata": {},
   "source": [
    "type([1, 2, 3]) возвращает <class 'list'>, а type(list) возвращает <class 'type'>, что делает a равным False. Атрибут __class__ указывает на класс объекта, но list.__class__ возвращает <class 'type'>, поэтому b также равно False. "
   ]
  },
  {
   "cell_type": "code",
   "execution_count": null,
   "metadata": {},
   "outputs": [],
   "source": [
    "Что выведет код?\n",
    "```python\n",
    "```\n",
    "Что выведет код?\n",
    "Выберите правильный вариант\n",
    "Посмотреть результаты"
   ]
  },
  {
   "cell_type": "code",
   "execution_count": null,
   "metadata": {},
   "outputs": [],
   "source": [
    "#71+"
   ]
  },
  {
   "cell_type": "code",
   "execution_count": 9,
   "metadata": {},
   "outputs": [
    {
     "name": "stdout",
     "output_type": "stream",
     "text": [
      "2\n"
     ]
    }
   ],
   "source": [
    "class A: attr = 1  \n",
    "class B(A): pass     \n",
    "class С(A): attr = 2\n",
    "class D(B, С): pass   \n",
    "x = D()\n",
    "print(x.attr)"
   ]
  },
  {
   "cell_type": "code",
   "execution_count": 10,
   "metadata": {},
   "outputs": [
    {
     "data": {
      "text/plain": [
       "(__main__.D, __main__.B, __main__.С, __main__.A, object)"
      ]
     },
     "execution_count": 10,
     "metadata": {},
     "output_type": "execute_result"
    }
   ],
   "source": [
    "D.__mro__"
   ]
  },
  {
   "cell_type": "code",
   "execution_count": null,
   "metadata": {},
   "outputs": [],
   "source": [
    "1\n",
    "2  #\n",
    "None\n",
    "AttributeError"
   ]
  },
  {
   "cell_type": "markdown",
   "metadata": {},
   "source": [
    "MRO определяет иерархию поиска атрибутов. Здесь, иерархия это D -> B -> C -> A -> object. Поскольку attr не определен в D и B, Python ищет его в классе C, где attr равен 2"
   ]
  },
  {
   "cell_type": "code",
   "execution_count": null,
   "metadata": {},
   "outputs": [],
   "source": [
    "Что выведет код?\n",
    "```python\n",
    "```\n",
    "Что выведет код?\n",
    "Выберите правильный вариант\n",
    "Посмотреть результаты"
   ]
  },
  {
   "cell_type": "code",
   "execution_count": null,
   "metadata": {},
   "outputs": [],
   "source": [
    "#72+"
   ]
  },
  {
   "cell_type": "code",
   "execution_count": 11,
   "metadata": {},
   "outputs": [
    {
     "data": {
      "text/plain": [
       "2"
      ]
     },
     "execution_count": 11,
     "metadata": {},
     "output_type": "execute_result"
    }
   ],
   "source": [
    "isinstance(type, object) + isinstance(object, type) + (type is object)"
   ]
  },
  {
   "cell_type": "code",
   "execution_count": null,
   "metadata": {},
   "outputs": [],
   "source": [
    "0\n",
    "1\n",
    "2  #\n",
    "3\n",
    "True\n",
    "False\n",
    "TypeError"
   ]
  },
  {
   "cell_type": "markdown",
   "metadata": {},
   "source": [
    "object - это instance класса type, но type наследуется от object, при этом type - instance самого type, а значит, и object тоже. Поэтому первые два слагаемых дадут True."
   ]
  },
  {
   "cell_type": "code",
   "execution_count": null,
   "metadata": {},
   "outputs": [],
   "source": [
    "Что выведет код?\n",
    "```python\n",
    "```\n",
    "Что выведет код?\n",
    "Выберите правильный вариант\n",
    "Посмотреть результаты"
   ]
  },
  {
   "cell_type": "code",
   "execution_count": null,
   "metadata": {},
   "outputs": [],
   "source": [
    "#73+"
   ]
  },
  {
   "cell_type": "code",
   "execution_count": 12,
   "metadata": {},
   "outputs": [
    {
     "name": "stdout",
     "output_type": "stream",
     "text": [
      "True True\n"
     ]
    }
   ],
   "source": [
    "class С: pass \n",
    "c = С() \n",
    "a = type(c) == c.__class__\n",
    "b = type(type(c)) is c.__class__.__class__\n",
    "print(a, b)"
   ]
  },
  {
   "cell_type": "code",
   "execution_count": null,
   "metadata": {},
   "outputs": [],
   "source": [
    "True True   #\n",
    "True False \n",
    "False True \n",
    "False False "
   ]
  },
  {
   "cell_type": "markdown",
   "metadata": {},
   "source": [
    "type(c) и c.__class__ возвращают класс объекта c, что делает a равным True. type(type(c)) и c.__class__.__class__ возвращают класс type, так как тип класса C - это type, что делает b также равным True"
   ]
  },
  {
   "cell_type": "code",
   "execution_count": null,
   "metadata": {},
   "outputs": [],
   "source": [
    "Что выведет код?\n",
    "```python\n",
    "```\n",
    "Что выведет код?\n",
    "Выберите правильный вариант\n",
    "Посмотреть результаты"
   ]
  },
  {
   "cell_type": "code",
   "execution_count": null,
   "metadata": {},
   "outputs": [],
   "source": [
    "#74+"
   ]
  },
  {
   "cell_type": "code",
   "execution_count": 13,
   "metadata": {},
   "outputs": [
    {
     "name": "stdout",
     "output_type": "stream",
     "text": [
      "True\n"
     ]
    }
   ],
   "source": [
    "f = type\n",
    "print(f(f(f(f(f(None))))) is f )"
   ]
  },
  {
   "cell_type": "code",
   "execution_count": null,
   "metadata": {},
   "outputs": [],
   "source": [
    "True  #\n",
    "False\n",
    "None\n",
    "Будет ошибка"
   ]
  },
  {
   "cell_type": "markdown",
   "metadata": {},
   "source": [
    "type(None) -> NoneType;\n",
    "type(type(None)) -> type;\n",
    "type(type) -> type;\n",
    "Поэтому исходное выражение слева будет равно type, что является тем же объектом, что и f"
   ]
  },
  {
   "cell_type": "code",
   "execution_count": null,
   "metadata": {},
   "outputs": [],
   "source": [
    "Что выведет код?\n",
    "```python\n",
    "```\n",
    "Что выведет код?\n",
    "Выберите правильный вариант\n",
    "Посмотреть результаты"
   ]
  },
  {
   "cell_type": "code",
   "execution_count": null,
   "metadata": {},
   "outputs": [],
   "source": [
    "#75+"
   ]
  },
  {
   "cell_type": "code",
   "execution_count": 18,
   "metadata": {},
   "outputs": [
    {
     "name": "stdout",
     "output_type": "stream",
     "text": [
      "ppYTHON\n"
     ]
    }
   ],
   "source": [
    "class A:\n",
    "    x = 'python'\n",
    "    def __getitem__(self, i):\n",
    "        return getattr(self.x, '__getitem__')(i) * 2\n",
    "    def __getattr__(self, attr):\n",
    "        return getattr(self.x, attr)\n",
    "a = A()\n",
    "print(a[0] + a.upper()[1:])"
   ]
  },
  {
   "cell_type": "markdown",
   "metadata": {},
   "source": [
    "PYTHON\n",
    "pYTTON\n",
    "ppython\n",
    "ppYTHON    #\n",
    "PPYTHON"
   ]
  },
  {
   "cell_type": "markdown",
   "metadata": {},
   "source": [
    "При обращении по индексу возвращается удвоенный символ соответствующей позиции в строке x (a[0] -> pp), а остальные методы делегируются объекту x (метод upper)"
   ]
  },
  {
   "cell_type": "code",
   "execution_count": null,
   "metadata": {},
   "outputs": [],
   "source": [
    "Что выведет код?\n",
    "```python\n",
    "```\n",
    "Что выведет код?\n",
    "Выберите правильный вариант\n",
    "Посмотреть результаты"
   ]
  },
  {
   "cell_type": "code",
   "execution_count": null,
   "metadata": {},
   "outputs": [],
   "source": [
    "#76+"
   ]
  },
  {
   "cell_type": "code",
   "execution_count": 20,
   "metadata": {},
   "outputs": [
    {
     "name": "stdout",
     "output_type": "stream",
     "text": [
      "24\n"
     ]
    }
   ],
   "source": [
    "from functools import reduce\n",
    "print(reduce(lambda acc, x: x * acc, [1,2,3,4], 1))"
   ]
  },
  {
   "cell_type": "code",
   "execution_count": null,
   "metadata": {},
   "outputs": [],
   "source": [
    "0\n",
    "1\n",
    "10\n",
    "24   #\n",
    "TypeError"
   ]
  },
  {
   "cell_type": "markdown",
   "metadata": {},
   "source": [
    "reduce производит свертку - на каждой итерации берет новое значение из списка и аккумулируемое значение и возвращает их произведение. Начальное значение = 1. В итоге - произведение всех чисел списка"
   ]
  },
  {
   "cell_type": "code",
   "execution_count": null,
   "metadata": {},
   "outputs": [],
   "source": [
    "Что выведет код?\n",
    "```python\n",
    "```\n",
    "Что выведет код?\n",
    "Выберите правильный вариант\n",
    "Посмотреть результаты"
   ]
  },
  {
   "cell_type": "code",
   "execution_count": null,
   "metadata": {},
   "outputs": [],
   "source": [
    "23 nov 20"
   ]
  },
  {
   "cell_type": "code",
   "execution_count": null,
   "metadata": {},
   "outputs": [],
   "source": [
    "...................."
   ]
  },
  {
   "cell_type": "code",
   "execution_count": null,
   "metadata": {},
   "outputs": [],
   "source": [
    "#77+"
   ]
  },
  {
   "cell_type": "code",
   "execution_count": 1,
   "metadata": {},
   "outputs": [
    {
     "name": "stdout",
     "output_type": "stream",
     "text": [
      "4\n"
     ]
    }
   ],
   "source": [
    "class A:\n",
    "    def __getitem__(self, i):\n",
    "        return i\n",
    "a = A()\n",
    "a.__getitem__ = lambda i: i**2\n",
    "\n",
    "print(a[4])"
   ]
  },
  {
   "cell_type": "code",
   "execution_count": null,
   "metadata": {},
   "outputs": [],
   "source": [
    "4   #\n",
    "8\n",
    "16\n",
    "None\n",
    "IndexError\n",
    "TypeError"
   ]
  },
  {
   "cell_type": "markdown",
   "metadata": {},
   "source": [
    "a[4] - код обращается к методу __getitem__ класса A и возвращает переданный индекс i.  Присвоение a.__getitem__ не используется.\n",
    "https://docs.python.org/3/reference/datamodel.html#special-lookup"
   ]
  },
  {
   "cell_type": "code",
   "execution_count": null,
   "metadata": {},
   "outputs": [],
   "source": [
    "Что выведет код?\n",
    "```python\n",
    "```\n",
    "Что выведет код?\n",
    "Выберите правильный вариант\n",
    "Посмотреть результаты"
   ]
  },
  {
   "cell_type": "code",
   "execution_count": null,
   "metadata": {},
   "outputs": [],
   "source": [
    "#78+"
   ]
  },
  {
   "cell_type": "code",
   "execution_count": 2,
   "metadata": {},
   "outputs": [
    {
     "name": "stdout",
     "output_type": "stream",
     "text": [
      "5 23\n"
     ]
    }
   ],
   "source": [
    "class A:\n",
    "    def __init__(self, x):\n",
    "        self.x = x\n",
    "    def __getattribute__(self, name):\n",
    "        if name == '__add__':\n",
    "            self.x *= 10\n",
    "        return object.__getattribute__(self, name)\n",
    "    def __add__(self, other):\n",
    "        return self.x + other.x\n",
    "\n",
    "a1 = A(2)\n",
    "a2 = A(3) \n",
    "print(a1 + a2, a1.__add__(a2))"
   ]
  },
  {
   "cell_type": "code",
   "execution_count": null,
   "metadata": {},
   "outputs": [],
   "source": [
    "5 5\n",
    "23 5\n",
    "5 23   #\n",
    "23 23\n",
    "NameError\n",
    "RecursionError"
   ]
  },
  {
   "cell_type": "markdown",
   "metadata": {},
   "source": [
    "При a1 + a2 (неявный вызов add) метод getattribute не вызывается для add, а при a1.add(a2) он будет вызван."
   ]
  },
  {
   "cell_type": "code",
   "execution_count": null,
   "metadata": {},
   "outputs": [],
   "source": [
    "Что выведет код?\n",
    "```python\n",
    "```\n",
    "Что выведет код?\n",
    "Выберите правильный вариант\n",
    "Посмотреть результаты"
   ]
  },
  {
   "cell_type": "code",
   "execution_count": null,
   "metadata": {},
   "outputs": [],
   "source": [
    "#79+"
   ]
  },
  {
   "cell_type": "code",
   "execution_count": 3,
   "metadata": {},
   "outputs": [
    {
     "name": "stdout",
     "output_type": "stream",
     "text": [
      "True True True False\n"
     ]
    },
    {
     "name": "stderr",
     "output_type": "stream",
     "text": [
      "<>:3: SyntaxWarning: \"is\" with a literal. Did you mean \"==\"?\n",
      "<>:3: SyntaxWarning: \"is\" with a literal. Did you mean \"==\"?\n",
      "<>:3: SyntaxWarning: \"is\" with a literal. Did you mean \"==\"?\n",
      "<>:3: SyntaxWarning: \"is\" with a literal. Did you mean \"==\"?\n",
      "<ipython-input-3-6c639b4603d9>:3: SyntaxWarning: \"is\" with a literal. Did you mean \"==\"?\n",
      "  print(a == 1, b == 1, a is 1, b is 1)\n",
      "<ipython-input-3-6c639b4603d9>:3: SyntaxWarning: \"is\" with a literal. Did you mean \"==\"?\n",
      "  print(a == 1, b == 1, a is 1, b is 1)\n"
     ]
    }
   ],
   "source": [
    "a = 1 * 1\n",
    "b = 1 / 1\n",
    "print(a == 1, b == 1, a is 1, b is 1)"
   ]
  },
  {
   "cell_type": "code",
   "execution_count": null,
   "metadata": {},
   "outputs": [],
   "source": [
    "True True True True\n",
    "True True True False  #\n",
    "True True False False\n",
    "True False False False\n",
    "False False False False"
   ]
  },
  {
   "cell_type": "markdown",
   "metadata": {},
   "source": [
    "1 * 1 дает 1 - тип int, 1 /1 дает 1.0 - тип float, сравнение 1 == 1.0 дает True, а 1 is 1.0 - False, так как 1 и 1.0 - это разные объекты"
   ]
  },
  {
   "cell_type": "code",
   "execution_count": null,
   "metadata": {},
   "outputs": [],
   "source": [
    "Что выведет код?\n",
    "```python\n",
    "```\n",
    "Что выведет код?\n",
    "Выберите правильный вариант\n",
    "Посмотреть результаты"
   ]
  },
  {
   "cell_type": "code",
   "execution_count": null,
   "metadata": {},
   "outputs": [],
   "source": [
    "#80+"
   ]
  },
  {
   "cell_type": "code",
   "execution_count": 4,
   "metadata": {},
   "outputs": [
    {
     "name": "stdout",
     "output_type": "stream",
     "text": [
      "one five six ['two', 'three']\n"
     ]
    }
   ],
   "source": [
    "class MyList(list):\n",
    "    def __getitem__(self, index):\n",
    "        if type(index) is slice:\n",
    "            index = slice(index.start - 1, index.stop - 1, index.step)\n",
    "        elif type(index) is int:\n",
    "            index -= 1\n",
    "        return list.__getitem__(self, index)\n",
    "\n",
    "l = MyList([\"one\", \"two\", \"three\", \"four\", \"five\", \"six\"])\n",
    "\n",
    "print(l[1], l[-1], l[0], l[2:4])"
   ]
  },
  {
   "cell_type": "code",
   "execution_count": null,
   "metadata": {},
   "outputs": [],
   "source": [
    "two six one ['three', 'four']\n",
    "one six None ['two', 'three']\n",
    "one five six ['two', 'three'] #\n",
    "one five six ['three', 'four']\n",
    "one five six None\n",
    "IndexError\n",
    "TypeError\n",
    "AttributeError"
   ]
  },
  {
   "cell_type": "markdown",
   "metadata": {},
   "source": [
    "При обращении по индексу происходит уменьшение индекса на 1 и получение по этому новому индексу элемента из списка. Аналогично со срезами, там уменьшаются на 1 обе границы"
   ]
  },
  {
   "cell_type": "markdown",
   "metadata": {},
   "source": [
    "# начиная с 18 марта 2021"
   ]
  },
  {
   "cell_type": "code",
   "execution_count": null,
   "metadata": {},
   "outputs": [],
   "source": [
    "Что выведет код?\n",
    "```python\n",
    "```\n",
    "Что выведет код?\n",
    "Выберите правильный вариант\n",
    "Посмотреть результаты"
   ]
  },
  {
   "cell_type": "code",
   "execution_count": null,
   "metadata": {},
   "outputs": [],
   "source": [
    "#81"
   ]
  },
  {
   "cell_type": "code",
   "execution_count": 5,
   "metadata": {},
   "outputs": [
    {
     "name": "stdout",
     "output_type": "stream",
     "text": [
      "f from B g from A 1 2\n"
     ]
    }
   ],
   "source": [
    "class A:\n",
    "    __x = 1\n",
    "    def f(self):\n",
    "        return \"f from A\"\n",
    "    \n",
    "    def g(self):\n",
    "        return \"g from A\"\n",
    "\n",
    "class B:\n",
    "    __x = 2\n",
    "    def f(self):\n",
    "        return \"f from B\"\n",
    "    \n",
    "    def g(self):\n",
    "        return \"g from B\"\n",
    "\n",
    "class C(A, B):\n",
    "    f = B.f\n",
    "    \n",
    "c = C()\n",
    "print(c.f(), c.g(), c._A__x, c._B__x)"
   ]
  },
  {
   "cell_type": "code",
   "execution_count": null,
   "metadata": {},
   "outputs": [],
   "source": [
    "f from A g from A 1 2\n",
    "f from B g from B 1 2 \n",
    "f from A g from B 1 2 \n",
    "f from A g from B 2 1 \n",
    "f from B g from A 1 1\n",
    "f from B g from A 2 2\n",
    "f from B g from A 1 2  #\n",
    "f from B g from A 2 1"
   ]
  },
  {
   "cell_type": "markdown",
   "metadata": {},
   "source": [
    "c.f() вызывает f из B, так как в C есть метод f, которые копируется из B, а метода g нет для c.g(), поэтому берется по цепочке MRO из A. Для доступа к переменным с двумя подчеркиваниями в начале надо использовать имя класса."
   ]
  },
  {
   "cell_type": "code",
   "execution_count": null,
   "metadata": {},
   "outputs": [],
   "source": [
    "след 19 марта 2021"
   ]
  },
  {
   "cell_type": "code",
   "execution_count": null,
   "metadata": {},
   "outputs": [],
   "source": [
    "......................"
   ]
  },
  {
   "cell_type": "code",
   "execution_count": null,
   "metadata": {},
   "outputs": [],
   "source": [
    "Что выведет код?\n",
    "```python\n",
    "```\n",
    "Что выведет код?\n",
    "Выберите правильный вариант\n",
    "Посмотреть результаты"
   ]
  },
  {
   "cell_type": "code",
   "execution_count": null,
   "metadata": {},
   "outputs": [],
   "source": [
    "#82+"
   ]
  },
  {
   "cell_type": "code",
   "execution_count": 1,
   "metadata": {},
   "outputs": [
    {
     "name": "stdout",
     "output_type": "stream",
     "text": [
      "[1, 'b']\n"
     ]
    }
   ],
   "source": [
    "def intersect(*seqs):\n",
    "    if len(seqs) > 2:\n",
    "        return intersect(seqs[0], intersect(*seqs[1:]))\n",
    "    seq1, seq2 = seqs[0], seqs[1]\n",
    "    res = []\n",
    "    for x in seq1:\n",
    "        if x in seq2:\n",
    "            res.append(x)    \n",
    "    return res\n",
    "\n",
    "x = intersect([1, 2, \"a\", \"b\"], (1, 4, \"b\"), {1, \"b\", \"c\"}) \n",
    "print(x)"
   ]
  },
  {
   "cell_type": "code",
   "execution_count": null,
   "metadata": {},
   "outputs": [],
   "source": [
    "[1, 2, 4, 'a', 'b', 'c']\n",
    "[1, 'b', 'c']\n",
    "[1, 'b']  #\n",
    "[1]\n",
    "([1, 2, 'a', 'b'],  [1, 'b'])\n",
    "IndexError"
   ]
  },
  {
   "cell_type": "markdown",
   "metadata": {},
   "source": [
    "Код находит общие элементы между несколькими последовательностями. "
   ]
  },
  {
   "cell_type": "code",
   "execution_count": null,
   "metadata": {},
   "outputs": [],
   "source": [
    "Что выведет код?\n",
    "```python\n",
    "```\n",
    "Что выведет код?\n",
    "Выберите правильный вариант\n",
    "Посмотреть результаты"
   ]
  },
  {
   "cell_type": "code",
   "execution_count": null,
   "metadata": {},
   "outputs": [],
   "source": [
    "#83+"
   ]
  },
  {
   "cell_type": "code",
   "execution_count": 2,
   "metadata": {},
   "outputs": [
    {
     "name": "stdout",
     "output_type": "stream",
     "text": [
      "14\n"
     ]
    }
   ],
   "source": [
    "def f(n):\n",
    "    return 0 if n == 0 else 2**n + f(n-1)\n",
    "print(f(3))"
   ]
  },
  {
   "cell_type": "code",
   "execution_count": null,
   "metadata": {},
   "outputs": [],
   "source": [
    "0\n",
    "8\n",
    "12\n",
    "13\n",
    "14   #\n",
    "16"
   ]
  },
  {
   "cell_type": "code",
   "execution_count": null,
   "metadata": {},
   "outputs": [],
   "source": [
    "Рекурсивно вызывается f, равносильно f(3) = 2^3 + 2^2 +2^1"
   ]
  },
  {
   "cell_type": "code",
   "execution_count": null,
   "metadata": {},
   "outputs": [],
   "source": [
    "Что выведет код?\n",
    "```python\n",
    "```\n",
    "Что выведет код?\n",
    "Выберите правильный вариант\n",
    "Посмотреть результаты"
   ]
  },
  {
   "cell_type": "code",
   "execution_count": null,
   "metadata": {},
   "outputs": [],
   "source": [
    "#84+"
   ]
  },
  {
   "cell_type": "code",
   "execution_count": 3,
   "metadata": {},
   "outputs": [
    {
     "name": "stdout",
     "output_type": "stream",
     "text": [
      "2 1\n"
     ]
    }
   ],
   "source": [
    "def f():\n",
    "    x = 1\n",
    "    y = 1\n",
    "    def g():\n",
    "        nonlocal x\n",
    "        x, y = 2, 2\n",
    "    g()\n",
    "    print(x, y)\n",
    "\n",
    "f()"
   ]
  },
  {
   "cell_type": "code",
   "execution_count": null,
   "metadata": {},
   "outputs": [],
   "source": [
    "1 1\n",
    "1 2\n",
    "2 1   #\n",
    "2 2\n",
    "NameError"
   ]
  },
  {
   "cell_type": "markdown",
   "metadata": {},
   "source": [
    "x берется из области видимости f из-за nonlocal, а y - локальный в g. Поэтому x изменится в f, а y - нет"
   ]
  },
  {
   "cell_type": "code",
   "execution_count": null,
   "metadata": {},
   "outputs": [],
   "source": [
    "Что выведет код?\n",
    "```python\n",
    "```\n",
    "Что выведет код?\n",
    "Выберите правильный вариант\n",
    "Посмотреть результаты"
   ]
  },
  {
   "cell_type": "code",
   "execution_count": null,
   "metadata": {},
   "outputs": [],
   "source": [
    "#85+"
   ]
  },
  {
   "cell_type": "code",
   "execution_count": 4,
   "metadata": {},
   "outputs": [
    {
     "name": "stdout",
     "output_type": "stream",
     "text": [
      "исключение\n",
      "1\n",
      "2\n"
     ]
    },
    {
     "ename": "NameError",
     "evalue": "name 'my_err' is not defined",
     "output_type": "error",
     "traceback": [
      "\u001b[1;31m---------------------------------------------------------------------------\u001b[0m",
      "\u001b[1;31mNameError\u001b[0m                                 Traceback (most recent call last)",
      "\u001b[1;32m<ipython-input-4-46fb9637ab99>\u001b[0m in \u001b[0;36m<module>\u001b[1;34m\u001b[0m\n\u001b[0;32m      7\u001b[0m \u001b[0mprint\u001b[0m\u001b[1;33m(\u001b[0m\u001b[0mmy_x\u001b[0m\u001b[1;33m)\u001b[0m                       \u001b[1;31m#3\u001b[0m\u001b[1;33m\u001b[0m\u001b[1;33m\u001b[0m\u001b[0m\n\u001b[0;32m      8\u001b[0m \u001b[0mprint\u001b[0m\u001b[1;33m(\u001b[0m\u001b[0mmy_y\u001b[0m\u001b[1;33m)\u001b[0m                       \u001b[1;31m#4\u001b[0m\u001b[1;33m\u001b[0m\u001b[1;33m\u001b[0m\u001b[0m\n\u001b[1;32m----> 9\u001b[1;33m \u001b[0mprint\u001b[0m\u001b[1;33m(\u001b[0m\u001b[0mmy_err\u001b[0m\u001b[1;33m)\u001b[0m                     \u001b[1;31m#5\u001b[0m\u001b[1;33m\u001b[0m\u001b[1;33m\u001b[0m\u001b[0m\n\u001b[0m",
      "\u001b[1;31mNameError\u001b[0m: name 'my_err' is not defined"
     ]
    }
   ],
   "source": [
    "try:\n",
    "    my_x = 1\n",
    "    raise Exception('исключение') #1\n",
    "except Exception as my_err:\n",
    "    print(my_err)                 #2\n",
    "    my_y = 2\n",
    "print(my_x)                       #3\n",
    "print(my_y)                       #4\n",
    "print(my_err)                     #5"
   ]
  },
  {
   "cell_type": "code",
   "execution_count": null,
   "metadata": {},
   "outputs": [],
   "source": [
    "Какая из строчек в данном коде вызовет неперехваченное исключение:"
   ]
  },
  {
   "cell_type": "code",
   "execution_count": null,
   "metadata": {},
   "outputs": [],
   "source": [
    "1\n",
    "2\n",
    "3\n",
    "4\n",
    "5  #"
   ]
  },
  {
   "cell_type": "markdown",
   "metadata": {},
   "source": [
    "my_err определена только для блока except, но во внешней области видимости ее нет"
   ]
  },
  {
   "cell_type": "code",
   "execution_count": null,
   "metadata": {},
   "outputs": [],
   "source": [
    "Что выведет код?\n",
    "```python\n",
    "```\n",
    "Что выведет код?\n",
    "Выберите правильный вариант\n",
    "Посмотреть результаты"
   ]
  },
  {
   "cell_type": "code",
   "execution_count": null,
   "metadata": {},
   "outputs": [],
   "source": [
    "#86+"
   ]
  },
  {
   "cell_type": "code",
   "execution_count": 5,
   "metadata": {},
   "outputs": [
    {
     "name": "stdout",
     "output_type": "stream",
     "text": [
      "1 2 2 2\n"
     ]
    }
   ],
   "source": [
    "x = 1\n",
    "def f1():\n",
    "    return x\n",
    "def f2():\n",
    "    global x\n",
    "    x = 2\n",
    "    return x\n",
    "def f3():\n",
    "    global x\n",
    "    return x\n",
    "print(f1(), f2(), f3(), f1())"
   ]
  },
  {
   "cell_type": "code",
   "execution_count": null,
   "metadata": {},
   "outputs": [],
   "source": [
    "1 2 1 1\n",
    "1 2 2 1\n",
    "1 2 2 2   #\n",
    "1 2 1 2\n",
    "2 2 2 2"
   ]
  },
  {
   "cell_type": "markdown",
   "metadata": {},
   "source": [
    "Функции f1(), f2(), и f3() работают с глобальной переменной x. Первоначальное значение x - 1, f1() возвращает его, f2() изменяет x на 2 и возвращает, f3() и f1() также возвращают это значение. "
   ]
  },
  {
   "cell_type": "code",
   "execution_count": null,
   "metadata": {},
   "outputs": [],
   "source": [
    "Что выведет код?\n",
    "```python\n",
    "```\n",
    "Что выведет код?\n",
    "Выберите правильный вариант\n",
    "Посмотреть результаты"
   ]
  },
  {
   "cell_type": "code",
   "execution_count": null,
   "metadata": {},
   "outputs": [],
   "source": [
    "#87+"
   ]
  },
  {
   "cell_type": "code",
   "execution_count": null,
   "metadata": {},
   "outputs": [],
   "source": [
    "Даны два модуля testmod.py и runmod.py\n",
    "#testmod.py\n",
    "x = 0\n",
    "def f1():\n",
    "    x = 10\n",
    "def f2():\n",
    "    global x\n",
    "    x += 1   \n",
    "def f3():\n",
    "    import testmod\n",
    "    testmod.x += 1\n",
    "def f4():\n",
    "    import sys\n",
    "    sys.modules[\"testmod\"].x += 1\n",
    "\n",
    "#runmod.py\n",
    "import testmod as t\n",
    "t.f1();t.f2();t.f3();t.f4()\n",
    "print(t.x)"
   ]
  },
  {
   "cell_type": "code",
   "execution_count": null,
   "metadata": {},
   "outputs": [],
   "source": [
    "Точкой входа в программу является модуль runmod.py.\n",
    "Какой будет вывод?"
   ]
  },
  {
   "cell_type": "code",
   "execution_count": null,
   "metadata": {},
   "outputs": [],
   "source": [
    "0\n",
    "1\n",
    "2\n",
    "3  #\n",
    "10\n",
    "11\n",
    "12\n",
    "13"
   ]
  },
  {
   "cell_type": "markdown",
   "metadata": {},
   "source": [
    "f1 не меняет x, так как присвоение в локальной области видимости. Остальные функции меняют разными способами. Повторный импорт модуля в f3 приведет к использованию старого объекта модуля"
   ]
  },
  {
   "cell_type": "code",
   "execution_count": null,
   "metadata": {},
   "outputs": [],
   "source": [
    "Что выведет код?\n",
    "```python\n",
    "```\n",
    "Что выведет код?\n",
    "Выберите правильный вариант\n",
    "Посмотреть результаты"
   ]
  },
  {
   "cell_type": "code",
   "execution_count": null,
   "metadata": {},
   "outputs": [],
   "source": [
    "#88+"
   ]
  },
  {
   "cell_type": "code",
   "execution_count": 6,
   "metadata": {},
   "outputs": [
    {
     "name": "stdout",
     "output_type": "stream",
     "text": [
      "5 9\n"
     ]
    }
   ],
   "source": [
    "def maker(n):\n",
    "    s = 0\n",
    "    def g(x=n):\n",
    "        nonlocal s\n",
    "        s += x\n",
    "        return s\n",
    "    return lambda x: s + x + g()\n",
    "f = maker(2)\n",
    "print(f(3), f(3))"
   ]
  },
  {
   "cell_type": "code",
   "execution_count": null,
   "metadata": {},
   "outputs": [],
   "source": [
    "3 5\n",
    "5 5\n",
    "7 7\n",
    "5 7\n",
    "5 9     #\n",
    "7 9\n",
    "9 9"
   ]
  },
  {
   "cell_type": "markdown",
   "metadata": {},
   "source": [
    "Функция g увеличивает s на n из области видимости f и возвращает его. В первый вызов f: s = 0, поэтому вернет 0 + 3 + (0 + 2). Во-второй вызов: 2 + 3 + (2 + 2) = 9"
   ]
  },
  {
   "cell_type": "code",
   "execution_count": null,
   "metadata": {},
   "outputs": [],
   "source": [
    "Что выведет код?\n",
    "```python\n",
    "```\n",
    "Что выведет код?\n",
    "Выберите правильный вариант\n",
    "Посмотреть результаты"
   ]
  },
  {
   "cell_type": "code",
   "execution_count": null,
   "metadata": {},
   "outputs": [],
   "source": [
    "#89+"
   ]
  },
  {
   "cell_type": "code",
   "execution_count": 7,
   "metadata": {},
   "outputs": [
    {
     "name": "stdout",
     "output_type": "stream",
     "text": [
      "25 25\n"
     ]
    }
   ],
   "source": [
    "f = lambda x, f=lambda x: x**2:  f(x)\n",
    "print(f(5), f(5, f))"
   ]
  },
  {
   "cell_type": "code",
   "execution_count": null,
   "metadata": {},
   "outputs": [],
   "source": [
    "5 5\n",
    "5 (5, 5)\n",
    "5 25\n",
    "5 125\n",
    "5 (25,  25)\n",
    "25 25        #\n",
    "25 125\n",
    "125 125\n",
    "5 (125, 125)"
   ]
  },
  {
   "cell_type": "markdown",
   "metadata": {},
   "source": [
    "Функция f принимает x и f, которое по умолчанию возводит в квадрат.  f(5) - не передали второй аргумент, значит вернет 5 ^ 2 = 25. f(5, f) вернет f(5) = 25, так как суть f - применить второй аргумент (функцию) к первому."
   ]
  },
  {
   "cell_type": "markdown",
   "metadata": {},
   "source": [
    "f принимает x и функцию, по умолчанию x ^ 2.  f(5) - не передали второй аргумент, значит вернет 5 ^ 2 = 25. f(5, f) вернет f(5) = 25, так как суть f - применить второй аргумент (функцию) к первому"
   ]
  },
  {
   "cell_type": "code",
   "execution_count": null,
   "metadata": {},
   "outputs": [],
   "source": [
    "Что выведет код?\n",
    "```python\n",
    "```\n",
    "Что выведет код?\n",
    "Выберите правильный вариант\n",
    "Посмотреть результаты"
   ]
  },
  {
   "cell_type": "code",
   "execution_count": null,
   "metadata": {},
   "outputs": [],
   "source": [
    "#90+"
   ]
  },
  {
   "cell_type": "code",
   "execution_count": 8,
   "metadata": {},
   "outputs": [
    {
     "name": "stdout",
     "output_type": "stream",
     "text": [
      "576\n"
     ]
    }
   ],
   "source": [
    "def maker(n, h=lambda: 3):\n",
    "    return lambda f=h: f()**n, lambda f=h: n**f()\n",
    "f, g = maker(2)\n",
    "r = f(g) + g(f)\n",
    "print(r)"
   ]
  },
  {
   "cell_type": "code",
   "execution_count": null,
   "metadata": {},
   "outputs": [],
   "source": [
    "5\n",
    "17\n",
    "31\n",
    "72\n",
    "73\n",
    "128\n",
    "576   #\n",
    "19699"
   ]
  },
  {
   "cell_type": "code",
   "execution_count": null,
   "metadata": {},
   "outputs": [],
   "source": [
    "n = 2; ^ - степень;\n",
    "f(g) = g() ^ n = (n^3) ** 2 = (2^3)^2 = 64;\n",
    "g(f) = n^f() = n ^ (3 ^ n) = 2 ^ (3 ^ 2) = 2 ^ 9  = 512;\n",
    "64 + 512 = 576"
   ]
  },
  {
   "cell_type": "code",
   "execution_count": null,
   "metadata": {},
   "outputs": [],
   "source": [
    "Что выведет код?\n",
    "```python\n",
    "```\n",
    "Что выведет код?\n",
    "Выберите правильный вариант\n",
    "Посмотреть результаты"
   ]
  },
  {
   "cell_type": "code",
   "execution_count": null,
   "metadata": {},
   "outputs": [],
   "source": [
    "........................................."
   ]
  },
  {
   "cell_type": "code",
   "execution_count": null,
   "metadata": {},
   "outputs": [],
   "source": [
    "#91+"
   ]
  },
  {
   "cell_type": "code",
   "execution_count": 9,
   "metadata": {},
   "outputs": [
    {
     "name": "stdout",
     "output_type": "stream",
     "text": [
      "125\n"
     ]
    }
   ],
   "source": [
    "funcs = [lambda x: x**i for i in range(2, 4)]\n",
    "print(funcs[0](5))"
   ]
  },
  {
   "cell_type": "code",
   "execution_count": null,
   "metadata": {},
   "outputs": [],
   "source": [
    "5\n",
    "25\n",
    "[25]\n",
    "125        #\n",
    "[25, 125]\n",
    "625"
   ]
  },
  {
   "cell_type": "markdown",
   "metadata": {},
   "source": [
    "Код создает список из двух лямбда-функций, которые возводят x в степень i, причем i берется извне функции и в момент вызова i=3(замыкание). funcs[0](5) вернет 5^3 = 125."
   ]
  },
  {
   "cell_type": "code",
   "execution_count": null,
   "metadata": {},
   "outputs": [],
   "source": [
    "Что выведет код?\n",
    "```python\n",
    "```\n",
    "Что выведет код?\n",
    "Выберите правильный вариант\n",
    "Посмотреть результаты"
   ]
  },
  {
   "cell_type": "code",
   "execution_count": null,
   "metadata": {},
   "outputs": [],
   "source": [
    "#92+"
   ]
  },
  {
   "cell_type": "code",
   "execution_count": 10,
   "metadata": {},
   "outputs": [
    {
     "ename": "SyntaxError",
     "evalue": "no binding for nonlocal 'x' found (<ipython-input-10-3cfbaa501261>, line 3)",
     "output_type": "error",
     "traceback": [
      "\u001b[1;36m  File \u001b[1;32m\"<ipython-input-10-3cfbaa501261>\"\u001b[1;36m, line \u001b[1;32m3\u001b[0m\n\u001b[1;33m    nonlocal x\u001b[0m\n\u001b[1;37m    ^\u001b[0m\n\u001b[1;31mSyntaxError\u001b[0m\u001b[1;31m:\u001b[0m no binding for nonlocal 'x' found\n"
     ]
    }
   ],
   "source": [
    "def f():\n",
    "    def g():\n",
    "        nonlocal x\n",
    "        x = 2\n",
    "    g()\n",
    "    print(x)\n",
    "        \n",
    "f()"
   ]
  },
  {
   "cell_type": "code",
   "execution_count": null,
   "metadata": {},
   "outputs": [],
   "source": [
    "2\n",
    "None\n",
    "SyntaxError   #\n",
    "NameError"
   ]
  },
  {
   "cell_type": "markdown",
   "metadata": {},
   "source": [
    "Код определяет внутреннюю функцию g(), которая пытается изменить не глобальную, а внешнюю переменную x с помощью оператора nonlocal. Однако, в данном контексте переменная x не определена в области видимости функции f(). Это приведет к ошибке SyntaxError"
   ]
  },
  {
   "cell_type": "markdown",
   "metadata": {},
   "source": [
    "Код определяет внутреннюю функцию g, она меняет внешнюю переменную x (nonlocal). Однако, в данном контексте переменная x не определена в области видимости функции f. Это приведет к ошибке SyntaxError"
   ]
  },
  {
   "cell_type": "code",
   "execution_count": null,
   "metadata": {},
   "outputs": [],
   "source": [
    "Что выведет код?\n",
    "```python\n",
    "```\n",
    "Что выведет код?\n",
    "Выберите правильный вариант\n",
    "Посмотреть результаты"
   ]
  },
  {
   "cell_type": "code",
   "execution_count": null,
   "metadata": {},
   "outputs": [],
   "source": [
    "#93+"
   ]
  },
  {
   "cell_type": "code",
   "execution_count": 11,
   "metadata": {},
   "outputs": [
    {
     "name": "stdout",
     "output_type": "stream",
     "text": [
      "2\n"
     ]
    }
   ],
   "source": [
    "def f():\n",
    "    def g():\n",
    "        global x\n",
    "        x = 2\n",
    "    g()\n",
    "    print(x)\n",
    "        \n",
    "f()"
   ]
  },
  {
   "cell_type": "code",
   "execution_count": null,
   "metadata": {},
   "outputs": [],
   "source": [
    "2     #\n",
    "None\n",
    "SyntaxError\n",
    "NameError"
   ]
  },
  {
   "cell_type": "markdown",
   "metadata": {},
   "source": [
    "Функция g() использует оператор global для работы с переменной x, устанавливая ее значение равным 2. При этом неважно, была ли определена эта переменная в глобальном пространстве имен ранее."
   ]
  },
  {
   "cell_type": "code",
   "execution_count": null,
   "metadata": {},
   "outputs": [],
   "source": [
    "Что выведет код?\n",
    "```python\n",
    "```\n",
    "Что выведет код?\n",
    "Выберите правильный вариант\n",
    "Посмотреть результаты"
   ]
  },
  {
   "cell_type": "code",
   "execution_count": null,
   "metadata": {},
   "outputs": [],
   "source": [
    "#94+"
   ]
  },
  {
   "cell_type": "code",
   "execution_count": 2,
   "metadata": {},
   "outputs": [
    {
     "name": "stdout",
     "output_type": "stream",
     "text": [
      "1 3 3\n"
     ]
    }
   ],
   "source": [
    "def f(name=\"\", value=0):\n",
    "    import sys\n",
    "    func_name = sys._getframe(0).f_code.co_name\n",
    "    func = sys._getframe(1).f_locals[func_name]\n",
    "    setattr(func, name, value)\n",
    "    return sum(func.__dict__.values())\n",
    "\n",
    "print(f(\"x\", 1), f(\"y\", 2), f())"
   ]
  },
  {
   "cell_type": "code",
   "execution_count": null,
   "metadata": {},
   "outputs": [],
   "source": [
    "1 1 1\n",
    "1 2 2\n",
    "1 2 3\n",
    "1 3 3      #\n",
    "1 2 None\n",
    "3 3 3"
   ]
  },
  {
   "cell_type": "markdown",
   "metadata": {},
   "source": [
    "Здесь через sys_getframe получаем имя текущей функции, а также ссылку на нее из предыдущего стэка вызовов, после чего присваиваем ей как объект переданные атрибут и значение"
   ]
  },
  {
   "cell_type": "code",
   "execution_count": null,
   "metadata": {},
   "outputs": [],
   "source": [
    "Что выведет код?\n",
    "```python\n",
    "```\n",
    "Что выведет код?\n",
    "Выберите правильный вариант\n",
    "Посмотреть результаты"
   ]
  },
  {
   "cell_type": "code",
   "execution_count": null,
   "metadata": {},
   "outputs": [],
   "source": [
    "#95+"
   ]
  },
  {
   "cell_type": "code",
   "execution_count": 13,
   "metadata": {},
   "outputs": [
    {
     "name": "stdout",
     "output_type": "stream",
     "text": [
      "1 2\n"
     ]
    }
   ],
   "source": [
    "a = b, c = [1, 2]\n",
    "a[0] = 10\n",
    "print(b, c)"
   ]
  },
  {
   "cell_type": "code",
   "execution_count": null,
   "metadata": {},
   "outputs": [],
   "source": [
    "1 2   #\n",
    "10 2\n",
    "10 1 2\n",
    "None 2\n",
    "TypeError"
   ]
  },
  {
   "cell_type": "markdown",
   "metadata": {},
   "source": [
    "Это равносильно\n",
    "a = [1, 2];\n",
    "b, c = [1, 2];\n",
    "поэтому изменения в a не отразятся на b и c"
   ]
  },
  {
   "cell_type": "code",
   "execution_count": null,
   "metadata": {},
   "outputs": [],
   "source": [
    "Что выведет код?\n",
    "```python\n",
    "```\n",
    "Что выведет код?\n",
    "Выберите правильный вариант\n",
    "Посмотреть результаты"
   ]
  },
  {
   "cell_type": "code",
   "execution_count": null,
   "metadata": {},
   "outputs": [],
   "source": [
    "след 9 апр 21"
   ]
  },
  {
   "cell_type": "code",
   "execution_count": null,
   "metadata": {},
   "outputs": [],
   "source": [
    "#96+"
   ]
  },
  {
   "cell_type": "code",
   "execution_count": 4,
   "metadata": {},
   "outputs": [
    {
     "ename": "UnboundLocalError",
     "evalue": "local variable 'x' referenced before assignment",
     "output_type": "error",
     "traceback": [
      "\u001b[1;31m---------------------------------------------------------------------------\u001b[0m",
      "\u001b[1;31mUnboundLocalError\u001b[0m                         Traceback (most recent call last)",
      "\u001b[1;32m<ipython-input-4-368d93366b36>\u001b[0m in \u001b[0;36m<module>\u001b[1;34m\u001b[0m\n\u001b[0;32m      5\u001b[0m     \u001b[0mg\u001b[0m\u001b[1;33m(\u001b[0m\u001b[1;33m)\u001b[0m\u001b[1;33m\u001b[0m\u001b[1;33m\u001b[0m\u001b[0m\n\u001b[0;32m      6\u001b[0m     \u001b[0mprint\u001b[0m\u001b[1;33m(\u001b[0m\u001b[0mx\u001b[0m\u001b[1;33m)\u001b[0m\u001b[1;33m\u001b[0m\u001b[1;33m\u001b[0m\u001b[0m\n\u001b[1;32m----> 7\u001b[1;33m \u001b[0mprint\u001b[0m\u001b[1;33m(\u001b[0m\u001b[0mf\u001b[0m\u001b[1;33m(\u001b[0m\u001b[1;33m)\u001b[0m\u001b[1;33m)\u001b[0m\u001b[1;33m\u001b[0m\u001b[1;33m\u001b[0m\u001b[0m\n\u001b[0m",
      "\u001b[1;32m<ipython-input-4-368d93366b36>\u001b[0m in \u001b[0;36mf\u001b[1;34m()\u001b[0m\n\u001b[0;32m      3\u001b[0m     \u001b[1;32mdef\u001b[0m \u001b[0mg\u001b[0m\u001b[1;33m(\u001b[0m\u001b[1;33m)\u001b[0m\u001b[1;33m:\u001b[0m\u001b[1;33m\u001b[0m\u001b[1;33m\u001b[0m\u001b[0m\n\u001b[0;32m      4\u001b[0m         \u001b[0mx\u001b[0m \u001b[1;33m+=\u001b[0m \u001b[1;36m1\u001b[0m\u001b[1;33m\u001b[0m\u001b[1;33m\u001b[0m\u001b[0m\n\u001b[1;32m----> 5\u001b[1;33m     \u001b[0mg\u001b[0m\u001b[1;33m(\u001b[0m\u001b[1;33m)\u001b[0m\u001b[1;33m\u001b[0m\u001b[1;33m\u001b[0m\u001b[0m\n\u001b[0m\u001b[0;32m      6\u001b[0m     \u001b[0mprint\u001b[0m\u001b[1;33m(\u001b[0m\u001b[0mx\u001b[0m\u001b[1;33m)\u001b[0m\u001b[1;33m\u001b[0m\u001b[1;33m\u001b[0m\u001b[0m\n\u001b[0;32m      7\u001b[0m \u001b[0mprint\u001b[0m\u001b[1;33m(\u001b[0m\u001b[0mf\u001b[0m\u001b[1;33m(\u001b[0m\u001b[1;33m)\u001b[0m\u001b[1;33m)\u001b[0m\u001b[1;33m\u001b[0m\u001b[1;33m\u001b[0m\u001b[0m\n",
      "\u001b[1;32m<ipython-input-4-368d93366b36>\u001b[0m in \u001b[0;36mg\u001b[1;34m()\u001b[0m\n\u001b[0;32m      2\u001b[0m     \u001b[0mx\u001b[0m \u001b[1;33m=\u001b[0m \u001b[1;36m1\u001b[0m\u001b[1;33m\u001b[0m\u001b[1;33m\u001b[0m\u001b[0m\n\u001b[0;32m      3\u001b[0m     \u001b[1;32mdef\u001b[0m \u001b[0mg\u001b[0m\u001b[1;33m(\u001b[0m\u001b[1;33m)\u001b[0m\u001b[1;33m:\u001b[0m\u001b[1;33m\u001b[0m\u001b[1;33m\u001b[0m\u001b[0m\n\u001b[1;32m----> 4\u001b[1;33m         \u001b[0mx\u001b[0m \u001b[1;33m+=\u001b[0m \u001b[1;36m1\u001b[0m\u001b[1;33m\u001b[0m\u001b[1;33m\u001b[0m\u001b[0m\n\u001b[0m\u001b[0;32m      5\u001b[0m     \u001b[0mg\u001b[0m\u001b[1;33m(\u001b[0m\u001b[1;33m)\u001b[0m\u001b[1;33m\u001b[0m\u001b[1;33m\u001b[0m\u001b[0m\n\u001b[0;32m      6\u001b[0m     \u001b[0mprint\u001b[0m\u001b[1;33m(\u001b[0m\u001b[0mx\u001b[0m\u001b[1;33m)\u001b[0m\u001b[1;33m\u001b[0m\u001b[1;33m\u001b[0m\u001b[0m\n",
      "\u001b[1;31mUnboundLocalError\u001b[0m: local variable 'x' referenced before assignment"
     ]
    }
   ],
   "source": [
    "def f():\n",
    "    x = 1\n",
    "    def g():\n",
    "        x += 1\n",
    "    g()\n",
    "    print(x)\n",
    "print(f())"
   ]
  },
  {
   "cell_type": "code",
   "execution_count": 6,
   "metadata": {},
   "outputs": [],
   "source": [
    "1\n",
    "2\n",
    "None\n",
    "SyntaxError\n",
    "UnboundLocalError  #"
   ]
  },
  {
   "cell_type": "markdown",
   "metadata": {},
   "source": [
    "Функция g пытается увеличить x на 1, но Python рассматривает x как локальную переменную для g, так как есть присваивание, и это приводит к ошибке UnboundLocalError из того, что x не определена в g."
   ]
  },
  {
   "cell_type": "code",
   "execution_count": null,
   "metadata": {},
   "outputs": [],
   "source": [
    "Что выведет код?\n",
    "```python\n",
    "```\n",
    "Что выведет код?\n",
    "Выберите правильный вариант\n",
    "Посмотреть результаты"
   ]
  },
  {
   "cell_type": "code",
   "execution_count": null,
   "metadata": {},
   "outputs": [],
   "source": [
    "#97+"
   ]
  },
  {
   "cell_type": "code",
   "execution_count": 7,
   "metadata": {},
   "outputs": [
    {
     "name": "stdout",
     "output_type": "stream",
     "text": [
      "[0] [1]\n"
     ]
    }
   ],
   "source": [
    "def func(а, b):\n",
    "    а = 2\n",
    "    b = b[:] \n",
    "    b[0] = 10\n",
    "    \n",
    "a, b = [0], [1]\n",
    "func(a, b)\n",
    "print(a, b)"
   ]
  },
  {
   "cell_type": "code",
   "execution_count": null,
   "metadata": {},
   "outputs": [],
   "source": [
    "[0][10]\n",
    "0 10\n",
    "[0][1]   #\n",
    "0 1\n",
    "[2][10]\n",
    "2 10\n",
    "[2][1]\n",
    "2 1"
   ]
  },
  {
   "cell_type": "markdown",
   "metadata": {},
   "source": [
    "Переменные a и b внутри функции func являются новыми локальными переменными, которые не связаны с внешними переменными a и b. "
   ]
  },
  {
   "cell_type": "code",
   "execution_count": null,
   "metadata": {},
   "outputs": [],
   "source": [
    "Что выведет код?\n",
    "```python\n",
    "```\n",
    "Что выведет код?\n",
    "Выберите правильный вариант\n",
    "Посмотреть результаты"
   ]
  },
  {
   "cell_type": "code",
   "execution_count": null,
   "metadata": {},
   "outputs": [],
   "source": [
    "#98+"
   ]
  },
  {
   "cell_type": "code",
   "execution_count": 8,
   "metadata": {},
   "outputs": [
    {
     "ename": "TypeError",
     "evalue": "'tuple' object does not support item assignment",
     "output_type": "error",
     "traceback": [
      "\u001b[1;31m---------------------------------------------------------------------------\u001b[0m",
      "\u001b[1;31mTypeError\u001b[0m                                 Traceback (most recent call last)",
      "\u001b[1;32m<ipython-input-8-7df43e274d69>\u001b[0m in \u001b[0;36m<module>\u001b[1;34m\u001b[0m\n\u001b[0;32m      4\u001b[0m \u001b[0mx\u001b[0m \u001b[1;33m=\u001b[0m \u001b[1;36m1\u001b[0m\u001b[1;33m\u001b[0m\u001b[1;33m\u001b[0m\u001b[0m\n\u001b[0;32m      5\u001b[0m \u001b[0my\u001b[0m \u001b[1;33m=\u001b[0m \u001b[1;36m1\u001b[0m\u001b[1;33m,\u001b[0m \u001b[1;36m2\u001b[0m\u001b[1;33m\u001b[0m\u001b[1;33m\u001b[0m\u001b[0m\n\u001b[1;32m----> 6\u001b[1;33m \u001b[0mfunc\u001b[0m\u001b[1;33m(\u001b[0m\u001b[0mx\u001b[0m\u001b[1;33m,\u001b[0m \u001b[0my\u001b[0m\u001b[1;33m)\u001b[0m\u001b[1;33m\u001b[0m\u001b[1;33m\u001b[0m\u001b[0m\n\u001b[0m\u001b[0;32m      7\u001b[0m \u001b[0mprint\u001b[0m\u001b[1;33m(\u001b[0m\u001b[0mx\u001b[0m\u001b[1;33m,\u001b[0m \u001b[0my\u001b[0m\u001b[1;33m)\u001b[0m\u001b[1;33m\u001b[0m\u001b[1;33m\u001b[0m\u001b[0m\n",
      "\u001b[1;32m<ipython-input-8-7df43e274d69>\u001b[0m in \u001b[0;36mfunc\u001b[1;34m(a, b)\u001b[0m\n\u001b[0;32m      1\u001b[0m \u001b[1;32mdef\u001b[0m \u001b[0mfunc\u001b[0m\u001b[1;33m(\u001b[0m\u001b[0ma\u001b[0m\u001b[1;33m,\u001b[0m \u001b[0mb\u001b[0m\u001b[1;33m)\u001b[0m\u001b[1;33m:\u001b[0m\u001b[1;33m\u001b[0m\u001b[1;33m\u001b[0m\u001b[0m\n\u001b[0;32m      2\u001b[0m     \u001b[0mа\u001b[0m \u001b[1;33m=\u001b[0m \u001b[1;36m2\u001b[0m\u001b[1;33m\u001b[0m\u001b[1;33m\u001b[0m\u001b[0m\n\u001b[1;32m----> 3\u001b[1;33m     \u001b[0mb\u001b[0m\u001b[1;33m[\u001b[0m\u001b[1;36m0\u001b[0m\u001b[1;33m]\u001b[0m \u001b[1;33m=\u001b[0m \u001b[1;36m10\u001b[0m\u001b[1;33m\u001b[0m\u001b[1;33m\u001b[0m\u001b[0m\n\u001b[0m\u001b[0;32m      4\u001b[0m \u001b[0mx\u001b[0m \u001b[1;33m=\u001b[0m \u001b[1;36m1\u001b[0m\u001b[1;33m\u001b[0m\u001b[1;33m\u001b[0m\u001b[0m\n\u001b[0;32m      5\u001b[0m \u001b[0my\u001b[0m \u001b[1;33m=\u001b[0m \u001b[1;36m1\u001b[0m\u001b[1;33m,\u001b[0m \u001b[1;36m2\u001b[0m\u001b[1;33m\u001b[0m\u001b[1;33m\u001b[0m\u001b[0m\n",
      "\u001b[1;31mTypeError\u001b[0m: 'tuple' object does not support item assignment"
     ]
    }
   ],
   "source": [
    "def func(a, b):\n",
    "    а = 2\n",
    "    b[0] = 10\n",
    "x = 1\n",
    "y = 1, 2\n",
    "func(x, y)\n",
    "print(x, y)"
   ]
  },
  {
   "cell_type": "code",
   "execution_count": null,
   "metadata": {},
   "outputs": [],
   "source": [
    "1(1,2)\n",
    "2(1,2)\n",
    "1(10,2)\n",
    "2(10,2)\n",
    "1 10\n",
    "2 10\n",
    "TypeError   #"
   ]
  },
  {
   "cell_type": "markdown",
   "metadata": {},
   "source": [
    "Кортежи в Python неизменяемы, поэтому операция b[0] = 10 вызовет ошибку."
   ]
  },
  {
   "cell_type": "code",
   "execution_count": null,
   "metadata": {},
   "outputs": [],
   "source": [
    "Что выведет код?\n",
    "```python\n",
    "```\n",
    "Что выведет код?\n",
    "Выберите правильный вариант\n",
    "Посмотреть результаты"
   ]
  },
  {
   "cell_type": "code",
   "execution_count": null,
   "metadata": {},
   "outputs": [],
   "source": [
    "#99+"
   ]
  },
  {
   "cell_type": "code",
   "execution_count": null,
   "metadata": {},
   "outputs": [],
   "source": [
    "Дан код"
   ]
  },
  {
   "cell_type": "code",
   "execution_count": 10,
   "metadata": {},
   "outputs": [],
   "source": [
    "def f(a, b, c, d):\n",
    "    print(a, b, c, d)"
   ]
  },
  {
   "cell_type": "code",
   "execution_count": null,
   "metadata": {},
   "outputs": [],
   "source": [
    "Какой способ передачи аргументов при вызове функции вызовет ошибку?"
   ]
  },
  {
   "cell_type": "code",
   "execution_count": null,
   "metadata": {},
   "outputs": [],
   "source": [
    "f(1, b=2, *(3,), **{\"d\":4})   #\n",
    "f(1, c=2, *(2,), **{\"d\":4}) \n",
    "f(c=3, b=2, a=1, **{\"d\":4}) \n",
    "f(*(1,2), **{\"c\":3, \"d\":4})\n",
    "f(1,*(2,3), **{\"d\":4})\n",
    "f(1, 2, 3, *(4,))"
   ]
  },
  {
   "cell_type": "markdown",
   "metadata": {},
   "source": [
    "Первый вариант не подходит, так как возникает неоднозначность относительно аргумента b, он явно присваивается и в тоже время берется из *(3,)"
   ]
  },
  {
   "cell_type": "code",
   "execution_count": null,
   "metadata": {},
   "outputs": [],
   "source": [
    "Что выведет код?\n",
    "```python\n",
    "```\n",
    "Что выведет код?\n",
    "Выберите правильный вариант\n",
    "Посмотреть результаты"
   ]
  },
  {
   "cell_type": "code",
   "execution_count": null,
   "metadata": {},
   "outputs": [],
   "source": [
    "#100+"
   ]
  },
  {
   "cell_type": "code",
   "execution_count": null,
   "metadata": {},
   "outputs": [],
   "source": [
    "Какое объявление функции не вызовет ошибку во время создания функции?"
   ]
  },
  {
   "cell_type": "code",
   "execution_count": null,
   "metadata": {},
   "outputs": [],
   "source": [
    "def f(a, b=1, *c=(2,), **d): pass\n",
    "def f(a, b, **c, d): pass\n",
    "def f(a=1, b=2, c): pass\n",
    "def f(a=1, *b, c): pass    #\n",
    "def f(a=1, **b, c): pass\n",
    "def f(**a, b=1, c): pass"
   ]
  },
  {
   "cell_type": "markdown",
   "metadata": {},
   "source": [
    "https://towardsdatascience.com/10-examples-to-master-args-and-kwargs-in-python-6f1e8cc30749"
   ]
  },
  {
   "cell_type": "code",
   "execution_count": null,
   "metadata": {},
   "outputs": [],
   "source": [
    "Что выведет код?\n",
    "```python\n",
    "```\n",
    "Что выведет код?\n",
    "Выберите правильный вариант\n",
    "Посмотреть результаты"
   ]
  },
  {
   "cell_type": "code",
   "execution_count": 16,
   "metadata": {},
   "outputs": [],
   "source": [
    "#101+"
   ]
  },
  {
   "cell_type": "code",
   "execution_count": 12,
   "metadata": {},
   "outputs": [
    {
     "ename": "SyntaxError",
     "evalue": "no binding for nonlocal 'x' found (<ipython-input-12-f07264f1c3d8>, line 4)",
     "output_type": "error",
     "traceback": [
      "\u001b[1;36m  File \u001b[1;32m\"<ipython-input-12-f07264f1c3d8>\"\u001b[1;36m, line \u001b[1;32m4\u001b[0m\n\u001b[1;33m    nonlocal x\u001b[0m\n\u001b[1;37m    ^\u001b[0m\n\u001b[1;31mSyntaxError\u001b[0m\u001b[1;31m:\u001b[0m no binding for nonlocal 'x' found\n"
     ]
    }
   ],
   "source": [
    "x = 1\n",
    "def f():\n",
    "    def g():\n",
    "        nonlocal x \n",
    "        print(x)\n",
    "        x += 1\n",
    "    return g"
   ]
  },
  {
   "cell_type": "code",
   "execution_count": null,
   "metadata": {},
   "outputs": [],
   "source": [
    "1\n",
    "2\n",
    "None\n",
    "SyntaxError   #\n",
    "UnboundLocalError\n",
    "NameError"
   ]
  },
  {
   "cell_type": "markdown",
   "metadata": {},
   "source": [
    "Код определяет внутреннюю функцию g(), которая пытается изменить не глобальную, а внешнюю переменную x с помощью оператора nonlocal. Однако, в данном контексте переменная x не определена в области видимости функции f(). Это приведет к ошибке SyntaxError"
   ]
  },
  {
   "cell_type": "markdown",
   "metadata": {},
   "source": [
    "Функция g, меняет не глобальную, а внешнюю переменную x (nonlocal). Однако, в данном контексте переменная x не определена в области видимости функции f. Это приведет к ошибке SyntaxError"
   ]
  },
  {
   "cell_type": "code",
   "execution_count": null,
   "metadata": {},
   "outputs": [],
   "source": [
    "Что выведет код?\n",
    "```python\n",
    "```\n",
    "Что выведет код?\n",
    "Выберите правильный вариант\n",
    "Посмотреть результаты"
   ]
  },
  {
   "cell_type": "code",
   "execution_count": null,
   "metadata": {},
   "outputs": [],
   "source": [
    "#102+"
   ]
  },
  {
   "cell_type": "code",
   "execution_count": 20,
   "metadata": {},
   "outputs": [
    {
     "name": "stdout",
     "output_type": "stream",
     "text": [
      "1 3 10 5 100\n"
     ]
    }
   ],
   "source": [
    "def f(a, b, c, d, e):\n",
    "    print(a, b, c, d, e)\n",
    "\n",
    "f(1, *(3,), c=10, **{\"d\": 5, \"e\": 100})"
   ]
  },
  {
   "cell_type": "code",
   "execution_count": null,
   "metadata": {},
   "outputs": [],
   "source": [
    "1 10 3 5 100\n",
    "1 3 10 5 100  #\n",
    "1 3 None 10 5 100\n",
    "SyntaxError\n",
    "TypeError\n",
    "NameError"
   ]
  },
  {
   "cell_type": "markdown",
   "metadata": {},
   "source": [
    "https://towardsdatascience.com/10-examples-to-master-args-and-kwargs-in-python-6f1e8cc30749"
   ]
  },
  {
   "cell_type": "code",
   "execution_count": null,
   "metadata": {},
   "outputs": [],
   "source": [
    "Что выведет код?\n",
    "```python\n",
    "```\n",
    "Что выведет код?\n",
    "Выберите правильный вариант\n",
    "Посмотреть результаты"
   ]
  },
  {
   "cell_type": "code",
   "execution_count": null,
   "metadata": {},
   "outputs": [],
   "source": [
    "#103+"
   ]
  },
  {
   "cell_type": "code",
   "execution_count": 21,
   "metadata": {},
   "outputs": [
    {
     "name": "stdout",
     "output_type": "stream",
     "text": [
      "11 False\n"
     ]
    }
   ],
   "source": [
    "def f(s:str = \"1\") -> int:\n",
    "    return s * 2\n",
    "print(f(), isinstance(f(), int))"
   ]
  },
  {
   "cell_type": "code",
   "execution_count": null,
   "metadata": {},
   "outputs": [],
   "source": [
    "2 True\n",
    "2 False\n",
    "11 True\n",
    "11 False   #"
   ]
  },
  {
   "cell_type": "markdown",
   "metadata": {},
   "source": [
    "Функция f() возвращает строку, даже если аннотация типа указывает на int. s * 2 дублирует строку, а не умножает число."
   ]
  },
  {
   "cell_type": "code",
   "execution_count": null,
   "metadata": {},
   "outputs": [],
   "source": [
    "Что выведет код?\n",
    "```python\n",
    "```\n",
    "Что выведет код?\n",
    "Выберите правильный вариант\n",
    "Посмотреть результаты"
   ]
  },
  {
   "cell_type": "code",
   "execution_count": null,
   "metadata": {},
   "outputs": [],
   "source": [
    "#104"
   ]
  },
  {
   "cell_type": "code",
   "execution_count": 22,
   "metadata": {},
   "outputs": [
    {
     "name": "stdout",
     "output_type": "stream",
     "text": [
      "29\n"
     ]
    }
   ],
   "source": [
    "def maker(f, args, kwargs):\n",
    "    return 1 + f(*args, **kwargs)\n",
    "m1 = maker(lambda a, b: a + b, (5, ), {\"b\": 2})\n",
    "m2 = maker(lambda a, b: a * b, [4, 5], {})\n",
    "print(m1 + m2)"
   ]
  },
  {
   "cell_type": "code",
   "execution_count": null,
   "metadata": {},
   "outputs": [],
   "source": [
    "8\n",
    "21\n",
    "25\n",
    "28\n",
    "29  #"
   ]
  },
  {
   "cell_type": "markdown",
   "metadata": {},
   "source": [
    "Код использует функцию maker, которая принимает другую функцию и аргументы, применяет их и добавляет 1 к результату. Результаты для m1 и m2 равны 8 и 21, а их сумма равна 29."
   ]
  },
  {
   "cell_type": "code",
   "execution_count": null,
   "metadata": {},
   "outputs": [],
   "source": [
    "Что выведет код?\n",
    "```python\n",
    "```\n",
    "Что выведет код?\n",
    "Выберите правильный вариант\n",
    "Посмотреть результаты"
   ]
  },
  {
   "cell_type": "code",
   "execution_count": null,
   "metadata": {},
   "outputs": [],
   "source": [
    "след задача 22 апр 2021"
   ]
  },
  {
   "cell_type": "code",
   "execution_count": null,
   "metadata": {},
   "outputs": [],
   "source": [
    "/////////////////////////////"
   ]
  },
  {
   "cell_type": "code",
   "execution_count": null,
   "metadata": {},
   "outputs": [],
   "source": [
    "#105+"
   ]
  },
  {
   "cell_type": "code",
   "execution_count": 1,
   "metadata": {},
   "outputs": [
    {
     "name": "stdout",
     "output_type": "stream",
     "text": [
      "-11 10\n"
     ]
    }
   ],
   "source": [
    "def f(test, *args):\n",
    "    res = []\n",
    "    for arg in args:\n",
    "        if test(arg):\n",
    "            res.append(arg)\n",
    "    return sum(res)\n",
    "data = [-4, 2, -1, 5, -6, 3]\n",
    "negative = lambda x: x < 0\n",
    "neg = f(negative, *data)\n",
    "positive = lambda x: x > 0\n",
    "pos = f(positive, *data)\n",
    "print(neg, pos)"
   ]
  },
  {
   "cell_type": "code",
   "execution_count": null,
   "metadata": {},
   "outputs": [],
   "source": [
    "-1\n",
    "0 0\n",
    "-4 2\n",
    "[-4, -1, -6][2, 5, 3]\n",
    "[-11][10]\n",
    "[10][-11]\n",
    "-11 10   #\n",
    "-10 11"
   ]
  },
  {
   "cell_type": "markdown",
   "metadata": {},
   "source": [
    "Функция f применяет функцию test к каждому элементу args для проверки условия, в этом случае добавляет это значение в список. Вывод сумм всех отрицательных, потом положительных элементов."
   ]
  },
  {
   "cell_type": "code",
   "execution_count": null,
   "metadata": {},
   "outputs": [],
   "source": [
    "Что выведет код?\n",
    "```python\n",
    "```\n",
    "Что выведет код?\n",
    "Выберите правильный вариант\n",
    "Посмотреть результаты"
   ]
  },
  {
   "cell_type": "code",
   "execution_count": null,
   "metadata": {},
   "outputs": [],
   "source": [
    "#106+"
   ]
  },
  {
   "cell_type": "code",
   "execution_count": 4,
   "metadata": {},
   "outputs": [
    {
     "name": "stdout",
     "output_type": "stream",
     "text": [
      "4\n"
     ]
    }
   ],
   "source": [
    "def f(transform, *args):\n",
    "    res = args[0]\n",
    "    for arg in args[1:]:\n",
    "        res = transform(res, arg)\n",
    "    return res\n",
    "\n",
    "data = [-4, 2, -1, 5, -6, 3]\n",
    "func = lambda x, n: x * (-1)**n\n",
    "print(int(f(func, *data)))"
   ]
  },
  {
   "cell_type": "code",
   "execution_count": null,
   "metadata": {},
   "outputs": [],
   "source": [
    "-720\n",
    "-4\n",
    "-1\n",
    "1\n",
    "4      #\n",
    "[4, -2, 1, -5, 6, -3]"
   ]
  },
  {
   "cell_type": "markdown",
   "metadata": {},
   "source": [
    "Этот код применяет функцию func, которая меняет знак числа на основе его позиции. Первое числу из data (-4) умножается на -1 в степени каждое последующее из data. В итоге, -4 * (-1) ^ (2-1+5-6+3) = 4"
   ]
  },
  {
   "cell_type": "code",
   "execution_count": null,
   "metadata": {},
   "outputs": [],
   "source": [
    "Что выведет код?\n",
    "```python\n",
    "```\n",
    "Что выведет код?\n",
    "Выберите правильный вариант\n",
    "Посмотреть результаты"
   ]
  },
  {
   "cell_type": "code",
   "execution_count": null,
   "metadata": {},
   "outputs": [],
   "source": [
    "#107+"
   ]
  },
  {
   "cell_type": "code",
   "execution_count": 3,
   "metadata": {},
   "outputs": [
    {
     "name": "stdout",
     "output_type": "stream",
     "text": [
      "-98 -4\n"
     ]
    }
   ],
   "source": [
    "def mintwo(*args):\n",
    "    tmp = list(args) \n",
    "    tmp.sort()\n",
    "    return tmp[0], tmp[1]\n",
    "data = [8, -4, 5, -2, 9, 3, -98]\n",
    "print(*mintwo(*data))"
   ]
  },
  {
   "cell_type": "code",
   "execution_count": null,
   "metadata": {},
   "outputs": [],
   "source": [
    "-102\n",
    "-98\n",
    "-2\n",
    "8 -4\n",
    "-98 -4  #\n",
    "9 8\n",
    "(8, -4)\n",
    "(-98, -4)\n",
    "(9, 8)"
   ]
  },
  {
   "cell_type": "markdown",
   "metadata": {},
   "source": [
    "Этот код определяет функцию mintwo, которая принимает список аргументов, сортирует их и возвращает два наименьших числа. При вызове этой функции для списка data, он выведет два наименьших числа из этого списка, то есть -98 и -4."
   ]
  },
  {
   "cell_type": "markdown",
   "metadata": {},
   "source": [
    "Этот код определяет функцию mintwo, которая принимает список аргументов, сортирует их и возвращает два наименьших числа. "
   ]
  },
  {
   "cell_type": "code",
   "execution_count": null,
   "metadata": {},
   "outputs": [],
   "source": [
    "Что выведет код?\n",
    "```python\n",
    "```\n",
    "Что выведет код?\n",
    "Выберите правильный вариант\n",
    "Посмотреть результаты"
   ]
  },
  {
   "cell_type": "code",
   "execution_count": null,
   "metadata": {},
   "outputs": [],
   "source": [
    "#108+"
   ]
  },
  {
   "cell_type": "code",
   "execution_count": 5,
   "metadata": {},
   "outputs": [
    {
     "name": "stdout",
     "output_type": "stream",
     "text": [
      "msa\n"
     ]
    }
   ],
   "source": [
    "def f(*args):\n",
    "    result = []\n",
    "    for x in args[0]: \n",
    "        if x in result: \n",
    "            continue \n",
    "        for word in args[1:]: \n",
    "            if x not in word: \n",
    "                break \n",
    "        else: \n",
    "            result.append(x) \n",
    "    return ''.join(result)\n",
    "s1, s2, s3= \"message\", \"massage\", \"mask\"\n",
    "print(f(s1, s2, s3))"
   ]
  },
  {
   "cell_type": "code",
   "execution_count": null,
   "metadata": {},
   "outputs": [],
   "source": [
    "mesagk\n",
    "mssa\n",
    "msa    #\n",
    "mesag\n",
    "message\n",
    "massage\n",
    "mask\n",
    "messagemassagemask\n",
    "пустая строка"
   ]
  },
  {
   "cell_type": "markdown",
   "metadata": {},
   "source": [
    "Функция f находит общие символы без повторений в переданных строках в порядке появления их в первой строке. Берется первая строка, осуществляется проход по каждому ее символу и проверяется наличие этого символа во всех остальных строках."
   ]
  },
  {
   "cell_type": "markdown",
   "metadata": {},
   "source": [
    "Находятся общие символы строк без повторений в порядке появления их в первой строке. Берется первая строка, осуществляется проход по каждому ее символу и проверяется наличие этого символа во всех остальных строках."
   ]
  },
  {
   "cell_type": "code",
   "execution_count": null,
   "metadata": {},
   "outputs": [],
   "source": [
    "Что выведет код?\n",
    "```python\n",
    "```\n",
    "Что выведет код?\n",
    "Выберите правильный вариант\n",
    "Посмотреть результаты"
   ]
  },
  {
   "cell_type": "code",
   "execution_count": null,
   "metadata": {},
   "outputs": [],
   "source": [
    "#109+"
   ]
  },
  {
   "cell_type": "markdown",
   "metadata": {},
   "source": [
    "Какой способ проверки того, что переменная a связана с None, является более предпочтительным?"
   ]
  },
  {
   "cell_type": "code",
   "execution_count": null,
   "metadata": {},
   "outputs": [],
   "source": [
    "if not a:\n",
    "if a == None:\n",
    "if a is None:   #\n",
    "if bool(a)==False:\n",
    "if bool(a) is False:"
   ]
  },
  {
   "cell_type": "markdown",
   "metadata": {},
   "source": [
    "Оператор is проверяет, что два имени ссылаются на один и тот же объект, что является быстрой операцией, так как приведение типов не требуется"
   ]
  },
  {
   "cell_type": "code",
   "execution_count": null,
   "metadata": {},
   "outputs": [],
   "source": [
    "Что выведет код?\n",
    "```python\n",
    "```\n",
    "Что выведет код?\n",
    "Выберите правильный вариант\n",
    "Посмотреть результаты"
   ]
  },
  {
   "cell_type": "code",
   "execution_count": null,
   "metadata": {},
   "outputs": [],
   "source": [
    "#110+"
   ]
  },
  {
   "cell_type": "code",
   "execution_count": 6,
   "metadata": {},
   "outputs": [
    {
     "name": "stdout",
     "output_type": "stream",
     "text": [
      "mssa\n"
     ]
    }
   ],
   "source": [
    "def f(*args):\n",
    "    result = []\n",
    "    for x in args[0]:  \n",
    "        for word in args[1:]: \n",
    "            if x not in word: \n",
    "                break \n",
    "        else: \n",
    "            result.append(x) \n",
    "    return ''.join(result)\n",
    "s1, s2, s3= \"message\", \"massage\", \"mask\"\n",
    "print(f(s1, s2, s3))"
   ]
  },
  {
   "cell_type": "code",
   "execution_count": null,
   "metadata": {},
   "outputs": [],
   "source": [
    "mesagk\n",
    "mssa   #\n",
    "msa    \n",
    "mesag\n",
    "message\n",
    "massage\n",
    "mask\n",
    "messagemassagemask\n",
    "пустая строка"
   ]
  },
  {
   "cell_type": "markdown",
   "metadata": {},
   "source": [
    "Функция f находит общие символы с повторениями в переданных строках в порядке появления их в первой строке. Берется первая строка, осуществляется проход по каждому ее символу и проверяется наличие этого символа во всех остальных строках."
   ]
  },
  {
   "cell_type": "markdown",
   "metadata": {},
   "source": [
    "Функция f находит общие символы с повторениями в переданных строках в порядке появления их в первой строке. "
   ]
  },
  {
   "cell_type": "code",
   "execution_count": null,
   "metadata": {},
   "outputs": [],
   "source": [
    "Что выведет код?\n",
    "```python\n",
    "```\n",
    "Что выведет код?\n",
    "Выберите правильный вариант\n",
    "Посмотреть результаты"
   ]
  },
  {
   "cell_type": "code",
   "execution_count": null,
   "metadata": {},
   "outputs": [],
   "source": [
    "#111+"
   ]
  },
  {
   "cell_type": "code",
   "execution_count": 7,
   "metadata": {},
   "outputs": [
    {
     "name": "stdout",
     "output_type": "stream",
     "text": [
      "hree\n"
     ]
    }
   ],
   "source": [
    "def f(*args):\n",
    "    res = \"\"\n",
    "    l = len(\"\".join(args[:-1]))\n",
    "    for i, s in enumerate(\"\".join(args)):\n",
    "        if i > l:\n",
    "            res += s\n",
    "    return res\n",
    "s1, s2, s3= \"one\", \"two\", \"three\"\n",
    "print(f(s1, s2, s3))"
   ]
  },
  {
   "cell_type": "code",
   "execution_count": null,
   "metadata": {},
   "outputs": [],
   "source": [
    "three\n",
    "hree   #\n",
    "two\n",
    "wo\n",
    "one\n",
    "ne\n",
    "onetwothree\n",
    "newohree"
   ]
  },
  {
   "cell_type": "markdown",
   "metadata": {},
   "source": [
    "l = 6 (кол-во символов в строке \"onetwo\")\n",
    "В \"onetwothree\" находятся символы, позиции которых больше 6 и объединяются. То есть hree"
   ]
  },
  {
   "cell_type": "code",
   "execution_count": null,
   "metadata": {},
   "outputs": [],
   "source": [
    "Что выведет код?\n",
    "```python\n",
    "```\n",
    "Что выведет код?\n",
    "Выберите правильный вариант\n",
    "Посмотреть результаты"
   ]
  },
  {
   "cell_type": "code",
   "execution_count": null,
   "metadata": {},
   "outputs": [],
   "source": [
    "#112+"
   ]
  },
  {
   "cell_type": "code",
   "execution_count": 8,
   "metadata": {},
   "outputs": [
    {
     "data": {
      "text/plain": [
       "-2"
      ]
     },
     "execution_count": 8,
     "metadata": {},
     "output_type": "execute_result"
    }
   ],
   "source": [
    "def mineven(*args):\n",
    "    res = args[0]\n",
    "    for arg in args[1: ]:\n",
    "        if arg < res and arg % 2 == 0:\n",
    "            res = arg\n",
    "    return res\n",
    "data = [3, 2, 1, 0, -1, -2, -3]\n",
    "mineven(*data)"
   ]
  },
  {
   "cell_type": "code",
   "execution_count": null,
   "metadata": {},
   "outputs": [],
   "source": [
    "-3\n",
    "-2   #\n",
    "-1\n",
    "0\n",
    "[2, 0, -2]\n",
    "[-1, -2, -3]\n",
    "[-3, -2, -1, 0, 1, 2]"
   ]
  },
  {
   "cell_type": "markdown",
   "metadata": {},
   "source": [
    "Этот код определяет функцию mineven, которая ищет наименьшее четное число среди аргументов. Затем функция применяется к списку data, содержащему числа [3, 2, 1, 0, -1, -2, -3]. Возвращается наименьшее четное число из этого списка, а именно -2."
   ]
  },
  {
   "cell_type": "markdown",
   "metadata": {},
   "source": [
    "Этот код определяет функцию mineven, которая ищет наименьшее четное число среди аргументов. "
   ]
  },
  {
   "cell_type": "code",
   "execution_count": null,
   "metadata": {},
   "outputs": [],
   "source": [
    "Что выведет код?\n",
    "```python\n",
    "```\n",
    "Что выведет код?\n",
    "Выберите правильный вариант\n",
    "Посмотреть результаты"
   ]
  },
  {
   "cell_type": "code",
   "execution_count": null,
   "metadata": {},
   "outputs": [],
   "source": [
    "#113+"
   ]
  },
  {
   "cell_type": "code",
   "execution_count": 10,
   "metadata": {},
   "outputs": [
    {
     "name": "stdout",
     "output_type": "stream",
     "text": [
      "mesagk\n"
     ]
    }
   ],
   "source": [
    "def f(*args):\n",
    "    result = []\n",
    "    for seq in args:\n",
    "        for x in seq:\n",
    "            if not x in result:\n",
    "                result.append(x)\n",
    "    return ''.join(result)\n",
    "s1, s2, s3= \"message\", \"massage\", \"mask\"\n",
    "print(f(s1, s2, s3))"
   ]
  },
  {
   "cell_type": "code",
   "execution_count": null,
   "metadata": {},
   "outputs": [],
   "source": [
    "mesagk  #\n",
    "mssa   \n",
    "msa    \n",
    "mesag\n",
    "message\n",
    "massage\n",
    "mask\n",
    "messagemassagemask\n",
    "пустая строка"
   ]
  },
  {
   "cell_type": "markdown",
   "metadata": {},
   "source": [
    "В f осуществляется проход по каждому символу в каждой из переданных строк и добавляется символ в результирующий список только если он еще не присутствует в нем. Затем эти символы объединяются в одну строку."
   ]
  },
  {
   "cell_type": "markdown",
   "metadata": {},
   "source": [
    "В f осуществляется проход по каждому символу в каждой из переданных строк и добавляется символ в результирующий список, если его еще там нет. Затем эти символы объединяются в одну строку."
   ]
  },
  {
   "cell_type": "code",
   "execution_count": null,
   "metadata": {},
   "outputs": [],
   "source": [
    "Что выведет код?\n",
    "```python\n",
    "```\n",
    "Что выведет код?\n",
    "Выберите правильный вариант\n",
    "Посмотреть результаты"
   ]
  },
  {
   "cell_type": "code",
   "execution_count": null,
   "metadata": {},
   "outputs": [],
   "source": [
    "#114+"
   ]
  },
  {
   "cell_type": "code",
   "execution_count": 11,
   "metadata": {},
   "outputs": [
    {
     "name": "stdout",
     "output_type": "stream",
     "text": [
      "ell\n"
     ]
    }
   ],
   "source": [
    "def f(*args):\n",
    "    result = []\n",
    "    for x in args[0]:\n",
    "        for w in args[1:]:\n",
    "            if x in w:\n",
    "                break\n",
    "        else:\n",
    "            result.append(x)\n",
    "    return \"\".join(result)\n",
    "\n",
    "s1, s2, s3= \"hello\", \"hi\", \"good morning\"\n",
    "print(f(s1, s2, s3))"
   ]
  },
  {
   "cell_type": "code",
   "execution_count": null,
   "metadata": {},
   "outputs": [],
   "source": [
    "hellohigoodmorning\n",
    "hello\n",
    "goodmorning\n",
    "hi\n",
    "ell  #\n",
    "heloigd mrn\n",
    "пустая строка"
   ]
  },
  {
   "cell_type": "markdown",
   "metadata": {},
   "source": [
    "Функция f проходит по каждому символу в первой переданной строке и добавляет его в результат только в том случае, если он не встречается в остальных строках. "
   ]
  },
  {
   "cell_type": "code",
   "execution_count": null,
   "metadata": {},
   "outputs": [],
   "source": [
    "Что выведет код?\n",
    "```python\n",
    "```\n",
    "Что выведет код?\n",
    "Выберите правильный вариант\n",
    "Посмотреть результаты"
   ]
  },
  {
   "cell_type": "code",
   "execution_count": null,
   "metadata": {},
   "outputs": [],
   "source": [
    "след зад 5 мая 2021"
   ]
  },
  {
   "cell_type": "code",
   "execution_count": null,
   "metadata": {},
   "outputs": [],
   "source": [
    "/////////////////////////////"
   ]
  },
  {
   "cell_type": "code",
   "execution_count": null,
   "metadata": {},
   "outputs": [],
   "source": [
    "#115+"
   ]
  },
  {
   "cell_type": "code",
   "execution_count": 1,
   "metadata": {},
   "outputs": [
    {
     "data": {
      "text/plain": [
       "[1, 2, 3, 4, 5]"
      ]
     },
     "execution_count": 1,
     "metadata": {},
     "output_type": "execute_result"
    }
   ],
   "source": [
    "sorted([1, 2, 3, 4, 5], key=lambda x: -x, reverse=True)"
   ]
  },
  {
   "cell_type": "code",
   "execution_count": null,
   "metadata": {},
   "outputs": [],
   "source": [
    "[1, 2, 3, 4, 5]   #\n",
    "[-1, -2, -3, -4, -5]\n",
    "[5, 4, 3, 2, 1]\n",
    "[-5, -4, -3, -2, -1]\n",
    "None\n",
    "TypeError"
   ]
  },
  {
   "cell_type": "markdown",
   "metadata": {},
   "source": [
    "Код сортирует список в обратном порядке, используя key=lambda x: -x, что инвертирует знаки элементов. Затем, с помощью reverse=True, список снова инвертируется в исходный порядок. "
   ]
  },
  {
   "cell_type": "code",
   "execution_count": null,
   "metadata": {},
   "outputs": [],
   "source": [
    "Что выведет код?\n",
    "```python\n",
    "```\n",
    "Что выведет код?\n",
    "Выберите правильный вариант\n",
    "Посмотреть результаты"
   ]
  },
  {
   "cell_type": "code",
   "execution_count": null,
   "metadata": {},
   "outputs": [],
   "source": [
    "#116+"
   ]
  },
  {
   "cell_type": "code",
   "execution_count": 2,
   "metadata": {},
   "outputs": [
    {
     "data": {
      "text/plain": [
       "15"
      ]
     },
     "execution_count": 2,
     "metadata": {},
     "output_type": "execute_result"
    }
   ],
   "source": [
    "def f(arr):\n",
    "    if not arr:\n",
    "        return 0\n",
    "    return arr[0] + f(arr[1:]) \n",
    "f([1, 2, 3, 4, 5])"
   ]
  },
  {
   "cell_type": "code",
   "execution_count": null,
   "metadata": {},
   "outputs": [],
   "source": [
    "0\n",
    "1\n",
    "3\n",
    "5\n",
    "15    #\n",
    "IndexError"
   ]
  },
  {
   "cell_type": "markdown",
   "metadata": {},
   "source": [
    "f рекурсивно суммирует элементы списка arr. Если список пуст, f возвращает 0. Иначе вызывается опять функция f с укороченным на первый элемент списком и прибавляется к первому элементу этого списка."
   ]
  },
  {
   "cell_type": "code",
   "execution_count": null,
   "metadata": {},
   "outputs": [],
   "source": [
    "Что выведет код?\n",
    "```python\n",
    "```\n",
    "Что выведет код?\n",
    "Выберите правильный вариант\n",
    "Посмотреть результаты"
   ]
  },
  {
   "cell_type": "code",
   "execution_count": null,
   "metadata": {},
   "outputs": [],
   "source": [
    "#117+"
   ]
  },
  {
   "cell_type": "code",
   "execution_count": null,
   "metadata": {},
   "outputs": [],
   "source": [
    "Как называется результат вычисления данной функции?"
   ]
  },
  {
   "cell_type": "code",
   "execution_count": null,
   "metadata": {},
   "outputs": [],
   "source": [
    "def f(n):\n",
    "    return n * f(n-1) if n > 1 else 1"
   ]
  },
  {
   "cell_type": "code",
   "execution_count": null,
   "metadata": {},
   "outputs": [],
   "source": [
    "факториал  #\n",
    "свертка\n",
    "разложение\n",
    "среднее\n",
    "подстановка\n",
    "композиция\n"
   ]
  },
  {
   "cell_type": "markdown",
   "metadata": {},
   "source": [
    "Факториал числа - это произведение всех целых чисел от 1 до этого числа включительно. Функция возвращает 1, если n меньше или равно 1; в противном случае возвращает произведение n на факториал n-1."
   ]
  },
  {
   "cell_type": "code",
   "execution_count": null,
   "metadata": {},
   "outputs": [],
   "source": [
    "Что выведет код?\n",
    "```python\n",
    "```\n",
    "Что выведет код?\n",
    "Выберите правильный вариант\n",
    "Посмотреть результаты"
   ]
  },
  {
   "cell_type": "code",
   "execution_count": null,
   "metadata": {},
   "outputs": [],
   "source": [
    "#118+"
   ]
  },
  {
   "cell_type": "code",
   "execution_count": 3,
   "metadata": {},
   "outputs": [
    {
     "name": "stdout",
     "output_type": "stream",
     "text": [
      "0\n"
     ]
    }
   ],
   "source": [
    "def f(arr):\n",
    "    return 0 if not arr else arr[0] + f(arr[1:])\n",
    "print(f([]))"
   ]
  },
  {
   "cell_type": "code",
   "execution_count": null,
   "metadata": {},
   "outputs": [],
   "source": [
    "0   #\n",
    "None\n",
    "IndexError\n",
    "ValueError\n",
    "TypeError"
   ]
  },
  {
   "cell_type": "markdown",
   "metadata": {},
   "source": [
    "Функция f рекурсивно суммирует элементы списка arr. Если список пуст, функция возвращает 0. Вызов f([]) возвращает 0, так как список пуст."
   ]
  },
  {
   "cell_type": "code",
   "execution_count": null,
   "metadata": {},
   "outputs": [],
   "source": [
    "Что выведет код?\n",
    "```python\n",
    "```\n",
    "Что выведет код?\n",
    "Выберите правильный вариант\n",
    "Посмотреть результаты"
   ]
  },
  {
   "cell_type": "code",
   "execution_count": null,
   "metadata": {},
   "outputs": [],
   "source": [
    "#119 11 январь  2024+"
   ]
  },
  {
   "cell_type": "code",
   "execution_count": 4,
   "metadata": {},
   "outputs": [
    {
     "name": "stdout",
     "output_type": "stream",
     "text": [
      "3\n"
     ]
    }
   ],
   "source": [
    "def f(arr):\n",
    "    return 0 if not arr else arr[0] + f(arr[1:])\n",
    "print(f([1, 2]))"
   ]
  },
  {
   "cell_type": "code",
   "execution_count": null,
   "metadata": {},
   "outputs": [],
   "source": [
    "0\n",
    "1\n",
    "2\n",
    "3  #\n",
    "4\n",
    "None\n",
    "IndexError\n",
    "ValueError\n",
    "TypeError"
   ]
  },
  {
   "cell_type": "markdown",
   "metadata": {},
   "source": [
    "Функция f рекурсивно суммирует элементы списка arr. На каждой итерации возвращает сумму первого элемента списка и результат вызова f от укороченного списка (без первого элемента)."
   ]
  },
  {
   "cell_type": "code",
   "execution_count": null,
   "metadata": {},
   "outputs": [],
   "source": [
    "Что выведет код?\n",
    "```python\n",
    "```\n",
    "Что выведет код?\n",
    "Выберите правильный вариант\n",
    "Посмотреть результаты"
   ]
  },
  {
   "cell_type": "code",
   "execution_count": null,
   "metadata": {},
   "outputs": [],
   "source": [
    "#120 20 май 2024+"
   ]
  },
  {
   "cell_type": "code",
   "execution_count": 5,
   "metadata": {},
   "outputs": [
    {
     "name": "stdout",
     "output_type": "stream",
     "text": [
      "6\n"
     ]
    }
   ],
   "source": [
    "def f(arr):\n",
    "    return 0 if not arr else arr[0] + f(arr[2:])\n",
    "print(f([3, 3, 3]))"
   ]
  },
  {
   "cell_type": "code",
   "execution_count": null,
   "metadata": {},
   "outputs": [],
   "source": [
    "3\n",
    "6   #\n",
    "9\n",
    "None\n",
    "IndexError\n",
    "ValueError\n",
    "TypeError"
   ]
  },
  {
   "cell_type": "markdown",
   "metadata": {},
   "source": [
    "На каждой итерации f рекурсивно суммирует элементы списка arr, пропуская элемент под индексом 1. "
   ]
  },
  {
   "cell_type": "code",
   "execution_count": null,
   "metadata": {},
   "outputs": [],
   "source": [
    "Что выведет код?\n",
    "```python\n",
    "```\n",
    "Что выведет код?\n",
    "Выберите правильный вариант\n",
    "Посмотреть результаты"
   ]
  },
  {
   "cell_type": "code",
   "execution_count": null,
   "metadata": {},
   "outputs": [],
   "source": [
    "#121+"
   ]
  },
  {
   "cell_type": "code",
   "execution_count": 6,
   "metadata": {},
   "outputs": [
    {
     "ename": "IndexError",
     "evalue": "list index out of range",
     "output_type": "error",
     "traceback": [
      "\u001b[1;31m---------------------------------------------------------------------------\u001b[0m",
      "\u001b[1;31mIndexError\u001b[0m                                Traceback (most recent call last)",
      "\u001b[1;32m<ipython-input-6-235501b22e0b>\u001b[0m in \u001b[0;36m<module>\u001b[1;34m\u001b[0m\n\u001b[0;32m      1\u001b[0m \u001b[1;32mdef\u001b[0m \u001b[0mf\u001b[0m\u001b[1;33m(\u001b[0m\u001b[0marr\u001b[0m\u001b[1;33m)\u001b[0m\u001b[1;33m:\u001b[0m\u001b[1;33m\u001b[0m\u001b[1;33m\u001b[0m\u001b[0m\n\u001b[0;32m      2\u001b[0m     \u001b[1;32mreturn\u001b[0m \u001b[0marr\u001b[0m\u001b[1;33m[\u001b[0m\u001b[1;36m0\u001b[0m\u001b[1;33m]\u001b[0m \u001b[1;32mif\u001b[0m \u001b[0mlen\u001b[0m\u001b[1;33m(\u001b[0m\u001b[0marr\u001b[0m\u001b[1;33m)\u001b[0m \u001b[1;33m==\u001b[0m \u001b[1;36m1\u001b[0m \u001b[1;32melse\u001b[0m \u001b[0marr\u001b[0m\u001b[1;33m[\u001b[0m\u001b[1;36m0\u001b[0m\u001b[1;33m]\u001b[0m \u001b[1;33m+\u001b[0m \u001b[0mf\u001b[0m\u001b[1;33m(\u001b[0m\u001b[0marr\u001b[0m\u001b[1;33m[\u001b[0m\u001b[1;36m1\u001b[0m\u001b[1;33m:\u001b[0m\u001b[1;33m]\u001b[0m\u001b[1;33m)\u001b[0m\u001b[1;33m\u001b[0m\u001b[1;33m\u001b[0m\u001b[0m\n\u001b[1;32m----> 3\u001b[1;33m \u001b[0mprint\u001b[0m\u001b[1;33m(\u001b[0m\u001b[0mf\u001b[0m\u001b[1;33m(\u001b[0m\u001b[1;33m[\u001b[0m\u001b[1;33m]\u001b[0m\u001b[1;33m)\u001b[0m\u001b[1;33m)\u001b[0m\u001b[1;33m\u001b[0m\u001b[1;33m\u001b[0m\u001b[0m\n\u001b[0m",
      "\u001b[1;32m<ipython-input-6-235501b22e0b>\u001b[0m in \u001b[0;36mf\u001b[1;34m(arr)\u001b[0m\n\u001b[0;32m      1\u001b[0m \u001b[1;32mdef\u001b[0m \u001b[0mf\u001b[0m\u001b[1;33m(\u001b[0m\u001b[0marr\u001b[0m\u001b[1;33m)\u001b[0m\u001b[1;33m:\u001b[0m\u001b[1;33m\u001b[0m\u001b[1;33m\u001b[0m\u001b[0m\n\u001b[1;32m----> 2\u001b[1;33m     \u001b[1;32mreturn\u001b[0m \u001b[0marr\u001b[0m\u001b[1;33m[\u001b[0m\u001b[1;36m0\u001b[0m\u001b[1;33m]\u001b[0m \u001b[1;32mif\u001b[0m \u001b[0mlen\u001b[0m\u001b[1;33m(\u001b[0m\u001b[0marr\u001b[0m\u001b[1;33m)\u001b[0m \u001b[1;33m==\u001b[0m \u001b[1;36m1\u001b[0m \u001b[1;32melse\u001b[0m \u001b[0marr\u001b[0m\u001b[1;33m[\u001b[0m\u001b[1;36m0\u001b[0m\u001b[1;33m]\u001b[0m \u001b[1;33m+\u001b[0m \u001b[0mf\u001b[0m\u001b[1;33m(\u001b[0m\u001b[0marr\u001b[0m\u001b[1;33m[\u001b[0m\u001b[1;36m1\u001b[0m\u001b[1;33m:\u001b[0m\u001b[1;33m]\u001b[0m\u001b[1;33m)\u001b[0m\u001b[1;33m\u001b[0m\u001b[1;33m\u001b[0m\u001b[0m\n\u001b[0m\u001b[0;32m      3\u001b[0m \u001b[0mprint\u001b[0m\u001b[1;33m(\u001b[0m\u001b[0mf\u001b[0m\u001b[1;33m(\u001b[0m\u001b[1;33m[\u001b[0m\u001b[1;33m]\u001b[0m\u001b[1;33m)\u001b[0m\u001b[1;33m)\u001b[0m\u001b[1;33m\u001b[0m\u001b[1;33m\u001b[0m\u001b[0m\n",
      "\u001b[1;31mIndexError\u001b[0m: list index out of range"
     ]
    }
   ],
   "source": [
    "def f(arr):\n",
    "    return arr[0] if len(arr) == 1 else arr[0] + f(arr[1:])\n",
    "print(f([]))"
   ]
  },
  {
   "cell_type": "code",
   "execution_count": null,
   "metadata": {},
   "outputs": [],
   "source": [
    "0\n",
    "None\n",
    "IndexError   #\n",
    "ValueError\n",
    "TypeError"
   ]
  },
  {
   "cell_type": "markdown",
   "metadata": {},
   "source": [
    "f рекурсивно суммирует элементы списка arr. Если список состоит из одного элемента, функция возвращает этот элемент. Однако вызов f([]) вызовет ошибку, так как список пуст и arr[0] не определено."
   ]
  },
  {
   "cell_type": "code",
   "execution_count": null,
   "metadata": {},
   "outputs": [],
   "source": [
    "Что выведет код?\n",
    "```python\n",
    "```\n",
    "Что выведет код?\n",
    "Выберите правильный вариант\n",
    "Посмотреть результаты"
   ]
  },
  {
   "cell_type": "code",
   "execution_count": null,
   "metadata": {},
   "outputs": [],
   "source": [
    "#122+"
   ]
  },
  {
   "cell_type": "code",
   "execution_count": 7,
   "metadata": {},
   "outputs": [
    {
     "ename": "ValueError",
     "evalue": "not enough values to unpack (expected at least 1, got 0)",
     "output_type": "error",
     "traceback": [
      "\u001b[1;31m---------------------------------------------------------------------------\u001b[0m",
      "\u001b[1;31mValueError\u001b[0m                                Traceback (most recent call last)",
      "\u001b[1;32m<ipython-input-7-64ba9f4b66e9>\u001b[0m in \u001b[0;36m<module>\u001b[1;34m\u001b[0m\n\u001b[0;32m      2\u001b[0m     \u001b[0mfirst\u001b[0m\u001b[1;33m,\u001b[0m \u001b[1;33m*\u001b[0m\u001b[0mrest\u001b[0m \u001b[1;33m=\u001b[0m \u001b[0marr\u001b[0m\u001b[1;33m\u001b[0m\u001b[1;33m\u001b[0m\u001b[0m\n\u001b[0;32m      3\u001b[0m     \u001b[1;32mreturn\u001b[0m \u001b[0mfirst\u001b[0m \u001b[1;32mif\u001b[0m \u001b[1;32mnot\u001b[0m \u001b[0mrest\u001b[0m \u001b[1;32melse\u001b[0m \u001b[0mfirst\u001b[0m \u001b[1;33m+\u001b[0m \u001b[0mf\u001b[0m\u001b[1;33m(\u001b[0m\u001b[0mrest\u001b[0m\u001b[1;33m)\u001b[0m\u001b[1;33m\u001b[0m\u001b[1;33m\u001b[0m\u001b[0m\n\u001b[1;32m----> 4\u001b[1;33m \u001b[0mprint\u001b[0m\u001b[1;33m(\u001b[0m\u001b[0mf\u001b[0m\u001b[1;33m(\u001b[0m\u001b[1;33m[\u001b[0m\u001b[1;33m]\u001b[0m\u001b[1;33m)\u001b[0m\u001b[1;33m)\u001b[0m\u001b[1;33m\u001b[0m\u001b[1;33m\u001b[0m\u001b[0m\n\u001b[0m",
      "\u001b[1;32m<ipython-input-7-64ba9f4b66e9>\u001b[0m in \u001b[0;36mf\u001b[1;34m(arr)\u001b[0m\n\u001b[0;32m      1\u001b[0m \u001b[1;32mdef\u001b[0m \u001b[0mf\u001b[0m\u001b[1;33m(\u001b[0m\u001b[0marr\u001b[0m\u001b[1;33m)\u001b[0m\u001b[1;33m:\u001b[0m\u001b[1;33m\u001b[0m\u001b[1;33m\u001b[0m\u001b[0m\n\u001b[1;32m----> 2\u001b[1;33m     \u001b[0mfirst\u001b[0m\u001b[1;33m,\u001b[0m \u001b[1;33m*\u001b[0m\u001b[0mrest\u001b[0m \u001b[1;33m=\u001b[0m \u001b[0marr\u001b[0m\u001b[1;33m\u001b[0m\u001b[1;33m\u001b[0m\u001b[0m\n\u001b[0m\u001b[0;32m      3\u001b[0m     \u001b[1;32mreturn\u001b[0m \u001b[0mfirst\u001b[0m \u001b[1;32mif\u001b[0m \u001b[1;32mnot\u001b[0m \u001b[0mrest\u001b[0m \u001b[1;32melse\u001b[0m \u001b[0mfirst\u001b[0m \u001b[1;33m+\u001b[0m \u001b[0mf\u001b[0m\u001b[1;33m(\u001b[0m\u001b[0mrest\u001b[0m\u001b[1;33m)\u001b[0m\u001b[1;33m\u001b[0m\u001b[1;33m\u001b[0m\u001b[0m\n\u001b[0;32m      4\u001b[0m \u001b[0mprint\u001b[0m\u001b[1;33m(\u001b[0m\u001b[0mf\u001b[0m\u001b[1;33m(\u001b[0m\u001b[1;33m[\u001b[0m\u001b[1;33m]\u001b[0m\u001b[1;33m)\u001b[0m\u001b[1;33m)\u001b[0m\u001b[1;33m\u001b[0m\u001b[1;33m\u001b[0m\u001b[0m\n",
      "\u001b[1;31mValueError\u001b[0m: not enough values to unpack (expected at least 1, got 0)"
     ]
    }
   ],
   "source": [
    "def f(arr):\n",
    "    first, *rest = arr\n",
    "    return first if not rest else first + f(rest)\n",
    "print(f([]))"
   ]
  },
  {
   "cell_type": "code",
   "execution_count": null,
   "metadata": {},
   "outputs": [],
   "source": [
    "0\n",
    "None\n",
    "IndexError   \n",
    "ValueError   #\n",
    "TypeError"
   ]
  },
  {
   "cell_type": "markdown",
   "metadata": {},
   "source": [
    "f рекурсивно суммирует элементы списка arr, распаковывая первый элемент и оставшиеся элементы на каждом шаге. Если в rest нет элементов, функция возвращает первый элемент. Однако вызов f([]) вызовет ошибку, так как список пуст и first не определено."
   ]
  },
  {
   "cell_type": "code",
   "execution_count": null,
   "metadata": {},
   "outputs": [],
   "source": [
    "Что выведет код?\n",
    "```python\n",
    "```\n",
    "Что выведет код?\n",
    "Выберите правильный вариант\n",
    "Посмотреть результаты"
   ]
  },
  {
   "cell_type": "code",
   "execution_count": null,
   "metadata": {},
   "outputs": [],
   "source": [
    "#123+"
   ]
  },
  {
   "cell_type": "code",
   "execution_count": 8,
   "metadata": {},
   "outputs": [
    {
     "name": "stdout",
     "output_type": "stream",
     "text": [
      "49\n"
     ]
    }
   ],
   "source": [
    "def f(n):\n",
    "    def g(x):\n",
    "        return x**n\n",
    "    return g\n",
    "g = f(2)\n",
    "print(g(7))"
   ]
  },
  {
   "cell_type": "code",
   "execution_count": null,
   "metadata": {},
   "outputs": [],
   "source": [
    "0\n",
    "1\n",
    "2\n",
    "4\n",
    "7\n",
    "49    #\n",
    "128\n",
    "None\n",
    "TypeError"
   ]
  },
  {
   "cell_type": "markdown",
   "metadata": {},
   "source": [
    "f принимает число n и возвращает g, которая возводит свой аргумент x в степень n. После вызова f(2), мы получаем g, возводящую число в квадрат. При вызове g(7) получаем результат 49."
   ]
  },
  {
   "cell_type": "code",
   "execution_count": null,
   "metadata": {},
   "outputs": [],
   "source": [
    "Что выведет код?\n",
    "```python\n",
    "```\n",
    "Что выведет код?\n",
    "Выберите правильный вариант\n",
    "Посмотреть результаты"
   ]
  },
  {
   "cell_type": "code",
   "execution_count": null,
   "metadata": {},
   "outputs": [],
   "source": [
    "#124+"
   ]
  },
  {
   "cell_type": "code",
   "execution_count": 9,
   "metadata": {},
   "outputs": [
    {
     "name": "stdout",
     "output_type": "stream",
     "text": [
      "None None 10 None 5\n"
     ]
    }
   ],
   "source": [
    "def f():\n",
    "    _x = None\n",
    "    def g(x=None):\n",
    "        nonlocal _x\n",
    "        if x is None:\n",
    "            return _x\n",
    "        _x = x\n",
    "    return g\n",
    "g = f()\n",
    "print(g(), g(10), g(), g(5), g())"
   ]
  },
  {
   "cell_type": "code",
   "execution_count": null,
   "metadata": {},
   "outputs": [],
   "source": [
    "None None 10 10 5\n",
    "None 10 10 5 5\n",
    "None None 10 None 5   #\n",
    "None None 10 5 5\n",
    "None 10 None 5 None"
   ]
  },
  {
   "cell_type": "markdown",
   "metadata": {},
   "source": [
    "При установке значений g(10) и g(5) они сохраняются, но возвращается None. При вызове g() возвращается последнее сохраненное значение или None в начале(если не было сохранения)."
   ]
  },
  {
   "cell_type": "code",
   "execution_count": null,
   "metadata": {},
   "outputs": [],
   "source": [
    "Что выведет код?\n",
    "```python\n",
    "```\n",
    "Что выведет код?\n",
    "Выберите правильный вариант\n",
    "Посмотреть результаты"
   ]
  },
  {
   "cell_type": "code",
   "execution_count": null,
   "metadata": {},
   "outputs": [],
   "source": [
    "17 may 2021 next task"
   ]
  },
  {
   "cell_type": "code",
   "execution_count": null,
   "metadata": {},
   "outputs": [],
   "source": [
    "/////////////////////"
   ]
  },
  {
   "cell_type": "code",
   "execution_count": null,
   "metadata": {},
   "outputs": [],
   "source": [
    "#125+"
   ]
  },
  {
   "cell_type": "code",
   "execution_count": 1,
   "metadata": {},
   "outputs": [
    {
     "name": "stdout",
     "output_type": "stream",
     "text": [
      "x y\n"
     ]
    }
   ],
   "source": [
    "def f(x):\n",
    "    y = x ** 2\n",
    "    return y\n",
    "print(*f.__code__.co_varnames)"
   ]
  },
  {
   "cell_type": "code",
   "execution_count": null,
   "metadata": {},
   "outputs": [],
   "source": [
    "x\n",
    "x 2\n",
    "x y   #\n",
    "x y 2\n",
    "y 2\n",
    "y"
   ]
  },
  {
   "cell_type": "markdown",
   "metadata": {},
   "source": [
    "Способ получения локальных переменных функции через объект ее кода"
   ]
  },
  {
   "cell_type": "code",
   "execution_count": null,
   "metadata": {},
   "outputs": [],
   "source": [
    "Что выведет код?\n",
    "```python\n",
    "```\n",
    "Что выведет код?\n",
    "Выберите правильный вариант\n",
    "Посмотреть результаты"
   ]
  },
  {
   "cell_type": "code",
   "execution_count": null,
   "metadata": {},
   "outputs": [],
   "source": [
    "#126+"
   ]
  },
  {
   "cell_type": "code",
   "execution_count": 2,
   "metadata": {},
   "outputs": [
    {
     "name": "stdout",
     "output_type": "stream",
     "text": [
      "1 ['y', 'z']\n"
     ]
    }
   ],
   "source": [
    "def f(x, y):\n",
    "    f.y = y\n",
    "    f.z = f.y\n",
    "    return x\n",
    "print(f(1, 2), [x for x in dir(f) if not x.startswith('__')])"
   ]
  },
  {
   "cell_type": "code",
   "execution_count": null,
   "metadata": {},
   "outputs": [],
   "source": [
    "1 2\n",
    "1 []\n",
    "1 [2]\n",
    "1 ['y', 'z']   #\n",
    "1 ['x', 'y', 'z']\n",
    "1 ['x', 'y']\n",
    "1 ['x', 'z']\n",
    "NameError\n",
    "AttributeError"
   ]
  },
  {
   "cell_type": "markdown",
   "metadata": {},
   "source": [
    "f возвращает первый аргумент, а также устанавливает атрибуты y и z, имена которых выводятся в списковом включении"
   ]
  },
  {
   "cell_type": "code",
   "execution_count": null,
   "metadata": {},
   "outputs": [],
   "source": [
    "Что выведет код?\n",
    "```python\n",
    "```\n",
    "Что выведет код?\n",
    "Выберите правильный вариант\n",
    "Посмотреть результаты"
   ]
  },
  {
   "cell_type": "code",
   "execution_count": null,
   "metadata": {},
   "outputs": [],
   "source": [
    "#127+"
   ]
  },
  {
   "cell_type": "code",
   "execution_count": 4,
   "metadata": {},
   "outputs": [
    {
     "ename": "TypeError",
     "evalue": "can only concatenate str (not \"int\") to str",
     "output_type": "error",
     "traceback": [
      "\u001b[1;31m---------------------------------------------------------------------------\u001b[0m",
      "\u001b[1;31mTypeError\u001b[0m                                 Traceback (most recent call last)",
      "\u001b[1;32m<ipython-input-4-384400d9cf7b>\u001b[0m in \u001b[0;36m<module>\u001b[1;34m\u001b[0m\n\u001b[0;32m      1\u001b[0m \u001b[1;32mdef\u001b[0m \u001b[0mf\u001b[0m\u001b[1;33m(\u001b[0m\u001b[0marr\u001b[0m\u001b[1;33m)\u001b[0m\u001b[1;33m:\u001b[0m\u001b[1;33m\u001b[0m\u001b[1;33m\u001b[0m\u001b[0m\n\u001b[0;32m      2\u001b[0m     \u001b[1;32mreturn\u001b[0m \u001b[1;36m0\u001b[0m \u001b[1;32mif\u001b[0m \u001b[1;32mnot\u001b[0m \u001b[0marr\u001b[0m \u001b[1;32melse\u001b[0m \u001b[0marr\u001b[0m\u001b[1;33m[\u001b[0m\u001b[1;36m0\u001b[0m\u001b[1;33m]\u001b[0m \u001b[1;33m+\u001b[0m \u001b[0mf\u001b[0m\u001b[1;33m(\u001b[0m\u001b[0marr\u001b[0m\u001b[1;33m[\u001b[0m\u001b[1;36m1\u001b[0m\u001b[1;33m:\u001b[0m\u001b[1;33m]\u001b[0m\u001b[1;33m)\u001b[0m\u001b[1;33m\u001b[0m\u001b[1;33m\u001b[0m\u001b[0m\n\u001b[1;32m----> 3\u001b[1;33m \u001b[0mprint\u001b[0m\u001b[1;33m(\u001b[0m\u001b[0mf\u001b[0m\u001b[1;33m(\u001b[0m\u001b[1;33m(\u001b[0m\u001b[1;34m'a'\u001b[0m\u001b[1;33m,\u001b[0m \u001b[1;34m'b'\u001b[0m\u001b[1;33m,\u001b[0m \u001b[1;34m'c'\u001b[0m\u001b[1;33m,\u001b[0m \u001b[1;34m'd'\u001b[0m\u001b[1;33m)\u001b[0m\u001b[1;33m)\u001b[0m\u001b[1;33m)\u001b[0m\u001b[1;33m\u001b[0m\u001b[1;33m\u001b[0m\u001b[0m\n\u001b[0m",
      "\u001b[1;32m<ipython-input-4-384400d9cf7b>\u001b[0m in \u001b[0;36mf\u001b[1;34m(arr)\u001b[0m\n\u001b[0;32m      1\u001b[0m \u001b[1;32mdef\u001b[0m \u001b[0mf\u001b[0m\u001b[1;33m(\u001b[0m\u001b[0marr\u001b[0m\u001b[1;33m)\u001b[0m\u001b[1;33m:\u001b[0m\u001b[1;33m\u001b[0m\u001b[1;33m\u001b[0m\u001b[0m\n\u001b[1;32m----> 2\u001b[1;33m     \u001b[1;32mreturn\u001b[0m \u001b[1;36m0\u001b[0m \u001b[1;32mif\u001b[0m \u001b[1;32mnot\u001b[0m \u001b[0marr\u001b[0m \u001b[1;32melse\u001b[0m \u001b[0marr\u001b[0m\u001b[1;33m[\u001b[0m\u001b[1;36m0\u001b[0m\u001b[1;33m]\u001b[0m \u001b[1;33m+\u001b[0m \u001b[0mf\u001b[0m\u001b[1;33m(\u001b[0m\u001b[0marr\u001b[0m\u001b[1;33m[\u001b[0m\u001b[1;36m1\u001b[0m\u001b[1;33m:\u001b[0m\u001b[1;33m]\u001b[0m\u001b[1;33m)\u001b[0m\u001b[1;33m\u001b[0m\u001b[1;33m\u001b[0m\u001b[0m\n\u001b[0m\u001b[0;32m      3\u001b[0m \u001b[0mprint\u001b[0m\u001b[1;33m(\u001b[0m\u001b[0mf\u001b[0m\u001b[1;33m(\u001b[0m\u001b[1;33m(\u001b[0m\u001b[1;34m'a'\u001b[0m\u001b[1;33m,\u001b[0m \u001b[1;34m'b'\u001b[0m\u001b[1;33m,\u001b[0m \u001b[1;34m'c'\u001b[0m\u001b[1;33m,\u001b[0m \u001b[1;34m'd'\u001b[0m\u001b[1;33m)\u001b[0m\u001b[1;33m)\u001b[0m\u001b[1;33m)\u001b[0m\u001b[1;33m\u001b[0m\u001b[1;33m\u001b[0m\u001b[0m\n",
      "\u001b[1;32m<ipython-input-4-384400d9cf7b>\u001b[0m in \u001b[0;36mf\u001b[1;34m(arr)\u001b[0m\n\u001b[0;32m      1\u001b[0m \u001b[1;32mdef\u001b[0m \u001b[0mf\u001b[0m\u001b[1;33m(\u001b[0m\u001b[0marr\u001b[0m\u001b[1;33m)\u001b[0m\u001b[1;33m:\u001b[0m\u001b[1;33m\u001b[0m\u001b[1;33m\u001b[0m\u001b[0m\n\u001b[1;32m----> 2\u001b[1;33m     \u001b[1;32mreturn\u001b[0m \u001b[1;36m0\u001b[0m \u001b[1;32mif\u001b[0m \u001b[1;32mnot\u001b[0m \u001b[0marr\u001b[0m \u001b[1;32melse\u001b[0m \u001b[0marr\u001b[0m\u001b[1;33m[\u001b[0m\u001b[1;36m0\u001b[0m\u001b[1;33m]\u001b[0m \u001b[1;33m+\u001b[0m \u001b[0mf\u001b[0m\u001b[1;33m(\u001b[0m\u001b[0marr\u001b[0m\u001b[1;33m[\u001b[0m\u001b[1;36m1\u001b[0m\u001b[1;33m:\u001b[0m\u001b[1;33m]\u001b[0m\u001b[1;33m)\u001b[0m\u001b[1;33m\u001b[0m\u001b[1;33m\u001b[0m\u001b[0m\n\u001b[0m\u001b[0;32m      3\u001b[0m \u001b[0mprint\u001b[0m\u001b[1;33m(\u001b[0m\u001b[0mf\u001b[0m\u001b[1;33m(\u001b[0m\u001b[1;33m(\u001b[0m\u001b[1;34m'a'\u001b[0m\u001b[1;33m,\u001b[0m \u001b[1;34m'b'\u001b[0m\u001b[1;33m,\u001b[0m \u001b[1;34m'c'\u001b[0m\u001b[1;33m,\u001b[0m \u001b[1;34m'd'\u001b[0m\u001b[1;33m)\u001b[0m\u001b[1;33m)\u001b[0m\u001b[1;33m)\u001b[0m\u001b[1;33m\u001b[0m\u001b[1;33m\u001b[0m\u001b[0m\n",
      "\u001b[1;32m<ipython-input-4-384400d9cf7b>\u001b[0m in \u001b[0;36mf\u001b[1;34m(arr)\u001b[0m\n\u001b[0;32m      1\u001b[0m \u001b[1;32mdef\u001b[0m \u001b[0mf\u001b[0m\u001b[1;33m(\u001b[0m\u001b[0marr\u001b[0m\u001b[1;33m)\u001b[0m\u001b[1;33m:\u001b[0m\u001b[1;33m\u001b[0m\u001b[1;33m\u001b[0m\u001b[0m\n\u001b[1;32m----> 2\u001b[1;33m     \u001b[1;32mreturn\u001b[0m \u001b[1;36m0\u001b[0m \u001b[1;32mif\u001b[0m \u001b[1;32mnot\u001b[0m \u001b[0marr\u001b[0m \u001b[1;32melse\u001b[0m \u001b[0marr\u001b[0m\u001b[1;33m[\u001b[0m\u001b[1;36m0\u001b[0m\u001b[1;33m]\u001b[0m \u001b[1;33m+\u001b[0m \u001b[0mf\u001b[0m\u001b[1;33m(\u001b[0m\u001b[0marr\u001b[0m\u001b[1;33m[\u001b[0m\u001b[1;36m1\u001b[0m\u001b[1;33m:\u001b[0m\u001b[1;33m]\u001b[0m\u001b[1;33m)\u001b[0m\u001b[1;33m\u001b[0m\u001b[1;33m\u001b[0m\u001b[0m\n\u001b[0m\u001b[0;32m      3\u001b[0m \u001b[0mprint\u001b[0m\u001b[1;33m(\u001b[0m\u001b[0mf\u001b[0m\u001b[1;33m(\u001b[0m\u001b[1;33m(\u001b[0m\u001b[1;34m'a'\u001b[0m\u001b[1;33m,\u001b[0m \u001b[1;34m'b'\u001b[0m\u001b[1;33m,\u001b[0m \u001b[1;34m'c'\u001b[0m\u001b[1;33m,\u001b[0m \u001b[1;34m'd'\u001b[0m\u001b[1;33m)\u001b[0m\u001b[1;33m)\u001b[0m\u001b[1;33m)\u001b[0m\u001b[1;33m\u001b[0m\u001b[1;33m\u001b[0m\u001b[0m\n",
      "\u001b[1;32m<ipython-input-4-384400d9cf7b>\u001b[0m in \u001b[0;36mf\u001b[1;34m(arr)\u001b[0m\n\u001b[0;32m      1\u001b[0m \u001b[1;32mdef\u001b[0m \u001b[0mf\u001b[0m\u001b[1;33m(\u001b[0m\u001b[0marr\u001b[0m\u001b[1;33m)\u001b[0m\u001b[1;33m:\u001b[0m\u001b[1;33m\u001b[0m\u001b[1;33m\u001b[0m\u001b[0m\n\u001b[1;32m----> 2\u001b[1;33m     \u001b[1;32mreturn\u001b[0m \u001b[1;36m0\u001b[0m \u001b[1;32mif\u001b[0m \u001b[1;32mnot\u001b[0m \u001b[0marr\u001b[0m \u001b[1;32melse\u001b[0m \u001b[0marr\u001b[0m\u001b[1;33m[\u001b[0m\u001b[1;36m0\u001b[0m\u001b[1;33m]\u001b[0m \u001b[1;33m+\u001b[0m \u001b[0mf\u001b[0m\u001b[1;33m(\u001b[0m\u001b[0marr\u001b[0m\u001b[1;33m[\u001b[0m\u001b[1;36m1\u001b[0m\u001b[1;33m:\u001b[0m\u001b[1;33m]\u001b[0m\u001b[1;33m)\u001b[0m\u001b[1;33m\u001b[0m\u001b[1;33m\u001b[0m\u001b[0m\n\u001b[0m\u001b[0;32m      3\u001b[0m \u001b[0mprint\u001b[0m\u001b[1;33m(\u001b[0m\u001b[0mf\u001b[0m\u001b[1;33m(\u001b[0m\u001b[1;33m(\u001b[0m\u001b[1;34m'a'\u001b[0m\u001b[1;33m,\u001b[0m \u001b[1;34m'b'\u001b[0m\u001b[1;33m,\u001b[0m \u001b[1;34m'c'\u001b[0m\u001b[1;33m,\u001b[0m \u001b[1;34m'd'\u001b[0m\u001b[1;33m)\u001b[0m\u001b[1;33m)\u001b[0m\u001b[1;33m)\u001b[0m\u001b[1;33m\u001b[0m\u001b[1;33m\u001b[0m\u001b[0m\n",
      "\u001b[1;31mTypeError\u001b[0m: can only concatenate str (not \"int\") to str"
     ]
    }
   ],
   "source": [
    "def f(arr):\n",
    "    return 0 if not arr else arr[0] + f(arr[1:])\n",
    "print(f(('a', 'b', 'c', 'd')))"
   ]
  },
  {
   "cell_type": "code",
   "execution_count": null,
   "metadata": {},
   "outputs": [],
   "source": [
    "abcd\n",
    "None\n",
    "TypeError #\n",
    "IndexError\n",
    "ValueError"
   ]
  },
  {
   "cell_type": "markdown",
   "metadata": {},
   "source": [
    "В данной функции f, базовый случай возвращает 0 (число), а затем пытается прибавить к этому результату строку, что вызовет TypeError. "
   ]
  },
  {
   "cell_type": "code",
   "execution_count": null,
   "metadata": {},
   "outputs": [],
   "source": [
    "Что выведет код?\n",
    "```python\n",
    "```\n",
    "Что выведет код?\n",
    "Выберите правильный вариант\n",
    "Посмотреть результаты"
   ]
  },
  {
   "cell_type": "code",
   "execution_count": null,
   "metadata": {},
   "outputs": [],
   "source": [
    "#128+"
   ]
  },
  {
   "cell_type": "code",
   "execution_count": 5,
   "metadata": {},
   "outputs": [
    {
     "name": "stdout",
     "output_type": "stream",
     "text": [
      "abcd\n"
     ]
    }
   ],
   "source": [
    "def f(arr):\n",
    "    return arr[0] if len(arr) == 1 else arr[0] + f(arr[1:])\n",
    "print(f(('a', 'b', 'c', 'd')))"
   ]
  },
  {
   "cell_type": "code",
   "execution_count": null,
   "metadata": {},
   "outputs": [],
   "source": [
    "abcd   #\n",
    "None\n",
    "TypeError \n",
    "IndexError\n",
    "ValueError"
   ]
  },
  {
   "cell_type": "markdown",
   "metadata": {},
   "source": [
    "Если длина массива = 1, функция возвращает первый (и единственный) элемент массива. Если больше 1, функция возвращает результат конкатенации первого элемента массива и результата вызова самой себя с оставшейся частью массива. "
   ]
  },
  {
   "cell_type": "code",
   "execution_count": null,
   "metadata": {},
   "outputs": [],
   "source": [
    "Что выведет код?\n",
    "```python\n",
    "```\n",
    "Что выведет код?\n",
    "Выберите правильный вариант\n",
    "Посмотреть результаты"
   ]
  },
  {
   "cell_type": "code",
   "execution_count": null,
   "metadata": {},
   "outputs": [],
   "source": [
    "#129+"
   ]
  },
  {
   "cell_type": "code",
   "execution_count": 6,
   "metadata": {},
   "outputs": [
    {
     "name": "stdout",
     "output_type": "stream",
     "text": [
      "Hello\n"
     ]
    }
   ],
   "source": [
    "def f(arr):\n",
    "    first, *rest = arr\n",
    "    return first if not rest else first + f(rest)\n",
    "print(f(('H', 'e', 'l', 'l', 'o')))"
   ]
  },
  {
   "cell_type": "code",
   "execution_count": null,
   "metadata": {},
   "outputs": [],
   "source": [
    "Hello  #\n",
    "None\n",
    "TypeError\n",
    "IndexError\n",
    "ValueError"
   ]
  },
  {
   "cell_type": "markdown",
   "metadata": {},
   "source": [
    "f в этом коде рекурсивно объединяет все символы в кортеже, используя распаковку списка для получения первого элемента и оставшейся части. f последовательно соединит все элементы кортежа в одну строку."
   ]
  },
  {
   "cell_type": "code",
   "execution_count": null,
   "metadata": {},
   "outputs": [],
   "source": [
    "Что выведет код?\n",
    "```python\n",
    "```\n",
    "Что выведет код?\n",
    "Выберите правильный вариант\n",
    "Посмотреть результаты"
   ]
  },
  {
   "cell_type": "code",
   "execution_count": null,
   "metadata": {},
   "outputs": [],
   "source": [
    "#130+"
   ]
  },
  {
   "cell_type": "code",
   "execution_count": 7,
   "metadata": {},
   "outputs": [
    {
     "name": "stdout",
     "output_type": "stream",
     "text": [
      "10\n"
     ]
    }
   ],
   "source": [
    "def f(a: int, b: float) -> int:\n",
    "         return a * int(b) \n",
    "print(f(5, 2.1))"
   ]
  },
  {
   "cell_type": "code",
   "execution_count": null,
   "metadata": {},
   "outputs": [],
   "source": [
    "7.1\n",
    "10    #\n",
    "10.5\n",
    "TypeError\n",
    "SyntaxError"
   ]
  },
  {
   "cell_type": "markdown",
   "metadata": {},
   "source": [
    "Функция f умножает целочисленный аргумент a на целую часть вещественного аргумента b. Анотации типов ни на что не влияют."
   ]
  },
  {
   "cell_type": "code",
   "execution_count": null,
   "metadata": {},
   "outputs": [],
   "source": [
    "Что выведет код?\n",
    "```python\n",
    "```\n",
    "Что выведет код?\n",
    "Выберите правильный вариант\n",
    "Посмотреть результаты"
   ]
  },
  {
   "cell_type": "code",
   "execution_count": null,
   "metadata": {},
   "outputs": [],
   "source": [
    "#131+"
   ]
  },
  {
   "cell_type": "code",
   "execution_count": 8,
   "metadata": {},
   "outputs": [
    {
     "name": "stdout",
     "output_type": "stream",
     "text": [
      "a <class 'str'>\n"
     ]
    }
   ],
   "source": [
    "def func(a: str, b: int):\n",
    "    return a + b \n",
    "func(1, 2)\n",
    "for arg in sorted(func.__annotations__):\n",
    "    print(arg, func.__annotations__[arg])\n",
    "    break"
   ]
  },
  {
   "cell_type": "code",
   "execution_count": 9,
   "metadata": {},
   "outputs": [
    {
     "data": {
      "text/plain": [
       "{'a': str, 'b': int}"
      ]
     },
     "execution_count": 9,
     "metadata": {},
     "output_type": "execute_result"
    }
   ],
   "source": [
    "func.__annotations__"
   ]
  },
  {
   "cell_type": "code",
   "execution_count": null,
   "metadata": {},
   "outputs": [],
   "source": [
    "3\n",
    "a 1\n",
    "b 2\n",
    "a 1 b 2\n",
    "a<class 'str'>   #\n",
    "b<class 'int'>"
   ]
  },
  {
   "cell_type": "markdown",
   "metadata": {},
   "source": [
    "Аннотация типов ни на что не влияет - поэтому можно передать func два числа, вместо строки. Словарь аннотации имеет ключ - имя переменной, значение - тип."
   ]
  },
  {
   "cell_type": "code",
   "execution_count": null,
   "metadata": {},
   "outputs": [],
   "source": [
    "Что выведет код?\n",
    "```python\n",
    "```\n",
    "Что выведет код?\n",
    "Выберите правильный вариант\n",
    "Посмотреть результаты"
   ]
  },
  {
   "cell_type": "code",
   "execution_count": null,
   "metadata": {},
   "outputs": [],
   "source": [
    "#132+"
   ]
  },
  {
   "cell_type": "code",
   "execution_count": 10,
   "metadata": {},
   "outputs": [
    {
     "name": "stdout",
     "output_type": "stream",
     "text": [
      "2\n"
     ]
    }
   ],
   "source": [
    "def f(x, y):\n",
    "    z = x ** y\n",
    "    return z\n",
    "print(f.__code__.co_argcount)"
   ]
  },
  {
   "cell_type": "code",
   "execution_count": null,
   "metadata": {},
   "outputs": [],
   "source": [
    "0\n",
    "1\n",
    "2  #\n",
    "3\n",
    "None\n",
    "AttributeError"
   ]
  },
  {
   "cell_type": "markdown",
   "metadata": {},
   "source": [
    "co_argcount — общее количество позиционных аргументов (включая только позиционные аргументы и аргументы со значениями по умолчанию);"
   ]
  },
  {
   "cell_type": "code",
   "execution_count": null,
   "metadata": {},
   "outputs": [],
   "source": [
    "Что выведет код?\n",
    "```python\n",
    "```\n",
    "Что выведет код?\n",
    "Выберите правильный вариант\n",
    "Посмотреть результаты"
   ]
  },
  {
   "cell_type": "code",
   "execution_count": null,
   "metadata": {},
   "outputs": [],
   "source": [
    "#133+"
   ]
  },
  {
   "cell_type": "code",
   "execution_count": 11,
   "metadata": {},
   "outputs": [
    {
     "name": "stdout",
     "output_type": "stream",
     "text": [
      "15\n"
     ]
    }
   ],
   "source": [
    "def f(arr):\n",
    "    s = 0\n",
    "    for x in arr:\n",
    "        if not isinstance(x, list):\n",
    "            s += x\n",
    "        else:\n",
    "            s += f(x)\n",
    "    return s\n",
    "print(f([1, [2, [3, [4, [5]]]]]))"
   ]
  },
  {
   "cell_type": "code",
   "execution_count": null,
   "metadata": {},
   "outputs": [],
   "source": [
    "0\n",
    "1\n",
    "15 #\n",
    "120\n",
    "None\n",
    "TypeError"
   ]
  },
  {
   "cell_type": "markdown",
   "metadata": {},
   "source": [
    "Функция f рекурсивно обходит и суммирует все числа во вложенном списке."
   ]
  },
  {
   "cell_type": "code",
   "execution_count": null,
   "metadata": {},
   "outputs": [],
   "source": [
    "#134+"
   ]
  },
  {
   "cell_type": "code",
   "execution_count": 12,
   "metadata": {},
   "outputs": [
    {
     "name": "stdout",
     "output_type": "stream",
     "text": [
      "15\n"
     ]
    }
   ],
   "source": [
    "from collections.abc import Iterable\n",
    "def f(arr):\n",
    "    s = 0\n",
    "    items = list(arr)\n",
    "    while items:\n",
    "        first = items.pop(0)\n",
    "        if not isinstance(first, Iterable):\n",
    "            s += first\n",
    "        else:\n",
    "            items.extend(first)\n",
    "    return s\n",
    "print(f((1, (2, (3, (4, (5)))))))"
   ]
  },
  {
   "cell_type": "code",
   "execution_count": null,
   "metadata": {},
   "outputs": [],
   "source": [
    "0\n",
    "1\n",
    "15  #\n",
    "12345\n",
    "None\n",
    "TypeError"
   ]
  },
  {
   "cell_type": "markdown",
   "metadata": {},
   "source": [
    "Функция f итеративно обходит и суммирует все числа во вложенной структуре, используя стек. "
   ]
  },
  {
   "cell_type": "code",
   "execution_count": null,
   "metadata": {},
   "outputs": [],
   "source": [
    "Что выведет код?\n",
    "```python\n",
    "```\n",
    "Что выведет код?\n",
    "Выберите правильный вариант\n",
    "Посмотреть результаты"
   ]
  },
  {
   "cell_type": "code",
   "execution_count": null,
   "metadata": {},
   "outputs": [],
   "source": [
    "#135"
   ]
  },
  {
   "cell_type": "code",
   "execution_count": 13,
   "metadata": {},
   "outputs": [
    {
     "name": "stdout",
     "output_type": "stream",
     "text": [
      "abcde\n"
     ]
    }
   ],
   "source": [
    "def f(L):\n",
    "    s = ''\n",
    "    items = list(L)\n",
    "    while items:\n",
    "        first = items.pop(0)\n",
    "        if isinstance(first, str):\n",
    "            s += first\n",
    "        else:\n",
    "            items[:0] = first       \n",
    "    return s\n",
    "print(f(('a', ('b', ('c', ('d', 'e'))))))"
   ]
  },
  {
   "cell_type": "code",
   "execution_count": null,
   "metadata": {},
   "outputs": [],
   "source": [
    "edcba\n",
    "abcde   #\n",
    "('e'),('d'),('c'),('b'),('a')\n",
    "('a'),('b'),('c'),('d'),('e')\n",
    "'e','d','c','b','a'\n",
    "'a','b','c','d','e'\n",
    "de\n",
    "abc\n",
    "TypeError"
   ]
  },
  {
   "cell_type": "markdown",
   "metadata": {},
   "source": [
    "Функция f итеративно обходит и объединяет все строки во вложенной структуре, используя список как стек. "
   ]
  },
  {
   "cell_type": "code",
   "execution_count": null,
   "metadata": {},
   "outputs": [],
   "source": [
    "............................"
   ]
  },
  {
   "cell_type": "code",
   "execution_count": null,
   "metadata": {},
   "outputs": [],
   "source": [
    "1 june 2021"
   ]
  },
  {
   "cell_type": "code",
   "execution_count": null,
   "metadata": {},
   "outputs": [],
   "source": [
    "#136+"
   ]
  },
  {
   "cell_type": "code",
   "execution_count": null,
   "metadata": {},
   "outputs": [],
   "source": [
    "Какой метод позволяет изменить максимальную глубину рекурсии?"
   ]
  },
  {
   "cell_type": "code",
   "execution_count": null,
   "metadata": {},
   "outputs": [],
   "source": [
    "os.new_recursion\n",
    "sys.setrecursionlimit   #\n",
    "platform.recursion\n",
    "ctypes.set_recursion\n",
    "sys.recursionlimit\n",
    "os.recursionlimit\n",
    "itertools.setlimitrecursion"
   ]
  },
  {
   "cell_type": "code",
   "execution_count": null,
   "metadata": {},
   "outputs": [],
   "source": [
    "https://rollbar.com/blog/python-recursionerror/"
   ]
  },
  {
   "cell_type": "code",
   "execution_count": null,
   "metadata": {},
   "outputs": [],
   "source": [
    "Что выведет код?\n",
    "```python\n",
    "```\n",
    "Что выведет код?\n",
    "Выберите правильный вариант\n",
    "Посмотреть результаты"
   ]
  },
  {
   "cell_type": "code",
   "execution_count": null,
   "metadata": {},
   "outputs": [],
   "source": [
    "#137+"
   ]
  },
  {
   "cell_type": "code",
   "execution_count": 1,
   "metadata": {},
   "outputs": [
    {
     "name": "stdout",
     "output_type": "stream",
     "text": [
      "9\n"
     ]
    }
   ],
   "source": [
    "def f(a: int = 2, b: int = 2) -> int:\n",
    "    return a ** b\n",
    "print(f(3))"
   ]
  },
  {
   "cell_type": "code",
   "execution_count": null,
   "metadata": {},
   "outputs": [],
   "source": [
    "4\n",
    "6\n",
    "9  #\n",
    "27\n",
    "TypeError\n",
    "SyntaxError"
   ]
  },
  {
   "cell_type": "markdown",
   "metadata": {},
   "source": [
    "В вызове функции f(3), значение a задается как 3, а b остается равным 2, так как его значение не было указано. f возвращает 3 ** 2, что равно 9."
   ]
  },
  {
   "cell_type": "code",
   "execution_count": null,
   "metadata": {},
   "outputs": [],
   "source": [
    "Что выведет код?\n",
    "```python\n",
    "```\n",
    "Что выведет код?\n",
    "Выберите правильный вариант\n",
    "Посмотреть результаты"
   ]
  },
  {
   "cell_type": "code",
   "execution_count": null,
   "metadata": {},
   "outputs": [],
   "source": [
    "#138+"
   ]
  },
  {
   "cell_type": "markdown",
   "metadata": {},
   "source": [
    "Какое выражение будет эквивалентным для тернарного оператора \n",
    "\"b if a else с\", считая, что переменные b и c содержат некоторые объекты, а переменная a - булево значение."
   ]
  },
  {
   "cell_type": "code",
   "execution_count": null,
   "metadata": {},
   "outputs": [],
   "source": [
    "a or b and c\n",
    "a and b and c\n",
    "a or b or c\n",
    "a or c and b\n",
    "a and b or c    #\n",
    "a and c or b"
   ]
  },
  {
   "cell_type": "code",
   "execution_count": null,
   "metadata": {},
   "outputs": [],
   "source": [
    "https://book.pythontips.com/en/latest/ternary_operators.html"
   ]
  },
  {
   "cell_type": "code",
   "execution_count": null,
   "metadata": {},
   "outputs": [],
   "source": [
    "Что выведет код?\n",
    "```python\n",
    "```\n",
    "Что выведет код?\n",
    "Выберите правильный вариант\n",
    "Посмотреть результаты"
   ]
  },
  {
   "cell_type": "code",
   "execution_count": 2,
   "metadata": {},
   "outputs": [],
   "source": [
    "#139+"
   ]
  },
  {
   "cell_type": "code",
   "execution_count": 3,
   "metadata": {},
   "outputs": [
    {
     "name": "stdout",
     "output_type": "stream",
     "text": [
      "True\n"
     ]
    }
   ],
   "source": [
    "f = (lambda х, у: х if х < у else у)\n",
    "z1 = f('b', 'а')\n",
    "z2 = f('а', 'b')\n",
    "print(z1 == z2)"
   ]
  },
  {
   "cell_type": "code",
   "execution_count": null,
   "metadata": {},
   "outputs": [],
   "source": [
    "a\n",
    "b\n",
    "True   #\n",
    "False\n",
    "TypeError"
   ]
  },
  {
   "cell_type": "markdown",
   "metadata": {},
   "source": [
    "Строки сравниваются лексикографически, поэтому \"a\" меньше \"b\". Лямбда-функция f возвращает \"a\" в обоих случаях, поэтому z1 и z2 равны, и z1 == z2 возвращает True."
   ]
  },
  {
   "cell_type": "code",
   "execution_count": null,
   "metadata": {},
   "outputs": [],
   "source": [
    "Что выведет код?\n",
    "```python\n",
    "```\n",
    "Что выведет код?\n",
    "Выберите правильный вариант\n",
    "Посмотреть результаты"
   ]
  },
  {
   "cell_type": "code",
   "execution_count": null,
   "metadata": {},
   "outputs": [],
   "source": [
    "#140+"
   ]
  },
  {
   "cell_type": "code",
   "execution_count": 4,
   "metadata": {},
   "outputs": [
    {
     "name": "stdout",
     "output_type": "stream",
     "text": [
      "8.5\n"
     ]
    }
   ],
   "source": [
    "def f(a: int = 5, b: int = 3, c: int = 4) -> int:\n",
    "    return a + b + c\n",
    "print(f(2.5, b=2))"
   ]
  },
  {
   "cell_type": "code",
   "execution_count": null,
   "metadata": {},
   "outputs": [],
   "source": [
    "int\n",
    "4.5\n",
    "8.5   #\n",
    "11\n",
    "12\n",
    "TypeError\n",
    "SyntaxError"
   ]
  },
  {
   "cell_type": "markdown",
   "metadata": {},
   "source": [
    "f получает a как 2.5, b как 2, а c по умолчанию равно 4. Поэтому f(2.5, b=2) возвращает 2.5 + 2 + 4, что равно 8.5."
   ]
  },
  {
   "cell_type": "code",
   "execution_count": null,
   "metadata": {},
   "outputs": [],
   "source": [
    "Что выведет код?\n",
    "```python\n",
    "```\n",
    "Что выведет код?\n",
    "Выберите правильный вариант\n",
    "Посмотреть результаты"
   ]
  },
  {
   "cell_type": "code",
   "execution_count": null,
   "metadata": {},
   "outputs": [],
   "source": [
    "#141+"
   ]
  },
  {
   "cell_type": "code",
   "execution_count": 5,
   "metadata": {},
   "outputs": [
    {
     "name": "stdout",
     "output_type": "stream",
     "text": [
      "123"
     ]
    }
   ],
   "source": [
    "import sys\n",
    "f = lambda x: list(map(sys.stdout.write, x)) \n",
    "t = f(['1', '2', '3'])"
   ]
  },
  {
   "cell_type": "code",
   "execution_count": null,
   "metadata": {},
   "outputs": [],
   "source": [
    "[123]\n",
    "[321]\n",
    "123   #\n",
    "1 2 3\n",
    "321\n",
    "3 2 1"
   ]
  },
  {
   "cell_type": "markdown",
   "metadata": {},
   "source": [
    "f - это лямбда-функция, которая использует map для применения sys.stdout.write к каждому элементу списка x, в результате чего каждый элемент выводится на экран без пробелов или новых строк."
   ]
  },
  {
   "cell_type": "code",
   "execution_count": null,
   "metadata": {},
   "outputs": [],
   "source": [
    "Что выведет код?\n",
    "```python\n",
    "```\n",
    "Что выведет код?\n",
    "Выберите правильный вариант\n",
    "Посмотреть результаты"
   ]
  },
  {
   "cell_type": "code",
   "execution_count": null,
   "metadata": {},
   "outputs": [],
   "source": [
    "#142+"
   ]
  },
  {
   "cell_type": "code",
   "execution_count": 6,
   "metadata": {},
   "outputs": [
    {
     "name": "stdout",
     "output_type": "stream",
     "text": [
      "123\n"
     ]
    }
   ],
   "source": [
    "def f(a: int = '1', b: int = '2', c: int = '3') -> int:\n",
    "    return a + b + c\n",
    "print(f())"
   ]
  },
  {
   "cell_type": "code",
   "execution_count": null,
   "metadata": {},
   "outputs": [],
   "source": [
    "int\n",
    "str\n",
    "6\n",
    "123    #\n",
    "TypeError\n",
    "SyntaxError"
   ]
  },
  {
   "cell_type": "markdown",
   "metadata": {},
   "source": [
    "Функция f с неправильной аннотацией типов(которая ни на что не влияет) возвращает конкатенацию строк '1', '2' и '3'. Таким образом, print(f()) выводит '123' на экран."
   ]
  },
  {
   "cell_type": "code",
   "execution_count": null,
   "metadata": {},
   "outputs": [],
   "source": [
    "Что выведет код?\n",
    "```python\n",
    "```\n",
    "Что выведет код?\n",
    "Выберите правильный вариант\n",
    "Посмотреть результаты"
   ]
  },
  {
   "cell_type": "code",
   "execution_count": null,
   "metadata": {},
   "outputs": [],
   "source": [
    "#143+"
   ]
  },
  {
   "cell_type": "code",
   "execution_count": 7,
   "metadata": {},
   "outputs": [
    {
     "data": {
      "text/plain": [
       "9"
      ]
     },
     "execution_count": 7,
     "metadata": {},
     "output_type": "execute_result"
    }
   ],
   "source": [
    "((lambda x: (lambda y:  x ** y)) (3)) (2)"
   ]
  },
  {
   "cell_type": "code",
   "execution_count": null,
   "metadata": {},
   "outputs": [],
   "source": [
    "5\n",
    "6\n",
    "8\n",
    "9   #\n",
    "SyntaxError"
   ]
  },
  {
   "cell_type": "markdown",
   "metadata": {},
   "source": [
    "Код создаёт лямбда-функцию, которая возвращает другую лямбда-функцию, вычисляющую степень числа x. При подстановке 3 и 2 внешняя и внутренняя функции, соответственно, вычисляются как 3 ** 2, возвращая 9."
   ]
  },
  {
   "cell_type": "code",
   "execution_count": null,
   "metadata": {},
   "outputs": [],
   "source": [
    "Что выведет код?\n",
    "```python\n",
    "```\n",
    "Что выведет код?\n",
    "Выберите правильный вариант\n",
    "Посмотреть результаты"
   ]
  },
  {
   "cell_type": "code",
   "execution_count": null,
   "metadata": {},
   "outputs": [],
   "source": [
    "#144+"
   ]
  },
  {
   "cell_type": "code",
   "execution_count": 8,
   "metadata": {},
   "outputs": [
    {
     "name": "stdout",
     "output_type": "stream",
     "text": [
      "4\n"
     ]
    }
   ],
   "source": [
    "def f(a: 1 = 2) -> 3:\n",
    "    return 4\n",
    "print(f())"
   ]
  },
  {
   "cell_type": "code",
   "execution_count": null,
   "metadata": {},
   "outputs": [],
   "source": [
    "1\n",
    "2\n",
    "3\n",
    "4  #\n",
    "TypeError\n",
    "SyntaxError"
   ]
  },
  {
   "cell_type": "markdown",
   "metadata": {},
   "source": [
    "В этом коде f() возвращает число 4, поскольку в теле функции указано return 4. Но аннотации типов a: 1 = 2 и -> 3 являются некорректными, так как вместо описания типов там используются числа."
   ]
  },
  {
   "cell_type": "code",
   "execution_count": null,
   "metadata": {},
   "outputs": [],
   "source": [
    "Что выведет код?\n",
    "```python\n",
    "```\n",
    "Что выведет код?\n",
    "Выберите правильный вариант\n",
    "Посмотреть результаты"
   ]
  },
  {
   "cell_type": "code",
   "execution_count": null,
   "metadata": {},
   "outputs": [],
   "source": [
    "#145+"
   ]
  },
  {
   "cell_type": "code",
   "execution_count": 9,
   "metadata": {},
   "outputs": [
    {
     "name": "stdout",
     "output_type": "stream",
     "text": [
      "<class 'str'>\n"
     ]
    }
   ],
   "source": [
    "def f(a: int = float) -> bool:\n",
    "    return str\n",
    "print(f())"
   ]
  },
  {
   "cell_type": "code",
   "execution_count": null,
   "metadata": {},
   "outputs": [],
   "source": [
    "<class 'int'>\n",
    "<class'float'>\n",
    "<class'bool'>\n",
    "<class'str'>   #\n",
    "TypeError\n",
    "SyntaxError"
   ]
  },
  {
   "cell_type": "markdown",
   "metadata": {},
   "source": [
    "Код выводит <class 'str'>, так как функция f возвращает объект str. Но аннотация типа a: int = float некорректна, поскольку значение по умолчанию float не соответствует ожидаемому типу int."
   ]
  },
  {
   "cell_type": "code",
   "execution_count": null,
   "metadata": {},
   "outputs": [],
   "source": [
    "Что выведет код?\n",
    "```python\n",
    "```\n",
    "Что выведет код?\n",
    "Выберите правильный вариант\n",
    "Посмотреть результаты"
   ]
  },
  {
   "cell_type": "code",
   "execution_count": null,
   "metadata": {},
   "outputs": [],
   "source": [
    "..................."
   ]
  },
  {
   "cell_type": "code",
   "execution_count": null,
   "metadata": {},
   "outputs": [],
   "source": [
    "#146+"
   ]
  },
  {
   "cell_type": "code",
   "execution_count": 1,
   "metadata": {},
   "outputs": [
    {
     "name": "stdout",
     "output_type": "stream",
     "text": [
      "a b c "
     ]
    }
   ],
   "source": [
    "f = lambda x: print(*x, sep=' ' , end=' ')\n",
    "t = f(['a', 'b', 'c'])"
   ]
  },
  {
   "cell_type": "code",
   "execution_count": null,
   "metadata": {},
   "outputs": [],
   "source": [
    "c b a\n",
    "cba\n",
    "a b c   #\n",
    "abc\n",
    "a\\nb\\nc\\n\n",
    "['a', 'b', 'c']\n",
    "TypeError\n",
    "SyntaxError"
   ]
  },
  {
   "cell_type": "markdown",
   "metadata": {},
   "source": [
    "f принимает список в качестве аргумента и использует функцию print для вывода элементов этого списка через пробел без перевода строки на конце. "
   ]
  },
  {
   "cell_type": "code",
   "execution_count": null,
   "metadata": {},
   "outputs": [],
   "source": [
    "Что выведет код?\n",
    "```python\n",
    "```\n",
    "Что выведет код?\n",
    "Выберите правильный вариант\n",
    "Посмотреть результаты"
   ]
  },
  {
   "cell_type": "code",
   "execution_count": null,
   "metadata": {},
   "outputs": [],
   "source": [
    "#147+"
   ]
  },
  {
   "cell_type": "code",
   "execution_count": 2,
   "metadata": {},
   "outputs": [
    {
     "name": "stdout",
     "output_type": "stream",
     "text": [
      "5\n"
     ]
    }
   ],
   "source": [
    "def f(a: int = 7) -> int:\n",
    "    return 2 + int(a)\n",
    "print(f(3.5))"
   ]
  },
  {
   "cell_type": "code",
   "execution_count": null,
   "metadata": {},
   "outputs": [],
   "source": [
    "3.5\n",
    "5     #\n",
    "5.5\n",
    "9\n",
    "TypeError\n",
    "SyntaxErrror"
   ]
  },
  {
   "cell_type": "markdown",
   "metadata": {},
   "source": [
    "f принимает в качестве аргумента значение 3.5, которое сначала приводится к типу int (получаем 3), далее добавляется 2, что в сумме дает 5. Аннотация не влияет."
   ]
  },
  {
   "cell_type": "code",
   "execution_count": null,
   "metadata": {},
   "outputs": [],
   "source": [
    "Что выведет код?\n",
    "```python\n",
    "```\n",
    "Что выведет код?\n",
    "Выберите правильный вариант\n",
    "Посмотреть результаты"
   ]
  },
  {
   "cell_type": "code",
   "execution_count": null,
   "metadata": {},
   "outputs": [],
   "source": [
    "#148+"
   ]
  },
  {
   "cell_type": "code",
   "execution_count": 3,
   "metadata": {},
   "outputs": [
    {
     "data": {
      "text/plain": [
       "[1, 8, 81]"
      ]
     },
     "execution_count": 3,
     "metadata": {},
     "output_type": "execute_result"
    }
   ],
   "source": [
    "list(map(pow, [1, 2, 3], [2, 3, 4]))"
   ]
  },
  {
   "cell_type": "code",
   "execution_count": null,
   "metadata": {},
   "outputs": [],
   "source": [
    "[1, 4, 9]\n",
    "[3, 5, 7]\n",
    "[2, 6, 12]\n",
    "[1, 8, 81]  #\n",
    "([1, 8, 9], [4, 9, 16])\n",
    "SyntaxError"
   ]
  },
  {
   "cell_type": "markdown",
   "metadata": {},
   "source": [
    "Функция pow применяется к каждой паре значений из этих списков. То есть вычисляются следующие значения: pow(1, 2), pow(2, 3), и pow(3, 4)"
   ]
  },
  {
   "cell_type": "code",
   "execution_count": null,
   "metadata": {},
   "outputs": [],
   "source": [
    "Что выведет код?\n",
    "```python\n",
    "```\n",
    "Что выведет код?\n",
    "Выберите правильный вариант\n",
    "Посмотреть результаты"
   ]
  },
  {
   "cell_type": "code",
   "execution_count": null,
   "metadata": {},
   "outputs": [],
   "source": [
    "#149+"
   ]
  },
  {
   "cell_type": "code",
   "execution_count": 4,
   "metadata": {},
   "outputs": [
    {
     "name": "stdout",
     "output_type": "stream",
     "text": [
      "2 3 13\n"
     ]
    }
   ],
   "source": [
    "def f(x: 1 = 1):\n",
    "    f.__annotations__[\"x\"] += x\n",
    "    return f.__annotations__[\"x\"]\n",
    "print(f(), f(), f(10))"
   ]
  },
  {
   "cell_type": "code",
   "execution_count": null,
   "metadata": {},
   "outputs": [],
   "source": [
    "1 1 10\n",
    "2 3 4\n",
    "2 3 13   #\n",
    "TypeError\n",
    "SyntaxError\n",
    "KeyError"
   ]
  },
  {
   "cell_type": "markdown",
   "metadata": {},
   "source": [
    "f.__annotations__ хранит аннотации функции. В каждом вызове f, аннотация \"x\" увеличивается на x (по умолчанию 1, в последнем вызове 10). "
   ]
  },
  {
   "cell_type": "code",
   "execution_count": null,
   "metadata": {},
   "outputs": [],
   "source": [
    "Что выведет код?\n",
    "```python\n",
    "```\n",
    "Что выведет код?\n",
    "Выберите правильный вариант\n",
    "Посмотреть результаты"
   ]
  },
  {
   "cell_type": "code",
   "execution_count": null,
   "metadata": {},
   "outputs": [],
   "source": [
    "#150+"
   ]
  },
  {
   "cell_type": "code",
   "execution_count": 6,
   "metadata": {},
   "outputs": [],
   "source": [
    "def f(x: int = 1):\n",
    "    if type(x) is not f.__annotations__[\"x\"]:\n",
    "        raise TypeError(\"Неправильный тип аргумента x!\")\n",
    "    f.__annotations__[\"x\"] = float\n",
    "    return x**2"
   ]
  },
  {
   "cell_type": "code",
   "execution_count": null,
   "metadata": {},
   "outputs": [],
   "source": [
    "Какая строка не приведет к возникновению ошибки?"
   ]
  },
  {
   "cell_type": "code",
   "execution_count": null,
   "metadata": {},
   "outputs": [],
   "source": [
    "print(f(1.0))\n",
    "print(f(), f())\n",
    "print(f(), f(2))\n",
    "print(f(1), f(2))\n",
    "print(f(1), f(2.0))   #\n",
    "print(f(1.0), f(2.0))"
   ]
  },
  {
   "cell_type": "markdown",
   "metadata": {},
   "source": [
    "Функция проверяет, соответствует ли тип аргумента x его аннотации. Сперва это int, но после первого прохождения аннотация x меняется на float, что требует далее тип float."
   ]
  },
  {
   "cell_type": "code",
   "execution_count": null,
   "metadata": {},
   "outputs": [],
   "source": [
    "Что выведет код?\n",
    "```python\n",
    "```\n",
    "Что выведет код?\n",
    "Выберите правильный вариант\n",
    "Посмотреть результаты"
   ]
  },
  {
   "cell_type": "code",
   "execution_count": null,
   "metadata": {},
   "outputs": [],
   "source": [
    "#151+"
   ]
  },
  {
   "cell_type": "code",
   "execution_count": 7,
   "metadata": {},
   "outputs": [
    {
     "data": {
      "text/plain": [
       "True"
      ]
     },
     "execution_count": 7,
     "metadata": {},
     "output_type": "execute_result"
    }
   ],
   "source": [
    "def f(x): \n",
    "    return x + 2 \n",
    "list(map(f, [1, 2, 3, 4])) == [f(x) for x in [1, 2, 3, 4]]"
   ]
  },
  {
   "cell_type": "code",
   "execution_count": null,
   "metadata": {},
   "outputs": [],
   "source": [
    "True  #\n",
    "False\n",
    "TypeError\n",
    "SyntaxError"
   ]
  },
  {
   "cell_type": "markdown",
   "metadata": {},
   "source": [
    "Два способа применения функции f к заданном списку дают одинаковый результат."
   ]
  },
  {
   "cell_type": "code",
   "execution_count": null,
   "metadata": {},
   "outputs": [],
   "source": [
    "Что выведет код?\n",
    "```python\n",
    "```\n",
    "Что выведет код?\n",
    "Выберите правильный вариант\n",
    "Посмотреть результаты"
   ]
  },
  {
   "cell_type": "code",
   "execution_count": null,
   "metadata": {},
   "outputs": [],
   "source": [
    "#152+"
   ]
  },
  {
   "cell_type": "code",
   "execution_count": null,
   "metadata": {},
   "outputs": [],
   "source": [
    "Даны 4 варианта кода:"
   ]
  },
  {
   "cell_type": "code",
   "execution_count": null,
   "metadata": {},
   "outputs": [],
   "source": [
    "# 1 вариант\n",
    "list(filter((lambda x: x > 0) , range(-5, 5)))\n",
    "# 2 вариант\n",
    "res = []\n",
    "for x in range(-5, 5):\n",
    "    if x > 0:\n",
    "        res.append(x)\n",
    "print(res)\n",
    "# 3 вариант\n",
    "[х for х in range(-5, 5) if х > 0] \n",
    "# 4 вариант\n",
    "list(map(lambda x: x > 0, range(-10, 5)))"
   ]
  },
  {
   "cell_type": "code",
   "execution_count": 20,
   "metadata": {},
   "outputs": [
    {
     "data": {
      "text/plain": [
       "[1, 2, 3, 4]"
      ]
     },
     "execution_count": 20,
     "metadata": {},
     "output_type": "execute_result"
    }
   ],
   "source": [
    "Какой  вариант не  выведет [1, 2, 3, 4]"
   ]
  },
  {
   "cell_type": "code",
   "execution_count": null,
   "metadata": {},
   "outputs": [],
   "source": [
    "1 вариант\n",
    "2 вариант\n",
    "3 вариант\n",
    "4 вариант #"
   ]
  },
  {
   "cell_type": "code",
   "execution_count": null,
   "metadata": {},
   "outputs": [],
   "source": [
    "В последнем варианте числа преобразуются в булевские значения."
   ]
  },
  {
   "cell_type": "code",
   "execution_count": null,
   "metadata": {},
   "outputs": [],
   "source": [
    "Что выведет код?\n",
    "```python\n",
    "```\n",
    "Что выведет код?\n",
    "Выберите правильный вариант\n",
    "Посмотреть результаты"
   ]
  },
  {
   "cell_type": "code",
   "execution_count": null,
   "metadata": {},
   "outputs": [],
   "source": [
    "#153+"
   ]
  },
  {
   "cell_type": "markdown",
   "metadata": {},
   "source": [
    "Какую функцию функционального программирования реализует данная функция?"
   ]
  },
  {
   "cell_type": "code",
   "execution_count": 13,
   "metadata": {},
   "outputs": [],
   "source": [
    "def f(function, sequence):\n",
    "    s = sequence[0]\n",
    "    for x in sequence[1:]:\n",
    "        s = function(s, x)\n",
    "    return s"
   ]
  },
  {
   "cell_type": "code",
   "execution_count": null,
   "metadata": {},
   "outputs": [],
   "source": [
    "map\n",
    "filter\n",
    "reduce  #\n",
    "lambda"
   ]
  },
  {
   "cell_type": "markdown",
   "metadata": {},
   "source": [
    "В цикле переменная s каждый раз заменяется на новую, которая есть применение к s переданной функции и одного из аргументов последовательности, что соответствует определению свертки."
   ]
  },
  {
   "cell_type": "code",
   "execution_count": null,
   "metadata": {},
   "outputs": [],
   "source": [
    "Что выведет код?\n",
    "```python\n",
    "```\n",
    "Что выведет код?\n",
    "Выберите правильный вариант\n",
    "Посмотреть результаты"
   ]
  },
  {
   "cell_type": "code",
   "execution_count": null,
   "metadata": {},
   "outputs": [],
   "source": [
    "#154+"
   ]
  },
  {
   "cell_type": "code",
   "execution_count": 14,
   "metadata": {},
   "outputs": [
    {
     "name": "stdout",
     "output_type": "stream",
     "text": [
      "True\n"
     ]
    }
   ],
   "source": [
    "import operator, functools\n",
    "x1 = functools.reduce(operator.add, [2, 4, 6])\n",
    "x2 = functools.reduce((lambda x, у: x + у) , [2, 4, 6])\n",
    "print(x1 == x2)"
   ]
  },
  {
   "cell_type": "code",
   "execution_count": null,
   "metadata": {},
   "outputs": [],
   "source": [
    "True  #\n",
    "False\n",
    "SyntaxError"
   ]
  },
  {
   "cell_type": "markdown",
   "metadata": {},
   "source": [
    "Оба вызова functools.reduce применяют сложение к элементам списка [2, 4, 6], получая в итоге 12."
   ]
  },
  {
   "cell_type": "code",
   "execution_count": null,
   "metadata": {},
   "outputs": [],
   "source": [
    "Что выведет код?\n",
    "```python\n",
    "```\n",
    "Что выведет код?\n",
    "Выберите правильный вариант\n",
    "Посмотреть результаты"
   ]
  },
  {
   "cell_type": "code",
   "execution_count": null,
   "metadata": {},
   "outputs": [],
   "source": [
    "#155+"
   ]
  },
  {
   "cell_type": "code",
   "execution_count": 18,
   "metadata": {},
   "outputs": [
    {
     "data": {
      "text/plain": [
       "{'a': 'aa', 3: 6, (1, 2): (1, 2, 1, 2)}"
      ]
     },
     "execution_count": 18,
     "metadata": {},
     "output_type": "execute_result"
    }
   ],
   "source": [
    "from functools import reduce\n",
    "def f(acc, x):\n",
    "    acc[x] = x * 2\n",
    "    return acc\n",
    "reduce(f, [\"a\", 3, (1,2)], {})"
   ]
  },
  {
   "cell_type": "code",
   "execution_count": null,
   "metadata": {},
   "outputs": [],
   "source": [
    "['aa', 6, (2, 4)]\n",
    "{'aa', 6, (2, 4)}\n",
    "['aa', 6, (1, 2, 1, 2)]\n",
    "{'aa', 6, (1, 2, 1, 2)}\n",
    "['a':'aa',  3:6, (1, 2):(1, 2, 1, 2)]\n",
    "{'a': 'aa', 3: 6, (1, 2): (1, 2, 1, 2)} #"
   ]
  },
  {
   "cell_type": "markdown",
   "metadata": {},
   "source": [
    "Последовательно применяется f к элементам списка [\"a\", 3, (1,2)]. Начальное значение аккумулятора - пустой словарь. Функция f для каждого элемента x добавляет в словарь acc пару ключ-значение, где ключ — это x, а значение — это x * 2."
   ]
  },
  {
   "cell_type": "code",
   "execution_count": null,
   "metadata": {},
   "outputs": [],
   "source": [
    "Что выведет код?\n",
    "```python\n",
    "```\n",
    "Что выведет код?\n",
    "Выберите правильный вариант\n",
    "Посмотреть результаты"
   ]
  },
  {
   "cell_type": "code",
   "execution_count": null,
   "metadata": {},
   "outputs": [],
   "source": [
    "#156+"
   ]
  },
  {
   "cell_type": "code",
   "execution_count": 19,
   "metadata": {},
   "outputs": [
    {
     "name": "stdout",
     "output_type": "stream",
     "text": [
      "100 899\n"
     ]
    }
   ],
   "source": [
    "password = 'password'\n",
    "adding = [х + у for х in '0123456789' for у in '0123456789']\n",
    "count = 0\n",
    "for a in adding:\n",
    "    password = password + a\n",
    "    count += 1\n",
    "print(count, password[-3:])"
   ]
  },
  {
   "cell_type": "code",
   "execution_count": null,
   "metadata": {},
   "outputs": [],
   "source": [
    "100 d99\n",
    "100 889\n",
    "100 899   #\n",
    "200 d99\n",
    "200 889\n",
    "200 899\n",
    "1024 d99\n",
    "1024 889\n",
    "1024 899"
   ]
  },
  {
   "cell_type": "markdown",
   "metadata": {},
   "source": [
    "count равен len(adding) - а это все пары цифр от 0 до 9, то есть 10*10 = 100. В конце password будет содержать последний элемент adding (99) и одну(последнюю) цифру из 98 - 8."
   ]
  },
  {
   "cell_type": "code",
   "execution_count": null,
   "metadata": {},
   "outputs": [],
   "source": [
    "Что выведет код?\n",
    "```python\n",
    "```\n",
    "Что выведет код?\n",
    "Выберите правильный вариант\n",
    "Посмотреть результаты"
   ]
  },
  {
   "cell_type": "code",
   "execution_count": null,
   "metadata": {},
   "outputs": [],
   "source": [
    "30  june 2021"
   ]
  },
  {
   "cell_type": "code",
   "execution_count": null,
   "metadata": {},
   "outputs": [],
   "source": [
    "//////////////////////////////"
   ]
  },
  {
   "cell_type": "code",
   "execution_count": null,
   "metadata": {},
   "outputs": [],
   "source": [
    "#157+"
   ]
  },
  {
   "cell_type": "code",
   "execution_count": 1,
   "metadata": {},
   "outputs": [
    {
     "name": "stdout",
     "output_type": "stream",
     "text": [
      "[]\n"
     ]
    }
   ],
   "source": [
    "from functools import partial\n",
    "from operator import gt\n",
    "gt = partial(gt, 0)\n",
    "l = list(filter(gt, [x for x in range(-2, 3) if x >= 0]))\n",
    "print(l)"
   ]
  },
  {
   "cell_type": "code",
   "execution_count": null,
   "metadata": {},
   "outputs": [],
   "source": [
    "[]                  #\n",
    "[-2, -1]\n",
    "[1, 2]\n",
    "[-2, -1, 0]\n",
    "[0, 1, 2]\n",
    "[-2, -1, 1, 2]\n",
    "[0]"
   ]
  },
  {
   "cell_type": "markdown",
   "metadata": {},
   "source": [
    "gt(a, b) <=> a > b; gt = partial(gt, 0) => gt(x) <=> 0 > x \n",
    "Создается списковое выражение с неотрицательными числами, затем фильтруем только на отрицательные, в итоге - ничего нет."
   ]
  },
  {
   "cell_type": "code",
   "execution_count": null,
   "metadata": {},
   "outputs": [],
   "source": [
    "Что выведет код?\n",
    "```python\n",
    "```\n",
    "Что выведет код?\n",
    "Выберите правильный вариант\n",
    "Посмотреть результаты"
   ]
  },
  {
   "cell_type": "code",
   "execution_count": null,
   "metadata": {},
   "outputs": [],
   "source": [
    "#158+"
   ]
  },
  {
   "cell_type": "code",
   "execution_count": 1,
   "metadata": {},
   "outputs": [
    {
     "name": "stdout",
     "output_type": "stream",
     "text": [
      "[]\n"
     ]
    }
   ],
   "source": [
    "from functools import partial\n",
    "from operator import lt\n",
    "gt = partial(lt, 0)\n",
    "l = list(filter(gt, [x for x in range(-2, 3) if x <= 0]))\n",
    "print(l)"
   ]
  },
  {
   "cell_type": "code",
   "execution_count": null,
   "metadata": {},
   "outputs": [],
   "source": [
    "[]                  #\n",
    "[-2, -1]\n",
    "[1, 2]\n",
    "[-2, -1, 0]\n",
    "[0, 1, 2]\n",
    "[-2, -1, 1, 2]\n",
    "[0]"
   ]
  },
  {
   "cell_type": "markdown",
   "metadata": {},
   "source": [
    "lt(a, b) <=> a < b; lt = partial(lt, 0) => lt(x) <=> 0 < x \n",
    "Создается списковое выражение с неположительными числами, затем фильтруем только на положительные, в итоге - ничего нет."
   ]
  },
  {
   "cell_type": "code",
   "execution_count": null,
   "metadata": {},
   "outputs": [],
   "source": [
    "Что выведет код?\n",
    "```python\n",
    "```\n",
    "Что выведет код?\n",
    "Выберите правильный вариант\n",
    "Посмотреть результаты"
   ]
  },
  {
   "cell_type": "code",
   "execution_count": null,
   "metadata": {},
   "outputs": [],
   "source": [
    "#159+"
   ]
  },
  {
   "cell_type": "code",
   "execution_count": 8,
   "metadata": {},
   "outputs": [
    {
     "data": {
      "text/plain": [
       "70"
      ]
     },
     "execution_count": 8,
     "metadata": {},
     "output_type": "execute_result"
    }
   ],
   "source": [
    "M = [[1, 2], [3, 4]]\n",
    "N = [[5, 6], [7, 8]]\n",
    "sum([col1*col2 for row1, row2 in zip(M, N) for col1, col2 in zip(row1, row2)])"
   ]
  },
  {
   "cell_type": "code",
   "execution_count": null,
   "metadata": {},
   "outputs": [],
   "source": [
    "36\n",
    "62\n",
    "70  #\n",
    "94\n",
    "100\n",
    "5760"
   ]
  },
  {
   "cell_type": "markdown",
   "metadata": {},
   "source": [
    "Поэлементное умножение двух матриц M и N и суммирует результаты. Используя zip дважды для итерации по строкам и столбцам обеих матриц, мы получаем общую сумму 1*5 + 2*6 + 3*7 + 4*8 = 70"
   ]
  },
  {
   "cell_type": "code",
   "execution_count": null,
   "metadata": {},
   "outputs": [],
   "source": [
    "Что выведет код?\n",
    "```python\n",
    "```\n",
    "Что выведет код?\n",
    "Выберите правильный вариант\n",
    "Посмотреть результаты"
   ]
  },
  {
   "cell_type": "code",
   "execution_count": null,
   "metadata": {},
   "outputs": [],
   "source": [
    "#160+"
   ]
  },
  {
   "cell_type": "code",
   "execution_count": null,
   "metadata": {},
   "outputs": [],
   "source": [
    "Какую из функций нужно явно импортировать, чтобы ее использовать?"
   ]
  },
  {
   "cell_type": "code",
   "execution_count": null,
   "metadata": {},
   "outputs": [],
   "source": [
    "map\n",
    "filter\n",
    "reduce   #\n",
    "vars\n",
    "classmethod\n",
    "dir\n",
    "repr"
   ]
  },
  {
   "cell_type": "code",
   "execution_count": null,
   "metadata": {},
   "outputs": [],
   "source": [
    "В современном Python функция reduce находится в модуле functools"
   ]
  },
  {
   "cell_type": "code",
   "execution_count": null,
   "metadata": {},
   "outputs": [],
   "source": [
    "Что выведет код?\n",
    "```python\n",
    "```\n",
    "Что выведет код?\n",
    "Выберите правильный вариант\n",
    "Посмотреть результаты"
   ]
  },
  {
   "cell_type": "code",
   "execution_count": null,
   "metadata": {},
   "outputs": [],
   "source": [
    "#161+"
   ]
  },
  {
   "cell_type": "code",
   "execution_count": null,
   "metadata": {},
   "outputs": [],
   "source": [
    "Даны 4 варианта кода:"
   ]
  },
  {
   "cell_type": "code",
   "execution_count": null,
   "metadata": {},
   "outputs": [],
   "source": [
    "#1\n",
    "[х ** 2 for х in range(5) if х % 2 == 0]\n",
    "#2\n",
    "list(map(lambda x: x**2, filter(lambda x: x % 2 == 0, range(5))))\n",
    "#3\n",
    "res = []\n",
    "for x in range(5):\n",
    "    if x % 2 == 0:\n",
    "        y = x**2\n",
    "        res.append(y)\n",
    "print(res)\n",
    "#4\n",
    "list(map(lambda x: x ** 2 % 4 == 0, range(5)))"
   ]
  },
  {
   "cell_type": "code",
   "execution_count": null,
   "metadata": {},
   "outputs": [],
   "source": [
    "Какой из вариантов не выведет [0, 4, 16]?"
   ]
  },
  {
   "cell_type": "code",
   "execution_count": null,
   "metadata": {},
   "outputs": [],
   "source": [
    "1\n",
    "2\n",
    "3\n",
    "4  #"
   ]
  },
  {
   "cell_type": "code",
   "execution_count": null,
   "metadata": {},
   "outputs": [],
   "source": [
    "Вариант 4 выводит булевский массив, а не числа"
   ]
  },
  {
   "cell_type": "code",
   "execution_count": null,
   "metadata": {},
   "outputs": [],
   "source": [
    "Что выведет код?\n",
    "```python\n",
    "```\n",
    "Что выведет код?\n",
    "Выберите правильный вариант\n",
    "Посмотреть результаты"
   ]
  },
  {
   "cell_type": "code",
   "execution_count": null,
   "metadata": {},
   "outputs": [],
   "source": [
    "#162+"
   ]
  },
  {
   "cell_type": "code",
   "execution_count": 14,
   "metadata": {},
   "outputs": [
    {
     "data": {
      "text/plain": [
       "[(0, 1), (2, 1)]"
      ]
     },
     "execution_count": 14,
     "metadata": {},
     "output_type": "execute_result"
    }
   ],
   "source": [
    "[(х, у) for х in range(3) if х % 2 == 0 for у in range(3) if у % 2 == 1]"
   ]
  },
  {
   "cell_type": "code",
   "execution_count": null,
   "metadata": {},
   "outputs": [],
   "source": [
    "[(0,1)]\n",
    "[(2,1)]\n",
    "[(0,1),(2,1)]    #\n",
    "[(0,1),(0,2),(2,1)]\n",
    "[(0,1),(0,3),(2,1),(2,3)]"
   ]
  },
  {
   "cell_type": "markdown",
   "metadata": {},
   "source": [
    "Этот код генерирует список кортежей (x, y), где x - это числа из диапазона от 0 до 2, удовлетворяющие условию \"x четное\", а y - это числа из того же диапазона, но удовлетворяющие условию \"y нечетное\"."
   ]
  },
  {
   "cell_type": "code",
   "execution_count": null,
   "metadata": {},
   "outputs": [],
   "source": [
    "Что выведет код?\n",
    "```python\n",
    "```\n",
    "Что выведет код?\n",
    "Выберите правильный вариант\n",
    "Посмотреть результаты"
   ]
  },
  {
   "cell_type": "code",
   "execution_count": null,
   "metadata": {},
   "outputs": [],
   "source": [
    "#163+"
   ]
  },
  {
   "cell_type": "code",
   "execution_count": 15,
   "metadata": {},
   "outputs": [
    {
     "name": "stdout",
     "output_type": "stream",
     "text": [
      "[4, 8, 9, 27]\n"
     ]
    }
   ],
   "source": [
    "res = [х ** у for х in [2, 3] for у in [2, 3]]\n",
    "print(res)"
   ]
  },
  {
   "cell_type": "code",
   "execution_count": null,
   "metadata": {},
   "outputs": [],
   "source": [
    "[4,8]\n",
    "[4,27]\n",
    "[8,9]\n",
    "[9,27]\n",
    "[2,3,2,3]\n",
    "[4,6,6,9]\n",
    "[4,8,9,27]  #"
   ]
  },
  {
   "cell_type": "markdown",
   "metadata": {},
   "source": [
    "[2, 3] возводится в [2, 3] поэлементно каждый с каждым. Получаем 4, 8, 9, 27, что это соответствует 2^2, 2^3, 3^2, 3^3."
   ]
  },
  {
   "cell_type": "code",
   "execution_count": null,
   "metadata": {},
   "outputs": [],
   "source": [
    "Что выведет код?\n",
    "```python\n",
    "```\n",
    "Что выведет код?\n",
    "Выберите правильный вариант\n",
    "Посмотреть результаты"
   ]
  },
  {
   "cell_type": "code",
   "execution_count": null,
   "metadata": {},
   "outputs": [],
   "source": [
    "#164+"
   ]
  },
  {
   "cell_type": "code",
   "execution_count": 21,
   "metadata": {},
   "outputs": [
    {
     "name": "stdout",
     "output_type": "stream",
     "text": [
      "[1, 2]\n",
      "True 3\n"
     ]
    }
   ],
   "source": [
    "listoftuple = [(0, 1, 2), (1, 2, 3)]\n",
    "s1 = [b  for (a, b, c) in listoftuple]\n",
    "print(s1)\n",
    "s2 = list(map(lambda row: row[1], listoftuple))\n",
    "print(s1 == s2, sum(s1))"
   ]
  },
  {
   "cell_type": "code",
   "execution_count": null,
   "metadata": {},
   "outputs": [],
   "source": [
    "True 1\n",
    "False 1\n",
    "True 2\n",
    "False 2\n",
    "True 3   #\n",
    "False 3\n",
    "True 6 \n",
    "False 6\n",
    "SyntaxError"
   ]
  },
  {
   "cell_type": "markdown",
   "metadata": {},
   "source": [
    "Код создает два списка s1 и s2, извлекая второй элемент из каждого кортежа в listoftuple. В первом случае это делается с помощью генератора списков, во втором - с помощью функции map и лямбда-функции. "
   ]
  },
  {
   "cell_type": "code",
   "execution_count": null,
   "metadata": {},
   "outputs": [],
   "source": [
    "Что выведет код?\n",
    "```python\n",
    "```\n",
    "Что выведет код?\n",
    "Выберите правильный вариант\n",
    "Посмотреть результаты"
   ]
  },
  {
   "cell_type": "code",
   "execution_count": null,
   "metadata": {},
   "outputs": [],
   "source": [
    "#165+"
   ]
  },
  {
   "cell_type": "code",
   "execution_count": 22,
   "metadata": {},
   "outputs": [
    {
     "name": "stdout",
     "output_type": "stream",
     "text": [
      "144\n"
     ]
    }
   ],
   "source": [
    "def gen():\n",
    "    for i in range(1, 5):   \n",
    "        x = yield i\n",
    "        if x:\n",
    "            yield x**2\n",
    "g = gen()\n",
    "v = g.send(g.send(next(g) + next(g)) + next(g))\n",
    "print(v)"
   ]
  },
  {
   "cell_type": "code",
   "execution_count": null,
   "metadata": {},
   "outputs": [],
   "source": [
    "1\n",
    "3\n",
    "4\n",
    "9\n",
    "16\n",
    "81\n",
    "121\n",
    "144     #\n",
    "StopIteration\n",
    "None"
   ]
  },
  {
   "cell_type": "code",
   "execution_count": null,
   "metadata": {},
   "outputs": [],
   "source": [
    "next(g) генерирует числа подряд 1, 2, 3 и тд. \n",
    "g.send(next(g) + next(g))=g.send(1 + 2)=3^2=9\n",
    "g.send(9+next(g))=g.send(9+3)=12^2=144"
   ]
  },
  {
   "cell_type": "code",
   "execution_count": null,
   "metadata": {},
   "outputs": [],
   "source": [
    "12 июля 2021"
   ]
  },
  {
   "cell_type": "code",
   "execution_count": null,
   "metadata": {},
   "outputs": [],
   "source": [
    ".............................."
   ]
  },
  {
   "cell_type": "code",
   "execution_count": null,
   "metadata": {},
   "outputs": [],
   "source": [
    "Что выведет код?\n",
    "```python\n",
    "```\n",
    "Что выведет код?\n",
    "Выберите правильный вариант\n",
    "Посмотреть результаты"
   ]
  },
  {
   "cell_type": "code",
   "execution_count": null,
   "metadata": {},
   "outputs": [],
   "source": [
    "#166+"
   ]
  },
  {
   "cell_type": "code",
   "execution_count": null,
   "metadata": {},
   "outputs": [],
   "source": [
    "Какое использование генераторного выражения будет некорректным?"
   ]
  },
  {
   "cell_type": "code",
   "execution_count": null,
   "metadata": {},
   "outputs": [],
   "source": [
    "#1\n",
    "sorted(x ** 2 for x in range(4))\n",
    "\n",
    "#2\n",
    "sorted((x ** 2 for x in range(4)))\n",
    "\n",
    "#3\n",
    "sorted((x ** 2 for x in range(4)), reverse=True)\n",
    "\n",
    "#4\n",
    "sorted(x ** 2 for x in range(4), reverse=True)   \n",
    "\n",
    "#5\n",
    "list(x ** 2 for x in range(4))"
   ]
  },
  {
   "cell_type": "code",
   "execution_count": null,
   "metadata": {},
   "outputs": [],
   "source": [
    "1\n",
    "2\n",
    "3\n",
    "4  #\n",
    "5\n"
   ]
  },
  {
   "cell_type": "markdown",
   "metadata": {},
   "source": [
    "Если в sorted есть второй аргумент, то генераторное выражение надо брать в скобки"
   ]
  },
  {
   "cell_type": "code",
   "execution_count": null,
   "metadata": {},
   "outputs": [],
   "source": [
    "Что выведет код?\n",
    "```python\n",
    "```\n",
    "Что выведет код?\n",
    "Выберите правильный вариант\n",
    "Посмотреть результаты"
   ]
  },
  {
   "cell_type": "code",
   "execution_count": null,
   "metadata": {},
   "outputs": [],
   "source": [
    "#167+"
   ]
  },
  {
   "cell_type": "code",
   "execution_count": 2,
   "metadata": {},
   "outputs": [
    {
     "data": {
      "text/plain": [
       "3.0"
      ]
     },
     "execution_count": 2,
     "metadata": {},
     "output_type": "execute_result"
    }
   ],
   "source": [
    "import math\n",
    "sum(map(math.sqrt, (x ** 2 for x in range(3))))"
   ]
  },
  {
   "cell_type": "code",
   "execution_count": null,
   "metadata": {},
   "outputs": [],
   "source": [
    "0.0\n",
    "1.0\n",
    "3.0   #\n",
    "5.0\n",
    "6.0\n",
    "14.0\n"
   ]
  },
  {
   "cell_type": "markdown",
   "metadata": {},
   "source": [
    "Код вычислит сумму квадратных корней чисел, полученных путем возведения в квадрат чисел от 0 до 2."
   ]
  },
  {
   "cell_type": "code",
   "execution_count": null,
   "metadata": {},
   "outputs": [],
   "source": [
    "Что выведет код?\n",
    "```python\n",
    "```\n",
    "Что выведет код?\n",
    "Выберите правильный вариант\n",
    "Посмотреть результаты"
   ]
  },
  {
   "cell_type": "code",
   "execution_count": null,
   "metadata": {},
   "outputs": [],
   "source": [
    "#168 май 2024+"
   ]
  },
  {
   "cell_type": "code",
   "execution_count": 5,
   "metadata": {},
   "outputs": [
    {
     "name": "stdout",
     "output_type": "stream",
     "text": [
      "True\n"
     ]
    }
   ],
   "source": [
    "g1 = (c * 2 for c in 'ABC')\n",
    "def gen(m): \n",
    "    for c in m:\n",
    "        yield c * 2\n",
    "g2 = gen('ABC')\n",
    "print(list(g1) == list(g2))"
   ]
  },
  {
   "cell_type": "code",
   "execution_count": null,
   "metadata": {},
   "outputs": [],
   "source": [
    "True   #\n",
    "False\n",
    "TypeError\n",
    "SyntaxError"
   ]
  },
  {
   "cell_type": "markdown",
   "metadata": {},
   "source": [
    "Два способа задания генератора приводят к одному результату - списку AA, BB, CC."
   ]
  },
  {
   "cell_type": "code",
   "execution_count": null,
   "metadata": {},
   "outputs": [],
   "source": [
    "Что выведет код?\n",
    "```python\n",
    "```\n",
    "Что выведет код?\n",
    "Выберите правильный вариант\n",
    "Посмотреть результаты"
   ]
  },
  {
   "cell_type": "code",
   "execution_count": null,
   "metadata": {},
   "outputs": [],
   "source": [
    "#169+"
   ]
  },
  {
   "cell_type": "code",
   "execution_count": 10,
   "metadata": {},
   "outputs": [
    {
     "name": "stdout",
     "output_type": "stream",
     "text": [
      "3\n"
     ]
    }
   ],
   "source": [
    "G = (с for с in '123')  \n",
    "I1 = iter(G)  \n",
    "I2 = iter(G)\n",
    "_ = next(I1)\n",
    "_ = next(I1)\n",
    "print(next(I2))"
   ]
  },
  {
   "cell_type": "code",
   "execution_count": null,
   "metadata": {},
   "outputs": [],
   "source": [
    "1\n",
    "2\n",
    "3   #\n",
    "123\n",
    "123 123\n",
    "123 123 123\n",
    "None\n",
    "StopIteration"
   ]
  },
  {
   "cell_type": "markdown",
   "metadata": {},
   "source": [
    "Итераторы I1 и I2 связаны с одним общим генератором, откуда берутся значения. Поэтому дважды вызов next(I1) возвращает 1 и 2, а next(I2) - вернет уже 3."
   ]
  },
  {
   "cell_type": "code",
   "execution_count": null,
   "metadata": {},
   "outputs": [],
   "source": [
    "Что выведет код?\n",
    "```python\n",
    "```\n",
    "Что выведет код?\n",
    "Выберите правильный вариант\n",
    "Посмотреть результаты"
   ]
  },
  {
   "cell_type": "code",
   "execution_count": null,
   "metadata": {},
   "outputs": [],
   "source": [
    "#170+"
   ]
  },
  {
   "cell_type": "code",
   "execution_count": 11,
   "metadata": {},
   "outputs": [
    {
     "name": "stdout",
     "output_type": "stream",
     "text": [
      "0:1:2:0:1:4\n"
     ]
    }
   ],
   "source": [
    "def f(n):\n",
    "    yield from range(n)\n",
    "    yield from (x ** 2 for x in range(n))\n",
    "res = ':'.join(str(i) for i in f(3))\n",
    "print(res)"
   ]
  },
  {
   "cell_type": "code",
   "execution_count": null,
   "metadata": {},
   "outputs": [],
   "source": [
    "0:1:2\n",
    "0:1:4\n",
    "0:1:2:0:1:4   #\n",
    "0:1:2:0:1:2\n",
    "0:1:4:0:1:4"
   ]
  },
  {
   "cell_type": "markdown",
   "metadata": {},
   "source": [
    "Конструкция yield from делегирует вызовы другому генератору, пока он не исчерпан. Генератор f возвращает значения из двух других генераторов."
   ]
  },
  {
   "cell_type": "code",
   "execution_count": null,
   "metadata": {},
   "outputs": [],
   "source": [
    "Что выведет код?\n",
    "```python\n",
    "```\n",
    "Что выведет код?\n",
    "Выберите правильный вариант\n",
    "Посмотреть результаты"
   ]
  },
  {
   "cell_type": "code",
   "execution_count": null,
   "metadata": {},
   "outputs": [],
   "source": [
    "#171+"
   ]
  },
  {
   "cell_type": "code",
   "execution_count": 20,
   "metadata": {},
   "outputs": [
    {
     "name": "stdout",
     "output_type": "stream",
     "text": [
      "True\n"
     ]
    }
   ],
   "source": [
    "line = 'aaa bbb ccc d e f'\n",
    "g1 = ''.join(x.upper() for x in line.split() if len(x) > 1)\n",
    "def gen(line): \n",
    "    for x in line.split():\n",
    "        if len (x) > 1:\n",
    "            yield x.upper()\n",
    "g2 = ''.join(gen(line))\n",
    "print(g1 == g2)"
   ]
  },
  {
   "cell_type": "code",
   "execution_count": null,
   "metadata": {},
   "outputs": [],
   "source": [
    "True   #\n",
    "False\n",
    "TypeError\n",
    "SyntaxError"
   ]
  },
  {
   "cell_type": "markdown",
   "metadata": {},
   "source": [
    "Два способа задания генератора приводят к одному результату. Отфильтровываем слова с длиной больше 1 и преобразуем к верхнему регистру. Затем склеиваем."
   ]
  },
  {
   "cell_type": "code",
   "execution_count": null,
   "metadata": {},
   "outputs": [],
   "source": [
    "Что выведет код?\n",
    "```python\n",
    "```\n",
    "Что выведет код?\n",
    "Выберите правильный вариант\n",
    "Посмотреть результаты"
   ]
  },
  {
   "cell_type": "code",
   "execution_count": null,
   "metadata": {},
   "outputs": [],
   "source": [
    "#172+"
   ]
  },
  {
   "cell_type": "code",
   "execution_count": 21,
   "metadata": {},
   "outputs": [
    {
     "ename": "StopIteration",
     "evalue": "",
     "output_type": "error",
     "traceback": [
      "\u001b[1;31m---------------------------------------------------------------------------\u001b[0m",
      "\u001b[1;31mStopIteration\u001b[0m                             Traceback (most recent call last)",
      "\u001b[1;32m<ipython-input-21-c46621de1fd0>\u001b[0m in \u001b[0;36m<module>\u001b[1;34m\u001b[0m\n\u001b[0;32m      4\u001b[0m \u001b[0mg\u001b[0m \u001b[1;33m=\u001b[0m \u001b[0mgen\u001b[0m\u001b[1;33m(\u001b[0m\u001b[1;34m'abcd'\u001b[0m\u001b[1;33m)\u001b[0m\u001b[1;33m\u001b[0m\u001b[1;33m\u001b[0m\u001b[0m\n\u001b[0;32m      5\u001b[0m \u001b[0ml\u001b[0m \u001b[1;33m=\u001b[0m \u001b[0mlen\u001b[0m\u001b[1;33m(\u001b[0m\u001b[0mlist\u001b[0m\u001b[1;33m(\u001b[0m\u001b[0mg\u001b[0m\u001b[1;33m)\u001b[0m\u001b[1;33m)\u001b[0m\u001b[1;33m\u001b[0m\u001b[1;33m\u001b[0m\u001b[0m\n\u001b[1;32m----> 6\u001b[1;33m \u001b[0mprint\u001b[0m\u001b[1;33m(\u001b[0m\u001b[0mnext\u001b[0m\u001b[1;33m(\u001b[0m\u001b[0mg\u001b[0m\u001b[1;33m)\u001b[0m\u001b[1;33m,\u001b[0m \u001b[0ml\u001b[0m\u001b[1;33m)\u001b[0m\u001b[1;33m\u001b[0m\u001b[1;33m\u001b[0m\u001b[0m\n\u001b[0m",
      "\u001b[1;31mStopIteration\u001b[0m: "
     ]
    }
   ],
   "source": [
    "def gen(n):\n",
    "    for i in n:\n",
    "        yield i\n",
    "g = gen('abcd')\n",
    "l = len(list(g))\n",
    "print(next(g), l)"
   ]
  },
  {
   "cell_type": "code",
   "execution_count": null,
   "metadata": {},
   "outputs": [],
   "source": [
    "'a' 4\n",
    "'' 4\n",
    "'a' 0\n",
    "'' 0\n",
    "'' 0\n",
    "'abcd' 0\n",
    "'abcd' 4\n",
    "StopIteration   #\n",
    "TypeError"
   ]
  },
  {
   "cell_type": "markdown",
   "metadata": {},
   "source": [
    "Вызов list(g) исчерпывает генератор, поэтому последующий next(g) приводит к исключению StopIteration."
   ]
  },
  {
   "cell_type": "code",
   "execution_count": null,
   "metadata": {},
   "outputs": [],
   "source": [
    "21 july 2021"
   ]
  },
  {
   "cell_type": "code",
   "execution_count": null,
   "metadata": {},
   "outputs": [],
   "source": [
    "//////////////"
   ]
  },
  {
   "cell_type": "code",
   "execution_count": null,
   "metadata": {},
   "outputs": [],
   "source": [
    "#173+"
   ]
  },
  {
   "cell_type": "code",
   "execution_count": 1,
   "metadata": {},
   "outputs": [
    {
     "name": "stdout",
     "output_type": "stream",
     "text": [
      "125\n"
     ]
    }
   ],
   "source": [
    "def f(a, b, c):\n",
    "    return (a + 2*b) ** c\n",
    "w = {\"a\": 1, \"b\": 2, \"c\": 3}\n",
    "print(f(**w))"
   ]
  },
  {
   "cell_type": "code",
   "execution_count": null,
   "metadata": {},
   "outputs": [],
   "source": [
    "0\n",
    "(a+2*b)**c\n",
    "64\n",
    "125  #"
   ]
  },
  {
   "cell_type": "markdown",
   "metadata": {},
   "source": [
    "Код использует словарь w в качестве именнованных аргументов для функции f(a, b, c), которая вычисляет выражение (a + 2*b) ** c."
   ]
  },
  {
   "cell_type": "code",
   "execution_count": null,
   "metadata": {},
   "outputs": [],
   "source": [
    "Что выведет код?\n",
    "```python\n",
    "```\n",
    "Что выведет код?\n",
    "Выберите правильный вариант\n",
    "Посмотреть результаты"
   ]
  },
  {
   "cell_type": "code",
   "execution_count": null,
   "metadata": {},
   "outputs": [],
   "source": [
    "#174+"
   ]
  },
  {
   "cell_type": "code",
   "execution_count": 2,
   "metadata": {},
   "outputs": [
    {
     "name": "stdout",
     "output_type": "stream",
     "text": [
      "{1: 'aaa', 2: 'bbbb'} {3, 4}\n"
     ]
    }
   ],
   "source": [
    "ranks = {'aaa': 1, 'bbbb': 2}\n",
    "rank_dict = {rank: name for name, rank in ranks.items()}\n",
    "set_len = {len(name) for name in rank_dict.values()}\n",
    "print(rank_dict, set_len)"
   ]
  },
  {
   "cell_type": "code",
   "execution_count": null,
   "metadata": {},
   "outputs": [],
   "source": [
    "{'aaa':1, 'bbbb':2}{1, 2}\n",
    "{'aaa':1, 'bbbb':2}{3, 4}\n",
    "{'aaa':1, 'bbbb':2}{1, 2, 3, 4}\n",
    "{1: 'aaa', 2: 'bbbb'} {1, 2}\n",
    "{1: 'aaa', 2: 'bbbb'} {3, 4}  #\n",
    "{1: 'aaa', 2: 'bbbb'}{1, 2, 3, 4}"
   ]
  },
  {
   "cell_type": "markdown",
   "metadata": {},
   "source": [
    "Код обращает пары ключ-значение в словаре ranks, формируя новый словарь rank_dict. Затем он создает множество set_len, включающее длины всех строк-значений в rank_dict. "
   ]
  },
  {
   "cell_type": "code",
   "execution_count": null,
   "metadata": {},
   "outputs": [],
   "source": [
    "Что выведет код?\n",
    "```python\n",
    "```\n",
    "Что выведет код?\n",
    "Выберите правильный вариант\n",
    "Посмотреть результаты"
   ]
  },
  {
   "cell_type": "code",
   "execution_count": null,
   "metadata": {},
   "outputs": [],
   "source": [
    "#175"
   ]
  },
  {
   "cell_type": "code",
   "execution_count": 3,
   "metadata": {},
   "outputs": [
    {
     "name": "stdout",
     "output_type": "stream",
     "text": [
      "[[1, 2], [2, 1]] 120\n"
     ]
    }
   ],
   "source": [
    "def f(seq):\n",
    "    if not seq:  \n",
    "        return [seq]\n",
    "    else:\n",
    "        res = []\n",
    "        for i in range(len(seq)):\n",
    "            rest = seq[:i] + seq[i+1:] \n",
    "            for x in f(rest):\n",
    "                res.append(seq[i:i+1] + x)\n",
    "        return res\n",
    "a = f([1, 2])\n",
    "b = f([1, 2, 3, 4, 5])\n",
    "print(a, len(b))"
   ]
  },
  {
   "cell_type": "code",
   "execution_count": null,
   "metadata": {},
   "outputs": [],
   "source": [
    "[2,1]120\n",
    "[1,2]120\n",
    "[[1,2],[2,1]]120   #\n",
    "[2,1]15\n",
    "[1,2]15\n",
    "[[1,2],[2,1]]15\n",
    "[2,1]5\n",
    "[1,2]5\n",
    "[[1,2],[2,1]]5"
   ]
  },
  {
   "cell_type": "markdown",
   "metadata": {},
   "source": [
    "Функция f создает все перестановки принятой последовательности элементов. Количество перестановок из n элементов определяется как n!."
   ]
  },
  {
   "cell_type": "code",
   "execution_count": null,
   "metadata": {},
   "outputs": [],
   "source": [
    "Что выведет код?\n",
    "```python\n",
    "```\n",
    "Что выведет код?\n",
    "Выберите правильный вариант\n",
    "Посмотреть результаты"
   ]
  },
  {
   "cell_type": "code",
   "execution_count": null,
   "metadata": {},
   "outputs": [],
   "source": [
    "26 july 2021"
   ]
  },
  {
   "cell_type": "code",
   "execution_count": null,
   "metadata": {},
   "outputs": [],
   "source": [
    "......................"
   ]
  },
  {
   "cell_type": "code",
   "execution_count": null,
   "metadata": {},
   "outputs": [],
   "source": [
    "Что выведет код?\n",
    "```python\n",
    "```\n",
    "Что выведет код?\n",
    "Выберите правильный вариант\n",
    "Посмотреть результаты"
   ]
  },
  {
   "cell_type": "code",
   "execution_count": null,
   "metadata": {},
   "outputs": [],
   "source": [
    "#176+"
   ]
  },
  {
   "cell_type": "code",
   "execution_count": 1,
   "metadata": {
    "scrolled": true
   },
   "outputs": [
    {
     "name": "stdout",
     "output_type": "stream",
     "text": [
      "[[0, 1], [0], [0]]\n"
     ]
    }
   ],
   "source": [
    "x = [[0] for i in range(3)]\n",
    "x[0].append(1)\n",
    "print(x)"
   ]
  },
  {
   "cell_type": "code",
   "execution_count": null,
   "metadata": {},
   "outputs": [],
   "source": [
    "[[0, 1], [0], [0]]  #\n",
    "[[0, 1], [0]]\n",
    "[[0, 1], [0, 1]]\n",
    "[[0, 1], [0, 1], [0, 1]]\n",
    "[[0, 1], [1], [1]]\n",
    "[[1], [1], [1]]\n",
    "[[1]]\n",
    "TypeError\n",
    "IndexError"
   ]
  },
  {
   "cell_type": "markdown",
   "metadata": {},
   "source": [
    "Здесь 1 добавится только в первый внутренний список [0], так как генератор списка создает каждый раз новый"
   ]
  },
  {
   "cell_type": "code",
   "execution_count": null,
   "metadata": {},
   "outputs": [],
   "source": [
    "Что выведет код?\n",
    "```python\n",
    "```\n",
    "Что выведет код?\n",
    "Выберите правильный вариант\n",
    "Посмотреть результаты"
   ]
  },
  {
   "cell_type": "code",
   "execution_count": null,
   "metadata": {},
   "outputs": [],
   "source": [
    "#177+"
   ]
  },
  {
   "cell_type": "code",
   "execution_count": 8,
   "metadata": {},
   "outputs": [
    {
     "name": "stdout",
     "output_type": "stream",
     "text": [
      "True\n"
     ]
    }
   ],
   "source": [
    "def f(*seqs):\n",
    "    seqs = [list(S) for S in seqs]\n",
    "    res = []\n",
    "    while all(seqs):\n",
    "        res.append(tuple(S.pop(0) for S in seqs))\n",
    "    return res\n",
    "s1, s2 = 'abc', '12345'\n",
    "print(list(zip(s1, s2)) == f(s1, s2))"
   ]
  },
  {
   "cell_type": "code",
   "execution_count": null,
   "metadata": {},
   "outputs": [],
   "source": [
    "True   #\n",
    "False\n",
    "TypeError\n",
    "SyntaxError"
   ]
  },
  {
   "cell_type": "markdown",
   "metadata": {},
   "source": [
    "Код сравнивает результаты функций zip и f, оба из которых объединяют элементы переданных строк в кортежи. f - это реализация zip"
   ]
  },
  {
   "cell_type": "code",
   "execution_count": null,
   "metadata": {},
   "outputs": [],
   "source": [
    "Что выведет код?\n",
    "```python\n",
    "```\n",
    "Что выведет код?\n",
    "Выберите правильный вариант\n",
    "Посмотреть результаты"
   ]
  },
  {
   "cell_type": "code",
   "execution_count": null,
   "metadata": {},
   "outputs": [],
   "source": [
    "#178+"
   ]
  },
  {
   "cell_type": "code",
   "execution_count": 10,
   "metadata": {},
   "outputs": [
    {
     "name": "stdout",
     "output_type": "stream",
     "text": [
      "False\n"
     ]
    }
   ],
   "source": [
    "def f(*seqs, pad=None):\n",
    "    seqs = [list(S) for S in seqs]\n",
    "    res = []\n",
    "    while any(seqs):\n",
    "        res.append(tuple((S.pop(0) if S else pad) for S in seqs))\n",
    "    return res\n",
    "\n",
    "s1, s2 = 'abc', '12345'\n",
    "print(list(zip(s1, s2)) == f(s1, s2))"
   ]
  },
  {
   "cell_type": "code",
   "execution_count": 11,
   "metadata": {},
   "outputs": [
    {
     "data": {
      "text/plain": [
       "[('a', '1'), ('b', '2'), ('c', '3'), (None, '4'), (None, '5')]"
      ]
     },
     "execution_count": 11,
     "metadata": {},
     "output_type": "execute_result"
    }
   ],
   "source": [
    "f(s1, s2)"
   ]
  },
  {
   "cell_type": "code",
   "execution_count": null,
   "metadata": {},
   "outputs": [],
   "source": [
    "True\n",
    "False   #\n",
    "TypeError\n",
    "SyntaxError"
   ]
  },
  {
   "cell_type": "markdown",
   "metadata": {},
   "source": [
    "f соединяет элементы переданных строк в кортежи даже после исчерпания самой короткой строки, заполняя \"пустые\" места значением None. Выводом будет False, так как zip(s1, s2) отбрасывает с None"
   ]
  },
  {
   "cell_type": "code",
   "execution_count": null,
   "metadata": {},
   "outputs": [],
   "source": [
    "Что выведет код?\n",
    "```python\n",
    "```\n",
    "Что выведет код?\n",
    "Выберите правильный вариант\n",
    "Посмотреть результаты"
   ]
  },
  {
   "cell_type": "code",
   "execution_count": null,
   "metadata": {},
   "outputs": [],
   "source": [
    "#179+"
   ]
  },
  {
   "cell_type": "code",
   "execution_count": 2,
   "metadata": {},
   "outputs": [
    {
     "name": "stdout",
     "output_type": "stream",
     "text": [
      "[('a', 'x'), ('b', 'y')]\n"
     ]
    }
   ],
   "source": [
    "def f(*seqs):\n",
    "    minlen = min(len(s) for s in seqs)\n",
    "    return [tuple(s[i] for s in seqs) for i in range(minlen)]\n",
    "\n",
    "s1, s2 = 'ab' , 'xyz'\n",
    "print(f(s1, s2))"
   ]
  },
  {
   "cell_type": "code",
   "execution_count": null,
   "metadata": {},
   "outputs": [],
   "source": [
    "[('a','x'), ('b', 'y')]   #\n",
    "[('a','x'), ('b', 'y'), (None, 'z')]\n",
    "[('a', 'b'), ('x', 'y')]\n",
    "[('a', 'b', None), ('x', 'y', 'z')]"
   ]
  },
  {
   "cell_type": "markdown",
   "metadata": {},
   "source": [
    "f в этом коде создает список кортежей, соединяя соответствующие элементы переданных последовательностей. Для s1 = 'ab' и s2 = 'xyz', результатом будет [('a', 'x'), ('b', 'y')]."
   ]
  },
  {
   "cell_type": "code",
   "execution_count": null,
   "metadata": {},
   "outputs": [],
   "source": [
    "Что выведет код?\n",
    "```python\n",
    "```\n",
    "Что выведет код?\n",
    "Выберите правильный вариант\n",
    "Посмотреть результаты"
   ]
  },
  {
   "cell_type": "code",
   "execution_count": null,
   "metadata": {},
   "outputs": [],
   "source": [
    "#180+"
   ]
  },
  {
   "cell_type": "code",
   "execution_count": 12,
   "metadata": {},
   "outputs": [
    {
     "name": "stdout",
     "output_type": "stream",
     "text": [
      "[['a', 'b'], ['b', 'a']] 24\n"
     ]
    }
   ],
   "source": [
    "def f(seq):\n",
    "    if not seq:\n",
    "        yield seq\n",
    "    else:\n",
    "        for i in range(len(seq)):\n",
    "            rest = seq[:i] + seq[i+1:]\n",
    "            for x in f(rest):\n",
    "                yield seq[i:i+1] + x\n",
    "a = [*f(['a', 'b'])]\n",
    "b = [*f(['a', 'b', 'c', 'd'])]\n",
    "print(a, len(b))"
   ]
  },
  {
   "cell_type": "code",
   "execution_count": 5,
   "metadata": {},
   "outputs": [
    {
     "ename": "SyntaxError",
     "evalue": "invalid syntax (<ipython-input-5-c639f1399d5f>, line 1)",
     "output_type": "error",
     "traceback": [
      "\u001b[1;36m  File \u001b[1;32m\"<ipython-input-5-c639f1399d5f>\"\u001b[1;36m, line \u001b[1;32m1\u001b[0m\n\u001b[1;33m    [['a', 'b'], ['b', 'a']] 24\u001b[0m\n\u001b[1;37m                             ^\u001b[0m\n\u001b[1;31mSyntaxError\u001b[0m\u001b[1;31m:\u001b[0m invalid syntax\n"
     ]
    }
   ],
   "source": [
    "['a', 'b'] 24\n",
    "['b', 'a'] 24\n",
    "[['a', 'b'], ['b', 'a']] 24  #\n",
    "['a', 'b'] 6\n",
    "['b','a'] 6\n",
    "[['a', 'b'], ['b', 'a']] 6\n",
    "['a', 'b'] 4\n",
    "['b', 'a'] 4\n",
    "[['a', 'b'], ['b', 'a']] 4"
   ]
  },
  {
   "cell_type": "markdown",
   "metadata": {},
   "source": [
    "f создает все возможные перестановки элементов списка. Переменная a будет содержать все перестановки из a, b.  len(b) равно числу всех возможных перестановок из 4 элементов, т е 4! = 24."
   ]
  },
  {
   "cell_type": "code",
   "execution_count": null,
   "metadata": {},
   "outputs": [],
   "source": [
    "Что выведет код?\n",
    "```python\n",
    "```\n",
    "Что выведет код?\n",
    "Выберите правильный вариант\n",
    "Посмотреть результаты"
   ]
  },
  {
   "cell_type": "code",
   "execution_count": null,
   "metadata": {},
   "outputs": [],
   "source": [
    "#181+"
   ]
  },
  {
   "cell_type": "code",
   "execution_count": 6,
   "metadata": {},
   "outputs": [
    {
     "ename": "NameError",
     "evalue": "name 'i' is not defined",
     "output_type": "error",
     "traceback": [
      "\u001b[1;31m---------------------------------------------------------------------------\u001b[0m",
      "\u001b[1;31mNameError\u001b[0m                                 Traceback (most recent call last)",
      "\u001b[1;32m<ipython-input-6-19f9c095dba2>\u001b[0m in \u001b[0;36m<module>\u001b[1;34m\u001b[0m\n\u001b[0;32m      1\u001b[0m \u001b[0m_\u001b[0m \u001b[1;33m=\u001b[0m \u001b[1;33m[\u001b[0m\u001b[0mi\u001b[0m \u001b[1;32mfor\u001b[0m \u001b[0mi\u001b[0m \u001b[1;32min\u001b[0m \u001b[0mrange\u001b[0m\u001b[1;33m(\u001b[0m\u001b[1;36m10\u001b[0m\u001b[1;33m)\u001b[0m\u001b[1;33m]\u001b[0m\u001b[1;33m\u001b[0m\u001b[1;33m\u001b[0m\u001b[0m\n\u001b[1;32m----> 2\u001b[1;33m \u001b[0mprint\u001b[0m\u001b[1;33m(\u001b[0m\u001b[0mi\u001b[0m\u001b[1;33m)\u001b[0m\u001b[1;33m\u001b[0m\u001b[1;33m\u001b[0m\u001b[0m\n\u001b[0m",
      "\u001b[1;31mNameError\u001b[0m: name 'i' is not defined"
     ]
    }
   ],
   "source": [
    "_ = [i for i in range(10)]\n",
    "print(i)"
   ]
  },
  {
   "cell_type": "code",
   "execution_count": null,
   "metadata": {},
   "outputs": [],
   "source": [
    "0\n",
    "1\n",
    "9\n",
    "10\n",
    "NameError  #\n",
    "TypeError"
   ]
  },
  {
   "cell_type": "markdown",
   "metadata": {},
   "source": [
    "Переменная i определена только внутри области видимости генератора списка "
   ]
  },
  {
   "cell_type": "code",
   "execution_count": null,
   "metadata": {},
   "outputs": [],
   "source": [
    "2 авг 2021"
   ]
  },
  {
   "cell_type": "code",
   "execution_count": null,
   "metadata": {},
   "outputs": [],
   "source": [
    "/////////////////////////"
   ]
  },
  {
   "cell_type": "code",
   "execution_count": null,
   "metadata": {},
   "outputs": [],
   "source": [
    "Что выведет код?\n",
    "```python\n",
    "```\n",
    "Что выведет код?\n",
    "Выберите правильный вариант\n",
    "Посмотреть результаты"
   ]
  },
  {
   "cell_type": "code",
   "execution_count": null,
   "metadata": {},
   "outputs": [],
   "source": [
    "#182+"
   ]
  },
  {
   "cell_type": "code",
   "execution_count": 1,
   "metadata": {},
   "outputs": [
    {
     "name": "stdout",
     "output_type": "stream",
     "text": [
      "['123', '231', '312']\n"
     ]
    }
   ],
   "source": [
    "def f(seq):\n",
    "    for i in range(len(seq)):\n",
    "        yield seq[i:] + seq[:i]\n",
    "print((list(f('123'))))"
   ]
  },
  {
   "cell_type": "code",
   "execution_count": null,
   "metadata": {},
   "outputs": [],
   "source": [
    "['123', '231', '312']    #\n",
    "['231', '312', '123']\n",
    "['312', '123', '231'] \n",
    "['312', '231', '123'] "
   ]
  },
  {
   "cell_type": "markdown",
   "metadata": {},
   "source": [
    "Генератор последовательно возвращает циклические сдвиги заданной строки, проходя через все символы строки seq и на каждом шаге сдвигая строку на одну позицию влево, добавляя отброшенный символ в конец"
   ]
  },
  {
   "cell_type": "code",
   "execution_count": null,
   "metadata": {},
   "outputs": [],
   "source": [
    "Что выведет код?\n",
    "```python\n",
    "```\n",
    "Что выведет код?\n",
    "Выберите правильный вариант\n",
    "Посмотреть результаты"
   ]
  },
  {
   "cell_type": "code",
   "execution_count": null,
   "metadata": {},
   "outputs": [],
   "source": [
    "#183+"
   ]
  },
  {
   "cell_type": "code",
   "execution_count": 2,
   "metadata": {},
   "outputs": [
    {
     "data": {
      "text/plain": [
       "{'bc': ('b', 'c')}"
      ]
     },
     "execution_count": 2,
     "metadata": {},
     "output_type": "execute_result"
    }
   ],
   "source": [
    "{x + y: (x, y) for x in 'ab' for y in 'c' if not x.startswith('a')}"
   ]
  },
  {
   "cell_type": "code",
   "execution_count": null,
   "metadata": {},
   "outputs": [],
   "source": [
    "{'ac': ('a', 'c')}\n",
    "{'bc': ('b', 'c')}  #\n",
    "{'ab': ('a', 'b')}\n",
    "{'ac': ('a', 'c'), 'bc': ('b', 'c')}"
   ]
  },
  {
   "cell_type": "markdown",
   "metadata": {},
   "source": [
    "Код создает словарь, где ключами являются конкатенации строк из переменных x и y, а значениями - кортежи из x и y. Отбрасываются те x, что начинаются на 'a'."
   ]
  },
  {
   "cell_type": "code",
   "execution_count": null,
   "metadata": {},
   "outputs": [],
   "source": [
    "Что выведет код?\n",
    "```python\n",
    "```\n",
    "Что выведет код?\n",
    "Выберите правильный вариант\n",
    "Посмотреть результаты"
   ]
  },
  {
   "cell_type": "code",
   "execution_count": null,
   "metadata": {},
   "outputs": [],
   "source": [
    "#184+"
   ]
  },
  {
   "cell_type": "code",
   "execution_count": 8,
   "metadata": {},
   "outputs": [
    {
     "name": "stdout",
     "output_type": "stream",
     "text": [
      "assert\n"
     ]
    }
   ],
   "source": [
    "try:\n",
    "    assert False, \"assert\"\n",
    "    print(\"try\")\n",
    "except Exception as err:\n",
    "    print(err)\n",
    "else:\n",
    "    print(\"else\")"
   ]
  },
  {
   "cell_type": "code",
   "execution_count": null,
   "metadata": {},
   "outputs": [],
   "source": [
    "try\n",
    "assert   #\n",
    "except\n",
    "else\n",
    "None"
   ]
  },
  {
   "cell_type": "markdown",
   "metadata": {},
   "source": [
    "Строка с assert генерирует исключение, так как туда передано False (assert требует истинности условия), второй аргумент - текст ошибки, что будет выведен в секции except"
   ]
  },
  {
   "cell_type": "code",
   "execution_count": null,
   "metadata": {},
   "outputs": [],
   "source": [
    "Что выведет код?\n",
    "```python\n",
    "```\n",
    "Что выведет код?\n",
    "Выберите правильный вариант\n",
    "Посмотреть результаты"
   ]
  },
  {
   "cell_type": "code",
   "execution_count": null,
   "metadata": {},
   "outputs": [],
   "source": [
    "#185+"
   ]
  },
  {
   "cell_type": "code",
   "execution_count": 9,
   "metadata": {},
   "outputs": [
    {
     "name": "stdout",
     "output_type": "stream",
     "text": [
      "[('a', 'x'), ('b', 'y'), (None, 'z')]\n"
     ]
    }
   ],
   "source": [
    "def f(*seqs, pad=None):\n",
    "    maxlen = max(len(S) for S in seqs)\n",
    "    index = range(maxlen)\n",
    "    return [tuple((S[i] if len(S) > i else pad) for S in seqs) for i in index]\n",
    "s1, s2 = 'ab' , 'xyz'\n",
    "print(f(s1, s2))"
   ]
  },
  {
   "cell_type": "code",
   "execution_count": null,
   "metadata": {},
   "outputs": [],
   "source": [
    "[('a', 'x'), ('b', 'y')]\n",
    "[('a', 'x'), ('b', 'y'), (None, 'z')]  #\n",
    "[('a','b'), ('x', 'y')]\n",
    "[('a','b', None), ('x', 'y', 'z')]"
   ]
  },
  {
   "cell_type": "markdown",
   "metadata": {},
   "source": [
    "Этот код выравнивает несколько последовательностей (строк) до длины самой длинной из них, заполняя недостающие элементы символом pad. Здесь используется значение pad по умолчанию, то есть None. "
   ]
  },
  {
   "cell_type": "code",
   "execution_count": null,
   "metadata": {},
   "outputs": [],
   "source": [
    "Что выведет код?\n",
    "```python\n",
    "```\n",
    "Что выведет код?\n",
    "Выберите правильный вариант\n",
    "Посмотреть результаты"
   ]
  },
  {
   "cell_type": "code",
   "execution_count": null,
   "metadata": {},
   "outputs": [],
   "source": [
    "#186+"
   ]
  },
  {
   "cell_type": "code",
   "execution_count": 10,
   "metadata": {},
   "outputs": [
    {
     "name": "stdout",
     "output_type": "stream",
     "text": [
      "True\n"
     ]
    }
   ],
   "source": [
    "def mymap(func, *seqs):\n",
    "    res = []\n",
    "    for args in zip( *seqs):\n",
    "        res.append(func( *args))\n",
    "    return res\n",
    "x = [1, 2, 3]\n",
    "y = [2, 3, 4, 5]\n",
    "a = mymap(pow, x, y)\n",
    "b = [*map(pow, x, y)]\n",
    "print(a == b)"
   ]
  },
  {
   "cell_type": "code",
   "execution_count": null,
   "metadata": {},
   "outputs": [],
   "source": [
    "True  #\n",
    "False\n",
    "None\n",
    "TypeError\n",
    "SyntaxError"
   ]
  },
  {
   "cell_type": "markdown",
   "metadata": {},
   "source": [
    "Функции mymap и map применяют функцию возведения в степень (pow) к парам элементов из списков x и y. Код выведет True, так как обе функции возвращают одинаковые списки [1, 8, 81], не учитывая \"лишний\" элемент в списке y."
   ]
  },
  {
   "cell_type": "code",
   "execution_count": null,
   "metadata": {},
   "outputs": [],
   "source": [
    "Что выведет код?\n",
    "```python\n",
    "```\n",
    "Что выведет код?\n",
    "Выберите правильный вариант\n",
    "Посмотреть результаты"
   ]
  },
  {
   "cell_type": "code",
   "execution_count": null,
   "metadata": {},
   "outputs": [],
   "source": [
    "#187+"
   ]
  },
  {
   "cell_type": "code",
   "execution_count": 11,
   "metadata": {},
   "outputs": [
    {
     "name": "stdout",
     "output_type": "stream",
     "text": [
      "yxxy\n"
     ]
    }
   ],
   "source": [
    "def f(seq):\n",
    "    for i in range(len(seq)):\n",
    "        seq = seq[1:] + seq[:1]\n",
    "        yield seq\n",
    "print(''.join(list(f('xy'))))"
   ]
  },
  {
   "cell_type": "code",
   "execution_count": null,
   "metadata": {},
   "outputs": [],
   "source": [
    "xxyy\n",
    "yyxx\n",
    "xyyx\n",
    "yxxy   #\n",
    "yxyx"
   ]
  },
  {
   "cell_type": "markdown",
   "metadata": {},
   "source": [
    "Этот код создаёт генератор, который выполняет циклический сдвиг символов строки влево на каждом шаге. В результате из xy получаются yx и снова xy."
   ]
  },
  {
   "cell_type": "code",
   "execution_count": null,
   "metadata": {},
   "outputs": [],
   "source": [
    "Что выведет код?\n",
    "```python\n",
    "```\n",
    "Что выведет код?\n",
    "Выберите правильный вариант\n",
    "Посмотреть результаты"
   ]
  },
  {
   "cell_type": "code",
   "execution_count": null,
   "metadata": {},
   "outputs": [],
   "source": [
    "#188+"
   ]
  },
  {
   "cell_type": "code",
   "execution_count": 12,
   "metadata": {},
   "outputs": [
    {
     "name": "stdout",
     "output_type": "stream",
     "text": [
      "exc\n"
     ]
    }
   ],
   "source": [
    "class MyExc(Exception): pass \n",
    "def f():\n",
    "    raise MyExc()\n",
    "    return  'f'\n",
    "try:\n",
    "    print(f())\n",
    "    print('try')\n",
    "except MyExc:\n",
    "    print('exc')"
   ]
  },
  {
   "cell_type": "code",
   "execution_count": null,
   "metadata": {},
   "outputs": [],
   "source": [
    "f\n",
    "try\n",
    "exc  #\n",
    "None"
   ]
  },
  {
   "cell_type": "markdown",
   "metadata": {},
   "source": [
    "Код определяет исключение MyExc, затем вызывает функцию f(), которая немедленно вызывает это исключение. Таким образом, f() не завершается нормально и не возвращает 'f'. Следовательно, код выведет 'exc', так как исключение MyExc было обработано в блоке except."
   ]
  },
  {
   "cell_type": "markdown",
   "metadata": {},
   "source": [
    "Функция f вызывает исключение MyExc, поэтому код выведет 'exc', так как исключение MyExc было обработано в блоке except."
   ]
  },
  {
   "cell_type": "code",
   "execution_count": null,
   "metadata": {},
   "outputs": [],
   "source": [
    "Что выведет код?\n",
    "```python\n",
    "```\n",
    "Что выведет код?\n",
    "Выберите правильный вариант\n",
    "Посмотреть результаты"
   ]
  },
  {
   "cell_type": "code",
   "execution_count": null,
   "metadata": {},
   "outputs": [],
   "source": [
    "10 авг 2021"
   ]
  },
  {
   "cell_type": "code",
   "execution_count": null,
   "metadata": {},
   "outputs": [],
   "source": [
    "......................................."
   ]
  },
  {
   "cell_type": "code",
   "execution_count": null,
   "metadata": {},
   "outputs": [],
   "source": [
    "Что выведет код?\n",
    "```python\n",
    "```\n",
    "Что выведет код?\n",
    "Выберите правильный вариант\n",
    "Посмотреть результаты"
   ]
  },
  {
   "cell_type": "code",
   "execution_count": null,
   "metadata": {},
   "outputs": [],
   "source": [
    "#189+"
   ]
  },
  {
   "cell_type": "code",
   "execution_count": null,
   "metadata": {},
   "outputs": [],
   "source": [
    "Какой случай не относится к вариантам применения исключения?"
   ]
  },
  {
   "cell_type": "code",
   "execution_count": null,
   "metadata": {},
   "outputs": [],
   "source": [
    "обработка ошибок\n",
    "выполнение действий при завершении\n",
    "уведомления о событиях\n",
    "безусловный переход\n",
    "оптимизация медленных вычислений  #"
   ]
  },
  {
   "cell_type": "code",
   "execution_count": null,
   "metadata": {},
   "outputs": [],
   "source": [
    "Оптимизация медленных вычислений и обработка исключений никак не связаны."
   ]
  },
  {
   "cell_type": "code",
   "execution_count": null,
   "metadata": {},
   "outputs": [],
   "source": [
    "Что выведет код?\n",
    "```python\n",
    "```\n",
    "Что выведет код?\n",
    "Выберите правильный вариант\n",
    "Посмотреть результаты"
   ]
  },
  {
   "cell_type": "code",
   "execution_count": null,
   "metadata": {},
   "outputs": [],
   "source": [
    "#190+"
   ]
  },
  {
   "cell_type": "code",
   "execution_count": 1,
   "metadata": {},
   "outputs": [
    {
     "name": "stdout",
     "output_type": "stream",
     "text": [
      "1\n"
     ]
    }
   ],
   "source": [
    "x = 0\n",
    "try:\n",
    "    1/0\n",
    "    x += 1\n",
    "except ZeroDivisionError:\n",
    "    x += 1\n",
    "else: \n",
    "    x += 1\n",
    "    1/0\n",
    "    x += 1\n",
    "print(x)"
   ]
  },
  {
   "cell_type": "code",
   "execution_count": null,
   "metadata": {},
   "outputs": [],
   "source": [
    "0\n",
    "1  #\n",
    "2\n",
    "3\n",
    "4\n",
    "ZeroDivisionError"
   ]
  },
  {
   "cell_type": "markdown",
   "metadata": {},
   "source": [
    "Этот код приведет к исключению ZeroDivisionError при попытке деления на ноль в блоке try. В результате переменная x, инициализированная как 0, увеличивается на 1 в блоке except, в результате чего в конце будет напечатано значение 1."
   ]
  },
  {
   "cell_type": "code",
   "execution_count": null,
   "metadata": {},
   "outputs": [],
   "source": [
    "Что выведет код?\n",
    "```python\n",
    "```\n",
    "Что выведет код?\n",
    "Выберите правильный вариант\n",
    "Посмотреть результаты"
   ]
  },
  {
   "cell_type": "code",
   "execution_count": null,
   "metadata": {},
   "outputs": [],
   "source": [
    "#191+"
   ]
  },
  {
   "cell_type": "code",
   "execution_count": 5,
   "metadata": {},
   "outputs": [
    {
     "ename": "SyntaxError",
     "evalue": "invalid syntax (<ipython-input-5-44443bbeb57e>, line 4)",
     "output_type": "error",
     "traceback": [
      "\u001b[1;36m  File \u001b[1;32m\"<ipython-input-5-44443bbeb57e>\"\u001b[1;36m, line \u001b[1;32m4\u001b[0m\n\u001b[1;33m    else:\u001b[0m\n\u001b[1;37m    ^\u001b[0m\n\u001b[1;31mSyntaxError\u001b[0m\u001b[1;31m:\u001b[0m invalid syntax\n"
     ]
    }
   ],
   "source": [
    "try:\n",
    "    print('try')\n",
    "    1/0\n",
    "else:\n",
    "    print('else')"
   ]
  },
  {
   "cell_type": "code",
   "execution_count": null,
   "metadata": {},
   "outputs": [],
   "source": [
    "try\n",
    "else\n",
    "SyntaxError  #\n",
    "ZeroDivisionError"
   ]
  },
  {
   "cell_type": "markdown",
   "metadata": {},
   "source": [
    "Блок else должен следовать за блоками except, и если его нет, то будет вызвана ошибка синтаксиса SyntaxError."
   ]
  },
  {
   "cell_type": "code",
   "execution_count": null,
   "metadata": {},
   "outputs": [],
   "source": [
    "Что выведет код?\n",
    "```python\n",
    "```\n",
    "Что выведет код?\n",
    "Выберите правильный вариант\n",
    "Посмотреть результаты"
   ]
  },
  {
   "cell_type": "code",
   "execution_count": null,
   "metadata": {},
   "outputs": [],
   "source": [
    "#192+"
   ]
  },
  {
   "cell_type": "code",
   "execution_count": 6,
   "metadata": {},
   "outputs": [
    {
     "ename": "ZeroDivisionError",
     "evalue": "division by zero",
     "output_type": "error",
     "traceback": [
      "\u001b[1;31m---------------------------------------------------------------------------\u001b[0m",
      "\u001b[1;31mZeroDivisionError\u001b[0m                         Traceback (most recent call last)",
      "\u001b[1;32m<ipython-input-6-d35dcace1aa9>\u001b[0m in \u001b[0;36m<module>\u001b[1;34m\u001b[0m\n\u001b[0;32m      6\u001b[0m \u001b[1;32melse\u001b[0m\u001b[1;33m:\u001b[0m\u001b[1;33m\u001b[0m\u001b[1;33m\u001b[0m\u001b[0m\n\u001b[0;32m      7\u001b[0m     \u001b[0mx\u001b[0m \u001b[1;33m+=\u001b[0m \u001b[1;36m1\u001b[0m\u001b[1;33m\u001b[0m\u001b[1;33m\u001b[0m\u001b[0m\n\u001b[1;32m----> 8\u001b[1;33m     \u001b[1;36m1\u001b[0m\u001b[1;33m/\u001b[0m\u001b[1;36m0\u001b[0m\u001b[1;33m\u001b[0m\u001b[1;33m\u001b[0m\u001b[0m\n\u001b[0m\u001b[0;32m      9\u001b[0m     \u001b[0mx\u001b[0m \u001b[1;33m+=\u001b[0m \u001b[1;36m1\u001b[0m\u001b[1;33m\u001b[0m\u001b[1;33m\u001b[0m\u001b[0m\n\u001b[0;32m     10\u001b[0m \u001b[0mprint\u001b[0m\u001b[1;33m(\u001b[0m\u001b[0mx\u001b[0m\u001b[1;33m)\u001b[0m\u001b[1;33m\u001b[0m\u001b[1;33m\u001b[0m\u001b[0m\n",
      "\u001b[1;31mZeroDivisionError\u001b[0m: division by zero"
     ]
    }
   ],
   "source": [
    "x = 0\n",
    "try:\n",
    "    x += 1\n",
    "except ZeroDivisionError:\n",
    "    x += 1\n",
    "else: \n",
    "    x += 1\n",
    "    1/0\n",
    "    x += 1\n",
    "print(x)"
   ]
  },
  {
   "cell_type": "code",
   "execution_count": null,
   "metadata": {},
   "outputs": [],
   "source": [
    "0\n",
    "1\n",
    "2\n",
    "3\n",
    "4\n",
    "ZeroDivisionError  #"
   ]
  },
  {
   "cell_type": "markdown",
   "metadata": {},
   "source": [
    "Деление на 0 происходит в блоке else, а не try, поэтому оно не будет обработано"
   ]
  },
  {
   "cell_type": "code",
   "execution_count": null,
   "metadata": {},
   "outputs": [],
   "source": [
    "Что выведет код?\n",
    "```python\n",
    "```\n",
    "Что выведет код?\n",
    "Выберите правильный вариант\n",
    "Посмотреть результаты"
   ]
  },
  {
   "cell_type": "code",
   "execution_count": null,
   "metadata": {},
   "outputs": [],
   "source": [
    "#193+"
   ]
  },
  {
   "cell_type": "code",
   "execution_count": 7,
   "metadata": {},
   "outputs": [
    {
     "name": "stdout",
     "output_type": "stream",
     "text": [
      "['b', 'c']\n"
     ]
    }
   ],
   "source": [
    "d = {'a': 1, 'b': 2, 'c': 3}\n",
    "x = [string for string, digit in d.items() if digit > 1]\n",
    "print(x)"
   ]
  },
  {
   "cell_type": "code",
   "execution_count": null,
   "metadata": {},
   "outputs": [],
   "source": [
    "[1, 2, 3]\n",
    "[2, 3]\n",
    "['c']\n",
    "['b', 'c']      #\n",
    "['a', 'b', 'c']"
   ]
  },
  {
   "cell_type": "markdown",
   "metadata": {},
   "source": [
    "Код создает список, который содержит ключи словаря d, для которых соответствующие значения больше 1. В данном случае это 'b' и 'c'. Поэтому на выходе мы получим список ['b', 'c'].\n",
    "\n",
    "\n",
    "\n",
    "\n"
   ]
  },
  {
   "cell_type": "code",
   "execution_count": null,
   "metadata": {},
   "outputs": [],
   "source": [
    "Что выведет код?\n",
    "```python\n",
    "```\n",
    "Что выведет код?\n",
    "Выберите правильный вариант\n",
    "Посмотреть результаты"
   ]
  },
  {
   "cell_type": "code",
   "execution_count": null,
   "metadata": {},
   "outputs": [],
   "source": [
    "#194+"
   ]
  },
  {
   "cell_type": "code",
   "execution_count": 8,
   "metadata": {},
   "outputs": [
    {
     "data": {
      "text/plain": [
       "31"
      ]
     },
     "execution_count": 8,
     "metadata": {},
     "output_type": "execute_result"
    }
   ],
   "source": [
    "sum([1 << i for i in range(5)])"
   ]
  },
  {
   "cell_type": "code",
   "execution_count": null,
   "metadata": {},
   "outputs": [],
   "source": [
    "0\n",
    "7\n",
    "16\n",
    "31  #\n",
    "32\n",
    "43\n",
    "63"
   ]
  },
  {
   "cell_type": "markdown",
   "metadata": {},
   "source": [
    "Код вычисляет сумму последовательности, где каждое значение является результатом операции сдвига влево числа 1 на i бит. В итоге, будет выведено число 31, которое является суммой 1, 2, 4, 8, и 16."
   ]
  },
  {
   "cell_type": "code",
   "execution_count": null,
   "metadata": {},
   "outputs": [],
   "source": [
    "18 августа 2021"
   ]
  },
  {
   "cell_type": "code",
   "execution_count": null,
   "metadata": {},
   "outputs": [],
   "source": [
    "..................."
   ]
  },
  {
   "cell_type": "code",
   "execution_count": null,
   "metadata": {},
   "outputs": [],
   "source": [
    "Что выведет код?\n",
    "```python\n",
    "```\n",
    "Что выведет код?\n",
    "Выберите правильный вариант\n",
    "Посмотреть результаты"
   ]
  },
  {
   "cell_type": "code",
   "execution_count": null,
   "metadata": {},
   "outputs": [],
   "source": [
    "#195+"
   ]
  },
  {
   "cell_type": "code",
   "execution_count": 1,
   "metadata": {},
   "outputs": [
    {
     "name": "stdout",
     "output_type": "stream",
     "text": [
      "4\n"
     ]
    }
   ],
   "source": [
    "x = 0\n",
    "try:\n",
    "    x += 1\n",
    "    try: \n",
    "        x += 1\n",
    "        1/0\n",
    "    except ZeroDivisionError:\n",
    "        x += 1\n",
    "except ZeroDivisionError:\n",
    "    x += 1\n",
    "else: \n",
    "    x += 1\n",
    "print(x)"
   ]
  },
  {
   "cell_type": "code",
   "execution_count": null,
   "metadata": {},
   "outputs": [],
   "source": [
    "0\n",
    "1\n",
    "2\n",
    "3\n",
    "4 #\n",
    "5\n",
    "ZeroDivisionError"
   ]
  },
  {
   "cell_type": "markdown",
   "metadata": {},
   "source": [
    "Не выполняется внешний блок except ZeroDivisionError, так как обрабатывается внутри вложенного try-except блока. В остальных случаях x увеличивается каждый раз."
   ]
  },
  {
   "cell_type": "code",
   "execution_count": null,
   "metadata": {},
   "outputs": [],
   "source": [
    "Что выведет код?\n",
    "```python\n",
    "```\n",
    "Что выведет код?\n",
    "Выберите правильный вариант\n",
    "Посмотреть результаты"
   ]
  },
  {
   "cell_type": "code",
   "execution_count": null,
   "metadata": {},
   "outputs": [],
   "source": [
    "#196+"
   ]
  },
  {
   "cell_type": "code",
   "execution_count": null,
   "metadata": {},
   "outputs": [],
   "source": [
    "Что выведет код?"
   ]
  },
  {
   "cell_type": "code",
   "execution_count": 2,
   "metadata": {},
   "outputs": [
    {
     "name": "stdout",
     "output_type": "stream",
     "text": [
      "[('a', '1'), ('b', '2')]\n"
     ]
    }
   ],
   "source": [
    "def f(*seqs):\n",
    "    seqs = [list(s) for s in seqs]\n",
    "    while all(seqs):\n",
    "        yield tuple(s.pop(0) for s in seqs)\n",
    "s1, s2 = 'ab', '123'\n",
    "print(list(f(s1, s2)))"
   ]
  },
  {
   "cell_type": "code",
   "execution_count": null,
   "metadata": {},
   "outputs": [],
   "source": [
    "[('a', '1')]\n",
    "[('a', '1'), ('b', '2')] #\n",
    "[('b', '2'), ('a', '1')]\n",
    "[('a', '1'), ('b', '2'), (None,3)]\n",
    "[(None,3), ('b', '2'), ('a', '1')]"
   ]
  },
  {
   "cell_type": "markdown",
   "metadata": {},
   "source": [
    "Функция берет по одному элементу из строк s1 и s2 одновременно, пока не закончатся элементы в более короткой строке. "
   ]
  },
  {
   "cell_type": "code",
   "execution_count": null,
   "metadata": {},
   "outputs": [],
   "source": [
    "Что выведет код?\n",
    "```python\n",
    "```\n",
    "Что выведет код?\n",
    "Выберите правильный вариант\n",
    "Посмотреть результаты"
   ]
  },
  {
   "cell_type": "code",
   "execution_count": null,
   "metadata": {},
   "outputs": [],
   "source": [
    "#197+"
   ]
  },
  {
   "cell_type": "code",
   "execution_count": 3,
   "metadata": {},
   "outputs": [
    {
     "name": "stdout",
     "output_type": "stream",
     "text": [
      "213"
     ]
    }
   ],
   "source": [
    "class A:\n",
    "    def message(self):\n",
    "        print('1', end='') \n",
    "        \n",
    "    def __enter__(self):\n",
    "        print('2', end='') \n",
    "        return self\n",
    "    \n",
    "    def __exit__(self, exc_type, exc_value, exc_tb):\n",
    "        if exc_type is None:\n",
    "            print('3', end='')  \n",
    "        else:\n",
    "            print ('4', end='')\n",
    "            return True   \n",
    "        \n",
    "with A() as action:\n",
    "    action.message()\n"
   ]
  },
  {
   "cell_type": "code",
   "execution_count": null,
   "metadata": {},
   "outputs": [],
   "source": [
    "1234\n",
    "123\n",
    "2134\n",
    "213 #\n",
    "214\n",
    "23\n",
    "24"
   ]
  },
  {
   "cell_type": "markdown",
   "metadata": {},
   "source": [
    "При входе в with вызывается метод __enter__ класса A, выводя 2. Затем - message, выводя 1. После выполнения блока with __exit__ проверяет наличие исключения и, не обнаружив его, выводит 3. "
   ]
  },
  {
   "cell_type": "code",
   "execution_count": null,
   "metadata": {},
   "outputs": [],
   "source": [
    "Что выведет код?\n",
    "```python\n",
    "```\n",
    "Что выведет код?\n",
    "Выберите правильный вариант\n",
    "Посмотреть результаты"
   ]
  },
  {
   "cell_type": "code",
   "execution_count": null,
   "metadata": {},
   "outputs": [],
   "source": [
    "#198+"
   ]
  },
  {
   "cell_type": "code",
   "execution_count": 4,
   "metadata": {},
   "outputs": [
    {
     "ename": "Error",
     "evalue": "",
     "output_type": "error",
     "traceback": [
      "\u001b[1;31m---------------------------------------------------------------------------\u001b[0m",
      "\u001b[1;31mError\u001b[0m                                     Traceback (most recent call last)",
      "\u001b[1;32m<ipython-input-4-fd97fa9bab9b>\u001b[0m in \u001b[0;36m<module>\u001b[1;34m\u001b[0m\n\u001b[0;32m      7\u001b[0m \u001b[1;33m\u001b[0m\u001b[0m\n\u001b[0;32m      8\u001b[0m \u001b[1;32mtry\u001b[0m\u001b[1;33m:\u001b[0m\u001b[1;33m\u001b[0m\u001b[1;33m\u001b[0m\u001b[0m\n\u001b[1;32m----> 9\u001b[1;33m     \u001b[0mhandle\u001b[0m\u001b[1;33m(\u001b[0m\u001b[0mfile\u001b[0m\u001b[1;33m)\u001b[0m\u001b[1;33m\u001b[0m\u001b[1;33m\u001b[0m\u001b[0m\n\u001b[0m\u001b[0;32m     10\u001b[0m     \u001b[0mprint\u001b[0m\u001b[1;33m(\u001b[0m\u001b[1;34m'one'\u001b[0m\u001b[1;33m)\u001b[0m\u001b[1;33m\u001b[0m\u001b[1;33m\u001b[0m\u001b[0m\n\u001b[0;32m     11\u001b[0m \u001b[1;32mfinally\u001b[0m\u001b[1;33m:\u001b[0m\u001b[1;33m\u001b[0m\u001b[1;33m\u001b[0m\u001b[0m\n",
      "\u001b[1;32m<ipython-input-4-fd97fa9bab9b>\u001b[0m in \u001b[0;36mhandle\u001b[1;34m(file)\u001b[0m\n\u001b[0;32m      2\u001b[0m \u001b[1;33m\u001b[0m\u001b[0m\n\u001b[0;32m      3\u001b[0m \u001b[1;32mdef\u001b[0m \u001b[0mhandle\u001b[0m\u001b[1;33m(\u001b[0m\u001b[0mfile\u001b[0m\u001b[1;33m)\u001b[0m\u001b[1;33m:\u001b[0m\u001b[1;33m\u001b[0m\u001b[1;33m\u001b[0m\u001b[0m\n\u001b[1;32m----> 4\u001b[1;33m     \u001b[1;32mraise\u001b[0m \u001b[0mError\u001b[0m\u001b[1;33m(\u001b[0m\u001b[1;33m)\u001b[0m\u001b[1;33m\u001b[0m\u001b[1;33m\u001b[0m\u001b[0m\n\u001b[0m\u001b[0;32m      5\u001b[0m \u001b[1;33m\u001b[0m\u001b[0m\n\u001b[0;32m      6\u001b[0m \u001b[0mfile\u001b[0m \u001b[1;33m=\u001b[0m \u001b[0mopen\u001b[0m\u001b[1;33m(\u001b[0m\u001b[1;34m'mydata'\u001b[0m\u001b[1;33m,\u001b[0m \u001b[1;34m'w'\u001b[0m\u001b[1;33m)\u001b[0m\u001b[1;33m\u001b[0m\u001b[1;33m\u001b[0m\u001b[0m\n",
      "\u001b[1;31mError\u001b[0m: "
     ]
    }
   ],
   "source": [
    "class Error(Exception): pass\n",
    "\n",
    "def handle(file):\n",
    "    raise Error()\n",
    "    \n",
    "file = open('mydata', 'w') \n",
    "\n",
    "try:\n",
    "    handle(file)\n",
    "    print('one')\n",
    "finally:\n",
    "    file.close() \n",
    "\n",
    "print('two')\n"
   ]
  },
  {
   "cell_type": "code",
   "execution_count": 5,
   "metadata": {},
   "outputs": [
    {
     "ename": "NameError",
     "evalue": "name 'one' is not defined",
     "output_type": "error",
     "traceback": [
      "\u001b[1;31m---------------------------------------------------------------------------\u001b[0m",
      "\u001b[1;31mNameError\u001b[0m                                 Traceback (most recent call last)",
      "\u001b[1;32m<ipython-input-5-c7059bb19433>\u001b[0m in \u001b[0;36m<module>\u001b[1;34m\u001b[0m\n\u001b[1;32m----> 1\u001b[1;33m \u001b[0mone\u001b[0m\u001b[1;33m\u001b[0m\u001b[1;33m\u001b[0m\u001b[0m\n\u001b[0m",
      "\u001b[1;31mNameError\u001b[0m: name 'one' is not defined"
     ]
    }
   ],
   "source": [
    "one\n",
    "two\n",
    "Error  #\n",
    "SyntaxError"
   ]
  },
  {
   "cell_type": "markdown",
   "metadata": {},
   "source": [
    "Исключение бросается в функции handle, поэтому строка 'one' не печатается. Блок finally гарантирует, что файл закрывается независимо от исключения."
   ]
  },
  {
   "cell_type": "code",
   "execution_count": null,
   "metadata": {},
   "outputs": [],
   "source": [
    "#199"
   ]
  },
  {
   "cell_type": "code",
   "execution_count": 7,
   "metadata": {},
   "outputs": [
    {
     "data": {
      "text/plain": [
       "4"
      ]
     },
     "execution_count": 7,
     "metadata": {},
     "output_type": "execute_result"
    }
   ],
   "source": [
    "sum([3 >> i for i in range(200)])"
   ]
  },
  {
   "cell_type": "code",
   "execution_count": null,
   "metadata": {},
   "outputs": [],
   "source": [
    "0\n",
    "1\n",
    "2\n",
    "3\n",
    "4\n",
    "5\n",
    "200\n",
    "2134\n",
    "456657"
   ]
  },
  {
   "cell_type": "markdown",
   "metadata": {},
   "source": [
    "Сдвиг вправо числа 3 на 2 и более позиций даст 0, так как 3 в двоичной системе 11, и сдвиг на две позиции обнулит его. Только первые два элемента списка (3 и 1) не равны 0."
   ]
  },
  {
   "cell_type": "code",
   "execution_count": null,
   "metadata": {},
   "outputs": [],
   "source": [
    "25 августа 2021"
   ]
  },
  {
   "cell_type": "code",
   "execution_count": null,
   "metadata": {},
   "outputs": [],
   "source": [
    "//////////////////////////////////////"
   ]
  },
  {
   "cell_type": "code",
   "execution_count": null,
   "metadata": {},
   "outputs": [],
   "source": [
    "#200+"
   ]
  },
  {
   "cell_type": "code",
   "execution_count": 1,
   "metadata": {},
   "outputs": [
    {
     "ename": "SyntaxError",
     "evalue": "invalid syntax (<ipython-input-1-241f1bb44846>, line 1)",
     "output_type": "error",
     "traceback": [
      "\u001b[1;36m  File \u001b[1;32m\"<ipython-input-1-241f1bb44846>\"\u001b[1;36m, line \u001b[1;32m1\u001b[0m\n\u001b[1;33m    val = # ваш код\u001b[0m\n\u001b[1;37m          ^\u001b[0m\n\u001b[1;31mSyntaxError\u001b[0m\u001b[1;31m:\u001b[0m invalid syntax\n"
     ]
    }
   ],
   "source": [
    "val = # ваш код\n",
    "shoes = {'name': 'fashion shoes', 'price': 14900}\n",
    "def discount(item, discount):\n",
    "    price = int(item['price']) * (1.0 - discount)\n",
    "    assert 0 <= price <= item['price']\n",
    "    return price\n",
    "discount(shoes, val)\n"
   ]
  },
  {
   "cell_type": "code",
   "execution_count": null,
   "metadata": {},
   "outputs": [],
   "source": [
    "При каком значении val появится ошибка AssertionError?"
   ]
  },
  {
   "cell_type": "code",
   "execution_count": 3,
   "metadata": {},
   "outputs": [
    {
     "data": {
      "text/plain": [
       "1"
      ]
     },
     "execution_count": 3,
     "metadata": {},
     "output_type": "execute_result"
    }
   ],
   "source": [
    "0.1\n",
    "0.2\n",
    "0.9\n",
    "1\n",
    "1.2 #"
   ]
  },
  {
   "cell_type": "markdown",
   "metadata": {},
   "source": [
    "# "
   ]
  },
  {
   "cell_type": "markdown",
   "metadata": {},
   "source": [
    "Значение 1.2 для val приведет к ошибке, так как результатом будет отрицательная цена, нарушая условие assert. Скидка должна быть в пределах 0 до 1, где 1 соответствует полной скидке на товар."
   ]
  },
  {
   "cell_type": "code",
   "execution_count": null,
   "metadata": {},
   "outputs": [],
   "source": [
    "Что выведет код?\n",
    "```python\n",
    "```\n",
    "Что выведет код?\n",
    "Выберите правильный вариант\n",
    "Посмотреть результаты"
   ]
  },
  {
   "cell_type": "code",
   "execution_count": null,
   "metadata": {},
   "outputs": [],
   "source": [
    "#201+"
   ]
  },
  {
   "cell_type": "code",
   "execution_count": 4,
   "metadata": {},
   "outputs": [
    {
     "name": "stdout",
     "output_type": "stream",
     "text": [
      "my-exc\n"
     ]
    }
   ],
   "source": [
    "class MyExc(Exception):\n",
    "    def __str__(self): \n",
    "        return 'my-exc'\n",
    "try:\n",
    "    raise MyExc()\n",
    "    print('try')\n",
    "except MyExc as err:\n",
    "    print(err)\n",
    "else:\n",
    "    print('else')\n"
   ]
  },
  {
   "cell_type": "code",
   "execution_count": null,
   "metadata": {},
   "outputs": [],
   "source": [
    "my-exc  #\n",
    "try\n",
    "else\n",
    "None"
   ]
  },
  {
   "cell_type": "code",
   "execution_count": null,
   "metadata": {},
   "outputs": [],
   "source": [
    "Что выведет код. Объясни в 200 знаков"
   ]
  },
  {
   "cell_type": "markdown",
   "metadata": {},
   "source": [
    "Код выведет \"my-exc\", так как исключение MyExc вызывается и перехватывается блоком except, где через print выводится результат метода str класса исключения."
   ]
  },
  {
   "cell_type": "code",
   "execution_count": null,
   "metadata": {},
   "outputs": [],
   "source": [
    "Что выведет код?\n",
    "```python\n",
    "```\n",
    "Что выведет код?\n",
    "Выберите правильный вариант\n",
    "Посмотреть результаты"
   ]
  },
  {
   "cell_type": "code",
   "execution_count": null,
   "metadata": {},
   "outputs": [],
   "source": [
    "#202+"
   ]
  },
  {
   "cell_type": "code",
   "execution_count": 5,
   "metadata": {},
   "outputs": [
    {
     "name": "stdout",
     "output_type": "stream",
     "text": [
      "134"
     ]
    }
   ],
   "source": [
    "class A:\n",
    "    def __enter__(self):\n",
    "        print('1', end='')\n",
    "        return None\n",
    "    def __exit__(self, exc_type, exc_value, exc_tb):\n",
    "        if exc_type is None:\n",
    "            print('3', end='')  \n",
    "        else:\n",
    "            print ('4', end='')\n",
    "            return True\n",
    "    \n",
    "with A() as a:\n",
    "    print(\"2\" if a else \"3\", end='')\n",
    "    raise Exception\n",
    "    print(\"5\", end=\"\")\n"
   ]
  },
  {
   "cell_type": "code",
   "execution_count": null,
   "metadata": {},
   "outputs": [],
   "source": [
    "124\n",
    "134 #\n",
    "1245\n",
    "1345\n",
    "1234\n",
    "12345"
   ]
  },
  {
   "cell_type": "markdown",
   "metadata": {},
   "source": [
    "Код выведет \"134\". Сначала \"1\" из метода __enter__, затем \"3\" из условия в блоке with, и после возникновения исключения \"4\" из метода __exit__, где исключение обрабатывается."
   ]
  },
  {
   "cell_type": "code",
   "execution_count": null,
   "metadata": {},
   "outputs": [],
   "source": [
    "Что выведет код?\n",
    "```python\n",
    "```\n",
    "Что выведет код?\n",
    "Выберите правильный вариант\n",
    "Посмотреть результаты"
   ]
  },
  {
   "cell_type": "code",
   "execution_count": null,
   "metadata": {},
   "outputs": [],
   "source": [
    "#203+"
   ]
  },
  {
   "cell_type": "code",
   "execution_count": 6,
   "metadata": {},
   "outputs": [
    {
     "data": {
      "text/plain": [
       "{'HELLO': 'hellohello', 'HI': 'hihi'}"
      ]
     },
     "execution_count": 6,
     "metadata": {},
     "output_type": "execute_result"
    }
   ],
   "source": [
    "{k.upper() : k * 2 for k in [ 'hello', 'hi', 'good morning' ] if k[0] == 'h'}\n"
   ]
  },
  {
   "cell_type": "code",
   "execution_count": 7,
   "metadata": {},
   "outputs": [
    {
     "data": {
      "text/plain": [
       "{'HELLO': 'hellohello', 'HI': 'hihi'}"
      ]
     },
     "execution_count": 7,
     "metadata": {},
     "output_type": "execute_result"
    }
   ],
   "source": [
    "{'HELLO', 'HI'}\n",
    "{'hellohello', 'hihi'}\n",
    "{'HELLO': 'hellohello', 'HI': 'hihi'} #\n",
    "{'HELLO': 'hellohello', 'HI': 'hihi', 'GOOD MORNING:'good morninggood morning'}"
   ]
  },
  {
   "cell_type": "markdown",
   "metadata": {},
   "source": [
    "Код создает словарь с ключами в верхнем регистре для строк, начинающихся на 'h', и значениями в виде удвоенных строк.\n",
    "\n",
    "\n",
    "\n",
    "\n"
   ]
  },
  {
   "cell_type": "code",
   "execution_count": null,
   "metadata": {},
   "outputs": [],
   "source": [
    "Что выведет код?\n",
    "```python\n",
    "```\n",
    "Что выведет код?\n",
    "Выберите правильный вариант\n",
    "Посмотреть результаты"
   ]
  },
  {
   "cell_type": "code",
   "execution_count": null,
   "metadata": {},
   "outputs": [],
   "source": [
    "#204"
   ]
  },
  {
   "cell_type": "code",
   "execution_count": 8,
   "metadata": {},
   "outputs": [
    {
     "ename": "NameError",
     "evalue": "name 'x' is not defined",
     "output_type": "error",
     "traceback": [
      "\u001b[1;31m---------------------------------------------------------------------------\u001b[0m",
      "\u001b[1;31mNameError\u001b[0m                                 Traceback (most recent call last)",
      "\u001b[1;32m<ipython-input-8-2ed35c44734a>\u001b[0m in \u001b[0;36m<module>\u001b[1;34m\u001b[0m\n\u001b[0;32m      1\u001b[0m \u001b[0m_\u001b[0m  \u001b[1;33m=\u001b[0m \u001b[0mdict\u001b[0m\u001b[1;33m(\u001b[0m\u001b[1;33m(\u001b[0m\u001b[0mx\u001b[0m\u001b[1;33m,\u001b[0m \u001b[0mx\u001b[0m \u001b[1;33m*\u001b[0m \u001b[0mx\u001b[0m\u001b[1;33m)\u001b[0m \u001b[1;32mfor\u001b[0m \u001b[0mx\u001b[0m \u001b[1;32min\u001b[0m \u001b[0mrange\u001b[0m\u001b[1;33m(\u001b[0m\u001b[1;36m10\u001b[0m\u001b[1;33m)\u001b[0m\u001b[1;33m)\u001b[0m\u001b[1;33m\u001b[0m\u001b[1;33m\u001b[0m\u001b[0m\n\u001b[1;32m----> 2\u001b[1;33m \u001b[0mprint\u001b[0m\u001b[1;33m(\u001b[0m\u001b[0mx\u001b[0m\u001b[1;33m)\u001b[0m\u001b[1;33m\u001b[0m\u001b[1;33m\u001b[0m\u001b[0m\n\u001b[0m",
      "\u001b[1;31mNameError\u001b[0m: name 'x' is not defined"
     ]
    }
   ],
   "source": [
    "_  = dict((x, x * x) for x in range(10))\n",
    "print(x)\n"
   ]
  },
  {
   "cell_type": "code",
   "execution_count": null,
   "metadata": {},
   "outputs": [],
   "source": [
    "0\n",
    "1\n",
    "9\n",
    "10\n",
    "NameError #\n",
    "TypeError"
   ]
  },
  {
   "cell_type": "markdown",
   "metadata": {},
   "source": [
    "Код вызовет ошибку NameError, так как переменная x не определена в области видимости, где происходит вызов print(x). Генератор внутри dict не создает x во внешней области."
   ]
  },
  {
   "cell_type": "code",
   "execution_count": null,
   "metadata": {},
   "outputs": [],
   "source": [
    "Что выведет код?\n",
    "```python\n",
    "```\n",
    "Что выведет код?\n",
    "Выберите правильный вариант\n",
    "Посмотреть результаты"
   ]
  }
 ],
 "metadata": {
  "kernelspec": {
   "display_name": "Python 3",
   "language": "python",
   "name": "python3"
  },
  "language_info": {
   "codemirror_mode": {
    "name": "ipython",
    "version": 3
   },
   "file_extension": ".py",
   "mimetype": "text/x-python",
   "name": "python",
   "nbconvert_exporter": "python",
   "pygments_lexer": "ipython3",
   "version": "3.8.5"
  }
 },
 "nbformat": 4,
 "nbformat_minor": 4
}
