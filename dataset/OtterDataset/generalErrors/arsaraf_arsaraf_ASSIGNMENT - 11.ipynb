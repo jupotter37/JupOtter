{
 "cells": [
  {
   "cell_type": "markdown",
   "id": "abcfd1fc",
   "metadata": {},
   "source": [
    "## ASSIGNMENT - 11"
   ]
  },
  {
   "cell_type": "markdown",
   "id": "08731c41",
   "metadata": {},
   "source": [
    "1. What is the role of the 'else' block in a try-except statement? Provide an example\n",
    "scenario where it would be useful.\n",
    "\n",
    "Ans. The else block in a try-except statement is optional and provides a block of code that is executed only if no exception is raised within the corresponding try block."
   ]
  },
  {
   "cell_type": "code",
   "execution_count": 1,
   "id": "45204ee9",
   "metadata": {},
   "outputs": [
    {
     "name": "stdout",
     "output_type": "stream",
     "text": [
      "Enter the numerator: 10\n",
      "Enter the denominator: 5\n",
      "Division result: 2.0\n"
     ]
    }
   ],
   "source": [
    "try:\n",
    "    numerator = int(input(\"Enter the numerator: \"))\n",
    "    denominator = int(input(\"Enter the denominator: \"))\n",
    "    result = numerator / denominator\n",
    "except ValueError:\n",
    "    print(\"Error: Invalid input. Please enter integers.\")\n",
    "except ZeroDivisionError:\n",
    "    print(\"Error: Division by zero is not allowed.\")\n",
    "else:\n",
    "    print(\"Division result:\", result)"
   ]
  },
  {
   "cell_type": "markdown",
   "id": "153c07b2",
   "metadata": {},
   "source": [
    "2. Can a try-except block be nested inside another try-except block? Explain with an example.\n",
    "\n",
    "Ans. Yes, it is possible to nest a try-except block inside another try-except block in Python. This is known as nested exception handling. It allows for more specific and localized handling of exceptions within different levels or sections of code."
   ]
  },
  {
   "cell_type": "code",
   "execution_count": 2,
   "id": "e25a3d84",
   "metadata": {},
   "outputs": [
    {
     "name": "stdout",
     "output_type": "stream",
     "text": [
      "Enter the numerator: 6\n",
      "Enter the denominator: 3\n",
      "Division result: 2.0\n"
     ]
    }
   ],
   "source": [
    "#Example\n",
    "\n",
    "try:\n",
    "    # Outer try block\n",
    "    numerator = int(input(\"Enter the numerator: \"))\n",
    "    denominator = int(input(\"Enter the denominator: \"))\n",
    "    try:\n",
    "        # Inner try block\n",
    "        result = numerator / denominator\n",
    "        print(\"Division result:\", result)\n",
    "    except ZeroDivisionError:\n",
    "        print(\"Error: Division by zero is not allowed.\")\n",
    "except ValueError:\n",
    "    print(\"Error: Invalid input. Please enter integers.\")"
   ]
  },
  {
   "cell_type": "markdown",
   "id": "7ef6b36d",
   "metadata": {},
   "source": [
    "3. How can you create a custom exception class in Python? Provide an example that demonstrates its usage.\n",
    "\n",
    "Ans. In Python, you can create a custom exception class by defining a new class that inherits from the built-in Exception class or any of its subclasses."
   ]
  },
  {
   "cell_type": "code",
   "execution_count": 3,
   "id": "5aa84ef6",
   "metadata": {},
   "outputs": [
    {
     "name": "stdout",
     "output_type": "stream",
     "text": [
      "Error: Division by zero is not allowed.\n"
     ]
    }
   ],
   "source": [
    "class CustomException(Exception):\n",
    "    pass\n",
    "\n",
    "# Usage example\n",
    "def divide(a, b):\n",
    "    if b == 0:\n",
    "        raise CustomException(\"Division by zero is not allowed.\")\n",
    "    return a / b\n",
    "\n",
    "try:\n",
    "    result = divide(6, 0)\n",
    "    print(\"Result:\", result)\n",
    "except CustomException as e:\n",
    "    print(\"Error:\", str(e))"
   ]
  },
  {
   "cell_type": "markdown",
   "id": "6968bad5",
   "metadata": {},
   "source": [
    "4. What are some common exceptions that are built-in to Python?\n",
    "\n",
    "Ans. \n",
    "\n",
    "Some of the most common types of exceptions are:\n",
    "\n",
    "* ZeroDivisionError: Raised when the second argument of a division or modulo operation is zero.\n",
    "\n",
    "* TypeError: Raised when an operation or function is applied to an object of inappropriate type.\n",
    "\n",
    "* ValueError: Raised when a built-in operation or function receives an argument that has the right type but an inappropriate value.\n",
    "\n",
    "* IndexError: Raised when a sequence subscript is out of range.\n",
    "\n",
    "* KeyError: Raised when a dictionary key is not found.\n",
    "\n",
    "* FileNotFoundError: Raised when a file or directory is requested but doesn’t exist.\n",
    "\n",
    "* IOError: Raised when an I/O operation (such as a print statement, the built-in open() function or a method of a file object) fails for an I/O-related reason.\n",
    "\n",
    "* ImportError: Raised when an import statement fails to find the module definition or when a from ... import fails to find a name that is to be imported.\n",
    "\n",
    "* MemoryError: Raised when an operation runs out of memory.\n",
    "\n",
    "* OverflowError: Raised when the result of an arithmetic operation is too large to be expressed by the normal number format.\n",
    "\n",
    "* AttributeError: Raised when an attribute reference or assignment fails.\n",
    "\n",
    "* SyntaxError: Raised when the parser encounters a syntax error.\n",
    "\n",
    "* IndentationError: Raised when there is incorrect indentation.\n",
    "\n",
    "* NameError: Raised when a local or global name is not found."
   ]
  },
  {
   "cell_type": "markdown",
   "id": "0e806f48",
   "metadata": {},
   "source": [
    "5. What is logging in Python, and why is it important in software development?\n",
    "\n",
    "Ans. Logging in Python is a built-in module that provides a flexible and configurable way to record log messages during the execution of a program. It allows developers to track and record important information, warnings, errors, and debugging messages that occur during the program's execution.\n",
    "\n",
    "1) Debugging and Troubleshooting\n",
    "\n",
    "2) Monitoring and Auditing\n",
    "\n",
    "3) Error Analysis and Maintenance\n",
    "\n",
    "4) Documentation and Communication\n",
    "\n",
    "5) Flexibility and Configurability"
   ]
  },
  {
   "cell_type": "markdown",
   "id": "890b0ee9",
   "metadata": {},
   "source": [
    "6. Explain the purpose of log levels in Python logging and provide examples of when each log level would be appropriate."
   ]
  },
  {
   "cell_type": "code",
   "execution_count": 4,
   "id": "da01fe07",
   "metadata": {},
   "outputs": [
    {
     "name": "stderr",
     "output_type": "stream",
     "text": [
      "WARNING:root:Disk space is running low.\n",
      "ERROR:root:Failed to connect to the database.\n",
      "CRITICAL:root:System is running out of memory.\n"
     ]
    }
   ],
   "source": [
    "import logging\n",
    "\n",
    "logging.debug(\"Entering function foo().\")  #This log level is used for detailed \n",
    "#debugging information. It is typically used during development and is the most verbose log level.\n",
    "\n",
    "\n",
    "logging.info(\"Server started on port 8000.\")  \n",
    "#This log level is used to provide general information about the program's execution. \n",
    "#It can be used to track important milestones or events that help understand the program's progress.\n",
    "\n",
    "logging.warning(\"Disk space is running low.\") \n",
    "#This log level indicates a potential issue or a situation that may lead to an error in the future. \n",
    "#It is used to highlight abnormal or unexpected events that should be noted but do not cause the program to stop\n",
    "\n",
    "logging.error(\"Failed to connect to the database.\") \n",
    "#This log level is used to indicate errors that prevent the program from functioning as intended. \n",
    "\n",
    "#It signifies a failure in some part of the program's execution. \n",
    "\n",
    "logging.critical(\"System is running out of memory.\")   \n",
    "#This log level represents a critical error or a severe failure that requires immediate attention. \n",
    "#It indicates a condition that might cause the program to terminate or stop working correctly."
   ]
  },
  {
   "cell_type": "code",
   "execution_count": 5,
   "id": "c895ac8c",
   "metadata": {},
   "outputs": [],
   "source": [
    "#Log levels helpdevelopers control the verbosity of the logging output and enable \n",
    "#them to focus on specific types of messages depending on the situation. \n",
    "\n",
    "import logging\n",
    "\n",
    "logging.basicConfig(level=logging.INFO)\n",
    "\n",
    "# ...\n",
    "\n",
    "logging.info(\"Data processing completed successfully.\")"
   ]
  },
  {
   "cell_type": "markdown",
   "id": "d98eeae0",
   "metadata": {},
   "source": [
    "7. What are log formatters in Python logging, and how can you customise the log message format using formatters?\n",
    "\n",
    "Ans. import logging ----for importing the external files\n",
    "\n",
    "formatter = logging.Formatter('%(asctime)s - %(levelname)s - %(message)s')  Create an instance of the formatter class you want to use.\n",
    "\n",
    "logger = logging.getLogger()\n",
    "\n",
    "logger.addHandler(handler) Create a logger instance and attach the handler to it."
   ]
  },
  {
   "cell_type": "markdown",
   "id": "67dbc52e",
   "metadata": {},
   "source": [
    "8. How can you set up logging to capture log messages from multiple modules or classes in a Python application?"
   ]
  },
  {
   "cell_type": "code",
   "execution_count": 6,
   "id": "1e49455e",
   "metadata": {},
   "outputs": [
    {
     "name": "stderr",
     "output_type": "stream",
     "text": [
      "This is a warning message.\n",
      "WARNING:__main__:This is a warning message.\n"
     ]
    }
   ],
   "source": [
    "import logging\n",
    "logging.basicConfig(level=logging.DEBUG)\n",
    "logger = logging.getLogger(__name__)\n",
    "handler = logging.StreamHandler()\n",
    "logger.addHandler(handler)\n",
    "logger.debug(\"This is a debug message.\")\n",
    "logger.info(\"This is an informational message.\")\n",
    "logger.warning(\"This is a warning message.\")"
   ]
  },
  {
   "cell_type": "markdown",
   "id": "99c5d2a8",
   "metadata": {},
   "source": [
    "9. What is the difference between the logging and print statements in Python? When should you use logging over print statements in a real-world application?\n",
    "\n",
    "Ans. The logging and print statements in Python serve different purposes and have distinct characteristics. Here are the key differences between them:\n",
    "\n",
    "Output Control\n",
    "\n",
    "Configurability\n",
    "\n",
    "Log Levels and Severity\n",
    "\n",
    "Debugging and Development\n",
    "\n",
    "Production Environment\n",
    "\n",
    "Long-Term Maintenance\n",
    "\n",
    "Integration and Automation"
   ]
  },
  {
   "cell_type": "markdown",
   "id": "7ea25c7c",
   "metadata": {},
   "source": [
    "10. Write a Python program that logs a message to a file named \"app.log\" with the\n",
    "following requirements:\n",
    "● The log message should be \"Hello, World!\"\n",
    "● The log level should be set to \"INFO.\"\n",
    "● The log file should append new log entries without overwriting previous ones."
   ]
  },
  {
   "cell_type": "code",
   "execution_count": 7,
   "id": "4fd9708e",
   "metadata": {},
   "outputs": [],
   "source": [
    "#Ans.\n",
    "\n",
    "import logging\n",
    "\n",
    "# Configure the logger\n",
    "logging.basicConfig(\n",
    "    level=logging.INFO,\n",
    "    filename='app.log',\n",
    "    filemode='a',\n",
    "    format='%(asctime)s - %(levelname)s - %(message)s'\n",
    ")\n",
    "\n",
    "# Log the message\n",
    "logging.info(\"Hello, World!\")"
   ]
  },
  {
   "cell_type": "markdown",
   "id": "4d5c795e",
   "metadata": {},
   "source": [
    "11. Create a Python program that logs an error message to the console and a file named \"errors.log\" if an exception occurs during the program's execution. The error message should include the exception type and a timestamp."
   ]
  },
  {
   "cell_type": "code",
   "execution_count": 8,
   "id": "596a823b",
   "metadata": {},
   "outputs": [
    {
     "name": "stderr",
     "output_type": "stream",
     "text": [
      "ERROR:root:ValueError: An error occurred.\n"
     ]
    }
   ],
   "source": [
    "import logging\n",
    "import datetime\n",
    "\n",
    "# Configure the logger\n",
    "logging.basicConfig(\n",
    "    level=logging.ERROR,\n",
    "    format='%(asctime)s - %(levelname)s - %(message)s',\n",
    "    handlers=[\n",
    "        logging.StreamHandler(),  # Output to console\n",
    "        logging.FileHandler('errors.log')  # Output to file\n",
    "    ]\n",
    ")\n",
    "\n",
    "try:\n",
    "    # Code that may raise an exception\n",
    "    # ...\n",
    "    raise ValueError(\"An error occurred.\")\n",
    "except Exception as e:\n",
    "    # Log the error message\n",
    "    logging.error(f\"{type(e).__name__}: {e}\")"
   ]
  }
 ],
 "metadata": {
  "kernelspec": {
   "display_name": "Python 3",
   "language": "python",
   "name": "python3"
  },
  "language_info": {
   "codemirror_mode": {
    "name": "ipython",
    "version": 3
   },
   "file_extension": ".py",
   "mimetype": "text/x-python",
   "name": "python",
   "nbconvert_exporter": "python",
   "pygments_lexer": "ipython3",
   "version": "3.8.8"
  }
 },
 "nbformat": 4,
 "nbformat_minor": 5
}
