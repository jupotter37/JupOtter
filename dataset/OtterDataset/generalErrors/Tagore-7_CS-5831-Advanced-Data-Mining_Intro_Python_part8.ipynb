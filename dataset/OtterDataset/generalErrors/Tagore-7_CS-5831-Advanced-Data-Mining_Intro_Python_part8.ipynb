{
  "nbformat": 4,
  "nbformat_minor": 0,
  "metadata": {
    "colab": {
      "name": "Intro.Python.part8.ipynb",
      "provenance": [],
      "collapsed_sections": [],
      "toc_visible": true
    },
    "kernelspec": {
      "name": "python3",
      "display_name": "Python 3"
    }
  },
  "cells": [
    {
      "cell_type": "markdown",
      "metadata": {
        "id": "HRRF_8J83R5o"
      },
      "source": [
        "# Dictionaries \n",
        "Materials adapted from _[How to Think Like a Computer Scientist](https://runestone.academy/runestone/static/thinkcspy/index.html)_\n",
        "\n",
        "This colab notebook is paired with the page on Canvas: **8-Dictionaries**\n",
        "\n",
        "All of the compound data types we have studied in detail so far --- strings, lists, and tuples --- are sequential collections.  This means that the items in the collection are ordered from left to right and they use integers as indices to access the values they contain.\n",
        "\n",
        "**Dictionaries** are a different kind of collection. They are Python's built-in **mapping type**. A map is an unordered, associative collection.  The association, or mapping, is from a **key**, which can be any immutable type, to a **value**, which can be any Python data object.\n",
        "\n",
        "As an example, we will create a dictionary to translate English words into Spanish. For this dictionary, the keys are strings and the values will also be strings.\n",
        "\n",
        "One way to create a dictionary is to start with the empty dictionary and add **key-value pairs**. The empty dictionary is denoted ``{}``\n"
      ]
    },
    {
      "cell_type": "code",
      "metadata": {
        "id": "N1lA_QKp3KMl"
      },
      "source": [
        "eng2sp = {}\n",
        "eng2sp['one'] = 'uno'\n",
        "eng2sp['two'] = 'dos'\n",
        "eng2sp['three'] = 'tres'"
      ],
      "execution_count": null,
      "outputs": []
    },
    {
      "cell_type": "markdown",
      "metadata": {
        "id": "Ny3tJqfE335x"
      },
      "source": [
        "The first assignment creates an empty dictionary named ``eng2sp``.  The other assignments add new key-value pairs to the dictionary.  The left hand side gives the dictionary and the key being associated.  The right hand side gives the value being associated with that key. We can print the current\n",
        "value of the dictionary in the usual way. The key-value pairs of the dictionary are separated by commas. Each pair contains a key and a value separated by a colon.\n",
        "\n",
        "The order of the pairs may not be what you expected. Python uses complex algorithms, designed for very fast access, to determine where the  key-value pairs are stored in a dictionary. For our purposes we can think of this ordering as unpredictable.\n",
        "\n",
        "Another way to create a dictionary is to provide a list of key-value pairs using the same syntax as the previous output."
      ]
    },
    {
      "cell_type": "code",
      "metadata": {
        "id": "9-3egrXe35h7",
        "outputId": "4a47bf04-b5fa-4b00-e817-24334603a596",
        "colab": {
          "base_uri": "https://localhost:8080/",
          "height": 34
        }
      },
      "source": [
        "eng2sp = {'three': 'tres', 'one': 'uno', 'two': 'dos'}\n",
        "print(eng2sp)"
      ],
      "execution_count": null,
      "outputs": [
        {
          "output_type": "stream",
          "text": [
            "{'three': 'tres', 'one': 'uno', 'two': 'dos'}\n"
          ],
          "name": "stdout"
        }
      ]
    },
    {
      "cell_type": "markdown",
      "metadata": {
        "id": "izhJbLC538ET"
      },
      "source": [
        "It doesn't matter what order we write the pairs. The values in a dictionary are accessed with keys, not with indices, so there is no need to care about ordering.\n",
        "\n",
        "Here is how we use a key to look up the corresponding value."
      ]
    },
    {
      "cell_type": "code",
      "metadata": {
        "id": "3Z7ExWwI3UUU",
        "outputId": "80068bd6-e9ef-46fd-e17c-03419722c8b5",
        "colab": {
          "base_uri": "https://localhost:8080/",
          "height": 34
        }
      },
      "source": [
        "eng2sp = {'three': 'tres', 'one': 'uno', 'two': 'dos'}\n",
        "\n",
        "value = eng2sp['two']\n",
        "print(value)"
      ],
      "execution_count": null,
      "outputs": [
        {
          "output_type": "stream",
          "text": [
            "dos\n"
          ],
          "name": "stdout"
        }
      ]
    },
    {
      "cell_type": "markdown",
      "metadata": {
        "id": "taQr4sQH3-uo"
      },
      "source": [
        "The key ``'two'`` yields the value ``'dos'``."
      ]
    },
    {
      "cell_type": "markdown",
      "metadata": {
        "id": "E4wwRLDW4M48"
      },
      "source": [
        "## Dictionary Operations \n",
        "\n",
        "The ``del`` statement removes a key-value pair from a dictionary. For example, the following dictionary contains the names of various fruits and the number of each fruit in stock.  If someone buys all of the pears, we can remove the entry from the dictionary.\n"
      ]
    },
    {
      "cell_type": "code",
      "metadata": {
        "id": "59NeEPbN4qvI"
      },
      "source": [
        "inventory = {'apples': 430, 'bananas': 312, 'oranges': 525, 'pears': 217}\n",
        "    \n",
        "del inventory['pears']"
      ],
      "execution_count": null,
      "outputs": []
    },
    {
      "cell_type": "markdown",
      "metadata": {
        "id": "sTKDgAdy4sNb"
      },
      "source": [
        "Dictionaries are also mutable.  As we've seen before with lists, this means that the dictionary can be modified by referencing an association on the left hand side of the assignment statement.  In the previous example, instead of deleting the entry for ``pears``, we could have set the inventory to ``0``."
      ]
    },
    {
      "cell_type": "code",
      "metadata": {
        "id": "afjxb-DP4uj3"
      },
      "source": [
        "inventory = {'apples': 430, 'bananas': 312, 'oranges': 525, 'pears': 217}\n",
        "    \n",
        "inventory['pears'] = 0"
      ],
      "execution_count": null,
      "outputs": []
    },
    {
      "cell_type": "markdown",
      "metadata": {
        "id": "xyRfX3a94wE9"
      },
      "source": [
        "Similarly, a new shipment of 200 bananas arriving could be handled like this.\n"
      ]
    },
    {
      "cell_type": "code",
      "metadata": {
        "id": "JV8rQaaS4xxQ",
        "outputId": "fdf69138-6986-4a36-c3c2-6f3ef852054a",
        "colab": {
          "base_uri": "https://localhost:8080/",
          "height": 34
        }
      },
      "source": [
        "inventory = {'apples': 430, 'bananas': 312, 'oranges': 525, 'pears': 217}    \n",
        "inventory['bananas'] = inventory['bananas'] + 200\n",
        "\n",
        "numItems = len(inventory)\n",
        "print(inventory['bananas'])"
      ],
      "execution_count": null,
      "outputs": [
        {
          "output_type": "stream",
          "text": [
            "512\n"
          ],
          "name": "stdout"
        }
      ]
    },
    {
      "cell_type": "markdown",
      "metadata": {
        "id": "yN-DSH4T4zHi"
      },
      "source": [
        "Notice that there are now 512 bananas---the dictionary has been modified.  Note also that the ``len`` function also works on dictionaries.  It returns the number of key-value pairs:"
      ]
    },
    {
      "cell_type": "markdown",
      "metadata": {
        "id": "w6ePVs375Aq_"
      },
      "source": [
        "### <a name=\"exer1\"></a> Exercise 1\n",
        "\n",
        " What is printed by the following statements?\n",
        "\n",
        " ```python\n",
        "mydict = {\"cat\":12, \"dog\":6, \"elephant\":23}\n",
        "mydict[\"mouse\"] = mydict[\"cat\"] + mydict[\"dog\"]\n",
        "print(mydict[\"mouse\"])\n",
        " ```\n",
        "\n",
        " * A. 12 \n",
        " * B. 0 \n",
        " * C. 18 \n",
        " * D. Error, there is no entry with mouse as a key. \n",
        "\n",
        " [exercise 1 answer](#ans1)"
      ]
    },
    {
      "cell_type": "markdown",
      "metadata": {
        "id": "jX5Sez3P5pwK"
      },
      "source": [
        "## Dictionary Methods \n",
        "\n",
        "Dictionaries have a number of useful built-in methods. The following table provides a summary and more details can be found in the \n",
        "[Python Documentation](http://docs.python.org/py3k/library/stdtypes.html#mapping-types-dict).\n",
        "\n",
        "\n",
        "| Method     | Parameters         | Description  |\n",
        "|------------|--------------------|--------------|\n",
        "| keys       | none               | Returns a view of the keys in the dictionary |\n",
        "| values     | none               | Returns a view of the values in the dictionary |\n",
        "| items      | none               | Returns a view of the key-value pairs in the dictionary |\n",
        "| get        | key                | Returns the value associated with key; None otherwise |\n",
        "| get        | key,alt            | Returns the value associated with key; alt otherwise |\n",
        "\n",
        "The ``keys`` method returns what Python 3 calls a **view** of its underlying keys.   We can iterate over the view or turn the view into a  list by using the ``list`` conversion function."
      ]
    },
    {
      "cell_type": "code",
      "metadata": {
        "id": "4Kzey3o040nH",
        "outputId": "57f76268-e013-452b-929f-df932a3bb849",
        "colab": {
          "base_uri": "https://localhost:8080/",
          "height": 102
        }
      },
      "source": [
        "inventory = {'apples': 430, 'bananas': 312, 'oranges': 525, 'pears': 217}\n",
        "\n",
        "for akey in inventory.keys():     # the order in which we get the keys is not defined\n",
        "   print(\"Got key\", akey, \"which maps to value\", inventory[akey])\n",
        "\n",
        "ks = list(inventory.keys())\n",
        "print(ks)"
      ],
      "execution_count": null,
      "outputs": [
        {
          "output_type": "stream",
          "text": [
            "Got key apples which maps to value 430\n",
            "Got key bananas which maps to value 312\n",
            "Got key oranges which maps to value 525\n",
            "Got key pears which maps to value 217\n",
            "['apples', 'bananas', 'oranges', 'pears']\n"
          ],
          "name": "stdout"
        }
      ]
    },
    {
      "cell_type": "markdown",
      "metadata": {
        "id": "KSpVbpkt6RMy"
      },
      "source": [
        "It is so common to iterate over the keys in a dictionary that you can omit the ``keys`` method call in the ``for`` loop --- iterating over a dictionary implicitly iterates over its keys."
      ]
    },
    {
      "cell_type": "code",
      "metadata": {
        "id": "_b-0Su436bva",
        "outputId": "74c1978a-54e0-4ecf-861a-b611d5840f85",
        "colab": {
          "base_uri": "https://localhost:8080/",
          "height": 85
        }
      },
      "source": [
        "inventory = {'apples': 430, 'bananas': 312, 'oranges': 525, 'pears': 217}\n",
        "\n",
        "for k in inventory:\n",
        "   print(\"Got key\", k)"
      ],
      "execution_count": null,
      "outputs": [
        {
          "output_type": "stream",
          "text": [
            "Got key apples\n",
            "Got key bananas\n",
            "Got key oranges\n",
            "Got key pears\n"
          ],
          "name": "stdout"
        }
      ]
    },
    {
      "cell_type": "markdown",
      "metadata": {
        "id": "GcsWmiu06ctT"
      },
      "source": [
        "As we saw earlier with strings and lists, dictionary methods use dot notation, which specifies the name of the method to the right of the dot and the name of the object on which to apply the method immediately to the left of the dot. The empty parentheses in the case of ``keys`` indicate that this method takes no parameters.\n",
        "\n",
        "The ``values`` and ``items`` methods are similar to ``keys``. They return  view objects which can be turned into lists or iterated over directly.  Note that the items are shown as tuples containing the key and the associated value."
      ]
    },
    {
      "cell_type": "code",
      "metadata": {
        "id": "PG3jAy3k6emx",
        "outputId": "d6cdc654-fc1b-42fd-c3f6-74330a5e1a7d",
        "colab": {
          "base_uri": "https://localhost:8080/",
          "height": 187
        }
      },
      "source": [
        "inventory = {'apples': 430, 'bananas': 312, 'oranges': 525, 'pears': 217}\n",
        "\n",
        "print(list(inventory.values()))\n",
        "print(list(inventory.items()))\n",
        "\n",
        "for (k,v) in inventory.items():\n",
        "    print(\"Got\", k, \"that maps to\", v)\n",
        "\n",
        "for k in inventory:\n",
        "    print(\"Got\", k, \"that maps to\", inventory[k])\n",
        "    "
      ],
      "execution_count": null,
      "outputs": [
        {
          "output_type": "stream",
          "text": [
            "[430, 312, 525, 217]\n",
            "[('apples', 430), ('bananas', 312), ('oranges', 525), ('pears', 217)]\n",
            "Got apples that maps to 430\n",
            "Got bananas that maps to 312\n",
            "Got oranges that maps to 525\n",
            "Got pears that maps to 217\n",
            "Got apples that maps to 430\n",
            "Got bananas that maps to 312\n",
            "Got oranges that maps to 525\n",
            "Got pears that maps to 217\n"
          ],
          "name": "stdout"
        }
      ]
    },
    {
      "cell_type": "markdown",
      "metadata": {
        "id": "paxdaOmw6qVs"
      },
      "source": [
        "Note that tuples are often useful for getting both the key and the value at the same time while you are looping.  The two loops do the same thing.\n",
        "\n",
        "    \n",
        "The ``in`` and ``not in`` operators can test if a key is in the dictionary:"
      ]
    },
    {
      "cell_type": "code",
      "metadata": {
        "id": "AlhoG9mQ6tUj",
        "outputId": "04e15e46-4927-492d-c6e7-0a7345a32d9a",
        "colab": {
          "base_uri": "https://localhost:8080/",
          "height": 68
        }
      },
      "source": [
        "inventory = {'apples': 430, 'bananas': 312, 'oranges': 525, 'pears': 217}\n",
        "print('apples' in inventory)\n",
        "print('cherries' in inventory)\n",
        "\n",
        "if 'bananas' in inventory:\n",
        "    print(inventory['bananas'])\n",
        "else:\n",
        "    print(\"We have no bananas\")\n"
      ],
      "execution_count": null,
      "outputs": [
        {
          "output_type": "stream",
          "text": [
            "True\n",
            "False\n",
            "312\n"
          ],
          "name": "stdout"
        }
      ]
    },
    {
      "cell_type": "markdown",
      "metadata": {
        "id": "a4IubiNV6zAA"
      },
      "source": [
        "This operator can be very useful since looking up a non-existent key in a dictionary causes a runtime error.\n",
        "\n",
        "The ``get`` method allows us to access the value associated with a key, similar to the ``[ ]`` operator. The important difference is that ``get`` will not cause a runtime error if the key is not present.  It will instead return None.  There exists a variation of ``get`` that allows a second parameter that serves as an alternative return value in the case where the key is not present.  This can be seen in the final example below.  In this case, since \"cherries\" is not a key, return 0 (instead of None)."
      ]
    },
    {
      "cell_type": "code",
      "metadata": {
        "id": "a2kDx0iJ6-tC",
        "outputId": "8055ca82-a1dc-4be3-b6f7-54c40dd07b7f",
        "colab": {
          "base_uri": "https://localhost:8080/",
          "height": 68
        }
      },
      "source": [
        "inventory = {'apples': 430, 'bananas': 312, 'oranges': 525, 'pears': 217}\n",
        "\n",
        "print(inventory.get(\"apples\"))\n",
        "print(inventory.get(\"cherries\"))\n",
        "\n",
        "print(inventory.get(\"cherries\", 0))"
      ],
      "execution_count": null,
      "outputs": [
        {
          "output_type": "stream",
          "text": [
            "430\n",
            "None\n",
            "0\n"
          ],
          "name": "stdout"
        }
      ]
    },
    {
      "cell_type": "markdown",
      "metadata": {
        "id": "pam1j4Sr7hhY"
      },
      "source": [
        "### <a name=\"exer2\"></a> Exercise 2 \n",
        "\n",
        "What is printed by the following statements?\n",
        "\n",
        "```python\n",
        "mydict = {\"cat\":12, \"dog\":6, \"elephant\":23, \"bear\":20}\n",
        "keylist = list(mydict.keys())\n",
        "keylist.sort()\n",
        "print(keylist[3])\n",
        "```\n",
        "\n",
        "* A. cat \n",
        "* B. dog \n",
        "* C. elephant \n",
        "* D. bear\n",
        "\n",
        "[exercise 2 answer](#ans2)"
      ]
    },
    {
      "cell_type": "markdown",
      "metadata": {
        "id": "d8S82nOz7oH1"
      },
      "source": [
        "### <a name=\"exer3\"></a> Exercise 3 \n",
        "\n",
        "What is printed by the following statements? \n",
        "\n",
        "```python \n",
        "mydict = {\"cat\":12, \"dog\":6, \"elephant\":23, \"bear\":20}\n",
        "answer = mydict.get(\"cat\") // mydict.get(\"dog\")\n",
        "print(answer)\n",
        "```\n",
        "\n",
        "* A. 2 \n",
        "* B. 0.5 \n",
        "* C. bear \n",
        "* D. Error, divide is not a valid operation on dictionaries \n",
        "\n",
        "[exercise 3 answer](#ans3)"
      ]
    },
    {
      "cell_type": "markdown",
      "metadata": {
        "id": "jLny1No67uXK"
      },
      "source": [
        "### <a name=\"exer4\"></a> Exercise 4 \n",
        "\n",
        "What is printed by the following statements? \n",
        "\n",
        "```python \n",
        "total = 0\n",
        "mydict = {\"cat\":12, \"dog\":6, \"elephant\":23, \"bear\":20}\n",
        "for akey in mydict:\n",
        "   if len(akey) > 3:\n",
        "      total = total + mydict[akey]\n",
        "print(total)\n",
        "```\n",
        "\n",
        "* A. 18 \n",
        "* B. 43 \n",
        "* C. 0 \n",
        "* D. 61 \n",
        "\n",
        "[exercise 4 answer](#ans4)"
      ]
    },
    {
      "cell_type": "markdown",
      "metadata": {
        "id": "yedzQE_F90Ma"
      },
      "source": [
        "## Aliasing and Copying \n",
        "\n",
        "Because dictionaries are mutable, you need to be aware of aliasing (as we saw with lists).  Whenever two variables refer to the same dictionary object, changes to one affect the other. For example, ``opposites`` is a dictionary that contains pairs of opposites."
      ]
    },
    {
      "cell_type": "code",
      "metadata": {
        "id": "Z6eOhHil91QJ",
        "outputId": "593946b0-4f37-47fc-ffa4-97065b5b57f0",
        "colab": {
          "base_uri": "https://localhost:8080/",
          "height": 51
        }
      },
      "source": [
        "opposites = {'up': 'down', 'right': 'wrong', 'true': 'false'}\n",
        "alias = opposites\n",
        "\n",
        "print(alias is opposites)\n",
        "\n",
        "alias['right'] = 'left'\n",
        "print(opposites['right'])"
      ],
      "execution_count": null,
      "outputs": [
        {
          "output_type": "stream",
          "text": [
            "True\n",
            "left\n"
          ],
          "name": "stdout"
        }
      ]
    },
    {
      "cell_type": "markdown",
      "metadata": {
        "id": "rn0M8IXH98Q7"
      },
      "source": [
        "As you can see from the ``is`` operator, ``alias`` and ``opposites`` refer to the same object.\n",
        "\n",
        "If you want to modify a dictionary and keep a copy of the original, use the dictionary  ``copy`` method.  Since *acopy* is a copy of the dictionary, changes to it will not effect the original.\n",
        "\n",
        "```python \n",
        "acopy = opposites.copy()\n",
        "acopy['right'] = 'left'    # does not change opposites\n",
        "```\n",
        "\n"
      ]
    },
    {
      "cell_type": "markdown",
      "metadata": {
        "id": "hCxgafd6-J18"
      },
      "source": [
        "### <a name=\"exer5\"></a> Exercise 5 \n",
        "\n",
        "What is printed by the following statements? \n",
        "\n",
        "```python \n",
        "mydict = {\"cat\":12, \"dog\":6, \"elephant\":23, \"bear\":20}\n",
        "yourdict = mydict\n",
        "yourdict[\"elephant\"] = 999\n",
        "print(mydict[\"elephant\"])\n",
        "```\n",
        "\n",
        "* A. 23 \n",
        "* B. None \n",
        "* C. 999 \n",
        "* D. Error, there are two different keys named elephant. \n",
        "\n",
        "[exercise 5 answer](#ans5)"
      ]
    },
    {
      "cell_type": "markdown",
      "metadata": {
        "id": "-1F076ApALdz"
      },
      "source": [
        "# Exceptions \n",
        "\n",
        "An *exception* is a signal that a condition has occurred that can't be easily handled using the normal flow-of-control of a Python program. *Exceptions* are often defined as being \"errors\" but this is not always the case. All errors in Python are dealt with using *exceptions*, but not all *exceptions* are errors.\n"
      ]
    },
    {
      "cell_type": "markdown",
      "metadata": {
        "id": "pusDxGxTANTa"
      },
      "source": [
        "## Exception Handling Flow-of-control \n",
        "\n",
        "To explain what an *exception* does, let's review the normal \"flow of control\" in a Python program. In normal operation Python executes statements sequentially, one after the other. For three constructs, if-statements, loops and function invocations, this sequential execution is interrupted.\n",
        "\n",
        "* For *if-statements*, only one of several statement blocks is executed and then flow-of-control jumps to the first statement after the if-statement.\n",
        "* For *loops*, when the end of the loop is reached, flow-of-control jumps back to the start of the loop and a test is used to determine if the loop needs to execute again. If the loop is finished, flow-of-control jumps to the  first statement after the loop.\n",
        "* For *function invocations*, flow-of-control jumps to the first statement in  the called function, the function is executed, and the flow-of-control  jumps back to the next statement after the function call.\n",
        "\n",
        "Do you see the pattern? If the flow-of-control is not purely sequential, it always executes the first statement immediately following the altered flow-of-control. That is why we can say that Python flow-of-control is sequential. But there are cases where this sequential flow-of-control does not work well. An example will best explain this.\n",
        "\n",
        "Let's suppose that a program contains complex logic that is appropriately subdivided into functions. The program is running and it currently is executing function D, which was called by function C, which was called by function B, which was called by function A, which was called from the main function. This is illustrated by the following simplistic code example:\n",
        "\n",
        "\n",
        "```python \n",
        "def main()\n",
        "  A()\n",
        "\n",
        "def A():\n",
        "  B()\n",
        "\n",
        "def B():\n",
        "  C()\n",
        "\n",
        "def C():\n",
        "  D()\n",
        "\n",
        "def D()\n",
        "  # processing\n",
        "```\n",
        "\n",
        "Function D determines that the current processing won't work for some reason and needs to send a message to the main function to try something different. However, all that function D can do using normal flow-of-control is to return a value to function C. So function D returns a special value to function C that means \"try something else\". Function C has to recognize this value, quit its processing, and return the special value to function B. And so forth and so on. It would be very helpful if function D could communicate directly with the main function (or functions A and B) without sending a special value through the intermediate calling functions. Well, that is exactly what an *exception* does. An *exception* is a message to any function currently on the executing program's \"run-time-stack\". (The \"run-time-stack\" is what keeps track of the active function calls while a program is executing.)\n",
        "\n",
        "In Python, your create an *exception* message using the ``raise`` command. The simplest format for a ``raise`` command is the keyword ``raise`` followed by the name of an exception. For example:\n",
        "\n",
        "```python \n",
        "raise ExceptionName\n",
        "```\n",
        "\n",
        "So what happens to an *exception* message after it is created? The normal flow-of-control of a Python program is interrupted and Python starts looking for any code in its run-time-stack that is interested in dealing with the message. It always searches from its current location at the bottom of the run-time-stack, up the stack, in the order the functions were originally called. A ``try: except:`` block is used to say \"hey, I can deal with that message.\" The first ``try: except:`` block that Python finds on its search back up the run-time-stack will be executed. If there is no ``try: except:`` block found, the program \"crashes\" and prints its run-time-stack to the console.\n",
        "\n",
        "Let's take a look at several code examples to illustrate this process. If function D had a ``try: except:`` block around the code that ``raised`` a ``MyException`` message, then the flow-of-control would be passed to the local ``except`` block. That is, function D would handle it's own issues.\n",
        "\n",
        "```python \n",
        "def main()\n",
        "  A()\n",
        "\n",
        "def A():\n",
        "  B()\n",
        "\n",
        "def B():\n",
        "  C()\n",
        "\n",
        "def C():\n",
        "  D()\n",
        "\n",
        "def D()\n",
        "  try:\n",
        "    # processing code\n",
        "    if something_special_happened:\n",
        "      raise MyException\n",
        "  except MyException:\n",
        "    # execute if the MyException message happened\n",
        "```\n",
        "\n",
        "But perhaps function C is better able to handle the issue, so you could put the ``try: except:`` block in function C:\n",
        "\n",
        "```python \n",
        "def main()\n",
        "  A()\n",
        "\n",
        "def A():\n",
        "  B()\n",
        "\n",
        "def B():\n",
        "  C()\n",
        "\n",
        "def C():\n",
        "  try:\n",
        "    D()\n",
        "  except MyException:\n",
        "    # execute if the MyException message happened\n",
        "\n",
        "def D()\n",
        "  # processing code\n",
        "  if something_special_happened:\n",
        "    raise MyException\n",
        "```\n",
        "\n",
        "But perhaps the main function is better able to handle the issue, so you\n",
        "could put the ``try: except:`` block in the main function:\n",
        "\n",
        "```python \n",
        "def main()\n",
        "  try:\n",
        "    A()\n",
        "  except MyException:\n",
        "    # execute if the MyException message happened\n",
        "\n",
        "def A():\n",
        "  B()\n",
        "\n",
        "def B():\n",
        "  C()\n",
        "\n",
        "def C():\n",
        "  D()\n",
        "\n",
        "def D()\n",
        "  # processing code\n",
        "  if something_special_happened:\n",
        "    raise MyException\n",
        "```\n"
      ]
    },
    {
      "cell_type": "markdown",
      "metadata": {
        "id": "FK50dg_1ARp8"
      },
      "source": [
        "## Summary of Exceptions \n",
        "\n",
        "Let's summarize our discussion. An *exception* is a message that something \"out-of-the-ordinary\" has happened and the normal flow-of-control needs to be abandoned. When an *exception* is ``raised``, Python searches its run-time-stack for a ``try: except:`` block that can appropriately deal with the condition. The first ``try: except:`` block that knows how to deal with the issue is executed and then flow-of-control is returned to its normal sequential execution. If no appropriate ``try: except:`` block is found, the program \"crashes\" and prints its run-time-stack to the console.\n",
        "\n",
        "As our final example, here is a program that crashes because no valid ``try: except:`` block was found to process the ``MyException`` message. Notice that the ``try: except:`` block in the main function only knows how to deal with ``ZeroDivisonError`` messages, not ``MyException`` messages.\n",
        "\n",
        "```python \n",
        "def main()\n",
        "  try:\n",
        "    A()\n",
        "  except ZeroDivisonError:\n",
        "    # execute if a ZeroDivisonError message happened\n",
        "\n",
        "def A():\n",
        "  B()\n",
        "\n",
        "def B():\n",
        "  C()\n",
        "\n",
        "def C():\n",
        "  D()\n",
        "\n",
        "def D()\n",
        "  # processing code\n",
        "  if something_special_happened:\n",
        "    raise MyException\n",
        "```\n"
      ]
    },
    {
      "cell_type": "markdown",
      "metadata": {
        "id": "nVbAskalBCBH"
      },
      "source": [
        "## Standard Exceptions \n",
        "\n",
        "Most of the standard *exceptions* built into Python are listed below. They are organized into related groups based on the types of issues they deal with.\n",
        "\n",
        "\n",
        "| Language Exceptions  | Description  |\n",
        "|----------------------|--------------|\n",
        "| StandardError        | Base class for all built-in exceptions except StopIteration and SystemExit. |\n",
        "| ImportError          | Raised when an import statement fails. |\n",
        "| SyntaxError          | Raised when there is an error in Python syntax. |\n",
        "| IndentationError     | Raised when indentation is not specified properly. |\n",
        "| NameError            | Raised when an identifier is not found in the local or global namespace. |\n",
        "| UnboundLocalError    | Raised when trying to access a local variable in a function or method but no value has been assigned to it. |\n",
        "| TypeError            | Raised when an operation or function is attempted that  is invalid for the specified data type. |\n",
        "| LookupError          | Base class for all lookup errors. |\n",
        "| IndexError           | Raised when an index is not found in a sequence. |\n",
        "| KeyError             | Raised when the specified key is not found in the dictionary. |\n",
        "| ValueError           | Raised when the built-in function for a data type has the valid type of arguments, but the arguments have invalid values specified. |\n",
        "| RuntimeError         | Raised when a generated error does not fall into any category. |\n",
        "| MemoryError          | Raised when a operation runs out of memory.\n",
        "| RecursionError       | Raised when the maximum recursion depth has been exceeded. |\n",
        "| SystemError          | Raised when the interpreter finds an internal problem,  but when this error is encountered the Python interpreter does not exit. |"
      ]
    },
    {
      "cell_type": "markdown",
      "metadata": {
        "id": "4G6NMAx-BTjK"
      },
      "source": [
        "| Math Exceptions       | Description  |\n",
        "|-----------------------|--------------|\n",
        "| ArithmeticError       | Base class for all errors that occur for numeric calculation. You know a math error occurred, but you don't know the specific error. |\n",
        "| OverflowError         | Raised when a calculation exceeds maximum limit for a numeric type.\n",
        "| FloatingPointError    | Raised when a floating point calculation fails.\n",
        "| ZeroDivisonError      | Raised when division or modulo by zero takes place for all numeric types. |"
      ]
    },
    {
      "cell_type": "markdown",
      "metadata": {
        "id": "WzhRc05fBnrQ"
      },
      "source": [
        "| I/O Exceptions       | Description  |\n",
        "|----------------------|--------------|\n",
        "| FileNotFoundError    | Raised when a file or directory is requested but doesn’t exist. |\n",
        "| IOError              | Raised when an input/ output operation fails, such as  the print statement or the open() function \n",
        "|                      | when trying to open a file that does not exist. Also raised for  operating system-related errors. |\n",
        "| PermissionError      | Raised when trying to run an operation without the adequate access rights. |\n",
        "| EOFError             | Raised when there is no input from either the raw_input()  or input() function and the end of file is reached. |\n",
        "| KeyboardInterrupt    | Raised when the user interrupts program execution, usually by pressing Ctrl+c. |"
      ]
    },
    {
      "cell_type": "markdown",
      "metadata": {
        "id": "HW4s2py1Ctgs"
      },
      "source": [
        "| Other Exceptions     | Description  |\n",
        "|----------------------|--------------|\n",
        "| Exception            | Base class for all exceptions. This catches most exception messages. |\n",
        "| StopIteration        | Raised when the next() method of an iterator  does not point to any object. |\n",
        "| AssertionError       | Raised in case of failure of the Assert statement. |\n",
        "| SystemExit           | Raised when Python interpreter is quit by using the sys.exit() function. \n",
        "|                      | If not handled in the code, it causes the interpreter to exit. |\n",
        "| OSError              | Raises for operating system related errors. |\n",
        "| EnvironmentError     | Base class for all exceptions that occur outside the Python environment. |\n",
        "| AttributeError       | Raised in case of failure of an attribute reference or assignment. |\n",
        "| NotImplementedError  | Raised when an abstract method that needs to be implemented in an inherited class is not actually implemented. |"
      ]
    },
    {
      "cell_type": "markdown",
      "metadata": {
        "id": "pdTIP5xtCwHV"
      },
      "source": [
        "All exceptions are objects. The classes that define the objects are organized in a hierarchy, which is shown below. This is important because the parent class of a set of related exceptions will catch all exception messages for itself and its child exceptions. For example, an ``ArithmeticError`` exception will catch itself and all ``FloatingPointError``, ``OverflowError``, and ``ZeroDivisionError`` exceptions."
      ]
    },
    {
      "cell_type": "markdown",
      "metadata": {
        "id": "jVibC4kPDPmt"
      },
      "source": [
        "## Principles for using Exceptions \n",
        "\n",
        "There are many bad examples of *exception* use on the Internet. The purpose of an *exception* is to modify the flow-of-control, not to catch simple errors. If your ``try: except:`` block is in the same function that ``raises`` the exception, you are probably mis-using exceptions.\n",
        "\n",
        "**Principle 1**  \n",
        "If a condition can be handled using the normal flow-of-control, don't  use an exception!\n",
        "\n",
        "*Example 1*  \n",
        "\n",
        "**DON'T DO THIS** \n",
        "\n",
        "```python \n",
        "try:\n",
        "  average = sum(a_list) / len(a_list)\n",
        "except ZeroDivisionError:\n",
        "  average = 0\n",
        "```\n",
        "\n",
        "Instead, you can just as easily test for no items in the list doing this:\n",
        "\n",
        "```python \n",
        "if len(a_list) > 0:\n",
        "  average = sum(a_list) / len(a_list)\n",
        "else:\n",
        "  average = 0\n",
        "``` \n",
        "\n",
        "*Example 2*  \n",
        "\n",
        "**DON'T DO THIS** \n",
        "\n",
        "```python \n",
        "try:\n",
        "  value = my_list[index]\n",
        "except IndexError:\n",
        "  value = -1\n",
        "```\n",
        "\n",
        "Instead, you can just as easily test for a valid index doing this:\n",
        "\n",
        "```python \n",
        "if 0 <= index < len(my_list):\n",
        "  value = my_list[index]\n",
        "else:\n",
        "  value = -1\n",
        "```\n",
        "\n",
        "*Example 3*\n",
        "\n",
        "**DON'T DO THIS** \n",
        "\n",
        "```python \n",
        "try:\n",
        "  value = my_dictionary[key]\n",
        "except KeyError:\n",
        "  value = -1\n",
        "``` \n",
        "\n",
        "Instead, you can just as easily test to see if the key is valid doing this:\n",
        "\n",
        "```python \n",
        "if key in my_dictionary.keys():\n",
        "  value = my_dictionary[key]\n",
        "else:\n",
        "  value = -1\n",
        "```\n",
        "\n",
        "**Principle 2**   \n",
        "If you call a function that potentially raises exceptions, and you can do something appropriate to deal with the exception, then surround the code that contains the function call with a ``try: except:`` block.\n",
        "\n",
        "*Example*  \n",
        "Suppose you have a function that reads a file to set the state of an application when it starts up. You should catch any errors related to reading the file and set the state of the application to default values if they can't be set from the file.\n",
        "\n",
        "```python \n",
        "try:\n",
        "  load_state('previous_state.txt')\n",
        "except OSError:\n",
        "  set_state_to_defaults()\n",
        "```\n",
        "\n",
        "**Principle 3**  \n",
        "If you call a function that potentially raises exceptions, and you can't do anything meaningful about the conditions that are raised, then don't  catch the exception message(s).\n",
        "\n",
        "\n",
        "\n",
        "\n",
        "\n"
      ]
    },
    {
      "cell_type": "markdown",
      "metadata": {
        "id": "NZkwYJqf5RCs"
      },
      "source": [
        "---\n"
      ]
    },
    {
      "cell_type": "markdown",
      "metadata": {
        "id": "ddGWd3K75R_Z"
      },
      "source": [
        "## Answers to Exercises "
      ]
    },
    {
      "cell_type": "markdown",
      "metadata": {
        "id": "ZCSTPzl65UIx"
      },
      "source": [
        "### <a name=\"ans1\"></a> Exercise 1 \n",
        "\n",
        "C. add the value for cat and the value for dog (12 + 6) and create a new entry for mouse.\n",
        "\n",
        "[Back to Exercises](#exer1)"
      ]
    },
    {
      "cell_type": "markdown",
      "metadata": {
        "id": "x_jtvDeV8JTm"
      },
      "source": [
        "### <a name=\"ans2\"></a> Exercise 2 \n",
        "\n",
        "C. elephant, \n",
        "\n",
        "the list of keys is sorted and the item at index 3 is printed.\n",
        "\n",
        "[Back to Exercises](#exer2)"
      ]
    },
    {
      "cell_type": "markdown",
      "metadata": {
        "id": "OkCgt52N8Xhg"
      },
      "source": [
        "### <a name=\"ans3\"></a> Exercise 3 \n",
        "\n",
        "A. 2 \n",
        "\n",
        "get returns the value associated with a given key so this divides 12 by 6.\n",
        "\n",
        "[Back to Exercises](#exer3)"
      ]
    },
    {
      "cell_type": "markdown",
      "metadata": {
        "id": "HIodKZwI8ipp"
      },
      "source": [
        "### <a name=\"ans4\"></a> Exercise 4 \n",
        "\n",
        "B. 43   \n",
        "the for statement iterates over the keys. It adds the values of the keys that have length greater than 3.\n",
        "\n",
        "[Back to Exercises](#exer4)"
      ]
    },
    {
      "cell_type": "markdown",
      "metadata": {
        "id": "1jrpOyT9-fNl"
      },
      "source": [
        "### <a name=\"ans5\"></a> Exercise 5 \n",
        "\n",
        "C. 999,  \n",
        "since yourdict is an alias for mydict, the value for the key elephant has been changed.\n",
        "\n",
        "[Back to Exercises](#exer5)"
      ]
    },
    {
      "cell_type": "code",
      "metadata": {
        "id": "5j2wJ6f9-etE"
      },
      "source": [
        ""
      ],
      "execution_count": null,
      "outputs": []
    },
    {
      "cell_type": "code",
      "metadata": {
        "id": "9xIxJ_ii5dEM"
      },
      "source": [
        ""
      ],
      "execution_count": null,
      "outputs": []
    }
  ]
}