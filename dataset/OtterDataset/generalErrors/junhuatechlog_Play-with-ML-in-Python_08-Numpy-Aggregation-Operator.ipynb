{
 "cells": [
  {
   "cell_type": "code",
   "execution_count": 1,
   "id": "47edf670-568b-4fd4-acdf-6a3ee92a74a7",
   "metadata": {},
   "outputs": [],
   "source": [
    "import numpy as np\n",
    "L = np.random.random(100)"
   ]
  },
  {
   "cell_type": "code",
   "execution_count": 2,
   "id": "7ad4ace5-7ecd-414c-a44f-60ace60b18fb",
   "metadata": {},
   "outputs": [
    {
     "data": {
      "text/plain": [
       "array([0.08273076, 0.68764139, 0.44719977, 0.36252818, 0.8085634 ,\n",
       "       0.92798173, 0.3831528 , 0.89631957, 0.96745206, 0.69218953,\n",
       "       0.32923396, 0.22265377, 0.98176129, 0.36856048, 0.72916419,\n",
       "       0.63888662, 0.42480369, 0.62329952, 0.4321357 , 0.36046506,\n",
       "       0.15738935, 0.80474137, 0.85424677, 0.8628455 , 0.30609466,\n",
       "       0.25609823, 0.14877468, 0.01729889, 0.3078127 , 0.31720428,\n",
       "       0.33652549, 0.43402727, 0.6825307 , 0.16681365, 0.54668906,\n",
       "       0.0348594 , 0.01615363, 0.81569325, 0.22411291, 0.74782643,\n",
       "       0.83945584, 0.59820065, 0.00567822, 0.88085635, 0.12476604,\n",
       "       0.18073582, 0.82545406, 0.39306217, 0.24902267, 0.08098445,\n",
       "       0.71804997, 0.16654317, 0.90346893, 0.52410857, 0.84250452,\n",
       "       0.09617799, 0.00181545, 0.17953607, 0.31861366, 0.02209695,\n",
       "       0.70160983, 0.40145679, 0.92444282, 0.20663842, 0.61828444,\n",
       "       0.60127095, 0.61818133, 0.12842016, 0.72763267, 0.2389517 ,\n",
       "       0.02817744, 0.17367848, 0.39290422, 0.32886055, 0.94110257,\n",
       "       0.96437153, 0.57953962, 0.20970401, 0.02441045, 0.71088129,\n",
       "       0.28930459, 0.98492155, 0.1391406 , 0.84122319, 0.9794662 ,\n",
       "       0.0474026 , 0.88244624, 0.67844387, 0.51150806, 0.78655315,\n",
       "       0.10399302, 0.19847074, 0.21483441, 0.0605353 , 0.88416965,\n",
       "       0.89580221, 0.67567013, 0.07045477, 0.78974079, 0.66360457])"
      ]
     },
     "execution_count": 2,
     "metadata": {},
     "output_type": "execute_result"
    }
   ],
   "source": [
    "L"
   ]
  },
  {
   "cell_type": "code",
   "execution_count": 3,
   "id": "f67306a4-85ad-417b-b88a-d9f2dc89f9b3",
   "metadata": {},
   "outputs": [
    {
     "data": {
      "text/plain": [
       "array([[0.08273076, 0.68764139, 0.44719977, 0.36252818, 0.8085634 ],\n",
       "       [0.92798173, 0.3831528 , 0.89631957, 0.96745206, 0.69218953],\n",
       "       [0.32923396, 0.22265377, 0.98176129, 0.36856048, 0.72916419],\n",
       "       [0.63888662, 0.42480369, 0.62329952, 0.4321357 , 0.36046506],\n",
       "       [0.15738935, 0.80474137, 0.85424677, 0.8628455 , 0.30609466],\n",
       "       [0.25609823, 0.14877468, 0.01729889, 0.3078127 , 0.31720428],\n",
       "       [0.33652549, 0.43402727, 0.6825307 , 0.16681365, 0.54668906],\n",
       "       [0.0348594 , 0.01615363, 0.81569325, 0.22411291, 0.74782643],\n",
       "       [0.83945584, 0.59820065, 0.00567822, 0.88085635, 0.12476604],\n",
       "       [0.18073582, 0.82545406, 0.39306217, 0.24902267, 0.08098445],\n",
       "       [0.71804997, 0.16654317, 0.90346893, 0.52410857, 0.84250452],\n",
       "       [0.09617799, 0.00181545, 0.17953607, 0.31861366, 0.02209695],\n",
       "       [0.70160983, 0.40145679, 0.92444282, 0.20663842, 0.61828444],\n",
       "       [0.60127095, 0.61818133, 0.12842016, 0.72763267, 0.2389517 ],\n",
       "       [0.02817744, 0.17367848, 0.39290422, 0.32886055, 0.94110257],\n",
       "       [0.96437153, 0.57953962, 0.20970401, 0.02441045, 0.71088129],\n",
       "       [0.28930459, 0.98492155, 0.1391406 , 0.84122319, 0.9794662 ],\n",
       "       [0.0474026 , 0.88244624, 0.67844387, 0.51150806, 0.78655315],\n",
       "       [0.10399302, 0.19847074, 0.21483441, 0.0605353 , 0.88416965],\n",
       "       [0.89580221, 0.67567013, 0.07045477, 0.78974079, 0.66360457]])"
      ]
     },
     "execution_count": 3,
     "metadata": {},
     "output_type": "execute_result"
    }
   ],
   "source": [
    "L.reshape(20, 5)"
   ]
  },
  {
   "cell_type": "code",
   "execution_count": 4,
   "id": "cb391677-f1bc-4df9-b6d9-267e266d7d1f",
   "metadata": {},
   "outputs": [],
   "source": [
    "X=L.reshape(20, 5)"
   ]
  },
  {
   "cell_type": "code",
   "execution_count": 5,
   "id": "d20ac379-4f17-49b9-9b4a-2d762babef5f",
   "metadata": {},
   "outputs": [
    {
     "data": {
      "text/plain": [
       "array([[0.08273076, 0.68764139, 0.44719977, 0.36252818, 0.8085634 ],\n",
       "       [0.92798173, 0.3831528 , 0.89631957, 0.96745206, 0.69218953],\n",
       "       [0.32923396, 0.22265377, 0.98176129, 0.36856048, 0.72916419],\n",
       "       [0.63888662, 0.42480369, 0.62329952, 0.4321357 , 0.36046506],\n",
       "       [0.15738935, 0.80474137, 0.85424677, 0.8628455 , 0.30609466],\n",
       "       [0.25609823, 0.14877468, 0.01729889, 0.3078127 , 0.31720428],\n",
       "       [0.33652549, 0.43402727, 0.6825307 , 0.16681365, 0.54668906],\n",
       "       [0.0348594 , 0.01615363, 0.81569325, 0.22411291, 0.74782643],\n",
       "       [0.83945584, 0.59820065, 0.00567822, 0.88085635, 0.12476604],\n",
       "       [0.18073582, 0.82545406, 0.39306217, 0.24902267, 0.08098445],\n",
       "       [0.71804997, 0.16654317, 0.90346893, 0.52410857, 0.84250452],\n",
       "       [0.09617799, 0.00181545, 0.17953607, 0.31861366, 0.02209695],\n",
       "       [0.70160983, 0.40145679, 0.92444282, 0.20663842, 0.61828444],\n",
       "       [0.60127095, 0.61818133, 0.12842016, 0.72763267, 0.2389517 ],\n",
       "       [0.02817744, 0.17367848, 0.39290422, 0.32886055, 0.94110257],\n",
       "       [0.96437153, 0.57953962, 0.20970401, 0.02441045, 0.71088129],\n",
       "       [0.28930459, 0.98492155, 0.1391406 , 0.84122319, 0.9794662 ],\n",
       "       [0.0474026 , 0.88244624, 0.67844387, 0.51150806, 0.78655315],\n",
       "       [0.10399302, 0.19847074, 0.21483441, 0.0605353 , 0.88416965],\n",
       "       [0.89580221, 0.67567013, 0.07045477, 0.78974079, 0.66360457]])"
      ]
     },
     "execution_count": 5,
     "metadata": {},
     "output_type": "execute_result"
    }
   ],
   "source": [
    "X"
   ]
  },
  {
   "cell_type": "code",
   "execution_count": 6,
   "id": "ff9391e5-e0f1-42da-ae4d-0327eb197b0b",
   "metadata": {},
   "outputs": [
    {
     "data": {
      "text/plain": [
       "47.573798125811194"
      ]
     },
     "execution_count": 6,
     "metadata": {},
     "output_type": "execute_result"
    }
   ],
   "source": [
    "sum(L)"
   ]
  },
  {
   "cell_type": "code",
   "execution_count": 7,
   "id": "7a866bf8-05f3-4ebc-9a4b-d22cf2a38507",
   "metadata": {},
   "outputs": [
    {
     "data": {
      "text/plain": [
       "47.57379812581121"
      ]
     },
     "execution_count": 7,
     "metadata": {},
     "output_type": "execute_result"
    }
   ],
   "source": [
    "np.sum(L)"
   ]
  },
  {
   "cell_type": "code",
   "execution_count": 11,
   "id": "e02a08dd-2862-4a2f-bb57-7ed75d40c359",
   "metadata": {},
   "outputs": [
    {
     "name": "stdout",
     "output_type": "stream",
     "text": [
      "92.1 ms ± 6.41 ms per loop (mean ± std. dev. of 7 runs, 10 loops each)\n",
      "944 µs ± 74.6 µs per loop (mean ± std. dev. of 7 runs, 1,000 loops each)\n"
     ]
    }
   ],
   "source": [
    "big_array=np.random.rand(1000000)\n",
    "%timeit sum(big_array)\n",
    "%timeit np.sum(big_array)"
   ]
  },
  {
   "cell_type": "code",
   "execution_count": 12,
   "id": "a8a04b64-07e6-43b7-9e0d-1c508e4f4efc",
   "metadata": {},
   "outputs": [
    {
     "data": {
      "text/plain": [
       "0.001815452853417443"
      ]
     },
     "execution_count": 12,
     "metadata": {},
     "output_type": "execute_result"
    }
   ],
   "source": [
    "np.min(L)"
   ]
  },
  {
   "cell_type": "code",
   "execution_count": 13,
   "id": "d01628cb-f21c-42ab-b7b8-8d7322df1d08",
   "metadata": {},
   "outputs": [
    {
     "data": {
      "text/plain": [
       "0.9849215548608882"
      ]
     },
     "execution_count": 13,
     "metadata": {},
     "output_type": "execute_result"
    }
   ],
   "source": [
    "np.max(L)"
   ]
  },
  {
   "cell_type": "code",
   "execution_count": 14,
   "id": "22a44421-41cf-437e-837d-dea2209959f4",
   "metadata": {},
   "outputs": [
    {
     "data": {
      "text/plain": [
       "0.47573798125811206"
      ]
     },
     "execution_count": 14,
     "metadata": {},
     "output_type": "execute_result"
    }
   ],
   "source": [
    "np.average(L)"
   ]
  },
  {
   "cell_type": "code",
   "execution_count": 15,
   "id": "d45f7a5f-d4a2-47a9-9774-5eb2a9ea3a30",
   "metadata": {},
   "outputs": [
    {
     "data": {
      "text/plain": [
       "array([0.08273076, 0.68764139, 0.44719977, 0.36252818, 0.8085634 ,\n",
       "       0.92798173, 0.3831528 , 0.89631957, 0.96745206, 0.69218953,\n",
       "       0.32923396, 0.22265377, 0.98176129, 0.36856048, 0.72916419,\n",
       "       0.63888662, 0.42480369, 0.62329952, 0.4321357 , 0.36046506,\n",
       "       0.15738935, 0.80474137, 0.85424677, 0.8628455 , 0.30609466,\n",
       "       0.25609823, 0.14877468, 0.01729889, 0.3078127 , 0.31720428,\n",
       "       0.33652549, 0.43402727, 0.6825307 , 0.16681365, 0.54668906,\n",
       "       0.0348594 , 0.01615363, 0.81569325, 0.22411291, 0.74782643,\n",
       "       0.83945584, 0.59820065, 0.00567822, 0.88085635, 0.12476604,\n",
       "       0.18073582, 0.82545406, 0.39306217, 0.24902267, 0.08098445,\n",
       "       0.71804997, 0.16654317, 0.90346893, 0.52410857, 0.84250452,\n",
       "       0.09617799, 0.00181545, 0.17953607, 0.31861366, 0.02209695,\n",
       "       0.70160983, 0.40145679, 0.92444282, 0.20663842, 0.61828444,\n",
       "       0.60127095, 0.61818133, 0.12842016, 0.72763267, 0.2389517 ,\n",
       "       0.02817744, 0.17367848, 0.39290422, 0.32886055, 0.94110257,\n",
       "       0.96437153, 0.57953962, 0.20970401, 0.02441045, 0.71088129,\n",
       "       0.28930459, 0.98492155, 0.1391406 , 0.84122319, 0.9794662 ,\n",
       "       0.0474026 , 0.88244624, 0.67844387, 0.51150806, 0.78655315,\n",
       "       0.10399302, 0.19847074, 0.21483441, 0.0605353 , 0.88416965,\n",
       "       0.89580221, 0.67567013, 0.07045477, 0.78974079, 0.66360457])"
      ]
     },
     "execution_count": 15,
     "metadata": {},
     "output_type": "execute_result"
    }
   ],
   "source": [
    "L"
   ]
  },
  {
   "cell_type": "code",
   "execution_count": 18,
   "id": "8fca38bc-6ff5-44c9-9cd2-ba6a081a3115",
   "metadata": {},
   "outputs": [
    {
     "data": {
      "text/plain": [
       "array([[ 0,  1,  2,  3],\n",
       "       [ 4,  5,  6,  7],\n",
       "       [ 8,  9, 10, 11],\n",
       "       [12, 13, 14, 15]])"
      ]
     },
     "execution_count": 18,
     "metadata": {},
     "output_type": "execute_result"
    }
   ],
   "source": [
    "X= np.arange(16).reshape(4, -1)\n",
    "X"
   ]
  },
  {
   "cell_type": "code",
   "execution_count": 19,
   "id": "b5435ef2-b371-44c5-b6f0-661338ab6211",
   "metadata": {},
   "outputs": [
    {
     "data": {
      "text/plain": [
       "2004189184"
      ]
     },
     "execution_count": 19,
     "metadata": {},
     "output_type": "execute_result"
    }
   ],
   "source": [
    "np.product(X+1)\n"
   ]
  },
  {
   "cell_type": "code",
   "execution_count": 20,
   "id": "1eedc92b-1b83-4219-94dd-22c824e5b2d2",
   "metadata": {},
   "outputs": [
    {
     "data": {
      "text/plain": [
       "7.5"
      ]
     },
     "execution_count": 20,
     "metadata": {},
     "output_type": "execute_result"
    }
   ],
   "source": [
    "np.mean(X)"
   ]
  },
  {
   "cell_type": "code",
   "execution_count": 21,
   "id": "1e4102f4-7c37-42fa-8990-a89e694c5bf5",
   "metadata": {},
   "outputs": [
    {
     "name": "stdout",
     "output_type": "stream",
     "text": [
      "2.04266284775656e-07\n",
      "0.24989378283472136\n",
      "0.49993255102475737\n",
      "0.7503103683537804\n",
      "0.9999975227905505\n"
     ]
    }
   ],
   "source": [
    "for percent in [0, 25, 50, 75, 100]:\n",
    "    print(np.percentile(big_array, q=percent))"
   ]
  },
  {
   "cell_type": "code",
   "execution_count": 22,
   "id": "de66d968-37eb-4635-9d7d-200241b08f2a",
   "metadata": {},
   "outputs": [
    {
     "data": {
      "text/plain": [
       "0.08341059235464768"
      ]
     },
     "execution_count": 22,
     "metadata": {},
     "output_type": "execute_result"
    }
   ],
   "source": [
    "np.var(big_array)"
   ]
  },
  {
   "cell_type": "code",
   "execution_count": 23,
   "id": "4a74476a-d124-42a5-a30a-3e44e630dd99",
   "metadata": {},
   "outputs": [
    {
     "data": {
      "text/plain": [
       "0.28875870090283406"
      ]
     },
     "execution_count": 23,
     "metadata": {},
     "output_type": "execute_result"
    }
   ],
   "source": [
    "np.std(bit_array)"
   ]
  },
  {
   "cell_type": "code",
   "execution_count": 24,
   "id": "6a39a2c4-d163-47dd-9a4e-31785f4b1d9d",
   "metadata": {},
   "outputs": [],
   "source": [
    "x = np.random.normal(0, 1, size=1000000)"
   ]
  },
  {
   "cell_type": "code",
   "execution_count": 25,
   "id": "829199fc-5fe7-4472-8ac6-52fb5d02625c",
   "metadata": {},
   "outputs": [
    {
     "data": {
      "text/plain": [
       "array([-1.75397665,  0.20892546, -1.09629469, ..., -1.51941904,\n",
       "        0.57404508,  0.01446485])"
      ]
     },
     "execution_count": 25,
     "metadata": {},
     "output_type": "execute_result"
    }
   ],
   "source": [
    "x"
   ]
  },
  {
   "cell_type": "code",
   "execution_count": 26,
   "id": "d2aeed4d-7c42-4ac9-a3d0-86c0a9cd1730",
   "metadata": {},
   "outputs": [
    {
     "data": {
      "text/plain": [
       "-0.00045990725793377206"
      ]
     },
     "execution_count": 26,
     "metadata": {},
     "output_type": "execute_result"
    }
   ],
   "source": [
    "np.mean(x)"
   ]
  },
  {
   "cell_type": "code",
   "execution_count": 27,
   "id": "25d37e14-398d-4557-b349-48be3e010da5",
   "metadata": {},
   "outputs": [
    {
     "data": {
      "text/plain": [
       "1.000077107205281"
      ]
     },
     "execution_count": 27,
     "metadata": {},
     "output_type": "execute_result"
    }
   ],
   "source": [
    "np.std(x)"
   ]
  },
  {
   "cell_type": "code",
   "execution_count": 28,
   "id": "5a8da2f8-c6ac-47d2-ae8c-9e965666fe80",
   "metadata": {},
   "outputs": [
    {
     "data": {
      "text/plain": [
       "-4.646766907960408"
      ]
     },
     "execution_count": 28,
     "metadata": {},
     "output_type": "execute_result"
    }
   ],
   "source": [
    "np.min(x)"
   ]
  },
  {
   "cell_type": "code",
   "execution_count": 29,
   "id": "df83a129-1bb6-4947-a7c0-8a989a137be1",
   "metadata": {},
   "outputs": [
    {
     "data": {
      "text/plain": [
       "601475"
      ]
     },
     "execution_count": 29,
     "metadata": {},
     "output_type": "execute_result"
    }
   ],
   "source": [
    "np.argmin(x)"
   ]
  },
  {
   "cell_type": "code",
   "execution_count": 30,
   "id": "90c77a3e-03cc-4fb3-bad0-9dda659c4cc4",
   "metadata": {},
   "outputs": [
    {
     "data": {
      "text/plain": [
       "-4.646766907960408"
      ]
     },
     "execution_count": 30,
     "metadata": {},
     "output_type": "execute_result"
    }
   ],
   "source": [
    "x[601475]"
   ]
  },
  {
   "cell_type": "code",
   "execution_count": 31,
   "id": "26500e0c-beda-4569-bf44-f03e6b99601d",
   "metadata": {},
   "outputs": [],
   "source": [
    "x = np.arange(16)"
   ]
  },
  {
   "cell_type": "code",
   "execution_count": 32,
   "id": "97c29975-1f73-47be-a2db-d304564b69fa",
   "metadata": {},
   "outputs": [
    {
     "data": {
      "text/plain": [
       "array([ 0,  1,  2,  3,  4,  5,  6,  7,  8,  9, 10, 11, 12, 13, 14, 15])"
      ]
     },
     "execution_count": 32,
     "metadata": {},
     "output_type": "execute_result"
    }
   ],
   "source": [
    "x"
   ]
  },
  {
   "cell_type": "code",
   "execution_count": 33,
   "id": "64dbd4cc-2279-4a9f-82bc-0d8b34bf8c69",
   "metadata": {},
   "outputs": [
    {
     "data": {
      "text/plain": [
       "7.5"
      ]
     },
     "execution_count": 33,
     "metadata": {},
     "output_type": "execute_result"
    }
   ],
   "source": [
    "np.mean(x)\n"
   ]
  },
  {
   "cell_type": "code",
   "execution_count": 34,
   "id": "32912649-62f6-4656-a5bd-e1c224ae2a02",
   "metadata": {},
   "outputs": [],
   "source": [
    "np.random.shuffle(x)"
   ]
  },
  {
   "cell_type": "code",
   "execution_count": 35,
   "id": "5fc66153-271a-4d4f-8c03-644ba50be5cc",
   "metadata": {},
   "outputs": [
    {
     "data": {
      "text/plain": [
       "array([ 8,  6,  4, 11, 14, 15,  9, 12,  2,  3, 13,  5, 10,  1,  0,  7])"
      ]
     },
     "execution_count": 35,
     "metadata": {},
     "output_type": "execute_result"
    }
   ],
   "source": [
    "x"
   ]
  },
  {
   "cell_type": "code",
   "execution_count": 36,
   "id": "87fc5187-8879-4e77-ab8f-45aeb9bc0257",
   "metadata": {},
   "outputs": [
    {
     "data": {
      "text/plain": [
       "array([ 0,  1,  2,  3,  4,  5,  6,  7,  8,  9, 10, 11, 12, 13, 14, 15])"
      ]
     },
     "execution_count": 36,
     "metadata": {},
     "output_type": "execute_result"
    }
   ],
   "source": [
    "np.sort(x)"
   ]
  },
  {
   "cell_type": "code",
   "execution_count": 37,
   "id": "19ffd604-8d04-43f6-8846-c67fb3235cff",
   "metadata": {},
   "outputs": [
    {
     "data": {
      "text/plain": [
       "array([ 8,  6,  4, 11, 14, 15,  9, 12,  2,  3, 13,  5, 10,  1,  0,  7])"
      ]
     },
     "execution_count": 37,
     "metadata": {},
     "output_type": "execute_result"
    }
   ],
   "source": [
    "x"
   ]
  },
  {
   "cell_type": "code",
   "execution_count": 38,
   "id": "047c4caa-70fb-47ba-a52c-93018284effb",
   "metadata": {},
   "outputs": [],
   "source": [
    "x.sort()"
   ]
  },
  {
   "cell_type": "code",
   "execution_count": 39,
   "id": "d5b0482c-2e57-4e18-b7ff-56d7846c507e",
   "metadata": {},
   "outputs": [
    {
     "data": {
      "text/plain": [
       "array([ 0,  1,  2,  3,  4,  5,  6,  7,  8,  9, 10, 11, 12, 13, 14, 15])"
      ]
     },
     "execution_count": 39,
     "metadata": {},
     "output_type": "execute_result"
    }
   ],
   "source": [
    "x"
   ]
  },
  {
   "cell_type": "code",
   "execution_count": 40,
   "id": "45cf4667-b0de-4802-b730-347217685f57",
   "metadata": {},
   "outputs": [
    {
     "data": {
      "text/plain": [
       "array([ 0,  1,  2,  3,  4,  5,  6,  7,  8,  9, 10, 11, 12, 13, 14, 15])"
      ]
     },
     "execution_count": 40,
     "metadata": {},
     "output_type": "execute_result"
    }
   ],
   "source": [
    "np.arange(16)"
   ]
  },
  {
   "cell_type": "code",
   "execution_count": 41,
   "id": "171ee0d3-4c7f-4933-872b-a82c795439c7",
   "metadata": {},
   "outputs": [],
   "source": [
    "X= np.arange(16)"
   ]
  },
  {
   "cell_type": "code",
   "execution_count": 42,
   "id": "96b5acbf-480d-44f3-803f-2d19e730d8a6",
   "metadata": {},
   "outputs": [
    {
     "data": {
      "text/plain": [
       "array([ 0,  1,  2,  3,  4,  5,  6,  7,  8,  9, 10, 11, 12, 13, 14, 15])"
      ]
     },
     "execution_count": 42,
     "metadata": {},
     "output_type": "execute_result"
    }
   ],
   "source": [
    "X\n"
   ]
  },
  {
   "cell_type": "code",
   "execution_count": 43,
   "id": "81cacea1-d76f-4ba2-a703-17e88070141c",
   "metadata": {},
   "outputs": [],
   "source": [
    "ind = [3, 5, 8]"
   ]
  },
  {
   "cell_type": "code",
   "execution_count": 44,
   "id": "80a4ae3f-c58f-472c-b9e4-f71992c6739d",
   "metadata": {},
   "outputs": [
    {
     "data": {
      "text/plain": [
       "array([3, 5, 8])"
      ]
     },
     "execution_count": 44,
     "metadata": {},
     "output_type": "execute_result"
    }
   ],
   "source": [
    "X[ind]\n"
   ]
  },
  {
   "cell_type": "code",
   "execution_count": 45,
   "id": "4765de43-60cd-427e-9fdb-e0dbfde5bdee",
   "metadata": {},
   "outputs": [],
   "source": [
    "ind = np.array([[0, 2], [1, 3]])"
   ]
  },
  {
   "cell_type": "code",
   "execution_count": 46,
   "id": "1aa65535-23ee-4733-8e95-9531565dc88c",
   "metadata": {},
   "outputs": [
    {
     "data": {
      "text/plain": [
       "array([[0, 2],\n",
       "       [1, 3]])"
      ]
     },
     "execution_count": 46,
     "metadata": {},
     "output_type": "execute_result"
    }
   ],
   "source": [
    "X[ind]"
   ]
  },
  {
   "cell_type": "code",
   "execution_count": 47,
   "id": "b7e7082e-e76b-4af3-822c-d4ab8a64acda",
   "metadata": {},
   "outputs": [],
   "source": [
    "ind = np.array([[10, 2], [1, 3]])"
   ]
  },
  {
   "cell_type": "code",
   "execution_count": 48,
   "id": "74e27162-938c-46eb-a0e3-d4b328e7776e",
   "metadata": {},
   "outputs": [
    {
     "data": {
      "text/plain": [
       "array([[10,  2],\n",
       "       [ 1,  3]])"
      ]
     },
     "execution_count": 48,
     "metadata": {},
     "output_type": "execute_result"
    }
   ],
   "source": [
    "X[ind]"
   ]
  },
  {
   "cell_type": "code",
   "execution_count": 49,
   "id": "f2aac346-e628-4127-b522-bccbf86c14a0",
   "metadata": {},
   "outputs": [],
   "source": [
    "X = X+1\n"
   ]
  },
  {
   "cell_type": "code",
   "execution_count": 50,
   "id": "a5211b2c-0c83-49ec-8647-07b8cb0770fb",
   "metadata": {},
   "outputs": [
    {
     "data": {
      "text/plain": [
       "array([ 1,  2,  3,  4,  5,  6,  7,  8,  9, 10, 11, 12, 13, 14, 15, 16])"
      ]
     },
     "execution_count": 50,
     "metadata": {},
     "output_type": "execute_result"
    }
   ],
   "source": [
    "X"
   ]
  },
  {
   "cell_type": "code",
   "execution_count": 51,
   "id": "67893ca2-d1ad-4811-a0f6-ed27311afbeb",
   "metadata": {},
   "outputs": [
    {
     "data": {
      "text/plain": [
       "array([[11,  3],\n",
       "       [ 2,  4]])"
      ]
     },
     "execution_count": 51,
     "metadata": {},
     "output_type": "execute_result"
    }
   ],
   "source": [
    "X[ind]"
   ]
  },
  {
   "cell_type": "code",
   "execution_count": 52,
   "id": "56479686-a3ca-4058-b23a-c5e9caa30152",
   "metadata": {},
   "outputs": [],
   "source": [
    "X=np.arange(16).reshape(4, -1)"
   ]
  },
  {
   "cell_type": "code",
   "execution_count": 53,
   "id": "35fa54e7-febd-4176-833a-9e21504571c4",
   "metadata": {},
   "outputs": [],
   "source": [
    "col = [True, False, True, True]\n"
   ]
  },
  {
   "cell_type": "code",
   "execution_count": 54,
   "id": "08404c13-d8ae-4577-9b8b-0e5272c46396",
   "metadata": {},
   "outputs": [
    {
     "data": {
      "text/plain": [
       "array([[ 4,  6,  7],\n",
       "       [ 8, 10, 11]])"
      ]
     },
     "execution_count": 54,
     "metadata": {},
     "output_type": "execute_result"
    }
   ],
   "source": [
    "X[1:3, col]"
   ]
  },
  {
   "cell_type": "code",
   "execution_count": 55,
   "id": "c2b813c0-bf05-417c-a2ec-80552d9338f7",
   "metadata": {},
   "outputs": [
    {
     "data": {
      "text/plain": [
       "array([[ 0,  1,  2,  3],\n",
       "       [ 4,  5,  6,  7],\n",
       "       [ 8,  9, 10, 11],\n",
       "       [12, 13, 14, 15]])"
      ]
     },
     "execution_count": 55,
     "metadata": {},
     "output_type": "execute_result"
    }
   ],
   "source": [
    "X"
   ]
  },
  {
   "cell_type": "code",
   "execution_count": 56,
   "id": "b688f320-38d9-4fa5-bc62-213d8aad8a94",
   "metadata": {},
   "outputs": [],
   "source": [
    "x = np.arange(16)\n"
   ]
  },
  {
   "cell_type": "code",
   "execution_count": 57,
   "id": "b32ef203-aeb7-4198-b9c4-fd5671030822",
   "metadata": {},
   "outputs": [
    {
     "data": {
      "text/plain": [
       "array([ 0,  1,  2,  3,  4,  5,  6,  7,  8,  9, 10, 11, 12, 13, 14, 15])"
      ]
     },
     "execution_count": 57,
     "metadata": {},
     "output_type": "execute_result"
    }
   ],
   "source": [
    "x\n"
   ]
  },
  {
   "cell_type": "code",
   "execution_count": 58,
   "id": "c4f2929a-853c-48a8-bae0-5c00444bc61b",
   "metadata": {},
   "outputs": [
    {
     "data": {
      "text/plain": [
       "array([ True,  True,  True, False, False, False, False, False, False,\n",
       "       False, False, False, False, False, False, False])"
      ]
     },
     "execution_count": 58,
     "metadata": {},
     "output_type": "execute_result"
    }
   ],
   "source": [
    "x< 3"
   ]
  },
  {
   "cell_type": "code",
   "execution_count": 59,
   "id": "54d6f63d-a808-4c89-9a4e-bb3fa829c201",
   "metadata": {},
   "outputs": [
    {
     "data": {
      "text/plain": [
       "array([0. , 0.5, 1. , 1.5, 2. , 2.5, 3. , 3.5, 4. , 4.5, 5. , 5.5, 6. ,\n",
       "       6.5, 7. , 7.5])"
      ]
     },
     "execution_count": 59,
     "metadata": {},
     "output_type": "execute_result"
    }
   ],
   "source": [
    "x/2"
   ]
  },
  {
   "cell_type": "code",
   "execution_count": 60,
   "id": "dac5f6af-e456-432e-96a8-a1205e5a5b52",
   "metadata": {},
   "outputs": [
    {
     "data": {
      "text/plain": [
       "array([ 2,  3,  4,  5,  6,  7,  8,  9, 10, 11, 12, 13, 14, 15, 16, 17])"
      ]
     },
     "execution_count": 60,
     "metadata": {},
     "output_type": "execute_result"
    }
   ],
   "source": [
    "x+2"
   ]
  },
  {
   "cell_type": "code",
   "execution_count": 61,
   "id": "1c8dbb81-fe40-4bc1-85d4-4befc43ed877",
   "metadata": {},
   "outputs": [
    {
     "data": {
      "text/plain": [
       "array([False, False, False, False,  True,  True,  True,  True,  True,\n",
       "        True,  True,  True,  True,  True,  True,  True])"
      ]
     },
     "execution_count": 61,
     "metadata": {},
     "output_type": "execute_result"
    }
   ],
   "source": [
    "x > 3\n"
   ]
  },
  {
   "cell_type": "code",
   "execution_count": 62,
   "id": "3e8287ee-2930-4ab7-a670-962e9518ccf7",
   "metadata": {},
   "outputs": [
    {
     "ename": "SyntaxError",
     "evalue": "invalid syntax (1149633277.py, line 1)",
     "output_type": "error",
     "traceback": [
      "\u001b[1;36m  Cell \u001b[1;32mIn[62], line 1\u001b[1;36m\u001b[0m\n\u001b[1;33m    x < = 3\u001b[0m\n\u001b[1;37m        ^\u001b[0m\n\u001b[1;31mSyntaxError\u001b[0m\u001b[1;31m:\u001b[0m invalid syntax\n"
     ]
    }
   ],
   "source": [
    "x < = 3"
   ]
  },
  {
   "cell_type": "code",
   "execution_count": 63,
   "id": "d36c9577-a052-485f-ab5f-1ea90804f644",
   "metadata": {},
   "outputs": [
    {
     "data": {
      "text/plain": [
       "array([ True,  True,  True,  True, False, False, False, False, False,\n",
       "       False, False, False, False, False, False, False])"
      ]
     },
     "execution_count": 63,
     "metadata": {},
     "output_type": "execute_result"
    }
   ],
   "source": [
    "x <= 3"
   ]
  },
  {
   "cell_type": "code",
   "execution_count": 64,
   "id": "83ab1444-2d6b-4a1b-a37b-509cfca87491",
   "metadata": {},
   "outputs": [
    {
     "data": {
      "text/plain": [
       "array([False, False, False,  True, False, False, False, False, False,\n",
       "       False, False, False, False, False, False, False])"
      ]
     },
     "execution_count": 64,
     "metadata": {},
     "output_type": "execute_result"
    }
   ],
   "source": [
    "x == 3"
   ]
  },
  {
   "cell_type": "code",
   "execution_count": 65,
   "id": "0d870d82-62db-4f27-8adf-cd7e5f281600",
   "metadata": {},
   "outputs": [
    {
     "data": {
      "text/plain": [
       "array([False, False, False, False,  True, False, False, False, False,\n",
       "       False, False, False, False, False, False, False])"
      ]
     },
     "execution_count": 65,
     "metadata": {},
     "output_type": "execute_result"
    }
   ],
   "source": [
    "x * 2 == 24 - 4*x"
   ]
  },
  {
   "cell_type": "code",
   "execution_count": 66,
   "id": "4753edb8-a431-4f82-80c5-d417a804748a",
   "metadata": {},
   "outputs": [
    {
     "data": {
      "text/plain": [
       "array([ 0,  1,  2,  3,  4,  5,  6,  7,  8,  9, 10, 11, 12, 13, 14, 15])"
      ]
     },
     "execution_count": 66,
     "metadata": {},
     "output_type": "execute_result"
    }
   ],
   "source": [
    "x\n"
   ]
  },
  {
   "cell_type": "code",
   "execution_count": 67,
   "id": "1da9ccdd-842a-44df-8c17-36cf25bc6313",
   "metadata": {},
   "outputs": [
    {
     "data": {
      "text/plain": [
       "array([ True,  True,  True,  True, False, False, False, False, False,\n",
       "       False, False, False, False, False, False, False])"
      ]
     },
     "execution_count": 67,
     "metadata": {},
     "output_type": "execute_result"
    }
   ],
   "source": [
    "x <= 3"
   ]
  },
  {
   "cell_type": "code",
   "execution_count": 68,
   "id": "3b492589-a08c-4fd5-9067-495bc0673265",
   "metadata": {},
   "outputs": [
    {
     "data": {
      "text/plain": [
       "True"
      ]
     },
     "execution_count": 68,
     "metadata": {},
     "output_type": "execute_result"
    }
   ],
   "source": [
    "np.any(x == 0)\n"
   ]
  },
  {
   "cell_type": "code",
   "execution_count": 69,
   "id": "8fa1c669-e166-495d-9672-d8d460bc47f2",
   "metadata": {},
   "outputs": [
    {
     "data": {
      "text/plain": [
       "True"
      ]
     },
     "execution_count": 69,
     "metadata": {},
     "output_type": "execute_result"
    }
   ],
   "source": [
    "np.any(x != 0)"
   ]
  },
  {
   "cell_type": "code",
   "execution_count": 70,
   "id": "1b711789-8ace-45cb-9f94-01e97c4888ca",
   "metadata": {},
   "outputs": [
    {
     "ename": "TypeError",
     "evalue": "any() got an unexpected keyword argument 'x'",
     "output_type": "error",
     "traceback": [
      "\u001b[1;31m---------------------------------------------------------------------------\u001b[0m",
      "\u001b[1;31mTypeError\u001b[0m                                 Traceback (most recent call last)",
      "Cell \u001b[1;32mIn[70], line 1\u001b[0m\n\u001b[1;32m----> 1\u001b[0m np\u001b[38;5;241m.\u001b[39many(x \u001b[38;5;241m=\u001b[39m \u001b[38;5;241m100\u001b[39m)\n",
      "\u001b[1;31mTypeError\u001b[0m: any() got an unexpected keyword argument 'x'"
     ]
    }
   ],
   "source": [
    "np.any(x = 100)"
   ]
  },
  {
   "cell_type": "code",
   "execution_count": 71,
   "id": "cc2e0041-65c5-4550-819c-2ae39338dbcf",
   "metadata": {},
   "outputs": [
    {
     "data": {
      "text/plain": [
       "False"
      ]
     },
     "execution_count": 71,
     "metadata": {},
     "output_type": "execute_result"
    }
   ],
   "source": [
    "np.any(x == 100)\n"
   ]
  },
  {
   "cell_type": "code",
   "execution_count": 72,
   "id": "199b1ca9-0782-4bf0-afad-0bed63e21a84",
   "metadata": {},
   "outputs": [
    {
     "data": {
      "text/plain": [
       "True"
      ]
     },
     "execution_count": 72,
     "metadata": {},
     "output_type": "execute_result"
    }
   ],
   "source": [
    "np.all(x >=0)\n"
   ]
  },
  {
   "cell_type": "code",
   "execution_count": 73,
   "id": "716363c3-767c-40db-a85c-566f17d24e5f",
   "metadata": {},
   "outputs": [
    {
     "data": {
      "text/plain": [
       "False"
      ]
     },
     "execution_count": 73,
     "metadata": {},
     "output_type": "execute_result"
    }
   ],
   "source": [
    "np.all(x > 0)\n",
    "\n"
   ]
  },
  {
   "cell_type": "code",
   "execution_count": 74,
   "id": "0d2d0101-c95c-4222-b03f-690041abda68",
   "metadata": {},
   "outputs": [
    {
     "data": {
      "text/plain": [
       "8"
      ]
     },
     "execution_count": 74,
     "metadata": {},
     "output_type": "execute_result"
    }
   ],
   "source": [
    "np.sum(x % 2 == 0)"
   ]
  },
  {
   "cell_type": "code",
   "execution_count": 75,
   "id": "b783467f-f930-4a6d-8149-cdb65775d0cb",
   "metadata": {},
   "outputs": [
    {
     "data": {
      "text/plain": [
       "6"
      ]
     },
     "execution_count": 75,
     "metadata": {},
     "output_type": "execute_result"
    }
   ],
   "source": [
    "np.sum(x % 3 == 0)"
   ]
  },
  {
   "cell_type": "code",
   "execution_count": 76,
   "id": "07089628-8292-400f-83fb-e6384d0eff76",
   "metadata": {},
   "outputs": [
    {
     "data": {
      "text/plain": [
       "array([ True, False, False,  True, False, False,  True, False, False,\n",
       "        True, False, False,  True, False, False,  True])"
      ]
     },
     "execution_count": 76,
     "metadata": {},
     "output_type": "execute_result"
    }
   ],
   "source": [
    "x %3 == 0"
   ]
  },
  {
   "cell_type": "code",
   "execution_count": 77,
   "id": "5b66fc9d-49d1-4864-8022-fa872d9cb184",
   "metadata": {},
   "outputs": [
    {
     "ename": "ValueError",
     "evalue": "The truth value of an array with more than one element is ambiguous. Use a.any() or a.all()",
     "output_type": "error",
     "traceback": [
      "\u001b[1;31m---------------------------------------------------------------------------\u001b[0m",
      "\u001b[1;31mValueError\u001b[0m                                Traceback (most recent call last)",
      "Cell \u001b[1;32mIn[77], line 1\u001b[0m\n\u001b[1;32m----> 1\u001b[0m x\u001b[38;5;241m>\u001b[39m\u001b[38;5;241m3\u001b[39m\u001b[38;5;241m&\u001b[39mx\u001b[38;5;241m<\u001b[39m\u001b[38;5;241m10\u001b[39m\n",
      "\u001b[1;31mValueError\u001b[0m: The truth value of an array with more than one element is ambiguous. Use a.any() or a.all()"
     ]
    }
   ],
   "source": [
    "x>3&x<10"
   ]
  },
  {
   "cell_type": "code",
   "execution_count": 78,
   "id": "4355d2a4-fa54-4c46-af0e-2c57c151895b",
   "metadata": {},
   "outputs": [
    {
     "data": {
      "text/plain": [
       "array([False, False, False, False,  True,  True,  True,  True,  True,\n",
       "        True, False, False, False, False, False, False])"
      ]
     },
     "execution_count": 78,
     "metadata": {},
     "output_type": "execute_result"
    }
   ],
   "source": [
    "(x>3)&(x<10)"
   ]
  },
  {
   "cell_type": "code",
   "execution_count": 80,
   "id": "f151df37-98f1-4fb7-b91f-2b89c22c30b0",
   "metadata": {},
   "outputs": [
    {
     "data": {
      "text/plain": [
       "array([ True,  True,  True,  True,  True,  True,  True,  True,  True,\n",
       "        True,  True,  True,  True,  True,  True,  True])"
      ]
     },
     "execution_count": 80,
     "metadata": {},
     "output_type": "execute_result"
    }
   ],
   "source": [
    "(x>3)|(x<10)"
   ]
  },
  {
   "cell_type": "code",
   "execution_count": 81,
   "id": "3bec70f3-66fb-4826-b72a-19ccac9581d9",
   "metadata": {},
   "outputs": [
    {
     "data": {
      "text/plain": [
       "15"
      ]
     },
     "execution_count": 81,
     "metadata": {},
     "output_type": "execute_result"
    }
   ],
   "source": [
    "np.sum(~(x==0))"
   ]
  },
  {
   "cell_type": "code",
   "execution_count": 82,
   "id": "5701656b-ae25-448b-bc4c-820ef6366dba",
   "metadata": {},
   "outputs": [
    {
     "data": {
      "text/plain": [
       "array([0, 1, 2, 3, 4])"
      ]
     },
     "execution_count": 82,
     "metadata": {},
     "output_type": "execute_result"
    }
   ],
   "source": [
    "x[x < 5]"
   ]
  },
  {
   "cell_type": "code",
   "execution_count": 83,
   "id": "d4d6696a-5272-48cc-8c6f-df6f99ebcd4a",
   "metadata": {},
   "outputs": [
    {
     "data": {
      "text/plain": [
       "array([ 0,  2,  4,  6,  8, 10, 12, 14])"
      ]
     },
     "execution_count": 83,
     "metadata": {},
     "output_type": "execute_result"
    }
   ],
   "source": [
    "x [ x %2 ==0]"
   ]
  },
  {
   "cell_type": "code",
   "execution_count": 85,
   "id": "b4735b64-2f7e-4017-bb3d-f4f17ccfdad2",
   "metadata": {},
   "outputs": [
    {
     "ename": "IndexError",
     "evalue": "too many indices for array: array is 1-dimensional, but 2 were indexed",
     "output_type": "error",
     "traceback": [
      "\u001b[1;31m---------------------------------------------------------------------------\u001b[0m",
      "\u001b[1;31mIndexError\u001b[0m                                Traceback (most recent call last)",
      "Cell \u001b[1;32mIn[85], line 1\u001b[0m\n\u001b[1;32m----> 1\u001b[0m x[x[:,\u001b[38;5;241m3\u001b[39m]\u001b[38;5;241m%\u001b[39m\u001b[38;5;241m3\u001b[39m\u001b[38;5;241m==\u001b[39m\u001b[38;5;241m0\u001b[39m, :]\n",
      "\u001b[1;31mIndexError\u001b[0m: too many indices for array: array is 1-dimensional, but 2 were indexed"
     ]
    }
   ],
   "source": [
    "x[x[:,3]%3==0, :]"
   ]
  },
  {
   "cell_type": "code",
   "execution_count": 86,
   "id": "ae6c5325-5563-44bb-a278-6ffaa2688675",
   "metadata": {},
   "outputs": [],
   "source": [
    "x = np.arange(16).reshape(4, 4)"
   ]
  },
  {
   "cell_type": "code",
   "execution_count": 87,
   "id": "d3a9626d-fc49-4075-8cf7-3e08b5904c15",
   "metadata": {},
   "outputs": [
    {
     "data": {
      "text/plain": [
       "array([[ 0,  1,  2,  3],\n",
       "       [12, 13, 14, 15]])"
      ]
     },
     "execution_count": 87,
     "metadata": {},
     "output_type": "execute_result"
    }
   ],
   "source": [
    "x[x[:,3]%3==0, :]"
   ]
  },
  {
   "cell_type": "code",
   "execution_count": 88,
   "id": "5c306d21-b270-4a71-9454-2cd64a3e237d",
   "metadata": {},
   "outputs": [],
   "source": [
    "import matplotlib as mpl"
   ]
  },
  {
   "cell_type": "code",
   "execution_count": 89,
   "id": "235ecf21-e236-458a-933f-62bf1ef5ccff",
   "metadata": {},
   "outputs": [
    {
     "data": {
      "text/plain": [
       "'3.8.0'"
      ]
     },
     "execution_count": 89,
     "metadata": {},
     "output_type": "execute_result"
    }
   ],
   "source": [
    "mpl.__version__"
   ]
  },
  {
   "cell_type": "code",
   "execution_count": null,
   "id": "88748ded-0b1f-4952-b8ee-781c1f4dd398",
   "metadata": {},
   "outputs": [],
   "source": []
  }
 ],
 "metadata": {
  "kernelspec": {
   "display_name": "Python 3 (ipykernel)",
   "language": "python",
   "name": "python3"
  },
  "language_info": {
   "codemirror_mode": {
    "name": "ipython",
    "version": 3
   },
   "file_extension": ".py",
   "mimetype": "text/x-python",
   "name": "python",
   "nbconvert_exporter": "python",
   "pygments_lexer": "ipython3",
   "version": "3.11.7"
  }
 },
 "nbformat": 4,
 "nbformat_minor": 5
}
