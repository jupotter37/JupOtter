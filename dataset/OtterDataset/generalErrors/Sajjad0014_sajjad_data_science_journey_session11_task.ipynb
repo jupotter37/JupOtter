{
 "nbformat": 4,
 "nbformat_minor": 0,
 "metadata": {
  "colab": {
   "provenance": []
  },
  "kernelspec": {
   "name": "python3",
   "display_name": "Python 3 (ipykernel)",
   "language": "python"
  },
  "language_info": {
   "name": "python"
  }
 },
 "cells": [
  {
   "cell_type": "markdown",
   "source": [
    "## Exception Handling\n"
   ],
   "metadata": {
    "id": "ajVfqio_GinI"
   }
  },
  {
   "cell_type": "markdown",
   "source": [
    "### `Q-1`: You are given a function definition. There might be several issues on execution of this function. You are asked to do exception handling for diffrent errors that this function goes in to `without altering this function`. And print error text.\n",
    "\n"
   ],
   "metadata": {
    "id": "0qnQkJtnGozz"
   }
  },
  {
   "cell_type": "markdown",
   "source": [
    "Function parameters `l -> list, s -> could be anything`\n",
    "\n",
    "```\n",
    "def function(l: list, s, **args):\n",
    "    last_element = l[-1]\n",
    "    \n",
    "    l[int(s)]=10\n",
    "    any_element = l[int(s)+10]\n",
    "    l[s]=10\n",
    "    \n",
    "    res = sum(l)\n",
    "    \n",
    "    p = args['p']\n",
    "    # print(p)\n",
    "    return res/last_element * p + any_element\n",
    "\n",
    "```\n",
    "Check for different function calls:-\n",
    "\n",
    "```\n",
    "function([1,2,1], 12)\n",
    "function([1,2,1]*9, '1-2')\n",
    "function([1,'2',1]*9, 12)\n",
    "function([1,'2',1]*9, 12)\n",
    "function([1,2,0]*9, 12  )\n",
    "function([1,2,1]*9, 12, p=None)\n",
    "function([1,2,0]*9, 12, p=10)\n",
    "```"
   ],
   "metadata": {
    "id": "2no_EB2fGyGq"
   }
  },
  {
   "cell_type": "code",
   "source": [
    "# Write code here\n",
    "def function(l: list, s, **args):\n",
    "    last_element = l[-1]\n",
    "\n",
    "    l[int(s)] = 10\n",
    "    any_element = l[int(s) + 10]\n",
    "    l[s] = 10\n",
    "\n",
    "    res = sum(l)\n",
    "\n",
    "    p = args['p']\n",
    "    # print(p)\n",
    "    return res / last_element * p + any_element"
   ],
   "metadata": {
    "id": "VoaL4_9eGjFU",
    "ExecuteTime": {
     "end_time": "2024-09-19T18:17:56.115251Z",
     "start_time": "2024-09-19T18:17:56.111736Z"
    }
   },
   "outputs": [],
   "execution_count": 27
  },
  {
   "metadata": {
    "ExecuteTime": {
     "end_time": "2024-09-19T18:18:29.930642Z",
     "start_time": "2024-09-19T18:18:29.926865Z"
    }
   },
   "cell_type": "code",
   "source": [
    "try:\n",
    "    # function([1,2,1], 12)\n",
    "    # function([1,2,1]*9, '1-2')\n",
    "    # function([1,'2',1]*9, 12)\n",
    "    # function([1,2,0]*9, 12)\n",
    "    # function([1,2,1]*9, 12, p=None)\n",
    "    function([1, 2, 0] * 9, 12, p=10)\n",
    "except IndexError as i:\n",
    "    print(i)\n",
    "    print(type(i))\n",
    "except ValueError as v:\n",
    "    print(v)\n",
    "    print(type(v))\n",
    "except TypeError as t:\n",
    "    print(t)\n",
    "    print(type(t))\n",
    "except KeyError as k:\n",
    "    print(k)\n",
    "    print(type(k))\n",
    "except ZeroDivisionError as z:\n",
    "    print(z)\n",
    "    print(type(z))"
   ],
   "outputs": [
    {
     "name": "stdout",
     "output_type": "stream",
     "text": [
      "division by zero\n",
      "<class 'ZeroDivisionError'>\n"
     ]
    }
   ],
   "execution_count": 31
  },
  {
   "cell_type": "markdown",
   "source": [
    "\n",
    "### `Q-2:` You are given a code snippet. There might be several issues on execution of this code. You are asked to do exception handling for diffrent errors, condition is what ever happens we need to execute last line printing correct result of `sum of elements`.\n",
    "\n",
    "List have elemnts as any no of  `key-pair dict with key as list index and value as any integer`, `integers` and `numeric-strings`. There is always only one element in the dict.\n",
    "\n",
    "\n",
    "```\n",
    "l = [{0:2},2,3,4,'5', {5:10}]\n",
    "# For calculating sum of above list\n",
    "s=0\n",
    "for i in range(len(l)):\n",
    "    #You can Edit code from here\n",
    "    s += l[i].get(i)\n",
    "    s += l[i]\n",
    "    s += int(l[i])\n",
    "\n",
    "\n",
    "print(s)\n",
    "```"
   ],
   "metadata": {
    "id": "HuLMy2fVG9sL"
   }
  },
  {
   "cell_type": "code",
   "source": [
    "# Write code here\n",
    "l = [{0: 2}, 2, 3, 4, '5', {5: 10}]\n",
    "# For calculating sum of above list\n",
    "s = 0\n",
    "for i in range(len(l)):\n",
    "    try:\n",
    "        s += l[i]\n",
    "    except TypeError:\n",
    "        try:\n",
    "            s += l[i].get(i)\n",
    "        except AttributeError:\n",
    "            s += int(l[i])\n",
    "    print(s)\n",
    "\n",
    "print(s)"
   ],
   "metadata": {
    "id": "pEP8JU0qHAf8",
    "ExecuteTime": {
     "end_time": "2024-09-19T18:23:38.663820Z",
     "start_time": "2024-09-19T18:23:38.660370Z"
    }
   },
   "outputs": [
    {
     "name": "stdout",
     "output_type": "stream",
     "text": [
      "2\n",
      "4\n",
      "7\n",
      "11\n",
      "16\n",
      "26\n",
      "26\n"
     ]
    }
   ],
   "execution_count": 35
  },
  {
   "cell_type": "markdown",
   "source": [
    "### `Q-3:`: File Handling with Exception handling\n",
    "\n",
    "Write a program that opens a text file and write data to it as \"Hello, Good Morning!!!\". Handle exceptions that can be generated during the I/O operations. Do not show the success message on the main exception handling block (write inside the else block)."
   ],
   "metadata": {
    "id": "ohE2fDTXHIan"
   }
  },
  {
   "cell_type": "code",
   "source": [
    "# write code here\n",
    "\n",
    "try:\n",
    "    with open('input.txt', 'r') as wf:\n",
    "        wf.write('Hello, Good Morning')\n",
    "except IOError:\n",
    "    print('Error working with file')\n",
    "else:\n",
    "    print('File written successfully')\n",
    "\n",
    "# IOError is generated when we are opening in read mode or anything"
   ],
   "metadata": {
    "id": "iOeiWrcIHPlY",
    "ExecuteTime": {
     "end_time": "2024-09-19T18:27:19.326590Z",
     "start_time": "2024-09-19T18:27:19.316426Z"
    }
   },
   "outputs": [
    {
     "name": "stdout",
     "output_type": "stream",
     "text": [
      "Error working with file\n"
     ]
    }
   ],
   "execution_count": 37
  },
  {
   "cell_type": "markdown",
   "source": [
    "### `Q-4`: Number game program.\n",
    "\n",
    "Write a number game program. Ask the user to enter a number. If the number is greater than number to be guessed, raise a **ValueTooLarge** exception. If the value is smaller the number to be guessed the, raise a **ValueTooSmall** exception and prompt the user to enter again. Quit the program only when the user enters the correct number. Also raise **GuessError** if user guess a number less than 1."
   ],
   "metadata": {
    "id": "ru8g8-_bHTUf"
   }
  },
  {
   "metadata": {
    "ExecuteTime": {
     "end_time": "2024-09-19T18:43:07.017052Z",
     "start_time": "2024-09-19T18:42:59.741762Z"
    }
   },
   "cell_type": "code",
   "source": [
    "# Write code here\n",
    "import random\n",
    "\n",
    "\n",
    "class ValueTooLarge(Exception):\n",
    "    def display(self):\n",
    "        print('Value is greater than jackpot number')\n",
    "\n",
    "\n",
    "class ValueTooSmall(Exception):\n",
    "    def display(self):\n",
    "        print('Value is lesser than jackpot number')\n",
    "\n",
    "\n",
    "class GuessError(Exception):\n",
    "    def display(self):\n",
    "        print('Value is less than 1, give number between 1 - 100')\n",
    "\n",
    "\n",
    "jackpot_number = random.randint(1, 100)\n",
    "print(jackpot_number)\n",
    "while True:\n",
    "    try:\n",
    "        input_number = int(input('Enter your number between (1 - 100): '))\n",
    "\n",
    "        if input_number < 1:\n",
    "            raise GuessError\n",
    "\n",
    "        if input_number == jackpot_number:\n",
    "            print('You have guessed it right! It is ', input_number)\n",
    "            break\n",
    "        elif input_number > jackpot_number:\n",
    "            print(input_number)\n",
    "            raise ValueTooLarge\n",
    "        elif input_number < jackpot_number:\n",
    "            print(input_number)\n",
    "            raise ValueTooSmall\n",
    "\n",
    "    except ValueTooLarge as v:\n",
    "        v.display()\n",
    "    except ValueTooSmall as v:\n",
    "        v.display()\n",
    "    except GuessError as g:\n",
    "        g.display()\n"
   ],
   "outputs": [
    {
     "name": "stdout",
     "output_type": "stream",
     "text": [
      "59\n",
      "Value is less than 1, give number between 1 - 100\n",
      "Value is less than 1, give number between 1 - 100\n",
      "You have guessed it right! It is  59\n"
     ]
    }
   ],
   "execution_count": 55
  },
  {
   "cell_type": "markdown",
   "source": [
    "### `Q-5:` Cast vote\n",
    "\n",
    "Write a program that validate name and age as entered by the user to determine whether the person can cast vote or not. To handle the age, create **InvalidAge** exception and for name, create **InvalidName** exception. The name will be invalid when the string will be empty or name has only one word.\n",
    "\n",
    "Example 1:\n",
    "\n",
    "Input:\n",
    "\n",
    "```bash\n",
    "Enter the name:               goransh singh\n",
    "Enter the age: 25\n",
    "```\n",
    "\n",
    "Output:\n",
    "\n",
    "```bash\n",
    "Goransh Singh  Congratulation !!! You can vote.\n",
    "```"
   ],
   "metadata": {
    "id": "ZsGI_40fHcsd"
   }
  },
  {
   "cell_type": "code",
   "source": [
    "# Write code here\n",
    "\n",
    "class InvalidAge(Exception):\n",
    "    def __init__(self):\n",
    "        print('Age is invalid')\n",
    "\n",
    "\n",
    "class InvalidName(Exception):\n",
    "    def __init__(self):\n",
    "        print('Name is invalid')\n",
    "\n",
    "\n",
    "try:\n",
    "    print('Welcome, enter your name and age to check whether you can cast the vote or not: ')\n",
    "    name_input = input('Enter your name: ')\n",
    "    age_input = int(input('Enter your age: '))\n",
    "\n",
    "    if name_input == '':\n",
    "        raise InvalidName\n",
    "    elif len(name_input) == 1:\n",
    "        raise InvalidName\n",
    "    elif 18 > age_input:\n",
    "        raise InvalidAge\n",
    "\n",
    "except InvalidAge:\n",
    "    pass\n",
    "except InvalidName:\n",
    "    pass\n",
    "else:\n",
    "    print('Congrats! You can cast the Vote')\n",
    "finally:\n",
    "    print('Thank you')"
   ],
   "metadata": {
    "id": "OHL3UiS4Hi3U",
    "ExecuteTime": {
     "end_time": "2024-09-19T18:51:12.736385Z",
     "start_time": "2024-09-19T18:51:12.731352Z"
    }
   },
   "outputs": [
    {
     "ename": "SyntaxError",
     "evalue": "incomplete input (792211482.py, line 29)",
     "output_type": "error",
     "traceback": [
      "\u001B[1;36m  Cell \u001B[1;32mIn[59], line 29\u001B[1;36m\u001B[0m\n\u001B[1;33m    finally:\u001B[0m\n\u001B[1;37m            ^\u001B[0m\n\u001B[1;31mSyntaxError\u001B[0m\u001B[1;31m:\u001B[0m incomplete input\n"
     ]
    }
   ],
   "execution_count": 59
  },
  {
   "cell_type": "markdown",
   "source": [
    "### `Q-6`: Write a python function which infinitely prints natural numbers in a single line. Raise the **StopIteration** exception after displaying first 20 numnbers to exit from the program."
   ],
   "metadata": {
    "id": "SCvs0QjgHlOG"
   }
  },
  {
   "cell_type": "code",
   "source": [
    "# Write code here\n",
    "\n",
    "def display(n):\n",
    "    i = 0\n",
    "    while 1:\n",
    "        try:\n",
    "            n += 1\n",
    "            i += 1\n",
    "            if i == 21:\n",
    "                raise StopIteration\n",
    "        except StopIteration:\n",
    "            break\n",
    "        else:\n",
    "            print(n, end=' ')\n",
    "\n",
    "\n",
    "display(1000)"
   ],
   "metadata": {
    "id": "Lc5ilNgNHoSx",
    "ExecuteTime": {
     "end_time": "2024-09-19T18:55:19.730075Z",
     "start_time": "2024-09-19T18:55:19.725764Z"
    }
   },
   "outputs": [
    {
     "name": "stdout",
     "output_type": "stream",
     "text": [
      "1001 1002 1003 1004 1005 1006 1007 1008 1009 1010 1011 1012 1013 1014 1015 1016 1017 1018 1019 1020 "
     ]
    }
   ],
   "execution_count": 63
  },
  {
   "metadata": {},
   "cell_type": "code",
   "outputs": [],
   "execution_count": null,
   "source": ""
  }
 ]
}
