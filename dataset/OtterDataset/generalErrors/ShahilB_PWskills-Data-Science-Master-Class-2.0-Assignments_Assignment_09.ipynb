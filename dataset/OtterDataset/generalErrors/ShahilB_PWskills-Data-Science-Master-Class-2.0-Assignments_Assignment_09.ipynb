{
 "cells": [
  {
   "cell_type": "raw",
   "id": "4b7716a3-4233-4a2c-aa9f-7ffb0d3b6d1e",
   "metadata": {},
   "source": [
    "# Asignment 09 (Exceprion Handling -2)\n"
   ]
  },
  {
   "cell_type": "raw",
   "id": "d06330c4-c202-4d37-be48-284697eb953c",
   "metadata": {},
   "source": [
    "Q1. Explain why we have to use the Exception class while creating a Custom Exception.\n",
    "Note: Here Exception class refers to the base class for all the exceptions."
   ]
  },
  {
   "cell_type": "raw",
   "id": "8c6d50dc-86ee-479f-adf2-75489c2f76af",
   "metadata": {},
   "source": [
    "When creating a custom exception in Python, it is essential to inherit from the base Exception class (or one of its subclasses) for several reasons:\n",
    "\n",
    "1. Consistency with Python's Exception Handling Mechanism\n",
    "Python's built-in exception handling mechanism is designed to work with instances of the Exception class or its subclasses. By inheriting from Exception, your custom exceptions integrate seamlessly into this mechanism. This allows your custom exceptions to be caught using standard exception handling constructs like try-except blocks.\n",
    "\n",
    "2. Access to Standard Exception Features\n",
    "The Exception class provides several methods and attributes that are useful for any exception, such as:\n",
    "\n",
    "args: a tuple of arguments passed to the exception.\n",
    "__str__(): returns a string representation of the exception.\n",
    "__repr__(): returns a string representation of the exception that includes the type and arguments.\n",
    "By inheriting from Exception, your custom exceptions automatically inherit these features, making them behave like any other exception in Python.\n",
    "\n",
    "3. Hierarchical Organization of Exceptions\n",
    "Python's exception hierarchy is organized in a way that allows for specific handling of different types of errors. By creating custom exceptions that inherit from Exception or other more specific built-in exception classes, you can create a clear and maintainable hierarchy of exceptions in your code. This makes it easier to handle different types of errors in a structured way.\n",
    "\n",
    "4. Compatibility with Built-in Functions and Libraries\n",
    "Many built-in functions and libraries expect exceptions to be instances of the Exception class or its subclasses. If your custom exceptions do not inherit from Exception, they may not be compatible with these functions and libraries, leading to unexpected behavior or errors.\n",
    "\n",
    "Example"
   ]
  },
  {
   "cell_type": "raw",
   "id": "48938ae0-e08d-4565-b7a9-34155a0f2ab0",
   "metadata": {},
   "source": [
    "# Custom exception inheriting from Exception\n",
    "class CustomError(Exception):\n",
    "    def __init__(self, message):\n",
    "        super().__init__(message)\n",
    "        self.message = message\n",
    "\n",
    "try:\n",
    "    raise CustomError(\"This is a custom error message\")\n",
    "except CustomError as e:\n",
    "    print(f\"Caught an error: {e}\")\n",
    "\n",
    "# Output: Caught an error: This is a custom error message\n"
   ]
  },
  {
   "cell_type": "raw",
   "id": "bccfaaeb-a447-45e2-97e0-90f4092083e7",
   "metadata": {},
   "source": [
    "In this example:\n",
    "\n",
    "The CustomError class inherits from Exception.\n",
    "When CustomError is raised, it can be caught using a try-except block that specifies CustomError.\n",
    "The exception's message is accessible, and the error behaves like any built-in exception.\n",
    "If CustomError did not inherit from Exception, it would not integrate into Python’s exception handling system, and standard practices for raising and catching exceptions would not apply.\n"
   ]
  },
  {
   "cell_type": "raw",
   "id": "d9186e88-7ddf-4427-b165-df3481c094de",
   "metadata": {},
   "source": [
    "Q2. Write a python program to print Python Exception Hierarchy.\n",
    "\n",
    "\n",
    "Explanation\n",
    "Function Definition:\n",
    "\n",
    "print_exception_hierarchy is a recursive function that takes an exception class and an indent level.\n",
    "It prints the name of the exception class with the specified indentation.\n",
    "It then recursively prints all subclasses of the given exception class, increasing the indentation level for each subclass.\n",
    "Starting Point:\n",
    "\n",
    "The function is initially called with BaseException, the root of Python's exception hierarchy.\n",
    "Running the Code\n",
    "\n",
    "When you run this program, it will output the entire hierarchy of exceptions, starting from BaseException and proceeding to its subclasses. Here is an abbreviated example of the output you might see:"
   ]
  },
  {
   "cell_type": "code",
   "execution_count": 2,
   "id": "08caeafc-9497-4af6-bf61-36ab3f9a2cc1",
   "metadata": {},
   "outputs": [
    {
     "name": "stdout",
     "output_type": "stream",
     "text": [
      "BaseException\n",
      "    Exception\n",
      "        TypeError\n",
      "            FloatOperation\n",
      "            MultipartConversionError\n",
      "        StopAsyncIteration\n",
      "        StopIteration\n",
      "        ImportError\n",
      "            ModuleNotFoundError\n",
      "            ZipImportError\n",
      "        OSError\n",
      "            ConnectionError\n",
      "                BrokenPipeError\n",
      "                ConnectionAbortedError\n",
      "                ConnectionRefusedError\n",
      "                ConnectionResetError\n",
      "                    RemoteDisconnected\n",
      "            BlockingIOError\n",
      "            ChildProcessError\n",
      "            FileExistsError\n",
      "            FileNotFoundError\n",
      "            IsADirectoryError\n",
      "            NotADirectoryError\n",
      "            InterruptedError\n",
      "                InterruptedSystemCall\n",
      "            PermissionError\n",
      "            ProcessLookupError\n",
      "            TimeoutError\n",
      "            UnsupportedOperation\n",
      "            itimer_error\n",
      "            herror\n",
      "            gaierror\n",
      "            SSLError\n",
      "                SSLCertVerificationError\n",
      "                SSLZeroReturnError\n",
      "                SSLWantWriteError\n",
      "                SSLWantReadError\n",
      "                SSLSyscallError\n",
      "                SSLEOFError\n",
      "            Error\n",
      "                SameFileError\n",
      "            SpecialFileError\n",
      "            ExecError\n",
      "            ReadError\n",
      "            URLError\n",
      "                HTTPError\n",
      "                ContentTooShortError\n",
      "            BadGzipFile\n",
      "        EOFError\n",
      "            IncompleteReadError\n",
      "        RuntimeError\n",
      "            RecursionError\n",
      "            NotImplementedError\n",
      "                ZMQVersionError\n",
      "                StdinNotImplementedError\n",
      "            _DeadlockError\n",
      "            BrokenBarrierError\n",
      "            BrokenExecutor\n",
      "                BrokenThreadPool\n",
      "            SendfileNotAvailableError\n",
      "            ExtractionError\n",
      "            VariableError\n",
      "        NameError\n",
      "            UnboundLocalError\n",
      "        AttributeError\n",
      "            FrozenInstanceError\n",
      "        SyntaxError\n",
      "            IndentationError\n",
      "                TabError\n",
      "        LookupError\n",
      "            IndexError\n",
      "            KeyError\n",
      "                NoSuchKernel\n",
      "                UnknownBackend\n",
      "            CodecRegistryError\n",
      "        ValueError\n",
      "            UnicodeError\n",
      "                UnicodeEncodeError\n",
      "                UnicodeDecodeError\n",
      "                UnicodeTranslateError\n",
      "            UnsupportedOperation\n",
      "            JSONDecodeError\n",
      "            SSLCertVerificationError\n",
      "            Error\n",
      "            UnsupportedDigestmodError\n",
      "            IllegalMonthError\n",
      "            IllegalWeekdayError\n",
      "            ParserError\n",
      "            ClassNotFound\n",
      "            ClipboardEmpty\n",
      "            MessageDefect\n",
      "                NoBoundaryInMultipartDefect\n",
      "                StartBoundaryNotFoundDefect\n",
      "                CloseBoundaryNotFoundDefect\n",
      "                FirstHeaderLineIsContinuationDefect\n",
      "                MisplacedEnvelopeHeaderDefect\n",
      "                MissingHeaderBodySeparatorDefect\n",
      "                MultipartInvariantViolationDefect\n",
      "                InvalidMultipartContentTransferEncodingDefect\n",
      "                UndecodableBytesDefect\n",
      "                InvalidBase64PaddingDefect\n",
      "                InvalidBase64CharactersDefect\n",
      "                InvalidBase64LengthDefect\n",
      "                HeaderDefect\n",
      "                    InvalidHeaderDefect\n",
      "                    HeaderMissingRequiredValue\n",
      "                    NonPrintableDefect\n",
      "                    ObsoleteHeaderDefect\n",
      "                    NonASCIILocalPartDefect\n",
      "                    InvalidDateDefect\n",
      "            MacroToEdit\n",
      "            InvalidFileException\n",
      "            UnequalIterablesError\n",
      "            InvalidVersion\n",
      "            _InvalidELFFileHeader\n",
      "            InvalidWheelFilename\n",
      "            InvalidSdistFilename\n",
      "            InvalidSpecifier\n",
      "            InvalidMarker\n",
      "            UndefinedComparison\n",
      "            UndefinedEnvironmentName\n",
      "            InvalidRequirement\n",
      "                RequirementParseError\n",
      "            InvalidVersion\n",
      "        AssertionError\n",
      "        ArithmeticError\n",
      "            FloatingPointError\n",
      "            OverflowError\n",
      "            ZeroDivisionError\n",
      "                DivisionByZero\n",
      "                DivisionUndefined\n",
      "            DecimalException\n",
      "                Clamped\n",
      "                Rounded\n",
      "                    Underflow\n",
      "                    Overflow\n",
      "                Inexact\n",
      "                    Underflow\n",
      "                    Overflow\n",
      "                Subnormal\n",
      "                    Underflow\n",
      "                DivisionByZero\n",
      "                FloatOperation\n",
      "                InvalidOperation\n",
      "                    ConversionSyntax\n",
      "                    DivisionImpossible\n",
      "                    DivisionUndefined\n",
      "                    InvalidContext\n",
      "        SystemError\n",
      "            CodecRegistryError\n",
      "        ReferenceError\n",
      "        MemoryError\n",
      "        BufferError\n",
      "        Warning\n",
      "            UserWarning\n",
      "                GetPassWarning\n",
      "                FormatterWarning\n",
      "            EncodingWarning\n",
      "            DeprecationWarning\n",
      "                ProvisionalWarning\n",
      "            PendingDeprecationWarning\n",
      "            SyntaxWarning\n",
      "            RuntimeWarning\n",
      "                ProactorSelectorThreadWarning\n",
      "                UnknownTimezoneWarning\n",
      "                PEP440Warning\n",
      "            FutureWarning\n",
      "                ProvisionalCompleterWarning\n",
      "            ImportWarning\n",
      "            UnicodeWarning\n",
      "            BytesWarning\n",
      "            ResourceWarning\n",
      "            DeprecatedTzFormatWarning\n",
      "            PkgResourcesDeprecationWarning\n",
      "        _OptionError\n",
      "        _Error\n",
      "        error\n",
      "        Verbose\n",
      "        Error\n",
      "        SubprocessError\n",
      "            CalledProcessError\n",
      "            TimeoutExpired\n",
      "        TokenError\n",
      "        StopTokenizing\n",
      "        ClassFoundException\n",
      "        EndOfBlock\n",
      "        TraitError\n",
      "        Error\n",
      "        Error\n",
      "            CancelledError\n",
      "            TimeoutError\n",
      "            InvalidStateError\n",
      "        _GiveupOnSendfile\n",
      "        error\n",
      "        Incomplete\n",
      "        TimeoutError\n",
      "        InvalidStateError\n",
      "        LimitOverrunError\n",
      "        QueueEmpty\n",
      "        QueueFull\n",
      "        Empty\n",
      "        Full\n",
      "        ArgumentError\n",
      "        ZMQBaseError\n",
      "            ZMQError\n",
      "                ContextTerminated\n",
      "                Again\n",
      "                InterruptedSystemCall\n",
      "            ZMQBindError\n",
      "            NotDone\n",
      "        PickleError\n",
      "            PicklingError\n",
      "            UnpicklingError\n",
      "        _Stop\n",
      "        ArgumentError\n",
      "        ArgumentTypeError\n",
      "        ConfigError\n",
      "            ConfigLoaderError\n",
      "                ArgumentError\n",
      "            ConfigFileNotFound\n",
      "        ConfigurableError\n",
      "            MultipleInstanceError\n",
      "        ApplicationError\n",
      "        error\n",
      "        TimeoutError\n",
      "        error\n",
      "        ReturnValueIgnoredError\n",
      "        KeyReuseError\n",
      "        UnknownKeyError\n",
      "        LeakedCallbackError\n",
      "        BadYieldError\n",
      "        ReturnValueIgnoredError\n",
      "        Return\n",
      "        InvalidPortNumber\n",
      "        error\n",
      "        LZMAError\n",
      "        RegistryError\n",
      "        _GiveupOnFastCopy\n",
      "        Error\n",
      "            NoSectionError\n",
      "            DuplicateSectionError\n",
      "            DuplicateOptionError\n",
      "            NoOptionError\n",
      "            InterpolationError\n",
      "                InterpolationMissingOptionError\n",
      "                InterpolationSyntaxError\n",
      "                InterpolationDepthError\n",
      "            ParsingError\n",
      "                MissingSectionHeaderError\n",
      "        NoIPAddresses\n",
      "        BadZipFile\n",
      "        LargeZipFile\n",
      "        BadEntryPoint\n",
      "        NoSuchEntryPoint\n",
      "        DuplicateKernelError\n",
      "        ErrorDuringImport\n",
      "        NotOneValueFound\n",
      "        CannotEval\n",
      "        OptionError\n",
      "        BdbQuit\n",
      "        Restart\n",
      "        ExceptionPexpect\n",
      "            EOF\n",
      "            TIMEOUT\n",
      "        PtyProcessError\n",
      "        FindCmdError\n",
      "        HomeDirError\n",
      "        ProfileDirError\n",
      "        IPythonCoreError\n",
      "            TryNext\n",
      "            UsageError\n",
      "            StdinNotImplementedError\n",
      "        InputRejected\n",
      "        GetoptError\n",
      "        ErrorToken\n",
      "        PrefilterError\n",
      "        AliasError\n",
      "            InvalidAliasError\n",
      "        Error\n",
      "            InterfaceError\n",
      "            DatabaseError\n",
      "                InternalError\n",
      "                OperationalError\n",
      "                ProgrammingError\n",
      "                IntegrityError\n",
      "                DataError\n",
      "                NotSupportedError\n",
      "        Warning\n",
      "        SpaceInInput\n",
      "        DOMException\n",
      "            IndexSizeErr\n",
      "            DomstringSizeErr\n",
      "            HierarchyRequestErr\n",
      "            WrongDocumentErr\n",
      "            InvalidCharacterErr\n",
      "            NoDataAllowedErr\n",
      "            NoModificationAllowedErr\n",
      "            NotFoundErr\n",
      "            NotSupportedErr\n",
      "            InuseAttributeErr\n",
      "            InvalidStateErr\n",
      "            SyntaxErr\n",
      "            InvalidModificationErr\n",
      "            NamespaceErr\n",
      "            InvalidAccessErr\n",
      "            ValidationErr\n",
      "        ValidationError\n",
      "        EditReadOnlyBuffer\n",
      "        _Retry\n",
      "        InvalidLayoutError\n",
      "        HeightIsUnknownError\n",
      "        ParserSyntaxError\n",
      "        InternalParseError\n",
      "        _PositionUpdatingFinished\n",
      "        SimpleGetItemNotFound\n",
      "        UncaughtAttributeError\n",
      "        HasNoContext\n",
      "        ParamIssue\n",
      "        _JediError\n",
      "            InternalError\n",
      "            WrongVersion\n",
      "            RefactoringError\n",
      "        OnErrorLeaf\n",
      "        InvalidPythonEnvironment\n",
      "        MessageError\n",
      "            MessageParseError\n",
      "                HeaderParseError\n",
      "                BoundaryError\n",
      "            MultipartConversionError\n",
      "            CharsetError\n",
      "        Error\n",
      "        HTTPException\n",
      "            NotConnected\n",
      "            InvalidURL\n",
      "            UnknownProtocol\n",
      "            UnknownTransferEncoding\n",
      "            UnimplementedFileMode\n",
      "            IncompleteRead\n",
      "            ImproperConnectionState\n",
      "                CannotSendRequest\n",
      "                CannotSendHeader\n",
      "                ResponseNotReady\n",
      "            BadStatusLine\n",
      "                RemoteDisconnected\n",
      "            LineTooLong\n",
      "        InteractivelyDefined\n",
      "        KillEmbedded\n",
      "        Error\n",
      "            NoSuchProcess\n",
      "                ZombieProcess\n",
      "            AccessDenied\n",
      "            TimeoutExpired\n",
      "        _Ipv6UnsupportedError\n",
      "        QueueEmpty\n",
      "        QueueFull\n",
      "        DebuggerInitializationError\n",
      "        ExpatError\n",
      "        Error\n",
      "            ProtocolError\n",
      "            ResponseError\n",
      "            Fault\n",
      "        ParseBaseException\n",
      "            ParseException\n",
      "            ParseFatalException\n",
      "                ParseSyntaxException\n",
      "        RecursiveGrammarException\n",
      "        ResolutionError\n",
      "            VersionConflict\n",
      "                ContextualVersionConflict\n",
      "            DistributionNotFound\n",
      "            UnknownExtra\n",
      "        _Error\n",
      "        UnableToResolveVariableException\n",
      "        InvalidTypeInArgsException\n",
      "        CustomError\n",
      "    GeneratorExit\n",
      "    SystemExit\n",
      "    KeyboardInterrupt\n",
      "    CancelledError\n",
      "    AbortThread\n"
     ]
    }
   ],
   "source": [
    "def print_exception_hierarchy(exception_class, indent=0):\n",
    "    print(' ' * indent + exception_class.__name__)\n",
    "    for subclass in exception_class.__subclasses__():\n",
    "        print_exception_hierarchy(subclass, indent + 4)\n",
    "\n",
    "# Start with the base class BaseException\n",
    "print_exception_hierarchy(BaseException)"
   ]
  },
  {
   "cell_type": "raw",
   "id": "01dc8812-469d-4df1-9a25-eb5fd2658afd",
   "metadata": {},
   "source": [
    "Note\n",
    "The output will be extensive, as Python has many built-in exceptions.\n",
    "The hierarchy will reflect all standard library exceptions but will not include user-defined exceptions unless they are defined and present in the environment where the script is run.\n",
    "This approach helps in understanding the structure and relationships between different exceptions in Python, which is valuable for writing robust error handling code.\n",
    "\n"
   ]
  },
  {
   "cell_type": "raw",
   "id": "288ee6c0-2868-4098-b006-d24e771364ca",
   "metadata": {},
   "source": [
    "Q3. What errors are defined in the ArithmeticError class? Explain any two with an example."
   ]
  },
  {
   "cell_type": "raw",
   "id": "b5c7c91e-7d26-4d17-a904-21a75d07bc26",
   "metadata": {},
   "source": [
    "The ArithmeticError class in Python is a built-in exception class that serves as the base class for all errors that occur for numeric calculations. It includes several specific error types related to arithmetic operations. Here are the primary exceptions derived from ArithmeticError:\n",
    "\n",
    "FloatingPointError\n",
    "OverflowError\n",
    "ZeroDivisionError\n",
    "Explanation and Examples\n",
    "1. ZeroDivisionError\n",
    "This exception is raised when an attempt is made to divide a number by zero. This is a common error in arithmetic operations.\n",
    "\n",
    "Example:"
   ]
  },
  {
   "cell_type": "code",
   "execution_count": 11,
   "id": "98863140-d6dd-4973-bce8-c0496e1cc925",
   "metadata": {},
   "outputs": [
    {
     "name": "stdout",
     "output_type": "stream",
     "text": [
      "Error: division by zero\n"
     ]
    }
   ],
   "source": [
    "try:\n",
    "    result = 10 / 0\n",
    "except ZeroDivisionError as e:\n",
    "    print(f\"Error: {e}\")\n",
    "\n",
    "# Output: Error: division by zero\n"
   ]
  },
  {
   "cell_type": "raw",
   "id": "57570c67-f9b3-408b-bf8b-61298fb0e3e8",
   "metadata": {},
   "source": [
    "Explanation:\n",
    "\n",
    "Here, dividing 10 by 0 raises a ZeroDivisionError.\n",
    "The exception is caught by the except block, and the error message \"division by zero\" is printed.\n"
   ]
  },
  {
   "cell_type": "raw",
   "id": "66a5d132-099a-49df-b69b-b57337f55bf7",
   "metadata": {},
   "source": [
    "2. OverflowError\n",
    "This exception is raised when the result of an arithmetic operation is too large to be expressed within the range of the numeric type.\n",
    "\n",
    "Example:"
   ]
  },
  {
   "cell_type": "code",
   "execution_count": 4,
   "id": "00d3aba7-ae60-452d-a23a-27427b8dd99c",
   "metadata": {},
   "outputs": [
    {
     "name": "stdout",
     "output_type": "stream",
     "text": [
      "Error: math range error\n"
     ]
    }
   ],
   "source": [
    "import math\n",
    "\n",
    "try:\n",
    "    result = math.exp(1000)\n",
    "except OverflowError as e:\n",
    "    print(f\"Error: {e}\")\n",
    "\n",
    "# Output: Error: math range error\n"
   ]
  },
  {
   "cell_type": "raw",
   "id": "3d1b3357-2ea1-40b8-9c49-f3ec9d2ceb43",
   "metadata": {},
   "source": [
    "Explanation:\n",
    "\n",
    "The math.exp function computes the exponential of a number.\n",
    "Calculating the exponential of 1000 results in a value too large to be represented, causing an OverflowError.\n",
    "The exception is caught, and the error message \"math range error\" is printed.\n",
    "\n",
    "Summary\n",
    "The ArithmeticError class is a base class for errors related to arithmetic operations in Python. Specific exceptions derived from ArithmeticError include ZeroDivisionError and OverflowError, among others. Each of these exceptions handles specific kinds of arithmetic errors, helping to write precise and robust error handling code.\n"
   ]
  },
  {
   "cell_type": "raw",
   "id": "5d58c209-e30f-4db4-8cb3-0a678b3fa322",
   "metadata": {},
   "source": [
    "Q4. Why LookupError class is used? Explain with an example KeyError and IndexError.\n"
   ]
  },
  {
   "cell_type": "raw",
   "id": "15d454de-a713-4ad5-bce2-9e514aa22b48",
   "metadata": {},
   "source": [
    "The LookupError class in Python is used as a base class for exceptions that occur when a lookup operation fails. This includes accessing elements in sequences (like lists and tuples) or dictionaries using invalid keys or indices. The main purpose of LookupError is to provide a common ancestor for all lookup-related exceptions, which allows for generalized handling of these errors.\n",
    "\n",
    "Why Use LookupError?\n",
    "\n",
    "Unified Error Handling: By catching LookupError, you can handle multiple types of lookup-related errors (such as KeyError and IndexError) with a single except block.\n",
    "Code Simplification: Using LookupError simplifies the code when you want to handle all lookup failures in a similar manner without distinguishing between specific exceptions.\n",
    "Flexibility: It provides flexibility to catch more specific exceptions when needed or handle all lookup errors together.\n",
    "\n",
    "Specific Errors under LookupError\n",
    "1. KeyError\n",
    "KeyError is raised when a dictionary key is not found in the set of existing keys.\n",
    "\n",
    "Example:\n",
    "\n"
   ]
  },
  {
   "cell_type": "code",
   "execution_count": 5,
   "id": "381656bb-b916-41f6-9ba3-3222cd20e32b",
   "metadata": {},
   "outputs": [
    {
     "name": "stdout",
     "output_type": "stream",
     "text": [
      "KeyError: 'address'\n"
     ]
    }
   ],
   "source": [
    "try:\n",
    "    data = {'name': 'Alice', 'age': 25}\n",
    "    print(data['address'])\n",
    "except KeyError as e:\n",
    "    print(f\"KeyError: {e}\")\n",
    "\n",
    "# Output: KeyError: 'address'\n"
   ]
  },
  {
   "cell_type": "raw",
   "id": "9701e89f-83f6-4d01-99f6-961792197cff",
   "metadata": {},
   "source": [
    "Explanation:\n",
    "\n",
    "The dictionary data contains keys 'name' and 'age'.\n",
    "Attempting to access the key 'address', which does not exist, raises a KeyError.\n",
    "The except block catches the KeyError and prints the error message.\n",
    "\n",
    "2. IndexError\n",
    "IndexError is raised when attempting to access an index that is out of the range of a sequence (like a list or tuple).\n",
    "\n",
    "Example:"
   ]
  },
  {
   "cell_type": "code",
   "execution_count": 2,
   "id": "a554c9ea-c35d-4954-af38-16eaa48b9fbd",
   "metadata": {},
   "outputs": [
    {
     "name": "stdout",
     "output_type": "stream",
     "text": [
      "IndexError: list index out of range\n"
     ]
    }
   ],
   "source": [
    "try:\n",
    "    numbers = [1, 2, 3]\n",
    "    print(numbers[5])\n",
    "except IndexError as e:\n",
    "    print(f\"IndexError: {e}\")\n",
    "\n",
    "# Output: IndexError: list index out of range\n"
   ]
  },
  {
   "cell_type": "raw",
   "id": "a1427aa7-cec4-4714-9aef-e18f27bb7ad6",
   "metadata": {},
   "source": [
    "Explanation:\n",
    "\n",
    "The list numbers has three elements, indexed from 0 to 2.\n",
    "Attempting to access the element at index 5, which is out of range, raises an IndexError.\n",
    "The except block catches the IndexError and prints the error message.\n",
    "\n",
    "Example Using LookupError\n",
    "Example:"
   ]
  },
  {
   "cell_type": "code",
   "execution_count": 3,
   "id": "dc9f613a-861a-4e82-8170-45e9c225b0d2",
   "metadata": {},
   "outputs": [
    {
     "name": "stdout",
     "output_type": "stream",
     "text": [
      "LookupError caught: 'address'\n",
      "LookupError caught: list index out of range\n"
     ]
    }
   ],
   "source": [
    "try:\n",
    "    # Attempt to access a non-existent dictionary key\n",
    "    data = {'name': 'Alice', 'age': 25}\n",
    "    print(data['address'])\n",
    "except LookupError as e:\n",
    "    print(f\"LookupError caught: {e}\")\n",
    "\n",
    "try:\n",
    "    # Attempt to access an out-of-range list index\n",
    "    numbers = [1, 2, 3]\n",
    "    print(numbers[5])\n",
    "except LookupError as e:\n",
    "    print(f\"LookupError caught: {e}\")\n",
    "\n",
    "# Output:\n",
    "# LookupError caught: 'address'\n",
    "# LookupError caught: list index out of range\n"
   ]
  },
  {
   "cell_type": "raw",
   "id": "3e736fa7-0674-46de-ba05-f35bb387faea",
   "metadata": {},
   "source": [
    "Explanation:\n",
    "\n",
    "In the first try block, a KeyError is raised when trying to access the non-existent key 'address'.\n",
    "In the second try block, an IndexError is raised when trying to access an out-of-range index 5.\n",
    "Both exceptions are caught by the except LookupError block, demonstrating how LookupError can handle multiple types of lookup-related errors.\n",
    "Summary\n",
    "The LookupError class is a base class for exceptions that occur when a lookup operation fails. Specific errors under LookupError include KeyError and IndexError, which handle dictionary key lookups and sequence index lookups, respectively. Using LookupError allows for generalized error handling of lookup operations, simplifying the code when the distinction between different types of lookup errors is not necessary.\n"
   ]
  },
  {
   "cell_type": "raw",
   "id": "eb6b8234-b851-45f9-8a45-712d1b357f56",
   "metadata": {},
   "source": [
    "Q5. Explain ImportError. What is ModuleNotFoundError?"
   ]
  },
  {
   "cell_type": "raw",
   "id": "a93691fd-825c-4eb4-822f-711cfb7745de",
   "metadata": {},
   "source": [
    "ImportError\n",
    "ImportError is a built-in exception in Python that is raised when an import statement fails to find the module definition or when a name cannot be found in a module. This can occur for several reasons:\n",
    "\n",
    "The specified module does not exist.\n",
    "There is a problem with the module's code, such as a syntax error.\n",
    "The module is not in the current Python path.\n",
    "\n",
    "Example:"
   ]
  },
  {
   "cell_type": "code",
   "execution_count": 12,
   "id": "df4180e3-2848-4ced-b9c5-c53eefcdd725",
   "metadata": {},
   "outputs": [
    {
     "name": "stdout",
     "output_type": "stream",
     "text": [
      "ImportError: No module named 'non_existent_module'\n"
     ]
    }
   ],
   "source": [
    "try:\n",
    "    import non_existent_module\n",
    "except ImportError as e:\n",
    "    print(f\"ImportError: {e}\")\n",
    "\n",
    "# Output: ImportError: No module named 'non_existent_module'\n"
   ]
  },
  {
   "cell_type": "raw",
   "id": "cc41c591-099c-4e7a-aec3-070f84badfa7",
   "metadata": {},
   "source": [
    "Explanation:\n",
    "\n",
    "In this example, attempting to import non_existent_module raises an ImportError because the module does not exist.\n",
    "The except block catches the ImportError and prints the error message.\n",
    "ModuleNotFoundError\n",
    "ModuleNotFoundError is a subclass of ImportError introduced in Python 3.6 to provide a more specific error when a module cannot be found. This makes it easier to distinguish between the different reasons an import might fail.\n",
    "\n",
    "Example:"
   ]
  },
  {
   "cell_type": "code",
   "execution_count": 16,
   "id": "f023070b-a260-42e4-bd23-3f76908ea3e4",
   "metadata": {},
   "outputs": [
    {
     "name": "stdout",
     "output_type": "stream",
     "text": [
      "ModuleNotFoundError: No module named 'non_existent_module'\n"
     ]
    }
   ],
   "source": [
    "try:\n",
    "    import non_existent_module\n",
    "except ModuleNotFoundError as e:\n",
    "    print(f\"ModuleNotFoundError: {e}\")\n",
    "\n",
    "# Output: ModuleNotFoundError: No module named 'non_existent_module'\n"
   ]
  },
  {
   "cell_type": "raw",
   "id": "76c59889-acc2-4d25-a4e4-c8e4b96e801f",
   "metadata": {},
   "source": [
    "Explanation:\n",
    "\n",
    "In this example, attempting to import non_existent_module raises a ModuleNotFoundError because the module does not exist.\n",
    "The except block catches the ModuleNotFoundError and prints the error message.\n",
    "Differences Between ImportError and ModuleNotFoundError\n",
    "While both ImportError and ModuleNotFoundError handle issues related to importing modules, ModuleNotFoundError specifically addresses cases where the module cannot be found. This distinction can be useful for more precise error handling.\n",
    "\n",
    "Example with Both:"
   ]
  },
  {
   "cell_type": "code",
   "execution_count": 15,
   "id": "5ffef3d6-a8ba-4789-a2ed-940de136141b",
   "metadata": {},
   "outputs": [
    {
     "name": "stdout",
     "output_type": "stream",
     "text": [
      "ModuleNotFoundError: No module named 'non_existent_module'\n",
      "ImportError: cannot import name 'non_existent_function' from 'math' (/opt/conda/lib/python3.10/lib-dynload/math.cpython-310-x86_64-linux-gnu.so)\n"
     ]
    }
   ],
   "source": [
    "try:\n",
    "    # This will raise ModuleNotFoundError\n",
    "    import non_existent_module\n",
    "except ModuleNotFoundError as e:\n",
    "    print(f\"ModuleNotFoundError: {e}\")\n",
    "except ImportError as e:\n",
    "    print(f\"ImportError: {e}\")\n",
    "\n",
    "try:\n",
    "    # This will raise ImportError for a different reason\n",
    "    from math import non_existent_function\n",
    "except ModuleNotFoundError as e:\n",
    "    print(f\"ModuleNotFoundError: {e}\")\n",
    "except ImportError as e:\n",
    "    print(f\"ImportError: {e}\")\n",
    "\n",
    "# Output:\n",
    "# ModuleNotFoundError: No module named 'non_existent_module'\n",
    "# ImportError: cannot import name 'non_existent_function' from 'math'\n"
   ]
  },
  {
   "cell_type": "raw",
   "id": "c28cae92-963e-4b3c-8111-c606c5ebbd19",
   "metadata": {},
   "source": [
    "Explanation:\n",
    "\n",
    "The first try block attempts to import a non-existent module, raising a ModuleNotFoundError.\n",
    "The second try block attempts to import a non-existent function from an existing module, raising a generic ImportError.\n",
    "Summary\n",
    "ImportError: A base exception that is raised when an import fails for various reasons.\n",
    "ModuleNotFoundError: A subclass of ImportError introduced in Python 3.6, specifically for cases where the module cannot be found.\n",
    "Using ModuleNotFoundError allows for more precise error handling, distinguishing between cases where a module cannot be found and other import-related issues.\n"
   ]
  },
  {
   "cell_type": "raw",
   "id": "5f4db2e3-5b18-4134-b5b6-f357b10b88d9",
   "metadata": {},
   "source": [
    "Q6. List down some best practices for exception handling in python."
   ]
  },
  {
   "cell_type": "raw",
   "id": "8fcb9293-7c3a-48c7-bab1-dbcac66e5d8c",
   "metadata": {},
   "source": [
    "Exception handling is a crucial aspect of writing robust and maintainable Python code. Here are some best practices for handling exceptions effectively:\n",
    "\n",
    "1. Use Specific Exceptions\n",
    "Catch specific exceptions instead of using a general except block. This makes your code clearer and prevents accidentally catching unexpected errors.\n",
    "\n",
    "Example:"
   ]
  },
  {
   "cell_type": "code",
   "execution_count": 17,
   "id": "7cc61eb7-7695-4d85-bc2b-3cee5888bb16",
   "metadata": {},
   "outputs": [
    {
     "name": "stdout",
     "output_type": "stream",
     "text": [
      "Error: division by zero\n"
     ]
    }
   ],
   "source": [
    "try:\n",
    "    result = 10 / 0\n",
    "except ZeroDivisionError as e:\n",
    "    print(f\"Error: {e}\")\n"
   ]
  },
  {
   "cell_type": "raw",
   "id": "b99b0bfe-1c2c-4fc6-935e-f10b584c166e",
   "metadata": {},
   "source": [
    "\n",
    "2. Avoid Bare Except Clauses\n",
    "Avoid using bare except clauses, which catch all exceptions. Instead, catch specific exceptions or use except Exception if you need to catch all exceptions.\n",
    "\n",
    "Example:\n"
   ]
  },
  {
   "cell_type": "code",
   "execution_count": 18,
   "id": "485d8bb5-3b1c-4e3c-b426-305a05dda957",
   "metadata": {},
   "outputs": [
    {
     "name": "stdout",
     "output_type": "stream",
     "text": [
      "Error: division by zero\n"
     ]
    }
   ],
   "source": [
    "try:\n",
    "    result = 10 / 0\n",
    "except ZeroDivisionError as e:\n",
    "    print(f\"Error: {e}\")\n",
    "except Exception as e:\n",
    "    print(f\"Unexpected error: {e}\")\n"
   ]
  },
  {
   "cell_type": "raw",
   "id": "bd541837-3709-4f7f-90ca-e790a8b0e57d",
   "metadata": {},
   "source": [
    "3. Clean Up Resources with Finally\n",
    "Use the finally block to ensure that resources are cleaned up, such as closing files or releasing locks, regardless of whether an exception was raised.\n",
    "\n",
    "Example:"
   ]
  },
  {
   "cell_type": "code",
   "execution_count": 19,
   "id": "4a2576ce-dbcf-4229-84dd-9f7c89eacef4",
   "metadata": {},
   "outputs": [
    {
     "name": "stdout",
     "output_type": "stream",
     "text": [
      "Error: [Errno 2] No such file or directory: 'example.txt'\n"
     ]
    },
    {
     "ename": "NameError",
     "evalue": "name 'file' is not defined",
     "output_type": "error",
     "traceback": [
      "\u001b[0;31m---------------------------------------------------------------------------\u001b[0m",
      "\u001b[0;31mNameError\u001b[0m                                 Traceback (most recent call last)",
      "Cell \u001b[0;32mIn[19], line 7\u001b[0m\n\u001b[1;32m      5\u001b[0m     \u001b[38;5;28mprint\u001b[39m(\u001b[38;5;124mf\u001b[39m\u001b[38;5;124m\"\u001b[39m\u001b[38;5;124mError: \u001b[39m\u001b[38;5;132;01m{\u001b[39;00me\u001b[38;5;132;01m}\u001b[39;00m\u001b[38;5;124m\"\u001b[39m)\n\u001b[1;32m      6\u001b[0m \u001b[38;5;28;01mfinally\u001b[39;00m:\n\u001b[0;32m----> 7\u001b[0m     \u001b[43mfile\u001b[49m\u001b[38;5;241m.\u001b[39mclose()\n",
      "\u001b[0;31mNameError\u001b[0m: name 'file' is not defined"
     ]
    }
   ],
   "source": [
    "try:\n",
    "    file = open('example.txt', 'r')\n",
    "    data = file.read()\n",
    "except FileNotFoundError as e:\n",
    "    print(f\"Error: {e}\")\n",
    "finally:\n",
    "    file.close()\n"
   ]
  },
  {
   "cell_type": "raw",
   "id": "068e1f70-1c26-4492-92ef-042adb739857",
   "metadata": {},
   "source": [
    "4. Provide Useful Error Messages\n",
    "Provide clear and informative error messages to help diagnose issues when exceptions occur.\n",
    "\n",
    "Example:"
   ]
  },
  {
   "cell_type": "code",
   "execution_count": 20,
   "id": "f08f41aa-8a0f-4152-91e0-0c30b8dffc65",
   "metadata": {},
   "outputs": [
    {
     "name": "stdout",
     "output_type": "stream",
     "text": [
      "Cannot divide by zero: division by zero\n"
     ]
    }
   ],
   "source": [
    "try:\n",
    "    result = 10 / 0\n",
    "except ZeroDivisionError as e:\n",
    "    print(f\"Cannot divide by zero: {e}\")\n"
   ]
  },
  {
   "cell_type": "raw",
   "id": "7ee2e0db-3b0b-49fc-8264-9d036aa6d5e4",
   "metadata": {},
   "source": [
    "5. Use Exception Hierarchies\n",
    "Leverage Python’s exception hierarchy to catch related exceptions. This allows you to handle different types of exceptions in a structured way.\n",
    "\n",
    "Example:"
   ]
  },
  {
   "cell_type": "code",
   "execution_count": 21,
   "id": "17b5ea14-caff-4a10-840b-7b00a7144e5b",
   "metadata": {},
   "outputs": [
    {
     "name": "stdout",
     "output_type": "stream",
     "text": [
      "Import error: No module named 'non_existent_module'\n"
     ]
    }
   ],
   "source": [
    "try:\n",
    "    import non_existent_module\n",
    "except ImportError as e:\n",
    "    print(f\"Import error: {e}\")\n"
   ]
  },
  {
   "cell_type": "raw",
   "id": "1242a049-0e65-4af8-8f0a-022879de0fbc",
   "metadata": {},
   "source": [
    "6. Log Exceptions\n",
    "Use logging to record exceptions, especially in production code. This helps in diagnosing and debugging issues later.\n",
    "\n",
    "Example:"
   ]
  },
  {
   "cell_type": "code",
   "execution_count": 22,
   "id": "f7e2d4e6-640c-4f64-a033-8b2bb1b90aa8",
   "metadata": {},
   "outputs": [
    {
     "name": "stderr",
     "output_type": "stream",
     "text": [
      "ERROR:root:Division by zero error: division by zero\n"
     ]
    }
   ],
   "source": [
    "import logging\n",
    "\n",
    "try:\n",
    "    result = 10 / 0\n",
    "except ZeroDivisionError as e:\n",
    "    logging.error(f\"Division by zero error: {e}\")\n"
   ]
  },
  {
   "cell_type": "raw",
   "id": "dba29db2-3e10-44c4-92b9-b83c0bd5ec9c",
   "metadata": {},
   "source": [
    "7. Do Not Suppress Exceptions\n",
    "Avoid suppressing exceptions silently. If you must suppress an exception, make sure you have a good reason and document why.\n",
    "\n",
    "Example:"
   ]
  },
  {
   "cell_type": "code",
   "execution_count": 39,
   "id": "f6d0bec3-b143-4fb8-a399-c55aa9c39116",
   "metadata": {},
   "outputs": [],
   "source": [
    "try:\n",
    "    result = 10 / 0\n",
    "except ZeroDivisionError:\n",
    "    pass  # Not recommended unless you have a good reason\n"
   ]
  },
  {
   "cell_type": "raw",
   "id": "658b9fed-0e10-422b-aa9e-d4f127206a25",
   "metadata": {},
   "source": [
    "8. Raise Exceptions with Context\n",
    "When re-raising exceptions, use the from keyword to maintain the original context.\n",
    "\n",
    "Example:\n",
    "\n"
   ]
  },
  {
   "cell_type": "code",
   "execution_count": 40,
   "id": "3b6c7687-56f7-4caf-b43b-51c55ba12759",
   "metadata": {},
   "outputs": [
    {
     "ename": "ValueError",
     "evalue": "Invalid calculation",
     "output_type": "error",
     "traceback": [
      "\u001b[0;31m---------------------------------------------------------------------------\u001b[0m",
      "\u001b[0;31mZeroDivisionError\u001b[0m                         Traceback (most recent call last)",
      "Cell \u001b[0;32mIn[40], line 2\u001b[0m\n\u001b[1;32m      1\u001b[0m \u001b[38;5;28;01mtry\u001b[39;00m:\n\u001b[0;32m----> 2\u001b[0m     result \u001b[38;5;241m=\u001b[39m \u001b[38;5;241;43m10\u001b[39;49m\u001b[43m \u001b[49m\u001b[38;5;241;43m/\u001b[39;49m\u001b[43m \u001b[49m\u001b[38;5;241;43m0\u001b[39;49m\n\u001b[1;32m      3\u001b[0m \u001b[38;5;28;01mexcept\u001b[39;00m \u001b[38;5;167;01mZeroDivisionError\u001b[39;00m \u001b[38;5;28;01mas\u001b[39;00m e:\n",
      "\u001b[0;31mZeroDivisionError\u001b[0m: division by zero",
      "\nThe above exception was the direct cause of the following exception:\n",
      "\u001b[0;31mValueError\u001b[0m                                Traceback (most recent call last)",
      "Cell \u001b[0;32mIn[40], line 4\u001b[0m\n\u001b[1;32m      2\u001b[0m     result \u001b[38;5;241m=\u001b[39m \u001b[38;5;241m10\u001b[39m \u001b[38;5;241m/\u001b[39m \u001b[38;5;241m0\u001b[39m\n\u001b[1;32m      3\u001b[0m \u001b[38;5;28;01mexcept\u001b[39;00m \u001b[38;5;167;01mZeroDivisionError\u001b[39;00m \u001b[38;5;28;01mas\u001b[39;00m e:\n\u001b[0;32m----> 4\u001b[0m     \u001b[38;5;28;01mraise\u001b[39;00m \u001b[38;5;167;01mValueError\u001b[39;00m(\u001b[38;5;124m\"\u001b[39m\u001b[38;5;124mInvalid calculation\u001b[39m\u001b[38;5;124m\"\u001b[39m) \u001b[38;5;28;01mfrom\u001b[39;00m \u001b[38;5;21;01me\u001b[39;00m\n",
      "\u001b[0;31mValueError\u001b[0m: Invalid calculation"
     ]
    }
   ],
   "source": [
    "try:\n",
    "    result = 10 / 0\n",
    "except ZeroDivisionError as e:\n",
    "    raise ValueError(\"Invalid calculation\") from e\n"
   ]
  },
  {
   "cell_type": "raw",
   "id": "2b6a0509-fd26-4234-a1d8-05ba0f35cd58",
   "metadata": {},
   "source": [
    "9. Validate Inputs Early\n",
    "Validate inputs before performing operations that might raise exceptions. This can help prevent exceptions from being raised in the first place.\n",
    "\n",
    "Example:"
   ]
  },
  {
   "cell_type": "code",
   "execution_count": 28,
   "id": "f267d4c0-25ce-4e80-a3c7-10966948f3d2",
   "metadata": {},
   "outputs": [
    {
     "ename": "ValueError",
     "evalue": "The divisor cannot be zero.",
     "output_type": "error",
     "traceback": [
      "\u001b[0;31m---------------------------------------------------------------------------\u001b[0m",
      "\u001b[0;31mValueError\u001b[0m                                Traceback (most recent call last)",
      "Cell \u001b[0;32mIn[28], line 5\u001b[0m\n\u001b[1;32m      3\u001b[0m         \u001b[38;5;28;01mraise\u001b[39;00m \u001b[38;5;167;01mValueError\u001b[39;00m(\u001b[38;5;124m\"\u001b[39m\u001b[38;5;124mThe divisor cannot be zero.\u001b[39m\u001b[38;5;124m\"\u001b[39m)\n\u001b[1;32m      4\u001b[0m     \u001b[38;5;28;01mreturn\u001b[39;00m a \u001b[38;5;241m/\u001b[39m b\n\u001b[0;32m----> 5\u001b[0m new \u001b[38;5;241m=\u001b[39m \u001b[43mdivide\u001b[49m\u001b[43m(\u001b[49m\u001b[38;5;241;43m2\u001b[39;49m\u001b[43m,\u001b[49m\u001b[38;5;241;43m0\u001b[39;49m\u001b[43m)\u001b[49m\n",
      "Cell \u001b[0;32mIn[28], line 3\u001b[0m, in \u001b[0;36mdivide\u001b[0;34m(a, b)\u001b[0m\n\u001b[1;32m      1\u001b[0m \u001b[38;5;28;01mdef\u001b[39;00m \u001b[38;5;21mdivide\u001b[39m(a, b):\n\u001b[1;32m      2\u001b[0m     \u001b[38;5;28;01mif\u001b[39;00m b \u001b[38;5;241m==\u001b[39m \u001b[38;5;241m0\u001b[39m:\n\u001b[0;32m----> 3\u001b[0m         \u001b[38;5;28;01mraise\u001b[39;00m \u001b[38;5;167;01mValueError\u001b[39;00m(\u001b[38;5;124m\"\u001b[39m\u001b[38;5;124mThe divisor cannot be zero.\u001b[39m\u001b[38;5;124m\"\u001b[39m)\n\u001b[1;32m      4\u001b[0m     \u001b[38;5;28;01mreturn\u001b[39;00m a \u001b[38;5;241m/\u001b[39m b\n",
      "\u001b[0;31mValueError\u001b[0m: The divisor cannot be zero."
     ]
    }
   ],
   "source": [
    "def divide(a, b):\n",
    "    if b == 0:\n",
    "        raise ValueError(\"The divisor cannot be zero.\")\n",
    "    return a / b\n",
    "\n",
    "new = divide(2,0)\n"
   ]
  },
  {
   "cell_type": "raw",
   "id": "36495708-4874-422e-bea0-bcf74a20c714",
   "metadata": {},
   "source": [
    "10. Use Assertions for Internal Checks\n",
    "Use assertions to check for conditions that should never happen. Assertions are for debugging purposes and can be disabled in production with the -O (optimize) flag.\n",
    "\n",
    "Example:"
   ]
  },
  {
   "cell_type": "code",
   "execution_count": 38,
   "id": "59147bce-4a6f-485a-921e-5c9bdde8f5bc",
   "metadata": {},
   "outputs": [
    {
     "ename": "NameError",
     "evalue": "name 'dat' is not defined",
     "output_type": "error",
     "traceback": [
      "\u001b[0;31m---------------------------------------------------------------------------\u001b[0m",
      "\u001b[0;31mNameError\u001b[0m                                 Traceback (most recent call last)",
      "Cell \u001b[0;32mIn[38], line 5\u001b[0m\n\u001b[1;32m      2\u001b[0m     \u001b[38;5;28;01massert\u001b[39;00m data \u001b[38;5;129;01mis\u001b[39;00m \u001b[38;5;129;01mnot\u001b[39;00m \u001b[38;5;28;01mNone\u001b[39;00m, \u001b[38;5;124m\"\u001b[39m\u001b[38;5;124mData should not be None\u001b[39m\u001b[38;5;124m\"\u001b[39m\n\u001b[1;32m      3\u001b[0m     \u001b[38;5;66;03m# Process the data\u001b[39;00m\n\u001b[0;32m----> 5\u001b[0m new \u001b[38;5;241m=\u001b[39m process_data(\u001b[43mdat\u001b[49m)\n",
      "\u001b[0;31mNameError\u001b[0m: name 'dat' is not defined"
     ]
    }
   ],
   "source": [
    "def process_data(data):\n",
    "    assert data is not None, \"Data should not be None\"\n",
    "    # Process the data\n",
    "\n",
    "new = process_data(dat)"
   ]
  },
  {
   "cell_type": "raw",
   "id": "eac349ac-addd-4546-89ca-64bf31c30e3e",
   "metadata": {},
   "source": [
    "11. Document Exception Handling\n",
    "Document your functions and methods to specify which exceptions can be raised and under what conditions.\n",
    "\n",
    "Example:"
   ]
  },
  {
   "cell_type": "code",
   "execution_count": 33,
   "id": "cde09b53-3951-4199-80ce-7a68e0adc989",
   "metadata": {},
   "outputs": [
    {
     "ename": "ValueError",
     "evalue": "The divisor cannot be zero.",
     "output_type": "error",
     "traceback": [
      "\u001b[0;31m---------------------------------------------------------------------------\u001b[0m",
      "\u001b[0;31mValueError\u001b[0m                                Traceback (most recent call last)",
      "Cell \u001b[0;32mIn[33], line 20\u001b[0m\n\u001b[1;32m     16\u001b[0m         \u001b[38;5;28;01mraise\u001b[39;00m \u001b[38;5;167;01mValueError\u001b[39;00m(\u001b[38;5;124m\"\u001b[39m\u001b[38;5;124mThe divisor cannot be zero.\u001b[39m\u001b[38;5;124m\"\u001b[39m)\n\u001b[1;32m     17\u001b[0m     \u001b[38;5;28;01mreturn\u001b[39;00m a \u001b[38;5;241m/\u001b[39m b\n\u001b[0;32m---> 20\u001b[0m new\u001b[38;5;241m=\u001b[39m \u001b[43mdivide\u001b[49m\u001b[43m(\u001b[49m\u001b[38;5;241;43m3\u001b[39;49m\u001b[43m,\u001b[49m\u001b[38;5;241;43m0\u001b[39;49m\u001b[43m)\u001b[49m\n",
      "Cell \u001b[0;32mIn[33], line 16\u001b[0m, in \u001b[0;36mdivide\u001b[0;34m(a, b)\u001b[0m\n\u001b[1;32m      2\u001b[0m \u001b[38;5;124;03m\"\"\"\u001b[39;00m\n\u001b[1;32m      3\u001b[0m \u001b[38;5;124;03mDivide two numbers.\u001b[39;00m\n\u001b[1;32m      4\u001b[0m \n\u001b[0;32m   (...)\u001b[0m\n\u001b[1;32m     13\u001b[0m \u001b[38;5;124;03m    ValueError: If the denominator is zero.\u001b[39;00m\n\u001b[1;32m     14\u001b[0m \u001b[38;5;124;03m\"\"\"\u001b[39;00m\n\u001b[1;32m     15\u001b[0m \u001b[38;5;28;01mif\u001b[39;00m b \u001b[38;5;241m==\u001b[39m \u001b[38;5;241m0\u001b[39m:\n\u001b[0;32m---> 16\u001b[0m     \u001b[38;5;28;01mraise\u001b[39;00m \u001b[38;5;167;01mValueError\u001b[39;00m(\u001b[38;5;124m\"\u001b[39m\u001b[38;5;124mThe divisor cannot be zero.\u001b[39m\u001b[38;5;124m\"\u001b[39m)\n\u001b[1;32m     17\u001b[0m \u001b[38;5;28;01mreturn\u001b[39;00m a \u001b[38;5;241m/\u001b[39m b\n",
      "\u001b[0;31mValueError\u001b[0m: The divisor cannot be zero."
     ]
    }
   ],
   "source": [
    "def divide(a, b):\n",
    "    \"\"\"\n",
    "    Divide two numbers.\n",
    "\n",
    "    Args:\n",
    "        a (float): The numerator.\n",
    "        b (float): The denominator.\n",
    "\n",
    "    Returns:\n",
    "        float: The result of the division.\n",
    "\n",
    "    Raises:\n",
    "        ValueError: If the denominator is zero.\n",
    "    \"\"\"\n",
    "    if b == 0:\n",
    "        raise ValueError(\"The divisor cannot be zero.\")\n",
    "    return a / b\n",
    "\n",
    "\n",
    "new= divide(3,0)\n"
   ]
  },
  {
   "cell_type": "raw",
   "id": "798f5143-6671-4ea7-b534-9e5b172ac66b",
   "metadata": {},
   "source": [
    "Summary\n",
    "Following these best practices helps in writing robust, maintainable, and understandable code. Proper exception handling ensures that your program can gracefully handle errors and continue to operate or fail predictably.\n"
   ]
  }
 ],
 "metadata": {
  "kernelspec": {
   "display_name": "Python 3 (ipykernel)",
   "language": "python",
   "name": "python3"
  },
  "language_info": {
   "codemirror_mode": {
    "name": "ipython",
    "version": 3
   },
   "file_extension": ".py",
   "mimetype": "text/x-python",
   "name": "python",
   "nbconvert_exporter": "python",
   "pygments_lexer": "ipython3",
   "version": "3.10.8"
  }
 },
 "nbformat": 4,
 "nbformat_minor": 5
}
