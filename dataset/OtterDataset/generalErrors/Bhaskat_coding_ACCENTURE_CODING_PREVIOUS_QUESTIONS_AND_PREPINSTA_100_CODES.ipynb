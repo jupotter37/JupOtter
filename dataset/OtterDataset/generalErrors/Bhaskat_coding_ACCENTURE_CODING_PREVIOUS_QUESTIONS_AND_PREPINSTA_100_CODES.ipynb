{
  "cells": [
    {
      "cell_type": "markdown",
      "metadata": {
        "id": "view-in-github",
        "colab_type": "text"
      },
      "source": [
        "<a href=\"https://colab.research.google.com/github/Bhaskat/coding/blob/main/ACCENTURE_CODING_PREVIOUS_QUESTIONS_AND_PREPINSTA_100_CODES.ipynb\" target=\"_parent\"><img src=\"https://colab.research.google.com/assets/colab-badge.svg\" alt=\"Open In Colab\"/></a>"
      ]
    },
    {
      "cell_type": "markdown",
      "metadata": {
        "id": "5rC7r5xNILvf"
      },
      "source": []
    },
    {
      "cell_type": "code",
      "execution_count": null,
      "metadata": {
        "colab": {
          "base_uri": "https://localhost:8080/"
        },
        "id": "be1KLVjNIp7O",
        "outputId": "3affa76f-c5f5-4cb5-d113-7b8d3de51ee6"
      },
      "outputs": [
        {
          "name": "stdout",
          "output_type": "stream",
          "text": [
            "0C1A1B1C1C1B0A0\n",
            "0\n"
          ]
        }
      ],
      "source": [
        "def operator(str):\n",
        "  a=int(str[0])\n",
        "  i=1\n",
        "  while i< len(str):\n",
        "      if str[i]==\"A\":\n",
        "          a&=int(str[i+1])\n",
        "      elif str[i]==\"B\":\n",
        "          a|=int(str[i+1])\n",
        "      else:\n",
        "          a^=int(str[i+1])\n",
        "      i+=2\n",
        "  return a\n",
        "str=input()\n",
        "print(operator(str))\n"
      ]
    },
    {
      "cell_type": "markdown",
      "metadata": {
        "id": "dQzp0mUGTww8"
      },
      "source": [
        "**Armsrong** **number**"
      ]
    },
    {
      "cell_type": "code",
      "execution_count": null,
      "metadata": {
        "colab": {
          "base_uri": "https://localhost:8080/"
        },
        "id": "28uUBr3SVay8",
        "outputId": "815e88d4-fe31-4c23-cbde-a7c2904b2265"
      },
      "outputs": [
        {
          "name": "stdout",
          "output_type": "stream",
          "text": [
            "Enter a number371\n",
            "Armstrong\n"
          ]
        }
      ],
      "source": [
        "n=int(input(\"Enter a number\"))\n",
        "temp=n\n",
        "sum=0\n",
        "while temp>0:\n",
        "  digit = temp%10\n",
        "  sum += digit**3\n",
        "  temp//=10\n",
        "if n == sum:\n",
        "    print(\"Armstrong\")\n",
        "else:\n",
        "     print(\" Not a Armstrong number\")\n"
      ]
    },
    {
      "cell_type": "markdown",
      "metadata": {
        "id": "mrUd7UiEZ_TE"
      },
      "source": [
        "# **USING POWER\n"
      ]
    },
    {
      "cell_type": "code",
      "execution_count": null,
      "metadata": {
        "colab": {
          "base_uri": "https://localhost:8080/",
          "height": 211
        },
        "id": "FbcD5vQjdR9n",
        "outputId": "cb53f1ef-259d-456b-82a3-ba43d6833e41"
      },
      "outputs": [
        {
          "ename": "TypeError",
          "evalue": "'str' object is not callable",
          "output_type": "error",
          "traceback": [
            "\u001b[0;31m---------------------------------------------------------------------------\u001b[0m",
            "\u001b[0;31mTypeError\u001b[0m                                 Traceback (most recent call last)",
            "\u001b[0;32m<ipython-input-54-e9e8d7b21230>\u001b[0m in \u001b[0;36m<cell line: 3>\u001b[0;34m()\u001b[0m\n\u001b[1;32m      1\u001b[0m \u001b[0mnum\u001b[0m \u001b[0;34m=\u001b[0m \u001b[0mnumber\u001b[0m\u001b[0;34m\u001b[0m\u001b[0;34m\u001b[0m\u001b[0m\n\u001b[1;32m      2\u001b[0m \u001b[0mdigit\u001b[0m\u001b[0;34m,\u001b[0m \u001b[0mtotal_sum\u001b[0m \u001b[0;34m=\u001b[0m \u001b[0;36m0\u001b[0m\u001b[0;34m,\u001b[0m \u001b[0;36m0\u001b[0m  \u001b[0;31m# Renamed sum to total_sum to avoid shadowing the built-in sum() function\u001b[0m\u001b[0;34m\u001b[0m\u001b[0;34m\u001b[0m\u001b[0m\n\u001b[0;32m----> 3\u001b[0;31m \u001b[0mlength\u001b[0m \u001b[0;34m=\u001b[0m \u001b[0mlen\u001b[0m\u001b[0;34m(\u001b[0m\u001b[0mstr\u001b[0m\u001b[0;34m(\u001b[0m\u001b[0mnum\u001b[0m\u001b[0;34m)\u001b[0m\u001b[0;34m)\u001b[0m\u001b[0;34m\u001b[0m\u001b[0;34m\u001b[0m\u001b[0m\n\u001b[0m\u001b[1;32m      4\u001b[0m \u001b[0;34m\u001b[0m\u001b[0m\n\u001b[1;32m      5\u001b[0m \u001b[0;32mfor\u001b[0m \u001b[0mi\u001b[0m \u001b[0;32min\u001b[0m \u001b[0mrange\u001b[0m\u001b[0;34m(\u001b[0m\u001b[0mlength\u001b[0m\u001b[0;34m)\u001b[0m\u001b[0;34m:\u001b[0m\u001b[0;34m\u001b[0m\u001b[0;34m\u001b[0m\u001b[0m\n",
            "\u001b[0;31mTypeError\u001b[0m: 'str' object is not callable"
          ]
        }
      ],
      "source": [
        "num = number\n",
        "digit, total_sum = 0, 0  # Renamed sum to total_sum to avoid shadowing the built-in sum() function\n",
        "length = len(str(num))\n",
        "\n",
        "for i in range(length):\n",
        "    digit = int(num % 10)\n",
        "    num = num // 10  # Use integer division\n",
        "    total_sum += pow(digit, length)\n",
        "\n",
        "if total_sum == number:\n",
        "    print(\"Armstrong\")\n",
        "else:\n",
        "    print(\"Not Armstrong\")\n"
      ]
    },
    {
      "cell_type": "markdown",
      "metadata": {
        "id": "U9SqWlHrPWpO"
      },
      "source": [
        "**Accenture question number 4**"
      ]
    },
    {
      "cell_type": "code",
      "execution_count": null,
      "metadata": {
        "colab": {
          "base_uri": "https://localhost:8080/"
        },
        "id": "AGVpTTrWZHCX",
        "outputId": "7f177370-deca-4aed-8384-d030745d869b"
      },
      "outputs": [
        {
          "name": "stdout",
          "output_type": "stream",
          "text": [
            "3\n"
          ]
        }
      ],
      "source": [
        "def findCount(n, arr, num, diff):\n",
        "    count=0\n",
        "    for i in range(n):\n",
        "        if(abs(arr[i]-num)<=diff):\n",
        "            count+=1\n",
        "    if count:\n",
        "        return count\n",
        "    return 0\n",
        "n=6\n",
        "arr=[12,3,14,56,77,13]\n",
        "num=13\n",
        "diff=2\n",
        "print(findCount(n, arr, num, diff))\n"
      ]
    },
    {
      "cell_type": "markdown",
      "metadata": {
        "id": "Op4o85097Qmt"
      },
      "source": [
        "**positive or negative number**"
      ]
    },
    {
      "cell_type": "code",
      "execution_count": null,
      "metadata": {
        "colab": {
          "base_uri": "https://localhost:8080/"
        },
        "id": "p8hT2wjt7V-V",
        "outputId": "6ee8e243-e26a-417e-b7bf-310479de53f4"
      },
      "outputs": [
        {
          "name": "stdout",
          "output_type": "stream",
          "text": [
            "Enter a number2\n",
            "the number is positive\n"
          ]
        }
      ],
      "source": [
        "n=int(input(\"Enter a number\"))\n",
        "if n > 0:\n",
        "  print(\"the number is positive\")\n",
        "else:\n",
        "  print(\"the number is negatiive\")"
      ]
    },
    {
      "cell_type": "markdown",
      "metadata": {
        "id": "BSdIHhYH80oZ"
      },
      "source": [
        "**Even or odd number**"
      ]
    },
    {
      "cell_type": "code",
      "execution_count": null,
      "metadata": {
        "colab": {
          "base_uri": "https://localhost:8080/"
        },
        "id": "2QjkZ29Q86CZ",
        "outputId": "aa366b75-8fa8-4a04-d348-5197ae20616c"
      },
      "outputs": [
        {
          "name": "stdout",
          "output_type": "stream",
          "text": [
            "Enter a number3\n",
            "odd\n"
          ]
        }
      ],
      "source": [
        "n=int(input(\"Enter a number\"))\n",
        "if n%2==0:\n",
        "  print(\"even\")\n",
        "else:\n",
        "  print(\"odd\")\n"
      ]
    },
    {
      "cell_type": "markdown",
      "metadata": {
        "id": "Zr4WvYtS-TXP"
      },
      "source": [
        "**sum of n natural numbers**"
      ]
    },
    {
      "cell_type": "code",
      "execution_count": null,
      "metadata": {
        "colab": {
          "base_uri": "https://localhost:8080/"
        },
        "id": "V0BcOW6d-aBI",
        "outputId": "fae3d643-2961-4787-90b3-b5106f86d581"
      },
      "outputs": [
        {
          "name": "stdout",
          "output_type": "stream",
          "text": [
            "36\n"
          ]
        }
      ],
      "source": [
        "n=8\n",
        "sum=0\n",
        "for i in range(n+1):\n",
        "  sum+=i\n",
        "print(sum)"
      ]
    },
    {
      "cell_type": "markdown",
      "metadata": {
        "id": "AY00AE5YBcE3"
      },
      "source": [
        "FIRST N NATURAL NUMBERS"
      ]
    },
    {
      "cell_type": "code",
      "execution_count": null,
      "metadata": {
        "colab": {
          "base_uri": "https://localhost:8080/"
        },
        "id": "mVBuEohiBlEh",
        "outputId": "22f20f7c-1dec-49d5-d0a4-d3611d32d1eb"
      },
      "outputs": [
        {
          "name": "stdout",
          "output_type": "stream",
          "text": [
            "enter a number5\n",
            "1 2 3 4 5 "
          ]
        }
      ],
      "source": [
        "n=int(input(\"enter a number\"))\n",
        "for i in range(1,n+1):\n",
        "    print(i,end=\" \")"
      ]
    },
    {
      "cell_type": "code",
      "execution_count": null,
      "metadata": {
        "colab": {
          "base_uri": "https://localhost:8080/"
        },
        "id": "K-30gnzHFL9x",
        "outputId": "2c46a637-eda4-435d-96f3-93c8e8a192ed"
      },
      "outputs": [
        {
          "name": "stdout",
          "output_type": "stream",
          "text": [
            "enter a number5\n",
            "2\n",
            "4\n"
          ]
        }
      ],
      "source": [
        "n =int(input(\"enter a number\"))\n",
        "for i in range(1,n+1):\n",
        "  if i%2==0:\n",
        "    print(i)\n",
        "\n"
      ]
    },
    {
      "cell_type": "markdown",
      "metadata": {
        "id": "K-mQui7UMMM3"
      },
      "source": [
        "**greater among three numbers**"
      ]
    },
    {
      "cell_type": "code",
      "execution_count": null,
      "metadata": {
        "colab": {
          "base_uri": "https://localhost:8080/"
        },
        "id": "ODcRJ8TWMSoh",
        "outputId": "09e95769-79a2-40d3-9030-3cfc8915cb7d"
      },
      "outputs": [
        {
          "name": "stdout",
          "output_type": "stream",
          "text": [
            "Enter a number3\n",
            "Enter a number1\n",
            "Enter a number3\n",
            "num3 is grater\n"
          ]
        }
      ],
      "source": [
        "num1=int(input(\"Enter a number\"))\n",
        "num2=int(input(\"Enter a number\"))\n",
        "num3=int(input(\"Enter a number\"))\n",
        "if(num1>=num2 and num1>=num3):\n",
        "    print(\"num1 is greater\")\n",
        "elif(num2>=num1 and num2>=num3):\n",
        "    print(\"num2 is greater\")\n",
        "else:\n",
        "    print(\"num3 is grater\")\n"
      ]
    },
    {
      "cell_type": "code",
      "source": [
        "str=\"abhi naya\"\n",
        "a=''.join(str.split())\n",
        "print(a)"
      ],
      "metadata": {
        "colab": {
          "base_uri": "https://localhost:8080/"
        },
        "id": "NOsyqO2Ih2s8",
        "outputId": "e1ea5406-6e26-40d3-d7cc-73fb886f4403"
      },
      "execution_count": 7,
      "outputs": [
        {
          "output_type": "stream",
          "name": "stdout",
          "text": [
            "abhinaya\n"
          ]
        }
      ]
    },
    {
      "cell_type": "code",
      "source": [
        "c=\"a\"\n",
        "for i in c:\n",
        "  if(i==\"a\"or i==\"e\"or i==\"i\"or i==\"o\"or i==\"u\"):\n",
        "    print(\"vowel\")\n",
        "  else:\n",
        "    print(\"consonant\")"
      ],
      "metadata": {
        "colab": {
          "base_uri": "https://localhost:8080/"
        },
        "id": "aBob7FIUjc_H",
        "outputId": "f420bdc6-22f9-40ea-f962-cf0120c23fef"
      },
      "execution_count": 9,
      "outputs": [
        {
          "output_type": "stream",
          "name": "stdout",
          "text": [
            "vowel\n"
          ]
        }
      ]
    },
    {
      "cell_type": "code",
      "source": [
        "c=\"b\"\n",
        "for i in c:\n",
        "  if(i==\"a\"or i==\"e\"or i==\"i\"or i==\"o\"or i==\"u\"):\n",
        "    print(\"vowel\")\n",
        "  elif not c.isalpha():\n",
        "    print(\"not alphabet\")\n",
        "  else:\n",
        "    print(\"consonant\")\n"
      ],
      "metadata": {
        "colab": {
          "base_uri": "https://localhost:8080/"
        },
        "id": "_9BTjni0kCDC",
        "outputId": "40aa56f6-044d-4ce8-a9e7-68f8462bdab2"
      },
      "execution_count": 11,
      "outputs": [
        {
          "output_type": "stream",
          "name": "stdout",
          "text": [
            "consonant\n"
          ]
        }
      ]
    },
    {
      "cell_type": "code",
      "source": [
        "ch=\"A\"\n",
        "a=ord(ch)\n",
        "print(a)"
      ],
      "metadata": {
        "colab": {
          "base_uri": "https://localhost:8080/"
        },
        "id": "e_QrbRPklamV",
        "outputId": "53a2adfd-057c-46e7-e005-368ee2c0972b"
      },
      "execution_count": 14,
      "outputs": [
        {
          "output_type": "stream",
          "name": "stdout",
          "text": [
            "65\n"
          ]
        }
      ]
    },
    {
      "cell_type": "code",
      "source": [
        "a=100\n",
        "b=chr(a)\n",
        "print(b)"
      ],
      "metadata": {
        "colab": {
          "base_uri": "https://localhost:8080/"
        },
        "id": "clFZ81t9mMEc",
        "outputId": "697b5a45-7acb-45bc-8c20-599a67a284a3"
      },
      "execution_count": 16,
      "outputs": [
        {
          "output_type": "stream",
          "name": "stdout",
          "text": [
            "d\n"
          ]
        }
      ]
    },
    {
      "cell_type": "code",
      "source": [
        "str=\"abhinaya\"\n",
        "count=0\n",
        "for i in str:\n",
        "  count+=1\n",
        "print(count)"
      ],
      "metadata": {
        "colab": {
          "base_uri": "https://localhost:8080/"
        },
        "id": "YQlBs0nAmhXg",
        "outputId": "f0f6e40a-53b7-4602-821c-fdc337362845"
      },
      "execution_count": 17,
      "outputs": [
        {
          "output_type": "stream",
          "name": "stdout",
          "text": [
            "8\n"
          ]
        }
      ]
    },
    {
      "cell_type": "code",
      "source": [
        "a=\"abhinaya\"\n",
        "h=len(a)\n",
        "print(h)"
      ],
      "metadata": {
        "colab": {
          "base_uri": "https://localhost:8080/"
        },
        "id": "6SsjU9qrnOXB",
        "outputId": "77455de3-2df8-4855-de41-aed650401172"
      },
      "execution_count": 18,
      "outputs": [
        {
          "output_type": "stream",
          "name": "stdout",
          "text": [
            "8\n"
          ]
        }
      ]
    },
    {
      "cell_type": "code",
      "source": [
        "a=\"1abhi\"\n",
        "if a.isalpha():\n",
        "  print(\"alpha\")\n",
        "else:\n",
        "  print(\"not alpha\")"
      ],
      "metadata": {
        "colab": {
          "base_uri": "https://localhost:8080/"
        },
        "id": "0ANqFtLmnzpK",
        "outputId": "cc17fd58-12a9-4b32-b452-9070ece3a4b7"
      },
      "execution_count": 20,
      "outputs": [
        {
          "output_type": "stream",
          "name": "stdout",
          "text": [
            "not alpha\n"
          ]
        }
      ]
    },
    {
      "cell_type": "code",
      "source": [
        "ch=\"abhi\"\n",
        "if \"a\"<ch<\"b\" or \"A\"<ch<\"B\":\n",
        "  print(\"aplha\")\n",
        "else:\n",
        "  print(\"not alpha\")"
      ],
      "metadata": {
        "colab": {
          "base_uri": "https://localhost:8080/"
        },
        "id": "u_ArFsBgogxf",
        "outputId": "74f0b8fd-7b9d-4ed1-d141-a102ed3443e5"
      },
      "execution_count": 21,
      "outputs": [
        {
          "output_type": "stream",
          "name": "stdout",
          "text": [
            "aplha\n"
          ]
        }
      ]
    },
    {
      "cell_type": "markdown",
      "metadata": {
        "id": "BQ4f05PCQoEJ"
      },
      "source": [
        "**prime number or not**"
      ]
    },
    {
      "cell_type": "code",
      "execution_count": null,
      "metadata": {
        "colab": {
          "base_uri": "https://localhost:8080/"
        },
        "id": "7319tfFDRnXU",
        "outputId": "9fbc060e-134e-4f54-e133-1a1806ce928e"
      },
      "outputs": [
        {
          "name": "stdout",
          "output_type": "stream",
          "text": [
            "Not Prime\n"
          ]
        }
      ],
      "source": [
        "num = 15\n",
        "flag = 0\n",
        "for i in range(2,num):\n",
        "  if num%i==0:\n",
        "    flag = 1\n",
        "    break\n",
        "if flag == 1:\n",
        "  print('Not Prime')\n",
        "else:\n",
        "  print(\"Prime\")\n"
      ]
    },
    {
      "cell_type": "markdown",
      "metadata": {
        "id": "S1WxVFwab3zT"
      },
      "source": [
        "**prime number ina range**"
      ]
    },
    {
      "cell_type": "code",
      "execution_count": null,
      "metadata": {
        "colab": {
          "base_uri": "https://localhost:8080/"
        },
        "id": "9ce_dUZ0cBza",
        "outputId": "344d2da5-9eb6-4b18-9ed0-42456683e22d"
      },
      "outputs": [
        {
          "name": "stdout",
          "output_type": "stream",
          "text": [
            "Ente a number3\n",
            "Ente a number27\n"
          ]
        }
      ],
      "source": [
        "high=int(input(\"Ente a number\"))\n",
        "low=int(input(\"Ente a number\"))\n",
        "flag=0\n",
        "for i in range(low,high+1):\n",
        "\n",
        "  if n>1:\n",
        "      for i in range(2,n):\n",
        "          if n%i==0:\n",
        "              flag=1\n",
        "              break\n",
        "          if(flag==0):\n",
        "             print(f\"the prime of number {high},not prime:\")\n",
        "          else:\n",
        "            print(f\"the prime of number {low},prime:\")\n",
        "\n"
      ]
    },
    {
      "cell_type": "code",
      "execution_count": null,
      "metadata": {
        "colab": {
          "base_uri": "https://localhost:8080/"
        },
        "id": "8GHDfP-cgXyW",
        "outputId": "ef9daf0d-c38c-40ea-da2e-41893a3cdea9"
      },
      "outputs": [
        {
          "name": "stdout",
          "output_type": "stream",
          "text": [
            "Prime numbers between 900 and 1000 are:\n",
            "907\n",
            "911\n",
            "919\n",
            "929\n",
            "937\n",
            "941\n",
            "947\n",
            "953\n",
            "967\n",
            "971\n",
            "977\n",
            "983\n",
            "991\n",
            "997\n"
          ]
        }
      ],
      "source": [
        "lower = 900\n",
        "upper = 1000\n",
        "\n",
        "print(\"Prime numbers between\", lower, \"and\", upper, \"are:\")\n",
        "\n",
        "for num in range(lower, upper + 1):\n",
        "   # all prime numbers are greater than 1\n",
        "   if num > 1:\n",
        "       for i in range(2, num):\n",
        "           if (num % i) == 0:\n",
        "               break\n",
        "       else:\n",
        "           print(num)\n"
      ]
    },
    {
      "cell_type": "markdown",
      "metadata": {
        "id": "hj1WncaFdypf"
      },
      "source": [
        "def differenceofSum(n. m)\n",
        "\n",
        "The function accepts two integers n, m as arguments Find the sum of all numbers in range from 1 to m(both inclusive) that are not divisible by n. Return difference between sum of integers not divisible by n with sum of numbers divisible by n.\n",
        "\n",
        "Assumption:\n",
        "\n",
        "n>0 and m>0\n",
        "Sum lies between integral range\n",
        "Example\n",
        "\n",
        "Input\n",
        "n:4\n",
        "m:20\n",
        "Output\n",
        "90\n",
        "\n",
        "Explanation\n",
        "\n",
        "Sum of numbers divisible by 4 are 4 + 8 + 12 + 16 + 20 = 60\n",
        "Sum of numbers not divisible by 4 are 1 +2 + 3 + 5 + 6 + 7 + 9 + 10 + 11 + 13 + 14 + 15 + 17 + 18 + 19 = 150\n",
        "Difference 150 – 60 = 90\n",
        "Sample Input\n",
        "n:3\n",
        "m:10\n",
        "Sample Output\n",
        "19"
      ]
    },
    {
      "cell_type": "code",
      "execution_count": null,
      "metadata": {
        "colab": {
          "base_uri": "https://localhost:8080/"
        },
        "id": "-pfCxRM1cMI_",
        "outputId": "de81beee-d29c-4bda-90ae-f3ae912b9a27"
      },
      "outputs": [
        {
          "name": "stdout",
          "output_type": "stream",
          "text": [
            "Enter a number4\n",
            "Enter a number20\n",
            "90\n"
          ]
        }
      ],
      "source": [
        "n=int(input(\"Enter a number\"))\n",
        "m=int(input(\"Enter a number\"))\n",
        "p=0\n",
        "q=0\n",
        "for i in range(1,m+1):\n",
        "  if(i%n==0 ):\n",
        "    p+=i\n",
        "  else:\n",
        "   q+=i\n",
        "print(abs(q-p))\n",
        "\n",
        "\n",
        "\n"
      ]
    },
    {
      "cell_type": "markdown",
      "metadata": {
        "id": "GNmEBXFE0Kkp"
      },
      "source": [
        "You are required to implement the following Function\n",
        "\n",
        "def LargeSmallSum(arr)\n",
        "\n",
        "The function accepts an integers arr of size ’length’ as its arguments you are required to return the sum of second largest  element from the even positions and second smallest from the odd position of given ‘arr’\n",
        "\n",
        "Assumption:\n",
        "\n",
        "All array elements are unique\n",
        "Treat the 0th position as even\n",
        "NOTE\n",
        "\n",
        "Return 0 if array is empty\n",
        "Return 0, if array length is 3 or less than 3\n",
        "Example\n",
        "\n",
        "Input\n",
        "\n",
        "arr:3 2 1 7 5 4\n",
        "\n",
        "Output\n",
        "\n",
        "7\n",
        "\n",
        "Explanation\n",
        "\n",
        "Second largest among even position elements(1 3 5) is 3\n",
        "Second smallest among odd position element is 4\n",
        "Thus output is 3+4 = 7\n",
        "Sample Input\n",
        "\n",
        "arr:1 8 0 2 3 5 6\n",
        "\n",
        "Sample Output\n",
        "\n",
        "8"
      ]
    },
    {
      "cell_type": "code",
      "execution_count": null,
      "metadata": {
        "colab": {
          "base_uri": "https://localhost:8080/"
        },
        "id": "LNJR-fSMd8T2",
        "outputId": "77cf64b5-7a4f-4626-e173-590d35ea0934"
      },
      "outputs": [
        {
          "name": "stdout",
          "output_type": "stream",
          "text": [
            "7\n"
          ]
        }
      ],
      "source": [
        "length=6\n",
        "arr=[3,2,1,7,5,4]\n",
        "\n",
        "even_arr=[]\n",
        "odd_arr=[]\n",
        "for i in range(length):\n",
        "\n",
        "\n",
        "  if i%2==0:\n",
        "\n",
        "\n",
        "    even_arr.append(arr[i])\n",
        "  else:\n",
        "    odd_arr.append(arr[i])\n",
        "even_arr=sorted(even_arr)\n",
        "odd_arr=sorted(odd_arr)\n",
        "\n",
        "print(even_arr[len(even_arr)-2] + odd_arr[len(odd_arr)-2])\n",
        "\n",
        "\n",
        "\n",
        "\n",
        "\n"
      ]
    },
    {
      "cell_type": "markdown",
      "metadata": {
        "id": "FC6eo0yM9AVp"
      },
      "source": [
        "**sum of digits**"
      ]
    },
    {
      "cell_type": "code",
      "execution_count": null,
      "metadata": {
        "colab": {
          "base_uri": "https://localhost:8080/"
        },
        "id": "ApgPVE8V-KOX",
        "outputId": "8afbf830-e6cf-4fac-9495-032def9ab439"
      },
      "outputs": [
        {
          "name": "stdout",
          "output_type": "stream",
          "text": [
            "Enter Number: 1234\n",
            "10\n"
          ]
        }
      ],
      "source": [
        "num = input(\"Enter Number: \")\n",
        "sum = 0\n",
        "\n",
        "for i in num:\n",
        "    sum = sum + int(i)\n",
        "\n",
        "print(sum)\n"
      ]
    },
    {
      "cell_type": "code",
      "execution_count": null,
      "metadata": {
        "colab": {
          "base_uri": "https://localhost:8080/"
        },
        "id": "vq8HUTbb_5Vr",
        "outputId": "25d034c8-6152-42ff-8b22-d8c54d9b9835"
      },
      "outputs": [
        {
          "name": "stdout",
          "output_type": "stream",
          "text": [
            "enter a number:1234\n",
            "1\n",
            "3\n",
            "6\n",
            "10\n"
          ]
        }
      ],
      "source": [
        "num = int(input(\"enter a number:\"))\n",
        "sum = 0\n",
        "for i in str(num):\n",
        "    sum = sum + int(i)\n",
        "    print(sum)"
      ]
    },
    {
      "cell_type": "markdown",
      "metadata": {
        "id": "nwlwbuE2Dir8"
      },
      "source": [
        "**reverse of a number**"
      ]
    },
    {
      "cell_type": "code",
      "execution_count": null,
      "metadata": {
        "colab": {
          "base_uri": "https://localhost:8080/"
        },
        "id": "UZiy4Z9kEPQN",
        "outputId": "e1efdc1e-2b01-4d29-fb91-0c6d943b22a7"
      },
      "outputs": [
        {
          "name": "stdout",
          "output_type": "stream",
          "text": [
            "Enter a number123\n",
            "321\n"
          ]
        }
      ],
      "source": [
        "num=int(input(\"Enter a number\"))\n",
        "temp=num\n",
        "reverse=0\n",
        "while num>0:\n",
        "\n",
        "    remainder = num % 10\n",
        "    reverse = (reverse * 10 )+ remainder\n",
        "    num=num//10\n",
        "print(reverse)\n"
      ]
    },
    {
      "cell_type": "markdown",
      "metadata": {
        "id": "yk6do3IWHQn2"
      },
      "source": [
        "**Palindrom of a number**"
      ]
    },
    {
      "cell_type": "code",
      "execution_count": null,
      "metadata": {
        "colab": {
          "base_uri": "https://localhost:8080/"
        },
        "id": "0dga3VtDJnRH",
        "outputId": "6ad073da-52bf-4672-eb76-27a9eb9e6dd0"
      },
      "outputs": [
        {
          "name": "stdout",
          "output_type": "stream",
          "text": [
            "Enter a number123\n",
            "Not Palindrome\n"
          ]
        }
      ],
      "source": [
        "num = int(input(\"Enter a number\"))\n",
        "temp = num\n",
        "reverse = 0\n",
        "while temp > 0:\n",
        "    remainder = temp % 10\n",
        "    reverse = (reverse * 10) + remainder\n",
        "    temp = temp // 10\n",
        "if num == reverse:\n",
        "  print('Palindrome')\n",
        "else:\n",
        "  print(\"Not Palindrome\")\n"
      ]
    },
    {
      "cell_type": "markdown",
      "metadata": {
        "id": "I4Qs1SFL4Xrs"
      },
      "source": [
        "Int Calculate(int m, int n);\n",
        "\n",
        "The function accepts 2 positive integer ‘m’ and ‘n’ as its arguments.You are required to calculate the sum of numbers divisible both by 3 and 5, between ‘m’ and ‘n’ both inclusive and return the same.\n",
        "Note\n",
        "0 < m <= n\n",
        "\n",
        "Example\n",
        "\n",
        "Input:\n",
        "\n",
        "m : 12\n",
        "\n",
        "n : 50\n",
        "\n",
        "Output\n",
        "\n",
        "90\n",
        "\n",
        "Explanation:\n",
        "The numbers divisible by both 3 and 5, between 12 and 50 both inclusive are {15, 30, 45} and their sum is 90.\n",
        "Sample Input\n",
        "m : 100\n",
        "n : 160\n",
        "Sample Output\n",
        "510\n",
        "\n"
      ]
    },
    {
      "cell_type": "code",
      "execution_count": null,
      "metadata": {
        "colab": {
          "base_uri": "https://localhost:8080/"
        },
        "id": "NNVPSewwxqci",
        "outputId": "e5c8fecb-8fad-4111-d770-336756077ff9"
      },
      "outputs": [
        {
          "name": "stdout",
          "output_type": "stream",
          "text": [
            "enter a number12\n",
            "enter a number50\n",
            "90\n"
          ]
        }
      ],
      "source": [
        "def sum(n,m):\n",
        "\n",
        "  sum1 = 0\n",
        "\n",
        "  for i in range(n,m + 1):\n",
        "    if i % 3 == 0 and i % 5 == 0:\n",
        "      sum1 += i\n",
        "  return sum1\n",
        "n=(int(input(\"enter a number\")))\n",
        "m=(int(input(\"enter a number\")))\n",
        "output=sum(n,m)\n",
        "print(output)\n",
        "\n"
      ]
    },
    {
      "cell_type": "markdown",
      "metadata": {
        "id": "4hS2mlDu520r"
      },
      "source": [
        "**fibanocci series**"
      ]
    },
    {
      "cell_type": "code",
      "execution_count": null,
      "metadata": {
        "colab": {
          "base_uri": "https://localhost:8080/"
        },
        "id": "ouLKHRvG4xrc",
        "outputId": "ce960878-8e44-42d3-fa6e-cd4c8866761c"
      },
      "outputs": [
        {
          "name": "stdout",
          "output_type": "stream",
          "text": [
            "ENTER A NUMBER5\n",
            "0\n",
            "1\n",
            "1 2 3 "
          ]
        }
      ],
      "source": [
        "n=int(input(\"ENTER A NUMBER\"))\n",
        "n1=0\n",
        "n2=1\n",
        "count=2\n",
        "if n<0:\n",
        "  print(\"enter a positive number\")\n",
        "elif n==0:\n",
        "  print(n1)\n",
        "else:\n",
        "  print(n1)\n",
        "  print(n2)\n",
        "while count<n:\n",
        "  n3=n1+n2\n",
        "  print(n3)\n",
        "  count+=1\n",
        "  n1=n2\n",
        "  n2=n3\n",
        "\n",
        "\n",
        "\n",
        "\n"
      ]
    },
    {
      "cell_type": "markdown",
      "metadata": {
        "id": "BOiBHesx6sr4"
      },
      "source": [
        "**Find the Fibonacci Series up to Nth Term in Python Language**\n"
      ]
    },
    {
      "cell_type": "code",
      "execution_count": null,
      "metadata": {
        "colab": {
          "base_uri": "https://localhost:8080/"
        },
        "id": "ZOH5ZL0p6v93",
        "outputId": "1a1b18bf-ea1e-4005-f980-edea6e76ce61"
      },
      "outputs": [
        {
          "name": "stdout",
          "output_type": "stream",
          "text": [
            "Enter a number6\n",
            "0 1 1 2 3 5 "
          ]
        }
      ],
      "source": [
        "num=int(input(\"Enter a number\"))\n",
        "n1=0\n",
        "n2=1\n",
        "print(n1,n2, end=\" \")\n",
        "count=2\n",
        "for i in range(2,num):\n",
        "  n3=n1+n2\n",
        "  print(n3,end=\" \")\n",
        "  count+=1\n",
        "  n1=n2\n",
        "  n2=n3"
      ]
    },
    {
      "cell_type": "markdown",
      "metadata": {
        "id": "lhpMcAUx_Bfz"
      },
      "source": [
        "**Factorial of a number**"
      ]
    },
    {
      "cell_type": "code",
      "execution_count": null,
      "metadata": {
        "colab": {
          "base_uri": "https://localhost:8080/"
        },
        "id": "p_cIOwEp_IU6",
        "outputId": "3c483cd6-208b-4879-dee5-a399fca1784c"
      },
      "outputs": [
        {
          "name": "stdout",
          "output_type": "stream",
          "text": [
            "enter a number6\n",
            "1\n",
            "2\n",
            "6\n",
            "24\n",
            "120\n",
            "720\n"
          ]
        }
      ],
      "source": [
        "\n",
        "n=int(input(\"enter a number\"))\n",
        "fact=1\n",
        "for i in range(1,n+1):\n",
        "  fact=fact*i\n",
        "  print(fact)"
      ]
    },
    {
      "cell_type": "markdown",
      "metadata": {
        "id": "RhSXxQw0votf"
      },
      "source": [
        "**power of a number**"
      ]
    },
    {
      "cell_type": "code",
      "execution_count": null,
      "metadata": {
        "colab": {
          "base_uri": "https://localhost:8080/"
        },
        "id": "niKJJAoevvfd",
        "outputId": "a726a1cb-5244-4275-e34e-9cc4ca3e208f"
      },
      "outputs": [
        {
          "name": "stdout",
          "output_type": "stream",
          "text": [
            "enter a number3\n",
            "enter a number2\n",
            "9\n"
          ]
        }
      ],
      "source": [
        "num=int(input(\"enter a number\"))\n",
        "power=int(input(\"enter a number\"))\n",
        "\n",
        "a=pow(num,power)\n",
        "print(a)"
      ]
    },
    {
      "cell_type": "markdown",
      "metadata": {
        "id": "wWh8mVG4w7qm"
      },
      "source": [
        "**factor of a number**"
      ]
    },
    {
      "cell_type": "code",
      "execution_count": null,
      "metadata": {
        "colab": {
          "base_uri": "https://localhost:8080/"
        },
        "id": "MTHQ8-qkxA-l",
        "outputId": "a59b53c2-f86e-4d31-c4ad-3145134e8818"
      },
      "outputs": [
        {
          "name": "stdout",
          "output_type": "stream",
          "text": [
            "enter a number3\n",
            "1\n",
            "3\n"
          ]
        }
      ],
      "source": [
        "n=int(input(\"enter a number\"))\n",
        "\n",
        "for i in range(1,n+1):\n",
        "    if n%i==0:\n",
        "     print(i)"
      ]
    },
    {
      "cell_type": "markdown",
      "metadata": {
        "id": "5GuG7KBPyxFA"
      },
      "source": []
    },
    {
      "cell_type": "code",
      "execution_count": null,
      "metadata": {
        "colab": {
          "base_uri": "https://localhost:8080/"
        },
        "id": "DcDmoaBH0ppp",
        "outputId": "6eb4b522-feae-46a8-e873-631245a17cfc"
      },
      "outputs": [
        {
          "name": "stdout",
          "output_type": "stream",
          "text": [
            "enter a number4\n",
            "0\n",
            "not a strong number\n"
          ]
        }
      ],
      "source": [
        "num=int(input(\"enter a number\"))\n",
        "fact=0\n",
        "sum=0\n",
        "temp=n\n",
        "\n",
        "for i in range(i,num+1):\n",
        "  fact=fact*i\n",
        "  r=temp%10\n",
        "  temp=temp//10\n",
        "\n",
        "sum+=fact\n",
        "print(sum)\n",
        "if sum==n:\n",
        "  print(\"strong number\")\n",
        "else:\n",
        "  print(\"not a strong number\")"
      ]
    },
    {
      "cell_type": "markdown",
      "metadata": {
        "id": "jAK6p3AxUT9F"
      },
      "source": [
        "**palindrome in a range**"
      ]
    },
    {
      "cell_type": "code",
      "execution_count": null,
      "metadata": {
        "colab": {
          "base_uri": "https://localhost:8080/"
        },
        "id": "1dewqmV-O8E0",
        "outputId": "c81a7e73-8335-47bb-95b6-447aca9f32e1"
      },
      "outputs": [
        {
          "name": "stdout",
          "output_type": "stream",
          "text": [
            "palindrome numbers are: 11\n",
            "palindrome numbers are: 22\n",
            "palindrome numbers are: 33\n",
            "palindrome numbers are: 44\n",
            "palindrome numbers are: 55\n",
            "palindrome numbers are: 66\n",
            "palindrome numbers are: 77\n",
            "palindrome numbers are: 88\n",
            "palindrome numbers are: 99\n",
            "palindrome numbers are: 101\n",
            "palindrome numbers are: 111\n",
            "palindrome numbers are: 121\n",
            "palindrome numbers are: 131\n",
            "palindrome numbers are: 141\n",
            "palindrome numbers are: 151\n",
            "palindrome numbers are: 161\n",
            "palindrome numbers are: 171\n",
            "palindrome numbers are: 181\n",
            "palindrome numbers are: 191\n"
          ]
        }
      ],
      "source": [
        "lower_limit=10\n",
        "upper_limit=200\n",
        "for i in range(lower_limit,upper_limit+1):\n",
        "  original_number=i\n",
        "  num=i\n",
        "  rev=0\n",
        "  while num>0:\n",
        "    remainder=num%10\n",
        "    rev=rev*10+remainder\n",
        "    num=num//10\n",
        "  if(original_number==rev):\n",
        "     print(\"palindrome numbers are:\",original_number)\n",
        "\n",
        "\n",
        "\n",
        "\n"
      ]
    },
    {
      "cell_type": "markdown",
      "metadata": {
        "id": "Y7TS8_lBC7yB"
      },
      "source": [
        "**PERFECT SQUARE OR NOT**"
      ]
    },
    {
      "cell_type": "code",
      "execution_count": null,
      "metadata": {
        "colab": {
          "base_uri": "https://localhost:8080/"
        },
        "id": "Vs3Zez1-BFh0",
        "outputId": "cff935b3-ae8c-4526-fa4e-ee9f41ff1742"
      },
      "outputs": [
        {
          "name": "stdout",
          "output_type": "stream",
          "text": [
            "Enter a number64\n",
            "true\n"
          ]
        }
      ],
      "source": [
        "from math import sqrt\n",
        "n=int(input(\"Enter a number\"))\n",
        "a=int(sqrt(n))\n",
        "if(a*a == n):\n",
        "  print(\"true\")\n",
        "else:\n",
        "  print(\"False\")"
      ]
    },
    {
      "cell_type": "code",
      "execution_count": null,
      "metadata": {
        "colab": {
          "base_uri": "https://localhost:8080/"
        },
        "id": "S2XibtrWEWoR",
        "outputId": "2943356c-73f6-4fe3-de09-6dedd6d59e8d"
      },
      "outputs": [
        {
          "name": "stdout",
          "output_type": "stream",
          "text": [
            "enter a number84\n",
            "False\n"
          ]
        }
      ],
      "source": [
        "from math import sqrt\n",
        "def square_root(n):\n",
        "  x=int(str(n))\n",
        "  if x*x ==n:\n",
        "    return True\n",
        "  else:\n",
        "    return False\n",
        "\n",
        "n=int(input(\"enter a number\"))\n",
        "a=square_root(n)\n",
        "print(a)"
      ]
    },
    {
      "cell_type": "markdown",
      "metadata": {
        "id": "lZ4IgOdTGJbx"
      },
      "source": [
        "**automorphic number**"
      ]
    },
    {
      "cell_type": "code",
      "execution_count": null,
      "metadata": {
        "colab": {
          "base_uri": "https://localhost:8080/"
        },
        "id": "1RoiIlwhGNtW",
        "outputId": "ddeba75e-5996-428e-ba88-0eca3875b0bb"
      },
      "outputs": [
        {
          "name": "stdout",
          "output_type": "stream",
          "text": [
            "25\n",
            "yes\n"
          ]
        }
      ],
      "source": [
        "\n",
        "num=int(input())\n",
        "if int(str(num**2)[-len(str(num))::])==num:\n",
        "\n",
        "\n",
        "  print(\"yes\")\n",
        "else:\n",
        "  print(\"nno\")\n"
      ]
    },
    {
      "cell_type": "markdown",
      "metadata": {
        "id": "QAjaYDy9QO3-"
      },
      "source": [
        "**harshad number or not**"
      ]
    },
    {
      "cell_type": "code",
      "execution_count": null,
      "metadata": {
        "colab": {
          "base_uri": "https://localhost:8080/"
        },
        "id": "-iRKZcJGSFM9",
        "outputId": "6ad313d5-06ec-449d-cfb4-5df4fc7efb4d"
      },
      "outputs": [
        {
          "name": "stdout",
          "output_type": "stream",
          "text": [
            "10\n",
            "Harshad number\n"
          ]
        }
      ],
      "source": [
        "n=int(input())\n",
        "sum=0\n",
        "p=n\n",
        "while p>0:\n",
        "  sum+=p%10\n",
        "  p=p//10\n",
        "if (p%sum==0):\n",
        "    print(\"Harshad number\")\n",
        "else:\n",
        "    print(\"Not a harshad number\")\n"
      ]
    },
    {
      "cell_type": "code",
      "execution_count": null,
      "metadata": {
        "colab": {
          "base_uri": "https://localhost:8080/"
        },
        "id": "QlDNQboAT1Ce",
        "outputId": "4a657368-7a10-413e-a525-42e686a2afd2"
      },
      "outputs": [
        {
          "name": "stdout",
          "output_type": "stream",
          "text": [
            "12\n",
            "abundant number\n"
          ]
        }
      ],
      "source": [
        "\n",
        "n=int(input())\n",
        "sum=1\n",
        "for i in range(2,n):\n",
        "  if n%i==0:\n",
        "    sum+=i\n",
        "if sum>n:\n",
        "    print(\"abundant number\")\n",
        "else:\n",
        "    print(\"not a abundant number\")\n"
      ]
    },
    {
      "cell_type": "markdown",
      "metadata": {
        "id": "ePP-geI1PR9l"
      },
      "source": [
        "**square star pattern**"
      ]
    },
    {
      "cell_type": "code",
      "execution_count": null,
      "metadata": {
        "colab": {
          "base_uri": "https://localhost:8080/"
        },
        "id": "T8h1ij5NPXYm",
        "outputId": "7d6cd098-190f-4615-b333-46b17909fd0a"
      },
      "outputs": [
        {
          "name": "stdout",
          "output_type": "stream",
          "text": [
            "enetr a number4\n",
            "* * * * \n",
            "* * * * \n",
            "* * * * \n",
            "* * * * \n"
          ]
        }
      ],
      "source": [
        "n=int(input(\"enetr a number\"))\n",
        "for i in range(n):\n",
        "    for j in range(n):\n",
        "        print(\"*\" ,end=\" \")\n",
        "    print()\n"
      ]
    },
    {
      "cell_type": "code",
      "execution_count": null,
      "metadata": {
        "colab": {
          "base_uri": "https://localhost:8080/"
        },
        "id": "uLV2d0bhUXpM",
        "outputId": "d16c94e3-c507-44dc-d4c0-95918189caeb"
      },
      "outputs": [
        {
          "name": "stdout",
          "output_type": "stream",
          "text": [
            "****\n",
            "*  *\n",
            "*  *\n",
            "****\n"
          ]
        }
      ],
      "source": [
        "n=4\n",
        "for i in range(n):\n",
        "  for j in range(n):\n",
        "      if i == 0 or i == n-1 or j == 0 or j == n-1:\n",
        "\n",
        "          print(\"*\", end=\"\")\n",
        "      else:\n",
        "           print(\" \",end=\"\")\n",
        "  print()\n",
        "\n"
      ]
    },
    {
      "cell_type": "markdown",
      "metadata": {
        "id": "M8GoH8bAaF7W"
      },
      "source": [
        "**rhombus**"
      ]
    },
    {
      "cell_type": "code",
      "execution_count": null,
      "metadata": {
        "colab": {
          "base_uri": "https://localhost:8080/"
        },
        "id": "B-Rf1XMUVc7J",
        "outputId": "4ba9eff8-1f0c-43c5-939f-4644495dffe2"
      },
      "outputs": [
        {
          "name": "stdout",
          "output_type": "stream",
          "text": [
            "4\n",
            "* * * * \n",
            " * * * * \n",
            "  * * * * \n",
            "   * * * * \n"
          ]
        }
      ],
      "source": [
        "num=int(input())\n",
        "for i in range(0,num):\n",
        "  for j in range(1,i+1):\n",
        "    print(\"\",end=\" \")\n",
        "  for k in range(0,num):\n",
        "    print(\"*\",end=\" \")\n",
        "  print()\n"
      ]
    },
    {
      "cell_type": "code",
      "execution_count": null,
      "metadata": {
        "colab": {
          "base_uri": "https://localhost:8080/"
        },
        "id": "LnVQ3T8KaK4L",
        "outputId": "8a39901f-8a6f-40e6-f830-2f997a6001de"
      },
      "outputs": [
        {
          "name": "stdout",
          "output_type": "stream",
          "text": [
            "*****\n"
          ]
        }
      ],
      "source": [
        "size=5\n",
        "print(\"*\"*size)"
      ]
    },
    {
      "cell_type": "code",
      "execution_count": null,
      "metadata": {
        "colab": {
          "base_uri": "https://localhost:8080/"
        },
        "id": "td92irf2x7xQ",
        "outputId": "27645da4-d43e-4441-e5b5-33e157c49352"
      },
      "outputs": [
        {
          "name": "stdout",
          "output_type": "stream",
          "text": [
            "* * * * * "
          ]
        }
      ],
      "source": [
        "n=5\n",
        "for i in range(n):\n",
        "  print(\"*\",end=\" \")\n",
        "\n"
      ]
    },
    {
      "cell_type": "markdown",
      "metadata": {
        "id": "qo5w-Q1gzClC"
      },
      "source": [
        "**right angle decreasing triangle pattern**"
      ]
    },
    {
      "cell_type": "code",
      "execution_count": null,
      "metadata": {
        "colab": {
          "base_uri": "https://localhost:8080/"
        },
        "id": "pUH0wGfbzJLl",
        "outputId": "ebb3ad93-14a5-4d25-d331-8ff362dc2385"
      },
      "outputs": [
        {
          "name": "stdout",
          "output_type": "stream",
          "text": [
            "* * * * * \n",
            "* * * * \n",
            "* * * \n",
            "* * \n",
            "* \n"
          ]
        }
      ],
      "source": [
        "n=5\n",
        "for i in range(n):\n",
        "  for j in range(i,n):\n",
        "    print(\"*\", end=\" \")\n",
        "  print()"
      ]
    },
    {
      "cell_type": "markdown",
      "metadata": {
        "id": "C_sqxfqmHnh4"
      },
      "source": [
        "**right angle increasing pattern**"
      ]
    },
    {
      "cell_type": "code",
      "execution_count": null,
      "metadata": {
        "colab": {
          "base_uri": "https://localhost:8080/"
        },
        "id": "EAtwJ2RIHzUg",
        "outputId": "b5b0a9d7-03c8-4278-f6f9-0facb0a61171"
      },
      "outputs": [
        {
          "name": "stdout",
          "output_type": "stream",
          "text": [
            "* \n",
            "* * \n",
            "* * * \n",
            "* * * * \n",
            "* * * * * \n"
          ]
        }
      ],
      "source": [
        "n=5\n",
        "for i in range(n):\n",
        "  for j in range(i+1):\n",
        "    print(\"*\", end=\" \")\n",
        "  print()"
      ]
    },
    {
      "cell_type": "markdown",
      "metadata": {
        "id": "QD8J-KKVLCTW"
      },
      "source": [
        "**triangle**"
      ]
    },
    {
      "cell_type": "code",
      "execution_count": null,
      "metadata": {
        "colab": {
          "base_uri": "https://localhost:8080/"
        },
        "id": "zMxSLkoDJbD-",
        "outputId": "8076cf21-9b4c-4efd-edc9-4837b2fdc67e"
      },
      "outputs": [
        {
          "name": "stdout",
          "output_type": "stream",
          "text": [
            "    * \n",
            "   * * \n",
            "  * * * \n",
            " * * * * \n",
            "* * * * * \n"
          ]
        }
      ],
      "source": [
        "n=5\n",
        "for i in range(n):\n",
        "  for j in range(0,n-i-1):\n",
        "    print(end=\" \")\n",
        "  for k in range(0,i+1):\n",
        "    print(\"*\", end=\" \")\n",
        "  print()"
      ]
    },
    {
      "cell_type": "markdown",
      "metadata": {
        "id": "_I0Br31SLKVi"
      },
      "source": [
        "**inverse triangle**"
      ]
    },
    {
      "cell_type": "code",
      "execution_count": null,
      "metadata": {
        "colab": {
          "base_uri": "https://localhost:8080/"
        },
        "id": "MVoLfFcNbnVv",
        "outputId": "b74895e0-4c9a-46d5-8bcf-30cb28c067dd"
      },
      "outputs": [
        {
          "name": "stdout",
          "output_type": "stream",
          "text": [
            "* * * * * \n",
            " * * * * \n",
            "  * * * \n",
            "   * * \n",
            "    * \n"
          ]
        }
      ],
      "source": [
        "n=5\n",
        "for i in range(n,0,-1):\n",
        "  for j in range(0,n-i):\n",
        "    print(\" \",end=\"\")\n",
        "  for j in range(0,i):\n",
        "    print(\"*\",end=\" \")\n",
        "  print()"
      ]
    },
    {
      "cell_type": "markdown",
      "metadata": {
        "id": "TIrTRS9Ye5oK"
      },
      "source": [
        "note : ikkada n,0,-1 antey start stop step ani mata antey start 5 tho stop 0 tho inka -1 decrement avuthadhi"
      ]
    },
    {
      "cell_type": "markdown",
      "metadata": {
        "id": "hJsdgOP2eoM7"
      },
      "source": [
        "idhi aa code oo teliyadhu kani inverse triangle lagey vundhi kani end daggara space istey ila print **avutundhi** **bold text**"
      ]
    },
    {
      "cell_type": "code",
      "execution_count": null,
      "metadata": {
        "colab": {
          "base_uri": "https://localhost:8080/"
        },
        "id": "6G5OqaAZd3SJ",
        "outputId": "8ce4640d-54ec-4b49-cc82-f67a0262edda"
      },
      "outputs": [
        {
          "name": "stdout",
          "output_type": "stream",
          "text": [
            "* * * * * \n",
            "  * * * * \n",
            "    * * * \n",
            "      * * \n",
            "        * \n"
          ]
        }
      ],
      "source": [
        "n=5\n",
        "for i in range(n,0,-1):\n",
        "  for j in range(0,n-i):\n",
        "    print(\" \",end=\" \")\n",
        "  for j in range(0,i):\n",
        "    print(\"*\",end=\" \")\n",
        "  print()\n"
      ]
    },
    {
      "cell_type": "code",
      "execution_count": null,
      "metadata": {
        "colab": {
          "base_uri": "https://localhost:8080/",
          "height": 332
        },
        "id": "cyIcS3j0dCxL",
        "outputId": "988b4cec-2c1d-487f-8cb6-83a5d57ed652"
      },
      "outputs": [
        {
          "ename": "KeyboardInterrupt",
          "evalue": "",
          "output_type": "error",
          "traceback": [
            "\u001b[0;31m---------------------------------------------------------------------------\u001b[0m",
            "\u001b[0;31mKeyboardInterrupt\u001b[0m                         Traceback (most recent call last)",
            "\u001b[0;32m<ipython-input-1-469c3f17dfe4>\u001b[0m in \u001b[0;36m<cell line: 13>\u001b[0;34m()\u001b[0m\n\u001b[1;32m     11\u001b[0m   \u001b[0;32mreturn\u001b[0m \u001b[0mmax\u001b[0m\u001b[0;34m(\u001b[0m\u001b[0meven\u001b[0m\u001b[0;34m,\u001b[0m \u001b[0modd\u001b[0m\u001b[0;34m)\u001b[0m\u001b[0;34m\u001b[0m\u001b[0;34m\u001b[0m\u001b[0m\n\u001b[1;32m     12\u001b[0m \u001b[0mnum\u001b[0m\u001b[0;34m=\u001b[0m\u001b[0mint\u001b[0m\u001b[0;34m(\u001b[0m\u001b[0minput\u001b[0m\u001b[0;34m(\u001b[0m\u001b[0;34m)\u001b[0m\u001b[0;34m)\u001b[0m\u001b[0;34m\u001b[0m\u001b[0;34m\u001b[0m\u001b[0m\n\u001b[0;32m---> 13\u001b[0;31m \u001b[0moutput\u001b[0m\u001b[0;34m=\u001b[0m\u001b[0msum_of_even_odd\u001b[0m\u001b[0;34m(\u001b[0m\u001b[0mnum\u001b[0m\u001b[0;34m)\u001b[0m\u001b[0;34m\u001b[0m\u001b[0;34m\u001b[0m\u001b[0m\n\u001b[0m\u001b[1;32m     14\u001b[0m \u001b[0mprint\u001b[0m\u001b[0;34m(\u001b[0m\u001b[0moutput\u001b[0m\u001b[0;34m)\u001b[0m\u001b[0;34m\u001b[0m\u001b[0;34m\u001b[0m\u001b[0m\n\u001b[1;32m     15\u001b[0m \u001b[0;34m\u001b[0m\u001b[0m\n",
            "\u001b[0;32m<ipython-input-1-469c3f17dfe4>\u001b[0m in \u001b[0;36msum_of_even_odd\u001b[0;34m(num)\u001b[0m\n\u001b[1;32m      2\u001b[0m   \u001b[0modd\u001b[0m\u001b[0;34m=\u001b[0m\u001b[0;36m0\u001b[0m\u001b[0;34m\u001b[0m\u001b[0;34m\u001b[0m\u001b[0m\n\u001b[1;32m      3\u001b[0m   \u001b[0meven\u001b[0m\u001b[0;34m=\u001b[0m\u001b[0;36m0\u001b[0m\u001b[0;34m\u001b[0m\u001b[0;34m\u001b[0m\u001b[0m\n\u001b[0;32m----> 4\u001b[0;31m   \u001b[0;32mwhile\u001b[0m \u001b[0mnum\u001b[0m\u001b[0;34m>\u001b[0m\u001b[0;36m0\u001b[0m\u001b[0;34m:\u001b[0m\u001b[0;34m\u001b[0m\u001b[0;34m\u001b[0m\u001b[0m\n\u001b[0m\u001b[1;32m      5\u001b[0m     \u001b[0mdigit\u001b[0m\u001b[0;34m=\u001b[0m\u001b[0mnum\u001b[0m\u001b[0;34m%\u001b[0m\u001b[0;36m10\u001b[0m\u001b[0;34m\u001b[0m\u001b[0;34m\u001b[0m\u001b[0m\n\u001b[1;32m      6\u001b[0m     \u001b[0;32mif\u001b[0m \u001b[0mnum\u001b[0m\u001b[0;34m%\u001b[0m\u001b[0;36m2\u001b[0m\u001b[0;34m==\u001b[0m\u001b[0;36m0\u001b[0m\u001b[0;34m:\u001b[0m\u001b[0;34m\u001b[0m\u001b[0;34m\u001b[0m\u001b[0m\n",
            "\u001b[0;31mKeyboardInterrupt\u001b[0m: "
          ]
        }
      ],
      "source": [
        "def sum_of_even_odd(num):\n",
        "  odd=0\n",
        "  even=0\n",
        "  while num>0:\n",
        "    digit=num%10\n",
        "    if num%2==0:\n",
        "      even+=digit\n",
        "    else:\n",
        "      odd+=digit\n",
        "      num//=10\n",
        "  return max(even, odd)\n",
        "num=int(input())\n",
        "output=sum_of_even_odd(num)\n",
        "print(output)\n",
        "\n",
        "\n"
      ]
    },
    {
      "cell_type": "code",
      "execution_count": null,
      "metadata": {
        "colab": {
          "base_uri": "https://localhost:8080/"
        },
        "id": "VWWldAjGyhIP",
        "outputId": "2a6f7fcd-119c-465f-e31d-5b7735c9d4fc"
      },
      "outputs": [
        {
          "name": "stdout",
          "output_type": "stream",
          "text": [
            "    * \n",
            "   * * \n",
            "  * * * \n",
            " * * * * \n",
            "* * * * * \n",
            " * * * * \n",
            "  * * * \n",
            "   * * \n",
            "    * \n"
          ]
        }
      ],
      "source": [
        "def pyramid(n):\n",
        "    # Top half of the pyramid\n",
        "    for i in range(n):\n",
        "        print(\" \" * (n - i - 1) + \"* \" * (i + 1))\n",
        "\n",
        "    # Bottom half of the pyramid\n",
        "    for j in range(n - 1, 0, -1):\n",
        "        print(\" \" * (n - j) + \"* \" * j)\n",
        "\n",
        "# Example usage\n",
        "pyramid(5)\n"
      ]
    },
    {
      "cell_type": "markdown",
      "metadata": {
        "id": "whvguSuoAvr5"
      },
      "source": [
        "star in A pattern"
      ]
    },
    {
      "cell_type": "code",
      "execution_count": null,
      "metadata": {
        "colab": {
          "base_uri": "https://localhost:8080/"
        },
        "id": "R2A2Z_GABF8M",
        "outputId": "be1d0d2b-e1a0-4ed7-ebbb-047406953234"
      },
      "outputs": [
        {
          "name": "stdout",
          "output_type": "stream",
          "text": [
            "**** \n",
            "*   *\n",
            "*   *\n",
            "*****\n",
            "*   *\n",
            "*   *\n",
            "*   *\n"
          ]
        }
      ],
      "source": [
        "for r in range(7):\n",
        "  for c in range(5):\n",
        "    if(c==0 or c==4 and r!=0) or (r==0 or r==3) and (c>0 and c<4):\n",
        "      print(\"*\",end=\"\")\n",
        "    else:\n",
        "      print(end=\" \")\n",
        "  print()\n"
      ]
    },
    {
      "cell_type": "code",
      "execution_count": null,
      "metadata": {
        "colab": {
          "base_uri": "https://localhost:8080/",
          "height": 332
        },
        "id": "yeZwYnU_sqMf",
        "outputId": "03231aca-ead7-4200-f0e0-80c86cf82e37"
      },
      "outputs": [
        {
          "ename": "KeyboardInterrupt",
          "evalue": "",
          "output_type": "error",
          "traceback": [
            "\u001b[0;31m---------------------------------------------------------------------------\u001b[0m",
            "\u001b[0;31mKeyboardInterrupt\u001b[0m                         Traceback (most recent call last)",
            "\u001b[0;32m<ipython-input-4-98965ad80711>\u001b[0m in \u001b[0;36m<cell line: 16>\u001b[0;34m()\u001b[0m\n\u001b[1;32m     14\u001b[0m     \u001b[0;32mreturn\u001b[0m \u001b[0mesum\u001b[0m\u001b[0;34m\u001b[0m\u001b[0;34m\u001b[0m\u001b[0m\n\u001b[1;32m     15\u001b[0m \u001b[0mn\u001b[0m\u001b[0;34m=\u001b[0m\u001b[0mint\u001b[0m\u001b[0;34m(\u001b[0m\u001b[0minput\u001b[0m\u001b[0;34m(\u001b[0m\u001b[0;34m)\u001b[0m\u001b[0;34m)\u001b[0m\u001b[0;34m\u001b[0m\u001b[0;34m\u001b[0m\u001b[0m\n\u001b[0;32m---> 16\u001b[0;31m \u001b[0mres\u001b[0m\u001b[0;34m=\u001b[0m \u001b[0mfunction\u001b[0m\u001b[0;34m(\u001b[0m\u001b[0mn\u001b[0m\u001b[0;34m)\u001b[0m\u001b[0;34m\u001b[0m\u001b[0;34m\u001b[0m\u001b[0m\n\u001b[0m\u001b[1;32m     17\u001b[0m \u001b[0mprint\u001b[0m\u001b[0;34m(\u001b[0m\u001b[0mres\u001b[0m\u001b[0;34m)\u001b[0m\u001b[0;34m\u001b[0m\u001b[0;34m\u001b[0m\u001b[0m\n\u001b[1;32m     18\u001b[0m \u001b[0;34m\u001b[0m\u001b[0m\n",
            "\u001b[0;32m<ipython-input-4-98965ad80711>\u001b[0m in \u001b[0;36mfunction\u001b[0;34m(n)\u001b[0m\n\u001b[1;32m      2\u001b[0m   \u001b[0mesum\u001b[0m\u001b[0;34m=\u001b[0m\u001b[0;36m0\u001b[0m\u001b[0;34m\u001b[0m\u001b[0;34m\u001b[0m\u001b[0m\n\u001b[1;32m      3\u001b[0m   \u001b[0mosum\u001b[0m\u001b[0;34m=\u001b[0m\u001b[0;36m0\u001b[0m\u001b[0;34m\u001b[0m\u001b[0;34m\u001b[0m\u001b[0m\n\u001b[0;32m----> 4\u001b[0;31m   \u001b[0;32mwhile\u001b[0m \u001b[0mn\u001b[0m\u001b[0;34m>\u001b[0m\u001b[0;36m0\u001b[0m\u001b[0;34m:\u001b[0m\u001b[0;34m\u001b[0m\u001b[0;34m\u001b[0m\u001b[0m\n\u001b[0m\u001b[1;32m      5\u001b[0m     \u001b[0md\u001b[0m\u001b[0;34m=\u001b[0m\u001b[0mn\u001b[0m\u001b[0;34m%\u001b[0m\u001b[0;36m10\u001b[0m\u001b[0;34m\u001b[0m\u001b[0;34m\u001b[0m\u001b[0m\n\u001b[1;32m      6\u001b[0m     \u001b[0;32mif\u001b[0m \u001b[0md\u001b[0m\u001b[0;34m%\u001b[0m\u001b[0;36m2\u001b[0m\u001b[0;34m==\u001b[0m\u001b[0;36m0\u001b[0m\u001b[0;34m:\u001b[0m\u001b[0;34m\u001b[0m\u001b[0;34m\u001b[0m\u001b[0m\n",
            "\u001b[0;31mKeyboardInterrupt\u001b[0m: "
          ]
        }
      ],
      "source": [
        "def function(n):\n",
        "  esum=0\n",
        "  osum=0\n",
        "  while n>0:\n",
        "    d=n%10\n",
        "    if d%2==0:\n",
        "      esum+=d\n",
        "    else:\n",
        "      osum+=d\n",
        "      n//=10\n",
        "  if(osum>esum):\n",
        "    return osum\n",
        "  else:\n",
        "    return esum\n",
        "n=int(input())\n",
        "res= function(n)\n",
        "print(res)\n",
        "\n"
      ]
    },
    {
      "cell_type": "code",
      "execution_count": null,
      "metadata": {
        "colab": {
          "base_uri": "https://localhost:8080/"
        },
        "id": "5olFmqZMusMf",
        "outputId": "30315e0e-66bf-473c-cf1d-7ec95f4a5022"
      },
      "outputs": [
        {
          "name": "stdout",
          "output_type": "stream",
          "text": [
            "66 67 68 69\n"
          ]
        }
      ],
      "source": [
        "def functin(n):\n",
        "  sum=0\n",
        "  for i in range(1,n+1):\n",
        "    if n[i]>+n[i+1]:\n",
        "      sum+=i\n",
        "\n",
        "      return sum\n",
        "n=int(input())\n",
        "res=functin(n)\n",
        "print(res)\n",
        "\n"
      ]
    },
    {
      "cell_type": "code",
      "execution_count": null,
      "metadata": {
        "colab": {
          "base_uri": "https://localhost:8080/"
        },
        "id": "SlC56Kf-79R7",
        "outputId": "f18b0faf-76bf-48de-b15e-365e4547105f"
      },
      "outputs": [
        {
          "name": "stdout",
          "output_type": "stream",
          "text": [
            "1A1B1C1\n",
            "0\n"
          ]
        }
      ],
      "source": [
        "def operator(str):\n",
        "  ans = ord(str[0])-ord('0')\n",
        "  for i in range(1,len(str),2):\n",
        "    j=i+1\n",
        "    if str[i]==\"A\":\n",
        "      ans=(ord(str[j])-ord('0')) &ans\n",
        "    elif str[i]==\"B\":\n",
        "      ans=(ord(str[j])-ord('0')) |ans\n",
        "    else:\n",
        "      ans=(ord(str[j])-ord('0')) ^ans\n",
        "  return ans\n",
        "str=input()\n",
        "print(operator(str))\n",
        "\n"
      ]
    },
    {
      "cell_type": "markdown",
      "metadata": {
        "id": "UlQnX9zFElj5"
      },
      "source": [
        "average of string"
      ]
    },
    {
      "cell_type": "code",
      "execution_count": null,
      "metadata": {
        "colab": {
          "base_uri": "https://localhost:8080/"
        },
        "id": "5WLjhKDbBb3Z",
        "outputId": "3108c270-5900-40c9-b4c4-e83d1212edc2"
      },
      "outputs": [
        {
          "name": "stdout",
          "output_type": "stream",
          "text": [
            "aab\n",
            "97.33\n"
          ]
        }
      ],
      "source": [
        "def floataverage(str):\n",
        "  n=len(str)\n",
        "  sum=0\n",
        "  for i in str :\n",
        "    sum+=ord(i)\n",
        "  res=sum/n\n",
        "  return res\n",
        "str=input()\n",
        "temp=floataverage(str)\n",
        "r=format(temp,\".2f\")\n",
        "print(r)\n"
      ]
    },
    {
      "cell_type": "markdown",
      "metadata": {
        "id": "jO0rf_kWQjnm"
      },
      "source": [
        "palindrome lo add cheysinavi print avutadhi"
      ]
    },
    {
      "cell_type": "code",
      "execution_count": null,
      "metadata": {
        "colab": {
          "base_uri": "https://localhost:8080/"
        },
        "id": "P9OsiN7vEp04",
        "outputId": "7cc7bc42-7c76-4252-fc2e-08125a985ba8"
      },
      "outputs": [
        {
          "name": "stdout",
          "output_type": "stream",
          "text": [
            "abcdc\n",
            "abcdca\n"
          ]
        }
      ],
      "source": [
        "def con(l):\n",
        "  le=len(l)\n",
        "  for i in range(le):\n",
        "    le=len(l)\n",
        "    if l[i]!=l[le-i-1]:\n",
        "      l.insert(le-i,l[i])\n",
        "    else:\n",
        "      break\n",
        "    s=\"\".join(l)\n",
        "    if s==s1[::-1]:\n",
        "      s=s.replace(s1,\"\")\n",
        "    return s\n",
        "s1=input().strip()\n",
        "l=list(s1)\n",
        "print(con(l))\n",
        "\n"
      ]
    },
    {
      "cell_type": "code",
      "execution_count": null,
      "metadata": {
        "colab": {
          "base_uri": "https://localhost:8080/"
        },
        "id": "ajniVCPEADha",
        "outputId": "04518b22-743b-479e-cab4-0e42c4ae9988"
      },
      "outputs": [
        {
          "name": "stdout",
          "output_type": "stream",
          "text": [
            "hello  abhi\n"
          ]
        }
      ],
      "source": [
        "def myfun():\n",
        "  global x\n",
        "  x=\"abhi\"\n",
        "myfun()\n",
        "print(\"hello \"  +  x)\n",
        "\n"
      ]
    },
    {
      "cell_type": "code",
      "execution_count": null,
      "metadata": {
        "colab": {
          "base_uri": "https://localhost:8080/"
        },
        "id": "RWCjeHuaC8jz",
        "outputId": "691de022-ce0f-472f-ebb6-7e1bb55da15a"
      },
      "outputs": [
        {
          "name": "stdout",
          "output_type": "stream",
          "text": [
            "13\n"
          ]
        }
      ],
      "source": [
        "a=\"abhi  , world\"\n",
        "print(len(a))"
      ]
    },
    {
      "cell_type": "markdown",
      "metadata": {
        "id": "UrTa5N3LM_6K"
      },
      "source": [
        "Sum of leaders in an array Problem Statement\n",
        "\n",
        "The function accepts a positive integer array 'arr of size 'n' as its argument. Implement the function to find the leaders in the array and\n",
        "\n",
        "return their sum. An element is a leader in the array if it is greater than all the elements to its right side. The rightmost element is always a leader.\n",
        "It art is empty or none(in case of python), return 1\n",
        "\n",
        "Output lies within the integer range\n",
        "\n",
        "Example\n",
        "\n",
        "Input\n",
        "\n",
        "7\n",
        "\n",
        "52 66 64 36 45 24 32\n",
        "\n",
        "Outout\n",
        "\n",
        "207 Explanation\n",
        "\n",
        "Leaders of array are (06,64,45.32) sum = 66-64+45+32-207\n",
        "\n",
        "Thus the output is 207\n",
        "\n"
      ]
    },
    {
      "cell_type": "code",
      "execution_count": null,
      "metadata": {
        "colab": {
          "base_uri": "https://localhost:8080/"
        },
        "id": "NrQcyuHlI9PH",
        "outputId": "8a9bc367-8fd1-4cfc-bfa4-d78c01438457"
      },
      "outputs": [
        {
          "name": "stdout",
          "output_type": "stream",
          "text": [
            "5\n",
            "10 5 20 25 30\n",
            "30\n"
          ]
        }
      ],
      "source": [
        "def sum(arr,n):\n",
        "    sum=0\n",
        "    for i in range(n):\n",
        "        for j in range(i+1,n-1):\n",
        "            if (arr[i] > arr[j]):\n",
        "\n",
        "                flag= 0\n",
        "                break\n",
        "        if flag==1:\n",
        "            sum+=arr[i]\n",
        "    sum = sum + arr[n-1]\n",
        "    return(sum)\n",
        "n=int(input())\n",
        "arr=list(map(int,input().split()))\n",
        "print(sum(arr,n))\n",
        "\n",
        "\n"
      ]
    },
    {
      "cell_type": "code",
      "execution_count": null,
      "metadata": {
        "colab": {
          "base_uri": "https://localhost:8080/",
          "height": 211
        },
        "id": "yUvC5Zvgjekf",
        "outputId": "5dcb711c-51e5-425f-a7b5-201b4fa2457c"
      },
      "outputs": [
        {
          "name": "stdout",
          "output_type": "stream",
          "text": [
            "35 9 1\n"
          ]
        },
        {
          "ename": "ValueError",
          "evalue": "invalid literal for int() with base 10: '35 9 1'",
          "output_type": "error",
          "traceback": [
            "\u001b[0;31m---------------------------------------------------------------------------\u001b[0m",
            "\u001b[0;31mValueError\u001b[0m                                Traceback (most recent call last)",
            "\u001b[0;32m<ipython-input-4-ffc1f2bb58c4>\u001b[0m in \u001b[0;36m<cell line: 14>\u001b[0;34m()\u001b[0m\n\u001b[1;32m     12\u001b[0m         \u001b[0mlow\u001b[0m\u001b[0;34m+=\u001b[0m\u001b[0;36m1\u001b[0m\u001b[0;34m\u001b[0m\u001b[0;34m\u001b[0m\u001b[0m\n\u001b[1;32m     13\u001b[0m         \u001b[0;32mreturn\u001b[0m \u001b[0mcount\u001b[0m\u001b[0;34m\u001b[0m\u001b[0;34m\u001b[0m\u001b[0m\n\u001b[0;32m---> 14\u001b[0;31m \u001b[0mn\u001b[0m\u001b[0;34m=\u001b[0m\u001b[0mint\u001b[0m\u001b[0;34m(\u001b[0m\u001b[0minput\u001b[0m\u001b[0;34m(\u001b[0m\u001b[0;34m)\u001b[0m\u001b[0;34m)\u001b[0m\u001b[0;34m\u001b[0m\u001b[0;34m\u001b[0m\u001b[0m\n\u001b[0m\u001b[1;32m     15\u001b[0m \u001b[0mprint\u001b[0m\u001b[0;34m(\u001b[0m\u001b[0mfun\u001b[0m\u001b[0;34m(\u001b[0m\u001b[0mlow\u001b[0m\u001b[0;34m,\u001b[0m\u001b[0mhigh\u001b[0m\u001b[0;34m,\u001b[0m\u001b[0mn\u001b[0m\u001b[0;34m)\u001b[0m\u001b[0;34m)\u001b[0m\u001b[0;34m\u001b[0m\u001b[0;34m\u001b[0m\u001b[0m\n",
            "\u001b[0;31mValueError\u001b[0m: invalid literal for int() with base 10: '35 9 1'"
          ]
        }
      ],
      "source": [
        "def fun(low,high,n):\n",
        "  count=0\n",
        "  low=1\n",
        "  high=round(pow(n,1/3))\n",
        "  while(low<=high):\n",
        "    z=low*low*low+high*high*high\n",
        "    if (z == n):\n",
        "      count+=1\n",
        "      if z>n:\n",
        "        high-=1\n",
        "      else:\n",
        "        low+=1\n",
        "        return count\n",
        "n=int(input())\n",
        "print(fun(low,high,n))"
      ]
    },
    {
      "cell_type": "code",
      "execution_count": null,
      "metadata": {
        "colab": {
          "base_uri": "https://localhost:8080/",
          "height": 211
        },
        "id": "Kkv40OhjMjY5",
        "outputId": "43e1c8a5-edea-43db-c035-69a2f8d27169"
      },
      "outputs": [
        {
          "name": "stdout",
          "output_type": "stream",
          "text": [
            "Enter a number: 35 9 1\n"
          ]
        },
        {
          "ename": "ValueError",
          "evalue": "invalid literal for int() with base 10: '35 9 1'",
          "output_type": "error",
          "traceback": [
            "\u001b[0;31m---------------------------------------------------------------------------\u001b[0m",
            "\u001b[0;31mValueError\u001b[0m                                Traceback (most recent call last)",
            "\u001b[0;32m<ipython-input-5-2cf653a00c31>\u001b[0m in \u001b[0;36m<cell line: 17>\u001b[0;34m()\u001b[0m\n\u001b[1;32m     15\u001b[0m     \u001b[0;32mreturn\u001b[0m \u001b[0mcount\u001b[0m\u001b[0;34m\u001b[0m\u001b[0;34m\u001b[0m\u001b[0m\n\u001b[1;32m     16\u001b[0m \u001b[0;34m\u001b[0m\u001b[0m\n\u001b[0;32m---> 17\u001b[0;31m \u001b[0mn\u001b[0m \u001b[0;34m=\u001b[0m \u001b[0mint\u001b[0m\u001b[0;34m(\u001b[0m\u001b[0minput\u001b[0m\u001b[0;34m(\u001b[0m\u001b[0;34m\"Enter a number: \"\u001b[0m\u001b[0;34m)\u001b[0m\u001b[0;34m)\u001b[0m\u001b[0;34m\u001b[0m\u001b[0;34m\u001b[0m\u001b[0m\n\u001b[0m\u001b[1;32m     18\u001b[0m \u001b[0mprint\u001b[0m\u001b[0;34m(\u001b[0m\u001b[0mfun\u001b[0m\u001b[0;34m(\u001b[0m\u001b[0;36m1\u001b[0m\u001b[0;34m,\u001b[0m \u001b[0mround\u001b[0m\u001b[0;34m(\u001b[0m\u001b[0mpow\u001b[0m\u001b[0;34m(\u001b[0m\u001b[0mn\u001b[0m\u001b[0;34m,\u001b[0m \u001b[0;36m1\u001b[0m\u001b[0;34m/\u001b[0m\u001b[0;36m3\u001b[0m\u001b[0;34m)\u001b[0m\u001b[0;34m)\u001b[0m\u001b[0;34m,\u001b[0m \u001b[0mn\u001b[0m\u001b[0;34m)\u001b[0m\u001b[0;34m)\u001b[0m\u001b[0;34m\u001b[0m\u001b[0;34m\u001b[0m\u001b[0m\n",
            "\u001b[0;31mValueError\u001b[0m: invalid literal for int() with base 10: '35 9 1'"
          ]
        }
      ],
      "source": [
        "def fun(low, high, n):\n",
        "    count = 0\n",
        "    low = 1\n",
        "    high = round(pow(n, 1/3))\n",
        "    while low <= high:\n",
        "        z = low * low * low + high * high * high\n",
        "        if z == n:\n",
        "            count += 1\n",
        "            low += 1\n",
        "            high -= 1\n",
        "        elif z > n:\n",
        "            high -= 1\n",
        "        else:\n",
        "            low += 1\n",
        "    return count\n",
        "\n",
        "n = int(input(\"Enter a number: \"))\n",
        "print(fun(1, round(pow(n, 1/3)), n))\n"
      ]
    },
    {
      "cell_type": "markdown",
      "metadata": {
        "id": "r_zE3yE2R48F"
      },
      "source": [
        "Question 5[Acc - 2022]\n",
        "\n",
        "Find Smallest Character\n",
        "\n",
        "Problem Statement\n",
        "\n",
        "You are given e funcion\n",
        "\n",
        "def Smallest Character(s): The function accepts a string 's', Implement the function\n",
        "\n",
        "the smallest English character which is not present in the atrings and return the same\n",
        "\n",
        "Abhinaya 2024.08.14"
      ]
    },
    {
      "cell_type": "code",
      "execution_count": null,
      "metadata": {
        "colab": {
          "base_uri": "https://localhost:8080/"
        },
        "id": "7Vf-Y-hkMjVo",
        "outputId": "c6f1ecaa-1fff-41ea-cee7-a9a07adab981"
      },
      "outputs": [
        {
          "name": "stdout",
          "output_type": "stream",
          "text": [
            "abcd\n",
            "e\n"
          ]
        }
      ],
      "source": [
        "def small(s):\n",
        "  freq = [0]*26\n",
        "  for i in s:\n",
        "    freq[ord(i)-ord('a')] +=1\n",
        "  for i in range(0,26):\n",
        "    if (freq[i] == 0):\n",
        "      return chr(ord('a')+i)\n",
        "s=input()\n",
        "print(small(s))\n"
      ]
    },
    {
      "cell_type": "markdown",
      "metadata": {
        "id": "XCyS_tJV0bgh"
      },
      "source": [
        "idi enti antey miss ayina character ni print cheyali ippudu manam abcd ani tesukunnam manaki miss ayyindhi e so e print avuṭadhi inko example acd manaaki kiss ayindhi b appudu b print avutadhi"
      ]
    },
    {
      "cell_type": "code",
      "execution_count": null,
      "metadata": {
        "colab": {
          "base_uri": "https://localhost:8080/"
        },
        "id": "omPtockVUMAq",
        "outputId": "432f8f3d-393c-431f-8e9e-02bf34b9f442"
      },
      "outputs": [
        {
          "name": "stdout",
          "output_type": "stream",
          "text": [
            "abcd\n",
            "e\n"
          ]
        }
      ],
      "source": [
        "s=input()\n",
        "for i in range(97,122):\n",
        "  if chr(i) not in s:\n",
        "    print(chr(i))\n",
        "    break"
      ]
    },
    {
      "cell_type": "markdown",
      "metadata": {
        "id": "CjNU3h-R02ko"
      },
      "source": [
        "hcf of two numbers"
      ]
    },
    {
      "cell_type": "code",
      "execution_count": null,
      "metadata": {
        "colab": {
          "base_uri": "https://localhost:8080/"
        },
        "id": "wNDAHuyA0aqO",
        "outputId": "b2091933-f7d2-4f85-8a62-324d1d6b5b78"
      },
      "outputs": [
        {
          "name": "stdout",
          "output_type": "stream",
          "text": [
            "36\n",
            "60\n",
            "1\n",
            "2\n",
            "3\n",
            "4\n",
            "6\n",
            "9\n",
            "12\n",
            "18\n"
          ]
        }
      ],
      "source": [
        "n1=int(input())\n",
        "n2=int(input())\n",
        "hcf=1\n",
        "for i in range(1,min(n1,n2)):\n",
        "  if n1%i==0 and n2%2==0:\n",
        "    hcf=i\n",
        "    print(hcf)\n",
        "\n"
      ]
    },
    {
      "cell_type": "code",
      "execution_count": null,
      "metadata": {
        "colab": {
          "base_uri": "https://localhost:8080/",
          "height": 106
        },
        "id": "G1cHgIqU11v6",
        "outputId": "e9b7ea42-3f14-495a-8ce4-ef50b4346faa"
      },
      "outputs": [
        {
          "ename": "SyntaxError",
          "evalue": "invalid syntax (<ipython-input-2-6792f6d174c5>, line 5)",
          "output_type": "error",
          "traceback": [
            "\u001b[0;36m  File \u001b[0;32m\"<ipython-input-2-6792f6d174c5>\"\u001b[0;36m, line \u001b[0;32m5\u001b[0m\n\u001b[0;31m    return n1-=n2\u001b[0m\n\u001b[0m             ^\u001b[0m\n\u001b[0;31mSyntaxError\u001b[0m\u001b[0;31m:\u001b[0m invalid syntax\n"
          ]
        }
      ],
      "source": [
        "def fun(n1,n2):\n",
        "  hcf=1\n",
        "  while n1!=n2:\n",
        "    if n1>n2:\n",
        "      return n1-=n2\n",
        "    else:\n",
        "      return n2-=n1\n",
        "n1=int(input())\n",
        "n2=int(input())\n",
        "print(fun(n1,n2))\n"
      ]
    },
    {
      "cell_type": "markdown",
      "metadata": {
        "id": "2zq-HibFCxYA"
      },
      "source": [
        "Question 20[Acc - 20221\n",
        "\n",
        "Array element which has least difference with a given number Problem statement\n",
        "\n",
        "Implement a given function,\n",
        "\n",
        "Int leastdifference (int arr[], int length, int n): The function accepts an integer array \"arr of size \"length\" and an integer 'n' as its arguments. Implement the function to find and return the element of the array having at least absolute difference with the given number 'n'.\n",
        "\n",
        "Note: N>=0"
      ]
    },
    {
      "cell_type": "code",
      "execution_count": null,
      "metadata": {
        "colab": {
          "base_uri": "https://localhost:8080/"
        },
        "id": "Jgc2gP_nhrgY",
        "outputId": "7424f11d-0549-49ba-f197-3af0e9fb2fc9"
      },
      "outputs": [
        {
          "name": "stdout",
          "output_type": "stream",
          "text": [
            "6\n",
            "10 5 3 20 10 2\n",
            "7\n",
            "5\n"
          ]
        }
      ],
      "source": [
        "def diffleast(arr,length,n):\n",
        "  minDiff=abs(arr[0]-n)\n",
        "  minele=arr[0]\n",
        "  for i in range(1,length):\n",
        "    diff=abs(arr[i]-n)\n",
        "    if diff <minDiff:\n",
        "      minDiff=diff\n",
        "      minele=arr[i]\n",
        "  return minele\n",
        "length = int(input())\n",
        "arr =list(map(int, input().split()))\n",
        "n=int(input())\n",
        "print(diffleast(arr,length,n))"
      ]
    },
    {
      "cell_type": "markdown",
      "metadata": {
        "id": "rInck9feMl-O"
      },
      "source": [
        "Question 21[Acc - 2022]\n",
        "\n",
        "Nearest multiple of 10 Implement the following function\n",
        "\n",
        "int RoundOff(int n);\n",
        "\n",
        "The function accepts an integer 'n' as its argument. Implement multiple of 10 according to following rules:\n",
        "\n",
        "the function to round off the given number\n",
        "\n",
        "If unit digit of 'n' is <= 4, then round off 'n' to smaller nearest number to 'n' which is multiple of 10\n",
        "\n",
        "If unit digit of 'n' is >= 5, then round off. 'n' to larger nearest number to 'n' which is multiple of 10."
      ]
    },
    {
      "cell_type": "code",
      "execution_count": null,
      "metadata": {
        "colab": {
          "base_uri": "https://localhost:8080/"
        },
        "id": "qsIaNTKeMn3o",
        "outputId": "df627c1f-47be-4af0-e6cd-cc8371752176"
      },
      "outputs": [
        {
          "name": "stdout",
          "output_type": "stream",
          "text": [
            "47\n",
            "50\n"
          ]
        }
      ],
      "source": [
        "import math\n",
        "def fun(n):\n",
        "  r=n%10\n",
        "  if r<=4:\n",
        "    return math.floor (n/10)*10\n",
        "  else:\n",
        "    return math.ceil(n/10)*10\n",
        "n=int(input())\n",
        "print(fun(n))"
      ]
    },
    {
      "cell_type": "code",
      "execution_count": null,
      "metadata": {
        "colab": {
          "base_uri": "https://localhost:8080/"
        },
        "id": "ro_IdrfWT9qM",
        "outputId": "fb93fd76-f31c-4225-8590-139c4a47bbd9"
      },
      "outputs": [
        {
          "name": "stdout",
          "output_type": "stream",
          "text": [
            "44\n",
            "40\n"
          ]
        }
      ],
      "source": [
        "def roundoff(n):\n",
        "  if n%10<=4:\n",
        "    return n-n%10\n",
        "  else:\n",
        "    return n+10-n%10\n",
        "n=int(input())\n",
        "print(roundoff(n))\n"
      ]
    },
    {
      "cell_type": "code",
      "execution_count": null,
      "metadata": {
        "colab": {
          "base_uri": "https://localhost:8080/"
        },
        "id": "K7c8Gq7hQfba",
        "outputId": "2abeaac4-495b-44a7-e29d-ced1a61571e4"
      },
      "outputs": [
        {
          "name": "stdout",
          "output_type": "stream",
          "text": [
            "6\n"
          ]
        }
      ],
      "source": [
        "import math\n",
        "n=5.6\n",
        "print(math.ceil(n))"
      ]
    },
    {
      "cell_type": "markdown",
      "metadata": {
        "id": "6L1aeLSecmhe"
      },
      "source": [
        "Min Max in two arrays\n",
        "\n",
        "You are required to implement the following function: int Min Maxin Two Arrays (int arr1[], int arr2], int len 1, int len2, int k):\n",
        "\n",
        "The function accepts two integer arrays 'arr1' of length 'len1', \"arr2' of length 'len2' and an integer 'k' as its arguments. Let the count of numbers greater than k in array 'arr 1' be 'x' and the count of numbers lesser than 'k' in array 'arr2' be 'y'. You are required to return\n",
        "\n",
        "he maximum of 'x' and 'y' from the function. Assumption: 'len1', 'len2' > 0\n",
        "\n",
        "FACE"
      ]
    },
    {
      "cell_type": "code",
      "execution_count": null,
      "metadata": {
        "colab": {
          "base_uri": "https://localhost:8080/"
        },
        "id": "YoJGmfVBWVW3",
        "outputId": "fd8b1dad-33b6-4063-8d63-fba108f83c57"
      },
      "outputs": [
        {
          "name": "stdout",
          "output_type": "stream",
          "text": [
            "9 16 12 5 15\n",
            "5\n",
            "14 7 22 5 32 77\n",
            "5\n",
            "9\n",
            "3\n"
          ]
        }
      ],
      "source": [
        "def minmax(arr1,arr2,len1,len2,k):\n",
        "  count=0\n",
        "  a=0\n",
        "  b=0\n",
        "  for i in range(len1):\n",
        "    if k>arr1[i]:\n",
        "      a+=1\n",
        "  for i in range(len2):\n",
        "    if k<arr2[i]:\n",
        "     b+=1\n",
        "  return max(a,b)\n",
        "arr1=list(map(int,input().split()))\n",
        "len1=int(input())\n",
        "arr2=list(map(int,input().split()))\n",
        "len2=int(input())\n",
        "\n",
        "k=int(input())\n",
        "print(minmax(arr1,arr2,len1,len2,k))\n",
        "\n"
      ]
    },
    {
      "cell_type": "markdown",
      "metadata": {
        "id": "IXZUd11ScKZI"
      },
      "source": [
        "Write a program that accepts the function count_selection_sort_swaps(arr: List[int]) -> int that takes a array of integers 'arr' as an argument and returns the number of swaps required to sort the list in ascending order using the selection sort algorithm.\n",
        "\n",
        "Note:The swap count should only increase when an actual swap occurs between two different elements.\n",
        "\n",
        "Example:\n",
        "\n",
        "Input1: arr = 64 25 12 22 11\n",
        "Output2: 3\n",
        "\n",
        "Explanation:\n",
        "Initial array: [64, 25, 12, 22, 11]\n",
        "1st swap: Swap 64 and 11 → [11, 25, 12, 22, 64]\n",
        "2nd swap: Swap 25 and 12 → [11, 12, 25, 22, 64]\n",
        "3rd swap: Swap 25 and 22 → [11, 12, 22, 25, 64]\n",
        "Total swaps: 3\n",
        "\n",
        "Input2: arr = 1 2 3 4 5\n",
        "Output2: 0\n",
        "\n",
        "Explanation:\n",
        "The array is already sorted, so no swaps are required."
      ]
    },
    {
      "cell_type": "code",
      "execution_count": null,
      "metadata": {
        "colab": {
          "base_uri": "https://localhost:8080/"
        },
        "id": "Ct97Xkw1aKV8",
        "outputId": "1f29fb37-1e24-44fe-c620-788d4ebe5657"
      },
      "outputs": [
        {
          "name": "stdout",
          "output_type": "stream",
          "text": [
            "1 2 3 4 5 \n",
            "0\n"
          ]
        }
      ],
      "source": [
        "def count_array(arr):\n",
        "  n=len(arr)\n",
        "  count=0\n",
        "  for i in range(n):\n",
        "    minindex=i\n",
        "    for j in range(i+1,n):\n",
        "      if arr[j]<arr[minindex]:\n",
        "        minindex=j\n",
        "    if minindex!=i:\n",
        "      arr[i],arr[minindex]=arr[minindex],arr[i]\n",
        "      count+=1\n",
        "  return count\n",
        "arr=list(map(int,input().split()))\n",
        "print(count_array(arr))"
      ]
    },
    {
      "cell_type": "markdown",
      "metadata": {
        "id": "R-s7I4mkc7W8"
      },
      "source": [
        "Problem Description :\n",
        "The function accepts two positive integers ‘r’ and ‘unit’ and a positive integer array ‘arr’ of size ‘n’ as its argument ‘r’ represents the number of rats present in an area, ‘unit’ is the amount of food each rat consumes and each ith element of array ‘arr’ represents the amount of food present in ‘i+1’ house number, where 0 <= i\n",
        "\n",
        "Note:\n",
        "\n",
        "Return -1 if the array is null\n",
        "Return 0 if the total amount of food from all houses is not sufficient for all the rats.\n",
        "Computed values lie within the integer range.\n",
        "Example:\n",
        "\n",
        "Input:\n",
        "\n",
        "r: 7\n",
        "unit: 2\n",
        "n: 8\n",
        "arr: 2 8 3 5 7 4 1 2\n",
        "Output:\n",
        "\n",
        "4\n",
        "\n",
        "Explanation:\n",
        "Total amount of food required for all rats = r * unit\n",
        "\n",
        "= 7 * 2 = 14.\n",
        "\n",
        "The amount of food in 1st houses = 2+8+3+5 = 18. Since, amount of food in 1st 4 houses is sufficient for all the rats. Thus, output is 4"
      ]
    },
    {
      "cell_type": "code",
      "execution_count": null,
      "metadata": {
        "colab": {
          "base_uri": "https://localhost:8080/"
        },
        "id": "nKG9J9H4ctFH",
        "outputId": "f8b0ea10-3609-43dc-888d-5e7e873e5356"
      },
      "outputs": [
        {
          "name": "stdout",
          "output_type": "stream",
          "text": [
            "7\n",
            "2\n",
            "8\n",
            " 2 8 3 5 7 4 1 2\n",
            "None\n"
          ]
        }
      ],
      "source": [
        "\n",
        "def calculate(r,unit,arr,n):\n",
        "  if n==0:\n",
        "    return -1\n",
        "    total_food_Required=r*unit\n",
        "    food_till_now=0\n",
        "    house=0\n",
        "    for i in range(n):\n",
        "      food_till_now+=arr[i]\n",
        "      if food_till_now>=total_food_Required:\n",
        "        house=i+1\n",
        "        break\n",
        "    return house\n",
        "r=int(input())\n",
        "unit=int(input())\n",
        "n=int(input())\n",
        "arr=list(map(int,input().split()))\n",
        "print(calculate(r,unit,arr,n))"
      ]
    },
    {
      "cell_type": "markdown",
      "metadata": {
        "id": "b9jYC4rbWgBe"
      },
      "source": [
        "Write a Python function named remove(arr) that takes a list of integers as input and returns a new list with all duplicate elements removed, while preserving the original order of the elements.\n",
        "\n",
        "The function should be used as follows:\n",
        "\n",
        "Input:\n",
        "The input will be a single line containing space-separated integers.\n",
        "Output:\n",
        "The output should be a list of integers with duplicates removed, preserving the order of their first appearance in the input list.\n",
        "Explanation:\n",
        "The input list [1, 2, 2, 3, 4, 4, 5] contains duplicates. The function removes the duplicates and returns [1, 2, 3, 4, 5], maintaining the order of their first appearance.\n",
        "\n",
        "\n",
        "\n",
        "\n",
        "\n"
      ]
    },
    {
      "cell_type": "code",
      "execution_count": null,
      "metadata": {
        "colab": {
          "base_uri": "https://localhost:8080/"
        },
        "id": "JdX4aEE2e5u2",
        "outputId": "aa529c5a-bff2-4532-f7b8-36f57806c6e5"
      },
      "outputs": [
        {
          "name": "stdout",
          "output_type": "stream",
          "text": [
            "1 2 3 4 2 3 4 7 \n",
            "[1, 2, 3, 4, 7]\n"
          ]
        }
      ],
      "source": [
        "def remove(arr):\n",
        "  seen=[]\n",
        "  for i in arr:\n",
        "\n",
        "    if i not in seen:\n",
        "      seen.append(i)\n",
        "  return seen\n",
        "arr=list(map(int,input().split()))\n",
        "print(remove(arr))"
      ]
    },
    {
      "cell_type": "markdown",
      "metadata": {
        "id": "VRHYxnYUiMkN"
      },
      "source": [
        "Question 10[Acc – 20211\n",
        "\n",
        "Number of cards\n",
        "\n",
        "\n",
        "Problem statement\n",
        "\n",
        "Arrangement of cards used for building pyramids are shown in the following image a pyramid return the number of cards . The function accepts an integer 'n' as its argument The integer 'n'denotes level of Pyramid. You are required\n"
      ]
    },
    {
      "cell_type": "code",
      "execution_count": null,
      "metadata": {
        "colab": {
          "base_uri": "https://localhost:8080/"
        },
        "id": "KyMWKNj-hzFY",
        "outputId": "93fe8e47-1639-4324-81c1-230ff6691ae9"
      },
      "outputs": [
        {
          "name": "stdout",
          "output_type": "stream",
          "text": [
            "3\n",
            "15\n"
          ]
        }
      ],
      "source": [
        "def care(n):\n",
        "  count=0\n",
        "  level=1\n",
        "  while(level<=n):\n",
        "    count+=level*3\n",
        "    level+=1\n",
        "  count-=n\n",
        "  return count\n",
        "n=int(input())\n",
        "print(care(n))"
      ]
    },
    {
      "cell_type": "code",
      "execution_count": null,
      "metadata": {
        "colab": {
          "base_uri": "https://localhost:8080/"
        },
        "id": "bxNg8XWikFzI",
        "outputId": "5ffa2816-757c-4b5b-8917-ba7e0e265ff4"
      },
      "outputs": [
        {
          "name": "stdout",
          "output_type": "stream",
          "text": [
            "3\n",
            "15\n"
          ]
        }
      ],
      "source": [
        "n=int(input())\n",
        "sum=0\n",
        "for i in range(1,n+1):\n",
        "  sum=i+sum\n",
        "  r=(sum*3)-n\n",
        "print(r)"
      ]
    },
    {
      "cell_type": "code",
      "execution_count": null,
      "metadata": {
        "colab": {
          "base_uri": "https://localhost:8080/"
        },
        "id": "QcvxKDdyHIFZ",
        "outputId": "eb7ff1df-0944-4259-8b5c-7dfd39cecdb5"
      },
      "outputs": [
        {
          "name": "stdout",
          "output_type": "stream",
          "text": [
            "2\n",
            "7.0\n"
          ]
        }
      ],
      "source": [
        "def function(n):\n",
        "  if n>0:\n",
        "    return(n*(3*n+1))/2\n",
        "  else:\n",
        "    return -1\n",
        "n=int(input())\n",
        "print(function(n))\n"
      ]
    },
    {
      "cell_type": "markdown",
      "metadata": {
        "id": "WqvFOxz7EYw_"
      },
      "source": [
        "\n",
        "Product Problem statement\n",
        "\n",
        "Given two ranges (L1,R1) and (L2,R2). You need to find two numbers a and b such that (isasRi and L2sbsR2 and the product of a and b is maximum.\n",
        "\n",
        "Input format\n",
        "\n",
        "The input consists of a single line:\n",
        "\n",
        "The line contains four space-separated integers denoting L1L2.R1,R2 respectively.\n",
        "\n"
      ]
    },
    {
      "cell_type": "code",
      "execution_count": null,
      "metadata": {
        "colab": {
          "base_uri": "https://localhost:8080/"
        },
        "id": "uw-viSBa5Nm2",
        "outputId": "5066e7c0-5b43-4221-8a13-052bcf5fe4e5"
      },
      "outputs": [
        {
          "name": "stdout",
          "output_type": "stream",
          "text": [
            "4 5 6 7\n",
            "42\n"
          ]
        }
      ],
      "source": [
        "def max(a,b):\n",
        "  return a if a > b else b\n",
        "\n",
        "L1,L2,R1,R2=map(int,input().split())\n",
        "max_product=max(max(max(L1*L2,L1*R2),max(R1*L2,R1*R2)),max(L1*R1,L2*R2))\n",
        "print(max_product)"
      ]
    },
    {
      "cell_type": "code",
      "execution_count": null,
      "metadata": {
        "colab": {
          "base_uri": "https://localhost:8080/"
        },
        "id": "vc_io2w7AACx",
        "outputId": "7ea38554-2915-4d06-bd06-1851ab351f44"
      },
      "outputs": [
        {
          "name": "stdout",
          "output_type": "stream",
          "text": [
            "4 5 6 7\n",
            "42\n"
          ]
        }
      ],
      "source": [
        "L1,L2,R1,R2=map(int,input().split())\n",
        "a=(L1*L2)\n",
        "b=(L2*R2)\n",
        "c=(R1*L2)\n",
        "d=(R1*R2)\n",
        "e=max(a,b)\n",
        "f=max(c,d)\n",
        "print(max(e,f))"
      ]
    },
    {
      "cell_type": "markdown",
      "metadata": {
        "id": "UjxK2HZqTfga"
      },
      "source": [
        "Given a number n = 15, write a Python program to count how many numbers between 1 and n (inclusive) have an odd number of digits. The program should print the total count of such numbers.\n",
        "\n",
        "Input:\n",
        "n = 15\n",
        "Output:\n",
        "The program should output 9.\n",
        "Explanation:\n",
        "The numbers between 1 and 15 that have an odd number of digits are: 1, 2, 3, 4, 5, 6, 7, 8, 9 (all are single-digit numbers).\n",
        "The count of these numbers is 9. Hence, the output is 9.\n",
        "\n",
        "\n",
        "\n",
        "\n",
        "\n"
      ]
    },
    {
      "cell_type": "code",
      "execution_count": null,
      "metadata": {
        "colab": {
          "base_uri": "https://localhost:8080/"
        },
        "id": "-pnz9ecqM8zQ",
        "outputId": "4369798e-86a3-4b35-f48d-42837f0ffe48"
      },
      "outputs": [
        {
          "name": "stdout",
          "output_type": "stream",
          "text": [
            "9\n"
          ]
        }
      ],
      "source": [
        "n=15\n",
        "count=0\n",
        "for i in range(1,16):\n",
        "  digit_count=0\n",
        "  num=i\n",
        "  while num>0:\n",
        "    digit_count+=1\n",
        "    num=num//10\n",
        "  if digit_count%2!=0:\n",
        "      count+=1\n",
        "print(count)"
      ]
    },
    {
      "cell_type": "markdown",
      "metadata": {
        "id": "0uTghX1Vbrmj"
      },
      "source": []
    },
    {
      "cell_type": "code",
      "execution_count": null,
      "metadata": {
        "colab": {
          "base_uri": "https://localhost:8080/"
        },
        "id": "W7ufvpepj2L8",
        "outputId": "6a819583-5575-444c-f474-ec9723b2b32e"
      },
      "outputs": [
        {
          "name": "stdout",
          "output_type": "stream",
          "text": [
            "6\n",
            "6 12 14 56 77 13\n",
            "13\n",
            "2\n",
            "3\n"
          ]
        }
      ],
      "source": [
        "def findcount(arr,length,num,diff):\n",
        "  count=0\n",
        "  for i in range(length):\n",
        "    if(abs(arr[i]-num)<=diff):\n",
        "      count+=1\n",
        "  return count\n",
        "length=int(input())\n",
        "arr=list(map(int,input().split()))\n",
        "num=int(input())\n",
        "diff=int(input())\n",
        "print(findcount(arr,length,num,diff))\n"
      ]
    },
    {
      "cell_type": "code",
      "execution_count": null,
      "metadata": {
        "id": "uTeIvaxwyQ5I"
      },
      "outputs": [],
      "source": [
        "Implement the following Function\n",
        "\n",
        "def differenceofSum(n. m)\n",
        "\n",
        "The function accepts two integers n, m as arguments Find the sum of all numbers in range from 1 to m(both inclusive) that are not divisible by n. Return difference between sum of integers not divisible by n with sum of numbers divisible by n.\n",
        "\n",
        "Assumption:\n",
        "\n",
        "n>0 and m>0\n",
        "\n",
        "Sum lies between integral range\n",
        "\n",
        "Example\n",
        "\n",
        "Input\n",
        "\n",
        "n:4\n",
        "\n",
        "m:20\n",
        "\n",
        "Output 90\n",
        "\n",
        "Explanation\n",
        "\n",
        "Sum of numbers divisible by 4 are 4+8+12+16 + 20 = 60\n",
        "\n",
        "Sum of numbers not divisible by 4 are 1+2+3+5\n",
        "\n",
        "+6+7+9+10+11+13+14+15+17+18+19=\n",
        "\n",
        "150\n",
        "\n",
        "Difference 150-60 = 90\n",
        "\n",
        "Sample Input\n",
        "\n",
        "n:3\n",
        "\n",
        "m:10\n",
        "\n",
        "m:10\n",
        "\n",
        "Sample Output\n",
        "\n",
        "19"
      ]
    },
    {
      "cell_type": "code",
      "execution_count": null,
      "metadata": {
        "colab": {
          "base_uri": "https://localhost:8080/"
        },
        "id": "s_0Mdcs_iN0C",
        "outputId": "9496dcc9-a757-4805-81c0-bc1b4d40a685"
      },
      "outputs": [
        {
          "name": "stdout",
          "output_type": "stream",
          "text": [
            "4\n",
            "20\n",
            "90\n"
          ]
        }
      ],
      "source": [
        "n=int(input())\n",
        "m=int(input())\n",
        "sum=0\n",
        "sum2=0\n",
        "for i in range(1,m+1):\n",
        "  if i%n==0:\n",
        "    sum+=i\n",
        "  else:\n",
        "    sum2+=i\n",
        "a=sum2-sum\n",
        "print(a)\n"
      ]
    },
    {
      "cell_type": "markdown",
      "metadata": {
        "id": "q4aWTvVWmfgC"
      },
      "source": [
        "strong number\n",
        "antey 145 tisukunam\n",
        "adhi 1!+4!+5!=145 so idhi strong number\n"
      ]
    },
    {
      "cell_type": "code",
      "execution_count": null,
      "metadata": {
        "colab": {
          "base_uri": "https://localhost:8080/"
        },
        "id": "vH79v1aBmfCF",
        "outputId": "cf1d11b8-fe1c-4152-8449-6c2ed377de63"
      },
      "outputs": [
        {
          "name": "stdout",
          "output_type": "stream",
          "text": [
            "145\n",
            "strong number\n"
          ]
        }
      ],
      "source": [
        "n=int(input())\n",
        "sum=0\n",
        "temp=n\n",
        "while temp>0:\n",
        "  digit=temp%10\n",
        "  fact=1\n",
        "  for i in range(1,digit+1):\n",
        "    fact*=i\n",
        "  sum+=fact\n",
        "  temp//=10\n",
        "if sum==n:\n",
        "  print(\"strong number\")\n",
        "else:\n",
        "  print(\"not a strong number\")\n",
        "\n"
      ]
    },
    {
      "cell_type": "markdown",
      "metadata": {
        "id": "I7GcAvHronbr"
      },
      "source": [
        "Replace Character\n"
      ]
    },
    {
      "cell_type": "code",
      "execution_count": null,
      "metadata": {
        "colab": {
          "base_uri": "https://localhost:8080/"
        },
        "id": "Xj3mO5i4pgzm",
        "outputId": "82d27d44-48b4-441d-e891-27f36788a7ae"
      },
      "outputs": [
        {
          "name": "stdout",
          "output_type": "stream",
          "text": [
            "abc\n",
            "a\n",
            "c\n",
            "cba\n"
          ]
        }
      ],
      "source": [
        "def replacecharacter(s,ch1,ch2):\n",
        "    temp=\"\\0\"\n",
        "    s=s.replace(ch1,temp)\n",
        "    s=s.replace(ch2,ch1)\n",
        "    s=s.replace(temp,ch2)\n",
        "    return s\n",
        "s=input()\n",
        "ch1=input()\n",
        "ch2=input()\n",
        "\n",
        "print(replacecharacter(s,ch1,ch2))\n",
        "\n"
      ]
    },
    {
      "cell_type": "code",
      "execution_count": null,
      "metadata": {
        "colab": {
          "base_uri": "https://localhost:8080/",
          "height": 228
        },
        "id": "bRcZh-8CrefT",
        "outputId": "192a2ac8-19f5-4d09-d3bc-37cf79d09f99"
      },
      "outputs": [
        {
          "name": "stdout",
          "output_type": "stream",
          "text": [
            "abcde\n"
          ]
        },
        {
          "ename": "TypeError",
          "evalue": "'str' object cannot be interpreted as an integer",
          "output_type": "error",
          "traceback": [
            "\u001b[0;31m---------------------------------------------------------------------------\u001b[0m",
            "\u001b[0;31mTypeError\u001b[0m                                 Traceback (most recent call last)",
            "\u001b[0;32m<ipython-input-15-7da7120a461a>\u001b[0m in \u001b[0;36m<cell line: 2>\u001b[0;34m()\u001b[0m\n\u001b[1;32m      1\u001b[0m \u001b[0mstring\u001b[0m\u001b[0;34m=\u001b[0m\u001b[0;34m(\u001b[0m\u001b[0minput\u001b[0m\u001b[0;34m(\u001b[0m\u001b[0;34m)\u001b[0m\u001b[0;34m)\u001b[0m\u001b[0;34m\u001b[0m\u001b[0;34m\u001b[0m\u001b[0m\n\u001b[0;32m----> 2\u001b[0;31m \u001b[0;32mfor\u001b[0m \u001b[0mi\u001b[0m \u001b[0;32min\u001b[0m \u001b[0mrange\u001b[0m\u001b[0;34m(\u001b[0m\u001b[0mstring\u001b[0m\u001b[0;34m)\u001b[0m\u001b[0;34m:\u001b[0m\u001b[0;34m\u001b[0m\u001b[0;34m\u001b[0m\u001b[0m\n\u001b[0m\u001b[1;32m      3\u001b[0m   \u001b[0;32mfor\u001b[0m \u001b[0mj\u001b[0m \u001b[0;32min\u001b[0m \u001b[0mrange\u001b[0m\u001b[0;34m(\u001b[0m\u001b[0mstring\u001b[0m\u001b[0;34m)\u001b[0m\u001b[0;34m:\u001b[0m\u001b[0;34m\u001b[0m\u001b[0;34m\u001b[0m\u001b[0m\n\u001b[1;32m      4\u001b[0m     \u001b[0;32mif\u001b[0m \u001b[0;34m(\u001b[0m\u001b[0mi\u001b[0m\u001b[0;34m==\u001b[0m\u001b[0mj\u001b[0m \u001b[0;32mor\u001b[0m \u001b[0mi\u001b[0m\u001b[0;34m+\u001b[0m\u001b[0mj\u001b[0m\u001b[0;34m==\u001b[0m \u001b[0;34m(\u001b[0m\u001b[0mstring\u001b[0m\u001b[0;34m)\u001b[0m\u001b[0;34m-\u001b[0m\u001b[0;36m1\u001b[0m\u001b[0;34m)\u001b[0m\u001b[0;34m:\u001b[0m\u001b[0;34m\u001b[0m\u001b[0;34m\u001b[0m\u001b[0m\n\u001b[1;32m      5\u001b[0m       \u001b[0mprint\u001b[0m\u001b[0;34m(\u001b[0m\u001b[0mstring\u001b[0m\u001b[0;34m[\u001b[0m\u001b[0mi\u001b[0m\u001b[0;34m]\u001b[0m\u001b[0;34m,\u001b[0m\u001b[0mend\u001b[0m\u001b[0;34m=\u001b[0m\u001b[0;34m\"\"\u001b[0m\u001b[0;34m)\u001b[0m\u001b[0;34m\u001b[0m\u001b[0;34m\u001b[0m\u001b[0m\n",
            "\u001b[0;31mTypeError\u001b[0m: 'str' object cannot be interpreted as an integer"
          ]
        }
      ],
      "source": [
        "string=(input())\n",
        "for i in range(string):\n",
        "  for j in range(string):\n",
        "    if (i==j or i+j== (string)-1):\n",
        "      print(string[i],end=\"\")\n",
        "    else:\n",
        "      print(' ',end='')\n",
        "  print()\n",
        "\n"
      ]
    },
    {
      "cell_type": "markdown",
      "metadata": {
        "id": "X_FyhOYuwbyV"
      },
      "source": [
        "Write a program to print the following output for the given input. you can assume the string is of odd length.\n",
        "\n",
        "Example 1:\n",
        "\n",
        "Input: Welcomezohocorporations\n",
        "\n",
        "Output:\n",
        "\n",
        "Example 2:\n",
        "\n",
        "Input: 12345\n"
      ]
    },
    {
      "cell_type": "code",
      "execution_count": null,
      "metadata": {
        "colab": {
          "base_uri": "https://localhost:8080/"
        },
        "id": "Jr4ZoD4_poe5",
        "outputId": "87148257-c256-4d1e-c3f6-6e396fea985f"
      },
      "outputs": [
        {
          "name": "stdout",
          "output_type": "stream",
          "text": [
            "Enter a string: abcde\n",
            "a   e\n",
            " b d \n",
            "  c  \n",
            " b d \n",
            "a   e\n"
          ]
        }
      ],
      "source": [
        "string = input(\"Enter a string: \")\n",
        "n = len(string)\n",
        "\n",
        "for i in range(n):\n",
        "    for j in range(n):\n",
        "        if i == j:\n",
        "            print(string[i], end=\"\")\n",
        "        elif i + j == n - 1:\n",
        "            print(string[j], end=\"\")\n",
        "        else:\n",
        "            print(' ', end=\"\")\n",
        "    print()\n"
      ]
    },
    {
      "cell_type": "code",
      "execution_count": null,
      "metadata": {
        "id": "73QG3BxDQwag"
      },
      "outputs": [],
      "source": [
        "def function(arr,n,m):\n",
        "  count=0\n",
        "  for i in range(N):\n",
        "    diff=arr[i]-n\n",
        "    if(diff<m)\n",
        "    count+=1\n",
        "  return(diff)\n",
        "arr=list(map(int,input().split()))\n",
        "n,m = map(int,input().split())\n",
        "\n"
      ]
    },
    {
      "cell_type": "code",
      "execution_count": null,
      "metadata": {
        "colab": {
          "base_uri": "https://localhost:8080/"
        },
        "id": "pmIK1-oOIMbf",
        "outputId": "e9f111e1-aa2a-44ed-b4e8-c3e230e0b1ed"
      },
      "outputs": [
        {
          "name": "stdout",
          "output_type": "stream",
          "text": [
            "2 20 3 30 4 40\n",
            "6\n",
            "2 40 20 4 3 30 None\n"
          ]
        }
      ],
      "source": [
        "def rearrangement( arr, m):\n",
        "  l=sorted(arr)\n",
        "  i=0\n",
        "  j=m-1\n",
        "  for i in range(m//2):\n",
        "    print(arr[i],arr[j],end=\" \")\n",
        "    j-=1\n",
        "  if (m%2==1):\n",
        "    print (arr [j])\n",
        "arr=list(map(int,input().split()))\n",
        "m=int(input())\n",
        "print(rearrangement( arr, m))\n"
      ]
    },
    {
      "cell_type": "markdown",
      "metadata": {
        "id": "Tqnh7rrPm5Q1"
      },
      "source": [
        "[9:06 pm, 21/08/2024] Abhinaya❤️: Question 24[Acc - 20221\n",
        "\n",
        "nel515\n",
        "\n",
        "Numerological reduction Problem statement\n",
        "\n",
        "Nammogical reduction of a nurniser is the sum of digit calculated recurniively until the resulting value is a singl You are given a function, int Find Numerological Reductice\n",
        "\n",
        "The function accepts ir positive intiger 'n'.\n",
        "\n",
        "Implement the function to find and return the numerological reduction of 'n Assumption n>0\n",
        "input:\n",
        "3541\n",
        "Output\n",
        "4\n",
        "Explanation\n",
        "\n",
        "3245 3+2+4+5=1414-14-5\n",
        "\n",
        "Hence 5 is the numerological reduction of 3245"
      ]
    },
    {
      "cell_type": "code",
      "execution_count": null,
      "metadata": {
        "colab": {
          "base_uri": "https://localhost:8080/"
        },
        "id": "8jNb_JQ8UFOE",
        "outputId": "0a01608d-7b87-43ab-df99-f433fa7246a2"
      },
      "outputs": [
        {
          "name": "stdout",
          "output_type": "stream",
          "text": [
            "3541\n",
            "4\n"
          ]
        }
      ],
      "source": [
        "n=int(input())\n",
        "if (n==0):\n",
        "  print(0)\n",
        "if(n%9==0):\n",
        "  print(9)\n",
        "else:\n",
        "  print(n%9)\n",
        "\n",
        "\n"
      ]
    },
    {
      "cell_type": "code",
      "execution_count": null,
      "metadata": {
        "colab": {
          "base_uri": "https://localhost:8080/"
        },
        "id": "NVrdEZOHlr_o",
        "outputId": "94dd857e-2543-412d-ce9d-4e7fad4d3697"
      },
      "outputs": [
        {
          "name": "stdout",
          "output_type": "stream",
          "text": [
            "3541\n",
            "4\n"
          ]
        }
      ],
      "source": [
        "def numerogical(n):\n",
        "  while(n>=10):\n",
        "    sum=0\n",
        "    while(n>0 or n>9):\n",
        "      sum+=n%10\n",
        "      n=n//10\n",
        "    n=sum\n",
        "  return(n)\n",
        "n=int(input())\n",
        "print(numerogical(n))\n"
      ]
    },
    {
      "cell_type": "code",
      "execution_count": null,
      "metadata": {
        "colab": {
          "base_uri": "https://localhost:8080/"
        },
        "id": "I1MGl1ieX6L_",
        "outputId": "47b460a2-dee5-4735-8628-549267b6126c"
      },
      "outputs": [
        {
          "name": "stdout",
          "output_type": "stream",
          "text": [
            "3541\n",
            "4\n"
          ]
        }
      ],
      "source": [
        "n=int(input())\n",
        "while(n>=10):\n",
        "  sum=0\n",
        "  while(n>0 or n>9):\n",
        "    sum+=n%10\n",
        "    n=n//10\n",
        "  n=sum\n",
        "print(n)\n"
      ]
    },
    {
      "cell_type": "code",
      "execution_count": null,
      "metadata": {
        "colab": {
          "base_uri": "https://localhost:8080/"
        },
        "id": "EV_CPK5hYjqG",
        "outputId": "7ccc62be-7ede-4576-f358-1d7e80c926d2"
      },
      "outputs": [
        {
          "name": "stdout",
          "output_type": "stream",
          "text": [
            "[1, 2, 10, 3, 4, 5]\n"
          ]
        }
      ],
      "source": [
        "a=[1,2,3,4,5]\n",
        "a.insert(2,10)\n",
        "print(a)"
      ]
    },
    {
      "cell_type": "code",
      "execution_count": null,
      "metadata": {
        "colab": {
          "base_uri": "https://localhost:8080/"
        },
        "id": "RrUoHtxZwjM9",
        "outputId": "602b7581-9f9c-45ff-d140-9becdd30a67d"
      },
      "outputs": [
        {
          "name": "stdout",
          "output_type": "stream",
          "text": [
            "[1, 2, 3, 4, 5, 10]\n"
          ]
        }
      ],
      "source": [
        "a=[1,2,3,4,5]\n",
        "a.append(10)\n",
        "print(a)"
      ]
    },
    {
      "cell_type": "markdown",
      "metadata": {
        "id": "jBkklIlB07mU"
      },
      "source": [
        "insert a number\n"
      ]
    },
    {
      "cell_type": "code",
      "execution_count": null,
      "metadata": {
        "colab": {
          "base_uri": "https://localhost:8080/"
        },
        "id": "iom2MeiLyvmQ",
        "outputId": "899ef838-0be7-48c2-c552-d7968ec498a8"
      },
      "outputs": [
        {
          "name": "stdout",
          "output_type": "stream",
          "text": [
            "1\n",
            "2\n",
            "10\n",
            "3\n",
            "4\n",
            "5\n"
          ]
        }
      ],
      "source": [
        "a=[1,2,3,4,5]\n",
        "index=2\n",
        "for i in range(len(a)):\n",
        "  if(i==index):\n",
        "    print(\"10\")\n",
        "    print(a[i])\n",
        "  else:\n",
        "    print(a[i])\n"
      ]
    },
    {
      "cell_type": "markdown",
      "metadata": {
        "id": "_OVwQodTdr-4"
      },
      "source": [
        "palindrome or not"
      ]
    },
    {
      "cell_type": "code",
      "execution_count": null,
      "metadata": {
        "colab": {
          "base_uri": "https://localhost:8080/"
        },
        "id": "WcZCn6i5JaYM",
        "outputId": "18cd1a5c-2b58-4743-ed9d-01288b963f20"
      },
      "outputs": [
        {
          "name": "stdout",
          "output_type": "stream",
          "text": [
            "Enter a string: madam\n",
            "Palindrome\n"
          ]
        }
      ],
      "source": [
        "rr = input(\"Enter a string: \")\n",
        "n = len(arr)\n",
        "i = 0\n",
        "j = n - 1\n",
        "\n",
        "is_palindrome = True\n",
        "\n",
        "while i < j:\n",
        "    if arr[i] != arr[j]:\n",
        "        is_palindrome = False\n",
        "        break\n",
        "    i += 1\n",
        "    j -= 1\n",
        "\n",
        "if is_palindrome:\n",
        "    print(\"Palindrome\")\n",
        "else:\n",
        "    print(\"Not a palindrome\")\n"
      ]
    },
    {
      "cell_type": "markdown",
      "metadata": {
        "id": "fzH-WIplkknD"
      },
      "source": [
        "comparing of maximum array and give that two numbers"
      ]
    },
    {
      "cell_type": "markdown",
      "metadata": {
        "id": "VwMilhMZkkjw"
      },
      "source": []
    },
    {
      "cell_type": "code",
      "execution_count": null,
      "metadata": {
        "id": "btKjR28eOkzI"
      },
      "outputs": [],
      "source": [
        "a=[]\n",
        "for _ in range(int(input(\"Enter number of rows: \"))):\n",
        "    row = list(map(int, input().split()))\n",
        "    a.append(row)\n",
        "\n",
        "n = len(a)\n",
        "m = len(a[0])\n",
        "for i in range(n-1):\n",
        "  for j in range(m-1):\n",
        "    if(max(a[i][j]>a[i+1][j+1])):\n",
        "      print(a[i][j])\n",
        "    else:\n",
        "      print(a[i+1][j+1])\n"
      ]
    },
    {
      "cell_type": "markdown",
      "metadata": {
        "id": "kuiPHrUfiPfF"
      },
      "source": [
        "Given two integers a and b, your task is to determine the sum of the cubes of all numbers in the range from a to b,\n",
        "\n",
        "sample test case:\n",
        "\n",
        "Input: a = 4 b = 9\n",
        "\n",
        "Code displays at the end\n",
        "\n",
        "Ouput: 1989"
      ]
    },
    {
      "cell_type": "code",
      "execution_count": null,
      "metadata": {
        "colab": {
          "base_uri": "https://localhost:8080/"
        },
        "id": "SciWMMzxeJRg",
        "outputId": "27b597e9-a1be-43ff-bf81-b4ceecb0dc65"
      },
      "outputs": [
        {
          "name": "stdout",
          "output_type": "stream",
          "text": [
            "4\n",
            "9\n",
            "64\n",
            "189\n",
            "405\n",
            "748\n",
            "1260\n",
            "1989\n"
          ]
        }
      ],
      "source": [
        "a=int(input())\n",
        "b=int(input())\n",
        "sum=0\n",
        "for i in range(a,b+1):\n",
        "  sum+=pow(i,3)\n",
        "  print(sum)"
      ]
    },
    {
      "cell_type": "code",
      "execution_count": null,
      "metadata": {
        "colab": {
          "base_uri": "https://localhost:8080/"
        },
        "id": "x3x7ILezg4MO",
        "outputId": "11dbb57e-2c14-44a3-9e93-f42096dade4e"
      },
      "outputs": [
        {
          "name": "stdout",
          "output_type": "stream",
          "text": [
            "4\n",
            "9\n",
            "64\n",
            "189\n",
            "405\n",
            "748\n",
            "1260\n",
            "1989\n"
          ]
        }
      ],
      "source": [
        "a=int(input())\n",
        "b=int(input())\n",
        "sum=0\n",
        "for i in range(a,b+1):\n",
        "  cubes=i*i*i\n",
        "  sum+=cubes\n",
        "  print(sum)"
      ]
    },
    {
      "cell_type": "markdown",
      "metadata": {
        "id": "1y1SyFBW3okE"
      },
      "source": [
        "Question 1\n",
        "\n",
        "How to Attempt\n",
        "\n",
        "Even Odd\n",
        "\n",
        "Jack has an array A of length N. He wants to besteh the array is even or odd. Your task is helplan find ans with labels even or odd in sequencingconting to wh\n",
        "\n",
        "appear in the artay\n",
        "\n",
        "Input Specification:\n",
        "\n",
        "input1: An integer array A, representing the anayofunters\n",
        "\n",
        "Input2: A integer N. representing the length of atay\n",
        "\n",
        "Output Specification:\n",
        "\n",
        "Retum a string with labels even or odd in lequince konding to whi the numbers appear in the array.\n",
        "\n"
      ]
    },
    {
      "cell_type": "code",
      "execution_count": null,
      "metadata": {
        "colab": {
          "base_uri": "https://localhost:8080/"
        },
        "id": "dfMwipgG2dsj",
        "outputId": "55159b9f-1052-4c1b-adeb-3288ebace110"
      },
      "outputs": [
        {
          "name": "stdout",
          "output_type": "stream",
          "text": [
            "EvenOddEven\n"
          ]
        }
      ],
      "source": [
        "concat = \"\"\n",
        "A = [2, 3, 4]\n",
        "for i in A:\n",
        "    if i % 2 == 0:\n",
        "        concat += \"Even\"\n",
        "    else:\n",
        "        concat += \"Odd\"\n",
        "print(concat)\n"
      ]
    },
    {
      "cell_type": "code",
      "execution_count": null,
      "metadata": {
        "colab": {
          "base_uri": "https://localhost:8080/"
        },
        "id": "i6WeM7I02-Bt",
        "outputId": "8fbd6abc-ec89-4972-e96d-9fe891a037ec"
      },
      "outputs": [
        {
          "name": "stdout",
          "output_type": "stream",
          "text": [
            "EvenOddEven"
          ]
        }
      ],
      "source": [
        "A = [2,3,4]\n",
        "for i in A:\n",
        "  if i%2==0:\n",
        "    print(\"Even\",end=\"\")\n",
        "  else:\n",
        "    print(\"Odd\",end=\"\")\n"
      ]
    },
    {
      "cell_type": "markdown",
      "metadata": {
        "id": "V4-U0Ffwx8Mw"
      },
      "source": [
        "automarphic"
      ]
    },
    {
      "cell_type": "code",
      "execution_count": null,
      "metadata": {
        "colab": {
          "base_uri": "https://localhost:8080/"
        },
        "id": "RnLCxj2Ox-v8",
        "outputId": "63b1eb13-6ea2-4c54-b52f-620a786eb7bf"
      },
      "outputs": [
        {
          "name": "stdout",
          "output_type": "stream",
          "text": [
            "5\n",
            "automarphic\n"
          ]
        }
      ],
      "source": [
        "n=int(input())\n",
        "m=n*n\n",
        "num=m%10\n",
        "if num==n:\n",
        "  print(\"automarphic\")\n",
        "else:\n",
        "  print(\"not automarphic\")"
      ]
    },
    {
      "cell_type": "markdown",
      "metadata": {
        "id": "R4Au4ifqzEuf"
      },
      "source": [
        "abundent number antey ippudu 12 ki factor kattatamu tarwata aa factors ni sum cheystamu appudu adhi 12 kanna ekkuva vastaey adhi abudant number"
      ]
    },
    {
      "cell_type": "code",
      "execution_count": null,
      "metadata": {
        "colab": {
          "base_uri": "https://localhost:8080/"
        },
        "id": "KXn61BFNz2uY",
        "outputId": "73192348-b8de-4ebd-8718-38922d28f1a7"
      },
      "outputs": [
        {
          "name": "stdout",
          "output_type": "stream",
          "text": [
            "12\n",
            "abundent\n"
          ]
        }
      ],
      "source": [
        "n=int(input())\n",
        "sum=0\n",
        "for i in range(1,n):\n",
        "  if n%i==0:\n",
        "    sum+=i\n",
        "if (sum>n):\n",
        "  print(\"abundent\")\n",
        "else:\n",
        "  print(\"not abundant\")\n"
      ]
    },
    {
      "cell_type": "code",
      "execution_count": null,
      "metadata": {
        "colab": {
          "base_uri": "https://localhost:8080/"
        },
        "id": "r6PhygFq4JPI",
        "outputId": "75692633-cc41-4042-ff12-9d6dcb7882d3"
      },
      "outputs": [
        {
          "name": "stdout",
          "output_type": "stream",
          "text": [
            "Harshad\n"
          ]
        }
      ],
      "source": [
        "n = 21\n",
        "sum = 0\n",
        "while n > 0:\n",
        "    rem = n % 10\n",
        "    sum += rem\n",
        "    n = n // 10\n",
        "if n % sum == 0:\n",
        "    print(\"Harshad\")\n",
        "else:\n",
        "    print(\"Not Harshad\")\n"
      ]
    },
    {
      "cell_type": "markdown",
      "metadata": {
        "id": "bu-KBmkX4law"
      },
      "source": [
        "perfect number"
      ]
    },
    {
      "cell_type": "code",
      "execution_count": null,
      "metadata": {
        "colab": {
          "base_uri": "https://localhost:8080/"
        },
        "id": "EuZ1cSC34hlq",
        "outputId": "f32ee2a4-f4d5-4e11-e44c-707689ba839e"
      },
      "outputs": [
        {
          "name": "stdout",
          "output_type": "stream",
          "text": [
            "12\n",
            "not perfect\n"
          ]
        }
      ],
      "source": [
        "n=int(input())\n",
        "sum=0\n",
        "for i in range(1,n):\n",
        "  if n%i==0:\n",
        "    sum+=i\n",
        "if (sum==n):\n",
        "  print(\"perfect\")\n",
        "else:\n",
        "  print(\"not perfect\")\n"
      ]
    },
    {
      "cell_type": "markdown",
      "metadata": {
        "id": "uB4xcjKW6xFO"
      },
      "source": []
    },
    {
      "cell_type": "markdown",
      "metadata": {
        "id": "XCOgq2qe7pFn"
      },
      "source": [
        "friendly pair lo two numbers tesukoni vatiki factors kadatam for ex:6 28 tisukunnam avi 6 factors + cheysey same 6 vachindhi antey antey adhi divide cheystam like 6/6 and inko number tisukoni alagey cheystam so ippudu first and second number values same  avutey adhi friendly pair"
      ]
    },
    {
      "cell_type": "code",
      "execution_count": null,
      "metadata": {
        "colab": {
          "base_uri": "https://localhost:8080/"
        },
        "id": "-OQtfQge6rHO",
        "outputId": "d000a239-37c9-482e-b1ad-9fd56799dc21"
      },
      "outputs": [
        {
          "name": "stdout",
          "output_type": "stream",
          "text": [
            "6\n",
            "28\n",
            "friendly pair\n"
          ]
        }
      ],
      "source": [
        "n1=int(input())\n",
        "n2=int(input())\n",
        "sum1=0\n",
        "sum2=0\n",
        "for i in range(1,n1):\n",
        "  if n1%i==0:\n",
        "    sum1+=i\n",
        "for j in range(1,n2):\n",
        "  if n2%j==0:\n",
        "    sum2+=j\n",
        "if sum1//n1==sum2//n2:\n",
        "  print(\"friendly pair\")\n",
        "else:\n",
        "  print(\"not friendly pair\")"
      ]
    },
    {
      "cell_type": "markdown",
      "metadata": {
        "id": "UlO_YRxE9c_l"
      },
      "source": [
        "perfect square"
      ]
    },
    {
      "cell_type": "markdown",
      "metadata": {
        "id": "zhP_wCI6_4Zk"
      },
      "source": [
        "first ichina number ni square cheyali tarwata vachina nunber  ni sruare cheystey ichina number ravali for ex:25 ni root cheystey 5 vastadhi appudu 5*5 cheystey ichina number vastey adhi perfect squa"
      ]
    },
    {
      "cell_type": "code",
      "execution_count": null,
      "metadata": {
        "colab": {
          "base_uri": "https://localhost:8080/"
        },
        "id": "OC61-8KZ-nw7",
        "outputId": "48b7c428-886c-4198-8f59-98b05560b35f"
      },
      "outputs": [
        {
          "name": "stdout",
          "output_type": "stream",
          "text": [
            "25\n",
            "perfect square\n"
          ]
        }
      ],
      "source": [
        "n=int(input())\n",
        "for i in range(1,n):\n",
        "  if i*i==n:\n",
        "    print(\"perfect square\")\n",
        "    break\n",
        "else:\n",
        "  print(\"not perfect square\")"
      ]
    },
    {
      "cell_type": "code",
      "execution_count": null,
      "metadata": {
        "colab": {
          "base_uri": "https://localhost:8080/"
        },
        "id": "5NmevcWKkNZU",
        "outputId": "bb7c5bc1-8679-465e-ea08-4b5aa0fe86da"
      },
      "outputs": [
        {
          "name": "stdout",
          "output_type": "stream",
          "text": [
            "2\n"
          ]
        }
      ],
      "source": [
        "n=\"hello\"\n",
        "m=\"l\"\n",
        "count=0\n",
        "for i in  n:\n",
        "  if i==m:\n",
        "    count+=1\n",
        "print(count)\n",
        "\n"
      ]
    },
    {
      "cell_type": "code",
      "execution_count": null,
      "metadata": {
        "colab": {
          "base_uri": "https://localhost:8080/"
        },
        "id": "K_AAfMRfpTRB",
        "outputId": "5ca47a75-ca1b-4c16-b2bc-c5ab5380dffa"
      },
      "outputs": [
        {
          "name": "stdout",
          "output_type": "stream",
          "text": [
            "abhi NAYA\n"
          ]
        }
      ],
      "source": [
        "n=\"abhi\"\n",
        "m=\"naya\"\n",
        "print(n.lower()+\" \"+m.upper())\n"
      ]
    },
    {
      "cell_type": "markdown",
      "metadata": {
        "id": "og7zAmcM5Hv6"
      },
      "source": [
        "operations on strings"
      ]
    },
    {
      "cell_type": "markdown",
      "metadata": {
        "id": "5QkWpUFg5RDb"
      },
      "source": [
        "finding vowels or not"
      ]
    },
    {
      "cell_type": "code",
      "execution_count": null,
      "metadata": {
        "colab": {
          "background_save": true
        },
        "id": "-lzGSyyd4rOX",
        "outputId": "37496fc4-bccf-4693-8567-be8de8bf4fef"
      },
      "outputs": [
        {
          "name": "stdout",
          "output_type": "stream",
          "text": [
            "vowel\n"
          ]
        }
      ],
      "source": [
        "c=input()\n",
        "vowels=\"aeiouAEIOU\"\n",
        "if c in vowels:\n",
        "  print(\"vowel\")\n",
        "else:\n",
        "  print(\"not vowel\")"
      ]
    },
    {
      "cell_type": "code",
      "execution_count": null,
      "metadata": {
        "colab": {
          "base_uri": "https://localhost:8080/"
        },
        "id": "CFT19FBERouy",
        "outputId": "574a2f2e-f25c-4bc5-a2ae-a93a6f69e803"
      },
      "outputs": [
        {
          "name": "stdout",
          "output_type": "stream",
          "text": [
            "a\n",
            "vowel\n"
          ]
        }
      ],
      "source": [
        "c=input()\n",
        "for i in c:\n",
        "  if(i==\"a\" or i==\"e\" or i==\"i\" or i==\"o\" or i==\"u\"):\n",
        "    print(\"vowel\")\n",
        "  else:\n",
        "    print(\"not vowel\")"
      ]
    },
    {
      "cell_type": "markdown",
      "metadata": {
        "id": "c4l1YAVHSwWs"
      },
      "source": [
        "count of vowels and consonent"
      ]
    },
    {
      "cell_type": "code",
      "execution_count": null,
      "metadata": {
        "colab": {
          "base_uri": "https://localhost:8080/"
        },
        "id": "zy8diVAwSRoY",
        "outputId": "57e16b34-9594-4930-b041-2ef30b304bb0"
      },
      "outputs": [
        {
          "name": "stdout",
          "output_type": "stream",
          "text": [
            "abhi\n",
            "vowel 2\n",
            "consonent 2\n"
          ]
        }
      ],
      "source": [
        "ch=input()\n",
        "c=0\n",
        "v=0\n",
        "for i in ch:\n",
        "  if(i==\"a\" or i==\"e\" or i==\"i\" or i==\"o\" or i==\"u\"):\n",
        "    v+=1\n",
        "  else:\n",
        "    c+=1\n",
        "print(\"vowel\",v)\n",
        "print(\"consonent\",c)\n",
        "\n"
      ]
    },
    {
      "cell_type": "markdown",
      "metadata": {
        "id": "jdlR67psTOAe"
      },
      "source": [
        "printing asci numbers while giving letters"
      ]
    },
    {
      "cell_type": "code",
      "execution_count": null,
      "metadata": {
        "colab": {
          "base_uri": "https://localhost:8080/"
        },
        "id": "cmIDkfPHS2lU",
        "outputId": "aa6a18c4-059c-4f7d-80d9-17fb23a094f7"
      },
      "outputs": [
        {
          "name": "stdout",
          "output_type": "stream",
          "text": [
            "@\n",
            "64\n"
          ]
        }
      ],
      "source": [
        "a=input()\n",
        "b=ord(a)\n",
        "print(b)"
      ]
    },
    {
      "cell_type": "markdown",
      "metadata": {
        "id": "HpZdfSJyUAGQ"
      },
      "source": [
        "printing asci letters while giving numbers"
      ]
    },
    {
      "cell_type": "code",
      "execution_count": null,
      "metadata": {
        "colab": {
          "base_uri": "https://localhost:8080/"
        },
        "id": "-JPYCFNwTMta",
        "outputId": "73c58661-eb2a-4a1e-e3c4-a9a015380b09"
      },
      "outputs": [
        {
          "name": "stdout",
          "output_type": "stream",
          "text": [
            "97\n",
            "a\n"
          ]
        }
      ],
      "source": [
        "a=int(input())\n",
        "b=chr(a)\n",
        "print(b)\n"
      ]
    },
    {
      "cell_type": "code",
      "execution_count": null,
      "metadata": {
        "colab": {
          "base_uri": "https://localhost:8080/"
        },
        "id": "qD92FQRvT4df",
        "outputId": "69501a36-e610-484c-8085-c386efcc26a6"
      },
      "outputs": [
        {
          "name": "stdout",
          "output_type": "stream",
          "text": [
            "d\n",
            "alphabet d\n"
          ]
        }
      ],
      "source": [
        "ch=input()\n",
        "if('a'<=ch<='z' or 'A'<=ch<='Z'):\n",
        "    print(\"alphabet\",ch)\n",
        "else:\n",
        "    print(\"not alphabet\",ch)\n"
      ]
    },
    {
      "cell_type": "code",
      "execution_count": null,
      "metadata": {
        "colab": {
          "base_uri": "https://localhost:8080/"
        },
        "id": "729BvLyB-3vl",
        "outputId": "9e5e2873-ec41-496e-911d-fdfb26686b75"
      },
      "outputs": [
        {
          "name": "stdout",
          "output_type": "stream",
          "text": [
            "DeVI\n",
            " dEvi\n"
          ]
        }
      ],
      "source": [
        "str=input()\n",
        "str1=\" \"\n",
        "for i in str:\n",
        "  if(i.isupper()):\n",
        "    str1+=i.lower()\n",
        "  else:\n",
        "    str1+=i.upper()\n",
        "print(str1)"
      ]
    },
    {
      "cell_type": "code",
      "execution_count": null,
      "metadata": {
        "colab": {
          "base_uri": "https://localhost:8080/"
        },
        "id": "1MZDwNFWDJ7r",
        "outputId": "2e8c404c-bb0d-48d1-b1d0-5fefe95b8713"
      },
      "outputs": [
        {
          "name": "stdout",
          "output_type": "stream",
          "text": [
            "abhinaya\n",
            "ABHINAYA\n"
          ]
        }
      ],
      "source": [
        "n=input()\n",
        "print(n.swapcase())\n"
      ]
    },
    {
      "cell_type": "code",
      "execution_count": null,
      "metadata": {
        "colab": {
          "base_uri": "https://localhost:8080/"
        },
        "id": "_QdOb6KiENQe",
        "outputId": "5dda89c1-3542-46d6-c909-a03df3b784f0"
      },
      "outputs": [
        {
          "name": "stdout",
          "output_type": "stream",
          "text": [
            "ayanihba\n",
            "abhinaya\n"
          ]
        }
      ],
      "source": [
        "str=input()\n",
        "str=str[::-1]\n",
        "print(str)"
      ]
    },
    {
      "cell_type": "markdown",
      "metadata": {
        "id": "t3LJhCGsow3L"
      },
      "source": [
        "display calendar in python"
      ]
    },
    {
      "cell_type": "code",
      "execution_count": null,
      "metadata": {
        "colab": {
          "base_uri": "https://localhost:8080/"
        },
        "id": "dfjJzuvmjJJ7",
        "outputId": "3d575af0-f3c1-4e1c-cea5-0ca14d53698f"
      },
      "outputs": [
        {
          "name": "stdout",
          "output_type": "stream",
          "text": [
            "                                  2024\n",
            "\n",
            "      January                   February                   March\n",
            "Mo Tu We Th Fr Sa Su      Mo Tu We Th Fr Sa Su      Mo Tu We Th Fr Sa Su\n",
            " 1  2  3  4  5  6  7                1  2  3  4                   1  2  3\n",
            " 8  9 10 11 12 13 14       5  6  7  8  9 10 11       4  5  6  7  8  9 10\n",
            "15 16 17 18 19 20 21      12 13 14 15 16 17 18      11 12 13 14 15 16 17\n",
            "22 23 24 25 26 27 28      19 20 21 22 23 24 25      18 19 20 21 22 23 24\n",
            "29 30 31                  26 27 28 29               25 26 27 28 29 30 31\n",
            "\n",
            "       April                      May                       June\n",
            "Mo Tu We Th Fr Sa Su      Mo Tu We Th Fr Sa Su      Mo Tu We Th Fr Sa Su\n",
            " 1  2  3  4  5  6  7             1  2  3  4  5                      1  2\n",
            " 8  9 10 11 12 13 14       6  7  8  9 10 11 12       3  4  5  6  7  8  9\n",
            "15 16 17 18 19 20 21      13 14 15 16 17 18 19      10 11 12 13 14 15 16\n",
            "22 23 24 25 26 27 28      20 21 22 23 24 25 26      17 18 19 20 21 22 23\n",
            "29 30                     27 28 29 30 31            24 25 26 27 28 29 30\n",
            "\n",
            "        July                     August                  September\n",
            "Mo Tu We Th Fr Sa Su      Mo Tu We Th Fr Sa Su      Mo Tu We Th Fr Sa Su\n",
            " 1  2  3  4  5  6  7                1  2  3  4                         1\n",
            " 8  9 10 11 12 13 14       5  6  7  8  9 10 11       2  3  4  5  6  7  8\n",
            "15 16 17 18 19 20 21      12 13 14 15 16 17 18       9 10 11 12 13 14 15\n",
            "22 23 24 25 26 27 28      19 20 21 22 23 24 25      16 17 18 19 20 21 22\n",
            "29 30 31                  26 27 28 29 30 31         23 24 25 26 27 28 29\n",
            "                                                    30\n",
            "\n",
            "      October                   November                  December\n",
            "Mo Tu We Th Fr Sa Su      Mo Tu We Th Fr Sa Su      Mo Tu We Th Fr Sa Su\n",
            "    1  2  3  4  5  6                   1  2  3                         1\n",
            " 7  8  9 10 11 12 13       4  5  6  7  8  9 10       2  3  4  5  6  7  8\n",
            "14 15 16 17 18 19 20      11 12 13 14 15 16 17       9 10 11 12 13 14 15\n",
            "21 22 23 24 25 26 27      18 19 20 21 22 23 24      16 17 18 19 20 21 22\n",
            "28 29 30 31               25 26 27 28 29 30         23 24 25 26 27 28 29\n",
            "                                                    30 31\n",
            "\n"
          ]
        }
      ],
      "source": [
        "import calendar\n",
        "year=2024\n",
        "\n",
        "print(calendar.calendar(year))"
      ]
    },
    {
      "cell_type": "markdown",
      "metadata": {
        "id": "jeTbyDDPpP71"
      },
      "source": [
        " *******\n",
        "PERFECT NUMBER,\n",
        "PALINDROME,\n",
        "REVERSE STRING OR NUMBER,\n",
        "COUNTING THE INDIVIDUAL NUMBER AND STRING OR CHARACTER.. important for accenture"
      ]
    },
    {
      "cell_type": "code",
      "execution_count": null,
      "metadata": {
        "colab": {
          "base_uri": "https://localhost:8080/"
        },
        "id": "ahI6ppEFo2ww",
        "outputId": "1243c706-1095-4222-a61a-f77cda0e315d"
      },
      "outputs": [
        {
          "name": "stdout",
          "output_type": "stream",
          "text": [
            "5\n",
            "*****\n",
            "   * \n",
            "  *  \n",
            " *   \n",
            "*****\n"
          ]
        }
      ],
      "source": [
        "n=int(input())\n",
        "for i in range(n):\n",
        "  for j in range(n):\n",
        "    if(i==0 or i==n-1 or i+j==n-1):\n",
        "      print(\"*\",end=\"\")\n",
        "    else:\n",
        "      print(\" \",end=\"\")\n",
        "  print()\n"
      ]
    },
    {
      "cell_type": "markdown",
      "metadata": {
        "id": "9uZyGKN9URWM"
      },
      "source": [
        "square star\n"
      ]
    },
    {
      "cell_type": "code",
      "execution_count": null,
      "metadata": {
        "colab": {
          "base_uri": "https://localhost:8080/"
        },
        "id": "aQmOhHmsnYlP",
        "outputId": "d279a852-74f8-47cc-b4c2-087fe2a2f84c"
      },
      "outputs": [
        {
          "name": "stdout",
          "output_type": "stream",
          "text": [
            "* * * * * \n",
            "* * * * * \n",
            "* * * * * \n",
            "* * * * * \n",
            "* * * * * \n"
          ]
        }
      ],
      "source": [
        "i=5\n",
        "for i in range(n):\n",
        "  for j in range(n):\n",
        "    print(\"*\",end=\" \")\n",
        "  print()\n"
      ]
    },
    {
      "cell_type": "code",
      "execution_count": null,
      "metadata": {
        "colab": {
          "base_uri": "https://localhost:8080/"
        },
        "id": "OZPHRVBDXJE4",
        "outputId": "8a2ef8e4-4409-4a13-f761-8f1e5eb444d9"
      },
      "outputs": [
        {
          "name": "stdout",
          "output_type": "stream",
          "text": [
            "* * * * * \n",
            "*       * \n",
            "*       * \n",
            "*       * \n",
            "* * * * * \n"
          ]
        }
      ],
      "source": [
        "n=5\n",
        "for i in range(n):\n",
        "  for j in range(n):\n",
        "    if(i==0 or i==n-1 or j==0 or j==n-1):\n",
        "      print(\"*\",end=\" \")\n",
        "    else:\n",
        "      print(\" \",end=\" \")\n",
        "  print()\n",
        "\n"
      ]
    },
    {
      "cell_type": "code",
      "execution_count": null,
      "metadata": {
        "colab": {
          "base_uri": "https://localhost:8080/"
        },
        "id": "Ny222zqSbN_d",
        "outputId": "1ededf33-7c10-4118-9411-46349bcf171b"
      },
      "outputs": [
        {
          "name": "stdout",
          "output_type": "stream",
          "text": [
            "* * * * * \n",
            "* \n",
            "* * * * * \n",
            "* \n",
            "* * * * * \n"
          ]
        }
      ],
      "source": [
        "n=5\n",
        "for i in range(n):\n",
        "  for j in range(n-j):\n",
        "    print(\"*\",end=\" \")\n",
        "  print()"
      ]
    },
    {
      "cell_type": "code",
      "execution_count": null,
      "metadata": {
        "colab": {
          "base_uri": "https://localhost:8080/"
        },
        "id": "YuWtdsA2CnHW",
        "outputId": "6b9b5152-6bdc-4314-e6f1-2fe5b88b0622"
      },
      "outputs": [
        {
          "name": "stdout",
          "output_type": "stream",
          "text": [
            "2\n",
            "15\n",
            "20\n",
            "-5\n",
            "None\n"
          ]
        }
      ],
      "source": [
        "def OperationChoices(c,a,b):\n",
        "  if c==1:\n",
        "    print(a+b)\n",
        "  elif c==2:\n",
        "    print(a-b)\n",
        "  elif c==3:\n",
        "     print (a*b)\n",
        "  elif c==4:\n",
        "     print (a/b)\n",
        "c=int(input())\n",
        "a=int(input())\n",
        "b=int(input())\n",
        "print(OperationChoices(c,a,b))\n",
        "\n"
      ]
    },
    {
      "cell_type": "code",
      "execution_count": null,
      "metadata": {
        "colab": {
          "base_uri": "https://localhost:8080/"
        },
        "id": "Ki-JEI8Bk1hJ",
        "outputId": "2ab55ef2-f118-4a01-d705-952089622954"
      },
      "outputs": [
        {
          "name": "stdout",
          "output_type": "stream",
          "text": [
            "listen\n",
            "silent\n",
            "Anagram\n"
          ]
        }
      ],
      "source": [
        "def Anagram(a,b):\n",
        "  if sorted(a)==sorted(b):\n",
        "    return(\"Anagram\")\n",
        "  else:\n",
        "    return(\"Not Anagram\")\n",
        "a=input()\n",
        "b=input()\n",
        "print(Anagram(a,b))"
      ]
    },
    {
      "cell_type": "markdown",
      "metadata": {
        "id": "QghpOeSvTnxf"
      },
      "source": [
        "6. Difference Of Sum\n",
        "Write a function differenceofSum(a,b) which will take two integers as\n",
        "an argument. You’ve to obtain the total of all the integers ranging from\n",
        "1 to n (both inclusive) that are not divisible by b. You should also return\n",
        "the distinction between the sum of the integers which are not divisible\n",
        "by b with the sum of the integers divisible by b?\n",
        "Consider: a and b are greater than 0. i.e a>0 and b>0. And their sum\n",
        "should lies between the integral range.\n",
        "Sample Test Case 1:\n",
        "Input:\n",
        "a = 6 and b = 30\n",
        "Output:\n",
        "285"
      ]
    },
    {
      "cell_type": "code",
      "execution_count": null,
      "metadata": {
        "colab": {
          "base_uri": "https://localhost:8080/"
        },
        "id": "CGTQz69utSQW",
        "outputId": "1b7b84af-fd20-42d9-e444-494db45d5351"
      },
      "outputs": [
        {
          "output_type": "stream",
          "name": "stdout",
          "text": [
            "6\n",
            "30\n",
            "285\n"
          ]
        }
      ],
      "source": [
        "def Difference_of_sum(a,b):\n",
        "  sum1=0\n",
        "  sum2=0\n",
        "  while(a>0 and b>0):\n",
        "      for i in range(1,b+1):\n",
        "          if(i%a==0):\n",
        "              sum1+=i\n",
        "          else:\n",
        "            sum2+=i\n",
        "      result=sum2-sum1\n",
        "      return result\n",
        "a=int(input())\n",
        "b=int(input())\n",
        "\n",
        "print(Difference_of_sum(a,b))\n",
        "\n",
        "\n"
      ]
    },
    {
      "cell_type": "code",
      "execution_count": null,
      "metadata": {
        "colab": {
          "base_uri": "https://localhost:8080/"
        },
        "id": "pnKK7fgglTOF",
        "outputId": "58f6aec4-d47b-4b88-d4c7-3c044787ea1f"
      },
      "outputs": [
        {
          "name": "stdout",
          "output_type": "stream",
          "text": [
            "bB1_89\n",
            "1\n"
          ]
        }
      ],
      "source": [
        "def CheckPassword(str,n):\n",
        "    if n<4:\n",
        "        return 0\n",
        "    if str[0] == \" \":\n",
        "        return 0\n",
        "    cap = 0\n",
        "    num = 0\n",
        "    for i in range(n):\n",
        "        if str[i]>='A' and str[i]<='Z':\n",
        "            cap += 1\n",
        "        if str[i] == \" \" or str[i] == \"/\":\n",
        "            return 0\n",
        "        elif str[i].isdigit():\n",
        "            num += 1\n",
        "    if cap > 0 and num > 0:\n",
        "        return 1\n",
        "    else:\n",
        "        return 0\n",
        "str = input()\n",
        "n = len(str)\n",
        "print(CheckPassword(str,n))"
      ]
    },
    {
      "cell_type": "code",
      "source": [
        "num = int(input())\n",
        "\n",
        "for i in range(0, num):\n",
        "    for j in range(i):\n",
        "        print(\" \", end=\"\")\n",
        "    for j in range(0, num):\n",
        "        print(\"*\", end=\"\")\n",
        "    print()\n",
        "\n"
      ],
      "metadata": {
        "colab": {
          "base_uri": "https://localhost:8080/"
        },
        "id": "3nIOKyU316K1",
        "outputId": "40ec0f1b-aecf-46c0-83b4-9b5be9702bef"
      },
      "execution_count": null,
      "outputs": [
        {
          "output_type": "stream",
          "name": "stdout",
          "text": [
            "5\n",
            "*****\n",
            " *****\n",
            "  *****\n",
            "   *****\n",
            "    *****\n"
          ]
        }
      ]
    },
    {
      "cell_type": "code",
      "source": [
        "def string(str):\n",
        "  reverse_word=str[::-1]\n",
        "  return(\"\".join(reverse_word))\n",
        "str=input()\n",
        "print(string(str))"
      ],
      "metadata": {
        "colab": {
          "base_uri": "https://localhost:8080/"
        },
        "id": "0ja9oCQq-3uS",
        "outputId": "a2d9bca9-4f9b-47f8-9012-594fa82848c0"
      },
      "execution_count": null,
      "outputs": [
        {
          "output_type": "stream",
          "name": "stdout",
          "text": [
            "ayanihba\n",
            "abhinaya\n"
          ]
        }
      ]
    },
    {
      "cell_type": "code",
      "source": [
        "def replace_character(s,ch1,ch2):\n",
        "  temp=\"/0\"\n",
        "  s=s.replace(ch1,temp)\n",
        "  s=s.replace(ch2,ch1)\n",
        "  s=s.replace(temp,ch2)\n",
        "  return s\n",
        "s=input()\n",
        "ch1=input()\n",
        "ch2=input()\n",
        "print(replace_character(s,ch1,ch2))\n"
      ],
      "metadata": {
        "colab": {
          "base_uri": "https://localhost:8080/"
        },
        "id": "AbsjxoqhCZpa",
        "outputId": "ec73ac2f-89f5-499a-d481-5d1ff500fef5"
      },
      "execution_count": null,
      "outputs": [
        {
          "output_type": "stream",
          "name": "stdout",
          "text": [
            "tervpro\n",
            "e\n",
            "p\n",
            "tprvero\n"
          ]
        }
      ]
    },
    {
      "cell_type": "code",
      "source": [
        "def find_count(arr,num,diff):\n",
        "  count=0\n",
        "  for i in range(length):\n",
        "    if(abs(arr[i]-num)<=diff):\n",
        "      count+=1\n",
        "  return count\n",
        "arr=list(map(int,input().split()))\n",
        "num=int(input())\n",
        "diff=int(input())\n",
        "print(find_count(arr,num,diff))\n"
      ],
      "metadata": {
        "id": "QGWpX8P3PEvA",
        "colab": {
          "base_uri": "https://localhost:8080/"
        },
        "outputId": "a6a5cf32-827c-4752-801c-4d0d27c6bafc"
      },
      "execution_count": null,
      "outputs": [
        {
          "output_type": "stream",
          "name": "stdout",
          "text": [
            "12 3 14 56 77 13\n",
            "13\n",
            "2\n",
            "3\n"
          ]
        }
      ]
    },
    {
      "cell_type": "code",
      "source": [
        "def calculate(r, unit, arr, n):\n",
        "    if n == 0:\n",
        "        return -1\n",
        "\n",
        "    total = r * unit\n",
        "    food_till_now = 0\n",
        "\n",
        "    for house in range(n):\n",
        "        food_till_now += arr[house]\n",
        "        if food_till_now >= total:\n",
        "            return house + 1\n",
        "    if total > food_till_now:\n",
        "        return 0\n",
        "r = int(input())\n",
        "unit = int(input())\n",
        "n = int(input())\n",
        "arr = list(map(int, input().split()))\n",
        "print(calculate(r, unit, arr, n))\n"
      ],
      "metadata": {
        "colab": {
          "base_uri": "https://localhost:8080/"
        },
        "id": "Z84F6Pt-_jnI",
        "outputId": "3a97fff8-0a34-41db-c4c6-c435b5baa19b"
      },
      "execution_count": null,
      "outputs": [
        {
          "output_type": "stream",
          "name": "stdout",
          "text": [
            "7\n",
            "2\n",
            "6\n",
            "2 6 3 4 5 7\n",
            "4\n"
          ]
        }
      ]
    },
    {
      "cell_type": "code",
      "source": [
        "def find_number(n,arr):\n",
        "  count=0\n",
        "  arr=[0]\n",
        "  for i in range(0,n):\n",
        "    if(arr[i]>arr[i+1]):\n",
        "      count+=1\n",
        "  return count\n",
        "n=int(input())\n",
        "arr=list(map(int,input().split()))\n",
        "print(find_number(n,arr))"
      ],
      "metadata": {
        "id": "zH0VqIOOrYKD",
        "colab": {
          "base_uri": "https://localhost:8080/",
          "height": 332
        },
        "outputId": "b02fd232-5bf7-40d9-a40c-5ed4ddd9e4a5"
      },
      "execution_count": null,
      "outputs": [
        {
          "name": "stdout",
          "output_type": "stream",
          "text": [
            "6\n",
            "6 7 8 9 10 2 13\n"
          ]
        },
        {
          "output_type": "error",
          "ename": "IndexError",
          "evalue": "list index out of range",
          "traceback": [
            "\u001b[0;31m---------------------------------------------------------------------------\u001b[0m",
            "\u001b[0;31mIndexError\u001b[0m                                Traceback (most recent call last)",
            "\u001b[0;32m<ipython-input-1-11dae15a2568>\u001b[0m in \u001b[0;36m<cell line: 10>\u001b[0;34m()\u001b[0m\n\u001b[1;32m      8\u001b[0m \u001b[0mn\u001b[0m\u001b[0;34m=\u001b[0m\u001b[0mint\u001b[0m\u001b[0;34m(\u001b[0m\u001b[0minput\u001b[0m\u001b[0;34m(\u001b[0m\u001b[0;34m)\u001b[0m\u001b[0;34m)\u001b[0m\u001b[0;34m\u001b[0m\u001b[0;34m\u001b[0m\u001b[0m\n\u001b[1;32m      9\u001b[0m \u001b[0marr\u001b[0m\u001b[0;34m=\u001b[0m\u001b[0mlist\u001b[0m\u001b[0;34m(\u001b[0m\u001b[0mmap\u001b[0m\u001b[0;34m(\u001b[0m\u001b[0mint\u001b[0m\u001b[0;34m,\u001b[0m\u001b[0minput\u001b[0m\u001b[0;34m(\u001b[0m\u001b[0;34m)\u001b[0m\u001b[0;34m.\u001b[0m\u001b[0msplit\u001b[0m\u001b[0;34m(\u001b[0m\u001b[0;34m)\u001b[0m\u001b[0;34m)\u001b[0m\u001b[0;34m)\u001b[0m\u001b[0;34m\u001b[0m\u001b[0;34m\u001b[0m\u001b[0m\n\u001b[0;32m---> 10\u001b[0;31m \u001b[0mprint\u001b[0m\u001b[0;34m(\u001b[0m\u001b[0mfind_number\u001b[0m\u001b[0;34m(\u001b[0m\u001b[0mn\u001b[0m\u001b[0;34m,\u001b[0m\u001b[0marr\u001b[0m\u001b[0;34m)\u001b[0m\u001b[0;34m)\u001b[0m\u001b[0;34m\u001b[0m\u001b[0;34m\u001b[0m\u001b[0m\n\u001b[0m",
            "\u001b[0;32m<ipython-input-1-11dae15a2568>\u001b[0m in \u001b[0;36mfind_number\u001b[0;34m(n, arr)\u001b[0m\n\u001b[1;32m      3\u001b[0m   \u001b[0marr\u001b[0m\u001b[0;34m=\u001b[0m\u001b[0;34m[\u001b[0m\u001b[0;36m0\u001b[0m\u001b[0;34m]\u001b[0m\u001b[0;34m\u001b[0m\u001b[0;34m\u001b[0m\u001b[0m\n\u001b[1;32m      4\u001b[0m   \u001b[0;32mfor\u001b[0m \u001b[0mi\u001b[0m \u001b[0;32min\u001b[0m \u001b[0mrange\u001b[0m\u001b[0;34m(\u001b[0m\u001b[0;36m0\u001b[0m\u001b[0;34m,\u001b[0m\u001b[0mn\u001b[0m\u001b[0;34m)\u001b[0m\u001b[0;34m:\u001b[0m\u001b[0;34m\u001b[0m\u001b[0;34m\u001b[0m\u001b[0m\n\u001b[0;32m----> 5\u001b[0;31m     \u001b[0;32mif\u001b[0m\u001b[0;34m(\u001b[0m\u001b[0marr\u001b[0m\u001b[0;34m[\u001b[0m\u001b[0mi\u001b[0m\u001b[0;34m]\u001b[0m\u001b[0;34m>\u001b[0m\u001b[0marr\u001b[0m\u001b[0;34m[\u001b[0m\u001b[0mi\u001b[0m\u001b[0;34m+\u001b[0m\u001b[0;36m1\u001b[0m\u001b[0;34m]\u001b[0m\u001b[0;34m)\u001b[0m\u001b[0;34m:\u001b[0m\u001b[0;34m\u001b[0m\u001b[0;34m\u001b[0m\u001b[0m\n\u001b[0m\u001b[1;32m      6\u001b[0m       \u001b[0mcount\u001b[0m\u001b[0;34m+=\u001b[0m\u001b[0;36m1\u001b[0m\u001b[0;34m\u001b[0m\u001b[0;34m\u001b[0m\u001b[0m\n\u001b[1;32m      7\u001b[0m   \u001b[0;32mreturn\u001b[0m \u001b[0mcount\u001b[0m\u001b[0;34m\u001b[0m\u001b[0;34m\u001b[0m\u001b[0m\n",
            "\u001b[0;31mIndexError\u001b[0m: list index out of range"
          ]
        }
      ]
    },
    {
      "cell_type": "markdown",
      "source": [
        "idhi 4 integers tesukuntadhi danilo negative intergers ni sum cheysi print cheyali"
      ],
      "metadata": {
        "id": "c_g35wBjtPOE"
      }
    },
    {
      "cell_type": "code",
      "source": [
        "a=int(input())\n",
        "b=int(input())\n",
        "c=int(input())\n",
        "d=int(input())\n",
        "nums=[a,b,c,d]\n",
        "sum=0\n",
        "for i in nums:\n",
        "  if i<0:\n",
        "    sum+=i\n",
        "print(sum)"
      ],
      "metadata": {
        "id": "vScj3o4S_ofS",
        "colab": {
          "base_uri": "https://localhost:8080/"
        },
        "outputId": "2f7ddc66-ef53-4c67-9671-5801c19fa8e6"
      },
      "execution_count": null,
      "outputs": [
        {
          "output_type": "stream",
          "name": "stdout",
          "text": [
            "-3\n",
            "-2\n",
            "1\n",
            "2\n",
            "-5\n"
          ]
        }
      ]
    },
    {
      "cell_type": "code",
      "source": [
        "def list(arr):\n",
        "  arr.sort()\n",
        "  for i in arr:\n",
        "    if i<0:\n",
        "      return 0\n",
        "    elif i>0:\n",
        "      a=arr.appand[]\n",
        "      a//2\n",
        "      return n\n",
        "arr=list(map(int,input().split()))\n",
        "print(list(arr))\n"
      ],
      "metadata": {
        "colab": {
          "base_uri": "https://localhost:8080/",
          "height": 106
        },
        "id": "MSUMRNnPtfK5",
        "outputId": "6faa6fe6-c64c-4ef0-c358-d3320e0ed2f4"
      },
      "execution_count": null,
      "outputs": [
        {
          "output_type": "error",
          "ename": "SyntaxError",
          "evalue": "invalid syntax (<ipython-input-5-1b5848c6168b>, line 7)",
          "traceback": [
            "\u001b[0;36m  File \u001b[0;32m\"<ipython-input-5-1b5848c6168b>\"\u001b[0;36m, line \u001b[0;32m7\u001b[0m\n\u001b[0;31m    a=arr.appand[]\u001b[0m\n\u001b[0m                 ^\u001b[0m\n\u001b[0;31mSyntaxError\u001b[0m\u001b[0;31m:\u001b[0m invalid syntax\n"
          ]
        }
      ]
    },
    {
      "cell_type": "code",
      "source": [
        "def find_positive_median(arr):\n",
        "    # Filter out negative elements\n",
        "    positive_arr = [i for i in arr if i > 0]\n",
        "\n",
        "    # Sort the positive elements\n",
        "    positive_arr.sort()\n",
        "\n",
        "    # If no positive elements are present, return None or a specific message\n",
        "    if not positive_arr:\n",
        "        return \"No positive elements\"\n",
        "\n",
        "    # Calculate the median\n",
        "    n = len(positive_arr)\n",
        "    mid = n // 2\n",
        "\n",
        "    # If the number of elements is odd, return the middle element\n",
        "    if n % 2 != 0:\n",
        "        return positive_arr[mid]\n",
        "    # If the number of elements is even, return the integer median (rounded down)\n",
        "    else:\n",
        "        return (positive_arr[mid - 1] + positive_arr[mid]) // 2\n",
        "\n",
        "# Input and function call\n",
        "arr = list(map(int, input(\"Enter numbers separated by spaces: \").split()))\n",
        "print(find_positive_median(arr))\n",
        "\n"
      ],
      "metadata": {
        "id": "2qC62dnjxDhm",
        "outputId": "e353327a-a057-4850-a541-0c9437816ce0",
        "colab": {
          "base_uri": "https://localhost:8080/"
        }
      },
      "execution_count": null,
      "outputs": [
        {
          "output_type": "stream",
          "name": "stdout",
          "text": [
            "Enter numbers separated by spaces: -1 2 8 7 -5 -4 5\n",
            "6\n"
          ]
        }
      ]
    },
    {
      "cell_type": "code",
      "source": [
        "n=int(input())\n",
        "if n>0:\n",
        "      print(\"positive\")\n",
        "else:\n",
        "  print(\"negative\")"
      ],
      "metadata": {
        "colab": {
          "base_uri": "https://localhost:8080/"
        },
        "id": "2qR3bwWraEJb",
        "outputId": "5ebf3c1e-a69b-4759-fc2e-953da3c467ff"
      },
      "execution_count": null,
      "outputs": [
        {
          "output_type": "stream",
          "name": "stdout",
          "text": [
            "-1\n",
            "negative\n"
          ]
        }
      ]
    },
    {
      "cell_type": "code",
      "source": [
        "n=int(input())\n",
        "sum=0\n",
        "for i in range(n+1):\n",
        "  sum+=i\n",
        "print(sum)"
      ],
      "metadata": {
        "colab": {
          "base_uri": "https://localhost:8080/"
        },
        "id": "W21V_fCjah5T",
        "outputId": "064b6861-c46d-441f-dde6-1d671c7bcc39"
      },
      "execution_count": null,
      "outputs": [
        {
          "output_type": "stream",
          "name": "stdout",
          "text": [
            "5\n",
            "15\n"
          ]
        }
      ]
    },
    {
      "cell_type": "code",
      "source": [],
      "metadata": {
        "id": "4lmEB-Oab02q"
      },
      "execution_count": null,
      "outputs": []
    },
    {
      "cell_type": "code",
      "source": [
        "n=5\n",
        "for i in range(n):\n",
        "  for j in range(n-j):\n",
        "    print(\"*\",end=\" \")\n",
        "  print()"
      ],
      "metadata": {
        "id": "ELmd0KVFS1-F",
        "colab": {
          "base_uri": "https://localhost:8080/"
        },
        "outputId": "acc338c8-649a-4ee1-8d75-cdc8e375acbe"
      },
      "execution_count": null,
      "outputs": [
        {
          "output_type": "stream",
          "name": "stdout",
          "text": [
            "* * * * * \n",
            "* \n",
            "* * * * * \n",
            "* \n",
            "* * * * * \n"
          ]
        }
      ]
    },
    {
      "cell_type": "code",
      "source": [
        "n=int(input())\n",
        "for i in range(n):\n",
        "  for j in range(n):\n",
        "    if( i==0  or i==n-1  or i+j==n-1):\n",
        "      print(\"*\",end=\" \")\n",
        "    else:\n",
        "      print(\" \",end=\" \")\n",
        "  print()\n"
      ],
      "metadata": {
        "id": "slSOmJMoTgps",
        "colab": {
          "base_uri": "https://localhost:8080/"
        },
        "outputId": "fc72d00b-058c-4aa9-9f5e-1f7326e9092e"
      },
      "execution_count": null,
      "outputs": [
        {
          "output_type": "stream",
          "name": "stdout",
          "text": [
            "5\n",
            "* * * * * \n",
            "      *   \n",
            "    *     \n",
            "  *       \n",
            "* * * * * \n"
          ]
        }
      ]
    },
    {
      "cell_type": "code",
      "source": [
        "n=5\n",
        "for i in range(n):\n",
        "  for j in range(i):\n",
        "    print(\" \",end=\"\")\n",
        "  for j in range(n):\n",
        "    print(\"*\",end=\"\")\n",
        "  print()"
      ],
      "metadata": {
        "colab": {
          "base_uri": "https://localhost:8080/"
        },
        "id": "HMQ4UF9Zml7l",
        "outputId": "dbf158ed-a0ef-470c-a9cd-68e0d16157ed"
      },
      "execution_count": null,
      "outputs": [
        {
          "output_type": "stream",
          "name": "stdout",
          "text": [
            "*****\n",
            " *****\n",
            "  *****\n",
            "   *****\n",
            "    *****\n"
          ]
        }
      ]
    },
    {
      "cell_type": "code",
      "source": [
        "n=5\n",
        "for i in range(n):\n",
        "  for j in range(i):\n",
        "    print(\" \",end=\"\")\n",
        "  for j in range(n-i):\n",
        "    print(\"*\",end=\"\")\n",
        "  print()"
      ],
      "metadata": {
        "colab": {
          "base_uri": "https://localhost:8080/"
        },
        "id": "yp7mk3fPnQgW",
        "outputId": "2d59fcf2-0858-4b64-a899-46c6724990de"
      },
      "execution_count": null,
      "outputs": [
        {
          "output_type": "stream",
          "name": "stdout",
          "text": [
            "*****\n",
            " ****\n",
            "  ***\n",
            "   **\n",
            "    *\n"
          ]
        }
      ]
    },
    {
      "cell_type": "code",
      "source": [
        "n=5\n",
        "for i in range(n):\n",
        "  for j in range(n-i):\n",
        "    print(\"*\",end=\"\")\n",
        "  print()"
      ],
      "metadata": {
        "colab": {
          "base_uri": "https://localhost:8080/"
        },
        "id": "mgX6ejeDncfr",
        "outputId": "66e66831-40bd-4302-e900-3591bf1a4b16"
      },
      "execution_count": null,
      "outputs": [
        {
          "output_type": "stream",
          "name": "stdout",
          "text": [
            "*****\n",
            "****\n",
            "***\n",
            "**\n",
            "*\n"
          ]
        }
      ]
    },
    {
      "cell_type": "code",
      "source": [
        "n=5\n",
        "for i in range(n):\n",
        "  for j in range(i):\n",
        "    print(\"*\",end=\" \")\n",
        "  print()"
      ],
      "metadata": {
        "colab": {
          "base_uri": "https://localhost:8080/"
        },
        "id": "CkxNsS-6nzC9",
        "outputId": "3a50a9b8-d077-4ad8-cfa1-aaf18056bcc5"
      },
      "execution_count": null,
      "outputs": [
        {
          "output_type": "stream",
          "name": "stdout",
          "text": [
            "\n",
            "* \n",
            "* * \n",
            "* * * \n",
            "* * * * \n"
          ]
        }
      ]
    },
    {
      "cell_type": "code",
      "source": [
        "n=5\n",
        "for i in range(n):\n",
        "  for j in range(n-i):\n",
        "    print(\" \",end=\" \")\n",
        "  for j in range(i):\n",
        "    print(\"*\",end=\" \")\n",
        "  print()"
      ],
      "metadata": {
        "colab": {
          "base_uri": "https://localhost:8080/"
        },
        "id": "gCjPYe2ln_qX",
        "outputId": "b8a075a8-7607-4e23-c8bd-4ebcf97ccb44"
      },
      "execution_count": null,
      "outputs": [
        {
          "output_type": "stream",
          "name": "stdout",
          "text": [
            "          \n",
            "        * \n",
            "      * * \n",
            "    * * * \n",
            "  * * * * \n"
          ]
        }
      ]
    },
    {
      "cell_type": "code",
      "source": [
        "n=5\n",
        "for i in range(n):\n",
        "  for j in range(n-i):\n",
        "    print(\" \",end=\"\")\n",
        "  for j in range(n):\n",
        "    print(\"*\",end=\"\")\n",
        "  print()"
      ],
      "metadata": {
        "colab": {
          "base_uri": "https://localhost:8080/"
        },
        "id": "BsDkZRXhpVxY",
        "outputId": "45d1f1a0-3a0b-4dd5-c18b-c0e3fcf2ed92"
      },
      "execution_count": null,
      "outputs": [
        {
          "output_type": "stream",
          "name": "stdout",
          "text": [
            "     *****\n",
            "    *****\n",
            "   *****\n",
            "  *****\n",
            " *****\n"
          ]
        }
      ]
    },
    {
      "cell_type": "code",
      "source": [
        "n=5\n",
        "for i in range((n)):\n",
        "  for j in range(n):\n",
        "    if(i==0 or i==n-1 or j==0 or j==n-1):\n",
        "      print(\"*\",end=\" \")\n",
        "    else:\n",
        "      print(\" \",end=\" \")\n",
        "  print()\n"
      ],
      "metadata": {
        "colab": {
          "base_uri": "https://localhost:8080/"
        },
        "id": "1LXWUBalqDPB",
        "outputId": "23ba1040-099a-4727-f75f-240f3c7fdc80"
      },
      "execution_count": null,
      "outputs": [
        {
          "output_type": "stream",
          "name": "stdout",
          "text": [
            "* * * * * \n",
            "*       * \n",
            "*       * \n",
            "*       * \n",
            "* * * * * \n"
          ]
        }
      ]
    },
    {
      "cell_type": "code",
      "source": [
        "n=5\n",
        "for i in range(n):\n",
        "  for j in range(n-i):\n",
        "    print(\" \",end=\" \")\n",
        "  for j in range(2*i+1):\n",
        "    print(\"*\",end=\" \")\n",
        "  print()\n",
        "\n"
      ],
      "metadata": {
        "colab": {
          "base_uri": "https://localhost:8080/"
        },
        "id": "fwsNdQIbsB3u",
        "outputId": "5ea4df96-0e93-42fd-f077-14350aeefbd2"
      },
      "execution_count": null,
      "outputs": [
        {
          "output_type": "stream",
          "name": "stdout",
          "text": [
            "          * \n",
            "        * * * \n",
            "      * * * * * \n",
            "    * * * * * * * \n",
            "  * * * * * * * * * \n"
          ]
        }
      ]
    },
    {
      "cell_type": "code",
      "source": [
        "n=5\n",
        "for i in range(n):\n",
        "  for j in range(i):\n",
        "    print(\" \",end=\" \")\n",
        "  for j in range(2*(n-i)-1):\n",
        "    print(\"*\",end=\" \")\n",
        "  print()"
      ],
      "metadata": {
        "colab": {
          "base_uri": "https://localhost:8080/"
        },
        "id": "ybdNeRkazjmR",
        "outputId": "f829f340-91f8-4ec9-aae2-a5de23ea54ad"
      },
      "execution_count": null,
      "outputs": [
        {
          "output_type": "stream",
          "name": "stdout",
          "text": [
            "* * * * * * * * * \n",
            "  * * * * * * * \n",
            "    * * * * * \n",
            "      * * * \n",
            "        * \n"
          ]
        }
      ]
    },
    {
      "cell_type": "code",
      "source": [
        "a=[1,0,1]\n",
        "b=all(a)\n",
        "print(b)"
      ],
      "metadata": {
        "colab": {
          "base_uri": "https://localhost:8080/"
        },
        "id": "oEx6f-pGpG4B",
        "outputId": "2467123e-34e4-464c-a576-33d95c21f0ec"
      },
      "execution_count": null,
      "outputs": [
        {
          "output_type": "stream",
          "name": "stdout",
          "text": [
            "False\n"
          ]
        }
      ]
    },
    {
      "cell_type": "code",
      "source": [
        "txt=[\"abhi\",\"pramee\"]\n",
        "txt.insert(1,\"teja\")\n",
        "print(txt)"
      ],
      "metadata": {
        "colab": {
          "base_uri": "https://localhost:8080/"
        },
        "id": "_yFh4X7yp3DL",
        "outputId": "e2fec088-6fcc-42c4-8538-561424f08994"
      },
      "execution_count": null,
      "outputs": [
        {
          "output_type": "stream",
          "name": "stdout",
          "text": [
            "['abhi', 'teja', 'pramee']\n"
          ]
        }
      ]
    },
    {
      "cell_type": "code",
      "source": [
        "txt=[ \"abhi\",\"teja\"]\n",
        "a=[\"pramee\"]\n",
        "txt.extend(a)\n",
        "print(txt)"
      ],
      "metadata": {
        "colab": {
          "base_uri": "https://localhost:8080/"
        },
        "id": "by03dR9LqUY1",
        "outputId": "e24c7a8c-9209-4506-80ff-167c389f953f"
      },
      "execution_count": null,
      "outputs": [
        {
          "output_type": "stream",
          "name": "stdout",
          "text": [
            "['abhi', 'teja', 'pramee']\n"
          ]
        }
      ]
    },
    {
      "cell_type": "code",
      "source": [
        "txt=[0,1]\n",
        "b=any(txt)\n",
        "print(b)"
      ],
      "metadata": {
        "colab": {
          "base_uri": "https://localhost:8080/"
        },
        "id": "l-A9LHq6sLP8",
        "outputId": "d12765d7-128c-43f9-af61-bb8aaaab1ae1"
      },
      "execution_count": null,
      "outputs": [
        {
          "output_type": "stream",
          "name": "stdout",
          "text": [
            "True\n"
          ]
        }
      ]
    },
    {
      "cell_type": "code",
      "source": [
        "txt=[0,1]\n",
        "txt[1]=3\n",
        "print(txt)"
      ],
      "metadata": {
        "colab": {
          "base_uri": "https://localhost:8080/"
        },
        "id": "nuTosPWZsSnY",
        "outputId": "3baabc91-93e5-457b-c1ce-f47737615b4a"
      },
      "execution_count": null,
      "outputs": [
        {
          "output_type": "stream",
          "name": "stdout",
          "text": [
            "[0, 3]\n"
          ]
        }
      ]
    },
    {
      "cell_type": "code",
      "source": [
        "txt=[0,3]\n",
        "txt.remove(3)\n",
        "print(txt)"
      ],
      "metadata": {
        "colab": {
          "base_uri": "https://localhost:8080/"
        },
        "id": "DC5CqiRrslzW",
        "outputId": "70d84120-b466-4c9e-9695-27ba6661e97f"
      },
      "execution_count": null,
      "outputs": [
        {
          "output_type": "stream",
          "name": "stdout",
          "text": [
            "[0]\n"
          ]
        }
      ]
    },
    {
      "cell_type": "code",
      "source": [
        "txt=[0,1]\n",
        "txt.pop()\n",
        "print(txt)"
      ],
      "metadata": {
        "colab": {
          "base_uri": "https://localhost:8080/"
        },
        "id": "nYrIwvDJsuqF",
        "outputId": "b1b8cac1-f45a-400a-dde1-61d0c00c7747"
      },
      "execution_count": null,
      "outputs": [
        {
          "output_type": "stream",
          "name": "stdout",
          "text": [
            "[0]\n"
          ]
        }
      ]
    },
    {
      "cell_type": "code",
      "source": [
        "txt=(\"abhi\")\n",
        "a=txt.swapcase()\n",
        "print(a)"
      ],
      "metadata": {
        "colab": {
          "base_uri": "https://localhost:8080/"
        },
        "id": "mE3kQx-9tm42",
        "outputId": "1e4a009b-3ee4-442a-b552-ba7160bd2f79"
      },
      "execution_count": null,
      "outputs": [
        {
          "output_type": "stream",
          "name": "stdout",
          "text": [
            "ABHI\n"
          ]
        }
      ]
    },
    {
      "cell_type": "code",
      "source": [
        "txt=(\"abhi teja\")\n",
        "a=txt.capitalize()\n",
        "print(a)"
      ],
      "metadata": {
        "colab": {
          "base_uri": "https://localhost:8080/"
        },
        "id": "jtqmkmbkt5q1",
        "outputId": "5f132f36-bff7-4537-b3a2-389013b3bd4a"
      },
      "execution_count": null,
      "outputs": [
        {
          "output_type": "stream",
          "name": "stdout",
          "text": [
            "Abhi teja\n"
          ]
        }
      ]
    },
    {
      "cell_type": "code",
      "source": [
        "txt=(\"abhi teja\")\n",
        "a=txt.title()\n",
        "print(a)"
      ],
      "metadata": {
        "colab": {
          "base_uri": "https://localhost:8080/"
        },
        "id": "9eOz1ONwvJE-",
        "outputId": "d93f51f2-fb5f-4342-c6cd-baa36d6379aa"
      },
      "execution_count": null,
      "outputs": [
        {
          "output_type": "stream",
          "name": "stdout",
          "text": [
            "Abhi Teja\n"
          ]
        }
      ]
    },
    {
      "cell_type": "code",
      "source": [
        "txt=(\"abhi\")\n",
        "print(txt.isupper())\n"
      ],
      "metadata": {
        "colab": {
          "base_uri": "https://localhost:8080/"
        },
        "id": "iWgIq09s1bcD",
        "outputId": "5bb05a05-2c6b-4fe7-c3c6-848c62e2a2fa"
      },
      "execution_count": null,
      "outputs": [
        {
          "output_type": "stream",
          "name": "stdout",
          "text": [
            "False\n"
          ]
        }
      ]
    },
    {
      "cell_type": "code",
      "source": [
        "txt=(\"abhi\")\n",
        "a=txt.upper()\n",
        "print(a)"
      ],
      "metadata": {
        "colab": {
          "base_uri": "https://localhost:8080/"
        },
        "id": "mdd1J1sU2jP9",
        "outputId": "b0167cda-ab9e-499c-cd27-caaad85d1c86"
      },
      "execution_count": null,
      "outputs": [
        {
          "output_type": "stream",
          "name": "stdout",
          "text": [
            "ABHI\n"
          ]
        }
      ]
    },
    {
      "cell_type": "code",
      "source": [
        "txt=(\"ABHI\")\n",
        "a=txt.casefold()\n",
        "print(a)"
      ],
      "metadata": {
        "colab": {
          "base_uri": "https://localhost:8080/"
        },
        "id": "R8Oi2Qun31zf",
        "outputId": "393d458e-14dd-4bca-d657-5e6bf7d3f0e5"
      },
      "execution_count": null,
      "outputs": [
        {
          "output_type": "stream",
          "name": "stdout",
          "text": [
            "abhi\n"
          ]
        }
      ]
    },
    {
      "cell_type": "code",
      "source": [
        "txt=(\"abhi\")\n",
        "a=txt.find(\"h\")\n",
        "print(a)\n"
      ],
      "metadata": {
        "colab": {
          "base_uri": "https://localhost:8080/"
        },
        "id": "oFyDjYT044gK",
        "outputId": "58b993a8-82ca-4c9f-eda0-00b4962506a1"
      },
      "execution_count": null,
      "outputs": [
        {
          "output_type": "stream",
          "name": "stdout",
          "text": [
            "2\n"
          ]
        }
      ]
    },
    {
      "cell_type": "code",
      "source": [],
      "metadata": {
        "id": "E5w_UCxp531t"
      },
      "execution_count": null,
      "outputs": []
    }
  ],
  "metadata": {
    "colab": {
      "provenance": [],
      "authorship_tag": "ABX9TyMYimswduuwPQwdHIUW6K5V",
      "include_colab_link": true
    },
    "kernelspec": {
      "display_name": "Python 3",
      "name": "python3"
    },
    "language_info": {
      "name": "python"
    }
  },
  "nbformat": 4,
  "nbformat_minor": 0
}