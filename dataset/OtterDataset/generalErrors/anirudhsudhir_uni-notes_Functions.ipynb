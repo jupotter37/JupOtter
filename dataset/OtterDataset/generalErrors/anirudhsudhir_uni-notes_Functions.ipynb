{
 "cells": [
  {
   "cell_type": "markdown",
   "metadata": {},
   "source": [
    "### Functions are also objects like any other datatypes(int,float,string,list,dict)\n",
    "1. Functions can be passed as an arg\n",
    "2. Returning a function\n",
    "3. assign the fun to a variable\n",
    "4. you can store functions in datastructure such as list...."
   ]
  },
  {
   "cell_type": "markdown",
   "metadata": {},
   "source": [
    "### return a,b - returns a tuple"
   ]
  },
  {
   "cell_type": "code",
   "execution_count": 2,
   "metadata": {},
   "outputs": [
    {
     "name": "stdout",
     "output_type": "stream",
     "text": [
      "<function a at 0x1079336a0>\n",
      "(1, 2)\n"
     ]
    }
   ],
   "source": [
    "def a():\n",
    "    return 1,2\n",
    "print(a)\n",
    "print(a())"
   ]
  },
  {
   "cell_type": "markdown",
   "metadata": {},
   "source": [
    "### global var -> sets var in the function as a global scoped variable"
   ]
  },
  {
   "cell_type": "code",
   "execution_count": 4,
   "id": "e44c6557-e125-4e1d-ab2e-73520cd488bb",
   "metadata": {},
   "outputs": [
    {
     "name": "stdout",
     "output_type": "stream",
     "text": [
      "10\n"
     ]
    }
   ],
   "source": [
    "a = 100\n",
    "def change():\n",
    "    a = 10\n",
    "    print(a)\n",
    "change()"
   ]
  },
  {
   "cell_type": "code",
   "execution_count": 1,
   "id": "6006a223-2410-4b06-8d49-7c069e566a50",
   "metadata": {},
   "outputs": [
    {
     "name": "stdout",
     "output_type": "stream",
     "text": [
      "200 10\n"
     ]
    }
   ],
   "source": [
    "a = 100\n",
    "b=50\n",
    "def change():\n",
    "    global a\n",
    "    a += 100\n",
    "    b=10\n",
    "    print(a,b)\n",
    "change()"
   ]
  },
  {
   "cell_type": "code",
   "execution_count": 1,
   "id": "f421247b-c47b-4f18-9902-676c57793eeb",
   "metadata": {},
   "outputs": [
    {
     "ename": "SyntaxError",
     "evalue": "name 'a' is used prior to global declaration (2658415786.py, line 5)",
     "output_type": "error",
     "traceback": [
      "\u001b[0;36m  Cell \u001b[0;32mIn[1], line 5\u001b[0;36m\u001b[0m\n\u001b[0;31m    global a\u001b[0m\n\u001b[0m    ^\u001b[0m\n\u001b[0;31mSyntaxError\u001b[0m\u001b[0;31m:\u001b[0m name 'a' is used prior to global declaration\n"
     ]
    }
   ],
   "source": [
    "a = 100\n",
    "def change():\n",
    "    a = 10\n",
    "    print(a)\n",
    "    global a\n",
    "    a += 100\n",
    "    print(a)\n",
    "change()"
   ]
  },
  {
   "cell_type": "markdown",
   "id": "4e3b588a-e4da-420b-8367-eed634597564",
   "metadata": {},
   "source": [
    "### 'a' is being modified here.  As change() cannot modify elements in the global scope automatically, global keyword has to be used."
   ]
  },
  {
   "cell_type": "code",
   "execution_count": 12,
   "id": "eaa311bc-a19e-4672-98eb-5dddcd51e81b",
   "metadata": {},
   "outputs": [
    {
     "ename": "UnboundLocalError",
     "evalue": "cannot access local variable 'a' where it is not associated with a value",
     "output_type": "error",
     "traceback": [
      "\u001b[0;31m---------------------------------------------------------------------------\u001b[0m",
      "\u001b[0;31mUnboundLocalError\u001b[0m                         Traceback (most recent call last)",
      "Cell \u001b[0;32mIn[12], line 5\u001b[0m\n\u001b[1;32m      3\u001b[0m     a \u001b[38;5;241m=\u001b[39ma\u001b[38;5;241m+\u001b[39m \u001b[38;5;241m10\u001b[39m\n\u001b[1;32m      4\u001b[0m     \u001b[38;5;28mprint\u001b[39m(a)\n\u001b[0;32m----> 5\u001b[0m \u001b[43mchange\u001b[49m\u001b[43m(\u001b[49m\u001b[43m)\u001b[49m\n\u001b[1;32m      6\u001b[0m \u001b[38;5;28mprint\u001b[39m(a)\n",
      "Cell \u001b[0;32mIn[12], line 3\u001b[0m, in \u001b[0;36mchange\u001b[0;34m()\u001b[0m\n\u001b[1;32m      2\u001b[0m \u001b[38;5;28;01mdef\u001b[39;00m \u001b[38;5;21mchange\u001b[39m():\n\u001b[0;32m----> 3\u001b[0m     a \u001b[38;5;241m=\u001b[39m\u001b[43ma\u001b[49m\u001b[38;5;241m+\u001b[39m \u001b[38;5;241m10\u001b[39m\n\u001b[1;32m      4\u001b[0m     \u001b[38;5;28mprint\u001b[39m(a)\n",
      "\u001b[0;31mUnboundLocalError\u001b[0m: cannot access local variable 'a' where it is not associated with a value"
     ]
    }
   ],
   "source": [
    "a = 100\n",
    "def change():\n",
    "    a =a+ 10\n",
    "    print(a)\n",
    "change()\n",
    "print(a)"
   ]
  },
  {
   "cell_type": "markdown",
   "id": "ea0602dd-94fb-45ba-bac0-91e8a35d1aac",
   "metadata": {},
   "source": [
    "## The inner function can however access the outer variables, only modification causes error"
   ]
  },
  {
   "cell_type": "code",
   "execution_count": 14,
   "id": "49474005-bd17-4a68-ae70-4287357ff844",
   "metadata": {},
   "outputs": [
    {
     "name": "stdout",
     "output_type": "stream",
     "text": [
      "100\n",
      "100\n"
     ]
    }
   ],
   "source": [
    "a = 100\n",
    "def change():\n",
    "    print(a)\n",
    "change()\n",
    "print(a)"
   ]
  },
  {
   "cell_type": "markdown",
   "id": "ee07dbb7-f2f0-469e-83c2-dad6c5274c26",
   "metadata": {},
   "source": [
    "# Behaviour is different for collections\n",
    "Since an index is provided in change (a[0]), the function automatically uses the global variable"
   ]
  },
  {
   "cell_type": "code",
   "execution_count": 9,
   "id": "071a5c42-31bb-4b7c-9cbb-a1f51c13fef9",
   "metadata": {},
   "outputs": [
    {
     "name": "stdout",
     "output_type": "stream",
     "text": [
      "[10]\n"
     ]
    }
   ],
   "source": [
    "a = [100]\n",
    "def change():\n",
    "    a[0] = 10\n",
    "change()\n",
    "print(a)"
   ]
  },
  {
   "cell_type": "markdown",
   "id": "42b19794-bab8-4544-8fb2-919c172c76f7",
   "metadata": {},
   "source": [
    "Since assignment is being done, a local variable is created in the function"
   ]
  },
  {
   "cell_type": "code",
   "execution_count": 10,
   "id": "b5db4384-055e-4ad4-89c1-64b0852e4fb1",
   "metadata": {},
   "outputs": [
    {
     "name": "stdout",
     "output_type": "stream",
     "text": [
      "[100]\n"
     ]
    }
   ],
   "source": [
    "a = [100]\n",
    "def change():\n",
    "    a = [10]\n",
    "change()\n",
    "print(a)"
   ]
  },
  {
   "cell_type": "markdown",
   "id": "7c305508-aa24-4c9a-953d-aeeadfabbbec",
   "metadata": {},
   "source": [
    "## A function without a return value returns None in Python"
   ]
  },
  {
   "cell_type": "code",
   "execution_count": 8,
   "id": "5a44b313-7624-4994-b683-b5e2c1513030",
   "metadata": {},
   "outputs": [
    {
     "name": "stdout",
     "output_type": "stream",
     "text": [
      "Testing\n"
     ]
    }
   ],
   "source": [
    "def test():\n",
    "    print(\"Testing\")\n",
    "\n",
    "test()"
   ]
  },
  {
   "cell_type": "code",
   "execution_count": 9,
   "id": "32ba4197-da70-4d7a-950b-541552815884",
   "metadata": {},
   "outputs": [
    {
     "name": "stdout",
     "output_type": "stream",
     "text": [
      "Testing\n",
      "None\n"
     ]
    }
   ],
   "source": [
    "def test():\n",
    "    print(\"Testing\")\n",
    "\n",
    "print(test())"
   ]
  },
  {
   "cell_type": "markdown",
   "id": "7471b71d-b396-4492-9527-fcc2bff9211c",
   "metadata": {},
   "source": [
    "### In the below example, 'a' stores 'None' . The print statement is automatically executed"
   ]
  },
  {
   "cell_type": "code",
   "execution_count": 2,
   "id": "f010bcaa-7ca5-4e58-8825-1dfb70802909",
   "metadata": {},
   "outputs": [
    {
     "name": "stdout",
     "output_type": "stream",
     "text": [
      "Testing\n",
      "<class 'NoneType'>\n"
     ]
    }
   ],
   "source": [
    "def test():\n",
    "    print(\"Testing\")\n",
    "\n",
    "a = test()\n",
    "print(type(a))"
   ]
  },
  {
   "cell_type": "markdown",
   "id": "e83e6ebc-d77e-4b82-adbb-189bc4bfd109",
   "metadata": {},
   "source": [
    "## Function overloading behaves differently in Python -> It overwrites the previously defined function"
   ]
  },
  {
   "cell_type": "code",
   "execution_count": 15,
   "id": "0b7be680-c3e3-4a8e-9ee9-081899700dbc",
   "metadata": {},
   "outputs": [
    {
     "name": "stdout",
     "output_type": "stream",
     "text": [
      "2\n"
     ]
    }
   ],
   "source": [
    "def a():\n",
    "    print('1')\n",
    "def a():\n",
    "    print('2')\n",
    "a()"
   ]
  },
  {
   "cell_type": "code",
   "execution_count": 3,
   "id": "adb537c3-45d9-48d2-9458-db8226f92196",
   "metadata": {},
   "outputs": [
    {
     "ename": "TypeError",
     "evalue": "a() missing 1 required positional argument: 'x'",
     "output_type": "error",
     "traceback": [
      "\u001b[0;31m---------------------------------------------------------------------------\u001b[0m",
      "\u001b[0;31mTypeError\u001b[0m                                 Traceback (most recent call last)",
      "Cell \u001b[0;32mIn[3], line 5\u001b[0m\n\u001b[1;32m      3\u001b[0m \u001b[38;5;28;01mdef\u001b[39;00m \u001b[38;5;21ma\u001b[39m(x):\n\u001b[1;32m      4\u001b[0m     \u001b[38;5;28mprint\u001b[39m(\u001b[38;5;124m'\u001b[39m\u001b[38;5;124m2\u001b[39m\u001b[38;5;124m'\u001b[39m)\n\u001b[0;32m----> 5\u001b[0m \u001b[43ma\u001b[49m\u001b[43m(\u001b[49m\u001b[43m)\u001b[49m\n",
      "\u001b[0;31mTypeError\u001b[0m: a() missing 1 required positional argument: 'x'"
     ]
    }
   ],
   "source": [
    "def a():\n",
    "    print('1')\n",
    "def a(x):\n",
    "    print('2')\n",
    "a()"
   ]
  },
  {
   "cell_type": "markdown",
   "id": "cc47159a-47ab-4de6-bd16-baa52030c3ed",
   "metadata": {},
   "source": [
    "## Call by value and call by reference"
   ]
  },
  {
   "cell_type": "markdown",
   "id": "646412de-0e79-47d8-b601-45200af82c36",
   "metadata": {},
   "source": [
    "Call by value -> A copy of the original value is sent to the function  \n",
    "Call by reference -> The address of the value is sent to the function"
   ]
  },
  {
   "cell_type": "markdown",
   "id": "1e7f12bc-c9b2-484c-89df-334134c85da0",
   "metadata": {},
   "source": [
    "# Refer Notes for this"
   ]
  },
  {
   "cell_type": "markdown",
   "id": "b152490f-e297-4c0d-801f-2feca2f13faf",
   "metadata": {},
   "source": [
    "Assignment breaks relation"
   ]
  },
  {
   "cell_type": "markdown",
   "id": "7d21bb53-dde7-4270-9294-a9a7f87f29c6",
   "metadata": {},
   "source": [
    "shorthand doesnt"
   ]
  },
  {
   "cell_type": "markdown",
   "id": "ac580e23-cdf2-47b3-8c42-4b81a2710fd6",
   "metadata": {},
   "source": [
    "## Types of parameters"
   ]
  },
  {
   "cell_type": "markdown",
   "id": "04c25df9-97ed-4bab-9891-af5ea5eee7f1",
   "metadata": {},
   "source": [
    "1. Positional arguments  \n",
    "   Relying on the position of arguments"
   ]
  },
  {
   "cell_type": "code",
   "execution_count": 14,
   "id": "8bfec0e2-704d-482d-bd7d-46c48f9022bb",
   "metadata": {},
   "outputs": [
    {
     "name": "stdout",
     "output_type": "stream",
     "text": [
      "10\n",
      "20\n"
     ]
    }
   ],
   "source": [
    "def test(a,b):\n",
    "    print(a)\n",
    "    print(b)\n",
    "\n",
    "test(10,20)"
   ]
  },
  {
   "cell_type": "markdown",
   "id": "8e58de1f-9224-426c-9c67-186578675aa2",
   "metadata": {},
   "source": [
    "2. Arbitrary positional arguments  \n",
    "   When number of arguments are not known  \n",
    "   Arguments are converted to a tuple"
   ]
  },
  {
   "cell_type": "code",
   "execution_count": 51,
   "id": "9643cf2d-5920-4012-8bc4-140acef2e9d4",
   "metadata": {},
   "outputs": [
    {
     "name": "stdout",
     "output_type": "stream",
     "text": [
      "10\n",
      "20\n"
     ]
    }
   ],
   "source": [
    "def test(*a):\n",
    "    print(a[0])\n",
    "    print(a[1])\n",
    "\n",
    "test(10,20)"
   ]
  },
  {
   "cell_type": "code",
   "execution_count": 52,
   "id": "c7502012-a6c0-4d4c-8a85-aa97cd79651e",
   "metadata": {},
   "outputs": [
    {
     "name": "stdout",
     "output_type": "stream",
     "text": [
      "10\n",
      "20\n",
      "[10, 20]\n"
     ]
    },
    {
     "ename": "IndexError",
     "evalue": "tuple index out of range",
     "output_type": "error",
     "traceback": [
      "\u001b[0;31m---------------------------------------------------------------------------\u001b[0m",
      "\u001b[0;31mIndexError\u001b[0m                                Traceback (most recent call last)",
      "Cell \u001b[0;32mIn[52], line 6\u001b[0m\n\u001b[1;32m      3\u001b[0m     \u001b[38;5;28mprint\u001b[39m(a[\u001b[38;5;241m1\u001b[39m])\n\u001b[1;32m      5\u001b[0m test(\u001b[38;5;241m10\u001b[39m,\u001b[38;5;241m20\u001b[39m)\n\u001b[0;32m----> 6\u001b[0m \u001b[43mtest\u001b[49m\u001b[43m(\u001b[49m\u001b[43m[\u001b[49m\u001b[38;5;241;43m10\u001b[39;49m\u001b[43m,\u001b[49m\u001b[38;5;241;43m20\u001b[39;49m\u001b[43m]\u001b[49m\u001b[43m)\u001b[49m\n",
      "Cell \u001b[0;32mIn[52], line 3\u001b[0m, in \u001b[0;36mtest\u001b[0;34m(*a)\u001b[0m\n\u001b[1;32m      1\u001b[0m \u001b[38;5;28;01mdef\u001b[39;00m \u001b[38;5;21mtest\u001b[39m(\u001b[38;5;241m*\u001b[39ma):\n\u001b[1;32m      2\u001b[0m     \u001b[38;5;28mprint\u001b[39m(a[\u001b[38;5;241m0\u001b[39m])\n\u001b[0;32m----> 3\u001b[0m     \u001b[38;5;28mprint\u001b[39m(\u001b[43ma\u001b[49m\u001b[43m[\u001b[49m\u001b[38;5;241;43m1\u001b[39;49m\u001b[43m]\u001b[49m)\n",
      "\u001b[0;31mIndexError\u001b[0m: tuple index out of range"
     ]
    }
   ],
   "source": [
    "def test(*a):\n",
    "    print(a[0])\n",
    "    print(a[1])\n",
    "\n",
    "test(10,20)\n",
    "test([10,20])"
   ]
  },
  {
   "cell_type": "markdown",
   "id": "8020a866-0cb1-459d-b0c8-2b4b6049d99a",
   "metadata": {},
   "source": [
    "## Mix of regular and arbitrary\n",
    "Add arbitrary only at the end"
   ]
  },
  {
   "cell_type": "code",
   "execution_count": 58,
   "id": "3cf24af0-9464-45d2-9da8-a011cb00b507",
   "metadata": {},
   "outputs": [
    {
     "name": "stdout",
     "output_type": "stream",
     "text": [
      "10 (20, 30)\n",
      "[10, 20] ()\n"
     ]
    }
   ],
   "source": [
    "def test(b,*a):\n",
    "    print(b,a)\n",
    "\n",
    "test(10,20,30)\n",
    "test([10,20])"
   ]
  },
  {
   "cell_type": "code",
   "execution_count": 5,
   "id": "d395b917-9dfc-44c9-a644-81b282836c1f",
   "metadata": {},
   "outputs": [
    {
     "ename": "TypeError",
     "evalue": "test() missing 1 required keyword-only argument: 'b'",
     "output_type": "error",
     "traceback": [
      "\u001b[0;31m---------------------------------------------------------------------------\u001b[0m",
      "\u001b[0;31mTypeError\u001b[0m                                 Traceback (most recent call last)",
      "Cell \u001b[0;32mIn[5], line 4\u001b[0m\n\u001b[1;32m      1\u001b[0m \u001b[38;5;28;01mdef\u001b[39;00m \u001b[38;5;21mtest\u001b[39m(\u001b[38;5;241m*\u001b[39ma,b):\n\u001b[1;32m      2\u001b[0m     \u001b[38;5;28mprint\u001b[39m(b,a)\n\u001b[0;32m----> 4\u001b[0m \u001b[43mtest\u001b[49m\u001b[43m(\u001b[49m\u001b[38;5;241;43m10\u001b[39;49m\u001b[43m,\u001b[49m\u001b[38;5;241;43m20\u001b[39;49m\u001b[43m,\u001b[49m\u001b[38;5;241;43m30\u001b[39;49m\u001b[43m)\u001b[49m\n\u001b[1;32m      5\u001b[0m test([\u001b[38;5;241m10\u001b[39m,\u001b[38;5;241m20\u001b[39m])\n",
      "\u001b[0;31mTypeError\u001b[0m: test() missing 1 required keyword-only argument: 'b'"
     ]
    }
   ],
   "source": [
    "def test(*a,b):\n",
    "    print(b,a)\n",
    "\n",
    "test(10,20,30)\n",
    "test([10,20])"
   ]
  },
  {
   "cell_type": "markdown",
   "id": "6d689c79-aa7d-4634-9a70-ce24e1048b47",
   "metadata": {},
   "source": [
    "3. Keyword arguments\n",
    "Using the parameter variables itself, hence order doesnt matter"
   ]
  },
  {
   "cell_type": "code",
   "execution_count": 24,
   "id": "cda079c4-dca1-46dd-87da-b16c463bc4ff",
   "metadata": {},
   "outputs": [
    {
     "name": "stdout",
     "output_type": "stream",
     "text": [
      "20\n",
      "10\n"
     ]
    }
   ],
   "source": [
    "def test(a,b):\n",
    "    print(a)\n",
    "    print(b)\n",
    "\n",
    "test(b=10,a=20)"
   ]
  },
  {
   "cell_type": "markdown",
   "id": "e300f5f9-a4ec-4025-8ba4-53a16fb05431",
   "metadata": {},
   "source": [
    "4. Arbitrary keyword arguments  \n",
    "   When number of keyword arguments is unknown  \n",
    "   As names are present with values, stores parameter as 'dictionary'"
   ]
  },
  {
   "cell_type": "code",
   "execution_count": 63,
   "id": "8e2e5b73-a5d2-4f76-be8b-bfb804d2c67f",
   "metadata": {},
   "outputs": [
    {
     "name": "stdout",
     "output_type": "stream",
     "text": [
      "{'b': 10, 'a': 20, 'c': 78} 20\n"
     ]
    }
   ],
   "source": [
    "def test(**a):\n",
    "    print(a,a['a'])\n",
    "\n",
    "test(b=10,a=20,c=78)"
   ]
  },
  {
   "cell_type": "markdown",
   "id": "2e7928ac-dcbd-423e-be75-f0498d7b6a1a",
   "metadata": {},
   "source": [
    "## Mix of regular and arbitrary\n",
    "Add arbitrary only at the end"
   ]
  },
  {
   "cell_type": "code",
   "execution_count": 61,
   "id": "61bbd264-f9a8-416c-9282-1159ba7f1469",
   "metadata": {},
   "outputs": [
    {
     "name": "stdout",
     "output_type": "stream",
     "text": [
      "10 {'a': 20, 'c': 78} 20\n"
     ]
    }
   ],
   "source": [
    "def test(b,**a):\n",
    "    print(b,a,a['a'])\n",
    "\n",
    "test(b=10,a=20,c=78)"
   ]
  },
  {
   "cell_type": "code",
   "execution_count": 6,
   "id": "c738768c-cc92-45b8-bd70-913abba5f649",
   "metadata": {},
   "outputs": [
    {
     "ename": "SyntaxError",
     "evalue": "arguments cannot follow var-keyword argument (2894783339.py, line 1)",
     "output_type": "error",
     "traceback": [
      "\u001b[0;36m  Cell \u001b[0;32mIn[6], line 1\u001b[0;36m\u001b[0m\n\u001b[0;31m    def test(**a,b):\u001b[0m\n\u001b[0m                 ^\u001b[0m\n\u001b[0;31mSyntaxError\u001b[0m\u001b[0;31m:\u001b[0m arguments cannot follow var-keyword argument\n"
     ]
    }
   ],
   "source": [
    "def test(**a,b):\n",
    "    print(b,a,a['a'])\n",
    "\n",
    "test(b=10,a=20,c=78)"
   ]
  },
  {
   "cell_type": "markdown",
   "id": "6ddd6698-2113-4560-88e8-f275381e58b7",
   "metadata": {},
   "source": [
    "## Keyword arguments should follow positional arguments if both are present"
   ]
  },
  {
   "cell_type": "code",
   "execution_count": 38,
   "id": "ad12c802-d77a-485b-b149-d569a30ee820",
   "metadata": {},
   "outputs": [
    {
     "name": "stdout",
     "output_type": "stream",
     "text": [
      "10 20 30\n",
      "10 -10 78\n"
     ]
    }
   ],
   "source": [
    "def test(a,b,c):\n",
    "    print(a,b,c)\n",
    "\n",
    "test(10,20,30)\n",
    "test(10,c=78,b=-10)"
   ]
  },
  {
   "cell_type": "code",
   "execution_count": 9,
   "id": "6b18d73b-dd21-41ed-9601-7d2211ce5bd9",
   "metadata": {},
   "outputs": [
    {
     "ename": "SyntaxError",
     "evalue": "positional argument follows keyword argument (487913182.py, line 6)",
     "output_type": "error",
     "traceback": [
      "\u001b[0;36m  Cell \u001b[0;32mIn[9], line 6\u001b[0;36m\u001b[0m\n\u001b[0;31m    test(c=90,10,20)\u001b[0m\n\u001b[0m                   ^\u001b[0m\n\u001b[0;31mSyntaxError\u001b[0m\u001b[0;31m:\u001b[0m positional argument follows keyword argument\n"
     ]
    }
   ],
   "source": [
    "def test(a,b,c):\n",
    "    print(a,b,c)\n",
    "\n",
    "test(10,20,30)\n",
    "test(10,c=78,b=-10)\n",
    "test(c=90,10,20)\n",
    "test(a=10,20,30) # Returns same error"
   ]
  },
  {
   "cell_type": "code",
   "execution_count": 15,
   "id": "0b6a5974-8023-41df-b179-2ba602d45771",
   "metadata": {},
   "outputs": [
    {
     "name": "stdout",
     "output_type": "stream",
     "text": [
      "10 (20, 30) 19 {'d': 10, 'f': 21}\n"
     ]
    }
   ],
   "source": [
    "def test(a,*e,b,**c):\n",
    "    print(a,e,b,c)\n",
    "\n",
    "test(10,20,30,b=19,d=10,f=21)"
   ]
  },
  {
   "cell_type": "markdown",
   "id": "49058877-0c97-4bdd-bb2f-897b2344dcd4",
   "metadata": {},
   "source": [
    "## Cannot assign two values to a given parameter"
   ]
  },
  {
   "cell_type": "markdown",
   "id": "a46b15f6-c5ba-4857-b220-ccf7b0fb7825",
   "metadata": {},
   "source": [
    "### In the below example, 20 is assigned to b and not c, hence reassignment of parameter occurs which gives an error"
   ]
  },
  {
   "cell_type": "code",
   "execution_count": 45,
   "id": "0282938b-c3d7-408d-99d5-3e24e50127fe",
   "metadata": {},
   "outputs": [
    {
     "name": "stdout",
     "output_type": "stream",
     "text": [
      "10 20 30\n",
      "10 -10 78\n"
     ]
    },
    {
     "ename": "TypeError",
     "evalue": "test() got multiple values for argument 'b'",
     "output_type": "error",
     "traceback": [
      "\u001b[0;31m---------------------------------------------------------------------------\u001b[0m",
      "\u001b[0;31mTypeError\u001b[0m                                 Traceback (most recent call last)",
      "Cell \u001b[0;32mIn[45], line 6\u001b[0m\n\u001b[1;32m      4\u001b[0m test(\u001b[38;5;241m10\u001b[39m,\u001b[38;5;241m20\u001b[39m,\u001b[38;5;241m30\u001b[39m)\n\u001b[1;32m      5\u001b[0m test(\u001b[38;5;241m10\u001b[39m,c\u001b[38;5;241m=\u001b[39m\u001b[38;5;241m78\u001b[39m,b\u001b[38;5;241m=\u001b[39m\u001b[38;5;241m-\u001b[39m\u001b[38;5;241m10\u001b[39m)\n\u001b[0;32m----> 6\u001b[0m \u001b[43mtest\u001b[49m\u001b[43m(\u001b[49m\u001b[38;5;241;43m10\u001b[39;49m\u001b[43m,\u001b[49m\u001b[38;5;241;43m20\u001b[39;49m\u001b[43m,\u001b[49m\u001b[43mb\u001b[49m\u001b[38;5;241;43m=\u001b[39;49m\u001b[38;5;241;43m30\u001b[39;49m\u001b[43m)\u001b[49m\n",
      "\u001b[0;31mTypeError\u001b[0m: test() got multiple values for argument 'b'"
     ]
    }
   ],
   "source": [
    "def test(a,b,c):\n",
    "    print(a,b,c)\n",
    "\n",
    "test(10,20,30)\n",
    "test(10,c=78,b=-10)\n",
    "test(10,20,b=30)"
   ]
  },
  {
   "cell_type": "markdown",
   "id": "17f8ed77-9522-49c0-b522-ad705ca96e7b",
   "metadata": {},
   "source": [
    "5. Default arguments  \n",
    "   Giving default vaues to parameters"
   ]
  },
  {
   "cell_type": "code",
   "execution_count": 10,
   "id": "b3d0c18e-8d01-46a9-b932-9b5d2dee15e1",
   "metadata": {},
   "outputs": [
    {
     "name": "stdout",
     "output_type": "stream",
     "text": [
      "10 15 50\n",
      "Case 2\n",
      "12 13 50\n",
      "Case 3\n",
      "12 15 50\n",
      "Case 4\n",
      "12 98 78\n",
      "Case 5\n",
      "12 15 98\n"
     ]
    }
   ],
   "source": [
    "def test(a,b=15,c=50):\n",
    "    print(a,b,c)\n",
    "\n",
    "test(10)\n",
    "print('Case 2')\n",
    "test(12,13)\n",
    "print('Case 3')\n",
    "test(12,) # With a comma\n",
    "print('Case 4')\n",
    "test(c=78,a=12,b=98)\n",
    "print('Case 5')\n",
    "test(12,c=98)"
   ]
  },
  {
   "cell_type": "code",
   "execution_count": 41,
   "id": "2e51c8e0-0be2-46a3-b659-0be65d0ad7c1",
   "metadata": {},
   "outputs": [
    {
     "ename": "SyntaxError",
     "evalue": "positional argument follows keyword argument (3541753610.py, line 12)",
     "output_type": "error",
     "traceback": [
      "\u001b[0;36m  Cell \u001b[0;32mIn[41], line 12\u001b[0;36m\u001b[0m\n\u001b[0;31m    test(c=78,10,20)\u001b[0m\n\u001b[0m                   ^\u001b[0m\n\u001b[0;31mSyntaxError\u001b[0m\u001b[0;31m:\u001b[0m positional argument follows keyword argument\n"
     ]
    }
   ],
   "source": [
    "def test(a,b=15,c=50):\n",
    "    print(a,b,c)\n",
    "\n",
    "test(10)\n",
    "print('Case 2')\n",
    "test(12,13)\n",
    "print('Case 3')\n",
    "test(12,) # With a comma\n",
    "print('Case 4')\n",
    "test(c=78,a=12,b=98)\n",
    "print('Case 5')\n",
    "test(c=78,10,20)"
   ]
  },
  {
   "cell_type": "markdown",
   "id": "33c25356-8b5a-4f18-aaae-ab8c58b99934",
   "metadata": {},
   "source": [
    "## Default arguments should follow non-default arguments"
   ]
  },
  {
   "cell_type": "code",
   "execution_count": 46,
   "id": "32142296-0dd6-445d-84e7-05908ae915ea",
   "metadata": {},
   "outputs": [
    {
     "ename": "SyntaxError",
     "evalue": "non-default argument follows default argument (417102265.py, line 1)",
     "output_type": "error",
     "traceback": [
      "\u001b[0;36m  Cell \u001b[0;32mIn[46], line 1\u001b[0;36m\u001b[0m\n\u001b[0;31m    def test(a=10,b,c):\u001b[0m\n\u001b[0m                  ^\u001b[0m\n\u001b[0;31mSyntaxError\u001b[0m\u001b[0;31m:\u001b[0m non-default argument follows default argument\n"
     ]
    }
   ],
   "source": [
    "def test(a=10,b,c):\n",
    "    print(a,b,c)\n",
    "\n",
    "test(10,90)"
   ]
  }
 ],
 "metadata": {
  "kernelspec": {
   "display_name": "Python 3 (ipykernel)",
   "language": "python",
   "name": "python3"
  },
  "language_info": {
   "codemirror_mode": {
    "name": "ipython",
    "version": 3
   },
   "file_extension": ".py",
   "mimetype": "text/x-python",
   "name": "python",
   "nbconvert_exporter": "python",
   "pygments_lexer": "ipython3",
   "version": "3.12.0"
  }
 },
 "nbformat": 4,
 "nbformat_minor": 5
}
