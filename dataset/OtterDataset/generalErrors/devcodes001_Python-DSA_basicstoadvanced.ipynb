{
 "cells": [
  {
   "cell_type": "markdown",
   "metadata": {},
   "source": [
    "# Python Programming"
   ]
  },
  {
   "cell_type": "markdown",
   "metadata": {},
   "source": [
    "Python was created by Guido-van rossum in 1991\n",
    "\n",
    "Features\n",
    "- Simple and easy to learn\n",
    "- Open source and free\n",
    "- Portable\n",
    "- Large builtin libraries\n",
    "- High level programming language\n",
    "\n",
    "Limitations\n",
    "\n",
    "- Performance wise is not up to the mark,as it is interpretted\n",
    "- Python is not suitable for large scale enterprice applications"
   ]
  },
  {
   "cell_type": "markdown",
   "metadata": {},
   "source": [
    "Variables : variables are memory locations to hold values"
   ]
  },
  {
   "cell_type": "code",
   "execution_count": 13,
   "metadata": {},
   "outputs": [
    {
     "name": "stdout",
     "output_type": "stream",
     "text": [
      "10\n"
     ]
    }
   ],
   "source": [
    "a = 10\n",
    "print(a)"
   ]
  },
  {
   "cell_type": "markdown",
   "metadata": {},
   "source": [
    "Identifiers : names given to the program elements is called identifier\n",
    "\n",
    "rules:\n",
    "- can use uppercase and lowercase digits\n",
    "- cannot use keywords\n",
    "- cannot start with a digit\n",
    "- can only use the special character (-)\n",
    "\n",
    "keywords:These are the reserved words used in the python program.There are 33 reserved words\n",
    "\n",
    "eg: True,False,None,if,else,elif,for,while,etc\n"
   ]
  },
  {
   "cell_type": "code",
   "execution_count": 14,
   "metadata": {},
   "outputs": [
    {
     "data": {
      "text/plain": [
       "['False',\n",
       " 'None',\n",
       " 'True',\n",
       " 'and',\n",
       " 'as',\n",
       " 'assert',\n",
       " 'async',\n",
       " 'await',\n",
       " 'break',\n",
       " 'class',\n",
       " 'continue',\n",
       " 'def',\n",
       " 'del',\n",
       " 'elif',\n",
       " 'else',\n",
       " 'except',\n",
       " 'finally',\n",
       " 'for',\n",
       " 'from',\n",
       " 'global',\n",
       " 'if',\n",
       " 'import',\n",
       " 'in',\n",
       " 'is',\n",
       " 'lambda',\n",
       " 'nonlocal',\n",
       " 'not',\n",
       " 'or',\n",
       " 'pass',\n",
       " 'raise',\n",
       " 'return',\n",
       " 'try',\n",
       " 'while',\n",
       " 'with',\n",
       " 'yield']"
      ]
     },
     "execution_count": 14,
     "metadata": {},
     "output_type": "execute_result"
    }
   ],
   "source": [
    "import keyword\n",
    "keyword.kwlist"
   ]
  },
  {
   "cell_type": "code",
   "execution_count": 15,
   "metadata": {},
   "outputs": [
    {
     "name": "stdout",
     "output_type": "stream",
     "text": [
      "\n"
     ]
    }
   ],
   "source": [
    "print() #this is used to print values "
   ]
  },
  {
   "cell_type": "markdown",
   "metadata": {},
   "source": [
    "Basic data types\n",
    "- Numeric datatype\n",
    "  - int : integral values,values without decimal\n",
    "  - float : floating point values,values with decimal points\n",
    "  - complex : complex numbers,number having a realpart and imaginary part\n",
    "- Non Numeric datatype\n",
    "  - string : string is a group of characters that are enclosed within single quotes or double quotes\n",
    "  - boolean : it is a datatype that have only 2 values True,False"
   ]
  },
  {
   "cell_type": "code",
   "execution_count": 16,
   "metadata": {},
   "outputs": [
    {
     "name": "stdout",
     "output_type": "stream",
     "text": [
      "<class 'int'>\n",
      "<class 'float'>\n",
      "<class 'complex'>\n",
      "10.0\n",
      "5.0\n",
      "<class 'str'>\n",
      "<class 'bool'>\n"
     ]
    }
   ],
   "source": [
    "#Int\n",
    "i = 10\n",
    "print(type(a))\n",
    "#Float\n",
    "f = 10.01\n",
    "print(type(f))\n",
    "#Complex\n",
    "c = 10 + 5j\n",
    "print(type(c))\n",
    "print(c.real) #prints the real part\n",
    "print(c.imag) #prints the imaginary part\n",
    "#String\n",
    "s = \"Glad you r leaning python\"\n",
    "print(type(s))\n",
    "#Boolean\n",
    "b = True\n",
    "print(type(b))"
   ]
  },
  {
   "cell_type": "markdown",
   "metadata": {},
   "source": [
    "Type casting or type coersion : It is used to convert one datatype to another\n",
    "\n",
    "    eg : a = 2 -> int this can be converted to float \n",
    "     float(a) -> 2.0"
   ]
  },
  {
   "cell_type": "code",
   "execution_count": 17,
   "metadata": {},
   "outputs": [
    {
     "data": {
      "text/plain": [
       "''"
      ]
     },
     "execution_count": 17,
     "metadata": {},
     "output_type": "execute_result"
    }
   ],
   "source": [
    "int() \n",
    "float()\n",
    "complex()\n",
    "bool()\n",
    "str()"
   ]
  },
  {
   "cell_type": "markdown",
   "metadata": {},
   "source": [
    "constants : constants are the values that are not going to change \n",
    "\n",
    "     pi = 3.14 "
   ]
  },
  {
   "cell_type": "markdown",
   "metadata": {},
   "source": [
    "Operators : It is used to perform operations\n",
    "\n",
    "A + B -> here A and B are operands , (+) is the operator\n",
    "\n",
    "Arithmetic operators\n",
    "- Addition (+)\n",
    "- Substraction (-)\n",
    "- Division (/)\n",
    "- Modulus (%)\n",
    "- Floor division (//)\n",
    "- Exponent (**)"
   ]
  },
  {
   "cell_type": "code",
   "execution_count": 18,
   "metadata": {},
   "outputs": [
    {
     "name": "stdout",
     "output_type": "stream",
     "text": [
      "20\n",
      "4\n",
      "96\n",
      "1.5\n",
      "4\n",
      "1\n",
      "429981696\n"
     ]
    }
   ],
   "source": [
    "a = 12\n",
    "b = 8\n",
    "print(a + b)\n",
    "print(a - b)\n",
    "print(a * b)\n",
    "print(a / b)\n",
    "print(a % b)\n",
    "print(a // b)\n",
    "print(a ** b)"
   ]
  },
  {
   "cell_type": "markdown",
   "metadata": {},
   "source": [
    "Relational operators\n",
    "- < , less than\n",
    "- ( > ) , Greater than\n",
    "- <= , less than or equal to\n",
    "- ( >= ) , greater than or equal to\n",
    "- == , equal to\n",
    "- != , not equal to"
   ]
  },
  {
   "cell_type": "code",
   "execution_count": 19,
   "metadata": {},
   "outputs": [
    {
     "name": "stdout",
     "output_type": "stream",
     "text": [
      "False\n",
      "True\n",
      "False\n",
      "True\n",
      "False\n",
      "True\n"
     ]
    }
   ],
   "source": [
    "print( a < b)\n",
    "print(a > b)\n",
    "print(a <= b)\n",
    "print(a >= b)\n",
    "print(a == b)\n",
    "print(a != b)"
   ]
  },
  {
   "cell_type": "markdown",
   "metadata": {},
   "source": [
    "Assaignment operator\n",
    "- equal -> = \n",
    "\n",
    "Compound Assaignment operators\n",
    "- +=\n",
    "- -=\n",
    "- *=\n",
    "- /=\n",
    "- %=\n",
    "- //=\n",
    "- **="
   ]
  },
  {
   "cell_type": "code",
   "execution_count": 20,
   "metadata": {},
   "outputs": [
    {
     "name": "stdout",
     "output_type": "stream",
     "text": [
      "12\n",
      "10\n",
      "20\n",
      "10.0\n",
      "0.0\n",
      "0.0\n",
      "4\n"
     ]
    }
   ],
   "source": [
    "a = 10\n",
    "a += 2\n",
    "print(a)\n",
    "a -= 2\n",
    "print(a)\n",
    "a *= 2 \n",
    "print(a)\n",
    "a /= 2\n",
    "print(a)\n",
    "a %= 2\n",
    "print(a)\n",
    "a //= 2\n",
    "print(a)\n",
    "a=2\n",
    "a **= 2\n",
    "print(a)\n"
   ]
  },
  {
   "cell_type": "markdown",
   "metadata": {},
   "source": [
    "Logical operators\n",
    "- and\n",
    "- or\n",
    "- not"
   ]
  },
  {
   "cell_type": "code",
   "execution_count": 21,
   "metadata": {},
   "outputs": [
    {
     "name": "stdout",
     "output_type": "stream",
     "text": [
      "False\n",
      "True\n",
      "False\n"
     ]
    }
   ],
   "source": [
    "a = True\n",
    "b = False\n",
    "print(a and b)\n",
    "print(a or b)\n",
    "print(not a)"
   ]
  },
  {
   "cell_type": "markdown",
   "metadata": {},
   "source": [
    "Bitwise operators\n",
    "- |\n",
    "- &\n",
    "- ^\n",
    "- ~\n",
    "- <<\n",
    "- (>>)"
   ]
  },
  {
   "cell_type": "code",
   "execution_count": 22,
   "metadata": {},
   "outputs": [
    {
     "name": "stdout",
     "output_type": "stream",
     "text": [
      "a & b (AND): 1\n",
      "a | b (OR): 7\n",
      "a ^ b (XOR): 6\n",
      "~a (NOT): -6\n",
      "a << 1 (Left Shift): 10\n",
      "a >> 1 (Right Shift): 2\n"
     ]
    }
   ],
   "source": [
    "a = 5       # Binary: 0101\n",
    "b = 3       # Binary: 0011\n",
    "\n",
    "print(\"a & b (AND):\", a & b)       \n",
    "print(\"a | b (OR):\", a | b)        \n",
    "print(\"a ^ b (XOR):\", a ^ b)       \n",
    "print(\"~a (NOT):\", ~a)          \n",
    "print(\"a << 1 (Left Shift):\", a << 1)  \n",
    "print(\"a >> 1 (Right Shift):\", a >> 1)"
   ]
  },
  {
   "cell_type": "markdown",
   "metadata": {},
   "source": [
    "Ternary operator/conditional operator  :  "
   ]
  },
  {
   "cell_type": "code",
   "execution_count": 23,
   "metadata": {},
   "outputs": [
    {
     "name": "stdout",
     "output_type": "stream",
     "text": [
      "True\n"
     ]
    }
   ],
   "source": [
    "a=12\n",
    "x = True if a==12 else False\n",
    "print(x)"
   ]
  },
  {
   "cell_type": "markdown",
   "metadata": {},
   "source": [
    "Identity Operator : is operator is used for reference comparison where as == used for content comparison\n",
    "- is\n",
    "- is not"
   ]
  },
  {
   "cell_type": "code",
   "execution_count": 24,
   "metadata": {},
   "outputs": [
    {
     "name": "stdout",
     "output_type": "stream",
     "text": [
      "False\n",
      "True\n"
     ]
    }
   ],
   "source": [
    "a = 2\n",
    "b = 3\n",
    "print(a is b)\n",
    "print(a is not b)"
   ]
  },
  {
   "cell_type": "markdown",
   "metadata": {},
   "source": [
    "Membership Operator\n",
    "- in\n",
    "- not in "
   ]
  },
  {
   "cell_type": "code",
   "execution_count": 25,
   "metadata": {},
   "outputs": [
    {
     "name": "stdout",
     "output_type": "stream",
     "text": [
      "True\n",
      "False\n"
     ]
    }
   ],
   "source": [
    "a = 2\n",
    "b = [1,2,3]\n",
    "print(a in b)\n",
    "print(a not in b)"
   ]
  },
  {
   "cell_type": "markdown",
   "metadata": {},
   "source": [
    "Input statements : It is used to read input from user"
   ]
  },
  {
   "cell_type": "code",
   "execution_count": null,
   "metadata": {},
   "outputs": [],
   "source": [
    "n = int(input(\"enter the number : \"))\n",
    "print(n)"
   ]
  },
  {
   "cell_type": "markdown",
   "metadata": {},
   "source": [
    "Operator precedence: It is the order in which operations are performed\n",
    "\n",
    "() , ** , (* , / , %) , ( + , - ) "
   ]
  },
  {
   "cell_type": "markdown",
   "metadata": {},
   "source": [
    "Conditional statements : Based on the condition we can execute a program (statement)\n",
    "- if\n",
    "- elif\n",
    "- if-else\n",
    "- nested-if"
   ]
  },
  {
   "cell_type": "markdown",
   "metadata": {},
   "source": [
    "Simple-if statement\n",
    "\n",
    "if condition :\n",
    "   statement"
   ]
  },
  {
   "cell_type": "code",
   "execution_count": null,
   "metadata": {},
   "outputs": [
    {
     "name": "stdout",
     "output_type": "stream",
     "text": [
      "a is 10\n"
     ]
    }
   ],
   "source": [
    "a = 10\n",
    "if a == 10:\n",
    "    print(\"a is 10\")"
   ]
  },
  {
   "cell_type": "markdown",
   "metadata": {},
   "source": [
    "Flow control : T runtime , in which oreder the statements needed to be executed\n",
    "\n",
    "- conditional / selection statements - if , if -else , elif , nested if\n",
    "- iterative statements - for , while \n",
    "- transfer statements - break,continue,pass"
   ]
  },
  {
   "cell_type": "markdown",
   "metadata": {},
   "source": [
    "if - else statement\n",
    "\n",
    "if condiiton1:\n",
    "   statement\n",
    "else:\n",
    "   statement"
   ]
  },
  {
   "cell_type": "code",
   "execution_count": null,
   "metadata": {},
   "outputs": [],
   "source": [
    "a = int(input(\"enter the number 1 :\"))\n",
    "b = int(input(\"enter the number 2 :\"))\n",
    "if a > b:\n",
    "    print(\"a is greater\")\n",
    "else:\n",
    "    print(\"b is greater\")    "
   ]
  },
  {
   "cell_type": "markdown",
   "metadata": {},
   "source": [
    "elif statement"
   ]
  },
  {
   "cell_type": "code",
   "execution_count": null,
   "metadata": {},
   "outputs": [],
   "source": [
    "a = int(input(\"enter the number 1 : \"))\n",
    "b = int(input(\"enter the number 2 : \"))\n",
    "if a > b:\n",
    "    print(\"a is greater\")\n",
    "elif a==b:\n",
    "    print(\"a and b are same\")\n",
    "else:\n",
    "    print(\"b is greater\")  \n"
   ]
  },
  {
   "cell_type": "markdown",
   "metadata": {},
   "source": [
    "Nested-if statement"
   ]
  },
  {
   "cell_type": "code",
   "execution_count": null,
   "metadata": {},
   "outputs": [],
   "source": [
    "a = int(input(\"enter the number1 :\"))\n",
    "b = int(input(\"enter the number2 :\"))\n",
    "c = int(input(\"enter the number3 :\"))\n",
    "if a > b:\n",
    "    if a>c:\n",
    "        print(\"a is greater\")\n",
    "elif b>c:\n",
    "    print(\"b is greater\")   \n",
    "else:\n",
    "    print(\"c is greater\")     "
   ]
  },
  {
   "cell_type": "markdown",
   "metadata": {},
   "source": [
    "### **Basics questions**"
   ]
  },
  {
   "cell_type": "markdown",
   "metadata": {},
   "source": [
    "1. Area of the rectangle"
   ]
  },
  {
   "cell_type": "code",
   "execution_count": null,
   "metadata": {},
   "outputs": [
    {
     "name": "stdout",
     "output_type": "stream",
     "text": [
      "Area of the rectangle : 48\n"
     ]
    }
   ],
   "source": [
    "l = int(input(\"enter the length : \"))\n",
    "b = int(input(\"enter the breadth :\"))\n",
    "print(f\"Area of the rectangle : {l*b}\") #fstring "
   ]
  },
  {
   "cell_type": "markdown",
   "metadata": {},
   "source": [
    "2. find the volume of sphere"
   ]
  },
  {
   "cell_type": "code",
   "execution_count": null,
   "metadata": {},
   "outputs": [
    {
     "name": "stdout",
     "output_type": "stream",
     "text": [
      "volume of the sphere : 267.94666666666666\n"
     ]
    }
   ],
   "source": [
    "r = int(input(\"enter the volume :\"))\n",
    "pi = 3.14\n",
    "volume = (4/3)*pi*(r**3)\n",
    "print(f\"volume of the sphere : {volume}\")"
   ]
  },
  {
   "cell_type": "markdown",
   "metadata": {},
   "source": [
    "3. volume of cube"
   ]
  },
  {
   "cell_type": "code",
   "execution_count": null,
   "metadata": {},
   "outputs": [
    {
     "name": "stdout",
     "output_type": "stream",
     "text": [
      "volume of the cube : 27\n"
     ]
    }
   ],
   "source": [
    "s = int(input(\"enter the side of cube:\"))\n",
    "print(f\"volume of the cube : {s**3}\")"
   ]
  },
  {
   "cell_type": "markdown",
   "metadata": {},
   "source": [
    "4. find the simple interest"
   ]
  },
  {
   "cell_type": "code",
   "execution_count": null,
   "metadata": {},
   "outputs": [],
   "source": [
    "p = int(input(\"enter the principle amount : \"))\n",
    "r = int(input(\"enter the rate of interest : \"))\n",
    "n = int(input(\"enter the no of years : \"))\n",
    "SI = (p*r*n)/100\n",
    "print(f\"Simple interest : {SI}\")"
   ]
  },
  {
   "cell_type": "markdown",
   "metadata": {},
   "source": [
    "5. swap 2 numbers"
   ]
  },
  {
   "cell_type": "code",
   "execution_count": null,
   "metadata": {},
   "outputs": [
    {
     "name": "stdout",
     "output_type": "stream",
     "text": [
      "2\n",
      "1\n"
     ]
    }
   ],
   "source": [
    "a = int(input(\"enter the number1 : \"))\n",
    "b = int(input(\"enter the number 2: \"))\n",
    "temp = a \n",
    "a = b\n",
    "b = temp\n",
    "print(a)\n",
    "print(b)"
   ]
  },
  {
   "cell_type": "code",
   "execution_count": null,
   "metadata": {},
   "outputs": [
    {
     "name": "stdout",
     "output_type": "stream",
     "text": [
      "3\n",
      "4\n"
     ]
    }
   ],
   "source": [
    "a = int(input(\"enter the number1 : \"))\n",
    "b = int(input(\"enter the number 2: \"))\n",
    "a,b = b,a\n",
    "print(a)\n",
    "print(b)"
   ]
  },
  {
   "cell_type": "markdown",
   "metadata": {},
   "source": [
    "6. convert into hour, minutes and seconds"
   ]
  },
  {
   "cell_type": "code",
   "execution_count": null,
   "metadata": {},
   "outputs": [
    {
     "name": "stdout",
     "output_type": "stream",
     "text": [
      "1hr : 3min : 20sec\n"
     ]
    }
   ],
   "source": [
    "s = int(input(\"enter the seconds : \"))\n",
    "hour = s//3600\n",
    "minute = s%3600 // 60\n",
    "seconds = (s%3600)%60\n",
    "print(f\"{hour}hr : {minute}min : {seconds}sec\")"
   ]
  },
  {
   "cell_type": "markdown",
   "metadata": {},
   "source": [
    "7. Denomination of currency"
   ]
  },
  {
   "cell_type": "code",
   "execution_count": null,
   "metadata": {},
   "outputs": [
    {
     "name": "stdout",
     "output_type": "stream",
     "text": [
      "2 2000rs notes : 1 500rs notes : 0 200rs notes :0 100rs notes : 1 50rs notes : 0 20rs notes : 1 10rs notes : 1 5rs notes : 1 2rs notes : 1 1rs notes \n"
     ]
    }
   ],
   "source": [
    "amount = int(input(\"enter the amount : \"))\n",
    "a2000 = amount//2000\n",
    "a = amount%2000\n",
    "a500 = a//500\n",
    "a = a%500\n",
    "a200 = a//200\n",
    "a = a%200\n",
    "a100 = a//100\n",
    "a = a%100\n",
    "a50 = a//50\n",
    "a = a%50\n",
    "a20 = a//20\n",
    "a = a%20\n",
    "a10 = a//10\n",
    "a = a%10\n",
    "a5 = a//5\n",
    "a = a%5\n",
    "a2 = a//2\n",
    "a = a%2\n",
    "a1 = a//1     \n",
    "print(f\"{a2000} 2000rs notes : {a500} 500rs notes : {a200} 200rs notes :{a100} 100rs notes : {a50} 50rs notes : {a20} 20rs notes : {a10} 10rs notes : {a5} 5rs notes : {a2} 2rs notes : {a1} 1rs notes \")"
   ]
  },
  {
   "cell_type": "markdown",
   "metadata": {},
   "source": [
    "8. find the attendence percentage taking the total working days and no of days absent as  input and check whether the candidate is eligble for writing the exam"
   ]
  },
  {
   "cell_type": "code",
   "execution_count": null,
   "metadata": {},
   "outputs": [
    {
     "name": "stdout",
     "output_type": "stream",
     "text": [
      "you are eligble for writing the exam \n"
     ]
    }
   ],
   "source": [
    "workingdays = int(input(\"enter the total no of working days :\"))\n",
    "absent = int(input(\"enter the number of days absent : \"))\n",
    "percentage = ((workingdays - absent) / workingdays ) * 100\n",
    "if percentage>75:\n",
    "    print(\"you are eligble for writing the exam \")\n",
    "else:\n",
    "    print(\"you are not eligible for writing the exam\")    "
   ]
  },
  {
   "cell_type": "markdown",
   "metadata": {},
   "source": [
    "9. create a simple calculator taking 2 numbers and the operator from the user"
   ]
  },
  {
   "cell_type": "code",
   "execution_count": null,
   "metadata": {},
   "outputs": [
    {
     "name": "stdout",
     "output_type": "stream",
     "text": [
      "product of 12 * 3 = 36\n"
     ]
    }
   ],
   "source": [
    "num1 = int(input(\"enter the number 1 : \"))\n",
    "num2 = int(input(\"enter the number 2 :\"))\n",
    "operator = input(\"enter the operator :\")\n",
    "if operator == '+':\n",
    "    print(f\"sum of {num1} + {num2} = {num1 + num2}\")\n",
    "elif operator == '-':\n",
    "    print(f\"difference of {num1} - {num2} = {num1 - num2}\")\n",
    "elif operator == '*':\n",
    "    print(f\"product of {num1} * {num2} = {num1 * num2}\")\n",
    "elif operator == '/':\n",
    "    print(f\"quotient of {num1} / {num2} = {num1/num2}\")\n",
    "else:\n",
    "    print(\"enter the inputs correctly\")\n"
   ]
  },
  {
   "cell_type": "markdown",
   "metadata": {},
   "source": [
    "10 . find the largest number among 3 numbers "
   ]
  },
  {
   "cell_type": "code",
   "execution_count": null,
   "metadata": {},
   "outputs": [
    {
     "name": "stdout",
     "output_type": "stream",
     "text": [
      " 14 is greater\n"
     ]
    }
   ],
   "source": [
    "num1 = int(input(\"enter the number 1 : \"))\n",
    "num2 = int(input(\"enter the number 2 : \"))\n",
    "num3 = int(input(\"enter the number 3 : \"))\n",
    "if num1 > num2:\n",
    "    if num1>num3:\n",
    "        print(f\"{num1} is greater\")\n",
    "elif num2>num3:\n",
    "    print(f\"{num2} is greater\")\n",
    "else:\n",
    "    print(f\" {num3} is greater\")"
   ]
  },
  {
   "cell_type": "markdown",
   "metadata": {},
   "source": [
    "11 . check wheather the last digit is divisble by 3"
   ]
  },
  {
   "cell_type": "code",
   "execution_count": null,
   "metadata": {},
   "outputs": [
    {
     "name": "stdout",
     "output_type": "stream",
     "text": [
      "the last digit of the 12 is 2\n"
     ]
    }
   ],
   "source": [
    "n = int(input(\"enter the number : \"))\n",
    "l = n%10\n",
    "print(f\"the last digit of the {n} is {l}\")\n"
   ]
  },
  {
   "cell_type": "markdown",
   "metadata": {},
   "source": [
    "12. temperature conversion "
   ]
  },
  {
   "cell_type": "code",
   "execution_count": null,
   "metadata": {},
   "outputs": [
    {
     "name": "stdout",
     "output_type": "stream",
     "text": [
      "************Temperature converion **************\n",
      "type 1 for celicius to faranheit  2 for faranheit to celicius\n",
      "your temperature in fahrenheit : 53.6\n"
     ]
    }
   ],
   "source": [
    "print(\"************Temperature converion **************\")\n",
    "print(\"type 1 for celicius to faranheit  2 for faranheit to celicius\")\n",
    "n = int(input(\"enter your choice :\"))\n",
    "if n == 1:\n",
    "    c = int(input(\"enter your temperature in celsius :\"))\n",
    "    print(f\"your temperature in fahrenheit : {(c * (9/5)) + 32}\")\n",
    "elif n == 2:\n",
    "    f = int(input(\"enter your temperature in faherenheit :\"))\n",
    "    print(f\"your temperature in celsius : {(f -32)* 5/9}\") "
   ]
  },
  {
   "cell_type": "markdown",
   "metadata": {},
   "source": [
    "13.Write a Python program that takes a list of numbers as input from the user and prints out the maximum and minimum numbers in the list."
   ]
  },
  {
   "cell_type": "code",
   "execution_count": null,
   "metadata": {},
   "outputs": [
    {
     "name": "stdout",
     "output_type": "stream",
     "text": [
      "Maximum number on the list : 43\n",
      "Minimum number on the list : 4\n"
     ]
    }
   ],
   "source": [
    "n =input(\"enter the number on the list : \").split()\n",
    "l = []\n",
    "for i in n:\n",
    "    l.append(int(i))\n",
    "\n",
    "print(f\"Maximum number on the list : {max(l)}\")\n",
    "print(f\"Minimum number on the list : {min(l)}\")"
   ]
  },
  {
   "cell_type": "markdown",
   "metadata": {},
   "source": [
    "14.Create a Python program that prompts the user to enter their age and checks if they are eligible to vote. Use logical operators to check if the age is greater than or equal to 18 and less than or equal to 120. Print a message indicating whether the person can vote or not."
   ]
  },
  {
   "cell_type": "code",
   "execution_count": null,
   "metadata": {},
   "outputs": [],
   "source": [
    "age = int(input(\"enter the age :\"))\n",
    "if age >=18 and age <= 120:\n",
    "    print(\"you are eligible to vote : \")\n",
    "else:\n",
    "    print(\"you are not eligible to vote\")\n"
   ]
  },
  {
   "cell_type": "markdown",
   "metadata": {},
   "source": [
    "15 . Write program to check a number is even or odd"
   ]
  },
  {
   "cell_type": "code",
   "execution_count": null,
   "metadata": {},
   "outputs": [
    {
     "name": "stdout",
     "output_type": "stream",
     "text": [
      "3 number is odd\n"
     ]
    }
   ],
   "source": [
    "n = int(input('enter the number :'))\n",
    "if n%2==0:\n",
    "    print(f\"{n} number is even\")\n",
    "else:\n",
    "    print(f\"{n} number is odd\")"
   ]
  },
  {
   "cell_type": "markdown",
   "metadata": {},
   "source": [
    "16.Write a program to check whether given year is leap year or not"
   ]
  },
  {
   "cell_type": "code",
   "execution_count": null,
   "metadata": {},
   "outputs": [
    {
     "name": "stdout",
     "output_type": "stream",
     "text": [
      "2024 is leap year\n"
     ]
    }
   ],
   "source": [
    "year = int(input(\"enter the year : \"))\n",
    "if year % 4 == 0:\n",
    "    if year % 100 == 0:\n",
    "        if year % 400 == 0:\n",
    "            print(f\"{year} is leap year\")\n",
    "        else:\n",
    "            print(f\"{year} is not leap year\")\n",
    "    else:\n",
    "        print(f\"{year} is leap year\")\n",
    "else:\n",
    "    print(f\"{year} is not leap year\") "
   ]
  },
  {
   "cell_type": "markdown",
   "metadata": {},
   "source": [
    "17. A shop will give discount of 10% if the cost of purchased quantity is more than 1000.\n",
    "Ask user for quantity\n",
    "Suppose, one unit will cost 100.\n",
    "Judge and print total cost for user.\n"
   ]
  },
  {
   "cell_type": "code",
   "execution_count": null,
   "metadata": {},
   "outputs": [
    {
     "name": "stdout",
     "output_type": "stream",
     "text": [
      "total cost of 10 units : 1000\n"
     ]
    }
   ],
   "source": [
    "n = int(input(\"enter the units : \"))\n",
    "c = n * 100\n",
    "if c > 1000:\n",
    "    q = (10/100) * c\n",
    "    tc = c - q\n",
    "    print(f\"total cost of {tc}\")\n",
    "else:\n",
    "    print(f\"total cost of {n} units : {c}\")"
   ]
  },
  {
   "cell_type": "markdown",
   "metadata": {},
   "source": [
    "18. accept the sides of the triangle and check whether it is equilateral , isoscles or scalene triangle"
   ]
  },
  {
   "cell_type": "code",
   "execution_count": null,
   "metadata": {},
   "outputs": [
    {
     "name": "stdout",
     "output_type": "stream",
     "text": [
      "isoscles\n"
     ]
    }
   ],
   "source": [
    "s1 = int(input(\"enter the side 1 : \"))\n",
    "s2 = int(input(\"enter the side 2 :\"))\n",
    "s3 = int(input(\"enter the side 3 :\"))\n",
    "if s1==s2==s3:\n",
    "    print(\"equilateral\")\n",
    "elif s1==s2 or s1==s3 or s2==s3:\n",
    "    print(\"isoscles\")\n",
    "elif s1!=s2!=s3:\n",
    "    print(\"scalene\")\n"
   ]
  },
  {
   "cell_type": "markdown",
   "metadata": {},
   "source": [
    "19.Take values of length and breadth of a rectangle from user and check if it is square or not."
   ]
  },
  {
   "cell_type": "code",
   "execution_count": null,
   "metadata": {},
   "outputs": [
    {
     "name": "stdout",
     "output_type": "stream",
     "text": [
      "square\n"
     ]
    }
   ],
   "source": [
    "l =int(input(\"enter the length : \"))\n",
    "b = int(input(\"enter the breadth :\"))\n",
    "if l==b:\n",
    "    print(\"square\")\n",
    "else:\n",
    "    print(\"rectangle | not a square\")    "
   ]
  },
  {
   "cell_type": "markdown",
   "metadata": {},
   "source": [
    "20 . A school has following rules for grading system:\n",
    "a. Below 25 - F\n",
    "b. 25 to 45 - E\n",
    "c. 45 to 50 - D\n",
    "d. 50 to 60 - C\n",
    "e. 60 to 80 - B\n",
    "f. Above 80 - A\n",
    "Ask user to enter marks and print the corresponding grade.\n"
   ]
  },
  {
   "cell_type": "code",
   "execution_count": null,
   "metadata": {},
   "outputs": [
    {
     "name": "stdout",
     "output_type": "stream",
     "text": [
      "your grade is B\n"
     ]
    }
   ],
   "source": [
    "p = int(input(\"enter the percentage :\"))\n",
    "if p <25:\n",
    "    print(\"your grade is F\")\n",
    "elif 25<p<=45:\n",
    "    print(\"your grade is E\")\n",
    "elif 45<p<=50:\n",
    "    print(\"your grade is D\")\n",
    "elif 50<p<=60:\n",
    "    print(\"your grade is C\")\n",
    "elif 60<p<=80:\n",
    "    print(\"your grade is B\")\n",
    "elif p>80:\n",
    "    print(\"your grade is A\")"
   ]
  },
  {
   "cell_type": "markdown",
   "metadata": {},
   "source": [
    "#### Loops\n",
    "a loop is used to itrate over a sequence\n",
    "- For loop\n",
    "- While loop"
   ]
  },
  {
   "cell_type": "markdown",
   "metadata": {},
   "source": [
    "    For each element in sequence :\n",
    "        do some action\n",
    "\n",
    "while loop is used when the no of iterations are not known"
   ]
  },
  {
   "cell_type": "code",
   "execution_count": null,
   "metadata": {},
   "outputs": [
    {
     "name": "stdout",
     "output_type": "stream",
     "text": [
      "1\n",
      "2\n",
      "3\n",
      "4\n",
      "5\n",
      "6\n",
      "7\n",
      "8\n",
      "9\n"
     ]
    }
   ],
   "source": [
    "for i in range(1,10):\n",
    "    print(i)"
   ]
  },
  {
   "cell_type": "code",
   "execution_count": null,
   "metadata": {},
   "outputs": [
    {
     "name": "stdout",
     "output_type": "stream",
     "text": [
      "1\n",
      "2\n",
      "3\n",
      "4\n",
      "5\n",
      "6\n",
      "7\n",
      "8\n",
      "9\n",
      "10\n"
     ]
    }
   ],
   "source": [
    "i = 1\n",
    "while i<=10:\n",
    "    print(i)\n",
    "    i+=1"
   ]
  },
  {
   "cell_type": "markdown",
   "metadata": {},
   "source": [
    "Nested loop : Loop inside another loop"
   ]
  },
  {
   "cell_type": "code",
   "execution_count": null,
   "metadata": {},
   "outputs": [
    {
     "name": "stdout",
     "output_type": "stream",
     "text": [
      "1\n",
      "2\n",
      "3\n",
      "4\n",
      "5\n",
      "6\n",
      "7\n",
      "8\n",
      "9\n",
      "2\n",
      "4\n",
      "6\n",
      "8\n",
      "10\n",
      "12\n",
      "14\n",
      "16\n",
      "18\n",
      "3\n",
      "6\n",
      "9\n",
      "12\n",
      "15\n",
      "18\n",
      "21\n",
      "24\n",
      "27\n",
      "4\n",
      "8\n",
      "12\n",
      "16\n",
      "20\n",
      "24\n",
      "28\n",
      "32\n",
      "36\n",
      "5\n",
      "10\n",
      "15\n",
      "20\n",
      "25\n",
      "30\n",
      "35\n",
      "40\n",
      "45\n",
      "6\n",
      "12\n",
      "18\n",
      "24\n",
      "30\n",
      "36\n",
      "42\n",
      "48\n",
      "54\n",
      "7\n",
      "14\n",
      "21\n",
      "28\n",
      "35\n",
      "42\n",
      "49\n",
      "56\n",
      "63\n",
      "8\n",
      "16\n",
      "24\n",
      "32\n",
      "40\n",
      "48\n",
      "56\n",
      "64\n",
      "72\n",
      "9\n",
      "18\n",
      "27\n",
      "36\n",
      "45\n",
      "54\n",
      "63\n",
      "72\n",
      "81\n"
     ]
    }
   ],
   "source": [
    "for i in range(1,10):\n",
    "    for j in range(1,10):\n",
    "        print(i*j)"
   ]
  },
  {
   "cell_type": "markdown",
   "metadata": {},
   "source": [
    "Transfer statements : \n",
    "1. break : based on some condition break loop execution\n",
    "2. continue : skip current iteration"
   ]
  },
  {
   "cell_type": "code",
   "execution_count": null,
   "metadata": {},
   "outputs": [
    {
     "name": "stdout",
     "output_type": "stream",
     "text": [
      "1\n",
      "2\n",
      "3\n",
      "4\n",
      "5\n",
      "6\n"
     ]
    }
   ],
   "source": [
    "#break\n",
    "for i in range(1,10):\n",
    "    if i == 7 :\n",
    "        break\n",
    "    print(i)"
   ]
  },
  {
   "cell_type": "code",
   "execution_count": null,
   "metadata": {},
   "outputs": [
    {
     "name": "stdout",
     "output_type": "stream",
     "text": [
      "1\n",
      "2\n",
      "3\n",
      "4\n",
      "5\n",
      "6\n",
      "8\n",
      "9\n"
     ]
    }
   ],
   "source": [
    "#continue\n",
    "for i in range(1,10):\n",
    "    if i == 7:\n",
    "        continue\n",
    "    print(i)"
   ]
  },
  {
   "cell_type": "markdown",
   "metadata": {},
   "source": [
    "## Problems"
   ]
  },
  {
   "cell_type": "markdown",
   "metadata": {},
   "source": [
    "1. Print numbers divisible by 3 or 5 from 1 to 20 using a for loop"
   ]
  },
  {
   "cell_type": "code",
   "execution_count": null,
   "metadata": {},
   "outputs": [
    {
     "name": "stdout",
     "output_type": "stream",
     "text": [
      "3\n",
      "5\n",
      "6\n",
      "9\n",
      "10\n",
      "12\n",
      "15\n",
      "18\n",
      "20\n"
     ]
    }
   ],
   "source": [
    "for i in range(1,21):\n",
    "    if i % 3 == 0 or i%5 == 0:\n",
    "        print(i)"
   ]
  },
  {
   "cell_type": "markdown",
   "metadata": {},
   "source": [
    "2.Print numbers from 1 to 10. If a number is divisible by 4, stop the loop using a for loop and break statement:"
   ]
  },
  {
   "cell_type": "code",
   "execution_count": null,
   "metadata": {},
   "outputs": [
    {
     "name": "stdout",
     "output_type": "stream",
     "text": [
      "1\n",
      "2\n",
      "3\n"
     ]
    }
   ],
   "source": [
    "for i in range(1,11):\n",
    "    if i%4==0:\n",
    "        break\n",
    "    print(i)"
   ]
  },
  {
   "cell_type": "markdown",
   "metadata": {},
   "source": [
    "3. Python program that accepts a word from the user and reverses it."
   ]
  },
  {
   "cell_type": "code",
   "execution_count": null,
   "metadata": {},
   "outputs": [
    {
     "name": "stdout",
     "output_type": "stream",
     "text": [
      "v\n",
      "e\n",
      "d\n"
     ]
    }
   ],
   "source": [
    "s = input(\"enter the string to be reversed : \")\n",
    "for i in range(len(s)-1,-1,-1):\n",
    "    print(s[i])"
   ]
  },
  {
   "cell_type": "markdown",
   "metadata": {},
   "source": [
    "4. Count characters in the string"
   ]
  },
  {
   "cell_type": "code",
   "execution_count": null,
   "metadata": {},
   "outputs": [
    {
     "name": "stdout",
     "output_type": "stream",
     "text": [
      "count of the string : 3\n"
     ]
    }
   ],
   "source": [
    "s = input(\"enter the string:\")\n",
    "c=0\n",
    "for i in s:\n",
    "    c+=1\n",
    "print(f\"count of the string : {c}\")"
   ]
  },
  {
   "cell_type": "markdown",
   "metadata": {},
   "source": [
    "5. Find out the given number is prime or composite"
   ]
  },
  {
   "cell_type": "code",
   "execution_count": null,
   "metadata": {},
   "outputs": [
    {
     "name": "stdout",
     "output_type": "stream",
     "text": [
      "composite\n"
     ]
    }
   ],
   "source": [
    "n =int(input('Enter the number :'))\n",
    "c = 0\n",
    "for i in range(1,n+1):\n",
    "    if n%i==0:\n",
    "        c+=1\n",
    "if c==2:\n",
    "    print(\"prime\")\n",
    "else:\n",
    "    print(\"composite\")"
   ]
  },
  {
   "cell_type": "markdown",
   "metadata": {},
   "source": [
    "6. Find the factorial of a number "
   ]
  },
  {
   "cell_type": "code",
   "execution_count": null,
   "metadata": {},
   "outputs": [
    {
     "name": "stdout",
     "output_type": "stream",
     "text": [
      "factorial of 5 = 120\n"
     ]
    }
   ],
   "source": [
    "n = int(input(\"enter the number : \"))\n",
    "f=1\n",
    "for i in range(1,n+1):\n",
    "    f*=i\n",
    "print(f\"factorial of {n} = {f}\")"
   ]
  },
  {
   "cell_type": "markdown",
   "metadata": {},
   "source": [
    "7.find the fibonacci series"
   ]
  },
  {
   "cell_type": "code",
   "execution_count": null,
   "metadata": {},
   "outputs": [
    {
     "name": "stdout",
     "output_type": "stream",
     "text": [
      "0\n",
      "1\n",
      "1\n",
      "2\n",
      "3\n",
      "5\n",
      "8\n",
      "13\n",
      "21\n",
      "34\n"
     ]
    }
   ],
   "source": [
    "n =int(input(\"enter the number : \"))\n",
    "f = 0\n",
    "s = 1 \n",
    "\n",
    "for i in range(1,n+1):\n",
    "    print(f)\n",
    "    t = f+s\n",
    "    f=s\n",
    "    s=t\n"
   ]
  },
  {
   "cell_type": "markdown",
   "metadata": {},
   "source": [
    "8. find the multiplication table "
   ]
  },
  {
   "cell_type": "code",
   "execution_count": null,
   "metadata": {},
   "outputs": [
    {
     "name": "stdout",
     "output_type": "stream",
     "text": [
      "Multiplication table of 1\n",
      "1 * 1 = 1\n",
      "1 * 2 = 2\n",
      "1 * 3 = 3\n",
      "1 * 4 = 4\n",
      "1 * 5 = 5\n",
      "1 * 6 = 6\n",
      "1 * 7 = 7\n",
      "1 * 8 = 8\n",
      "1 * 9 = 9\n",
      "1 * 10 = 10\n",
      "Multiplication table of 2\n",
      "2 * 1 = 2\n",
      "2 * 2 = 4\n",
      "2 * 3 = 6\n",
      "2 * 4 = 8\n",
      "2 * 5 = 10\n",
      "2 * 6 = 12\n",
      "2 * 7 = 14\n",
      "2 * 8 = 16\n",
      "2 * 9 = 18\n",
      "2 * 10 = 20\n",
      "Multiplication table of 3\n",
      "3 * 1 = 3\n",
      "3 * 2 = 6\n",
      "3 * 3 = 9\n",
      "3 * 4 = 12\n",
      "3 * 5 = 15\n",
      "3 * 6 = 18\n",
      "3 * 7 = 21\n",
      "3 * 8 = 24\n",
      "3 * 9 = 27\n",
      "3 * 10 = 30\n",
      "Multiplication table of 4\n",
      "4 * 1 = 4\n",
      "4 * 2 = 8\n",
      "4 * 3 = 12\n",
      "4 * 4 = 16\n",
      "4 * 5 = 20\n",
      "4 * 6 = 24\n",
      "4 * 7 = 28\n",
      "4 * 8 = 32\n",
      "4 * 9 = 36\n",
      "4 * 10 = 40\n",
      "Multiplication table of 5\n",
      "5 * 1 = 5\n",
      "5 * 2 = 10\n",
      "5 * 3 = 15\n",
      "5 * 4 = 20\n",
      "5 * 5 = 25\n",
      "5 * 6 = 30\n",
      "5 * 7 = 35\n",
      "5 * 8 = 40\n",
      "5 * 9 = 45\n",
      "5 * 10 = 50\n",
      "Multiplication table of 6\n",
      "6 * 1 = 6\n",
      "6 * 2 = 12\n",
      "6 * 3 = 18\n",
      "6 * 4 = 24\n",
      "6 * 5 = 30\n",
      "6 * 6 = 36\n",
      "6 * 7 = 42\n",
      "6 * 8 = 48\n",
      "6 * 9 = 54\n",
      "6 * 10 = 60\n",
      "Multiplication table of 7\n",
      "7 * 1 = 7\n",
      "7 * 2 = 14\n",
      "7 * 3 = 21\n",
      "7 * 4 = 28\n",
      "7 * 5 = 35\n",
      "7 * 6 = 42\n",
      "7 * 7 = 49\n",
      "7 * 8 = 56\n",
      "7 * 9 = 63\n",
      "7 * 10 = 70\n",
      "Multiplication table of 8\n",
      "8 * 1 = 8\n",
      "8 * 2 = 16\n",
      "8 * 3 = 24\n",
      "8 * 4 = 32\n",
      "8 * 5 = 40\n",
      "8 * 6 = 48\n",
      "8 * 7 = 56\n",
      "8 * 8 = 64\n",
      "8 * 9 = 72\n",
      "8 * 10 = 80\n",
      "Multiplication table of 9\n",
      "9 * 1 = 9\n",
      "9 * 2 = 18\n",
      "9 * 3 = 27\n",
      "9 * 4 = 36\n",
      "9 * 5 = 45\n",
      "9 * 6 = 54\n",
      "9 * 7 = 63\n",
      "9 * 8 = 72\n",
      "9 * 9 = 81\n",
      "9 * 10 = 90\n",
      "Multiplication table of 10\n",
      "10 * 1 = 10\n",
      "10 * 2 = 20\n",
      "10 * 3 = 30\n",
      "10 * 4 = 40\n",
      "10 * 5 = 50\n",
      "10 * 6 = 60\n",
      "10 * 7 = 70\n",
      "10 * 8 = 80\n",
      "10 * 9 = 90\n",
      "10 * 10 = 100\n"
     ]
    }
   ],
   "source": [
    "for i in range(1,11):\n",
    "    print(f\"Multiplication table of {i}\")\n",
    "    for j in range(1,11):\n",
    "        print(f\"{i} * {j} = {i*j}\")"
   ]
  },
  {
   "cell_type": "markdown",
   "metadata": {},
   "source": [
    "9. print the vowels in the given string"
   ]
  },
  {
   "cell_type": "code",
   "execution_count": null,
   "metadata": {},
   "outputs": [
    {
     "name": "stdout",
     "output_type": "stream",
     "text": [
      "e\n",
      "u\n"
     ]
    }
   ],
   "source": [
    "s = input(\"enter the string:\")\n",
    "for i in s:\n",
    "    if i in \"aeiouAEIOU\":\n",
    "        print(i)"
   ]
  },
  {
   "cell_type": "markdown",
   "metadata": {},
   "source": [
    "10. count the odd and even "
   ]
  },
  {
   "cell_type": "code",
   "execution_count": null,
   "metadata": {},
   "outputs": [
    {
     "name": "stdout",
     "output_type": "stream",
     "text": [
      "odd : 50 even : 50\n"
     ]
    }
   ],
   "source": [
    "n =int(input(\"enter the odd : \"))\n",
    "co = 0\n",
    "ce = 0\n",
    "for i in range(1,n+1):\n",
    "    if i%2==0:\n",
    "        ce+=1\n",
    "    else:\n",
    "        co+=1\n",
    "print(f\"odd : {co} even : {ce}\")"
   ]
  },
  {
   "cell_type": "markdown",
   "metadata": {},
   "source": [
    "11. find fibinocci series using while loop"
   ]
  },
  {
   "cell_type": "code",
   "execution_count": null,
   "metadata": {},
   "outputs": [
    {
     "name": "stdout",
     "output_type": "stream",
     "text": [
      "0\n",
      "1\n",
      "1\n",
      "2\n",
      "3\n",
      "5\n",
      "8\n",
      "13\n",
      "21\n",
      "34\n",
      "55\n",
      "89\n"
     ]
    }
   ],
   "source": [
    "n = int(input(\"enter the number : \"))\n",
    "f = 0\n",
    "s = 1\n",
    "i  = 1\n",
    "while i<=n:\n",
    "    print(f)\n",
    "    t = f+s\n",
    "    f = s\n",
    "    s = t\n",
    "    i+=1"
   ]
  },
  {
   "cell_type": "markdown",
   "metadata": {},
   "source": [
    "12. check wheather the  3-digit number is armstrong or not"
   ]
  },
  {
   "cell_type": "code",
   "execution_count": null,
   "metadata": {},
   "outputs": [
    {
     "name": "stdout",
     "output_type": "stream",
     "text": [
      "armstrong\n"
     ]
    }
   ],
   "source": [
    "n = int(input(\"enter the number :\"))\n",
    "num= n\n",
    "s = 0\n",
    "while n>0:\n",
    "     d = n%10\n",
    "     d = d**3\n",
    "     s += d\n",
    "     n//=10\n",
    "if s == num:\n",
    "     print(\"armstrong\")\n",
    "else:\n",
    "    print(\"not armstrong\")"
   ]
  },
  {
   "cell_type": "markdown",
   "metadata": {},
   "source": [
    "13. check wheather the given number is armstrong"
   ]
  },
  {
   "cell_type": "code",
   "execution_count": null,
   "metadata": {},
   "outputs": [
    {
     "name": "stdout",
     "output_type": "stream",
     "text": [
      "not armstrong\n"
     ]
    }
   ],
   "source": [
    "n = int(input(\"enter the number :\"))\n",
    "num= n\n",
    "s = 0\n",
    "while n>0:\n",
    "     d = n%10\n",
    "     d = d**len(str(num))\n",
    "     s += d\n",
    "     n//=10\n",
    "if s == num:\n",
    "     print(\"armstrong\")\n",
    "else:\n",
    "    print(\"not armstrong\")"
   ]
  },
  {
   "cell_type": "markdown",
   "metadata": {},
   "source": [
    "14. print the fibinocci series below 10"
   ]
  },
  {
   "cell_type": "code",
   "execution_count": null,
   "metadata": {},
   "outputs": [
    {
     "name": "stdout",
     "output_type": "stream",
     "text": [
      "0\n",
      "1\n",
      "1\n",
      "2\n",
      "3\n",
      "5\n",
      "8\n"
     ]
    }
   ],
   "source": [
    "\n",
    "f = 0\n",
    "s = 1\n",
    "while f<10:\n",
    "    print(f)\n",
    "    t = f+s\n",
    "    f = s\n",
    "    s = t"
   ]
  },
  {
   "cell_type": "markdown",
   "metadata": {},
   "source": [
    "nested - loop problems"
   ]
  },
  {
   "cell_type": "markdown",
   "metadata": {},
   "source": [
    "15. armstrong number between 1 - 1000"
   ]
  },
  {
   "cell_type": "code",
   "execution_count": null,
   "metadata": {},
   "outputs": [],
   "source": [
    "for i in range(1, 1000):\n",
    "    s = 0\n",
    "    n = i\n",
    "    while n > 0:\n",
    "        d = n % 10\n",
    "        s += d ** len(str(i))\n",
    "        n //= 10\n",
    "    if s == i:\n",
    "        print(i)\n"
   ]
  },
  {
   "cell_type": "markdown",
   "metadata": {},
   "source": [
    "16 . find a number is perfect number or not "
   ]
  },
  {
   "cell_type": "code",
   "execution_count": null,
   "metadata": {},
   "outputs": [
    {
     "name": "stdout",
     "output_type": "stream",
     "text": [
      "perfect number\n"
     ]
    }
   ],
   "source": [
    "n = int(input(\"enter the number : \"))\n",
    "s=0\n",
    "for i in range(1,n):\n",
    "    \n",
    "    if n%i == 0:\n",
    "        s+=i\n",
    "if n == s:\n",
    "    print(\"perfect number\")"
   ]
  },
  {
   "cell_type": "code",
   "execution_count": null,
   "metadata": {},
   "outputs": [
    {
     "name": "stdout",
     "output_type": "stream",
     "text": [
      "6\n",
      "28\n"
     ]
    }
   ],
   "source": [
    "for i in range(1,100):\n",
    "    s=0\n",
    "    for j in range(1,i):\n",
    "        if i %j == 0:\n",
    "            s+=j\n",
    "    if s == i:\n",
    "        print(i)"
   ]
  },
  {
   "cell_type": "markdown",
   "metadata": {},
   "source": [
    "17. print prime numbers less than 100"
   ]
  },
  {
   "cell_type": "code",
   "execution_count": null,
   "metadata": {},
   "outputs": [
    {
     "name": "stdout",
     "output_type": "stream",
     "text": [
      "2\n",
      "3\n",
      "5\n",
      "7\n",
      "11\n",
      "13\n",
      "17\n",
      "19\n",
      "23\n",
      "29\n",
      "31\n",
      "37\n",
      "41\n",
      "43\n",
      "47\n",
      "53\n",
      "59\n",
      "61\n",
      "67\n",
      "71\n",
      "73\n",
      "79\n",
      "83\n",
      "89\n",
      "97\n"
     ]
    }
   ],
   "source": [
    "for i in range(1,100):\n",
    "    c = 0\n",
    "    for j in range(1,i+1):\n",
    "        if i%j==0:\n",
    "            c+=1\n",
    "    if c ==2:\n",
    "        print(i)"
   ]
  },
  {
   "cell_type": "markdown",
   "metadata": {},
   "source": [
    "Pattern problems"
   ]
  },
  {
   "cell_type": "code",
   "execution_count": null,
   "metadata": {},
   "outputs": [
    {
     "name": "stdout",
     "output_type": "stream",
     "text": [
      "* * * * \n",
      "* * * * \n",
      "* * * * \n",
      "* * * * \n"
     ]
    }
   ],
   "source": [
    "# * * * * \n",
    "# * * * * \n",
    "# * * * * \n",
    "# * * * * \n",
    "for i in range(1,5):\n",
    "    for j in range(1,5):\n",
    "        print(\"*\",end = ' ')\n",
    "    print()"
   ]
  },
  {
   "cell_type": "code",
   "execution_count": null,
   "metadata": {},
   "outputs": [
    {
     "name": "stdout",
     "output_type": "stream",
     "text": [
      "1 2 3 4 \n",
      "1 2 3 4 \n",
      "1 2 3 4 \n",
      "1 2 3 4 \n"
     ]
    }
   ],
   "source": [
    "# 1 2 3 4 \n",
    "# 1 2 3 4 \n",
    "# 1 2 3 4 \n",
    "# 1 2 3 4 \n",
    "\n",
    "for i in range(1,5):\n",
    "    for j in range(1,5):\n",
    "        print(j,end = ' ')\n",
    "    print()"
   ]
  },
  {
   "cell_type": "code",
   "execution_count": null,
   "metadata": {},
   "outputs": [
    {
     "name": "stdout",
     "output_type": "stream",
     "text": [
      "1 1 1 1 \n",
      "2 2 2 2 \n",
      "3 3 3 3 \n",
      "4 4 4 4 \n"
     ]
    }
   ],
   "source": [
    "# 1 1 1 1 \n",
    "# 2 2 2 2 \n",
    "# 3 3 3 3 \n",
    "# 4 4 4 4 \n",
    "for i in range(1,5):\n",
    "    for j in range(1,5):\n",
    "        print(i,end = ' ')\n",
    "    print()"
   ]
  },
  {
   "cell_type": "code",
   "execution_count": null,
   "metadata": {},
   "outputs": [
    {
     "name": "stdout",
     "output_type": "stream",
     "text": [
      "1 \n",
      "1 2 \n",
      "1 2 3 \n",
      "1 2 3 4 \n"
     ]
    }
   ],
   "source": [
    "# 1 \n",
    "# 1 2 \n",
    "# 1 2 3 \n",
    "# 1 2 3 4 \n",
    "\n",
    "for i in range(1,5):\n",
    "    for j in range(1,i+1):\n",
    "        print(j,end=' ')\n",
    "    print()"
   ]
  },
  {
   "cell_type": "code",
   "execution_count": null,
   "metadata": {},
   "outputs": [
    {
     "name": "stdout",
     "output_type": "stream",
     "text": [
      "1 \n",
      "2 2 \n",
      "3 3 3 \n",
      "4 4 4 4 \n"
     ]
    }
   ],
   "source": [
    "# 1 \n",
    "# 2 2 \n",
    "# 3 3 3 \n",
    "# 4 4 4 4 \n",
    "\n",
    "for i in range(1,5):\n",
    "    for j in range(1,i+1):\n",
    "        print(i,end = ' ')\n",
    "    print()"
   ]
  },
  {
   "cell_type": "code",
   "execution_count": null,
   "metadata": {},
   "outputs": [
    {
     "name": "stdout",
     "output_type": "stream",
     "text": [
      "* \n",
      "* * \n",
      "* * * \n",
      "* * * * \n",
      "* * * * * \n"
     ]
    }
   ],
   "source": [
    "# * \n",
    "# * * \n",
    "# * * * \n",
    "# * * * * \n",
    "# * * * * * \n",
    "n = int(input(\"enter the number : \"))\n",
    "for i in range(1,n+1):\n",
    "    for j in range(i):\n",
    "        print('*',end = ' ')\n",
    "    print()"
   ]
  },
  {
   "cell_type": "code",
   "execution_count": null,
   "metadata": {},
   "outputs": [
    {
     "name": "stdout",
     "output_type": "stream",
     "text": [
      "1 \n",
      "2 3 \n",
      "4 5 6 \n",
      "7 8 9 10 \n"
     ]
    }
   ],
   "source": [
    "# 1 \n",
    "# 2 3 \n",
    "# 4 5 6 \n",
    "# 7 8 9 10 \n",
    "k = 1\n",
    "for i in range(1,5):\n",
    "    for j in range(1,i+1):\n",
    "        print(k,end= ' ')\n",
    "        k+=1\n",
    "    print()"
   ]
  },
  {
   "cell_type": "code",
   "execution_count": null,
   "metadata": {},
   "outputs": [
    {
     "name": "stdout",
     "output_type": "stream",
     "text": [
      "A \n",
      "B C \n",
      "D E F \n",
      "G H I J \n"
     ]
    }
   ],
   "source": [
    "# A \n",
    "# B C \n",
    "# D E F \n",
    "# G H I J \n",
    "k = ord('A')\n",
    "for i in range(1,5):\n",
    "    for j in range(i):\n",
    "        print(chr(k),end=' ')\n",
    "        k+=1\n",
    "    print()\n",
    "\n"
   ]
  },
  {
   "cell_type": "code",
   "execution_count": null,
   "metadata": {},
   "outputs": [
    {
     "name": "stdout",
     "output_type": "stream",
     "text": [
      "* * * * * \n",
      "* * * * \n",
      "* * * \n",
      "* * \n",
      "* \n"
     ]
    }
   ],
   "source": [
    "# * * * * * \n",
    "# * * * * \n",
    "# * * * \n",
    "# * * \n",
    "# * \n",
    "for i in range(5):\n",
    "    for j in range(5-i):\n",
    "        print('*',end=' ')\n",
    "    print()"
   ]
  },
  {
   "cell_type": "code",
   "execution_count": null,
   "metadata": {},
   "outputs": [
    {
     "name": "stdout",
     "output_type": "stream",
     "text": [
      "    * \n",
      "   * * \n",
      "  * * * \n",
      " * * * * \n",
      "* * * * * \n"
     ]
    }
   ],
   "source": [
    "#     * \n",
    "#    * * \n",
    "#   * * * \n",
    "#  * * * * \n",
    "# * * * * *\n",
    "for i in range(5):\n",
    "    for j in range((5-i)-1):\n",
    "        print(end = ' ')\n",
    "    for j in range(i+1):\n",
    "        print('*',end = ' ')\n",
    "    print()\n"
   ]
  },
  {
   "cell_type": "markdown",
   "metadata": {},
   "source": [
    "## String\n",
    "string is a sequence of characters enclosed within single chords or double chords"
   ]
  },
  {
   "cell_type": "code",
   "execution_count": null,
   "metadata": {},
   "outputs": [
    {
     "name": "stdout",
     "output_type": "stream",
     "text": [
      "dev\n"
     ]
    }
   ],
   "source": [
    "#single line string\n",
    "s = \"dev\"\n",
    "print(s)"
   ]
  },
  {
   "cell_type": "code",
   "execution_count": null,
   "metadata": {},
   "outputs": [
    {
     "name": "stdout",
     "output_type": "stream",
     "text": [
      " dev is not that\n",
      "         good at \n",
      "        coding\n"
     ]
    }
   ],
   "source": [
    "#multiline string\n",
    "s = ''' dev is not that\n",
    "         good at \n",
    "        coding'''\n",
    "print(s)"
   ]
  },
  {
   "cell_type": "markdown",
   "metadata": {},
   "source": [
    "How to access characters in the string\n",
    "1. by using index\n",
    "2. by using slicing\n",
    "\n",
    "**indexing** : \n",
    "we can access a element on string using index\n",
    "- forward indexing - from left to right\n",
    "- backward indexing - from right to left"
   ]
  },
  {
   "cell_type": "code",
   "execution_count": null,
   "metadata": {},
   "outputs": [
    {
     "name": "stdout",
     "output_type": "stream",
     "text": [
      "d\n",
      "v\n"
     ]
    }
   ],
   "source": [
    "s = 'dev'\n",
    "print(s[0]) #forward indexing \n",
    "print(s[-1]) # backward indexing"
   ]
  },
  {
   "cell_type": "markdown",
   "metadata": {},
   "source": [
    "**slice operator :**\n",
    "s[begin:end:step]\n",
    "- step value is positive moves in forward directon\n",
    "- step value is negative moves in reverse direction\n"
   ]
  },
  {
   "cell_type": "code",
   "execution_count": null,
   "metadata": {},
   "outputs": [
    {
     "data": {
      "text/plain": [
       "'ved'"
      ]
     },
     "execution_count": 104,
     "metadata": {},
     "output_type": "execute_result"
    }
   ],
   "source": [
    "s = \"dev\"\n",
    "s[0:2:1] \n",
    "s[::-1]"
   ]
  },
  {
   "cell_type": "markdown",
   "metadata": {},
   "source": [
    "Mathematical operators : + , *"
   ]
  },
  {
   "cell_type": "code",
   "execution_count": null,
   "metadata": {},
   "outputs": [
    {
     "name": "stdout",
     "output_type": "stream",
     "text": [
      "devcodes\n",
      "devdevdev\n"
     ]
    }
   ],
   "source": [
    "s1 = 'dev'\n",
    "s2 = 'codes'\n",
    "print(s1+s2) #string concatenate : we can concatenate 2 string into 1\n",
    "print(s1*3) #repetition operator"
   ]
  },
  {
   "cell_type": "markdown",
   "metadata": {},
   "source": [
    "### String Functions\n",
    "1. len(): this function is used to find the length of the string"
   ]
  },
  {
   "cell_type": "code",
   "execution_count": null,
   "metadata": {},
   "outputs": [
    {
     "name": "stdout",
     "output_type": "stream",
     "text": [
      "8\n"
     ]
    }
   ],
   "source": [
    "s = 'devcodes'\n",
    "print(len(s))"
   ]
  },
  {
   "cell_type": "markdown",
   "metadata": {},
   "source": [
    "2. strip() : Remove spaces at the beginning and at the end of the string\n",
    "- lstrip() \n",
    "- rstrip()"
   ]
  },
  {
   "cell_type": "code",
   "execution_count": null,
   "metadata": {},
   "outputs": [
    {
     "name": "stdout",
     "output_type": "stream",
     "text": [
      "devcodes\n"
     ]
    }
   ],
   "source": [
    "s = '    devcodes    '\n",
    "print(s.strip())"
   ]
  },
  {
   "cell_type": "code",
   "execution_count": null,
   "metadata": {},
   "outputs": [
    {
     "name": "stdout",
     "output_type": "stream",
     "text": [
      "dev***\n",
      "***dev\n"
     ]
    }
   ],
   "source": [
    "s = '***dev***'\n",
    "print(s.lstrip('*'))\n",
    "print(s.rstrip('*'))"
   ]
  },
  {
   "cell_type": "markdown",
   "metadata": {},
   "source": [
    "3. index() : to find the index of the first match\n",
    "- index(substring)\n",
    "- index(substring,begin,end)\n",
    "- rindex(substring) : Where in the text is the last occurrence of the string\n",
    "- rindex(substring,begin,end)"
   ]
  },
  {
   "cell_type": "code",
   "execution_count": null,
   "metadata": {},
   "outputs": [
    {
     "data": {
      "text/plain": [
       "1"
      ]
     },
     "execution_count": 117,
     "metadata": {},
     "output_type": "execute_result"
    }
   ],
   "source": [
    "s = 'devcodes'\n",
    "s.index('e')"
   ]
  },
  {
   "cell_type": "code",
   "execution_count": null,
   "metadata": {},
   "outputs": [
    {
     "data": {
      "text/plain": [
       "6"
      ]
     },
     "execution_count": 118,
     "metadata": {},
     "output_type": "execute_result"
    }
   ],
   "source": [
    "s = 'devcodes'\n",
    "s.rindex('e')"
   ]
  },
  {
   "cell_type": "markdown",
   "metadata": {},
   "source": [
    "4. find() : same as index"
   ]
  },
  {
   "cell_type": "code",
   "execution_count": null,
   "metadata": {},
   "outputs": [
    {
     "name": "stdout",
     "output_type": "stream",
     "text": [
      "1\n"
     ]
    }
   ],
   "source": [
    "s = 'devcodes'\n",
    "print(s.find('e'))"
   ]
  },
  {
   "cell_type": "code",
   "execution_count": null,
   "metadata": {},
   "outputs": [
    {
     "name": "stdout",
     "output_type": "stream",
     "text": [
      "6\n"
     ]
    }
   ],
   "source": [
    "s = 'devcodes'\n",
    "print(s.rfind('e'))"
   ]
  },
  {
   "cell_type": "markdown",
   "metadata": {},
   "source": [
    "5. count() : returns the count of the substring"
   ]
  },
  {
   "cell_type": "code",
   "execution_count": null,
   "metadata": {},
   "outputs": [
    {
     "data": {
      "text/plain": [
       "2"
      ]
     },
     "execution_count": 121,
     "metadata": {},
     "output_type": "execute_result"
    }
   ],
   "source": [
    "s = 'devcodes'\n",
    "s.count('e')"
   ]
  },
  {
   "cell_type": "markdown",
   "metadata": {},
   "source": [
    "6. replace() : can replace a substring with another substring"
   ]
  },
  {
   "cell_type": "code",
   "execution_count": null,
   "metadata": {},
   "outputs": [
    {
     "data": {
      "text/plain": [
       "'devcrees'"
      ]
     },
     "execution_count": 124,
     "metadata": {},
     "output_type": "execute_result"
    }
   ],
   "source": [
    "s = 'devcodes'\n",
    "s.replace('od','re')"
   ]
  },
  {
   "cell_type": "markdown",
   "metadata": {},
   "source": [
    "7. split() : splits the string into a list "
   ]
  },
  {
   "cell_type": "code",
   "execution_count": null,
   "metadata": {},
   "outputs": [
    {
     "name": "stdout",
     "output_type": "stream",
     "text": [
      "['dev', 'is', 'bad', 'at', 'coding']\n"
     ]
    }
   ],
   "source": [
    "s = 'dev is bad at coding'\n",
    "print(s.split())"
   ]
  },
  {
   "cell_type": "markdown",
   "metadata": {},
   "source": [
    "8. join() : The join() method takes all items in an iterable and joins them into one string."
   ]
  },
  {
   "cell_type": "code",
   "execution_count": null,
   "metadata": {},
   "outputs": [
    {
     "name": "stdout",
     "output_type": "stream",
     "text": [
      "you are super cool\n"
     ]
    }
   ],
   "source": [
    "s = ['you' ,'are','super','cool']\n",
    "print(' '.join(s))"
   ]
  },
  {
   "cell_type": "markdown",
   "metadata": {},
   "source": [
    "9. Changing cases of a string\n",
    "- upper() : change the string to uppercase\n",
    "- lower() : change the string to lowercase\n",
    "- swapcase() : swaps the cases\n",
    "- title() : change first letter of the string to uppercase\n",
    "- capitalize() : change the first letter of the string to uppercase"
   ]
  },
  {
   "cell_type": "code",
   "execution_count": null,
   "metadata": {},
   "outputs": [
    {
     "name": "stdout",
     "output_type": "stream",
     "text": [
      "DEVCODES\n",
      "devcodes\n",
      "DEVCODES\n",
      "Devcodes\n",
      "Devcodes\n"
     ]
    }
   ],
   "source": [
    "s = 'devcodes'\n",
    "print(s.upper())\n",
    "print(s.lower())\n",
    "print(s.swapcase())\n",
    "print(s.title())\n",
    "print(s.capitalize())"
   ]
  },
  {
   "cell_type": "markdown",
   "metadata": {},
   "source": [
    "10. Checking starting and ending part of the string\n",
    "- startswith()\n",
    "- endswith()"
   ]
  },
  {
   "cell_type": "code",
   "execution_count": null,
   "metadata": {},
   "outputs": [
    {
     "name": "stdout",
     "output_type": "stream",
     "text": [
      "True\n",
      "True\n"
     ]
    }
   ],
   "source": [
    "s = 'devcodes'\n",
    "print(s.startswith('d'))\n",
    "print(s.endswith('s'))"
   ]
  },
  {
   "cell_type": "markdown",
   "metadata": {},
   "source": [
    "11. checking the characters in string\n",
    "- isalpha()\n",
    "- islower()\n",
    "- istitle()\n",
    "- isdigit()\n",
    "- isupper()\n",
    "- isalnum()\n",
    "- isspace()"
   ]
  },
  {
   "cell_type": "code",
   "execution_count": null,
   "metadata": {},
   "outputs": [
    {
     "name": "stdout",
     "output_type": "stream",
     "text": [
      "True\n",
      "True\n",
      "False\n",
      "False\n",
      "False\n",
      "True\n",
      "False\n"
     ]
    }
   ],
   "source": [
    "s = 'devcodes'\n",
    "print(s.isalpha())\n",
    "print(s.islower())\n",
    "print(s.isupper())\n",
    "print(s.istitle())\n",
    "print(s.isdigit())\n",
    "print(s.isalnum())\n",
    "print(s.isspace())"
   ]
  },
  {
   "cell_type": "markdown",
   "metadata": {},
   "source": [
    "### String problems"
   ]
  },
  {
   "cell_type": "markdown",
   "metadata": {},
   "source": [
    "1. count the uppercase and lower case letters on the string"
   ]
  },
  {
   "cell_type": "code",
   "execution_count": null,
   "metadata": {},
   "outputs": [
    {
     "name": "stdout",
     "output_type": "stream",
     "text": [
      "dev\n",
      "uppercase : 0\n",
      "lowercase : 3\n"
     ]
    }
   ],
   "source": [
    "s = input(\"enter the string : \")\n",
    "cu = 0\n",
    "cl = 0\n",
    "for i in s:\n",
    "    if i.isupper():\n",
    "        cu+=1\n",
    "    if i.islower():\n",
    "        cl+=1\n",
    "print(s)\n",
    "print(f'''uppercase : {cu}\n",
    "lowercase : {cl}''')"
   ]
  },
  {
   "cell_type": "markdown",
   "metadata": {},
   "source": [
    "2. input the string and the substring ceheck wheather the substring is in the string and print its index"
   ]
  },
  {
   "cell_type": "code",
   "execution_count": 2,
   "metadata": {},
   "outputs": [
    {
     "name": "stdout",
     "output_type": "stream",
     "text": [
      "substing is in the string at index : 1\n"
     ]
    }
   ],
   "source": [
    "s = input(\"enter the string : \")\n",
    "c = input(\"enter the substring : \")\n",
    "if c in s:\n",
    "    print(f\"substing is in the string at index : {s.index(c)}\")\n",
    "else:\n",
    "    print(\"substring is not present in the string\")\n",
    "    "
   ]
  },
  {
   "cell_type": "markdown",
   "metadata": {},
   "source": [
    "3. check wheather the given string is Palandrome"
   ]
  },
  {
   "cell_type": "code",
   "execution_count": 4,
   "metadata": {},
   "outputs": [
    {
     "name": "stdout",
     "output_type": "stream",
     "text": [
      "palandrome\n"
     ]
    }
   ],
   "source": [
    "s = input(\"enter the string : \")\n",
    "if s == s[::-1]:\n",
    "    print('palandrome')\n",
    "else:\n",
    "    print('not palandrome')"
   ]
  },
  {
   "cell_type": "markdown",
   "metadata": {},
   "source": [
    "4. input the string and substring , remove the substring from the string"
   ]
  },
  {
   "cell_type": "code",
   "execution_count": 1,
   "metadata": {},
   "outputs": [
    {
     "name": "stdout",
     "output_type": "stream",
     "text": [
      " dv\n"
     ]
    }
   ],
   "source": [
    "s = input(\"enter the string : \")\n",
    "c = input(\"enter the substring : \")\n",
    "a = ' '\n",
    "for i in s:\n",
    "    if i == c:\n",
    "        continue\n",
    "    else:\n",
    "        a= a + i\n",
    "print(a)    "
   ]
  },
  {
   "cell_type": "markdown",
   "metadata": {},
   "source": [
    "## List"
   ]
  },
  {
   "cell_type": "markdown",
   "metadata": {},
   "source": [
    " **List** : list is a collection of objects as a single entity enclosed within square brackets\n",
    " \n",
    " features:\n",
    " - mutable\n",
    " - insertion order is preserved\n",
    " - duplicates are allowed\n",
    " - hetrogenous\n",
    " - growable\n",
    " - has index\n",
    " "
   ]
  },
  {
   "cell_type": "code",
   "execution_count": 2,
   "metadata": {},
   "outputs": [
    {
     "name": "stdout",
     "output_type": "stream",
     "text": [
      "[1, 2, 0.3, 'dev', True, [1, 2]]\n"
     ]
    }
   ],
   "source": [
    "l  = [1,2,0.3,'dev',True,[1,2]]\n",
    "print(l)"
   ]
  },
  {
   "cell_type": "markdown",
   "metadata": {},
   "source": [
    "Accessing elements of a list\n",
    " - by using index -> l[index]\n",
    " - by slicing -> l[start:stop:step]"
   ]
  },
  {
   "cell_type": "code",
   "execution_count": 3,
   "metadata": {},
   "outputs": [
    {
     "name": "stdout",
     "output_type": "stream",
     "text": [
      "4\n",
      "[1, 2, 3]\n"
     ]
    }
   ],
   "source": [
    "l = [1,2,3,4,5,6]\n",
    "# indexing\n",
    "print(l[3])\n",
    "#slicing\n",
    "print(l[0:3])"
   ]
  },
  {
   "cell_type": "markdown",
   "metadata": {},
   "source": [
    "Important list functions\n",
    "- len() : to get the len of the list"
   ]
  },
  {
   "cell_type": "code",
   "execution_count": 4,
   "metadata": {},
   "outputs": [
    {
     "name": "stdout",
     "output_type": "stream",
     "text": [
      "7\n"
     ]
    }
   ],
   "source": [
    "l = [1,2,4,5,6,7,8]\n",
    "print(len(l))"
   ]
  },
  {
   "cell_type": "markdown",
   "metadata": {},
   "source": [
    "- count() : count the no of occurence of an element on the list"
   ]
  },
  {
   "cell_type": "code",
   "execution_count": 7,
   "metadata": {},
   "outputs": [
    {
     "name": "stdout",
     "output_type": "stream",
     "text": [
      "1\n"
     ]
    }
   ],
   "source": [
    "l = [1,2,3,4,5,6,7]\n",
    "print(l.count(1))"
   ]
  },
  {
   "cell_type": "markdown",
   "metadata": {},
   "source": [
    "- index() : get the index of the specified element\n",
    "  - rindex() : get the last index of the specified occurence of element "
   ]
  },
  {
   "cell_type": "code",
   "execution_count": 8,
   "metadata": {},
   "outputs": [
    {
     "name": "stdout",
     "output_type": "stream",
     "text": [
      "2\n"
     ]
    }
   ],
   "source": [
    "l = [1,2,3,4,5,6,7,8]\n",
    "print(l.index(3))"
   ]
  },
  {
   "cell_type": "markdown",
   "metadata": {},
   "source": [
    "- append() : insert the element to the end of the list "
   ]
  },
  {
   "cell_type": "code",
   "execution_count": 9,
   "metadata": {},
   "outputs": [
    {
     "name": "stdout",
     "output_type": "stream",
     "text": [
      "[1, 2, 3, 4, 5, 7777]\n"
     ]
    }
   ],
   "source": [
    "l = [1,2,3,4,5]\n",
    "l.append(7777)\n",
    "print(l)"
   ]
  },
  {
   "cell_type": "markdown",
   "metadata": {},
   "source": [
    "- insert(index,element) : insert an element to the specifies index"
   ]
  },
  {
   "cell_type": "code",
   "execution_count": 10,
   "metadata": {},
   "outputs": [
    {
     "name": "stdout",
     "output_type": "stream",
     "text": [
      "[1, 2, 3, 8888, 4]\n"
     ]
    }
   ],
   "source": [
    "l = [1,2,3,4]\n",
    "l.insert(3,8888)\n",
    "print(l)"
   ]
  },
  {
   "cell_type": "markdown",
   "metadata": {},
   "source": [
    "- extend() : The extend() method adds the specified list elements (or any iterable) to the end of the current list."
   ]
  },
  {
   "cell_type": "code",
   "execution_count": 14,
   "metadata": {},
   "outputs": [
    {
     "name": "stdout",
     "output_type": "stream",
     "text": [
      "[1, 2, 3, 4, 5, 100, 101, 103]\n"
     ]
    }
   ],
   "source": [
    "l1 = [1,2,3,4,5]\n",
    "l2 = [100,101,103]\n",
    "l1.extend(l2)\n",
    "print(l1)"
   ]
  },
  {
   "cell_type": "markdown",
   "metadata": {},
   "source": [
    "- remove() : removes the specified element"
   ]
  },
  {
   "cell_type": "code",
   "execution_count": 16,
   "metadata": {},
   "outputs": [
    {
     "name": "stdout",
     "output_type": "stream",
     "text": [
      "[1, 2, 4, 5]\n"
     ]
    }
   ],
   "source": [
    "l = [1,2,3,4,5]\n",
    "l.remove(3)\n",
    "print(l)"
   ]
  },
  {
   "cell_type": "markdown",
   "metadata": {},
   "source": [
    "- pop() : removes the last element of the list"
   ]
  },
  {
   "cell_type": "code",
   "execution_count": 17,
   "metadata": {},
   "outputs": [
    {
     "name": "stdout",
     "output_type": "stream",
     "text": [
      "[1, 2, 3, 4]\n"
     ]
    }
   ],
   "source": [
    "l = [1,2,3,4,5]\n",
    "l.pop()\n",
    "print(l)"
   ]
  },
  {
   "cell_type": "markdown",
   "metadata": {},
   "source": [
    "- sort() : sorts the list\n"
   ]
  },
  {
   "cell_type": "code",
   "execution_count": null,
   "metadata": {},
   "outputs": [
    {
     "name": "stdout",
     "output_type": "stream",
     "text": [
      "[2, 5, 10, 14, 26, 34]\n"
     ]
    }
   ],
   "source": [
    "l = [10,2,34,14,5,26]\n",
    "l.sort()   #ascending\n",
    "print(l)"
   ]
  },
  {
   "cell_type": "code",
   "execution_count": null,
   "metadata": {},
   "outputs": [
    {
     "name": "stdout",
     "output_type": "stream",
     "text": [
      "[34, 26, 14, 10, 5, 2]\n"
     ]
    }
   ],
   "source": [
    "l = [10,2,34,14,5,26]\n",
    "l.sort(reverse = True) #descending\n",
    "print(l) "
   ]
  },
  {
   "cell_type": "markdown",
   "metadata": {},
   "source": [
    "- clear() : clears the list "
   ]
  },
  {
   "cell_type": "code",
   "execution_count": 21,
   "metadata": {},
   "outputs": [
    {
     "name": "stdout",
     "output_type": "stream",
     "text": [
      "[]\n"
     ]
    }
   ],
   "source": [
    "l = [1,2,3]\n",
    "l.clear()\n",
    "print(l)"
   ]
  },
  {
   "cell_type": "markdown",
   "metadata": {},
   "source": [
    "Cloning a list\n",
    "- By using slice operator\n",
    "- By using copy operator"
   ]
  },
  {
   "cell_type": "code",
   "execution_count": 22,
   "metadata": {},
   "outputs": [
    {
     "name": "stdout",
     "output_type": "stream",
     "text": [
      "[1, 2, 3]\n"
     ]
    }
   ],
   "source": [
    "l = [1,2,3]\n",
    "x = l[::]\n",
    "print(x)"
   ]
  },
  {
   "cell_type": "code",
   "execution_count": 23,
   "metadata": {},
   "outputs": [
    {
     "name": "stdout",
     "output_type": "stream",
     "text": [
      "[1, 2, 3]\n"
     ]
    }
   ],
   "source": [
    "l = [1,2,3]\n",
    "x = l.copy()\n",
    "print(x)"
   ]
  },
  {
   "cell_type": "markdown",
   "metadata": {},
   "source": [
    "## list problems"
   ]
  },
  {
   "cell_type": "markdown",
   "metadata": {},
   "source": [
    "1. input elements of the list and find the sum of the elements"
   ]
  },
  {
   "cell_type": "code",
   "execution_count": 26,
   "metadata": {},
   "outputs": [
    {
     "name": "stdout",
     "output_type": "stream",
     "text": [
      "sum : 15\n"
     ]
    }
   ],
   "source": [
    "s = input(\"enter the list : \").split()\n",
    "l = []\n",
    "for i in s:\n",
    "    l.append(int(i))\n",
    "print(f\"sum : {sum(l)}\")"
   ]
  },
  {
   "cell_type": "markdown",
   "metadata": {},
   "source": [
    "2. input a list and find the largest element on the list"
   ]
  },
  {
   "cell_type": "code",
   "execution_count": 28,
   "metadata": {},
   "outputs": [
    {
     "name": "stdout",
     "output_type": "stream",
     "text": [
      "largest element on [56, 43, 34, 23, 15, 14, 13, 12, 12] : 56\n"
     ]
    }
   ],
   "source": [
    "s = input(\"enter the list : \").split()\n",
    "l = []\n",
    "for i in s:\n",
    "    l.append(int(i))\n",
    "l.sort(reverse=True)\n",
    "print(f\"largest element on {l} : {l[0]}\")"
   ]
  },
  {
   "cell_type": "markdown",
   "metadata": {},
   "source": [
    "3. print the multiples of 5 from the list"
   ]
  },
  {
   "cell_type": "code",
   "execution_count": 30,
   "metadata": {},
   "outputs": [
    {
     "name": "stdout",
     "output_type": "stream",
     "text": [
      "5\n",
      "15\n"
     ]
    }
   ],
   "source": [
    "s = input(\"enter the list : \").split()\n",
    "l = [int(i) for i in s]\n",
    "for i in l:\n",
    "    if i%5==0:\n",
    "        print(i)"
   ]
  },
  {
   "cell_type": "markdown",
   "metadata": {},
   "source": [
    "4. input the numbers and create 2 list with odd numbers and even numbers"
   ]
  },
  {
   "cell_type": "code",
   "execution_count": 35,
   "metadata": {},
   "outputs": [
    {
     "name": "stdout",
     "output_type": "stream",
     "text": [
      "odd [13, 1, 3, 5, 7]\n",
      "even [12, 2, 4, 6]\n"
     ]
    }
   ],
   "source": [
    "s = input(\"enter the numbers : \").split()\n",
    "l = [int(i) for i in s]\n",
    "co = []\n",
    "ce = []\n",
    "for i in l:\n",
    "    if i%2==0:\n",
    "        ce.append(i)\n",
    "    else:\n",
    "        co.append(i)\n",
    "print('odd',co)\n",
    "print('even',ce)"
   ]
  },
  {
   "cell_type": "markdown",
   "metadata": {},
   "source": [
    "5. find the largest element in the list without using function"
   ]
  },
  {
   "cell_type": "code",
   "execution_count": 39,
   "metadata": {},
   "outputs": [
    {
     "name": "stdout",
     "output_type": "stream",
     "text": [
      "78\n"
     ]
    }
   ],
   "source": [
    "s = input(\"enter the elements : \").split()\n",
    "l = [int(i) for i in s]\n",
    "g = l[0]\n",
    "for i in l:\n",
    "    if i>g:\n",
    "        g = i\n",
    "print(g)"
   ]
  },
  {
   "cell_type": "markdown",
   "metadata": {},
   "source": [
    "6. find the second largest element in the list"
   ]
  },
  {
   "cell_type": "code",
   "execution_count": 45,
   "metadata": {},
   "outputs": [
    {
     "name": "stdout",
     "output_type": "stream",
     "text": [
      "13\n"
     ]
    }
   ],
   "source": [
    "s = input(\"enter the elements : \").split()\n",
    "l = [int(i) for i in s]\n",
    "l1 = []\n",
    "for i in l:\n",
    "    if i not in l1:\n",
    "        l1.append(i)\n",
    "l1.sort(reverse=True)\n",
    "print(l[1])"
   ]
  },
  {
   "cell_type": "markdown",
   "metadata": {},
   "source": [
    "7. print the perfect number on the list"
   ]
  },
  {
   "cell_type": "code",
   "execution_count": 48,
   "metadata": {},
   "outputs": [
    {
     "name": "stdout",
     "output_type": "stream",
     "text": [
      "6\n",
      "28\n"
     ]
    }
   ],
   "source": [
    "s = input(\"enter the number : \").split()\n",
    "l = [int(i) for i in s]\n",
    "for i in l:\n",
    "    s=0\n",
    "    num =i\n",
    "    for j in range(1,i):\n",
    "        if i%j == 0:\n",
    "            s+=j\n",
    "    if num == s:\n",
    "        print(num)"
   ]
  },
  {
   "cell_type": "markdown",
   "metadata": {},
   "source": [
    "8.check wheather the string is anagram"
   ]
  },
  {
   "cell_type": "code",
   "execution_count": 2,
   "metadata": {},
   "outputs": [
    {
     "name": "stdout",
     "output_type": "stream",
     "text": [
      "anagram\n"
     ]
    }
   ],
   "source": [
    "s1 = list(input(\"enter the string : \"))\n",
    "s2 = list(input(\"enter the string\"))\n",
    "s1.sort()\n",
    "s2.sort()\n",
    "if s1 == s2:\n",
    "    print(\"anagram\")\n",
    "else:\n",
    "    print(\"not anagram\")"
   ]
  },
  {
   "cell_type": "markdown",
   "metadata": {},
   "source": [
    "9. check wheather the string is panagram"
   ]
  },
  {
   "cell_type": "code",
   "execution_count": 3,
   "metadata": {},
   "outputs": [
    {
     "name": "stdout",
     "output_type": "stream",
     "text": [
      "Panagram\n"
     ]
    }
   ],
   "source": [
    "s = input(\"enter the string\")\n",
    "s = s.lower()\n",
    "l = [i for i in s if i != ' ']\n",
    "l.sort()\n",
    "l= set(l)\n",
    "a = 'abcdefghijklmnopqrstuvwxyz'\n",
    "l1 = set(a)\n",
    "if list(l1) == list(l):\n",
    "    print(\"Panagram\")"
   ]
  },
  {
   "cell_type": "markdown",
   "metadata": {},
   "source": [
    "**Some extra problems**"
   ]
  },
  {
   "cell_type": "markdown",
   "metadata": {},
   "source": [
    "1. find the LCM of 2 numbers"
   ]
  },
  {
   "cell_type": "markdown",
   "metadata": {},
   "source": []
  },
  {
   "cell_type": "code",
   "execution_count": 6,
   "metadata": {},
   "outputs": [
    {
     "name": "stdout",
     "output_type": "stream",
     "text": [
      "LCM of 3 and 5 : 15\n"
     ]
    }
   ],
   "source": [
    "a = int(input(\"enter the first number : \"))\n",
    "b = int(input(\"enter the second  number : \"))\n",
    "g = max(a,b)\n",
    "s = min(a,b)\n",
    "while True:\n",
    "    if g%a == 0 and g%b == 0:\n",
    "       print(f\"LCM of {a} and {b} : {g}\")\n",
    "       break\n",
    "    else:\n",
    "        g+=1"
   ]
  },
  {
   "cell_type": "markdown",
   "metadata": {},
   "source": [
    "2. Print n terms of Fibonacci series in reverse order"
   ]
  },
  {
   "cell_type": "code",
   "execution_count": 9,
   "metadata": {},
   "outputs": [
    {
     "name": "stdout",
     "output_type": "stream",
     "text": [
      "34\n",
      "21\n",
      "13\n",
      "8\n",
      "5\n",
      "3\n",
      "2\n",
      "1\n",
      "1\n",
      "0\n"
     ]
    }
   ],
   "source": [
    "n = int(input(\"enter the number : \"))\n",
    "f = 0\n",
    "s = 1\n",
    "l = []\n",
    "for i in range(1,n+1):\n",
    "    l.append(f)\n",
    "    t = f+s\n",
    "    f = s\n",
    "    s = t\n",
    "l.reverse()\n",
    "for i in l:\n",
    "    print(i)"
   ]
  },
  {
   "cell_type": "markdown",
   "metadata": {},
   "source": [
    "3. Check a given string is perfect pangram"
   ]
  },
  {
   "cell_type": "code",
   "execution_count": null,
   "metadata": {},
   "outputs": [
    {
     "name": "stdout",
     "output_type": "stream",
     "text": [
      "Perfect pangram\n"
     ]
    }
   ],
   "source": [
    "s = input(\"Enter the string: \")\n",
    "s = s.lower()\n",
    "l = [i for i in s if i.isalpha()]\n",
    "a = \"abcdefghijklmnopqrstuvwxyz\"\n",
    "a = list(a)\n",
    "if sorted(l) == sorted(a):\n",
    "    print(\"Perfect pangram\")\n",
    "else:\n",
    "    print(\"Not a perfect pangram\")\n"
   ]
  },
  {
   "cell_type": "markdown",
   "metadata": {},
   "source": [
    "4. Input a list contains strings. Create a list by reversing all the stings\n",
    "   eg:['hai','bye','see','you']\n",
    "   o/p :['iah','eyb','ees','uoy']"
   ]
  },
  {
   "cell_type": "code",
   "execution_count": 14,
   "metadata": {},
   "outputs": [
    {
     "name": "stdout",
     "output_type": "stream",
     "text": [
      "reversed :  ['iah', 'eyb', 'ees', 'uoy']\n"
     ]
    }
   ],
   "source": [
    "l = ['hai','bye','see','you']\n",
    "l1 = []\n",
    "for i in l:\n",
    "    i = i[::-1]\n",
    "    l1.append(i)\n",
    "print(\"reversed : \",l1)"
   ]
  },
  {
   "cell_type": "markdown",
   "metadata": {},
   "source": [
    "5. Reverse only the characters in given string\n",
    "examples:\n",
    "\n",
    "%%%hai    o/p    %%%iah\n",
    "\n",
    "@@hello   o/p    @@olleh"
   ]
  },
  {
   "cell_type": "code",
   "execution_count": 20,
   "metadata": {},
   "outputs": [
    {
     "name": "stdout",
     "output_type": "stream",
     "text": [
      "@@olleh\n"
     ]
    }
   ],
   "source": [
    "s = '@@hello'\n",
    "l = []\n",
    "spec= []\n",
    "for i in s:\n",
    "    if i.isalpha():\n",
    "        l.append(i)\n",
    "    else:\n",
    "        spec.append(i)\n",
    "s = ''.join(l)\n",
    "spec = ''.join(spec)\n",
    "s = s[::-1]\n",
    "print(spec + s)        "
   ]
  },
  {
   "cell_type": "code",
   "execution_count": 4,
   "metadata": {},
   "outputs": [
    {
     "name": "stdout",
     "output_type": "stream",
     "text": [
      "    1\n",
      "   121\n",
      "  12321\n",
      " 1234321\n"
     ]
    }
   ],
   "source": [
    "for i in range(1,5):\n",
    "    for j in range(5-i):\n",
    "        print(' ',end=\"\")\n",
    "    for j in range(1,i):\n",
    "        print(j,end='')\n",
    "    for j in range(i,0,-1):\n",
    "        print(j,end='')\n",
    "    print()\n"
   ]
  },
  {
   "cell_type": "markdown",
   "metadata": {},
   "source": [
    "### Tuple"
   ]
  },
  {
   "cell_type": "markdown",
   "metadata": {},
   "source": [
    "Tuple is a read-only version of list enclosed with in brackets . \n",
    "Tuple is immutable its contents can't be changed"
   ]
  },
  {
   "cell_type": "code",
   "execution_count": 6,
   "metadata": {},
   "outputs": [
    {
     "name": "stdout",
     "output_type": "stream",
     "text": [
      "(1, 2, 3, 4) (1, 2, 3, 4)\n"
     ]
    }
   ],
   "source": [
    "a = 1,2,3,4 #this is treated as a tuple\n",
    "b = (1,2,3,4) \n",
    "print(a,b)"
   ]
  },
  {
   "cell_type": "markdown",
   "metadata": {},
   "source": [
    "elements can be accessed using\n",
    "- indexing\n",
    "- slicing"
   ]
  },
  {
   "cell_type": "code",
   "execution_count": null,
   "metadata": {},
   "outputs": [
    {
     "name": "stdout",
     "output_type": "stream",
     "text": [
      "5\n",
      "(1, 2, 3)\n"
     ]
    }
   ],
   "source": [
    "t = (1,2,3,4,5,6)\n",
    "print(t[4]) #indexing\n",
    "print(t[0:3]) #slicing\n"
   ]
  },
  {
   "cell_type": "markdown",
   "metadata": {},
   "source": [
    "**tuple functions**\n",
    " - len()"
   ]
  },
  {
   "cell_type": "code",
   "execution_count": 1,
   "metadata": {},
   "outputs": [
    {
     "name": "stdout",
     "output_type": "stream",
     "text": [
      "5\n"
     ]
    }
   ],
   "source": [
    "t = (1,2,3,4,5)\n",
    "print(len(t))"
   ]
  },
  {
   "cell_type": "markdown",
   "metadata": {},
   "source": [
    "- count()"
   ]
  },
  {
   "cell_type": "code",
   "execution_count": 2,
   "metadata": {},
   "outputs": [
    {
     "name": "stdout",
     "output_type": "stream",
     "text": [
      "3\n"
     ]
    }
   ],
   "source": [
    "t = (1,1,2,1,2,3,4,5)\n",
    "print(t.count(1))"
   ]
  },
  {
   "cell_type": "markdown",
   "metadata": {},
   "source": [
    "- index()"
   ]
  },
  {
   "cell_type": "code",
   "execution_count": 3,
   "metadata": {},
   "outputs": [
    {
     "name": "stdout",
     "output_type": "stream",
     "text": [
      "5\n"
     ]
    }
   ],
   "source": [
    "t = (1,1,2,1,2,3,4,5)\n",
    "print(t.index(3))"
   ]
  },
  {
   "cell_type": "markdown",
   "metadata": {},
   "source": [
    "- sorted()"
   ]
  },
  {
   "cell_type": "code",
   "execution_count": 5,
   "metadata": {},
   "outputs": [
    {
     "name": "stdout",
     "output_type": "stream",
     "text": [
      "[2, 5, 10, 21, 35, 47, 100, 101]\n"
     ]
    }
   ],
   "source": [
    "t = (10,100,21,101,2,35,47,5)\n",
    "print(sorted(t))"
   ]
  },
  {
   "cell_type": "markdown",
   "metadata": {},
   "source": [
    "- min()"
   ]
  },
  {
   "cell_type": "code",
   "execution_count": 6,
   "metadata": {},
   "outputs": [
    {
     "name": "stdout",
     "output_type": "stream",
     "text": [
      "2\n"
     ]
    }
   ],
   "source": [
    "t = (10,100,21,101,2,35,47,5)\n",
    "print(min(t))"
   ]
  },
  {
   "cell_type": "markdown",
   "metadata": {},
   "source": [
    "- max()"
   ]
  },
  {
   "cell_type": "code",
   "execution_count": null,
   "metadata": {},
   "outputs": [],
   "source": [
    "t = (10,100,21,101,2,35,47,5)\n",
    "print(max(t))"
   ]
  },
  {
   "cell_type": "markdown",
   "metadata": {},
   "source": [
    "**Tuple Packing and Unpacking**\n",
    "- packing => Grouping into single"
   ]
  },
  {
   "cell_type": "code",
   "execution_count": 7,
   "metadata": {},
   "outputs": [
    {
     "name": "stdout",
     "output_type": "stream",
     "text": [
      "(10, 20, 30, 40)\n",
      "<class 'tuple'>\n"
     ]
    }
   ],
   "source": [
    "a = 10\n",
    "b = 20\n",
    "c = 30\n",
    "d = 40\n",
    "t = a,b,c,d\n",
    "print(t)\n",
    "print(type(t))"
   ]
  },
  {
   "cell_type": "markdown",
   "metadata": {},
   "source": [
    "- unpacking"
   ]
  },
  {
   "cell_type": "code",
   "execution_count": 9,
   "metadata": {},
   "outputs": [
    {
     "name": "stdout",
     "output_type": "stream",
     "text": [
      "10 20 30 40\n"
     ]
    }
   ],
   "source": [
    "t = a,b,c,d\n",
    "print(a,b,c,d)"
   ]
  },
  {
   "cell_type": "markdown",
   "metadata": {},
   "source": [
    "### set\n",
    "- set is collection of elements enclosed within braces\n",
    "\n",
    "features\n",
    "- duplicates are not allowed\n",
    "- hetrogeneous items are allowed\n",
    "- order is not there\n",
    "- slicing and indexing are not allowed\n",
    "- set objects are mutable\n",
    "\n",
    "set() - used to convert any sequence to set\n",
    "\n",
    "empty set - {} by default is considered as dictionary\n",
    "             \n",
    "            s = set()"
   ]
  },
  {
   "cell_type": "markdown",
   "metadata": {},
   "source": [
    "Important methods of set\n",
    "- add()"
   ]
  },
  {
   "cell_type": "code",
   "execution_count": 11,
   "metadata": {},
   "outputs": [
    {
     "name": "stdout",
     "output_type": "stream",
     "text": [
      "{1, 2, 3, 4, 5}\n"
     ]
    }
   ],
   "source": [
    "s = {1,2,3,4}\n",
    "s.add(5)\n",
    "print(s)"
   ]
  },
  {
   "cell_type": "markdown",
   "metadata": {},
   "source": [
    "- update()"
   ]
  },
  {
   "cell_type": "code",
   "execution_count": 14,
   "metadata": {},
   "outputs": [
    {
     "name": "stdout",
     "output_type": "stream",
     "text": [
      "{1, 2, 3, 4, 5, 6, 7}\n"
     ]
    }
   ],
   "source": [
    "s = {1,2,3,4}\n",
    "s.update((5,6,7))\n",
    "print(s)"
   ]
  },
  {
   "cell_type": "markdown",
   "metadata": {},
   "source": [
    "- copy()"
   ]
  },
  {
   "cell_type": "code",
   "execution_count": 15,
   "metadata": {},
   "outputs": [
    {
     "name": "stdout",
     "output_type": "stream",
     "text": [
      "{10, 20, 30}\n"
     ]
    }
   ],
   "source": [
    "s = {10,20,30}\n",
    "s1 = s.copy()\n",
    "print(s1)"
   ]
  },
  {
   "cell_type": "markdown",
   "metadata": {},
   "source": [
    "- pop() - remove some radnom element on the set"
   ]
  },
  {
   "cell_type": "code",
   "execution_count": 17,
   "metadata": {},
   "outputs": [
    {
     "data": {
      "text/plain": [
       "1"
      ]
     },
     "execution_count": 17,
     "metadata": {},
     "output_type": "execute_result"
    }
   ],
   "source": [
    "s = {1,2,3,4}\n",
    "s.pop()"
   ]
  },
  {
   "cell_type": "markdown",
   "metadata": {},
   "source": [
    "- discard()"
   ]
  },
  {
   "cell_type": "code",
   "execution_count": 19,
   "metadata": {},
   "outputs": [
    {
     "name": "stdout",
     "output_type": "stream",
     "text": [
      "{1, 3, 4}\n"
     ]
    }
   ],
   "source": [
    "s = {1,2,3,4}\n",
    "s.discard(2)\n",
    "print(s)"
   ]
  },
  {
   "cell_type": "markdown",
   "metadata": {},
   "source": [
    "- remove()"
   ]
  },
  {
   "cell_type": "code",
   "execution_count": 22,
   "metadata": {},
   "outputs": [
    {
     "name": "stdout",
     "output_type": "stream",
     "text": [
      "{1, 3, 4, 5}\n"
     ]
    }
   ],
   "source": [
    "s = {1,2,3,4,5}\n",
    "s.remove(2)\n",
    "print(s)"
   ]
  },
  {
   "cell_type": "markdown",
   "metadata": {},
   "source": [
    "- clear()"
   ]
  },
  {
   "cell_type": "code",
   "execution_count": 24,
   "metadata": {},
   "outputs": [
    {
     "name": "stdout",
     "output_type": "stream",
     "text": [
      "set()\n"
     ]
    }
   ],
   "source": [
    "s = {1,2,3,4}\n",
    "s.clear()\n",
    "print(s)"
   ]
  },
  {
   "cell_type": "markdown",
   "metadata": {},
   "source": [
    "Mathematical operations\n",
    "- union()"
   ]
  },
  {
   "cell_type": "code",
   "execution_count": 25,
   "metadata": {},
   "outputs": [
    {
     "data": {
      "text/plain": [
       "{1, 2, 3, 4, 5, 6}"
      ]
     },
     "execution_count": 25,
     "metadata": {},
     "output_type": "execute_result"
    }
   ],
   "source": [
    "s1 = {1,2,3,4}\n",
    "s2 = {3,4,5,6}\n",
    "s1.union(s2)"
   ]
  },
  {
   "cell_type": "markdown",
   "metadata": {},
   "source": [
    "- intersection()"
   ]
  },
  {
   "cell_type": "code",
   "execution_count": 26,
   "metadata": {},
   "outputs": [
    {
     "data": {
      "text/plain": [
       "{3, 4}"
      ]
     },
     "execution_count": 26,
     "metadata": {},
     "output_type": "execute_result"
    }
   ],
   "source": [
    "s1.intersection(s2)"
   ]
  },
  {
   "cell_type": "markdown",
   "metadata": {},
   "source": [
    "- difference()"
   ]
  },
  {
   "cell_type": "code",
   "execution_count": 27,
   "metadata": {},
   "outputs": [
    {
     "data": {
      "text/plain": [
       "{1, 2}"
      ]
     },
     "execution_count": 27,
     "metadata": {},
     "output_type": "execute_result"
    }
   ],
   "source": [
    "s1.difference(s2)"
   ]
  },
  {
   "cell_type": "markdown",
   "metadata": {},
   "source": [
    "### Dictionary\n",
    "- key-value pairs\n",
    "- indexing and slicing is not applicable\n",
    "- order is not there\n",
    "\n",
    "d[ key ] = value"
   ]
  },
  {
   "cell_type": "code",
   "execution_count": 29,
   "metadata": {},
   "outputs": [
    {
     "name": "stdout",
     "output_type": "stream",
     "text": [
      "{1: 'python', 2: 'c++', 3: 'c', 4: 'react'}\n"
     ]
    }
   ],
   "source": [
    "d = {1:\"python\",2:'c++',3:'c',4:'react'}\n",
    "print(d)"
   ]
  },
  {
   "cell_type": "markdown",
   "metadata": {},
   "source": [
    "- How to access elements from dictionary\n",
    "  - d[key] "
   ]
  },
  {
   "cell_type": "code",
   "execution_count": 31,
   "metadata": {},
   "outputs": [
    {
     "data": {
      "text/plain": [
       "'c++'"
      ]
     },
     "execution_count": 31,
     "metadata": {},
     "output_type": "execute_result"
    }
   ],
   "source": [
    "d[2]"
   ]
  },
  {
   "cell_type": "markdown",
   "metadata": {},
   "source": [
    "- How to update dictionary"
   ]
  },
  {
   "cell_type": "code",
   "execution_count": 33,
   "metadata": {},
   "outputs": [
    {
     "name": "stdout",
     "output_type": "stream",
     "text": [
      "{1: 'python', 2: 'c++', 3: 'c', 4: 'java script'}\n"
     ]
    }
   ],
   "source": [
    "d[4] = 'java script'\n",
    "print(d)"
   ]
  },
  {
   "cell_type": "markdown",
   "metadata": {},
   "source": [
    "- How to delete elements"
   ]
  },
  {
   "cell_type": "code",
   "execution_count": null,
   "metadata": {},
   "outputs": [
    {
     "name": "stdout",
     "output_type": "stream",
     "text": [
      "{1: 'python', 3: 'c', 4: 'java script'}\n"
     ]
    }
   ],
   "source": [
    "del d[2]\n",
    "print(d)"
   ]
  },
  {
   "cell_type": "markdown",
   "metadata": {},
   "source": [
    "- clear()"
   ]
  },
  {
   "cell_type": "code",
   "execution_count": 37,
   "metadata": {},
   "outputs": [
    {
     "name": "stdout",
     "output_type": "stream",
     "text": [
      "{}\n"
     ]
    }
   ],
   "source": [
    "d.clear()\n",
    "print(d)"
   ]
  },
  {
   "cell_type": "markdown",
   "metadata": {},
   "source": [
    "**Functions**\n",
    "- len()"
   ]
  },
  {
   "cell_type": "code",
   "execution_count": 43,
   "metadata": {},
   "outputs": [
    {
     "name": "stdout",
     "output_type": "stream",
     "text": [
      "4\n"
     ]
    }
   ],
   "source": [
    "d = {1:\"python\",2:'c++',3:'c',4:'react'}\n",
    "print(len(d))"
   ]
  },
  {
   "cell_type": "markdown",
   "metadata": {},
   "source": [
    "- get()"
   ]
  },
  {
   "cell_type": "code",
   "execution_count": 44,
   "metadata": {},
   "outputs": [
    {
     "data": {
      "text/plain": [
       "'c++'"
      ]
     },
     "execution_count": 44,
     "metadata": {},
     "output_type": "execute_result"
    }
   ],
   "source": [
    "d.get(2)"
   ]
  },
  {
   "cell_type": "markdown",
   "metadata": {},
   "source": [
    "- pop()"
   ]
  },
  {
   "cell_type": "code",
   "execution_count": 45,
   "metadata": {},
   "outputs": [
    {
     "data": {
      "text/plain": [
       "'c++'"
      ]
     },
     "execution_count": 45,
     "metadata": {},
     "output_type": "execute_result"
    }
   ],
   "source": [
    "d.pop(2)"
   ]
  },
  {
   "cell_type": "markdown",
   "metadata": {},
   "source": [
    "- popitem()"
   ]
  },
  {
   "cell_type": "code",
   "execution_count": 46,
   "metadata": {},
   "outputs": [
    {
     "data": {
      "text/plain": [
       "(4, 'react')"
      ]
     },
     "execution_count": 46,
     "metadata": {},
     "output_type": "execute_result"
    }
   ],
   "source": [
    "d.popitem()"
   ]
  },
  {
   "cell_type": "markdown",
   "metadata": {},
   "source": [
    "- keys()"
   ]
  },
  {
   "cell_type": "code",
   "execution_count": 47,
   "metadata": {},
   "outputs": [
    {
     "data": {
      "text/plain": [
       "dict_keys([1, 2, 3, 4])"
      ]
     },
     "execution_count": 47,
     "metadata": {},
     "output_type": "execute_result"
    }
   ],
   "source": [
    "d = {1:\"python\",2:'c++',3:'c',4:'react'}\n",
    "d.keys()"
   ]
  },
  {
   "cell_type": "markdown",
   "metadata": {},
   "source": [
    "- values()"
   ]
  },
  {
   "cell_type": "code",
   "execution_count": 48,
   "metadata": {},
   "outputs": [
    {
     "data": {
      "text/plain": [
       "dict_values(['python', 'c++', 'c', 'react'])"
      ]
     },
     "execution_count": 48,
     "metadata": {},
     "output_type": "execute_result"
    }
   ],
   "source": [
    "d.values()"
   ]
  },
  {
   "cell_type": "markdown",
   "metadata": {},
   "source": [
    "- items()"
   ]
  },
  {
   "cell_type": "code",
   "execution_count": 49,
   "metadata": {},
   "outputs": [
    {
     "data": {
      "text/plain": [
       "dict_items([(1, 'python'), (2, 'c++'), (3, 'c'), (4, 'react')])"
      ]
     },
     "execution_count": 49,
     "metadata": {},
     "output_type": "execute_result"
    }
   ],
   "source": [
    "d.items()"
   ]
  },
  {
   "cell_type": "markdown",
   "metadata": {},
   "source": [
    "- update()"
   ]
  },
  {
   "cell_type": "code",
   "execution_count": 57,
   "metadata": {},
   "outputs": [
    {
     "name": "stdout",
     "output_type": "stream",
     "text": [
      "{1: 'python', 2: 'c#', 3: 'c', 4: 'react'}\n"
     ]
    }
   ],
   "source": [
    "d.update({2:\"c#\"})\n",
    "print(d)"
   ]
  },
  {
   "cell_type": "markdown",
   "metadata": {},
   "source": [
    "- copy()"
   ]
  },
  {
   "cell_type": "code",
   "execution_count": 58,
   "metadata": {},
   "outputs": [
    {
     "name": "stdout",
     "output_type": "stream",
     "text": [
      "{1: 'python', 2: 'c#', 3: 'c', 4: 'react'}\n"
     ]
    }
   ],
   "source": [
    "d1 = d.copy()\n",
    "print(d1)"
   ]
  },
  {
   "cell_type": "markdown",
   "metadata": {},
   "source": [
    "- setdefault()"
   ]
  },
  {
   "cell_type": "code",
   "execution_count": 5,
   "metadata": {},
   "outputs": [
    {
     "name": "stdout",
     "output_type": "stream",
     "text": [
      "{1: 'python', 2: 'c++', 3: 'c', 4: 'react', 5: 'golang'}\n"
     ]
    }
   ],
   "source": [
    "d = {1:\"python\",2:'c++',3:'c',4:'react'}\n",
    "d.setdefault(5,'golang')\n",
    "print(d)"
   ]
  },
  {
   "cell_type": "markdown",
   "metadata": {},
   "source": [
    "### Function\n",
    "Function is  a piece of code that can be reused in the program to avoid repetition\n",
    "- Predefined functions /inbuiltfunctions\n",
    "- user-defined functions\n",
    "\n",
    "Builtin functions \n",
    "- print()\n",
    "- len()\n",
    "- input()"
   ]
  },
  {
   "cell_type": "markdown",
   "metadata": {},
   "source": [
    "Userdefined functions declaration\n",
    "\n",
    "         def name():\n",
    "             body\n",
    "             return"
   ]
  },
  {
   "cell_type": "code",
   "execution_count": null,
   "metadata": {},
   "outputs": [
    {
     "name": "stdout",
     "output_type": "stream",
     "text": [
      "goodmorning dev\n"
     ]
    }
   ],
   "source": [
    "def wish(name):      #function declaration\n",
    "    print(\"goodmorning\",name)\n",
    "wish(\"dev\") #function call"
   ]
  },
  {
   "cell_type": "markdown",
   "metadata": {},
   "source": [
    "      def function_name(parameters):\n",
    "         logic\n",
    "         return result"
   ]
  },
  {
   "cell_type": "code",
   "execution_count": null,
   "metadata": {},
   "outputs": [
    {
     "name": "stdout",
     "output_type": "stream",
     "text": [
      "goodmorning dev\n"
     ]
    }
   ],
   "source": [
    "def wish(name):      #function declaration\n",
    "    return \"goodmorning \" + name\n",
    "\n",
    "print(wish(\"dev\")) #function call"
   ]
  },
  {
   "cell_type": "markdown",
   "metadata": {},
   "source": [
    "A function can return multiple values"
   ]
  },
  {
   "cell_type": "code",
   "execution_count": 13,
   "metadata": {},
   "outputs": [
    {
     "name": "stdout",
     "output_type": "stream",
     "text": [
      "(5, 6)\n"
     ]
    }
   ],
   "source": [
    "def a(a,b):\n",
    "    d = a+b\n",
    "    e = a*b\n",
    "    return d,e\n",
    "print(a(2,3))"
   ]
  },
  {
   "cell_type": "markdown",
   "metadata": {},
   "source": [
    "    def  f1(a,b):  #a,b -> formal arguments\n",
    "        body\n",
    "    f1(10,20)  #10,20  -> actual arguments"
   ]
  },
  {
   "cell_type": "markdown",
   "metadata": {},
   "source": [
    "Types of arguments\n",
    "- Positional arguments\n",
    "- keyword arguments\n",
    "- default arguments\n",
    "- variable length arguments"
   ]
  },
  {
   "cell_type": "markdown",
   "metadata": {},
   "source": [
    "Positional arguments : Arguments are passed in the order of parameters. The order defined in the order function declaration."
   ]
  },
  {
   "cell_type": "code",
   "execution_count": 15,
   "metadata": {},
   "outputs": [
    {
     "name": "stdout",
     "output_type": "stream",
     "text": [
      "1\n"
     ]
    }
   ],
   "source": [
    "def sub(a,b):\n",
    "    print(a-b)\n",
    "sub(3,2)"
   ]
  },
  {
   "cell_type": "markdown",
   "metadata": {},
   "source": [
    "Keyword arguments : Parameter Names are used to pass the argument during the function call.\n",
    "- You can also send arguments with the key = value syntax.\n",
    "- This way the order of the arguments does not matter."
   ]
  },
  {
   "cell_type": "code",
   "execution_count": null,
   "metadata": {},
   "outputs": [
    {
     "name": "stdout",
     "output_type": "stream",
     "text": [
      "1\n"
     ]
    }
   ],
   "source": [
    "def sub(a,b):\n",
    "    print(a-b)\n",
    "sub(b=2,a=3) "
   ]
  },
  {
   "cell_type": "markdown",
   "metadata": {},
   "source": [
    "default arguments : we can pass default value with the parameter . If we call the function without argument, it uses the default value\n",
    "- after default arguments we should not use non-default arguments"
   ]
  },
  {
   "cell_type": "code",
   "execution_count": 21,
   "metadata": {},
   "outputs": [
    {
     "name": "stdout",
     "output_type": "stream",
     "text": [
      "-1\n",
      "1\n"
     ]
    }
   ],
   "source": [
    "def sub(a,b=3):\n",
    "    print(a-b)\n",
    "sub(2)\n",
    "sub(3,2)"
   ]
  },
  {
   "cell_type": "markdown",
   "metadata": {},
   "source": [
    "4. Variable length arguments : Variable-length arguments refer to a feature that allows a function to accept a variable number of arguments in Python. It is also known as the argument that can also accept an unlimited amount of data as input inside the function. There are two types in Python:\n",
    "\n",
    "- Non – Keyworded Arguments (*args)\n",
    "- Keyworded Arguments (**kwargs)"
   ]
  },
  {
   "cell_type": "code",
   "execution_count": null,
   "metadata": {},
   "outputs": [
    {
     "data": {
      "text/plain": [
       "21"
      ]
     },
     "execution_count": 22,
     "metadata": {},
     "output_type": "execute_result"
    }
   ],
   "source": [
    "#non-keyworded arguments\n",
    "def s(*args):\n",
    "    s = 0\n",
    "    for i in args:\n",
    "        s+=i\n",
    "    return s\n",
    "s(1,2,3,4,5,6)"
   ]
  },
  {
   "cell_type": "markdown",
   "metadata": {},
   "source": [
    " **kwargs is used to pass a keyworded, variable-length argument list. We call kwargs with a double star. The reason for this is that the double star allows us to pass over keyword arguments (in any order). Arguments are collected into a dictionary within the function that allow us to access them by their keys."
   ]
  },
  {
   "cell_type": "code",
   "execution_count": 30,
   "metadata": {},
   "outputs": [
    {
     "data": {
      "text/plain": [
       "6"
      ]
     },
     "execution_count": 30,
     "metadata": {},
     "output_type": "execute_result"
    }
   ],
   "source": [
    "#keyworded arguments\n",
    "def s(**kwargs):\n",
    "    s = 0 \n",
    "    for i in kwargs.values():\n",
    "        s+=i\n",
    "    return s\n",
    "s(a = 1,b = 2,c = 3)"
   ]
  },
  {
   "cell_type": "markdown",
   "metadata": {},
   "source": [
    "Types of variables\n",
    "1. Global variable : variable that can be accessed outside the function\n",
    "2. local variables : variable that can be accessed only inside the function"
   ]
  },
  {
   "cell_type": "code",
   "execution_count": 35,
   "metadata": {},
   "outputs": [
    {
     "name": "stdout",
     "output_type": "stream",
     "text": [
      "7\n",
      "<function a at 0x0000020AB5408310>\n"
     ]
    }
   ],
   "source": [
    "#local variable\n",
    "def f1():\n",
    "    a = 7\n",
    "    print(a)\n",
    "f1()\n",
    "print(a)"
   ]
  },
  {
   "cell_type": "code",
   "execution_count": 37,
   "metadata": {},
   "outputs": [
    {
     "name": "stdout",
     "output_type": "stream",
     "text": [
      "7\n"
     ]
    }
   ],
   "source": [
    "# global variable\n",
    "def f1():\n",
    "    global a \n",
    "    a = 7\n",
    "f1()\n",
    "print(a)"
   ]
  },
  {
   "cell_type": "markdown",
   "metadata": {},
   "source": [
    "Problems"
   ]
  },
  {
   "cell_type": "markdown",
   "metadata": {},
   "source": [
    "1. Function to find the area of the circle"
   ]
  },
  {
   "cell_type": "code",
   "execution_count": 38,
   "metadata": {},
   "outputs": [
    {
     "name": "stdout",
     "output_type": "stream",
     "text": [
      "area of the circle : 50.24\n"
     ]
    }
   ],
   "source": [
    "def area_circle(r):\n",
    "    area = 3.14*r*r\n",
    "    return area\n",
    "r = int(input(\"enter the radius : \"))\n",
    "print(f'area of the circle : {area_circle(r)}')"
   ]
  },
  {
   "cell_type": "markdown",
   "metadata": {},
   "source": [
    "2. Function to find the average of list"
   ]
  },
  {
   "cell_type": "code",
   "execution_count": 42,
   "metadata": {},
   "outputs": [
    {
     "name": "stdout",
     "output_type": "stream",
     "text": [
      "2.5\n"
     ]
    }
   ],
   "source": [
    "def average(l):\n",
    "    avg = sum(l)/len(l)\n",
    "    return avg\n",
    "l = input(\"enter the list : \").split()\n",
    "l = [int(i) for i in l]\n",
    "print(average(l))"
   ]
  },
  {
   "cell_type": "markdown",
   "metadata": {},
   "source": [
    "3. Function to find the largest of list"
   ]
  },
  {
   "cell_type": "code",
   "execution_count": 44,
   "metadata": {},
   "outputs": [
    {
     "name": "stdout",
     "output_type": "stream",
     "text": [
      "345\n"
     ]
    }
   ],
   "source": [
    "def largest(l):\n",
    "    m = max(l)\n",
    "    return m\n",
    "l = input(\"enter the list : \").split()\n",
    "l = [int(i) for i in l]\n",
    "print(largest(l))"
   ]
  },
  {
   "cell_type": "markdown",
   "metadata": {},
   "source": [
    "4. write a function to print all the words having more than 3 lettters"
   ]
  },
  {
   "cell_type": "code",
   "execution_count": 53,
   "metadata": {},
   "outputs": [
    {
     "name": "stdout",
     "output_type": "stream",
     "text": [
      "good\n",
      "abddd\n",
      "raamuuu\n"
     ]
    }
   ],
   "source": [
    "def words(s):\n",
    "    for i in s.split():\n",
    "        if len(i) > 3:\n",
    "            print(i)\n",
    "s = 'good abddd raamuuu'\n",
    "words(s)"
   ]
  },
  {
   "cell_type": "markdown",
   "metadata": {},
   "source": [
    "5. write a function to count  the upper and lower case letters in a string"
   ]
  },
  {
   "cell_type": "code",
   "execution_count": 54,
   "metadata": {},
   "outputs": [
    {
     "name": "stdout",
     "output_type": "stream",
     "text": [
      "upper case : 3 | lower case : 5\n"
     ]
    }
   ],
   "source": [
    "def count(s):\n",
    "    cu = 0\n",
    "    cl = 0\n",
    "    for i in s:\n",
    "        if i!= ' ' and i.isupper():\n",
    "            cu +=1\n",
    "        elif i!=' ' and i.islower():\n",
    "            cl+=1\n",
    "    print(f\"upper case : {cu} | lower case : {cl}\")\n",
    "count('Dev Is Srt')\n"
   ]
  },
  {
   "cell_type": "markdown",
   "metadata": {},
   "source": [
    "6. write a function to check wheather the string is palandrome"
   ]
  },
  {
   "cell_type": "code",
   "execution_count": 55,
   "metadata": {},
   "outputs": [
    {
     "name": "stdout",
     "output_type": "stream",
     "text": [
      "palandrome\n"
     ]
    }
   ],
   "source": [
    "def palandrome(s):\n",
    "    if s == s[::-1]:\n",
    "        print('palandrome')\n",
    "    else:\n",
    "        print('not palandrome')\n",
    "palandrome('malayalam')"
   ]
  },
  {
   "cell_type": "markdown",
   "metadata": {},
   "source": [
    "**Anonymous Function** : declares a function without a name"
   ]
  },
  {
   "cell_type": "markdown",
   "metadata": {},
   "source": [
    "lambda function()"
   ]
  },
  {
   "cell_type": "markdown",
   "metadata": {},
   "source": [
    "      lambda arguments : expression"
   ]
  },
  {
   "cell_type": "markdown",
   "metadata": {},
   "source": [
    "1. addition using lambda"
   ]
  },
  {
   "cell_type": "code",
   "execution_count": 56,
   "metadata": {},
   "outputs": [
    {
     "name": "stdout",
     "output_type": "stream",
     "text": [
      "5\n"
     ]
    }
   ],
   "source": [
    "add = lambda num1,num2 : num1+num2\n",
    "print(add(2,3))"
   ]
  },
  {
   "cell_type": "markdown",
   "metadata": {},
   "source": [
    "2. square using lambda"
   ]
  },
  {
   "cell_type": "code",
   "execution_count": 57,
   "metadata": {},
   "outputs": [
    {
     "name": "stdout",
     "output_type": "stream",
     "text": [
      "9\n"
     ]
    }
   ],
   "source": [
    "square = lambda a : a*a\n",
    "print(square(3))"
   ]
  },
  {
   "cell_type": "markdown",
   "metadata": {},
   "source": [
    "3. check wheather a number is odd or even usinf lambda function"
   ]
  },
  {
   "cell_type": "code",
   "execution_count": 58,
   "metadata": {},
   "outputs": [
    {
     "name": "stdout",
     "output_type": "stream",
     "text": [
      "odd\n"
     ]
    }
   ],
   "source": [
    "odd_even = lambda n : \"even\" if n%2==0 else \"odd\"\n",
    "print(odd_even(3))"
   ]
  },
  {
   "cell_type": "markdown",
   "metadata": {},
   "source": [
    "4. find greatest among 3 using lambda"
   ]
  },
  {
   "cell_type": "code",
   "execution_count": 59,
   "metadata": {},
   "outputs": [
    {
     "name": "stdout",
     "output_type": "stream",
     "text": [
      "34\n"
     ]
    }
   ],
   "source": [
    "greatest = lambda n1,n2,n3 : n1 if n1>n2 and n1>n3  else n2 if n2>n1 and n2>n3 else n3\n",
    "print(greatest(12,34,10))"
   ]
  },
  {
   "cell_type": "markdown",
   "metadata": {},
   "source": [
    "Functions that can take another function as arguments\n",
    "1. filter()\n",
    "2. map()\n",
    "3. reduce()"
   ]
  },
  {
   "cell_type": "markdown",
   "metadata": {},
   "source": [
    "**filter()** : It allows you to filter elements from iterable based on a condition"
   ]
  },
  {
   "cell_type": "code",
   "execution_count": null,
   "metadata": {},
   "outputs": [
    {
     "name": "stdout",
     "output_type": "stream",
     "text": [
      "[1, 3, 5]\n"
     ]
    }
   ],
   "source": [
    "# filter the odd numbers from the list\n",
    "l = [1,2,3,4,5]\n",
    "def odd(x):\n",
    "    if x%2!=0:\n",
    "        return x\n",
    "print(list(filter(odd,l)))"
   ]
  },
  {
   "cell_type": "code",
   "execution_count": 13,
   "metadata": {},
   "outputs": [
    {
     "name": "stdout",
     "output_type": "stream",
     "text": [
      "[7, 8, 9, 10]\n"
     ]
    }
   ],
   "source": [
    "# filter the numbers greater than 6\n",
    "lst=[1,2,3,4,5,6,7,8,9,10]\n",
    "ls = list(filter(lambda x : x>6,lst))\n",
    "print(ls)"
   ]
  },
  {
   "cell_type": "code",
   "execution_count": 14,
   "metadata": {},
   "outputs": [
    {
     "name": "stdout",
     "output_type": "stream",
     "text": [
      "['raju', 'nila', 'rajeev']\n"
     ]
    }
   ],
   "source": [
    "#filter the strings which has length more than 3\n",
    "l = ['dev','raju','zoe','nila','rajeev']\n",
    "ls = list(filter(lambda x : len(x)>3 , l))\n",
    "print(ls)"
   ]
  },
  {
   "cell_type": "code",
   "execution_count": 18,
   "metadata": {},
   "outputs": [
    {
     "name": "stdout",
     "output_type": "stream",
     "text": [
      "['raju', 'nila', 'rajeev']\n"
     ]
    }
   ],
   "source": [
    "#filter the string whose len is an even number\n",
    "l = l = ['dev','raju','zoe','nila','rajeev']\n",
    "ls = list(filter(lambda x : len(x)%2 == 0,l))\n",
    "print(ls)"
   ]
  },
  {
   "cell_type": "markdown",
   "metadata": {},
   "source": [
    "**map()** : The map() function is used to apply a given function to every item of an iterable, such as a list or tuple, and returns a map object (which is an iterator)."
   ]
  },
  {
   "cell_type": "code",
   "execution_count": 20,
   "metadata": {},
   "outputs": [
    {
     "name": "stdout",
     "output_type": "stream",
     "text": [
      "[1, 2, 3, 4]\n"
     ]
    }
   ],
   "source": [
    "s = ['1','2','3','4']\n",
    "l = list(map(int,s))\n",
    "print(l)"
   ]
  },
  {
   "cell_type": "code",
   "execution_count": 23,
   "metadata": {},
   "outputs": [
    {
     "name": "stdout",
     "output_type": "stream",
     "text": [
      "[1, 4, 9, 16, 25]\n"
     ]
    }
   ],
   "source": [
    "# convert a elements of a list to its square\n",
    "l = [1,2,3,4,5]\n",
    "lst = list(map(lambda x: x*x,l))\n",
    "print(lst)"
   ]
  },
  {
   "cell_type": "code",
   "execution_count": 25,
   "metadata": {},
   "outputs": [
    {
     "name": "stdout",
     "output_type": "stream",
     "text": [
      "['APPLE', 'ORANGE', 'MANGO', 'GRAPES']\n"
     ]
    }
   ],
   "source": [
    "#convert the elements of the list to uppercase\n",
    "lst = [\"apple\", \"orange\", \"mango\", \"grapes\"]\n",
    "ls = list(map(lambda x : x.upper(),lst))\n",
    "print(ls)"
   ]
  },
  {
   "cell_type": "code",
   "execution_count": 26,
   "metadata": {},
   "outputs": [
    {
     "name": "stdout",
     "output_type": "stream",
     "text": [
      "[1, 2, 9, 25, 6, 8]\n"
     ]
    }
   ],
   "source": [
    "#convert the elements of the list to its square if the element is odd\n",
    "lst = [1,2,3,5,6,8]\n",
    "l = list(map(lambda x : x if x%2 == 0 else x*x,lst))\n",
    "print(l)"
   ]
  },
  {
   "cell_type": "markdown",
   "metadata": {},
   "source": [
    "**Reduce :** The reduce(fun,seq) function is used to apply a particular function passed in its argument to all of the list elements mentioned in the sequence passed along. "
   ]
  },
  {
   "cell_type": "code",
   "execution_count": 28,
   "metadata": {},
   "outputs": [
    {
     "name": "stdout",
     "output_type": "stream",
     "text": [
      "15\n"
     ]
    }
   ],
   "source": [
    "from functools import reduce\n",
    "nums = [1,2,3,4,5]\n",
    "ans = reduce(lambda x,y : x + y,nums) \n",
    "print(ans)"
   ]
  },
  {
   "cell_type": "markdown",
   "metadata": {},
   "source": [
    "### List comprehension\n",
    "List comprehension offers a shorter syntax when you want to create a new list based on the values of an existing list."
   ]
  },
  {
   "cell_type": "markdown",
   "metadata": {},
   "source": [
    "1.\tLst=[1,2,3,4,5]\n",
    "     Create a identical list\n"
   ]
  },
  {
   "cell_type": "code",
   "execution_count": 30,
   "metadata": {},
   "outputs": [
    {
     "name": "stdout",
     "output_type": "stream",
     "text": [
      "[1, 2, 3, 4, 5]\n"
     ]
    }
   ],
   "source": [
    "l = [i for i in range(1,6)]\n",
    "print(l)"
   ]
  },
  {
   "cell_type": "markdown",
   "metadata": {},
   "source": [
    "2. Create a list from the element of range from 1200 to 2000 with step of 130"
   ]
  },
  {
   "cell_type": "code",
   "execution_count": 31,
   "metadata": {},
   "outputs": [
    {
     "name": "stdout",
     "output_type": "stream",
     "text": [
      "[1200, 1330, 1460, 1590, 1720, 1850, 1980]\n"
     ]
    }
   ],
   "source": [
    "l = [i for i in range(1200,2000,130)]\n",
    "print(l)"
   ]
  },
  {
   "cell_type": "markdown",
   "metadata": {},
   "source": [
    "3.\tConstruct a list from the square of each element in the list, if the square is greater than 8\n",
    "Lst=[1,2,3,4,5]\n"
   ]
  },
  {
   "cell_type": "code",
   "execution_count": 32,
   "metadata": {},
   "outputs": [
    {
     "name": "stdout",
     "output_type": "stream",
     "text": [
      "[9, 16, 25]\n"
     ]
    }
   ],
   "source": [
    "l = [1,2,3,4,5]\n",
    "lst = [i*i for i in l if i*i > 8]\n",
    "print(lst)"
   ]
  },
  {
   "cell_type": "markdown",
   "metadata": {},
   "source": [
    "4.\tGet only number in a sentence like “ In 1984 there were 13 instances of a protest with over 1000 people attending.\n"
   ]
  },
  {
   "cell_type": "code",
   "execution_count": 35,
   "metadata": {},
   "outputs": [
    {
     "name": "stdout",
     "output_type": "stream",
     "text": [
      "[1984, 13, 1000]\n"
     ]
    }
   ],
   "source": [
    "l = 'In 1984 there were 13 instances of a protest with over 1000 people attending'.split()\n",
    "l = [int(i) for i in l if i.isnumeric()]\n",
    "print(l)"
   ]
  },
  {
   "cell_type": "markdown",
   "metadata": {},
   "source": [
    "5. write a Python program to append numbers that are divisible by both 2 and 5 between 2 sets of integers(1-100).\n"
   ]
  },
  {
   "cell_type": "code",
   "execution_count": 39,
   "metadata": {},
   "outputs": [
    {
     "name": "stdout",
     "output_type": "stream",
     "text": [
      "[10, 20, 30, 40, 50, 60, 70, 80, 90]\n"
     ]
    }
   ],
   "source": [
    "l = [i for i in range(1,100) if i%5==0 and i%2 == 0 ]\n",
    "print(l)"
   ]
  },
  {
   "cell_type": "markdown",
   "metadata": {},
   "source": [
    "6.\tCreate a list in the range of 1 to 100 and only double if the number is an even numbers"
   ]
  },
  {
   "cell_type": "code",
   "execution_count": null,
   "metadata": {},
   "outputs": [
    {
     "name": "stdout",
     "output_type": "stream",
     "text": [
      "[1, 4, 3, 8, 5, 12, 7, 16, 9, 20, 11, 24, 13, 28, 15, 32, 17, 36, 19, 40, 21, 44, 23, 48, 25, 52, 27, 56, 29, 60, 31, 64, 33, 68, 35, 72, 37, 76, 39, 80, 41, 84, 43, 88, 45, 92, 47, 96, 49, 100, 51, 104, 53, 108, 55, 112, 57, 116, 59, 120, 61, 124, 63, 128, 65, 132, 67, 136, 69, 140, 71, 144, 73, 148, 75, 152, 77, 156, 79, 160, 81, 164, 83, 168, 85, 172, 87, 176, 89, 180, 91, 184, 93, 188, 95, 192, 97, 196, 99]\n"
     ]
    }
   ],
   "source": [
    "l = [2*i if i%2 ==0 else i for i in range(1,100) ]\n",
    "print(l)"
   ]
  },
  {
   "cell_type": "markdown",
   "metadata": {},
   "source": [
    "7.\tFruits=[‘mango’,’kiwi’,’strawberry’,’guava’,’pineapple’,’mandarine orange’]\n",
    "\n",
    "a.\t Make a variable named uppercased_fruits to hold the output of the list comprehension. Output should be ['MANGO', 'KIWI', etc...]\n"
   ]
  },
  {
   "cell_type": "code",
   "execution_count": 42,
   "metadata": {},
   "outputs": [
    {
     "name": "stdout",
     "output_type": "stream",
     "text": [
      "['MANGO', 'KIWI', 'STRAWBERRY', 'GUVA', 'PINEAPPLE', 'MANDRINE ORANGE']\n"
     ]
    }
   ],
   "source": [
    "f = ['mango','kiwi','strawberry','guva','pineapple','mandrine orange']\n",
    "uppercased_fruits = [i.upper() for i in f]\n",
    "print(uppercased_fruits)"
   ]
  },
  {
   "cell_type": "markdown",
   "metadata": {},
   "source": [
    "b.\tcreate a variable named capitalized_fruits and use list comprehension syntax to produce output like ['Mango', 'Kiwi', 'Strawberry', etc...]\n"
   ]
  },
  {
   "cell_type": "code",
   "execution_count": 43,
   "metadata": {},
   "outputs": [
    {
     "name": "stdout",
     "output_type": "stream",
     "text": [
      "['Mango', 'Kiwi', 'Strawberry', 'Guva', 'Pineapple', 'Mandrine orange']\n"
     ]
    }
   ],
   "source": [
    "capitalized_fruits = [i.capitalize() for i in f]\n",
    "print(capitalized_fruits)"
   ]
  },
  {
   "cell_type": "markdown",
   "metadata": {},
   "source": [
    "c.\tUse a list comprehension to make a variable named fruits_with_more_than_two_vowels. Hint: You'll need a way to check if something is a vowel"
   ]
  },
  {
   "cell_type": "code",
   "execution_count": 46,
   "metadata": {},
   "outputs": [
    {
     "name": "stdout",
     "output_type": "stream",
     "text": [
      "['pineapple', 'mandrine orange']\n"
     ]
    }
   ],
   "source": [
    "fruits = ['mango','kiwi','strawberry','guva','pineapple','mandrine orange']\n",
    "fruits_with_more_than_2vowels = [fruit for fruit in fruits if len([letter for letter in fruit if letter.lower() in \"aeiou\"]) > 2]\n",
    "print(fruits_with_more_than_2vowels)"
   ]
  },
  {
   "cell_type": "markdown",
   "metadata": {},
   "source": [
    "d.\tmake a variable named fruits_with_only_two_vowels. The result should be ['mango', 'kiwi', 'strawberry']\n"
   ]
  },
  {
   "cell_type": "code",
   "execution_count": 51,
   "metadata": {},
   "outputs": [
    {
     "name": "stdout",
     "output_type": "stream",
     "text": [
      "['mango', 'kiwi', 'strawberry', 'guva']\n"
     ]
    }
   ],
   "source": [
    "fruits = ['mango','kiwi','strawberry','guva','pineapple','mandrine orange']\n",
    "fruits_with_only_2vowel = [fruit for fruit in fruits if len([letter for letter in fruit if letter.lower() in 'aeiou']) == 2]\n",
    "print(fruits_with_only_2vowel)"
   ]
  },
  {
   "cell_type": "markdown",
   "metadata": {},
   "source": [
    "e.\tmake a list that contains each fruit with more than 5 characters\n"
   ]
  },
  {
   "cell_type": "code",
   "execution_count": 3,
   "metadata": {},
   "outputs": [
    {
     "name": "stdout",
     "output_type": "stream",
     "text": [
      "['strawberry', 'pineapple', 'mandrine orange']\n"
     ]
    }
   ],
   "source": [
    "fruits = ['mango','kiwi','strawberry','guva','pineapple','mandrine orange']\n",
    "more_than_5ch = [fruit for fruit in fruits if len(fruit) > 5 ]\n",
    "print(more_than_5ch)"
   ]
  },
  {
   "cell_type": "markdown",
   "metadata": {},
   "source": [
    "f.\tmake a list that contains each fruit with exactly 5 characters"
   ]
  },
  {
   "cell_type": "code",
   "execution_count": 4,
   "metadata": {},
   "outputs": [
    {
     "name": "stdout",
     "output_type": "stream",
     "text": [
      "['mango']\n"
     ]
    }
   ],
   "source": [
    "exactly_5ch = [fruit for fruit in fruits if len(fruit) == 5]\n",
    "print(exactly_5ch)"
   ]
  },
  {
   "cell_type": "markdown",
   "metadata": {},
   "source": [
    "g.\tMake a list containing the number of characters in each fruit. Output would be [5, 4, 10, etc... ]"
   ]
  },
  {
   "cell_type": "code",
   "execution_count": 6,
   "metadata": {},
   "outputs": [
    {
     "name": "stdout",
     "output_type": "stream",
     "text": [
      "[5, 4, 10, 4, 9, 15]\n"
     ]
    }
   ],
   "source": [
    "len_fruit = [len(fruit) for fruit in fruits ]\n",
    "print(len_fruit)"
   ]
  },
  {
   "cell_type": "markdown",
   "metadata": {},
   "source": [
    "### Modules and Packages"
   ]
  },
  {
   "cell_type": "markdown",
   "metadata": {},
   "source": [
    "a group of variable,functions saved to a file.\n",
    "a module is a single python file that can be imported.\n",
    "Advantages of module\n",
    "1. code reusability\n",
    "2. Readability\n",
    "3. Maintainabilility\n",
    "\n",
    "         import modulename\n",
    "         modulename.x\n",
    "\n",
    "         or \n",
    "\n",
    "         import modulename as m\n"
   ]
  },
  {
   "cell_type": "markdown",
   "metadata": {},
   "source": [
    "hello.py in this folder is a module created by me to wish "
   ]
  },
  {
   "cell_type": "code",
   "execution_count": 1,
   "metadata": {},
   "outputs": [
    {
     "name": "stdout",
     "output_type": "stream",
     "text": [
      "hello  dev\n"
     ]
    }
   ],
   "source": [
    "import hello\n",
    "hello.wish('dev')"
   ]
  },
  {
   "cell_type": "markdown",
   "metadata": {},
   "source": [
    "from import"
   ]
  },
  {
   "cell_type": "code",
   "execution_count": 3,
   "metadata": {},
   "outputs": [
    {
     "name": "stdout",
     "output_type": "stream",
     "text": [
      "3.141592653589793\n",
      "2.0\n"
     ]
    }
   ],
   "source": [
    "from math import pi,sqrt\n",
    "from math import pi as p , sqrt as st\n",
    "print(pi)\n",
    "print(sqrt(4))"
   ]
  },
  {
   "cell_type": "markdown",
   "metadata": {},
   "source": [
    "Various possibilities of import\n",
    "- import modulename\n",
    "- import module1,module2,module3\n",
    "- import module1 as m\n",
    "- import module as m1 , module2 as m2\n",
    "- from module import members\n",
    "- from module import members1,memebers2,member3\n",
    "- from module import *"
   ]
  },
  {
   "cell_type": "markdown",
   "metadata": {},
   "source": [
    "Finding members of a module by using dir() function"
   ]
  },
  {
   "cell_type": "code",
   "execution_count": 6,
   "metadata": {},
   "outputs": [
    {
     "data": {
      "text/plain": [
       "['__doc__',\n",
       " '__loader__',\n",
       " '__name__',\n",
       " '__package__',\n",
       " '__spec__',\n",
       " 'acos',\n",
       " 'acosh',\n",
       " 'asin',\n",
       " 'asinh',\n",
       " 'atan',\n",
       " 'atan2',\n",
       " 'atanh',\n",
       " 'ceil',\n",
       " 'comb',\n",
       " 'copysign',\n",
       " 'cos',\n",
       " 'cosh',\n",
       " 'degrees',\n",
       " 'dist',\n",
       " 'e',\n",
       " 'erf',\n",
       " 'erfc',\n",
       " 'exp',\n",
       " 'expm1',\n",
       " 'fabs',\n",
       " 'factorial',\n",
       " 'floor',\n",
       " 'fmod',\n",
       " 'frexp',\n",
       " 'fsum',\n",
       " 'gamma',\n",
       " 'gcd',\n",
       " 'hypot',\n",
       " 'inf',\n",
       " 'isclose',\n",
       " 'isfinite',\n",
       " 'isinf',\n",
       " 'isnan',\n",
       " 'isqrt',\n",
       " 'lcm',\n",
       " 'ldexp',\n",
       " 'lgamma',\n",
       " 'log',\n",
       " 'log10',\n",
       " 'log1p',\n",
       " 'log2',\n",
       " 'modf',\n",
       " 'nan',\n",
       " 'nextafter',\n",
       " 'perm',\n",
       " 'pi',\n",
       " 'pow',\n",
       " 'prod',\n",
       " 'radians',\n",
       " 'remainder',\n",
       " 'sin',\n",
       " 'sinh',\n",
       " 'sqrt',\n",
       " 'tan',\n",
       " 'tanh',\n",
       " 'tau',\n",
       " 'trunc',\n",
       " 'ulp']"
      ]
     },
     "execution_count": 6,
     "metadata": {},
     "output_type": "execute_result"
    }
   ],
   "source": [
    "import math\n",
    "dir(math)"
   ]
  },
  {
   "cell_type": "markdown",
   "metadata": {},
   "source": [
    "special variable __ _name_ __ variable\n",
    "\n",
    "a module can be executed directly or from another program\n",
    "- if __ _name_ __  = __ main___ then code executes directly as a program\n",
    "- if __ _name_ __ = some other then the value executes as a module to some other program"
   ]
  },
  {
   "cell_type": "markdown",
   "metadata": {},
   "source": [
    "Math module"
   ]
  },
  {
   "cell_type": "code",
   "execution_count": 7,
   "metadata": {},
   "outputs": [
    {
     "name": "stdout",
     "output_type": "stream",
     "text": [
      "3.141592653589793\n",
      "120\n",
      "2.0\n",
      "1\n",
      "2\n"
     ]
    }
   ],
   "source": [
    "from math import pi,sqrt,floor,ceil,factorial\n",
    "print(pi)\n",
    "print(factorial(5))\n",
    "print(sqrt(4))\n",
    "print(floor(1.5))\n",
    "print(ceil(1.5))"
   ]
  },
  {
   "cell_type": "code",
   "execution_count": 8,
   "metadata": {},
   "outputs": [
    {
     "name": "stdout",
     "output_type": "stream",
     "text": [
      "Help on built-in module math:\n",
      "\n",
      "NAME\n",
      "    math\n",
      "\n",
      "DESCRIPTION\n",
      "    This module provides access to the mathematical functions\n",
      "    defined by the C standard.\n",
      "\n",
      "FUNCTIONS\n",
      "    acos(x, /)\n",
      "        Return the arc cosine (measured in radians) of x.\n",
      "        \n",
      "        The result is between 0 and pi.\n",
      "    \n",
      "    acosh(x, /)\n",
      "        Return the inverse hyperbolic cosine of x.\n",
      "    \n",
      "    asin(x, /)\n",
      "        Return the arc sine (measured in radians) of x.\n",
      "        \n",
      "        The result is between -pi/2 and pi/2.\n",
      "    \n",
      "    asinh(x, /)\n",
      "        Return the inverse hyperbolic sine of x.\n",
      "    \n",
      "    atan(x, /)\n",
      "        Return the arc tangent (measured in radians) of x.\n",
      "        \n",
      "        The result is between -pi/2 and pi/2.\n",
      "    \n",
      "    atan2(y, x, /)\n",
      "        Return the arc tangent (measured in radians) of y/x.\n",
      "        \n",
      "        Unlike atan(y/x), the signs of both x and y are considered.\n",
      "    \n",
      "    atanh(x, /)\n",
      "        Return the inverse hyperbolic tangent of x.\n",
      "    \n",
      "    ceil(x, /)\n",
      "        Return the ceiling of x as an Integral.\n",
      "        \n",
      "        This is the smallest integer >= x.\n",
      "    \n",
      "    comb(n, k, /)\n",
      "        Number of ways to choose k items from n items without repetition and without order.\n",
      "        \n",
      "        Evaluates to n! / (k! * (n - k)!) when k <= n and evaluates\n",
      "        to zero when k > n.\n",
      "        \n",
      "        Also called the binomial coefficient because it is equivalent\n",
      "        to the coefficient of k-th term in polynomial expansion of the\n",
      "        expression (1 + x)**n.\n",
      "        \n",
      "        Raises TypeError if either of the arguments are not integers.\n",
      "        Raises ValueError if either of the arguments are negative.\n",
      "    \n",
      "    copysign(x, y, /)\n",
      "        Return a float with the magnitude (absolute value) of x but the sign of y.\n",
      "        \n",
      "        On platforms that support signed zeros, copysign(1.0, -0.0)\n",
      "        returns -1.0.\n",
      "    \n",
      "    cos(x, /)\n",
      "        Return the cosine of x (measured in radians).\n",
      "    \n",
      "    cosh(x, /)\n",
      "        Return the hyperbolic cosine of x.\n",
      "    \n",
      "    degrees(x, /)\n",
      "        Convert angle x from radians to degrees.\n",
      "    \n",
      "    dist(p, q, /)\n",
      "        Return the Euclidean distance between two points p and q.\n",
      "        \n",
      "        The points should be specified as sequences (or iterables) of\n",
      "        coordinates.  Both inputs must have the same dimension.\n",
      "        \n",
      "        Roughly equivalent to:\n",
      "            sqrt(sum((px - qx) ** 2.0 for px, qx in zip(p, q)))\n",
      "    \n",
      "    erf(x, /)\n",
      "        Error function at x.\n",
      "    \n",
      "    erfc(x, /)\n",
      "        Complementary error function at x.\n",
      "    \n",
      "    exp(x, /)\n",
      "        Return e raised to the power of x.\n",
      "    \n",
      "    expm1(x, /)\n",
      "        Return exp(x)-1.\n",
      "        \n",
      "        This function avoids the loss of precision involved in the direct evaluation of exp(x)-1 for small x.\n",
      "    \n",
      "    fabs(x, /)\n",
      "        Return the absolute value of the float x.\n",
      "    \n",
      "    factorial(x, /)\n",
      "        Find x!.\n",
      "        \n",
      "        Raise a ValueError if x is negative or non-integral.\n",
      "    \n",
      "    floor(x, /)\n",
      "        Return the floor of x as an Integral.\n",
      "        \n",
      "        This is the largest integer <= x.\n",
      "    \n",
      "    fmod(x, y, /)\n",
      "        Return fmod(x, y), according to platform C.\n",
      "        \n",
      "        x % y may differ.\n",
      "    \n",
      "    frexp(x, /)\n",
      "        Return the mantissa and exponent of x, as pair (m, e).\n",
      "        \n",
      "        m is a float and e is an int, such that x = m * 2.**e.\n",
      "        If x is 0, m and e are both 0.  Else 0.5 <= abs(m) < 1.0.\n",
      "    \n",
      "    fsum(seq, /)\n",
      "        Return an accurate floating point sum of values in the iterable seq.\n",
      "        \n",
      "        Assumes IEEE-754 floating point arithmetic.\n",
      "    \n",
      "    gamma(x, /)\n",
      "        Gamma function at x.\n",
      "    \n",
      "    gcd(*integers)\n",
      "        Greatest Common Divisor.\n",
      "    \n",
      "    hypot(...)\n",
      "        hypot(*coordinates) -> value\n",
      "        \n",
      "        Multidimensional Euclidean distance from the origin to a point.\n",
      "        \n",
      "        Roughly equivalent to:\n",
      "            sqrt(sum(x**2 for x in coordinates))\n",
      "        \n",
      "        For a two dimensional point (x, y), gives the hypotenuse\n",
      "        using the Pythagorean theorem:  sqrt(x*x + y*y).\n",
      "        \n",
      "        For example, the hypotenuse of a 3/4/5 right triangle is:\n",
      "        \n",
      "            >>> hypot(3.0, 4.0)\n",
      "            5.0\n",
      "    \n",
      "    isclose(a, b, *, rel_tol=1e-09, abs_tol=0.0)\n",
      "        Determine whether two floating point numbers are close in value.\n",
      "        \n",
      "          rel_tol\n",
      "            maximum difference for being considered \"close\", relative to the\n",
      "            magnitude of the input values\n",
      "          abs_tol\n",
      "            maximum difference for being considered \"close\", regardless of the\n",
      "            magnitude of the input values\n",
      "        \n",
      "        Return True if a is close in value to b, and False otherwise.\n",
      "        \n",
      "        For the values to be considered close, the difference between them\n",
      "        must be smaller than at least one of the tolerances.\n",
      "        \n",
      "        -inf, inf and NaN behave similarly to the IEEE 754 Standard.  That\n",
      "        is, NaN is not close to anything, even itself.  inf and -inf are\n",
      "        only close to themselves.\n",
      "    \n",
      "    isfinite(x, /)\n",
      "        Return True if x is neither an infinity nor a NaN, and False otherwise.\n",
      "    \n",
      "    isinf(x, /)\n",
      "        Return True if x is a positive or negative infinity, and False otherwise.\n",
      "    \n",
      "    isnan(x, /)\n",
      "        Return True if x is a NaN (not a number), and False otherwise.\n",
      "    \n",
      "    isqrt(n, /)\n",
      "        Return the integer part of the square root of the input.\n",
      "    \n",
      "    lcm(*integers)\n",
      "        Least Common Multiple.\n",
      "    \n",
      "    ldexp(x, i, /)\n",
      "        Return x * (2**i).\n",
      "        \n",
      "        This is essentially the inverse of frexp().\n",
      "    \n",
      "    lgamma(x, /)\n",
      "        Natural logarithm of absolute value of Gamma function at x.\n",
      "    \n",
      "    log(...)\n",
      "        log(x, [base=math.e])\n",
      "        Return the logarithm of x to the given base.\n",
      "        \n",
      "        If the base not specified, returns the natural logarithm (base e) of x.\n",
      "    \n",
      "    log10(x, /)\n",
      "        Return the base 10 logarithm of x.\n",
      "    \n",
      "    log1p(x, /)\n",
      "        Return the natural logarithm of 1+x (base e).\n",
      "        \n",
      "        The result is computed in a way which is accurate for x near zero.\n",
      "    \n",
      "    log2(x, /)\n",
      "        Return the base 2 logarithm of x.\n",
      "    \n",
      "    modf(x, /)\n",
      "        Return the fractional and integer parts of x.\n",
      "        \n",
      "        Both results carry the sign of x and are floats.\n",
      "    \n",
      "    nextafter(x, y, /)\n",
      "        Return the next floating-point value after x towards y.\n",
      "    \n",
      "    perm(n, k=None, /)\n",
      "        Number of ways to choose k items from n items without repetition and with order.\n",
      "        \n",
      "        Evaluates to n! / (n - k)! when k <= n and evaluates\n",
      "        to zero when k > n.\n",
      "        \n",
      "        If k is not specified or is None, then k defaults to n\n",
      "        and the function returns n!.\n",
      "        \n",
      "        Raises TypeError if either of the arguments are not integers.\n",
      "        Raises ValueError if either of the arguments are negative.\n",
      "    \n",
      "    pow(x, y, /)\n",
      "        Return x**y (x to the power of y).\n",
      "    \n",
      "    prod(iterable, /, *, start=1)\n",
      "        Calculate the product of all the elements in the input iterable.\n",
      "        \n",
      "        The default start value for the product is 1.\n",
      "        \n",
      "        When the iterable is empty, return the start value.  This function is\n",
      "        intended specifically for use with numeric values and may reject\n",
      "        non-numeric types.\n",
      "    \n",
      "    radians(x, /)\n",
      "        Convert angle x from degrees to radians.\n",
      "    \n",
      "    remainder(x, y, /)\n",
      "        Difference between x and the closest integer multiple of y.\n",
      "        \n",
      "        Return x - n*y where n*y is the closest integer multiple of y.\n",
      "        In the case where x is exactly halfway between two multiples of\n",
      "        y, the nearest even value of n is used. The result is always exact.\n",
      "    \n",
      "    sin(x, /)\n",
      "        Return the sine of x (measured in radians).\n",
      "    \n",
      "    sinh(x, /)\n",
      "        Return the hyperbolic sine of x.\n",
      "    \n",
      "    sqrt(x, /)\n",
      "        Return the square root of x.\n",
      "    \n",
      "    tan(x, /)\n",
      "        Return the tangent of x (measured in radians).\n",
      "    \n",
      "    tanh(x, /)\n",
      "        Return the hyperbolic tangent of x.\n",
      "    \n",
      "    trunc(x, /)\n",
      "        Truncates the Real x to the nearest Integral toward 0.\n",
      "        \n",
      "        Uses the __trunc__ magic method.\n",
      "    \n",
      "    ulp(x, /)\n",
      "        Return the value of the least significant bit of the float x.\n",
      "\n",
      "DATA\n",
      "    e = 2.718281828459045\n",
      "    inf = inf\n",
      "    nan = nan\n",
      "    pi = 3.141592653589793\n",
      "    tau = 6.283185307179586\n",
      "\n",
      "FILE\n",
      "    (built-in)\n",
      "\n",
      "\n"
     ]
    }
   ],
   "source": [
    "help(math)"
   ]
  },
  {
   "cell_type": "markdown",
   "metadata": {},
   "source": [
    "working with random module\n",
    "1. random() - generate numbers that are between 0 and 1\n",
    "2. randomint() \n",
    "3. uniform()\n",
    "4. randrange()\n",
    "5. choice()"
   ]
  },
  {
   "cell_type": "code",
   "execution_count": 13,
   "metadata": {},
   "outputs": [
    {
     "name": "stdout",
     "output_type": "stream",
     "text": [
      "0.8338841684370263\n"
     ]
    }
   ],
   "source": [
    "import random\n",
    "print(random.random())"
   ]
  },
  {
   "cell_type": "code",
   "execution_count": null,
   "metadata": {},
   "outputs": [
    {
     "name": "stdout",
     "output_type": "stream",
     "text": [
      "76\n"
     ]
    }
   ],
   "source": [
    "print(random.randint(1,100)) #returns a number in a specific range"
   ]
  },
  {
   "cell_type": "code",
   "execution_count": null,
   "metadata": {},
   "outputs": [
    {
     "name": "stdout",
     "output_type": "stream",
     "text": [
      "1\n"
     ]
    }
   ],
   "source": [
    "l = [1,2,3,4,5]\n",
    "print(random.choice(l)) #returns a random from a sequence"
   ]
  },
  {
   "cell_type": "code",
   "execution_count": null,
   "metadata": {},
   "outputs": [
    {
     "name": "stdout",
     "output_type": "stream",
     "text": [
      "8.600756824439156\n"
     ]
    }
   ],
   "source": [
    "print(random.uniform(1,100)) #float value"
   ]
  },
  {
   "cell_type": "markdown",
   "metadata": {},
   "source": [
    "**Packages :** It is an encapsulation mechanism to group related modules into a single unit\n",
    "- __ _init_ __.py file should be there in the package\n",
    "- a package can contain subpackages\n",
    "\n",
    "Advantages:\n",
    "1. we can resolve naming conflicts\n",
    "2. we can identify our componenets uniquely\n",
    "3. modularity improved\n",
    "4. readability and maintainability\n",
    "\n",
    "**Library :** Library contains several packages each package contains many modules these modules will contain functions"
   ]
  },
  {
   "cell_type": "markdown",
   "metadata": {},
   "source": [
    "### Exception Handling"
   ]
  },
  {
   "cell_type": "markdown",
   "metadata": {},
   "source": [
    "Error in Python can be of two types \n",
    "- Syntax errors\n",
    "- Exceptions.\n",
    "\n",
    " Errors are problems in a program due to which the program will stop the execution. On the other hand, exceptions are raised when some internal events occur which change the normal flow of the program. "
   ]
  },
  {
   "cell_type": "markdown",
   "metadata": {},
   "source": [
    "- SyntaxError: This exception is raised when the interpreter encounters a syntax error in the code, such as a misspelled keyword, a missing colon, or an unbalanced parenthesis.\n",
    "- TypeError: This exception is raised when an operation or function is applied to an object of the wrong type, such as adding a string to an integer.\n",
    "- NameError: This exception is raised when a variable or function name is not found in the current scope.\n",
    "- IndexError: This exception is raised when an index is out of range for a list, tuple, or other sequence types.\n",
    "- KeyError: This exception is raised when a key is not found in a dictionary.\n",
    "- ValueError: This exception is raised when a function or method is called with an invalid argument or input, such as trying to convert a string to an integer when the string does not represent a valid integer.\n",
    "- AttributeError: This exception is raised when an attribute or method is not found on an object, such as trying to access a non-existent attribute of a class instance.\n",
    "- IOError: This exception is raised when an I/O operation, such as reading or writing a file, fails due to an input/output error.\n",
    "- ZeroDivisionError: This exception is raised when an attempt is made to divide a number by zero.\n",
    "- ImportError: This exception is raised when an import statement fails to find or load a module."
   ]
  },
  {
   "cell_type": "markdown",
   "metadata": {},
   "source": [
    "**syntax errors** : errors occur due to the incorrect syntax"
   ]
  },
  {
   "cell_type": "code",
   "execution_count": 20,
   "metadata": {},
   "outputs": [
    {
     "ename": "SyntaxError",
     "evalue": "expected ':' (2477604888.py, line 1)",
     "output_type": "error",
     "traceback": [
      "\u001b[1;36m  Cell \u001b[1;32mIn[20], line 1\u001b[1;36m\u001b[0m\n\u001b[1;33m    if a==1\u001b[0m\n\u001b[1;37m           ^\u001b[0m\n\u001b[1;31mSyntaxError\u001b[0m\u001b[1;31m:\u001b[0m expected ':'\n"
     ]
    }
   ],
   "source": [
    "if a==1\n",
    "   print(\"dev\")"
   ]
  },
  {
   "cell_type": "markdown",
   "metadata": {},
   "source": [
    "**Exceptions :** exceptions are raised when a program is syntactically correct , but the code results in error\n",
    "\n",
    "eg:"
   ]
  },
  {
   "cell_type": "code",
   "execution_count": 21,
   "metadata": {},
   "outputs": [
    {
     "ename": "ZeroDivisionError",
     "evalue": "division by zero",
     "output_type": "error",
     "traceback": [
      "\u001b[1;31m---------------------------------------------------------------------------\u001b[0m",
      "\u001b[1;31mZeroDivisionError\u001b[0m                         Traceback (most recent call last)",
      "Cell \u001b[1;32mIn[21], line 1\u001b[0m\n\u001b[1;32m----> 1\u001b[0m a \u001b[38;5;241m=\u001b[39m \u001b[38;5;241;43m12\u001b[39;49m\u001b[38;5;241;43m/\u001b[39;49m\u001b[38;5;241;43m0\u001b[39;49m\n\u001b[0;32m      2\u001b[0m \u001b[38;5;28mprint\u001b[39m(a)\n",
      "\u001b[1;31mZeroDivisionError\u001b[0m: division by zero"
     ]
    }
   ],
   "source": [
    "a = 12/0\n",
    "print(a)"
   ]
  },
  {
   "cell_type": "markdown",
   "metadata": {},
   "source": [
    "Try and Except Statement – Catching Exceptions"
   ]
  },
  {
   "cell_type": "markdown",
   "metadata": {},
   "source": [
    "Try and except statements are used to catch and handle exceptions in python.\n",
    "- statements that can raise error are wrapped inside the try block\n",
    "- statements that can handle the exception are written inside except block"
   ]
  },
  {
   "cell_type": "code",
   "execution_count": 23,
   "metadata": {},
   "outputs": [
    {
     "name": "stdout",
     "output_type": "stream",
     "text": [
      "index out of range , give the correct index\n"
     ]
    }
   ],
   "source": [
    "x = [1,2,3]\n",
    "try:\n",
    "    print(x[5])\n",
    "except:\n",
    "    print('index out of range , give the correct index')"
   ]
  },
  {
   "cell_type": "code",
   "execution_count": 26,
   "metadata": {},
   "outputs": [
    {
     "name": "stdout",
     "output_type": "stream",
     "text": [
      "can't  divide a number by zero \n",
      "the end\n"
     ]
    }
   ],
   "source": [
    "try :\n",
    "    x = 5/0\n",
    "except ZeroDivisionError:\n",
    "    print(\"can't  divide a number by zero \")\n",
    "finally:\n",
    "    print(\"the end\") # this will executes no matter what "
   ]
  },
  {
   "cell_type": "code",
   "execution_count": 3,
   "metadata": {},
   "outputs": [
    {
     "name": "stdout",
     "output_type": "stream",
     "text": [
      "zero divison error\n"
     ]
    }
   ],
   "source": [
    "try:\n",
    "    x = 5/0\n",
    "    x = y\n",
    "except Exception:\n",
    "    print(\"zero divison error\")\n"
   ]
  },
  {
   "cell_type": "markdown",
   "metadata": {},
   "source": [
    "here there are 2 errors  \n",
    "- zero division error\n",
    "- y is not defined error \n",
    "but using the class exception , the 2 errors comes in the same except block"
   ]
  },
  {
   "cell_type": "code",
   "execution_count": null,
   "metadata": {},
   "outputs": [],
   "source": []
  },
  {
   "cell_type": "code",
   "execution_count": 7,
   "metadata": {},
   "outputs": [
    {
     "name": "stdout",
     "output_type": "stream",
     "text": [
      "zero divsion error\n"
     ]
    }
   ],
   "source": [
    "#but we can specify the second error except block\n",
    "try:\n",
    "    x = 5/0\n",
    "    var = bad_var\n",
    "except ZeroDivisionError:\n",
    "    print(\"zero divsion error\")\n",
    "except Exception as e:\n",
    "    print(e)"
   ]
  },
  {
   "cell_type": "markdown",
   "metadata": {},
   "source": [
    "- else block is for if the try block didn't raise an error \n",
    "- finally will execute no matter what "
   ]
  },
  {
   "cell_type": "code",
   "execution_count": 10,
   "metadata": {},
   "outputs": [
    {
     "name": "stdout",
     "output_type": "stream",
     "text": [
      "cool\n",
      "executing finally\n"
     ]
    }
   ],
   "source": [
    "try:\n",
    "    4/4\n",
    "except ZeroDivisionError as e:\n",
    "    print(e)\n",
    "else:\n",
    "    print(\"cool\")\n",
    "finally:\n",
    "    print(\"executing finally\")"
   ]
  },
  {
   "cell_type": "markdown",
   "metadata": {},
   "source": [
    "you can raise exceptions if you want"
   ]
  },
  {
   "cell_type": "code",
   "execution_count": null,
   "metadata": {},
   "outputs": [
    {
     "name": "stdout",
     "output_type": "stream",
     "text": [
      "error\n"
     ]
    }
   ],
   "source": [
    "try:\n",
    "    c= 4/4\n",
    "    if c == 4/4:\n",
    "        raise Exception\n",
    "except Exception as e:\n",
    "    print(\"error\")\n"
   ]
  },
  {
   "cell_type": "markdown",
   "metadata": {},
   "source": [
    "Even though there is no error we can raise exceptions , just as above"
   ]
  },
  {
   "cell_type": "markdown",
   "metadata": {},
   "source": [
    "### File handling\n",
    "It is very important to store our data for the future purpose\n",
    "- very less concept => go for the files\n",
    "- Huge amount of information => db\n",
    "- very huge amount of data => bigdata\n",
    "\n",
    "Types of files\n",
    "- text files\n",
    "- Binary files\n",
    "\n",
    "opening a file\n",
    "- open()\n",
    "            \n",
    "            f = open(filename,mode)"
   ]
  },
  {
   "cell_type": "markdown",
   "metadata": {},
   "source": [
    "modes \n",
    "- 'r' - reading mode\n",
    "- 'w'  - writing mode\n",
    "- 'a' - append mode\n",
    "- 'rb' - reading mode in binary\n",
    "- 'r+' - reading mode + writing mode at the same time\n",
    "- 'rb+' - reading and writing mode in binary\n",
    "- 'wb' - writing mode in binary\n",
    "- 'w+' - writing and reading mode \n",
    "- 'wb+' - writing and reading mode in binary mode\n",
    "- 'ab' - appending in binary mode\n",
    "- 'a+' - appending and reading mode\n",
    "- 'ab+' - appending and reading mode in binary"
   ]
  },
  {
   "cell_type": "code",
   "execution_count": 5,
   "metadata": {},
   "outputs": [
    {
     "name": "stdout",
     "output_type": "stream",
     "text": [
      "azy\n",
      "\n",
      "dev\n",
      "\n",
      "raju\n"
     ]
    }
   ],
   "source": [
    "file = open('abc.txt','r')\n",
    "for line in file:\n",
    "    print(line)\n"
   ]
  },
  {
   "cell_type": "code",
   "execution_count": 7,
   "metadata": {},
   "outputs": [
    {
     "name": "stdout",
     "output_type": "stream",
     "text": [
      "azy\n",
      "dev\n",
      "raju\n"
     ]
    }
   ],
   "source": [
    "file = open('abc.txt','r')\n",
    "print(file.read())"
   ]
  },
  {
   "cell_type": "code",
   "execution_count": null,
   "metadata": {},
   "outputs": [
    {
     "name": "stdout",
     "output_type": "stream",
     "text": [
      "azy\n",
      "dev\n",
      "raju\n"
     ]
    }
   ],
   "source": [
    "with open('abc.txt','r') as f: #with can be used so that we dont need to close the file\n",
    "   data = f.read() \n",
    "   print(data)"
   ]
  },
  {
   "cell_type": "code",
   "execution_count": 10,
   "metadata": {},
   "outputs": [
    {
     "name": "stdout",
     "output_type": "stream",
     "text": [
      "azy\n"
     ]
    }
   ],
   "source": [
    "file = open('abc.txt','r')\n",
    "print(file.read(3))"
   ]
  },
  {
   "cell_type": "code",
   "execution_count": 12,
   "metadata": {},
   "outputs": [
    {
     "name": "stdout",
     "output_type": "stream",
     "text": [
      "['azy', 'ram', 'fooo']\n",
      "['dev', 'yoo', 'honey']\n",
      "['raju', 'jill', 'jick']\n"
     ]
    }
   ],
   "source": [
    "with open('abc.txt','r') as f:\n",
    "    data = f.readlines()\n",
    "    for line in data:\n",
    "        word = line.split()\n",
    "        print(word)"
   ]
  },
  {
   "cell_type": "markdown",
   "metadata": {},
   "source": [
    "**Creating a file using write function**\n",
    "- f.write(str)\n",
    "- f.writelines(list of lines)"
   ]
  },
  {
   "cell_type": "code",
   "execution_count": null,
   "metadata": {},
   "outputs": [],
   "source": [
    "f = open('xyz.txt','w')\n",
    "f.write('helloo how are you')\n",
    "f.write('have a nice day')\n",
    "f.close()"
   ]
  },
  {
   "cell_type": "code",
   "execution_count": 17,
   "metadata": {},
   "outputs": [],
   "source": [
    "with open('pq.txt','w') as f:\n",
    "    f.write(\"yoo have a great day\")"
   ]
  },
  {
   "cell_type": "code",
   "execution_count": 31,
   "metadata": {},
   "outputs": [],
   "source": [
    "with open('pq.txt','w') as f:\n",
    "    f.writelines(['raju is a good boy\\n','mary is naughty'])"
   ]
  },
  {
   "cell_type": "markdown",
   "metadata": {},
   "source": [
    "**Read file**"
   ]
  },
  {
   "cell_type": "code",
   "execution_count": 32,
   "metadata": {},
   "outputs": [
    {
     "name": "stdout",
     "output_type": "stream",
     "text": [
      "raju is a good boy\n",
      "mary is naughty\n"
     ]
    }
   ],
   "source": [
    "with open('pq.txt','r') as f:\n",
    "    a = f.read()\n",
    "    print(a)"
   ]
  },
  {
   "cell_type": "code",
   "execution_count": 37,
   "metadata": {},
   "outputs": [
    {
     "name": "stdout",
     "output_type": "stream",
     "text": [
      "raju \n"
     ]
    }
   ],
   "source": [
    "with open('pq.txt','r') as f:\n",
    "    print(f.read(5))"
   ]
  },
  {
   "cell_type": "code",
   "execution_count": 40,
   "metadata": {},
   "outputs": [
    {
     "name": "stdout",
     "output_type": "stream",
     "text": [
      "raju is a good boy\n",
      "\n"
     ]
    }
   ],
   "source": [
    "with open('pq.txt','r') as f:\n",
    "    print(f.readline())"
   ]
  },
  {
   "cell_type": "code",
   "execution_count": null,
   "metadata": {},
   "outputs": [
    {
     "name": "stdout",
     "output_type": "stream",
     "text": [
      "['raju is a good boy\\n', 'mary is naughty']\n"
     ]
    }
   ],
   "source": [
    "with open('pq.txt','r') as f:\n",
    "    print(f.readlines()) # return a list with lines"
   ]
  },
  {
   "cell_type": "markdown",
   "metadata": {},
   "source": [
    "*tell()* : returns the current position of the file pointer"
   ]
  },
  {
   "cell_type": "code",
   "execution_count": 42,
   "metadata": {},
   "outputs": [
    {
     "name": "stdout",
     "output_type": "stream",
     "text": [
      "0\n",
      "5\n"
     ]
    }
   ],
   "source": [
    "with open('pq.txt','r') as f:\n",
    "    print(f.tell())\n",
    "    f.read(5)\n",
    "    print(f.tell())"
   ]
  },
  {
   "cell_type": "code",
   "execution_count": 44,
   "metadata": {},
   "outputs": [],
   "source": [
    "import os\n",
    "def create_file(filename):\n",
    "    try:\n",
    "        with open(filename,'w') as f:\n",
    "            f.write('hello\\n')\n",
    "        print(filename,'created successfully')\n",
    "    except IOError:\n",
    "        print(\"Error : count read file\")\n",
    "def read_file(filename):\n",
    "    try:\n",
    "        with open(filename,'r') as f:\n",
    "            print(f.read())\n",
    "    except IOError:\n",
    "        print('ERROR: could not read file')\n",
    "def append_file(filename,text):\n",
    "    try:\n",
    "        with open(filename,'a') as f:\n",
    "            f.write(text)\n",
    "        print(f\"{text} appended to the file\")\n",
    "    except IOError:\n",
    "        print(\"ERROR : could not append to file\")\n",
    "def rename_file(filename,new_filename):\n",
    "    try:\n",
    "        os.rename(filename,new_filename) \n",
    "        print(f'file renamed from {filename} to {new_filename}')\n",
    "    except IOError:\n",
    "        print(\"ERROR : couldnot rename file\")\n",
    "def delete_file(filename):\n",
    "    try:\n",
    "        os.remove(filename) \n",
    "        print(f\"deleted {filename}\")   \n",
    "    except IOError:\n",
    "        print(\"ERROR : couldnot delete file\")       "
   ]
  },
  {
   "cell_type": "code",
   "execution_count": 45,
   "metadata": {},
   "outputs": [
    {
     "name": "stdout",
     "output_type": "stream",
     "text": [
      "xb.txt created successfully\n",
      "hello\n",
      "\n",
      "new line appended to the file\n",
      "file renamed from xb.txt to xbx.txt\n",
      "deleted xbx.txt\n"
     ]
    }
   ],
   "source": [
    "create_file('xb.txt')\n",
    "read_file('xb.txt')\n",
    "append_file('xb.txt','new line')\n",
    "rename_file('xb.txt','xbx.txt')\n",
    "delete_file('xbx.txt')"
   ]
  },
  {
   "cell_type": "markdown",
   "metadata": {},
   "source": [
    "### Os module\n",
    "Python has a built-in os module with methods for interacting with the operating system, like creating files and directories, management of files and directories, input, output, environment variables, process management, etc."
   ]
  },
  {
   "cell_type": "markdown",
   "metadata": {},
   "source": [
    "- importing os module"
   ]
  },
  {
   "cell_type": "code",
   "execution_count": 46,
   "metadata": {},
   "outputs": [],
   "source": [
    "import os "
   ]
  },
  {
   "cell_type": "markdown",
   "metadata": {},
   "source": [
    "Python-OS-Module Functions\n",
    "1. Handling the Current Working Directory\n",
    "2. Creating a Directory\n",
    "3. Listing out Files and Directories with Python\n",
    "4. Deleting Directory or Files using Python"
   ]
  },
  {
   "cell_type": "markdown",
   "metadata": {},
   "source": [
    "**1.Handling the Current Working Directory**"
   ]
  },
  {
   "cell_type": "code",
   "execution_count": 47,
   "metadata": {},
   "outputs": [
    {
     "name": "stdout",
     "output_type": "stream",
     "text": [
      "Current working directory: d:\\datastructures and algorithms\\Python-DSA\\Pythonfundementals\n"
     ]
    }
   ],
   "source": [
    "import os \n",
    "cwd = os.getcwd()\n",
    "print(\"Current working directory:\",cwd)"
   ]
  },
  {
   "cell_type": "markdown",
   "metadata": {},
   "source": [
    "changing the current working directory\n",
    "- using chdir('../)"
   ]
  },
  {
   "cell_type": "code",
   "execution_count": 48,
   "metadata": {},
   "outputs": [
    {
     "name": "stdout",
     "output_type": "stream",
     "text": [
      "current working directory\n",
      "d:\\datastructures and algorithms\\Python-DSA\\Pythonfundementals\n",
      "\n",
      "current working directory\n",
      "d:\\datastructures and algorithms\\Python-DSA\n",
      "\n"
     ]
    }
   ],
   "source": [
    "import os\n",
    "def current_path():\n",
    "    print(\"current working directory\")\n",
    "    print(os.getcwd())\n",
    "    print()\n",
    "current_path()\n",
    "os.chdir('../')\n",
    "current_path()"
   ]
  },
  {
   "cell_type": "markdown",
   "metadata": {},
   "source": [
    "**2. Creating a Directory**\n",
    "\n",
    "There are different methods available in the OS module for creating a directory. These are –\n",
    "- os.mkdir()\n",
    "- os.makedirs()"
   ]
  },
  {
   "cell_type": "code",
   "execution_count": 49,
   "metadata": {},
   "outputs": [
    {
     "name": "stdout",
     "output_type": "stream",
     "text": [
      "directory created\n"
     ]
    }
   ],
   "source": [
    "import os \n",
    "directory = 'Learning'\n",
    "parent_dir = 'd:\\datastructures and algorithms'\n",
    "path = os.path.join(parent_dir,directory)\n",
    "\n",
    "os.mkdir(path)\n",
    "print(\"directory created\")"
   ]
  },
  {
   "cell_type": "code",
   "execution_count": null,
   "metadata": {},
   "outputs": [
    {
     "name": "stdout",
     "output_type": "stream",
     "text": [
      "directory created\n"
     ]
    }
   ],
   "source": [
    "directory = 'Learnings'\n",
    "parent_dir = 'd:\\datastructures and algorithms'\n",
    "path = os.path.join(parent_dir,directory)\n",
    "mode = 0o666 #specifies the mode which grants read and write permissions\n",
    "os.mkdir(path,mode)\n",
    "print(\"directory created\")"
   ]
  },
  {
   "cell_type": "code",
   "execution_count": 51,
   "metadata": {},
   "outputs": [
    {
     "name": "stdout",
     "output_type": "stream",
     "text": [
      "directory created\n"
     ]
    }
   ],
   "source": [
    "directory = 'Learningsss'\n",
    "parent_dir = 'd:\\datastructures and algorithms'\n",
    "path = os.path.join(parent_dir,directory)\n",
    "os.makedirs(path)\n",
    "print(\"directory created\")"
   ]
  },
  {
   "cell_type": "markdown",
   "metadata": {},
   "source": [
    "**3. Listing out Files and Directories with Python**"
   ]
  },
  {
   "cell_type": "code",
   "execution_count": 56,
   "metadata": {},
   "outputs": [
    {
     "name": "stdout",
     "output_type": "stream",
     "text": [
      "Files and directories :  ['$RECYCLE.BIN', 'CapCut', 'CapCut Drafts', 'Config.Msi', 'datastructures and algorithms', 'dl projects', 'mllum', 'obs-studio', 'program', 'Riot Games', 'System Volume Information']\n"
     ]
    }
   ],
   "source": [
    "import os \n",
    "path = '/'\n",
    "dir_list = os.listdir(path)\n",
    "print(\"Files and directories : \",dir_list)"
   ]
  },
  {
   "cell_type": "markdown",
   "metadata": {},
   "source": [
    "**4. Deleting Directory or Files using Python**"
   ]
  },
  {
   "cell_type": "code",
   "execution_count": 58,
   "metadata": {},
   "outputs": [],
   "source": [
    "import os\n",
    "file = 'pq.txt'\n",
    "location = 'D:\\datastructures and algorithms\\Python-DSA\\Pythonfundementals'\n",
    "path = os.path.join(location,file)\n",
    "os.remove(path)"
   ]
  },
  {
   "cell_type": "code",
   "execution_count": 61,
   "metadata": {},
   "outputs": [],
   "source": [
    "import os\n",
    "file = ['Learnings','Learningsss']\n",
    "location = 'D:\\datastructures and algorithms'\n",
    "for i in file:\n",
    "    path = os.path.join(location,i)\n",
    "    os.rmdir(path)"
   ]
  },
  {
   "cell_type": "markdown",
   "metadata": {},
   "source": [
    "**Commonly used os functions**"
   ]
  },
  {
   "cell_type": "code",
   "execution_count": 62,
   "metadata": {},
   "outputs": [
    {
     "name": "stdout",
     "output_type": "stream",
     "text": [
      "nt\n"
     ]
    }
   ],
   "source": [
    "import os\n",
    "print(os.name)"
   ]
  },
  {
   "cell_type": "code",
   "execution_count": 64,
   "metadata": {},
   "outputs": [
    {
     "data": {
      "text/plain": [
       "5"
      ]
     },
     "execution_count": 64,
     "metadata": {},
     "output_type": "execute_result"
    }
   ],
   "source": [
    "import os\n",
    "fd = 'xyx.txt'\n",
    "file = os.popen(fd,'w')\n",
    "file.write(\"hello\")"
   ]
  },
  {
   "cell_type": "code",
   "execution_count": null,
   "metadata": {},
   "outputs": [],
   "source": [
    "import os \n",
    "f = 'abc.txt'\n",
    "file = open(f,'r')\n",
    "print(file)\n",
    "os.close()"
   ]
  },
  {
   "cell_type": "code",
   "execution_count": null,
   "metadata": {},
   "outputs": [],
   "source": [
    "import os \n",
    "os.rename('abc.txt','abx.txt')"
   ]
  },
  {
   "cell_type": "code",
   "execution_count": 70,
   "metadata": {},
   "outputs": [
    {
     "name": "stdout",
     "output_type": "stream",
     "text": [
      "False\n"
     ]
    }
   ],
   "source": [
    "import os \n",
    "result = os.path.exists('abc.txt')\n",
    "print(result)"
   ]
  },
  {
   "cell_type": "code",
   "execution_count": 72,
   "metadata": {},
   "outputs": [
    {
     "ename": "SyntaxError",
     "evalue": "(unicode error) 'unicodeescape' codec can't decode bytes in position 62-63: truncated \\xXX escape (3098418661.py, line 2)",
     "output_type": "error",
     "traceback": [
      "\u001b[1;36m  Cell \u001b[1;32mIn[72], line 2\u001b[1;36m\u001b[0m\n\u001b[1;33m    size = os.path.getsize(\"D:\\datastructures and algorithms\\Python-DSA\\Pythonfundementals\\xyz.txt\")\u001b[0m\n\u001b[1;37m                                                                                                   ^\u001b[0m\n\u001b[1;31mSyntaxError\u001b[0m\u001b[1;31m:\u001b[0m (unicode error) 'unicodeescape' codec can't decode bytes in position 62-63: truncated \\xXX escape\n"
     ]
    }
   ],
   "source": [
    "import os \n",
    "size = os.path.getsize(\"D:\\datastructures and algorithms\\Python-DSA\\Pythonfundementals\\xyz.txt\")\n",
    "print(\"Size of the file is\", size,\" bytes.\")"
   ]
  },
  {
   "cell_type": "markdown",
   "metadata": {},
   "source": [
    "### Sys module\n",
    "The sys module in Python provides various functions and variables that are used to manipulate different parts of the Python runtime environment. It allows operating on the interpreter as it provides access to the variables and functions that interact strongly with the interpreter"
   ]
  },
  {
   "cell_type": "code",
   "execution_count": 1,
   "metadata": {},
   "outputs": [
    {
     "name": "stdout",
     "output_type": "stream",
     "text": [
      "3.10.4 (tags/v3.10.4:9d38120, Mar 23 2022, 23:13:41) [MSC v.1929 64 bit (AMD64)]\n"
     ]
    }
   ],
   "source": [
    "import sys\n",
    "print(sys.version)"
   ]
  },
  {
   "cell_type": "code",
   "execution_count": null,
   "metadata": {},
   "outputs": [],
   "source": [
    "import sys\n",
    "a = sys.stdin"
   ]
  },
  {
   "cell_type": "code",
   "execution_count": 8,
   "metadata": {},
   "outputs": [
    {
     "name": "stdout",
     "output_type": "stream",
     "text": [
      "dev"
     ]
    },
    {
     "data": {
      "text/plain": [
       "3"
      ]
     },
     "execution_count": 8,
     "metadata": {},
     "output_type": "execute_result"
    }
   ],
   "source": [
    "import sys\n",
    "sys.stdout.write(\"dev\")"
   ]
  },
  {
   "cell_type": "code",
   "execution_count": 6,
   "metadata": {},
   "outputs": [
    {
     "ename": "SystemExit",
     "evalue": "",
     "output_type": "error",
     "traceback": [
      "An exception has occurred, use %tb to see the full traceback.\n",
      "\u001b[1;31mSystemExit\u001b[0m\n"
     ]
    },
    {
     "name": "stderr",
     "output_type": "stream",
     "text": [
      "C:\\Users\\devna\\AppData\\Roaming\\Python\\Python310\\site-packages\\IPython\\core\\interactiveshell.py:3585: UserWarning: To exit: use 'exit', 'quit', or Ctrl-D.\n",
      "  warn(\"To exit: use 'exit', 'quit', or Ctrl-D.\", stacklevel=1)\n"
     ]
    }
   ],
   "source": [
    "import sys\n",
    "a = 10\n",
    "if a == 10:\n",
    "    sys.exit()"
   ]
  },
  {
   "cell_type": "code",
   "execution_count": 5,
   "metadata": {},
   "outputs": [
    {
     "name": "stdout",
     "output_type": "stream",
     "text": [
      "['c:\\\\Users\\\\devna\\\\AppData\\\\Local\\\\Programs\\\\Python\\\\Python310\\\\python310.zip', 'c:\\\\Users\\\\devna\\\\AppData\\\\Local\\\\Programs\\\\Python\\\\Python310\\\\DLLs', 'c:\\\\Users\\\\devna\\\\AppData\\\\Local\\\\Programs\\\\Python\\\\Python310\\\\lib', 'c:\\\\Users\\\\devna\\\\AppData\\\\Local\\\\Programs\\\\Python\\\\Python310', '', 'C:\\\\Users\\\\devna\\\\AppData\\\\Roaming\\\\Python\\\\Python310\\\\site-packages', 'C:\\\\Users\\\\devna\\\\AppData\\\\Roaming\\\\Python\\\\Python310\\\\site-packages\\\\win32', 'C:\\\\Users\\\\devna\\\\AppData\\\\Roaming\\\\Python\\\\Python310\\\\site-packages\\\\win32\\\\lib', 'C:\\\\Users\\\\devna\\\\AppData\\\\Roaming\\\\Python\\\\Python310\\\\site-packages\\\\Pythonwin', 'c:\\\\Users\\\\devna\\\\AppData\\\\Local\\\\Programs\\\\Python\\\\Python310\\\\lib\\\\site-packages']\n"
     ]
    }
   ],
   "source": [
    "import sys\n",
    "print(sys.path)"
   ]
  },
  {
   "cell_type": "code",
   "execution_count": 4,
   "metadata": {},
   "outputs": [
    {
     "data": {
      "text/plain": [
       "{'sys': <module 'sys' (built-in)>,\n",
       " 'builtins': <module 'builtins' (built-in)>,\n",
       " '_frozen_importlib': <module '_frozen_importlib' (frozen)>,\n",
       " '_imp': <module '_imp' (built-in)>,\n",
       " '_thread': <module '_thread' (built-in)>,\n",
       " '_warnings': <module '_warnings' (built-in)>,\n",
       " '_weakref': <module '_weakref' (built-in)>,\n",
       " '_io': <module '_io' (built-in)>,\n",
       " 'marshal': <module 'marshal' (built-in)>,\n",
       " 'nt': <module 'nt' (built-in)>,\n",
       " 'winreg': <module 'winreg' (built-in)>,\n",
       " '_frozen_importlib_external': <module '_frozen_importlib_external' (frozen)>,\n",
       " 'time': <module 'time' (built-in)>,\n",
       " 'zipimport': <module 'zipimport' (frozen)>,\n",
       " '_codecs': <module '_codecs' (built-in)>,\n",
       " 'codecs': <module 'codecs' from 'c:\\\\Users\\\\devna\\\\AppData\\\\Local\\\\Programs\\\\Python\\\\Python310\\\\lib\\\\codecs.py'>,\n",
       " 'encodings.aliases': <module 'encodings.aliases' from 'c:\\\\Users\\\\devna\\\\AppData\\\\Local\\\\Programs\\\\Python\\\\Python310\\\\lib\\\\encodings\\\\aliases.py'>,\n",
       " 'encodings': <module 'encodings' from 'c:\\\\Users\\\\devna\\\\AppData\\\\Local\\\\Programs\\\\Python\\\\Python310\\\\lib\\\\encodings\\\\__init__.py'>,\n",
       " 'encodings.utf_8': <module 'encodings.utf_8' from 'c:\\\\Users\\\\devna\\\\AppData\\\\Local\\\\Programs\\\\Python\\\\Python310\\\\lib\\\\encodings\\\\utf_8.py'>,\n",
       " '_signal': <module '_signal' (built-in)>,\n",
       " '_abc': <module '_abc' (built-in)>,\n",
       " 'abc': <module 'abc' from 'c:\\\\Users\\\\devna\\\\AppData\\\\Local\\\\Programs\\\\Python\\\\Python310\\\\lib\\\\abc.py'>,\n",
       " 'io': <module 'io' from 'c:\\\\Users\\\\devna\\\\AppData\\\\Local\\\\Programs\\\\Python\\\\Python310\\\\lib\\\\io.py'>,\n",
       " '__main__': <module '__main__'>,\n",
       " '_stat': <module '_stat' (built-in)>,\n",
       " 'stat': <module 'stat' from 'c:\\\\Users\\\\devna\\\\AppData\\\\Local\\\\Programs\\\\Python\\\\Python310\\\\lib\\\\stat.py'>,\n",
       " '_collections_abc': <module '_collections_abc' from 'c:\\\\Users\\\\devna\\\\AppData\\\\Local\\\\Programs\\\\Python\\\\Python310\\\\lib\\\\_collections_abc.py'>,\n",
       " 'genericpath': <module 'genericpath' from 'c:\\\\Users\\\\devna\\\\AppData\\\\Local\\\\Programs\\\\Python\\\\Python310\\\\lib\\\\genericpath.py'>,\n",
       " 'ntpath': <module 'ntpath' from 'c:\\\\Users\\\\devna\\\\AppData\\\\Local\\\\Programs\\\\Python\\\\Python310\\\\lib\\\\ntpath.py'>,\n",
       " 'os.path': <module 'ntpath' from 'c:\\\\Users\\\\devna\\\\AppData\\\\Local\\\\Programs\\\\Python\\\\Python310\\\\lib\\\\ntpath.py'>,\n",
       " 'os': <module 'os' from 'c:\\\\Users\\\\devna\\\\AppData\\\\Local\\\\Programs\\\\Python\\\\Python310\\\\lib\\\\os.py'>,\n",
       " '_sitebuiltins': <module '_sitebuiltins' from 'c:\\\\Users\\\\devna\\\\AppData\\\\Local\\\\Programs\\\\Python\\\\Python310\\\\lib\\\\_sitebuiltins.py'>,\n",
       " 'encodings.cp1252': <module 'encodings.cp1252' from 'c:\\\\Users\\\\devna\\\\AppData\\\\Local\\\\Programs\\\\Python\\\\Python310\\\\lib\\\\encodings\\\\cp1252.py'>,\n",
       " 'pywin32_system32': <module 'pywin32_system32' (<_frozen_importlib_external._NamespaceLoader object at 0x000002250BB29C30>)>,\n",
       " 'pywin32_bootstrap': <module 'pywin32_bootstrap' from 'C:\\\\Users\\\\devna\\\\AppData\\\\Roaming\\\\Python\\\\Python310\\\\site-packages\\\\win32\\\\lib\\\\pywin32_bootstrap.py'>,\n",
       " 'site': <module 'site' from 'c:\\\\Users\\\\devna\\\\AppData\\\\Local\\\\Programs\\\\Python\\\\Python310\\\\lib\\\\site.py'>,\n",
       " 'importlib._bootstrap': <module '_frozen_importlib' (frozen)>,\n",
       " 'importlib._bootstrap_external': <module '_frozen_importlib_external' (frozen)>,\n",
       " 'warnings': <module 'warnings' from 'c:\\\\Users\\\\devna\\\\AppData\\\\Local\\\\Programs\\\\Python\\\\Python310\\\\lib\\\\warnings.py'>,\n",
       " 'importlib': <module 'importlib' from 'c:\\\\Users\\\\devna\\\\AppData\\\\Local\\\\Programs\\\\Python\\\\Python310\\\\lib\\\\importlib\\\\__init__.py'>,\n",
       " 'importlib.machinery': <module 'importlib.machinery' from 'c:\\\\Users\\\\devna\\\\AppData\\\\Local\\\\Programs\\\\Python\\\\Python310\\\\lib\\\\importlib\\\\machinery.py'>,\n",
       " 'importlib._abc': <module 'importlib._abc' from 'c:\\\\Users\\\\devna\\\\AppData\\\\Local\\\\Programs\\\\Python\\\\Python310\\\\lib\\\\importlib\\\\_abc.py'>,\n",
       " 'itertools': <module 'itertools' (built-in)>,\n",
       " 'keyword': <module 'keyword' from 'c:\\\\Users\\\\devna\\\\AppData\\\\Local\\\\Programs\\\\Python\\\\Python310\\\\lib\\\\keyword.py'>,\n",
       " '_operator': <module '_operator' (built-in)>,\n",
       " 'operator': <module 'operator' from 'c:\\\\Users\\\\devna\\\\AppData\\\\Local\\\\Programs\\\\Python\\\\Python310\\\\lib\\\\operator.py'>,\n",
       " 'reprlib': <module 'reprlib' from 'c:\\\\Users\\\\devna\\\\AppData\\\\Local\\\\Programs\\\\Python\\\\Python310\\\\lib\\\\reprlib.py'>,\n",
       " '_collections': <module '_collections' (built-in)>,\n",
       " 'collections': <module 'collections' from 'c:\\\\Users\\\\devna\\\\AppData\\\\Local\\\\Programs\\\\Python\\\\Python310\\\\lib\\\\collections\\\\__init__.py'>,\n",
       " 'types': <module 'types' from 'c:\\\\Users\\\\devna\\\\AppData\\\\Local\\\\Programs\\\\Python\\\\Python310\\\\lib\\\\types.py'>,\n",
       " '_functools': <module '_functools' (built-in)>,\n",
       " 'functools': <module 'functools' from 'c:\\\\Users\\\\devna\\\\AppData\\\\Local\\\\Programs\\\\Python\\\\Python310\\\\lib\\\\functools.py'>,\n",
       " 'contextlib': <module 'contextlib' from 'c:\\\\Users\\\\devna\\\\AppData\\\\Local\\\\Programs\\\\Python\\\\Python310\\\\lib\\\\contextlib.py'>,\n",
       " 'importlib.util': <module 'importlib.util' from 'c:\\\\Users\\\\devna\\\\AppData\\\\Local\\\\Programs\\\\Python\\\\Python310\\\\lib\\\\importlib\\\\util.py'>,\n",
       " 'runpy': <module 'runpy' from 'c:\\\\Users\\\\devna\\\\AppData\\\\Local\\\\Programs\\\\Python\\\\Python310\\\\lib\\\\runpy.py'>,\n",
       " 'posixpath': <module 'posixpath' from 'c:\\\\Users\\\\devna\\\\AppData\\\\Local\\\\Programs\\\\Python\\\\Python310\\\\lib\\\\posixpath.py'>,\n",
       " 'enum': <module 'enum' from 'c:\\\\Users\\\\devna\\\\AppData\\\\Local\\\\Programs\\\\Python\\\\Python310\\\\lib\\\\enum.py'>,\n",
       " '_sre': <module '_sre' (built-in)>,\n",
       " 'sre_constants': <module 'sre_constants' from 'c:\\\\Users\\\\devna\\\\AppData\\\\Local\\\\Programs\\\\Python\\\\Python310\\\\lib\\\\sre_constants.py'>,\n",
       " 'sre_parse': <module 'sre_parse' from 'c:\\\\Users\\\\devna\\\\AppData\\\\Local\\\\Programs\\\\Python\\\\Python310\\\\lib\\\\sre_parse.py'>,\n",
       " 'sre_compile': <module 'sre_compile' from 'c:\\\\Users\\\\devna\\\\AppData\\\\Local\\\\Programs\\\\Python\\\\Python310\\\\lib\\\\sre_compile.py'>,\n",
       " '_locale': <module '_locale' (built-in)>,\n",
       " 'copyreg': <module 'copyreg' from 'c:\\\\Users\\\\devna\\\\AppData\\\\Local\\\\Programs\\\\Python\\\\Python310\\\\lib\\\\copyreg.py'>,\n",
       " 're': <module 're' from 'c:\\\\Users\\\\devna\\\\AppData\\\\Local\\\\Programs\\\\Python\\\\Python310\\\\lib\\\\re.py'>,\n",
       " 'fnmatch': <module 'fnmatch' from 'c:\\\\Users\\\\devna\\\\AppData\\\\Local\\\\Programs\\\\Python\\\\Python310\\\\lib\\\\fnmatch.py'>,\n",
       " 'errno': <module 'errno' (built-in)>,\n",
       " 'urllib': <module 'urllib' from 'c:\\\\Users\\\\devna\\\\AppData\\\\Local\\\\Programs\\\\Python\\\\Python310\\\\lib\\\\urllib\\\\__init__.py'>,\n",
       " 'urllib.parse': <module 'urllib.parse' from 'c:\\\\Users\\\\devna\\\\AppData\\\\Local\\\\Programs\\\\Python\\\\Python310\\\\lib\\\\urllib\\\\parse.py'>,\n",
       " 'pathlib': <module 'pathlib' from 'c:\\\\Users\\\\devna\\\\AppData\\\\Local\\\\Programs\\\\Python\\\\Python310\\\\lib\\\\pathlib.py'>,\n",
       " 'collections.abc': <module 'collections.abc' from 'c:\\\\Users\\\\devna\\\\AppData\\\\Local\\\\Programs\\\\Python\\\\Python310\\\\lib\\\\collections\\\\abc.py'>,\n",
       " 'typing.io': typing.io,\n",
       " 'typing.re': typing.re,\n",
       " 'typing': <module 'typing' from 'c:\\\\Users\\\\devna\\\\AppData\\\\Local\\\\Programs\\\\Python\\\\Python310\\\\lib\\\\typing.py'>,\n",
       " 'ipykernel._version': <module 'ipykernel._version' from 'C:\\\\Users\\\\devna\\\\AppData\\\\Roaming\\\\Python\\\\Python310\\\\site-packages\\\\ipykernel\\\\_version.py'>,\n",
       " '__future__': <module '__future__' from 'c:\\\\Users\\\\devna\\\\AppData\\\\Local\\\\Programs\\\\Python\\\\Python310\\\\lib\\\\__future__.py'>,\n",
       " '_json': <module '_json' (built-in)>,\n",
       " 'json.scanner': <module 'json.scanner' from 'c:\\\\Users\\\\devna\\\\AppData\\\\Local\\\\Programs\\\\Python\\\\Python310\\\\lib\\\\json\\\\scanner.py'>,\n",
       " 'json.decoder': <module 'json.decoder' from 'c:\\\\Users\\\\devna\\\\AppData\\\\Local\\\\Programs\\\\Python\\\\Python310\\\\lib\\\\json\\\\decoder.py'>,\n",
       " 'json.encoder': <module 'json.encoder' from 'c:\\\\Users\\\\devna\\\\AppData\\\\Local\\\\Programs\\\\Python\\\\Python310\\\\lib\\\\json\\\\encoder.py'>,\n",
       " 'json': <module 'json' from 'c:\\\\Users\\\\devna\\\\AppData\\\\Local\\\\Programs\\\\Python\\\\Python310\\\\lib\\\\json\\\\__init__.py'>,\n",
       " 'signal': <module 'signal' from 'c:\\\\Users\\\\devna\\\\AppData\\\\Local\\\\Programs\\\\Python\\\\Python310\\\\lib\\\\signal.py'>,\n",
       " '_weakrefset': <module '_weakrefset' from 'c:\\\\Users\\\\devna\\\\AppData\\\\Local\\\\Programs\\\\Python\\\\Python310\\\\lib\\\\_weakrefset.py'>,\n",
       " 'threading': <module 'threading' from 'c:\\\\Users\\\\devna\\\\AppData\\\\Local\\\\Programs\\\\Python\\\\Python310\\\\lib\\\\threading.py'>,\n",
       " 'msvcrt': <module 'msvcrt' (built-in)>,\n",
       " '_winapi': <module '_winapi' (built-in)>,\n",
       " 'subprocess': <module 'subprocess' from 'c:\\\\Users\\\\devna\\\\AppData\\\\Local\\\\Programs\\\\Python\\\\Python310\\\\lib\\\\subprocess.py'>,\n",
       " 'jupyter_client._version': <module 'jupyter_client._version' from 'C:\\\\Users\\\\devna\\\\AppData\\\\Roaming\\\\Python\\\\Python310\\\\site-packages\\\\jupyter_client\\\\_version.py'>,\n",
       " 'platform': <module 'platform' from 'c:\\\\Users\\\\devna\\\\AppData\\\\Local\\\\Programs\\\\Python\\\\Python310\\\\lib\\\\platform.py'>,\n",
       " 'zmq.backend.select': <module 'zmq.backend.select' from 'C:\\\\Users\\\\devna\\\\AppData\\\\Roaming\\\\Python\\\\Python310\\\\site-packages\\\\zmq\\\\backend\\\\select.py'>,\n",
       " 'cython_runtime': <module 'cython_runtime'>,\n",
       " '_cython_3_0_11': <module '_cython_3_0_11'>,\n",
       " 'weakref': <module 'weakref' from 'c:\\\\Users\\\\devna\\\\AppData\\\\Local\\\\Programs\\\\Python\\\\Python310\\\\lib\\\\weakref.py'>,\n",
       " 'zmq.constants': <module 'zmq.constants' from 'C:\\\\Users\\\\devna\\\\AppData\\\\Roaming\\\\Python\\\\Python310\\\\site-packages\\\\zmq\\\\constants.py'>,\n",
       " 'zmq.error': <module 'zmq.error' from 'C:\\\\Users\\\\devna\\\\AppData\\\\Roaming\\\\Python\\\\Python310\\\\site-packages\\\\zmq\\\\error.py'>,\n",
       " 'zmq.backend.cython._zmq': <module 'zmq.backend.cython._zmq' from 'C:\\\\Users\\\\devna\\\\AppData\\\\Roaming\\\\Python\\\\Python310\\\\site-packages\\\\zmq\\\\backend\\\\cython\\\\_zmq.cp310-win_amd64.pyd'>,\n",
       " 'zmq.backend.cython': <module 'zmq.backend.cython' from 'C:\\\\Users\\\\devna\\\\AppData\\\\Roaming\\\\Python\\\\Python310\\\\site-packages\\\\zmq\\\\backend\\\\cython\\\\__init__.py'>,\n",
       " 'zmq.backend': <module 'zmq.backend' from 'C:\\\\Users\\\\devna\\\\AppData\\\\Roaming\\\\Python\\\\Python310\\\\site-packages\\\\zmq\\\\backend\\\\__init__.py'>,\n",
       " 'atexit': <module 'atexit' (built-in)>,\n",
       " 'zmq._typing': <module 'zmq._typing' from 'C:\\\\Users\\\\devna\\\\AppData\\\\Roaming\\\\Python\\\\Python310\\\\site-packages\\\\zmq\\\\_typing.py'>,\n",
       " 'zmq.utils': <module 'zmq.utils' from 'C:\\\\Users\\\\devna\\\\AppData\\\\Roaming\\\\Python\\\\Python310\\\\site-packages\\\\zmq\\\\utils\\\\__init__.py'>,\n",
       " 'zmq.utils.interop': <module 'zmq.utils.interop' from 'C:\\\\Users\\\\devna\\\\AppData\\\\Roaming\\\\Python\\\\Python310\\\\site-packages\\\\zmq\\\\utils\\\\interop.py'>,\n",
       " 'zmq.sugar.attrsettr': <module 'zmq.sugar.attrsettr' from 'C:\\\\Users\\\\devna\\\\AppData\\\\Roaming\\\\Python\\\\Python310\\\\site-packages\\\\zmq\\\\sugar\\\\attrsettr.py'>,\n",
       " '_struct': <module '_struct' (built-in)>,\n",
       " 'struct': <module 'struct' from 'c:\\\\Users\\\\devna\\\\AppData\\\\Local\\\\Programs\\\\Python\\\\Python310\\\\lib\\\\struct.py'>,\n",
       " '_compat_pickle': <module '_compat_pickle' from 'c:\\\\Users\\\\devna\\\\AppData\\\\Local\\\\Programs\\\\Python\\\\Python310\\\\lib\\\\_compat_pickle.py'>,\n",
       " '_pickle': <module '_pickle' (built-in)>,\n",
       " 'pickle': <module 'pickle' from 'c:\\\\Users\\\\devna\\\\AppData\\\\Local\\\\Programs\\\\Python\\\\Python310\\\\lib\\\\pickle.py'>,\n",
       " 'math': <module 'math' (built-in)>,\n",
       " '_bisect': <module '_bisect' (built-in)>,\n",
       " 'bisect': <module 'bisect' from 'c:\\\\Users\\\\devna\\\\AppData\\\\Local\\\\Programs\\\\Python\\\\Python310\\\\lib\\\\bisect.py'>,\n",
       " '_random': <module '_random' (built-in)>,\n",
       " '_sha512': <module '_sha512' (built-in)>,\n",
       " 'random': <module 'random' from 'c:\\\\Users\\\\devna\\\\AppData\\\\Local\\\\Programs\\\\Python\\\\Python310\\\\lib\\\\random.py'>,\n",
       " 'zmq.utils.jsonapi': <module 'zmq.utils.jsonapi' from 'C:\\\\Users\\\\devna\\\\AppData\\\\Roaming\\\\Python\\\\Python310\\\\site-packages\\\\zmq\\\\utils\\\\jsonapi.py'>,\n",
       " 'zmq.sugar.poll': <module 'zmq.sugar.poll' from 'C:\\\\Users\\\\devna\\\\AppData\\\\Roaming\\\\Python\\\\Python310\\\\site-packages\\\\zmq\\\\sugar\\\\poll.py'>,\n",
       " 'zmq.sugar.socket': <module 'zmq.sugar.socket' from 'C:\\\\Users\\\\devna\\\\AppData\\\\Roaming\\\\Python\\\\Python310\\\\site-packages\\\\zmq\\\\sugar\\\\socket.py'>,\n",
       " 'zmq.sugar.context': <module 'zmq.sugar.context' from 'C:\\\\Users\\\\devna\\\\AppData\\\\Roaming\\\\Python\\\\Python310\\\\site-packages\\\\zmq\\\\sugar\\\\context.py'>,\n",
       " 'zmq.sugar.frame': <module 'zmq.sugar.frame' from 'C:\\\\Users\\\\devna\\\\AppData\\\\Roaming\\\\Python\\\\Python310\\\\site-packages\\\\zmq\\\\sugar\\\\frame.py'>,\n",
       " 'zmq.sugar.tracker': <module 'zmq.sugar.tracker' from 'C:\\\\Users\\\\devna\\\\AppData\\\\Roaming\\\\Python\\\\Python310\\\\site-packages\\\\zmq\\\\sugar\\\\tracker.py'>,\n",
       " 'zmq.sugar.version': <module 'zmq.sugar.version' from 'C:\\\\Users\\\\devna\\\\AppData\\\\Roaming\\\\Python\\\\Python310\\\\site-packages\\\\zmq\\\\sugar\\\\version.py'>,\n",
       " 'zmq.sugar.stopwatch': <module 'zmq.sugar.stopwatch' from 'C:\\\\Users\\\\devna\\\\AppData\\\\Roaming\\\\Python\\\\Python310\\\\site-packages\\\\zmq\\\\sugar\\\\stopwatch.py'>,\n",
       " 'zmq.sugar': <module 'zmq.sugar' from 'C:\\\\Users\\\\devna\\\\AppData\\\\Roaming\\\\Python\\\\Python310\\\\site-packages\\\\zmq\\\\sugar\\\\__init__.py'>,\n",
       " 'zmq': <module 'zmq' from 'C:\\\\Users\\\\devna\\\\AppData\\\\Roaming\\\\Python\\\\Python310\\\\site-packages\\\\zmq\\\\__init__.py'>,\n",
       " 'concurrent': <module 'concurrent' from 'c:\\\\Users\\\\devna\\\\AppData\\\\Local\\\\Programs\\\\Python\\\\Python310\\\\lib\\\\concurrent\\\\__init__.py'>,\n",
       " 'token': <module 'token' from 'c:\\\\Users\\\\devna\\\\AppData\\\\Local\\\\Programs\\\\Python\\\\Python310\\\\lib\\\\token.py'>,\n",
       " 'tokenize': <module 'tokenize' from 'c:\\\\Users\\\\devna\\\\AppData\\\\Local\\\\Programs\\\\Python\\\\Python310\\\\lib\\\\tokenize.py'>,\n",
       " 'linecache': <module 'linecache' from 'c:\\\\Users\\\\devna\\\\AppData\\\\Local\\\\Programs\\\\Python\\\\Python310\\\\lib\\\\linecache.py'>,\n",
       " 'traceback': <module 'traceback' from 'c:\\\\Users\\\\devna\\\\AppData\\\\Local\\\\Programs\\\\Python\\\\Python310\\\\lib\\\\traceback.py'>,\n",
       " '_string': <module '_string' (built-in)>,\n",
       " 'string': <module 'string' from 'c:\\\\Users\\\\devna\\\\AppData\\\\Local\\\\Programs\\\\Python\\\\Python310\\\\lib\\\\string.py'>,\n",
       " 'logging': <module 'logging' from 'c:\\\\Users\\\\devna\\\\AppData\\\\Local\\\\Programs\\\\Python\\\\Python310\\\\lib\\\\logging\\\\__init__.py'>,\n",
       " 'concurrent.futures._base': <module 'concurrent.futures._base' from 'c:\\\\Users\\\\devna\\\\AppData\\\\Local\\\\Programs\\\\Python\\\\Python310\\\\lib\\\\concurrent\\\\futures\\\\_base.py'>,\n",
       " 'concurrent.futures': <module 'concurrent.futures' from 'c:\\\\Users\\\\devna\\\\AppData\\\\Local\\\\Programs\\\\Python\\\\Python310\\\\lib\\\\concurrent\\\\futures\\\\__init__.py'>,\n",
       " '_heapq': <module '_heapq' (built-in)>,\n",
       " 'heapq': <module 'heapq' from 'c:\\\\Users\\\\devna\\\\AppData\\\\Local\\\\Programs\\\\Python\\\\Python310\\\\lib\\\\heapq.py'>,\n",
       " '_socket': <module '_socket' from 'c:\\\\Users\\\\devna\\\\AppData\\\\Local\\\\Programs\\\\Python\\\\Python310\\\\DLLs\\\\_socket.pyd'>,\n",
       " 'select': <module 'select' from 'c:\\\\Users\\\\devna\\\\AppData\\\\Local\\\\Programs\\\\Python\\\\Python310\\\\DLLs\\\\select.pyd'>,\n",
       " 'selectors': <module 'selectors' from 'c:\\\\Users\\\\devna\\\\AppData\\\\Local\\\\Programs\\\\Python\\\\Python310\\\\lib\\\\selectors.py'>,\n",
       " 'socket': <module 'socket' from 'c:\\\\Users\\\\devna\\\\AppData\\\\Local\\\\Programs\\\\Python\\\\Python310\\\\lib\\\\socket.py'>,\n",
       " '_ssl': <module '_ssl' from 'c:\\\\Users\\\\devna\\\\AppData\\\\Local\\\\Programs\\\\Python\\\\Python310\\\\DLLs\\\\_ssl.pyd'>,\n",
       " 'binascii': <module 'binascii' (built-in)>,\n",
       " 'base64': <module 'base64' from 'c:\\\\Users\\\\devna\\\\AppData\\\\Local\\\\Programs\\\\Python\\\\Python310\\\\lib\\\\base64.py'>,\n",
       " 'ssl': <module 'ssl' from 'c:\\\\Users\\\\devna\\\\AppData\\\\Local\\\\Programs\\\\Python\\\\Python310\\\\lib\\\\ssl.py'>,\n",
       " 'asyncio.constants': <module 'asyncio.constants' from 'c:\\\\Users\\\\devna\\\\AppData\\\\Local\\\\Programs\\\\Python\\\\Python310\\\\lib\\\\asyncio\\\\constants.py'>,\n",
       " '_ast': <module '_ast' (built-in)>,\n",
       " 'ast': <module 'ast' from 'c:\\\\Users\\\\devna\\\\AppData\\\\Local\\\\Programs\\\\Python\\\\Python310\\\\lib\\\\ast.py'>,\n",
       " '_opcode': <module '_opcode' (built-in)>,\n",
       " 'opcode': <module 'opcode' from 'c:\\\\Users\\\\devna\\\\AppData\\\\Local\\\\Programs\\\\Python\\\\Python310\\\\lib\\\\opcode.py'>,\n",
       " 'dis': <module 'dis' from 'c:\\\\Users\\\\devna\\\\AppData\\\\Local\\\\Programs\\\\Python\\\\Python310\\\\lib\\\\dis.py'>,\n",
       " 'inspect': <module 'inspect' from 'c:\\\\Users\\\\devna\\\\AppData\\\\Local\\\\Programs\\\\Python\\\\Python310\\\\lib\\\\inspect.py'>,\n",
       " 'asyncio.format_helpers': <module 'asyncio.format_helpers' from 'c:\\\\Users\\\\devna\\\\AppData\\\\Local\\\\Programs\\\\Python\\\\Python310\\\\lib\\\\asyncio\\\\format_helpers.py'>,\n",
       " 'asyncio.base_futures': <module 'asyncio.base_futures' from 'c:\\\\Users\\\\devna\\\\AppData\\\\Local\\\\Programs\\\\Python\\\\Python310\\\\lib\\\\asyncio\\\\base_futures.py'>,\n",
       " 'asyncio.log': <module 'asyncio.log' from 'c:\\\\Users\\\\devna\\\\AppData\\\\Local\\\\Programs\\\\Python\\\\Python310\\\\lib\\\\asyncio\\\\log.py'>,\n",
       " 'asyncio.coroutines': <module 'asyncio.coroutines' from 'c:\\\\Users\\\\devna\\\\AppData\\\\Local\\\\Programs\\\\Python\\\\Python310\\\\lib\\\\asyncio\\\\coroutines.py'>,\n",
       " '_contextvars': <module '_contextvars' (built-in)>,\n",
       " 'contextvars': <module 'contextvars' from 'c:\\\\Users\\\\devna\\\\AppData\\\\Local\\\\Programs\\\\Python\\\\Python310\\\\lib\\\\contextvars.py'>,\n",
       " 'asyncio.exceptions': <module 'asyncio.exceptions' from 'c:\\\\Users\\\\devna\\\\AppData\\\\Local\\\\Programs\\\\Python\\\\Python310\\\\lib\\\\asyncio\\\\exceptions.py'>,\n",
       " 'asyncio.base_tasks': <module 'asyncio.base_tasks' from 'c:\\\\Users\\\\devna\\\\AppData\\\\Local\\\\Programs\\\\Python\\\\Python310\\\\lib\\\\asyncio\\\\base_tasks.py'>,\n",
       " '_asyncio': <module '_asyncio' from 'c:\\\\Users\\\\devna\\\\AppData\\\\Local\\\\Programs\\\\Python\\\\Python310\\\\DLLs\\\\_asyncio.pyd'>,\n",
       " 'asyncio.events': <module 'asyncio.events' from 'c:\\\\Users\\\\devna\\\\AppData\\\\Local\\\\Programs\\\\Python\\\\Python310\\\\lib\\\\asyncio\\\\events.py'>,\n",
       " 'asyncio.futures': <module 'asyncio.futures' from 'c:\\\\Users\\\\devna\\\\AppData\\\\Local\\\\Programs\\\\Python\\\\Python310\\\\lib\\\\asyncio\\\\futures.py'>,\n",
       " 'asyncio.protocols': <module 'asyncio.protocols' from 'c:\\\\Users\\\\devna\\\\AppData\\\\Local\\\\Programs\\\\Python\\\\Python310\\\\lib\\\\asyncio\\\\protocols.py'>,\n",
       " 'asyncio.transports': <module 'asyncio.transports' from 'c:\\\\Users\\\\devna\\\\AppData\\\\Local\\\\Programs\\\\Python\\\\Python310\\\\lib\\\\asyncio\\\\transports.py'>,\n",
       " 'asyncio.sslproto': <module 'asyncio.sslproto' from 'c:\\\\Users\\\\devna\\\\AppData\\\\Local\\\\Programs\\\\Python\\\\Python310\\\\lib\\\\asyncio\\\\sslproto.py'>,\n",
       " 'asyncio.mixins': <module 'asyncio.mixins' from 'c:\\\\Users\\\\devna\\\\AppData\\\\Local\\\\Programs\\\\Python\\\\Python310\\\\lib\\\\asyncio\\\\mixins.py'>,\n",
       " 'asyncio.tasks': <module 'asyncio.tasks' from 'c:\\\\Users\\\\devna\\\\AppData\\\\Local\\\\Programs\\\\Python\\\\Python310\\\\lib\\\\asyncio\\\\tasks.py'>,\n",
       " 'asyncio.locks': <module 'asyncio.locks' from 'c:\\\\Users\\\\devna\\\\AppData\\\\Local\\\\Programs\\\\Python\\\\Python310\\\\lib\\\\asyncio\\\\locks.py'>,\n",
       " 'asyncio.staggered': <module 'asyncio.staggered' from 'c:\\\\Users\\\\devna\\\\AppData\\\\Local\\\\Programs\\\\Python\\\\Python310\\\\lib\\\\asyncio\\\\staggered.py'>,\n",
       " 'asyncio.trsock': <module 'asyncio.trsock' from 'c:\\\\Users\\\\devna\\\\AppData\\\\Local\\\\Programs\\\\Python\\\\Python310\\\\lib\\\\asyncio\\\\trsock.py'>,\n",
       " 'asyncio.base_events': <module 'asyncio.base_events' from 'c:\\\\Users\\\\devna\\\\AppData\\\\Local\\\\Programs\\\\Python\\\\Python310\\\\lib\\\\asyncio\\\\base_events.py'>,\n",
       " 'asyncio.runners': <module 'asyncio.runners' from 'c:\\\\Users\\\\devna\\\\AppData\\\\Local\\\\Programs\\\\Python\\\\Python310\\\\lib\\\\asyncio\\\\runners.py'>,\n",
       " 'asyncio.queues': <module 'asyncio.queues' from 'c:\\\\Users\\\\devna\\\\AppData\\\\Local\\\\Programs\\\\Python\\\\Python310\\\\lib\\\\asyncio\\\\queues.py'>,\n",
       " 'asyncio.streams': <module 'asyncio.streams' from 'c:\\\\Users\\\\devna\\\\AppData\\\\Local\\\\Programs\\\\Python\\\\Python310\\\\lib\\\\asyncio\\\\streams.py'>,\n",
       " 'asyncio.subprocess': <module 'asyncio.subprocess' from 'c:\\\\Users\\\\devna\\\\AppData\\\\Local\\\\Programs\\\\Python\\\\Python310\\\\lib\\\\asyncio\\\\subprocess.py'>,\n",
       " 'asyncio.threads': <module 'asyncio.threads' from 'c:\\\\Users\\\\devna\\\\AppData\\\\Local\\\\Programs\\\\Python\\\\Python310\\\\lib\\\\asyncio\\\\threads.py'>,\n",
       " '_overlapped': <module '_overlapped' from 'c:\\\\Users\\\\devna\\\\AppData\\\\Local\\\\Programs\\\\Python\\\\Python310\\\\DLLs\\\\_overlapped.pyd'>,\n",
       " 'asyncio.base_subprocess': <module 'asyncio.base_subprocess' from 'c:\\\\Users\\\\devna\\\\AppData\\\\Local\\\\Programs\\\\Python\\\\Python310\\\\lib\\\\asyncio\\\\base_subprocess.py'>,\n",
       " 'asyncio.proactor_events': <module 'asyncio.proactor_events' from 'c:\\\\Users\\\\devna\\\\AppData\\\\Local\\\\Programs\\\\Python\\\\Python310\\\\lib\\\\asyncio\\\\proactor_events.py'>,\n",
       " 'asyncio.selector_events': <module 'asyncio.selector_events' from 'c:\\\\Users\\\\devna\\\\AppData\\\\Local\\\\Programs\\\\Python\\\\Python310\\\\lib\\\\asyncio\\\\selector_events.py'>,\n",
       " 'zlib': <module 'zlib' (built-in)>,\n",
       " '_compression': <module '_compression' from 'c:\\\\Users\\\\devna\\\\AppData\\\\Local\\\\Programs\\\\Python\\\\Python310\\\\lib\\\\_compression.py'>,\n",
       " '_bz2': <module '_bz2' from 'c:\\\\Users\\\\devna\\\\AppData\\\\Local\\\\Programs\\\\Python\\\\Python310\\\\DLLs\\\\_bz2.pyd'>,\n",
       " 'bz2': <module 'bz2' from 'c:\\\\Users\\\\devna\\\\AppData\\\\Local\\\\Programs\\\\Python\\\\Python310\\\\lib\\\\bz2.py'>,\n",
       " '_lzma': <module '_lzma' from 'c:\\\\Users\\\\devna\\\\AppData\\\\Local\\\\Programs\\\\Python\\\\Python310\\\\DLLs\\\\_lzma.pyd'>,\n",
       " 'lzma': <module 'lzma' from 'c:\\\\Users\\\\devna\\\\AppData\\\\Local\\\\Programs\\\\Python\\\\Python310\\\\lib\\\\lzma.py'>,\n",
       " 'shutil': <module 'shutil' from 'c:\\\\Users\\\\devna\\\\AppData\\\\Local\\\\Programs\\\\Python\\\\Python310\\\\lib\\\\shutil.py'>,\n",
       " 'tempfile': <module 'tempfile' from 'c:\\\\Users\\\\devna\\\\AppData\\\\Local\\\\Programs\\\\Python\\\\Python310\\\\lib\\\\tempfile.py'>,\n",
       " 'asyncio.windows_utils': <module 'asyncio.windows_utils' from 'c:\\\\Users\\\\devna\\\\AppData\\\\Local\\\\Programs\\\\Python\\\\Python310\\\\lib\\\\asyncio\\\\windows_utils.py'>,\n",
       " 'asyncio.windows_events': <module 'asyncio.windows_events' from 'c:\\\\Users\\\\devna\\\\AppData\\\\Local\\\\Programs\\\\Python\\\\Python310\\\\lib\\\\asyncio\\\\windows_events.py'>,\n",
       " 'asyncio': <module 'asyncio' from 'c:\\\\Users\\\\devna\\\\AppData\\\\Local\\\\Programs\\\\Python\\\\Python310\\\\lib\\\\asyncio\\\\__init__.py'>,\n",
       " 'zmq._future': <module 'zmq._future' from 'C:\\\\Users\\\\devna\\\\AppData\\\\Roaming\\\\Python\\\\Python310\\\\site-packages\\\\zmq\\\\_future.py'>,\n",
       " 'zmq.asyncio': <module 'zmq.asyncio' from 'C:\\\\Users\\\\devna\\\\AppData\\\\Roaming\\\\Python\\\\Python310\\\\site-packages\\\\zmq\\\\asyncio.py'>,\n",
       " 'traitlets.utils': <module 'traitlets.utils' from 'C:\\\\Users\\\\devna\\\\AppData\\\\Roaming\\\\Python\\\\Python310\\\\site-packages\\\\traitlets\\\\utils\\\\__init__.py'>,\n",
       " 'traitlets.utils.bunch': <module 'traitlets.utils.bunch' from 'C:\\\\Users\\\\devna\\\\AppData\\\\Roaming\\\\Python\\\\Python310\\\\site-packages\\\\traitlets\\\\utils\\\\bunch.py'>,\n",
       " 'traitlets.utils.descriptions': <module 'traitlets.utils.descriptions' from 'C:\\\\Users\\\\devna\\\\AppData\\\\Roaming\\\\Python\\\\Python310\\\\site-packages\\\\traitlets\\\\utils\\\\descriptions.py'>,\n",
       " 'traitlets.utils.getargspec': <module 'traitlets.utils.getargspec' from 'C:\\\\Users\\\\devna\\\\AppData\\\\Roaming\\\\Python\\\\Python310\\\\site-packages\\\\traitlets\\\\utils\\\\getargspec.py'>,\n",
       " 'traitlets.utils.importstring': <module 'traitlets.utils.importstring' from 'C:\\\\Users\\\\devna\\\\AppData\\\\Roaming\\\\Python\\\\Python310\\\\site-packages\\\\traitlets\\\\utils\\\\importstring.py'>,\n",
       " 'traitlets.utils.sentinel': <module 'traitlets.utils.sentinel' from 'C:\\\\Users\\\\devna\\\\AppData\\\\Roaming\\\\Python\\\\Python310\\\\site-packages\\\\traitlets\\\\utils\\\\sentinel.py'>,\n",
       " 'traitlets.utils.warnings': <module 'traitlets.utils.warnings' from 'C:\\\\Users\\\\devna\\\\AppData\\\\Roaming\\\\Python\\\\Python310\\\\site-packages\\\\traitlets\\\\utils\\\\warnings.py'>,\n",
       " 'traitlets.traitlets': <module 'traitlets.traitlets' from 'C:\\\\Users\\\\devna\\\\AppData\\\\Roaming\\\\Python\\\\Python310\\\\site-packages\\\\traitlets\\\\traitlets.py'>,\n",
       " 'traitlets._version': <module 'traitlets._version' from 'C:\\\\Users\\\\devna\\\\AppData\\\\Roaming\\\\Python\\\\Python310\\\\site-packages\\\\traitlets\\\\_version.py'>,\n",
       " 'copy': <module 'copy' from 'c:\\\\Users\\\\devna\\\\AppData\\\\Local\\\\Programs\\\\Python\\\\Python310\\\\lib\\\\copy.py'>,\n",
       " 'traitlets.utils.decorators': <module 'traitlets.utils.decorators' from 'C:\\\\Users\\\\devna\\\\AppData\\\\Roaming\\\\Python\\\\Python310\\\\site-packages\\\\traitlets\\\\utils\\\\decorators.py'>,\n",
       " 'traitlets': <module 'traitlets' from 'C:\\\\Users\\\\devna\\\\AppData\\\\Roaming\\\\Python\\\\Python310\\\\site-packages\\\\traitlets\\\\__init__.py'>,\n",
       " '_queue': <module '_queue' from 'c:\\\\Users\\\\devna\\\\AppData\\\\Local\\\\Programs\\\\Python\\\\Python310\\\\DLLs\\\\_queue.pyd'>,\n",
       " 'queue': <module 'queue' from 'c:\\\\Users\\\\devna\\\\AppData\\\\Local\\\\Programs\\\\Python\\\\Python310\\\\lib\\\\queue.py'>,\n",
       " 'jupyter_core.version': <module 'jupyter_core.version' from 'C:\\\\Users\\\\devna\\\\AppData\\\\Roaming\\\\Python\\\\Python310\\\\site-packages\\\\jupyter_core\\\\version.py'>,\n",
       " 'jupyter_core': <module 'jupyter_core' from 'C:\\\\Users\\\\devna\\\\AppData\\\\Roaming\\\\Python\\\\Python310\\\\site-packages\\\\jupyter_core\\\\__init__.py'>,\n",
       " 'jupyter_core.utils': <module 'jupyter_core.utils' from 'C:\\\\Users\\\\devna\\\\AppData\\\\Roaming\\\\Python\\\\Python310\\\\site-packages\\\\jupyter_core\\\\utils\\\\__init__.py'>,\n",
       " 'jupyter_client.channelsabc': <module 'jupyter_client.channelsabc' from 'C:\\\\Users\\\\devna\\\\AppData\\\\Roaming\\\\Python\\\\Python310\\\\site-packages\\\\jupyter_client\\\\channelsabc.py'>,\n",
       " '_hashlib': <module '_hashlib' from 'c:\\\\Users\\\\devna\\\\AppData\\\\Local\\\\Programs\\\\Python\\\\Python310\\\\DLLs\\\\_hashlib.pyd'>,\n",
       " '_blake2': <module '_blake2' (built-in)>,\n",
       " 'hashlib': <module 'hashlib' from 'c:\\\\Users\\\\devna\\\\AppData\\\\Local\\\\Programs\\\\Python\\\\Python310\\\\lib\\\\hashlib.py'>,\n",
       " 'hmac': <module 'hmac' from 'c:\\\\Users\\\\devna\\\\AppData\\\\Local\\\\Programs\\\\Python\\\\Python310\\\\lib\\\\hmac.py'>,\n",
       " 'dataclasses': <module 'dataclasses' from 'c:\\\\Users\\\\devna\\\\AppData\\\\Local\\\\Programs\\\\Python\\\\Python310\\\\lib\\\\dataclasses.py'>,\n",
       " 'pprint': <module 'pprint' from 'c:\\\\Users\\\\devna\\\\AppData\\\\Local\\\\Programs\\\\Python\\\\Python310\\\\lib\\\\pprint.py'>,\n",
       " '_datetime': <module '_datetime' (built-in)>,\n",
       " 'datetime': <module 'datetime' from 'c:\\\\Users\\\\devna\\\\AppData\\\\Local\\\\Programs\\\\Python\\\\Python310\\\\lib\\\\datetime.py'>,\n",
       " 'tornado': <module 'tornado' from 'C:\\\\Users\\\\devna\\\\AppData\\\\Roaming\\\\Python\\\\Python310\\\\site-packages\\\\tornado\\\\__init__.py'>,\n",
       " 'numbers': <module 'numbers' from 'c:\\\\Users\\\\devna\\\\AppData\\\\Local\\\\Programs\\\\Python\\\\Python310\\\\lib\\\\numbers.py'>,\n",
       " 'logging.handlers': <module 'logging.handlers' from 'c:\\\\Users\\\\devna\\\\AppData\\\\Local\\\\Programs\\\\Python\\\\Python310\\\\lib\\\\logging\\\\handlers.py'>,\n",
       " 'html.entities': <module 'html.entities' from 'c:\\\\Users\\\\devna\\\\AppData\\\\Local\\\\Programs\\\\Python\\\\Python310\\\\lib\\\\html\\\\entities.py'>,\n",
       " 'html': <module 'html' from 'c:\\\\Users\\\\devna\\\\AppData\\\\Local\\\\Programs\\\\Python\\\\Python310\\\\lib\\\\html\\\\__init__.py'>,\n",
       " 'array': <module 'array' (built-in)>,\n",
       " 'tornado.speedups': <module 'tornado.speedups' from 'C:\\\\Users\\\\devna\\\\AppData\\\\Roaming\\\\Python\\\\Python310\\\\site-packages\\\\tornado\\\\speedups.pyd'>,\n",
       " 'tornado.util': <module 'tornado.util' from 'C:\\\\Users\\\\devna\\\\AppData\\\\Roaming\\\\Python\\\\Python310\\\\site-packages\\\\tornado\\\\util.py'>,\n",
       " 'tornado.escape': <module 'tornado.escape' from 'C:\\\\Users\\\\devna\\\\AppData\\\\Roaming\\\\Python\\\\Python310\\\\site-packages\\\\tornado\\\\escape.py'>,\n",
       " 'colorama.ansi': <module 'colorama.ansi' from 'C:\\\\Users\\\\devna\\\\AppData\\\\Roaming\\\\Python\\\\Python310\\\\site-packages\\\\colorama\\\\ansi.py'>,\n",
       " '_ctypes': <module '_ctypes' from 'c:\\\\Users\\\\devna\\\\AppData\\\\Local\\\\Programs\\\\Python\\\\Python310\\\\DLLs\\\\_ctypes.pyd'>,\n",
       " 'ctypes._endian': <module 'ctypes._endian' from 'c:\\\\Users\\\\devna\\\\AppData\\\\Local\\\\Programs\\\\Python\\\\Python310\\\\lib\\\\ctypes\\\\_endian.py'>,\n",
       " 'ctypes': <module 'ctypes' from 'c:\\\\Users\\\\devna\\\\AppData\\\\Local\\\\Programs\\\\Python\\\\Python310\\\\lib\\\\ctypes\\\\__init__.py'>,\n",
       " 'ctypes.wintypes': <module 'ctypes.wintypes' from 'c:\\\\Users\\\\devna\\\\AppData\\\\Local\\\\Programs\\\\Python\\\\Python310\\\\lib\\\\ctypes\\\\wintypes.py'>,\n",
       " 'colorama.win32': <module 'colorama.win32' from 'C:\\\\Users\\\\devna\\\\AppData\\\\Roaming\\\\Python\\\\Python310\\\\site-packages\\\\colorama\\\\win32.py'>,\n",
       " 'colorama.winterm': <module 'colorama.winterm' from 'C:\\\\Users\\\\devna\\\\AppData\\\\Roaming\\\\Python\\\\Python310\\\\site-packages\\\\colorama\\\\winterm.py'>,\n",
       " 'colorama.ansitowin32': <module 'colorama.ansitowin32' from 'C:\\\\Users\\\\devna\\\\AppData\\\\Roaming\\\\Python\\\\Python310\\\\site-packages\\\\colorama\\\\ansitowin32.py'>,\n",
       " 'colorama.initialise': <module 'colorama.initialise' from 'C:\\\\Users\\\\devna\\\\AppData\\\\Roaming\\\\Python\\\\Python310\\\\site-packages\\\\colorama\\\\initialise.py'>,\n",
       " 'colorama': <module 'colorama' from 'C:\\\\Users\\\\devna\\\\AppData\\\\Roaming\\\\Python\\\\Python310\\\\site-packages\\\\colorama\\\\__init__.py'>,\n",
       " 'tornado.log': <module 'tornado.log' from 'C:\\\\Users\\\\devna\\\\AppData\\\\Roaming\\\\Python\\\\Python310\\\\site-packages\\\\tornado\\\\log.py'>,\n",
       " 'tornado.concurrent': <module 'tornado.concurrent' from 'C:\\\\Users\\\\devna\\\\AppData\\\\Roaming\\\\Python\\\\Python310\\\\site-packages\\\\tornado\\\\concurrent.py'>,\n",
       " 'tornado.ioloop': <module 'tornado.ioloop' from 'C:\\\\Users\\\\devna\\\\AppData\\\\Roaming\\\\Python\\\\Python310\\\\site-packages\\\\tornado\\\\ioloop.py'>,\n",
       " 'socketserver': <module 'socketserver' from 'c:\\\\Users\\\\devna\\\\AppData\\\\Local\\\\Programs\\\\Python\\\\Python310\\\\lib\\\\socketserver.py'>,\n",
       " 'logging.config': <module 'logging.config' from 'c:\\\\Users\\\\devna\\\\AppData\\\\Local\\\\Programs\\\\Python\\\\Python310\\\\lib\\\\logging\\\\config.py'>,\n",
       " 'textwrap': <module 'textwrap' from 'c:\\\\Users\\\\devna\\\\AppData\\\\Local\\\\Programs\\\\Python\\\\Python310\\\\lib\\\\textwrap.py'>,\n",
       " 'traitlets.utils.text': <module 'traitlets.utils.text' from 'C:\\\\Users\\\\devna\\\\AppData\\\\Roaming\\\\Python\\\\Python310\\\\site-packages\\\\traitlets\\\\utils\\\\text.py'>,\n",
       " 'gettext': <module 'gettext' from 'c:\\\\Users\\\\devna\\\\AppData\\\\Local\\\\Programs\\\\Python\\\\Python310\\\\lib\\\\gettext.py'>,\n",
       " 'argparse': <module 'argparse' from 'c:\\\\Users\\\\devna\\\\AppData\\\\Local\\\\Programs\\\\Python\\\\Python310\\\\lib\\\\argparse.py'>,\n",
       " 'traitlets.config.loader': <module 'traitlets.config.loader' from 'C:\\\\Users\\\\devna\\\\AppData\\\\Roaming\\\\Python\\\\Python310\\\\site-packages\\\\traitlets\\\\config\\\\loader.py'>,\n",
       " 'traitlets.config.configurable': <module 'traitlets.config.configurable' from 'C:\\\\Users\\\\devna\\\\AppData\\\\Roaming\\\\Python\\\\Python310\\\\site-packages\\\\traitlets\\\\config\\\\configurable.py'>,\n",
       " 'traitlets.utils.nested_update': <module 'traitlets.utils.nested_update' from 'C:\\\\Users\\\\devna\\\\AppData\\\\Roaming\\\\Python\\\\Python310\\\\site-packages\\\\traitlets\\\\utils\\\\nested_update.py'>,\n",
       " 'traitlets.config.application': <module 'traitlets.config.application' from 'C:\\\\Users\\\\devna\\\\AppData\\\\Roaming\\\\Python\\\\Python310\\\\site-packages\\\\traitlets\\\\config\\\\application.py'>,\n",
       " 'traitlets.config': <module 'traitlets.config' from 'C:\\\\Users\\\\devna\\\\AppData\\\\Roaming\\\\Python\\\\Python310\\\\site-packages\\\\traitlets\\\\config\\\\__init__.py'>,\n",
       " 'traitlets.log': <module 'traitlets.log' from 'C:\\\\Users\\\\devna\\\\AppData\\\\Roaming\\\\Python\\\\Python310\\\\site-packages\\\\traitlets\\\\log.py'>,\n",
       " 'zmq.eventloop': <module 'zmq.eventloop' from 'C:\\\\Users\\\\devna\\\\AppData\\\\Roaming\\\\Python\\\\Python310\\\\site-packages\\\\zmq\\\\eventloop\\\\__init__.py'>,\n",
       " 'zmq.eventloop.zmqstream': <module 'zmq.eventloop.zmqstream' from 'C:\\\\Users\\\\devna\\\\AppData\\\\Roaming\\\\Python\\\\Python310\\\\site-packages\\\\zmq\\\\eventloop\\\\zmqstream.py'>,\n",
       " 'jupyter_client.adapter': <module 'jupyter_client.adapter' from 'C:\\\\Users\\\\devna\\\\AppData\\\\Roaming\\\\Python\\\\Python310\\\\site-packages\\\\jupyter_client\\\\adapter.py'>,\n",
       " 'dateutil._version': <module 'dateutil._version' from 'C:\\\\Users\\\\devna\\\\AppData\\\\Roaming\\\\Python\\\\Python310\\\\site-packages\\\\dateutil\\\\_version.py'>,\n",
       " 'dateutil': <module 'dateutil' from 'C:\\\\Users\\\\devna\\\\AppData\\\\Roaming\\\\Python\\\\Python310\\\\site-packages\\\\dateutil\\\\__init__.py'>,\n",
       " 'locale': <module 'locale' from 'c:\\\\Users\\\\devna\\\\AppData\\\\Local\\\\Programs\\\\Python\\\\Python310\\\\lib\\\\locale.py'>,\n",
       " 'calendar': <module 'calendar' from 'c:\\\\Users\\\\devna\\\\AppData\\\\Local\\\\Programs\\\\Python\\\\Python310\\\\lib\\\\calendar.py'>,\n",
       " 'six': <module 'six' from 'C:\\\\Users\\\\devna\\\\AppData\\\\Roaming\\\\Python\\\\Python310\\\\site-packages\\\\six.py'>,\n",
       " '_decimal': <module '_decimal' from 'c:\\\\Users\\\\devna\\\\AppData\\\\Local\\\\Programs\\\\Python\\\\Python310\\\\DLLs\\\\_decimal.pyd'>,\n",
       " 'decimal': <module 'decimal' from 'c:\\\\Users\\\\devna\\\\AppData\\\\Local\\\\Programs\\\\Python\\\\Python310\\\\lib\\\\decimal.py'>,\n",
       " 'dateutil._common': <module 'dateutil._common' from 'C:\\\\Users\\\\devna\\\\AppData\\\\Roaming\\\\Python\\\\Python310\\\\site-packages\\\\dateutil\\\\_common.py'>,\n",
       " 'dateutil.relativedelta': <module 'dateutil.relativedelta' from 'C:\\\\Users\\\\devna\\\\AppData\\\\Roaming\\\\Python\\\\Python310\\\\site-packages\\\\dateutil\\\\relativedelta.py'>,\n",
       " 'six.moves': <module 'six.moves' (<six._SixMetaPathImporter object at 0x000002250E4B25F0>)>,\n",
       " 'dateutil.tz._common': <module 'dateutil.tz._common' from 'C:\\\\Users\\\\devna\\\\AppData\\\\Roaming\\\\Python\\\\Python310\\\\site-packages\\\\dateutil\\\\tz\\\\_common.py'>,\n",
       " 'dateutil.tz._factories': <module 'dateutil.tz._factories' from 'C:\\\\Users\\\\devna\\\\AppData\\\\Roaming\\\\Python\\\\Python310\\\\site-packages\\\\dateutil\\\\tz\\\\_factories.py'>,\n",
       " 'dateutil.tz.win': <module 'dateutil.tz.win' from 'C:\\\\Users\\\\devna\\\\AppData\\\\Roaming\\\\Python\\\\Python310\\\\site-packages\\\\dateutil\\\\tz\\\\win.py'>,\n",
       " 'dateutil.tz.tz': <module 'dateutil.tz.tz' from 'C:\\\\Users\\\\devna\\\\AppData\\\\Roaming\\\\Python\\\\Python310\\\\site-packages\\\\dateutil\\\\tz\\\\tz.py'>,\n",
       " 'dateutil.tz': <module 'dateutil.tz' from 'C:\\\\Users\\\\devna\\\\AppData\\\\Roaming\\\\Python\\\\Python310\\\\site-packages\\\\dateutil\\\\tz\\\\__init__.py'>,\n",
       " 'dateutil.parser._parser': <module 'dateutil.parser._parser' from 'C:\\\\Users\\\\devna\\\\AppData\\\\Roaming\\\\Python\\\\Python310\\\\site-packages\\\\dateutil\\\\parser\\\\_parser.py'>,\n",
       " 'dateutil.parser.isoparser': <module 'dateutil.parser.isoparser' from 'C:\\\\Users\\\\devna\\\\AppData\\\\Roaming\\\\Python\\\\Python310\\\\site-packages\\\\dateutil\\\\parser\\\\isoparser.py'>,\n",
       " 'dateutil.parser': <module 'dateutil.parser' from 'C:\\\\Users\\\\devna\\\\AppData\\\\Roaming\\\\Python\\\\Python310\\\\site-packages\\\\dateutil\\\\parser\\\\__init__.py'>,\n",
       " '_strptime': <module '_strptime' from 'c:\\\\Users\\\\devna\\\\AppData\\\\Local\\\\Programs\\\\Python\\\\Python310\\\\lib\\\\_strptime.py'>,\n",
       " 'jupyter_client.jsonutil': <module 'jupyter_client.jsonutil' from 'C:\\\\Users\\\\devna\\\\AppData\\\\Roaming\\\\Python\\\\Python310\\\\site-packages\\\\jupyter_client\\\\jsonutil.py'>,\n",
       " 'jupyter_client.session': <module 'jupyter_client.session' from 'C:\\\\Users\\\\devna\\\\AppData\\\\Roaming\\\\Python\\\\Python310\\\\site-packages\\\\jupyter_client\\\\session.py'>,\n",
       " 'jupyter_client.channels': <module 'jupyter_client.channels' from 'C:\\\\Users\\\\devna\\\\AppData\\\\Roaming\\\\Python\\\\Python310\\\\site-packages\\\\jupyter_client\\\\channels.py'>,\n",
       " 'getpass': <module 'getpass' from 'c:\\\\Users\\\\devna\\\\AppData\\\\Local\\\\Programs\\\\Python\\\\Python310\\\\lib\\\\getpass.py'>,\n",
       " 'jupyter_client.clientabc': <module 'jupyter_client.clientabc' from 'C:\\\\Users\\\\devna\\\\AppData\\\\Roaming\\\\Python\\\\Python310\\\\site-packages\\\\jupyter_client\\\\clientabc.py'>,\n",
       " 'glob': <module 'glob' from 'c:\\\\Users\\\\devna\\\\AppData\\\\Local\\\\Programs\\\\Python\\\\Python310\\\\lib\\\\glob.py'>,\n",
       " 'platformdirs.api': <module 'platformdirs.api' from 'C:\\\\Users\\\\devna\\\\AppData\\\\Roaming\\\\Python\\\\Python310\\\\site-packages\\\\platformdirs\\\\api.py'>,\n",
       " 'platformdirs.version': <module 'platformdirs.version' from 'C:\\\\Users\\\\devna\\\\AppData\\\\Roaming\\\\Python\\\\Python310\\\\site-packages\\\\platformdirs\\\\version.py'>,\n",
       " 'platformdirs.windows': <module 'platformdirs.windows' from 'C:\\\\Users\\\\devna\\\\AppData\\\\Roaming\\\\Python\\\\Python310\\\\site-packages\\\\platformdirs\\\\windows.py'>,\n",
       " 'platformdirs': <module 'platformdirs' from 'C:\\\\Users\\\\devna\\\\AppData\\\\Roaming\\\\Python\\\\Python310\\\\site-packages\\\\platformdirs\\\\__init__.py'>,\n",
       " 'jupyter_core.paths': <module 'jupyter_core.paths' from 'C:\\\\Users\\\\devna\\\\AppData\\\\Roaming\\\\Python\\\\Python310\\\\site-packages\\\\jupyter_core\\\\paths.py'>,\n",
       " 'jupyter_client.localinterfaces': <module 'jupyter_client.localinterfaces' from 'C:\\\\Users\\\\devna\\\\AppData\\\\Roaming\\\\Python\\\\Python310\\\\site-packages\\\\jupyter_client\\\\localinterfaces.py'>,\n",
       " 'jupyter_client.utils': <module 'jupyter_client.utils' from 'C:\\\\Users\\\\devna\\\\AppData\\\\Roaming\\\\Python\\\\Python310\\\\site-packages\\\\jupyter_client\\\\utils.py'>,\n",
       " 'jupyter_client.connect': <module 'jupyter_client.connect' from 'C:\\\\Users\\\\devna\\\\AppData\\\\Roaming\\\\Python\\\\Python310\\\\site-packages\\\\jupyter_client\\\\connect.py'>,\n",
       " 'jupyter_client.client': <module 'jupyter_client.client' from 'C:\\\\Users\\\\devna\\\\AppData\\\\Roaming\\\\Python\\\\Python310\\\\site-packages\\\\jupyter_client\\\\client.py'>,\n",
       " 'jupyter_client.asynchronous.client': <module 'jupyter_client.asynchronous.client' from 'C:\\\\Users\\\\devna\\\\AppData\\\\Roaming\\\\Python\\\\Python310\\\\site-packages\\\\jupyter_client\\\\asynchronous\\\\client.py'>,\n",
       " 'jupyter_client.asynchronous': <module 'jupyter_client.asynchronous' from 'C:\\\\Users\\\\devna\\\\AppData\\\\Roaming\\\\Python\\\\Python310\\\\site-packages\\\\jupyter_client\\\\asynchronous\\\\__init__.py'>,\n",
       " 'jupyter_client.blocking.client': <module 'jupyter_client.blocking.client' from 'C:\\\\Users\\\\devna\\\\AppData\\\\Roaming\\\\Python\\\\Python310\\\\site-packages\\\\jupyter_client\\\\blocking\\\\client.py'>,\n",
       " 'jupyter_client.blocking': <module 'jupyter_client.blocking' from 'C:\\\\Users\\\\devna\\\\AppData\\\\Roaming\\\\Python\\\\Python310\\\\site-packages\\\\jupyter_client\\\\blocking\\\\__init__.py'>,\n",
       " 'jupyter_client.launcher': <module 'jupyter_client.launcher' from 'C:\\\\Users\\\\devna\\\\AppData\\\\Roaming\\\\Python\\\\Python310\\\\site-packages\\\\jupyter_client\\\\launcher.py'>,\n",
       " '_uuid': <module '_uuid' from 'c:\\\\Users\\\\devna\\\\AppData\\\\Local\\\\Programs\\\\Python\\\\Python310\\\\DLLs\\\\_uuid.pyd'>,\n",
       " 'uuid': <module 'uuid' from 'c:\\\\Users\\\\devna\\\\AppData\\\\Local\\\\Programs\\\\Python\\\\Python310\\\\lib\\\\uuid.py'>,\n",
       " '_csv': <module '_csv' (built-in)>,\n",
       " 'csv': <module 'csv' from 'c:\\\\Users\\\\devna\\\\AppData\\\\Local\\\\Programs\\\\Python\\\\Python310\\\\lib\\\\csv.py'>,\n",
       " 'email': <module 'email' from 'c:\\\\Users\\\\devna\\\\AppData\\\\Local\\\\Programs\\\\Python\\\\Python310\\\\lib\\\\email\\\\__init__.py'>,\n",
       " 'zipfile': <module 'zipfile' from 'c:\\\\Users\\\\devna\\\\AppData\\\\Local\\\\Programs\\\\Python\\\\Python310\\\\lib\\\\zipfile.py'>,\n",
       " 'uu': <module 'uu' from 'c:\\\\Users\\\\devna\\\\AppData\\\\Local\\\\Programs\\\\Python\\\\Python310\\\\lib\\\\uu.py'>,\n",
       " 'quopri': <module 'quopri' from 'c:\\\\Users\\\\devna\\\\AppData\\\\Local\\\\Programs\\\\Python\\\\Python310\\\\lib\\\\quopri.py'>,\n",
       " 'email._parseaddr': <module 'email._parseaddr' from 'c:\\\\Users\\\\devna\\\\AppData\\\\Local\\\\Programs\\\\Python\\\\Python310\\\\lib\\\\email\\\\_parseaddr.py'>,\n",
       " 'email.base64mime': <module 'email.base64mime' from 'c:\\\\Users\\\\devna\\\\AppData\\\\Local\\\\Programs\\\\Python\\\\Python310\\\\lib\\\\email\\\\base64mime.py'>,\n",
       " 'email.quoprimime': <module 'email.quoprimime' from 'c:\\\\Users\\\\devna\\\\AppData\\\\Local\\\\Programs\\\\Python\\\\Python310\\\\lib\\\\email\\\\quoprimime.py'>,\n",
       " 'email.errors': <module 'email.errors' from 'c:\\\\Users\\\\devna\\\\AppData\\\\Local\\\\Programs\\\\Python\\\\Python310\\\\lib\\\\email\\\\errors.py'>,\n",
       " 'email.encoders': <module 'email.encoders' from 'c:\\\\Users\\\\devna\\\\AppData\\\\Local\\\\Programs\\\\Python\\\\Python310\\\\lib\\\\email\\\\encoders.py'>,\n",
       " 'email.charset': <module 'email.charset' from 'c:\\\\Users\\\\devna\\\\AppData\\\\Local\\\\Programs\\\\Python\\\\Python310\\\\lib\\\\email\\\\charset.py'>,\n",
       " 'email.utils': <module 'email.utils' from 'c:\\\\Users\\\\devna\\\\AppData\\\\Local\\\\Programs\\\\Python\\\\Python310\\\\lib\\\\email\\\\utils.py'>,\n",
       " 'email.header': <module 'email.header' from 'c:\\\\Users\\\\devna\\\\AppData\\\\Local\\\\Programs\\\\Python\\\\Python310\\\\lib\\\\email\\\\header.py'>,\n",
       " 'email._policybase': <module 'email._policybase' from 'c:\\\\Users\\\\devna\\\\AppData\\\\Local\\\\Programs\\\\Python\\\\Python310\\\\lib\\\\email\\\\_policybase.py'>,\n",
       " 'email._encoded_words': <module 'email._encoded_words' from 'c:\\\\Users\\\\devna\\\\AppData\\\\Local\\\\Programs\\\\Python\\\\Python310\\\\lib\\\\email\\\\_encoded_words.py'>,\n",
       " 'email.iterators': <module 'email.iterators' from 'c:\\\\Users\\\\devna\\\\AppData\\\\Local\\\\Programs\\\\Python\\\\Python310\\\\lib\\\\email\\\\iterators.py'>,\n",
       " 'email.message': <module 'email.message' from 'c:\\\\Users\\\\devna\\\\AppData\\\\Local\\\\Programs\\\\Python\\\\Python310\\\\lib\\\\email\\\\message.py'>,\n",
       " 'importlib.metadata._functools': <module 'importlib.metadata._functools' from 'c:\\\\Users\\\\devna\\\\AppData\\\\Local\\\\Programs\\\\Python\\\\Python310\\\\lib\\\\importlib\\\\metadata\\\\_functools.py'>,\n",
       " 'importlib.metadata._text': <module 'importlib.metadata._text' from 'c:\\\\Users\\\\devna\\\\AppData\\\\Local\\\\Programs\\\\Python\\\\Python310\\\\lib\\\\importlib\\\\metadata\\\\_text.py'>,\n",
       " 'importlib.metadata._adapters': <module 'importlib.metadata._adapters' from 'c:\\\\Users\\\\devna\\\\AppData\\\\Local\\\\Programs\\\\Python\\\\Python310\\\\lib\\\\importlib\\\\metadata\\\\_adapters.py'>,\n",
       " 'importlib.metadata._meta': <module 'importlib.metadata._meta' from 'c:\\\\Users\\\\devna\\\\AppData\\\\Local\\\\Programs\\\\Python\\\\Python310\\\\lib\\\\importlib\\\\metadata\\\\_meta.py'>,\n",
       " 'importlib.metadata._collections': <module 'importlib.metadata._collections' from 'c:\\\\Users\\\\devna\\\\AppData\\\\Local\\\\Programs\\\\Python\\\\Python310\\\\lib\\\\importlib\\\\metadata\\\\_collections.py'>,\n",
       " 'importlib.metadata._itertools': <module 'importlib.metadata._itertools' from 'c:\\\\Users\\\\devna\\\\AppData\\\\Local\\\\Programs\\\\Python\\\\Python310\\\\lib\\\\importlib\\\\metadata\\\\_itertools.py'>,\n",
       " 'importlib.abc': <module 'importlib.abc' from 'c:\\\\Users\\\\devna\\\\AppData\\\\Local\\\\Programs\\\\Python\\\\Python310\\\\lib\\\\importlib\\\\abc.py'>,\n",
       " 'importlib.metadata': <module 'importlib.metadata' from 'c:\\\\Users\\\\devna\\\\AppData\\\\Local\\\\Programs\\\\Python\\\\Python310\\\\lib\\\\importlib\\\\metadata\\\\__init__.py'>,\n",
       " 'jupyter_client.provisioning.provisioner_base': <module 'jupyter_client.provisioning.provisioner_base' from 'C:\\\\Users\\\\devna\\\\AppData\\\\Roaming\\\\Python\\\\Python310\\\\site-packages\\\\jupyter_client\\\\provisioning\\\\provisioner_base.py'>,\n",
       " 'jupyter_client.provisioning.factory': <module 'jupyter_client.provisioning.factory' from 'C:\\\\Users\\\\devna\\\\AppData\\\\Roaming\\\\Python\\\\Python310\\\\site-packages\\\\jupyter_client\\\\provisioning\\\\factory.py'>,\n",
       " 'jupyter_client.provisioning.local_provisioner': <module 'jupyter_client.provisioning.local_provisioner' from 'C:\\\\Users\\\\devna\\\\AppData\\\\Roaming\\\\Python\\\\Python310\\\\site-packages\\\\jupyter_client\\\\provisioning\\\\local_provisioner.py'>,\n",
       " 'jupyter_client.provisioning': <module 'jupyter_client.provisioning' from 'C:\\\\Users\\\\devna\\\\AppData\\\\Roaming\\\\Python\\\\Python310\\\\site-packages\\\\jupyter_client\\\\provisioning\\\\__init__.py'>,\n",
       " 'jupyter_client.kernelspec': <module 'jupyter_client.kernelspec' from 'C:\\\\Users\\\\devna\\\\AppData\\\\Roaming\\\\Python\\\\Python310\\\\site-packages\\\\jupyter_client\\\\kernelspec.py'>,\n",
       " 'jupyter_client.managerabc': <module 'jupyter_client.managerabc' from 'C:\\\\Users\\\\devna\\\\AppData\\\\Roaming\\\\Python\\\\Python310\\\\site-packages\\\\jupyter_client\\\\managerabc.py'>,\n",
       " 'jupyter_client.manager': <module 'jupyter_client.manager' from 'C:\\\\Users\\\\devna\\\\AppData\\\\Roaming\\\\Python\\\\Python310\\\\site-packages\\\\jupyter_client\\\\manager.py'>,\n",
       " 'jupyter_client.multikernelmanager': <module 'jupyter_client.multikernelmanager' from 'C:\\\\Users\\\\devna\\\\AppData\\\\Roaming\\\\Python\\\\Python310\\\\site-packages\\\\jupyter_client\\\\multikernelmanager.py'>,\n",
       " 'jupyter_client': <module 'jupyter_client' from 'C:\\\\Users\\\\devna\\\\AppData\\\\Roaming\\\\Python\\\\Python310\\\\site-packages\\\\jupyter_client\\\\__init__.py'>,\n",
       " 'ipykernel.connect': <module 'ipykernel.connect' from 'C:\\\\Users\\\\devna\\\\AppData\\\\Roaming\\\\Python\\\\Python310\\\\site-packages\\\\ipykernel\\\\connect.py'>,\n",
       " 'ipykernel': <module 'ipykernel' from 'C:\\\\Users\\\\devna\\\\AppData\\\\Roaming\\\\Python\\\\Python310\\\\site-packages\\\\ipykernel\\\\__init__.py'>,\n",
       " 'IPython.core': <module 'IPython.core' from 'C:\\\\Users\\\\devna\\\\AppData\\\\Roaming\\\\Python\\\\Python310\\\\site-packages\\\\IPython\\\\core\\\\__init__.py'>,\n",
       " 'IPython.core.getipython': <module 'IPython.core.getipython' from 'C:\\\\Users\\\\devna\\\\AppData\\\\Roaming\\\\Python\\\\Python310\\\\site-packages\\\\IPython\\\\core\\\\getipython.py'>,\n",
       " 'IPython.core.release': <module 'IPython.core.release' from 'C:\\\\Users\\\\devna\\\\AppData\\\\Roaming\\\\Python\\\\Python310\\\\site-packages\\\\IPython\\\\core\\\\release.py'>,\n",
       " 'pkgutil': <module 'pkgutil' from 'c:\\\\Users\\\\devna\\\\AppData\\\\Local\\\\Programs\\\\Python\\\\Python310\\\\lib\\\\pkgutil.py'>,\n",
       " 'sysconfig': <module 'sysconfig' from 'c:\\\\Users\\\\devna\\\\AppData\\\\Local\\\\Programs\\\\Python\\\\Python310\\\\lib\\\\sysconfig.py'>,\n",
       " 'pydoc': <module 'pydoc' from 'c:\\\\Users\\\\devna\\\\AppData\\\\Local\\\\Programs\\\\Python\\\\Python310\\\\lib\\\\pydoc.py'>,\n",
       " 'executing.executing': <module 'executing.executing' from 'C:\\\\Users\\\\devna\\\\AppData\\\\Roaming\\\\Python\\\\Python310\\\\site-packages\\\\executing\\\\executing.py'>,\n",
       " 'executing.version': <module 'executing.version' from 'C:\\\\Users\\\\devna\\\\AppData\\\\Roaming\\\\Python\\\\Python310\\\\site-packages\\\\executing\\\\version.py'>,\n",
       " 'executing': <module 'executing' from 'C:\\\\Users\\\\devna\\\\AppData\\\\Roaming\\\\Python\\\\Python310\\\\site-packages\\\\executing\\\\__init__.py'>,\n",
       " 'asttokens.line_numbers': <module 'asttokens.line_numbers' from 'C:\\\\Users\\\\devna\\\\AppData\\\\Roaming\\\\Python\\\\Python310\\\\site-packages\\\\asttokens\\\\line_numbers.py'>,\n",
       " 'asttokens.util': <module 'asttokens.util' from 'C:\\\\Users\\\\devna\\\\AppData\\\\Roaming\\\\Python\\\\Python310\\\\site-packages\\\\asttokens\\\\util.py'>,\n",
       " 'asttokens.asttokens': <module 'asttokens.asttokens' from 'C:\\\\Users\\\\devna\\\\AppData\\\\Roaming\\\\Python\\\\Python310\\\\site-packages\\\\asttokens\\\\asttokens.py'>,\n",
       " 'asttokens': <module 'asttokens' from 'C:\\\\Users\\\\devna\\\\AppData\\\\Roaming\\\\Python\\\\Python310\\\\site-packages\\\\asttokens\\\\__init__.py'>,\n",
       " 'fractions': <module 'fractions' from 'c:\\\\Users\\\\devna\\\\AppData\\\\Local\\\\Programs\\\\Python\\\\Python310\\\\lib\\\\fractions.py'>,\n",
       " 'pure_eval.utils': <module 'pure_eval.utils' from 'C:\\\\Users\\\\devna\\\\AppData\\\\Roaming\\\\Python\\\\Python310\\\\site-packages\\\\pure_eval\\\\utils.py'>,\n",
       " 'pure_eval.my_getattr_static': <module 'pure_eval.my_getattr_static' from 'C:\\\\Users\\\\devna\\\\AppData\\\\Roaming\\\\Python\\\\Python310\\\\site-packages\\\\pure_eval\\\\my_getattr_static.py'>,\n",
       " 'pure_eval.core': <module 'pure_eval.core' from 'C:\\\\Users\\\\devna\\\\AppData\\\\Roaming\\\\Python\\\\Python310\\\\site-packages\\\\pure_eval\\\\core.py'>,\n",
       " 'pure_eval.version': <module 'pure_eval.version' from 'C:\\\\Users\\\\devna\\\\AppData\\\\Roaming\\\\Python\\\\Python310\\\\site-packages\\\\pure_eval\\\\version.py'>,\n",
       " 'pure_eval': <module 'pure_eval' from 'C:\\\\Users\\\\devna\\\\AppData\\\\Roaming\\\\Python\\\\Python310\\\\site-packages\\\\pure_eval\\\\__init__.py'>,\n",
       " 'stack_data.utils': <module 'stack_data.utils' from 'C:\\\\Users\\\\devna\\\\AppData\\\\Roaming\\\\Python\\\\Python310\\\\site-packages\\\\stack_data\\\\utils.py'>,\n",
       " 'stack_data.core': <module 'stack_data.core' from 'C:\\\\Users\\\\devna\\\\AppData\\\\Roaming\\\\Python\\\\Python310\\\\site-packages\\\\stack_data\\\\core.py'>,\n",
       " 'stack_data.formatting': <module 'stack_data.formatting' from 'C:\\\\Users\\\\devna\\\\AppData\\\\Roaming\\\\Python\\\\Python310\\\\site-packages\\\\stack_data\\\\formatting.py'>,\n",
       " 'stack_data.serializing': <module 'stack_data.serializing' from 'C:\\\\Users\\\\devna\\\\AppData\\\\Roaming\\\\Python\\\\Python310\\\\site-packages\\\\stack_data\\\\serializing.py'>,\n",
       " 'stack_data.version': <module 'stack_data.version' from 'C:\\\\Users\\\\devna\\\\AppData\\\\Roaming\\\\Python\\\\Python310\\\\site-packages\\\\stack_data\\\\version.py'>,\n",
       " 'stack_data': <module 'stack_data' from 'C:\\\\Users\\\\devna\\\\AppData\\\\Roaming\\\\Python\\\\Python310\\\\site-packages\\\\stack_data\\\\__init__.py'>,\n",
       " 'pygments': <module 'pygments' from 'C:\\\\Users\\\\devna\\\\AppData\\\\Roaming\\\\Python\\\\Python310\\\\site-packages\\\\pygments\\\\__init__.py'>,\n",
       " 'pygments.formatters._mapping': <module 'pygments.formatters._mapping' from 'C:\\\\Users\\\\devna\\\\AppData\\\\Roaming\\\\Python\\\\Python310\\\\site-packages\\\\pygments\\\\formatters\\\\_mapping.py'>,\n",
       " 'pygments.plugin': <module 'pygments.plugin' from 'C:\\\\Users\\\\devna\\\\AppData\\\\Roaming\\\\Python\\\\Python310\\\\site-packages\\\\pygments\\\\plugin.py'>,\n",
       " 'pygments.util': <module 'pygments.util' from 'C:\\\\Users\\\\devna\\\\AppData\\\\Roaming\\\\Python\\\\Python310\\\\site-packages\\\\pygments\\\\util.py'>,\n",
       " 'pygments.formatters': <module 'pygments.formatters' from 'C:\\\\Users\\\\devna\\\\AppData\\\\Roaming\\\\Python\\\\Python310\\\\site-packages\\\\pygments\\\\formatters\\\\__init__.py'>,\n",
       " 'pygments.styles._mapping': <module 'pygments.styles._mapping' from 'C:\\\\Users\\\\devna\\\\AppData\\\\Roaming\\\\Python\\\\Python310\\\\site-packages\\\\pygments\\\\styles\\\\_mapping.py'>,\n",
       " 'pygments.styles': <module 'pygments.styles' from 'C:\\\\Users\\\\devna\\\\AppData\\\\Roaming\\\\Python\\\\Python310\\\\site-packages\\\\pygments\\\\styles\\\\__init__.py'>,\n",
       " 'pygments.formatter': <module 'pygments.formatter' from 'C:\\\\Users\\\\devna\\\\AppData\\\\Roaming\\\\Python\\\\Python310\\\\site-packages\\\\pygments\\\\formatter.py'>,\n",
       " 'pygments.console': <module 'pygments.console' from 'C:\\\\Users\\\\devna\\\\AppData\\\\Roaming\\\\Python\\\\Python310\\\\site-packages\\\\pygments\\\\console.py'>,\n",
       " 'pygments.token': <module 'pygments.token' from 'C:\\\\Users\\\\devna\\\\AppData\\\\Roaming\\\\Python\\\\Python310\\\\site-packages\\\\pygments\\\\token.py'>,\n",
       " 'pygments.style': <module 'pygments.style' from 'C:\\\\Users\\\\devna\\\\AppData\\\\Roaming\\\\Python\\\\Python310\\\\site-packages\\\\pygments\\\\style.py'>,\n",
       " 'pygments.formatters.terminal256': <module 'pygments.formatters.terminal256' from 'C:\\\\Users\\\\devna\\\\AppData\\\\Roaming\\\\Python\\\\Python310\\\\site-packages\\\\pygments\\\\formatters\\\\terminal256.py'>,\n",
       " 'IPython.utils': <module 'IPython.utils' from 'C:\\\\Users\\\\devna\\\\AppData\\\\Roaming\\\\Python\\\\Python310\\\\site-packages\\\\IPython\\\\utils\\\\__init__.py'>,\n",
       " 'IPython.utils.colorable': <module 'IPython.utils.colorable' from 'C:\\\\Users\\\\devna\\\\AppData\\\\Roaming\\\\Python\\\\Python310\\\\site-packages\\\\IPython\\\\utils\\\\colorable.py'>,\n",
       " 'IPython.utils.ipstruct': <module 'IPython.utils.ipstruct' from 'C:\\\\Users\\\\devna\\\\AppData\\\\Roaming\\\\Python\\\\Python310\\\\site-packages\\\\IPython\\\\utils\\\\ipstruct.py'>,\n",
       " 'IPython.utils.coloransi': <module 'IPython.utils.coloransi' from 'C:\\\\Users\\\\devna\\\\AppData\\\\Roaming\\\\Python\\\\Python310\\\\site-packages\\\\IPython\\\\utils\\\\coloransi.py'>,\n",
       " 'IPython.core.excolors': <module 'IPython.core.excolors' from 'C:\\\\Users\\\\devna\\\\AppData\\\\Roaming\\\\Python\\\\Python310\\\\site-packages\\\\IPython\\\\core\\\\excolors.py'>,\n",
       " 'IPython.utils.PyColorize': <module 'IPython.utils.PyColorize' from 'C:\\\\Users\\\\devna\\\\AppData\\\\Roaming\\\\Python\\\\Python310\\\\site-packages\\\\IPython\\\\utils\\\\PyColorize.py'>,\n",
       " 'IPython.utils.encoding': <module 'IPython.utils.encoding' from 'C:\\\\Users\\\\devna\\\\AppData\\\\Roaming\\\\Python\\\\Python310\\\\site-packages\\\\IPython\\\\utils\\\\encoding.py'>,\n",
       " 'IPython.utils.py3compat': <module 'IPython.utils.py3compat' from 'C:\\\\Users\\\\devna\\\\AppData\\\\Roaming\\\\Python\\\\Python310\\\\site-packages\\\\IPython\\\\utils\\\\py3compat.py'>,\n",
       " 'cmd': <module 'cmd' from 'c:\\\\Users\\\\devna\\\\AppData\\\\Local\\\\Programs\\\\Python\\\\Python310\\\\lib\\\\cmd.py'>,\n",
       " 'bdb': <module 'bdb' from 'c:\\\\Users\\\\devna\\\\AppData\\\\Local\\\\Programs\\\\Python\\\\Python310\\\\lib\\\\bdb.py'>,\n",
       " 'codeop': <module 'codeop' from 'c:\\\\Users\\\\devna\\\\AppData\\\\Local\\\\Programs\\\\Python\\\\Python310\\\\lib\\\\codeop.py'>,\n",
       " 'code': <module 'code' from 'c:\\\\Users\\\\devna\\\\AppData\\\\Local\\\\Programs\\\\Python\\\\Python310\\\\lib\\\\code.py'>,\n",
       " 'pdb': <module 'pdb' from 'c:\\\\Users\\\\devna\\\\AppData\\\\Local\\\\Programs\\\\Python\\\\Python310\\\\lib\\\\pdb.py'>,\n",
       " 'IPython.core.debugger': <module 'IPython.core.debugger' from 'C:\\\\Users\\\\devna\\\\AppData\\\\Roaming\\\\Python\\\\Python310\\\\site-packages\\\\IPython\\\\core\\\\debugger.py'>,\n",
       " 'IPython.core.display_trap': <module 'IPython.core.display_trap' from 'C:\\\\Users\\\\devna\\\\AppData\\\\Roaming\\\\Python\\\\Python310\\\\site-packages\\\\IPython\\\\core\\\\display_trap.py'>,\n",
       " 'shlex': <module 'shlex' from 'c:\\\\Users\\\\devna\\\\AppData\\\\Local\\\\Programs\\\\Python\\\\Python310\\\\lib\\\\shlex.py'>,\n",
       " 'IPython.utils._process_common': <module 'IPython.utils._process_common' from 'C:\\\\Users\\\\devna\\\\AppData\\\\Roaming\\\\Python\\\\Python310\\\\site-packages\\\\IPython\\\\utils\\\\_process_common.py'>,\n",
       " 'IPython.utils._process_win32': <module 'IPython.utils._process_win32' from 'C:\\\\Users\\\\devna\\\\AppData\\\\Roaming\\\\Python\\\\Python310\\\\site-packages\\\\IPython\\\\utils\\\\_process_win32.py'>,\n",
       " 'IPython.utils.process': <module 'IPython.utils.process' from 'C:\\\\Users\\\\devna\\\\AppData\\\\Roaming\\\\Python\\\\Python310\\\\site-packages\\\\IPython\\\\utils\\\\process.py'>,\n",
       " 'IPython.utils.path': <module 'IPython.utils.path' from 'C:\\\\Users\\\\devna\\\\AppData\\\\Roaming\\\\Python\\\\Python310\\\\site-packages\\\\IPython\\\\utils\\\\path.py'>,\n",
       " 'IPython.utils.terminal': <module 'IPython.utils.terminal' from 'C:\\\\Users\\\\devna\\\\AppData\\\\Roaming\\\\Python\\\\Python310\\\\site-packages\\\\IPython\\\\utils\\\\terminal.py'>,\n",
       " 'IPython.core.ultratb': <module 'IPython.core.ultratb' from 'C:\\\\Users\\\\devna\\\\AppData\\\\Roaming\\\\Python\\\\Python310\\\\site-packages\\\\IPython\\\\core\\\\ultratb.py'>,\n",
       " 'IPython.utils._sysinfo': <module 'IPython.utils._sysinfo' from 'C:\\\\Users\\\\devna\\\\AppData\\\\Roaming\\\\Python\\\\Python310\\\\site-packages\\\\IPython\\\\utils\\\\_sysinfo.py'>,\n",
       " 'IPython.utils.sysinfo': <module 'IPython.utils.sysinfo' from 'C:\\\\Users\\\\devna\\\\AppData\\\\Roaming\\\\Python\\\\Python310\\\\site-packages\\\\IPython\\\\utils\\\\sysinfo.py'>,\n",
       " 'IPython.core.crashhandler': <module 'IPython.core.crashhandler' from 'C:\\\\Users\\\\devna\\\\AppData\\\\Roaming\\\\Python\\\\Python310\\\\site-packages\\\\IPython\\\\core\\\\crashhandler.py'>,\n",
       " 'IPython.utils.importstring': <module 'IPython.utils.importstring' from 'C:\\\\Users\\\\devna\\\\AppData\\\\Roaming\\\\Python\\\\Python310\\\\site-packages\\\\IPython\\\\utils\\\\importstring.py'>,\n",
       " 'IPython.paths': <module 'IPython.paths' from 'C:\\\\Users\\\\devna\\\\AppData\\\\Roaming\\\\Python\\\\Python310\\\\site-packages\\\\IPython\\\\paths.py'>,\n",
       " 'IPython.core.profiledir': <module 'IPython.core.profiledir' from 'C:\\\\Users\\\\devna\\\\AppData\\\\Roaming\\\\Python\\\\Python310\\\\site-packages\\\\IPython\\\\core\\\\profiledir.py'>,\n",
       " 'IPython.core.application': <module 'IPython.core.application' from 'C:\\\\Users\\\\devna\\\\AppData\\\\Roaming\\\\Python\\\\Python310\\\\site-packages\\\\IPython\\\\core\\\\application.py'>,\n",
       " 'IPython.terminal': <module 'IPython.terminal' from 'C:\\\\Users\\\\devna\\\\AppData\\\\Roaming\\\\Python\\\\Python310\\\\site-packages\\\\IPython\\\\terminal\\\\__init__.py'>,\n",
       " 'IPython.core.compilerop': <module 'IPython.core.compilerop' from 'C:\\\\Users\\\\devna\\\\AppData\\\\Roaming\\\\Python\\\\Python310\\\\site-packages\\\\IPython\\\\core\\\\compilerop.py'>,\n",
       " 'IPython.core.error': <module 'IPython.core.error' from 'C:\\\\Users\\\\devna\\\\AppData\\\\Roaming\\\\Python\\\\Python310\\\\site-packages\\\\IPython\\\\core\\\\error.py'>,\n",
       " 'IPython.utils.docs': <module 'IPython.utils.docs' from 'C:\\\\Users\\\\devna\\\\AppData\\\\Roaming\\\\Python\\\\Python310\\\\site-packages\\\\IPython\\\\utils\\\\docs.py'>,\n",
       " 'IPython.utils.decorators': <module 'IPython.utils.decorators' from 'C:\\\\Users\\\\devna\\\\AppData\\\\Roaming\\\\Python\\\\Python310\\\\site-packages\\\\IPython\\\\utils\\\\decorators.py'>,\n",
       " 'typing_extensions': <module 'typing_extensions' from 'C:\\\\Users\\\\devna\\\\AppData\\\\Roaming\\\\Python\\\\Python310\\\\site-packages\\\\typing_extensions.py'>,\n",
       " 'IPython.utils.text': <module 'IPython.utils.text' from 'C:\\\\Users\\\\devna\\\\AppData\\\\Roaming\\\\Python\\\\Python310\\\\site-packages\\\\IPython\\\\utils\\\\text.py'>,\n",
       " 'IPython.core.magic_arguments': <module 'IPython.core.magic_arguments' from 'C:\\\\Users\\\\devna\\\\AppData\\\\Roaming\\\\Python\\\\Python310\\\\site-packages\\\\IPython\\\\core\\\\magic_arguments.py'>,\n",
       " 'getopt': <module 'getopt' from 'c:\\\\Users\\\\devna\\\\AppData\\\\Local\\\\Programs\\\\Python\\\\Python310\\\\lib\\\\getopt.py'>,\n",
       " 'IPython.core.display_functions': <module 'IPython.core.display_functions' from 'C:\\\\Users\\\\devna\\\\AppData\\\\Roaming\\\\Python\\\\Python310\\\\site-packages\\\\IPython\\\\core\\\\display_functions.py'>,\n",
       " 'mimetypes': <module 'mimetypes' from 'c:\\\\Users\\\\devna\\\\AppData\\\\Local\\\\Programs\\\\Python\\\\Python310\\\\lib\\\\mimetypes.py'>,\n",
       " 'IPython.testing': <module 'IPython.testing' from 'C:\\\\Users\\\\devna\\\\AppData\\\\Roaming\\\\Python\\\\Python310\\\\site-packages\\\\IPython\\\\testing\\\\__init__.py'>,\n",
       " 'IPython.testing.skipdoctest': <module 'IPython.testing.skipdoctest' from 'C:\\\\Users\\\\devna\\\\AppData\\\\Roaming\\\\Python\\\\Python310\\\\site-packages\\\\IPython\\\\testing\\\\skipdoctest.py'>,\n",
       " 'IPython.core.display': <module 'IPython.core.display' from 'C:\\\\Users\\\\devna\\\\AppData\\\\Roaming\\\\Python\\\\Python310\\\\site-packages\\\\IPython\\\\core\\\\display.py'>,\n",
       " 'IPython.lib': <module 'IPython.lib' from 'C:\\\\Users\\\\devna\\\\AppData\\\\Roaming\\\\Python\\\\Python310\\\\site-packages\\\\IPython\\\\lib\\\\__init__.py'>,\n",
       " 'IPython.lib.display': <module 'IPython.lib.display' from 'C:\\\\Users\\\\devna\\\\AppData\\\\Roaming\\\\Python\\\\Python310\\\\site-packages\\\\IPython\\\\lib\\\\display.py'>,\n",
       " 'IPython.display': <module 'IPython.display' from 'C:\\\\Users\\\\devna\\\\AppData\\\\Roaming\\\\Python\\\\Python310\\\\site-packages\\\\IPython\\\\display.py'>,\n",
       " 'IPython.utils.data': <module 'IPython.utils.data' from 'C:\\\\Users\\\\devna\\\\AppData\\\\Roaming\\\\Python\\\\Python310\\\\site-packages\\\\IPython\\\\utils\\\\data.py'>,\n",
       " 'IPython.core.page': <module 'IPython.core.page' from 'C:\\\\Users\\\\devna\\\\AppData\\\\Roaming\\\\Python\\\\Python310\\\\site-packages\\\\IPython\\\\core\\\\page.py'>,\n",
       " 'IPython.lib.pretty': <module 'IPython.lib.pretty' from 'C:\\\\Users\\\\devna\\\\AppData\\\\Roaming\\\\Python\\\\Python310\\\\site-packages\\\\IPython\\\\lib\\\\pretty.py'>,\n",
       " 'IPython.utils.openpy': <module 'IPython.utils.openpy' from 'C:\\\\Users\\\\devna\\\\AppData\\\\Roaming\\\\Python\\\\Python310\\\\site-packages\\\\IPython\\\\utils\\\\openpy.py'>,\n",
       " 'IPython.utils.dir2': <module 'IPython.utils.dir2' from 'C:\\\\Users\\\\devna\\\\AppData\\\\Roaming\\\\Python\\\\Python310\\\\site-packages\\\\IPython\\\\utils\\\\dir2.py'>,\n",
       " 'IPython.utils.wildcard': <module 'IPython.utils.wildcard' from 'C:\\\\Users\\\\devna\\\\AppData\\\\Roaming\\\\Python\\\\Python310\\\\site-packages\\\\IPython\\\\utils\\\\wildcard.py'>,\n",
       " 'pygments.lexers._mapping': <module 'pygments.lexers._mapping' from 'C:\\\\Users\\\\devna\\\\AppData\\\\Roaming\\\\Python\\\\Python310\\\\site-packages\\\\pygments\\\\lexers\\\\_mapping.py'>,\n",
       " 'pygments.modeline': <module 'pygments.modeline' from 'C:\\\\Users\\\\devna\\\\AppData\\\\Roaming\\\\Python\\\\Python310\\\\site-packages\\\\pygments\\\\modeline.py'>,\n",
       " 'pygments.lexers': <module 'pygments.lexers' from 'C:\\\\Users\\\\devna\\\\AppData\\\\Roaming\\\\Python\\\\Python310\\\\site-packages\\\\pygments\\\\lexers\\\\__init__.py'>,\n",
       " 'pygments.filter': <module 'pygments.filter' from 'C:\\\\Users\\\\devna\\\\AppData\\\\Roaming\\\\Python\\\\Python310\\\\site-packages\\\\pygments\\\\filter.py'>,\n",
       " 'pygments.filters': <module 'pygments.filters' from 'C:\\\\Users\\\\devna\\\\AppData\\\\Roaming\\\\Python\\\\Python310\\\\site-packages\\\\pygments\\\\filters\\\\__init__.py'>,\n",
       " 'pygments.regexopt': <module 'pygments.regexopt' from 'C:\\\\Users\\\\devna\\\\AppData\\\\Roaming\\\\Python\\\\Python310\\\\site-packages\\\\pygments\\\\regexopt.py'>,\n",
       " 'pygments.lexer': <module 'pygments.lexer' from 'C:\\\\Users\\\\devna\\\\AppData\\\\Roaming\\\\Python\\\\Python310\\\\site-packages\\\\pygments\\\\lexer.py'>,\n",
       " 'pygments.unistring': <module 'pygments.unistring' from 'C:\\\\Users\\\\devna\\\\AppData\\\\Roaming\\\\Python\\\\Python310\\\\site-packages\\\\pygments\\\\unistring.py'>,\n",
       " 'pygments.lexers.python': <module 'pygments.lexers.python' from 'C:\\\\Users\\\\devna\\\\AppData\\\\Roaming\\\\Python\\\\Python310\\\\site-packages\\\\pygments\\\\lexers\\\\python.py'>,\n",
       " 'pygments.formatters.html': <module 'pygments.formatters.html' from 'C:\\\\Users\\\\devna\\\\AppData\\\\Roaming\\\\Python\\\\Python310\\\\site-packages\\\\pygments\\\\formatters\\\\html.py'>,\n",
       " 'IPython.core.oinspect': <module 'IPython.core.oinspect' from 'C:\\\\Users\\\\devna\\\\AppData\\\\Roaming\\\\Python\\\\Python310\\\\site-packages\\\\IPython\\\\core\\\\oinspect.py'>,\n",
       " 'IPython.utils.tokenutil': <module 'IPython.utils.tokenutil' from 'C:\\\\Users\\\\devna\\\\AppData\\\\Roaming\\\\Python\\\\Python310\\\\site-packages\\\\IPython\\\\utils\\\\tokenutil.py'>,\n",
       " 'IPython.core.inputtransformer2': <module 'IPython.core.inputtransformer2' from 'C:\\\\Users\\\\devna\\\\AppData\\\\Roaming\\\\Python\\\\Python310\\\\site-packages\\\\IPython\\\\core\\\\inputtransformer2.py'>,\n",
       " 'IPython.core.magic': <module 'IPython.core.magic' from 'C:\\\\Users\\\\devna\\\\AppData\\\\Roaming\\\\Python\\\\Python310\\\\site-packages\\\\IPython\\\\core\\\\magic.py'>,\n",
       " 'IPython.core.hooks': <module 'IPython.core.hooks' from 'C:\\\\Users\\\\devna\\\\AppData\\\\Roaming\\\\Python\\\\Python310\\\\site-packages\\\\IPython\\\\core\\\\hooks.py'>,\n",
       " 'IPython.core.autocall': <module 'IPython.core.autocall' from 'C:\\\\Users\\\\devna\\\\AppData\\\\Roaming\\\\Python\\\\Python310\\\\site-packages\\\\IPython\\\\core\\\\autocall.py'>,\n",
       " 'IPython.core.macro': <module 'IPython.core.macro' from 'C:\\\\Users\\\\devna\\\\AppData\\\\Roaming\\\\Python\\\\Python310\\\\site-packages\\\\IPython\\\\core\\\\macro.py'>,\n",
       " 'IPython.core.splitinput': <module 'IPython.core.splitinput' from 'C:\\\\Users\\\\devna\\\\AppData\\\\Roaming\\\\Python\\\\Python310\\\\site-packages\\\\IPython\\\\core\\\\splitinput.py'>,\n",
       " 'IPython.core.prefilter': <module 'IPython.core.prefilter' from 'C:\\\\Users\\\\devna\\\\AppData\\\\Roaming\\\\Python\\\\Python310\\\\site-packages\\\\IPython\\\\core\\\\prefilter.py'>,\n",
       " 'IPython.core.alias': <module 'IPython.core.alias' from 'C:\\\\Users\\\\devna\\\\AppData\\\\Roaming\\\\Python\\\\Python310\\\\site-packages\\\\IPython\\\\core\\\\alias.py'>,\n",
       " 'IPython.core.builtin_trap': <module 'IPython.core.builtin_trap' from 'C:\\\\Users\\\\devna\\\\AppData\\\\Roaming\\\\Python\\\\Python310\\\\site-packages\\\\IPython\\\\core\\\\builtin_trap.py'>,\n",
       " 'IPython.core.displayhook': <module 'IPython.core.displayhook' from 'C:\\\\Users\\\\devna\\\\AppData\\\\Roaming\\\\Python\\\\Python310\\\\site-packages\\\\IPython\\\\core\\\\displayhook.py'>,\n",
       " 'IPython.core.displaypub': <module 'IPython.core.displaypub' from 'C:\\\\Users\\\\devna\\\\AppData\\\\Roaming\\\\Python\\\\Python310\\\\site-packages\\\\IPython\\\\core\\\\displaypub.py'>,\n",
       " 'IPython.core.events': <module 'IPython.core.events' from 'C:\\\\Users\\\\devna\\\\AppData\\\\Roaming\\\\Python\\\\Python310\\\\site-packages\\\\IPython\\\\core\\\\events.py'>,\n",
       " 'IPython.core.extensions': <module 'IPython.core.extensions' from 'C:\\\\Users\\\\devna\\\\AppData\\\\Roaming\\\\Python\\\\Python310\\\\site-packages\\\\IPython\\\\core\\\\extensions.py'>,\n",
       " 'decorator': <module 'decorator' from 'C:\\\\Users\\\\devna\\\\AppData\\\\Roaming\\\\Python\\\\Python310\\\\site-packages\\\\decorator.py'>,\n",
       " 'IPython.utils.sentinel': <module 'IPython.utils.sentinel' from 'C:\\\\Users\\\\devna\\\\AppData\\\\Roaming\\\\Python\\\\Python310\\\\site-packages\\\\IPython\\\\utils\\\\sentinel.py'>,\n",
       " 'IPython.core.formatters': <module 'IPython.core.formatters' from 'C:\\\\Users\\\\devna\\\\AppData\\\\Roaming\\\\Python\\\\Python310\\\\site-packages\\\\IPython\\\\core\\\\formatters.py'>,\n",
       " '_sqlite3': <module '_sqlite3' from 'c:\\\\Users\\\\devna\\\\AppData\\\\Local\\\\Programs\\\\Python\\\\Python310\\\\DLLs\\\\_sqlite3.pyd'>,\n",
       " 'sqlite3.dbapi2': <module 'sqlite3.dbapi2' from 'c:\\\\Users\\\\devna\\\\AppData\\\\Local\\\\Programs\\\\Python\\\\Python310\\\\lib\\\\sqlite3\\\\dbapi2.py'>,\n",
       " 'sqlite3': <module 'sqlite3' from 'c:\\\\Users\\\\devna\\\\AppData\\\\Local\\\\Programs\\\\Python\\\\Python310\\\\lib\\\\sqlite3\\\\__init__.py'>,\n",
       " 'IPython.core.history': <module 'IPython.core.history' from 'C:\\\\Users\\\\devna\\\\AppData\\\\Roaming\\\\Python\\\\Python310\\\\site-packages\\\\IPython\\\\core\\\\history.py'>,\n",
       " 'IPython.core.logger': <module 'IPython.core.logger' from 'C:\\\\Users\\\\devna\\\\AppData\\\\Roaming\\\\Python\\\\Python310\\\\site-packages\\\\IPython\\\\core\\\\logger.py'>,\n",
       " 'IPython.core.payload': <module 'IPython.core.payload' from 'C:\\\\Users\\\\devna\\\\AppData\\\\Roaming\\\\Python\\\\Python310\\\\site-packages\\\\IPython\\\\core\\\\payload.py'>,\n",
       " 'IPython.core.usage': <module 'IPython.core.usage' from 'C:\\\\Users\\\\devna\\\\AppData\\\\Roaming\\\\Python\\\\Python310\\\\site-packages\\\\IPython\\\\core\\\\usage.py'>,\n",
       " 'IPython.utils.capture': <module 'IPython.utils.capture' from 'C:\\\\Users\\\\devna\\\\AppData\\\\Roaming\\\\Python\\\\Python310\\\\site-packages\\\\IPython\\\\utils\\\\capture.py'>,\n",
       " 'IPython.utils.io': <module 'IPython.utils.io' from 'C:\\\\Users\\\\devna\\\\AppData\\\\Roaming\\\\Python\\\\Python310\\\\site-packages\\\\IPython\\\\utils\\\\io.py'>,\n",
       " 'IPython.utils.strdispatch': <module 'IPython.utils.strdispatch' from 'C:\\\\Users\\\\devna\\\\AppData\\\\Roaming\\\\Python\\\\Python310\\\\site-packages\\\\IPython\\\\utils\\\\strdispatch.py'>,\n",
       " 'IPython.utils.syspathcontext': <module 'IPython.utils.syspathcontext' from 'C:\\\\Users\\\\devna\\\\AppData\\\\Roaming\\\\Python\\\\Python310\\\\site-packages\\\\IPython\\\\utils\\\\syspathcontext.py'>,\n",
       " 'exceptiongroup._exceptions': <module 'exceptiongroup._exceptions' from 'C:\\\\Users\\\\devna\\\\AppData\\\\Roaming\\\\Python\\\\Python310\\\\site-packages\\\\exceptiongroup\\\\_exceptions.py'>,\n",
       " 'exceptiongroup._catch': <module 'exceptiongroup._catch' from 'C:\\\\Users\\\\devna\\\\AppData\\\\Roaming\\\\Python\\\\Python310\\\\site-packages\\\\exceptiongroup\\\\_catch.py'>,\n",
       " 'exceptiongroup._version': <module 'exceptiongroup._version' from 'C:\\\\Users\\\\devna\\\\AppData\\\\Roaming\\\\Python\\\\Python310\\\\site-packages\\\\exceptiongroup\\\\_version.py'>,\n",
       " 'exceptiongroup._formatting': <module 'exceptiongroup._formatting' from 'C:\\\\Users\\\\devna\\\\AppData\\\\Roaming\\\\Python\\\\Python310\\\\site-packages\\\\exceptiongroup\\\\_formatting.py'>,\n",
       " 'exceptiongroup._suppress': <module 'exceptiongroup._suppress' from 'C:\\\\Users\\\\devna\\\\AppData\\\\Roaming\\\\Python\\\\Python310\\\\site-packages\\\\exceptiongroup\\\\_suppress.py'>,\n",
       " 'exceptiongroup': <module 'exceptiongroup' from 'C:\\\\Users\\\\devna\\\\AppData\\\\Roaming\\\\Python\\\\Python310\\\\site-packages\\\\exceptiongroup\\\\__init__.py'>,\n",
       " 'IPython.core.async_helpers': <module 'IPython.core.async_helpers' from 'C:\\\\Users\\\\devna\\\\AppData\\\\Roaming\\\\Python\\\\Python310\\\\site-packages\\\\IPython\\\\core\\\\async_helpers.py'>,\n",
       " 'IPython.core.interactiveshell': <module 'IPython.core.interactiveshell' from 'C:\\\\Users\\\\devna\\\\AppData\\\\Roaming\\\\Python\\\\Python310\\\\site-packages\\\\IPython\\\\core\\\\interactiveshell.py'>,\n",
       " 'prompt_toolkit.application.current': <module 'prompt_toolkit.application.current' from 'C:\\\\Users\\\\devna\\\\AppData\\\\Roaming\\\\Python\\\\Python310\\\\site-packages\\\\prompt_toolkit\\\\application\\\\current.py'>,\n",
       " 'prompt_toolkit.eventloop.utils': <module 'prompt_toolkit.eventloop.utils' from 'C:\\\\Users\\\\devna\\\\AppData\\\\Roaming\\\\Python\\\\Python310\\\\site-packages\\\\prompt_toolkit\\\\eventloop\\\\utils.py'>,\n",
       " 'prompt_toolkit.eventloop.async_generator': <module 'prompt_toolkit.eventloop.async_generator' from 'C:\\\\Users\\\\devna\\\\AppData\\\\Roaming\\\\Python\\\\Python310\\\\site-packages\\\\prompt_toolkit\\\\eventloop\\\\async_generator.py'>,\n",
       " 'prompt_toolkit.eventloop.inputhook': <module 'prompt_toolkit.eventloop.inputhook' from 'C:\\\\Users\\\\devna\\\\AppData\\\\Roaming\\\\Python\\\\Python310\\\\site-packages\\\\prompt_toolkit\\\\eventloop\\\\inputhook.py'>,\n",
       " 'prompt_toolkit.eventloop': <module 'prompt_toolkit.eventloop' from 'C:\\\\Users\\\\devna\\\\AppData\\\\Roaming\\\\Python\\\\Python310\\\\site-packages\\\\prompt_toolkit\\\\eventloop\\\\__init__.py'>,\n",
       " 'prompt_toolkit.application.run_in_terminal': <module 'prompt_toolkit.application.run_in_terminal' from 'C:\\\\Users\\\\devna\\\\AppData\\\\Roaming\\\\Python\\\\Python310\\\\site-packages\\\\prompt_toolkit\\\\application\\\\run_in_terminal.py'>,\n",
       " 'prompt_toolkit.selection': <module 'prompt_toolkit.selection' from 'C:\\\\Users\\\\devna\\\\AppData\\\\Roaming\\\\Python\\\\Python310\\\\site-packages\\\\prompt_toolkit\\\\selection.py'>,\n",
       " 'prompt_toolkit.clipboard.base': <module 'prompt_toolkit.clipboard.base' from 'C:\\\\Users\\\\devna\\\\AppData\\\\Roaming\\\\Python\\\\Python310\\\\site-packages\\\\prompt_toolkit\\\\clipboard\\\\base.py'>,\n",
       " 'prompt_toolkit.clipboard.in_memory': <module 'prompt_toolkit.clipboard.in_memory' from 'C:\\\\Users\\\\devna\\\\AppData\\\\Roaming\\\\Python\\\\Python310\\\\site-packages\\\\prompt_toolkit\\\\clipboard\\\\in_memory.py'>,\n",
       " 'prompt_toolkit.clipboard': <module 'prompt_toolkit.clipboard' from 'C:\\\\Users\\\\devna\\\\AppData\\\\Roaming\\\\Python\\\\Python310\\\\site-packages\\\\prompt_toolkit\\\\clipboard\\\\__init__.py'>,\n",
       " 'prompt_toolkit.cache': <module 'prompt_toolkit.cache' from 'C:\\\\Users\\\\devna\\\\AppData\\\\Roaming\\\\Python\\\\Python310\\\\site-packages\\\\prompt_toolkit\\\\cache.py'>,\n",
       " 'prompt_toolkit.enums': <module 'prompt_toolkit.enums' from 'C:\\\\Users\\\\devna\\\\AppData\\\\Roaming\\\\Python\\\\Python310\\\\site-packages\\\\prompt_toolkit\\\\enums.py'>,\n",
       " 'prompt_toolkit.filters.base': <module 'prompt_toolkit.filters.base' from 'C:\\\\Users\\\\devna\\\\AppData\\\\Roaming\\\\Python\\\\Python310\\\\site-packages\\\\prompt_toolkit\\\\filters\\\\base.py'>,\n",
       " 'prompt_toolkit.filters.app': <module 'prompt_toolkit.filters.app' from 'C:\\\\Users\\\\devna\\\\AppData\\\\Roaming\\\\Python\\\\Python310\\\\site-packages\\\\prompt_toolkit\\\\filters\\\\app.py'>,\n",
       " 'prompt_toolkit.filters.cli': <module 'prompt_toolkit.filters.cli' from 'C:\\\\Users\\\\devna\\\\AppData\\\\Roaming\\\\Python\\\\Python310\\\\site-packages\\\\prompt_toolkit\\\\filters\\\\cli.py'>,\n",
       " 'prompt_toolkit.filters.utils': <module 'prompt_toolkit.filters.utils' from 'C:\\\\Users\\\\devna\\\\AppData\\\\Roaming\\\\Python\\\\Python310\\\\site-packages\\\\prompt_toolkit\\\\filters\\\\utils.py'>,\n",
       " 'prompt_toolkit.filters': <module 'prompt_toolkit.filters' from 'C:\\\\Users\\\\devna\\\\AppData\\\\Roaming\\\\Python\\\\Python310\\\\site-packages\\\\prompt_toolkit\\\\filters\\\\__init__.py'>,\n",
       " 'prompt_toolkit.document': <module 'prompt_toolkit.document' from 'C:\\\\Users\\\\devna\\\\AppData\\\\Roaming\\\\Python\\\\Python310\\\\site-packages\\\\prompt_toolkit\\\\document.py'>,\n",
       " 'prompt_toolkit.auto_suggest': <module 'prompt_toolkit.auto_suggest' from 'C:\\\\Users\\\\devna\\\\AppData\\\\Roaming\\\\Python\\\\Python310\\\\site-packages\\\\prompt_toolkit\\\\auto_suggest.py'>,\n",
       " 'prompt_toolkit.keys': <module 'prompt_toolkit.keys' from 'C:\\\\Users\\\\devna\\\\AppData\\\\Roaming\\\\Python\\\\Python310\\\\site-packages\\\\prompt_toolkit\\\\keys.py'>,\n",
       " 'prompt_toolkit.key_binding.key_bindings': <module 'prompt_toolkit.key_binding.key_bindings' from 'C:\\\\Users\\\\devna\\\\AppData\\\\Roaming\\\\Python\\\\Python310\\\\site-packages\\\\prompt_toolkit\\\\key_binding\\\\key_bindings.py'>,\n",
       " 'wcwidth.table_vs16': <module 'wcwidth.table_vs16' from 'C:\\\\Users\\\\devna\\\\AppData\\\\Roaming\\\\Python\\\\Python310\\\\site-packages\\\\wcwidth\\\\table_vs16.py'>,\n",
       " 'wcwidth.table_wide': <module 'wcwidth.table_wide' from 'C:\\\\Users\\\\devna\\\\AppData\\\\Roaming\\\\Python\\\\Python310\\\\site-packages\\\\wcwidth\\\\table_wide.py'>,\n",
       " 'wcwidth.table_zero': <module 'wcwidth.table_zero' from 'C:\\\\Users\\\\devna\\\\AppData\\\\Roaming\\\\Python\\\\Python310\\\\site-packages\\\\wcwidth\\\\table_zero.py'>,\n",
       " 'wcwidth.unicode_versions': <module 'wcwidth.unicode_versions' from 'C:\\\\Users\\\\devna\\\\AppData\\\\Roaming\\\\Python\\\\Python310\\\\site-packages\\\\wcwidth\\\\unicode_versions.py'>,\n",
       " 'wcwidth.wcwidth': <module 'wcwidth.wcwidth' from 'C:\\\\Users\\\\devna\\\\AppData\\\\Roaming\\\\Python\\\\Python310\\\\site-packages\\\\wcwidth\\\\wcwidth.py'>,\n",
       " 'wcwidth': <module 'wcwidth' from 'C:\\\\Users\\\\devna\\\\AppData\\\\Roaming\\\\Python\\\\Python310\\\\site-packages\\\\wcwidth\\\\__init__.py'>,\n",
       " 'prompt_toolkit.utils': <module 'prompt_toolkit.utils' from 'C:\\\\Users\\\\devna\\\\AppData\\\\Roaming\\\\Python\\\\Python310\\\\site-packages\\\\prompt_toolkit\\\\utils.py'>,\n",
       " 'prompt_toolkit.key_binding.key_processor': <module 'prompt_toolkit.key_binding.key_processor' from 'C:\\\\Users\\\\devna\\\\AppData\\\\Roaming\\\\Python\\\\Python310\\\\site-packages\\\\prompt_toolkit\\\\key_binding\\\\key_processor.py'>,\n",
       " 'prompt_toolkit.key_binding': <module 'prompt_toolkit.key_binding' from 'C:\\\\Users\\\\devna\\\\AppData\\\\Roaming\\\\Python\\\\Python310\\\\site-packages\\\\prompt_toolkit\\\\key_binding\\\\__init__.py'>,\n",
       " 'prompt_toolkit.key_binding.vi_state': <module 'prompt_toolkit.key_binding.vi_state' from 'C:\\\\Users\\\\devna\\\\AppData\\\\Roaming\\\\Python\\\\Python310\\\\site-packages\\\\prompt_toolkit\\\\key_binding\\\\vi_state.py'>,\n",
       " 'prompt_toolkit.cursor_shapes': <module 'prompt_toolkit.cursor_shapes' from 'C:\\\\Users\\\\devna\\\\AppData\\\\Roaming\\\\Python\\\\Python310\\\\site-packages\\\\prompt_toolkit\\\\cursor_shapes.py'>,\n",
       " 'prompt_toolkit.data_structures': <module 'prompt_toolkit.data_structures' from 'C:\\\\Users\\\\devna\\\\AppData\\\\Roaming\\\\Python\\\\Python310\\\\site-packages\\\\prompt_toolkit\\\\data_structures.py'>,\n",
       " 'prompt_toolkit.styles.base': <module 'prompt_toolkit.styles.base' from 'C:\\\\Users\\\\devna\\\\AppData\\\\Roaming\\\\Python\\\\Python310\\\\site-packages\\\\prompt_toolkit\\\\styles\\\\base.py'>,\n",
       " 'prompt_toolkit.styles.named_colors': <module 'prompt_toolkit.styles.named_colors' from 'C:\\\\Users\\\\devna\\\\AppData\\\\Roaming\\\\Python\\\\Python310\\\\site-packages\\\\prompt_toolkit\\\\styles\\\\named_colors.py'>,\n",
       " 'prompt_toolkit.styles.style': <module 'prompt_toolkit.styles.style' from 'C:\\\\Users\\\\devna\\\\AppData\\\\Roaming\\\\Python\\\\Python310\\\\site-packages\\\\prompt_toolkit\\\\styles\\\\style.py'>,\n",
       " 'prompt_toolkit.styles.defaults': <module 'prompt_toolkit.styles.defaults' from 'C:\\\\Users\\\\devna\\\\AppData\\\\Roaming\\\\Python\\\\Python310\\\\site-packages\\\\prompt_toolkit\\\\styles\\\\defaults.py'>,\n",
       " 'prompt_toolkit.styles.pygments': <module 'prompt_toolkit.styles.pygments' from 'C:\\\\Users\\\\devna\\\\AppData\\\\Roaming\\\\Python\\\\Python310\\\\site-packages\\\\prompt_toolkit\\\\styles\\\\pygments.py'>,\n",
       " 'colorsys': <module 'colorsys' from 'c:\\\\Users\\\\devna\\\\AppData\\\\Local\\\\Programs\\\\Python\\\\Python310\\\\lib\\\\colorsys.py'>,\n",
       " 'prompt_toolkit.styles.style_transformation': <module 'prompt_toolkit.styles.style_transformation' from 'C:\\\\Users\\\\devna\\\\AppData\\\\Roaming\\\\Python\\\\Python310\\\\site-packages\\\\prompt_toolkit\\\\styles\\\\style_transformation.py'>,\n",
       " 'prompt_toolkit.styles': <module 'prompt_toolkit.styles' from 'C:\\\\Users\\\\devna\\\\AppData\\\\Roaming\\\\Python\\\\Python310\\\\site-packages\\\\prompt_toolkit\\\\styles\\\\__init__.py'>,\n",
       " 'prompt_toolkit.output.color_depth': <module 'prompt_toolkit.output.color_depth' from 'C:\\\\Users\\\\devna\\\\AppData\\\\Roaming\\\\Python\\\\Python310\\\\site-packages\\\\prompt_toolkit\\\\output\\\\color_depth.py'>,\n",
       " 'prompt_toolkit.output.base': <module 'prompt_toolkit.output.base' from 'C:\\\\Users\\\\devna\\\\AppData\\\\Roaming\\\\Python\\\\Python310\\\\site-packages\\\\prompt_toolkit\\\\output\\\\base.py'>,\n",
       " 'prompt_toolkit.output.flush_stdout': <module 'prompt_toolkit.output.flush_stdout' from 'C:\\\\Users\\\\devna\\\\AppData\\\\Roaming\\\\Python\\\\Python310\\\\site-packages\\\\prompt_toolkit\\\\output\\\\flush_stdout.py'>,\n",
       " 'prompt_toolkit.output.plain_text': <module 'prompt_toolkit.output.plain_text' from 'C:\\\\Users\\\\devna\\\\AppData\\\\Roaming\\\\Python\\\\Python310\\\\site-packages\\\\prompt_toolkit\\\\output\\\\plain_text.py'>,\n",
       " 'prompt_toolkit.output.defaults': <module 'prompt_toolkit.output.defaults' from 'C:\\\\Users\\\\devna\\\\AppData\\\\Roaming\\\\Python\\\\Python310\\\\site-packages\\\\prompt_toolkit\\\\output\\\\defaults.py'>,\n",
       " 'prompt_toolkit.output': <module 'prompt_toolkit.output' from 'C:\\\\Users\\\\devna\\\\AppData\\\\Roaming\\\\Python\\\\Python310\\\\site-packages\\\\prompt_toolkit\\\\output\\\\__init__.py'>,\n",
       " 'prompt_toolkit.output.vt100': <module 'prompt_toolkit.output.vt100' from 'C:\\\\Users\\\\devna\\\\AppData\\\\Roaming\\\\Python\\\\Python310\\\\site-packages\\\\prompt_toolkit\\\\output\\\\vt100.py'>,\n",
       " 'prompt_toolkit.mouse_events': <module 'prompt_toolkit.mouse_events' from 'C:\\\\Users\\\\devna\\\\AppData\\\\Roaming\\\\Python\\\\Python310\\\\site-packages\\\\prompt_toolkit\\\\mouse_events.py'>,\n",
       " 'prompt_toolkit.formatted_text.base': <module 'prompt_toolkit.formatted_text.base' from 'C:\\\\Users\\\\devna\\\\AppData\\\\Roaming\\\\Python\\\\Python310\\\\site-packages\\\\prompt_toolkit\\\\formatted_text\\\\base.py'>,\n",
       " 'prompt_toolkit.formatted_text.ansi': <module 'prompt_toolkit.formatted_text.ansi' from 'C:\\\\Users\\\\devna\\\\AppData\\\\Roaming\\\\Python\\\\Python310\\\\site-packages\\\\prompt_toolkit\\\\formatted_text\\\\ansi.py'>,\n",
       " 'xml': <module 'xml' from 'c:\\\\Users\\\\devna\\\\AppData\\\\Local\\\\Programs\\\\Python\\\\Python310\\\\lib\\\\xml\\\\__init__.py'>,\n",
       " 'xml.dom.domreg': <module 'xml.dom.domreg' from 'c:\\\\Users\\\\devna\\\\AppData\\\\Local\\\\Programs\\\\Python\\\\Python310\\\\lib\\\\xml\\\\dom\\\\domreg.py'>,\n",
       " 'xml.dom': <module 'xml.dom' from 'c:\\\\Users\\\\devna\\\\AppData\\\\Local\\\\Programs\\\\Python\\\\Python310\\\\lib\\\\xml\\\\dom\\\\__init__.py'>,\n",
       " 'xml.dom.minicompat': <module 'xml.dom.minicompat' from 'c:\\\\Users\\\\devna\\\\AppData\\\\Local\\\\Programs\\\\Python\\\\Python310\\\\lib\\\\xml\\\\dom\\\\minicompat.py'>,\n",
       " 'xml.dom.NodeFilter': <module 'xml.dom.NodeFilter' from 'c:\\\\Users\\\\devna\\\\AppData\\\\Local\\\\Programs\\\\Python\\\\Python310\\\\lib\\\\xml\\\\dom\\\\NodeFilter.py'>,\n",
       " 'xml.dom.xmlbuilder': <module 'xml.dom.xmlbuilder' from 'c:\\\\Users\\\\devna\\\\AppData\\\\Local\\\\Programs\\\\Python\\\\Python310\\\\lib\\\\xml\\\\dom\\\\xmlbuilder.py'>,\n",
       " 'xml.dom.minidom': <module 'xml.dom.minidom' from 'c:\\\\Users\\\\devna\\\\AppData\\\\Local\\\\Programs\\\\Python\\\\Python310\\\\lib\\\\xml\\\\dom\\\\minidom.py'>,\n",
       " 'prompt_toolkit.formatted_text.html': <module 'prompt_toolkit.formatted_text.html' from 'C:\\\\Users\\\\devna\\\\AppData\\\\Roaming\\\\Python\\\\Python310\\\\site-packages\\\\prompt_toolkit\\\\formatted_text\\\\html.py'>,\n",
       " 'prompt_toolkit.formatted_text.pygments': <module 'prompt_toolkit.formatted_text.pygments' from 'C:\\\\Users\\\\devna\\\\AppData\\\\Roaming\\\\Python\\\\Python310\\\\site-packages\\\\prompt_toolkit\\\\formatted_text\\\\pygments.py'>,\n",
       " 'prompt_toolkit.formatted_text.utils': <module 'prompt_toolkit.formatted_text.utils' from 'C:\\\\Users\\\\devna\\\\AppData\\\\Roaming\\\\Python\\\\Python310\\\\site-packages\\\\prompt_toolkit\\\\formatted_text\\\\utils.py'>,\n",
       " 'prompt_toolkit.formatted_text': <module 'prompt_toolkit.formatted_text' from 'C:\\\\Users\\\\devna\\\\AppData\\\\Roaming\\\\Python\\\\Python310\\\\site-packages\\\\prompt_toolkit\\\\formatted_text\\\\__init__.py'>,\n",
       " 'prompt_toolkit.completion.base': <module 'prompt_toolkit.completion.base' from 'C:\\\\Users\\\\devna\\\\AppData\\\\Roaming\\\\Python\\\\Python310\\\\site-packages\\\\prompt_toolkit\\\\completion\\\\base.py'>,\n",
       " 'prompt_toolkit.completion.deduplicate': <module 'prompt_toolkit.completion.deduplicate' from 'C:\\\\Users\\\\devna\\\\AppData\\\\Roaming\\\\Python\\\\Python310\\\\site-packages\\\\prompt_toolkit\\\\completion\\\\deduplicate.py'>,\n",
       " 'prompt_toolkit.completion.filesystem': <module 'prompt_toolkit.completion.filesystem' from 'C:\\\\Users\\\\devna\\\\AppData\\\\Roaming\\\\Python\\\\Python310\\\\site-packages\\\\prompt_toolkit\\\\completion\\\\filesystem.py'>,\n",
       " 'prompt_toolkit.completion.word_completer': <module 'prompt_toolkit.completion.word_completer' from 'C:\\\\Users\\\\devna\\\\AppData\\\\Roaming\\\\Python\\\\Python310\\\\site-packages\\\\prompt_toolkit\\\\completion\\\\word_completer.py'>,\n",
       " 'prompt_toolkit.completion.fuzzy_completer': <module 'prompt_toolkit.completion.fuzzy_completer' from 'C:\\\\Users\\\\devna\\\\AppData\\\\Roaming\\\\Python\\\\Python310\\\\site-packages\\\\prompt_toolkit\\\\completion\\\\fuzzy_completer.py'>,\n",
       " 'prompt_toolkit.completion.nested': <module 'prompt_toolkit.completion.nested' from 'C:\\\\Users\\\\devna\\\\AppData\\\\Roaming\\\\Python\\\\Python310\\\\site-packages\\\\prompt_toolkit\\\\completion\\\\nested.py'>,\n",
       " 'prompt_toolkit.completion': <module 'prompt_toolkit.completion' from 'C:\\\\Users\\\\devna\\\\AppData\\\\Roaming\\\\Python\\\\Python310\\\\site-packages\\\\prompt_toolkit\\\\completion\\\\__init__.py'>,\n",
       " 'prompt_toolkit.history': <module 'prompt_toolkit.history' from 'C:\\\\Users\\\\devna\\\\AppData\\\\Roaming\\\\Python\\\\Python310\\\\site-packages\\\\prompt_toolkit\\\\history.py'>,\n",
       " 'prompt_toolkit.search': <module 'prompt_toolkit.search' from 'C:\\\\Users\\\\devna\\\\AppData\\\\Roaming\\\\Python\\\\Python310\\\\site-packages\\\\prompt_toolkit\\\\search.py'>,\n",
       " 'prompt_toolkit.validation': <module 'prompt_toolkit.validation' from 'C:\\\\Users\\\\devna\\\\AppData\\\\Roaming\\\\Python\\\\Python310\\\\site-packages\\\\prompt_toolkit\\\\validation.py'>,\n",
       " 'prompt_toolkit.buffer': <module 'prompt_toolkit.buffer' from 'C:\\\\Users\\\\devna\\\\AppData\\\\Roaming\\\\Python\\\\Python310\\\\site-packages\\\\prompt_toolkit\\\\buffer.py'>,\n",
       " 'prompt_toolkit.input.base': <module 'prompt_toolkit.input.base' from 'C:\\\\Users\\\\devna\\\\AppData\\\\Roaming\\\\Python\\\\Python310\\\\site-packages\\\\prompt_toolkit\\\\input\\\\base.py'>,\n",
       " 'prompt_toolkit.input.defaults': <module 'prompt_toolkit.input.defaults' from 'C:\\\\Users\\\\devna\\\\AppData\\\\Roaming\\\\Python\\\\Python310\\\\site-packages\\\\prompt_toolkit\\\\input\\\\defaults.py'>,\n",
       " 'prompt_toolkit.input': <module 'prompt_toolkit.input' from 'C:\\\\Users\\\\devna\\\\AppData\\\\Roaming\\\\Python\\\\Python310\\\\site-packages\\\\prompt_toolkit\\\\input\\\\__init__.py'>,\n",
       " 'prompt_toolkit.input.typeahead': <module 'prompt_toolkit.input.typeahead' from 'C:\\\\Users\\\\devna\\\\AppData\\\\Roaming\\\\Python\\\\Python310\\\\site-packages\\\\prompt_toolkit\\\\input\\\\typeahead.py'>,\n",
       " 'prompt_toolkit.key_binding.bindings': <module 'prompt_toolkit.key_binding.bindings' from 'C:\\\\Users\\\\devna\\\\AppData\\\\Roaming\\\\Python\\\\Python310\\\\site-packages\\\\prompt_toolkit\\\\key_binding\\\\bindings\\\\__init__.py'>,\n",
       " 'prompt_toolkit.key_binding.bindings.scroll': <module 'prompt_toolkit.key_binding.bindings.scroll' from 'C:\\\\Users\\\\devna\\\\AppData\\\\Roaming\\\\Python\\\\Python310\\\\site-packages\\\\prompt_toolkit\\\\key_binding\\\\bindings\\\\scroll.py'>,\n",
       " 'prompt_toolkit.key_binding.bindings.page_navigation': <module 'prompt_toolkit.key_binding.bindings.page_navigation' from 'C:\\\\Users\\\\devna\\\\AppData\\\\Roaming\\\\Python\\\\Python310\\\\site-packages\\\\prompt_toolkit\\\\key_binding\\\\bindings\\\\page_navigation.py'>,\n",
       " 'prompt_toolkit.lexers.base': <module 'prompt_toolkit.lexers.base' from 'C:\\\\Users\\\\devna\\\\AppData\\\\Roaming\\\\Python\\\\Python310\\\\site-packages\\\\prompt_toolkit\\\\lexers\\\\base.py'>,\n",
       " 'prompt_toolkit.lexers.pygments': <module 'prompt_toolkit.lexers.pygments' from 'C:\\\\Users\\\\devna\\\\AppData\\\\Roaming\\\\Python\\\\Python310\\\\site-packages\\\\prompt_toolkit\\\\lexers\\\\pygments.py'>,\n",
       " 'prompt_toolkit.lexers': <module 'prompt_toolkit.lexers' from 'C:\\\\Users\\\\devna\\\\AppData\\\\Roaming\\\\Python\\\\Python310\\\\site-packages\\\\prompt_toolkit\\\\lexers\\\\__init__.py'>,\n",
       " 'prompt_toolkit.layout.utils': <module 'prompt_toolkit.layout.utils' from 'C:\\\\Users\\\\devna\\\\AppData\\\\Roaming\\\\Python\\\\Python310\\\\site-packages\\\\prompt_toolkit\\\\layout\\\\utils.py'>,\n",
       " 'prompt_toolkit.layout.processors': <module 'prompt_toolkit.layout.processors' from 'C:\\\\Users\\\\devna\\\\AppData\\\\Roaming\\\\Python\\\\Python310\\\\site-packages\\\\prompt_toolkit\\\\layout\\\\processors.py'>,\n",
       " 'prompt_toolkit.layout.controls': <module 'prompt_toolkit.layout.controls' from 'C:\\\\Users\\\\devna\\\\AppData\\\\Roaming\\\\Python\\\\Python310\\\\site-packages\\\\prompt_toolkit\\\\layout\\\\controls.py'>,\n",
       " 'prompt_toolkit.layout.dimension': <module 'prompt_toolkit.layout.dimension' from 'C:\\\\Users\\\\devna\\\\AppData\\\\Roaming\\\\Python\\\\Python310\\\\site-packages\\\\prompt_toolkit\\\\layout\\\\dimension.py'>,\n",
       " 'prompt_toolkit.layout.margins': <module 'prompt_toolkit.layout.margins' from 'C:\\\\Users\\\\devna\\\\AppData\\\\Roaming\\\\Python\\\\Python310\\\\site-packages\\\\prompt_toolkit\\\\layout\\\\margins.py'>,\n",
       " 'prompt_toolkit.layout.mouse_handlers': <module 'prompt_toolkit.layout.mouse_handlers' from 'C:\\\\Users\\\\devna\\\\AppData\\\\Roaming\\\\Python\\\\Python310\\\\site-packages\\\\prompt_toolkit\\\\layout\\\\mouse_handlers.py'>,\n",
       " 'prompt_toolkit.layout.screen': <module 'prompt_toolkit.layout.screen' from 'C:\\\\Users\\\\devna\\\\AppData\\\\Roaming\\\\Python\\\\Python310\\\\site-packages\\\\prompt_toolkit\\\\layout\\\\screen.py'>,\n",
       " 'prompt_toolkit.layout.containers': <module 'prompt_toolkit.layout.containers' from 'C:\\\\Users\\\\devna\\\\AppData\\\\Roaming\\\\Python\\\\Python310\\\\site-packages\\\\prompt_toolkit\\\\layout\\\\containers.py'>,\n",
       " 'prompt_toolkit.layout.layout': <module 'prompt_toolkit.layout.layout' from 'C:\\\\Users\\\\devna\\\\AppData\\\\Roaming\\\\Python\\\\Python310\\\\site-packages\\\\prompt_toolkit\\\\layout\\\\layout.py'>,\n",
       " 'prompt_toolkit.layout.menus': <module 'prompt_toolkit.layout.menus' from 'C:\\\\Users\\\\devna\\\\AppData\\\\Roaming\\\\Python\\\\Python310\\\\site-packages\\\\prompt_toolkit\\\\layout\\\\menus.py'>,\n",
       " 'prompt_toolkit.layout.scrollable_pane': <module 'prompt_toolkit.layout.scrollable_pane' from 'C:\\\\Users\\\\devna\\\\AppData\\\\Roaming\\\\Python\\\\Python310\\\\site-packages\\\\prompt_toolkit\\\\layout\\\\scrollable_pane.py'>,\n",
       " 'prompt_toolkit.layout': <module 'prompt_toolkit.layout' from 'C:\\\\Users\\\\devna\\\\AppData\\\\Roaming\\\\Python\\\\Python310\\\\site-packages\\\\prompt_toolkit\\\\layout\\\\__init__.py'>,\n",
       " 'prompt_toolkit.key_binding.bindings.completion': <module 'prompt_toolkit.key_binding.bindings.completion' from 'C:\\\\Users\\\\devna\\\\AppData\\\\Roaming\\\\Python\\\\Python310\\\\site-packages\\\\prompt_toolkit\\\\key_binding\\\\bindings\\\\completion.py'>,\n",
       " 'prompt_toolkit.key_binding.bindings.named_commands': <module 'prompt_toolkit.key_binding.bindings.named_commands' from 'C:\\\\Users\\\\devna\\\\AppData\\\\Roaming\\\\Python\\\\Python310\\\\site-packages\\\\prompt_toolkit\\\\key_binding\\\\bindings\\\\named_commands.py'>,\n",
       " 'prompt_toolkit.key_binding.bindings.basic': <module 'prompt_toolkit.key_binding.bindings.basic' from 'C:\\\\Users\\\\devna\\\\AppData\\\\Roaming\\\\Python\\\\Python310\\\\site-packages\\\\prompt_toolkit\\\\key_binding\\\\bindings\\\\basic.py'>,\n",
       " 'prompt_toolkit.key_binding.bindings.cpr': <module 'prompt_toolkit.key_binding.bindings.cpr' from 'C:\\\\Users\\\\devna\\\\AppData\\\\Roaming\\\\Python\\\\Python310\\\\site-packages\\\\prompt_toolkit\\\\key_binding\\\\bindings\\\\cpr.py'>,\n",
       " 'prompt_toolkit.key_binding.bindings.emacs': <module 'prompt_toolkit.key_binding.bindings.emacs' from 'C:\\\\Users\\\\devna\\\\AppData\\\\Roaming\\\\Python\\\\Python310\\\\site-packages\\\\prompt_toolkit\\\\key_binding\\\\bindings\\\\emacs.py'>,\n",
       " 'prompt_toolkit.key_binding.bindings.mouse': <module 'prompt_toolkit.key_binding.bindings.mouse' from 'C:\\\\Users\\\\devna\\\\AppData\\\\Roaming\\\\Python\\\\Python310\\\\site-packages\\\\prompt_toolkit\\\\key_binding\\\\bindings\\\\mouse.py'>,\n",
       " 'prompt_toolkit.input.ansi_escape_sequences': <module 'prompt_toolkit.input.ansi_escape_sequences' from 'C:\\\\Users\\\\devna\\\\AppData\\\\Roaming\\\\Python\\\\Python310\\\\site-packages\\\\prompt_toolkit\\\\input\\\\ansi_escape_sequences.py'>,\n",
       " 'prompt_toolkit.input.vt100_parser': <module 'prompt_toolkit.input.vt100_parser' from 'C:\\\\Users\\\\devna\\\\AppData\\\\Roaming\\\\Python\\\\Python310\\\\site-packages\\\\prompt_toolkit\\\\input\\\\vt100_parser.py'>,\n",
       " 'prompt_toolkit.key_binding.digraphs': <module 'prompt_toolkit.key_binding.digraphs' from 'C:\\\\Users\\\\devna\\\\AppData\\\\Roaming\\\\Python\\\\Python310\\\\site-packages\\\\prompt_toolkit\\\\key_binding\\\\digraphs.py'>,\n",
       " 'prompt_toolkit.key_binding.bindings.vi': <module 'prompt_toolkit.key_binding.bindings.vi' from 'C:\\\\Users\\\\devna\\\\AppData\\\\Roaming\\\\Python\\\\Python310\\\\site-packages\\\\prompt_toolkit\\\\key_binding\\\\bindings\\\\vi.py'>,\n",
       " 'prompt_toolkit.key_binding.defaults': <module 'prompt_toolkit.key_binding.defaults' from 'C:\\\\Users\\\\devna\\\\AppData\\\\Roaming\\\\Python\\\\Python310\\\\site-packages\\\\prompt_toolkit\\\\key_binding\\\\defaults.py'>,\n",
       " 'prompt_toolkit.key_binding.emacs_state': <module 'prompt_toolkit.key_binding.emacs_state' from 'C:\\\\Users\\\\devna\\\\AppData\\\\Roaming\\\\Python\\\\Python310\\\\site-packages\\\\prompt_toolkit\\\\key_binding\\\\emacs_state.py'>,\n",
       " 'prompt_toolkit.layout.dummy': <module 'prompt_toolkit.layout.dummy' from 'C:\\\\Users\\\\devna\\\\AppData\\\\Roaming\\\\Python\\\\Python310\\\\site-packages\\\\prompt_toolkit\\\\layout\\\\dummy.py'>,\n",
       " 'prompt_toolkit.renderer': <module 'prompt_toolkit.renderer' from 'C:\\\\Users\\\\devna\\\\AppData\\\\Roaming\\\\Python\\\\Python310\\\\site-packages\\\\prompt_toolkit\\\\renderer.py'>,\n",
       " 'prompt_toolkit.application.application': <module 'prompt_toolkit.application.application' from 'C:\\\\Users\\\\devna\\\\AppData\\\\Roaming\\\\Python\\\\Python310\\\\site-packages\\\\prompt_toolkit\\\\application\\\\application.py'>,\n",
       " 'prompt_toolkit.application.dummy': <module 'prompt_toolkit.application.dummy' from 'C:\\\\Users\\\\devna\\\\AppData\\\\Roaming\\\\Python\\\\Python310\\\\site-packages\\\\prompt_toolkit\\\\application\\\\dummy.py'>,\n",
       " 'prompt_toolkit.application': <module 'prompt_toolkit.application' from 'C:\\\\Users\\\\devna\\\\AppData\\\\Roaming\\\\Python\\\\Python310\\\\site-packages\\\\prompt_toolkit\\\\application\\\\__init__.py'>,\n",
       " 'prompt_toolkit.key_binding.bindings.focus': <module 'prompt_toolkit.key_binding.bindings.focus' from 'C:\\\\Users\\\\devna\\\\AppData\\\\Roaming\\\\Python\\\\Python310\\\\site-packages\\\\prompt_toolkit\\\\key_binding\\\\bindings\\\\focus.py'>,\n",
       " 'prompt_toolkit.widgets.toolbars': <module 'prompt_toolkit.widgets.toolbars' from 'C:\\\\Users\\\\devna\\\\AppData\\\\Roaming\\\\Python\\\\Python310\\\\site-packages\\\\prompt_toolkit\\\\widgets\\\\toolbars.py'>,\n",
       " 'prompt_toolkit.widgets.base': <module 'prompt_toolkit.widgets.base' from 'C:\\\\Users\\\\devna\\\\AppData\\\\Roaming\\\\Python\\\\Python310\\\\site-packages\\\\prompt_toolkit\\\\widgets\\\\base.py'>,\n",
       " 'prompt_toolkit.widgets.dialogs': <module 'prompt_toolkit.widgets.dialogs' from 'C:\\\\Users\\\\devna\\\\AppData\\\\Roaming\\\\Python\\\\Python310\\\\site-packages\\\\prompt_toolkit\\\\widgets\\\\dialogs.py'>,\n",
       " 'prompt_toolkit.widgets.menus': <module 'prompt_toolkit.widgets.menus' from 'C:\\\\Users\\\\devna\\\\AppData\\\\Roaming\\\\Python\\\\Python310\\\\site-packages\\\\prompt_toolkit\\\\widgets\\\\menus.py'>,\n",
       " 'prompt_toolkit.widgets': <module 'prompt_toolkit.widgets' from 'C:\\\\Users\\\\devna\\\\AppData\\\\Roaming\\\\Python\\\\Python310\\\\site-packages\\\\prompt_toolkit\\\\widgets\\\\__init__.py'>,\n",
       " 'prompt_toolkit.shortcuts.dialogs': <module 'prompt_toolkit.shortcuts.dialogs' from 'C:\\\\Users\\\\devna\\\\AppData\\\\Roaming\\\\Python\\\\Python310\\\\site-packages\\\\prompt_toolkit\\\\shortcuts\\\\dialogs.py'>,\n",
       " 'xml.parsers': <module 'xml.parsers' from 'c:\\\\Users\\\\devna\\\\AppData\\\\Local\\\\Programs\\\\Python\\\\Python310\\\\lib\\\\xml\\\\parsers\\\\__init__.py'>,\n",
       " 'pyexpat.errors': <module 'pyexpat.errors'>,\n",
       " 'pyexpat.model': <module 'pyexpat.model'>,\n",
       " 'pyexpat': <module 'pyexpat' from 'c:\\\\Users\\\\devna\\\\AppData\\\\Local\\\\Programs\\\\Python\\\\Python310\\\\DLLs\\\\pyexpat.pyd'>,\n",
       " 'xml.parsers.expat.model': <module 'pyexpat.model'>,\n",
       " 'xml.parsers.expat.errors': <module 'pyexpat.errors'>,\n",
       " 'xml.parsers.expat': <module 'xml.parsers.expat' from 'c:\\\\Users\\\\devna\\\\AppData\\\\Local\\\\Programs\\\\Python\\\\Python310\\\\lib\\\\xml\\\\parsers\\\\expat.py'>,\n",
       " 'xml.dom.expatbuilder': <module 'xml.dom.expatbuilder' from 'c:\\\\Users\\\\devna\\\\AppData\\\\Local\\\\Programs\\\\Python\\\\Python310\\\\lib\\\\xml\\\\dom\\\\expatbuilder.py'>,\n",
       " 'prompt_toolkit.shortcuts.progress_bar.formatters': <module 'prompt_toolkit.shortcuts.progress_bar.formatters' from 'C:\\\\Users\\\\devna\\\\AppData\\\\Roaming\\\\Python\\\\Python310\\\\site-packages\\\\prompt_toolkit\\\\shortcuts\\\\progress_bar\\\\formatters.py'>,\n",
       " 'prompt_toolkit.shortcuts.progress_bar.base': <module 'prompt_toolkit.shortcuts.progress_bar.base' from 'C:\\\\Users\\\\devna\\\\AppData\\\\Roaming\\\\Python\\\\Python310\\\\site-packages\\\\prompt_toolkit\\\\shortcuts\\\\progress_bar\\\\base.py'>,\n",
       " 'prompt_toolkit.shortcuts.progress_bar': <module 'prompt_toolkit.shortcuts.progress_bar' from 'C:\\\\Users\\\\devna\\\\AppData\\\\Roaming\\\\Python\\\\Python310\\\\site-packages\\\\prompt_toolkit\\\\shortcuts\\\\progress_bar\\\\__init__.py'>,\n",
       " 'prompt_toolkit.key_binding.bindings.auto_suggest': <module 'prompt_toolkit.key_binding.bindings.auto_suggest' from 'C:\\\\Users\\\\devna\\\\AppData\\\\Roaming\\\\Python\\\\Python310\\\\site-packages\\\\prompt_toolkit\\\\key_binding\\\\bindings\\\\auto_suggest.py'>,\n",
       " 'prompt_toolkit.key_binding.bindings.open_in_editor': <module 'prompt_toolkit.key_binding.bindings.open_in_editor' from 'C:\\\\Users\\\\devna\\\\AppData\\\\Roaming\\\\Python\\\\Python310\\\\site-packages\\\\prompt_toolkit\\\\key_binding\\\\bindings\\\\open_in_editor.py'>,\n",
       " 'prompt_toolkit.shortcuts.prompt': <module 'prompt_toolkit.shortcuts.prompt' from 'C:\\\\Users\\\\devna\\\\AppData\\\\Roaming\\\\Python\\\\Python310\\\\site-packages\\\\prompt_toolkit\\\\shortcuts\\\\prompt.py'>,\n",
       " 'prompt_toolkit.shortcuts.utils': <module 'prompt_toolkit.shortcuts.utils' from 'C:\\\\Users\\\\devna\\\\AppData\\\\Roaming\\\\Python\\\\Python310\\\\site-packages\\\\prompt_toolkit\\\\shortcuts\\\\utils.py'>,\n",
       " 'prompt_toolkit.shortcuts': <module 'prompt_toolkit.shortcuts' from 'C:\\\\Users\\\\devna\\\\AppData\\\\Roaming\\\\Python\\\\Python310\\\\site-packages\\\\prompt_toolkit\\\\shortcuts\\\\__init__.py'>,\n",
       " 'prompt_toolkit': <module 'prompt_toolkit' from 'C:\\\\Users\\\\devna\\\\AppData\\\\Roaming\\\\Python\\\\Python310\\\\site-packages\\\\prompt_toolkit\\\\__init__.py'>,\n",
       " 'prompt_toolkit.patch_stdout': <module 'prompt_toolkit.patch_stdout' from 'C:\\\\Users\\\\devna\\\\AppData\\\\Roaming\\\\Python\\\\Python310\\\\site-packages\\\\prompt_toolkit\\\\patch_stdout.py'>,\n",
       " 'unicodedata': <module 'unicodedata' from 'c:\\\\Users\\\\devna\\\\AppData\\\\Local\\\\Programs\\\\Python\\\\Python310\\\\DLLs\\\\unicodedata.pyd'>,\n",
       " 'IPython.core.guarded_eval': <module 'IPython.core.guarded_eval' from 'C:\\\\Users\\\\devna\\\\AppData\\\\Roaming\\\\Python\\\\Python310\\\\site-packages\\\\IPython\\\\core\\\\guarded_eval.py'>,\n",
       " 'IPython.core.latex_symbols': <module 'IPython.core.latex_symbols' from 'C:\\\\Users\\\\devna\\\\AppData\\\\Roaming\\\\Python\\\\Python310\\\\site-packages\\\\IPython\\\\core\\\\latex_symbols.py'>,\n",
       " 'IPython.utils.generics': <module 'IPython.utils.generics' from 'C:\\\\Users\\\\devna\\\\AppData\\\\Roaming\\\\Python\\\\Python310\\\\site-packages\\\\IPython\\\\utils\\\\generics.py'>,\n",
       " 'parso.utils': <module 'parso.utils' from 'C:\\\\Users\\\\devna\\\\AppData\\\\Roaming\\\\Python\\\\Python310\\\\site-packages\\\\parso\\\\utils.py'>,\n",
       " 'parso.tree': <module 'parso.tree' from 'C:\\\\Users\\\\devna\\\\AppData\\\\Roaming\\\\Python\\\\Python310\\\\site-packages\\\\parso\\\\tree.py'>,\n",
       " 'parso.python': <module 'parso.python' from 'C:\\\\Users\\\\devna\\\\AppData\\\\Roaming\\\\Python\\\\Python310\\\\site-packages\\\\parso\\\\python\\\\__init__.py'>,\n",
       " 'parso.python.token': <module 'parso.python.token' from 'C:\\\\Users\\\\devna\\\\AppData\\\\Roaming\\\\Python\\\\Python310\\\\site-packages\\\\parso\\\\python\\\\token.py'>,\n",
       " 'parso.python.tokenize': <module 'parso.python.tokenize' from 'C:\\\\Users\\\\devna\\\\AppData\\\\Roaming\\\\Python\\\\Python310\\\\site-packages\\\\parso\\\\python\\\\tokenize.py'>,\n",
       " 'parso.pgen2.grammar_parser': <module 'parso.pgen2.grammar_parser' from 'C:\\\\Users\\\\devna\\\\AppData\\\\Roaming\\\\Python\\\\Python310\\\\site-packages\\\\parso\\\\pgen2\\\\grammar_parser.py'>,\n",
       " 'parso.pgen2.generator': <module 'parso.pgen2.generator' from 'C:\\\\Users\\\\devna\\\\AppData\\\\Roaming\\\\Python\\\\Python310\\\\site-packages\\\\parso\\\\pgen2\\\\generator.py'>,\n",
       " 'parso.pgen2': <module 'parso.pgen2' from 'C:\\\\Users\\\\devna\\\\AppData\\\\Roaming\\\\Python\\\\Python310\\\\site-packages\\\\parso\\\\pgen2\\\\__init__.py'>,\n",
       " 'parso.parser': <module 'parso.parser' from 'C:\\\\Users\\\\devna\\\\AppData\\\\Roaming\\\\Python\\\\Python310\\\\site-packages\\\\parso\\\\parser.py'>,\n",
       " 'parso._compatibility': <module 'parso._compatibility' from 'C:\\\\Users\\\\devna\\\\AppData\\\\Roaming\\\\Python\\\\Python310\\\\site-packages\\\\parso\\\\_compatibility.py'>,\n",
       " 'difflib': <module 'difflib' from 'c:\\\\Users\\\\devna\\\\AppData\\\\Local\\\\Programs\\\\Python\\\\Python310\\\\lib\\\\difflib.py'>,\n",
       " 'parso.python.prefix': <module 'parso.python.prefix' from 'C:\\\\Users\\\\devna\\\\AppData\\\\Roaming\\\\Python\\\\Python310\\\\site-packages\\\\parso\\\\python\\\\prefix.py'>,\n",
       " 'parso.python.tree': <module 'parso.python.tree' from 'C:\\\\Users\\\\devna\\\\AppData\\\\Roaming\\\\Python\\\\Python310\\\\site-packages\\\\parso\\\\python\\\\tree.py'>,\n",
       " 'parso.python.parser': <module 'parso.python.parser' from 'C:\\\\Users\\\\devna\\\\AppData\\\\Roaming\\\\Python\\\\Python310\\\\site-packages\\\\parso\\\\python\\\\parser.py'>,\n",
       " 'parso.python.diff': <module 'parso.python.diff' from 'C:\\\\Users\\\\devna\\\\AppData\\\\Roaming\\\\Python\\\\Python310\\\\site-packages\\\\parso\\\\python\\\\diff.py'>,\n",
       " 'gc': <module 'gc' (built-in)>,\n",
       " 'parso.cache': <module 'parso.cache' from 'C:\\\\Users\\\\devna\\\\AppData\\\\Roaming\\\\Python\\\\Python310\\\\site-packages\\\\parso\\\\cache.py'>,\n",
       " 'parso.normalizer': <module 'parso.normalizer' from 'C:\\\\Users\\\\devna\\\\AppData\\\\Roaming\\\\Python\\\\Python310\\\\site-packages\\\\parso\\\\normalizer.py'>,\n",
       " 'parso.python.errors': <module 'parso.python.errors' from 'C:\\\\Users\\\\devna\\\\AppData\\\\Roaming\\\\Python\\\\Python310\\\\site-packages\\\\parso\\\\python\\\\errors.py'>,\n",
       " 'parso.python.pep8': <module 'parso.python.pep8' from 'C:\\\\Users\\\\devna\\\\AppData\\\\Roaming\\\\Python\\\\Python310\\\\site-packages\\\\parso\\\\python\\\\pep8.py'>,\n",
       " 'parso.file_io': <module 'parso.file_io' from 'C:\\\\Users\\\\devna\\\\AppData\\\\Roaming\\\\Python\\\\Python310\\\\site-packages\\\\parso\\\\file_io.py'>,\n",
       " 'parso.grammar': <module 'parso.grammar' from 'C:\\\\Users\\\\devna\\\\AppData\\\\Roaming\\\\Python\\\\Python310\\\\site-packages\\\\parso\\\\grammar.py'>,\n",
       " 'parso': <module 'parso' from 'C:\\\\Users\\\\devna\\\\AppData\\\\Roaming\\\\Python\\\\Python310\\\\site-packages\\\\parso\\\\__init__.py'>,\n",
       " 'jedi.parser_utils': <module 'jedi.parser_utils' from 'C:\\\\Users\\\\devna\\\\AppData\\\\Roaming\\\\Python\\\\Python310\\\\site-packages\\\\jedi\\\\parser_utils.py'>,\n",
       " 'jedi.debug': <module 'jedi.debug' from 'C:\\\\Users\\\\devna\\\\AppData\\\\Roaming\\\\Python\\\\Python310\\\\site-packages\\\\jedi\\\\debug.py'>,\n",
       " 'jedi.settings': <module 'jedi.settings' from 'C:\\\\Users\\\\devna\\\\AppData\\\\Roaming\\\\Python\\\\Python310\\\\site-packages\\\\jedi\\\\settings.py'>,\n",
       " 'jedi.cache': <module 'jedi.cache' from 'C:\\\\Users\\\\devna\\\\AppData\\\\Roaming\\\\Python\\\\Python310\\\\site-packages\\\\jedi\\\\cache.py'>,\n",
       " 'jedi.file_io': <module 'jedi.file_io' from 'C:\\\\Users\\\\devna\\\\AppData\\\\Roaming\\\\Python\\\\Python310\\\\site-packages\\\\jedi\\\\file_io.py'>,\n",
       " 'jedi.inference.cache': <module 'jedi.inference.cache' from 'C:\\\\Users\\\\devna\\\\AppData\\\\Roaming\\\\Python\\\\Python310\\\\site-packages\\\\jedi\\\\inference\\\\cache.py'>,\n",
       " 'jedi.inference.helpers': <module 'jedi.inference.helpers' from 'C:\\\\Users\\\\devna\\\\AppData\\\\Roaming\\\\Python\\\\Python310\\\\site-packages\\\\jedi\\\\inference\\\\helpers.py'>,\n",
       " 'jedi.inference.utils': <module 'jedi.inference.utils' from 'C:\\\\Users\\\\devna\\\\AppData\\\\Roaming\\\\Python\\\\Python310\\\\site-packages\\\\jedi\\\\inference\\\\utils.py'>,\n",
       " 'jedi.inference.base_value': <module 'jedi.inference.base_value' from 'C:\\\\Users\\\\devna\\\\AppData\\\\Roaming\\\\Python\\\\Python310\\\\site-packages\\\\jedi\\\\inference\\\\base_value.py'>,\n",
       " 'jedi.inference.sys_path': <module 'jedi.inference.sys_path' from 'C:\\\\Users\\\\devna\\\\AppData\\\\Roaming\\\\Python\\\\Python310\\\\site-packages\\\\jedi\\\\inference\\\\sys_path.py'>,\n",
       " 'jedi.inference.recursion': <module 'jedi.inference.recursion' from 'C:\\\\Users\\\\devna\\\\AppData\\\\Roaming\\\\Python\\\\Python310\\\\site-packages\\\\jedi\\\\inference\\\\recursion.py'>,\n",
       " 'jedi.inference.flow_analysis': <module 'jedi.inference.flow_analysis' from 'C:\\\\Users\\\\devna\\\\AppData\\\\Roaming\\\\Python\\\\Python310\\\\site-packages\\\\jedi\\\\inference\\\\flow_analysis.py'>,\n",
       " 'jedi.common': <module 'jedi.common' from 'C:\\\\Users\\\\devna\\\\AppData\\\\Roaming\\\\Python\\\\Python310\\\\site-packages\\\\jedi\\\\common.py'>,\n",
       " 'jedi.inference.lazy_value': <module 'jedi.inference.lazy_value' from 'C:\\\\Users\\\\devna\\\\AppData\\\\Roaming\\\\Python\\\\Python310\\\\site-packages\\\\jedi\\\\inference\\\\lazy_value.py'>,\n",
       " 'jedi.inference.docstrings': <module 'jedi.inference.docstrings' from 'C:\\\\Users\\\\devna\\\\AppData\\\\Roaming\\\\Python\\\\Python310\\\\site-packages\\\\jedi\\\\inference\\\\docstrings.py'>,\n",
       " 'jedi.plugins': <module 'jedi.plugins' from 'C:\\\\Users\\\\devna\\\\AppData\\\\Roaming\\\\Python\\\\Python310\\\\site-packages\\\\jedi\\\\plugins\\\\__init__.py'>,\n",
       " 'jedi.inference.names': <module 'jedi.inference.names' from 'C:\\\\Users\\\\devna\\\\AppData\\\\Roaming\\\\Python\\\\Python310\\\\site-packages\\\\jedi\\\\inference\\\\names.py'>,\n",
       " 'jedi.inference.filters': <module 'jedi.inference.filters' from 'C:\\\\Users\\\\devna\\\\AppData\\\\Roaming\\\\Python\\\\Python310\\\\site-packages\\\\jedi\\\\inference\\\\filters.py'>,\n",
       " 'jedi.inference.compiled.getattr_static': <module 'jedi.inference.compiled.getattr_static' from 'C:\\\\Users\\\\devna\\\\AppData\\\\Roaming\\\\Python\\\\Python310\\\\site-packages\\\\jedi\\\\inference\\\\compiled\\\\getattr_static.py'>,\n",
       " 'jedi.inference.compiled.access': <module 'jedi.inference.compiled.access' from 'C:\\\\Users\\\\devna\\\\AppData\\\\Roaming\\\\Python\\\\Python310\\\\site-packages\\\\jedi\\\\inference\\\\compiled\\\\access.py'>,\n",
       " 'jedi.inference.signature': <module 'jedi.inference.signature' from 'C:\\\\Users\\\\devna\\\\AppData\\\\Roaming\\\\Python\\\\Python310\\\\site-packages\\\\jedi\\\\inference\\\\signature.py'>,\n",
       " 'jedi.inference.context': <module 'jedi.inference.context' from 'C:\\\\Users\\\\devna\\\\AppData\\\\Roaming\\\\Python\\\\Python310\\\\site-packages\\\\jedi\\\\inference\\\\context.py'>,\n",
       " 'jedi.inference.compiled.value': <module 'jedi.inference.compiled.value' from 'C:\\\\Users\\\\devna\\\\AppData\\\\Roaming\\\\Python\\\\Python310\\\\site-packages\\\\jedi\\\\inference\\\\compiled\\\\value.py'>,\n",
       " 'jedi.inference.compiled': <module 'jedi.inference.compiled' from 'C:\\\\Users\\\\devna\\\\AppData\\\\Roaming\\\\Python\\\\Python310\\\\site-packages\\\\jedi\\\\inference\\\\compiled\\\\__init__.py'>,\n",
       " 'jedi.inference.analysis': <module 'jedi.inference.analysis' from 'C:\\\\Users\\\\devna\\\\AppData\\\\Roaming\\\\Python\\\\Python310\\\\site-packages\\\\jedi\\\\inference\\\\analysis.py'>,\n",
       " 'jedi.inference.gradual': <module 'jedi.inference.gradual' from 'C:\\\\Users\\\\devna\\\\AppData\\\\Roaming\\\\Python\\\\Python310\\\\site-packages\\\\jedi\\\\inference\\\\gradual\\\\__init__.py'>,\n",
       " 'jedi.inference.value.module': <module 'jedi.inference.value.module' from 'C:\\\\Users\\\\devna\\\\AppData\\\\Roaming\\\\Python\\\\Python310\\\\site-packages\\\\jedi\\\\inference\\\\value\\\\module.py'>,\n",
       " 'jedi.inference.value.dynamic_arrays': <module 'jedi.inference.value.dynamic_arrays' from 'C:\\\\Users\\\\devna\\\\AppData\\\\Roaming\\\\Python\\\\Python310\\\\site-packages\\\\jedi\\\\inference\\\\value\\\\dynamic_arrays.py'>,\n",
       " 'jedi.inference.value.iterable': <module 'jedi.inference.value.iterable' from 'C:\\\\Users\\\\devna\\\\AppData\\\\Roaming\\\\Python\\\\Python310\\\\site-packages\\\\jedi\\\\inference\\\\value\\\\iterable.py'>,\n",
       " 'jedi.inference.arguments': <module 'jedi.inference.arguments' from 'C:\\\\Users\\\\devna\\\\AppData\\\\Roaming\\\\Python\\\\Python310\\\\site-packages\\\\jedi\\\\inference\\\\arguments.py'>,\n",
       " 'jedi.inference.parser_cache': <module 'jedi.inference.parser_cache' from 'C:\\\\Users\\\\devna\\\\AppData\\\\Roaming\\\\Python\\\\Python310\\\\site-packages\\\\jedi\\\\inference\\\\parser_cache.py'>,\n",
       " 'jedi.inference.gradual.generics': <module 'jedi.inference.gradual.generics' from 'C:\\\\Users\\\\devna\\\\AppData\\\\Roaming\\\\Python\\\\Python310\\\\site-packages\\\\jedi\\\\inference\\\\gradual\\\\generics.py'>,\n",
       " 'jedi.inference.value.function': <module 'jedi.inference.value.function' from 'C:\\\\Users\\\\devna\\\\AppData\\\\Roaming\\\\Python\\\\Python310\\\\site-packages\\\\jedi\\\\inference\\\\value\\\\function.py'>,\n",
       " 'jedi.inference.value.klass': <module 'jedi.inference.value.klass' from 'C:\\\\Users\\\\devna\\\\AppData\\\\Roaming\\\\Python\\\\Python310\\\\site-packages\\\\jedi\\\\inference\\\\value\\\\klass.py'>,\n",
       " 'jedi.inference.value.instance': <module 'jedi.inference.value.instance' from 'C:\\\\Users\\\\devna\\\\AppData\\\\Roaming\\\\Python\\\\Python310\\\\site-packages\\\\jedi\\\\inference\\\\value\\\\instance.py'>,\n",
       " 'jedi.inference.value': <module 'jedi.inference.value' from 'C:\\\\Users\\\\devna\\\\AppData\\\\Roaming\\\\Python\\\\Python310\\\\site-packages\\\\jedi\\\\inference\\\\value\\\\__init__.py'>,\n",
       " 'jedi.inference.gradual.base': <module 'jedi.inference.gradual.base' from 'C:\\\\Users\\\\devna\\\\AppData\\\\Roaming\\\\Python\\\\Python310\\\\site-packages\\\\jedi\\\\inference\\\\gradual\\\\base.py'>,\n",
       " 'jedi.inference.gradual.type_var': <module 'jedi.inference.gradual.type_var' from 'C:\\\\Users\\\\devna\\\\AppData\\\\Roaming\\\\Python\\\\Python310\\\\site-packages\\\\jedi\\\\inference\\\\gradual\\\\type_var.py'>,\n",
       " 'jedi.inference.gradual.typing': <module 'jedi.inference.gradual.typing' from 'C:\\\\Users\\\\devna\\\\AppData\\\\Roaming\\\\Python\\\\Python310\\\\site-packages\\\\jedi\\\\inference\\\\gradual\\\\typing.py'>,\n",
       " 'jedi.inference.gradual.stub_value': <module 'jedi.inference.gradual.stub_value' from 'C:\\\\Users\\\\devna\\\\AppData\\\\Roaming\\\\Python\\\\Python310\\\\site-packages\\\\jedi\\\\inference\\\\gradual\\\\stub_value.py'>,\n",
       " 'jedi.inference.gradual.typeshed': <module 'jedi.inference.gradual.typeshed' from 'C:\\\\Users\\\\devna\\\\AppData\\\\Roaming\\\\Python\\\\Python310\\\\site-packages\\\\jedi\\\\inference\\\\gradual\\\\typeshed.py'>,\n",
       " 'jedi._compatibility': <module 'jedi._compatibility' from 'C:\\\\Users\\\\devna\\\\AppData\\\\Roaming\\\\Python\\\\Python310\\\\site-packages\\\\jedi\\\\_compatibility.py'>,\n",
       " 'jedi.inference.compiled.subprocess.functions': <module 'jedi.inference.compiled.subprocess.functions' from 'C:\\\\Users\\\\devna\\\\AppData\\\\Roaming\\\\Python\\\\Python310\\\\site-packages\\\\jedi\\\\inference\\\\compiled\\\\subprocess\\\\functions.py'>,\n",
       " 'jedi.api.exceptions': <module 'jedi.api.exceptions' from 'C:\\\\Users\\\\devna\\\\AppData\\\\Roaming\\\\Python\\\\Python310\\\\site-packages\\\\jedi\\\\api\\\\exceptions.py'>,\n",
       " 'jedi.inference.compiled.subprocess': <module 'jedi.inference.compiled.subprocess' from 'C:\\\\Users\\\\devna\\\\AppData\\\\Roaming\\\\Python\\\\Python310\\\\site-packages\\\\jedi\\\\inference\\\\compiled\\\\subprocess\\\\__init__.py'>,\n",
       " 'jedi.inference.imports': <module 'jedi.inference.imports' from 'C:\\\\Users\\\\devna\\\\AppData\\\\Roaming\\\\Python\\\\Python310\\\\site-packages\\\\jedi\\\\inference\\\\imports.py'>,\n",
       " 'jedi.inference.param': <module 'jedi.inference.param' from 'C:\\\\Users\\\\devna\\\\AppData\\\\Roaming\\\\Python\\\\Python310\\\\site-packages\\\\jedi\\\\inference\\\\param.py'>,\n",
       " 'jedi.inference.gradual.annotation': <module 'jedi.inference.gradual.annotation' from 'C:\\\\Users\\\\devna\\\\AppData\\\\Roaming\\\\Python\\\\Python310\\\\site-packages\\\\jedi\\\\inference\\\\gradual\\\\annotation.py'>,\n",
       " 'jedi.inference.value.decorator': <module 'jedi.inference.value.decorator' from 'C:\\\\Users\\\\devna\\\\AppData\\\\Roaming\\\\Python\\\\Python310\\\\site-packages\\\\jedi\\\\inference\\\\value\\\\decorator.py'>,\n",
       " 'jedi.inference.syntax_tree': <module 'jedi.inference.syntax_tree' from 'C:\\\\Users\\\\devna\\\\AppData\\\\Roaming\\\\Python\\\\Python310\\\\site-packages\\\\jedi\\\\inference\\\\syntax_tree.py'>,\n",
       " 'jedi.inference': <module 'jedi.inference' from 'C:\\\\Users\\\\devna\\\\AppData\\\\Roaming\\\\Python\\\\Python310\\\\site-packages\\\\jedi\\\\inference\\\\__init__.py'>,\n",
       " 'jedi.inference.gradual.conversion': <module 'jedi.inference.gradual.conversion' from 'C:\\\\Users\\\\devna\\\\AppData\\\\Roaming\\\\Python\\\\Python310\\\\site-packages\\\\jedi\\\\inference\\\\gradual\\\\conversion.py'>,\n",
       " 'jedi.inference.compiled.mixed': <module 'jedi.inference.compiled.mixed' from 'C:\\\\Users\\\\devna\\\\AppData\\\\Roaming\\\\Python\\\\Python310\\\\site-packages\\\\jedi\\\\inference\\\\compiled\\\\mixed.py'>,\n",
       " 'pydoc_data': <module 'pydoc_data' from 'c:\\\\Users\\\\devna\\\\AppData\\\\Local\\\\Programs\\\\Python\\\\Python310\\\\lib\\\\pydoc_data\\\\__init__.py'>,\n",
       " 'pydoc_data.topics': <module 'pydoc_data.topics' from 'c:\\\\Users\\\\devna\\\\AppData\\\\Local\\\\Programs\\\\Python\\\\Python310\\\\lib\\\\pydoc_data\\\\topics.py'>,\n",
       " 'jedi.api.keywords': <module 'jedi.api.keywords' from 'C:\\\\Users\\\\devna\\\\AppData\\\\Roaming\\\\Python\\\\Python310\\\\site-packages\\\\jedi\\\\api\\\\keywords.py'>,\n",
       " 'jedi.api.completion_cache': <module 'jedi.api.completion_cache' from 'C:\\\\Users\\\\devna\\\\AppData\\\\Roaming\\\\Python\\\\Python310\\\\site-packages\\\\jedi\\\\api\\\\completion_cache.py'>,\n",
       " 'jedi.api.helpers': <module 'jedi.api.helpers' from 'C:\\\\Users\\\\devna\\\\AppData\\\\Roaming\\\\Python\\\\Python310\\\\site-packages\\\\jedi\\\\api\\\\helpers.py'>,\n",
       " 'jedi.api.classes': <module 'jedi.api.classes' from 'C:\\\\Users\\\\devna\\\\AppData\\\\Roaming\\\\Python\\\\Python310\\\\site-packages\\\\jedi\\\\api\\\\classes.py'>,\n",
       " 'jedi.api.interpreter': <module 'jedi.api.interpreter' from 'C:\\\\Users\\\\devna\\\\AppData\\\\Roaming\\\\Python\\\\Python310\\\\site-packages\\\\jedi\\\\api\\\\interpreter.py'>,\n",
       " 'jedi.api.strings': <module 'jedi.api.strings' from 'C:\\\\Users\\\\devna\\\\AppData\\\\Roaming\\\\Python\\\\Python310\\\\site-packages\\\\jedi\\\\api\\\\strings.py'>,\n",
       " 'jedi.api.file_name': <module 'jedi.api.file_name' from 'C:\\\\Users\\\\devna\\\\AppData\\\\Roaming\\\\Python\\\\Python310\\\\site-packages\\\\jedi\\\\api\\\\file_name.py'>,\n",
       " 'jedi.inference.docstring_utils': <module 'jedi.inference.docstring_utils' from 'C:\\\\Users\\\\devna\\\\AppData\\\\Roaming\\\\Python\\\\Python310\\\\site-packages\\\\jedi\\\\inference\\\\docstring_utils.py'>,\n",
       " 'jedi.api.completion': <module 'jedi.api.completion' from 'C:\\\\Users\\\\devna\\\\AppData\\\\Roaming\\\\Python\\\\Python310\\\\site-packages\\\\jedi\\\\api\\\\completion.py'>,\n",
       " 'filecmp': <module 'filecmp' from 'c:\\\\Users\\\\devna\\\\AppData\\\\Local\\\\Programs\\\\Python\\\\Python310\\\\lib\\\\filecmp.py'>,\n",
       " 'jedi.api.environment': <module 'jedi.api.environment' from 'C:\\\\Users\\\\devna\\\\AppData\\\\Roaming\\\\Python\\\\Python310\\\\site-packages\\\\jedi\\\\api\\\\environment.py'>,\n",
       " 'jedi.inference.references': <module 'jedi.inference.references' from 'C:\\\\Users\\\\devna\\\\AppData\\\\Roaming\\\\Python\\\\Python310\\\\site-packages\\\\jedi\\\\inference\\\\references.py'>,\n",
       " 'jedi.api.project': <module 'jedi.api.project' from 'C:\\\\Users\\\\devna\\\\AppData\\\\Roaming\\\\Python\\\\Python310\\\\site-packages\\\\jedi\\\\api\\\\project.py'>,\n",
       " 'jedi.api.errors': <module 'jedi.api.errors' from 'C:\\\\Users\\\\devna\\\\AppData\\\\Roaming\\\\Python\\\\Python310\\\\site-packages\\\\jedi\\\\api\\\\errors.py'>,\n",
       " 'jedi.inference.value.namespace': <module 'jedi.inference.value.namespace' from 'C:\\\\Users\\\\devna\\\\AppData\\\\Roaming\\\\Python\\\\Python310\\\\site-packages\\\\jedi\\\\inference\\\\value\\\\namespace.py'>,\n",
       " 'jedi.api.refactoring': <module 'jedi.api.refactoring' from 'C:\\\\Users\\\\devna\\\\AppData\\\\Roaming\\\\Python\\\\Python310\\\\site-packages\\\\jedi\\\\api\\\\refactoring\\\\__init__.py'>,\n",
       " 'jedi.api.refactoring.extract': <module 'jedi.api.refactoring.extract' from 'C:\\\\Users\\\\devna\\\\AppData\\\\Roaming\\\\Python\\\\Python310\\\\site-packages\\\\jedi\\\\api\\\\refactoring\\\\extract.py'>,\n",
       " 'jedi.inference.gradual.utils': <module 'jedi.inference.gradual.utils' from 'C:\\\\Users\\\\devna\\\\AppData\\\\Roaming\\\\Python\\\\Python310\\\\site-packages\\\\jedi\\\\inference\\\\gradual\\\\utils.py'>,\n",
       " 'jedi.api': <module 'jedi.api' from 'C:\\\\Users\\\\devna\\\\AppData\\\\Roaming\\\\Python\\\\Python310\\\\site-packages\\\\jedi\\\\api\\\\__init__.py'>,\n",
       " 'jedi.plugins.stdlib': <module 'jedi.plugins.stdlib' from 'C:\\\\Users\\\\devna\\\\AppData\\\\Roaming\\\\Python\\\\Python310\\\\site-packages\\\\jedi\\\\plugins\\\\stdlib.py'>,\n",
       " 'jedi.plugins.flask': <module 'jedi.plugins.flask' from 'C:\\\\Users\\\\devna\\\\AppData\\\\Roaming\\\\Python\\\\Python310\\\\site-packages\\\\jedi\\\\plugins\\\\flask.py'>,\n",
       " 'jedi.plugins.pytest': <module 'jedi.plugins.pytest' from 'C:\\\\Users\\\\devna\\\\AppData\\\\Roaming\\\\Python\\\\Python310\\\\site-packages\\\\jedi\\\\plugins\\\\pytest.py'>,\n",
       " 'jedi.plugins.django': <module 'jedi.plugins.django' from 'C:\\\\Users\\\\devna\\\\AppData\\\\Roaming\\\\Python\\\\Python310\\\\site-packages\\\\jedi\\\\plugins\\\\django.py'>,\n",
       " 'jedi.plugins.registry': <module 'jedi.plugins.registry' from 'C:\\\\Users\\\\devna\\\\AppData\\\\Roaming\\\\Python\\\\Python310\\\\site-packages\\\\jedi\\\\plugins\\\\registry.py'>,\n",
       " 'jedi': <module 'jedi' from 'C:\\\\Users\\\\devna\\\\AppData\\\\Roaming\\\\Python\\\\Python310\\\\site-packages\\\\jedi\\\\__init__.py'>,\n",
       " 'IPython.core.completer': <module 'IPython.core.completer' from 'C:\\\\Users\\\\devna\\\\AppData\\\\Roaming\\\\Python\\\\Python310\\\\site-packages\\\\IPython\\\\core\\\\completer.py'>,\n",
       " 'IPython.terminal.ptutils': <module 'IPython.terminal.ptutils' from 'C:\\\\Users\\\\devna\\\\AppData\\\\Roaming\\\\Python\\\\Python310\\\\site-packages\\\\IPython\\\\terminal\\\\ptutils.py'>,\n",
       " 'IPython.terminal.shortcuts.auto_match': <module 'IPython.terminal.shortcuts.auto_match' from 'C:\\\\Users\\\\devna\\\\AppData\\\\Roaming\\\\Python\\\\Python310\\\\site-packages\\\\IPython\\\\terminal\\\\shortcuts\\\\auto_match.py'>,\n",
       " 'IPython.terminal.shortcuts.filters': <module 'IPython.terminal.shortcuts.filters' from 'C:\\\\Users\\\\devna\\\\AppData\\\\Roaming\\\\Python\\\\Python310\\\\site-packages\\\\IPython\\\\terminal\\\\shortcuts\\\\filters.py'>,\n",
       " 'IPython.terminal.shortcuts.auto_suggest': <module 'IPython.terminal.shortcuts.auto_suggest' from 'C:\\\\Users\\\\devna\\\\AppData\\\\Roaming\\\\Python\\\\Python310\\\\site-packages\\\\IPython\\\\terminal\\\\shortcuts\\\\auto_suggest.py'>,\n",
       " 'IPython.lib.clipboard': <module 'IPython.lib.clipboard' from 'C:\\\\Users\\\\devna\\\\AppData\\\\Roaming\\\\Python\\\\Python310\\\\site-packages\\\\IPython\\\\lib\\\\clipboard.py'>,\n",
       " 'IPython.terminal.shortcuts': <module 'IPython.terminal.shortcuts' from 'C:\\\\Users\\\\devna\\\\AppData\\\\Roaming\\\\Python\\\\Python310\\\\site-packages\\\\IPython\\\\terminal\\\\shortcuts\\\\__init__.py'>,\n",
       " 'concurrent.futures.thread': <module 'concurrent.futures.thread' from 'c:\\\\Users\\\\devna\\\\AppData\\\\Local\\\\Programs\\\\Python\\\\Python310\\\\lib\\\\concurrent\\\\futures\\\\thread.py'>,\n",
       " 'IPython.terminal.debugger': <module 'IPython.terminal.debugger' from 'C:\\\\Users\\\\devna\\\\AppData\\\\Roaming\\\\Python\\\\Python310\\\\site-packages\\\\IPython\\\\terminal\\\\debugger.py'>,\n",
       " 'IPython.terminal.magics': <module 'IPython.terminal.magics' from 'C:\\\\Users\\\\devna\\\\AppData\\\\Roaming\\\\Python\\\\Python310\\\\site-packages\\\\IPython\\\\terminal\\\\magics.py'>,\n",
       " 'IPython.terminal.pt_inputhooks': <module 'IPython.terminal.pt_inputhooks' from 'C:\\\\Users\\\\devna\\\\AppData\\\\Roaming\\\\Python\\\\Python310\\\\site-packages\\\\IPython\\\\terminal\\\\pt_inputhooks\\\\__init__.py'>,\n",
       " 'IPython.terminal.prompts': <module 'IPython.terminal.prompts' from 'C:\\\\Users\\\\devna\\\\AppData\\\\Roaming\\\\Python\\\\Python310\\\\site-packages\\\\IPython\\\\terminal\\\\prompts.py'>,\n",
       " 'IPython.terminal.interactiveshell': <module 'IPython.terminal.interactiveshell' from 'C:\\\\Users\\\\devna\\\\AppData\\\\Roaming\\\\Python\\\\Python310\\\\site-packages\\\\IPython\\\\terminal\\\\interactiveshell.py'>,\n",
       " 'IPython.core.magics.auto': <module 'IPython.core.magics.auto' from 'C:\\\\Users\\\\devna\\\\AppData\\\\Roaming\\\\Python\\\\Python310\\\\site-packages\\\\IPython\\\\core\\\\magics\\\\auto.py'>,\n",
       " 'IPython.core.magics.basic': <module 'IPython.core.magics.basic' from 'C:\\\\Users\\\\devna\\\\AppData\\\\Roaming\\\\Python\\\\Python310\\\\site-packages\\\\IPython\\\\core\\\\magics\\\\basic.py'>,\n",
       " 'http': <module 'http' from 'c:\\\\Users\\\\devna\\\\AppData\\\\Local\\\\Programs\\\\Python\\\\Python310\\\\lib\\\\http\\\\__init__.py'>,\n",
       " 'email.feedparser': <module 'email.feedparser' from 'c:\\\\Users\\\\devna\\\\AppData\\\\Local\\\\Programs\\\\Python\\\\Python310\\\\lib\\\\email\\\\feedparser.py'>,\n",
       " 'email.parser': <module 'email.parser' from 'c:\\\\Users\\\\devna\\\\AppData\\\\Local\\\\Programs\\\\Python\\\\Python310\\\\lib\\\\email\\\\parser.py'>,\n",
       " 'http.client': <module 'http.client' from 'c:\\\\Users\\\\devna\\\\AppData\\\\Local\\\\Programs\\\\Python\\\\Python310\\\\lib\\\\http\\\\client.py'>,\n",
       " 'urllib.response': <module 'urllib.response' from 'c:\\\\Users\\\\devna\\\\AppData\\\\Local\\\\Programs\\\\Python\\\\Python310\\\\lib\\\\urllib\\\\response.py'>,\n",
       " 'urllib.error': <module 'urllib.error' from 'c:\\\\Users\\\\devna\\\\AppData\\\\Local\\\\Programs\\\\Python\\\\Python310\\\\lib\\\\urllib\\\\error.py'>,\n",
       " 'nturl2path': <module 'nturl2path' from 'c:\\\\Users\\\\devna\\\\AppData\\\\Local\\\\Programs\\\\Python\\\\Python310\\\\lib\\\\nturl2path.py'>,\n",
       " 'urllib.request': <module 'urllib.request' from 'c:\\\\Users\\\\devna\\\\AppData\\\\Local\\\\Programs\\\\Python\\\\Python310\\\\lib\\\\urllib\\\\request.py'>,\n",
       " 'IPython.utils.contexts': <module 'IPython.utils.contexts' from 'C:\\\\Users\\\\devna\\\\AppData\\\\Roaming\\\\Python\\\\Python310\\\\site-packages\\\\IPython\\\\utils\\\\contexts.py'>,\n",
       " 'IPython.core.magics.code': <module 'IPython.core.magics.code' from 'C:\\\\Users\\\\devna\\\\AppData\\\\Roaming\\\\Python\\\\Python310\\\\site-packages\\\\IPython\\\\core\\\\magics\\\\code.py'>,\n",
       " 'IPython.core.magics.config': <module 'IPython.core.magics.config' from 'C:\\\\Users\\\\devna\\\\AppData\\\\Roaming\\\\Python\\\\Python310\\\\site-packages\\\\IPython\\\\core\\\\magics\\\\config.py'>,\n",
       " 'IPython.core.magics.display': <module 'IPython.core.magics.display' from 'C:\\\\Users\\\\devna\\\\AppData\\\\Roaming\\\\Python\\\\Python310\\\\site-packages\\\\IPython\\\\core\\\\magics\\\\display.py'>,\n",
       " '_lsprof': <module '_lsprof' (built-in)>,\n",
       " 'profile': <module 'profile' from 'c:\\\\Users\\\\devna\\\\AppData\\\\Local\\\\Programs\\\\Python\\\\Python310\\\\lib\\\\profile.py'>,\n",
       " 'cProfile': <module 'cProfile' from 'c:\\\\Users\\\\devna\\\\AppData\\\\Local\\\\Programs\\\\Python\\\\Python310\\\\lib\\\\cProfile.py'>,\n",
       " 'pstats': <module 'pstats' from 'c:\\\\Users\\\\devna\\\\AppData\\\\Local\\\\Programs\\\\Python\\\\Python310\\\\lib\\\\pstats.py'>,\n",
       " 'timeit': <module 'timeit' from 'c:\\\\Users\\\\devna\\\\AppData\\\\Local\\\\Programs\\\\Python\\\\Python310\\\\lib\\\\timeit.py'>,\n",
       " 'IPython.utils.module_paths': <module 'IPython.utils.module_paths' from 'C:\\\\Users\\\\devna\\\\AppData\\\\Roaming\\\\Python\\\\Python310\\\\site-packages\\\\IPython\\\\utils\\\\module_paths.py'>,\n",
       " 'IPython.utils.timing': <module 'IPython.utils.timing' from 'C:\\\\Users\\\\devna\\\\AppData\\\\Roaming\\\\Python\\\\Python310\\\\site-packages\\\\IPython\\\\utils\\\\timing.py'>,\n",
       " 'IPython.core.magics.ast_mod': <module 'IPython.core.magics.ast_mod' from 'C:\\\\Users\\\\devna\\\\AppData\\\\Roaming\\\\Python\\\\Python310\\\\site-packages\\\\IPython\\\\core\\\\magics\\\\ast_mod.py'>,\n",
       " 'IPython.core.magics.execution': <module 'IPython.core.magics.execution' from 'C:\\\\Users\\\\devna\\\\AppData\\\\Roaming\\\\Python\\\\Python310\\\\site-packages\\\\IPython\\\\core\\\\magics\\\\execution.py'>,\n",
       " 'IPython.core.magics.extension': <module 'IPython.core.magics.extension' from 'C:\\\\Users\\\\devna\\\\AppData\\\\Roaming\\\\Python\\\\Python310\\\\site-packages\\\\IPython\\\\core\\\\magics\\\\extension.py'>,\n",
       " 'IPython.core.magics.history': <module 'IPython.core.magics.history' from 'C:\\\\Users\\\\devna\\\\AppData\\\\Roaming\\\\Python\\\\Python310\\\\site-packages\\\\IPython\\\\core\\\\magics\\\\history.py'>,\n",
       " 'IPython.core.magics.logging': <module 'IPython.core.magics.logging' from 'C:\\\\Users\\\\devna\\\\AppData\\\\Roaming\\\\Python\\\\Python310\\\\site-packages\\\\IPython\\\\core\\\\magics\\\\logging.py'>,\n",
       " 'IPython.core.magics.namespace': <module 'IPython.core.magics.namespace' from 'C:\\\\Users\\\\devna\\\\AppData\\\\Roaming\\\\Python\\\\Python310\\\\site-packages\\\\IPython\\\\core\\\\magics\\\\namespace.py'>,\n",
       " 'IPython.core.magics.osm': <module 'IPython.core.magics.osm' from 'C:\\\\Users\\\\devna\\\\AppData\\\\Roaming\\\\Python\\\\Python310\\\\site-packages\\\\IPython\\\\core\\\\magics\\\\osm.py'>,\n",
       " 'IPython.core.magics.packaging': <module 'IPython.core.magics.packaging' from 'C:\\\\Users\\\\devna\\\\AppData\\\\Roaming\\\\Python\\\\Python310\\\\site-packages\\\\IPython\\\\core\\\\magics\\\\packaging.py'>,\n",
       " 'IPython.core.magics.pylab': <module 'IPython.core.magics.pylab' from 'C:\\\\Users\\\\devna\\\\AppData\\\\Roaming\\\\Python\\\\Python310\\\\site-packages\\\\IPython\\\\core\\\\magics\\\\pylab.py'>,\n",
       " 'IPython.core.magics.script': <module 'IPython.core.magics.script' from 'C:\\\\Users\\\\devna\\\\AppData\\\\Roaming\\\\Python\\\\Python310\\\\site-packages\\\\IPython\\\\core\\\\magics\\\\script.py'>,\n",
       " 'IPython.core.magics': <module 'IPython.core.magics' from 'C:\\\\Users\\\\devna\\\\AppData\\\\Roaming\\\\Python\\\\Python310\\\\site-packages\\\\IPython\\\\core\\\\magics\\\\__init__.py'>,\n",
       " 'IPython.core.shellapp': <module 'IPython.core.shellapp' from 'C:\\\\Users\\\\devna\\\\AppData\\\\Roaming\\\\Python\\\\Python310\\\\site-packages\\\\IPython\\\\core\\\\shellapp.py'>,\n",
       " 'IPython.extensions': <module 'IPython.extensions' from 'C:\\\\Users\\\\devna\\\\AppData\\\\Roaming\\\\Python\\\\Python310\\\\site-packages\\\\IPython\\\\extensions\\\\__init__.py'>,\n",
       " 'IPython.extensions.storemagic': <module 'IPython.extensions.storemagic' from 'C:\\\\Users\\\\devna\\\\AppData\\\\Roaming\\\\Python\\\\Python310\\\\site-packages\\\\IPython\\\\extensions\\\\storemagic.py'>,\n",
       " 'IPython.terminal.ipapp': <module 'IPython.terminal.ipapp' from 'C:\\\\Users\\\\devna\\\\AppData\\\\Roaming\\\\Python\\\\Python310\\\\site-packages\\\\IPython\\\\terminal\\\\ipapp.py'>,\n",
       " 'IPython.terminal.embed': <module 'IPython.terminal.embed' from 'C:\\\\Users\\\\devna\\\\AppData\\\\Roaming\\\\Python\\\\Python310\\\\site-packages\\\\IPython\\\\terminal\\\\embed.py'>,\n",
       " 'IPython.utils.frame': <module 'IPython.utils.frame' from 'C:\\\\Users\\\\devna\\\\AppData\\\\Roaming\\\\Python\\\\Python310\\\\site-packages\\\\IPython\\\\utils\\\\frame.py'>,\n",
       " 'IPython': <module 'IPython' from 'C:\\\\Users\\\\devna\\\\AppData\\\\Roaming\\\\Python\\\\Python310\\\\site-packages\\\\IPython\\\\__init__.py'>,\n",
       " 'ipykernel.control': <module 'ipykernel.control' from 'C:\\\\Users\\\\devna\\\\AppData\\\\Roaming\\\\Python\\\\Python310\\\\site-packages\\\\ipykernel\\\\control.py'>,\n",
       " 'ipykernel.heartbeat': <module 'ipykernel.heartbeat' from 'C:\\\\Users\\\\devna\\\\AppData\\\\Roaming\\\\Python\\\\Python310\\\\site-packages\\\\ipykernel\\\\heartbeat.py'>,\n",
       " 'ipykernel.iostream': <module 'ipykernel.iostream' from 'C:\\\\Users\\\\devna\\\\AppData\\\\Roaming\\\\Python\\\\Python310\\\\site-packages\\\\ipykernel\\\\iostream.py'>,\n",
       " 'comm.base_comm': <module 'comm.base_comm' from 'C:\\\\Users\\\\devna\\\\AppData\\\\Roaming\\\\Python\\\\Python310\\\\site-packages\\\\comm\\\\base_comm.py'>,\n",
       " 'comm': <module 'comm' from 'C:\\\\Users\\\\devna\\\\AppData\\\\Roaming\\\\Python\\\\Python310\\\\site-packages\\\\comm\\\\__init__.py'>,\n",
       " 'ipykernel.jsonutil': <module 'ipykernel.jsonutil' from 'C:\\\\Users\\\\devna\\\\AppData\\\\Roaming\\\\Python\\\\Python310\\\\site-packages\\\\ipykernel\\\\jsonutil.py'>,\n",
       " 'psutil._common': <module 'psutil._common' from 'C:\\\\Users\\\\devna\\\\AppData\\\\Roaming\\\\Python\\\\Python310\\\\site-packages\\\\psutil\\\\_common.py'>,\n",
       " 'psutil._compat': <module 'psutil._compat' from 'C:\\\\Users\\\\devna\\\\AppData\\\\Roaming\\\\Python\\\\Python310\\\\site-packages\\\\psutil\\\\_compat.py'>,\n",
       " 'psutil._psutil_windows': <module 'psutil._psutil_windows' from 'C:\\\\Users\\\\devna\\\\AppData\\\\Roaming\\\\Python\\\\Python310\\\\site-packages\\\\psutil\\\\_psutil_windows.pyd'>,\n",
       " 'psutil._pswindows': <module 'psutil._pswindows' from 'C:\\\\Users\\\\devna\\\\AppData\\\\Roaming\\\\Python\\\\Python310\\\\site-packages\\\\psutil\\\\_pswindows.py'>,\n",
       " 'psutil': <module 'psutil' from 'C:\\\\Users\\\\devna\\\\AppData\\\\Roaming\\\\Python\\\\Python310\\\\site-packages\\\\psutil\\\\__init__.py'>,\n",
       " 'tornado.gen': <module 'tornado.gen' from 'C:\\\\Users\\\\devna\\\\AppData\\\\Roaming\\\\Python\\\\Python310\\\\site-packages\\\\tornado\\\\gen.py'>,\n",
       " 'tornado.locks': <module 'tornado.locks' from 'C:\\\\Users\\\\devna\\\\AppData\\\\Roaming\\\\Python\\\\Python310\\\\site-packages\\\\tornado\\\\locks.py'>,\n",
       " 'tornado.queues': <module 'tornado.queues' from 'C:\\\\Users\\\\devna\\\\AppData\\\\Roaming\\\\Python\\\\Python310\\\\site-packages\\\\tornado\\\\queues.py'>,\n",
       " 'ipykernel.kernelbase': <module 'ipykernel.kernelbase' from 'C:\\\\Users\\\\devna\\\\AppData\\\\Roaming\\\\Python\\\\Python310\\\\site-packages\\\\ipykernel\\\\kernelbase.py'>,\n",
       " 'ipykernel.comm.comm': <module 'ipykernel.comm.comm' from 'C:\\\\Users\\\\devna\\\\AppData\\\\Roaming\\\\Python\\\\Python310\\\\site-packages\\\\ipykernel\\\\comm\\\\comm.py'>,\n",
       " 'ipykernel.comm.manager': <module 'ipykernel.comm.manager' from 'C:\\\\Users\\\\devna\\\\AppData\\\\Roaming\\\\Python\\\\Python310\\\\site-packages\\\\ipykernel\\\\comm\\\\manager.py'>,\n",
       " 'ipykernel.comm': <module 'ipykernel.comm' from 'C:\\\\Users\\\\devna\\\\AppData\\\\Roaming\\\\Python\\\\Python310\\\\site-packages\\\\ipykernel\\\\comm\\\\__init__.py'>,\n",
       " 'ipykernel.compiler': <module 'ipykernel.compiler' from 'C:\\\\Users\\\\devna\\\\AppData\\\\Roaming\\\\Python\\\\Python310\\\\site-packages\\\\ipykernel\\\\compiler.py'>,\n",
       " 'packaging': <module 'packaging' from 'C:\\\\Users\\\\devna\\\\AppData\\\\Roaming\\\\Python\\\\Python310\\\\site-packages\\\\packaging\\\\__init__.py'>,\n",
       " 'packaging._structures': <module 'packaging._structures' from 'C:\\\\Users\\\\devna\\\\AppData\\\\Roaming\\\\Python\\\\Python310\\\\site-packages\\\\packaging\\\\_structures.py'>,\n",
       " 'packaging.version': <module 'packaging.version' from 'C:\\\\Users\\\\devna\\\\AppData\\\\Roaming\\\\Python\\\\Python310\\\\site-packages\\\\packaging\\\\version.py'>,\n",
       " 'ipykernel.eventloops': <module 'ipykernel.eventloops' from 'C:\\\\Users\\\\devna\\\\AppData\\\\Roaming\\\\Python\\\\Python310\\\\site-packages\\\\ipykernel\\\\eventloops.py'>,\n",
       " 'IPython.core.payloadpage': <module 'IPython.core.payloadpage' from 'C:\\\\Users\\\\devna\\\\AppData\\\\Roaming\\\\Python\\\\Python310\\\\site-packages\\\\IPython\\\\core\\\\payloadpage.py'>,\n",
       " 'ipykernel.displayhook': <module 'ipykernel.displayhook' from 'C:\\\\Users\\\\devna\\\\AppData\\\\Roaming\\\\Python\\\\Python310\\\\site-packages\\\\ipykernel\\\\displayhook.py'>,\n",
       " 'ipykernel.zmqshell': <module 'ipykernel.zmqshell' from 'C:\\\\Users\\\\devna\\\\AppData\\\\Roaming\\\\Python\\\\Python310\\\\site-packages\\\\ipykernel\\\\zmqshell.py'>,\n",
       " 'ipykernel.ipkernel': <module 'ipykernel.ipkernel' from 'C:\\\\Users\\\\devna\\\\AppData\\\\Roaming\\\\Python\\\\Python310\\\\site-packages\\\\ipykernel\\\\ipkernel.py'>,\n",
       " 'ipykernel.parentpoller': <module 'ipykernel.parentpoller' from 'C:\\\\Users\\\\devna\\\\AppData\\\\Roaming\\\\Python\\\\Python310\\\\site-packages\\\\ipykernel\\\\parentpoller.py'>,\n",
       " 'ipykernel.kernelapp': <module 'ipykernel.kernelapp' from 'C:\\\\Users\\\\devna\\\\AppData\\\\Roaming\\\\Python\\\\Python310\\\\site-packages\\\\ipykernel\\\\kernelapp.py'>,\n",
       " 'tornado.platform': <module 'tornado.platform' from 'C:\\\\Users\\\\devna\\\\AppData\\\\Roaming\\\\Python\\\\Python310\\\\site-packages\\\\tornado\\\\platform\\\\__init__.py'>,\n",
       " 'tornado.platform.asyncio': <module 'tornado.platform.asyncio' from 'C:\\\\Users\\\\devna\\\\AppData\\\\Roaming\\\\Python\\\\Python310\\\\site-packages\\\\tornado\\\\platform\\\\asyncio.py'>,\n",
       " 'faulthandler': <module 'faulthandler' (built-in)>,\n",
       " 'debugpy._version': <module 'debugpy._version' from 'C:\\\\Users\\\\devna\\\\AppData\\\\Roaming\\\\Python\\\\Python310\\\\site-packages\\\\debugpy\\\\_version.py'>,\n",
       " 'debugpy.public_api': <module 'debugpy.public_api' from 'C:\\\\Users\\\\devna\\\\AppData\\\\Roaming\\\\Python\\\\Python310\\\\site-packages\\\\debugpy\\\\public_api.py'>,\n",
       " 'debugpy': <module 'debugpy' from 'C:\\\\Users\\\\devna\\\\AppData\\\\Roaming\\\\Python\\\\Python310\\\\site-packages\\\\debugpy\\\\__init__.py'>,\n",
       " 'debugpy._vendored._util': <module 'debugpy._vendored._util' from 'C:\\\\Users\\\\devna\\\\AppData\\\\Roaming\\\\Python\\\\Python310\\\\site-packages\\\\debugpy\\\\_vendored\\\\_util.py'>,\n",
       " 'debugpy._vendored': <module 'debugpy._vendored' from 'C:\\\\Users\\\\devna\\\\AppData\\\\Roaming\\\\Python\\\\Python310\\\\site-packages\\\\debugpy\\\\_vendored\\\\__init__.py'>,\n",
       " '_pydevd_bundle': <module '_pydevd_bundle' from 'C:\\\\Users\\\\devna\\\\AppData\\\\Roaming\\\\Python\\\\Python310\\\\site-packages\\\\debugpy\\\\_vendored\\\\pydevd\\\\_pydevd_bundle\\\\__init__.py'>,\n",
       " 'encodings.ascii': <module 'encodings.ascii' from 'c:\\\\Users\\\\devna\\\\AppData\\\\Local\\\\Programs\\\\Python\\\\Python310\\\\lib\\\\encodings\\\\ascii.py'>,\n",
       " 'encodings.latin_1': <module 'encodings.latin_1' from 'c:\\\\Users\\\\devna\\\\AppData\\\\Local\\\\Programs\\\\Python\\\\Python310\\\\lib\\\\encodings\\\\latin_1.py'>,\n",
       " 'stringprep': <module 'stringprep' from 'c:\\\\Users\\\\devna\\\\AppData\\\\Local\\\\Programs\\\\Python\\\\Python310\\\\lib\\\\stringprep.py'>,\n",
       " 'encodings.idna': <module 'encodings.idna' from 'c:\\\\Users\\\\devna\\\\AppData\\\\Local\\\\Programs\\\\Python\\\\Python310\\\\lib\\\\encodings\\\\idna.py'>,\n",
       " '_pydevd_bundle.pydevd_vm_type': <module '_pydevd_bundle.pydevd_vm_type' from 'C:\\\\Users\\\\devna\\\\AppData\\\\Roaming\\\\Python\\\\Python310\\\\site-packages\\\\debugpy\\\\_vendored\\\\pydevd\\\\_pydevd_bundle\\\\pydevd_vm_type.py'>,\n",
       " '_pydev_bundle': <module '_pydev_bundle' from 'C:\\\\Users\\\\devna\\\\AppData\\\\Roaming\\\\Python\\\\Python310\\\\site-packages\\\\debugpy\\\\_vendored\\\\pydevd\\\\_pydev_bundle\\\\__init__.py'>,\n",
       " 'xmlrpc': <module 'xmlrpc' from 'c:\\\\Users\\\\devna\\\\AppData\\\\Local\\\\Programs\\\\Python\\\\Python310\\\\lib\\\\xmlrpc\\\\__init__.py'>,\n",
       " 'gzip': <module 'gzip' from 'c:\\\\Users\\\\devna\\\\AppData\\\\Local\\\\Programs\\\\Python\\\\Python310\\\\lib\\\\gzip.py'>,\n",
       " 'xmlrpc.client': <module 'xmlrpc.client' from 'c:\\\\Users\\\\devna\\\\AppData\\\\Local\\\\Programs\\\\Python\\\\Python310\\\\lib\\\\xmlrpc\\\\client.py'>,\n",
       " 'http.server': <module 'http.server' from 'c:\\\\Users\\\\devna\\\\AppData\\\\Local\\\\Programs\\\\Python\\\\Python310\\\\lib\\\\http\\\\server.py'>,\n",
       " 'xmlrpc.server': <module 'xmlrpc.server' from 'c:\\\\Users\\\\devna\\\\AppData\\\\Local\\\\Programs\\\\Python\\\\Python310\\\\lib\\\\xmlrpc\\\\server.py'>,\n",
       " '_pydev_bundle._pydev_saved_modules': <module '_pydev_bundle._pydev_saved_modules' from 'C:\\\\Users\\\\devna\\\\AppData\\\\Roaming\\\\Python\\\\Python310\\\\site-packages\\\\debugpy\\\\_vendored\\\\pydevd\\\\_pydev_bundle\\\\_pydev_saved_modules.py'>,\n",
       " '_pydevd_bundle.pydevd_constants': <module '_pydevd_bundle.pydevd_constants' from 'C:\\\\Users\\\\devna\\\\AppData\\\\Roaming\\\\Python\\\\Python310\\\\site-packages\\\\debugpy\\\\_vendored\\\\pydevd\\\\_pydevd_bundle\\\\pydevd_constants.py'>,\n",
       " '_pydev_runfiles': <module '_pydev_runfiles' from 'C:\\\\Users\\\\devna\\\\AppData\\\\Roaming\\\\Python\\\\Python310\\\\site-packages\\\\debugpy\\\\_vendored\\\\pydevd\\\\_pydev_runfiles\\\\__init__.py'>,\n",
       " '_pydevd_frame_eval': <module '_pydevd_frame_eval' from 'C:\\\\Users\\\\devna\\\\AppData\\\\Roaming\\\\Python\\\\Python310\\\\site-packages\\\\debugpy\\\\_vendored\\\\pydevd\\\\_pydevd_frame_eval\\\\__init__.py'>,\n",
       " 'pydev_ipython': <module 'pydev_ipython' from 'C:\\\\Users\\\\devna\\\\AppData\\\\Roaming\\\\Python\\\\Python310\\\\site-packages\\\\debugpy\\\\_vendored\\\\pydevd\\\\pydev_ipython\\\\__init__.py'>,\n",
       " 'pydevd_plugins': <module 'pydevd_plugins' from 'C:\\\\Users\\\\devna\\\\AppData\\\\Roaming\\\\Python\\\\Python310\\\\site-packages\\\\debugpy\\\\_vendored\\\\pydevd\\\\pydevd_plugins\\\\__init__.py'>,\n",
       " '_pydev_bundle.pydev_log': <module '_pydev_bundle.pydev_log' from 'C:\\\\Users\\\\devna\\\\AppData\\\\Roaming\\\\Python\\\\Python310\\\\site-packages\\\\debugpy\\\\_vendored\\\\pydevd\\\\_pydev_bundle\\\\pydev_log.py'>,\n",
       " '_pydev_bundle._pydev_filesystem_encoding': <module '_pydev_bundle._pydev_filesystem_encoding' from 'C:\\\\Users\\\\devna\\\\AppData\\\\Roaming\\\\Python\\\\Python310\\\\site-packages\\\\debugpy\\\\_vendored\\\\pydevd\\\\_pydev_bundle\\\\_pydev_filesystem_encoding.py'>,\n",
       " '_pydevd_bundle.pydevd_comm_constants': <module '_pydevd_bundle.pydevd_comm_constants' from 'C:\\\\Users\\\\devna\\\\AppData\\\\Roaming\\\\Python\\\\Python310\\\\site-packages\\\\debugpy\\\\_vendored\\\\pydevd\\\\_pydevd_bundle\\\\pydevd_comm_constants.py'>,\n",
       " 'pydevd_file_utils': <module 'pydevd_file_utils' from 'C:\\\\Users\\\\devna\\\\AppData\\\\Roaming\\\\Python\\\\Python310\\\\site-packages\\\\debugpy\\\\_vendored\\\\pydevd\\\\pydevd_file_utils.py'>,\n",
       " '_pydevd_bundle.pydevd_dont_trace_files': <module '_pydevd_bundle.pydevd_dont_trace_files' from 'C:\\\\Users\\\\devna\\\\AppData\\\\Roaming\\\\Python\\\\Python310\\\\site-packages\\\\debugpy\\\\_vendored\\\\pydevd\\\\_pydevd_bundle\\\\pydevd_dont_trace_files.py'>,\n",
       " '_pydev_bundle._pydev_execfile': <module '_pydev_bundle._pydev_execfile' from 'C:\\\\Users\\\\devna\\\\AppData\\\\Roaming\\\\Python\\\\Python310\\\\site-packages\\\\debugpy\\\\_vendored\\\\pydevd\\\\_pydev_bundle\\\\_pydev_execfile.py'>,\n",
       " '_pydevd_bundle.pydevd_exec2': <module '_pydevd_bundle.pydevd_exec2' from 'C:\\\\Users\\\\devna\\\\AppData\\\\Roaming\\\\Python\\\\Python310\\\\site-packages\\\\debugpy\\\\_vendored\\\\pydevd\\\\_pydevd_bundle\\\\pydevd_exec2.py'>,\n",
       " '_pydev_bundle.pydev_imports': <module '_pydev_bundle.pydev_imports' from 'C:\\\\Users\\\\devna\\\\AppData\\\\Roaming\\\\Python\\\\Python310\\\\site-packages\\\\debugpy\\\\_vendored\\\\pydevd\\\\_pydev_bundle\\\\pydev_imports.py'>,\n",
       " '_pydev_bundle.pydev_is_thread_alive': <module '_pydev_bundle.pydev_is_thread_alive' from 'C:\\\\Users\\\\devna\\\\AppData\\\\Roaming\\\\Python\\\\Python310\\\\site-packages\\\\debugpy\\\\_vendored\\\\pydevd\\\\_pydev_bundle\\\\pydev_is_thread_alive.py'>,\n",
       " '_pydev_bundle.pydev_override': <module '_pydev_bundle.pydev_override' from 'C:\\\\Users\\\\devna\\\\AppData\\\\Roaming\\\\Python\\\\Python310\\\\site-packages\\\\debugpy\\\\_vendored\\\\pydevd\\\\_pydev_bundle\\\\pydev_override.py'>,\n",
       " 'pydevd_plugins.extensions': <module 'pydevd_plugins.extensions' from 'C:\\\\Users\\\\devna\\\\AppData\\\\Roaming\\\\Python\\\\Python310\\\\site-packages\\\\debugpy\\\\_vendored\\\\pydevd\\\\pydevd_plugins\\\\extensions\\\\__init__.py'>,\n",
       " '_pydevd_bundle.pydevd_extension_utils': <module '_pydevd_bundle.pydevd_extension_utils' from 'C:\\\\Users\\\\devna\\\\AppData\\\\Roaming\\\\Python\\\\Python310\\\\site-packages\\\\debugpy\\\\_vendored\\\\pydevd\\\\_pydevd_bundle\\\\pydevd_extension_utils.py'>,\n",
       " '_pydevd_bundle.pydevd_frame_utils': <module '_pydevd_bundle.pydevd_frame_utils' from 'C:\\\\Users\\\\devna\\\\AppData\\\\Roaming\\\\Python\\\\Python310\\\\site-packages\\\\debugpy\\\\_vendored\\\\pydevd\\\\_pydevd_bundle\\\\pydevd_frame_utils.py'>,\n",
       " '_pydevd_bundle.pydevd_filtering': <module '_pydevd_bundle.pydevd_filtering' from 'C:\\\\Users\\\\devna\\\\AppData\\\\Roaming\\\\Python\\\\Python310\\\\site-packages\\\\debugpy\\\\_vendored\\\\pydevd\\\\_pydevd_bundle\\\\pydevd_filtering.py'>,\n",
       " '_pydevd_bundle.pydevd_io': <module '_pydevd_bundle.pydevd_io' from 'C:\\\\Users\\\\devna\\\\AppData\\\\Roaming\\\\Python\\\\Python310\\\\site-packages\\\\debugpy\\\\_vendored\\\\pydevd\\\\_pydevd_bundle\\\\pydevd_io.py'>,\n",
       " '_pydevd_bundle.pydevd_defaults': <module '_pydevd_bundle.pydevd_defaults' from 'C:\\\\Users\\\\devna\\\\AppData\\\\Roaming\\\\Python\\\\Python310\\\\site-packages\\\\debugpy\\\\_vendored\\\\pydevd\\\\_pydevd_bundle\\\\pydevd_defaults.py'>,\n",
       " '_pydevd_bundle.pydevd_utils': <module '_pydevd_bundle.pydevd_utils' from 'C:\\\\Users\\\\devna\\\\AppData\\\\Roaming\\\\Python\\\\Python310\\\\site-packages\\\\debugpy\\\\_vendored\\\\pydevd\\\\_pydevd_bundle\\\\pydevd_utils.py'>,\n",
       " '_pydevd_bundle.pydevd_runpy': <module '_pydevd_bundle.pydevd_runpy' from 'C:\\\\Users\\\\devna\\\\AppData\\\\Roaming\\\\Python\\\\Python310\\\\site-packages\\\\debugpy\\\\_vendored\\\\pydevd\\\\_pydevd_bundle\\\\pydevd_runpy.py'>,\n",
       " '_pydev_bundle._pydev_tipper_common': <module '_pydev_bundle._pydev_tipper_common' from 'C:\\\\Users\\\\devna\\\\AppData\\\\Roaming\\\\Python\\\\Python310\\\\site-packages\\\\debugpy\\\\_vendored\\\\pydevd\\\\_pydev_bundle\\\\_pydev_tipper_common.py'>,\n",
       " '_pydev_bundle._pydev_imports_tipper': <module '_pydev_bundle._pydev_imports_tipper' from 'C:\\\\Users\\\\devna\\\\AppData\\\\Roaming\\\\Python\\\\Python310\\\\site-packages\\\\debugpy\\\\_vendored\\\\pydevd\\\\_pydev_bundle\\\\_pydev_imports_tipper.py'>,\n",
       " '_pydev_bundle._pydev_calltip_util': <module '_pydev_bundle._pydev_calltip_util' from 'C:\\\\Users\\\\devna\\\\AppData\\\\Roaming\\\\Python\\\\Python310\\\\site-packages\\\\debugpy\\\\_vendored\\\\pydevd\\\\_pydev_bundle\\\\_pydev_calltip_util.py'>,\n",
       " '_pydevd_bundle.pydevd_safe_repr': <module '_pydevd_bundle.pydevd_safe_repr' from 'C:\\\\Users\\\\devna\\\\AppData\\\\Roaming\\\\Python\\\\Python310\\\\site-packages\\\\debugpy\\\\_vendored\\\\pydevd\\\\_pydevd_bundle\\\\pydevd_safe_repr.py'>,\n",
       " '_pydevd_bundle.pydevd_resolver': <module '_pydevd_bundle.pydevd_resolver' from 'C:\\\\Users\\\\devna\\\\AppData\\\\Roaming\\\\Python\\\\Python310\\\\site-packages\\\\debugpy\\\\_vendored\\\\pydevd\\\\_pydevd_bundle\\\\pydevd_resolver.py'>,\n",
       " '_pydevd_bundle.pydevd_extension_api': <module '_pydevd_bundle.pydevd_extension_api' from 'C:\\\\Users\\\\devna\\\\AppData\\\\Roaming\\\\Python\\\\Python310\\\\site-packages\\\\debugpy\\\\_vendored\\\\pydevd\\\\_pydevd_bundle\\\\pydevd_extension_api.py'>,\n",
       " '_pydevd_bundle.pydevd_xml': <module '_pydevd_bundle.pydevd_xml' from 'C:\\\\Users\\\\devna\\\\AppData\\\\Roaming\\\\Python\\\\Python310\\\\site-packages\\\\debugpy\\\\_vendored\\\\pydevd\\\\_pydevd_bundle\\\\pydevd_xml.py'>,\n",
       " '_pydevd_bundle.pydevd_dont_trace': <module '_pydevd_bundle.pydevd_dont_trace' from 'C:\\\\Users\\\\devna\\\\AppData\\\\Roaming\\\\Python\\\\Python310\\\\site-packages\\\\debugpy\\\\_vendored\\\\pydevd\\\\_pydevd_bundle\\\\pydevd_dont_trace.py'>,\n",
       " '_pydevd_frame_eval.vendored': <module '_pydevd_frame_eval.vendored' from 'C:\\\\Users\\\\devna\\\\AppData\\\\Roaming\\\\Python\\\\Python310\\\\site-packages\\\\debugpy\\\\_vendored\\\\pydevd\\\\_pydevd_frame_eval\\\\vendored\\\\__init__.py'>,\n",
       " '_pydevd_frame_eval.vendored.bytecode.flags': <module '_pydevd_frame_eval.vendored.bytecode.flags' from 'C:\\\\Users\\\\devna\\\\AppData\\\\Roaming\\\\Python\\\\Python310\\\\site-packages\\\\debugpy\\\\_vendored\\\\pydevd\\\\_pydevd_frame_eval\\\\vendored\\\\bytecode\\\\flags.py'>,\n",
       " '_pydevd_frame_eval.vendored.bytecode.instr': <module '_pydevd_frame_eval.vendored.bytecode.instr' from 'C:\\\\Users\\\\devna\\\\AppData\\\\Roaming\\\\Python\\\\Python310\\\\site-packages\\\\debugpy\\\\_vendored\\\\pydevd\\\\_pydevd_frame_eval\\\\vendored\\\\bytecode\\\\instr.py'>,\n",
       " '_pydevd_frame_eval.vendored.bytecode.bytecode': <module '_pydevd_frame_eval.vendored.bytecode.bytecode' from 'C:\\\\Users\\\\devna\\\\AppData\\\\Roaming\\\\Python\\\\Python310\\\\site-packages\\\\debugpy\\\\_vendored\\\\pydevd\\\\_pydevd_frame_eval\\\\vendored\\\\bytecode\\\\bytecode.py'>,\n",
       " '_pydevd_frame_eval.vendored.bytecode.concrete': <module '_pydevd_frame_eval.vendored.bytecode.concrete' from 'C:\\\\Users\\\\devna\\\\AppData\\\\Roaming\\\\Python\\\\Python310\\\\site-packages\\\\debugpy\\\\_vendored\\\\pydevd\\\\_pydevd_frame_eval\\\\vendored\\\\bytecode\\\\concrete.py'>,\n",
       " '_pydevd_frame_eval.vendored.bytecode.cfg': <module '_pydevd_frame_eval.vendored.bytecode.cfg' from 'C:\\\\Users\\\\devna\\\\AppData\\\\Roaming\\\\Python\\\\Python310\\\\site-packages\\\\debugpy\\\\_vendored\\\\pydevd\\\\_pydevd_frame_eval\\\\vendored\\\\bytecode\\\\cfg.py'>,\n",
       " '_pydevd_frame_eval.vendored.bytecode': <module '_pydevd_frame_eval.vendored.bytecode' from 'C:\\\\Users\\\\devna\\\\AppData\\\\Roaming\\\\Python\\\\Python310\\\\site-packages\\\\debugpy\\\\_vendored\\\\pydevd\\\\_pydevd_frame_eval\\\\vendored\\\\bytecode\\\\__init__.py'>,\n",
       " '_pydevd_bundle.pydevd_bytecode_utils': <module '_pydevd_bundle.pydevd_bytecode_utils' from 'C:\\\\Users\\\\devna\\\\AppData\\\\Roaming\\\\Python\\\\Python310\\\\site-packages\\\\debugpy\\\\_vendored\\\\pydevd\\\\_pydevd_bundle\\\\pydevd_bytecode_utils.py'>,\n",
       " '_pydevd_bundle.pydevd_cython': <module '_pydevd_bundle.pydevd_cython' from 'C:\\\\Users\\\\devna\\\\AppData\\\\Roaming\\\\Python\\\\Python310\\\\site-packages\\\\debugpy\\\\_vendored\\\\pydevd\\\\_pydevd_bundle\\\\pydevd_cython.cp310-win_amd64.pyd'>,\n",
       " '_pydevd_bundle.pydevd_cython_wrapper': <module '_pydevd_bundle.pydevd_cython_wrapper' from 'C:\\\\Users\\\\devna\\\\AppData\\\\Roaming\\\\Python\\\\Python310\\\\site-packages\\\\debugpy\\\\_vendored\\\\pydevd\\\\_pydevd_bundle\\\\pydevd_cython_wrapper.py'>,\n",
       " '_pydevd_bundle.pydevd_additional_thread_info': <module '_pydevd_bundle.pydevd_additional_thread_info' from 'C:\\\\Users\\\\devna\\\\AppData\\\\Roaming\\\\Python\\\\Python310\\\\site-packages\\\\debugpy\\\\_vendored\\\\pydevd\\\\_pydevd_bundle\\\\pydevd_additional_thread_info.py'>,\n",
       " '_pydevd_sys_monitoring': <module '_pydevd_sys_monitoring' (<_frozen_importlib_external._NamespaceLoader object at 0x000002250FF85BD0>)>,\n",
       " '_pydevd_bundle.pydevd_additional_thread_info_regular': <module '_pydevd_bundle.pydevd_additional_thread_info_regular' from 'C:\\\\Users\\\\devna\\\\AppData\\\\Roaming\\\\Python\\\\Python310\\\\site-packages\\\\debugpy\\\\_vendored\\\\pydevd\\\\_pydevd_bundle\\\\pydevd_additional_thread_info_regular.py'>,\n",
       " '_pydevd_bundle.pydevd_trace_dispatch': <module '_pydevd_bundle.pydevd_trace_dispatch' from 'C:\\\\Users\\\\devna\\\\AppData\\\\Roaming\\\\Python\\\\Python310\\\\site-packages\\\\debugpy\\\\_vendored\\\\pydevd\\\\_pydevd_bundle\\\\pydevd_trace_dispatch.py'>,\n",
       " '_pydevd_bundle.pydevd_import_class': <module '_pydevd_bundle.pydevd_import_class' from 'C:\\\\Users\\\\devna\\\\AppData\\\\Roaming\\\\Python\\\\Python310\\\\site-packages\\\\debugpy\\\\_vendored\\\\pydevd\\\\_pydevd_bundle\\\\pydevd_import_class.py'>,\n",
       " '_pydevd_bundle.pydevd_breakpoints': <module '_pydevd_bundle.pydevd_breakpoints' from 'C:\\\\Users\\\\devna\\\\AppData\\\\Roaming\\\\Python\\\\Python310\\\\site-packages\\\\debugpy\\\\_vendored\\\\pydevd\\\\_pydevd_bundle\\\\pydevd_breakpoints.py'>,\n",
       " '_pydevd_sys_monitoring._pydevd_sys_monitoring': <module '_pydevd_sys_monitoring._pydevd_sys_monitoring' from 'C:\\\\Users\\\\devna\\\\AppData\\\\Roaming\\\\Python\\\\Python310\\\\site-packages\\\\debugpy\\\\_vendored\\\\pydevd\\\\_pydevd_sys_monitoring\\\\_pydevd_sys_monitoring.py'>,\n",
       " '_pydevd_sys_monitoring.pydevd_sys_monitoring': <module '_pydevd_sys_monitoring.pydevd_sys_monitoring' from 'C:\\\\Users\\\\devna\\\\AppData\\\\Roaming\\\\Python\\\\Python310\\\\site-packages\\\\debugpy\\\\_vendored\\\\pydevd\\\\_pydevd_sys_monitoring\\\\pydevd_sys_monitoring.py'>,\n",
       " '_pydevd_bundle.pydevd_thread_lifecycle': <module '_pydevd_bundle.pydevd_thread_lifecycle' from 'C:\\\\Users\\\\devna\\\\AppData\\\\Roaming\\\\Python\\\\Python310\\\\site-packages\\\\debugpy\\\\_vendored\\\\pydevd\\\\_pydevd_bundle\\\\pydevd_thread_lifecycle.py'>,\n",
       " '_pydevd_bundle.pydevd_save_locals': <module '_pydevd_bundle.pydevd_save_locals' from 'C:\\\\Users\\\\devna\\\\AppData\\\\Roaming\\\\Python\\\\Python310\\\\site-packages\\\\debugpy\\\\_vendored\\\\pydevd\\\\_pydevd_bundle\\\\pydevd_save_locals.py'>,\n",
       " '_pydev_bundle.pydev_monkey': <module '_pydev_bundle.pydev_monkey' from 'C:\\\\Users\\\\devna\\\\AppData\\\\Roaming\\\\Python\\\\Python310\\\\site-packages\\\\debugpy\\\\_vendored\\\\pydevd\\\\_pydev_bundle\\\\pydev_monkey.py'>,\n",
       " 'pydevd_tracing': <module 'pydevd_tracing' from 'C:\\\\Users\\\\devna\\\\AppData\\\\Roaming\\\\Python\\\\Python310\\\\site-packages\\\\debugpy\\\\_vendored\\\\pydevd\\\\pydevd_tracing.py'>,\n",
       " '_pydevd_bundle.pydevd_collect_bytecode_info': <module '_pydevd_bundle.pydevd_collect_bytecode_info' from 'C:\\\\Users\\\\devna\\\\AppData\\\\Roaming\\\\Python\\\\Python310\\\\site-packages\\\\debugpy\\\\_vendored\\\\pydevd\\\\_pydevd_bundle\\\\pydevd_collect_bytecode_info.py'>,\n",
       " '_pydevd_bundle.pydevd_daemon_thread': <module '_pydevd_bundle.pydevd_daemon_thread' from 'C:\\\\Users\\\\devna\\\\AppData\\\\Roaming\\\\Python\\\\Python310\\\\site-packages\\\\debugpy\\\\_vendored\\\\pydevd\\\\_pydevd_bundle\\\\pydevd_daemon_thread.py'>,\n",
       " '_pydevd_bundle.pydevd_timeout': <module '_pydevd_bundle.pydevd_timeout' from 'C:\\\\Users\\\\devna\\\\AppData\\\\Roaming\\\\Python\\\\Python310\\\\site-packages\\\\debugpy\\\\_vendored\\\\pydevd\\\\_pydevd_bundle\\\\pydevd_timeout.py'>,\n",
       " '_pydevd_bundle.pydevd_vars': <module '_pydevd_bundle.pydevd_vars' from 'C:\\\\Users\\\\devna\\\\AppData\\\\Roaming\\\\Python\\\\Python310\\\\site-packages\\\\debugpy\\\\_vendored\\\\pydevd\\\\_pydevd_bundle\\\\pydevd_vars.py'>,\n",
       " '_pydev_bundle.pydev_console_utils': <module '_pydev_bundle.pydev_console_utils' from 'C:\\\\Users\\\\devna\\\\AppData\\\\Roaming\\\\Python\\\\Python310\\\\site-packages\\\\debugpy\\\\_vendored\\\\pydevd\\\\_pydev_bundle\\\\pydev_console_utils.py'>,\n",
       " '_pydevd_bundle.pydevd_custom_frames': <module '_pydevd_bundle.pydevd_custom_frames' from 'C:\\\\Users\\\\devna\\\\AppData\\\\Roaming\\\\Python\\\\Python310\\\\site-packages\\\\debugpy\\\\_vendored\\\\pydevd\\\\_pydevd_bundle\\\\pydevd_custom_frames.py'>,\n",
       " '_pydevd_bundle.pydevd_net_command': <module '_pydevd_bundle.pydevd_net_command' from 'C:\\\\Users\\\\devna\\\\AppData\\\\Roaming\\\\Python\\\\Python310\\\\site-packages\\\\debugpy\\\\_vendored\\\\pydevd\\\\_pydevd_bundle\\\\pydevd_net_command.py'>,\n",
       " '_pydevd_bundle.pydevconsole_code': <module '_pydevd_bundle.pydevconsole_code' from 'C:\\\\Users\\\\devna\\\\AppData\\\\Roaming\\\\Python\\\\Python310\\\\site-packages\\\\debugpy\\\\_vendored\\\\pydevd\\\\_pydevd_bundle\\\\pydevconsole_code.py'>,\n",
       " '_pydev_bundle.pydev_umd': <module '_pydev_bundle.pydev_umd' from 'C:\\\\Users\\\\devna\\\\AppData\\\\Roaming\\\\Python\\\\Python310\\\\site-packages\\\\debugpy\\\\_vendored\\\\pydevd\\\\_pydev_bundle\\\\pydev_umd.py'>,\n",
       " 'pydevconsole': <module 'pydevconsole' from 'C:\\\\Users\\\\devna\\\\AppData\\\\Roaming\\\\Python\\\\Python310\\\\site-packages\\\\debugpy\\\\_vendored\\\\pydevd\\\\pydevconsole.py'>,\n",
       " '_pydev_bundle._pydev_completer': <module '_pydev_bundle._pydev_completer' from 'C:\\\\Users\\\\devna\\\\AppData\\\\Roaming\\\\Python\\\\Python310\\\\site-packages\\\\debugpy\\\\_vendored\\\\pydevd\\\\_pydev_bundle\\\\_pydev_completer.py'>,\n",
       " '_pydevd_bundle.pydevd_net_command_factory_xml': <module '_pydevd_bundle.pydevd_net_command_factory_xml' from 'C:\\\\Users\\\\devna\\\\AppData\\\\Roaming\\\\Python\\\\Python310\\\\site-packages\\\\debugpy\\\\_vendored\\\\pydevd\\\\_pydevd_bundle\\\\pydevd_net_command_factory_xml.py'>,\n",
       " '_pydevd_frame_eval.pydevd_frame_eval_main': <module '_pydevd_frame_eval.pydevd_frame_eval_main' from 'C:\\\\Users\\\\devna\\\\AppData\\\\Roaming\\\\Python\\\\Python310\\\\site-packages\\\\debugpy\\\\_vendored\\\\pydevd\\\\_pydevd_frame_eval\\\\pydevd_frame_eval_main.py'>,\n",
       " '_pydevd_bundle.pydevd_source_mapping': <module '_pydevd_bundle.pydevd_source_mapping' from 'C:\\\\Users\\\\devna\\\\AppData\\\\Roaming\\\\Python\\\\Python310\\\\site-packages\\\\debugpy\\\\_vendored\\\\pydevd\\\\_pydevd_bundle\\\\pydevd_source_mapping.py'>,\n",
       " '_pydevd_bundle.pydevd_concurrency_analyser': <module '_pydevd_bundle.pydevd_concurrency_analyser' from 'C:\\\\Users\\\\devna\\\\AppData\\\\Roaming\\\\Python\\\\Python310\\\\site-packages\\\\debugpy\\\\_vendored\\\\pydevd\\\\_pydevd_bundle\\\\pydevd_concurrency_analyser\\\\__init__.py'>,\n",
       " '_pydevd_bundle.pydevd_concurrency_analyser.pydevd_thread_wrappers': <module '_pydevd_bundle.pydevd_concurrency_analyser.pydevd_thread_wrappers' from 'C:\\\\Users\\\\devna\\\\AppData\\\\Roaming\\\\Python\\\\Python310\\\\site-packages\\\\debugpy\\\\_vendored\\\\pydevd\\\\_pydevd_bundle\\\\pydevd_concurrency_analyser\\\\pydevd_thread_wrappers.py'>,\n",
       " '_pydevd_bundle.pydevd_concurrency_analyser.pydevd_concurrency_logger': <module '_pydevd_bundle.pydevd_concurrency_analyser.pydevd_concurrency_logger' from 'C:\\\\Users\\\\devna\\\\AppData\\\\Roaming\\\\Python\\\\Python310\\\\site-packages\\\\debugpy\\\\_vendored\\\\pydevd\\\\_pydevd_bundle\\\\pydevd_concurrency_analyser\\\\pydevd_concurrency_logger.py'>,\n",
       " '_pydevd_bundle._debug_adapter': <module '_pydevd_bundle._debug_adapter' from 'C:\\\\Users\\\\devna\\\\AppData\\\\Roaming\\\\Python\\\\Python310\\\\site-packages\\\\debugpy\\\\_vendored\\\\pydevd\\\\_pydevd_bundle\\\\_debug_adapter\\\\__init__.py'>,\n",
       " '_pydevd_bundle._debug_adapter.pydevd_schema_log': <module '_pydevd_bundle._debug_adapter.pydevd_schema_log' from 'C:\\\\Users\\\\devna\\\\AppData\\\\Roaming\\\\Python\\\\Python310\\\\site-packages\\\\debugpy\\\\_vendored\\\\pydevd\\\\_pydevd_bundle\\\\_debug_adapter\\\\pydevd_schema_log.py'>,\n",
       " '_pydevd_bundle._debug_adapter.pydevd_base_schema': <module '_pydevd_bundle._debug_adapter.pydevd_base_schema' from 'C:\\\\Users\\\\devna\\\\AppData\\\\Roaming\\\\Python\\\\Python310\\\\site-packages\\\\debugpy\\\\_vendored\\\\pydevd\\\\_pydevd_bundle\\\\_debug_adapter\\\\pydevd_base_schema.py'>,\n",
       " '_pydevd_bundle._debug_adapter.pydevd_schema': <module '_pydevd_bundle._debug_adapter.pydevd_schema' from 'C:\\\\Users\\\\devna\\\\AppData\\\\Roaming\\\\Python\\\\Python310\\\\site-packages\\\\debugpy\\\\_vendored\\\\pydevd\\\\_pydevd_bundle\\\\_debug_adapter\\\\pydevd_schema.py'>,\n",
       " '_pydevd_bundle.pydevd_reload': <module '_pydevd_bundle.pydevd_reload' from 'C:\\\\Users\\\\devna\\\\AppData\\\\Roaming\\\\Python\\\\Python310\\\\site-packages\\\\debugpy\\\\_vendored\\\\pydevd\\\\_pydevd_bundle\\\\pydevd_reload.py'>,\n",
       " '_pydev_bundle.fsnotify': <module '_pydev_bundle.fsnotify' from 'C:\\\\Users\\\\devna\\\\AppData\\\\Roaming\\\\Python\\\\Python310\\\\site-packages\\\\debugpy\\\\_vendored\\\\pydevd\\\\_pydev_bundle\\\\fsnotify\\\\__init__.py'>,\n",
       " '_pydevd_bundle.pydevd_console': <module '_pydevd_bundle.pydevd_console' from 'C:\\\\Users\\\\devna\\\\AppData\\\\Roaming\\\\Python\\\\Python310\\\\site-packages\\\\debugpy\\\\_vendored\\\\pydevd\\\\_pydevd_bundle\\\\pydevd_console.py'>,\n",
       " '_pydevd_bundle.pydevd_comm': <module '_pydevd_bundle.pydevd_comm' from 'C:\\\\Users\\\\devna\\\\AppData\\\\Roaming\\\\Python\\\\Python310\\\\site-packages\\\\debugpy\\\\_vendored\\\\pydevd\\\\_pydevd_bundle\\\\pydevd_comm.py'>,\n",
       " '_pydevd_bundle.pydevd_net_command_factory_json': <module '_pydevd_bundle.pydevd_net_command_factory_json' from 'C:\\\\Users\\\\devna\\\\AppData\\\\Roaming\\\\Python\\\\Python310\\\\site-packages\\\\debugpy\\\\_vendored\\\\pydevd\\\\_pydevd_bundle\\\\pydevd_net_command_factory_json.py'>,\n",
       " '_pydevd_bundle.pydevd_api': <module '_pydevd_bundle.pydevd_api' from 'C:\\\\Users\\\\devna\\\\AppData\\\\Roaming\\\\Python\\\\Python310\\\\site-packages\\\\debugpy\\\\_vendored\\\\pydevd\\\\_pydevd_bundle\\\\pydevd_api.py'>,\n",
       " '_pydevd_bundle.pydevd_json_debug_options': <module '_pydevd_bundle.pydevd_json_debug_options' from 'C:\\\\Users\\\\devna\\\\AppData\\\\Roaming\\\\Python\\\\Python310\\\\site-packages\\\\debugpy\\\\_vendored\\\\pydevd\\\\_pydevd_bundle\\\\pydevd_json_debug_options.py'>,\n",
       " '_pydevd_bundle.pydevd_process_net_command_json': <module '_pydevd_bundle.pydevd_process_net_command_json' from 'C:\\\\Users\\\\devna\\\\AppData\\\\Roaming\\\\Python\\\\Python310\\\\site-packages\\\\debugpy\\\\_vendored\\\\pydevd\\\\_pydevd_bundle\\\\pydevd_process_net_command_json.py'>,\n",
       " '_pydevd_bundle.pydevd_traceproperty': <module '_pydevd_bundle.pydevd_traceproperty' from 'C:\\\\Users\\\\devna\\\\AppData\\\\Roaming\\\\Python\\\\Python310\\\\site-packages\\\\debugpy\\\\_vendored\\\\pydevd\\\\_pydevd_bundle\\\\pydevd_traceproperty.py'>,\n",
       " '_pydevd_bundle.pydevd_process_net_command': <module '_pydevd_bundle.pydevd_process_net_command' from 'C:\\\\Users\\\\devna\\\\AppData\\\\Roaming\\\\Python\\\\Python310\\\\site-packages\\\\debugpy\\\\_vendored\\\\pydevd\\\\_pydevd_bundle\\\\pydevd_process_net_command.py'>,\n",
       " '_pydevd_bundle.pydevd_suspended_frames': <module '_pydevd_bundle.pydevd_suspended_frames' from 'C:\\\\Users\\\\devna\\\\AppData\\\\Roaming\\\\Python\\\\Python310\\\\site-packages\\\\debugpy\\\\_vendored\\\\pydevd\\\\_pydevd_bundle\\\\pydevd_suspended_frames.py'>,\n",
       " 'pydevd_plugins.pydevd_line_validation': <module 'pydevd_plugins.pydevd_line_validation' from 'C:\\\\Users\\\\devna\\\\AppData\\\\Roaming\\\\Python\\\\Python310\\\\site-packages\\\\debugpy\\\\_vendored\\\\pydevd\\\\pydevd_plugins\\\\pydevd_line_validation.py'>,\n",
       " 'pydevd_plugins.django_debug': <module 'pydevd_plugins.django_debug' from 'C:\\\\Users\\\\devna\\\\AppData\\\\Roaming\\\\Python\\\\Python310\\\\site-packages\\\\debugpy\\\\_vendored\\\\pydevd\\\\pydevd_plugins\\\\django_debug.py'>,\n",
       " 'pydevd_plugins.jinja2_debug': <module 'pydevd_plugins.jinja2_debug' from 'C:\\\\Users\\\\devna\\\\AppData\\\\Roaming\\\\Python\\\\Python310\\\\site-packages\\\\debugpy\\\\_vendored\\\\pydevd\\\\pydevd_plugins\\\\jinja2_debug.py'>,\n",
       " '_pydevd_bundle.pydevd_plugin_utils': <module '_pydevd_bundle.pydevd_plugin_utils' from 'C:\\\\Users\\\\devna\\\\AppData\\\\Roaming\\\\Python\\\\Python310\\\\site-packages\\\\debugpy\\\\_vendored\\\\pydevd\\\\_pydevd_bundle\\\\pydevd_plugin_utils.py'>,\n",
       " 'pydevd_plugins.extensions.types': <module 'pydevd_plugins.extensions.types' from 'C:\\\\Users\\\\devna\\\\AppData\\\\Roaming\\\\Python\\\\Python310\\\\site-packages\\\\debugpy\\\\_vendored\\\\pydevd\\\\pydevd_plugins\\\\extensions\\\\types\\\\__init__.py'>,\n",
       " 'pydevd_plugins.extensions.types.pydevd_helpers': <module 'pydevd_plugins.extensions.types.pydevd_helpers' from 'C:\\\\Users\\\\devna\\\\AppData\\\\Roaming\\\\Python\\\\Python310\\\\site-packages\\\\debugpy\\\\_vendored\\\\pydevd\\\\pydevd_plugins\\\\extensions\\\\types\\\\pydevd_helpers.py'>,\n",
       " 'pydevd_plugins.extensions.types.pydevd_plugin_numpy_types': <module 'pydevd_plugins.extensions.types.pydevd_plugin_numpy_types' from 'C:\\\\Users\\\\devna\\\\AppData\\\\Roaming\\\\Python\\\\Python310\\\\site-packages\\\\debugpy\\\\_vendored\\\\pydevd\\\\pydevd_plugins\\\\extensions\\\\types\\\\pydevd_plugin_numpy_types.py'>,\n",
       " 'pydevd_plugins.extensions.types.pydevd_plugin_pandas_types': <module 'pydevd_plugins.extensions.types.pydevd_plugin_pandas_types' from 'C:\\\\Users\\\\devna\\\\AppData\\\\Roaming\\\\Python\\\\Python310\\\\site-packages\\\\debugpy\\\\_vendored\\\\pydevd\\\\pydevd_plugins\\\\extensions\\\\types\\\\pydevd_plugin_pandas_types.py'>,\n",
       " 'pydevd_plugins.extensions.types.pydevd_plugins_django_form_str': <module 'pydevd_plugins.extensions.types.pydevd_plugins_django_form_str' from 'C:\\\\Users\\\\devna\\\\AppData\\\\Roaming\\\\Python\\\\Python310\\\\site-packages\\\\debugpy\\\\_vendored\\\\pydevd\\\\pydevd_plugins\\\\extensions\\\\types\\\\pydevd_plugins_django_form_str.py'>,\n",
       " 'pydevd': <module 'pydevd' from 'C:\\\\Users\\\\devna\\\\AppData\\\\Roaming\\\\Python\\\\Python310\\\\site-packages\\\\debugpy\\\\_vendored\\\\pydevd\\\\pydevd.py'>,\n",
       " 'debugpy._vendored.force_pydevd': <module 'debugpy._vendored.force_pydevd' from 'C:\\\\Users\\\\devna\\\\AppData\\\\Roaming\\\\Python\\\\Python310\\\\site-packages\\\\debugpy\\\\_vendored\\\\force_pydevd.py'>,\n",
       " 'debugpy.server': <module 'debugpy.server' from 'C:\\\\Users\\\\devna\\\\AppData\\\\Roaming\\\\Python\\\\Python310\\\\site-packages\\\\debugpy\\\\server\\\\__init__.py'>,\n",
       " 'debugpy.adapter': <module 'debugpy.adapter' from 'C:\\\\Users\\\\devna\\\\AppData\\\\Roaming\\\\Python\\\\Python310\\\\site-packages\\\\debugpy\\\\adapter\\\\__init__.py'>,\n",
       " 'debugpy.common': <module 'debugpy.common' from 'C:\\\\Users\\\\devna\\\\AppData\\\\Roaming\\\\Python\\\\Python310\\\\site-packages\\\\debugpy\\\\common\\\\__init__.py'>,\n",
       " 'debugpy.common.json': <module 'debugpy.common.json' from 'C:\\\\Users\\\\devna\\\\AppData\\\\Roaming\\\\Python\\\\Python310\\\\site-packages\\\\debugpy\\\\common\\\\json.py'>,\n",
       " 'debugpy.common.timestamp': <module 'debugpy.common.timestamp' from 'C:\\\\Users\\\\devna\\\\AppData\\\\Roaming\\\\Python\\\\Python310\\\\site-packages\\\\debugpy\\\\common\\\\timestamp.py'>,\n",
       " 'debugpy.common.util': <module 'debugpy.common.util' from 'C:\\\\Users\\\\devna\\\\AppData\\\\Roaming\\\\Python\\\\Python310\\\\site-packages\\\\debugpy\\\\common\\\\util.py'>,\n",
       " 'debugpy.common.log': <module 'debugpy.common.log' from 'C:\\\\Users\\\\devna\\\\AppData\\\\Roaming\\\\Python\\\\Python310\\\\site-packages\\\\debugpy\\\\common\\\\log.py'>,\n",
       " 'debugpy.common.sockets': <module 'debugpy.common.sockets' from 'C:\\\\Users\\\\devna\\\\AppData\\\\Roaming\\\\Python\\\\Python310\\\\site-packages\\\\debugpy\\\\common\\\\sockets.py'>,\n",
       " 'debugpy.server.api': <module 'debugpy.server.api' from 'C:\\\\Users\\\\devna\\\\AppData\\\\Roaming\\\\Python\\\\Python310\\\\site-packages\\\\debugpy\\\\server\\\\api.py'>,\n",
       " 'ipykernel.debugger': <module 'ipykernel.debugger' from 'C:\\\\Users\\\\devna\\\\AppData\\\\Roaming\\\\Python\\\\Python310\\\\site-packages\\\\ipykernel\\\\debugger.py'>,\n",
       " 'IPython.core.completerlib': <module 'IPython.core.completerlib' from 'C:\\\\Users\\\\devna\\\\AppData\\\\Roaming\\\\Python\\\\Python310\\\\site-packages\\\\IPython\\\\core\\\\completerlib.py'>,\n",
       " 'vscode': <module 'vscode'>,\n",
       " 'pygments.styles.default': <module 'pygments.styles.default' from 'C:\\\\Users\\\\devna\\\\AppData\\\\Roaming\\\\Python\\\\Python310\\\\site-packages\\\\pygments\\\\styles\\\\default.py'>}"
      ]
     },
     "execution_count": 4,
     "metadata": {},
     "output_type": "execute_result"
    }
   ],
   "source": [
    "import sys\n",
    "sys.modules"
   ]
  },
  {
   "cell_type": "code",
   "execution_count": 3,
   "metadata": {},
   "outputs": [
    {
     "name": "stdout",
     "output_type": "stream",
     "text": [
      "254\n"
     ]
    }
   ],
   "source": [
    "a=10\n",
    "import sys\n",
    "print(sys.getrefcount(a))"
   ]
  },
  {
   "cell_type": "markdown",
   "metadata": {},
   "source": [
    "### time module\n",
    "Python time module allows to work with time in Python. It allows functionality like getting the current time, pausing the Program from executing"
   ]
  },
  {
   "cell_type": "code",
   "execution_count": 1,
   "metadata": {},
   "outputs": [],
   "source": [
    "import time "
   ]
  },
  {
   "cell_type": "markdown",
   "metadata": {},
   "source": [
    "**What is epoch?**\n",
    "\n",
    "The epoch is the point where the time starts and is platform-dependent. On Windows and most Unix systems, the epoch is January 1, 1970, 00:00:00 (UTC), and leap seconds are not counted towards the time in seconds since the epoch. To check what the epoch is on a given platform we can use time.gmtime(0)."
   ]
  },
  {
   "cell_type": "code",
   "execution_count": 9,
   "metadata": {},
   "outputs": [
    {
     "name": "stdout",
     "output_type": "stream",
     "text": [
      "time.struct_time(tm_year=1970, tm_mon=1, tm_mday=1, tm_hour=0, tm_min=0, tm_sec=0, tm_wday=3, tm_yday=1, tm_isdst=0)\n"
     ]
    }
   ],
   "source": [
    "import time\n",
    "print(time.gmtime(0))"
   ]
  },
  {
   "cell_type": "code",
   "execution_count": null,
   "metadata": {},
   "outputs": [
    {
     "name": "stdout",
     "output_type": "stream",
     "text": [
      "current time : 1733821634.1859753\n"
     ]
    }
   ],
   "source": [
    "import time\n",
    "current = time.time()\n",
    "print(\"current timein seconds since epoch:\",current)"
   ]
  },
  {
   "cell_type": "markdown",
   "metadata": {},
   "source": [
    "- time.ctime() : \n",
    "The code uses the time module to convert a specified timestamp (1627908313.717886) into a human-readable date and time format."
   ]
  },
  {
   "cell_type": "code",
   "execution_count": 13,
   "metadata": {},
   "outputs": [
    {
     "name": "stdout",
     "output_type": "stream",
     "text": [
      "Tue Dec 10 14:39:25 2024\n"
     ]
    }
   ],
   "source": [
    "import time \n",
    "curr = time.ctime(time.time())\n",
    "print(curr)"
   ]
  },
  {
   "cell_type": "markdown",
   "metadata": {},
   "source": [
    "- time.sleep() : Execution can be delayed using time.sleep() method. This method is used to halt the program execution for the time specified in the arguments."
   ]
  },
  {
   "cell_type": "code",
   "execution_count": 14,
   "metadata": {},
   "outputs": [
    {
     "name": "stdout",
     "output_type": "stream",
     "text": [
      "0\n",
      "1\n",
      "2\n",
      "3\n"
     ]
    }
   ],
   "source": [
    "import time \n",
    "for  i in range(4):\n",
    "    time.sleep(2)\n",
    "    print(i)"
   ]
  },
  {
   "cell_type": "markdown",
   "metadata": {},
   "source": [
    "- time.localtime() "
   ]
  },
  {
   "cell_type": "code",
   "execution_count": 21,
   "metadata": {},
   "outputs": [
    {
     "name": "stdout",
     "output_type": "stream",
     "text": [
      "time.struct_time(tm_year=2024, tm_mon=12, tm_mday=10, tm_hour=14, tm_min=46, tm_sec=53, tm_wday=1, tm_yday=345, tm_isdst=0)\n"
     ]
    }
   ],
   "source": [
    "import time\n",
    "print(time.localtime(time.time()))"
   ]
  },
  {
   "cell_type": "markdown",
   "metadata": {},
   "source": [
    "- time.gmtime()"
   ]
  },
  {
   "cell_type": "code",
   "execution_count": 22,
   "metadata": {},
   "outputs": [
    {
     "data": {
      "text/plain": [
       "time.struct_time(tm_year=2024, tm_mon=12, tm_mday=10, tm_hour=9, tm_min=19, tm_sec=12, tm_wday=1, tm_yday=345, tm_isdst=0)"
      ]
     },
     "execution_count": 22,
     "metadata": {},
     "output_type": "execute_result"
    }
   ],
   "source": [
    "time.gmtime(time.time())"
   ]
  },
  {
   "cell_type": "markdown",
   "metadata": {},
   "source": [
    "## Regular expression\n",
    "\n",
    "A Regular Expression or RegEx is a special sequence of characters that uses a search pattern to find a string or set of strings."
   ]
  },
  {
   "cell_type": "code",
   "execution_count": null,
   "metadata": {},
   "outputs": [],
   "source": [
    "#importing module\n",
    "import re"
   ]
  },
  {
   "cell_type": "markdown",
   "metadata": {},
   "source": [
    "raw string : raw string"
   ]
  },
  {
   "cell_type": "markdown",
   "metadata": {},
   "source": [
    "Raw string : It is a regular string prefixed with r "
   ]
  },
  {
   "cell_type": "code",
   "execution_count": 2,
   "metadata": {},
   "outputs": [
    {
     "name": "stdout",
     "output_type": "stream",
     "text": [
      "\ttab\n"
     ]
    }
   ],
   "source": [
    "print('\\ttab')"
   ]
  },
  {
   "cell_type": "code",
   "execution_count": 1,
   "metadata": {},
   "outputs": [
    {
     "name": "stdout",
     "output_type": "stream",
     "text": [
      "\\tTab\n"
     ]
    }
   ],
   "source": [
    "print(r'\\tTab')"
   ]
  },
  {
   "cell_type": "code",
   "execution_count": null,
   "metadata": {},
   "outputs": [],
   "source": [
    "import re\n",
    "text_to_speech = '''\n",
    "abcdefghijklmnopqrstuvwxyz\n",
    "ABCDEFGHIJKLMNOPQRSTUVWXYZ\n",
    "1234567890\n",
    "\n",
    "Ha Haa\n",
    "\n",
    "Metacharacters (need to be escaped) :\n",
    ". ^ $ * + ? { } [ ] \\ | ( )\n",
    "\n",
    "coreyms.com\n",
    "\n",
    "321-555-4321\n",
    "123.555.4321\n",
    "\n",
    "cat\n",
    "mat\n",
    "pat\n",
    "bat\n",
    "\n",
    "mr.veda\n",
    "mr smith\n",
    "ms Davis\n",
    "Mrs. robinson\n",
    "mr. T\n",
    "'''\n",
    "sentence = 'start a sentence and then bring it to an end'\n",
    "pattern = re.compile(r'abc')\n",
    "matches = pattern.finditer(text_to_speech)\n",
    "for match in matches:\n",
    "    print(match)"
   ]
  },
  {
   "cell_type": "markdown",
   "metadata": {},
   "source": [
    "Functions\n",
    "- re.findall() - finds and returns all matching occurences in a list\n",
    "- re.compile() - Regular expressions are compiled into pattern objects\n",
    "- re.split() - split strings by the occurences of a character or pattern\n",
    "- re.sub() - replaces all occurences of a character or pattern with a replacement string\n",
    "- re.escape() - Escapes special character\n",
    "- re.search() - searches for first occurence of character or pattern in the string"
   ]
  },
  {
   "cell_type": "code",
   "execution_count": null,
   "metadata": {},
   "outputs": [],
   "source": [
    "print(re.findall(r'[A-Za-z]at',text_to_speech))"
   ]
  },
  {
   "cell_type": "code",
   "execution_count": null,
   "metadata": {},
   "outputs": [],
   "source": [
    "pattern = re.compile(r'\\d\\d\\d\\.\\d\\d\\d\\.\\d\\d\\d\\d')\n",
    "matches = pattern.finditer(text_to_speech)\n",
    "for match in matches:\n",
    "    print(match)"
   ]
  },
  {
   "cell_type": "code",
   "execution_count": null,
   "metadata": {},
   "outputs": [],
   "source": [
    "\n",
    "re.sub(r'\\.','*',\"text.to.speech\")"
   ]
  },
  {
   "cell_type": "code",
   "execution_count": null,
   "metadata": {},
   "outputs": [],
   "source": [
    "re.split('\\.','text.to.speech')"
   ]
  },
  {
   "cell_type": "code",
   "execution_count": null,
   "metadata": {},
   "outputs": [],
   "source": [
    "re.subn(r'\\.','*',\"text.to.speech\")"
   ]
  },
  {
   "cell_type": "code",
   "execution_count": null,
   "metadata": {},
   "outputs": [],
   "source": [
    "re.search(r'[^a-zA-Z ]','dev is a 21 years old')"
   ]
  },
  {
   "cell_type": "code",
   "execution_count": 1,
   "metadata": {},
   "outputs": [
    {
     "name": "stdout",
     "output_type": "stream",
     "text": [
      "<re.Match object; span=(1, 4), match='abc'>\n"
     ]
    }
   ],
   "source": []
  },
  {
   "cell_type": "code",
   "execution_count": 2,
   "metadata": {},
   "outputs": [
    {
     "name": "stdout",
     "output_type": "stream",
     "text": [
      "<re.Match object; span=(113, 114), match='.'>\n",
      "<re.Match object; span=(149, 150), match='.'>\n",
      "<re.Match object; span=(171, 172), match='.'>\n",
      "<re.Match object; span=(175, 176), match='.'>\n",
      "<re.Match object; span=(201, 202), match='.'>\n",
      "<re.Match object; span=(228, 229), match='.'>\n",
      "<re.Match object; span=(241, 242), match='.'>\n"
     ]
    }
   ],
   "source": [
    "pattern = re.compile(r'\\.')\n",
    "matches = pattern.finditer(text_to_speech)\n",
    "for match in matches:\n",
    "    print(match)"
   ]
  },
  {
   "cell_type": "code",
   "execution_count": 3,
   "metadata": {},
   "outputs": [
    {
     "name": "stdout",
     "output_type": "stream",
     "text": [
      "<re.Match object; span=(142, 153), match='coreyms.com'>\n"
     ]
    }
   ],
   "source": [
    "pattern = re.compile(r'coreyms\\.com')\n",
    "matches = pattern.finditer(text_to_speech)\n",
    "for match in matches:\n",
    "    print(match)"
   ]
  },
  {
   "cell_type": "markdown",
   "metadata": {},
   "source": [
    "- .  - Any character except new line\n",
    "- \\d  - Digit (0-9)\n",
    "- \\w  - Word charcter\n",
    "- \\W - not a word charcter\n",
    "- \\s - Whitespace (space,tab,newline)\n",
    "- \\S - Not whitespace(space,tab,newline)\n",
    "- \\b - Word boundary\n",
    "- \\B - Not a word boundary\n",
    "- ^ - - Beginnning of a string\n",
    "- $ - End of a string\n",
    "- [] - Matches characters in brackets\n",
    "- [^] - matches characters not in"
   ]
  },
  {
   "cell_type": "markdown",
   "metadata": {},
   "source": [
    "match the number in the string"
   ]
  },
  {
   "cell_type": "code",
   "execution_count": 4,
   "metadata": {},
   "outputs": [
    {
     "name": "stdout",
     "output_type": "stream",
     "text": [
      "<re.Match object; span=(155, 167), match='321-555-4321'>\n",
      "<re.Match object; span=(168, 180), match='123.555.4321'>\n"
     ]
    }
   ],
   "source": [
    "pattern = re.compile(r'\\d\\d\\d.\\d\\d\\d.\\d\\d\\d\\d')\n",
    "matches = pattern.finditer(text_to_speech)\n",
    "for match in matches:\n",
    "    print(match)"
   ]
  },
  {
   "cell_type": "markdown",
   "metadata": {},
   "source": [
    "we need to match cat pat and mat not bat"
   ]
  },
  {
   "cell_type": "code",
   "execution_count": 5,
   "metadata": {},
   "outputs": [
    {
     "name": "stdout",
     "output_type": "stream",
     "text": [
      "<re.Match object; span=(182, 185), match='cat'>\n",
      "<re.Match object; span=(186, 189), match='mat'>\n",
      "<re.Match object; span=(190, 193), match='pat'>\n"
     ]
    }
   ],
   "source": [
    "pattern = re.compile(r'[^b]at')\n",
    "matches = pattern.finditer(text_to_speech)\n",
    "for match in matches:\n",
    "    print(match)"
   ]
  },
  {
   "cell_type": "code",
   "execution_count": null,
   "metadata": {},
   "outputs": [],
   "source": [
    "pattern = re.compile(r'[^b]at')\n",
    "matches = pattern.finditer(text_to_speech)\n",
    "for match in matches:\n",
    "    print(match)"
   ]
  },
  {
   "cell_type": "code",
   "execution_count": null,
   "metadata": {},
   "outputs": [],
   "source": [
    "def print():\n",
    "    print(;devvvvvv)"
   ]
  }
 ],
 "metadata": {
  "kernelspec": {
   "display_name": "Python 3",
   "language": "python",
   "name": "python3"
  },
  "language_info": {
   "codemirror_mode": {
    "name": "ipython",
    "version": 3
   },
   "file_extension": ".py",
   "mimetype": "text/x-python",
   "name": "python",
   "nbconvert_exporter": "python",
   "pygments_lexer": "ipython3",
   "version": "3.10.4"
  }
 },
 "nbformat": 4,
 "nbformat_minor": 2
}
