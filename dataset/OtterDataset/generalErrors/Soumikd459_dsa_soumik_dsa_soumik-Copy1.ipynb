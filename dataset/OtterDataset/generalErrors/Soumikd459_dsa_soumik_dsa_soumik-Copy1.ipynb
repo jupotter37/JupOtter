{
 "cells": [
  {
   "cell_type": "code",
   "execution_count": 47,
   "id": "f2f429e2",
   "metadata": {},
   "outputs": [
    {
     "name": "stdout",
     "output_type": "stream",
     "text": [
      "[1, 2, 3, 4, 5, 6, 7, 8]\n"
     ]
    }
   ],
   "source": [
    "def longest_sequence(nums):\n",
    "    num_set = set(nums)\n",
    "    longest_seq = []\n",
    "    for num in nums:\n",
    "        if num-1 not in num_set:\n",
    "            curr_num = num\n",
    "            curr_seq = []\n",
    "            while curr_num in num_set:\n",
    "                curr_seq.append(curr_num)\n",
    "                curr_num += 1\n",
    "            if len(curr_seq) > len(longest_seq):\n",
    "                longest_seq = curr_seq\n",
    "            elif len(curr_seq) == len(longest_seq) and nums.index(curr_seq[0]) > nums.index(longest_seq[0]):\n",
    "                longest_seq = curr_seq\n",
    "    return longest_seq\n",
    "l = [1, 2, 5, 6, 7, 8, 10, 11, 3, 4]\n",
    "print(longest_sequence(l))"
   ]
  },
  {
   "cell_type": "code",
   "execution_count": 7,
   "id": "2c5030d8",
   "metadata": {},
   "outputs": [
    {
     "data": {
      "text/plain": [
       "4"
      ]
     },
     "execution_count": 7,
     "metadata": {},
     "output_type": "execute_result"
    }
   ],
   "source": [
    "class Solution(object):\n",
    "\n",
    "    def longest_str(self,s):\n",
    "        st = 0\n",
    "        m = 0\n",
    "        d =set()\n",
    "        for i,v in enumerate(s):\n",
    "            if v in d and st <= d[v]:\n",
    "                st = d[v]+1\n",
    "            else:\n",
    "                m = max(m,i-st +1)\n",
    "                d[v] = i\n",
    "        return m\n",
    "longest_str('abcabcbb')\n",
    "    "
   ]
  },
  {
   "cell_type": "markdown",
   "id": "fdac09d6",
   "metadata": {},
   "source": [
    "💡 Given an integer array nums, move all 0's to the end of it while maintaining the relative order of the nonzero elements.\n",
    "Note that you must do this in-place without making a copy of the array.\n",
    "\n",
    "Example 1: Input: nums = [0,1,0,3,12] Output: [1,3,12,0,0]"
   ]
  },
  {
   "cell_type": "code",
   "execution_count": null,
   "id": "ce1f561e",
   "metadata": {},
   "outputs": [],
   "source": []
  },
  {
   "cell_type": "code",
   "execution_count": 17,
   "id": "41fa8147",
   "metadata": {},
   "outputs": [
    {
     "name": "stdout",
     "output_type": "stream",
     "text": [
      "[1, 3, 12, 0, 0]\n"
     ]
    }
   ],
   "source": [
    "nums = [0,1,0,3,12]\n",
    "for i in nums:\n",
    "    if i ==0:\n",
    "        nums.remove(i)\n",
    "        nums.append(i)\n",
    "print(nums)"
   ]
  },
  {
   "cell_type": "code",
   "execution_count": null,
   "id": "733e7f32",
   "metadata": {},
   "outputs": [],
   "source": []
  },
  {
   "cell_type": "code",
   "execution_count": null,
   "id": "fd3e3fc1",
   "metadata": {},
   "outputs": [],
   "source": [
    "from bs4 import BeautifulSoup\n",
    "import requests \n",
    "url = 'https://blinkit.com/prn/paper-boat-swing-lush-lychee-juice/prid/480578'\n",
    "r =requests.get(url)\n",
    "content = r.text()\n",
    "\n"
   ]
  },
  {
   "cell_type": "code",
   "execution_count": null,
   "id": "11cdbf41",
   "metadata": {},
   "outputs": [],
   "source": [
    "l = [3,5,8,0,1,6,11,2]"
   ]
  },
  {
   "cell_type": "code",
   "execution_count": 2,
   "id": "8ab04052",
   "metadata": {},
   "outputs": [
    {
     "data": {
      "text/plain": [
       "[0, 1, 2, 3, 5, 6, 8, 11]"
      ]
     },
     "execution_count": 2,
     "metadata": {},
     "output_type": "execute_result"
    }
   ],
   "source": [
    "l = [3,5,8,0,1,6,11,2]\n",
    "def sorting(l):\n",
    "\n",
    "    for i in range(len(l)):\n",
    "        for j in range(i+1, len(l)):\n",
    "            if l[i] > l[j]:\n",
    "                l[i],l[j] = l[j],l[i]\n",
    "    return l               \n",
    "sorting(l)      "
   ]
  },
  {
   "cell_type": "code",
   "execution_count": null,
   "id": "bb81d58d",
   "metadata": {},
   "outputs": [],
   "source": [
    "n = [2,2,4,5,6,6]\n",
    "\n",
    "\n",
    "def duplicate(n):\n",
    "    dup =[]\n",
    "    seen = []\n",
    "    \n",
    "    for i in n:\n",
    "        if i in seen:\n",
    "            dup.append(i) or dup.append(i+1)\n",
    "            \n",
    "        else:\n",
    "            seen.append(i)\n",
    "    \n",
    "    return dup\n",
    "    \n",
    "duplicate(n)\n",
    "            \n",
    "        \n",
    "        \n",
    "    "
   ]
  },
  {
   "cell_type": "code",
   "execution_count": 32,
   "id": "721c0800",
   "metadata": {},
   "outputs": [
    {
     "data": {
      "text/plain": [
       "[1, 3, 5, 7, [2, 4, 6, 8, 9, 7]]"
      ]
     },
     "execution_count": 32,
     "metadata": {},
     "output_type": "execute_result"
    }
   ],
   "source": [
    "l1 =[1,3,5,7]\n",
    "l2 = [2,4,6,8,9,5,7]\n",
    "l1.append(l2)\n",
    "l2.remove(5)\n",
    "l1"
   ]
  },
  {
   "cell_type": "markdown",
   "id": "fdbef1ff",
   "metadata": {},
   "source": [
    "# check if from a given string words can form or not"
   ]
  },
  {
   "cell_type": "code",
   "execution_count": 18,
   "id": "0f2351b7",
   "metadata": {},
   "outputs": [
    {
     "data": {
      "text/plain": [
       "True"
      ]
     },
     "execution_count": 18,
     "metadata": {},
     "output_type": "execute_result"
    }
   ],
   "source": [
    "def can_form_words(words,s):\n",
    "    for word in words:\n",
    "        s_list = list(s)  # its check each word, that item of s is avl in each word or not, as s_list inside the for loop\n",
    "        for i in word:\n",
    "            if i in s_list:\n",
    "                s_list.remove(i)\n",
    "            else:\n",
    "                return False\n",
    "    return True\n",
    "\n",
    "can_form_words (['data','camp','cmd'],'datacamp')      "
   ]
  },
  {
   "cell_type": "code",
   "execution_count": 19,
   "id": "2444e435",
   "metadata": {},
   "outputs": [
    {
     "name": "stdout",
     "output_type": "stream",
     "text": [
      "False\n"
     ]
    }
   ],
   "source": [
    "def can_form_words(words, s):\n",
    "    s_list = list(s)  # its checks all the words at a time, if any element from 's' is avl in any word then it'll not use again.\n",
    "    for word in words:\n",
    "        for i in word:\n",
    "            if i in s_list:\n",
    "                s_list.remove(i)\n",
    "            else:\n",
    "                return False\n",
    "    return True\n",
    "print(can_form_words(['data', 'camp','cmd'], 'datacamp')) \n"
   ]
  },
  {
   "cell_type": "markdown",
   "id": "594ea713",
   "metadata": {},
   "source": [
    "# If word forms then find no of Vowels in eash words"
   ]
  },
  {
   "cell_type": "code",
   "execution_count": 26,
   "id": "dd5505b9",
   "metadata": {},
   "outputs": [
    {
     "name": "stdout",
     "output_type": "stream",
     "text": [
      "{'data': ['a', 'a'], 'camp': ['a'], 'cam': ['a']}\n"
     ]
    }
   ],
   "source": [
    "def can_form_word(words,s):\n",
    "    \n",
    "    for word in words:\n",
    "        s_list = list(s)   \n",
    "        for i in word:\n",
    "            if i in s_list:\n",
    "                s_list.remove(i)\n",
    "            else:\n",
    "                return False\n",
    "    return True\n",
    "\n",
    "def find_vowels_in_words(dictionary, p):\n",
    "    vowels = 'aeiou'\n",
    "    valid_word = []\n",
    "    vowels_in_word = {}\n",
    "    for w in dictionary:\n",
    "        if can_form_word(w,p):\n",
    "            valid_word.append(w)\n",
    "            word_vowels = [char for char in w if char in vowels]\n",
    "            vowels_in_word[w] = word_vowels\n",
    "    return vowels_in_word\n",
    "p = 'datacamp'\n",
    "dictionary = ['data','camp','lack','cam']\n",
    "print(find_vowels_in_words(dictionary, p))\n",
    "            "
   ]
  },
  {
   "cell_type": "code",
   "execution_count": 31,
   "id": "ea5e2723",
   "metadata": {},
   "outputs": [
    {
     "name": "stdout",
     "output_type": "stream",
     "text": [
      "[11, 13, 17, 19]\n"
     ]
    }
   ],
   "source": [
    "def is_prime(n):\n",
    "    if n<=1:\n",
    "        return False\n",
    "    for i in range(2, int(n ** 0.5)+1):\n",
    "        if n % i == 0:\n",
    "            return False\n",
    "    return True\n",
    "prime_no = []\n",
    "for n in range(11,21):\n",
    "    if is_prime(n):\n",
    "        prime_no.append(n)\n",
    "print(prime_no)\n",
    "\n",
    "    "
   ]
  },
  {
   "cell_type": "code",
   "execution_count": 4,
   "id": "266a7e07",
   "metadata": {},
   "outputs": [
    {
     "name": "stdout",
     "output_type": "stream",
     "text": [
      "3.11.5 | packaged by Anaconda, Inc. | (main, Sep 11 2023, 13:26:23) [MSC v.1916 64 bit (AMD64)]\n",
      "2.2.2\n"
     ]
    }
   ],
   "source": [
    "import sys\n",
    "import pandas as pd\n",
    "print(sys.version)\n",
    "print(pd.__version__)"
   ]
  },
  {
   "cell_type": "code",
   "execution_count": null,
   "id": "f9568188",
   "metadata": {},
   "outputs": [],
   "source": [
    "**Questions usually asked by Giant Mind panel:\n",
    " \n",
    "1. What is R Strip method   [strip() = Remove spaces at the beginning and at the end of the string:]\n",
    "   R Strip  = Remove any white spaces at the end of the string:\n",
    "\n",
    "2. What is Elite Function\n",
    "3. What is Lambda Function\n",
    "4. What is Filter Function\n",
    "5. What is Pickling\n",
    "6. Max No.of Vowels"
   ]
  },
  {
   "cell_type": "code",
   "execution_count": 6,
   "id": "b236f265",
   "metadata": {},
   "outputs": [
    {
     "data": {
      "text/plain": [
       "'Hello world'"
      ]
     },
     "execution_count": 6,
     "metadata": {},
     "output_type": "execute_result"
    }
   ],
   "source": [
    "text = 'Hello world   '\n",
    "clean = text.strip()\n",
    "clean"
   ]
  },
  {
   "cell_type": "markdown",
   "id": "42d51b8a",
   "metadata": {},
   "source": [
    "# Map ( convert each elements into upper case)"
   ]
  },
  {
   "cell_type": "code",
   "execution_count": 1,
   "id": "d27f1997",
   "metadata": {},
   "outputs": [
    {
     "data": {
      "text/plain": [
       "['APPLE', 'APPY', 'APRICOT', 'BANANA']"
      ]
     },
     "execution_count": 1,
     "metadata": {},
     "output_type": "execute_result"
    }
   ],
   "source": [
    "fruits = ['apple','appy','apricot','banana']\n",
    "mapped1 = list(map(lambda c : c.upper(),fruits))\n",
    "mapped1"
   ]
  },
  {
   "cell_type": "markdown",
   "id": "78a8372a",
   "metadata": {},
   "source": [
    "#  capitalize ( convert only first letter of each elements into upper case)"
   ]
  },
  {
   "cell_type": "code",
   "execution_count": 2,
   "id": "0083ddfa",
   "metadata": {},
   "outputs": [
    {
     "data": {
      "text/plain": [
       "['Apple', 'Appy', 'Apricot', 'Banana']"
      ]
     },
     "execution_count": 2,
     "metadata": {},
     "output_type": "execute_result"
    }
   ],
   "source": [
    "fruits = ['apple','appy','apricot','banana']\n",
    "mapped2 = list(map(lambda c : c.capitalize(),fruits))\n",
    "mapped2"
   ]
  },
  {
   "cell_type": "markdown",
   "id": "2a3ae31c",
   "metadata": {},
   "source": [
    "# convert only first 2 letter of each elements into upper case"
   ]
  },
  {
   "cell_type": "code",
   "execution_count": 5,
   "id": "1a3a4aa5",
   "metadata": {},
   "outputs": [
    {
     "data": {
      "text/plain": [
       "['APple', 'APpy', 'APricot', 'BAnana']"
      ]
     },
     "execution_count": 5,
     "metadata": {},
     "output_type": "execute_result"
    }
   ],
   "source": [
    "fruits = ['apple','appy','apricot','banana']\n",
    "mapped2 = list(map(lambda c : c[:2].upper() + c[2:],fruits))\n",
    "mapped2"
   ]
  },
  {
   "cell_type": "markdown",
   "id": "33a94843",
   "metadata": {},
   "source": [
    "# convert only last letter of each elements into upper case"
   ]
  },
  {
   "cell_type": "code",
   "execution_count": 11,
   "id": "e1378ca6",
   "metadata": {},
   "outputs": [
    {
     "data": {
      "text/plain": [
       "['applE', 'appY', 'apricoT', 'bananA']"
      ]
     },
     "execution_count": 11,
     "metadata": {},
     "output_type": "execute_result"
    }
   ],
   "source": [
    "fruits = ['apple','appy','apricot','banana']\n",
    "mapped2 = list(map(lambda c : c[:-1] +  c[-1].upper(),fruits))\n",
    "mapped2"
   ]
  },
  {
   "cell_type": "code",
   "execution_count": null,
   "id": "ba914936",
   "metadata": {},
   "outputs": [],
   "source": []
  },
  {
   "cell_type": "code",
   "execution_count": 14,
   "id": "b7265e81",
   "metadata": {},
   "outputs": [
    {
     "data": {
      "text/plain": [
       "['apple', 'appy']"
      ]
     },
     "execution_count": 14,
     "metadata": {},
     "output_type": "execute_result"
    }
   ],
   "source": [
    "fruits = ['apple','appy','apricot','banana']\n",
    "filtered = list(filter(lambda c : c[:3] == 'app',fruits))\n",
    "filtered "
   ]
  },
  {
   "cell_type": "code",
   "execution_count": null,
   "id": "eba89785",
   "metadata": {},
   "outputs": [],
   "source": []
  },
  {
   "cell_type": "markdown",
   "id": "62c5321c",
   "metadata": {},
   "source": [
    "# 1) Reverse"
   ]
  },
  {
   "cell_type": "code",
   "execution_count": 11,
   "id": "a131e24a",
   "metadata": {},
   "outputs": [
    {
     "data": {
      "text/plain": [
       "'kimuos'"
      ]
     },
     "execution_count": 11,
     "metadata": {},
     "output_type": "execute_result"
    }
   ],
   "source": [
    "def reverse (str):\n",
    "    l = ''\n",
    "    for i in range(len(str)-1,-1,-1):\n",
    "        l+=str[i]\n",
    "    return (l)\n",
    "reverse('soumik')    \n",
    "    "
   ]
  },
  {
   "cell_type": "markdown",
   "id": "b57a2378",
   "metadata": {},
   "source": [
    "# 2) Palindrome"
   ]
  },
  {
   "cell_type": "code",
   "execution_count": 1,
   "id": "e008e5f4",
   "metadata": {},
   "outputs": [
    {
     "data": {
      "text/plain": [
       "'palindrome'"
      ]
     },
     "execution_count": 1,
     "metadata": {},
     "output_type": "execute_result"
    }
   ],
   "source": [
    "def palindrome(str):\n",
    "    l = ''\n",
    "    for i in range(len(str)-1,-1,-1):\n",
    "        l +=str[i]\n",
    "    if str ==l:\n",
    "        return('palindrome')\n",
    "    else:\n",
    "        return('not palindrome')\n",
    "palindrome('madam')"
   ]
  },
  {
   "cell_type": "markdown",
   "id": "eed69527",
   "metadata": {},
   "source": [
    "# 3) Find largest"
   ]
  },
  {
   "cell_type": "code",
   "execution_count": 3,
   "id": "0989acb1",
   "metadata": {},
   "outputs": [
    {
     "data": {
      "text/plain": [
       "98"
      ]
     },
     "execution_count": 3,
     "metadata": {},
     "output_type": "execute_result"
    }
   ],
   "source": [
    "def largest(num):\n",
    "    lar = float('-inf')\n",
    "    for i in num:\n",
    "        if i > lar:\n",
    "            lar = i\n",
    "    return lar\n",
    "largest ([2,3,4,5,45,65,1,56,78,98])"
   ]
  },
  {
   "cell_type": "markdown",
   "id": "3889aa81",
   "metadata": {},
   "source": [
    "# 5) 2nd largest"
   ]
  },
  {
   "cell_type": "code",
   "execution_count": 10,
   "id": "6398e4c2",
   "metadata": {},
   "outputs": [
    {
     "data": {
      "text/plain": [
       "11"
      ]
     },
     "execution_count": 10,
     "metadata": {},
     "output_type": "execute_result"
    }
   ],
   "source": [
    "def second_largest(num):\n",
    "    largest = float('-inf')\n",
    "    sec_largest = float('-inf')\n",
    "    for i in num:\n",
    "        if i > largest:\n",
    "            sec_largest = largest\n",
    "            largest = i\n",
    "        elif i > sec_largest and i != largest:\n",
    "            sec_largest = i       \n",
    "    return sec_largest\n",
    "      \n",
    "second_largest([2,3,1,7,12,9,4,8,10,11])"
   ]
  },
  {
   "cell_type": "markdown",
   "id": "da0b21fd",
   "metadata": {},
   "source": [
    "# 4) Occurence"
   ]
  },
  {
   "cell_type": "code",
   "execution_count": 3,
   "id": "8955ce2f",
   "metadata": {},
   "outputs": [
    {
     "data": {
      "text/plain": [
       "{2: 2, 3: 2, 4: 1, 5: 2, 6: 3, 78: 1, 9: 1, 7: 1}"
      ]
     },
     "execution_count": 3,
     "metadata": {},
     "output_type": "execute_result"
    }
   ],
   "source": [
    "def occurence(num):\n",
    "    d = {}\n",
    "    for i in num:\n",
    "        if i in d:\n",
    "            d[i] += 1\n",
    "        else:\n",
    "            d[i] = 1\n",
    "    return d\n",
    "occurence([2,3,2,3,4,5,6,5,6,78,9,7,6])"
   ]
  },
  {
   "cell_type": "markdown",
   "id": "286d02e8",
   "metadata": {},
   "source": [
    "# Count occurrences of each character"
   ]
  },
  {
   "cell_type": "code",
   "execution_count": 1,
   "id": "4f7ba337",
   "metadata": {},
   "outputs": [
    {
     "data": {
      "text/plain": [
       "{'a': 3, 'n': 2, 'c': 1, 'o': 1, 'd': 1}"
      ]
     },
     "execution_count": 1,
     "metadata": {},
     "output_type": "execute_result"
    }
   ],
   "source": [
    "def occurence(str):\n",
    "    d = {}\n",
    "    for i in str:\n",
    "        if i in d:\n",
    "            d[i] += 1\n",
    "             \n",
    "        else:\n",
    "            d[i] = 1\n",
    "    return d\n",
    "occurence('anaconda')"
   ]
  },
  {
   "cell_type": "code",
   "execution_count": 29,
   "id": "8d43f3cc",
   "metadata": {},
   "outputs": [
    {
     "data": {
      "text/plain": [
       "{'a': 3, 'n': 2, 'c': 1, 'o': 1, 'd': 1}"
      ]
     },
     "execution_count": 29,
     "metadata": {},
     "output_type": "execute_result"
    }
   ],
   "source": [
    "def non_repeating(str):\n",
    "    d = {}\n",
    "    for i in str:\n",
    "        d[i] = d.get(i,0) +1\n",
    "    return d\n",
    "non_repeating('anaconda')\n",
    "        "
   ]
  },
  {
   "cell_type": "code",
   "execution_count": null,
   "id": "9ff29a42",
   "metadata": {},
   "outputs": [],
   "source": [
    "def occurence(num):\n",
    "    d = {}\n",
    "    for i in num:\n",
    "        if i in d:\n",
    "            d[i] += 1\n",
    "        else:\n",
    "            d[i] = 1\n",
    "    return d\n",
    "o"
   ]
  },
  {
   "cell_type": "markdown",
   "id": "f5936e80",
   "metadata": {},
   "source": [
    "# is_sorted  [incorrect / indexerror]"
   ]
  },
  {
   "cell_type": "code",
   "execution_count": 32,
   "id": "1a68f9bc",
   "metadata": {},
   "outputs": [
    {
     "ename": "IndexError",
     "evalue": "list index out of range",
     "output_type": "error",
     "traceback": [
      "\u001b[1;31m---------------------------------------------------------------------------\u001b[0m",
      "\u001b[1;31mIndexError\u001b[0m                                Traceback (most recent call last)",
      "Cell \u001b[1;32mIn[32], line 6\u001b[0m\n\u001b[0;32m      4\u001b[0m             \u001b[38;5;28;01mreturn\u001b[39;00m \u001b[38;5;28;01mFalse\u001b[39;00m\n\u001b[0;32m      5\u001b[0m     \u001b[38;5;28;01mreturn\u001b[39;00m \u001b[38;5;28;01mTrue\u001b[39;00m\n\u001b[1;32m----> 6\u001b[0m is_sorted([\u001b[38;5;241m2\u001b[39m,\u001b[38;5;241m4\u001b[39m,\u001b[38;5;241m6\u001b[39m,\u001b[38;5;241m7\u001b[39m,\u001b[38;5;241m8\u001b[39m,\u001b[38;5;241m9\u001b[39m])\n\u001b[0;32m      8\u001b[0m \u001b[38;5;124;03m'''The error in your function is that you are iterating over the entire list with range(len(n)), which includes the last index\u001b[39;00m\n\u001b[0;32m      9\u001b[0m \u001b[38;5;124;03mlen(n) - 1. When i is the last index, n[i + 1] will cause an IndexError because there is no element after the last element \u001b[39;00m\n\u001b[0;32m     10\u001b[0m \u001b[38;5;124;03min the list.\u001b[39;00m\n\u001b[0;32m     11\u001b[0m \n\u001b[0;32m     12\u001b[0m \u001b[38;5;124;03mYou should iterate only up to the second-to-last element using range(len(n) - 1).'''\u001b[39;00m\n",
      "Cell \u001b[1;32mIn[32], line 3\u001b[0m, in \u001b[0;36mis_sorted\u001b[1;34m(n)\u001b[0m\n\u001b[0;32m      1\u001b[0m \u001b[38;5;28;01mdef\u001b[39;00m \u001b[38;5;21mis_sorted\u001b[39m(n):\n\u001b[0;32m      2\u001b[0m     \u001b[38;5;28;01mfor\u001b[39;00m i \u001b[38;5;129;01min\u001b[39;00m \u001b[38;5;28mrange\u001b[39m(\u001b[38;5;28mlen\u001b[39m(n)):\n\u001b[1;32m----> 3\u001b[0m         \u001b[38;5;28;01mif\u001b[39;00m n[i] \u001b[38;5;241m>\u001b[39m n[i\u001b[38;5;241m+\u001b[39m\u001b[38;5;241m1\u001b[39m]:\n\u001b[0;32m      4\u001b[0m             \u001b[38;5;28;01mreturn\u001b[39;00m \u001b[38;5;28;01mFalse\u001b[39;00m\n\u001b[0;32m      5\u001b[0m     \u001b[38;5;28;01mreturn\u001b[39;00m \u001b[38;5;28;01mTrue\u001b[39;00m\n",
      "\u001b[1;31mIndexError\u001b[0m: list index out of range"
     ]
    }
   ],
   "source": [
    "def is_sorted(n):\n",
    "    for i in range(len(n)):\n",
    "        if n[i] > n[i+1]:\n",
    "            return False\n",
    "    return True\n",
    "is_sorted([2,4,6,7,8,9])\n",
    "\n",
    "'''The error in your function is that you are iterating over the entire list with range(len(n)), which includes the last index\n",
    "len(n) - 1. When i is the last index, n[i + 1] will cause an IndexError because there is no element after the last element \n",
    "in the list.\n",
    "\n",
    "You should iterate only up to the second-to-last element using range(len(n) - 1).'''"
   ]
  },
  {
   "cell_type": "markdown",
   "id": "f77eb556",
   "metadata": {},
   "source": [
    "# is_sorted [corrected]"
   ]
  },
  {
   "cell_type": "code",
   "execution_count": 35,
   "id": "bcb572b4",
   "metadata": {},
   "outputs": [
    {
     "data": {
      "text/plain": [
       "False"
      ]
     },
     "execution_count": 35,
     "metadata": {},
     "output_type": "execute_result"
    }
   ],
   "source": [
    "def is_sorted(n):\n",
    "    for i in range(len(n)-1):\n",
    "        if n[i] > n[i+1]:\n",
    "            return False\n",
    "    return True\n",
    "is_sorted([3,4,5,7,9,1,3])\n",
    "\n"
   ]
  },
  {
   "cell_type": "markdown",
   "id": "82a9055b",
   "metadata": {},
   "source": [
    "# sort the given list of no."
   ]
  },
  {
   "cell_type": "code",
   "execution_count": 34,
   "id": "5235c8d0",
   "metadata": {},
   "outputs": [
    {
     "data": {
      "text/plain": [
       "[1, 2, 3, 5, 5, 6, 6, 8, 9]"
      ]
     },
     "execution_count": 34,
     "metadata": {},
     "output_type": "execute_result"
    }
   ],
   "source": [
    "def sorting(num):\n",
    "    for i in range(len(num)-1):\n",
    "        for j in range(i+1,len(num)):\n",
    "            if num[i] > num[j]:\n",
    "                num[i],num[j]  =num[j],num[i]\n",
    "    return num\n",
    "sorting([3,5,2,1,6,8,9,5,6])"
   ]
  },
  {
   "cell_type": "markdown",
   "id": "9ff085d0",
   "metadata": {},
   "source": [
    "# 6) Duplicate"
   ]
  },
  {
   "cell_type": "code",
   "execution_count": 1,
   "id": "7b654072",
   "metadata": {},
   "outputs": [
    {
     "name": "stdout",
     "output_type": "stream",
     "text": [
      "[2, 3, 5, 6]\n"
     ]
    }
   ],
   "source": [
    "def duplicate(nums):\n",
    "    seen = set()\n",
    "    duplicates = set()\n",
    "    \n",
    "    for num in nums:\n",
    "        if num in seen:\n",
    "            duplicates.add(num)\n",
    "        else:\n",
    "            seen.add(num)\n",
    "    \n",
    "    return list(duplicates)\n",
    "\n",
    "result = duplicate([2, 3, 2, 4, 5, 5, 3, 6, 7, 6, 8, 9])\n",
    "print(result)\n"
   ]
  },
  {
   "cell_type": "markdown",
   "id": "5263ebcf",
   "metadata": {},
   "source": [
    "# 8) Prime check"
   ]
  },
  {
   "cell_type": "code",
   "execution_count": 1,
   "id": "4df0ba86",
   "metadata": {},
   "outputs": [
    {
     "data": {
      "text/plain": [
       "True"
      ]
     },
     "execution_count": 1,
     "metadata": {},
     "output_type": "execute_result"
    }
   ],
   "source": [
    "def is_prime(n):\n",
    "    if n<=1:\n",
    "        return 'not applicable'\n",
    "    for i in range(2,int(n**0.5)+1):\n",
    "        if n % i == 0:\n",
    "            return False\n",
    "    else:\n",
    "        return True\n",
    "is_prime(2)\n",
    "#for i in range(2,int(n**0.5)+1):"
   ]
  },
  {
   "cell_type": "code",
   "execution_count": 5,
   "id": "d6efc356",
   "metadata": {},
   "outputs": [
    {
     "name": "stdout",
     "output_type": "stream",
     "text": [
      "[2, 3, 5, 7, 11, 13, 17, 19, 23, 29]\n"
     ]
    }
   ],
   "source": [
    "def is_prime(num):\n",
    "    if num <= 1:\n",
    "        return False\n",
    "    for i in range(2, int(num ** 0.5) + 1):\n",
    "        if num % i == 0:\n",
    "            return False\n",
    "    return True     # else block is't mandatory so,here it is not used.if the num is not fall into the prvs 2 cndtn it rtrn true\n",
    "\n",
    "prime_numbers = []\n",
    "\n",
    "for num in range(1, 31):\n",
    "    if is_prime(num):    # if is_prime  = (check the condition , if yes)\n",
    "        prime_numbers.append(num)\n",
    "\n",
    "print(prime_numbers)"
   ]
  },
  {
   "cell_type": "code",
   "execution_count": null,
   "id": "ec2b0de6",
   "metadata": {},
   "outputs": [],
   "source": [
    "A prime number is a number that has no positive divisors (The number which divides a given number is the divisor) other than\n",
    "1 and itself. For example, 5 is prime because it can only be divided evenly by 1 and 5.\n",
    "\n",
    "Efficient Prime Checking\n",
    "To check if a number num is prime, you need to see if there are any divisors of num other than 1 and num itself.\n",
    "\n",
    "Key Insight: Divisor Pairs\n",
    "For any given number, divisors come in pairs. For example, consider the number 36:\n",
    "\n",
    "2 * 18 = 36\n",
    "3 * 12 = 36\n",
    "4 * 9 = 36\n",
    "6 * 6 = 36\n",
    "Notice that:\n",
    "\n",
    "Divisors smaller than the square root of 36 , pair with divisors larger than the square root of 36.\n",
    "Once you reach the square root, you don't need to check further. If num has a divisor greater than its square root,\n",
    "it must also have a corresponding divisor smaller than its square root.\n",
    "Practical Example\n",
    "Suppose num = 36, and you want to check if it has any divisors other than 1 and itself:\n",
    "\n",
    "Square Root Calculation:\n",
    "\n",
    "sqrt(36) = 6\n",
    "Check numbers from 2 to 6 (inclusive).\n",
    "Divisor Check:\n",
    "\n",
    "Check if 36 is divisible by 2, 3, 4, 5, and 6.\n",
    "If 36 is divisible by any of these, it is not prime.\n",
    "If none of these numbers divide 36, it is prime (although in this case, it isn't)."
   ]
  },
  {
   "cell_type": "markdown",
   "id": "fa0a470f",
   "metadata": {},
   "source": [
    "# 4) Anagram"
   ]
  },
  {
   "cell_type": "code",
   "execution_count": 10,
   "id": "2f8e3363",
   "metadata": {},
   "outputs": [
    {
     "data": {
      "text/plain": [
       "'try again'"
      ]
     },
     "execution_count": 10,
     "metadata": {},
     "output_type": "execute_result"
    }
   ],
   "source": [
    "def anagram(str1,str2):\n",
    "    if len(str1) != len(str2):\n",
    "        return ('not anagram')\n",
    "    elif sorted (str1.lower()) == sorted(str2.lower()):\n",
    "        return ('anagram')\n",
    "    else:\n",
    "        return('try again')\n",
    "anagram ('listen','lsieny')\n",
    "    "
   ]
  },
  {
   "cell_type": "markdown",
   "id": "2d6db67d",
   "metadata": {},
   "source": [
    "# 7) Factorial"
   ]
  },
  {
   "cell_type": "code",
   "execution_count": 15,
   "id": "491d3731",
   "metadata": {},
   "outputs": [
    {
     "data": {
      "text/plain": [
       "'try ageain'"
      ]
     },
     "execution_count": 15,
     "metadata": {},
     "output_type": "execute_result"
    }
   ],
   "source": [
    "def factorial(n):\n",
    "    if type(n) != int or n<0 :  # int Integers are whole numbers that can be positive, negative, or zero.\n",
    "        return ('try again')     # ensure the input to factorial is an integer so, no inverted comma in = inf\n",
    "    elif n==0 or n==1 :         # in largest factorial'-inf'  compares so inverted . \n",
    "        return n\n",
    "    else:\n",
    "        fact = n * factorial (n-1)\n",
    "    return (fact)\n",
    "factorial(8.9)\n",
    "factorial(4)\n",
    "factorial(-9)"
   ]
  },
  {
   "cell_type": "code",
   "execution_count": 15,
   "id": "7c7b5e35",
   "metadata": {},
   "outputs": [
    {
     "data": {
      "text/plain": [
       "720"
      ]
     },
     "execution_count": 15,
     "metadata": {},
     "output_type": "execute_result"
    }
   ],
   "source": [
    "def factorial(n):\n",
    "    if n==1:\n",
    "        return n\n",
    "    else:\n",
    "        fact = n *  factorial(n-1)\n",
    "    return (fact)\n",
    "factorial (6)"
   ]
  },
  {
   "cell_type": "markdown",
   "id": "b4be0d4f",
   "metadata": {},
   "source": [
    "# 6) Rverse the order of words in a given sentence."
   ]
  },
  {
   "cell_type": "code",
   "execution_count": 16,
   "id": "ba436ccd",
   "metadata": {},
   "outputs": [
    {
     "data": {
      "text/plain": [
       "'Developer Python excellent an is soumik'"
      ]
     },
     "execution_count": 16,
     "metadata": {},
     "output_type": "execute_result"
    }
   ],
   "source": [
    "def reverse_sentence(sentence):\n",
    "    words = sentence.split()   # kar upr base kore split hbe , seta split('') r por hbe,\n",
    "    reversed_words = words[::-1]\n",
    "    reversed_sentence =' '.join(reversed_words) # kar upr base kore join hbe , seta ('').join r age hbe\n",
    "    return reversed_sentence\n",
    "reverse_sentence('soumik is an excellent Python Developer')\n",
    "\n",
    "\n",
    "     "
   ]
  },
  {
   "cell_type": "markdown",
   "id": "8ea4520c",
   "metadata": {},
   "source": [
    "# 7) Remove vowel"
   ]
  },
  {
   "cell_type": "code",
   "execution_count": 10,
   "id": "f1131a7e",
   "metadata": {},
   "outputs": [
    {
     "name": "stdout",
     "output_type": "stream",
     "text": [
      "hsjyt\n"
     ]
    }
   ],
   "source": [
    "def remove_vowel(string):\n",
    "    vowels = {'a', 'e', 'i', 'o', 'u'} #The characters in the set ('a', 'e', 'i', 'o', 'u') are lowercase,set handle both uppercase and lowercase vowels uniformly.\n",
    "    result = ''                         # set allows for case-insensitive  \n",
    "    for char in string:                 # set() this notation is used when convert a iterable to a set.\n",
    "        if char not in vowels:\n",
    "            result += char\n",
    "    return result\n",
    "\n",
    "# Example usage\n",
    "print(remove_vowel('ahsjeiyt')) \n"
   ]
  },
  {
   "cell_type": "markdown",
   "id": "819a589f",
   "metadata": {},
   "source": [
    "# Find vowels from str and count max no. of vowels"
   ]
  },
  {
   "cell_type": "code",
   "execution_count": 7,
   "id": "94544917",
   "metadata": {},
   "outputs": [
    {
     "name": "stdout",
     "output_type": "stream",
     "text": [
      "ouiA\n",
      "4\n"
     ]
    }
   ],
   "source": [
    "def avl_vowel(str):\n",
    "    vowel = {'a','e','i','o','u'}\n",
    "    str_vowel = ''\n",
    "    for i in str:\n",
    "        if i.lower() in vowel:\n",
    "            str_vowel += i       \n",
    "    return str_vowel\n",
    "all_vowels = avl_vowel('soumik dAs')\n",
    "print(all_vowels)\n",
    "print(len(all_vowels))"
   ]
  },
  {
   "cell_type": "code",
   "execution_count": 7,
   "id": "3f518e5a",
   "metadata": {},
   "outputs": [
    {
     "name": "stdout",
     "output_type": "stream",
     "text": [
      "{'data': ['a', 'a'], 'camp': ['a'], 'cam': ['a']}\n"
     ]
    }
   ],
   "source": [
    "def can_form_word(word, s):\n",
    "    s_list = list(s)\n",
    "    for char in word:\n",
    "        if char in s_list:\n",
    "            s_list.remove(char)\n",
    "        else:\n",
    "            return False\n",
    "    return True\n",
    "\n",
    "def find_vowels_in_words(s, dictionary):\n",
    "    vowels = \"aeiou\"\n",
    "    valid_words = []\n",
    "    vowels_in_words = {}\n",
    "\n",
    "    for word in dictionary:\n",
    "        if can_form_word(word, s):\n",
    "            valid_words.append(word)\n",
    "            word_vowels = [char for char in word if char in vowels]\n",
    "            vowels_in_words[word] = word_vowels\n",
    "    \n",
    "    return vowels_in_words\n",
    "\n",
    "s = \"datacamp\"\n",
    "dictionary = [\"data\", \"camp\", \"cam\", \"lack\"]\n",
    "\n",
    "vowels_in_valid_words = find_vowels_in_words(s, dictionary)\n",
    "print(vowels_in_valid_words)\n",
    "\n",
    "#  word_vowels = [char for char in word if char in vowels]\n",
    "# word_vowels = []\n",
    "# for char in word:\n",
    "#     if char in vowels:\n",
    "#         word_vowels.append(char)\n"
   ]
  },
  {
   "cell_type": "markdown",
   "id": "aedaf3ae",
   "metadata": {},
   "source": [
    "# 11) Common list"
   ]
  },
  {
   "cell_type": "code",
   "execution_count": 2,
   "id": "dc506a56",
   "metadata": {},
   "outputs": [
    {
     "data": {
      "text/plain": [
       "[1, 3, 5, 7]"
      ]
     },
     "execution_count": 2,
     "metadata": {},
     "output_type": "execute_result"
    }
   ],
   "source": [
    "def common_list(list1,list2):\n",
    "    common = []\n",
    "    for i in list1:\n",
    "        if i in list2:\n",
    "            common.append(i)\n",
    "    return (common)\n",
    "list1 = [1,3,4,5,7]\n",
    "list2 = [3,1,2,6,5,7]\n",
    "common_list(list1,list2)"
   ]
  },
  {
   "cell_type": "code",
   "execution_count": 7,
   "id": "2f78b203",
   "metadata": {},
   "outputs": [
    {
     "name": "stdout",
     "output_type": "stream",
     "text": [
      "{'a', 'n', 'i'}\n"
     ]
    }
   ],
   "source": [
    "def common(num1,num2):\n",
    "    s1 = set(num1)\n",
    "    s2 = set(num2)\n",
    "    l = s1 & s2\n",
    "    print(l)\n",
    "common('rina','naina')"
   ]
  },
  {
   "cell_type": "markdown",
   "id": "d0f6e117",
   "metadata": {},
   "source": [
    "# 12) Anagram"
   ]
  },
  {
   "cell_type": "code",
   "execution_count": 7,
   "id": "26d3e65e",
   "metadata": {},
   "outputs": [
    {
     "data": {
      "text/plain": [
       "'anagram'"
      ]
     },
     "execution_count": 7,
     "metadata": {},
     "output_type": "execute_result"
    }
   ],
   "source": [
    "def anagram(str1,str2):\n",
    "    if len(str1) != len(str2) :\n",
    "        return ('not anagram')\n",
    "    else:\n",
    "        sorted(str1.lower()) == sorted(str2.lower())\n",
    "        return ('anagram')\n",
    "    \n",
    "str1 = 'listEn'    \n",
    "str2 = 'siLten'\n",
    "anagram (str1,str2)\n",
    "    "
   ]
  },
  {
   "cell_type": "markdown",
   "id": "a28fbab9",
   "metadata": {},
   "source": [
    "# 14) Fibonacci sequence"
   ]
  },
  {
   "cell_type": "code",
   "execution_count": 3,
   "id": "2c0bda63",
   "metadata": {},
   "outputs": [
    {
     "data": {
      "text/plain": [
       "[0, 1, 1, 2, 3, 5, 8, 13, 21, 34]"
      ]
     },
     "execution_count": 3,
     "metadata": {},
     "output_type": "execute_result"
    }
   ],
   "source": [
    "def fibo_series(n):\n",
    "    series =[0,1]\n",
    "    for i in range (2,n):\n",
    "        next_term = series[-1] + series [-2]\n",
    "        series.append(next_term)\n",
    "    return series\n",
    "fibo_series(10)\n",
    "    "
   ]
  },
  {
   "cell_type": "markdown",
   "id": "21ff6a21",
   "metadata": {},
   "source": [
    "# 17) Find the intersection of two lists"
   ]
  },
  {
   "cell_type": "code",
   "execution_count": 6,
   "id": "95e18df2",
   "metadata": {},
   "outputs": [
    {
     "data": {
      "text/plain": [
       "[3, 4, 5, 7]"
      ]
     },
     "execution_count": 6,
     "metadata": {},
     "output_type": "execute_result"
    }
   ],
   "source": [
    "def common (nums1,nums2):\n",
    "    common_list = []\n",
    "    for i in (nums1):\n",
    "        if i in nums2 :\n",
    "            common_list.append(i)\n",
    "    return common_list\n",
    "\n",
    "list1 = [2,3,4,5,6,0,7]\n",
    "list2 = [9,7,8,5,4,3,3]\n",
    "common (list1, list2)        \n",
    "        "
   ]
  },
  {
   "cell_type": "markdown",
   "id": "766c6e02",
   "metadata": {},
   "source": [
    "# Find the median of a list of numbers "
   ]
  },
  {
   "cell_type": "code",
   "execution_count": 37,
   "id": "5239ab96",
   "metadata": {},
   "outputs": [
    {
     "name": "stdout",
     "output_type": "stream",
     "text": [
      "[1, 2, 3, 4, 5, 6, 6, 7, 8, 9]\n",
      "6\n"
     ]
    },
    {
     "data": {
      "text/plain": [
       "5.5"
      ]
     },
     "execution_count": 37,
     "metadata": {},
     "output_type": "execute_result"
    }
   ],
   "source": [
    "def median(num):\n",
    "    sorted_num = sorted(num)\n",
    "    print(sorted_num)\n",
    "    n = len(sorted_num)    \n",
    "    if n % 2 == 1:\n",
    "        median = sorted_num[n//2]\n",
    "    else:\n",
    "        n % 2 == 0\n",
    "        med1 = sorted_num[n//2]\n",
    "        med2 = sorted_num[n // 2 -1]\n",
    "        median = (med1 + med2)/2\n",
    "    return median\n",
    "median([1,2,3,6,9,5,7,4,8,6])\n",
    "        \n",
    "    "
   ]
  },
  {
   "cell_type": "markdown",
   "id": "9b3d0f70",
   "metadata": {},
   "source": [
    "# First non-repeating character in a string."
   ]
  },
  {
   "cell_type": "code",
   "execution_count": 129,
   "id": "6141778c",
   "metadata": {},
   "outputs": [
    {
     "data": {
      "text/plain": [
       "'c'"
      ]
     },
     "execution_count": 129,
     "metadata": {},
     "output_type": "execute_result"
    }
   ],
   "source": [
    " \n",
    "def non_repeat(str1):\n",
    "    for i in range(len(str1)):\n",
    "        if str1[i] not in str1[i+1:]:\n",
    "            return str1[i]\n",
    "non_repeat('anaconda')"
   ]
  },
  {
   "cell_type": "markdown",
   "id": "bc3cf21a",
   "metadata": {},
   "source": [
    "# All non-repeating character in a string."
   ]
  },
  {
   "cell_type": "code",
   "execution_count": 14,
   "id": "5475e1f0",
   "metadata": {},
   "outputs": [
    {
     "data": {
      "text/plain": [
       "'o'"
      ]
     },
     "execution_count": 14,
     "metadata": {},
     "output_type": "execute_result"
    }
   ],
   "source": [
    "def first_non_repeat(str):\n",
    "    l = ''\n",
    "    for i in range(len(str)):\n",
    "        if str[i] not in str[i+1:len(str)]:\n",
    "            return str[i]\n",
    "        \n",
    "first_non_repeat('soumikdas')"
   ]
  },
  {
   "cell_type": "code",
   "execution_count": 138,
   "id": "a4b43ef9",
   "metadata": {},
   "outputs": [
    {
     "data": {
      "text/plain": [
       "['c', 'o', 'd']"
      ]
     },
     "execution_count": 138,
     "metadata": {},
     "output_type": "execute_result"
    }
   ],
   "source": [
    "def non_repeat(str1):\n",
    "    non_repeating_chars = []\n",
    "    for i in range(len(str1)):\n",
    "        if str1[i] not in str1[:i] and str1[i] not in str1[i+1:]:\n",
    "            non_repeating_chars.append(str1[i])\n",
    "    return non_repeating_chars\n",
    "non_repeat('anaconda')"
   ]
  },
  {
   "cell_type": "code",
   "execution_count": 10,
   "id": "117e4a2a",
   "metadata": {},
   "outputs": [
    {
     "name": "stdout",
     "output_type": "stream",
     "text": [
      "An error occurred: division by zero\n",
      "Execution completed\n",
      "The result is: 4.0\n",
      "Execution completed\n"
     ]
    }
   ],
   "source": [
    "def div(x, y):\n",
    "    try:\n",
    "        result = x / y\n",
    "#     except ZeroDivisionError:\n",
    "#         print('Cannot divide by zero')\n",
    "    except Exception as e:\n",
    "        print(f'An error occurred: {e}')\n",
    "    else:\n",
    "        print(f'The result is: {result}')\n",
    "    finally:\n",
    "        print('Execution completed')\n",
    "\n",
    "div(16, 0)\n",
    "div(16, 4)\n",
    "\n",
    "    "
   ]
  },
  {
   "cell_type": "markdown",
   "id": "21c346c0",
   "metadata": {},
   "source": [
    "# Frozen set"
   ]
  },
  {
   "cell_type": "code",
   "execution_count": 2,
   "id": "656ab40b",
   "metadata": {},
   "outputs": [
    {
     "name": "stdout",
     "output_type": "stream",
     "text": [
      "my frozen set frozenset({1, 2, 3, 4})\n",
      "error: you cant add 'frozenset' object has no attribute 'add'\n"
     ]
    }
   ],
   "source": [
    "fs = frozenset([1,2,3,4])\n",
    "print('my frozen set',fs)\n",
    "try:\n",
    "    fs.add(3)\n",
    "    fs\n",
    "except AttributeError as e:\n",
    "    print('error: you cant add',e)"
   ]
  },
  {
   "cell_type": "code",
   "execution_count": null,
   "id": "24cb4ce0",
   "metadata": {},
   "outputs": [],
   "source": []
  },
  {
   "cell_type": "markdown",
   "id": "fbe9905c",
   "metadata": {},
   "source": [
    "# Super()."
   ]
  },
  {
   "cell_type": "code",
   "execution_count": 2,
   "id": "f690c295",
   "metadata": {},
   "outputs": [
    {
     "name": "stdout",
     "output_type": "stream",
     "text": [
      "C init\n",
      "B init\n",
      "A init\n"
     ]
    }
   ],
   "source": [
    "# super()\n",
    "\n",
    "class A:\n",
    "    def __init__(self):\n",
    "        print('A init')\n",
    "        super().__init__()\n",
    "        \n",
    "class B:\n",
    "    def __init__(self):\n",
    "        print('B init')\n",
    "        super().__init__()\n",
    "        \n",
    "class C(B,A):\n",
    "    def __init__(self):\n",
    "        print('C init')\n",
    "        super().__init__()\n",
    "c = C() # here we are not calling __init__ method explicitely . ca as we create the instance of the class automatically __init__ was called \n",
    "#c.__init__()\n",
    "'''Here Q may rise why super() is used in class A? cz above A there is no class, it is imp cz as I inherit class C(B,A) \n",
    "so the B class is parent of A '''"
   ]
  },
  {
   "cell_type": "markdown",
   "id": "be0706be",
   "metadata": {},
   "source": [
    "# Global & Local :"
   ]
  },
  {
   "cell_type": "code",
   "execution_count": 3,
   "id": "4442b6dc",
   "metadata": {},
   "outputs": [
    {
     "name": "stdout",
     "output_type": "stream",
     "text": [
      "20\n",
      "20\n"
     ]
    }
   ],
   "source": [
    "#global\n",
    "x = 10\n",
    "def func():\n",
    "    global x\n",
    "    x = 20\n",
    "    print(x)\n",
    "func()\n",
    "print(x)"
   ]
  },
  {
   "cell_type": "code",
   "execution_count": 7,
   "id": "2a2dfb52",
   "metadata": {},
   "outputs": [
    {
     "name": "stdout",
     "output_type": "stream",
     "text": [
      "10\n"
     ]
    },
    {
     "ename": "NameError",
     "evalue": "name 'y' is not defined",
     "output_type": "error",
     "traceback": [
      "\u001b[1;31m---------------------------------------------------------------------------\u001b[0m",
      "\u001b[1;31mNameError\u001b[0m                                 Traceback (most recent call last)",
      "Cell \u001b[1;32mIn[7], line 5\u001b[0m\n\u001b[0;32m      3\u001b[0m     \u001b[38;5;28mprint\u001b[39m(y)\n\u001b[0;32m      4\u001b[0m func()\n\u001b[1;32m----> 5\u001b[0m \u001b[38;5;28mprint\u001b[39m(y)\n",
      "\u001b[1;31mNameError\u001b[0m: name 'y' is not defined"
     ]
    }
   ],
   "source": [
    "# local\n",
    "def func():\n",
    "    y = 10\n",
    "    print(y)\n",
    "func()\n",
    "print(y)"
   ]
  },
  {
   "cell_type": "code",
   "execution_count": 26,
   "id": "c68cfd6f",
   "metadata": {},
   "outputs": [
    {
     "name": "stdout",
     "output_type": "stream",
     "text": [
      "0\n",
      "1\n",
      "2\n",
      "3\n",
      "4\n",
      "5\n"
     ]
    }
   ],
   "source": [
    "\n",
    "x= range(6)\n",
    "for i in x:\n",
    "    print(i)"
   ]
  },
  {
   "cell_type": "code",
   "execution_count": 117,
   "id": "7bd6fbff",
   "metadata": {},
   "outputs": [
    {
     "data": {
      "text/plain": [
       "6"
      ]
     },
     "execution_count": 117,
     "metadata": {},
     "output_type": "execute_result"
    }
   ],
   "source": [
    "class A:\n",
    "    pass\n",
    "    @staticmethod\n",
    "    def add(x,y):\n",
    "        return x+y\n",
    "\n",
    "    @staticmethod\n",
    "    def sub(x,y):\n",
    "        return x-y\n",
    "\n",
    "A.add(2,3)\n",
    "A.sub(8,2)\n"
   ]
  },
  {
   "cell_type": "markdown",
   "id": "d9aecd08",
   "metadata": {},
   "source": [
    "# Split() by index"
   ]
  },
  {
   "cell_type": "code",
   "execution_count": 1,
   "id": "04ea4022",
   "metadata": {},
   "outputs": [
    {
     "name": "stdout",
     "output_type": "stream",
     "text": [
      "data camp\n"
     ]
    }
   ],
   "source": [
    "s = \"datacamp\"\n",
    "part1, part2 = s[:4], s[4:]\n",
    "print(part1, part2)  \n"
   ]
  },
  {
   "cell_type": "code",
   "execution_count": 13,
   "id": "8a86366e",
   "metadata": {},
   "outputs": [
    {
     "name": "stdout",
     "output_type": "stream",
     "text": [
      "soumik das utpal kumar das\n"
     ]
    }
   ],
   "source": [
    "a = 'soumikdasutpalkumardas'\n",
    "myname,sur,father,surname,title = a[:6],a[6:9],a[9:14],a[14:19],a[19:]\n",
    "print(myname,sur,father,surname,title)"
   ]
  },
  {
   "cell_type": "markdown",
   "id": "d5abf44a",
   "metadata": {},
   "source": [
    "# To check if a given list is sorted in non-decreasing order."
   ]
  },
  {
   "cell_type": "code",
   "execution_count": 55,
   "id": "626f0745",
   "metadata": {},
   "outputs": [
    {
     "data": {
      "text/plain": [
       "False"
      ]
     },
     "execution_count": 55,
     "metadata": {},
     "output_type": "execute_result"
    }
   ],
   "source": [
    "def is_sorted(num):\n",
    "    for i in range(len(num)-1):\n",
    "        if num[i] > num[i+1]:\n",
    "            return False\n",
    "        else:\n",
    "            True\n",
    "is_sorted([2,3,4,3,2,3,4,5,6])       \n",
    "        \n",
    "            "
   ]
  },
  {
   "cell_type": "markdown",
   "id": "0590ecaf",
   "metadata": {},
   "source": [
    "# To know the size/ storage"
   ]
  },
  {
   "cell_type": "code",
   "execution_count": 9,
   "id": "578daf52",
   "metadata": {},
   "outputs": [
    {
     "name": "stdout",
     "output_type": "stream",
     "text": [
      "56\n"
     ]
    }
   ],
   "source": [
    "import sys\n",
    "l =[]\n",
    "print(sys.getsizeof(l))"
   ]
  },
  {
   "cell_type": "code",
   "execution_count": 8,
   "id": "64dccf7e",
   "metadata": {},
   "outputs": [
    {
     "name": "stdout",
     "output_type": "stream",
     "text": [
      "40\n"
     ]
    }
   ],
   "source": [
    "\n",
    "t=()\n",
    "print(sys.getsizeof(t))"
   ]
  },
  {
   "cell_type": "markdown",
   "id": "599e72ac",
   "metadata": {},
   "source": [
    "# *args (positional) ,**kwargs"
   ]
  },
  {
   "cell_type": "code",
   "execution_count": 17,
   "id": "25809d19",
   "metadata": {},
   "outputs": [
    {
     "name": "stdout",
     "output_type": "stream",
     "text": [
      "(1, 2, 3)\n",
      "{'a': 4, 'b': 5}\n"
     ]
    }
   ],
   "source": [
    "def func(*args,**kwargs):\n",
    "\n",
    "        print(args)\n",
    "        print(kwargs)\n",
    "func(1,2,3,a = 4,b=5)"
   ]
  },
  {
   "cell_type": "code",
   "execution_count": 24,
   "id": "f961abbc",
   "metadata": {},
   "outputs": [
    {
     "name": "stdout",
     "output_type": "stream",
     "text": [
      "15\n"
     ]
    }
   ],
   "source": [
    "from functools import reduce\n",
    "r = [1,2,3,4,5]\n",
    "a = reduce(lambda x,y: x+y ,r)\n",
    "print(a) "
   ]
  },
  {
   "cell_type": "code",
   "execution_count": 28,
   "id": "838248c1",
   "metadata": {},
   "outputs": [
    {
     "data": {
      "text/plain": [
       "[2, 4, 6, 8, 10]"
      ]
     },
     "execution_count": 28,
     "metadata": {},
     "output_type": "execute_result"
    }
   ],
   "source": [
    "f = [1,2,3,4,5]\n",
    "a = list(map(lambda x: x*2 ,f))\n",
    "a"
   ]
  },
  {
   "cell_type": "markdown",
   "id": "da0106c0",
   "metadata": {},
   "source": [
    "# Scenario-9: Calculate the total revenue generated from purchases made by users in a specific city."
   ]
  },
  {
   "cell_type": "code",
   "execution_count": null,
   "id": "f6a6f156",
   "metadata": {},
   "outputs": [],
   "source": [
    "total_revenue = purchases.objects.filter(city = 'New York').aggregate(total_revenue = models.Sum('amount'))['total_revenue']\n",
    "\n",
    "class Purchase(models.Model):\n",
    "    user = models.ForeignKey(User, on_delete=models.CASCADE)\n",
    "    city = models.CharField(max_length=100)\n",
    "    amount = models.DecimalField(max_digits=10, decimal_places=2)\n",
    "    timestamp = models.DateTimeField(auto_now_add=True)\n",
    "# SQL     \n",
    "SELECT SUM(amount) AS total_revenue FROM Purchase;\n"
   ]
  },
  {
   "cell_type": "code",
   "execution_count": null,
   "id": "456abcf6",
   "metadata": {},
   "outputs": [],
   "source": [
    "total_revenue = Purchase.objects.filter(user__profile__city=city).aggregate(total_revenue=models.Sum('amount'))['total_revenue']\n",
    "\n",
    "\n",
    "'''['total_revenue']: Extracts the value associated with the total_revenue key from the dictionary returned by the aggregate \n",
    "method.\n",
    "  user__profile__city=city: Uses double underscores (__) to follow relationships across models. This condition means that \n",
    "the query will only include purchases where the associated user's profile's city is \"New York\"'''\n",
    "\n",
    "class Profile(models.Model):\n",
    "    user = models.OneToOneField(User, on_delete=models.CASCADE)\n",
    "    city = models.CharField(max_length=100)\n",
    "\n",
    "class Purchase(models.Model):\n",
    "    user = models.ForeignKey(User, on_delete=models.CASCADE)\n",
    "    amount = models.DecimalField(max_digits=10, decimal_places=2)\n",
    "    timestamp = models.DateTimeField(auto_now_add=True)\n",
    "\n",
    "\n"
   ]
  },
  {
   "cell_type": "code",
   "execution_count": null,
   "id": "49f06a91",
   "metadata": {},
   "outputs": [],
   "source": [
    "users = purchase.objects.filter(is_active = True,users__date__gt = timezone.now() - timezone.timedelta(days = 30)).distinct()"
   ]
  },
  {
   "cell_type": "markdown",
   "id": "a1f2c785",
   "metadata": {},
   "source": [
    "# Scenario-8: Retrieve all active users who have made a purchase in the last month."
   ]
  },
  {
   "cell_type": "code",
   "execution_count": null,
   "id": "31cfa01a",
   "metadata": {},
   "outputs": [],
   "source": [
    "users = Users.objects.filter(is_active = True,purchase__date__gte = timezone.now() - timezone.timedelta(days = 30)).distinct()"
   ]
  },
  {
   "cell_type": "code",
   "execution_count": null,
   "id": "520f8298",
   "metadata": {},
   "outputs": [],
   "source": [
    "from django.utils import timezone\n",
    "from datetime import timedelta\n",
    "from django.contrib.auth.models import User\n",
    "\n",
    "one_month_ago = timezone.now() - timezone.timedelta(days=30)\n",
    "\n",
    "active_users = User.objects.filter(is_active=True, purchase__date__gte=one_month_ago).distinct()\n"
   ]
  },
  {
   "cell_type": "code",
   "execution_count": null,
   "id": "a7eb125e",
   "metadata": {},
   "outputs": [],
   "source": [
    "# Dj- models\n",
    "\n",
    "from django.db import models\n",
    "from django.contrib.auth.models import User\n",
    "from django.utils import timezone\n",
    "\n",
    "class Purchase(models.Model):\n",
    "    user = models.ForeignKey(User, on_delete=models.CASCADE)\n",
    "    date = models.DateTimeField()\n",
    "    amount = models.DecimalField(max_digits=10, decimal_places=2)\n",
    "    \n",
    "    \n",
    "# SQL \n",
    "SELECT DISTINCT auth_user.*\n",
    "FROM auth_user\n",
    "INNER JOIN purchase ON auth_user.id = purchase.user_id\n",
    "WHERE auth_user.is_active = TRUE\n",
    "  AND purchase.date >= NOW() - INTERVAL '30 days';\n",
    "\n",
    "INNER JOIN purchase ON auth_user.id = purchase.user_id: Joins the auth_user table with the purchase table on the condition that\n",
    "the id column in auth_user matches the user_id column in purchase. This ensures we only consider users who have made a purchase.\n"
   ]
  },
  {
   "cell_type": "markdown",
   "id": "d89cb439",
   "metadata": {},
   "source": [
    "# Retrieve all users who have not made any purchases yet."
   ]
  },
  {
   "cell_type": "code",
   "execution_count": null,
   "id": "f0192fe2",
   "metadata": {},
   "outputs": [],
   "source": [
    "user_not_purchased = Users.objects.filter(purchase__isnull = True)\n",
    "\n",
    "'''purchase__isnull=True: This checks for users who do not have any related Purchase records. It will correctly return all users\n",
    "who have not made any purchases.\n",
    "When I mentioned \"no related Purchase objects,\" I meant that there are no entries in the Purchase table associated with the \n",
    "particular User object. This relationship is established through a foreign key field in the Purchase model that references the \n",
    "User model.'''\n",
    "\n",
    "from django.db import models\n",
    "from django.contrib.auth.models import User\n",
    "\n",
    "class Purchase(models.Model):\n",
    "    user = models.ForeignKey(User, on_delete=models.CASCADE)\n",
    "    date = models.DateTimeField()\n",
    "    amount = models.DecimalField(max_digits=10, decimal_places=2)\n",
    "\n",
    "    # SQL\n",
    "    \n",
    "    SELECT auth_user.*\n",
    "FROM auth_user\n",
    "LEFT JOIN purchase ON auth_user.id = purchase.user_id\n",
    "WHERE purchase.user_id IS NULL;\n"
   ]
  },
  {
   "cell_type": "markdown",
   "id": "a9ebb7dc",
   "metadata": {},
   "source": [
    "# Scenario-6: Retrieve all products sorted by their price in descending order."
   ]
  },
  {
   "cell_type": "code",
   "execution_count": null,
   "id": "89f7d513",
   "metadata": {},
   "outputs": [],
   "source": [
    "products = products.objects.filter(ordered_by = '-price')"
   ]
  },
  {
   "cell_type": "code",
   "execution_count": null,
   "id": "a3a47340",
   "metadata": {},
   "outputs": [],
   "source": [
    "products_desc = Product.objects.order_by('-price')\n",
    "\n",
    "    \n",
    "    from django.db import models\n",
    "\n",
    "class Product(models.Model):\n",
    "    name = models.CharField(max_length=100)\n",
    "    price = models.DecimalField(max_digits=10, decimal_places=2)\n",
    "    \n",
    "    # SQL\n",
    "    SELECT * FROM myapp_product ORDER BY price DESC;\n",
    "\n"
   ]
  },
  {
   "cell_type": "markdown",
   "id": "b94a5f92",
   "metadata": {},
   "source": [
    "# Scenario-5: Calculate the total revenue generated from all purchases."
   ]
  },
  {
   "cell_type": "code",
   "execution_count": null,
   "id": "a3c7b3f8",
   "metadata": {},
   "outputs": [],
   "source": [
    "total_rev = purchase.objects.aggregate(total_rev = models.Sum('amount'))['total_rev']"
   ]
  },
  {
   "cell_type": "code",
   "execution_count": 1,
   "id": "f1cd7d28",
   "metadata": {},
   "outputs": [
    {
     "ename": "SyntaxError",
     "evalue": "invalid syntax (3552856846.py, line 4)",
     "output_type": "error",
     "traceback": [
      "\u001b[1;36m  Cell \u001b[1;32mIn[1], line 4\u001b[1;36m\u001b[0m\n\u001b[1;33m    SELECT SUM(amount) AS total_revenue FROM myapp_purchase;\u001b[0m\n\u001b[1;37m           ^\u001b[0m\n\u001b[1;31mSyntaxError\u001b[0m\u001b[1;31m:\u001b[0m invalid syntax\n"
     ]
    }
   ],
   "source": [
    "\n",
    "total_revenue = Purchase.objects.aggregate(total_revenue=models.Sum('amount'))['total_revenue']\n",
    "\n",
    "# SQL\n",
    "SELECT SUM(amount) AS total_revenue FROM myapp_purchase;\n"
   ]
  },
  {
   "cell_type": "markdown",
   "id": "029385cd",
   "metadata": {},
   "source": [
    "aggregate() is a terminal clause for a QuerySet that, ***when invoked, returns a dictionary of name-value pairs**. The name is an identifier for the aggregate value; the value is the computed aggregate. The name is automatically generated from the name of the field and the aggregate function. If you want to manually specify a name for the aggregate value, you can do so by providing that name when you specify the aggregate clause:"
   ]
  },
  {
   "cell_type": "markdown",
   "id": "86dc220c",
   "metadata": {},
   "source": [
    "# Scenario-4: Retrieve all users with a specific role (e.g., \"admin\")."
   ]
  },
  {
   "cell_type": "code",
   "execution_count": null,
   "id": "c3fa8471",
   "metadata": {},
   "outputs": [],
   "source": [
    "all_user = Users.objects.filter(role = 'admin')"
   ]
  },
  {
   "cell_type": "markdown",
   "id": "5b8825df",
   "metadata": {},
   "source": [
    "# Scenario-3: Retrieve the details of the latest purchase made by a specific user."
   ]
  },
  {
   "cell_type": "code",
   "execution_count": null,
   "id": "997be04d",
   "metadata": {},
   "outputs": [],
   "source": [
    "\n",
    "latest_purchase = purchase.objects.filter(user_name = 'ram').latest('date')\n",
    "\n",
    "or\n",
    "User_id = 1\n",
    "latest_purchase = Purchase.objects.filter(user_id = User_id ) .latest('timestamp')"
   ]
  },
  {
   "cell_type": "code",
   "execution_count": null,
   "id": "650f8f01",
   "metadata": {},
   "outputs": [],
   "source": [
    "# find emp_name who draws maximum salary ( 1st wright the inner Q, then outer Q)\n",
    " select emp_name from emp \n",
    "    where salary = select max(salary) from emp;"
   ]
  },
  {
   "cell_type": "code",
   "execution_count": null,
   "id": "993407e0",
   "metadata": {},
   "outputs": [],
   "source": [
    "# 2nd highest salary\n",
    " select max(salary) from emp where salary <>  select max(salary) from emp;\n",
    "    \n",
    "# emp_name who draws 2nd highest salary  (sub query)\n",
    "select emp_name from emp where salary =\n",
    "(select max(salary) from emp where salary <> select max(salary) from emp);\n",
    "\n",
    "# useing limit\n",
    "\n",
    "**select salary from emp order_by salary Desc limit (n-1),1;**  n= 1\n",
    "\n",
    "diff btwn \"= & in \"\n",
    "= when compare with one value\n",
    "in compare with multiple value\n",
    " 2 = 2 True\n",
    " 2 = [1,2,3,4,5]  (it means if 2 is in the list or not)"
   ]
  },
  {
   "cell_type": "code",
   "execution_count": null,
   "id": "7a914f52",
   "metadata": {},
   "outputs": [],
   "source": [
    "-- Create Employees table\n",
    "CREATE TABLE employees (\n",
    "    employee_id INT PRIMARY KEY,\n",
    "    first_name VARCHAR(50),\n",
    "    last_name VARCHAR(50),\n",
    "    department_id INT\n",
    ");\n",
    "\n",
    "-- Create Departments table with Foreign Key\n",
    "CREATE TABLE departments (\n",
    "    department_id INT PRIMARY KEY,\n",
    "    department_name VARCHAR(50),\n",
    "    manager_id INT,\n",
    "    CONSTRAINT fk_department_employee FOREIGN KEY (manager_id) REFERENCES employees(employee_id)\n",
    ");\n",
    "\n",
    "-- Insert sample data into Employees table\n",
    "INSERT INTO employees (employee_id, first_name, last_name, department_id) VALUES\n",
    "(1, 'John', 'Doe', 101),\n",
    "(2, 'Jane', 'Smith', 102),\n",
    "(3, 'Alice', 'Johnson', 101),\n",
    "(4, 'Bob', 'Williams', 103),\n",
    "(5, 'Emily', 'Brown', 102);\n",
    "\n",
    "-- Insert sample data into Departments table\n",
    "INSERT INTO departments (department_id, department_name, manager_id) VALUES\n",
    "(101, 'Engineering', 1),\n",
    "(102, 'Marketing', 5),\n",
    "(103, 'Finance', 4);\n",
    "\n",
    "-- Perform INNER JOIN\n",
    "SELECT employees.employee_id, employees.first_name, employees.last_name, departments.department_name\n",
    "FROM employees\n",
    "INNER JOIN departments ON employees.department_id = departments.department_id;\n",
    "\n",
    "-- Perform LEFT JOIN\n",
    "SELECT employees.employee_id, employees.first_name, employees.last_name, departments.department_name\n",
    "FROM employees\n",
    "LEFT JOIN departments ON employees.department_id = departments.department_id;\n",
    "\n",
    "-- Perform RIGHT JOIN\n",
    "SELECT employees.employee_id, employees.first_name, employees.last_name, departments.department_name\n",
    "FROM employees\n",
    "RIGHT JOIN departments ON employees.department_id = departments.department_id;\n",
    "\n",
    "-- Perform FULL OUTER JOIN (supported by some databases)\n",
    "SELECT employees.employee_id, employees.first_name, employees.last_name, departments.department_name\n",
    "FROM employees\n",
    "FULL OUTER JOIN departments ON employees.department_id = departments.department_id;\n"
   ]
  },
  {
   "cell_type": "code",
   "execution_count": null,
   "id": "42bbf74a",
   "metadata": {},
   "outputs": [],
   "source": [
    "-- DISTINCT\n",
    "SELECT DISTINCT department_id FROM employees;\n",
    "\n",
    "-- LIKE Operator\n",
    "SELECT * FROM employees WHERE first_name LIKE 'J%';\n",
    "\n",
    "-- BETWEEN Operator\n",
    "SELECT * FROM employees WHERE salary BETWEEN 50000 AND 80000;\n",
    "\n",
    "-- IN Operator\n",
    "SELECT * FROM employees WHERE department_id IN (1, 2, 3);\n",
    "\n",
    "-- NOT Operator\n",
    "SELECT * FROM employees WHERE department_id NOT IN (4, 5);\n",
    "\n",
    "-- COUNT Function\n",
    "SELECT COUNT(*) FROM employees;\n",
    "\n",
    "-- MAX and MIN Functions\n",
    "SELECT MAX(salary) AS max_salary, MIN(salary) AS min_salary FROM employees;\n",
    "\n",
    "-- AVG Function\n",
    "SELECT AVG(salary) AS avg_salary FROM employees;\n",
    "\n",
    "-- SUM Function\n",
    "SELECT SUM(salary) AS total_salary FROM employees;\n",
    "\n",
    "-- GROUP BY with HAVING\n",
    "SELECT department_id, COUNT(*) as employee_count\n",
    "FROM employees\n",
    "GROUP BY department_id\n",
    "HAVING COUNT(*) > 10;"
   ]
  },
  {
   "cell_type": "code",
   "execution_count": null,
   "id": "7db8ff65",
   "metadata": {},
   "outputs": [],
   "source": [
    "import pandas as pd\n",
    "\n",
    "# Sample data\n",
    "data = {\n",
    "    'Name': ['Alice', 'Bob', 'Charlie', 'David', 'Eve'],\n",
    "    'Age': [24, 30, 22, 35, 28],\n",
    "    'City': ['New York', 'Los Angeles', 'Chicago', 'Houston', 'Phoenix'],\n",
    "    'Salary': [70000, 80000, 65000, 85000, 78000]\n",
    "}\n",
    "\n",
    "# Create DataFrame\n",
    "df = pd.DataFrame(data)\n",
    "\n",
    "# Display the DataFrame\n",
    "print(df)\n"
   ]
  },
  {
   "cell_type": "markdown",
   "id": "c7f63f76",
   "metadata": {},
   "source": [
    "# Implement a function to reverse the order of words in a given sentence"
   ]
  },
  {
   "cell_type": "code",
   "execution_count": 3,
   "id": "ed6283c1",
   "metadata": {},
   "outputs": [
    {
     "data": {
      "text/plain": [
       "'boy good a am I'"
      ]
     },
     "execution_count": 3,
     "metadata": {},
     "output_type": "execute_result"
    }
   ],
   "source": [
    "def reverse_sen(sentense):\n",
    "    words = sentense.split()\n",
    "    reverse = words[::-1]\n",
    "    merge = (' ').join(reverse)\n",
    "    return(merge)\n",
    "reverse_sen('I am a good boy')"
   ]
  },
  {
   "cell_type": "markdown",
   "id": "2a884dda",
   "metadata": {},
   "source": [
    "# Write a program to remove all vowels from a given string."
   ]
  },
  {
   "cell_type": "code",
   "execution_count": 14,
   "id": "2bafcbbd",
   "metadata": {},
   "outputs": [
    {
     "data": {
      "text/plain": [
       "'nCnD'"
      ]
     },
     "execution_count": 14,
     "metadata": {},
     "output_type": "execute_result"
    }
   ],
   "source": [
    "def remove_vowel(str):\n",
    "    vowel = {'a','e','i','o','u'}\n",
    "    no_vowel = ''\n",
    "    for i in str:\n",
    "        if i not in vowel:\n",
    "            no_vowel += i\n",
    "    return (no_vowel)\n",
    "remove_vowel('anaConDa')\n",
    "    \n",
    "            "
   ]
  },
  {
   "cell_type": "markdown",
   "id": "17980a06",
   "metadata": {},
   "source": [
    "The enumerate() function adds a counter as the key of the enumerate object.\n",
    "enumerate(iterable, start)"
   ]
  },
  {
   "cell_type": "markdown",
   "id": "79cf067b",
   "metadata": {},
   "source": [
    "# Write a Python program to find the intersection of two lists."
   ]
  },
  {
   "cell_type": "code",
   "execution_count": 15,
   "id": "ec501ac0",
   "metadata": {},
   "outputs": [
    {
     "data": {
      "text/plain": [
       "[3, 4]"
      ]
     },
     "execution_count": 15,
     "metadata": {},
     "output_type": "execute_result"
    }
   ],
   "source": [
    "def intersection(list1,list2):\n",
    "    common = []\n",
    "    for i in list1:\n",
    "        if i in list2:\n",
    "            common.append(i)\n",
    "    return common\n",
    "intersection([1,2,3,4],[3,4,5,6])\n",
    "            "
   ]
  },
  {
   "cell_type": "markdown",
   "id": "c71a23c0",
   "metadata": {},
   "source": [
    "# Implement a function to check if a given list is sorted in non-decreasing order."
   ]
  },
  {
   "cell_type": "code",
   "execution_count": 28,
   "id": "a09d2370",
   "metadata": {},
   "outputs": [
    {
     "data": {
      "text/plain": [
       "False"
      ]
     },
     "execution_count": 28,
     "metadata": {},
     "output_type": "execute_result"
    }
   ],
   "source": [
    "def is_sorted(nums):\n",
    "    n = len(nums)\n",
    "    for i in range(n-1):  #We subtract 1 from len(num) to get the index of the second-to-last element in the list.\n",
    "                           #This is necessary because we will be comparing each element with the next one, and the last element does not have a next element to compare to.\n",
    "        if nums[i] > nums[i+1]:\n",
    "            return False\n",
    "    return True\n",
    "is_sorted([2,3,5,6,4,5,6,7])"
   ]
  },
  {
   "cell_type": "code",
   "execution_count": 31,
   "id": "c531ef03",
   "metadata": {},
   "outputs": [
    {
     "data": {
      "text/plain": [
       "False"
      ]
     },
     "execution_count": 31,
     "metadata": {},
     "output_type": "execute_result"
    }
   ],
   "source": [
    "def is_sorted(nums):\n",
    "    for  i in range(len(nums)-1):\n",
    "        if nums[i] > nums[i+1]:\n",
    "            return False\n",
    "    \n",
    "    return True\n",
    "is_sorted([2,3,5,6,4,5,6,7])"
   ]
  },
  {
   "cell_type": "markdown",
   "id": "d3d3ccb3",
   "metadata": {},
   "source": [
    "# Write a program to find the median of a list of numbers."
   ]
  },
  {
   "cell_type": "code",
   "execution_count": 51,
   "id": "ec5df2ea",
   "metadata": {},
   "outputs": [],
   "source": [
    "def median(nums):\n",
    "    num = sorted(nums)\n",
    "    n = len(num)\n",
    "    \n",
    "    if n % 2 ==1:\n",
    "        num[n // 2]\n",
    "    else:\n",
    "        if n % 2 == 0:\n",
    "            med1 = num[n//2]\n",
    "            med2 = num[n-1//2]\n",
    "            avg = (med1 + med2)/2\n",
    "            \n",
    "    \n",
    "    \n",
    "median([2,3,5,6,5,7,9])\n",
    "                \n"
   ]
  },
  {
   "cell_type": "code",
   "execution_count": null,
   "id": "21f478ac",
   "metadata": {},
   "outputs": [],
   "source": [
    "def sorted(num):\n",
    "    sort = sorted(num)\n",
    "    for i in range(len(num)-1):\n",
    "        if i<i+1:\n",
    "            "
   ]
  },
  {
   "cell_type": "code",
   "execution_count": null,
   "id": "1d7e8ed1",
   "metadata": {},
   "outputs": [],
   "source": [
    "Implement a function to check if a given list is sorted in non-decreasing order."
   ]
  },
  {
   "cell_type": "code",
   "execution_count": 46,
   "id": "47a813dd",
   "metadata": {},
   "outputs": [
    {
     "data": {
      "text/plain": [
       "False"
      ]
     },
     "execution_count": 46,
     "metadata": {},
     "output_type": "execute_result"
    }
   ],
   "source": [
    "def is_sorted (num):\n",
    "    for i in range(len(num)-1):\n",
    "        if num[i] < num[i+1]:\n",
    "            return True\n",
    "        return False\n",
    "is_sorted([7,3,5,7,8,9])\n",
    "               "
   ]
  },
  {
   "cell_type": "code",
   "execution_count": 43,
   "id": "c6b6b174",
   "metadata": {},
   "outputs": [
    {
     "data": {
      "text/plain": [
       "False"
      ]
     },
     "execution_count": 43,
     "metadata": {},
     "output_type": "execute_result"
    }
   ],
   "source": [
    "def is_sorted(nums):\n",
    "    n = len(nums)\n",
    "    for i in range(n-1):\n",
    "        if nums[i] > nums[i+1]:\n",
    "            return False\n",
    "    return True\n",
    "is_sorted([34,23,12,10])"
   ]
  },
  {
   "cell_type": "code",
   "execution_count": 54,
   "id": "3d03172a",
   "metadata": {},
   "outputs": [
    {
     "name": "stdout",
     "output_type": "stream",
     "text": [
      "[2, 4, 5, 6, 7, 8]\n"
     ]
    },
    {
     "data": {
      "text/plain": [
       "5.5"
      ]
     },
     "execution_count": 54,
     "metadata": {},
     "output_type": "execute_result"
    }
   ],
   "source": [
    "def median(num):\n",
    "    sort = sorted(num)\n",
    "    print(sort)\n",
    "    n = len(sort)\n",
    "    if n % 2 == 1:\n",
    "        median = sort[n//2]\n",
    "    else:\n",
    "        n % 2 == 0\n",
    "        med1 = sort[n//2]\n",
    "        med2 = sort[n//2 -1]\n",
    "        median = (med1 + med2)/2\n",
    "    return median\n",
    "median([2,4,6,5,7,8])\n",
    "            "
   ]
  },
  {
   "cell_type": "code",
   "execution_count": 56,
   "id": "ff6e189f",
   "metadata": {},
   "outputs": [
    {
     "data": {
      "text/plain": [
       "[0, 1, 1, 2, 3, 5, 8, 13, 21, 34]"
      ]
     },
     "execution_count": 56,
     "metadata": {},
     "output_type": "execute_result"
    }
   ],
   "source": [
    "def fibonacci(n):\n",
    "    series = [0,1]\n",
    "    \n",
    "    for i in range(2,n):\n",
    "        next_term = series[-1] + series[-2]\n",
    "        series.append(next_term)\n",
    "    return series\n",
    "fibonacci(10)\n",
    "        "
   ]
  },
  {
   "cell_type": "code",
   "execution_count": 59,
   "id": "4c865b6d",
   "metadata": {},
   "outputs": [
    {
     "name": "stdout",
     "output_type": "stream",
     "text": [
      "check spelling\n"
     ]
    }
   ],
   "source": [
    "def is_anagram(str1,str2):\n",
    "    if len(str1) != len(str2):\n",
    "        print('not anagram')\n",
    "    elif sorted(str1) != sorted(str2):\n",
    "        print('check spelling')\n",
    "    else:\n",
    "        print('anagram')\n",
    "is_anagram('listen', 'tensik')"
   ]
  },
  {
   "cell_type": "code",
   "execution_count": null,
   "id": "ff8c8fa3",
   "metadata": {},
   "outputs": [],
   "source": [
    "Write a Python program to sort a list of integers in ascending order.\n",
    "def sorting(nums):\n",
    "    n=len(nums)\n",
    "    for i in range(n-1):\n",
    "        for j in range(i+1,n):\n",
    "            if nums[j]<nums[i]:\n",
    "                nums[j],nums[i]=nums[i],nums[j]\n",
    "    return nums"
   ]
  },
  {
   "cell_type": "code",
   "execution_count": 65,
   "id": "650ab000",
   "metadata": {},
   "outputs": [
    {
     "data": {
      "text/plain": [
       "[1, 2, 3, 4, 5, 5, 6, 6, 7, 7, 8]"
      ]
     },
     "execution_count": 65,
     "metadata": {},
     "output_type": "execute_result"
    }
   ],
   "source": [
    "def sortlist(num):\n",
    "    #sort = sorted(num)\n",
    "    n = len(num)\n",
    "    for i in range(n-1):\n",
    "        for j in range(i+1,n):\n",
    "            if num[j] < num[i]:\n",
    "                \n",
    "                num[i],num[j] = num[j],num[i]\n",
    "    return num \n",
    "        \n",
    "sortlist([2,3,6,7,8,5,6,7,5,4,1])"
   ]
  },
  {
   "cell_type": "code",
   "execution_count": 77,
   "id": "c540fb79",
   "metadata": {},
   "outputs": [
    {
     "name": "stdout",
     "output_type": "stream",
     "text": [
      "dog barks\n",
      "cat barks\n"
     ]
    }
   ],
   "source": [
    "from abc import ABC, abstractmethod\n",
    "class Animal:\n",
    "    @abstractmethod\n",
    "    def sound(self):\n",
    "        pass\n",
    "class Dog(Animal):\n",
    "    def sound(self):\n",
    "        print('dog barks')\n",
    "class Cat(Animal):\n",
    "    def sound(self):\n",
    "        print('cat barks')        \n",
    "        \n",
    "dog = Dog()\n",
    "cat = Cat()\n",
    "dog.sound()\n",
    "cat.sound()"
   ]
  },
  {
   "cell_type": "code",
   "execution_count": 93,
   "id": "fcd43f23",
   "metadata": {},
   "outputs": [
    {
     "name": "stdout",
     "output_type": "stream",
     "text": [
      "cow humba\n",
      "cat meows\n",
      "dog barks\n",
      "animal sounds\n"
     ]
    }
   ],
   "source": [
    "class Animal:\n",
    "    def sound(self):\n",
    "        print('animal sounds')\n",
    "        \n",
    "class Dog(Animal):\n",
    "    def sound(self):\n",
    "        \n",
    "        print('dog barks')\n",
    "        super().sound()\n",
    "class Cat(Dog):\n",
    "    def sound(self):\n",
    "        \n",
    "        print('cat meows')\n",
    "        super().sound()\n",
    "class Cow(Cat):\n",
    "    def sound(self):\n",
    "        \n",
    "        print('cow humba')\n",
    "        super().sound()\n",
    "cow = Cow()\n",
    "cow.sound()"
   ]
  },
  {
   "cell_type": "code",
   "execution_count": 106,
   "id": "cd429be3",
   "metadata": {},
   "outputs": [
    {
     "name": "stdout",
     "output_type": "stream",
     "text": [
      " C init\n",
      " B init\n",
      " A init\n"
     ]
    }
   ],
   "source": [
    "class A:\n",
    "    def __init__(self):\n",
    "        super().__init__()\n",
    "        print(' A init')\n",
    "        \n",
    "class B:\n",
    "    def __init__(self):\n",
    "        print(' B init')\n",
    "        super().__init__()\n",
    "class C(A,B):\n",
    "    def __init__(self):\n",
    "        \n",
    "        print(' C init') \n",
    "        super().__init__()\n",
    "c = C()\n"
   ]
  },
  {
   "cell_type": "code",
   "execution_count": 112,
   "id": "b059e3e2",
   "metadata": {},
   "outputs": [
    {
     "ename": "TypeError",
     "evalue": "add() missing 1 required positional argument: 'y'",
     "output_type": "error",
     "traceback": [
      "\u001b[1;31m---------------------------------------------------------------------------\u001b[0m",
      "\u001b[1;31mTypeError\u001b[0m                                 Traceback (most recent call last)",
      "Cell \u001b[1;32mIn[112], line 5\u001b[0m\n\u001b[0;32m      3\u001b[0m         \u001b[38;5;28;01mreturn\u001b[39;00m add()\n\u001b[0;32m      4\u001b[0m     \u001b[38;5;28;01mreturn\u001b[39;00m wrapper\n\u001b[1;32m----> 5\u001b[0m \u001b[38;5;129m@add\u001b[39m\n\u001b[0;32m      6\u001b[0m \u001b[38;5;28;01mdef\u001b[39;00m \u001b[38;5;21msubtract\u001b[39m(x,y):\n\u001b[0;32m      7\u001b[0m     \u001b[38;5;28;01mreturn\u001b[39;00m (x\u001b[38;5;241m-\u001b[39my)\n\u001b[0;32m      8\u001b[0m \u001b[38;5;129m@add\u001b[39m\n\u001b[0;32m      9\u001b[0m \u001b[38;5;28;01mdef\u001b[39;00m \u001b[38;5;21mmulti\u001b[39m(x,y):\n",
      "\u001b[1;31mTypeError\u001b[0m: add() missing 1 required positional argument: 'y'"
     ]
    }
   ],
   "source": [
    "def add(x,y):\n",
    "    def wrapper(func):\n",
    "        return add()\n",
    "    return wrapper\n",
    "@add\n",
    "def subtract(x,y):\n",
    "    return (x-y)\n",
    "@add\n",
    "def multi(x,y):\n",
    "    return(x*y)\n"
   ]
  },
  {
   "cell_type": "code",
   "execution_count": null,
   "id": "fe65573c",
   "metadata": {},
   "outputs": [],
   "source": []
  },
  {
   "cell_type": "code",
   "execution_count": 25,
   "id": "b15335c6",
   "metadata": {},
   "outputs": [
    {
     "name": "stdout",
     "output_type": "stream",
     "text": [
      "Empty DataFrame\n",
      "Columns: [Title, Price, Discount]\n",
      "Index: []\n"
     ]
    }
   ],
   "source": [
    "import pandas as pd\n",
    "import requests\n",
    "from bs4 import BeautifulSoup\n",
    "\n",
    "# Send a GET request to the Amazon Gold Box Deals page\n",
    "url = \"https://www.amazon.com/gp/goldbox?ref_=nav_cs_gb&deals-widget=%257B%2522version%2522%253A1%252C%2522viewIndex%2522%253A0%252C%2522presetId%2522%253A%2522F954F5F1FE84B4B875042F730CEE0354%2522%252C%2522departments%2522%253A%255B%2522172282%2522%255D%252C%2522sorting%2522%253A%2522FEATURED%2522%257D\"\n",
    "response = requests.get(url)\n",
    "\n",
    "# Parse the HTML content\n",
    "soup = BeautifulSoup(response.content, \"html.parser\")\n",
    "\n",
    "# Find all deal items\n",
    "deal_items = soup.find_all(\"div\", class_=\"a-section a-spacing-medium\")\n",
    "\n",
    "# Create lists to store item details\n",
    "titles = []\n",
    "prices = []\n",
    "discounts = []\n",
    "\n",
    "# Loop through the deal items and extract title, price, and discount\n",
    "for item in deal_items:\n",
    "    title = item.find(\"span\", class_=\"a-text-bold\").get_text().strip()\n",
    "    price = item.find(\"span\", class_=\"a-offscreen\").get_text().strip()\n",
    "    discount_tag = item.find(\"span\", class_=\"a-badge-supplementary-text\")\n",
    "    discount = discount_tag.get_text().strip() if discount_tag else \"0%\"\n",
    "    \n",
    "    # Convert discount percentage to numeric value\n",
    "    discount_value = int(discount.strip('%').replace('+', '').replace('-', ''))\n",
    "\n",
    "    # Check if discount is 20% or more\n",
    "    if discount_value >= 20:\n",
    "        titles.append(title)\n",
    "        prices.append(price)\n",
    "        discounts.append(discount)\n",
    "\n",
    "# Create a DataFrame from the extracted data\n",
    "data = {\n",
    "    'Title': titles,\n",
    "    'Price': prices,\n",
    "    'Discount': discounts\n",
    "}\n",
    "df = pd.DataFrame(data)\n",
    "\n",
    "# Display the DataFrame\n",
    "print(df)\n"
   ]
  }
 ],
 "metadata": {
  "kernelspec": {
   "display_name": "Python 3 (ipykernel)",
   "language": "python",
   "name": "python3"
  },
  "language_info": {
   "codemirror_mode": {
    "name": "ipython",
    "version": 3
   },
   "file_extension": ".py",
   "mimetype": "text/x-python",
   "name": "python",
   "nbconvert_exporter": "python",
   "pygments_lexer": "ipython3",
   "version": "3.11.5"
  }
 },
 "nbformat": 4,
 "nbformat_minor": 5
}
