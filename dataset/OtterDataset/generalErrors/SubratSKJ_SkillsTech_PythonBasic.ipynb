{
 "cells": [
  {
   "cell_type": "code",
   "execution_count": 1,
   "id": "9f4c1802-c581-452d-9e61-6eca67d55958",
   "metadata": {},
   "outputs": [],
   "source": [
    "# Variables for anything you need to process the data , if you want to process that data which is in form of files ,database or anything ewlels\n",
    "#we need to plan for that .\n",
    "\n",
    "\n",
    "\n",
    "\n"
   ]
  },
  {
   "cell_type": "code",
   "execution_count": 2,
   "id": "0e971700-cb64-4de6-8a7d-8db6fa68e896",
   "metadata": {},
   "outputs": [
    {
     "data": {
      "text/plain": [
       "2"
      ]
     },
     "execution_count": 2,
     "metadata": {},
     "output_type": "execute_result"
    }
   ],
   "source": [
    "1+1"
   ]
  },
  {
   "cell_type": "code",
   "execution_count": 3,
   "id": "8c4d1ffb-21b7-4958-9002-f0d7dfd1542f",
   "metadata": {},
   "outputs": [
    {
     "data": {
      "text/plain": [
       "25"
      ]
     },
     "execution_count": 3,
     "metadata": {},
     "output_type": "execute_result"
    }
   ],
   "source": [
    "5*5"
   ]
  },
  {
   "cell_type": "code",
   "execution_count": 4,
   "id": "28c06792-0626-4866-a929-0bd7765cbe82",
   "metadata": {},
   "outputs": [],
   "source": [
    "#use shift +enter for shortcut to execute "
   ]
  },
  {
   "cell_type": "code",
   "execution_count": 5,
   "id": "03819db8-dd2a-49a9-ad61-312491ca4969",
   "metadata": {},
   "outputs": [],
   "source": [
    "# basically we want to store data into main memory i.e RAM so in system we need to alloacte a space and store 10 inside it and then it will try to create a refernce for a so when eever we call or invike a so 10 will be displayed \n",
    "# At end of day we need to process the data and to process it we need to store that value somewhere so a is called as variable and we store interegerdat into it .\n"
   ]
  },
  {
   "cell_type": "code",
   "execution_count": 6,
   "id": "d770eca1-6642-48b4-a353-d9e872d48d54",
   "metadata": {},
   "outputs": [],
   "source": [
    "a= 10"
   ]
  },
  {
   "cell_type": "code",
   "execution_count": 7,
   "id": "8ac2d8a9-00fd-4158-bf90-4a53f4d6f8ba",
   "metadata": {},
   "outputs": [
    {
     "data": {
      "text/plain": [
       "10"
      ]
     },
     "execution_count": 7,
     "metadata": {},
     "output_type": "execute_result"
    }
   ],
   "source": [
    "a"
   ]
  },
  {
   "cell_type": "code",
   "execution_count": 8,
   "id": "73dfd1d3-47ad-40c8-8350-eb0bc2b9801e",
   "metadata": {},
   "outputs": [
    {
     "data": {
      "text/plain": [
       "10"
      ]
     },
     "execution_count": 8,
     "metadata": {},
     "output_type": "execute_result"
    }
   ],
   "source": [
    "a"
   ]
  },
  {
   "cell_type": "code",
   "execution_count": 9,
   "id": "8c1253a3-a918-4ff9-81b9-4afd7f97da0b",
   "metadata": {},
   "outputs": [],
   "source": [
    "# we can place or name variable anything we want .. but don't consider anything use naming convention toi store the data .\n",
    "\n"
   ]
  },
  {
   "cell_type": "code",
   "execution_count": 10,
   "id": "5b2cce5d-bdac-43c2-8366-703cd4212b9c",
   "metadata": {},
   "outputs": [],
   "source": [
    "subt = 10 \n"
   ]
  },
  {
   "cell_type": "code",
   "execution_count": 11,
   "id": "f050f94d-be3a-4632-a674-c87cefbe1ab1",
   "metadata": {},
   "outputs": [
    {
     "data": {
      "text/plain": [
       "10"
      ]
     },
     "execution_count": 11,
     "metadata": {},
     "output_type": "execute_result"
    }
   ],
   "source": [
    "subt"
   ]
  },
  {
   "cell_type": "code",
   "execution_count": 12,
   "id": "ea81f69d-8e4c-41c4-8fbe-d49516681e73",
   "metadata": {},
   "outputs": [
    {
     "data": {
      "text/plain": [
       "20"
      ]
     },
     "execution_count": 12,
     "metadata": {},
     "output_type": "execute_result"
    }
   ],
   "source": [
    "a+subt"
   ]
  },
  {
   "cell_type": "code",
   "execution_count": 13,
   "id": "8628cc65-84cb-4626-9397-2ce2594aeb3b",
   "metadata": {},
   "outputs": [],
   "source": [
    "# any programing language you need to start with Variable \n",
    "# here in python it understands the datatype by it's own \n",
    "#when you use inbulit function type()\n"
   ]
  },
  {
   "cell_type": "code",
   "execution_count": 14,
   "id": "90e4fabc-8bdd-4aef-b310-abb75cd756c5",
   "metadata": {},
   "outputs": [
    {
     "data": {
      "text/plain": [
       "int"
      ]
     },
     "execution_count": 14,
     "metadata": {},
     "output_type": "execute_result"
    }
   ],
   "source": [
    "type(a)"
   ]
  },
  {
   "cell_type": "code",
   "execution_count": 15,
   "id": "fba3783f-1490-4109-88aa-a5c5f652eb71",
   "metadata": {},
   "outputs": [
    {
     "data": {
      "text/plain": [
       "int"
      ]
     },
     "execution_count": 15,
     "metadata": {},
     "output_type": "execute_result"
    }
   ],
   "source": [
    "type(subt)"
   ]
  },
  {
   "cell_type": "code",
   "execution_count": 16,
   "id": "65514beb-eaf0-47df-b445-5db85c6cf073",
   "metadata": {},
   "outputs": [],
   "source": [
    "# Errors \n"
   ]
  },
  {
   "cell_type": "code",
   "execution_count": 17,
   "id": "53737657-7356-49ca-8efb-2b3c08ccac16",
   "metadata": {},
   "outputs": [
    {
     "ename": "SyntaxError",
     "evalue": "incomplete input (2693094303.py, line 1)",
     "output_type": "error",
     "traceback": [
      "\u001b[0;36m  Cell \u001b[0;32mIn[17], line 1\u001b[0;36m\u001b[0m\n\u001b[0;31m    type(subt\u001b[0m\n\u001b[0m             ^\u001b[0m\n\u001b[0;31mSyntaxError\u001b[0m\u001b[0;31m:\u001b[0m incomplete input\n"
     ]
    }
   ],
   "source": [
    "type(subt"
   ]
  },
  {
   "cell_type": "code",
   "execution_count": 18,
   "id": "16705cd0-6878-408a-b20b-c66645f3676b",
   "metadata": {},
   "outputs": [],
   "source": [
    "b = 2.09\n"
   ]
  },
  {
   "cell_type": "code",
   "execution_count": 19,
   "id": "e5733125-b18c-4ecf-9861-84ae684642e0",
   "metadata": {},
   "outputs": [
    {
     "data": {
      "text/plain": [
       "float"
      ]
     },
     "execution_count": 19,
     "metadata": {},
     "output_type": "execute_result"
    }
   ],
   "source": [
    "type(2.09)"
   ]
  },
  {
   "cell_type": "code",
   "execution_count": 20,
   "id": "ac526abf-9e8d-4f17-ae19-ea1ffd3d1bf8",
   "metadata": {},
   "outputs": [],
   "source": [
    "c = 7623864582316745.4856375\n"
   ]
  },
  {
   "cell_type": "code",
   "execution_count": 21,
   "id": "93470ac0-e369-4b36-b3d8-71c9a641c480",
   "metadata": {},
   "outputs": [
    {
     "data": {
      "text/plain": [
       "float"
      ]
     },
     "execution_count": 21,
     "metadata": {},
     "output_type": "execute_result"
    }
   ],
   "source": [
    "type(c)"
   ]
  },
  {
   "cell_type": "code",
   "execution_count": 22,
   "id": "fd20b24b-43e2-47d0-8329-d653e6aa500f",
   "metadata": {},
   "outputs": [],
   "source": [
    "at = \"PWSKILLS\""
   ]
  },
  {
   "cell_type": "code",
   "execution_count": 23,
   "id": "c410d95f-80d6-437e-b258-0d42e79bf475",
   "metadata": {},
   "outputs": [
    {
     "data": {
      "text/plain": [
       "'PWSKILLS'"
      ]
     },
     "execution_count": 23,
     "metadata": {},
     "output_type": "execute_result"
    }
   ],
   "source": [
    "at"
   ]
  },
  {
   "cell_type": "code",
   "execution_count": 24,
   "id": "2a34a3ed-ce13-42b0-b310-5b6b6a7701d0",
   "metadata": {},
   "outputs": [
    {
     "data": {
      "text/plain": [
       "str"
      ]
     },
     "execution_count": 24,
     "metadata": {},
     "output_type": "execute_result"
    }
   ],
   "source": [
    "type(at)"
   ]
  },
  {
   "cell_type": "code",
   "execution_count": 25,
   "id": "8a7730b2-ee0a-498c-b955-d4bbb8d65dda",
   "metadata": {},
   "outputs": [],
   "source": [
    "bt = 'pwskills'"
   ]
  },
  {
   "cell_type": "code",
   "execution_count": 26,
   "id": "fa693c99-35d9-4c40-883e-af9be947cb7b",
   "metadata": {},
   "outputs": [
    {
     "data": {
      "text/plain": [
       "'pwskills'"
      ]
     },
     "execution_count": 26,
     "metadata": {},
     "output_type": "execute_result"
    }
   ],
   "source": [
    "bt"
   ]
  },
  {
   "cell_type": "code",
   "execution_count": 27,
   "id": "0fa08c5b-1a26-4763-a828-39b0c8237e8a",
   "metadata": {},
   "outputs": [
    {
     "data": {
      "text/plain": [
       "str"
      ]
     },
     "execution_count": 27,
     "metadata": {},
     "output_type": "execute_result"
    }
   ],
   "source": [
    "type(bt)"
   ]
  },
  {
   "cell_type": "code",
   "execution_count": 28,
   "id": "656d7561-6aec-46a0-bf30-52db522da42f",
   "metadata": {},
   "outputs": [],
   "source": [
    "#boolean"
   ]
  },
  {
   "cell_type": "code",
   "execution_count": 29,
   "id": "ac4942a7-ee4e-46f2-ab4c-6ff1a0eead98",
   "metadata": {},
   "outputs": [],
   "source": [
    "n= True"
   ]
  },
  {
   "cell_type": "code",
   "execution_count": 30,
   "id": "4f9cae2c-22f6-4333-823b-6796d52e17a3",
   "metadata": {},
   "outputs": [
    {
     "data": {
      "text/plain": [
       "bool"
      ]
     },
     "execution_count": 30,
     "metadata": {},
     "output_type": "execute_result"
    }
   ],
   "source": [
    "type(n)"
   ]
  },
  {
   "cell_type": "code",
   "execution_count": 31,
   "id": "c81a9c6a-2d89-4cc6-b784-b13f4760f7d3",
   "metadata": {},
   "outputs": [],
   "source": [
    "m = False"
   ]
  },
  {
   "cell_type": "code",
   "execution_count": 32,
   "id": "fe42543e-e9c9-49d0-87e1-0cc0408eedde",
   "metadata": {},
   "outputs": [
    {
     "data": {
      "text/plain": [
       "bool"
      ]
     },
     "execution_count": 32,
     "metadata": {},
     "output_type": "execute_result"
    }
   ],
   "source": [
    "type(m)"
   ]
  },
  {
   "cell_type": "code",
   "execution_count": 33,
   "id": "057cbf3b-46f0-403b-9eaf-bbd7211021bb",
   "metadata": {},
   "outputs": [
    {
     "data": {
      "text/plain": [
       "1"
      ]
     },
     "execution_count": 33,
     "metadata": {},
     "output_type": "execute_result"
    }
   ],
   "source": [
    "n+m"
   ]
  },
  {
   "cell_type": "code",
   "execution_count": 34,
   "id": "a6f7ae92-0ee4-4035-9cc3-31ae77fca6e1",
   "metadata": {},
   "outputs": [],
   "source": [
    "#inetrnally it stores 1 for n and 0 for m "
   ]
  },
  {
   "cell_type": "code",
   "execution_count": 35,
   "id": "e0af9d18-4ec0-4795-8076-55792c34dd4b",
   "metadata": {},
   "outputs": [
    {
     "data": {
      "text/plain": [
       "2"
      ]
     },
     "execution_count": 35,
     "metadata": {},
     "output_type": "execute_result"
    }
   ],
   "source": [
    "True + True"
   ]
  },
  {
   "cell_type": "code",
   "execution_count": 36,
   "id": "1e7c894b-fb57-4d46-8a1d-b39326c2d383",
   "metadata": {},
   "outputs": [
    {
     "data": {
      "text/plain": [
       "1"
      ]
     },
     "execution_count": 36,
     "metadata": {},
     "output_type": "execute_result"
    }
   ],
   "source": [
    "True + False"
   ]
  },
  {
   "cell_type": "code",
   "execution_count": 37,
   "id": "66b70b28-c825-4baf-9a2c-cff315e96556",
   "metadata": {},
   "outputs": [
    {
     "ename": "ZeroDivisionError",
     "evalue": "division by zero",
     "output_type": "error",
     "traceback": [
      "\u001b[0;31m---------------------------------------------------------------------------\u001b[0m",
      "\u001b[0;31mZeroDivisionError\u001b[0m                         Traceback (most recent call last)",
      "Cell \u001b[0;32mIn[37], line 1\u001b[0m\n\u001b[0;32m----> 1\u001b[0m \u001b[38;5;28;43;01mTrue\u001b[39;49;00m\u001b[38;5;241;43m/\u001b[39;49m\u001b[38;5;28;43;01mFalse\u001b[39;49;00m\n",
      "\u001b[0;31mZeroDivisionError\u001b[0m: division by zero"
     ]
    }
   ],
   "source": [
    "True/False"
   ]
  },
  {
   "cell_type": "code",
   "execution_count": 38,
   "id": "69386ff9-3a2a-4d6e-bf62-9cd4a23e6d7b",
   "metadata": {},
   "outputs": [],
   "source": [
    "#core python we will get this error but in numpy we get inifity as value for above results."
   ]
  },
  {
   "cell_type": "code",
   "execution_count": 39,
   "id": "a2fc0115-e6a9-40f8-aa22-9ba0de882060",
   "metadata": {},
   "outputs": [
    {
     "ename": "ZeroDivisionError",
     "evalue": "division by zero",
     "output_type": "error",
     "traceback": [
      "\u001b[0;31m---------------------------------------------------------------------------\u001b[0m",
      "\u001b[0;31mZeroDivisionError\u001b[0m                         Traceback (most recent call last)",
      "Cell \u001b[0;32mIn[39], line 1\u001b[0m\n\u001b[0;32m----> 1\u001b[0m \u001b[38;5;241;43m1\u001b[39;49m\u001b[38;5;241;43m/\u001b[39;49m\u001b[38;5;241;43m0\u001b[39;49m\n",
      "\u001b[0;31mZeroDivisionError\u001b[0m: division by zero"
     ]
    }
   ],
   "source": [
    "1/0"
   ]
  },
  {
   "cell_type": "code",
   "execution_count": 40,
   "id": "313c8093-8f5a-4a4f-a7de-540029602d7d",
   "metadata": {},
   "outputs": [],
   "source": [
    "# COmplex number which is combination of real and imaginary number geenarlly we represent imaginary with i but here in python we use j"
   ]
  },
  {
   "cell_type": "code",
   "execution_count": 45,
   "id": "42e04622-8b36-48f8-9515-6733bfc32d6e",
   "metadata": {},
   "outputs": [],
   "source": [
    "v=20"
   ]
  },
  {
   "cell_type": "code",
   "execution_count": 46,
   "id": "c8dcf24b-0a5e-415a-8bd8-6daf8062505a",
   "metadata": {},
   "outputs": [
    {
     "data": {
      "text/plain": [
       "20"
      ]
     },
     "execution_count": 46,
     "metadata": {},
     "output_type": "execute_result"
    }
   ],
   "source": [
    "v"
   ]
  },
  {
   "cell_type": "code",
   "execution_count": 47,
   "id": "153106c7-0861-414e-8c38-e28b961af186",
   "metadata": {},
   "outputs": [],
   "source": [
    "v= 5 +8j"
   ]
  },
  {
   "cell_type": "code",
   "execution_count": 48,
   "id": "b7f7f296-12ab-45cb-a966-c15f55b6437d",
   "metadata": {},
   "outputs": [
    {
     "data": {
      "text/plain": [
       "complex"
      ]
     },
     "execution_count": 48,
     "metadata": {},
     "output_type": "execute_result"
    }
   ],
   "source": [
    "type(v)"
   ]
  },
  {
   "cell_type": "code",
   "execution_count": null,
   "id": "69a1a68f-eab5-44bd-b0fe-6d2a01c95bbc",
   "metadata": {},
   "outputs": [],
   "source": [
    "# use tab after v. you will find real and img use them then if you see above v= 20 and then complex  so when we try to display and update with new variable is stored and old is deleted and by this it destory the old allocation with value so this is called garbage collection call"
   ]
  },
  {
   "cell_type": "code",
   "execution_count": 49,
   "id": "32808288-275d-4033-9205-3f032074089b",
   "metadata": {},
   "outputs": [
    {
     "data": {
      "text/plain": [
       "5.0"
      ]
     },
     "execution_count": 49,
     "metadata": {},
     "output_type": "execute_result"
    }
   ],
   "source": [
    "v.real"
   ]
  },
  {
   "cell_type": "code",
   "execution_count": 50,
   "id": "9e73a0e7-b155-4ac5-8433-2e92e5842aa1",
   "metadata": {},
   "outputs": [
    {
     "data": {
      "text/plain": [
       "8.0"
      ]
     },
     "execution_count": 50,
     "metadata": {},
     "output_type": "execute_result"
    }
   ],
   "source": [
    "v.imag"
   ]
  },
  {
   "cell_type": "code",
   "execution_count": 51,
   "id": "39670cf4-4c4f-433f-9a14-50c0e07c72c1",
   "metadata": {},
   "outputs": [],
   "source": [
    "# to know about the function here type use shift and tab you will get all details about function "
   ]
  },
  {
   "cell_type": "code",
   "execution_count": 52,
   "id": "a677be6e-0f6c-4ed0-9169-0752be2faa49",
   "metadata": {},
   "outputs": [
    {
     "data": {
      "text/plain": [
       "(5+8j)"
      ]
     },
     "execution_count": 52,
     "metadata": {},
     "output_type": "execute_result"
    }
   ],
   "source": [
    "v"
   ]
  },
  {
   "cell_type": "code",
   "execution_count": 53,
   "id": "a417687c-3e09-421c-8a66-7de74b6c60f8",
   "metadata": {},
   "outputs": [],
   "source": [
    "# print function is used to display in console is usage about it ... the output tab/screen is known as console ."
   ]
  },
  {
   "cell_type": "code",
   "execution_count": 54,
   "id": "5145fbaa-29a0-43d4-9902-d4372002092a",
   "metadata": {},
   "outputs": [
    {
     "name": "stdout",
     "output_type": "stream",
     "text": [
      "My name is Subrat\n"
     ]
    }
   ],
   "source": [
    "print(\"My name is Subrat\")"
   ]
  },
  {
   "cell_type": "code",
   "execution_count": 55,
   "id": "c8e5af4e-40ef-422e-8a7d-b44c5db1d409",
   "metadata": {},
   "outputs": [
    {
     "name": "stdout",
     "output_type": "stream",
     "text": [
      "10\n"
     ]
    }
   ],
   "source": [
    "print(a)"
   ]
  },
  {
   "cell_type": "code",
   "execution_count": 56,
   "id": "d9380fa8-4224-4925-b785-43d4111f4478",
   "metadata": {},
   "outputs": [
    {
     "name": "stdout",
     "output_type": "stream",
     "text": [
      "(5+8j)\n"
     ]
    }
   ],
   "source": [
    "print(v)"
   ]
  },
  {
   "cell_type": "code",
   "execution_count": 22,
   "id": "d9de14e5-f064-454b-b568-c8b2fd858f80",
   "metadata": {},
   "outputs": [],
   "source": [
    "s= \"pwskills\""
   ]
  },
  {
   "cell_type": "code",
   "execution_count": 23,
   "id": "4e585b9e-bfee-4fc8-b3e2-b48352f0c620",
   "metadata": {},
   "outputs": [
    {
     "data": {
      "text/plain": [
       "'pwskills'"
      ]
     },
     "execution_count": 23,
     "metadata": {},
     "output_type": "execute_result"
    }
   ],
   "source": [
    "s"
   ]
  },
  {
   "cell_type": "code",
   "execution_count": 60,
   "id": "8b033cd8-95ce-491c-918e-782fba692e10",
   "metadata": {},
   "outputs": [
    {
     "data": {
      "text/plain": [
       "str"
      ]
     },
     "execution_count": 60,
     "metadata": {},
     "output_type": "execute_result"
    }
   ],
   "source": [
    "type(s)"
   ]
  },
  {
   "cell_type": "code",
   "execution_count": 61,
   "id": "a101c309-7ca0-4920-a8a3-03ec7a9a871b",
   "metadata": {},
   "outputs": [],
   "source": [
    "# string values are stored on basis of indexing ,internally stores data in form of indexing"
   ]
  },
  {
   "cell_type": "code",
   "execution_count": 62,
   "id": "3823abba-0eeb-4acb-9d9d-5f435bb5d96d",
   "metadata": {},
   "outputs": [
    {
     "data": {
      "text/plain": [
       "'p'"
      ]
     },
     "execution_count": 62,
     "metadata": {},
     "output_type": "execute_result"
    }
   ],
   "source": [
    "s[0]"
   ]
  },
  {
   "cell_type": "code",
   "execution_count": 63,
   "id": "49c28113-3832-4fea-9009-a6cb062f8d7b",
   "metadata": {},
   "outputs": [
    {
     "data": {
      "text/plain": [
       "'s'"
      ]
     },
     "execution_count": 63,
     "metadata": {},
     "output_type": "execute_result"
    }
   ],
   "source": [
    "s[2] #first s we need to fetch"
   ]
  },
  {
   "cell_type": "code",
   "execution_count": 64,
   "id": "510d7886-68f8-4d3e-9fb8-301ce4d47a63",
   "metadata": {},
   "outputs": [],
   "source": [
    "# find elements between 0 to 2 and display the value but we define three , this process i sknown as slicing ... start from 0 and \n",
    "#0 but extend till upperbound then it will return value as upperbound -1 so 3-1 = 2 so it fetch data from 0 to 2 only "
   ]
  },
  {
   "cell_type": "code",
   "execution_count": 65,
   "id": "36ff4521-5f20-4bdb-a2e9-ce5e6e845519",
   "metadata": {},
   "outputs": [
    {
     "data": {
      "text/plain": [
       "'pws'"
      ]
     },
     "execution_count": 65,
     "metadata": {},
     "output_type": "execute_result"
    }
   ],
   "source": [
    "s[0:3]"
   ]
  },
  {
   "cell_type": "code",
   "execution_count": 66,
   "id": "111d64b8-cdb0-4ac0-95b3-e3e203f0beec",
   "metadata": {},
   "outputs": [
    {
     "data": {
      "text/plain": [
       "'pw'"
      ]
     },
     "execution_count": 66,
     "metadata": {},
     "output_type": "execute_result"
    }
   ],
   "source": [
    "s[0:2]"
   ]
  },
  {
   "cell_type": "code",
   "execution_count": 68,
   "id": "062992b4-54c3-4823-9fe5-21a9fa5043ce",
   "metadata": {},
   "outputs": [
    {
     "data": {
      "text/plain": [
       "'pwsk'"
      ]
     },
     "execution_count": 68,
     "metadata": {},
     "output_type": "execute_result"
    }
   ],
   "source": [
    "s[0:4]"
   ]
  },
  {
   "cell_type": "code",
   "execution_count": 69,
   "id": "feec1646-9347-4b94-870d-2f9941d821f3",
   "metadata": {},
   "outputs": [],
   "source": [
    "#0:8:1 this means third parameter i s used to jump this default we can define 2 to see the changes "
   ]
  },
  {
   "cell_type": "code",
   "execution_count": 70,
   "id": "82d932bf-c9e9-4c91-b6f0-e5e8eba3df7d",
   "metadata": {},
   "outputs": [
    {
     "data": {
      "text/plain": [
       "'pwskills'"
      ]
     },
     "execution_count": 70,
     "metadata": {},
     "output_type": "execute_result"
    }
   ],
   "source": [
    "s[0:8:1]"
   ]
  },
  {
   "cell_type": "code",
   "execution_count": 71,
   "id": "b4007202-af32-4614-a1da-a78369a30f35",
   "metadata": {},
   "outputs": [
    {
     "data": {
      "text/plain": [
       "'psil'"
      ]
     },
     "execution_count": 71,
     "metadata": {},
     "output_type": "execute_result"
    }
   ],
   "source": [
    "s[0:8:2]"
   ]
  },
  {
   "cell_type": "code",
   "execution_count": 72,
   "id": "000d566d-0a40-4629-b0ec-9ff60b0050be",
   "metadata": {},
   "outputs": [],
   "source": [
    "# other process to display we can leave starting and ending poiint and mention only jump value "
   ]
  },
  {
   "cell_type": "code",
   "execution_count": 73,
   "id": "069f0944-d2c4-4c2b-bd59-083168275038",
   "metadata": {},
   "outputs": [
    {
     "data": {
      "text/plain": [
       "'psil'"
      ]
     },
     "execution_count": 73,
     "metadata": {},
     "output_type": "execute_result"
    }
   ],
   "source": [
    "s[::2]"
   ]
  },
  {
   "cell_type": "code",
   "execution_count": 74,
   "id": "a2c63f3e-9643-4fd6-ac8f-83d9c446767f",
   "metadata": {},
   "outputs": [
    {
     "data": {
      "text/plain": [
       "'sil'"
      ]
     },
     "execution_count": 74,
     "metadata": {},
     "output_type": "execute_result"
    }
   ],
   "source": [
    "s[2::2]  # starting is from 2 not 0 here "
   ]
  },
  {
   "cell_type": "code",
   "execution_count": 75,
   "id": "3f2eadb9-5049-4b94-baf7-73dc9db6d551",
   "metadata": {},
   "outputs": [
    {
     "ename": "ValueError",
     "evalue": "slice step cannot be zero",
     "output_type": "error",
     "traceback": [
      "\u001b[0;31m---------------------------------------------------------------------------\u001b[0m",
      "\u001b[0;31mValueError\u001b[0m                                Traceback (most recent call last)",
      "Cell \u001b[0;32mIn[75], line 1\u001b[0m\n\u001b[0;32m----> 1\u001b[0m \u001b[43ms\u001b[49m\u001b[43m[\u001b[49m\u001b[38;5;241;43m2\u001b[39;49m\u001b[43m:\u001b[49m\u001b[43m:\u001b[49m\u001b[38;5;241;43m0\u001b[39;49m\u001b[43m]\u001b[49m\n",
      "\u001b[0;31mValueError\u001b[0m: slice step cannot be zero"
     ]
    }
   ],
   "source": [
    "s[2::0] # here 0 will throw error as slice step can't be zero "
   ]
  },
  {
   "cell_type": "code",
   "execution_count": 76,
   "id": "d663a0ec-92c1-4b13-a94d-a27312f7b65d",
   "metadata": {},
   "outputs": [
    {
     "data": {
      "text/plain": [
       "'skills'"
      ]
     },
     "execution_count": 76,
     "metadata": {},
     "output_type": "execute_result"
    }
   ],
   "source": [
    "s[2::1]"
   ]
  },
  {
   "cell_type": "code",
   "execution_count": 77,
   "id": "cfacb316-ecad-404e-bab2-6d7e7a034e1d",
   "metadata": {},
   "outputs": [],
   "source": [
    "# print the requirement  pwskills in reverse direction "
   ]
  },
  {
   "cell_type": "code",
   "execution_count": 78,
   "id": "47092265-a1c4-4584-92ea-9b3298a3afa7",
   "metadata": {},
   "outputs": [
    {
     "data": {
      "text/plain": [
       "'sllikswp'"
      ]
     },
     "execution_count": 78,
     "metadata": {},
     "output_type": "execute_result"
    }
   ],
   "source": [
    "s[::-1]"
   ]
  },
  {
   "cell_type": "code",
   "execution_count": 79,
   "id": "b572dea9-cc12-4bcb-94dc-d4a1389d262f",
   "metadata": {},
   "outputs": [
    {
     "data": {
      "text/plain": [
       "''"
      ]
     },
     "execution_count": 79,
     "metadata": {},
     "output_type": "execute_result"
    }
   ],
   "source": [
    "s[2:7:-1] # here ewe are moving towrds forward direction but jumping towrds backward and direction is different so we didn't get any value "
   ]
  },
  {
   "cell_type": "code",
   "execution_count": 80,
   "id": "29df384d-bcff-472f-aab8-7900a1701ad0",
   "metadata": {},
   "outputs": [
    {
     "data": {
      "text/plain": [
       "''"
      ]
     },
     "execution_count": 80,
     "metadata": {},
     "output_type": "execute_result"
    }
   ],
   "source": [
    "s[8:0] # here we are moving backward direction but jump is 1 which is default and in opposite difrection in forward so we won't get any value "
   ]
  },
  {
   "cell_type": "code",
   "execution_count": 81,
   "id": "39267c27-d931-4b1f-aabb-393a2c221acf",
   "metadata": {},
   "outputs": [
    {
     "data": {
      "text/plain": [
       "'slliksw'"
      ]
     },
     "execution_count": 81,
     "metadata": {},
     "output_type": "execute_result"
    }
   ],
   "source": [
    "s[8:0:-1] # 8 is lower bound and 0 is upper bound  as it takes 1 level down "
   ]
  },
  {
   "cell_type": "code",
   "execution_count": 82,
   "id": "a9accedb-977b-487e-be31-4dd14b456bb8",
   "metadata": {},
   "outputs": [
    {
     "data": {
      "text/plain": [
       "''"
      ]
     },
     "execution_count": 82,
     "metadata": {},
     "output_type": "execute_result"
    }
   ],
   "source": [
    "s[-2:-8:1]"
   ]
  },
  {
   "cell_type": "code",
   "execution_count": 83,
   "id": "ae964dbf-90be-4df2-bbbf-b7913944ce22",
   "metadata": {},
   "outputs": [
    {
     "data": {
      "text/plain": [
       "'lliksw'"
      ]
     },
     "execution_count": 83,
     "metadata": {},
     "output_type": "execute_result"
    }
   ],
   "source": [
    "s[-2:-8:-1]"
   ]
  },
  {
   "cell_type": "code",
   "execution_count": 84,
   "id": "3e118959-d0ed-4f0d-b93a-cc1c72deb154",
   "metadata": {},
   "outputs": [
    {
     "data": {
      "text/plain": [
       "'ls'"
      ]
     },
     "execution_count": 84,
     "metadata": {},
     "output_type": "execute_result"
    }
   ],
   "source": [
    "s[-2::1]"
   ]
  },
  {
   "cell_type": "code",
   "execution_count": 85,
   "id": "0604eb11-53d2-49b6-bbf3-79047133f18d",
   "metadata": {},
   "outputs": [
    {
     "data": {
      "text/plain": [
       "'sllikswp'"
      ]
     },
     "execution_count": 85,
     "metadata": {},
     "output_type": "execute_result"
    }
   ],
   "source": [
    "s[::-1]"
   ]
  },
  {
   "cell_type": "code",
   "execution_count": 86,
   "id": "214944ac-760e-42f9-a673-171fc3845217",
   "metadata": {},
   "outputs": [
    {
     "data": {
      "text/plain": [
       "'slliksw'"
      ]
     },
     "execution_count": 86,
     "metadata": {},
     "output_type": "execute_result"
    }
   ],
   "source": [
    "s[:-8:-1]"
   ]
  },
  {
   "cell_type": "code",
   "execution_count": 87,
   "id": "2684534f-eb7f-45dd-a2d7-24f5429b5895",
   "metadata": {},
   "outputs": [
    {
     "ename": "IndexError",
     "evalue": "string index out of range",
     "output_type": "error",
     "traceback": [
      "\u001b[0;31m---------------------------------------------------------------------------\u001b[0m",
      "\u001b[0;31mIndexError\u001b[0m                                Traceback (most recent call last)",
      "Cell \u001b[0;32mIn[87], line 1\u001b[0m\n\u001b[0;32m----> 1\u001b[0m \u001b[43ms\u001b[49m\u001b[43m[\u001b[49m\u001b[38;5;241;43m90\u001b[39;49m\u001b[43m]\u001b[49m\n",
      "\u001b[0;31mIndexError\u001b[0m: string index out of range"
     ]
    }
   ],
   "source": [
    "s[90]  # this is called indexing"
   ]
  },
  {
   "cell_type": "code",
   "execution_count": 91,
   "id": "9ea9fc26-d745-4257-931e-4de371df6ec3",
   "metadata": {},
   "outputs": [
    {
     "data": {
      "text/plain": [
       "''"
      ]
     },
     "execution_count": 91,
     "metadata": {},
     "output_type": "execute_result"
    }
   ],
   "source": [
    "s[:-90:]  # this is slicing and called as range defined "
   ]
  },
  {
   "cell_type": "code",
   "execution_count": 92,
   "id": "9c75e73b-2537-4326-b528-b4be69aef6f3",
   "metadata": {},
   "outputs": [],
   "source": [
    "c= 200  # we can't extract each value here as it's an int value we need to covert into string in order to fetch \n",
    "#each value from it "
   ]
  },
  {
   "cell_type": "code",
   "execution_count": 93,
   "id": "607b9f67-5cdf-4f82-a90f-6c0c778cfb39",
   "metadata": {},
   "outputs": [
    {
     "data": {
      "text/plain": [
       "200"
      ]
     },
     "execution_count": 93,
     "metadata": {},
     "output_type": "execute_result"
    }
   ],
   "source": [
    "c"
   ]
  },
  {
   "cell_type": "code",
   "execution_count": 2,
   "id": "35f61a04-01ec-421d-8d28-e78d308727fd",
   "metadata": {},
   "outputs": [],
   "source": [
    "s1 = 'This is my String Class'"
   ]
  },
  {
   "cell_type": "code",
   "execution_count": 3,
   "id": "65d2a866-398f-428b-b9f7-f65339a6fd5b",
   "metadata": {},
   "outputs": [
    {
     "data": {
      "text/plain": [
       "23"
      ]
     },
     "execution_count": 3,
     "metadata": {},
     "output_type": "execute_result"
    }
   ],
   "source": [
    "len(s1)  # length is an inbuilt fuction "
   ]
  },
  {
   "cell_type": "code",
   "execution_count": 4,
   "id": "ea9df072-1cf2-4edb-80b6-053cf52c99cd",
   "metadata": {},
   "outputs": [
    {
     "data": {
      "text/plain": [
       "3"
      ]
     },
     "execution_count": 4,
     "metadata": {},
     "output_type": "execute_result"
    }
   ],
   "source": [
    "s1.find('s')  # it return the index value fo rthe first s which we got from the string"
   ]
  },
  {
   "cell_type": "code",
   "execution_count": 5,
   "id": "60fb6db7-e009-4f0f-92fd-4f4f568189a8",
   "metadata": {},
   "outputs": [
    {
     "data": {
      "text/plain": [
       "2"
      ]
     },
     "execution_count": 5,
     "metadata": {},
     "output_type": "execute_result"
    }
   ],
   "source": [
    "s1.find('i')"
   ]
  },
  {
   "cell_type": "code",
   "execution_count": 6,
   "id": "5ca0d514-ccf0-4d72-8cee-16de13148d59",
   "metadata": {},
   "outputs": [
    {
     "data": {
      "text/plain": [
       "2"
      ]
     },
     "execution_count": 6,
     "metadata": {},
     "output_type": "execute_result"
    }
   ],
   "source": [
    "s1.find(\"is\")"
   ]
  },
  {
   "cell_type": "code",
   "execution_count": 7,
   "id": "a41ce6a1-50a6-48ef-9254-10208d66c24b",
   "metadata": {},
   "outputs": [
    {
     "data": {
      "text/plain": [
       "-1"
      ]
     },
     "execution_count": 7,
     "metadata": {},
     "output_type": "execute_result"
    }
   ],
   "source": [
    "s1.find(\"iS\")  # python is case sensitive so returns -1 "
   ]
  },
  {
   "cell_type": "code",
   "execution_count": 8,
   "id": "0bf8c995-2d9c-45cb-b3a6-953c064b58ae",
   "metadata": {},
   "outputs": [],
   "source": [
    "#write s1. tab key to get list of functions "
   ]
  },
  {
   "cell_type": "code",
   "execution_count": 10,
   "id": "32784bdb-457a-4d68-acd3-a69aea142218",
   "metadata": {},
   "outputs": [
    {
     "data": {
      "text/plain": [
       "4"
      ]
     },
     "execution_count": 10,
     "metadata": {},
     "output_type": "execute_result"
    }
   ],
   "source": [
    "s1.count('s')"
   ]
  },
  {
   "cell_type": "code",
   "execution_count": 11,
   "id": "4a3e57b9-a8cc-4ec7-b37e-5b79672944b1",
   "metadata": {},
   "outputs": [
    {
     "data": {
      "text/plain": [
       "0"
      ]
     },
     "execution_count": 11,
     "metadata": {},
     "output_type": "execute_result"
    }
   ],
   "source": [
    "s1.count('st')"
   ]
  },
  {
   "cell_type": "code",
   "execution_count": 12,
   "id": "41573fcc-17e1-4e96-8d06-76bd022d5680",
   "metadata": {},
   "outputs": [
    {
     "data": {
      "text/plain": [
       "0"
      ]
     },
     "execution_count": 12,
     "metadata": {},
     "output_type": "execute_result"
    }
   ],
   "source": [
    "s1.count('z')"
   ]
  },
  {
   "cell_type": "code",
   "execution_count": 13,
   "id": "e4974301-8afb-4661-b781-27bf84e9ab2a",
   "metadata": {},
   "outputs": [
    {
     "data": {
      "text/plain": [
       "'This is my String Class'"
      ]
     },
     "execution_count": 13,
     "metadata": {},
     "output_type": "execute_result"
    }
   ],
   "source": [
    "s1"
   ]
  },
  {
   "cell_type": "code",
   "execution_count": 15,
   "id": "0911e3f4-f519-45aa-812b-c9f41747fef7",
   "metadata": {},
   "outputs": [
    {
     "data": {
      "text/plain": [
       "'THIS IS MY STRING CLASS'"
      ]
     },
     "execution_count": 15,
     "metadata": {},
     "output_type": "execute_result"
    }
   ],
   "source": [
    "s1.upper()"
   ]
  },
  {
   "cell_type": "code",
   "execution_count": 16,
   "id": "ff29aee8-79d3-4776-966b-fe985ae518f2",
   "metadata": {},
   "outputs": [],
   "source": [
    "s2 = 'THIS IS MY STRING CLASS'"
   ]
  },
  {
   "cell_type": "code",
   "execution_count": 17,
   "id": "d8997b35-c903-4f88-b419-6a3ea9706628",
   "metadata": {},
   "outputs": [
    {
     "data": {
      "text/plain": [
       "'this is my string class'"
      ]
     },
     "execution_count": 17,
     "metadata": {},
     "output_type": "execute_result"
    }
   ],
   "source": [
    "s2.lower()"
   ]
  },
  {
   "cell_type": "code",
   "execution_count": 19,
   "id": "f41afaaf-6a7b-4f79-a591-af135b611b23",
   "metadata": {},
   "outputs": [
    {
     "data": {
      "text/plain": [
       "'This Is My String Class'"
      ]
     },
     "execution_count": 19,
     "metadata": {},
     "output_type": "execute_result"
    }
   ],
   "source": [
    "s1.title()"
   ]
  },
  {
   "cell_type": "code",
   "execution_count": 20,
   "id": "70540e67-0e39-4fed-99fd-3bdddedcc26b",
   "metadata": {},
   "outputs": [
    {
     "data": {
      "text/plain": [
       "'This is my string class'"
      ]
     },
     "execution_count": 20,
     "metadata": {},
     "output_type": "execute_result"
    }
   ],
   "source": [
    "s1.capitalize()"
   ]
  },
  {
   "cell_type": "code",
   "execution_count": 24,
   "id": "dae3714a-32eb-44ca-9c08-f48e4d6a35c0",
   "metadata": {},
   "outputs": [
    {
     "data": {
      "text/plain": [
       "'pwskills'"
      ]
     },
     "execution_count": 24,
     "metadata": {},
     "output_type": "execute_result"
    }
   ],
   "source": [
    "s"
   ]
  },
  {
   "cell_type": "code",
   "execution_count": 25,
   "id": "0913390c-1df9-4135-845f-3a83d58ac6af",
   "metadata": {},
   "outputs": [
    {
     "ename": "TypeError",
     "evalue": "can only concatenate str (not \"int\") to str",
     "output_type": "error",
     "traceback": [
      "\u001b[0;31m---------------------------------------------------------------------------\u001b[0m",
      "\u001b[0;31mTypeError\u001b[0m                                 Traceback (most recent call last)",
      "Cell \u001b[0;32mIn[25], line 1\u001b[0m\n\u001b[0;32m----> 1\u001b[0m \u001b[43ms\u001b[49m\u001b[38;5;241;43m+\u001b[39;49m\u001b[38;5;241;43m1\u001b[39;49m\n",
      "\u001b[0;31mTypeError\u001b[0m: can only concatenate str (not \"int\") to str"
     ]
    }
   ],
   "source": [
    "s+1"
   ]
  },
  {
   "cell_type": "code",
   "execution_count": 26,
   "id": "d29b707e-ae99-48da-87d2-f9b93c399ae3",
   "metadata": {},
   "outputs": [
    {
     "data": {
      "text/plain": [
       "'pwskillssubrat'"
      ]
     },
     "execution_count": 26,
     "metadata": {},
     "output_type": "execute_result"
    }
   ],
   "source": [
    "s+\" subrat\""
   ]
  },
  {
   "cell_type": "code",
   "execution_count": 27,
   "id": "0a1e88ed-450c-4b40-9360-ff4c15e5e571",
   "metadata": {},
   "outputs": [
    {
     "data": {
      "text/plain": [
       "'pwskills1'"
      ]
     },
     "execution_count": 27,
     "metadata": {},
     "output_type": "execute_result"
    }
   ],
   "source": [
    "s+'1'"
   ]
  },
  {
   "cell_type": "code",
   "execution_count": 28,
   "id": "087635dd-25e8-42f0-8f2d-cd41b911b574",
   "metadata": {},
   "outputs": [
    {
     "data": {
      "text/plain": [
       "'pwskillspwskillspwskills'"
      ]
     },
     "execution_count": 28,
     "metadata": {},
     "output_type": "execute_result"
    }
   ],
   "source": [
    "s*3"
   ]
  },
  {
   "cell_type": "code",
   "execution_count": 29,
   "id": "0fbecbee-7e5f-42b5-8d8c-5da6e2c3d965",
   "metadata": {},
   "outputs": [
    {
     "data": {
      "text/plain": [
       "'subratsubratsubratsubrat'"
      ]
     },
     "execution_count": 29,
     "metadata": {},
     "output_type": "execute_result"
    }
   ],
   "source": [
    "'subrat'*4"
   ]
  },
  {
   "cell_type": "code",
   "execution_count": 30,
   "id": "5cd2cb33-db9b-4908-9341-eb150ca9d7ca",
   "metadata": {},
   "outputs": [
    {
     "ename": "TypeError",
     "evalue": "unsupported operand type(s) for /: 'str' and 'int'",
     "output_type": "error",
     "traceback": [
      "\u001b[0;31m---------------------------------------------------------------------------\u001b[0m",
      "\u001b[0;31mTypeError\u001b[0m                                 Traceback (most recent call last)",
      "Cell \u001b[0;32mIn[30], line 1\u001b[0m\n\u001b[0;32m----> 1\u001b[0m \u001b[38;5;124;43m'\u001b[39;49m\u001b[38;5;124;43msubrat\u001b[39;49m\u001b[38;5;124;43m'\u001b[39;49m\u001b[38;5;241;43m/\u001b[39;49m\u001b[38;5;241;43m4\u001b[39;49m\n",
      "\u001b[0;31mTypeError\u001b[0m: unsupported operand type(s) for /: 'str' and 'int'"
     ]
    }
   ],
   "source": [
    "'subrat'/4"
   ]
  },
  {
   "cell_type": "code",
   "execution_count": 31,
   "id": "87479ba3-2113-415d-b942-9bbabc73b28e",
   "metadata": {},
   "outputs": [
    {
     "ename": "SyntaxError",
     "evalue": "unterminated string literal (detected at line 1) (1811489030.py, line 1)",
     "output_type": "error",
     "traceback": [
      "\u001b[0;36m  Cell \u001b[0;32mIn[31], line 1\u001b[0;36m\u001b[0m\n\u001b[0;31m    'don't do copy and paste in my class'\u001b[0m\n\u001b[0m                                        ^\u001b[0m\n\u001b[0;31mSyntaxError\u001b[0m\u001b[0;31m:\u001b[0m unterminated string literal (detected at line 1)\n"
     ]
    }
   ],
   "source": [
    "'don't do copy and paste in my class'"
   ]
  },
  {
   "cell_type": "code",
   "execution_count": 32,
   "id": "4f5e0529-d687-4bdc-ba56-2680dc8997c5",
   "metadata": {},
   "outputs": [
    {
     "data": {
      "text/plain": [
       "\"don't do copy and paste in my class\""
      ]
     },
     "execution_count": 32,
     "metadata": {},
     "output_type": "execute_result"
    }
   ],
   "source": [
    "\"don't do copy and paste in my class\" #when you have single quotes inside statement then represent with in a double quotes"
   ]
  },
  {
   "cell_type": "code",
   "execution_count": null,
   "id": "a23a3e6f-52a0-45b4-b241-0276649f13c0",
   "metadata": {},
   "outputs": [],
   "source": []
  }
 ],
 "metadata": {
  "kernelspec": {
   "display_name": "Python 3 (ipykernel)",
   "language": "python",
   "name": "python3"
  },
  "language_info": {
   "codemirror_mode": {
    "name": "ipython",
    "version": 3
   },
   "file_extension": ".py",
   "mimetype": "text/x-python",
   "name": "python",
   "nbconvert_exporter": "python",
   "pygments_lexer": "ipython3",
   "version": "3.10.8"
  }
 },
 "nbformat": 4,
 "nbformat_minor": 5
}
