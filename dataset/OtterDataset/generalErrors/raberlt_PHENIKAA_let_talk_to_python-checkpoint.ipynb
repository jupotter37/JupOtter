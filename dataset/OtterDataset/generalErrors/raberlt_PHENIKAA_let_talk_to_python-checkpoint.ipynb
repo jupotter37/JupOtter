{
 "cells": [
  {
   "cell_type": "markdown",
   "id": "e6fe59b0",
   "metadata": {},
   "source": [
    "# MATH"
   ]
  },
  {
   "cell_type": "code",
   "execution_count": 1,
   "id": "bc2f392f",
   "metadata": {},
   "outputs": [
    {
     "data": {
      "text/plain": [
       "3.3333333333333335"
      ]
     },
     "execution_count": 1,
     "metadata": {},
     "output_type": "execute_result"
    }
   ],
   "source": [
    "10/3"
   ]
  },
  {
   "cell_type": "code",
   "execution_count": 2,
   "id": "cbf93a7a",
   "metadata": {},
   "outputs": [
    {
     "data": {
      "text/plain": [
       "2.0"
      ]
     },
     "execution_count": 2,
     "metadata": {},
     "output_type": "execute_result"
    }
   ],
   "source": [
    "8/4"
   ]
  },
  {
   "cell_type": "code",
   "execution_count": 3,
   "id": "1efbdf2f",
   "metadata": {},
   "outputs": [
    {
     "data": {
      "text/plain": [
       "3"
      ]
     },
     "execution_count": 3,
     "metadata": {},
     "output_type": "execute_result"
    }
   ],
   "source": [
    "round(10/3)"
   ]
  },
  {
   "cell_type": "code",
   "execution_count": 4,
   "id": "eb7fcbfe",
   "metadata": {},
   "outputs": [
    {
     "data": {
      "text/plain": [
       "11"
      ]
     },
     "execution_count": 4,
     "metadata": {},
     "output_type": "execute_result"
    }
   ],
   "source": [
    "round(10.666)"
   ]
  },
  {
   "cell_type": "markdown",
   "id": "d10b5f49",
   "metadata": {},
   "source": [
    "# so sanh"
   ]
  },
  {
   "cell_type": "code",
   "execution_count": 7,
   "id": "e9228693",
   "metadata": {},
   "outputs": [
    {
     "data": {
      "text/plain": [
       "False"
      ]
     },
     "execution_count": 7,
     "metadata": {},
     "output_type": "execute_result"
    }
   ],
   "source": [
    "5>7\n"
   ]
  },
  {
   "cell_type": "code",
   "execution_count": 8,
   "id": "84e0eee3",
   "metadata": {},
   "outputs": [
    {
     "data": {
      "text/plain": [
       "True"
      ]
     },
     "execution_count": 8,
     "metadata": {},
     "output_type": "execute_result"
    }
   ],
   "source": [
    "12==11+1"
   ]
  },
  {
   "cell_type": "code",
   "execution_count": 9,
   "id": "b00aa513",
   "metadata": {},
   "outputs": [
    {
     "data": {
      "text/plain": [
       "True"
      ]
     },
     "execution_count": 9,
     "metadata": {},
     "output_type": "execute_result"
    }
   ],
   "source": [
    "6<= 4+3"
   ]
  },
  {
   "cell_type": "markdown",
   "id": "aa582eb8",
   "metadata": {},
   "source": [
    "# string"
   ]
  },
  {
   "cell_type": "code",
   "execution_count": 10,
   "id": "1c5ee64a",
   "metadata": {},
   "outputs": [
    {
     "data": {
      "text/plain": [
       "'hello'"
      ]
     },
     "execution_count": 10,
     "metadata": {},
     "output_type": "execute_result"
    }
   ],
   "source": [
    "\"hello\""
   ]
  },
  {
   "cell_type": "code",
   "execution_count": 11,
   "id": "6a42a4a9",
   "metadata": {},
   "outputs": [
    {
     "data": {
      "text/plain": [
       "'phat'"
      ]
     },
     "execution_count": 11,
     "metadata": {},
     "output_type": "execute_result"
    }
   ],
   "source": [
    "'phat'"
   ]
  },
  {
   "cell_type": "code",
   "execution_count": 12,
   "id": "039cf309",
   "metadata": {},
   "outputs": [
    {
     "data": {
      "text/plain": [
       "'phat'"
      ]
     },
     "execution_count": 12,
     "metadata": {},
     "output_type": "execute_result"
    }
   ],
   "source": [
    "'''phat'''"
   ]
  },
  {
   "cell_type": "markdown",
   "id": "9273cba3",
   "metadata": {},
   "source": [
    "## concatenate string"
   ]
  },
  {
   "cell_type": "code",
   "execution_count": 13,
   "id": "a6468b46",
   "metadata": {},
   "outputs": [
    {
     "data": {
      "text/plain": [
       "'hellophatphu'"
      ]
     },
     "execution_count": 13,
     "metadata": {},
     "output_type": "execute_result"
    }
   ],
   "source": [
    "\"hello\" + \"phatphu\""
   ]
  },
  {
   "cell_type": "code",
   "execution_count": 14,
   "id": "df04064f",
   "metadata": {},
   "outputs": [
    {
     "data": {
      "text/plain": [
       "'i love youi love youi love you'"
      ]
     },
     "execution_count": 14,
     "metadata": {},
     "output_type": "execute_result"
    }
   ],
   "source": [
    "\"i love you\"*3"
   ]
  },
  {
   "cell_type": "markdown",
   "id": "2fb12250",
   "metadata": {},
   "source": [
    "## index string"
   ]
  },
  {
   "cell_type": "markdown",
   "id": "297cada7",
   "metadata": {},
   "source": [
    "h  e  l  l  o \n",
    "0  1  2  3  4\n",
    "-5 -4 -3 -2 -1"
   ]
  },
  {
   "cell_type": "code",
   "execution_count": 15,
   "id": "61003479",
   "metadata": {},
   "outputs": [
    {
     "name": "stdout",
     "output_type": "stream",
     "text": [
      "h\n"
     ]
    }
   ],
   "source": [
    "print(\"hello\"[0])"
   ]
  },
  {
   "cell_type": "code",
   "execution_count": 16,
   "id": "d5ed1f19",
   "metadata": {
    "scrolled": true
   },
   "outputs": [
    {
     "name": "stdout",
     "output_type": "stream",
     "text": [
      "o\n"
     ]
    }
   ],
   "source": [
    "print(\"hello\"[-1])"
   ]
  },
  {
   "cell_type": "code",
   "execution_count": 17,
   "id": "126dc3e0",
   "metadata": {},
   "outputs": [
    {
     "data": {
      "text/plain": [
       "'e'"
      ]
     },
     "execution_count": 17,
     "metadata": {},
     "output_type": "execute_result"
    }
   ],
   "source": [
    "\"Hello\"[-4]"
   ]
  },
  {
   "cell_type": "markdown",
   "id": "07c30fa6",
   "metadata": {},
   "source": [
    "## variables"
   ]
  },
  {
   "cell_type": "code",
   "execution_count": 18,
   "id": "da1ca1ce",
   "metadata": {},
   "outputs": [],
   "source": [
    "donuts = 12*12"
   ]
  },
  {
   "cell_type": "code",
   "execution_count": 19,
   "id": "911fe0d0",
   "metadata": {},
   "outputs": [
    {
     "data": {
      "text/plain": [
       "144"
      ]
     },
     "execution_count": 19,
     "metadata": {},
     "output_type": "execute_result"
    }
   ],
   "source": [
    "donuts"
   ]
  },
  {
   "cell_type": "code",
   "execution_count": 22,
   "id": "987372a0",
   "metadata": {},
   "outputs": [
    {
     "name": "stdout",
     "output_type": "stream",
     "text": [
      "yellow\n"
     ]
    }
   ],
   "source": [
    "color=\"yellow\"\n",
    "red=color\n",
    "print(red)"
   ]
  },
  {
   "cell_type": "code",
   "execution_count": 24,
   "id": "dfef4dfe",
   "metadata": {},
   "outputs": [
    {
     "data": {
      "text/plain": [
       "str"
      ]
     },
     "execution_count": 24,
     "metadata": {},
     "output_type": "execute_result"
    }
   ],
   "source": [
    "type(color) #kieu"
   ]
  },
  {
   "cell_type": "markdown",
   "id": "312a7ea6",
   "metadata": {},
   "source": [
    "## errors"
   ]
  },
  {
   "cell_type": "code",
   "execution_count": 25,
   "id": "e60ca728",
   "metadata": {},
   "outputs": [
    {
     "data": {
      "text/plain": [
       "'Friend Friend Friend Friend Friend '"
      ]
     },
     "execution_count": 25,
     "metadata": {},
     "output_type": "execute_result"
    }
   ],
   "source": [
    "\"Friend \"*5"
   ]
  },
  {
   "cell_type": "code",
   "execution_count": 26,
   "id": "5233c74a",
   "metadata": {},
   "outputs": [
    {
     "ename": "TypeError",
     "evalue": "can only concatenate str (not \"int\") to str",
     "output_type": "error",
     "traceback": [
      "\u001b[1;31m---------------------------------------------------------------------------\u001b[0m",
      "\u001b[1;31mTypeError\u001b[0m                                 Traceback (most recent call last)",
      "\u001b[1;32m~\\AppData\\Local\\Temp/ipykernel_10512/1545108709.py\u001b[0m in \u001b[0;36m<module>\u001b[1;34m\u001b[0m\n\u001b[1;32m----> 1\u001b[1;33m \u001b[1;34m\"Friend \"\u001b[0m\u001b[1;33m+\u001b[0m\u001b[1;36m5\u001b[0m\u001b[1;33m\u001b[0m\u001b[1;33m\u001b[0m\u001b[0m\n\u001b[0m",
      "\u001b[1;31mTypeError\u001b[0m: can only concatenate str (not \"int\") to str"
     ]
    }
   ],
   "source": [
    "\"Friend \"+5"
   ]
  },
  {
   "cell_type": "markdown",
   "id": "ccbfc528",
   "metadata": {},
   "source": [
    "## data types"
   ]
  },
  {
   "cell_type": "code",
   "execution_count": 27,
   "id": "9ed9d4f3",
   "metadata": {},
   "outputs": [
    {
     "data": {
      "text/plain": [
       "str"
      ]
     },
     "execution_count": 27,
     "metadata": {},
     "output_type": "execute_result"
    }
   ],
   "source": [
    "type(\"cc\")"
   ]
  },
  {
   "cell_type": "code",
   "execution_count": 28,
   "id": "d156ea36",
   "metadata": {},
   "outputs": [
    {
     "data": {
      "text/plain": [
       "int"
      ]
     },
     "execution_count": 28,
     "metadata": {},
     "output_type": "execute_result"
    }
   ],
   "source": [
    "type(2)"
   ]
  },
  {
   "cell_type": "code",
   "execution_count": 29,
   "id": "b17f4270",
   "metadata": {},
   "outputs": [
    {
     "data": {
      "text/plain": [
       "bool"
      ]
     },
     "execution_count": 29,
     "metadata": {},
     "output_type": "execute_result"
    }
   ],
   "source": [
    "type(True)"
   ]
  },
  {
   "cell_type": "code",
   "execution_count": 30,
   "id": "eaacbabe",
   "metadata": {},
   "outputs": [
    {
     "ename": "NameError",
     "evalue": "name 'false' is not defined",
     "output_type": "error",
     "traceback": [
      "\u001b[1;31m---------------------------------------------------------------------------\u001b[0m",
      "\u001b[1;31mNameError\u001b[0m                                 Traceback (most recent call last)",
      "\u001b[1;32m~\\AppData\\Local\\Temp/ipykernel_10512/27329152.py\u001b[0m in \u001b[0;36m<module>\u001b[1;34m\u001b[0m\n\u001b[1;32m----> 1\u001b[1;33m \u001b[0mtype\u001b[0m\u001b[1;33m(\u001b[0m\u001b[0mfalse\u001b[0m\u001b[1;33m)\u001b[0m\u001b[1;33m\u001b[0m\u001b[1;33m\u001b[0m\u001b[0m\n\u001b[0m",
      "\u001b[1;31mNameError\u001b[0m: name 'false' is not defined"
     ]
    }
   ],
   "source": [
    "type(false)"
   ]
  },
  {
   "cell_type": "markdown",
   "id": "f8b4f9d4",
   "metadata": {},
   "source": [
    "## logic"
   ]
  },
  {
   "cell_type": "code",
   "execution_count": 31,
   "id": "421f316a",
   "metadata": {},
   "outputs": [
    {
     "ename": "SyntaxError",
     "evalue": "invalid syntax (Temp/ipykernel_10512/4088025047.py, line 1)",
     "output_type": "error",
     "traceback": [
      "\u001b[1;36m  File \u001b[1;32m\"C:\\Users\\Admin\\AppData\\Local\\Temp/ipykernel_10512/4088025047.py\"\u001b[1;36m, line \u001b[1;32m1\u001b[0m\n\u001b[1;33m    1==1 && 2==2\u001b[0m\n\u001b[1;37m          ^\u001b[0m\n\u001b[1;31mSyntaxError\u001b[0m\u001b[1;31m:\u001b[0m invalid syntax\n"
     ]
    }
   ],
   "source": [
    "1==1 && 2==2"
   ]
  },
  {
   "cell_type": "code",
   "execution_count": 32,
   "id": "e1ace80d",
   "metadata": {},
   "outputs": [
    {
     "data": {
      "text/plain": [
       "True"
      ]
     },
     "execution_count": 32,
     "metadata": {},
     "output_type": "execute_result"
    }
   ],
   "source": [
    "1==1 and 2==2"
   ]
  },
  {
   "cell_type": "code",
   "execution_count": 33,
   "id": "66102e55",
   "metadata": {},
   "outputs": [
    {
     "data": {
      "text/plain": [
       "True"
      ]
     },
     "execution_count": 33,
     "metadata": {},
     "output_type": "execute_result"
    }
   ],
   "source": [
    "1==1or 2==2"
   ]
  },
  {
   "cell_type": "code",
   "execution_count": 34,
   "id": "3b872529",
   "metadata": {},
   "outputs": [
    {
     "ename": "NameError",
     "evalue": "name 'not1' is not defined",
     "output_type": "error",
     "traceback": [
      "\u001b[1;31m---------------------------------------------------------------------------\u001b[0m",
      "\u001b[1;31mNameError\u001b[0m                                 Traceback (most recent call last)",
      "\u001b[1;32m~\\AppData\\Local\\Temp/ipykernel_10512/638432386.py\u001b[0m in \u001b[0;36m<module>\u001b[1;34m\u001b[0m\n\u001b[1;32m----> 1\u001b[1;33m \u001b[0mnot1\u001b[0m\u001b[1;33m==\u001b[0m\u001b[1;36m1\u001b[0m\u001b[1;33m\u001b[0m\u001b[1;33m\u001b[0m\u001b[0m\n\u001b[0m",
      "\u001b[1;31mNameError\u001b[0m: name 'not1' is not defined"
     ]
    }
   ],
   "source": [
    "not1==1"
   ]
  },
  {
   "cell_type": "code",
   "execution_count": 35,
   "id": "aefafb47",
   "metadata": {},
   "outputs": [
    {
     "data": {
      "text/plain": [
       "False"
      ]
     },
     "execution_count": 35,
     "metadata": {},
     "output_type": "execute_result"
    }
   ],
   "source": [
    "not 1==1"
   ]
  },
  {
   "cell_type": "code",
   "execution_count": 36,
   "id": "89c0d42f",
   "metadata": {},
   "outputs": [
    {
     "ename": "SyntaxError",
     "evalue": "invalid syntax (Temp/ipykernel_10512/3200534314.py, line 1)",
     "output_type": "error",
     "traceback": [
      "\u001b[1;36m  File \u001b[1;32m\"C:\\Users\\Admin\\AppData\\Local\\Temp/ipykernel_10512/3200534314.py\"\u001b[1;36m, line \u001b[1;32m1\u001b[0m\n\u001b[1;33m    1==1or2==2\u001b[0m\n\u001b[1;37m        ^\u001b[0m\n\u001b[1;31mSyntaxError\u001b[0m\u001b[1;31m:\u001b[0m invalid syntax\n"
     ]
    }
   ],
   "source": [
    "1==1or2==2"
   ]
  },
  {
   "cell_type": "markdown",
   "id": "c6183734",
   "metadata": {},
   "source": [
    "# Lists"
   ]
  },
  {
   "cell_type": "code",
   "execution_count": 37,
   "id": "13d51c15",
   "metadata": {},
   "outputs": [],
   "source": [
    "fruit=[\"apple\",\"banana\",\"grape\"]\n",
    "numbers = [3,5,-6,8]"
   ]
  },
  {
   "cell_type": "code",
   "execution_count": 38,
   "id": "7796e953",
   "metadata": {},
   "outputs": [
    {
     "data": {
      "text/plain": [
       "list"
      ]
     },
     "execution_count": 38,
     "metadata": {},
     "output_type": "execute_result"
    }
   ],
   "source": [
    "type(fruit)"
   ]
  },
  {
   "cell_type": "code",
   "execution_count": 39,
   "id": "444b0c9a",
   "metadata": {},
   "outputs": [
    {
     "data": {
      "text/plain": [
       "'apple'"
      ]
     },
     "execution_count": 39,
     "metadata": {},
     "output_type": "execute_result"
    }
   ],
   "source": [
    "fruit[0]"
   ]
  },
  {
   "cell_type": "code",
   "execution_count": 40,
   "id": "84ce917c",
   "metadata": {},
   "outputs": [],
   "source": [
    "hh=[1,\"cc\"]"
   ]
  },
  {
   "cell_type": "code",
   "execution_count": 42,
   "id": "a7580891",
   "metadata": {},
   "outputs": [],
   "source": [
    "favorite_colors = [\"green\"]"
   ]
  },
  {
   "cell_type": "code",
   "execution_count": 43,
   "id": "e84bf46f",
   "metadata": {},
   "outputs": [
    {
     "ename": "IndexError",
     "evalue": "list index out of range",
     "output_type": "error",
     "traceback": [
      "\u001b[1;31m---------------------------------------------------------------------------\u001b[0m",
      "\u001b[1;31mIndexError\u001b[0m                                Traceback (most recent call last)",
      "\u001b[1;32m~\\AppData\\Local\\Temp/ipykernel_10512/2284926668.py\u001b[0m in \u001b[0;36m<module>\u001b[1;34m\u001b[0m\n\u001b[1;32m----> 1\u001b[1;33m \u001b[0mprint\u001b[0m\u001b[1;33m(\u001b[0m\u001b[0mfavorite_colors\u001b[0m\u001b[1;33m[\u001b[0m\u001b[1;36m1\u001b[0m\u001b[1;33m]\u001b[0m\u001b[1;33m)\u001b[0m\u001b[1;33m\u001b[0m\u001b[1;33m\u001b[0m\u001b[0m\n\u001b[0m",
      "\u001b[1;31mIndexError\u001b[0m: list index out of range"
     ]
    }
   ],
   "source": [
    "print(favorite_colors[1])"
   ]
  },
  {
   "cell_type": "markdown",
   "id": "e7c6264e",
   "metadata": {},
   "source": [
    "## LOGIC2"
   ]
  },
  {
   "cell_type": "code",
   "execution_count": 47,
   "id": "6c7788a6",
   "metadata": {},
   "outputs": [],
   "source": [
    "name ='phat'"
   ]
  },
  {
   "cell_type": "code",
   "execution_count": 48,
   "id": "15d04104",
   "metadata": {},
   "outputs": [
    {
     "name": "stdout",
     "output_type": "stream",
     "text": [
      "chao cc\n"
     ]
    }
   ],
   "source": [
    "if name ==\"Phat\":\n",
    "    print(\"Hello Phat\")\n",
    "elif name == \"Lam\":\n",
    "    print(\"Hello Lam\")\n",
    "else:\n",
    "    print(\"chao cc\")"
   ]
  },
  {
   "cell_type": "markdown",
   "id": "4ad92ebd",
   "metadata": {},
   "source": [
    "## Loops"
   ]
  },
  {
   "cell_type": "code",
   "execution_count": 50,
   "id": "cb515153",
   "metadata": {},
   "outputs": [
    {
     "name": "stdout",
     "output_type": "stream",
     "text": [
      "hello  1\n",
      "hello  2\n",
      "hello  3\n",
      "hello  4\n",
      "hello  5\n"
     ]
    }
   ],
   "source": [
    "list=[1,2,3,4,5]\n",
    "for i in list:\n",
    "    print(\"hello \",i)"
   ]
  },
  {
   "cell_type": "code",
   "execution_count": 51,
   "id": "3cefa895",
   "metadata": {},
   "outputs": [
    {
     "name": "stdout",
     "output_type": "stream",
     "text": [
      "0\n",
      "1\n",
      "2\n",
      "3\n",
      "4\n"
     ]
    }
   ],
   "source": [
    "count = 0\n",
    "while (count<5):\n",
    "    print(count)\n",
    "    count +=1"
   ]
  },
  {
   "cell_type": "markdown",
   "id": "1b9e3c87",
   "metadata": {},
   "source": [
    "## function"
   ]
  },
  {
   "cell_type": "code",
   "execution_count": 54,
   "id": "825b35b6",
   "metadata": {},
   "outputs": [],
   "source": [
    "def say_hello(user):\n",
    "    print(\"hello\", user)"
   ]
  },
  {
   "cell_type": "code",
   "execution_count": 55,
   "id": "bc50bf62",
   "metadata": {},
   "outputs": [
    {
     "name": "stdout",
     "output_type": "stream",
     "text": [
      "hello Lam\n"
     ]
    }
   ],
   "source": [
    "say_hello(\"Lam\")"
   ]
  },
  {
   "cell_type": "code",
   "execution_count": 58,
   "id": "7ee22c15",
   "metadata": {},
   "outputs": [],
   "source": [
    "def double(n):\n",
    "    return (2*n)"
   ]
  },
  {
   "cell_type": "code",
   "execution_count": 59,
   "id": "c6c69117",
   "metadata": {},
   "outputs": [
    {
     "data": {
      "text/plain": [
       "4"
      ]
     },
     "execution_count": 59,
     "metadata": {},
     "output_type": "execute_result"
    }
   ],
   "source": [
    "double(2)"
   ]
  },
  {
   "cell_type": "code",
   "execution_count": null,
   "id": "3326896c",
   "metadata": {},
   "outputs": [],
   "source": []
  }
 ],
 "metadata": {
  "kernelspec": {
   "display_name": "Python 3 (ipykernel)",
   "language": "python",
   "name": "python3"
  },
  "language_info": {
   "codemirror_mode": {
    "name": "ipython",
    "version": 3
   },
   "file_extension": ".py",
   "mimetype": "text/x-python",
   "name": "python",
   "nbconvert_exporter": "python",
   "pygments_lexer": "ipython3",
   "version": "3.9.7"
  }
 },
 "nbformat": 4,
 "nbformat_minor": 5
}
