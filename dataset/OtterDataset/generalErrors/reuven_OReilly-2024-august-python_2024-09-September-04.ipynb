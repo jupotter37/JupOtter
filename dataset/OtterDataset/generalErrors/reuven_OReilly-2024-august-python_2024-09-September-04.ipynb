{
 "cells": [
  {
   "cell_type": "markdown",
   "metadata": {},
   "source": [
    "# Agenda: Loops, lists, and tuples\n",
    "\n",
    "1. Q&A\n",
    "2. Loops\n",
    "    - `for`\n",
    "    - Looping a number of times with `range`\n",
    "    - Indexes (or the lack thereof)\n",
    "    - `while`\n",
    "    - `break` and `continue`\n",
    "3. Lists\n",
    "    - Creating lists\n",
    "    - Retrieving from lists\n",
    "    - Lists are mutable -- what that means, and list methods\n",
    "4. Strings to lists, and back\n",
    "    - Turning a string into a list with `str.split`\n",
    "    - Turning a list into a string with `str.join`\n",
    "5. Tuples\n",
    "    - What are they?\n",
    "    - How are they similar to / different from lists and strings?\n",
    "    - Tuple unpacking"
   ]
  },
  {
   "cell_type": "markdown",
   "metadata": {},
   "source": [
    "# Loops\n",
    "\n",
    "One of the most important ideas in programming is DRY (don't repeat yourself). If you see that you're repeating code, or semi-repeating code, then you should think again about how you're writing things."
   ]
  },
  {
   "cell_type": "code",
   "execution_count": 1,
   "metadata": {},
   "outputs": [
    {
     "name": "stdout",
     "output_type": "stream",
     "text": [
      "a\n",
      "b\n",
      "c\n",
      "d\n"
     ]
    }
   ],
   "source": [
    "# I want to print all of the characters in s. How can I do that?\n",
    "\n",
    "s = 'abcd'\n",
    "\n",
    "print(s[0])\n",
    "print(s[1])\n",
    "print(s[2])\n",
    "print(s[3])"
   ]
  },
  {
   "cell_type": "code",
   "execution_count": 3,
   "metadata": {},
   "outputs": [
    {
     "name": "stdout",
     "output_type": "stream",
     "text": [
      "Before\n",
      "a\n",
      "b\n",
      "c\n",
      "d\n",
      "After\n"
     ]
    }
   ],
   "source": [
    "# if I can find a way to tell it:\n",
    "# go through each character in s, and print it\n",
    "\n",
    "# that's what a loop is -- especially a \"for\" loop\n",
    "\n",
    "# let's see how a for loop would look in this case\n",
    "\n",
    "s = 'abcd'\n",
    "\n",
    "print('Before')\n",
    "for one_character in s:\n",
    "    print(one_character)\n",
    "print('After')    "
   ]
  },
  {
   "cell_type": "markdown",
   "metadata": {},
   "source": [
    "# The `for` loop's syntax\n",
    "\n",
    "- `for` VARIABLE `if` in OBJECT\n",
    "- At the end of that line, we have a `:`\n",
    "- Then we have an indented block, the loop body\n",
    "\n",
    "# What's happening inside\n",
    "\n",
    "1. `for` turns to the object at the end of the line (`s`) and asks it: Are you iterable?\n",
    "    - If the answer is \"no,\" then the loop exits with an error.\n",
    "2. `for` asks the object for its next value.\n",
    "    - If there are no more values, then the loop exits (normally, no error).\n",
    "3. The value we got is assigned to the loop variable (in this case, `one_character`)\n",
    "4. The loop body (in this case, just one line containing `print`) is executed. It's an indented block, just like we saw last week with `if` and `else`.\n",
    "5. At the end of the loop body's execution, we return to step 2.\n",
    "\n",
    "Many people think that we're getting one character at a time because I called my loop variable `one_character`. That is COMPLETELY BACKWARDS. I called that variable `one_character` because I know that strings will give me one character at a time inside of a loop.\n",
    "\n",
    "I can call that variable anything I want; the fact that `s` is a string dictates our getting one character in each iteration.\n",
    "\n",
    "`one_character` is a variable that is assigned to once per iteration.\n",
    "\n",
    "What code can we put inside of a loop body? ANYTHING WE WANT:\n",
    "\n",
    "- `print`\n",
    "- `input`\n",
    "- assignment\n",
    "- `if`\n",
    "- `for` loops inside of `for` loops -- these are known as \"nested loops.\""
   ]
  },
  {
   "cell_type": "markdown",
   "metadata": {},
   "source": [
    "# Exercise: Vowels, digits, and others\n",
    "\n",
    "1. Define three variables (`vowels`, `digits`, and `others`), and set them all to be 0.\n",
    "2. Ask the user to enter some text.\n",
    "3. Go over each character in the user's input:\n",
    "    - If it's a vowel, add 1 to `vowels`\n",
    "    - If it's a digit, add 1 to `digits`\n",
    "    - If it's something else, add 1 to `others`\n",
    "4. At the end of the loop, print all three values.\n",
    "\n",
    "Example:\n",
    "\n",
    "    Enter text: hello!! 123\n",
    "    vowels: 2\n",
    "    digits: 3\n",
    "    others: 6"
   ]
  },
  {
   "cell_type": "code",
   "execution_count": 4,
   "metadata": {},
   "outputs": [
    {
     "data": {
      "text/plain": [
       "True"
      ]
     },
     "execution_count": 4,
     "metadata": {},
     "output_type": "execute_result"
    }
   ],
   "source": [
    "# one way to find out if a character is a vowel is with the \"in\" operator\n",
    "\n",
    "'a' in 'aeiou'   # is the thing on the left in the thing on the right? This will return True/False"
   ]
  },
  {
   "cell_type": "code",
   "execution_count": 5,
   "metadata": {},
   "outputs": [
    {
     "data": {
      "text/plain": [
       "True"
      ]
     },
     "execution_count": 5,
     "metadata": {},
     "output_type": "execute_result"
    }
   ],
   "source": [
    "one_letter = 'a'\n",
    "\n",
    "one_letter in 'aeiou'"
   ]
  },
  {
   "cell_type": "markdown",
   "metadata": {},
   "source": [
    "# Strategy \n",
    "\n",
    "1. Define the three variables (`vowels`, `digits`, and `others`) to be 0.\n",
    "2. Use `input` to get input from the user.  This will be returned as a string; assign it to a variable.\n",
    "3. Use a `for` loop to iterate over each character in the user's input string.\n",
    "4. Check each character:\n",
    "    - if the current character is `in 'aeiou'`, then it's a vowel\n",
    "    - elif the current character `.isdigit()`, then it's a digit\n",
    "    - otherwise, add 1 to `others`\n",
    "5. Print the three variables."
   ]
  },
  {
   "cell_type": "code",
   "execution_count": 6,
   "metadata": {},
   "outputs": [
    {
     "name": "stdin",
     "output_type": "stream",
     "text": [
      "Enter text:  hello!! 123\n"
     ]
    },
    {
     "name": "stdout",
     "output_type": "stream",
     "text": [
      "vowels = 2\n",
      "digits = 3\n",
      "others = 6\n"
     ]
    }
   ],
   "source": [
    "vowels = 0\n",
    "digits = 0\n",
    "others = 0\n",
    "\n",
    "s = input('Enter text: ').strip()    # we get input from the user, then immediately remove leading/trailing whitespace, then assign to s\n",
    "\n",
    "for one_character in s:\n",
    "    if one_character in 'aeiou':     # if the current character is a vowel, add 1 to the \"vowels\" variable\n",
    "        vowels += 1\n",
    "    elif one_character.isdigit():    # if the current character is 0-9, then add 1 to the \"digits\" variable\n",
    "        digits += 1\n",
    "    else:\n",
    "        others += 1\n",
    "\n",
    "print(f'vowels = {vowels}')\n",
    "print(f'digits = {digits}')\n",
    "print(f'others = {others}')\n"
   ]
  },
  {
   "cell_type": "code",
   "execution_count": 7,
   "metadata": {},
   "outputs": [
    {
     "name": "stdin",
     "output_type": "stream",
     "text": [
      "Enter some text : hello!! 123\n"
     ]
    },
    {
     "name": "stdout",
     "output_type": "stream",
     "text": [
      "Vowels=2 , Digits=3, Others=6\n"
     ]
    }
   ],
   "source": [
    "# GK\n",
    "\n",
    "vowels =0\n",
    "digits = 0\n",
    "others = 0\n",
    "some_text = input('Enter some text :')\n",
    "\n",
    "for a_character in some_text:\n",
    "    if a_character in 'aeuio':\n",
    "        vowels=vowels+1\n",
    "    elif a_character in '0123456789':\n",
    "        digits=digits+1\n",
    "    else:\n",
    "        others=others+1\n",
    "\n",
    "print(f\"Vowels={vowels} , Digits={digits}, Others={others}\")\n"
   ]
  },
  {
   "cell_type": "code",
   "execution_count": 8,
   "metadata": {},
   "outputs": [
    {
     "name": "stdin",
     "output_type": "stream",
     "text": [
      "Enter Text:  hello!! 123\n"
     ]
    },
    {
     "name": "stdout",
     "output_type": "stream",
     "text": [
      "Count of Vowels 2\n",
      "Count of Digits 3\n",
      "Count of Others 6\n"
     ]
    }
   ],
   "source": [
    "# SS\n",
    "\n",
    "vowels = 0\n",
    "digits = 0\n",
    "others = 0\n",
    "\n",
    "text = input('Enter Text: ')\n",
    "\n",
    "for txt in text:\n",
    "  if txt in 'aeiou':\n",
    "    vowels +=1\n",
    "  elif txt.isdigit():\n",
    "    digits += 1\n",
    "  else:\n",
    "    others += 1\n",
    "print('Count of Vowels',vowels)        \n",
    "print('Count of Digits',digits)        \n",
    "print('Count of Others', others) "
   ]
  },
  {
   "cell_type": "code",
   "execution_count": 9,
   "metadata": {},
   "outputs": [
    {
     "name": "stdin",
     "output_type": "stream",
     "text": [
      "Enter a string hello!! 123\n"
     ]
    },
    {
     "name": "stdout",
     "output_type": "stream",
     "text": [
      "vowels = 2 digits =  3 others =  6\n"
     ]
    }
   ],
   "source": [
    "# KK \n",
    "\n",
    "vowels = 0\n",
    "digits = 0\n",
    "others = 0\n",
    "user_string = input ('Enter a string')\n",
    "for one_char in user_string:\n",
    "    if one_char in 'aeiou':\n",
    "        vowels += 1\n",
    "    elif one_char in '0123456789':\n",
    "        digits += 1\n",
    "    else:\n",
    "        others += 1\n",
    "print('vowels =', vowels, 'digits = ', digits, 'others = ', others)"
   ]
  },
  {
   "cell_type": "code",
   "execution_count": 11,
   "metadata": {},
   "outputs": [
    {
     "data": {
      "text/plain": [
       "'3'"
      ]
     },
     "execution_count": 11,
     "metadata": {},
     "output_type": "execute_result"
    }
   ],
   "source": [
    "# the end of a for loop does *not* remove the variables defined/assigned/changed inside of the loop\n",
    "\n",
    "one_character"
   ]
  },
  {
   "cell_type": "code",
   "execution_count": 12,
   "metadata": {},
   "outputs": [
    {
     "name": "stdin",
     "output_type": "stream",
     "text": [
      "enter some text.  hello!! 123\n"
     ]
    },
    {
     "name": "stdout",
     "output_type": "stream",
     "text": [
      "2\n",
      "3\n",
      "6\n"
     ]
    }
   ],
   "source": [
    "# JH\n",
    "\n",
    "vowels = 0\n",
    "digits = 0\n",
    "others = 0 \n",
    "\n",
    "user_text = input('enter some text. ')    # the user's input will now be in \"user_text\"\n",
    "\n",
    "for one_character in user_text:\n",
    "    if one_character in 'aeiou':\n",
    "        vowels += 1   # add 1 to the previous value of vowels\n",
    "    elif one_character in '1234567890':\n",
    "        digits += 1\n",
    "    else:\n",
    "        others += 1 \n",
    "\n",
    "print(vowels)\n",
    "print(digits)\n",
    "print(others)"
   ]
  },
  {
   "cell_type": "code",
   "execution_count": 18,
   "metadata": {},
   "outputs": [
    {
     "name": "stdout",
     "output_type": "stream",
     "text": [
      " others = 6yyyyyyyyyyy, xxxxxxxxx, \n"
     ]
    }
   ],
   "source": [
    "# KK\n",
    "\n",
    "# If I print this I only print others, why? \n",
    "print( f'vowels = {vowels}xxxxxxxxxxxxxxxxxxxxxxx, \\r digits = {digits}yyyyyyyyyyy, \\r others = {others}')      "
   ]
  },
  {
   "cell_type": "markdown",
   "metadata": {},
   "source": [
    "# Computer history time!\n",
    "\n",
    "When people used printers (and not screens), a new line on the printer required two different commands for the printhead\n",
    "\n",
    "- line feed/newline (go down one)\n",
    "- carriage return (move the printhead to the far left)\n",
    "\n",
    "If you just used line feed, you could print a vertical line.\n",
    "\n",
    "If you used carriage return multiple times, you would overwrite what you had previously written.\n",
    "\n",
    "In Python, we normally use `\\n` for a new line. However, on Windows, that is silently translated into `\\r\\n`, because Windows retains this historical need to have two characters at the end of the line. On Unix, we know that just line feed is enough to do both.\n",
    "\n",
    "You used `\\r`, which returns the print head (virtual) to the start of the line."
   ]
  },
  {
   "cell_type": "code",
   "execution_count": 19,
   "metadata": {},
   "outputs": [
    {
     "name": "stdout",
     "output_type": "stream",
     "text": [
      "vowels = 2xxxxxxxxxxxxxxxxxxxxxxx, \n",
      " digits = 3yyyyyyyyyyy, \n",
      " others = 6\n"
     ]
    }
   ],
   "source": [
    "print( f'vowels = {vowels}xxxxxxxxxxxxxxxxxxxxxxx, \\n digits = {digits}yyyyyyyyyyy, \\n others = {others}')      "
   ]
  },
  {
   "cell_type": "markdown",
   "metadata": {},
   "source": [
    "# What if I want to iterate a number of times?\n",
    "\n",
    "We've seen that we can iterate over a string, and get each character. What if I just want to do something 3 times?"
   ]
  },
  {
   "cell_type": "code",
   "execution_count": 20,
   "metadata": {},
   "outputs": [
    {
     "name": "stdout",
     "output_type": "stream",
     "text": [
      "Hooray!\n",
      "Hooray!\n",
      "Hooray!\n"
     ]
    }
   ],
   "source": [
    "# I'm teaching Python. I want to express my sheer joy!\n",
    "\n",
    "print('Hooray!')\n",
    "print('Hooray!')\n",
    "print('Hooray!')\n"
   ]
  },
  {
   "cell_type": "code",
   "execution_count": 21,
   "metadata": {},
   "outputs": [
    {
     "ename": "TypeError",
     "evalue": "'int' object is not iterable",
     "output_type": "error",
     "traceback": [
      "\u001b[0;31m---------------------------------------------------------------------------\u001b[0m",
      "\u001b[0;31mTypeError\u001b[0m                                 Traceback (most recent call last)",
      "Cell \u001b[0;32mIn[21], line 3\u001b[0m\n\u001b[1;32m      1\u001b[0m \u001b[38;5;66;03m# isn't there a way we can use a loop to tighten that up?\u001b[39;00m\n\u001b[0;32m----> 3\u001b[0m \u001b[38;5;28;01mfor\u001b[39;00m one_time \u001b[38;5;129;01min\u001b[39;00m \u001b[38;5;241m3\u001b[39m:\n\u001b[1;32m      4\u001b[0m     \u001b[38;5;28mprint\u001b[39m(\u001b[38;5;124m'\u001b[39m\u001b[38;5;124mHooray!\u001b[39m\u001b[38;5;124m'\u001b[39m)   \n",
      "\u001b[0;31mTypeError\u001b[0m: 'int' object is not iterable"
     ]
    }
   ],
   "source": [
    "# isn't there a way we can use a loop to tighten that up?\n",
    "\n",
    "for one_time in 3:  # \"for\" loop turns to 3, and asks: Are you iterable? The answer: NO!\n",
    "    print('Hooray!')   "
   ]
  },
  {
   "cell_type": "code",
   "execution_count": 22,
   "metadata": {},
   "outputs": [
    {
     "name": "stdout",
     "output_type": "stream",
     "text": [
      "Hooray!\n",
      "Hooray!\n",
      "Hooray!\n"
     ]
    }
   ],
   "source": [
    "# we can use the \"range\" builtin function, whose job is to take a number \n",
    "# and let us iterate that number of times.\n",
    "\n",
    "for one_time in range(3):   # 3 is not iterable, but range(3) is!\n",
    "    print('Hooray!')"
   ]
  },
  {
   "cell_type": "code",
   "execution_count": 24,
   "metadata": {},
   "outputs": [
    {
     "name": "stdout",
     "output_type": "stream",
     "text": [
      "0: Hooray!\n",
      "1: Hooray!\n",
      "2: Hooray!\n"
     ]
    }
   ],
   "source": [
    "# we said before that in each iteration, the for loop asks the object\n",
    "# for its next value. That value is assigned to our loop variable. What,\n",
    "# if anything, is being assigned from range(3) to one_time? What is the value\n",
    "# of one_time in each iteration?\n",
    "\n",
    "for one_time in range(3):\n",
    "    print(f'{one_time}: Hooray!')"
   ]
  },
  {
   "cell_type": "markdown",
   "metadata": {},
   "source": [
    "# `range`\n",
    "\n",
    "`range` takes an integer as an argument, and that is the number of times we'll iterate.\n",
    "\n",
    "Each iteration returns a number, starting at 0 and going up to `n-1`, where `n` is the argument to `range`.\n",
    "\n",
    "Saying `range(3)` will give us 3 values: 0, 1, and 2."
   ]
  },
  {
   "cell_type": "code",
   "execution_count": 25,
   "metadata": {},
   "outputs": [
    {
     "data": {
      "text/plain": [
       "range(0, 5)"
      ]
     },
     "execution_count": 25,
     "metadata": {},
     "output_type": "execute_result"
    }
   ],
   "source": [
    "n = 5\n",
    "range(n)   # the range object shows us the start and the end number, which is really end+1"
   ]
  },
  {
   "cell_type": "markdown",
   "metadata": {},
   "source": [
    "# Exercise: Sum some numbers\n",
    "\n",
    "We're going to ask the user how many numbers they want to sum up, and then we'll ask them for that many numbers. If any of the numbers they give us aren't numeric, then we'll scold them and ignore the input.\n",
    "\n",
    "1. Define `total` to be 0.\n",
    "2. Ask the user how many numbers they want to sum up?\n",
    "    - Let's assume they'll give us numeric input\n",
    "3. Ask, that many times, for input.\n",
    "    - If it's not numeric, ignore the number but scold the user\n",
    "4. Print the final total.\n",
    "\n",
    "Example:\n",
    "\n",
    "    How many numbers? 3\n",
    "    Enter number 0: 100\n",
    "    Enter number 1: 50\n",
    "    Enter number 2: hello\n",
    "        hello is not numeric; ignoring\n",
    "    Total is 150\n",
    "    "
   ]
  },
  {
   "cell_type": "code",
   "execution_count": 26,
   "metadata": {},
   "outputs": [
    {
     "name": "stdin",
     "output_type": "stream",
     "text": [
      "How many numbers?  3\n",
      "Enter number 0:  100\n",
      "Enter number 1:  50\n",
      "Enter number 2:  hello\n"
     ]
    },
    {
     "name": "stdout",
     "output_type": "stream",
     "text": [
      "hello is not numeric; ignoring\n",
      "Total is 150\n"
     ]
    }
   ],
   "source": [
    "total = 0\n",
    "\n",
    "s = input('How many numbers? ').strip()\n",
    "how_many = int(s)\n",
    "\n",
    "for counter in range(how_many):\n",
    "    one_input = input(f'Enter number {counter}: ')\n",
    "\n",
    "    if one_input.isdigit():   # does the string one_input only contain digits?\n",
    "        total += int(one_input)\n",
    "    else:\n",
    "        print(f'{one_input} is not numeric; ignoring')\n",
    "\n",
    "print(f'Total is {total}')"
   ]
  },
  {
   "cell_type": "code",
   "execution_count": 28,
   "metadata": {},
   "outputs": [
    {
     "name": "stdin",
     "output_type": "stream",
     "text": [
      "Enter how many times you want to sum:  3\n",
      "Enter the value to sum: 10\n",
      "Enter the value to sum: 20\n",
      "Enter the value to sum: asdfsa\n"
     ]
    },
    {
     "name": "stdout",
     "output_type": "stream",
     "text": [
      "Please enter an integer to sum\n",
      "30\n"
     ]
    }
   ],
   "source": [
    "# SS\n",
    "\n",
    "total = 0\n",
    "howMany = int(input('Enter how many times you want to sum: '))\n",
    "\n",
    "for val in range(howMany):\n",
    "  value = input('Enter the value to sum:')\n",
    "  if not value.isdigit():  # str.isdigit asks -- can we turn this into an integer? \n",
    "    print('Please enter an integer to sum')\n",
    "  else:\n",
    "    total += int(value)\n",
    "print(total) "
   ]
  },
  {
   "cell_type": "code",
   "execution_count": 29,
   "metadata": {},
   "outputs": [
    {
     "name": "stdin",
     "output_type": "stream",
     "text": [
      "How many numbers to sum up ?  3\n",
      "Enter number 0:  10\n",
      "Enter number 1:  20\n",
      "Enter number 2:  asdfa\n"
     ]
    },
    {
     "name": "stdout",
     "output_type": "stream",
     "text": [
      "asdfa is not numeric! Ignoring!\n",
      "total = 30\n"
     ]
    }
   ],
   "source": [
    "# GK\n",
    "\n",
    "total = 0\n",
    "n = int(input('How many numbers to sum up ? ').strip())\n",
    "\n",
    "for i in range(n):\n",
    "    a_number = input(f\"Enter number {i}: \")\n",
    "    if a_number.isdigit():\n",
    "        total+=int(a_number)\n",
    "    else:\n",
    "        print(f\"{a_number} is not numeric! Ignoring!\")\n",
    "\n",
    "print(f\"total = {total}\")"
   ]
  },
  {
   "cell_type": "code",
   "execution_count": 31,
   "metadata": {},
   "outputs": [
    {
     "name": "stdin",
     "output_type": "stream",
     "text": [
      "how many numbers do you want to sum? 3\n",
      "enter a number:  10\n",
      "enter a number:  20\n",
      "enter a number:  asdfsa\n"
     ]
    },
    {
     "name": "stdout",
     "output_type": "stream",
     "text": [
      "This is not a number!\n",
      "Total Sum = 30\n"
     ]
    }
   ],
   "source": [
    "# AK\n",
    "\n",
    "total=0\n",
    "\n",
    "num=int(input('how many numbers do you want to sum?'))\n",
    "\n",
    "for each_number in range(num):\n",
    "  number = input('enter a number: ')\n",
    "  if not number.isdigit():\n",
    "    print(f'This is not a number!')\n",
    "  else:\n",
    "    total += int(number)\n",
    "print(f'Total Sum = {total}') "
   ]
  },
  {
   "cell_type": "markdown",
   "metadata": {},
   "source": [
    "# Next up\n",
    "\n",
    "- `while`\n",
    "- Where is the index?"
   ]
  },
  {
   "cell_type": "code",
   "execution_count": 32,
   "metadata": {},
   "outputs": [],
   "source": [
    "total = 0  # this is how we assign to a variable in Python, including a totally new variable"
   ]
  },
  {
   "cell_type": "code",
   "execution_count": 33,
   "metadata": {},
   "outputs": [
    {
     "ename": "SyntaxError",
     "evalue": "expected '(' (152018501.py, line 1)",
     "output_type": "error",
     "traceback": [
      "\u001b[0;36m  Cell \u001b[0;32mIn[33], line 1\u001b[0;36m\u001b[0m\n\u001b[0;31m    def total = 0\u001b[0m\n\u001b[0m              ^\u001b[0m\n\u001b[0;31mSyntaxError\u001b[0m\u001b[0;31m:\u001b[0m expected '('\n"
     ]
    }
   ],
   "source": [
    "def total = 0     # def is how we define a *function* in Python, not how we assign to a variable"
   ]
  },
  {
   "cell_type": "markdown",
   "metadata": {},
   "source": [
    "# Where is the index?\n",
    "\n",
    "If you're coming from another programming language, you've probably grown to expect that a `for` loop starts at 0, stops when it reaches another number, and we tell how much to increment with each iteration. Then we use the index in our loop to retrieve the appropriate value from a string or other data structure.\n",
    "\n",
    "That's a *LOT* of work! \n",
    "\n",
    "In Python, we say: I want the characters, let's get the characters. Why mess an index as a middleman?\n",
    "\n",
    "In other langauges, I need to use the index to get the characters, because I can't get them directly. But in Python, we can!\n",
    "\n",
    "Sometimes, we still want the index -- maybe for display purposes. What then?"
   ]
  },
  {
   "cell_type": "code",
   "execution_count": 34,
   "metadata": {},
   "outputs": [
    {
     "name": "stdout",
     "output_type": "stream",
     "text": [
      "0: a\n",
      "1: b\n",
      "2: c\n",
      "3: d\n"
     ]
    }
   ],
   "source": [
    "# option 1: do it yourself\n",
    "\n",
    "index = 0\n",
    "\n",
    "for one_character in 'abcd':\n",
    "    print(f'{index}: {one_character}')    # we'll print the index and the character\n",
    "    index += 1                            # increment the index"
   ]
  },
  {
   "cell_type": "code",
   "execution_count": 35,
   "metadata": {},
   "outputs": [
    {
     "name": "stdout",
     "output_type": "stream",
     "text": [
      "0: a\n",
      "1: b\n",
      "2: c\n",
      "3: d\n"
     ]
    }
   ],
   "source": [
    "# option 2: Use \"enumerate\"\n",
    "# enumerate is a function that wraps itself around an iterable (e.g., a string)\n",
    "# we still get the characters of the string, but we *also* get the current index, which enumerate calculates for us\n",
    "\n",
    "for index, one_character in enumerate('abcd'):   # that's right -- we get *TWO* values, assigned to *TWO* loop variables!\n",
    "    print(f'{index}: {one_character}')"
   ]
  },
  {
   "cell_type": "markdown",
   "metadata": {},
   "source": [
    "# `enumerate`'s arguments\n",
    "\n",
    "`enumerate` must take an iterable as its argument. \n",
    "\n",
    "But it can take an optional second argument, the integer with which it starts to count."
   ]
  },
  {
   "cell_type": "code",
   "execution_count": 36,
   "metadata": {},
   "outputs": [
    {
     "name": "stdout",
     "output_type": "stream",
     "text": [
      "7: a\n",
      "8: b\n",
      "9: c\n",
      "10: d\n"
     ]
    }
   ],
   "source": [
    "for index, one_character in enumerate('abcd', 7):\n",
    "    print(f'{index}: {one_character}')"
   ]
  },
  {
   "cell_type": "markdown",
   "metadata": {},
   "source": [
    "# Exercise: Powers of 10\n",
    "\n",
    "As you probably know, we can rewrite an integer with multiple digits as addition of powers of 10. If I have the number:\n",
    "\n",
    "    2485\n",
    "\n",
    "this can be rewritten as\n",
    "\n",
    "    (2 * 10**3) + (4 * 10**2) + (8 * 10**1) + (5 * 10**0)\n",
    "\n",
    "Ask the user to enter a multi-digit number. Print the number in the above format.\n",
    "\n",
    "Remember:\n",
    "- You're getting a string as input.\n",
    "- You can get the length of the string with `len()`\n",
    "- Use `enumerate` to know where you are in the string\n",
    "- Calculate with a combination of `len` and `enumerate` to know what power you should use."
   ]
  },
  {
   "cell_type": "code",
   "execution_count": 37,
   "metadata": {},
   "outputs": [
    {
     "data": {
      "text/plain": [
       "5"
      ]
     },
     "execution_count": 37,
     "metadata": {},
     "output_type": "execute_result"
    }
   ],
   "source": [
    "len('12345')   # len on a string works fine"
   ]
  },
  {
   "cell_type": "code",
   "execution_count": 38,
   "metadata": {},
   "outputs": [
    {
     "ename": "TypeError",
     "evalue": "object of type 'int' has no len()",
     "output_type": "error",
     "traceback": [
      "\u001b[0;31m---------------------------------------------------------------------------\u001b[0m",
      "\u001b[0;31mTypeError\u001b[0m                                 Traceback (most recent call last)",
      "Cell \u001b[0;32mIn[38], line 1\u001b[0m\n\u001b[0;32m----> 1\u001b[0m \u001b[38;5;28;43mlen\u001b[39;49m\u001b[43m(\u001b[49m\u001b[38;5;241;43m12345\u001b[39;49m\u001b[43m)\u001b[49m   \u001b[38;5;66;03m# len on an integer doesn't!\u001b[39;00m\n",
      "\u001b[0;31mTypeError\u001b[0m: object of type 'int' has no len()"
     ]
    }
   ],
   "source": [
    "len(12345)   # len on an integer doesn't!"
   ]
  },
  {
   "cell_type": "code",
   "execution_count": 47,
   "metadata": {},
   "outputs": [
    {
     "name": "stdin",
     "output_type": "stream",
     "text": [
      "Enter number:  2485\n"
     ]
    },
    {
     "name": "stdout",
     "output_type": "stream",
     "text": [
      "(2 * 10**3) + (4 * 10**2) + (8 * 10**1) + (5 * 10**0)\n"
     ]
    }
   ],
   "source": [
    "output = ''\n",
    "\n",
    "s = input('Enter number: ').strip()\n",
    "\n",
    "for index, one_digit in enumerate(s):   # go through the string, one character at a time... get the index + the digit\n",
    "    output += f'({one_digit} * 10**{len(s) - index - 1})'\n",
    "\n",
    "    if index < (len(s) - 1):\n",
    "        output += ' + '\n",
    "\n",
    "print(output)"
   ]
  },
  {
   "cell_type": "code",
   "execution_count": 48,
   "metadata": {},
   "outputs": [
    {
     "data": {
      "text/plain": [
       "2485"
      ]
     },
     "execution_count": 48,
     "metadata": {},
     "output_type": "execute_result"
    }
   ],
   "source": [
    "(2 * 10**3) + (4 * 10**2) + (8 * 10**1) + (5 * 10**0)"
   ]
  },
  {
   "cell_type": "code",
   "execution_count": null,
   "metadata": {},
   "outputs": [],
   "source": [
    "# PW\n",
    "\n",
    "      1 leng=0\n",
    "      2 usernum=input(\"enter a long integer: \").strip()\n",
    "----> 3 leng=len(usernum)\n",
    "      4 for pow, val in enumerate(usernum):\n",
    "      5   print(f\"({val}*10**{leng-pow}) +\")\n",
    "\n",
    "TypeError: 'int' object is not callable\n"
   ]
  },
  {
   "cell_type": "markdown",
   "metadata": {},
   "source": [
    "You can accidentally define `len` (a function!) to be a variable!\n",
    "\n",
    "    len = 5\n",
    "\n",
    "Then bad news! Or you can say\n",
    "\n",
    "    del(len)\n",
    "\n",
    "and get rid of the variable, allowing you to use `len` later on.    "
   ]
  },
  {
   "cell_type": "code",
   "execution_count": 53,
   "metadata": {},
   "outputs": [
    {
     "name": "stdin",
     "output_type": "stream",
     "text": [
      "enter a number: 2485\n"
     ]
    },
    {
     "name": "stdout",
     "output_type": "stream",
     "text": [
      "2 * 10**3\n",
      "4 * 10**2\n",
      "8 * 10**1\n",
      "5 * 10**0\n"
     ]
    }
   ],
   "source": [
    "# KK\n",
    "\n",
    "number = input('enter a number:')\n",
    "for length, digit in enumerate (number):\n",
    "    maxlength = len(number) - length - 1\n",
    "    print(f'{digit} * 10**{maxlength}')"
   ]
  },
  {
   "cell_type": "code",
   "execution_count": null,
   "metadata": {},
   "outputs": [],
   "source": [
    "# this here shows you the full power of range\n",
    "# and also uses hexadecimal numbers\n",
    "\n",
    "for dac_code in range(0, 0x1F + 1, 1):    # range(start, stop, stepsize)"
   ]
  },
  {
   "cell_type": "code",
   "execution_count": 54,
   "metadata": {},
   "outputs": [
    {
     "data": {
      "text/plain": [
       "range(0, 10)"
      ]
     },
     "execution_count": 54,
     "metadata": {},
     "output_type": "execute_result"
    }
   ],
   "source": [
    "range(10)"
   ]
  },
  {
   "cell_type": "code",
   "execution_count": 55,
   "metadata": {},
   "outputs": [
    {
     "data": {
      "text/plain": [
       "range(10, 20)"
      ]
     },
     "execution_count": 55,
     "metadata": {},
     "output_type": "execute_result"
    }
   ],
   "source": [
    "range(10, 20)"
   ]
  },
  {
   "cell_type": "code",
   "execution_count": 58,
   "metadata": {},
   "outputs": [
    {
     "name": "stdin",
     "output_type": "stream",
     "text": [
      "Enter multi digit number:  2485\n"
     ]
    },
    {
     "name": "stdout",
     "output_type": "stream",
     "text": [
      "len  4\n",
      "2 * 10 ** 3   4 * 10 ** 2   8 * 10 ** 1   5 * 10 ** 0   \n"
     ]
    }
   ],
   "source": [
    "# JF\n",
    "\n",
    "output = ''   # start output as an empty string\n",
    "\n",
    "number = input(\"Enter multi digit number: \").strip()\n",
    "\n",
    "length = len(number)\n",
    "\n",
    "print(\"len \" , len(number))\n",
    "\n",
    "for index, one_character in enumerate(number):\n",
    "    output += (f'{one_character} * 10 ** {length - index - 1}   ')\n",
    "\n",
    "print(output)"
   ]
  },
  {
   "cell_type": "markdown",
   "metadata": {},
   "source": [
    "# `while`\n",
    "\n",
    "The other kind of loop we commonly use in Python is `while`.\n",
    "\n",
    "- `for` is used when you want to go through every element in an iterable or sequence.\n",
    "- `while` is for when you don't know how many times you'll need to execute the loop, but you know when you want to stop\n",
    "\n",
    "A `while` loop is a lot like `if`, in that it has a condition, and the condition is checked before the block runs.\n",
    "\n",
    "The difference is that we return to the `while` and its condition after the block runs. If the condition is still `True`, then the block runs again."
   ]
  },
  {
   "cell_type": "code",
   "execution_count": 59,
   "metadata": {},
   "outputs": [
    {
     "name": "stdout",
     "output_type": "stream",
     "text": [
      "5\n",
      "4\n",
      "3\n",
      "2\n",
      "1\n"
     ]
    }
   ],
   "source": [
    "# one good way to make sure you don't end up with infinite loops -- check that the condition\n",
    "# will (or might) change during the loop body\n",
    "\n",
    "x = 5\n",
    "\n",
    "while x > 0:    # this loop will keep running so long as x > 0\n",
    "    print(x)\n",
    "    x -= 1      # this reduces x by 1"
   ]
  },
  {
   "cell_type": "markdown",
   "metadata": {},
   "source": [
    "# Exercise: Sum to 100\n",
    "\n",
    "1. Set `total` to be 0.\n",
    "2. Ask the user to enter a number.\n",
    "    - If they enter a non-number, scold them and go on\n",
    "3. Add the number to `total`.\n",
    "4. When `total` is > 100, stop asking and print the total.\n",
    "\n",
    "Example:\n",
    "\n",
    "    Enter a number: 20\n",
    "    Enter a number: 60\n",
    "    Enter a number: 19\n",
    "    Enter a number: 5\n",
    "    Total is 104\n",
    "\n",
    "    "
   ]
  },
  {
   "cell_type": "code",
   "execution_count": 60,
   "metadata": {},
   "outputs": [
    {
     "name": "stdin",
     "output_type": "stream",
     "text": [
      "Enter a number:  20\n",
      "Enter a number:  60\n",
      "Enter a number:  19\n",
      "Enter a number:  5\n"
     ]
    },
    {
     "name": "stdout",
     "output_type": "stream",
     "text": [
      "total = 104\n"
     ]
    }
   ],
   "source": [
    "total = 0\n",
    "\n",
    "while total < 100:\n",
    "    s = input('Enter a number: ').strip()\n",
    "    if not s.isdigit():\n",
    "        print(f'{s} is not numeric; try again!')\n",
    "    else:\n",
    "        total += int(s)   # we know that we can turn s into an integer, so we do it\n",
    "\n",
    "print(f'total = {total}')"
   ]
  },
  {
   "cell_type": "code",
   "execution_count": 62,
   "metadata": {},
   "outputs": [
    {
     "name": "stdin",
     "output_type": "stream",
     "text": [
      "Please enter a number:  asdfsafsaa\n"
     ]
    },
    {
     "ename": "ValueError",
     "evalue": "invalid literal for int() with base 10: 'asdfsafsaa'",
     "output_type": "error",
     "traceback": [
      "\u001b[0;31m---------------------------------------------------------------------------\u001b[0m",
      "\u001b[0;31mValueError\u001b[0m                                Traceback (most recent call last)",
      "Cell \u001b[0;32mIn[62], line 6\u001b[0m\n\u001b[1;32m      4\u001b[0m \u001b[38;5;28;01mwhile\u001b[39;00m total \u001b[38;5;241m<\u001b[39m\u001b[38;5;241m=\u001b[39m \u001b[38;5;241m100\u001b[39m:\n\u001b[1;32m      5\u001b[0m     num \u001b[38;5;241m=\u001b[39m \u001b[38;5;28minput\u001b[39m(\u001b[38;5;124m'\u001b[39m\u001b[38;5;124mPlease enter a number: \u001b[39m\u001b[38;5;124m'\u001b[39m)\n\u001b[0;32m----> 6\u001b[0m     total \u001b[38;5;241m=\u001b[39m total \u001b[38;5;241m+\u001b[39m \u001b[38;5;28;43mint\u001b[39;49m\u001b[43m(\u001b[49m\u001b[43mnum\u001b[49m\u001b[43m)\u001b[49m\n\u001b[1;32m      7\u001b[0m \u001b[38;5;28mprint\u001b[39m(total)\n",
      "\u001b[0;31mValueError\u001b[0m: invalid literal for int() with base 10: 'asdfsafsaa'"
     ]
    }
   ],
   "source": [
    "# KM\n",
    "\n",
    "total = 0\n",
    "while total <= 100:\n",
    "    num = input('Please enter a number: ')\n",
    "    total = total + int(num)\n",
    "print(total)"
   ]
  },
  {
   "cell_type": "code",
   "execution_count": 63,
   "metadata": {},
   "outputs": [
    {
     "name": "stdin",
     "output_type": "stream",
     "text": [
      "Enter a number : 20\n",
      "Enter a number : 50\n",
      "Enter a number : 20\n",
      "Enter a number : 30\n"
     ]
    },
    {
     "name": "stdout",
     "output_type": "stream",
     "text": [
      "The total is 120\n"
     ]
    }
   ],
   "source": [
    "# GK\n",
    "\n",
    "total = 0\n",
    "\n",
    "while total<100:\n",
    "    nombre =input(\"Enter a number :\").strip()\n",
    "    if nombre.isdigit():\n",
    "        total+=int(nombre)\n",
    "\n",
    "print(f\"The total is {total}\")\n"
   ]
  },
  {
   "cell_type": "code",
   "execution_count": 67,
   "metadata": {},
   "outputs": [
    {
     "name": "stdin",
     "output_type": "stream",
     "text": [
      "Enter a number:  20\n",
      "Enter a number:  40\n",
      "Enter a number:  50\n"
     ]
    },
    {
     "name": "stdout",
     "output_type": "stream",
     "text": [
      "110\n"
     ]
    }
   ],
   "source": [
    "# NH\n",
    "\n",
    "total = 0\n",
    "\n",
    "while total < 100:\n",
    "    \n",
    "    user = input('Enter a number: ').strip()\n",
    "    \n",
    "    if user.isdigit():\n",
    "        total += int(user)\n",
    "    else:\n",
    "        print(f'{user} is not numeric')\n",
    "\n",
    "print(total)\n"
   ]
  },
  {
   "cell_type": "code",
   "execution_count": 69,
   "metadata": {},
   "outputs": [
    {
     "name": "stdout",
     "output_type": "stream",
     "text": [
      "Yes, it is numeric\n"
     ]
    }
   ],
   "source": [
    "s = 'abcde'\n",
    "\n",
    "if s.isdigit:  # no parentheses! we get the function object, which is True in this context\n",
    "    print('Yes, it is numeric')\n",
    "else:\n",
    "    print('No, it is not numeric')"
   ]
  },
  {
   "cell_type": "code",
   "execution_count": 70,
   "metadata": {},
   "outputs": [
    {
     "name": "stdout",
     "output_type": "stream",
     "text": [
      "No, it is not numeric\n"
     ]
    }
   ],
   "source": [
    "s = 'abcde'\n",
    "\n",
    "if s.isdigit():\n",
    "    print('Yes, it is numeric')\n",
    "else:\n",
    "    print('No, it is not numeric')"
   ]
  },
  {
   "cell_type": "markdown",
   "metadata": {},
   "source": [
    "# Next up\n",
    "\n",
    "1. Lists\n",
    "2. Creating them\n",
    "3. Modifying them\n",
    "4. Turning strings into lists (and back)"
   ]
  },
  {
   "cell_type": "markdown",
   "metadata": {},
   "source": [
    "# Lists\n",
    "\n",
    "Lists are Python's default \"container\" class. Meaning, if you want to store things, you'll probably first reach for a list.\n",
    "\n",
    "- A list can contain any type of data at all\n",
    "- It can contain any number of elements\n",
    "- It can contain any combination of types of elements\n",
    "- Over time, you can change the contents of a list, as well as add and remove elements\n",
    "- Traditionally, lists are used to store a *single* type of value, but that's a tradition, not a technical necessarity\n",
    "\n",
    "List syntax: \n",
    "\n",
    "- We define a list with `[]` and commas between the elements.\n",
    "- We can retrieve elements from a list using `[]` for either the index or slices.\n",
    "- We can search in a list with `in`\n",
    "- We can iterate over a list with `for`\n",
    "\n",
    "If all this sounds familiar from strings, that's on purpose!\n",
    "\n",
    "Don't use Python's builtin names (e.g., `str`, `list`, `len`) as variable names. In Jupyter, they'll show up in green. Don't define them! Python might let you, but it won't work out well."
   ]
  },
  {
   "cell_type": "code",
   "execution_count": 71,
   "metadata": {},
   "outputs": [
    {
     "data": {
      "text/plain": [
       "5"
      ]
     },
     "execution_count": 71,
     "metadata": {},
     "output_type": "execute_result"
    }
   ],
   "source": [
    "mylist = [10, 20, 30, 40, 50]\n",
    "\n",
    "len(mylist)  # how many elements does it have?"
   ]
  },
  {
   "cell_type": "code",
   "execution_count": 72,
   "metadata": {},
   "outputs": [
    {
     "data": {
      "text/plain": [
       "10"
      ]
     },
     "execution_count": 72,
     "metadata": {},
     "output_type": "execute_result"
    }
   ],
   "source": [
    "mylist[0]"
   ]
  },
  {
   "cell_type": "code",
   "execution_count": 73,
   "metadata": {},
   "outputs": [
    {
     "data": {
      "text/plain": [
       "20"
      ]
     },
     "execution_count": 73,
     "metadata": {},
     "output_type": "execute_result"
    }
   ],
   "source": [
    "mylist[1]"
   ]
  },
  {
   "cell_type": "code",
   "execution_count": 74,
   "metadata": {},
   "outputs": [
    {
     "data": {
      "text/plain": [
       "50"
      ]
     },
     "execution_count": 74,
     "metadata": {},
     "output_type": "execute_result"
    }
   ],
   "source": [
    "mylist[4]  # final element in a 5-element list"
   ]
  },
  {
   "cell_type": "code",
   "execution_count": 75,
   "metadata": {},
   "outputs": [
    {
     "data": {
      "text/plain": [
       "50"
      ]
     },
     "execution_count": 75,
     "metadata": {},
     "output_type": "execute_result"
    }
   ],
   "source": [
    "mylist[-1]  # get the final element"
   ]
  },
  {
   "cell_type": "code",
   "execution_count": 76,
   "metadata": {},
   "outputs": [
    {
     "data": {
      "text/plain": [
       "40"
      ]
     },
     "execution_count": 76,
     "metadata": {},
     "output_type": "execute_result"
    }
   ],
   "source": [
    "mylist[-2]"
   ]
  },
  {
   "cell_type": "code",
   "execution_count": 77,
   "metadata": {},
   "outputs": [
    {
     "data": {
      "text/plain": [
       "[30, 40]"
      ]
     },
     "execution_count": 77,
     "metadata": {},
     "output_type": "execute_result"
    }
   ],
   "source": [
    "mylist[2:4]  # returns from index 2 until (not including) index 4"
   ]
  },
  {
   "cell_type": "code",
   "execution_count": 78,
   "metadata": {},
   "outputs": [
    {
     "data": {
      "text/plain": [
       "True"
      ]
     },
     "execution_count": 78,
     "metadata": {},
     "output_type": "execute_result"
    }
   ],
   "source": [
    "30 in mylist"
   ]
  },
  {
   "cell_type": "code",
   "execution_count": 79,
   "metadata": {},
   "outputs": [
    {
     "data": {
      "text/plain": [
       "False"
      ]
     },
     "execution_count": 79,
     "metadata": {},
     "output_type": "execute_result"
    }
   ],
   "source": [
    "100 in mylist"
   ]
  },
  {
   "cell_type": "code",
   "execution_count": 81,
   "metadata": {},
   "outputs": [
    {
     "name": "stdout",
     "output_type": "stream",
     "text": [
      "10\n",
      "20\n",
      "30\n",
      "40\n",
      "50\n"
     ]
    }
   ],
   "source": [
    "for one_item in mylist:\n",
    "    print(one_item)"
   ]
  },
  {
   "cell_type": "markdown",
   "metadata": {},
   "source": [
    "# Aren't these just arrays?\n",
    "\n",
    "Technically speaking, an array has two qualities that lists lack:\n",
    "\n",
    "- We know the size when the array is defined, and it cannot change.\n",
    "- All elements need to be of the same type.\n"
   ]
  },
  {
   "cell_type": "markdown",
   "metadata": {},
   "source": [
    "# Lists are mutable\n",
    "\n",
    "This means that we can do three things with them:\n",
    "\n",
    "1. We can update an existing value at an index by assigning to that index\n",
    "2. We can add new elements to the list, typically at the end\n",
    "3. We can remove existing elements from the list, typically from the end\n",
    "\n"
   ]
  },
  {
   "cell_type": "code",
   "execution_count": 82,
   "metadata": {},
   "outputs": [
    {
     "data": {
      "text/plain": [
       "[10, 20, 30, 999, 50]"
      ]
     },
     "execution_count": 82,
     "metadata": {},
     "output_type": "execute_result"
    }
   ],
   "source": [
    "mylist = [10, 20, 30, 40, 50]\n",
    "\n",
    "mylist[3] = 999   # here, we replace the element at index 3\n",
    "mylist"
   ]
  },
  {
   "cell_type": "code",
   "execution_count": 83,
   "metadata": {},
   "outputs": [
    {
     "ename": "IndexError",
     "evalue": "list assignment index out of range",
     "output_type": "error",
     "traceback": [
      "\u001b[0;31m---------------------------------------------------------------------------\u001b[0m",
      "\u001b[0;31mIndexError\u001b[0m                                Traceback (most recent call last)",
      "Cell \u001b[0;32mIn[83], line 3\u001b[0m\n\u001b[1;32m      1\u001b[0m \u001b[38;5;66;03m# what happens if I try to replace the element at index 10 (which doesn't exist)?\u001b[39;00m\n\u001b[0;32m----> 3\u001b[0m \u001b[43mmylist\u001b[49m\u001b[43m[\u001b[49m\u001b[38;5;241;43m10\u001b[39;49m\u001b[43m]\u001b[49m \u001b[38;5;241m=\u001b[39m \u001b[38;5;241m888\u001b[39m\n",
      "\u001b[0;31mIndexError\u001b[0m: list assignment index out of range"
     ]
    }
   ],
   "source": [
    "# what happens if I try to replace the element at index 10 (which doesn't exist)?\n",
    "\n",
    "mylist[10] = 888"
   ]
  },
  {
   "cell_type": "code",
   "execution_count": 84,
   "metadata": {},
   "outputs": [
    {
     "data": {
      "text/plain": [
       "[10, 20, 30, 999, 50, 777]"
      ]
     },
     "execution_count": 84,
     "metadata": {},
     "output_type": "execute_result"
    }
   ],
   "source": [
    "# How can I add new elements to the end of the list?\n",
    "# To add one thing, I use the list.append method\n",
    "\n",
    "mylist.append(777)\n",
    "mylist"
   ]
  },
  {
   "cell_type": "code",
   "execution_count": 85,
   "metadata": {},
   "outputs": [
    {
     "data": {
      "text/plain": [
       "[10, 20, 30, 999, 50, 777, 'abcde']"
      ]
     },
     "execution_count": 85,
     "metadata": {},
     "output_type": "execute_result"
    }
   ],
   "source": [
    "# we can append anything we want to the list\n",
    "mylist.append('abcde')\n",
    "mylist"
   ]
  },
  {
   "cell_type": "code",
   "execution_count": 86,
   "metadata": {},
   "outputs": [
    {
     "data": {
      "text/plain": [
       "[10, 20, 30, 999, 50, 777, 'abcde', 100, 200, 300]"
      ]
     },
     "execution_count": 86,
     "metadata": {},
     "output_type": "execute_result"
    }
   ],
   "source": [
    "# sometimes we want to add more than one thing\n",
    "# list.append won't let us do that; it only adds one\n",
    "# for such times, we need to say +=\n",
    "# this runs a \"for\" loop on the right-side item, appending each element to the list\n",
    "\n",
    "mylist += [100, 200, 300]\n",
    "mylist"
   ]
  },
  {
   "cell_type": "code",
   "execution_count": 87,
   "metadata": {},
   "outputs": [
    {
     "data": {
      "text/plain": [
       "[10, 20, 30, 999, 50, 777, 'abcde', 100, 200, 300, 'a', 'b', 'c', 'd', 'e']"
      ]
     },
     "execution_count": 87,
     "metadata": {},
     "output_type": "execute_result"
    }
   ],
   "source": [
    "# I can also do this\n",
    "\n",
    "mylist += 'abcde'\n",
    "mylist"
   ]
  },
  {
   "cell_type": "code",
   "execution_count": 88,
   "metadata": {},
   "outputs": [
    {
     "data": {
      "text/plain": [
       "'e'"
      ]
     },
     "execution_count": 88,
     "metadata": {},
     "output_type": "execute_result"
    }
   ],
   "source": [
    "# Removing items\n",
    "# to remove an item from the end of a list, we use list.pop\n",
    "# this removes + returns the final item\n",
    "\n",
    "mylist.pop()"
   ]
  },
  {
   "cell_type": "code",
   "execution_count": 89,
   "metadata": {},
   "outputs": [
    {
     "data": {
      "text/plain": [
       "'d'"
      ]
     },
     "execution_count": 89,
     "metadata": {},
     "output_type": "execute_result"
    }
   ],
   "source": [
    "mylist.pop()"
   ]
  },
  {
   "cell_type": "code",
   "execution_count": 90,
   "metadata": {},
   "outputs": [
    {
     "data": {
      "text/plain": [
       "[10, 20, '!!!!', 30, 999, 50, 777, 'abcde', 100, 200, 300, 'a', 'b', 'c']"
      ]
     },
     "execution_count": 90,
     "metadata": {},
     "output_type": "execute_result"
    }
   ],
   "source": [
    "# to insert into a list, you use the list.insert method\n",
    "# specify an index and a value, and what was previously at that index will be pushed one to the right\n",
    "\n",
    "mylist.insert(2, '!!!!')\n",
    "mylist"
   ]
  },
  {
   "cell_type": "code",
   "execution_count": 91,
   "metadata": {},
   "outputs": [
    {
     "data": {
      "text/plain": [
       "'!!!!'"
      ]
     },
     "execution_count": 91,
     "metadata": {},
     "output_type": "execute_result"
    }
   ],
   "source": [
    "# to remove from somewhere else on the list, \n",
    "# use list.pop, specifying an index\n",
    "\n",
    "mylist.pop(2)"
   ]
  },
  {
   "cell_type": "code",
   "execution_count": 92,
   "metadata": {},
   "outputs": [
    {
     "data": {
      "text/plain": [
       "[10, 20, 30, 999, 50, 777, 'abcde', 100, 200, 300, 'a', 'b', 'c']"
      ]
     },
     "execution_count": 92,
     "metadata": {},
     "output_type": "execute_result"
    }
   ],
   "source": [
    "mylist"
   ]
  },
  {
   "cell_type": "code",
   "execution_count": 93,
   "metadata": {},
   "outputs": [
    {
     "data": {
      "text/plain": [
       "['!!!', 20, '???']"
      ]
     },
     "execution_count": 93,
     "metadata": {},
     "output_type": "execute_result"
    }
   ],
   "source": [
    "mylist = [10, 20, 30]\n",
    "also_mylist = mylist\n",
    "\n",
    "# we now have two variables referring to the same list!\n",
    "\n",
    "mylist[0] = '!!!'\n",
    "also_mylist[2] = '???'\n",
    "\n",
    "mylist"
   ]
  },
  {
   "cell_type": "code",
   "execution_count": 94,
   "metadata": {},
   "outputs": [
    {
     "data": {
      "text/plain": [
       "['!!!', 20, '???']"
      ]
     },
     "execution_count": 94,
     "metadata": {},
     "output_type": "execute_result"
    }
   ],
   "source": [
    "also_mylist"
   ]
  },
  {
   "cell_type": "code",
   "execution_count": 95,
   "metadata": {},
   "outputs": [
    {
     "data": {
      "text/plain": [
       "['!!!', 20, 30]"
      ]
     },
     "execution_count": 95,
     "metadata": {},
     "output_type": "execute_result"
    }
   ],
   "source": [
    "# we can avoid this by copying the list with list.copy()\n",
    "\n",
    "mylist = [10, 20, 30]\n",
    "also_mylist = mylist.copy()\n",
    "\n",
    "mylist[0] = '!!!'\n",
    "also_mylist[2] = '???'\n",
    "\n",
    "mylist"
   ]
  },
  {
   "cell_type": "code",
   "execution_count": 96,
   "metadata": {},
   "outputs": [
    {
     "data": {
      "text/plain": [
       "[10, 20, '???']"
      ]
     },
     "execution_count": 96,
     "metadata": {},
     "output_type": "execute_result"
    }
   ],
   "source": [
    "also_mylist"
   ]
  },
  {
   "cell_type": "code",
   "execution_count": 99,
   "metadata": {},
   "outputs": [],
   "source": [
    "# does list[5].insert(list[2]) move the value in 2 to 5 or make a copy?\n",
    "\n",
    "mylist = [10, 20, 30, 40, 50, 60, 70]\n",
    "\n",
    "mylist.insert(5, mylist[2])"
   ]
  },
  {
   "cell_type": "code",
   "execution_count": 100,
   "metadata": {},
   "outputs": [
    {
     "data": {
      "text/plain": [
       "[10, 20, 30, 40, 50, 30, 60, 70]"
      ]
     },
     "execution_count": 100,
     "metadata": {},
     "output_type": "execute_result"
    }
   ],
   "source": [
    "mylist"
   ]
  },
  {
   "cell_type": "code",
   "execution_count": 101,
   "metadata": {},
   "outputs": [
    {
     "data": {
      "text/plain": [
       "[]"
      ]
     },
     "execution_count": 101,
     "metadata": {},
     "output_type": "execute_result"
    }
   ],
   "source": [
    "# to empty a list, you can use list.clear()\n",
    "\n",
    "mylist.clear()\n",
    "\n",
    "mylist"
   ]
  },
  {
   "cell_type": "code",
   "execution_count": null,
   "metadata": {},
   "outputs": [],
   "source": [
    "x"
   ]
  },
  {
   "cell_type": "markdown",
   "metadata": {},
   "source": [
    "# Exercise: Odds and evens\n",
    "\n",
    "1. Define two empty lists, `odds` and `evens`.\n",
    "2. We're going to ask the user to enter 5 numbers.\n",
    "3. For each input, check that it's numeric and can be turned into an `int`. (If not, scold the user.)\n",
    "4. Check if the number is odd or even.\n",
    "    - If it's odd, append to `odds`\n",
    "    - If it's even append to `evens`\n",
    "5. When you're done, print both lists.\n",
    "\n",
    "Example:\n",
    "\n",
    "    Enter number 0: 15\n",
    "    Enter number 1: 23\n",
    "    Enter number 2: 88\n",
    "    Enter number 3: exit\n",
    "        exit is not numeric; try again\n",
    "    Enter number 4: 7\n",
    "    odds: [15, 23, 7]\n",
    "    evens: [88]"
   ]
  },
  {
   "cell_type": "markdown",
   "metadata": {},
   "source": [
    "odds = []\n",
    "evens = []\n",
    "\n",
    "for counter in range(5):\n",
    "    s = input(f'Enter number {counter}: ')\n",
    "\n",
    "    if s.isdigit():\n",
    "        n = int(s)\n",
    "        if n % 2 == 0:   # even, because dividing by 2 gives us 0\n",
    "            evens.append(n)\n",
    "        else:\n",
    "            odds.append(n)\n",
    "\n",
    "    else:\n",
    "        print(f'{s} is not numeric; try again')\n",
    "\n",
    "print(f'odds = {odds}')\n",
    "print(f'evens = {evens}')"
   ]
  },
  {
   "cell_type": "code",
   "execution_count": 103,
   "metadata": {},
   "outputs": [
    {
     "data": {
      "text/plain": [
       "[999, 20, 888]"
      ]
     },
     "execution_count": 103,
     "metadata": {},
     "output_type": "execute_result"
    }
   ],
   "source": [
    "mylist = [10, 20, 30]\n",
    "alias = mylist\n",
    "\n",
    "# these two names now refer to the same list; anything we do to one will affect the other\n",
    "mylist[0] = 999\n",
    "alias[-1] = 888\n",
    "\n",
    "mylist"
   ]
  },
  {
   "cell_type": "code",
   "execution_count": 104,
   "metadata": {},
   "outputs": [
    {
     "data": {
      "text/plain": [
       "[999, 20, 888]"
      ]
     },
     "execution_count": 104,
     "metadata": {},
     "output_type": "execute_result"
    }
   ],
   "source": [
    "alias"
   ]
  },
  {
   "cell_type": "code",
   "execution_count": 105,
   "metadata": {},
   "outputs": [
    {
     "data": {
      "text/plain": [
       "[]"
      ]
     },
     "execution_count": 105,
     "metadata": {},
     "output_type": "execute_result"
    }
   ],
   "source": [
    "mylist = [10, 20, 30]\n",
    "alias = mylist\n",
    "\n",
    "# these two names now refer to the same list; anything we do to one will affect the other\n",
    "mylist = []\n",
    "\n",
    "mylist"
   ]
  },
  {
   "cell_type": "code",
   "execution_count": 106,
   "metadata": {},
   "outputs": [
    {
     "data": {
      "text/plain": [
       "[10, 20, 30]"
      ]
     },
     "execution_count": 106,
     "metadata": {},
     "output_type": "execute_result"
    }
   ],
   "source": [
    "alias"
   ]
  },
  {
   "cell_type": "code",
   "execution_count": 107,
   "metadata": {},
   "outputs": [
    {
     "data": {
      "text/plain": [
       "[]"
      ]
     },
     "execution_count": 107,
     "metadata": {},
     "output_type": "execute_result"
    }
   ],
   "source": [
    "mylist = [10, 20, 30]\n",
    "alias = mylist\n",
    "\n",
    "mylist.clear()   # this modifies the list to which mylist refers\n",
    "\n",
    "mylist"
   ]
  },
  {
   "cell_type": "code",
   "execution_count": 108,
   "metadata": {},
   "outputs": [
    {
     "data": {
      "text/plain": [
       "[]"
      ]
     },
     "execution_count": 108,
     "metadata": {},
     "output_type": "execute_result"
    }
   ],
   "source": [
    "alias"
   ]
  },
  {
   "cell_type": "code",
   "execution_count": 109,
   "metadata": {},
   "outputs": [
    {
     "name": "stdout",
     "output_type": "stream",
     "text": [
      "You'll enter 5 numbers\n"
     ]
    },
    {
     "name": "stdin",
     "output_type": "stream",
     "text": [
      "Enter number 1 : 15\n",
      "Enter number 2 : 23\n",
      "Enter number 3 : 88\n",
      "Enter number 4 : exit\n"
     ]
    },
    {
     "name": "stdout",
     "output_type": "stream",
     "text": [
      "exit is not a number!\n"
     ]
    },
    {
     "name": "stdin",
     "output_type": "stream",
     "text": [
      "Enter number 5 : 7\n"
     ]
    },
    {
     "name": "stdout",
     "output_type": "stream",
     "text": [
      "Odd numbers are [15, 23, 7]\n",
      "Even numbers are [88]\n"
     ]
    }
   ],
   "source": [
    "# GK\n",
    "\n",
    "odds = []\n",
    "evens = []\n",
    "\n",
    "print(\"You'll enter 5 numbers\")\n",
    "\n",
    "for i in range(5):\n",
    "    the_input = input(f\"Enter number {i+1} :\")\n",
    "    if the_input.isdigit():\n",
    "        num = int(the_input)\n",
    "        if (num % 2)==0:\n",
    "            evens.append(num)\n",
    "        else:\n",
    "            odds.append(num)\n",
    "    else:\n",
    "        print(f\"{the_input} is not a number!\")\n",
    "\n",
    "print(f\"Odd numbers are {odds}\")\n",
    "print(f\"Even numbers are {evens}\")\n"
   ]
  },
  {
   "cell_type": "code",
   "execution_count": 112,
   "metadata": {},
   "outputs": [
    {
     "name": "stdin",
     "output_type": "stream",
     "text": [
      "enter a number 321\n",
      "enter a number \n"
     ]
    },
    {
     "name": "stdout",
     "output_type": "stream",
     "text": [
      " is not a number\n"
     ]
    },
    {
     "name": "stdin",
     "output_type": "stream",
     "text": [
      "enter a number 1\n",
      "enter a number 2\n",
      "enter a number 4\n"
     ]
    },
    {
     "name": "stdout",
     "output_type": "stream",
     "text": [
      "['2', '4'],['321', '1']\n"
     ]
    }
   ],
   "source": [
    "# AK\n",
    "\n",
    "odds=[]\n",
    "evens=[]\n",
    "for each_num in range(5):\n",
    "  num=input('enter a number').strip()\n",
    "  if not num.isdigit():\n",
    "    print(f'{num} is not a number')\n",
    "  else:\n",
    "    if int(num) % 2 == 0: # \"modulo 2\"\n",
    "      evens.append(num)\n",
    "    else:\n",
    "      odds.append(num)\n",
    "print(f'{evens},{odds}')"
   ]
  },
  {
   "cell_type": "markdown",
   "metadata": {},
   "source": [
    "# Turning strings into lists\n",
    "\n",
    "We know that if we have data (`x`) and we want to get a version of it in another type, we invoke the type as a function.\n",
    "\n",
    "- To get a string, we call `str(x)`\n",
    "- To get an int, we call `int(x)`\n",
    "- To get a float, we call `float(x)`\n",
    "\n",
    "This never changes the original value; it gives us a new one.\n",
    "\n",
    "What if I want to get a list based on a string?"
   ]
  },
  {
   "cell_type": "code",
   "execution_count": 113,
   "metadata": {},
   "outputs": [
    {
     "data": {
      "text/plain": [
       "['a', 'b', 'c', 'd', ':', 'e', 'f', ':', 'g', 'h', 'i', ':', 'j', 'k']"
      ]
     },
     "execution_count": 113,
     "metadata": {},
     "output_type": "execute_result"
    }
   ],
   "source": [
    "s = 'abcd:ef:ghi:jk'\n",
    "\n",
    "list(s)  # I will get a list!"
   ]
  },
  {
   "cell_type": "code",
   "execution_count": 114,
   "metadata": {},
   "outputs": [
    {
     "data": {
      "text/plain": [
       "['abcd', 'ef', 'ghi', 'jk']"
      ]
     },
     "execution_count": 114,
     "metadata": {},
     "output_type": "execute_result"
    }
   ],
   "source": [
    "# we, as humans, look at s and think that we could break it up on `:` \n",
    "# to do that, we need to use `str.split`, a method that takes an argument, what we want the delimiter to be\n",
    "\n",
    "s.split(':')  # str.split always returns a list of strings"
   ]
  },
  {
   "cell_type": "code",
   "execution_count": 115,
   "metadata": {},
   "outputs": [
    {
     "data": {
      "text/plain": [
       "['this', 'is', 'a', 'bunch', 'of', 'words', 'for', 'my', 'class']"
      ]
     },
     "execution_count": 115,
     "metadata": {},
     "output_type": "execute_result"
    }
   ],
   "source": [
    "s = 'this is a bunch of words for my class'\n",
    "\n",
    "s.split(' ')  # break up the sentence into words by splitting on ' '"
   ]
  },
  {
   "cell_type": "code",
   "execution_count": 116,
   "metadata": {},
   "outputs": [
    {
     "data": {
      "text/plain": [
       "['this',\n",
       " '',\n",
       " '',\n",
       " '',\n",
       " 'is',\n",
       " 'a',\n",
       " '',\n",
       " '',\n",
       " '',\n",
       " '',\n",
       " 'bunch',\n",
       " 'of',\n",
       " 'words',\n",
       " '',\n",
       " '',\n",
       " '',\n",
       " '',\n",
       " 'for',\n",
       " '',\n",
       " '',\n",
       " 'my',\n",
       " 'class']"
      ]
     },
     "execution_count": 116,
     "metadata": {},
     "output_type": "execute_result"
    }
   ],
   "source": [
    "# but what happens here...\n",
    "\n",
    "s = 'this    is a     bunch of words     for   my class'\n",
    "\n",
    "s.split(' ')"
   ]
  },
  {
   "cell_type": "code",
   "execution_count": 118,
   "metadata": {},
   "outputs": [
    {
     "name": "stdout",
     "output_type": "stream",
     "text": [
      "['this', 'is', 'a', 'bunch', 'of', 'words', 'for', 'my', 'class']\n"
     ]
    }
   ],
   "source": [
    "# Python solves this: We don't provide an argument to str.split, and Python treats any whitespace,\n",
    "# in any combiation, and any length, as a delimiter to split\n",
    "\n",
    "words = s.split()  # no argument\n",
    "\n",
    "print(words)"
   ]
  },
  {
   "cell_type": "markdown",
   "metadata": {},
   "source": [
    "# Exercise: Pig Latin sentence!\n",
    "\n",
    "Last time, we wrote a translator from English into Pig Latin:\n",
    "\n",
    "```python\n",
    "word = input('Enter word: ').strip()\n",
    "\n",
    "if word[0] in 'aeiou':   # if the first character is a vowel\n",
    "    print(word + 'way')\n",
    "else:\n",
    "    print(word[1:] + word[0] + 'ay')  # move first character to the end, and add \"ay\"\n",
    "```\n",
    "\n",
    "Now I want you to get input from the user that is a *sentence* in English (no punctuation, no capitals). You are to print the translation of this sentence into Pig Latin, with one word on each line.\n",
    "\n",
    "Example:\n",
    "\n",
    "    Enter text: this is a test\n",
    "    histay\n",
    "    isway\n",
    "    away\n",
    "    esttay"
   ]
  },
  {
   "cell_type": "code",
   "execution_count": 121,
   "metadata": {},
   "outputs": [
    {
     "name": "stdin",
     "output_type": "stream",
     "text": [
      "Enter sentence:  this is a test\n"
     ]
    },
    {
     "name": "stdout",
     "output_type": "stream",
     "text": [
      "histay\n",
      "isway\n",
      "away\n",
      "esttay\n"
     ]
    }
   ],
   "source": [
    "sentence = input('Enter sentence: ').strip()\n",
    "\n",
    "for word in sentence.split():\n",
    "    if word[0] in 'aeiou':   # if the first character is a vowel\n",
    "        print(word + 'way')\n",
    "    else:\n",
    "        print(word[1:] + word[0] + 'ay')  # move first character to the end, and add \"ay\"\n"
   ]
  },
  {
   "cell_type": "markdown",
   "metadata": {},
   "source": [
    "# Next up\n",
    "\n",
    "- `str.join`\n",
    "- Tuples\n",
    "- Tuple unpacking"
   ]
  },
  {
   "cell_type": "markdown",
   "metadata": {},
   "source": [
    "We've seen that we can take a string, run `str.split` on it, and get a list of strings back.\n",
    "\n",
    "But we often want to do the opposite, namely take a list of strings and combine them into a single string.\n",
    "\n",
    "For that, we have the method `str.join`. You can think of it as the opposite/counterpart for `str.split`.\n",
    "\n",
    "We run `join` not on the list we want to join together, but on a string (a string method!) that we want to put between the elements of the list."
   ]
  },
  {
   "cell_type": "code",
   "execution_count": 122,
   "metadata": {},
   "outputs": [
    {
     "data": {
      "text/plain": [
       "'this is a test'"
      ]
     },
     "execution_count": 122,
     "metadata": {},
     "output_type": "execute_result"
    }
   ],
   "source": [
    "mylist = ['this', 'is', 'a', 'test']\n",
    "\n",
    "' '.join(mylist)   # we run the method on the \"glue\" that goes between the elements"
   ]
  },
  {
   "cell_type": "code",
   "execution_count": 123,
   "metadata": {},
   "outputs": [
    {
     "data": {
      "text/plain": [
       "'this*is*a*test'"
      ]
     },
     "execution_count": 123,
     "metadata": {},
     "output_type": "execute_result"
    }
   ],
   "source": [
    "'*'.join(mylist)"
   ]
  },
  {
   "cell_type": "code",
   "execution_count": 124,
   "metadata": {},
   "outputs": [
    {
     "name": "stdout",
     "output_type": "stream",
     "text": [
      "this\n",
      "is\n",
      "a\n",
      "test\n"
     ]
    }
   ],
   "source": [
    "print('\\n'.join(mylist))"
   ]
  },
  {
   "cell_type": "code",
   "execution_count": 125,
   "metadata": {},
   "outputs": [
    {
     "data": {
      "text/plain": [
       "['this', 'is', 'another', 'test']"
      ]
     },
     "execution_count": 125,
     "metadata": {},
     "output_type": "execute_result"
    }
   ],
   "source": [
    "output = []\n",
    "\n",
    "output.append('this')\n",
    "output.append('is')\n",
    "output.append('another')\n",
    "output.append('test')\n",
    "\n",
    "output"
   ]
  },
  {
   "cell_type": "code",
   "execution_count": 126,
   "metadata": {},
   "outputs": [
    {
     "name": "stdout",
     "output_type": "stream",
     "text": [
      "this is another test\n"
     ]
    }
   ],
   "source": [
    "print(' '.join(output))"
   ]
  },
  {
   "cell_type": "code",
   "execution_count": 127,
   "metadata": {},
   "outputs": [
    {
     "ename": "TypeError",
     "evalue": "sequence item 0: expected str instance, int found",
     "output_type": "error",
     "traceback": [
      "\u001b[0;31m---------------------------------------------------------------------------\u001b[0m",
      "\u001b[0;31mTypeError\u001b[0m                                 Traceback (most recent call last)",
      "Cell \u001b[0;32mIn[127], line 3\u001b[0m\n\u001b[1;32m      1\u001b[0m \u001b[38;5;66;03m# if we try to use str.join on a list of non-strings, it'll fail\u001b[39;00m\n\u001b[0;32m----> 3\u001b[0m \u001b[38;5;124;43m'\u001b[39;49m\u001b[38;5;124;43m \u001b[39;49m\u001b[38;5;124;43m'\u001b[39;49m\u001b[38;5;241;43m.\u001b[39;49m\u001b[43mjoin\u001b[49m\u001b[43m(\u001b[49m\u001b[43m[\u001b[49m\u001b[38;5;241;43m10\u001b[39;49m\u001b[43m,\u001b[49m\u001b[43m \u001b[49m\u001b[38;5;241;43m20\u001b[39;49m\u001b[43m,\u001b[49m\u001b[43m \u001b[49m\u001b[38;5;241;43m30\u001b[39;49m\u001b[43m]\u001b[49m\u001b[43m)\u001b[49m\n",
      "\u001b[0;31mTypeError\u001b[0m: sequence item 0: expected str instance, int found"
     ]
    }
   ],
   "source": [
    "# if we try to use str.join on a list of non-strings, it'll fail\n",
    "\n",
    "' '.join([10, 20, 30])"
   ]
  },
  {
   "cell_type": "markdown",
   "metadata": {},
   "source": [
    "# Exercise: Nicely formatted Pig Latin sentence\n",
    "\n",
    "1. In the previous exercise, we printed the translated sentence with one word per line.\n",
    "2. Modify the code such that the words are all printed on a single line, as a single sentence."
   ]
  },
  {
   "cell_type": "code",
   "execution_count": 130,
   "metadata": {},
   "outputs": [
    {
     "name": "stdin",
     "output_type": "stream",
     "text": [
      "Enter sentence:  this is a test\n"
     ]
    },
    {
     "name": "stdout",
     "output_type": "stream",
     "text": [
      "histay isway away esttay\n"
     ]
    }
   ],
   "source": [
    "output = []\n",
    "sentence = input('Enter sentence: ').strip()\n",
    "\n",
    "for word in sentence.split():\n",
    "    if word[0] in 'aeiou':   # if the first character is a vowel\n",
    "        output.append(word + 'way')\n",
    "    else:\n",
    "        output.append(word[1:] + word[0] + 'ay')  # move first character to the end, and add \"ay\"\n",
    "\n",
    "print(' '.join(output))"
   ]
  },
  {
   "cell_type": "code",
   "execution_count": 131,
   "metadata": {},
   "outputs": [
    {
     "name": "stdin",
     "output_type": "stream",
     "text": [
      "Enter a sentence:  this is a test\n"
     ]
    },
    {
     "name": "stdout",
     "output_type": "stream",
     "text": [
      "histay isway away esttay\n"
     ]
    }
   ],
   "source": [
    "# AK\n",
    "\n",
    "sent=input('Enter a sentence: ')\n",
    "words=sent.split()\n",
    "\n",
    "pigwords=[]\n",
    "\n",
    "s='aeiou'\n",
    "\n",
    "for each_word in words:\n",
    "  if each_word[0] in s: #string is a \"container\" so we are looking \"in\" the container\n",
    "     new_word=each_word+'way'\n",
    "  else:\n",
    "     new_word=each_word[1:]+each_word[0]+'ay' #unlike in MATLAB \"end\" is not the last index. use empty space\n",
    "  pigwords.append(new_word)\n",
    "print(' '.join(pigwords)) #joins list elements into a string separated by spaces"
   ]
  },
  {
   "cell_type": "code",
   "execution_count": 133,
   "metadata": {},
   "outputs": [
    {
     "name": "stdin",
     "output_type": "stream",
     "text": [
      "Enter a sentence:  this is a test\n"
     ]
    },
    {
     "name": "stdout",
     "output_type": "stream",
     "text": [
      "histay isway away esttay\n"
     ]
    }
   ],
   "source": [
    "# MP\n",
    "\n",
    "output = []\n",
    "for word in input('Enter a sentence: ').strip().split():\n",
    "    output.append(f\"{word}way\" if word[0] in 'aeiou' else f\"{word[1:]}{word[0]}ay\")\n",
    "print(\" \".join(output))"
   ]
  },
  {
   "cell_type": "code",
   "execution_count": 132,
   "metadata": {},
   "outputs": [
    {
     "name": "stdin",
     "output_type": "stream",
     "text": [
      "enter text: this is a test\n"
     ]
    },
    {
     "name": "stdout",
     "output_type": "stream",
     "text": [
      "histay isway away esttay\n"
     ]
    }
   ],
   "source": [
    "# KK\n",
    "\n",
    "sentence = input('enter text:')\n",
    "newsentence = []\n",
    "for word in sentence.split():\n",
    "    if word[0] in 'aeiou':\n",
    "        # print(word + 'way')\n",
    "        newsentence.append(word+'way')\n",
    "    else:\n",
    "        # print(word[1:] + word[0] + 'ay')\n",
    "        newsentence.append(word[1:] + word[0] + 'ay')\n",
    "\n",
    "print (' '.join(newsentence))"
   ]
  },
  {
   "cell_type": "code",
   "execution_count": 134,
   "metadata": {},
   "outputs": [
    {
     "name": "stdin",
     "output_type": "stream",
     "text": [
      "Enter sentence:  this is a test\n"
     ]
    },
    {
     "name": "stdout",
     "output_type": "stream",
     "text": [
      "histay isway away esttay\n"
     ]
    }
   ],
   "source": [
    "# SP\n",
    "\n",
    "mylist = []\n",
    "sentence = input('Enter sentence: ').strip()\n",
    "\n",
    "for word in sentence.split():\n",
    "    if word[0] in 'aeiou':   # if the first character is a vowel\n",
    "        mylist.append(word + 'way')\n",
    "    else:\n",
    "        mylist.append(word[1:] + word[0] + 'ay')  # move first character to the end, and add \"ay\"\n",
    "print(' '.join(mylist))"
   ]
  },
  {
   "cell_type": "markdown",
   "metadata": {},
   "source": [
    "# Exiting loops early\n",
    "\n",
    "Sometimes, you want to exit a loop early. This can take two forms:\n",
    "\n",
    "- Exit the current iteration early, and go onto the next one -- for this, we have the `continue` keyword.\n",
    "- Exit the entire loop early, right now, and continue with the program following the loop -- for this, we have the `break` keyword.\n",
    "\n",
    "These can be used inside of either a `for` or `while` loop. Typically, you use them at the start of the loop body, to see if you need to exit from the current iteration or from the loop altogether.\n",
    "\n"
   ]
  },
  {
   "cell_type": "code",
   "execution_count": 135,
   "metadata": {},
   "outputs": [
    {
     "name": "stdin",
     "output_type": "stream",
     "text": [
      "What should I call you?  Reuven\n"
     ]
    },
    {
     "name": "stdout",
     "output_type": "stream",
     "text": [
      "Hello, Reuven!\n"
     ]
    },
    {
     "name": "stdin",
     "output_type": "stream",
     "text": [
      "What should I call you?  late for dinner\n"
     ]
    },
    {
     "name": "stdout",
     "output_type": "stream",
     "text": [
      "Hello, late for dinner!\n"
     ]
    },
    {
     "name": "stdin",
     "output_type": "stream",
     "text": [
      "What should I call you?  \n"
     ]
    }
   ],
   "source": [
    "while True:   # infinite loop! Potential danger!\n",
    "    name = input('What should I call you? ').strip()\n",
    "\n",
    "    if name == '':   # did we get the empty string?\n",
    "        break\n",
    "\n",
    "    print(f'Hello, {name}!')"
   ]
  },
  {
   "cell_type": "markdown",
   "metadata": {},
   "source": [
    "Typical uses for `break` and `continue`:\n",
    "\n",
    "- If you're in the loop body and you have a value you can't/won't use, then you can `continue`\n",
    "- If you're in the loop body and have accomplished the goal you set out to do, you can use `break`"
   ]
  },
  {
   "cell_type": "markdown",
   "metadata": {},
   "source": [
    "# Tuples\n",
    "\n",
    "If you haven't heard of tuples before, that's fine -- it's a term used in databases and (sometimes) in math.\n",
    "\n",
    "A tuple is a collection of values, often a record. In Python, we use tuples where we might have a few values of different types. That's how they're different from lists, which are meant to be used as collections of the same type.\n",
    "\n",
    "The other thing is: Tuples are immutable, like strings. But they can contain anything, like lists.\n",
    "\n"
   ]
  },
  {
   "cell_type": "code",
   "execution_count": 136,
   "metadata": {},
   "outputs": [
    {
     "data": {
      "text/plain": [
       "tuple"
      ]
     },
     "execution_count": 136,
     "metadata": {},
     "output_type": "execute_result"
    }
   ],
   "source": [
    "person = ('Reuven', 'Lerner', 46)   # this is a tuple! We use () to define it\n",
    "\n",
    "type(person)"
   ]
  },
  {
   "cell_type": "code",
   "execution_count": 137,
   "metadata": {},
   "outputs": [
    {
     "data": {
      "text/plain": [
       "'Reuven'"
      ]
     },
     "execution_count": 137,
     "metadata": {},
     "output_type": "execute_result"
    }
   ],
   "source": [
    "person[0]"
   ]
  },
  {
   "cell_type": "code",
   "execution_count": 138,
   "metadata": {},
   "outputs": [
    {
     "data": {
      "text/plain": [
       "'Lerner'"
      ]
     },
     "execution_count": 138,
     "metadata": {},
     "output_type": "execute_result"
    }
   ],
   "source": [
    "person[1]"
   ]
  },
  {
   "cell_type": "code",
   "execution_count": 139,
   "metadata": {},
   "outputs": [
    {
     "data": {
      "text/plain": [
       "46"
      ]
     },
     "execution_count": 139,
     "metadata": {},
     "output_type": "execute_result"
    }
   ],
   "source": [
    "person[2]"
   ]
  },
  {
   "cell_type": "code",
   "execution_count": 140,
   "metadata": {},
   "outputs": [
    {
     "ename": "TypeError",
     "evalue": "'tuple' object does not support item assignment",
     "output_type": "error",
     "traceback": [
      "\u001b[0;31m---------------------------------------------------------------------------\u001b[0m",
      "\u001b[0;31mTypeError\u001b[0m                                 Traceback (most recent call last)",
      "Cell \u001b[0;32mIn[140], line 1\u001b[0m\n\u001b[0;32m----> 1\u001b[0m \u001b[43mperson\u001b[49m\u001b[43m[\u001b[49m\u001b[38;5;241;43m0\u001b[39;49m\u001b[43m]\u001b[49m \u001b[38;5;241m=\u001b[39m \u001b[38;5;124m'\u001b[39m\u001b[38;5;124masdfsafa\u001b[39m\u001b[38;5;124m'\u001b[39m  \u001b[38;5;66;03m# let's change the name\u001b[39;00m\n",
      "\u001b[0;31mTypeError\u001b[0m: 'tuple' object does not support item assignment"
     ]
    }
   ],
   "source": [
    "person[0] = 'asdfsafa'  # let's change the name"
   ]
  },
  {
   "cell_type": "code",
   "execution_count": 141,
   "metadata": {},
   "outputs": [
    {
     "data": {
      "text/plain": [
       "tuple"
      ]
     },
     "execution_count": 141,
     "metadata": {},
     "output_type": "execute_result"
    }
   ],
   "source": [
    "# let's define some tuples\n",
    "\n",
    "t = (10, 20, 30)\n",
    "type(t)"
   ]
  },
  {
   "cell_type": "code",
   "execution_count": 142,
   "metadata": {},
   "outputs": [
    {
     "data": {
      "text/plain": [
       "tuple"
      ]
     },
     "execution_count": 142,
     "metadata": {},
     "output_type": "execute_result"
    }
   ],
   "source": [
    "t = (10, 20)\n",
    "type(t)"
   ]
  },
  {
   "cell_type": "code",
   "execution_count": 143,
   "metadata": {},
   "outputs": [
    {
     "data": {
      "text/plain": [
       "int"
      ]
     },
     "execution_count": 143,
     "metadata": {},
     "output_type": "execute_result"
    }
   ],
   "source": [
    "t = (10)   # ***** THIS SEEMS WEIRD!!!  ******\n",
    "type(t)"
   ]
  },
  {
   "cell_type": "code",
   "execution_count": 144,
   "metadata": {},
   "outputs": [
    {
     "data": {
      "text/plain": [
       "tuple"
      ]
     },
     "execution_count": 144,
     "metadata": {},
     "output_type": "execute_result"
    }
   ],
   "source": [
    "t = ()\n",
    "type(t)"
   ]
  },
  {
   "cell_type": "code",
   "execution_count": 145,
   "metadata": {},
   "outputs": [
    {
     "data": {
      "text/plain": [
       "tuple"
      ]
     },
     "execution_count": 145,
     "metadata": {},
     "output_type": "execute_result"
    }
   ],
   "source": [
    "# because tuples are defined with (), Python might get confused when we use () for other things\n",
    "# to avoid the confusion, a one-element tuple must still have a ,\n",
    "\n",
    "t = (10,)\n",
    "type(t)"
   ]
  },
  {
   "cell_type": "code",
   "execution_count": 146,
   "metadata": {},
   "outputs": [
    {
     "data": {
      "text/plain": [
       "14"
      ]
     },
     "execution_count": 146,
     "metadata": {},
     "output_type": "execute_result"
    }
   ],
   "source": [
    "2 + 3 * 4    # Python knows to do the * first"
   ]
  },
  {
   "cell_type": "code",
   "execution_count": 147,
   "metadata": {},
   "outputs": [
    {
     "data": {
      "text/plain": [
       "20"
      ]
     },
     "execution_count": 147,
     "metadata": {},
     "output_type": "execute_result"
    }
   ],
   "source": [
    "(2 + 3) * 4   # do we want (2+3) to be interpreted as a tuple?"
   ]
  },
  {
   "cell_type": "code",
   "execution_count": 148,
   "metadata": {},
   "outputs": [
    {
     "data": {
      "text/plain": [
       "10"
      ]
     },
     "execution_count": 148,
     "metadata": {},
     "output_type": "execute_result"
    }
   ],
   "source": [
    "# what else can we do with tuples?\n",
    "\n",
    "t = (10, 20, 30, 40, 50, 60, 70, 80, 90, 100)\n",
    "\n",
    "t[0]"
   ]
  },
  {
   "cell_type": "code",
   "execution_count": 149,
   "metadata": {},
   "outputs": [
    {
     "data": {
      "text/plain": [
       "(30, 40, 50, 60, 70)"
      ]
     },
     "execution_count": 149,
     "metadata": {},
     "output_type": "execute_result"
    }
   ],
   "source": [
    "t[2:7]"
   ]
  },
  {
   "cell_type": "code",
   "execution_count": 150,
   "metadata": {},
   "outputs": [
    {
     "data": {
      "text/plain": [
       "True"
      ]
     },
     "execution_count": 150,
     "metadata": {},
     "output_type": "execute_result"
    }
   ],
   "source": [
    "40 in t"
   ]
  },
  {
   "cell_type": "code",
   "execution_count": 151,
   "metadata": {},
   "outputs": [
    {
     "name": "stdout",
     "output_type": "stream",
     "text": [
      "10\n",
      "20\n",
      "30\n",
      "40\n",
      "50\n",
      "60\n",
      "70\n",
      "80\n",
      "90\n",
      "100\n"
     ]
    }
   ],
   "source": [
    "for one_item in t:\n",
    "    print(one_item)"
   ]
  },
  {
   "cell_type": "markdown",
   "metadata": {},
   "source": [
    "# Who uses tuples? Why do we need them?\n",
    "\n",
    "Because tuples are immutable, they're much more efficient than lists.  Python uses tuples behind the scenes for passing arguments to functions. It uses tuples in a number of other places, too.\n",
    "\n",
    "Other languages use lists (or their equivalent), and seem OK. So the argument that we *must* have tuples doesn't convince me.\n",
    "\n",
    "You don't have to use tuples, but you do need to know what they are and how to work with them."
   ]
  },
  {
   "cell_type": "code",
   "execution_count": 152,
   "metadata": {},
   "outputs": [
    {
     "data": {
      "text/plain": [
       "tuple"
      ]
     },
     "execution_count": 152,
     "metadata": {},
     "output_type": "execute_result"
    }
   ],
   "source": [
    "# something else weird about defining tuples\n",
    "# you don't need the parentheses!\n",
    "\n",
    "t = 10, 20, 30, 40, 50\n",
    "\n",
    "type(t)"
   ]
  },
  {
   "cell_type": "code",
   "execution_count": 153,
   "metadata": {},
   "outputs": [
    {
     "data": {
      "text/plain": [
       "(10, 20, 30, 40, 50)"
      ]
     },
     "execution_count": 153,
     "metadata": {},
     "output_type": "execute_result"
    }
   ],
   "source": [
    "t"
   ]
  },
  {
   "cell_type": "code",
   "execution_count": 154,
   "metadata": {},
   "outputs": [
    {
     "data": {
      "text/plain": [
       "[10, 20, 30]"
      ]
     },
     "execution_count": 154,
     "metadata": {},
     "output_type": "execute_result"
    }
   ],
   "source": [
    "# what happens here?\n",
    "\n",
    "x = [10, 20, 30]\n",
    "\n",
    "x\n"
   ]
  },
  {
   "cell_type": "code",
   "execution_count": 159,
   "metadata": {},
   "outputs": [],
   "source": [
    "# what happens here?\n",
    "\n",
    "# a tuple of variables on the left\n",
    "# an iterable on the right\n",
    "\n",
    "# the three values on the right are assigned in parallel\n",
    "# to the three variables on the left\n",
    "\n",
    "x,y,z = [10, 20, 30]"
   ]
  },
  {
   "cell_type": "code",
   "execution_count": 156,
   "metadata": {},
   "outputs": [
    {
     "data": {
      "text/plain": [
       "10"
      ]
     },
     "execution_count": 156,
     "metadata": {},
     "output_type": "execute_result"
    }
   ],
   "source": [
    "x"
   ]
  },
  {
   "cell_type": "code",
   "execution_count": 157,
   "metadata": {},
   "outputs": [
    {
     "data": {
      "text/plain": [
       "20"
      ]
     },
     "execution_count": 157,
     "metadata": {},
     "output_type": "execute_result"
    }
   ],
   "source": [
    "y"
   ]
  },
  {
   "cell_type": "code",
   "execution_count": 158,
   "metadata": {},
   "outputs": [
    {
     "data": {
      "text/plain": [
       "30"
      ]
     },
     "execution_count": 158,
     "metadata": {},
     "output_type": "execute_result"
    }
   ],
   "source": [
    "z"
   ]
  },
  {
   "cell_type": "code",
   "execution_count": 160,
   "metadata": {},
   "outputs": [],
   "source": [
    "# This is known as tuple unpacking\n",
    "# it's very powerful and very common.\n",
    "\n",
    "x,y,z = 'abc'  # tuple unpacking works with any iterable on the right, and a tuple of variables on the left"
   ]
  },
  {
   "cell_type": "code",
   "execution_count": 161,
   "metadata": {},
   "outputs": [
    {
     "data": {
      "text/plain": [
       "'a'"
      ]
     },
     "execution_count": 161,
     "metadata": {},
     "output_type": "execute_result"
    }
   ],
   "source": [
    "x\n"
   ]
  },
  {
   "cell_type": "code",
   "execution_count": 162,
   "metadata": {},
   "outputs": [
    {
     "data": {
      "text/plain": [
       "'b'"
      ]
     },
     "execution_count": 162,
     "metadata": {},
     "output_type": "execute_result"
    }
   ],
   "source": [
    "y"
   ]
  },
  {
   "cell_type": "code",
   "execution_count": 163,
   "metadata": {},
   "outputs": [
    {
     "data": {
      "text/plain": [
       "'c'"
      ]
     },
     "execution_count": 163,
     "metadata": {},
     "output_type": "execute_result"
    }
   ],
   "source": [
    "z"
   ]
  },
  {
   "cell_type": "code",
   "execution_count": 164,
   "metadata": {},
   "outputs": [
    {
     "data": {
      "text/plain": [
       "(10, 20, 30)"
      ]
     },
     "execution_count": 164,
     "metadata": {},
     "output_type": "execute_result"
    }
   ],
   "source": [
    "10,20,30"
   ]
  },
  {
   "cell_type": "code",
   "execution_count": 165,
   "metadata": {},
   "outputs": [],
   "source": [
    "t = (10, 20, 30, 40)\n",
    "\n",
    "w,x,y,z = t"
   ]
  },
  {
   "cell_type": "code",
   "execution_count": 166,
   "metadata": {},
   "outputs": [
    {
     "data": {
      "text/plain": [
       "10"
      ]
     },
     "execution_count": 166,
     "metadata": {},
     "output_type": "execute_result"
    }
   ],
   "source": [
    "w"
   ]
  },
  {
   "cell_type": "code",
   "execution_count": 167,
   "metadata": {},
   "outputs": [
    {
     "data": {
      "text/plain": [
       "20"
      ]
     },
     "execution_count": 167,
     "metadata": {},
     "output_type": "execute_result"
    }
   ],
   "source": [
    "x"
   ]
  },
  {
   "cell_type": "code",
   "execution_count": 168,
   "metadata": {},
   "outputs": [
    {
     "data": {
      "text/plain": [
       "30"
      ]
     },
     "execution_count": 168,
     "metadata": {},
     "output_type": "execute_result"
    }
   ],
   "source": [
    "y"
   ]
  },
  {
   "cell_type": "code",
   "execution_count": 169,
   "metadata": {},
   "outputs": [
    {
     "data": {
      "text/plain": [
       "40"
      ]
     },
     "execution_count": 169,
     "metadata": {},
     "output_type": "execute_result"
    }
   ],
   "source": [
    "z"
   ]
  },
  {
   "cell_type": "code",
   "execution_count": 170,
   "metadata": {},
   "outputs": [
    {
     "ename": "ValueError",
     "evalue": "too many values to unpack (expected 3)",
     "output_type": "error",
     "traceback": [
      "\u001b[0;31m---------------------------------------------------------------------------\u001b[0m",
      "\u001b[0;31mValueError\u001b[0m                                Traceback (most recent call last)",
      "Cell \u001b[0;32mIn[170], line 1\u001b[0m\n\u001b[0;32m----> 1\u001b[0m x,y,z \u001b[38;5;241m=\u001b[39m t\n",
      "\u001b[0;31mValueError\u001b[0m: too many values to unpack (expected 3)"
     ]
    }
   ],
   "source": [
    "x,y,z = t"
   ]
  },
  {
   "cell_type": "code",
   "execution_count": 171,
   "metadata": {},
   "outputs": [
    {
     "ename": "ValueError",
     "evalue": "not enough values to unpack (expected 5, got 4)",
     "output_type": "error",
     "traceback": [
      "\u001b[0;31m---------------------------------------------------------------------------\u001b[0m",
      "\u001b[0;31mValueError\u001b[0m                                Traceback (most recent call last)",
      "Cell \u001b[0;32mIn[171], line 1\u001b[0m\n\u001b[0;32m----> 1\u001b[0m v,w,x,y,z \u001b[38;5;241m=\u001b[39m t\n",
      "\u001b[0;31mValueError\u001b[0m: not enough values to unpack (expected 5, got 4)"
     ]
    }
   ],
   "source": [
    "v,w,x,y,z = t"
   ]
  },
  {
   "cell_type": "code",
   "execution_count": 172,
   "metadata": {},
   "outputs": [
    {
     "data": {
      "text/plain": [
       "200"
      ]
     },
     "execution_count": 172,
     "metadata": {},
     "output_type": "execute_result"
    }
   ],
   "source": [
    "# people love to show off this functionality\n",
    "\n",
    "x = 100\n",
    "y = 200\n",
    "\n",
    "# how can I swap these two variables?\n",
    "\n",
    "y,x = x,y  # here, I use tuple unpacking to swap the variable values\n",
    "\n",
    "x"
   ]
  },
  {
   "cell_type": "code",
   "execution_count": 173,
   "metadata": {},
   "outputs": [
    {
     "data": {
      "text/plain": [
       "100"
      ]
     },
     "execution_count": 173,
     "metadata": {},
     "output_type": "execute_result"
    }
   ],
   "source": [
    "y"
   ]
  },
  {
   "cell_type": "code",
   "execution_count": 174,
   "metadata": {},
   "outputs": [],
   "source": [
    "# here, the iterable is the tuple ('ab', 'cd')\n",
    "x,y = 'ab','cd'"
   ]
  },
  {
   "cell_type": "code",
   "execution_count": 175,
   "metadata": {},
   "outputs": [
    {
     "data": {
      "text/plain": [
       "'ab'"
      ]
     },
     "execution_count": 175,
     "metadata": {},
     "output_type": "execute_result"
    }
   ],
   "source": [
    "x"
   ]
  },
  {
   "cell_type": "code",
   "execution_count": 176,
   "metadata": {},
   "outputs": [
    {
     "data": {
      "text/plain": [
       "'cd'"
      ]
     },
     "execution_count": 176,
     "metadata": {},
     "output_type": "execute_result"
    }
   ],
   "source": [
    "y"
   ]
  },
  {
   "cell_type": "code",
   "execution_count": 177,
   "metadata": {},
   "outputs": [],
   "source": [
    "# here, the iterable is the string 'ab'\n",
    "x,y = 'ab'"
   ]
  },
  {
   "cell_type": "code",
   "execution_count": 178,
   "metadata": {},
   "outputs": [],
   "source": [
    "x,y,z = 'abc'"
   ]
  },
  {
   "cell_type": "code",
   "execution_count": 179,
   "metadata": {},
   "outputs": [
    {
     "data": {
      "text/plain": [
       "'a'"
      ]
     },
     "execution_count": 179,
     "metadata": {},
     "output_type": "execute_result"
    }
   ],
   "source": [
    "x"
   ]
  },
  {
   "cell_type": "code",
   "execution_count": 180,
   "metadata": {},
   "outputs": [
    {
     "data": {
      "text/plain": [
       "'b'"
      ]
     },
     "execution_count": 180,
     "metadata": {},
     "output_type": "execute_result"
    }
   ],
   "source": [
    "y"
   ]
  },
  {
   "cell_type": "code",
   "execution_count": 181,
   "metadata": {},
   "outputs": [
    {
     "data": {
      "text/plain": [
       "'c'"
      ]
     },
     "execution_count": 181,
     "metadata": {},
     "output_type": "execute_result"
    }
   ],
   "source": [
    "z"
   ]
  },
  {
   "cell_type": "code",
   "execution_count": 183,
   "metadata": {},
   "outputs": [
    {
     "data": {
      "text/plain": [
       "(100, 200)"
      ]
     },
     "execution_count": 183,
     "metadata": {},
     "output_type": "execute_result"
    }
   ],
   "source": [
    "x = 100\n",
    "y = 200\n",
    "\n",
    "y,x = x,y   # this creates a new tuple"
   ]
  },
  {
   "cell_type": "code",
   "execution_count": 185,
   "metadata": {},
   "outputs": [
    {
     "ename": "ValueError",
     "evalue": "not enough values to unpack (expected 3, got 2)",
     "output_type": "error",
     "traceback": [
      "\u001b[0;31m---------------------------------------------------------------------------\u001b[0m",
      "\u001b[0;31mValueError\u001b[0m                                Traceback (most recent call last)",
      "Cell \u001b[0;32mIn[185], line 1\u001b[0m\n\u001b[0;32m----> 1\u001b[0m x,y,z \u001b[38;5;241m=\u001b[39m \u001b[38;5;124m'\u001b[39m\u001b[38;5;124mab\u001b[39m\u001b[38;5;124m'\u001b[39m, \u001b[38;5;124m'\u001b[39m\u001b[38;5;124mc\u001b[39m\u001b[38;5;124m'\u001b[39m\n",
      "\u001b[0;31mValueError\u001b[0m: not enough values to unpack (expected 3, got 2)"
     ]
    }
   ],
   "source": [
    "# we have three variables on the left\n",
    "# we have a tuple of two elements on the right ('ab', 'c')\n",
    "\n",
    "x,y,z = 'ab', 'c'"
   ]
  },
  {
   "cell_type": "code",
   "execution_count": 186,
   "metadata": {},
   "outputs": [
    {
     "name": "stdout",
     "output_type": "stream",
     "text": [
      "0: a\n",
      "1: b\n",
      "2: c\n",
      "3: d\n"
     ]
    }
   ],
   "source": [
    "# if we want to get the index + the element when iterating, we can use enumerate\n",
    "\n",
    "for index, one_item in enumerate('abcd'):\n",
    "    print(f'{index}: {one_item}')"
   ]
  },
  {
   "cell_type": "code",
   "execution_count": 188,
   "metadata": {},
   "outputs": [
    {
     "name": "stdout",
     "output_type": "stream",
     "text": [
      "(0, 'a')\n",
      "(1, 'b')\n",
      "(2, 'c')\n",
      "(3, 'd')\n"
     ]
    }
   ],
   "source": [
    "# what's really going on here?\n",
    "# what if we iterate over enumerate('abcd'), but we only use one loop variable?\n",
    "\n",
    "for one_item in enumerate('abcd'):   # enumerate gives us a 2-element tuple with each iteration\n",
    "    print(one_item)"
   ]
  },
  {
   "cell_type": "code",
   "execution_count": 189,
   "metadata": {},
   "outputs": [
    {
     "name": "stdout",
     "output_type": "stream",
     "text": [
      "0: a\n",
      "1: b\n",
      "2: c\n",
      "3: d\n"
     ]
    }
   ],
   "source": [
    "for t in enumerate('abcd'):\n",
    "    index, one_letter = t    # t has 2 elements, so we can use unpacking to assign\n",
    "    print(f'{index}: {one_letter}')"
   ]
  },
  {
   "cell_type": "code",
   "execution_count": 190,
   "metadata": {},
   "outputs": [
    {
     "name": "stdout",
     "output_type": "stream",
     "text": [
      "0: a\n",
      "1: b\n",
      "2: c\n",
      "3: d\n"
     ]
    }
   ],
   "source": [
    "# this is where Python gives us a nice shortcut\n",
    "\n",
    "for index, one_letter in enumerate('abcd'):   # here, it auto-unpacks the tuple for us into our variables\n",
    "    print(f'{index}: {one_letter}')"
   ]
  },
  {
   "cell_type": "markdown",
   "metadata": {},
   "source": [
    "# Next week:\n",
    "\n",
    "1. Dictionaries\n",
    "2. Read from (and a little bit of writing to) text files"
   ]
  },
  {
   "cell_type": "code",
   "execution_count": null,
   "metadata": {},
   "outputs": [],
   "source": []
  }
 ],
 "metadata": {
  "kernelspec": {
   "display_name": "Python 3 (ipykernel)",
   "language": "python",
   "name": "python3"
  },
  "language_info": {
   "codemirror_mode": {
    "name": "ipython",
    "version": 3
   },
   "file_extension": ".py",
   "mimetype": "text/x-python",
   "name": "python",
   "nbconvert_exporter": "python",
   "pygments_lexer": "ipython3",
   "version": "3.12.5"
  }
 },
 "nbformat": 4,
 "nbformat_minor": 4
}
