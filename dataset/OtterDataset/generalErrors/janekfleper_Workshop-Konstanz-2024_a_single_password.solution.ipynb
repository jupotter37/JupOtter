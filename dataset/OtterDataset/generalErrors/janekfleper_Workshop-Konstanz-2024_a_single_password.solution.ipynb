{
 "cells": [
  {
   "cell_type": "markdown",
   "id": "6fd0d862-7b60-4c1b-83ad-c9b617a315e0",
   "metadata": {
    "editable": false,
    "slideshow": {
     "slide_type": ""
    },
    "tags": [
     "exercise"
    ]
   },
   "source": [
    "## 1.1 A single password\n",
    "Choose a password that consists of regular letters, numbers and a few special characters (anything you can find on your keyboard). The password will be a variable of type `string` which is indicated by either double quotes or single quotes:\n",
    "```python\n",
    "password = \"duck137][(!\"\n",
    "password = 'duck137][(!'\n",
    "```\n",
    "If the assignment is valid, the syntax highlighting will show the variable name in black (white if you are using the dark mode) and the string (including the quotes) in red.\n",
    "\n",
    "Create a new cell for each task using the mouse icons or the keyboard shortcuts. There should be at least three new cells in this section once you're done. You can minimize the output and/or the input of cells if you don't want to scroll back to the exercise every time, please just don't delete the cells!\n",
    "\n",
    "1. Assign a string of your choice to the variable `password`.\n",
    "2. Print the password by passing it to the built-in function `print(password)`. Your password string should now appear below the cell.\n",
    "3. Instead of using the `print()` function, just write `password` in a cell and execute it. Can you spot the difference in the output compared to the `print()` function?"
   ]
  },
  {
   "cell_type": "code",
   "execution_count": 1,
   "id": "8f023011-90fe-43f6-8ae7-0aead3fc7ea1",
   "metadata": {
    "editable": true,
    "slideshow": {
     "slide_type": ""
    },
    "tags": []
   },
   "outputs": [],
   "source": [
    "# task 1\n",
    "password = \"duck137][(!\""
   ]
  },
  {
   "cell_type": "code",
   "execution_count": 2,
   "id": "d05d9145-a305-42d5-acfd-f84440dd1efc",
   "metadata": {
    "editable": true,
    "slideshow": {
     "slide_type": ""
    },
    "tags": []
   },
   "outputs": [
    {
     "name": "stdout",
     "output_type": "stream",
     "text": [
      "duck137][(!\n"
     ]
    }
   ],
   "source": [
    "# task 2\n",
    "print(password)"
   ]
  },
  {
   "cell_type": "code",
   "execution_count": 3,
   "id": "0675a67e-9e21-4e64-9947-abda64dc67b0",
   "metadata": {
    "editable": true,
    "slideshow": {
     "slide_type": ""
    },
    "tags": []
   },
   "outputs": [
    {
     "data": {
      "text/plain": [
       "'duck137][(!'"
      ]
     },
     "execution_count": 3,
     "metadata": {},
     "output_type": "execute_result"
    }
   ],
   "source": [
    "# task 3: the quotes are displayed to indicate the type of the variable\n",
    "password"
   ]
  },
  {
   "cell_type": "code",
   "execution_count": null,
   "id": "1e70ffa0-7408-446d-8ea4-160f4c110745",
   "metadata": {
    "editable": true,
    "slideshow": {
     "slide_type": ""
    },
    "tags": []
   },
   "outputs": [],
   "source": []
  },
  {
   "cell_type": "markdown",
   "id": "707aab01-ab63-4191-9764-52f685157539",
   "metadata": {
    "editable": false,
    "slideshow": {
     "slide_type": ""
    },
    "tags": [
     "exercise"
    ]
   },
   "source": [
    "## 1.2 Character indexing\n",
    "To analyze the password you need to access the individual characters in the string. You can do this specifying an _index_ in square brackets. E.g. `password[1]` will return the character `\"u\"` for the example password from [exercise 1.1](#1.1-A-single-password). The index in the square brackets must be an `integer`. Besides individual characters, you can also select/slice multiple characters by specifying an index range. The expression `password[start:stop]` will return the characters in the password from the `start` to the `stop`.\n",
    "\n",
    "1. Try to understand how the indexing of the password string works to access the individual characters. Which index returns the first/last character?\n",
    "2. What is the smallest/greatest allowed value for the index? You can brute force this search by increasing/decreasing the index until you get an `IndexError`.\n",
    "3. How does the string slicing work with an index range? Try to find values for `start` and `stop` that return the entire password.\n",
    "4. What values are required for `start` and `stop` to return a single character at any position `i` in the string?\n",
    "5. Can you find an index range `start:stop` to raise an `IndexError`? What happens in the cases where you would expect an `IndexError` to be raised?"
   ]
  },
  {
   "cell_type": "code",
   "execution_count": 4,
   "id": "6a9f6498-a241-423a-b786-08433ba90a20",
   "metadata": {
    "editable": true,
    "slideshow": {
     "slide_type": ""
    },
    "tags": []
   },
   "outputs": [
    {
     "data": {
      "text/plain": [
       "'duck137][(!'"
      ]
     },
     "execution_count": 4,
     "metadata": {},
     "output_type": "execute_result"
    }
   ],
   "source": [
    "# output the password for reference\n",
    "password"
   ]
  },
  {
   "cell_type": "code",
   "execution_count": 5,
   "id": "1a51aecb-ee95-4355-b7df-e5e7f386beae",
   "metadata": {
    "editable": true,
    "slideshow": {
     "slide_type": ""
    },
    "tags": []
   },
   "outputs": [
    {
     "data": {
      "text/plain": [
       "('d', '!')"
      ]
     },
     "execution_count": 5,
     "metadata": {},
     "output_type": "execute_result"
    }
   ],
   "source": [
    "# task 1: the indexing starts at 0\n",
    "password[0], password[10]"
   ]
  },
  {
   "cell_type": "code",
   "execution_count": 6,
   "id": "73018295-c49a-4e1c-934a-35d7fe985884",
   "metadata": {
    "editable": true,
    "slideshow": {
     "slide_type": ""
    },
    "tags": []
   },
   "outputs": [
    {
     "ename": "IndexError",
     "evalue": "string index out of range",
     "output_type": "error",
     "traceback": [
      "\u001b[0;31m---------------------------------------------------------------------------\u001b[0m",
      "\u001b[0;31mIndexError\u001b[0m                                Traceback (most recent call last)",
      "Cell \u001b[0;32mIn[6], line 2\u001b[0m\n\u001b[1;32m      1\u001b[0m \u001b[38;5;66;03m# task 2: the greatest allowed index value is len(password) - 1\u001b[39;00m\n\u001b[0;32m----> 2\u001b[0m \u001b[43mpassword\u001b[49m\u001b[43m[\u001b[49m\u001b[38;5;241;43m11\u001b[39;49m\u001b[43m]\u001b[49m\n",
      "\u001b[0;31mIndexError\u001b[0m: string index out of range"
     ]
    }
   ],
   "source": [
    "# task 2: the greatest allowed index value is len(password) - 1\n",
    "password[11]"
   ]
  },
  {
   "cell_type": "code",
   "execution_count": 7,
   "id": "70908dd5-0c86-472e-a5fa-1ccab1e4f42e",
   "metadata": {
    "editable": true,
    "slideshow": {
     "slide_type": ""
    },
    "tags": []
   },
   "outputs": [
    {
     "ename": "IndexError",
     "evalue": "string index out of range",
     "output_type": "error",
     "traceback": [
      "\u001b[0;31m---------------------------------------------------------------------------\u001b[0m",
      "\u001b[0;31mIndexError\u001b[0m                                Traceback (most recent call last)",
      "Cell \u001b[0;32mIn[7], line 2\u001b[0m\n\u001b[1;32m      1\u001b[0m \u001b[38;5;66;03m# task 2: the index can also count from the back of the string until the index -len(password)\u001b[39;00m\n\u001b[0;32m----> 2\u001b[0m \u001b[43mpassword\u001b[49m\u001b[43m[\u001b[49m\u001b[38;5;241;43m-\u001b[39;49m\u001b[38;5;241;43m12\u001b[39;49m\u001b[43m]\u001b[49m\n",
      "\u001b[0;31mIndexError\u001b[0m: string index out of range"
     ]
    }
   ],
   "source": [
    "# task 2: the index can also count from the back of the string until the index -len(password)\n",
    "password[-12]"
   ]
  },
  {
   "cell_type": "code",
   "execution_count": 8,
   "id": "19f5b37b-e769-4fc0-a31d-49ba6caeb8f6",
   "metadata": {
    "editable": true,
    "slideshow": {
     "slide_type": ""
    },
    "tags": []
   },
   "outputs": [
    {
     "data": {
      "text/plain": [
       "('duck137][(!', 'duck137][(!')"
      ]
     },
     "execution_count": 8,
     "metadata": {},
     "output_type": "execute_result"
    }
   ],
   "source": [
    "# task 3: the slice [start:stop] includes the start index but not the stop index\n",
    "# omitting the 'stop' will make the index range stop at the end of the string\n",
    "# you can also omit the 'start', which is equivalent to starting at 0\n",
    "password[0:], password[:]"
   ]
  },
  {
   "cell_type": "code",
   "execution_count": 9,
   "id": "2ed8741a-1b22-4748-afeb-353f09ef09df",
   "metadata": {
    "editable": true,
    "slideshow": {
     "slide_type": ""
    },
    "tags": []
   },
   "outputs": [
    {
     "data": {
      "text/plain": [
       "'k'"
      ]
     },
     "execution_count": 9,
     "metadata": {},
     "output_type": "execute_result"
    }
   ],
   "source": [
    "# task 4: the 'stop' position is not included in the range [start, stop)\n",
    "password[3:4]"
   ]
  },
  {
   "cell_type": "code",
   "execution_count": 10,
   "id": "46f63ddb-d1b9-4c30-860e-428ef54e7c34",
   "metadata": {
    "editable": true,
    "slideshow": {
     "slide_type": ""
    },
    "tags": []
   },
   "outputs": [
    {
     "data": {
      "text/plain": [
       "''"
      ]
     },
     "execution_count": 10,
     "metadata": {},
     "output_type": "execute_result"
    }
   ],
   "source": [
    "# task 5: the returned string is empty\n",
    "password[20:30]"
   ]
  },
  {
   "cell_type": "code",
   "execution_count": null,
   "id": "3c3ebeeb-6309-405e-b370-e77c2f259609",
   "metadata": {
    "editable": true,
    "slideshow": {
     "slide_type": ""
    },
    "tags": []
   },
   "outputs": [],
   "source": []
  },
  {
   "cell_type": "markdown",
   "id": "f4faee9c-2237-4a36-9345-9e8e3b8bdb42",
   "metadata": {
    "editable": false,
    "slideshow": {
     "slide_type": ""
    },
    "tags": [
     "exercise"
    ]
   },
   "source": [
    "## 1.3 Index iteration\n",
    "In the [previous exercise 1.2](#1.2-Character-indexing) you learned how to get specific characters from the password. To iterate over all characters you need all valid indices from the first to the last character in the password. Instead of manually writing the indices into a list you can generate them based on the length of the password. The built-in function `len()` will return the number of characters in the password, and the built-in function `range()` will then return the individual indices to cover that range. You can then iterate over the range with a `for` loop, see the following code snippet to print the characters in the password one by one:\n",
    "```python\n",
    "for i in range(len(password)):\n",
    "    print(password[i])\n",
    "```\n",
    "The code in the for-loop must be indented by four spaces. You can also use the tab key since it will be automatically replaced by four spaces in a Jupyter Notebook. This should be true for any development environment that is correctly configured for Python.\n",
    "\n",
    "1. Try to understand the individual keywords in the for-loop. Which variable can you rename in the cell without raising an error or changing the output?\n",
    "2. Look at the error messages when you omit the colon at the end of the first line or the indent in the second line. Try to remember these errors, they will probably happen regularly as you are learning to write Python code.\n",
    "3. What happens if you print/output the `range()`? Can you get the values from the range with the indexing/slicing from the [previous exercise 1.2](#1.2-Character-indexing)? Try a single index and an index range."
   ]
  },
  {
   "cell_type": "code",
   "execution_count": 11,
   "id": "7856a052-959d-4706-af04-ccc2151987c2",
   "metadata": {
    "editable": true,
    "slideshow": {
     "slide_type": ""
    },
    "tags": []
   },
   "outputs": [
    {
     "name": "stdout",
     "output_type": "stream",
     "text": [
      "d\n",
      "u\n",
      "c\n",
      "k\n",
      "1\n",
      "3\n",
      "7\n",
      "]\n",
      "[\n",
      "(\n",
      "!\n"
     ]
    }
   ],
   "source": [
    "# task 1: you can rename the loop variable 'i' to e.g. 'index'\n",
    "for index in range(len(password)):\n",
    "    print(password[index])"
   ]
  },
  {
   "cell_type": "code",
   "execution_count": 12,
   "id": "f4bcb0cc-0f20-4421-be51-8a54df218daf",
   "metadata": {
    "editable": true,
    "slideshow": {
     "slide_type": ""
    },
    "tags": []
   },
   "outputs": [
    {
     "ename": "SyntaxError",
     "evalue": "expected ':' (3665629908.py, line 2)",
     "output_type": "error",
     "traceback": [
      "\u001b[0;36m  Cell \u001b[0;32mIn[12], line 2\u001b[0;36m\u001b[0m\n\u001b[0;31m    for i in range(len(password))\u001b[0m\n\u001b[0m                                 ^\u001b[0m\n\u001b[0;31mSyntaxError\u001b[0m\u001b[0;31m:\u001b[0m expected ':'\n"
     ]
    }
   ],
   "source": [
    "# task 2: the colon is required to mark a for-loop\n",
    "for i in range(len(password))\n",
    "    print(password[index])"
   ]
  },
  {
   "cell_type": "code",
   "execution_count": 13,
   "id": "344c92d6-8725-493d-87e6-6dceb80889de",
   "metadata": {
    "editable": true,
    "slideshow": {
     "slide_type": ""
    },
    "tags": []
   },
   "outputs": [
    {
     "ename": "IndentationError",
     "evalue": "expected an indented block after 'for' statement on line 2 (1651973071.py, line 3)",
     "output_type": "error",
     "traceback": [
      "\u001b[0;36m  Cell \u001b[0;32mIn[13], line 3\u001b[0;36m\u001b[0m\n\u001b[0;31m    print(password[index])\u001b[0m\n\u001b[0m    ^\u001b[0m\n\u001b[0;31mIndentationError\u001b[0m\u001b[0;31m:\u001b[0m expected an indented block after 'for' statement on line 2\n"
     ]
    }
   ],
   "source": [
    "# task 2: at least one line must be indented in a for-loop\n",
    "for i in range(len(password)):\n",
    "print(password[index])"
   ]
  },
  {
   "cell_type": "code",
   "execution_count": 14,
   "id": "98230307-8f3b-410b-9ed6-6c9cb77937ea",
   "metadata": {
    "editable": true,
    "slideshow": {
     "slide_type": ""
    },
    "tags": []
   },
   "outputs": [
    {
     "name": "stdout",
     "output_type": "stream",
     "text": [
      "range(0, 11)\n"
     ]
    }
   ],
   "source": [
    "# task 3: the numbers are not printed, instead the range is printed with the start and stop\n",
    "print(range(len(password)))"
   ]
  },
  {
   "cell_type": "code",
   "execution_count": 15,
   "id": "2c5dd2ac-13c5-45bf-b220-3e241404c106",
   "metadata": {
    "editable": true,
    "slideshow": {
     "slide_type": ""
    },
    "tags": []
   },
   "outputs": [
    {
     "data": {
      "text/plain": [
       "range(0, 11)"
      ]
     },
     "execution_count": 15,
     "metadata": {},
     "output_type": "execute_result"
    }
   ],
   "source": [
    "# task 3: without print the output looks just the same\n",
    "range(len(password))"
   ]
  },
  {
   "cell_type": "code",
   "execution_count": 16,
   "id": "02bff8ca-254c-41cd-8bb1-2c69f58f8ff8",
   "metadata": {
    "editable": true,
    "slideshow": {
     "slide_type": ""
    },
    "tags": []
   },
   "outputs": [
    {
     "data": {
      "text/plain": [
       "3"
      ]
     },
     "execution_count": 16,
     "metadata": {},
     "output_type": "execute_result"
    }
   ],
   "source": [
    "# task 3: with a single index the corresponding number from the range is returned\n",
    "range(len(password))[3]"
   ]
  },
  {
   "cell_type": "code",
   "execution_count": 17,
   "id": "a72a94e7-7f77-470e-83b2-2d61f863c7eb",
   "metadata": {
    "editable": true,
    "slideshow": {
     "slide_type": ""
    },
    "tags": []
   },
   "outputs": [
    {
     "data": {
      "text/plain": [
       "range(5, 9)"
      ]
     },
     "execution_count": 17,
     "metadata": {},
     "output_type": "execute_result"
    }
   ],
   "source": [
    "# task 3: with an index range a reduced range object is returned\n",
    "range(len(password))[5:9]"
   ]
  },
  {
   "cell_type": "code",
   "execution_count": null,
   "id": "73e2fa39-c26c-41ad-8737-d48b408b2aab",
   "metadata": {
    "editable": true,
    "slideshow": {
     "slide_type": ""
    },
    "tags": []
   },
   "outputs": [],
   "source": []
  },
  {
   "cell_type": "markdown",
   "id": "4184350a-698d-4e60-af63-f415f1c4be3e",
   "metadata": {
    "editable": false,
    "slideshow": {
     "slide_type": ""
    },
    "tags": [
     "exercise"
    ]
   },
   "source": [
    "## 1.4 Direct iteration\n",
    "Instead of using an index to select the characters, you can also directly iterate over the password. The following `for` loop will return/store the characters one by one in the loop variable `character`:\n",
    "```python\n",
    "for character in password:\n",
    "    print(character)\n",
    "```\n",
    "You can use a combination of the index iteration and the direct iteration with the built-in function `enumerate()`. This will return the index and the corresponding character for each step in the `for` loop:\n",
    "```python\n",
    "for i, character in enumerate(password):\n",
    "    print(i, character)\n",
    "```\n",
    "Which loop variant is the most suitable for a task is something that you will learn over time. For now, just try to get used to the syntax of the different loop variants.\n",
    "\n",
    "1. Try the new loop variants introduced in this exercise. Which variables can you rename without changing the output or raising an error?\n",
    "2. Use a single loop variable with `enumerate()` and print it in the for-loop. How can you access the index and character in the loop variable?"
   ]
  },
  {
   "cell_type": "code",
   "execution_count": 18,
   "id": "0273f8b4-ee32-49e6-aa1d-9defdd8fb2ea",
   "metadata": {
    "editable": true,
    "slideshow": {
     "slide_type": ""
    },
    "tags": []
   },
   "outputs": [
    {
     "name": "stdout",
     "output_type": "stream",
     "text": [
      "d\n",
      "u\n",
      "c\n",
      "k\n",
      "1\n",
      "3\n",
      "7\n",
      "]\n",
      "[\n",
      "(\n",
      "!\n"
     ]
    }
   ],
   "source": [
    "# task 1: you can rename the loop variable, just like for the index-based loop\n",
    "for char in password:\n",
    "    print(char)"
   ]
  },
  {
   "cell_type": "code",
   "execution_count": 19,
   "id": "23953198-dc97-421e-b27d-0ef33f1e9e09",
   "metadata": {
    "editable": true,
    "slideshow": {
     "slide_type": ""
    },
    "tags": []
   },
   "outputs": [
    {
     "name": "stdout",
     "output_type": "stream",
     "text": [
      "0 d\n",
      "1 u\n",
      "2 c\n",
      "3 k\n",
      "4 1\n",
      "5 3\n",
      "6 7\n",
      "7 ]\n",
      "8 [\n",
      "9 (\n",
      "10 !\n"
     ]
    }
   ],
   "source": [
    "# task 1: you can rename the index variable and the character variable\n",
    "for index, c in enumerate(password):\n",
    "    print(index, c)"
   ]
  },
  {
   "cell_type": "code",
   "execution_count": 20,
   "id": "00b41eb7-7baf-49b6-b38e-58c724a3c2a6",
   "metadata": {
    "editable": true,
    "slideshow": {
     "slide_type": ""
    },
    "tags": []
   },
   "outputs": [
    {
     "name": "stdout",
     "output_type": "stream",
     "text": [
      "(0, 'd')\n",
      "(1, 'u')\n",
      "(2, 'c')\n",
      "(3, 'k')\n",
      "(4, '1')\n",
      "(5, '3')\n",
      "(6, '7')\n",
      "(7, ']')\n",
      "(8, '[')\n",
      "(9, '(')\n",
      "(10, '!')\n"
     ]
    }
   ],
   "source": [
    "# task 2: the two variables will be wrapped in a tuple (indicated by the parentheses)\n",
    "for v in enumerate(password):\n",
    "    print(v)"
   ]
  },
  {
   "cell_type": "code",
   "execution_count": 21,
   "id": "089e5603-9189-43d5-a881-a351d1bcbc93",
   "metadata": {
    "editable": true,
    "slideshow": {
     "slide_type": ""
    },
    "tags": []
   },
   "outputs": [
    {
     "name": "stdout",
     "output_type": "stream",
     "text": [
      "0 d\n",
      "1 u\n",
      "2 c\n",
      "3 k\n",
      "4 1\n",
      "5 3\n",
      "6 7\n",
      "7 ]\n",
      "8 [\n",
      "9 (\n",
      "10 !\n"
     ]
    }
   ],
   "source": [
    "# task 2: you can index the tuple just like a string/list\n",
    "for v in enumerate(password):\n",
    "    print(v[0], v[1])"
   ]
  },
  {
   "cell_type": "code",
   "execution_count": null,
   "id": "37ea72eb-df38-4511-a517-81cd972a079c",
   "metadata": {
    "editable": true,
    "slideshow": {
     "slide_type": ""
    },
    "tags": []
   },
   "outputs": [],
   "source": []
  },
  {
   "cell_type": "markdown",
   "id": "1aa12b9e-f131-4306-8054-2b5dccd31797",
   "metadata": {
    "editable": false,
    "slideshow": {
     "slide_type": ""
    },
    "tags": [
     "exercise"
    ]
   },
   "source": [
    "## 1.5 Categorizing the characters\n",
    "You will now iterate over the password characters to sort them into lists of alphabetic characters and numeric characters. Regarding the indexing and slicing, lists work just like strings. However, lists can store values of any type, even other lists, whereas strings can only contain characters. You can create lists with square brackets where the values are separated by commas, e.g. `[1, 2, \"a\"]`. With just the square brackets `[]` you can create an empty list.    \n",
    "\n",
    "To check if a character is alphabetic or numeric, you can use the string methods `isalpha()` and `isnumeric()`. Calling `character.isalpha()` will return a boolean (`True` or `False`). You can use this in an `if` statement to decide if the `character` should be appended to the `alphabetic` list:\n",
    "```python\n",
    "if character.isalpha():\n",
    "    alphabetic.append(character)\n",
    "```\n",
    "Just like the for-loop, the `if` statement also requires a colon `:` at the end of the line and the code inside the `if` statement is indented by four spaces.\n",
    "\n",
    "1. Try the string methods `isalpha()` and `isnumeric()` with a few different strings. You can either change your password variable or use new strings.\n",
    "2. Create two empty lists to store the alphabetic characters and numeric characters respectively.\n",
    "3. Iterate over the password characters with a `for` loop of your choice and use two `if` statements inside the loop to append the alphabetic characters and numeric characters to separate lists. Be careful with the leading spaces since the `if` statements will already be indentend by four spaces inside the `for` loop.\n",
    "4. Compare the values in the two lists to your password. Which characters are (expectedly) missing from the lists? Try this with a few different passwords that contain alphabetic, numeric and special characters.\n",
    "5. Count the alphabetic characters and numeric characters by passing the respective lists to the `len()` function. Compute the number of missing characters using the length of the password."
   ]
  },
  {
   "cell_type": "code",
   "execution_count": 22,
   "id": "9ec53f28-f8c7-43d8-a335-2141fc4a976a",
   "metadata": {
    "editable": true,
    "slideshow": {
     "slide_type": ""
    },
    "tags": []
   },
   "outputs": [
    {
     "data": {
      "text/plain": [
       "(True, True, False)"
      ]
     },
     "execution_count": 22,
     "metadata": {},
     "output_type": "execute_result"
    }
   ],
   "source": [
    "# task 1: the methods will only return True if the entire string is alphabetic/numeric\n",
    "\"abc\".isalpha(), \"123\".isnumeric(), \"123abc\".isalpha()"
   ]
  },
  {
   "cell_type": "code",
   "execution_count": 23,
   "id": "31a2a24a-655e-40c8-90ba-789c20b67a23",
   "metadata": {
    "editable": true,
    "slideshow": {
     "slide_type": ""
    },
    "tags": []
   },
   "outputs": [],
   "source": [
    "# task 2 + 3\n",
    "password = \"abcd!!123\"\n",
    "\n",
    "# create empty lists for the two categories\n",
    "alphabetic = []\n",
    "numeric = []\n",
    "\n",
    "# sort the characters into the lists\n",
    "for char in password:\n",
    "    if char.isalpha():\n",
    "        alphabetic.append(char)\n",
    "    if char.isnumeric():\n",
    "        numeric.append(char)"
   ]
  },
  {
   "cell_type": "code",
   "execution_count": 24,
   "id": "435927a1-c1c9-4180-b53b-ed87b20843a4",
   "metadata": {
    "editable": true,
    "slideshow": {
     "slide_type": ""
    },
    "tags": []
   },
   "outputs": [
    {
     "data": {
      "text/plain": [
       "('abcd!!123', ['a', 'b', 'c', 'd'], ['1', '2', '3'])"
      ]
     },
     "execution_count": 24,
     "metadata": {},
     "output_type": "execute_result"
    }
   ],
   "source": [
    "# task 4: the special characters are missing from the lists since they are neither alphabetic nor numeric\n",
    "password, alphabetic, numeric"
   ]
  },
  {
   "cell_type": "code",
   "execution_count": 25,
   "id": "eada0512-0dec-428c-9410-c6840b2390e1",
   "metadata": {
    "editable": true,
    "slideshow": {
     "slide_type": ""
    },
    "tags": []
   },
   "outputs": [
    {
     "data": {
      "text/plain": [
       "(4, 3)"
      ]
     },
     "execution_count": 25,
     "metadata": {},
     "output_type": "execute_result"
    }
   ],
   "source": [
    "# task 5\n",
    "len(alphabetic), len(numeric)"
   ]
  },
  {
   "cell_type": "code",
   "execution_count": 26,
   "id": "17a5ba94-47be-427e-b909-cd4b45393255",
   "metadata": {
    "editable": true,
    "slideshow": {
     "slide_type": ""
    },
    "tags": []
   },
   "outputs": [
    {
     "data": {
      "text/plain": [
       "2"
      ]
     },
     "execution_count": 26,
     "metadata": {},
     "output_type": "execute_result"
    }
   ],
   "source": [
    "# task 5: the difference in lengths has to match the number of special characters\n",
    "len(password) - len(alphabetic) - len(numeric)"
   ]
  },
  {
   "cell_type": "code",
   "execution_count": null,
   "id": "a6eee41c-18db-476b-a951-686cb3025876",
   "metadata": {
    "editable": true,
    "slideshow": {
     "slide_type": ""
    },
    "tags": []
   },
   "outputs": [],
   "source": []
  },
  {
   "cell_type": "markdown",
   "id": "8e4273d5-b9b9-4986-a618-f63cc8504a15",
   "metadata": {
    "editable": false,
    "slideshow": {
     "slide_type": ""
    },
    "tags": [
     "exercise"
    ]
   },
   "source": [
    "## 1.6 Writing a password policy\n",
    "If you sign up somewhere, your password might be rejected because it does not meet some requirements of the password policy. Typical requirements can be:\n",
    "1. The length of the password must be at least 8 characters\n",
    "2. The password must contain at least one alphabetic character\n",
    "3. The password must contain at least one numeric character\n",
    "\n",
    "If any of the requirements are not fulfilled, you will be told to pick a different (and more secure) password. In order to know the changes you have to make to the password, the failed requirements have to be returned to you. E.g. if the length of the password is only 6 characters, the following message should be printed: `The password must be at least 8 characters long.`\n",
    "\n",
    "- Check the password length requirement with the comparison operators `==`, `>` etc... See this [list](https://www.w3schools.com/python/gloss_python_comparison_operators.asp) or the cheatsheet for all available comparison operators.\n",
    "- Compute the lengths of the lists of alphabetic characters and numeric characters to check the other two requirements.\n",
    "- If all three requirements are fulfilled, print a message stating that the password is secure according to the password policy. You can combine conditions with the keywords `or`/`and`.\n",
    "- Check the password policy with a few different passwords. Can you find a password that breaks all three rules of the password policy?"
   ]
  },
  {
   "cell_type": "code",
   "execution_count": 27,
   "id": "ef3a6e70-f25c-4a25-8dd1-90a0c5a13847",
   "metadata": {
    "editable": true,
    "slideshow": {
     "slide_type": ""
    },
    "tags": []
   },
   "outputs": [
    {
     "name": "stdout",
     "output_type": "stream",
     "text": [
      "The password is secure according to the password policy.\n"
     ]
    }
   ],
   "source": [
    "# an empty password or a password that only contains special characters will break all three rules\n",
    "password = \"hello123\"\n",
    "\n",
    "# directly check the length requirement with an if statement\n",
    "if len(password) < 8:\n",
    "    print(\"The password must be at least 8 characters long.\")\n",
    "\n",
    "# extract the alphabetic and numeric characters again\n",
    "alphabetic = []\n",
    "numeric = []\n",
    "for char in password:\n",
    "    if char.isalpha():\n",
    "        alphabetic.append(char)\n",
    "    if char.isnumeric():\n",
    "        numeric.append(char)\n",
    "\n",
    "# check that there is at least one alphabetic character and numeric character\n",
    "if len(alphabetic) == 0:\n",
    "    print(\"The password must contain at least one alphabetic character.\")\n",
    "if len(numeric) == 0:\n",
    "    print(\"The password must contain at least one numeric character.\")\n",
    "\n",
    "# invert the three requirements to check if all are fulfilled\n",
    "if len(password) >= 8 and len(alphabetic) > 0 and len(numeric) > 0:\n",
    "    print(\"The password is secure according to the password policy.\")"
   ]
  },
  {
   "cell_type": "code",
   "execution_count": null,
   "id": "b7613ccb-5051-4d85-b707-dda83298f8b5",
   "metadata": {
    "editable": true,
    "slideshow": {
     "slide_type": ""
    },
    "tags": []
   },
   "outputs": [],
   "source": []
  },
  {
   "cell_type": "markdown",
   "id": "fe14d01e-85ec-4bf3-a564-daf8984d5e7a",
   "metadata": {
    "editable": false,
    "slideshow": {
     "slide_type": ""
    },
    "tags": [
     "exercise"
    ]
   },
   "source": [
    "## 1.7 Identifying special characters\n",
    "The previous categorization only distinguished between alphabetic characters and numeric characters using the respective string methods `isalpha()` and `isnumeric()`. Unfortunately, checking a string for special characters such as `\"!\"`, `\"?\"` etc... is not implemented as a string method ([source](https://www.w3schools.com/python/python_ref_string.asp)). The solution to this problem is to assume that any character that is neither alphabetic nor numeric must be a special character. In Python you can implement this using an `if`-`elif`-`else` statement.    \n",
    "As an example, the following code snippet shows how you could check if the password is between 8 and 16 characters long\n",
    "```python\n",
    "if len(password) < 8:\n",
    "    print(\"The password is too short\")\n",
    "elif len(password) > 16:\n",
    "    print(\"The password is too long\")\n",
    "else:\n",
    "    print(\"The password has a valid length\")\n",
    "```\n",
    "The keyword `elif` is a combination of `else` and `if`. It allows you to check a second condition if the first condition was `False`. You can also use more than one `elif` statement to handle more complicated cases. When none of the `elif` conditions are `True` either, the code in the `else` statement is executed. As you (implicitely) learned in [exercise 1.5](#1.5-Categorizing-the-characters), the `elif` statement and the `else` statement are optional. If you don't need to handle the case(s) where the initial condition is `False`, it is perfectly fine to just use the `if` statement.\n",
    "\n",
    "1. Use three separate lists to store the alphabetic, numeric and special characters.\n",
    "2. Iterate over the characters in the password and use an `if`-`elif`-`else` statement to sort the characters into the three categories. There should be no characters missing from the three lists this time.\n",
    "3. Compute the lengths of the three lists and compare them to the length of the password to confirm that no characters are missing this time.\n",
    "4. Try a few different passwords with and without characters from the three categories. Your code should handle all passwords without any errors."
   ]
  },
  {
   "cell_type": "code",
   "execution_count": 28,
   "id": "53370565-121f-4f84-92ed-822a04366dd2",
   "metadata": {
    "editable": true,
    "slideshow": {
     "slide_type": ""
    },
    "tags": []
   },
   "outputs": [
    {
     "data": {
      "text/plain": [
       "('test@!123', ['t', 'e', 's', 't'], ['1', '2', '3'], ['@', '!'])"
      ]
     },
     "execution_count": 28,
     "metadata": {},
     "output_type": "execute_result"
    }
   ],
   "source": [
    "password = \"test@!123\"\n",
    "\n",
    "# task 1: create three empty lists for the separate categories\n",
    "alphabetic = []\n",
    "numeric = []\n",
    "special = []\n",
    "\n",
    "# task 2: iterate over the password and use the if-elif-else statement to categorize the characters\n",
    "for char in password:\n",
    "    if char.isalpha():\n",
    "        alphabetic.append(char)\n",
    "    elif char.isnumeric():\n",
    "        numeric.append(char)\n",
    "    else:\n",
    "        special.append(char)\n",
    "\n",
    "# no characters are missing now\n",
    "password, alphabetic, numeric, special"
   ]
  },
  {
   "cell_type": "code",
   "execution_count": 29,
   "id": "4622bec6-e5cd-4a40-8f32-ff8c305f7066",
   "metadata": {
    "editable": true,
    "slideshow": {
     "slide_type": ""
    },
    "tags": []
   },
   "outputs": [
    {
     "data": {
      "text/plain": [
       "(4, 3, 2)"
      ]
     },
     "execution_count": 29,
     "metadata": {},
     "output_type": "execute_result"
    }
   ],
   "source": [
    "# task 3\n",
    "len(alphabetic), len(numeric), len(special)"
   ]
  },
  {
   "cell_type": "code",
   "execution_count": 30,
   "id": "0681329c-c996-4dbf-97a1-e0286bed40a6",
   "metadata": {
    "editable": true,
    "slideshow": {
     "slide_type": ""
    },
    "tags": []
   },
   "outputs": [
    {
     "data": {
      "text/plain": [
       "0"
      ]
     },
     "execution_count": 30,
     "metadata": {},
     "output_type": "execute_result"
    }
   ],
   "source": [
    "# task 3: the sum of the lengths of the lists will match the length of the password now\n",
    "len(password) - len(alphabetic) - len(numeric) - len(special)"
   ]
  },
  {
   "cell_type": "code",
   "execution_count": null,
   "id": "173cc3d8-1f82-412d-99ca-12f069c5304c",
   "metadata": {
    "editable": true,
    "slideshow": {
     "slide_type": ""
    },
    "tags": []
   },
   "outputs": [],
   "source": []
  },
  {
   "cell_type": "markdown",
   "id": "d9afd6ed-7d99-4410-95fd-ed1441040fdf",
   "metadata": {
    "editable": false,
    "slideshow": {
     "slide_type": ""
    },
    "tags": [
     "exercise"
    ]
   },
   "source": [
    "## EXTRA: Improving the password policy\n",
    "The requirements are now slightly different compared to [exercise 1.6](#1.6-Writing-a-password-policy), with the goal of increasing the password security even further:\n",
    "1. The length must be between 8 and 16 characters (including 8 and 16)\n",
    "2. The password must contain at least one lower-case character and one upper-case character\n",
    "3. The password must contain at least two numeric characters\n",
    "4. The password must contain at least one special character\n",
    "\n",
    "The rest of the exercise is the same as before. For any requirement that is not fulfilled there should be a message that states the requirement, and if all requirements are fulfilled there should be a message that confirms the security of the password. You can use this [list](https://www.w3schools.com/python/python_ref_string.asp) to find the string methods that you need to solve this exercise.\n",
    "\n",
    "- Use a (boolean) variable for each rule. Otherwise you have to check the (inverse) of the rules again to check if all rules are fulfilled.\n",
    "- Implement the improved password policy. Use the keywords `or`/`and` to combine conditions, and the keyword `not` to invert them.\n",
    "- Try a few different passwords to make sure that all the checks are working as intended."
   ]
  },
  {
   "cell_type": "code",
   "execution_count": 31,
   "id": "a116aeb9-daa8-47a5-973c-4a8bda070298",
   "metadata": {
    "editable": true,
    "slideshow": {
     "slide_type": ""
    },
    "tags": []
   },
   "outputs": [
    {
     "name": "stdout",
     "output_type": "stream",
     "text": [
      "The password is secure according to the password policy.\n"
     ]
    }
   ],
   "source": [
    "password = \"test123def!!DEF\"\n",
    "\n",
    "# check the length interval where the two conditions are combined with or\n",
    "length_rule = len(password) >= 8 and len(password) <= 16\n",
    "\n",
    "# set up the lists for the four character categories\n",
    "lower = []\n",
    "upper = []\n",
    "numeric = []\n",
    "special = []\n",
    "for char in password:\n",
    "    if char.islower():\n",
    "        lower.append(char)\n",
    "    elif char.isupper():\n",
    "        upper.append(char)\n",
    "    elif char.isnumeric():\n",
    "        numeric.append(char)\n",
    "    else:\n",
    "        special.append(char)\n",
    "\n",
    "# check the character requirements with the lengths of the lists\n",
    "lower_rule = len(lower) > 0\n",
    "upper_rule = len(upper) > 0\n",
    "numeric_rule = len(numeric) >= 2\n",
    "special_rule = len(special) > 0\n",
    "\n",
    "# check the inverse of all the boolean rules\n",
    "if not length_rule:\n",
    "    print(\"The length of the password must be between 8 and 16 characters.\")\n",
    "if not lower_rule:\n",
    "    print(\"The password must contain at least one lower-case character.\")\n",
    "if not upper_rule:\n",
    "    print(\"The password must contain at least one upper-case character.\")\n",
    "if not numeric_rule:\n",
    "    print(\"The password must contain at least two numeric characters.\")\n",
    "if not special_rule:\n",
    "    print(\"The password must contain at least one special character.\")\n",
    "\n",
    "# check the logical and of all the rules\n",
    "if length_rule and lower_rule and upper_rule and numeric_rule and special_rule:\n",
    "    print(\"The password is secure according to the password policy.\")"
   ]
  },
  {
   "cell_type": "code",
   "execution_count": null,
   "id": "e695c4b2-f252-41aa-85c1-7a8e526284c2",
   "metadata": {
    "editable": true,
    "slideshow": {
     "slide_type": ""
    },
    "tags": []
   },
   "outputs": [],
   "source": []
  },
  {
   "cell_type": "markdown",
   "id": "e2aa6c6c-9059-41eb-a638-3118f54efcd0",
   "metadata": {
    "editable": false,
    "slideshow": {
     "slide_type": ""
    },
    "tags": [
     "exercise"
    ]
   },
   "source": [
    "## 1.8 Sum of digits\n",
    "You can calculate the digit sum of a passwod by identifying all numeric characters and subsequently computing their sum. As an example, the digit sum of the password `\"duck1234\"` is `10`. Two values can be added with the `+` operator, the definition of the sum does however depend on the types of the values. If the sum of two values is not supported, a `TypeError` will be raised.\n",
    "\n",
    "1. Get the numeric characters from the password and store them in a list. Your password should contain at least two numeric characters.\n",
    "2. Take the sum of the first two characters from the list of numeric characters. What does the sum do for two strings?\n",
    "3. Pass the two characters to the built-in function `int()` to convert them to an `integer` before computing the sum. Does the result match your expectation now?\n",
    "4. Calculate the sum of all numeric characters in the password. The solution should work for any password. If there are no numeric characters, the result must be 0."
   ]
  },
  {
   "cell_type": "code",
   "execution_count": 32,
   "id": "edaca424-bf77-4ee8-b40a-840c2cef65dc",
   "metadata": {
    "editable": true,
    "slideshow": {
     "slide_type": ""
    },
    "tags": []
   },
   "outputs": [],
   "source": [
    "password = \"hello123\""
   ]
  },
  {
   "cell_type": "code",
   "execution_count": 33,
   "id": "7dd92cb8-0c0c-46b5-af61-b9abdc44efc7",
   "metadata": {
    "editable": true,
    "slideshow": {
     "slide_type": ""
    },
    "tags": []
   },
   "outputs": [],
   "source": [
    "# task 1: get the numeric characters in the password\n",
    "numeric = []\n",
    "for char in password:\n",
    "    if char.isnumeric():\n",
    "        numeric.append(char)"
   ]
  },
  {
   "cell_type": "code",
   "execution_count": 34,
   "id": "70c846cb-6e7c-45f5-921d-2d0610a5ee9b",
   "metadata": {
    "editable": true,
    "slideshow": {
     "slide_type": ""
    },
    "tags": []
   },
   "outputs": [
    {
     "data": {
      "text/plain": [
       "'12'"
      ]
     },
     "execution_count": 34,
     "metadata": {},
     "output_type": "execute_result"
    }
   ],
   "source": [
    "# task 2: the sum of strings will just concatenate them\n",
    "numeric[0] + numeric[1]"
   ]
  },
  {
   "cell_type": "code",
   "execution_count": 35,
   "id": "3b7ae9d8-f0c5-4ebd-87e3-95e6a9740e7f",
   "metadata": {
    "editable": true,
    "slideshow": {
     "slide_type": ""
    },
    "tags": []
   },
   "outputs": [
    {
     "data": {
      "text/plain": [
       "3"
      ]
     },
     "execution_count": 35,
     "metadata": {},
     "output_type": "execute_result"
    }
   ],
   "source": [
    "# task 3: the sum of integers is equal to the \"mathematical\" sum\n",
    "int(numeric[0]) + int(numeric[1])"
   ]
  },
  {
   "cell_type": "code",
   "execution_count": 36,
   "id": "be9c1e7d-dc26-49e4-a123-07a9c0ec722b",
   "metadata": {
    "editable": true,
    "slideshow": {
     "slide_type": ""
    },
    "tags": []
   },
   "outputs": [
    {
     "data": {
      "text/plain": [
       "6"
      ]
     },
     "execution_count": 36,
     "metadata": {},
     "output_type": "execute_result"
    }
   ],
   "source": [
    "# task 4: start with a variable equal to zero and add all numeric characters to the value\n",
    "digit_sum = 0\n",
    "for character in numeric:\n",
    "    digit_sum = digit_sum + int(character)\n",
    "digit_sum"
   ]
  },
  {
   "cell_type": "code",
   "execution_count": 37,
   "id": "92fde733-f530-4a10-bff0-d93f06caed15",
   "metadata": {
    "editable": true,
    "slideshow": {
     "slide_type": ""
    },
    "tags": []
   },
   "outputs": [
    {
     "data": {
      "text/plain": [
       "6"
      ]
     },
     "execution_count": 37,
     "metadata": {},
     "output_type": "execute_result"
    }
   ],
   "source": [
    "# task 4: more compact addition of each numeric character to the digit sum\n",
    "digit_sum = 0\n",
    "for character in numeric:\n",
    "    digit_sum += int(character)\n",
    "digit_sum"
   ]
  },
  {
   "cell_type": "code",
   "execution_count": null,
   "id": "40a9b138-0759-4d79-b9ad-b19be6579b4e",
   "metadata": {
    "editable": true,
    "slideshow": {
     "slide_type": ""
    },
    "tags": []
   },
   "outputs": [],
   "source": []
  },
  {
   "cell_type": "markdown",
   "id": "0a1c4fdf-4b17-4627-b452-d2990b00a50d",
   "metadata": {
    "editable": false,
    "slideshow": {
     "slide_type": ""
    },
    "tags": [
     "exercise"
    ]
   },
   "source": [
    "## 1.9 Compact iteration\n",
    "There is a shorter way to get the lists of alphabetic and numeric characters in the password. You can use a so-called _list comprehension_ to write the `for` loop, the `if` statement and the creation of a list in a single line. As an example, see the following code snippet to get the numeric characters from the password:\n",
    "```python\n",
    "numeric = [char for char in password if char.isnumeric()]\n",
    "```\n",
    "\n",
    "1. Make sure that you understand the syntax of the list comprehension. Write down the regular `for` loop from [exercise 1.8](#1.8-Sum-of-digits) again to understand how everything is \"folded\" into a single line.\n",
    "2. Write the list comprehensions to save all the alphabetic characters and numeric characters from the password in separate lists.\n",
    "3. Modify the numeric character list comprehension to directly convert the numeric characters to integers with the built-in function `int()`.\n",
    "4. Pass the list of numeric characters to the function `sum()` to compute the digit sum of the password in a single line.\n",
    "5. Get the special characters from the password using a list comprehension. You can use the keywords `not`, `or` and `and` to \"build\" the required condition.\n",
    "6. Verify that the three lists contain all characters by checking their lengths compared to the length of the password."
   ]
  },
  {
   "cell_type": "code",
   "execution_count": 38,
   "id": "efa489f1-d922-4c1f-8116-4ac02c07c23b",
   "metadata": {
    "editable": true,
    "slideshow": {
     "slide_type": ""
    },
    "tags": []
   },
   "outputs": [],
   "source": [
    "password = \"duck123{}(*)\""
   ]
  },
  {
   "cell_type": "code",
   "execution_count": 39,
   "id": "74ad042d-c69c-4fe4-8dff-b10760f17e8b",
   "metadata": {
    "editable": true,
    "slideshow": {
     "slide_type": ""
    },
    "tags": []
   },
   "outputs": [
    {
     "data": {
      "text/plain": [
       "['1', '2', '3']"
      ]
     },
     "execution_count": 39,
     "metadata": {},
     "output_type": "execute_result"
    }
   ],
   "source": [
    "# task 1\n",
    "numeric = []\n",
    "for char in password:\n",
    "    if char.isnumeric():\n",
    "        numeric.append(char)\n",
    "\n",
    "# the list is created by the outer square brackets and the for loop \n",
    "# the variable just after the opening square bracket is appended to the list...\n",
    "# ... but only if the condition at the end is fulfilled\n",
    "[char for char in password if char.isnumeric()]"
   ]
  },
  {
   "cell_type": "code",
   "execution_count": 40,
   "id": "3778ae38-5d70-49cb-88d8-9abe63f30d60",
   "metadata": {
    "editable": true,
    "slideshow": {
     "slide_type": ""
    },
    "tags": []
   },
   "outputs": [
    {
     "data": {
      "text/plain": [
       "(['d', 'u', 'c', 'k'], ['1', '2', '3'])"
      ]
     },
     "execution_count": 40,
     "metadata": {},
     "output_type": "execute_result"
    }
   ],
   "source": [
    "# task 2: run the list comprehension twice to get the alphabetic characters and the numeric characters\n",
    "alphabetic = [char for char in password if char.isalpha()]\n",
    "numeric = [char for char in password if char.isnumeric()]\n",
    "alphabetic, numeric"
   ]
  },
  {
   "cell_type": "code",
   "execution_count": 41,
   "id": "9c736067-457f-44d0-a50c-9ba8a576187e",
   "metadata": {
    "editable": true,
    "slideshow": {
     "slide_type": ""
    },
    "tags": []
   },
   "outputs": [
    {
     "data": {
      "text/plain": [
       "[1, 2, 3]"
      ]
     },
     "execution_count": 41,
     "metadata": {},
     "output_type": "execute_result"
    }
   ],
   "source": [
    "# task 3: pass the loop variable to int() to directly convert the numeric characters to integers\n",
    "numeric = [int(char) for char in password if char.isnumeric()]\n",
    "numeric"
   ]
  },
  {
   "cell_type": "code",
   "execution_count": 42,
   "id": "bf99786d-cd53-49fb-ad64-8b13f0f360a5",
   "metadata": {
    "editable": true,
    "slideshow": {
     "slide_type": ""
    },
    "tags": []
   },
   "outputs": [
    {
     "data": {
      "text/plain": [
       "6"
      ]
     },
     "execution_count": 42,
     "metadata": {},
     "output_type": "execute_result"
    }
   ],
   "source": [
    "# task 4: pass the list comprehension of numeric characters to the function sum()\n",
    "sum([int(char) for char in password if char.isnumeric()])"
   ]
  },
  {
   "cell_type": "code",
   "execution_count": 43,
   "id": "cb2f948b-1b92-4c75-a0a9-99a951f3410f",
   "metadata": {
    "editable": true,
    "slideshow": {
     "slide_type": ""
    },
    "tags": []
   },
   "outputs": [
    {
     "data": {
      "text/plain": [
       "['{', '}', '(', '*', ')']"
      ]
     },
     "execution_count": 43,
     "metadata": {},
     "output_type": "execute_result"
    }
   ],
   "source": [
    "# task 5: combine and invert/negate the boolean values with or + not\n",
    "special = [char for char in password if not (char.isalpha() or char.isnumeric())]\n",
    "special"
   ]
  },
  {
   "cell_type": "code",
   "execution_count": 44,
   "id": "06fa7b0f-6a95-4d11-a1cb-777c93589269",
   "metadata": {
    "editable": true,
    "slideshow": {
     "slide_type": ""
    },
    "tags": []
   },
   "outputs": [
    {
     "data": {
      "text/plain": [
       "['{', '}', '(', '*', ')']"
      ]
     },
     "execution_count": 44,
     "metadata": {},
     "output_type": "execute_result"
    }
   ],
   "source": [
    "# task 5: directly use the string method isalnum() to identify the special characters\n",
    "special = [char for char in password if not char.isalnum()]\n",
    "special"
   ]
  },
  {
   "cell_type": "code",
   "execution_count": 45,
   "id": "366f9a8e-2237-42ea-b892-263b6ae0c737",
   "metadata": {
    "editable": true,
    "slideshow": {
     "slide_type": ""
    },
    "tags": []
   },
   "outputs": [
    {
     "data": {
      "text/plain": [
       "0"
      ]
     },
     "execution_count": 45,
     "metadata": {},
     "output_type": "execute_result"
    }
   ],
   "source": [
    "# task 6: make sure that the lengths of the lists match the length of the password\n",
    "len(password) - len(alphabetic) - len(numeric) - len(special)"
   ]
  },
  {
   "cell_type": "code",
   "execution_count": null,
   "id": "4854aa70-0919-4451-b1a3-e4953097a4eb",
   "metadata": {
    "editable": true,
    "slideshow": {
     "slide_type": ""
    },
    "tags": []
   },
   "outputs": [],
   "source": []
  },
  {
   "cell_type": "markdown",
   "id": "fd0a6ffd-b6b1-49a0-96cc-a91cae516e44",
   "metadata": {
    "editable": false,
    "slideshow": {
     "slide_type": ""
    },
    "tags": [
     "exercise"
    ]
   },
   "source": [
    "## 1.10 Counting characters\n",
    "You want to store each unique character in the password with the corresponding count as an integer. Such a mapping of characters and counts is best represented by a `dictionary`. The characters will be the (unique) keys, and the counts will be the values that can be accessed through the respective keys. While the keys must be unique strings or numbers, there are no restrictions on the types of the values (e.g. lists or even other dictionaries would be fine).   \n",
    "There are two ways to create dictionaries. You can either use the built-in function `dict()` or curly brackets `{}`. See the following examples that create equal dictionaries:\n",
    "```python\n",
    "character_count = dict(a=4, c=3)\n",
    "character_count = {\"a\": 4, \"c\": 3}\n",
    "```\n",
    "You can access/change the values in the dictionary by using the key as the \"index\". A `KeyError` is raised if you try to read a key that is not available in the dictionary. With the keyword `in` you can check whether a dictionary contains a certain key:\n",
    "```python\n",
    "if \"a\" in character_count:\n",
    "    print(\"The character 'a' occurs in the password\")\n",
    "else:\n",
    "    print(\"The character 'a' does not occur in the password\")\n",
    "```\n",
    "Writing the value of a key is always possible. If the key does not exist, it will just be added to the dictionary. If the key already exists, the previous value will just be overwritten:\n",
    "```python\n",
    "character_count[\"f\"] = 1\n",
    "```\n",
    "\n",
    "1. Create a few dictionaries using the different syntax variants. What happens if you try to use the same key more than once?\n",
    "2. After you create a dictionary (using your preferred syntax), assign a few more key-value pairs and print/output the dictionary afterwards.\n",
    "3. Start with an empty dictionary to store the character counts of the password and write a `for` loop to iterate over the characters in the password.\n",
    "4. Store the character counts in the dictionary. Only the characters that occur in the password must be in the dictionary, no key should therefore have the value 0.\n",
    "5. Try the character counting with a few different passwords (with several duplicate characters) and make sure to always start with an empty dictionary. How are the keys ordered in the dictionary?"
   ]
  },
  {
   "cell_type": "code",
   "execution_count": 46,
   "id": "1e46f0f0-e8ea-4740-8cef-baa366715f3c",
   "metadata": {
    "editable": true,
    "slideshow": {
     "slide_type": ""
    },
    "tags": []
   },
   "outputs": [
    {
     "data": {
      "text/plain": [
       "({'a': 4, 'd': 3, 'b': 5}, {'a': 4, 'd': 3, 'b': 5})"
      ]
     },
     "execution_count": 46,
     "metadata": {},
     "output_type": "execute_result"
    }
   ],
   "source": [
    "# task 1\n",
    "dict(a=4, d=3, b=5), {\"a\": 4, \"d\": 3, \"b\": 5}"
   ]
  },
  {
   "cell_type": "code",
   "execution_count": 47,
   "id": "8bef15d4-b25a-4bf0-8009-cf424a032c53",
   "metadata": {
    "editable": true,
    "slideshow": {
     "slide_type": ""
    },
    "tags": []
   },
   "outputs": [
    {
     "ename": "SyntaxError",
     "evalue": "keyword argument repeated: a (988975057.py, line 2)",
     "output_type": "error",
     "traceback": [
      "\u001b[0;36m  Cell \u001b[0;32mIn[47], line 2\u001b[0;36m\u001b[0m\n\u001b[0;31m    dict(a=4, d=3, b=5, a=1)\u001b[0m\n\u001b[0m                        ^\u001b[0m\n\u001b[0;31mSyntaxError\u001b[0m\u001b[0;31m:\u001b[0m keyword argument repeated: a\n"
     ]
    }
   ],
   "source": [
    "# task 1: duplicate/repeated keywords will raise a SyntaxError\n",
    "dict(a=4, d=3, b=5, a=1)"
   ]
  },
  {
   "cell_type": "code",
   "execution_count": 48,
   "id": "1eff13fb-1a36-4667-9070-8dda01dc9ead",
   "metadata": {
    "editable": true,
    "slideshow": {
     "slide_type": ""
    },
    "tags": []
   },
   "outputs": [
    {
     "data": {
      "text/plain": [
       "{'a': 4, 'd': 9, 'b': 5, 'z': 4, 'f': 1, ' ': 1}"
      ]
     },
     "execution_count": 48,
     "metadata": {},
     "output_type": "execute_result"
    }
   ],
   "source": [
    "# task 2: if a key already exists, the corresponding value is overwritten but the position of the key does not change\n",
    "character_count = dict(a=4, d=3, b=5)\n",
    "character_count[\"z\"] = 4\n",
    "character_count[\"f\"] = 1\n",
    "character_count[\"d\"] = 9\n",
    "character_count[\" \"] = 1\n",
    "character_count"
   ]
  },
  {
   "cell_type": "code",
   "execution_count": 49,
   "id": "b72e714c-0934-42b6-82f1-8639a924d43a",
   "metadata": {
    "editable": true,
    "slideshow": {
     "slide_type": ""
    },
    "tags": []
   },
   "outputs": [
    {
     "data": {
      "text/plain": [
       "{'h': 1,\n",
       " 'e': 1,\n",
       " 'l': 3,\n",
       " 'o': 2,\n",
       " '_': 3,\n",
       " '1': 2,\n",
       " '2': 2,\n",
       " '3': 2,\n",
       " 'w': 1,\n",
       " 'r': 1,\n",
       " 'd': 1,\n",
       " '!': 2,\n",
       " '?': 2,\n",
       " '#': 1}"
      ]
     },
     "execution_count": 49,
     "metadata": {},
     "output_type": "execute_result"
    }
   ],
   "source": [
    "# use a new password for this exercise\n",
    "password = \"hello_123123_world_!!??#\"\n",
    "\n",
    "# task 3: start with an empty dictionary and iterate over the characters\n",
    "character_count = {}\n",
    "for char in password:\n",
    "    # task 4: add 1 to the count if the key already exists or add the key with the value to the dictionary\n",
    "    if char in character_count:\n",
    "        character_count[char] += 1\n",
    "    else:\n",
    "        character_count[char] = 1\n",
    "\n",
    "# task 5: the keys are ordered by the first occurrence of the character in the password\n",
    "character_count"
   ]
  },
  {
   "cell_type": "code",
   "execution_count": null,
   "id": "1eb81677-f984-44eb-b102-5284c9955975",
   "metadata": {
    "editable": true,
    "slideshow": {
     "slide_type": ""
    },
    "tags": []
   },
   "outputs": [],
   "source": []
  },
  {
   "cell_type": "markdown",
   "id": "4a7e0591-e121-421b-b4cb-21e59b24b4bc",
   "metadata": {
    "editable": false,
    "slideshow": {
     "slide_type": ""
    },
    "tags": [
     "exercise"
    ]
   },
   "source": [
    "## 1.11 Dictionary iteration\n",
    "Iterating over the key-value pairs in a dictionary works very similar to lists. Directly iterating over the dictionary will implicitely iterate over the keys. To explicitely iterate over the keys, you can also use the dictionary method `keys()`. The following two `for` loops are therefore equivalent:\n",
    "```python\n",
    "for key in character_count:\n",
    "    print(key)\n",
    "\n",
    "for key in character_count.keys():\n",
    "    print(key)\n",
    "```\n",
    "The second `for` loop makes your code easier to read in exchange for a slightly longer line. This is ultimately a matter of personal preference, you should however not underestimate the value of code readability!    \n",
    "You can also iterate over the values with the method `values()` and the key-value pairs with the method `items()`. In the latter case you get a tuple `(key, value)` in each step of the iteration. You can use two loop variables to directly unpack the tuple during the iteration.\n",
    "\n",
    "1. Either use the `character_count` dictionary from [exercise 1.10](#1.10-Counting-characters) or create a new dictionary with a few key-value pairs.\n",
    "2. Try the `for` loops to iterate over the dictionary keys, values and items. Be creative and think of small tasks that you can solve with the loops.\n",
    "3. Combine the dictionary `for` loops with `enumerate()`. How do you have to arrange the index, the key and the value to unpack the loop over the `items()`?\n",
    "4. Compute the sum of the values in the dictionary in a single line of code. If you used the `character_count` dictionary, the sum has to match the length of the password."
   ]
  },
  {
   "cell_type": "code",
   "execution_count": 50,
   "id": "525cb08e-8216-4369-a1d4-4ca7ffee8222",
   "metadata": {
    "editable": true,
    "slideshow": {
     "slide_type": ""
    },
    "tags": []
   },
   "outputs": [
    {
     "name": "stdout",
     "output_type": "stream",
     "text": [
      "h 1\n",
      "e 1\n",
      "l 3\n",
      "o 2\n",
      "_ 3\n",
      "1 2\n",
      "2 2\n",
      "3 2\n",
      "w 1\n",
      "r 1\n",
      "d 1\n",
      "! 2\n",
      "? 2\n",
      "# 1\n"
     ]
    }
   ],
   "source": [
    "# task 2: use the key to get the corresponding value as an alternative to the items() method\n",
    "for key in character_count.keys():\n",
    "    print(key, character_count[key])"
   ]
  },
  {
   "cell_type": "code",
   "execution_count": 51,
   "id": "24df0b2d-2602-4119-84ff-8cb9d2518e08",
   "metadata": {
    "editable": true,
    "slideshow": {
     "slide_type": ""
    },
    "tags": []
   },
   "outputs": [
    {
     "data": {
      "text/plain": [
       "3"
      ]
     },
     "execution_count": 51,
     "metadata": {},
     "output_type": "execute_result"
    }
   ],
   "source": [
    "# task 2: get the maximum value from the dictionary\n",
    "max_value = 0\n",
    "for value in character_count.values():\n",
    "    if value > max_value:\n",
    "        max_value = value\n",
    "max_value"
   ]
  },
  {
   "cell_type": "code",
   "execution_count": 52,
   "id": "5edd0550-1e86-4cea-aef6-e38e6a936b2f",
   "metadata": {
    "editable": true,
    "slideshow": {
     "slide_type": ""
    },
    "tags": []
   },
   "outputs": [
    {
     "name": "stdout",
     "output_type": "stream",
     "text": [
      "l\n",
      "o\n",
      "_\n",
      "1\n",
      "2\n",
      "3\n",
      "!\n",
      "?\n"
     ]
    }
   ],
   "source": [
    "# task 2: print all duplicate keys/characters\n",
    "for key, value in character_count.items():\n",
    "    if value > 1:\n",
    "        print(key)"
   ]
  },
  {
   "cell_type": "code",
   "execution_count": 53,
   "id": "69b2172d-af97-4361-acd2-b58f4de5133b",
   "metadata": {
    "editable": true,
    "slideshow": {
     "slide_type": ""
    },
    "tags": []
   },
   "outputs": [
    {
     "name": "stdout",
     "output_type": "stream",
     "text": [
      "0 1\n",
      "1 1\n",
      "2 3\n",
      "3 2\n",
      "4 3\n",
      "5 2\n",
      "6 2\n",
      "7 2\n",
      "8 1\n",
      "9 1\n",
      "10 1\n",
      "11 2\n",
      "12 2\n",
      "13 1\n"
     ]
    }
   ],
   "source": [
    "# task 3: with the values() the enumerate() function works just like it would work with a list\n",
    "for i, value in enumerate(character_count.values()):\n",
    "    print(i, value)"
   ]
  },
  {
   "cell_type": "code",
   "execution_count": 54,
   "id": "5beccccb-8fb1-4291-91f8-b7dc52e12518",
   "metadata": {
    "editable": true,
    "slideshow": {
     "slide_type": ""
    },
    "tags": []
   },
   "outputs": [
    {
     "name": "stdout",
     "output_type": "stream",
     "text": [
      "0 h 1\n",
      "1 e 1\n",
      "2 l 3\n",
      "3 o 2\n",
      "4 _ 3\n",
      "5 1 2\n",
      "6 2 2\n",
      "7 3 2\n",
      "8 w 1\n",
      "9 r 1\n",
      "10 d 1\n",
      "11 ! 2\n",
      "12 ? 2\n",
      "13 # 1\n"
     ]
    }
   ],
   "source": [
    "# task 3: the key-value pair is returned as a tuple\n",
    "for i, (key, value) in enumerate(character_count.items()):\n",
    "    print(i, key, value)"
   ]
  },
  {
   "cell_type": "code",
   "execution_count": 55,
   "id": "f63db68a-34ca-4b19-ad8c-15e32c96c43e",
   "metadata": {
    "editable": true,
    "slideshow": {
     "slide_type": ""
    },
    "tags": []
   },
   "outputs": [
    {
     "name": "stdout",
     "output_type": "stream",
     "text": [
      "(0, ('h', 1))\n",
      "(1, ('e', 1))\n",
      "(2, ('l', 3))\n",
      "(3, ('o', 2))\n",
      "(4, ('_', 3))\n",
      "(5, ('1', 2))\n",
      "(6, ('2', 2))\n",
      "(7, ('3', 2))\n",
      "(8, ('w', 1))\n",
      "(9, ('r', 1))\n",
      "(10, ('d', 1))\n",
      "(11, ('!', 2))\n",
      "(12, ('?', 2))\n",
      "(13, ('#', 1))\n"
     ]
    }
   ],
   "source": [
    "# task 3: you can use a single loop variable to show the format of the returned values (i, (key, value))\n",
    "for x in enumerate(character_count.items()):\n",
    "    print(x)"
   ]
  },
  {
   "cell_type": "code",
   "execution_count": 56,
   "id": "802d7967-6642-4aed-834a-dc21be8f9413",
   "metadata": {
    "editable": true,
    "slideshow": {
     "slide_type": ""
    },
    "tags": []
   },
   "outputs": [
    {
     "data": {
      "text/plain": [
       "24"
      ]
     },
     "execution_count": 56,
     "metadata": {},
     "output_type": "execute_result"
    }
   ],
   "source": [
    "# task 4: you can iterate over the values() and compute the sum() of the created list\n",
    "value_sum = sum([v for v in character_count.values()])\n",
    "value_sum"
   ]
  },
  {
   "cell_type": "code",
   "execution_count": 57,
   "id": "9d3c08f5-70ee-469a-9e95-485968ae08cd",
   "metadata": {
    "editable": true,
    "slideshow": {
     "slide_type": ""
    },
    "tags": []
   },
   "outputs": [
    {
     "data": {
      "text/plain": [
       "24"
      ]
     },
     "execution_count": 57,
     "metadata": {},
     "output_type": "execute_result"
    }
   ],
   "source": [
    "# task 4: you can also pass the values() directly to the sum()\n",
    "sum(character_count.values())"
   ]
  },
  {
   "cell_type": "code",
   "execution_count": 58,
   "id": "ae7d22d2-cb0c-4af1-bcbf-e42395225c5e",
   "metadata": {
    "editable": true,
    "slideshow": {
     "slide_type": ""
    },
    "tags": []
   },
   "outputs": [
    {
     "data": {
      "text/plain": [
       "24"
      ]
     },
     "execution_count": 58,
     "metadata": {},
     "output_type": "execute_result"
    }
   ],
   "source": [
    "# task 4: the sum of the valus in the character count dictionary must be equalt to the length of the password\n",
    "len(password)"
   ]
  },
  {
   "cell_type": "code",
   "execution_count": null,
   "id": "9e23fd03-ff6c-40f0-a92d-c482bd373938",
   "metadata": {
    "editable": true,
    "slideshow": {
     "slide_type": ""
    },
    "tags": []
   },
   "outputs": [],
   "source": []
  },
  {
   "cell_type": "markdown",
   "id": "ec65aa66-635a-4af0-9a1d-24454f6a375a",
   "metadata": {
    "editable": false,
    "slideshow": {
     "slide_type": ""
    },
    "tags": [
     "exercise"
    ]
   },
   "source": [
    "## EXTRA: Your Password Game\n",
    "This is a creative exercise where you can just make up your own password rules. Your partner (or someone from another team) then has to find a password that fulfills all those rules. I got the idea for this exercise from [The Password Game](https://neal.fun/password-game/) by Neal Agarwal. Check out the game if you want some inspiration for possible password rules.    \n",
    "\n",
    "Each rule has to be implemented as a function that accepts the current password as a parameter and returns the description and the boolean result of the rule. As an example, see the following rule that requires a minimum length of 3 characters for the password:\n",
    "```python\n",
    "def minimum_length(password):\n",
    "    result = len(password) >= 3\n",
    "    return \"Your password must have at least 3 characters\", result\n",
    "```\n",
    "You are going to learn the details about functions tomorrow. For this exercise it is enough if you just copy the example function and change the name `minimum_length` to something unique for each rule. You can pass any number of rule functions in a list to the `PasswordGame()`. Inside each function you can check anything you want about the password. Using the things you learned today in the earlier exercises should already allow you to write quite a few rules. If this is not enough for you, look online or ask around for help to create more complex rules.\n",
    "\n",
    "1. Run the cell that defines the class `PasswordGame` once. (I added some comments if you are curious about the implementation of the game)\n",
    "2. Copy (and rename!) the function `minimum_length()` to implement as many rules as you want. Add all functions to the `rules` list.\n",
    "3. Run the cell `game = PasswordGame(rules)` to play the game. If you want to update the rules or restart the game, just run the cell again."
   ]
  },
  {
   "cell_type": "code",
   "execution_count": 59,
   "id": "311d8304-b75f-461d-b41d-3f3d0307d19b",
   "metadata": {
    "editable": false,
    "slideshow": {
     "slide_type": ""
    },
    "tags": []
   },
   "outputs": [],
   "source": [
    "import ipywidgets as widgets\n",
    "\n",
    "class PasswordGame:\n",
    "    # the colors are a light shade of red and green\n",
    "    LABEL_RED = \"#e3736b\"\n",
    "    LABEL_GREEN = \"#93e36b\"\n",
    "\n",
    "    # the layout attribute exposes CSS properties\n",
    "    # https://minrk-ipywidgets.readthedocs.io/en/latest/examples/Widget%20Styling.html\n",
    "    LABEL_LAYOUT = widgets.Layout(padding=\"0px 0px 2px 8px\")\n",
    "\n",
    "    def __init__(self, rules):\n",
    "        # the `rules` are just a list of functions\n",
    "        self.rules = rules\n",
    "        # keep track of the number of rules that are currently displayed\n",
    "        self.n_display = 1\n",
    "\n",
    "        self.label = widgets.Label(value=\"Enter your password:\", layout=self.LABEL_LAYOUT)\n",
    "        self.text = widgets.Text()\n",
    "        # register the instance `self` as the callback function\n",
    "        self.text.observe(self, names=\"value\")\n",
    "\n",
    "        # wrap the label and text input in a VBox\n",
    "        self.input = display(widgets.VBox((self.label, self.text)))\n",
    "        # prepare the output with `display_id=True` to allow `self.output.update()` later\n",
    "        self.output = display(display_id=True)\n",
    "\n",
    "    @classmethod\n",
    "    def get_label(cls, i, comment, valid):\n",
    "        # the boolean variable `valid` sets the background color\n",
    "        color = cls.LABEL_GREEN if valid else cls.LABEL_RED\n",
    "        value = f\"Rule {i+1}: {comment}\" if i >= 0 else comment\n",
    "        return widgets.Label(\n",
    "            value=value,\n",
    "            style=dict(text_color=\"black\", background=color),\n",
    "            layout=cls.LABEL_LAYOUT\n",
    "        )\n",
    "\n",
    "    def update_output(self, value):\n",
    "        # the labels are kept in separate lists based on their result\n",
    "        valid_labels = []\n",
    "        invalid_labels = []\n",
    "        for i in range(self.n_display):\n",
    "            comment, result = self.rules[i](value)\n",
    "            label = PasswordGame.get_label(i, comment, result)\n",
    "            if result:\n",
    "                valid_labels.append(label)\n",
    "            else:\n",
    "                invalid_labels.append(label)\n",
    "\n",
    "        # add a special label if all available rules are fulfilled\n",
    "        if not invalid_labels and self.n_display == len(self.rules):\n",
    "            valid_labels.append(PasswordGame.get_label(-1, \"You solved the password game!\", True))\n",
    "\n",
    "        # reverse the order of both label lists and show the invalid labels first\n",
    "        self.output.update(widgets.VBox(invalid_labels[::-1] + valid_labels[::-1]))\n",
    "\n",
    "        if not invalid_labels and self.n_display < len(self.rules):\n",
    "            # increment `n_display` if there are more rules available\n",
    "            self.n_display += 1\n",
    "            # run this method again to immediately show the new rule\n",
    "            self.update_output(value)\n",
    "\n",
    "    def __call__(self, change):\n",
    "        # this function is called when a change in `self.text` is observed\n",
    "        if change[\"type\"] != \"change\" or change[\"name\"] != \"value\":\n",
    "            return\n",
    "\n",
    "        # call the method `update_output()` with the new password\n",
    "        self.update_output(change[\"new\"])"
   ]
  },
  {
   "cell_type": "code",
   "execution_count": 60,
   "id": "38f3a78a-8e6c-427b-a9f8-a31c25bed863",
   "metadata": {
    "editable": true,
    "slideshow": {
     "slide_type": ""
    },
    "tags": []
   },
   "outputs": [],
   "source": [
    "# task 2: define the rule functions\n",
    "def minimum_length(password):\n",
    "    result = len(password) >= 3\n",
    "    return \"Your password must have at least 3 characters\", result\n",
    "\n",
    "def uppercase_characters(password):\n",
    "    upper = [char for char in password if char.isupper()]\n",
    "    result = len(upper) >= 2\n",
    "    return \"Your password must have at least two uppercase characters\", result\n",
    "\n",
    "def lost_numbers(password):\n",
    "    numbers = [\"4\", \"8\", \"15\", \"16\", \"23\", \"42\"]\n",
    "    result = sum([n in password for n in numbers]) == 1\n",
    "    return \"Your password must contain exactly one of the Numbers from the TV series Lost\", result\n",
    "\n",
    "def palindrome(password):\n",
    "    length = 5\n",
    "    result = False\n",
    "    for i in range(len(password) - (length - 1)):\n",
    "        test = password[i:i+length]\n",
    "        if test[:2] == test[-1:-3:-1]:\n",
    "            result = True\n",
    "            break\n",
    "\n",
    "    return \"Your password must contain a palindrome of length five\", result\n",
    "\n",
    "# add the rule functions to a list\n",
    "rules = [minimum_length, uppercase_characters, lost_numbers, palindrome]"
   ]
  },
  {
   "cell_type": "code",
   "execution_count": 61,
   "id": "51260a27-b5b4-4342-b1e0-8e755709955f",
   "metadata": {
    "editable": true,
    "slideshow": {
     "slide_type": ""
    },
    "tags": []
   },
   "outputs": [
    {
     "data": {
      "application/vnd.jupyter.widget-view+json": {
       "model_id": "7517d4a5acca4212a4b3b519e544770b",
       "version_major": 2,
       "version_minor": 0
      },
      "text/plain": [
       "VBox(children=(Label(value='Enter your password:', layout=Layout(padding='0px 0px 2px 8px')), Text(value='')))"
      ]
     },
     "metadata": {},
     "output_type": "display_data"
    },
    {
     "data": {},
     "metadata": {},
     "output_type": "display_data"
    }
   ],
   "source": [
    "# task 3: run the password game\n",
    "game = PasswordGame(rules)"
   ]
  },
  {
   "cell_type": "code",
   "execution_count": null,
   "id": "70aefe69-793a-4e89-bf1a-cfd51f673f94",
   "metadata": {
    "editable": true,
    "slideshow": {
     "slide_type": ""
    },
    "tags": []
   },
   "outputs": [],
   "source": []
  },
  {
   "cell_type": "markdown",
   "id": "79fea5db-6b62-4054-9ed6-1a8849a579d3",
   "metadata": {
    "editable": false,
    "slideshow": {
     "slide_type": ""
    },
    "tags": [
     "exercise"
    ]
   },
   "source": [
    "## EXTRA: Making a password more secure\n",
    "This exercise is a follow-up to the [first EXTRA exercise](#EXTRA:-Improving-the-password-policy) about improving the password policy. Make sure to solve this one before starting this exercise.  \n",
    "\n",
    "The password policy in this exercise uses mixed requirements from the earlier two password policies. If you want to make this exercise easier/more difficult, you can slightly modify the requirements to your liking. E.g. you can add the maximum allowed length of 16 or you can drop the numeric character requirement.\n",
    "1. The length of the password must be at least 8 characters\n",
    "2. The password must contain lower-case characters and upper-case characters\n",
    "3. The password must contain at least one numeric character\n",
    "\n",
    "If a password is not considered to be secure enough, it would be convenient to have an algorithm that automatically modifies the password to meet the security requirements. Just appending `\"aA1\"` to every password to meet the latter two requirements would be too easy to crack. The modification(s) should therefore depend on the original password. You can do this with the string methods that are built into Python. For a list of available methods see https://www.w3schools.com/python/python_ref_string.asp or find another resource online.  \n",
    "Since strings cannot be modified in place in Python (they are immutable) the best approach is to work with a list of the individual characters. You can then replace/modify the characters by assigning a new/modified character to the corresponding index in the list. After the modification(s) you can turn the list of characters into a string again with the method `\"\".join()`. See the following code snippet as an illustration. In the password `\"hello\"` the character `\"e\"` is manually replaced by the character `\"3\"` to fulfill the numeric requirement:\n",
    "```python\n",
    "password = \"hello\"\n",
    "characters = [char for char in password]\n",
    "characters[1] = \"3\"\n",
    "modified_password = \"\".join(characters)\n",
    "```\n",
    "\n",
    "**Disclaimer**: Passwords with these simple modifications are still considered to be weak according to [wikipedia/password_strength](https://en.wikipedia.org/wiki/Password_strength#Examples_of_weak_passwords) and [wikipedia/password_cracking](https://en.wikipedia.org/wiki/Password_cracking#Easy_to_remember,_hard_to_guess) since these checks can be easily automated. Nevertheless, it's a good exercise on working with strings.\n",
    "\n",
    "- Write the code to make any password pass the requirements above. You can follow the next bullet points or you can get creative and try to find your own solution.\n",
    "- If there is no lower/upper-case character, replace the first suitable character with its upper/lower-case counterpart.\n",
    "- If there is no numeric character, replace the first suitable character (lower-case or upper-case) by its [leet-speak](https://en.wikipedia.org/wiki/Leet#Table_of_leet-speak_substitutes_for_normal_letters) counterpart. The most common options are `E->3, S->5, B->8, I->1, A->4`.\n",
    "- If the password is not long enough, repeat it until the minimum required length is reached/exceeded.\n",
    "- If you cannot automatically modify the password to meet the requirements, print a message that states why the modification failed.\n",
    "- If you were able to automatically modify the password, print a message that contains the new password.\n",
    "\n",
    "To test your password modification you can try the cases from the table below. Copy the initial password from the table and check if your modified password looks the same. Some of the impossible modifications assume that only the \"most common\" numeric replacements from the exercise are used. If you included more replacments, the modification might be possible anyway.  \n",
    "\n",
    "**It's perfectly fine if your password modification algorithm does not work for all of the last five examples from the table, these are some special edge cases to push the boundaries of the modification algorithm. If you want to improve your algorithm, make sure that you understand where/why the edge cases failed beforehand.**\n",
    "\n",
    "| initial password | modified password |\n",
    "|:----------------:|:-----------------:|\n",
    "|    \"password\"    |     \"P4ssword\"    |\n",
    "|     \"duck123\"    |  \"Duck123duck123\" |\n",
    "|    \"KONSTANZ\"    |     \"kON5TANZ\"    |\n",
    "|        \"A\"       |     \"4aAAAAAA\"    |\n",
    "|       \"123\"      |    not possible   |\n",
    "|    \"AB______\"    |    not possible   |\n",
    "|        \"\"        |    not possible   |\n",
    "|      \"otto\"      |    not possible   |"
   ]
  },
  {
   "cell_type": "code",
   "execution_count": 62,
   "id": "dda1b2ae-250d-4933-8b16-446ce70c36e5",
   "metadata": {
    "editable": true,
    "slideshow": {
     "slide_type": ""
    },
    "tags": []
   },
   "outputs": [],
   "source": [
    "# set up the LEET-speak replacements in a dictionary based on the suggested options in the exercise\n",
    "# the values must be strings since the password is a string that cannot contain any integers\n",
    "leet_replacements = dict(E=\"3\", S=\"5\", B=\"8\", I=\"1\", A=\"4\")"
   ]
  },
  {
   "cell_type": "code",
   "execution_count": 63,
   "id": "6ed69754-9d75-4ad6-921e-81a22b394893",
   "metadata": {
    "editable": true,
    "slideshow": {
     "slide_type": ""
    },
    "tags": []
   },
   "outputs": [
    {
     "name": "stdout",
     "output_type": "stream",
     "text": [
      "The password could be modified to fulfill all the requirements: H3llohello\n"
     ]
    }
   ],
   "source": [
    "# start the modification with some password\n",
    "password = \"hello\"\n",
    "\n",
    "# check the length requirement at the start since this affects the rest of the modification\n",
    "# this will multiply the initial string to repeat the password until len(password) >= required_length\n",
    "required_length = 8\n",
    "if len(password) < required_length and len(password) > 0:\n",
    "    password = password * int(1 + (required_length-1) / len(password))\n",
    "length_requirement = len(password) >= required_length\n",
    "\n",
    "# categorize the characters into three lists\n",
    "lower = [char for char in password if char.islower()]\n",
    "upper = [char for char in password if char.isupper()]\n",
    "numeric = [char for char in password if char.isnumeric()]\n",
    "\n",
    "# use boolean variables to store the status of the character requirements\n",
    "lower_requirement = len(lower) > 0\n",
    "upper_requirement = len(upper) > 0\n",
    "numeric_requirement = len(numeric) > 0\n",
    "\n",
    "# get a list of the characters to modify\n",
    "characters = [char for char in password]\n",
    "\n",
    "# handle the numeric requirement first since this can impact the alphabetic character requirements\n",
    "# the numeric replacement only makes sense if there are at least 3 alphabetic characters\n",
    "numeric_requirement = len(numeric) > 0\n",
    "if not numeric_requirement and (len(lower) + len(upper)) >= 3:\n",
    "    for i, char in enumerate(characters):\n",
    "        # replace an upper-case character if there is more than one in the password\n",
    "        if char.isupper() and len(upper) > 1 and char in leet_replacements:\n",
    "            characters[i] = leet_replacements[char]\n",
    "            numeric_requirement = True\n",
    "            break\n",
    "        # replace a lower-case character if there is more than one in the password\n",
    "        elif char.islower() and len(lower) > 1 and char.upper() in leet_replacements:\n",
    "            characters[i] = leet_replacements[char.upper()]\n",
    "            numeric_requirement = True\n",
    "            break\n",
    "\n",
    "# check the lower-case requirement and the initial number of upper-case characters\n",
    "if not lower_requirement and len(upper) > 1:\n",
    "    for i, char in enumerate(characters):\n",
    "        if char.isupper():\n",
    "            characters[i] = char.lower()\n",
    "            lower_requirement = True\n",
    "            break\n",
    "\n",
    "# check the upper-case requirement and the initial number of upper-case characters\n",
    "if not upper_requirement and len(lower) > 1:\n",
    "    for i, char in enumerate(characters):\n",
    "        if char.islower():\n",
    "            characters[i] = char.upper()\n",
    "            upper_requirement = True\n",
    "            break\n",
    "\n",
    "# check the individual requirements\n",
    "if not length_requirement:\n",
    "    print(\"The length of the password could not be increased above the required length.\")\n",
    "if not lower_requirement:\n",
    "    print(\"No lower-case character could be included in the password.\")\n",
    "if not upper_requirement:\n",
    "    print(\"No upper-case character could be included in the password.\")\n",
    "if not numeric_requirement:\n",
    "    print(\"No numeric character could be included in the password.\")\n",
    "\n",
    "# state the success of the modification if all requirements are fulfilled\n",
    "if length_requirement and lower_requirement and upper_requirement and numeric_requirement:\n",
    "    # join the list of characters to get the modified password as a string\n",
    "    modified_password = \"\".join(characters)\n",
    "    print(\"The password could be modified to fulfill all the requirements:\", modified_password)"
   ]
  },
  {
   "cell_type": "code",
   "execution_count": null,
   "id": "6a0fa3e2-a745-4c5f-977f-b9d591725fb9",
   "metadata": {
    "editable": true,
    "slideshow": {
     "slide_type": ""
    },
    "tags": []
   },
   "outputs": [],
   "source": []
  }
 ],
 "metadata": {
  "kernelspec": {
   "display_name": "konstanz2024",
   "language": "python",
   "name": "konstanz2024"
  },
  "language_info": {
   "codemirror_mode": {
    "name": "ipython",
    "version": 3
   },
   "file_extension": ".py",
   "mimetype": "text/x-python",
   "name": "python",
   "nbconvert_exporter": "python",
   "pygments_lexer": "ipython3",
   "version": "3.12.7"
  }
 },
 "nbformat": 4,
 "nbformat_minor": 5
}
