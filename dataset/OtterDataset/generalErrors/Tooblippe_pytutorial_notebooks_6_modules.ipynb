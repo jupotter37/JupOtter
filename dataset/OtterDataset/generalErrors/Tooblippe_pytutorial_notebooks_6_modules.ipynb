{
 "metadata": {},
 "nbformat": 3,
 "nbformat_minor": 0,
 "worksheets": [
  {
   "cells": [
    {
     "cell_type": "markdown",
     "metadata": {},
     "source": [
      "% Modules\n",
      "% \n",
      "% \n",
      "\n",
      "If you quit from the Python interpreter and enter it again, the\n",
      "definitions you have made (functions and variables) are lost. Therefore,\n",
      "if you want to write a somewhat longer program, you are better off using\n",
      "a text editor to prepare the input for the interpreter and running it\n",
      "with that file as input instead. This is known as creating a *script*.\n",
      "As your program gets longer, you may want to split it into several files\n",
      "for easier maintenance. You may also want to use a handy function that\n",
      "you've written in several programs without copying its definition into\n",
      "each program.\n",
      "\n",
      "To support this, Python has a way to put definitions in a file and use\n",
      "them in a script or in an interactive instance of the interpreter. Such\n",
      "a file is called a *module*; definitions from a module can be *imported*\n",
      "into other modules or into the *main* module (the collection of\n",
      "variables that you have access to in a script executed at the top level\n",
      "and in calculator mode).\n",
      "\n",
      "A module is a file containing Python definitions and statements. The\n",
      "file name is the module name with the suffix .py appended. Within a\n",
      "module, the module's name (as a string) is available as the value of the\n",
      "global variable `__name__`. For instance, use your favorite text editor\n",
      "to create a file called fibo.py in the current directory with the\n",
      "following contents:"
     ]
    },
    {
     "cell_type": "code",
     "collapsed": false,
     "input": [
      "# Fibonacci numbers module"
     ],
     "language": "python",
     "metadata": {},
     "outputs": []
    },
    {
     "cell_type": "code",
     "collapsed": false,
     "input": [
      "def fib(n):    # write Fibonacci series up to n\n",
      "    a, b = 0, 1\n",
      "    while b < n:\n",
      "        print b,\n",
      "        a, b = b, a+b"
     ],
     "language": "python",
     "metadata": {},
     "outputs": []
    },
    {
     "cell_type": "code",
     "collapsed": false,
     "input": [
      "def fib2(n): # return Fibonacci series up to n\n",
      "    result = []\n",
      "    a, b = 0, 1\n",
      "    while b < n:\n",
      "        result.append(b)\n",
      "        a, b = b, a+b\n",
      "    return result"
     ],
     "language": "python",
     "metadata": {},
     "outputs": []
    },
    {
     "cell_type": "markdown",
     "metadata": {},
     "source": [
      "Now enter the Python interpreter and import this module with the\n",
      "following command:"
     ]
    },
    {
     "cell_type": "code",
     "collapsed": false,
     "input": [
      ">>> import fibo"
     ],
     "language": "python",
     "metadata": {},
     "outputs": []
    },
    {
     "cell_type": "markdown",
     "metadata": {},
     "source": [
      "This does not enter the names of the functions defined in `fibo`\n",
      "directly in the current symbol table; it only enters the module name\n",
      "`fibo` there. Using the module name you can access the functions:"
     ]
    },
    {
     "cell_type": "code",
     "collapsed": false,
     "input": [
      ">>> fibo.fib(1000)\n",
      "1 1 2 3 5 8 13 21 34 55 89 144 233 377 610 987\n",
      ">>> fibo.fib2(100)\n",
      "[1, 1, 2, 3, 5, 8, 13, 21, 34, 55, 89]\n",
      ">>> fibo.__name__\n",
      "'fibo'"
     ],
     "language": "python",
     "metadata": {},
     "outputs": []
    },
    {
     "cell_type": "markdown",
     "metadata": {},
     "source": [
      "If you intend to use a function often you can assign it to a local name:"
     ]
    },
    {
     "cell_type": "code",
     "collapsed": false,
     "input": [
      ">>> fib = fibo.fib\n",
      ">>> fib(500)\n",
      "1 1 2 3 5 8 13 21 34 55 89 144 233 377"
     ],
     "language": "python",
     "metadata": {},
     "outputs": []
    },
    {
     "cell_type": "markdown",
     "metadata": {},
     "source": [
      "More on Modules\n",
      "===============\n",
      "\n",
      "A module can contain executable statements as well as function\n",
      "definitions. These statements are intended to initialize the module.\n",
      "They are executed only the *first* time the module name is encountered\n",
      "in an import statement. [^1] (They are also run if the file is executed\n",
      "as a script.)\n",
      "\n",
      "Each module has its own private symbol table, which is used as the\n",
      "global symbol table by all functions defined in the module. Thus, the\n",
      "author of a module can use global variables in the module without\n",
      "worrying about accidental clashes with a user's global variables. On the\n",
      "other hand, if you know what you are doing you can touch a module's\n",
      "global variables with the same notation used to refer to its functions,\n",
      "`modname.itemname`.\n",
      "\n",
      "Modules can import other modules. It is customary but not required to\n",
      "place all import statements at the beginning of a module (or script, for\n",
      "that matter). The imported module names are placed in the importing\n",
      "module's global symbol table.\n",
      "\n",
      "There is a variant of the import statement that imports names from a\n",
      "module directly into the importing module's symbol table. For example:"
     ]
    },
    {
     "cell_type": "code",
     "collapsed": false,
     "input": [
      ">>> from fibo import fib, fib2\n",
      ">>> fib(500)\n",
      "1 1 2 3 5 8 13 21 34 55 89 144 233 377"
     ],
     "language": "python",
     "metadata": {},
     "outputs": []
    },
    {
     "cell_type": "markdown",
     "metadata": {},
     "source": [
      "This does not introduce the module name from which the imports are taken\n",
      "in the local symbol table (so in the example, `fibo` is not defined).\n",
      "\n",
      "There is even a variant to import all names that a module defines:"
     ]
    },
    {
     "cell_type": "code",
     "collapsed": false,
     "input": [
      ">>> from fibo import *\n",
      ">>> fib(500)\n",
      "1 1 2 3 5 8 13 21 34 55 89 144 233 377"
     ],
     "language": "python",
     "metadata": {},
     "outputs": []
    },
    {
     "cell_type": "markdown",
     "metadata": {},
     "source": [
      "This imports all names except those beginning with an underscore (`_`).\n",
      "\n",
      "Note that in general the practice of importing `*` from a module or\n",
      "package is frowned upon, since it often causes poorly readable code.\n",
      "However, it is okay to use it to save typing in interactive sessions.\n",
      "\n",
      "> **note**\n",
      ">\n",
      "> For efficiency reasons, each module is only imported once per\n",
      "> interpreter session. Therefore, if you change your modules, you must\n",
      "> restart the interpreter -- or, if it's just one module you want to\n",
      "> test interactively, use reload, e.g. `reload(modulename)`.\n",
      "\n",
      "Executing modules as scripts\n",
      "----------------------------\n",
      "\n",
      "When you run a Python module with :"
     ]
    },
    {
     "cell_type": "code",
     "collapsed": false,
     "input": [
      "python fibo.py <arguments>"
     ],
     "language": "python",
     "metadata": {},
     "outputs": []
    },
    {
     "cell_type": "markdown",
     "metadata": {},
     "source": [
      "the code in the module will be executed, just as if you imported it, but\n",
      "with the `__name__` set to `\"__main__\"`. That means that by adding this\n",
      "code at the end of your module:"
     ]
    },
    {
     "cell_type": "code",
     "collapsed": false,
     "input": [
      "if __name__ == \"__main__\":\n",
      "    import sys\n",
      "    fib(int(sys.argv[1]))"
     ],
     "language": "python",
     "metadata": {},
     "outputs": []
    },
    {
     "cell_type": "markdown",
     "metadata": {},
     "source": [
      "you can make the file usable as a script as well as an importable\n",
      "module, because the code that parses the command line only runs if the\n",
      "module is executed as the \"main\" file:"
     ]
    },
    {
     "cell_type": "code",
     "collapsed": false,
     "input": [
      "$ python fibo.py 50\n",
      "1 1 2 3 5 8 13 21 34"
     ],
     "language": "python",
     "metadata": {},
     "outputs": []
    },
    {
     "cell_type": "markdown",
     "metadata": {},
     "source": [
      "If the module is imported, the code is not run:"
     ]
    },
    {
     "cell_type": "code",
     "collapsed": false,
     "input": [
      ">>> import fibo\n",
      ">>>"
     ],
     "language": "python",
     "metadata": {},
     "outputs": []
    },
    {
     "cell_type": "markdown",
     "metadata": {},
     "source": [
      "This is often used either to provide a convenient user interface to a\n",
      "module, or for testing purposes (running the module as a script executes\n",
      "a test suite).\n",
      "\n",
      "The Module Search Path\n",
      "----------------------\n",
      "\n",
      "When a module named spam is imported, the interpreter first searches for\n",
      "a built-in module with that name. If not found, it then searches for a\n",
      "file named spam.py in a list of directories given by the variable\n",
      "sys.path. sys.path is initialized from these locations:\n",
      "\n",
      "-   the directory containing the input script (or the current"
     ]
    },
    {
     "cell_type": "code",
     "collapsed": false,
     "input": [
      "directory)."
     ],
     "language": "python",
     "metadata": {},
     "outputs": []
    },
    {
     "cell_type": "markdown",
     "metadata": {},
     "source": [
      "-   PYTHONPATH (a list of directory names, with the same syntax as the"
     ]
    },
    {
     "cell_type": "code",
     "collapsed": false,
     "input": [
      "shell variable PATH)."
     ],
     "language": "python",
     "metadata": {},
     "outputs": []
    },
    {
     "cell_type": "markdown",
     "metadata": {},
     "source": [
      "-   the installation-dependent default.\n",
      "\n",
      "After initialization, Python programs can modify sys.path. The directory\n",
      "containing the script being run is placed at the beginning of the search\n",
      "path, ahead of the standard library path. This means that scripts in\n",
      "that directory will be loaded instead of modules of the same name in the\n",
      "library directory. This is an error unless the replacement is intended.\n",
      "See section tut-standardmodules for more information.\n",
      "\n",
      "\"Compiled\" Python files\n",
      "-----------------------\n",
      "\n",
      "As an important speed-up of the start-up time for short programs that\n",
      "use a lot of standard modules, if a file called spam.pyc exists in the\n",
      "directory where spam.py is found, this is assumed to contain an\n",
      "already-\"byte-compiled\" version of the module spam. The modification\n",
      "time of the version of spam.py used to create spam.pyc is recorded in\n",
      "spam.pyc, and the .pyc file is ignored if these don't match.\n",
      "\n",
      "Normally, you don't need to do anything to create the spam.pyc file.\n",
      "Whenever spam.py is successfully compiled, an attempt is made to write\n",
      "the compiled version to spam.pyc. It is not an error if this attempt\n",
      "fails; if for any reason the file is not written completely, the\n",
      "resulting spam.pyc file will be recognized as invalid and thus ignored\n",
      "later. The contents of the spam.pyc file are platform independent, so a\n",
      "Python module directory can be shared by machines of different\n",
      "architectures.\n",
      "\n",
      "Some tips for experts:\n",
      "\n",
      "-   When the Python interpreter is invoked with the -O flag, optimized"
     ]
    },
    {
     "cell_type": "code",
     "collapsed": false,
     "input": [
      "code is generated and stored in .pyo files. The optimizer currently\n",
      "doesn't help much; it only removes assert statements. When -O is\n",
      "used, *all* bytecode is optimized; `.pyc` files are ignored and\n",
      "`.py` files are compiled to optimized bytecode."
     ],
     "language": "python",
     "metadata": {},
     "outputs": []
    },
    {
     "cell_type": "markdown",
     "metadata": {},
     "source": [
      "-   Passing two -O flags to the Python interpreter (-OO) will cause the"
     ]
    },
    {
     "cell_type": "code",
     "collapsed": false,
     "input": [
      "bytecode compiler to perform optimizations that could in some rare\n",
      "cases result in malfunctioning programs. Currently only `__doc__`\n",
      "strings are removed from the bytecode, resulting in more compact\n",
      ".pyo files. Since some programs may rely on having these available,\n",
      "you should only use this option if you know what you're doing."
     ],
     "language": "python",
     "metadata": {},
     "outputs": []
    },
    {
     "cell_type": "markdown",
     "metadata": {},
     "source": [
      "-   A program doesn't run any faster when it is read from a .pyc or .pyo"
     ]
    },
    {
     "cell_type": "code",
     "collapsed": false,
     "input": [
      "file than when it is read from a .py file; the only thing that's\n",
      "faster about .pyc or .pyo files is the speed with which they are\n",
      "loaded."
     ],
     "language": "python",
     "metadata": {},
     "outputs": []
    },
    {
     "cell_type": "markdown",
     "metadata": {},
     "source": [
      "-   When a script is run by giving its name on the command line, the"
     ]
    },
    {
     "cell_type": "code",
     "collapsed": false,
     "input": [
      "bytecode for the script is never written to a .pyc or .pyo file.\n",
      "Thus, the startup time of a script may be reduced by moving most of\n",
      "its code to a module and having a small bootstrap script that\n",
      "imports that module. It is also possible to name a .pyc or .pyo file\n",
      "directly on the command line."
     ],
     "language": "python",
     "metadata": {},
     "outputs": []
    },
    {
     "cell_type": "markdown",
     "metadata": {},
     "source": [
      "-   It is possible to have a file called spam.pyc (or spam.pyo when -O"
     ]
    },
    {
     "cell_type": "code",
     "collapsed": false,
     "input": [
      "is used) without a file spam.py for the same module. This can be\n",
      "used to distribute a library of Python code in a form that is\n",
      "moderately hard to reverse engineer."
     ],
     "language": "python",
     "metadata": {},
     "outputs": []
    },
    {
     "cell_type": "markdown",
     "metadata": {},
     "source": [
      "-   The module compileall can create .pyc files (or .pyo files when -O"
     ]
    },
    {
     "cell_type": "code",
     "collapsed": false,
     "input": [
      "is used) for all modules in a directory."
     ],
     "language": "python",
     "metadata": {},
     "outputs": []
    },
    {
     "cell_type": "markdown",
     "metadata": {},
     "source": [
      "Standard Modules\n",
      "================\n",
      "\n",
      "Python comes with a library of standard modules, described in a separate\n",
      "document, the Python Library Reference (\"Library Reference\" hereafter).\n",
      "Some modules are built into the interpreter; these provide access to\n",
      "operations that are not part of the core of the language but are\n",
      "nevertheless built in, either for efficiency or to provide access to\n",
      "operating system primitives such as system calls. The set of such\n",
      "modules is a configuration option which also depends on the underlying\n",
      "platform. For example, the winreg module is only provided on Windows\n",
      "systems. One particular module deserves some attention: sys, which is\n",
      "built into every Python interpreter. The variables `sys.ps1` and\n",
      "`sys.ps2` define the strings used as primary and secondary prompts:"
     ]
    },
    {
     "cell_type": "code",
     "collapsed": false,
     "input": [
      ">>> import sys\n",
      ">>> sys.ps1\n",
      "'>>> '\n",
      ">>> sys.ps2\n",
      "'... '\n",
      ">>> sys.ps1 = 'C> '\n",
      "C> print 'Yuck!'\n",
      "Yuck!\n",
      "C>"
     ],
     "language": "python",
     "metadata": {},
     "outputs": []
    },
    {
     "cell_type": "markdown",
     "metadata": {},
     "source": [
      "These two variables are only defined if the interpreter is in\n",
      "interactive mode.\n",
      "\n",
      "The variable `sys.path` is a list of strings that determines the\n",
      "interpreter's search path for modules. It is initialized to a default\n",
      "path taken from the environment variable PYTHONPATH, or from a built-in\n",
      "default if PYTHONPATH is not set. You can modify it using standard list\n",
      "operations:"
     ]
    },
    {
     "cell_type": "code",
     "collapsed": false,
     "input": [
      ">>> import sys\n",
      ">>> sys.path.append('/ufs/guido/lib/python')"
     ],
     "language": "python",
     "metadata": {},
     "outputs": []
    },
    {
     "cell_type": "markdown",
     "metadata": {},
     "source": [
      "The dir Function\n",
      "================\n",
      "\n",
      "The built-in function dir is used to find out which names a module\n",
      "defines. It returns a sorted list of strings:"
     ]
    },
    {
     "cell_type": "code",
     "collapsed": false,
     "input": [
      ">>> import fibo, sys\n",
      ">>> dir(fibo)\n",
      "['__name__', 'fib', 'fib2']\n",
      ">>> dir(sys)  # doctest: +NORMALIZE_WHITESPACE\n",
      "['__displayhook__', '__doc__', '__excepthook__', '__name__', '__package__',\n",
      " '__stderr__', '__stdin__', '__stdout__', '_clear_type_cache',\n",
      " '_current_frames', '_getframe', '_mercurial', 'api_version', 'argv',\n",
      " 'builtin_module_names', 'byteorder', 'call_tracing', 'callstats',\n",
      " 'copyright', 'displayhook', 'dont_write_bytecode', 'exc_clear', 'exc_info',\n",
      " 'exc_traceback', 'exc_type', 'exc_value', 'excepthook', 'exec_prefix',\n",
      " 'executable', 'exit', 'flags', 'float_info', 'float_repr_style',\n",
      " 'getcheckinterval', 'getdefaultencoding', 'getdlopenflags',\n",
      " 'getfilesystemencoding', 'getobjects', 'getprofile', 'getrecursionlimit',\n",
      " 'getrefcount', 'getsizeof', 'gettotalrefcount', 'gettrace', 'hexversion',\n",
      " 'long_info', 'maxint', 'maxsize', 'maxunicode', 'meta_path', 'modules',\n",
      " 'path', 'path_hooks', 'path_importer_cache', 'platform', 'prefix', 'ps1',\n",
      " 'py3kwarning', 'setcheckinterval', 'setdlopenflags', 'setprofile',\n",
      " 'setrecursionlimit', 'settrace', 'stderr', 'stdin', 'stdout', 'subversion',\n",
      " 'version', 'version_info', 'warnoptions']"
     ],
     "language": "python",
     "metadata": {},
     "outputs": []
    },
    {
     "cell_type": "markdown",
     "metadata": {},
     "source": [
      "Without arguments, dir lists the names you have defined currently:"
     ]
    },
    {
     "cell_type": "code",
     "collapsed": false,
     "input": [
      ">>> a = [1, 2, 3, 4, 5]\n",
      ">>> import fibo\n",
      ">>> fib = fibo.fib\n",
      ">>> dir()\n",
      "['__builtins__', '__name__', '__package__', 'a', 'fib', 'fibo', 'sys']"
     ],
     "language": "python",
     "metadata": {},
     "outputs": []
    },
    {
     "cell_type": "markdown",
     "metadata": {},
     "source": [
      "Note that it lists all types of names: variables, modules, functions,\n",
      "etc.\n",
      "\n",
      "dir does not list the names of built-in functions and variables. If you\n",
      "want a list of those, they are defined in the standard module\n",
      "\\_\\_builtin\\_\\_:"
     ]
    },
    {
     "cell_type": "code",
     "collapsed": false,
     "input": [
      ">>> import __builtin__\n",
      ">>> dir(__builtin__)  # doctest: +NORMALIZE_WHITESPACE\n",
      "['ArithmeticError', 'AssertionError', 'AttributeError', 'BaseException',\n",
      " 'BufferError', 'BytesWarning', 'DeprecationWarning', 'EOFError',\n",
      " 'Ellipsis', 'EnvironmentError', 'Exception', 'False', 'FloatingPointError',\n",
      " 'FutureWarning', 'GeneratorExit', 'IOError', 'ImportError', 'ImportWarning',\n",
      " 'IndentationError', 'IndexError', 'KeyError', 'KeyboardInterrupt',\n",
      " 'LookupError', 'MemoryError', 'NameError', 'None', 'NotImplemented',\n",
      " 'NotImplementedError', 'OSError', 'OverflowError',\n",
      " 'PendingDeprecationWarning', 'ReferenceError', 'RuntimeError',\n",
      " 'RuntimeWarning', 'StandardError', 'StopIteration', 'SyntaxError',\n",
      " 'SyntaxWarning', 'SystemError', 'SystemExit', 'TabError', 'True',\n",
      " 'TypeError', 'UnboundLocalError', 'UnicodeDecodeError',\n",
      " 'UnicodeEncodeError', 'UnicodeError', 'UnicodeTranslateError',\n",
      " 'UnicodeWarning', 'UserWarning', 'ValueError', 'Warning',\n",
      " 'ZeroDivisionError', '_', '__debug__', '__doc__', '__import__',\n",
      " '__name__', '__package__', 'abs', 'all', 'any', 'apply', 'basestring',\n",
      " 'bin', 'bool', 'buffer', 'bytearray', 'bytes', 'callable', 'chr',\n",
      " 'classmethod', 'cmp', 'coerce', 'compile', 'complex', 'copyright',\n",
      " 'credits', 'delattr', 'dict', 'dir', 'divmod', 'enumerate', 'eval',\n",
      " 'execfile', 'exit', 'file', 'filter', 'float', 'format', 'frozenset',\n",
      " 'getattr', 'globals', 'hasattr', 'hash', 'help', 'hex', 'id', 'input',\n",
      " 'int', 'intern', 'isinstance', 'issubclass', 'iter', 'len', 'license',\n",
      " 'list', 'locals', 'long', 'map', 'max', 'memoryview', 'min', 'next',\n",
      " 'object', 'oct', 'open', 'ord', 'pow', 'print', 'property', 'quit',\n",
      " 'range', 'raw_input', 'reduce', 'reload', 'repr', 'reversed', 'round',\n",
      " 'set', 'setattr', 'slice', 'sorted', 'staticmethod', 'str', 'sum', 'super',\n",
      " 'tuple', 'type', 'unichr', 'unicode', 'vars', 'xrange', 'zip']"
     ],
     "language": "python",
     "metadata": {},
     "outputs": []
    },
    {
     "cell_type": "markdown",
     "metadata": {},
     "source": [
      "Packages\n",
      "========\n",
      "\n",
      "Packages are a way of structuring Python's module namespace by using\n",
      "\"dotted module names\". For example, the module name A.B designates a\n",
      "submodule named `B` in a package named `A`. Just like the use of modules\n",
      "saves the authors of different modules from having to worry about each\n",
      "other's global variable names, the use of dotted module names saves the\n",
      "authors of multi-module packages like NumPy or the Python Imaging\n",
      "Library from having to worry about each other's module names.\n",
      "\n",
      "Suppose you want to design a collection of modules (a \"package\") for the\n",
      "uniform handling of sound files and sound data. There are many different\n",
      "sound file formats (usually recognized by their extension, for example:\n",
      ".wav, .aiff, .au), so you may need to create and maintain a growing\n",
      "collection of modules for the conversion between the various file\n",
      "formats. There are also many different operations you might want to\n",
      "perform on sound data (such as mixing, adding echo, applying an\n",
      "equalizer function, creating an artificial stereo effect), so in\n",
      "addition you will be writing a never-ending stream of modules to perform\n",
      "these operations. Here's a possible structure for your package\n",
      "(expressed in terms of a hierarchical filesystem):"
     ]
    },
    {
     "cell_type": "code",
     "collapsed": false,
     "input": [
      "sound/                          Top-level package\n",
      "      __init__.py               Initialize the sound package\n",
      "      formats/                  Subpackage for file format conversions\n",
      "              __init__.py\n",
      "              wavread.py\n",
      "              wavwrite.py\n",
      "              aiffread.py\n",
      "              aiffwrite.py\n",
      "              auread.py\n",
      "              auwrite.py\n",
      "              ...\n",
      "      effects/                  Subpackage for sound effects\n",
      "              __init__.py\n",
      "              echo.py\n",
      "              surround.py\n",
      "              reverse.py\n",
      "              ...\n",
      "      filters/                  Subpackage for filters\n",
      "              __init__.py\n",
      "              equalizer.py\n",
      "              vocoder.py\n",
      "              karaoke.py\n",
      "              ..."
     ],
     "language": "python",
     "metadata": {},
     "outputs": []
    },
    {
     "cell_type": "markdown",
     "metadata": {},
     "source": [
      "When importing the package, Python searches through the directories on\n",
      "`sys.path` looking for the package subdirectory.\n",
      "\n",
      "The \\_\\_init\\_\\_.py files are required to make Python treat the\n",
      "directories as containing packages; this is done to prevent directories\n",
      "with a common name, such as `string`, from unintentionally hiding valid\n",
      "modules that occur later on the module search path. In the simplest\n",
      "case, \\_\\_init\\_\\_.py can just be an empty file, but it can also execute\n",
      "initialization code for the package or set the `__all__` variable,\n",
      "described later.\n",
      "\n",
      "Users of the package can import individual modules from the package, for\n",
      "example:"
     ]
    },
    {
     "cell_type": "code",
     "collapsed": false,
     "input": [
      "import sound.effects.echo"
     ],
     "language": "python",
     "metadata": {},
     "outputs": []
    },
    {
     "cell_type": "markdown",
     "metadata": {},
     "source": [
      "This loads the submodule sound.effects.echo. It must be referenced with\n",
      "its full name. :"
     ]
    },
    {
     "cell_type": "code",
     "collapsed": false,
     "input": [
      "sound.effects.echo.echofilter(input, output, delay=0.7, atten=4)"
     ],
     "language": "python",
     "metadata": {},
     "outputs": []
    },
    {
     "cell_type": "markdown",
     "metadata": {},
     "source": [
      "An alternative way of importing the submodule is:"
     ]
    },
    {
     "cell_type": "code",
     "collapsed": false,
     "input": [
      "from sound.effects import echo"
     ],
     "language": "python",
     "metadata": {},
     "outputs": []
    },
    {
     "cell_type": "markdown",
     "metadata": {},
     "source": [
      "This also loads the submodule echo, and makes it available without its\n",
      "package prefix, so it can be used as follows:"
     ]
    },
    {
     "cell_type": "code",
     "collapsed": false,
     "input": [
      "echo.echofilter(input, output, delay=0.7, atten=4)"
     ],
     "language": "python",
     "metadata": {},
     "outputs": []
    },
    {
     "cell_type": "markdown",
     "metadata": {},
     "source": [
      "Yet another variation is to import the desired function or variable\n",
      "directly:"
     ]
    },
    {
     "cell_type": "code",
     "collapsed": false,
     "input": [
      "from sound.effects.echo import echofilter"
     ],
     "language": "python",
     "metadata": {},
     "outputs": []
    },
    {
     "cell_type": "markdown",
     "metadata": {},
     "source": [
      "Again, this loads the submodule echo, but this makes its function\n",
      "echofilter directly available:"
     ]
    },
    {
     "cell_type": "code",
     "collapsed": false,
     "input": [
      "echofilter(input, output, delay=0.7, atten=4)"
     ],
     "language": "python",
     "metadata": {},
     "outputs": []
    },
    {
     "cell_type": "markdown",
     "metadata": {},
     "source": [
      "Note that when using `from package import item`, the item can be either\n",
      "a submodule (or subpackage) of the package, or some other name defined\n",
      "in the package, like a function, class or variable. The `import`\n",
      "statement first tests whether the item is defined in the package; if\n",
      "not, it assumes it is a module and attempts to load it. If it fails to\n",
      "find it, an ImportError exception is raised.\n",
      "\n",
      "Contrarily, when using syntax like `import item.subitem.subsubitem`,\n",
      "each item except for the last must be a package; the last item can be a\n",
      "module or a package but can't be a class or function or variable defined\n",
      "in the previous item.\n",
      "\n",
      "Importing \\* From a Package\n",
      "---------------------------\n",
      "\n",
      "Now what happens when the user writes `from sound.effects import *`?\n",
      "Ideally, one would hope that this somehow goes out to the filesystem,\n",
      "finds which submodules are present in the package, and imports them all.\n",
      "This could take a long time and importing sub-modules might have\n",
      "unwanted side-effects that should only happen when the sub-module is\n",
      "explicitly imported.\n",
      "\n",
      "The only solution is for the package author to provide an explicit index\n",
      "of the package. The import statement uses the following convention: if a\n",
      "package's \\_\\_init\\_\\_.py code defines a list named `__all__`, it is\n",
      "taken to be the list of module names that should be imported when\n",
      "`from package import *` is encountered. It is up to the package author\n",
      "to keep this list up-to-date when a new version of the package is\n",
      "released. Package authors may also decide not to support it, if they\n",
      "don't see a use for importing \\* from their package. For example, the\n",
      "file sound/effects/\\_\\_init\\_\\_.py could contain the following code:"
     ]
    },
    {
     "cell_type": "code",
     "collapsed": false,
     "input": [
      "__all__ = [\"echo\", \"surround\", \"reverse\"]"
     ],
     "language": "python",
     "metadata": {},
     "outputs": []
    },
    {
     "cell_type": "markdown",
     "metadata": {},
     "source": [
      "This would mean that `from sound.effects import *` would import the\n",
      "three named submodules of the sound package.\n",
      "\n",
      "If `__all__` is not defined, the statement `from sound.effects import *`\n",
      "does *not* import all submodules from the package sound.effects into the\n",
      "current namespace; it only ensures that the package sound.effects has\n",
      "been imported (possibly running any initialization code in\n",
      "\\_\\_init\\_\\_.py) and then imports whatever names are defined in the\n",
      "package. This includes any names defined (and submodules explicitly\n",
      "loaded) by \\_\\_init\\_\\_.py. It also includes any submodules of the\n",
      "package that were explicitly loaded by previous import statements.\n",
      "Consider this code:"
     ]
    },
    {
     "cell_type": "code",
     "collapsed": false,
     "input": [
      "import sound.effects.echo\n",
      "import sound.effects.surround\n",
      "from sound.effects import *"
     ],
     "language": "python",
     "metadata": {},
     "outputs": []
    },
    {
     "cell_type": "markdown",
     "metadata": {},
     "source": [
      "In this example, the echo and surround modules are imported in the\n",
      "current namespace because they are defined in the sound.effects package\n",
      "when the `from...import` statement is executed. (This also works when\n",
      "`__all__` is defined.)\n",
      "\n",
      "Although certain modules are designed to export only names that follow\n",
      "certain patterns when you use `import *`, it is still considered bad\n",
      "practise in production code.\n",
      "\n",
      "Remember, there is nothing wrong with using\n",
      "`from Package import specific_submodule`! In fact, this is the\n",
      "recommended notation unless the importing module needs to use submodules\n",
      "with the same name from different packages.\n",
      "\n",
      "Intra-package References\n",
      "------------------------\n",
      "\n",
      "The submodules often need to refer to each other. For example, the\n",
      "surround module might use the echo module. In fact, such references are\n",
      "so common that the import statement first looks in the containing\n",
      "package before looking in the standard module search path. Thus, the\n",
      "surround module can simply use `import echo` or\n",
      "`from echo import echofilter`. If the imported module is not found in\n",
      "the current package (the package of which the current module is a\n",
      "submodule), the import statement looks for a top-level module with the\n",
      "given name.\n",
      "\n",
      "When packages are structured into subpackages (as with the sound package\n",
      "in the example), you can use absolute imports to refer to submodules of\n",
      "siblings packages. For example, if the module sound.filters.vocoder\n",
      "needs to use the echo module in the sound.effects package, it can use\n",
      "`from sound.effects import echo`.\n",
      "\n",
      "Starting with Python 2.5, in addition to the implicit relative imports\n",
      "described above, you can write explicit relative imports with the\n",
      "`from module import name` form of import statement. These explicit\n",
      "relative imports use leading dots to indicate the current and parent\n",
      "packages involved in the relative import. From the surround module for\n",
      "example, you might use:"
     ]
    },
    {
     "cell_type": "code",
     "collapsed": false,
     "input": [
      "from . import echo\n",
      "from .. import formats\n",
      "from ..filters import equalizer"
     ],
     "language": "python",
     "metadata": {},
     "outputs": []
    },
    {
     "cell_type": "markdown",
     "metadata": {},
     "source": [
      "Note that both explicit and implicit relative imports are based on the\n",
      "name of the current module. Since the name of the main module is always\n",
      "`\"__main__\"`, modules intended for use as the main module of a Python\n",
      "application should always use absolute imports.\n",
      "\n",
      "Packages in Multiple Directories\n",
      "--------------------------------\n",
      "\n",
      "Packages support one more special attribute, \\_\\_path\\_\\_. This is\n",
      "initialized to be a list containing the name of the directory holding\n",
      "the package's \\_\\_init\\_\\_.py before the code in that file is executed.\n",
      "This variable can be modified; doing so affects future searches for\n",
      "modules and subpackages contained in the package.\n",
      "\n",
      "While this feature is not often needed, it can be used to extend the set\n",
      "of modules found in a package.\n",
      "\n",
      "**Footnotes**\n",
      "\n",
      "[^1]: In fact function definitions are also 'statements' that are"
     ]
    },
    {
     "cell_type": "code",
     "collapsed": false,
     "input": [
      "'executed'; the execution of a module-level function definition\n",
      "enters the function name in the module's global symbol table."
     ],
     "language": "python",
     "metadata": {},
     "outputs": []
    }
   ],
   "metadata": {}
  }
 ]
}