{
 "cells": [
  {
   "cell_type": "markdown",
   "metadata": {},
   "source": [
    "# Introduction\n",
    "\n",
    "This notebook goes over the very basics of Python syntax.  This is a [Jupyter](http://jupyter.org/) notebook, which combines code, documentation (in the form of [Markdown](https://github.com/adam-p/markdown-here/wiki/Markdown-Cheatsheet)), and results into one convenient place, running within your browser.\n",
    "\n",
    "\n",
    "## Python Basics \n",
    "\n",
    "Python, being an interpreted, dynamically-typed, and overall very forgiving language, allows us to start writing simple stuff like:"
   ]
  },
  {
   "cell_type": "code",
   "execution_count": null,
   "metadata": {
    "collapsed": true
   },
   "outputs": [],
   "source": [
    "x = 2"
   ]
  },
  {
   "cell_type": "markdown",
   "metadata": {},
   "source": [
    "Once we've run the cell above, we can then simply run `x`, and see the value stored within that variable:"
   ]
  },
  {
   "cell_type": "code",
   "execution_count": null,
   "metadata": {},
   "outputs": [],
   "source": [
    "x"
   ]
  },
  {
   "cell_type": "markdown",
   "metadata": {},
   "source": [
    "We can also modify values; cells are all modifying the same global state.  `x` in the cell below is the same `x` as the cell above:"
   ]
  },
  {
   "cell_type": "code",
   "execution_count": null,
   "metadata": {},
   "outputs": [],
   "source": [
    "x += 1\n",
    "x"
   ]
  },
  {
   "cell_type": "markdown",
   "metadata": {},
   "source": [
    "In order to see results, just typing `x` as the last line within a cell isn't very flexible, so let's learn how to call our first function:"
   ]
  },
  {
   "cell_type": "code",
   "execution_count": null,
   "metadata": {},
   "outputs": [],
   "source": [
    "print(x)\n",
    "print(x+1)"
   ]
  },
  {
   "cell_type": "markdown",
   "metadata": {},
   "source": [
    "We can also print multiple things by passing multiple arguments to `print()`:"
   ]
  },
  {
   "cell_type": "code",
   "execution_count": 25,
   "metadata": {},
   "outputs": [
    {
     "name": "stdout",
     "output_type": "stream",
     "text": [
      "10 11\n"
     ]
    }
   ],
   "source": [
    "print(x, x+1)"
   ]
  },
  {
   "cell_type": "markdown",
   "metadata": {},
   "source": [
    "Python has multiple different \"kinds\" of data. We'll start with the most basic, what are called POD types, or \"Plain 'Ole Data\" types, such as numbers:"
   ]
  },
  {
   "cell_type": "code",
   "execution_count": 26,
   "metadata": {},
   "outputs": [
    {
     "name": "stdout",
     "output_type": "stream",
     "text": [
      "15\n",
      "9\n",
      "36\n",
      "4.0\n"
     ]
    }
   ],
   "source": [
    "# We'll define two different numbers, and combine them every which way\n",
    "x = 12\n",
    "y = 3\n",
    "\n",
    "print(x + y)\n",
    "print(x - y)\n",
    "print(x * y)\n",
    "print(x / y)"
   ]
  },
  {
   "cell_type": "code",
   "execution_count": 30,
   "metadata": {},
   "outputs": [
    {
     "name": "stdout",
     "output_type": "stream",
     "text": [
      "1\n"
     ]
    }
   ],
   "source": [
    "x = 1.9\n",
    "print(int(x))"
   ]
  },
  {
   "cell_type": "code",
   "execution_count": null,
   "metadata": {
    "collapsed": true
   },
   "outputs": [],
   "source": []
  },
  {
   "cell_type": "markdown",
   "metadata": {},
   "source": [
    "Notice how that last line is printing out differently than the others; it's got a `.0` at the end.  This is because Python has, internally, switched over from using an integer representation for the number to a floating-point representation.  More on that later, for now don't worry about it.\n",
    "\n",
    "## Strings\n",
    "\n",
    "Strings are text, we create string literals using quotes, either single or double-quotes, it doesn't matter you just have to be consistent:"
   ]
  },
  {
   "cell_type": "code",
   "execution_count": 31,
   "metadata": {},
   "outputs": [
    {
     "name": "stdout",
     "output_type": "stream",
     "text": [
      "Hello, World!\n",
      "こんにちは世界\n",
      "你好世界\n"
     ]
    }
   ],
   "source": [
    "english = \"Hello, World!\"\n",
    "japanese = \"こんにちは世界\"\n",
    "chinese = \"你好世界\"\n",
    "\n",
    "print(english)\n",
    "print(japanese)\n",
    "print(chinese)"
   ]
  },
  {
   "cell_type": "markdown",
   "metadata": {},
   "source": [
    "We also have operations we can perform on strings, such as `+` to concatenate two strings together:"
   ]
  },
  {
   "cell_type": "code",
   "execution_count": 32,
   "metadata": {},
   "outputs": [
    {
     "name": "stdout",
     "output_type": "stream",
     "text": [
      "Hello, World!こんにちは世界\n"
     ]
    }
   ],
   "source": [
    "ej = english + japanese\n",
    "print(ej)"
   ]
  },
  {
   "cell_type": "markdown",
   "metadata": {},
   "source": [
    "That doesn't look so great, it's all smashed together, so let's add a space in between:"
   ]
  },
  {
   "cell_type": "code",
   "execution_count": 33,
   "metadata": {},
   "outputs": [
    {
     "name": "stdout",
     "output_type": "stream",
     "text": [
      "Hello, World! こんにちは世界\n"
     ]
    }
   ],
   "source": [
    "ej = english + \" \" + japanese\n",
    "print(ej)"
   ]
  },
  {
   "cell_type": "markdown",
   "metadata": {},
   "source": [
    "## Control Flow\n",
    "\n",
    "Control flow is how we control how the computer executes our code.  The simplest expression of this is the `if` statement:"
   ]
  },
  {
   "cell_type": "code",
   "execution_count": 35,
   "metadata": {},
   "outputs": [
    {
     "name": "stdout",
     "output_type": "stream",
     "text": [
      "x is large\n"
     ]
    }
   ],
   "source": [
    "x = 500\n",
    "\n",
    "if x > 6:\n",
    "    print(\"x is large\")\n",
    "else:\n",
    "    print(\"x is small\")"
   ]
  },
  {
   "cell_type": "markdown",
   "metadata": {},
   "source": [
    "Note some interesting things about Python: indentation is important!  That colon after `x > 6` is important!  Without it, things don't look so great:"
   ]
  },
  {
   "cell_type": "code",
   "execution_count": 36,
   "metadata": {},
   "outputs": [
    {
     "ename": "SyntaxError",
     "evalue": "invalid syntax (<ipython-input-36-bc048edbfe34>, line 1)",
     "output_type": "error",
     "traceback": [
      "\u001b[0;36m  File \u001b[0;32m\"<ipython-input-36-bc048edbfe34>\"\u001b[0;36m, line \u001b[0;32m1\u001b[0m\n\u001b[0;31m    if x > 6\u001b[0m\n\u001b[0m            ^\u001b[0m\n\u001b[0;31mSyntaxError\u001b[0m\u001b[0;31m:\u001b[0m invalid syntax\n"
     ]
    }
   ],
   "source": [
    "if x > 6\n",
    "    print(\"x is large\")"
   ]
  },
  {
   "cell_type": "code",
   "execution_count": 37,
   "metadata": {},
   "outputs": [
    {
     "ename": "IndentationError",
     "evalue": "expected an indented block (<ipython-input-37-3e60f721a562>, line 2)",
     "output_type": "error",
     "traceback": [
      "\u001b[0;36m  File \u001b[0;32m\"<ipython-input-37-3e60f721a562>\"\u001b[0;36m, line \u001b[0;32m2\u001b[0m\n\u001b[0;31m    print(\"x is large\")\u001b[0m\n\u001b[0m        ^\u001b[0m\n\u001b[0;31mIndentationError\u001b[0m\u001b[0;31m:\u001b[0m expected an indented block\n"
     ]
    }
   ],
   "source": [
    "if x > 6:\n",
    "print(\"x is large\")"
   ]
  },
  {
   "cell_type": "code",
   "execution_count": 39,
   "metadata": {},
   "outputs": [],
   "source": [
    "x = 10\n",
    "if x < 0:\n",
    "    print(\"inside\")\n",
    "    print(\"outside\")"
   ]
  },
  {
   "cell_type": "code",
   "execution_count": null,
   "metadata": {
    "collapsed": true
   },
   "outputs": [],
   "source": [
    "x = 5\n",
    "if x < 0:\n",
    "    print(\"yes!\")\n",
    "else:\n",
    "    print(\"no!\")\n",
    "        "
   ]
  },
  {
   "cell_type": "markdown",
   "metadata": {},
   "source": [
    "# Check 0\n",
    "\n",
    "Let's use this as an opportunity to make sure everyone can run a little python.  Pull open your favorite python IDE, or alternatively, head over to https://python.e.ip.saba.us and login with the password `gix2018`.  If you use the online jupyter notebook interface, create your own notebook to work within, and name it accordingly.\n",
    "\n",
    "You will write a script that has a variable for your name and a variable for your age.  We're going to design an advanced AI that has human-level intelligence. It knows that when you are a child, you always want others to think you're older, and when you are an adult, you always want others to think you're younger.  So we will instruct this script to bump the age up or down a few years depending on the \"true\" age of the user.  Example output when run:\n",
    "\n",
    "```\n",
    "Hello Elliot!\n",
    "Oh happy day, turning\n",
    "25\n",
    "```\n",
    "\n",
    "Example solution is below, but hidden offscreen."
   ]
  },
  {
   "cell_type": "code",
   "execution_count": null,
   "metadata": {
    "collapsed": true
   },
   "outputs": [],
   "source": [
    "# Empty space\n",
    "\n",
    "\n",
    "\n",
    "\n",
    "\n",
    "\n",
    "\n",
    "\n",
    "\n",
    "\n",
    "\n",
    "\n",
    "\n",
    "\n",
    "\n",
    "\n",
    "\n",
    "\n",
    "\n",
    "\n",
    "\n",
    "\n",
    "\n",
    "\n"
   ]
  },
  {
   "cell_type": "code",
   "execution_count": null,
   "metadata": {
    "collapsed": true
   },
   "outputs": [],
   "source": [
    "# Example solution\n",
    "name = \"Elliot\"\n",
    "\n",
    "age = 27\n",
    "if age < 18:\n",
    "    age = age + 2\n",
    "if age > 24:\n",
    "    age = age - 2\n",
    "\n",
    "print(\"Hello \" + name + \"!\")\n",
    "print(\"Oh happy day, turning \")\n",
    "print(age)"
   ]
  },
  {
   "cell_type": "markdown",
   "metadata": {},
   "source": [
    "## Objects\n",
    "\n",
    "In Python, there are two broad classes of types; POD (Plain Old Data) and objects.  Objects are pieces of data that have functionality bundled together with them.  The vast majority of all data types are objects, including things like strings, lists, dictionaries, etc...   In fact, essentially the only things you will deal with that are _not_ objects are numbers.\n",
    "\n",
    "Objects have \"members\", that is, things inside of them.  These \"members\" can be just about anything; other objects, functions, whatever.  We access these members by using dot notation, e.g. `foo.bar` accesses the `bar` member of the `foo` object.  Here's an example with strings, using the `count()` function to count how many times a particular character appears within a string:"
   ]
  },
  {
   "cell_type": "code",
   "execution_count": 43,
   "metadata": {},
   "outputs": [
    {
     "name": "stdout",
     "output_type": "stream",
     "text": [
      "The name 'Elliot' has 2 'l' character(s) in it\n"
     ]
    }
   ],
   "source": [
    "name = \"Elliot\"\n",
    "number_of_es = name.count(\"l\")\n",
    "print(\"The name '\" + name + \"' has \" + str(number_of_es) + \" 'l' character(s) in it\" )"
   ]
  },
  {
   "cell_type": "markdown",
   "metadata": {},
   "source": [
    "Note that the `str()` function converts data types to string.\n",
    "\n",
    "The design of new kinds of objects will be covered in greater detail later, for now just accept that they exist and that you access things inside of them with the dot operator.\n",
    "\n",
    "## Data Structures\n",
    "\n",
    "There are a few basic data structures in Python that you will need to know about, such as lists and dictionaries.  Lists store ordered sequences of data, dictionaries store unordered mappings of keys to values."
   ]
  },
  {
   "cell_type": "code",
   "execution_count": 51,
   "metadata": {
    "collapsed": true
   },
   "outputs": [],
   "source": [
    "# This is a list\n",
    "my_list = [3, 14, 15, 59]\n",
    "\n",
    "# This is a dictionary\n",
    "my_dict = {\"hello\": 26, \"world\": 535}\n",
    "\n",
    "empty_dict = {}\n",
    "empty_dict[\"yo\"] = \"foo\"\n",
    "\n",
    "my_dict[\"hello\"] = 0"
   ]
  },
  {
   "cell_type": "code",
   "execution_count": 52,
   "metadata": {},
   "outputs": [
    {
     "name": "stdout",
     "output_type": "stream",
     "text": [
      "{'yo': 'foo'}\n"
     ]
    }
   ],
   "source": [
    "print(empty_dict)"
   ]
  },
  {
   "cell_type": "code",
   "execution_count": 53,
   "metadata": {},
   "outputs": [
    {
     "name": "stdout",
     "output_type": "stream",
     "text": [
      "{'yo': 'bar'}\n"
     ]
    }
   ],
   "source": [
    "empty_dict[\"yo\"] = \"bar\"\n",
    "print(empty_dict)"
   ]
  },
  {
   "cell_type": "markdown",
   "metadata": {},
   "source": [
    "These data structures are generally called \"containers\"; they \"contain\" other pieces of data, or even other data structures.  Because pulling pieces of data out of and putting pieces of data into these data structures is so common, python has a dedicated syntax for this:"
   ]
  },
  {
   "cell_type": "code",
   "execution_count": 50,
   "metadata": {},
   "outputs": [
    {
     "name": "stdout",
     "output_type": "stream",
     "text": [
      "Indexing into a list:\n",
      "3\n",
      "14\n",
      "15\n",
      "\n",
      "Indexing into a dict:\n",
      "53535\n",
      "535\n"
     ]
    }
   ],
   "source": [
    "print(\"Indexing into a list:\")\n",
    "print(my_list[0])\n",
    "print(my_list[1])\n",
    "print(my_list[2])\n",
    "print()\n",
    "\n",
    "print(\"Indexing into a dict:\")\n",
    "print(my_dict[\"hello\"])\n",
    "print(my_dict[\"world\"])"
   ]
  },
  {
   "cell_type": "markdown",
   "metadata": {},
   "source": [
    "We can add things onto the end of list by using the `+` operator:"
   ]
  },
  {
   "cell_type": "code",
   "execution_count": 54,
   "metadata": {},
   "outputs": [
    {
     "name": "stdout",
     "output_type": "stream",
     "text": [
      "[3, 14, 15, 59]\n"
     ]
    }
   ],
   "source": [
    "print(my_list)"
   ]
  },
  {
   "cell_type": "code",
   "execution_count": 65,
   "metadata": {},
   "outputs": [
    {
     "name": "stdout",
     "output_type": "stream",
     "text": [
      "[29, 40, 41, 85, 26, 53]\n"
     ]
    }
   ],
   "source": [
    "print(my_list + [26, 53])"
   ]
  },
  {
   "cell_type": "code",
   "execution_count": 58,
   "metadata": {},
   "outputs": [
    {
     "name": "stdout",
     "output_type": "stream",
     "text": [
      "[29, 40, 41, 85]\n"
     ]
    }
   ],
   "source": [
    "my_list[0] = my_list[0] + 26\n",
    "my_list[1] = my_list[1] + 26\n",
    "my_list[2] = my_list[2] + 26\n",
    "my_list[3] = my_list[3] + 26\n",
    "\n",
    "print(my_list)"
   ]
  },
  {
   "cell_type": "code",
   "execution_count": 76,
   "metadata": {},
   "outputs": [
    {
     "name": "stdout",
     "output_type": "stream",
     "text": [
      "[29, 40, 41, 85, 26, 26, 26, 26, 26, 26, 26, 26, 26, 26, 26]\n"
     ]
    }
   ],
   "source": [
    "my_list = my_list + [26]\n",
    "print(my_list)"
   ]
  },
  {
   "cell_type": "markdown",
   "metadata": {},
   "source": [
    "Building dictionaries is even easier, we can just assign in new mappings:"
   ]
  },
  {
   "cell_type": "code",
   "execution_count": 77,
   "metadata": {},
   "outputs": [
    {
     "name": "stdout",
     "output_type": "stream",
     "text": [
      "{'hello': 0, 'world': 535, 'new': 'lamps', 'for': 'old'}\n"
     ]
    }
   ],
   "source": [
    "my_dict[\"new\"] = \"lamps\"\n",
    "my_dict[\"for\"] = \"old\"\n",
    "print(my_dict)"
   ]
  },
  {
   "cell_type": "markdown",
   "metadata": {},
   "source": [
    "And, of course, there are errors when we try to do things that don't make sense:"
   ]
  },
  {
   "cell_type": "code",
   "execution_count": 78,
   "metadata": {},
   "outputs": [
    {
     "ename": "TypeError",
     "evalue": "list indices must be integers or slices, not float",
     "output_type": "error",
     "traceback": [
      "\u001b[0;31m---------------------------------------------------------------------------\u001b[0m",
      "\u001b[0;31mTypeError\u001b[0m                                 Traceback (most recent call last)",
      "\u001b[0;32m<ipython-input-78-be1685738830>\u001b[0m in \u001b[0;36m<module>\u001b[0;34m()\u001b[0m\n\u001b[0;32m----> 1\u001b[0;31m \u001b[0mmy_list\u001b[0m\u001b[0;34m[\u001b[0m\u001b[0;36m1.5\u001b[0m\u001b[0;34m]\u001b[0m\u001b[0;34m\u001b[0m\u001b[0m\n\u001b[0m",
      "\u001b[0;31mTypeError\u001b[0m: list indices must be integers or slices, not float"
     ]
    }
   ],
   "source": [
    "my_list[1.5]"
   ]
  },
  {
   "cell_type": "code",
   "execution_count": 79,
   "metadata": {},
   "outputs": [
    {
     "ename": "IndexError",
     "evalue": "list index out of range",
     "output_type": "error",
     "traceback": [
      "\u001b[0;31m---------------------------------------------------------------------------\u001b[0m",
      "\u001b[0;31mIndexError\u001b[0m                                Traceback (most recent call last)",
      "\u001b[0;32m<ipython-input-79-0757b1684c9c>\u001b[0m in \u001b[0;36m<module>\u001b[0;34m()\u001b[0m\n\u001b[0;32m----> 1\u001b[0;31m \u001b[0mmy_list\u001b[0m\u001b[0;34m[\u001b[0m\u001b[0;36m1000000\u001b[0m\u001b[0;34m]\u001b[0m\u001b[0;34m\u001b[0m\u001b[0m\n\u001b[0m",
      "\u001b[0;31mIndexError\u001b[0m: list index out of range"
     ]
    }
   ],
   "source": [
    "my_list[1000000]"
   ]
  },
  {
   "cell_type": "code",
   "execution_count": 81,
   "metadata": {},
   "outputs": [
    {
     "ename": "KeyError",
     "evalue": "'flabbergast'",
     "output_type": "error",
     "traceback": [
      "\u001b[0;31m---------------------------------------------------------------------------\u001b[0m",
      "\u001b[0;31mKeyError\u001b[0m                                  Traceback (most recent call last)",
      "\u001b[0;32m<ipython-input-81-dbc57f51d5de>\u001b[0m in \u001b[0;36m<module>\u001b[0;34m()\u001b[0m\n\u001b[0;32m----> 1\u001b[0;31m \u001b[0mmy_dict\u001b[0m\u001b[0;34m[\u001b[0m\u001b[0;34m\"flabbergast\"\u001b[0m\u001b[0;34m]\u001b[0m\u001b[0;34m\u001b[0m\u001b[0m\n\u001b[0m",
      "\u001b[0;31mKeyError\u001b[0m: 'flabbergast'"
     ]
    }
   ],
   "source": [
    "my_dict[\"flabbergast\"]"
   ]
  },
  {
   "cell_type": "markdown",
   "metadata": {},
   "source": [
    "Note however, that python lists allow _negative_ indexing.  More on this later when we talk about arrays, but the quick version is that negative indices count backwards from the end, e.g. `my_list[-1]` is the last element in the array, `my_list[-2]` is the second to the last, etc..."
   ]
  },
  {
   "cell_type": "code",
   "execution_count": null,
   "metadata": {
    "collapsed": true
   },
   "outputs": [],
   "source": [
    "print(my_list[-1])"
   ]
  },
  {
   "cell_type": "markdown",
   "metadata": {},
   "source": [
    "There are many useful methods we can use on lists and dictionaries, such as \"how long is this list?\""
   ]
  },
  {
   "cell_type": "code",
   "execution_count": 82,
   "metadata": {},
   "outputs": [
    {
     "name": "stdout",
     "output_type": "stream",
     "text": [
      "[29, 40, 41, 85, 26, 26, 26, 26, 26, 26, 26, 26, 26, 26, 26]\n",
      "15\n"
     ]
    }
   ],
   "source": [
    "print(my_list)\n",
    "print(len(my_list))"
   ]
  },
  {
   "cell_type": "markdown",
   "metadata": {},
   "source": [
    "We can ask \"what keys are there in a dict?\"  The response is not a list of keys, but can be treated like a list in many situations.  We'll talk more about this later."
   ]
  },
  {
   "cell_type": "code",
   "execution_count": 85,
   "metadata": {},
   "outputs": [
    {
     "name": "stdout",
     "output_type": "stream",
     "text": [
      "4\n"
     ]
    }
   ],
   "source": [
    "dk = my_dict.keys()\n",
    "print(dk)"
   ]
  },
  {
   "cell_type": "markdown",
   "metadata": {},
   "source": [
    "Many methods will allow us to convert from one data structure to another, as an example the `split()` and `join()` methods of string objects will split a string by a separator into a list of strings, or join a list of strings together into one string, inserting a separator in between."
   ]
  },
  {
   "cell_type": "code",
   "execution_count": 88,
   "metadata": {},
   "outputs": [
    {
     "name": "stdout",
     "output_type": "stream",
     "text": [
      "['this', 'is', '1', 'sentence']\n"
     ]
    }
   ],
   "source": [
    "sentence = \"this is 1 sentence\"\n",
    "\n",
    "# Split one long string into a list of strings\n",
    "words = sentence.split(\" \")\n",
    "print(words)"
   ]
  },
  {
   "cell_type": "code",
   "execution_count": 89,
   "metadata": {},
   "outputs": [
    {
     "name": "stdout",
     "output_type": "stream",
     "text": [
      "this is 1 sentence\n"
     ]
    }
   ],
   "source": [
    "# Join our list of strings back together into one long string, using a space as the glue between them.\n",
    "new_sentence = \" \".join(words)\n",
    "print(new_sentence)"
   ]
  },
  {
   "cell_type": "code",
   "execution_count": 90,
   "metadata": {},
   "outputs": [
    {
     "name": "stdout",
     "output_type": "stream",
     "text": [
      "thisXisX1Xsentence\n"
     ]
    }
   ],
   "source": [
    "new_sentence = \"X\".join(words)\n",
    "print(new_sentence)"
   ]
  },
  {
   "cell_type": "code",
   "execution_count": 91,
   "metadata": {},
   "outputs": [
    {
     "name": "stdout",
     "output_type": "stream",
     "text": [
      "thisis1sentence\n"
     ]
    }
   ],
   "source": [
    "new_sentence = \"\".join(words)\n",
    "print(new_sentence)"
   ]
  },
  {
   "cell_type": "markdown",
   "metadata": {},
   "source": [
    "## Iteration\n",
    "\n",
    "There are lots of things you may want to iterate over in Python.  Lists, keys in a dictionary, objects within some other kind of container, integers within a range, etc...  We're going to do this with the `for` construct:"
   ]
  },
  {
   "cell_type": "code",
   "execution_count": 92,
   "metadata": {},
   "outputs": [
    {
     "name": "stdout",
     "output_type": "stream",
     "text": [
      "1\n",
      "2\n",
      "3\n"
     ]
    }
   ],
   "source": [
    "my_list = [1, 2, 3]\n",
    "\n",
    "for element in my_list:\n",
    "    print(element)"
   ]
  },
  {
   "cell_type": "markdown",
   "metadata": {},
   "source": [
    "Again, things like the indentation and colon are important."
   ]
  },
  {
   "cell_type": "code",
   "execution_count": 94,
   "metadata": {},
   "outputs": [
    {
     "name": "stdout",
     "output_type": "stream",
     "text": [
      "20\n",
      "15\n",
      "10\n",
      "5\n"
     ]
    }
   ],
   "source": [
    "data = [5, 10, 15, 20]\n",
    "\n",
    "for idx in [3, 2, 1, 0]:\n",
    "    print(data[idx])"
   ]
  },
  {
   "cell_type": "markdown",
   "metadata": {},
   "source": [
    "A common pattern you will see is iteration over a range over the length of an object:"
   ]
  },
  {
   "cell_type": "code",
   "execution_count": 95,
   "metadata": {},
   "outputs": [
    {
     "name": "stdout",
     "output_type": "stream",
     "text": [
      "5\n",
      "10\n",
      "15\n",
      "20\n"
     ]
    }
   ],
   "source": [
    "for idx in enumerate(data):\n",
    "    print(data[idx])"
   ]
  },
  {
   "cell_type": "code",
   "execution_count": 106,
   "metadata": {},
   "outputs": [
    {
     "name": "stdout",
     "output_type": "stream",
     "text": [
      "hello 0\n",
      "world 535\n",
      "new lamps\n",
      "for old\n"
     ]
    }
   ],
   "source": [
    "my_dict\n",
    "for key in my_dict.keys():\n",
    "    print(key, my_dict[key])"
   ]
  },
  {
   "cell_type": "code",
   "execution_count": 103,
   "metadata": {},
   "outputs": [
    {
     "name": "stdout",
     "output_type": "stream",
     "text": [
      "0 5\n",
      "1 10\n",
      "2 15\n",
      "3 20\n"
     ]
    }
   ],
   "source": [
    "for idx, value in enumerate(data):\n",
    "    print(idx, value)"
   ]
  },
  {
   "cell_type": "code",
   "execution_count": null,
   "metadata": {
    "collapsed": true
   },
   "outputs": [],
   "source": [
    "for idx in range(5):\n",
    "    print(idx)"
   ]
  },
  {
   "cell_type": "markdown",
   "metadata": {},
   "source": [
    "You can iterate over many things; items in a list, characters in a string, keys in a dict, etc...."
   ]
  },
  {
   "cell_type": "code",
   "execution_count": 107,
   "metadata": {},
   "outputs": [
    {
     "name": "stdout",
     "output_type": "stream",
     "text": [
      "0 s\n",
      "1 u\n",
      "2 p\n",
      "3 e\n",
      "4 r\n",
      "5 c\n",
      "6 a\n",
      "7 l\n",
      "8 i\n",
      "9 f\n",
      "10 r\n",
      "11 a\n",
      "12 g\n",
      "13 i\n",
      "14 l\n",
      "15 i\n",
      "16 s\n",
      "17 t\n",
      "18 i\n",
      "19 c\n",
      "20 e\n",
      "21 x\n",
      "22 p\n",
      "23 i\n",
      "24 a\n",
      "25 l\n",
      "26 i\n",
      "27 d\n",
      "28 o\n",
      "29 c\n",
      "30 i\n",
      "31 o\n",
      "32 u\n",
      "33 s\n"
     ]
    }
   ],
   "source": [
    "long_word  = \"supercalifragilisticexpialidocious\"\n",
    "\n",
    "for idx in range(len(long_word)):\n",
    "    print(idx, long_word[idx])"
   ]
  },
  {
   "cell_type": "markdown",
   "metadata": {},
   "source": [
    "## Check 1\n",
    "\n",
    "We are going to make an acronymizer.  We are going to take a sentence, split it into words, then iterate over those words and grab the first letter of each word, and add that into a new list.  We will then join that list together into a single word.\n",
    "\n",
    "Example output for `sentence = \"this was a good day\"`:\n",
    "```\n",
    "twagd\n",
    "```"
   ]
  },
  {
   "cell_type": "code",
   "execution_count": 111,
   "metadata": {},
   "outputs": [
    {
     "name": "stdout",
     "output_type": "stream",
     "text": [
      "GIXpython\n"
     ]
    }
   ],
   "source": [
    "# Example solution\n",
    "\n",
    "\n",
    "\n",
    "\n",
    "\n",
    "\n",
    "\n",
    "\n",
    "\n",
    "\n",
    "\n",
    "\n",
    "\n",
    "\n",
    "\n",
    "\n",
    "\n",
    "\n",
    "\n",
    "\n",
    "\n",
    "\n",
    "sentence = \"Global Innovation Xchange pursues your technological house on news\"\n",
    "words = sentence.split()\n",
    "acronym = \"\"\n",
    "for w in words:\n",
    "    acronym += w[0]\n",
    "print(acronym)"
   ]
  },
  {
   "cell_type": "code",
   "execution_count": 112,
   "metadata": {
    "collapsed": true
   },
   "outputs": [],
   "source": [
    "sentence = \"\"\"\n",
    "This is one sentence\n",
    "\n",
    "\n",
    "This is another\n",
    "\"\"\"\n",
    "\n"
   ]
  }
 ],
 "metadata": {
  "kernelspec": {
   "display_name": "Python 3",
   "language": "python",
   "name": "python3"
  },
  "language_info": {
   "codemirror_mode": {
    "name": "ipython",
    "version": 3
   },
   "file_extension": ".py",
   "mimetype": "text/x-python",
   "name": "python",
   "nbconvert_exporter": "python",
   "pygments_lexer": "ipython3",
   "version": "3.6.3"
  }
 },
 "nbformat": 4,
 "nbformat_minor": 2
}
