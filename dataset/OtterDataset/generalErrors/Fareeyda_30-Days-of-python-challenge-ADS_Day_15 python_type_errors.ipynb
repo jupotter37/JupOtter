{
 "cells": [
  {
   "attachments": {},
   "cell_type": "markdown",
   "metadata": {},
   "source": [
    "Day 15"
   ]
  },
  {
   "attachments": {},
   "cell_type": "markdown",
   "metadata": {},
   "source": [
    "\n",
    "\n",
    " After running all the examples in day 15 in python shell, I realised\n",
    "that the following were the errors \n",
    "1 SyntaxError\n",
    "2 KeyError\n",
    "3 IndexError\n",
    "4 ValueError\n",
    "5 AttributeError\n",
    "6  NameError            \n",
    "7 TypeError\n",
    "8 ImportError\n",
    "9 ModuleNotFoundError\n",
    "i learnt different types of error and how it can be corrected"
   ]
  }
 ],
 "metadata": {
  "kernelspec": {
   "display_name": "Arewads",
   "language": "python",
   "name": "python3"
  },
  "language_info": {
   "name": "python",
   "version": "3.10.9"
  },
  "orig_nbformat": 4,
  "vscode": {
   "interpreter": {
    "hash": "ce4ab39d237ab020d1f66999490bb71f6e444211230b10a68dfb7657e2ce5ad4"
   }
  }
 },
 "nbformat": 4,
 "nbformat_minor": 2
}
