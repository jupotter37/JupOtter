{
 "cells": [
  {
   "cell_type": "markdown",
   "id": "5adef1ae-91d4-40ed-a7f9-def91c72ea37",
   "metadata": {},
   "source": [
    "# Exception and Error handling in Python"
   ]
  },
  {
   "cell_type": "markdown",
   "id": "40b4095a-8133-4540-bace-492b14c6ba80",
   "metadata": {},
   "source": [
    "### 1. What are Exceptions?\n",
    "Exceptions are errors that occur during the execution of a program. <br>\n",
    "When Python encounters an error, it stops the execution and raises an exception. <br>\n",
    "Without handling these exceptions, your program will crash."
   ]
  },
  {
   "cell_type": "markdown",
   "id": "fd0f2da4-3478-4755-b52f-52d5de08926b",
   "metadata": {},
   "source": [
    "### 2. Common Types of Exceptions\n",
    "\n",
    "#### Here are some common exceptions:\n",
    "\n",
    "1. **ZeroDivisionError**: Raised when you try to divide by zero.\n",
    "2. **TypeError**: Raised when an operation is applied to an object of an inappropriate type (e.g., adding a number to a string).\n",
    "3. **ValueError**: Raised when a function receives an argument of the right type but an inappropriate value <br> (e.g., converting a string to an integer that can't be converted).\n",
    "4. **IndexError**: Raised when trying to access an index that is out of range.\n",
    "5. **KeyError**: Raised when trying to access a dictionary with a key that doesn't exist.\n",
    "\n",
    "- `SyntaxError`: Raised when there is a syntax error in the program\n",
    "- `TypeError`: Raised when an operation or function is applied to an object of inappropriate type\n",
    "- `ValueError`: Raised when an operation or function receives an argument of the correct type but with an inappropriate value\n",
    "- `IndexError`: Raised when trying to access an index that is out of range\n",
    "- `KeyError`: Raised when trying to access a key that does not exist in a dictionary\n",
    "- `AttributeError`: Raised when trying to access an attribute that does not exist in an object\n",
    "- `NameError`: Raised when a variable or name is not defined\n",
    "- `IOError`: Raised when there is an input/output error\n",
    "- `ImportError`: Raised when a module cannot be imported\n",
    "- `KeyboardInterrupt`: Raised when the user interrupts the execution of the program with a keyboard signal (Ctrl+C)"
   ]
  },
  {
   "cell_type": "markdown",
   "id": "3f34e1c8-5f30-4e18-abdf-ab470afa4b4b",
   "metadata": {},
   "source": [
    "### 3. Basic Exception Handling Using try-except\n",
    "To handle exceptions and prevent program crashes, you can use the try-except block.<br>\n",
    "This allows you to \"catch\" the error and decide what to do with it.\n",
    "\n",
    "``` python\n",
    "#Syntax\n",
    "\n",
    "try:\n",
    "    # Code that might raise an exception\n",
    "except <ExceptionType>:\n",
    "    # Code to handle the exception ```\n",
    "    "
   ]
  },
  {
   "cell_type": "code",
   "execution_count": 2,
   "id": "c77a4756-20b5-45ff-b785-89ff47afd62d",
   "metadata": {},
   "outputs": [
    {
     "name": "stdin",
     "output_type": "stream",
     "text": [
      "Enter the number:  0\n"
     ]
    },
    {
     "name": "stdout",
     "output_type": "stream",
     "text": [
      "You can't divide by zero!\n"
     ]
    }
   ],
   "source": [
    "# Example :\n",
    "\n",
    "try : \n",
    "    # Code that could cause an error\n",
    "    number = int(input(\"Enter the number: \"))\n",
    "    print(10/number)\n",
    "\n",
    "except ZeroDivisionError:\n",
    "    # Code to handle division by zero\n",
    "    print(\"You can't divide by zero!\")\n",
    "\n",
    "except ValueError:\n",
    "    # Code to handle invalid input (e.g., entering a string instead of a number)\n",
    "    print(\"Please enter valid number\")\n",
    "    "
   ]
  },
  {
   "cell_type": "code",
   "execution_count": 5,
   "id": "56ea221b-8174-4a1a-81ec-977436858eda",
   "metadata": {},
   "outputs": [
    {
     "name": "stdin",
     "output_type": "stream",
     "text": [
      "Enter the number:  N\n"
     ]
    },
    {
     "name": "stdout",
     "output_type": "stream",
     "text": [
      "Please enter valid number or integer data type\n"
     ]
    }
   ],
   "source": [
    "# Example :\n",
    "\n",
    "try: \n",
    "    number = int(input(\"Enter the number: \"))\n",
    "    print(10/number)\n",
    "\n",
    "except ZeroDivisionError:\n",
    "    print(\"Number cannot divide by zero\")\n",
    "\n",
    "except ValueError:\n",
    "    print(\"Please enter valid number or integer data type\")"
   ]
  },
  {
   "cell_type": "code",
   "execution_count": 6,
   "id": "c0be8df5-0742-4cf8-9988-c5053b8f5252",
   "metadata": {},
   "outputs": [
    {
     "name": "stdin",
     "output_type": "stream",
     "text": [
      "Enter the number:  5\n"
     ]
    },
    {
     "name": "stdout",
     "output_type": "stream",
     "text": [
      "2.0\n"
     ]
    }
   ],
   "source": [
    "# Example \n",
    "\n",
    "try: \n",
    "    number = int(input(\"Enter the number: \"))\n",
    "    print(10/number)\n",
    "\n",
    "except ZeroDivisionError:\n",
    "    print(\"Number cannot divide by zero\")\n",
    "\n",
    "except ValueError:\n",
    "    print(\"Please enter valid number or integer data type\")"
   ]
  },
  {
   "cell_type": "markdown",
   "id": "eed84fee-0450-473b-be6a-bb943817893c",
   "metadata": {},
   "source": [
    "- `try block`: The code that might cause an error goes here.\n",
    "- `except block`: If the error occurs, this block runs instead of crashing the program."
   ]
  },
  {
   "cell_type": "markdown",
   "id": "884a8217-7ec7-456d-a1ac-61e9831d8714",
   "metadata": {},
   "source": [
    "### 4. Using Multiple except Blocks\n",
    "\n",
    "You can have multiple except blocks to handle different exceptions.\n",
    "\n",
    "**Example:**"
   ]
  },
  {
   "cell_type": "code",
   "execution_count": 8,
   "id": "5a38ace9-c076-4ac9-8983-34a0eb1aee68",
   "metadata": {},
   "outputs": [
    {
     "name": "stdout",
     "output_type": "stream",
     "text": [
      "Index out of range\n"
     ]
    }
   ],
   "source": [
    "try : \n",
    "    lst = [1,2,3,4]\n",
    "    print(lst[5]) # This cause an IndexError\n",
    "\n",
    "except IndexError:\n",
    "    print(\"Index out of range\")\n",
    "\n",
    "except KeyError:\n",
    "    print(\"key is not found in dictionary\")"
   ]
  },
  {
   "cell_type": "markdown",
   "id": "59443049-3e6f-462a-b519-529f498a6e48",
   "metadata": {},
   "source": [
    "### 5. Handling All Exceptions (Not Recommended)\n",
    "\n",
    "You can catch all exceptions by using except without specifying an exception type. <br>\n",
    "However, this is not recommended because it hides potential bugs.\n",
    "\n",
    "`Example`:"
   ]
  },
  {
   "cell_type": "code",
   "execution_count": 9,
   "id": "2ca37199-d9d3-4720-9578-d96ca9f811c7",
   "metadata": {},
   "outputs": [
    {
     "name": "stdout",
     "output_type": "stream",
     "text": [
      "Something is Wrong\n"
     ]
    }
   ],
   "source": [
    "try: \n",
    "    a = 10\n",
    "    b = \"M\"\n",
    "    print(a+b)\n",
    "    \n",
    "except:\n",
    "    print(\"Something is Wrong\")"
   ]
  },
  {
   "cell_type": "markdown",
   "id": "6c68774b-d2cc-4784-afd7-2d3ae42c9330",
   "metadata": {},
   "source": [
    "### 6. The else Block\n",
    "\n",
    "The else block runs only if no exceptions are raised in the try block.\n",
    "\n",
    "**Example**:"
   ]
  },
  {
   "cell_type": "code",
   "execution_count": 10,
   "id": "b144a7f5-050a-4f81-9cb8-5f594906511e",
   "metadata": {},
   "outputs": [
    {
     "name": "stdin",
     "output_type": "stream",
     "text": [
      "Enter the number:  5\n"
     ]
    },
    {
     "name": "stdout",
     "output_type": "stream",
     "text": [
      "2.0\n"
     ]
    }
   ],
   "source": [
    "try: \n",
    "    number = int(input(\"Enter the number: \"))\n",
    "    result = 10/number\n",
    "\n",
    "except ZeroDivisionError:\n",
    "    print(\"You cannor divide zero \")\n",
    "\n",
    "except ValueError:\n",
    "    print(\"Please enter valid number\")\n",
    "\n",
    "else: print(result)\n",
    "    "
   ]
  },
  {
   "cell_type": "markdown",
   "id": "bcf2fbf2-2f33-4d35-9b9b-67cea1315651",
   "metadata": {},
   "source": [
    "### 7. The finally Block\n",
    "   \n",
    "The finally block runs no matter what, even if an exception occurs or not. It’s often used to clean up resources like closing a file or a network connection.\n",
    "\n",
    "**Example:**"
   ]
  },
  {
   "cell_type": "code",
   "execution_count": 11,
   "id": "bfd95ba4-10eb-4377-ae80-187926601edd",
   "metadata": {},
   "outputs": [
    {
     "name": "stdin",
     "output_type": "stream",
     "text": [
      "Enter the number:  n\n"
     ]
    },
    {
     "name": "stdout",
     "output_type": "stream",
     "text": [
      "Please enter valid number\n",
      "This will always run, regardless of an exception.\n"
     ]
    }
   ],
   "source": [
    "\n",
    "try: \n",
    "    number = int(input(\"Enter the number: \"))\n",
    "    result = 10/number\n",
    "\n",
    "except ZeroDivisionError:\n",
    "    print(\"You cannor divide zero \")\n",
    "\n",
    "except ValueError:\n",
    "    print(\"Please enter valid number\")\n",
    "\n",
    "else: print(result)\n",
    "    \n",
    "finally:\n",
    "    print(\"This will always run, regardless of an exception.\")"
   ]
  },
  {
   "cell_type": "markdown",
   "id": "54faf796-410e-4d54-b0d1-ad7baad5ca00",
   "metadata": {},
   "source": [
    "### 8. Raising Exceptions Using raise\n",
    "Sometimes, you might want to manually raise an exception. <br>\n",
    "This can be useful for debugging or handling specific cases in your code.\n",
    "\n",
    "**Example:**"
   ]
  },
  {
   "cell_type": "code",
   "execution_count": 12,
   "id": "48447681-37d6-4db2-84f6-db441afc287f",
   "metadata": {},
   "outputs": [
    {
     "name": "stdin",
     "output_type": "stream",
     "text": [
      "Enter the age to vote:  10\n"
     ]
    },
    {
     "ename": "ValueError",
     "evalue": "Age should be more than 18 ",
     "output_type": "error",
     "traceback": [
      "\u001b[0;31m---------------------------------------------------------------------------\u001b[0m",
      "\u001b[0;31mValueError\u001b[0m                                Traceback (most recent call last)",
      "Cell \u001b[0;32mIn[12], line 4\u001b[0m\n\u001b[1;32m      1\u001b[0m age \u001b[38;5;241m=\u001b[39m \u001b[38;5;28mint\u001b[39m(\u001b[38;5;28minput\u001b[39m(\u001b[38;5;124m\"\u001b[39m\u001b[38;5;124mEnter the age to vote: \u001b[39m\u001b[38;5;124m\"\u001b[39m))\n\u001b[1;32m      3\u001b[0m \u001b[38;5;28;01mif\u001b[39;00m age \u001b[38;5;241m<\u001b[39m\u001b[38;5;241m=\u001b[39m \u001b[38;5;241m18\u001b[39m:\n\u001b[0;32m----> 4\u001b[0m     \u001b[38;5;28;01mraise\u001b[39;00m \u001b[38;5;167;01mValueError\u001b[39;00m(\u001b[38;5;124m\"\u001b[39m\u001b[38;5;124mAge should be more than 18 \u001b[39m\u001b[38;5;124m\"\u001b[39m)\n",
      "\u001b[0;31mValueError\u001b[0m: Age should be more than 18 "
     ]
    }
   ],
   "source": [
    "age = int(input(\"Enter the age to vote: \"))\n",
    "\n",
    "if age <= 18:\n",
    "    raise ValueError(\"Age should be more than 18 \")\n",
    "\n",
    "# In this example, if the user enters an age less than 18, the program will raise a ValueError with a custom message."
   ]
  },
  {
   "cell_type": "markdown",
   "id": "9e335c8f-ef6d-4622-b55a-c581cd4c446d",
   "metadata": {},
   "source": [
    "### 9. Custom Exceptions\n",
    "\n",
    "You can create your own exceptions by inheriting from the built-in Exception class.\n",
    "\n",
    "**Example:**\n"
   ]
  },
  {
   "cell_type": "code",
   "execution_count": 21,
   "id": "36779964-8d13-4855-858d-a01ca49abdfb",
   "metadata": {},
   "outputs": [
    {
     "name": "stdin",
     "output_type": "stream",
     "text": [
      "Enter the number :  -1\n"
     ]
    },
    {
     "name": "stdout",
     "output_type": "stream",
     "text": [
      "Input number is less than zero\n"
     ]
    }
   ],
   "source": [
    "class NegativeNumberError(Exception):\n",
    "    pass \n",
    "    \n",
    "try: \n",
    "    num = int(input(\"Enter the number : \"))\n",
    "    if num < 0:\n",
    "        raise NegativeNumberError(\"Input number is less than zero\")\n",
    "\n",
    "except NegativeNumberError as e:\n",
    "    print(e)\n"
   ]
  },
  {
   "cell_type": "markdown",
   "id": "9581ba9a-bb5a-4608-ae42-eb344223d704",
   "metadata": {},
   "source": [
    "### 10. Summary of Exception Handling Components\n",
    "\n",
    "-`try`: The block where you write code that may cause an exception. <br>\n",
    "-`except`: The block where you handle specific exceptions. <br>\n",
    "-`else`: A block that runs if no exceptions are raised. <br>\n",
    "-`finally`: A block that always runs, whether an exception occurs or not. <br>\n",
    "-`raise`: To manually trigger an exception. <br>\n"
   ]
  },
  {
   "cell_type": "code",
   "execution_count": null,
   "id": "7f6aaf21-c758-42b6-ad43-fd1a48f44477",
   "metadata": {},
   "outputs": [],
   "source": []
  }
 ],
 "metadata": {
  "kernelspec": {
   "display_name": "Python 3 (ipykernel)",
   "language": "python",
   "name": "python3"
  },
  "language_info": {
   "codemirror_mode": {
    "name": "ipython",
    "version": 3
   },
   "file_extension": ".py",
   "mimetype": "text/x-python",
   "name": "python",
   "nbconvert_exporter": "python",
   "pygments_lexer": "ipython3",
   "version": "3.12.3"
  }
 },
 "nbformat": 4,
 "nbformat_minor": 5
}
