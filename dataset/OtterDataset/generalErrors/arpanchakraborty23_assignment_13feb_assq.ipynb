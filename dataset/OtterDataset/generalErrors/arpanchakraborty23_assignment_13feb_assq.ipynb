{
 "cells": [
  {
   "cell_type": "markdown",
   "metadata": {},
   "source": [
    "# Q1. Why do we have to use the Exception class while creating a Custom Exception?"
   ]
  },
  {
   "cell_type": "code",
   "execution_count": 2,
   "metadata": {},
   "outputs": [
    {
     "data": {
      "text/plain": [
       "'When creating a custom exception in Python, you inherit from the Exception class to ensure that your custom exception behaves like other exceptions in Python. '"
      ]
     },
     "execution_count": 2,
     "metadata": {},
     "output_type": "execute_result"
    }
   ],
   "source": [
    "'When creating a custom exception in Python, you inherit from the Exception class to ensure that your custom exception behaves like other exceptions in Python. '"
   ]
  },
  {
   "cell_type": "markdown",
   "metadata": {},
   "source": [
    "# Q2. Write a Python program to print the Python Exception Hierarchy."
   ]
  },
  {
   "cell_type": "code",
   "execution_count": 3,
   "metadata": {},
   "outputs": [
    {
     "name": "stdout",
     "output_type": "stream",
     "text": [
      "Python Exception Hierarchy:\n",
      "Exception\n",
      "    ArithmeticError\n",
      "        FloatingPointError\n",
      "        OverflowError\n",
      "        ZeroDivisionError\n",
      "            DivisionByZero\n",
      "            DivisionUndefined\n",
      "        DecimalException\n",
      "            Clamped\n",
      "            Rounded\n",
      "                Underflow\n",
      "                Overflow\n",
      "            Inexact\n",
      "                Underflow\n",
      "                Overflow\n",
      "            Subnormal\n",
      "                Underflow\n",
      "            DivisionByZero\n",
      "            FloatOperation\n",
      "            InvalidOperation\n",
      "                ConversionSyntax\n",
      "                DivisionImpossible\n",
      "                DivisionUndefined\n",
      "                InvalidContext\n",
      "    AssertionError\n",
      "    AttributeError\n",
      "        FrozenInstanceError\n",
      "    BufferError\n",
      "    EOFError\n",
      "        IncompleteReadError\n",
      "    ImportError\n",
      "        ModuleNotFoundError\n",
      "            PackageNotFoundError\n",
      "        ZipImportError\n",
      "    LookupError\n",
      "        IndexError\n",
      "        KeyError\n",
      "            NoSuchKernel\n",
      "            UnknownBackend\n",
      "        CodecRegistryError\n",
      "    MemoryError\n",
      "    NameError\n",
      "        UnboundLocalError\n",
      "    OSError\n",
      "        BlockingIOError\n",
      "        ChildProcessError\n",
      "        ConnectionError\n",
      "            BrokenPipeError\n",
      "            ConnectionAbortedError\n",
      "            ConnectionRefusedError\n",
      "            ConnectionResetError\n",
      "                RemoteDisconnected\n",
      "        FileExistsError\n",
      "        FileNotFoundError\n",
      "        InterruptedError\n",
      "            InterruptedSystemCall\n",
      "        IsADirectoryError\n",
      "        NotADirectoryError\n",
      "        PermissionError\n",
      "        ProcessLookupError\n",
      "        TimeoutError\n",
      "        UnsupportedOperation\n",
      "        herror\n",
      "        gaierror\n",
      "        SSLError\n",
      "            SSLCertVerificationError\n",
      "            SSLZeroReturnError\n",
      "            SSLWantWriteError\n",
      "            SSLWantReadError\n",
      "            SSLSyscallError\n",
      "            SSLEOFError\n",
      "        Error\n",
      "            SameFileError\n",
      "        SpecialFileError\n",
      "        ExecError\n",
      "        ReadError\n",
      "        URLError\n",
      "            HTTPError\n",
      "            ContentTooShortError\n",
      "        BadGzipFile\n",
      "    ReferenceError\n",
      "    RuntimeError\n",
      "        NotImplementedError\n",
      "            ZMQVersionError\n",
      "            StdinNotImplementedError\n",
      "        RecursionError\n",
      "        _DeadlockError\n",
      "        BrokenBarrierError\n",
      "        BrokenExecutor\n",
      "            BrokenThreadPool\n",
      "        SendfileNotAvailableError\n",
      "        BrokenBarrierError\n",
      "        VariableError\n",
      "    StopAsyncIteration\n",
      "    StopIteration\n",
      "    SyntaxError\n",
      "        IndentationError\n",
      "            TabError\n",
      "    SystemError\n",
      "        CodecRegistryError\n",
      "    TypeError\n",
      "        FloatOperation\n",
      "        MultipartConversionError\n",
      "    ValueError\n",
      "        UnicodeError\n",
      "            UnicodeDecodeError\n",
      "            UnicodeEncodeError\n",
      "            UnicodeTranslateError\n",
      "        UnsupportedOperation\n",
      "        AddressValueError\n",
      "        NetmaskValueError\n",
      "        JSONDecodeError\n",
      "        SSLCertVerificationError\n",
      "        Error\n",
      "        UnsupportedDigestmodError\n",
      "        IllegalMonthError\n",
      "        IllegalWeekdayError\n",
      "        ParserError\n",
      "        MessageDefect\n",
      "            NoBoundaryInMultipartDefect\n",
      "            StartBoundaryNotFoundDefect\n",
      "            CloseBoundaryNotFoundDefect\n",
      "            FirstHeaderLineIsContinuationDefect\n",
      "            MisplacedEnvelopeHeaderDefect\n",
      "            MissingHeaderBodySeparatorDefect\n",
      "            MultipartInvariantViolationDefect\n",
      "            InvalidMultipartContentTransferEncodingDefect\n",
      "            UndecodableBytesDefect\n",
      "            InvalidBase64PaddingDefect\n",
      "            InvalidBase64CharactersDefect\n",
      "            InvalidBase64LengthDefect\n",
      "            HeaderDefect\n",
      "                InvalidHeaderDefect\n",
      "                HeaderMissingRequiredValue\n",
      "                NonPrintableDefect\n",
      "                ObsoleteHeaderDefect\n",
      "                NonASCIILocalPartDefect\n",
      "                InvalidDateDefect\n",
      "        ClassNotFound\n",
      "        ClipboardEmpty\n",
      "        MacroToEdit\n",
      "        InvalidVersion\n",
      "    Warning\n",
      "        BytesWarning\n",
      "        DeprecationWarning\n",
      "            ProvisionalWarning\n",
      "        EncodingWarning\n",
      "        FutureWarning\n",
      "            ProvisionalCompleterWarning\n",
      "        ImportWarning\n",
      "        PendingDeprecationWarning\n",
      "        ResourceWarning\n",
      "        RuntimeWarning\n",
      "            ProactorSelectorThreadWarning\n",
      "            UnknownTimezoneWarning\n",
      "        SyntaxWarning\n",
      "        UnicodeWarning\n",
      "        UserWarning\n",
      "            GetPassWarning\n",
      "            FormatterWarning\n",
      "        DeprecatedTzFormatWarning\n",
      "    ExceptionGroup\n",
      "    _OptionError\n",
      "    error\n",
      "    _Error\n",
      "    Error\n",
      "    SubprocessError\n",
      "        CalledProcessError\n",
      "        TimeoutExpired\n",
      "    ZMQBaseError\n",
      "        ZMQError\n",
      "            ContextTerminated\n",
      "            Again\n",
      "            InterruptedSystemCall\n",
      "        ZMQBindError\n",
      "        NotDone\n",
      "    Error\n",
      "    error\n",
      "    PickleError\n",
      "        PicklingError\n",
      "        UnpicklingError\n",
      "    _Stop\n",
      "    TokenError\n",
      "    StopTokenizing\n",
      "    Error\n",
      "        CancelledError\n",
      "        InvalidStateError\n",
      "    _GiveupOnSendfile\n",
      "    Incomplete\n",
      "    ClassFoundException\n",
      "    EndOfBlock\n",
      "    InvalidStateError\n",
      "    LimitOverrunError\n",
      "    QueueEmpty\n",
      "    QueueFull\n",
      "    error\n",
      "    LZMAError\n",
      "    RegistryError\n",
      "    _GiveupOnFastCopy\n",
      "    TraitError\n",
      "    Empty\n",
      "    Full\n",
      "    ArgumentError\n",
      "    COMError\n",
      "    ReturnValueIgnoredError\n",
      "    ArgumentError\n",
      "    ArgumentTypeError\n",
      "    ConfigError\n",
      "        ConfigLoaderError\n",
      "            ArgumentError\n",
      "        ConfigFileNotFound\n",
      "    ConfigurableError\n",
      "        MultipleInstanceError\n",
      "    ApplicationError\n",
      "    InvalidPortNumber\n",
      "    NoIPAddresses\n",
      "    Error\n",
      "    BadZipFile\n",
      "    LargeZipFile\n",
      "    MessageError\n",
      "        MessageParseError\n",
      "            HeaderParseError\n",
      "            BoundaryError\n",
      "        MultipartConversionError\n",
      "        CharsetError\n",
      "    TraversalError\n",
      "    DuplicateKernelError\n",
      "    ErrorDuringImport\n",
      "    NotOneValueFound\n",
      "    KnownIssue\n",
      "    VerifierFailure\n",
      "    CannotEval\n",
      "    OptionError\n",
      "    BdbQuit\n",
      "    Restart\n",
      "    FindCmdError\n",
      "    HomeDirError\n",
      "    ProfileDirError\n",
      "    IPythonCoreError\n",
      "        TryNext\n",
      "        UsageError\n",
      "        StdinNotImplementedError\n",
      "    InputRejected\n",
      "    GetoptError\n",
      "    ErrorToken\n",
      "    PrefilterError\n",
      "    AliasError\n",
      "        InvalidAliasError\n",
      "    Error\n",
      "        InterfaceError\n",
      "        DatabaseError\n",
      "            InternalError\n",
      "            OperationalError\n",
      "            ProgrammingError\n",
      "            IntegrityError\n",
      "            DataError\n",
      "            NotSupportedError\n",
      "    Warning\n",
      "    SpaceInInput\n",
      "    DOMException\n",
      "        IndexSizeErr\n",
      "        DomstringSizeErr\n",
      "        HierarchyRequestErr\n",
      "        WrongDocumentErr\n",
      "        InvalidCharacterErr\n",
      "        NoDataAllowedErr\n",
      "        NoModificationAllowedErr\n",
      "        NotFoundErr\n",
      "        NotSupportedErr\n",
      "        InuseAttributeErr\n",
      "        InvalidStateErr\n",
      "        SyntaxErr\n",
      "        InvalidModificationErr\n",
      "        NamespaceErr\n",
      "        InvalidAccessErr\n",
      "        ValidationErr\n",
      "    ValidationError\n",
      "    EditReadOnlyBuffer\n",
      "    _Retry\n",
      "    InvalidLayoutError\n",
      "    HeightIsUnknownError\n",
      "    GuardRejection\n",
      "    ParserSyntaxError\n",
      "    InternalParseError\n",
      "    _PositionUpdatingFinished\n",
      "    SimpleGetItemNotFound\n",
      "    UncaughtAttributeError\n",
      "    HasNoContext\n",
      "    ParamIssue\n",
      "    _JediError\n",
      "        InternalError\n",
      "        WrongVersion\n",
      "        RefactoringError\n",
      "    OnErrorLeaf\n",
      "    InvalidPythonEnvironment\n",
      "    HTTPException\n",
      "        NotConnected\n",
      "        InvalidURL\n",
      "        UnknownProtocol\n",
      "        UnknownTransferEncoding\n",
      "        UnimplementedFileMode\n",
      "        IncompleteRead\n",
      "        ImproperConnectionState\n",
      "            CannotSendRequest\n",
      "            CannotSendHeader\n",
      "            ResponseNotReady\n",
      "        BadStatusLine\n",
      "            RemoteDisconnected\n",
      "        LineTooLong\n",
      "    InteractivelyDefined\n",
      "    KillEmbedded\n",
      "    Error\n",
      "        NoSuchProcess\n",
      "            ZombieProcess\n",
      "        AccessDenied\n",
      "        TimeoutExpired\n",
      "    Error\n",
      "    TimeoutExpired\n",
      "    TimeoutAbandoned\n",
      "    KeyReuseError\n",
      "    UnknownKeyError\n",
      "    LeakedCallbackError\n",
      "    BadYieldError\n",
      "    ReturnValueIgnoredError\n",
      "    Return\n",
      "    QueueEmpty\n",
      "    QueueFull\n",
      "    DebuggerInitializationError\n",
      "    ExpatError\n",
      "    Error\n",
      "        ProtocolError\n",
      "        ResponseError\n",
      "        Fault\n",
      "    _Error\n",
      "    UnableToResolveVariableException\n",
      "    InvalidTypeInArgsException\n"
     ]
    }
   ],
   "source": [
    "import inspect\n",
    "\n",
    "def print_exception_hierarchy(cls, indent=0):\n",
    "    print(\" \" * indent + cls.__name__)\n",
    "    for subclass in cls.__subclasses__():\n",
    "        print_exception_hierarchy(subclass, indent + 4)\n",
    "\n",
    "print(\"Python Exception Hierarchy:\")\n",
    "print_exception_hierarchy(Exception)\n"
   ]
  },
  {
   "cell_type": "markdown",
   "metadata": {},
   "source": [
    "# Q3. What errors are defined in the ArithmeticError class? Explain any two with an example."
   ]
  },
  {
   "cell_type": "code",
   "execution_count": 4,
   "metadata": {},
   "outputs": [
    {
     "data": {
      "text/plain": [
       "FloatingPointError"
      ]
     },
     "execution_count": 4,
     "metadata": {},
     "output_type": "execute_result"
    }
   ],
   "source": [
    "'Errors defined in the ArithmeticError class:'\n",
    "\n",
    "ZeroDivisionError\n",
    "OverflowError\n",
    "FloatingPointError"
   ]
  },
  {
   "cell_type": "code",
   "execution_count": 5,
   "metadata": {},
   "outputs": [
    {
     "name": "stdout",
     "output_type": "stream",
     "text": [
      "Error: Cannot divide by zero.\n"
     ]
    }
   ],
   "source": [
    "try:\n",
    "    result = 10 / 0\n",
    "except ZeroDivisionError:\n",
    "    print(\"Error: Cannot divide by zero.\")\n"
   ]
  },
  {
   "cell_type": "code",
   "execution_count": 6,
   "metadata": {},
   "outputs": [],
   "source": [
    "try:\n",
    "    result = float('inf') * 10\n",
    "except OverflowError:\n",
    "    print(\"Error: Calculation exceeds the maximum limit.\")\n"
   ]
  },
  {
   "cell_type": "markdown",
   "metadata": {},
   "source": [
    "# Q4. Why is the LookupError class used? Explain with an example KeyError and IndexError."
   ]
  },
  {
   "cell_type": "code",
   "execution_count": 7,
   "metadata": {},
   "outputs": [
    {
     "data": {
      "text/plain": [
       "'LookupError is a base class for exceptions raised when a lookup operation  fails. It provides a common base for exceptions like KeyError and IndexError.'"
      ]
     },
     "execution_count": 7,
     "metadata": {},
     "output_type": "execute_result"
    }
   ],
   "source": [
    "'LookupError is a base class for exceptions raised when a lookup operation  fails. It provides a common base for exceptions like KeyError and IndexError.'"
   ]
  },
  {
   "cell_type": "code",
   "execution_count": 9,
   "metadata": {},
   "outputs": [
    {
     "name": "stdout",
     "output_type": "stream",
     "text": [
      "Error: Index is out of range.\n"
     ]
    }
   ],
   "source": [
    "my_list = [5, 12, 253]\n",
    "try:\n",
    "    print(my_list[5])\n",
    "except IndexError:\n",
    "    print(\"Error: Index is out of range.\")\n"
   ]
  },
  {
   "cell_type": "code",
   "execution_count": 10,
   "metadata": {},
   "outputs": [
    {
     "name": "stdout",
     "output_type": "stream",
     "text": [
      "Error: Key not found in the dictionary.\n"
     ]
    }
   ],
   "source": [
    "my_dict = {\"name\": \"Ac\"}\n",
    "try:\n",
    "    print(my_dict[\"age\"])\n",
    "except KeyError:\n",
    "    print(\"Error: Key not found in the dictionary.\")\n"
   ]
  },
  {
   "cell_type": "markdown",
   "metadata": {},
   "source": [
    "# Q5. Explain ImportError. What is ModuleNotFoundError?"
   ]
  },
  {
   "cell_type": "code",
   "execution_count": 11,
   "metadata": {},
   "outputs": [
    {
     "data": {
      "text/plain": [
       "'Raised when an import statement fails to find the module or an object within the module. It is a general error that can occur for various reasons, such as a missing module or a failure to load a module.'"
      ]
     },
     "execution_count": 11,
     "metadata": {},
     "output_type": "execute_result"
    }
   ],
   "source": [
    "'Raised when an import statement fails to find the module or an object within the module. It is a general error that can occur for various reasons, such as a missing module or a failure to load a module.'"
   ]
  },
  {
   "cell_type": "code",
   "execution_count": 13,
   "metadata": {},
   "outputs": [
    {
     "data": {
      "text/plain": [
       "'A subclass of ImportError introduced in Python 3.6, raised specifically when a module is not found'"
      ]
     },
     "execution_count": 13,
     "metadata": {},
     "output_type": "execute_result"
    }
   ],
   "source": [
    "'A subclass of ImportError introduced in Python 3.6, raised specifically when a module is not found'"
   ]
  },
  {
   "cell_type": "markdown",
   "metadata": {},
   "source": [
    "# Q6. List down some best practices for exception handling in Python."
   ]
  },
  {
   "cell_type": "code",
   "execution_count": 14,
   "metadata": {},
   "outputs": [
    {
     "data": {
      "text/plain": [
       "' Always try to catch specific exceptions rather than a broad except Exception clause to avoid hiding bugs and to provide more meaningful error handling.'"
      ]
     },
     "execution_count": 14,
     "metadata": {},
     "output_type": "execute_result"
    }
   ],
   "source": [
    "' Always try to catch specific exceptions rather than a broad except Exception clause to avoid hiding bugs and to provide more meaningful error handling.'"
   ]
  },
  {
   "cell_type": "code",
   "execution_count": 15,
   "metadata": {},
   "outputs": [
    {
     "data": {
      "text/plain": [
       "'Avoid using bare except: clauses as they can catch unexpected exceptions and make debugging harder.'"
      ]
     },
     "execution_count": 15,
     "metadata": {},
     "output_type": "execute_result"
    }
   ],
   "source": [
    "'Avoid using bare except: clauses as they can catch unexpected exceptions and make debugging harder.'"
   ]
  },
  {
   "cell_type": "code",
   "execution_count": 18,
   "metadata": {},
   "outputs": [
    {
     "name": "stderr",
     "output_type": "stream",
     "text": [
      "ERROR:root:An error occurred: division by zero\n"
     ]
    }
   ],
   "source": [
    "'Log exceptions to keep track of errors and diagnose problems more easily. Use the logging module for this purpose.'\n",
    "import logging\n",
    "\n",
    "logging.basicConfig(level=logging.ERROR)\n",
    "\n",
    "try:\n",
    "    a=1+5/0\n",
    "except Exception as e:\n",
    "    logging.error(f\"An error occurred: {e}\")\n",
    "\n"
   ]
  },
  {
   "cell_type": "code",
   "execution_count": 19,
   "metadata": {},
   "outputs": [
    {
     "data": {
      "text/plain": [
       "'If you catch an exception and cannot handle it meaningfully, consider re-raising it to allow higher-level handlers to address it.'"
      ]
     },
     "execution_count": 19,
     "metadata": {},
     "output_type": "execute_result"
    }
   ],
   "source": [
    "'If you catch an exception and cannot handle it meaningfully, consider re-raising it to allow higher-level handlers to address it.'"
   ]
  },
  {
   "cell_type": "code",
   "execution_count": 20,
   "metadata": {},
   "outputs": [
    {
     "ename": "ZeroDivisionError",
     "evalue": "division by zero",
     "output_type": "error",
     "traceback": [
      "\u001b[1;31m---------------------------------------------------------------------------\u001b[0m",
      "\u001b[1;31mZeroDivisionError\u001b[0m                         Traceback (most recent call last)",
      "Cell \u001b[1;32mIn[20], line 2\u001b[0m\n\u001b[0;32m      1\u001b[0m \u001b[38;5;28;01mtry\u001b[39;00m:\n\u001b[1;32m----> 2\u001b[0m      a\u001b[38;5;241m=\u001b[39m\u001b[38;5;241m1\u001b[39m\u001b[38;5;241m+\u001b[39m\u001b[38;5;241;43m5\u001b[39;49m\u001b[38;5;241;43m/\u001b[39;49m\u001b[38;5;241;43m0\u001b[39;49m\n\u001b[0;32m      3\u001b[0m \u001b[38;5;28;01mexcept\u001b[39;00m \u001b[38;5;167;01mValueError\u001b[39;00m \u001b[38;5;28;01mas\u001b[39;00m e:\n\u001b[0;32m      4\u001b[0m     \u001b[38;5;28;01mraise\u001b[39;00m e\n",
      "\u001b[1;31mZeroDivisionError\u001b[0m: division by zero"
     ]
    }
   ],
   "source": [
    "try:\n",
    "     a=1+5/0\n",
    "except ValueError as e:\n",
    "    raise e\n"
   ]
  },
  {
   "cell_type": "code",
   "execution_count": null,
   "metadata": {},
   "outputs": [],
   "source": []
  }
 ],
 "metadata": {
  "kernelspec": {
   "display_name": "Python 3",
   "language": "python",
   "name": "python3"
  },
  "language_info": {
   "codemirror_mode": {
    "name": "ipython",
    "version": 3
   },
   "file_extension": ".py",
   "mimetype": "text/x-python",
   "name": "python",
   "nbconvert_exporter": "python",
   "pygments_lexer": "ipython3",
   "version": "3.12.4"
  }
 },
 "nbformat": 4,
 "nbformat_minor": 2
}
