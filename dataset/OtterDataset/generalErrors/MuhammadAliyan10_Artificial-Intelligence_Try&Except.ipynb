{
 "cells": [
  {
   "cell_type": "code",
   "execution_count": 4,
   "metadata": {},
   "outputs": [
    {
     "name": "stdout",
     "output_type": "stream",
     "text": [
      "10\n"
     ]
    }
   ],
   "source": [
    "x : int = 10\n",
    "try:\n",
    "    print(x)\n",
    "except NameError:\n",
    "    print(\"x is not defined.\")"
   ]
  },
  {
   "cell_type": "code",
   "execution_count": 5,
   "metadata": {},
   "outputs": [
    {
     "name": "stdout",
     "output_type": "stream",
     "text": [
      "Aliyan\n",
      "Else called\n"
     ]
    }
   ],
   "source": [
    "name: str= input(\"What is your Name : \")\n",
    "try : \n",
    "    print(name)\n",
    "except NameError:\n",
    "    print(\"Name is not defined.\")\n",
    "else:\n",
    "    print(\"Else called\")"
   ]
  },
  {
   "cell_type": "code",
   "execution_count": 10,
   "metadata": {},
   "outputs": [
    {
     "name": "stdout",
     "output_type": "stream",
     "text": [
      "Age is not int\n",
      "12\n"
     ]
    }
   ],
   "source": [
    "age: int = input(\"What is your Age : \")\n",
    "try:\n",
    "    age = age + 10\n",
    "except:\n",
    "    print(\"Age is not int\")\n",
    "finally:\n",
    "    print(age)"
   ]
  },
  {
   "cell_type": "markdown",
   "metadata": {},
   "source": [
    "### *All Errors*"
   ]
  },
  {
   "cell_type": "code",
   "execution_count": 7,
   "metadata": {},
   "outputs": [],
   "source": [
    "# SyntaxError: Raised when the syntax of a Python code is incorrect.\n",
    "# IndentationError: Raised when there is incorrect indentation in the code.\n",
    "# NameError: Raised when a local or global name is not found.\n",
    "# TypeError: Raised when an operation or function is applied to an object of inappropriate type.\n",
    "# ValueError: Raised when a built-in operation or function receives an argument that has the right type but an inappropriate value.\n",
    "# ZeroDivisionError: Raised when the second argument of a division or modulo operation is zero.\n",
    "# IndexError: Raised when a sequence subscript is out of range.\n",
    "# KeyError: Raised when a dictionary key is not found.\n",
    "# FileNotFoundError: Raised when a file or directory is requested but cannot be found.\n",
    "# PermissionError: Raised when trying to perform an operation that the current user doesn't have permission to do."
   ]
  },
  {
   "cell_type": "code",
   "execution_count": 8,
   "metadata": {},
   "outputs": [
    {
     "ename": "Exception",
     "evalue": "Inavalid Number.",
     "output_type": "error",
     "traceback": [
      "\u001b[1;31m---------------------------------------------------------------------------\u001b[0m",
      "\u001b[1;31mException\u001b[0m                                 Traceback (most recent call last)",
      "Cell \u001b[1;32mIn[8], line 3\u001b[0m\n\u001b[0;32m      1\u001b[0m x \u001b[38;5;241m=\u001b[39m \u001b[38;5;241m10\u001b[39m\n\u001b[0;32m      2\u001b[0m \u001b[38;5;28;01mif\u001b[39;00m x\u001b[38;5;241m<\u001b[39m \u001b[38;5;241m20\u001b[39m:\n\u001b[1;32m----> 3\u001b[0m     \u001b[38;5;28;01mraise\u001b[39;00m \u001b[38;5;167;01mException\u001b[39;00m(\u001b[38;5;124m\"\u001b[39m\u001b[38;5;124mInavalid Number.\u001b[39m\u001b[38;5;124m\"\u001b[39m)\n",
      "\u001b[1;31mException\u001b[0m: Inavalid Number."
     ]
    }
   ],
   "source": [
    "x :int= 10\n",
    "if x< 20:\n",
    "    raise Exception(\"Inavalid Number.\")"
   ]
  },
  {
   "cell_type": "code",
   "execution_count": 9,
   "metadata": {},
   "outputs": [
    {
     "ename": "Exception",
     "evalue": "Invalid datatype.",
     "output_type": "error",
     "traceback": [
      "\u001b[1;31m---------------------------------------------------------------------------\u001b[0m",
      "\u001b[1;31mException\u001b[0m                                 Traceback (most recent call last)",
      "Cell \u001b[1;32mIn[9], line 3\u001b[0m\n\u001b[0;32m      1\u001b[0m age \u001b[38;5;241m=\u001b[39m \u001b[38;5;28minput\u001b[39m(\u001b[38;5;124m\"\u001b[39m\u001b[38;5;124mEnter your age : \u001b[39m\u001b[38;5;124m\"\u001b[39m)\n\u001b[0;32m      2\u001b[0m \u001b[38;5;28;01mif\u001b[39;00m \u001b[38;5;129;01mnot\u001b[39;00m \u001b[38;5;28mtype\u001b[39m(age) \u001b[38;5;129;01mis\u001b[39;00m \u001b[38;5;28mint\u001b[39m:\n\u001b[1;32m----> 3\u001b[0m     \u001b[38;5;28;01mraise\u001b[39;00m \u001b[38;5;167;01mException\u001b[39;00m(\u001b[38;5;124m\"\u001b[39m\u001b[38;5;124mInvalid datatype.\u001b[39m\u001b[38;5;124m\"\u001b[39m)\n",
      "\u001b[1;31mException\u001b[0m: Invalid datatype."
     ]
    }
   ],
   "source": [
    "age:int = input(\"Enter your age : \")\n",
    "if not type(age) is int:\n",
    "    raise Exception(\"Invalid datatype.\")"
   ]
  }
 ],
 "metadata": {
  "kernelspec": {
   "display_name": "Python 3",
   "language": "python",
   "name": "python3"
  },
  "language_info": {
   "codemirror_mode": {
    "name": "ipython",
    "version": 3
   },
   "file_extension": ".py",
   "mimetype": "text/x-python",
   "name": "python",
   "nbconvert_exporter": "python",
   "pygments_lexer": "ipython3",
   "version": "3.11.2"
  }
 },
 "nbformat": 4,
 "nbformat_minor": 2
}
