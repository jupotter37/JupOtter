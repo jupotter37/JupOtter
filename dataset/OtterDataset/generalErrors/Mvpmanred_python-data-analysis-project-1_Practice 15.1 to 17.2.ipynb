{
 "cells": [
  {
   "cell_type": "markdown",
   "id": "5940a1fc",
   "metadata": {},
   "source": [
    "15-1"
   ]
  },
  {
   "cell_type": "code",
   "execution_count": 1,
   "id": "6ec851f4",
   "metadata": {},
   "outputs": [
    {
     "name": "stdout",
     "output_type": "stream",
     "text": [
      "hello!\n"
     ]
    }
   ],
   "source": [
    "def greet_guy ():\n",
    "    '''hello! how are you?'''\n",
    "    print('hello!')\n",
    "\n",
    "greet_guy()"
   ]
  },
  {
   "cell_type": "code",
   "execution_count": 2,
   "id": "8e082bfb",
   "metadata": {},
   "outputs": [
    {
     "name": "stdout",
     "output_type": "stream",
     "text": [
      "hello!\n"
     ]
    }
   ],
   "source": [
    "greet_guy()"
   ]
  },
  {
   "cell_type": "code",
   "execution_count": 3,
   "id": "5e3400b3",
   "metadata": {},
   "outputs": [
    {
     "name": "stdout",
     "output_type": "stream",
     "text": [
      "Hello Python!\n"
     ]
    }
   ],
   "source": [
    "def greet_user(username):\n",
    "    print(f'Hello {username}!')\n",
    "\n",
    "greet_user('Python') #greet_user(username = 'Python')"
   ]
  },
  {
   "cell_type": "code",
   "execution_count": 4,
   "id": "27431ec6",
   "metadata": {},
   "outputs": [
    {
     "name": "stdout",
     "output_type": "stream",
     "text": [
      "Hello Siri!\n"
     ]
    }
   ],
   "source": [
    "username = 'Siri'\n",
    "greet_user(username)"
   ]
  },
  {
   "cell_type": "code",
   "execution_count": 6,
   "id": "9c934112",
   "metadata": {},
   "outputs": [],
   "source": [
    "def add(x,y):\n",
    "    print('x is {} and y is {}'.format(x,y))\n",
    "    return x+y"
   ]
  },
  {
   "cell_type": "code",
   "execution_count": 7,
   "id": "3a6ef130",
   "metadata": {},
   "outputs": [
    {
     "name": "stdout",
     "output_type": "stream",
     "text": [
      "x is 5 and y is 6\n"
     ]
    },
    {
     "data": {
      "text/plain": [
       "11"
      ]
     },
     "execution_count": 7,
     "metadata": {},
     "output_type": "execute_result"
    }
   ],
   "source": [
    "add(5,6)\n"
   ]
  },
  {
   "cell_type": "code",
   "execution_count": 9,
   "id": "5389ea93",
   "metadata": {},
   "outputs": [
    {
     "name": "stdout",
     "output_type": "stream",
     "text": [
      "x is 1 and y is 2\n"
     ]
    },
    {
     "data": {
      "text/plain": [
       "3"
      ]
     },
     "execution_count": 9,
     "metadata": {},
     "output_type": "execute_result"
    }
   ],
   "source": [
    "x =1\n",
    "y =2\n",
    "sum_num = add(x,y)\n",
    "sum_num"
   ]
  },
  {
   "cell_type": "code",
   "execution_count": 10,
   "id": "6c6a2c12",
   "metadata": {},
   "outputs": [
    {
     "name": "stdout",
     "output_type": "stream",
     "text": [
      "False\n"
     ]
    }
   ],
   "source": [
    "print (sum_num is None)"
   ]
  },
  {
   "cell_type": "markdown",
   "id": "4a7d34fd",
   "metadata": {},
   "source": [
    "15-2"
   ]
  },
  {
   "cell_type": "code",
   "execution_count": 16,
   "id": "b525ff79",
   "metadata": {},
   "outputs": [
    {
     "name": "stdout",
     "output_type": "stream",
     "text": [
      "I have a rabbit.\n",
      "My rabbit's name is Harry\n",
      "\n",
      "I have a Harry.\n",
      "My Harry's name is rabbit\n",
      "\n",
      "I have a bird.\n",
      "My bird's name is Joey\n",
      "\n",
      "I have a Joey.\n",
      "My Joey's name is bird\n",
      "\n"
     ]
    }
   ],
   "source": [
    "def describe_pet(animal, pet_name):\n",
    "    print(f'I have a {animal}.')\n",
    "    print(f'My {animal}\\'s name is {pet_name}\\n')\n",
    "    \n",
    "describe_pet('rabbit','Harry')\n",
    "describe_pet('Harry','rabbit')\n",
    "\n",
    "animal = 'bird'\n",
    "pet_name = 'Joey'\n",
    "describe_pet(animal, pet_name)\n",
    "describe_pet(pet_name, animal)"
   ]
  },
  {
   "cell_type": "code",
   "execution_count": 17,
   "id": "ca6a6b26",
   "metadata": {},
   "outputs": [
    {
     "name": "stdout",
     "output_type": "stream",
     "text": [
      "I have a cat.\n",
      "My cat's name is Jesse\n",
      "\n",
      "I have a bird.\n",
      "My bird's name is Joy\n",
      "\n"
     ]
    }
   ],
   "source": [
    "describe_pet(pet_name = 'Jesse', animal ='cat')\n",
    "\n",
    "animal = 'bird'\n",
    "pet_name = 'Joy'\n",
    "describe_pet(animal=animal, pet_name=pet_name)"
   ]
  },
  {
   "cell_type": "code",
   "execution_count": 19,
   "id": "8eed7f0a",
   "metadata": {},
   "outputs": [],
   "source": [
    "def print_two_var(str_var1, str_var2= 'hello money'):\n",
    "    print(str_var1)\n",
    "    print(str_var2+'\\n')\n",
    "    \n",
    "    return 'I am print_two_var'"
   ]
  },
  {
   "cell_type": "code",
   "execution_count": 22,
   "id": "a5c94b44",
   "metadata": {},
   "outputs": [
    {
     "name": "stdout",
     "output_type": "stream",
     "text": [
      "Hello, Python!\n",
      "hello money\n",
      "\n",
      "Hello, Python!\n",
      "hello money\n",
      "\n"
     ]
    },
    {
     "data": {
      "text/plain": [
       "'I am print_two_var'"
      ]
     },
     "execution_count": 22,
     "metadata": {},
     "output_type": "execute_result"
    }
   ],
   "source": [
    "print_two_var(str_var1='Hello, Python!')\n",
    "print_two_var('Hello, Python!')"
   ]
  },
  {
   "cell_type": "code",
   "execution_count": 24,
   "id": "00d595f1",
   "metadata": {},
   "outputs": [
    {
     "name": "stdout",
     "output_type": "stream",
     "text": [
      "hello, python\n",
      "hello, investors\n",
      "\n",
      "hello, python\n",
      "hello, investors\n",
      "\n"
     ]
    },
    {
     "data": {
      "text/plain": [
       "'I am print_two_var'"
      ]
     },
     "execution_count": 24,
     "metadata": {},
     "output_type": "execute_result"
    }
   ],
   "source": [
    "print_two_var(str_var1='hello, python', str_var2='hello, investors')\n",
    "print_two_var('hello, python', 'hello, investors')"
   ]
  },
  {
   "cell_type": "code",
   "execution_count": 25,
   "id": "d0f10577",
   "metadata": {},
   "outputs": [
    {
     "name": "stdout",
     "output_type": "stream",
     "text": [
      "hello, python\n",
      "hello, investors\n",
      "\n",
      "hello, investors\n",
      "hello, python\n",
      "\n",
      "hello, python\n",
      "hello, investor\n",
      "\n",
      "hello,python\n",
      "hello money\n",
      "\n",
      "I am print_two_var\n"
     ]
    }
   ],
   "source": [
    "print_two_var(str_var1='hello, python', str_var2='hello, investors')\n",
    "print_two_var(str_var2='hello, python', str_var1='hello, investors')\n",
    "print_two_var('hello, python','hello, investor')\n",
    "print(print_two_var('hello,python'))"
   ]
  },
  {
   "cell_type": "code",
   "execution_count": 26,
   "id": "b4afb4c1",
   "metadata": {},
   "outputs": [
    {
     "ename": "TypeError",
     "evalue": "print_two_var() missing 1 required positional argument: 'str_var1'",
     "output_type": "error",
     "traceback": [
      "\u001b[1;31m---------------------------------------------------------------------------\u001b[0m",
      "\u001b[1;31mTypeError\u001b[0m                                 Traceback (most recent call last)",
      "\u001b[1;32m~\\AppData\\Local\\Temp\\ipykernel_9776\\1352786882.py\u001b[0m in \u001b[0;36m<module>\u001b[1;34m\u001b[0m\n\u001b[1;32m----> 1\u001b[1;33m \u001b[0mprint_two_var\u001b[0m\u001b[1;33m(\u001b[0m\u001b[1;33m)\u001b[0m\u001b[1;33m\u001b[0m\u001b[1;33m\u001b[0m\u001b[0m\n\u001b[0m",
      "\u001b[1;31mTypeError\u001b[0m: print_two_var() missing 1 required positional argument: 'str_var1'"
     ]
    }
   ],
   "source": [
    "print_two_var()"
   ]
  },
  {
   "cell_type": "markdown",
   "id": "495fa182",
   "metadata": {},
   "source": [
    "15-3"
   ]
  },
  {
   "cell_type": "code",
   "execution_count": 37,
   "id": "a41756fc",
   "metadata": {},
   "outputs": [],
   "source": [
    "def swap(x,y):\n",
    "    return y,x"
   ]
  },
  {
   "cell_type": "code",
   "execution_count": 38,
   "id": "3d28c48b",
   "metadata": {},
   "outputs": [],
   "source": [
    "x =1 \n",
    "y = 2\n",
    "x,y = swap(x=x, y=y)"
   ]
  },
  {
   "cell_type": "code",
   "execution_count": 39,
   "id": "15d2143e",
   "metadata": {},
   "outputs": [
    {
     "name": "stdout",
     "output_type": "stream",
     "text": [
      "2 1\n"
     ]
    }
   ],
   "source": [
    "print (x,y)"
   ]
  },
  {
   "cell_type": "code",
   "execution_count": 41,
   "id": "718e6f15",
   "metadata": {},
   "outputs": [
    {
     "name": "stdout",
     "output_type": "stream",
     "text": [
      "2 1\n"
     ]
    }
   ],
   "source": [
    "x = 1\n",
    "y = 2\n",
    "y,x = x,y\n",
    "print (x,y)"
   ]
  },
  {
   "cell_type": "code",
   "execution_count": 44,
   "id": "5a9df644",
   "metadata": {},
   "outputs": [],
   "source": [
    "def add_num(x,y):\n",
    "    print(x+y)"
   ]
  },
  {
   "cell_type": "code",
   "execution_count": 45,
   "id": "062e83eb",
   "metadata": {},
   "outputs": [
    {
     "name": "stdout",
     "output_type": "stream",
     "text": [
      "1390\n"
     ]
    }
   ],
   "source": [
    "add_num (700,690)\n"
   ]
  },
  {
   "cell_type": "code",
   "execution_count": 46,
   "id": "f71c9de1",
   "metadata": {},
   "outputs": [
    {
     "name": "stdout",
     "output_type": "stream",
     "text": [
      "30\n",
      "==========\n",
      "None\n"
     ]
    }
   ],
   "source": [
    "sum_num = add_num(10,20)\n",
    "print('='*10)\n",
    "print(sum_num)"
   ]
  },
  {
   "cell_type": "code",
   "execution_count": 49,
   "id": "2332e50c",
   "metadata": {},
   "outputs": [],
   "source": [
    "li = [1,2,3]\n",
    "li.append(4)"
   ]
  },
  {
   "cell_type": "code",
   "execution_count": 51,
   "id": "b4b0420e",
   "metadata": {},
   "outputs": [
    {
     "name": "stdout",
     "output_type": "stream",
     "text": [
      "[1, 2, 3, 4]\n"
     ]
    }
   ],
   "source": [
    "print(li)"
   ]
  },
  {
   "cell_type": "markdown",
   "id": "18318ff1",
   "metadata": {},
   "source": [
    "15-4\n"
   ]
  },
  {
   "cell_type": "code",
   "execution_count": 1,
   "id": "408c4e6e",
   "metadata": {},
   "outputs": [],
   "source": [
    "x = 5\n",
    "\n",
    "def set_x(num):\n",
    "    x=num\n",
    "    print(x)"
   ]
  },
  {
   "cell_type": "code",
   "execution_count": 3,
   "id": "b794df1b",
   "metadata": {},
   "outputs": [
    {
     "name": "stdout",
     "output_type": "stream",
     "text": [
      "33\n"
     ]
    }
   ],
   "source": [
    "set_x(33)"
   ]
  },
  {
   "cell_type": "code",
   "execution_count": 4,
   "id": "99b64b3b",
   "metadata": {},
   "outputs": [
    {
     "data": {
      "text/plain": [
       "5"
      ]
     },
     "execution_count": 4,
     "metadata": {},
     "output_type": "execute_result"
    }
   ],
   "source": [
    "x"
   ]
  },
  {
   "cell_type": "code",
   "execution_count": 6,
   "id": "7f31fae0",
   "metadata": {
    "scrolled": true
   },
   "outputs": [],
   "source": [
    "def set_global_x(num):\n",
    "    global x\n",
    "    print(x)\n",
    "    x = num\n",
    "    print(x)"
   ]
  },
  {
   "cell_type": "code",
   "execution_count": 7,
   "id": "b871206d",
   "metadata": {},
   "outputs": [
    {
     "name": "stdout",
     "output_type": "stream",
     "text": [
      "5\n",
      "6\n"
     ]
    }
   ],
   "source": [
    "set_global_x(6)"
   ]
  },
  {
   "cell_type": "code",
   "execution_count": 15,
   "id": "8fc0f5f9",
   "metadata": {},
   "outputs": [],
   "source": [
    " def get_price(stock_code):\n",
    "        \"\"\"\n",
    "        getting stock prices\n",
    "        :param stock_code: code,str or list\n",
    "        :return: current stock price\n",
    "        \"\"\"\n",
    "        print(stock_code +'stock price: 12.8')\n",
    "        return{stock_code:12.8}"
   ]
  },
  {
   "cell_type": "code",
   "execution_count": 16,
   "id": "2693f56d",
   "metadata": {},
   "outputs": [
    {
     "name": "stdout",
     "output_type": "stream",
     "text": [
      "\n",
      "       getting stock prices\n",
      "       :param stock_code: code,str or list\n",
      "       :return: current stock price\n",
      "       \n"
     ]
    }
   ],
   "source": [
    "print(get_price.__doc__)"
   ]
  },
  {
   "cell_type": "code",
   "execution_count": 17,
   "id": "5078c3ec",
   "metadata": {},
   "outputs": [],
   "source": [
    "len?"
   ]
  },
  {
   "cell_type": "markdown",
   "id": "e34a95f5",
   "metadata": {},
   "source": [
    "16-1"
   ]
  },
  {
   "cell_type": "code",
   "execution_count": 20,
   "id": "85fd1b20",
   "metadata": {},
   "outputs": [
    {
     "name": "stdout",
     "output_type": "stream",
     "text": [
      "10\n"
     ]
    },
    {
     "data": {
      "text/plain": [
       "(1, 2, 3, 4, 10)"
      ]
     },
     "execution_count": 20,
     "metadata": {},
     "output_type": "execute_result"
    }
   ],
   "source": [
    "def varargs(*args):\n",
    "    print(args[-1])\n",
    "    return args\n",
    "varargs(1,2,3,4,10)"
   ]
  },
  {
   "cell_type": "code",
   "execution_count": 21,
   "id": "591872f2",
   "metadata": {},
   "outputs": [
    {
     "data": {
      "text/plain": [
       "3.0"
      ]
     },
     "execution_count": 21,
     "metadata": {},
     "output_type": "execute_result"
    }
   ],
   "source": [
    "def calc_average(*args):\n",
    "    average_res = sum(args)/len(args)\n",
    "    return average_res\n",
    "calc_average(1,2,3,4,5)"
   ]
  },
  {
   "cell_type": "code",
   "execution_count": 23,
   "id": "4b3f0194",
   "metadata": {},
   "outputs": [
    {
     "data": {
      "text/plain": [
       "3.0"
      ]
     },
     "execution_count": 23,
     "metadata": {},
     "output_type": "execute_result"
    }
   ],
   "source": [
    "def cals_average(*args):\n",
    "    if len(args)== 0:\n",
    "        return 0\n",
    "    else:\n",
    "        average_result = sum(args)/len(args)\n",
    "        return average_result\n",
    "\n",
    "cals_average(1,2,3,4,5)"
   ]
  },
  {
   "cell_type": "code",
   "execution_count": 26,
   "id": "d03b2d3b",
   "metadata": {},
   "outputs": [
    {
     "name": "stdout",
     "output_type": "stream",
     "text": [
      "None\n"
     ]
    },
    {
     "data": {
      "text/plain": [
       "{'big': 'food', 'loch': 'mess'}"
      ]
     },
     "execution_count": 26,
     "metadata": {},
     "output_type": "execute_result"
    }
   ],
   "source": [
    "def keyword_args(**kwargs):\n",
    "    print(kwargs.get('233'))\n",
    "    return kwargs\n",
    "keyword_args(big=\"food\", loch=\"mess\")"
   ]
  },
  {
   "cell_type": "code",
   "execution_count": 58,
   "id": "7c7c254c",
   "metadata": {},
   "outputs": [
    {
     "name": "stdout",
     "output_type": "stream",
     "text": [
      "1\n",
      "20\n",
      "()\n",
      "{'a': 3, 'b': 4}\n"
     ]
    }
   ],
   "source": [
    "def all_the_args(normargs,defargs, *args, **kwargs):\n",
    "    print(normargs)\n",
    "#    print(nonargs)\n",
    "    print(defargs)\n",
    "    print(args)\n",
    "    print(kwargs)\n",
    "    \n",
    "all_the_args(1, 20, a=3, b=4)"
   ]
  },
  {
   "cell_type": "code",
   "execution_count": 65,
   "id": "62317de0",
   "metadata": {},
   "outputs": [
    {
     "name": "stdout",
     "output_type": "stream",
     "text": [
      "(1, 20)\n",
      "{'a': 3, 'b': 4}\n"
     ]
    }
   ],
   "source": [
    "def all_the_args(*args, **kwargs):\n",
    "#    print(normargs)\n",
    "#    print(nonargs)\n",
    "#    print(defargs)\n",
    "    print(args)\n",
    "    print(kwargs)\n",
    "    \n",
    "all_the_args(1, 20, a=3, b=4)"
   ]
  },
  {
   "cell_type": "code",
   "execution_count": 66,
   "id": "77cf1612",
   "metadata": {},
   "outputs": [
    {
     "name": "stdout",
     "output_type": "stream",
     "text": [
      "(1, 2, 3, 4)\n",
      "{}\n",
      "==========\n"
     ]
    }
   ],
   "source": [
    "args = (1, 2, 3, 4)\n",
    "kwargs = {\"a\": 3, \"b\": 4}\n",
    "all_the_args(*args)           \n",
    "print('='*10)"
   ]
  },
  {
   "cell_type": "code",
   "execution_count": 67,
   "id": "e9badb9c",
   "metadata": {},
   "outputs": [
    {
     "name": "stdout",
     "output_type": "stream",
     "text": [
      "()\n",
      "{'a': 3, 'b': 4}\n",
      "==========\n"
     ]
    }
   ],
   "source": [
    "all_the_args(**kwargs)    \n",
    "print('='*10)"
   ]
  },
  {
   "cell_type": "code",
   "execution_count": 68,
   "id": "f6fdbea9",
   "metadata": {},
   "outputs": [
    {
     "name": "stdout",
     "output_type": "stream",
     "text": [
      "(1, 2, 3, 4)\n",
      "{'a': 3, 'b': 4}\n"
     ]
    }
   ],
   "source": [
    "all_the_args(*args, **kwargs)"
   ]
  },
  {
   "cell_type": "markdown",
   "id": "48dccc8e",
   "metadata": {},
   "source": [
    "16-2"
   ]
  },
  {
   "cell_type": "code",
   "execution_count": 2,
   "id": "33f7c572",
   "metadata": {},
   "outputs": [],
   "source": [
    "def create_adder(x):\n",
    "    def adder(y):\n",
    "        return x + y\n",
    "    return adder"
   ]
  },
  {
   "cell_type": "code",
   "execution_count": 3,
   "id": "a13438d8",
   "metadata": {},
   "outputs": [
    {
     "data": {
      "text/plain": [
       "14"
      ]
     },
     "execution_count": 3,
     "metadata": {},
     "output_type": "execute_result"
    }
   ],
   "source": [
    "add_10 = create_adder(10)\n",
    "add_10(4)"
   ]
  },
  {
   "cell_type": "code",
   "execution_count": 4,
   "id": "729175bc",
   "metadata": {},
   "outputs": [],
   "source": [
    "def adder(y):\n",
    "    return 10+y"
   ]
  },
  {
   "cell_type": "code",
   "execution_count": 5,
   "id": "ffce8473",
   "metadata": {},
   "outputs": [
    {
     "data": {
      "text/plain": [
       "12"
      ]
     },
     "execution_count": 5,
     "metadata": {},
     "output_type": "execute_result"
    }
   ],
   "source": [
    "add_10(2)"
   ]
  },
  {
   "cell_type": "markdown",
   "id": "89749e43",
   "metadata": {},
   "source": [
    "16-3"
   ]
  },
  {
   "cell_type": "code",
   "execution_count": 1,
   "id": "e0be87c5",
   "metadata": {},
   "outputs": [],
   "source": [
    "def fact(n):\n",
    "    if n==1:\n",
    "        return 1\n",
    "    return n * fact(n - 1)"
   ]
  },
  {
   "cell_type": "code",
   "execution_count": 2,
   "id": "d5a81e85",
   "metadata": {},
   "outputs": [
    {
     "data": {
      "text/plain": [
       "120"
      ]
     },
     "execution_count": 2,
     "metadata": {},
     "output_type": "execute_result"
    }
   ],
   "source": [
    "fact(5)\n"
   ]
  },
  {
   "cell_type": "code",
   "execution_count": 3,
   "id": "6544e083",
   "metadata": {},
   "outputs": [
    {
     "data": {
      "text/plain": [
       "720"
      ]
     },
     "execution_count": 3,
     "metadata": {},
     "output_type": "execute_result"
    }
   ],
   "source": [
    "def jiecheng(n):\n",
    "    prod =1\n",
    "    for i in range (1, n+1):\n",
    "        prod *=i\n",
    "    return prod\n",
    "jiecheng(6)"
   ]
  },
  {
   "cell_type": "code",
   "execution_count": 4,
   "id": "630765a0",
   "metadata": {},
   "outputs": [],
   "source": [
    "def fact_iter(num, product=1):\n",
    "    if num == 1:\n",
    "        return product\n",
    "    return fact_iter(num - 1, num*product)"
   ]
  },
  {
   "cell_type": "code",
   "execution_count": 5,
   "id": "74e934b0",
   "metadata": {},
   "outputs": [
    {
     "data": {
      "text/plain": [
       "120"
      ]
     },
     "execution_count": 5,
     "metadata": {},
     "output_type": "execute_result"
    }
   ],
   "source": [
    "fact_iter(5)"
   ]
  },
  {
   "cell_type": "markdown",
   "id": "1e1bf479",
   "metadata": {},
   "source": [
    "1+2+3+4+...n"
   ]
  },
  {
   "cell_type": "code",
   "execution_count": 8,
   "id": "ee099dec",
   "metadata": {},
   "outputs": [
    {
     "data": {
      "text/plain": [
       "55"
      ]
     },
     "execution_count": 8,
     "metadata": {},
     "output_type": "execute_result"
    }
   ],
   "source": [
    "def readd(n,add):\n",
    "    if n==1:\n",
    "        return add\n",
    "    return readd(n-1,n+add)\n",
    "readd(10,1)"
   ]
  },
  {
   "cell_type": "markdown",
   "id": "fbd3ef27",
   "metadata": {},
   "source": [
    "16-4"
   ]
  },
  {
   "cell_type": "code",
   "execution_count": 10,
   "id": "f5a9b7ba",
   "metadata": {},
   "outputs": [
    {
     "name": "stdout",
     "output_type": "stream",
     "text": [
      "True\n",
      "5\n"
     ]
    }
   ],
   "source": [
    "print((lambda x: x > 2)(3))                \n",
    "\n",
    "print((lambda x, y: x ** 2 + y ** 2)(2, 1)) "
   ]
  },
  {
   "cell_type": "code",
   "execution_count": 11,
   "id": "8d3ccc42",
   "metadata": {},
   "outputs": [],
   "source": [
    "def add(x,y):\n",
    "    return x+y"
   ]
  },
  {
   "cell_type": "code",
   "execution_count": 12,
   "id": "3c8a5617",
   "metadata": {},
   "outputs": [
    {
     "data": {
      "text/plain": [
       "3"
      ]
     },
     "execution_count": 12,
     "metadata": {},
     "output_type": "execute_result"
    }
   ],
   "source": [
    "f = lambda x, y: x+y\n",
    "f(1, 2)"
   ]
  },
  {
   "cell_type": "code",
   "execution_count": 14,
   "id": "17fe5ed7",
   "metadata": {},
   "outputs": [
    {
     "data": {
      "text/plain": [
       "6"
      ]
     },
     "execution_count": 14,
     "metadata": {},
     "output_type": "execute_result"
    }
   ],
   "source": [
    "(lambda x, y: x if x>y else y)(6,2)"
   ]
  },
  {
   "cell_type": "markdown",
   "id": "b3ad8b72",
   "metadata": {},
   "source": [
    "16-5"
   ]
  },
  {
   "cell_type": "code",
   "execution_count": 16,
   "id": "a627ec7b",
   "metadata": {},
   "outputs": [
    {
     "name": "stdout",
     "output_type": "stream",
     "text": [
      "<built-in function abs>\n",
      "<built-in function abs>\n"
     ]
    }
   ],
   "source": [
    "f = abs\n",
    "print(f)\n",
    "print(abs)"
   ]
  },
  {
   "cell_type": "code",
   "execution_count": 17,
   "id": "24459626",
   "metadata": {},
   "outputs": [
    {
     "name": "stdout",
     "output_type": "stream",
     "text": [
      "10\n",
      "10\n"
     ]
    }
   ],
   "source": [
    "print(f(-10))\n",
    "print(abs(-10))"
   ]
  },
  {
   "cell_type": "code",
   "execution_count": 19,
   "id": "a0b4dc20",
   "metadata": {},
   "outputs": [
    {
     "data": {
      "text/plain": [
       "1"
      ]
     },
     "execution_count": 19,
     "metadata": {},
     "output_type": "execute_result"
    }
   ],
   "source": [
    "def add(x, y, f):\n",
    "    return f(x) + f(y)\n",
    "\n",
    "add(10, -21, lambda x: x>=10)"
   ]
  },
  {
   "cell_type": "markdown",
   "id": "ca1607fa",
   "metadata": {},
   "source": [
    "17-1"
   ]
  },
  {
   "cell_type": "code",
   "execution_count": 22,
   "id": "80ee6af8",
   "metadata": {},
   "outputs": [
    {
     "data": {
      "text/plain": [
       "['ArithmeticError',\n",
       " 'AssertionError',\n",
       " 'AttributeError',\n",
       " 'BaseException',\n",
       " 'BlockingIOError',\n",
       " 'BrokenPipeError',\n",
       " 'BufferError',\n",
       " 'BytesWarning',\n",
       " 'ChildProcessError',\n",
       " 'ConnectionAbortedError',\n",
       " 'ConnectionError',\n",
       " 'ConnectionRefusedError',\n",
       " 'ConnectionResetError',\n",
       " 'DeprecationWarning',\n",
       " 'EOFError',\n",
       " 'Ellipsis',\n",
       " 'EnvironmentError',\n",
       " 'Exception',\n",
       " 'False',\n",
       " 'FileExistsError',\n",
       " 'FileNotFoundError',\n",
       " 'FloatingPointError',\n",
       " 'FutureWarning',\n",
       " 'GeneratorExit',\n",
       " 'IOError',\n",
       " 'ImportError',\n",
       " 'ImportWarning',\n",
       " 'IndentationError',\n",
       " 'IndexError',\n",
       " 'InterruptedError',\n",
       " 'IsADirectoryError',\n",
       " 'KeyError',\n",
       " 'KeyboardInterrupt',\n",
       " 'LookupError',\n",
       " 'MemoryError',\n",
       " 'ModuleNotFoundError',\n",
       " 'NameError',\n",
       " 'None',\n",
       " 'NotADirectoryError',\n",
       " 'NotImplemented',\n",
       " 'NotImplementedError',\n",
       " 'OSError',\n",
       " 'OverflowError',\n",
       " 'PendingDeprecationWarning',\n",
       " 'PermissionError',\n",
       " 'ProcessLookupError',\n",
       " 'RecursionError',\n",
       " 'ReferenceError',\n",
       " 'ResourceWarning',\n",
       " 'RuntimeError',\n",
       " 'RuntimeWarning',\n",
       " 'StopAsyncIteration',\n",
       " 'StopIteration',\n",
       " 'SyntaxError',\n",
       " 'SyntaxWarning',\n",
       " 'SystemError',\n",
       " 'SystemExit',\n",
       " 'TabError',\n",
       " 'TimeoutError',\n",
       " 'True',\n",
       " 'TypeError',\n",
       " 'UnboundLocalError',\n",
       " 'UnicodeDecodeError',\n",
       " 'UnicodeEncodeError',\n",
       " 'UnicodeError',\n",
       " 'UnicodeTranslateError',\n",
       " 'UnicodeWarning',\n",
       " 'UserWarning',\n",
       " 'ValueError',\n",
       " 'Warning',\n",
       " 'WindowsError',\n",
       " 'ZeroDivisionError',\n",
       " '__IPYTHON__',\n",
       " '__build_class__',\n",
       " '__debug__',\n",
       " '__doc__',\n",
       " '__import__',\n",
       " '__loader__',\n",
       " '__name__',\n",
       " '__package__',\n",
       " '__spec__',\n",
       " 'abs',\n",
       " 'all',\n",
       " 'any',\n",
       " 'ascii',\n",
       " 'bin',\n",
       " 'bool',\n",
       " 'breakpoint',\n",
       " 'bytearray',\n",
       " 'bytes',\n",
       " 'callable',\n",
       " 'chr',\n",
       " 'classmethod',\n",
       " 'compile',\n",
       " 'complex',\n",
       " 'copyright',\n",
       " 'credits',\n",
       " 'delattr',\n",
       " 'dict',\n",
       " 'dir',\n",
       " 'display',\n",
       " 'divmod',\n",
       " 'enumerate',\n",
       " 'eval',\n",
       " 'exec',\n",
       " 'execfile',\n",
       " 'filter',\n",
       " 'float',\n",
       " 'format',\n",
       " 'frozenset',\n",
       " 'get_ipython',\n",
       " 'getattr',\n",
       " 'globals',\n",
       " 'hasattr',\n",
       " 'hash',\n",
       " 'help',\n",
       " 'hex',\n",
       " 'id',\n",
       " 'input',\n",
       " 'int',\n",
       " 'isinstance',\n",
       " 'issubclass',\n",
       " 'iter',\n",
       " 'len',\n",
       " 'license',\n",
       " 'list',\n",
       " 'locals',\n",
       " 'map',\n",
       " 'max',\n",
       " 'memoryview',\n",
       " 'min',\n",
       " 'next',\n",
       " 'object',\n",
       " 'oct',\n",
       " 'open',\n",
       " 'ord',\n",
       " 'pow',\n",
       " 'print',\n",
       " 'property',\n",
       " 'range',\n",
       " 'repr',\n",
       " 'reversed',\n",
       " 'round',\n",
       " 'runfile',\n",
       " 'set',\n",
       " 'setattr',\n",
       " 'slice',\n",
       " 'sorted',\n",
       " 'staticmethod',\n",
       " 'str',\n",
       " 'sum',\n",
       " 'super',\n",
       " 'tuple',\n",
       " 'type',\n",
       " 'vars',\n",
       " 'zip']"
      ]
     },
     "execution_count": 22,
     "metadata": {},
     "output_type": "execute_result"
    }
   ],
   "source": [
    "dir(__builtins__)"
   ]
  },
  {
   "cell_type": "code",
   "execution_count": 23,
   "id": "f4b0075c",
   "metadata": {},
   "outputs": [],
   "source": [
    "len?"
   ]
  },
  {
   "cell_type": "code",
   "execution_count": 24,
   "id": "b6c97fdf",
   "metadata": {},
   "outputs": [],
   "source": [
    "str.lower?\n"
   ]
  },
  {
   "cell_type": "markdown",
   "id": "26d9be81",
   "metadata": {},
   "source": [
    "17-2"
   ]
  },
  {
   "cell_type": "code",
   "execution_count": 32,
   "id": "182b63d1",
   "metadata": {},
   "outputs": [
    {
     "data": {
      "text/plain": [
       "13"
      ]
     },
     "execution_count": 32,
     "metadata": {},
     "output_type": "execute_result"
    }
   ],
   "source": [
    "def create_adder(x):\n",
    "    def adder(y):\n",
    "        return x + y\n",
    "    return adder \n",
    "add_10 = create_adder(10)\n",
    "add_10(3)\n"
   ]
  },
  {
   "cell_type": "code",
   "execution_count": 33,
   "id": "120ee9ad",
   "metadata": {},
   "outputs": [
    {
     "data": {
      "text/plain": [
       "[11, 12, 13]"
      ]
     },
     "execution_count": 33,
     "metadata": {},
     "output_type": "execute_result"
    }
   ],
   "source": [
    "list(map(add_10,[1,2,3]))"
   ]
  },
  {
   "cell_type": "code",
   "execution_count": 34,
   "id": "a8c619cc",
   "metadata": {},
   "outputs": [
    {
     "data": {
      "text/plain": [
       "[3, 7, 11, 15, 19]"
      ]
     },
     "execution_count": 34,
     "metadata": {},
     "output_type": "execute_result"
    }
   ],
   "source": [
    "list (map(lambda x,y:x + y, [1,3,5,7,9], [2,4,6,8,10]))"
   ]
  },
  {
   "cell_type": "code",
   "execution_count": 39,
   "id": "9bc2392f",
   "metadata": {},
   "outputs": [
    {
     "data": {
      "text/plain": [
       "[11, 12, 13]"
      ]
     },
     "execution_count": 39,
     "metadata": {},
     "output_type": "execute_result"
    }
   ],
   "source": [
    "[add_10(1), add_10(2), add_10(3)]"
   ]
  },
  {
   "cell_type": "code",
   "execution_count": 41,
   "id": "bc85035c",
   "metadata": {},
   "outputs": [
    {
     "data": {
      "text/plain": [
       "[15, 12, 10]"
      ]
     },
     "execution_count": 41,
     "metadata": {},
     "output_type": "execute_result"
    }
   ],
   "source": [
    "list(map(max,[1,12,3],[14,2,10],[15,6,8]))"
   ]
  },
  {
   "cell_type": "code",
   "execution_count": 44,
   "id": "49abdc5d",
   "metadata": {},
   "outputs": [
    {
     "data": {
      "text/plain": [
       "[15, 12, 31]"
      ]
     },
     "execution_count": 44,
     "metadata": {},
     "output_type": "execute_result"
    }
   ],
   "source": [
    "[max(1,14,15), max(12,2,6), max(31,1,8)]"
   ]
  },
  {
   "cell_type": "code",
   "execution_count": 45,
   "id": "4c0b5a09",
   "metadata": {},
   "outputs": [
    {
     "data": {
      "text/plain": [
       "[6, 7]"
      ]
     },
     "execution_count": 45,
     "metadata": {},
     "output_type": "execute_result"
    }
   ],
   "source": [
    "list(filter(lambda x: x > 5, [3, 4, 5, 6, 7]))"
   ]
  },
  {
   "cell_type": "code",
   "execution_count": 46,
   "id": "43ea59b4",
   "metadata": {},
   "outputs": [],
   "source": [
    "def fil(x):\n",
    "    return x>5"
   ]
  },
  {
   "cell_type": "code",
   "execution_count": 47,
   "id": "d5976eef",
   "metadata": {},
   "outputs": [
    {
     "data": {
      "text/plain": [
       "[6, 7, 8]"
      ]
     },
     "execution_count": 47,
     "metadata": {},
     "output_type": "execute_result"
    }
   ],
   "source": [
    "list(filter(fil, [3,4,5,6,7,8]))"
   ]
  },
  {
   "cell_type": "code",
   "execution_count": 48,
   "id": "8d653e61",
   "metadata": {},
   "outputs": [
    {
     "data": {
      "text/plain": [
       "[11, 12, 13]"
      ]
     },
     "execution_count": 48,
     "metadata": {},
     "output_type": "execute_result"
    }
   ],
   "source": [
    "[add_10(i) for i in [1, 2, 3]]"
   ]
  },
  {
   "cell_type": "code",
   "execution_count": 49,
   "id": "14257eef",
   "metadata": {},
   "outputs": [
    {
     "data": {
      "text/plain": [
       "[16, 17]"
      ]
     },
     "execution_count": 49,
     "metadata": {},
     "output_type": "execute_result"
    }
   ],
   "source": [
    "[add_10(x) for x in [3, 4, 5, 6, 7] if x > 5]"
   ]
  },
  {
   "cell_type": "code",
   "execution_count": 51,
   "id": "7ab84eff",
   "metadata": {},
   "outputs": [
    {
     "data": {
      "text/plain": [
       "{'str_0': 0, 'str_1': 1, 'str_2': 4, 'str_3': 9, 'str_4': 16}"
      ]
     },
     "execution_count": 51,
     "metadata": {},
     "output_type": "execute_result"
    }
   ],
   "source": [
    "{'str_'+str(x): x**2 \n",
    " for x in range(5)}  # => {0: 0, 1: 1, 2: 4, 3: 9, 4: 16}"
   ]
  },
  {
   "cell_type": "code",
   "execution_count": 52,
   "id": "b38f9392",
   "metadata": {},
   "outputs": [
    {
     "data": {
      "text/plain": [
       "0.6066000908371338"
      ]
     },
     "execution_count": 52,
     "metadata": {},
     "output_type": "execute_result"
    }
   ],
   "source": [
    "import random\n",
    "random.random()"
   ]
  }
 ],
 "metadata": {
  "kernelspec": {
   "display_name": "Python 3 (ipykernel)",
   "language": "python",
   "name": "python3"
  },
  "language_info": {
   "codemirror_mode": {
    "name": "ipython",
    "version": 3
   },
   "file_extension": ".py",
   "mimetype": "text/x-python",
   "name": "python",
   "nbconvert_exporter": "python",
   "pygments_lexer": "ipython3",
   "version": "3.9.13"
  }
 },
 "nbformat": 4,
 "nbformat_minor": 5
}
