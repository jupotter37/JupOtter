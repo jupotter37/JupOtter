{
  "nbformat": 4,
  "nbformat_minor": 0,
  "metadata": {
    "colab": {
      "provenance": [],
      "authorship_tag": "ABX9TyN7hJumxcdjN9VQEdyXChbT",
      "include_colab_link": true
    },
    "kernelspec": {
      "name": "python3",
      "display_name": "Python 3"
    },
    "language_info": {
      "name": "python"
    }
  },
  "cells": [
    {
      "cell_type": "markdown",
      "metadata": {
        "id": "view-in-github",
        "colab_type": "text"
      },
      "source": [
        "<a href=\"https://colab.research.google.com/github/allegheny-college-cmpsc-101-fall-2023/course-materials/blob/main/Notes/Templates/testing_debugging_raising_exceptions_CMPSC101_Fall2023.ipynb\" target=\"_parent\"><img src=\"https://colab.research.google.com/assets/colab-badge.svg\" alt=\"Open In Colab\"/></a>"
      ]
    },
    {
      "cell_type": "markdown",
      "source": [
        "# <font color='lime'>RECAP from last class - Modules (Chapter 7)</font>"
      ],
      "metadata": {
        "id": "J5Ser6d6tJau"
      }
    },
    {
      "cell_type": "markdown",
      "source": [
        "## Motivation"
      ],
      "metadata": {
        "id": "eOhadUxoyOV1"
      }
    },
    {
      "cell_type": "markdown",
      "source": [
        "- adds functionality to code\n",
        "- organizes larger projects"
      ],
      "metadata": {
        "id": "hSHW7DXuyK9C"
      }
    },
    {
      "cell_type": "markdown",
      "source": [
        "## Importing Modules"
      ],
      "metadata": {
        "id": "t54IvNdmt6IY"
      }
    },
    {
      "cell_type": "markdown",
      "source": [
        "- modules are .py files\n",
        "- contain functions or other objects\n",
        "- some come in the standard library\n",
        "    - random\n",
        "    - typing\n",
        "- some come from PyPI\n",
        "    - pyinstrument\n",
        "    - typer\n",
        "    - other programs and tools - https://pypi.org/project/gatorgrade/\n",
        "- fully qualified names\n",
        "    - `import random`\n",
        "    - `n = random.random()`\n",
        "    - `import typer`\n",
        "    - `cli = typer.Typer()`\n",
        "- direct import of a function or object\n",
        "    - `from pyinstrument import Profiler`\n",
        "    - `profiler = Profiler()`"
      ],
      "metadata": {
        "id": "fOjlLPMAjuCw"
      }
    },
    {
      "cell_type": "markdown",
      "source": [
        "## Additional Info"
      ],
      "metadata": {
        "id": "ERr5vI5auBSv"
      }
    },
    {
      "cell_type": "markdown",
      "source": [
        "- other handy tricks\n",
        "    - `import someobnoxiouslylongnamewhereyouneedmultiplethingsinside as ex`\n",
        "      - `ex.function()`\n",
        "    - `import numpy as np`\n",
        "      - `np.array()`\n",
        "- BAD IDEA\n",
        "    - `from numpy import *`\n",
        "    - this could overwrite things that you have defined, or you could inadvertently overwrite things that numpy defines and depends on.\n",
        "- It is best if imported files do not run or print unneeded things\n",
        "    - all the running and printing can be nested under this statement:\n",
        "      - `if __name__ == \"__main__\":`\n",
        "      - i.e. only when the file is run as a SCRIPT and not imported as a module"
      ],
      "metadata": {
        "id": "OL5Fh3tatx7R"
      }
    },
    {
      "cell_type": "markdown",
      "source": [
        "# <font color='lime'>NEW - Testing and Debugging (Chapter 8)</font>"
      ],
      "metadata": {
        "id": "0hl7VFH3tDTs"
      }
    },
    {
      "cell_type": "markdown",
      "source": [
        "## Motivation"
      ],
      "metadata": {
        "id": "n_X3wB_cyUpR"
      }
    },
    {
      "cell_type": "markdown",
      "source": [
        "- builds (more) reliable code\n",
        "- acts as additional documentation about intended code operation\n",
        "- establishes confidence in a program's correctness"
      ],
      "metadata": {
        "id": "uPP7YAaEyWqK"
      }
    },
    {
      "cell_type": "markdown",
      "source": [
        "## Definitions"
      ],
      "metadata": {
        "id": "jm8IQqMLuY_8"
      }
    },
    {
      "cell_type": "markdown",
      "source": [
        "- <font color='red'>Testing</font> refers to the process of writing tests to validate functions or programs or systems\n",
        "- <font color='red'>Debugging</font> refers to fixing logical errors (semantics) that cause tests to fail"
      ],
      "metadata": {
        "id": "au41FaIgkwAC"
      }
    },
    {
      "cell_type": "markdown",
      "source": [
        "## Sources of Errors in Code"
      ],
      "metadata": {
        "id": "DpneoLvbudZo"
      }
    },
    {
      "cell_type": "markdown",
      "source": [
        "Errors in code can come from different sources\n",
        "- syntax error\n",
        "  - code <font color='red'>does not run</font>\n",
        "    - `if x = 10:`\n",
        "    - `if x == 10`\n",
        "- static semantic error\n",
        "  - code <font color='red'>does not run</font>\n",
        "    - calling a function without enough arguments\n",
        "    - using a variable before it is defined\n",
        "    - passing in a List when only an int is expected\n",
        "    - These are detected by static checkers like Pylance\n",
        "- semantic errors\n",
        "  - code <font color='red'>DOES run</font>\n",
        "    - `for i in range(len(mylist)):`\n",
        "    - `for i in range(len(mylist) + 1):`\n",
        "- Debugging refers to fixing logical, semantic errors that do not cause the code to crash\n",
        "  - bugs produce incorrect answers\n",
        "    "
      ],
      "metadata": {
        "id": "AnYw9fefleS7"
      }
    },
    {
      "cell_type": "markdown",
      "source": [
        "## Pytest to the rescue"
      ],
      "metadata": {
        "id": "Hd5geQMdukaf"
      }
    },
    {
      "cell_type": "markdown",
      "source": [
        "Testing for bugs is a major endeavor in software development\n",
        "- entire teams may be dedicated to quality assurance, i.e. testing\n",
        "- software modules/commands exist specifically to help with testing\n",
        "  - Pytest - https://docs.pytest.org/en/7.4.x/\n",
        "    - recall all the test_*.py files?\n",
        "    - recall inside all the test_* functions?\n",
        "    - recall all the assertion statements?\n",
        "      - `result = 1 + 1`\n",
        "      - `assert result = 2`\n",
        "    - Pytest makes it easy to develop a test suite\n",
        "      - test suites are sets of test that test a function or program or entire system\n",
        "      - look at Intersection Algorithms"
      ],
      "metadata": {
        "id": "CoPSQk-SnS9h"
      }
    },
    {
      "cell_type": "markdown",
      "source": [
        "## Testing strategies"
      ],
      "metadata": {
        "id": "sRmauJ_TzDP2"
      }
    },
    {
      "cell_type": "markdown",
      "source": [
        "- Black box tests (Closed box)\n",
        "  - testing <font color='red'>based on function specifications</font>\n",
        "    - e.g. given in documentation or doc string\n",
        "    - if a function only takes ints, make sure that is true!\n",
        "    - if a function should return a string, make sure that is true!\n",
        "- Glass box texts\n",
        "  - testing <font color='red'>based on implementation</font>\n",
        "    - e.g. insider knowledge of how the code works\n",
        "    - if a function has `if` and `else`, go down both branches\n",
        "    - if a function has a while loop with a conditional expression...\n",
        "    - if a program has multiple functions\n",
        "  - tools exist to track how much of the code, which branches have been tested\n",
        "    - coverage.py - https://coverage.readthedocs.io/en/7.3.2/"
      ],
      "metadata": {
        "id": "rEmyfeQVzGIL"
      }
    },
    {
      "cell_type": "markdown",
      "source": [
        "- Exhaustive testing is not possible\n",
        "- Partition testing is compromise\n",
        "  - partitions are smart/useful categories\n",
        "  - one selection from each category tested"
      ],
      "metadata": {
        "id": "q0HjyybU1AeH"
      }
    },
    {
      "cell_type": "markdown",
      "source": [
        "## General Test Implementation Procedure"
      ],
      "metadata": {
        "id": "_O_e4A091fmO"
      }
    },
    {
      "cell_type": "markdown",
      "source": [
        "- determine what the inputs should be\n",
        "- determine what the outputs should be\n",
        "- `def test_name_of_function()`\n",
        "  - no parameters to test function in simple cases\n",
        "  - HARD CODE THE INPUT\n",
        "  - <font color='red'>HARD CODE THE EXPTECTED OUTPUT</font>\n",
        "  - call the `result = name_of_function(HARD_CODED_INPUT)`\n",
        "  - write assertion `assert result == EXPECTED_OUTPUT`\n",
        "- partition the input space with unique test functions\n",
        "- cover all branches if possible with unique test functions"
      ],
      "metadata": {
        "id": "x-MIp9A_1kCD"
      }
    },
    {
      "cell_type": "markdown",
      "source": [
        "## General Debugging Procedure"
      ],
      "metadata": {
        "id": "aEQ7F2dd37HY"
      }
    },
    {
      "cell_type": "markdown",
      "source": [
        "- notice if your bug is persistent, overt OR transient, covert\n",
        "- document the undesired behavior\n",
        "- develop a hypothesis explaining the behavior\n",
        "- try fixing the problem without creating new ones\n",
        "- use version control to save your work so you can revert if necessary!\n",
        "- keep in mind that the bug may not be where you think...otherwise you would not have written it in!"
      ],
      "metadata": {
        "id": "bXJVKd1S4B4l"
      }
    },
    {
      "cell_type": "markdown",
      "source": [
        "## Example without Pytest"
      ],
      "metadata": {
        "id": "PcBc2U9yuweS"
      }
    },
    {
      "cell_type": "markdown",
      "source": [
        "- TODO: run and examine the output of the two blocks below\n",
        "- TODO: add a different type of defect into the function.\n",
        "- TODO: write a test that catches the new defect\n",
        "- TODO: write a test case that passes despite the defect"
      ],
      "metadata": {
        "id": "txXq8nbuv-CD"
      }
    },
    {
      "cell_type": "code",
      "execution_count": null,
      "metadata": {
        "id": "lwCmCEnBuzqZ"
      },
      "outputs": [],
      "source": [
        "# define a function that uses a for loop to compute the square of a number\n",
        "# note that there is a defect inside of this implementation of compute_square_for\n",
        "def compute_square_for(value: int) -> int:\n",
        "    answer = 0\n",
        "    for _ in range(abs(value+1)):\n",
        "        answer = answer + abs(value)\n",
        "    return answer"
      ]
    },
    {
      "cell_type": "code",
      "execution_count": null,
      "metadata": {
        "id": "OOlzV2K3uzqZ"
      },
      "outputs": [],
      "source": [
        "# create and run two test cases for the compute_square_for function\n",
        "def test_compute_square_for_loop_positive():\n",
        "    value = 3\n",
        "    square_value = compute_square_for(value)\n",
        "    assert square_value == 9\n",
        "\n",
        "def test_compute_square_for_loop_negative():\n",
        "    value = -3\n",
        "    square_value = compute_square_for(value)\n",
        "    assert square_value == 9\n",
        "\n",
        "test_compute_square_for_loop_positive()\n",
        "test_compute_square_for_loop_negative()"
      ]
    },
    {
      "cell_type": "markdown",
      "source": [
        "Summary Questions:\n",
        "\n",
        "1. What was the defect in the square root computation?\n",
        "2. What exactly happens when a test case \"fails\" when run inside of a Jupyter notebook? What is a \"traceback\"?\n",
        "3. How is testing in this fashion different than running a test suite with Pytest?\n",
        "4. How do you know that the test cases \"passes\" when run inside of a Jupyter notebook?"
      ],
      "metadata": {
        "id": "jr2U-Z4HvluP"
      }
    },
    {
      "cell_type": "markdown",
      "source": [
        "## Example in Source Code Survey"
      ],
      "metadata": {
        "id": "SxqkB9oFBJZJ"
      }
    },
    {
      "cell_type": "markdown",
      "source": [
        "# <font color='lime'>NEW - Exception Handling (Chapter 9)</font>"
      ],
      "metadata": {
        "id": "e9V9Uh5n5HnH"
      }
    },
    {
      "cell_type": "markdown",
      "source": [
        "## Motivation"
      ],
      "metadata": {
        "id": "7JhG5Kd3CFjL"
      }
    },
    {
      "cell_type": "markdown",
      "source": [
        "- making code behavior more elegant\n",
        "- reducing crash and burn"
      ],
      "metadata": {
        "id": "oWq8aqsDC4LD"
      }
    },
    {
      "cell_type": "markdown",
      "source": [
        "## Common crash and burn situations"
      ],
      "metadata": {
        "id": "Qr-xRlEiDA0a"
      }
    },
    {
      "cell_type": "markdown",
      "source": [
        "- we don't necessarily want to the code to crash if there is an anticipatable situation which could cause trouble\n",
        "- e.g. converting strings to int\n",
        "  - `int('1')`\n",
        "  - `int('100')`\n",
        "  - `int('abc')`\n",
        "  - `int('')`\n",
        "- e.g. typo in file name\n",
        "- e.g. typo in user input\n",
        "- e.g. misunderstanding between user and programmer\n",
        "```python\n",
        "mylist = input('Enter a list')\n",
        "mylist.append(10)\n",
        "```"
      ],
      "metadata": {
        "id": "dS9U5uD6CHeQ"
      }
    },
    {
      "cell_type": "markdown",
      "source": [
        "## Some Possible Errors"
      ],
      "metadata": {
        "id": "GbHIXC7NE1wY"
      }
    },
    {
      "cell_type": "markdown",
      "source": [
        "https://runestone.academy/ns/books/published/fopp/Exceptions/standard-exceptions.html\n",
        "\n",
        "| Language Exceptions | Description |\n",
        "|---------------------|-------------|\n",
        "|StandardError|Base class for all built-in exceptions except StopIteration and SystemExit.|\n",
        "|ImportError|Raised when an import statement fails.|\n",
        "|SyntaxError|Raised when there is an error in Python syntax.|\n",
        "|IndentationError|Raised when indentation is not specified properly.|\n",
        "|NameError|Raised when an identifier is not found in the local or global namespace.|\n",
        "|UnboundLocalError|Raised when trying to access a local variable in a function or method but no value has been assigned to it.|\n",
        "|TypeError|Raised when an operation or function is attempted that is invalid for the specified data type.|\n",
        "|LookupError|Base class for all lookup errors.|\n",
        "|IndexError|Raised when an index is not found in a sequence.|\n",
        "|KeyError|Raised when the specified key is not found in the dictionary.|\n",
        "|ValueError|Raised when the built-in function for a data type has the valid type of arguments, but the arguments have invalid values specified.|\n",
        "|RuntimeError|Raised when a generated error does not fall into any category.|\n",
        "|MemoryError|Raised when a operation runs out of memory.|\n",
        "|RecursionError|Raised when the maximum recursion depth has been exceeded.|\n",
        "|SystemError|Raised when the interpreter finds an internal problem, but when this error is encountered the Python interpreter does not exit.|\n",
        "\n"
      ],
      "metadata": {
        "id": "FPIzUBBsE8zu"
      }
    },
    {
      "cell_type": "markdown",
      "source": [
        "## Solutions"
      ],
      "metadata": {
        "id": "zHJC1cHeEPRE"
      }
    },
    {
      "cell_type": "markdown",
      "source": [
        "- `try:`\n",
        "  - code block that could cause crash\n",
        "- `except NamedError:`\n",
        "  - code block that handles the specific named error\n",
        "- `except:`\n",
        "  - there can be multiple exceptions depending on the specific error\n",
        "  - if no specific error is named, all errors that were not caught above would apply\n",
        "  "
      ],
      "metadata": {
        "id": "mtH15JWoES1U"
      }
    },
    {
      "cell_type": "markdown",
      "source": [
        "## Example"
      ],
      "metadata": {
        "id": "AKj0eeJHGaye"
      }
    },
    {
      "cell_type": "code",
      "execution_count": null,
      "metadata": {
        "id": "TEwt9GMbIWKr"
      },
      "outputs": [],
      "source": [
        "# define a function that computes the ratios of the floats\n",
        "# inside of two input lists and then creates an output list\n",
        "from typing import List\n",
        "\n",
        "def get_ratios(one: List, two: List) -> List[float]:\n",
        "    ratios = []\n",
        "    for index in range(len(one)):\n",
        "        try:\n",
        "            ratios.append(one[index] / two[index])\n",
        "        except ZeroDivisionError:\n",
        "            ratios.append(float('nan'))\n",
        "        except:\n",
        "            raise ValueError(\"Incorrect arguments\")\n",
        "    return ratios"
      ]
    },
    {
      "cell_type": "code",
      "execution_count": null,
      "metadata": {
        "id": "dsVa5uhjIWKr"
      },
      "outputs": [],
      "source": [
        "# run the get_ratios function with exception handling\n",
        "try:\n",
        "    print(get_ratios([1, 2, 7, 6], [1, 2, 0, 3]))\n",
        "    print(get_ratios([], []))\n",
        "    print(get_ratios([1, 2, 7], [1, 2, 10, 3]))\n",
        "    print(get_ratios([1, 2, 7, 6], [1, 2, 10]))\n",
        "except ValueError as message:\n",
        "    print(message)"
      ]
    },
    {
      "cell_type": "code",
      "execution_count": null,
      "metadata": {
        "id": "8hrHJ_Q6IWKr"
      },
      "outputs": [],
      "source": [
        "# run the get_ratios function without exception handling\n",
        "print(get_ratios([1, 2, 7, 6], [1, 2, 0, 3]))\n",
        "print(get_ratios([], []))\n",
        "print(get_ratios([1, 2, 7], [1, 2, 10, 3]))\n",
        "print(get_ratios([1, 2, 7, 6], [1, 2, 10]))"
      ]
    },
    {
      "cell_type": "markdown",
      "source": [
        "Summary Questions:\n",
        "1. What are the key ways in which Python supports exception handling?\n",
        "2. What are the benefits associated with using exception handling in Python?\n",
        "3. What is one circumstance in which the ratios source code will throw an exception?"
      ],
      "metadata": {
        "id": "UjN_ChpzHjLe"
      }
    }
  ]
}