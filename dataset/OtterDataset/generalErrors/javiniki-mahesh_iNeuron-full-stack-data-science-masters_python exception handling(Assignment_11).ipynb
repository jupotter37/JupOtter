{
 "cells": [
  {
   "cell_type": "markdown",
   "id": "353bbefa",
   "metadata": {},
   "source": [
    "# Python exception handling (Assignment_11)"
   ]
  },
  {
   "cell_type": "markdown",
   "id": "918b580c",
   "metadata": {},
   "source": [
    "### 1. What is the role of the 'else' block in a try-except statement? Provide an example scenario where it would be useful."
   ]
  },
  {
   "cell_type": "markdown",
   "id": "a61a0643",
   "metadata": {},
   "source": [
    "In a try-except statement, the 'else' block is an optional part that follows the 'try' block and precedes the 'finally' block (if present). The 'else' block is executed only if no exceptions occur within the 'try' block.\n",
    "\n",
    "The primary purpose of the 'else' block is to define a code section that should run when the 'try' block completes successfully, without any exceptions being raised. It allows you to specify the code that should be executed when the desired operations in the 'try' block are completed successfully.\n",
    "\n",
    "Here's an example scenario where the 'else' block in a try-except statement would be useful:"
   ]
  },
  {
   "cell_type": "code",
   "execution_count": 11,
   "id": "715da335",
   "metadata": {},
   "outputs": [
    {
     "name": "stdout",
     "output_type": "stream",
     "text": [
      "The division result is: 5.0\n"
     ]
    }
   ],
   "source": [
    "def divide_numbers(a, b):\n",
    "    try:\n",
    "        result = a / b\n",
    "    except ZeroDivisionError:\n",
    "        print(\"Error: Cannot divide by zero!\")\n",
    "    else:\n",
    "        print(\"The division result is:\", result)\n",
    "\n",
    "# Example usage:\n",
    "divide_numbers(10, 2)"
   ]
  },
  {
   "cell_type": "markdown",
   "id": "67ec50c2",
   "metadata": {},
   "source": [
    "\n",
    "In this example, the `divide_numbers()` function attempts to perform a division operation between two numbers. If the division is successful (i.e., no ZeroDivisionError occurs), the 'else' block is executed, and the result is printed. However, if a ZeroDivisionError is raised, the 'except' block is executed, and an appropriate error message is printed.\n",
    "\n",
    "If we call `divide_numbers(10, 2)`, the division is valid, and the 'else' block is executed, printing \"The division result is: 5.0\". But if we call `divide_numbers(10, 0)`, a ZeroDivisionError is raised, and the 'except' block is executed, printing \"Error: Cannot divide by zero!\".\n",
    "\n",
    "The 'else' block helps separate the code that handles exceptions from the code that executes when no exceptions occur. It can be useful for situations where you want to perform certain actions only when the code in the 'try' block succeeds, providing a more fine-grained control flow."
   ]
  },
  {
   "cell_type": "markdown",
   "id": "9d45804e",
   "metadata": {},
   "source": [
    "### 2. Can a try-except block be nested inside another try-except block? Explain with an example."
   ]
  },
  {
   "cell_type": "markdown",
   "id": "f285012d",
   "metadata": {},
   "source": [
    "Yes, a try-except block can be nested inside another try-except block. This allows for more specific error handling and the ability to handle different exceptions at different levels of code execution. Here's an example to illustrate this:"
   ]
  },
  {
   "cell_type": "code",
   "execution_count": 12,
   "id": "640ea2ca",
   "metadata": {},
   "outputs": [
    {
     "name": "stdout",
     "output_type": "stream",
     "text": [
      "Outer try block entered.\n",
      "Inner try block entered.\n",
      "Inner except block: Cannot divide by zero!\n",
      "Inner finally block executed.\n",
      "This will not be executed.\n",
      "Outer finally block executed.\n"
     ]
    }
   ],
   "source": [
    "try:\n",
    "    # Outer try block\n",
    "    print(\"Outer try block entered.\")\n",
    "    try:\n",
    "        # Inner try block\n",
    "        print(\"Inner try block entered.\")\n",
    "        result = 10 / 0  # Division by zero to raise an exception\n",
    "        print(\"This will not be executed.\")\n",
    "    except ZeroDivisionError:\n",
    "        print(\"Inner except block: Cannot divide by zero!\")\n",
    "    finally:\n",
    "        print(\"Inner finally block executed.\")\n",
    "\n",
    "    print(\"This will not be executed.\")\n",
    "except:\n",
    "    print(\"Outer except block: An error occurred.\")\n",
    "finally:\n",
    "    print(\"Outer finally block executed.\")"
   ]
  },
  {
   "cell_type": "markdown",
   "id": "aa3cc0f8",
   "metadata": {},
   "source": [
    "In this example, we have an outer try-except block that contains an inner try-except block. Let's go through the execution steps:\n",
    "\n",
    "1. The code enters the outer try block.\n",
    "2. The code enters the inner try block.\n",
    "3. A ZeroDivisionError occurs when attempting to divide 10 by 0. This triggers the inner except block.\n",
    "4. The inner except block executes, printing \"Inner except block: Cannot divide by zero!\".\n",
    "5. The inner finally block is executed.\n",
    "6. Control returns to the outer try-except block.\n",
    "7. Since the inner exception was handled, the outer try block does not raise an exception, and the code continues executing.\n",
    "8. The statement \"This will not be executed.\" inside the inner try block is skipped.\n",
    "9. The outer except block is not executed since no exception occurred in the outer try block.\n",
    "10. The outer finally block is executed, printing \"Outer finally block executed.\"\n",
    "\n",
    "This example demonstrates the nesting of try-except blocks. The inner try-except block is executed within the context of the outer try-except block. If an exception occurs in the inner try block, the inner except block handles it, and the control flows back to the outer try block. The outer except block is skipped if the inner exception is handled. Finally, the finally blocks are executed in both the inner and outer contexts."
   ]
  },
  {
   "cell_type": "markdown",
   "id": "e40922c3",
   "metadata": {},
   "source": [
    "The below example iluustate when and exception raise in outer try block also"
   ]
  },
  {
   "cell_type": "code",
   "execution_count": 13,
   "id": "45417a2b",
   "metadata": {
    "scrolled": true
   },
   "outputs": [
    {
     "name": "stdout",
     "output_type": "stream",
     "text": [
      "Outer try block entered.\n",
      "Inner try block entered.\n",
      "Inner except block: Cannot divide by zero!\n",
      "Inner finally block executed.\n",
      "Outer except block: An error occurred - Outer try block: Custom exception\n",
      "Outer finally block executed.\n"
     ]
    }
   ],
   "source": [
    "try:\n",
    "    # Outer try block\n",
    "    print(\"Outer try block entered.\")\n",
    "    try:\n",
    "        # Inner try block\n",
    "        print(\"Inner try block entered.\")\n",
    "        result = 10 / 0  # Division by zero to raise an exception\n",
    "        print(\"This will not be executed.\")\n",
    "    except ZeroDivisionError:\n",
    "        print(\"Inner except block: Cannot divide by zero!\")\n",
    "    finally:\n",
    "        print(\"Inner finally block executed.\")\n",
    "\n",
    "    # Exception raised in outer try block\n",
    "    raise ValueError(\"Outer try block: Custom exception\")\n",
    "    print(\"This will not be executed.\")\n",
    "except ValueError as ve:\n",
    "    print(\"Outer except block: An error occurred -\", str(ve))\n",
    "finally:\n",
    "    print(\"Outer finally block executed.\")\n"
   ]
  },
  {
   "cell_type": "markdown",
   "id": "00b0562e",
   "metadata": {},
   "source": [
    "### 3. How can you create a custom exception class in Python? Provide an example that demonstrates its usage."
   ]
  },
  {
   "cell_type": "markdown",
   "id": "19f1e15f",
   "metadata": {},
   "source": [
    "In Python, you can create a custom exception class by subclassing the built-in `Exception` class or any of its existing subclasses. By creating a custom exception class, you can define your own types of exceptions that are specific to your application's needs. Here's an example that demonstrates the creation and usage of a custom exception class:"
   ]
  },
  {
   "cell_type": "code",
   "execution_count": 14,
   "id": "e8c88295",
   "metadata": {},
   "outputs": [
    {
     "name": "stdout",
     "output_type": "stream",
     "text": [
      "Custom exception caught: Input value cannot be negative.\n"
     ]
    }
   ],
   "source": [
    "class CustomException(Exception):\n",
    "    pass\n",
    "\n",
    "def validate_input(value):\n",
    "    if value < 0:\n",
    "        raise CustomException(\"Input value cannot be negative.\")\n",
    "\n",
    "# Example usage:\n",
    "try:\n",
    "    validate_input(-5)\n",
    "except CustomException as ce:\n",
    "    print(\"Custom exception caught:\", str(ce))"
   ]
  },
  {
   "cell_type": "markdown",
   "id": "d9f9ffd3",
   "metadata": {},
   "source": [
    "In this example, we define a custom exception class called `CustomException` by subclassing the base `Exception` class. The `CustomException` class does not have any additional properties or methods defined, so it inherits all the behavior from its parent class.\n",
    "\n",
    "The `validate_input()` function takes a value as an argument and checks if it is negative. If the value is negative, it raises a `CustomException` with an appropriate error message.\n",
    "\n",
    "In the example usage, we call `validate_input(-5)`, passing a negative value. This triggers the raising of a `CustomException`. We catch the exception using the `except` block and print the exception message.\n",
    "\n",
    "\n",
    "By creating custom exception classes, you can make your code more expressive and handle specific error conditions in a more meaningful way. Custom exception classes allow you to differentiate between different types of exceptions and provide clearer error messages or specific exception handling logic for each type."
   ]
  },
  {
   "cell_type": "markdown",
   "id": "4a7bb8ff",
   "metadata": {},
   "source": [
    "### 4. What are some common exceptions that are built-in to Python?"
   ]
  },
  {
   "cell_type": "markdown",
   "id": "f9cce3fe",
   "metadata": {},
   "source": [
    "Python provides a variety of built-in exceptions that cover common error scenarios. Here are some of the most commonly used built-in exceptions in Python:\n",
    "\n",
    "1. `SyntaxError`: Raised when there is a syntax error in the code.\n",
    "2. `IndentationError`: Raised when there is an incorrect indentation in the code.\n",
    "3. `NameError`: Raised when a local or global name is not found.\n",
    "4. `TypeError`: Raised when an operation or function is applied to an object of an inappropriate type.\n",
    "5. `ValueError`: Raised when a function receives an argument of the correct type but an invalid value.\n",
    "6. `ZeroDivisionError`: Raised when attempting to divide a number by zero.\n",
    "7. `IndexError`: Raised when trying to access an index that is out of range.\n",
    "8. `KeyError`: Raised when trying to access a dictionary key that does not exist.\n",
    "9. `FileNotFoundError`: Raised when trying to open a file that does not exist.\n",
    "10. `ImportError`: Raised when an imported module or package cannot be found or loaded.\n",
    "\n",
    "These are just a few examples of the many built-in exceptions available in Python. Each exception type is designed to handle specific error conditions and provides valuable information for debugging and error handling. It's important to be familiar with these common exceptions to effectively handle and manage errors in your Python programs."
   ]
  },
  {
   "cell_type": "markdown",
   "id": "1c5b9f0a",
   "metadata": {},
   "source": [
    "### 5. What is logging in Python, and why is it important in software development?"
   ]
  },
  {
   "cell_type": "markdown",
   "id": "828da442",
   "metadata": {},
   "source": [
    "Logging in Python is a mechanism that allows developers to record and store valuable information about the execution of a program. It provides a systematic and structured way to track and manage events, errors, warnings, and other important messages during runtime.\n",
    "\n",
    "Here are some key reasons why logging is important in software development:\n",
    "\n",
    "1. **Debugging and Troubleshooting**: Logging allows developers to gain insights into the execution flow of a program by recording relevant information. When issues occur, log messages can help identify the source of errors, track variables, and analyze the program's behavior. By examining the logged information, developers can diagnose and resolve bugs more effectively.\n",
    "\n",
    "2. **Error and Exception Handling**: Logging enables the capture and tracking of errors and exceptions that occur during program execution. By logging detailed error messages, stack traces, and other contextual information, developers can better understand the cause and impact of errors, making it easier to diagnose and fix issues.\n",
    "\n",
    "3. **Monitoring and Performance Optimization**: Logging can provide valuable data for monitoring the performance and health of an application. By logging relevant metrics, such as response times, resource utilization, or request counts, developers can identify performance bottlenecks, optimize code, and improve overall system efficiency.\n",
    "\n",
    "4. **Auditing and Compliance**: In certain applications, logging plays a crucial role in meeting auditing and compliance requirements. By logging key events and actions, such as user activities, data modifications, or security-related events, developers can maintain a detailed audit trail for accountability, security, and regulatory purposes.\n",
    "\n",
    "5. **Information and Analytics**: Logging can capture valuable information about the usage patterns, user behavior, and system interactions. This data can be used for analysis, generating insights, and making informed decisions regarding system enhancements, feature improvements, or user experience optimizations.\n",
    "\n",
    "Overall, logging is a powerful tool that aids in understanding, maintaining, and improving software applications. It helps developers in debugging, error handling, performance optimization, compliance, and gathering valuable insights for decision-making and continuous improvement."
   ]
  },
  {
   "cell_type": "markdown",
   "id": "f97f6897",
   "metadata": {},
   "source": [
    "### 6. Explain the purpose of log levels in Python logging and provide examples of when each log level would be appropriate."
   ]
  },
  {
   "cell_type": "markdown",
   "id": "3e005c97",
   "metadata": {},
   "source": [
    "In Python logging, log levels are used to categorize and prioritize log messages based on their importance and severity. The log levels provide a way to control the verbosity of the log output, allowing developers to filter and handle log messages accordingly. Python's logging module defines several standard log levels, each with its own purpose. The standard log levels, in increasing order of severity, are as follows:\n",
    "\n",
    "1. `DEBUG`: Detailed information, typically used for debugging purposes. This level is the most verbose and is suitable for providing fine-grained details during development or troubleshooting.\n",
    "\n",
    "2. `INFO`: General information about the application's operation. It is used to convey the status and important events that may be useful for monitoring the application's behavior.\n",
    "\n",
    "3. `WARNING`: Indicates potential issues that do not necessarily cause errors but might require attention. It is used to highlight non-critical problems that need to be addressed.\n",
    "\n",
    "4. `ERROR`: Signifies errors that occurred during the execution of the application. These errors may disrupt the normal flow of the program but are generally recoverable.\n",
    "\n",
    "5. `CRITICAL`: Represents critical errors that could lead to the termination of the program or severe consequences. This level is used for severe failures that require immediate attention.\n",
    "\n",
    "The purpose of log levels is to provide flexibility and control over the log output based on the deployment environment and the severity of events. For example:\n",
    "\n",
    "- **DEBUG**: Use this log level during development and testing to get detailed information about variables, conditions, or specific code paths. It helps developers trace the flow of execution and understand how the application behaves under different scenarios. However, in production environments, it's often advisable to disable or reduce the verbosity of `DEBUG` logs to avoid unnecessary overhead.\n",
    "\n",
    "- **INFO**: This log level is useful for conveying general information about the application's health and operation. It can be used to report significant events such as successful startup, server listening on a specific port, or basic progress updates.\n",
    "\n",
    "- **WARNING**: Use this log level for non-critical issues that may not prevent the application from running but warrant attention. Examples include deprecated API usage, suboptimal configurations, or potential resource bottlenecks.\n",
    "\n",
    "- **ERROR**: This level is appropriate for logging critical errors that need to be addressed by developers. It includes exceptions and other issues that can affect the program's functionality but might be recoverable in some cases.\n",
    "\n",
    "- **CRITICAL**: Reserved for the most severe issues that could lead to catastrophic failures. Examples include unrecoverable errors, database connection failures, or system-level issues that require immediate attention.\n",
    "\n",
    "Here's an example of how log levels can be used in Python logging:\n"
   ]
  },
  {
   "cell_type": "code",
   "execution_count": 15,
   "id": "832269ca",
   "metadata": {},
   "outputs": [
    {
     "name": "stderr",
     "output_type": "stream",
     "text": [
      "2023-07-05 13:50:56,779 - root - INFO - Application started.\n",
      "2023-07-05 13:50:56,780 - root - ERROR - Cannot divide by zero.\n",
      "2023-07-05 13:50:56,782 - root - CRITICAL - Critical error occurred: division by zero\n",
      "2023-07-05 13:50:56,784 - root - INFO - Application finished.\n"
     ]
    }
   ],
   "source": [
    "import logging\n",
    "\n",
    "logging.basicConfig(level=logging.DEBUG)\n",
    "\n",
    "def divide_numbers(a, b):\n",
    "    try:\n",
    "        result = a / b\n",
    "        logging.debug(f\"Division result: {result}\")\n",
    "        return result\n",
    "    except ZeroDivisionError as e:\n",
    "        logging.error(\"Cannot divide by zero.\")\n",
    "        raise e\n",
    "\n",
    "def main():\n",
    "    logging.info(\"Application started.\")\n",
    "    num1, num2 = 10, 0\n",
    "    try:\n",
    "        result = divide_numbers(num1, num2)\n",
    "        logging.info(f\"Result: {result}\")\n",
    "    except Exception as e:\n",
    "        logging.critical(f\"Critical error occurred: {str(e)}\")\n",
    "    finally:\n",
    "        logging.info(\"Application finished.\")\n",
    "\n",
    "if __name__ == \"__main__\":\n",
    "    main()\n"
   ]
  },
  {
   "cell_type": "markdown",
   "id": "4d165e99",
   "metadata": {},
   "source": [
    "\n",
    "In this example, we configure the logging level to `DEBUG`, which means all log messages of level `DEBUG` and above will be recorded. The `divide_numbers()` function logs the division result with the `DEBUG` level for debugging purposes. In the `main()` function, we use the `INFO` level to log application startup and finish messages. If an exception occurs during the division, we log\n",
    "\n",
    " an `ERROR` message, and in the exception handler, we log a `CRITICAL` error. Finally, we log the application finish message with the `INFO` level.\n",
    "\n",
    "By using appropriate log levels, you can control the verbosity of log messages and focus on the relevant information for different stages of development, deployment, and troubleshooting."
   ]
  },
  {
   "cell_type": "markdown",
   "id": "d638a684",
   "metadata": {},
   "source": [
    "### 7. What are log formatters in Python logging, and how can you customise the log message format using formatters?"
   ]
  },
  {
   "cell_type": "markdown",
   "id": "f41c585a",
   "metadata": {},
   "source": [
    "In Python logging, log formatters are used to define the format of log messages. They provide a way to customize the appearance and content of log records when they are outputted. Log formatters are essential for presenting log messages in a structured and readable format, often including information such as timestamps, log levels, module names, and log messages.\n",
    "\n",
    "The `logging.Formatter` class is used to create log formatters in Python. It offers various formatting options using placeholders and formatting codes. These placeholders are replaced with the corresponding values when the log messages are formatted. Some commonly used placeholders include:\n",
    "\n",
    "- `%(asctime)s`: The timestamp of the log record.\n",
    "- `%(levelname)s`: The log level of the record (e.g., DEBUG, INFO, WARNING, ERROR, CRITICAL).\n",
    "- `%(message)s`: The log message itself.\n",
    "- `%(name)s`: The logger name.\n",
    "- `%(module)s`: The name of the Python module where the logging call was made.\n",
    "- `%(lineno)d`: The line number where the logging call was made.\n",
    "- `%(filename)s`: The filename where the logging call was made.\n",
    "- `%(funcName)s`: The name of the function where the logging call was made.\n",
    "\n",
    "By using these placeholders and customizing the log message format, developers can control what information is included in the log messages and how it is presented. This allows for better readability and comprehension of log records.\n",
    "\n",
    "Here's an example that demonstrates how to customize the log message format using formatters:\n"
   ]
  },
  {
   "cell_type": "code",
   "execution_count": 16,
   "id": "3e3e441b",
   "metadata": {},
   "outputs": [
    {
     "name": "stderr",
     "output_type": "stream",
     "text": [
      "2023-07-05 13:50:56,804 - root - DEBUG - This is a debug message.\n",
      "2023-07-05 13:50:56,808 - root - INFO - This is an info message.\n",
      "2023-07-05 13:50:56,810 - root - WARNING - This is a warning message.\n",
      "2023-07-05 13:50:56,811 - root - ERROR - This is an error message.\n",
      "2023-07-05 13:50:56,815 - root - CRITICAL - This is a critical message.\n"
     ]
    }
   ],
   "source": [
    "import logging\n",
    "\n",
    "logging.basicConfig(level=logging.DEBUG, format='%(asctime)s - %(levelname)s - %(message)s')\n",
    "\n",
    "def main():\n",
    "    logging.debug(\"This is a debug message.\")\n",
    "    logging.info(\"This is an info message.\")\n",
    "    logging.warning(\"This is a warning message.\")\n",
    "    logging.error(\"This is an error message.\")\n",
    "    logging.critical(\"This is a critical message.\")\n",
    "\n",
    "if __name__ == \"__main__\":\n",
    "    main()"
   ]
  },
  {
   "cell_type": "markdown",
   "id": "bec9bb9a",
   "metadata": {},
   "source": [
    "In this example, the logging level is set to `DEBUG` using `basicConfig()`, and the log message format is specified as `'%(asctime)s - %(levelname)s - %(message)s'`. This format includes the timestamp, log level, and message placeholders. When the code is executed, the log messages will be displayed with the specified format, including the timestamp information.\n",
    "\n",
    "By customizing the log message format using formatters, you can tailor it to your specific needs. You can include relevant information like timestamps, log levels, module names, and more, making the log records more informative and easier to analyze. The `logging.Formatter` class offers additional options and flexibility for creating sophisticated log message formats based on your requirements."
   ]
  },
  {
   "cell_type": "markdown",
   "id": "cb1e046a",
   "metadata": {},
   "source": [
    "### 8. How can you set up logging to capture log messages from multiple modules or classes in a Python application?"
   ]
  },
  {
   "cell_type": "markdown",
   "id": "f2236e85",
   "metadata": {},
   "source": [
    "To capture log messages from multiple modules or classes in a Python application, you can set up logging using the following steps:\n",
    "\n",
    "1. Configure the logging settings:\n",
    "   At an appropriate location, typically in the main script or configuration file, configure the logging settings. This includes specifying the logging level, setting up handlers, and configuring formatters.\n",
    "\n",
    "   - Set the logging level: Use `logging.basicConfig(level=logging.<level>)` to set the desired logging level. For example, `logging.basicConfig(level=logging.DEBUG)` sets the level to `DEBUG`, capturing all log messages.\n",
    "   - Add handlers: Add one or more handlers to capture log messages. Handlers determine where the log messages are outputted, such as to the console, files, or external services. You can use built-in handlers like `StreamHandler` for console output or `FileHandler` for file output.\n",
    "   - Set formatters: Set up formatters to define the format of log messages. Use `logging.Formatter` to create a formatter object and specify the desired format.\n",
    "\n",
    "2. Create a logger object in each module or class:\n",
    "   In each module or class where you want to capture log messages, create a logger object using `logging.getLogger(__name__)` or a unique name for the logger. This ensures that each module or class has its own logger and log messages are appropriately isolated.\n",
    "\n",
    "3. Attach handlers to the logger objects:\n",
    "   For each logger object created in step 2, attach the desired handlers using the `logger.addHandler(handler)` method. This ensures that the log messages captured by the logger are sent to the specified handlers.\n",
    "\n",
    "By following these steps, log messages from multiple modules or classes can be captured and directed to the appropriate output destinations.\n",
    "\n",
    "Here's an example that demonstrates how to set up logging to capture log messages from multiple classes:\n"
   ]
  },
  {
   "cell_type": "code",
   "execution_count": 17,
   "id": "bf8396b3",
   "metadata": {},
   "outputs": [
    {
     "name": "stderr",
     "output_type": "stream",
     "text": [
      "2023-07-05 13:50:56,846 - ClassA - DEBUG - Debug message from ClassA - method1\n",
      "2023-07-05 13:50:56,846 - ClassA - DEBUG - Debug message from ClassA - method1\n",
      "2023-07-05 13:50:56,846 - ClassA - DEBUG - Debug message from ClassA - method1\n",
      "2023-07-05 13:50:56,851 - ClassA - INFO - Info message from ClassA - method1\n",
      "2023-07-05 13:50:56,851 - ClassA - INFO - Info message from ClassA - method1\n",
      "2023-07-05 13:50:56,851 - ClassA - INFO - Info message from ClassA - method1\n",
      "2023-07-05 13:50:56,854 - ClassB - DEBUG - Debug message from ClassB - method2\n",
      "2023-07-05 13:50:56,854 - ClassB - DEBUG - Debug message from ClassB - method2\n",
      "2023-07-05 13:50:56,854 - ClassB - DEBUG - Debug message from ClassB - method2\n",
      "2023-07-05 13:50:56,857 - ClassB - INFO - Info message from ClassB - method2\n",
      "2023-07-05 13:50:56,857 - ClassB - INFO - Info message from ClassB - method2\n",
      "2023-07-05 13:50:56,857 - ClassB - INFO - Info message from ClassB - method2\n"
     ]
    }
   ],
   "source": [
    "import logging\n",
    "\n",
    "# Configure logging settings\n",
    "logging.basicConfig(level=logging.DEBUG, format='%(asctime)s - %(name)s - %(levelname)s - %(message)s')\n",
    "\n",
    "# Create file handler\n",
    "file_handler = logging.FileHandler('app.log')\n",
    "file_handler.setLevel(logging.DEBUG)\n",
    "\n",
    "# Create console handler\n",
    "console_handler = logging.StreamHandler()\n",
    "console_handler.setLevel(logging.DEBUG)\n",
    "\n",
    "# Create formatter\n",
    "formatter = logging.Formatter('%(asctime)s - %(name)s - %(levelname)s - %(message)s')\n",
    "\n",
    "# Set formatter on handlers\n",
    "file_handler.setFormatter(formatter)\n",
    "console_handler.setFormatter(formatter)\n",
    "\n",
    "# Create a logger for ClassA\n",
    "class ClassA:\n",
    "    def __init__(self):\n",
    "        self.logger = logging.getLogger('ClassA')\n",
    "        self.logger.addHandler(file_handler)\n",
    "        self.logger.addHandler(console_handler)\n",
    "\n",
    "    def method1(self):\n",
    "        self.logger.debug(\"Debug message from ClassA - method1\")\n",
    "        self.logger.info(\"Info message from ClassA - method1\")\n",
    "\n",
    "# Create a logger for ClassB\n",
    "class ClassB:\n",
    "    def __init__(self):\n",
    "        self.logger = logging.getLogger('ClassB')\n",
    "        self.logger.addHandler(file_handler)\n",
    "        self.logger.addHandler(console_handler)\n",
    "\n",
    "    def method2(self):\n",
    "        self.logger.debug(\"Debug message from ClassB - method2\")\n",
    "        self.logger.info(\"Info message from ClassB - method2\")\n",
    "\n",
    "# Log messages from ClassA and ClassB\n",
    "class_a = ClassA()\n",
    "class_b = ClassB()\n",
    "\n",
    "class_a.method1()\n",
    "class_b.method2()"
   ]
  },
  {
   "cell_type": "markdown",
   "id": "7e487c3a",
   "metadata": {},
   "source": [
    "In this example, the logging settings are configured, creating a file handler and a console handler, and setting up a formatter for both handlers. Then, two classes, `ClassA` and `ClassB`, are defined, each with their own logger object.\n",
    "\n",
    "Within each class, the logger is created in the `__init__` method, and the file handler and console handler are attached to it using `self.logger.addHandler()`.\n",
    "\n",
    " This ensures that the log messages from each class are captured by the respective logger and processed according to the configured logging settings.\n",
    "\n",
    "When the `method1()` and `method2()` methods are called on the instances of `ClassA` and `ClassB`, respectively, the log messages from each class will be captured and directed to both the console and the `app.log` file.\n",
    "\n",
    "By organizing the code into classes, you can encapsulate the logging logic within the classes themselves, allowing each class to have its own logger and logging configuration. This provides a modular and flexible approach to capturing log messages from multiple classes in your Python application."
   ]
  },
  {
   "cell_type": "markdown",
   "id": "0efa835f",
   "metadata": {},
   "source": [
    "### 9. What is the difference between the logging and print statements in Python? When should you use logging over print statements in a real-world application?"
   ]
  },
  {
   "cell_type": "markdown",
   "id": "04a343ad",
   "metadata": {},
   "source": [
    "The logging and print statements in Python serve different purposes and have distinct characteristics. Here's a comparison and guidelines on when to use logging over print statements in a real-world application:\n",
    "\n",
    "1. Output Destination:\n",
    "   - `print`: The print statement outputs text to the standard output (usually the console). It is primarily used for debugging and providing immediate feedback during development.\n",
    "   - `logging`: The logging module provides flexibility in directing log messages to various destinations, such as console, files, network services, or external systems. It allows you to choose where the log messages should be recorded, making it suitable for both development and production environments.\n",
    "\n",
    "2. Granularity and Flexibility:\n",
    "   - `print`: Print statements are typically used for quick and temporary outputs. They are less flexible and require manual removal or commenting out once they have served their purpose.\n",
    "   - `logging`: Logging provides a more robust and configurable approach. You can control the log level to determine which messages are captured, set up different loggers for different modules or classes, and customize the log format. It allows you to have more fine-grained control over the log output and adjust the verbosity based on the application's needs.\n",
    "\n",
    "3. Log Levels and Filtering:\n",
    "   - `print`: Print statements do not have built-in log levels. All print statements are executed and displayed regardless of their importance. To control the verbosity, you need to manually add or remove print statements.\n",
    "   - `logging`: Logging supports multiple log levels such as DEBUG, INFO, WARNING, ERROR, and CRITICAL. You can set the desired log level for each logger, allowing you to filter and control the amount of information logged. This is particularly useful in a production environment where you want to focus on critical issues and avoid flooding the logs with unnecessary details.\n",
    "\n",
    "4. Log Management and Analysis:\n",
    "   - `print`: Print statements do not provide built-in log management or analysis capabilities. The output is transient and not easily searchable or organized.\n",
    "   - `logging`: Logging creates structured log records that include timestamps, log levels, and message details. This facilitates log management, analysis, and troubleshooting. Log files can be easily rotated, archived, and processed by log analysis tools for monitoring, debugging, or auditing purposes.\n",
    "\n",
    "Based on these differences, it is recommended to use logging over print statements in real-world applications, especially in production environments. Logging provides more control, flexibility, and scalability for capturing and managing log messages. It allows you to record valuable information, control verbosity, filter log levels, and direct log output to appropriate destinations. Additionally, logging facilitates debugging, performance monitoring, and error analysis, enabling efficient application maintenance and troubleshooting."
   ]
  },
  {
   "cell_type": "markdown",
   "id": "a9b6a045",
   "metadata": {},
   "source": [
    "### 10. Write a Python program that logs a message to a file named \"app.log\" with the following requirements:\n",
    "        The log message should be \"Hello, World!\"\n",
    "        The log level should be set to \"INFO.\"\n",
    "        The log file should append new log entries without overwriting previous ones."
   ]
  },
  {
   "cell_type": "markdown",
   "id": "598d925f",
   "metadata": {},
   "source": [
    "Here's a Python program that logs a message to a file named \"app.log\" with the specified requirements:"
   ]
  },
  {
   "cell_type": "code",
   "execution_count": 18,
   "id": "4edd4e60",
   "metadata": {},
   "outputs": [
    {
     "name": "stderr",
     "output_type": "stream",
     "text": [
      "2023-07-05 13:50:56,884 - root - INFO - Hello, World!\n"
     ]
    }
   ],
   "source": [
    "import logging\n",
    "\n",
    "# Configure logging settings\n",
    "logging.basicConfig(\n",
    "    level=logging.INFO,\n",
    "    filename=\"app.log\",\n",
    "    filemode=\"a\",\n",
    "    format=\"%(asctime)s - %(levelname)s - %(message)s\"\n",
    ")\n",
    "\n",
    "# Log the message\n",
    "logging.info(\"Hello, World!\")"
   ]
  },
  {
   "cell_type": "markdown",
   "id": "95eec1e9",
   "metadata": {},
   "source": [
    "In this program:\n",
    "1. The logging module is imported.\n",
    "2. The logging settings are configured using `basicConfig()`.\n",
    "   - `level=logging.INFO` sets the log level to INFO, which includes INFO and higher level messages.\n",
    "   - `filename=\"app.log\"` specifies the name of the log file as \"app.log\".\n",
    "   - `filemode=\"a\"` sets the file mode to \"a\" (append), so new log entries are appended to the existing file.\n",
    "   - `format=\"%(asctime)s - %(levelname)s - %(message)s\"` defines the format of the log messages, including the timestamp, log level, and the actual message.\n",
    "3. The `logging.info()` method is used to log the message \"Hello, World!\" at the INFO log level.\n",
    "\n",
    "When you run this program, it will log the message \"Hello, World!\" to the \"app.log\" file in the specified format. Subsequent runs of the program will append new log entries to the file without overwriting the previous ones.\n",
    "\n",
    "Remember to place the program in the same directory where you want the \"app.log\" file to be created. If the file doesn't exist, it will be created automatically."
   ]
  },
  {
   "cell_type": "markdown",
   "id": "39d341e9",
   "metadata": {},
   "source": [
    "### 11. Create a Python program that logs an error message to the console and a file named \"errors.log\" if an exception occurs during the program's execution. The error message should include the exception type and a timestamp."
   ]
  },
  {
   "cell_type": "markdown",
   "id": "75b12f0e",
   "metadata": {},
   "source": [
    "Here's a Python program that logs an error message to the console and a file named \"errors.log\" if an exception occurs during the program's execution. The error message includes the exception type and a timestamp:"
   ]
  },
  {
   "cell_type": "code",
   "execution_count": 19,
   "id": "24433745",
   "metadata": {},
   "outputs": [
    {
     "name": "stderr",
     "output_type": "stream",
     "text": [
      "2023-07-05 13:50:56,903 - root - ERROR - Exception: ZeroDivisionError, Timestamp: 2023-07-05 13:50:56.903623\n",
      "\n",
      "Traceback (most recent call last):\n",
      "  File \"C:\\Users\\mahes\\AppData\\Local\\Temp\\ipykernel_9432\\1267955445.py\", line 22, in divide_numbers\n",
      "    result = a / b\n",
      "ZeroDivisionError: division by zero\n"
     ]
    }
   ],
   "source": [
    "import logging\n",
    "import traceback\n",
    "import datetime\n",
    "\n",
    "# Configure logging settings\n",
    "logging.basicConfig(\n",
    "    level=logging.ERROR,\n",
    "    format=\"%(asctime)s - %(levelname)s - %(message)s\"\n",
    ")\n",
    "\n",
    "# Create file handler\n",
    "file_handler = logging.FileHandler(\"errors.log\")\n",
    "file_handler.setLevel(logging.ERROR)\n",
    "\n",
    "# Add file handler to the logger\n",
    "logger = logging.getLogger()\n",
    "logger.addHandler(file_handler)\n",
    "\n",
    "\n",
    "def divide_numbers(a, b):\n",
    "    try:\n",
    "        result = a / b\n",
    "        return result\n",
    "    except Exception as e:\n",
    "        # Log the exception\n",
    "        error_msg = f\"Exception: {type(e).__name__}, Timestamp: {datetime.datetime.now()}\\n\"\n",
    "        logging.error(error_msg)\n",
    "        traceback.print_exc()\n",
    "\n",
    "\n",
    "# Test the function with exception\n",
    "divide_numbers(10, 0)"
   ]
  },
  {
   "cell_type": "markdown",
   "id": "eabc4050",
   "metadata": {},
   "source": [
    "In this program:\n",
    "\n",
    "1. The logging module is imported, along with the traceback and datetime modules.\n",
    "2. The logging settings are configured using `basicConfig()`.\n",
    "   - `level=logging.ERROR` sets the log level to ERROR, so only error-level messages and higher are captured.\n",
    "   - `format=\"%(asctime)s - %(levelname)s - %(message)s\"` defines the format of the log messages, including the timestamp, log level, and the actual message.\n",
    "3. A file handler is created using `logging.FileHandler(\"errors.log\")` to specify the name of the log file as \"errors.log\".\n",
    "4. The file handler is added to the root logger using `logger.addHandler(file_handler)` to direct error-level log messages to the file.\n",
    "5. The `divide_numbers()` function is defined to demonstrate an exception scenario. In this case, dividing a number by zero will raise a ZeroDivisionError.\n",
    "6. Inside the except block, an error message is constructed with the exception type and the current timestamp.\n",
    "7. The error message is logged to the console using `logging.error(error_msg)`.\n",
    "8. The traceback module's `print_exc()` function is called to print the exception traceback to the console as well.\n",
    "9. The `divide_numbers()` function is called with arguments that will trigger the exception (10 divided by 0) to test the exception logging.\n",
    "\n",
    "When you run this program, it will log the error message, including the exception type and timestamp, both to the console and the \"errors.log\" file. The traceback information will also be printed to the console."
   ]
  },
  {
   "cell_type": "code",
   "execution_count": null,
   "id": "89400373",
   "metadata": {},
   "outputs": [],
   "source": []
  }
 ],
 "metadata": {
  "kernelspec": {
   "display_name": "Python 3 (ipykernel)",
   "language": "python",
   "name": "python3"
  },
  "language_info": {
   "codemirror_mode": {
    "name": "ipython",
    "version": 3
   },
   "file_extension": ".py",
   "mimetype": "text/x-python",
   "name": "python",
   "nbconvert_exporter": "python",
   "pygments_lexer": "ipython3",
   "version": "3.9.12"
  }
 },
 "nbformat": 4,
 "nbformat_minor": 5
}
