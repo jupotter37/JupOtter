{
 "cells": [
  {
   "cell_type": "markdown",
   "id": "8dc4b57a",
   "metadata": {},
   "source": [
    "# Producing Membership Files Automatically\n",
    "### by Sarah M and Joe Eberle started on 09_29_2023  "
   ]
  },
  {
   "cell_type": "code",
   "execution_count": 1,
   "id": "3470416f",
   "metadata": {},
   "outputs": [],
   "source": [
    "# Install any Libraries your dont already have \n",
    "first_install = False\n",
    "if first_install:\n",
    "    !pip install ydata-profiling\n",
    "    !pip install pyttsx3\n",
    "    !pip install openpyxl"
   ]
  },
  {
   "cell_type": "code",
   "execution_count": 2,
   "id": "90067b69",
   "metadata": {},
   "outputs": [],
   "source": [
    "import pandas as pd #Pandas is high performance data manipulation \n",
    "import os \n",
    "import talking_code as tc"
   ]
  },
  {
   "cell_type": "markdown",
   "id": "24695d05",
   "metadata": {},
   "source": [
    "## Optional Step 0 - Intitiate Configuration Settings and name the overall solution"
   ]
  },
  {
   "cell_type": "code",
   "execution_count": 3,
   "id": "e3b6c0c0",
   "metadata": {},
   "outputs": [],
   "source": [
    "import configparser \n",
    "config = configparser.ConfigParser()\n",
    "cfg = config.read('config.ini')\n",
    "solution_name = 'membership_matching'"
   ]
  },
  {
   "cell_type": "markdown",
   "id": "e78baa21",
   "metadata": {},
   "source": [
    "## Optional Step 0 - Starting Logger"
   ]
  },
  {
   "cell_type": "code",
   "execution_count": 4,
   "id": "940eca97",
   "metadata": {},
   "outputs": [],
   "source": [
    "# Establish the Python Logger  \n",
    "import logging # built in python library that does not need to be installed \n",
    "import quick_logger as ql\n",
    "\n",
    "global start_stime \n",
    "start_time = ql.set_start_time()\n",
    "logging = ql.create_logger_Start(solution_name, start_time) "
   ]
  },
  {
   "cell_type": "markdown",
   "id": "26c417b7-d50e-4b76-8793-0774dad55614",
   "metadata": {},
   "source": [
    "## Optional Step 0 - Build a working directory to house your reports"
   ]
  },
  {
   "cell_type": "code",
   "execution_count": 5,
   "id": "b586b245",
   "metadata": {},
   "outputs": [
    {
     "name": "stdout",
     "output_type": "stream",
     "text": [
      "Directory 'c:\\reports\\membership' already exists.\n"
     ]
    }
   ],
   "source": [
    "# Optional Step 0 - Build a working directory to house your analysis\n",
    "import os\n",
    "\n",
    "directory_path = r'c:\\reports\\membership'\n",
    "\n",
    "# Create the directory if it doesn't exist\n",
    "if not os.path.exists(directory_path):\n",
    "    os.makedirs(directory_path)\n",
    "    print(f\"Directory '{directory_path}' created successfully.\")\n",
    "else:\n",
    "    print(f\"Directory '{directory_path}' already exists.\")"
   ]
  },
  {
   "cell_type": "markdown",
   "id": "031c54ba-5b7c-41ae-902f-9e396bc08b63",
   "metadata": {},
   "source": [
    "## Optional Step 0 - clean out any old reports"
   ]
  },
  {
   "cell_type": "code",
   "execution_count": 6,
   "id": "1f9a1bf2-808f-428e-a81d-4c08282e234b",
   "metadata": {},
   "outputs": [
    {
     "name": "stdout",
     "output_type": "stream",
     "text": [
      "0 files deleted in 'c:\\reports\\membership'.\n",
      "Total files deleted: 0\n"
     ]
    }
   ],
   "source": [
    "def delete_files_in_directory(target_directory):\n",
    "    try:\n",
    "        # Verify if the target_directory exists\n",
    "        if not os.path.exists(target_directory):\n",
    "            print(f\"The directory '{target_directory}' does not exist.\")\n",
    "            return 0  # No files deleted\n",
    "\n",
    "        files_deleted = 0\n",
    "\n",
    "        # Loop through files in the target_directory and delete them\n",
    "        for file in os.listdir(target_directory):\n",
    "            file_path = os.path.join(target_directory, file)\n",
    "            if os.path.isfile(file_path):\n",
    "                os.remove(file_path)  # Delete the file\n",
    "                files_deleted += 1\n",
    "\n",
    "        print(f\"{files_deleted} files deleted in '{target_directory}'.\")\n",
    "        return files_deleted\n",
    "    \n",
    "    except Exception as e:\n",
    "        print(f\"An error occurred: {str(e)}\")\n",
    "        return 0  # No files deleted due to error\n",
    "\n",
    "# Example usage:\n",
    "# Specify the target directory to delete its files\n",
    "directory_path = r'c:\\reports\\membership'\n",
    "deleted_count = delete_files_in_directory(directory_path)\n",
    "print(f\"Total files deleted: {deleted_count}\")\n"
   ]
  },
  {
   "cell_type": "markdown",
   "id": "a8eb58e6",
   "metadata": {},
   "source": [
    "## Optional Step 0 - Build a working directory to archive your reports"
   ]
  },
  {
   "cell_type": "code",
   "execution_count": 7,
   "id": "58628d35-eac5-4961-8459-9058470e1efb",
   "metadata": {},
   "outputs": [
    {
     "name": "stdout",
     "output_type": "stream",
     "text": [
      "Directory 'c:\\reports\\membership\\archive' already exists.\n"
     ]
    }
   ],
   "source": [
    "# Optional Step 0 - Build a working directory to archive your reports \n",
    "directory_path = r'c:\\reports\\membership\\archive'\n",
    "\n",
    "# Create the directory if it doesn't exist\n",
    "if not os.path.exists(directory_path):\n",
    "    os.makedirs(directory_path)\n",
    "    print(f\"Directory '{directory_path}' created successfully.\")\n",
    "else:\n",
    "    print(f\"Directory '{directory_path}' already exists.\")"
   ]
  },
  {
   "cell_type": "code",
   "execution_count": 8,
   "id": "1e6f1d1d-e8fb-4743-82e6-fc117c480fc9",
   "metadata": {},
   "outputs": [
    {
     "name": "stdout",
     "output_type": "stream",
     "text": [
      "\n",
      "Reading CSV files into pandas provides a seamless and efficient way to handle tabular data in Python, \n",
      "making data manipulation and analysis more accessible. Pandas, a powerful data manipulation library, \n",
      "introduces a DataFrame structure that mirrors the tabular format familiar to Excel users. \n",
      "Loading CSV files into pandas DataFrames enables users to leverage sophisticated data manipulation \n",
      "operations with just a few lines of code, such as filtering, sorting, and aggregating data.\n",
      "Essentially, pandas serves as a more potent version of Excel that can be programmatically controlled. \n",
      "The ability to perform complex data transformations and analyses using Python code, \n",
      "coupled with the extensive range of statistical and mathematical functions provided by pandas, \n",
      "empowers users to scale and automate data processing tasks, \n",
      "surpassing the capabilities of traditional spreadsheet software. With pandas, \n",
      "users gain the flexibility to apply advanced data manipulation techniques while \n",
      "harnessing the efficiency and programmability of a Python environment.\n",
      "\n"
     ]
    }
   ],
   "source": [
    "import talking_code as tc\n",
    "definition = '''\n",
    "Reading CSV files into pandas provides a seamless and efficient way to handle tabular data in Python, \n",
    "making data manipulation and analysis more accessible. Pandas, a powerful data manipulation library, \n",
    "introduces a DataFrame structure that mirrors the tabular format familiar to Excel users. \n",
    "Loading CSV files into pandas DataFrames enables users to leverage sophisticated data manipulation \n",
    "operations with just a few lines of code, such as filtering, sorting, and aggregating data.\n",
    "Essentially, pandas serves as a more potent version of Excel that can be programmatically controlled. \n",
    "The ability to perform complex data transformations and analyses using Python code, \n",
    "coupled with the extensive range of statistical and mathematical functions provided by pandas, \n",
    "empowers users to scale and automate data processing tasks, \n",
    "surpassing the capabilities of traditional spreadsheet software. With pandas, \n",
    "users gain the flexibility to apply advanced data manipulation techniques while \n",
    "harnessing the efficiency and programmability of a Python environment.\n",
    "''' \n",
    "talking_code = False\n",
    "if talking_code:\n",
    "    tc.say(definition)\n",
    "    print(definition)       \n",
    "else:\n",
    "    print(definition)       "
   ]
  },
  {
   "cell_type": "markdown",
   "id": "73a68133",
   "metadata": {},
   "source": [
    "## Step 1 - Load ANY data set for which to run discovery or data profiling"
   ]
  },
  {
   "cell_type": "code",
   "execution_count": 9,
   "id": "334b7ec0",
   "metadata": {},
   "outputs": [
    {
     "name": "stdout",
     "output_type": "stream",
     "text": [
      "(2913, 71)\n"
     ]
    },
    {
     "data": {
      "text/html": [
       "<div>\n",
       "<style scoped>\n",
       "    .dataframe tbody tr th:only-of-type {\n",
       "        vertical-align: middle;\n",
       "    }\n",
       "\n",
       "    .dataframe tbody tr th {\n",
       "        vertical-align: top;\n",
       "    }\n",
       "\n",
       "    .dataframe thead th {\n",
       "        text-align: right;\n",
       "    }\n",
       "</style>\n",
       "<table border=\"1\" class=\"dataframe\">\n",
       "  <thead>\n",
       "    <tr style=\"text-align: right;\">\n",
       "      <th></th>\n",
       "      <th>Patient Info.Patient Name - Last First</th>\n",
       "      <th>Patient Info.MedicaidID</th>\n",
       "      <th>Patient Info.Date Of Birth</th>\n",
       "      <th>Patient Info.Medical Record Number</th>\n",
       "      <th>Patient Info.ID - Patient</th>\n",
       "      <th>Patient Info.ID - Patient Chart</th>\n",
       "      <th>Patient Info.Chart Status</th>\n",
       "      <th>Patient Info.Date - Admit</th>\n",
       "      <th>Patient Info.Date - Discharge/Terminate</th>\n",
       "      <th>Patient Info.Age (Current)</th>\n",
       "      <th>...</th>\n",
       "      <th>FormLab Universal Face Sheet v11 5.Referral Category .Probation/parole</th>\n",
       "      <th>FormLab Universal Face Sheet v11 5.Referral Category .Self</th>\n",
       "      <th>FormLab Universal Face Sheet v11 5.Referral Category .Treatment Court</th>\n",
       "      <th>FormLab Universal Face Sheet v11 5.Unemployed Options.Disabled</th>\n",
       "      <th>FormLab Universal Face Sheet v11 5.Unemployed Options.N/A</th>\n",
       "      <th>FormLab Universal Face Sheet v11 5.Unemployed Options.Retired</th>\n",
       "      <th>FormLab Universal Face Sheet v11 5.Unemployed Options.Student</th>\n",
       "      <th>FormLab Universal Face Sheet v11 5.Unemployed Options.Unemployed</th>\n",
       "      <th>FormLab Universal Face Sheet v11 5.Who referred to us?</th>\n",
       "      <th>Patient Info.Date - Last Billable Service</th>\n",
       "    </tr>\n",
       "  </thead>\n",
       "  <tbody>\n",
       "    <tr>\n",
       "      <th>0</th>\n",
       "      <td>PORTER, VERONIKA</td>\n",
       "      <td>ZFB8441F2535</td>\n",
       "      <td>1997-07-07</td>\n",
       "      <td>2012-3127</td>\n",
       "      <td>13292</td>\n",
       "      <td>61011</td>\n",
       "      <td>Admitted</td>\n",
       "      <td>2022-06-21</td>\n",
       "      <td>NaT</td>\n",
       "      <td>25</td>\n",
       "      <td>...</td>\n",
       "      <td>1.0</td>\n",
       "      <td>0.0</td>\n",
       "      <td>0.0</td>\n",
       "      <td>0.0</td>\n",
       "      <td>0.0</td>\n",
       "      <td>0.0</td>\n",
       "      <td>0.0</td>\n",
       "      <td>1.0</td>\n",
       "      <td>PROBATION</td>\n",
       "      <td>2023-01-30</td>\n",
       "    </tr>\n",
       "    <tr>\n",
       "      <th>1</th>\n",
       "      <td>VINCENT, GREGORY</td>\n",
       "      <td>V5250711921504</td>\n",
       "      <td>1992-07-11</td>\n",
       "      <td>2020-00851</td>\n",
       "      <td>26858</td>\n",
       "      <td>64927</td>\n",
       "      <td>Discharged</td>\n",
       "      <td>2022-11-03</td>\n",
       "      <td>2022-11-22</td>\n",
       "      <td>30</td>\n",
       "      <td>...</td>\n",
       "      <td>NaN</td>\n",
       "      <td>NaN</td>\n",
       "      <td>NaN</td>\n",
       "      <td>NaN</td>\n",
       "      <td>NaN</td>\n",
       "      <td>NaN</td>\n",
       "      <td>NaN</td>\n",
       "      <td>NaN</td>\n",
       "      <td>NaN</td>\n",
       "      <td>2022-11-03</td>\n",
       "    </tr>\n",
       "    <tr>\n",
       "      <th>2</th>\n",
       "      <td>VANN, CLYDE</td>\n",
       "      <td>V5000827766180</td>\n",
       "      <td>1976-08-27</td>\n",
       "      <td>2022SA183</td>\n",
       "      <td>36542</td>\n",
       "      <td>64490</td>\n",
       "      <td>Discharged</td>\n",
       "      <td>2022-10-18</td>\n",
       "      <td>2022-10-18</td>\n",
       "      <td>46</td>\n",
       "      <td>...</td>\n",
       "      <td>NaN</td>\n",
       "      <td>NaN</td>\n",
       "      <td>NaN</td>\n",
       "      <td>NaN</td>\n",
       "      <td>NaN</td>\n",
       "      <td>NaN</td>\n",
       "      <td>NaN</td>\n",
       "      <td>NaN</td>\n",
       "      <td>NaN</td>\n",
       "      <td>2022-10-13</td>\n",
       "    </tr>\n",
       "  </tbody>\n",
       "</table>\n",
       "<p>3 rows × 71 columns</p>\n",
       "</div>"
      ],
      "text/plain": [
       "  Patient Info.Patient Name - Last First Patient Info.MedicaidID  \\\n",
       "0                       PORTER, VERONIKA            ZFB8441F2535   \n",
       "1                       VINCENT, GREGORY          V5250711921504   \n",
       "2                            VANN, CLYDE          V5000827766180   \n",
       "\n",
       "  Patient Info.Date Of Birth Patient Info.Medical Record Number  \\\n",
       "0                 1997-07-07                          2012-3127   \n",
       "1                 1992-07-11                         2020-00851   \n",
       "2                 1976-08-27                          2022SA183   \n",
       "\n",
       "   Patient Info.ID - Patient  Patient Info.ID - Patient Chart  \\\n",
       "0                      13292                            61011   \n",
       "1                      26858                            64927   \n",
       "2                      36542                            64490   \n",
       "\n",
       "  Patient Info.Chart Status Patient Info.Date - Admit  \\\n",
       "0                  Admitted                2022-06-21   \n",
       "1                Discharged                2022-11-03   \n",
       "2                Discharged                2022-10-18   \n",
       "\n",
       "  Patient Info.Date - Discharge/Terminate  Patient Info.Age (Current)  ...  \\\n",
       "0                                     NaT                          25  ...   \n",
       "1                              2022-11-22                          30  ...   \n",
       "2                              2022-10-18                          46  ...   \n",
       "\n",
       "  FormLab Universal Face Sheet v11 5.Referral Category .Probation/parole   \\\n",
       "0                                                1.0                        \n",
       "1                                                NaN                        \n",
       "2                                                NaN                        \n",
       "\n",
       "   FormLab Universal Face Sheet v11 5.Referral Category .Self  \\\n",
       "0                                                0.0            \n",
       "1                                                NaN            \n",
       "2                                                NaN            \n",
       "\n",
       "  FormLab Universal Face Sheet v11 5.Referral Category .Treatment Court  \\\n",
       "0                                                0.0                      \n",
       "1                                                NaN                      \n",
       "2                                                NaN                      \n",
       "\n",
       "  FormLab Universal Face Sheet v11 5.Unemployed Options.Disabled  \\\n",
       "0                                                0.0               \n",
       "1                                                NaN               \n",
       "2                                                NaN               \n",
       "\n",
       "  FormLab Universal Face Sheet v11 5.Unemployed Options.N/A  \\\n",
       "0                                                0.0          \n",
       "1                                                NaN          \n",
       "2                                                NaN          \n",
       "\n",
       "   FormLab Universal Face Sheet v11 5.Unemployed Options.Retired  \\\n",
       "0                                                0.0               \n",
       "1                                                NaN               \n",
       "2                                                NaN               \n",
       "\n",
       "   FormLab Universal Face Sheet v11 5.Unemployed Options.Student  \\\n",
       "0                                                0.0               \n",
       "1                                                NaN               \n",
       "2                                                NaN               \n",
       "\n",
       "   FormLab Universal Face Sheet v11 5.Unemployed Options.Unemployed  \\\n",
       "0                                                1.0                  \n",
       "1                                                NaN                  \n",
       "2                                                NaN                  \n",
       "\n",
       "   FormLab Universal Face Sheet v11 5.Who referred to us?  \\\n",
       "0                                          PROBATION        \n",
       "1                                                NaN        \n",
       "2                                                NaN        \n",
       "\n",
       "   Patient Info.Date - Last Billable Service  \n",
       "0                                 2023-01-30  \n",
       "1                                 2022-11-03  \n",
       "2                                 2022-10-13  \n",
       "\n",
       "[3 rows x 71 columns]"
      ]
     },
     "execution_count": 9,
     "metadata": {},
     "output_type": "execute_result"
    }
   ],
   "source": [
    "logging.info(f'{solution_name} - Step 1 - Load ANY data set for which to run discovery or data profiling')  \n",
    "getting_data = True\n",
    "if getting_data: \n",
    "    file_name = \"C:\\\\working_directory\\\\excel\\\\FLIPA_Demographic.xlsx\"    \n",
    "    df_membership = pd.read_excel(file_name, sheet_name=\"demographic\")   \n",
    "# df = pd.read_excel(file_path, password=\"your_password\")\n",
    "# print(df_membership.columns)\n",
    "print(df_membership.shape) \n",
    "df_membership.head(3)"
   ]
  },
  {
   "cell_type": "code",
   "execution_count": 35,
   "id": "f9d8a46f-e72f-4245-8a07-1ea953bc28b4",
   "metadata": {},
   "outputs": [],
   "source": [
    "df_membership = df_membership[['Patient Info.Patient Name - Last First', 'Patient Info.MedicaidID',\n",
    "       'Patient Info.Date Of Birth']]"
   ]
  },
  {
   "cell_type": "code",
   "execution_count": 36,
   "id": "22de241d-5432-43c1-b9fa-3274a36e8397",
   "metadata": {},
   "outputs": [
    {
     "data": {
      "text/html": [
       "<div>\n",
       "<style scoped>\n",
       "    .dataframe tbody tr th:only-of-type {\n",
       "        vertical-align: middle;\n",
       "    }\n",
       "\n",
       "    .dataframe tbody tr th {\n",
       "        vertical-align: top;\n",
       "    }\n",
       "\n",
       "    .dataframe thead th {\n",
       "        text-align: right;\n",
       "    }\n",
       "</style>\n",
       "<table border=\"1\" class=\"dataframe\">\n",
       "  <thead>\n",
       "    <tr style=\"text-align: right;\">\n",
       "      <th></th>\n",
       "      <th>Patient Info.Patient Name - Last First</th>\n",
       "      <th>Patient Info.MedicaidID</th>\n",
       "      <th>Patient Info.Date Of Birth</th>\n",
       "    </tr>\n",
       "  </thead>\n",
       "  <tbody>\n",
       "    <tr>\n",
       "      <th>0</th>\n",
       "      <td>PORTER, VERONIKA</td>\n",
       "      <td>ZFB8441F2535</td>\n",
       "      <td>1997-07-07</td>\n",
       "    </tr>\n",
       "    <tr>\n",
       "      <th>1</th>\n",
       "      <td>VINCENT, GREGORY</td>\n",
       "      <td>V5250711921504</td>\n",
       "      <td>1992-07-11</td>\n",
       "    </tr>\n",
       "    <tr>\n",
       "      <th>2</th>\n",
       "      <td>VANN, CLYDE</td>\n",
       "      <td>V5000827766180</td>\n",
       "      <td>1976-08-27</td>\n",
       "    </tr>\n",
       "    <tr>\n",
       "      <th>3</th>\n",
       "      <td>VILLA, JOSEPH</td>\n",
       "      <td>V4000209730631</td>\n",
       "      <td>1973-02-09</td>\n",
       "    </tr>\n",
       "    <tr>\n",
       "      <th>4</th>\n",
       "      <td>VICTORY, JOSHUA</td>\n",
       "      <td>V2361015832792</td>\n",
       "      <td>1983-10-15</td>\n",
       "    </tr>\n",
       "    <tr>\n",
       "      <th>...</th>\n",
       "      <td>...</td>\n",
       "      <td>...</td>\n",
       "      <td>...</td>\n",
       "    </tr>\n",
       "    <tr>\n",
       "      <th>2908</th>\n",
       "      <td>MINCER, SCOTT A</td>\n",
       "      <td>NaN</td>\n",
       "      <td>1987-12-13</td>\n",
       "    </tr>\n",
       "    <tr>\n",
       "      <th>2909</th>\n",
       "      <td>WILSON, CHRISTIAN S</td>\n",
       "      <td>NaN</td>\n",
       "      <td>1994-10-16</td>\n",
       "    </tr>\n",
       "    <tr>\n",
       "      <th>2910</th>\n",
       "      <td>BROOKS, JAMAR</td>\n",
       "      <td>NaN</td>\n",
       "      <td>1985-03-04</td>\n",
       "    </tr>\n",
       "    <tr>\n",
       "      <th>2911</th>\n",
       "      <td>BLAKE, ADRIANNA</td>\n",
       "      <td>NaN</td>\n",
       "      <td>1997-08-25</td>\n",
       "    </tr>\n",
       "    <tr>\n",
       "      <th>2912</th>\n",
       "      <td>HITE, KELLY</td>\n",
       "      <td>NaN</td>\n",
       "      <td>1989-06-13</td>\n",
       "    </tr>\n",
       "  </tbody>\n",
       "</table>\n",
       "<p>2913 rows × 3 columns</p>\n",
       "</div>"
      ],
      "text/plain": [
       "     Patient Info.Patient Name - Last First Patient Info.MedicaidID  \\\n",
       "0                          PORTER, VERONIKA            ZFB8441F2535   \n",
       "1                          VINCENT, GREGORY          V5250711921504   \n",
       "2                               VANN, CLYDE          V5000827766180   \n",
       "3                             VILLA, JOSEPH          V4000209730631   \n",
       "4                           VICTORY, JOSHUA          V2361015832792   \n",
       "...                                     ...                     ...   \n",
       "2908                        MINCER, SCOTT A                     NaN   \n",
       "2909                    WILSON, CHRISTIAN S                     NaN   \n",
       "2910                          BROOKS, JAMAR                     NaN   \n",
       "2911                        BLAKE, ADRIANNA                     NaN   \n",
       "2912                            HITE, KELLY                     NaN   \n",
       "\n",
       "     Patient Info.Date Of Birth  \n",
       "0                    1997-07-07  \n",
       "1                    1992-07-11  \n",
       "2                    1976-08-27  \n",
       "3                    1973-02-09  \n",
       "4                    1983-10-15  \n",
       "...                         ...  \n",
       "2908                 1987-12-13  \n",
       "2909                 1994-10-16  \n",
       "2910                 1985-03-04  \n",
       "2911                 1997-08-25  \n",
       "2912                 1989-06-13  \n",
       "\n",
       "[2913 rows x 3 columns]"
      ]
     },
     "execution_count": 36,
     "metadata": {},
     "output_type": "execute_result"
    }
   ],
   "source": [
    "df_membership"
   ]
  },
  {
   "cell_type": "code",
   "execution_count": 37,
   "id": "4d9e6290-e8a8-41ea-bb71-04a21cfd8750",
   "metadata": {},
   "outputs": [
    {
     "name": "stdout",
     "output_type": "stream",
     "text": [
      "(2913, 3)\n"
     ]
    }
   ],
   "source": [
    "\n",
    "print(df_membership.shape)\n"
   ]
  },
  {
   "cell_type": "code",
   "execution_count": 38,
   "id": "c0b0f1e8-f544-45d7-a502-a835afb38331",
   "metadata": {},
   "outputs": [
    {
     "name": "stdout",
     "output_type": "stream",
     "text": [
      "(2913, 3)\n"
     ]
    },
    {
     "data": {
      "text/html": [
       "<div>\n",
       "<style scoped>\n",
       "    .dataframe tbody tr th:only-of-type {\n",
       "        vertical-align: middle;\n",
       "    }\n",
       "\n",
       "    .dataframe tbody tr th {\n",
       "        vertical-align: top;\n",
       "    }\n",
       "\n",
       "    .dataframe thead th {\n",
       "        text-align: right;\n",
       "    }\n",
       "</style>\n",
       "<table border=\"1\" class=\"dataframe\">\n",
       "  <thead>\n",
       "    <tr style=\"text-align: right;\">\n",
       "      <th></th>\n",
       "      <th>Patient Info.Patient Name - Last First</th>\n",
       "      <th>Patient Info.MedicaidID</th>\n",
       "      <th>Patient Info.Date Of Birth</th>\n",
       "    </tr>\n",
       "  </thead>\n",
       "  <tbody>\n",
       "    <tr>\n",
       "      <th>0</th>\n",
       "      <td>PORTER, VERONIKA</td>\n",
       "      <td>ZFB8441F2535</td>\n",
       "      <td>1997-07-07</td>\n",
       "    </tr>\n",
       "    <tr>\n",
       "      <th>1</th>\n",
       "      <td>VINCENT, GREGORY</td>\n",
       "      <td>V5250711921504</td>\n",
       "      <td>1992-07-11</td>\n",
       "    </tr>\n",
       "  </tbody>\n",
       "</table>\n",
       "</div>"
      ],
      "text/plain": [
       "  Patient Info.Patient Name - Last First Patient Info.MedicaidID  \\\n",
       "0                       PORTER, VERONIKA            ZFB8441F2535   \n",
       "1                       VINCENT, GREGORY          V5250711921504   \n",
       "\n",
       "  Patient Info.Date Of Birth  \n",
       "0                 1997-07-07  \n",
       "1                 1992-07-11  "
      ]
     },
     "execution_count": 38,
     "metadata": {},
     "output_type": "execute_result"
    }
   ],
   "source": [
    "print(df_membership.shape)\n",
    "df_membership.head(2)"
   ]
  },
  {
   "cell_type": "code",
   "execution_count": 13,
   "id": "80a5e8d9-9f2a-45fa-a298-30aa2d4a44fc",
   "metadata": {},
   "outputs": [
    {
     "name": "stdout",
     "output_type": "stream",
     "text": [
      "(59414, 59)\n"
     ]
    },
    {
     "data": {
      "text/html": [
       "<div>\n",
       "<style scoped>\n",
       "    .dataframe tbody tr th:only-of-type {\n",
       "        vertical-align: middle;\n",
       "    }\n",
       "\n",
       "    .dataframe tbody tr th {\n",
       "        vertical-align: top;\n",
       "    }\n",
       "\n",
       "    .dataframe thead th {\n",
       "        text-align: right;\n",
       "    }\n",
       "</style>\n",
       "<table border=\"1\" class=\"dataframe\">\n",
       "  <thead>\n",
       "    <tr style=\"text-align: right;\">\n",
       "      <th></th>\n",
       "      <th>Member ID</th>\n",
       "      <th>Parse Member</th>\n",
       "      <th>CIN</th>\n",
       "      <th>Member Name</th>\n",
       "      <th>September 2023 Active within FLIPA</th>\n",
       "      <th>Person Product Type</th>\n",
       "      <th>Person Age Group</th>\n",
       "      <th>Person Language</th>\n",
       "      <th>Person Race</th>\n",
       "      <th>Physician Group TIN</th>\n",
       "      <th>...</th>\n",
       "      <th>Breast Cancer Screening</th>\n",
       "      <th>Monitoring Diabetes- HbA1c</th>\n",
       "      <th>Childhood Immunization Status (Combo 3)</th>\n",
       "      <th>Follow-Up After Emergency Department Visit for Mental Illness (7-day)</th>\n",
       "      <th>Adolescent Immunization (Combo 2)</th>\n",
       "      <th>Postpartum Care</th>\n",
       "      <th>Child &amp; Adolescent Well-Child Visits (3-21 Years)</th>\n",
       "      <th>harp_eligible</th>\n",
       "      <th>health_home_enrolled</th>\n",
       "      <th>pcp_assignment_type</th>\n",
       "    </tr>\n",
       "  </thead>\n",
       "  <tbody>\n",
       "    <tr>\n",
       "      <th>0</th>\n",
       "      <td>74373982100-FCNY0001</td>\n",
       "      <td>743739821</td>\n",
       "      <td>CJ21745E</td>\n",
       "      <td>Acor, Brandon</td>\n",
       "      <td>Yes</td>\n",
       "      <td>TANF Adult</td>\n",
       "      <td>4 - Young adult (19 - 35)</td>\n",
       "      <td>English</td>\n",
       "      <td>White</td>\n",
       "      <td>161020913</td>\n",
       "      <td>...</td>\n",
       "      <td>NaN</td>\n",
       "      <td>NaN</td>\n",
       "      <td>NaN</td>\n",
       "      <td>NaN</td>\n",
       "      <td>NaN</td>\n",
       "      <td>NaN</td>\n",
       "      <td>NaN</td>\n",
       "      <td>NaN</td>\n",
       "      <td>NaN</td>\n",
       "      <td>Manual</td>\n",
       "    </tr>\n",
       "    <tr>\n",
       "      <th>1</th>\n",
       "      <td>74227852100-FCNY0001</td>\n",
       "      <td>742278521</td>\n",
       "      <td>CP22315G</td>\n",
       "      <td>Adler, Robert</td>\n",
       "      <td>Yes</td>\n",
       "      <td>HARP</td>\n",
       "      <td>6 - Older adult (51 - 65)</td>\n",
       "      <td>English</td>\n",
       "      <td>White</td>\n",
       "      <td>160997545</td>\n",
       "      <td>...</td>\n",
       "      <td>NaN</td>\n",
       "      <td>NaN</td>\n",
       "      <td>NaN</td>\n",
       "      <td>NaN</td>\n",
       "      <td>NaN</td>\n",
       "      <td>NaN</td>\n",
       "      <td>NaN</td>\n",
       "      <td>NaN</td>\n",
       "      <td>NaN</td>\n",
       "      <td>Manual</td>\n",
       "    </tr>\n",
       "  </tbody>\n",
       "</table>\n",
       "<p>2 rows × 59 columns</p>\n",
       "</div>"
      ],
      "text/plain": [
       "              Member ID Parse Member       CIN    Member Name  \\\n",
       "0  74373982100-FCNY0001    743739821  CJ21745E  Acor, Brandon   \n",
       "1  74227852100-FCNY0001    742278521  CP22315G  Adler, Robert   \n",
       "\n",
       "  September 2023 Active within FLIPA Person Product Type  \\\n",
       "0                                Yes          TANF Adult   \n",
       "1                                Yes                HARP   \n",
       "\n",
       "            Person Age Group Person Language Person Race  Physician Group TIN  \\\n",
       "0  4 - Young adult (19 - 35)         English       White            161020913   \n",
       "1  6 - Older adult (51 - 65)         English       White            160997545   \n",
       "\n",
       "   ... Breast Cancer Screening  Monitoring Diabetes- HbA1c  \\\n",
       "0  ...                     NaN                         NaN   \n",
       "1  ...                     NaN                         NaN   \n",
       "\n",
       "  Childhood Immunization Status (Combo 3)  \\\n",
       "0                                     NaN   \n",
       "1                                     NaN   \n",
       "\n",
       "   Follow-Up After Emergency Department Visit for Mental Illness (7-day)  \\\n",
       "0                                                NaN                       \n",
       "1                                                NaN                       \n",
       "\n",
       "  Adolescent Immunization (Combo 2) Postpartum Care  \\\n",
       "0                               NaN             NaN   \n",
       "1                               NaN             NaN   \n",
       "\n",
       "  Child & Adolescent Well-Child Visits (3-21 Years) harp_eligible  \\\n",
       "0                                               NaN           NaN   \n",
       "1                                               NaN           NaN   \n",
       "\n",
       "  health_home_enrolled pcp_assignment_type  \n",
       "0                  NaN              Manual  \n",
       "1                  NaN              Manual  \n",
       "\n",
       "[2 rows x 59 columns]"
      ]
     },
     "execution_count": 13,
     "metadata": {},
     "output_type": "execute_result"
    }
   ],
   "source": [
    "logging.info(f'{solution_name} - Step 1 - Load ANY data set for which to run discovery or data profiling')  \n",
    "getting_data = True\n",
    "if getting_data: \n",
    "    file_name = \"C:\\\\working_directory\\\\excel\\\\allmember.xlsx\"    \n",
    "    df_allmember = pd.read_excel(file_name, sheet_name=\"allmember\")   \n",
    "print(df_allmember.shape)\n",
    "df_allmember.head(2)"
   ]
  },
  {
   "cell_type": "code",
   "execution_count": 39,
   "id": "7eac15fc-f5e2-45ec-9466-1e25864ceb79",
   "metadata": {},
   "outputs": [
    {
     "name": "stdout",
     "output_type": "stream",
     "text": [
      "(59414, 5)\n"
     ]
    },
    {
     "data": {
      "text/html": [
       "<div>\n",
       "<style scoped>\n",
       "    .dataframe tbody tr th:only-of-type {\n",
       "        vertical-align: middle;\n",
       "    }\n",
       "\n",
       "    .dataframe tbody tr th {\n",
       "        vertical-align: top;\n",
       "    }\n",
       "\n",
       "    .dataframe thead th {\n",
       "        text-align: right;\n",
       "    }\n",
       "</style>\n",
       "<table border=\"1\" class=\"dataframe\">\n",
       "  <thead>\n",
       "    <tr style=\"text-align: right;\">\n",
       "      <th></th>\n",
       "      <th>Member ID</th>\n",
       "      <th>Parse Member</th>\n",
       "      <th>CIN</th>\n",
       "      <th>Member Name</th>\n",
       "      <th>Member DOB</th>\n",
       "    </tr>\n",
       "  </thead>\n",
       "  <tbody>\n",
       "    <tr>\n",
       "      <th>0</th>\n",
       "      <td>74373982100-FCNY0001</td>\n",
       "      <td>743739821</td>\n",
       "      <td>CJ21745E</td>\n",
       "      <td>Acor, Brandon</td>\n",
       "      <td>1993-04-09</td>\n",
       "    </tr>\n",
       "    <tr>\n",
       "      <th>1</th>\n",
       "      <td>74227852100-FCNY0001</td>\n",
       "      <td>742278521</td>\n",
       "      <td>CP22315G</td>\n",
       "      <td>Adler, Robert</td>\n",
       "      <td>1965-02-05</td>\n",
       "    </tr>\n",
       "    <tr>\n",
       "      <th>2</th>\n",
       "      <td>74237552800-FCNY0001</td>\n",
       "      <td>742375528</td>\n",
       "      <td>CZ90609X</td>\n",
       "      <td>Ames, Allison</td>\n",
       "      <td>1999-02-03</td>\n",
       "    </tr>\n",
       "  </tbody>\n",
       "</table>\n",
       "</div>"
      ],
      "text/plain": [
       "              Member ID Parse Member       CIN    Member Name Member DOB\n",
       "0  74373982100-FCNY0001    743739821  CJ21745E  Acor, Brandon 1993-04-09\n",
       "1  74227852100-FCNY0001    742278521  CP22315G  Adler, Robert 1965-02-05\n",
       "2  74237552800-FCNY0001    742375528  CZ90609X  Ames, Allison 1999-02-03"
      ]
     },
     "execution_count": 39,
     "metadata": {},
     "output_type": "execute_result"
    }
   ],
   "source": [
    "df_allmember_matching = df_allmember[['Member ID','Parse Member','CIN','Member Name','Member DOB'\n",
    "                                      ]] \n",
    "print(df_allmember_matching.shape)\n",
    "df_allmember_matching.head(3)     "
   ]
  },
  {
   "cell_type": "code",
   "execution_count": 40,
   "id": "46c95cf3-3bda-404c-865e-79bdca6673c6",
   "metadata": {},
   "outputs": [
    {
     "name": "stderr",
     "output_type": "stream",
     "text": [
      "C:\\Users\\josep\\AppData\\Local\\Temp\\ipykernel_7384\\3804711215.py:1: SettingWithCopyWarning: \n",
      "A value is trying to be set on a copy of a slice from a DataFrame.\n",
      "Try using .loc[row_indexer,col_indexer] = value instead\n",
      "\n",
      "See the caveats in the documentation: https://pandas.pydata.org/pandas-docs/stable/user_guide/indexing.html#returning-a-view-versus-a-copy\n",
      "  df_allmember_matching['Mem_ID'] = df_allmember_matching['Member ID'].str.slice(0, 9)\n"
     ]
    }
   ],
   "source": [
    "df_allmember_matching['Mem_ID'] = df_allmember_matching['Member ID'].str.slice(0, 9)"
   ]
  },
  {
   "cell_type": "code",
   "execution_count": 41,
   "id": "4d18fb28-e70c-4704-89e7-1ca93ebb125d",
   "metadata": {},
   "outputs": [
    {
     "data": {
      "text/html": [
       "<div>\n",
       "<style scoped>\n",
       "    .dataframe tbody tr th:only-of-type {\n",
       "        vertical-align: middle;\n",
       "    }\n",
       "\n",
       "    .dataframe tbody tr th {\n",
       "        vertical-align: top;\n",
       "    }\n",
       "\n",
       "    .dataframe thead th {\n",
       "        text-align: right;\n",
       "    }\n",
       "</style>\n",
       "<table border=\"1\" class=\"dataframe\">\n",
       "  <thead>\n",
       "    <tr style=\"text-align: right;\">\n",
       "      <th></th>\n",
       "      <th>Member ID</th>\n",
       "      <th>Parse Member</th>\n",
       "      <th>CIN</th>\n",
       "      <th>Member Name</th>\n",
       "      <th>Member DOB</th>\n",
       "      <th>Mem_ID</th>\n",
       "    </tr>\n",
       "  </thead>\n",
       "  <tbody>\n",
       "    <tr>\n",
       "      <th>0</th>\n",
       "      <td>74373982100-FCNY0001</td>\n",
       "      <td>743739821</td>\n",
       "      <td>CJ21745E</td>\n",
       "      <td>Acor, Brandon</td>\n",
       "      <td>1993-04-09</td>\n",
       "      <td>743739821</td>\n",
       "    </tr>\n",
       "    <tr>\n",
       "      <th>1</th>\n",
       "      <td>74227852100-FCNY0001</td>\n",
       "      <td>742278521</td>\n",
       "      <td>CP22315G</td>\n",
       "      <td>Adler, Robert</td>\n",
       "      <td>1965-02-05</td>\n",
       "      <td>742278521</td>\n",
       "    </tr>\n",
       "    <tr>\n",
       "      <th>2</th>\n",
       "      <td>74237552800-FCNY0001</td>\n",
       "      <td>742375528</td>\n",
       "      <td>CZ90609X</td>\n",
       "      <td>Ames, Allison</td>\n",
       "      <td>1999-02-03</td>\n",
       "      <td>742375528</td>\n",
       "    </tr>\n",
       "    <tr>\n",
       "      <th>3</th>\n",
       "      <td>74342859700-FCNY0001</td>\n",
       "      <td>743428597</td>\n",
       "      <td>FC85494H</td>\n",
       "      <td>Arnault, Taryn</td>\n",
       "      <td>2004-01-09</td>\n",
       "      <td>743428597</td>\n",
       "    </tr>\n",
       "    <tr>\n",
       "      <th>4</th>\n",
       "      <td>74353314600-FCNY0001</td>\n",
       "      <td>743533146</td>\n",
       "      <td>BW24223H</td>\n",
       "      <td>Barnes, Joshua</td>\n",
       "      <td>1989-01-05</td>\n",
       "      <td>743533146</td>\n",
       "    </tr>\n",
       "  </tbody>\n",
       "</table>\n",
       "</div>"
      ],
      "text/plain": [
       "              Member ID Parse Member       CIN     Member Name Member DOB  \\\n",
       "0  74373982100-FCNY0001    743739821  CJ21745E   Acor, Brandon 1993-04-09   \n",
       "1  74227852100-FCNY0001    742278521  CP22315G   Adler, Robert 1965-02-05   \n",
       "2  74237552800-FCNY0001    742375528  CZ90609X   Ames, Allison 1999-02-03   \n",
       "3  74342859700-FCNY0001    743428597  FC85494H  Arnault, Taryn 2004-01-09   \n",
       "4  74353314600-FCNY0001    743533146  BW24223H  Barnes, Joshua 1989-01-05   \n",
       "\n",
       "      Mem_ID  \n",
       "0  743739821  \n",
       "1  742278521  \n",
       "2  742375528  \n",
       "3  743428597  \n",
       "4  743533146  "
      ]
     },
     "execution_count": 41,
     "metadata": {},
     "output_type": "execute_result"
    }
   ],
   "source": [
    "df_allmember_matching.head(5)"
   ]
  },
  {
   "cell_type": "code",
   "execution_count": 49,
   "id": "270e7c91-0d50-460b-a0ff-1e97acf34d48",
   "metadata": {},
   "outputs": [
    {
     "ename": "SyntaxError",
     "evalue": "EOL while scanning string literal (2518260946.py, line 23)",
     "output_type": "error",
     "traceback": [
      "\u001b[1;36m  Cell \u001b[1;32mIn[49], line 23\u001b[1;36m\u001b[0m\n\u001b[1;33m    member_name = df['Patient Info.P\u001b[0m\n\u001b[1;37m                                     ^\u001b[0m\n\u001b[1;31mSyntaxError\u001b[0m\u001b[1;31m:\u001b[0m EOL while scanning string literal\n"
     ]
    }
   ],
   "source": [
    "def find_member_DOB_by_Name(member_name):\n",
    "    df = df_membership[df_membership['Patient Info.Patient Name - Last First'] == member_name]\n",
    "    if not df.empty:\n",
    "        dob_datetime = pd.to_datetime(df['Patient Info.Date Of Birth'].iloc[0])\n",
    "        dob_date = dob_datetime.date()\n",
    "        return str(dob_date)\n",
    "    else:\n",
    "        return \"Member not found\"\n",
    "\n",
    "\n",
    "def find_member_DOB_by_CIN(CIN):\n",
    "    df = df_membership[df_membership['Info.MedicaidID'] == CIN]\n",
    "    if not df.empty:\n",
    "        dob_datetime = pd.to_datetime(df['Patient Info.Date Of Birth'].iloc[0])\n",
    "        dob_date = dob_datetime.date()\n",
    "        return str(dob_date)\n",
    "    else:\n",
    "        return \"Member not found\"\n",
    "\n",
    "def find_member_name_by_CIN(CIN):\n",
    "    df = df_membership[df_membership['Info.MedicaidID'] == CIN]\n",
    "    if not df.empty:\n",
    "        member_name = df['Patient Info.P \n",
    "        return member_name\n",
    "    else:\n",
    "        return \"Member not found\"\n",
    "\n",
    "def find_member_DOB_by_member_ID(member_ID):\n",
    "    df = df_membership[df_membership['Info.MedicaidID'] == member_ID]\n",
    "    if not df.empty:\n",
    "        dob_datetime = pd.to_datetime(df['Patient Info.Date Of Birth'].iloc[0])\n",
    "        dob_date = dob_datetime.date()\n",
    "        return str(dob_date)\n",
    "    else:\n",
    "        return \"Member not found\"\n",
    "\n",
    "\n",
    "\n",
    "\n",
    " "
   ]
  },
  {
   "cell_type": "code",
   "execution_count": 51,
   "id": "d3461033-f00c-4a09-aa80-4d0e35736ff8",
   "metadata": {},
   "outputs": [
    {
     "name": "stdout",
     "output_type": "stream",
     "text": [
      "Birth Date for VINCENT, GREGORY: 1992-07-11  \n"
     ]
    },
    {
     "ename": "KeyError",
     "evalue": "'Info.MedicaidID'",
     "output_type": "error",
     "traceback": [
      "\u001b[1;31m---------------------------------------------------------------------------\u001b[0m",
      "\u001b[1;31mKeyError\u001b[0m                                  Traceback (most recent call last)",
      "File \u001b[1;32m~\\anaconda3\\lib\\site-packages\\pandas\\core\\indexes\\base.py:3653\u001b[0m, in \u001b[0;36mIndex.get_loc\u001b[1;34m(self, key)\u001b[0m\n\u001b[0;32m   3652\u001b[0m \u001b[38;5;28;01mtry\u001b[39;00m:\n\u001b[1;32m-> 3653\u001b[0m     \u001b[38;5;28;01mreturn\u001b[39;00m \u001b[38;5;28;43mself\u001b[39;49m\u001b[38;5;241;43m.\u001b[39;49m\u001b[43m_engine\u001b[49m\u001b[38;5;241;43m.\u001b[39;49m\u001b[43mget_loc\u001b[49m\u001b[43m(\u001b[49m\u001b[43mcasted_key\u001b[49m\u001b[43m)\u001b[49m\n\u001b[0;32m   3654\u001b[0m \u001b[38;5;28;01mexcept\u001b[39;00m \u001b[38;5;167;01mKeyError\u001b[39;00m \u001b[38;5;28;01mas\u001b[39;00m err:\n",
      "File \u001b[1;32m~\\anaconda3\\lib\\site-packages\\pandas\\_libs\\index.pyx:147\u001b[0m, in \u001b[0;36mpandas._libs.index.IndexEngine.get_loc\u001b[1;34m()\u001b[0m\n",
      "File \u001b[1;32m~\\anaconda3\\lib\\site-packages\\pandas\\_libs\\index.pyx:176\u001b[0m, in \u001b[0;36mpandas._libs.index.IndexEngine.get_loc\u001b[1;34m()\u001b[0m\n",
      "File \u001b[1;32mpandas\\_libs\\hashtable_class_helper.pxi:7080\u001b[0m, in \u001b[0;36mpandas._libs.hashtable.PyObjectHashTable.get_item\u001b[1;34m()\u001b[0m\n",
      "File \u001b[1;32mpandas\\_libs\\hashtable_class_helper.pxi:7088\u001b[0m, in \u001b[0;36mpandas._libs.hashtable.PyObjectHashTable.get_item\u001b[1;34m()\u001b[0m\n",
      "\u001b[1;31mKeyError\u001b[0m: 'Info.MedicaidID'",
      "\nThe above exception was the direct cause of the following exception:\n",
      "\u001b[1;31mKeyError\u001b[0m                                  Traceback (most recent call last)",
      "Cell \u001b[1;32mIn[51], line 4\u001b[0m\n\u001b[0;32m      2\u001b[0m \u001b[38;5;28;01mif\u001b[39;00m testing:\n\u001b[0;32m      3\u001b[0m     \u001b[38;5;28mprint\u001b[39m(\u001b[38;5;124mf\u001b[39m\u001b[38;5;124m\"\u001b[39m\u001b[38;5;124mBirth Date for VINCENT, GREGORY: \u001b[39m\u001b[38;5;132;01m{\u001b[39;00mfind_member_DOB_by_Name(\u001b[38;5;124m'\u001b[39m\u001b[38;5;124mVINCENT, GREGORY\u001b[39m\u001b[38;5;124m'\u001b[39m)\u001b[38;5;132;01m}\u001b[39;00m\u001b[38;5;124m  \u001b[39m\u001b[38;5;124m\"\u001b[39m) \n\u001b[1;32m----> 4\u001b[0m     \u001b[38;5;28mprint\u001b[39m(\u001b[38;5;124mf\u001b[39m\u001b[38;5;124m\"\u001b[39m\u001b[38;5;124mBirth Date for CZ90609X: \u001b[39m\u001b[38;5;132;01m{\u001b[39;00mfind_member_DOB_by_CIN(\u001b[38;5;124m'\u001b[39m\u001b[38;5;124mCZ90609X\u001b[39m\u001b[38;5;124m'\u001b[39m)\u001b[38;5;132;01m}\u001b[39;00m\u001b[38;5;124m  \u001b[39m\u001b[38;5;124m\"\u001b[39m)\n",
      "Cell \u001b[1;32mIn[47], line 12\u001b[0m, in \u001b[0;36mfind_member_DOB_by_CIN\u001b[1;34m(CIN)\u001b[0m\n\u001b[0;32m     11\u001b[0m \u001b[38;5;28;01mdef\u001b[39;00m \u001b[38;5;21mfind_member_DOB_by_CIN\u001b[39m(CIN):\n\u001b[1;32m---> 12\u001b[0m     df \u001b[38;5;241m=\u001b[39m df_membership[\u001b[43mdf_membership\u001b[49m\u001b[43m[\u001b[49m\u001b[38;5;124;43m'\u001b[39;49m\u001b[38;5;124;43mInfo.MedicaidID\u001b[39;49m\u001b[38;5;124;43m'\u001b[39;49m\u001b[43m]\u001b[49m \u001b[38;5;241m==\u001b[39m CIN]\n\u001b[0;32m     13\u001b[0m     \u001b[38;5;28;01mif\u001b[39;00m \u001b[38;5;129;01mnot\u001b[39;00m df\u001b[38;5;241m.\u001b[39mempty:\n\u001b[0;32m     14\u001b[0m         dob_datetime \u001b[38;5;241m=\u001b[39m pd\u001b[38;5;241m.\u001b[39mto_datetime(df[\u001b[38;5;124m'\u001b[39m\u001b[38;5;124mPatient Info.Date Of Birth\u001b[39m\u001b[38;5;124m'\u001b[39m]\u001b[38;5;241m.\u001b[39miloc[\u001b[38;5;241m0\u001b[39m])\n",
      "File \u001b[1;32m~\\anaconda3\\lib\\site-packages\\pandas\\core\\frame.py:3761\u001b[0m, in \u001b[0;36mDataFrame.__getitem__\u001b[1;34m(self, key)\u001b[0m\n\u001b[0;32m   3759\u001b[0m \u001b[38;5;28;01mif\u001b[39;00m \u001b[38;5;28mself\u001b[39m\u001b[38;5;241m.\u001b[39mcolumns\u001b[38;5;241m.\u001b[39mnlevels \u001b[38;5;241m>\u001b[39m \u001b[38;5;241m1\u001b[39m:\n\u001b[0;32m   3760\u001b[0m     \u001b[38;5;28;01mreturn\u001b[39;00m \u001b[38;5;28mself\u001b[39m\u001b[38;5;241m.\u001b[39m_getitem_multilevel(key)\n\u001b[1;32m-> 3761\u001b[0m indexer \u001b[38;5;241m=\u001b[39m \u001b[38;5;28;43mself\u001b[39;49m\u001b[38;5;241;43m.\u001b[39;49m\u001b[43mcolumns\u001b[49m\u001b[38;5;241;43m.\u001b[39;49m\u001b[43mget_loc\u001b[49m\u001b[43m(\u001b[49m\u001b[43mkey\u001b[49m\u001b[43m)\u001b[49m\n\u001b[0;32m   3762\u001b[0m \u001b[38;5;28;01mif\u001b[39;00m is_integer(indexer):\n\u001b[0;32m   3763\u001b[0m     indexer \u001b[38;5;241m=\u001b[39m [indexer]\n",
      "File \u001b[1;32m~\\anaconda3\\lib\\site-packages\\pandas\\core\\indexes\\base.py:3655\u001b[0m, in \u001b[0;36mIndex.get_loc\u001b[1;34m(self, key)\u001b[0m\n\u001b[0;32m   3653\u001b[0m     \u001b[38;5;28;01mreturn\u001b[39;00m \u001b[38;5;28mself\u001b[39m\u001b[38;5;241m.\u001b[39m_engine\u001b[38;5;241m.\u001b[39mget_loc(casted_key)\n\u001b[0;32m   3654\u001b[0m \u001b[38;5;28;01mexcept\u001b[39;00m \u001b[38;5;167;01mKeyError\u001b[39;00m \u001b[38;5;28;01mas\u001b[39;00m err:\n\u001b[1;32m-> 3655\u001b[0m     \u001b[38;5;28;01mraise\u001b[39;00m \u001b[38;5;167;01mKeyError\u001b[39;00m(key) \u001b[38;5;28;01mfrom\u001b[39;00m \u001b[38;5;21;01merr\u001b[39;00m\n\u001b[0;32m   3656\u001b[0m \u001b[38;5;28;01mexcept\u001b[39;00m \u001b[38;5;167;01mTypeError\u001b[39;00m:\n\u001b[0;32m   3657\u001b[0m     \u001b[38;5;66;03m# If we have a listlike key, _check_indexing_error will raise\u001b[39;00m\n\u001b[0;32m   3658\u001b[0m     \u001b[38;5;66;03m#  InvalidIndexError. Otherwise we fall through and re-raise\u001b[39;00m\n\u001b[0;32m   3659\u001b[0m     \u001b[38;5;66;03m#  the TypeError.\u001b[39;00m\n\u001b[0;32m   3660\u001b[0m     \u001b[38;5;28mself\u001b[39m\u001b[38;5;241m.\u001b[39m_check_indexing_error(key)\n",
      "\u001b[1;31mKeyError\u001b[0m: 'Info.MedicaidID'"
     ]
    }
   ],
   "source": [
    "testing = True\n",
    "if testing:\n",
    "    print(f\"Birth Date for VINCENT, GREGORY: {find_member_DOB_by_Name('VINCENT, GREGORY')}  \") \n",
    "    print(f\"Birth Date for CZ90609X: {find_member_DOB_by_CIN('CZ90609X')}  \") \n",
    "    # print(f\"Birth Date for CZ90609X: {find_member_name_by_CIN('CZ90609X')}  \") "
   ]
  },
  {
   "cell_type": "code",
   "execution_count": null,
   "id": "8045f0da-acec-44a3-bdea-769579c9a733",
   "metadata": {},
   "outputs": [],
   "source": [
    "def find_member_DOB_by_Name(member_name):\n",
    "    df = df_membership_match_info[df_membership_match_info['Patient Info.Patient Name - Last First'] == member_name]\n",
    "    if not df.empty:\n",
    "        dob_datetime = pd.to_datetime(df['Patient Info.Date Of Birth'].iloc[0])\n",
    "        dob_date = dob_datetime.date()\n",
    "        return str(dob_date)\n",
    "    else:\n",
    "        return \"Member not found\"\n",
    " "
   ]
  },
  {
   "cell_type": "code",
   "execution_count": 26,
   "id": "1b8da747-a05d-49e9-bd90-5abeb8f36f49",
   "metadata": {},
   "outputs": [
    {
     "name": "stdout",
     "output_type": "stream",
     "text": [
      "Birth Date for Acor, Brandon: 1993-04-09  \n",
      "Birth Date for Bell, Michael: 2008-03-18  \n"
     ]
    }
   ],
   "source": [
    "testing = True\n",
    "if testing:\n",
    "    print(f\"Birth Date for Acor, Brandon: {find_member_DOB_by_Name('Acor, Brandon')}  \") \n",
    "    print(f\"Birth Date for Bell, Michael: {find_member_DOB_by_Name('Bell, Michael')}  \") \n",
    "\n"
   ]
  },
  {
   "cell_type": "code",
   "execution_count": 27,
   "id": "9965adbc-c97d-40b7-8aeb-38718ad40209",
   "metadata": {},
   "outputs": [],
   "source": [
    "def find_member_DOB_by_CIN(CIN):\n",
    "    df = df_allmember_matching[df_allmember_matching['CIN'] == CIN]\n",
    "\n",
    "    if not df.empty:\n",
    "        dob_datetime = pd.to_datetime(df['Member DOB'].iloc[0])\n",
    "        dob_date = dob_datetime.date()\n",
    "        return str(dob_date)\n",
    "    else:\n",
    "        return \"Member not found\"\n"
   ]
  },
  {
   "cell_type": "code",
   "execution_count": 28,
   "id": "c81b9dbf-bff7-4a65-8c71-dc0004198cd3",
   "metadata": {},
   "outputs": [
    {
     "name": "stdout",
     "output_type": "stream",
     "text": [
      "Birth Date for CJ21745E: 1993-04-09  \n",
      "Birth Date for FC85494H: 2004-01-09  \n"
     ]
    }
   ],
   "source": [
    "testing = True\n",
    "if testing:\n",
    "    print(f\"Birth Date for CJ21745E: {find_member_DOB_by_CIN('CJ21745E')}  \") \n",
    "    print(f\"Birth Date for FC85494H: {find_member_DOB_by_CIN('FC85494H')}  \") "
   ]
  },
  {
   "cell_type": "code",
   "execution_count": 30,
   "id": "0a79a60d-6edf-46ce-85e7-803ae3632c12",
   "metadata": {},
   "outputs": [],
   "source": [
    "def find_member_Name_by_member_ID(member_ID):\n",
    "    df = df_allmember_matching[df_allmember_matching['Mem_ID'] == member_ID]\n",
    "    if not df.empty:\n",
    "        member = df['Member Name'].iloc[0] \n",
    "        return str(member)\n",
    "    else:\n",
    "        return \"Member not found\""
   ]
  },
  {
   "cell_type": "code",
   "execution_count": 31,
   "id": "b4c1c93a-9562-499d-a636-a44df9bfd11d",
   "metadata": {},
   "outputs": [
    {
     "name": "stdout",
     "output_type": "stream",
     "text": [
      "Birth Date for Adler, Robert: 1965-02-05  \n",
      "Birth Date for Barnes, Joshua: 1989-01-05  \n",
      "Birth Date for CIN CP22315G: 1965-02-05  \n",
      "member name for member ID: Barnes, Joshua  \n"
     ]
    }
   ],
   "source": [
    "testing = True\n",
    "if testing:\n",
    "    print(f\"Birth Date for Adler, Robert: {find_member_DOB_by_Name('Adler, Robert')}  \") \n",
    "    print(f\"Birth Date for Barnes, Joshua: {find_member_DOB_by_Name('Barnes, Joshua')}  \") \n",
    "    print(f\"Birth Date for CIN CP22315G: {find_member_DOB_by_CIN('CP22315G')}  \") \n",
    "    print(f\"member name for member ID: {find_member_Name_by_member_ID('743533146')}  \") "
   ]
  },
  {
   "cell_type": "markdown",
   "id": "d76decf2-9571-4174-b7d5-ffaea47da8e2",
   "metadata": {},
   "source": [
    "## Use Lambda function to assign matching DOB "
   ]
  },
  {
   "cell_type": "code",
   "execution_count": 33,
   "id": "c215eab4-23e6-4e60-8e49-8e17ce2fabec",
   "metadata": {},
   "outputs": [
    {
     "ename": "KeyError",
     "evalue": "'Mem_ID'",
     "output_type": "error",
     "traceback": [
      "\u001b[1;31m---------------------------------------------------------------------------\u001b[0m",
      "\u001b[1;31mKeyError\u001b[0m                                  Traceback (most recent call last)",
      "File \u001b[1;32m~\\anaconda3\\lib\\site-packages\\pandas\\core\\indexes\\base.py:3653\u001b[0m, in \u001b[0;36mIndex.get_loc\u001b[1;34m(self, key)\u001b[0m\n\u001b[0;32m   3652\u001b[0m \u001b[38;5;28;01mtry\u001b[39;00m:\n\u001b[1;32m-> 3653\u001b[0m     \u001b[38;5;28;01mreturn\u001b[39;00m \u001b[38;5;28;43mself\u001b[39;49m\u001b[38;5;241;43m.\u001b[39;49m\u001b[43m_engine\u001b[49m\u001b[38;5;241;43m.\u001b[39;49m\u001b[43mget_loc\u001b[49m\u001b[43m(\u001b[49m\u001b[43mcasted_key\u001b[49m\u001b[43m)\u001b[49m\n\u001b[0;32m   3654\u001b[0m \u001b[38;5;28;01mexcept\u001b[39;00m \u001b[38;5;167;01mKeyError\u001b[39;00m \u001b[38;5;28;01mas\u001b[39;00m err:\n",
      "File \u001b[1;32m~\\anaconda3\\lib\\site-packages\\pandas\\_libs\\index.pyx:147\u001b[0m, in \u001b[0;36mpandas._libs.index.IndexEngine.get_loc\u001b[1;34m()\u001b[0m\n",
      "File \u001b[1;32m~\\anaconda3\\lib\\site-packages\\pandas\\_libs\\index.pyx:176\u001b[0m, in \u001b[0;36mpandas._libs.index.IndexEngine.get_loc\u001b[1;34m()\u001b[0m\n",
      "File \u001b[1;32mpandas\\_libs\\hashtable_class_helper.pxi:7080\u001b[0m, in \u001b[0;36mpandas._libs.hashtable.PyObjectHashTable.get_item\u001b[1;34m()\u001b[0m\n",
      "File \u001b[1;32mpandas\\_libs\\hashtable_class_helper.pxi:7088\u001b[0m, in \u001b[0;36mpandas._libs.hashtable.PyObjectHashTable.get_item\u001b[1;34m()\u001b[0m\n",
      "\u001b[1;31mKeyError\u001b[0m: 'Mem_ID'",
      "\nThe above exception was the direct cause of the following exception:\n",
      "\u001b[1;31mKeyError\u001b[0m                                  Traceback (most recent call last)",
      "Cell \u001b[1;32mIn[33], line 1\u001b[0m\n\u001b[1;32m----> 1\u001b[0m df_allmember_matching[\u001b[38;5;124m'\u001b[39m\u001b[38;5;124mName Lookup by Member ID\u001b[39m\u001b[38;5;124m'\u001b[39m] \u001b[38;5;241m=\u001b[39m \u001b[43mdf_membership_match_info\u001b[49m\u001b[43m[\u001b[49m\u001b[38;5;124;43m'\u001b[39;49m\u001b[38;5;124;43mMem_ID\u001b[39;49m\u001b[38;5;124;43m'\u001b[39;49m\u001b[43m]\u001b[49m\u001b[38;5;241m.\u001b[39mapply(\u001b[38;5;28;01mlambda\u001b[39;00m x: find_member_Name_by_member_ID(x))\n",
      "File \u001b[1;32m~\\anaconda3\\lib\\site-packages\\pandas\\core\\frame.py:3761\u001b[0m, in \u001b[0;36mDataFrame.__getitem__\u001b[1;34m(self, key)\u001b[0m\n\u001b[0;32m   3759\u001b[0m \u001b[38;5;28;01mif\u001b[39;00m \u001b[38;5;28mself\u001b[39m\u001b[38;5;241m.\u001b[39mcolumns\u001b[38;5;241m.\u001b[39mnlevels \u001b[38;5;241m>\u001b[39m \u001b[38;5;241m1\u001b[39m:\n\u001b[0;32m   3760\u001b[0m     \u001b[38;5;28;01mreturn\u001b[39;00m \u001b[38;5;28mself\u001b[39m\u001b[38;5;241m.\u001b[39m_getitem_multilevel(key)\n\u001b[1;32m-> 3761\u001b[0m indexer \u001b[38;5;241m=\u001b[39m \u001b[38;5;28;43mself\u001b[39;49m\u001b[38;5;241;43m.\u001b[39;49m\u001b[43mcolumns\u001b[49m\u001b[38;5;241;43m.\u001b[39;49m\u001b[43mget_loc\u001b[49m\u001b[43m(\u001b[49m\u001b[43mkey\u001b[49m\u001b[43m)\u001b[49m\n\u001b[0;32m   3762\u001b[0m \u001b[38;5;28;01mif\u001b[39;00m is_integer(indexer):\n\u001b[0;32m   3763\u001b[0m     indexer \u001b[38;5;241m=\u001b[39m [indexer]\n",
      "File \u001b[1;32m~\\anaconda3\\lib\\site-packages\\pandas\\core\\indexes\\base.py:3655\u001b[0m, in \u001b[0;36mIndex.get_loc\u001b[1;34m(self, key)\u001b[0m\n\u001b[0;32m   3653\u001b[0m     \u001b[38;5;28;01mreturn\u001b[39;00m \u001b[38;5;28mself\u001b[39m\u001b[38;5;241m.\u001b[39m_engine\u001b[38;5;241m.\u001b[39mget_loc(casted_key)\n\u001b[0;32m   3654\u001b[0m \u001b[38;5;28;01mexcept\u001b[39;00m \u001b[38;5;167;01mKeyError\u001b[39;00m \u001b[38;5;28;01mas\u001b[39;00m err:\n\u001b[1;32m-> 3655\u001b[0m     \u001b[38;5;28;01mraise\u001b[39;00m \u001b[38;5;167;01mKeyError\u001b[39;00m(key) \u001b[38;5;28;01mfrom\u001b[39;00m \u001b[38;5;21;01merr\u001b[39;00m\n\u001b[0;32m   3656\u001b[0m \u001b[38;5;28;01mexcept\u001b[39;00m \u001b[38;5;167;01mTypeError\u001b[39;00m:\n\u001b[0;32m   3657\u001b[0m     \u001b[38;5;66;03m# If we have a listlike key, _check_indexing_error will raise\u001b[39;00m\n\u001b[0;32m   3658\u001b[0m     \u001b[38;5;66;03m#  InvalidIndexError. Otherwise we fall through and re-raise\u001b[39;00m\n\u001b[0;32m   3659\u001b[0m     \u001b[38;5;66;03m#  the TypeError.\u001b[39;00m\n\u001b[0;32m   3660\u001b[0m     \u001b[38;5;28mself\u001b[39m\u001b[38;5;241m.\u001b[39m_check_indexing_error(key)\n",
      "\u001b[1;31mKeyError\u001b[0m: 'Mem_ID'"
     ]
    }
   ],
   "source": [
    "df_allmember_matching['Name Lookup by Member ID'] = df_membership_match_info['Mem_ID'].apply(lambda x: find_member_Name_by_member_ID(x))\n"
   ]
  },
  {
   "cell_type": "code",
   "execution_count": null,
   "id": "6b9fded9-5245-4b10-b1d6-c73fa56f0cb0",
   "metadata": {},
   "outputs": [],
   "source": [
    "df_allmember_matching['Lookup DOB'] = df_membership_match_info['Member Name'].apply(lambda x: find_member_DOB_by_Name(x))"
   ]
  },
  {
   "cell_type": "code",
   "execution_count": null,
   "id": "51812daf-f53b-4d92-b502-4959bae5a253",
   "metadata": {},
   "outputs": [],
   "source": [
    "df_allmember_matching.shape"
   ]
  },
  {
   "cell_type": "code",
   "execution_count": null,
   "id": "62d218f0-6d29-420b-be65-a6aacf91963c",
   "metadata": {},
   "outputs": [],
   "source": [
    "df_allmember_matching.head(6)"
   ]
  },
  {
   "cell_type": "code",
   "execution_count": null,
   "id": "ed607863-3496-484e-85e5-69360ee66204",
   "metadata": {},
   "outputs": [],
   "source": [
    "# Convert 'Member DOB' and 'Lookup DOB' to datetime\n",
    "df_allmember_matching['Member DOB'] = pd.to_datetime(df_allmember_matching['Member DOB'])\n",
    "df_allmember_matching['Lookup DOB'] = pd.to_datetime(df_allmember_matching['Lookup DOB'])\n"
   ]
  },
  {
   "cell_type": "code",
   "execution_count": null,
   "id": "963aedde-a319-420c-9442-d2b6c3c88c40",
   "metadata": {},
   "outputs": [],
   "source": [
    "# Create a new column \"matching member\"\n",
    "df_allmember_matching.loc[:, 'matching member'] = \\\n",
    "    df_allmember_matching.apply(lambda row: 'Member Match' if row['Member DOB'] == row['Lookup DOB'] else 'No Match', axis=1)\n"
   ]
  },
  {
   "cell_type": "code",
   "execution_count": null,
   "id": "2c687bfe-bbd6-4d06-8041-f399ff8df16d",
   "metadata": {},
   "outputs": [],
   "source": [
    "df_allmember_matching.head(10)"
   ]
  },
  {
   "cell_type": "code",
   "execution_count": null,
   "id": "ca07137e-96ae-4bde-b2b5-9e30d5334c15",
   "metadata": {},
   "outputs": [],
   "source": [
    "print(df_fidelis_matching.shape)\n",
    "print(merged_df.shape)\n",
    "merged_df.head(3)"
   ]
  },
  {
   "cell_type": "code",
   "execution_count": null,
   "id": "122a2d35-52cd-47fc-86c3-52ccc174b855",
   "metadata": {},
   "outputs": [],
   "source": [
    "# Merge the two DataFrames based on the member_id and CIN columns\n",
    "merged_df = df_fidelis.merge(df_membership_match_info, left_on='Mem_ID', right_on='Patient Info.MedicaidID', how='left')\n",
    "# Create the 'member ID match' column with 'Member Name' if a match is found, or 'No Member ID match' if no match is found\n",
    "merged_df['member ID match'] = merged_df['Member Name'].fillna('No Member ID match')\n",
    "merged_df.head(3)    # Keep only the desired columns in the final DataFrame"
   ]
  },
  {
   "cell_type": "code",
   "execution_count": null,
   "id": "524fd83e-a49d-4e79-97b7-4ccaa6e79418",
   "metadata": {},
   "outputs": [],
   "source": [
    "# Merge the two DataFrames based on the member_id and CIN columns\n",
    "merged_df = df_fidelis.merge(df_membership_match_info, left_on='Mem_ID', right_on='Patient Info.MedicaidID', how='left')\n",
    "# Create the 'member ID match' column with 'Member Name' if a match is found, or 'No Member ID match' if no match is found\n",
    "merged_df['member ID match'] = merged_df['Member Name'].fillna('No Member ID match')\n",
    "# Keep only the desired columns in the final DataFrame\n",
    "final_df = merged_df[['member_id', 'member_name', 'member ID match']]\n",
    "# If you want to update the original df_fidelis DataFrame with the new column, you can do:\n",
    "df_fidelis['member ID match'] = final_df['member ID match']\n",
    "# Print the updated DataFrame\n",
    "final_df.head() "
   ]
  },
  {
   "cell_type": "markdown",
   "id": "23e62771-eb39-43e5-ad44-bb02072a298f",
   "metadata": {},
   "source": [
    "## match on CIN - or -  left member ID 9 - or - Name and Date of Birth "
   ]
  },
  {
   "cell_type": "code",
   "execution_count": null,
   "id": "8c35cb8f-ba63-47ad-bd21-d8bb14bb29a0",
   "metadata": {},
   "outputs": [],
   "source": [
    "# df_fidelis.columns"
   ]
  },
  {
   "cell_type": "markdown",
   "id": "60f0fea6-21a6-44be-82fa-607f3fbcfe8a",
   "metadata": {},
   "source": [
    "## Step 3 - Clear out old reports"
   ]
  },
  {
   "cell_type": "code",
   "execution_count": null,
   "id": "29200e1e-f999-490a-bc64-a5026bc69bb7",
   "metadata": {},
   "outputs": [],
   "source": [
    "def delete_files_in_directory(target_directory):\n",
    "    try:\n",
    "        # Verify if the target_directory exists\n",
    "        if not os.path.exists(target_directory):\n",
    "            print(f\"The directory '{target_directory}' does not exist.\")\n",
    "            return 0  # No files deleted\n",
    "\n",
    "        files_deleted = 0\n",
    "\n",
    "        # Loop through files in the target_directory and delete them\n",
    "        for file in os.listdir(target_directory):\n",
    "            file_path = os.path.join(target_directory, file)\n",
    "            if os.path.isfile(file_path):\n",
    "                os.remove(file_path)  # Delete the file\n",
    "                files_deleted += 1\n",
    "\n",
    "        print(f\"{files_deleted} files deleted in '{target_directory}'.\")\n",
    "        return files_deleted\n",
    "    \n",
    "    except Exception as e:\n",
    "        print(f\"An error occurred: {str(e)}\")\n",
    "        return 0  # No files deleted due to error\n",
    "\n",
    "# Example usage:\n",
    "# Specify the target directory to delete its files\n",
    "target_directory = \"/path/to/your/directory\"\n",
    "deleted_count = delete_files_in_directory(target_directory)\n",
    "print(f\"Total files deleted: {deleted_count}\")\n"
   ]
  },
  {
   "cell_type": "markdown",
   "id": "5428aced",
   "metadata": {},
   "source": [
    "## Example - df.columns provides a list of each column"
   ]
  },
  {
   "cell_type": "code",
   "execution_count": null,
   "id": "33ba0349",
   "metadata": {},
   "outputs": [],
   "source": [
    "df.columns"
   ]
  },
  {
   "cell_type": "markdown",
   "id": "cfd25fd5",
   "metadata": {},
   "source": [
    "## Example - df.describe() Provides High level stats on each column"
   ]
  },
  {
   "cell_type": "code",
   "execution_count": null,
   "id": "70cb0092",
   "metadata": {},
   "outputs": [],
   "source": [
    "df.describe() "
   ]
  },
  {
   "cell_type": "markdown",
   "id": "b5be8998-2dc8-409a-9501-2c06eef168c1",
   "metadata": {},
   "source": [
    "## Example - df.shape tells you the rows and columns"
   ]
  },
  {
   "cell_type": "code",
   "execution_count": null,
   "id": "03c800bd",
   "metadata": {},
   "outputs": [],
   "source": [
    "df.shape"
   ]
  },
  {
   "cell_type": "code",
   "execution_count": null,
   "id": "9ab6ca1a",
   "metadata": {},
   "outputs": [],
   "source": [
    "df.head(2)"
   ]
  },
  {
   "cell_type": "code",
   "execution_count": null,
   "id": "03f1b6c3",
   "metadata": {},
   "outputs": [],
   "source": [
    "df.tail(2)"
   ]
  },
  {
   "cell_type": "markdown",
   "id": "0653a168",
   "metadata": {},
   "source": [
    "## Step 2 - Render descriptive statistics and profile every feature or Column of the Dataset"
   ]
  },
  {
   "cell_type": "code",
   "execution_count": null,
   "id": "a4125e9f",
   "metadata": {},
   "outputs": [],
   "source": [
    "#data_set_name = 'high_risk_high_need'\n",
    "#dd.display_descriptive_statistics(dd.get_descriptive_statistics(df,data_set_name))"
   ]
  },
  {
   "cell_type": "markdown",
   "id": "fad57c33-8f36-426e-a745-f9cd97eba66f",
   "metadata": {},
   "source": [
    "## Strip Any spaces from Left of Provider Names"
   ]
  },
  {
   "cell_type": "code",
   "execution_count": null,
   "id": "c7ef1187-87d1-464b-ad66-dbcd13c0edb6",
   "metadata": {},
   "outputs": [],
   "source": [
    "df[\"Program Provider\"] = df[\"Program Provider\"].str.strip(\" \")"
   ]
  },
  {
   "cell_type": "code",
   "execution_count": null,
   "id": "8be5f098",
   "metadata": {},
   "outputs": [],
   "source": [
    "provider_list = df[\"Program Provider\"].unique()\n",
    "print(provider_list)"
   ]
  },
  {
   "cell_type": "markdown",
   "id": "d7b6be4f-51a3-4517-837f-50254dd35138",
   "metadata": {},
   "source": [
    "## Step 3 - Chunk the data set into personalized reports per Doctor"
   ]
  },
  {
   "cell_type": "code",
   "execution_count": null,
   "id": "375a9454",
   "metadata": {},
   "outputs": [],
   "source": [
    "import datetime\n",
    "report_date = datetime.datetime.now().strftime(\"_%m_%d_%Y\")\n",
    "for index, provider in enumerate(provider_list):\n",
    "    df_provider = df[(df[\"Program Provider\"] == provider)]\n",
    "    provider = provider.replace(\" \",\"_\")\n",
    "    print(f'Found {index}  Provider {provider} high risk patients:{df_provider.shape[0]}')\n",
    "    provider_save_filename = f\"c://reports//high_risk_high_need//provider_{provider}_high_risk\" + report_date + \".xlsx\" \n",
    "    print(f'writing {provider} to: {provider_save_filename}   ')\n",
    "    with pd.ExcelWriter(provider_save_filename) as writer:\n",
    "        df_provider.to_excel(writer, sheet_name='High Risk',index = False) "
   ]
  },
  {
   "cell_type": "markdown",
   "id": "17981841-c478-4651-b9fe-726e8f4afcbe",
   "metadata": {},
   "source": [
    "## Step 4 - Format all of the reports so they look professional and are easy to use and efficient "
   ]
  },
  {
   "cell_type": "code",
   "execution_count": null,
   "id": "7ec4675c-b506-4c82-b259-06815a8437ba",
   "metadata": {},
   "outputs": [],
   "source": [
    "testing = True\n",
    "if testing:\n",
    "    formatted_excel_Files = re.format_excel_directory('c://reports//high_risk_high_need')\n",
    "    print(f'Formatted #{formatted_excel_Files} excel files') "
   ]
  },
  {
   "cell_type": "code",
   "execution_count": null,
   "id": "81943aeb-9ecb-4461-a0dc-1b7b27c2cee7",
   "metadata": {},
   "outputs": [],
   "source": [
    "import os\n",
    "import shutil\n",
    "import re\n",
    "\n",
    "def move_files_by_regex_and_extension(source_dir, target_dir, regex_pattern, file_extension):\n",
    "    # Ensure the source and target directories exist\n",
    "    if not os.path.exists(source_dir):\n",
    "        print(f\"Source directory '{source_dir}' does not exist.\")\n",
    "        return\n",
    "    if not os.path.exists(target_dir):\n",
    "        print(f\"Target directory '{target_dir}' does not exist.\")\n",
    "        return\n",
    "\n",
    "    # Compile the regular expression pattern\n",
    "    try:\n",
    "        regex = re.compile(regex_pattern)\n",
    "    except re.error as e:\n",
    "        print(f\"Invalid regular expression: {e}\")\n",
    "        return\n",
    "\n",
    "    # Iterate over files in the source directory\n",
    "    for filename in os.listdir(source_dir):\n",
    "        source_file_path = os.path.join(source_dir, filename)\n",
    "\n",
    "        # Check if the file matches the regular expression and extension\n",
    "        if regex.search(filename) and filename.endswith(file_extension):\n",
    "            # Construct the target file path\n",
    "            target_file_path = os.path.join(target_dir, filename)\n",
    "\n",
    "            # Move the file to the target directory\n",
    "            try:\n",
    "                shutil.move(source_file_path, target_file_path)\n",
    "                print(f\"Moved '{filename}' to '{target_dir}'.\")\n",
    "            except Exception as e:\n",
    "                print(f\"Failed to move '{filename}': {e}\")\n",
    "\n",
    "# Example usage:\n",
    "source_directory = \"/path/to/source_directory\"\n",
    "target_directory = \"/path/to/target_directory\"\n",
    "regular_expression = r\"_ft\"     # Replace with your regular expression\n",
    "file_extension = \".xlsx\"       # Replace with your desired file extension\n",
    "move_files_by_regex_and_extension(source_directory, target_directory, regular_expression, file_extension)\n"
   ]
  },
  {
   "cell_type": "markdown",
   "id": "90df04c3",
   "metadata": {},
   "source": [
    "## Step 0 - Process End - display log"
   ]
  },
  {
   "cell_type": "code",
   "execution_count": null,
   "id": "8734fb3a",
   "metadata": {},
   "outputs": [],
   "source": [
    "# Calculate and classify the process performance \n",
    "status = ql.calculate_process_performance(solution_name, start_time) \n",
    "print(ql.append_log_file(solution_name))  "
   ]
  }
 ],
 "metadata": {
  "kernelspec": {
   "display_name": "Python 3 (ipykernel)",
   "language": "python",
   "name": "python3"
  },
  "language_info": {
   "codemirror_mode": {
    "name": "ipython",
    "version": 3
   },
   "file_extension": ".py",
   "mimetype": "text/x-python",
   "name": "python",
   "nbconvert_exporter": "python",
   "pygments_lexer": "ipython3",
   "version": "3.8.5"
  }
 },
 "nbformat": 4,
 "nbformat_minor": 5
}
