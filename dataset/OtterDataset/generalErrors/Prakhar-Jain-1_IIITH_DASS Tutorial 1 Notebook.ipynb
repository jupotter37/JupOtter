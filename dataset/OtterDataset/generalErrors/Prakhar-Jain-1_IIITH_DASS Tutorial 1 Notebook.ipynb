{
  "cells": [
    {
      "cell_type": "markdown",
      "metadata": {
        "id": "0uHlcCD_at5X"
      },
      "source": [
        "## Welcome to the first Tutorial session of \"DASS\"\n",
        "\n",
        "We will be playing around with multiple python modules/concepts that are expected to help you enormously in your course further.\n",
        "\n",
        "The Goals:\n",
        "- Have Fun.\n",
        "- Learn exciting new stuff.\n",
        "- Revise some old stuff.\n",
        "\n",
        "(You need to fill in the cells with the code as per the `Tasks` mentioned in the cells. You will need to run the cells to see the output, and submit this notebook with all the outputs, code ans task solutions in the end.)\n",
        "\n",
        "PS.: Please don't use generative AI, as you should know basics of python for debugging the AI generated code as well :)"
      ]
    },
    {
      "cell_type": "markdown",
      "metadata": {
        "id": "vDaK7gaDat5f"
      },
      "source": [
        "### 1. Python"
      ]
    },
    {
      "cell_type": "markdown",
      "metadata": {
        "id": "DFNwzIETat5g"
      },
      "source": [
        "Python is a programming language that has been under development for over 25 years.\n",
        "\n",
        "This tutorial may not cover everything in Python. If you would like, please consider the following resources for more information:\n",
        "\n",
        "**Getting Started with Python**:\n",
        "\n",
        "* https://www.codecademy.com/learn/learn-python-3\n",
        "* http://docs.python-guide.org/en/latest/intro/learning/\n",
        "* https://learnpythonthehardway.org/book/\n",
        "* https://www.codementor.io/learn-python-online\n",
        "* https://websitesetup.org/python-cheat-sheet/\n",
        "\n",
        "**Learning Python in Notebooks**:\n",
        "\n",
        "* http://mbakker7.github.io/exploratory_computing_with_python/\n",
        "\n",
        "This is handy to always have available for reference:\n",
        "\n",
        "**Python Reference**:\n",
        "\n",
        "* https://docs.python.org/3/reference/index.html"
      ]
    },
    {
      "cell_type": "markdown",
      "metadata": {
        "id": "hbylD_E9at5g"
      },
      "source": [
        "### 2. Lets Start with Jupyter Notebook features:"
      ]
    },
    {
      "cell_type": "markdown",
      "metadata": {
        "id": "gkOp4PQsat5g"
      },
      "source": [
        "#### **Why notebooks ?**\n",
        "1. Data Visualisation\n",
        "2. Live Interactions With Code\n",
        "\n",
        "**Much better to experiment with as compared to standard python files**\n",
        "\n",
        "Also helps you provide in-place explanations and cues for the future you.\n",
        "\n",
        "*~~You: Explanation.. Pfff.. Its all in my brain~~*\n",
        "\n",
        "---\n",
        "\n",
        "One Month Later:\n",
        "\n",
        "![Meme]( https://preview.redd.it/i8ztyo3pznk11.jpg?auto=webp&v=enabled&s=71e01e208937f491b6049bac08bad535cdccbbc3 \"Random Image\")\n",
        "\n",
        "Code:\n",
        "```python\n",
        "print(\"In reality images of results would be highly helpful not memes\")\n",
        "```\n",
        "\n",
        "Also I hope this session isn't too $$\\frac{ds_1^3}{dt^3}-y..$$"
      ]
    },
    {
      "cell_type": "markdown",
      "metadata": {
        "id": "6akBHbkyat5h"
      },
      "source": [
        "**In adition to all of the cool Markdown features above, surprisingly we can also code \\(Python) and view results in Jupyter Notebooks.**\n",
        "\n",
        "---\n",
        "\n",
        "Some very basic shortcuts to get you started:\n",
        "1. `Shift + Enter` to run the cell and move to the next one.\n",
        "2. `Ctrl + Enter` to run the cell and stay on the same cell.\n",
        "3. `Alt + Enter` to run the cell and insert a new cell below.\n",
        "4. `Esc` to enter command mode.\n",
        "5. `Enter` to enter edit mode.\n",
        "\n",
        "---\n",
        "\n",
        "**So lets begin with learning/brushing up your basic Python skills..**"
      ]
    },
    {
      "cell_type": "markdown",
      "metadata": {
        "id": "X4VJ4zp-at5h"
      },
      "source": [
        "### 3. Python Basics"
      ]
    },
    {
      "cell_type": "markdown",
      "metadata": {
        "id": "o0Inh3vVat5h"
      },
      "source": [
        "#### Commenting\n",
        "\n",
        "**Lets start with the most essential skill of commenting.**\n",
        "\n",
        "`Task` - Create single line comments and multi-line comments in the below code cell."
      ]
    },
    {
      "cell_type": "code",
      "execution_count": null,
      "metadata": {
        "id": "qAjohw7rat5j",
        "vscode": {
          "languageId": "plaintext"
        }
      },
      "outputs": [],
      "source": [
        "# single comment\n",
        "\"\"\"\n",
        " multiple\n",
        " line \n",
        " comment\n",
        "\"\"\""
      ]
    },
    {
      "cell_type": "markdown",
      "metadata": {
        "id": "QKBVCEchat5k"
      },
      "source": [
        "#### Statements & Syntax\n",
        "\n",
        "Python is an [imperative language](https://en.wikipedia.org/wiki/Imperative_programming) based on [statements](https://en.wikipedia.org/wiki/Statement_(computer_science)). That is, programs in Python consists of lines composed of statements. A statement can be:\n",
        "\n",
        "* a single expression\n",
        "* an assignment\n",
        "* a function call\n",
        "* a function definition\n",
        "* a statement; statement\n",
        "\n",
        "Basic Python Syntax:\n",
        "```python\n",
        "print(\"Hello World\")\n",
        "```\n",
        "where `print(\"Hello World\")` is a statement.\n",
        "\n",
        "----\n",
        "\n",
        "#### Python Indentation\n",
        "\n",
        "Indentation refers to the spaces at the beginning of a code line.\n",
        "\n",
        "Where in other programming languages the indentation in code is for readability only, the indentation in Python is very important. Python uses indentation to indicate a block of code.\n",
        "\n",
        "```python\n",
        "if 10 > 5:\n",
        "  print(\"Ten is greater than five!\")\n",
        "```\n",
        "\n",
        "Incorrect indentation will result in an `IndentationError`.\n",
        "```python\n",
        "if 10 > 5:\n",
        "print(\"Ten is greater than five!\")\n",
        "```\n",
        "will result in an `IndentationError`.\n",
        "\n",
        "`Task` - Correct the indentation in the below code cell to PEP8 standard of indentation. (More about PEP8 later)"
      ]
    },
    {
      "cell_type": "code",
      "execution_count": null,
      "metadata": {
        "id": "Bd4cSZmDat5m",
        "vscode": {
          "languageId": "plaintext"
        }
      },
      "outputs": [],
      "source": [
        "if 5 > 2:\n",
        " print(\"Five is greater than two!\")\n",
        "        print(\"Five is greater than two!\")"
      ]
    },
    {
      "cell_type": "markdown",
      "metadata": {
        "id": "wrOoeJQHat5o"
      },
      "source": [
        "#### Keywords, Datatypes & Variables\n",
        "\n",
        "**Keywords** are the reserved words in Python. We cannot use a keyword as a variable name, function name or any other identifier. They are used to define the syntax and structure of the Python language. In Python, keywords are case sensitive.\n",
        "\n",
        "All the keywords except `True`, `False` and `None` are in lowercase and they must be written as it is. You can find the list of all python keywords at [https://docs.python.org/3/reference/lexical_analysis.html#keywords](https://docs.python.org/3/reference/lexical_analysis.html#keywords)\n",
        "\n",
        "**Variables** are containers for storing data values. Unlike other programming languages, Python has no command for declaring a variable. A variable is created the moment you first assign a value to it.\n",
        "\n",
        "> Variable names can be a group of both letters and digits, but they have to begin with a letter or an underscore character. You cannot start a variable name with a digit. You cannot use special symbols like `!`, `@`, `#`, `$`, `%` etc. in a variable name. Variable names cannot be keywords. They cannot contain whitespaces. Variable names are case sensitive.\n",
        "\n",
        "```python\n",
        "x = 5\n",
        "y = \"Hello, World!\"\n",
        "```\n",
        "\n",
        "**Datatypes** are the classification or categorization of data items. It represents the kind of value that tells what operations can be performed on a particular data. Since everything is an object in Python programming, data types are actually classes and variables are instance (object) of these classes. (More about classes and objects later)\n",
        "\n",
        "Unline other programming languages, Python selects the datatype automatically based on the value assigned to the variable.\n",
        "\n",
        "```python\n",
        "x = 5\n",
        "print(x, \"is of type\", type(x))\n",
        "\n",
        "x = 2.0\n",
        "print(x, \"is of type\", type(x))\n",
        "\n",
        "x = 1+2j\n",
        "print(x, \"is complex number?\", isinstance(1+2j,complex))\n",
        "```\n",
        "\n",
        "`Task` - Create a variable `name` and assign it your name. Print the variable, its type and check if it is a string."
      ]
    },
    {
      "cell_type": "code",
      "execution_count": null,
      "metadata": {
        "id": "92WAI0ECat5o",
        "vscode": {
          "languageId": "plaintext"
        }
      },
      "outputs": [],
      "source": [
        "name = \"Prakhar Jain\""
      ]
    },
    {
      "cell_type": "markdown",
      "metadata": {
        "id": "DS_Gx7Kgat5p"
      },
      "source": [
        "`Task`\n",
        "\n",
        "**Do the following:**\n",
        "\n",
        "1. Initialise an integer, float, a boolen value and a string.\n",
        "2. Initialise another string (take input from user) and perform string concatenation with the first string.\n",
        "3. Placeholder for string manipulation. (Formatted String Literals)\n",
        "4. Printing the variables. Use the `end` and `sep` parameters of the `print()` function.\n",
        "5. Create a multiline string and print it."
      ]
    },
    {
      "cell_type": "code",
      "execution_count": null,
      "metadata": {
        "id": "gYJ3j--Uat5p",
        "vscode": {
          "languageId": "plaintext"
        }
      },
      "outputs": [],
      "source": [
        "#1.\n",
        "i = 1\n",
        "f = 1.0\n",
        "b = False\n",
        "s = \"pokemon\"\n",
        "#2.\n",
        "inputS = input()\n",
        "#3.\n",
        "formattedS = f\"{inputS} {s}\"\n",
        "#4.\n",
        "print(f\"{i} {f} {b} {s} {inputS} {formattedS}\", \"hello mister unown\", sep=\"-\",end = \"\\n\" )\n",
        "#5.\n",
        "multilineS = \"\"\"\n",
        "hello this is\n",
        "me\n",
        "who are ufo\n",
        "bye\n",
        "\"\"\"\n",
        "print(multilineS)"
      ]
    },
    {
      "cell_type": "markdown",
      "metadata": {
        "id": "F1Wn2tQYat5p"
      },
      "source": [
        "#### PEP8\n",
        "\n",
        "PEP stands for Python Enhancement Proposal. It is a set of rules that specify how to format Python code for maximum readability. PEP8 is the latest standard for formatting Python code. You can find the complete PEP8 style guide at [https://www.python.org/dev/peps/pep-0008/](https://www.python.org/dev/peps/pep-0008/)\n",
        "\n",
        "Some of the most important rules are:\n",
        "1. Use 4 spaces for indentation.\n",
        "2. Limit all lines to a maximum of 79 characters.\n",
        "3. Variables and functions should be in lowercase with underscores. (`snake_case`)\n",
        "4. Class names should be in PascalCase. (`PascalCase`)\n",
        "5. Use spaces around operators and after commas, but not directly inside bracketing constructs: `a = f(1, 2) + g(3, 4)`."
      ]
    },
    {
      "cell_type": "markdown",
      "metadata": {
        "id": "m9Bh-LBAat5q"
      },
      "source": [
        "#### Error Handling\n",
        "\n",
        "<b>How to Read Python Error Messages</b>\n",
        "\n",
        "<tt>TypeError: Can't convert 'int' object to str implicitly</tt>\n",
        "</p>\n",
        "\n",
        "<p>Above the error message is the \"traceback\" also called the \"call stack\". This is a representation of the sequence of procedure calls that lead to the error. If the procedure call originated from code from a file, the filename would be listed after the word \"File\" on each line. If the procedure call originated from a notebook cell, then the word \"ipython-input-#-HEX\".\n",
        "</p>\n",
        "\n",
        "**Try-Except Block** is used for exception handling in Python. It allows us to tell the program to try a block of code and if it doesn't work, what code to run instead of throwing an error.\n",
        "\n",
        "```python\n",
        "try:\n",
        "  print(x)\n",
        "except:\n",
        "  print(\"An exception occurred\")\n",
        "```\n",
        "\n",
        "`Task` - Write a program to take input from the user and print the square of the number. If the input is not a number, print an error message. Use `finally` to print a message at the end of the program. (Use `try-except`)"
      ]
    },
    {
      "cell_type": "code",
      "execution_count": null,
      "metadata": {
        "id": "VmhHXorpat5q",
        "vscode": {
          "languageId": "plaintext"
        }
      },
      "outputs": [],
      "source": [
        "try:\n",
        "\n",
        "    user_input = input(\"Enter a number: \")\n",
        "\n",
        "    number = float(user_input)\n",
        "\n",
        "    square = number ** 2\n",
        "\n",
        "    print(f\"The square of {number} is: {square}\")\n",
        "\n",
        "except ValueError:\n",
        "    print(\"Error:number not found.\")\n",
        "\n",
        "finally:\n",
        "    print(\"Program execution complete.\")\n"
      ]
    },
    {
      "cell_type": "markdown",
      "metadata": {
        "id": "6IGQE-dIat5q"
      },
      "source": [
        "#### Lists\n",
        "\n",
        "`Task` -> Play with `lists`:\n",
        "1. Initialise a list with 5 elements.\n",
        "2. Add elements to a list (try using various methods).\n",
        "3. Add a list to another list.\n",
        "4. Access an element of the list.\n",
        "5. Perform few range tricks (using slices) - print alternate elements, get list in reverse order, print elements from index 2 to 4, print last 3 elements, etc.\n",
        "6. Delete an element from the list."
      ]
    },
    {
      "cell_type": "code",
      "execution_count": null,
      "metadata": {
        "id": "Wfy8u4XIat5q",
        "vscode": {
          "languageId": "plaintext"
        }
      },
      "outputs": [],
      "source": [
        "l = [1,2,3,4,5]\n",
        "l2 = [6,7,8,9,0]\n",
        "print(\"List:\", l)\n",
        "l = l + l2\n",
        "print(\"Modified List:\", l)\n",
        "l.append(10)\n",
        "print(\"Modified List:\", l)\n",
        "l.insert(1,11)\n",
        "print(\"Modified List:\", l)\n",
        "l.extend([12,13])\n",
        "print(\"Modified List:\", l)\n",
        "l += [14] * 14\n",
        "\n",
        "print(\"Modified List:\", l)\n",
        "\n",
        "print(\"Alternate elements:\", l[::2])\n",
        "\n",
        "print(\"Reverse order:\", l[::-1])\n",
        "\n",
        "print(\"Elements from index 2 to 4:\", l[2:5])\n",
        "\n",
        "print(\"Last 3 elements:\", l[-3:])\n",
        "\n",
        "l.remove(1)\n",
        "\n",
        "print(\"Modified List:\", l)\n"
      ]
    },
    {
      "cell_type": "markdown",
      "metadata": {
        "id": "v4A6EKHEat5q"
      },
      "source": [
        "#### Tuples\n",
        "\n",
        "`Task` -> Play with `Tuples`: \\\n",
        "Note that Tuples are immutable i.e once initialised it can be reassigned but not changed.\n",
        "1. Initialise a tuple\n",
        "2. Access an element of the tuple\n",
        "3. Length of Tuple (Same for length of List)\n",
        "4. Try to change an element of the tuple (Use appropriate error handling, as needed)\n",
        "5. Get the length of the tuple.\n",
        "\n",
        "Iteration tricks are the same as seen in lists. (Try them out)"
      ]
    },
    {
      "cell_type": "code",
      "execution_count": null,
      "metadata": {
        "id": "5g3xXDWoat5r",
        "vscode": {
          "languageId": "plaintext"
        }
      },
      "outputs": [],
      "source": [
        "t = (1,2,3,4,5,6)\n",
        "print(\"second element of tuple\",t[2])\n",
        "print(\"length of tuple\",len(t))\n",
        "\n",
        "try:\n",
        "    t[1] = 0\n",
        "except TypeError as e:\n",
        "    print(f\"Error: {e}\")\n",
        "print(\"length of tuple\",len(t))\n"
      ]
    },
    {
      "cell_type": "markdown",
      "metadata": {
        "id": "hsZvhAynat5r"
      },
      "source": [
        "#### Dictionary\n",
        "\n",
        "`Task` -> Play with `Dicts`: \\\n",
        "(Dictionaries are maps that have immutable type variables as keys)\n",
        "\n",
        "1. Initialise a dictionary\n",
        "2. Look up the value for a key\n",
        "3. Check if key is in dictionary\n",
        "4. List all keys of a dictionary\n",
        "5. List all values of a dictionary\n",
        "6. Try assigning a list as a key. Try the same with a tuple. (Use appropriate error handling, as needed)\n",
        "7. Try assigning a list as a value. Try the same with a tuple. (Use appropriate error handling, as needed)\n",
        "8. Remove an st from dictionary"
      ]
    },
    {
      "cell_type": "code",
      "execution_count": null,
      "metadata": {
        "id": "EnpXpkNXat5r",
        "vscode": {
          "languageId": "plaintext"
        }
      },
      "outputs": [],
      "source": [
        "d = {\"pikachu\": \"electric\",\"charmander\":\"fire\"}\n",
        "print(d[\"pikachu\"])\n",
        "print(\"squirtle\" in d)\n",
        "print(\"pikachu\" in d)\n",
        "for key in d:\n",
        "    print(key)\n",
        "# print(\"\\n\\n\\n\\n\\n\\n\\n\\n\\n #all keys\")\n",
        "for key in d:\n",
        "    print(d[key])\n",
        "# print(\"\\n\\n\\n\\n\\n\\n\\n\\n\\n #all values\")\n",
        "try:\n",
        "    d[[3,4,3,23,5]] = \"haram\"\n",
        "except TypeError as e:\n",
        "    print(e)\n",
        "try:\n",
        "    d[(3,4,3,23,5)] = \"haram\"\n",
        "    print(\"tuple as key\")\n",
        "except TypeError as e:\n",
        "    print(e)\n",
        "\n",
        "try:\n",
        "    d[\"bulbasaur\"] = (\"grass\",\"poison\")\n",
        "except TypeError as e:\n",
        "    print(e)\n",
        "    \n",
        "try:\n",
        "    d[\"bulbasaur\"] = [\"grass\",\"poison\"]\n",
        "    print(\"tuple as value\")\n",
        "\n",
        "except TypeError as  e:\n",
        "    print(e)\n",
        "\n",
        "d.pop(\"charmander\")"
      ]
    },
    {
      "cell_type": "markdown",
      "metadata": {
        "id": "O43dMgqkat5r"
      },
      "source": [
        "#### Control Flows and Iterables\n",
        "\n",
        "`Task` -> Play with `Control Flows` and `Iterables`:\n",
        "1. Create an if statement\n",
        "2. Print numbers from 3 to 10 without an explicit for in steps of 2, using\n",
        "    1. for loop\n",
        "    1. while loop\n",
        "    1. do-while loop\n",
        "3. Create a for loop with an else block\n",
        "4. Demonstrate the use of `break` and `continue` in a loop\n",
        "5. Use `enumerate` to print the index and value of each element of a list\n",
        "6. Use `zip` to iterate over two lists at the same time"
      ]
    },
    {
      "cell_type": "code",
      "execution_count": null,
      "metadata": {
        "id": "W20TCSNrat5s",
        "vscode": {
          "languageId": "plaintext"
        }
      },
      "outputs": [],
      "source": [
        "if True == True:\n",
        "    print(\"True\")\n",
        "\n",
        "for i in range(3,11,2):\n",
        "    print(i)\n",
        "\n",
        "i = 3\n",
        "while(i < 11):\n",
        "    print(i)\n",
        "    i+=2\n",
        "\n",
        "for i in range(5):\n",
        "    print(i)\n",
        "else:\n",
        "    print(\"Loop completed without break.\")\n",
        "\n",
        "for i in range(10):\n",
        "    if i == 3:\n",
        "        print(\"Breaking at 3.\")\n",
        "        break\n",
        "    elif i == 7:\n",
        "        print(\"Skipping 7.\")\n",
        "        continue\n",
        "    print(i)\n",
        "\n",
        "l = [1, 2, 1]\n",
        "for index, value in enumerate(l):\n",
        "    print(f\"Index: {index}, Value: {value}\")\n",
        "\n",
        "l2 = ['a', 'b', 'c']\n",
        "for item1, item2 in zip(1, l2):\n",
        "    print(f\"{item1} {item2}\")"
      ]
    },
    {
      "cell_type": "markdown",
      "metadata": {
        "id": "112NsUyvat5w"
      },
      "source": [
        "`Task` - Make a list of squares of numbers from 2 to 10 using list comprehension."
      ]
    },
    {
      "cell_type": "code",
      "execution_count": null,
      "metadata": {
        "id": "N_7nqKYWat5w",
        "vscode": {
          "languageId": "plaintext"
        }
      },
      "outputs": [],
      "source": [
        "l = [i**2 for x in range(2,11)]"
      ]
    },
    {
      "cell_type": "markdown",
      "metadata": {
        "id": "H3tUPmIQat5x"
      },
      "source": [
        "#### Functions\n",
        "\n",
        "`Task` -> Play with `Functions`:\n",
        "1. Define a function that takes two arguments and returns their sum. (Use appropriate error handling, as needed)\n",
        "2. Define a function that takes a variable number of arguments and returns their sum. (Use appropriate error handling, as needed)\n",
        "3. Write a `lambda function` that takes two arguments and returns their sum.\n",
        "\n",
        "Call the functions with appropriate arguments, to test them. (Follow PEP8 guidelines for naming functions)"
      ]
    },
    {
      "cell_type": "code",
      "execution_count": null,
      "metadata": {
        "id": "RpcpCNQGat5x",
        "vscode": {
          "languageId": "plaintext"
        }
      },
      "outputs": [],
      "source": [
        "def add_two_numbers(num1, num2):\n",
        "    try:\n",
        "        result = float(num1) + float(num2)\n",
        "        return result\n",
        "    except ValueError as e:\n",
        "        return f\"Error: {e}\"\n",
        "\n",
        "def add_multiple_numbers(*args):\n",
        "    try:\n",
        "        result = sum(float(arg) for arg in args)\n",
        "        return result\n",
        "    except ValueError as e:\n",
        "        return f\"Error: {e}\"\n",
        "\n",
        "sum_lambda = lambda x, y: float(x) + float(y)\n",
        "\n",
        "result1 = add_two_numbers(5, 3)\n",
        "print(f\"Task 1 Result: {result1}\")\n",
        "\n",
        "result2 = add_multiple_numbers(1, 2, 3, 4, 5)\n",
        "print(f\"Task 2 Result: {result2}\")\n",
        "\n",
        "result3 = sum_lambda(10, 15)\n",
        "print(f\"Task 3 Result: {result3}\")\n"
      ]
    },
    {
      "cell_type": "markdown",
      "metadata": {
        "id": "mxf-YKDMat5x"
      },
      "source": [
        "#### Scope\n",
        "\n",
        "Python follows the `LEGB Rule` (More [here](https://realpython.com/python-scope-legb-rule/)):\n",
        "\n",
        "* L, Local: Names assigned in any way within a function (def or lambda)), and not declared global in that function.\n",
        "* E, Enclosing function locals: Name in the local scope of any and all enclosing functions (def or lambda), from inner to outer.\n",
        "* G, Global (module): Names assigned at the top-level of a module file, or declared global in a def within the file.\n",
        "* B, Built-in (Python): Names preassigned in the built-in names module : open, range, SyntaxError,..."
      ]
    },
    {
      "cell_type": "markdown",
      "metadata": {
        "id": "ZMSoGNS4at5x"
      },
      "source": [
        "`Task` - Create a variable `x` in the global scope and print it. Create a function that creates a variable `x` in the local scope and print it. Print `x` again in the global scope. (Use appropriate error handling, as needed)"
      ]
    },
    {
      "cell_type": "code",
      "execution_count": null,
      "metadata": {
        "id": "yRnELJVXat5x",
        "vscode": {
          "languageId": "plaintext"
        }
      },
      "outputs": [],
      "source": [
        "x = 10\n",
        "print(\"Global x:\", x)\n",
        "\n",
        "def local_scope_function():\n",
        "    try:\n",
        "        # Creating a local variable x\n",
        "        x = 5\n",
        "        print(\"Local x:\", x)\n",
        "    except Exception as e:\n",
        "        print(f\"Error: {e}\")\n",
        "\n",
        "local_scope_function()\n",
        "\n",
        "print(\"Global x after local scope function:\", x)"
      ]
    },
    {
      "cell_type": "markdown",
      "metadata": {
        "id": "uf9qSs6oat5y"
      },
      "source": [
        "Predict the output of the following code cell (Without running it):\n",
        "\n",
        "```python\n",
        "x = 3\n",
        "def foo():\n",
        "    x=4\n",
        "    def bar():\n",
        "        print(x)\n",
        "    bar()\n",
        "    x=5\n",
        "    bar()\n",
        "foo()\n",
        "```\n",
        "\n",
        "Answer - 4\n",
        "\n",
        "        \n",
        "            5"
      ]
    },
    {
      "cell_type": "markdown",
      "metadata": {
        "id": "25ALei1ab-KZ"
      },
      "source": [
        "#### Regex\n",
        "\n",
        "`Task` -> Play with `Regex`:\n",
        "1. Import the `re` module.\n",
        "2. Create a regex to search a string to see if it starts with \"The\" and ends with \"DASS\".\n",
        "3. Create a regex to search a string to see if it contains only lower case letters.\n",
        "4. Replace every white-space character with the number 9\n",
        "5. Split a string at every white-space character"
      ]
    },
    {
      "cell_type": "code",
      "execution_count": null,
      "metadata": {
        "id": "i8ns4E5Wce7k"
      },
      "outputs": [],
      "source": [
        "import re\n",
        "def TheDassCheck(txt):\n",
        "    a1 = re.search(\"^The.*DASS$\", txt)\n",
        "    if a1:\n",
        "        print(\"Yes, we have a match!\")\n",
        "    else:\n",
        "        print(\"NO Match!!\")\n",
        "\n",
        "def lowerCase(txt):\n",
        "    x = re.findall(\"^[a-z]+$\",txt)\n",
        "    # print(x)\n",
        "    return len(x) != 0\n",
        "def ReplaceWith9(txt):\n",
        "    x = re.sub(\"\\s\",\"9\",txt)\n",
        "    return x\n",
        "\n",
        "def SplitSpace(txt):\n",
        "    x = re.split(\"\\s\", txt)\n",
        "    return x\n",
        "\n",
        "txt = \"The DASS Class Is DASS\"\n",
        "TheDassCheck(txt)\n",
        "print(lowerCase(txt))\n",
        "print(ReplaceWith9(txt))\n",
        "print(SplitSpace(txt))"
      ]
    },
    {
      "cell_type": "markdown",
      "metadata": {
        "id": "vxQ3RNxtUvsO"
      },
      "source": [
        "#### Some exercise 🏋️‍♂️"
      ]
    },
    {
      "cell_type": "markdown",
      "metadata": {
        "id": "fY8ECJSlat5y"
      },
      "source": [
        "`Task` - Implement `Stack`, `Queue` and `Deque` using lists. (Use appropriate error handling, as needed)"
      ]
    },
    {
      "cell_type": "code",
      "execution_count": null,
      "metadata": {
        "id": "V9zhb8eSat5y",
        "vscode": {
          "languageId": "plaintext"
        }
      },
      "outputs": [],
      "source": [
        "class Stack:\n",
        "    def __init__(self):\n",
        "        self.st = []\n",
        "\n",
        "    def is_empty(self):\n",
        "        return not bool(self.st)\n",
        "\n",
        "    def push(self, st):\n",
        "        self.st.append(st)\n",
        "\n",
        "    def pop(self):\n",
        "        try:\n",
        "            return self.st.pop()\n",
        "        except IndexError:\n",
        "            raise IndexError(\"pop from an empty stack\")\n",
        "\n",
        "    def peek(self):\n",
        "        try:\n",
        "            return self.st[-1]\n",
        "        except IndexError:\n",
        "            raise IndexError(\"peek from an empty stack\")\n",
        "\n",
        "    def size(self):\n",
        "        return len(self.st)\n",
        "\n",
        "\n",
        "class Queue:\n",
        "    def __init__(self):\n",
        "        self.qu = []\n",
        "\n",
        "    def is_empty(self):\n",
        "        return not bool(self.st)\n",
        "\n",
        "    def enqueue(self, qu):\n",
        "        self.qu.insert(0, qu)\n",
        "\n",
        "    def dequeue(self):\n",
        "        try:\n",
        "            return self.qu.pop()\n",
        "        except IndexError:\n",
        "            raise IndexError(\"queue from an empty queue\")\n",
        "\n",
        "    def size(self):\n",
        "        return len(self.qu)\n",
        "\n",
        "\n",
        "class Deque:\n",
        "    def __init__(self):\n",
        "        self.dq = []\n",
        "\n",
        "    def is_empty(self):\n",
        "        return not bool(self.dq)\n",
        "\n",
        "    def add_front(self, dq):\n",
        "        self.dq.insert(0, dq)\n",
        "\n",
        "    def add_rear(self, dq):\n",
        "        self.dq.append(dq)\n",
        "\n",
        "    def remove_front(self):\n",
        "        try:\n",
        "            return self.dq.pop(0)\n",
        "        except IndexError:\n",
        "            raise IndexError(\"remove front from an empty deque\")\n",
        "\n",
        "    def remove_rear(self):\n",
        "        try:\n",
        "            return self.dq.pop()\n",
        "        except IndexError:\n",
        "            raise IndexError(\"remove rear from an empty deque\")\n",
        "\n",
        "    def size(self):\n",
        "        return len(self.dq)\n",
        "\n",
        "\n",
        "# Example usage:\n",
        "\n",
        "# Stack\n",
        "stack = Stack()\n",
        "stack.push(1)\n",
        "stack.push(2)\n",
        "stack.push(3)\n",
        "print(\"Stack:\", stack.st)\n",
        "print(\"Pop:\", stack.pop())\n",
        "print(\"Peek:\", stack.peek())\n",
        "print(\"Size:\", stack.size())\n",
        "\n",
        "queue = Queue()\n",
        "queue.enqueue(1)\n",
        "queue.enqueue(2)\n",
        "queue.enqueue(3)\n",
        "print(\"\\nQueue:\", queue.qu)\n",
        "print(\"Dequeue:\", queue.dequeue())\n",
        "print(\"Size:\", queue.size())\n",
        "\n",
        "deque = Deque()\n",
        "deque.add_front(1)\n",
        "deque.add_rear(2)\n",
        "deque.add_rear(3)\n",
        "print(\"\\nDeque:\", deque.dq)\n",
        "print(\"Remove Front:\", deque.remove_front())\n",
        "print(\"Remove Rear:\", deque.remove_rear())\n",
        "print(\"Size:\", deque.size())\n"
      ]
    },
    {
      "cell_type": "markdown",
      "metadata": {
        "id": "NiC4iUIUat5y"
      },
      "source": [
        "`Task` \\\n",
        "You are tasked with creating a program that analyzes student scores. Each student is represented as a dictionary with the following key - 'name' and value - 'scores'. The 'scores' is a list of integers representing the student's scores in different subjects.\n",
        "\n",
        "Write a Python program that does the following:\n",
        "\n",
        "- Define a function called calculate_average that takes a list of student dictionaries as input and returns a new dictionary where the keys are the student names, and the values are the average scores of each student.\n",
        "\n",
        "- Implement a function called find_highest_scorer that returns two things and takes the list of student dictionaries. It returns the name of the student with the highest average score. It should also return an ordered list of student names, who scored the highest in each corresponding subject (like first name corresponds to the student scoring the highest in the first subject)\n",
        "\n",
        "- In the main part of the program, take user input to enter information for several students. Use the functions defined above to calculate and display the average scores for each student and identify the student with the highest average score & highest score in individual subjects.\n",
        "\n",
        "- Do appropriate error handling"
      ]
    },
    {
      "cell_type": "code",
      "execution_count": null,
      "metadata": {
        "id": "0cL_RPZxat5y",
        "vscode": {
          "languageId": "plaintext"
        }
      },
      "outputs": [],
      "source": [
        "def calculate_average(students):\n",
        "    averages = {}\n",
        "    for student in students:\n",
        "        averages[student['name']] = sum(student['scores']) / len(scores)\n",
        "    return averages\n",
        "\n",
        "def find_highest_scorer(students):\n",
        "    if not students:\n",
        "        return None, None\n",
        "\n",
        "    subjects_count = len(students[0]['scores'])\n",
        "    highest_avg_score = 0\n",
        "    highest_avg_student = ''\n",
        "    highest_scorers = [None] * subjects_count\n",
        "\n",
        "    for student in students:\n",
        "        name = student['name']\n",
        "        scores = student['scores']\n",
        "        avg_score = sum(scores) / len(scores)\n",
        "\n",
        "        if avg_score > highest_avg_score:\n",
        "            highest_avg_score = avg_score\n",
        "            highest_avg_student = name\n",
        "\n",
        "        for i in range(subjects_count):\n",
        "            if highest_scorers[i] is None or scores[i] > students[highest_scorers[i]]['scores'][i]:\n",
        "                highest_scorers[i] = students.index(student)\n",
        "\n",
        "    return highest_avg_student, [students[i]['name'] for i in highest_scorers]\n",
        "\n",
        "def input_student_data():\n",
        "    students = []\n",
        "    while True:\n",
        "        name = input(\"Enter student name (or 'exit' to finish): \").strip()\n",
        "        if name.lower() == 'exit':\n",
        "            break\n",
        "\n",
        "        try:\n",
        "            scores = [int(x) for x in input(\"Enter comma-separated scores for {} (e.g., 90,85,78): \".format(name)).split(',')]\n",
        "        except ValueError:\n",
        "            print(\"Invalid input. Scores must be integers.\")\n",
        "            continue\n",
        "\n",
        "        students.append({'name': name, 'scores': scores})\n",
        "\n",
        "    return students\n",
        "\n",
        "\n",
        "\n"
      ]
    },
    {
      "cell_type": "markdown",
      "metadata": {
        "id": "i-XFrqWKat5y"
      },
      "source": [
        "### 4. Classes, Objects & OOPs\n",
        "\n",
        "(If you don't know about these concepts, don't worry - This will be covered in the tutorial)"
      ]
    },
    {
      "cell_type": "markdown",
      "metadata": {
        "id": "qHf3gsOPat5z"
      },
      "source": [
        "**Classes** provide a means of bundling data and functionality together. Creating a new class creates a new type of object, allowing new instances of that type to be made. Each class instance can have attributes attached to it for maintaining its state. Class instances can also have methods (defined by its class) for modifying its state.\n",
        "\n",
        "**Objects** are an encapsulation of variables and functions into a single entity. Objects get their variables and functions from classes. Classes are essentially a template to create your objects.\n",
        "\n",
        "#### Class Definition Syntax\n",
        "\n",
        "The simplest form of class definition looks like this:\n",
        "\n",
        "```python\n",
        "class ClassName:\n",
        "    <statement-1>\n",
        "    .\n",
        "    .\n",
        "    .\n",
        "    <statement-N>\n",
        "```\n",
        "\n",
        "#### Class Objects\n",
        "\n",
        "Syntax to create an object of the above class:\n",
        "\n",
        "```python\n",
        "instance = ClassName()\n",
        "```\n",
        "Example:\n",
        "```python\n",
        "class Person:\n",
        "    def __init__(self, name, age):\n",
        "        self.name = name\n",
        "        self.age = age\n",
        "\n",
        "    def greet(self):\n",
        "        print(f\"Hello, my name is {self.name} and I am {self.age} years old.\")\n",
        "\n",
        "# Usage example\n",
        "person = Person(\"John\", 25)\n",
        "person.greet()\n",
        "```"
      ]
    },
    {
      "cell_type": "markdown",
      "metadata": {
        "id": "Uk0REIvzv-zO"
      },
      "source": [
        "`Task`: Figure out where are all the following concepts used in the given code below:\\\n",
        "(Try to cover all of the occurences)\n",
        "1. Abstraction\n",
        "2. Encapsulation\n",
        "3. Inheritance\n",
        "4. Polymorphism\n",
        "5. Method Overriding"
      ]
    },
    {
      "cell_type": "code",
      "execution_count": null,
      "metadata": {
        "id": "INxwVaygbPNa"
      },
      "outputs": [],
      "source": [
        "from abc import ABC, abstractmethod\n",
        "\n",
        "class Shape(ABC):\n",
        "    @abstractmethod\n",
        "    def area(self):\n",
        "        pass\n",
        "\n",
        "class Employee:\n",
        "    def __init__(self, name, salary):\n",
        "        self._name = name\n",
        "        self.__salary = salary\n",
        "\n",
        "    def get_name(self):\n",
        "        return self._name\n",
        "\n",
        "    def set_salary(self, new_salary):\n",
        "        if new_salary > 0:\n",
        "            self.__salary = new_salary\n",
        "\n",
        "    def get_salary(self):\n",
        "        return self.__salary\n",
        "\n",
        "class Manager(Employee):\n",
        "    def __init__(self, name, salary, bonus):\n",
        "        super().__init__(name, salary)\n",
        "        self.__bonus = bonus\n",
        "\n",
        "    def set_bonus(self, new_bonus):\n",
        "        if new_bonus > 0:\n",
        "            self.__bonus = new_bonus\n",
        "\n",
        "    def get_bonus(self):\n",
        "        return self.__bonus\n",
        "\n",
        "class Circle(Shape):\n",
        "    def __init__(self, radius):\n",
        "        self.radius = radius\n",
        "\n",
        "    def area(self):\n",
        "        return 3.14 * self.radius * self.radius\n",
        "\n",
        "class Rectangle(Shape):\n",
        "    def __init__(self, length, width):\n",
        "        self.length = length\n",
        "        self.width = width\n",
        "\n",
        "    def area(self):\n",
        "        return self.length * self.width\n",
        "\n",
        "def print_area(shape):\n",
        "    print(f\"Area: {shape.area()}\")\n",
        "\n",
        "# shape = Shape()\n",
        "\n",
        "employee = Employee(\"John\", 50000)\n",
        "manager = Manager(\"Alice\", 80000, 10000)\n",
        "\n",
        "print(f\"{employee.get_name()}'s salary: {employee.get_salary()}\")\n",
        "employee.set_salary(60000)\n",
        "print(f\"Updated salary: {employee.get_salary()}\")\n",
        "\n",
        "print(f\"{manager.get_name()}'s salary: {manager.get_salary()}, bonus: {manager.get_bonus()}\")\n",
        "manager.set_bonus(12000)\n",
        "print(f\"Updated bonus: {manager.get_bonus()}\")\n",
        "\n",
        "circle = Circle(5)\n",
        "rectangle = Rectangle(4, 6)\n",
        "\n",
        "print_area(circle)\n",
        "print_area(rectangle)\n",
        "\n",
        "shapes = [Circle(3), Rectangle(4, 5), Circle(2.5), Rectangle(3, 7)]\n",
        "\n",
        "for shape in shapes:\n",
        "    print_area(shape)"
      ]
    },
    {
      "cell_type": "markdown",
      "metadata": {
        "id": "cM8BsUday6n2"
      },
      "source": [
        "Your answer goes here:"
      ]
    },
    {
      "cell_type": "markdown",
      "metadata": {},
      "source": [
        "- Abstraction is in shape\n",
        "- Inheritance is in the Employee and Manager classes.\n",
        "- Polymorphism is shown by rectangle, circle and shape\n",
        "- Method Overriding is shown by rectangle, circle and shape\n",
        "- Encapsulation is shown by Manger, Employee, and shape, rectangle, circle.\n",
        "\n",
        "\n"
      ]
    }
  ],
  "metadata": {
    "colab": {
      "provenance": []
    },
    "kernelspec": {
      "display_name": "Python 3",
      "name": "python3"
    },
    "language_info": {
      "name": "python"
    }
  },
  "nbformat": 4,
  "nbformat_minor": 0
}
