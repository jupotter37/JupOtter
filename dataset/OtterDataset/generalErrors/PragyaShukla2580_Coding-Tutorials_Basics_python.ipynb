{
  "nbformat": 4,
  "nbformat_minor": 0,
  "metadata": {
    "colab": {
      "provenance": []
    },
    "kernelspec": {
      "name": "python3",
      "display_name": "Python 3"
    },
    "language_info": {
      "name": "python"
    }
  },
  "cells": [
    {
      "cell_type": "markdown",
      "source": [
        "# Basics of Python (All you need to know)"
      ],
      "metadata": {
        "id": "CijGCdyGH-mO"
      }
    },
    {
      "cell_type": "markdown",
      "source": [
        "Link to Colab: https://colab.research.google.com/"
      ],
      "metadata": {
        "id": "IK1BlLyO3mJl"
      }
    },
    {
      "cell_type": "markdown",
      "source": [
        "## 1. Syntax"
      ],
      "metadata": {
        "id": "6OEEbfQWEvoI"
      }
    },
    {
      "cell_type": "markdown",
      "source": [
        "Python is easy to learn because it focuses on readability. Unlike many programming languages, Python uses indentation instead of braces to define blocks of code."
      ],
      "metadata": {
        "id": "uarRnzYVTUCC"
      }
    },
    {
      "cell_type": "markdown",
      "source": [
        "**1. How to run Python code:**"
      ],
      "metadata": {
        "id": "-FEv7YUhEjy3"
      }
    },
    {
      "cell_type": "code",
      "source": [
        "print(\"This is my first code\")"
      ],
      "metadata": {
        "colab": {
          "base_uri": "https://localhost:8080/"
        },
        "id": "cPwWMwp9ITrP",
        "outputId": "1a74fcb8-cccd-46a1-f516-18f9ced1c6d4"
      },
      "execution_count": 45,
      "outputs": [
        {
          "output_type": "stream",
          "name": "stdout",
          "text": [
            "This is my first code\n"
          ]
        }
      ]
    },
    {
      "cell_type": "markdown",
      "source": [
        "**2. Indentation rules:**"
      ],
      "metadata": {
        "id": "6NhSVB28E0D3"
      }
    },
    {
      "cell_type": "code",
      "source": [
        "# Correct indentation\n",
        "if True:\n",
        "  print(\"Correct indentation\")\n",
        "\n",
        "# Incorrect indentation\n",
        "# if True:\n",
        "# print(\"Incorrect indentation\")"
      ],
      "metadata": {
        "id": "LOuv1Ug2EgOB",
        "colab": {
          "base_uri": "https://localhost:8080/"
        },
        "outputId": "75e5d9b9-aa38-429a-b2b1-030c2d8ae451"
      },
      "execution_count": 48,
      "outputs": [
        {
          "output_type": "stream",
          "name": "stdout",
          "text": [
            "Correct indentation\n"
          ]
        }
      ]
    },
    {
      "cell_type": "markdown",
      "source": [
        "**3. Comments:**"
      ],
      "metadata": {
        "id": "UB79scZME0pr"
      }
    },
    {
      "cell_type": "code",
      "source": [
        "# This is a single line comment\n",
        "\"\"\"This is a\n",
        "multi-line comment\"\"\""
      ],
      "metadata": {
        "id": "7LKsGQikEgLO"
      },
      "execution_count": null,
      "outputs": []
    },
    {
      "cell_type": "markdown",
      "source": [
        "**Exercise**\n",
        "\n",
        "Try to print 'Hello World!'"
      ],
      "metadata": {
        "id": "aaIQl7pIIlK3"
      }
    },
    {
      "cell_type": "code",
      "source": [],
      "metadata": {
        "id": "Bs6LdWBG8GXr"
      },
      "execution_count": null,
      "outputs": []
    },
    {
      "cell_type": "markdown",
      "source": [
        "## 2. Variables and Data Types"
      ],
      "metadata": {
        "id": "pOdhShamFIdp"
      }
    },
    {
      "cell_type": "markdown",
      "source": [
        "In Python, we don’t need to declare variable types explicitly. The type is inferred from the value we assign."
      ],
      "metadata": {
        "id": "dJfXpMFVTZEN"
      }
    },
    {
      "cell_type": "markdown",
      "source": [
        "**1. Variable declaration:**"
      ],
      "metadata": {
        "id": "5JtTSG85FLoO"
      }
    },
    {
      "cell_type": "code",
      "source": [
        "age = \"25\""
      ],
      "metadata": {
        "id": "1yoQZRk9I5Dh"
      },
      "execution_count": 51,
      "outputs": []
    },
    {
      "cell_type": "code",
      "source": [
        "print(type(age))"
      ],
      "metadata": {
        "colab": {
          "base_uri": "https://localhost:8080/"
        },
        "id": "jBiVSWV4I7FS",
        "outputId": "b4ad6009-32cc-4332-90a3-910fcd5b35e4"
      },
      "execution_count": 52,
      "outputs": [
        {
          "output_type": "stream",
          "name": "stdout",
          "text": [
            "<class 'str'>\n"
          ]
        }
      ]
    },
    {
      "cell_type": "markdown",
      "source": [
        "**2. Data types:**"
      ],
      "metadata": {
        "id": "OWix-ZvxFHcz"
      }
    },
    {
      "cell_type": "code",
      "source": [
        "# Integers:  int\n",
        "# Floats  :  float\n",
        "# Strings :  str\n",
        "# Booleans:  bool"
      ],
      "metadata": {
        "id": "SHaQKI6dEgGT"
      },
      "execution_count": null,
      "outputs": []
    },
    {
      "cell_type": "code",
      "source": [
        "age = 25\n",
        "name = \"Alice\"\n",
        "height = 5.9\n",
        "is_active = True"
      ],
      "metadata": {
        "id": "wDWeWNptJDYr"
      },
      "execution_count": null,
      "outputs": []
    },
    {
      "cell_type": "markdown",
      "source": [
        "**3. Type conversion:**"
      ],
      "metadata": {
        "id": "_ZsemxVEFTZR"
      }
    },
    {
      "cell_type": "code",
      "source": [
        "type(float(\"3.14\"))"
      ],
      "metadata": {
        "colab": {
          "base_uri": "https://localhost:8080/"
        },
        "id": "-hds339IJLWr",
        "outputId": "09e923f5-d93c-40b6-a6f3-b15f1abce338"
      },
      "execution_count": 55,
      "outputs": [
        {
          "output_type": "execute_result",
          "data": {
            "text/plain": [
              "float"
            ]
          },
          "metadata": {},
          "execution_count": 55
        }
      ]
    },
    {
      "cell_type": "markdown",
      "source": [
        "**4. Best Practices:**"
      ],
      "metadata": {
        "id": "kr2PSckqFZKF"
      }
    },
    {
      "cell_type": "code",
      "source": [
        "# snake_case : Snake case is a naming convention that uses underscores to replace spaces between words, and writes all words in lowercase.\n",
        "# Example:\n",
        "\"hello_world\""
      ],
      "metadata": {
        "id": "JFacta6kEgBc"
      },
      "execution_count": 6,
      "outputs": []
    },
    {
      "cell_type": "markdown",
      "source": [
        "**Exercise**\n",
        "\n",
        "1. What is the output of type(3.14)?\n",
        "2. How do you convert a string \"25\" into an integer?"
      ],
      "metadata": {
        "id": "fD20L29VI8IM"
      }
    },
    {
      "cell_type": "code",
      "source": [],
      "metadata": {
        "id": "LUfyC8ot8IkR"
      },
      "execution_count": null,
      "outputs": []
    },
    {
      "cell_type": "markdown",
      "source": [
        "## 3. Basic Operators"
      ],
      "metadata": {
        "id": "dfmpVl2hFejH"
      }
    },
    {
      "cell_type": "markdown",
      "source": [
        "Operators are symbols used for computations. Python supports arithmetic, comparison, and logical operators."
      ],
      "metadata": {
        "id": "R7LmLBR4Tek7"
      }
    },
    {
      "cell_type": "markdown",
      "source": [
        "**1. Arithmetic operators:**"
      ],
      "metadata": {
        "id": "p_E55RwsFiZn"
      }
    },
    {
      "cell_type": "code",
      "source": [
        "# + , - , * , / , % , // , **"
      ],
      "metadata": {
        "id": "gS26a1SBEf-o"
      },
      "execution_count": 8,
      "outputs": []
    },
    {
      "cell_type": "code",
      "source": [
        "a = 10\n",
        "b = 3\n",
        "a**b"
      ],
      "metadata": {
        "colab": {
          "base_uri": "https://localhost:8080/"
        },
        "id": "DGKj7o4CJoDn",
        "outputId": "7f156d2c-a4f6-4eab-a551-cbabe19f3eba"
      },
      "execution_count": 61,
      "outputs": [
        {
          "output_type": "execute_result",
          "data": {
            "text/plain": [
              "1000"
            ]
          },
          "metadata": {},
          "execution_count": 61
        }
      ]
    },
    {
      "cell_type": "markdown",
      "source": [
        "**2. Comparison operators:**"
      ],
      "metadata": {
        "id": "FZOHpOlJFlRc"
      }
    },
    {
      "cell_type": "code",
      "source": [
        "# == , != , < , > , <= , >="
      ],
      "metadata": {
        "id": "D9b43CiWEf8G"
      },
      "execution_count": null,
      "outputs": []
    },
    {
      "cell_type": "code",
      "source": [
        "a > b"
      ],
      "metadata": {
        "colab": {
          "base_uri": "https://localhost:8080/"
        },
        "id": "5l9Rl4csJ0HG",
        "outputId": "fd7f97ad-5e88-414e-f2c2-766c04e6e9f3"
      },
      "execution_count": 65,
      "outputs": [
        {
          "output_type": "execute_result",
          "data": {
            "text/plain": [
              "True"
            ]
          },
          "metadata": {},
          "execution_count": 65
        }
      ]
    },
    {
      "cell_type": "markdown",
      "source": [
        "**3. Logical operators:**"
      ],
      "metadata": {
        "id": "jZ1ZziYYFqeS"
      }
    },
    {
      "cell_type": "code",
      "source": [
        "# and , or , not"
      ],
      "metadata": {
        "id": "2p18_4KuFpeu"
      },
      "execution_count": null,
      "outputs": []
    },
    {
      "cell_type": "code",
      "source": [
        "True and True"
      ],
      "metadata": {
        "colab": {
          "base_uri": "https://localhost:8080/"
        },
        "id": "fM7SOZGUJ9OM",
        "outputId": "33599b44-3d2a-491c-f88a-8a7e8ef078b0"
      },
      "execution_count": 67,
      "outputs": [
        {
          "output_type": "execute_result",
          "data": {
            "text/plain": [
              "True"
            ]
          },
          "metadata": {},
          "execution_count": 67
        }
      ]
    },
    {
      "cell_type": "markdown",
      "source": [
        "**4. Compound assignment:**"
      ],
      "metadata": {
        "id": "s1Q6DacGFtvi"
      }
    },
    {
      "cell_type": "code",
      "source": [
        "x =10\n",
        "# x = x+2\n",
        "# print(x)\n",
        "x += 2\n",
        "print(x)"
      ],
      "metadata": {
        "colab": {
          "base_uri": "https://localhost:8080/"
        },
        "id": "gz4g49-vKB0O",
        "outputId": "865eda8b-f584-46a2-86cf-47a22688ca66"
      },
      "execution_count": 69,
      "outputs": [
        {
          "output_type": "stream",
          "name": "stdout",
          "text": [
            "12\n"
          ]
        }
      ]
    },
    {
      "cell_type": "markdown",
      "source": [
        "**Exercise**\n",
        "\n",
        "1. What is the result of 10 % 3?\n",
        "2. Write the output of 'True and False' and 'not True'."
      ],
      "metadata": {
        "id": "msn-ffS1JKD1"
      }
    },
    {
      "cell_type": "code",
      "source": [],
      "metadata": {
        "id": "Wos-ywjR8J25"
      },
      "execution_count": null,
      "outputs": []
    },
    {
      "cell_type": "markdown",
      "source": [
        "## 4. Control Flow Statements"
      ],
      "metadata": {
        "id": "5391To__FziC"
      }
    },
    {
      "cell_type": "markdown",
      "source": [
        "Control flow statements allow us to make decisions in our code. For example, if-else checks conditions, and loops repeat tasks."
      ],
      "metadata": {
        "id": "VD9-PSUZTjA_"
      }
    },
    {
      "cell_type": "markdown",
      "source": [
        "**1. Conditionals:**"
      ],
      "metadata": {
        "id": "IXpPKMNNF1rF"
      }
    },
    {
      "cell_type": "code",
      "source": [
        "# if , elif , else"
      ],
      "metadata": {
        "id": "c0NO3-nYFpY2"
      },
      "execution_count": null,
      "outputs": []
    },
    {
      "cell_type": "code",
      "source": [
        "num = 7\n",
        "if num%2 == 0:\n",
        "  print(\"Even\")\n",
        "else:\n",
        "  print(\"Odd\")"
      ],
      "metadata": {
        "colab": {
          "base_uri": "https://localhost:8080/"
        },
        "id": "4PjxUuXoKVhn",
        "outputId": "925fdd47-f0ad-4a85-b234-d31d0d60fb4c"
      },
      "execution_count": 70,
      "outputs": [
        {
          "output_type": "stream",
          "name": "stdout",
          "text": [
            "Odd\n"
          ]
        }
      ]
    },
    {
      "cell_type": "markdown",
      "source": [
        "**2. Loops:**"
      ],
      "metadata": {
        "id": "4990xn0hF4bb"
      }
    },
    {
      "cell_type": "code",
      "source": [
        "# for loop - range()"
      ],
      "metadata": {
        "id": "xhg_wV23FpWS"
      },
      "execution_count": null,
      "outputs": []
    },
    {
      "cell_type": "code",
      "source": [
        "for i in range(5):\n",
        "  print(i)"
      ],
      "metadata": {
        "colab": {
          "base_uri": "https://localhost:8080/"
        },
        "id": "kd8oN0FUKjTs",
        "outputId": "c7a432a2-53a1-4198-e5ef-7bef8b5bb38f"
      },
      "execution_count": 74,
      "outputs": [
        {
          "output_type": "stream",
          "name": "stdout",
          "text": [
            "0\n",
            "1\n",
            "2\n",
            "3\n",
            "4\n"
          ]
        }
      ]
    },
    {
      "cell_type": "code",
      "source": [
        "# while loop"
      ],
      "metadata": {
        "id": "F0DLZQ9x9Uu4"
      },
      "execution_count": null,
      "outputs": []
    },
    {
      "cell_type": "code",
      "source": [
        "count = 0\n",
        "while count<5:\n",
        "  print(count)\n",
        "  count += 1\n",
        ""
      ],
      "metadata": {
        "colab": {
          "base_uri": "https://localhost:8080/"
        },
        "id": "oWD5ZJHUK87G",
        "outputId": "5e388c5e-ac0c-41a5-dd02-f76ecaf93a7e"
      },
      "execution_count": 75,
      "outputs": [
        {
          "output_type": "stream",
          "name": "stdout",
          "text": [
            "0\n",
            "1\n",
            "2\n",
            "3\n",
            "4\n"
          ]
        }
      ]
    },
    {
      "cell_type": "markdown",
      "source": [
        "**3. break and continue:**"
      ],
      "metadata": {
        "id": "T7PokYWtF8Cy"
      }
    },
    {
      "cell_type": "code",
      "source": [
        "# break:  to exit loop early\n",
        "# continue: skip current iteration"
      ],
      "metadata": {
        "id": "xsiNAv7AFpRO"
      },
      "execution_count": 11,
      "outputs": []
    },
    {
      "cell_type": "code",
      "source": [
        "for i in range(10):\n",
        "  if i==3:\n",
        "    break\n",
        "  print(i)"
      ],
      "metadata": {
        "colab": {
          "base_uri": "https://localhost:8080/"
        },
        "id": "-59rVqx3LLO3",
        "outputId": "6dc2410f-6c4c-48f2-d969-4086c46fe700"
      },
      "execution_count": 76,
      "outputs": [
        {
          "output_type": "stream",
          "name": "stdout",
          "text": [
            "0\n",
            "1\n",
            "2\n"
          ]
        }
      ]
    },
    {
      "cell_type": "code",
      "source": [
        "for i in range(1,6):\n",
        "  if i ==3:\n",
        "    continue\n",
        "  print(i)"
      ],
      "metadata": {
        "colab": {
          "base_uri": "https://localhost:8080/"
        },
        "id": "j_7Y83CGLUk2",
        "outputId": "64839dbf-1e19-452a-bfec-9131231bf6e2"
      },
      "execution_count": 78,
      "outputs": [
        {
          "output_type": "stream",
          "name": "stdout",
          "text": [
            "1\n",
            "2\n",
            "4\n",
            "5\n"
          ]
        }
      ]
    },
    {
      "cell_type": "markdown",
      "source": [
        "**Exercise**\n",
        "\n",
        "1. Write a program that prints numbers from 1 to 10 using a for loop."
      ],
      "metadata": {
        "id": "cHLEMW82J3sO"
      }
    },
    {
      "cell_type": "code",
      "source": [],
      "metadata": {
        "id": "tL3XM0KSLLry"
      },
      "execution_count": null,
      "outputs": []
    },
    {
      "cell_type": "markdown",
      "source": [
        "## 5. Functions"
      ],
      "metadata": {
        "id": "qNiplZe1GNFQ"
      }
    },
    {
      "cell_type": "markdown",
      "source": [
        "Functions are reusable blocks of code. Define them using the 'def' keyword."
      ],
      "metadata": {
        "id": "vxhF3EYJToDD"
      }
    },
    {
      "cell_type": "markdown",
      "source": [
        "**1. Defining functions:**"
      ],
      "metadata": {
        "id": "LFWME88mGPbQ"
      }
    },
    {
      "cell_type": "code",
      "source": [
        "# Function definition\n",
        "\n",
        "def greet(name):\n",
        "  # return f\"Hello, {name}\"\n",
        "  return name\n",
        "\n",
        "# Calling a function\n",
        "\n",
        "greet(\"Pragya\")"
      ],
      "metadata": {
        "id": "_HmrvyDYFpO0",
        "colab": {
          "base_uri": "https://localhost:8080/",
          "height": 36
        },
        "outputId": "e163fe5b-163d-436a-d083-31f9d1926542"
      },
      "execution_count": 84,
      "outputs": [
        {
          "output_type": "execute_result",
          "data": {
            "text/plain": [
              "'Pragya'"
            ],
            "application/vnd.google.colaboratory.intrinsic+json": {
              "type": "string"
            }
          },
          "metadata": {},
          "execution_count": 84
        }
      ]
    },
    {
      "cell_type": "markdown",
      "source": [
        "**2. Positional and keyword arguments:**"
      ],
      "metadata": {
        "id": "rTo1E-wxGTZE"
      }
    },
    {
      "cell_type": "code",
      "source": [
        "def info(name, age =25):\n",
        "  print(\"Name: \", name)\n",
        "  print(\"Age: \", age)\n",
        "\n",
        "info(\"Pragya\", age = 30)"
      ],
      "metadata": {
        "id": "9sChtadYFpMV",
        "colab": {
          "base_uri": "https://localhost:8080/"
        },
        "outputId": "263861cf-ad75-4281-cb7b-df8c4d1746c4"
      },
      "execution_count": 87,
      "outputs": [
        {
          "output_type": "stream",
          "name": "stdout",
          "text": [
            "Name:  Pragya\n",
            "Age:  30\n"
          ]
        }
      ]
    },
    {
      "cell_type": "markdown",
      "source": [
        "**Exercise**\n",
        "\n",
        "1. What will happen if a function doesn’t include a return statement?\n",
        "2. Write a function add_numbers(a, b) that returns the sum of two numbers."
      ],
      "metadata": {
        "id": "seKkAmRaKBAn"
      }
    },
    {
      "cell_type": "code",
      "source": [],
      "metadata": {
        "id": "pyyhmm6eLNOM"
      },
      "execution_count": 85,
      "outputs": []
    },
    {
      "cell_type": "markdown",
      "source": [
        "## 6. Working with Strings"
      ],
      "metadata": {
        "id": "Dh5MmzxgGU6h"
      }
    },
    {
      "cell_type": "markdown",
      "source": [
        "Strings are sequences of characters. We can use string methods to modify and analyze text."
      ],
      "metadata": {
        "id": "j_tna6sTTsrm"
      }
    },
    {
      "cell_type": "markdown",
      "source": [
        "**1. Basic operations:**"
      ],
      "metadata": {
        "id": "cjmJNCSCGfCi"
      }
    },
    {
      "cell_type": "code",
      "source": [
        "sentence = \"Hello World\"\n",
        "print(sentence)"
      ],
      "metadata": {
        "id": "kteMVI1eFpJx",
        "colab": {
          "base_uri": "https://localhost:8080/"
        },
        "outputId": "a1b629fc-2961-45c6-95cd-54a31c3fb2e3"
      },
      "execution_count": 88,
      "outputs": [
        {
          "output_type": "stream",
          "name": "stdout",
          "text": [
            "Hello World\n"
          ]
        }
      ]
    },
    {
      "cell_type": "code",
      "source": [
        "# Concatenation       : \"Hello\" + \"World\"\n",
        "# Repetition          : \"Hi\" * 3\n",
        "# Accessing characters: s[0], slicing:  s[1:3]"
      ],
      "metadata": {
        "id": "ROwOTgGI-jnV"
      },
      "execution_count": null,
      "outputs": []
    },
    {
      "cell_type": "code",
      "source": [
        "sentence[0:5]"
      ],
      "metadata": {
        "colab": {
          "base_uri": "https://localhost:8080/",
          "height": 36
        },
        "id": "_7lkSTIHM5jr",
        "outputId": "05c691cb-85d0-464f-ea5c-f6be1ffa7f6c"
      },
      "execution_count": 95,
      "outputs": [
        {
          "output_type": "execute_result",
          "data": {
            "text/plain": [
              "'Hello'"
            ],
            "application/vnd.google.colaboratory.intrinsic+json": {
              "type": "string"
            }
          },
          "metadata": {},
          "execution_count": 95
        }
      ]
    },
    {
      "cell_type": "markdown",
      "source": [
        "**2. String methods:**"
      ],
      "metadata": {
        "id": "dBi4S_W1Gi2X"
      }
    },
    {
      "cell_type": "code",
      "source": [
        "# len() , strip() , lower() , upper() , split() , join()"
      ],
      "metadata": {
        "id": "oNSymagdFpHY"
      },
      "execution_count": null,
      "outputs": []
    },
    {
      "cell_type": "code",
      "source": [
        "sentence = \" ABC \"\n",
        "sentence.split()"
      ],
      "metadata": {
        "colab": {
          "base_uri": "https://localhost:8080/"
        },
        "id": "7tAQs-ybNgD3",
        "outputId": "b558e094-e587-412b-9343-56987feef341"
      },
      "execution_count": 101,
      "outputs": [
        {
          "output_type": "execute_result",
          "data": {
            "text/plain": [
              "['ABC']"
            ]
          },
          "metadata": {},
          "execution_count": 101
        }
      ]
    },
    {
      "cell_type": "markdown",
      "source": [
        "**3. Escape characters:**"
      ],
      "metadata": {
        "id": "aRMwHMrDGoLX"
      }
    },
    {
      "cell_type": "code",
      "source": [
        "# \\n (newline) , \\t (tab) , etc\n",
        "a = \"new \\nline\"\n",
        "print(a)"
      ],
      "metadata": {
        "id": "7JYHXrXlFpE0",
        "colab": {
          "base_uri": "https://localhost:8080/"
        },
        "outputId": "2952ed89-3376-4cc3-d6ad-513ff2fbdb62"
      },
      "execution_count": 102,
      "outputs": [
        {
          "output_type": "stream",
          "name": "stdout",
          "text": [
            "new \n",
            "line\n"
          ]
        }
      ]
    },
    {
      "cell_type": "markdown",
      "source": [
        "**Exercise**\n",
        "\n",
        "1. What is the output of \"Python\"[1:4]?\n",
        "2. Write a program that asks the user for their name and prints it in uppercase letters."
      ],
      "metadata": {
        "id": "qlAvnXHzKL9L"
      }
    },
    {
      "cell_type": "code",
      "source": [],
      "metadata": {
        "id": "BKaJMirSLO6e"
      },
      "execution_count": null,
      "outputs": []
    },
    {
      "cell_type": "markdown",
      "source": [
        "## 7. Lists and Tuples"
      ],
      "metadata": {
        "id": "JfeLYXwZGtHR"
      }
    },
    {
      "cell_type": "markdown",
      "source": [
        "Lists are mutable collections of items. Tuples are similar but immutable."
      ],
      "metadata": {
        "id": "fhIHIQj1TxzD"
      }
    },
    {
      "cell_type": "markdown",
      "source": [
        "**1. Lists:**"
      ],
      "metadata": {
        "id": "Ri2Ya4EDGv8L"
      }
    },
    {
      "cell_type": "code",
      "source": [
        "# Create\n",
        "fruits = [\"apple\", \"banana\", \"cherry\"]\n",
        "fruits[1] = \"blueberry\"\n",
        "fruits"
      ],
      "metadata": {
        "id": "pc1TmA9SFpCi",
        "colab": {
          "base_uri": "https://localhost:8080/"
        },
        "outputId": "7bf93cbd-5107-4870-85ad-bc62515ec499"
      },
      "execution_count": 104,
      "outputs": [
        {
          "output_type": "execute_result",
          "data": {
            "text/plain": [
              "['apple', 'blueberry', 'cherry']"
            ]
          },
          "metadata": {},
          "execution_count": 104
        }
      ]
    },
    {
      "cell_type": "markdown",
      "source": [
        "**2. List methods:**"
      ],
      "metadata": {
        "id": "ug2Gu3utGy61"
      }
    },
    {
      "cell_type": "code",
      "source": [
        "# append() , remove() , pop() , sort()"
      ],
      "metadata": {
        "id": "-hKgpdUxFo_t"
      },
      "execution_count": null,
      "outputs": []
    },
    {
      "cell_type": "code",
      "source": [
        "fruits.remove(\"orange\")\n",
        "fruits"
      ],
      "metadata": {
        "colab": {
          "base_uri": "https://localhost:8080/"
        },
        "id": "j42tNnfAOhiR",
        "outputId": "2dded845-a64c-4edf-9927-66a2b6a1f5f3"
      },
      "execution_count": 106,
      "outputs": [
        {
          "output_type": "execute_result",
          "data": {
            "text/plain": [
              "['apple', 'blueberry', 'cherry']"
            ]
          },
          "metadata": {},
          "execution_count": 106
        }
      ]
    },
    {
      "cell_type": "markdown",
      "source": [
        "**3. Tuples:**"
      ],
      "metadata": {
        "id": "HDrsflEDG0GR"
      }
    },
    {
      "cell_type": "code",
      "source": [
        "coordinates = (10,20)\n",
        "coordinates"
      ],
      "metadata": {
        "id": "5wgd1V0XFo9c",
        "colab": {
          "base_uri": "https://localhost:8080/"
        },
        "outputId": "337c4f35-1e61-498d-99cb-16b2730fe7c1"
      },
      "execution_count": 107,
      "outputs": [
        {
          "output_type": "execute_result",
          "data": {
            "text/plain": [
              "(10, 20)"
            ]
          },
          "metadata": {},
          "execution_count": 107
        }
      ]
    },
    {
      "cell_type": "markdown",
      "source": [
        "**Exercise**\n",
        "\n",
        "1. How do you access the third element of a list?\n",
        "2. Create a list of five favorite fruits and print the last fruit using indexing."
      ],
      "metadata": {
        "id": "1P6eoYMGKaAq"
      }
    },
    {
      "cell_type": "code",
      "source": [],
      "metadata": {
        "id": "bgFPO3ICLQH2"
      },
      "execution_count": null,
      "outputs": []
    },
    {
      "cell_type": "markdown",
      "source": [
        "## 8. Dictionaries and Sets"
      ],
      "metadata": {
        "id": "vXYGhDJ0G6s4"
      }
    },
    {
      "cell_type": "markdown",
      "source": [
        "Dictionaries store key-value pairs. Sets are unordered collections of unique items."
      ],
      "metadata": {
        "id": "mSH-tVMzT1Du"
      }
    },
    {
      "cell_type": "markdown",
      "source": [
        "**1. Dictionaries:**"
      ],
      "metadata": {
        "id": "ga_FGWt5G_g5"
      }
    },
    {
      "cell_type": "code",
      "source": [
        "student = {\"name\": \"Alice\",\n",
        "           \"age\": 25}"
      ],
      "metadata": {
        "id": "rXU9p4wQFo6v"
      },
      "execution_count": 108,
      "outputs": []
    },
    {
      "cell_type": "code",
      "source": [
        "student['name']"
      ],
      "metadata": {
        "colab": {
          "base_uri": "https://localhost:8080/",
          "height": 36
        },
        "id": "zQy0sW0IPILO",
        "outputId": "02b9f2c4-198a-45e0-cb68-92b1e34eb750"
      },
      "execution_count": 109,
      "outputs": [
        {
          "output_type": "execute_result",
          "data": {
            "text/plain": [
              "'Alice'"
            ],
            "application/vnd.google.colaboratory.intrinsic+json": {
              "type": "string"
            }
          },
          "metadata": {},
          "execution_count": 109
        }
      ]
    },
    {
      "cell_type": "code",
      "source": [
        "student[\"age\"] = 27\n",
        "student"
      ],
      "metadata": {
        "colab": {
          "base_uri": "https://localhost:8080/"
        },
        "id": "GOirMVo-PMhT",
        "outputId": "1e75a75e-3dc6-4877-b690-6b28f584bf62"
      },
      "execution_count": 110,
      "outputs": [
        {
          "output_type": "execute_result",
          "data": {
            "text/plain": [
              "{'name': 'Alice', 'age': 27}"
            ]
          },
          "metadata": {},
          "execution_count": 110
        }
      ]
    },
    {
      "cell_type": "markdown",
      "source": [
        "**2. Set operations:**"
      ],
      "metadata": {
        "id": "XZu1xrGPHC78"
      }
    },
    {
      "cell_type": "code",
      "source": [
        "numbers = {1,2,3,4,4}\n",
        "numbers"
      ],
      "metadata": {
        "colab": {
          "base_uri": "https://localhost:8080/"
        },
        "id": "23GOqBrnPS_N",
        "outputId": "ef16fb9e-769b-4523-c0ce-3635635a90b4"
      },
      "execution_count": 111,
      "outputs": [
        {
          "output_type": "execute_result",
          "data": {
            "text/plain": [
              "{1, 2, 3, 4}"
            ]
          },
          "metadata": {},
          "execution_count": 111
        }
      ]
    },
    {
      "cell_type": "code",
      "source": [
        "numbers.add(5)\n",
        "numbers"
      ],
      "metadata": {
        "colab": {
          "base_uri": "https://localhost:8080/"
        },
        "id": "HZdY5ZOKPag4",
        "outputId": "e5ccd626-1944-4502-bb69-f103737de311"
      },
      "execution_count": 112,
      "outputs": [
        {
          "output_type": "execute_result",
          "data": {
            "text/plain": [
              "{1, 2, 3, 4, 5}"
            ]
          },
          "metadata": {},
          "execution_count": 112
        }
      ]
    },
    {
      "cell_type": "code",
      "source": [
        "# union , intersection , difference"
      ],
      "metadata": {
        "id": "1mblY51NFo4i"
      },
      "execution_count": 14,
      "outputs": []
    },
    {
      "cell_type": "code",
      "source": [
        "a = {1,2,3}\n",
        "b = {2,3,4}\n",
        "\n",
        "a.difference(b)"
      ],
      "metadata": {
        "colab": {
          "base_uri": "https://localhost:8080/"
        },
        "id": "L5-NT-qhPfQr",
        "outputId": "5369737b-6de9-4b10-a512-72c396d1f8a5"
      },
      "execution_count": 120,
      "outputs": [
        {
          "output_type": "execute_result",
          "data": {
            "text/plain": [
              "{1}"
            ]
          },
          "metadata": {},
          "execution_count": 120
        }
      ]
    },
    {
      "cell_type": "markdown",
      "source": [
        "**Exercise**\n",
        "1. How do you add a new key-value pair to a dictionary?\n",
        "2. What will len({\"apple\", \"banana\", \"apple\"}) return?"
      ],
      "metadata": {
        "id": "_g9fOd1tKmMA"
      }
    },
    {
      "cell_type": "code",
      "source": [],
      "metadata": {
        "id": "j2X-hajELRIH"
      },
      "execution_count": null,
      "outputs": []
    },
    {
      "cell_type": "markdown",
      "source": [
        "## 9. File Handling"
      ],
      "metadata": {
        "id": "t7qJMdgqHF86"
      }
    },
    {
      "cell_type": "markdown",
      "source": [
        "Python makes it easy to read and write files. Use with open() to handle files."
      ],
      "metadata": {
        "id": "Q9udEHQVT4HO"
      }
    },
    {
      "cell_type": "markdown",
      "source": [
        "**1. Reading files:**"
      ],
      "metadata": {
        "id": "Dx_2qceBHKrG"
      }
    },
    {
      "cell_type": "code",
      "source": [
        "with open(\"file.txt\", \"r\") as file:\n",
        "  print(file.read())"
      ],
      "metadata": {
        "id": "QmoIB6ihFo2K",
        "colab": {
          "base_uri": "https://localhost:8080/"
        },
        "outputId": "9ae28122-ee91-4523-ecc3-5695fa88cd73"
      },
      "execution_count": 123,
      "outputs": [
        {
          "output_type": "stream",
          "name": "stdout",
          "text": [
            "Write function\n"
          ]
        }
      ]
    },
    {
      "cell_type": "markdown",
      "source": [
        "**2. Writing files:**"
      ],
      "metadata": {
        "id": "oQ81OxElHNZX"
      }
    },
    {
      "cell_type": "code",
      "source": [
        "with open(\"file.txt\", \"w\") as file:\n",
        "  file.write(\"Write function\")"
      ],
      "metadata": {
        "id": "7BakIGJyFozo"
      },
      "execution_count": 122,
      "outputs": []
    },
    {
      "cell_type": "code",
      "source": [],
      "metadata": {
        "id": "aDScIc6jLSjW"
      },
      "execution_count": null,
      "outputs": []
    },
    {
      "cell_type": "markdown",
      "source": [
        "## 10. Debugging and Errors"
      ],
      "metadata": {
        "id": "l7ldbp5THShm"
      }
    },
    {
      "cell_type": "markdown",
      "source": [
        "Errors are inevitable. Use try-except to handle them gracefully."
      ],
      "metadata": {
        "id": "xXqrnUAGT9f5"
      }
    },
    {
      "cell_type": "markdown",
      "source": [
        "**1. Common errors:**"
      ],
      "metadata": {
        "id": "Dt6gAvXYHVU1"
      }
    },
    {
      "cell_type": "code",
      "source": [
        "# SyntaxError , NameError , IndexError , TypeError"
      ],
      "metadata": {
        "id": "FZfV3O5XFowz"
      },
      "execution_count": null,
      "outputs": []
    },
    {
      "cell_type": "markdown",
      "source": [
        "**2. Using try-except:**"
      ],
      "metadata": {
        "id": "Vz8ftaQBHYRN"
      }
    },
    {
      "cell_type": "code",
      "source": [
        "try:\n",
        "  num = int(input(\"Enter a number\"))\n",
        "  print(\"Square is: \", num**2)\n",
        "except ValueError:\n",
        "  print(\"Please enter a valid number\")"
      ],
      "metadata": {
        "id": "Zq_iGmEnFouf",
        "colab": {
          "base_uri": "https://localhost:8080/"
        },
        "outputId": "ab340ad3-c7bf-4e65-bd9d-09feb116d969"
      },
      "execution_count": 125,
      "outputs": [
        {
          "output_type": "stream",
          "name": "stdout",
          "text": [
            "Enter a numbernew\n",
            "Please enter a valid number\n"
          ]
        }
      ]
    },
    {
      "cell_type": "code",
      "source": [],
      "metadata": {
        "id": "WSirNTqwUOwH"
      },
      "execution_count": null,
      "outputs": []
    },
    {
      "cell_type": "markdown",
      "source": [
        "## (Solution to the exercise questions are given below)\n"
      ],
      "metadata": {
        "id": "eHSibMLNOXci"
      }
    },
    {
      "cell_type": "code",
      "source": [],
      "metadata": {
        "id": "VRlTzG3wLdwr"
      },
      "execution_count": null,
      "outputs": []
    },
    {
      "cell_type": "markdown",
      "source": [
        "1.Try to print 'Hello World!'"
      ],
      "metadata": {
        "id": "l568fg4KOSSf"
      }
    },
    {
      "cell_type": "code",
      "source": [
        "print(\"Hello World!\")"
      ],
      "metadata": {
        "colab": {
          "base_uri": "https://localhost:8080/"
        },
        "id": "gFdtImV7Lneu",
        "outputId": "381de26d-37e1-4982-95fb-d1486f7f30d4"
      },
      "execution_count": null,
      "outputs": [
        {
          "output_type": "stream",
          "name": "stdout",
          "text": [
            "Hello World!\n"
          ]
        }
      ]
    },
    {
      "cell_type": "markdown",
      "source": [
        "1. What is the output of type(3.14)?\n",
        "2. How do you convert a string \"25\" into an integer?"
      ],
      "metadata": {
        "id": "f9biph8LLmvi"
      }
    },
    {
      "cell_type": "code",
      "source": [
        "type(3.14)"
      ],
      "metadata": {
        "colab": {
          "base_uri": "https://localhost:8080/"
        },
        "id": "zm_eFOWYLuo2",
        "outputId": "1be3e6bc-31c3-4e27-82e8-15d3b9a31328"
      },
      "execution_count": null,
      "outputs": [
        {
          "output_type": "execute_result",
          "data": {
            "text/plain": [
              "float"
            ]
          },
          "metadata": {},
          "execution_count": 2
        }
      ]
    },
    {
      "cell_type": "code",
      "source": [
        "int(\"25\")"
      ],
      "metadata": {
        "colab": {
          "base_uri": "https://localhost:8080/"
        },
        "id": "dtkI-EBDLwg_",
        "outputId": "de555c9c-82e7-4fb0-ba4b-76717000d34a"
      },
      "execution_count": null,
      "outputs": [
        {
          "output_type": "execute_result",
          "data": {
            "text/plain": [
              "25"
            ]
          },
          "metadata": {},
          "execution_count": 1
        }
      ]
    },
    {
      "cell_type": "markdown",
      "source": [
        "1. What is the result of 10 % 3?\n",
        "2. Write the output of True and False and not True."
      ],
      "metadata": {
        "id": "ovMyv7o4L2ww"
      }
    },
    {
      "cell_type": "code",
      "source": [
        "10%3"
      ],
      "metadata": {
        "colab": {
          "base_uri": "https://localhost:8080/"
        },
        "id": "5X5gEpyeL8KI",
        "outputId": "dc3796cc-707d-4b4a-ebce-f214d4ae1a98"
      },
      "execution_count": null,
      "outputs": [
        {
          "output_type": "execute_result",
          "data": {
            "text/plain": [
              "1"
            ]
          },
          "metadata": {},
          "execution_count": 4
        }
      ]
    },
    {
      "cell_type": "code",
      "source": [
        "True and False"
      ],
      "metadata": {
        "colab": {
          "base_uri": "https://localhost:8080/"
        },
        "id": "QjrHfip7L-LR",
        "outputId": "0ddae7ea-23ec-442f-dacd-3d77f661e419"
      },
      "execution_count": null,
      "outputs": [
        {
          "output_type": "execute_result",
          "data": {
            "text/plain": [
              "False"
            ]
          },
          "metadata": {},
          "execution_count": 5
        }
      ]
    },
    {
      "cell_type": "code",
      "source": [
        "not True"
      ],
      "metadata": {
        "colab": {
          "base_uri": "https://localhost:8080/"
        },
        "id": "soZwbTPBMAga",
        "outputId": "a9582acb-0ad9-4f99-c431-a4a17ead5bec"
      },
      "execution_count": null,
      "outputs": [
        {
          "output_type": "execute_result",
          "data": {
            "text/plain": [
              "False"
            ]
          },
          "metadata": {},
          "execution_count": 6
        }
      ]
    },
    {
      "cell_type": "markdown",
      "source": [
        "Write a program that prints numbers from 1 to 10 using a for loop."
      ],
      "metadata": {
        "id": "91blpl4EMHNY"
      }
    },
    {
      "cell_type": "code",
      "source": [
        "for i in range(1,11):\n",
        "  print(i)"
      ],
      "metadata": {
        "colab": {
          "base_uri": "https://localhost:8080/"
        },
        "id": "EeahMa0fMGj1",
        "outputId": "aed5b5cb-4aa7-4b7d-8fd1-c29ab061a88d"
      },
      "execution_count": null,
      "outputs": [
        {
          "output_type": "stream",
          "name": "stdout",
          "text": [
            "1\n",
            "2\n",
            "3\n",
            "4\n",
            "5\n",
            "6\n",
            "7\n",
            "8\n",
            "9\n",
            "10\n"
          ]
        }
      ]
    },
    {
      "cell_type": "markdown",
      "source": [
        "1. What will happen if a function doesn’t include a return statement?\n",
        "2. Write a function add_numbers(a, b) that returns the sum of two numbers."
      ],
      "metadata": {
        "id": "Xlupab3MMTFI"
      }
    },
    {
      "cell_type": "code",
      "source": [
        "def function(input):\n",
        "  input = input+5\n",
        "\n",
        "function(6)\n",
        "\n",
        "# no output"
      ],
      "metadata": {
        "id": "9izc0gFwMTzG"
      },
      "execution_count": null,
      "outputs": []
    },
    {
      "cell_type": "code",
      "source": [
        "def add_numbers(a, b):\n",
        "  return a+b\n",
        "\n",
        "add_numbers(3, 5)"
      ],
      "metadata": {
        "colab": {
          "base_uri": "https://localhost:8080/"
        },
        "id": "7DFp_DA0MgRD",
        "outputId": "b9801a1e-4201-4669-dc0e-eebac5e3ac3d"
      },
      "execution_count": null,
      "outputs": [
        {
          "output_type": "execute_result",
          "data": {
            "text/plain": [
              "8"
            ]
          },
          "metadata": {},
          "execution_count": 10
        }
      ]
    },
    {
      "cell_type": "markdown",
      "source": [
        "1. What is the output of \"Python\"[1:4]?\n",
        "2. Write a program that asks the user for their name and prints it in uppercase letters."
      ],
      "metadata": {
        "id": "Z_popPNyMp2W"
      }
    },
    {
      "cell_type": "code",
      "source": [
        "\"Python\"[1:4]"
      ],
      "metadata": {
        "colab": {
          "base_uri": "https://localhost:8080/",
          "height": 36
        },
        "id": "Krcu8JfZMrrR",
        "outputId": "475c4f45-cd0d-4a95-f495-4c5a8b225edf"
      },
      "execution_count": null,
      "outputs": [
        {
          "output_type": "execute_result",
          "data": {
            "text/plain": [
              "'yth'"
            ],
            "application/vnd.google.colaboratory.intrinsic+json": {
              "type": "string"
            }
          },
          "metadata": {},
          "execution_count": 11
        }
      ]
    },
    {
      "cell_type": "code",
      "source": [
        "def ask_name():\n",
        "  name = input()\n",
        "  print(name.upper())\n",
        "\n",
        "ask_name()"
      ],
      "metadata": {
        "colab": {
          "base_uri": "https://localhost:8080/"
        },
        "id": "dCRCEAyqMuyl",
        "outputId": "262d6962-366e-459c-fc2e-97c7b14ffff1"
      },
      "execution_count": null,
      "outputs": [
        {
          "output_type": "stream",
          "name": "stdout",
          "text": [
            "myname\n",
            "MYNAME\n"
          ]
        }
      ]
    },
    {
      "cell_type": "markdown",
      "source": [
        "1. How do you access the third element of a list?\n",
        "2. Create a list of five favorite fruits and print the last fruit using indexing."
      ],
      "metadata": {
        "id": "Px6IeLmGNAxW"
      }
    },
    {
      "cell_type": "code",
      "source": [
        "lis = ['a','b','c','d']\n",
        "lis[2]"
      ],
      "metadata": {
        "colab": {
          "base_uri": "https://localhost:8080/",
          "height": 36
        },
        "id": "ocrZWnyWNDKC",
        "outputId": "28ddf055-b0a3-4d77-b9c5-794d597a8b3d"
      },
      "execution_count": null,
      "outputs": [
        {
          "output_type": "execute_result",
          "data": {
            "text/plain": [
              "'c'"
            ],
            "application/vnd.google.colaboratory.intrinsic+json": {
              "type": "string"
            }
          },
          "metadata": {},
          "execution_count": 15
        }
      ]
    },
    {
      "cell_type": "code",
      "source": [
        "lis = ['apple', 'banana', 'orange']\n",
        "lis[-1]"
      ],
      "metadata": {
        "colab": {
          "base_uri": "https://localhost:8080/",
          "height": 36
        },
        "id": "NMo7bx_NNNqu",
        "outputId": "9f196abc-1e84-43cb-9be7-1879ee8d2627"
      },
      "execution_count": null,
      "outputs": [
        {
          "output_type": "execute_result",
          "data": {
            "text/plain": [
              "'orange'"
            ],
            "application/vnd.google.colaboratory.intrinsic+json": {
              "type": "string"
            }
          },
          "metadata": {},
          "execution_count": 16
        }
      ]
    },
    {
      "cell_type": "markdown",
      "source": [
        "1. How do you add a new key-value pair to a dictionary?\n",
        "2. What will len({\"apple\", \"banana\", \"apple\"}) return?"
      ],
      "metadata": {
        "id": "8bPFx565NbWb"
      }
    },
    {
      "cell_type": "code",
      "source": [
        "dictionary = {\"key1\": \"apple\", \"key2\": \"banana\"}\n",
        "print(\"Original dictionary :\", dictionary)\n",
        "print()\n",
        "dictionary[\"key3\"] = \"orange\"\n",
        "print(\"Dictionary after adding a new key-value pair :\", dictionary)\n",
        "print()"
      ],
      "metadata": {
        "colab": {
          "base_uri": "https://localhost:8080/"
        },
        "id": "eDiaRFuiNdSD",
        "outputId": "27268f9b-1ff6-43ea-de46-bf9da6267a8d"
      },
      "execution_count": null,
      "outputs": [
        {
          "output_type": "stream",
          "name": "stdout",
          "text": [
            "Original dictionary : {'key1': 'apple', 'key2': 'banana'}\n",
            "\n",
            "Dictionary after adding a new key-value pair : {'key1': 'apple', 'key2': 'banana', 'key3': 'orange'}\n",
            "\n"
          ]
        }
      ]
    },
    {
      "cell_type": "code",
      "source": [
        "len({\"apple\", \"banana\", \"apple\"})"
      ],
      "metadata": {
        "colab": {
          "base_uri": "https://localhost:8080/"
        },
        "id": "dk_N3W_ZN6zF",
        "outputId": "3fd40c0a-19a7-430d-e4c2-66b97fa7ada5"
      },
      "execution_count": null,
      "outputs": [
        {
          "output_type": "execute_result",
          "data": {
            "text/plain": [
              "2"
            ]
          },
          "metadata": {},
          "execution_count": 19
        }
      ]
    },
    {
      "cell_type": "markdown",
      "source": [
        "Write a program that writes \"Hello, Python!\" to a file named output.txt."
      ],
      "metadata": {
        "id": "FLkhxbWFOAvj"
      }
    },
    {
      "cell_type": "code",
      "source": [
        "# give a try"
      ],
      "metadata": {
        "id": "MrI_4JoeOBaD"
      },
      "execution_count": null,
      "outputs": []
    },
    {
      "cell_type": "markdown",
      "source": [
        "## More Exercises\n",
        "\n",
        "1. Write a program to calculate the area of a rectangle given its length and width.\n",
        "2. Check if a number is even or odd using the modulo operator.\n",
        "3. Write a program that keeps asking for user input until they type \"exit\".\n",
        "4. Write a function to calculate the factorial of a number.\n",
        "5. Write a program to count the number of vowels in a given string.\n",
        "6. Write a program to sort a list of numbers in ascending order.\n",
        "7. Create a dictionary to store details about a student (name, age, grade).\n",
        "8. Write a program to find the union and intersection of two sets."
      ],
      "metadata": {
        "id": "RaUcV5YNOLeg"
      }
    }
  ]
}