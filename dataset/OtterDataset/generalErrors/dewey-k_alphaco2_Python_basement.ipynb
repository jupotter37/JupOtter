{
 "cells": [
  {
   "cell_type": "markdown",
   "id": "594da945-0c5c-4b31-ac60-97f77d84cb3e",
   "metadata": {},
   "source": [
    "# 대제목"
   ]
  },
  {
   "cell_type": "markdown",
   "id": "c394944a-004d-40e9-baa3-079b0ac3f9bd",
   "metadata": {},
   "source": [
    "## 라이브러리 설치"
   ]
  },
  {
   "cell_type": "code",
   "execution_count": 2,
   "id": "2153a605-0e1f-4503-971d-d3bc28b21f83",
   "metadata": {},
   "outputs": [
    {
     "data": {
      "text/plain": [
       "2"
      ]
     },
     "execution_count": 2,
     "metadata": {},
     "output_type": "execute_result"
    }
   ],
   "source": [
    "1+1"
   ]
  },
  {
   "cell_type": "code",
   "execution_count": 19,
   "id": "72bdb329-566d-4dad-ad7b-938f1ce1cb9e",
   "metadata": {},
   "outputs": [
    {
     "name": "stdout",
     "output_type": "stream",
     "text": [
      "2.1.1\n",
      "2.2.3\n",
      "1.5.2\n",
      "3.9.2\n",
      "0.13.2\n"
     ]
    }
   ],
   "source": [
    "import numpy as np \n",
    "import pandas as pd \n",
    "import sklearn \n",
    "import matplotlib as mpl\n",
    "import seaborn as sns\n",
    "\n",
    "print(np.__version__)\n",
    "print(pd.__version__)\n",
    "print(sklearn.__version__)\n",
    "print(mpl.__version__)\n",
    "print(sns.__version__)"
   ]
  },
  {
   "cell_type": "code",
   "execution_count": 20,
   "id": "b6cfbf25-4432-411d-bf72-b347ecc20b47",
   "metadata": {},
   "outputs": [
    {
     "name": "stdout",
     "output_type": "stream",
     "text": [
      "1.14.1\n"
     ]
    }
   ],
   "source": [
    "import scipy as scp\n",
    "\n",
    "print(scp.__version__)"
   ]
  },
  {
   "cell_type": "code",
   "execution_count": 21,
   "id": "15b5b206-ab49-45fd-91ac-8f8c8cef28e7",
   "metadata": {},
   "outputs": [
    {
     "data": {
      "text/plain": [
       "7"
      ]
     },
     "execution_count": 21,
     "metadata": {},
     "output_type": "execute_result"
    }
   ],
   "source": [
    "5+2"
   ]
  },
  {
   "cell_type": "code",
   "execution_count": 22,
   "id": "28873d65-d358-40b9-8ed6-1ed6e70fe459",
   "metadata": {},
   "outputs": [
    {
     "data": {
      "text/plain": [
       "7"
      ]
     },
     "execution_count": 22,
     "metadata": {},
     "output_type": "execute_result"
    }
   ],
   "source": [
    "5+2"
   ]
  },
  {
   "cell_type": "markdown",
   "id": "e67ff2ce-8a38-428c-85c9-3a68702a12be",
   "metadata": {},
   "source": [
    "## 논리연산\n",
    "- True, False"
   ]
  },
  {
   "cell_type": "code",
   "execution_count": 3,
   "id": "51d358da-af02-42df-aa66-b5b482b804f9",
   "metadata": {},
   "outputs": [
    {
     "name": "stdout",
     "output_type": "stream",
     "text": [
      "True\n",
      "False\n"
     ]
    }
   ],
   "source": [
    "print(True)\n",
    "print(False)"
   ]
  },
  {
   "cell_type": "code",
   "execution_count": 14,
   "id": "8d4f3463-07e7-4b05-a5f2-e9632aa7494c",
   "metadata": {},
   "outputs": [
    {
     "name": "stdout",
     "output_type": "stream",
     "text": [
      "<class 'bool'>\n",
      "<class 'bool'>\n"
     ]
    }
   ],
   "source": [
    "print(type(True))\n",
    "print(type(False))"
   ]
  },
  {
   "cell_type": "code",
   "execution_count": 16,
   "id": "d33b3841-218e-42a2-b5fe-6a189fc9b698",
   "metadata": {},
   "outputs": [
    {
     "name": "stdout",
     "output_type": "stream",
     "text": [
      "False\n",
      "True\n",
      "False\n"
     ]
    }
   ],
   "source": [
    "print(5 == 3)\n",
    "print(5 > 3)\n",
    "print(5 < 3)"
   ]
  },
  {
   "cell_type": "markdown",
   "id": "eaffb81f-e71a-4560-a64f-017ed0607ca8",
   "metadata": {},
   "source": [
    "### and 연산"
   ]
  },
  {
   "cell_type": "code",
   "execution_count": 3,
   "id": "040c2850-063f-4d65-ab6b-0eb1d5974107",
   "metadata": {},
   "outputs": [
    {
     "name": "stdout",
     "output_type": "stream",
     "text": [
      "True\n",
      "False\n",
      "False\n"
     ]
    }
   ],
   "source": [
    "# 둘 다 같으면 True\n",
    "\n",
    "print(True and True)\n",
    "print(False and True)\n",
    "print(False and False)"
   ]
  },
  {
   "cell_type": "code",
   "execution_count": 2,
   "id": "0f17ae98-51e9-4041-95d5-9da99199a965",
   "metadata": {},
   "outputs": [
    {
     "name": "stdout",
     "output_type": "stream",
     "text": [
      "True\n",
      "False\n",
      "False\n"
     ]
    }
   ],
   "source": [
    "print((5 > 3) and (6 > 3))\n",
    "print((5 < 3) and (6 > 3))\n",
    "print((5 < 3) and (6 < 3))"
   ]
  },
  {
   "cell_type": "markdown",
   "id": "136794dd-e403-45c5-9991-dec66818dd59",
   "metadata": {},
   "source": [
    "### or 연산"
   ]
  },
  {
   "cell_type": "code",
   "execution_count": 4,
   "id": "a109b33c-3b6a-47d2-9c1f-78ff67fb705c",
   "metadata": {},
   "outputs": [
    {
     "name": "stdout",
     "output_type": "stream",
     "text": [
      "True\n",
      "True\n",
      "False\n"
     ]
    }
   ],
   "source": [
    "# 둘이 다르면 True\n",
    "\n",
    "print(True or True)\n",
    "print(False or True)\n",
    "print(False or False)"
   ]
  },
  {
   "cell_type": "code",
   "execution_count": 15,
   "id": "c1176de7-cd7c-4e26-8adf-4caa4976ea51",
   "metadata": {},
   "outputs": [
    {
     "name": "stdout",
     "output_type": "stream",
     "text": [
      "True\n",
      "True\n",
      "False\n"
     ]
    }
   ],
   "source": [
    "print((5 > 3) or (6 > 3))\n",
    "print((5 < 3) or (6 > 3))\n",
    "print((5 < 3) or (6 < 3))"
   ]
  },
  {
   "cell_type": "markdown",
   "id": "0bbbb0d7-5fc3-44b0-a07d-8d90203f2d20",
   "metadata": {},
   "source": [
    "# 입력과 출력\n",
    "- 입력 : input()\n",
    "- 출력 : print()"
   ]
  },
  {
   "cell_type": "code",
   "execution_count": 19,
   "id": "2eba1fa1-c5de-41a1-b9a7-640fc532bf27",
   "metadata": {},
   "outputs": [
    {
     "name": "stdout",
     "output_type": "stream",
     "text": [
      "임의의 값을 입력하세요. 임의의 값\n"
     ]
    },
    {
     "name": "stdout",
     "output_type": "stream",
     "text": [
      "임의의 값\n"
     ]
    }
   ],
   "source": [
    "x = input(\"임의의 값을 입력하세요.\")\n",
    "print(x)"
   ]
  },
  {
   "cell_type": "code",
   "execution_count": 22,
   "id": "f8243609-c184-4df3-af24-2131ce6f3887",
   "metadata": {},
   "outputs": [
    {
     "name": "stdout",
     "output_type": "stream",
     "text": [
      "2\n"
     ]
    }
   ],
   "source": [
    "x = 1\n",
    "y = 1\n",
    "\n",
    "print(x+y)"
   ]
  },
  {
   "cell_type": "code",
   "execution_count": 21,
   "id": "d0730b89-6635-4f80-8b7f-df5b57f6102c",
   "metadata": {},
   "outputs": [
    {
     "name": "stdout",
     "output_type": "stream",
     "text": [
      "임의의 숫자를 입력하세요. 1\n",
      "임의의 숫자를 입력하세요. 1\n"
     ]
    },
    {
     "name": "stdout",
     "output_type": "stream",
     "text": [
      "11\n"
     ]
    }
   ],
   "source": [
    "x = input(\"임의의 숫자를 입력하세요.\")\n",
    "y = input(\"임의의 숫자를 입력하세요.\")\n",
    "\n",
    "print(x + y)"
   ]
  },
  {
   "cell_type": "code",
   "execution_count": 24,
   "id": "3e8ed96e-4b3b-4da4-bd6a-126de678fd7d",
   "metadata": {},
   "outputs": [
    {
     "name": "stdout",
     "output_type": "stream",
     "text": [
      "임의의 숫자를 입력하세요. 1\n",
      "임의의 숫자를 입력하세요. 1\n"
     ]
    },
    {
     "name": "stdout",
     "output_type": "stream",
     "text": [
      "<class 'str'> <class 'str'>\n",
      "11\n"
     ]
    }
   ],
   "source": [
    "x = input(\"임의의 숫자를 입력하세요.\")\n",
    "y = input(\"임의의 숫자를 입력하세요.\")\n",
    "\n",
    "print(type(x), type(y))\n",
    "print(x + y)"
   ]
  },
  {
   "cell_type": "markdown",
   "id": "0e3516c4-9239-4648-9133-53e4cd291360",
   "metadata": {},
   "source": [
    "Python class str documentation 구글링\n",
    "- 항상 끝에는 documentation 명시하여 검색하기"
   ]
  },
  {
   "cell_type": "markdown",
   "id": "f1d3861f-7797-4ab5-9091-5c424fe4da8c",
   "metadata": {},
   "source": [
    "## 데이터 형변환 / 자료 형변환\n",
    "- 문자 -> 숫자\n",
    "- 숫자 -> 문자\n",
    "- A 자료형 -> D 자료형\n",
    "- 대부분이 클래스 or 함수를 활용해서 형변환"
   ]
  },
  {
   "cell_type": "code",
   "execution_count": 26,
   "id": "3f29c2d7-0410-496e-9760-9c1ed4095f86",
   "metadata": {},
   "outputs": [
    {
     "name": "stdout",
     "output_type": "stream",
     "text": [
      "임의의 숫자를 입력하세요. 1\n",
      "임의의 숫자를 입력하세요. 1\n"
     ]
    },
    {
     "name": "stdout",
     "output_type": "stream",
     "text": [
      "<class 'float'> <class 'float'>\n",
      "2.0\n"
     ]
    }
   ],
   "source": [
    "x = float(input(\"임의의 숫자를 입력하세요.\"))\n",
    "y = float(input(\"임의의 숫자를 입력하세요.\"))\n",
    "\n",
    "print(type(x), type(y))\n",
    "print(x + y)"
   ]
  },
  {
   "cell_type": "code",
   "execution_count": 29,
   "id": "c2347832-d3a7-4f65-934c-92a148e96436",
   "metadata": {},
   "outputs": [
    {
     "ename": "ValueError",
     "evalue": "invalid literal for int() with base 10: '3.3'",
     "output_type": "error",
     "traceback": [
      "\u001b[0;31m---------------------------------------------------------------------------\u001b[0m",
      "\u001b[0;31mValueError\u001b[0m                                Traceback (most recent call last)",
      "Cell \u001b[0;32mIn[29], line 2\u001b[0m\n\u001b[1;32m      1\u001b[0m a \u001b[38;5;241m=\u001b[39m \u001b[38;5;124m'\u001b[39m\u001b[38;5;124m3.3\u001b[39m\u001b[38;5;124m'\u001b[39m\n\u001b[0;32m----> 2\u001b[0m \u001b[38;5;28;43mint\u001b[39;49m\u001b[43m(\u001b[49m\u001b[43ma\u001b[49m\u001b[43m)\u001b[49m\n",
      "\u001b[0;31mValueError\u001b[0m: invalid literal for int() with base 10: '3.3'"
     ]
    }
   ],
   "source": [
    "a = '3.3'\n",
    "int(a)"
   ]
  },
  {
   "cell_type": "code",
   "execution_count": 30,
   "id": "600dc4e4-fa56-4d29-ac16-29a80638c13d",
   "metadata": {},
   "outputs": [
    {
     "data": {
      "text/plain": [
       "3"
      ]
     },
     "execution_count": 30,
     "metadata": {},
     "output_type": "execute_result"
    }
   ],
   "source": [
    "a = '3.3'\n",
    "int(float(a))"
   ]
  },
  {
   "cell_type": "markdown",
   "id": "e4b474b2-270b-4618-9e07-d574b7bcd733",
   "metadata": {},
   "source": [
    "## 문자열 string"
   ]
  },
  {
   "cell_type": "markdown",
   "id": "d65c21db-d43e-45db-be24-86f4bd68e5e4",
   "metadata": {},
   "source": [
    "### 덧셈"
   ]
  },
  {
   "cell_type": "code",
   "execution_count": 34,
   "id": "792d4bd7-1b0a-4ccd-8873-555ad708e765",
   "metadata": {},
   "outputs": [
    {
     "name": "stdout",
     "output_type": "stream",
     "text": [
      "abcdefghi\n"
     ]
    }
   ],
   "source": [
    "a = \"abc\" \n",
    "b = 'def'\n",
    "c = \"ghi\"\n",
    "\n",
    "result = a + b + c\n",
    "print(result)"
   ]
  },
  {
   "cell_type": "markdown",
   "id": "1d5dab36-544d-43df-9fa8-2c4fddccbde1",
   "metadata": {},
   "source": [
    "### 곱셈"
   ]
  },
  {
   "cell_type": "code",
   "execution_count": 35,
   "id": "c487f3b2-a0be-4c05-9c1e-f9a4bfa30a0b",
   "metadata": {},
   "outputs": [
    {
     "data": {
      "text/plain": [
       "'abcdefghiabcdefghiabcdefghi'"
      ]
     },
     "execution_count": 35,
     "metadata": {},
     "output_type": "execute_result"
    }
   ],
   "source": [
    "result * 3"
   ]
  },
  {
   "cell_type": "code",
   "execution_count": 37,
   "id": "954e8871-7b88-4ead-93ed-e537aaa7eadc",
   "metadata": {},
   "outputs": [
    {
     "name": "stdout",
     "output_type": "stream",
     "text": [
      "\n",
      "abc\n",
      "def\n",
      "ghi\n",
      "jkl\n",
      "\n"
     ]
    }
   ],
   "source": [
    "a = \"\"\"\n",
    "abc\n",
    "def\n",
    "ghi\n",
    "jkl\n",
    "\"\"\"\n",
    "print(a)"
   ]
  },
  {
   "cell_type": "code",
   "execution_count": 38,
   "id": "3bacdad7-6302-4962-ac80-deb9c42fa4d8",
   "metadata": {},
   "outputs": [
    {
     "name": "stdout",
     "output_type": "stream",
     "text": [
      "\n",
      "abc\n",
      "def\n",
      "ghi\n",
      "jkl\n",
      "\n"
     ]
    }
   ],
   "source": [
    "a = '''\n",
    "abc\n",
    "def\n",
    "ghi\n",
    "jkl\n",
    "'''\n",
    "print(a)"
   ]
  },
  {
   "cell_type": "markdown",
   "id": "3139db22-ff2e-49ef-b09b-24676144d41f",
   "metadata": {},
   "source": [
    "## 문자열 포맷팅\n",
    "- f-string 포맷팅으로 문자열 만들기"
   ]
  },
  {
   "cell_type": "code",
   "execution_count": 40,
   "id": "26721688-0276-4e35-b979-df690b192614",
   "metadata": {},
   "outputs": [
    {
     "name": "stdout",
     "output_type": "stream",
     "text": [
      "<class 'str'> 안녕하세요, 저는 숫자 1 입니다.\n"
     ]
    }
   ],
   "source": [
    "x = 1 \n",
    "a = f'안녕하세요, 저는 숫자 {x} 입니다.'\n",
    "print(type(a), a)"
   ]
  },
  {
   "cell_type": "markdown",
   "id": "3588b29a-e485-4ead-baee-e8150746f6a7",
   "metadata": {},
   "source": [
    "### f 문자열 포매팅"
   ]
  },
  {
   "cell_type": "code",
   "execution_count": 1,
   "id": "88e04d1a-7ad2-4c0d-99df-05fc7938ad45",
   "metadata": {},
   "outputs": [
    {
     "data": {
      "text/plain": [
       "'삼성라이온즈 최고의 타자는 구자욱 선수입니다. 구자욱 선수는 이번 시즌 홈런을 30개 쳤습니다.'"
      ]
     },
     "execution_count": 1,
     "metadata": {},
     "output_type": "execute_result"
    }
   ],
   "source": [
    "a = \"구자욱\"\n",
    "b = 30\n",
    "\n",
    "f'삼성라이온즈 최고의 타자는 {a} 선수입니다. {a} 선수는 이번 시즌 홈런을 {b}개 쳤습니다.'"
   ]
  },
  {
   "cell_type": "markdown",
   "id": "41e20220-beff-47f8-8fcc-b57e0da8bc69",
   "metadata": {},
   "source": [
    "## 인덱싱 및 슬라이싱"
   ]
  },
  {
   "cell_type": "code",
   "execution_count": 41,
   "id": "07a752e3-933f-45a0-b31f-f6434c9fd5fc",
   "metadata": {},
   "outputs": [
    {
     "name": "stdout",
     "output_type": "stream",
     "text": [
      "23\n"
     ]
    }
   ],
   "source": [
    "a = \"최강삼성 승리하리라~ 오오오오 오오오오오!\"\n",
    "print(len(a))"
   ]
  },
  {
   "cell_type": "markdown",
   "id": "69819bfb-b5be-495e-ab8f-a64a2e9d1b90",
   "metadata": {},
   "source": [
    "len = 총 글자수"
   ]
  },
  {
   "cell_type": "code",
   "execution_count": 43,
   "id": "91705a2f-ae14-485c-82f8-7e408d50f9aa",
   "metadata": {},
   "outputs": [
    {
     "name": "stdout",
     "output_type": "stream",
     "text": [
      "최\n",
      "강\n",
      "삼\n",
      "성\n"
     ]
    }
   ],
   "source": [
    "print(a[0])\n",
    "print(a[1])\n",
    "print(a[2])\n",
    "print(a[3])"
   ]
  },
  {
   "cell_type": "markdown",
   "id": "46d5180c-da9e-413b-b4dc-a62f956301bf",
   "metadata": {},
   "source": [
    "인덱싱(0번째부터 검색)"
   ]
  },
  {
   "cell_type": "code",
   "execution_count": 53,
   "id": "2060cc9b-d77d-4939-9edb-0d1a6d7a10df",
   "metadata": {},
   "outputs": [
    {
     "ename": "IndexError",
     "evalue": "string index out of range",
     "output_type": "error",
     "traceback": [
      "\u001b[0;31m---------------------------------------------------------------------------\u001b[0m",
      "\u001b[0;31mIndexError\u001b[0m                                Traceback (most recent call last)",
      "Cell \u001b[0;32mIn[53], line 1\u001b[0m\n\u001b[0;32m----> 1\u001b[0m \u001b[38;5;28mprint\u001b[39m(\u001b[43ma\u001b[49m\u001b[43m[\u001b[49m\u001b[38;5;241;43m23\u001b[39;49m\u001b[43m]\u001b[49m)\n\u001b[1;32m      2\u001b[0m \u001b[38;5;28mprint\u001b[39m(\u001b[38;5;28mlen\u001b[39m(a))\n",
      "\u001b[0;31mIndexError\u001b[0m: string index out of range"
     ]
    }
   ],
   "source": [
    "print(a[23])"
   ]
  },
  {
   "cell_type": "markdown",
   "id": "acf00bfc-3437-4712-a829-e00e3372b4d0",
   "metadata": {},
   "source": [
    "len은 1번째부터 계산, 인덱싱은 0번째부터 계산"
   ]
  },
  {
   "cell_type": "code",
   "execution_count": 51,
   "id": "54c58109-f64e-4c66-99e5-1c38f3f437c4",
   "metadata": {},
   "outputs": [
    {
     "name": "stdout",
     "output_type": "stream",
     "text": [
      "22\n"
     ]
    }
   ],
   "source": [
    "print(len(a)-1)"
   ]
  },
  {
   "cell_type": "code",
   "execution_count": 57,
   "id": "264e9502-a72a-4469-bf5c-3bea91f13d23",
   "metadata": {},
   "outputs": [
    {
     "data": {
      "text/plain": [
       "'!'"
      ]
     },
     "execution_count": 57,
     "metadata": {},
     "output_type": "execute_result"
    }
   ],
   "source": [
    "a[22]"
   ]
  },
  {
   "cell_type": "code",
   "execution_count": 58,
   "id": "4af513be-bf08-435a-ac21-e3f4bebf28f3",
   "metadata": {},
   "outputs": [
    {
     "name": "stdout",
     "output_type": "stream",
     "text": [
      "최강삼성 승리하리라\n"
     ]
    }
   ],
   "source": [
    "a = \"최강삼성 승리하리라~ 오오오오 오오오오오!\"\n",
    "print(a[0:10])"
   ]
  },
  {
   "cell_type": "code",
   "execution_count": 60,
   "id": "e42429e5-84e3-4d02-9521-9322be6f75f3",
   "metadata": {},
   "outputs": [
    {
     "name": "stdout",
     "output_type": "stream",
     "text": [
      "01234567\n"
     ]
    }
   ],
   "source": [
    "b = \"0123456789\"\n",
    "print(b[0:8])"
   ]
  },
  {
   "cell_type": "markdown",
   "id": "3b92fc78-2b11-4b82-a68a-c08d7df93bec",
   "metadata": {},
   "source": [
    "슬라이싱에서는 맨 끝에 문자는 안 가져온다."
   ]
  },
  {
   "cell_type": "code",
   "execution_count": 64,
   "id": "589351aa-b539-4254-a1b2-3fe9bcf09726",
   "metadata": {},
   "outputs": [
    {
     "name": "stdout",
     "output_type": "stream",
     "text": [
      "0246\n",
      "6789\n",
      "012345\n"
     ]
    }
   ],
   "source": [
    "b = \"0123456789\"\n",
    "print(b[0:8:2])\n",
    "print(b[6:])\n",
    "print(b[:6])"
   ]
  },
  {
   "cell_type": "markdown",
   "id": "4c0e2797-6a98-4266-b453-b5cdd520e45b",
   "metadata": {},
   "source": [
    "- 마지막 :2 -> 스텝 : 2칸씩 띄어서 가져온다.\n",
    "- 6번째부터 끝까지\n",
    "- 처음부터 6번쨰 전까지"
   ]
  },
  {
   "cell_type": "markdown",
   "id": "81c196cf-cc72-45a5-b77b-420098b7642a",
   "metadata": {},
   "source": [
    "## 문자열 수정"
   ]
  },
  {
   "cell_type": "code",
   "execution_count": 85,
   "id": "71aa1970-234c-4045-890c-88f151b8dbb0",
   "metadata": {},
   "outputs": [
    {
     "ename": "TypeError",
     "evalue": "'str' object does not support item assignment",
     "output_type": "error",
     "traceback": [
      "\u001b[0;31m---------------------------------------------------------------------------\u001b[0m",
      "\u001b[0;31mTypeError\u001b[0m                                 Traceback (most recent call last)",
      "Cell \u001b[0;32mIn[85], line 3\u001b[0m\n\u001b[1;32m      1\u001b[0m a \u001b[38;5;241m=\u001b[39m \u001b[38;5;124m\"\u001b[39m\u001b[38;5;124mAython\u001b[39m\u001b[38;5;124m\"\u001b[39m\n\u001b[0;32m----> 3\u001b[0m \u001b[43ma\u001b[49m\u001b[43m[\u001b[49m\u001b[38;5;241;43m0\u001b[39;49m\u001b[43m]\u001b[49m \u001b[38;5;241m=\u001b[39m \u001b[38;5;124m\"\u001b[39m\u001b[38;5;124mP\u001b[39m\u001b[38;5;124m\"\u001b[39m\n",
      "\u001b[0;31mTypeError\u001b[0m: 'str' object does not support item assignment"
     ]
    }
   ],
   "source": [
    "a = \"Aython\"\n",
    "\n",
    "a[0] = \"P\""
   ]
  },
  {
   "cell_type": "markdown",
   "id": "92089a4a-2407-4637-bd4b-aa2586dbffde",
   "metadata": {},
   "source": [
    "TypeError가 뜨면 다른 방법으로 시도하라는 뜻"
   ]
  },
  {
   "cell_type": "code",
   "execution_count": 86,
   "id": "e00f21d1-828c-4641-8d33-f751d11cbfbc",
   "metadata": {},
   "outputs": [
    {
     "name": "stdout",
     "output_type": "stream",
     "text": [
      "Python\n"
     ]
    }
   ],
   "source": [
    "a = \"Aython\"\n",
    "\n",
    "# 미션\n",
    "# A를 P로 변경하고 싶음\n",
    "\n",
    "a = \"P\" + a[1:]\n",
    "print(a)"
   ]
  },
  {
   "cell_type": "code",
   "execution_count": 88,
   "id": "0861981d-a142-43e3-884b-81e2e1f0c124",
   "metadata": {},
   "outputs": [
    {
     "name": "stdout",
     "output_type": "stream",
     "text": [
      "Python\n"
     ]
    }
   ],
   "source": [
    "a = \"Aython\"\n",
    "\n",
    "# 미션\n",
    "# A를 P로 변경하고 싶음\n",
    "\n",
    "result = a.replace(\"A\",\"P\")\n",
    "print(result)"
   ]
  },
  {
   "cell_type": "markdown",
   "id": "b779cd2d-262b-4049-ad39-5fd866a77402",
   "metadata": {},
   "source": [
    "replace 라는 python에 저장된 메서드를 사용하여 A를 P로 재배치"
   ]
  },
  {
   "cell_type": "markdown",
   "id": "3003b639-4b08-4899-b29d-012d49f2e54e",
   "metadata": {},
   "source": [
    "## 문자열 메서드\n",
    "- 클래스와 클래스 메서드에 대한 이해"
   ]
  },
  {
   "cell_type": "code",
   "execution_count": 89,
   "id": "670a92fd-c909-4563-948c-3cb3712d1d77",
   "metadata": {},
   "outputs": [
    {
     "ename": "AttributeError",
     "evalue": "'str' object has no attribute 'Replace'",
     "output_type": "error",
     "traceback": [
      "\u001b[0;31m---------------------------------------------------------------------------\u001b[0m",
      "\u001b[0;31mAttributeError\u001b[0m                            Traceback (most recent call last)",
      "Cell \u001b[0;32mIn[89], line 6\u001b[0m\n\u001b[1;32m      1\u001b[0m a \u001b[38;5;241m=\u001b[39m \u001b[38;5;124m\"\u001b[39m\u001b[38;5;124mAython\u001b[39m\u001b[38;5;124m\"\u001b[39m\n\u001b[1;32m      3\u001b[0m \u001b[38;5;66;03m# 미션\u001b[39;00m\n\u001b[1;32m      4\u001b[0m \u001b[38;5;66;03m# A를 P로 변경하고 싶음\u001b[39;00m\n\u001b[0;32m----> 6\u001b[0m result \u001b[38;5;241m=\u001b[39m \u001b[43ma\u001b[49m\u001b[38;5;241;43m.\u001b[39;49m\u001b[43mReplace\u001b[49m(\u001b[38;5;124m\"\u001b[39m\u001b[38;5;124mA\u001b[39m\u001b[38;5;124m\"\u001b[39m,\u001b[38;5;124m\"\u001b[39m\u001b[38;5;124mP\u001b[39m\u001b[38;5;124m\"\u001b[39m)\n\u001b[1;32m      7\u001b[0m \u001b[38;5;28mprint\u001b[39m(result)\n",
      "\u001b[0;31mAttributeError\u001b[0m: 'str' object has no attribute 'Replace'"
     ]
    }
   ],
   "source": [
    "a = \"Aython\"\n",
    "\n",
    "# 미션\n",
    "# A를 P로 변경하고 싶음\n",
    "\n",
    "result = a.Replace(\"A\",\"P\")\n",
    "print(result)"
   ]
  },
  {
   "cell_type": "markdown",
   "id": "3ab6df27-25b0-44e3-a2c2-63e6a3a82968",
   "metadata": {},
   "source": [
    "AttributeError 에러 메시지\n",
    "- 대소문자 오타 났을 때 등"
   ]
  },
  {
   "cell_type": "markdown",
   "id": "d98a2d28-c0e1-48ab-8e51-651808b94213",
   "metadata": {},
   "source": [
    "### UPPER / LOWER 메서드"
   ]
  },
  {
   "cell_type": "code",
   "execution_count": 105,
   "id": "d5f1266e-e218-407e-9abc-1ba13a4aa7f3",
   "metadata": {},
   "outputs": [
    {
     "ename": "SyntaxError",
     "evalue": "invalid syntax (543100682.py, line 5)",
     "output_type": "error",
     "traceback": [
      "\u001b[0;36m  Cell \u001b[0;32mIn[105], line 5\u001b[0;36m\u001b[0m\n\u001b[0;31m    string object a = \"python\"\u001b[0m\n\u001b[0m           ^\u001b[0m\n\u001b[0;31mSyntaxError\u001b[0m\u001b[0;31m:\u001b[0m invalid syntax\n"
     ]
    }
   ],
   "source": [
    "a = \"Aython\"\n",
    "\n",
    "- a를 활용해서 뭔가를 하고 싶음 ==> 어떤 메서드가 있을 것 같은데?\n",
    "\n",
    "string object a = \"python\"\n",
    "GPT야 a를 대문자로 바꾸고 싶은데, 메서드 알려줘.\n",
    "==> 답변 후 실제로 해당 메서드가 있는지 공식 문서 체크!"
   ]
  },
  {
   "cell_type": "code",
   "execution_count": 93,
   "id": "333fb5cb-f493-4e9c-871e-c5b25118bdbd",
   "metadata": {},
   "outputs": [
    {
     "name": "stdout",
     "output_type": "stream",
     "text": [
      "PYTHON\n"
     ]
    }
   ],
   "source": [
    "a = \"python\"\n",
    "a = a.upper()\n",
    "print(a)"
   ]
  },
  {
   "cell_type": "code",
   "execution_count": 95,
   "id": "26596a82-9220-4720-8d5c-1f5a029e7c30",
   "metadata": {},
   "outputs": [
    {
     "data": {
      "text/plain": [
       "'HELLO, STREAMLIT'"
      ]
     },
     "execution_count": 95,
     "metadata": {},
     "output_type": "execute_result"
    }
   ],
   "source": [
    "sampleText = \"hello, streamlit\"\n",
    "sampleText = sampleText.upper()\n",
    "sampleText"
   ]
  },
  {
   "cell_type": "code",
   "execution_count": 96,
   "id": "5cce4a85-9274-4d37-81c2-3bbcd8992efe",
   "metadata": {},
   "outputs": [
    {
     "data": {
      "text/plain": [
       "'hello, streamlit'"
      ]
     },
     "execution_count": 96,
     "metadata": {},
     "output_type": "execute_result"
    }
   ],
   "source": [
    "sampleText.lower()"
   ]
  },
  {
   "cell_type": "code",
   "execution_count": 97,
   "id": "7ae246c8-b325-4ea1-bc4e-61986a3cd894",
   "metadata": {},
   "outputs": [
    {
     "data": {
      "text/plain": [
       "'Hello, streamlit'"
      ]
     },
     "execution_count": 97,
     "metadata": {},
     "output_type": "execute_result"
    }
   ],
   "source": [
    "sampleText = \"hello, streamlit\"\n",
    "sampleText.capitalize()"
   ]
  },
  {
   "cell_type": "markdown",
   "id": "d75e2b45-3d85-470e-adc8-ff8d38b7ed01",
   "metadata": {},
   "source": [
    "첫 글자 대문자"
   ]
  },
  {
   "cell_type": "code",
   "execution_count": 98,
   "id": "e4a1dcd9-dbe9-43bc-80c7-e5494dd0b2a2",
   "metadata": {},
   "outputs": [
    {
     "data": {
      "text/plain": [
       "'Hello, Streamlit'"
      ]
     },
     "execution_count": 98,
     "metadata": {},
     "output_type": "execute_result"
    }
   ],
   "source": [
    "sampleText = \"hello, streamlit\"\n",
    "sampleText.title()"
   ]
  },
  {
   "cell_type": "markdown",
   "id": "d336ea61-b6b4-4290-8880-69fa46b05a25",
   "metadata": {},
   "source": [
    "어절 첫 글자 대문자"
   ]
  },
  {
   "cell_type": "code",
   "execution_count": 99,
   "id": "735ab1d7-36e2-4702-b188-7bc5284ddc3e",
   "metadata": {},
   "outputs": [
    {
     "data": {
      "text/plain": [
       "['hello', ' streamlit']"
      ]
     },
     "execution_count": 99,
     "metadata": {},
     "output_type": "execute_result"
    }
   ],
   "source": [
    "sampleText = \"hello, streamlit\"\n",
    "words = sampleText.split(sep=\",\")\n",
    "words"
   ]
  },
  {
   "cell_type": "code",
   "execution_count": 100,
   "id": "abce6e39-d77a-43cc-89db-01380e2634cd",
   "metadata": {},
   "outputs": [
    {
     "data": {
      "text/plain": [
       "['hello,', 'streamlit']"
      ]
     },
     "execution_count": 100,
     "metadata": {},
     "output_type": "execute_result"
    }
   ],
   "source": [
    "sampleText = \"hello, streamlit\"\n",
    "words = sampleText.split()\n",
    "words"
   ]
  },
  {
   "cell_type": "markdown",
   "id": "8332d9b5-73b6-4664-9bce-da0f39d91669",
   "metadata": {},
   "source": [
    "공식문서\n",
    "- str.split(sep=None, maxsplit=-1)\n",
    "- None 때문에 '매개변수'가 아무것도 없어도 결과 나오지만 결과가 다름\n",
    "- ()는 공백기준, (sep=\",\")은 , 기준"
   ]
  },
  {
   "cell_type": "markdown",
   "id": "1c6a3d08-bfb6-401a-a849-d04677b75e48",
   "metadata": {},
   "source": [
    "GPT\n",
    "> python str object rindex sample code\n",
    "\n",
    "공식문서\n",
    ">rindex -> rfind \n",
    "\n",
    "정리"
   ]
  },
  {
   "cell_type": "code",
   "execution_count": 101,
   "id": "0ae4f474-aaa9-4a8c-a6fd-705e704f5b2a",
   "metadata": {},
   "outputs": [
    {
     "data": {
      "text/plain": [
       "list"
      ]
     },
     "execution_count": 101,
     "metadata": {},
     "output_type": "execute_result"
    }
   ],
   "source": [
    "sampleText = \"hello, streamlit\"\n",
    "words = sampleText.split()\n",
    "type(words)"
   ]
  },
  {
   "cell_type": "markdown",
   "id": "34b637ac-5d1d-4768-b964-dc82e4ffafd1",
   "metadata": {},
   "source": [
    "split : 텍스트를 문자열로 바꿔줌 \n",
    "> type : list"
   ]
  },
  {
   "cell_type": "code",
   "execution_count": 103,
   "id": "c6820711-ff8a-4331-9f54-911a2dd7892a",
   "metadata": {},
   "outputs": [
    {
     "data": {
      "text/plain": [
       "'hello, straemlit'"
      ]
     },
     "execution_count": 103,
     "metadata": {},
     "output_type": "execute_result"
    }
   ],
   "source": [
    "sampleList = [\"hello\", \"straemlit\"]\n",
    "text = \", \".join(sampleList)\n",
    "text"
   ]
  },
  {
   "cell_type": "markdown",
   "id": "94900b7f-94a7-4be5-8923-47887802c4df",
   "metadata": {},
   "source": [
    "join 메서드 : 리스트를 한 줄의 텍스트로\n",
    "> type : str"
   ]
  },
  {
   "cell_type": "markdown",
   "id": "e10eb95f-a06e-44c5-bc1d-344a595df231",
   "metadata": {},
   "source": [
    ">리스트 : 요소의 생성, 삭제, 수정 가능, 대괄호 사용\n",
    "\n",
    ">튜플 : 요소 변경 불가능, 소괄호 사용"
   ]
  },
  {
   "cell_type": "markdown",
   "id": "b00be9cb-135b-4cd9-bcf3-a01ad48051b4",
   "metadata": {},
   "source": [
    "## 시퀀스 자료형 확인\n",
    "- 인덱싱과 슬라이싱이 가능\n",
    "- 반복문 사용할 때 기초 자료형으로 활용"
   ]
  },
  {
   "cell_type": "code",
   "execution_count": 104,
   "id": "f3eef524-40e6-4eaa-aafc-34d615a0040c",
   "metadata": {},
   "outputs": [
    {
     "name": "stdout",
     "output_type": "stream",
     "text": [
      "False\n",
      "True\n",
      "True\n"
     ]
    }
   ],
   "source": [
    "from collections.abc import Sequence\n",
    "\n",
    "my_num = 100\n",
    "my_list = [1, 2, 3]\n",
    "my_string = \"hello\"\n",
    "\n",
    "is_num = isinstance(my_num, Sequence)\n",
    "is_list = isinstance(my_list, Sequence)\n",
    "is_string = isinstance(my_string, Sequence)\n",
    "\n",
    "print(is_num)\n",
    "print(is_list)\n",
    "print(is_string)"
   ]
  },
  {
   "cell_type": "markdown",
   "id": "e313dd6d-e12b-4329-beb5-181aac450840",
   "metadata": {},
   "source": [
    "# List 리스트"
   ]
  },
  {
   "cell_type": "code",
   "execution_count": 108,
   "id": "fe5dea55-adcb-4d06-978f-642655bd963e",
   "metadata": {},
   "outputs": [
    {
     "name": "stdout",
     "output_type": "stream",
     "text": [
      "0\n",
      "[0, 1, 2, 3, 4, 5, 6, 7]\n"
     ]
    }
   ],
   "source": [
    "a = [0, 1, 2, 3, 4, 5, 6, 7, 8]\n",
    "\n",
    "print(a[0])\n",
    "print(a[0:8])"
   ]
  },
  {
   "cell_type": "code",
   "execution_count": 140,
   "id": "5a7afad2-565f-4030-85c0-05fbed0968a3",
   "metadata": {},
   "outputs": [
    {
     "name": "stdout",
     "output_type": "stream",
     "text": [
      "[0, 1, 2, ['Python', 'Hello'], 3, 4, 5]\n",
      "e\n"
     ]
    }
   ],
   "source": [
    "a = [0, 1, 2, [\"Python\", \"Hello\"], 3, 4, 5]\n",
    "print(a)\n",
    "print(a[3][1][1])"
   ]
  },
  {
   "cell_type": "code",
   "execution_count": 115,
   "id": "39f8b2c9-e02c-4b0d-9d00-928052a33b98",
   "metadata": {},
   "outputs": [
    {
     "data": {
      "text/plain": [
       "['IM', '뱅크', '아카데미']"
      ]
     },
     "execution_count": 115,
     "metadata": {},
     "output_type": "execute_result"
    }
   ],
   "source": [
    "a = [\"IM\", \"뱅크\"]\n",
    "a.append(\"아카데미\")\n",
    "a"
   ]
  },
  {
   "cell_type": "markdown",
   "id": "8f58798d-c0a0-4d60-9cd0-20423f194cc5",
   "metadata": {},
   "source": [
    "list에서 메서드의 특징\n",
    "> 메서드 사용 후 객체를 다시 호출해야 함"
   ]
  },
  {
   "cell_type": "code",
   "execution_count": 118,
   "id": "fbef4371-3b8e-4d9f-800d-4471a1b46c05",
   "metadata": {},
   "outputs": [
    {
     "name": "stdout",
     "output_type": "stream",
     "text": [
      "None\n"
     ]
    }
   ],
   "source": [
    "a = [100, 200]\n",
    "result = a.append(\"아카데미\")\n",
    "print(result)"
   ]
  },
  {
   "cell_type": "code",
   "execution_count": 122,
   "id": "ac993f87-ba39-47a8-a4b4-15d2209e43dc",
   "metadata": {},
   "outputs": [
    {
     "data": {
      "text/plain": [
       "[100, 200, [300, 400]]"
      ]
     },
     "execution_count": 122,
     "metadata": {},
     "output_type": "execute_result"
    }
   ],
   "source": [
    "a = [100, 200]\n",
    "result = a.append([300,400])\n",
    "a"
   ]
  },
  {
   "cell_type": "markdown",
   "id": "5b74def1-2427-436e-8cfb-a8603bd75354",
   "metadata": {},
   "source": [
    "append 메서드\n",
    "> 반복문 작업 시 매우 자주 사용함"
   ]
  },
  {
   "cell_type": "code",
   "execution_count": 123,
   "id": "37713aef-42b5-4739-b124-5ad9af2800af",
   "metadata": {},
   "outputs": [
    {
     "data": {
      "text/plain": [
       "[100, 200, 300, 400]"
      ]
     },
     "execution_count": 123,
     "metadata": {},
     "output_type": "execute_result"
    }
   ],
   "source": [
    "a = [100, 200]\n",
    "a.extend([300, 400])\n",
    "a"
   ]
  },
  {
   "cell_type": "markdown",
   "id": "7ae8070e-bc68-49fc-9f3b-2e6acf9811a3",
   "metadata": {},
   "source": [
    "## 리스트 값 변경 및 삭제"
   ]
  },
  {
   "cell_type": "code",
   "execution_count": 124,
   "id": "857d07c7-894f-4a8f-ad7d-6afe8a09c4cb",
   "metadata": {},
   "outputs": [
    {
     "data": {
      "text/plain": [
       "[1302, 401, 418, 430, 529]"
      ]
     },
     "execution_count": 124,
     "metadata": {},
     "output_type": "execute_result"
    }
   ],
   "source": [
    "num = [302, 401, 418, 430, 529]\n",
    "num[0] = 1302\n",
    "num"
   ]
  },
  {
   "cell_type": "code",
   "execution_count": 128,
   "id": "1f9c882c-4b16-4616-988f-5aeadc2dd16a",
   "metadata": {},
   "outputs": [
    {
     "name": "stdout",
     "output_type": "stream",
     "text": [
      "302\n",
      "(302, 401, 418)\n"
     ]
    }
   ],
   "source": [
    "# 튜플\n",
    "num = (302, 401, 418, 430, 529)\n",
    "\n",
    "print(num[0])\n",
    "print(num[0:3])"
   ]
  },
  {
   "cell_type": "code",
   "execution_count": 129,
   "id": "6ef94bf8-361b-48af-8a99-aa5657bdeeae",
   "metadata": {},
   "outputs": [
    {
     "ename": "TypeError",
     "evalue": "'tuple' object does not support item assignment",
     "output_type": "error",
     "traceback": [
      "\u001b[0;31m---------------------------------------------------------------------------\u001b[0m",
      "\u001b[0;31mTypeError\u001b[0m                                 Traceback (most recent call last)",
      "Cell \u001b[0;32mIn[129], line 2\u001b[0m\n\u001b[1;32m      1\u001b[0m num \u001b[38;5;241m=\u001b[39m (\u001b[38;5;241m302\u001b[39m, \u001b[38;5;241m401\u001b[39m, \u001b[38;5;241m418\u001b[39m, \u001b[38;5;241m430\u001b[39m, \u001b[38;5;241m529\u001b[39m)\n\u001b[0;32m----> 2\u001b[0m \u001b[43mnum\u001b[49m\u001b[43m[\u001b[49m\u001b[38;5;241;43m0\u001b[39;49m\u001b[43m]\u001b[49m \u001b[38;5;241m=\u001b[39m \u001b[38;5;241m1302\u001b[39m\n\u001b[1;32m      3\u001b[0m num\n",
      "\u001b[0;31mTypeError\u001b[0m: 'tuple' object does not support item assignment"
     ]
    }
   ],
   "source": [
    "num = (302, 401, 418, 430, 529)\n",
    "num[0] = 1302\n",
    "num"
   ]
  },
  {
   "cell_type": "markdown",
   "id": "9cdb9b9a-3612-4fa7-a816-11ae023a790f",
   "metadata": {},
   "source": [
    "튜플은 변수 수정 불가함"
   ]
  },
  {
   "cell_type": "code",
   "execution_count": 132,
   "id": "fff3f4c9-b588-4eef-99d9-17f7138d7b3d",
   "metadata": {},
   "outputs": [
    {
     "ename": "ValueError",
     "evalue": "list.remove(x): x not in list",
     "output_type": "error",
     "traceback": [
      "\u001b[0;31m---------------------------------------------------------------------------\u001b[0m",
      "\u001b[0;31mValueError\u001b[0m                                Traceback (most recent call last)",
      "Cell \u001b[0;32mIn[132], line 5\u001b[0m\n\u001b[1;32m      2\u001b[0m num \u001b[38;5;241m=\u001b[39m [\u001b[38;5;241m302\u001b[39m, \u001b[38;5;241m401\u001b[39m, \u001b[38;5;241m418\u001b[39m, \u001b[38;5;241m430\u001b[39m, \u001b[38;5;241m529\u001b[39m]\n\u001b[1;32m      4\u001b[0m \u001b[38;5;66;03m# 401 삭제\u001b[39;00m\n\u001b[0;32m----> 5\u001b[0m \u001b[43mnum\u001b[49m\u001b[38;5;241;43m.\u001b[39;49m\u001b[43mremove\u001b[49m\u001b[43m(\u001b[49m\u001b[38;5;241;43m1\u001b[39;49m\u001b[43m)\u001b[49m\n\u001b[1;32m      6\u001b[0m num\n",
      "\u001b[0;31mValueError\u001b[0m: list.remove(x): x not in list"
     ]
    }
   ],
   "source": [
    "# 리스트 삭제\n",
    "num = [302, 401, 418, 430, 529]\n",
    "\n",
    "# 401 삭제\n",
    "num.remove(1)\n",
    "num"
   ]
  },
  {
   "cell_type": "markdown",
   "id": "bc523712-8f59-4a27-a3f5-6305633d9956",
   "metadata": {},
   "source": [
    "remove 메서드 사용 시 인덱스 넘버가 아니라 값을 넣어줘야 함"
   ]
  },
  {
   "cell_type": "code",
   "execution_count": 131,
   "id": "2e9071ec-3b1f-4526-872d-1aa1485c4f2a",
   "metadata": {},
   "outputs": [
    {
     "data": {
      "text/plain": [
       "[302, 418, 430, 529]"
      ]
     },
     "execution_count": 131,
     "metadata": {},
     "output_type": "execute_result"
    }
   ],
   "source": [
    "# 리스트 삭제\n",
    "num = [302, 401, 418, 430, 529]\n",
    "\n",
    "# 401 삭제\n",
    "num.remove(401)\n",
    "num"
   ]
  },
  {
   "cell_type": "code",
   "execution_count": 133,
   "id": "aa044ffb-df1f-4cee-a829-d22863e329ac",
   "metadata": {},
   "outputs": [
    {
     "data": {
      "text/plain": [
       "[302, 418, 430, 529]"
      ]
     },
     "execution_count": 133,
     "metadata": {},
     "output_type": "execute_result"
    }
   ],
   "source": [
    "# 리스트 삭제\n",
    "num = [302, 401, 418, 430, 529]\n",
    "\n",
    "# 401 삭제\n",
    "del num[1]\n",
    "num"
   ]
  },
  {
   "cell_type": "markdown",
   "id": "c90350e1-7162-4510-bdcc-e6adb80d0747",
   "metadata": {},
   "source": [
    "del 사용 시 인덱스 넘버 사용\n",
    "\n",
    "- 튜플은 삭제, 수정 불가능함!!"
   ]
  },
  {
   "cell_type": "markdown",
   "id": "6a5eda75-8f17-4c4a-bc89-29760225fb73",
   "metadata": {},
   "source": [
    "## 딕셔너리"
   ]
  },
  {
   "cell_type": "code",
   "execution_count": 134,
   "id": "a677fab3-8028-4b07-a1f4-97aa6cdb9d63",
   "metadata": {},
   "outputs": [],
   "source": [
    "my_dic = {\n",
    "    'key1' : 'value',\n",
    "    'key2' : '모든 기초 자료형'\n",
    "}"
   ]
  },
  {
   "cell_type": "code",
   "execution_count": 147,
   "id": "21613b32-9be0-4eb4-ae5b-0d29805debcb",
   "metadata": {},
   "outputs": [
    {
     "data": {
      "text/plain": [
       "{'name': 'evan',\n",
       " 'age': 20,\n",
       " 'job': '강사',\n",
       " '쇼핑목록': [0, 1, 2, ['Python', 'Hello'], 3, 4, 5],\n",
       " 'etc': (1, 2, 3),\n",
       " 'etc2': {'key': 'value'}}"
      ]
     },
     "execution_count": 147,
     "metadata": {},
     "output_type": "execute_result"
    }
   ],
   "source": [
    "my_dic = {\n",
    "    \"name\" : \"evan\",\n",
    "    \"age\" : 20,\n",
    "    \"job\" : \"강사\",\n",
    "    \"쇼핑목록\" : [0, 1, 2, [\"Python\", \"Hello\"], 3, 4, 5],\n",
    "    \"etc\" : (1, 2, 3),\n",
    "    \"etc2\" : {\"key\" : \"value\"}\n",
    "}\n",
    "\n",
    "my_dic"
   ]
  },
  {
   "cell_type": "code",
   "execution_count": 137,
   "id": "a7eb42c4-e954-4cea-ae09-da0c2a620d0e",
   "metadata": {},
   "outputs": [
    {
     "data": {
      "text/plain": [
       "'evan'"
      ]
     },
     "execution_count": 137,
     "metadata": {},
     "output_type": "execute_result"
    }
   ],
   "source": [
    "my_dic['name']"
   ]
  },
  {
   "cell_type": "code",
   "execution_count": 141,
   "id": "9e6996d2-7377-476d-bacb-cc6bf2f43acc",
   "metadata": {},
   "outputs": [
    {
     "ename": "KeyError",
     "evalue": "0",
     "output_type": "error",
     "traceback": [
      "\u001b[0;31m---------------------------------------------------------------------------\u001b[0m",
      "\u001b[0;31mKeyError\u001b[0m                                  Traceback (most recent call last)",
      "Cell \u001b[0;32mIn[141], line 1\u001b[0m\n\u001b[0;32m----> 1\u001b[0m \u001b[43mmy_dic\u001b[49m\u001b[43m[\u001b[49m\u001b[38;5;241;43m0\u001b[39;49m\u001b[43m]\u001b[49m\n\u001b[1;32m      3\u001b[0m \u001b[38;5;66;03m#key값 입력해야 함\u001b[39;00m\n",
      "\u001b[0;31mKeyError\u001b[0m: 0"
     ]
    }
   ],
   "source": [
    "my_dic[0]\n",
    "\n",
    "#key값 입력해야 함"
   ]
  },
  {
   "cell_type": "code",
   "execution_count": 146,
   "id": "2e56216e-c854-4b28-b331-2cc91ae763e0",
   "metadata": {},
   "outputs": [
    {
     "data": {
      "text/plain": [
       "'o'"
      ]
     },
     "execution_count": 146,
     "metadata": {},
     "output_type": "execute_result"
    }
   ],
   "source": [
    "my_dic = {\n",
    "    \"name\" : \"evan\",\n",
    "    \"age\" : 20,\n",
    "    \"job\" : \"강사\",\n",
    "    \"쇼핑목록\" : [0, 1, 2, [\"Python\", \"Hello\"], 3, 4, 5],\n",
    "    \"etc\" : (1, 2, 3),\n",
    "    \"etc2\" : {\"key\" : \"value\"}\n",
    "}\n",
    "\n",
    "my_dic['쇼핑목록'][3][1][-1]"
   ]
  },
  {
   "cell_type": "code",
   "execution_count": 148,
   "id": "aafa2421-1173-4410-9ee9-c0a8917bd769",
   "metadata": {},
   "outputs": [
    {
     "data": {
      "text/plain": [
       "{'name': 'evan',\n",
       " 'age': 20,\n",
       " 'job': '강사',\n",
       " '쇼핑목록': [0, 1, 2, ['Python', 'Hello'], 3, 4, 5],\n",
       " 'etc': (1, 2, 3),\n",
       " 'etc2': {'key': 'value'},\n",
       " '기타': '아무노래'}"
      ]
     },
     "execution_count": 148,
     "metadata": {},
     "output_type": "execute_result"
    }
   ],
   "source": [
    "my_dic['기타'] = \"아무노래\"\n",
    "my_dic"
   ]
  },
  {
   "cell_type": "code",
   "execution_count": 149,
   "id": "e11b294b-da2b-45d5-9b81-6d30acc87acd",
   "metadata": {},
   "outputs": [
    {
     "data": {
      "text/plain": [
       "{'name': 'evan',\n",
       " 'age': 20,\n",
       " 'job': '강사',\n",
       " '쇼핑목록': ['맥북', '아이패드', '아이폰'],\n",
       " 'etc': (1, 2, 3),\n",
       " 'etc2': {'key': 'value'},\n",
       " '기타': '아무노래'}"
      ]
     },
     "execution_count": 149,
     "metadata": {},
     "output_type": "execute_result"
    }
   ],
   "source": [
    "my_dic['쇼핑목록'] = [\"맥북\", \"아이패드\", \"아이폰\"]\n",
    "my_dic"
   ]
  },
  {
   "cell_type": "code",
   "execution_count": 157,
   "id": "7a921479-fa16-462d-ba21-0121aa5277c5",
   "metadata": {},
   "outputs": [
    {
     "data": {
      "text/plain": [
       "dict_keys(['name', 'age', 'job', '쇼핑목록', 'etc', 'etc2', '기타'])"
      ]
     },
     "execution_count": 157,
     "metadata": {},
     "output_type": "execute_result"
    }
   ],
   "source": [
    "# 키만\n",
    "my_dic.keys()"
   ]
  },
  {
   "cell_type": "code",
   "execution_count": 156,
   "id": "f92d4007-cd0d-4b6b-839d-5459f663353d",
   "metadata": {},
   "outputs": [
    {
     "data": {
      "text/plain": [
       "dict_values(['evan', 20, '강사', ['맥북', '아이패드', '아이폰'], (1, 2, 3), {'key': 'value'}, '아무노래'])"
      ]
     },
     "execution_count": 156,
     "metadata": {},
     "output_type": "execute_result"
    }
   ],
   "source": [
    "# 벨류만\n",
    "my_dic.values()"
   ]
  },
  {
   "cell_type": "code",
   "execution_count": 158,
   "id": "45b478b3-1c35-4533-897e-85eb4bc7407e",
   "metadata": {},
   "outputs": [
    {
     "data": {
      "text/plain": [
       "dict_items([('name', 'evan'), ('age', 20), ('job', '강사'), ('쇼핑목록', ['맥북', '아이패드', '아이폰']), ('etc', (1, 2, 3)), ('etc2', {'key': 'value'}), ('기타', '아무노래')])"
      ]
     },
     "execution_count": 158,
     "metadata": {},
     "output_type": "execute_result"
    }
   ],
   "source": [
    "# 키, 벨류 둘 다\n",
    "my_dic.items()\n",
    "\n",
    "# 아래 출력값은 리스트는 아님!"
   ]
  },
  {
   "cell_type": "code",
   "execution_count": 160,
   "id": "f46cf27b-fe0f-4af2-8f44-a4e4fa3dda7e",
   "metadata": {},
   "outputs": [
    {
     "data": {
      "text/plain": [
       "['name', 'age', 'job', '쇼핑목록', 'etc', 'etc2', '기타']"
      ]
     },
     "execution_count": 160,
     "metadata": {},
     "output_type": "execute_result"
    }
   ],
   "source": [
    "# 리스트로 자료형 변경\n",
    "list(my_dic.keys())"
   ]
  }
 ],
 "metadata": {
  "kernelspec": {
   "display_name": "Python 3 (ipykernel)",
   "language": "python",
   "name": "python3"
  },
  "language_info": {
   "codemirror_mode": {
    "name": "ipython",
    "version": 3
   },
   "file_extension": ".py",
   "mimetype": "text/x-python",
   "name": "python",
   "nbconvert_exporter": "python",
   "pygments_lexer": "ipython3",
   "version": "3.12.6"
  }
 },
 "nbformat": 4,
 "nbformat_minor": 5
}
