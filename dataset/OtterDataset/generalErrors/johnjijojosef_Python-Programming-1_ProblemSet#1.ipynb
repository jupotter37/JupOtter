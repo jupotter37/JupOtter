{
 "cells": [
  {
   "cell_type": "markdown",
   "id": "704dc80e",
   "metadata": {},
   "source": [
    "\n",
    "<h1><font color='#004b87'><center>Data Programming</center></font></h1>\n",
    "    <h3><center>Problem Set # 1</center></h3>\n",
    "        <h4><left>Submitted by: Jijo John Joseph<left></h4>\n",
    "        <h4><left>Student ID: 200521777<left></h4>\n",
    "        <h4><left>Big Data Analytics <left></h4>"
   ]
  },
  {
   "cell_type": "markdown",
   "id": "b06339e2",
   "metadata": {},
   "source": [
    "# Problem Set 1- Introduction\n",
    "\n",
    "This problem set is based on lectures 1,2 and 3. For a complete list of topics please consult page 2 of the course syllabus. Please consult the “Instructions for Problem Set Submissions” document under course information before submitting your assignment.\n"
   ]
  },
  {
   "cell_type": "markdown",
   "id": "53fa3db3",
   "metadata": {},
   "source": [
    "# Question 1:\n",
    "What data type is each of the following (evaluate where necessary)?\n",
    "5 \n",
    "5.0\n",
    "5 > 1\n",
    "'5'\n",
    "5 * 2\n",
    "'5' * 2\n",
    "'5' + '2'\n",
    "5 / 2\n",
    "5 % 2\n",
    "{5, 2, 1}\n",
    "5 == 3\n",
    "Pi (the number)\n"
   ]
  },
  {
   "cell_type": "code",
   "execution_count": null,
   "id": "ac660f09",
   "metadata": {},
   "outputs": [],
   "source": [
    "## Answer:\n",
    "a) 5 --> 5  // Data Type -  Integer\n",
    "b) 5.0 --> 5.0 // Data Type -  Float\n",
    "c) 5 > 1 --> True  // Data Type -Boolean \n",
    "d) '5' -->  '5'  // Data Type- Character\n",
    "e) 5 * 2 --> 10   // Data Type - Integer \n",
    "f) '5' * 2 --> '55' // Data Type - String \n",
    "g) '5' + '2'--> '52' // Data Type- String\n",
    "h) 5 / 2 --> 2,5 // Data Type- Float \n",
    "i) 5 % 2 --> 1 // Data Type- Integer\n",
    "j) {5, 2, 1} --> Data Type- Dictionary\n",
    "k) 5 == 3 --> False // Data Type- Boolean\n",
    "l) Pi (the number) --> 3.14 // Data Type - Float\n"
   ]
  },
  {
   "cell_type": "markdown",
   "id": "d1f23ef2",
   "metadata": {},
   "source": [
    "#  Question 2:\n",
    "\n",
    "Write (and evaluate) python expressions that answer these questions:\n",
    "\n",
    "a. How many letters are there in 'Supercalifragilisticexpialidocious'?\n",
    "\n",
    "Reference :https://www.tutorialspoint.com/find-length-of-a-string-in-python-3-ways\n",
    "\n",
    "b. Does 'Supercalifragilisticexpialidocious' contain 'ice' as a substring? \n",
    "\n",
    "Reference :https://stackoverflow.com/questions/5319922/check-if-a-word-is-in-a-string-in-python\n",
    "\n",
    "c. Which of the following words is the longest: \n",
    "   Supercalifragilisticexpialidocious, Honorificabilitudinitatibus, or \n",
    "   Bababadalgharaghtakamminarronnkonn? \n",
    "   \n",
    "d. Which composer comes first in the dictionary: 'Berlioz', 'Borodin', 'Brian', \n",
    "'Bartok', 'Bellini', 'Buxtehude', 'Bernstein'. Which one comes last?\n"
   ]
  },
  {
   "cell_type": "code",
   "execution_count": 95,
   "id": "ad4d1797",
   "metadata": {},
   "outputs": [
    {
     "name": "stdout",
     "output_type": "stream",
     "text": [
      "\n",
      "Answer 1 --> Length 34\n"
     ]
    }
   ],
   "source": [
    "## Answer a:\n",
    "\n",
    "string = 'Supercalifragilisticexpialidocious' # Declared a string variable to store the string -->Supercalifragilisticexpialidocious\n",
    "print(\"\\nAnswer 1 --> Length\",len(string)) # Print te length of the string"
   ]
  },
  {
   "cell_type": "code",
   "execution_count": 96,
   "id": "526ce183",
   "metadata": {},
   "outputs": [
    {
     "name": "stdout",
     "output_type": "stream",
     "text": [
      "\n",
      "Answer 2 --> The string contains the word ice \n",
      " \n"
     ]
    }
   ],
   "source": [
    "## Answer b:\n",
    "\n",
    "string = 'Supercalifragilisticexpialidocious'# Declared a string variable to store the string -->Supercalifragilisticexpialidocious\n",
    "Tocheck = 'ice' # Assigned a variable Tocheck to store the substring which needs to be checked.\n",
    "\n",
    "if Tocheck in string: # Condition to check if the substring is found in the string\n",
    "    print (\"\\nAnswer 2 --> The string contains the word ice \\n \")\n",
    "else:\n",
    "    print (\"\\nAnswer 2 --> The string does not contain the word ice\\n\")"
   ]
  },
  {
   "cell_type": "code",
   "execution_count": 97,
   "id": "771a9b66",
   "metadata": {},
   "outputs": [
    {
     "name": "stdout",
     "output_type": "stream",
     "text": [
      "\n",
      "Answer 3:\n",
      " \n",
      "Length of string 1 = 34\n",
      "Length of string 2 = 27\n",
      "Length of string 3 = 34\n",
      "Length of String 1 is same as that of String 3 and hence they are the longest and have same length. \n",
      " Supercalifragilisticexpialidocious and Bababadalgharaghtakamminarronnkonn are the longest\n",
      "\n"
     ]
    }
   ],
   "source": [
    "## Answer c:\n",
    "\n",
    "string1 = 'Supercalifragilisticexpialidocious' # Declared the string 1 to variable 'string1'\n",
    "string2 = 'Honorificabilitudinitatibus'# Declared the string 2 to variable 'string 2'\n",
    "string3 = 'Bababadalgharaghtakamminarronnkonn'# Declared the string 3 to variable 'string3'\n",
    "\n",
    "len_string1 = len(string1) # To find the length of string 1\n",
    "len_string2 = len(string2) # To find the length of string 2\n",
    "len_string3 = len(string3) # To find the length of string 3\n",
    "\n",
    "print(\"\\nAnswer 3:\\n \")\n",
    "print(\"Length of string 1 =\",len_string1) # Display length of string 1\n",
    "print(\"Length of string 2 =\",len_string2) # Display length of string 2\n",
    "print(\"Length of string 3 =\",len_string3) # Display length of string 3\n",
    "# Condition to check if the string lenths are same\n",
    "if len_string1 == len_string2:\n",
    "    print(\"Length of String 1 is same as that of String 2 and hence they are the longest and have same length.\",\"\\n\",string1 , \"and\" , string2, \"are the longest\\n\" )\n",
    "elif len_string1 == len_string3:\n",
    "    print(\"Length of String 1 is same as that of String 3 and hence they are the longest and have same length.\",\"\\n\",string1 , \"and\" , string3, \"are the longest\\n\")\n",
    "elif len_string2 == len_string3:\n",
    "    print(\"Length of String 2 is same as that of String 3 and hence they are the longest and have same length.\",\"\\n\",string2 , \"and\" , string3, \"are the longest\\n\")\n",
    "\n",
    "# Condition to check if the string lenths are greater than the others\n",
    "elif len_string1 >= len_string2 and len_string1 >= len_string3:\n",
    "    print(\"Longest String is \\n \", string1)\n",
    "elif len_string2 >= len_string1 and len_string2 >= len_string3:\n",
    "    print(\"Longest String is \\n\", string2)\n",
    "else:\n",
    "    print(\"Longest String is \\n\" , string3)\n"
   ]
  },
  {
   "cell_type": "code",
   "execution_count": 98,
   "id": "23d1217c",
   "metadata": {},
   "outputs": [
    {
     "name": "stdout",
     "output_type": "stream",
     "text": [
      "Answer 4: \n",
      "\n",
      " The word appears first in dictionary is  Bartok\n",
      " The word appears last in dictionary is  Buxtehude\n"
     ]
    }
   ],
   "source": [
    "## Answer d:\n",
    "\n",
    "dictionary = {'Berlioz', 'Borodin', 'Brian', 'Bartok', 'Bellini', 'Buxtehude', 'Bernstein'} # Declared a dictionary that has all the words\n",
    "print(\"Answer 4: \\n\")\n",
    "print (\" The word appears first in dictionary is \" , min(dictionary) ) # Print the word using min function which comes first\n",
    "print (\" The word appears last in dictionary is \" , max(dictionary) ) # Print the word using max function which comes last\n"
   ]
  },
  {
   "cell_type": "markdown",
   "id": "c4d54052",
   "metadata": {},
   "source": [
    "# Question 3:\n",
    "\n",
    "Implement function triangleArea(a,b,c) that takes as input the lengths of the 3\n",
    "sides of a triangle and returns the area of the triangle. By Heron's formula, the area \n",
    "of a triangle with side lengths a, b, and c is\n",
    "s(s - a)(s -b)(s -c)\n",
    ", where \n",
    "s = (a+b+c)/2. \n",
    ">>> triangleArea(2,2,2)\n",
    "1.7320508075688772\n",
    "\n",
    "Reference: https://www.geeksforgeeks.org/check-if-a-point-lies-on-or-inside-a-rectangle-set-2/"
   ]
  },
  {
   "cell_type": "code",
   "execution_count": 99,
   "id": "dd6c71c8",
   "metadata": {},
   "outputs": [
    {
     "name": "stdout",
     "output_type": "stream",
     "text": [
      "Area of Triange is 1.7320508075688772\n"
     ]
    }
   ],
   "source": [
    "import math #import math module\n",
    "\n",
    "def triangleArea(a,b,c): # function to calculate the area of triangle using Heron's formula\n",
    "\n",
    "    s =(a+b+c)/2\n",
    "    p= (s-a)\n",
    "    q=(s-b)\n",
    "    r=(s-c)\n",
    "    Area= math.sqrt(s * (p)*(q)*(r))\n",
    "    return Area\n",
    "\n",
    "triarea = triangleArea(2,2,2) # Calling function with arguements\n",
    "print(\"Area of Triange is\", triarea) #Print the area of triangle"
   ]
  },
  {
   "cell_type": "markdown",
   "id": "fb5792a9",
   "metadata": {},
   "source": [
    "# Question 4\n",
    "Write a program in python to separate odd and even integers in separate arrays. Go \n",
    "to the editor\n",
    "Test Data :\n",
    "\n",
    "Input the number of elements to be stored in the array :5\n",
    "\n",
    "Input 5 elements in the array :\n",
    "element - 0 : 25\n",
    "element - 1 : 47\n",
    "element - 2 : 42\n",
    "element - 3 : 56\n",
    "element - 4 : 32\n",
    "Expected Output:\n",
    "The Even elements are:\n",
    "42 56 32\n",
    "The Odd elements are :\n",
    "25 47\n",
    "\n",
    "Reference:\n",
    "\n",
    "https://stackoverflow.com/questions/1514553/how-do-i-declare-an-array-in-python\n",
    "https://www.w3schools.com/python/python_for_loops.asp\n",
    "https://www.digitalocean.com/community/tutorials/python-add-to-array"
   ]
  },
  {
   "cell_type": "code",
   "execution_count": 100,
   "id": "1b54d1be",
   "metadata": {
    "scrolled": true
   },
   "outputs": [
    {
     "name": "stdout",
     "output_type": "stream",
     "text": [
      "Enter the number of elements to be stored: 5\n",
      "Enter 5 numbers\n",
      "element - 0: 25\n",
      "element - 1: 47\n",
      "element - 2: 42\n",
      "element - 3: 56\n",
      "element - 4: 32\n",
      "\n",
      "Even Numbers are:\n",
      "42 56 32 \n",
      "Odd Numbers are:\n",
      "25 47 "
     ]
    }
   ],
   "source": [
    "odd = []  #declaring a list to store odd number \n",
    "even = [] #declaring a list to store even number \n",
    "array = [] #declaring a list to store all the numbers\n",
    "number = int(input('Enter the number of elements to be stored: ')) # get input from the user for number of elements\n",
    "print('Enter', number, 'numbers')\n",
    "# Loop to get numbers and add it to the list 'array'\n",
    "for i in range(number): \n",
    "    num = int(input(\"element - {}: \".format(i)))\n",
    "    array.append(num)\n",
    "# Condition to check if the number is odd or even\n",
    "# Logic: If the number is divisible by 2 and returns the remainder 0 then it is even else it is odd\n",
    "for i in range(number):\n",
    "    if array[i] % 2 == 0:\n",
    "        even.append(array[i])\n",
    "    else:\n",
    "        odd.append(array[i])\n",
    "# Print the even numbers       \n",
    "print(\"\\nEven Numbers are:\")\n",
    "for n in even:\n",
    "    print(n, end=\" \")\n",
    "# Print the odd numbers\n",
    "print(\"\\nOdd Numbers are:\")\n",
    "for n in odd:\n",
    "    print(n, end=\" \")"
   ]
  },
  {
   "cell_type": "markdown",
   "id": "e81ffa8c",
   "metadata": {},
   "source": []
  },
  {
   "cell_type": "markdown",
   "id": "58e889fa",
   "metadata": {},
   "source": [
    "\n",
    "# Question 5\n",
    "\n",
    "Write a function inside(x,y,x1,y1,x2,y2) that returns True or False \n",
    "depending on whether the point (x,y) lies in the rectangle with lower left \n",
    "corner (x1,y1) and upper right corner (x2,y2).\n",
    "\n",
    ">>> inside(1,1,0,0,2,3)\n",
    "True\n",
    "\n",
    ">>> inside(-1,-1,0,0,2,3)\n",
    "False\n",
    "\n",
    "b. Use function inside() from part a. to write an expression that tests whether \n",
    "the point (1,1) lies in both of the following rectangles: one with lower left \n",
    "corner (0.3, 0.5) and upper right corner (1.1, 0.7) and the other with lower \n",
    "left corner (0.5, 0.2) and upper right corner (1.1, 2).\n",
    "\n",
    "References:https://www.tutorialspoint.com/check-whether-the-point-x-y-lies-on-a-given-line-in-python\n"
   ]
  },
  {
   "cell_type": "code",
   "execution_count": 101,
   "id": "9b9ce976",
   "metadata": {},
   "outputs": [
    {
     "name": "stdout",
     "output_type": "stream",
     "text": [
      "True\n",
      "False\n"
     ]
    }
   ],
   "source": [
    "def inside(x,y,x1,y1,x2,y2): #defining the function\n",
    "\n",
    "    if x1 <= x  <= x2 and y1 <=y <=y2: # conditions to check if the points are inside or outside\n",
    "        return True\n",
    "    else:\n",
    "        return False\n",
    "\n",
    "print(inside(1,1,0,0,2,3)) #passing parameters and calling the function with a true case\n",
    "\n",
    "print(inside(-1,-1,0,0,2,3))#passing parameters and calling the function with a false case"
   ]
  },
  {
   "cell_type": "markdown",
   "id": "8984be75",
   "metadata": {},
   "source": [
    "# Question 6\n",
    "\n",
    "You can turn a word into pig-Latin using the following two rules (simplified):\n",
    "• If the word starts with a consonant, move that letter to the end and append \n",
    "'ay'. For example, 'happy' becomes 'appyhay' and 'pencil' becomes 'encilpay'.\n",
    "• If the word starts with a vowel, simply append 'way' to the end of the word. \n",
    "For example, 'enter' becomes 'enterway' and 'other' becomes 'otherway' . For \n",
    "our purposes, there are 5 vowels: a, e, i, o, u (so we count y as a consonant).\n",
    "Write a function pig() that takes a word (i.e., a string) as input and returns its pig\u0002Latin form. Your function should still work if the input word contains upper case \n",
    "characters. Your output should always be lower case however. \n",
    ">>> pig('happy')\n",
    "'appyhay'\n",
    ">>> pig('Enter')\n",
    "'enterway'\n",
    "\n",
    "References: https://stackoverflow.com/questions/12924009/how-to-move-the-first-letter-of-a-word-to-the-end\n"
   ]
  },
  {
   "cell_type": "code",
   "execution_count": 102,
   "id": "69f8c0b4",
   "metadata": {},
   "outputs": [
    {
     "name": "stdout",
     "output_type": "stream",
     "text": [
      "['appyhay']\n",
      "['enterway']\n"
     ]
    }
   ],
   "source": [
    "def pig(stringset):#function created which takes the file name as arguement\n",
    "    inputstr = stringset.lower() # convert the input to lower case\n",
    "    inputsplt = inputstr.split() #split the word to each individual letter\n",
    "    con = ['b', 'c', 'd', 'f', 'g', 'h', 'j', 'k', 'l', 'm', 'n', 'p', 'q', 'r', 's', 't', 'v', 'w', 'x', 'y', 'z'] # consonents added to a list\n",
    "    resultstr = [] #empty list to store the result\n",
    "\n",
    "    for word in inputsplt: #loop to scan through the letters and checks if it is a consonent\n",
    "        if word[0] in con:\n",
    "            resultstr.append(word[1:] + word[0] + 'ay') # take the second letter in the list and add the first letter to the end with \"ay\"\n",
    "        else:\n",
    "            resultstr.append(word + 'way') # take the word and add \"way\" to the end\n",
    "    \n",
    "    return resultstr # function returns the final result\n",
    "\n",
    "print(pig('happy')) # calling the function with \"happy\" as arguement\n",
    "print(pig('Enter')) # calling the function with \"Enter\" as arguement"
   ]
  },
  {
   "cell_type": "markdown",
   "id": "0400fc08",
   "metadata": {},
   "source": [
    "# Question 7\n",
    "\n",
    "File bloodtype1.txt records blood-types of patients (A, B, AB, O or OO) at a clinic. \n",
    "Write a function bldcount() that reads the file with name name and reports (i.e., \n",
    "prints) how many patients there are in each bloodtype.\n",
    ">>> bldcount('bloodtype.txt')\n",
    "There are 10 patients of blood type A.\n",
    "There is one patient of blood type B.\n",
    "There are 10 patients of blood type AB.\n",
    "There are 12 patients of blood type O.\n",
    "There are no patients of blood type OO\n",
    "\n",
    "References:\n",
    "https://stackoverflow.com/questions/3142054/python-add-items-from-txt-file-into-a-list\n"
   ]
  },
  {
   "cell_type": "code",
   "execution_count": 103,
   "id": "bb959ce6",
   "metadata": {},
   "outputs": [],
   "source": [
    "def bldcount(bloodtype1): #function created which takes the file name as arguement\n",
    "    bldtype = {'O','OO','AB','A','B'}\n",
    "    fileinput = open(bloodtype1,'r') #read file\n",
    "    inputstr = fileinput.readline()\n",
    "    filelist = []\n",
    "   \n",
    "    filelist.append(inputstr.split(\" \")) #split the sting in the file and add it to the list\n",
    "    \n",
    "    #For loop will count the number of blood groups in the list\n",
    "    for word in bldtype:\n",
    "        print(\"There are {} patients of blood type {}\".format(filelist[0].count(word),word))\n"
   ]
  },
  {
   "cell_type": "code",
   "execution_count": 104,
   "id": "8ac1eeda",
   "metadata": {},
   "outputs": [
    {
     "name": "stdout",
     "output_type": "stream",
     "text": [
      "There are 15 patients of blood type O\n",
      "There are 0 patients of blood type OO\n",
      "There are 1 patients of blood type B\n",
      "There are 13 patients of blood type AB\n",
      "There are 15 patients of blood type A\n"
     ]
    }
   ],
   "source": [
    "bldcount('bloodtype1.txt')"
   ]
  },
  {
   "cell_type": "markdown",
   "id": "2410c0b0",
   "metadata": {},
   "source": [
    "# Question 8\n",
    "Write a function curconv() that takes as input:\n",
    "1. a currency represented using a string (e.g., 'JPY' for the Japanese Yen or \n",
    "'EUR' for the Euro)\n",
    "2. an amount\n",
    "and then converts and returns the amount in US dollars.\n",
    ">>> curconv('EUR', 100)\n",
    "122.96544\n",
    ">>> curconv('JPY', 100)\n",
    "1.241401\n",
    "The currency rates you will need are stored in file currencies.txt:\n",
    "AUD 1.0345157 Australian Dollar\n",
    "CHF 1.0237414 Swiss Franc\n",
    "CNY 0.1550176 Chinese Yua\n",
    "DKK 0.1651442 Danish Krone\n",
    "EUR 1.2296544 Euro\n",
    "GBP 1.5550989 British Pound\n",
    "HKD 0.1270207 Hong Kong Dollar\n",
    "INR 0.0177643 Indian Rupee\n",
    "JPY 0.01241401 Japanese Yen\n",
    "MXN 0.0751848 Mexican Peso\n",
    "MYR 0.3145411 Malaysian Ringgit\n",
    "NOK 0.1677063 Norwegian Krone\n",
    "NZD 0.8003591 New Zealand Dollar\n",
    "PHP 0.0233234 Philippine Peso\n",
    "SEK 0.148269 Swedish Krona\n",
    "SGD 0.788871 Singapore Dollar\n",
    "THB 0.0313789 Thai Baht\n",
    "\n",
    "Reference:https://stackoverflow.com/questions/35645299/list-the-first-words-per-line-from-a-text-file-in-python\n"
   ]
  },
  {
   "cell_type": "code",
   "execution_count": 105,
   "id": "4a5a283e",
   "metadata": {},
   "outputs": [],
   "source": [
    "def curconv(curr,amnt):\n",
    "    cur_dic = {}\n",
    "    \n",
    "    #reading the file\n",
    "    inputfile = open('currencies.txt')\n",
    "    lne = inputfile.readlines()\n",
    "    \n",
    "    #The loop will take the first three character and keep it as the value which is used based on the currency that was passed to the function\n",
    "    for word in lne:\n",
    "        cur_dic[word[:3].strip()] = word[4:].split(\"\\t\")\n",
    "    #the value of the currency is stored in the value\n",
    "    val = cur_dic[curr][0].strip()\n",
    "    print('Converted Amount is',amnt * float(val)) # THe amount is multiplied by the value extracted\n"
   ]
  },
  {
   "cell_type": "code",
   "execution_count": 106,
   "id": "5929bf93",
   "metadata": {},
   "outputs": [
    {
     "name": "stdout",
     "output_type": "stream",
     "text": [
      "Enter the currency you would like to convert?\n",
      "AUD\tAustralian Dollar \n",
      "CHF\tSwiss Franc\n",
      "CNY\tChinese Yuan\n",
      "DKK\tDanish Krone\n",
      "EUR\tEuro\n",
      "GBP\tBritish Pound\n",
      "HKD\tHong Kong Dollar\n",
      "INR\tIndian Rupeen\n",
      "JPY\tJapanese Yen\n",
      "MXN\tMexican Peso\n",
      "MYR\tMalaysian Ringgit\n",
      "NOK\tNorwegian Krone\n",
      "NZD\tNew Zealand Dollar\n",
      "PHP\tPhilippine Peso\n",
      "SEK\tSwedish Krona\n",
      "SGD\tSingapore Dollar\n",
      "THB\tThai Baht\n",
      "EUR\n",
      "Enter the amount\n",
      "100\n",
      "Converted Amount is 122.96544\n"
     ]
    }
   ],
   "source": [
    "curr = input('Enter the currency you would like to convert?\\nAUD\tAustralian Dollar \\nCHF\tSwiss Franc\\nCNY\tChinese Yuan\\nDKK\tDanish Krone\\nEUR\tEuro\\nGBP\tBritish Pound\\nHKD\tHong Kong Dollar\\nINR\tIndian Rupeen\\nJPY\tJapanese Yen\\nMXN\tMexican Peso\\nMYR\tMalaysian Ringgit\\nNOK\tNorwegian Krone\\nNZD\tNew Zealand Dollar\\nPHP\tPhilippine Peso\\nSEK\tSwedish Krona\\nSGD\tSingapore Dollar\\nTHB\tThai Baht\\n')\n",
    "amnt = int(input(('Enter the amount\\n')))\n",
    "\n",
    "curconv(curr,amnt)"
   ]
  },
  {
   "cell_type": "markdown",
   "id": "b76d3f10",
   "metadata": {},
   "source": [
    "# Question 9\n",
    "\n",
    "Each of the following will cause an exception (an error). Identify what type of \n",
    "exception each will cause."
   ]
  },
  {
   "cell_type": "code",
   "execution_count": 107,
   "id": "f0c94a6b",
   "metadata": {},
   "outputs": [
    {
     "ename": "SyntaxError",
     "evalue": "invalid character '‘' (U+2018) (257453148.py, line 1)",
     "output_type": "error",
     "traceback": [
      "\u001b[1;36m  Cell \u001b[1;32mIn[107], line 1\u001b[1;36m\u001b[0m\n\u001b[1;33m    --> Trying to add incompatible variables, as in adding 6 + ‘a’\u001b[0m\n\u001b[1;37m                                                               ^\u001b[0m\n\u001b[1;31mSyntaxError\u001b[0m\u001b[1;31m:\u001b[0m invalid character '‘' (U+2018)\n"
     ]
    }
   ],
   "source": [
    "--> Trying to add incompatible variables, as in adding 6 + ‘a’\n",
    "\n",
    "Answer : TypeError\n",
    "\n",
    "--> Referring to the 12th item of a list that has only 10 items\n",
    "\n",
    "Answer : IndexError\n",
    "\n",
    "--> Using a value that is out of range for a function’s input, such as calling math.sqrt(-1.0)\n",
    "\n",
    "Answer : ValueError\n",
    "\n",
    "--> Using an undeclared variable, such as print(x) when x has not been defined\n",
    "\n",
    "Answer : NameError\n",
    "\n",
    "--> Trying to open a file that does not exist, such as mistyping the file name or looking in the wrong directory\n",
    "\n",
    "Answer : FileNotFoundError"
   ]
  },
  {
   "cell_type": "code",
   "execution_count": 108,
   "id": "aec21bd2",
   "metadata": {},
   "outputs": [
    {
     "ename": "TypeError",
     "evalue": "unsupported operand type(s) for +: 'int' and 'str'",
     "output_type": "error",
     "traceback": [
      "\u001b[1;31m---------------------------------------------------------------------------\u001b[0m",
      "\u001b[1;31mTypeError\u001b[0m                                 Traceback (most recent call last)",
      "Cell \u001b[1;32mIn[108], line 1\u001b[0m\n\u001b[1;32m----> 1\u001b[0m \u001b[38;5;241;43m6\u001b[39;49m\u001b[43m \u001b[49m\u001b[38;5;241;43m+\u001b[39;49m\u001b[43m \u001b[49m\u001b[38;5;124;43m'\u001b[39;49m\u001b[38;5;124;43ma\u001b[39;49m\u001b[38;5;124;43m'\u001b[39;49m\n",
      "\u001b[1;31mTypeError\u001b[0m: unsupported operand type(s) for +: 'int' and 'str'"
     ]
    }
   ],
   "source": [
    "6 + 'a'"
   ]
  },
  {
   "cell_type": "code",
   "execution_count": 109,
   "id": "ef544050",
   "metadata": {},
   "outputs": [
    {
     "ename": "IndexError",
     "evalue": "list index out of range",
     "output_type": "error",
     "traceback": [
      "\u001b[1;31m---------------------------------------------------------------------------\u001b[0m",
      "\u001b[1;31mIndexError\u001b[0m                                Traceback (most recent call last)",
      "Cell \u001b[1;32mIn[109], line 2\u001b[0m\n\u001b[0;32m      1\u001b[0m example \u001b[38;5;241m=\u001b[39m [\u001b[38;5;241m50\u001b[39m,\u001b[38;5;241m60\u001b[39m,\u001b[38;5;241m70\u001b[39m,\u001b[38;5;241m80\u001b[39m]\n\u001b[1;32m----> 2\u001b[0m \u001b[38;5;28mprint\u001b[39m(\u001b[43mexample\u001b[49m\u001b[43m[\u001b[49m\u001b[38;5;241;43m10\u001b[39;49m\u001b[43m]\u001b[49m)\n",
      "\u001b[1;31mIndexError\u001b[0m: list index out of range"
     ]
    }
   ],
   "source": [
    "example = [50,60,70,80]\n",
    "print(example[10])"
   ]
  },
  {
   "cell_type": "code",
   "execution_count": 110,
   "id": "2ff39297",
   "metadata": {},
   "outputs": [
    {
     "ename": "ValueError",
     "evalue": "math domain error",
     "output_type": "error",
     "traceback": [
      "\u001b[1;31m---------------------------------------------------------------------------\u001b[0m",
      "\u001b[1;31mValueError\u001b[0m                                Traceback (most recent call last)",
      "Cell \u001b[1;32mIn[110], line 2\u001b[0m\n\u001b[0;32m      1\u001b[0m \u001b[38;5;28;01mimport\u001b[39;00m \u001b[38;5;21;01mmath\u001b[39;00m\n\u001b[1;32m----> 2\u001b[0m \u001b[43mmath\u001b[49m\u001b[38;5;241;43m.\u001b[39;49m\u001b[43msqrt\u001b[49m\u001b[43m(\u001b[49m\u001b[38;5;241;43m-\u001b[39;49m\u001b[38;5;241;43m1.0\u001b[39;49m\u001b[43m)\u001b[49m\n",
      "\u001b[1;31mValueError\u001b[0m: math domain error"
     ]
    }
   ],
   "source": [
    "import math\n",
    "math.sqrt(-1.0)"
   ]
  },
  {
   "cell_type": "code",
   "execution_count": 111,
   "id": "5426e77b",
   "metadata": {},
   "outputs": [
    {
     "ename": "NameError",
     "evalue": "name 'x' is not defined",
     "output_type": "error",
     "traceback": [
      "\u001b[1;31m---------------------------------------------------------------------------\u001b[0m",
      "\u001b[1;31mNameError\u001b[0m                                 Traceback (most recent call last)",
      "Cell \u001b[1;32mIn[111], line 2\u001b[0m\n\u001b[0;32m      1\u001b[0m a\u001b[38;5;241m=\u001b[39m\u001b[38;5;241m1\u001b[39m\n\u001b[1;32m----> 2\u001b[0m \u001b[38;5;28mprint\u001b[39m(\u001b[43mx\u001b[49m)\n",
      "\u001b[1;31mNameError\u001b[0m: name 'x' is not defined"
     ]
    }
   ],
   "source": [
    "a=1\n",
    "print(x)"
   ]
  },
  {
   "cell_type": "code",
   "execution_count": 112,
   "id": "c01d7183",
   "metadata": {},
   "outputs": [
    {
     "ename": "FileNotFoundError",
     "evalue": "[Errno 2] No such file or directory: 'example.txt'",
     "output_type": "error",
     "traceback": [
      "\u001b[1;31m---------------------------------------------------------------------------\u001b[0m",
      "\u001b[1;31mFileNotFoundError\u001b[0m                         Traceback (most recent call last)",
      "Cell \u001b[1;32mIn[112], line 1\u001b[0m\n\u001b[1;32m----> 1\u001b[0m a \u001b[38;5;241m=\u001b[39m \u001b[38;5;28;43mopen\u001b[39;49m\u001b[43m(\u001b[49m\u001b[38;5;124;43m\"\u001b[39;49m\u001b[38;5;124;43mexample.txt\u001b[39;49m\u001b[38;5;124;43m\"\u001b[39;49m\u001b[43m)\u001b[49m\n",
      "File \u001b[1;32mC:\\ProgramData\\anaconda3\\lib\\site-packages\\IPython\\core\\interactiveshell.py:282\u001b[0m, in \u001b[0;36m_modified_open\u001b[1;34m(file, *args, **kwargs)\u001b[0m\n\u001b[0;32m    275\u001b[0m \u001b[38;5;28;01mif\u001b[39;00m file \u001b[38;5;129;01min\u001b[39;00m {\u001b[38;5;241m0\u001b[39m, \u001b[38;5;241m1\u001b[39m, \u001b[38;5;241m2\u001b[39m}:\n\u001b[0;32m    276\u001b[0m     \u001b[38;5;28;01mraise\u001b[39;00m \u001b[38;5;167;01mValueError\u001b[39;00m(\n\u001b[0;32m    277\u001b[0m         \u001b[38;5;124mf\u001b[39m\u001b[38;5;124m\"\u001b[39m\u001b[38;5;124mIPython won\u001b[39m\u001b[38;5;124m'\u001b[39m\u001b[38;5;124mt let you open fd=\u001b[39m\u001b[38;5;132;01m{\u001b[39;00mfile\u001b[38;5;132;01m}\u001b[39;00m\u001b[38;5;124m by default \u001b[39m\u001b[38;5;124m\"\u001b[39m\n\u001b[0;32m    278\u001b[0m         \u001b[38;5;124m\"\u001b[39m\u001b[38;5;124mas it is likely to crash IPython. If you know what you are doing, \u001b[39m\u001b[38;5;124m\"\u001b[39m\n\u001b[0;32m    279\u001b[0m         \u001b[38;5;124m\"\u001b[39m\u001b[38;5;124myou can use builtins\u001b[39m\u001b[38;5;124m'\u001b[39m\u001b[38;5;124m open.\u001b[39m\u001b[38;5;124m\"\u001b[39m\n\u001b[0;32m    280\u001b[0m     )\n\u001b[1;32m--> 282\u001b[0m \u001b[38;5;28;01mreturn\u001b[39;00m io_open(file, \u001b[38;5;241m*\u001b[39margs, \u001b[38;5;241m*\u001b[39m\u001b[38;5;241m*\u001b[39mkwargs)\n",
      "\u001b[1;31mFileNotFoundError\u001b[0m: [Errno 2] No such file or directory: 'example.txt'"
     ]
    }
   ],
   "source": [
    "a = open(\"example.txt\")"
   ]
  },
  {
   "cell_type": "markdown",
   "id": "b7daa141",
   "metadata": {},
   "source": [
    "# Question 10\n",
    "\n",
    "Encryption is the process of hiding the meaning of a text by substituting letters in the message with other letters, according to some system. If the process is successful, no one but the intended recipient can understand the encrypted message. Cryptanalysis refers to attempts to undo the encryption, even if some details of the encryption are unknown (for example, if an encrypted message has been intercepted). The first step of cryptanalysis is often to build up a table of letter frequencies in the encrypted text. Assume that the string letters is already defined as 'abcdefghijklmnopqrstuvwxyz'. Write a function called frequencies() that takes a string as its only parameter, and returns a list of integers, showing the number of times each character appears in the text. Your function may ignore any \n",
    "characters that are not in letters. \n",
    ">>> frequencies('The quick red fox got bored and went home.')\n",
    "[1, 1, 1, 3, 5, 1, 1, 2, 1, 0, 1, 0, 1, 2, 4, 0, 1, 2, 0, 2, \n",
    "1, 0, 1, 1, 0, 0]\n",
    ">>> frequencies('apple')\n",
    "\n",
    "References:\n",
    "https://stackoverflow.com/questions/23910595/counting-letters-in-a-string-python"
   ]
  },
  {
   "cell_type": "code",
   "execution_count": 128,
   "id": "07fd3001",
   "metadata": {},
   "outputs": [],
   "source": [
    "def frequencies(text):\n",
    "    \n",
    "    alphabet = ['a','b','c','d','e','f','g','h','i','j','k','l','m','n','o','p','q','r','s','t','u','v','w','x','y','z']\n",
    "    \n",
    "    # A counter is initialized to get the count of alphabets\n",
    "    counter = [0] * len(alphabet)\n",
    "    \n",
    "    # Lopp to find the number of occurances of each character\n",
    "    for char in text:\n",
    "        if char.lower() in alphabet:\n",
    "            # To find the occurance of the character and save it in position\n",
    "            pos = alphabet.index(char.lower())\n",
    "            # If it is true , the counter is increamented by 1\n",
    "            counter[pos] = counter[pos] + 1\n",
    "    return counter"
   ]
  },
  {
   "cell_type": "code",
   "execution_count": 129,
   "id": "c39f14d6",
   "metadata": {},
   "outputs": [
    {
     "data": {
      "text/plain": [
       "[1, 1, 1, 3, 5, 1, 1, 2, 1, 0, 1, 0, 1, 2, 4, 0, 1, 2, 0, 3, 1, 0, 1, 1, 0, 0]"
      ]
     },
     "execution_count": 129,
     "metadata": {},
     "output_type": "execute_result"
    }
   ],
   "source": [
    "frequencies('The quick red fox got bored and went home')\n"
   ]
  }
 ],
 "metadata": {
  "kernelspec": {
   "display_name": "Python 3 (ipykernel)",
   "language": "python",
   "name": "python3"
  },
  "language_info": {
   "codemirror_mode": {
    "name": "ipython",
    "version": 3
   },
   "file_extension": ".py",
   "mimetype": "text/x-python",
   "name": "python",
   "nbconvert_exporter": "python",
   "pygments_lexer": "ipython3",
   "version": "3.10.9"
  }
 },
 "nbformat": 4,
 "nbformat_minor": 5
}
