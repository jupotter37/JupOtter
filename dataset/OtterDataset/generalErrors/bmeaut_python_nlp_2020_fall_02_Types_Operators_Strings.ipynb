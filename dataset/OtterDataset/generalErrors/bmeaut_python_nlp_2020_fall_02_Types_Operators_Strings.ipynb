{
 "cells": [
  {
   "cell_type": "markdown",
   "metadata": {
    "slideshow": {
     "slide_type": "slide"
    }
   },
   "source": [
    "# Introduction to Python and Natural Language Technologies\n",
    "\n",
    "__Lecture 01-2, Type system and built-in types__\n",
    "\n",
    "__Sept 16, 2020__\n",
    "\n",
    "__Judit Ács__"
   ]
  },
  {
   "cell_type": "markdown",
   "metadata": {
    "slideshow": {
     "slide_type": "slide"
    }
   },
   "source": [
    "# Type system\n",
    "\n",
    "__Dynamic__:\n",
    "- No need to declare variables\n",
    "- The `=` operator binds a reference to any arbitrary object"
   ]
  },
  {
   "cell_type": "code",
   "execution_count": null,
   "metadata": {},
   "outputs": [],
   "source": [
    "i = 2\n",
    "type(i), id(i)"
   ]
  },
  {
   "cell_type": "code",
   "execution_count": null,
   "metadata": {
    "slideshow": {
     "slide_type": "-"
    }
   },
   "outputs": [],
   "source": [
    "i = \"foo\"\n",
    "type(i), id(i)"
   ]
  },
  {
   "cell_type": "markdown",
   "metadata": {
    "slideshow": {
     "slide_type": "subslide"
    }
   },
   "source": [
    "__Strongly typed__:\n",
    "- Most implicit conversions are disallowed such as between strings and numeric types:"
   ]
  },
  {
   "cell_type": "code",
   "execution_count": null,
   "metadata": {},
   "outputs": [],
   "source": [
    "# print(\"I am \" + 20 + \" years old\")"
   ]
  },
  {
   "cell_type": "markdown",
   "metadata": {
    "slideshow": {
     "slide_type": "fragment"
    }
   },
   "source": [
    "We must explicitely cast it:"
   ]
  },
  {
   "cell_type": "code",
   "execution_count": null,
   "metadata": {},
   "outputs": [],
   "source": [
    "print(\"I am \" + str(20) + \" years old\")"
   ]
  },
  {
   "cell_type": "markdown",
   "metadata": {
    "slideshow": {
     "slide_type": "subslide"
    }
   },
   "source": [
    "Note that many other languages like Javascript allow implicit casting:"
   ]
  },
  {
   "cell_type": "code",
   "execution_count": null,
   "metadata": {},
   "outputs": [],
   "source": [
    "%%javascript\n",
    "\n",
    "element.text(\"I am \" + 20 + \" years old\")"
   ]
  },
  {
   "cell_type": "code",
   "execution_count": null,
   "metadata": {},
   "outputs": [],
   "source": [
    "%%javascript\n",
    "\n",
    "element.text(\"1\" + 1)"
   ]
  },
  {
   "cell_type": "code",
   "execution_count": null,
   "metadata": {
    "slideshow": {
     "slide_type": "-"
    }
   },
   "outputs": [],
   "source": [
    "%%javascript\n",
    "\n",
    "element.text(1 + \"1\")"
   ]
  },
  {
   "cell_type": "markdown",
   "metadata": {
    "slideshow": {
     "slide_type": "subslide"
    }
   },
   "source": [
    "Conversions between numeric types are OK:"
   ]
  },
  {
   "cell_type": "code",
   "execution_count": null,
   "metadata": {
    "slideshow": {
     "slide_type": "fragment"
    }
   },
   "outputs": [],
   "source": [
    "i = 2\n",
    "f = 1.2\n",
    "s = i + f\n",
    "print(type(i), type(f))\n",
    "print(type(i + f))\n",
    "print(s)"
   ]
  },
  {
   "cell_type": "markdown",
   "metadata": {
    "slideshow": {
     "slide_type": "slide"
    }
   },
   "source": [
    "# Boolean operators and type"
   ]
  },
  {
   "cell_type": "markdown",
   "metadata": {
    "slideshow": {
     "slide_type": "subslide"
    }
   },
   "source": [
    "Three boolean operators: `and`, `or` and `not`"
   ]
  },
  {
   "cell_type": "code",
   "execution_count": null,
   "metadata": {
    "slideshow": {
     "slide_type": "fragment"
    }
   },
   "outputs": [],
   "source": [
    "x = 2\n",
    "\n",
    "x < 2 or x >= 2"
   ]
  },
  {
   "cell_type": "code",
   "execution_count": null,
   "metadata": {},
   "outputs": [],
   "source": [
    "x > 0 and x < 10"
   ]
  },
  {
   "cell_type": "code",
   "execution_count": null,
   "metadata": {},
   "outputs": [],
   "source": [
    "not x < 0"
   ]
  },
  {
   "cell_type": "markdown",
   "metadata": {
    "slideshow": {
     "slide_type": "slide"
    }
   },
   "source": [
    "Two boolean values: `True` and `False` (must be capitalized)"
   ]
  },
  {
   "cell_type": "code",
   "execution_count": null,
   "metadata": {},
   "outputs": [],
   "source": [
    "x = True\n",
    "type(x)"
   ]
  },
  {
   "cell_type": "code",
   "execution_count": null,
   "metadata": {},
   "outputs": [],
   "source": [
    "True and False"
   ]
  },
  {
   "cell_type": "code",
   "execution_count": null,
   "metadata": {},
   "outputs": [],
   "source": [
    "True or False"
   ]
  },
  {
   "cell_type": "code",
   "execution_count": null,
   "metadata": {},
   "outputs": [],
   "source": [
    "not True"
   ]
  },
  {
   "cell_type": "markdown",
   "metadata": {
    "slideshow": {
     "slide_type": "slide"
    }
   },
   "source": [
    "# Numeric types\n",
    "\n",
    "Three numeric types: __`int`__, __`float`__ and __`complex`__ <br/>\n",
    "\n",
    "An object's type is derived from its initial value:"
   ]
  },
  {
   "cell_type": "code",
   "execution_count": null,
   "metadata": {
    "slideshow": {
     "slide_type": "fragment"
    }
   },
   "outputs": [],
   "source": [
    "i = 2\n",
    "f = 1.2\n",
    "c = 1+2j\n",
    "\n",
    "type(i), type(f), type(c)"
   ]
  },
  {
   "cell_type": "markdown",
   "metadata": {
    "slideshow": {
     "slide_type": "subslide"
    }
   },
   "source": [
    "Implicit conversion between numeric types is supported in arithmetic operations, the resulting type is the one with less data loss:"
   ]
  },
  {
   "cell_type": "code",
   "execution_count": null,
   "metadata": {},
   "outputs": [],
   "source": [
    "c2 = i + c\n",
    "print(c2, type(c2))"
   ]
  },
  {
   "cell_type": "markdown",
   "metadata": {},
   "source": [
    "Floats can be defined using __scientific notation__:"
   ]
  },
  {
   "cell_type": "code",
   "execution_count": null,
   "metadata": {},
   "outputs": [],
   "source": [
    "1e2, 1E2"
   ]
  },
  {
   "cell_type": "markdown",
   "metadata": {},
   "source": [
    "## Underscores in numeric literals\n",
    "\n",
    "Examples from [PEP 0515](https://www.python.org/dev/peps/pep-0515/):"
   ]
  },
  {
   "cell_type": "code",
   "execution_count": null,
   "metadata": {},
   "outputs": [],
   "source": [
    "# grouping decimal numbers by thousands\n",
    "amount = 10_000_000.0\n",
    "\n",
    "# grouping hexadecimal addresses by words\n",
    "addr = 0xCAFE_F00D\n",
    "\n",
    "# grouping bits into nibbles in a binary literal\n",
    "flags = 0b_0011_1111_0100_1110\n",
    "\n",
    "# same, for string conversions\n",
    "flags = int('0b_1111_0000', 2)\n",
    "\n",
    "# two or more consecutive underscores are not allowed\n",
    "# 2__4  # SyntaxError"
   ]
  },
  {
   "cell_type": "markdown",
   "metadata": {
    "slideshow": {
     "slide_type": "slide"
    }
   },
   "source": [
    "## Precision and range\n",
    "\n",
    "Integers have unlimited precision."
   ]
  },
  {
   "cell_type": "code",
   "execution_count": null,
   "metadata": {},
   "outputs": [],
   "source": [
    "type(2**63 + 1)"
   ]
  },
  {
   "cell_type": "markdown",
   "metadata": {},
   "source": [
    "More information in `sys.int_info`:"
   ]
  },
  {
   "cell_type": "code",
   "execution_count": null,
   "metadata": {
    "slideshow": {
     "slide_type": "fragment"
    }
   },
   "outputs": [],
   "source": [
    "sys.int_info"
   ]
  },
  {
   "cell_type": "markdown",
   "metadata": {
    "slideshow": {
     "slide_type": "subslide"
    }
   },
   "source": [
    "Floats are usually implemented using C's double.<br />\n",
    "Complex numbers use two floats for their real and imaginary parts.<br/>\n",
    "Check `sys.float_info` for more information:"
   ]
  },
  {
   "cell_type": "code",
   "execution_count": null,
   "metadata": {
    "slideshow": {
     "slide_type": "subslide"
    }
   },
   "outputs": [],
   "source": [
    "import sys\n",
    "sys.float_info"
   ]
  },
  {
   "cell_type": "markdown",
   "metadata": {
    "slideshow": {
     "slide_type": "slide"
    }
   },
   "source": [
    "## Arithmetic operators\n",
    "\n",
    "Addition, subtraction and product result in a type with the least loss in information:"
   ]
  },
  {
   "cell_type": "code",
   "execution_count": null,
   "metadata": {},
   "outputs": [],
   "source": [
    "i = 2\n",
    "f = 4.2\n",
    "c = 4.1-3j\n",
    "\n",
    "s1 = i + f\n",
    "s2 = f - c\n",
    "s3 = i * c\n",
    "print(s1, type(s1))\n",
    "print(s2, type(s2))\n",
    "print(s3, type(s3))"
   ]
  },
  {
   "cell_type": "markdown",
   "metadata": {
    "slideshow": {
     "slide_type": "subslide"
    }
   },
   "source": [
    "__quotient operator__\n",
    "\n",
    "In Python3 operator/ computes the float quotient even if the operands are both integers unlike in C++ or Python2:"
   ]
  },
  {
   "cell_type": "code",
   "execution_count": null,
   "metadata": {},
   "outputs": [],
   "source": [
    "3 / 2"
   ]
  },
  {
   "cell_type": "markdown",
   "metadata": {
    "slideshow": {
     "slide_type": "subslide"
    }
   },
   "source": [
    "Explicit __floor quotient operator__"
   ]
  },
  {
   "cell_type": "code",
   "execution_count": null,
   "metadata": {},
   "outputs": [],
   "source": [
    "-3.0 // 2, 3 // 2"
   ]
  },
  {
   "cell_type": "markdown",
   "metadata": {
    "slideshow": {
     "slide_type": "slide"
    }
   },
   "source": [
    "## Comparison operators"
   ]
  },
  {
   "cell_type": "code",
   "execution_count": null,
   "metadata": {},
   "outputs": [],
   "source": [
    "x = 23\n",
    "x < 24, x >= 22"
   ]
  },
  {
   "cell_type": "markdown",
   "metadata": {
    "slideshow": {
     "slide_type": "subslide"
    }
   },
   "source": [
    "Operators can be chained:"
   ]
  },
  {
   "cell_type": "code",
   "execution_count": null,
   "metadata": {},
   "outputs": [],
   "source": [
    "23 < x < 100"
   ]
  },
  {
   "cell_type": "code",
   "execution_count": null,
   "metadata": {},
   "outputs": [],
   "source": [
    "23 <= x < 100"
   ]
  },
  {
   "cell_type": "markdown",
   "metadata": {
    "slideshow": {
     "slide_type": "slide"
    }
   },
   "source": [
    "## Other operators for numeric types\n",
    "\n",
    "__remainder__"
   ]
  },
  {
   "cell_type": "code",
   "execution_count": null,
   "metadata": {},
   "outputs": [],
   "source": [
    "5 % 3"
   ]
  },
  {
   "cell_type": "markdown",
   "metadata": {
    "slideshow": {
     "slide_type": "-"
    }
   },
   "source": [
    "__power__"
   ]
  },
  {
   "cell_type": "code",
   "execution_count": null,
   "metadata": {},
   "outputs": [],
   "source": [
    "2 ** 3"
   ]
  },
  {
   "cell_type": "markdown",
   "metadata": {},
   "source": [
    "Using it for square root:"
   ]
  },
  {
   "cell_type": "code",
   "execution_count": null,
   "metadata": {},
   "outputs": [],
   "source": [
    "2 ** 0.5"
   ]
  },
  {
   "cell_type": "markdown",
   "metadata": {
    "slideshow": {
     "slide_type": "subslide"
    }
   },
   "source": [
    "__absolute value__"
   ]
  },
  {
   "cell_type": "code",
   "execution_count": null,
   "metadata": {},
   "outputs": [],
   "source": [
    "abs(-2 - 1j), abs(1+1j)"
   ]
  },
  {
   "cell_type": "markdown",
   "metadata": {
    "slideshow": {
     "slide_type": "-"
    }
   },
   "source": [
    "__round__"
   ]
  },
  {
   "cell_type": "code",
   "execution_count": null,
   "metadata": {},
   "outputs": [],
   "source": [
    "round(2.3456), round(2.3456, 2)"
   ]
  },
  {
   "cell_type": "markdown",
   "metadata": {
    "slideshow": {
     "slide_type": "subslide"
    }
   },
   "source": [
    "## Explicit conversions between numeric types"
   ]
  },
  {
   "cell_type": "code",
   "execution_count": null,
   "metadata": {},
   "outputs": [],
   "source": [
    "float(2)"
   ]
  },
  {
   "cell_type": "code",
   "execution_count": null,
   "metadata": {},
   "outputs": [],
   "source": [
    "int(2.5)"
   ]
  },
  {
   "cell_type": "markdown",
   "metadata": {
    "slideshow": {
     "slide_type": "subslide"
    }
   },
   "source": [
    "## `math` and `cmath`\n",
    "\n",
    "Additional operations for real and complex numbers:"
   ]
  },
  {
   "cell_type": "code",
   "execution_count": null,
   "metadata": {},
   "outputs": [],
   "source": [
    "import math\n",
    "\n",
    "math.log(16), math.log(16, 2), math.exp(2), \\\n",
    "math.exp(math.log(10))"
   ]
  },
  {
   "cell_type": "markdown",
   "metadata": {
    "slideshow": {
     "slide_type": "slide"
    }
   },
   "source": [
    "# Mutable vs. immutable types\n",
    "\n",
    "- Instances of mutable types can be modified in place\n",
    "- Immutable objects have the same value during their lifetime\n",
    "- Are numeric types mutable or immutable?"
   ]
  },
  {
   "cell_type": "code",
   "execution_count": null,
   "metadata": {
    "slideshow": {
     "slide_type": "fragment"
    }
   },
   "outputs": [],
   "source": [
    "x = 2\n",
    "old_id = id(x)\n",
    "x += 1\n",
    "print(id(x) == old_id)"
   ]
  },
  {
   "cell_type": "markdown",
   "metadata": {
    "slideshow": {
     "slide_type": "subslide"
    }
   },
   "source": [
    "Booleans are singleton immutable objects."
   ]
  },
  {
   "cell_type": "code",
   "execution_count": null,
   "metadata": {},
   "outputs": [],
   "source": [
    "x = True\n",
    "y = False\n",
    "print(x is y)\n",
    "x = False\n",
    "print(x is y)"
   ]
  },
  {
   "cell_type": "code",
   "execution_count": null,
   "metadata": {},
   "outputs": [],
   "source": [
    "(2 == 2) is (3 == 3)"
   ]
  },
  {
   "cell_type": "markdown",
   "metadata": {
    "slideshow": {
     "slide_type": "subslide"
    }
   },
   "source": [
    "Lists are mutable:"
   ]
  },
  {
   "cell_type": "code",
   "execution_count": null,
   "metadata": {},
   "outputs": [],
   "source": [
    "l1 = [0, 1]\n",
    "old_id = id(l1)\n",
    "l1.append(2)\n",
    "old_id == id(l1)"
   ]
  },
  {
   "cell_type": "markdown",
   "metadata": {
    "slideshow": {
     "slide_type": "slide"
    }
   },
   "source": [
    "# Sequence types\n",
    "\n",
    "All sequences support the following basic operations:\n",
    "\n",
    "| operation | behaviour |\n",
    "| :----- | :----- |\n",
    "| `x in s` | \tTrue if an item of s is equal to x, else False |\n",
    "| `x not in s` | \tFalse if an item of s is equal to x, else True |\n",
    "| `s + t` | \tthe concatenation of s and t |\n",
    "| `s * n or n * s` | \tequivalent to adding s to itself n times |\n",
    "| `s[i]` | \tith item of s, origin 0 |\n",
    "| `s[i:j]` | \tslice of s from i to j |\n",
    "| `s[i:j:k]` | \tslice of s from i to j with step k |\n",
    "| `len(s)` | \tlength of s |\n",
    "| `min(s)` | \tsmallest item of s |\n",
    "| `max(s)` | \tlargest item of s |\n",
    "| `s.index(x[, i[, j]])` | \tindex of the first occurrence of x in s (at or after index i and before index j) |\n",
    "| `s.count(x)` | \ttotal number of occurrences of x in s |\n",
    "\n",
    "[Table source](https://docs.python.org/3/library/stdtypes.html#common-sequence-operations)"
   ]
  },
  {
   "cell_type": "markdown",
   "metadata": {
    "slideshow": {
     "slide_type": "subslide"
    }
   },
   "source": [
    "## Traversing sequences\n",
    "\n",
    "All sequence types can be traversed with for loops:"
   ]
  },
  {
   "cell_type": "code",
   "execution_count": null,
   "metadata": {},
   "outputs": [],
   "source": [
    "l = [1, -1, \"foo\", 2, \"bar\"]\n",
    "for element in l:\n",
    "    print(element)"
   ]
  },
  {
   "cell_type": "markdown",
   "metadata": {
    "slideshow": {
     "slide_type": "subslide"
    }
   },
   "source": [
    "__`enumerate`__\n",
    "\n",
    "If we need the indices too, the built-in `enumerate` function iterates over index-element pairs:"
   ]
  },
  {
   "cell_type": "code",
   "execution_count": null,
   "metadata": {},
   "outputs": [],
   "source": [
    "for i, element in enumerate(l):\n",
    "    print(i, element)"
   ]
  },
  {
   "cell_type": "markdown",
   "metadata": {
    "slideshow": {
     "slide_type": "slide"
    }
   },
   "source": [
    "## `list`\n",
    "\n",
    "Mutable sequence type:"
   ]
  },
  {
   "cell_type": "code",
   "execution_count": null,
   "metadata": {},
   "outputs": [],
   "source": [
    "l = [1, 2, 2, 3]\n",
    "print(l, l[1])"
   ]
  },
  {
   "cell_type": "code",
   "execution_count": null,
   "metadata": {},
   "outputs": [],
   "source": [
    "# l[4]  # raises IndexError"
   ]
  },
  {
   "cell_type": "markdown",
   "metadata": {},
   "source": [
    "Negative indexing supported:"
   ]
  },
  {
   "cell_type": "code",
   "execution_count": null,
   "metadata": {},
   "outputs": [],
   "source": [
    "l[-1], l[len(l)-1]"
   ]
  },
  {
   "cell_type": "markdown",
   "metadata": {},
   "source": [
    "But it can also me out of range"
   ]
  },
  {
   "cell_type": "code",
   "execution_count": null,
   "metadata": {},
   "outputs": [],
   "source": [
    "l[-5]  # raises IndexError"
   ]
  },
  {
   "cell_type": "markdown",
   "metadata": {},
   "source": [
    "__`append`__ adds an element to the end of the list:"
   ]
  },
  {
   "cell_type": "code",
   "execution_count": null,
   "metadata": {},
   "outputs": [],
   "source": [
    "l = [1, 2, 3]\n",
    "l.append(3)\n",
    "l"
   ]
  },
  {
   "cell_type": "markdown",
   "metadata": {},
   "source": [
    "__`insert`__ inserts an element at a specific index:"
   ]
  },
  {
   "cell_type": "code",
   "execution_count": null,
   "metadata": {},
   "outputs": [],
   "source": [
    "l = [1, 2, 3]\n",
    "l.insert(1, 5)\n",
    "l"
   ]
  },
  {
   "cell_type": "markdown",
   "metadata": {},
   "source": [
    "__`extend`__"
   ]
  },
  {
   "cell_type": "code",
   "execution_count": null,
   "metadata": {},
   "outputs": [],
   "source": [
    "l = [1, 2]\n",
    "l.extend([3, 4, 5])\n",
    "len(l), l"
   ]
  },
  {
   "cell_type": "markdown",
   "metadata": {},
   "source": [
    "### Under the hood\n",
    "\n",
    "`append` is O(1), `insert` is O(n):"
   ]
  },
  {
   "cell_type": "code",
   "execution_count": null,
   "metadata": {},
   "outputs": [],
   "source": [
    "l = list(range(100))"
   ]
  },
  {
   "cell_type": "code",
   "execution_count": null,
   "metadata": {},
   "outputs": [],
   "source": [
    "%%timeit -n 100\n",
    "\n",
    "l.append(0)"
   ]
  },
  {
   "cell_type": "code",
   "execution_count": null,
   "metadata": {},
   "outputs": [],
   "source": [
    "l = list(range(100))"
   ]
  },
  {
   "cell_type": "code",
   "execution_count": null,
   "metadata": {},
   "outputs": [],
   "source": [
    "%%timeit -n 100\n",
    "\n",
    "l.insert(50, 0)"
   ]
  },
  {
   "cell_type": "markdown",
   "metadata": {},
   "source": [
    "More about time complexity [here](https://wiki.python.org/moin/TimeComplexity)."
   ]
  },
  {
   "cell_type": "markdown",
   "metadata": {
    "slideshow": {
     "slide_type": "subslide"
    }
   },
   "source": [
    "__Advanced indexing, ranges__"
   ]
  },
  {
   "cell_type": "code",
   "execution_count": null,
   "metadata": {},
   "outputs": [],
   "source": [
    "l = []\n",
    "for i in range(20):\n",
    "    l.append(2*i + 1)\n",
    "l[2:5]"
   ]
  },
  {
   "cell_type": "code",
   "execution_count": null,
   "metadata": {},
   "outputs": [],
   "source": [
    "l[:3], l[-4:]"
   ]
  },
  {
   "cell_type": "markdown",
   "metadata": {},
   "source": [
    "This can be used for sliding windows:"
   ]
  },
  {
   "cell_type": "code",
   "execution_count": null,
   "metadata": {},
   "outputs": [],
   "source": [
    "for i in range(10):\n",
    "    print(l[i:i+3])"
   ]
  },
  {
   "cell_type": "markdown",
   "metadata": {},
   "source": [
    "Step argument:"
   ]
  },
  {
   "cell_type": "code",
   "execution_count": null,
   "metadata": {},
   "outputs": [],
   "source": [
    "l[2:10:3] "
   ]
  },
  {
   "cell_type": "markdown",
   "metadata": {
    "slideshow": {
     "slide_type": "subslide"
    }
   },
   "source": [
    "Reversing a list:"
   ]
  },
  {
   "cell_type": "code",
   "execution_count": null,
   "metadata": {},
   "outputs": [],
   "source": [
    "l[::-1]"
   ]
  },
  {
   "cell_type": "markdown",
   "metadata": {
    "slideshow": {
     "slide_type": "subslide"
    }
   },
   "source": [
    "Lists are __mutable__, elements can be added or changed:"
   ]
  },
  {
   "cell_type": "code",
   "execution_count": null,
   "metadata": {},
   "outputs": [],
   "source": [
    "l = []\n",
    "old_id = id(l)\n",
    "\n",
    "for element in range(1, 3):\n",
    "    l.append(element)\n",
    "    print(id(l) == old_id)\n",
    "l"
   ]
  },
  {
   "cell_type": "markdown",
   "metadata": {},
   "source": [
    "op= performs reference assignment without creating a new object (similar to shallow copy):"
   ]
  },
  {
   "cell_type": "code",
   "execution_count": null,
   "metadata": {},
   "outputs": [],
   "source": [
    "l2 = l\n",
    "print(l is l2)\n",
    "\n",
    "l2.append(42)\n",
    "l"
   ]
  },
  {
   "cell_type": "markdown",
   "metadata": {
    "slideshow": {
     "slide_type": "subslide"
    }
   },
   "source": [
    "elements don't need to be of the same type"
   ]
  },
  {
   "cell_type": "code",
   "execution_count": null,
   "metadata": {},
   "outputs": [],
   "source": [
    "l = [1, -1, \"foo\", 2, \"bar\"]\n",
    "l"
   ]
  },
  {
   "cell_type": "markdown",
   "metadata": {
    "slideshow": {
     "slide_type": "subslide"
    }
   },
   "source": [
    "__Sorting lists__\n",
    "\n",
    "Lists can be sorted using the built-in `sorted` function which returns a new list object."
   ]
  },
  {
   "cell_type": "code",
   "execution_count": null,
   "metadata": {},
   "outputs": [],
   "source": [
    "l = [3, -1, 2, 11]\n",
    "\n",
    "for e in sorted(l):\n",
    "    print(e)"
   ]
  },
  {
   "cell_type": "markdown",
   "metadata": {},
   "source": [
    "Inplace version of sort:"
   ]
  },
  {
   "cell_type": "code",
   "execution_count": null,
   "metadata": {},
   "outputs": [],
   "source": [
    "l = [3, -1, 2, 11]\n",
    "l.sort()\n",
    "l"
   ]
  },
  {
   "cell_type": "code",
   "execution_count": null,
   "metadata": {},
   "outputs": [],
   "source": [
    "l1 = [3, -1, 2]\n",
    "l2 = sorted(l1)\n",
    "print(f\"{(l1 is l2) = }\")\n",
    "print(f\"{l1 = }\")\n",
    "print(f\"{l2 = }\")"
   ]
  },
  {
   "cell_type": "markdown",
   "metadata": {
    "slideshow": {
     "slide_type": "subslide"
    }
   },
   "source": [
    "the sorting key can be specified using the `key` argument"
   ]
  },
  {
   "cell_type": "code",
   "execution_count": null,
   "metadata": {},
   "outputs": [],
   "source": [
    "shopping_list = [\n",
    "    [\"apple\", 5],\n",
    "    [\"pear\", 2],\n",
    "    [\"milk\", 1],\n",
    "    [\"bread\", 3],\n",
    "]\n",
    "\n",
    "for product in sorted(shopping_list, key=lambda x: -x[1]):\n",
    "    print(product)"
   ]
  },
  {
   "cell_type": "markdown",
   "metadata": {
    "slideshow": {
     "slide_type": "subslide"
    }
   },
   "source": [
    "## tuple\n",
    "\n",
    "Tuples are an immutable sequences:"
   ]
  },
  {
   "cell_type": "code",
   "execution_count": null,
   "metadata": {},
   "outputs": [],
   "source": [
    "t = ()  # empty tuple\n",
    "print(f\"{type(t) = }\")\n",
    "print(f\"{len(t) = }\")\n",
    "print(f\"{t = }\")"
   ]
  },
  {
   "cell_type": "code",
   "execution_count": null,
   "metadata": {},
   "outputs": [],
   "source": [
    "t = (1, 2, 3, \"foo\")\n",
    "print(f\"{type(t) = }\")\n",
    "print(f\"{len(t) = }\")\n",
    "print(f\"{t = }\")"
   ]
  },
  {
   "cell_type": "markdown",
   "metadata": {
    "slideshow": {
     "slide_type": "subslide"
    }
   },
   "source": [
    "Tuples can be indexed the same way as lists:"
   ]
  },
  {
   "cell_type": "code",
   "execution_count": null,
   "metadata": {},
   "outputs": [],
   "source": [
    "t[1], t[-1]"
   ]
  },
  {
   "cell_type": "markdown",
   "metadata": {},
   "source": [
    "Tuples with one element can be defined with:"
   ]
  },
  {
   "cell_type": "code",
   "execution_count": null,
   "metadata": {},
   "outputs": [],
   "source": [
    "t = (2,)\n",
    "type(t), len(t)"
   ]
  },
  {
   "cell_type": "markdown",
   "metadata": {
    "slideshow": {
     "slide_type": "subslide"
    }
   },
   "source": [
    "Tuples contain immutable references, however, the underlying objects may be mutable such as lists"
   ]
  },
  {
   "cell_type": "code",
   "execution_count": null,
   "metadata": {},
   "outputs": [],
   "source": [
    "t = ([1, 2, 3], \"foo\")\n",
    "# t[0]= \"bar\"  # this raises a TypeError"
   ]
  },
  {
   "cell_type": "code",
   "execution_count": null,
   "metadata": {
    "slideshow": {
     "slide_type": "subslide"
    }
   },
   "outputs": [],
   "source": [
    "t = ([1, 2, 3], \"foo\")\n",
    "\n",
    "# save the id of the first element of the tuple (the list)\n",
    "old_id = id(t[0])\n",
    "\n",
    "# change an element of the list (not the tuple!)\n",
    "t[0][1] = 11\n",
    "\n",
    "# did the id of the list change?\n",
    "id(t[0]) == old_id"
   ]
  },
  {
   "cell_type": "markdown",
   "metadata": {
    "slideshow": {
     "slide_type": "subslide"
    }
   },
   "source": [
    "# Strings\n",
    "\n",
    "- Strings are **immutable** sequences of Unicode code points\n",
    "- These code points range from 0 to 0x10FFF\n",
    "- No separate character type. Some functions can only be used on characters a.k.a strings of length 1\n",
    "- Strings can be constructed in various ways"
   ]
  },
  {
   "cell_type": "code",
   "execution_count": null,
   "metadata": {},
   "outputs": [],
   "source": [
    "single = 'ab\\'c'\n",
    "double = \"ab\\\"c\"\n",
    "multiline = \"\"\"\n",
    "sdfajfklasj;\n",
    "sdfsdfs\n",
    "sdfsdf\n",
    "\"\"\"\n",
    "single == double"
   ]
  },
  {
   "cell_type": "markdown",
   "metadata": {
    "slideshow": {
     "slide_type": "subslide"
    }
   },
   "source": [
    "Immutability makes it impossible to change a string (unlike C-style string or C++'s `std::string`)"
   ]
  },
  {
   "cell_type": "code",
   "execution_count": null,
   "metadata": {},
   "outputs": [],
   "source": [
    "s = \"abc\"\n",
    "\n",
    "# s[1] = \"c\"  # TypeError"
   ]
  },
  {
   "cell_type": "markdown",
   "metadata": {
    "slideshow": {
     "slide_type": "subslide"
    }
   },
   "source": [
    "All string operations create new objects:"
   ]
  },
  {
   "cell_type": "code",
   "execution_count": null,
   "metadata": {},
   "outputs": [],
   "source": [
    "s = \"abc\"\n",
    "old_id = id(s)\n",
    "s += \"def\"\n",
    "id(s) == old_id"
   ]
  },
  {
   "cell_type": "markdown",
   "metadata": {},
   "source": [
    "Strings support most operations available for lists such as __advanced indexing__:"
   ]
  },
  {
   "cell_type": "code",
   "execution_count": null,
   "metadata": {},
   "outputs": [],
   "source": [
    "s = \"abcdefghijkl\"\n",
    "s[::2]"
   ]
  },
  {
   "cell_type": "markdown",
   "metadata": {
    "slideshow": {
     "slide_type": "slide"
    }
   },
   "source": [
    "## Character encodings - Unicode\n",
    "\n",
    "Unicode provides a mapping from letters to code points or numbers:\n",
    "  \n",
    "| character | Unicode code point |\n",
    "| ---- | ---- |\n",
    "| a | U+0061 |\n",
    "| ő | U+0151 | \n",
    "| ش | U+0634 |\n",
    "| گ | U+06AF |\n",
    "| ¿ | U+00BF |\n",
    "| ư | U+01B0 |\n",
    "| Ң | U+04A2 |\n",
    "| ⛵ | U+26F5 |"
   ]
  },
  {
   "cell_type": "markdown",
   "metadata": {
    "slideshow": {
     "slide_type": "subslide"
    }
   },
   "source": [
    "- These are abstract code points\n",
    "- Actual text needs to be stored as a byte array/sequence (byte strings)\n",
    "- Character encoding: code point - byte array correspondence\n",
    "\n",
    "- **Encoding**: Unicode code point $\\rightarrow$ byte sequence\n",
    "- **Decoding**: byte sequence $\\rightarrow$ Unicode code point\n",
    "- Most popular encoding: UTF-8. Make sure that your terminal uses UTF-8. This can be verified with the `locale` command on Linux/MacOS."
   ]
  },
  {
   "cell_type": "markdown",
   "metadata": {
    "slideshow": {
     "slide_type": "fragment"
    }
   },
   "source": [
    "| character | Unicode code point | UTF-8 byte sequence |\n",
    "| ---- | ---- | ---- |\n",
    "| a | U+0061 | 61 |\n",
    "| ő | U+0151 | C5 91 |\n",
    "| ش | U+0634 | D8 B4 |\n",
    "| گ | U+06AF | DA AF |\n",
    "| ¿ | U+00BF | C2 BF |\n",
    "| ư | U+01B0 | C6 B0 |\n",
    "| Ң | U+04A2 | D2 A2 |\n",
    "| ⛵ | U+26F5 | E2 9B B5 |"
   ]
  },
  {
   "cell_type": "markdown",
   "metadata": {},
   "source": [
    "__chr__ and __ord__\n",
    "\n",
    "We can look up code points with `ord` and similarly convert them back to characters with `chr`:"
   ]
  },
  {
   "cell_type": "code",
   "execution_count": null,
   "metadata": {},
   "outputs": [],
   "source": [
    "ship = chr(0x26f5)\n",
    "ship"
   ]
  },
  {
   "cell_type": "code",
   "execution_count": null,
   "metadata": {},
   "outputs": [],
   "source": [
    "ord(ship), hex(ord(ship)), oct(ord(ship)), bin(ord(ship))"
   ]
  },
  {
   "cell_type": "markdown",
   "metadata": {
    "slideshow": {
     "slide_type": "subslide"
    }
   },
   "source": [
    "Python3 automatically **encodes** Unicode strings when:\n",
    "- Writing to file\n",
    "- Printing\n",
    "- Any kind of operation that requires byte string conversion\n",
    "- And it automatically **decodes** byte sequnces when reading from file\n",
    "\n",
    "**IMPORTANT** Python2 does not do this automatically."
   ]
  },
  {
   "cell_type": "markdown",
   "metadata": {
    "slideshow": {
     "slide_type": "subslide"
    }
   },
   "source": [
    "## `bytes` in Python 3\n",
    "\n",
    "- Immutable sequence of bytes.\n",
    "    - This corresponds to Python2's `str` type.\n",
    "    - Python3's `str` was `unicode` in Python2.\n",
    "- Python3 strings can be encoded resulting in a bytes object:"
   ]
  },
  {
   "cell_type": "code",
   "execution_count": null,
   "metadata": {
    "slideshow": {
     "slide_type": "subslide"
    }
   },
   "outputs": [],
   "source": [
    "unicode_string = \"ábc\"\n",
    "utf8_string = unicode_string.encode(\"utf8\")\n",
    "type(utf8_string), utf8_string"
   ]
  },
  {
   "cell_type": "markdown",
   "metadata": {},
   "source": [
    "Different encodings result in different byte sequences:"
   ]
  },
  {
   "cell_type": "code",
   "execution_count": null,
   "metadata": {
    "slideshow": {
     "slide_type": "subslide"
    }
   },
   "outputs": [],
   "source": [
    "unicode_string = \"ábc\"\n",
    "utf8_string = unicode_string.encode(\"utf8\")\n",
    "utf16_string = unicode_string.encode(\"utf16\")\n",
    "latin2_string = unicode_string.encode(\"latin2\")\n",
    "\n",
    "type(unicode_string), type(utf8_string), type(utf16_string), type(latin2_string)"
   ]
  },
  {
   "cell_type": "markdown",
   "metadata": {},
   "source": [
    "Their length is different too:"
   ]
  },
  {
   "cell_type": "code",
   "execution_count": null,
   "metadata": {},
   "outputs": [],
   "source": [
    "len(unicode_string), len(utf8_string), len(utf16_string), len(latin2_string)"
   ]
  },
  {
   "cell_type": "markdown",
   "metadata": {
    "slideshow": {
     "slide_type": "slide"
    }
   },
   "source": [
    "## String operations\n",
    "\n",
    "Large variety of basic string manipulation: lower, upper, title"
   ]
  },
  {
   "cell_type": "code",
   "execution_count": null,
   "metadata": {
    "slideshow": {
     "slide_type": "subslide"
    }
   },
   "outputs": [],
   "source": [
    "\"abC\".upper(), \"ABC\".lower(), \"abc\".title()"
   ]
  },
  {
   "cell_type": "markdown",
   "metadata": {},
   "source": [
    "Concatenation with `+`:"
   ]
  },
  {
   "cell_type": "code",
   "execution_count": null,
   "metadata": {},
   "outputs": [],
   "source": [
    "s = \"\\tabc  \\n\"\n",
    "print(\"<START>\" + s + \"<STOP>\")"
   ]
  },
  {
   "cell_type": "code",
   "execution_count": null,
   "metadata": {
    "slideshow": {
     "slide_type": "subslide"
    }
   },
   "outputs": [],
   "source": [
    "s.strip()"
   ]
  },
  {
   "cell_type": "code",
   "execution_count": null,
   "metadata": {},
   "outputs": [],
   "source": [
    "s.rstrip()"
   ]
  },
  {
   "cell_type": "code",
   "execution_count": null,
   "metadata": {},
   "outputs": [],
   "source": [
    "s.lstrip()"
   ]
  },
  {
   "cell_type": "code",
   "execution_count": null,
   "metadata": {},
   "outputs": [],
   "source": [
    "\"abca\".strip(\"ba\")"
   ]
  },
  {
   "cell_type": "markdown",
   "metadata": {
    "slideshow": {
     "slide_type": "subslide"
    }
   },
   "source": [
    "since each function returns a new string, they can be chained after another"
   ]
  },
  {
   "cell_type": "code",
   "execution_count": null,
   "metadata": {},
   "outputs": [],
   "source": [
    "\" abcd abc\".strip().rstrip(\"c\").lstrip(\"ab\")"
   ]
  },
  {
   "cell_type": "markdown",
   "metadata": {
    "slideshow": {
     "slide_type": "subslide"
    }
   },
   "source": [
    "__Binary predicates (i.e. yes-no questions)__"
   ]
  },
  {
   "cell_type": "code",
   "execution_count": null,
   "metadata": {},
   "outputs": [],
   "source": [
    "\"abc\".startswith(\"ab\"), \"abc\".endswith(\"cd\")"
   ]
  },
  {
   "cell_type": "code",
   "execution_count": null,
   "metadata": {},
   "outputs": [],
   "source": [
    "\"abc\".istitle(), \"Abc\".istitle()"
   ]
  },
  {
   "cell_type": "code",
   "execution_count": null,
   "metadata": {
    "slideshow": {
     "slide_type": "subslide"
    }
   },
   "outputs": [],
   "source": [
    "\"  \\t\\n\".isspace()"
   ]
  },
  {
   "cell_type": "code",
   "execution_count": null,
   "metadata": {},
   "outputs": [],
   "source": [
    "\"989\".isdigit(), \"1.5\".isdigit()"
   ]
  },
  {
   "cell_type": "markdown",
   "metadata": {
    "slideshow": {
     "slide_type": "subslide"
    }
   },
   "source": [
    "__`split`__"
   ]
  },
  {
   "cell_type": "code",
   "execution_count": null,
   "metadata": {},
   "outputs": [],
   "source": [
    "s = \"the quick brown fox jumps over the lazy dog\"\n",
    "words = s.split()\n",
    "words"
   ]
  },
  {
   "cell_type": "code",
   "execution_count": null,
   "metadata": {},
   "outputs": [],
   "source": [
    "s = \"R.E.M.\"\n",
    "s.split(\".\")"
   ]
  },
  {
   "cell_type": "markdown",
   "metadata": {},
   "source": [
    "__`maxsplit` and `partition`__"
   ]
  },
  {
   "cell_type": "code",
   "execution_count": null,
   "metadata": {},
   "outputs": [],
   "source": [
    "config = \"name=namewith=sign\"\n",
    "\n",
    "config.split(\"=\", maxsplit=1)"
   ]
  },
  {
   "cell_type": "code",
   "execution_count": null,
   "metadata": {},
   "outputs": [],
   "source": [
    "\"name=namewith=sign\".partition(\"=\")"
   ]
  },
  {
   "cell_type": "markdown",
   "metadata": {},
   "source": [
    "__`join`__"
   ]
  },
  {
   "cell_type": "code",
   "execution_count": null,
   "metadata": {
    "slideshow": {
     "slide_type": "subslide"
    }
   },
   "outputs": [],
   "source": [
    "\"-\".join(words)"
   ]
  },
  {
   "cell_type": "markdown",
   "metadata": {},
   "source": [
    "use explicit token separators"
   ]
  },
  {
   "cell_type": "code",
   "execution_count": null,
   "metadata": {},
   "outputs": [],
   "source": [
    "\" <W> \".join(words)"
   ]
  },
  {
   "cell_type": "markdown",
   "metadata": {
    "slideshow": {
     "slide_type": "slide"
    }
   },
   "source": [
    "## String formatting\n",
    "\n",
    "Python features several string formatting options."
   ]
  },
  {
   "cell_type": "markdown",
   "metadata": {
    "slideshow": {
     "slide_type": "subslide"
    }
   },
   "source": [
    "__`str.format`__\n",
    "\n",
    "- non-str objects are automatically cast to str\n",
    "  - under the hood: the object's `__format__` method is called if it exists, otherwise its `__str__` is called"
   ]
  },
  {
   "cell_type": "code",
   "execution_count": null,
   "metadata": {},
   "outputs": [],
   "source": [
    "name = \"John\"\n",
    "age = 25\n",
    "\n",
    "print(\"My name is {0} and I'm {1} years old. \"\n",
    "      \"I turned {1} last December\".format(name, age))\n",
    "print(\"My name is {} and I'm {} years old.\".format(name, age))\n",
    "# print(\"My name is {} and I'm {} years old. I turned {} last December\".format(name, age))  # raises IndexError\n",
    "print(\"My name is {name} and I'm {age} years old. I turned {age} last December\".format(\n",
    "    name=name, age=age))"
   ]
  },
  {
   "cell_type": "markdown",
   "metadata": {
    "slideshow": {
     "slide_type": "skip"
    }
   },
   "source": [
    "[Format specification mini language](https://docs.python.org/3/library/string.html#formatspec)"
   ]
  },
  {
   "cell_type": "markdown",
   "metadata": {
    "slideshow": {
     "slide_type": "subslide"
    }
   },
   "source": [
    "__% operator__\n",
    "\n",
    "- note that the arguments need to be parenthesized (make it a tuple)"
   ]
  },
  {
   "cell_type": "code",
   "execution_count": null,
   "metadata": {},
   "outputs": [],
   "source": [
    "print(\"My name is %s and I'm %d years old\" % (name, age))"
   ]
  },
  {
   "cell_type": "markdown",
   "metadata": {
    "slideshow": {
     "slide_type": "subslide"
    }
   },
   "source": [
    "__f-strings or string interpolation__\n",
    "\n",
    "f-strings were added in Python 3.6 in [PEP498](https://www.python.org/dev/peps/pep-0498/)"
   ]
  },
  {
   "cell_type": "code",
   "execution_count": null,
   "metadata": {},
   "outputs": [],
   "source": [
    "import sys\n",
    "\n",
    "name = \"John\"\n",
    "age = 42\n",
    "age2 = 12\n",
    "\n",
    "if sys.version_info >= (3, 6):\n",
    "    print(f\"My name is {name} and I'm {age} years old {age2}\")"
   ]
  },
  {
   "cell_type": "markdown",
   "metadata": {},
   "source": [
    "Aside from variables, expressions can be evaluated in f-strings:"
   ]
  },
  {
   "cell_type": "code",
   "execution_count": null,
   "metadata": {},
   "outputs": [],
   "source": [
    "s = \"abc\"\n",
    "f\"Length of string: {len(s)}, contents: {s}\""
   ]
  },
  {
   "cell_type": "markdown",
   "metadata": {},
   "source": [
    "Self-documenting support was added in Python 3.8:"
   ]
  },
  {
   "cell_type": "code",
   "execution_count": null,
   "metadata": {},
   "outputs": [],
   "source": [
    "s1 = \"abc\"\n",
    "s2 = \"aBc\"\n",
    "\n",
    "print(f\"{s1 = }\")\n",
    "print(f\"{s2 = }\")\n",
    "print(f\"{(s1 == s2) =}\")\n",
    "print(f\"{(s1.lower() == s2.lower()) = }\")"
   ]
  },
  {
   "cell_type": "markdown",
   "metadata": {
    "slideshow": {
     "slide_type": "subslide"
    }
   },
   "source": [
    "# dictionary\n",
    "\n",
    "Basic and only built-in map type that maps keys to values.\n",
    "\n",
    "Dictionaries can be defined in a number of ways:"
   ]
  },
  {
   "cell_type": "code",
   "execution_count": null,
   "metadata": {},
   "outputs": [],
   "source": [
    "d = {}  # empty dictionary  same as d = dict()\n",
    "d[\"apple\"] = 12\n",
    "d[\"plum\"] = 2\n",
    "d"
   ]
  },
  {
   "cell_type": "markdown",
   "metadata": {},
   "source": [
    "Equivalent to:"
   ]
  },
  {
   "cell_type": "code",
   "execution_count": null,
   "metadata": {},
   "outputs": [],
   "source": [
    "d = {\"apple\": 12, \"plum\": 2}\n",
    "d"
   ]
  },
  {
   "cell_type": "markdown",
   "metadata": {},
   "source": [
    "Or:"
   ]
  },
  {
   "cell_type": "code",
   "execution_count": null,
   "metadata": {},
   "outputs": [],
   "source": [
    "d = dict(apple=12, plum=2)\n",
    "d"
   ]
  },
  {
   "cell_type": "markdown",
   "metadata": {
    "slideshow": {
     "slide_type": "subslide"
    }
   },
   "source": [
    "__removing keys__"
   ]
  },
  {
   "cell_type": "code",
   "execution_count": null,
   "metadata": {},
   "outputs": [],
   "source": [
    "del d[\"apple\"]\n",
    "d"
   ]
  },
  {
   "cell_type": "markdown",
   "metadata": {
    "slideshow": {
     "slide_type": "subslide"
    }
   },
   "source": [
    "__Iterating dictionaries__\n",
    "\n",
    "Keys and values can be iterated separately or together.\n",
    "\n",
    "Iterating keys:"
   ]
  },
  {
   "cell_type": "code",
   "execution_count": null,
   "metadata": {},
   "outputs": [],
   "source": [
    "d = {\"apple\": 12, \"plum\": 2}\n",
    "for key in d.keys():\n",
    "    print(key, d[key])"
   ]
  },
  {
   "cell_type": "markdown",
   "metadata": {
    "slideshow": {
     "slide_type": "fragment"
    }
   },
   "source": [
    "Iterating values:"
   ]
  },
  {
   "cell_type": "code",
   "execution_count": null,
   "metadata": {},
   "outputs": [],
   "source": [
    "for value in d.values():\n",
    "    print(value)"
   ]
  },
  {
   "cell_type": "markdown",
   "metadata": {
    "slideshow": {
     "slide_type": "subslide"
    }
   },
   "source": [
    "Iterating both:"
   ]
  },
  {
   "cell_type": "code",
   "execution_count": null,
   "metadata": {},
   "outputs": [],
   "source": [
    "for key, value in d.items():\n",
    "    print(key, value)"
   ]
  },
  {
   "cell_type": "markdown",
   "metadata": {
    "slideshow": {
     "slide_type": "subslide"
    }
   },
   "source": [
    "__Under the hood__\n",
    "\n",
    "Dictionaries are hash tables (same as C++'s `std::unordered_map`).\n",
    "- Constraints on key values: they must be hashable i.e. they cannot be or contain mutable objects\n",
    "- Keys can be mixed type."
   ]
  },
  {
   "cell_type": "code",
   "execution_count": null,
   "metadata": {},
   "outputs": [],
   "source": [
    "d = {}\n",
    "d[1] = \"a\"  # numeric types are immutable\n",
    "d[3+2j] = \"b\"\n",
    "d[\"c\"] = 1.0\n",
    "d"
   ]
  },
  {
   "cell_type": "markdown",
   "metadata": {
    "slideshow": {
     "slide_type": "subslide"
    }
   },
   "source": [
    "- tuples are immutable too"
   ]
  },
  {
   "cell_type": "code",
   "execution_count": null,
   "metadata": {},
   "outputs": [],
   "source": [
    "d[(\"apple\", 1)] = -2\n",
    "d"
   ]
  },
  {
   "cell_type": "markdown",
   "metadata": {
    "slideshow": {
     "slide_type": "subslide"
    }
   },
   "source": [
    "- however lists are not"
   ]
  },
  {
   "cell_type": "code",
   "execution_count": null,
   "metadata": {},
   "outputs": [],
   "source": [
    "# d[[\"apple\", 1]] = 12  # raises TypeError"
   ]
  },
  {
   "cell_type": "markdown",
   "metadata": {
    "slideshow": {
     "slide_type": "skip"
    }
   },
   "source": [
    "__Q. Can these be dictionary keys?__"
   ]
  },
  {
   "cell_type": "code",
   "execution_count": null,
   "metadata": {
    "slideshow": {
     "slide_type": "skip"
    }
   },
   "outputs": [],
   "source": [
    "key1 = (2, (3, 4))\n",
    "key2 = (2, [], (3, 4))\n",
    "\n",
    "d = {}\n",
    "d[key1] = 1\n",
    "# d[key2] = 2\n",
    "d"
   ]
  },
  {
   "cell_type": "markdown",
   "metadata": {},
   "source": [
    "__Dictionaries preserve insertion order__"
   ]
  },
  {
   "cell_type": "code",
   "execution_count": null,
   "metadata": {},
   "outputs": [],
   "source": [
    "d1 = {}\n",
    "d1['apple'] = 12\n",
    "d1['plum'] = 3\n",
    "for key, value in d1.items():\n",
    "    print(key, value)"
   ]
  },
  {
   "cell_type": "code",
   "execution_count": null,
   "metadata": {},
   "outputs": [],
   "source": [
    "d2 = {}\n",
    "d2['apple'] = 12\n",
    "d2['plum'] = 3\n",
    "for key, value in d2.items():\n",
    "    print(key, value)"
   ]
  },
  {
   "cell_type": "markdown",
   "metadata": {},
   "source": [
    "Regardless of insertion order `d1` and `d2` are different objects with the same content:"
   ]
  },
  {
   "cell_type": "code",
   "execution_count": null,
   "metadata": {},
   "outputs": [],
   "source": [
    "d1 == d2, d1 is d2"
   ]
  },
  {
   "cell_type": "markdown",
   "metadata": {
    "slideshow": {
     "slide_type": "subslide"
    }
   },
   "source": [
    "# set\n",
    "\n",
    "- Collection of unique, hashable elements\n",
    "- Implements basic set operations (intersection, union, difference)\n",
    "- Sets are mutable"
   ]
  },
  {
   "cell_type": "code",
   "execution_count": null,
   "metadata": {},
   "outputs": [],
   "source": [
    "s = set()\n",
    "s.add(2)\n",
    "s.add(3)\n",
    "s.add(2)\n",
    "s"
   ]
  },
  {
   "cell_type": "code",
   "execution_count": null,
   "metadata": {},
   "outputs": [],
   "source": [
    "s = {2, 3, 2}  # d = {'a': 2}\n",
    "type(s), s"
   ]
  },
  {
   "cell_type": "markdown",
   "metadata": {
    "slideshow": {
     "slide_type": "subslide"
    }
   },
   "source": [
    "__Deleting elements__"
   ]
  },
  {
   "cell_type": "code",
   "execution_count": null,
   "metadata": {},
   "outputs": [],
   "source": [
    "s.add(2)\n",
    "s.remove(2)\n",
    "# s.remove(2)  # raises KeyError, since we already removed this element\n",
    "s.discard(2)  # removes if present, does not raise exception"
   ]
  },
  {
   "cell_type": "markdown",
   "metadata": {
    "slideshow": {
     "slide_type": "subslide"
    }
   },
   "source": [
    "## frozenset\n",
    "\n",
    "Immutable counterpart of set:"
   ]
  },
  {
   "cell_type": "code",
   "execution_count": null,
   "metadata": {},
   "outputs": [],
   "source": [
    "fs = frozenset([1, 2])\n",
    "# fs.add(2)  # raises AttributeError"
   ]
  },
  {
   "cell_type": "code",
   "execution_count": null,
   "metadata": {},
   "outputs": [],
   "source": [
    "fs = frozenset([1, 2])\n",
    "s = {1, 2}\n",
    "\n",
    "d = dict()\n",
    "d[fs] = 1\n",
    "# d[s] = 2  # raises TypeError\n",
    "d"
   ]
  },
  {
   "cell_type": "markdown",
   "metadata": {
    "slideshow": {
     "slide_type": "subslide"
    }
   },
   "source": [
    "## set operations\n",
    "\n",
    "- implemented as\n",
    "  1. methods\n",
    "  2. overloaded operators"
   ]
  },
  {
   "cell_type": "code",
   "execution_count": null,
   "metadata": {},
   "outputs": [],
   "source": [
    "s1 = {1, 2, 3, 4, 5}\n",
    "s2 = {2, 5, 6, 7}\n",
    "\n",
    "s1 & s2  # s1.intersection(s2) or s2.intersection(s1)"
   ]
  },
  {
   "cell_type": "code",
   "execution_count": null,
   "metadata": {},
   "outputs": [],
   "source": [
    "s1 | s2  # s1.union(s2) OR s2.union(s1)"
   ]
  },
  {
   "cell_type": "code",
   "execution_count": null,
   "metadata": {},
   "outputs": [],
   "source": [
    "s1 - s2, s2 - s1  # s1.difference(s2), s2.difference(s1)"
   ]
  },
  {
   "cell_type": "markdown",
   "metadata": {
    "slideshow": {
     "slide_type": "subslide"
    }
   },
   "source": [
    "These operations return new sets"
   ]
  },
  {
   "cell_type": "code",
   "execution_count": null,
   "metadata": {},
   "outputs": [],
   "source": [
    "s3 = s1 & s2\n",
    "type(s3), s3 is s1, s3 is s2"
   ]
  },
  {
   "cell_type": "markdown",
   "metadata": {},
   "source": [
    "Subset testing return a boolean"
   ]
  },
  {
   "cell_type": "code",
   "execution_count": null,
   "metadata": {},
   "outputs": [],
   "source": [
    "s1 < s2  # s1.issubset(s2) OR s2.issuperset(s1)"
   ]
  },
  {
   "cell_type": "markdown",
   "metadata": {
    "slideshow": {
     "slide_type": "subslide"
    }
   },
   "source": [
    "## Useful set properties\n",
    "\n",
    "Creating a set is a convenient way of getting the unique elements of a sequence"
   ]
  },
  {
   "cell_type": "code",
   "execution_count": null,
   "metadata": {},
   "outputs": [],
   "source": [
    "l = [1, 2, 3, -1, 1, 2, 1, 0]\n",
    "uniq = set(l)\n",
    "uniq"
   ]
  },
  {
   "cell_type": "markdown",
   "metadata": {},
   "source": [
    "## Under the hood\n",
    "\n",
    "- sets and dictionaries provide O(1) lookup\n",
    "- in contrast lists provide O(n) lookup"
   ]
  },
  {
   "cell_type": "code",
   "execution_count": null,
   "metadata": {},
   "outputs": [],
   "source": [
    "import random\n",
    "\n",
    "# let's define our alphabet\n",
    "letters = \"abcdef\"\n",
    "# we generate string of length 1 to 5\n",
    "word_len = [1, 2, 3, 4, 5]\n",
    "# we generate 10000 examples\n",
    "N = 10000\n",
    "samples = []\n",
    "\n",
    "for i in range(N):\n",
    "    word = []\n",
    "    # sample a word length\n",
    "    this_len = random.choice(word_len)\n",
    "    for j in range(this_len):\n",
    "        # sample a character from the alphabet and add it to the 'word'\n",
    "        word.append(random.choice(letters))\n",
    "    samples.append(\"\".join(word))\n",
    "    \n",
    "samples = list(set(samples))"
   ]
  },
  {
   "cell_type": "markdown",
   "metadata": {},
   "source": [
    "__list lookup__"
   ]
  },
  {
   "cell_type": "code",
   "execution_count": null,
   "metadata": {},
   "outputs": [],
   "source": [
    "%%timeit\n",
    "\n",
    "word = []\n",
    "for j in range(random.choice(word_len)):\n",
    "    word.append(random.choice(letters))\n",
    "word = \"\".join(word)\n",
    "word in samples"
   ]
  },
  {
   "cell_type": "markdown",
   "metadata": {},
   "source": [
    "__set lookup__"
   ]
  },
  {
   "cell_type": "code",
   "execution_count": null,
   "metadata": {},
   "outputs": [],
   "source": [
    "samples_set = set(samples)\n",
    "len(samples_set), len(samples)"
   ]
  },
  {
   "cell_type": "code",
   "execution_count": null,
   "metadata": {},
   "outputs": [],
   "source": [
    "%%timeit\n",
    "\n",
    "word = []\n",
    "for j in range(random.choice(word_len)):\n",
    "    word.append(random.choice(letters))\n",
    "word = \"\".join(word)\n",
    "word in samples_set"
   ]
  },
  {
   "cell_type": "markdown",
   "metadata": {
    "slideshow": {
     "slide_type": "slide"
    }
   },
   "source": [
    "# Miscellaneous\n",
    "\n",
    "## Mutable default arguments\n",
    "\n",
    "Mutable default arguments are bound to the function object so they are shared across all function calls:"
   ]
  },
  {
   "cell_type": "code",
   "execution_count": null,
   "metadata": {},
   "outputs": [],
   "source": [
    "def insert_value(value, l=[]):\n",
    "    l.append(value)\n",
    "    print(l)\n",
    "    \n",
    "l1 = []\n",
    "insert_value(12, l1)\n",
    "l2 = []\n",
    "insert_value(14, l2)"
   ]
  },
  {
   "cell_type": "code",
   "execution_count": null,
   "metadata": {
    "slideshow": {
     "slide_type": "subslide"
    }
   },
   "outputs": [],
   "source": [
    "insert_value(-1)"
   ]
  },
  {
   "cell_type": "code",
   "execution_count": null,
   "metadata": {},
   "outputs": [],
   "source": [
    "insert_value(-3)"
   ]
  },
  {
   "cell_type": "markdown",
   "metadata": {},
   "source": [
    "It's best to avoid using mutable defaults.\n",
    "\n",
    "One solution is to create a new list inside a function if no list is provided:"
   ]
  },
  {
   "cell_type": "code",
   "execution_count": null,
   "metadata": {},
   "outputs": [],
   "source": [
    "def insert_value(value, l=None):\n",
    "    if l is None:\n",
    "        l = []\n",
    "    l.append(value)\n",
    "    return l\n",
    "\n",
    "l = insert_value(2)\n",
    "l"
   ]
  },
  {
   "cell_type": "code",
   "execution_count": null,
   "metadata": {},
   "outputs": [],
   "source": [
    "insert_value(12)"
   ]
  },
  {
   "cell_type": "markdown",
   "metadata": {
    "slideshow": {
     "slide_type": "subslide"
    }
   },
   "source": [
    "## Lambda expressions\n",
    "\n",
    "- Unnamed functions\n",
    "- May take parameters\n",
    "- Can access local scope"
   ]
  },
  {
   "cell_type": "code",
   "execution_count": null,
   "metadata": {},
   "outputs": [],
   "source": [
    "words = [\"Plum\", \"pear\", \"Apple\", \"peach\"]\n",
    "sorted(words)"
   ]
  },
  {
   "cell_type": "markdown",
   "metadata": {},
   "source": [
    "Let's sort this in a case insensitive way:"
   ]
  },
  {
   "cell_type": "code",
   "execution_count": null,
   "metadata": {},
   "outputs": [],
   "source": [
    "sorted(words, key=lambda w: w.lower())"
   ]
  },
  {
   "cell_type": "markdown",
   "metadata": {},
   "source": [
    "Let's sort them by word length AND alphabetically (case insensitive).\n",
    "\n",
    "We use the fact that tuples are compared elementwise:"
   ]
  },
  {
   "cell_type": "code",
   "execution_count": null,
   "metadata": {},
   "outputs": [],
   "source": [
    "(2, \"b\") < (3, \"a\")"
   ]
  },
  {
   "cell_type": "code",
   "execution_count": null,
   "metadata": {},
   "outputs": [],
   "source": [
    "(2, \"b\") < (2, \"a\")"
   ]
  },
  {
   "cell_type": "markdown",
   "metadata": {},
   "source": [
    "We need two keys: the lengths and the lowercase word form:"
   ]
  },
  {
   "cell_type": "code",
   "execution_count": null,
   "metadata": {},
   "outputs": [],
   "source": [
    "sorted(words, key=lambda w: (len(w), w.lower()))"
   ]
  },
  {
   "cell_type": "markdown",
   "metadata": {
    "collapsed": true,
    "slideshow": {
     "slide_type": "skip"
    }
   },
   "source": [
    "# Mandatory reading\n",
    "\n",
    "- [A4 page printable PEP8 cheat sheet](https://www.kbsoftware.co.uk/docs/_downloads/pep8_cheat.pdf)\n",
    "- [Introduction to character encodings](https://www.joelonsoftware.com/2003/10/08/the-absolute-minimum-every-software-developer-absolutely-positively-must-know-about-unicode-and-character-sets-no-excuses/) by Joel Spolsky, co-founder of Stack Overflow\n",
    "\n",
    "# Suggested reading\n",
    "\n",
    "- [Time complexity of various operations under CPython](https://wiki.python.org/moin/TimeComplexity)\n",
    "- [String formatting mini language](https://docs.python.org/3/library/string.html#formatspec)\n",
    "\n",
    "# Reference\n",
    "\n",
    "- [Official documentation of built-in types](https://docs.python.org/3/library/stdtypes.html)"
   ]
  },
  {
   "cell_type": "code",
   "execution_count": null,
   "metadata": {
    "slideshow": {
     "slide_type": "skip"
    }
   },
   "outputs": [],
   "source": []
  }
 ],
 "metadata": {
  "kernelspec": {
   "display_name": "Python 3",
   "language": "python",
   "name": "python3"
  },
  "language_info": {
   "codemirror_mode": {
    "name": "ipython",
    "version": 3
   },
   "file_extension": ".py",
   "mimetype": "text/x-python",
   "name": "python",
   "nbconvert_exporter": "python",
   "pygments_lexer": "ipython3",
   "version": "3.8.5"
  },
  "toc": {
   "base_numbering": 1,
   "nav_menu": {},
   "number_sections": true,
   "sideBar": true,
   "skip_h1_title": false,
   "title_cell": "Table of Contents",
   "title_sidebar": "Contents",
   "toc_cell": false,
   "toc_position": {
    "height": "calc(100% - 180px)",
    "left": "10px",
    "top": "150px",
    "width": "384px"
   },
   "toc_section_display": true,
   "toc_window_display": true
  }
 },
 "nbformat": 4,
 "nbformat_minor": 2
}
