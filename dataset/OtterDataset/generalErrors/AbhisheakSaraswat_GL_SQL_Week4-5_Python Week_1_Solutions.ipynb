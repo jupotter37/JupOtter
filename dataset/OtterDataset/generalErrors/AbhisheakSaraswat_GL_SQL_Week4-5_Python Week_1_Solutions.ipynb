{
 "cells": [
  {
   "cell_type": "markdown",
   "id": "f1734ea7",
   "metadata": {},
   "source": [
    "### Python Operators:\n",
    "\n",
    "#### Airthmetic Operator:\n",
    "//, %"
   ]
  },
  {
   "cell_type": "code",
   "execution_count": 1,
   "id": "de4571f0",
   "metadata": {},
   "outputs": [
    {
     "data": {
      "text/plain": [
       "4"
      ]
     },
     "execution_count": 1,
     "metadata": {},
     "output_type": "execute_result"
    }
   ],
   "source": [
    "14 // 3"
   ]
  },
  {
   "cell_type": "code",
   "execution_count": 2,
   "id": "d7e4ca51",
   "metadata": {},
   "outputs": [
    {
     "data": {
      "text/plain": [
       "1"
      ]
     },
     "execution_count": 2,
     "metadata": {},
     "output_type": "execute_result"
    }
   ],
   "source": [
    "13 % 3"
   ]
  },
  {
   "cell_type": "code",
   "execution_count": 3,
   "id": "7057e573",
   "metadata": {},
   "outputs": [
    {
     "data": {
      "text/plain": [
       "6"
      ]
     },
     "execution_count": 3,
     "metadata": {},
     "output_type": "execute_result"
    }
   ],
   "source": [
    "12 // 2"
   ]
  },
  {
   "cell_type": "code",
   "execution_count": 4,
   "id": "08e9d60c",
   "metadata": {},
   "outputs": [
    {
     "data": {
      "text/plain": [
       "False"
      ]
     },
     "execution_count": 4,
     "metadata": {},
     "output_type": "execute_result"
    }
   ],
   "source": [
    "12 >= 15"
   ]
  },
  {
   "cell_type": "code",
   "execution_count": 5,
   "id": "e51b9b7d",
   "metadata": {},
   "outputs": [
    {
     "ename": "SyntaxError",
     "evalue": "invalid syntax (1173544838.py, line 1)",
     "output_type": "error",
     "traceback": [
      "\u001b[1;36m  Cell \u001b[1;32mIn[5], line 1\u001b[1;36m\u001b[0m\n\u001b[1;33m    12 > = 15\u001b[0m\n\u001b[1;37m         ^\u001b[0m\n\u001b[1;31mSyntaxError\u001b[0m\u001b[1;31m:\u001b[0m invalid syntax\n"
     ]
    }
   ],
   "source": [
    "12 > = 15"
   ]
  },
  {
   "cell_type": "code",
   "execution_count": 6,
   "id": "fb983dd2",
   "metadata": {},
   "outputs": [],
   "source": [
    "a = 5\n",
    "a += 5 # a = a + 5"
   ]
  },
  {
   "cell_type": "code",
   "execution_count": 7,
   "id": "b04eeffa",
   "metadata": {},
   "outputs": [
    {
     "data": {
      "text/plain": [
       "10"
      ]
     },
     "execution_count": 7,
     "metadata": {},
     "output_type": "execute_result"
    }
   ],
   "source": [
    "a"
   ]
  },
  {
   "cell_type": "markdown",
   "id": "29cf2d03",
   "metadata": {},
   "source": [
    "* AND : All conditions must be True : then it will return True otherwise False\n",
    "* OR : Any condition is evaluated as True then it will return True, all conditions are evaluated as False then it will return False.\n",
    "* NOT: If your condition is True then it will return False and vice-versa"
   ]
  },
  {
   "cell_type": "markdown",
   "id": "a371081f",
   "metadata": {},
   "source": [
    "### Membership Operator:\n",
    "\n",
    "* in"
   ]
  },
  {
   "cell_type": "code",
   "execution_count": 8,
   "id": "87b18601",
   "metadata": {},
   "outputs": [],
   "source": [
    "string = \"We are learning python programming with Great learning.\""
   ]
  },
  {
   "cell_type": "code",
   "execution_count": 9,
   "id": "d919129a",
   "metadata": {},
   "outputs": [
    {
     "data": {
      "text/plain": [
       "True"
      ]
     },
     "execution_count": 9,
     "metadata": {},
     "output_type": "execute_result"
    }
   ],
   "source": [
    "'python' in string"
   ]
  },
  {
   "cell_type": "code",
   "execution_count": 10,
   "id": "78c3852e",
   "metadata": {},
   "outputs": [
    {
     "data": {
      "text/plain": [
       "True"
      ]
     },
     "execution_count": 10,
     "metadata": {},
     "output_type": "execute_result"
    }
   ],
   "source": [
    "\"ning\" in string"
   ]
  },
  {
   "cell_type": "code",
   "execution_count": 11,
   "id": "9b902989",
   "metadata": {},
   "outputs": [
    {
     "data": {
      "text/plain": [
       "False"
      ]
     },
     "execution_count": 11,
     "metadata": {},
     "output_type": "execute_result"
    }
   ],
   "source": [
    "\"x\" in string"
   ]
  },
  {
   "cell_type": "code",
   "execution_count": 12,
   "id": "0a00882e",
   "metadata": {},
   "outputs": [
    {
     "data": {
      "text/plain": [
       "True"
      ]
     },
     "execution_count": 12,
     "metadata": {},
     "output_type": "execute_result"
    }
   ],
   "source": [
    "\".\" in string"
   ]
  },
  {
   "cell_type": "markdown",
   "id": "086569a5",
   "metadata": {},
   "source": [
    "### BitWise Operator:"
   ]
  },
  {
   "cell_type": "code",
   "execution_count": 20,
   "id": "12fa47cd",
   "metadata": {},
   "outputs": [],
   "source": [
    "a = 10\n",
    "b = 5"
   ]
  },
  {
   "cell_type": "code",
   "execution_count": 21,
   "id": "f6ef2860",
   "metadata": {},
   "outputs": [
    {
     "data": {
      "text/plain": [
       "'0b1010'"
      ]
     },
     "execution_count": 21,
     "metadata": {},
     "output_type": "execute_result"
    }
   ],
   "source": [
    "bin(a)"
   ]
  },
  {
   "cell_type": "code",
   "execution_count": 22,
   "id": "29203611",
   "metadata": {},
   "outputs": [
    {
     "name": "stdout",
     "output_type": "stream",
     "text": [
      "10\n"
     ]
    }
   ],
   "source": [
    "print(0b1010)"
   ]
  },
  {
   "cell_type": "code",
   "execution_count": 23,
   "id": "a1904d38",
   "metadata": {},
   "outputs": [
    {
     "data": {
      "text/plain": [
       "'0b101'"
      ]
     },
     "execution_count": 23,
     "metadata": {},
     "output_type": "execute_result"
    }
   ],
   "source": [
    "bin(5)"
   ]
  },
  {
   "cell_type": "markdown",
   "id": "91ac0b42",
   "metadata": {},
   "source": [
    "* True  : 1\n",
    "* False : 0"
   ]
  },
  {
   "cell_type": "code",
   "execution_count": null,
   "id": "158254dd",
   "metadata": {},
   "outputs": [],
   "source": [
    "1 0 1 0\n",
    "0 1 0 1\n",
    "__________&\n",
    "0 0 0 0"
   ]
  },
  {
   "cell_type": "code",
   "execution_count": 24,
   "id": "df2bafd9",
   "metadata": {},
   "outputs": [
    {
     "name": "stdout",
     "output_type": "stream",
     "text": [
      "0\n"
     ]
    }
   ],
   "source": [
    "print(0b0000)"
   ]
  },
  {
   "cell_type": "code",
   "execution_count": null,
   "id": "75d6cd5a",
   "metadata": {},
   "outputs": [],
   "source": [
    "1 0 1 0\n",
    "0 1 0 1\n",
    "__________|\n",
    "1 1 1 1"
   ]
  },
  {
   "cell_type": "code",
   "execution_count": 25,
   "id": "0bde5e24",
   "metadata": {},
   "outputs": [
    {
     "name": "stdout",
     "output_type": "stream",
     "text": [
      "15\n"
     ]
    }
   ],
   "source": [
    "print(0b1111)"
   ]
  },
  {
   "cell_type": "code",
   "execution_count": null,
   "id": "caa4c77b",
   "metadata": {},
   "outputs": [],
   "source": []
  },
  {
   "cell_type": "code",
   "execution_count": 14,
   "id": "7a9c7087",
   "metadata": {},
   "outputs": [],
   "source": [
    "# and, or"
   ]
  },
  {
   "cell_type": "code",
   "execution_count": 15,
   "id": "e69791b2",
   "metadata": {},
   "outputs": [
    {
     "data": {
      "text/plain": [
       "0"
      ]
     },
     "execution_count": 15,
     "metadata": {},
     "output_type": "execute_result"
    }
   ],
   "source": [
    "a & b"
   ]
  },
  {
   "cell_type": "code",
   "execution_count": 16,
   "id": "386615b7",
   "metadata": {},
   "outputs": [
    {
     "data": {
      "text/plain": [
       "15"
      ]
     },
     "execution_count": 16,
     "metadata": {},
     "output_type": "execute_result"
    }
   ],
   "source": [
    "a | b"
   ]
  },
  {
   "cell_type": "code",
   "execution_count": 26,
   "id": "d4422432",
   "metadata": {},
   "outputs": [],
   "source": [
    "x = 10\n",
    "y = 7"
   ]
  },
  {
   "cell_type": "code",
   "execution_count": 18,
   "id": "36257cd1",
   "metadata": {},
   "outputs": [
    {
     "data": {
      "text/plain": [
       "15"
      ]
     },
     "execution_count": 18,
     "metadata": {},
     "output_type": "execute_result"
    }
   ],
   "source": [
    "x | y"
   ]
  },
  {
   "cell_type": "code",
   "execution_count": 19,
   "id": "a242617f",
   "metadata": {},
   "outputs": [
    {
     "data": {
      "text/plain": [
       "2"
      ]
     },
     "execution_count": 19,
     "metadata": {},
     "output_type": "execute_result"
    }
   ],
   "source": [
    "x & y"
   ]
  },
  {
   "cell_type": "code",
   "execution_count": 27,
   "id": "65474e44",
   "metadata": {},
   "outputs": [
    {
     "name": "stdout",
     "output_type": "stream",
     "text": [
      "0b1010 0b111\n"
     ]
    }
   ],
   "source": [
    "print(bin(x), bin(y))"
   ]
  },
  {
   "cell_type": "code",
   "execution_count": null,
   "id": "485285df",
   "metadata": {},
   "outputs": [],
   "source": [
    "1 0 1 0\n",
    "0 1 1 1\n",
    "________&\n",
    "0 0 1 0"
   ]
  },
  {
   "cell_type": "code",
   "execution_count": 28,
   "id": "934ace8c",
   "metadata": {},
   "outputs": [
    {
     "name": "stdout",
     "output_type": "stream",
     "text": [
      "2\n"
     ]
    }
   ],
   "source": [
    "print(0b0010)"
   ]
  },
  {
   "cell_type": "code",
   "execution_count": null,
   "id": "8e2af29e",
   "metadata": {},
   "outputs": [],
   "source": [
    "1 0 1 0\n",
    "0 1 1 1\n",
    "________|\n",
    "1 1 1 1"
   ]
  },
  {
   "cell_type": "code",
   "execution_count": 29,
   "id": "006072da",
   "metadata": {},
   "outputs": [
    {
     "data": {
      "text/plain": [
       "'0b10100'"
      ]
     },
     "execution_count": 29,
     "metadata": {},
     "output_type": "execute_result"
    }
   ],
   "source": [
    "bin(20)"
   ]
  },
  {
   "cell_type": "code",
   "execution_count": 30,
   "id": "91891ef4",
   "metadata": {},
   "outputs": [
    {
     "data": {
      "text/plain": [
       "'0b1001'"
      ]
     },
     "execution_count": 30,
     "metadata": {},
     "output_type": "execute_result"
    }
   ],
   "source": [
    "bin(9)"
   ]
  },
  {
   "cell_type": "code",
   "execution_count": 31,
   "id": "c39b052b",
   "metadata": {},
   "outputs": [
    {
     "data": {
      "text/plain": [
       "'0b1100100'"
      ]
     },
     "execution_count": 31,
     "metadata": {},
     "output_type": "execute_result"
    }
   ],
   "source": [
    "bin(100)"
   ]
  },
  {
   "cell_type": "code",
   "execution_count": 32,
   "id": "bc97bb24",
   "metadata": {},
   "outputs": [
    {
     "name": "stdout",
     "output_type": "stream",
     "text": [
      "115\n"
     ]
    }
   ],
   "source": [
    "print(0b1110011)"
   ]
  },
  {
   "cell_type": "code",
   "execution_count": 33,
   "id": "04858bf5",
   "metadata": {},
   "outputs": [
    {
     "data": {
      "text/plain": [
       "'0b1110011'"
      ]
     },
     "execution_count": 33,
     "metadata": {},
     "output_type": "execute_result"
    }
   ],
   "source": [
    "bin(115)"
   ]
  },
  {
   "cell_type": "markdown",
   "id": "3e1aaf4d",
   "metadata": {},
   "source": [
    "### Python Dynamic Semantics:\n",
    "\n",
    "In Python programming, A variable can understand the type based on the nature of the data."
   ]
  },
  {
   "cell_type": "code",
   "execution_count": 34,
   "id": "3d5939e3",
   "metadata": {},
   "outputs": [],
   "source": [
    "a = 10"
   ]
  },
  {
   "cell_type": "code",
   "execution_count": 35,
   "id": "6eab34bd",
   "metadata": {},
   "outputs": [
    {
     "data": {
      "text/plain": [
       "int"
      ]
     },
     "execution_count": 35,
     "metadata": {},
     "output_type": "execute_result"
    }
   ],
   "source": [
    "type(a) # type is a function by which we can check the data type of a variable"
   ]
  },
  {
   "cell_type": "code",
   "execution_count": 36,
   "id": "58f194e8",
   "metadata": {},
   "outputs": [
    {
     "data": {
      "text/plain": [
       "int"
      ]
     },
     "execution_count": 36,
     "metadata": {},
     "output_type": "execute_result"
    }
   ],
   "source": [
    "a = 32769\n",
    "type(a)"
   ]
  },
  {
   "cell_type": "code",
   "execution_count": 37,
   "id": "59b29d47",
   "metadata": {},
   "outputs": [],
   "source": [
    "a = 1938412834012989705710923409213401293410239841029384129843"
   ]
  },
  {
   "cell_type": "code",
   "execution_count": 38,
   "id": "5598a72d",
   "metadata": {},
   "outputs": [
    {
     "data": {
      "text/plain": [
       "int"
      ]
     },
     "execution_count": 38,
     "metadata": {},
     "output_type": "execute_result"
    }
   ],
   "source": [
    "type(a)"
   ]
  },
  {
   "cell_type": "code",
   "execution_count": 39,
   "id": "eadd7f34",
   "metadata": {},
   "outputs": [],
   "source": [
    "a = 82738238742.20374928709423809270932749234"
   ]
  },
  {
   "cell_type": "code",
   "execution_count": 40,
   "id": "009f1195",
   "metadata": {},
   "outputs": [
    {
     "data": {
      "text/plain": [
       "float"
      ]
     },
     "execution_count": 40,
     "metadata": {},
     "output_type": "execute_result"
    }
   ],
   "source": [
    "type(a)"
   ]
  },
  {
   "cell_type": "code",
   "execution_count": 41,
   "id": "f6fb356b",
   "metadata": {},
   "outputs": [],
   "source": [
    "a = \"Abhisheak Great learning\""
   ]
  },
  {
   "cell_type": "code",
   "execution_count": 42,
   "id": "e6c9b814",
   "metadata": {},
   "outputs": [
    {
     "data": {
      "text/plain": [
       "str"
      ]
     },
     "execution_count": 42,
     "metadata": {},
     "output_type": "execute_result"
    }
   ],
   "source": [
    "type(a)"
   ]
  },
  {
   "cell_type": "code",
   "execution_count": 43,
   "id": "d076e1e2",
   "metadata": {},
   "outputs": [],
   "source": [
    "a = True"
   ]
  },
  {
   "cell_type": "code",
   "execution_count": 44,
   "id": "94197409",
   "metadata": {},
   "outputs": [
    {
     "data": {
      "text/plain": [
       "bool"
      ]
     },
     "execution_count": 44,
     "metadata": {},
     "output_type": "execute_result"
    }
   ],
   "source": [
    "type(a)"
   ]
  },
  {
   "cell_type": "code",
   "execution_count": 45,
   "id": "2bea5d5e",
   "metadata": {},
   "outputs": [
    {
     "data": {
      "text/plain": [
       "NoneType"
      ]
     },
     "execution_count": 45,
     "metadata": {},
     "output_type": "execute_result"
    }
   ],
   "source": [
    "a = None\n",
    "type(a)"
   ]
  },
  {
   "cell_type": "code",
   "execution_count": 46,
   "id": "5dc031c1",
   "metadata": {},
   "outputs": [
    {
     "data": {
      "text/plain": [
       "list"
      ]
     },
     "execution_count": 46,
     "metadata": {},
     "output_type": "execute_result"
    }
   ],
   "source": [
    "a = []\n",
    "type(a)"
   ]
  },
  {
   "cell_type": "markdown",
   "id": "084b2ea0",
   "metadata": {},
   "source": [
    "### Python Data Structure:\n",
    "\n",
    "* List\n",
    "* Tuple\n",
    "* Set\n",
    "* Dict"
   ]
  },
  {
   "cell_type": "code",
   "execution_count": 47,
   "id": "8d037e86",
   "metadata": {},
   "outputs": [
    {
     "name": "stdout",
     "output_type": "stream",
     "text": [
      "All methods from list:  ['append', 'clear', 'copy', 'count', 'extend', 'index', 'insert', 'pop', 'remove', 'reverse', 'sort']\n",
      "\n",
      "All methods from tuple:  ['count', 'index']\n",
      "\n",
      "All methods from set:  ['add', 'clear', 'copy', 'difference', 'difference_update', 'discard', 'intersection', 'intersection_update', 'isdisjoint', 'issubset', 'issuperset', 'pop', 'remove', 'symmetric_difference', 'symmetric_difference_update', 'union', 'update']\n",
      "\n",
      "All methods from dict:  ['clear', 'copy', 'fromkeys', 'get', 'items', 'keys', 'pop', 'popitem', 'setdefault', 'update', 'values']\n"
     ]
    }
   ],
   "source": [
    "print(\"All methods from list: \", [i for i in dir(list) if \"__\" not in i])\n",
    "print()\n",
    "print(\"All methods from tuple: \", [i for i in dir(tuple) if \"__\" not in i])\n",
    "print()\n",
    "print(\"All methods from set: \", [i for i in dir(set) if \"__\" not in i])\n",
    "print()\n",
    "print(\"All methods from dict: \", [i for i in dir(dict) if \"__\" not in i])"
   ]
  },
  {
   "cell_type": "markdown",
   "id": "48af53ab",
   "metadata": {},
   "source": [
    "### List Data Structure:\n",
    "\n",
    "-- Rules and guidelines:\n",
    "\n",
    "* List is a sequential ds\n",
    "* Every element in the list is separated by comma\n",
    "* List is <b> mutable </b> data type\n",
    "* List is an indexable data type\n",
    "* In the list, we can store any kind of information\n",
    "* We can create a list using long bracket [] and list function"
   ]
  },
  {
   "cell_type": "code",
   "execution_count": 48,
   "id": "ac270d8e",
   "metadata": {},
   "outputs": [],
   "source": [
    "lst = []\n",
    "lst1 = list()"
   ]
  },
  {
   "cell_type": "code",
   "execution_count": 49,
   "id": "956a19c3",
   "metadata": {},
   "outputs": [
    {
     "data": {
      "text/plain": [
       "list"
      ]
     },
     "execution_count": 49,
     "metadata": {},
     "output_type": "execute_result"
    }
   ],
   "source": [
    "type(lst)"
   ]
  },
  {
   "cell_type": "code",
   "execution_count": 50,
   "id": "6e30c74b",
   "metadata": {},
   "outputs": [
    {
     "data": {
      "text/plain": [
       "list"
      ]
     },
     "execution_count": 50,
     "metadata": {},
     "output_type": "execute_result"
    }
   ],
   "source": [
    "type(lst1)"
   ]
  },
  {
   "cell_type": "code",
   "execution_count": 51,
   "id": "ca6522ca",
   "metadata": {},
   "outputs": [],
   "source": [
    "lstOfNumbers = [10,13,67,\"A\"]"
   ]
  },
  {
   "cell_type": "code",
   "execution_count": 52,
   "id": "a09d35fc",
   "metadata": {},
   "outputs": [],
   "source": [
    "lstOfNumbers.append(\"Abhishek\")"
   ]
  },
  {
   "cell_type": "code",
   "execution_count": 53,
   "id": "d9d68601",
   "metadata": {},
   "outputs": [
    {
     "data": {
      "text/plain": [
       "[10, 13, 67, 'A', 'Abhishek']"
      ]
     },
     "execution_count": 53,
     "metadata": {},
     "output_type": "execute_result"
    }
   ],
   "source": [
    "lstOfNumbers"
   ]
  },
  {
   "cell_type": "markdown",
   "id": "1e65ec69",
   "metadata": {},
   "source": [
    "### Can you add a single number using extend function of a list?"
   ]
  },
  {
   "cell_type": "code",
   "execution_count": 54,
   "id": "6735d026",
   "metadata": {},
   "outputs": [],
   "source": [
    "num = 100"
   ]
  },
  {
   "cell_type": "code",
   "execution_count": 55,
   "id": "dae2e692",
   "metadata": {},
   "outputs": [
    {
     "ename": "TypeError",
     "evalue": "'int' object is not iterable",
     "output_type": "error",
     "traceback": [
      "\u001b[1;31m---------------------------------------------------------------------------\u001b[0m",
      "\u001b[1;31mTypeError\u001b[0m                                 Traceback (most recent call last)",
      "Cell \u001b[1;32mIn[55], line 1\u001b[0m\n\u001b[1;32m----> 1\u001b[0m \u001b[43mlstOfNumbers\u001b[49m\u001b[38;5;241;43m.\u001b[39;49m\u001b[43mextend\u001b[49m\u001b[43m(\u001b[49m\u001b[38;5;241;43m100\u001b[39;49m\u001b[43m)\u001b[49m\n",
      "\u001b[1;31mTypeError\u001b[0m: 'int' object is not iterable"
     ]
    }
   ],
   "source": [
    "lstOfNumbers.extend(100)"
   ]
  },
  {
   "cell_type": "markdown",
   "id": "a0f4d7f5",
   "metadata": {},
   "source": [
    "### Append vs Extend\n",
    "\n",
    "* Append:  Using an append we can append an item at then end of the list, does not matter what is te source data look like\n",
    "    * Example : [1,2,3] and [10,11,12]\n",
    "    * append : [1,2,3,[10,11,12]\n",
    "    \n",
    "* Extend: Using this function we can extend a existing list. Note. Extend function can accept only iterable objects\n",
    "\n",
    "* Q - What is meaning of iterable object?\n",
    "* A - A iterable is just a container (just like your school bag) where you can store some piece of information, from that container you can picking a item one by one. In other words, if you can apply the loop on any object that is called iterable."
   ]
  },
  {
   "cell_type": "code",
   "execution_count": 56,
   "id": "97678772",
   "metadata": {},
   "outputs": [],
   "source": [
    "a = [1,2,3]; b = [10,11,12]"
   ]
  },
  {
   "cell_type": "code",
   "execution_count": 57,
   "id": "52c7b19a",
   "metadata": {},
   "outputs": [
    {
     "data": {
      "text/plain": [
       "[1, 2, 3]"
      ]
     },
     "execution_count": 57,
     "metadata": {},
     "output_type": "execute_result"
    }
   ],
   "source": [
    "a"
   ]
  },
  {
   "cell_type": "code",
   "execution_count": 58,
   "id": "df3ae068",
   "metadata": {},
   "outputs": [
    {
     "data": {
      "text/plain": [
       "[10, 11, 12]"
      ]
     },
     "execution_count": 58,
     "metadata": {},
     "output_type": "execute_result"
    }
   ],
   "source": [
    "b"
   ]
  },
  {
   "cell_type": "code",
   "execution_count": 59,
   "id": "040473b6",
   "metadata": {},
   "outputs": [],
   "source": [
    "a.append(b)"
   ]
  },
  {
   "cell_type": "code",
   "execution_count": 60,
   "id": "3eeecb7c",
   "metadata": {},
   "outputs": [
    {
     "data": {
      "text/plain": [
       "[1, 2, 3, [10, 11, 12]]"
      ]
     },
     "execution_count": 60,
     "metadata": {},
     "output_type": "execute_result"
    }
   ],
   "source": [
    "a"
   ]
  },
  {
   "cell_type": "code",
   "execution_count": 61,
   "id": "2b9022d1",
   "metadata": {},
   "outputs": [],
   "source": [
    "lst = [10,12,30,20]"
   ]
  },
  {
   "cell_type": "code",
   "execution_count": 62,
   "id": "79300a13",
   "metadata": {},
   "outputs": [],
   "source": [
    "newlst = ['A',\"B\",\"C\"]"
   ]
  },
  {
   "cell_type": "code",
   "execution_count": 63,
   "id": "e36b6520",
   "metadata": {},
   "outputs": [],
   "source": [
    "lst.extend(newlst)"
   ]
  },
  {
   "cell_type": "code",
   "execution_count": 64,
   "id": "723a7c01",
   "metadata": {},
   "outputs": [
    {
     "data": {
      "text/plain": [
       "[10, 12, 30, 20, 'A', 'B', 'C']"
      ]
     },
     "execution_count": 64,
     "metadata": {},
     "output_type": "execute_result"
    }
   ],
   "source": [
    "lst"
   ]
  },
  {
   "cell_type": "code",
   "execution_count": 65,
   "id": "883eadeb",
   "metadata": {},
   "outputs": [
    {
     "data": {
      "text/plain": [
       "100"
      ]
     },
     "execution_count": 65,
     "metadata": {},
     "output_type": "execute_result"
    }
   ],
   "source": [
    "num"
   ]
  },
  {
   "cell_type": "code",
   "execution_count": 69,
   "id": "0fd41689",
   "metadata": {},
   "outputs": [],
   "source": [
    "lst.extend([100])"
   ]
  },
  {
   "cell_type": "code",
   "execution_count": 70,
   "id": "d2699133",
   "metadata": {},
   "outputs": [
    {
     "name": "stdout",
     "output_type": "stream",
     "text": [
      "[10, 12, 30, 20, 'A', 'B', 'C', 100]\n"
     ]
    }
   ],
   "source": [
    "print(lst)"
   ]
  },
  {
   "cell_type": "code",
   "execution_count": 66,
   "id": "ba99f569",
   "metadata": {},
   "outputs": [],
   "source": [
    "a = 100"
   ]
  },
  {
   "cell_type": "code",
   "execution_count": 67,
   "id": "d0f3b31b",
   "metadata": {},
   "outputs": [
    {
     "ename": "TypeError",
     "evalue": "'int' object is not iterable",
     "output_type": "error",
     "traceback": [
      "\u001b[1;31m---------------------------------------------------------------------------\u001b[0m",
      "\u001b[1;31mTypeError\u001b[0m                                 Traceback (most recent call last)",
      "Cell \u001b[1;32mIn[67], line 1\u001b[0m\n\u001b[1;32m----> 1\u001b[0m \u001b[38;5;28;01mfor\u001b[39;00m i \u001b[38;5;129;01min\u001b[39;00m a:\n\u001b[0;32m      2\u001b[0m     \u001b[38;5;28mprint\u001b[39m(i)\n",
      "\u001b[1;31mTypeError\u001b[0m: 'int' object is not iterable"
     ]
    }
   ],
   "source": [
    "for i in a:\n",
    "    print(i)"
   ]
  },
  {
   "cell_type": "code",
   "execution_count": 68,
   "id": "1b4805b4",
   "metadata": {},
   "outputs": [
    {
     "name": "stdout",
     "output_type": "stream",
     "text": [
      "100\n"
     ]
    }
   ],
   "source": [
    "for i in [100]:\n",
    "    print(i)"
   ]
  },
  {
   "cell_type": "code",
   "execution_count": 71,
   "id": "f16ffb91",
   "metadata": {},
   "outputs": [],
   "source": [
    "l = [1,2]"
   ]
  },
  {
   "cell_type": "code",
   "execution_count": 72,
   "id": "a64870e4",
   "metadata": {},
   "outputs": [],
   "source": [
    "m = [\"A\",\"B\",\"C\"]"
   ]
  },
  {
   "cell_type": "code",
   "execution_count": 73,
   "id": "7b65bef5",
   "metadata": {},
   "outputs": [],
   "source": [
    "l.append(m)"
   ]
  },
  {
   "cell_type": "code",
   "execution_count": 74,
   "id": "617ae92d",
   "metadata": {},
   "outputs": [
    {
     "data": {
      "text/plain": [
       "[1, 2, ['A', 'B', 'C']]"
      ]
     },
     "execution_count": 74,
     "metadata": {},
     "output_type": "execute_result"
    }
   ],
   "source": [
    "l"
   ]
  },
  {
   "cell_type": "code",
   "execution_count": 75,
   "id": "5fd45e5d",
   "metadata": {},
   "outputs": [
    {
     "data": {
      "text/plain": [
       "3"
      ]
     },
     "execution_count": 75,
     "metadata": {},
     "output_type": "execute_result"
    }
   ],
   "source": [
    "len(l)"
   ]
  },
  {
   "cell_type": "code",
   "execution_count": 76,
   "id": "efb64eb8",
   "metadata": {},
   "outputs": [],
   "source": [
    "l = [1,2]\n",
    "m = [\"A\",\"B\",\"C\"]"
   ]
  },
  {
   "cell_type": "code",
   "execution_count": 77,
   "id": "e8ca073f",
   "metadata": {},
   "outputs": [],
   "source": [
    "l.extend(m)"
   ]
  },
  {
   "cell_type": "code",
   "execution_count": 78,
   "id": "ae7c9066",
   "metadata": {},
   "outputs": [
    {
     "data": {
      "text/plain": [
       "[1, 2, 'A', 'B', 'C']"
      ]
     },
     "execution_count": 78,
     "metadata": {},
     "output_type": "execute_result"
    }
   ],
   "source": [
    "l"
   ]
  },
  {
   "cell_type": "code",
   "execution_count": 79,
   "id": "4b08419b",
   "metadata": {},
   "outputs": [
    {
     "data": {
      "text/plain": [
       "5"
      ]
     },
     "execution_count": 79,
     "metadata": {},
     "output_type": "execute_result"
    }
   ],
   "source": [
    "len(l)"
   ]
  },
  {
   "cell_type": "code",
   "execution_count": 80,
   "id": "ba073647",
   "metadata": {},
   "outputs": [],
   "source": [
    "newlst = [1,2]"
   ]
  },
  {
   "cell_type": "code",
   "execution_count": 82,
   "id": "9302d71b",
   "metadata": {},
   "outputs": [],
   "source": [
    "lst1 = [1,2,3,4,[4,5,6,7,[[4,5,6]]], (1,2,3,4)]"
   ]
  },
  {
   "cell_type": "code",
   "execution_count": 83,
   "id": "72ea1c03",
   "metadata": {},
   "outputs": [
    {
     "data": {
      "text/plain": [
       "[1, 2, 3, 4, [4, 5, 6, 7, [[4, 5, 6]]], (1, 2, 3, 4)]"
      ]
     },
     "execution_count": 83,
     "metadata": {},
     "output_type": "execute_result"
    }
   ],
   "source": [
    "lst1"
   ]
  },
  {
   "cell_type": "code",
   "execution_count": 84,
   "id": "68c2f2f0",
   "metadata": {},
   "outputs": [],
   "source": [
    "newlst.append(lst1)"
   ]
  },
  {
   "cell_type": "code",
   "execution_count": 85,
   "id": "2173d70b",
   "metadata": {},
   "outputs": [
    {
     "data": {
      "text/plain": [
       "3"
      ]
     },
     "execution_count": 85,
     "metadata": {},
     "output_type": "execute_result"
    }
   ],
   "source": [
    "len(newlst)"
   ]
  },
  {
   "cell_type": "code",
   "execution_count": 86,
   "id": "da21f7fd",
   "metadata": {},
   "outputs": [
    {
     "data": {
      "text/plain": [
       "[1, 2, [1, 2, 3, 4, [4, 5, 6, 7, [[4, 5, 6]]], (1, 2, 3, 4)]]"
      ]
     },
     "execution_count": 86,
     "metadata": {},
     "output_type": "execute_result"
    }
   ],
   "source": [
    "newlst"
   ]
  },
  {
   "cell_type": "code",
   "execution_count": 87,
   "id": "7f8acf2b",
   "metadata": {},
   "outputs": [],
   "source": [
    "newlst = [1,2]"
   ]
  },
  {
   "cell_type": "code",
   "execution_count": 88,
   "id": "eb12f812",
   "metadata": {},
   "outputs": [],
   "source": [
    "newlst.extend(lst1)"
   ]
  },
  {
   "cell_type": "code",
   "execution_count": 89,
   "id": "4ad9d1b7",
   "metadata": {},
   "outputs": [
    {
     "data": {
      "text/plain": [
       "[1, 2, 1, 2, 3, 4, [4, 5, 6, 7, [[4, 5, 6]]], (1, 2, 3, 4)]"
      ]
     },
     "execution_count": 89,
     "metadata": {},
     "output_type": "execute_result"
    }
   ],
   "source": [
    "newlst"
   ]
  },
  {
   "cell_type": "code",
   "execution_count": 90,
   "id": "00dd479d",
   "metadata": {},
   "outputs": [
    {
     "name": "stdout",
     "output_type": "stream",
     "text": [
      "1\n",
      "2\n",
      "3\n",
      "4\n",
      "[4, 5, 6, 7, [[4, 5, 6]]]\n",
      "(1, 2, 3, 4)\n"
     ]
    }
   ],
   "source": [
    "for item in lst1:\n",
    "    print(item)"
   ]
  },
  {
   "cell_type": "markdown",
   "id": "131ff5c8",
   "metadata": {},
   "source": [
    "### List Index\n"
   ]
  },
  {
   "cell_type": "code",
   "execution_count": 91,
   "id": "5839a8c9",
   "metadata": {},
   "outputs": [],
   "source": [
    "lst = [12,45,78,34,24,45,78,90,45,12,56,34,45,78,90,45,12,6,8,45,12,78]"
   ]
  },
  {
   "cell_type": "code",
   "execution_count": 92,
   "id": "0b00ff27",
   "metadata": {},
   "outputs": [
    {
     "data": {
      "text/plain": [
       "22"
      ]
     },
     "execution_count": 92,
     "metadata": {},
     "output_type": "execute_result"
    }
   ],
   "source": [
    "len(lst)"
   ]
  },
  {
   "cell_type": "markdown",
   "id": "e9c9e8bb",
   "metadata": {},
   "source": [
    "### Python Indexing:\n",
    "\n",
    "* In Python programming, Index always starts from 0 to n - 1\n",
    "* Indexing can be Positive(0) and negative (-1)"
   ]
  },
  {
   "cell_type": "code",
   "execution_count": 93,
   "id": "82ab0e8f",
   "metadata": {},
   "outputs": [
    {
     "data": {
      "text/plain": [
       "2"
      ]
     },
     "execution_count": 93,
     "metadata": {},
     "output_type": "execute_result"
    }
   ],
   "source": [
    "lst.index(78)"
   ]
  },
  {
   "cell_type": "code",
   "execution_count": 94,
   "id": "3b3c3cc0",
   "metadata": {},
   "outputs": [],
   "source": [
    "lst.index?"
   ]
  },
  {
   "cell_type": "code",
   "execution_count": 96,
   "id": "94408c2f",
   "metadata": {},
   "outputs": [
    {
     "name": "stdout",
     "output_type": "stream",
     "text": [
      "Return first index of value.\n",
      "\n",
      "Raises ValueError if the value is not present.\n"
     ]
    }
   ],
   "source": [
    "print(lst.index.__doc__)"
   ]
  },
  {
   "cell_type": "code",
   "execution_count": 97,
   "id": "94557ef1",
   "metadata": {},
   "outputs": [
    {
     "name": "stdout",
     "output_type": "stream",
     "text": [
      "[12, 45, 78, 34, 24, 45, 78, 90, 45, 12, 56, 34, 45, 78, 90, 45, 12, 6, 8, 45, 12, 78]\n"
     ]
    }
   ],
   "source": [
    "print(lst)"
   ]
  },
  {
   "cell_type": "code",
   "execution_count": 98,
   "id": "dfe8aac3",
   "metadata": {},
   "outputs": [
    {
     "ename": "ValueError",
     "evalue": "'Modi' is not in list",
     "output_type": "error",
     "traceback": [
      "\u001b[1;31m---------------------------------------------------------------------------\u001b[0m",
      "\u001b[1;31mValueError\u001b[0m                                Traceback (most recent call last)",
      "Cell \u001b[1;32mIn[98], line 1\u001b[0m\n\u001b[1;32m----> 1\u001b[0m \u001b[43mlst\u001b[49m\u001b[38;5;241;43m.\u001b[39;49m\u001b[43mindex\u001b[49m\u001b[43m(\u001b[49m\u001b[38;5;124;43m\"\u001b[39;49m\u001b[38;5;124;43mModi\u001b[39;49m\u001b[38;5;124;43m\"\u001b[39;49m\u001b[43m)\u001b[49m\n",
      "\u001b[1;31mValueError\u001b[0m: 'Modi' is not in list"
     ]
    }
   ],
   "source": [
    "lst.index(\"Modi\")"
   ]
  },
  {
   "cell_type": "code",
   "execution_count": 101,
   "id": "284fbf3f",
   "metadata": {},
   "outputs": [
    {
     "data": {
      "text/plain": [
       "1"
      ]
     },
     "execution_count": 101,
     "metadata": {},
     "output_type": "execute_result"
    }
   ],
   "source": [
    "lst.index(45)"
   ]
  },
  {
   "cell_type": "code",
   "execution_count": 102,
   "id": "6ab54cce",
   "metadata": {},
   "outputs": [
    {
     "data": {
      "text/plain": [
       "5"
      ]
     },
     "execution_count": 102,
     "metadata": {},
     "output_type": "execute_result"
    }
   ],
   "source": [
    "lst.index(45,2)"
   ]
  },
  {
   "cell_type": "code",
   "execution_count": 103,
   "id": "a2af8ed6",
   "metadata": {},
   "outputs": [
    {
     "data": {
      "text/plain": [
       "8"
      ]
     },
     "execution_count": 103,
     "metadata": {},
     "output_type": "execute_result"
    }
   ],
   "source": [
    "lst.index(45,6)"
   ]
  },
  {
   "cell_type": "code",
   "execution_count": 104,
   "id": "ecbd8f40",
   "metadata": {},
   "outputs": [
    {
     "data": {
      "text/plain": [
       "12"
      ]
     },
     "execution_count": 104,
     "metadata": {},
     "output_type": "execute_result"
    }
   ],
   "source": [
    "lst.index(45,9)"
   ]
  },
  {
   "cell_type": "code",
   "execution_count": 105,
   "id": "70fc707a",
   "metadata": {},
   "outputs": [
    {
     "data": {
      "text/plain": [
       "15"
      ]
     },
     "execution_count": 105,
     "metadata": {},
     "output_type": "execute_result"
    }
   ],
   "source": [
    "lst.index(45,13)"
   ]
  },
  {
   "cell_type": "code",
   "execution_count": 108,
   "id": "6e82bf66",
   "metadata": {},
   "outputs": [
    {
     "name": "stdout",
     "output_type": "stream",
     "text": [
      "[12, 45, 78, 34, 24, 45, 78, 90, 45, 12, 56, 34, 45, 78, 90, 45, 12, 6, 8, 45, 12, 78]\n"
     ]
    }
   ],
   "source": [
    "print(lst)"
   ]
  },
  {
   "cell_type": "code",
   "execution_count": 109,
   "id": "a9c7f033",
   "metadata": {},
   "outputs": [
    {
     "data": {
      "text/plain": [
       "1"
      ]
     },
     "execution_count": 109,
     "metadata": {},
     "output_type": "execute_result"
    }
   ],
   "source": [
    "lst.index(45)"
   ]
  },
  {
   "cell_type": "code",
   "execution_count": 110,
   "id": "1475b4b5",
   "metadata": {},
   "outputs": [
    {
     "data": {
      "text/plain": [
       "5"
      ]
     },
     "execution_count": 110,
     "metadata": {},
     "output_type": "execute_result"
    }
   ],
   "source": [
    "lst.index(45, lst.index(45) + 1)"
   ]
  },
  {
   "cell_type": "code",
   "execution_count": 111,
   "id": "104321a3",
   "metadata": {},
   "outputs": [
    {
     "data": {
      "text/plain": [
       "8"
      ]
     },
     "execution_count": 111,
     "metadata": {},
     "output_type": "execute_result"
    }
   ],
   "source": [
    "lst.index(45, lst.index(45, lst.index(45) + 1) + 1)"
   ]
  },
  {
   "cell_type": "code",
   "execution_count": 112,
   "id": "7563725b",
   "metadata": {},
   "outputs": [
    {
     "data": {
      "text/plain": [
       "12"
      ]
     },
     "execution_count": 112,
     "metadata": {},
     "output_type": "execute_result"
    }
   ],
   "source": [
    "lst.index(45, lst.index(45, lst.index(45, lst.index(45) + 1) + 1) + 1)"
   ]
  },
  {
   "cell_type": "code",
   "execution_count": 113,
   "id": "578b674b",
   "metadata": {},
   "outputs": [
    {
     "data": {
      "text/plain": [
       "15"
      ]
     },
     "execution_count": 113,
     "metadata": {},
     "output_type": "execute_result"
    }
   ],
   "source": [
    "lst.index(45, lst.index(45, lst.index(45, lst.index(45, lst.index(45) + 1) + 1) + 1) + 1)"
   ]
  },
  {
   "cell_type": "code",
   "execution_count": 117,
   "id": "c18d72d7",
   "metadata": {},
   "outputs": [],
   "source": [
    "# import numpy as np"
   ]
  },
  {
   "cell_type": "code",
   "execution_count": 118,
   "id": "df67eeee",
   "metadata": {},
   "outputs": [],
   "source": [
    "# np.where(np.array(lst) == 45)"
   ]
  },
  {
   "cell_type": "markdown",
   "id": "af49e686",
   "metadata": {},
   "source": [
    "* pop : based on item's index we can popped an item (it will give you popped item)\n",
    "* remove :  based on item's name we can removed an item (remove does not return anything)\n",
    "* del (del is a keyword) : using a del we can delete an item(based on item's index) or list "
   ]
  },
  {
   "cell_type": "code",
   "execution_count": 121,
   "id": "f5360f7f",
   "metadata": {},
   "outputs": [
    {
     "name": "stdout",
     "output_type": "stream",
     "text": [
      "['False', 'None', 'True', 'and', 'as', 'assert', 'async', 'await', 'break', 'class', 'continue', 'def', 'del', 'elif', 'else', 'except', 'finally', 'for', 'from', 'global', 'if', 'import', 'in', 'is', 'lambda', 'nonlocal', 'not', 'or', 'pass', 'raise', 'return', 'try', 'while', 'with', 'yield']\n"
     ]
    }
   ],
   "source": [
    "import keyword\n",
    "print(keyword.kwlist)"
   ]
  },
  {
   "cell_type": "markdown",
   "id": "536770ca",
   "metadata": {},
   "source": [
    "In Jupyter Notebook, if you found a word with green and bold color that is keyword."
   ]
  },
  {
   "cell_type": "code",
   "execution_count": 126,
   "id": "232ddd17",
   "metadata": {},
   "outputs": [
    {
     "name": "stdout",
     "output_type": "stream",
     "text": [
      "[12, 45, 78, 34, 24, 45, 78, 90, 45, 12, 56, 34, 45, 78, 90, 45, 12, 6, 8, 45, 12, 78]\n"
     ]
    }
   ],
   "source": [
    "print(lst)"
   ]
  },
  {
   "cell_type": "code",
   "execution_count": 127,
   "id": "a22985b6",
   "metadata": {},
   "outputs": [],
   "source": [
    "lst.remove(24)"
   ]
  },
  {
   "cell_type": "code",
   "execution_count": 128,
   "id": "4a66b96e",
   "metadata": {},
   "outputs": [
    {
     "name": "stdout",
     "output_type": "stream",
     "text": [
      "[12, 45, 78, 34, 45, 78, 90, 45, 12, 56, 34, 45, 78, 90, 45, 12, 6, 8, 45, 12, 78]\n"
     ]
    }
   ],
   "source": [
    "print(lst)"
   ]
  },
  {
   "cell_type": "code",
   "execution_count": 129,
   "id": "ae9fc3f9",
   "metadata": {},
   "outputs": [],
   "source": [
    "lst.remove(78)"
   ]
  },
  {
   "cell_type": "code",
   "execution_count": 130,
   "id": "35a5557b",
   "metadata": {},
   "outputs": [
    {
     "name": "stdout",
     "output_type": "stream",
     "text": [
      "[12, 45, 34, 45, 78, 90, 45, 12, 56, 34, 45, 78, 90, 45, 12, 6, 8, 45, 12, 78]\n"
     ]
    }
   ],
   "source": [
    "print(lst)"
   ]
  },
  {
   "cell_type": "code",
   "execution_count": 131,
   "id": "8636ce7d",
   "metadata": {},
   "outputs": [
    {
     "data": {
      "text/plain": [
       "78"
      ]
     },
     "execution_count": 131,
     "metadata": {},
     "output_type": "execute_result"
    }
   ],
   "source": [
    "lst.pop() # if you are not passing any index by default last item wiped out."
   ]
  },
  {
   "cell_type": "code",
   "execution_count": 132,
   "id": "922e6a12",
   "metadata": {},
   "outputs": [
    {
     "data": {
      "text/plain": [
       "[12, 45, 34, 45, 78, 90, 45, 12, 56, 34, 45, 78, 90, 45, 12, 6, 8, 45, 12]"
      ]
     },
     "execution_count": 132,
     "metadata": {},
     "output_type": "execute_result"
    }
   ],
   "source": [
    "lst"
   ]
  },
  {
   "cell_type": "code",
   "execution_count": 133,
   "id": "65805e4a",
   "metadata": {},
   "outputs": [
    {
     "data": {
      "text/plain": [
       "90"
      ]
     },
     "execution_count": 133,
     "metadata": {},
     "output_type": "execute_result"
    }
   ],
   "source": [
    "lst.pop(lst.index(90))"
   ]
  },
  {
   "cell_type": "code",
   "execution_count": 134,
   "id": "c1abbdb9",
   "metadata": {},
   "outputs": [
    {
     "data": {
      "text/plain": [
       "[12, 45, 34, 45, 78, 45, 12, 56, 34, 45, 78, 90, 45, 12, 6, 8, 45, 12]"
      ]
     },
     "execution_count": 134,
     "metadata": {},
     "output_type": "execute_result"
    }
   ],
   "source": [
    "lst"
   ]
  },
  {
   "cell_type": "code",
   "execution_count": 135,
   "id": "8dcc8364",
   "metadata": {},
   "outputs": [
    {
     "ename": "IndexError",
     "evalue": "pop index out of range",
     "output_type": "error",
     "traceback": [
      "\u001b[1;31m---------------------------------------------------------------------------\u001b[0m",
      "\u001b[1;31mIndexError\u001b[0m                                Traceback (most recent call last)",
      "Cell \u001b[1;32mIn[135], line 1\u001b[0m\n\u001b[1;32m----> 1\u001b[0m \u001b[43mlst\u001b[49m\u001b[38;5;241;43m.\u001b[39;49m\u001b[43mpop\u001b[49m\u001b[43m(\u001b[49m\u001b[38;5;241;43m100\u001b[39;49m\u001b[43m)\u001b[49m\n",
      "\u001b[1;31mIndexError\u001b[0m: pop index out of range"
     ]
    }
   ],
   "source": [
    "lst.pop(100)"
   ]
  },
  {
   "cell_type": "code",
   "execution_count": 136,
   "id": "3e895035",
   "metadata": {},
   "outputs": [],
   "source": [
    "lst.remove?"
   ]
  },
  {
   "cell_type": "code",
   "execution_count": 137,
   "id": "daa70a83",
   "metadata": {},
   "outputs": [
    {
     "name": "stdout",
     "output_type": "stream",
     "text": [
      "[12, 45, 34, 45, 78, 45, 12, 56, 34, 45, 78, 90, 45, 12, 6, 8, 45, 12]\n"
     ]
    }
   ],
   "source": [
    "print(lst)"
   ]
  },
  {
   "cell_type": "code",
   "execution_count": 138,
   "id": "f82a3a71",
   "metadata": {},
   "outputs": [
    {
     "ename": "ValueError",
     "evalue": "'Modi' is not in list",
     "output_type": "error",
     "traceback": [
      "\u001b[1;31m---------------------------------------------------------------------------\u001b[0m",
      "\u001b[1;31mValueError\u001b[0m                                Traceback (most recent call last)",
      "Cell \u001b[1;32mIn[138], line 1\u001b[0m\n\u001b[1;32m----> 1\u001b[0m \u001b[43mlst\u001b[49m\u001b[38;5;241;43m.\u001b[39;49m\u001b[43mindex\u001b[49m\u001b[43m(\u001b[49m\u001b[38;5;124;43m\"\u001b[39;49m\u001b[38;5;124;43mModi\u001b[39;49m\u001b[38;5;124;43m\"\u001b[39;49m\u001b[43m)\u001b[49m\n",
      "\u001b[1;31mValueError\u001b[0m: 'Modi' is not in list"
     ]
    }
   ],
   "source": [
    "lst.index(\"Modi\")"
   ]
  },
  {
   "cell_type": "code",
   "execution_count": 139,
   "id": "5f4598d9",
   "metadata": {},
   "outputs": [
    {
     "ename": "ValueError",
     "evalue": "list.remove(x): x not in list",
     "output_type": "error",
     "traceback": [
      "\u001b[1;31m---------------------------------------------------------------------------\u001b[0m",
      "\u001b[1;31mValueError\u001b[0m                                Traceback (most recent call last)",
      "Cell \u001b[1;32mIn[139], line 1\u001b[0m\n\u001b[1;32m----> 1\u001b[0m \u001b[43mlst\u001b[49m\u001b[38;5;241;43m.\u001b[39;49m\u001b[43mremove\u001b[49m\u001b[43m(\u001b[49m\u001b[38;5;124;43m\"\u001b[39;49m\u001b[38;5;124;43mkaran\u001b[39;49m\u001b[38;5;124;43m\"\u001b[39;49m\u001b[43m)\u001b[49m\n",
      "\u001b[1;31mValueError\u001b[0m: list.remove(x): x not in list"
     ]
    }
   ],
   "source": [
    "lst.remove(\"karan\")"
   ]
  },
  {
   "cell_type": "code",
   "execution_count": 140,
   "id": "5d948277",
   "metadata": {},
   "outputs": [
    {
     "data": {
      "text/plain": [
       "[12, 45, 34, 45, 78, 45, 12, 56, 34, 45, 78, 90, 45, 12, 6, 8, 45, 12]"
      ]
     },
     "execution_count": 140,
     "metadata": {},
     "output_type": "execute_result"
    }
   ],
   "source": [
    "lst"
   ]
  },
  {
   "cell_type": "code",
   "execution_count": 141,
   "id": "4db29c0a",
   "metadata": {},
   "outputs": [],
   "source": [
    "for item in lst:\n",
    "    if item == 78:\n",
    "        lst.remove(item)"
   ]
  },
  {
   "cell_type": "code",
   "execution_count": 142,
   "id": "b61efa28",
   "metadata": {},
   "outputs": [
    {
     "data": {
      "text/plain": [
       "[12, 45, 34, 45, 45, 12, 56, 34, 45, 90, 45, 12, 6, 8, 45, 12]"
      ]
     },
     "execution_count": 142,
     "metadata": {},
     "output_type": "execute_result"
    }
   ],
   "source": [
    "lst"
   ]
  },
  {
   "cell_type": "markdown",
   "id": "63a2d542",
   "metadata": {},
   "source": [
    "# difference pop and remove\n",
    "* Pop: based on item's index and returned a delete item\n",
    "* Remove: based on item's name and does not return anything like pop \n",
    "* del: It is keyword of Python removed an item based on item index, using del we can also delete a list or object as well. Del does not return anything like remove."
   ]
  },
  {
   "cell_type": "code",
   "execution_count": 143,
   "id": "47b2a9d3",
   "metadata": {},
   "outputs": [
    {
     "data": {
      "text/plain": [
       "[12, 45, 34, 45, 45, 12, 56, 34, 45, 90, 45, 12, 6, 8, 45, 12]"
      ]
     },
     "execution_count": 143,
     "metadata": {},
     "output_type": "execute_result"
    }
   ],
   "source": [
    "lst"
   ]
  },
  {
   "cell_type": "code",
   "execution_count": 144,
   "id": "3f07b60f",
   "metadata": {},
   "outputs": [],
   "source": [
    "del lst[-1]"
   ]
  },
  {
   "cell_type": "code",
   "execution_count": 145,
   "id": "455055a1",
   "metadata": {},
   "outputs": [
    {
     "data": {
      "text/plain": [
       "[12, 45, 34, 45, 45, 12, 56, 34, 45, 90, 45, 12, 6, 8, 45]"
      ]
     },
     "execution_count": 145,
     "metadata": {},
     "output_type": "execute_result"
    }
   ],
   "source": [
    "lst"
   ]
  },
  {
   "cell_type": "code",
   "execution_count": 146,
   "id": "16206dbf",
   "metadata": {},
   "outputs": [
    {
     "data": {
      "text/plain": [
       "100"
      ]
     },
     "execution_count": 146,
     "metadata": {},
     "output_type": "execute_result"
    }
   ],
   "source": [
    "a"
   ]
  },
  {
   "cell_type": "code",
   "execution_count": 147,
   "id": "1deb9b60",
   "metadata": {},
   "outputs": [],
   "source": [
    "del a"
   ]
  },
  {
   "cell_type": "code",
   "execution_count": 149,
   "id": "8b2e6e2f",
   "metadata": {},
   "outputs": [
    {
     "data": {
      "text/plain": [
       "[1, 2, 1, 2, 3, 4, [4, 5, 6, 7, [[4, 5, 6]]], (1, 2, 3, 4)]"
      ]
     },
     "execution_count": 149,
     "metadata": {},
     "output_type": "execute_result"
    }
   ],
   "source": [
    "newlst"
   ]
  },
  {
   "cell_type": "code",
   "execution_count": 150,
   "id": "5ab53eb5",
   "metadata": {},
   "outputs": [],
   "source": [
    "del newlst"
   ]
  },
  {
   "cell_type": "code",
   "execution_count": 151,
   "id": "caf3b993",
   "metadata": {},
   "outputs": [
    {
     "ename": "NameError",
     "evalue": "name 'newlst' is not defined",
     "output_type": "error",
     "traceback": [
      "\u001b[1;31m---------------------------------------------------------------------------\u001b[0m",
      "\u001b[1;31mNameError\u001b[0m                                 Traceback (most recent call last)",
      "Cell \u001b[1;32mIn[151], line 1\u001b[0m\n\u001b[1;32m----> 1\u001b[0m \u001b[43mnewlst\u001b[49m\n",
      "\u001b[1;31mNameError\u001b[0m: name 'newlst' is not defined"
     ]
    }
   ],
   "source": [
    "newlst"
   ]
  },
  {
   "cell_type": "code",
   "execution_count": 152,
   "id": "4102ee69",
   "metadata": {},
   "outputs": [
    {
     "data": {
      "text/plain": [
       "[12, 45, 34, 45, 45, 12, 56, 34, 45, 90, 45, 12, 6, 8, 45]"
      ]
     },
     "execution_count": 152,
     "metadata": {},
     "output_type": "execute_result"
    }
   ],
   "source": [
    "lst"
   ]
  },
  {
   "cell_type": "code",
   "execution_count": 153,
   "id": "67e1e7a2",
   "metadata": {},
   "outputs": [
    {
     "data": {
      "text/plain": [
       "6"
      ]
     },
     "execution_count": 153,
     "metadata": {},
     "output_type": "execute_result"
    }
   ],
   "source": [
    "lst.count(45)"
   ]
  },
  {
   "cell_type": "code",
   "execution_count": 154,
   "id": "acfe5f9b",
   "metadata": {},
   "outputs": [],
   "source": [
    "lst.insert(lst.index(90), \"Abhishek\")"
   ]
  },
  {
   "cell_type": "code",
   "execution_count": 155,
   "id": "92a74642",
   "metadata": {},
   "outputs": [
    {
     "name": "stdout",
     "output_type": "stream",
     "text": [
      "[12, 45, 34, 45, 45, 12, 56, 34, 45, 'Abhishek', 90, 45, 12, 6, 8, 45]\n"
     ]
    }
   ],
   "source": [
    "print(lst)"
   ]
  },
  {
   "cell_type": "code",
   "execution_count": 156,
   "id": "90ee93f8",
   "metadata": {},
   "outputs": [
    {
     "name": "stdout",
     "output_type": "stream",
     "text": [
      "Insert object before index.\n"
     ]
    }
   ],
   "source": [
    "print(lst.insert.__doc__)"
   ]
  },
  {
   "cell_type": "code",
   "execution_count": 157,
   "id": "bd257be6",
   "metadata": {},
   "outputs": [],
   "source": [
    "name = \"Christina\""
   ]
  },
  {
   "cell_type": "code",
   "execution_count": 158,
   "id": "36a0de02",
   "metadata": {},
   "outputs": [],
   "source": [
    "lst.insert(lst.index(90)+1, \"Abhishek\")"
   ]
  },
  {
   "cell_type": "code",
   "execution_count": 159,
   "id": "ab52645a",
   "metadata": {},
   "outputs": [
    {
     "name": "stdout",
     "output_type": "stream",
     "text": [
      "[12, 45, 34, 45, 45, 12, 56, 34, 45, 'Abhishek', 90, 'Abhishek', 45, 12, 6, 8, 45]\n"
     ]
    }
   ],
   "source": [
    "print(lst)"
   ]
  },
  {
   "cell_type": "code",
   "execution_count": 160,
   "id": "be04b905",
   "metadata": {},
   "outputs": [],
   "source": [
    "lst.insert(-3, name)"
   ]
  },
  {
   "cell_type": "code",
   "execution_count": 161,
   "id": "fcf8c2bb",
   "metadata": {},
   "outputs": [
    {
     "name": "stdout",
     "output_type": "stream",
     "text": [
      "[12, 45, 34, 45, 45, 12, 56, 34, 45, 'Abhishek', 90, 'Abhishek', 45, 12, 'Christina', 6, 8, 45]\n"
     ]
    }
   ],
   "source": [
    "print(lst)"
   ]
  },
  {
   "cell_type": "code",
   "execution_count": 162,
   "id": "316e239a",
   "metadata": {},
   "outputs": [
    {
     "data": {
      "text/plain": [
       "6"
      ]
     },
     "execution_count": 162,
     "metadata": {},
     "output_type": "execute_result"
    }
   ],
   "source": [
    "lst.index(56)"
   ]
  },
  {
   "cell_type": "code",
   "execution_count": 164,
   "id": "e44cda2a",
   "metadata": {},
   "outputs": [],
   "source": [
    "lst.insert(6, name)"
   ]
  },
  {
   "cell_type": "code",
   "execution_count": 165,
   "id": "841e5d6c",
   "metadata": {},
   "outputs": [
    {
     "data": {
      "text/plain": [
       "7"
      ]
     },
     "execution_count": 165,
     "metadata": {},
     "output_type": "execute_result"
    }
   ],
   "source": [
    "lst.index(56)"
   ]
  },
  {
   "cell_type": "code",
   "execution_count": 167,
   "id": "79fee5de",
   "metadata": {},
   "outputs": [
    {
     "data": {
      "text/plain": [
       "12"
      ]
     },
     "execution_count": 167,
     "metadata": {},
     "output_type": "execute_result"
    }
   ],
   "source": [
    "lst[-5]"
   ]
  },
  {
   "cell_type": "code",
   "execution_count": 168,
   "id": "a4affd89",
   "metadata": {},
   "outputs": [],
   "source": [
    "lst.insert(-5,\"Modi\")"
   ]
  },
  {
   "cell_type": "code",
   "execution_count": 169,
   "id": "28fb1309",
   "metadata": {},
   "outputs": [
    {
     "name": "stdout",
     "output_type": "stream",
     "text": [
      "[12, 45, 34, 45, 45, 12, 'Christina', 56, 34, 45, 'Abhishek', 90, 'Abhishek', 45, 'Modi', 12, 'Christina', 6, 8, 45]\n"
     ]
    }
   ],
   "source": [
    "print(lst)"
   ]
  },
  {
   "cell_type": "code",
   "execution_count": 170,
   "id": "60c09f4f",
   "metadata": {},
   "outputs": [
    {
     "data": {
      "text/plain": [
       "20"
      ]
     },
     "execution_count": 170,
     "metadata": {},
     "output_type": "execute_result"
    }
   ],
   "source": [
    "len(lst)"
   ]
  },
  {
   "cell_type": "code",
   "execution_count": 171,
   "id": "4252a0a3",
   "metadata": {},
   "outputs": [],
   "source": [
    "name = \"GreatLearning\""
   ]
  },
  {
   "cell_type": "code",
   "execution_count": 172,
   "id": "9536a016",
   "metadata": {},
   "outputs": [
    {
     "data": {
      "text/plain": [
       "'g'"
      ]
     },
     "execution_count": 172,
     "metadata": {},
     "output_type": "execute_result"
    }
   ],
   "source": [
    "name[-1]"
   ]
  },
  {
   "cell_type": "code",
   "execution_count": 173,
   "id": "bced61bc",
   "metadata": {},
   "outputs": [
    {
     "data": {
      "text/plain": [
       "'G'"
      ]
     },
     "execution_count": 173,
     "metadata": {},
     "output_type": "execute_result"
    }
   ],
   "source": [
    "name[0]"
   ]
  },
  {
   "cell_type": "code",
   "execution_count": 175,
   "id": "54585ee7",
   "metadata": {},
   "outputs": [
    {
     "data": {
      "text/plain": [
       "'n'"
      ]
     },
     "execution_count": 175,
     "metadata": {},
     "output_type": "execute_result"
    }
   ],
   "source": [
    "name[-2]"
   ]
  },
  {
   "cell_type": "markdown",
   "id": "9383245b",
   "metadata": {},
   "source": [
    "### Tuple"
   ]
  },
  {
   "cell_type": "markdown",
   "id": "53384921",
   "metadata": {},
   "source": [
    "Tuple is immutable data type which means we can change the elements of tuple after creation."
   ]
  },
  {
   "cell_type": "code",
   "execution_count": 6,
   "id": "f1712dea",
   "metadata": {},
   "outputs": [],
   "source": [
    "a = 10"
   ]
  },
  {
   "cell_type": "code",
   "execution_count": 7,
   "id": "e1068d61",
   "metadata": {},
   "outputs": [
    {
     "data": {
      "text/plain": [
       "int"
      ]
     },
     "execution_count": 7,
     "metadata": {},
     "output_type": "execute_result"
    }
   ],
   "source": [
    "type(a)"
   ]
  },
  {
   "cell_type": "code",
   "execution_count": 8,
   "id": "daba8072",
   "metadata": {},
   "outputs": [],
   "source": [
    "a = 10,"
   ]
  },
  {
   "cell_type": "code",
   "execution_count": 9,
   "id": "b63d4005",
   "metadata": {},
   "outputs": [
    {
     "data": {
      "text/plain": [
       "tuple"
      ]
     },
     "execution_count": 9,
     "metadata": {},
     "output_type": "execute_result"
    }
   ],
   "source": [
    "type(a)"
   ]
  },
  {
   "cell_type": "code",
   "execution_count": 10,
   "id": "4cdfed0b",
   "metadata": {},
   "outputs": [
    {
     "data": {
      "text/plain": [
       "(10,)"
      ]
     },
     "execution_count": 10,
     "metadata": {},
     "output_type": "execute_result"
    }
   ],
   "source": [
    "a"
   ]
  },
  {
   "cell_type": "code",
   "execution_count": 11,
   "id": "2d2159f1",
   "metadata": {},
   "outputs": [],
   "source": [
    "a = \"a\",\"b\",\"c\""
   ]
  },
  {
   "cell_type": "code",
   "execution_count": 12,
   "id": "57b07e10",
   "metadata": {},
   "outputs": [
    {
     "data": {
      "text/plain": [
       "('a', 'b', 'c')"
      ]
     },
     "execution_count": 12,
     "metadata": {},
     "output_type": "execute_result"
    }
   ],
   "source": [
    "a"
   ]
  },
  {
   "cell_type": "code",
   "execution_count": 13,
   "id": "3d31922f",
   "metadata": {},
   "outputs": [],
   "source": [
    "x = (10)"
   ]
  },
  {
   "cell_type": "code",
   "execution_count": 14,
   "id": "4961766d",
   "metadata": {},
   "outputs": [
    {
     "data": {
      "text/plain": [
       "int"
      ]
     },
     "execution_count": 14,
     "metadata": {},
     "output_type": "execute_result"
    }
   ],
   "source": [
    "type(x)"
   ]
  },
  {
   "cell_type": "code",
   "execution_count": 15,
   "id": "dac9a5c0",
   "metadata": {},
   "outputs": [],
   "source": [
    "x = (10,)"
   ]
  },
  {
   "cell_type": "code",
   "execution_count": 16,
   "id": "fc92b1ff",
   "metadata": {},
   "outputs": [
    {
     "data": {
      "text/plain": [
       "tuple"
      ]
     },
     "execution_count": 16,
     "metadata": {},
     "output_type": "execute_result"
    }
   ],
   "source": [
    "type(x)"
   ]
  },
  {
   "cell_type": "code",
   "execution_count": 17,
   "id": "a762b900",
   "metadata": {},
   "outputs": [],
   "source": [
    "x = (10,23,4,5)"
   ]
  },
  {
   "cell_type": "code",
   "execution_count": 18,
   "id": "fd3d8a18",
   "metadata": {},
   "outputs": [
    {
     "data": {
      "text/plain": [
       "(10, 23, 4, 5)"
      ]
     },
     "execution_count": 18,
     "metadata": {},
     "output_type": "execute_result"
    }
   ],
   "source": [
    "x"
   ]
  },
  {
   "cell_type": "code",
   "execution_count": 20,
   "id": "f560971c",
   "metadata": {},
   "outputs": [],
   "source": [
    "x = tuple(\"a\")"
   ]
  },
  {
   "cell_type": "code",
   "execution_count": 21,
   "id": "53bfe5ca",
   "metadata": {},
   "outputs": [
    {
     "data": {
      "text/plain": [
       "('a',)"
      ]
     },
     "execution_count": 21,
     "metadata": {},
     "output_type": "execute_result"
    }
   ],
   "source": [
    "x"
   ]
  },
  {
   "cell_type": "code",
   "execution_count": 22,
   "id": "8b7c2a9a",
   "metadata": {},
   "outputs": [
    {
     "data": {
      "text/plain": [
       "['P', 'y', 't', 'h', 'o', 'n']"
      ]
     },
     "execution_count": 22,
     "metadata": {},
     "output_type": "execute_result"
    }
   ],
   "source": [
    "list(\"Python\")"
   ]
  },
  {
   "cell_type": "code",
   "execution_count": 23,
   "id": "ed7b1edf",
   "metadata": {},
   "outputs": [],
   "source": [
    "a = ()"
   ]
  },
  {
   "cell_type": "code",
   "execution_count": 24,
   "id": "4db16927",
   "metadata": {},
   "outputs": [
    {
     "data": {
      "text/plain": [
       "tuple"
      ]
     },
     "execution_count": 24,
     "metadata": {},
     "output_type": "execute_result"
    }
   ],
   "source": [
    "type(a)"
   ]
  },
  {
   "cell_type": "code",
   "execution_count": 25,
   "id": "c637e1e5",
   "metadata": {},
   "outputs": [],
   "source": [
    "lst = [10,23,56,78,(1,4,7,8,[10,23,45,(4,5,6,7)])]"
   ]
  },
  {
   "cell_type": "code",
   "execution_count": 26,
   "id": "2da76e7a",
   "metadata": {},
   "outputs": [
    {
     "data": {
      "text/plain": [
       "[10, 23, 56, 78, (1, 4, 7, 8, [10, 23, 45, (4, 5, 6, 7)])]"
      ]
     },
     "execution_count": 26,
     "metadata": {},
     "output_type": "execute_result"
    }
   ],
   "source": [
    "lst"
   ]
  },
  {
   "cell_type": "code",
   "execution_count": 27,
   "id": "36094ff1",
   "metadata": {},
   "outputs": [
    {
     "data": {
      "text/plain": [
       "56"
      ]
     },
     "execution_count": 27,
     "metadata": {},
     "output_type": "execute_result"
    }
   ],
   "source": [
    "lst[2]"
   ]
  },
  {
   "cell_type": "code",
   "execution_count": 28,
   "id": "8fc739c4",
   "metadata": {},
   "outputs": [],
   "source": [
    "lst[2] = \"A\""
   ]
  },
  {
   "cell_type": "code",
   "execution_count": 29,
   "id": "5b7af857",
   "metadata": {},
   "outputs": [
    {
     "data": {
      "text/plain": [
       "[10, 23, 'A', 78, (1, 4, 7, 8, [10, 23, 45, (4, 5, 6, 7)])]"
      ]
     },
     "execution_count": 29,
     "metadata": {},
     "output_type": "execute_result"
    }
   ],
   "source": [
    "lst"
   ]
  },
  {
   "cell_type": "code",
   "execution_count": 30,
   "id": "2f1094e3",
   "metadata": {},
   "outputs": [
    {
     "data": {
      "text/plain": [
       "(1, 4, 7, 8, [10, 23, 45, (4, 5, 6, 7)])"
      ]
     },
     "execution_count": 30,
     "metadata": {},
     "output_type": "execute_result"
    }
   ],
   "source": [
    "lst[4]"
   ]
  },
  {
   "cell_type": "code",
   "execution_count": 31,
   "id": "f929eb52",
   "metadata": {},
   "outputs": [
    {
     "data": {
      "text/plain": [
       "7"
      ]
     },
     "execution_count": 31,
     "metadata": {},
     "output_type": "execute_result"
    }
   ],
   "source": [
    "lst[4][2]"
   ]
  },
  {
   "cell_type": "code",
   "execution_count": 32,
   "id": "acbb98a4",
   "metadata": {},
   "outputs": [
    {
     "ename": "TypeError",
     "evalue": "'tuple' object does not support item assignment",
     "output_type": "error",
     "traceback": [
      "\u001b[1;31m---------------------------------------------------------------------------\u001b[0m",
      "\u001b[1;31mTypeError\u001b[0m                                 Traceback (most recent call last)",
      "Cell \u001b[1;32mIn[32], line 1\u001b[0m\n\u001b[1;32m----> 1\u001b[0m \u001b[43mlst\u001b[49m\u001b[43m[\u001b[49m\u001b[38;5;241;43m4\u001b[39;49m\u001b[43m]\u001b[49m\u001b[43m[\u001b[49m\u001b[38;5;241;43m2\u001b[39;49m\u001b[43m]\u001b[49m \u001b[38;5;241m=\u001b[39m \u001b[38;5;124m\"\u001b[39m\u001b[38;5;124mA\u001b[39m\u001b[38;5;124m\"\u001b[39m\n",
      "\u001b[1;31mTypeError\u001b[0m: 'tuple' object does not support item assignment"
     ]
    }
   ],
   "source": [
    "lst[4][2] = \"A\""
   ]
  },
  {
   "cell_type": "code",
   "execution_count": 33,
   "id": "8713adc6",
   "metadata": {},
   "outputs": [],
   "source": [
    "t = (1,4,88,99,5,[4,5,6,7],(4,5,9))"
   ]
  },
  {
   "cell_type": "code",
   "execution_count": 34,
   "id": "41b58be0",
   "metadata": {},
   "outputs": [
    {
     "data": {
      "text/plain": [
       "99"
      ]
     },
     "execution_count": 34,
     "metadata": {},
     "output_type": "execute_result"
    }
   ],
   "source": [
    "t[-4]"
   ]
  },
  {
   "cell_type": "code",
   "execution_count": 36,
   "id": "a8c79477",
   "metadata": {},
   "outputs": [],
   "source": [
    "t[-2].append(\"Abhishek\")"
   ]
  },
  {
   "cell_type": "code",
   "execution_count": 37,
   "id": "cbc151fe",
   "metadata": {},
   "outputs": [
    {
     "data": {
      "text/plain": [
       "(1, 4, 88, 99, 5, [4, 5, 6, 7, 'Abhishek'], (4, 5, 9))"
      ]
     },
     "execution_count": 37,
     "metadata": {},
     "output_type": "execute_result"
    }
   ],
   "source": [
    "t"
   ]
  },
  {
   "cell_type": "code",
   "execution_count": 38,
   "id": "073bf5af",
   "metadata": {},
   "outputs": [
    {
     "data": {
      "text/plain": [
       "[10, 23, 'A', 78, (1, 4, 7, 8, [10, 23, 45, (4, 5, 6, 7)])]"
      ]
     },
     "execution_count": 38,
     "metadata": {},
     "output_type": "execute_result"
    }
   ],
   "source": [
    "lst"
   ]
  },
  {
   "cell_type": "code",
   "execution_count": 39,
   "id": "893b534e",
   "metadata": {},
   "outputs": [
    {
     "data": {
      "text/plain": [
       "5"
      ]
     },
     "execution_count": 39,
     "metadata": {},
     "output_type": "execute_result"
    }
   ],
   "source": [
    "len(lst)"
   ]
  },
  {
   "cell_type": "code",
   "execution_count": 40,
   "id": "a6ed83c5",
   "metadata": {},
   "outputs": [
    {
     "data": {
      "text/plain": [
       "(1, 4, 7, 8, [10, 23, 45, (4, 5, 6, 7)])"
      ]
     },
     "execution_count": 40,
     "metadata": {},
     "output_type": "execute_result"
    }
   ],
   "source": [
    "lst[4]"
   ]
  },
  {
   "cell_type": "code",
   "execution_count": 41,
   "id": "e3fe1ffd",
   "metadata": {},
   "outputs": [
    {
     "data": {
      "text/plain": [
       "5"
      ]
     },
     "execution_count": 41,
     "metadata": {},
     "output_type": "execute_result"
    }
   ],
   "source": [
    "len(lst[4])"
   ]
  },
  {
   "cell_type": "code",
   "execution_count": 42,
   "id": "7be46d94",
   "metadata": {},
   "outputs": [
    {
     "data": {
      "text/plain": [
       "[10, 23, 45, (4, 5, 6, 7)]"
      ]
     },
     "execution_count": 42,
     "metadata": {},
     "output_type": "execute_result"
    }
   ],
   "source": [
    "lst[4][-1]"
   ]
  },
  {
   "cell_type": "code",
   "execution_count": 43,
   "id": "d25fd1e4",
   "metadata": {},
   "outputs": [
    {
     "data": {
      "text/plain": [
       "(4, 5, 6, 7)"
      ]
     },
     "execution_count": 43,
     "metadata": {},
     "output_type": "execute_result"
    }
   ],
   "source": [
    "lst[4][-1][-1]"
   ]
  },
  {
   "cell_type": "code",
   "execution_count": 44,
   "id": "2d2d14d3",
   "metadata": {},
   "outputs": [
    {
     "data": {
      "text/plain": [
       "7"
      ]
     },
     "execution_count": 44,
     "metadata": {},
     "output_type": "execute_result"
    }
   ],
   "source": [
    "lst[4][-1][-1][-1]"
   ]
  },
  {
   "cell_type": "markdown",
   "id": "27b67ed2",
   "metadata": {},
   "source": [
    "### Python Set Data Structure:"
   ]
  },
  {
   "cell_type": "code",
   "execution_count": 46,
   "id": "91a903c1",
   "metadata": {},
   "outputs": [],
   "source": [
    "numbers = [10,20,40,50,20,30,10,20,30,50]"
   ]
  },
  {
   "cell_type": "code",
   "execution_count": 47,
   "id": "91547f5c",
   "metadata": {},
   "outputs": [
    {
     "data": {
      "text/plain": [
       "[40, 10, 50, 20, 30]"
      ]
     },
     "execution_count": 47,
     "metadata": {},
     "output_type": "execute_result"
    }
   ],
   "source": [
    "list(set(numbers))"
   ]
  },
  {
   "cell_type": "code",
   "execution_count": 48,
   "id": "e3e9ad9f",
   "metadata": {},
   "outputs": [],
   "source": [
    "setA = {}"
   ]
  },
  {
   "cell_type": "code",
   "execution_count": 49,
   "id": "92a535ad",
   "metadata": {},
   "outputs": [
    {
     "data": {
      "text/plain": [
       "dict"
      ]
     },
     "execution_count": 49,
     "metadata": {},
     "output_type": "execute_result"
    }
   ],
   "source": [
    "type(setA)"
   ]
  },
  {
   "cell_type": "code",
   "execution_count": 50,
   "id": "00df03db",
   "metadata": {},
   "outputs": [],
   "source": [
    "setA = {10,20,40,50,10,\"A\",\"X\",\"y\",100,40,1, \"0\"}"
   ]
  },
  {
   "cell_type": "code",
   "execution_count": 51,
   "id": "b1bb860d",
   "metadata": {},
   "outputs": [
    {
     "data": {
      "text/plain": [
       "{'0', 1, 10, 100, 20, 40, 50, 'A', 'X', 'y'}"
      ]
     },
     "execution_count": 51,
     "metadata": {},
     "output_type": "execute_result"
    }
   ],
   "source": [
    "setA"
   ]
  },
  {
   "cell_type": "code",
   "execution_count": 52,
   "id": "700a28df",
   "metadata": {},
   "outputs": [],
   "source": [
    "lst = [10,20,40,50,10,\"A\",\"X\",\"y\",100,40,1, \"0\"]"
   ]
  },
  {
   "cell_type": "code",
   "execution_count": 53,
   "id": "923683cb",
   "metadata": {},
   "outputs": [
    {
     "data": {
      "text/plain": [
       "[10, 20, 40, 50, 10, 'A', 'X', 'y', 100, 40, 1, '0']"
      ]
     },
     "execution_count": 53,
     "metadata": {},
     "output_type": "execute_result"
    }
   ],
   "source": [
    "lst"
   ]
  },
  {
   "cell_type": "code",
   "execution_count": 54,
   "id": "6c16b7b2",
   "metadata": {},
   "outputs": [],
   "source": [
    "setA = {1,4,5,6}"
   ]
  },
  {
   "cell_type": "code",
   "execution_count": 55,
   "id": "50cd4e96",
   "metadata": {},
   "outputs": [],
   "source": [
    "setA.add(\"10\")"
   ]
  },
  {
   "cell_type": "code",
   "execution_count": 56,
   "id": "625be3f0",
   "metadata": {},
   "outputs": [
    {
     "data": {
      "text/plain": [
       "{1, '10', 4, 5, 6}"
      ]
     },
     "execution_count": 56,
     "metadata": {},
     "output_type": "execute_result"
    }
   ],
   "source": [
    "setA"
   ]
  },
  {
   "cell_type": "markdown",
   "id": "b65e4ef7",
   "metadata": {},
   "source": [
    "### What if I want to add 4 items at a time"
   ]
  },
  {
   "cell_type": "code",
   "execution_count": 57,
   "id": "2d62a17d",
   "metadata": {},
   "outputs": [],
   "source": [
    "setA.update([20,40,70,90])"
   ]
  },
  {
   "cell_type": "code",
   "execution_count": 58,
   "id": "1c4a1177",
   "metadata": {},
   "outputs": [
    {
     "data": {
      "text/plain": [
       "{1, '10', 20, 4, 40, 5, 6, 70, 90}"
      ]
     },
     "execution_count": 58,
     "metadata": {},
     "output_type": "execute_result"
    }
   ],
   "source": [
    "setA"
   ]
  },
  {
   "cell_type": "code",
   "execution_count": 60,
   "id": "ec848fa0",
   "metadata": {},
   "outputs": [],
   "source": [
    "setA = {1,5,7,9,11,\"X\",18,\"Z\"}\n",
    "setB = {5,9,\"Y\",\"M\",\"Q\",10,1}"
   ]
  },
  {
   "cell_type": "code",
   "execution_count": 61,
   "id": "e92af6eb",
   "metadata": {},
   "outputs": [
    {
     "data": {
      "text/plain": [
       "{1, 11, 18, 5, 7, 9, 'X', 'Z'}"
      ]
     },
     "execution_count": 61,
     "metadata": {},
     "output_type": "execute_result"
    }
   ],
   "source": [
    "setA"
   ]
  },
  {
   "cell_type": "code",
   "execution_count": 62,
   "id": "a08bf845",
   "metadata": {},
   "outputs": [
    {
     "data": {
      "text/plain": [
       "{1, 10, 5, 9, 'M', 'Q', 'Y'}"
      ]
     },
     "execution_count": 62,
     "metadata": {},
     "output_type": "execute_result"
    }
   ],
   "source": [
    "setB"
   ]
  },
  {
   "cell_type": "markdown",
   "id": "5fa73631",
   "metadata": {},
   "source": [
    "### Common element between the set"
   ]
  },
  {
   "cell_type": "code",
   "execution_count": 63,
   "id": "e1495c4c",
   "metadata": {},
   "outputs": [
    {
     "data": {
      "text/plain": [
       "{1, 5, 9}"
      ]
     },
     "execution_count": 63,
     "metadata": {},
     "output_type": "execute_result"
    }
   ],
   "source": [
    "setA.intersection(setB)"
   ]
  },
  {
   "cell_type": "code",
   "execution_count": 64,
   "id": "fd22fa7a",
   "metadata": {},
   "outputs": [
    {
     "data": {
      "text/plain": [
       "{1, 5, 9}"
      ]
     },
     "execution_count": 64,
     "metadata": {},
     "output_type": "execute_result"
    }
   ],
   "source": [
    "setA & setB # intersection operator : &"
   ]
  },
  {
   "cell_type": "code",
   "execution_count": 65,
   "id": "45ee7f3a",
   "metadata": {},
   "outputs": [
    {
     "data": {
      "text/plain": [
       "{1, 5, 9}"
      ]
     },
     "execution_count": 65,
     "metadata": {},
     "output_type": "execute_result"
    }
   ],
   "source": [
    "setB & setA"
   ]
  },
  {
   "cell_type": "code",
   "execution_count": 66,
   "id": "bb718563",
   "metadata": {},
   "outputs": [
    {
     "data": {
      "text/plain": [
       "{1, 11, 18, 5, 7, 9, 'X', 'Z'}"
      ]
     },
     "execution_count": 66,
     "metadata": {},
     "output_type": "execute_result"
    }
   ],
   "source": [
    "setA"
   ]
  },
  {
   "cell_type": "code",
   "execution_count": 67,
   "id": "24bb8fa1",
   "metadata": {},
   "outputs": [
    {
     "data": {
      "text/plain": [
       "{1, 10, 5, 9, 'M', 'Q', 'Y'}"
      ]
     },
     "execution_count": 67,
     "metadata": {},
     "output_type": "execute_result"
    }
   ],
   "source": [
    "setB"
   ]
  },
  {
   "cell_type": "markdown",
   "id": "4e7b9069",
   "metadata": {},
   "source": [
    "### Union"
   ]
  },
  {
   "cell_type": "code",
   "execution_count": 68,
   "id": "be78de55",
   "metadata": {},
   "outputs": [
    {
     "data": {
      "text/plain": [
       "{1, 10, 11, 18, 5, 7, 9, 'M', 'Q', 'X', 'Y', 'Z'}"
      ]
     },
     "execution_count": 68,
     "metadata": {},
     "output_type": "execute_result"
    }
   ],
   "source": [
    "setA.union(setB)"
   ]
  },
  {
   "cell_type": "code",
   "execution_count": 69,
   "id": "e75655bd",
   "metadata": {},
   "outputs": [
    {
     "data": {
      "text/plain": [
       "{1, 10, 11, 18, 5, 7, 9, 'M', 'Q', 'X', 'Y', 'Z'}"
      ]
     },
     "execution_count": 69,
     "metadata": {},
     "output_type": "execute_result"
    }
   ],
   "source": [
    "setA | setB"
   ]
  },
  {
   "cell_type": "markdown",
   "id": "04ee55a6",
   "metadata": {},
   "source": [
    "### Difference"
   ]
  },
  {
   "cell_type": "code",
   "execution_count": 70,
   "id": "38613db5",
   "metadata": {},
   "outputs": [
    {
     "data": {
      "text/plain": [
       "{1, 11, 18, 5, 7, 9, 'X', 'Z'}"
      ]
     },
     "execution_count": 70,
     "metadata": {},
     "output_type": "execute_result"
    }
   ],
   "source": [
    "setA"
   ]
  },
  {
   "cell_type": "code",
   "execution_count": 71,
   "id": "4c5829ac",
   "metadata": {},
   "outputs": [
    {
     "data": {
      "text/plain": [
       "{1, 10, 5, 9, 'M', 'Q', 'Y'}"
      ]
     },
     "execution_count": 71,
     "metadata": {},
     "output_type": "execute_result"
    }
   ],
   "source": [
    "setB"
   ]
  },
  {
   "cell_type": "code",
   "execution_count": 72,
   "id": "9d1e40e4",
   "metadata": {},
   "outputs": [
    {
     "data": {
      "text/plain": [
       "{11, 18, 7, 'X', 'Z'}"
      ]
     },
     "execution_count": 72,
     "metadata": {},
     "output_type": "execute_result"
    }
   ],
   "source": [
    "setA - setB"
   ]
  },
  {
   "cell_type": "code",
   "execution_count": 73,
   "id": "9350be52",
   "metadata": {},
   "outputs": [
    {
     "data": {
      "text/plain": [
       "{10, 'M', 'Q', 'Y'}"
      ]
     },
     "execution_count": 73,
     "metadata": {},
     "output_type": "execute_result"
    }
   ],
   "source": [
    "setB - setA"
   ]
  },
  {
   "cell_type": "markdown",
   "id": "77c4637f",
   "metadata": {},
   "source": [
    "### Symmetric_update\n",
    "except common in both"
   ]
  },
  {
   "cell_type": "code",
   "execution_count": 74,
   "id": "5222c706",
   "metadata": {},
   "outputs": [
    {
     "data": {
      "text/plain": [
       "{1, 11, 18, 5, 7, 9, 'X', 'Z'}"
      ]
     },
     "execution_count": 74,
     "metadata": {},
     "output_type": "execute_result"
    }
   ],
   "source": [
    "setA"
   ]
  },
  {
   "cell_type": "code",
   "execution_count": 75,
   "id": "5c53cd59",
   "metadata": {},
   "outputs": [
    {
     "data": {
      "text/plain": [
       "{1, 10, 5, 9, 'M', 'Q', 'Y'}"
      ]
     },
     "execution_count": 75,
     "metadata": {},
     "output_type": "execute_result"
    }
   ],
   "source": [
    "setB"
   ]
  },
  {
   "cell_type": "code",
   "execution_count": 76,
   "id": "18d382b2",
   "metadata": {},
   "outputs": [
    {
     "data": {
      "text/plain": [
       "{10, 11, 18, 7, 'M', 'Q', 'X', 'Y', 'Z'}"
      ]
     },
     "execution_count": 76,
     "metadata": {},
     "output_type": "execute_result"
    }
   ],
   "source": [
    "setA ^ setB"
   ]
  },
  {
   "cell_type": "code",
   "execution_count": 77,
   "id": "f7e12a20",
   "metadata": {},
   "outputs": [
    {
     "data": {
      "text/plain": [
       "{10, 11, 18, 7, 'M', 'Q', 'X', 'Y', 'Z'}"
      ]
     },
     "execution_count": 77,
     "metadata": {},
     "output_type": "execute_result"
    }
   ],
   "source": [
    "# symmetric_update = union - intersection\n",
    "\n",
    "setA.union(setB) - setA.intersection(setB)"
   ]
  },
  {
   "cell_type": "markdown",
   "id": "1a361b80",
   "metadata": {},
   "source": [
    "### issubset or issuperset"
   ]
  },
  {
   "cell_type": "code",
   "execution_count": 78,
   "id": "f3b1ae83",
   "metadata": {},
   "outputs": [
    {
     "data": {
      "text/plain": [
       "{1, 11, 18, 5, 7, 9, 'X', 'Z'}"
      ]
     },
     "execution_count": 78,
     "metadata": {},
     "output_type": "execute_result"
    }
   ],
   "source": [
    "setA"
   ]
  },
  {
   "cell_type": "code",
   "execution_count": 79,
   "id": "742ffde1",
   "metadata": {},
   "outputs": [],
   "source": [
    "setY = {1,\"X\",5}"
   ]
  },
  {
   "cell_type": "code",
   "execution_count": 80,
   "id": "f7720087",
   "metadata": {},
   "outputs": [
    {
     "data": {
      "text/plain": [
       "True"
      ]
     },
     "execution_count": 80,
     "metadata": {},
     "output_type": "execute_result"
    }
   ],
   "source": [
    "setY.issubset(setA)"
   ]
  },
  {
   "cell_type": "code",
   "execution_count": 81,
   "id": "ea81aeae",
   "metadata": {},
   "outputs": [
    {
     "data": {
      "text/plain": [
       "True"
      ]
     },
     "execution_count": 81,
     "metadata": {},
     "output_type": "execute_result"
    }
   ],
   "source": [
    "setA.issuperset(setY)"
   ]
  },
  {
   "cell_type": "code",
   "execution_count": 82,
   "id": "3bf52f1a",
   "metadata": {},
   "outputs": [],
   "source": [
    "setC = {5,10,20}"
   ]
  },
  {
   "cell_type": "code",
   "execution_count": 83,
   "id": "a4cfe062",
   "metadata": {},
   "outputs": [
    {
     "data": {
      "text/plain": [
       "False"
      ]
     },
     "execution_count": 83,
     "metadata": {},
     "output_type": "execute_result"
    }
   ],
   "source": [
    "setC.isdisjoint(setA)"
   ]
  },
  {
   "cell_type": "code",
   "execution_count": 84,
   "id": "3895333c",
   "metadata": {},
   "outputs": [],
   "source": [
    "setC.remove(5)"
   ]
  },
  {
   "cell_type": "code",
   "execution_count": 85,
   "id": "1689d963",
   "metadata": {},
   "outputs": [],
   "source": [
    "setC.update([100,200,50])"
   ]
  },
  {
   "cell_type": "code",
   "execution_count": 86,
   "id": "49f163d4",
   "metadata": {},
   "outputs": [
    {
     "data": {
      "text/plain": [
       "{10, 20, 50, 100, 200}"
      ]
     },
     "execution_count": 86,
     "metadata": {},
     "output_type": "execute_result"
    }
   ],
   "source": [
    "setC"
   ]
  },
  {
   "cell_type": "code",
   "execution_count": 87,
   "id": "455226b0",
   "metadata": {},
   "outputs": [
    {
     "data": {
      "text/plain": [
       "{1, 11, 18, 5, 7, 9, 'X', 'Z'}"
      ]
     },
     "execution_count": 87,
     "metadata": {},
     "output_type": "execute_result"
    }
   ],
   "source": [
    "setA"
   ]
  },
  {
   "cell_type": "code",
   "execution_count": 88,
   "id": "8d9856f6",
   "metadata": {},
   "outputs": [
    {
     "data": {
      "text/plain": [
       "True"
      ]
     },
     "execution_count": 88,
     "metadata": {},
     "output_type": "execute_result"
    }
   ],
   "source": [
    "setC.isdisjoint(setA)"
   ]
  },
  {
   "cell_type": "code",
   "execution_count": 89,
   "id": "d1ca289d",
   "metadata": {},
   "outputs": [
    {
     "name": "stdout",
     "output_type": "stream",
     "text": [
      "Enter a number1: 10\n",
      "Enter a number2: 23\n"
     ]
    }
   ],
   "source": [
    "num1 = input(\"Enter a number1: \")\n",
    "num2 = input(\"Enter a number2: \")"
   ]
  },
  {
   "cell_type": "code",
   "execution_count": 90,
   "id": "f13852d0",
   "metadata": {},
   "outputs": [
    {
     "data": {
      "text/plain": [
       "str"
      ]
     },
     "execution_count": 90,
     "metadata": {},
     "output_type": "execute_result"
    }
   ],
   "source": [
    "type(num1)"
   ]
  },
  {
   "cell_type": "code",
   "execution_count": 91,
   "id": "b9977ac0",
   "metadata": {},
   "outputs": [
    {
     "data": {
      "text/plain": [
       "str"
      ]
     },
     "execution_count": 91,
     "metadata": {},
     "output_type": "execute_result"
    }
   ],
   "source": [
    "type(num2)"
   ]
  },
  {
   "cell_type": "code",
   "execution_count": 92,
   "id": "56f666af",
   "metadata": {},
   "outputs": [
    {
     "data": {
      "text/plain": [
       "33"
      ]
     },
     "execution_count": 92,
     "metadata": {},
     "output_type": "execute_result"
    }
   ],
   "source": [
    "int(num1) + int(num2)"
   ]
  },
  {
   "cell_type": "code",
   "execution_count": 93,
   "id": "89a8967a",
   "metadata": {},
   "outputs": [
    {
     "data": {
      "text/plain": [
       "'1023'"
      ]
     },
     "execution_count": 93,
     "metadata": {},
     "output_type": "execute_result"
    }
   ],
   "source": [
    "num1 + num2"
   ]
  },
  {
   "cell_type": "markdown",
   "id": "bc1baf20",
   "metadata": {},
   "source": [
    "### Python Dictionary "
   ]
  },
  {
   "cell_type": "markdown",
   "id": "324df47d",
   "metadata": {},
   "source": [
    "* Every dictionary is the combination of key and its value\n",
    "* Every key values are separated by colon\n",
    "* Dict key can not be duplicate and these are case-sensitive"
   ]
  },
  {
   "cell_type": "code",
   "execution_count": 94,
   "id": "6d0a6d8e",
   "metadata": {},
   "outputs": [],
   "source": [
    "emp = {\"EmpID\" : [101,102,103,104,105],\n",
    "      \"EmpName\" : ['Abhishek',\"karan\",\"Christina\",\"Anand\",\"Ajeet\"],\n",
    "      \"City\" : ['Goa',\"Pune\",\"Delhi\",'Pune','Chennai']}"
   ]
  },
  {
   "cell_type": "code",
   "execution_count": 96,
   "id": "5a11be2f",
   "metadata": {},
   "outputs": [
    {
     "data": {
      "text/plain": [
       "{'EmpID': [101, 102, 103, 104, 105],\n",
       " 'EmpName': ['Abhishek', 'karan', 'Christina', 'Anand', 'Ajeet'],\n",
       " 'City': ['Goa', 'Pune', 'Delhi', 'Pune', 'Chennai']}"
      ]
     },
     "execution_count": 96,
     "metadata": {},
     "output_type": "execute_result"
    }
   ],
   "source": [
    "emp"
   ]
  },
  {
   "cell_type": "code",
   "execution_count": 97,
   "id": "bcebdec7",
   "metadata": {},
   "outputs": [
    {
     "data": {
      "text/plain": [
       "dict_keys(['EmpID', 'EmpName', 'City'])"
      ]
     },
     "execution_count": 97,
     "metadata": {},
     "output_type": "execute_result"
    }
   ],
   "source": [
    "emp.keys()"
   ]
  },
  {
   "cell_type": "code",
   "execution_count": 98,
   "id": "3cea5ef8",
   "metadata": {},
   "outputs": [
    {
     "data": {
      "text/plain": [
       "dict_values([[101, 102, 103, 104, 105], ['Abhishek', 'karan', 'Christina', 'Anand', 'Ajeet'], ['Goa', 'Pune', 'Delhi', 'Pune', 'Chennai']])"
      ]
     },
     "execution_count": 98,
     "metadata": {},
     "output_type": "execute_result"
    }
   ],
   "source": [
    "emp.values()"
   ]
  },
  {
   "cell_type": "code",
   "execution_count": 99,
   "id": "5d5097f2",
   "metadata": {},
   "outputs": [
    {
     "data": {
      "text/plain": [
       "dict_items([('EmpID', [101, 102, 103, 104, 105]), ('EmpName', ['Abhishek', 'karan', 'Christina', 'Anand', 'Ajeet']), ('City', ['Goa', 'Pune', 'Delhi', 'Pune', 'Chennai'])])"
      ]
     },
     "execution_count": 99,
     "metadata": {},
     "output_type": "execute_result"
    }
   ],
   "source": [
    "emp.items()"
   ]
  },
  {
   "cell_type": "code",
   "execution_count": 100,
   "id": "fe64e85e",
   "metadata": {},
   "outputs": [],
   "source": [
    "import pandas as pd"
   ]
  },
  {
   "cell_type": "code",
   "execution_count": 101,
   "id": "a7fea421",
   "metadata": {},
   "outputs": [
    {
     "data": {
      "text/html": [
       "<div>\n",
       "<style scoped>\n",
       "    .dataframe tbody tr th:only-of-type {\n",
       "        vertical-align: middle;\n",
       "    }\n",
       "\n",
       "    .dataframe tbody tr th {\n",
       "        vertical-align: top;\n",
       "    }\n",
       "\n",
       "    .dataframe thead th {\n",
       "        text-align: right;\n",
       "    }\n",
       "</style>\n",
       "<table border=\"1\" class=\"dataframe\">\n",
       "  <thead>\n",
       "    <tr style=\"text-align: right;\">\n",
       "      <th></th>\n",
       "      <th>EmpID</th>\n",
       "      <th>EmpName</th>\n",
       "      <th>City</th>\n",
       "    </tr>\n",
       "  </thead>\n",
       "  <tbody>\n",
       "    <tr>\n",
       "      <th>0</th>\n",
       "      <td>101</td>\n",
       "      <td>Abhishek</td>\n",
       "      <td>Goa</td>\n",
       "    </tr>\n",
       "    <tr>\n",
       "      <th>1</th>\n",
       "      <td>102</td>\n",
       "      <td>karan</td>\n",
       "      <td>Pune</td>\n",
       "    </tr>\n",
       "    <tr>\n",
       "      <th>2</th>\n",
       "      <td>103</td>\n",
       "      <td>Christina</td>\n",
       "      <td>Delhi</td>\n",
       "    </tr>\n",
       "    <tr>\n",
       "      <th>3</th>\n",
       "      <td>104</td>\n",
       "      <td>Anand</td>\n",
       "      <td>Pune</td>\n",
       "    </tr>\n",
       "    <tr>\n",
       "      <th>4</th>\n",
       "      <td>105</td>\n",
       "      <td>Ajeet</td>\n",
       "      <td>Chennai</td>\n",
       "    </tr>\n",
       "  </tbody>\n",
       "</table>\n",
       "</div>"
      ],
      "text/plain": [
       "   EmpID    EmpName     City\n",
       "0    101   Abhishek      Goa\n",
       "1    102      karan     Pune\n",
       "2    103  Christina    Delhi\n",
       "3    104      Anand     Pune\n",
       "4    105      Ajeet  Chennai"
      ]
     },
     "execution_count": 101,
     "metadata": {},
     "output_type": "execute_result"
    }
   ],
   "source": [
    "pd.DataFrame(emp)"
   ]
  },
  {
   "cell_type": "code",
   "execution_count": 102,
   "id": "f11d92e4",
   "metadata": {},
   "outputs": [],
   "source": [
    "emp[\"Grade\"] = [\"A\",\"B\",\"A+\",\"A\"]"
   ]
  },
  {
   "cell_type": "code",
   "execution_count": 103,
   "id": "24ad66b9",
   "metadata": {},
   "outputs": [
    {
     "data": {
      "text/plain": [
       "{'EmpID': [101, 102, 103, 104, 105],\n",
       " 'EmpName': ['Abhishek', 'karan', 'Christina', 'Anand', 'Ajeet'],\n",
       " 'City': ['Goa', 'Pune', 'Delhi', 'Pune', 'Chennai'],\n",
       " 'Grade': ['A', 'B', 'A+', 'A']}"
      ]
     },
     "execution_count": 103,
     "metadata": {},
     "output_type": "execute_result"
    }
   ],
   "source": [
    "emp"
   ]
  },
  {
   "cell_type": "code",
   "execution_count": 104,
   "id": "fa3d46ca",
   "metadata": {},
   "outputs": [],
   "source": [
    "emp.update({\"City\" : [\"Goa\",\"Goa\",\"Goa\"]})"
   ]
  },
  {
   "cell_type": "code",
   "execution_count": 105,
   "id": "12f4d63a",
   "metadata": {},
   "outputs": [
    {
     "data": {
      "text/plain": [
       "{'EmpID': [101, 102, 103, 104, 105],\n",
       " 'EmpName': ['Abhishek', 'karan', 'Christina', 'Anand', 'Ajeet'],\n",
       " 'City': ['Goa', 'Goa', 'Goa'],\n",
       " 'Grade': ['A', 'B', 'A+', 'A']}"
      ]
     },
     "execution_count": 105,
     "metadata": {},
     "output_type": "execute_result"
    }
   ],
   "source": [
    "emp"
   ]
  },
  {
   "cell_type": "markdown",
   "id": "6d87ee84",
   "metadata": {},
   "source": [
    "* setdefault\n",
    "* fromkeys"
   ]
  },
  {
   "cell_type": "markdown",
   "id": "bca6a949",
   "metadata": {},
   "source": [
    "##### setdefault\n",
    "\n",
    "If you are aware about the key but you are not sure abou the values of that key then you can use this function."
   ]
  },
  {
   "cell_type": "code",
   "execution_count": 106,
   "id": "ab172bf3",
   "metadata": {},
   "outputs": [
    {
     "data": {
      "text/plain": [
       "'AAAAA-DDDD-A'"
      ]
     },
     "execution_count": 106,
     "metadata": {},
     "output_type": "execute_result"
    }
   ],
   "source": [
    "emp.setdefault('PAN',\"AAAAA-DDDD-A\")"
   ]
  },
  {
   "cell_type": "code",
   "execution_count": 107,
   "id": "f43fe9e5",
   "metadata": {},
   "outputs": [
    {
     "data": {
      "text/plain": [
       "{'EmpID': [101, 102, 103, 104, 105],\n",
       " 'EmpName': ['Abhishek', 'karan', 'Christina', 'Anand', 'Ajeet'],\n",
       " 'City': ['Goa', 'Goa', 'Goa'],\n",
       " 'Grade': ['A', 'B', 'A+', 'A'],\n",
       " 'PAN': 'AAAAA-DDDD-A'}"
      ]
     },
     "execution_count": 107,
     "metadata": {},
     "output_type": "execute_result"
    }
   ],
   "source": [
    "emp"
   ]
  },
  {
   "cell_type": "code",
   "execution_count": 108,
   "id": "fbb7bd69",
   "metadata": {},
   "outputs": [],
   "source": [
    "emp.setdefault('Account')"
   ]
  },
  {
   "cell_type": "code",
   "execution_count": 109,
   "id": "33e3ed80",
   "metadata": {},
   "outputs": [
    {
     "data": {
      "text/plain": [
       "{'EmpID': [101, 102, 103, 104, 105],\n",
       " 'EmpName': ['Abhishek', 'karan', 'Christina', 'Anand', 'Ajeet'],\n",
       " 'City': ['Goa', 'Goa', 'Goa'],\n",
       " 'Grade': ['A', 'B', 'A+', 'A'],\n",
       " 'PAN': 'AAAAA-DDDD-A',\n",
       " 'Account': None}"
      ]
     },
     "execution_count": 109,
     "metadata": {},
     "output_type": "execute_result"
    }
   ],
   "source": [
    "emp"
   ]
  },
  {
   "cell_type": "markdown",
   "id": "6af02740",
   "metadata": {},
   "source": [
    "### fromkeys\n",
    "\n",
    "using this function we can create a dictionary very quickly, it will assing the value None as a default value."
   ]
  },
  {
   "cell_type": "code",
   "execution_count": 110,
   "id": "04377568",
   "metadata": {},
   "outputs": [
    {
     "data": {
      "text/plain": [
       "{10: None, 20: None, 40: None, 50: None}"
      ]
     },
     "execution_count": 110,
     "metadata": {},
     "output_type": "execute_result"
    }
   ],
   "source": [
    "dict.fromkeys([10,20,40,50])"
   ]
  },
  {
   "cell_type": "code",
   "execution_count": 111,
   "id": "637b97fc",
   "metadata": {},
   "outputs": [
    {
     "data": {
      "text/plain": [
       "{10: 'Test', 20: 'Test', 40: 'Test', 50: 'Test'}"
      ]
     },
     "execution_count": 111,
     "metadata": {},
     "output_type": "execute_result"
    }
   ],
   "source": [
    "dict.fromkeys([10,20,40,50],\"Test\")"
   ]
  },
  {
   "cell_type": "code",
   "execution_count": 115,
   "id": "f5285984",
   "metadata": {},
   "outputs": [],
   "source": [
    "lst = [10,20,40,20,30,45,30,40,20,30]"
   ]
  },
  {
   "cell_type": "code",
   "execution_count": 116,
   "id": "432a3e98",
   "metadata": {},
   "outputs": [
    {
     "data": {
      "text/plain": [
       "{10, 20, 30, 40, 45}"
      ]
     },
     "execution_count": 116,
     "metadata": {},
     "output_type": "execute_result"
    }
   ],
   "source": [
    "set(lst)"
   ]
  },
  {
   "cell_type": "markdown",
   "id": "c2256235",
   "metadata": {},
   "source": [
    "### Note:\n",
    "\n",
    "In a dictionary, we can not keep duplicate key."
   ]
  },
  {
   "cell_type": "code",
   "execution_count": 119,
   "id": "8de8dae9",
   "metadata": {},
   "outputs": [],
   "source": [
    "a = {10:\"A\",20 : \"B\",10 : \"100\"}"
   ]
  },
  {
   "cell_type": "code",
   "execution_count": 120,
   "id": "55fb8888",
   "metadata": {},
   "outputs": [
    {
     "data": {
      "text/plain": [
       "{10: '100', 20: 'B'}"
      ]
     },
     "execution_count": 120,
     "metadata": {},
     "output_type": "execute_result"
    }
   ],
   "source": [
    "a"
   ]
  },
  {
   "cell_type": "code",
   "execution_count": 121,
   "id": "608d6517",
   "metadata": {},
   "outputs": [
    {
     "data": {
      "text/plain": [
       "[10, 20, 40, 20, 30, 45, 30, 40, 20, 30]"
      ]
     },
     "execution_count": 121,
     "metadata": {},
     "output_type": "execute_result"
    }
   ],
   "source": [
    "lst"
   ]
  },
  {
   "cell_type": "code",
   "execution_count": 123,
   "id": "31757524",
   "metadata": {},
   "outputs": [
    {
     "data": {
      "text/plain": [
       "dict_keys([10, 20, 40, 30, 45])"
      ]
     },
     "execution_count": 123,
     "metadata": {},
     "output_type": "execute_result"
    }
   ],
   "source": [
    "dict.fromkeys(lst).keys()"
   ]
  },
  {
   "cell_type": "code",
   "execution_count": 124,
   "id": "c8d5ecdc",
   "metadata": {},
   "outputs": [
    {
     "data": {
      "text/plain": [
       "[10, 20, 40, 30, 45]"
      ]
     },
     "execution_count": 124,
     "metadata": {},
     "output_type": "execute_result"
    }
   ],
   "source": [
    "list(dict.fromkeys(lst).keys())"
   ]
  },
  {
   "cell_type": "code",
   "execution_count": null,
   "id": "98856ffc",
   "metadata": {},
   "outputs": [],
   "source": []
  }
 ],
 "metadata": {
  "kernelspec": {
   "display_name": "Python 3 (ipykernel)",
   "language": "python",
   "name": "python3"
  },
  "language_info": {
   "codemirror_mode": {
    "name": "ipython",
    "version": 3
   },
   "file_extension": ".py",
   "mimetype": "text/x-python",
   "name": "python",
   "nbconvert_exporter": "python",
   "pygments_lexer": "ipython3",
   "version": "3.11.2"
  }
 },
 "nbformat": 4,
 "nbformat_minor": 5
}
