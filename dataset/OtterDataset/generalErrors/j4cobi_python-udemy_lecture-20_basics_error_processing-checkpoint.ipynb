{
 "cells": [
  {
   "cell_type": "markdown",
   "metadata": {},
   "source": [
    "### Исключения\n",
    "**Исключения (exceptions)** - ещё один тип данных в python. Исключения необходимы для того, чтобы сообщать программисту об ошибках.\n",
    "Рассмотрим иерархию встроенных в python исключений, хотя иногда вам могут встретиться и другие, так как программисты могут создавать собственные исключения. Данный список актуален для python 3.3, в более ранних версиях есть незначительные изменения.\n",
    "\n",
    "**BaseException** - базовое исключение, от которого берут начало все остальные. <br>\n",
    "**SystemExit** - исключение, порождаемое функцией sys.exit при выходе из программы. <br>\n",
    "**KeyboardInterrupt** - порождается при прерывании программы пользователем (обычно сочетанием клавиш Ctrl+C).<br>\n",
    "**GeneratorExit** - порождается при вызове метода close объекта generator.<br>\n",
    "**Exception** - а вот тут уже заканчиваются полностью системные исключения (которые лучше не трогать) и начинаются обыкновенные, с которыми можно работать.<br>\n",
    "**StopIteration** - порождается встроенной функцией next, если в итераторе больше нет элементов.<br>\n",
    "**ArithmeticError** - арифметическая ошибка.<br>\n",
    "**FloatingPointError** - порождается при неудачном выполнении операции с плавающей запятой. На практике встречается нечасто.<br>\n",
    "**OverflowError** - возникает, когда результат арифметической операции слишком велик для представления. Не появляется при обычной работе с целыми числами (так как python поддерживает длинные числа), но может возникать в некоторых других случаях.<br>\n",
    "**ZeroDivisionError** - деление на ноль.<br>\n",
    "**AssertionError** - выражение в функции assert ложно.<br>\n",
    "**AttributeError** - объект не имеет данного атрибута (значения или метода).<br>\n",
    "**BufferError** - операция, связанная с буфером, не может быть выполнена.<br>\n",
    "**EOFError** - функция наткнулась на конец файла и не смогла прочитать то, что хотела.<br>\n",
    "**ImportError** - не удалось импортирование модуля или его атрибута.<br>\n",
    "**LookupError** - некорректный индекс или ключ.<br>\n",
    "**IndexError** - индекс не входит в диапазон элементов.<br>\n",
    "**KeyError** - несуществующий ключ (в словаре, множестве или другом объекте).<br>\n",
    "**MemoryError** - недостаточно памяти.<br>\n",
    "**NameError** - не найдено переменной с таким именем.<br>\n",
    "**UnboundLocalError** - сделана ссылка на локальную переменную в функции, но переменная не определена ранее.<br>\n",
    "**OSError** - ошибка, связанная с системой.<br>\n",
    "**BlockingIOError**<br>\n",
    "**ChildProcessError** - неудача при операции с дочерним процессом.<br>\n",
    "**ConnectionError** - базовый класс для исключений, связанных с подключениями.<br>\n",
    "**BrokenPipeError**<br>\n",
    "**ConnectionAbortedError**<br>\n",
    "**ConnectionRefusedError**<br>\n",
    "**ConnectionResetError**<br>\n",
    "**FileExistsError** - попытка создания файла или директории, которая уже существует.<br>\n",
    "**FileNotFoundError** - файл или директория не существует.<br>\n",
    "**InterruptedError** - системный вызов прерван входящим сигналом.<br>\n",
    "**IsADirectoryError** - ожидался файл, но это директория.<br>\n",
    "**NotADirectoryError** - ожидалась директория, но это файл.<br>\n",
    "**PermissionError** - не хватает прав доступа.<br>\n",
    "**ProcessLookupError** - указанного процесса не существует.<br>\n",
    "**TimeoutError** - закончилось время ожидания.<br>\n",
    "**ReferenceError** - попытка доступа к атрибуту со слабой ссылкой.<br>\n",
    "**RuntimeError** - возникает, когда исключение не попадает ни под одну из других категорий.<br>\n",
    "**NotImplementedError** - возникает, когда абстрактные методы класса требуют переопределения в дочерних классах.<br>\n",
    "**SyntaxError** - синтаксическая ошибка.<br>\n",
    "**IndentationError** - неправильные отступы.<br>\n",
    "**TabError** - смешивание в отступах табуляции и пробелов.<br>\n",
    "**SystemError** - внутренняя ошибка.<br>\n",
    "**TypeError** - операция применена к объекту несоответствующего типа.<br>\n",
    "**ValueError** - функция получает аргумент правильного типа, но некорректного значения.<br>\n",
    "**UnicodeError** - ошибка, связанная с кодированием / раскодированием unicode в строках.<br>\n",
    "**UnicodeEncodeError** - исключение, связанное с кодированием unicode.<br>\n",
    "**UnicodeDecodeError** - исключение, связанное с декодированием unicode.<br>\n",
    "**UnicodeTranslateError** - исключение, связанное с переводом unicode.<br>\n",
    "**Warning** - предупреждение.<br>"
   ]
  },
  {
   "cell_type": "code",
   "execution_count": 4,
   "metadata": {},
   "outputs": [],
   "source": [
    "def divide(a,b):\n",
    "    #предполагаем что здесь может возникнкуть ошибка\n",
    "    try:\n",
    "        return a/b\n",
    "    except ZeroDivisionError as ex:\n",
    "        print(f'an error occured: {ex}')"
   ]
  },
  {
   "cell_type": "code",
   "execution_count": 5,
   "metadata": {},
   "outputs": [
    {
     "name": "stdout",
     "output_type": "stream",
     "text": [
      "an error occured: division by zero\n"
     ]
    }
   ],
   "source": [
    "divide(4,0)"
   ]
  },
  {
   "cell_type": "code",
   "execution_count": 6,
   "metadata": {},
   "outputs": [],
   "source": [
    "def divide(a,b):\n",
    "    #предполагаем что здесь может возникнкуть ошибка\n",
    "    #try:\n",
    "        result = a/b\n",
    "        print('Result calculated')\n",
    "        return result\n",
    "    #except ZeroDivisionError as ex:\n",
    "    #    print(f'an error occured: {ex}')"
   ]
  },
  {
   "cell_type": "code",
   "execution_count": 9,
   "metadata": {},
   "outputs": [],
   "source": [
    "#divide(4,0)\n",
    "#исполнение программы прекращается по середине"
   ]
  },
  {
   "cell_type": "code",
   "execution_count": 13,
   "metadata": {},
   "outputs": [],
   "source": [
    "def divide(a,b):\n",
    "    #предполагаем что здесь может возникнкуть ошибка\n",
    "    try:\n",
    "        return a/b\n",
    "    except ZeroDivisionError as ex:\n",
    "        print(f'an error occured: {ex}')\n",
    "    #ловим оставшиеся исключения\n",
    "    except:\n",
    "        print('unknown error occured!')"
   ]
  },
  {
   "cell_type": "code",
   "execution_count": 14,
   "metadata": {},
   "outputs": [
    {
     "name": "stdout",
     "output_type": "stream",
     "text": [
      "df\n",
      "unknown error occured!\n"
     ]
    }
   ],
   "source": [
    "#пробуем передать строку\n",
    "divider = input()\n",
    "divide(4, divider)"
   ]
  },
  {
   "cell_type": "code",
   "execution_count": 20,
   "metadata": {},
   "outputs": [
    {
     "name": "stdout",
     "output_type": "stream",
     "text": [
      "Error has occured. Description: No such file or directory\n",
      "Finally\n",
      "Doing some work here\n"
     ]
    }
   ],
   "source": [
    "file = None\n",
    "try: \n",
    "    file = open(r'C:\\tmp\\ababa.txt')\n",
    "    data = file.read()\n",
    "except FileNotFoundError as ex:\n",
    "    print(f\"Error has occured. Description: {ex.strerror}\")\n",
    "else:\n",
    "    print('maybe else')\n",
    "#Попадаем в этот блок независимо произошла ошибка или нет. Очистка низкоуровневых ресурсов, например file.close()\n",
    "finally:\n",
    "    #если файл не пустой\n",
    "    print('Finally')\n",
    "    if file:\n",
    "        file.close()\n",
    "\n",
    "#Попадаем сюда если только ошибка обработана\n",
    "print('Doing some work here')"
   ]
  },
  {
   "cell_type": "code",
   "execution_count": 22,
   "metadata": {},
   "outputs": [],
   "source": [
    "def get_int():\n",
    "    while True:\n",
    "        try:\n",
    "            reply = int(input('Enter a natural number ...'))\n",
    "            return reply\n",
    "        except:\n",
    "            print('Not a number. Try again')\n",
    "            continue"
   ]
  },
  {
   "cell_type": "code",
   "execution_count": 25,
   "metadata": {},
   "outputs": [
    {
     "name": "stdout",
     "output_type": "stream",
     "text": [
      "Enter a natural number ...34.43\n",
      "Not a number. Try again\n",
      "Enter a natural number ...22\n"
     ]
    },
    {
     "data": {
      "text/plain": [
       "22"
      ]
     },
     "execution_count": 25,
     "metadata": {},
     "output_type": "execute_result"
    }
   ],
   "source": [
    "get_int()"
   ]
  },
  {
   "cell_type": "code",
   "execution_count": null,
   "metadata": {},
   "outputs": [],
   "source": []
  }
 ],
 "metadata": {
  "kernelspec": {
   "display_name": "Python 3",
   "language": "python",
   "name": "python3"
  },
  "language_info": {
   "codemirror_mode": {
    "name": "ipython",
    "version": 3
   },
   "file_extension": ".py",
   "mimetype": "text/x-python",
   "name": "python",
   "nbconvert_exporter": "python",
   "pygments_lexer": "ipython3",
   "version": "3.7.6"
  }
 },
 "nbformat": 4,
 "nbformat_minor": 4
}
