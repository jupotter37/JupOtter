{
  "nbformat": 4,
  "nbformat_minor": 0,
  "metadata": {
    "colab": {
      "provenance": [],
      "authorship_tag": "ABX9TyNgC3C/0tjJdPFNPKPBumrv",
      "include_colab_link": true
    },
    "kernelspec": {
      "name": "python3",
      "display_name": "Python 3"
    },
    "language_info": {
      "name": "python"
    }
  },
  "cells": [
    {
      "cell_type": "markdown",
      "metadata": {
        "id": "view-in-github",
        "colab_type": "text"
      },
      "source": [
        "<a href=\"https://colab.research.google.com/github/fenix77r/CursoPython/blob/main/Clase3.ipynb\" target=\"_parent\"><img src=\"https://colab.research.google.com/assets/colab-badge.svg\" alt=\"Open In Colab\"/></a>"
      ]
    },
    {
      "cell_type": "markdown",
      "source": [
        "**MANEJO DE ERRORES, CICLOS Y BUCLES**\n",
        "\n",
        "CURSO PYTHON\n",
        "\n",
        "UNICAFAM\n",
        "\n",
        "ESTUDIANTE: MIGUEL FERNANDO RUIZ TINOCO\n",
        "\n",
        "DOCENTE: NICOLAS MOJICA"
      ],
      "metadata": {
        "id": "N3WfIsjHIAaI"
      }
    },
    {
      "cell_type": "markdown",
      "source": [
        "**Tipos de Errores:**\n",
        "\n",
        "- SyntaxError: Error de sintaxis en el código.\n",
        "- TypeError: Operación o función aplicada a un tipo inapropiado.\n",
        "- ValueError: Argumento con el tipo correcto pero valor inapropiado.\n",
        "- IndexError: Índice fuera del rango de una lista o secuencia.\n",
        "- KeyError: Clave que no existe en un diccionario.\n",
        "- FileNotFoundError: Archivo no encontrado.\n",
        "- ZeroDivisionError: División por cero.\n",
        "- IOError: Problema de entrada/salida al leer o escribir archivos.\n",
        "- AttributeError: Atributo que no existe en un objeto.\n",
        "- ImportError: Módulo no encontrado al intentar importarlo.\n",
        "- MemoryError: Agotamiento de memoria.\n",
        "- OverflowError: Operación que excede el rango numérico.\n",
        "tiene menú contextual"
      ],
      "metadata": {
        "id": "657g1zAzIW9H"
      }
    },
    {
      "cell_type": "code",
      "execution_count": 2,
      "metadata": {
        "colab": {
          "base_uri": "https://localhost:8080/"
        },
        "id": "AxQ1q24uH_mM",
        "outputId": "e266999f-bae8-48c3-83c6-edaccd8a12b3"
      },
      "outputs": [
        {
          "output_type": "stream",
          "name": "stdout",
          "text": [
            "Ingrese el primer numero: 2\n",
            "Ingrese el segundo numero: 0\n",
            "No se puede dividir entre cero\n"
          ]
        }
      ],
      "source": [
        "# Generar funcion que Divida dos numeros\n",
        "\n",
        "a = int(input(\"Ingrese el primer numero: \"))\n",
        "b = int(input(\"Ingrese el segundo numero: \"))\n",
        "\n",
        "try:\n",
        "  def division(a,b):\n",
        "    c=a/b\n",
        "    return pritn(c)\n",
        "\n",
        "  division(a,b)\n",
        "except ZeroDivisionError:\n",
        "  print(\"No se puede dividir entre cero\")\n"
      ]
    },
    {
      "cell_type": "code",
      "source": [
        "a = int(input(\"Ingrese el primer numero: \"))\n",
        "b = int(input(\"Ingrese el segundo numero: \"))\n",
        "\n",
        "try:\n",
        "  def division(a,b):\n",
        "    c=a/b\n",
        "    return pritn(c)\n",
        "\n",
        "  division(a,b)\n",
        "except Exception as e:\n",
        "  print(f\"Se produjo una exepcion con el error:{e}\")"
      ],
      "metadata": {
        "colab": {
          "base_uri": "https://localhost:8080/"
        },
        "id": "jLF1ryXjPJln",
        "outputId": "aa1875af-5871-443b-f473-241b8a051a15"
      },
      "execution_count": 3,
      "outputs": [
        {
          "output_type": "stream",
          "name": "stdout",
          "text": [
            "Ingrese el primer numero: 4\n",
            "Ingrese el segundo numero: 0\n",
            "Se produjouna exepcion con el error:division by zero\n"
          ]
        }
      ]
    },
    {
      "cell_type": "markdown",
      "source": [
        "**Ciclos y Bucles**"
      ],
      "metadata": {
        "id": "JUusTuYURUCH"
      }
    },
    {
      "cell_type": "code",
      "source": [
        "# Imprimir todos los numeros que se encuentran en una lista\n",
        "# for es la sentencia que me permitir generar un bucle sobre un conjunto de datos finito, como pueden ser una lista una dubla o cualquiera de las estructuras de datos existente\n",
        "\n",
        "lista = [1,2,3,4,5,6,7,8,9,10]\n",
        "\n",
        "for numero in lista:\n",
        "  print(numero)"
      ],
      "metadata": {
        "id": "jFxDypPERc22"
      },
      "execution_count": null,
      "outputs": []
    },
    {
      "cell_type": "code",
      "source": [
        "\n",
        "\n",
        "for numero in range(10):\n",
        "  if numero>5:\n",
        "    break\n",
        "  else:\n",
        "    print(numero)"
      ],
      "metadata": {
        "colab": {
          "base_uri": "https://localhost:8080/"
        },
        "id": "7XerT7EbXuCV",
        "outputId": "7b9f2a30-6122-4022-8bdb-4626059b35de"
      },
      "execution_count": 5,
      "outputs": [
        {
          "output_type": "stream",
          "name": "stdout",
          "text": [
            "0\n",
            "1\n",
            "2\n",
            "3\n",
            "4\n",
            "5\n"
          ]
        }
      ]
    },
    {
      "cell_type": "code",
      "source": [
        "# Generar un ciclo que saque exponenciacion 2 de una lista de 7 numeros\n",
        "\n",
        "lista = [1,2,3,4,5,6,7]\n",
        "\n",
        "for numero in lista:\n",
        "  c=numero**2\n",
        "  print(c)\n",
        "\n"
      ],
      "metadata": {
        "id": "5QyizS00XabJ"
      },
      "execution_count": null,
      "outputs": []
    },
    {
      "cell_type": "code",
      "source": [
        "# De una lista de precios dada calcule un descuento del 100% para cada precio y añadalos a una nueva lista\n",
        "\n",
        "precios_act=[900,400,600,700,250]\n",
        "precios_descuento=[]\n",
        "\n",
        "for precio in precios_act:\n",
        "  precios_descuento.append(precio*0.1)\n",
        "\n",
        "print(precios_descuento)"
      ],
      "metadata": {
        "colab": {
          "base_uri": "https://localhost:8080/"
        },
        "id": "ViyRkHIVYJ_V",
        "outputId": "16a497dd-0e2c-4283-fdf6-9bcf1e0de5d2"
      },
      "execution_count": 4,
      "outputs": [
        {
          "output_type": "stream",
          "name": "stdout",
          "text": [
            "[90.0, 40.0, 60.0, 70.0, 25.0]\n"
          ]
        }
      ]
    },
    {
      "cell_type": "code",
      "source": [
        "contador=0\n",
        "while contador<10:\n",
        "  print(contador)\n",
        "  contador+=1"
      ],
      "metadata": {
        "colab": {
          "base_uri": "https://localhost:8080/"
        },
        "id": "GKwU9WkQZYhq",
        "outputId": "629c2059-eb58-47a2-9502-02f8bf2fc8d3"
      },
      "execution_count": 6,
      "outputs": [
        {
          "output_type": "stream",
          "name": "stdout",
          "text": [
            "0\n",
            "1\n",
            "2\n",
            "3\n",
            "4\n",
            "5\n",
            "6\n",
            "7\n",
            "8\n",
            "9\n"
          ]
        }
      ]
    },
    {
      "cell_type": "code",
      "source": [
        "# Generar un programa que genere 3 intentos de contraseña\n",
        "\n",
        "secreto='secreto123'\n",
        "intentos=3\n",
        "\n",
        "while intentos>0:\n",
        "  contrasena=input(\"Ingrese la contraseña: \")\n",
        "  if contrasena==secreto:\n",
        "    print(\"Contraseña correcta\")\n",
        "    break\n",
        "  else:\n",
        "    print(\"Contraseña incorrecta\")\n",
        "    intentos-=1\n",
        "    print(f\"Te quedan {intentos} intentos\")\n",
        "    if intentos==0:\n",
        "      print(\"Se acabaron los intentos\")\n",
        ""
      ],
      "metadata": {
        "id": "uhKtx1Nza_Fa"
      },
      "execution_count": null,
      "outputs": []
    },
    {
      "cell_type": "markdown",
      "source": [
        "# Escribe un programa que permita al usuario adivinar un número secreto entre 1 y 10. El programa debe seguir pidiendo al usuario que adivine hasta que acierte.\n",
        "\n",
        " ===\n",
        "**Instrucciones:**\n",
        "\n",
        "Define un número secreto.\n",
        "\n",
        "Utiliza un bucle while para seguir solicitando adivinanzas al usuario hasta que acierte.\n",
        "\n",
        "Si el usuario adivina el número, imprime un mensaje de felicitación y termina el programa.\n",
        "\n",
        "==="
      ],
      "metadata": {
        "id": "_GL_npmlfIfw"
      }
    },
    {
      "cell_type": "code",
      "source": [
        "\n",
        "\n",
        "import random\n",
        "\n",
        "\n",
        "numero_secreto = random.randint(1, 10)\n",
        "\n",
        "\n",
        "adivinado = False\n",
        "\n",
        "print(\"¡He elegido un número entre 1 y 10!\")\n",
        "\n",
        "\n",
        "while not adivinado:\n",
        "  try:\n",
        "\n",
        "    adivinanza = int(input(\"Adivina el número: \"))\n",
        "  except ValueError:\n",
        "    print(\"Por favor, ingresa un número válido.\")\n",
        "    continue\n",
        "\n",
        "\n",
        "  if adivinanza == numero_secreto:\n",
        "    print(\"¡Felicitaciones! ¡Adivinaste el número!\")\n",
        "    adivinado = True\n",
        "  elif adivinanza < numero_secreto:\n",
        "    print(\"Demasiado bajo. Intenta de nuevo.\")\n",
        "  else:\n",
        "    print(\"Demasiado alto. Intenta de nuevo.\")"
      ],
      "metadata": {
        "colab": {
          "base_uri": "https://localhost:8080/"
        },
        "id": "v6DFQbc4eJbW",
        "outputId": "ec6b81b8-82bb-470c-be34-642c7c81334b"
      },
      "execution_count": 8,
      "outputs": [
        {
          "output_type": "stream",
          "name": "stdout",
          "text": [
            "¡He elegido un número entre 1 y 10!\n",
            "Adivina el número: 4\n",
            "Demasiado bajo. Intenta de nuevo.\n",
            "Adivina el número: 2\n",
            "Demasiado bajo. Intenta de nuevo.\n",
            "Adivina el número: 9\n",
            "Demasiado alto. Intenta de nuevo.\n",
            "Adivina el número: 8\n",
            "Demasiado alto. Intenta de nuevo.\n",
            "Adivina el número: 6\n",
            "Demasiado alto. Intenta de nuevo.\n",
            "Adivina el número: 1\n",
            "Demasiado bajo. Intenta de nuevo.\n",
            "Adivina el número: 3\n",
            "Demasiado bajo. Intenta de nuevo.\n",
            "Adivina el número: 5\n",
            "¡Felicitaciones! ¡Adivinaste el número!\n"
          ]
        }
      ]
    },
    {
      "cell_type": "markdown",
      "source": [
        "\n",
        "**Ejercicio 3: Tabla de Multiplicar (Bucle for y while)**\n",
        "\n",
        "**Descripción:**\n",
        "\n",
        "Escribe un programa que genere la tabla de multiplicar de un número ingresado por el usuario. El programa debe continuar pidiendo un número hasta que el usuario ingrese 0.\n",
        "\n",
        "**Instrucciones:**\n",
        "\n",
        "Utiliza un bucle while para pedir un número al usuario.\n",
        "\n",
        "Si el número es diferente de 0, usa un bucle for para imprimir la tabla de multiplicar de ese número.\n",
        "\n",
        "Si el usuario ingresa 0, termina el programa.\n",
        "\n"
      ],
      "metadata": {
        "id": "e2C1znY7jfWQ"
      }
    },
    {
      "cell_type": "code",
      "source": [],
      "metadata": {
        "id": "Z17TxFRAjvlg"
      },
      "execution_count": null,
      "outputs": []
    }
  ]
}