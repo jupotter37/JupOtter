{
  "cells": [
    {
      "cell_type": "markdown",
      "metadata": {
        "id": "view-in-github",
        "colab_type": "text"
      },
      "source": [
        "<a href=\"https://colab.research.google.com/github/SanitCoder/Time-Series-Analysis-SOC-24/blob/main/python_variables_and_data_types.ipynb\" target=\"_parent\"><img src=\"https://colab.research.google.com/assets/colab-badge.svg\" alt=\"Open In Colab\"/></a>"
      ]
    },
    {
      "cell_type": "markdown",
      "metadata": {
        "id": "MquTm5BCWVUy"
      },
      "source": [
        "# A Quick Tour of Variables and Data Types in Python\n",
        "\n",
        "\n",
        "![](https://i.imgur.com/6cg2E9Q.png)\n",
        "These tutorials take a practical and coding-focused approach. The best way to learn the material is to execute the code and experiment with it yourself."
      ]
    },
    {
      "cell_type": "markdown",
      "metadata": {
        "id": "AmHiLloZWVU3"
      },
      "source": [
        "This tutorial covers the following topics:\n",
        "\n",
        "- Storing information using variables\n",
        "- Primitive data types in Python: Integer, Float, Boolean, None and String\n",
        "- Built-in data structures in Python: List, Tuple and Dictionary\n",
        "- Methods and operators supported by built-in data types"
      ]
    },
    {
      "cell_type": "markdown",
      "metadata": {
        "id": "cAFuAvhKWVU3"
      },
      "source": [
        "### How to run the code\n",
        "\n",
        "This tutorial is an executable [Jupyter notebook](https://jupyter.org) hosted on [Jovian](https://www.jovian.ai). You can _run_ this tutorial and experiment with the code examples in a couple of ways: *using free online resources* (recommended) or *on your computer*.\n",
        "\n",
        "#### Option 1: Running using free online resources (1-click, recommended)\n",
        "\n",
        "The easiest way to start executing the code is to click the **Run** button at the top of this page and select **Run on Binder**. You can also select \"Run on Colab\" or \"Run on Kaggle\", but you'll need to create an account on [Google Colab](https://colab.research.google.com) or [Kaggle](https://kaggle.com) to use these platforms.\n",
        "\n",
        "\n",
        "#### Option 2: Running on your computer locally\n",
        "\n",
        "To run the code on your computer locally, you'll need to set up [Python](https://www.python.org), download the notebook and install the required libraries. We recommend using the [Conda](https://docs.conda.io/projects/conda/en/latest/user-guide/install/) distribution of Python. Click the **Run** button at the top of this page, select the **Run Locally** option, and follow the instructions.\n",
        "\n",
        ">  **Jupyter Notebooks**: This tutorial is a [Jupyter notebook](https://jupyter.org) - a document made of _cells_. Each cell can contain code written in Python or explanations in plain English. You can execute code cells and view the results, e.g., numbers, messages, graphs, tables, files, etc. instantly within the notebook. Jupyter is a powerful platform for experimentation and analysis. Don't be afraid to mess around with the code & break things - you'll learn a lot by encountering and fixing errors. You can use the \"Kernel > Restart & Clear Output\" menu option to clear all outputs and start again from the top."
      ]
    },
    {
      "cell_type": "markdown",
      "metadata": {
        "id": "rs9rvw6EWVU4"
      },
      "source": [
        "## Storing information using variables\n",
        "\n",
        "Computers are useful for two purposes: storing information (also known as data) and performing operations on stored data. While working with a programming language such as Python, data is stored in variables. You can think of variables are containers for storing data. The data stored within a variable is called its value. Creating variables in Python is pretty easy, as we've already seen in the [previous tutorial](https://jovian.ml/aakashns/first-steps-with-python/v/4#C15).\n",
        "\n"
      ]
    },
    {
      "cell_type": "code",
      "execution_count": null,
      "metadata": {
        "id": "yixKbxA8WVU4"
      },
      "outputs": [],
      "source": [
        "my_favorite_color = \"blue\""
      ]
    },
    {
      "cell_type": "code",
      "execution_count": null,
      "metadata": {
        "id": "WF9Omh4pWVU5",
        "outputId": "81238a02-7091-422c-b1cd-1aeccad07e4d"
      },
      "outputs": [
        {
          "data": {
            "text/plain": [
              "'blue'"
            ]
          },
          "execution_count": 2,
          "metadata": {},
          "output_type": "execute_result"
        }
      ],
      "source": [
        "my_favorite_color"
      ]
    },
    {
      "cell_type": "markdown",
      "metadata": {
        "id": "Qn906wi3WVU6"
      },
      "source": [
        "A variable is created using an assignment statement. It begins with the variable's name, followed by the assignment operator `=` followed by the value to be stored within the variable.  Note that the assignment operator `=` is different from the equality comparison operator `==`.\n",
        "\n",
        "You can also assign values to multiple variables in a single statement by separating the variable names and values with commas."
      ]
    },
    {
      "cell_type": "code",
      "execution_count": null,
      "metadata": {
        "id": "aa128pluWVU7"
      },
      "outputs": [],
      "source": [
        "color1, color2, color3 = \"red\", \"green\", \"blue\""
      ]
    },
    {
      "cell_type": "code",
      "execution_count": null,
      "metadata": {
        "id": "ibMBX2GKWVU7",
        "outputId": "56640a32-27d9-43ef-f161-346a9dc94b0c"
      },
      "outputs": [
        {
          "data": {
            "text/plain": [
              "'red'"
            ]
          },
          "execution_count": 4,
          "metadata": {},
          "output_type": "execute_result"
        }
      ],
      "source": [
        "color1"
      ]
    },
    {
      "cell_type": "code",
      "execution_count": null,
      "metadata": {
        "id": "EzIbfJ8hWVU8",
        "outputId": "74a6cd08-df72-4137-d7b8-239ebfd90151"
      },
      "outputs": [
        {
          "data": {
            "text/plain": [
              "'green'"
            ]
          },
          "execution_count": 5,
          "metadata": {},
          "output_type": "execute_result"
        }
      ],
      "source": [
        "color2"
      ]
    },
    {
      "cell_type": "code",
      "execution_count": null,
      "metadata": {
        "id": "EuQKEC2SWVU8",
        "outputId": "743c157f-c607-44ae-8519-ee928f99605b"
      },
      "outputs": [
        {
          "data": {
            "text/plain": [
              "'blue'"
            ]
          },
          "execution_count": 6,
          "metadata": {},
          "output_type": "execute_result"
        }
      ],
      "source": [
        "color3"
      ]
    },
    {
      "cell_type": "markdown",
      "metadata": {
        "id": "pD-qy08NWVU8"
      },
      "source": [
        "You can assign the same value to multiple variables by chaining multiple assignment operations within a single statement."
      ]
    },
    {
      "cell_type": "code",
      "execution_count": null,
      "metadata": {
        "id": "ogbpBr4QWVU8"
      },
      "outputs": [],
      "source": [
        "color4 = color5 = color6 = \"magenta\""
      ]
    },
    {
      "cell_type": "code",
      "execution_count": null,
      "metadata": {
        "id": "XXUoymxPWVU8",
        "outputId": "787fcf80-6fe8-4f52-9286-3cabd98d03d4"
      },
      "outputs": [
        {
          "data": {
            "text/plain": [
              "'magenta'"
            ]
          },
          "execution_count": 8,
          "metadata": {},
          "output_type": "execute_result"
        }
      ],
      "source": [
        "color4"
      ]
    },
    {
      "cell_type": "code",
      "execution_count": null,
      "metadata": {
        "id": "VZQgkXoeWVU9",
        "outputId": "7ee7bbb2-ad48-4ca8-b270-ebb490e2eb2d"
      },
      "outputs": [
        {
          "data": {
            "text/plain": [
              "'magenta'"
            ]
          },
          "execution_count": 9,
          "metadata": {},
          "output_type": "execute_result"
        }
      ],
      "source": [
        "color5"
      ]
    },
    {
      "cell_type": "code",
      "execution_count": null,
      "metadata": {
        "id": "LGhBJi8iWVU9",
        "outputId": "fba8a828-892b-4ec7-b8cd-e0b3d0264bb2"
      },
      "outputs": [
        {
          "data": {
            "text/plain": [
              "'magenta'"
            ]
          },
          "execution_count": 10,
          "metadata": {},
          "output_type": "execute_result"
        }
      ],
      "source": [
        "color6"
      ]
    },
    {
      "cell_type": "markdown",
      "metadata": {
        "id": "HU70pJG9WVU9"
      },
      "source": [
        "You can change the value stored within a variable by assigning a new value to it using another assignment statement. Be careful while reassigning variables: when you assign a new value to the variable, the old value is lost and no longer accessible."
      ]
    },
    {
      "cell_type": "code",
      "execution_count": null,
      "metadata": {
        "id": "8dWiK5tYWVU9"
      },
      "outputs": [],
      "source": [
        "my_favorite_color = \"red\""
      ]
    },
    {
      "cell_type": "code",
      "execution_count": null,
      "metadata": {
        "id": "4hJNIt3aWVU9",
        "outputId": "b62881f1-5160-46e6-f566-c3e197b2f944"
      },
      "outputs": [
        {
          "data": {
            "text/plain": [
              "'red'"
            ]
          },
          "execution_count": 12,
          "metadata": {},
          "output_type": "execute_result"
        }
      ],
      "source": [
        "my_favorite_color"
      ]
    },
    {
      "cell_type": "markdown",
      "metadata": {
        "id": "GhNY5BTGWVU9"
      },
      "source": [
        "While reassigning a variable, you can also use the variable's previous value to compute the new value."
      ]
    },
    {
      "cell_type": "code",
      "execution_count": null,
      "metadata": {
        "id": "pz60vydeWVU-"
      },
      "outputs": [],
      "source": [
        "counter = 10"
      ]
    },
    {
      "cell_type": "code",
      "execution_count": null,
      "metadata": {
        "id": "fUuBXfuXWVU-"
      },
      "outputs": [],
      "source": [
        "counter = counter + 1"
      ]
    },
    {
      "cell_type": "code",
      "execution_count": null,
      "metadata": {
        "id": "CDxUsUMuWVU-",
        "outputId": "8d8ecbbc-042c-4483-de0d-5262e4b6589b"
      },
      "outputs": [
        {
          "data": {
            "text/plain": [
              "11"
            ]
          },
          "execution_count": 15,
          "metadata": {},
          "output_type": "execute_result"
        }
      ],
      "source": [
        "counter"
      ]
    },
    {
      "cell_type": "markdown",
      "metadata": {
        "id": "pV92kfi6WVU-"
      },
      "source": [
        "The pattern `var = var op something` (where `op` is an arithmetic operator like `+`, `-`, `*`, `/`) is very common, so Python provides a *shorthand* syntax for it."
      ]
    },
    {
      "cell_type": "code",
      "execution_count": null,
      "metadata": {
        "id": "7XIK1kS1WVU-"
      },
      "outputs": [],
      "source": [
        "counter = 10"
      ]
    },
    {
      "cell_type": "code",
      "execution_count": null,
      "metadata": {
        "id": "aYkuxlm5WVU-"
      },
      "outputs": [],
      "source": [
        "# Same as `counter = counter + 4`\n",
        "counter += 4"
      ]
    },
    {
      "cell_type": "code",
      "execution_count": null,
      "metadata": {
        "id": "dq143JBEWVU-",
        "outputId": "c678b323-a1bf-4075-8061-7ed3829805d3"
      },
      "outputs": [
        {
          "data": {
            "text/plain": [
              "14"
            ]
          },
          "execution_count": 18,
          "metadata": {},
          "output_type": "execute_result"
        }
      ],
      "source": [
        "counter"
      ]
    },
    {
      "cell_type": "markdown",
      "metadata": {
        "id": "qIbpxKuQWVU-"
      },
      "source": [
        "Variable names can be short (`a`, `x`, `y`, etc.) or descriptive ( `my_favorite_color`, `profit_margin`, `the_3_musketeers`, etc.). However, you must follow these rules while naming Python variables:\n",
        "\n",
        "* A variable's name must start with a letter or the underscore character `_`. It cannot begin with a number.\n",
        "* A variable name can only contain lowercase (small) or uppercase (capital) letters, digits, or underscores (`a`-`z`, `A`-`Z`, `0`-`9`, and `_`).\n",
        "* Variable names are case-sensitive, i.e., `a_variable`, `A_Variable`, and `A_VARIABLE` are all different variables.\n",
        "\n",
        "Here are some valid variable names:"
      ]
    },
    {
      "cell_type": "code",
      "execution_count": null,
      "metadata": {
        "id": "a_-IuBOoWVU_"
      },
      "outputs": [],
      "source": [
        "a_variable = 23\n",
        "is_today_Saturday = False\n",
        "my_favorite_car = \"Delorean\"\n",
        "the_3_musketeers = [\"Athos\", \"Porthos\", \"Aramis\"]"
      ]
    },
    {
      "cell_type": "markdown",
      "metadata": {
        "id": "uztacxQGWVU_"
      },
      "source": [
        "Let's try creating some variables with invalid names. Python prints a syntax error if your variable's name is invalid.\n",
        "\n",
        "> **Syntax**: The syntax of a programming language refers to the rules that govern the structure of a valid instruction or *statement*. If a statement does not follow these rules, Python stops execution and informs you that there is a *syntax error*. You can think of syntax as the rules of grammar for a programming language."
      ]
    },
    {
      "cell_type": "code",
      "execution_count": null,
      "metadata": {
        "id": "usmZL2qMWVU_",
        "outputId": "6b8ab53f-a2ab-487b-d021-f1d767c6d48e"
      },
      "outputs": [
        {
          "ename": "SyntaxError",
          "evalue": "invalid syntax (<ipython-input-20-b4f9daa715a5>, line 1)",
          "output_type": "error",
          "traceback": [
            "\u001b[0;36m  File \u001b[0;32m\"<ipython-input-20-b4f9daa715a5>\"\u001b[0;36m, line \u001b[0;32m1\u001b[0m\n\u001b[0;31m    a variable = 23\u001b[0m\n\u001b[0m      ^\u001b[0m\n\u001b[0;31mSyntaxError\u001b[0m\u001b[0;31m:\u001b[0m invalid syntax\n"
          ]
        }
      ],
      "source": [
        "a variable = 23"
      ]
    },
    {
      "cell_type": "code",
      "execution_count": null,
      "metadata": {
        "id": "BwnQnCgSWVU_",
        "outputId": "d20e06ff-ff11-4dc8-b3ab-e5a61819122a"
      },
      "outputs": [
        {
          "ename": "SyntaxError",
          "evalue": "invalid syntax (<ipython-input-21-3785425ca227>, line 1)",
          "output_type": "error",
          "traceback": [
            "\u001b[0;36m  File \u001b[0;32m\"<ipython-input-21-3785425ca227>\"\u001b[0;36m, line \u001b[0;32m1\u001b[0m\n\u001b[0;31m    is_today_$aturday = False\u001b[0m\n\u001b[0m             ^\u001b[0m\n\u001b[0;31mSyntaxError\u001b[0m\u001b[0;31m:\u001b[0m invalid syntax\n"
          ]
        }
      ],
      "source": [
        "is_today_$aturday = False"
      ]
    },
    {
      "cell_type": "code",
      "execution_count": null,
      "metadata": {
        "id": "iQGKkQmbWVU_",
        "outputId": "96df21f0-f532-4ad0-b5d1-4b815955a9d6"
      },
      "outputs": [
        {
          "ename": "SyntaxError",
          "evalue": "cannot assign to operator (<ipython-input-22-829f5ed5b10b>, line 1)",
          "output_type": "error",
          "traceback": [
            "\u001b[0;36m  File \u001b[0;32m\"<ipython-input-22-829f5ed5b10b>\"\u001b[0;36m, line \u001b[0;32m1\u001b[0m\n\u001b[0;31m    my-favorite-car = \"Delorean\"\u001b[0m\n\u001b[0m    ^\u001b[0m\n\u001b[0;31mSyntaxError\u001b[0m\u001b[0;31m:\u001b[0m cannot assign to operator\n"
          ]
        }
      ],
      "source": [
        "my-favorite-car = \"Delorean\""
      ]
    },
    {
      "cell_type": "code",
      "execution_count": null,
      "metadata": {
        "id": "mhHAlssCWVU_",
        "outputId": "b8d2e190-3d80-483d-b089-cf051fc563b2"
      },
      "outputs": [
        {
          "ename": "SyntaxError",
          "evalue": "invalid decimal literal (<ipython-input-23-41d8638a15bb>, line 1)",
          "output_type": "error",
          "traceback": [
            "\u001b[0;36m  File \u001b[0;32m\"<ipython-input-23-41d8638a15bb>\"\u001b[0;36m, line \u001b[0;32m1\u001b[0m\n\u001b[0;31m    3_musketeers = [\"Athos\", \"Porthos\", \"Aramis\"]\u001b[0m\n\u001b[0m     ^\u001b[0m\n\u001b[0;31mSyntaxError\u001b[0m\u001b[0;31m:\u001b[0m invalid decimal literal\n"
          ]
        }
      ],
      "source": [
        "3_musketeers = [\"Athos\", \"Porthos\", \"Aramis\"]"
      ]
    },
    {
      "cell_type": "markdown",
      "metadata": {
        "id": "2pbaRLnEWVU_"
      },
      "source": [
        "### Save and upload your notebook\n",
        "\n",
        "Whether you're running this Jupyter notebook online or on your computer, it's essential to save your work from time to time. You can continue working on a saved notebook later or share it with friends and colleagues to let them execute your code. [Jovian](https://www.jovian.ai) offers an easy way of saving and sharing your Jupyter notebooks online."
      ]
    },
    {
      "cell_type": "code",
      "execution_count": null,
      "metadata": {
        "id": "i1T3HuVtWVVA"
      },
      "outputs": [],
      "source": [
        "# Install the jovian library\n",
        "!pip install jovian --upgrade --quiet"
      ]
    },
    {
      "cell_type": "code",
      "execution_count": null,
      "metadata": {
        "id": "ABR0i0zQWVVA"
      },
      "outputs": [],
      "source": [
        "import jovian"
      ]
    },
    {
      "cell_type": "code",
      "execution_count": null,
      "metadata": {
        "id": "o8k9ZB23WVVA",
        "outputId": "9fc162d5-addb-4321-af3f-e8e8c0b89d64"
      },
      "outputs": [
        {
          "data": {
            "application/javascript": [
              "window.require && require([\"base/js/namespace\"],function(Jupyter){Jupyter.notebook.save_checkpoint()})"
            ],
            "text/plain": [
              "<IPython.core.display.Javascript object>"
            ]
          },
          "metadata": {},
          "output_type": "display_data"
        },
        {
          "name": "stdout",
          "output_type": "stream",
          "text": [
            "[jovian] Attempting to save notebook..\u001b[0m\n",
            "[jovian] Updating notebook \"samanvitha/python-variables-and-data-types\" on https://jovian.ai\u001b[0m\n",
            "[jovian] Uploading notebook..\u001b[0m\n",
            "[jovian] Uploading additional files...\u001b[0m\n",
            "[jovian] Committed successfully! https://jovian.ai/samanvitha/python-variables-and-data-types\u001b[0m\n"
          ]
        },
        {
          "data": {
            "text/plain": [
              "'https://jovian.ai/samanvitha/python-variables-and-data-types'"
            ]
          },
          "execution_count": 26,
          "metadata": {},
          "output_type": "execute_result"
        }
      ],
      "source": [
        "jovian.commit(project='python-variables-and-data-types')"
      ]
    },
    {
      "cell_type": "markdown",
      "metadata": {
        "id": "UkIF2TOVWVVA"
      },
      "source": [
        "The first time you run `jovian.commit`, you'll be asked to provide an API Key to securely upload the notebook to your Jovian account. You can get the API key from your [Jovian profile page](https://jovian.ai) after logging in / signing up.\n",
        "\n",
        "\n",
        "`jovian.commit` uploads the notebook to your Jovian account, captures the Python environment, and creates a shareable link for your notebook, as shown above. You can use this link to share your work and let anyone (including you) run your notebooks and reproduce your work."
      ]
    },
    {
      "cell_type": "markdown",
      "metadata": {
        "id": "ZYsLkCrpWVVG"
      },
      "source": [
        "## Built-in data types in Python\n",
        "\n",
        "Any data or information stored within a Python variable has a *type*. You can view the type of data stored within a variable using the `type` function."
      ]
    },
    {
      "cell_type": "code",
      "execution_count": null,
      "metadata": {
        "id": "d0TEkEY8WVVG",
        "outputId": "970ae7db-1edc-4692-f2a4-6aff09cb186d"
      },
      "outputs": [
        {
          "data": {
            "text/plain": [
              "23"
            ]
          },
          "execution_count": 27,
          "metadata": {},
          "output_type": "execute_result"
        }
      ],
      "source": [
        "a_variable"
      ]
    },
    {
      "cell_type": "code",
      "execution_count": null,
      "metadata": {
        "id": "fZFmiRgMWVVG",
        "outputId": "a8be865d-12e8-41e3-f22a-e34ec2a1590c"
      },
      "outputs": [
        {
          "data": {
            "text/plain": [
              "int"
            ]
          },
          "execution_count": 28,
          "metadata": {},
          "output_type": "execute_result"
        }
      ],
      "source": [
        "type(a_variable)"
      ]
    },
    {
      "cell_type": "code",
      "execution_count": null,
      "metadata": {
        "id": "UBRggrBKWVVH",
        "outputId": "75e5edad-e0f3-4223-fd09-4d89f1fca43b"
      },
      "outputs": [
        {
          "data": {
            "text/plain": [
              "False"
            ]
          },
          "execution_count": 29,
          "metadata": {},
          "output_type": "execute_result"
        }
      ],
      "source": [
        "is_today_Saturday"
      ]
    },
    {
      "cell_type": "code",
      "execution_count": null,
      "metadata": {
        "id": "Lc6EtZzIWVVH",
        "outputId": "bcdcb9a9-be44-47ad-9049-6cb7a0d3caaa"
      },
      "outputs": [
        {
          "data": {
            "text/plain": [
              "bool"
            ]
          },
          "execution_count": 30,
          "metadata": {},
          "output_type": "execute_result"
        }
      ],
      "source": [
        "type(is_today_Saturday)"
      ]
    },
    {
      "cell_type": "code",
      "execution_count": null,
      "metadata": {
        "id": "ujX8KxC8WVVH",
        "outputId": "e50da394-1c32-43c3-e77b-20b2e0aaf849"
      },
      "outputs": [
        {
          "data": {
            "text/plain": [
              "'Delorean'"
            ]
          },
          "execution_count": 31,
          "metadata": {},
          "output_type": "execute_result"
        }
      ],
      "source": [
        "my_favorite_car"
      ]
    },
    {
      "cell_type": "code",
      "execution_count": null,
      "metadata": {
        "id": "9FJO--7DWVVH",
        "outputId": "f895fb63-6d67-4a59-c2df-3fc8d640746e"
      },
      "outputs": [
        {
          "data": {
            "text/plain": [
              "str"
            ]
          },
          "execution_count": 32,
          "metadata": {},
          "output_type": "execute_result"
        }
      ],
      "source": [
        "type(my_favorite_car)"
      ]
    },
    {
      "cell_type": "code",
      "execution_count": null,
      "metadata": {
        "id": "pV7XvzjHWVVH",
        "outputId": "89cffd16-cdb4-4784-cc55-33865711634e"
      },
      "outputs": [
        {
          "data": {
            "text/plain": [
              "['Athos', 'Porthos', 'Aramis']"
            ]
          },
          "execution_count": 33,
          "metadata": {},
          "output_type": "execute_result"
        }
      ],
      "source": [
        "the_3_musketeers"
      ]
    },
    {
      "cell_type": "code",
      "execution_count": null,
      "metadata": {
        "id": "-ndTrEvXWVVH",
        "outputId": "312919e3-a5a0-4c59-8a6f-f8b31908706c"
      },
      "outputs": [
        {
          "data": {
            "text/plain": [
              "list"
            ]
          },
          "execution_count": 34,
          "metadata": {},
          "output_type": "execute_result"
        }
      ],
      "source": [
        "type(the_3_musketeers)"
      ]
    },
    {
      "cell_type": "markdown",
      "metadata": {
        "id": "Q6-yqe7EWVVH"
      },
      "source": [
        "Python has several built-in data types for storing different kinds of information in variables. Following are some commonly used data types:\n",
        "\n",
        "1. Integer\n",
        "2. Float\n",
        "3. Boolean\n",
        "4. None\n",
        "5. String\n",
        "6. List\n",
        "7. Tuple\n",
        "8. Dictionary\n",
        "\n",
        "Integer, float, boolean, None, and string are *primitive data types* because they represent a single value. Other data types like list, tuple, and dictionary are often called *data structures* or *containers* because they hold multiple pieces of data together."
      ]
    },
    {
      "cell_type": "markdown",
      "metadata": {
        "id": "jwf2luGIWVVI"
      },
      "source": [
        "### Integer\n",
        "\n",
        "Integers represent positive or negative whole numbers, from negative infinity to infinity. Note that integers should not include decimal points. Integers have the type `int`."
      ]
    },
    {
      "cell_type": "code",
      "execution_count": null,
      "metadata": {
        "id": "O_x7u0gSWVVI"
      },
      "outputs": [],
      "source": [
        "current_year = 2020"
      ]
    },
    {
      "cell_type": "code",
      "execution_count": null,
      "metadata": {
        "id": "_gEjx0hkWVVI",
        "outputId": "78349963-78c1-4501-9ede-9eea31cca1bd"
      },
      "outputs": [
        {
          "data": {
            "text/plain": [
              "2020"
            ]
          },
          "execution_count": 36,
          "metadata": {},
          "output_type": "execute_result"
        }
      ],
      "source": [
        "current_year"
      ]
    },
    {
      "cell_type": "code",
      "execution_count": null,
      "metadata": {
        "id": "RVEoCnCdWVVI",
        "outputId": "1066511c-8c26-41f8-a4d9-0b098a71f992"
      },
      "outputs": [
        {
          "data": {
            "text/plain": [
              "int"
            ]
          },
          "execution_count": 37,
          "metadata": {},
          "output_type": "execute_result"
        }
      ],
      "source": [
        "type(current_year)"
      ]
    },
    {
      "cell_type": "markdown",
      "metadata": {
        "id": "xE5ABMGtWVVI"
      },
      "source": [
        "Unlike some other programming languages, integers in Python can be arbitrarily large (or small). There's no lowest or highest value for integers, and there's just one `int` type (as opposed to `short`, `int`, `long`, `long long`, `unsigned int`, etc. in C/C++/Java)."
      ]
    },
    {
      "cell_type": "code",
      "execution_count": null,
      "metadata": {
        "id": "H_HR9ifuWVVI"
      },
      "outputs": [],
      "source": [
        "a_large_negative_number = -23374038374832934334234317348343"
      ]
    },
    {
      "cell_type": "code",
      "execution_count": null,
      "metadata": {
        "id": "fKpevHzyWVVI",
        "outputId": "0164a781-fea3-4568-b615-78a0d6ba5966"
      },
      "outputs": [
        {
          "data": {
            "text/plain": [
              "-23374038374832934334234317348343"
            ]
          },
          "execution_count": 39,
          "metadata": {},
          "output_type": "execute_result"
        }
      ],
      "source": [
        "a_large_negative_number"
      ]
    },
    {
      "cell_type": "code",
      "execution_count": null,
      "metadata": {
        "id": "fiLTDvpbWVVI",
        "outputId": "a257fa15-a73e-4322-e410-79efc9382a9c"
      },
      "outputs": [
        {
          "data": {
            "text/plain": [
              "int"
            ]
          },
          "execution_count": 40,
          "metadata": {},
          "output_type": "execute_result"
        }
      ],
      "source": [
        "type(a_large_negative_number)"
      ]
    },
    {
      "cell_type": "markdown",
      "metadata": {
        "id": "--WLBxiTWVVI"
      },
      "source": [
        "### Float\n",
        "\n",
        "Floats (or floating-point numbers) are numbers with a decimal point. There are no limits on the value or the number of digits before or after the decimal point. Floating-point numbers have the type `float`."
      ]
    },
    {
      "cell_type": "code",
      "execution_count": null,
      "metadata": {
        "id": "wZPpljJUWVVJ"
      },
      "outputs": [],
      "source": [
        "pi = 3.141592653589793238"
      ]
    },
    {
      "cell_type": "code",
      "execution_count": null,
      "metadata": {
        "id": "bbquQTzFWVVJ",
        "outputId": "af807c63-da4f-4c9c-b7b5-39ef4837a9e7"
      },
      "outputs": [
        {
          "data": {
            "text/plain": [
              "3.141592653589793"
            ]
          },
          "execution_count": 42,
          "metadata": {},
          "output_type": "execute_result"
        }
      ],
      "source": [
        "pi"
      ]
    },
    {
      "cell_type": "code",
      "execution_count": null,
      "metadata": {
        "id": "vGAKLmQiWVVJ",
        "outputId": "6a5507ca-0466-4377-9103-a0fc55872326"
      },
      "outputs": [
        {
          "data": {
            "text/plain": [
              "float"
            ]
          },
          "execution_count": 43,
          "metadata": {},
          "output_type": "execute_result"
        }
      ],
      "source": [
        "type(pi)"
      ]
    },
    {
      "cell_type": "markdown",
      "metadata": {
        "id": "BepR54V2WVVJ"
      },
      "source": [
        "Note that a whole number is treated as a float if written with a decimal point, even though the decimal portion of the number is zero."
      ]
    },
    {
      "cell_type": "code",
      "execution_count": null,
      "metadata": {
        "id": "3xghZGDQWVVJ"
      },
      "outputs": [],
      "source": [
        "a_number = 3.0"
      ]
    },
    {
      "cell_type": "code",
      "execution_count": null,
      "metadata": {
        "id": "X3dF1YXqWVVJ",
        "outputId": "b86400c4-7629-4f10-a45b-f3e162ea7a96"
      },
      "outputs": [
        {
          "data": {
            "text/plain": [
              "3.0"
            ]
          },
          "execution_count": 45,
          "metadata": {},
          "output_type": "execute_result"
        }
      ],
      "source": [
        "a_number"
      ]
    },
    {
      "cell_type": "code",
      "execution_count": null,
      "metadata": {
        "id": "SkxmLSHlWVVJ",
        "outputId": "95968e5d-3937-4575-e937-26d43fe91783"
      },
      "outputs": [
        {
          "data": {
            "text/plain": [
              "float"
            ]
          },
          "execution_count": 46,
          "metadata": {},
          "output_type": "execute_result"
        }
      ],
      "source": [
        "type(a_number)"
      ]
    },
    {
      "cell_type": "code",
      "execution_count": null,
      "metadata": {
        "id": "ZMWEYdYdWVVK"
      },
      "outputs": [],
      "source": [
        "another_number = 4."
      ]
    },
    {
      "cell_type": "code",
      "execution_count": null,
      "metadata": {
        "id": "xp2X3NXNWVVK",
        "outputId": "59ab4bee-d03b-47ec-f468-750cc8adeea5"
      },
      "outputs": [
        {
          "data": {
            "text/plain": [
              "4.0"
            ]
          },
          "execution_count": 48,
          "metadata": {},
          "output_type": "execute_result"
        }
      ],
      "source": [
        "another_number"
      ]
    },
    {
      "cell_type": "code",
      "execution_count": null,
      "metadata": {
        "id": "jsDzPdKGWVVK",
        "outputId": "73644b1b-9edf-4221-d2d2-fb6fa16e9aad"
      },
      "outputs": [
        {
          "data": {
            "text/plain": [
              "float"
            ]
          },
          "execution_count": 49,
          "metadata": {},
          "output_type": "execute_result"
        }
      ],
      "source": [
        "type(another_number)"
      ]
    },
    {
      "cell_type": "markdown",
      "metadata": {
        "id": "qIUPG5pNWVVK"
      },
      "source": [
        "Floating point numbers can also be written using the scientific notation with an \"e\" to indicate the power of 10."
      ]
    },
    {
      "cell_type": "code",
      "execution_count": null,
      "metadata": {
        "id": "oPi7Ju1XWVVK"
      },
      "outputs": [],
      "source": [
        "one_hundredth = 1e-2"
      ]
    },
    {
      "cell_type": "code",
      "execution_count": null,
      "metadata": {
        "id": "28IlaN6VWVVK",
        "outputId": "3689bf85-345b-4daa-c120-884cade5cc22"
      },
      "outputs": [
        {
          "data": {
            "text/plain": [
              "0.01"
            ]
          },
          "execution_count": 51,
          "metadata": {},
          "output_type": "execute_result"
        }
      ],
      "source": [
        "one_hundredth"
      ]
    },
    {
      "cell_type": "code",
      "execution_count": null,
      "metadata": {
        "id": "YUoQgmubWVVK",
        "outputId": "7fa862ae-f6bb-41aa-aaad-a25ddbbb2c2e"
      },
      "outputs": [
        {
          "data": {
            "text/plain": [
              "float"
            ]
          },
          "execution_count": 52,
          "metadata": {},
          "output_type": "execute_result"
        }
      ],
      "source": [
        "type(one_hundredth)"
      ]
    },
    {
      "cell_type": "code",
      "execution_count": null,
      "metadata": {
        "id": "8MUJTyBgWVVK"
      },
      "outputs": [],
      "source": [
        "avogadro_number = 6.02214076e23"
      ]
    },
    {
      "cell_type": "code",
      "execution_count": null,
      "metadata": {
        "id": "ztnPrMeKWVVL",
        "outputId": "604484eb-b509-4e36-b317-3b6822ea3b4c"
      },
      "outputs": [
        {
          "data": {
            "text/plain": [
              "6.02214076e+23"
            ]
          },
          "execution_count": 54,
          "metadata": {},
          "output_type": "execute_result"
        }
      ],
      "source": [
        "avogadro_number"
      ]
    },
    {
      "cell_type": "code",
      "execution_count": null,
      "metadata": {
        "id": "DY7MCOmhWVVL",
        "outputId": "ffe47cd3-a4e7-48bc-e88a-4a40c8379a95"
      },
      "outputs": [
        {
          "data": {
            "text/plain": [
              "float"
            ]
          },
          "execution_count": 55,
          "metadata": {},
          "output_type": "execute_result"
        }
      ],
      "source": [
        "type(avogadro_number)"
      ]
    },
    {
      "cell_type": "markdown",
      "metadata": {
        "id": "bhXSOXilWVVL"
      },
      "source": [
        "You can convert floats into integers and vice versa using the `float` and `int` functions. The operation of converting one type of value into another is called casting."
      ]
    },
    {
      "cell_type": "code",
      "execution_count": null,
      "metadata": {
        "id": "UaSOX7yVWVVL",
        "outputId": "e6efcae6-08c9-46da-c0a4-f6d8e0dd527c"
      },
      "outputs": [
        {
          "data": {
            "text/plain": [
              "2020.0"
            ]
          },
          "execution_count": 56,
          "metadata": {},
          "output_type": "execute_result"
        }
      ],
      "source": [
        "float(current_year)"
      ]
    },
    {
      "cell_type": "code",
      "execution_count": null,
      "metadata": {
        "id": "Km_-NvMtWVVL",
        "outputId": "ed0dc4ee-f70b-4279-b3dc-e26277c12a9f"
      },
      "outputs": [
        {
          "data": {
            "text/plain": [
              "-2.3374038374832935e+31"
            ]
          },
          "execution_count": 57,
          "metadata": {},
          "output_type": "execute_result"
        }
      ],
      "source": [
        "float(a_large_negative_number)"
      ]
    },
    {
      "cell_type": "code",
      "execution_count": null,
      "metadata": {
        "id": "lEcXKpH7WVVL",
        "outputId": "aaa7f03c-fb19-4a2a-c678-13275681f527"
      },
      "outputs": [
        {
          "data": {
            "text/plain": [
              "3"
            ]
          },
          "execution_count": 58,
          "metadata": {},
          "output_type": "execute_result"
        }
      ],
      "source": [
        "int(pi)"
      ]
    },
    {
      "cell_type": "code",
      "execution_count": null,
      "metadata": {
        "id": "IuIGS2HBWVVL",
        "outputId": "9552f279-703b-4185-d5d9-b49be54227e1"
      },
      "outputs": [
        {
          "data": {
            "text/plain": [
              "602214075999999987023872"
            ]
          },
          "execution_count": 59,
          "metadata": {},
          "output_type": "execute_result"
        }
      ],
      "source": [
        "int(avogadro_number)"
      ]
    },
    {
      "cell_type": "markdown",
      "metadata": {
        "id": "2En8SIvcWVVL"
      },
      "source": [
        "While performing arithmetic operations, integers are automatically converted to `float`s if any of the operands is a `float`. Also, the division operator `/` always returns a `float`, even if both operands are integers. Use the `//` operator if you want the result of the division to be an `int`."
      ]
    },
    {
      "cell_type": "code",
      "execution_count": null,
      "metadata": {
        "id": "wYbEc4ARWVVL",
        "outputId": "48de17b8-db7d-417f-ba47-2c2c19484b3b"
      },
      "outputs": [
        {
          "data": {
            "text/plain": [
              "float"
            ]
          },
          "execution_count": 60,
          "metadata": {},
          "output_type": "execute_result"
        }
      ],
      "source": [
        "type(45 * 3.0)"
      ]
    },
    {
      "cell_type": "code",
      "execution_count": null,
      "metadata": {
        "id": "o9-krDoRWVVL",
        "outputId": "a44a24e1-77e0-4520-edcd-45df22796fd5"
      },
      "outputs": [
        {
          "data": {
            "text/plain": [
              "int"
            ]
          },
          "execution_count": 61,
          "metadata": {},
          "output_type": "execute_result"
        }
      ],
      "source": [
        "type(45 * 3)"
      ]
    },
    {
      "cell_type": "code",
      "execution_count": null,
      "metadata": {
        "id": "XJR-qbGkWVVL",
        "outputId": "b962a857-c10b-446a-8fd2-36cd12d77862"
      },
      "outputs": [
        {
          "data": {
            "text/plain": [
              "float"
            ]
          },
          "execution_count": 62,
          "metadata": {},
          "output_type": "execute_result"
        }
      ],
      "source": [
        "type(10/3)"
      ]
    },
    {
      "cell_type": "code",
      "execution_count": null,
      "metadata": {
        "id": "jZl7m0cuWVVM",
        "outputId": "d5ba3a10-53a4-4143-f078-486ac7002cdd"
      },
      "outputs": [
        {
          "data": {
            "text/plain": [
              "float"
            ]
          },
          "execution_count": 63,
          "metadata": {},
          "output_type": "execute_result"
        }
      ],
      "source": [
        "type(10/2)"
      ]
    },
    {
      "cell_type": "code",
      "execution_count": null,
      "metadata": {
        "id": "fFX_k7qNWVVM",
        "outputId": "08a6a550-560e-461e-ce38-374beb30a7a1"
      },
      "outputs": [
        {
          "data": {
            "text/plain": [
              "int"
            ]
          },
          "execution_count": 64,
          "metadata": {},
          "output_type": "execute_result"
        }
      ],
      "source": [
        "type(10//2)"
      ]
    },
    {
      "cell_type": "markdown",
      "metadata": {
        "id": "aHTp9CxLWVVM"
      },
      "source": [
        "### Boolean\n",
        "\n",
        "Booleans represent one of 2 values: `True` and `False`. Booleans have the type `bool`."
      ]
    },
    {
      "cell_type": "code",
      "execution_count": null,
      "metadata": {
        "id": "UG0o14vjWVVM"
      },
      "outputs": [],
      "source": [
        "is_today_Sunday = True"
      ]
    },
    {
      "cell_type": "code",
      "execution_count": null,
      "metadata": {
        "id": "R8Qp5kz3WVVM",
        "outputId": "c2905eb5-04be-4a2b-cb9d-5042a246f2ec"
      },
      "outputs": [
        {
          "data": {
            "text/plain": [
              "True"
            ]
          },
          "execution_count": 66,
          "metadata": {},
          "output_type": "execute_result"
        }
      ],
      "source": [
        "is_today_Sunday"
      ]
    },
    {
      "cell_type": "code",
      "execution_count": null,
      "metadata": {
        "id": "4ahLeNJlWVVM",
        "outputId": "6a8ef3c1-5a52-4618-abef-1d40d480c77f"
      },
      "outputs": [
        {
          "data": {
            "text/plain": [
              "bool"
            ]
          },
          "execution_count": 67,
          "metadata": {},
          "output_type": "execute_result"
        }
      ],
      "source": [
        "type(is_today_Saturday)"
      ]
    },
    {
      "cell_type": "markdown",
      "metadata": {
        "id": "vMbe656KWVVM"
      },
      "source": [
        "Booleans are generally the result of a comparison operation, e.g., `==`, `>=`, etc."
      ]
    },
    {
      "cell_type": "code",
      "execution_count": null,
      "metadata": {
        "id": "wbu4-fq6WVVM"
      },
      "outputs": [],
      "source": [
        "cost_of_ice_bag = 1.25\n",
        "is_ice_bag_expensive = cost_of_ice_bag >= 10"
      ]
    },
    {
      "cell_type": "code",
      "execution_count": null,
      "metadata": {
        "id": "M7YLKdDDWVVN",
        "outputId": "d1c1d766-4974-461b-efdb-18d7cc42c777"
      },
      "outputs": [
        {
          "data": {
            "text/plain": [
              "False"
            ]
          },
          "execution_count": 69,
          "metadata": {},
          "output_type": "execute_result"
        }
      ],
      "source": [
        "is_ice_bag_expensive"
      ]
    },
    {
      "cell_type": "code",
      "execution_count": null,
      "metadata": {
        "id": "p4_0wFahWVVN",
        "outputId": "ec1ddc79-2703-4071-ffc1-8d005d047d1a"
      },
      "outputs": [
        {
          "data": {
            "text/plain": [
              "bool"
            ]
          },
          "execution_count": 70,
          "metadata": {},
          "output_type": "execute_result"
        }
      ],
      "source": [
        "type(is_ice_bag_expensive)"
      ]
    },
    {
      "cell_type": "markdown",
      "metadata": {
        "id": "_YO5zCCdWVVN"
      },
      "source": [
        "Booleans are automatically converted to `int`s when used in arithmetic operations. `True` is converted to `1` and `False` is converted to `0`."
      ]
    },
    {
      "cell_type": "code",
      "execution_count": null,
      "metadata": {
        "id": "6NF79E19WVVN",
        "outputId": "03356b34-d15d-416c-8e6e-5e33bba14a13"
      },
      "outputs": [
        {
          "data": {
            "text/plain": [
              "5"
            ]
          },
          "execution_count": 71,
          "metadata": {},
          "output_type": "execute_result"
        }
      ],
      "source": [
        "5 + False"
      ]
    },
    {
      "cell_type": "code",
      "execution_count": null,
      "metadata": {
        "id": "oSVHjN8DWVVN",
        "outputId": "871e52c4-8447-450b-b9ee-fc3859f78f8c"
      },
      "outputs": [
        {
          "data": {
            "text/plain": [
              "4.0"
            ]
          },
          "execution_count": 72,
          "metadata": {},
          "output_type": "execute_result"
        }
      ],
      "source": [
        "3. + True"
      ]
    },
    {
      "cell_type": "markdown",
      "metadata": {
        "id": "EHyj1oelWVVN"
      },
      "source": [
        "Any value in Python can be converted to a Boolean using the `bool` function.\n",
        "\n",
        "Only the following values evaluate to `False` (they are often called *falsy* values):\n",
        "\n",
        "1. The value `False` itself\n",
        "2. The integer `0`\n",
        "3. The float `0.0`\n",
        "4. The empty value `None`\n",
        "5. The empty text `\"\"`\n",
        "6. The empty list `[]`\n",
        "7. The empty tuple `()`\n",
        "8. The empty dictionary `{}`\n",
        "9. The empty set `set()`\n",
        "10. The empty range `range(0)`\n",
        "\n",
        "Everything else evaluates to `True` (a value that evaluates to `True` is often called a *truthy* value)."
      ]
    },
    {
      "cell_type": "code",
      "execution_count": null,
      "metadata": {
        "id": "AXOl7_phWVVN",
        "outputId": "e35b73db-b361-4b2d-9e55-9e2d25502269"
      },
      "outputs": [
        {
          "data": {
            "text/plain": [
              "False"
            ]
          },
          "execution_count": 73,
          "metadata": {},
          "output_type": "execute_result"
        }
      ],
      "source": [
        "bool(False)"
      ]
    },
    {
      "cell_type": "code",
      "execution_count": null,
      "metadata": {
        "id": "YwFFHcVdWVVN",
        "outputId": "a3345e2e-77b5-48a0-d38f-e73f689b6d8e"
      },
      "outputs": [
        {
          "data": {
            "text/plain": [
              "False"
            ]
          },
          "execution_count": 74,
          "metadata": {},
          "output_type": "execute_result"
        }
      ],
      "source": [
        "bool(0)"
      ]
    },
    {
      "cell_type": "code",
      "execution_count": null,
      "metadata": {
        "id": "8_bssLu5WVVN",
        "outputId": "230deeed-44f7-4086-bb33-d0c6ff2a4f44"
      },
      "outputs": [
        {
          "data": {
            "text/plain": [
              "False"
            ]
          },
          "execution_count": 75,
          "metadata": {},
          "output_type": "execute_result"
        }
      ],
      "source": [
        "bool(0.0)"
      ]
    },
    {
      "cell_type": "code",
      "execution_count": null,
      "metadata": {
        "id": "ZuO70DASWVVN",
        "outputId": "7048e2f9-bc24-4800-f9ce-05876025884d"
      },
      "outputs": [
        {
          "data": {
            "text/plain": [
              "False"
            ]
          },
          "execution_count": 76,
          "metadata": {},
          "output_type": "execute_result"
        }
      ],
      "source": [
        "bool(None)"
      ]
    },
    {
      "cell_type": "code",
      "execution_count": null,
      "metadata": {
        "id": "EPIgRjBuWVVO",
        "outputId": "a7a7cc48-96ec-469d-dc91-2aacfe69cc49"
      },
      "outputs": [
        {
          "data": {
            "text/plain": [
              "False"
            ]
          },
          "execution_count": 77,
          "metadata": {},
          "output_type": "execute_result"
        }
      ],
      "source": [
        "bool(\"\")"
      ]
    },
    {
      "cell_type": "code",
      "execution_count": null,
      "metadata": {
        "id": "ydiLVCv1WVVO",
        "outputId": "3a840be5-0147-426b-994d-bdf828abf31a"
      },
      "outputs": [
        {
          "data": {
            "text/plain": [
              "False"
            ]
          },
          "execution_count": 78,
          "metadata": {},
          "output_type": "execute_result"
        }
      ],
      "source": [
        "bool([])"
      ]
    },
    {
      "cell_type": "code",
      "execution_count": null,
      "metadata": {
        "id": "uV3yEMS6WVVO",
        "outputId": "a8234de9-9787-44eb-8912-caceb1375849"
      },
      "outputs": [
        {
          "data": {
            "text/plain": [
              "False"
            ]
          },
          "execution_count": 79,
          "metadata": {},
          "output_type": "execute_result"
        }
      ],
      "source": [
        "bool(())"
      ]
    },
    {
      "cell_type": "code",
      "execution_count": null,
      "metadata": {
        "id": "Q9ebPOnRWVVO",
        "outputId": "aa6c456a-af64-4c96-f674-45f2c0d98dc2"
      },
      "outputs": [
        {
          "data": {
            "text/plain": [
              "False"
            ]
          },
          "execution_count": 80,
          "metadata": {},
          "output_type": "execute_result"
        }
      ],
      "source": [
        "bool({})"
      ]
    },
    {
      "cell_type": "code",
      "execution_count": null,
      "metadata": {
        "id": "CyTqdhQsWVVO",
        "outputId": "7324cee0-0256-4a9d-cec5-82888a1b0d95"
      },
      "outputs": [
        {
          "data": {
            "text/plain": [
              "False"
            ]
          },
          "execution_count": 81,
          "metadata": {},
          "output_type": "execute_result"
        }
      ],
      "source": [
        "bool(set())"
      ]
    },
    {
      "cell_type": "code",
      "execution_count": null,
      "metadata": {
        "id": "btEMsI8VWVVO",
        "outputId": "4ed339db-7ed9-4818-db99-b1198f7ebe02"
      },
      "outputs": [
        {
          "data": {
            "text/plain": [
              "False"
            ]
          },
          "execution_count": 82,
          "metadata": {},
          "output_type": "execute_result"
        }
      ],
      "source": [
        "bool(range(0))"
      ]
    },
    {
      "cell_type": "code",
      "execution_count": null,
      "metadata": {
        "id": "VuyeAkSAWVVO",
        "outputId": "1b69ae2e-b661-487c-b594-649e81c31a3a"
      },
      "outputs": [
        {
          "data": {
            "text/plain": [
              "(True, True, True, True, True, True, True)"
            ]
          },
          "execution_count": 83,
          "metadata": {},
          "output_type": "execute_result"
        }
      ],
      "source": [
        "bool(True), bool(1), bool(2.0), bool(\"hello\"), bool([1,2]), bool((2,3)), bool(range(10))"
      ]
    },
    {
      "cell_type": "markdown",
      "metadata": {
        "id": "TKFUk09ZWVVO"
      },
      "source": [
        "### None\n",
        "\n",
        "The None type includes a single value `None`, used to indicate the absence of a value. `None` has the type `NoneType`. It is often used to declare a variable whose value may be assigned later."
      ]
    },
    {
      "cell_type": "code",
      "execution_count": null,
      "metadata": {
        "id": "zN1EvbtoWVVO"
      },
      "outputs": [],
      "source": [
        "nothing = None"
      ]
    },
    {
      "cell_type": "code",
      "execution_count": null,
      "metadata": {
        "id": "hLe8i9POWVVP",
        "outputId": "701744e9-66ce-4495-bbfb-d968630ff750"
      },
      "outputs": [
        {
          "data": {
            "text/plain": [
              "NoneType"
            ]
          },
          "execution_count": 85,
          "metadata": {},
          "output_type": "execute_result"
        }
      ],
      "source": [
        "type(nothing)"
      ]
    },
    {
      "cell_type": "markdown",
      "metadata": {
        "id": "aU6IgD1WWVVP"
      },
      "source": [
        "### String\n",
        "\n",
        "A string is used to represent text (*a string of characters*) in Python. Strings must be surrounded using quotations (either the single quote `'` or the double quote `\"`). Strings have the type `string`."
      ]
    },
    {
      "cell_type": "code",
      "execution_count": null,
      "metadata": {
        "id": "4QpPR9-OWVVP"
      },
      "outputs": [],
      "source": [
        "today = \"Saturday\""
      ]
    },
    {
      "cell_type": "code",
      "execution_count": null,
      "metadata": {
        "id": "e05TgM-oWVVP",
        "outputId": "de74aaf3-6eed-4490-a8a7-dc3b5c4e543a"
      },
      "outputs": [
        {
          "data": {
            "text/plain": [
              "'Saturday'"
            ]
          },
          "execution_count": 87,
          "metadata": {},
          "output_type": "execute_result"
        }
      ],
      "source": [
        "today"
      ]
    },
    {
      "cell_type": "code",
      "execution_count": null,
      "metadata": {
        "id": "FWRhH5IbWVVP",
        "outputId": "4c5dc96c-b113-4a6b-fa57-2571b19428be"
      },
      "outputs": [
        {
          "data": {
            "text/plain": [
              "str"
            ]
          },
          "execution_count": 88,
          "metadata": {},
          "output_type": "execute_result"
        }
      ],
      "source": [
        "type(today)"
      ]
    },
    {
      "cell_type": "markdown",
      "metadata": {
        "id": "a24z-ml_WVVP"
      },
      "source": [
        "You can use single quotes inside a string written with double quotes, and vice versa."
      ]
    },
    {
      "cell_type": "code",
      "execution_count": null,
      "metadata": {
        "id": "s1Jh2XuQWVVP"
      },
      "outputs": [],
      "source": [
        "my_favorite_movie = \"One Flew over the Cuckoo's Nest\""
      ]
    },
    {
      "cell_type": "code",
      "execution_count": null,
      "metadata": {
        "id": "eBd5eKZSWVVP",
        "outputId": "35280cac-0843-44b7-94e8-bae3b7adeaed"
      },
      "outputs": [
        {
          "data": {
            "text/plain": [
              "\"One Flew over the Cuckoo's Nest\""
            ]
          },
          "execution_count": 90,
          "metadata": {},
          "output_type": "execute_result"
        }
      ],
      "source": [
        "my_favorite_movie"
      ]
    },
    {
      "cell_type": "code",
      "execution_count": null,
      "metadata": {
        "id": "1zwhLDZgWVVP"
      },
      "outputs": [],
      "source": [
        "my_favorite_pun = 'Thanks for explaining the word \"many\" to me, it means a lot.'"
      ]
    },
    {
      "cell_type": "code",
      "execution_count": null,
      "metadata": {
        "id": "aG1v1gYkWVVQ",
        "outputId": "4d74f866-6cff-44ee-dce9-c62f8845440d"
      },
      "outputs": [
        {
          "data": {
            "text/plain": [
              "'Thanks for explaining the word \"many\" to me, it means a lot.'"
            ]
          },
          "execution_count": 92,
          "metadata": {},
          "output_type": "execute_result"
        }
      ],
      "source": [
        "my_favorite_pun"
      ]
    },
    {
      "cell_type": "markdown",
      "metadata": {
        "id": "Ahi-kYCPWVVQ"
      },
      "source": [
        "To use a double quote within a string written with double quotes, *escape* the inner quotes by prefixing them with the `\\` character."
      ]
    },
    {
      "cell_type": "code",
      "execution_count": null,
      "metadata": {
        "id": "HJHMd7o0WVVQ"
      },
      "outputs": [],
      "source": [
        "another_pun = \"The first time I got a universal remote control, I thought to myself \\\"This changes everything\\\".\""
      ]
    },
    {
      "cell_type": "code",
      "execution_count": null,
      "metadata": {
        "id": "5uwwzXnHWVVQ",
        "outputId": "9f102746-443d-41ee-d226-a30273f786ab"
      },
      "outputs": [
        {
          "data": {
            "text/plain": [
              "'The first time I got a universal remote control, I thought to myself \"This changes everything\".'"
            ]
          },
          "execution_count": 94,
          "metadata": {},
          "output_type": "execute_result"
        }
      ],
      "source": [
        "another_pun"
      ]
    },
    {
      "cell_type": "markdown",
      "metadata": {
        "id": "qo6y6s8fWVVQ"
      },
      "source": [
        "Strings created using single or double quotes must begin and end on the same line. To create multiline strings, use three single quotes `'''` or three double quotes `\"\"\"` to begin and end the string. Line breaks are represented using the newline character `\\n`."
      ]
    },
    {
      "cell_type": "code",
      "execution_count": null,
      "metadata": {
        "id": "YWpDd-gwWVVQ"
      },
      "outputs": [],
      "source": [
        "yet_another_pun = '''Son: \"Dad, can you tell me what a solar eclipse is?\"\n",
        "Dad: \"No sun.\"'''"
      ]
    },
    {
      "cell_type": "code",
      "execution_count": null,
      "metadata": {
        "id": "hdS0RvShWVVQ",
        "outputId": "b21bd7ed-bf8e-4503-a5f0-891763025b41"
      },
      "outputs": [
        {
          "data": {
            "text/plain": [
              "'Son: \"Dad, can you tell me what a solar eclipse is?\" \\nDad: \"No sun.\"'"
            ]
          },
          "execution_count": 96,
          "metadata": {},
          "output_type": "execute_result"
        }
      ],
      "source": [
        "yet_another_pun"
      ]
    },
    {
      "cell_type": "markdown",
      "metadata": {
        "id": "yLQS0888WVVQ"
      },
      "source": [
        "Multiline strings are best displayed using the `print` function."
      ]
    },
    {
      "cell_type": "code",
      "execution_count": null,
      "metadata": {
        "id": "7DhAqg5LWVVR",
        "outputId": "a6853534-86ff-4b53-aca8-8da738c06738"
      },
      "outputs": [
        {
          "name": "stdout",
          "output_type": "stream",
          "text": [
            "Son: \"Dad, can you tell me what a solar eclipse is?\" \n",
            "Dad: \"No sun.\"\n"
          ]
        }
      ],
      "source": [
        "print(yet_another_pun)"
      ]
    },
    {
      "cell_type": "code",
      "execution_count": null,
      "metadata": {
        "id": "Ja_SJYReWVVR"
      },
      "outputs": [],
      "source": [
        "a_music_pun = \"\"\"\n",
        "Two windmills are standing in a field and one asks the other,\n",
        "\"What kind of music do you like?\"\n",
        "\n",
        "The other says,\n",
        "\"I'm a big metal fan.\"\n",
        "\"\"\""
      ]
    },
    {
      "cell_type": "code",
      "execution_count": null,
      "metadata": {
        "id": "ETjXc_SHWVVR",
        "outputId": "e5b80db7-f6de-4f7c-ddfc-c47e8f07bb00"
      },
      "outputs": [
        {
          "name": "stdout",
          "output_type": "stream",
          "text": [
            "\n",
            "Two windmills are standing in a field and one asks the other, \n",
            "\"What kind of music do you like?\"  \n",
            "\n",
            "The other says, \n",
            "\"I'm a big metal fan.\"\n",
            "\n"
          ]
        }
      ],
      "source": [
        "print(a_music_pun)"
      ]
    },
    {
      "cell_type": "markdown",
      "metadata": {
        "id": "poCK1ktHWVVR"
      },
      "source": [
        "You can check the length of a string using the `len` function."
      ]
    },
    {
      "cell_type": "code",
      "execution_count": null,
      "metadata": {
        "id": "EL07H8WXWVVR",
        "outputId": "db49ad9d-e1fc-4130-8004-ec2becf3e3a4"
      },
      "outputs": [
        {
          "data": {
            "text/plain": [
              "31"
            ]
          },
          "execution_count": 100,
          "metadata": {},
          "output_type": "execute_result"
        }
      ],
      "source": [
        "len(my_favorite_movie)"
      ]
    },
    {
      "cell_type": "markdown",
      "metadata": {
        "id": "_puj4ayJWVVR"
      },
      "source": [
        "Note that special characters like `\\n` and escaped characters like `\\\"` count as a single character, even though they are written and sometimes printed as two characters."
      ]
    },
    {
      "cell_type": "code",
      "execution_count": null,
      "metadata": {
        "id": "3GEtlE5PWVVR",
        "outputId": "ccefd59b-5a5e-4265-b4d8-1d0b2fa161a0"
      },
      "outputs": [
        {
          "data": {
            "text/plain": [
              "'a\\nb'"
            ]
          },
          "execution_count": 101,
          "metadata": {},
          "output_type": "execute_result"
        }
      ],
      "source": [
        "multiline_string = \"\"\"a\n",
        "b\"\"\"\n",
        "multiline_string"
      ]
    },
    {
      "cell_type": "code",
      "execution_count": null,
      "metadata": {
        "id": "qAXJa9V_WVVR",
        "outputId": "8c74e2aa-1e39-4224-8974-5748dc6bb111"
      },
      "outputs": [
        {
          "data": {
            "text/plain": [
              "3"
            ]
          },
          "execution_count": 102,
          "metadata": {},
          "output_type": "execute_result"
        }
      ],
      "source": [
        "len(multiline_string)"
      ]
    },
    {
      "cell_type": "markdown",
      "metadata": {
        "id": "fHr0vSL4WVVR"
      },
      "source": [
        "A string can be converted into a list of characters using `list` function."
      ]
    },
    {
      "cell_type": "code",
      "execution_count": null,
      "metadata": {
        "id": "XL-N7hSEWVVR",
        "outputId": "43b1935c-63ad-4679-a14f-5d7be4abd3df"
      },
      "outputs": [
        {
          "data": {
            "text/plain": [
              "['a', '\\n', 'b']"
            ]
          },
          "execution_count": 103,
          "metadata": {},
          "output_type": "execute_result"
        }
      ],
      "source": [
        "list(multiline_string)"
      ]
    },
    {
      "cell_type": "markdown",
      "metadata": {
        "id": "hrlBmj1FWVVS"
      },
      "source": [
        "Strings also support several list operations, which are discussed in the next section. We'll look at a couple of examples here.\n",
        "\n",
        "You can access individual characters within a string using the `[]` indexing notation. Note the character indices go from `0` to `n-1`, where `n` is the length of the string."
      ]
    },
    {
      "cell_type": "code",
      "execution_count": null,
      "metadata": {
        "id": "QsQpn3X6WVVS"
      },
      "outputs": [],
      "source": [
        "today = \"Saturday\""
      ]
    },
    {
      "cell_type": "code",
      "execution_count": null,
      "metadata": {
        "id": "Cf2kDszqWVVS",
        "outputId": "d7fb20d4-2b43-4d3e-e7e2-2fd12220aab0"
      },
      "outputs": [
        {
          "data": {
            "text/plain": [
              "'S'"
            ]
          },
          "execution_count": 105,
          "metadata": {},
          "output_type": "execute_result"
        }
      ],
      "source": [
        "today[0]"
      ]
    },
    {
      "cell_type": "code",
      "execution_count": null,
      "metadata": {
        "id": "fxhKKQMaWVVS",
        "outputId": "97683b75-ef2d-4be5-8934-e193032d8c5c"
      },
      "outputs": [
        {
          "data": {
            "text/plain": [
              "'u'"
            ]
          },
          "execution_count": 106,
          "metadata": {},
          "output_type": "execute_result"
        }
      ],
      "source": [
        "today[3]"
      ]
    },
    {
      "cell_type": "code",
      "execution_count": null,
      "metadata": {
        "id": "1IYHc68lWVVS",
        "outputId": "1e2f2f96-56d4-47ff-e5c3-e5be931e859c"
      },
      "outputs": [
        {
          "data": {
            "text/plain": [
              "'y'"
            ]
          },
          "execution_count": 107,
          "metadata": {},
          "output_type": "execute_result"
        }
      ],
      "source": [
        "today[7]"
      ]
    },
    {
      "cell_type": "markdown",
      "metadata": {
        "id": "JXO0mCPoWVVS"
      },
      "source": [
        "You can access a part of a string using by providing a `start:end` range instead of a single index in `[]`."
      ]
    },
    {
      "cell_type": "code",
      "execution_count": null,
      "metadata": {
        "id": "8k3mZH5EWVVS",
        "outputId": "17f3c2ac-e799-4abc-ee98-4d51c78d38bb"
      },
      "outputs": [
        {
          "data": {
            "text/plain": [
              "'day'"
            ]
          },
          "execution_count": 108,
          "metadata": {},
          "output_type": "execute_result"
        }
      ],
      "source": [
        "today[5:8]"
      ]
    },
    {
      "cell_type": "markdown",
      "metadata": {
        "id": "t6jdnAyFWVVS"
      },
      "source": [
        "You can also check whether a string contains a some text using the `in` operator."
      ]
    },
    {
      "cell_type": "code",
      "execution_count": null,
      "metadata": {
        "id": "QNLUjppMWVVS",
        "outputId": "424d0b3a-ddd5-441b-d7e0-25b272e5678e"
      },
      "outputs": [
        {
          "data": {
            "text/plain": [
              "True"
            ]
          },
          "execution_count": 109,
          "metadata": {},
          "output_type": "execute_result"
        }
      ],
      "source": [
        "'day' in today"
      ]
    },
    {
      "cell_type": "code",
      "execution_count": null,
      "metadata": {
        "id": "xhb9fwwzWVVT",
        "outputId": "7bde3031-89ab-440d-dc55-0a70c2155721"
      },
      "outputs": [
        {
          "data": {
            "text/plain": [
              "False"
            ]
          },
          "execution_count": 110,
          "metadata": {},
          "output_type": "execute_result"
        }
      ],
      "source": [
        "'Sun' in today"
      ]
    },
    {
      "cell_type": "markdown",
      "metadata": {
        "id": "nV2rQ4VhWVVT"
      },
      "source": [
        "Two or more strings can be joined or *concatenated* using the `+` operator. Be careful while concatenating strings, sometimes you may need to add a space character `\" \"` between words."
      ]
    },
    {
      "cell_type": "code",
      "execution_count": null,
      "metadata": {
        "id": "3tA8jhmdWVVT"
      },
      "outputs": [],
      "source": [
        "full_name = \"Derek O'Brien\""
      ]
    },
    {
      "cell_type": "code",
      "execution_count": null,
      "metadata": {
        "id": "y_77qvryWVVT"
      },
      "outputs": [],
      "source": [
        "greeting = \"Hello\""
      ]
    },
    {
      "cell_type": "code",
      "execution_count": null,
      "metadata": {
        "id": "J3CEcexXWVVT",
        "outputId": "00a7dc30-d9bb-4d21-bbfc-11832a079da8"
      },
      "outputs": [
        {
          "data": {
            "text/plain": [
              "\"HelloDerek O'Brien\""
            ]
          },
          "execution_count": 113,
          "metadata": {},
          "output_type": "execute_result"
        }
      ],
      "source": [
        "greeting + full_name"
      ]
    },
    {
      "cell_type": "code",
      "execution_count": null,
      "metadata": {
        "id": "6YnLrYP9WVVT",
        "outputId": "93960935-45df-4a26-94e8-2a85ec2aeed7"
      },
      "outputs": [
        {
          "data": {
            "text/plain": [
              "\"Hello Derek O'Brien!\""
            ]
          },
          "execution_count": 114,
          "metadata": {},
          "output_type": "execute_result"
        }
      ],
      "source": [
        "greeting + \" \" + full_name + \"!\" # additional space"
      ]
    },
    {
      "cell_type": "markdown",
      "metadata": {
        "id": "YKS3YHImWVVT"
      },
      "source": [
        "Strings in Python have many built-in *methods* that are used to manipulate them. Let's try out some common string methods.\n",
        "\n",
        "> **Methods**: Methods are functions associated with data types and are accessed using the `.` notation e.g. `variable_name.method()` or `\"a string\".method()`. Methods are a powerful technique for associating common operations with values of specific data types.\n",
        "\n",
        "The `.lower()`, `.upper()` and `.capitalize()` methods are used to change the case of the characters."
      ]
    },
    {
      "cell_type": "code",
      "execution_count": null,
      "metadata": {
        "id": "qbHmQ52SWVVT",
        "outputId": "3baf6d59-d1eb-4d11-b0a8-610dd6773b67"
      },
      "outputs": [
        {
          "data": {
            "text/plain": [
              "'saturday'"
            ]
          },
          "execution_count": 115,
          "metadata": {},
          "output_type": "execute_result"
        }
      ],
      "source": [
        "today.lower()"
      ]
    },
    {
      "cell_type": "code",
      "execution_count": null,
      "metadata": {
        "id": "YysT3xKCWVVT",
        "outputId": "e9ed7e87-7c46-4d87-fc57-97e08ea728f4"
      },
      "outputs": [
        {
          "data": {
            "text/plain": [
              "'SATURDAY'"
            ]
          },
          "execution_count": 116,
          "metadata": {},
          "output_type": "execute_result"
        }
      ],
      "source": [
        "\"saturday\".upper()"
      ]
    },
    {
      "cell_type": "code",
      "execution_count": null,
      "metadata": {
        "id": "AJ62HhEsWVVT",
        "outputId": "052c3afe-ae69-4638-cbd9-78c89056efaa"
      },
      "outputs": [
        {
          "data": {
            "text/plain": [
              "'Monday'"
            ]
          },
          "execution_count": 117,
          "metadata": {},
          "output_type": "execute_result"
        }
      ],
      "source": [
        "\"monday\".capitalize() # changes first character to uppercase"
      ]
    },
    {
      "cell_type": "markdown",
      "metadata": {
        "id": "Lg1tiKfrWVVU"
      },
      "source": [
        "The `.replace` method replaces a part of the string with another string. It takes the portion to be replaced and the replacement text as *inputs* or *arguments*."
      ]
    },
    {
      "cell_type": "code",
      "execution_count": null,
      "metadata": {
        "id": "bumLw-fcWVVU"
      },
      "outputs": [],
      "source": [
        "another_day = today.replace(\"Satur\", \"Wednes\")"
      ]
    },
    {
      "cell_type": "code",
      "execution_count": null,
      "metadata": {
        "id": "jGFdwBrFWVVU",
        "outputId": "22c2fb92-d015-4f47-b7b6-1771c72759e6"
      },
      "outputs": [
        {
          "data": {
            "text/plain": [
              "'Wednesday'"
            ]
          },
          "execution_count": 119,
          "metadata": {},
          "output_type": "execute_result"
        }
      ],
      "source": [
        "another_day"
      ]
    },
    {
      "cell_type": "markdown",
      "metadata": {
        "id": "NBh1XnoBWVVU"
      },
      "source": [
        "Note that `replace` returns a new string, and the original string is not modified."
      ]
    },
    {
      "cell_type": "code",
      "execution_count": null,
      "metadata": {
        "id": "u2e8tMFMWVVU",
        "outputId": "2a09076e-41f2-4b9d-b8f7-662bc5efdba0"
      },
      "outputs": [
        {
          "data": {
            "text/plain": [
              "'Saturday'"
            ]
          },
          "execution_count": 120,
          "metadata": {},
          "output_type": "execute_result"
        }
      ],
      "source": [
        "today"
      ]
    },
    {
      "cell_type": "markdown",
      "metadata": {
        "id": "Pax9YxMkWVVU"
      },
      "source": [
        "The `.split` method splits a string into a list of strings at every occurrence of provided character(s)."
      ]
    },
    {
      "cell_type": "code",
      "execution_count": null,
      "metadata": {
        "id": "8cZPYjvMWVVU",
        "outputId": "d2bf555d-e97f-418c-f720-e9f4d8487bac"
      },
      "outputs": [
        {
          "data": {
            "text/plain": [
              "['Sun', 'Mon', 'Tue', 'Wed', 'Thu', 'Fri', 'Sat']"
            ]
          },
          "execution_count": 121,
          "metadata": {},
          "output_type": "execute_result"
        }
      ],
      "source": [
        "\"Sun,Mon,Tue,Wed,Thu,Fri,Sat\".split(\",\")"
      ]
    },
    {
      "cell_type": "markdown",
      "metadata": {
        "id": "zS7xGcDXWVVU"
      },
      "source": [
        "The `.strip` method removes whitespace characters from the beginning and end of a string."
      ]
    },
    {
      "cell_type": "code",
      "execution_count": null,
      "metadata": {
        "id": "RdVYz8N9WVVU"
      },
      "outputs": [],
      "source": [
        "a_long_line = \"       This is a long line with some space before, after,     and some space in the middle..    \""
      ]
    },
    {
      "cell_type": "code",
      "execution_count": null,
      "metadata": {
        "id": "xT6j246aWVVU"
      },
      "outputs": [],
      "source": [
        "a_long_line_stripped = a_long_line.strip()"
      ]
    },
    {
      "cell_type": "code",
      "execution_count": null,
      "metadata": {
        "id": "m6mZnPP8WVVU",
        "outputId": "c91992f3-5de3-4d45-b552-ea4b68c13d5c"
      },
      "outputs": [
        {
          "data": {
            "text/plain": [
              "'This is a long line with some space before, after,     and some space in the middle..'"
            ]
          },
          "execution_count": 124,
          "metadata": {},
          "output_type": "execute_result"
        }
      ],
      "source": [
        "a_long_line_stripped"
      ]
    },
    {
      "cell_type": "markdown",
      "metadata": {
        "id": "zDwLpgSHWVVV"
      },
      "source": [
        "The `.format` method combines values of other data types, e.g., integers, floats, booleans, lists, etc. with strings. You can use `format` to construct output messages for display."
      ]
    },
    {
      "cell_type": "code",
      "execution_count": null,
      "metadata": {
        "id": "b4JdRBxHWVVV",
        "outputId": "65350130-e5c7-4277-ce0d-28611ba47703"
      },
      "outputs": [
        {
          "name": "stdout",
          "output_type": "stream",
          "text": [
            "If a grocery store sells ice bags at $ {} per bag, with a profit margin of {} %, \n",
            "then the total profit it makes by selling {} ice bags is $ {}.\n"
          ]
        }
      ],
      "source": [
        "# Input variables\n",
        "cost_of_ice_bag = 1.25\n",
        "profit_margin = .2\n",
        "number_of_bags = 500\n",
        "\n",
        "# Template for output message\n",
        "output_template = \"\"\"If a grocery store sells ice bags at $ {} per bag, with a profit margin of {} %,\n",
        "then the total profit it makes by selling {} ice bags is $ {}.\"\"\"\n",
        "\n",
        "print(output_template)"
      ]
    },
    {
      "cell_type": "code",
      "execution_count": null,
      "metadata": {
        "id": "VOP8wExPWVVV",
        "outputId": "510dc096-b47e-4619-a5de-11278e6e4b7b"
      },
      "outputs": [
        {
          "name": "stdout",
          "output_type": "stream",
          "text": [
            "If a grocery store sells ice bags at $ 1.25 per bag, with a profit margin of 20.0 %, \n",
            "then the total profit it makes by selling 500 ice bags is $ 125.0.\n"
          ]
        }
      ],
      "source": [
        "# Inserting values into the string\n",
        "total_profit = cost_of_ice_bag * profit_margin * number_of_bags\n",
        "output_message = output_template.format(cost_of_ice_bag, profit_margin*100, number_of_bags, total_profit)\n",
        "\n",
        "print(output_message)"
      ]
    },
    {
      "cell_type": "markdown",
      "metadata": {
        "id": "VIkKrSp7WVVV"
      },
      "source": [
        "Notice how the placeholders `{}` in the `output_template` string are replaced with the arguments provided to the `.format` method.\n",
        "\n",
        "It is also possible to use the string concatenation operator `+` to combine strings with other values. However, those values must first be converted to strings using the `str` function."
      ]
    },
    {
      "cell_type": "code",
      "execution_count": null,
      "metadata": {
        "id": "KHZ23ZLAWVVV",
        "outputId": "b0636e0d-a09e-4692-b30b-83c575aadc3b"
      },
      "outputs": [
        {
          "ename": "TypeError",
          "evalue": "can only concatenate str (not \"float\") to str",
          "output_type": "error",
          "traceback": [
            "\u001b[0;31m---------------------------------------------------------------------------\u001b[0m",
            "\u001b[0;31mTypeError\u001b[0m                                 Traceback (most recent call last)",
            "\u001b[0;32m<ipython-input-127-78b7958ec7cc>\u001b[0m in \u001b[0;36m<module>\u001b[0;34m\u001b[0m\n\u001b[0;32m----> 1\u001b[0;31m \u001b[0;34m\"If a grocery store sells ice bags at $ \"\u001b[0m \u001b[0;34m+\u001b[0m \u001b[0mcost_of_ice_bag\u001b[0m \u001b[0;34m+\u001b[0m \u001b[0;34m\", with a profit margin of \"\u001b[0m \u001b[0;34m+\u001b[0m \u001b[0mprofit_margin\u001b[0m\u001b[0;34m\u001b[0m\u001b[0;34m\u001b[0m\u001b[0m\n\u001b[0m",
            "\u001b[0;31mTypeError\u001b[0m: can only concatenate str (not \"float\") to str"
          ]
        }
      ],
      "source": [
        "\"If a grocery store sells ice bags at $ \" + cost_of_ice_bag + \", with a profit margin of \" + profit_margin"
      ]
    },
    {
      "cell_type": "code",
      "execution_count": null,
      "metadata": {
        "id": "DdYml7u_WVVW",
        "outputId": "519eec3f-98c5-41a5-cb9a-dd5fd5fed779"
      },
      "outputs": [
        {
          "data": {
            "text/plain": [
              "'If a grocery store sells ice bags at $ 1.25, with a profit margin of 0.2'"
            ]
          },
          "execution_count": 128,
          "metadata": {},
          "output_type": "execute_result"
        }
      ],
      "source": [
        "\"If a grocery store sells ice bags at $ \" + str(cost_of_ice_bag) + \", with a profit margin of \" + str(profit_margin)"
      ]
    },
    {
      "cell_type": "markdown",
      "metadata": {
        "id": "U_QB2aJMWVVW"
      },
      "source": [
        "You can `str` to convert a value of any data type into a string."
      ]
    },
    {
      "cell_type": "code",
      "execution_count": null,
      "metadata": {
        "id": "0hfsPzMpWVVW",
        "outputId": "a1526dbb-5f12-480b-8d01-10997487dbd3"
      },
      "outputs": [
        {
          "data": {
            "text/plain": [
              "'23'"
            ]
          },
          "execution_count": 129,
          "metadata": {},
          "output_type": "execute_result"
        }
      ],
      "source": [
        "str(23)"
      ]
    },
    {
      "cell_type": "code",
      "execution_count": null,
      "metadata": {
        "id": "9-q4QY3oWVVW",
        "outputId": "6c146976-aa98-4cc7-f8a4-87bbafbfd121"
      },
      "outputs": [
        {
          "data": {
            "text/plain": [
              "'23.432'"
            ]
          },
          "execution_count": 130,
          "metadata": {},
          "output_type": "execute_result"
        }
      ],
      "source": [
        "str(23.432)"
      ]
    },
    {
      "cell_type": "code",
      "execution_count": null,
      "metadata": {
        "id": "rU-Pbc2MWVVW",
        "outputId": "eef6b72d-317d-44e4-eb70-1c3723941af9"
      },
      "outputs": [
        {
          "data": {
            "text/plain": [
              "'True'"
            ]
          },
          "execution_count": 131,
          "metadata": {},
          "output_type": "execute_result"
        }
      ],
      "source": [
        "str(True)"
      ]
    },
    {
      "cell_type": "code",
      "execution_count": null,
      "metadata": {
        "id": "dYQh4NdLWVVW",
        "outputId": "e70926f0-19c1-4921-b770-f4a9672a8eae"
      },
      "outputs": [
        {
          "data": {
            "text/plain": [
              "\"['Athos', 'Porthos', 'Aramis']\""
            ]
          },
          "execution_count": 132,
          "metadata": {},
          "output_type": "execute_result"
        }
      ],
      "source": [
        "the_3_musketeers = [\"Athos\", \"Porthos\", \"Aramis\"]\n",
        "str(the_3_musketeers)"
      ]
    },
    {
      "cell_type": "markdown",
      "metadata": {
        "id": "nR75LiaVWVVW"
      },
      "source": [
        "Note that all string methods return new values and DO NOT change the existing string. You can find a full list of string methods here: https://www.w3schools.com/python/python_ref_string.asp."
      ]
    },
    {
      "cell_type": "markdown",
      "metadata": {
        "id": "V6d-TnEWWVVW"
      },
      "source": [
        "Strings also support the comparison operators `==` and `!=` for checking whether two strings are equal."
      ]
    },
    {
      "cell_type": "code",
      "execution_count": null,
      "metadata": {
        "id": "jsUQDFsPWVVW"
      },
      "outputs": [],
      "source": [
        "first_name = \"John\""
      ]
    },
    {
      "cell_type": "code",
      "execution_count": null,
      "metadata": {
        "id": "bSU1590lWVVW",
        "outputId": "55f4dda5-07dd-44da-9d86-fe7ce465a0aa"
      },
      "outputs": [
        {
          "data": {
            "text/plain": [
              "False"
            ]
          },
          "execution_count": 134,
          "metadata": {},
          "output_type": "execute_result"
        }
      ],
      "source": [
        "first_name == \"Doe\""
      ]
    },
    {
      "cell_type": "code",
      "execution_count": null,
      "metadata": {
        "id": "fppwm1JpWVVX",
        "outputId": "c367ccfe-8c2f-4363-e625-86678c880996"
      },
      "outputs": [
        {
          "data": {
            "text/plain": [
              "True"
            ]
          },
          "execution_count": 135,
          "metadata": {},
          "output_type": "execute_result"
        }
      ],
      "source": [
        "first_name == \"John\""
      ]
    },
    {
      "cell_type": "code",
      "execution_count": null,
      "metadata": {
        "id": "APTn7oJ-WVVX",
        "outputId": "35d4f223-b54f-453a-98af-de8e3b7084ba"
      },
      "outputs": [
        {
          "data": {
            "text/plain": [
              "True"
            ]
          },
          "execution_count": 136,
          "metadata": {},
          "output_type": "execute_result"
        }
      ],
      "source": [
        "first_name != \"Jane\""
      ]
    },
    {
      "cell_type": "markdown",
      "metadata": {
        "id": "KyHLMND0WVVX"
      },
      "source": [
        "We've looked at the primitive data types in Python. We're now ready to explore non-primitive data structures, also known as containers.\n",
        "\n",
        "Before continuing, let us run `jovian.commit` once again to record another snapshot of our notebook."
      ]
    },
    {
      "cell_type": "code",
      "execution_count": null,
      "metadata": {
        "id": "IoS-M1BaWVVX",
        "outputId": "a4ab1080-d6bf-43c2-9973-81ab70c99744"
      },
      "outputs": [
        {
          "data": {
            "application/javascript": [
              "window.require && require([\"base/js/namespace\"],function(Jupyter){Jupyter.notebook.save_checkpoint()})"
            ],
            "text/plain": [
              "<IPython.core.display.Javascript object>"
            ]
          },
          "metadata": {},
          "output_type": "display_data"
        },
        {
          "name": "stdout",
          "output_type": "stream",
          "text": [
            "[jovian] Attempting to save notebook..\u001b[0m\n",
            "[jovian] Updating notebook \"samanvitha/python-variables-and-data-types\" on https://jovian.ai\u001b[0m\n",
            "[jovian] Uploading notebook..\u001b[0m\n",
            "[jovian] Uploading additional files...\u001b[0m\n",
            "[jovian] Committed successfully! https://jovian.ai/samanvitha/python-variables-and-data-types\u001b[0m\n"
          ]
        },
        {
          "data": {
            "text/plain": [
              "'https://jovian.ai/samanvitha/python-variables-and-data-types'"
            ]
          },
          "execution_count": 137,
          "metadata": {},
          "output_type": "execute_result"
        }
      ],
      "source": [
        "jovian.commit()"
      ]
    },
    {
      "cell_type": "markdown",
      "metadata": {
        "id": "lqDHlYe0WVVX"
      },
      "source": [
        "Running `jovian.commit` multiple times within a notebook records new versions automatically. You will continue to have access to all the previous versions of your notebook, using the versions dropdown on the notebook's Jovian."
      ]
    },
    {
      "cell_type": "markdown",
      "metadata": {
        "id": "W_IR1BLhWVVX"
      },
      "source": [
        "### List\n",
        "\n",
        "A list in Python is an ordered collection of values. Lists can hold values of different data types and support operations to add, remove, and change values. Lists have the type `list`.\n",
        "\n",
        "To create a list, enclose a sequence of values within square brackets `[` and `]`, separated by commas."
      ]
    },
    {
      "cell_type": "code",
      "execution_count": null,
      "metadata": {
        "id": "0GWTEXoOWVVX"
      },
      "outputs": [],
      "source": [
        "fruits = ['apple', 'banana', 'cherry']"
      ]
    },
    {
      "cell_type": "code",
      "execution_count": null,
      "metadata": {
        "id": "qSCiYQg3WVVX",
        "outputId": "6d60387b-c1d0-4927-a93d-d252460ad58b"
      },
      "outputs": [
        {
          "data": {
            "text/plain": [
              "['apple', 'banana', 'cherry']"
            ]
          },
          "execution_count": 139,
          "metadata": {},
          "output_type": "execute_result"
        }
      ],
      "source": [
        "fruits"
      ]
    },
    {
      "cell_type": "code",
      "execution_count": null,
      "metadata": {
        "id": "lTOK6bLFWVVX",
        "outputId": "55d98193-ecca-4637-fdb2-181862f5779e"
      },
      "outputs": [
        {
          "data": {
            "text/plain": [
              "list"
            ]
          },
          "execution_count": 140,
          "metadata": {},
          "output_type": "execute_result"
        }
      ],
      "source": [
        "type(fruits)"
      ]
    },
    {
      "cell_type": "markdown",
      "metadata": {
        "id": "QzvMOCe-WVVX"
      },
      "source": [
        "Let's try creating a list containing values of different data types, including another list."
      ]
    },
    {
      "cell_type": "code",
      "execution_count": null,
      "metadata": {
        "id": "5qon2c1XWVVY"
      },
      "outputs": [],
      "source": [
        "a_list = [23, 'hello', None, 3.14, fruits, 3 <= 5]"
      ]
    },
    {
      "cell_type": "code",
      "execution_count": null,
      "metadata": {
        "id": "rP1wUBWmWVVY",
        "outputId": "dad76e0e-46bd-451d-8d9e-7241704d53eb"
      },
      "outputs": [
        {
          "data": {
            "text/plain": [
              "[23, 'hello', None, 3.14, ['apple', 'banana', 'cherry'], True]"
            ]
          },
          "execution_count": 142,
          "metadata": {},
          "output_type": "execute_result"
        }
      ],
      "source": [
        "a_list"
      ]
    },
    {
      "cell_type": "code",
      "execution_count": null,
      "metadata": {
        "id": "BlkRBY8yWVVY"
      },
      "outputs": [],
      "source": [
        "empty_list = []"
      ]
    },
    {
      "cell_type": "code",
      "execution_count": null,
      "metadata": {
        "id": "Hg6OgAjFWVVY",
        "outputId": "58b505de-e684-464a-921d-2397396739f3"
      },
      "outputs": [
        {
          "data": {
            "text/plain": [
              "[]"
            ]
          },
          "execution_count": 144,
          "metadata": {},
          "output_type": "execute_result"
        }
      ],
      "source": [
        "empty_list"
      ]
    },
    {
      "cell_type": "markdown",
      "metadata": {
        "id": "toHbjWMlWVVY"
      },
      "source": [
        "To determine the number of values in a list, use the `len` function. You can use `len`  to determine the number of values in several other data types."
      ]
    },
    {
      "cell_type": "code",
      "execution_count": null,
      "metadata": {
        "id": "7Yp3rDi7WVVY",
        "outputId": "6d89611b-c1fc-49cd-b717-b43756095181"
      },
      "outputs": [
        {
          "data": {
            "text/plain": [
              "3"
            ]
          },
          "execution_count": 145,
          "metadata": {},
          "output_type": "execute_result"
        }
      ],
      "source": [
        "len(fruits)"
      ]
    },
    {
      "cell_type": "code",
      "execution_count": null,
      "metadata": {
        "id": "KgqaiYk-WVVZ",
        "outputId": "20a51598-990f-4678-87b4-a5e1cf564c18"
      },
      "outputs": [
        {
          "name": "stdout",
          "output_type": "stream",
          "text": [
            "Number of fruits: 3\n"
          ]
        }
      ],
      "source": [
        "print(\"Number of fruits:\", len(fruits))"
      ]
    },
    {
      "cell_type": "code",
      "execution_count": null,
      "metadata": {
        "id": "jVLShciNWVVZ",
        "outputId": "fcc9ae74-2121-4f33-ac3e-d5ebd38dc622"
      },
      "outputs": [
        {
          "data": {
            "text/plain": [
              "6"
            ]
          },
          "execution_count": 147,
          "metadata": {},
          "output_type": "execute_result"
        }
      ],
      "source": [
        "len(a_list)"
      ]
    },
    {
      "cell_type": "code",
      "execution_count": null,
      "metadata": {
        "id": "Gip1zznjWVVZ",
        "outputId": "126d922f-12ad-46e1-874c-31286fe1d3b6"
      },
      "outputs": [
        {
          "data": {
            "text/plain": [
              "0"
            ]
          },
          "execution_count": 148,
          "metadata": {},
          "output_type": "execute_result"
        }
      ],
      "source": [
        "len(empty_list)"
      ]
    },
    {
      "cell_type": "markdown",
      "metadata": {
        "id": "LLTLQAYHWVVZ"
      },
      "source": [
        "You can access an element from the list using its *index*, e.g., `fruits[2]` returns the element at index 2 within the list `fruits`. The starting index of a list is 0."
      ]
    },
    {
      "cell_type": "code",
      "execution_count": null,
      "metadata": {
        "id": "7JkdTPIXWVVZ",
        "outputId": "519f6a2f-08e2-4128-b354-491d15f90d03"
      },
      "outputs": [
        {
          "data": {
            "text/plain": [
              "'apple'"
            ]
          },
          "execution_count": 149,
          "metadata": {},
          "output_type": "execute_result"
        }
      ],
      "source": [
        "fruits[0]"
      ]
    },
    {
      "cell_type": "code",
      "execution_count": null,
      "metadata": {
        "id": "yctBhTpEWVVZ",
        "outputId": "bf93295f-e5b1-498a-9e45-436909375ca7"
      },
      "outputs": [
        {
          "data": {
            "text/plain": [
              "'banana'"
            ]
          },
          "execution_count": 150,
          "metadata": {},
          "output_type": "execute_result"
        }
      ],
      "source": [
        "fruits[1]"
      ]
    },
    {
      "cell_type": "code",
      "execution_count": null,
      "metadata": {
        "id": "BUYJWD4xWVVZ",
        "outputId": "6850d61d-cbcd-4f7e-dd6e-fe439dfeb5ba"
      },
      "outputs": [
        {
          "data": {
            "text/plain": [
              "'cherry'"
            ]
          },
          "execution_count": 151,
          "metadata": {},
          "output_type": "execute_result"
        }
      ],
      "source": [
        "fruits[2]"
      ]
    },
    {
      "cell_type": "markdown",
      "metadata": {
        "id": "6NFZl5DKWVVZ"
      },
      "source": [
        "If you try to access an index equal to or higher than the length of the list, Python returns an `IndexError`."
      ]
    },
    {
      "cell_type": "code",
      "execution_count": null,
      "metadata": {
        "id": "YQsWCjmCWVVa",
        "outputId": "41db9ead-26e1-48c3-91de-fb7249073a24"
      },
      "outputs": [
        {
          "ename": "IndexError",
          "evalue": "list index out of range",
          "output_type": "error",
          "traceback": [
            "\u001b[0;31m---------------------------------------------------------------------------\u001b[0m",
            "\u001b[0;31mIndexError\u001b[0m                                Traceback (most recent call last)",
            "\u001b[0;32m<ipython-input-152-7ceeafd384d7>\u001b[0m in \u001b[0;36m<module>\u001b[0;34m\u001b[0m\n\u001b[0;32m----> 1\u001b[0;31m \u001b[0mfruits\u001b[0m\u001b[0;34m[\u001b[0m\u001b[0;36m3\u001b[0m\u001b[0;34m]\u001b[0m\u001b[0;34m\u001b[0m\u001b[0;34m\u001b[0m\u001b[0m\n\u001b[0m",
            "\u001b[0;31mIndexError\u001b[0m: list index out of range"
          ]
        }
      ],
      "source": [
        "fruits[3]"
      ]
    },
    {
      "cell_type": "code",
      "execution_count": null,
      "metadata": {
        "id": "iPxBNYWaWVVa",
        "outputId": "ffcfdfe3-a6db-42e1-f94d-dbf4c28be437"
      },
      "outputs": [
        {
          "ename": "IndexError",
          "evalue": "list index out of range",
          "output_type": "error",
          "traceback": [
            "\u001b[0;31m---------------------------------------------------------------------------\u001b[0m",
            "\u001b[0;31mIndexError\u001b[0m                                Traceback (most recent call last)",
            "\u001b[0;32m<ipython-input-153-b8c91da6ba3a>\u001b[0m in \u001b[0;36m<module>\u001b[0;34m\u001b[0m\n\u001b[0;32m----> 1\u001b[0;31m \u001b[0mfruits\u001b[0m\u001b[0;34m[\u001b[0m\u001b[0;36m4\u001b[0m\u001b[0;34m]\u001b[0m\u001b[0;34m\u001b[0m\u001b[0;34m\u001b[0m\u001b[0m\n\u001b[0m",
            "\u001b[0;31mIndexError\u001b[0m: list index out of range"
          ]
        }
      ],
      "source": [
        "fruits[4]"
      ]
    },
    {
      "cell_type": "markdown",
      "metadata": {
        "id": "l4wZSvy4WVVa"
      },
      "source": [
        "You can use negative indices to access elements from the end of a list, e.g., `fruits[-1]` returns the last element, `fruits[-2]` returns the second last element, and so on."
      ]
    },
    {
      "cell_type": "code",
      "execution_count": null,
      "metadata": {
        "id": "QvV421yoWVVa",
        "outputId": "20fdde41-46a3-473f-b877-adae7b04dc90"
      },
      "outputs": [
        {
          "data": {
            "text/plain": [
              "'cherry'"
            ]
          },
          "execution_count": 154,
          "metadata": {},
          "output_type": "execute_result"
        }
      ],
      "source": [
        "fruits[-1]"
      ]
    },
    {
      "cell_type": "code",
      "execution_count": null,
      "metadata": {
        "id": "asYCWGgAWVVa",
        "outputId": "e89fcfdb-bb51-422d-f31b-9e35125ddd9c"
      },
      "outputs": [
        {
          "data": {
            "text/plain": [
              "'banana'"
            ]
          },
          "execution_count": 155,
          "metadata": {},
          "output_type": "execute_result"
        }
      ],
      "source": [
        "fruits[-2]"
      ]
    },
    {
      "cell_type": "code",
      "execution_count": null,
      "metadata": {
        "id": "ZoIkxJrIWVVa",
        "outputId": "99272ec1-3ea5-496d-b99a-422366aa2bab"
      },
      "outputs": [
        {
          "data": {
            "text/plain": [
              "'apple'"
            ]
          },
          "execution_count": 156,
          "metadata": {},
          "output_type": "execute_result"
        }
      ],
      "source": [
        "fruits[-3]"
      ]
    },
    {
      "cell_type": "code",
      "execution_count": null,
      "metadata": {
        "id": "jUc_0rt5WVVa",
        "outputId": "a0676d63-2b01-402c-af9c-2b6091c606e6"
      },
      "outputs": [
        {
          "ename": "IndexError",
          "evalue": "list index out of range",
          "output_type": "error",
          "traceback": [
            "\u001b[0;31m---------------------------------------------------------------------------\u001b[0m",
            "\u001b[0;31mIndexError\u001b[0m                                Traceback (most recent call last)",
            "\u001b[0;32m<ipython-input-157-1cb2d66442ee>\u001b[0m in \u001b[0;36m<module>\u001b[0;34m\u001b[0m\n\u001b[0;32m----> 1\u001b[0;31m \u001b[0mfruits\u001b[0m\u001b[0;34m[\u001b[0m\u001b[0;34m-\u001b[0m\u001b[0;36m4\u001b[0m\u001b[0;34m]\u001b[0m\u001b[0;34m\u001b[0m\u001b[0;34m\u001b[0m\u001b[0m\n\u001b[0m",
            "\u001b[0;31mIndexError\u001b[0m: list index out of range"
          ]
        }
      ],
      "source": [
        "fruits[-4]"
      ]
    },
    {
      "cell_type": "markdown",
      "metadata": {
        "id": "QGqmS8miWVVa"
      },
      "source": [
        "You can also access a range of values from the list. The result is itself a list. Let us look at some examples."
      ]
    },
    {
      "cell_type": "code",
      "execution_count": null,
      "metadata": {
        "id": "y08WnzVtWVVa"
      },
      "outputs": [],
      "source": [
        "a_list = [23, 'hello', None, 3.14, fruits, 3 <= 5]"
      ]
    },
    {
      "cell_type": "code",
      "execution_count": null,
      "metadata": {
        "id": "3kwYijFmWVVa",
        "outputId": "5f6a63e5-b71b-423a-d718-d440192f552d"
      },
      "outputs": [
        {
          "data": {
            "text/plain": [
              "[23, 'hello', None, 3.14, ['apple', 'banana', 'cherry'], True]"
            ]
          },
          "execution_count": 159,
          "metadata": {},
          "output_type": "execute_result"
        }
      ],
      "source": [
        "a_list"
      ]
    },
    {
      "cell_type": "code",
      "execution_count": null,
      "metadata": {
        "id": "voxaGCJiWVVb",
        "outputId": "5d7cf7e6-73d2-45ee-8150-ab62dde364d1"
      },
      "outputs": [
        {
          "data": {
            "text/plain": [
              "6"
            ]
          },
          "execution_count": 160,
          "metadata": {},
          "output_type": "execute_result"
        }
      ],
      "source": [
        "len(a_list)"
      ]
    },
    {
      "cell_type": "code",
      "execution_count": null,
      "metadata": {
        "id": "ay5n1xgQWVVb",
        "outputId": "b6f63d37-a7f6-49b9-dbde-a27d851476d5"
      },
      "outputs": [
        {
          "data": {
            "text/plain": [
              "[None, 3.14, ['apple', 'banana', 'cherry']]"
            ]
          },
          "execution_count": 161,
          "metadata": {},
          "output_type": "execute_result"
        }
      ],
      "source": [
        "a_list[2:5]"
      ]
    },
    {
      "cell_type": "markdown",
      "metadata": {
        "id": "vPApo5hSWVVb"
      },
      "source": [
        "Note that the range `2:5` includes the element at the start index `2` but does not include the element at the end index `5`. So, the result has 3 values (index `2`, `3`, and `4`).\n",
        "\n",
        "Here are some experiments you should try out (use the empty cells below):\n",
        "\n",
        "* Try setting one or both indices of the range are larger than the size of the list, e.g., `a_list[2:10]`\n",
        "* Try setting the start index of the range to be larger than the end index, e.g., `a_list[12:10]`\n",
        "* Try leaving out the start or end index of a range, e.g., `a_list[2:]` or `a_list[:5]`\n",
        "* Try using negative indices for the range, e.g., `a_list[-2:-5]` or `a_list[-5:-2]` (can you explain the results?)\n",
        "\n",
        "> The flexible and interactive nature of Jupyter notebooks makes them an excellent tool for learning and experimentation. If you are new to Python, you can resolve most questions as soon as they arise simply by typing the code into a cell and executing it. Let your curiosity run wild, discover what Python is capable of and what it isn't!"
      ]
    },
    {
      "cell_type": "code",
      "execution_count": null,
      "metadata": {
        "id": "Dh08XlTxWVVb"
      },
      "outputs": [],
      "source": []
    },
    {
      "cell_type": "code",
      "execution_count": null,
      "metadata": {
        "id": "ftNQ_cmDWVVb"
      },
      "outputs": [],
      "source": []
    },
    {
      "cell_type": "code",
      "execution_count": null,
      "metadata": {
        "id": "v4ijZh3MWVVb"
      },
      "outputs": [],
      "source": []
    },
    {
      "cell_type": "code",
      "execution_count": null,
      "metadata": {
        "id": "qNTh6oqfWVVb"
      },
      "outputs": [],
      "source": []
    },
    {
      "cell_type": "markdown",
      "metadata": {
        "id": "TsBewyDzWVVb"
      },
      "source": [
        "You can also change the value at a specific index within a list using the assignment operation."
      ]
    },
    {
      "cell_type": "code",
      "execution_count": null,
      "metadata": {
        "id": "FZ5v7ZwqWVVb",
        "outputId": "f1ab9240-30fe-48aa-ce63-1fce3d929d5e"
      },
      "outputs": [
        {
          "data": {
            "text/plain": [
              "['apple', 'banana', 'cherry']"
            ]
          },
          "execution_count": 162,
          "metadata": {},
          "output_type": "execute_result"
        }
      ],
      "source": [
        "fruits"
      ]
    },
    {
      "cell_type": "code",
      "execution_count": null,
      "metadata": {
        "id": "WYGuJurNWVVb"
      },
      "outputs": [],
      "source": [
        "fruits[1] = 'blueberry'"
      ]
    },
    {
      "cell_type": "code",
      "execution_count": null,
      "metadata": {
        "id": "IPwXZDozWVVc",
        "outputId": "f90817dc-81b7-4f92-c586-c130f8aa7ebc"
      },
      "outputs": [
        {
          "data": {
            "text/plain": [
              "['apple', 'blueberry', 'cherry']"
            ]
          },
          "execution_count": 164,
          "metadata": {},
          "output_type": "execute_result"
        }
      ],
      "source": [
        "fruits"
      ]
    },
    {
      "cell_type": "markdown",
      "metadata": {
        "id": "3oFcztTAWVVc"
      },
      "source": [
        "A new value can be added to the end of a list using the `append` method."
      ]
    },
    {
      "cell_type": "code",
      "execution_count": null,
      "metadata": {
        "id": "bwWHcQPdWVVc"
      },
      "outputs": [],
      "source": [
        "fruits.append('dates')"
      ]
    },
    {
      "cell_type": "code",
      "execution_count": null,
      "metadata": {
        "id": "Tgjlp7-PWVVc",
        "outputId": "24391c67-05cd-4b07-bd03-8fbd22377765"
      },
      "outputs": [
        {
          "data": {
            "text/plain": [
              "['apple', 'blueberry', 'cherry', 'dates']"
            ]
          },
          "execution_count": 166,
          "metadata": {},
          "output_type": "execute_result"
        }
      ],
      "source": [
        "fruits"
      ]
    },
    {
      "cell_type": "markdown",
      "metadata": {
        "id": "yZ5EAAc6WVVc"
      },
      "source": [
        "A new value can also be inserted at a specific index using the `insert` method."
      ]
    },
    {
      "cell_type": "code",
      "execution_count": null,
      "metadata": {
        "id": "aGLpRT2gWVVc"
      },
      "outputs": [],
      "source": [
        "fruits.insert(1, 'banana')"
      ]
    },
    {
      "cell_type": "code",
      "execution_count": null,
      "metadata": {
        "id": "PWyEg6MaWVVd",
        "outputId": "5c345d69-1f8d-45a9-fc2f-bd203c61b885"
      },
      "outputs": [
        {
          "data": {
            "text/plain": [
              "['apple', 'banana', 'blueberry', 'cherry', 'dates']"
            ]
          },
          "execution_count": 168,
          "metadata": {},
          "output_type": "execute_result"
        }
      ],
      "source": [
        "fruits"
      ]
    },
    {
      "cell_type": "markdown",
      "metadata": {
        "id": "uPunJ72VWVVd"
      },
      "source": [
        "You can remove a value from a list using the `remove` method."
      ]
    },
    {
      "cell_type": "code",
      "execution_count": null,
      "metadata": {
        "id": "8OU6qgQQWVVd"
      },
      "outputs": [],
      "source": [
        "fruits.remove('blueberry')"
      ]
    },
    {
      "cell_type": "code",
      "execution_count": null,
      "metadata": {
        "colab": {
          "base_uri": "https://localhost:8080/"
        },
        "id": "JHneNJDBWVVd",
        "outputId": "3f46fe35-a923-4077-ee41-d3b097708b0a"
      },
      "outputs": [
        {
          "output_type": "execute_result",
          "data": {
            "text/plain": [
              "['apple', 'banana', 'cherry', 'dates']"
            ]
          },
          "metadata": {},
          "execution_count": 9
        }
      ],
      "source": [
        "fruits"
      ]
    },
    {
      "cell_type": "markdown",
      "metadata": {
        "id": "S2x7dZ_WWVVd"
      },
      "source": [
        "What happens if a list has multiple instances of the value passed to `.remove`? Try it out."
      ]
    },
    {
      "cell_type": "code",
      "execution_count": null,
      "metadata": {
        "colab": {
          "base_uri": "https://localhost:8080/",
          "height": 141
        },
        "id": "RgAML66LWVVd",
        "outputId": "8335e443-dfbd-46b5-f3b7-6368f89c2f46"
      },
      "outputs": [
        {
          "output_type": "error",
          "ename": "ValueError",
          "evalue": "list.remove(x): x not in list",
          "traceback": [
            "\u001b[0;31m---------------------------------------------------------------------------\u001b[0m",
            "\u001b[0;31mValueError\u001b[0m                                Traceback (most recent call last)",
            "\u001b[0;32m<ipython-input-10-f7405aadd25c>\u001b[0m in \u001b[0;36m<cell line: 1>\u001b[0;34m()\u001b[0m\n\u001b[0;32m----> 1\u001b[0;31m \u001b[0mfruits\u001b[0m\u001b[0;34m.\u001b[0m\u001b[0mremove\u001b[0m\u001b[0;34m(\u001b[0m\u001b[0;34m'blueberry'\u001b[0m\u001b[0;34m)\u001b[0m\u001b[0;34m\u001b[0m\u001b[0;34m\u001b[0m\u001b[0m\n\u001b[0m",
            "\u001b[0;31mValueError\u001b[0m: list.remove(x): x not in list"
          ]
        }
      ],
      "source": [
        "fruits.remove('blueberry')"
      ]
    },
    {
      "cell_type": "code",
      "execution_count": null,
      "metadata": {
        "colab": {
          "base_uri": "https://localhost:8080/"
        },
        "id": "cUVIIcJLWVVd",
        "outputId": "3cf4c0db-0baf-45ac-826b-c040b2097b75"
      },
      "outputs": [
        {
          "output_type": "execute_result",
          "data": {
            "text/plain": [
              "['apple', 'banana', 'cherry', 'dates']"
            ]
          },
          "metadata": {},
          "execution_count": 11
        }
      ],
      "source": [
        "fruits"
      ]
    },
    {
      "cell_type": "markdown",
      "metadata": {
        "id": "zeHnWpoZWVVd"
      },
      "source": [
        "To remove an element from a specific index, use the `pop` method. The method also returns the removed element."
      ]
    },
    {
      "cell_type": "code",
      "execution_count": null,
      "metadata": {
        "id": "SwpxckyXWVVd",
        "outputId": "5bae273d-60ba-408a-fd45-44da74f500e7"
      },
      "outputs": [
        {
          "data": {
            "text/plain": [
              "['apple', 'banana', 'cherry', 'dates']"
            ]
          },
          "execution_count": 171,
          "metadata": {},
          "output_type": "execute_result"
        }
      ],
      "source": [
        "fruits"
      ]
    },
    {
      "cell_type": "code",
      "execution_count": null,
      "metadata": {
        "id": "mjYBnj_0WVVd",
        "outputId": "6f45b8d0-e57a-49c2-8cec-2e13309658ec"
      },
      "outputs": [
        {
          "data": {
            "text/plain": [
              "'banana'"
            ]
          },
          "execution_count": 172,
          "metadata": {},
          "output_type": "execute_result"
        }
      ],
      "source": [
        "fruits.pop(1)"
      ]
    },
    {
      "cell_type": "code",
      "execution_count": null,
      "metadata": {
        "id": "fOZ9L3NPWVVd",
        "outputId": "fae5864e-2d64-4a97-86ff-04eae6fc2237"
      },
      "outputs": [
        {
          "data": {
            "text/plain": [
              "['apple', 'cherry', 'dates']"
            ]
          },
          "execution_count": 173,
          "metadata": {},
          "output_type": "execute_result"
        }
      ],
      "source": [
        "fruits"
      ]
    },
    {
      "cell_type": "markdown",
      "metadata": {
        "id": "nIlV7X5iWVVe"
      },
      "source": [
        "If no index is provided, the `pop` method removes the last element of the list."
      ]
    },
    {
      "cell_type": "code",
      "execution_count": null,
      "metadata": {
        "id": "xXmMg8L0WVVe",
        "outputId": "2678ff46-b636-4303-929f-a078ad31b1d3"
      },
      "outputs": [
        {
          "data": {
            "text/plain": [
              "'dates'"
            ]
          },
          "execution_count": 174,
          "metadata": {},
          "output_type": "execute_result"
        }
      ],
      "source": [
        "fruits.pop()"
      ]
    },
    {
      "cell_type": "code",
      "execution_count": null,
      "metadata": {
        "id": "rbtSno_2WVVe",
        "outputId": "93f28ea8-80ee-42a3-e44c-e761d3f42f4a"
      },
      "outputs": [
        {
          "data": {
            "text/plain": [
              "['apple', 'cherry']"
            ]
          },
          "execution_count": 175,
          "metadata": {},
          "output_type": "execute_result"
        }
      ],
      "source": [
        "fruits"
      ]
    },
    {
      "cell_type": "markdown",
      "metadata": {
        "id": "aXf1iq9cWVVe"
      },
      "source": [
        "You can test whether a list contains a value using the `in` operator."
      ]
    },
    {
      "cell_type": "code",
      "execution_count": null,
      "metadata": {
        "id": "y0V4AzSjWVVe",
        "outputId": "32c3217f-7879-4b7b-9ef1-10b4eba225a5"
      },
      "outputs": [
        {
          "data": {
            "text/plain": [
              "False"
            ]
          },
          "execution_count": 176,
          "metadata": {},
          "output_type": "execute_result"
        }
      ],
      "source": [
        "'pineapple' in fruits"
      ]
    },
    {
      "cell_type": "code",
      "execution_count": null,
      "metadata": {
        "id": "YNeJrBY0WVVe",
        "outputId": "f377b75a-dcf0-4483-c0d9-29002d156954"
      },
      "outputs": [
        {
          "data": {
            "text/plain": [
              "True"
            ]
          },
          "execution_count": 177,
          "metadata": {},
          "output_type": "execute_result"
        }
      ],
      "source": [
        "'cherry' in fruits"
      ]
    },
    {
      "cell_type": "markdown",
      "metadata": {
        "id": "d88VkFaDWVVe"
      },
      "source": [
        "To combine two or more lists, use the `+` operator. This operation is also called *concatenation*."
      ]
    },
    {
      "cell_type": "code",
      "execution_count": null,
      "metadata": {
        "id": "D8XNU7-gWVVe",
        "outputId": "8d592ea0-4d1b-48e9-c5d6-bf2e29652d9c"
      },
      "outputs": [
        {
          "data": {
            "text/plain": [
              "['apple', 'cherry']"
            ]
          },
          "execution_count": 178,
          "metadata": {},
          "output_type": "execute_result"
        }
      ],
      "source": [
        "fruits"
      ]
    },
    {
      "cell_type": "code",
      "execution_count": null,
      "metadata": {
        "id": "6dOn5NrVWVVf"
      },
      "outputs": [],
      "source": [
        "more_fruits = fruits + ['pineapple', 'tomato', 'guava'] + ['dates', 'banana']"
      ]
    },
    {
      "cell_type": "code",
      "execution_count": null,
      "metadata": {
        "id": "7auXXaekWVVf",
        "outputId": "a30709bf-7dea-4f30-9aeb-93243fc955cd"
      },
      "outputs": [
        {
          "data": {
            "text/plain": [
              "['apple', 'cherry', 'pineapple', 'tomato', 'guava', 'dates', 'banana']"
            ]
          },
          "execution_count": 180,
          "metadata": {},
          "output_type": "execute_result"
        }
      ],
      "source": [
        "more_fruits"
      ]
    },
    {
      "cell_type": "markdown",
      "metadata": {
        "id": "ZvoPygM2WVVf"
      },
      "source": [
        "To create a copy of a list, use the `copy` method. Modifying the copied list does not affect the original."
      ]
    },
    {
      "cell_type": "code",
      "execution_count": null,
      "metadata": {
        "id": "flDLT_NwWVVf"
      },
      "outputs": [],
      "source": [
        "more_fruits_copy = more_fruits.copy()"
      ]
    },
    {
      "cell_type": "code",
      "execution_count": null,
      "metadata": {
        "id": "KydDooXjWVVf",
        "outputId": "8bbc51fe-df3b-4321-8c24-e1d0faed208a"
      },
      "outputs": [
        {
          "data": {
            "text/plain": [
              "['apple', 'cherry', 'pineapple', 'tomato', 'guava', 'dates', 'banana']"
            ]
          },
          "execution_count": 182,
          "metadata": {},
          "output_type": "execute_result"
        }
      ],
      "source": [
        "more_fruits_copy"
      ]
    },
    {
      "cell_type": "code",
      "execution_count": null,
      "metadata": {
        "id": "q3xreW1BWVVf",
        "outputId": "775df847-5039-4ab7-8a3f-f7999f66f98a"
      },
      "outputs": [
        {
          "data": {
            "text/plain": [
              "['apple', 'cherry', 'tomato', 'guava', 'dates']"
            ]
          },
          "execution_count": 183,
          "metadata": {},
          "output_type": "execute_result"
        }
      ],
      "source": [
        "# Modify the copy\n",
        "more_fruits_copy.remove('pineapple')\n",
        "more_fruits_copy.pop()\n",
        "more_fruits_copy"
      ]
    },
    {
      "cell_type": "code",
      "execution_count": null,
      "metadata": {
        "id": "QNiDMP4-WVVf",
        "outputId": "7c863939-ea2a-4a72-f5f3-0b8f7680d2ec"
      },
      "outputs": [
        {
          "data": {
            "text/plain": [
              "['apple', 'cherry', 'pineapple', 'tomato', 'guava', 'dates', 'banana']"
            ]
          },
          "execution_count": 184,
          "metadata": {},
          "output_type": "execute_result"
        }
      ],
      "source": [
        "# Original list remains unchanged\n",
        "more_fruits"
      ]
    },
    {
      "cell_type": "markdown",
      "metadata": {
        "id": "VxyT6fgIWVVg"
      },
      "source": [
        "Note that you cannot create a copy of a list by simply creating a new variable using the assignment operator `=`. The new variable will point to the same list, and any modifications performed using either variable will affect the other."
      ]
    },
    {
      "cell_type": "code",
      "execution_count": null,
      "metadata": {
        "id": "Rzrzh2Z0WVVg",
        "outputId": "7f6dff24-6a99-484d-a08a-acc4270a54ac"
      },
      "outputs": [
        {
          "data": {
            "text/plain": [
              "['apple', 'cherry', 'pineapple', 'tomato', 'guava', 'dates', 'banana']"
            ]
          },
          "execution_count": 185,
          "metadata": {},
          "output_type": "execute_result"
        }
      ],
      "source": [
        "more_fruits"
      ]
    },
    {
      "cell_type": "code",
      "execution_count": null,
      "metadata": {
        "id": "je1_tFNQWVVg"
      },
      "outputs": [],
      "source": [
        "more_fruits_not_a_copy = more_fruits"
      ]
    },
    {
      "cell_type": "code",
      "execution_count": null,
      "metadata": {
        "id": "MG3f091bWVVg",
        "outputId": "851d1359-1d9d-40b4-a3f5-945fefeaacc0"
      },
      "outputs": [
        {
          "data": {
            "text/plain": [
              "'banana'"
            ]
          },
          "execution_count": 187,
          "metadata": {},
          "output_type": "execute_result"
        }
      ],
      "source": [
        "more_fruits_not_a_copy.remove('pineapple')\n",
        "more_fruits_not_a_copy.pop()"
      ]
    },
    {
      "cell_type": "code",
      "execution_count": null,
      "metadata": {
        "id": "i_S_2GInWVVg",
        "outputId": "e8ee79bb-d849-4a7c-d1b0-67be7d5e348e"
      },
      "outputs": [
        {
          "data": {
            "text/plain": [
              "['apple', 'cherry', 'tomato', 'guava', 'dates']"
            ]
          },
          "execution_count": 188,
          "metadata": {},
          "output_type": "execute_result"
        }
      ],
      "source": [
        "more_fruits_not_a_copy"
      ]
    },
    {
      "cell_type": "code",
      "execution_count": null,
      "metadata": {
        "id": "0jhaUbk9WVVg",
        "outputId": "27caf5e6-e116-436a-e355-f2b6e2c9a2d8"
      },
      "outputs": [
        {
          "data": {
            "text/plain": [
              "['apple', 'cherry', 'tomato', 'guava', 'dates']"
            ]
          },
          "execution_count": 189,
          "metadata": {},
          "output_type": "execute_result"
        }
      ],
      "source": [
        "more_fruits"
      ]
    },
    {
      "cell_type": "markdown",
      "metadata": {
        "id": "bhjCFDaTWVVg"
      },
      "source": [
        "Just like strings, there are several in-built methods to manipulate a list. However, unlike strings, most list methods modify the original list rather than returning a new one. Check out some common list operations here: https://www.w3schools.com/python/python_ref_list.asp .\n",
        "\n",
        "\n",
        "Following are some exercises you can try out with list methods (use the blank code cells below):\n",
        "\n",
        "* Reverse the order of elements in a list\n",
        "* Add the elements of one list at the end of another list\n",
        "* Sort a list of strings in alphabetical order\n",
        "* Sort a list of numbers in decreasing order"
      ]
    },
    {
      "cell_type": "markdown",
      "source": [],
      "metadata": {
        "id": "DQlrOgWEX19L"
      }
    },
    {
      "cell_type": "code",
      "execution_count": null,
      "metadata": {
        "id": "FjSz9qZYWVVg"
      },
      "outputs": [],
      "source": [
        "fruits = ['apple', 'banana' , 'mango', 'pear']"
      ]
    },
    {
      "cell_type": "code",
      "source": [],
      "metadata": {
        "id": "UnjxgP8WXvna"
      },
      "execution_count": null,
      "outputs": []
    },
    {
      "cell_type": "code",
      "source": [],
      "metadata": {
        "id": "XNP5x5QpXv12"
      },
      "execution_count": null,
      "outputs": []
    },
    {
      "cell_type": "code",
      "source": [],
      "metadata": {
        "id": "WASfsnLNXv4K"
      },
      "execution_count": null,
      "outputs": []
    },
    {
      "cell_type": "code",
      "source": [],
      "metadata": {
        "id": "PO__dz4vXv7v"
      },
      "execution_count": null,
      "outputs": []
    },
    {
      "cell_type": "code",
      "execution_count": null,
      "metadata": {
        "id": "gbHuMNX6WVVg"
      },
      "outputs": [],
      "source": []
    },
    {
      "cell_type": "code",
      "execution_count": null,
      "metadata": {
        "id": "KrgzFQv3WVVg"
      },
      "outputs": [],
      "source": []
    },
    {
      "cell_type": "code",
      "execution_count": null,
      "metadata": {
        "id": "C2d6ATYcWVVg"
      },
      "outputs": [],
      "source": []
    },
    {
      "cell_type": "markdown",
      "metadata": {
        "id": "_OEz1EbmWVVh"
      },
      "source": [
        "### Tuple\n",
        "\n",
        "A tuple is an ordered collection of values, similar to a list. However, it is not possible to add, remove, or modify values in a tuple. A tuple is created by enclosing values within parentheses `(` and `)`, separated by commas.\n",
        "\n",
        "> Any data structure that cannot be modified after creation is called *immutable*. You can think of tuples as immutable lists.\n",
        "\n",
        "Let's try some experiments with tuples."
      ]
    },
    {
      "cell_type": "code",
      "execution_count": null,
      "metadata": {
        "id": "CsSqJOtbWVVh"
      },
      "outputs": [],
      "source": [
        "fruits = ('apple', 'cherry', 'dates')"
      ]
    },
    {
      "cell_type": "code",
      "execution_count": null,
      "metadata": {
        "id": "364vn1nCWVVh",
        "outputId": "c74a381f-c4e8-48da-e76f-20b508efa48a"
      },
      "outputs": [
        {
          "data": {
            "text/plain": [
              "3"
            ]
          },
          "execution_count": 191,
          "metadata": {},
          "output_type": "execute_result"
        }
      ],
      "source": [
        "# check no. of elements\n",
        "len(fruits)"
      ]
    },
    {
      "cell_type": "code",
      "execution_count": null,
      "metadata": {
        "id": "8HJTMouEWVVh",
        "outputId": "223e4206-e71c-4dd8-faa7-952129b0b4c2"
      },
      "outputs": [
        {
          "data": {
            "text/plain": [
              "'apple'"
            ]
          },
          "execution_count": 192,
          "metadata": {},
          "output_type": "execute_result"
        }
      ],
      "source": [
        "# get an element (positive index)\n",
        "fruits[0]"
      ]
    },
    {
      "cell_type": "code",
      "execution_count": null,
      "metadata": {
        "id": "QDDTQ2hvWVVh",
        "outputId": "32ecee0b-040f-43ab-b0c6-ce647e61e944"
      },
      "outputs": [
        {
          "data": {
            "text/plain": [
              "'cherry'"
            ]
          },
          "execution_count": 193,
          "metadata": {},
          "output_type": "execute_result"
        }
      ],
      "source": [
        "# get an element (negative index)\n",
        "fruits[-2]"
      ]
    },
    {
      "cell_type": "code",
      "execution_count": null,
      "metadata": {
        "id": "uWeysIGUWVVh",
        "outputId": "de60931c-b2e7-4e06-da73-3675e48af9ba"
      },
      "outputs": [
        {
          "data": {
            "text/plain": [
              "True"
            ]
          },
          "execution_count": 194,
          "metadata": {},
          "output_type": "execute_result"
        }
      ],
      "source": [
        "# check if it contains an element\n",
        "'dates' in fruits"
      ]
    },
    {
      "cell_type": "code",
      "execution_count": null,
      "metadata": {
        "id": "M5jLEI_qWVVh",
        "outputId": "f7534438-1d87-4538-dd34-876b52d8f6b5"
      },
      "outputs": [
        {
          "ename": "TypeError",
          "evalue": "'tuple' object does not support item assignment",
          "output_type": "error",
          "traceback": [
            "\u001b[0;31m---------------------------------------------------------------------------\u001b[0m",
            "\u001b[0;31mTypeError\u001b[0m                                 Traceback (most recent call last)",
            "\u001b[0;32m<ipython-input-195-eea1d48cc8b5>\u001b[0m in \u001b[0;36m<module>\u001b[0;34m\u001b[0m\n\u001b[1;32m      1\u001b[0m \u001b[0;31m# try to change an element\u001b[0m\u001b[0;34m\u001b[0m\u001b[0;34m\u001b[0m\u001b[0;34m\u001b[0m\u001b[0m\n\u001b[0;32m----> 2\u001b[0;31m \u001b[0mfruits\u001b[0m\u001b[0;34m[\u001b[0m\u001b[0;36m0\u001b[0m\u001b[0;34m]\u001b[0m \u001b[0;34m=\u001b[0m \u001b[0;34m'avocado'\u001b[0m\u001b[0;34m\u001b[0m\u001b[0;34m\u001b[0m\u001b[0m\n\u001b[0m",
            "\u001b[0;31mTypeError\u001b[0m: 'tuple' object does not support item assignment"
          ]
        }
      ],
      "source": [
        "# try to change an element\n",
        "fruits[0] = 'avocado'"
      ]
    },
    {
      "cell_type": "code",
      "execution_count": null,
      "metadata": {
        "id": "R0OWU2ZZWVVh",
        "outputId": "dd2295b7-fd5b-402e-bc0c-72f5ac653991"
      },
      "outputs": [
        {
          "ename": "AttributeError",
          "evalue": "'tuple' object has no attribute 'append'",
          "output_type": "error",
          "traceback": [
            "\u001b[0;31m---------------------------------------------------------------------------\u001b[0m",
            "\u001b[0;31mAttributeError\u001b[0m                            Traceback (most recent call last)",
            "\u001b[0;32m<ipython-input-196-e5ea20adaaf8>\u001b[0m in \u001b[0;36m<module>\u001b[0;34m\u001b[0m\n\u001b[1;32m      1\u001b[0m \u001b[0;31m# try to append an element\u001b[0m\u001b[0;34m\u001b[0m\u001b[0;34m\u001b[0m\u001b[0;34m\u001b[0m\u001b[0m\n\u001b[0;32m----> 2\u001b[0;31m \u001b[0mfruits\u001b[0m\u001b[0;34m.\u001b[0m\u001b[0mappend\u001b[0m\u001b[0;34m(\u001b[0m\u001b[0;34m'blueberry'\u001b[0m\u001b[0;34m)\u001b[0m\u001b[0;34m\u001b[0m\u001b[0;34m\u001b[0m\u001b[0m\n\u001b[0m",
            "\u001b[0;31mAttributeError\u001b[0m: 'tuple' object has no attribute 'append'"
          ]
        }
      ],
      "source": [
        "# try to append an element\n",
        "fruits.append('blueberry')"
      ]
    },
    {
      "cell_type": "code",
      "execution_count": null,
      "metadata": {
        "id": "lKbJ9dGJWVVh",
        "outputId": "04551e56-607d-417b-f9cb-8bc100c0fdbc"
      },
      "outputs": [
        {
          "ename": "AttributeError",
          "evalue": "'tuple' object has no attribute 'remove'",
          "output_type": "error",
          "traceback": [
            "\u001b[0;31m---------------------------------------------------------------------------\u001b[0m",
            "\u001b[0;31mAttributeError\u001b[0m                            Traceback (most recent call last)",
            "\u001b[0;32m<ipython-input-197-37543d45b6b4>\u001b[0m in \u001b[0;36m<module>\u001b[0;34m\u001b[0m\n\u001b[1;32m      1\u001b[0m \u001b[0;31m# try to remove an element\u001b[0m\u001b[0;34m\u001b[0m\u001b[0;34m\u001b[0m\u001b[0;34m\u001b[0m\u001b[0m\n\u001b[0;32m----> 2\u001b[0;31m \u001b[0mfruits\u001b[0m\u001b[0;34m.\u001b[0m\u001b[0mremove\u001b[0m\u001b[0;34m(\u001b[0m\u001b[0;34m'apple'\u001b[0m\u001b[0;34m)\u001b[0m\u001b[0;34m\u001b[0m\u001b[0;34m\u001b[0m\u001b[0m\n\u001b[0m",
            "\u001b[0;31mAttributeError\u001b[0m: 'tuple' object has no attribute 'remove'"
          ]
        }
      ],
      "source": [
        "# try to remove an element\n",
        "fruits.remove('apple')"
      ]
    },
    {
      "cell_type": "markdown",
      "metadata": {
        "id": "7nCo085lWVVh"
      },
      "source": [
        "You can also skip the parantheses `(` and `)` while creating a tuple. Python automatically converts comma-separated values into a tuple."
      ]
    },
    {
      "cell_type": "code",
      "execution_count": null,
      "metadata": {
        "id": "-F9yzYJiWVVh"
      },
      "outputs": [],
      "source": [
        "the_3_musketeers = 'Athos', 'Porthos', 'Aramis'"
      ]
    },
    {
      "cell_type": "code",
      "execution_count": null,
      "metadata": {
        "id": "JmFVD5-JWVVi",
        "outputId": "e257d198-db76-4733-9c77-87d7ca5e2e89"
      },
      "outputs": [
        {
          "data": {
            "text/plain": [
              "('Athos', 'Porthos', 'Aramis')"
            ]
          },
          "execution_count": 199,
          "metadata": {},
          "output_type": "execute_result"
        }
      ],
      "source": [
        "the_3_musketeers"
      ]
    },
    {
      "cell_type": "markdown",
      "metadata": {
        "id": "umQbcUYGWVVi"
      },
      "source": [
        "You can also create a tuple with just one element by typing a comma after it. Just wrapping it with parentheses `(` and `)` won't make it a tuple."
      ]
    },
    {
      "cell_type": "code",
      "execution_count": null,
      "metadata": {
        "id": "_kJjz1WzWVVi"
      },
      "outputs": [],
      "source": [
        "single_element_tuple = 4,"
      ]
    },
    {
      "cell_type": "code",
      "execution_count": null,
      "metadata": {
        "id": "N_2V_PwIWVVi",
        "outputId": "e9396ad7-579b-4b62-e7b6-5bd20d797ce0"
      },
      "outputs": [
        {
          "data": {
            "text/plain": [
              "(4,)"
            ]
          },
          "execution_count": 201,
          "metadata": {},
          "output_type": "execute_result"
        }
      ],
      "source": [
        "single_element_tuple"
      ]
    },
    {
      "cell_type": "code",
      "execution_count": null,
      "metadata": {
        "id": "v6pDfF-cWVVi"
      },
      "outputs": [],
      "source": [
        "another_single_element_tuple = (4,)"
      ]
    },
    {
      "cell_type": "code",
      "execution_count": null,
      "metadata": {
        "id": "mWuhFBfeWVVi",
        "outputId": "ed755205-be50-4a7c-c61b-2810572b0887"
      },
      "outputs": [
        {
          "data": {
            "text/plain": [
              "(4,)"
            ]
          },
          "execution_count": 203,
          "metadata": {},
          "output_type": "execute_result"
        }
      ],
      "source": [
        "another_single_element_tuple"
      ]
    },
    {
      "cell_type": "code",
      "execution_count": null,
      "metadata": {
        "id": "vNNr4GU2WVVi"
      },
      "outputs": [],
      "source": [
        "not_a_tuple = (4)"
      ]
    },
    {
      "cell_type": "code",
      "execution_count": null,
      "metadata": {
        "id": "5rlPlAwvWVVi",
        "outputId": "4bfd0da7-db58-4260-c858-dc15a1b7d400"
      },
      "outputs": [
        {
          "data": {
            "text/plain": [
              "4"
            ]
          },
          "execution_count": 205,
          "metadata": {},
          "output_type": "execute_result"
        }
      ],
      "source": [
        "not_a_tuple"
      ]
    },
    {
      "cell_type": "markdown",
      "metadata": {
        "id": "BOQ-l0VGWVVj"
      },
      "source": [
        "Tuples are often used to create multiple variables with a single statement."
      ]
    },
    {
      "cell_type": "code",
      "execution_count": null,
      "metadata": {
        "id": "vOnNq3dDWVVj"
      },
      "outputs": [],
      "source": [
        "point = (3, 4)"
      ]
    },
    {
      "cell_type": "code",
      "execution_count": null,
      "metadata": {
        "id": "saKZDMdYWVVj"
      },
      "outputs": [],
      "source": [
        "point_x, point_y = point"
      ]
    },
    {
      "cell_type": "code",
      "execution_count": null,
      "metadata": {
        "id": "likqqt8eWVVj",
        "outputId": "ced1fa13-c9a7-415c-ab89-4d95ba9295fb"
      },
      "outputs": [
        {
          "data": {
            "text/plain": [
              "3"
            ]
          },
          "execution_count": 208,
          "metadata": {},
          "output_type": "execute_result"
        }
      ],
      "source": [
        "point_x"
      ]
    },
    {
      "cell_type": "code",
      "execution_count": null,
      "metadata": {
        "id": "IcPvYcsNWVVj",
        "outputId": "de28240d-c83e-4a0f-bb4a-5ed02ea9f5c6"
      },
      "outputs": [
        {
          "data": {
            "text/plain": [
              "4"
            ]
          },
          "execution_count": 209,
          "metadata": {},
          "output_type": "execute_result"
        }
      ],
      "source": [
        "point_y"
      ]
    },
    {
      "cell_type": "markdown",
      "metadata": {
        "id": "CEbjFEZKWVVj"
      },
      "source": [
        "You can convert a list into a tuple using the `tuple` function, and vice versa using the `list` function"
      ]
    },
    {
      "cell_type": "code",
      "execution_count": null,
      "metadata": {
        "id": "0cBgGT8PWVVj",
        "outputId": "4edad97e-36b4-4453-9cf3-08127a04afcd"
      },
      "outputs": [
        {
          "data": {
            "text/plain": [
              "('one', 'two', 'three')"
            ]
          },
          "execution_count": 210,
          "metadata": {},
          "output_type": "execute_result"
        }
      ],
      "source": [
        "tuple(['one', 'two', 'three'])"
      ]
    },
    {
      "cell_type": "code",
      "execution_count": null,
      "metadata": {
        "id": "VHiqzG5nWVVj",
        "outputId": "465c3e4d-fd36-45cf-cb2e-44e32d359e46"
      },
      "outputs": [
        {
          "data": {
            "text/plain": [
              "['Athos', 'Porthos', 'Aramis']"
            ]
          },
          "execution_count": 211,
          "metadata": {},
          "output_type": "execute_result"
        }
      ],
      "source": [
        "list(('Athos', 'Porthos', 'Aramis'))"
      ]
    },
    {
      "cell_type": "markdown",
      "metadata": {
        "id": "3aDviZ1gWVVj"
      },
      "source": [
        "Tuples have just two built-in methods: `count` and `index`. Can you figure out what they do? While you look could look for documentation and examples online, there's an easier way to check a method's documentation, using the `help` function."
      ]
    },
    {
      "cell_type": "code",
      "execution_count": null,
      "metadata": {
        "id": "PTbhXiFTWVVk"
      },
      "outputs": [],
      "source": [
        "a_tuple = 23, \"hello\", False, None, 23, 37, \"hello\""
      ]
    },
    {
      "cell_type": "code",
      "execution_count": null,
      "metadata": {
        "colab": {
          "base_uri": "https://localhost:8080/"
        },
        "id": "WCqrodWLWVVk",
        "outputId": "f20c08bc-a75d-464b-aa36-c5a62d49175b"
      },
      "outputs": [
        {
          "output_type": "stream",
          "name": "stdout",
          "text": [
            "Help on built-in function count:\n",
            "\n",
            "count(value, /) method of builtins.tuple instance\n",
            "    Return number of occurrences of value.\n",
            "\n"
          ]
        }
      ],
      "source": [
        "help(a_tuple.count)"
      ]
    },
    {
      "cell_type": "markdown",
      "metadata": {
        "id": "xEE58QdSWVVk"
      },
      "source": [
        "Within a Jupyter notebook, you can also start a code cell with `?` and type the name of a function or method. When you execute this cell, you will see the function/method's documentation in a pop-up window."
      ]
    },
    {
      "cell_type": "code",
      "execution_count": null,
      "metadata": {
        "id": "HY61rrxoWVVk"
      },
      "outputs": [],
      "source": [
        "?a_tuple.index"
      ]
    },
    {
      "cell_type": "markdown",
      "metadata": {
        "id": "JrgEwoD4WVVk"
      },
      "source": [
        "Try using `count` and `index` with `a_tuple` in the code cells below."
      ]
    },
    {
      "cell_type": "code",
      "execution_count": null,
      "metadata": {
        "colab": {
          "base_uri": "https://localhost:8080/"
        },
        "id": "w_gfeIu7WVVk",
        "outputId": "70d8b22b-773f-413b-d544-9f52284ed4c9"
      },
      "outputs": [
        {
          "output_type": "execute_result",
          "data": {
            "text/plain": [
              "2"
            ]
          },
          "metadata": {},
          "execution_count": 19
        }
      ],
      "source": [
        "a_tuple.count('hello')"
      ]
    },
    {
      "cell_type": "code",
      "execution_count": null,
      "metadata": {
        "id": "ITw-XXb-WVVk"
      },
      "outputs": [],
      "source": []
    },
    {
      "cell_type": "markdown",
      "metadata": {
        "id": "d1XHFGLTWVVk"
      },
      "source": [
        "### Dictionary\n",
        "\n",
        "A dictionary is an unordered collection of items. Each item stored in a dictionary has a key and value. You can use a key to retrieve the corresponding value from the dictionary.  Dictionaries have the type `dict`.\n",
        "\n",
        "Dictionaries are often used to store many pieces of information e.g. details about a person, in a single variable. Dictionaries are created by enclosing key-value pairs within braces or curly brackets `{` and `}`."
      ]
    },
    {
      "cell_type": "code",
      "execution_count": null,
      "metadata": {
        "id": "5KDuRbPHWVVk"
      },
      "outputs": [],
      "source": [
        "person1 = {\n",
        "    'name': 'John Doe',\n",
        "    'sex': 'Male',\n",
        "    'age': 32,\n",
        "    'married': True\n",
        "}"
      ]
    },
    {
      "cell_type": "code",
      "execution_count": null,
      "metadata": {
        "colab": {
          "base_uri": "https://localhost:8080/"
        },
        "id": "qu07c13FWVVk",
        "outputId": "93614a88-cd53-424e-a8f3-90c776a68447"
      },
      "outputs": [
        {
          "output_type": "execute_result",
          "data": {
            "text/plain": [
              "{'name': 'John Doe', 'sex': 'Male', 'age': 32, 'married': True}"
            ]
          },
          "metadata": {},
          "execution_count": 21
        }
      ],
      "source": [
        "person1"
      ]
    },
    {
      "cell_type": "markdown",
      "metadata": {
        "id": "K2XakcbTWVVl"
      },
      "source": [
        "Dictionaries can also be created using the `dict` function."
      ]
    },
    {
      "cell_type": "code",
      "execution_count": null,
      "metadata": {
        "id": "uOaMkVPWWVVl"
      },
      "outputs": [],
      "source": [
        "person2 = dict(name='Jane Judy', sex='Female', age=28, married=False)"
      ]
    },
    {
      "cell_type": "code",
      "execution_count": null,
      "metadata": {
        "id": "3CcQB_pIWVVl",
        "outputId": "13d0f51c-94a0-4b92-bfbc-f96129344e8f"
      },
      "outputs": [
        {
          "data": {
            "text/plain": [
              "{'name': 'Jane Judy', 'sex': 'Female', 'age': 28, 'married': False}"
            ]
          },
          "execution_count": 218,
          "metadata": {},
          "output_type": "execute_result"
        }
      ],
      "source": [
        "person2"
      ]
    },
    {
      "cell_type": "code",
      "execution_count": null,
      "metadata": {
        "id": "Rapc5EgoWVVl",
        "outputId": "506b099d-0b4c-4564-d019-ab862b1cee30"
      },
      "outputs": [
        {
          "data": {
            "text/plain": [
              "dict"
            ]
          },
          "execution_count": 219,
          "metadata": {},
          "output_type": "execute_result"
        }
      ],
      "source": [
        "type(person1)"
      ]
    },
    {
      "cell_type": "markdown",
      "metadata": {
        "id": "tohTJUgWWVVl"
      },
      "source": [
        "Keys can be used to access values using square brackets `[` and `]`."
      ]
    },
    {
      "cell_type": "code",
      "execution_count": null,
      "metadata": {
        "id": "CVrAkxhqWVVl",
        "outputId": "a1f33554-1e1b-41cc-b780-671b9ac14158"
      },
      "outputs": [
        {
          "data": {
            "text/plain": [
              "'John Doe'"
            ]
          },
          "execution_count": 220,
          "metadata": {},
          "output_type": "execute_result"
        }
      ],
      "source": [
        "person1['name']"
      ]
    },
    {
      "cell_type": "code",
      "execution_count": null,
      "metadata": {
        "id": "eycMKJJcWVVl",
        "outputId": "e2a59641-156e-4cf2-dd6e-7e2db09af5a6"
      },
      "outputs": [
        {
          "data": {
            "text/plain": [
              "True"
            ]
          },
          "execution_count": 221,
          "metadata": {},
          "output_type": "execute_result"
        }
      ],
      "source": [
        "person1['married']"
      ]
    },
    {
      "cell_type": "code",
      "execution_count": null,
      "metadata": {
        "id": "QHckKJx6WVVl",
        "outputId": "c206f036-0bd2-416b-deb5-6d6c76e5035c"
      },
      "outputs": [
        {
          "data": {
            "text/plain": [
              "'Jane Judy'"
            ]
          },
          "execution_count": 222,
          "metadata": {},
          "output_type": "execute_result"
        }
      ],
      "source": [
        "person2['name']"
      ]
    },
    {
      "cell_type": "markdown",
      "metadata": {
        "id": "66owySn-WVVl"
      },
      "source": [
        "If a key isn't present in the dictionary, then a `KeyError` is *thrown*."
      ]
    },
    {
      "cell_type": "code",
      "execution_count": null,
      "metadata": {
        "colab": {
          "base_uri": "https://localhost:8080/",
          "height": 141
        },
        "id": "EZzNsz0GWVVl",
        "outputId": "bba516d5-8939-4f29-a5af-a491834c81e0"
      },
      "outputs": [
        {
          "output_type": "error",
          "ename": "KeyError",
          "evalue": "'address'",
          "traceback": [
            "\u001b[0;31m---------------------------------------------------------------------------\u001b[0m",
            "\u001b[0;31mKeyError\u001b[0m                                  Traceback (most recent call last)",
            "\u001b[0;32m<ipython-input-24-f2b8bd2476d4>\u001b[0m in \u001b[0;36m<cell line: 1>\u001b[0;34m()\u001b[0m\n\u001b[0;32m----> 1\u001b[0;31m \u001b[0mperson1\u001b[0m\u001b[0;34m[\u001b[0m\u001b[0;34m'address'\u001b[0m\u001b[0;34m]\u001b[0m\u001b[0;34m\u001b[0m\u001b[0;34m\u001b[0m\u001b[0m\n\u001b[0m",
            "\u001b[0;31mKeyError\u001b[0m: 'address'"
          ]
        }
      ],
      "source": [
        "person1['address']"
      ]
    },
    {
      "cell_type": "markdown",
      "metadata": {
        "id": "h005vAGLWVVl"
      },
      "source": [
        "You can also use the `get` method to access the value associated with a key."
      ]
    },
    {
      "cell_type": "code",
      "execution_count": null,
      "metadata": {
        "colab": {
          "base_uri": "https://localhost:8080/",
          "height": 36
        },
        "id": "YBg_t2uMWVVl",
        "outputId": "8bfa45ff-7b2c-48bf-f99f-fd54fcea560f"
      },
      "outputs": [
        {
          "output_type": "execute_result",
          "data": {
            "text/plain": [
              "'Jane Judy'"
            ],
            "application/vnd.google.colaboratory.intrinsic+json": {
              "type": "string"
            }
          },
          "metadata": {},
          "execution_count": 23
        }
      ],
      "source": [
        "person2.get(\"name\")"
      ]
    },
    {
      "cell_type": "markdown",
      "metadata": {
        "id": "njlmmOPvWVVm"
      },
      "source": [
        "The `get` method also accepts a default value, returned if the key is not present in the dictionary."
      ]
    },
    {
      "cell_type": "code",
      "execution_count": null,
      "metadata": {
        "colab": {
          "base_uri": "https://localhost:8080/",
          "height": 36
        },
        "id": "e757Aqb6WVVm",
        "outputId": "f1a5bdc3-3bad-4749-be25-9bc51d7280f0"
      },
      "outputs": [
        {
          "output_type": "execute_result",
          "data": {
            "text/plain": [
              "'Unknown'"
            ],
            "application/vnd.google.colaboratory.intrinsic+json": {
              "type": "string"
            }
          },
          "metadata": {},
          "execution_count": 25
        }
      ],
      "source": [
        "person2.get(\"address\", \"Unknown\")"
      ]
    },
    {
      "cell_type": "markdown",
      "metadata": {
        "id": "Z_11GEA5WVVm"
      },
      "source": [
        "You can check whether a key is present in a dictionary using the `in` operator."
      ]
    },
    {
      "cell_type": "code",
      "execution_count": null,
      "metadata": {
        "id": "kzTYM_sCWVVm",
        "outputId": "6b779371-02e3-4c3b-c81b-93359a9ffd33"
      },
      "outputs": [
        {
          "data": {
            "text/plain": [
              "True"
            ]
          },
          "execution_count": 226,
          "metadata": {},
          "output_type": "execute_result"
        }
      ],
      "source": [
        "'name' in person1"
      ]
    },
    {
      "cell_type": "code",
      "execution_count": null,
      "metadata": {
        "colab": {
          "base_uri": "https://localhost:8080/"
        },
        "id": "lmbeEN6NWVVm",
        "outputId": "8ce22e78-8e80-403d-c6dd-c3e52b476bff"
      },
      "outputs": [
        {
          "output_type": "execute_result",
          "data": {
            "text/plain": [
              "False"
            ]
          },
          "metadata": {},
          "execution_count": 26
        }
      ],
      "source": [
        "'address' in person1"
      ]
    },
    {
      "cell_type": "markdown",
      "metadata": {
        "id": "nZJMQUbMWVVm"
      },
      "source": [
        "You can change the value associated with a key using the assignment operator."
      ]
    },
    {
      "cell_type": "code",
      "execution_count": null,
      "metadata": {
        "id": "UFKztHt4WVVm",
        "outputId": "741e4828-f7d4-4efd-8198-911c39f33c27"
      },
      "outputs": [
        {
          "data": {
            "text/plain": [
              "False"
            ]
          },
          "execution_count": 228,
          "metadata": {},
          "output_type": "execute_result"
        }
      ],
      "source": [
        "person2['married']"
      ]
    },
    {
      "cell_type": "code",
      "execution_count": null,
      "metadata": {
        "id": "n_z_YNmZWVVm"
      },
      "outputs": [],
      "source": [
        "person2['married'] = True"
      ]
    },
    {
      "cell_type": "code",
      "execution_count": null,
      "metadata": {
        "id": "hve34ZWkWVVm",
        "outputId": "a1fbe4de-b673-42c3-a0f6-fde4e681891a"
      },
      "outputs": [
        {
          "data": {
            "text/plain": [
              "True"
            ]
          },
          "execution_count": 230,
          "metadata": {},
          "output_type": "execute_result"
        }
      ],
      "source": [
        "person2['married']"
      ]
    },
    {
      "cell_type": "markdown",
      "metadata": {
        "id": "nxoT9XTEWVVm"
      },
      "source": [
        "The assignment operator can also be used to add new key-value pairs to the dictionary."
      ]
    },
    {
      "cell_type": "code",
      "execution_count": null,
      "metadata": {
        "id": "QXfE2bNLWVVn",
        "outputId": "aa8cbd0a-dbd8-4068-e7c8-afe0e08b8a48"
      },
      "outputs": [
        {
          "data": {
            "text/plain": [
              "{'name': 'John Doe', 'sex': 'Male', 'age': 32, 'married': True}"
            ]
          },
          "execution_count": 231,
          "metadata": {},
          "output_type": "execute_result"
        }
      ],
      "source": [
        "person1"
      ]
    },
    {
      "cell_type": "code",
      "execution_count": null,
      "metadata": {
        "id": "Njk-FEFsWVVn"
      },
      "outputs": [],
      "source": [
        "person1['address'] = '1, Penny Lane'"
      ]
    },
    {
      "cell_type": "code",
      "execution_count": null,
      "metadata": {
        "id": "QNy9DrEIWVVq",
        "outputId": "7e7ae65a-e8c4-4fda-ea16-ca6b7f8f9c4f"
      },
      "outputs": [
        {
          "data": {
            "text/plain": [
              "{'name': 'John Doe',\n",
              " 'sex': 'Male',\n",
              " 'age': 32,\n",
              " 'married': True,\n",
              " 'address': '1, Penny Lane'}"
            ]
          },
          "execution_count": 233,
          "metadata": {},
          "output_type": "execute_result"
        }
      ],
      "source": [
        "person1"
      ]
    },
    {
      "cell_type": "markdown",
      "metadata": {
        "id": "f_EJNdX2WVVq"
      },
      "source": [
        "To remove a key and the associated value from a dictionary, use the `pop` method."
      ]
    },
    {
      "cell_type": "code",
      "execution_count": null,
      "metadata": {
        "id": "0zPjNnmVWVVq",
        "outputId": "886111ee-ca1d-4125-a983-c93a8c515f63"
      },
      "outputs": [
        {
          "data": {
            "text/plain": [
              "'1, Penny Lane'"
            ]
          },
          "execution_count": 234,
          "metadata": {},
          "output_type": "execute_result"
        }
      ],
      "source": [
        "person1.pop('address')"
      ]
    },
    {
      "cell_type": "code",
      "execution_count": null,
      "metadata": {
        "id": "F5rlI5btWVVq",
        "outputId": "268390ea-0632-4b5b-de03-0d49282e3dd0"
      },
      "outputs": [
        {
          "data": {
            "text/plain": [
              "{'name': 'John Doe', 'sex': 'Male', 'age': 32, 'married': True}"
            ]
          },
          "execution_count": 235,
          "metadata": {},
          "output_type": "execute_result"
        }
      ],
      "source": [
        "person1"
      ]
    },
    {
      "cell_type": "markdown",
      "metadata": {
        "id": "uWfYMuT_WVVr"
      },
      "source": [
        "Dictionaries also provide methods to view the list of keys, values, or key-value pairs inside it."
      ]
    },
    {
      "cell_type": "code",
      "execution_count": null,
      "metadata": {
        "id": "pKBntO0XWVVr",
        "outputId": "f14b09e3-8da4-455c-806e-166dfcb2c4f0"
      },
      "outputs": [
        {
          "data": {
            "text/plain": [
              "dict_keys(['name', 'sex', 'age', 'married'])"
            ]
          },
          "execution_count": 236,
          "metadata": {},
          "output_type": "execute_result"
        }
      ],
      "source": [
        "person1.keys()"
      ]
    },
    {
      "cell_type": "code",
      "execution_count": null,
      "metadata": {
        "id": "n1CZeflxWVVr",
        "outputId": "85eec48c-d858-4c8b-e648-71efc5e1a9d0"
      },
      "outputs": [
        {
          "data": {
            "text/plain": [
              "dict_values(['John Doe', 'Male', 32, True])"
            ]
          },
          "execution_count": 237,
          "metadata": {},
          "output_type": "execute_result"
        }
      ],
      "source": [
        "person1.values()"
      ]
    },
    {
      "cell_type": "code",
      "execution_count": null,
      "metadata": {
        "id": "2YJDstRUWVVr",
        "outputId": "aa898afd-3b28-4389-ec1b-f0bfd0d2ee64"
      },
      "outputs": [
        {
          "data": {
            "text/plain": [
              "dict_items([('name', 'John Doe'), ('sex', 'Male'), ('age', 32), ('married', True)])"
            ]
          },
          "execution_count": 238,
          "metadata": {},
          "output_type": "execute_result"
        }
      ],
      "source": [
        "person1.items()"
      ]
    },
    {
      "cell_type": "code",
      "execution_count": null,
      "metadata": {
        "id": "5Xs3nMkdWVVr",
        "outputId": "dce08143-260a-4c83-9f1d-8002f8585473"
      },
      "outputs": [
        {
          "ename": "TypeError",
          "evalue": "'dict_items' object is not subscriptable",
          "output_type": "error",
          "traceback": [
            "\u001b[0;31m---------------------------------------------------------------------------\u001b[0m",
            "\u001b[0;31mTypeError\u001b[0m                                 Traceback (most recent call last)",
            "\u001b[0;32m<ipython-input-239-b9fb361f2a9e>\u001b[0m in \u001b[0;36m<module>\u001b[0;34m\u001b[0m\n\u001b[0;32m----> 1\u001b[0;31m \u001b[0mperson1\u001b[0m\u001b[0;34m.\u001b[0m\u001b[0mitems\u001b[0m\u001b[0;34m(\u001b[0m\u001b[0;34m)\u001b[0m\u001b[0;34m[\u001b[0m\u001b[0;36m1\u001b[0m\u001b[0;34m]\u001b[0m\u001b[0;34m\u001b[0m\u001b[0;34m\u001b[0m\u001b[0m\n\u001b[0m",
            "\u001b[0;31mTypeError\u001b[0m: 'dict_items' object is not subscriptable"
          ]
        }
      ],
      "source": [
        "person1.items()[1]"
      ]
    },
    {
      "cell_type": "markdown",
      "metadata": {
        "id": "xjqktg9pWVVr"
      },
      "source": [
        "The results of `keys`, `values`, and `items` look like lists. However, they don't support the indexing operator `[]` for retrieving elements.\n",
        "\n",
        "Can you figure out how to access an element at a specific index from these results? Try it below. *Hint: Use the `list` function*"
      ]
    },
    {
      "cell_type": "code",
      "execution_count": null,
      "metadata": {
        "id": "wjvo1YjGWVVr"
      },
      "outputs": [],
      "source": []
    },
    {
      "cell_type": "code",
      "execution_count": null,
      "metadata": {
        "id": "6NfU1mnfWVVr"
      },
      "outputs": [],
      "source": []
    },
    {
      "cell_type": "markdown",
      "metadata": {
        "id": "hkigyuaOWVVr"
      },
      "source": [
        "Dictionaries provide many other methods. You can learn more about them here: https://www.w3schools.com/python/python_ref_dictionary.asp .\n",
        "\n",
        "Here are some experiments you can try out with dictionaries (use the empty cells below):\n",
        "* What happens if you use the same key multiple times while creating a dictionary?\n",
        "* How can you create a copy of a dictionary (modifying the copy should not change the original)?\n",
        "* Can the value associated with a key itself be a dictionary?\n",
        "* How can you add the key-value pairs from one dictionary into another dictionary? Hint: See the `update` method.\n",
        "* Can the dictionary's keys be something other than a string, e.g., a number, boolean, list, etc.?"
      ]
    },
    {
      "cell_type": "code",
      "execution_count": null,
      "metadata": {
        "id": "fKuBhInHWVVs"
      },
      "outputs": [],
      "source": []
    },
    {
      "cell_type": "code",
      "execution_count": null,
      "metadata": {
        "id": "gT_nJ2JwWVVs"
      },
      "outputs": [],
      "source": []
    },
    {
      "cell_type": "code",
      "execution_count": null,
      "metadata": {
        "id": "1nEHIdgBWVVs"
      },
      "outputs": [],
      "source": []
    },
    {
      "cell_type": "code",
      "execution_count": null,
      "metadata": {
        "id": "mwbkQs5dWVVs"
      },
      "outputs": [],
      "source": []
    },
    {
      "cell_type": "code",
      "execution_count": null,
      "metadata": {
        "id": "qcutMmnFWVVs"
      },
      "outputs": [],
      "source": []
    },
    {
      "cell_type": "markdown",
      "metadata": {
        "id": "d0bdSUb0WVVs"
      },
      "source": [
        "## Further Reading\n",
        "\n",
        "We've now completed our exploration of variables and common data types in Python. Following are some resources to learn more about data types in Python:\n",
        "\n",
        "* Python official documentation: https://docs.python.org/3/tutorial/index.html\n",
        "* Python Tutorial at W3Schools: https://www.w3schools.com/python/\n",
        "* Practical Python Programming: https://dabeaz-course.github.io/practical-python/Notes/Contents.html\n",
        "\n",
        "You are now ready to move on to the next tutorial: [Branching using conditional statements and loops in Python](https://jovian.ml/aakashns/python-branching-and-loops)"
      ]
    },
    {
      "cell_type": "markdown",
      "metadata": {
        "id": "fVXxtpf0WVVs"
      },
      "source": [
        "Let's save a snapshot of our notebook one final time using `jovian.commit`."
      ]
    },
    {
      "cell_type": "code",
      "execution_count": null,
      "metadata": {
        "id": "ugN3R2HWWVVs",
        "outputId": "facd3cb0-eefe-4cb8-d0da-8ccf1964db24"
      },
      "outputs": [
        {
          "data": {
            "application/javascript": [
              "window.require && require([\"base/js/namespace\"],function(Jupyter){Jupyter.notebook.save_checkpoint()})"
            ],
            "text/plain": [
              "<IPython.core.display.Javascript object>"
            ]
          },
          "metadata": {},
          "output_type": "display_data"
        },
        {
          "name": "stdout",
          "output_type": "stream",
          "text": [
            "[jovian] Attempting to save notebook..\u001b[0m\n",
            "[jovian] Updating notebook \"samanvitha/python-variables-and-data-types\" on https://jovian.ai\u001b[0m\n",
            "[jovian] Uploading notebook..\u001b[0m\n",
            "[jovian] Uploading additional files...\u001b[0m\n",
            "[jovian] Committed successfully! https://jovian.ai/samanvitha/python-variables-and-data-types\u001b[0m\n"
          ]
        },
        {
          "data": {
            "text/plain": [
              "'https://jovian.ai/samanvitha/python-variables-and-data-types'"
            ]
          },
          "execution_count": 240,
          "metadata": {},
          "output_type": "execute_result"
        }
      ],
      "source": [
        "jovian.commit()"
      ]
    },
    {
      "cell_type": "markdown",
      "metadata": {
        "id": "mL22zhg3WVVs"
      },
      "source": [
        "## Questions for Revision\n",
        "\n",
        "Try answering the following questions to test your understanding of the topics covered in this notebook:\n",
        "\n",
        "1. What is a variable in Python?\n",
        "2. How do you create a variable?\n",
        "3. How do you check the value within a variable?\n",
        "4. How do you create multiple variables in a single statement?\n",
        "5. How do you create multiple variables with the same value?\n",
        "6. How do you change the value of a variable?\n",
        "7. How do you reassign a variable by modifying the previous value?\n",
        "8. What does the statement `counter += 4` do?\n",
        "9. What are the rules for naming a variable?\n",
        "10. Are variable names case-sensitive? Do `a_variable`, `A_Variable`, and `A_VARIABLE` represent the same variable or different ones?\n",
        "11. What is Syntax? Why is it important?\n",
        "12. What happens if you execute a statement with invalid syntax?\n",
        "13. How do you check the data type of a variable?\n",
        "14. What are the built-in data types in Python?\n",
        "15. What is a primitive data type?\n",
        "16. What are the primitive data types available in Python?\n",
        "17. What is a data structure or container data type?\n",
        "18. What are the container types available in Python?\n",
        "19. What kind of data does the Integer data type represent?\n",
        "20. What are the numerical limits of the integer data type?\n",
        "21. What kind of data does the float data type represent?\n",
        "22. How does Python decide if a given number is a float or an integer?\n",
        "23. How can you create a variable which stores a whole number, e.g., 4 but has the float data type?\n",
        "24. How do you create floats representing very large (e.g., 6.023 x 10^23) or very small numbers (0.000000123)?\n",
        "25. What does the expression `23e-12` represent?\n",
        "26. Can floats be used to store numbers with unlimited precision?\n",
        "27. What are the differences between integers and floats?\n",
        "28. How do you convert an integer to a float?\n",
        "29. How do you convert a float to an integer?\n",
        "30. What is the result obtained when you convert 1.99 to an integer?\n",
        "31. What are the data types of the results of the division operators `/` and `//`?\n",
        "32. What kind of data does the Boolean data type represent?\n",
        "33. Which types of Python operators return booleans as a result?\n",
        "34. What happens if you try to use a boolean in arithmetic operation?\n",
        "35. How can any value in Python be covered to a boolean?\n",
        "36. What are truthy and falsy values?\n",
        "37. What are the values in Python that evaluate to False?\n",
        "38. Give some examples of values that evaluate to True.\n",
        "39. What kind of data does the None data type represent?\n",
        "40. What is the purpose of None?\n",
        "41. What kind of data does the String data type represent?\n",
        "42. What are the different ways of creating strings in Python?\n",
        "43. What is the difference between strings creating using single quotes, i.e. `'` and `'` vs. those created using double quotes, i.e. `\"` and `\"`?\n",
        "44. How do you create multi-line strings in Python?\n",
        "45. What is the newline character, `\\n`?\n",
        "46. What are escaped characters? How are they useful?\n",
        "47. How do you check the length of a string?\n",
        "48. How do you convert a string into a list of characters?\n",
        "49. How do you access a specific character from a string?\n",
        "50. How do you access a range of characters from a string?\n",
        "51. How do you check if a specific character occurs in a string?\n",
        "52. How do you check if a smaller string occurs within a bigger string?\n",
        "53. How do you join two or more strings?\n",
        "54. What are \"methods\" in Python? How are they different from functions?\n",
        "55. What do the `.lower`, `.upper` and `.capitalize` methods on strings do?\n",
        "56. How do you replace a specific part of a string with something else?\n",
        "57. How do you split the string \"Sun,Mon,Tue,Wed,Thu,Fri,Sat\" into a list of days?\n",
        "58. How do you remove whitespace from the beginning and end of a string?\n",
        "59. What is the string `.format` method used for? Can you give an example?\n",
        "60. What are the benefits of using the `.format` method instead of string concatenation?\n",
        "61. How do you convert a value of another type to a string?\n",
        "62. How do you check if two strings have the same value?\n",
        "63. Where can you find the list of all the methods supported by strings?\n",
        "64. What is a list in Python?\n",
        "65. How do you create a list?\n",
        "66. Can a Python list contain values of different data types?\n",
        "67. Can a list contain another list as an element within it?\n",
        "68. Can you create a list without any values?\n",
        "69. How do you check the length of a list in Python?\n",
        "70. How do you retrieve a value from a list?\n",
        "71. What is the smallest and largest index you can use to access elements from a list containing five elements?\n",
        "72. What happens if you try to access an index equal to or larger than the size of a list?\n",
        "73. What happens if you try to access a negative index within a list?\n",
        "74. How do you access a range of elements from a list?\n",
        "75. How many elements does the list returned by the expression `a_list[2:5]` contain?\n",
        "76. What do the ranges `a_list[:2]` and `a_list[2:]` represent?\n",
        "77. How do you change the item stored at a specific index within a list?\n",
        "78. How do you insert a new item at the beginning, middle, or end of a list?\n",
        "79. How do you remove an item from al list?\n",
        "80. How do you remove the item at a given index from a list?\n",
        "81. How do you check if a list contains a value?\n",
        "82. How do you combine two or most lists to create a larger list?\n",
        "83. How do you create a copy of a list?\n",
        "84. Does the expression `a_new_list = a_list` create a copy of the list `a_list`?\n",
        "85. Where can you find the list of all the methods supported by lists?\n",
        "86. What is a Tuple in Python?\n",
        "87. How is a tuple different from a list?\n",
        "88. Can you add or remove elements in a tuple?\n",
        "89. How do you create a tuple with just one element?\n",
        "90. How do you convert a tuple to a list and vice versa?\n",
        "91. What are the `count` and `index` method of a Tuple used for?\n",
        "92. What is a dictionary in Python?\n",
        "93. How do you create a dictionary?\n",
        "94. What are keys and values?\n",
        "95. How do you access the value associated with a specific key in a dictionary?\n",
        "96. What happens if you try to access the value for a key that doesn't exist in a dictionary?\n",
        "97. What is the `.get` method of a dictionary used for?\n",
        "98. How do you change the value associated with a key in a dictionary?\n",
        "99. How do you add or remove a key-value pair in a dictionary?\n",
        "100. How do you access the keys, values, and key-value pairs within a dictionary?\n"
      ]
    }
  ],
  "metadata": {
    "kernelspec": {
      "display_name": "Python 3",
      "language": "python",
      "name": "python3"
    },
    "language_info": {
      "codemirror_mode": {
        "name": "ipython",
        "version": 3
      },
      "file_extension": ".py",
      "mimetype": "text/x-python",
      "name": "python",
      "nbconvert_exporter": "python",
      "pygments_lexer": "ipython3",
      "version": "3.8.6"
    },
    "colab": {
      "provenance": [],
      "include_colab_link": true
    }
  },
  "nbformat": 4,
  "nbformat_minor": 0
}