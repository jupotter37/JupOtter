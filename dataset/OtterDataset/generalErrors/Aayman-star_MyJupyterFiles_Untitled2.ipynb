{
 "cells": [
  {
   "cell_type": "code",
   "execution_count": 8,
   "metadata": {},
   "outputs": [
    {
     "name": "stdout",
     "output_type": "stream",
     "text": [
      "5 has occurred  3 times\n"
     ]
    }
   ],
   "source": [
    "l1 = [20,1,1,2,2,3,3,5,5,4,20,4,5]\n",
    "##Have to find an integer which occurs an odd number of times\n",
    "def countOdd(L):\n",
    "    for x in l1:\n",
    "        if (l1.count(x) % 2) != 0:\n",
    "            #print('{} has occurred {} times'.format(x, l1.count(x)))\n",
    "            return x,l1.count(x)\n",
    "            #break\n",
    "       \n",
    "\n",
    "a , b = countOdd(l1)\n",
    "print(a,\"has occurred \",b,\"times\")"
   ]
  },
  {
   "cell_type": "code",
   "execution_count": 12,
   "metadata": {},
   "outputs": [
    {
     "name": "stdout",
     "output_type": "stream",
     "text": [
      "5\n"
     ]
    }
   ],
   "source": [
    "l1 = [20,1,1,2,2,3,3,5,5,4,20,4,5]\n",
    "\n",
    "def test(L):\n",
    "      return [x for x in l1 if l1.count(x) % 2][0]\n",
    "    \n",
    "print(test(l1))    "
   ]
  },
  {
   "cell_type": "code",
   "execution_count": 2,
   "metadata": {},
   "outputs": [
    {
     "name": "stdout",
     "output_type": "stream",
     "text": [
      "['Ryan', 'Yous', 'Mark', 'John', 'Bobb', 'Rose', 'Ross', 'Joey']\n"
     ]
    }
   ],
   "source": [
    "people =  [\"Ryan\", \"Kieran\", \"Jason\", \"Yous\", \"Mark\",\"John\",\"Bobb\",\"Rose\",\"Ross\",\"Joey\",]\n",
    "#friends = []\n",
    "def myfriends(l):\n",
    "    \"\"\"\n",
    "    for name in l:\n",
    "        if len(name) == 4:\n",
    "            friends.append(name)\n",
    "    return friends\n",
    "    \"\"\"\n",
    "    return [friends for friends in l if len(friends) == 4]\n",
    "print(myfriends(people))"
   ]
  },
  {
   "cell_type": "markdown",
   "metadata": {},
   "source": [
    "# "
   ]
  },
  {
   "cell_type": "code",
   "execution_count": null,
   "metadata": {},
   "outputs": [],
   "source": []
  },
  {
   "cell_type": "code",
   "execution_count": 9,
   "metadata": {},
   "outputs": [
    {
     "name": "stdout",
     "output_type": "stream",
     "text": [
      "['3', '9']\n"
     ]
    },
    {
     "ename": "TypeError",
     "evalue": "int() argument must be a string, a bytes-like object or a number, not 'list'",
     "output_type": "error",
     "traceback": [
      "\u001b[1;31m---------------------------------------------------------------------------\u001b[0m",
      "\u001b[1;31mTypeError\u001b[0m                                 Traceback (most recent call last)",
      "\u001b[1;32m<ipython-input-9-0d8a3da78d90>\u001b[0m in \u001b[0;36m<module>\u001b[1;34m\u001b[0m\n\u001b[0;32m     14\u001b[0m \u001b[1;33m\u001b[0m\u001b[0m\n\u001b[0;32m     15\u001b[0m \u001b[0mprint\u001b[0m\u001b[1;33m(\u001b[0m\u001b[0ml1\u001b[0m\u001b[1;33m)\u001b[0m\u001b[1;33m\u001b[0m\u001b[1;33m\u001b[0m\u001b[0m\n\u001b[1;32m---> 16\u001b[1;33m \u001b[0mprint\u001b[0m\u001b[1;33m(\u001b[0m\u001b[0mnumpy\u001b[0m\u001b[1;33m.\u001b[0m\u001b[0mprod\u001b[0m\u001b[1;33m(\u001b[0m\u001b[0mint\u001b[0m\u001b[1;33m(\u001b[0m\u001b[0ml1\u001b[0m\u001b[1;33m)\u001b[0m\u001b[1;33m)\u001b[0m\u001b[1;33m)\u001b[0m\u001b[1;33m\u001b[0m\u001b[1;33m\u001b[0m\u001b[0m\n\u001b[0m\u001b[0;32m     17\u001b[0m \u001b[0mprint\u001b[0m\u001b[1;33m(\u001b[0m\u001b[0mtype\u001b[0m\u001b[1;33m(\u001b[0m\u001b[0ml1\u001b[0m\u001b[1;33m[\u001b[0m\u001b[1;36m0\u001b[0m\u001b[1;33m]\u001b[0m\u001b[1;33m)\u001b[0m\u001b[1;33m)\u001b[0m\u001b[1;33m\u001b[0m\u001b[1;33m\u001b[0m\u001b[0m\n\u001b[0;32m     18\u001b[0m \u001b[1;33m\u001b[0m\u001b[0m\n",
      "\u001b[1;31mTypeError\u001b[0m: int() argument must be a string, a bytes-like object or a number, not 'list'"
     ]
    }
   ],
   "source": [
    "num = 39\n",
    "##def persistence(num):\n",
    "   ## num = str(num)\n",
    "    ##if len(num) == 1:\n",
    "        ##return (int(num))\n",
    "    ##return int(num[-1]) * persistence(int(num[-2::-1]))\n",
    "    \n",
    "##print(persistence(num))\n",
    "\n",
    "\n",
    "\n",
    "##print(len(str(num)))\n",
    "##num = str(num)\n",
    "##print(num[-1::-1])\n",
    "##print(int(num[-1]) * int(num[-2]))"
   ]
  },
  {
   "cell_type": "code",
   "execution_count": 12,
   "metadata": {},
   "outputs": [
    {
     "name": "stdout",
     "output_type": "stream",
     "text": [
      "1\n"
     ]
    }
   ],
   "source": [
    "R2D= {\n",
    "        \"I\" : 1,\n",
    "         \"IV\" : 4,\n",
    "          \"V\" : 5,\n",
    "           \"IX\" : 9,\n",
    "         \"X\" : 10,\n",
    "       \"XL\" : 40,\n",
    "        \"L\" : 50,\n",
    "         \"XC\" : 90,\n",
    "         \"C\"  : 100,\n",
    "         \"CD\" : 400,\n",
    "          \"D\" :500,\n",
    "        \"CM\" : 900,\n",
    "        \"M\" : 1000\n",
    "    \n",
    "}\n",
    "\n",
    "print(R2D[\"I\"])"
   ]
  },
  {
   "cell_type": "code",
   "execution_count": 27,
   "metadata": {},
   "outputs": [
    {
     "name": "stdout",
     "output_type": "stream",
     "text": [
      "[1000, 900, 100, 1000, 10, 900, 100, 5, 1]\n"
     ]
    }
   ],
   "source": [
    "test = \"MCMXCVI\"\n",
    "test1 = []\n",
    "decimal = []\n",
    "for x in test:\n",
    "    #test1.append(x)\n",
    "    if x == \"C\" and test[test.index(x)+ 1] == \"M\" :\n",
    "           decimal.append(R2D[\"CM\"])\n",
    "    if x == \"C\" and test[test.index(x)+ 1] == \"D\":\n",
    "            decimal.append(R2D[\"CD\"])\n",
    " \n",
    "    decimal.append(R2D[x])\n",
    "     \n",
    "\n",
    "#print(test1)\n",
    "print(decimal)"
   ]
  },
  {
   "cell_type": "code",
   "execution_count": 2,
   "metadata": {},
   "outputs": [
    {
     "name": "stdout",
     "output_type": "stream",
     "text": [
      "False\n"
     ]
    }
   ],
   "source": [
    "y = 5\n",
    "print(y == 4)"
   ]
  },
  {
   "cell_type": "code",
   "execution_count": 7,
   "metadata": {},
   "outputs": [
    {
     "name": "stdout",
     "output_type": "stream",
     "text": [
      "12345\n"
     ]
    }
   ],
   "source": [
    "str1 = \"\" \n",
    "for x in range(5):\n",
    "    str1 += str(x + 1)\n",
    "print(str1)"
   ]
  },
  {
   "cell_type": "code",
   "execution_count": 4,
   "metadata": {},
   "outputs": [
    {
     "name": "stdout",
     "output_type": "stream",
     "text": [
      "range(0, 5)\n"
     ]
    }
   ],
   "source": [
    "L = range(5)\n",
    "print(L)"
   ]
  },
  {
   "cell_type": "code",
   "execution_count": 8,
   "metadata": {},
   "outputs": [
    {
     "name": "stdout",
     "output_type": "stream",
     "text": [
      "['s', 'h', 'a', 'r', 'k']\n"
     ]
    }
   ],
   "source": [
    "shark_letters = [letter for letter in 'shark']\n",
    "print(shark_letters) "
   ]
  },
  {
   "cell_type": "code",
   "execution_count": 9,
   "metadata": {},
   "outputs": [
    {
     "name": "stdout",
     "output_type": "stream",
     "text": [
      "['a', 'a', 'y', 'm', 'a', 'n']\n"
     ]
    }
   ],
   "source": [
    "name = [letter for letter in \"aayman\"]\n",
    "print(name)"
   ]
  },
  {
   "cell_type": "code",
   "execution_count": 10,
   "metadata": {},
   "outputs": [
    {
     "name": "stdout",
     "output_type": "stream",
     "text": [
      "['h', 'u', 'm', 'a', 'n']\n"
     ]
    }
   ],
   "source": [
    "letters = list(map(lambda x: x, 'human'))\n",
    "print(letters)"
   ]
  },
  {
   "cell_type": "code",
   "execution_count": 15,
   "metadata": {},
   "outputs": [
    {
     "ename": "SyntaxError",
     "evalue": "invalid syntax (<ipython-input-15-587c0d40dda8>, line 4)",
     "output_type": "error",
     "traceback": [
      "\u001b[1;36m  File \u001b[1;32m\"<ipython-input-15-587c0d40dda8>\"\u001b[1;36m, line \u001b[1;32m4\u001b[0m\n\u001b[1;33m    L = [num for num in range(x)[num1 for num1 in range(y)[num2 for num2 in range(z)]]]\u001b[0m\n\u001b[1;37m                                        ^\u001b[0m\n\u001b[1;31mSyntaxError\u001b[0m\u001b[1;31m:\u001b[0m invalid syntax\n"
     ]
    }
   ],
   "source": [
    "x = 2\n",
    "y = 5\n",
    "z = 3\n",
    "L = [num for num in range(x)[num1 for num1 in range(y)[num2 for num2 in range(z)]]]\n",
    "print(L)"
   ]
  },
  {
   "cell_type": "code",
   "execution_count": 1,
   "metadata": {},
   "outputs": [
    {
     "name": "stdout",
     "output_type": "stream",
     "text": [
      "['a', 'b', 'c']\n"
     ]
    }
   ],
   "source": [
    "str1 = \"abc\"\n",
    "length = len(str1)\n",
    "letter = [letters for letters in str1]\n",
    "print(letter)"
   ]
  },
  {
   "cell_type": "code",
   "execution_count": 6,
   "metadata": {},
   "outputs": [
    {
     "name": "stdout",
     "output_type": "stream",
     "text": [
      "['x_']\n"
     ]
    }
   ],
   "source": [
    "#Codewar exercise to divide a string into pieces of 2\n",
    "def solution(s):\n",
    "    if len(s) % 2 != 0:\n",
    "        s += \"_\"\n",
    "        #print(s)\n",
    "\n",
    "    newlist = []\n",
    "    i= 0\n",
    "    while i != len(s):\n",
    "        newlist.append(s[i:i+2])\n",
    "        i +=2\n",
    "    return newlist\n",
    "\n",
    "print(solution(\"x\"))"
   ]
  },
  {
   "cell_type": "code",
   "execution_count": 10,
   "metadata": {},
   "outputs": [
    {
     "name": "stdout",
     "output_type": "stream",
     "text": [
      "False\n"
     ]
    }
   ],
   "source": [
    "print(ascii(\"aabb\") == ascii(\"abba\"))"
   ]
  },
  {
   "cell_type": "code",
   "execution_count": 16,
   "metadata": {},
   "outputs": [
    {
     "name": "stdout",
     "output_type": "stream",
     "text": [
      "390\n"
     ]
    }
   ],
   "source": [
    "a = \"aabb\"\n",
    "Sum = 0\n",
    "for x in a:\n",
    "    Sum +=ord(x)\n",
    "\n",
    "print(Sum)"
   ]
  },
  {
   "cell_type": "code",
   "execution_count": 18,
   "metadata": {},
   "outputs": [
    {
     "name": "stdout",
     "output_type": "stream",
     "text": [
      "['carer', 'racer']\n"
     ]
    }
   ],
   "source": [
    "#Codewar exercise to detect the anagram of a string from a list of strings\n",
    "def anagrams(word, words):\n",
    "    #String the ascii value of the first string\n",
    "    Sum = 0\n",
    "    for x in word:\n",
    "        Sum += ord(x)\n",
    "    #Initialising an empty list to store the anagrams\n",
    "    ana = []\n",
    "    \n",
    "    #Checking the ascii value of every string in the second array\n",
    "    for y in words:\n",
    "        Sum1 = 0\n",
    "        #This is a nested loop which runs to find out the ascii value of each individual string\n",
    "        for z in y:\n",
    "            Sum1 += ord(z)\n",
    "        \n",
    "        if (Sum1 == Sum):\n",
    "            ana.append(y)\n",
    "    return ana\n",
    "print(anagrams('racer', ['crazer', 'carer', 'racar', 'caers', 'racer']))"
   ]
  },
  {
   "cell_type": "code",
   "execution_count": 19,
   "metadata": {},
   "outputs": [
    {
     "name": "stdout",
     "output_type": "stream",
     "text": [
      "['a', 'b', 'c', 'd']\n"
     ]
    }
   ],
   "source": [
    "a = \"cabd\"\n",
    "print(sorted(a))"
   ]
  },
  {
   "cell_type": "code",
   "execution_count": 21,
   "metadata": {},
   "outputs": [
    {
     "name": "stdout",
     "output_type": "stream",
     "text": [
      "['carer', 'racer']\n"
     ]
    }
   ],
   "source": [
    "#Okay so I learned about another function \"Sorted(),which takes an array/strind and sorts it into ascending or descending order\"\n",
    "\n",
    "word = \"racer\"\n",
    "word = sorted(word)\n",
    "words =  ['crazer', 'carer', 'racar', 'caers', 'racer']\n",
    "newList = []\n",
    "for x in words:\n",
    "    if(sorted(x)) == word:\n",
    "        newList.append(x)\n",
    "        \n",
    "print(newList)\n",
    "    \n"
   ]
  },
  {
   "cell_type": "code",
   "execution_count": 15,
   "metadata": {},
   "outputs": [
    {
     "name": "stdout",
     "output_type": "stream",
     "text": [
      "['Ge', 'Ge', 'Gk', 'Gs', 'ee', 'ek', 'es', 'ee', 'ek', 'es', 'ks']\n"
     ]
    }
   ],
   "source": [
    "test_str = \"Geeks\"\n",
    "substring = []\n",
    "#print(test_str[1::])\n",
    "for x in test_str:\n",
    "    z = test_str[test_str.index(x)+1::]\n",
    "    for y in z:\n",
    "        substring.append(x + y)\n",
    "print(substring)"
   ]
  },
  {
   "cell_type": "code",
   "execution_count": 12,
   "metadata": {},
   "outputs": [
    {
     "name": "stdout",
     "output_type": "stream",
     "text": [
      "ks\n"
     ]
    }
   ],
   "source": [
    "star = \"geeks\"\n",
    "print(star[star.index(\"k\")::])"
   ]
  },
  {
   "cell_type": "code",
   "execution_count": null,
   "metadata": {},
   "outputs": [],
   "source": [
    "a, b = 3, 5\n",
    "fibo = []\n",
    "n = 3\n",
    "fibo.append(str(a))\n",
    "fibo.append(str(b))\n",
    "while len(str(b)) != n:\n",
    "    c = str(b)\n",
    "    b = str(a)+str(b)\n",
    "    fibo.append(b)\n",
    "    a = c\n",
    "\n",
    "print(str(fibo[-1])[n-1])\n",
    "#print(fibo)\n",
    "print(len(str(fibo[-1])))"
   ]
  },
  {
   "cell_type": "code",
   "execution_count": 9,
   "metadata": {},
   "outputs": [
    {
     "name": "stdout",
     "output_type": "stream",
     "text": [
      "['14159265358979323846', '897932384614159265358979323846', '14159265358979323846897932384614159265358979323846']\n",
      "9\n"
     ]
    }
   ],
   "source": [
    "a, b = 1415926535, 8979323846\n",
    "n = 35\n",
    "c = \"\"\n",
    "List = []\n",
    "while len(c) <= n:\n",
    "    c = str(a) + str(b)\n",
    "    List.append(c)\n",
    "    a = b\n",
    "    b = c\n",
    "    \n",
    "print(List)\n",
    "print((List[-1])[n-1])"
   ]
  },
  {
   "cell_type": "code",
   "execution_count": 23,
   "metadata": {},
   "outputs": [
    {
     "name": "stdout",
     "output_type": "stream",
     "text": [
      "Enter the number of sets :2\n",
      "Enter the numbers separated with spaces :1 2\n"
     ]
    },
    {
     "ename": "IndexError",
     "evalue": "list assignment index out of range",
     "output_type": "error",
     "traceback": [
      "\u001b[1;31m---------------------------------------------------------------------------\u001b[0m",
      "\u001b[1;31mIndexError\u001b[0m                                Traceback (most recent call last)",
      "\u001b[1;32m<ipython-input-23-66d9c728c975>\u001b[0m in \u001b[0;36m<module>\u001b[1;34m\u001b[0m\n\u001b[0;32m      3\u001b[0m \u001b[0mmyList\u001b[0m \u001b[1;33m=\u001b[0m \u001b[1;33m[\u001b[0m\u001b[1;33m]\u001b[0m\u001b[1;33m\u001b[0m\u001b[1;33m\u001b[0m\u001b[0m\n\u001b[0;32m      4\u001b[0m \u001b[1;32mfor\u001b[0m \u001b[0mi\u001b[0m \u001b[1;32min\u001b[0m \u001b[0mrange\u001b[0m\u001b[1;33m(\u001b[0m\u001b[0mN\u001b[0m\u001b[1;33m)\u001b[0m\u001b[1;33m:\u001b[0m\u001b[1;33m\u001b[0m\u001b[1;33m\u001b[0m\u001b[0m\n\u001b[1;32m----> 5\u001b[1;33m     \u001b[0mmyList\u001b[0m\u001b[1;33m[\u001b[0m\u001b[0mi\u001b[0m\u001b[1;33m]\u001b[0m \u001b[1;33m=\u001b[0m \u001b[0minput\u001b[0m\u001b[1;33m(\u001b[0m\u001b[1;34m\"Enter the numbers separated with spaces :\"\u001b[0m\u001b[1;33m)\u001b[0m\u001b[1;33m\u001b[0m\u001b[1;33m\u001b[0m\u001b[0m\n\u001b[0m\u001b[0;32m      6\u001b[0m     \u001b[0mmyList\u001b[0m\u001b[1;33m[\u001b[0m\u001b[0mi\u001b[0m\u001b[1;33m]\u001b[0m\u001b[1;33m.\u001b[0m\u001b[0mappend\u001b[0m\u001b[1;33m(\u001b[0m \u001b[0mmyList\u001b[0m\u001b[1;33m[\u001b[0m\u001b[0mi\u001b[0m\u001b[1;33m]\u001b[0m\u001b[1;33m.\u001b[0m\u001b[0msplit\u001b[0m\u001b[1;33m(\u001b[0m\u001b[1;34m\" \"\u001b[0m\u001b[1;33m)\u001b[0m\u001b[1;33m)\u001b[0m\u001b[1;33m\u001b[0m\u001b[1;33m\u001b[0m\u001b[0m\n\u001b[0;32m      7\u001b[0m \u001b[1;33m\u001b[0m\u001b[0m\n",
      "\u001b[1;31mIndexError\u001b[0m: list assignment index out of range"
     ]
    }
   ],
   "source": [
    "N = input(\"Enter the number of sets :\")\n",
    "N = int(N)\n",
    "myList = []\n",
    "for i in range(N):\n",
    "    myList[i] = input(\"Enter the numbers separated with spaces :\")\n",
    "    myList[i].append( myList[i].split(\" \"))\n",
    "\n",
    "print(myList)"
   ]
  },
  {
   "cell_type": "code",
   "execution_count": 22,
   "metadata": {},
   "outputs": [
    {
     "name": "stdout",
     "output_type": "stream",
     "text": [
      "Enter numbers with spaces:2\n",
      "['2']\n"
     ]
    }
   ],
   "source": [
    "g = input(\"Enter numbers with spaces:\")\n",
    "g= g.split(\" \")\n",
    "print(g)"
   ]
  },
  {
   "cell_type": "code",
   "execution_count": 30,
   "metadata": {},
   "outputs": [
    {
     "name": "stdout",
     "output_type": "stream",
     "text": [
      "[1, 2]\n"
     ]
    }
   ],
   "source": [
    "a =[1]\n",
    "b = [1,2]\n",
    "x = lambda a,b:a if a < b else b\n",
    "print(x([1,2,3],[1,2]))"
   ]
  },
  {
   "cell_type": "code",
   "execution_count": 40,
   "metadata": {},
   "outputs": [
    {
     "name": "stdout",
     "output_type": "stream",
     "text": [
      "2\n"
     ]
    }
   ],
   "source": [
    "def iq_test(numbers):\n",
    "    #Initialising a list of even numbers\n",
    "    e = []\n",
    "    #Initialising a list of add numbers\n",
    "    o = []\n",
    "    #Running a loop to check for even and odd numbers\n",
    "    for x in numbers:\n",
    "        if x % 2 == 0:\n",
    "            e.append(x)\n",
    "        if x %2 != 0:\n",
    "            o.append(x)\n",
    "    #Checking for the list with smaller length(Actually the expectation is that there will be only one odd different number)\n",
    "    if len(e) == 1:\n",
    "       return numbers.index(e[0]) + 1\n",
    "    if len(o) == 1:\n",
    "        return numbers.index(o[0]) + 1\n",
    "#print(e)\n",
    "#print(o)\n",
    "print(iq_test([1,2,1,1]))"
   ]
  },
  {
   "cell_type": "code",
   "execution_count": 45,
   "metadata": {},
   "outputs": [
    {
     "name": "stdout",
     "output_type": "stream",
     "text": [
      "3\n"
     ]
    }
   ],
   "source": [
    "def iq_test(numbers):\n",
    "    e = [int(i) % 2 == 0 for i in numbers.split()]\n",
    "\n",
    "    return e.index(True) + 1 if e.count(True) == 1 else e.index(False) + 1\n",
    "#Clever practice did by someone else\n",
    "print(iq_test(\"2 4 7 8 10\"))"
   ]
  },
  {
   "cell_type": "code",
   "execution_count": 56,
   "metadata": {},
   "outputs": [
    {
     "name": "stdout",
     "output_type": "stream",
     "text": [
      " CamelCaseMethod\n"
     ]
    }
   ],
   "source": [
    "def camel_case(string):\n",
    "    new = string.split(\" \")\n",
    "    camel_str = \" \"\n",
    "    for x in new:\n",
    "        camel_str += x.capitalize()\n",
    "        \n",
    "    return camel_str\n",
    "print(camel_case(\"camel case method\"))"
   ]
  },
  {
   "cell_type": "code",
   "execution_count": 54,
   "metadata": {},
   "outputs": [
    {
     "ename": "SyntaxError",
     "evalue": "invalid syntax (<ipython-input-54-8f42abf52113>, line 4)",
     "output_type": "error",
     "traceback": [
      "\u001b[1;36m  File \u001b[1;32m\"<ipython-input-54-8f42abf52113>\"\u001b[1;36m, line \u001b[1;32m4\u001b[0m\n\u001b[1;33m    return [camel = camel + x.capitalize() for x in new]\u001b[0m\n\u001b[1;37m                  ^\u001b[0m\n\u001b[1;31mSyntaxError\u001b[0m\u001b[1;31m:\u001b[0m invalid syntax\n"
     ]
    }
   ],
   "source": [
    "def camel_case1(string):\n",
    "    new =  string.split(\" \")\n",
    "    camel = \" \"\n",
    "    return [camel = camel + x.capitalize() for x in new]\n",
    "\n",
    "print(camel_case1(\"hello world\"))"
   ]
  },
  {
   "cell_type": "code",
   "execution_count": null,
   "metadata": {},
   "outputs": [],
   "source": []
  }
 ],
 "metadata": {
  "kernelspec": {
   "display_name": "Python 3",
   "language": "python",
   "name": "python3"
  },
  "language_info": {
   "codemirror_mode": {
    "name": "ipython",
    "version": 3
   },
   "file_extension": ".py",
   "mimetype": "text/x-python",
   "name": "python",
   "nbconvert_exporter": "python",
   "pygments_lexer": "ipython3",
   "version": "3.7.4"
  }
 },
 "nbformat": 4,
 "nbformat_minor": 2
}
