{
 "cells": [
  {
   "cell_type": "code",
   "execution_count": 1,
   "metadata": {
    "collapsed": true
   },
   "outputs": [],
   "source": [
    "# %load mymath.py\n",
    "\"\"\"mymath - our example math module\"\"\"\n",
    "pi = 3.14159\n",
    "def area(r):\n",
    "  \"\"\"area(r): return the area of a circle with radius r.\"\"\"\n",
    "  global pi\n",
    "  return(pi * r * r)"
   ]
  },
  {
   "cell_type": "code",
   "execution_count": 2,
   "metadata": {
    "collapsed": false
   },
   "outputs": [
    {
     "data": {
      "text/plain": [
       "3.14159"
      ]
     },
     "execution_count": 2,
     "metadata": {},
     "output_type": "execute_result"
    }
   ],
   "source": [
    "pi"
   ]
  },
  {
   "cell_type": "code",
   "execution_count": 3,
   "metadata": {
    "collapsed": false
   },
   "outputs": [
    {
     "data": {
      "text/plain": [
       "12.56636"
      ]
     },
     "execution_count": 3,
     "metadata": {},
     "output_type": "execute_result"
    }
   ],
   "source": [
    "area(2)"
   ]
  },
  {
   "cell_type": "code",
   "execution_count": 4,
   "metadata": {
    "collapsed": true
   },
   "outputs": [],
   "source": [
    "import mymath"
   ]
  },
  {
   "cell_type": "code",
   "execution_count": 6,
   "metadata": {
    "collapsed": false
   },
   "outputs": [
    {
     "data": {
      "text/plain": [
       "3.14159"
      ]
     },
     "execution_count": 6,
     "metadata": {},
     "output_type": "execute_result"
    }
   ],
   "source": [
    "pi"
   ]
  },
  {
   "cell_type": "code",
   "execution_count": 7,
   "metadata": {
    "collapsed": false
   },
   "outputs": [
    {
     "data": {
      "text/plain": [
       "3.14159"
      ]
     },
     "execution_count": 7,
     "metadata": {},
     "output_type": "execute_result"
    }
   ],
   "source": [
    " mymath.pi"
   ]
  },
  {
   "cell_type": "code",
   "execution_count": 8,
   "metadata": {
    "collapsed": false
   },
   "outputs": [
    {
     "data": {
      "text/plain": [
       "12.56636"
      ]
     },
     "execution_count": 8,
     "metadata": {},
     "output_type": "execute_result"
    }
   ],
   "source": [
    "mymath.area(2)"
   ]
  },
  {
   "cell_type": "code",
   "execution_count": 9,
   "metadata": {
    "collapsed": false
   },
   "outputs": [
    {
     "data": {
      "text/plain": [
       "'mymath - our example math module'"
      ]
     },
     "execution_count": 9,
     "metadata": {},
     "output_type": "execute_result"
    }
   ],
   "source": [
    "mymath.__doc__"
   ]
  },
  {
   "cell_type": "code",
   "execution_count": 10,
   "metadata": {
    "collapsed": false
   },
   "outputs": [
    {
     "data": {
      "text/plain": [
       "'area(r): return the area of a circle with radius r.'"
      ]
     },
     "execution_count": 10,
     "metadata": {},
     "output_type": "execute_result"
    }
   ],
   "source": [
    "mymath.area.__doc__"
   ]
  },
  {
   "cell_type": "markdown",
   "metadata": {},
   "source": [
    "---"
   ]
  },
  {
   "cell_type": "code",
   "execution_count": 11,
   "metadata": {
    "collapsed": false
   },
   "outputs": [
    {
     "data": {
      "text/plain": [
       "3.14159"
      ]
     },
     "execution_count": 11,
     "metadata": {},
     "output_type": "execute_result"
    }
   ],
   "source": [
    "from mymath import pi\n",
    "pi"
   ]
  },
  {
   "cell_type": "code",
   "execution_count": 12,
   "metadata": {
    "collapsed": false
   },
   "outputs": [
    {
     "data": {
      "text/plain": [
       "12.56636"
      ]
     },
     "execution_count": 12,
     "metadata": {},
     "output_type": "execute_result"
    }
   ],
   "source": [
    "area(2)"
   ]
  },
  {
   "cell_type": "markdown",
   "metadata": {},
   "source": [
    "---"
   ]
  },
  {
   "cell_type": "code",
   "execution_count": 13,
   "metadata": {
    "collapsed": false
   },
   "outputs": [
    {
     "data": {
      "text/plain": [
       "<module 'mymath' from 'D:\\\\BOOKS\\\\PYTHON\\\\The Quick Python Book(Ceder)2ed\\\\SF_QPB\\\\ch10\\\\mymath.py'>"
      ]
     },
     "execution_count": 13,
     "metadata": {},
     "output_type": "execute_result"
    }
   ],
   "source": [
    "import mymath, imp\n",
    "imp.reload(mymath)"
   ]
  },
  {
   "cell_type": "code",
   "execution_count": 17,
   "metadata": {
    "collapsed": true
   },
   "outputs": [],
   "source": [
    "sys.path.append('C:\\Anaconda2\\mymodules')"
   ]
  },
  {
   "cell_type": "code",
   "execution_count": 18,
   "metadata": {
    "collapsed": false,
    "scrolled": true
   },
   "outputs": [
    {
     "data": {
      "text/plain": [
       "['',\n",
       " 'C:\\\\Anaconda3\\\\python35.zip',\n",
       " 'C:\\\\Anaconda3\\\\DLLs',\n",
       " 'C:\\\\Anaconda3\\\\lib',\n",
       " 'C:\\\\Anaconda3',\n",
       " 'c:\\\\anaconda3\\\\lib\\\\site-packages\\\\setuptools-20.3-py3.5.egg',\n",
       " 'C:\\\\Anaconda3\\\\lib\\\\site-packages',\n",
       " 'C:\\\\Anaconda3\\\\lib\\\\site-packages\\\\Sphinx-1.3.5-py3.5.egg',\n",
       " 'C:\\\\Anaconda3\\\\lib\\\\site-packages\\\\win32',\n",
       " 'C:\\\\Anaconda3\\\\lib\\\\site-packages\\\\win32\\\\lib',\n",
       " 'C:\\\\Anaconda3\\\\lib\\\\site-packages\\\\Pythonwin',\n",
       " 'C:\\\\Anaconda3\\\\lib\\\\site-packages\\\\IPython\\\\extensions',\n",
       " 'C:\\\\Users\\\\AaronHsu\\\\.ipython',\n",
       " 'C:\\\\Anaconda2\\\\mymodules']"
      ]
     },
     "execution_count": 18,
     "metadata": {},
     "output_type": "execute_result"
    }
   ],
   "source": [
    "sys.path"
   ]
  },
  {
   "cell_type": "code",
   "execution_count": null,
   "metadata": {
    "collapsed": true
   },
   "outputs": [],
   "source": [
    "\"\"\"modtest: our test module\"\"\"\n",
    "def f(x):\n",
    "  return x\n",
    "def _g(x):\n",
    "  return x\n",
    "a = 4\n",
    "_b = 2"
   ]
  },
  {
   "cell_type": "code",
   "execution_count": 26,
   "metadata": {
    "collapsed": true
   },
   "outputs": [],
   "source": [
    "from modtest import *"
   ]
  },
  {
   "cell_type": "code",
   "execution_count": 27,
   "metadata": {
    "collapsed": false
   },
   "outputs": [
    {
     "data": {
      "text/plain": [
       "3"
      ]
     },
     "execution_count": 27,
     "metadata": {},
     "output_type": "execute_result"
    }
   ],
   "source": [
    "f(3)"
   ]
  },
  {
   "cell_type": "code",
   "execution_count": 28,
   "metadata": {
    "collapsed": false
   },
   "outputs": [
    {
     "ename": "NameError",
     "evalue": "name '_g' is not defined",
     "output_type": "error",
     "traceback": [
      "\u001b[1;31m---------------------------------------------------------------------------\u001b[0m",
      "\u001b[1;31mNameError\u001b[0m                                 Traceback (most recent call last)",
      "\u001b[1;32m<ipython-input-28-fc97329a9c24>\u001b[0m in \u001b[0;36m<module>\u001b[1;34m()\u001b[0m\n\u001b[1;32m----> 1\u001b[1;33m \u001b[0m_g\u001b[0m\u001b[1;33m(\u001b[0m\u001b[1;36m3\u001b[0m\u001b[1;33m)\u001b[0m\u001b[1;33m\u001b[0m\u001b[0m\n\u001b[0m",
      "\u001b[1;31mNameError\u001b[0m: name '_g' is not defined"
     ]
    }
   ],
   "source": [
    "_g(3)"
   ]
  },
  {
   "cell_type": "code",
   "execution_count": 29,
   "metadata": {
    "collapsed": false
   },
   "outputs": [
    {
     "data": {
      "text/plain": [
       "4"
      ]
     },
     "execution_count": 29,
     "metadata": {},
     "output_type": "execute_result"
    }
   ],
   "source": [
    "a"
   ]
  },
  {
   "cell_type": "code",
   "execution_count": 30,
   "metadata": {
    "collapsed": false
   },
   "outputs": [
    {
     "ename": "NameError",
     "evalue": "name '_b' is not defined",
     "output_type": "error",
     "traceback": [
      "\u001b[1;31m---------------------------------------------------------------------------\u001b[0m",
      "\u001b[1;31mNameError\u001b[0m                                 Traceback (most recent call last)",
      "\u001b[1;32m<ipython-input-30-2118affc8bb6>\u001b[0m in \u001b[0;36m<module>\u001b[1;34m()\u001b[0m\n\u001b[1;32m----> 1\u001b[1;33m \u001b[0m_b\u001b[0m\u001b[1;33m\u001b[0m\u001b[0m\n\u001b[0m",
      "\u001b[1;31mNameError\u001b[0m: name '_b' is not defined"
     ]
    }
   ],
   "source": [
    "_b"
   ]
  },
  {
   "cell_type": "code",
   "execution_count": 31,
   "metadata": {
    "collapsed": false
   },
   "outputs": [
    {
     "data": {
      "text/plain": [
       "2"
      ]
     },
     "execution_count": 31,
     "metadata": {},
     "output_type": "execute_result"
    }
   ],
   "source": [
    "import modtest\n",
    "modtest._b"
   ]
  },
  {
   "cell_type": "code",
   "execution_count": 32,
   "metadata": {
    "collapsed": false
   },
   "outputs": [
    {
     "data": {
      "text/plain": [
       "5"
      ]
     },
     "execution_count": 32,
     "metadata": {},
     "output_type": "execute_result"
    }
   ],
   "source": [
    "from modtest import _g\n",
    "_g(5)"
   ]
  },
  {
   "cell_type": "markdown",
   "metadata": {},
   "source": [
    "---"
   ]
  },
  {
   "cell_type": "code",
   "execution_count": 33,
   "metadata": {
    "collapsed": true
   },
   "outputs": [
    {
     "data": {
      "text/plain": [
       "{'In': ['',\n",
       "  '# %load mymath.py\\n\"\"\"mymath - our example math module\"\"\"\\npi = 3.14159\\ndef area(r):\\n  \"\"\"area(r): return the area of a circle with radius r.\"\"\"\\n  global pi\\n  return(pi * r * r)',\n",
       "  'pi',\n",
       "  'area(2)',\n",
       "  'import mymath',\n",
       "  \"get_ipython().magic('pinfo pi')\",\n",
       "  'pi',\n",
       "  'mymath.pi',\n",
       "  'mymath.area(2)',\n",
       "  'mymath.__doc__',\n",
       "  'mymath.area.__doc__',\n",
       "  'from mymath import pi\\npi',\n",
       "  'area(2)',\n",
       "  'import mymath, imp\\nimp.reload(mymath)',\n",
       "  'import os',\n",
       "  'import os\\nos.path',\n",
       "  'import sys\\nsys.path',\n",
       "  \"sys.path.append('C:\\\\Anaconda2\\\\mymodules')\",\n",
       "  'sys.path',\n",
       "  'from modtest import *',\n",
       "  'f(3)',\n",
       "  '_g(3)',\n",
       "  'a',\n",
       "  '_b',\n",
       "  'import modtest\\nmodtest._b',\n",
       "  \"get_ipython().magic('load modtest.py')\",\n",
       "  'from modtest import *',\n",
       "  'f(3)',\n",
       "  '_g(3)',\n",
       "  'a',\n",
       "  '_b',\n",
       "  'import modtest\\nmodtest._b',\n",
       "  'from modtest import _g\\n_g(5)',\n",
       "  'locals()'],\n",
       " 'Out': {2: 3.14159,\n",
       "  3: 12.56636,\n",
       "  6: 3.14159,\n",
       "  7: 3.14159,\n",
       "  8: 12.56636,\n",
       "  9: 'mymath - our example math module',\n",
       "  10: 'area(r): return the area of a circle with radius r.',\n",
       "  11: 3.14159,\n",
       "  12: 12.56636,\n",
       "  13: <module 'mymath' from 'D:\\\\BOOKS\\\\PYTHON\\\\The Quick Python Book(Ceder)2ed\\\\SF_QPB\\\\ch10\\\\mymath.py'>,\n",
       "  15: <module 'ntpath' from 'C:\\\\Anaconda3\\\\lib\\\\ntpath.py'>,\n",
       "  16: ['',\n",
       "   'C:\\\\Anaconda3\\\\python35.zip',\n",
       "   'C:\\\\Anaconda3\\\\DLLs',\n",
       "   'C:\\\\Anaconda3\\\\lib',\n",
       "   'C:\\\\Anaconda3',\n",
       "   'c:\\\\anaconda3\\\\lib\\\\site-packages\\\\setuptools-20.3-py3.5.egg',\n",
       "   'C:\\\\Anaconda3\\\\lib\\\\site-packages',\n",
       "   'C:\\\\Anaconda3\\\\lib\\\\site-packages\\\\Sphinx-1.3.5-py3.5.egg',\n",
       "   'C:\\\\Anaconda3\\\\lib\\\\site-packages\\\\win32',\n",
       "   'C:\\\\Anaconda3\\\\lib\\\\site-packages\\\\win32\\\\lib',\n",
       "   'C:\\\\Anaconda3\\\\lib\\\\site-packages\\\\Pythonwin',\n",
       "   'C:\\\\Anaconda3\\\\lib\\\\site-packages\\\\IPython\\\\extensions',\n",
       "   'C:\\\\Users\\\\AaronHsu\\\\.ipython',\n",
       "   'C:\\\\Anaconda2\\\\mymodules'],\n",
       "  18: ['',\n",
       "   'C:\\\\Anaconda3\\\\python35.zip',\n",
       "   'C:\\\\Anaconda3\\\\DLLs',\n",
       "   'C:\\\\Anaconda3\\\\lib',\n",
       "   'C:\\\\Anaconda3',\n",
       "   'c:\\\\anaconda3\\\\lib\\\\site-packages\\\\setuptools-20.3-py3.5.egg',\n",
       "   'C:\\\\Anaconda3\\\\lib\\\\site-packages',\n",
       "   'C:\\\\Anaconda3\\\\lib\\\\site-packages\\\\Sphinx-1.3.5-py3.5.egg',\n",
       "   'C:\\\\Anaconda3\\\\lib\\\\site-packages\\\\win32',\n",
       "   'C:\\\\Anaconda3\\\\lib\\\\site-packages\\\\win32\\\\lib',\n",
       "   'C:\\\\Anaconda3\\\\lib\\\\site-packages\\\\Pythonwin',\n",
       "   'C:\\\\Anaconda3\\\\lib\\\\site-packages\\\\IPython\\\\extensions',\n",
       "   'C:\\\\Users\\\\AaronHsu\\\\.ipython',\n",
       "   'C:\\\\Anaconda2\\\\mymodules'],\n",
       "  20: 3,\n",
       "  22: 4,\n",
       "  24: 2,\n",
       "  27: 3,\n",
       "  29: 4,\n",
       "  31: 2,\n",
       "  32: 5},\n",
       " '_': 5,\n",
       " '_10': 'area(r): return the area of a circle with radius r.',\n",
       " '_11': 3.14159,\n",
       " '_12': 12.56636,\n",
       " '_13': <module 'mymath' from 'D:\\\\BOOKS\\\\PYTHON\\\\The Quick Python Book(Ceder)2ed\\\\SF_QPB\\\\ch10\\\\mymath.py'>,\n",
       " '_15': <module 'ntpath' from 'C:\\\\Anaconda3\\\\lib\\\\ntpath.py'>,\n",
       " '_16': ['',\n",
       "  'C:\\\\Anaconda3\\\\python35.zip',\n",
       "  'C:\\\\Anaconda3\\\\DLLs',\n",
       "  'C:\\\\Anaconda3\\\\lib',\n",
       "  'C:\\\\Anaconda3',\n",
       "  'c:\\\\anaconda3\\\\lib\\\\site-packages\\\\setuptools-20.3-py3.5.egg',\n",
       "  'C:\\\\Anaconda3\\\\lib\\\\site-packages',\n",
       "  'C:\\\\Anaconda3\\\\lib\\\\site-packages\\\\Sphinx-1.3.5-py3.5.egg',\n",
       "  'C:\\\\Anaconda3\\\\lib\\\\site-packages\\\\win32',\n",
       "  'C:\\\\Anaconda3\\\\lib\\\\site-packages\\\\win32\\\\lib',\n",
       "  'C:\\\\Anaconda3\\\\lib\\\\site-packages\\\\Pythonwin',\n",
       "  'C:\\\\Anaconda3\\\\lib\\\\site-packages\\\\IPython\\\\extensions',\n",
       "  'C:\\\\Users\\\\AaronHsu\\\\.ipython',\n",
       "  'C:\\\\Anaconda2\\\\mymodules'],\n",
       " '_18': ['',\n",
       "  'C:\\\\Anaconda3\\\\python35.zip',\n",
       "  'C:\\\\Anaconda3\\\\DLLs',\n",
       "  'C:\\\\Anaconda3\\\\lib',\n",
       "  'C:\\\\Anaconda3',\n",
       "  'c:\\\\anaconda3\\\\lib\\\\site-packages\\\\setuptools-20.3-py3.5.egg',\n",
       "  'C:\\\\Anaconda3\\\\lib\\\\site-packages',\n",
       "  'C:\\\\Anaconda3\\\\lib\\\\site-packages\\\\Sphinx-1.3.5-py3.5.egg',\n",
       "  'C:\\\\Anaconda3\\\\lib\\\\site-packages\\\\win32',\n",
       "  'C:\\\\Anaconda3\\\\lib\\\\site-packages\\\\win32\\\\lib',\n",
       "  'C:\\\\Anaconda3\\\\lib\\\\site-packages\\\\Pythonwin',\n",
       "  'C:\\\\Anaconda3\\\\lib\\\\site-packages\\\\IPython\\\\extensions',\n",
       "  'C:\\\\Users\\\\AaronHsu\\\\.ipython',\n",
       "  'C:\\\\Anaconda2\\\\mymodules'],\n",
       " '_2': 3.14159,\n",
       " '_20': 3,\n",
       " '_22': 4,\n",
       " '_24': 2,\n",
       " '_27': 3,\n",
       " '_29': 4,\n",
       " '_3': 12.56636,\n",
       " '_31': 2,\n",
       " '_32': 5,\n",
       " '_6': 3.14159,\n",
       " '_7': 3.14159,\n",
       " '_8': 12.56636,\n",
       " '_9': 'mymath - our example math module',\n",
       " '__': 2,\n",
       " '___': 4,\n",
       " '__builtin__': <module 'builtins' (built-in)>,\n",
       " '__builtins__': <module 'builtins' (built-in)>,\n",
       " '__doc__': 'mymath - our example math module',\n",
       " '__loader__': None,\n",
       " '__name__': '__main__',\n",
       " '__package__': None,\n",
       " '__spec__': None,\n",
       " '_dh': ['D:\\\\BOOKS\\\\PYTHON\\\\The Quick Python Book(Ceder)2ed\\\\SF_QPB\\\\ch10'],\n",
       " '_g': <function modtest._g>,\n",
       " '_i': 'from modtest import _g\\n_g(5)',\n",
       " '_i1': '# %load mymath.py\\n\"\"\"mymath - our example math module\"\"\"\\npi = 3.14159\\ndef area(r):\\n  \"\"\"area(r): return the area of a circle with radius r.\"\"\"\\n  global pi\\n  return(pi * r * r)',\n",
       " '_i10': 'mymath.area.__doc__',\n",
       " '_i11': 'from mymath import pi\\npi',\n",
       " '_i12': 'area(2)',\n",
       " '_i13': 'import mymath, imp\\nimp.reload(mymath)',\n",
       " '_i14': 'import os',\n",
       " '_i15': 'import os\\nos.path',\n",
       " '_i16': 'import sys\\nsys.path',\n",
       " '_i17': \"sys.path.append('C:\\\\Anaconda2\\\\mymodules')\",\n",
       " '_i18': 'sys.path',\n",
       " '_i19': 'from modtest import *',\n",
       " '_i2': 'pi',\n",
       " '_i20': 'f(3)',\n",
       " '_i21': '_g(3)',\n",
       " '_i22': 'a',\n",
       " '_i23': '_b',\n",
       " '_i24': 'import modtest\\nmodtest._b',\n",
       " '_i25': '%load modtest.py',\n",
       " '_i26': 'from modtest import *',\n",
       " '_i27': 'f(3)',\n",
       " '_i28': '_g(3)',\n",
       " '_i29': 'a',\n",
       " '_i3': 'area(2)',\n",
       " '_i30': '_b',\n",
       " '_i31': 'import modtest\\nmodtest._b',\n",
       " '_i32': 'from modtest import _g\\n_g(5)',\n",
       " '_i33': 'locals()',\n",
       " '_i4': 'import mymath',\n",
       " '_i5': 'pi?',\n",
       " '_i6': 'pi',\n",
       " '_i7': ' mymath.pi',\n",
       " '_i8': 'mymath.area(2)',\n",
       " '_i9': 'mymath.__doc__',\n",
       " '_ih': ['',\n",
       "  '# %load mymath.py\\n\"\"\"mymath - our example math module\"\"\"\\npi = 3.14159\\ndef area(r):\\n  \"\"\"area(r): return the area of a circle with radius r.\"\"\"\\n  global pi\\n  return(pi * r * r)',\n",
       "  'pi',\n",
       "  'area(2)',\n",
       "  'import mymath',\n",
       "  \"get_ipython().magic('pinfo pi')\",\n",
       "  'pi',\n",
       "  'mymath.pi',\n",
       "  'mymath.area(2)',\n",
       "  'mymath.__doc__',\n",
       "  'mymath.area.__doc__',\n",
       "  'from mymath import pi\\npi',\n",
       "  'area(2)',\n",
       "  'import mymath, imp\\nimp.reload(mymath)',\n",
       "  'import os',\n",
       "  'import os\\nos.path',\n",
       "  'import sys\\nsys.path',\n",
       "  \"sys.path.append('C:\\\\Anaconda2\\\\mymodules')\",\n",
       "  'sys.path',\n",
       "  'from modtest import *',\n",
       "  'f(3)',\n",
       "  '_g(3)',\n",
       "  'a',\n",
       "  '_b',\n",
       "  'import modtest\\nmodtest._b',\n",
       "  \"get_ipython().magic('load modtest.py')\",\n",
       "  'from modtest import *',\n",
       "  'f(3)',\n",
       "  '_g(3)',\n",
       "  'a',\n",
       "  '_b',\n",
       "  'import modtest\\nmodtest._b',\n",
       "  'from modtest import _g\\n_g(5)',\n",
       "  'locals()'],\n",
       " '_ii': 'import modtest\\nmodtest._b',\n",
       " '_iii': '_b',\n",
       " '_oh': {2: 3.14159,\n",
       "  3: 12.56636,\n",
       "  6: 3.14159,\n",
       "  7: 3.14159,\n",
       "  8: 12.56636,\n",
       "  9: 'mymath - our example math module',\n",
       "  10: 'area(r): return the area of a circle with radius r.',\n",
       "  11: 3.14159,\n",
       "  12: 12.56636,\n",
       "  13: <module 'mymath' from 'D:\\\\BOOKS\\\\PYTHON\\\\The Quick Python Book(Ceder)2ed\\\\SF_QPB\\\\ch10\\\\mymath.py'>,\n",
       "  15: <module 'ntpath' from 'C:\\\\Anaconda3\\\\lib\\\\ntpath.py'>,\n",
       "  16: ['',\n",
       "   'C:\\\\Anaconda3\\\\python35.zip',\n",
       "   'C:\\\\Anaconda3\\\\DLLs',\n",
       "   'C:\\\\Anaconda3\\\\lib',\n",
       "   'C:\\\\Anaconda3',\n",
       "   'c:\\\\anaconda3\\\\lib\\\\site-packages\\\\setuptools-20.3-py3.5.egg',\n",
       "   'C:\\\\Anaconda3\\\\lib\\\\site-packages',\n",
       "   'C:\\\\Anaconda3\\\\lib\\\\site-packages\\\\Sphinx-1.3.5-py3.5.egg',\n",
       "   'C:\\\\Anaconda3\\\\lib\\\\site-packages\\\\win32',\n",
       "   'C:\\\\Anaconda3\\\\lib\\\\site-packages\\\\win32\\\\lib',\n",
       "   'C:\\\\Anaconda3\\\\lib\\\\site-packages\\\\Pythonwin',\n",
       "   'C:\\\\Anaconda3\\\\lib\\\\site-packages\\\\IPython\\\\extensions',\n",
       "   'C:\\\\Users\\\\AaronHsu\\\\.ipython',\n",
       "   'C:\\\\Anaconda2\\\\mymodules'],\n",
       "  18: ['',\n",
       "   'C:\\\\Anaconda3\\\\python35.zip',\n",
       "   'C:\\\\Anaconda3\\\\DLLs',\n",
       "   'C:\\\\Anaconda3\\\\lib',\n",
       "   'C:\\\\Anaconda3',\n",
       "   'c:\\\\anaconda3\\\\lib\\\\site-packages\\\\setuptools-20.3-py3.5.egg',\n",
       "   'C:\\\\Anaconda3\\\\lib\\\\site-packages',\n",
       "   'C:\\\\Anaconda3\\\\lib\\\\site-packages\\\\Sphinx-1.3.5-py3.5.egg',\n",
       "   'C:\\\\Anaconda3\\\\lib\\\\site-packages\\\\win32',\n",
       "   'C:\\\\Anaconda3\\\\lib\\\\site-packages\\\\win32\\\\lib',\n",
       "   'C:\\\\Anaconda3\\\\lib\\\\site-packages\\\\Pythonwin',\n",
       "   'C:\\\\Anaconda3\\\\lib\\\\site-packages\\\\IPython\\\\extensions',\n",
       "   'C:\\\\Users\\\\AaronHsu\\\\.ipython',\n",
       "   'C:\\\\Anaconda2\\\\mymodules'],\n",
       "  20: 3,\n",
       "  22: 4,\n",
       "  24: 2,\n",
       "  27: 3,\n",
       "  29: 4,\n",
       "  31: 2,\n",
       "  32: 5},\n",
       " '_sh': <module 'IPython.core.shadowns' from 'C:\\\\Anaconda3\\\\lib\\\\site-packages\\\\IPython\\\\core\\\\shadowns.py'>,\n",
       " 'a': 4,\n",
       " 'area': <function __main__.area>,\n",
       " 'exit': <IPython.core.autocall.ZMQExitAutocall at 0x16186305f8>,\n",
       " 'f': <function modtest.f>,\n",
       " 'get_ipython': <bound method InteractiveShell.get_ipython of <ipykernel.zmqshell.ZMQInteractiveShell object at 0x00000016179D3AC8>>,\n",
       " 'imp': <module 'imp' from 'C:\\\\Anaconda3\\\\lib\\\\imp.py'>,\n",
       " 'modtest': <module 'modtest' from 'C:\\\\Anaconda2\\\\mymodules\\\\modtest.py'>,\n",
       " 'mymath': <module 'mymath' from 'D:\\\\BOOKS\\\\PYTHON\\\\The Quick Python Book(Ceder)2ed\\\\SF_QPB\\\\ch10\\\\mymath.py'>,\n",
       " 'os': <module 'os' from 'C:\\\\Anaconda3\\\\lib\\\\os.py'>,\n",
       " 'pi': 3.14159,\n",
       " 'quit': <IPython.core.autocall.ZMQExitAutocall at 0x16186305f8>,\n",
       " 'sys': <module 'sys' (built-in)>}"
      ]
     },
     "execution_count": 33,
     "metadata": {},
     "output_type": "execute_result"
    }
   ],
   "source": [
    "locals()"
   ]
  },
  {
   "cell_type": "code",
   "execution_count": 34,
   "metadata": {
    "collapsed": true
   },
   "outputs": [
    {
     "data": {
      "text/plain": [
       "{'In': ['',\n",
       "  '# %load mymath.py\\n\"\"\"mymath - our example math module\"\"\"\\npi = 3.14159\\ndef area(r):\\n  \"\"\"area(r): return the area of a circle with radius r.\"\"\"\\n  global pi\\n  return(pi * r * r)',\n",
       "  'pi',\n",
       "  'area(2)',\n",
       "  'import mymath',\n",
       "  \"get_ipython().magic('pinfo pi')\",\n",
       "  'pi',\n",
       "  'mymath.pi',\n",
       "  'mymath.area(2)',\n",
       "  'mymath.__doc__',\n",
       "  'mymath.area.__doc__',\n",
       "  'from mymath import pi\\npi',\n",
       "  'area(2)',\n",
       "  'import mymath, imp\\nimp.reload(mymath)',\n",
       "  'import os',\n",
       "  'import os\\nos.path',\n",
       "  'import sys\\nsys.path',\n",
       "  \"sys.path.append('C:\\\\Anaconda2\\\\mymodules')\",\n",
       "  'sys.path',\n",
       "  'from modtest import *',\n",
       "  'f(3)',\n",
       "  '_g(3)',\n",
       "  'a',\n",
       "  '_b',\n",
       "  'import modtest\\nmodtest._b',\n",
       "  \"get_ipython().magic('load modtest.py')\",\n",
       "  'from modtest import *',\n",
       "  'f(3)',\n",
       "  '_g(3)',\n",
       "  'a',\n",
       "  '_b',\n",
       "  'import modtest\\nmodtest._b',\n",
       "  'from modtest import _g\\n_g(5)',\n",
       "  'locals()',\n",
       "  'globals()'],\n",
       " 'Out': {2: 3.14159,\n",
       "  3: 12.56636,\n",
       "  6: 3.14159,\n",
       "  7: 3.14159,\n",
       "  8: 12.56636,\n",
       "  9: 'mymath - our example math module',\n",
       "  10: 'area(r): return the area of a circle with radius r.',\n",
       "  11: 3.14159,\n",
       "  12: 12.56636,\n",
       "  13: <module 'mymath' from 'D:\\\\BOOKS\\\\PYTHON\\\\The Quick Python Book(Ceder)2ed\\\\SF_QPB\\\\ch10\\\\mymath.py'>,\n",
       "  15: <module 'ntpath' from 'C:\\\\Anaconda3\\\\lib\\\\ntpath.py'>,\n",
       "  16: ['',\n",
       "   'C:\\\\Anaconda3\\\\python35.zip',\n",
       "   'C:\\\\Anaconda3\\\\DLLs',\n",
       "   'C:\\\\Anaconda3\\\\lib',\n",
       "   'C:\\\\Anaconda3',\n",
       "   'c:\\\\anaconda3\\\\lib\\\\site-packages\\\\setuptools-20.3-py3.5.egg',\n",
       "   'C:\\\\Anaconda3\\\\lib\\\\site-packages',\n",
       "   'C:\\\\Anaconda3\\\\lib\\\\site-packages\\\\Sphinx-1.3.5-py3.5.egg',\n",
       "   'C:\\\\Anaconda3\\\\lib\\\\site-packages\\\\win32',\n",
       "   'C:\\\\Anaconda3\\\\lib\\\\site-packages\\\\win32\\\\lib',\n",
       "   'C:\\\\Anaconda3\\\\lib\\\\site-packages\\\\Pythonwin',\n",
       "   'C:\\\\Anaconda3\\\\lib\\\\site-packages\\\\IPython\\\\extensions',\n",
       "   'C:\\\\Users\\\\AaronHsu\\\\.ipython',\n",
       "   'C:\\\\Anaconda2\\\\mymodules'],\n",
       "  18: ['',\n",
       "   'C:\\\\Anaconda3\\\\python35.zip',\n",
       "   'C:\\\\Anaconda3\\\\DLLs',\n",
       "   'C:\\\\Anaconda3\\\\lib',\n",
       "   'C:\\\\Anaconda3',\n",
       "   'c:\\\\anaconda3\\\\lib\\\\site-packages\\\\setuptools-20.3-py3.5.egg',\n",
       "   'C:\\\\Anaconda3\\\\lib\\\\site-packages',\n",
       "   'C:\\\\Anaconda3\\\\lib\\\\site-packages\\\\Sphinx-1.3.5-py3.5.egg',\n",
       "   'C:\\\\Anaconda3\\\\lib\\\\site-packages\\\\win32',\n",
       "   'C:\\\\Anaconda3\\\\lib\\\\site-packages\\\\win32\\\\lib',\n",
       "   'C:\\\\Anaconda3\\\\lib\\\\site-packages\\\\Pythonwin',\n",
       "   'C:\\\\Anaconda3\\\\lib\\\\site-packages\\\\IPython\\\\extensions',\n",
       "   'C:\\\\Users\\\\AaronHsu\\\\.ipython',\n",
       "   'C:\\\\Anaconda2\\\\mymodules'],\n",
       "  20: 3,\n",
       "  22: 4,\n",
       "  24: 2,\n",
       "  27: 3,\n",
       "  29: 4,\n",
       "  31: 2,\n",
       "  32: 5,\n",
       "  33: {...}},\n",
       " '_': {...},\n",
       " '_10': 'area(r): return the area of a circle with radius r.',\n",
       " '_11': 3.14159,\n",
       " '_12': 12.56636,\n",
       " '_13': <module 'mymath' from 'D:\\\\BOOKS\\\\PYTHON\\\\The Quick Python Book(Ceder)2ed\\\\SF_QPB\\\\ch10\\\\mymath.py'>,\n",
       " '_15': <module 'ntpath' from 'C:\\\\Anaconda3\\\\lib\\\\ntpath.py'>,\n",
       " '_16': ['',\n",
       "  'C:\\\\Anaconda3\\\\python35.zip',\n",
       "  'C:\\\\Anaconda3\\\\DLLs',\n",
       "  'C:\\\\Anaconda3\\\\lib',\n",
       "  'C:\\\\Anaconda3',\n",
       "  'c:\\\\anaconda3\\\\lib\\\\site-packages\\\\setuptools-20.3-py3.5.egg',\n",
       "  'C:\\\\Anaconda3\\\\lib\\\\site-packages',\n",
       "  'C:\\\\Anaconda3\\\\lib\\\\site-packages\\\\Sphinx-1.3.5-py3.5.egg',\n",
       "  'C:\\\\Anaconda3\\\\lib\\\\site-packages\\\\win32',\n",
       "  'C:\\\\Anaconda3\\\\lib\\\\site-packages\\\\win32\\\\lib',\n",
       "  'C:\\\\Anaconda3\\\\lib\\\\site-packages\\\\Pythonwin',\n",
       "  'C:\\\\Anaconda3\\\\lib\\\\site-packages\\\\IPython\\\\extensions',\n",
       "  'C:\\\\Users\\\\AaronHsu\\\\.ipython',\n",
       "  'C:\\\\Anaconda2\\\\mymodules'],\n",
       " '_18': ['',\n",
       "  'C:\\\\Anaconda3\\\\python35.zip',\n",
       "  'C:\\\\Anaconda3\\\\DLLs',\n",
       "  'C:\\\\Anaconda3\\\\lib',\n",
       "  'C:\\\\Anaconda3',\n",
       "  'c:\\\\anaconda3\\\\lib\\\\site-packages\\\\setuptools-20.3-py3.5.egg',\n",
       "  'C:\\\\Anaconda3\\\\lib\\\\site-packages',\n",
       "  'C:\\\\Anaconda3\\\\lib\\\\site-packages\\\\Sphinx-1.3.5-py3.5.egg',\n",
       "  'C:\\\\Anaconda3\\\\lib\\\\site-packages\\\\win32',\n",
       "  'C:\\\\Anaconda3\\\\lib\\\\site-packages\\\\win32\\\\lib',\n",
       "  'C:\\\\Anaconda3\\\\lib\\\\site-packages\\\\Pythonwin',\n",
       "  'C:\\\\Anaconda3\\\\lib\\\\site-packages\\\\IPython\\\\extensions',\n",
       "  'C:\\\\Users\\\\AaronHsu\\\\.ipython',\n",
       "  'C:\\\\Anaconda2\\\\mymodules'],\n",
       " '_2': 3.14159,\n",
       " '_20': 3,\n",
       " '_22': 4,\n",
       " '_24': 2,\n",
       " '_27': 3,\n",
       " '_29': 4,\n",
       " '_3': 12.56636,\n",
       " '_31': 2,\n",
       " '_32': 5,\n",
       " '_33': {...},\n",
       " '_6': 3.14159,\n",
       " '_7': 3.14159,\n",
       " '_8': 12.56636,\n",
       " '_9': 'mymath - our example math module',\n",
       " '__': 5,\n",
       " '___': 2,\n",
       " '__builtin__': <module 'builtins' (built-in)>,\n",
       " '__builtins__': <module 'builtins' (built-in)>,\n",
       " '__doc__': 'mymath - our example math module',\n",
       " '__loader__': None,\n",
       " '__name__': '__main__',\n",
       " '__package__': None,\n",
       " '__spec__': None,\n",
       " '_dh': ['D:\\\\BOOKS\\\\PYTHON\\\\The Quick Python Book(Ceder)2ed\\\\SF_QPB\\\\ch10'],\n",
       " '_g': <function modtest._g>,\n",
       " '_i': 'locals()',\n",
       " '_i1': '# %load mymath.py\\n\"\"\"mymath - our example math module\"\"\"\\npi = 3.14159\\ndef area(r):\\n  \"\"\"area(r): return the area of a circle with radius r.\"\"\"\\n  global pi\\n  return(pi * r * r)',\n",
       " '_i10': 'mymath.area.__doc__',\n",
       " '_i11': 'from mymath import pi\\npi',\n",
       " '_i12': 'area(2)',\n",
       " '_i13': 'import mymath, imp\\nimp.reload(mymath)',\n",
       " '_i14': 'import os',\n",
       " '_i15': 'import os\\nos.path',\n",
       " '_i16': 'import sys\\nsys.path',\n",
       " '_i17': \"sys.path.append('C:\\\\Anaconda2\\\\mymodules')\",\n",
       " '_i18': 'sys.path',\n",
       " '_i19': 'from modtest import *',\n",
       " '_i2': 'pi',\n",
       " '_i20': 'f(3)',\n",
       " '_i21': '_g(3)',\n",
       " '_i22': 'a',\n",
       " '_i23': '_b',\n",
       " '_i24': 'import modtest\\nmodtest._b',\n",
       " '_i25': '%load modtest.py',\n",
       " '_i26': 'from modtest import *',\n",
       " '_i27': 'f(3)',\n",
       " '_i28': '_g(3)',\n",
       " '_i29': 'a',\n",
       " '_i3': 'area(2)',\n",
       " '_i30': '_b',\n",
       " '_i31': 'import modtest\\nmodtest._b',\n",
       " '_i32': 'from modtest import _g\\n_g(5)',\n",
       " '_i33': 'locals()',\n",
       " '_i34': 'globals()',\n",
       " '_i4': 'import mymath',\n",
       " '_i5': 'pi?',\n",
       " '_i6': 'pi',\n",
       " '_i7': ' mymath.pi',\n",
       " '_i8': 'mymath.area(2)',\n",
       " '_i9': 'mymath.__doc__',\n",
       " '_ih': ['',\n",
       "  '# %load mymath.py\\n\"\"\"mymath - our example math module\"\"\"\\npi = 3.14159\\ndef area(r):\\n  \"\"\"area(r): return the area of a circle with radius r.\"\"\"\\n  global pi\\n  return(pi * r * r)',\n",
       "  'pi',\n",
       "  'area(2)',\n",
       "  'import mymath',\n",
       "  \"get_ipython().magic('pinfo pi')\",\n",
       "  'pi',\n",
       "  'mymath.pi',\n",
       "  'mymath.area(2)',\n",
       "  'mymath.__doc__',\n",
       "  'mymath.area.__doc__',\n",
       "  'from mymath import pi\\npi',\n",
       "  'area(2)',\n",
       "  'import mymath, imp\\nimp.reload(mymath)',\n",
       "  'import os',\n",
       "  'import os\\nos.path',\n",
       "  'import sys\\nsys.path',\n",
       "  \"sys.path.append('C:\\\\Anaconda2\\\\mymodules')\",\n",
       "  'sys.path',\n",
       "  'from modtest import *',\n",
       "  'f(3)',\n",
       "  '_g(3)',\n",
       "  'a',\n",
       "  '_b',\n",
       "  'import modtest\\nmodtest._b',\n",
       "  \"get_ipython().magic('load modtest.py')\",\n",
       "  'from modtest import *',\n",
       "  'f(3)',\n",
       "  '_g(3)',\n",
       "  'a',\n",
       "  '_b',\n",
       "  'import modtest\\nmodtest._b',\n",
       "  'from modtest import _g\\n_g(5)',\n",
       "  'locals()',\n",
       "  'globals()'],\n",
       " '_ii': 'from modtest import _g\\n_g(5)',\n",
       " '_iii': 'import modtest\\nmodtest._b',\n",
       " '_oh': {2: 3.14159,\n",
       "  3: 12.56636,\n",
       "  6: 3.14159,\n",
       "  7: 3.14159,\n",
       "  8: 12.56636,\n",
       "  9: 'mymath - our example math module',\n",
       "  10: 'area(r): return the area of a circle with radius r.',\n",
       "  11: 3.14159,\n",
       "  12: 12.56636,\n",
       "  13: <module 'mymath' from 'D:\\\\BOOKS\\\\PYTHON\\\\The Quick Python Book(Ceder)2ed\\\\SF_QPB\\\\ch10\\\\mymath.py'>,\n",
       "  15: <module 'ntpath' from 'C:\\\\Anaconda3\\\\lib\\\\ntpath.py'>,\n",
       "  16: ['',\n",
       "   'C:\\\\Anaconda3\\\\python35.zip',\n",
       "   'C:\\\\Anaconda3\\\\DLLs',\n",
       "   'C:\\\\Anaconda3\\\\lib',\n",
       "   'C:\\\\Anaconda3',\n",
       "   'c:\\\\anaconda3\\\\lib\\\\site-packages\\\\setuptools-20.3-py3.5.egg',\n",
       "   'C:\\\\Anaconda3\\\\lib\\\\site-packages',\n",
       "   'C:\\\\Anaconda3\\\\lib\\\\site-packages\\\\Sphinx-1.3.5-py3.5.egg',\n",
       "   'C:\\\\Anaconda3\\\\lib\\\\site-packages\\\\win32',\n",
       "   'C:\\\\Anaconda3\\\\lib\\\\site-packages\\\\win32\\\\lib',\n",
       "   'C:\\\\Anaconda3\\\\lib\\\\site-packages\\\\Pythonwin',\n",
       "   'C:\\\\Anaconda3\\\\lib\\\\site-packages\\\\IPython\\\\extensions',\n",
       "   'C:\\\\Users\\\\AaronHsu\\\\.ipython',\n",
       "   'C:\\\\Anaconda2\\\\mymodules'],\n",
       "  18: ['',\n",
       "   'C:\\\\Anaconda3\\\\python35.zip',\n",
       "   'C:\\\\Anaconda3\\\\DLLs',\n",
       "   'C:\\\\Anaconda3\\\\lib',\n",
       "   'C:\\\\Anaconda3',\n",
       "   'c:\\\\anaconda3\\\\lib\\\\site-packages\\\\setuptools-20.3-py3.5.egg',\n",
       "   'C:\\\\Anaconda3\\\\lib\\\\site-packages',\n",
       "   'C:\\\\Anaconda3\\\\lib\\\\site-packages\\\\Sphinx-1.3.5-py3.5.egg',\n",
       "   'C:\\\\Anaconda3\\\\lib\\\\site-packages\\\\win32',\n",
       "   'C:\\\\Anaconda3\\\\lib\\\\site-packages\\\\win32\\\\lib',\n",
       "   'C:\\\\Anaconda3\\\\lib\\\\site-packages\\\\Pythonwin',\n",
       "   'C:\\\\Anaconda3\\\\lib\\\\site-packages\\\\IPython\\\\extensions',\n",
       "   'C:\\\\Users\\\\AaronHsu\\\\.ipython',\n",
       "   'C:\\\\Anaconda2\\\\mymodules'],\n",
       "  20: 3,\n",
       "  22: 4,\n",
       "  24: 2,\n",
       "  27: 3,\n",
       "  29: 4,\n",
       "  31: 2,\n",
       "  32: 5,\n",
       "  33: {...}},\n",
       " '_sh': <module 'IPython.core.shadowns' from 'C:\\\\Anaconda3\\\\lib\\\\site-packages\\\\IPython\\\\core\\\\shadowns.py'>,\n",
       " 'a': 4,\n",
       " 'area': <function __main__.area>,\n",
       " 'exit': <IPython.core.autocall.ZMQExitAutocall at 0x16186305f8>,\n",
       " 'f': <function modtest.f>,\n",
       " 'get_ipython': <bound method InteractiveShell.get_ipython of <ipykernel.zmqshell.ZMQInteractiveShell object at 0x00000016179D3AC8>>,\n",
       " 'imp': <module 'imp' from 'C:\\\\Anaconda3\\\\lib\\\\imp.py'>,\n",
       " 'modtest': <module 'modtest' from 'C:\\\\Anaconda2\\\\mymodules\\\\modtest.py'>,\n",
       " 'mymath': <module 'mymath' from 'D:\\\\BOOKS\\\\PYTHON\\\\The Quick Python Book(Ceder)2ed\\\\SF_QPB\\\\ch10\\\\mymath.py'>,\n",
       " 'os': <module 'os' from 'C:\\\\Anaconda3\\\\lib\\\\os.py'>,\n",
       " 'pi': 3.14159,\n",
       " 'quit': <IPython.core.autocall.ZMQExitAutocall at 0x16186305f8>,\n",
       " 'sys': <module 'sys' (built-in)>}"
      ]
     },
     "execution_count": 34,
     "metadata": {},
     "output_type": "execute_result"
    }
   ],
   "source": [
    "globals()"
   ]
  },
  {
   "cell_type": "code",
   "execution_count": 35,
   "metadata": {
    "collapsed": false
   },
   "outputs": [
    {
     "ename": "SyntaxError",
     "evalue": "invalid syntax (scopetest.py, line 6)",
     "output_type": "error",
     "traceback": [
      "\u001b[1;36m  File \u001b[1;32m\"C:\\Anaconda2\\mymodules\\scopetest.py\"\u001b[1;36m, line \u001b[1;32m6\u001b[0m\n\u001b[1;33m    print \"global: \", globals().keys()\u001b[0m\n\u001b[1;37m                   ^\u001b[0m\n\u001b[1;31mSyntaxError\u001b[0m\u001b[1;31m:\u001b[0m invalid syntax\n"
     ]
    }
   ],
   "source": [
    "import scopetest\n",
    "z = 2\n",
    "scopetest.f(z)"
   ]
  },
  {
   "cell_type": "code",
   "execution_count": 36,
   "metadata": {
    "collapsed": true
   },
   "outputs": [
    {
     "data": {
      "text/plain": [
       "['ArithmeticError',\n",
       " 'AssertionError',\n",
       " 'AttributeError',\n",
       " 'BaseException',\n",
       " 'BlockingIOError',\n",
       " 'BrokenPipeError',\n",
       " 'BufferError',\n",
       " 'BytesWarning',\n",
       " 'ChildProcessError',\n",
       " 'ConnectionAbortedError',\n",
       " 'ConnectionError',\n",
       " 'ConnectionRefusedError',\n",
       " 'ConnectionResetError',\n",
       " 'DeprecationWarning',\n",
       " 'EOFError',\n",
       " 'Ellipsis',\n",
       " 'EnvironmentError',\n",
       " 'Exception',\n",
       " 'False',\n",
       " 'FileExistsError',\n",
       " 'FileNotFoundError',\n",
       " 'FloatingPointError',\n",
       " 'FutureWarning',\n",
       " 'GeneratorExit',\n",
       " 'IOError',\n",
       " 'ImportError',\n",
       " 'ImportWarning',\n",
       " 'IndentationError',\n",
       " 'IndexError',\n",
       " 'InterruptedError',\n",
       " 'IsADirectoryError',\n",
       " 'KeyError',\n",
       " 'KeyboardInterrupt',\n",
       " 'LookupError',\n",
       " 'MemoryError',\n",
       " 'NameError',\n",
       " 'None',\n",
       " 'NotADirectoryError',\n",
       " 'NotImplemented',\n",
       " 'NotImplementedError',\n",
       " 'OSError',\n",
       " 'OverflowError',\n",
       " 'PendingDeprecationWarning',\n",
       " 'PermissionError',\n",
       " 'ProcessLookupError',\n",
       " 'RecursionError',\n",
       " 'ReferenceError',\n",
       " 'ResourceWarning',\n",
       " 'RuntimeError',\n",
       " 'RuntimeWarning',\n",
       " 'StopAsyncIteration',\n",
       " 'StopIteration',\n",
       " 'SyntaxError',\n",
       " 'SyntaxWarning',\n",
       " 'SystemError',\n",
       " 'SystemExit',\n",
       " 'TabError',\n",
       " 'TimeoutError',\n",
       " 'True',\n",
       " 'TypeError',\n",
       " 'UnboundLocalError',\n",
       " 'UnicodeDecodeError',\n",
       " 'UnicodeEncodeError',\n",
       " 'UnicodeError',\n",
       " 'UnicodeTranslateError',\n",
       " 'UnicodeWarning',\n",
       " 'UserWarning',\n",
       " 'ValueError',\n",
       " 'Warning',\n",
       " 'WindowsError',\n",
       " 'ZeroDivisionError',\n",
       " '__IPYTHON__',\n",
       " '__IPYTHON__active',\n",
       " '__build_class__',\n",
       " '__debug__',\n",
       " '__doc__',\n",
       " '__import__',\n",
       " '__loader__',\n",
       " '__name__',\n",
       " '__package__',\n",
       " '__spec__',\n",
       " 'abs',\n",
       " 'all',\n",
       " 'any',\n",
       " 'ascii',\n",
       " 'bin',\n",
       " 'bool',\n",
       " 'bytearray',\n",
       " 'bytes',\n",
       " 'callable',\n",
       " 'chr',\n",
       " 'classmethod',\n",
       " 'compile',\n",
       " 'complex',\n",
       " 'copyright',\n",
       " 'credits',\n",
       " 'delattr',\n",
       " 'dict',\n",
       " 'dir',\n",
       " 'divmod',\n",
       " 'dreload',\n",
       " 'enumerate',\n",
       " 'eval',\n",
       " 'exec',\n",
       " 'filter',\n",
       " 'float',\n",
       " 'format',\n",
       " 'frozenset',\n",
       " 'get_ipython',\n",
       " 'getattr',\n",
       " 'globals',\n",
       " 'hasattr',\n",
       " 'hash',\n",
       " 'help',\n",
       " 'hex',\n",
       " 'id',\n",
       " 'input',\n",
       " 'int',\n",
       " 'isinstance',\n",
       " 'issubclass',\n",
       " 'iter',\n",
       " 'len',\n",
       " 'license',\n",
       " 'list',\n",
       " 'locals',\n",
       " 'map',\n",
       " 'max',\n",
       " 'memoryview',\n",
       " 'min',\n",
       " 'next',\n",
       " 'object',\n",
       " 'oct',\n",
       " 'open',\n",
       " 'ord',\n",
       " 'pow',\n",
       " 'print',\n",
       " 'property',\n",
       " 'range',\n",
       " 'repr',\n",
       " 'reversed',\n",
       " 'round',\n",
       " 'set',\n",
       " 'setattr',\n",
       " 'slice',\n",
       " 'sorted',\n",
       " 'staticmethod',\n",
       " 'str',\n",
       " 'sum',\n",
       " 'super',\n",
       " 'tuple',\n",
       " 'type',\n",
       " 'vars',\n",
       " 'zip']"
      ]
     },
     "execution_count": 36,
     "metadata": {},
     "output_type": "execute_result"
    }
   ],
   "source": [
    "dir(__builtins__)"
   ]
  },
  {
   "cell_type": "code",
   "execution_count": 37,
   "metadata": {
    "collapsed": false
   },
   "outputs": [
    {
     "name": "stdout",
     "output_type": "stream",
     "text": [
      "max(iterable, *[, default=obj, key=func]) -> value\n",
      "max(arg1, arg2, *args, *[, key=func]) -> value\n",
      "\n",
      "With a single iterable argument, return its biggest item. The\n",
      "default keyword-only argument specifies an object to return if\n",
      "the provided iterable is empty.\n",
      "With two or more arguments, return the largest argument.\n"
     ]
    }
   ],
   "source": [
    "print(max.__doc__)"
   ]
  },
  {
   "cell_type": "code",
   "execution_count": 38,
   "metadata": {
    "collapsed": false
   },
   "outputs": [
    {
     "data": {
      "text/plain": [
       "['P', 'e', 'y', 't', 'o', ' ', 'L', 'a', 'k', 'e']"
      ]
     },
     "execution_count": 38,
     "metadata": {},
     "output_type": "execute_result"
    }
   ],
   "source": [
    " list(\"Peyto Lake\")"
   ]
  },
  {
   "cell_type": "code",
   "execution_count": 39,
   "metadata": {
    "collapsed": false
   },
   "outputs": [
    {
     "ename": "TypeError",
     "evalue": "'list' object is not callable",
     "output_type": "error",
     "traceback": [
      "\u001b[1;31m---------------------------------------------------------------------------\u001b[0m",
      "\u001b[1;31mTypeError\u001b[0m                                 Traceback (most recent call last)",
      "\u001b[1;32m<ipython-input-39-3a16c0547af6>\u001b[0m in \u001b[0;36m<module>\u001b[1;34m()\u001b[0m\n\u001b[0;32m      1\u001b[0m \u001b[0mlist\u001b[0m \u001b[1;33m=\u001b[0m \u001b[1;33m[\u001b[0m\u001b[1;36m1\u001b[0m\u001b[1;33m,\u001b[0m \u001b[1;36m3\u001b[0m\u001b[1;33m,\u001b[0m \u001b[1;36m5\u001b[0m\u001b[1;33m,\u001b[0m \u001b[1;36m7\u001b[0m\u001b[1;33m]\u001b[0m\u001b[1;33m\u001b[0m\u001b[0m\n\u001b[1;32m----> 2\u001b[1;33m \u001b[0mlist\u001b[0m\u001b[1;33m(\u001b[0m\u001b[1;34m\"Peyto Lake\"\u001b[0m\u001b[1;33m)\u001b[0m\u001b[1;33m\u001b[0m\u001b[0m\n\u001b[0m",
      "\u001b[1;31mTypeError\u001b[0m: 'list' object is not callable"
     ]
    }
   ],
   "source": [
    "list = [1, 3, 5, 7]\n",
    "list(\"Peyto Lake\")"
   ]
  },
  {
   "cell_type": "code",
   "execution_count": 40,
   "metadata": {
    "collapsed": false
   },
   "outputs": [
    {
     "ename": "AttributeError",
     "evalue": "'function' object has no attribute 'pi'",
     "output_type": "error",
     "traceback": [
      "\u001b[1;31m---------------------------------------------------------------------------\u001b[0m",
      "\u001b[1;31mAttributeError\u001b[0m                            Traceback (most recent call last)",
      "\u001b[1;32m<ipython-input-40-11fbb4129721>\u001b[0m in \u001b[0;36m<module>\u001b[1;34m()\u001b[0m\n\u001b[0;32m      1\u001b[0m \u001b[1;32mimport\u001b[0m \u001b[0mmymath\u001b[0m\u001b[1;33m\u001b[0m\u001b[0m\n\u001b[0;32m      2\u001b[0m \u001b[0mmymath\u001b[0m \u001b[1;33m=\u001b[0m \u001b[0mmymath\u001b[0m\u001b[1;33m.\u001b[0m\u001b[0marea\u001b[0m\u001b[1;33m\u001b[0m\u001b[0m\n\u001b[1;32m----> 3\u001b[1;33m \u001b[0mmymath\u001b[0m\u001b[1;33m.\u001b[0m\u001b[0mpi\u001b[0m\u001b[1;33m\u001b[0m\u001b[0m\n\u001b[0m",
      "\u001b[1;31mAttributeError\u001b[0m: 'function' object has no attribute 'pi'"
     ]
    }
   ],
   "source": [
    "import mymath\n",
    "mymath = mymath.area\n",
    "mymath.pi"
   ]
  },
  {
   "cell_type": "code",
   "execution_count": 42,
   "metadata": {
    "collapsed": false
   },
   "outputs": [
    {
     "ename": "NameError",
     "evalue": "name 'list' is not defined",
     "output_type": "error",
     "traceback": [
      "\u001b[1;31m---------------------------------------------------------------------------\u001b[0m",
      "\u001b[1;31mNameError\u001b[0m                                 Traceback (most recent call last)",
      "\u001b[1;32m<ipython-input-42-6f198e1247d7>\u001b[0m in \u001b[0;36m<module>\u001b[1;34m()\u001b[0m\n\u001b[1;32m----> 1\u001b[1;33m \u001b[1;32mdel\u001b[0m \u001b[0mlist\u001b[0m\u001b[1;33m\u001b[0m\u001b[0m\n\u001b[0m\u001b[0;32m      2\u001b[0m \u001b[0mlist\u001b[0m\u001b[1;33m(\u001b[0m\u001b[1;34m\"Peyto Lake\"\u001b[0m\u001b[1;33m)\u001b[0m\u001b[1;33m\u001b[0m\u001b[0m\n",
      "\u001b[1;31mNameError\u001b[0m: name 'list' is not defined"
     ]
    }
   ],
   "source": [
    "del list\n",
    "list(\"Peyto Lake\")"
   ]
  },
  {
   "cell_type": "code",
   "execution_count": 43,
   "metadata": {
    "collapsed": false
   },
   "outputs": [
    {
     "data": {
      "text/plain": [
       "3.14159"
      ]
     },
     "execution_count": 43,
     "metadata": {},
     "output_type": "execute_result"
    }
   ],
   "source": [
    "import mymath\n",
    "mymath.pi"
   ]
  },
  {
   "cell_type": "code",
   "execution_count": 44,
   "metadata": {
    "collapsed": false
   },
   "outputs": [
    {
     "data": {
      "text/plain": [
       "6"
      ]
     },
     "execution_count": 44,
     "metadata": {},
     "output_type": "execute_result"
    }
   ],
   "source": [
    "x1 = 6\n",
    "xl = x1 - 2\n",
    "x1"
   ]
  },
  {
   "cell_type": "code",
   "execution_count": 45,
   "metadata": {
    "collapsed": true
   },
   "outputs": [
    {
     "data": {
      "text/plain": [
       "['In',\n",
       " 'Out',\n",
       " '_',\n",
       " '_10',\n",
       " '_11',\n",
       " '_12',\n",
       " '_13',\n",
       " '_15',\n",
       " '_16',\n",
       " '_18',\n",
       " '_2',\n",
       " '_20',\n",
       " '_22',\n",
       " '_24',\n",
       " '_27',\n",
       " '_29',\n",
       " '_3',\n",
       " '_31',\n",
       " '_32',\n",
       " '_33',\n",
       " '_34',\n",
       " '_36',\n",
       " '_38',\n",
       " '_41',\n",
       " '_43',\n",
       " '_44',\n",
       " '_6',\n",
       " '_7',\n",
       " '_8',\n",
       " '_9',\n",
       " '__',\n",
       " '___',\n",
       " '__builtin__',\n",
       " '__builtins__',\n",
       " '__doc__',\n",
       " '__loader__',\n",
       " '__name__',\n",
       " '__package__',\n",
       " '__spec__',\n",
       " '_dh',\n",
       " '_g',\n",
       " '_i',\n",
       " '_i1',\n",
       " '_i10',\n",
       " '_i11',\n",
       " '_i12',\n",
       " '_i13',\n",
       " '_i14',\n",
       " '_i15',\n",
       " '_i16',\n",
       " '_i17',\n",
       " '_i18',\n",
       " '_i19',\n",
       " '_i2',\n",
       " '_i20',\n",
       " '_i21',\n",
       " '_i22',\n",
       " '_i23',\n",
       " '_i24',\n",
       " '_i25',\n",
       " '_i26',\n",
       " '_i27',\n",
       " '_i28',\n",
       " '_i29',\n",
       " '_i3',\n",
       " '_i30',\n",
       " '_i31',\n",
       " '_i32',\n",
       " '_i33',\n",
       " '_i34',\n",
       " '_i35',\n",
       " '_i36',\n",
       " '_i37',\n",
       " '_i38',\n",
       " '_i39',\n",
       " '_i4',\n",
       " '_i40',\n",
       " '_i41',\n",
       " '_i42',\n",
       " '_i43',\n",
       " '_i44',\n",
       " '_i45',\n",
       " '_i5',\n",
       " '_i6',\n",
       " '_i7',\n",
       " '_i8',\n",
       " '_i9',\n",
       " '_ih',\n",
       " '_ii',\n",
       " '_iii',\n",
       " '_oh',\n",
       " '_sh',\n",
       " 'a',\n",
       " 'area',\n",
       " 'exit',\n",
       " 'f',\n",
       " 'get_ipython',\n",
       " 'imp',\n",
       " 'modtest',\n",
       " 'mymath',\n",
       " 'os',\n",
       " 'pi',\n",
       " 'quit',\n",
       " 'sys',\n",
       " 'x1',\n",
       " 'xl']"
      ]
     },
     "execution_count": 45,
     "metadata": {},
     "output_type": "execute_result"
    }
   ],
   "source": [
    "dir()"
   ]
  },
  {
   "cell_type": "code",
   "execution_count": null,
   "metadata": {
    "collapsed": true
   },
   "outputs": [],
   "source": []
  }
 ],
 "metadata": {
  "kernelspec": {
   "display_name": "Python 3",
   "language": "python",
   "name": "python3"
  },
  "language_info": {
   "codemirror_mode": {
    "name": "ipython",
    "version": 3
   },
   "file_extension": ".py",
   "mimetype": "text/x-python",
   "name": "python",
   "nbconvert_exporter": "python",
   "pygments_lexer": "ipython3",
   "version": "3.5.1"
  }
 },
 "nbformat": 4,
 "nbformat_minor": 0
}
