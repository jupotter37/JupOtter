{
 "cells": [
  {
   "cell_type": "markdown",
   "metadata": {
    "id": "rl0NvSg7rlKS"
   },
   "source": [
    "# Python and Notebooks\n",
    "\n",
    "## Python Introduction with some detours\n",
    "![Python](https://www.python.org/static/community_logos/python-logo-generic.svg)\n",
    "\n",
    "What Python is and basics of using it"
   ]
  },
  {
   "cell_type": "markdown",
   "metadata": {
    "id": "7nSA5egrrlKc"
   },
   "source": [
    "![xkcd](https://imgs.xkcd.com/comics/python.png)\n",
    "\n",
    "Src: [xkcd 353](https://xkcd.com/353/)"
   ]
  },
  {
   "cell_type": "markdown",
   "metadata": {
    "id": "xlDTkW8YrlKd"
   },
   "source": [
    "## Table of Contents <a class=\"anchor\" id=\"toc\">\n",
    "\n",
    "* [Hello World](#hello-world)\n",
    "* [Python History](#python-history)\n",
    "* [What is Programming?](#what-is-programming)\n",
    "* [Jupyter Basics](#jupyter-basics)\n",
    "* [Variables](#variables)\n",
    "* [Arithmetic](#arithmetic)\n",
    "* [Program Flow Control](#flow-control)\n",
    "* [Functions](#functions)\n",
    "* [Libraries](#libraries)\n",
    "* [Crucial Python Ideas](#python-ideas)\n",
    "* [Learning Resources](#learning-resources)"
   ]
  },
  {
   "cell_type": "markdown",
   "metadata": {
    "id": "lLDlOrflrlKd"
   },
   "source": [
    "## Hello World <a class=\"anchor\" id=\"hello-world\">\n",
    "    \n",
    "   [Back to Table of Contents](#toc)"
   ]
  },
  {
   "cell_type": "code",
   "execution_count": 5,
   "metadata": {
    "colab": {
     "base_uri": "https://localhost:8080/"
    },
    "id": "ETzyQaZJrlKp",
    "outputId": "9f1cd245-3fc1-4f45-a382-4e05f18e01e3"
   },
   "outputs": [
    {
     "name": "stdout",
     "output_type": "stream",
     "text": [
      "Hello November 10th! Today's is Martins name day in Latvia\n"
     ]
    }
   ],
   "source": [
    "### Try printing a greeting of your own!\n",
    "print(\"Hello November 10th! Today's is Martins name day in Latvia\")"
   ]
  },
  {
   "cell_type": "code",
   "execution_count": 8,
   "metadata": {
    "colab": {
     "base_uri": "https://localhost:8080/"
    },
    "id": "HOvYTavzrlKe",
    "outputId": "be527ca3-e121-4dfd-8bd5-1148277d4f03"
   },
   "outputs": [
    {
     "name": "stdout",
     "output_type": "stream",
     "text": [
      "Hello world!\n"
     ]
    }
   ],
   "source": [
    "print(\"Hello world!\")"
   ]
  },
  {
   "cell_type": "code",
   "execution_count": 9,
   "metadata": {
    "colab": {
     "base_uri": "https://localhost:8080/"
    },
    "id": "FX_XBGikrlKr",
    "outputId": "85e26abe-17b2-497a-87c9-f82aae6db004"
   },
   "outputs": [
    {
     "name": "stdout",
     "output_type": "stream",
     "text": [
      "ada\n"
     ]
    }
   ],
   "source": [
    "print(\"ada\")"
   ]
  },
  {
   "cell_type": "code",
   "execution_count": 18,
   "metadata": {
    "colab": {
     "base_uri": "https://localhost:8080/"
    },
    "id": "wYFSfQhrrlKs",
    "outputId": "757d2cb1-7324-4401-edaa-c6e20559efa2"
   },
   "outputs": [
    {
     "name": "stdout",
     "output_type": "stream",
     "text": [
      "dfdafa\n"
     ]
    }
   ],
   "source": [
    "### What Happens when you get an error?\n",
    "print(\"dfdafa\")"
   ]
  },
  {
   "cell_type": "code",
   "execution_count": null,
   "metadata": {
    "id": "z7cYGL6jrlKt"
   },
   "outputs": [],
   "source": [
    "# basics of Python syntax\n",
    "\n",
    "# Python is a case-sensitive language\n",
    "# this means that variable names are case-sensitive\n",
    "# Python is a whitespace-sensitive language\n",
    "# this means that indentation is important !\n"
   ]
  },
  {
   "cell_type": "code",
   "execution_count": 20,
   "metadata": {
    "colab": {
     "base_uri": "https://localhost:8080/"
    },
    "id": "Kb98YZM-rlKu",
    "outputId": "692c7f01-569f-4fbd-e22f-1e7f061e50b2"
   },
   "outputs": [
    {
     "name": "stdout",
     "output_type": "stream",
     "text": [
      "4\n",
      "80\n"
     ]
    }
   ],
   "source": [
    "# print() is a function that prints out a string\n",
    "# rest of built in functions: https://docs.python.org/3/library/functions.html\n",
    "# we are going to print results of an expression\n",
    "# in this case we are going to print the result of 2+2 - an arithmethic expression\n",
    "print(2*2) # regular math is + - / * and we can use parenthesis as well\n",
    "print((3+5)*(4+6))"
   ]
  },
  {
   "cell_type": "code",
   "execution_count": 21,
   "metadata": {
    "colab": {
     "base_uri": "https://localhost:8080/",
     "height": 71
    },
    "id": "nAU27bKGrlKv",
    "outputId": "5a5ab381-76e1-4d92-869c-1a193e8afbc7"
   },
   "outputs": [
    {
     "name": "stdout",
     "output_type": "stream",
     "text": [
      "10\n",
      "Valdis\n"
     ]
    },
    {
     "data": {
      "application/vnd.google.colaboratory.intrinsic+json": {
       "type": "string"
      },
      "text/plain": [
       "'Aha'"
      ]
     },
     "execution_count": 21,
     "metadata": {},
     "output_type": "execute_result"
    }
   ],
   "source": [
    "# you can output the last result of code cell automatically without print\n",
    "print(10)\n",
    "print(\"Valdis\")\n",
    "\"Hmmm\" # not printed just evaluated but nowhere to show since it is not last\n",
    "\"Aha\" # last line is output without print"
   ]
  },
  {
   "cell_type": "code",
   "execution_count": 23,
   "metadata": {
    "colab": {
     "base_uri": "https://localhost:8080/"
    },
    "id": "e4i43c-7rlKw",
    "outputId": "42f5dfd1-a475-4d34-9168-f19caabda045"
   },
   "outputs": [
    {
     "data": {
      "text/plain": [
       "72"
      ]
     },
     "execution_count": 23,
     "metadata": {},
     "output_type": "execute_result"
    }
   ],
   "source": [
    "42 + 10 * 3"
   ]
  },
  {
   "cell_type": "code",
   "execution_count": 24,
   "metadata": {
    "id": "vbHIFludrlKw"
   },
   "outputs": [],
   "source": [
    "# we create a variable called my_var and assign a value of \"potatoes\"\n",
    "my_var = \"potatoes\" # so now my_var points to a string \"potatoes\" somewhere in computer memory\n",
    "# when working on a long notebook you might want to inspect your variables\n",
    "# in colab it is the left {x} tab\n",
    "# in Visual Studio Code there will be Jupyter tab below terminal"
   ]
  },
  {
   "cell_type": "code",
   "execution_count": 28,
   "metadata": {
    "id": "VXnot_2cyIc0"
   },
   "outputs": [],
   "source": [
    "drink = \"kefir\"\n",
    "my_favorite_drink = \"kefir\" # i can have multiple aliases for same data"
   ]
  },
  {
   "cell_type": "code",
   "execution_count": 31,
   "metadata": {
    "colab": {
     "base_uri": "https://localhost:8080/"
    },
    "id": "wul2FMhlrlKx",
    "outputId": "b7a0a328-894a-45df-c664-7990806ff99d"
   },
   "outputs": [
    {
     "name": "stdout",
     "output_type": "stream",
     "text": [
      "potatoes\n"
     ]
    }
   ],
   "source": [
    "print(my_var)"
   ]
  },
  {
   "cell_type": "markdown",
   "metadata": {
    "id": "4Qrpe_q8rlKx"
   },
   "source": [
    "## Python History <a class=\"anchor\" id=\"python-history\">\n",
    "    \n",
    "[Back to Table of Contents](#toc)\n"
   ]
  },
  {
   "cell_type": "markdown",
   "metadata": {
    "id": "qvEFyHdBrlKx"
   },
   "source": [
    "## Python created by Guido von Rossum in early 1990s  (later at Google,Dropbox, now at Microsoft)\n",
    "## Language reference: https://docs.python.org/3/index.html\n",
    "\n",
    "![Guido](https://upload.wikimedia.org/wikipedia/commons/thumb/d/d0/Guido-portrait-2014-curvves.jpg/290px-Guido-portrait-2014-curvves.jpg)"
   ]
  },
  {
   "cell_type": "code",
   "execution_count": null,
   "metadata": {
    "id": "xIbtEob5rlKy"
   },
   "outputs": [],
   "source": [
    "# wikipedia entry for Guido van Rossum\n",
    "# https://en.wikipedia.org/wiki/Guido_van_Rossum"
   ]
  },
  {
   "cell_type": "markdown",
   "metadata": {
    "id": "4s-Osl42rlKy"
   },
   "source": [
    "## Why Python?"
   ]
  },
  {
   "cell_type": "markdown",
   "metadata": {
    "id": "9tZBG333rlKy"
   },
   "source": [
    "## Why Python but not Julia or R or some other language or even VBA in Excel?\n",
    "### Readability, Glue Language(APIs), From Startups to Google and Facebook, Pipeline\n",
    "\n",
    "Prime numbers in J language used at some finance institutions **1: I. 2= +/ 0= (] |/ ]) i.y**"
   ]
  },
  {
   "cell_type": "markdown",
   "metadata": {
    "id": "MVYtht32rlKy"
   },
   "source": [
    "![Python](https://github.com/ValRCS/Digital_Discourse_ETH713_Fall_2020/blob/main/img/python_growth.png?raw=1)"
   ]
  },
  {
   "cell_type": "markdown",
   "metadata": {
    "id": "PA3FFXVXrlKy"
   },
   "source": [
    "### Python is now programming language # 1 in TIOBE language index (as of September 2023)\n",
    "https://www.tiobe.com/tiobe-index/\n",
    "\n",
    "https://developers.slashdot.org/story/18/09/08/1722213/python-displaces-c-in-tiobe-index-top-3"
   ]
  },
  {
   "cell_type": "markdown",
   "metadata": {
    "id": "amye24KArlKy"
   },
   "source": [
    "![Anaconda](https://www.anaconda.com/wp-content/uploads/2018/06/cropped-Anaconda_horizontal_RGB-1-600x102.png)\n",
    "https://www.anaconda.com/download/"
   ]
  },
  {
   "cell_type": "code",
   "execution_count": null,
   "metadata": {
    "id": "BTCcHSqUrlKy"
   },
   "outputs": [],
   "source": [
    "# Python is actually language number 1 in the world according to TIOBE index\n",
    "# https://www.tiobe.com/tiobe-index/"
   ]
  },
  {
   "cell_type": "markdown",
   "metadata": {
    "id": "1dKLLWQsrlKz"
   },
   "source": [
    "## Batteries included principle\n",
    "\n",
    "\n",
    "We can link to image locally or from the web\n",
    "Local:\n",
    "![Batteries](img/button-cell-batteries.jpg)\n",
    "\n",
    "From the web has the advantage that it will available from Google Colab or other online services which provide Jupyter notebooks\n",
    "So for online I provide full link to the image\n",
    "![Batteries](https://github.com/ValRCS/Digital_Discourse_ETH713_Fall_2020/blob/main/img/button-cell-batteries.jpg?raw=true)\n",
    "\n",
    "To adjust image size use HTML code\n",
    "<img src=\"img/button-cell-batteries.jpg\" width=\"200\" height=\"200\">"
   ]
  },
  {
   "cell_type": "markdown",
   "metadata": {
    "id": "g-0TmVGNrlKz"
   },
   "source": [
    "## What is Programming? <a class=\"anchor\" id=\"what-is-programming\">\n",
    "    \n",
    "[Back to Table of Contents](#toc)\n",
    "\n",
    "* Egg algorithm\n",
    "* Computers are stupid, they only do what they are told to do\n",
    "* If it is stupid but it works, then it is not stupid\n",
    "* Make it work, make it right, make it fast(last two steps often not required in real life)\n",
    "* GIGO principle - garbage in garbage out principle\n",
    "\n",
    "* Error messages are nothing to be afraid of, usually the message will explain what needs fixing!"
   ]
  },
  {
   "cell_type": "code",
   "execution_count": 30,
   "metadata": {
    "id": "McMFfp2_rlKz"
   },
   "outputs": [],
   "source": [
    "# Our first comment in Python\n",
    "# in Python we use # to start a comment - everything after # is ignored by Python interpreter\n",
    "# Real Program Comments should generally describe why\n",
    "# Here  comments will describe extra information not covered or needed for starting out\n",
    "# REPL(Read,Eval,Print, Loop)\n",
    "# Python - Interpreted Language(commands executed as they come)"
   ]
  },
  {
   "cell_type": "markdown",
   "metadata": {
    "id": "TGWSeiIyrlKz"
   },
   "source": [
    "## Jupyter Basics <a class=\"anchor\" id=\"jupyter-basics\">\n",
    "    \n",
    "[Back to Table of Contents](#toc)\n",
    "\n",
    "\n",
    "* Esc-M turns cell into Markdown cell for formatting (https://guides.github.com/pdfs/markdown-cheatsheet-online.pdf)\n",
    "* Esc-Y turns cell into code cell(default)\n",
    "\n",
    "\n",
    "* Ctrl-Enter runs code of cell in place\n",
    "* Alt-Enter runs code for current cell and creates a new cell below\n",
    "* Esc-A creates a new cell above current cell\n",
    "* Esc-B creates a new cell below current cell\n",
    "* Esc-dd deletes current cell"
   ]
  },
  {
   "cell_type": "code",
   "execution_count": null,
   "metadata": {},
   "outputs": [],
   "source": []
  },
  {
   "cell_type": "code",
   "execution_count": 1,
   "metadata": {
    "colab": {
     "base_uri": "https://localhost:8080/"
    },
    "id": "72D_KzjJrlKz",
    "outputId": "b0c8affd-9ced-4ed9-fc7c-badf23863cfc"
   },
   "outputs": [
    {
     "name": "stdout",
     "output_type": "stream",
     "text": [
      "Hello RTU!\n"
     ]
    }
   ],
   "source": [
    "# our greeting\n",
    "print(\"Hello RTU!\")"
   ]
  },
  {
   "cell_type": "code",
   "execution_count": null,
   "metadata": {
    "id": "0wJ6wZZJrlKz"
   },
   "outputs": [],
   "source": []
  },
  {
   "cell_type": "code",
   "execution_count": null,
   "metadata": {
    "id": "IlXwBb5krlK0",
    "outputId": "309c8633-16c2-449e-ac0f-1b1b9ab02a40"
   },
   "outputs": [
    {
     "name": "stdout",
     "output_type": "stream",
     "text": [
      "Hello RTU!\n"
     ]
    }
   ],
   "source": [
    "# our greeting\n",
    "print(\"Hello RTU!\")"
   ]
  },
  {
   "cell_type": "code",
   "execution_count": 2,
   "metadata": {
    "colab": {
     "base_uri": "https://localhost:8080/"
    },
    "id": "ZbmwvF9arlK0",
    "outputId": "494754e6-816b-4f33-ca7c-039abfdc937a"
   },
   "outputs": [
    {
     "name": "stdout",
     "output_type": "stream",
     "text": [
      "Valdis\n"
     ]
    }
   ],
   "source": [
    "my_name = \"Valdis\"\n",
    "print(my_name)"
   ]
  },
  {
   "cell_type": "code",
   "execution_count": null,
   "metadata": {
    "id": "71zxG57hrlK0",
    "outputId": "7c7d1a34-a6a4-4af4-bafa-dc75ce5d9a68"
   },
   "outputs": [
    {
     "data": {
      "text/plain": [
       "str"
      ]
     },
     "execution_count": 11,
     "metadata": {},
     "output_type": "execute_result"
    }
   ],
   "source": [
    "type(my_name) # Python is dynamically typed language\n",
    "# this means that we do not need to declare variable type"
   ]
  },
  {
   "cell_type": "code",
   "execution_count": 36,
   "metadata": {
    "colab": {
     "base_uri": "https://localhost:8080/"
    },
    "id": "IXsVgpDOrlK0",
    "outputId": "a59c63ec-34ef-4f0a-e782-a639cc0e9f65"
   },
   "outputs": [
    {
     "data": {
      "text/plain": [
       "builtin_function_or_method"
      ]
     },
     "execution_count": 36,
     "metadata": {},
     "output_type": "execute_result"
    }
   ],
   "source": [
    "type(print) # you can check the type of any object - even functions"
   ]
  },
  {
   "cell_type": "code",
   "execution_count": 37,
   "metadata": {
    "colab": {
     "base_uri": "https://localhost:8080/"
    },
    "id": "ortwmCmUrlK0",
    "outputId": "7f26a65d-6544-4d7c-cc6a-30287a11711a"
   },
   "outputs": [
    {
     "data": {
      "text/plain": [
       "type"
      ]
     },
     "execution_count": 37,
     "metadata": {},
     "output_type": "execute_result"
    }
   ],
   "source": [
    "type(type)"
   ]
  },
  {
   "cell_type": "code",
   "execution_count": null,
   "metadata": {
    "id": "Ws3jeMZ9rlK1",
    "outputId": "1820d320-ad29-47af-cd9d-fb099a35bdf2"
   },
   "outputs": [
    {
     "data": {
      "text/plain": [
       "type"
      ]
     },
     "execution_count": 16,
     "metadata": {},
     "output_type": "execute_result"
    }
   ],
   "source": [
    "type(type(type))"
   ]
  },
  {
   "cell_type": "code",
   "execution_count": 3,
   "metadata": {
    "colab": {
     "base_uri": "https://localhost:8080/"
    },
    "id": "Q3ZeffzprlK1",
    "outputId": "e70e1bfc-b601-43fc-f1fc-2cbc1d5699ac"
   },
   "outputs": [
    {
     "data": {
      "text/plain": [
       "int"
      ]
     },
     "execution_count": 3,
     "metadata": {},
     "output_type": "execute_result"
    }
   ],
   "source": [
    "my_name = 6  # so my_name dynamically changed its type to int - integer, in general we try to avoid this\n",
    "type(my_name)"
   ]
  },
  {
   "cell_type": "code",
   "execution_count": 4,
   "metadata": {
    "colab": {
     "base_uri": "https://localhost:8080/"
    },
    "id": "ZL7IJKX4rlK1",
    "outputId": "cd55dd83-1ebe-481f-a586-fbb404cc0b2d"
   },
   "outputs": [
    {
     "data": {
      "text/plain": [
       "str"
      ]
     },
     "execution_count": 4,
     "metadata": {},
     "output_type": "execute_result"
    }
   ],
   "source": [
    "my_name = \"Valdis\" # i am not a number i am a string!\n",
    "type(my_name)"
   ]
  },
  {
   "cell_type": "code",
   "execution_count": 6,
   "metadata": {},
   "outputs": [],
   "source": [
    "university = \"RTU\""
   ]
  },
  {
   "cell_type": "code",
   "execution_count": 7,
   "metadata": {},
   "outputs": [
    {
     "name": "stdout",
     "output_type": "stream",
     "text": [
      "RTU\n"
     ]
    }
   ],
   "source": [
    "print(university)"
   ]
  },
  {
   "cell_type": "code",
   "execution_count": 44,
   "metadata": {
    "colab": {
     "base_uri": "https://localhost:8080/"
    },
    "id": "XlVozuQGrlK1",
    "outputId": "5f98bebe-16b1-4049-c8ca-f5c80fd96773"
   },
   "outputs": [
    {
     "name": "stdout",
     "output_type": "stream",
     "text": [
      "Valdis\n"
     ]
    }
   ],
   "source": [
    "print(my_name)"
   ]
  },
  {
   "cell_type": "code",
   "execution_count": null,
   "metadata": {
    "id": "-pQpuDndrlK1"
   },
   "outputs": [],
   "source": [
    "# Try Esc-B to create a new cell,\n",
    "# Enter print(\"Hello RCS!\")\n",
    "# Press Ctrl-Enter\n",
    "# Did you get any error messages?"
   ]
  },
  {
   "cell_type": "markdown",
   "metadata": {
    "id": "9ngS71vRrlK6"
   },
   "source": [
    "#### Try Esc-B then Esc-M to creata  Markdown cell and write some text"
   ]
  },
  {
   "cell_type": "markdown",
   "metadata": {
    "id": "9qHez8mOrlK7"
   },
   "source": [
    "## how to insert a image\n",
    "\n",
    "![This is an image](https://myoctocat.com/assets/images/base-octocat.svg)\n",
    "\n",
    "  **this octocat comes from external link so whatever is saved there will be displayed**\n",
    "  *this is so called hotlinking and you should take care not to abuse it because the owner of the site might change the pictures...*\n",
    "\n",
    "  Ideally you should control the source of your images and store them in the same repository as your notebook"
   ]
  },
  {
   "cell_type": "markdown",
   "metadata": {
    "id": "kxsxykJNrlK7"
   },
   "source": [
    "# Text (Markdown) cell\n",
    "\n",
    "[Markdown Basics](https://guides.github.com/features/mastering-markdown/)\n",
    "\n",
    "I want to write a *novel in italics*\n",
    "## 2nd Level Headline\n",
    "\n",
    "* Unordered **List** item 1\n",
    "* List Item 2\n",
    "* Another item\n",
    "\n",
    "### Ordered List\n",
    "\n",
    "To make an ordered list, use numbers followed by a period.\n",
    "\n",
    "1. Item 1\n",
    "2. Item 2\n",
    "3. Item 3\n",
    "4. Really cool item 4\n",
    "\n",
    "### Strikethrough\n",
    "\n",
    "~~This is a mistake~~Now it is fixed..\n",
    "\n",
    "### Bold and Nested Italics\n",
    "\n",
    "**This text is _extremely_ important**\n",
    "\n",
    "### Subscript and Superscript\n",
    "\n",
    "H<sub>2</sub>O is a liquid. 2<sup>10</sup> is 1024.\n",
    "\n",
    "To get the effects of subscript and superscript, you need to use HTML tags.\n",
    "So kind of a pain.\n",
    "Some dialects of Markdown support these features natively using ~ and ^ but not the one used in Jupyter.\n",
    "\n",
    "### Underlining\n",
    "\n",
    "This is an <ins>underlined</ins> text\n",
    "\n",
    "### Quoting\n",
    "\n",
    "So we can use > to quote text\n",
    "\n",
    "> To be or not to be, that is the question\n",
    "\n",
    "To quote code we use backticks `print(\"Hello World\")`\n",
    "\n",
    "### Colors\n",
    "\n",
    "We can use HTML to change colors\n",
    "<font color='red'>This is red text</font>\n",
    "How about <font color='blue'>blue text</font>\n",
    "We can use RGB values as well <font color='#FF00FF'>Magenta</font>\n",
    "\n",
    "### HTML in Markdown\n",
    "\n",
    "We can use HTML in Markdown cells to get more control over formatting\n",
    "Pretty much anything you can do in a web page you can do in a Markdown cell\n",
    "\n",
    "\n",
    "# Esc - Y makes cell a code cell\n",
    "# Esc - M makes cell a markdown cell\n",
    "\n",
    "[Link to Wikipedia](https://wikipedia.org)"
   ]
  },
  {
   "cell_type": "markdown",
   "metadata": {
    "id": "cSzJBg4srlK7"
   },
   "source": [
    "## Variables <a class=\"anchor\" id=\"variables\">\n",
    "    \n",
    "[Back to Table of Contents](#toc)"
   ]
  },
  {
   "cell_type": "code",
   "execution_count": 48,
   "metadata": {
    "id": "rgEFh0jOrlK7"
   },
   "outputs": [],
   "source": [
    "myname=\"Valdis\"\n",
    "# Creating our first variable will persist through this workbook once it is run"
   ]
  },
  {
   "cell_type": "code",
   "execution_count": 49,
   "metadata": {
    "id": "kQvpNqC2rlK7"
   },
   "outputs": [],
   "source": [
    "myName = \"Voldemars\" # this is different variable than myname - case sensitive"
   ]
  },
  {
   "cell_type": "code",
   "execution_count": 51,
   "metadata": {
    "colab": {
     "base_uri": "https://localhost:8080/"
    },
    "id": "EP9oQzmorlK7",
    "outputId": "a0b89fe1-d72c-4819-cb46-619f4e4940f2"
   },
   "outputs": [
    {
     "name": "stdout",
     "output_type": "stream",
     "text": [
      "kaķis Darsijs 🐈\n"
     ]
    }
   ],
   "source": [
    "# best practice is to use snake_case for variable names\n",
    "# this is a variable name with underscores\n",
    "# we start variable names generally with lowercase letter or underscore\n",
    "# we can use numbers but not as first character\n",
    "# we can use letters, numbers and underscores\n",
    "# we can use any unicode characters but not recommended - do not use Latvian, or any non English characters as variables\n",
    "\n",
    "# however contentts of variables can be in any language\n",
    "my_cat = \"kaķis Darsijs 🐈\" # this is a string including non English characters and emoji even\n",
    "print(my_cat)"
   ]
  },
  {
   "cell_type": "code",
   "execution_count": null,
   "metadata": {
    "id": "iCfMAeARrlK8"
   },
   "outputs": [],
   "source": [
    "# what is Unicode?\n",
    "\n",
    "# Unicode is a computing industry standard for the consistent encoding,\n",
    "# representation, and handling of text expressed in most of the world's writing systems.\n",
    "\n",
    "# sure beats old way of encoding text in 8 bit ASCII, which only had 256 characters\n",
    "# and was not enough for all the languages of the world\n",
    "# then each region had their own encoding system and it was a mess\n",
    "# Baltics had their own encoding system called ISO-8859-13 - it is still around in some old systems\n",
    "# Unicode is a universal encoding system that can encode all the characters of all the languages of the world\n",
    "\n",
    "# Unicode can encode up to 1,114,112 characters - so plenty of room for all the languages of the world\n",
    "\n",
    "# more about Unicode https://en.wikipedia.org/wiki/Unicode\n",
    "\n",
    "# sometimes we have problems with Unicode characters in Python but rarely since Python 3 supports Unicode by default"
   ]
  },
  {
   "cell_type": "code",
   "execution_count": null,
   "metadata": {
    "id": "BnVS6nForlK8",
    "outputId": "7f3734ce-0f42-4bea-8e65-008815118204"
   },
   "outputs": [
    {
     "data": {
      "text/plain": [
       "str"
      ]
     },
     "execution_count": 9,
     "metadata": {},
     "output_type": "execute_result"
    }
   ],
   "source": [
    "type(myname)"
   ]
  },
  {
   "cell_type": "code",
   "execution_count": 54,
   "metadata": {
    "colab": {
     "base_uri": "https://localhost:8080/"
    },
    "id": "eJpdqhNorlK8",
    "outputId": "b9d14624-758a-46c5-8ab5-98100e9b0447"
   },
   "outputs": [
    {
     "name": "stdout",
     "output_type": "stream",
     "text": [
      "7\n"
     ]
    }
   ],
   "source": [
    "myname = 7\n",
    "print(myname)"
   ]
  },
  {
   "cell_type": "code",
   "execution_count": null,
   "metadata": {
    "id": "r7v2clKXrlK8",
    "outputId": "0b9a5fcf-afd3-4df2-8227-db7519bd6f37"
   },
   "outputs": [
    {
     "data": {
      "text/plain": [
       "int"
      ]
     },
     "execution_count": 12,
     "metadata": {},
     "output_type": "execute_result"
    }
   ],
   "source": [
    "type(myname)"
   ]
  },
  {
   "cell_type": "code",
   "execution_count": null,
   "metadata": {
    "id": "qX7AWVyFrlK9"
   },
   "outputs": [],
   "source": [
    "# what data types do we have in Python?\n",
    "\n",
    "# Primitive Data Types\n",
    "# integers - whole numbers\n",
    "# floats - decimal numbers\n",
    "# strings - text\n",
    "# booleans - True or False\n",
    "# None - special object that represents nothing\n",
    "\n",
    "# complex data types - or compound data types\n",
    "# lists - ordered collections of objects\n",
    "# dictionaries - unordered collections of key value pairs\n",
    "# sets - unordered collections of unique objects\n",
    "# tuples - ordered immutable collections of objects\n",
    "\n",
    "\n",
    "# we can check the type of any object in Python with type() function\n",
    "\n"
   ]
  },
  {
   "cell_type": "code",
   "execution_count": 57,
   "metadata": {
    "colab": {
     "base_uri": "https://localhost:8080/"
    },
    "id": "vrhloKO-rlK9",
    "outputId": "81ca0843-dddd-4f59-bdcb-ef5c25e8856f"
   },
   "outputs": [
    {
     "data": {
      "text/plain": [
       "2023"
      ]
     },
     "execution_count": 57,
     "metadata": {},
     "output_type": "execute_result"
    }
   ],
   "source": [
    "y = 2023\n",
    "y"
   ]
  },
  {
   "cell_type": "code",
   "execution_count": 58,
   "metadata": {
    "id": "1T-sBwQ4rlK9"
   },
   "outputs": [],
   "source": [
    "theAnswer = 42 # better variable name would be the_answer that is more Pythonic"
   ]
  },
  {
   "cell_type": "code",
   "execution_count": 59,
   "metadata": {
    "id": "-g1-RX5CrlK9"
   },
   "outputs": [],
   "source": [
    "PI = 3.14159 # all uppercase is a convention in Python to indicate that variable should be constant\n"
   ]
  },
  {
   "cell_type": "code",
   "execution_count": 60,
   "metadata": {
    "colab": {
     "base_uri": "https://localhost:8080/"
    },
    "id": "qylwHkhprlK9",
    "outputId": "d7411c9c-4df5-45cb-8f64-b95b3012f0e8"
   },
   "outputs": [
    {
     "name": "stdout",
     "output_type": "stream",
     "text": [
      "3.141592653589793\n"
     ]
    }
   ],
   "source": [
    "# for values that you want to indicate are constants we use all caps\n",
    "# this is not enforced by Python but is a convention\n",
    "\n",
    "MY_BIG_PI = 3.1415926535897932384626433832795028841971693993751058209749445923078164062862089986280348253421170679\n",
    "print(MY_BIG_PI) # floats precision is limited ... unlike integers so we lose precision after 15 digits after comm"
   ]
  },
  {
   "cell_type": "code",
   "execution_count": 64,
   "metadata": {
    "colab": {
     "base_uri": "https://localhost:8080/"
    },
    "id": "IL2lycH-rlK-",
    "outputId": "3122a9fd-8898-43c6-c2e2-66f4429b3f76"
   },
   "outputs": [
    {
     "data": {
      "text/plain": [
       "0.30000000000000004"
      ]
     },
     "execution_count": 64,
     "metadata": {},
     "output_type": "execute_result"
    }
   ],
   "source": [
    "# be careful with floats\n",
    "# they are not exact\n",
    "# they are approximations\n",
    "# they are not precise\n",
    "# for example\n",
    "0.1 + 0.2  # not going to be 0.3 - why?"
   ]
  },
  {
   "cell_type": "code",
   "execution_count": null,
   "metadata": {
    "id": "0Xad012YrlK-"
   },
   "outputs": [],
   "source": [
    "# reason for imperfect floats is that they are approximations\n",
    "# they are stored in binary format which can not represent all decimal numbers\n",
    "# you can read more about it here https://docs.python.org/3/tutorial/floatingpoint.html\n",
    "# also IEEE 754 standard https://en.wikipedia.org/wiki/IEEE_754"
   ]
  },
  {
   "cell_type": "code",
   "execution_count": 65,
   "metadata": {
    "colab": {
     "base_uri": "https://localhost:8080/"
    },
    "id": "bI_jLKYXrlK-",
    "outputId": "9c635927-3db7-460d-b549-5034f997d78a"
   },
   "outputs": [
    {
     "name": "stdout",
     "output_type": "stream",
     "text": [
      "0.3\n"
     ]
    }
   ],
   "source": [
    "# so what do with floats, one approach is to round them!\n",
    "print(round(0.1 + 0.2, 2)) # round to 2 decimal places"
   ]
  },
  {
   "cell_type": "code",
   "execution_count": 66,
   "metadata": {
    "id": "aTpBzFYDrlK_"
   },
   "outputs": [],
   "source": [
    "round_pi = round(MY_BIG_PI, 2) # so we can round to 2 decimal places or as many as we want"
   ]
  },
  {
   "cell_type": "code",
   "execution_count": 68,
   "metadata": {
    "colab": {
     "base_uri": "https://localhost:8080/"
    },
    "id": "IuWNP2U9rlK_",
    "outputId": "f5f21f9a-7947-4853-aaaa-b824db0f605d"
   },
   "outputs": [
    {
     "data": {
      "text/plain": [
       "3.1416"
      ]
     },
     "execution_count": 68,
     "metadata": {},
     "output_type": "execute_result"
    }
   ],
   "source": [
    "round_pi_4 = round(MY_BIG_PI, 4) # so we can round to 4 decimal places or as many as we want\n",
    "round_pi_4"
   ]
  },
  {
   "cell_type": "code",
   "execution_count": 69,
   "metadata": {
    "colab": {
     "base_uri": "https://localhost:8080/"
    },
    "id": "GbYyie0srlK_",
    "outputId": "e434ae33-3281-4227-83ce-3caec4d9e2da"
   },
   "outputs": [
    {
     "data": {
      "text/plain": [
       "3"
      ]
     },
     "execution_count": 69,
     "metadata": {},
     "output_type": "execute_result"
    }
   ],
   "source": [
    "flat_earth_pi = round(MY_BIG_PI) # so we can round to 0 decimal places or as many as we want\n",
    "flat_earth_pi"
   ]
  },
  {
   "cell_type": "code",
   "execution_count": null,
   "metadata": {
    "id": "KPaiXTD1rlK_"
   },
   "outputs": [],
   "source": [
    "# the story of pi as 3 from 19th century https://en.wikipedia.org/wiki/Pi_as_3\n",
    "# some legistlation in the US https://en.wikipedia.org/wiki/3.14_Pi_Day"
   ]
  },
  {
   "cell_type": "code",
   "execution_count": 70,
   "metadata": {
    "colab": {
     "base_uri": "https://localhost:8080/"
    },
    "id": "64EKsIParlK_",
    "outputId": "00da89b0-564b-4a8b-be9d-970b51799448"
   },
   "outputs": [
    {
     "data": {
      "text/plain": [
       "float"
      ]
     },
     "execution_count": 70,
     "metadata": {},
     "output_type": "execute_result"
    }
   ],
   "source": [
    "type(PI)"
   ]
  },
  {
   "cell_type": "code",
   "execution_count": 71,
   "metadata": {
    "colab": {
     "base_uri": "https://localhost:8080/"
    },
    "id": "QnaiYph-rlLA",
    "outputId": "1b71c603-1668-4f0b-e228-c91288690cae"
   },
   "outputs": [
    {
     "data": {
      "text/plain": [
       "True"
      ]
     },
     "execution_count": 71,
     "metadata": {},
     "output_type": "execute_result"
    }
   ],
   "source": [
    "# we have booleans in Python - True or False\n",
    "is_hot = True # note uppercase here true in Python will not work\n",
    "is_hot"
   ]
  },
  {
   "cell_type": "code",
   "execution_count": 72,
   "metadata": {
    "colab": {
     "base_uri": "https://localhost:8080/"
    },
    "id": "FfrMbX--rlLA",
    "outputId": "ed30c36b-148e-4d5c-e09a-64842ca28ff8"
   },
   "outputs": [
    {
     "name": "stdout",
     "output_type": "stream",
     "text": [
      "It is actually not that hot today in Riga\n",
      "Is it hot? False\n"
     ]
    }
   ],
   "source": [
    "is_hot = False\n",
    "print(\"It is actually not that hot today in Riga\")\n",
    "print(\"Is it hot?\", is_hot) # we can use variables in print statements"
   ]
  },
  {
   "cell_type": "code",
   "execution_count": null,
   "metadata": {
    "id": "kXDs_0jyrlLA"
   },
   "outputs": [],
   "source": [
    "isHot = False"
   ]
  },
  {
   "cell_type": "code",
   "execution_count": null,
   "metadata": {
    "id": "kgWIKZOvrlLA",
    "outputId": "3081946b-142c-4ae0-a0b5-3582b7bbb21f"
   },
   "outputs": [
    {
     "data": {
      "text/plain": [
       "bool"
      ]
     },
     "execution_count": 31,
     "metadata": {},
     "output_type": "execute_result"
    }
   ],
   "source": [
    "type(isHot)"
   ]
  },
  {
   "cell_type": "code",
   "execution_count": null,
   "metadata": {
    "id": "3ZNnmkferlLA"
   },
   "outputs": [],
   "source": [
    "# if you have boolean (truth) statement it is good practice to start variable name with is\n",
    "# for example is_hot, is_cold, is_raining, is_sunny, is_snowing, is_windy, is_raining_cats_and_dogs, is_snowing_cats_and_dogs"
   ]
  },
  {
   "cell_type": "code",
   "execution_count": 73,
   "metadata": {
    "colab": {
     "base_uri": "https://localhost:8080/"
    },
    "id": "oDWZ1iJarlLC",
    "outputId": "bca4ea72-5a69-40db-f343-3923e406e7a5"
   },
   "outputs": [
    {
     "data": {
      "text/plain": [
       "NoneType"
      ]
     },
     "execution_count": 73,
     "metadata": {},
     "output_type": "execute_result"
    }
   ],
   "source": [
    "type(None)  # indication nothingness"
   ]
  },
  {
   "cell_type": "code",
   "execution_count": 74,
   "metadata": {
    "colab": {
     "base_uri": "https://localhost:8080/"
    },
    "id": "7BXbCJLFrlLD",
    "outputId": "65dd0c89-9a78-4b91-83ff-dbdc46dba69e"
   },
   "outputs": [
    {
     "data": {
      "text/plain": [
       "NoneType"
      ]
     },
     "execution_count": 74,
     "metadata": {},
     "output_type": "execute_result"
    }
   ],
   "source": [
    "# type(variableName) will return variable data type\n",
    "theAnswer = None\n",
    "type(theAnswer)"
   ]
  },
  {
   "cell_type": "code",
   "execution_count": null,
   "metadata": {
    "id": "6KYZaOgkrlLD"
   },
   "outputs": [],
   "source": [
    "# What is the data type of myName ?\n",
    "# How about data type of isHot ?"
   ]
  },
  {
   "cell_type": "code",
   "execution_count": null,
   "metadata": {
    "id": "a2nLLd_hrlLD"
   },
   "outputs": [],
   "source": [
    "theAnswer = \"My answer\""
   ]
  },
  {
   "cell_type": "code",
   "execution_count": null,
   "metadata": {
    "id": "e28nQ6dIrlLD",
    "outputId": "a6fd9734-86e9-4f03-8a29-95cded3e488d"
   },
   "outputs": [
    {
     "data": {
      "text/plain": [
       "str"
      ]
     },
     "execution_count": 27,
     "metadata": {},
     "output_type": "execute_result"
    }
   ],
   "source": [
    "type(theAnswer)"
   ]
  },
  {
   "cell_type": "code",
   "execution_count": 75,
   "metadata": {
    "colab": {
     "base_uri": "https://localhost:8080/"
    },
    "id": "HXQQI5FCrlLD",
    "outputId": "da13ae82-a5f6-46e4-c762-48779ae6707a"
   },
   "outputs": [
    {
     "name": "stdout",
     "output_type": "stream",
     "text": [
      "Help on built-in function print in module builtins:\n",
      "\n",
      "print(...)\n",
      "    print(value, ..., sep=' ', end='\\n', file=sys.stdout, flush=False)\n",
      "    \n",
      "    Prints the values to a stream, or to sys.stdout by default.\n",
      "    Optional keyword arguments:\n",
      "    file:  a file-like object (stream); defaults to the current sys.stdout.\n",
      "    sep:   string inserted between values, default a space.\n",
      "    end:   string appended after the last value, default a newline.\n",
      "    flush: whether to forcibly flush the stream.\n",
      "\n"
     ]
    }
   ],
   "source": [
    "help(print)"
   ]
  },
  {
   "cell_type": "code",
   "execution_count": null,
   "metadata": {
    "id": "wOv_Yr29rlLD"
   },
   "outputs": [],
   "source": [
    "print()"
   ]
  },
  {
   "cell_type": "code",
   "execution_count": null,
   "metadata": {
    "id": "wK_GUYvprlLE",
    "outputId": "1bec25b5-3f43-4d42-afdd-5b505a2b85fd"
   },
   "outputs": [
    {
     "name": "stdout",
     "output_type": "stream",
     "text": [
      "\n",
      "Here is a list of the Python keywords.  Enter any keyword to get more help.\n",
      "\n",
      "False               break               for                 not\n",
      "None                class               from                or\n",
      "True                continue            global              pass\n",
      "__peg_parser__      def                 if                  raise\n",
      "and                 del                 import              return\n",
      "as                  elif                in                  try\n",
      "assert              else                is                  while\n",
      "async               except              lambda              with\n",
      "await               finally             nonlocal            yield\n",
      "\n"
     ]
    }
   ],
   "source": [
    "# Variables cannot be reserved keywords\n",
    "help(\"keywords\")"
   ]
  },
  {
   "cell_type": "code",
   "execution_count": null,
   "metadata": {
    "id": "BlgwragorlLE",
    "outputId": "5cfcb669-528e-4116-d11e-4537a82ec0ec"
   },
   "outputs": [
    {
     "ename": "SyntaxError",
     "evalue": "invalid syntax (<ipython-input-29-11d70dae05f5>, line 3)",
     "output_type": "error",
     "traceback": [
      "\u001b[1;36m  File \u001b[1;32m\"<ipython-input-29-11d70dae05f5>\"\u001b[1;36m, line \u001b[1;32m3\u001b[0m\n\u001b[1;33m    False               class               from                or\u001b[0m\n\u001b[1;37m                            ^\u001b[0m\n\u001b[1;31mSyntaxError\u001b[0m\u001b[1;31m:\u001b[0m invalid syntax\n"
     ]
    }
   ],
   "source": [
    "# Reserved Keywords - can not be used as variable names\n",
    "\n",
    "False               class               from                or\n",
    "None                continue            global              pass\n",
    "True                def                 if                  raise\n",
    "and                 del                 import              return\n",
    "as                  elif                in                  try\n",
    "assert              else                is                  while\n",
    "async               except              lambda              with\n",
    "await               finally             nonlocal            yield\n",
    "break               for                 not\n"
   ]
  },
  {
   "cell_type": "markdown",
   "metadata": {
    "id": "phVeuFeCrlLE"
   },
   "source": [
    "\n",
    "### Data types in Python 3.x\n",
    "\n",
    "* Integers type(42) int\n",
    "* Floating Point type(3.14) float\n",
    "* Boolean type(True),type(False) bool\n",
    "* String(ordered, immutable char sequence) type(\"OyCaramba\") str\n",
    "* List type([1,2,63,\"aha\",\"youcanmixtypeinsidelist\", [\"even\",\"nest\"]]) list\n",
    "* Dictionary(key:value pairs) type({\"foo\":\"bar\", \"favoriteday\":\"Friday\"}) dict\n",
    "* Tuple - ordered immutable sequence type(\"sup\",7,\"dwarves\") tup\n",
    "* Set (unordered collection of uniques) (\"k\",\"a\",\"r\",\"t\",\"u\",\"p\",\"e\",\"l\",\"i\",\"s\")"
   ]
  },
  {
   "cell_type": "code",
   "execution_count": null,
   "metadata": {
    "id": "PD9mWblvrlLE",
    "outputId": "1a9bc647-cbdc-4fed-820d-3de0f69af991"
   },
   "outputs": [
    {
     "data": {
      "text/plain": [
       "NoneType"
      ]
     },
     "execution_count": 30,
     "metadata": {},
     "output_type": "execute_result"
    }
   ],
   "source": [
    "type(None)"
   ]
  },
  {
   "cell_type": "code",
   "execution_count": null,
   "metadata": {
    "id": "LsVJX07orlLE",
    "outputId": "e57c7af5-8b25-409e-e40a-a7b70c20e7c7"
   },
   "outputs": [
    {
     "data": {
      "text/plain": [
       "type"
      ]
     },
     "execution_count": 31,
     "metadata": {},
     "output_type": "execute_result"
    }
   ],
   "source": [
    "type(type(None))"
   ]
  },
  {
   "cell_type": "code",
   "execution_count": null,
   "metadata": {
    "id": "uZVJ2VOPrlLE",
    "outputId": "40cdac82-bd68-45b1-9b50-d497b15cd752"
   },
   "outputs": [
    {
     "name": "stdout",
     "output_type": "stream",
     "text": [
      "Hello there\n"
     ]
    }
   ],
   "source": [
    "my_result = print(\"Hello there\")"
   ]
  },
  {
   "cell_type": "code",
   "execution_count": null,
   "metadata": {
    "id": "fDe_rQiZrlLF",
    "outputId": "42229f8a-e84d-469e-ba80-23a6c7e27022"
   },
   "outputs": [
    {
     "data": {
      "text/plain": [
       "NoneType"
      ]
     },
     "execution_count": 33,
     "metadata": {},
     "output_type": "execute_result"
    }
   ],
   "source": [
    "type(my_result)"
   ]
  },
  {
   "cell_type": "code",
   "execution_count": null,
   "metadata": {
    "id": "rjoNJqpwrlLF",
    "outputId": "fee15af9-08ed-4a5b-eb99-54e125e9e49a"
   },
   "outputs": [
    {
     "name": "stdout",
     "output_type": "stream",
     "text": [
      "None\n"
     ]
    }
   ],
   "source": [
    "print(my_result)"
   ]
  },
  {
   "cell_type": "code",
   "execution_count": null,
   "metadata": {
    "id": "X0oMAouzrlLF",
    "outputId": "b78f3dad-55a7-4d99-aceb-d3fc153e7288"
   },
   "outputs": [
    {
     "name": "stdout",
     "output_type": "stream",
     "text": [
      "Help on built-in function print in module builtins:\n",
      "\n",
      "print(...)\n",
      "    print(value, ..., sep=' ', end='\\n', file=sys.stdout, flush=False)\n",
      "    \n",
      "    Prints the values to a stream, or to sys.stdout by default.\n",
      "    Optional keyword arguments:\n",
      "    file:  a file-like object (stream); defaults to the current sys.stdout.\n",
      "    sep:   string inserted between values, default a space.\n",
      "    end:   string appended after the last value, default a newline.\n",
      "    flush: whether to forcibly flush the stream.\n",
      "\n"
     ]
    }
   ],
   "source": [
    "help(print)"
   ]
  },
  {
   "cell_type": "code",
   "execution_count": null,
   "metadata": {
    "id": "b6zPiqwJrlLF",
    "outputId": "af225c6a-cab2-4891-9e2c-4f68f8c3ee62"
   },
   "outputs": [
    {
     "name": "stdout",
     "output_type": "stream",
     "text": [
      "Help on _Helper in module _sitebuiltins object:\n",
      "\n",
      "class _Helper(builtins.object)\n",
      " |  Define the builtin 'help'.\n",
      " |  \n",
      " |  This is a wrapper around pydoc.help that provides a helpful message\n",
      " |  when 'help' is typed at the Python interactive prompt.\n",
      " |  \n",
      " |  Calling help() at the Python prompt starts an interactive help session.\n",
      " |  Calling help(thing) prints help for the python object 'thing'.\n",
      " |  \n",
      " |  Methods defined here:\n",
      " |  \n",
      " |  __call__(self, *args, **kwds)\n",
      " |      Call self as a function.\n",
      " |  \n",
      " |  __repr__(self)\n",
      " |      Return repr(self).\n",
      " |  \n",
      " |  ----------------------------------------------------------------------\n",
      " |  Data descriptors defined here:\n",
      " |  \n",
      " |  __dict__\n",
      " |      dictionary for instance variables (if defined)\n",
      " |  \n",
      " |  __weakref__\n",
      " |      list of weak references to the object (if defined)\n",
      "\n"
     ]
    }
   ],
   "source": [
    "help(help)"
   ]
  },
  {
   "cell_type": "code",
   "execution_count": 76,
   "metadata": {
    "colab": {
     "base_uri": "https://localhost:8080/"
    },
    "id": "qAoP4tKlrlLF",
    "outputId": "f64ad76f-7f54-4797-b508-89ccac87b20d"
   },
   "outputs": [
    {
     "name": "stdout",
     "output_type": "stream",
     "text": [
      "7 <class 'int'> 2.717 <class 'float'>\n"
     ]
    }
   ],
   "source": [
    "a = 7\n",
    "b = 2.717\n",
    "print(a,type(a),b,type(b))"
   ]
  },
  {
   "cell_type": "code",
   "execution_count": 78,
   "metadata": {
    "colab": {
     "base_uri": "https://localhost:8080/"
    },
    "id": "dd3bQnUnrlLF",
    "outputId": "5e82ef1d-ed44-41b5-d6d3-0d5dabbd1643"
   },
   "outputs": [
    {
     "data": {
      "text/plain": [
       "(2, int)"
      ]
     },
     "execution_count": 78,
     "metadata": {},
     "output_type": "execute_result"
    }
   ],
   "source": [
    "b = int(b) # we can use type casting to change data typees\n",
    "# however we can lose information when we do so\n",
    "b, type(b)"
   ]
  },
  {
   "cell_type": "code",
   "execution_count": 79,
   "metadata": {
    "colab": {
     "base_uri": "https://localhost:8080/"
    },
    "id": "j4sxIPTtrlLF",
    "outputId": "2268af45-8009-4c51-9993-7b5825f32f8b"
   },
   "outputs": [
    {
     "data": {
      "text/plain": [
       "(7, '7')"
      ]
     },
     "execution_count": 79,
     "metadata": {},
     "output_type": "execute_result"
    }
   ],
   "source": [
    "a, str(a)  # i made a a string but I did not save it anywhere just output the result to screen"
   ]
  },
  {
   "cell_type": "code",
   "execution_count": 80,
   "metadata": {
    "colab": {
     "base_uri": "https://localhost:8080/",
     "height": 35
    },
    "id": "G2N4KDF_rlLG",
    "outputId": "243a30e4-500c-4a88-f061-554e394a6bd7"
   },
   "outputs": [
    {
     "data": {
      "application/vnd.google.colaboratory.intrinsic+json": {
       "type": "string"
      },
      "text/plain": [
       "'7'"
      ]
     },
     "execution_count": 80,
     "metadata": {},
     "output_type": "execute_result"
    }
   ],
   "source": [
    "my_a = str(a)  # so I am saving contents of a as a string\n",
    "my_a"
   ]
  },
  {
   "cell_type": "code",
   "execution_count": 85,
   "metadata": {
    "colab": {
     "base_uri": "https://localhost:8080/",
     "height": 178
    },
    "id": "HIqmxNXMrlLG",
    "outputId": "9270afd3-1089-4e4a-934a-bda88e1c177f"
   },
   "outputs": [
    {
     "ename": "TypeError",
     "evalue": "ignored",
     "output_type": "error",
     "traceback": [
      "\u001b[0;31m---------------------------------------------------------------------------\u001b[0m",
      "\u001b[0;31mTypeError\u001b[0m                                 Traceback (most recent call last)",
      "\u001b[0;32m<ipython-input-85-c4953ba6f7e4>\u001b[0m in \u001b[0;36m<cell line: 1>\u001b[0;34m()\u001b[0m\n\u001b[0;32m----> 1\u001b[0;31m \u001b[0mmy_name\u001b[0m \u001b[0;34m+\u001b[0m \u001b[0ma\u001b[0m\u001b[0;34m\u001b[0m\u001b[0;34m\u001b[0m\u001b[0m\n\u001b[0m",
      "\u001b[0;31mTypeError\u001b[0m: can only concatenate str (not \"int\") to str"
     ]
    }
   ],
   "source": [
    "my_name + a"
   ]
  },
  {
   "cell_type": "code",
   "execution_count": 87,
   "metadata": {
    "colab": {
     "base_uri": "https://localhost:8080/",
     "height": 35
    },
    "id": "k2A801tcrlLG",
    "outputId": "7b497287-b1e3-4de0-c3dd-4ba2a66517c4"
   },
   "outputs": [
    {
     "data": {
      "application/vnd.google.colaboratory.intrinsic+json": {
       "type": "string"
      },
      "text/plain": [
       "'Valdis7'"
      ]
     },
     "execution_count": 87,
     "metadata": {},
     "output_type": "execute_result"
    }
   ],
   "source": [
    "my_name = \"Valdis\"  # I am already Valdis so can skip this one\n",
    "my_name + str(a)"
   ]
  },
  {
   "cell_type": "code",
   "execution_count": null,
   "metadata": {
    "id": "kHnaQqiUrlLG",
    "outputId": "50359cce-c0ea-4825-ae2e-919b6857e54c"
   },
   "outputs": [
    {
     "data": {
      "text/plain": [
       "True"
      ]
     },
     "execution_count": 30,
     "metadata": {},
     "output_type": "execute_result"
    }
   ],
   "source": [
    "bool(a)  # it is True because it is not 0"
   ]
  },
  {
   "cell_type": "code",
   "execution_count": null,
   "metadata": {
    "id": "XFrO5IVYrlLG",
    "outputId": "080c7df3-96d4-40f0-d0ac-6f2631f99e1a"
   },
   "outputs": [
    {
     "data": {
      "text/plain": [
       "False"
      ]
     },
     "execution_count": 31,
     "metadata": {},
     "output_type": "execute_result"
    }
   ],
   "source": [
    "bool(0)"
   ]
  },
  {
   "cell_type": "code",
   "execution_count": null,
   "metadata": {
    "id": "luraiaIorlLG",
    "outputId": "32ef29e9-d579-4b79-f496-4f9d5910a114"
   },
   "outputs": [
    {
     "data": {
      "text/plain": [
       "False"
      ]
     },
     "execution_count": 46,
     "metadata": {},
     "output_type": "execute_result"
    }
   ],
   "source": [
    "bool(\"\")"
   ]
  },
  {
   "cell_type": "code",
   "execution_count": null,
   "metadata": {
    "id": "dF-AgB_IrlLG",
    "outputId": "76f91a3a-9d18-4916-dbe5-bd7a48a7cc6f"
   },
   "outputs": [
    {
     "data": {
      "text/plain": [
       "4"
      ]
     },
     "execution_count": 32,
     "metadata": {},
     "output_type": "execute_result"
    }
   ],
   "source": [
    "2 * 2"
   ]
  },
  {
   "cell_type": "code",
   "execution_count": null,
   "metadata": {
    "id": "BWbGM01GrlLH",
    "outputId": "5fd88011-8239-48c2-c59a-fe2177eee793"
   },
   "outputs": [
    {
     "data": {
      "text/plain": [
       "16"
      ]
     },
     "execution_count": 33,
     "metadata": {},
     "output_type": "execute_result"
    }
   ],
   "source": [
    "2 + 2 * 7"
   ]
  },
  {
   "cell_type": "code",
   "execution_count": null,
   "metadata": {
    "id": "v_2JCZ7yrlLH",
    "outputId": "d128e6b2-21fd-4561-fb56-b86786346bde"
   },
   "outputs": [
    {
     "data": {
      "text/plain": [
       "28"
      ]
     },
     "execution_count": 34,
     "metadata": {},
     "output_type": "execute_result"
    }
   ],
   "source": [
    "(2 + 2) * 7  # parentheis for specific order"
   ]
  },
  {
   "cell_type": "code",
   "execution_count": null,
   "metadata": {
    "id": "fBCJg5fHrlLH",
    "outputId": "92185969-55db-43ca-f454-0993fceda7ef"
   },
   "outputs": [
    {
     "data": {
      "text/plain": [
       "47"
      ]
     },
     "execution_count": 35,
     "metadata": {},
     "output_type": "execute_result"
    }
   ],
   "source": [
    "50-3"
   ]
  },
  {
   "cell_type": "code",
   "execution_count": null,
   "metadata": {
    "id": "As2chP7ArlLH",
    "outputId": "054f54da-0052-42bb-e395-330e601084bd"
   },
   "outputs": [
    {
     "data": {
      "text/plain": [
       "(3.5, float)"
      ]
     },
     "execution_count": 37,
     "metadata": {},
     "output_type": "execute_result"
    }
   ],
   "source": [
    "7/2, type(7/2)"
   ]
  },
  {
   "cell_type": "code",
   "execution_count": 88,
   "metadata": {
    "colab": {
     "base_uri": "https://localhost:8080/"
    },
    "id": "EcUeDpJprlLH",
    "outputId": "0031401c-9b21-4c27-c2c0-c8ac2f53a8a1"
   },
   "outputs": [
    {
     "data": {
      "text/plain": [
       "3"
      ]
     },
     "execution_count": 88,
     "metadata": {},
     "output_type": "execute_result"
    }
   ],
   "source": [
    "7 // 2 # this was / in Python 2.x # division giving result of the whole part"
   ]
  },
  {
   "cell_type": "code",
   "execution_count": 89,
   "metadata": {
    "colab": {
     "base_uri": "https://localhost:8080/"
    },
    "id": "R2tYnsEUrlLH",
    "outputId": "e80f17eb-94f3-4201-8465-e7aa29e48f7b"
   },
   "outputs": [
    {
     "data": {
      "text/plain": [
       "(1, 0, 1, 0)"
      ]
     },
     "execution_count": 89,
     "metadata": {},
     "output_type": "execute_result"
    }
   ],
   "source": [
    "7 % 2, 8 % 2, 9 % 2, 10 % 2  # reminder/ so modulo 2 will give us odd or even numbering"
   ]
  },
  {
   "cell_type": "code",
   "execution_count": 90,
   "metadata": {
    "colab": {
     "base_uri": "https://localhost:8080/"
    },
    "id": "IuIayhQCrlLH",
    "outputId": "7c58f5f0-df8d-4ae2-e7c0-13f466a048c5"
   },
   "outputs": [
    {
     "data": {
      "text/plain": [
       "(2.857142857142857, 2, 6)"
      ]
     },
     "execution_count": 90,
     "metadata": {},
     "output_type": "execute_result"
    }
   ],
   "source": [
    "20 / 7, 20 // 7, 20 % 7 # this will be 6 since we"
   ]
  },
  {
   "cell_type": "markdown",
   "metadata": {
    "id": "lNZCtFXirlLI"
   },
   "source": [
    "## More on variables\n",
    "https://realpython.com/python-variables"
   ]
  },
  {
   "cell_type": "markdown",
   "metadata": {
    "id": "nVkENb24rlLI"
   },
   "source": [
    "## Strings\n",
    "* immutable\n",
    "* Unicode support\n",
    "\n",
    "\n",
    "* implement all common sequence operators\n",
    "https://docs.python.org/3/library/stdtypes.html#typesseq-common\n",
    "\n",
    "* string specific methods\n",
    "https://docs.python.org/3/library/stdtypes.html#string-methods"
   ]
  },
  {
   "cell_type": "code",
   "execution_count": 91,
   "metadata": {
    "colab": {
     "base_uri": "https://localhost:8080/"
    },
    "id": "x9mA4JhvrlLI",
    "outputId": "3dadb536-f826-4d11-fb4a-11338d4ca5e9"
   },
   "outputs": [
    {
     "name": "stdout",
     "output_type": "stream",
     "text": [
      "Valdis 😄\n"
     ]
    }
   ],
   "source": [
    "name = \"Valdis 😄\" # so Unicode includes all languages, and now Emojis as well\n",
    "print(name)"
   ]
  },
  {
   "cell_type": "code",
   "execution_count": 92,
   "metadata": {
    "colab": {
     "base_uri": "https://localhost:8080/"
    },
    "id": "3GQCAfXSrlLI",
    "outputId": "1026f545-dabf-41bf-aa0e-de9f7832b405"
   },
   "outputs": [
    {
     "data": {
      "text/plain": [
       "8"
      ]
     },
     "execution_count": 92,
     "metadata": {},
     "output_type": "execute_result"
    }
   ],
   "source": [
    "# String length\n",
    "len(name)"
   ]
  },
  {
   "cell_type": "code",
   "execution_count": null,
   "metadata": {
    "id": "h4Pm84lIrlLI",
    "outputId": "82c4c354-0026-4bd8-8983-5a45f6bc2e3d"
   },
   "outputs": [
    {
     "data": {
      "text/plain": [
       "builtin_function_or_method"
      ]
     },
     "execution_count": 42,
     "metadata": {},
     "output_type": "execute_result"
    }
   ],
   "source": [
    "type(len)"
   ]
  },
  {
   "cell_type": "code",
   "execution_count": 93,
   "metadata": {
    "colab": {
     "base_uri": "https://localhost:8080/"
    },
    "id": "rZk5GP91rlLJ",
    "outputId": "a5c90963-509d-4aec-8928-2b6f8d83da80"
   },
   "outputs": [
    {
     "data": {
      "text/plain": [
       "4"
      ]
     },
     "execution_count": 93,
     "metadata": {},
     "output_type": "execute_result"
    }
   ],
   "source": [
    "# How is this different from name ?\n",
    "len(\"name\")  # here \"name\" is just a string literal, while name is a variable"
   ]
  },
  {
   "cell_type": "code",
   "execution_count": 94,
   "metadata": {
    "colab": {
     "base_uri": "https://localhost:8080/",
     "height": 35
    },
    "id": "w_Ys9U16rlLJ",
    "outputId": "3be1f3a7-a598-475d-cb52-13bbe673c003"
   },
   "outputs": [
    {
     "data": {
      "application/vnd.google.colaboratory.intrinsic+json": {
       "type": "string"
      },
      "text/plain": [
       "'V'"
      ]
     },
     "execution_count": 94,
     "metadata": {},
     "output_type": "execute_result"
    }
   ],
   "source": [
    "# Getting Individual characters\n",
    "name[0]  # most of computer languages are 0 based"
   ]
  },
  {
   "cell_type": "code",
   "execution_count": 95,
   "metadata": {
    "colab": {
     "base_uri": "https://localhost:8080/"
    },
    "id": "Gmt_WK0UrlLJ",
    "outputId": "47faf93a-5d08-495e-f1de-c19d9ac94e93"
   },
   "outputs": [
    {
     "data": {
      "text/plain": [
       "('s', ' ', '😄')"
      ]
     },
     "execution_count": 95,
     "metadata": {},
     "output_type": "execute_result"
    }
   ],
   "source": [
    "name[5],name[6],name[7] # so we get individual characters by index notice that we start from 0"
   ]
  },
  {
   "cell_type": "code",
   "execution_count": null,
   "metadata": {
    "id": "8a2rnluHrlLJ"
   },
   "outputs": [],
   "source": []
  },
  {
   "cell_type": "code",
   "execution_count": 96,
   "metadata": {
    "colab": {
     "base_uri": "https://localhost:8080/",
     "height": 35
    },
    "id": "BafTIU99rlLJ",
    "outputId": "49a1996f-e66b-4dca-ca18-23c5b5acfdad"
   },
   "outputs": [
    {
     "data": {
      "application/vnd.google.colaboratory.intrinsic+json": {
       "type": "string"
      },
      "text/plain": [
       "'😄'"
      ]
     },
     "execution_count": 96,
     "metadata": {},
     "output_type": "execute_result"
    }
   ],
   "source": [
    "# how could we generalize getting last character?\n",
    "# not Pythonic , avoid\n",
    "name[len(name)-1]"
   ]
  },
  {
   "cell_type": "code",
   "execution_count": 97,
   "metadata": {
    "colab": {
     "base_uri": "https://localhost:8080/",
     "height": 35
    },
    "id": "TdY195-PrlLJ",
    "outputId": "5c47afaa-07f4-46f9-fdf5-23a908d6dc87"
   },
   "outputs": [
    {
     "data": {
      "application/vnd.google.colaboratory.intrinsic+json": {
       "type": "string"
      },
      "text/plain": [
       "'😄'"
      ]
     },
     "execution_count": 97,
     "metadata": {},
     "output_type": "execute_result"
    }
   ],
   "source": [
    "name[7]  # same as above as long as the lenght of string is 8"
   ]
  },
  {
   "cell_type": "code",
   "execution_count": 98,
   "metadata": {
    "colab": {
     "base_uri": "https://localhost:8080/",
     "height": 35
    },
    "id": "2iI-g5xhrlLK",
    "outputId": "b3c7766e-403c-4ae9-aa62-6ed41e1cdd5d"
   },
   "outputs": [
    {
     "data": {
      "application/vnd.google.colaboratory.intrinsic+json": {
       "type": "string"
      },
      "text/plain": [
       "'😄'"
      ]
     },
     "execution_count": 98,
     "metadata": {},
     "output_type": "execute_result"
    }
   ],
   "source": [
    "# Getting last char, this is Pythonic! recommended, DO THIS!\n",
    "name[-1]"
   ]
  },
  {
   "cell_type": "code",
   "execution_count": null,
   "metadata": {
    "id": "X9m3OyjcrlLK"
   },
   "outputs": [],
   "source": [
    "# in Python indexes are from both sides"
   ]
  },
  {
   "cell_type": "markdown",
   "metadata": {
    "id": "saY13ijSrlLK"
   },
   "source": [
    "![Python String Indexes](https://developers.google.com/static/edu/python/images/hello.png)"
   ]
  },
  {
   "cell_type": "code",
   "execution_count": 99,
   "metadata": {
    "colab": {
     "base_uri": "https://localhost:8080/",
     "height": 35
    },
    "id": "HUxBiUp7rlLK",
    "outputId": "382c22e4-bece-417c-f8f6-3a9b7332a2f3"
   },
   "outputs": [
    {
     "data": {
      "application/vnd.google.colaboratory.intrinsic+json": {
       "type": "string"
      },
      "text/plain": [
       "'s'"
      ]
     },
     "execution_count": 99,
     "metadata": {},
     "output_type": "execute_result"
    }
   ],
   "source": [
    "name[5] # so 6th character of \"Valdis 😄\""
   ]
  },
  {
   "cell_type": "code",
   "execution_count": 100,
   "metadata": {
    "colab": {
     "base_uri": "https://localhost:8080/"
    },
    "id": "505ge2yvrlLK",
    "outputId": "b4a9ac74-33be-4b1d-a93a-f8c302d94969"
   },
   "outputs": [
    {
     "data": {
      "text/plain": [
       "('s', 's')"
      ]
     },
     "execution_count": 100,
     "metadata": {},
     "output_type": "execute_result"
    }
   ],
   "source": [
    "name[-3], name[5] # so 2nd from end, has index 6 from the beginning, actually 7th character"
   ]
  },
  {
   "cell_type": "code",
   "execution_count": 101,
   "metadata": {
    "colab": {
     "base_uri": "https://localhost:8080/"
    },
    "id": "rjzijKibrlLK",
    "outputId": "6a62a77e-007e-425b-8edd-c1950d601fb3"
   },
   "outputs": [
    {
     "data": {
      "text/plain": [
       "('😄', '😄')"
      ]
     },
     "execution_count": 101,
     "metadata": {},
     "output_type": "execute_result"
    }
   ],
   "source": [
    "# again smiley\n",
    "name[7], name[-1]"
   ]
  },
  {
   "cell_type": "code",
   "execution_count": 102,
   "metadata": {
    "colab": {
     "base_uri": "https://localhost:8080/",
     "height": 178
    },
    "id": "NHrObTuNrlLK",
    "outputId": "85ed7709-81af-4c72-8dc7-e24619a50798"
   },
   "outputs": [
    {
     "ename": "IndexError",
     "evalue": "ignored",
     "output_type": "error",
     "traceback": [
      "\u001b[0;31m---------------------------------------------------------------------------\u001b[0m",
      "\u001b[0;31mIndexError\u001b[0m                                Traceback (most recent call last)",
      "\u001b[0;32m<ipython-input-102-b05e9d29b674>\u001b[0m in \u001b[0;36m<cell line: 1>\u001b[0;34m()\u001b[0m\n\u001b[0;32m----> 1\u001b[0;31m \u001b[0mname\u001b[0m\u001b[0;34m[\u001b[0m\u001b[0;36m8\u001b[0m\u001b[0;34m]\u001b[0m \u001b[0;31m# this will give us error, because this is character no. 9 and we only have 8 characters\u001b[0m\u001b[0;34m\u001b[0m\u001b[0;34m\u001b[0m\u001b[0m\n\u001b[0m",
      "\u001b[0;31mIndexError\u001b[0m: string index out of range"
     ]
    }
   ],
   "source": [
    "name[8] # this will give us error, because this is character no. 9 and we only have 8 characters"
   ]
  },
  {
   "cell_type": "markdown",
   "metadata": {
    "id": "X6HXnvmOrlLL"
   },
   "source": [
    "### String Slicing"
   ]
  },
  {
   "cell_type": "code",
   "execution_count": 103,
   "metadata": {
    "colab": {
     "base_uri": "https://localhost:8080/",
     "height": 35
    },
    "id": "6ewWiRpgrlLL",
    "outputId": "5d3a9a47-ab77-4dc8-f632-1f6647815595"
   },
   "outputs": [
    {
     "data": {
      "application/vnd.google.colaboratory.intrinsic+json": {
       "type": "string"
      },
      "text/plain": [
       "'Val'"
      ]
     },
     "execution_count": 103,
     "metadata": {},
     "output_type": "execute_result"
    }
   ],
   "source": [
    "# Slicing syntax\n",
    "# Start at 0 an go until but not including 3\n",
    "name[0:3] # so index 3 (4th character) is not included"
   ]
  },
  {
   "cell_type": "code",
   "execution_count": 104,
   "metadata": {
    "colab": {
     "base_uri": "https://localhost:8080/",
     "height": 35
    },
    "id": "gMxCqtlGrlLL",
    "outputId": "a100149d-ddd4-4e92-fe78-d0632809c4b1"
   },
   "outputs": [
    {
     "data": {
      "application/vnd.google.colaboratory.intrinsic+json": {
       "type": "string"
      },
      "text/plain": [
       "'Val'"
      ]
     },
     "execution_count": 104,
     "metadata": {},
     "output_type": "execute_result"
    }
   ],
   "source": [
    "# it starts making more sense when we realize that 0 is not required\n",
    "name[:3]  # so 0 is included by default before first :"
   ]
  },
  {
   "cell_type": "code",
   "execution_count": 105,
   "metadata": {
    "colab": {
     "base_uri": "https://localhost:8080/",
     "height": 35
    },
    "id": "_TL2rnIzrlLL",
    "outputId": "a4620d57-790f-4df6-912d-73e9dbbd11f8"
   },
   "outputs": [
    {
     "data": {
      "application/vnd.google.colaboratory.intrinsic+json": {
       "type": "string"
      },
      "text/plain": [
       "'al'"
      ]
     },
     "execution_count": 105,
     "metadata": {},
     "output_type": "execute_result"
    }
   ],
   "source": [
    "name[1:3] # so we start 2nd character and go until 3rd character"
   ]
  },
  {
   "cell_type": "code",
   "execution_count": 106,
   "metadata": {
    "colab": {
     "base_uri": "https://localhost:8080/",
     "height": 35
    },
    "id": "1EmqdjmerlLL",
    "outputId": "2b503877-2c46-4b1c-d935-e1553846fda5"
   },
   "outputs": [
    {
     "data": {
      "application/vnd.google.colaboratory.intrinsic+json": {
       "type": "string"
      },
      "text/plain": [
       "'dis 😄'"
      ]
     },
     "execution_count": 106,
     "metadata": {},
     "output_type": "execute_result"
    }
   ],
   "source": [
    "name[3:]  # so start at 4th character (index 3) so skipping index after first : will give us rest of the string"
   ]
  },
  {
   "cell_type": "code",
   "execution_count": 107,
   "metadata": {
    "colab": {
     "base_uri": "https://localhost:8080/",
     "height": 35
    },
    "id": "YWCj7Cc9rlLL",
    "outputId": "dfa3e201-51e9-4bdb-9918-7b9cd115be0d"
   },
   "outputs": [
    {
     "data": {
      "application/vnd.google.colaboratory.intrinsic+json": {
       "type": "string"
      },
      "text/plain": [
       "'s 😄'"
      ]
     },
     "execution_count": 107,
     "metadata": {},
     "output_type": "execute_result"
    }
   ],
   "source": [
    "name[-3:] # this will get you last 3 letters of any string over 3"
   ]
  },
  {
   "cell_type": "markdown",
   "metadata": {
    "id": "tjsaLQRFrlLM"
   },
   "source": [
    "![Python Strings](https://developers.google.com/edu/python/images/hello.png)"
   ]
  },
  {
   "cell_type": "code",
   "execution_count": 108,
   "metadata": {
    "colab": {
     "base_uri": "https://localhost:8080/",
     "height": 35
    },
    "id": "K-CqjfyArlLN",
    "outputId": "f7600892-d6ed-42bb-e9cf-e232565a8018"
   },
   "outputs": [
    {
     "data": {
      "application/vnd.google.colaboratory.intrinsic+json": {
       "type": "string"
      },
      "text/plain": [
       "'abcdefghijklmnopqrstuvwxyz'"
      ]
     },
     "execution_count": 108,
     "metadata": {},
     "output_type": "execute_result"
    }
   ],
   "source": [
    "# import alphabet\n",
    "import string # we will talk about imports later, but this is a standard library module with some some constants\n",
    "alphabet = string.ascii_lowercase\n",
    "alphabet # just a string of all lowercase letters in English\n",
    "# of course I could have written it myself"
   ]
  },
  {
   "cell_type": "code",
   "execution_count": 109,
   "metadata": {
    "colab": {
     "base_uri": "https://localhost:8080/",
     "height": 35
    },
    "id": "46IAfXaQrlLO",
    "outputId": "5e29be27-5701-42d6-fdc5-2314949de624"
   },
   "outputs": [
    {
     "data": {
      "application/vnd.google.colaboratory.intrinsic+json": {
       "type": "string"
      },
      "text/plain": [
       "'abcde'"
      ]
     },
     "execution_count": 109,
     "metadata": {},
     "output_type": "execute_result"
    }
   ],
   "source": [
    "# first 5 letters\n",
    "alphabet[:5]"
   ]
  },
  {
   "cell_type": "code",
   "execution_count": 110,
   "metadata": {
    "colab": {
     "base_uri": "https://localhost:8080/",
     "height": 35
    },
    "id": "EafJlpU-rlLO",
    "outputId": "2db07aad-a696-4035-ce15-630c406fae65"
   },
   "outputs": [
    {
     "data": {
      "application/vnd.google.colaboratory.intrinsic+json": {
       "type": "string"
      },
      "text/plain": [
       "'wxyz'"
      ]
     },
     "execution_count": 110,
     "metadata": {},
     "output_type": "execute_result"
    }
   ],
   "source": [
    "# last four\n",
    "alphabet[-4:]"
   ]
  },
  {
   "cell_type": "code",
   "execution_count": 111,
   "metadata": {
    "colab": {
     "base_uri": "https://localhost:8080/",
     "height": 35
    },
    "id": "sTduv7jVrlLO",
    "outputId": "7305347d-6698-408f-cc32-a97507c02f8b"
   },
   "outputs": [
    {
     "data": {
      "application/vnd.google.colaboratory.intrinsic+json": {
       "type": "string"
      },
      "text/plain": [
       "'acegikmoqsuwy'"
      ]
     },
     "execution_count": 111,
     "metadata": {},
     "output_type": "execute_result"
    }
   ],
   "source": [
    "# we have an optional step parameter\n",
    "alphabet[::2] # so we start at 0 and go until end skipping every second character"
   ]
  },
  {
   "cell_type": "code",
   "execution_count": 112,
   "metadata": {
    "colab": {
     "base_uri": "https://localhost:8080/",
     "height": 35
    },
    "id": "8g7AceXOrlLP",
    "outputId": "6a261b6b-2120-4517-c881-01154b88eb31"
   },
   "outputs": [
    {
     "data": {
      "application/vnd.google.colaboratory.intrinsic+json": {
       "type": "string"
      },
      "text/plain": [
       "'bdfhjlnprtvxz'"
      ]
     },
     "execution_count": 112,
     "metadata": {},
     "output_type": "execute_result"
    }
   ],
   "source": [
    "# we can start at 2nd character and go until end skipping every second character\n",
    "alphabet[1::2]"
   ]
  },
  {
   "cell_type": "code",
   "execution_count": 113,
   "metadata": {
    "colab": {
     "base_uri": "https://localhost:8080/",
     "height": 35
    },
    "id": "5bqReesIrlLQ",
    "outputId": "52f8f536-eb5a-40cc-ca17-121c5c08a355"
   },
   "outputs": [
    {
     "data": {
      "application/vnd.google.colaboratory.intrinsic+json": {
       "type": "string"
      },
      "text/plain": [
       "'adgjmpsvy'"
      ]
     },
     "execution_count": 113,
     "metadata": {},
     "output_type": "execute_result"
    }
   ],
   "source": [
    "# we can skip every 3rd character\n",
    "alphabet[::3]"
   ]
  },
  {
   "cell_type": "code",
   "execution_count": null,
   "metadata": {
    "id": "TEkwPgu_rlLQ",
    "outputId": "bd36e16f-642e-446b-89e1-36a256b8f1bd"
   },
   "outputs": [
    {
     "data": {
      "text/plain": [
       "'abcdefghijklmnopqrstuvwxyz'"
      ]
     },
     "execution_count": 58,
     "metadata": {},
     "output_type": "execute_result"
    }
   ],
   "source": [
    "# import string  # this is import some string constants for convenience not to be confused with str\n",
    "# alphabet = string.ascii_lowercase\n",
    "# alphabet"
   ]
  },
  {
   "cell_type": "code",
   "execution_count": 114,
   "metadata": {
    "colab": {
     "base_uri": "https://localhost:8080/",
     "height": 35
    },
    "id": "xAo6dJYarlLR",
    "outputId": "0abf71e7-9df6-4a4a-c66f-356785fae465"
   },
   "outputs": [
    {
     "data": {
      "application/vnd.google.colaboratory.intrinsic+json": {
       "type": "string"
      },
      "text/plain": [
       "'cdefg'"
      ]
     },
     "execution_count": 114,
     "metadata": {},
     "output_type": "execute_result"
    }
   ],
   "source": [
    "alphabet[2:7]"
   ]
  },
  {
   "cell_type": "code",
   "execution_count": 116,
   "metadata": {
    "colab": {
     "base_uri": "https://localhost:8080/"
    },
    "id": "lyRE1G1orlLR",
    "outputId": "846098d5-0265-40ea-9f1b-ba03fe7014fa"
   },
   "outputs": [
    {
     "name": "stdout",
     "output_type": "stream",
     "text": [
      "vwxyz\n"
     ]
    }
   ],
   "source": [
    "# so previous slices were not saved\n",
    "# if we want to save we just need a new variable\n",
    "last_five = alphabet[-5:]\n",
    "print(last_five)"
   ]
  },
  {
   "cell_type": "code",
   "execution_count": 117,
   "metadata": {
    "colab": {
     "base_uri": "https://localhost:8080/",
     "height": 35
    },
    "id": "9V0qUPx7rlLR",
    "outputId": "53b8c0c0-bdc4-4b3a-d887-2932cddd1739"
   },
   "outputs": [
    {
     "data": {
      "application/vnd.google.colaboratory.intrinsic+json": {
       "type": "string"
      },
      "text/plain": [
       "'abcd'"
      ]
     },
     "execution_count": 117,
     "metadata": {},
     "output_type": "execute_result"
    }
   ],
   "source": [
    "first_four = alphabet[:4]  # technically we start at 0 and go until 4 (not including)\n",
    "# that comes out to first four characters\n",
    "first_four"
   ]
  },
  {
   "cell_type": "markdown",
   "metadata": {
    "id": "blvQMRH7rlLT"
   },
   "source": [
    "## Optional step in slicing"
   ]
  },
  {
   "cell_type": "code",
   "execution_count": null,
   "metadata": {
    "id": "nrGWH79LrlLV",
    "outputId": "920ced9c-3487-4ac8-a69a-0ec7c72bebb8"
   },
   "outputs": [
    {
     "data": {
      "text/plain": [
       "'acegikmoqsuwy'"
      ]
     },
     "execution_count": 62,
     "metadata": {},
     "output_type": "execute_result"
    }
   ],
   "source": [
    "alphabet[::2]  # so this means start at 0 and go until end but step for next character should be 2"
   ]
  },
  {
   "cell_type": "code",
   "execution_count": null,
   "metadata": {
    "id": "gZly4p5RrlLW",
    "outputId": "b5f8f6bc-f05b-4f2f-84bd-b63c64adf1ee"
   },
   "outputs": [
    {
     "data": {
      "text/plain": [
       "'bdfhjlnprtvxz'"
      ]
     },
     "execution_count": 63,
     "metadata": {},
     "output_type": "execute_result"
    }
   ],
   "source": [
    "alphabet[1::2] # start at 2nd letter and go until end skipping 2 ahead each time (step 2)"
   ]
  },
  {
   "cell_type": "code",
   "execution_count": null,
   "metadata": {
    "id": "Lu9UaLYArlLX",
    "outputId": "44103f9b-2dae-46d8-927c-b7fb132c9d3d"
   },
   "outputs": [
    {
     "data": {
      "text/plain": [
       "'adgjmpsvy'"
      ]
     },
     "execution_count": 64,
     "metadata": {},
     "output_type": "execute_result"
    }
   ],
   "source": [
    "alphabet[::3] # every 3rd letter starting with 0(a)"
   ]
  },
  {
   "cell_type": "code",
   "execution_count": null,
   "metadata": {
    "id": "ZUW9H9x4rlLX",
    "outputId": "6f7cfab0-b7e6-4aa8-963e-89b3386ba0e4"
   },
   "outputs": [
    {
     "data": {
      "text/plain": [
       "26"
      ]
     },
     "execution_count": 67,
     "metadata": {},
     "output_type": "execute_result"
    }
   ],
   "source": [
    "len(alphabet)"
   ]
  },
  {
   "cell_type": "code",
   "execution_count": null,
   "metadata": {
    "id": "kwNH-l4jrlLY",
    "outputId": "cc619e66-a477-4c5d-d420-95f94e6a2904"
   },
   "outputs": [
    {
     "data": {
      "text/plain": [
       "('z', 'z')"
      ]
     },
     "execution_count": 66,
     "metadata": {},
     "output_type": "execute_result"
    }
   ],
   "source": [
    "alphabet[25], alphabet[-1]"
   ]
  },
  {
   "cell_type": "code",
   "execution_count": null,
   "metadata": {
    "id": "lWO8vdZ2rlLZ",
    "outputId": "8b46622a-e96f-45be-a301-2bf4d4616065"
   },
   "outputs": [
    {
     "ename": "IndexError",
     "evalue": "string index out of range",
     "output_type": "error",
     "traceback": [
      "\u001b[1;31m---------------------------------------------------------------------------\u001b[0m",
      "\u001b[1;31mIndexError\u001b[0m                                Traceback (most recent call last)",
      "\u001b[1;32m<ipython-input-67-e8f521c6472f>\u001b[0m in \u001b[0;36m<module>\u001b[1;34m\u001b[0m\n\u001b[1;32m----> 1\u001b[1;33m \u001b[0malphabet\u001b[0m\u001b[1;33m[\u001b[0m\u001b[1;36m26\u001b[0m\u001b[1;33m]\u001b[0m\u001b[1;33m\u001b[0m\u001b[1;33m\u001b[0m\u001b[0m\n\u001b[0m",
      "\u001b[1;31mIndexError\u001b[0m: string index out of range"
     ]
    }
   ],
   "source": [
    "alphabet[26] # that is 27th! no bueno"
   ]
  },
  {
   "cell_type": "code",
   "execution_count": null,
   "metadata": {
    "id": "vB1wGt_grlLa"
   },
   "outputs": [],
   "source": [
    "# slicing will not give errors"
   ]
  },
  {
   "cell_type": "code",
   "execution_count": 119,
   "metadata": {
    "colab": {
     "base_uri": "https://localhost:8080/",
     "height": 35
    },
    "id": "cda0mkSprlLb",
    "outputId": "e93382a1-93b3-4d36-c851-650b4546abd8"
   },
   "outputs": [
    {
     "data": {
      "application/vnd.google.colaboratory.intrinsic+json": {
       "type": "string"
      },
      "text/plain": [
       "'abcdefghijklmnopqrstuvwxyz'"
      ]
     },
     "execution_count": 119,
     "metadata": {},
     "output_type": "execute_result"
    }
   ],
   "source": [
    "alphabet[:2023] # no problem when slicing past the end"
   ]
  },
  {
   "cell_type": "code",
   "execution_count": 118,
   "metadata": {
    "colab": {
     "base_uri": "https://localhost:8080/",
     "height": 178
    },
    "id": "U3Zh-_H2rlLc",
    "outputId": "80d5eec3-706a-4ae3-8c3c-b518282bd514"
   },
   "outputs": [
    {
     "ename": "IndexError",
     "evalue": "ignored",
     "output_type": "error",
     "traceback": [
      "\u001b[0;31m---------------------------------------------------------------------------\u001b[0m",
      "\u001b[0;31mIndexError\u001b[0m                                Traceback (most recent call last)",
      "\u001b[0;32m<ipython-input-118-53ac5d29f1c7>\u001b[0m in \u001b[0;36m<cell line: 1>\u001b[0;34m()\u001b[0m\n\u001b[0;32m----> 1\u001b[0;31m \u001b[0malphabet\u001b[0m\u001b[0;34m[\u001b[0m\u001b[0;34m-\u001b[0m\u001b[0;36m5000\u001b[0m\u001b[0;34m]\u001b[0m \u001b[0;31m# will not work IndexError\u001b[0m\u001b[0;34m\u001b[0m\u001b[0;34m\u001b[0m\u001b[0m\n\u001b[0m",
      "\u001b[0;31mIndexError\u001b[0m: string index out of range"
     ]
    }
   ],
   "source": [
    "alphabet[-5000] # will not work IndexError"
   ]
  },
  {
   "cell_type": "code",
   "execution_count": 120,
   "metadata": {
    "colab": {
     "base_uri": "https://localhost:8080/",
     "height": 35
    },
    "id": "ooj5CS72rlLc",
    "outputId": "2f777e54-21fc-4222-8b9f-2ccbb73f6c2a"
   },
   "outputs": [
    {
     "data": {
      "application/vnd.google.colaboratory.intrinsic+json": {
       "type": "string"
      },
      "text/plain": [
       "'abcdefghijklmnopqrstuvwxyz'"
      ]
     },
     "execution_count": 120,
     "metadata": {},
     "output_type": "execute_result"
    }
   ],
   "source": [
    "alphabet[-5000:2000] # so overshooting slice indexes is fine, but not for single characters"
   ]
  },
  {
   "cell_type": "code",
   "execution_count": 121,
   "metadata": {
    "colab": {
     "base_uri": "https://localhost:8080/",
     "height": 35
    },
    "id": "mge364girlLd",
    "outputId": "f39a7275-d9da-4540-fbc5-1ccdbd50102a"
   },
   "outputs": [
    {
     "data": {
      "application/vnd.google.colaboratory.intrinsic+json": {
       "type": "string"
      },
      "text/plain": [
       "'zyxwvutsrqponmlkjihgfedcba'"
      ]
     },
     "execution_count": 121,
     "metadata": {},
     "output_type": "execute_result"
    }
   ],
   "source": [
    "# a little trick to reverse a string\n",
    "alphabet[::-1]  #we can use negative step to reverse our string"
   ]
  },
  {
   "cell_type": "code",
   "execution_count": null,
   "metadata": {
    "id": "k4mbZ4T2rlLd"
   },
   "outputs": [],
   "source": [
    "# until now I did not save these small slices but i can do it at any time using variables"
   ]
  },
  {
   "cell_type": "code",
   "execution_count": 122,
   "metadata": {
    "colab": {
     "base_uri": "https://localhost:8080/",
     "height": 35
    },
    "id": "DR0Da1ssrlLd",
    "outputId": "5e2c0e10-aaf3-43c9-d3fa-7ec3ea2eb823"
   },
   "outputs": [
    {
     "data": {
      "application/vnd.google.colaboratory.intrinsic+json": {
       "type": "string"
      },
      "text/plain": [
       "'zyxwvutsrqponmlkjihgfedcba'"
      ]
     },
     "execution_count": 122,
     "metadata": {},
     "output_type": "execute_result"
    }
   ],
   "source": [
    "reverse_alpha = alphabet[::-1] #we save the reversed string\n",
    "reverse_alpha"
   ]
  },
  {
   "cell_type": "code",
   "execution_count": null,
   "metadata": {
    "id": "lRwN3qSQrlLd",
    "outputId": "be9fd659-4d87-4baf-80cd-3b337f786a6b"
   },
   "outputs": [
    {
     "data": {
      "text/plain": [
       "'abcdefg'"
      ]
     },
     "execution_count": 73,
     "metadata": {},
     "output_type": "execute_result"
    }
   ],
   "source": [
    "# i could save first 7 letters as well\n",
    "first_seven = alphabet[:7]\n",
    "first_seven"
   ]
  },
  {
   "cell_type": "code",
   "execution_count": null,
   "metadata": {
    "id": "i30WtnqJrlLd"
   },
   "outputs": [],
   "source": [
    "# in Python strings are immutable, we can not change them we can just save new strings"
   ]
  },
  {
   "cell_type": "markdown",
   "metadata": {
    "id": "_fHrHT3GrlLd"
   },
   "source": [
    "## Substring in string"
   ]
  },
  {
   "cell_type": "code",
   "execution_count": 123,
   "metadata": {
    "colab": {
     "base_uri": "https://localhost:8080/"
    },
    "id": "nk78ZL-FrlLe",
    "outputId": "d621dbdf-588d-41f7-886a-0ebec4cbcc9b"
   },
   "outputs": [
    {
     "data": {
      "text/plain": [
       "True"
      ]
     },
     "execution_count": 123,
     "metadata": {},
     "output_type": "execute_result"
    }
   ],
   "source": [
    "\"x\" in alphabet"
   ]
  },
  {
   "cell_type": "code",
   "execution_count": 124,
   "metadata": {
    "colab": {
     "base_uri": "https://localhost:8080/"
    },
    "id": "jS9Ev8ZVrlLg",
    "outputId": "7bd3de9a-c41d-46cf-e49f-0c88c9e5110f"
   },
   "outputs": [
    {
     "data": {
      "text/plain": [
       "True"
      ]
     },
     "execution_count": 124,
     "metadata": {},
     "output_type": "execute_result"
    }
   ],
   "source": [
    "\"abc\" in alphabet"
   ]
  },
  {
   "cell_type": "code",
   "execution_count": 125,
   "metadata": {
    "colab": {
     "base_uri": "https://localhost:8080/"
    },
    "id": "C9SO_Ar0rlLj",
    "outputId": "2b00ed10-59ed-4f6e-b269-c0d7cf3582e0"
   },
   "outputs": [
    {
     "data": {
      "text/plain": [
       "True"
      ]
     },
     "execution_count": 125,
     "metadata": {},
     "output_type": "execute_result"
    }
   ],
   "source": [
    "\"op\" in alphabet"
   ]
  },
  {
   "cell_type": "code",
   "execution_count": 126,
   "metadata": {
    "colab": {
     "base_uri": "https://localhost:8080/"
    },
    "id": "w7lAxOOCrlLl",
    "outputId": "fd6ef3c4-55a9-434f-e361-23e4073d71bf"
   },
   "outputs": [
    {
     "data": {
      "text/plain": [
       "False"
      ]
     },
     "execution_count": 126,
     "metadata": {},
     "output_type": "execute_result"
    }
   ],
   "source": [
    "\"val\" in alphabet  # in uses exact match\n",
    "#if we wanted to check each letter, we would have to break down \"val\""
   ]
  },
  {
   "cell_type": "code",
   "execution_count": 127,
   "metadata": {
    "colab": {
     "base_uri": "https://localhost:8080/",
     "height": 35
    },
    "id": "rupuF1UcrlLm",
    "outputId": "4318c44c-201d-4689-af20-1181d1a6e899"
   },
   "outputs": [
    {
     "data": {
      "application/vnd.google.colaboratory.intrinsic+json": {
       "type": "string"
      },
      "text/plain": [
       "'oatmeal porridge'"
      ]
     },
     "execution_count": 127,
     "metadata": {},
     "output_type": "execute_result"
    }
   ],
   "source": [
    "food = \"oatmeal porridge\"\n",
    "food"
   ]
  },
  {
   "cell_type": "code",
   "execution_count": null,
   "metadata": {
    "id": "ozZ5yYbrrlLn",
    "outputId": "908a64bf-c396-46e9-ee0f-118371a1cb20"
   },
   "outputs": [
    {
     "data": {
      "text/plain": [
       "str"
      ]
     },
     "execution_count": 79,
     "metadata": {},
     "output_type": "execute_result"
    }
   ],
   "source": [
    "type(food)"
   ]
  },
  {
   "cell_type": "code",
   "execution_count": 128,
   "metadata": {
    "colab": {
     "base_uri": "https://localhost:8080/",
     "height": 35
    },
    "id": "sh7skravrlLn",
    "outputId": "8b142517-d63b-418a-d5b5-15c8bb3501a6"
   },
   "outputs": [
    {
     "data": {
      "application/vnd.google.colaboratory.intrinsic+json": {
       "type": "string"
      },
      "text/plain": [
       "'Oatmeal porridge'"
      ]
     },
     "execution_count": 128,
     "metadata": {},
     "output_type": "execute_result"
    }
   ],
   "source": [
    "food.capitalize()  # notice the parenthesis this is a method call, not a property"
   ]
  },
  {
   "cell_type": "code",
   "execution_count": 129,
   "metadata": {
    "colab": {
     "base_uri": "https://localhost:8080/",
     "height": 35
    },
    "id": "a5um56eKrlLo",
    "outputId": "c9a70a20-a56d-4913-9b83-9abf84c1d2df"
   },
   "outputs": [
    {
     "data": {
      "application/vnd.google.colaboratory.intrinsic+json": {
       "type": "string"
      },
      "text/plain": [
       "'Oatmeal porridge'"
      ]
     },
     "execution_count": 129,
     "metadata": {},
     "output_type": "execute_result"
    }
   ],
   "source": [
    "# i did not save capitalization, so it is not permanent\n",
    "# if i want to save it then I need to assign it to a variable\n",
    "capital_food = food.capitalize()\n",
    "capital_food"
   ]
  },
  {
   "cell_type": "code",
   "execution_count": 130,
   "metadata": {
    "colab": {
     "base_uri": "https://localhost:8080/",
     "height": 35
    },
    "id": "JN5AoQDPrlLo",
    "outputId": "f1cb6e6c-8675-4aa5-c7a1-4add9bd5d037"
   },
   "outputs": [
    {
     "data": {
      "application/vnd.google.colaboratory.intrinsic+json": {
       "type": "string"
      },
      "text/plain": [
       "'Oatmeal Porridge'"
      ]
     },
     "execution_count": 130,
     "metadata": {},
     "output_type": "execute_result"
    }
   ],
   "source": [
    "food.title()  # will get capitalize every word"
   ]
  },
  {
   "cell_type": "code",
   "execution_count": 131,
   "metadata": {
    "colab": {
     "base_uri": "https://localhost:8080/",
     "height": 35
    },
    "id": "4FGmZCE7rlLo",
    "outputId": "c2b07533-1b95-4959-8f6d-5615d5cd2c48"
   },
   "outputs": [
    {
     "data": {
      "application/vnd.google.colaboratory.intrinsic+json": {
       "type": "string"
      },
      "text/plain": [
       "'OATMEAL PORRIDGE'"
      ]
     },
     "execution_count": 131,
     "metadata": {},
     "output_type": "execute_result"
    }
   ],
   "source": [
    "yell = food.upper()\n",
    "yell"
   ]
  },
  {
   "cell_type": "code",
   "execution_count": null,
   "metadata": {
    "id": "To-SDKkqrlLp",
    "outputId": "f074d675-f350-4966-f783-252005d4b8ea"
   },
   "outputs": [
    {
     "data": {
      "text/plain": [
       "'oatmeal porridge'"
      ]
     },
     "execution_count": 84,
     "metadata": {},
     "output_type": "execute_result"
    }
   ],
   "source": [
    "food.lower() # here nothign will happen since we started with it"
   ]
  },
  {
   "cell_type": "code",
   "execution_count": 132,
   "metadata": {
    "colab": {
     "base_uri": "https://localhost:8080/"
    },
    "id": "7CWsVyMArlLp",
    "outputId": "a3acea5b-2d75-4322-8a6a-b8d1c812c4b7"
   },
   "outputs": [
    {
     "data": {
      "text/plain": [
       "('OATMEAL PORRIDGE', 'oatmeal porridge')"
      ]
     },
     "execution_count": 132,
     "metadata": {},
     "output_type": "execute_result"
    }
   ],
   "source": [
    "yell, yell.lower()"
   ]
  },
  {
   "cell_type": "code",
   "execution_count": 133,
   "metadata": {
    "colab": {
     "base_uri": "https://localhost:8080/"
    },
    "id": "wMI5vQrbrlLp",
    "outputId": "d3ae07b8-905c-4ee5-fa55-0717c5538141"
   },
   "outputs": [
    {
     "data": {
      "text/plain": [
       "2"
      ]
     },
     "execution_count": 133,
     "metadata": {},
     "output_type": "execute_result"
    }
   ],
   "source": [
    "food.count(\"o\") # so we have two o's in my food"
   ]
  },
  {
   "cell_type": "code",
   "execution_count": 134,
   "metadata": {
    "colab": {
     "base_uri": "https://localhost:8080/"
    },
    "id": "Uhh3grtgrlLp",
    "outputId": "3726805b-38fa-4ee4-da0f-7a3bc98bb744"
   },
   "outputs": [
    {
     "data": {
      "text/plain": [
       "1"
      ]
     },
     "execution_count": 134,
     "metadata": {},
     "output_type": "execute_result"
    }
   ],
   "source": [
    "food.count(\"oat\") # so we have one oat in my food"
   ]
  },
  {
   "cell_type": "code",
   "execution_count": 135,
   "metadata": {
    "colab": {
     "base_uri": "https://localhost:8080/"
    },
    "id": "K1jVh7firlLq",
    "outputId": "8170d070-a6cc-4159-d846-e637dce2f817"
   },
   "outputs": [
    {
     "data": {
      "text/plain": [
       "(3, 3)"
      ]
     },
     "execution_count": 135,
     "metadata": {},
     "output_type": "execute_result"
    }
   ],
   "source": [
    "# we have two methods for finding index of a substring\n",
    "food.index(\"meal\"), food.find(\"meal\")  # difference is that find will not throw error on mismatch"
   ]
  },
  {
   "cell_type": "code",
   "execution_count": 136,
   "metadata": {
    "colab": {
     "base_uri": "https://localhost:8080/",
     "height": 35
    },
    "id": "U4Zs0rYarlLq",
    "outputId": "a75fb9df-ea48-42ff-d917-98db33fd2b6d"
   },
   "outputs": [
    {
     "data": {
      "application/vnd.google.colaboratory.intrinsic+json": {
       "type": "string"
      },
      "text/plain": [
       "'meal '"
      ]
     },
     "execution_count": 136,
     "metadata": {},
     "output_type": "execute_result"
    }
   ],
   "source": [
    "food[3:8] # so we get the same result as above"
   ]
  },
  {
   "cell_type": "code",
   "execution_count": 137,
   "metadata": {
    "colab": {
     "base_uri": "https://localhost:8080/",
     "height": 178
    },
    "id": "vHWhYbnJrlLq",
    "outputId": "3e427068-ad5c-48f6-f44e-377e14a077da"
   },
   "outputs": [
    {
     "ename": "ValueError",
     "evalue": "ignored",
     "output_type": "error",
     "traceback": [
      "\u001b[0;31m---------------------------------------------------------------------------\u001b[0m",
      "\u001b[0;31mValueError\u001b[0m                                Traceback (most recent call last)",
      "\u001b[0;32m<ipython-input-137-80235b8da537>\u001b[0m in \u001b[0;36m<cell line: 1>\u001b[0;34m()\u001b[0m\n\u001b[0;32m----> 1\u001b[0;31m \u001b[0mfood\u001b[0m\u001b[0;34m.\u001b[0m\u001b[0mindex\u001b[0m\u001b[0;34m(\u001b[0m\u001b[0;34m\"notthere\"\u001b[0m\u001b[0;34m)\u001b[0m\u001b[0;34m\u001b[0m\u001b[0;34m\u001b[0m\u001b[0m\n\u001b[0m",
      "\u001b[0;31mValueError\u001b[0m: substring not found"
     ]
    }
   ],
   "source": [
    "food.index(\"notthere\")"
   ]
  },
  {
   "cell_type": "code",
   "execution_count": 138,
   "metadata": {
    "colab": {
     "base_uri": "https://localhost:8080/"
    },
    "id": "XSjTG5xVrlLr",
    "outputId": "97be6404-df9e-45da-a758-833adbdd4dac"
   },
   "outputs": [
    {
     "data": {
      "text/plain": [
       "-1"
      ]
     },
     "execution_count": 138,
     "metadata": {},
     "output_type": "execute_result"
    }
   ],
   "source": [
    "food.find(\"notthere\")"
   ]
  },
  {
   "cell_type": "code",
   "execution_count": 139,
   "metadata": {
    "colab": {
     "base_uri": "https://localhost:8080/",
     "height": 35
    },
    "id": "RKBzOI_prlLs",
    "outputId": "be666e02-737e-460e-b70a-203f8b6e1ae1"
   },
   "outputs": [
    {
     "data": {
      "application/vnd.google.colaboratory.intrinsic+json": {
       "type": "string"
      },
      "text/plain": [
       "'buckwheat porridge'"
      ]
     },
     "execution_count": 139,
     "metadata": {},
     "output_type": "execute_result"
    }
   ],
   "source": [
    "food.replace(\"oatmeal\", \"buckwheat\") #  this is not permanent\n",
    "# wiki for buckwheat https://en.wikipedia.org/wiki/Buckwheat"
   ]
  },
  {
   "cell_type": "code",
   "execution_count": null,
   "metadata": {
    "id": "67bw3SKnrlLs",
    "outputId": "61fa6043-f37b-4cc3-804f-3de97c4822cb"
   },
   "outputs": [
    {
     "data": {
      "text/plain": [
       "'yatmeal pyrridge'"
      ]
     },
     "execution_count": 94,
     "metadata": {},
     "output_type": "execute_result"
    }
   ],
   "source": [
    "food.replace(\"o\", \"y\")"
   ]
  },
  {
   "cell_type": "code",
   "execution_count": 140,
   "metadata": {
    "colab": {
     "base_uri": "https://localhost:8080/",
     "height": 35
    },
    "id": "OGLMXXOnrlLt",
    "outputId": "d3c3dc99-b18b-4613-cdc3-4f68821e25f1"
   },
   "outputs": [
    {
     "data": {
      "application/vnd.google.colaboratory.intrinsic+json": {
       "type": "string"
      },
      "text/plain": [
       "'oatmeal poRYRYidge'"
      ]
     },
     "execution_count": 140,
     "metadata": {},
     "output_type": "execute_result"
    }
   ],
   "source": [
    "result = food.replace(\"r\", \"RY\") # if I want to save it I need to assign it to a variable\n",
    "result"
   ]
  },
  {
   "cell_type": "code",
   "execution_count": 141,
   "metadata": {
    "colab": {
     "base_uri": "https://localhost:8080/",
     "height": 35
    },
    "id": "6yWbkswHrlLt",
    "outputId": "ed0de076-47f3-4630-a041-3915844af115"
   },
   "outputs": [
    {
     "data": {
      "application/vnd.google.colaboratory.intrinsic+json": {
       "type": "string"
      },
      "text/plain": [
       "'beer beer beer beer beer beer '"
      ]
     },
     "execution_count": 141,
     "metadata": {},
     "output_type": "execute_result"
    }
   ],
   "source": [
    "# we can multiply strings with numbers\n",
    "drink = \"beer \"*6  # so we can in fact multiple strings! we create a new string\n",
    "drink"
   ]
  },
  {
   "cell_type": "code",
   "execution_count": 142,
   "metadata": {
    "colab": {
     "base_uri": "https://localhost:8080/"
    },
    "id": "R_e-EWCcrlLu",
    "outputId": "634066cb-4771-49d5-9c48-807e0aba1315"
   },
   "outputs": [
    {
     "data": {
      "text/plain": [
       "6"
      ]
     },
     "execution_count": 142,
     "metadata": {},
     "output_type": "execute_result"
    }
   ],
   "source": [
    "# count beer\n",
    "drink.count(\"beer\")"
   ]
  },
  {
   "cell_type": "code",
   "execution_count": 143,
   "metadata": {
    "colab": {
     "base_uri": "https://localhost:8080/",
     "height": 35
    },
    "id": "DnMw1_KArlLu",
    "outputId": "1350efb2-7bd6-4b15-a5f8-cd6b56be3548"
   },
   "outputs": [
    {
     "data": {
      "application/vnd.google.colaboratory.intrinsic+json": {
       "type": "string"
      },
      "text/plain": [
       "'kefir kefir kefir kefir kefir kefir '"
      ]
     },
     "execution_count": 143,
     "metadata": {},
     "output_type": "execute_result"
    }
   ],
   "source": [
    "drink.replace(\"beer\", \"kefir\") # again not permanent"
   ]
  },
  {
   "cell_type": "code",
   "execution_count": 144,
   "metadata": {
    "colab": {
     "base_uri": "https://localhost:8080/",
     "height": 35
    },
    "id": "Wgy3ik6erlLv",
    "outputId": "d5c35a74-53fc-40d2-ebe0-44e3f6590c51"
   },
   "outputs": [
    {
     "data": {
      "application/vnd.google.colaboratory.intrinsic+json": {
       "type": "string"
      },
      "text/plain": [
       "'kefir kefir kefir beer beer beer '"
      ]
     },
     "execution_count": 144,
     "metadata": {},
     "output_type": "execute_result"
    }
   ],
   "source": [
    "drink.replace(\"beer\", \"kefir\", 3)  # so replace first 3 occurance of beer with kefir"
   ]
  },
  {
   "cell_type": "code",
   "execution_count": 145,
   "metadata": {
    "colab": {
     "base_uri": "https://localhost:8080/",
     "height": 35
    },
    "id": "WabdqveXrlLv",
    "outputId": "edb1ddfd-514d-437a-c1c8-451aa7306a02"
   },
   "outputs": [
    {
     "data": {
      "application/vnd.google.colaboratory.intrinsic+json": {
       "type": "string"
      },
      "text/plain": [
       "'kefir kefir kefir kefir kefir beer '"
      ]
     },
     "execution_count": 145,
     "metadata": {},
     "output_type": "execute_result"
    }
   ],
   "source": [
    "dangerous_drinks = drink.replace(\"beer\", \"kefir\", 5)  # so replace first 5 occurance of beer with kefir\n",
    "dangerous_drinks"
   ]
  },
  {
   "cell_type": "code",
   "execution_count": null,
   "metadata": {
    "id": "F2Ll7z3MrlLv",
    "outputId": "684cc92f-ebd6-4a8b-fbaa-be8f7bf87a2d"
   },
   "outputs": [
    {
     "data": {
      "text/plain": [
       "'oatmeal porridge'"
      ]
     },
     "execution_count": 102,
     "metadata": {},
     "output_type": "execute_result"
    }
   ],
   "source": [
    "food"
   ]
  },
  {
   "cell_type": "code",
   "execution_count": null,
   "metadata": {
    "id": "TjrX_pzzrlLw"
   },
   "outputs": [],
   "source": [
    "one_str = \"one\"\n",
    "another_str = 'one' # so we can use either \"\" or '' for strings"
   ]
  },
  {
   "cell_type": "code",
   "execution_count": 147,
   "metadata": {
    "colab": {
     "base_uri": "https://localhost:8080/",
     "height": 35
    },
    "id": "mLYmXBIgrlLw",
    "outputId": "4591384d-e038-4ec8-f0ad-1fb38781ddf8"
   },
   "outputs": [
    {
     "data": {
      "application/vnd.google.colaboratory.intrinsic+json": {
       "type": "string"
      },
      "text/plain": [
       "'Alice said to the white rabbit \"I will follow you\" and jumped into the cave'"
      ]
     },
     "execution_count": 147,
     "metadata": {},
     "output_type": "execute_result"
    }
   ],
   "source": [
    "# the types of quotes are matters when you want to use quotes inside your string\n",
    "my_text = 'Alice said to the white rabbit \"I will follow you\" and jumped into the cave'\n",
    "my_text"
   ]
  },
  {
   "cell_type": "code",
   "execution_count": null,
   "metadata": {
    "id": "voFtOsOCrlLx"
   },
   "outputs": [],
   "source": [
    "# if you want both quotes then we can use either string escaping kind of a pain\n",
    "# easier is to use triple quotes \"\"\"\"\"\"\n",
    "my_big_multi_line_text = \"\"\"I can type whatever I want\n",
    "    I can use \" quotes  or not\n",
    "    I can use single quote ' no problem\n",
    "I can tab  I can pretty much anything except triple quotes at once :)\n",
    "\n",
    "\"\"\"\n"
   ]
  },
  {
   "cell_type": "code",
   "execution_count": null,
   "metadata": {
    "id": "ZP6Sdi_JrlLx",
    "outputId": "bee805bf-bfee-4c4a-b15c-e15172072b77"
   },
   "outputs": [
    {
     "data": {
      "text/plain": [
       "'I can type whatever I want\\n    I can use \" quotes  or not\\n    I can use single quote \\' no problem\\nI can tab  I can pretty much anything except triple quotes at once :)\\n\\n'"
      ]
     },
     "execution_count": 106,
     "metadata": {},
     "output_type": "execute_result"
    }
   ],
   "source": [
    "my_big_multi_line_text  # this prints the special symbols"
   ]
  },
  {
   "cell_type": "code",
   "execution_count": null,
   "metadata": {
    "id": "yuVqifOJrlLx",
    "outputId": "8d3fc8ec-93e4-4bc0-e565-216848e6d3c7"
   },
   "outputs": [
    {
     "name": "stdout",
     "output_type": "stream",
     "text": [
      "I can type whatever I want\n",
      "    I can use \" quotes  or not\n",
      "    I can use single quote ' no problem\n",
      "I can tab  I can pretty much anything except triple quotes at once :)\n",
      "\n",
      "\n"
     ]
    }
   ],
   "source": [
    "print(my_big_multi_line_text)  # this is human readable"
   ]
  },
  {
   "cell_type": "code",
   "execution_count": null,
   "metadata": {
    "id": "lEjlAcERrlLy",
    "outputId": "a065e85d-4ce6-4e68-a904-9b7d5347be06"
   },
   "outputs": [
    {
     "data": {
      "text/plain": [
       "'oatmeal porridge'"
      ]
     },
     "execution_count": 108,
     "metadata": {},
     "output_type": "execute_result"
    }
   ],
   "source": [
    "food"
   ]
  },
  {
   "cell_type": "code",
   "execution_count": null,
   "metadata": {
    "id": "WSTO0IeyrlLy"
   },
   "outputs": [],
   "source": []
  },
  {
   "cell_type": "code",
   "execution_count": null,
   "metadata": {
    "id": "Zsjq040KrlLy",
    "outputId": "dc11eb01-39e8-4a8f-ce71-96125b6542dc"
   },
   "outputs": [
    {
     "ename": "TypeError",
     "evalue": "'str' object does not support item assignment",
     "output_type": "error",
     "traceback": [
      "\u001b[1;31m---------------------------------------------------------------------------\u001b[0m",
      "\u001b[1;31mTypeError\u001b[0m                                 Traceback (most recent call last)",
      "\u001b[1;32mc:\\Users\\val-wd\\Github\\Digital_Discourse_ETH713_Fall_2020\\Python_Introduction.ipynb Cell 189\u001b[0m in \u001b[0;36m<cell line: 1>\u001b[1;34m()\u001b[0m\n\u001b[1;32m----> <a href='vscode-notebook-cell:/c%3A/Users/val-wd/Github/Digital_Discourse_ETH713_Fall_2020/Python_Introduction.ipynb#Y312sZmlsZQ%3D%3D?line=0'>1</a>\u001b[0m food[\u001b[39m10\u001b[39m] \u001b[39m=\u001b[39m \u001b[39m\"\u001b[39m\u001b[39mX\u001b[39m\u001b[39m\"\u001b[39m\n",
      "\u001b[1;31mTypeError\u001b[0m: 'str' object does not support item assignment"
     ]
    }
   ],
   "source": [
    "food[10] = \"X\" # not allowed! strings are immutable"
   ]
  },
  {
   "cell_type": "code",
   "execution_count": null,
   "metadata": {
    "id": "Z4nanYuGrlLy",
    "outputId": "966a7964-598b-4d6e-9884-f7d398ed5cb8"
   },
   "outputs": [
    {
     "data": {
      "text/plain": [
       "'oatmeal Xorridge'"
      ]
     },
     "execution_count": 110,
     "metadata": {},
     "output_type": "execute_result"
    }
   ],
   "source": [
    "# I can assemble my new string from parts\n",
    "new_franken_food = food[:8] + \"X\" + food[9:]  # so i insert X instead of 9th letter\n",
    "new_franken_food"
   ]
  },
  {
   "cell_type": "code",
   "execution_count": null,
   "metadata": {
    "id": "2W45TSuXrlLz",
    "outputId": "15275d54-31a5-4291-be66-78ec982f9567"
   },
   "outputs": [
    {
     "data": {
      "text/plain": [
       "'oatmeal Xorridge'"
      ]
     },
     "execution_count": 111,
     "metadata": {},
     "output_type": "execute_result"
    }
   ],
   "source": [
    "food.replace(\"p\", \"X\")  # here this would work as well"
   ]
  },
  {
   "cell_type": "markdown",
   "metadata": {
    "id": "oUdOBNI7rlLz"
   },
   "source": [
    "## String formatting"
   ]
  },
  {
   "cell_type": "code",
   "execution_count": null,
   "metadata": {
    "id": "dH7N5JSprlL1",
    "outputId": "fe49b2a8-2e82-44f2-8174-54f498b014a8"
   },
   "outputs": [
    {
     "data": {
      "text/plain": [
       "('Valdis 😄', 'teacher')"
      ]
     },
     "execution_count": 113,
     "metadata": {},
     "output_type": "execute_result"
    }
   ],
   "source": [
    "job = \"teacher\"\n",
    "name, job"
   ]
  },
  {
   "cell_type": "code",
   "execution_count": null,
   "metadata": {
    "id": "vJoEnGhVrlL3",
    "outputId": "16c3930a-be37-45ae-b2ad-5951eef6e116"
   },
   "outputs": [
    {
     "data": {
      "text/plain": [
       "'Hello my name is Valdis 😄 and I am a teacher'"
      ]
     },
     "execution_count": 114,
     "metadata": {},
     "output_type": "execute_result"
    }
   ],
   "source": [
    "# we can use f strings to createa a new string from some text and extra variables\n",
    "my_greeting = f\"Hello my name is {name} and I am a {job}\"\n",
    "my_greeting"
   ]
  },
  {
   "cell_type": "code",
   "execution_count": null,
   "metadata": {
    "id": "B6VJxEXorlL5",
    "outputId": "2420e305-219a-4d36-ae76-fda5e05b6ac2"
   },
   "outputs": [
    {
     "data": {
      "text/plain": [
       "'Hello my name is Valdis and I am a teacher and I am 45 years old'"
      ]
     },
     "execution_count": 116,
     "metadata": {},
     "output_type": "execute_result"
    }
   ],
   "source": [
    "# i can put any expression inside {} and it will be evaluated\n",
    "my_greeting = f\"Hello my name is {name[:-2]} and I am a {job} and I am {len(name) + len(job)+30} years old\"\n",
    "# so i skip the last two symbols of my name\n",
    "my_greeting"
   ]
  },
  {
   "cell_type": "code",
   "execution_count": null,
   "metadata": {
    "id": "WO38NVnxrlL6"
   },
   "outputs": [],
   "source": [
    "# more on f strings later\n",
    "# documetation https://docs.python.org/3/reference/lexical_analysis.html#f-strings\n",
    "# f-strings tutorial https://realpython.com/python-f-strings/\n",
    "# f strings were added in Python 3.6\n",
    "# older Python used other methods which you can still use\n",
    "# easiest would be to use + operator for simple string concatenation."
   ]
  },
  {
   "cell_type": "code",
   "execution_count": null,
   "metadata": {
    "id": "5YlSNHGvrlL6"
   },
   "outputs": [],
   "source": [
    "a = 3\n",
    "b = 4.352"
   ]
  },
  {
   "cell_type": "code",
   "execution_count": null,
   "metadata": {
    "id": "LittcDSprlL7",
    "outputId": "331cd23b-ad87-4013-d41f-a6a192d7ebf3"
   },
   "outputs": [
    {
     "data": {
      "text/plain": [
       "(3, 4.352)"
      ]
     },
     "execution_count": 124,
     "metadata": {},
     "output_type": "execute_result"
    }
   ],
   "source": [
    "a,b # i do not even need to type cast with f-strings"
   ]
  },
  {
   "cell_type": "code",
   "execution_count": null,
   "metadata": {
    "id": "tBRWgYM0rlL8",
    "outputId": "d2bae7e8-3f69-498d-d100-931a5520efb3"
   },
   "outputs": [
    {
     "data": {
      "text/plain": [
       "'3+4=7'"
      ]
     },
     "execution_count": 122,
     "metadata": {},
     "output_type": "execute_result"
    }
   ],
   "source": [
    "# so i did not need to use str(a) nor str(b) when using f-strings\n",
    "my_calc = f\"{a}+{b}={a+b}\"\n",
    "my_calc"
   ]
  },
  {
   "cell_type": "code",
   "execution_count": null,
   "metadata": {
    "id": "exid2JVmrlL8"
   },
   "outputs": [],
   "source": [
    "# more about f-strings here: https://realpython.com/python-f-strings/\n"
   ]
  },
  {
   "cell_type": "code",
   "execution_count": null,
   "metadata": {
    "id": "Jrxs4xbgrlL9",
    "outputId": "968a0862-06af-4652-8f2c-9fb8d37007aa"
   },
   "outputs": [
    {
     "data": {
      "text/plain": [
       "'ptte'"
      ]
     },
     "execution_count": 70,
     "metadata": {},
     "output_type": "execute_result"
    }
   ],
   "source": [
    "food = \"potatoes\"\n",
    "\n",
    "# food[::2]"
   ]
  },
  {
   "cell_type": "code",
   "execution_count": null,
   "metadata": {
    "id": "8eVl2RV2rlL9",
    "outputId": "ab224419-4a97-47cd-b97a-40d51382b76f"
   },
   "outputs": [
    {
     "data": {
      "text/plain": [
       "'oaos'"
      ]
     },
     "execution_count": 71,
     "metadata": {},
     "output_type": "execute_result"
    }
   ],
   "source": [
    "food[1::2]"
   ]
  },
  {
   "cell_type": "code",
   "execution_count": null,
   "metadata": {
    "id": "S_2f5ks4rlL9",
    "outputId": "6aed391a-c520-4af2-df55-f3873a13f752"
   },
   "outputs": [
    {
     "data": {
      "text/plain": [
       "'Vli'"
      ]
     },
     "execution_count": 39,
     "metadata": {},
     "output_type": "execute_result"
    }
   ],
   "source": [
    "name[::2]"
   ]
  },
  {
   "cell_type": "code",
   "execution_count": null,
   "metadata": {
    "id": "Tw-g9FpbrlL-"
   },
   "outputs": [],
   "source": [
    "shortName = name[::2]"
   ]
  },
  {
   "cell_type": "code",
   "execution_count": null,
   "metadata": {
    "id": "Azo4HHShrlL-",
    "outputId": "61fda8f6-064f-4cf0-bec9-448c2c7c613a"
   },
   "outputs": [
    {
     "data": {
      "text/plain": [
       "'Vli'"
      ]
     },
     "execution_count": 41,
     "metadata": {},
     "output_type": "execute_result"
    }
   ],
   "source": [
    "shortName"
   ]
  },
  {
   "cell_type": "code",
   "execution_count": null,
   "metadata": {
    "id": "BHWmeKIXrlL-",
    "outputId": "218739e2-154b-48a2-dc1d-30f00bc5217f"
   },
   "outputs": [
    {
     "data": {
      "text/plain": [
       "'ptte'"
      ]
     },
     "execution_count": 42,
     "metadata": {},
     "output_type": "execute_result"
    }
   ],
   "source": [
    "# lets play with food!\n",
    "food = \"potatoes\"\n",
    "food[::2]"
   ]
  },
  {
   "cell_type": "code",
   "execution_count": null,
   "metadata": {
    "id": "b6gTKYvQrlL-",
    "outputId": "e6b42fbf-877b-48ee-c5d6-df3b6d273e15"
   },
   "outputs": [
    {
     "data": {
      "text/plain": [
       "'oaos'"
      ]
     },
     "execution_count": 43,
     "metadata": {},
     "output_type": "execute_result"
    }
   ],
   "source": [
    "food[1::2]"
   ]
  },
  {
   "cell_type": "code",
   "execution_count": null,
   "metadata": {
    "id": "uylZni8nrlL-",
    "outputId": "2bce375e-09d4-4654-8f8f-8993891e6479"
   },
   "outputs": [
    {
     "data": {
      "text/plain": [
       "'oao'"
      ]
     },
     "execution_count": 44,
     "metadata": {},
     "output_type": "execute_result"
    }
   ],
   "source": [
    "food[1:6:2]"
   ]
  },
  {
   "cell_type": "code",
   "execution_count": null,
   "metadata": {
    "id": "agJVn96BrlL_",
    "outputId": "7cdbc9ce-aba3-4d26-a755-d6998e31d9af"
   },
   "outputs": [
    {
     "data": {
      "text/plain": [
       "'seotatop'"
      ]
     },
     "execution_count": 72,
     "metadata": {},
     "output_type": "execute_result"
    }
   ],
   "source": [
    "# Pythonic way of reversing a string\n",
    "food[::-1]\n"
   ]
  },
  {
   "cell_type": "code",
   "execution_count": null,
   "metadata": {
    "id": "qq-gNqGTrlL_",
    "outputId": "ad79b51b-007e-47b9-c361-65a6dcfd8883"
   },
   "outputs": [
    {
     "ename": "TypeError",
     "evalue": "'str' object does not support item assignment",
     "output_type": "error",
     "traceback": [
      "\u001b[1;31m---------------------------------------------------------------------------\u001b[0m",
      "\u001b[1;31mTypeError\u001b[0m                                 Traceback (most recent call last)",
      "\u001b[1;32m<ipython-input-73-e1890c335e82>\u001b[0m in \u001b[0;36m<module>\u001b[1;34m\u001b[0m\n\u001b[1;32m----> 1\u001b[1;33m \u001b[0mfood\u001b[0m\u001b[1;33m[\u001b[0m\u001b[1;36m1\u001b[0m\u001b[1;33m]\u001b[0m \u001b[1;33m=\u001b[0m \u001b[1;34m\"x\"\u001b[0m\u001b[1;33m\u001b[0m\u001b[1;33m\u001b[0m\u001b[0m\n\u001b[0m",
      "\u001b[1;31mTypeError\u001b[0m: 'str' object does not support item assignment"
     ]
    }
   ],
   "source": [
    "food[1] = \"x\""
   ]
  },
  {
   "cell_type": "code",
   "execution_count": null,
   "metadata": {
    "id": "JP4Pqk1nrlL_",
    "outputId": "4f6c6500-e072-4a6b-fdab-ecfea3d6fca0"
   },
   "outputs": [
    {
     "data": {
      "text/plain": [
       "'poxatoes'"
      ]
     },
     "execution_count": 74,
     "metadata": {},
     "output_type": "execute_result"
    }
   ],
   "source": [
    "# modifying strings\n",
    "# unmutability\n",
    "# food[2]=\"x\" is not allowed\n",
    "newfood = food[:2] + \"x\" + food[3:]\n",
    "newfood"
   ]
  },
  {
   "cell_type": "code",
   "execution_count": null,
   "metadata": {
    "id": "_BSx85GbrlL_",
    "outputId": "93c21bfb-69ef-4f65-ccd7-fbea620ccd9a"
   },
   "outputs": [
    {
     "data": {
      "text/plain": [
       "'poYatoes'"
      ]
     },
     "execution_count": 75,
     "metadata": {},
     "output_type": "execute_result"
    }
   ],
   "source": [
    "franken_food = newfood.replace(\"x\",\"Y\")\n",
    "franken_food"
   ]
  },
  {
   "cell_type": "code",
   "execution_count": null,
   "metadata": {
    "id": "7JoA6Q4vrlMA",
    "outputId": "c6011faf-c6c9-4c58-d194-13c521df0062"
   },
   "outputs": [
    {
     "name": "stdout",
     "output_type": "stream",
     "text": [
      "Hello Valdis 7\n"
     ]
    }
   ],
   "source": [
    "# f-strings Python 3.6 and up\n",
    "print(f\"Hello {name} {a}\")"
   ]
  },
  {
   "cell_type": "code",
   "execution_count": null,
   "metadata": {
    "id": "r_Xw5xE9rlMA",
    "outputId": "0c1be6be-f617-469a-fb51-4cda85bbe6f3"
   },
   "outputs": [
    {
     "ename": "SyntaxError",
     "evalue": "invalid syntax (<fstring>, line 1)",
     "output_type": "error",
     "traceback": [
      "\u001b[1;36m  File \u001b[1;32m\"<fstring>\"\u001b[1;36m, line \u001b[1;32m1\u001b[0m\n\u001b[1;33m    (name=)\u001b[0m\n\u001b[1;37m         ^\u001b[0m\n\u001b[1;31mSyntaxError\u001b[0m\u001b[1;31m:\u001b[0m invalid syntax\n"
     ]
    }
   ],
   "source": [
    "print(f\"Hello {name=} {a=}\") # only in 3.8.x and up"
   ]
  },
  {
   "cell_type": "code",
   "execution_count": null,
   "metadata": {
    "id": "UuUYYeXOrlMA"
   },
   "outputs": [],
   "source": [
    "import sys"
   ]
  },
  {
   "cell_type": "code",
   "execution_count": null,
   "metadata": {
    "id": "X_3FnQForlMA",
    "outputId": "4bdbe7bc-15fb-46d6-dd01-45c9377d06c8"
   },
   "outputs": [
    {
     "data": {
      "text/plain": [
       "'3.7.3 (default, Mar 27 2019, 17:13:21) [MSC v.1915 64 bit (AMD64)]'"
      ]
     },
     "execution_count": 80,
     "metadata": {},
     "output_type": "execute_result"
    }
   ],
   "source": [
    "sys.version"
   ]
  },
  {
   "cell_type": "code",
   "execution_count": null,
   "metadata": {
    "id": "xKuN-1q-rlMA",
    "outputId": "22eb5d36-2e0e-4054-abb3-459849ee5529"
   },
   "outputs": [
    {
     "data": {
      "text/plain": [
       "\"Alice said 'catch the rabbit' and run away\""
      ]
     },
     "execution_count": 82,
     "metadata": {},
     "output_type": "execute_result"
    }
   ],
   "source": [
    "my_string = \"Alice said 'catch the rabbit' and run away\"\n",
    "my_string"
   ]
  },
  {
   "cell_type": "code",
   "execution_count": null,
   "metadata": {
    "id": "VEaC2iXwrlMB",
    "outputId": "66ad9f7b-00b3-4240-90c3-3dafeb92dce2"
   },
   "outputs": [
    {
     "name": "stdout",
     "output_type": "stream",
     "text": [
      "i said\"hello there\" and i am done\n"
     ]
    }
   ],
   "source": [
    "print(\"i said\\\"hello there\\\" and i am done\")"
   ]
  },
  {
   "cell_type": "code",
   "execution_count": null,
   "metadata": {
    "id": "OgTnbonDrlMB"
   },
   "outputs": [],
   "source": [
    "# '', \"\" work the same\n",
    "# '''  For multiline '''\n",
    "longstring = ''' This will be a very long 'string'\n",
    "    and a very long day\n",
    "    and a very long summer\n",
    "'''"
   ]
  },
  {
   "cell_type": "code",
   "execution_count": null,
   "metadata": {
    "id": "I48x4DfhrlMB",
    "outputId": "73bef865-bdcb-496e-bf3c-2332b1db6159"
   },
   "outputs": [
    {
     "name": "stdout",
     "output_type": "stream",
     "text": [
      " This will be a very long 'string' \n",
      "    and a very long day\n",
      "    and a very long summer\n",
      "\n"
     ]
    }
   ],
   "source": [
    "# print out the longstring\n",
    "print(longstring)"
   ]
  },
  {
   "cell_type": "code",
   "execution_count": null,
   "metadata": {
    "id": "_WN-oDqurlMB",
    "outputId": "73104e6a-8a41-46fb-d301-660d81740629"
   },
   "outputs": [
    {
     "data": {
      "text/plain": [
       "'Valdis said \"Python is interesting\" and it worked!'"
      ]
     },
     "execution_count": 51,
     "metadata": {},
     "output_type": "execute_result"
    }
   ],
   "source": [
    "mystring = \"Valdis said \\\"Python is interesting\\\" and it worked!\"\n",
    "mystring"
   ]
  },
  {
   "cell_type": "code",
   "execution_count": null,
   "metadata": {
    "id": "LQBhXeqfrlMB"
   },
   "outputs": [],
   "source": [
    "secondtext = 'Valdis said \"Double vs Single\" also works'"
   ]
  },
  {
   "cell_type": "markdown",
   "metadata": {
    "id": "-p0GBMF5rlMC"
   },
   "source": [
    "## \"f-strings\", “formatted string literals”\n",
    "\n",
    "In some other languages also known as string interpolation"
   ]
  },
  {
   "cell_type": "code",
   "execution_count": null,
   "metadata": {
    "id": "3-skkWSrrlMC"
   },
   "outputs": [],
   "source": [
    "# Create myname and favfood variables with appropriate text\n",
    "# Then run the cell below\n",
    "# What would happen if you did not assign variables ?\n",
    "favfood = \"potatoes\""
   ]
  },
  {
   "cell_type": "code",
   "execution_count": null,
   "metadata": {
    "id": "NF5qLMk4rlMC",
    "outputId": "6096a28a-0c6e-459f-c462-3f982606504c"
   },
   "outputs": [
    {
     "name": "stdout",
     "output_type": "stream",
     "text": [
      "My name is 7 and my favorite food is potatoespotatoes \n"
     ]
    }
   ],
   "source": [
    "print(f\"My name is {myname} and my favorite food is {favfood*2} \")\n",
    "# f strings in Python 3.6+ older formatting methods not covered in this course\n",
    "# https://realpython.com/python-f-strings/\n"
   ]
  },
  {
   "cell_type": "code",
   "execution_count": null,
   "metadata": {
    "id": "eFBSDBBqrlMC",
    "outputId": "6b67e24a-5d48-42d8-eaa3-f8753080ab84"
   },
   "outputs": [
    {
     "data": {
      "text/plain": [
       "'Valdis Uldis'"
      ]
     },
     "execution_count": 86,
     "metadata": {},
     "output_type": "execute_result"
    }
   ],
   "source": [
    "\"Valdis\"+\" Uldis\""
   ]
  },
  {
   "cell_type": "code",
   "execution_count": null,
   "metadata": {
    "id": "i1__ncPXrlMC",
    "outputId": "4ce94f08-04b5-48e0-ffe2-99ec4cbce01e"
   },
   "outputs": [
    {
     "data": {
      "text/plain": [
       "' Uldis Uldis Uldis Uldis Uldis'"
      ]
     },
     "execution_count": 87,
     "metadata": {},
     "output_type": "execute_result"
    }
   ],
   "source": [
    "5*\" Uldis\""
   ]
  },
  {
   "cell_type": "code",
   "execution_count": null,
   "metadata": {
    "id": "30fwRN2FrlMC",
    "outputId": "0a361793-215a-4b11-c6a2-98d5e671e695"
   },
   "outputs": [
    {
     "name": "stdout",
     "output_type": "stream",
     "text": [
      "My name is Valdis and my favorite food is potatoes\n"
     ]
    }
   ],
   "source": [
    "# Old string concatation method\n",
    "print(\"My name is \" + myname + \" and my favorite food is \" + favfood)"
   ]
  },
  {
   "cell_type": "code",
   "execution_count": null,
   "metadata": {
    "id": "vQtzAFz_rlMD"
   },
   "outputs": [],
   "source": [
    "myname = \"Valdis\""
   ]
  },
  {
   "cell_type": "code",
   "execution_count": null,
   "metadata": {
    "id": "lJNhJIPJrlMD",
    "outputId": "5b76fa18-4e3d-440c-aa71-2c882f60d491"
   },
   "outputs": [
    {
     "data": {
      "text/plain": [
       "True"
      ]
     },
     "execution_count": 60,
     "metadata": {},
     "output_type": "execute_result"
    }
   ],
   "source": [
    "\"al\" in myname"
   ]
  },
  {
   "cell_type": "code",
   "execution_count": null,
   "metadata": {
    "id": "6zG6zjLorlMD",
    "outputId": "5d82ac4e-37c7-47d8-ce76-0f7dca2e0a9a"
   },
   "outputs": [
    {
     "data": {
      "text/plain": [
       "False"
      ]
     },
     "execution_count": 61,
     "metadata": {},
     "output_type": "execute_result"
    }
   ],
   "source": [
    "\"food\" in myname"
   ]
  },
  {
   "cell_type": "code",
   "execution_count": null,
   "metadata": {
    "id": "fVi-7fmsrlMD",
    "outputId": "8ee03cc8-ea88-44ae-9e5d-f91a186eab69"
   },
   "outputs": [
    {
     "data": {
      "text/plain": [
       "False"
      ]
     },
     "execution_count": 62,
     "metadata": {},
     "output_type": "execute_result"
    }
   ],
   "source": [
    "\"Valdis\" > \"Voldamars\""
   ]
  },
  {
   "cell_type": "code",
   "execution_count": null,
   "metadata": {
    "id": "E9aYP8MIrlMD",
    "outputId": "40ed70f3-b233-493a-c62d-268ea3ff3213"
   },
   "outputs": [
    {
     "data": {
      "text/plain": [
       "97"
      ]
     },
     "execution_count": 64,
     "metadata": {},
     "output_type": "execute_result"
    }
   ],
   "source": [
    "ord(\"a\")"
   ]
  },
  {
   "cell_type": "code",
   "execution_count": null,
   "metadata": {
    "id": "awKlbFTJrlME",
    "outputId": "6ab20664-655f-434f-83d4-e33ffd7014f7"
   },
   "outputs": [
    {
     "data": {
      "text/plain": [
       "'o'"
      ]
     },
     "execution_count": 65,
     "metadata": {},
     "output_type": "execute_result"
    }
   ],
   "source": [
    "chr(111)"
   ]
  },
  {
   "cell_type": "markdown",
   "metadata": {
    "id": "I1x05MMXrlME"
   },
   "source": [
    "## Python Lists\n",
    "\n",
    "* Ordered\n",
    "* Mutable(can change individual members!)\n",
    "* Comma separated between brackets [1,3,2,5,6,2]\n",
    "* Can have duplicates\n",
    "* Can be nested\n"
   ]
  },
  {
   "cell_type": "code",
   "execution_count": null,
   "metadata": {
    "id": "wh8csZa7rlME"
   },
   "outputs": [],
   "source": [
    "newlist = [1,2,3,\"Liftoff!\"]"
   ]
  },
  {
   "cell_type": "code",
   "execution_count": null,
   "metadata": {
    "id": "tXIJx4plrlME",
    "outputId": "81fef1d6-70a0-4028-d327-e20cbcbc32c6"
   },
   "outputs": [
    {
     "data": {
      "text/plain": [
       "[1, 2, 3, 'Liftoff!']"
      ]
     },
     "execution_count": 67,
     "metadata": {},
     "output_type": "execute_result"
    }
   ],
   "source": [
    "newlist"
   ]
  },
  {
   "cell_type": "code",
   "execution_count": null,
   "metadata": {
    "id": "RsFmaoH_rlME",
    "outputId": "58851ef9-134e-4cd9-c528-068dca7420c2"
   },
   "outputs": [
    {
     "data": {
      "text/plain": [
       "list"
      ]
     },
     "execution_count": 2,
     "metadata": {},
     "output_type": "execute_result"
    }
   ],
   "source": [
    "type(newlist)"
   ]
  },
  {
   "cell_type": "code",
   "execution_count": null,
   "metadata": {
    "id": "ieX62UCNrlME",
    "outputId": "4c25cc24-2cf5-4496-e0c2-bf45739dfa5f"
   },
   "outputs": [
    {
     "name": "stdout",
     "output_type": "stream",
     "text": [
      "[11, 12, 13, 14, 15, 16, 17, 18, 19, 20, 21]\n"
     ]
    }
   ],
   "source": [
    "mylist = list(range(11,21+1,1))\n",
    "# mylist = [11, 12, 13, 14, 15, 16, 17, 18, 19, 20] would work too but not practical for longer ranges...\n",
    "print(mylist)"
   ]
  },
  {
   "cell_type": "code",
   "execution_count": null,
   "metadata": {
    "id": "uu6VqeamrlMF",
    "outputId": "7426dae5-607f-4e14-de15-482652b9dd1b"
   },
   "outputs": [
    {
     "data": {
      "text/plain": [
       "[11, 12, 13, 14, 15]"
      ]
     },
     "execution_count": 4,
     "metadata": {},
     "output_type": "execute_result"
    }
   ],
   "source": [
    "mylist[:5]"
   ]
  },
  {
   "cell_type": "code",
   "execution_count": null,
   "metadata": {
    "id": "e91RZXZXrlMF",
    "outputId": "f607466d-beb4-4ada-f75e-9c0318aa63d7"
   },
   "outputs": [
    {
     "data": {
      "text/plain": [
       "[21, 20, 19, 18, 17, 16, 15, 14, 13, 12, 11]"
      ]
     },
     "execution_count": 5,
     "metadata": {},
     "output_type": "execute_result"
    }
   ],
   "source": [
    "mylist[::-1]"
   ]
  },
  {
   "cell_type": "code",
   "execution_count": null,
   "metadata": {
    "id": "TcI6PwimrlMF",
    "outputId": "9ee489a2-d7d7-49d8-e138-a02cd9b733ad"
   },
   "outputs": [
    {
     "data": {
      "text/plain": [
       "16"
      ]
     },
     "execution_count": 6,
     "metadata": {},
     "output_type": "execute_result"
    }
   ],
   "source": [
    "mylist[len(mylist)//2]"
   ]
  },
  {
   "cell_type": "code",
   "execution_count": null,
   "metadata": {
    "id": "ThcXRdWqrlMF",
    "outputId": "18286779-ec5e-4f03-e141-f86f3f249dea"
   },
   "outputs": [
    {
     "data": {
      "text/plain": [
       "(4, 10, 5, 2.5, 2, 2, 2)"
      ]
     },
     "execution_count": 7,
     "metadata": {},
     "output_type": "execute_result"
    }
   ],
   "source": [
    "2*2, 5+5, 10-5, 5/2, int(5/2), 5//2, 7%5"
   ]
  },
  {
   "cell_type": "code",
   "execution_count": null,
   "metadata": {
    "id": "1cFquiH1rlMG",
    "outputId": "087055fb-b82b-4728-8b78-67ea568f81f8"
   },
   "outputs": [
    {
     "data": {
      "text/plain": [
       "1000000000000"
      ]
     },
     "execution_count": 8,
     "metadata": {},
     "output_type": "execute_result"
    }
   ],
   "source": [
    "1_000_000**2"
   ]
  },
  {
   "cell_type": "markdown",
   "metadata": {
    "id": "oRf94w5krlMG"
   },
   "source": [
    "### Slice notation\n",
    "\n",
    "somestring[start:end:step]\n",
    "\n",
    "somelist[start:end:step]\n",
    "\n",
    "start is at index 0(first element), end is -1 the actual index\n",
    "#### Examples below"
   ]
  },
  {
   "cell_type": "code",
   "execution_count": null,
   "metadata": {
    "id": "odQPXrZPrlMG",
    "outputId": "d4bcb278-8fa7-44fa-d070-e41a5d20466f"
   },
   "outputs": [
    {
     "data": {
      "text/plain": [
       "11"
      ]
     },
     "execution_count": 46,
     "metadata": {},
     "output_type": "execute_result"
    }
   ],
   "source": [
    "mylist[0]"
   ]
  },
  {
   "cell_type": "code",
   "execution_count": null,
   "metadata": {
    "id": "wkSVQM-3rlMG",
    "outputId": "f3712753-812f-4c50-91a3-3c24fff8c286"
   },
   "outputs": [
    {
     "data": {
      "text/plain": [
       "[14, 15, 16, 17, 18, 19, 20]"
      ]
     },
     "execution_count": 47,
     "metadata": {},
     "output_type": "execute_result"
    }
   ],
   "source": [
    "mylist[3:]"
   ]
  },
  {
   "cell_type": "code",
   "execution_count": null,
   "metadata": {
    "id": "2_WXzVYbrlMG",
    "outputId": "9e2a7db7-ff1f-49a3-8f84-d08abef6b575"
   },
   "outputs": [
    {
     "data": {
      "text/plain": [
       "[20, 21]"
      ]
     },
     "execution_count": 77,
     "metadata": {},
     "output_type": "execute_result"
    }
   ],
   "source": [
    "mylist[-2:]"
   ]
  },
  {
   "cell_type": "code",
   "execution_count": null,
   "metadata": {
    "id": "Lrw6t9lLrlMH",
    "outputId": "26e6e900-ff28-4a29-fd67-711a65b401d2"
   },
   "outputs": [
    {
     "data": {
      "text/plain": [
       "[11, 12, 13, 14, 15, 16, 17, 18, 19]"
      ]
     },
     "execution_count": 78,
     "metadata": {},
     "output_type": "execute_result"
    }
   ],
   "source": [
    "mylist[:-2]"
   ]
  },
  {
   "cell_type": "code",
   "execution_count": null,
   "metadata": {
    "id": "_Zc7Ljb-rlMH",
    "outputId": "12e5ddc3-344a-4a96-eaad-950c7bd66682"
   },
   "outputs": [
    {
     "data": {
      "text/plain": [
       "[11, 13, 15, 17, 19, 21]"
      ]
     },
     "execution_count": 9,
     "metadata": {},
     "output_type": "execute_result"
    }
   ],
   "source": [
    "mylist[::2]"
   ]
  },
  {
   "cell_type": "code",
   "execution_count": null,
   "metadata": {
    "id": "wp69JzYBrlMH",
    "outputId": "fec6932c-0a0b-428c-b834-66280c24a12f"
   },
   "outputs": [
    {
     "data": {
      "text/plain": [
       "'ldi'"
      ]
     },
     "execution_count": 79,
     "metadata": {},
     "output_type": "execute_result"
    }
   ],
   "source": [
    "\"Valdis\"[2:5]"
   ]
  },
  {
   "cell_type": "code",
   "execution_count": null,
   "metadata": {
    "id": "nfmJtFvSrlMI"
   },
   "outputs": [],
   "source": [
    "myname[-1]"
   ]
  },
  {
   "cell_type": "code",
   "execution_count": null,
   "metadata": {
    "id": "Mh-lHkzNrlMI"
   },
   "outputs": [],
   "source": [
    "myname[::-1]"
   ]
  },
  {
   "cell_type": "code",
   "execution_count": null,
   "metadata": {
    "id": "h4dNGqdDrlMI",
    "outputId": "38f97f8e-76a9-4c0d-af3c-846b39d9427b"
   },
   "outputs": [
    {
     "data": {
      "text/plain": [
       "[11, 12, 13, 14, 15, 16, 17, 18, 19, 20]"
      ]
     },
     "execution_count": 52,
     "metadata": {},
     "output_type": "execute_result"
    }
   ],
   "source": [
    "mylist"
   ]
  },
  {
   "cell_type": "markdown",
   "metadata": {
    "id": "guhs2uQHrlMI"
   },
   "source": [
    "\n",
    "### Common list methods.\n",
    "* list.append(elem) -- adds a single element to the end of the list. Common error: does not return the new list, just modifies the original.\n",
    "* list.insert(index, elem) -- inserts the element at the given index, shifting elements to the right.\n",
    "* list.extend(list2) adds the elements in list2 to the end of the list. Using + or += on a list is similar to using extend().\n",
    "* list.index(elem) -- searches for the given element from the start of the list and returns its index. Throws a ValueError if the element does not appear (use \"in\" to check without a ValueError).\n",
    "* list.remove(elem) -- searches for the first instance of the given element and removes it (throws ValueError if not present)\n",
    "* list.sort() -- sorts the list in place (does not return it). (The sorted() function shown later is preferred.)\n",
    "* list.reverse() -- reverses the list in place (does not return it)\n",
    "* list.pop(index)-- removes and returns the element at the given index. Returns the rightmost element if index is omitted (roughly the opposite of append())."
   ]
  },
  {
   "cell_type": "code",
   "execution_count": null,
   "metadata": {
    "id": "3JRj9nh2rlMI",
    "outputId": "ab2c0184-11cc-48ac-9757-44f69b6b5a45"
   },
   "outputs": [
    {
     "data": {
      "text/plain": [
       "[11, 12, 13, 14, 15, 16, 17, 18, 19, 20, 21, 777]"
      ]
     },
     "execution_count": 10,
     "metadata": {},
     "output_type": "execute_result"
    }
   ],
   "source": [
    "mylist.append(777)\n",
    "mylist"
   ]
  },
  {
   "cell_type": "code",
   "execution_count": null,
   "metadata": {
    "id": "UZu2gdAFrlMJ",
    "outputId": "e6c999fe-a8c3-426a-be4b-1291381d7d6d"
   },
   "outputs": [
    {
     "data": {
      "text/plain": [
       "11"
      ]
     },
     "execution_count": 11,
     "metadata": {},
     "output_type": "execute_result"
    }
   ],
   "source": [
    "mylist.index(777)"
   ]
  },
  {
   "cell_type": "code",
   "execution_count": null,
   "metadata": {
    "id": "VPPkIAaBrlMJ",
    "outputId": "d62ccfe6-00f9-4a05-9c27-47a6de0aa7c1"
   },
   "outputs": [
    {
     "data": {
      "text/plain": [
       "(777, [11, 12, 13, 14, 15, 16, 17, 18, 19, 20, 21])"
      ]
     },
     "execution_count": 12,
     "metadata": {},
     "output_type": "execute_result"
    }
   ],
   "source": [
    "lastitem = mylist.pop()\n",
    "lastitem, mylist"
   ]
  },
  {
   "cell_type": "code",
   "execution_count": null,
   "metadata": {
    "id": "I_f15ggQrlMJ",
    "outputId": "6faeddb3-a0fb-447d-de14-7c7ae9407240"
   },
   "outputs": [
    {
     "data": {
      "text/plain": [
       "[11, 12, 13, 14, 15, 16, 17, 18, 19, 20, 21, 42]"
      ]
     },
     "execution_count": 13,
     "metadata": {},
     "output_type": "execute_result"
    }
   ],
   "source": [
    "mylist.append(42)\n",
    "mylist"
   ]
  },
  {
   "cell_type": "code",
   "execution_count": null,
   "metadata": {
    "id": "jVzyrojfrlMK",
    "outputId": "7c599402-bbe9-4067-bdec-5fc4ca390df8"
   },
   "outputs": [
    {
     "ename": "IndexError",
     "evalue": "pop from empty list",
     "output_type": "error",
     "traceback": [
      "\u001b[1;31m---------------------------------------------------------------------------\u001b[0m",
      "\u001b[1;31mIndexError\u001b[0m                                Traceback (most recent call last)",
      "\u001b[1;32m<ipython-input-26-53acc36e1148>\u001b[0m in \u001b[0;36m<module>\u001b[1;34m\u001b[0m\n\u001b[1;32m----> 1\u001b[1;33m \u001b[0mmylist\u001b[0m\u001b[1;33m.\u001b[0m\u001b[0mpop\u001b[0m\u001b[1;33m(\u001b[0m\u001b[1;33m)\u001b[0m\u001b[1;33m\u001b[0m\u001b[1;33m\u001b[0m\u001b[0m\n\u001b[0m",
      "\u001b[1;31mIndexError\u001b[0m: pop from empty list"
     ]
    }
   ],
   "source": [
    "mylist.pop()"
   ]
  },
  {
   "cell_type": "code",
   "execution_count": null,
   "metadata": {
    "id": "hq-K_FgLrlMK",
    "outputId": "1afb1053-d1cd-4ef0-c306-4a4129ac7d55"
   },
   "outputs": [
    {
     "data": {
      "text/plain": [
       "[3, 6, 7, 8, 2, 2, 1, 6, 8, 3, 300, -555]"
      ]
     },
     "execution_count": 29,
     "metadata": {},
     "output_type": "execute_result"
    }
   ],
   "source": [
    "mylist = [3,6,7,8,2,2,1,6,8,3,300,-555]\n",
    "mylist"
   ]
  },
  {
   "cell_type": "code",
   "execution_count": null,
   "metadata": {
    "id": "12CrxCMYrlMK",
    "outputId": "dde9edce-760e-4ca1-b216-813d67b89057"
   },
   "outputs": [
    {
     "data": {
      "text/plain": [
       "[300, 8, 8, 7, 6, 6, 3, 3, 2, 2, 1, -555]"
      ]
     },
     "execution_count": 34,
     "metadata": {},
     "output_type": "execute_result"
    }
   ],
   "source": [
    "mysortedlist = sorted(mylist, reverse=True)\n",
    "mysortedlist"
   ]
  },
  {
   "cell_type": "code",
   "execution_count": null,
   "metadata": {
    "id": "tJkjY_v2rlMK",
    "outputId": "631b5742-a345-4d79-bdb3-84b65960c854"
   },
   "outputs": [
    {
     "data": {
      "text/plain": [
       "[300, 8, 8, 7, 6, 6, 3, 3, 2, 2, 1, -555]"
      ]
     },
     "execution_count": 32,
     "metadata": {},
     "output_type": "execute_result"
    }
   ],
   "source": [
    "sorted(mylist)[::-1]"
   ]
  },
  {
   "cell_type": "code",
   "execution_count": null,
   "metadata": {
    "id": "FQz78HTurlMK",
    "outputId": "ce3dd694-ece8-491c-f26d-e7fd1e49915a"
   },
   "outputs": [
    {
     "data": {
      "text/plain": [
       "[3, 6, 7, 8, 2, 2, 1, 6, 8, 3, 300, -555]"
      ]
     },
     "execution_count": 33,
     "metadata": {},
     "output_type": "execute_result"
    }
   ],
   "source": [
    "mylist"
   ]
  },
  {
   "cell_type": "code",
   "execution_count": null,
   "metadata": {
    "id": "p0KNrNFWrlML",
    "outputId": "ecad4330-1fca-4e15-bf44-913689863c29"
   },
   "outputs": [
    {
     "data": {
      "text/plain": [
       "[-555, 1, 2, 2, 3, 3, 6, 6, 7, 8, 8, 300]"
      ]
     },
     "execution_count": 35,
     "metadata": {},
     "output_type": "execute_result"
    }
   ],
   "source": [
    "mylist.sort()\n",
    "mylist"
   ]
  },
  {
   "cell_type": "code",
   "execution_count": null,
   "metadata": {
    "id": "7rDTZkJorlML",
    "outputId": "f603deaf-e8a2-4d25-a8e9-279f963fe6bf"
   },
   "outputs": [
    {
     "data": {
      "text/plain": [
       "0"
      ]
     },
     "execution_count": 28,
     "metadata": {},
     "output_type": "execute_result"
    }
   ],
   "source": [
    "mylist.count(42)"
   ]
  },
  {
   "cell_type": "code",
   "execution_count": null,
   "metadata": {
    "id": "unY7nKqmrlML"
   },
   "outputs": [],
   "source": [
    "mystr = \"this is a string\""
   ]
  },
  {
   "cell_type": "code",
   "execution_count": null,
   "metadata": {
    "id": "Kg4tJgDxrlML",
    "outputId": "12397613-df75-47d7-cb80-9f7fb7302723"
   },
   "outputs": [
    {
     "data": {
      "text/plain": [
       "'THIS IS A STRING'"
      ]
     },
     "execution_count": 38,
     "metadata": {},
     "output_type": "execute_result"
    }
   ],
   "source": [
    "mystr.upper()"
   ]
  },
  {
   "cell_type": "code",
   "execution_count": null,
   "metadata": {
    "id": "nqfNc6TRrlML",
    "outputId": "568b4570-af75-4323-c632-2cb88e5ced9b"
   },
   "outputs": [
    {
     "name": "stdout",
     "output_type": "stream",
     "text": [
      "Help on built-in function upper:\n",
      "\n",
      "upper() method of builtins.str instance\n",
      "    Return a copy of the string converted to uppercase.\n",
      "\n"
     ]
    }
   ],
   "source": [
    "help(mystr.upper)"
   ]
  },
  {
   "cell_type": "code",
   "execution_count": null,
   "metadata": {
    "id": "rIbt8dyHrlML"
   },
   "outputs": [],
   "source": [
    "words = mystr.split()"
   ]
  },
  {
   "cell_type": "code",
   "execution_count": null,
   "metadata": {
    "id": "y9ksjqbmrlMM",
    "outputId": "1cb958f2-5bd5-4546-fc06-ccf583d777e1"
   },
   "outputs": [
    {
     "data": {
      "text/plain": [
       "'   Too, many, commas, Latvians like commas, indeed    '"
      ]
     },
     "execution_count": 46,
     "metadata": {},
     "output_type": "execute_result"
    }
   ],
   "source": [
    "csvline = \"   Too, many, commas, Latvians like commas, indeed    \"\n",
    "csvline"
   ]
  },
  {
   "cell_type": "code",
   "execution_count": null,
   "metadata": {
    "id": "QIjl41wbrlMM",
    "outputId": "c4880dd2-97bf-4c24-99b5-79633b600a1f"
   },
   "outputs": [
    {
     "data": {
      "text/plain": [
       "'!!!!!!!!!Too,!!!many,!!!commas,!!!Latvians!!!like!!!commas,!!!indeed!!!!!!!!!!!!'"
      ]
     },
     "execution_count": 47,
     "metadata": {},
     "output_type": "execute_result"
    }
   ],
   "source": [
    "csvline.replace(\" \", \"!!!\")"
   ]
  },
  {
   "cell_type": "code",
   "execution_count": null,
   "metadata": {
    "id": "58jSO0QbrlMM",
    "outputId": "8c948f84-c321-42d2-fd4a-b90d49624efc"
   },
   "outputs": [
    {
     "data": {
      "text/plain": [
       "'   Too, many, commas, Latvians like commas, indeed    '"
      ]
     },
     "execution_count": 48,
     "metadata": {},
     "output_type": "execute_result"
    }
   ],
   "source": [
    "csvline"
   ]
  },
  {
   "cell_type": "code",
   "execution_count": null,
   "metadata": {
    "id": "4qKHh4WyrlMM",
    "outputId": "b3fa84d0-7240-4132-ccfc-3288bfbf395f"
   },
   "outputs": [
    {
     "data": {
      "text/plain": [
       "'Too, many, commas, Latvians like commas, indeed'"
      ]
     },
     "execution_count": 49,
     "metadata": {},
     "output_type": "execute_result"
    }
   ],
   "source": [
    "stripped = csvline.strip()\n",
    "stripped"
   ]
  },
  {
   "cell_type": "code",
   "execution_count": null,
   "metadata": {
    "id": "dYnOXc6PrlMM",
    "outputId": "56c4903f-a871-4116-c040-4b40b96c298c"
   },
   "outputs": [
    {
     "data": {
      "text/plain": [
       "['Too', ' many', ' commas', ' Latvians like commas', ' indeed']"
      ]
     },
     "execution_count": 43,
     "metadata": {},
     "output_type": "execute_result"
    }
   ],
   "source": [
    "cwords = csvline.split(\",\")\n",
    "cwords"
   ]
  },
  {
   "cell_type": "code",
   "execution_count": null,
   "metadata": {
    "id": "qaKB0GWrrlMM",
    "outputId": "84e3bdb0-8e94-40f0-90cc-3a1e73c938c3"
   },
   "outputs": [
    {
     "data": {
      "text/plain": [
       "['Too', 'many', 'commas', 'Latvians like commas', 'indeed']"
      ]
     },
     "execution_count": 50,
     "metadata": {},
     "output_type": "execute_result"
    }
   ],
   "source": [
    "cleanwords = []\n",
    "for word in cwords:\n",
    "    cleanwords.append(word.strip())\n",
    "cleanwords"
   ]
  },
  {
   "cell_type": "code",
   "execution_count": null,
   "metadata": {
    "id": "MHQV9r97rlMN",
    "outputId": "a353e3a5-86d2-4cc2-f0ce-8509ffef9301"
   },
   "outputs": [
    {
     "name": "stdout",
     "output_type": "stream",
     "text": [
      "Too\n",
      " many\n",
      " commas\n",
      " Latvians like commas\n",
      " indeed\n"
     ]
    }
   ],
   "source": [
    "# anti pattern\n",
    "for n in range(len(cwords)):\n",
    "    print(cwords[n])"
   ]
  },
  {
   "cell_type": "code",
   "execution_count": null,
   "metadata": {
    "id": "HOTuTalWrlMN",
    "outputId": "4b715c1a-27d0-47ff-fd07-175a4952b5ef"
   },
   "outputs": [
    {
     "name": "stdout",
     "output_type": "stream",
     "text": [
      "9000 Too\n",
      "Doing more work!\n",
      "9001  many\n",
      "Doing more work!\n",
      "9002  commas\n",
      "Doing more work!\n",
      "9003  Latvians like commas\n",
      "Doing more work!\n",
      "9004  indeed\n",
      "Doing more work!\n",
      "This is the end! no loop needed\n"
     ]
    }
   ],
   "source": [
    "for i, word in enumerate(cwords, start=9000):\n",
    "    print(i, word)\n",
    "    print(\"Doing more work!\")\n",
    "\n",
    "print(\"This is the end! no loop needed\")"
   ]
  },
  {
   "cell_type": "code",
   "execution_count": null,
   "metadata": {
    "id": "4kEm_ASLrlMN",
    "outputId": "72423bc5-ab2c-461e-f306-bc6d76ace05e"
   },
   "outputs": [
    {
     "data": {
      "text/plain": [
       "['this', 'is', 'a', 'string']"
      ]
     },
     "execution_count": 41,
     "metadata": {},
     "output_type": "execute_result"
    }
   ],
   "source": [
    "words"
   ]
  },
  {
   "cell_type": "code",
   "execution_count": null,
   "metadata": {
    "id": "y6ngPcEUrlMN",
    "outputId": "db94f7b1-93a1-4dde-ecc6-6ba7c6496cd3"
   },
   "outputs": [
    {
     "data": {
      "text/plain": [
       "'string'"
      ]
     },
     "execution_count": 64,
     "metadata": {},
     "output_type": "execute_result"
    }
   ],
   "source": [
    "words[-1]"
   ]
  },
  {
   "cell_type": "markdown",
   "metadata": {
    "id": "YhSiqrPfrlMN"
   },
   "source": [
    "## Dictionaries\n",
    "\n",
    "* Collection of Key - Value pairs\n",
    "* also known as associative array\n",
    "* unordered\n",
    "* keys unique in one dictionary\n",
    "* storing, extracting"
   ]
  },
  {
   "cell_type": "code",
   "execution_count": null,
   "metadata": {
    "id": "B8jCmzSTrlMN"
   },
   "outputs": [],
   "source": [
    "mydict = {\"country\":\"Latvia\"} #Key-Value store, also knows as Hashmaps, Keys must be unique"
   ]
  },
  {
   "cell_type": "code",
   "execution_count": null,
   "metadata": {
    "id": "k4LntJ7JrlMO"
   },
   "outputs": [],
   "source": [
    "mydict[\"food\"]=\"potatoes\""
   ]
  },
  {
   "cell_type": "code",
   "execution_count": null,
   "metadata": {
    "id": "FVehbF2srlMO",
    "outputId": "8acf30b2-e283-44fc-8271-638dc4068f55"
   },
   "outputs": [
    {
     "data": {
      "text/plain": [
       "'potatoes'"
      ]
     },
     "execution_count": 57,
     "metadata": {},
     "output_type": "execute_result"
    }
   ],
   "source": [
    "mydict[\"food\"]"
   ]
  },
  {
   "cell_type": "code",
   "execution_count": null,
   "metadata": {
    "id": "edAvypM5rlMO",
    "outputId": "85fd0e57-df9b-4499-e4c4-67dbf37678ea"
   },
   "outputs": [
    {
     "data": {
      "text/plain": [
       "'Latvia'"
      ]
     },
     "execution_count": 59,
     "metadata": {},
     "output_type": "execute_result"
    }
   ],
   "source": [
    "favoritecountry = mydict[\"country\"]\n",
    "favoritecountry"
   ]
  },
  {
   "cell_type": "code",
   "execution_count": null,
   "metadata": {
    "id": "gRwWus2_rlMO",
    "outputId": "d79ccbe8-b042-4481-c455-2f7a58445d97"
   },
   "outputs": [
    {
     "data": {
      "text/plain": [
       "2"
      ]
     },
     "execution_count": 60,
     "metadata": {},
     "output_type": "execute_result"
    }
   ],
   "source": [
    "len(mydict)"
   ]
  },
  {
   "cell_type": "code",
   "execution_count": null,
   "metadata": {
    "id": "37frS3y0rlMO",
    "outputId": "0a518196-3d28-4c3b-ab50-7bb2630e746d"
   },
   "outputs": [
    {
     "data": {
      "text/plain": [
       "{'country': 'Latvia', 'food': 'potatoes'}"
      ]
     },
     "execution_count": 61,
     "metadata": {},
     "output_type": "execute_result"
    }
   ],
   "source": [
    "mydict"
   ]
  },
  {
   "cell_type": "code",
   "execution_count": null,
   "metadata": {
    "id": "307rh7H5rlMP"
   },
   "outputs": [],
   "source": []
  },
  {
   "cell_type": "code",
   "execution_count": null,
   "metadata": {
    "id": "iA3a78TPrlMP",
    "outputId": "87429369-38e0-4ccf-c6f9-b15b99f8bfc6"
   },
   "outputs": [
    {
     "data": {
      "text/plain": [
       "dict_keys(['country', 'food'])"
      ]
     },
     "execution_count": 62,
     "metadata": {},
     "output_type": "execute_result"
    }
   ],
   "source": [
    "mydict.keys()"
   ]
  },
  {
   "cell_type": "code",
   "execution_count": null,
   "metadata": {
    "id": "bgNAsnTbrlMP",
    "outputId": "1e8eecb2-84f8-4a78-a882-b87727e133f2"
   },
   "outputs": [
    {
     "data": {
      "text/plain": [
       "dict_values(['Latvia', 'potatoes'])"
      ]
     },
     "execution_count": 63,
     "metadata": {},
     "output_type": "execute_result"
    }
   ],
   "source": [
    "mydict.values()"
   ]
  },
  {
   "cell_type": "code",
   "execution_count": null,
   "metadata": {
    "id": "-TN9Bh45rlMP",
    "outputId": "819184fc-adb4-4752-a800-0ea08c85b1b8"
   },
   "outputs": [
    {
     "data": {
      "text/plain": [
       "dict_items([('country', 'Latvia'), ('food', 'potatoes')])"
      ]
     },
     "execution_count": 64,
     "metadata": {},
     "output_type": "execute_result"
    }
   ],
   "source": [
    "mydict.items()"
   ]
  },
  {
   "cell_type": "code",
   "execution_count": null,
   "metadata": {
    "id": "R5m2JzxwrlMP"
   },
   "outputs": [],
   "source": [
    "mydict.values()"
   ]
  },
  {
   "cell_type": "code",
   "execution_count": null,
   "metadata": {
    "id": "dN_b5tbHrlMQ",
    "outputId": "5f316ffd-f372-4852-b2f8-2c22dccb452a"
   },
   "outputs": [
    {
     "data": {
      "text/plain": [
       "True"
      ]
     },
     "execution_count": 65,
     "metadata": {},
     "output_type": "execute_result"
    }
   ],
   "source": [
    "\"potatoes\" in mydict.values()"
   ]
  },
  {
   "cell_type": "code",
   "execution_count": null,
   "metadata": {
    "id": "Dw1Y8trvrlMQ",
    "outputId": "64a4b217-d1a1-42a5-a57e-db7d4de9275b"
   },
   "outputs": [
    {
     "data": {
      "text/plain": [
       "True"
      ]
     },
     "execution_count": 66,
     "metadata": {},
     "output_type": "execute_result"
    }
   ],
   "source": [
    "\"food\" in mydict.keys()"
   ]
  },
  {
   "cell_type": "code",
   "execution_count": null,
   "metadata": {
    "id": "dBh-DVgmrlMQ",
    "outputId": "f7fb712b-99c9-4fb1-ec5d-e73ec4ca95cb"
   },
   "outputs": [
    {
     "data": {
      "text/plain": [
       "True"
      ]
     },
     "execution_count": 67,
     "metadata": {},
     "output_type": "execute_result"
    }
   ],
   "source": [
    "\"food\" in mydict"
   ]
  },
  {
   "cell_type": "code",
   "execution_count": null,
   "metadata": {
    "id": "yFd3lrnNrlMQ",
    "outputId": "4b45a4d3-0b8a-4a64-d75d-f6fb7a84f06b"
   },
   "outputs": [
    {
     "name": "stdout",
     "output_type": "stream",
     "text": [
      "country Latvia\n",
      "Doing more stuff with country and Latvia\n",
      "food potatoes\n",
      "Doing more stuff with food and potatoes\n"
     ]
    }
   ],
   "source": [
    "for key,value in mydict.items():\n",
    "    print(key,value)\n",
    "    print(f\"Doing more stuff with {key} and {value}\")"
   ]
  },
  {
   "cell_type": "code",
   "execution_count": null,
   "metadata": {
    "id": "LucrFxmPrlMQ",
    "outputId": "65478159-ec27-4bec-c025-329220b02fcd"
   },
   "outputs": [
    {
     "data": {
      "text/plain": [
       "dict_items([('country', 'Latvia'), ('food', 'potatoes')])"
      ]
     },
     "execution_count": 72,
     "metadata": {},
     "output_type": "execute_result"
    }
   ],
   "source": [
    "mydict.items()"
   ]
  },
  {
   "cell_type": "code",
   "execution_count": null,
   "metadata": {
    "id": "scsxZIxYrlMQ",
    "outputId": "ae16c41f-c0c3-48dd-98c6-d12ca06a8b01"
   },
   "outputs": [
    {
     "data": {
      "text/plain": [
       "('country', 'Latvia')"
      ]
     },
     "execution_count": 74,
     "metadata": {},
     "output_type": "execute_result"
    }
   ],
   "source": [
    "country = list(mydict.items())[0]\n",
    "country"
   ]
  },
  {
   "cell_type": "code",
   "execution_count": null,
   "metadata": {
    "id": "KSHcnNqUrlMR",
    "outputId": "a7ea1b6f-5b6c-4290-a104-80d5e2a29322"
   },
   "outputs": [
    {
     "data": {
      "text/plain": [
       "tuple"
      ]
     },
     "execution_count": 75,
     "metadata": {},
     "output_type": "execute_result"
    }
   ],
   "source": [
    "type(country)"
   ]
  },
  {
   "cell_type": "code",
   "execution_count": null,
   "metadata": {
    "id": "H-LVEqOFrlMR",
    "outputId": "5be9e7b5-377b-4359-dbaf-88f34f8deeed"
   },
   "outputs": [
    {
     "name": "stdout",
     "output_type": "stream",
     "text": [
      "0 country Latvia\n",
      "Doing more stuff with country and Latvia\n",
      "1 food potatoes\n",
      "Doing more stuff with food and potatoes\n"
     ]
    }
   ],
   "source": [
    "for i,(key,value) in enumerate(mydict.items()):\n",
    "    print(i, key,value)\n",
    "    print(f\"Doing more stuff with {key} and {value}\")"
   ]
  },
  {
   "cell_type": "code",
   "execution_count": null,
   "metadata": {
    "id": "PkYoaUmJrlMR"
   },
   "outputs": [],
   "source": [
    "mydict['food'] = ['potatoes', 'cheese']"
   ]
  },
  {
   "cell_type": "code",
   "execution_count": null,
   "metadata": {
    "id": "2gsgNgyVrlMR",
    "outputId": "9e76e292-00e9-410e-80a4-1f0f15c78eda"
   },
   "outputs": [
    {
     "data": {
      "text/plain": [
       "{'country': 'Latvia', 'food': ['potatoes', 'cheese']}"
      ]
     },
     "execution_count": 77,
     "metadata": {},
     "output_type": "execute_result"
    }
   ],
   "source": [
    "mydict"
   ]
  },
  {
   "cell_type": "code",
   "execution_count": null,
   "metadata": {
    "id": "iICB7-HWrlMS",
    "outputId": "6230e683-6cf3-47c2-b438-609843f7d4d8"
   },
   "outputs": [
    {
     "data": {
      "text/plain": [
       "{'country': 'Latvia', 'food': ['potatoes', 'cheese', 'milk', 'milk']}"
      ]
     },
     "execution_count": 79,
     "metadata": {},
     "output_type": "execute_result"
    }
   ],
   "source": [
    "mydict['food'] = mydict['food'] + ['milk']\n",
    "mydict"
   ]
  },
  {
   "cell_type": "code",
   "execution_count": null,
   "metadata": {
    "id": "UQCjA3NBrlMS",
    "outputId": "4fb79af3-6821-40e2-8bb3-086df1d6390e"
   },
   "outputs": [
    {
     "data": {
      "text/plain": [
       "[-555, 1, 2, 2, 3, 3, 6, 6, 7, 8, 8, 300]"
      ]
     },
     "execution_count": 76,
     "metadata": {},
     "output_type": "execute_result"
    }
   ],
   "source": [
    "mylist"
   ]
  },
  {
   "cell_type": "code",
   "execution_count": null,
   "metadata": {
    "id": "D2ohJFDNrlMT",
    "outputId": "a22f4b11-967d-4464-87b1-2f8e66ba34a9"
   },
   "outputs": [
    {
     "data": {
      "text/plain": [
       "(-555, 1, 2, 2, 3, 3, 6, 6, 7, 8, 8, 300)"
      ]
     },
     "execution_count": 78,
     "metadata": {},
     "output_type": "execute_result"
    }
   ],
   "source": [
    "mytuple = tuple(mylist)\n",
    "mytuple"
   ]
  },
  {
   "cell_type": "code",
   "execution_count": null,
   "metadata": {
    "id": "rB_d7E9krlMV",
    "outputId": "a7096753-4af2-4501-9207-c3d02e65b36a"
   },
   "outputs": [
    {
     "data": {
      "text/plain": [
       "(-555, 1, 2, 2, 3, 3)"
      ]
     },
     "execution_count": 80,
     "metadata": {},
     "output_type": "execute_result"
    }
   ],
   "source": [
    "mytuple[:6]"
   ]
  },
  {
   "cell_type": "code",
   "execution_count": null,
   "metadata": {
    "id": "3xQDbpKUrlMX",
    "outputId": "7ae105a2-e4c0-4293-b5a0-84dbcb88cda8"
   },
   "outputs": [
    {
     "ename": "TypeError",
     "evalue": "'tuple' object does not support item assignment",
     "output_type": "error",
     "traceback": [
      "\u001b[1;31m---------------------------------------------------------------------------\u001b[0m",
      "\u001b[1;31mTypeError\u001b[0m                                 Traceback (most recent call last)",
      "\u001b[1;32m<ipython-input-81-6423d0a10e8e>\u001b[0m in \u001b[0;36m<module>\u001b[1;34m\u001b[0m\n\u001b[1;32m----> 1\u001b[1;33m \u001b[0mmytuple\u001b[0m\u001b[1;33m[\u001b[0m\u001b[1;36m6\u001b[0m\u001b[1;33m]\u001b[0m \u001b[1;33m=\u001b[0m \u001b[1;36m55555\u001b[0m\u001b[1;33m\u001b[0m\u001b[1;33m\u001b[0m\u001b[0m\n\u001b[0m",
      "\u001b[1;31mTypeError\u001b[0m: 'tuple' object does not support item assignment"
     ]
    }
   ],
   "source": [
    "mytuple[6] = 55555"
   ]
  },
  {
   "cell_type": "code",
   "execution_count": null,
   "metadata": {
    "id": "WoPa_WrPrlMY",
    "outputId": "edd83f82-f088-4dd3-cb4d-db1b11cffbae"
   },
   "outputs": [
    {
     "data": {
      "text/plain": [
       "(-555, 1, 2, 2, 3, 3, 666666, 6, 7, 8, 8, 300)"
      ]
     },
     "execution_count": 83,
     "metadata": {},
     "output_type": "execute_result"
    }
   ],
   "source": [
    "mynewlist = list(mytuple)\n",
    "mynewlist[6]=666666\n",
    "mynewtuple=tuple(mynewlist)\n",
    "mynewtuple"
   ]
  },
  {
   "cell_type": "code",
   "execution_count": null,
   "metadata": {
    "id": "3-mrBP8xrlMZ",
    "outputId": "f077afc8-d5b3-49a6-ea97-d8e9164a7a66"
   },
   "outputs": [
    {
     "data": {
      "text/plain": [
       "True"
      ]
     },
     "execution_count": 84,
     "metadata": {},
     "output_type": "execute_result"
    }
   ],
   "source": [
    "3 in mynewtuple"
   ]
  },
  {
   "cell_type": "code",
   "execution_count": null,
   "metadata": {
    "id": "ltR1NrlprlMZ"
   },
   "outputs": [],
   "source": [
    "import random"
   ]
  },
  {
   "cell_type": "code",
   "execution_count": null,
   "metadata": {
    "id": "Jpa_Xd-_rlMZ"
   },
   "outputs": [],
   "source": [
    "mydict = {}\n",
    "for n in range(1000):\n",
    "    mydict[f\"Key-{n}\"] = random.randint(1,6)"
   ]
  },
  {
   "cell_type": "code",
   "execution_count": null,
   "metadata": {
    "id": "csWIfPt-rlMZ",
    "outputId": "0eab784c-f2a3-46fa-86f9-d6b631aaa739"
   },
   "outputs": [
    {
     "data": {
      "text/plain": [
       "1000"
      ]
     },
     "execution_count": 87,
     "metadata": {},
     "output_type": "execute_result"
    }
   ],
   "source": [
    "len(mydict)"
   ]
  },
  {
   "cell_type": "code",
   "execution_count": null,
   "metadata": {
    "id": "lGnLJhuQrlMa",
    "outputId": "ff1bf45a-433f-4e38-e004-6460e11ce29e"
   },
   "outputs": [
    {
     "data": {
      "text/plain": [
       "3"
      ]
     },
     "execution_count": 88,
     "metadata": {},
     "output_type": "execute_result"
    }
   ],
   "source": [
    "mydict[\"Key-55\"]"
   ]
  },
  {
   "cell_type": "code",
   "execution_count": null,
   "metadata": {
    "id": "HlXFk_BqrlMa",
    "outputId": "4e634277-3e81-48b5-a014-ffd47f8b1eeb"
   },
   "outputs": [
    {
     "data": {
      "text/plain": [
       "True"
      ]
     },
     "execution_count": 89,
     "metadata": {},
     "output_type": "execute_result"
    }
   ],
   "source": [
    "\"Key-66\"  in mydict"
   ]
  },
  {
   "cell_type": "code",
   "execution_count": null,
   "metadata": {
    "id": "kQGej13erlMa",
    "outputId": "0f21bec5-a9d4-482c-9d72-48087d77dcdc"
   },
   "outputs": [
    {
     "ename": "KeyError",
     "evalue": "'Key-1000'",
     "output_type": "error",
     "traceback": [
      "\u001b[1;31m---------------------------------------------------------------------------\u001b[0m",
      "\u001b[1;31mKeyError\u001b[0m                                  Traceback (most recent call last)",
      "\u001b[1;32m<ipython-input-90-74a347bf34ed>\u001b[0m in \u001b[0;36m<module>\u001b[1;34m\u001b[0m\n\u001b[1;32m----> 1\u001b[1;33m \u001b[0mmydict\u001b[0m\u001b[1;33m[\u001b[0m\u001b[1;34m\"Key-1000\"\u001b[0m\u001b[1;33m]\u001b[0m\u001b[1;33m\u001b[0m\u001b[1;33m\u001b[0m\u001b[0m\n\u001b[0m",
      "\u001b[1;31mKeyError\u001b[0m: 'Key-1000'"
     ]
    }
   ],
   "source": [
    "mydict[\"Key-1000\"]"
   ]
  },
  {
   "cell_type": "code",
   "execution_count": null,
   "metadata": {
    "id": "tLspQtZlrlMa",
    "outputId": "f5f03f51-e62d-454c-aa0b-fa6574129d32"
   },
   "outputs": [
    {
     "name": "stdout",
     "output_type": "stream",
     "text": [
      "1\n"
     ]
    }
   ],
   "source": [
    "if \"Key-66\"  in mydict:\n",
    "    print(mydict[\"Key-66\"])"
   ]
  },
  {
   "cell_type": "code",
   "execution_count": null,
   "metadata": {
    "id": "eyLsLb-frlMa",
    "outputId": "1fe6d9a8-5305-4c7d-c895-1fd3e75fd0d1"
   },
   "outputs": [
    {
     "name": "stdout",
     "output_type": "stream",
     "text": [
      "Key-66 1\n",
      "Key-77 4\n",
      "Key-555 5\n",
      "Bad Bad Key Key-1000\n",
      "Key-888 1\n"
     ]
    }
   ],
   "source": [
    "secretkeys = [\"Key-66\",\"Key-77\",\"Key-555\",\"Key-1000\", \"Key-888\"]\n",
    "for key in secretkeys:\n",
    "    if key in mydict:\n",
    "        print(key, mydict[key])\n",
    "    else:\n",
    "        print(\"Bad Bad Key\", key)"
   ]
  },
  {
   "cell_type": "code",
   "execution_count": null,
   "metadata": {
    "id": "UvgXbkA5rlMb",
    "outputId": "1bdb2a9b-6ce4-447a-9043-8ac4495475ad"
   },
   "outputs": [
    {
     "name": "stdout",
     "output_type": "stream",
     "text": [
      "Key-66 1\n",
      "Key-77 4\n",
      "Key-555 5\n",
      "Key-1000 Really Bad Key\n",
      "Key-888 1\n"
     ]
    }
   ],
   "source": [
    "secretkeys = [\"Key-66\",\"Key-77\",\"Key-555\",\"Key-1000\", \"Key-888\"]\n",
    "for key in secretkeys:\n",
    "    print(key, mydict.get(key, \"Really Bad Key\"))\n"
   ]
  },
  {
   "cell_type": "code",
   "execution_count": null,
   "metadata": {
    "id": "1FOcioVzrlMb",
    "outputId": "f106a54b-d68c-4f47-d150-c1c0e0e7065a"
   },
   "outputs": [
    {
     "ename": "KeyboardInterrupt",
     "evalue": "",
     "output_type": "error",
     "traceback": [
      "\u001b[1;31m---------------------------------------------------------------------------\u001b[0m",
      "\u001b[1;31mKeyboardInterrupt\u001b[0m                         Traceback (most recent call last)",
      "\u001b[1;32m<ipython-input-98-a9d1d46c3fac>\u001b[0m in \u001b[0;36m<module>\u001b[1;34m\u001b[0m\n\u001b[0;32m      1\u001b[0m \u001b[0mmybigdict\u001b[0m \u001b[1;33m=\u001b[0m \u001b[1;33m{\u001b[0m\u001b[1;33m}\u001b[0m\u001b[1;33m\u001b[0m\u001b[1;33m\u001b[0m\u001b[0m\n\u001b[0;32m      2\u001b[0m \u001b[1;32mfor\u001b[0m \u001b[0mn\u001b[0m \u001b[1;32min\u001b[0m \u001b[0mrange\u001b[0m\u001b[1;33m(\u001b[0m\u001b[1;36m100_000_000\u001b[0m\u001b[1;33m)\u001b[0m\u001b[1;33m:\u001b[0m\u001b[1;33m\u001b[0m\u001b[1;33m\u001b[0m\u001b[0m\n\u001b[1;32m----> 3\u001b[1;33m     \u001b[0mmybigdict\u001b[0m\u001b[1;33m[\u001b[0m\u001b[1;34mf\"Key-{n}\"\u001b[0m\u001b[1;33m]\u001b[0m \u001b[1;33m=\u001b[0m \u001b[0mrandom\u001b[0m\u001b[1;33m.\u001b[0m\u001b[0mrandint\u001b[0m\u001b[1;33m(\u001b[0m\u001b[1;36m1\u001b[0m\u001b[1;33m,\u001b[0m\u001b[1;36m6\u001b[0m\u001b[1;33m)\u001b[0m\u001b[1;33m\u001b[0m\u001b[1;33m\u001b[0m\u001b[0m\n\u001b[0m",
      "\u001b[1;31mKeyboardInterrupt\u001b[0m: "
     ]
    }
   ],
   "source": [
    "mybigdict = {}\n",
    "for n in range(100_000_000):\n",
    "    mybigdict[f\"Key-{n}\"] = random.randint(1,6)"
   ]
  },
  {
   "cell_type": "code",
   "execution_count": null,
   "metadata": {
    "id": "m1g9vb1SrlMb",
    "outputId": "d52c3589-c342-4d7a-c15b-fd54e40a1db2"
   },
   "outputs": [
    {
     "data": {
      "text/plain": [
       "63146596"
      ]
     },
     "execution_count": 99,
     "metadata": {},
     "output_type": "execute_result"
    }
   ],
   "source": [
    "len(mybigdict)"
   ]
  },
  {
   "cell_type": "code",
   "execution_count": null,
   "metadata": {
    "id": "JHBz3l2WrlMd",
    "outputId": "8b158aaf-aabd-4633-ed2c-37d6e7519271"
   },
   "outputs": [
    {
     "data": {
      "text/plain": [
       "['Key-63146591',\n",
       " 'Key-63146592',\n",
       " 'Key-63146593',\n",
       " 'Key-63146594',\n",
       " 'Key-63146595']"
      ]
     },
     "execution_count": 101,
     "metadata": {},
     "output_type": "execute_result"
    }
   ],
   "source": [
    "list(mybigdict.keys())[-5:]"
   ]
  },
  {
   "cell_type": "code",
   "execution_count": null,
   "metadata": {
    "id": "kRtEafvsrlMf",
    "outputId": "cddcc310-a215-46a8-d5a8-7a41141b96aa"
   },
   "outputs": [
    {
     "data": {
      "text/plain": [
       "6"
      ]
     },
     "execution_count": 102,
     "metadata": {},
     "output_type": "execute_result"
    }
   ],
   "source": [
    "biglist = list(mybigdict.values())\n",
    "max(biglist)"
   ]
  },
  {
   "cell_type": "code",
   "execution_count": null,
   "metadata": {
    "id": "Hcsfxg2-rlMg",
    "outputId": "90ab464c-db81-4935-d0b6-d1b761abc10b"
   },
   "outputs": [
    {
     "data": {
      "text/plain": [
       "1"
      ]
     },
     "execution_count": 103,
     "metadata": {},
     "output_type": "execute_result"
    }
   ],
   "source": [
    "min(biglist)"
   ]
  },
  {
   "cell_type": "code",
   "execution_count": null,
   "metadata": {
    "id": "6GuBkMZ_rlMh",
    "outputId": "2af3fc9a-1557-4569-f0e8-f5f6d89f8c63"
   },
   "outputs": [
    {
     "data": {
      "text/plain": [
       "3.499736977112749"
      ]
     },
     "execution_count": 104,
     "metadata": {},
     "output_type": "execute_result"
    }
   ],
   "source": [
    "sum(biglist)/len(biglist)"
   ]
  },
  {
   "cell_type": "code",
   "execution_count": null,
   "metadata": {
    "id": "7bA0KaqqrlMi"
   },
   "outputs": [],
   "source": [
    "from collections import Counter"
   ]
  },
  {
   "cell_type": "code",
   "execution_count": null,
   "metadata": {
    "id": "aSJELG1grlMj",
    "outputId": "62ce4c17-7eac-44b9-dbc1-d2a8b4bfca80"
   },
   "outputs": [
    {
     "data": {
      "text/plain": [
       "Counter({2: 10524589,\n",
       "         3: 10525622,\n",
       "         1: 10527070,\n",
       "         4: 10525881,\n",
       "         6: 10522669,\n",
       "         5: 10520765})"
      ]
     },
     "execution_count": 106,
     "metadata": {},
     "output_type": "execute_result"
    }
   ],
   "source": [
    "mycounter = Counter(biglist)\n",
    "mycounter"
   ]
  },
  {
   "cell_type": "code",
   "execution_count": null,
   "metadata": {
    "id": "BvECgbVUrlMk",
    "outputId": "10551a9b-4a3d-4121-cc89-445885bfcff7"
   },
   "outputs": [
    {
     "data": {
      "text/plain": [
       "[(1, 10527070),\n",
       " (4, 10525881),\n",
       " (3, 10525622),\n",
       " (2, 10524589),\n",
       " (6, 10522669),\n",
       " (5, 10520765)]"
      ]
     },
     "execution_count": 107,
     "metadata": {},
     "output_type": "execute_result"
    }
   ],
   "source": [
    "mycounter.most_common()"
   ]
  },
  {
   "cell_type": "markdown",
   "metadata": {
    "id": "HrJAGshVrlMk"
   },
   "source": [
    "## Sets\n",
    "\n",
    "* unordered\n",
    "* uniques only\n",
    "* curly braces {3, 6, 7}"
   ]
  },
  {
   "cell_type": "code",
   "execution_count": null,
   "metadata": {
    "id": "qj7HY7VLrlMl",
    "outputId": "95638f7c-440a-463d-e71c-e8b12345c8ec"
   },
   "outputs": [
    {
     "name": "stdout",
     "output_type": "stream",
     "text": [
      "{1, 3, 6, 7}\n"
     ]
    }
   ],
   "source": [
    "s={3,3,6,1,3,6,7}\n",
    "print(s)"
   ]
  },
  {
   "cell_type": "code",
   "execution_count": null,
   "metadata": {
    "id": "Dusv54fxrlMm",
    "outputId": "bf0540d2-ca11-4914-aa2a-c8fe6e622ac7"
   },
   "outputs": [
    {
     "data": {
      "text/plain": [
       "{0, 2, 3}"
      ]
     },
     "execution_count": 109,
     "metadata": {},
     "output_type": "execute_result"
    }
   ],
   "source": [
    "s2 = set([3,2,0])\n",
    "s2"
   ]
  },
  {
   "cell_type": "code",
   "execution_count": null,
   "metadata": {
    "id": "JAMrf18QrlMn",
    "outputId": "7d880b6e-db91-4520-e584-fee009928a97"
   },
   "outputs": [
    {
     "data": {
      "text/plain": [
       "{1, 6, 7}"
      ]
     },
     "execution_count": 110,
     "metadata": {},
     "output_type": "execute_result"
    }
   ],
   "source": [
    "s.difference(s2)"
   ]
  },
  {
   "cell_type": "code",
   "execution_count": null,
   "metadata": {
    "id": "P4tPQVALrlMp",
    "outputId": "fc743263-fe6c-4628-f61c-b3da336149f3"
   },
   "outputs": [
    {
     "data": {
      "text/plain": [
       "{0, 2}"
      ]
     },
     "execution_count": 111,
     "metadata": {},
     "output_type": "execute_result"
    }
   ],
   "source": [
    "s2.difference(s)"
   ]
  },
  {
   "cell_type": "code",
   "execution_count": null,
   "metadata": {
    "id": "j319oDlFrlMp",
    "outputId": "73e70b4b-db4c-4c6f-de23-14bfaf7ef6fd"
   },
   "outputs": [
    {
     "data": {
      "text/plain": [
       "{0, 1, 2, 3, 6, 7}"
      ]
     },
     "execution_count": 112,
     "metadata": {},
     "output_type": "execute_result"
    }
   ],
   "source": [
    "s.union(s2)"
   ]
  },
  {
   "cell_type": "code",
   "execution_count": null,
   "metadata": {
    "id": "vRT93kEbrlMp",
    "outputId": "9ceedc47-3c16-44b3-b6b5-1bdc24049453"
   },
   "outputs": [
    {
     "data": {
      "text/plain": [
       "{3}"
      ]
     },
     "execution_count": 113,
     "metadata": {},
     "output_type": "execute_result"
    }
   ],
   "source": [
    "s.intersection(s2)"
   ]
  },
  {
   "cell_type": "markdown",
   "metadata": {
    "id": "bcOhG1l8rlMp"
   },
   "source": [
    "## Tuples\n",
    "\n",
    "*  ordered\n",
    "* immutable (cannot be changed!)\n",
    "* Can be used as a collection of fields"
   ]
  },
  {
   "cell_type": "code",
   "execution_count": null,
   "metadata": {
    "id": "W6xPYfZhrlMq"
   },
   "outputs": [],
   "source": [
    "mytuple = 6, 4, 9\n",
    "print(mytuple)"
   ]
  },
  {
   "cell_type": "markdown",
   "metadata": {
    "id": "AS_z-DxDrlMq"
   },
   "source": [
    "## Arithmetic Operators <a class=\"anchor\" id=\"arithmetic\">\n",
    "    \n",
    "[Back to Table of Contents](#toc)\n",
    "* `+ - * / `\n",
    "* `**(power)`\n",
    "* `% modulus`\n",
    "* `//(integer division)`\n",
    "* `() parenthesis for order`\n"
   ]
  },
  {
   "cell_type": "code",
   "execution_count": null,
   "metadata": {
    "id": "guLqWsnsrlMr",
    "outputId": "cb5f3043-4830-4ea1-9eaa-168d9509571a"
   },
   "outputs": [
    {
     "data": {
      "text/plain": [
       "14.0"
      ]
     },
     "execution_count": 1,
     "metadata": {},
     "output_type": "execute_result"
    }
   ],
   "source": [
    "5+4*3-(6/2)"
   ]
  },
  {
   "cell_type": "code",
   "execution_count": null,
   "metadata": {
    "id": "NG1Flc5JrlMs",
    "outputId": "a52ec82b-a590-4293-b5ad-145277aa4fb4"
   },
   "outputs": [
    {
     "data": {
      "text/plain": [
       "14"
      ]
     },
     "execution_count": 2,
     "metadata": {},
     "output_type": "execute_result"
    }
   ],
   "source": [
    "5+4*3-(6//2)"
   ]
  },
  {
   "cell_type": "code",
   "execution_count": null,
   "metadata": {
    "id": "UwwT09YprlMs",
    "outputId": "2d08a57b-3c8b-4e8e-e595-b4ca3e914416"
   },
   "outputs": [
    {
     "data": {
      "text/plain": [
       "3"
      ]
     },
     "execution_count": 3,
     "metadata": {},
     "output_type": "execute_result"
    }
   ],
   "source": [
    "7//2\n"
   ]
  },
  {
   "cell_type": "code",
   "execution_count": null,
   "metadata": {
    "id": "Uw2dyArgrlMs",
    "outputId": "9065026d-2528-4acc-a62d-54192300c1b9"
   },
   "outputs": [
    {
     "data": {
      "text/plain": [
       "4"
      ]
     },
     "execution_count": 6,
     "metadata": {},
     "output_type": "execute_result"
    }
   ],
   "source": [
    "int(9.0//2)"
   ]
  },
  {
   "cell_type": "code",
   "execution_count": null,
   "metadata": {
    "id": "1D7uTIbcrlMt",
    "outputId": "4fe30bc4-616c-4b18-81ee-fa1976d0169d"
   },
   "outputs": [
    {
     "data": {
      "text/plain": [
       "4"
      ]
     },
     "execution_count": 7,
     "metadata": {},
     "output_type": "execute_result"
    }
   ],
   "source": [
    "int(9.0)//2"
   ]
  },
  {
   "cell_type": "code",
   "execution_count": null,
   "metadata": {
    "id": "QPnrrQdtrlMt",
    "outputId": "336fa5ba-06bf-4cbf-be15-18c56443e46b"
   },
   "outputs": [
    {
     "data": {
      "text/plain": [
       "1"
      ]
     },
     "execution_count": 8,
     "metadata": {},
     "output_type": "execute_result"
    }
   ],
   "source": [
    "4%3"
   ]
  },
  {
   "cell_type": "code",
   "execution_count": null,
   "metadata": {
    "id": "04Cx1monrlMt",
    "outputId": "8d6dd4f9-ddba-42af-dd4b-9db0044b183e"
   },
   "outputs": [
    {
     "data": {
      "text/plain": [
       "1"
      ]
     },
     "execution_count": 9,
     "metadata": {},
     "output_type": "execute_result"
    }
   ],
   "source": [
    "15%2"
   ]
  },
  {
   "cell_type": "code",
   "execution_count": null,
   "metadata": {
    "id": "0ecafUxPrlMt",
    "outputId": "1f160dd9-c0af-4728-bc60-0ef512133161"
   },
   "outputs": [
    {
     "data": {
      "text/plain": [
       "5"
      ]
     },
     "execution_count": 10,
     "metadata": {},
     "output_type": "execute_result"
    }
   ],
   "source": [
    "2554545%10"
   ]
  },
  {
   "cell_type": "code",
   "execution_count": null,
   "metadata": {
    "id": "NQ74CsoUrlMu"
   },
   "outputs": [],
   "source": [
    "type(1)"
   ]
  },
  {
   "cell_type": "code",
   "execution_count": null,
   "metadata": {
    "id": "yWCX2czVrlMu"
   },
   "outputs": [],
   "source": [
    "type(14.0)"
   ]
  },
  {
   "cell_type": "code",
   "execution_count": null,
   "metadata": {
    "id": "5P64oQSTrlMu",
    "outputId": "eb9ee1d4-e145-4e42-bae9-d156c6cc7ca9"
   },
   "outputs": [
    {
     "data": {
      "text/plain": [
       "116415321826934814453125"
      ]
     },
     "execution_count": 11,
     "metadata": {},
     "output_type": "execute_result"
    }
   ],
   "source": [
    "5**33"
   ]
  },
  {
   "cell_type": "code",
   "execution_count": null,
   "metadata": {
    "id": "xYovNc6drlMu",
    "outputId": "94635e8c-8aab-43cc-d53b-28146cf5bc45"
   },
   "outputs": [
    {
     "data": {
      "text/plain": [
       "92709068817830061978520606494193845859707401497097037749844778027824097442147966967457359038488841338006006032592594389655201"
      ]
     },
     "execution_count": 12,
     "metadata": {},
     "output_type": "execute_result"
    }
   ],
   "source": [
    "11**120 # no maximum anymore"
   ]
  },
  {
   "cell_type": "code",
   "execution_count": null,
   "metadata": {
    "id": "5o85H34irlMu"
   },
   "outputs": [],
   "source": [
    "import math"
   ]
  },
  {
   "cell_type": "code",
   "execution_count": null,
   "metadata": {
    "id": "2famV_1JrlMu",
    "outputId": "c1b712a5-f90f-465d-cfeb-5a57bceb611e"
   },
   "outputs": [
    {
     "data": {
      "text/plain": [
       "8"
      ]
     },
     "execution_count": 15,
     "metadata": {},
     "output_type": "execute_result"
    }
   ],
   "source": [
    "# Tab on math. to see what functions are available\n",
    "# Shift-Tab inside parenthesis to see what the particular function does\n",
    "math.ceil(7.8)"
   ]
  },
  {
   "cell_type": "code",
   "execution_count": null,
   "metadata": {
    "id": "uC21YTjPrlMv",
    "outputId": "8530ff78-61d6-43da-9e8c-351b24823d24"
   },
   "outputs": [
    {
     "data": {
      "text/plain": [
       "1.4142135623730951"
      ]
     },
     "execution_count": 16,
     "metadata": {},
     "output_type": "execute_result"
    }
   ],
   "source": [
    "math.sqrt(2)"
   ]
  },
  {
   "cell_type": "code",
   "execution_count": null,
   "metadata": {
    "id": "Jvg_3YgYrlMv",
    "outputId": "9c4aeb4a-87d2-43a2-c5f5-bb94178d640c"
   },
   "outputs": [
    {
     "data": {
      "text/plain": [
       "1.4142135623730951"
      ]
     },
     "execution_count": 17,
     "metadata": {},
     "output_type": "execute_result"
    }
   ],
   "source": [
    "2**0.5"
   ]
  },
  {
   "cell_type": "code",
   "execution_count": null,
   "metadata": {
    "id": "HoDYapGQrlMv",
    "outputId": "f6e35ef4-65fc-4c77-d8fb-ac56115405a2"
   },
   "outputs": [
    {
     "data": {
      "text/plain": [
       "3"
      ]
     },
     "execution_count": 18,
     "metadata": {},
     "output_type": "execute_result"
    }
   ],
   "source": [
    "int(3.33)"
   ]
  },
  {
   "cell_type": "markdown",
   "metadata": {
    "id": "LZ4AxNuxrlMv"
   },
   "source": [
    "## Flow Control <a class=\"anchor\" id=\"flow-control\">\n",
    "    \n",
    "[Back to Table of Contents](#toc)"
   ]
  },
  {
   "cell_type": "code",
   "execution_count": null,
   "metadata": {
    "id": "8-MVJLoWrlMv"
   },
   "outputs": [],
   "source": [
    "# With Flow Control we can tell our program/cells to choose different paths"
   ]
  },
  {
   "cell_type": "markdown",
   "metadata": {
    "id": "0hVuMrLKrlMv"
   },
   "source": [
    "## Conditional operators\n",
    "\n",
    "`< > <= >= == != and or not`"
   ]
  },
  {
   "cell_type": "code",
   "execution_count": null,
   "metadata": {
    "id": "YKKNiYTMrlMv"
   },
   "outputs": [],
   "source": [
    "# What is truth in computer language?"
   ]
  },
  {
   "cell_type": "code",
   "execution_count": null,
   "metadata": {
    "id": "7hKM1tzArlMw",
    "outputId": "54504f6e-c5d1-4f8a-9a4a-b7aff536e2ee"
   },
   "outputs": [
    {
     "data": {
      "text/plain": [
       "True"
      ]
     },
     "execution_count": 1,
     "metadata": {},
     "output_type": "execute_result"
    }
   ],
   "source": [
    "2*2 == 4"
   ]
  },
  {
   "cell_type": "code",
   "execution_count": null,
   "metadata": {
    "id": "plG3bByrrlMw",
    "outputId": "54f4bb1c-fc42-4f60-f228-a86b3405bed3"
   },
   "outputs": [
    {
     "data": {
      "text/plain": [
       "True"
      ]
     },
     "execution_count": 20,
     "metadata": {},
     "output_type": "execute_result"
    }
   ],
   "source": [
    "myTruth = 2*2 == 4\n",
    "myTruth"
   ]
  },
  {
   "cell_type": "code",
   "execution_count": null,
   "metadata": {
    "id": "RtLhuqXwrlMw",
    "outputId": "8376d58e-9de3-4546-d97b-ef59e31e2c8a"
   },
   "outputs": [
    {
     "data": {
      "text/plain": [
       "False"
      ]
     },
     "execution_count": 21,
     "metadata": {},
     "output_type": "execute_result"
    }
   ],
   "source": [
    "5 > 7\n"
   ]
  },
  {
   "cell_type": "code",
   "execution_count": null,
   "metadata": {
    "id": "nCMvlZ-QrlMw",
    "outputId": "bf5dcb20-8d1a-4cec-cab6-2aea44c12917"
   },
   "outputs": [
    {
     "data": {
      "text/plain": [
       "55555"
      ]
     },
     "execution_count": 25,
     "metadata": {},
     "output_type": "execute_result"
    }
   ],
   "source": [
    "int('   055555   ')"
   ]
  },
  {
   "cell_type": "code",
   "execution_count": null,
   "metadata": {
    "id": "cv8FwODSrlMw",
    "outputId": "e0bf9a3f-ea2c-4019-dbe4-a4cbd2df899d"
   },
   "outputs": [
    {
     "name": "stdout",
     "output_type": "stream",
     "text": [
      "True\n",
      "True\n"
     ]
    }
   ],
   "source": [
    "print(5 == int('5'))\n",
    "\n",
    "print(5 <= 6)"
   ]
  },
  {
   "cell_type": "code",
   "execution_count": null,
   "metadata": {
    "id": "KHgVvT1YrlMw",
    "outputId": "a7ab308b-09b5-46f1-f5ce-fcdff8050423"
   },
   "outputs": [
    {
     "name": "stdout",
     "output_type": "stream",
     "text": [
      "True\n",
      "True\n",
      "False\n"
     ]
    }
   ],
   "source": [
    "print(5 <= 5)\n",
    "\n",
    "# check if 5 is NOT equal to 6\n",
    "print(5 != 6)\n",
    "\n",
    "print(5 != 5)\n"
   ]
  },
  {
   "cell_type": "code",
   "execution_count": null,
   "metadata": {
    "id": "vgmfMWhNrlMw",
    "outputId": "9a400c6e-9217-4dc5-d7b6-ef0710499825"
   },
   "outputs": [
    {
     "data": {
      "text/plain": [
       "True"
      ]
     },
     "execution_count": 2,
     "metadata": {},
     "output_type": "execute_result"
    }
   ],
   "source": [
    "# We check each letter from left side\n",
    "# on mismatch we check ASCII (UTF-8) tables for values\n",
    "\n",
    "'VALDIS' < 'VOLDEMARS'"
   ]
  },
  {
   "cell_type": "code",
   "execution_count": null,
   "metadata": {
    "id": "OPSUot1QrlMx",
    "outputId": "754d8e99-8230-4169-b435-8f1fd01f7c53"
   },
   "outputs": [
    {
     "data": {
      "text/plain": [
       "65"
      ]
     },
     "execution_count": 3,
     "metadata": {},
     "output_type": "execute_result"
    }
   ],
   "source": [
    "ord('A')"
   ]
  },
  {
   "cell_type": "code",
   "execution_count": null,
   "metadata": {
    "id": "G14oc8XvrlM1",
    "outputId": "f865cecf-45bf-4eef-d13c-c75fb03e97a7"
   },
   "outputs": [
    {
     "data": {
      "text/plain": [
       "79"
      ]
     },
     "execution_count": 4,
     "metadata": {},
     "output_type": "execute_result"
    }
   ],
   "source": [
    "ord('O')"
   ]
  },
  {
   "cell_type": "code",
   "execution_count": null,
   "metadata": {
    "id": "2l2-xnM_rlM1",
    "outputId": "0cc9db3e-5d57-41b3-8985-f390d2b1aff6"
   },
   "outputs": [
    {
     "data": {
      "text/plain": [
       "True"
      ]
     },
     "execution_count": 5,
     "metadata": {},
     "output_type": "execute_result"
    }
   ],
   "source": [
    "len('VALDIS') < len('VOLDEMARS')"
   ]
  },
  {
   "cell_type": "code",
   "execution_count": null,
   "metadata": {
    "id": "7kOVMU5erlM1",
    "outputId": "ddbd88f5-f2d9-42b3-e058-79f8b4b938e1"
   },
   "outputs": [
    {
     "data": {
      "text/plain": [
       "560"
      ]
     },
     "execution_count": 28,
     "metadata": {},
     "output_type": "execute_result"
    }
   ],
   "source": [
    "5 < 6\n",
    "2*2\n",
    "555+5"
   ]
  },
  {
   "cell_type": "code",
   "execution_count": null,
   "metadata": {
    "id": "rcRDW3K7rlM1",
    "outputId": "e3a903ee-3f5a-4264-b946-5599f963412c"
   },
   "outputs": [
    {
     "name": "stdout",
     "output_type": "stream",
     "text": [
      "Valdis\n"
     ]
    },
    {
     "data": {
      "text/plain": [
       "'Valdis'"
      ]
     },
     "execution_count": 29,
     "metadata": {},
     "output_type": "execute_result"
    }
   ],
   "source": [
    "myname = \"Valdis\"\n",
    "print(myname)\n",
    "myname"
   ]
  },
  {
   "cell_type": "code",
   "execution_count": null,
   "metadata": {
    "id": "5DixMn26rlM1",
    "outputId": "14e53bfb-b11d-4d23-dcce-a59da790ac2e"
   },
   "outputs": [
    {
     "name": "stdout",
     "output_type": "stream",
     "text": [
      "True\n"
     ]
    },
    {
     "data": {
      "text/plain": [
       "True"
      ]
     },
     "execution_count": 30,
     "metadata": {},
     "output_type": "execute_result"
    }
   ],
   "source": [
    "a = True\n",
    "print(a)\n",
    "a"
   ]
  },
  {
   "cell_type": "code",
   "execution_count": null,
   "metadata": {
    "id": "dQoLsziXrlM2"
   },
   "outputs": [],
   "source": []
  },
  {
   "cell_type": "code",
   "execution_count": null,
   "metadata": {
    "id": "5nhNLGC-rlM2",
    "outputId": "d753715c-62aa-4dcb-e74f-a50bdc625640"
   },
   "outputs": [
    {
     "data": {
      "text/plain": [
       "True"
      ]
     },
     "execution_count": 92,
     "metadata": {},
     "output_type": "execute_result"
    }
   ],
   "source": [
    "len('VALDIS') < len('VOLDEMARS')"
   ]
  },
  {
   "cell_type": "code",
   "execution_count": null,
   "metadata": {
    "id": "KsgmYFIhrlM2",
    "outputId": "baca26c4-c787-4953-c307-92069ba92a57"
   },
   "outputs": [
    {
     "data": {
      "text/plain": [
       "True"
      ]
     },
     "execution_count": 93,
     "metadata": {},
     "output_type": "execute_result"
    }
   ],
   "source": [
    "# &&\n",
    "True and True"
   ]
  },
  {
   "cell_type": "code",
   "execution_count": null,
   "metadata": {
    "id": "Pm5FVT-wrlM2",
    "outputId": "4a189861-2960-4c87-eded-e1fa15cd8942"
   },
   "outputs": [
    {
     "data": {
      "text/plain": [
       "False"
      ]
     },
     "execution_count": 94,
     "metadata": {},
     "output_type": "execute_result"
    }
   ],
   "source": [
    "True and False"
   ]
  },
  {
   "cell_type": "code",
   "execution_count": null,
   "metadata": {
    "id": "xlGzJ1k-rlM2",
    "outputId": "903f98e9-9f9c-4249-92cb-ba34c867a6a3"
   },
   "outputs": [
    {
     "data": {
      "text/plain": [
       "True"
      ]
     },
     "execution_count": 95,
     "metadata": {},
     "output_type": "execute_result"
    }
   ],
   "source": [
    "True or False"
   ]
  },
  {
   "cell_type": "code",
   "execution_count": null,
   "metadata": {
    "id": "1A3S2U1mrlM2",
    "outputId": "612f59c6-5678-49bd-f4ba-770cd71b979d"
   },
   "outputs": [
    {
     "data": {
      "text/plain": [
       "True"
      ]
     },
     "execution_count": 98,
     "metadata": {},
     "output_type": "execute_result"
    }
   ],
   "source": [
    "False or False or False or True"
   ]
  },
  {
   "cell_type": "code",
   "execution_count": null,
   "metadata": {
    "id": "TSngAqN4rlM2",
    "outputId": "504a8f05-ed98-4808-dbda-2c9595e20382"
   },
   "outputs": [
    {
     "data": {
      "text/plain": [
       "False"
      ]
     },
     "execution_count": 99,
     "metadata": {},
     "output_type": "execute_result"
    }
   ],
   "source": [
    "not True"
   ]
  },
  {
   "cell_type": "code",
   "execution_count": null,
   "metadata": {
    "id": "l5tY7KSZrlM3",
    "outputId": "5505ee89-252f-4838-b8db-f4f97187eee0"
   },
   "outputs": [
    {
     "data": {
      "text/plain": [
       "False"
      ]
     },
     "execution_count": 8,
     "metadata": {},
     "output_type": "execute_result"
    }
   ],
   "source": [
    "any([False,False,0, 0 ,0, \"\", None])"
   ]
  },
  {
   "cell_type": "code",
   "execution_count": null,
   "metadata": {
    "id": "_2ca3kS4rlM3",
    "outputId": "e890662a-d144-418a-b988-14ef0c150451"
   },
   "outputs": [
    {
     "data": {
      "text/plain": [
       "True"
      ]
     },
     "execution_count": 13,
     "metadata": {},
     "output_type": "execute_result"
    }
   ],
   "source": [
    "all([True,1,\"Big\", [[]]])"
   ]
  },
  {
   "cell_type": "code",
   "execution_count": null,
   "metadata": {
    "id": "wgFBjjYIrlM3",
    "outputId": "15c702d8-4ecc-499d-f202-6ac79093a447"
   },
   "outputs": [
    {
     "data": {
      "text/plain": [
       "False"
      ]
     },
     "execution_count": 15,
     "metadata": {},
     "output_type": "execute_result"
    }
   ],
   "source": [
    "# XOR in Python\n",
    "a = True\n",
    "b = False\n",
    "(a and not b) or (not a and b)"
   ]
  },
  {
   "cell_type": "code",
   "execution_count": null,
   "metadata": {
    "id": "ksRX0xr6rlM3",
    "outputId": "9abce47a-f5c7-4608-8085-aa769b6ce9c5"
   },
   "outputs": [
    {
     "data": {
      "text/plain": [
       "(-9+19j)"
      ]
     },
     "execution_count": 9,
     "metadata": {},
     "output_type": "execute_result"
    }
   ],
   "source": [
    "# Complex number build\n",
    "(2+3j)*(3+5j)"
   ]
  },
  {
   "cell_type": "code",
   "execution_count": null,
   "metadata": {
    "id": "oS6AR2HnrlM3",
    "outputId": "90ed6a95-015d-483c-b920-770f9fbc1f08"
   },
   "outputs": [
    {
     "data": {
      "text/plain": [
       "True"
      ]
     },
     "execution_count": 100,
     "metadata": {},
     "output_type": "execute_result"
    }
   ],
   "source": [
    "not False"
   ]
  },
  {
   "cell_type": "markdown",
   "metadata": {
    "id": "xjO3-NExrlM3"
   },
   "source": [
    "## If Statement"
   ]
  },
  {
   "cell_type": "code",
   "execution_count": null,
   "metadata": {
    "id": "4fX4dswfrlM4",
    "outputId": "b413db15-56bc-47ca-d098-352042b5172a"
   },
   "outputs": [
    {
     "name": "stdout",
     "output_type": "stream",
     "text": [
      "Always\n"
     ]
    }
   ],
   "source": [
    "## Conditional execution\n",
    "# if 4 is larger than 5 then do something\n",
    "if 4 > 5:\n",
    "    print(\"4 is larger than 5 wow!\")\n",
    "    print(\"MOre text\")\n",
    "print(\"Always\")"
   ]
  },
  {
   "cell_type": "code",
   "execution_count": null,
   "metadata": {
    "id": "Ps_ryCCMrlM4",
    "outputId": "7e13d993-518a-4317-d1e8-d8d5cce7247b"
   },
   "outputs": [
    {
     "name": "stdout",
     "output_type": "stream",
     "text": [
      "hello\n",
      "hello\n",
      "hello thats not magic\n"
     ]
    }
   ],
   "source": [
    "if 5 >= 5:\n",
    "    print(\"hello\")\n",
    "if 5 <= 5:\n",
    "    print(\"hello\")\n",
    "if 5 == 6:\n",
    "    print(\"hello thats magic\")\n",
    "if 5 != 6:\n",
    "    print(\"hello thats not magic\")"
   ]
  },
  {
   "cell_type": "code",
   "execution_count": null,
   "metadata": {
    "id": "fyZ_4Tn1rlM4",
    "outputId": "c8a26e78-caf8-4302-d6b1-868ba319ad84"
   },
   "outputs": [
    {
     "name": "stdout",
     "output_type": "stream",
     "text": [
      "Do one thing if if is True\n",
      "DO more things if if is True\n",
      "Do this always\n"
     ]
    }
   ],
   "source": [
    "if 2*2 == 4:\n",
    "    print(\"Do one thing if if is True\")\n",
    "    print(\"DO more things if if is True\")\n",
    "print(\"Do this always\")"
   ]
  },
  {
   "cell_type": "code",
   "execution_count": null,
   "metadata": {
    "id": "31ZDWnnDrlM4",
    "outputId": "4bd81a3f-03fe-46dc-aa45-36180eb1a091"
   },
   "outputs": [
    {
     "name": "stdout",
     "output_type": "stream",
     "text": [
      "Enter  temperature in Celsius 38.6\n",
      "Farenheit Temperature is 101.48\n",
      "You are too hot, find a doctor?\n"
     ]
    }
   ],
   "source": [
    "c = float(input(\"Enter  temperature in Celsius \"))\n",
    "f = c * 9/5 + 32\n",
    "print(\"Farenheit Temperature is\", f)\n",
    "if f > 100:\n",
    "    print(\"You are too hot, find a doctor?\")"
   ]
  },
  {
   "cell_type": "code",
   "execution_count": null,
   "metadata": {
    "id": "yzXm8SClrlM4",
    "outputId": "e9bb71ba-4832-4b2e-a99b-872e11412106"
   },
   "outputs": [
    {
     "name": "stdout",
     "output_type": "stream",
     "text": [
      "Help on method raw_input in module ipykernel.kernelbase:\n",
      "\n",
      "raw_input(prompt='') method of ipykernel.ipkernel.IPythonKernel instance\n",
      "    Forward raw_input to frontends\n",
      "    \n",
      "    Raises\n",
      "    ------\n",
      "    StdinNotImplentedError if active frontend doesn't support stdin.\n",
      "\n"
     ]
    }
   ],
   "source": [
    "help(input)"
   ]
  },
  {
   "cell_type": "code",
   "execution_count": null,
   "metadata": {
    "id": "2uHr4gzKrlM4",
    "outputId": "861cee64-e54d-48c4-c6ac-aff504f45e4f"
   },
   "outputs": [
    {
     "data": {
      "text/plain": [
       "38.6"
      ]
     },
     "execution_count": 22,
     "metadata": {},
     "output_type": "execute_result"
    }
   ],
   "source": [
    "c"
   ]
  },
  {
   "cell_type": "code",
   "execution_count": null,
   "metadata": {
    "id": "OVVKhd6IrlM4",
    "outputId": "0eb6d3c5-19f3-47d7-9530-ddaad98ebd2d"
   },
   "outputs": [
    {
     "data": {
      "text/plain": [
       "['__abs__',\n",
       " '__add__',\n",
       " '__bool__',\n",
       " '__class__',\n",
       " '__delattr__',\n",
       " '__dir__',\n",
       " '__divmod__',\n",
       " '__doc__',\n",
       " '__eq__',\n",
       " '__float__',\n",
       " '__floordiv__',\n",
       " '__format__',\n",
       " '__ge__',\n",
       " '__getattribute__',\n",
       " '__getformat__',\n",
       " '__getnewargs__',\n",
       " '__gt__',\n",
       " '__hash__',\n",
       " '__init__',\n",
       " '__init_subclass__',\n",
       " '__int__',\n",
       " '__le__',\n",
       " '__lt__',\n",
       " '__mod__',\n",
       " '__mul__',\n",
       " '__ne__',\n",
       " '__neg__',\n",
       " '__new__',\n",
       " '__pos__',\n",
       " '__pow__',\n",
       " '__radd__',\n",
       " '__rdivmod__',\n",
       " '__reduce__',\n",
       " '__reduce_ex__',\n",
       " '__repr__',\n",
       " '__rfloordiv__',\n",
       " '__rmod__',\n",
       " '__rmul__',\n",
       " '__round__',\n",
       " '__rpow__',\n",
       " '__rsub__',\n",
       " '__rtruediv__',\n",
       " '__set_format__',\n",
       " '__setattr__',\n",
       " '__sizeof__',\n",
       " '__str__',\n",
       " '__sub__',\n",
       " '__subclasshook__',\n",
       " '__truediv__',\n",
       " '__trunc__',\n",
       " 'as_integer_ratio',\n",
       " 'conjugate',\n",
       " 'fromhex',\n",
       " 'hex',\n",
       " 'imag',\n",
       " 'is_integer',\n",
       " 'real']"
      ]
     },
     "execution_count": 23,
     "metadata": {},
     "output_type": "execute_result"
    }
   ],
   "source": [
    "dir(c)"
   ]
  },
  {
   "cell_type": "code",
   "execution_count": null,
   "metadata": {
    "id": "qKnRPrZ7rlM5",
    "outputId": "43ffbe14-afd3-44a4-b900-35c00e1e01ee"
   },
   "outputs": [
    {
     "data": {
      "text/plain": [
       "False"
      ]
     },
     "execution_count": 24,
     "metadata": {},
     "output_type": "execute_result"
    }
   ],
   "source": [
    "c.is_integer()"
   ]
  },
  {
   "cell_type": "code",
   "execution_count": null,
   "metadata": {
    "id": "e9pR47vLrlM5",
    "outputId": "96fc37de-0c58-423a-fe0e-ca7fb4f41f66"
   },
   "outputs": [
    {
     "data": {
      "text/plain": [
       "[1, 2, 5, 'Valdis']"
      ]
     },
     "execution_count": 25,
     "metadata": {},
     "output_type": "execute_result"
    }
   ],
   "source": [
    "mylist=[1,2,5,\"Valdis\"]\n",
    "mylist"
   ]
  },
  {
   "cell_type": "code",
   "execution_count": null,
   "metadata": {
    "id": "hNNNGu-brlM5"
   },
   "outputs": [],
   "source": [
    "mylist."
   ]
  },
  {
   "cell_type": "code",
   "execution_count": null,
   "metadata": {
    "id": "-UzGbqJwrlM5"
   },
   "outputs": [],
   "source": [
    "# Try reversing the above program to create a Farenheit to Celsius converter"
   ]
  },
  {
   "cell_type": "code",
   "execution_count": null,
   "metadata": {
    "id": "Nj9fMpl8rlM5",
    "outputId": "0fba7336-59df-4b36-b214-e5f227e1802c"
   },
   "outputs": [
    {
     "name": "stdout",
     "output_type": "stream",
     "text": [
      "a is larger than 5\n",
      "Continue as normal\n"
     ]
    }
   ],
   "source": [
    "a = 30\n",
    "if a > 5:\n",
    "    print('a is larger than 5')\n",
    "    # do more stuff\n",
    "else:\n",
    "    print('a is NOT larger than 5')\n",
    "    # do more stuff if a is not larger than 5\n",
    "print(\"Continue as normal\")"
   ]
  },
  {
   "cell_type": "code",
   "execution_count": null,
   "metadata": {
    "id": "NTHqTmnHrlM5",
    "outputId": "dfb13ee1-ff07-4731-a82d-e4a513e8d998"
   },
   "outputs": [
    {
     "name": "stdout",
     "output_type": "stream",
     "text": [
      "Enter an integer please! 42\n",
      "That is the answer to everything!\n",
      "Your number is 42\n"
     ]
    }
   ],
   "source": [
    "#elif comes from else if\n",
    "x = int(input(\"Enter an integer please! \"))\n",
    "if x > 42:\n",
    "    print(\"Too ambitious an answer!\")\n",
    "elif x < 42:\n",
    "    print(\"You dream too little!\")\n",
    "else:\n",
    "    print(\"That is the answer to everything!\")\n",
    "#These lines below will execute always\n",
    "print('Your number is', x)"
   ]
  },
  {
   "cell_type": "markdown",
   "metadata": {
    "id": "Fsy1fAYzrlM6"
   },
   "source": [
    "## Loops"
   ]
  },
  {
   "cell_type": "code",
   "execution_count": null,
   "metadata": {
    "id": "yS0B9s4YrlM6"
   },
   "outputs": [],
   "source": [
    "# How would be perform the same/similar action multiple times?"
   ]
  },
  {
   "cell_type": "code",
   "execution_count": null,
   "metadata": {
    "id": "05F87zXXrlM6",
    "outputId": "5f495ee1-fed4-4720-cbd8-38f2fe961267"
   },
   "outputs": [
    {
     "name": "stdout",
     "output_type": "stream",
     "text": [
      "Alice did \n",
      "talk\n",
      "talk\n",
      "talk\n",
      "talk\n",
      "talk\n"
     ]
    }
   ],
   "source": [
    "i = 0\n",
    "print(\"Alice did \")\n",
    "while i < 5: # notice the colon\n",
    "    print(\"talk\")\n",
    "    i+= 1 # same as i = i + 1"
   ]
  },
  {
   "cell_type": "code",
   "execution_count": null,
   "metadata": {
    "id": "LdjVQ5GRrlM6",
    "outputId": "5276f5a4-eebd-4a1a-da00-a658f481c693"
   },
   "outputs": [
    {
     "data": {
      "text/plain": [
       "5"
      ]
     },
     "execution_count": 110,
     "metadata": {},
     "output_type": "execute_result"
    }
   ],
   "source": [
    "i"
   ]
  },
  {
   "cell_type": "code",
   "execution_count": null,
   "metadata": {
    "id": "yEp01D0srlM6"
   },
   "outputs": [],
   "source": [
    "# What would happen if we did not have i+=1 in our above program ?"
   ]
  },
  {
   "cell_type": "code",
   "execution_count": null,
   "metadata": {
    "id": "iHa0_3RHrlM6",
    "outputId": "e710d6f7-867f-4824-b25d-4e4a8de7cca4"
   },
   "outputs": [
    {
     "name": "stdout",
     "output_type": "stream",
     "text": [
      "0\n",
      "1\n",
      "2\n",
      "3\n",
      "4\n",
      "5\n",
      "6\n",
      "7\n",
      "8\n",
      "9\n"
     ]
    }
   ],
   "source": [
    "for x in range(10):\n",
    "    print(x)"
   ]
  },
  {
   "cell_type": "code",
   "execution_count": null,
   "metadata": {
    "id": "ucdfUNPDrlM6",
    "outputId": "2022cc78-1c5d-4685-8e24-be0cccbc46c3"
   },
   "outputs": [
    {
     "name": "stdout",
     "output_type": "stream",
     "text": [
      "9000 V\n",
      "9001 a\n",
      "9002 l\n",
      "9003 d\n",
      "9004 i\n",
      "9005 s\n"
     ]
    }
   ],
   "source": [
    "for i,c in enumerate(\"Valdis\", start = 9000):\n",
    "    print(i, c)"
   ]
  },
  {
   "cell_type": "code",
   "execution_count": null,
   "metadata": {
    "id": "LPTNum7trlM7",
    "outputId": "1be601c3-0126-4241-f281-6e0033498a86"
   },
   "outputs": [
    {
     "name": "stdout",
     "output_type": "stream",
     "text": [
      "9000 V\n",
      "9001 a\n",
      "9002 l\n",
      "9003 d\n",
      "9004 i\n",
      "9005 s\n"
     ]
    }
   ],
   "source": [
    "for minituple in enumerate(\"Valdis\", start = 9000):\n",
    "    print(minituple[0], minituple[1])"
   ]
  },
  {
   "cell_type": "code",
   "execution_count": null,
   "metadata": {
    "id": "mylbAjnKrlM7",
    "outputId": "a019d5bb-1869-4e12-97d3-cec86fe8505c"
   },
   "outputs": [
    {
     "data": {
      "text/plain": [
       "[11, 12, 13, 14, 15, 16, 17, 18, 19, 20]"
      ]
     },
     "execution_count": 113,
     "metadata": {},
     "output_type": "execute_result"
    }
   ],
   "source": [
    "mylist"
   ]
  },
  {
   "cell_type": "code",
   "execution_count": null,
   "metadata": {
    "id": "Q8Qj6bQOrlM7",
    "outputId": "42015d32-92ef-4a7f-d592-17979cd06a88"
   },
   "outputs": [
    {
     "name": "stdout",
     "output_type": "stream",
     "text": [
      "11\n",
      "12\n",
      "13\n",
      "14\n",
      "15\n",
      "This will happen at the end always\n"
     ]
    }
   ],
   "source": [
    "for item in mylist[:5]:\n",
    "    print(item)\n",
    "    # I could more stuff here\n",
    "print('This will happen at the end always')"
   ]
  },
  {
   "cell_type": "code",
   "execution_count": null,
   "metadata": {
    "id": "aaiDkd3MrlM7"
   },
   "outputs": [],
   "source": [
    "mydict = {'country':'Latvia', 'food':'Potatoes'}"
   ]
  },
  {
   "cell_type": "code",
   "execution_count": null,
   "metadata": {
    "id": "2NxjWHunrlM7",
    "outputId": "60372fb1-58bf-4a28-aa8f-ef8f9809b7b0"
   },
   "outputs": [
    {
     "name": "stdout",
     "output_type": "stream",
     "text": [
      "country Latvia\n",
      "food Potatoes\n"
     ]
    }
   ],
   "source": [
    "for k,v in mydict.items():\n",
    "    print(k,v)"
   ]
  },
  {
   "cell_type": "code",
   "execution_count": null,
   "metadata": {
    "id": "5jNB6y2WrlM7"
   },
   "outputs": [],
   "source": [
    "## Splitting a line of text into words\n",
    "mytext = \"A quick brown fox jumped over a sleeping dog\"\n",
    "words = mytext.split()\n"
   ]
  },
  {
   "cell_type": "code",
   "execution_count": null,
   "metadata": {
    "id": "nGYKhglmrlM7",
    "outputId": "b7ee47eb-e61e-468b-f7ca-35b59293bc6a"
   },
   "outputs": [
    {
     "name": "stdout",
     "output_type": "stream",
     "text": [
      "['A', 'quick', 'brown', 'fox', 'jumped', 'over', 'a', 'sleeping', 'dog']\n"
     ]
    }
   ],
   "source": [
    "print(words)"
   ]
  },
  {
   "cell_type": "code",
   "execution_count": null,
   "metadata": {
    "id": "ioN6xRXsrlM8",
    "outputId": "b1803b1b-174f-422d-8ce6-76e52ce0be84"
   },
   "outputs": [
    {
     "name": "stdout",
     "output_type": "stream",
     "text": [
      "A True True\n",
      "q False False\n",
      "b False False\n",
      "f False False\n",
      "j False False\n",
      "o False False\n",
      "a False False\n",
      "s False False\n",
      "d False False\n"
     ]
    }
   ],
   "source": [
    "## Print first letter of each word\n",
    "for w in words:\n",
    "    print(w[0], w[0].isupper(), w.istitle()) ## istitle() checks every word in a string so not good for unsplit strings"
   ]
  },
  {
   "cell_type": "code",
   "execution_count": null,
   "metadata": {
    "id": "PermKwthrlM8"
   },
   "outputs": [],
   "source": [
    "myline=\"Mr. Sherlock Holmes, who was usually very late in the mornings\""
   ]
  },
  {
   "cell_type": "code",
   "execution_count": null,
   "metadata": {
    "id": "G30MeSZ-rlM8"
   },
   "outputs": [],
   "source": [
    "words=myline.split()"
   ]
  },
  {
   "cell_type": "code",
   "execution_count": null,
   "metadata": {
    "id": "cQJ2JmuGrlM8"
   },
   "outputs": [],
   "source": [
    "words"
   ]
  },
  {
   "cell_type": "code",
   "execution_count": null,
   "metadata": {
    "id": "qDKSBDydrlM8"
   },
   "outputs": [],
   "source": [
    "words[1][0].isupper()"
   ]
  },
  {
   "cell_type": "code",
   "execution_count": null,
   "metadata": {
    "id": "yyv27j2rrlM8"
   },
   "outputs": [],
   "source": [
    "# Enumerate for showing index of item when going through many items\n",
    "for i, x in enumerate(range(10,15)):\n",
    "    print(i, x)"
   ]
  },
  {
   "cell_type": "code",
   "execution_count": null,
   "metadata": {
    "id": "3Y_tvCNYrlM8",
    "outputId": "6b8f1606-8b7c-4e8f-dac4-32eac83c9556"
   },
   "outputs": [
    {
     "name": "stdout",
     "output_type": "stream",
     "text": [
      "0 V\n",
      "1 a\n",
      "2 l\n",
      "3 d\n",
      "4 i\n",
      "5 s\n"
     ]
    }
   ],
   "source": [
    "for i, c in enumerate(myname):\n",
    "    print(i, c)"
   ]
  },
  {
   "cell_type": "markdown",
   "metadata": {
    "id": "YVwwspNorlM8"
   },
   "source": [
    "## What is a function? <a class=\"anchor\" id=\"functions\">\n",
    "    \n",
    "[Back to Table of Contents](#toc)\n",
    "* A function is a block of organized, reusable code that is used to perform a single, related action.\n",
    "* Single, organized, related always ? :)\n",
    "###  DRY - Do not Repeat Yourself principle\n",
    "* Every piece of knowledge must have a single, unambiguous, authoritative representation within a system. http://wiki.c2.com/?DontRepeatYourself\n",
    "\n",
    "* Contrast WET - We Enjoy Typing, Write Everything Twice, Waste Everyone's Time"
   ]
  },
  {
   "cell_type": "code",
   "execution_count": null,
   "metadata": {
    "id": "iIX4q6eUrlM8"
   },
   "outputs": [],
   "source": [
    "# Here we define our first function\n",
    "def myFirstFunc():\n",
    "    print(\"Running My first func\")"
   ]
  },
  {
   "cell_type": "code",
   "execution_count": null,
   "metadata": {
    "id": "sDHAfbyhrlM9",
    "outputId": "38ae9142-65d7-4a1b-8d8f-9bd709b87d21"
   },
   "outputs": [
    {
     "name": "stdout",
     "output_type": "stream",
     "text": [
      "Running My first func\n"
     ]
    }
   ],
   "source": [
    "# function has to be defined before it is called\n",
    "myFirstFunc()"
   ]
  },
  {
   "cell_type": "code",
   "execution_count": null,
   "metadata": {
    "id": "sAp-qCisrlM9"
   },
   "outputs": [],
   "source": [
    "# Passing parameters(arguments)\n",
    "def printName(name):\n",
    "    print(f\"Maybe my name is: {name}\")\n"
   ]
  },
  {
   "cell_type": "code",
   "execution_count": null,
   "metadata": {
    "id": "zHbd8s_GrlM9",
    "outputId": "ad7ba4c3-b749-4806-e217-0e73ee31f496"
   },
   "outputs": [
    {
     "name": "stdout",
     "output_type": "stream",
     "text": [
      "Maybe my name is: Valdis\n"
     ]
    }
   ],
   "source": [
    "printName(\"Valdis\")"
   ]
  },
  {
   "cell_type": "code",
   "execution_count": null,
   "metadata": {
    "id": "yTyK_sywrlM9"
   },
   "outputs": [],
   "source": [
    "def add(a, b):\n",
    "    print(a+b)"
   ]
  },
  {
   "cell_type": "code",
   "execution_count": null,
   "metadata": {
    "id": "uNdAMLd7rlM9",
    "outputId": "fb3aa3e3-13f7-45f6-b6dc-05bb0e3e2f96"
   },
   "outputs": [
    {
     "name": "stdout",
     "output_type": "stream",
     "text": [
      "10\n",
      "242\n",
      "Hello Riga\n",
      "[1, 2, 7, 6, 7, 8, 9, 10, 11]\n"
     ]
    }
   ],
   "source": [
    "add(4,6)\n",
    "add(9,233)\n",
    "add(\"Hello \",\"Riga\")\n",
    "add([1,2,7],list(range(6,12)))\n",
    "# Try calling add function with other parameters"
   ]
  },
  {
   "cell_type": "code",
   "execution_count": null,
   "metadata": {
    "id": "pdtrdtEIrlM9"
   },
   "outputs": [],
   "source": [
    "\n"
   ]
  },
  {
   "cell_type": "code",
   "execution_count": null,
   "metadata": {
    "id": "pk3vypFyrlM9"
   },
   "outputs": [],
   "source": [
    "# We make Docstrings with '''Helpful function description inside'''\n",
    "def mult(a, b):\n",
    "    '''Returns\n",
    "    multiple from first two arguments'''\n",
    "    print(\"Look ma I am multiplying!\", a, b, a*b)\n",
    "    return a*b"
   ]
  },
  {
   "cell_type": "code",
   "execution_count": null,
   "metadata": {
    "id": "ZyKoTsYSrlM9",
    "outputId": "234f0703-1e1c-4a5f-c1a1-2f85c7e83a6f"
   },
   "outputs": [
    {
     "name": "stdout",
     "output_type": "stream",
     "text": [
      "Help on function mult in module __main__:\n",
      "\n",
      "mult(a, b)\n",
      "    Returns \n",
      "    multiple from first two arguments\n",
      "\n"
     ]
    }
   ],
   "source": [
    "help(mult)"
   ]
  },
  {
   "cell_type": "code",
   "execution_count": null,
   "metadata": {
    "id": "JAzERZQMrlM-",
    "outputId": "a29f7349-db1d-4fd1-ba73-e9c33af21779"
   },
   "outputs": [
    {
     "name": "stdout",
     "output_type": "stream",
     "text": [
      "Look ma I am multiplying! 4 5 20\n"
     ]
    },
    {
     "data": {
      "text/plain": [
       "20"
      ]
     },
     "execution_count": 45,
     "metadata": {},
     "output_type": "execute_result"
    }
   ],
   "source": [
    "res = mult(4,5)\n",
    "res"
   ]
  },
  {
   "cell_type": "code",
   "execution_count": null,
   "metadata": {
    "id": "62lPdTmUrlM-"
   },
   "outputs": [],
   "source": [
    "def printnum(num):\n",
    "    if num > 10:\n",
    "        print(f\"This number {num} is too unwieldy for me to print\")\n",
    "    else:\n",
    "        print(f\"This {num} is a nice number\")"
   ]
  },
  {
   "cell_type": "code",
   "execution_count": null,
   "metadata": {
    "id": "z4zLIh08rlM-",
    "outputId": "7b38fdca-a959-423b-f345-28befbc60008"
   },
   "outputs": [
    {
     "name": "stdout",
     "output_type": "stream",
     "text": [
      "3 is odd\n",
      "4 is even\n"
     ]
    }
   ],
   "source": [
    "def isEven(num):\n",
    "    if num%2 == 0:\n",
    "        print(f\"{num} is even\")\n",
    "    else:\n",
    "        print(f\"{num} is odd\")\n",
    "\n",
    "isEven(3)\n",
    "isEven(4)"
   ]
  },
  {
   "cell_type": "code",
   "execution_count": null,
   "metadata": {
    "id": "p-3zzf3erlM-"
   },
   "outputs": [],
   "source": [
    "def processLine(line):\n",
    "    words = line.split()\n",
    "    linegood=False\n",
    "    for word in words:\n",
    "        if word[0].isupper():\n",
    "            print(word, end='\\t')\n",
    "            linegood=True\n",
    "    if linegood == True:\n",
    "        print('')\n",
    "    return linegood"
   ]
  },
  {
   "cell_type": "code",
   "execution_count": null,
   "metadata": {
    "id": "C1nkzSCcrlM-",
    "outputId": "e2bd2498-6273-4e77-f632-934c2b02a443"
   },
   "outputs": [
    {
     "name": "stdout",
     "output_type": "stream",
     "text": [
      "A\tQuick\tBrown\tFox\tJumped\tOver\tA\tSleeping\tDog\t\n"
     ]
    },
    {
     "data": {
      "text/plain": [
       "True"
      ]
     },
     "execution_count": 50,
     "metadata": {},
     "output_type": "execute_result"
    }
   ],
   "source": [
    "processLine(\"A Quick Brown Fox Jumped Over A Sleeping Dog\")"
   ]
  },
  {
   "cell_type": "code",
   "execution_count": null,
   "metadata": {
    "id": "3zCltoBBrlM-",
    "outputId": "017721fa-0a2f-48d2-96f0-ee65eb3e38b2"
   },
   "outputs": [
    {
     "name": "stdout",
     "output_type": "stream",
     "text": [
      "A\tQuick\tBrown\tFox\tJumped\tOver\tSleeping\tDog\t\n"
     ]
    },
    {
     "data": {
      "text/plain": [
       "True"
      ]
     },
     "execution_count": 51,
     "metadata": {},
     "output_type": "execute_result"
    }
   ],
   "source": [
    "processLine(\"A Quick Brown Fox Jumped Over a Sleeping Dog\")"
   ]
  },
  {
   "cell_type": "markdown",
   "metadata": {
    "id": "eAYlFQUurlM-"
   },
   "source": [
    "## Libraries <a class=\"anchor\" id=\"libraries\">\n",
    "    \n",
    "[Back to Table of Contents](#toc)"
   ]
  },
  {
   "cell_type": "code",
   "execution_count": null,
   "metadata": {
    "id": "_7H81LYwrlM-"
   },
   "outputs": [],
   "source": [
    "# Python and Batteries Included Philosophy\n",
    "## Why reinvent the wheel?"
   ]
  },
  {
   "cell_type": "code",
   "execution_count": null,
   "metadata": {
    "id": "LUJJ-IfRrlM-",
    "outputId": "9cfb087f-5e61-479a-a270-076ca5d0b31a"
   },
   "outputs": [
    {
     "name": "stdout",
     "output_type": "stream",
     "text": [
      "The Zen of Python, by Tim Peters\n",
      "\n",
      "Beautiful is better than ugly.\n",
      "Explicit is better than implicit.\n",
      "Simple is better than complex.\n",
      "Complex is better than complicated.\n",
      "Flat is better than nested.\n",
      "Sparse is better than dense.\n",
      "Readability counts.\n",
      "Special cases aren't special enough to break the rules.\n",
      "Although practicality beats purity.\n",
      "Errors should never pass silently.\n",
      "Unless explicitly silenced.\n",
      "In the face of ambiguity, refuse the temptation to guess.\n",
      "There should be one-- and preferably only one --obvious way to do it.\n",
      "Although that way may not be obvious at first unless you're Dutch.\n",
      "Now is better than never.\n",
      "Although never is often better than *right* now.\n",
      "If the implementation is hard to explain, it's a bad idea.\n",
      "If the implementation is easy to explain, it may be a good idea.\n",
      "Namespaces are one honking great idea -- let's do more of those!\n"
     ]
    }
   ],
   "source": [
    "# Try importing this\n",
    "import this"
   ]
  },
  {
   "cell_type": "code",
   "execution_count": null,
   "metadata": {
    "id": "MiViqBperlM_"
   },
   "outputs": [],
   "source": [
    "import math\n"
   ]
  },
  {
   "cell_type": "code",
   "execution_count": null,
   "metadata": {
    "id": "awJqPdfXrlM_",
    "outputId": "cfa174cc-2a4e-449a-92cd-a00274126e24"
   },
   "outputs": [
    {
     "data": {
      "text/plain": [
       "-0.9999987317275395"
      ]
     },
     "execution_count": 54,
     "metadata": {},
     "output_type": "execute_result"
    }
   ],
   "source": [
    "# notice the . syntax helper\n",
    "math.cos(3.14)"
   ]
  },
  {
   "cell_type": "code",
   "execution_count": null,
   "metadata": {
    "id": "XnFnUuA4rlM_"
   },
   "outputs": [],
   "source": [
    "math."
   ]
  },
  {
   "cell_type": "code",
   "execution_count": null,
   "metadata": {
    "id": "a9cD6ciQrlM_"
   },
   "outputs": [],
   "source": [
    "from collections import Counter"
   ]
  },
  {
   "cell_type": "code",
   "execution_count": null,
   "metadata": {
    "id": "xiK43GMorlM_",
    "outputId": "8e46352c-204f-4bfb-864d-0d72b01e7cfc"
   },
   "outputs": [
    {
     "data": {
      "text/plain": [
       "Counter({'a': 5, 'b': 2, 'r': 2, 'c': 1, 'd': 1})"
      ]
     },
     "execution_count": 140,
     "metadata": {},
     "output_type": "execute_result"
    }
   ],
   "source": [
    "magic = \"abracadabra\"\n",
    "cnt = Counter(magic)\n",
    "cnt"
   ]
  },
  {
   "cell_type": "code",
   "execution_count": null,
   "metadata": {
    "id": "is2oVPWirlM_"
   },
   "outputs": [],
   "source": [
    "# There are hundreds of useful Python libraries\n",
    "## Crucial libraries are collected in Standard Library\n",
    "# https://docs.python.org/3/library/\n",
    "# Batteries included\n"
   ]
  },
  {
   "cell_type": "code",
   "execution_count": null,
   "metadata": {
    "id": "dyK6N3d6rlM_",
    "outputId": "51d6882c-a280-4432-8284-1ae9e0dc4f07"
   },
   "outputs": [
    {
     "data": {
      "text/plain": [
       "['__add__',\n",
       " '__and__',\n",
       " '__class__',\n",
       " '__contains__',\n",
       " '__delattr__',\n",
       " '__delitem__',\n",
       " '__dict__',\n",
       " '__dir__',\n",
       " '__doc__',\n",
       " '__eq__',\n",
       " '__format__',\n",
       " '__ge__',\n",
       " '__getattribute__',\n",
       " '__getitem__',\n",
       " '__gt__',\n",
       " '__hash__',\n",
       " '__iadd__',\n",
       " '__iand__',\n",
       " '__init__',\n",
       " '__init_subclass__',\n",
       " '__ior__',\n",
       " '__isub__',\n",
       " '__iter__',\n",
       " '__le__',\n",
       " '__len__',\n",
       " '__lt__',\n",
       " '__missing__',\n",
       " '__module__',\n",
       " '__ne__',\n",
       " '__neg__',\n",
       " '__new__',\n",
       " '__or__',\n",
       " '__pos__',\n",
       " '__reduce__',\n",
       " '__reduce_ex__',\n",
       " '__repr__',\n",
       " '__setattr__',\n",
       " '__setitem__',\n",
       " '__sizeof__',\n",
       " '__str__',\n",
       " '__sub__',\n",
       " '__subclasshook__',\n",
       " '__weakref__',\n",
       " '_keep_positive',\n",
       " 'clear',\n",
       " 'copy',\n",
       " 'elements',\n",
       " 'fromkeys',\n",
       " 'get',\n",
       " 'items',\n",
       " 'keys',\n",
       " 'most_common',\n",
       " 'pop',\n",
       " 'popitem',\n",
       " 'setdefault',\n",
       " 'subtract',\n",
       " 'update',\n",
       " 'values']"
      ]
     },
     "execution_count": 137,
     "metadata": {},
     "output_type": "execute_result"
    }
   ],
   "source": [
    "dir(cnt)"
   ]
  },
  {
   "cell_type": "code",
   "execution_count": null,
   "metadata": {
    "id": "IAed1wYXrlM_",
    "outputId": "0f5bb3a2-48c2-430d-a66e-25e911e9e43f"
   },
   "outputs": [
    {
     "data": {
      "text/plain": [
       "[('a', 5), ('b', 2), ('r', 2), ('c', 1), ('d', 1)]"
      ]
     },
     "execution_count": 138,
     "metadata": {},
     "output_type": "execute_result"
    }
   ],
   "source": [
    "cnt.most_common()"
   ]
  },
  {
   "cell_type": "markdown",
   "metadata": {
    "id": "n1boafverlM_"
   },
   "source": [
    "### Installing libraries\n",
    "\n",
    "[Back to Table of Contents](#toc)\n",
    "\n",
    "Some \"batteries\" you have to add as you go:\n",
    "* there is a huge repository of Python libraries at https://pypi.org/ (and more on Github and other sources)\n",
    "* Anaconda already has many of them pre-installed\n",
    "\n",
    "To install Python libraries from command line, use the `pip` tool:\n",
    "* example: `pip install requests`\n"
   ]
  },
  {
   "cell_type": "code",
   "execution_count": null,
   "metadata": {
    "id": "S4B3i8gnrlNA",
    "outputId": "636a39c0-2715-4aab-faae-7db90bd49be6"
   },
   "outputs": [
    {
     "name": "stdout",
     "output_type": "stream",
     "text": [
      "Requirement already satisfied: requests in c:\\programdata\\anaconda3\\lib\\site-packages (2.21.0)\n",
      "Requirement already satisfied: certifi>=2017.4.17 in c:\\programdata\\anaconda3\\lib\\site-packages (from requests) (2019.11.28)\n",
      "Requirement already satisfied: chardet<3.1.0,>=3.0.2 in c:\\programdata\\anaconda3\\lib\\site-packages (from requests) (3.0.4)\n",
      "Requirement already satisfied: idna<2.9,>=2.5 in c:\\programdata\\anaconda3\\lib\\site-packages (from requests) (2.8)\n",
      "Requirement already satisfied: urllib3<1.25,>=1.21.1 in c:\\programdata\\anaconda3\\lib\\site-packages (from requests) (1.24.1)\n"
     ]
    }
   ],
   "source": [
    "!pip install requests"
   ]
  },
  {
   "cell_type": "markdown",
   "metadata": {
    "id": "IEAGBC2lrlNA"
   },
   "source": [
    "\n",
    "#### \"Requests III: HTTP for Humans and Machines, alike\"\n",
    "\n",
    "https://3.python-requests.org/"
   ]
  },
  {
   "cell_type": "code",
   "execution_count": null,
   "metadata": {
    "id": "5vQw8qZCrlNA"
   },
   "outputs": [],
   "source": [
    "import requests"
   ]
  },
  {
   "cell_type": "code",
   "execution_count": null,
   "metadata": {
    "id": "iJQvht6WrlNA",
    "outputId": "de662c1e-f5ba-47a7-d499-93008b00fdd9"
   },
   "outputs": [
    {
     "data": {
      "text/plain": [
       "200"
      ]
     },
     "execution_count": 58,
     "metadata": {},
     "output_type": "execute_result"
    }
   ],
   "source": [
    "# let's get \"raw\" wiki code from Latvian wikipedia\n",
    "url = \"https://lv.wikipedia.org/w/index.php?title=Rīga&action=raw\"\n",
    "\n",
    "response = requests.get(url)\n",
    "response.status_code"
   ]
  },
  {
   "cell_type": "code",
   "execution_count": null,
   "metadata": {
    "id": "lrFE2kDIrlNA",
    "outputId": "23417aef-2a85-45ff-8c1f-af86af30abf8"
   },
   "outputs": [
    {
     "data": {
      "text/plain": [
       "'{{Vērtīgs raksts}}\\n{{Citas nozīmes|Latvijas galvaspilsētu|Rīga (nozīmju atdalīšana)|Rīga}}\\n{{Apdzīvotas vietas infokaste\\n| name = Rīga\\n| settlement_type = Galvaspilsēta\\n| other_name = \\n| nickname = \\n| motto = \\n| image_skyline = Rigas mozaika.png\\n| imagesize = \\n| image_caption = \\n| image_flag = Rīgas'"
      ]
     },
     "execution_count": 59,
     "metadata": {},
     "output_type": "execute_result"
    }
   ],
   "source": [
    "data = response.text\n",
    "\n",
    "data[:300]"
   ]
  },
  {
   "cell_type": "code",
   "execution_count": null,
   "metadata": {
    "id": "-ZD7s6TqrlNA",
    "outputId": "c1a5fe33-a3a4-4857-a5c4-fb042b5400f5"
   },
   "outputs": [
    {
     "data": {
      "text/plain": [
       "'2003. gadā Rīgā notika [[2003. gada Eirovīzijas dziesmu konkurss|Eirovīzijas dziesmu konkurss]]. 2006. gada maijā Rīgā notika [[2006. gada Pasaules čempionāts hokejā|Pasaules čempionāts hokejā]], bet tā paša gada novembrī [[19. NATO samits]].\\n\\nSakarā ar [[2008. gada globālā finanšu krīze|globālo finanšu krī'"
      ]
     },
     "execution_count": 24,
     "metadata": {},
     "output_type": "execute_result"
    }
   ],
   "source": [
    "data[5892:6200]"
   ]
  },
  {
   "cell_type": "markdown",
   "metadata": {
    "id": "GYuK-V3jrlNA"
   },
   "source": [
    "## Most important Python ideas <a class=\"anchor\" id=\"python-ideas\">\n",
    "    \n",
    "[Back to Table of Contents](#toc)\n",
    "\n",
    "* dir(myobject) to find what can be done (most decent text editors/IDEs will offer autocompletion and hints though)\n",
    "* help(myobject) general help\n",
    "* type(myobject) what type it is\n",
    "\n",
    "## Slicing Syntax for sequences(strings,lists and more)\n",
    "`\n",
    "myname[start:end:step]\n",
    "myname[:5]`\n",
    "\n",
    "## : indicates a new indentation level\n",
    "\n",
    "`if x > 5:\n",
    "     print(\"Do Work when x > 5\")\n",
    "print(\"Always Do this\")`"
   ]
  },
  {
   "cell_type": "markdown",
   "metadata": {
    "id": "TX3tHKdQrlNA"
   },
   "source": [
    "# Python Resources <a class=\"anchor\" id=\"learning-resources\">\n",
    "    \n",
    "[Back to Table of Contents](#toc)"
   ]
  },
  {
   "cell_type": "markdown",
   "metadata": {
    "id": "125_uY6ArlNA"
   },
   "source": [
    "## Wiki for Tutorials\n",
    "\n",
    "https://wiki.python.org/moin/BeginnersGuide/NonProgrammers"
   ]
  },
  {
   "cell_type": "markdown",
   "metadata": {
    "id": "ZS9U9Z4BrlNB"
   },
   "source": [
    "## Tutorials Begginner to Intermediate\n",
    "\n",
    "\n",
    "\n",
    "\n",
    "* https://automatetheboringstuff.com/ - Anything by Al Sweigart is great\n",
    "* http://newcoder.io/tutorials/ - 5 sets of practical tutorials\n",
    "* [Think Like a Computer Scientist](http://interactivepython.org/runestone/static/thinkcspy/index.html) full tutorial\n",
    "* [Non-Programmers Tutorial for Python 3](https://en.wikibooks.org/wiki/Non-Programmer%27s_Tutorial_for_Python_3) quite good for wikibooks\n",
    "* [Real Python](https://realpython.com/) Python Tutorials for all levels\n",
    "\n",
    "\n",
    "* [Learn Python 3 the Hard Way](https://learnpythonthehardway.org/python3/intro.html) controversial author but very exhaustive, some like this approach"
   ]
  },
  {
   "cell_type": "markdown",
   "metadata": {
    "id": "l_oN8-ElrlNB"
   },
   "source": [
    "## More Advanced Python Specific Books\n",
    "\n",
    "* [Python Cookbook](https://www.amazon.com/Python-Cookbook-Third-David-Beazley/dp/1449340377) Recipes for specific situations\n",
    "\n",
    "* [Effective Python](https://effectivepython.com/) best practices\n",
    "* [Fluent Python](http://shop.oreilly.com/product/0636920032519.do) **highly recommended**, shows Python's advantages"
   ]
  },
  {
   "cell_type": "markdown",
   "metadata": {
    "id": "xCehXlR9rlNB"
   },
   "source": [
    "## General Best Practices Books\n",
    "#### (not Python specific)\n",
    "\n",
    "* [Code Complete 2](https://www.goodreads.com/book/show/4845.Code_Complete) - Fantastic best practices\n",
    "* [The Mythical Man-Month](https://en.wikipedia.org/wiki/The_Mythical_Man-Month) - No silver bullet even after 40 years.\n",
    "* [The Pragmatic Programmer](https://www.amazon.com/Pragmatic-Programmer-Journeyman-Master/dp/020161622X) - More practical advice\n",
    "* [Clean Code](https://www.amazon.com/Clean-Code-Handbook-Software-Craftsmanship/dp/0132350882) - more towards agile"
   ]
  },
  {
   "cell_type": "markdown",
   "metadata": {
    "id": "bo0LLUVsrlNB"
   },
   "source": [
    "## Blogs / Personalities / forums\n",
    "\n",
    "* [Dan Bader](https://dbader.org/)\n",
    "* [Reddit Python](https://www.reddit.com/r/python)"
   ]
  },
  {
   "cell_type": "markdown",
   "metadata": {
    "id": "arD1O3yorlNB"
   },
   "source": [
    "## Exercises/Challenges\n",
    "* http://www.pythonchallenge.com/ - first one is easy but after that...\n",
    "* [Advent of Code](https://adventofcode.com/) - yearly programming challenges\n",
    "* https://projecteuler.net/ - gets very mathematical but first problems are great for testing"
   ]
  },
  {
   "cell_type": "markdown",
   "metadata": {
    "id": "sDhfXWBLrlNB"
   },
   "source": [
    "## Explore Public Notebooks on Github\n",
    " Download them and try them out for yourself\n",
    "\n",
    "https://github.com/jupyter/jupyter/wiki/A-gallery-of-interesting-Jupyter-Notebooks"
   ]
  },
  {
   "cell_type": "markdown",
   "metadata": {
    "id": "4koHYU_8rlNB"
   },
   "source": [
    "## Questions / Suggestions ?\n",
    "\n",
    "Pull requests welcome\n",
    "\n",
    "e-mail **valdis.s.coding at gmail.com**"
   ]
  }
 ],
 "metadata": {
  "colab": {
   "provenance": [],
   "toc_visible": true
  },
  "kernelspec": {
   "display_name": "Python 3",
   "language": "python",
   "name": "python3"
  },
  "language_info": {
   "codemirror_mode": {
    "name": "ipython",
    "version": 3
   },
   "file_extension": ".py",
   "mimetype": "text/x-python",
   "name": "python",
   "nbconvert_exporter": "python",
   "pygments_lexer": "ipython3",
   "version": "3.11.4"
  }
 },
 "nbformat": 4,
 "nbformat_minor": 0
}
