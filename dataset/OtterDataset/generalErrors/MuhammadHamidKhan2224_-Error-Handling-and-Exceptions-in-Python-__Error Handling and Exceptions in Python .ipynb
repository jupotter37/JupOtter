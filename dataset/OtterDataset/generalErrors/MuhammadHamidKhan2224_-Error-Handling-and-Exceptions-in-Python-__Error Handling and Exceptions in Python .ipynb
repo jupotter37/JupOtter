{
 "cells": [
  {
   "cell_type": "markdown",
   "id": "de4f4302-4dd3-4338-9179-5c288f7d8e38",
   "metadata": {},
   "source": [
    "# While writing code we do face errors of many types. Most exceptions are not handled by programs."
   ]
  },
  {
   "cell_type": "markdown",
   "id": "030f1003-3f00-4dc4-8641-0db7145ea019",
   "metadata": {},
   "source": [
    "## Here's a list of the key exception types that a Business Analytics student should focus on learning:\n",
    "## 01: ValueError\n",
    "## 02: TypeError\n",
    "## 03: ZeroDivisionError\n",
    "## 04: FileNotFoundError\n",
    "## 05: IOError\n",
    "## 06: KeyError\n",
    "## 07: IndexError\n",
    "## 08: ImportError"
   ]
  },
  {
   "cell_type": "markdown",
   "id": "d7f8ffa8-7c1c-4081-bbbd-09eca0b55ef4",
   "metadata": {},
   "source": [
    "### 01: Missing ':' before the print function. Particularly while using 'Print' with IF, ELSE, FOR, and WHILE."
   ]
  },
  {
   "cell_type": "code",
   "execution_count": 68,
   "id": "642b7aa6-06c1-42a8-95b4-79ee4d4aa936",
   "metadata": {},
   "outputs": [
    {
     "ename": "SyntaxError",
     "evalue": "unterminated string literal (detected at line 2) (3821373965.py, line 2)",
     "output_type": "error",
     "traceback": [
      "\u001b[1;36m  Cell \u001b[1;32mIn[68], line 2\u001b[1;36m\u001b[0m\n\u001b[1;33m    print('Have a nice day)\u001b[0m\n\u001b[1;37m          ^\u001b[0m\n\u001b[1;31mSyntaxError\u001b[0m\u001b[1;31m:\u001b[0m unterminated string literal (detected at line 2)\n"
     ]
    }
   ],
   "source": [
    "while True\n",
    "print('Have a nice day)"
   ]
  },
  {
   "cell_type": "code",
   "execution_count": null,
   "id": "9d2e190b-8a42-4fa6-a941-b08b69340324",
   "metadata": {},
   "outputs": [],
   "source": [
    "### Here, in the above code we have missed the ':' before print, so it showed the syntax error."
   ]
  },
  {
   "cell_type": "markdown",
   "id": "ef45f002-e60f-4f70-8aa1-ec183d212ac3",
   "metadata": {},
   "source": [
    "## Try and Except Statements in Python"
   ]
  },
  {
   "cell_type": "markdown",
   "id": "5a50d2f8-1574-4437-888f-c89595b171d1",
   "metadata": {},
   "source": [
    "## ZeroDivisionError"
   ]
  },
  {
   "cell_type": "code",
   "execution_count": 70,
   "id": "d2122cee-91b2-49b8-8a5c-fcdd4aa220bf",
   "metadata": {},
   "outputs": [
    {
     "name": "stdout",
     "output_type": "stream",
     "text": [
      "Something went wrong\n"
     ]
    }
   ],
   "source": [
    "x = 0\n",
    "try:\n",
    "    print(5 / x)  ## In the try clause it is mathematically wrong to divide some numbers with zero. That's why it showed the error.\n",
    "except ZeroDivisionError:\n",
    "    print('Something went wrong')"
   ]
  },
  {
   "cell_type": "code",
   "execution_count": 72,
   "id": "0841c340-f728-429a-8738-02046c19d2c3",
   "metadata": {},
   "outputs": [
    {
     "name": "stdout",
     "output_type": "stream",
     "text": [
      "Something went Wrong. Please try revise you code\n"
     ]
    }
   ],
   "source": [
    "x = 0\n",
    "try:\n",
    "    print(5 / x)\n",
    "except:\n",
    "    print('Something went Wrong. Please try revise you code')"
   ]
  },
  {
   "cell_type": "markdown",
   "id": "9fb10c2e-b2b4-4f43-bb7c-5d0af974d3da",
   "metadata": {},
   "source": [
    "## No Errors in the Try Clause\n",
    "## If the code in the try clause executes without any errors, the program will:\n",
    "\n",
    "## Execute the try clause\n",
    "## Skip all except clauses\n",
    "## Continue running as normal"
   ]
  },
  {
   "cell_type": "code",
   "execution_count": 74,
   "id": "429184b7-69c3-4e81-8481-1776d987b568",
   "metadata": {},
   "outputs": [
    {
     "name": "stdout",
     "output_type": "stream",
     "text": [
      "5.0\n",
      "Your try clause successfuly got executed\n"
     ]
    }
   ],
   "source": [
    "x = 1\n",
    "try:\n",
    "    print(5/x)\n",
    "except ZeroDivisionError:\n",
    "    print(\"Something went wrong\")\n",
    "print(\"Your try clause successfuly got executed\")"
   ]
  },
  {
   "cell_type": "markdown",
   "id": "14791dbf-ad57-4407-b5f5-9aed7a7e53e0",
   "metadata": {},
   "source": [
    "## Errors in the Try Clause and the Exception is Specified\n",
    "## If the code in the try clause does throw an exception and the type of exception is specified after any except keyword, the program will:\n",
    "\n",
    "## Skip the remaining code in the try clause\n",
    "## Execute any code in the matching except clause\n",
    "## Continue running as normal"
   ]
  },
  {
   "cell_type": "code",
   "execution_count": 76,
   "id": "60d92db8-b181-42ed-80d5-3105b4e2507b",
   "metadata": {},
   "outputs": [
    {
     "name": "stdout",
     "output_type": "stream",
     "text": [
      "Something went wrong\n",
      "I am being printed after try\n"
     ]
    }
   ],
   "source": [
    "x = 0\n",
    "try:\n",
    "    print(5/x)\n",
    "except:\n",
    "    print('Something went wrong')\n",
    "print('I am being printed after try')\n"
   ]
  },
  {
   "cell_type": "markdown",
   "id": "1dcd823e-faaa-4ed9-8cc7-3ef9c0fac752",
   "metadata": {},
   "source": [
    "## Errors in the Try Clause and the Exception is not Specified\n",
    "## Finally, if the program throws an exception in the try clause, but the exception is not specified in any except statements, then the program"
   ]
  },
  {
   "cell_type": "code",
   "execution_count": 78,
   "id": "b858b0b0-155d-4820-a036-68732c3ad761",
   "metadata": {},
   "outputs": [
    {
     "name": "stdout",
     "output_type": "stream",
     "text": [
      "Something went wrong\n",
      "I am executing after the try clause!\n"
     ]
    }
   ],
   "source": [
    "x = 0\n",
    "try:\n",
    "    print(5/x)\n",
    "except:\n",
    "    print(\"Something went wrong\")\n",
    "print(\"I am executing after the try clause!\")"
   ]
  },
  {
   "cell_type": "markdown",
   "id": "96126221-e3aa-4522-a9a8-acdc77eeac5b",
   "metadata": {},
   "source": [
    "## Finally clause always get executed whether there is an error or not"
   ]
  },
  {
   "cell_type": "code",
   "execution_count": 83,
   "id": "1cc4655b-2b85-4525-8dcb-98bc8240e43f",
   "metadata": {},
   "outputs": [
    {
     "name": "stdout",
     "output_type": "stream",
     "text": [
      "I am the except clause!\n",
      "I am finally clause\n",
      "I am getting executed after the try clause!\n"
     ]
    }
   ],
   "source": [
    "x = 0\n",
    "try:\n",
    "    print(5/x)\n",
    "except ZeroDivisionError:\n",
    "    print('I am the except clause!')\n",
    "finally:\n",
    "    print('I am finally clause')\n",
    "\n",
    "print(\"I am getting executed after the try clause!\")\n"
   ]
  },
  {
   "cell_type": "code",
   "execution_count": null,
   "id": "83fe9257-2741-4b43-b321-baf02695d154",
   "metadata": {},
   "outputs": [],
   "source": [
    "## Finally clause always get executed irrespective of try is correct or except has exception or not. "
   ]
  },
  {
   "cell_type": "code",
   "execution_count": 85,
   "id": "ac5f4aab-391c-4200-b041-7dacc5ca1ead",
   "metadata": {},
   "outputs": [
    {
     "name": "stdout",
     "output_type": "stream",
     "text": [
      "I am except clause\n",
      "I am finally clause\n"
     ]
    }
   ],
   "source": [
    "l = 0 \n",
    "try: \n",
    "    print(5/l)\n",
    "except ZeroDivisionError:\n",
    "    print(\"I am except clause\")\n",
    "finally:\n",
    "    print(\"I am finally clause\")"
   ]
  },
  {
   "cell_type": "code",
   "execution_count": null,
   "id": "c3fc55b9-4e91-4623-be08-71ce530a8b4c",
   "metadata": {},
   "outputs": [],
   "source": [
    "## ValueError: When values are correct but their data types aren't. In addtion, indexing error also comes under value error."
   ]
  },
  {
   "cell_type": "code",
   "execution_count": 123,
   "id": "ac0ac34a-1355-4c08-a104-421ece7a9212",
   "metadata": {},
   "outputs": [
    {
     "name": "stdin",
     "output_type": "stream",
     "text": [
      "Enter a num:  0\n"
     ]
    },
    {
     "name": "stdout",
     "output_type": "stream",
     "text": [
      "0\n"
     ]
    }
   ],
   "source": [
    "num = input(\"Enter a num: \")\n",
    "try:\n",
    "    int(num)\n",
    "    print(num)\n",
    "except ValueError as e:\n",
    "    print(e)\n",
    "    "
   ]
  },
  {
   "cell_type": "code",
   "execution_count": 125,
   "id": "3048d350-3b69-4981-9995-5d9f7ce4f4e4",
   "metadata": {},
   "outputs": [
    {
     "data": {
      "text/plain": [
       "'hamikhan2224'"
      ]
     },
     "execution_count": 125,
     "metadata": {},
     "output_type": "execute_result"
    }
   ],
   "source": [
    "paswrd = 'hamikhan2224'\n",
    "paswrd"
   ]
  },
  {
   "cell_type": "code",
   "execution_count": 135,
   "id": "5d08fa50-bdd8-45fd-99fd-b005564f4751",
   "metadata": {},
   "outputs": [
    {
     "name": "stdin",
     "output_type": "stream",
     "text": [
      "Enter your password hamikhan2224\n"
     ]
    },
    {
     "name": "stdout",
     "output_type": "stream",
     "text": [
      "True\n"
     ]
    }
   ],
   "source": [
    "pas_input = str(input(\"Enter your password\"))\n",
    "try:\n",
    "    print(paswrd == pas_input)\n",
    "except Exception as e:\n",
    "    print(\"Please enter correct password\")"
   ]
  },
  {
   "cell_type": "markdown",
   "id": "236b0353-d9b6-4c4c-975d-cdc4b421db72",
   "metadata": {},
   "source": [
    "## Simple Total Cost Calculator"
   ]
  },
  {
   "cell_type": "markdown",
   "id": "d90fd1d9-c3a0-418d-8942-0ce05c2f3e9a",
   "metadata": {},
   "source": [
    "#### Imagine a simple business application that calculates the total cost after applying a discount. The app asks the user to enter the price of an item and the discount percentage. However, if the user accidentally enters something that’s not a number (like text instead of a price or discount), it would cause an error"
   ]
  },
  {
   "cell_type": "code",
   "execution_count": 141,
   "id": "f4dbb758-e947-4225-b18e-4ab02c293c44",
   "metadata": {},
   "outputs": [
    {
     "name": "stdin",
     "output_type": "stream",
     "text": [
      "Enter the price of the item 99\n",
      "Enter the discount percentage k\n"
     ]
    },
    {
     "name": "stdout",
     "output_type": "stream",
     "text": [
      "Please enter only number for price and discount\n",
      "Thank you for using our calculator\n"
     ]
    }
   ],
   "source": [
    "try:\n",
    "    price = float(input(\"Enter the price of the item\"))\n",
    "    discount = float(input(\"Enter the discount percentage\"))\n",
    "    Total_Price = price - (price * discount / 100)\n",
    "except ValueError:\n",
    "    print(\"Please enter only number for price and discount\")\n",
    "else:\n",
    "    print(f\"The Final Price after discount: {Total_Price}\")\n",
    "finally:\n",
    "    print('Thank you for using our calculator')"
   ]
  },
  {
   "cell_type": "code",
   "execution_count": null,
   "id": "866d9c63-cec1-44c4-81ed-4868a75cfe03",
   "metadata": {},
   "outputs": [],
   "source": []
  },
  {
   "cell_type": "markdown",
   "id": "50a349d6-89bb-4770-b019-ae251deffca3",
   "metadata": {},
   "source": [
    "## A potential business use-case."
   ]
  },
  {
   "cell_type": "code",
   "execution_count": 164,
   "id": "853df77a-294c-4455-9fd0-ff7fa8214131",
   "metadata": {},
   "outputs": [
    {
     "name": "stdin",
     "output_type": "stream",
     "text": [
      "Enter the total budget amount 876543567898y\n"
     ]
    },
    {
     "name": "stdout",
     "output_type": "stream",
     "text": [
      "Please enter a valid number only\n",
      "Thank you for using Budget calculator\n"
     ]
    }
   ],
   "source": [
    "try:\n",
    "    budget = float(input(\"Enter the total budget amount\"))\n",
    "    diviser = float(input(\"Enter the number to divided by\"))\n",
    "    result = budget / diviser \n",
    "except ValueError:\n",
    "    print('Please enter a valid number only')\n",
    "except ZeroDivisionError:\n",
    "    print('Cannot divide by zero, please enter non-zero number')\n",
    "except Expection as e:\n",
    "    print(f'An unexpected error accure: {e}')\n",
    "else:\n",
    "    print(f'The divided budget is: {result}')\n",
    "finally:\n",
    "    print('Thank you for using Budget calculator')\n"
   ]
  },
  {
   "cell_type": "markdown",
   "id": "b53b772c-3696-4e00-9259-9cc6bda3d2e5",
   "metadata": {},
   "source": [
    "## Practising Build-in Exception Functions"
   ]
  },
  {
   "cell_type": "markdown",
   "id": "17ed1a41-1d5e-48aa-b879-28ce50e2c066",
   "metadata": {},
   "source": [
    "### 1: ValueError - Occurs when a function receives an argument of the right type but inappropriate value."
   ]
  },
  {
   "cell_type": "code",
   "execution_count": 173,
   "id": "a89a9cc6-6f2b-420b-9d0e-703114e549b4",
   "metadata": {},
   "outputs": [
    {
     "name": "stdin",
     "output_type": "stream",
     "text": [
      "Enter a number 7\n"
     ]
    },
    {
     "name": "stdout",
     "output_type": "stream",
     "text": [
      "7\n"
     ]
    }
   ],
   "source": [
    "## For INTERGER Values\n",
    "num = input('Enter a number')\n",
    "try:\n",
    "    print(int(num))\n",
    "except ValueError:\n",
    "    print(\"Pleae enter a interger number\")"
   ]
  },
  {
   "cell_type": "markdown",
   "id": "add37811-083e-4d22-82d5-7956c97bae68",
   "metadata": {},
   "source": [
    "### 2: TypeError - Occurs when an operation or function is applied to an object of inappropriate type."
   ]
  },
  {
   "cell_type": "code",
   "execution_count": 191,
   "id": "f7a2a34d-baa4-46d0-abf9-681526abc74d",
   "metadata": {},
   "outputs": [
    {
     "name": "stdout",
     "output_type": "stream",
     "text": [
      "You cannot add the number with string\n"
     ]
    }
   ],
   "source": [
    "a = 3\n",
    "b = 'dd'\n",
    "try:\n",
    "    print(a+b)\n",
    "except TypeError:\n",
    "    print(\"You cannot add the number with string\")"
   ]
  },
  {
   "cell_type": "markdown",
   "id": "fdedfe34-05e3-4f63-975f-ce284379dc97",
   "metadata": {},
   "source": [
    "### 3: ZeroDivisionError - Occurs when dividing by zero."
   ]
  },
  {
   "cell_type": "code",
   "execution_count": 7,
   "id": "814aeea8-224a-4fe0-b19a-ad313d706e0e",
   "metadata": {},
   "outputs": [
    {
     "name": "stdin",
     "output_type": "stream",
     "text": [
      "Enter any number 7689\n",
      "Enter a diviser 0\n"
     ]
    },
    {
     "name": "stdout",
     "output_type": "stream",
     "text": [
      "Zero number can't be in denominator\n"
     ]
    }
   ],
   "source": [
    "num1 = int(input('Enter any number'))\n",
    "divisor = int(input(\"Enter a diviser\"))\n",
    "try:\n",
    "    print(num1/divisor)\n",
    "except ZeroDivisionError:\n",
    "    print(\"Zero number can't be in denominator\")"
   ]
  },
  {
   "cell_type": "markdown",
   "id": "cf851562-1934-4ec4-9fdb-696fcb0b7fd3",
   "metadata": {},
   "source": [
    "### 4: FileNotFoundError - Raised when trying to open a file that does not exist."
   ]
  },
  {
   "cell_type": "code",
   "execution_count": 16,
   "id": "318b0240-1a55-4c32-9ed4-364a39a2194e",
   "metadata": {},
   "outputs": [
    {
     "name": "stdout",
     "output_type": "stream",
     "text": [
      "File Name not found\n"
     ]
    }
   ],
   "source": [
    "try:\n",
    "    with open('nonexistence_file', 'r') as file:\n",
    "        content = file.read()\n",
    "except FileNotFoundError:\n",
    "    print('File Name not found')"
   ]
  },
  {
   "cell_type": "markdown",
   "id": "6d555d15-6136-4e12-9e31-85304220612e",
   "metadata": {},
   "source": [
    "### 5: KeyError - Occurs when a dictionary key does not exist."
   ]
  },
  {
   "cell_type": "code",
   "execution_count": 24,
   "id": "6f4362ba-dfaf-4477-afbc-ba50f9269bcf",
   "metadata": {},
   "outputs": [
    {
     "name": "stdout",
     "output_type": "stream",
     "text": [
      "Key not found in dictionary\n"
     ]
    }
   ],
   "source": [
    "mydict = {'name': 'Hamid'}\n",
    "try:\n",
    "    key = mydict['age']\n",
    "    print(key)\n",
    "except:\n",
    "    print(\"Key not found in dictionary\")"
   ]
  },
  {
   "cell_type": "markdown",
   "id": "12b28204-1190-488b-bca9-09a7712811ae",
   "metadata": {},
   "source": [
    "### 6: IndexError - Occurs when an index is out of range for a list."
   ]
  },
  {
   "cell_type": "code",
   "execution_count": 44,
   "id": "07bde497-0ab6-4f1a-8856-f4e39c5fc279",
   "metadata": {},
   "outputs": [
    {
     "name": "stdout",
     "output_type": "stream",
     "text": [
      "3\n"
     ]
    }
   ],
   "source": [
    "my_list = [1,2,3]\n",
    "try:\n",
    "    num_index = my_list[2]\n",
    "    print(num_index)\n",
    "except IndexError:\n",
    "    print(\"Index out of range\")"
   ]
  },
  {
   "cell_type": "code",
   "execution_count": null,
   "id": "c5c84efd-1158-4832-936b-4f6d902ec26d",
   "metadata": {},
   "outputs": [],
   "source": []
  },
  {
   "cell_type": "code",
   "execution_count": null,
   "id": "4bd49758-c052-46ef-a4d1-8b568922bc0e",
   "metadata": {},
   "outputs": [],
   "source": []
  }
 ],
 "metadata": {
  "kernelspec": {
   "display_name": "Python 3 (ipykernel)",
   "language": "python",
   "name": "python3"
  },
  "language_info": {
   "codemirror_mode": {
    "name": "ipython",
    "version": 3
   },
   "file_extension": ".py",
   "mimetype": "text/x-python",
   "name": "python",
   "nbconvert_exporter": "python",
   "pygments_lexer": "ipython3",
   "version": "3.12.4"
  }
 },
 "nbformat": 4,
 "nbformat_minor": 5
}
