{
 "cells": [
  {
   "cell_type": "markdown",
   "id": "16e4057b-a0ac-49cc-a9f1-3b6ab7f16a23",
   "metadata": {},
   "source": [
    "# 1-2 Pythonの基礎\n",
    "## 1-2-1 Jupyter Notebookの使い方"
   ]
  },
  {
   "cell_type": "code",
   "execution_count": 133,
   "id": "8971f360-b9b7-49cf-bbe5-868a93b09f58",
   "metadata": {},
   "outputs": [
    {
     "name": "stdout",
     "output_type": "stream",
     "text": [
      "hello, world!\n"
     ]
    }
   ],
   "source": [
    "print(\"hello, world!\")"
   ]
  },
  {
   "cell_type": "code",
   "execution_count": 134,
   "id": "5d859d28-c263-4173-b363-38fd24afcaeb",
   "metadata": {},
   "outputs": [
    {
     "name": "stdout",
     "output_type": "stream",
     "text": [
      "2\n",
      "12\n",
      "64\n"
     ]
    }
   ],
   "source": [
    "print(1 + 1)\n",
    "print(2 * 6)\n",
    "print(2 ** 6)"
   ]
  },
  {
   "cell_type": "markdown",
   "id": "a3487256-5683-4c67-9431-db5f5a7d2971",
   "metadata": {},
   "source": [
    "## 1-2-2 Pythonの基礎\n",
    "### 2-1 変数"
   ]
  },
  {
   "cell_type": "code",
   "execution_count": 135,
   "id": "4dae9bdd-16dd-4490-b2be-24299f6ae2c6",
   "metadata": {},
   "outputs": [
    {
     "name": "stdout",
     "output_type": "stream",
     "text": [
      "test\n"
     ]
    }
   ],
   "source": [
    "msg = 'test'\n",
    "print(msg)"
   ]
  },
  {
   "cell_type": "code",
   "execution_count": 136,
   "id": "a1355137-a9a1-484b-a4e4-f583b9245196",
   "metadata": {},
   "outputs": [
    {
     "data": {
      "text/plain": [
       "'e'"
      ]
     },
     "execution_count": 136,
     "metadata": {},
     "output_type": "execute_result"
    }
   ],
   "source": [
    "msg[1]"
   ]
  },
  {
   "cell_type": "code",
   "execution_count": 137,
   "id": "6141d7a4-4e7f-467c-b7f9-06d9989608ba",
   "metadata": {},
   "outputs": [
    {
     "data": {
      "text/plain": [
       "'t'"
      ]
     },
     "execution_count": 137,
     "metadata": {},
     "output_type": "execute_result"
    }
   ],
   "source": [
    "msg[0]"
   ]
  },
  {
   "cell_type": "code",
   "execution_count": 138,
   "id": "6235f3cb-02c1-40e6-8500-7feb5c8f7176",
   "metadata": {},
   "outputs": [
    {
     "ename": "IndexError",
     "evalue": "string index out of range",
     "output_type": "error",
     "traceback": [
      "\u001b[0;31m---------------------------------------------------------------------------\u001b[0m",
      "\u001b[0;31mIndexError\u001b[0m                                Traceback (most recent call last)",
      "Cell \u001b[0;32mIn[138], line 2\u001b[0m\n\u001b[1;32m      1\u001b[0m \u001b[38;5;66;03m# 実行するとエラー\u001b[39;00m\n\u001b[0;32m----> 2\u001b[0m msg[\u001b[38;5;241m5\u001b[39m]\n",
      "\u001b[0;31mIndexError\u001b[0m: string index out of range"
     ]
    }
   ],
   "source": [
    "# 実行するとエラー\n",
    "msg[5]"
   ]
  },
  {
   "cell_type": "markdown",
   "id": "5bfe3dc5-b734-4f9b-a3ae-175f7a9515bc",
   "metadata": {},
   "source": [
    "### 2-2 演算"
   ]
  },
  {
   "cell_type": "code",
   "execution_count": null,
   "id": "b33f808c-f473-4cd3-b436-abc2af884a53",
   "metadata": {},
   "outputs": [],
   "source": [
    "data = 1\n",
    "print(data)\n",
    "data = data + 10\n",
    "print(data)"
   ]
  },
  {
   "cell_type": "markdown",
   "id": "8e0f41ba-7cf4-4702-a9e0-5f125e5769b8",
   "metadata": {},
   "source": [
    "### 2-3 予約語"
   ]
  },
  {
   "cell_type": "code",
   "execution_count": 139,
   "id": "6cbbf908-3626-462c-ab90-4cf847c4b7bf",
   "metadata": {},
   "outputs": [
    {
     "data": {
      "text/plain": [
       "['False',\n",
       " 'None',\n",
       " 'True',\n",
       " 'and',\n",
       " 'as',\n",
       " 'assert',\n",
       " 'async',\n",
       " 'await',\n",
       " 'break',\n",
       " 'class',\n",
       " 'continue',\n",
       " 'def',\n",
       " 'del',\n",
       " 'elif',\n",
       " 'else',\n",
       " 'except',\n",
       " 'finally',\n",
       " 'for',\n",
       " 'from',\n",
       " 'global',\n",
       " 'if',\n",
       " 'import',\n",
       " 'in',\n",
       " 'is',\n",
       " 'lambda',\n",
       " 'nonlocal',\n",
       " 'not',\n",
       " 'or',\n",
       " 'pass',\n",
       " 'raise',\n",
       " 'return',\n",
       " 'try',\n",
       " 'while',\n",
       " 'with',\n",
       " 'yield']"
      ]
     },
     "execution_count": 139,
     "metadata": {},
     "output_type": "execute_result"
    }
   ],
   "source": [
    "#予約後を表示するコマンド\n",
    "__import__('keyword').kwlist"
   ]
  },
  {
   "cell_type": "code",
   "execution_count": 140,
   "id": "ddb2439a-4cb1-4886-a8f9-3621c0095834",
   "metadata": {},
   "outputs": [
    {
     "data": {
      "text/plain": [
       "['ArithmeticError',\n",
       " 'AssertionError',\n",
       " 'AttributeError',\n",
       " 'BaseException',\n",
       " 'BaseExceptionGroup',\n",
       " 'BlockingIOError',\n",
       " 'BrokenPipeError',\n",
       " 'BufferError',\n",
       " 'BytesWarning',\n",
       " 'ChildProcessError',\n",
       " 'ConnectionAbortedError',\n",
       " 'ConnectionError',\n",
       " 'ConnectionRefusedError',\n",
       " 'ConnectionResetError',\n",
       " 'DeprecationWarning',\n",
       " 'EOFError',\n",
       " 'Ellipsis',\n",
       " 'EncodingWarning',\n",
       " 'EnvironmentError',\n",
       " 'Exception',\n",
       " 'ExceptionGroup',\n",
       " 'False',\n",
       " 'FileExistsError',\n",
       " 'FileNotFoundError',\n",
       " 'FloatingPointError',\n",
       " 'FutureWarning',\n",
       " 'GeneratorExit',\n",
       " 'IOError',\n",
       " 'ImportError',\n",
       " 'ImportWarning',\n",
       " 'IndentationError',\n",
       " 'IndexError',\n",
       " 'InterruptedError',\n",
       " 'IsADirectoryError',\n",
       " 'KeyError',\n",
       " 'KeyboardInterrupt',\n",
       " 'LookupError',\n",
       " 'MemoryError',\n",
       " 'ModuleNotFoundError',\n",
       " 'NameError',\n",
       " 'None',\n",
       " 'NotADirectoryError',\n",
       " 'NotImplemented',\n",
       " 'NotImplementedError',\n",
       " 'OSError',\n",
       " 'OverflowError',\n",
       " 'PendingDeprecationWarning',\n",
       " 'PermissionError',\n",
       " 'ProcessLookupError',\n",
       " 'RecursionError',\n",
       " 'ReferenceError',\n",
       " 'ResourceWarning',\n",
       " 'RuntimeError',\n",
       " 'RuntimeWarning',\n",
       " 'StopAsyncIteration',\n",
       " 'StopIteration',\n",
       " 'SyntaxError',\n",
       " 'SyntaxWarning',\n",
       " 'SystemError',\n",
       " 'SystemExit',\n",
       " 'TabError',\n",
       " 'TimeoutError',\n",
       " 'True',\n",
       " 'TypeError',\n",
       " 'UnboundLocalError',\n",
       " 'UnicodeDecodeError',\n",
       " 'UnicodeEncodeError',\n",
       " 'UnicodeError',\n",
       " 'UnicodeTranslateError',\n",
       " 'UnicodeWarning',\n",
       " 'UserWarning',\n",
       " 'ValueError',\n",
       " 'Warning',\n",
       " 'ZeroDivisionError',\n",
       " '__IPYTHON__',\n",
       " '__build_class__',\n",
       " '__debug__',\n",
       " '__doc__',\n",
       " '__import__',\n",
       " '__loader__',\n",
       " '__name__',\n",
       " '__package__',\n",
       " '__spec__',\n",
       " 'abs',\n",
       " 'aiter',\n",
       " 'all',\n",
       " 'anext',\n",
       " 'any',\n",
       " 'ascii',\n",
       " 'bin',\n",
       " 'bool',\n",
       " 'breakpoint',\n",
       " 'bytearray',\n",
       " 'bytes',\n",
       " 'callable',\n",
       " 'chr',\n",
       " 'classmethod',\n",
       " 'compile',\n",
       " 'complex',\n",
       " 'copyright',\n",
       " 'credits',\n",
       " 'delattr',\n",
       " 'dict',\n",
       " 'dir',\n",
       " 'display',\n",
       " 'divmod',\n",
       " 'enumerate',\n",
       " 'eval',\n",
       " 'exec',\n",
       " 'execfile',\n",
       " 'filter',\n",
       " 'float',\n",
       " 'format',\n",
       " 'frozenset',\n",
       " 'get_ipython',\n",
       " 'getattr',\n",
       " 'globals',\n",
       " 'hasattr',\n",
       " 'hash',\n",
       " 'help',\n",
       " 'hex',\n",
       " 'id',\n",
       " 'input',\n",
       " 'int',\n",
       " 'isinstance',\n",
       " 'issubclass',\n",
       " 'iter',\n",
       " 'len',\n",
       " 'license',\n",
       " 'list',\n",
       " 'locals',\n",
       " 'map',\n",
       " 'max',\n",
       " 'memoryview',\n",
       " 'min',\n",
       " 'next',\n",
       " 'object',\n",
       " 'oct',\n",
       " 'open',\n",
       " 'ord',\n",
       " 'pow',\n",
       " 'print',\n",
       " 'property',\n",
       " 'range',\n",
       " 'repr',\n",
       " 'reversed',\n",
       " 'round',\n",
       " 'runfile',\n",
       " 'set',\n",
       " 'setattr',\n",
       " 'slice',\n",
       " 'sorted',\n",
       " 'staticmethod',\n",
       " 'str',\n",
       " 'sum',\n",
       " 'super',\n",
       " 'tuple',\n",
       " 'type',\n",
       " 'vars',\n",
       " 'zip']"
      ]
     },
     "execution_count": 140,
     "metadata": {},
     "output_type": "execute_result"
    }
   ],
   "source": [
    "#組み込み関数を表示するコマンド\n",
    "dir(__builtins__)"
   ]
  },
  {
   "cell_type": "markdown",
   "id": "8a983e8e-9d44-48fc-8219-7a1bf4d2669c",
   "metadata": {},
   "source": [
    "## 1-2-3 リストと辞書型"
   ]
  },
  {
   "cell_type": "code",
   "execution_count": 141,
   "id": "cc4b8182-9501-4710-b93d-4607ee0f4b35",
   "metadata": {},
   "outputs": [
    {
     "name": "stdout",
     "output_type": "stream",
     "text": [
      "[1, 2, 3, 4, 5, 6, 7, 8, 9, 10]\n",
      "変数のタイプ: <class 'list'>\n",
      "二番目の数: 2\n",
      "要素数： 10\n"
     ]
    }
   ],
   "source": [
    "#リストを作る\n",
    "data_list = [1,2,3,4,5,6,7,8,9,10]\n",
    "print(data_list)\n",
    "\n",
    "#typeで変数のタイプがわかる\n",
    "print('変数のタイプ:', type(data_list))\n",
    "\n",
    "#一つ目の要素を取り出す\n",
    "print('二番目の数:', data_list[1])\n",
    "\n",
    "#len関数で要素の数を取得。ここでは1から10までの10こ。\n",
    "print('要素数：', len(data_list))"
   ]
  },
  {
   "cell_type": "code",
   "execution_count": 142,
   "id": "933b9bbd-406c-4345-9728-92462de84f49",
   "metadata": {},
   "outputs": [
    {
     "data": {
      "text/plain": [
       "[1, 2, 3, 4, 5, 6, 7, 8, 9, 10, 1, 2, 3, 4, 5, 6, 7, 8, 9, 10]"
      ]
     },
     "execution_count": 142,
     "metadata": {},
     "output_type": "execute_result"
    }
   ],
   "source": [
    "#リスト自体が2倍に\n",
    "data_list * 2"
   ]
  },
  {
   "cell_type": "code",
   "execution_count": 143,
   "id": "801266ba-4913-4642-bc84-67e77d21ac25",
   "metadata": {},
   "outputs": [
    {
     "name": "stdout",
     "output_type": "stream",
     "text": [
      "[1, 2, 3, 4, 5, 6, 7, 8, 9, 10]\n",
      "[1, 2, 3, 4, 5, 6, 7, 8, 9, 10, 11]\n",
      "[1, 1.5, 2, 3, 4, 5, 6, 7, 8, 9, 10, 11]\n",
      "[1.5, 2, 3, 4, 5, 6, 7, 8, 9, 10, 11]\n",
      "11\n",
      "[1.5, 2, 3, 4, 5, 6, 7, 8, 9, 10]\n",
      "[2, 3, 4, 5, 6, 7, 8, 9, 10]\n"
     ]
    }
   ],
   "source": [
    "#リストに追加したり、削除したり\n",
    "print(data_list)\n",
    "\n",
    "# 一番後ろに追加したいときはappend()\n",
    "data_list.append(11)\n",
    "print(data_list)\n",
    "\n",
    "# 途中に差し込みたい時はinsert()\n",
    "data_list.insert(1, 1.5)\n",
    "print(data_list)\n",
    "\n",
    "# 削除したいときはremove() indexではなく要素の値を直接指定\n",
    "data_list.remove(1)\n",
    "print(data_list)\n",
    "\n",
    "#消した値が返り値として得られるpop\n",
    "ret = data_list.pop()\n",
    "print(ret) \n",
    "print(data_list)\n",
    "\n",
    "del data_list[0]\n",
    "print(data_list)"
   ]
  },
  {
   "cell_type": "code",
   "execution_count": 144,
   "id": "886c0924-b9e1-423d-bdd5-6e140cb932f7",
   "metadata": {},
   "outputs": [
    {
     "name": "stdout",
     "output_type": "stream",
     "text": [
      "500\n"
     ]
    }
   ],
   "source": [
    "#辞書型（キーと値をペアにして複数要素を管理したい）\n",
    "dic_data = {'apple':100, 'banana':100, 'orange':300, 'mango':400, 'melon':500}\n",
    "print(dic_data['melon'])"
   ]
  },
  {
   "cell_type": "code",
   "execution_count": 145,
   "id": "10e57421-00fb-4321-8bb4-6c8936aed4da",
   "metadata": {},
   "outputs": [
    {
     "name": "stdout",
     "output_type": "stream",
     "text": [
      "{'apple': 100, 'banana': 100, 'orange': 300, 'mango': 400, 'melon': 500, 'grape': 200}\n"
     ]
    }
   ],
   "source": [
    "#シンプルな要素の追加は、キーと値を新規で指定\n",
    "dic_data['grape'] = 200\n",
    "print(dic_data)"
   ]
  },
  {
   "cell_type": "code",
   "execution_count": 146,
   "id": "89ac8a08-b849-47c5-aaae-053cf9642cb4",
   "metadata": {},
   "outputs": [
    {
     "name": "stdout",
     "output_type": "stream",
     "text": [
      "{'apple': 100, 'banana': 100, 'orange': 300, 'mango': 400, 'melon': 500, 'grape': 200, 'kiwi': 150}\n"
     ]
    }
   ],
   "source": [
    "#updata()メソッドによる他の辞書から辞書へ要素の追加\n",
    "new_data = {'grape': 200, 'kiwi': 150}\n",
    "dic_data.update(new_data)\n",
    "print(dic_data)"
   ]
  },
  {
   "cell_type": "code",
   "execution_count": 147,
   "id": "b0d5af5c-b88c-4e68-925a-4787affb7e6c",
   "metadata": {},
   "outputs": [
    {
     "name": "stdout",
     "output_type": "stream",
     "text": [
      "{'apple': 100, 'banana': 100, 'mango': 400, 'melon': 500, 'grape': 200, 'kiwi': 150}\n",
      "300\n"
     ]
    }
   ],
   "source": [
    "#popメソッドを使用して、他の辞書から要素を削除（返り値として返ってくるので削除したい値を使用したい、キーが存在することを確認してから削除したいときはpop）\n",
    "orange = dic_data.pop('orange')\n",
    "print(dic_data)\n",
    "print(orange)"
   ]
  },
  {
   "cell_type": "code",
   "execution_count": 148,
   "id": "6d67927d-b0f8-4085-8c96-81c53c4ec495",
   "metadata": {},
   "outputs": [
    {
     "name": "stdout",
     "output_type": "stream",
     "text": [
      "{'banana': 100, 'mango': 400, 'melon': 500, 'grape': 200, 'kiwi': 150}\n"
     ]
    }
   ],
   "source": [
    "#delステートメントを使用して、指定したキーを用いた要素を削除\n",
    "del dic_data['apple'] \n",
    "print(dic_data)"
   ]
  },
  {
   "cell_type": "markdown",
   "id": "4b4ca2fe-2dbc-4ecb-8c5b-1b0e1bdee197",
   "metadata": {},
   "source": [
    "## 1-2-4 条件分岐とループ\n",
    "### 4-1 比較演算子と真偽判定"
   ]
  },
  {
   "cell_type": "code",
   "execution_count": 149,
   "id": "d62b48c3-8e66-45a6-a9cd-45ff8f6a23d4",
   "metadata": {},
   "outputs": [
    {
     "data": {
      "text/plain": [
       "True"
      ]
     },
     "execution_count": 149,
     "metadata": {},
     "output_type": "execute_result"
    }
   ],
   "source": [
    "1 == 1"
   ]
  },
  {
   "cell_type": "code",
   "execution_count": 150,
   "id": "aa228bfd-6604-452d-b00d-acb6dc05d892",
   "metadata": {},
   "outputs": [
    {
     "data": {
      "text/plain": [
       "True"
      ]
     },
     "execution_count": 150,
     "metadata": {},
     "output_type": "execute_result"
    }
   ],
   "source": [
    "(1 > 0) and (1 != 0)"
   ]
  },
  {
   "cell_type": "code",
   "execution_count": 151,
   "id": "2ef134a2-006b-4767-a931-f9bebc24f941",
   "metadata": {},
   "outputs": [
    {
     "data": {
      "text/plain": [
       "True"
      ]
     },
     "execution_count": 151,
     "metadata": {},
     "output_type": "execute_result"
    }
   ],
   "source": [
    "not (1 < 0)"
   ]
  },
  {
   "cell_type": "code",
   "execution_count": 152,
   "id": "5867cd7a-e681-483d-bd4b-1520acc58fb2",
   "metadata": {},
   "outputs": [
    {
     "data": {
      "text/plain": [
       "True"
      ]
     },
     "execution_count": 152,
     "metadata": {},
     "output_type": "execute_result"
    }
   ],
   "source": [
    "(1 < 0) or (1 > 0)"
   ]
  },
  {
   "cell_type": "markdown",
   "id": "252c4ea0-709a-42c3-8cd7-24d1d12556c6",
   "metadata": {},
   "source": [
    "### 4-2 if文"
   ]
  },
  {
   "cell_type": "code",
   "execution_count": 153,
   "id": "27c9035b-3e47-459c-958b-9ff59efcf7a7",
   "metadata": {},
   "outputs": [
    {
     "name": "stdout",
     "output_type": "stream",
     "text": [
      "5は入っています\n"
     ]
    }
   ],
   "source": [
    "findvalue = 5\n",
    "\n",
    "if findvalue in data_list:\n",
    "    print('{0}は入っています'.format(findvalue))\n",
    "else:\n",
    "    print('{0}は入っていません'.format(findvalue))\n",
    "    "
   ]
  },
  {
   "cell_type": "markdown",
   "id": "1ec86d8e-1094-4a0f-a998-198f4e05ef81",
   "metadata": {},
   "source": [
    "### 4-3 for文"
   ]
  },
  {
   "cell_type": "code",
   "execution_count": 154,
   "id": "bfbd36bf-037a-4aac-b6f8-cbd5cc515827",
   "metadata": {},
   "outputs": [
    {
     "name": "stdout",
     "output_type": "stream",
     "text": [
      "banana 100\n",
      "mango 400\n",
      "melon 500\n",
      "grape 200\n",
      "kiwi 150\n"
     ]
    }
   ],
   "source": [
    "#辞書ループ2種類\n",
    "for dic_key in dic_data:\n",
    "    print(dic_key, dic_data[dic_key])"
   ]
  },
  {
   "cell_type": "markdown",
   "id": "78440bf7-9a06-4716-a7ee-a33e0f88330f",
   "metadata": {},
   "source": [
    "### 4-4 range関数を用いた繰り返しリストの指定"
   ]
  },
  {
   "cell_type": "code",
   "execution_count": 155,
   "id": "36254a5e-a96f-48b5-b5b6-cd6a48085ed3",
   "metadata": {},
   "outputs": [
    {
     "name": "stdout",
     "output_type": "stream",
     "text": [
      "0\n",
      "1\n",
      "2\n",
      "3\n",
      "4\n",
      "5\n",
      "6\n",
      "7\n",
      "8\n",
      "9\n",
      "10\n"
     ]
    }
   ],
   "source": [
    "for i in range(11):\n",
    "    print(i)"
   ]
  },
  {
   "cell_type": "markdown",
   "id": "bf1c7f9a-d044-457d-9e12-8cac8424ce87",
   "metadata": {},
   "source": [
    "### 4-5 複雑なfor文と内包表記"
   ]
  },
  {
   "cell_type": "code",
   "execution_count": 156,
   "id": "41dfaa83-566d-4059-99ea-392317f569c2",
   "metadata": {},
   "outputs": [
    {
     "name": "stdout",
     "output_type": "stream",
     "text": [
      "banana 100\n",
      "mango 400\n",
      "melon 500\n",
      "grape 200\n",
      "kiwi 150\n"
     ]
    }
   ],
   "source": [
    "# keyとvalueをそれぞれ取り出して表示する（辞書ループ2パターン目）\n",
    "for key, value in dic_data.items():\n",
    "    print(key,value)"
   ]
  },
  {
   "cell_type": "code",
   "execution_count": 157,
   "id": "10e907bc-13bc-43f9-a833-1b9ef4dad34d",
   "metadata": {},
   "outputs": [
    {
     "name": "stdout",
     "output_type": "stream",
     "text": [
      "[4, 6, 8, 10, 12, 14, 16, 18, 20]\n"
     ]
    }
   ],
   "source": [
    "#内包表記\n",
    "data_list1 = []\n",
    "\n",
    "data_list1 = [i * 2 for i in data_list]\n",
    "print(data_list1)"
   ]
  },
  {
   "cell_type": "code",
   "execution_count": 158,
   "id": "94d916a0-e11d-4d3b-bb2b-80d4b509afd3",
   "metadata": {},
   "outputs": [
    {
     "data": {
      "text/plain": [
       "[4, 8, 12, 16, 20]"
      ]
     },
     "execution_count": 158,
     "metadata": {},
     "output_type": "execute_result"
    }
   ],
   "source": [
    "#内包表記は条件に合致するものを抽出してリスト化することも可能\n",
    "[i * 2 for i in data_list if i % 2 == 0]"
   ]
  },
  {
   "cell_type": "markdown",
   "id": "5b1e89e9-35cc-4d31-860b-d795434334d9",
   "metadata": {},
   "source": [
    "### 4-6 zip関数"
   ]
  },
  {
   "cell_type": "code",
   "execution_count": 159,
   "id": "1249bd01-2113-45be-b2ee-0c1d8586393c",
   "metadata": {},
   "outputs": [
    {
     "name": "stdout",
     "output_type": "stream",
     "text": [
      "1 と 11\n",
      "2 と 12\n",
      "3 と 13\n"
     ]
    }
   ],
   "source": [
    "#zip関数（異なるリストから同時に取り出していく）\n",
    "for one, two in zip([1,2,3],[11,12,13]):\n",
    "    print(one, 'と' , two)"
   ]
  },
  {
   "cell_type": "markdown",
   "id": "d8ddb81b-1f1c-4d0d-9ecf-b2dfb7e9be38",
   "metadata": {},
   "source": [
    "### 4-7 while文を使用した繰り返し処理"
   ]
  },
  {
   "cell_type": "code",
   "execution_count": 160,
   "id": "5c541b55-e8cc-4eed-af78-9312974a8507",
   "metadata": {},
   "outputs": [
    {
     "name": "stdout",
     "output_type": "stream",
     "text": [
      "1\n",
      "2\n",
      "3\n",
      "4\n",
      "5\n",
      "6\n",
      "7\n",
      "8\n",
      "9\n",
      "10\n",
      "最後の値は11です\n"
     ]
    }
   ],
   "source": [
    "#while文を使用した繰り返し処理\n",
    "num = 1\n",
    "while num <= 10:\n",
    "    print(num)\n",
    "    num = num + 1\n",
    "print('最後の値は{0}です'.format(num))"
   ]
  },
  {
   "cell_type": "markdown",
   "id": "17c2d6e0-5dde-4fe1-9825-3757be0df560",
   "metadata": {},
   "source": [
    "## 1-2-5 関数\n",
    "### 5-1 関数の基本"
   ]
  },
  {
   "cell_type": "code",
   "execution_count": 161,
   "id": "6fcb3319-c863-4367-96f7-e028cb39fb9a",
   "metadata": {},
   "outputs": [],
   "source": [
    "#関数の基本\n",
    "#掛け算\n",
    "def calc_multi(a,b):\n",
    "    return a * b"
   ]
  },
  {
   "cell_type": "code",
   "execution_count": 162,
   "id": "91238131-1be9-4ec1-9fba-3a8dbf42e6ec",
   "metadata": {},
   "outputs": [
    {
     "data": {
      "text/plain": [
       "4000"
      ]
     },
     "execution_count": 162,
     "metadata": {},
     "output_type": "execute_result"
    }
   ],
   "source": [
    "calc_multi(4,1000)"
   ]
  },
  {
   "cell_type": "code",
   "execution_count": 163,
   "id": "ce51da60-e6ce-4bfe-a78d-e7a2d9bcda54",
   "metadata": {},
   "outputs": [],
   "source": [
    "def calc_print():\n",
    "    print('printのサンプル関数')"
   ]
  },
  {
   "cell_type": "code",
   "execution_count": 164,
   "id": "30173a35-2b38-440f-8b39-cb08ab874be4",
   "metadata": {},
   "outputs": [
    {
     "name": "stdout",
     "output_type": "stream",
     "text": [
      "printのサンプル関数\n"
     ]
    }
   ],
   "source": [
    "calc_print()"
   ]
  },
  {
   "cell_type": "code",
   "execution_count": 165,
   "id": "0d007e0b-912f-4842-be61-78ed837da9c6",
   "metadata": {},
   "outputs": [],
   "source": [
    "#再帰関数の例,fibonacci\n",
    "def calc_fib(n):\n",
    "    if n == 1 or n == 2:\n",
    "        return 1\n",
    "    else:\n",
    "        return calc_fib(n - 1) + calc_fib(n - 2)"
   ]
  },
  {
   "cell_type": "code",
   "execution_count": 166,
   "id": "fe42d870-7264-4bf8-b70c-a0978ff6e7d5",
   "metadata": {},
   "outputs": [
    {
     "data": {
      "text/plain": [
       "55"
      ]
     },
     "execution_count": 166,
     "metadata": {},
     "output_type": "execute_result"
    }
   ],
   "source": [
    "calc_fib(10)"
   ]
  },
  {
   "cell_type": "code",
   "execution_count": 167,
   "id": "2b772856-b812-42a6-8eb2-ee5ebdd45e9c",
   "metadata": {},
   "outputs": [],
   "source": [
    "#別のフィボナッチ数の計算方法（再帰関数にメモ化を追加して余分な処理をしないようにしている、、？）\n",
    "def ft_fibonacci(n, memo={}):\n",
    "    if n == 1 or n == 2:\n",
    "        return 1\n",
    "    if n in memo:\n",
    "        return memo[n]\n",
    "    memo[n] = ft_fibonacci(n - 1, memo) + ft_fibonacci(n - 2, memo)\n",
    "    return memo[n]"
   ]
  },
  {
   "cell_type": "code",
   "execution_count": 168,
   "id": "9397c89e-efb1-4dea-9c57-2da53077cda0",
   "metadata": {},
   "outputs": [
    {
     "data": {
      "text/plain": [
       "55"
      ]
     },
     "execution_count": 168,
     "metadata": {},
     "output_type": "execute_result"
    }
   ],
   "source": [
    "ft_fibonacci(10)"
   ]
  },
  {
   "cell_type": "markdown",
   "id": "4b32f84a-6050-41a3-968a-f81b44ffcb1d",
   "metadata": {},
   "source": [
    "## 5-2 無名関数とmap\n",
    "#### 無名関数：リストなどの要素に対して何か関数を処理を実行する時に使用することが多い"
   ]
  },
  {
   "cell_type": "code",
   "execution_count": 169,
   "id": "8b177394-cc75-4488-b927-57be03b0179d",
   "metadata": {},
   "outputs": [
    {
     "data": {
      "text/plain": [
       "30"
      ]
     },
     "execution_count": 169,
     "metadata": {},
     "output_type": "execute_result"
    }
   ],
   "source": [
    "#無名関数\n",
    "(lambda a, b: a * b)(3,10)"
   ]
  },
  {
   "cell_type": "code",
   "execution_count": 170,
   "id": "31acacf1-35e7-4bdc-b8f9-eb280a4ab91e",
   "metadata": {},
   "outputs": [
    {
     "name": "stdout",
     "output_type": "stream",
     "text": [
      "2\n",
      "4\n",
      "6\n",
      "8\n"
     ]
    }
   ],
   "source": [
    "#map関数\n",
    "def calc_double(x):\n",
    "    return x * 2\n",
    "\n",
    "#for文を使用した場合\n",
    "for num in [1,2,3,4]:\n",
    "    print(calc_double(num))"
   ]
  },
  {
   "cell_type": "markdown",
   "id": "07b8f5f7-52cd-4133-9797-beef1203026e",
   "metadata": {},
   "source": [
    "#### map関数 : 各要素に対して関数を適用して新しいリストを返す\n",
    "map関数を使用すればfor文を使用せず、直接リストに対して関数を作用させることが可能に"
   ]
  },
  {
   "cell_type": "code",
   "execution_count": 171,
   "id": "79b8b8c4-511a-4e3a-a6f2-8fe421ada64f",
   "metadata": {},
   "outputs": [
    {
     "data": {
      "text/plain": [
       "[2, 4, 6, 8]"
      ]
     },
     "execution_count": 171,
     "metadata": {},
     "output_type": "execute_result"
    }
   ],
   "source": [
    "# リストの要素一つ一つに対して処理を実行\n",
    "list(map(calc_double, [1,2,3,4]))"
   ]
  },
  {
   "cell_type": "code",
   "execution_count": 172,
   "id": "aa91712d-1362-4dfb-b50c-71990cf4c46d",
   "metadata": {},
   "outputs": [
    {
     "data": {
      "text/plain": [
       "[2, 4, 6, 8]"
      ]
     },
     "execution_count": 172,
     "metadata": {},
     "output_type": "execute_result"
    }
   ],
   "source": [
    "#無名関数とmap関数で上記の処理を簡潔に\n",
    "list(map(lambda x : x * 2, [1,2,3,4]))"
   ]
  },
  {
   "cell_type": "markdown",
   "id": "51208807-8244-45bc-81c9-4b0b23e742f2",
   "metadata": {},
   "source": [
    "#### reduce関数　：　二項演算紙を用いて要素を単一の値にまとめる"
   ]
  },
  {
   "cell_type": "markdown",
   "id": "27308e21-e173-4ce1-9b6a-ec191b4b3e74",
   "metadata": {},
   "source": [
    "map関数は各要素に対して関数を適用して新しいリストを返す。reduce関数は二項演算紙を用いて要素を単一の値にまとめる点"
   ]
  },
  {
   "cell_type": "code",
   "execution_count": 173,
   "id": "0b7146d5-f1fc-4e24-868a-add7008ec3e7",
   "metadata": {},
   "outputs": [
    {
     "name": "stdout",
     "output_type": "stream",
     "text": [
      "15\n"
     ]
    }
   ],
   "source": [
    "#reduce関数：リストの要素の合計や積の計算に便利\n",
    "from functools import reduce\n",
    "\n",
    "numbers = [1, 2, 3, 4, 5]\n",
    "total = reduce(lambda x, y: x + y, numbers)\n",
    "print(total)  # 15"
   ]
  },
  {
   "cell_type": "code",
   "execution_count": 174,
   "id": "397a2515-3ff4-464b-a7ba-26d2f6c23625",
   "metadata": {},
   "outputs": [
    {
     "name": "stdout",
     "output_type": "stream",
     "text": [
      "9\n"
     ]
    }
   ],
   "source": [
    "#最大値や最小値の検索にも\n",
    "\n",
    "numbers = [3, 7, 2, 9, 5]\n",
    "max_value = reduce(lambda x, y: x if x > y else y, numbers)\n",
    "print(max_value)  # 9\n"
   ]
  },
  {
   "cell_type": "code",
   "execution_count": 175,
   "id": "beedff5d-b3c5-4fc6-a3f6-3d2093149def",
   "metadata": {},
   "outputs": [
    {
     "name": "stdout",
     "output_type": "stream",
     "text": [
      "[2, 4, 6, 8, 10]\n"
     ]
    }
   ],
   "source": [
    "#filter関数：リストのフィルタリング（trueを返すもののみ返す）\n",
    "# 例: 偶数のみをフィルタリングする\n",
    "numbers = [1, 2, 3, 4, 5, 6, 7, 8, 9, 10]\n",
    "even_numbers = list(filter(lambda x: x % 2 == 0, numbers))\n",
    "print(even_numbers)  # [2, 4, 6, 8, 10]"
   ]
  },
  {
   "cell_type": "markdown",
   "id": "202e2963-5a53-42f6-900f-dec8f04fd199",
   "metadata": {},
   "source": [
    "## 1-2-6 クラスとインスタンス"
   ]
  },
  {
   "cell_type": "code",
   "execution_count": 176,
   "id": "2587405d-66f2-4727-a1cd-be41789c85e5",
   "metadata": {},
   "outputs": [
    {
     "name": "stdout",
     "output_type": "stream",
     "text": [
      "10 100\n"
     ]
    }
   ],
   "source": [
    "## クラスとインスタンス\n",
    "\n",
    "#クラスの作成とメソッドの作成\n",
    "class PrintClass:\n",
    "    def print_me(self):\n",
    "        print(self.x, self.y)\n",
    "\n",
    "#インスタンスの作成、生成\n",
    "p1 = PrintClass()\n",
    "\n",
    "#属性の値を代入\n",
    "p1.x = 10\n",
    "p1.y = 100\n",
    "p1.z = 1000\n",
    "\n",
    "#メソッドの呼び出し\n",
    "p1.print_me()"
   ]
  },
  {
   "cell_type": "code",
   "execution_count": 177,
   "id": "6464cd15-1c11-4599-a034-bc640c82597c",
   "metadata": {},
   "outputs": [],
   "source": [
    "class MyCalcClass:\n",
    "    #コントラスタ：オブジェクト生成時に呼び出される特殊な関数、初期化など\n",
    "    def __init__(self, x, y):\n",
    "        self.x = x\n",
    "        self.y = y\n",
    "\n",
    "    def calc_add1(self, a, b):\n",
    "        return a + b\n",
    "\n",
    "    def calc_add2(self):\n",
    "        return self.x + self.y\n",
    "\n",
    "    def calc_mutli(self, a, b):\n",
    "        return a * b\n",
    "\n",
    "    def calc_print(self, a):\n",
    "        print('data:{0}:yの値{1}'.format(a, self.y))"
   ]
  },
  {
   "cell_type": "code",
   "execution_count": 178,
   "id": "5a94e47c-aba4-44d8-b486-befcc3e0d373",
   "metadata": {},
   "outputs": [],
   "source": [
    "instance_1 = MyCalcClass(1,2)\n",
    "instance_2 = MyCalcClass(5,10)"
   ]
  },
  {
   "cell_type": "code",
   "execution_count": 179,
   "id": "90733e43-c018-492c-8c2a-f9b9f7e2ab15",
   "metadata": {},
   "outputs": [
    {
     "name": "stdout",
     "output_type": "stream",
     "text": [
      "二つの数の足し算（新たに値をセット）: 8\n",
      "二つの数の足し算(インスタンス時の値): 3\n",
      "二つの値の掛け算: 15\n",
      "data:5:yの値2\n"
     ]
    }
   ],
   "source": [
    "print('二つの数の足し算（新たに値をセット）:', instance_1.calc_add1(5,3))\n",
    "print('二つの数の足し算(インスタンス時の値):', instance_1.calc_add2())\n",
    "print('二つの値の掛け算:', instance_1.calc_mutli(5,3))\n",
    "instance_1.calc_print(5)"
   ]
  },
  {
   "cell_type": "code",
   "execution_count": 180,
   "id": "e226690d-c733-4fe3-b741-1d4948727053",
   "metadata": {},
   "outputs": [
    {
     "name": "stdout",
     "output_type": "stream",
     "text": [
      "二つの数の足し算（新たに値をセット）: 13\n",
      "二つの数の足し算(インスタンス時の値): 15\n",
      "二つの値の掛け算: 12\n",
      "data:5:yの値10\n"
     ]
    }
   ],
   "source": [
    "print('二つの数の足し算（新たに値をセット）:', instance_2.calc_add1(10,3))\n",
    "print('二つの数の足し算(インスタンス時の値):', instance_2.calc_add2())\n",
    "print('二つの値の掛け算:', instance_2.calc_mutli(4,3))\n",
    "instance_2.calc_print(5)"
   ]
  },
  {
   "cell_type": "markdown",
   "id": "40652e04-a846-4cff-a10f-6e269a9b3ab0",
   "metadata": {},
   "source": [
    "### 1章総合問題\n",
    "#### 総合問題1-1 素数判定"
   ]
  },
  {
   "cell_type": "code",
   "execution_count": 181,
   "id": "a6628b25-9cac-4b5d-8512-bea2c18de3b0",
   "metadata": {},
   "outputs": [
    {
     "name": "stdout",
     "output_type": "stream",
     "text": [
      "2\n",
      "3\n",
      "4\n",
      "5\n",
      "7\n",
      "9\n"
     ]
    }
   ],
   "source": [
    "for i in range(2, 10):\n",
    "    is_prime = True\n",
    "    j = 2;\n",
    "    while j * j < i :\n",
    "        if i % j == 0:\n",
    "            is_prime = False\n",
    "            break\n",
    "        j+=1\n",
    "    if is_prime:\n",
    "        print (i)"
   ]
  },
  {
   "cell_type": "code",
   "execution_count": 182,
   "id": "22018db0-812b-4ccf-b5a8-78a05d1f9e37",
   "metadata": {},
   "outputs": [],
   "source": [
    "# 一般化した素数判定関数\n",
    "def ft_prime(N):\n",
    "    for i in range(2, N + 1):\n",
    "            is_prime = True\n",
    "            j = 2;\n",
    "            while j * j < i :\n",
    "                if i % j == 0:\n",
    "                    is_prime = False\n",
    "                    break\n",
    "                j+=1\n",
    "            if is_prime:\n",
    "                print (i)"
   ]
  },
  {
   "cell_type": "code",
   "execution_count": 183,
   "id": "b90e843a-25db-4f5b-b587-62014a4ae547",
   "metadata": {},
   "outputs": [
    {
     "name": "stdout",
     "output_type": "stream",
     "text": [
      "2\n",
      "3\n",
      "4\n",
      "5\n",
      "7\n",
      "9\n"
     ]
    }
   ],
   "source": [
    "ft_prime(10)"
   ]
  },
  {
   "cell_type": "code",
   "execution_count": 184,
   "id": "0c1d5f2c-cc6e-4ced-ab23-d55e8effa7af",
   "metadata": {},
   "outputs": [
    {
     "name": "stdout",
     "output_type": "stream",
     "text": [
      "2\n",
      "3\n",
      "4\n",
      "5\n",
      "7\n",
      "9\n",
      "11\n",
      "13\n",
      "17\n",
      "19\n",
      "23\n",
      "25\n",
      "29\n",
      "31\n",
      "37\n",
      "41\n",
      "43\n",
      "47\n",
      "49\n",
      "53\n",
      "59\n",
      "61\n",
      "67\n",
      "71\n",
      "73\n",
      "79\n",
      "83\n",
      "89\n",
      "97\n",
      "101\n"
     ]
    }
   ],
   "source": [
    "ft_prime(101)"
   ]
  },
  {
   "cell_type": "code",
   "execution_count": null,
   "id": "ee955ec6-36d3-46b0-8528-43195729f2af",
   "metadata": {},
   "outputs": [],
   "source": []
  },
  {
   "cell_type": "code",
   "execution_count": null,
   "id": "5007ee4a-b687-4d2b-aa80-8ea97e55c78c",
   "metadata": {},
   "outputs": [],
   "source": []
  }
 ],
 "metadata": {
  "kernelspec": {
   "display_name": "Python 3 (ipykernel)",
   "language": "python",
   "name": "python3"
  },
  "language_info": {
   "codemirror_mode": {
    "name": "ipython",
    "version": 3
   },
   "file_extension": ".py",
   "mimetype": "text/x-python",
   "name": "python",
   "nbconvert_exporter": "python",
   "pygments_lexer": "ipython3",
   "version": "3.11.7"
  }
 },
 "nbformat": 4,
 "nbformat_minor": 5
}
