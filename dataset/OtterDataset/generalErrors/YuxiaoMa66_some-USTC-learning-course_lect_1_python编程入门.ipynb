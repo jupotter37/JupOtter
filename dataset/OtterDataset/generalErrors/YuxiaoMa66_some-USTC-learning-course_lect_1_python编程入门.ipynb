{
 "cells": [
  {
   "cell_type": "markdown",
   "metadata": {
    "slideshow": {
     "slide_type": "slide"
    }
   },
   "source": [
    "# Python编程入门\n",
    "Python程序分解：\n",
    "* 模块\n",
    "* 语句\n",
    "* 表达式"
   ]
  },
  {
   "cell_type": "markdown",
   "metadata": {
    "slideshow": {
     "slide_type": "subslide"
    }
   },
   "source": [
    "例子：72法则是一个计算资产翻倍所需时间的经验法则（年利率一定）。"
   ]
  },
  {
   "cell_type": "code",
   "execution_count": 1,
   "metadata": {
    "slideshow": {
     "slide_type": "fragment"
    }
   },
   "outputs": [
    {
     "name": "stdout",
     "output_type": "stream",
     "text": [
      "1 %-> 70\t2 %-> 35\t3 %-> 23\t4 %-> 18\t5 %-> 14\t6 %-> 12\t7 %-> 10\t8 %-> 9\t9 %-> 8\t"
     ]
    }
   ],
   "source": [
    "import math\n",
    "# the rule of 72\n",
    "for i in range(1,10):\n",
    "    j = i/100\n",
    "    n = math.log(2)/math.log(1+j) # (1+j)^n=2\n",
    "    print(i,'%->',round(n),end='\\t')"
   ]
  },
  {
   "cell_type": "code",
   "execution_count": 2,
   "metadata": {
    "slideshow": {
     "slide_type": "subslide"
    }
   },
   "outputs": [
    {
     "name": "stdout",
     "output_type": "stream",
     "text": [
      "The perimeter is: 18.84955592153876\n",
      "The area is: 28.274333882308138\n"
     ]
    }
   ],
   "source": [
    "import math\n",
    "r = 3\n",
    "prmt = 2*math.pi*r  # 圆的周长\n",
    "area = math.pi*r**2  # 圆的面积\n",
    "print(\"The perimeter is:\", prmt)\n",
    "print(\"The area is:\", area)"
   ]
  },
  {
   "cell_type": "markdown",
   "metadata": {
    "slideshow": {
     "slide_type": "slide"
    }
   },
   "source": [
    "## Python语句\n",
    "* 语句是Python代码的基本单元\n",
    "* 语句实现各种不同功能：赋值、调用函数、控制程序流程、引入外部代码块等\n",
    "* 简单语句一般只有一行\n",
    "* 复合语句包含子代码块"
   ]
  },
  {
   "cell_type": "code",
   "execution_count": 3,
   "metadata": {
    "slideshow": {
     "slide_type": "subslide"
    }
   },
   "outputs": [
    {
     "name": "stdout",
     "output_type": "stream",
     "text": [
      "452\n"
     ]
    }
   ],
   "source": [
    "a=10; b=20\n",
    "area=a*b\n",
    "c=(a+2*b+\n",
    "   b**2)+2\n",
    "print(c)"
   ]
  },
  {
   "cell_type": "markdown",
   "metadata": {
    "slideshow": {
     "slide_type": "subslide"
    }
   },
   "source": [
    "* 一行只有一条语句时，不需要加结束符\n",
    "* 一行中有多条语句时，用分号分隔\n",
    "* 语句需要跨行时，可以使用反斜杠‘\\’\n",
    "* 当含有括号（大中小）时，语句在右括号结束"
   ]
  },
  {
   "cell_type": "code",
   "execution_count": 4,
   "metadata": {
    "slideshow": {
     "slide_type": "subslide"
    }
   },
   "outputs": [
    {
     "data": {
      "text/plain": [
       "20543.0"
      ]
     },
     "execution_count": 4,
     "metadata": {},
     "output_type": "execute_result"
    }
   ],
   "source": [
    "a_very_long_very_long_line = 55 + 23 + 3.14*6500 \\\n",
    "    + 25 + 30\n",
    "a_very_long_very_long_line"
   ]
  },
  {
   "cell_type": "markdown",
   "metadata": {
    "slideshow": {
     "slide_type": "subslide"
    }
   },
   "source": [
    "### 大家来改错\n",
    "以下代码有一些错误，看看你是否能够找出来。把每行开头的#号去掉运行。"
   ]
  },
  {
   "cell_type": "code",
   "execution_count": 5,
   "metadata": {
    "slideshow": {
     "slide_type": "subslide"
    }
   },
   "outputs": [],
   "source": [
    "#  i1 ＝ 2 5 ＃　定义一个变量\n",
    "#print(il)　＃　把变量的值打印出来\n",
    "#if i1 > = 0:\n",
    "#    print 'positive'"
   ]
  },
  {
   "cell_type": "markdown",
   "metadata": {
    "slideshow": {
     "slide_type": "slide"
    }
   },
   "source": [
    "## Python语言形式规则\n",
    "\n",
    "1) 缩进(indent)\n",
    "* 缩进表示不同层次的代码块\n",
    "* 同一代码块的缩进必须一致\n",
    "* 建议缩进统一使用四个空格"
   ]
  },
  {
   "cell_type": "code",
   "execution_count": 6,
   "metadata": {
    "slideshow": {
     "slide_type": "subslide"
    }
   },
   "outputs": [
    {
     "name": "stdout",
     "output_type": "stream",
     "text": [
      "0\n",
      "1\n",
      "3\n",
      "6\n",
      "10\n"
     ]
    }
   ],
   "source": [
    "s = 0\n",
    "for i in range(5):\n",
    "    s = s+i\n",
    "    print(s)"
   ]
  },
  {
   "cell_type": "code",
   "execution_count": 7,
   "metadata": {
    "slideshow": {
     "slide_type": "subslide"
    }
   },
   "outputs": [
    {
     "name": "stdout",
     "output_type": "stream",
     "text": [
      "10\n"
     ]
    }
   ],
   "source": [
    "s = 0\n",
    "for i in range(5):\n",
    "    s = s+i\n",
    "print(s)"
   ]
  },
  {
   "cell_type": "markdown",
   "metadata": {
    "slideshow": {
     "slide_type": "fragment"
    }
   },
   "source": [
    "注意上述两段代码中的print(s)语句，由于处在不同层次的代码块中，因此执行的时机并不相同。"
   ]
  },
  {
   "cell_type": "markdown",
   "metadata": {
    "slideshow": {
     "slide_type": "subslide"
    }
   },
   "source": [
    "子代码块未缩进会导致错误。"
   ]
  },
  {
   "cell_type": "code",
   "execution_count": 8,
   "metadata": {
    "slideshow": {
     "slide_type": "fragment"
    }
   },
   "outputs": [
    {
     "name": "stdout",
     "output_type": "stream",
     "text": [
      "0\n"
     ]
    }
   ],
   "source": [
    "s = 0\n",
    "#for i in range(10):\n",
    "#    if i%2==0:\n",
    "#    s = s+i\n",
    "print(s)"
   ]
  },
  {
   "cell_type": "markdown",
   "metadata": {
    "slideshow": {
     "slide_type": "subslide"
    }
   },
   "source": [
    "同一个子代码块缩进不同也会导致错误。不同的子代码块缩进不同不会报错，但不建议这样写。"
   ]
  },
  {
   "cell_type": "code",
   "execution_count": 9,
   "metadata": {
    "slideshow": {
     "slide_type": "fragment"
    }
   },
   "outputs": [
    {
     "name": "stdout",
     "output_type": "stream",
     "text": [
      "not ok\n"
     ]
    }
   ],
   "source": [
    "i = 2503\n",
    "if i%7==0:\n",
    "  s=i\n",
    "#    print(\"ok\")  # 缩进不统一\n",
    "else:\n",
    "      print(\"not ok\")  # 缩进不统一"
   ]
  },
  {
   "cell_type": "markdown",
   "metadata": {
    "slideshow": {
     "slide_type": "slide"
    }
   },
   "source": [
    "2）代码和注释\n",
    "* 注释部分以#开始，直到该行的结束\n",
    "* 注释可以出现在任何位置\n",
    "* 注释可以帮助程序代码阅读和理解\n",
    "* 暂时不执行的语句可以注释掉"
   ]
  },
  {
   "cell_type": "code",
   "execution_count": 10,
   "metadata": {
    "slideshow": {
     "slide_type": "subslide"
    }
   },
   "outputs": [
    {
     "name": "stdout",
     "output_type": "stream",
     "text": [
      "26.53297705144422\n"
     ]
    }
   ],
   "source": [
    "def get_value(b,r,n):  # 根据初始值、利率和期数计算终值\n",
    "    # b=初始值，r=利率，n=期数\n",
    "    v = b*((1+r)**n)\n",
    "    return v\n",
    "total = get_value(10,0.05,20)\n",
    "print(total)"
   ]
  },
  {
   "cell_type": "code",
   "execution_count": 11,
   "metadata": {
    "slideshow": {
     "slide_type": "subslide"
    }
   },
   "outputs": [
    {
     "name": "stdout",
     "output_type": "stream",
     "text": [
      "\n",
      "*\n",
      "**\n",
      "***\n",
      "****\n"
     ]
    }
   ],
   "source": [
    "for i in range(5):\n",
    "    #print(i)  # will not run\n",
    "    print('*'*i)"
   ]
  },
  {
   "cell_type": "markdown",
   "metadata": {
    "slideshow": {
     "slide_type": "slide"
    }
   },
   "source": [
    "3）语句的结束\n",
    "* 简单语句到换行符结束\n",
    "* 简单语句到分号结束\n",
    "* 简单语句到配对括号结束\n",
    "* 复合语句到结构体尾部结束\n",
    "* 代码跨行可以使用反斜杠'\\'，表示该行代码未结束"
   ]
  },
  {
   "cell_type": "code",
   "execution_count": 12,
   "metadata": {
    "slideshow": {
     "slide_type": "subslide"
    }
   },
   "outputs": [
    {
     "name": "stdout",
     "output_type": "stream",
     "text": [
      "0\n",
      "1\n",
      "2\n",
      "3\n",
      "4\n",
      "5 6 7 2\n"
     ]
    }
   ],
   "source": [
    "a = 5; b = 6\n",
    "c = a**2-3*b\n",
    "d = a + (c -\n",
    "        2*a)\n",
    "for i in range(a):\n",
    "    print(i)\n",
    "print(a,b,c,d)"
   ]
  },
  {
   "cell_type": "markdown",
   "metadata": {
    "slideshow": {
     "slide_type": "subslide"
    }
   },
   "source": [
    "试试看，改正以下代码。把每行开头的#号去掉再运行。"
   ]
  },
  {
   "cell_type": "code",
   "execution_count": 13,
   "metadata": {
    "slideshow": {
     "slide_type": "fragment"
    }
   },
   "outputs": [],
   "source": [
    "#＃　这行是注释\n",
    "#ａ＝５％３\n",
    "#if 5>3:　　\n",
    "#    print('ok')"
   ]
  },
  {
   "cell_type": "markdown",
   "metadata": {
    "slideshow": {
     "slide_type": "slide"
    }
   },
   "source": [
    "4）语句和表达式使用英文半角符号\n",
    "* Python语句和各种操作符使用符号皆为英文半角\n",
    "* 即便是英文符号也需要注意是否为半角\n",
    "* 若使用了中文符号，错误信息一般为语法错\n",
    "* 有些全角符号不可见，难以发现，如四个全角空格"
   ]
  },
  {
   "cell_type": "markdown",
   "metadata": {
    "slideshow": {
     "slide_type": "slide"
    }
   },
   "source": [
    "5）大小写敏感\n",
    "* Python中所有标识符大小写敏感\n",
    "* 命令通常为小写\n",
    "* 常量名通常使用大写"
   ]
  },
  {
   "cell_type": "code",
   "execution_count": 14,
   "metadata": {
    "slideshow": {
     "slide_type": "subslide"
    }
   },
   "outputs": [],
   "source": [
    "Hello = 5\n",
    "Hell0 = 6\n",
    "HellO = 7\n",
    "#print(hell0)"
   ]
  },
  {
   "cell_type": "markdown",
   "metadata": {
    "slideshow": {
     "slide_type": "subslide"
    }
   },
   "source": [
    "除了大小写之外，需要特别注意的是一些形状相似的符号，如O和0，1和l.\n",
    "\n",
    "要避免这个问题，在写程序代码的时候，要善于使用自动完成功能。"
   ]
  },
  {
   "cell_type": "markdown",
   "metadata": {
    "slideshow": {
     "slide_type": "subslide"
    }
   },
   "source": [
    "思考：如何发现在程序代码中存在多个相似的名字？"
   ]
  },
  {
   "cell_type": "code",
   "execution_count": 15,
   "metadata": {
    "slideshow": {
     "slide_type": "subslide"
    }
   },
   "outputs": [],
   "source": [
    "# 列出当前名称空间中的所有名称"
   ]
  },
  {
   "cell_type": "markdown",
   "metadata": {
    "slideshow": {
     "slide_type": "slide"
    }
   },
   "source": [
    "6) 空白。程序代码中可以插入空白，以增强代码可读性。\n",
    "\n",
    "空白可以出现在操作符与操作数之间，但由多个字符组成的一个整体操作符或操作数不能插入空白，如变量名、操作数、操作符（如**,//)等等。\n"
   ]
  },
  {
   "cell_type": "code",
   "execution_count": 16,
   "metadata": {
    "slideshow": {
     "slide_type": "subslide"
    }
   },
   "outputs": [],
   "source": [
    "#a = 2 5\n",
    "#b = 3 * * 3\n",
    "#a + = 5"
   ]
  },
  {
   "cell_type": "markdown",
   "metadata": {
    "slideshow": {
     "slide_type": "slide"
    }
   },
   "source": [
    "## 标识符\n",
    "* 标识符指的是变量、函数、类、对象、模块等的名称\n",
    "* 标识符只能由字母、数字和下划线组成\n",
    "* 标识符首字符必须是字母或下划线\n",
    "* 系统保留关键字不能作为标识符"
   ]
  },
  {
   "cell_type": "code",
   "execution_count": 17,
   "metadata": {
    "slideshow": {
     "slide_type": "subslide"
    }
   },
   "outputs": [
    {
     "name": "stdout",
     "output_type": "stream",
     "text": [
      "\n",
      "Here is a list of the Python keywords.  Enter any keyword to get more help.\n",
      "\n",
      "False               class               from                or\n",
      "None                continue            global              pass\n",
      "True                def                 if                  raise\n",
      "and                 del                 import              return\n",
      "as                  elif                in                  try\n",
      "assert              else                is                  while\n",
      "async               except              lambda              with\n",
      "await               finally             nonlocal            yield\n",
      "break               for                 not                 \n",
      "\n"
     ]
    }
   ],
   "source": [
    "help('keywords')"
   ]
  },
  {
   "cell_type": "markdown",
   "metadata": {
    "slideshow": {
     "slide_type": "subslide"
    }
   },
   "source": [
    "下列名称哪些可以作为标识符使用？\n",
    "\n",
    "a_very_long_int, class, school, stop, continue, not, otherwise, while, 9527, notMe,isn't, me, and-u,true"
   ]
  },
  {
   "cell_type": "code",
   "execution_count": 18,
   "metadata": {
    "slideshow": {
     "slide_type": "subslide"
    }
   },
   "outputs": [
    {
     "data": {
      "text/plain": [
       "['ArithmeticError',\n",
       " 'AssertionError',\n",
       " 'AttributeError',\n",
       " 'BaseException',\n",
       " 'BlockingIOError',\n",
       " 'BrokenPipeError',\n",
       " 'BufferError',\n",
       " 'BytesWarning',\n",
       " 'ChildProcessError',\n",
       " 'ConnectionAbortedError',\n",
       " 'ConnectionError',\n",
       " 'ConnectionRefusedError',\n",
       " 'ConnectionResetError',\n",
       " 'DeprecationWarning',\n",
       " 'EOFError',\n",
       " 'Ellipsis',\n",
       " 'EnvironmentError',\n",
       " 'Exception',\n",
       " 'False',\n",
       " 'FileExistsError',\n",
       " 'FileNotFoundError',\n",
       " 'FloatingPointError',\n",
       " 'FutureWarning',\n",
       " 'GeneratorExit',\n",
       " 'IOError',\n",
       " 'ImportError',\n",
       " 'ImportWarning',\n",
       " 'IndentationError',\n",
       " 'IndexError',\n",
       " 'InterruptedError',\n",
       " 'IsADirectoryError',\n",
       " 'KeyError',\n",
       " 'KeyboardInterrupt',\n",
       " 'LookupError',\n",
       " 'MemoryError',\n",
       " 'ModuleNotFoundError',\n",
       " 'NameError',\n",
       " 'None',\n",
       " 'NotADirectoryError',\n",
       " 'NotImplemented',\n",
       " 'NotImplementedError',\n",
       " 'OSError',\n",
       " 'OverflowError',\n",
       " 'PendingDeprecationWarning',\n",
       " 'PermissionError',\n",
       " 'ProcessLookupError',\n",
       " 'RecursionError',\n",
       " 'ReferenceError',\n",
       " 'ResourceWarning',\n",
       " 'RuntimeError',\n",
       " 'RuntimeWarning',\n",
       " 'StopAsyncIteration',\n",
       " 'StopIteration',\n",
       " 'SyntaxError',\n",
       " 'SyntaxWarning',\n",
       " 'SystemError',\n",
       " 'SystemExit',\n",
       " 'TabError',\n",
       " 'TimeoutError',\n",
       " 'True',\n",
       " 'TypeError',\n",
       " 'UnboundLocalError',\n",
       " 'UnicodeDecodeError',\n",
       " 'UnicodeEncodeError',\n",
       " 'UnicodeError',\n",
       " 'UnicodeTranslateError',\n",
       " 'UnicodeWarning',\n",
       " 'UserWarning',\n",
       " 'ValueError',\n",
       " 'Warning',\n",
       " 'WindowsError',\n",
       " 'ZeroDivisionError',\n",
       " '__IPYTHON__',\n",
       " '__build_class__',\n",
       " '__debug__',\n",
       " '__doc__',\n",
       " '__import__',\n",
       " '__loader__',\n",
       " '__name__',\n",
       " '__package__',\n",
       " '__spec__',\n",
       " 'abs',\n",
       " 'all',\n",
       " 'any',\n",
       " 'ascii',\n",
       " 'bin',\n",
       " 'bool',\n",
       " 'breakpoint',\n",
       " 'bytearray',\n",
       " 'bytes',\n",
       " 'callable',\n",
       " 'chr',\n",
       " 'classmethod',\n",
       " 'compile',\n",
       " 'complex',\n",
       " 'copyright',\n",
       " 'credits',\n",
       " 'delattr',\n",
       " 'dict',\n",
       " 'dir',\n",
       " 'display',\n",
       " 'divmod',\n",
       " 'enumerate',\n",
       " 'eval',\n",
       " 'exec',\n",
       " 'filter',\n",
       " 'float',\n",
       " 'format',\n",
       " 'frozenset',\n",
       " 'get_ipython',\n",
       " 'getattr',\n",
       " 'globals',\n",
       " 'hasattr',\n",
       " 'hash',\n",
       " 'help',\n",
       " 'hex',\n",
       " 'id',\n",
       " 'input',\n",
       " 'int',\n",
       " 'isinstance',\n",
       " 'issubclass',\n",
       " 'iter',\n",
       " 'len',\n",
       " 'license',\n",
       " 'list',\n",
       " 'locals',\n",
       " 'map',\n",
       " 'max',\n",
       " 'memoryview',\n",
       " 'min',\n",
       " 'next',\n",
       " 'object',\n",
       " 'oct',\n",
       " 'open',\n",
       " 'ord',\n",
       " 'pow',\n",
       " 'print',\n",
       " 'property',\n",
       " 'range',\n",
       " 'repr',\n",
       " 'reversed',\n",
       " 'round',\n",
       " 'set',\n",
       " 'setattr',\n",
       " 'slice',\n",
       " 'sorted',\n",
       " 'staticmethod',\n",
       " 'str',\n",
       " 'sum',\n",
       " 'super',\n",
       " 'tuple',\n",
       " 'type',\n",
       " 'vars',\n",
       " 'zip']"
      ]
     },
     "execution_count": 18,
     "metadata": {},
     "output_type": "execute_result"
    }
   ],
   "source": [
    "dir(__builtins__)"
   ]
  },
  {
   "cell_type": "markdown",
   "metadata": {
    "slideshow": {
     "slide_type": "subslide"
    }
   },
   "source": [
    "* Python语言还包含许多预定义内置类、异常、top-level函数\n",
    "* 用户自定义标识符应当回避预定义标识符\n",
    "* 用户自定义标识符会覆盖预定义标识符，使其失效\n",
    "* 在引入包时，为了避免命名冲突，尽量不使用from 包名 import *"
   ]
  },
  {
   "cell_type": "markdown",
   "metadata": {
    "slideshow": {
     "slide_type": "subslide"
    }
   },
   "source": [
    "标识符命名规则\n",
    "* 模块、包、函数、变量名使用全小写字母\n",
    "* 类名使用多个单词，单词首字母大写\n",
    "* 常量名使用全大写字母\n",
    "* 可以使用下划线提高标识符的可读性"
   ]
  },
  {
   "cell_type": "markdown",
   "metadata": {
    "slideshow": {
     "slide_type": "slide"
    }
   },
   "source": [
    "## 表达式\n",
    "* 表达式将一些操作数由运算符连接起来，完成某种特定的计算操作\n",
    "* 表达式的运算结果为某种对象\n",
    "* 运算结果对象的类型由操作数和运算符共同决定\n",
    "* 操作数必须与运算符相兼容（运算必须在该对象上有定义）"
   ]
  },
  {
   "cell_type": "code",
   "execution_count": 19,
   "metadata": {
    "slideshow": {
     "slide_type": "subslide"
    }
   },
   "outputs": [
    {
     "data": {
      "text/plain": [
       "(12, 12, 4, 3)"
      ]
     },
     "execution_count": 19,
     "metadata": {},
     "output_type": "execute_result"
    }
   ],
   "source": [
    "a = 2 + 10\n",
    "b = 3*4\n",
    "c = 23//5\n",
    "d = 23%5\n",
    "(a,b,c,d)"
   ]
  },
  {
   "cell_type": "markdown",
   "metadata": {
    "slideshow": {
     "slide_type": "subslide"
    }
   },
   "source": [
    "* 简单表达式含有一个运算符，运算顺序从左到右。\n",
    "* 表达式中乘号不能省略。\n",
    "* 可以使用type()函数查看结果对象的类型。"
   ]
  },
  {
   "cell_type": "code",
   "execution_count": 20,
   "metadata": {
    "slideshow": {
     "slide_type": "fragment"
    }
   },
   "outputs": [
    {
     "data": {
      "text/plain": [
       "(int, int, int, int)"
      ]
     },
     "execution_count": 20,
     "metadata": {},
     "output_type": "execute_result"
    }
   ],
   "source": [
    "type(a),type(b),type(c),type(d)"
   ]
  },
  {
   "cell_type": "code",
   "execution_count": 21,
   "metadata": {
    "slideshow": {
     "slide_type": "subslide"
    }
   },
   "outputs": [
    {
     "data": {
      "text/plain": [
       "(0.6000000000000001, 0.0, 19683)"
      ]
     },
     "execution_count": 21,
     "metadata": {},
     "output_type": "execute_result"
    }
   ],
   "source": [
    "a = 1+2-3*4/5\n",
    "b = (1+2-3)*4/5\n",
    "c = 3**3**2\n",
    "(a,b,c)"
   ]
  },
  {
   "cell_type": "markdown",
   "metadata": {
    "slideshow": {
     "slide_type": "subslide"
    }
   },
   "source": [
    "* 复合表达式含有两个以上运算符\n",
    "* 运算顺序取决于运算符的优先级和结合顺序（左、右）\n",
    "* 可以使用小（圆）括号改变运算顺序\n",
    "* python语言里中（方）括号和大（花）括号具有特殊含义，不能用于改变运算顺序"
   ]
  },
  {
   "cell_type": "markdown",
   "metadata": {
    "slideshow": {
     "slide_type": "subslide"
    }
   },
   "source": [
    "一般顺序：\n",
    "\n",
    "乘方运算 > 乘除 > 加减 > 比较运算 > 集合运算 > 逻辑运算\n",
    "\n",
    "猜猜下面表达式的运算结果"
   ]
  },
  {
   "cell_type": "code",
   "execution_count": 22,
   "metadata": {
    "slideshow": {
     "slide_type": "fragment"
    }
   },
   "outputs": [
    {
     "data": {
      "text/plain": [
       "2"
      ]
     },
     "execution_count": 22,
     "metadata": {},
     "output_type": "execute_result"
    }
   ],
   "source": [
    "5//2 or 2+3 > 4"
   ]
  },
  {
   "cell_type": "markdown",
   "metadata": {
    "slideshow": {
     "slide_type": "slide"
    }
   },
   "source": [
    "## 变量和赋值\n",
    "* 为了定位数据，计算机将数据绑定给变量，用变量名指代需要处理的数据\n",
    "* 变量实际上是一个对象的引用\n",
    "* 变量必须初始化之后才能被访问"
   ]
  },
  {
   "cell_type": "code",
   "execution_count": 23,
   "metadata": {
    "slideshow": {
     "slide_type": "subslide"
    }
   },
   "outputs": [
    {
     "data": {
      "text/plain": [
       "(8791073105696, 8791073105696, 8791073105728)"
      ]
     },
     "execution_count": 23,
     "metadata": {},
     "output_type": "execute_result"
    }
   ],
   "source": [
    "x=1;y=1;z=2\n",
    "id(x),id(y),id(z)"
   ]
  },
  {
   "cell_type": "markdown",
   "metadata": {
    "slideshow": {
     "slide_type": "subslide"
    }
   },
   "source": [
    "假如你想要在改变list_1之前，先做一个备份，然后再修改list_1的值。这样做是否能够得到想要的结果？\n",
    "为什么呢？"
   ]
  },
  {
   "cell_type": "code",
   "execution_count": 24,
   "metadata": {
    "slideshow": {
     "slide_type": "fragment"
    }
   },
   "outputs": [
    {
     "data": {
      "text/plain": [
       "[5, 2, 6.5, 1]"
      ]
     },
     "execution_count": 24,
     "metadata": {},
     "output_type": "execute_result"
    }
   ],
   "source": [
    "list_1 = [5,2,3,1]\n",
    "list_2 = list_1\n",
    "list_1[2] = 6.5\n",
    "list_2  # guess?"
   ]
  },
  {
   "cell_type": "markdown",
   "metadata": {
    "slideshow": {
     "slide_type": "subslide"
    }
   },
   "source": [
    "### 链式赋值\n",
    "\n",
    "赋值运算是右结合的。首先生成对象3，然后将其地址传给z，然后传给y，然后传给x"
   ]
  },
  {
   "cell_type": "code",
   "execution_count": 25,
   "metadata": {
    "slideshow": {
     "slide_type": "subslide"
    }
   },
   "outputs": [
    {
     "data": {
      "text/plain": [
       "3"
      ]
     },
     "execution_count": 25,
     "metadata": {},
     "output_type": "execute_result"
    }
   ],
   "source": [
    "x=y=z=3\n",
    "x"
   ]
  },
  {
   "cell_type": "markdown",
   "metadata": {
    "slideshow": {
     "slide_type": "subslide"
    }
   },
   "source": [
    "### 复合赋值\n",
    "\n",
    "当赋值变量的表达式含有赋值变量自身时，往往可以采用这种简化的形式。\n",
    "例如：x=x\\*5 可以简化为 x\\*=5。如常用的自增和自减。"
   ]
  },
  {
   "cell_type": "code",
   "execution_count": 26,
   "metadata": {
    "slideshow": {
     "slide_type": "subslide"
    }
   },
   "outputs": [
    {
     "data": {
      "text/plain": [
       "2"
      ]
     },
     "execution_count": 26,
     "metadata": {},
     "output_type": "execute_result"
    }
   ],
   "source": [
    "i = 1\n",
    "i +=1\n",
    "i"
   ]
  },
  {
   "cell_type": "markdown",
   "metadata": {
    "slideshow": {
     "slide_type": "subslide"
    }
   },
   "source": [
    "* 元组解包可以批量给一组变量赋值\n",
    "\n",
    "* 元组解包顺序从左到右\n",
    "\n",
    "* 赋值元组和解包元组长度必须一致"
   ]
  },
  {
   "cell_type": "code",
   "execution_count": 27,
   "metadata": {
    "slideshow": {
     "slide_type": "subslide"
    }
   },
   "outputs": [
    {
     "data": {
      "text/plain": [
       "(1, 2, 3)"
      ]
     },
     "execution_count": 27,
     "metadata": {},
     "output_type": "execute_result"
    }
   ],
   "source": [
    "a,b,c = 1,2,3\n",
    "a,b,c"
   ]
  },
  {
   "cell_type": "markdown",
   "metadata": {
    "slideshow": {
     "slide_type": "slide"
    }
   },
   "source": [
    "## 程序流程控制\n",
    "\n",
    "* 分支结构\n",
    "* 循环结构"
   ]
  },
  {
   "cell_type": "markdown",
   "metadata": {
    "slideshow": {
     "slide_type": "subslide"
    }
   },
   "source": [
    "分支结构根据某个关键值是否满足特定条件，决定执行哪个代码块。在设计分支条件时需要仔细分析。"
   ]
  },
  {
   "cell_type": "code",
   "execution_count": 28,
   "metadata": {
    "slideshow": {
     "slide_type": "fragment"
    }
   },
   "outputs": [
    {
     "name": "stdout",
     "output_type": "stream",
     "text": [
      "odd\n"
     ]
    }
   ],
   "source": [
    "x = 25\n",
    "if x%2 == 0:\n",
    "    print('even')\n",
    "else:\n",
    "    print('odd')"
   ]
  },
  {
   "cell_type": "markdown",
   "metadata": {
    "slideshow": {
     "slide_type": "subslide"
    }
   },
   "source": [
    "循环结构根据条件重复执行某个代码块，或者执行某个代码块指定次数。"
   ]
  },
  {
   "cell_type": "code",
   "execution_count": 29,
   "metadata": {
    "slideshow": {
     "slide_type": "fragment"
    }
   },
   "outputs": [
    {
     "name": "stdout",
     "output_type": "stream",
     "text": [
      "4950\n"
     ]
    }
   ],
   "source": [
    "x = 100\n",
    "s = 0\n",
    "for i in range(x):\n",
    "    s+=i\n",
    "print(s)"
   ]
  },
  {
   "cell_type": "markdown",
   "metadata": {
    "slideshow": {
     "slide_type": "slide"
    }
   },
   "source": [
    "## 代码编写与调试"
   ]
  },
  {
   "cell_type": "markdown",
   "metadata": {
    "slideshow": {
     "slide_type": "subslide"
    }
   },
   "source": [
    "* 编写代码容易出错（拼写错误，语法错误，逻辑错误）\n",
    "* 代码越长越容易出错\n",
    "* 编译器提示的错误位置未必是真实发生错误的地方"
   ]
  },
  {
   "cell_type": "markdown",
   "metadata": {
    "slideshow": {
     "slide_type": "subslide"
    }
   },
   "source": [
    "代码编写策略\n",
    "\n",
    "* 尽量写短的代码\n",
    "* 代码越简单越好\n",
    "* 代码分块编写与调试\n",
    "* 善于利用交互式解释运行环境"
   ]
  },
  {
   "cell_type": "markdown",
   "metadata": {
    "slideshow": {
     "slide_type": "slide"
    }
   },
   "source": [
    "## Python代码块\n",
    "* 函数\n",
    "* 类\n",
    "* 模块\n",
    "* 包"
   ]
  },
  {
   "cell_type": "markdown",
   "metadata": {
    "slideshow": {
     "slide_type": "subslide"
    }
   },
   "source": [
    "当代码量增加到一定数量时，会产生几个问题：\n",
    "* 命名冲突\n",
    "* 无意识的修改\n",
    "* 代码重用\n",
    "* 任务分解和协调问题"
   ]
  },
  {
   "cell_type": "markdown",
   "metadata": {
    "slideshow": {
     "slide_type": "subslide"
    }
   },
   "source": [
    "### 函数\n",
    "\n",
    "* 将相对独立的、经常执行的任务进行封装，隐藏其内部实现和内部变量。\n",
    "* 函数的作用在于实现程序的模块化设计和代码重用。\n",
    "* 只需要知道函数的接口（调用方式）、函数的功能"
   ]
  },
  {
   "cell_type": "code",
   "execution_count": 30,
   "metadata": {
    "slideshow": {
     "slide_type": "subslide"
    }
   },
   "outputs": [
    {
     "name": "stdout",
     "output_type": "stream",
     "text": [
      "100 1000\n",
      "5\n"
     ]
    }
   ],
   "source": [
    "a = 5\n",
    "def power_it(a, b = 2):\n",
    "    a = a ** b\n",
    "    return a\n",
    "print(power_it(10), power_it(10, 3))\n",
    "print(a)"
   ]
  },
  {
   "cell_type": "markdown",
   "metadata": {
    "slideshow": {
     "slide_type": "subslide"
    }
   },
   "source": [
    "### 类\n",
    "\n",
    "* 将事物的属性与操作进行捆绑\n",
    "* 利用类的方法、类的继承实现代码重用\n",
    "* 提高代码的可靠性和可维护性"
   ]
  },
  {
   "cell_type": "code",
   "execution_count": 31,
   "metadata": {
    "slideshow": {
     "slide_type": "subslide"
    }
   },
   "outputs": [
    {
     "name": "stdout",
     "output_type": "stream",
     "text": [
      "5.0 8\n"
     ]
    }
   ],
   "source": [
    "class Light:\n",
    "    def __init__(self, degree):\n",
    "        self.degree = degree\n",
    "class Half_Light(Light):\n",
    "    def __init__(self, degree, age):\n",
    "        Light.__init__(self, degree/2)\n",
    "        self.age = age\n",
    "light1 = Half_Light(10, 8)\n",
    "print(light1.degree, light1.age)"
   ]
  },
  {
   "cell_type": "markdown",
   "metadata": {
    "slideshow": {
     "slide_type": "subslide"
    }
   },
   "source": [
    "### 模块 (module)\n",
    "\n",
    "* 一个代码文件即为一个module\n",
    "* 处理特定任务的代码可以组织在一个模块中\n",
    "* 用import语句可以将module中的代码导入使用"
   ]
  },
  {
   "cell_type": "markdown",
   "metadata": {
    "slideshow": {
     "slide_type": "subslide"
    }
   },
   "source": [
    "### 包 (package)\n",
    "\n",
    "* 可以将若干个模块组织成一个包\n",
    "* 包是模块的层次性组织结构，类似于文件夹\n",
    "* 可以使用import语句引入包\n",
    "* 使用包可以有效解决命名空间冲突问题"
   ]
  },
  {
   "cell_type": "code",
   "execution_count": 32,
   "metadata": {
    "slideshow": {
     "slide_type": "subslide"
    }
   },
   "outputs": [
    {
     "name": "stdout",
     "output_type": "stream",
     "text": [
      "Variable                     Type          Data/Info\n",
      "----------------------------------------------------\n",
      "Half_Light                   type          <class '__main__.Half_Light'>\n",
      "Hell0                        int           6\n",
      "HellO                        int           7\n",
      "Hello                        int           5\n",
      "Light                        type          <class '__main__.Light'>\n",
      "a                            int           5\n",
      "a_very_long_very_long_line   float         20543.0\n",
      "area                         int           200\n",
      "b                            int           2\n",
      "c                            int           3\n",
      "d                            int           3\n",
      "get_value                    function      <function get_value at 0x0000000004D7A040>\n",
      "i                            int           99\n",
      "j                            float         0.09\n",
      "light1                       Half_Light    <__main__.Half_Light obje<...>ct at 0x0000000004DBB9D0>\n",
      "list_1                       list          n=4\n",
      "list_2                       list          n=4\n",
      "math                         module        <module 'math' (built-in)>\n",
      "n                            float         8.043231726932046\n",
      "power_it                     function      <function power_it at 0x0000000004D7A670>\n",
      "prmt                         float         18.84955592153876\n",
      "r                            int           3\n",
      "s                            int           4950\n",
      "total                        float         26.53297705144422\n",
      "x                            int           100\n",
      "y                            int           3\n",
      "z                            int           3\n"
     ]
    }
   ],
   "source": [
    "%whos"
   ]
  },
  {
   "cell_type": "code",
   "execution_count": 33,
   "metadata": {
    "slideshow": {
     "slide_type": "subslide"
    }
   },
   "outputs": [],
   "source": [
    "from datetime import date,time,datetime"
   ]
  },
  {
   "cell_type": "code",
   "execution_count": 34,
   "metadata": {
    "slideshow": {
     "slide_type": "subslide"
    }
   },
   "outputs": [
    {
     "name": "stdout",
     "output_type": "stream",
     "text": [
      "No variables match your requested type.\n"
     ]
    }
   ],
   "source": [
    "%whos  # 检查名称空间中出现了哪些名字"
   ]
  },
  {
   "cell_type": "code",
   "execution_count": 35,
   "metadata": {
    "slideshow": {
     "slide_type": "subslide"
    }
   },
   "outputs": [
    {
     "data": {
      "text/plain": [
       "datetime.datetime"
      ]
     },
     "execution_count": 35,
     "metadata": {},
     "output_type": "execute_result"
    }
   ],
   "source": [
    "dat1 = datetime.now()\n",
    "type(dat1)"
   ]
  },
  {
   "cell_type": "code",
   "execution_count": 36,
   "metadata": {
    "slideshow": {
     "slide_type": "subslide"
    }
   },
   "outputs": [
    {
     "data": {
      "text/plain": [
       "datetime.date(2021, 9, 17)"
      ]
     },
     "execution_count": 36,
     "metadata": {},
     "output_type": "execute_result"
    }
   ],
   "source": [
    "dat1.date()"
   ]
  }
 ],
 "metadata": {
  "anaconda-cloud": {},
  "celltoolbar": "幻灯片",
  "kernelspec": {
   "display_name": "Python 3",
   "language": "python",
   "name": "python3"
  },
  "language_info": {
   "codemirror_mode": {
    "name": "ipython",
    "version": 3
   },
   "file_extension": ".py",
   "mimetype": "text/x-python",
   "name": "python",
   "nbconvert_exporter": "python",
   "pygments_lexer": "ipython3",
   "version": "3.8.5"
  }
 },
 "nbformat": 4,
 "nbformat_minor": 2
}
