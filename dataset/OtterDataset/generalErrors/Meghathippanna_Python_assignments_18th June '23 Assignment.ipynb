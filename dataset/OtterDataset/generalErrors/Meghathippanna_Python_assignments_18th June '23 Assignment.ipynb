{
 "cells": [
  {
   "cell_type": "markdown",
   "id": "00c8764b-f15a-4468-a726-46b470b02442",
   "metadata": {},
   "source": [
    "18th June 2023 Assignment"
   ]
  },
  {
   "cell_type": "markdown",
   "id": "2c89a4f7-c36b-4a6f-b114-8020e6540707",
   "metadata": {},
   "source": [
    "1. What is the role of the 'else' block in a try-except statement? Provide an example scenario where it would be useful.\n",
    "\n",
    "       The else block is executed if no exception occurs within the try block. \n",
    "\n",
    "       It provides a way to specify code that should be executed only if the try block runs successfully without raising any exceptions\n"
   ]
  },
  {
   "cell_type": "code",
   "execution_count": 6,
   "id": "b2cfe1da-3d88-4f89-bda8-2e7959f95e9f",
   "metadata": {},
   "outputs": [
    {
     "name": "stdout",
     "output_type": "stream",
     "text": [
      "5.0\n",
      "Thank you\n"
     ]
    }
   ],
   "source": [
    "x= 10\n",
    "y= 2\n",
    "try:\n",
    "    result= x/y\n",
    "except ZeroDivisionError:\n",
    "    print(\"You cannot divide by zero\")\n",
    "else:\n",
    "    print(result)\n",
    "finally:\n",
    "    print(\"Thank you\")"
   ]
  },
  {
   "cell_type": "markdown",
   "id": "fad67381-ee0b-4d33-a923-144f97755a37",
   "metadata": {},
   "source": [
    "2. Can a try-except block be nested inside another try-except block? Explain with an\n",
    "example.\n",
    "\n",
    "Yes"
   ]
  },
  {
   "cell_type": "code",
   "execution_count": 11,
   "id": "6b72f21c-5333-4e17-a160-957ad57c8298",
   "metadata": {},
   "outputs": [
    {
     "name": "stdin",
     "output_type": "stream",
     "text": [
      "Enter your age:  ten\n"
     ]
    },
    {
     "name": "stdout",
     "output_type": "stream",
     "text": [
      "An error occurred: invalid literal for int() with base 10: 'ten'\n"
     ]
    }
   ],
   "source": [
    "try:\n",
    "    # Outer try block\n",
    "    age = int(input(\"Enter your age: \"))\n",
    "    \n",
    "    try:\n",
    "        # Nested block\n",
    "        if age < 0:\n",
    "            raise ValueError(\"Age cannot be negative\")\n",
    "        elif age < 18:\n",
    "            print(\"You don't have access\")\n",
    "        else:\n",
    "            print(\"You have access\")\n",
    "            \n",
    "    except ValueError as ve:\n",
    "        print(\"Invalid input:\", ve)\n",
    "    \n",
    "except Exception as e:\n",
    "    # Outer except block\n",
    "    print(\"An error occurred:\", e)"
   ]
  },
  {
   "cell_type": "markdown",
   "id": "c334ffa8-13b5-4213-a547-d4e1ab642144",
   "metadata": {},
   "source": [
    "3. How can you create a custom exception class in Python? Provide an example that demonstrates its usage."
   ]
  },
  {
   "cell_type": "code",
   "execution_count": 12,
   "id": "24d6cbb0-453d-4f4e-b333-d7a15e1a823a",
   "metadata": {},
   "outputs": [
    {
     "name": "stdin",
     "output_type": "stream",
     "text": [
      "Item you would like to purchase:  juice\n"
     ]
    },
    {
     "name": "stdout",
     "output_type": "stream",
     "text": [
      "An error occurred: juice is out of stock.\n"
     ]
    }
   ],
   "source": [
    "class OutofStockError(Exception):\n",
    "    def __init__(self, item):\n",
    "        self.item = item\n",
    "        super().__init__(f\"{item} is out of stock.\")\n",
    "\n",
    "stocks = ['apple', 'banana', 'carrot', 'tomato']\n",
    "try:\n",
    "    purchase_item = input(\"Item you would like to purchase: \")\n",
    "    if purchase_item not in stocks:\n",
    "        raise OutofStockError(purchase_item)\n",
    "    else:\n",
    "        print(f\"Item {purchase_item} added to the cart\")\n",
    "       \n",
    "except OutofStockError as e:\n",
    "    print(\"An error occurred:\", e)\n"
   ]
  },
  {
   "cell_type": "markdown",
   "id": "e87424e9-029d-4104-b413-37ee0fcc7594",
   "metadata": {},
   "source": [
    "4. What are some common exceptions that are built-in to Python?\n",
    "\n",
    "Some common built-in exceptions in Python are:\n",
    "\n",
    "    -->SyntaxError: Raised when there is a syntax error in the code.\n",
    "    -->IndentationError: Raised when indentation is incorrect.\n",
    "    -->NameError: Raised when a local or global name is not found.\n",
    "    -->TypeError: Raised when an operation or function is applied to an object of inappropriate type.\n",
    "    -->ValueError: Raised when a built-in operation or function receives an argument that has the right type but an inappropriate value.\n",
    "    -->ZeroDivisionError: Raised when the second operand of a division or modulo operation is zero.\n",
    "    -->IndexError: Raised when a sequence subscript is out of range.\n",
    "    -->KeyError: Raised when a dictionary key is not found.\n",
    "    -->FileNotFoundError: Raised when a file or directory is requested but cannot be found."
   ]
  },
  {
   "cell_type": "markdown",
   "id": "c4da718e-b8bf-40c4-a350-e327473502c8",
   "metadata": {},
   "source": [
    "5. What is logging in Python, and why is it important in software development?\n",
    "\n",
    "    Logging tracks events and records information such as debugs, information, warnings, errors, critical errors that occurs during program execution\n",
    "   \n",
    "    Logging is a important in software development for debugging, troubleshooting, and monitoring your program"
   ]
  },
  {
   "cell_type": "markdown",
   "id": "290d594c-d538-475a-8e1e-41505822d69e",
   "metadata": {},
   "source": [
    "6. Explain the purpose of log levels in Python logging and provide examples of when each log level would be appropriate\n",
    "\n",
    "       --> The purpose of log levels in python is to categorize and prioritize log messages based on their severity of the log.\n",
    "       --> Different log levels are\n",
    "           1. DEBUG\n",
    "           2. INFO\n",
    "           3. WARNING\n",
    "           4. ERROR\n",
    "           5. CRITICAL\n",
    "       --> Below are the examples:"
   ]
  },
  {
   "cell_type": "code",
   "execution_count": 13,
   "id": "05b0c038-7cef-49f0-bd69-db1ce5b29cc4",
   "metadata": {},
   "outputs": [
    {
     "name": "stderr",
     "output_type": "stream",
     "text": [
      "DEBUG:root:Variables are 3 and 5\n"
     ]
    },
    {
     "data": {
      "text/plain": [
       "8"
      ]
     },
     "execution_count": 13,
     "metadata": {},
     "output_type": "execute_result"
    }
   ],
   "source": [
    "#examples of Debug: Logging variable values or function calls for detailed debugging\n",
    "import logging\n",
    "logging.basicConfig(level= logging.DEBUG)\n",
    "def add(x,y):\n",
    "    logging.debug(\"Variables are %s and %s\",x,y)\n",
    "    return x+y\n",
    "\n",
    "add(3, 5)"
   ]
  },
  {
   "cell_type": "code",
   "execution_count": 14,
   "id": "915e5fc0-c3b0-4adc-b485-7be34225ded4",
   "metadata": {},
   "outputs": [
    {
     "name": "stderr",
     "output_type": "stream",
     "text": [
      "INFO:root:Application started successfully.\n"
     ]
    },
    {
     "data": {
      "text/plain": [
       "5"
      ]
     },
     "execution_count": 14,
     "metadata": {},
     "output_type": "execute_result"
    }
   ],
   "source": [
    "#examples of Info: Logging startup messages or configuration information\n",
    "import logging\n",
    "logging.basicConfig(level= logging.INFO)\n",
    "\n",
    "def sub(a, b):\n",
    "    logging.info(\"Application started successfully.\")\n",
    "    return a-b\n",
    "\n",
    "sub(10, 5)"
   ]
  },
  {
   "cell_type": "code",
   "execution_count": 19,
   "id": "81d9ba3d-b1e2-4240-a7a3-77e4dcf836c1",
   "metadata": {},
   "outputs": [
    {
     "name": "stderr",
     "output_type": "stream",
     "text": [
      "WARNING:root:Ensure enough storage space in your system\n"
     ]
    },
    {
     "name": "stdout",
     "output_type": "stream",
     "text": [
      "Data downloaded\n"
     ]
    }
   ],
   "source": [
    "#examples of Warn: Logging warnings or indications that may affect performance\n",
    "import logging\n",
    "logging.basicConfig(level=logging.WARN)\n",
    "\n",
    "def download_data():\n",
    "    logging.warning(\"Ensure enough storage space in your system\")\n",
    "    print(\"Data downloaded\")\n",
    "\n",
    "download_data()"
   ]
  },
  {
   "cell_type": "code",
   "execution_count": 21,
   "id": "be377be7-72e2-4e03-ae22-8847cd79f2ed",
   "metadata": {},
   "outputs": [
    {
     "name": "stderr",
     "output_type": "stream",
     "text": [
      "ERROR:root:Divided by Zero\n"
     ]
    },
    {
     "name": "stdout",
     "output_type": "stream",
     "text": [
      "6.0\n"
     ]
    }
   ],
   "source": [
    "#examples of error: Logging error or exceptions\n",
    "import logging\n",
    "logging.basicConfig(level=logging.ERROR)\n",
    "\n",
    "def division(x,y):\n",
    "    logging.error(\"Divided by Zero\")\n",
    "    print(x/y)\n",
    "\n",
    "division(30, 5)"
   ]
  },
  {
   "cell_type": "code",
   "execution_count": 24,
   "id": "58888626-49c9-4bf5-b9b0-78d1abcf0872",
   "metadata": {},
   "outputs": [
    {
     "name": "stdin",
     "output_type": "stream",
     "text": [
      "Enter your storage space available in your harddisk: 400\n"
     ]
    },
    {
     "name": "stderr",
     "output_type": "stream",
     "text": [
      "CRITICAL:root:Critical error: Low memory detected. Available memory: 400\n"
     ]
    }
   ],
   "source": [
    "#examples of Logging severe errors or critical failures that lead to termination of the application.\n",
    "import logging\n",
    "logging.basicConfig(level=logging.CRITICAL)\n",
    "\n",
    "def check_system_resources():\n",
    "    critical_threshold = 500\n",
    "    available_memory= int(input(\"Enter your storage space available in your harddisk:\"))\n",
    "    if available_memory < critical_threshold:\n",
    "        logging.critical(\"Critical error: Low memory detected. Available memory: %s\", available_memory)\n",
    "    else:\n",
    "        print(\"Download started\")\n",
    "        \n",
    "check_system_resources()"
   ]
  },
  {
   "cell_type": "markdown",
   "id": "a5a60bcd-0ca5-4341-8fb4-002bd93fd0e9",
   "metadata": {},
   "source": [
    "7. What are log formatters in Python logging, and how can you customize the log message format using formatters?\n",
    "\n",
    "        --> Log formatters in Python logging help define content and structure of log messages\n",
    "        --> Customizing log message format using formatters include:\n",
    "               1. create a logger\n",
    "               2. create handler\n",
    "               3. create formatter and add formatter to handler\n",
    "               4. Adding Handler object to the Logger\n",
    "               5. Write log messages"
   ]
  },
  {
   "cell_type": "code",
   "execution_count": 24,
   "id": "62ddf27c-9889-45d9-b36d-dc2fce780d21",
   "metadata": {},
   "outputs": [],
   "source": [
    "import logging\n",
    "\n",
    "#create a logger\n",
    "logger = logging.getLogger()\n",
    "logger.setLevel(logging.INFO)\n",
    "\n",
    "#create handler\n",
    "handler= logging.FileHandler('log_file1.txt')\n",
    "\n",
    "#create formatter and add formatter to handler\n",
    "handler.setFormatter(logging.Formatter('%(asctime)s - %(name)s - %(levelname)s - %(message)s'))\n",
    "                     \n",
    "#Adding Handler object to the Logger\n",
    "logger.addHandler(handler)\n",
    "\n",
    "#log messages\n",
    "logger.debug('debug message')\n",
    "logger.info('info message')\n",
    "logger.warning('warn message')\n",
    "logger.error('error message')\n",
    "logger.critical('critical message')"
   ]
  },
  {
   "cell_type": "markdown",
   "id": "798f0074-e3cd-4945-ae4b-8bb71b6e4c80",
   "metadata": {},
   "source": [
    "##ouput resulted in the file_path as log_file1\n",
    "\n",
    "        2024-02-28 15:36:39,798 - root - DEBUG - debug message\n",
    "        2024-02-28 15:36:39,799 - root - INFO - info message\n",
    "        2024-02-28 15:36:39,799 - root - WARNING - warn message\n",
    "        2024-02-28 15:36:39,800 - root - ERROR - error message\n",
    "        2024-02-28 15:36:39,800 - root - CRITICAL - critical message"
   ]
  },
  {
   "cell_type": "markdown",
   "id": "466bd7c6-8148-46d2-a4f7-a95cdb3f14b8",
   "metadata": {},
   "source": [
    "8. How can you set up logging to log messages from multiple modules or classes in a Python application?individual modules.\n"
   ]
  },
  {
   "cell_type": "code",
   "execution_count": 1,
   "id": "68e7e285-603f-4feb-9d91-069ae9701ef6",
   "metadata": {},
   "outputs": [],
   "source": [
    "#module1\n",
    "import logging\n",
    "\n",
    "# Create logger\n",
    "logger = logging.getLogger()\n",
    "logger.setLevel(logging.DEBUG)\n",
    "\n",
    "# Create file handler\n",
    "file_handler = logging.FileHandler('example.log')\n",
    "file_handler.setLevel(logging.DEBUG)\n",
    "\n",
    "# Create formatter\n",
    "formatter = logging.Formatter('%(asctime)s - %(name)s - %(levelname)s - %(message)s')\n",
    "file_handler.setFormatter(formatter)\n",
    "\n",
    "# Add file handler to logger\n",
    "logger.addHandler(file_handler)\n",
    "\n",
    "def function_in_module1():\n",
    "    logger.debug('This is a debug message from module1')\n",
    "    logger.info('This is an info message from module1')\n",
    "    logger.warning('This is a warning message from module1')\n",
    "    logger.error('This is an error message from module1')\n",
    "    logger.critical('This is a critical message from module1')"
   ]
  },
  {
   "cell_type": "code",
   "execution_count": 2,
   "id": "33ba94d8-3703-4d43-bb06-810f2bcf8cfa",
   "metadata": {},
   "outputs": [],
   "source": [
    "#module2\n",
    "import logging\n",
    "\n",
    "# Create logger\n",
    "logger = logging.getLogger()\n",
    "logger.setLevel(logging.DEBUG)\n",
    "\n",
    "# Create file handler\n",
    "file_handler = logging.FileHandler('example.log')\n",
    "file_handler.setLevel(logging.DEBUG)\n",
    "\n",
    "# Create formatter\n",
    "formatter = logging.Formatter('%(asctime)s - %(name)s - %(levelname)s - %(message)s')\n",
    "file_handler.setFormatter(formatter)\n",
    "\n",
    "# Add file handler to logger\n",
    "logger.addHandler(file_handler)\n",
    "\n",
    "def function_in_module2():\n",
    "    logger.debug('This is a debug message from module2')\n",
    "    logger.info('This is an info message from module2')\n",
    "    logger.warning('This is a warning message from module2')\n",
    "    logger.error('This is an error message from module2')\n",
    "    logger.critical('This is a critical message from module2')"
   ]
  },
  {
   "cell_type": "markdown",
   "id": "52eda0d6-c449-4534-b467-e78ae26f5518",
   "metadata": {},
   "source": [
    "9. What is the difference between the logging and print statements in Python? When should you use logging over print statements in a real-world application?"
   ]
  },
  {
   "cell_type": "markdown",
   "id": "1971309e-0e83-4ba9-a12d-ea54ba981f4d",
   "metadata": {},
   "source": [
    "        * The print statement: Displays the information to the console for the debugging purposes.\n",
    "\n",
    "        * The logging package tracks events and records information such as debugs, information, warnings, errors, critical errors that occurs during program execution. Logging features:         \n",
    "         --> Easy to see time and which line a logging call is being made from.\n",
    "         --> Differentiate your logging based on severity.\n",
    "\n",
    "        * In real-world applications we can use logging over print statements for:\n",
    "\n",
    "         -->Different levels of severity allow displaying log messages according to the level. A print statement does not give this flexibility\n",
    "         -->\r\n",
    "Logging allows you to direct the log messages to separate files that can then be used for po-t analysis while the same is not easily available with print stateme\n",
    "         -->Loggging allows setting set different log levels at individual code file lsevel as well - some files may han ave INFO level while some may ha ave DEBUG level"
   ]
  },
  {
   "cell_type": "markdown",
   "id": "57951a63-1f91-4ab4-9d31-2053dc1a8798",
   "metadata": {},
   "source": [
    "10. Write a Python program that logs a message to a file named \"app.log\" with the following requirements:\n",
    "\n",
    "         ● The log message should be \"Hello, World!\"\n",
    "         ● The log level should be set to \"INFO.\"\n",
    "         ● The log file should append new log entries without overwriting previous ones."
   ]
  },
  {
   "cell_type": "code",
   "execution_count": 14,
   "id": "7bcd87a9-7bb1-4fd6-9307-36086a312352",
   "metadata": {},
   "outputs": [],
   "source": [
    "import logging\n",
    "\n",
    "# Create logger\n",
    "logger = logging.getLogger()\n",
    "logger.setLevel(logging.INFO)\n",
    "\n",
    "# Create file handler\n",
    "file_handler = logging.FileHandler('app.log')\n",
    "file_handler.setLevel(logging.INFO)\n",
    "\n",
    "# Create formatter\n",
    "formatter = logging.Formatter('%(asctime)s - %(levelname)s - %(message)s')\n",
    "file_handler.setFormatter(formatter)\n",
    "\n",
    "# Add file handler to logger\n",
    "logger.addHandler(file_handler)\n",
    "\n",
    "\n",
    "def main():\n",
    "    log_file = \"app.log\"\n",
    "     # Log \"Hello, World!\" with INFO level\n",
    "    logger.info(\"Hello, World!\")\n",
    "\n",
    "\n",
    "main()\n"
   ]
  },
  {
   "cell_type": "markdown",
   "id": "70ae7745-c52c-4db5-9bf9-077a85693a1f",
   "metadata": {},
   "source": [
    "#output in folder app.log\n",
    "\n",
    "2024-02-29 16:46:38,585 - root - INFO - Hello, World!"
   ]
  },
  {
   "cell_type": "markdown",
   "id": "0ab6fee2-3ef6-4416-b6d4-0a9a7276e783",
   "metadata": {},
   "source": [
    "11. Create a Python program that logs an error message to the console and a file named \"errors.log\" if an exception occurs during the program's execution. The error message should include the exception type and a timestamp."
   ]
  },
  {
   "cell_type": "code",
   "execution_count": 10,
   "id": "1fa688fd-bd39-4b2c-8011-8d9fc2051037",
   "metadata": {},
   "outputs": [
    {
     "name": "stdout",
     "output_type": "stream",
     "text": [
      "An error occurred. Check errors.log for details.\n"
     ]
    }
   ],
   "source": [
    "import logging\n",
    "import datetime\n",
    "\n",
    "def main():\n",
    "    # Configure logging\n",
    "    logging.basicConfig(filename='errors.log', level=logging.ERROR, format='%(asctime)s - %(levelname)s - %(message)s', filemode='a')\n",
    "    \n",
    "    try:\n",
    "        result = 1 / 0 \n",
    "    except Exception as e:\n",
    "        error_message = f\"Exception of type {type(e).__name__} occurred at {datetime.datetime.now()}: {str(e)}\"\n",
    "        logging.error(error_message)\n",
    "        print(\"An error occurred. Check errors.log for details.\")\n",
    "\n",
    "if __name__ == \"__main__\":\n",
    "    main()\n"
   ]
  },
  {
   "cell_type": "markdown",
   "id": "2346f173-9c78-4b27-861d-b51ead68ade9",
   "metadata": {},
   "source": [
    "#output saved in errors.log\n",
    "\r\n",
    "2024-02-29 17:00:34,965 - root - ERROR - Exception of type ZeroDivisionError occurred at 2024-02-29 17:00:34.964881: division by zero"
   ]
  }
 ],
 "metadata": {
  "kernelspec": {
   "display_name": "Python 3 (ipykernel)",
   "language": "python",
   "name": "python3"
  },
  "language_info": {
   "codemirror_mode": {
    "name": "ipython",
    "version": 3
   },
   "file_extension": ".py",
   "mimetype": "text/x-python",
   "name": "python",
   "nbconvert_exporter": "python",
   "pygments_lexer": "ipython3",
   "version": "3.11.5"
  }
 },
 "nbformat": 4,
 "nbformat_minor": 5
}
