{
 "cells": [
  {
   "cell_type": "markdown",
   "id": "c3e8d59a-97aa-4b78-b3a3-901531be371d",
   "metadata": {},
   "source": [
    "Q1. Explain why we have to use the Exception class while creating a Custom Exception.\n",
    "\n",
    "Ans."
   ]
  },
  {
   "cell_type": "markdown",
   "id": "fcfda75d-1d25-4bc9-ab79-a3333d52081b",
   "metadata": {},
   "source": [
    "We have to use the 'Exception' class while creating a custom exception because it is the base class for all exceptions in Python. This means that any custom exception class we create will inherit from the 'Exception' class.  \n",
    "The 'Exception' class provides a number of methods that can be used to handle exceptions, such as the '__init__()' method, which is used to initialize the exception object.  \n",
    "By inheriting from the 'Exception' class, custom exception class will automatically have these methods, which makes it easier to handle exceptions."
   ]
  },
  {
   "cell_type": "markdown",
   "id": "dd066d50-7008-4939-9718-305e148557cd",
   "metadata": {},
   "source": [
    "---"
   ]
  },
  {
   "cell_type": "markdown",
   "id": "f57336e2-af1a-4976-a988-1215f3afe510",
   "metadata": {},
   "source": [
    "Q2. Write a python program to print Python Exception Hierarchy.  \n",
    "\n",
    "Ans."
   ]
  },
  {
   "cell_type": "code",
   "execution_count": 1,
   "id": "3f5ea1af-f472-4357-ba8f-93014191c0fb",
   "metadata": {},
   "outputs": [
    {
     "name": "stdout",
     "output_type": "stream",
     "text": [
      "Exception\n",
      "TypeError\n",
      "FloatOperation\n",
      "MultipartConversionError\n",
      "StopAsyncIteration\n",
      "StopIteration\n",
      "ImportError\n",
      "ModuleNotFoundError\n",
      "ZipImportError\n",
      "OSError\n",
      "ConnectionError\n",
      "BrokenPipeError\n",
      "ConnectionAbortedError\n",
      "ConnectionRefusedError\n",
      "ConnectionResetError\n",
      "RemoteDisconnected\n",
      "BlockingIOError\n",
      "ChildProcessError\n",
      "FileExistsError\n",
      "FileNotFoundError\n",
      "IsADirectoryError\n",
      "NotADirectoryError\n",
      "InterruptedError\n",
      "InterruptedSystemCall\n",
      "PermissionError\n",
      "ProcessLookupError\n",
      "TimeoutError\n",
      "UnsupportedOperation\n",
      "itimer_error\n",
      "herror\n",
      "gaierror\n",
      "SSLError\n",
      "SSLCertVerificationError\n",
      "SSLZeroReturnError\n",
      "SSLWantWriteError\n",
      "SSLWantReadError\n",
      "SSLSyscallError\n",
      "SSLEOFError\n",
      "Error\n",
      "SameFileError\n",
      "SpecialFileError\n",
      "ExecError\n",
      "ReadError\n",
      "URLError\n",
      "HTTPError\n",
      "ContentTooShortError\n",
      "BadGzipFile\n",
      "EOFError\n",
      "IncompleteReadError\n",
      "RuntimeError\n",
      "RecursionError\n",
      "NotImplementedError\n",
      "ZMQVersionError\n",
      "StdinNotImplementedError\n",
      "_DeadlockError\n",
      "BrokenBarrierError\n",
      "BrokenExecutor\n",
      "BrokenThreadPool\n",
      "SendfileNotAvailableError\n",
      "ExtractionError\n",
      "VariableError\n",
      "NameError\n",
      "UnboundLocalError\n",
      "AttributeError\n",
      "FrozenInstanceError\n",
      "SyntaxError\n",
      "IndentationError\n",
      "TabError\n",
      "LookupError\n",
      "IndexError\n",
      "KeyError\n",
      "NoSuchKernel\n",
      "UnknownBackend\n",
      "CodecRegistryError\n",
      "ValueError\n",
      "UnicodeError\n",
      "UnicodeEncodeError\n",
      "UnicodeDecodeError\n",
      "UnicodeTranslateError\n",
      "UnsupportedOperation\n",
      "JSONDecodeError\n",
      "SSLCertVerificationError\n",
      "Error\n",
      "UnsupportedDigestmodError\n",
      "IllegalMonthError\n",
      "IllegalWeekdayError\n",
      "ParserError\n",
      "ClassNotFound\n",
      "ClipboardEmpty\n",
      "MessageDefect\n",
      "NoBoundaryInMultipartDefect\n",
      "StartBoundaryNotFoundDefect\n",
      "CloseBoundaryNotFoundDefect\n",
      "FirstHeaderLineIsContinuationDefect\n",
      "MisplacedEnvelopeHeaderDefect\n",
      "MissingHeaderBodySeparatorDefect\n",
      "MultipartInvariantViolationDefect\n",
      "InvalidMultipartContentTransferEncodingDefect\n",
      "UndecodableBytesDefect\n",
      "InvalidBase64PaddingDefect\n",
      "InvalidBase64CharactersDefect\n",
      "InvalidBase64LengthDefect\n",
      "HeaderDefect\n",
      "InvalidHeaderDefect\n",
      "HeaderMissingRequiredValue\n",
      "NonPrintableDefect\n",
      "ObsoleteHeaderDefect\n",
      "NonASCIILocalPartDefect\n",
      "InvalidDateDefect\n",
      "MacroToEdit\n",
      "InvalidFileException\n",
      "UnequalIterablesError\n",
      "InvalidVersion\n",
      "_InvalidELFFileHeader\n",
      "InvalidWheelFilename\n",
      "InvalidSdistFilename\n",
      "InvalidSpecifier\n",
      "InvalidMarker\n",
      "UndefinedComparison\n",
      "UndefinedEnvironmentName\n",
      "InvalidRequirement\n",
      "RequirementParseError\n",
      "InvalidVersion\n",
      "AssertionError\n",
      "ArithmeticError\n",
      "FloatingPointError\n",
      "OverflowError\n",
      "ZeroDivisionError\n",
      "DivisionByZero\n",
      "DivisionUndefined\n",
      "DecimalException\n",
      "Clamped\n",
      "Rounded\n",
      "Underflow\n",
      "Overflow\n",
      "Inexact\n",
      "Underflow\n",
      "Overflow\n",
      "Subnormal\n",
      "Underflow\n",
      "DivisionByZero\n",
      "FloatOperation\n",
      "InvalidOperation\n",
      "ConversionSyntax\n",
      "DivisionImpossible\n",
      "DivisionUndefined\n",
      "InvalidContext\n",
      "SystemError\n",
      "CodecRegistryError\n",
      "ReferenceError\n",
      "MemoryError\n",
      "BufferError\n",
      "Warning\n",
      "UserWarning\n",
      "GetPassWarning\n",
      "FormatterWarning\n",
      "EncodingWarning\n",
      "DeprecationWarning\n",
      "ProvisionalWarning\n",
      "PendingDeprecationWarning\n",
      "SyntaxWarning\n",
      "RuntimeWarning\n",
      "ProactorSelectorThreadWarning\n",
      "UnknownTimezoneWarning\n",
      "PEP440Warning\n",
      "FutureWarning\n",
      "ProvisionalCompleterWarning\n",
      "ImportWarning\n",
      "UnicodeWarning\n",
      "BytesWarning\n",
      "ResourceWarning\n",
      "DeprecatedTzFormatWarning\n",
      "PkgResourcesDeprecationWarning\n",
      "_OptionError\n",
      "_Error\n",
      "error\n",
      "Verbose\n",
      "Error\n",
      "SubprocessError\n",
      "CalledProcessError\n",
      "TimeoutExpired\n",
      "TokenError\n",
      "StopTokenizing\n",
      "ClassFoundException\n",
      "EndOfBlock\n",
      "TraitError\n",
      "Error\n",
      "Error\n",
      "CancelledError\n",
      "TimeoutError\n",
      "InvalidStateError\n",
      "_GiveupOnSendfile\n",
      "error\n",
      "Incomplete\n",
      "TimeoutError\n",
      "InvalidStateError\n",
      "LimitOverrunError\n",
      "QueueEmpty\n",
      "QueueFull\n",
      "Empty\n",
      "Full\n",
      "ArgumentError\n",
      "ZMQBaseError\n",
      "ZMQError\n",
      "ContextTerminated\n",
      "Again\n",
      "InterruptedSystemCall\n",
      "ZMQBindError\n",
      "NotDone\n",
      "PickleError\n",
      "PicklingError\n",
      "UnpicklingError\n",
      "_Stop\n",
      "ArgumentError\n",
      "ArgumentTypeError\n",
      "ConfigError\n",
      "ConfigLoaderError\n",
      "ArgumentError\n",
      "ConfigFileNotFound\n",
      "ConfigurableError\n",
      "MultipleInstanceError\n",
      "ApplicationError\n",
      "error\n",
      "TimeoutError\n",
      "error\n",
      "ReturnValueIgnoredError\n",
      "KeyReuseError\n",
      "UnknownKeyError\n",
      "LeakedCallbackError\n",
      "BadYieldError\n",
      "ReturnValueIgnoredError\n",
      "Return\n",
      "InvalidPortNumber\n",
      "error\n",
      "LZMAError\n",
      "RegistryError\n",
      "_GiveupOnFastCopy\n",
      "Error\n",
      "NoSectionError\n",
      "DuplicateSectionError\n",
      "DuplicateOptionError\n",
      "NoOptionError\n",
      "InterpolationError\n",
      "InterpolationMissingOptionError\n",
      "InterpolationSyntaxError\n",
      "InterpolationDepthError\n",
      "ParsingError\n",
      "MissingSectionHeaderError\n",
      "NoIPAddresses\n",
      "BadZipFile\n",
      "LargeZipFile\n",
      "BadEntryPoint\n",
      "NoSuchEntryPoint\n",
      "DuplicateKernelError\n",
      "ErrorDuringImport\n",
      "NotOneValueFound\n",
      "CannotEval\n",
      "OptionError\n",
      "BdbQuit\n",
      "Restart\n",
      "ExceptionPexpect\n",
      "EOF\n",
      "TIMEOUT\n",
      "PtyProcessError\n",
      "FindCmdError\n",
      "HomeDirError\n",
      "ProfileDirError\n",
      "IPythonCoreError\n",
      "TryNext\n",
      "UsageError\n",
      "StdinNotImplementedError\n",
      "InputRejected\n",
      "GetoptError\n",
      "ErrorToken\n",
      "PrefilterError\n",
      "AliasError\n",
      "InvalidAliasError\n",
      "Error\n",
      "InterfaceError\n",
      "DatabaseError\n",
      "InternalError\n",
      "OperationalError\n",
      "ProgrammingError\n",
      "IntegrityError\n",
      "DataError\n",
      "NotSupportedError\n",
      "Warning\n",
      "SpaceInInput\n",
      "DOMException\n",
      "IndexSizeErr\n",
      "DomstringSizeErr\n",
      "HierarchyRequestErr\n",
      "WrongDocumentErr\n",
      "InvalidCharacterErr\n",
      "NoDataAllowedErr\n",
      "NoModificationAllowedErr\n",
      "NotFoundErr\n",
      "NotSupportedErr\n",
      "InuseAttributeErr\n",
      "InvalidStateErr\n",
      "SyntaxErr\n",
      "InvalidModificationErr\n",
      "NamespaceErr\n",
      "InvalidAccessErr\n",
      "ValidationErr\n",
      "ValidationError\n",
      "EditReadOnlyBuffer\n",
      "_Retry\n",
      "InvalidLayoutError\n",
      "HeightIsUnknownError\n",
      "ParserSyntaxError\n",
      "InternalParseError\n",
      "_PositionUpdatingFinished\n",
      "SimpleGetItemNotFound\n",
      "UncaughtAttributeError\n",
      "HasNoContext\n",
      "ParamIssue\n",
      "_JediError\n",
      "InternalError\n",
      "WrongVersion\n",
      "RefactoringError\n",
      "OnErrorLeaf\n",
      "InvalidPythonEnvironment\n",
      "MessageError\n",
      "MessageParseError\n",
      "HeaderParseError\n",
      "BoundaryError\n",
      "MultipartConversionError\n",
      "CharsetError\n",
      "Error\n",
      "HTTPException\n",
      "NotConnected\n",
      "InvalidURL\n",
      "UnknownProtocol\n",
      "UnknownTransferEncoding\n",
      "UnimplementedFileMode\n",
      "IncompleteRead\n",
      "ImproperConnectionState\n",
      "CannotSendRequest\n",
      "CannotSendHeader\n",
      "ResponseNotReady\n",
      "BadStatusLine\n",
      "RemoteDisconnected\n",
      "LineTooLong\n",
      "InteractivelyDefined\n",
      "KillEmbedded\n",
      "Error\n",
      "NoSuchProcess\n",
      "ZombieProcess\n",
      "AccessDenied\n",
      "TimeoutExpired\n",
      "_Ipv6UnsupportedError\n",
      "QueueEmpty\n",
      "QueueFull\n",
      "DebuggerInitializationError\n",
      "ExpatError\n",
      "Error\n",
      "ProtocolError\n",
      "ResponseError\n",
      "Fault\n",
      "ParseBaseException\n",
      "ParseException\n",
      "ParseFatalException\n",
      "ParseSyntaxException\n",
      "RecursiveGrammarException\n",
      "ResolutionError\n",
      "VersionConflict\n",
      "ContextualVersionConflict\n",
      "DistributionNotFound\n",
      "UnknownExtra\n",
      "_Error\n",
      "UnableToResolveVariableException\n",
      "InvalidTypeInArgsException\n"
     ]
    }
   ],
   "source": [
    "import inspect\n",
    "\n",
    "def print_exception_hierarchy(exception_class):\n",
    "    print(exception_class.__name__)\n",
    "    for subclass in exception_class.__subclasses__():\n",
    "        print_exception_hierarchy(subclass)\n",
    "\n",
    "def main():\n",
    "    print_exception_hierarchy(Exception)\n",
    "\n",
    "if __name__ == \"__main__\":\n",
    "    main()"
   ]
  },
  {
   "cell_type": "markdown",
   "id": "14b4a3fe-389d-4eb7-bb1a-0221b26e56a2",
   "metadata": {},
   "source": [
    "---"
   ]
  },
  {
   "cell_type": "markdown",
   "id": "679e5ca6-7186-4fe0-b204-f80156dc1119",
   "metadata": {},
   "source": [
    "Q3. What errors are defined in the ArithmeticError class? Explain any two with an example.  \n",
    "\n",
    "Ans."
   ]
  },
  {
   "cell_type": "markdown",
   "id": "b307df07-6b74-479f-898e-2b4019c8161c",
   "metadata": {},
   "source": [
    "The 'ArithmeticError' class is a subclass of the 'Exception' class and it represents errors that occur during arithmetic operations. The following errors are defined in the ArithmeticError class:  \n",
    "1. ZeroDivisionError: This error occurs when we try to divide a number by zero.\n",
    "\n",
    "Example:"
   ]
  },
  {
   "cell_type": "code",
   "execution_count": 2,
   "id": "fb0afc4d-d470-4a56-a541-ee8cfa4eff24",
   "metadata": {},
   "outputs": [
    {
     "name": "stdout",
     "output_type": "stream",
     "text": [
      "Zero Division Error:  division by zero\n"
     ]
    }
   ],
   "source": [
    "try:\n",
    "    10 / 0\n",
    "except ZeroDivisionError as e:\n",
    "    print(\"Zero Division Error: \",e)"
   ]
  },
  {
   "cell_type": "markdown",
   "id": "0a04f529-87d4-45df-b2f2-015794b4713c",
   "metadata": {},
   "source": [
    "2. FloatingPointError: This error occurs when a floating-point operation fails."
   ]
  },
  {
   "cell_type": "code",
   "execution_count": 3,
   "id": "275a823f-a02b-4210-9e10-c18ea4dc95d8",
   "metadata": {},
   "outputs": [
    {
     "name": "stdout",
     "output_type": "stream",
     "text": [
      "Floating-point operation failed:  float division by zero\n"
     ]
    }
   ],
   "source": [
    "try:\n",
    "    10.5 / 0.0\n",
    "except ArithmeticError as e:\n",
    "    print(\"Floating-point operation failed: \",e)"
   ]
  },
  {
   "cell_type": "markdown",
   "id": "b492f9eb-a53e-4410-a1dc-c433f338056e",
   "metadata": {},
   "source": [
    "---"
   ]
  },
  {
   "cell_type": "markdown",
   "id": "6de069aa-86c3-4a5d-9bb6-75f036c38f75",
   "metadata": {},
   "source": [
    "Q4. Why LookupError class is used? Explain with an example KeyError and IndexError.\n",
    "\n",
    "Ans."
   ]
  },
  {
   "cell_type": "markdown",
   "id": "d4fa5e80-94e2-4943-9acc-2d6a2e6bb650",
   "metadata": {},
   "source": [
    "The 'LookupError' class is a base class for exceptions that occur when a lookup operation fails. This includes errors such as 'KeyError' and 'IndexError'.  \n",
    "The 'LookupError' class is used to provide a common base class for these errors, which makes it easier to handle them in a generic way.  \n",
    "Example:  \n",
    "1. KeyError:"
   ]
  },
  {
   "cell_type": "code",
   "execution_count": 4,
   "id": "e8657fee-d01f-4989-acc1-9e6f97321e2f",
   "metadata": {},
   "outputs": [
    {
     "name": "stdout",
     "output_type": "stream",
     "text": [
      "'age' key not found/ not present\n"
     ]
    }
   ],
   "source": [
    "dictionary = {\"name\": \"Kanishk\"}\n",
    "\n",
    "try:\n",
    "    dictionary[\"age\"]\n",
    "except KeyError as e:\n",
    "    print(f\"{e} key not found/ not present\")"
   ]
  },
  {
   "cell_type": "markdown",
   "id": "1713d9cc-01c0-4ca2-9a14-7cd083b9f2c2",
   "metadata": {},
   "source": [
    "2. IndexError:"
   ]
  },
  {
   "cell_type": "code",
   "execution_count": 5,
   "id": "97f72351-5e59-4c6d-bd38-825d43d86f0e",
   "metadata": {},
   "outputs": [
    {
     "name": "stdout",
     "output_type": "stream",
     "text": [
      "tuple index out of range : Index out of range\n"
     ]
    }
   ],
   "source": [
    "t = (1, 2, 3)\n",
    "\n",
    "try:\n",
    "    print(t[3])\n",
    "except IndexError as e:\n",
    "    print(e,\": Index out of range\")\n"
   ]
  },
  {
   "cell_type": "markdown",
   "id": "6e4b664f-d937-4d69-bf2a-1ad8aef7e268",
   "metadata": {},
   "source": [
    "---"
   ]
  },
  {
   "cell_type": "markdown",
   "id": "fbd38c08-8eb1-42ff-b730-67362559cb23",
   "metadata": {},
   "source": [
    "Q5. Explain ImportError. What is ModuleNotFoundError?\n",
    "\n",
    "Ans."
   ]
  },
  {
   "cell_type": "markdown",
   "id": "9a7759e4-a396-4880-82bc-56bc53921fa1",
   "metadata": {},
   "source": [
    "ImportError: The 'ImportError' exception is raised when Python cannot import a module. "
   ]
  },
  {
   "cell_type": "code",
   "execution_count": 6,
   "id": "62d920ea-af8d-448d-8c13-e7f01174ab01",
   "metadata": {},
   "outputs": [
    {
     "name": "stdout",
     "output_type": "stream",
     "text": [
      "Import Error: No module named 'numpt'\n"
     ]
    }
   ],
   "source": [
    "try:\n",
    "    import numpt\n",
    "except ImportError as e:\n",
    "    print(\"Import Error:\",e)"
   ]
  },
  {
   "cell_type": "markdown",
   "id": "bddd241e-77db-4d0d-836c-272451be9e0f",
   "metadata": {},
   "source": [
    "ModuleNotFoundError: The 'ModuleNotFoundError' is a subclass of the 'ImportError' exception and it is raised specifically when a module cannot be found."
   ]
  },
  {
   "cell_type": "code",
   "execution_count": 7,
   "id": "bf631f8a-7b8b-4d3e-8cac-4e2b220fff7f",
   "metadata": {},
   "outputs": [
    {
     "name": "stdout",
     "output_type": "stream",
     "text": [
      "No module named 'panda'\n"
     ]
    }
   ],
   "source": [
    "try:\n",
    "    import panda\n",
    "except ModuleNotFoundError as e:\n",
    "    print(e)"
   ]
  },
  {
   "cell_type": "markdown",
   "id": "e382678e-7f66-41e4-98f8-0c8f386da30d",
   "metadata": {},
   "source": [
    "---"
   ]
  },
  {
   "cell_type": "markdown",
   "id": "2de808f6-7a6b-4dfc-9963-1a37d5e276c7",
   "metadata": {},
   "source": [
    "Q6. List down some best practices for exception handling in python.\n",
    "\n",
    "Ans."
   ]
  },
  {
   "cell_type": "markdown",
   "id": "66a5010e-9fa9-4e4f-8a47-05af74097c0f",
   "metadata": {},
   "source": [
    "1. Always use 'try' and 'except' blocks. This is the most important best practice for exception handling. The 'try' block contains the code that want to execute, and the 'except' block contains the code that want to execute if an exception is raised.\n",
    "2. Use specific exception types in the 'except' clause. This will help to handle the specific errors that are expecting. For example, we could use the 'ValueError' exception to handle errors that occur when a user enters an invalid value.\n",
    "3. Use the 'else' clause to execute code if no exceptions are raised. The 'else' clause is optional, but it can be useful to execute code that should only be executed if no exceptions are raised. For example, we could use the else clause to print a message that says \"No errors occurred\".\n",
    "4. Use the 'finally' clause to execute code that should always be executed. The 'finally' clause is also optional, but it can be useful to execute code that needs to be executed regardless of whether or not an exception is raised. For example, we could use the 'finally' clause to close a file or release a resource.\n",
    "5. Don't ignore 'exceptions'. Ignoring 'exceptions' is a bad practice because it can lead to errors that are difficult to debug. If we can't handle an 'exception', we should at least 'log' it so that we can investigate it later.\n",
    "6. Use 'custom' exceptions to handle specific errors. 'Custom' exceptions can be useful for handling specific errors that are not handled by the 'built-in' exceptions. For example, we could create a 'custom' exception to handle errors that occur in my code.\n",
    "7. Document the exceptions. It is a good practice to document exceptions so that other developers can understand what the exceptions mean and how they should be handled."
   ]
  },
  {
   "cell_type": "code",
   "execution_count": null,
   "id": "3a06a865-bfe2-4f94-999b-987880f2f65f",
   "metadata": {},
   "outputs": [],
   "source": []
  }
 ],
 "metadata": {
  "kernelspec": {
   "display_name": "Python 3 (ipykernel)",
   "language": "python",
   "name": "python3"
  },
  "language_info": {
   "codemirror_mode": {
    "name": "ipython",
    "version": 3
   },
   "file_extension": ".py",
   "mimetype": "text/x-python",
   "name": "python",
   "nbconvert_exporter": "python",
   "pygments_lexer": "ipython3",
   "version": "3.10.8"
  }
 },
 "nbformat": 4,
 "nbformat_minor": 5
}
