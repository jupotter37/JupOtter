{
 "cells": [
  {
   "cell_type": "raw",
   "id": "004a8fe6-1c62-4224-a5d3-e5f885c81bd7",
   "metadata": {},
   "source": [
    "Q1. What is  Exception in python? Write the difference bettween Exceptions and syntax errors"
   ]
  },
  {
   "cell_type": "raw",
   "id": "24f11e3b-2eae-4a8a-a180-08e29b3ca9af",
   "metadata": {},
   "source": [
    "An exception in Python is an event that occurs during the execution of a program, which disrupts the normal flow of the program's instructions. When an exceptional situation arises, such as an error or an unexpected condition, Python raises an exception to handle the situation gracefully.\n",
    "\n",
    "Exceptions allow programmers to catch and handle errors, perform necessary cleanup tasks, and provide appropriate feedback or error messages to users. They provide a mechanism for handling exceptional cases and preventing program crashes.\n",
    "\n",
    "Common types of exceptions in Python include ZeroDivisionError, TypeError, ValueError, FileNotFoundError, and IndexError, among others. Python also provides the ability to define custom exceptions by creating new classes that inherit from the base Exception class."
   ]
  },
  {
   "cell_type": "raw",
   "id": "34614729-f876-4d76-bf51-4d19ea4edd5f",
   "metadata": {},
   "source": [
    "Syntax Errors:\n",
    "\n",
    "Syntax errors occur when the code violates the rules of the Python language's syntax.\n",
    "They are typically caused by mistakes in the code structure, such as missing colons, parentheses, or incorrect indentation.\n",
    "Syntax errors are detected by the Python interpreter during the parsing phase, before the program execution starts.\n",
    "When a syntax error occurs, the Python interpreter raises a SyntaxError exception and provides information about the location of the error in the code.\n",
    "Exceptions:\n",
    "\n",
    "Exceptions occur during the execution of a program when an error or an exceptional condition arises.\n",
    "They are typically caused by factors such as invalid input, runtime issues, or unexpected behavior.\n",
    "Exceptions can be standard exceptions provided by Python or custom exceptions defined by the programmer.\n",
    "Exceptions can occur at runtime, based on conditions that cannot be identified during the syntax parsing phase.\n",
    "When an exception occurs, Python raises an appropriate exception object, and the program flow is disrupted, searching for an exception handler (try-except block) to handle the exception.\n"
   ]
  },
  {
   "cell_type": "raw",
   "id": "8e3c0c32-e0e2-4d65-b76d-f145947f6500",
   "metadata": {},
   "source": [
    "Q2: What happens when an exception is not handled? Explain with an example."
   ]
  },
  {
   "cell_type": "raw",
   "id": "48ead5ae-48c3-42c7-b050-e89c9b6d27dc",
   "metadata": {},
   "source": [
    "When an exception is not handled in Python, it results in the termination of the program's execution and an error message is displayed. This is known as an \"unhandled exception\" or \"uncaught exception\". The error message provides information about the type of exception that occurred, along with a traceback that shows the sequence of function calls that led to the exception."
   ]
  },
  {
   "cell_type": "code",
   "execution_count": 1,
   "id": "ebe9fc44-92b8-426a-8755-cfc3c5340db7",
   "metadata": {},
   "outputs": [
    {
     "ename": "ZeroDivisionError",
     "evalue": "division by zero",
     "output_type": "error",
     "traceback": [
      "\u001b[0;31m---------------------------------------------------------------------------\u001b[0m",
      "\u001b[0;31mZeroDivisionError\u001b[0m                         Traceback (most recent call last)",
      "Cell \u001b[0;32mIn[1], line 6\u001b[0m\n\u001b[1;32m      3\u001b[0m     \u001b[38;5;28;01mreturn\u001b[39;00m result\n\u001b[1;32m      5\u001b[0m \u001b[38;5;66;03m# Calling the function with invalid input\u001b[39;00m\n\u001b[0;32m----> 6\u001b[0m result \u001b[38;5;241m=\u001b[39m \u001b[43mdivide_numbers\u001b[49m\u001b[43m(\u001b[49m\u001b[38;5;241;43m10\u001b[39;49m\u001b[43m,\u001b[49m\u001b[43m \u001b[49m\u001b[38;5;241;43m0\u001b[39;49m\u001b[43m)\u001b[49m\n\u001b[1;32m      7\u001b[0m \u001b[38;5;28mprint\u001b[39m(result)\n",
      "Cell \u001b[0;32mIn[1], line 2\u001b[0m, in \u001b[0;36mdivide_numbers\u001b[0;34m(x, y)\u001b[0m\n\u001b[1;32m      1\u001b[0m \u001b[38;5;28;01mdef\u001b[39;00m \u001b[38;5;21mdivide_numbers\u001b[39m(x, y):\n\u001b[0;32m----> 2\u001b[0m     result \u001b[38;5;241m=\u001b[39m \u001b[43mx\u001b[49m\u001b[43m \u001b[49m\u001b[38;5;241;43m/\u001b[39;49m\u001b[43m \u001b[49m\u001b[43my\u001b[49m\n\u001b[1;32m      3\u001b[0m     \u001b[38;5;28;01mreturn\u001b[39;00m result\n",
      "\u001b[0;31mZeroDivisionError\u001b[0m: division by zero"
     ]
    }
   ],
   "source": [
    "def divide_numbers(x, y):\n",
    "    result = x / y\n",
    "    return result\n",
    "\n",
    "# Calling the function with invalid input\n",
    "result = divide_numbers(10, 0)\n",
    "print(result)\n"
   ]
  },
  {
   "cell_type": "code",
   "execution_count": 2,
   "id": "c81d9276-ac6a-4ddd-aa92-c5e59c0dfe6f",
   "metadata": {},
   "outputs": [
    {
     "name": "stdout",
     "output_type": "stream",
     "text": [
      "Error: Division by zero is not allowed.\n",
      "None\n"
     ]
    }
   ],
   "source": [
    "def divide_numbers(x, y):\n",
    "    try:\n",
    "        result = x / y\n",
    "        return result\n",
    "    except ZeroDivisionError:\n",
    "        print(\"Error: Division by zero is not allowed.\")\n",
    "\n",
    "# Calling the function with invalid input\n",
    "result = divide_numbers(10, 0)\n",
    "print(result)  # This line is not executed due to the exception\n"
   ]
  },
  {
   "cell_type": "raw",
   "id": "cf193123-c163-4e1e-b3d7-9ddc7d6778a8",
   "metadata": {},
   "source": [
    "\n",
    "Q3: Which Python statements are used to raise and handle exceptions? Explain with an example."
   ]
  },
  {
   "cell_type": "raw",
   "id": "376f5f44-065f-40c5-ae94-d6c3e392ffd2",
   "metadata": {},
   "source": [
    "The try-except Statement:\n",
    "The try-except statement is used to handle exceptions and provides a way to gracefully recover from exceptional situations. The code that may raise an exception is placed inside the try block. If an exception occurs within the try block, the corresponding except block is executed. Here's an example:"
   ]
  },
  {
   "cell_type": "code",
   "execution_count": 3,
   "id": "ab37d07d-2bf5-421b-8cfe-30ad43c2c898",
   "metadata": {},
   "outputs": [
    {
     "name": "stdout",
     "output_type": "stream",
     "text": [
      "Error: Division by zero is not allowed.\n",
      "None\n"
     ]
    }
   ],
   "source": [
    "def divide_numbers(x, y):\n",
    "    try:\n",
    "        result = x / y\n",
    "        return result\n",
    "    except ZeroDivisionError:\n",
    "        print(\"Error: Division by zero is not allowed.\")\n",
    "\n",
    "# Calling the function\n",
    "result = divide_numbers(10, 0)\n",
    "print(result)  # This line is not executed due to the exception\n"
   ]
  },
  {
   "cell_type": "raw",
   "id": "af5ca753-a6a4-4b43-8c98-b35b065278f4",
   "metadata": {},
   "source": [
    "Both the raise and try-except statements are important tools for working with exceptions in Python. The raise statement allows you to raise exceptions explicitly, signaling exceptional conditions. The try-except statement provides a structured way to handle exceptions, allowing you to catch and handle specific exceptions, perform cleanup tasks, or provide appropriate feedback to the user."
   ]
  },
  {
   "cell_type": "raw",
   "id": "539bc2c0-9b0e-4121-99a7-f31ccf37ff62",
   "metadata": {},
   "source": [
    "Q4: Explain with an example: try, except, else, and finally statements."
   ]
  },
  {
   "cell_type": "code",
   "execution_count": 4,
   "id": "22f99ffd-0f78-4780-9899-f54c04ff7f60",
   "metadata": {},
   "outputs": [
    {
     "name": "stdout",
     "output_type": "stream",
     "text": [
      "The division result is: 2.0\n",
      "Division operation complete.\n",
      "Error: Division by zero is not allowed.\n",
      "Division operation complete.\n"
     ]
    }
   ],
   "source": [
    "def divide_numbers(x, y):\n",
    "    try:\n",
    "        result = x / y\n",
    "    except ZeroDivisionError:\n",
    "        print(\"Error: Division by zero is not allowed.\")\n",
    "    else:\n",
    "        print(\"The division result is:\", result)\n",
    "    finally:\n",
    "        print(\"Division operation complete.\")\n",
    "\n",
    "# Calling the function\n",
    "divide_numbers(10, 5)\n",
    "divide_numbers(10, 0)\n"
   ]
  },
  {
   "cell_type": "raw",
   "id": "e99f5d0f-e157-4697-b50f-de4b0c1db1f6",
   "metadata": {},
   "source": [
    "try block:\n",
    "The code that may raise an exception is placed inside the try block. In this case, the division operation is performed within the try block.\n",
    "\n",
    "except block:\n",
    "The except block is used to catch and handle specific exceptions. In this example, we catch the ZeroDivisionError and print an error message when division by zero occurs.\n",
    "\n",
    "else block:\n",
    "The else block is executed only if no exception occurs within the try block. It is useful for performing additional operations that should run when no exceptions are raised. In this example, we print the division result when the division is successful.\n",
    "\n",
    "finally block:\n",
    "The finally block is always executed, regardless of whether an exception occurred or not. It is commonly used to perform cleanup operations or release resources. In this example, we print a message indicating that the division operation is complete."
   ]
  },
  {
   "cell_type": "raw",
   "id": "d8f2283b-4c4e-43b2-92e2-63a953c635b8",
   "metadata": {},
   "source": [
    "Q5: What are Custom Exceptions in Python? Why do we need Custom Exceptions? Explain with an example."
   ]
  },
  {
   "cell_type": "raw",
   "id": "2d675e14-8dec-432b-9efe-2f48deacb9cb",
   "metadata": {},
   "source": [
    "Custom exceptions in Python are user-defined exception classes that inherit from the base Exception class or its subclasses. They allow programmers to define their own exceptional conditions and provide specialized error handling for specific scenarios in their code."
   ]
  },
  {
   "cell_type": "code",
   "execution_count": 6,
   "id": "89fe0c94-549a-4109-b146-039d202903c3",
   "metadata": {},
   "outputs": [
    {
     "name": "stdin",
     "output_type": "stream",
     "text": [
      "Enter a number:  gull4\n"
     ]
    },
    {
     "name": "stdout",
     "output_type": "stream",
     "text": [
      "Invalid input. Expected a numeric value.\n"
     ]
    }
   ],
   "source": [
    "class InvalidInputError(Exception):\n",
    "    pass\n",
    "\n",
    "def process_input(value):\n",
    "    if not value.isnumeric():\n",
    "        raise InvalidInputError(\"Invalid input. Expected a numeric value.\")\n",
    "\n",
    "    # Rest of the code to process the input\n",
    "\n",
    "\n",
    "# Usage of the custom exception\n",
    "user_input = input(\"Enter a number: \")\n",
    "try:\n",
    "    process_input(user_input)\n",
    "except InvalidInputError as error:\n",
    "    print(error)\n"
   ]
  },
  {
   "cell_type": "raw",
   "id": "8076e3fa-b530-461a-bdca-741616d196ad",
   "metadata": {},
   "source": [
    "Specific Error Handling: Custom exceptions allow us to define specialized error handling for specific scenarios in our code. We can catch and handle these exceptions differently from built-in exceptions, providing more specific and meaningful error messages to users.\n",
    "\n",
    "Code Readability and Maintainability: By creating custom exceptions, we can make our code more readable and maintainable. Custom exceptions provide a clear and explicit way to communicate exceptional conditions and handle them appropriately. They also help in separating error handling logic from the main code, enhancing code organization.\n",
    "\n",
    "Modularity and Reusability: Custom exceptions promote modularity and reusability in code. We can define custom exceptions once and reuse them across multiple parts of our codebase or in different projects. This saves time and effort, as we don't have to redefine error handling logic for similar exceptional situations."
   ]
  },
  {
   "cell_type": "raw",
   "id": "b3f0e0e6-f204-4daa-8021-1b61a44ba742",
   "metadata": {},
   "source": [
    "q6)creating a custom exception class and using it to handle an exception"
   ]
  },
  {
   "cell_type": "code",
   "execution_count": 7,
   "id": "b0e9a033-2544-44db-901e-ff3bd29bb408",
   "metadata": {},
   "outputs": [
    {
     "name": "stdout",
     "output_type": "stream",
     "text": [
      "2.0\n",
      "CustomException caught: Cannot divide by zero.\n"
     ]
    }
   ],
   "source": [
    "class CustomException(Exception):\n",
    "    pass\n",
    "\n",
    "\n",
    "def divide_numbers(x, y):\n",
    "    try:\n",
    "        if y == 0:\n",
    "            raise CustomException(\"Cannot divide by zero.\")\n",
    "        result = x / y\n",
    "        return result\n",
    "    except CustomException as error:\n",
    "        print(\"CustomException caught:\", error)\n",
    "\n",
    "\n",
    "# Example usage\n",
    "result = divide_numbers(10, 5)\n",
    "print(result)\n",
    "\n",
    "result = divide_numbers(10, 0)\n"
   ]
  },
  {
   "cell_type": "code",
   "execution_count": null,
   "id": "26ff2f08-e803-4eb0-a4d1-2e6c13ef5b48",
   "metadata": {},
   "outputs": [],
   "source": []
  }
 ],
 "metadata": {
  "kernelspec": {
   "display_name": "Python 3 (ipykernel)",
   "language": "python",
   "name": "python3"
  },
  "language_info": {
   "codemirror_mode": {
    "name": "ipython",
    "version": 3
   },
   "file_extension": ".py",
   "mimetype": "text/x-python",
   "name": "python",
   "nbconvert_exporter": "python",
   "pygments_lexer": "ipython3",
   "version": "3.10.8"
  }
 },
 "nbformat": 4,
 "nbformat_minor": 5
}
