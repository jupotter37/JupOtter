{
 "cells": [
  {
   "cell_type": "markdown",
   "id": "cab8133e",
   "metadata": {},
   "source": [
    "# string"
   ]
  },
  {
   "cell_type": "code",
   "execution_count": 1,
   "id": "8a1ded26",
   "metadata": {
    "scrolled": true
   },
   "outputs": [
    {
     "ename": "SyntaxError",
     "evalue": "invalid syntax (2016864882.py, line 1)",
     "output_type": "error",
     "traceback": [
      "\u001b[1;36m  Input \u001b[1;32mIn [1]\u001b[1;36m\u001b[0m\n\u001b[1;33m    something = 'he's a good boy'\u001b[0m\n\u001b[1;37m                    ^\u001b[0m\n\u001b[1;31mSyntaxError\u001b[0m\u001b[1;31m:\u001b[0m invalid syntax\n"
     ]
    }
   ],
   "source": [
    "something = 'he's a good boy'\n",
    "\n",
    "print(something)"
   ]
  },
  {
   "cell_type": "code",
   "execution_count": 50,
   "id": "1494b0a5",
   "metadata": {},
   "outputs": [
    {
     "name": "stdout",
     "output_type": "stream",
     "text": [
      "he's a good boy\n"
     ]
    }
   ],
   "source": [
    "string2 ='he\\'s a good boy'\n",
    "\n",
    "print(string2)"
   ]
  },
  {
   "cell_type": "code",
   "execution_count": 7,
   "id": "0eaff01c",
   "metadata": {},
   "outputs": [
    {
     "name": "stdout",
     "output_type": "stream",
     "text": [
      "this \n",
      "is \n",
      "a \n",
      "multiline \n",
      "string\n"
     ]
    }
   ],
   "source": [
    "mul_line = \"\"\"this \n",
    "is \n",
    "a \n",
    "multiline \n",
    "string\"\"\"\n",
    "\n",
    "print(mul_line)"
   ]
  },
  {
   "cell_type": "code",
   "execution_count": 8,
   "id": "d7d4d59b",
   "metadata": {},
   "outputs": [],
   "source": [
    "#concatination"
   ]
  },
  {
   "cell_type": "code",
   "execution_count": 9,
   "id": "5303132e",
   "metadata": {},
   "outputs": [
    {
     "name": "stdout",
     "output_type": "stream",
     "text": [
      "hi my name is talha\n"
     ]
    }
   ],
   "source": [
    "str1 = \"hi my name \"\n",
    "str2 = \"is talha\"\n",
    "str3 = str1 + str2\n",
    "print(str3)"
   ]
  },
  {
   "cell_type": "markdown",
   "id": "119f114b",
   "metadata": {},
   "source": [
    "# string methods"
   ]
  },
  {
   "cell_type": "code",
   "execution_count": 13,
   "id": "9258ca96",
   "metadata": {},
   "outputs": [
    {
     "name": "stdout",
     "output_type": "stream",
     "text": [
      "MY NAME IS TALHA\n",
      "my name is talha\n"
     ]
    }
   ],
   "source": [
    "name = \"my name is talha\"\n",
    "\n",
    "print(name.upper())\n",
    "print(name.lower())\n"
   ]
  },
  {
   "cell_type": "code",
   "execution_count": 15,
   "id": "78704dcd",
   "metadata": {},
   "outputs": [],
   "source": [
    "# to know all  the string commands use \n",
    "\n",
    "dir(name)"
   ]
  },
  {
   "cell_type": "code",
   "execution_count": 19,
   "id": "a33bd078",
   "metadata": {},
   "outputs": [
    {
     "name": "stdout",
     "output_type": "stream",
     "text": [
      "Help on built-in function upper:\n",
      "\n",
      "upper() method of builtins.str instance\n",
      "    Return a copy of the string converted to uppercase.\n",
      "\n"
     ]
    }
   ],
   "source": [
    "#asking python for help \n",
    "\n",
    "help(name.upper)"
   ]
  },
  {
   "cell_type": "code",
   "execution_count": 20,
   "id": "622965e1",
   "metadata": {},
   "outputs": [
    {
     "data": {
      "text/plain": [
       "str"
      ]
     },
     "execution_count": 20,
     "metadata": {},
     "output_type": "execute_result"
    }
   ],
   "source": [
    "type(name)"
   ]
  },
  {
   "cell_type": "markdown",
   "id": "044e07e4",
   "metadata": {},
   "source": [
    "# #string slicing"
   ]
  },
  {
   "cell_type": "code",
   "execution_count": 21,
   "id": "36447afa",
   "metadata": {},
   "outputs": [],
   "source": [
    "country = \"my country is Pakistan\""
   ]
  },
  {
   "cell_type": "code",
   "execution_count": 22,
   "id": "f299904e",
   "metadata": {},
   "outputs": [
    {
     "name": "stdout",
     "output_type": "stream",
     "text": [
      "my country\n"
     ]
    }
   ],
   "source": [
    "print(country[0:10])"
   ]
  },
  {
   "cell_type": "code",
   "execution_count": 24,
   "id": "b2819892",
   "metadata": {},
   "outputs": [
    {
     "name": "stdout",
     "output_type": "stream",
     "text": [
      "my country\n"
     ]
    }
   ],
   "source": [
    "print(country[0:-12])"
   ]
  },
  {
   "cell_type": "code",
   "execution_count": 25,
   "id": "d666d182",
   "metadata": {},
   "outputs": [
    {
     "name": "stdout",
     "output_type": "stream",
     "text": [
      "my country is Pakistan\n"
     ]
    }
   ],
   "source": [
    "print(country[0:])"
   ]
  },
  {
   "cell_type": "code",
   "execution_count": 26,
   "id": "843cab5c",
   "metadata": {},
   "outputs": [
    {
     "name": "stdout",
     "output_type": "stream",
     "text": [
      "my country is Pakista\n"
     ]
    }
   ],
   "source": [
    "print(country[:-1])"
   ]
  },
  {
   "cell_type": "code",
   "execution_count": 27,
   "id": "64364b83",
   "metadata": {},
   "outputs": [
    {
     "name": "stdout",
     "output_type": "stream",
     "text": [
      "y\n"
     ]
    }
   ],
   "source": [
    "print(country[1])"
   ]
  },
  {
   "cell_type": "markdown",
   "id": "20719978",
   "metadata": {},
   "source": [
    "# string formating aka substitution"
   ]
  },
  {
   "cell_type": "code",
   "execution_count": 29,
   "id": "23b58342",
   "metadata": {},
   "outputs": [
    {
     "data": {
      "text/plain": [
       "'I like Python'"
      ]
     },
     "execution_count": 29,
     "metadata": {},
     "output_type": "execute_result"
    }
   ],
   "source": [
    "my_string = \"I like %s\" % \"Python\"\n",
    "\n",
    "my_string"
   ]
  },
  {
   "cell_type": "code",
   "execution_count": 31,
   "id": "be1bd572",
   "metadata": {},
   "outputs": [
    {
     "data": {
      "text/plain": [
       "'I like cookies'"
      ]
     },
     "execution_count": 31,
     "metadata": {},
     "output_type": "execute_result"
    }
   ],
   "source": [
    "var = \"cookies\"\n",
    "newString = \"I like %s\" % var\n",
    "newString"
   ]
  },
  {
   "cell_type": "code",
   "execution_count": 32,
   "id": "907e4da5",
   "metadata": {},
   "outputs": [
    {
     "data": {
      "text/plain": [
       "'my name is my name is talha'"
      ]
     },
     "execution_count": 32,
     "metadata": {},
     "output_type": "execute_result"
    }
   ],
   "source": [
    "me = \"my name is %s\" %name\n",
    "me"
   ]
  },
  {
   "cell_type": "code",
   "execution_count": 33,
   "id": "27c3f959",
   "metadata": {},
   "outputs": [
    {
     "name": "stdout",
     "output_type": "stream",
     "text": [
      "Python is fun!\n"
     ]
    }
   ],
   "source": [
    "#modern way !!\n",
    "\n",
    "print(\"%(lang)s is fun!\" % {\"lang\":\"Python\"})"
   ]
  },
  {
   "cell_type": "code",
   "execution_count": 34,
   "id": "5e83538d",
   "metadata": {},
   "outputs": [
    {
     "name": "stdout",
     "output_type": "stream",
     "text": [
      "Mustang is a great car\n"
     ]
    }
   ],
   "source": [
    "\n",
    "print(\"%(car)s is a great car\" %{\"car\": \"Mustang\"})"
   ]
  },
  {
   "cell_type": "code",
   "execution_count": 36,
   "id": "03d15b8e",
   "metadata": {},
   "outputs": [
    {
     "name": "stdout",
     "output_type": "stream",
     "text": [
      "1 plus 2 equals to 3\n"
     ]
    }
   ],
   "source": [
    "print(\"%(x)s plus %(y)s equals to %(z)s\" %{\"x\" : 1 , \"y\" : 2 , \"z\" : 3})"
   ]
  },
  {
   "cell_type": "code",
   "execution_count": 37,
   "id": "10b7b7eb",
   "metadata": {},
   "outputs": [
    {
     "data": {
      "text/plain": [
       "'Python is as simple as a, b, c'"
      ]
     },
     "execution_count": 37,
     "metadata": {},
     "output_type": "execute_result"
    }
   ],
   "source": [
    "# another way is by using format method \n",
    "\n",
    "# the format replaces the {} with a specified value for example ...\n",
    "\n",
    "\"Python is as simple as {0}, {1}, {2}\".format(\"a\", \"b\", \"c\")"
   ]
  },
  {
   "cell_type": "code",
   "execution_count": 41,
   "id": "eaa0cec8",
   "metadata": {},
   "outputs": [
    {
     "name": "stdout",
     "output_type": "stream",
     "text": [
      "Graph a point at where x=0 and y=10\n"
     ]
    }
   ],
   "source": [
    "xy = {\"x\":0, \"y\":10}\n",
    "print(\"Graph a point at where x={x} and y={y}\".format(**xy))"
   ]
  },
  {
   "cell_type": "markdown",
   "id": "c256fa78",
   "metadata": {},
   "source": [
    "# lists"
   ]
  },
  {
   "cell_type": "code",
   "execution_count": 44,
   "id": "1cc8cc3c",
   "metadata": {},
   "outputs": [],
   "source": [
    "#creating an empty list \n",
    "\n",
    "my_list = []\n",
    "\n",
    "#or\n",
    "\n",
    "#my_list = list()"
   ]
  },
  {
   "cell_type": "code",
   "execution_count": 45,
   "id": "600a5494",
   "metadata": {},
   "outputs": [
    {
     "name": "stdout",
     "output_type": "stream",
     "text": [
      "[[1, 2, 3], ['a', 'b', 'c'], ['a', 1, 'Python', 5]]\n"
     ]
    }
   ],
   "source": [
    "#You can also create lists of lists like this:\n",
    "\n",
    "my_list = [1, 2, 3]\n",
    "\n",
    "my_list2 = [\"a\", \"b\", \"c\"]\n",
    "\n",
    "my_list3 = [\"a\", 1, \"Python\", 5]\n",
    "\n",
    "my_nested_list = [my_list, my_list2, my_list3]\n",
    "\n",
    "print(my_nested_list)"
   ]
  },
  {
   "cell_type": "code",
   "execution_count": 46,
   "id": "741baef2",
   "metadata": {},
   "outputs": [],
   "source": [
    "# methods"
   ]
  },
  {
   "cell_type": "code",
   "execution_count": 49,
   "id": "64b8f564",
   "metadata": {},
   "outputs": [
    {
     "data": {
      "text/plain": [
       "[3, 4, 5]"
      ]
     },
     "execution_count": 49,
     "metadata": {},
     "output_type": "execute_result"
    }
   ],
   "source": [
    "combo_list = [3]\n",
    "\n",
    "one_list = [4,5]\n",
    "\n",
    "combo_list.extend(one_list)\n",
    "\n",
    "combo_list"
   ]
  },
  {
   "cell_type": "code",
   "execution_count": 9,
   "id": "c010c9b1",
   "metadata": {},
   "outputs": [
    {
     "data": {
      "text/plain": [
       "[8, 32, 56, 65, 654, 685, 874]"
      ]
     },
     "execution_count": 9,
     "metadata": {},
     "output_type": "execute_result"
    }
   ],
   "source": [
    "#sorting\n",
    "sorted_list = [32,56,65,874,685,654,8]\n",
    "\n",
    "sorted_list.sort()\n",
    "\n",
    "sorted_list\n",
    "\n"
   ]
  },
  {
   "cell_type": "code",
   "execution_count": null,
   "id": "a4b400b4",
   "metadata": {},
   "outputs": [],
   "source": [
    "print(sorted_list.sort())"
   ]
  },
  {
   "cell_type": "markdown",
   "id": "536dc06f",
   "metadata": {},
   "source": [
    "In this example, if we try to assign\n",
    "the sorted list to a variable.\n",
    "\n",
    "However, when you call the sort()\n",
    "\n",
    "method on a list, it sorts the list in-\n",
    "place. So if we try to assign the result\n",
    "\n",
    "to another variable, then we'll find\n",
    "out that we'll get a None object,\n",
    "which is like a Null in other\n",
    "languages.\n",
    "\n",
    "Thus when we want to sort\n",
    "something, just remember that we\n",
    "sort them in-place and we cannot\n",
    "assign it to a different variable."
   ]
  },
  {
   "cell_type": "code",
   "execution_count": 25,
   "id": "b874458c",
   "metadata": {},
   "outputs": [
    {
     "data": {
      "text/plain": [
       "2"
      ]
     },
     "execution_count": 25,
     "metadata": {},
     "output_type": "execute_result"
    }
   ],
   "source": [
    "#list in a tuple\n",
    "\n",
    "my_tup = ([1,2,3])\n",
    "\n",
    "my_tup\n",
    "\n",
    "my_tup[1]"
   ]
  },
  {
   "cell_type": "markdown",
   "id": "673d1161",
   "metadata": {},
   "source": [
    "# dictionaries"
   ]
  },
  {
   "cell_type": "code",
   "execution_count": 10,
   "id": "c6b631aa",
   "metadata": {},
   "outputs": [],
   "source": [
    "#empty dictionaries\n",
    "\n",
    "my_dict = {}"
   ]
  },
  {
   "cell_type": "code",
   "execution_count": 11,
   "id": "30619301",
   "metadata": {},
   "outputs": [],
   "source": [
    "my_data = {\"name\": \"talha\" , \"age\":21 , \"caste\" : \"pakhtoon\"}"
   ]
  },
  {
   "cell_type": "code",
   "execution_count": 12,
   "id": "99d1efa8",
   "metadata": {},
   "outputs": [
    {
     "data": {
      "text/plain": [
       "{'name': 'talha', 'age': 21, 'caste': 'pakhtoon'}"
      ]
     },
     "execution_count": 12,
     "metadata": {},
     "output_type": "execute_result"
    }
   ],
   "source": [
    "my_data"
   ]
  },
  {
   "cell_type": "code",
   "execution_count": 14,
   "id": "6b13c1aa",
   "metadata": {},
   "outputs": [
    {
     "data": {
      "text/plain": [
       "'talha'"
      ]
     },
     "execution_count": 14,
     "metadata": {},
     "output_type": "execute_result"
    }
   ],
   "source": [
    "my_data[\"name\"]"
   ]
  },
  {
   "cell_type": "code",
   "execution_count": 16,
   "id": "90d16434",
   "metadata": {},
   "outputs": [
    {
     "data": {
      "text/plain": [
       "dict_keys(['name', 'age', 'caste'])"
      ]
     },
     "execution_count": 16,
     "metadata": {},
     "output_type": "execute_result"
    }
   ],
   "source": [
    "my_data.keys()"
   ]
  },
  {
   "cell_type": "code",
   "execution_count": 17,
   "id": "4d2b0f1c",
   "metadata": {},
   "outputs": [
    {
     "data": {
      "text/plain": [
       "dict_values(['talha', 21, 'pakhtoon'])"
      ]
     },
     "execution_count": 17,
     "metadata": {},
     "output_type": "execute_result"
    }
   ],
   "source": [
    "my_data.values()"
   ]
  },
  {
   "cell_type": "code",
   "execution_count": 20,
   "id": "c87591b6",
   "metadata": {},
   "outputs": [
    {
     "data": {
      "text/plain": [
       "True"
      ]
     },
     "execution_count": 20,
     "metadata": {},
     "output_type": "execute_result"
    }
   ],
   "source": [
    "\"age\" in my_data  #true or false \n"
   ]
  },
  {
   "cell_type": "markdown",
   "id": "8c1a4505",
   "metadata": {},
   "source": [
    "# conditionals "
   ]
  },
  {
   "cell_type": "code",
   "execution_count": 27,
   "id": "ff5b66ff",
   "metadata": {},
   "outputs": [
    {
     "name": "stdout",
     "output_type": "stream",
     "text": [
      "This is True!\n"
     ]
    }
   ],
   "source": [
    "my_list = [1, 2, 3, 4]\n",
    "x = 10\n",
    "z = 11\n",
    "if x not in my_list and z != 10:\n",
    "    print(\"This is True!\")"
   ]
  },
  {
   "cell_type": "code",
   "execution_count": 37,
   "id": "fa00cd50",
   "metadata": {},
   "outputs": [],
   "source": [
    "#comparing a tuple and list \n",
    "lis = [1,2,3]\n",
    "\n",
    "tup = (1,2,3)\n",
    "\n",
    "xyz = \"1,2,3\"\n",
    "\n",
    "if abc == cde  :\n",
    "    print(\"its equal \")\n"
   ]
  },
  {
   "cell_type": "code",
   "execution_count": 38,
   "id": "0dd95701",
   "metadata": {},
   "outputs": [
    {
     "name": "stdout",
     "output_type": "stream",
     "text": [
      "i am test \t tab\n"
     ]
    }
   ],
   "source": [
    "print(\"i am test \\t tab\") "
   ]
  },
  {
   "cell_type": "code",
   "execution_count": null,
   "id": "459761e7",
   "metadata": {},
   "outputs": [],
   "source": []
  },
  {
   "cell_type": "markdown",
   "id": "dfa97636",
   "metadata": {},
   "source": [
    "loops // range"
   ]
  },
  {
   "cell_type": "code",
   "execution_count": 39,
   "id": "641f3c14",
   "metadata": {},
   "outputs": [
    {
     "name": "stdout",
     "output_type": "stream",
     "text": [
      "0\n",
      "1\n",
      "2\n",
      "3\n",
      "4\n",
      "5\n"
     ]
    }
   ],
   "source": [
    "for numbers in range(6):\n",
    "    print(numbers)"
   ]
  },
  {
   "cell_type": "code",
   "execution_count": 51,
   "id": "d01de9af",
   "metadata": {},
   "outputs": [
    {
     "name": "stdout",
     "output_type": "stream",
     "text": [
      "name\n",
      "age\n",
      "caste\n"
     ]
    }
   ],
   "source": [
    "#my data is defined in dictionary section\n",
    "\n",
    "for key in my_data:\n",
    "    print(key)"
   ]
  },
  {
   "cell_type": "code",
   "execution_count": 52,
   "id": "53144f49",
   "metadata": {},
   "outputs": [
    {
     "name": "stdout",
     "output_type": "stream",
     "text": [
      "name\n",
      "age\n",
      "caste\n"
     ]
    }
   ],
   "source": [
    "\n",
    "for values in my_data:\n",
    "    print(values)"
   ]
  },
  {
   "cell_type": "markdown",
   "id": "b0d89479",
   "metadata": {},
   "source": [
    "the \"key\" and \"values\" are just variables here it can be anything !!  "
   ]
  },
  {
   "cell_type": "code",
   "execution_count": 56,
   "id": "49835666",
   "metadata": {},
   "outputs": [
    {
     "name": "stdout",
     "output_type": "stream",
     "text": [
      "0\n",
      "1\n",
      "2\n",
      "3\n",
      "4\n"
     ]
    }
   ],
   "source": [
    "i = 0\n",
    "\n",
    "while i<10:\n",
    "    print(i)\n",
    "    i+=1\n",
    "    if(i==5):\n",
    "        break\n",
    "    "
   ]
  },
  {
   "cell_type": "markdown",
   "id": "78614528",
   "metadata": {},
   "source": [
    "# comprehension\n"
   ]
  },
  {
   "cell_type": "code",
   "execution_count": 60,
   "id": "874b245a",
   "metadata": {},
   "outputs": [],
   "source": [
    "# lists comprehension\n",
    "\n",
    "x = [i for i in range(10)]\n"
   ]
  },
  {
   "cell_type": "code",
   "execution_count": 61,
   "id": "e241a445",
   "metadata": {},
   "outputs": [
    {
     "name": "stdout",
     "output_type": "stream",
     "text": [
      "[0, 1, 2, 3, 4, 5, 6, 7, 8, 9]\n"
     ]
    }
   ],
   "source": [
    "print(x)"
   ]
  },
  {
   "cell_type": "code",
   "execution_count": 68,
   "id": "4b7687c1",
   "metadata": {},
   "outputs": [
    {
     "name": "stdout",
     "output_type": "stream",
     "text": [
      "[1, 2, 3]\n",
      "<class 'int'>\n"
     ]
    }
   ],
   "source": [
    "#casting strings into integers \n",
    "\n",
    "a = [\"1\",\"2\",\"3\"]\n",
    "\n",
    "int_a = [int(i) for i in a ]\n",
    "\n",
    "print(int_a)\n",
    "\n",
    "print(type(int_a[1]))"
   ]
  },
  {
   "cell_type": "code",
   "execution_count": 2,
   "id": "ede528b7",
   "metadata": {},
   "outputs": [
    {
     "data": {
      "text/plain": [
       "'hello my name is talha'"
      ]
     },
     "execution_count": 2,
     "metadata": {},
     "output_type": "execute_result"
    }
   ],
   "source": [
    "myname  = \"hello my name is talha\"\n",
    "\n",
    "myname.strip()"
   ]
  },
  {
   "cell_type": "code",
   "execution_count": 4,
   "id": "254bd4ac",
   "metadata": {},
   "outputs": [
    {
     "data": {
      "text/plain": [
       "'banana'"
      ]
     },
     "execution_count": 4,
     "metadata": {},
     "output_type": "execute_result"
    }
   ],
   "source": [
    "txt = \",,,,,11222.....banana....444\"\n",
    "x = txt.strip(\",1432.\")  # Note: all .strip(\"1,234.\"), .strip(\"41,.2\") etc will give same result\n",
    "x"
   ]
  },
  {
   "cell_type": "code",
   "execution_count": 72,
   "id": "d4dcc812",
   "metadata": {},
   "outputs": [
    {
     "data": {
      "text/plain": [
       "[1, 2, 3, 4, 5, 6, 7, 8, 9]"
      ]
     },
     "execution_count": 72,
     "metadata": {},
     "output_type": "execute_result"
    }
   ],
   "source": [
    "#nested list \n",
    "\n",
    "list = [[1,2,3], [4,5,6], [7,8,9]]\n",
    "[num for elem in list for num in elem]"
   ]
  },
  {
   "cell_type": "code",
   "execution_count": 79,
   "id": "e463f08e",
   "metadata": {},
   "outputs": [
    {
     "name": "stdout",
     "output_type": "stream",
     "text": [
      "{'dog': 1, 'cat': 2, 'horse': 3}\n"
     ]
    }
   ],
   "source": [
    "#dicts\n",
    "\n",
    "my_dict = {1:\"dog\", 2:\"cat\", 3:\"horse\"}\n",
    "\n",
    "print( {value:key for key, value in my_dict.items()} )"
   ]
  },
  {
   "cell_type": "code",
   "execution_count": 80,
   "id": "f9656dc9",
   "metadata": {},
   "outputs": [
    {
     "data": {
      "text/plain": [
       "{1, 2, 3, 4, 5, 6}"
      ]
     },
     "execution_count": 80,
     "metadata": {},
     "output_type": "execute_result"
    }
   ],
   "source": [
    "# set (having only unique values )\n",
    "\n",
    "myList = [1,2,3,4,5,5,6]\n",
    "\n",
    "mySet = set(myList)\n",
    "\n",
    "mySet\n",
    "\n"
   ]
  },
  {
   "cell_type": "code",
   "execution_count": 82,
   "id": "960ddf17",
   "metadata": {},
   "outputs": [
    {
     "data": {
      "text/plain": [
       "{1, 2, 3, 4, 5, 7, 8}"
      ]
     },
     "execution_count": 82,
     "metadata": {},
     "output_type": "execute_result"
    }
   ],
   "source": [
    " #another way -> note that we used curly braces for set comprehension  \n",
    "    \n",
    "my_list = [1, 2, 2, 3, 4, 5, 5, 7, 8]\n",
    "my_set = {x for x in my_list}\n",
    "my_set"
   ]
  },
  {
   "cell_type": "markdown",
   "id": "3137924a",
   "metadata": {},
   "source": [
    "# exception handling"
   ]
  },
  {
   "cell_type": "code",
   "execution_count": 88,
   "id": "7cf1fa04",
   "metadata": {},
   "outputs": [
    {
     "ename": "ZeroDivisionError",
     "evalue": "division by zero",
     "output_type": "error",
     "traceback": [
      "\u001b[1;31m---------------------------------------------------------------------------\u001b[0m",
      "\u001b[1;31mZeroDivisionError\u001b[0m                         Traceback (most recent call last)",
      "Input \u001b[1;32mIn [88]\u001b[0m, in \u001b[0;36m<cell line: 1>\u001b[1;34m()\u001b[0m\n\u001b[1;32m----> 1\u001b[0m \u001b[38;5;241;43m1\u001b[39;49m\u001b[38;5;241;43m/\u001b[39;49m\u001b[38;5;241;43m0\u001b[39;49m\n",
      "\u001b[1;31mZeroDivisionError\u001b[0m: division by zero"
     ]
    }
   ],
   "source": [
    "1/0"
   ]
  },
  {
   "cell_type": "code",
   "execution_count": 89,
   "id": "2126cc82",
   "metadata": {},
   "outputs": [],
   "source": [
    "try :\n",
    "    1/0\n",
    "except ZeroDivisionError:\n",
    "    print(\"you cannot divide by 0\")"
   ]
  },
  {
   "cell_type": "code",
   "execution_count": 92,
   "id": "6e04843d",
   "metadata": {},
   "outputs": [
    {
     "name": "stdout",
     "output_type": "stream",
     "text": [
      "dishkum tanra\n"
     ]
    }
   ],
   "source": [
    "# bare excepts -> it will catch all the errors (not recommended)\n",
    "\n",
    "try : \n",
    "    1/0\n",
    "except:\n",
    "    print(\"dishkum tanra\")"
   ]
  },
  {
   "cell_type": "code",
   "execution_count": 99,
   "id": "1a4e68d9",
   "metadata": {},
   "outputs": [
    {
     "ename": "KeyError",
     "evalue": "'d'",
     "output_type": "error",
     "traceback": [
      "\u001b[1;31m---------------------------------------------------------------------------\u001b[0m",
      "\u001b[1;31mKeyError\u001b[0m                                  Traceback (most recent call last)",
      "Input \u001b[1;32mIn [99]\u001b[0m, in \u001b[0;36m<cell line: 4>\u001b[1;34m()\u001b[0m\n\u001b[0;32m      1\u001b[0m dictionary \u001b[38;5;241m=\u001b[39m {\u001b[38;5;124m\"\u001b[39m\u001b[38;5;124ma\u001b[39m\u001b[38;5;124m\"\u001b[39m : \u001b[38;5;241m1\u001b[39m , \u001b[38;5;124m\"\u001b[39m\u001b[38;5;124mb\u001b[39m\u001b[38;5;124m\"\u001b[39m : \u001b[38;5;241m2\u001b[39m , \u001b[38;5;124m\"\u001b[39m\u001b[38;5;124mc\u001b[39m\u001b[38;5;124m\"\u001b[39m : \u001b[38;5;241m3\u001b[39m}\n\u001b[1;32m----> 4\u001b[0m value \u001b[38;5;241m=\u001b[39m \u001b[43mdictionary\u001b[49m\u001b[43m[\u001b[49m\u001b[38;5;124;43m\"\u001b[39;49m\u001b[38;5;124;43md\u001b[39;49m\u001b[38;5;124;43m\"\u001b[39;49m\u001b[43m]\u001b[49m\n",
      "\u001b[1;31mKeyError\u001b[0m: 'd'"
     ]
    }
   ],
   "source": [
    "dictionary = {\"a\" : 1 , \"b\" : 2 , \"c\" : 3}\n",
    "\n",
    "\n",
    "value = dictionary[\"d\"]\n",
    "\n"
   ]
  },
  {
   "cell_type": "code",
   "execution_count": 101,
   "id": "e01905b0",
   "metadata": {},
   "outputs": [
    {
     "name": "stdout",
     "output_type": "stream",
     "text": [
      "the error is catched \n"
     ]
    }
   ],
   "source": [
    "try : \n",
    "    value = dictionary[\"d\"]\n",
    "except KeyError:\n",
    "    print(\"the error is catched \")"
   ]
  },
  {
   "cell_type": "code",
   "execution_count": 103,
   "id": "5ecd960c",
   "metadata": {},
   "outputs": [
    {
     "name": "stdout",
     "output_type": "stream",
     "text": [
      "That index is not in the list!\n"
     ]
    }
   ],
   "source": [
    "my_list = [1, 2, 3, 4, 5]\n",
    "try:\n",
    "    my_list[6]\n",
    "except IndexError:\n",
    "\n",
    "    print(\"That index is not in the list!\")"
   ]
  },
  {
   "cell_type": "code",
   "execution_count": 104,
   "id": "c3aa5d3d",
   "metadata": {},
   "outputs": [
    {
     "name": "stdout",
     "output_type": "stream",
     "text": [
      "This key is not in the dictionary!\n"
     ]
    }
   ],
   "source": [
    "# catching multiple errors \n",
    "\n",
    "my_dict = {\"a\":1, \"b\":2, \"c\":3}\n",
    "try:\n",
    "    value = my_dict[\"d\"]\n",
    "except IndexError:\n",
    "    print(\"This index does not exist!\")\n",
    "except KeyError:\n",
    "    print(\"This key is not in the dictionary!\")\n",
    "except:\n",
    "    print(\"Some other error occurred!\")"
   ]
  },
  {
   "cell_type": "code",
   "execution_count": 105,
   "id": "cb47e2a4",
   "metadata": {},
   "outputs": [
    {
     "name": "stdout",
     "output_type": "stream",
     "text": [
      "An IndexError or KeyError occurred!\n"
     ]
    }
   ],
   "source": [
    "# or we can also use ( ) to handle multiple errors \n",
    "\n",
    "try:\n",
    "    value = my_dict[\"d\"]\n",
    "except (IndexError, KeyError):\n",
    "    print(\"An IndexError or KeyError occurred!\")"
   ]
  },
  {
   "cell_type": "code",
   "execution_count": 107,
   "id": "811b182f",
   "metadata": {},
   "outputs": [
    {
     "name": "stdout",
     "output_type": "stream",
     "text": [
      "the finally statement will execute anyways\n"
     ]
    },
    {
     "ename": "KeyError",
     "evalue": "'d'",
     "output_type": "error",
     "traceback": [
      "\u001b[1;31m---------------------------------------------------------------------------\u001b[0m",
      "\u001b[1;31mKeyError\u001b[0m                                  Traceback (most recent call last)",
      "Input \u001b[1;32mIn [107]\u001b[0m, in \u001b[0;36m<cell line: 3>\u001b[1;34m()\u001b[0m\n\u001b[0;32m      1\u001b[0m \u001b[38;5;66;03m# finally \u001b[39;00m\n\u001b[0;32m      3\u001b[0m \u001b[38;5;28;01mtry\u001b[39;00m:\n\u001b[1;32m----> 4\u001b[0m     value \u001b[38;5;241m=\u001b[39m \u001b[43mmy_dict\u001b[49m\u001b[43m[\u001b[49m\u001b[38;5;124;43m\"\u001b[39;49m\u001b[38;5;124;43md\u001b[39;49m\u001b[38;5;124;43m\"\u001b[39;49m\u001b[43m]\u001b[49m\n\u001b[0;32m      5\u001b[0m \u001b[38;5;28;01mexcept\u001b[39;00m (\u001b[38;5;167;01mIndexError\u001b[39;00m):\n\u001b[0;32m      6\u001b[0m     \u001b[38;5;28mprint\u001b[39m(\u001b[38;5;124m\"\u001b[39m\u001b[38;5;124mAn IndexError or KeyError occurred!\u001b[39m\u001b[38;5;124m\"\u001b[39m)\n",
      "\u001b[1;31mKeyError\u001b[0m: 'd'"
     ]
    }
   ],
   "source": [
    "# finally \n",
    "\n",
    "try:\n",
    "    value = my_dict[\"d\"]\n",
    "except IndexError:\n",
    "    print(\"An IndexError or KeyError occurred!\")\n",
    "finally:\n",
    "    print(\"the finally statement will execute anyways\")\n",
    "    "
   ]
  },
  {
   "cell_type": "code",
   "execution_count": 111,
   "id": "0583420c",
   "metadata": {},
   "outputs": [
    {
     "name": "stdout",
     "output_type": "stream",
     "text": [
      "no error occured\n"
     ]
    }
   ],
   "source": [
    "# else : the try and except also has an else part\n",
    "\n",
    "try:\n",
    "    10/5\n",
    "except ZeroDivisionError:\n",
    "    print(\"zero division occured \")\n",
    "else:\n",
    "    print(\"no error occured\")\n",
    "    \n",
    "    "
   ]
  },
  {
   "cell_type": "code",
   "execution_count": 116,
   "id": "740f8dd8",
   "metadata": {},
   "outputs": [
    {
     "name": "stdout",
     "output_type": "stream",
     "text": [
      "No error occured!\n",
      "The finally statement ran!\n"
     ]
    }
   ],
   "source": [
    "# bring it all together \n",
    "\n",
    "dict = {\"a\":1, \"b\":2, \"c\":3}\n",
    "try:\n",
    "    value = dict[\"a\"]\n",
    "except KeyError:\n",
    "    print(\"A KeyError occured!\")\n",
    "else:\n",
    "    print(\"No error occured!\")\n",
    "finally:\n",
    "    print(\"The finally statement ran!\")"
   ]
  },
  {
   "cell_type": "markdown",
   "id": "29b59fe6",
   "metadata": {},
   "source": [
    "# working with files "
   ]
  },
  {
   "cell_type": "code",
   "execution_count": 3,
   "id": "f0a954f6",
   "metadata": {},
   "outputs": [],
   "source": [
    "x = open(r\"C:\\Users\\mehmo\\Desktop\\Untitled Folder\\test.txt\",\"r\") # the r in beginning represents raw string"
   ]
  },
  {
   "cell_type": "code",
   "execution_count": 7,
   "id": "a161ba35",
   "metadata": {},
   "outputs": [
    {
     "ename": "SyntaxError",
     "evalue": "(unicode error) 'unicodeescape' codec can't decode bytes in position 2-3: truncated \\UXXXXXXXX escape (2866473824.py, line 3)",
     "output_type": "error",
     "traceback": [
      "\u001b[1;36m  Input \u001b[1;32mIn [7]\u001b[1;36m\u001b[0m\n\u001b[1;33m    print(\"C:\\Users\\mehmo\\Desktop\\Untitled Folder\\test.txt\")/\u001b[0m\n\u001b[1;37m                                                           ^\u001b[0m\n\u001b[1;31mSyntaxError\u001b[0m\u001b[1;31m:\u001b[0m (unicode error) 'unicodeescape' codec can't decode bytes in position 2-3: truncated \\UXXXXXXXX escape\n"
     ]
    }
   ],
   "source": [
    "# what if we donot use the raw strings \n",
    "\n",
    "print(\"C:\\Users\\mehmo\\Desktop\\Untitled Folder\\test.txt\")/\n"
   ]
  },
  {
   "cell_type": "code",
   "execution_count": 6,
   "id": "682b93be",
   "metadata": {},
   "outputs": [
    {
     "name": "stdout",
     "output_type": "stream",
     "text": [
      "C:\\Users\\mehmo\\Desktop\\Untitled Folder\\test.txt\n"
     ]
    }
   ],
   "source": [
    "print(r\"C:\\Users\\mehmo\\Desktop\\Untitled Folder\\test.txt\")"
   ]
  },
  {
   "cell_type": "code",
   "execution_count": 14,
   "id": "89e92dcd",
   "metadata": {},
   "outputs": [
    {
     "name": "stdout",
     "output_type": "stream",
     "text": [
      "my name is talha \n",
      "\n",
      "pakistan Zindabad\n",
      "\n",
      "jalebi baby \n",
      "\n",
      "affan \n"
     ]
    }
   ],
   "source": [
    "# reading the data \n",
    "\n",
    "x = open(r\"C:\\Users\\mehmo\\Desktop\\Untitled Folder\\test.txt\",\"r\")\n",
    "\n",
    "data = x.read()\n",
    "\n",
    "print(data)\n",
    "\n",
    "x.close()\n"
   ]
  },
  {
   "cell_type": "code",
   "execution_count": 18,
   "id": "23f04e1a",
   "metadata": {},
   "outputs": [
    {
     "name": "stdout",
     "output_type": "stream",
     "text": [
      "['my name is talha \\n', '\\n', 'pakistan Zindabad\\n', '\\n', 'jalebi baby \\n', '\\n', 'affan ']\n"
     ]
    }
   ],
   "source": [
    "# reading a single line\n",
    "\n",
    "x = open(r\"C:\\Users\\mehmo\\Desktop\\Untitled Folder\\test.txt\",\"r\")\n",
    "\n",
    "first_line = x.readline()\n",
    "\n",
    "print(first_line)\n",
    "\n",
    "x.close()"
   ]
  },
  {
   "cell_type": "markdown",
   "id": "0537a61f",
   "metadata": {},
   "source": [
    "# reading all the lines \n",
    "\n",
    "x = open(r\"C:\\Users\\mehmo\\Desktop\\Untitled Folder\\test.txt\",\"r\")\n",
    "\n",
    "first_line = x.readlines()   #!!!\n",
    "\n",
    "print(first_line)\n",
    "\n",
    "x.close()\n",
    "\n"
   ]
  },
  {
   "cell_type": "code",
   "execution_count": 22,
   "id": "e69977f5",
   "metadata": {},
   "outputs": [
    {
     "name": "stdout",
     "output_type": "stream",
     "text": [
      "this is another line \n"
     ]
    }
   ],
   "source": [
    "x = open(r\"C:\\Users\\mehmo\\Desktop\\Untitled Folder\\test.txt\",\"r\")\n",
    "\n",
    "for line in x :\n",
    "    print(line)"
   ]
  },
  {
   "cell_type": "code",
   "execution_count": 23,
   "id": "e333e073",
   "metadata": {},
   "outputs": [],
   "source": [
    "x = open(r\"C:\\Users\\mehmo\\Desktop\\Untitled Folder\\test.txt\",\"w\")\n",
    "\n",
    "x.write(\"this is another line\")\n",
    "\n",
    "x.close()   # note that the old text is over written "
   ]
  },
  {
   "cell_type": "markdown",
   "id": "2ab68fca",
   "metadata": {},
   "source": [
    "# package and modules /\n"
   ]
  },
  {
   "cell_type": "code",
   "execution_count": 39,
   "id": "38f057a3",
   "metadata": {},
   "outputs": [
    {
     "data": {
      "text/plain": [
       "4.898979485566356"
      ]
     },
     "execution_count": 39,
     "metadata": {},
     "output_type": "execute_result"
    }
   ],
   "source": [
    "#method 1 \n",
    "from math import sqrt,pi\n",
    "\n",
    "sqrt(24)\n"
   ]
  },
  {
   "cell_type": "code",
   "execution_count": 29,
   "id": "5ca79b1f",
   "metadata": {},
   "outputs": [
    {
     "data": {
      "text/plain": [
       "4.898979485566356"
      ]
     },
     "execution_count": 29,
     "metadata": {},
     "output_type": "execute_result"
    }
   ],
   "source": [
    "#method 2 \n",
    "import math\n",
    "\n",
    "math.sqrt(24)"
   ]
  },
  {
   "cell_type": "code",
   "execution_count": 40,
   "id": "1db1b6d3",
   "metadata": {},
   "outputs": [],
   "source": [
    "#importing all the modules \n",
    "\n",
    "from math import*"
   ]
  },
  {
   "cell_type": "markdown",
   "id": "757cd7e0",
   "metadata": {},
   "source": [
    "# functions "
   ]
  },
  {
   "cell_type": "code",
   "execution_count": 41,
   "id": "cb9e91ed",
   "metadata": {},
   "outputs": [],
   "source": [
    "def empty_function():\n",
    "    pass"
   ]
  },
  {
   "cell_type": "code",
   "execution_count": 64,
   "id": "ab652293",
   "metadata": {},
   "outputs": [
    {
     "name": "stdout",
     "output_type": "stream",
     "text": [
      "Enter First Number : 2\n",
      "Enter Second Number : 2\n",
      "total:  4\n",
      "\t\t THANKS\n"
     ]
    }
   ],
   "source": [
    "def add(a=1,b=2):  # deault arguments \n",
    "    return a+b\n",
    "\n",
    "num1 = int(input(\"Enter First Number : \"))\n",
    "num2 = int(input(\"Enter Second Number : \"))\n",
    "\n",
    "try:\n",
    "    print(\"total: \",add(num1,num2))    #function call\n",
    "    \n",
    "except TypeError:\n",
    "    print(\"check number of arguments\")\n",
    "    pass\n",
    "\n",
    "finally:\n",
    "    print(\"\\t\\t THANKS\")\n",
    "    \n",
    "\n",
    "\n",
    "   "
   ]
  },
  {
   "cell_type": "code",
   "execution_count": 70,
   "id": "eecdda7d",
   "metadata": {},
   "outputs": [
    {
     "name": "stdout",
     "output_type": "stream",
     "text": [
      "(1, 2, 3)\n",
      "{'name': 'Ali', 'job': 'Cyber Warrior'}\n"
     ]
    }
   ],
   "source": [
    "#infinite arguments\n",
    "\n",
    "# args and kwargs are no keywords they can be anything with * and **\n",
    "\n",
    "def many(*args, **kwargs):\n",
    "    print(args)\n",
    "    print(kwargs)\n",
    "\n",
    "many(1,2,3, name=\"Ali\" , job=\"Cyber Warrior\")"
   ]
  },
  {
   "cell_type": "code",
   "execution_count": 71,
   "id": "f99ca1fa",
   "metadata": {},
   "outputs": [
    {
     "data": {
      "text/plain": [
       "['__add__',\n",
       " '__class__',\n",
       " '__contains__',\n",
       " '__delattr__',\n",
       " '__dir__',\n",
       " '__doc__',\n",
       " '__eq__',\n",
       " '__format__',\n",
       " '__ge__',\n",
       " '__getattribute__',\n",
       " '__getitem__',\n",
       " '__getnewargs__',\n",
       " '__gt__',\n",
       " '__hash__',\n",
       " '__init__',\n",
       " '__init_subclass__',\n",
       " '__iter__',\n",
       " '__le__',\n",
       " '__len__',\n",
       " '__lt__',\n",
       " '__mod__',\n",
       " '__mul__',\n",
       " '__ne__',\n",
       " '__new__',\n",
       " '__reduce__',\n",
       " '__reduce_ex__',\n",
       " '__repr__',\n",
       " '__rmod__',\n",
       " '__rmul__',\n",
       " '__setattr__',\n",
       " '__sizeof__',\n",
       " '__str__',\n",
       " '__subclasshook__',\n",
       " 'capitalize',\n",
       " 'casefold',\n",
       " 'center',\n",
       " 'count',\n",
       " 'encode',\n",
       " 'endswith',\n",
       " 'expandtabs',\n",
       " 'find',\n",
       " 'format',\n",
       " 'format_map',\n",
       " 'index',\n",
       " 'isalnum',\n",
       " 'isalpha',\n",
       " 'isascii',\n",
       " 'isdecimal',\n",
       " 'isdigit',\n",
       " 'isidentifier',\n",
       " 'islower',\n",
       " 'isnumeric',\n",
       " 'isprintable',\n",
       " 'isspace',\n",
       " 'istitle',\n",
       " 'isupper',\n",
       " 'join',\n",
       " 'ljust',\n",
       " 'lower',\n",
       " 'lstrip',\n",
       " 'maketrans',\n",
       " 'partition',\n",
       " 'removeprefix',\n",
       " 'removesuffix',\n",
       " 'replace',\n",
       " 'rfind',\n",
       " 'rindex',\n",
       " 'rjust',\n",
       " 'rpartition',\n",
       " 'rsplit',\n",
       " 'rstrip',\n",
       " 'split',\n",
       " 'splitlines',\n",
       " 'startswith',\n",
       " 'strip',\n",
       " 'swapcase',\n",
       " 'title',\n",
       " 'translate',\n",
       " 'upper',\n",
       " 'zfill']"
      ]
     },
     "execution_count": 71,
     "metadata": {},
     "output_type": "execute_result"
    }
   ],
   "source": [
    "x = \"talha\"\n",
    "\n",
    "dir(x)\n",
    "\n",
    "# So what does dir(x) shows us!\n",
    "\n",
    "# When we have a string assigned to the variable x. The dir shows us how\n",
    "# many methods are there.\n",
    "\n",
    "# There are 71 methods here!\n",
    "\n",
    "# Normally we do not call methods that start with underscores directly so\n",
    "# that reduces the total count to 38.\n",
    "\n",
    "# This means that string is based on a class and x is an instance of that\n",
    "# class!"
   ]
  },
  {
   "cell_type": "markdown",
   "id": "c2700e62",
   "metadata": {},
   "source": [
    "# intro to class"
   ]
  },
  {
   "cell_type": "code",
   "execution_count": 5,
   "id": "8c5e01f2",
   "metadata": {},
   "outputs": [],
   "source": [
    "class vehicle:\n",
    "    \n",
    "    def __init__(self, color, door, tyres): #constructor\n",
    "        self.color = color\n",
    "        self.door = door\n",
    "        self.tyres = tyres\n",
    "        pass\n",
    "    \n",
    "    def braking(self):\n",
    "        return \"braking\"\n",
    "    \n",
    "    def driving(self):\n",
    "        return \"driving\"\n",
    "            \n",
    "        \n",
    "            \n",
    "        "
   ]
  },
  {
   "cell_type": "markdown",
   "id": "12e94e3c",
   "metadata": {},
   "source": [
    "____________________________________END OF PYTHON ALPHA ______________________________________________"
   ]
  },
  {
   "cell_type": "code",
   "execution_count": null,
   "id": "b80b296b",
   "metadata": {},
   "outputs": [],
   "source": []
  },
  {
   "cell_type": "code",
   "execution_count": null,
   "id": "050a30af",
   "metadata": {},
   "outputs": [],
   "source": []
  }
 ],
 "metadata": {
  "kernelspec": {
   "display_name": "Python 3 (ipykernel)",
   "language": "python",
   "name": "python3"
  },
  "language_info": {
   "codemirror_mode": {
    "name": "ipython",
    "version": 3
   },
   "file_extension": ".py",
   "mimetype": "text/x-python",
   "name": "python",
   "nbconvert_exporter": "python",
   "pygments_lexer": "ipython3",
   "version": "3.9.12"
  }
 },
 "nbformat": 4,
 "nbformat_minor": 5
}
