{
 "cells": [
  {
   "cell_type": "markdown",
   "id": "442d9b02",
   "metadata": {},
   "source": [
    "# Declare a variable\n"
   ]
  },
  {
   "cell_type": "code",
   "execution_count": 1,
   "id": "1a933a73",
   "metadata": {},
   "outputs": [],
   "source": [
    "a=[1,2,3]"
   ]
  },
  {
   "cell_type": "code",
   "execution_count": 2,
   "id": "5cac0a58",
   "metadata": {},
   "outputs": [],
   "source": [
    "b=[4,5,6,7,8]"
   ]
  },
  {
   "cell_type": "code",
   "execution_count": 4,
   "id": "dc085530",
   "metadata": {},
   "outputs": [
    {
     "data": {
      "text/plain": [
       "[1, 2, 3, 4, 5, 6, 7, 8]"
      ]
     },
     "execution_count": 4,
     "metadata": {},
     "output_type": "execute_result"
    }
   ],
   "source": [
    "a+b"
   ]
  },
  {
   "cell_type": "code",
   "execution_count": 5,
   "id": "123c4c51",
   "metadata": {},
   "outputs": [
    {
     "ename": "TypeError",
     "evalue": "can't multiply sequence by non-int of type 'list'",
     "output_type": "error",
     "traceback": [
      "\u001b[1;31m---------------------------------------------------------------------------\u001b[0m",
      "\u001b[1;31mTypeError\u001b[0m                                 Traceback (most recent call last)",
      "Cell \u001b[1;32mIn[5], line 1\u001b[0m\n\u001b[1;32m----> 1\u001b[0m a\u001b[38;5;241m*\u001b[39mb\n",
      "\u001b[1;31mTypeError\u001b[0m: can't multiply sequence by non-int of type 'list'"
     ]
    }
   ],
   "source": [
    "a*b"
   ]
  },
  {
   "cell_type": "code",
   "execution_count": 6,
   "id": "37eb4330",
   "metadata": {},
   "outputs": [
    {
     "name": "stdout",
     "output_type": "stream",
     "text": [
      "True\n"
     ]
    }
   ],
   "source": [
    "x = (5 > 3 and 5 < 10)\n",
    "\n",
    "print(x)"
   ]
  },
  {
   "cell_type": "code",
   "execution_count": 10,
   "id": "bf2c6e15",
   "metadata": {},
   "outputs": [
    {
     "name": "stdout",
     "output_type": "stream",
     "text": [
      "False\n"
     ]
    }
   ],
   "source": [
    "y = ('aba'=='ababb' and b==b)\n",
    "\n",
    "print(y)"
   ]
  },
  {
   "cell_type": "code",
   "execution_count": 78,
   "id": "8704b568",
   "metadata": {},
   "outputs": [
    {
     "name": "stdout",
     "output_type": "stream",
     "text": [
      "<class 'list'>\n"
     ]
    }
   ],
   "source": [
    "print(type(a))"
   ]
  },
  {
   "cell_type": "code",
   "execution_count": 12,
   "id": "01be3a6b",
   "metadata": {},
   "outputs": [
    {
     "name": "stdout",
     "output_type": "stream",
     "text": [
      "['False', 'None', 'True', 'and', 'as', 'assert', 'async', 'await', 'break', 'class', 'continue', 'def', 'del', 'elif', 'else', 'except', 'finally', 'for', 'from', 'global', 'if', 'import', 'in', 'is', 'lambda', 'nonlocal', 'not', 'or', 'pass', 'raise', 'return', 'try', 'while', 'with', 'yield']\n"
     ]
    }
   ],
   "source": [
    "# There are 33 keywords\n",
    "import keyword\n",
    "print(keyword.kwlist)"
   ]
  },
  {
   "cell_type": "markdown",
   "id": "f664d4c7",
   "metadata": {},
   "source": [
    "# false keyword\n",
    "The False keyword is a Boolean value, and result of a comparison operation.\n",
    "The False keyword is the same as 0 (True is the same as 1)."
   ]
  },
  {
   "cell_type": "code",
   "execution_count": 75,
   "id": "f0ccaae9",
   "metadata": {},
   "outputs": [
    {
     "ename": "SyntaxError",
     "evalue": "expression cannot contain assignment, perhaps you meant \"==\"? (1798560104.py, line 1)",
     "output_type": "error",
     "traceback": [
      "\u001b[1;36m  Cell \u001b[1;32mIn[75], line 1\u001b[1;36m\u001b[0m\n\u001b[1;33m    print(\"hello\" =: \"hello\")\u001b[0m\n\u001b[1;37m          ^\u001b[0m\n\u001b[1;31mSyntaxError\u001b[0m\u001b[1;31m:\u001b[0m expression cannot contain assignment, perhaps you meant \"==\"?\n"
     ]
    }
   ],
   "source": [
    "print(\"hello\" = \"hello\")\n",
    "print(2 in [3,4,6])\n",
    "print(not 5==5)"
   ]
  },
  {
   "cell_type": "markdown",
   "id": "b04fbec8",
   "metadata": {},
   "source": [
    "# True keyword\n",
    "The True keyword is a Boolean value, and result of a comparison operation.\n",
    "The True keyword is the same as 1"
   ]
  },
  {
   "cell_type": "code",
   "execution_count": 22,
   "id": "0283ee1e",
   "metadata": {},
   "outputs": [
    {
     "name": "stdout",
     "output_type": "stream",
     "text": [
      "True\n",
      "True\n",
      "True\n"
     ]
    }
   ],
   "source": [
    "print(3 in [3,4,6])\n",
    "print(not 5==7)\n",
    "print(\"hello\"==\"hello\")"
   ]
  },
  {
   "cell_type": "markdown",
   "id": "5a4e4f76",
   "metadata": {},
   "source": [
    "# None keyword\n",
    "reprents a null value or no value at all\n",
    "None is not the same as 0, False, or an empty string. None is a data type of its own (NoneType) and only None can be None."
   ]
  },
  {
   "cell_type": "code",
   "execution_count": 26,
   "id": "8c2d55a6",
   "metadata": {},
   "outputs": [
    {
     "name": "stdout",
     "output_type": "stream",
     "text": [
      "None\n",
      "None is not True, or False, None is just None...\n"
     ]
    }
   ],
   "source": [
    "x=None\n",
    "print(x)\n",
    "if x:\n",
    "  print(\"Do you think None is True?\")\n",
    "elif x is False:\n",
    "  print (\"Do you think None is False?\")\n",
    "else:\n",
    "  print(\"None is not True, or False, None is just None...\")"
   ]
  },
  {
   "cell_type": "markdown",
   "id": "64d51abc",
   "metadata": {},
   "source": [
    "# and,or,not keyword\n",
    "logical operators\n",
    "Logical operators are used to combine conditional statements.\n",
    "#and operatorThe return value will only be True if both statements return True, otherwise it will return False.\n",
    "#or keyword The return value will be True if one of the statements return True, otherwise it will return False.\n",
    "#none keywordThe return value will be True if the statement(s) are not True, otherwise it will return False"
   ]
  },
  {
   "cell_type": "code",
   "execution_count": 77,
   "id": "da4e9fab",
   "metadata": {},
   "outputs": [
    {
     "name": "stdout",
     "output_type": "stream",
     "text": [
      "True\n",
      "True\n",
      "True\n",
      "False\n"
     ]
    }
   ],
   "source": [
    "print(5 > 3 and 5 < 10)\n",
    "print(5 > 3 or 5 < 10)\n",
    "print(not x==False)\n",
    "x=True\n",
    "print(not x)"
   ]
  },
  {
   "cell_type": "markdown",
   "id": "e3b04a7f",
   "metadata": {},
   "source": [
    "# as keyword is used to create an alias\n",
    "\n",
    "#import keyword is used to import modules\n",
    "#from keyword is used to import only a specified section from a module."
   ]
  },
  {
   "cell_type": "code",
   "execution_count": 71,
   "id": "a80de58e",
   "metadata": {},
   "outputs": [
    {
     "name": "stdout",
     "output_type": "stream",
     "text": [
      "2023-09-18 15:32:45.057995\n"
     ]
    },
    {
     "ename": "ModuleNotFoundError",
     "evalue": "No module named 'dt'",
     "output_type": "error",
     "traceback": [
      "\u001b[1;31m---------------------------------------------------------------------------\u001b[0m",
      "\u001b[1;31mModuleNotFoundError\u001b[0m                       Traceback (most recent call last)",
      "Cell \u001b[1;32mIn[71], line 4\u001b[0m\n\u001b[0;32m      2\u001b[0m x \u001b[38;5;241m=\u001b[39m dt\u001b[38;5;241m.\u001b[39mdatetime\u001b[38;5;241m.\u001b[39mnow()\n\u001b[0;32m      3\u001b[0m \u001b[38;5;28mprint\u001b[39m(x)\n\u001b[1;32m----> 4\u001b[0m \u001b[38;5;28;01mfrom\u001b[39;00m \u001b[38;5;21;01mdt\u001b[39;00m \u001b[38;5;28;01mimport\u001b[39;00m time\n\u001b[0;32m      5\u001b[0m y\u001b[38;5;241m=\u001b[39m time(hour\u001b[38;5;241m=\u001b[39m\u001b[38;5;241m15\u001b[39m)\n\u001b[0;32m      6\u001b[0m \u001b[38;5;28mprint\u001b[39m(y)\n",
      "\u001b[1;31mModuleNotFoundError\u001b[0m: No module named 'dt'"
     ]
    }
   ],
   "source": [
    "import datetime as dt\n",
    "x = dt.datetime.now()\n",
    "print(x)\n",
    "from dt import time\n",
    "y= time(hour=15)\n",
    "print(y)\n",
    "import calendar as c\n",
    "print(c.month_name[5])"
   ]
  },
  {
   "cell_type": "code",
   "execution_count": 72,
   "id": "1da7c84f",
   "metadata": {},
   "outputs": [
    {
     "ename": "ModuleNotFoundError",
     "evalue": "No module named 'dt'",
     "output_type": "error",
     "traceback": [
      "\u001b[1;31m---------------------------------------------------------------------------\u001b[0m",
      "\u001b[1;31mModuleNotFoundError\u001b[0m                       Traceback (most recent call last)",
      "Cell \u001b[1;32mIn[72], line 1\u001b[0m\n\u001b[1;32m----> 1\u001b[0m \u001b[38;5;28;01mfrom\u001b[39;00m \u001b[38;5;21;01mdt\u001b[39;00m \u001b[38;5;28;01mimport\u001b[39;00m time\n\u001b[0;32m      2\u001b[0m y\u001b[38;5;241m=\u001b[39m time(hour\u001b[38;5;241m=\u001b[39m\u001b[38;5;241m15\u001b[39m)\n\u001b[0;32m      3\u001b[0m \u001b[38;5;28mprint\u001b[39m(y)\n",
      "\u001b[1;31mModuleNotFoundError\u001b[0m: No module named 'dt'"
     ]
    }
   ],
   "source": [
    "from dt import time\n",
    "y= time(hour=15)\n",
    "print(y)"
   ]
  },
  {
   "cell_type": "code",
   "execution_count": 40,
   "id": "62b81c13",
   "metadata": {},
   "outputs": [],
   "source": [
    "#assert keyword is used when debugging code."
   ]
  },
  {
   "cell_type": "code",
   "execution_count": 41,
   "id": "8f0aa857",
   "metadata": {},
   "outputs": [
    {
     "ename": "AssertionError",
     "evalue": "x should be 'hello'",
     "output_type": "error",
     "traceback": [
      "\u001b[1;31m---------------------------------------------------------------------------\u001b[0m",
      "\u001b[1;31mAssertionError\u001b[0m                            Traceback (most recent call last)",
      "Cell \u001b[1;32mIn[41], line 3\u001b[0m\n\u001b[0;32m      1\u001b[0m x \u001b[38;5;241m=\u001b[39m \u001b[38;5;124m\"\u001b[39m\u001b[38;5;124mhello\u001b[39m\u001b[38;5;124m\"\u001b[39m\n\u001b[0;32m      2\u001b[0m \u001b[38;5;66;03m#if condition returns False, AssertionError is raised:\u001b[39;00m\n\u001b[1;32m----> 3\u001b[0m \u001b[38;5;28;01massert\u001b[39;00m x \u001b[38;5;241m==\u001b[39m \u001b[38;5;124m\"\u001b[39m\u001b[38;5;124mgoodbye\u001b[39m\u001b[38;5;124m\"\u001b[39m, \u001b[38;5;124m\"\u001b[39m\u001b[38;5;124mx should be \u001b[39m\u001b[38;5;124m'\u001b[39m\u001b[38;5;124mhello\u001b[39m\u001b[38;5;124m'\u001b[39m\u001b[38;5;124m\"\u001b[39m\n",
      "\u001b[1;31mAssertionError\u001b[0m: x should be 'hello'"
     ]
    }
   ],
   "source": [
    "x = \"hello\"\n",
    "#if condition returns False, AssertionError is raised:\n",
    "assert x == \"goodbye\", \"x should be 'hello'\""
   ]
  },
  {
   "cell_type": "markdown",
   "id": "0413737c",
   "metadata": {},
   "source": [
    "#break#continue\n",
    "The break keyword is used to break out a for loop, or a while loop."
   ]
  },
  {
   "cell_type": "code",
   "execution_count": 53,
   "id": "f4376af8",
   "metadata": {},
   "outputs": [
    {
     "name": "stdout",
     "output_type": "stream",
     "text": [
      "0\n",
      "1\n",
      "2\n",
      "3\n",
      "4\n",
      "5\n",
      "6\n"
     ]
    }
   ],
   "source": [
    "for i in range(9):\n",
    "  if i >6:\n",
    "    break\n",
    "  print(i)"
   ]
  },
  {
   "cell_type": "code",
   "execution_count": 70,
   "id": "62237b25",
   "metadata": {},
   "outputs": [
    {
     "name": "stdout",
     "output_type": "stream",
     "text": [
      "9\n"
     ]
    }
   ],
   "source": [
    "j = 0\n",
    "while j < 9:\n",
    "    j += 1\n",
    "    if j == 3:\n",
    "        continue\n",
    "print(j)"
   ]
  },
  {
   "cell_type": "code",
   "execution_count": 65,
   "id": "f568c7d6",
   "metadata": {},
   "outputs": [
    {
     "ename": "SyntaxError",
     "evalue": "expected 'else' after 'if' expression (414348273.py, line 2)",
     "output_type": "error",
     "traceback": [
      "\u001b[1;36m  Cell \u001b[1;32mIn[65], line 2\u001b[1;36m\u001b[0m\n\u001b[1;33m    used to check if a value is present in a sequence (list, range, string etc.).\u001b[0m\n\u001b[1;37m            ^\u001b[0m\n\u001b[1;31mSyntaxError\u001b[0m\u001b[1;31m:\u001b[0m expected 'else' after 'if' expression\n"
     ]
    }
   ],
   "source": [
    "#in keyword\n",
    "#used to check if a value is present in a sequence (list, range, string etc.).\n",
    "#The in keyword is also used to iterate through a sequence in a for loop:"
   ]
  },
  {
   "cell_type": "code",
   "execution_count": 66,
   "id": "6d814ce8",
   "metadata": {},
   "outputs": [
    {
     "name": "stdout",
     "output_type": "stream",
     "text": [
      "yes\n",
      "a\n",
      "b\n",
      "c\n"
     ]
    }
   ],
   "source": [
    "z = ['a','b','c']\n",
    "if \"a\" in z:\n",
    "  print(\"yes\")\n",
    "for b in z:\n",
    "    print(b)"
   ]
  },
  {
   "cell_type": "code",
   "execution_count": 73,
   "id": "00fc7bdb",
   "metadata": {},
   "outputs": [
    {
     "data": {
      "text/plain": [
       "['MAXYEAR',\n",
       " 'MINYEAR',\n",
       " 'UTC',\n",
       " '__all__',\n",
       " '__builtins__',\n",
       " '__cached__',\n",
       " '__doc__',\n",
       " '__file__',\n",
       " '__loader__',\n",
       " '__name__',\n",
       " '__package__',\n",
       " '__spec__',\n",
       " 'date',\n",
       " 'datetime',\n",
       " 'datetime_CAPI',\n",
       " 'sys',\n",
       " 'time',\n",
       " 'timedelta',\n",
       " 'timezone',\n",
       " 'tzinfo']"
      ]
     },
     "execution_count": 73,
     "metadata": {},
     "output_type": "execute_result"
    }
   ],
   "source": [
    "dir(datetime)"
   ]
  },
  {
   "cell_type": "code",
   "execution_count": 80,
   "id": "151ce493",
   "metadata": {},
   "outputs": [
    {
     "data": {
      "text/plain": [
       "3"
      ]
     },
     "execution_count": 80,
     "metadata": {},
     "output_type": "execute_result"
    }
   ],
   "source": [
    "import sys\n",
    "message =\"Hello\"\n",
    "sys.getrefcount(message)"
   ]
  },
  {
   "cell_type": "code",
   "execution_count": 11,
   "id": "ce6ac403",
   "metadata": {},
   "outputs": [
    {
     "data": {
      "text/plain": [
       "1"
      ]
     },
     "execution_count": 11,
     "metadata": {},
     "output_type": "execute_result"
    }
   ],
   "source": [
    "import sys\n",
    "m =\"Hello\"\n",
    "sys.getrefcount(m)-1"
   ]
  },
  {
   "cell_type": "code",
   "execution_count": 14,
   "id": "76981722",
   "metadata": {},
   "outputs": [
    {
     "data": {
      "text/plain": [
       "1000002839"
      ]
     },
     "execution_count": 14,
     "metadata": {},
     "output_type": "execute_result"
    }
   ],
   "source": [
    "import sys\n",
    "me =17\n",
    "sys.getrefcount(me)-1"
   ]
  },
  {
   "cell_type": "code",
   "execution_count": 15,
   "id": "be426b0b",
   "metadata": {},
   "outputs": [
    {
     "name": "stdout",
     "output_type": "stream",
     "text": [
      "140707396951944\n"
     ]
    }
   ],
   "source": [
    "a = 100\n",
    "print(id(a))"
   ]
  },
  {
   "cell_type": "markdown",
   "id": "05db5ab5",
   "metadata": {},
   "source": [
    "# User Defined inputs\n",
    "#String interpolation\n",
    "#Python operators"
   ]
  },
  {
   "cell_type": "code",
   "execution_count": 16,
   "id": "47fb6c37",
   "metadata": {},
   "outputs": [],
   "source": [
    "#input"
   ]
  },
  {
   "cell_type": "code",
   "execution_count": 156,
   "id": "1676fac0",
   "metadata": {},
   "outputs": [
    {
     "ename": "KeyboardInterrupt",
     "evalue": "Interrupted by user",
     "output_type": "error",
     "traceback": [
      "\u001b[1;31m---------------------------------------------------------------------------\u001b[0m",
      "\u001b[1;31mKeyboardInterrupt\u001b[0m                         Traceback (most recent call last)",
      "Cell \u001b[1;32mIn[156], line 1\u001b[0m\n\u001b[1;32m----> 1\u001b[0m a\u001b[38;5;241m=\u001b[39m\u001b[38;5;28mint\u001b[39m(\u001b[38;5;28minput\u001b[39m(\u001b[38;5;124m'\u001b[39m\u001b[38;5;124mEnter a number\u001b[39m\u001b[38;5;124m'\u001b[39m))\n",
      "File \u001b[1;32m~\\AppData\\Local\\anaconda3\\Lib\\site-packages\\ipykernel\\kernelbase.py:1175\u001b[0m, in \u001b[0;36mKernel.raw_input\u001b[1;34m(self, prompt)\u001b[0m\n\u001b[0;32m   1171\u001b[0m \u001b[38;5;28;01mif\u001b[39;00m \u001b[38;5;129;01mnot\u001b[39;00m \u001b[38;5;28mself\u001b[39m\u001b[38;5;241m.\u001b[39m_allow_stdin:\n\u001b[0;32m   1172\u001b[0m     \u001b[38;5;28;01mraise\u001b[39;00m StdinNotImplementedError(\n\u001b[0;32m   1173\u001b[0m         \u001b[38;5;124m\"\u001b[39m\u001b[38;5;124mraw_input was called, but this frontend does not support input requests.\u001b[39m\u001b[38;5;124m\"\u001b[39m\n\u001b[0;32m   1174\u001b[0m     )\n\u001b[1;32m-> 1175\u001b[0m \u001b[38;5;28;01mreturn\u001b[39;00m \u001b[38;5;28mself\u001b[39m\u001b[38;5;241m.\u001b[39m_input_request(\n\u001b[0;32m   1176\u001b[0m     \u001b[38;5;28mstr\u001b[39m(prompt),\n\u001b[0;32m   1177\u001b[0m     \u001b[38;5;28mself\u001b[39m\u001b[38;5;241m.\u001b[39m_parent_ident[\u001b[38;5;124m\"\u001b[39m\u001b[38;5;124mshell\u001b[39m\u001b[38;5;124m\"\u001b[39m],\n\u001b[0;32m   1178\u001b[0m     \u001b[38;5;28mself\u001b[39m\u001b[38;5;241m.\u001b[39mget_parent(\u001b[38;5;124m\"\u001b[39m\u001b[38;5;124mshell\u001b[39m\u001b[38;5;124m\"\u001b[39m),\n\u001b[0;32m   1179\u001b[0m     password\u001b[38;5;241m=\u001b[39m\u001b[38;5;28;01mFalse\u001b[39;00m,\n\u001b[0;32m   1180\u001b[0m )\n",
      "File \u001b[1;32m~\\AppData\\Local\\anaconda3\\Lib\\site-packages\\ipykernel\\kernelbase.py:1217\u001b[0m, in \u001b[0;36mKernel._input_request\u001b[1;34m(self, prompt, ident, parent, password)\u001b[0m\n\u001b[0;32m   1214\u001b[0m             \u001b[38;5;28;01mbreak\u001b[39;00m\n\u001b[0;32m   1215\u001b[0m \u001b[38;5;28;01mexcept\u001b[39;00m \u001b[38;5;167;01mKeyboardInterrupt\u001b[39;00m:\n\u001b[0;32m   1216\u001b[0m     \u001b[38;5;66;03m# re-raise KeyboardInterrupt, to truncate traceback\u001b[39;00m\n\u001b[1;32m-> 1217\u001b[0m     \u001b[38;5;28;01mraise\u001b[39;00m \u001b[38;5;167;01mKeyboardInterrupt\u001b[39;00m(\u001b[38;5;124m\"\u001b[39m\u001b[38;5;124mInterrupted by user\u001b[39m\u001b[38;5;124m\"\u001b[39m) \u001b[38;5;28;01mfrom\u001b[39;00m \u001b[38;5;28;01mNone\u001b[39;00m\n\u001b[0;32m   1218\u001b[0m \u001b[38;5;28;01mexcept\u001b[39;00m \u001b[38;5;167;01mException\u001b[39;00m:\n\u001b[0;32m   1219\u001b[0m     \u001b[38;5;28mself\u001b[39m\u001b[38;5;241m.\u001b[39mlog\u001b[38;5;241m.\u001b[39mwarning(\u001b[38;5;124m\"\u001b[39m\u001b[38;5;124mInvalid Message:\u001b[39m\u001b[38;5;124m\"\u001b[39m, exc_info\u001b[38;5;241m=\u001b[39m\u001b[38;5;28;01mTrue\u001b[39;00m)\n",
      "\u001b[1;31mKeyboardInterrupt\u001b[0m: Interrupted by user"
     ]
    }
   ],
   "source": [
    "a=int(input('Enter a number'))"
   ]
  },
  {
   "cell_type": "code",
   "execution_count": 20,
   "id": "c4955386",
   "metadata": {},
   "outputs": [
    {
     "data": {
      "text/plain": [
       "int"
      ]
     },
     "execution_count": 20,
     "metadata": {},
     "output_type": "execute_result"
    }
   ],
   "source": [
    "type(a)"
   ]
  },
  {
   "cell_type": "code",
   "execution_count": 157,
   "id": "71881cdd",
   "metadata": {},
   "outputs": [
    {
     "name": "stdout",
     "output_type": "stream",
     "text": [
      "Enter a Characterabc\n",
      "a\n"
     ]
    }
   ],
   "source": [
    "#if You Want Only to fetch First character from the user input\n",
    "ch=input(\"Enter a Character\")[0]\n",
    "print(ch)"
   ]
  },
  {
   "cell_type": "code",
   "execution_count": 159,
   "id": "c4a7c82b",
   "metadata": {},
   "outputs": [
    {
     "name": "stdout",
     "output_type": "stream",
     "text": [
      "Enter any expression2+6+4\n",
      "12\n"
     ]
    }
   ],
   "source": [
    "#When You wanna Evaluate from a given expression\n",
    "result=eval(input(\"Enter any expression\"))\n",
    "print(result)"
   ]
  },
  {
   "cell_type": "code",
   "execution_count": 21,
   "id": "7ee09f42",
   "metadata": {},
   "outputs": [],
   "source": [
    "#Taking a list as a input"
   ]
  },
  {
   "cell_type": "code",
   "execution_count": 35,
   "id": "6041f28d",
   "metadata": {},
   "outputs": [
    {
     "name": "stdout",
     "output_type": "stream",
     "text": [
      "23,34,43,\"Subha\"\n"
     ]
    }
   ],
   "source": [
    "d=list(input())"
   ]
  },
  {
   "cell_type": "code",
   "execution_count": 36,
   "id": "f733ba1f",
   "metadata": {},
   "outputs": [
    {
     "name": "stdout",
     "output_type": "stream",
     "text": [
      "['2', '3', ',', '3', '4', ',', '4', '3', ',', '\"', 'S', 'u', 'b', 'h', 'a', '\"']\n"
     ]
    }
   ],
   "source": [
    "print(d)"
   ]
  },
  {
   "cell_type": "code",
   "execution_count": 24,
   "id": "53f38832",
   "metadata": {},
   "outputs": [],
   "source": [
    "list1=list(list())"
   ]
  },
  {
   "cell_type": "code",
   "execution_count": 25,
   "id": "2455e518",
   "metadata": {},
   "outputs": [
    {
     "name": "stdout",
     "output_type": "stream",
     "text": [
      "[]\n"
     ]
    }
   ],
   "source": [
    "print(list1)"
   ]
  },
  {
   "cell_type": "code",
   "execution_count": 29,
   "id": "8e17e4f0",
   "metadata": {},
   "outputs": [
    {
     "name": "stdout",
     "output_type": "stream",
     "text": [
      "Enter                 the list items : 1,2,5\n"
     ]
    },
    {
     "ename": "ValueError",
     "evalue": "invalid literal for int() with base 10: '1,2,5'",
     "output_type": "error",
     "traceback": [
      "\u001b[1;31m---------------------------------------------------------------------------\u001b[0m",
      "\u001b[1;31mValueError\u001b[0m                                Traceback (most recent call last)",
      "Cell \u001b[1;32mIn[29], line 7\u001b[0m\n\u001b[0;32m      4\u001b[0m \u001b[38;5;66;03m# For list of strings/chars\u001b[39;00m\n\u001b[0;32m      5\u001b[0m lst2 \u001b[38;5;241m=\u001b[39m []\n\u001b[1;32m----> 7\u001b[0m lst1 \u001b[38;5;241m=\u001b[39m [\u001b[38;5;28mint\u001b[39m(item) \u001b[38;5;28;01mfor\u001b[39;00m item \u001b[38;5;129;01min\u001b[39;00m \u001b[38;5;28minput\u001b[39m(\u001b[38;5;124m\"\u001b[39m\u001b[38;5;124mEnter \u001b[39m\u001b[38;5;130;01m\\\u001b[39;00m\n\u001b[0;32m      8\u001b[0m \u001b[38;5;124m                the list items : \u001b[39m\u001b[38;5;124m\"\u001b[39m)\u001b[38;5;241m.\u001b[39msplit()]\n\u001b[0;32m     10\u001b[0m lst2 \u001b[38;5;241m=\u001b[39m [item \u001b[38;5;28;01mfor\u001b[39;00m item \u001b[38;5;129;01min\u001b[39;00m \u001b[38;5;28minput\u001b[39m(\u001b[38;5;124m\"\u001b[39m\u001b[38;5;124mEnter \u001b[39m\u001b[38;5;130;01m\\\u001b[39;00m\n\u001b[0;32m     11\u001b[0m \u001b[38;5;124m                the list items : \u001b[39m\u001b[38;5;124m\"\u001b[39m)\u001b[38;5;241m.\u001b[39msplit()]\n\u001b[0;32m     13\u001b[0m \u001b[38;5;28mprint\u001b[39m(lst1)\n",
      "Cell \u001b[1;32mIn[29], line 7\u001b[0m, in \u001b[0;36m<listcomp>\u001b[1;34m(.0)\u001b[0m\n\u001b[0;32m      4\u001b[0m \u001b[38;5;66;03m# For list of strings/chars\u001b[39;00m\n\u001b[0;32m      5\u001b[0m lst2 \u001b[38;5;241m=\u001b[39m []\n\u001b[1;32m----> 7\u001b[0m lst1 \u001b[38;5;241m=\u001b[39m [\u001b[38;5;28mint\u001b[39m(item) \u001b[38;5;28;01mfor\u001b[39;00m item \u001b[38;5;129;01min\u001b[39;00m \u001b[38;5;28minput\u001b[39m(\u001b[38;5;124m\"\u001b[39m\u001b[38;5;124mEnter \u001b[39m\u001b[38;5;130;01m\\\u001b[39;00m\n\u001b[0;32m      8\u001b[0m \u001b[38;5;124m                the list items : \u001b[39m\u001b[38;5;124m\"\u001b[39m)\u001b[38;5;241m.\u001b[39msplit()]\n\u001b[0;32m     10\u001b[0m lst2 \u001b[38;5;241m=\u001b[39m [item \u001b[38;5;28;01mfor\u001b[39;00m item \u001b[38;5;129;01min\u001b[39;00m \u001b[38;5;28minput\u001b[39m(\u001b[38;5;124m\"\u001b[39m\u001b[38;5;124mEnter \u001b[39m\u001b[38;5;130;01m\\\u001b[39;00m\n\u001b[0;32m     11\u001b[0m \u001b[38;5;124m                the list items : \u001b[39m\u001b[38;5;124m\"\u001b[39m)\u001b[38;5;241m.\u001b[39msplit()]\n\u001b[0;32m     13\u001b[0m \u001b[38;5;28mprint\u001b[39m(lst1)\n",
      "\u001b[1;31mValueError\u001b[0m: invalid literal for int() with base 10: '1,2,5'"
     ]
    }
   ],
   "source": [
    "# For list of integers\n",
    "lst1 = []\n",
    " \n",
    "# For list of strings/chars\n",
    "lst2 = []\n",
    " \n",
    "lst1 = [int(item) for item in input(\"Enter \\\n",
    "                the list items : \").split()]\n",
    " \n",
    "lst2 = [item for item in input(\"Enter \\\n",
    "                the list items : \").split()]\n",
    " \n",
    "print(lst1)\n",
    "print(lst2)"
   ]
  },
  {
   "cell_type": "code",
   "execution_count": null,
   "id": "3225566d",
   "metadata": {},
   "outputs": [],
   "source": []
  },
  {
   "cell_type": "code",
   "execution_count": 41,
   "id": "c427923e",
   "metadata": {},
   "outputs": [],
   "source": [
    "a=10\n",
    "b=\"10\""
   ]
  },
  {
   "cell_type": "code",
   "execution_count": 42,
   "id": "6cfdbc34",
   "metadata": {},
   "outputs": [],
   "source": [
    "if a==b:\n",
    "    print(\"They are same\")"
   ]
  },
  {
   "cell_type": "code",
   "execution_count": 43,
   "id": "3734a752",
   "metadata": {},
   "outputs": [
    {
     "data": {
      "text/plain": [
       "True"
      ]
     },
     "execution_count": 43,
     "metadata": {},
     "output_type": "execute_result"
    }
   ],
   "source": [
    "a==int(b)"
   ]
  },
  {
   "cell_type": "code",
   "execution_count": 44,
   "id": "5ec8c494",
   "metadata": {},
   "outputs": [
    {
     "data": {
      "text/plain": [
       "True"
      ]
     },
     "execution_count": 44,
     "metadata": {},
     "output_type": "execute_result"
    }
   ],
   "source": [
    "a is int(b)"
   ]
  },
  {
   "cell_type": "code",
   "execution_count": 45,
   "id": "a82d657d",
   "metadata": {},
   "outputs": [],
   "source": [
    "c=5+5"
   ]
  },
  {
   "cell_type": "code",
   "execution_count": 46,
   "id": "891f6a6e",
   "metadata": {},
   "outputs": [
    {
     "data": {
      "text/plain": [
       "True"
      ]
     },
     "execution_count": 46,
     "metadata": {},
     "output_type": "execute_result"
    }
   ],
   "source": [
    "a is c"
   ]
  },
  {
   "cell_type": "code",
   "execution_count": 47,
   "id": "c8ba8bbb",
   "metadata": {},
   "outputs": [],
   "source": [
    "a=[1,2,3]\n",
    "b=a\n",
    "c=a[:]"
   ]
  },
  {
   "cell_type": "code",
   "execution_count": 48,
   "id": "4a64055b",
   "metadata": {},
   "outputs": [
    {
     "data": {
      "text/plain": [
       "True"
      ]
     },
     "execution_count": 48,
     "metadata": {},
     "output_type": "execute_result"
    }
   ],
   "source": [
    "a==c"
   ]
  },
  {
   "cell_type": "code",
   "execution_count": 49,
   "id": "4ca9e949",
   "metadata": {},
   "outputs": [
    {
     "data": {
      "text/plain": [
       "False"
      ]
     },
     "execution_count": 49,
     "metadata": {},
     "output_type": "execute_result"
    }
   ],
   "source": [
    "a is c"
   ]
  },
  {
   "cell_type": "code",
   "execution_count": 53,
   "id": "ebbaba48",
   "metadata": {},
   "outputs": [
    {
     "name": "stdout",
     "output_type": "stream",
     "text": [
      "1 2 0 5\n"
     ]
    }
   ],
   "source": [
    "a=tuple(input())"
   ]
  },
  {
   "cell_type": "code",
   "execution_count": 54,
   "id": "71eabfe3",
   "metadata": {},
   "outputs": [
    {
     "data": {
      "text/plain": [
       "('1', ' ', '2', ' ', '0', ' ', '5')"
      ]
     },
     "execution_count": 54,
     "metadata": {},
     "output_type": "execute_result"
    }
   ],
   "source": [
    "a"
   ]
  },
  {
   "cell_type": "raw",
   "id": "216427eb",
   "metadata": {},
   "source": [
    "#print\n"
   ]
  },
  {
   "cell_type": "code",
   "execution_count": 56,
   "id": "74f4d31d",
   "metadata": {},
   "outputs": [
    {
     "name": "stdout",
     "output_type": "stream",
     "text": [
      "Hi@Abhi\n"
     ]
    }
   ],
   "source": [
    "print('Hi',end='@')\n",
    "print('Abhi')"
   ]
  },
  {
   "cell_type": "code",
   "execution_count": 75,
   "id": "a8ea5c83",
   "metadata": {},
   "outputs": [
    {
     "ename": "SyntaxError",
     "evalue": "unterminated string literal (detected at line 1) (1615652341.py, line 1)",
     "output_type": "error",
     "traceback": [
      "\u001b[1;36m  Cell \u001b[1;32mIn[75], line 1\u001b[1;36m\u001b[0m\n\u001b[1;33m    print('Hi\u001b[0m\n\u001b[1;37m          ^\u001b[0m\n\u001b[1;31mSyntaxError\u001b[0m\u001b[1;31m:\u001b[0m unterminated string literal (detected at line 1)\n"
     ]
    }
   ],
   "source": [
    "print('Hi\n",
    "      Abhi')\n",
    "      #error cause print is an inline statement\n",
    "      #so it cannot be printed"
   ]
  },
  {
   "cell_type": "code",
   "execution_count": 61,
   "id": "a824cff0",
   "metadata": {},
   "outputs": [
    {
     "name": "stdout",
     "output_type": "stream",
     "text": [
      "Hi\n",
      "      Abhi\n"
     ]
    }
   ],
   "source": [
    "print(\"\"\"Hi\n",
    "      Abhi\"\"\")\n"
   ]
  },
  {
   "cell_type": "code",
   "execution_count": 62,
   "id": "307d5a7e",
   "metadata": {},
   "outputs": [
    {
     "name": "stdout",
     "output_type": "stream",
     "text": [
      "a world\n"
     ]
    }
   ],
   "source": [
    "a='Hello'\n",
    "print('a world')"
   ]
  },
  {
   "cell_type": "code",
   "execution_count": 63,
   "id": "a3747d07",
   "metadata": {},
   "outputs": [],
   "source": [
    "#Modulo '%'\n",
    "#f strings\n",
    "#string format\n",
    "#Class template"
   ]
  },
  {
   "cell_type": "code",
   "execution_count": 64,
   "id": "bd8ef312",
   "metadata": {},
   "outputs": [
    {
     "name": "stdout",
     "output_type": "stream",
     "text": [
      "Hello world\n"
     ]
    }
   ],
   "source": [
    "##f string\n",
    "a='Hello'\n",
    "print(f'{a} world')"
   ]
  },
  {
   "cell_type": "code",
   "execution_count": 68,
   "id": "5fcdacdd",
   "metadata": {},
   "outputs": [
    {
     "name": "stdout",
     "output_type": "stream",
     "text": [
      "Hello,world\n"
     ]
    }
   ],
   "source": [
    "print('{a1},world'.format(a1=a))"
   ]
  },
  {
   "cell_type": "code",
   "execution_count": 70,
   "id": "2eafc26b",
   "metadata": {},
   "outputs": [
    {
     "name": "stdout",
     "output_type": "stream",
     "text": [
      "1,2,3\n"
     ]
    }
   ],
   "source": [
    "print('{},{},{}'.format(1,2,3))"
   ]
  },
  {
   "cell_type": "code",
   "execution_count": 78,
   "id": "737cff38",
   "metadata": {},
   "outputs": [
    {
     "name": "stdout",
     "output_type": "stream",
     "text": [
      "1 2 Hello\n"
     ]
    }
   ],
   "source": [
    "print('{}'.format(1,2,3),'{}'.format(2,3),'{}'.format(a))"
   ]
  },
  {
   "cell_type": "code",
   "execution_count": 79,
   "id": "5269d675",
   "metadata": {},
   "outputs": [],
   "source": [
    "#Modulo %\n"
   ]
  },
  {
   "cell_type": "code",
   "execution_count": 80,
   "id": "2dc5fd64",
   "metadata": {},
   "outputs": [
    {
     "name": "stdout",
     "output_type": "stream",
     "text": [
      "1.25 Hi\n"
     ]
    }
   ],
   "source": [
    "print('%s %s'%(1.25,'Hi'))"
   ]
  },
  {
   "cell_type": "code",
   "execution_count": 81,
   "id": "650afe71",
   "metadata": {},
   "outputs": [
    {
     "name": "stdout",
     "output_type": "stream",
     "text": [
      "1.250000 Hi\n"
     ]
    }
   ],
   "source": [
    "print('%f %s'%(1.25,'Hi'))"
   ]
  },
  {
   "cell_type": "code",
   "execution_count": 82,
   "id": "b004a09c",
   "metadata": {},
   "outputs": [
    {
     "name": "stdout",
     "output_type": "stream",
     "text": [
      "1.25 Hi\n"
     ]
    }
   ],
   "source": [
    "print('%.2f %s'%(1.25,'Hi'))"
   ]
  },
  {
   "cell_type": "code",
   "execution_count": 167,
   "id": "da0a7165",
   "metadata": {},
   "outputs": [
    {
     "name": "stdout",
     "output_type": "stream",
     "text": [
      "(2 * 3)-10 = -4\n"
     ]
    }
   ],
   "source": [
    "a = 2\n",
    "b = 3\n",
    "c = 10\n",
    " \n",
    "print(f\"({a} * {b})-{c} = {(2 * 3)-10}\")"
   ]
  },
  {
   "cell_type": "code",
   "execution_count": 83,
   "id": "12c2c8df",
   "metadata": {},
   "outputs": [],
   "source": [
    "#class template"
   ]
  },
  {
   "cell_type": "code",
   "execution_count": 100,
   "id": "e073f152",
   "metadata": {},
   "outputs": [
    {
     "ename": "KeyError",
     "evalue": "'FirstName'",
     "output_type": "error",
     "traceback": [
      "\u001b[1;31m---------------------------------------------------------------------------\u001b[0m",
      "\u001b[1;31mKeyError\u001b[0m                                  Traceback (most recent call last)",
      "Cell \u001b[1;32mIn[100], line 4\u001b[0m\n\u001b[0;32m      2\u001b[0m \u001b[38;5;28;01mfrom\u001b[39;00m \u001b[38;5;21;01mstring\u001b[39;00m \u001b[38;5;28;01mimport\u001b[39;00m Template\n\u001b[0;32m      3\u001b[0m tmp\u001b[38;5;241m=\u001b[39mTemplate(\u001b[38;5;124m'\u001b[39m\u001b[38;5;124m$FirstName $LastName\u001b[39m\u001b[38;5;124m'\u001b[39m)\n\u001b[1;32m----> 4\u001b[0m \u001b[38;5;28mprint\u001b[39m(tmp\u001b[38;5;241m.\u001b[39msubstitute(n1\u001b[38;5;241m=\u001b[39m\u001b[38;5;124m'\u001b[39m\u001b[38;5;124mAbhilipsa\u001b[39m\u001b[38;5;124m'\u001b[39m,n2\u001b[38;5;241m=\u001b[39m\u001b[38;5;124m'\u001b[39m\u001b[38;5;124mMahapatra\u001b[39m\u001b[38;5;124m'\u001b[39m))\n",
      "File \u001b[1;32m~\\AppData\\Local\\anaconda3\\Lib\\string.py:121\u001b[0m, in \u001b[0;36mTemplate.substitute\u001b[1;34m(self, mapping, **kws)\u001b[0m\n\u001b[0;32m    118\u001b[0m         \u001b[38;5;28mself\u001b[39m\u001b[38;5;241m.\u001b[39m_invalid(mo)\n\u001b[0;32m    119\u001b[0m     \u001b[38;5;28;01mraise\u001b[39;00m \u001b[38;5;167;01mValueError\u001b[39;00m(\u001b[38;5;124m'\u001b[39m\u001b[38;5;124mUnrecognized named group in pattern\u001b[39m\u001b[38;5;124m'\u001b[39m,\n\u001b[0;32m    120\u001b[0m                      \u001b[38;5;28mself\u001b[39m\u001b[38;5;241m.\u001b[39mpattern)\n\u001b[1;32m--> 121\u001b[0m \u001b[38;5;28;01mreturn\u001b[39;00m \u001b[38;5;28mself\u001b[39m\u001b[38;5;241m.\u001b[39mpattern\u001b[38;5;241m.\u001b[39msub(convert, \u001b[38;5;28mself\u001b[39m\u001b[38;5;241m.\u001b[39mtemplate)\n",
      "File \u001b[1;32m~\\AppData\\Local\\anaconda3\\Lib\\string.py:114\u001b[0m, in \u001b[0;36mTemplate.substitute.<locals>.convert\u001b[1;34m(mo)\u001b[0m\n\u001b[0;32m    112\u001b[0m named \u001b[38;5;241m=\u001b[39m mo\u001b[38;5;241m.\u001b[39mgroup(\u001b[38;5;124m'\u001b[39m\u001b[38;5;124mnamed\u001b[39m\u001b[38;5;124m'\u001b[39m) \u001b[38;5;129;01mor\u001b[39;00m mo\u001b[38;5;241m.\u001b[39mgroup(\u001b[38;5;124m'\u001b[39m\u001b[38;5;124mbraced\u001b[39m\u001b[38;5;124m'\u001b[39m)\n\u001b[0;32m    113\u001b[0m \u001b[38;5;28;01mif\u001b[39;00m named \u001b[38;5;129;01mis\u001b[39;00m \u001b[38;5;129;01mnot\u001b[39;00m \u001b[38;5;28;01mNone\u001b[39;00m:\n\u001b[1;32m--> 114\u001b[0m     \u001b[38;5;28;01mreturn\u001b[39;00m \u001b[38;5;28mstr\u001b[39m(mapping[named])\n\u001b[0;32m    115\u001b[0m \u001b[38;5;28;01mif\u001b[39;00m mo\u001b[38;5;241m.\u001b[39mgroup(\u001b[38;5;124m'\u001b[39m\u001b[38;5;124mescaped\u001b[39m\u001b[38;5;124m'\u001b[39m) \u001b[38;5;129;01mis\u001b[39;00m \u001b[38;5;129;01mnot\u001b[39;00m \u001b[38;5;28;01mNone\u001b[39;00m:\n\u001b[0;32m    116\u001b[0m     \u001b[38;5;28;01mreturn\u001b[39;00m \u001b[38;5;28mself\u001b[39m\u001b[38;5;241m.\u001b[39mdelimiter\n",
      "\u001b[1;31mKeyError\u001b[0m: 'FirstName'"
     ]
    }
   ],
   "source": [
    "#declare a template\n",
    "from string import Template\n",
    "tmp=Template('$FirstName $LastName')\n",
    "print(tmp.substitute(n1='Abhilipsa',n2='Mahapatra'))"
   ]
  },
  {
   "cell_type": "code",
   "execution_count": 114,
   "id": "e5eb57d6",
   "metadata": {},
   "outputs": [
    {
     "name": "stdout",
     "output_type": "stream",
     "text": [
      "1e-09\n"
     ]
    }
   ],
   "source": [
    "print(0.0000000010000000000000000001)"
   ]
  },
  {
   "cell_type": "code",
   "execution_count": 115,
   "id": "a2a5c056",
   "metadata": {},
   "outputs": [
    {
     "data": {
      "text/plain": [
       "-4"
      ]
     },
     "execution_count": 115,
     "metadata": {},
     "output_type": "execute_result"
    }
   ],
   "source": [
    "-14//4"
   ]
  },
  {
   "cell_type": "code",
   "execution_count": 122,
   "id": "d61346b8",
   "metadata": {},
   "outputs": [
    {
     "name": "stdout",
     "output_type": "stream",
     "text": [
      "2.55\n"
     ]
    }
   ],
   "source": [
    "print(+2.55)"
   ]
  },
  {
   "cell_type": "code",
   "execution_count": 125,
   "id": "d731a51e",
   "metadata": {},
   "outputs": [
    {
     "name": "stdout",
     "output_type": "stream",
     "text": [
      "Tell me anything...Hello\n",
      "Hmm... Hello ...Really?\n"
     ]
    }
   ],
   "source": [
    "anything = input(\"Tell me anything...\")\n",
    "print(\"Hmm...\", anything, \"...Really?\")"
   ]
  },
  {
   "cell_type": "code",
   "execution_count": 141,
   "id": "04a8bc54",
   "metadata": {},
   "outputs": [
    {
     "name": "stdout",
     "output_type": "stream",
     "text": [
      "Enter a number: 2\n"
     ]
    },
    {
     "ename": "TypeError",
     "evalue": "unsupported operand type(s) for ** or pow(): 'str' and 'float'",
     "output_type": "error",
     "traceback": [
      "\u001b[1;31m---------------------------------------------------------------------------\u001b[0m",
      "\u001b[1;31mTypeError\u001b[0m                                 Traceback (most recent call last)",
      "Cell \u001b[1;32mIn[141], line 2\u001b[0m\n\u001b[0;32m      1\u001b[0m anything1 \u001b[38;5;241m=\u001b[39m \u001b[38;5;28minput\u001b[39m(\u001b[38;5;124m\"\u001b[39m\u001b[38;5;124mEnter a number: \u001b[39m\u001b[38;5;124m\"\u001b[39m)\n\u001b[1;32m----> 2\u001b[0m something \u001b[38;5;241m=\u001b[39m anything1 \u001b[38;5;241m*\u001b[39m\u001b[38;5;241m*\u001b[39m \u001b[38;5;241m2.0\u001b[39m\n\u001b[0;32m      3\u001b[0m \u001b[38;5;28mprint\u001b[39m(anything1, \u001b[38;5;124m\"\u001b[39m\u001b[38;5;124mto the power of 2 is\u001b[39m\u001b[38;5;124m\"\u001b[39m, something)\n",
      "\u001b[1;31mTypeError\u001b[0m: unsupported operand type(s) for ** or pow(): 'str' and 'float'"
     ]
    }
   ],
   "source": [
    "anything1 = input(\"Enter a number: \")\n",
    "something = anything1 ** 2.0\n",
    "print(anything1, \"to the power of 2 is\", something)"
   ]
  },
  {
   "cell_type": "code",
   "execution_count": 131,
   "id": "97a0a2fe",
   "metadata": {},
   "outputs": [
    {
     "data": {
      "text/plain": [
       "'22222'"
      ]
     },
     "execution_count": 131,
     "metadata": {},
     "output_type": "execute_result"
    }
   ],
   "source": [
    "5*\"2\""
   ]
  },
  {
   "cell_type": "code",
   "execution_count": 132,
   "id": "3c21381b",
   "metadata": {},
   "outputs": [
    {
     "data": {
      "text/plain": [
       "'22222'"
      ]
     },
     "execution_count": 132,
     "metadata": {},
     "output_type": "execute_result"
    }
   ],
   "source": [
    "\"2\"*5"
   ]
  },
  {
   "cell_type": "code",
   "execution_count": 134,
   "id": "c0de83b0",
   "metadata": {},
   "outputs": [
    {
     "name": "stdout",
     "output_type": "stream",
     "text": [
      "+----------+\n",
      "|          |\n",
      "|          |\n",
      "|          |\n",
      "|          |\n",
      "|          |\n",
      "+----------+\n"
     ]
    }
   ],
   "source": [
    "print(\"+\" + 10 * \"-\" + \"+\")\n",
    "print((\"|\" + \" \" * 10 + \"|\\n\") * 5,end=\"\")\n",
    "print(\"+\" + 10 * \"-\" + \"+\")"
   ]
  },
  {
   "cell_type": "code",
   "execution_count": 140,
   "id": "339467bd",
   "metadata": {},
   "outputs": [
    {
     "name": "stdout",
     "output_type": "stream",
     "text": [
      "Enter elements of the list separated by space: 1 2 3 4\n",
      "List: ['1', '2', '3', '4']\n"
     ]
    }
   ],
   "source": [
    "input_str = input(\"Enter elements of the list separated by space: \")  \n",
    "my_list = list(map(str, input_str.split()))  \n",
    "  \n",
    "# Printing the list  \n",
    "print(\"List:\", my_list)  \n"
   ]
  },
  {
   "cell_type": "code",
   "execution_count": 142,
   "id": "12638415",
   "metadata": {},
   "outputs": [
    {
     "ename": "SyntaxError",
     "evalue": "unterminated string literal (detected at line 17) (178281037.py, line 17)",
     "output_type": "error",
     "traceback": [
      "\u001b[1;36m  Cell \u001b[1;32mIn[142], line 17\u001b[1;36m\u001b[0m\n\u001b[1;33m    if conditon then result else else's result\u001b[0m\n\u001b[1;37m                                     ^\u001b[0m\n\u001b[1;31mSyntaxError\u001b[0m\u001b[1;31m:\u001b[0m unterminated string literal (detected at line 17)\n"
     ]
    }
   ],
   "source": [
    "#Arithmetic Operators\n",
    "+,-,*,//,%,** PEDMAS\n",
    "\n",
    "#Comparision Operators\n",
    ">,<,>=,<=,==,!=\n",
    "\n",
    "#LogicalOperators\n",
    "and,or,not\n",
    "\n",
    "#Bitwise Operators\n",
    ">>,<<\n",
    "\n",
    "#Assignment operators\n",
    "=,+=,-=,//=,**=\n",
    "\n",
    "#Ternary Operators\n",
    "if conditon then result else else's result\n",
    "\n",
    "#identify operators & membership\n",
    "is,in,is not,not in\n",
    "\n"
   ]
  },
  {
   "cell_type": "code",
   "execution_count": 146,
   "id": "2fec5856",
   "metadata": {},
   "outputs": [
    {
     "name": "stdout",
     "output_type": "stream",
     "text": [
      "False\n",
      "True\n"
     ]
    }
   ],
   "source": [
    "x=5\n",
    "print(x>5 and x<9)\n",
    "print(x>5 or x<9)\n",
    "print"
   ]
  },
  {
   "cell_type": "code",
   "execution_count": 147,
   "id": "f1ef2a90",
   "metadata": {},
   "outputs": [
    {
     "name": "stdout",
     "output_type": "stream",
     "text": [
      "Enter your name: Abhi\n",
      "Hello, Abhi. Nice to meet you!\n"
     ]
    }
   ],
   "source": [
    "name = input(\"Enter your name: \")\n",
    "print(\"Hello, \" + name + \". Nice to meet you!\")\n",
    " "
   ]
  },
  {
   "cell_type": "code",
   "execution_count": 150,
   "id": "a533bd8d",
   "metadata": {},
   "outputs": [
    {
     "name": "stdout",
     "output_type": "stream",
     "text": [
      "Enter your name: Abhi\n",
      "Hello, Abhi. Nice to meet you!\n",
      "\n",
      "Press Enter to end the program.\n",
      "\"01\"\n",
      "THE END.\n"
     ]
    }
   ],
   "source": [
    "name = input(\"Enter your name: \")\n",
    "print(\"Hello, \" + name + \". Nice to meet you!\")\n",
    " \n",
    "print(\"\\nPress Enter to end the program.\")\n",
    "input()\n",
    "print(\"THE END.\")"
   ]
  },
  {
   "cell_type": "code",
   "execution_count": 151,
   "id": "8d68c9d6",
   "metadata": {},
   "outputs": [
    {
     "name": "stdout",
     "output_type": "stream",
     "text": [
      "2\n",
      "4\n",
      "8.0\n"
     ]
    }
   ],
   "source": [
    "x = int(input())\n",
    "y = int(input())\n",
    " \n",
    "x = x / y\n",
    "y = y / x\n",
    " \n",
    "print(y)"
   ]
  },
  {
   "cell_type": "code",
   "execution_count": null,
   "id": "498a5f0f",
   "metadata": {},
   "outputs": [],
   "source": [
    "#Understanding Arithmetic Operators\n",
    "a = int(input(\"Enter an integer value\"))\n",
    "b = int(input(\"Enter an integer value\"))\n",
    "\n",
    "# # addition\n",
    "# #print ('Sum: ', a + b)  \n",
    "\n",
    "# # subtraction\n",
    "# print ('Subtraction: ', a - b)   \n",
    "\n",
    "# # multiplication\n",
    "# print ('Multiplication: ', a * b)  \n",
    "\n",
    "# # division\n",
    "# print ('Division: ', a / b) \n",
    "\n",
    "# # floor division\n",
    "# print ('Floor Division: ', a // b)\n",
    "\n",
    "# # modulo\n",
    "# print ('Modulo: ', a % b)  \n",
    "# # a to the power b\n",
    "# print ('Power: ', a ** b)   \n",
    "# equal to operator\n",
    "print('a == b =', a == b)\n",
    "\n",
    "# not equal to operator\n",
    "print('a != b =', a != b)\n",
    "\n",
    "# greater than operator\n",
    "print('a > b =', a > b)\n",
    "\n",
    "# less than operator\n",
    "print('a < b =', a < b)\n",
    "\n",
    "# greater than or equal to operator\n",
    "print('a >= b =', a >= b)\n",
    "\n",
    "# less than or equal to operator\n",
    "print('a <= b =', a <= b)"
   ]
  },
  {
   "cell_type": "code",
   "execution_count": 160,
   "id": "2d5c8e59",
   "metadata": {},
   "outputs": [
    {
     "name": "stdout",
     "output_type": "stream",
     "text": [
      "Enter an integer value5\n",
      "Enter an integer value2\n",
      "a == b = False\n",
      "a != b = True\n",
      "a > b = True\n",
      "a < b = False\n",
      "a >= b = True\n",
      "a <= b = False\n"
     ]
    }
   ],
   "source": [
    "a = int(input(\"Enter an integer value\"))\n",
    "b = int(input(\"Enter an integer value\"))\n",
    "# equal to operator\n",
    "print('a == b =', a == b)\n",
    "\n",
    "# not equal to operator\n",
    "print('a != b =', a != b)\n",
    "\n",
    "# greater than operator\n",
    "print('a > b =', a > b)\n",
    "\n",
    "# less than operator\n",
    "print('a < b =', a < b)\n",
    "\n",
    "# greater than or equal to operator\n",
    "print('a >= b =', a >= b)\n",
    "\n",
    "# less than or equal to operator\n",
    "print('a <= b =', a <= b)"
   ]
  },
  {
   "cell_type": "code",
   "execution_count": 161,
   "id": "451a40bf",
   "metadata": {},
   "outputs": [
    {
     "name": "stdout",
     "output_type": "stream",
     "text": [
      "True\n",
      "False\n",
      "True\n",
      "False\n"
     ]
    }
   ],
   "source": [
    "#Understanding Logical Operators\n",
    "# logical AND\n",
    "print(True and True)     \n",
    "print(True and False)    \n",
    "\n",
    "# logical OR\n",
    "print(True or False)     \n",
    "\n",
    "# logical NOT\n",
    "print(not True)         "
   ]
  },
  {
   "cell_type": "code",
   "execution_count": 163,
   "id": "800487f7",
   "metadata": {},
   "outputs": [
    {
     "name": "stdout",
     "output_type": "stream",
     "text": [
      "Enter an integer value10\n",
      "Enter an integer value4\n",
      "a & b = 0\n",
      "a | b = 14\n",
      "~a = -11\n",
      "a ^ b = 14\n"
     ]
    }
   ],
   "source": [
    "#Understanding Bitwise operators\n",
    "a = int(input(\"Enter an integer value\"))\n",
    "b = int(input(\"Enter an integer value\"))\n",
    "\n",
    "# Print bitwise AND operation\n",
    "print(\"a & b =\", a & b)\n",
    " \n",
    "# Print bitwise OR operation\n",
    "print(\"a | b =\", a | b)\n",
    " \n",
    "# Print bitwise NOT operation\n",
    "print(\"~a =\", ~a)\n",
    " \n",
    "# print bitwise XOR operation\n",
    "print(\"a ^ b =\", a ^ b)"
   ]
  },
  {
   "cell_type": "code",
   "execution_count": 164,
   "id": "8ca9e33c",
   "metadata": {},
   "outputs": [
    {
     "name": "stdout",
     "output_type": "stream",
     "text": [
      "a >> 1 = 5\n",
      "b >> 1 = -5\n",
      "a << 1 = 10\n",
      "b << 1 = -20\n"
     ]
    }
   ],
   "source": [
    "#Shift Operators\n",
    "a = 10\n",
    "b = -10\n",
    " \n",
    "# print bitwise right shift operator\n",
    "print(\"a >> 1 =\", a >> 1)\n",
    "print(\"b >> 1 =\", b >> 1)\n",
    " \n",
    "a = 5\n",
    "b = -10\n",
    " \n",
    "# print bitwise left shift operator\n",
    "print(\"a << 1 =\", a << 1)\n",
    "print(\"b << 1 =\", b << 1)\n"
   ]
  },
  {
   "cell_type": "code",
   "execution_count": 165,
   "id": "e032fcc5",
   "metadata": {},
   "outputs": [
    {
     "name": "stdout",
     "output_type": "stream",
     "text": [
      "False\n",
      "True\n",
      "False\n"
     ]
    }
   ],
   "source": [
    "#Identity Operators\n",
    "x1 = 5\n",
    "y1 = 5\n",
    "x2 = 'Hello'\n",
    "y2 = 'Hello'\n",
    "x3 = [1,2,3]\n",
    "y3 = [1,2,3]\n",
    "\n",
    "print(x1 is not y1)  \n",
    "\n",
    "print(x2 is y2)  \n",
    "\n",
    "print(x3 is y3)  "
   ]
  },
  {
   "cell_type": "code",
   "execution_count": 166,
   "id": "8cc9faac",
   "metadata": {},
   "outputs": [
    {
     "name": "stdout",
     "output_type": "stream",
     "text": [
      "True\n",
      "True\n",
      "True\n",
      "False\n"
     ]
    }
   ],
   "source": [
    "#Membership operators\n",
    "x = 'Hello world'\n",
    "y = {1:'a', 2:'b'}\n",
    "\n",
    "# check if 'H' is present in x string\n",
    "print('H' in x)  # prints True\n",
    "\n",
    "# check if 'hello' is present in x string\n",
    "print('hello' not in x)  # prints True\n",
    "\n",
    "# check if '1' key is present in y\n",
    "print(1 in y)  # prints True\n",
    "\n",
    "# check if 'a' key is present in y\n",
    "print('a' in y)  # prints False"
   ]
  },
  {
   "cell_type": "code",
   "execution_count": 168,
   "id": "840dfcaa",
   "metadata": {},
   "outputs": [],
   "source": [
    "a='Abhi'\n",
    "a='Abhi'+'lipsa'"
   ]
  },
  {
   "cell_type": "code",
   "execution_count": 169,
   "id": "4fa67975",
   "metadata": {},
   "outputs": [
    {
     "name": "stdout",
     "output_type": "stream",
     "text": [
      "Abhilipsa\n"
     ]
    }
   ],
   "source": [
    "print(a)"
   ]
  },
  {
   "cell_type": "code",
   "execution_count": 171,
   "id": "699ddfd9",
   "metadata": {},
   "outputs": [
    {
     "data": {
      "text/plain": [
       "'012345'"
      ]
     },
     "execution_count": 171,
     "metadata": {},
     "output_type": "execute_result"
    }
   ],
   "source": [
    "#String manipulation\n",
    "a='0123456789'\n",
    "a[:]\n",
    "a[:6]"
   ]
  },
  {
   "cell_type": "code",
   "execution_count": 241,
   "id": "20392782",
   "metadata": {},
   "outputs": [
    {
     "data": {
      "text/plain": [
       "'01234'"
      ]
     },
     "execution_count": 241,
     "metadata": {},
     "output_type": "execute_result"
    }
   ],
   "source": [
    "#indexing\n",
    "a[:-5]"
   ]
  },
  {
   "cell_type": "code",
   "execution_count": 173,
   "id": "0b91031c",
   "metadata": {},
   "outputs": [
    {
     "data": {
      "text/plain": [
       "'0123456789'"
      ]
     },
     "execution_count": 173,
     "metadata": {},
     "output_type": "execute_result"
    }
   ],
   "source": [
    "a[0:]"
   ]
  },
  {
   "cell_type": "code",
   "execution_count": 242,
   "id": "e852a40e",
   "metadata": {},
   "outputs": [
    {
     "data": {
      "text/plain": [
       "'9876543210'"
      ]
     },
     "execution_count": 242,
     "metadata": {},
     "output_type": "execute_result"
    }
   ],
   "source": [
    "a[::-1]"
   ]
  },
  {
   "cell_type": "code",
   "execution_count": 175,
   "id": "f89def14",
   "metadata": {},
   "outputs": [
    {
     "data": {
      "text/plain": [
       "'02468'"
      ]
     },
     "execution_count": 175,
     "metadata": {},
     "output_type": "execute_result"
    }
   ],
   "source": [
    "a[::2]"
   ]
  },
  {
   "cell_type": "code",
   "execution_count": 176,
   "id": "48283c2d",
   "metadata": {},
   "outputs": [
    {
     "data": {
      "text/plain": [
       "'97531'"
      ]
     },
     "execution_count": 176,
     "metadata": {},
     "output_type": "execute_result"
    }
   ],
   "source": [
    "a[::-2]"
   ]
  },
  {
   "cell_type": "code",
   "execution_count": 177,
   "id": "2ea3c650",
   "metadata": {},
   "outputs": [
    {
     "data": {
      "text/plain": [
       "'0369'"
      ]
     },
     "execution_count": 177,
     "metadata": {},
     "output_type": "execute_result"
    }
   ],
   "source": [
    "a[::3]"
   ]
  },
  {
   "cell_type": "code",
   "execution_count": 243,
   "id": "4446942b",
   "metadata": {},
   "outputs": [
    {
     "data": {
      "text/plain": [
       "'97'"
      ]
     },
     "execution_count": 243,
     "metadata": {},
     "output_type": "execute_result"
    }
   ],
   "source": [
    "a[:-5:-2]"
   ]
  },
  {
   "cell_type": "code",
   "execution_count": 251,
   "id": "4839e1fe",
   "metadata": {},
   "outputs": [
    {
     "data": {
      "text/plain": [
       "'3'"
      ]
     },
     "execution_count": 251,
     "metadata": {},
     "output_type": "execute_result"
    }
   ],
   "source": [
    "a[-7:-8:-2]"
   ]
  },
  {
   "cell_type": "code",
   "execution_count": 179,
   "id": "082865d2",
   "metadata": {},
   "outputs": [
    {
     "data": {
      "text/plain": [
       "10"
      ]
     },
     "execution_count": 179,
     "metadata": {},
     "output_type": "execute_result"
    }
   ],
   "source": [
    "#String Functions:no of characters\n",
    "len(a)"
   ]
  },
  {
   "cell_type": "code",
   "execution_count": 181,
   "id": "68ba716f",
   "metadata": {},
   "outputs": [
    {
     "data": {
      "text/plain": [
       "'0124456789'"
      ]
     },
     "execution_count": 181,
     "metadata": {},
     "output_type": "execute_result"
    }
   ],
   "source": [
    "a.replace('3','4')"
   ]
  },
  {
   "cell_type": "code",
   "execution_count": 182,
   "id": "d0139e24",
   "metadata": {},
   "outputs": [
    {
     "name": "stdout",
     "output_type": "stream",
     "text": [
      "0123456789\n"
     ]
    }
   ],
   "source": [
    "print(a)"
   ]
  },
  {
   "cell_type": "code",
   "execution_count": 183,
   "id": "17b1ce55",
   "metadata": {},
   "outputs": [
    {
     "data": {
      "text/plain": [
       "1689557240752"
      ]
     },
     "execution_count": 183,
     "metadata": {},
     "output_type": "execute_result"
    }
   ],
   "source": [
    "id(a)"
   ]
  },
  {
   "cell_type": "code",
   "execution_count": 184,
   "id": "dc0cb74f",
   "metadata": {},
   "outputs": [
    {
     "data": {
      "text/plain": [
       "1689557240752"
      ]
     },
     "execution_count": 184,
     "metadata": {},
     "output_type": "execute_result"
    }
   ],
   "source": [
    "id(a.replace('b','B'))"
   ]
  },
  {
   "cell_type": "code",
   "execution_count": 185,
   "id": "bc9435d9",
   "metadata": {},
   "outputs": [],
   "source": [
    "#replace func took the string as an argument and returned another a new string with the same argument"
   ]
  },
  {
   "cell_type": "code",
   "execution_count": 186,
   "id": "48aecf1c",
   "metadata": {},
   "outputs": [],
   "source": [
    "#Title,#capitalize\n",
    "\n"
   ]
  },
  {
   "cell_type": "code",
   "execution_count": 188,
   "id": "3c64259b",
   "metadata": {},
   "outputs": [
    {
     "name": "stdout",
     "output_type": "stream",
     "text": [
      "Count of 'i':  2\n",
      "Number of spaces: 4\n"
     ]
    }
   ],
   "source": [
    "#count\n",
    "string = 'Abhilipsa M a H A'\n",
    "\n",
    "# count the character 'i'.\n",
    "count1 = string.count('i')\n",
    "print(\"Count of 'i': \", count1)\n",
    "\n",
    "# Count spaces.\n",
    "count2 = string.count(' ')\n",
    "print(\"Number of spaces:\", count2)\n"
   ]
  },
  {
   "cell_type": "code",
   "execution_count": 198,
   "id": "1d6bf139",
   "metadata": {},
   "outputs": [
    {
     "name": "stdout",
     "output_type": "stream",
     "text": [
      "['Welcome Abhilips', ' M', 'h', 'p', 'tr', '']\n"
     ]
    }
   ],
   "source": [
    "#split()\n",
    "#Syntax:string.split(separator, maxsplit)\n",
    "string = 'Welcome Abhilipsa Mahapatra'\n",
    "# Splitting across the whitespace.\n",
    "myList = string.split('a')\n",
    "print(myList)"
   ]
  },
  {
   "cell_type": "code",
   "execution_count": 204,
   "id": "2518ad7a",
   "metadata": {},
   "outputs": [
    {
     "name": "stdout",
     "output_type": "stream",
     "text": [
      "0\n"
     ]
    }
   ],
   "source": [
    "#find() function\n",
    "string = 'Welcome Abhilipsa Mahapatra'\n",
    "index = string.find('')\n",
    "print(index)"
   ]
  },
  {
   "cell_type": "code",
   "execution_count": 284,
   "id": "48ebd32b",
   "metadata": {},
   "outputs": [
    {
     "name": "stdout",
     "output_type": "stream",
     "text": [
      "Welcome-Abhilipsa-Mahapatra\n"
     ]
    }
   ],
   "source": [
    "#join() function\n",
    "# Syntax:\"character\".join(seq)\n",
    "string = 'Welcome Abhilipsa Mahapatra'\n",
    "\n",
    "# joining the above-given characters of the string with ‘,’.\n",
    "string = \"-\".join(string.split())\n",
    "\n",
    "print(string)"
   ]
  },
  {
   "cell_type": "code",
   "execution_count": 285,
   "id": "fbf77ee8",
   "metadata": {},
   "outputs": [
    {
     "data": {
      "text/plain": [
       "'Welcome Abhilipsa Mahapatra'"
      ]
     },
     "execution_count": 285,
     "metadata": {},
     "output_type": "execute_result"
    }
   ],
   "source": [
    "# removeprefix() method to remove a prefix from a string.\n",
    "#Syntax:string.removeprefix('prefix')\n",
    "'Welcome Abhilipsa Mahapatra'.removeprefix('Abhi')\n"
   ]
  },
  {
   "cell_type": "code",
   "execution_count": 220,
   "id": "acaef322",
   "metadata": {},
   "outputs": [
    {
     "data": {
      "text/plain": [
       "'Abhilipsa '"
      ]
     },
     "execution_count": 220,
     "metadata": {},
     "output_type": "execute_result"
    }
   ],
   "source": [
    "#the removesuffix() method to remove a suffix from a string.\n",
    "#Syntax:string.removesuffix('suffix')\n",
    "'Abhilipsa Mahapatra'.removesuffix('Mahapatra')"
   ]
  },
  {
   "cell_type": "code",
   "execution_count": 224,
   "id": "748ef2ad",
   "metadata": {},
   "outputs": [
    {
     "data": {
      "text/plain": [
       "'abhilkm'"
      ]
     },
     "execution_count": 224,
     "metadata": {},
     "output_type": "execute_result"
    }
   ],
   "source": [
    "#Syntax:string.upper\n",
    "'AbhilKM'.upper()\n",
    "#Syntax:string.lower\n",
    "'AbhilKM'.lower()"
   ]
  },
  {
   "cell_type": "code",
   "execution_count": 227,
   "id": "f11769af",
   "metadata": {},
   "outputs": [
    {
     "data": {
      "text/plain": [
       "'Abb B;C'"
      ]
     },
     "execution_count": 227,
     "metadata": {},
     "output_type": "execute_result"
    }
   ],
   "source": [
    "'abb b;c'.title()\n"
   ]
  },
  {
   "cell_type": "code",
   "execution_count": 228,
   "id": "9bd9b157",
   "metadata": {},
   "outputs": [
    {
     "data": {
      "text/plain": [
       "'aBHKLJAHHSBgva'"
      ]
     },
     "execution_count": 228,
     "metadata": {},
     "output_type": "execute_result"
    }
   ],
   "source": [
    "'AbhkljahhsbGVA'.swapcase() "
   ]
  },
  {
   "cell_type": "code",
   "execution_count": 231,
   "id": "36540e5d",
   "metadata": {},
   "outputs": [
    {
     "data": {
      "text/plain": [
       "'Abhilipsa mahapatra'"
      ]
     },
     "execution_count": 231,
     "metadata": {},
     "output_type": "execute_result"
    }
   ],
   "source": [
    "'abhilipsa mahapatra'.capitalize() "
   ]
  },
  {
   "cell_type": "code",
   "execution_count": 234,
   "id": "ba94be09",
   "metadata": {},
   "outputs": [
    {
     "data": {
      "text/plain": [
       "True"
      ]
     },
     "execution_count": 234,
     "metadata": {},
     "output_type": "execute_result"
    }
   ],
   "source": [
    "'abhilipsa mahapatra'.islower() "
   ]
  },
  {
   "cell_type": "code",
   "execution_count": 237,
   "id": "7a19ec59",
   "metadata": {},
   "outputs": [
    {
     "data": {
      "text/plain": [
       "True"
      ]
     },
     "execution_count": 237,
     "metadata": {},
     "output_type": "execute_result"
    }
   ],
   "source": [
    "'abhilipsa mahapatra'.endswith(\"a\")"
   ]
  },
  {
   "cell_type": "code",
   "execution_count": 240,
   "id": "0c2a21b1",
   "metadata": {},
   "outputs": [
    {
     "data": {
      "text/plain": [
       "3"
      ]
     },
     "execution_count": 240,
     "metadata": {},
     "output_type": "execute_result"
    }
   ],
   "source": [
    "'abhilipsa mahapatra'.index('i')"
   ]
  },
  {
   "cell_type": "code",
   "execution_count": 253,
   "id": "141976fd",
   "metadata": {},
   "outputs": [
    {
     "data": {
      "text/plain": [
       "True"
      ]
     },
     "execution_count": 253,
     "metadata": {},
     "output_type": "execute_result"
    }
   ],
   "source": [
    "'abhilipsa mahapatra'.startswith(\"a\")"
   ]
  },
  {
   "cell_type": "code",
   "execution_count": 254,
   "id": "af031c75",
   "metadata": {},
   "outputs": [
    {
     "data": {
      "text/plain": [
       "3"
      ]
     },
     "execution_count": 254,
     "metadata": {},
     "output_type": "execute_result"
    }
   ],
   "source": [
    "'abhilipsa mahapatra'.index(\"i\")"
   ]
  },
  {
   "cell_type": "code",
   "execution_count": 292,
   "id": "fd30281b",
   "metadata": {},
   "outputs": [
    {
     "name": "stdout",
     "output_type": "stream",
     "text": [
      " Abhilipsa!!\n"
     ]
    }
   ],
   "source": [
    "string =\"++++x...yz* Abhilipsa!!\"\n",
    " # Removes given set of characters from left.\n",
    "print(string.lstrip(\"+.*xyz\"))"
   ]
  },
  {
   "cell_type": "code",
   "execution_count": 265,
   "id": "e6325d21",
   "metadata": {},
   "outputs": [
    {
     "name": "stdout",
     "output_type": "stream",
     "text": [
      "Abhilipsa ++++x...y!!\n"
     ]
    }
   ],
   "source": [
    "string =\"Abhilipsa ++++x...y!!z*\"\n",
    " # Removes given set of characters from right.\n",
    "print(string.rstrip(\"+.*xyz\"))"
   ]
  },
  {
   "cell_type": "code",
   "execution_count": 268,
   "id": "f3e2ac00",
   "metadata": {},
   "outputs": [
    {
     "data": {
      "text/plain": [
       "False"
      ]
     },
     "execution_count": 268,
     "metadata": {},
     "output_type": "execute_result"
    }
   ],
   "source": [
    "'My name is \\f Ayush'.isprintable()"
   ]
  },
  {
   "cell_type": "code",
   "execution_count": 269,
   "id": "abeafde9",
   "metadata": {},
   "outputs": [
    {
     "name": "stdout",
     "output_type": "stream",
     "text": [
      "My name is Ram and I am 22 years                     old. 22 is my favorite                     number.\n"
     ]
    }
   ],
   "source": [
    "\n",
    "name = \"Ram\"\n",
    "age = 22\n",
    "message = \"My name is {0} and I am {1} years \\\n",
    "                    old. {1} is my favorite \\\n",
    "                    number.\".format(name, age)\n",
    "print(message)"
   ]
  },
  {
   "cell_type": "code",
   "execution_count": 286,
   "id": "da521537",
   "metadata": {},
   "outputs": [
    {
     "name": "stdout",
     "output_type": "stream",
     "text": [
      "For only 49.00 dollars!\n"
     ]
    }
   ],
   "source": [
    "txt = \"For only {price:.2f} dollars!\"\n",
    "print(txt.format(price = 49))"
   ]
  },
  {
   "cell_type": "code",
   "execution_count": 291,
   "id": "890c7a56",
   "metadata": {},
   "outputs": [
    {
     "data": {
      "text/plain": [
       "'     Abhilipsa      '"
      ]
     },
     "execution_count": 291,
     "metadata": {},
     "output_type": "execute_result"
    }
   ],
   "source": [
    "m=\"Abhilipsa\"\n",
    "m.center(20)"
   ]
  },
  {
   "cell_type": "code",
   "execution_count": 289,
   "id": "c188aa30",
   "metadata": {},
   "outputs": [
    {
     "name": "stdout",
     "output_type": "stream",
     "text": [
      "My name is Ram and I am 22 years  old. 22 is my favorite  number.\n"
     ]
    }
   ],
   "source": [
    "name = \"Ram\"\n",
    "age = 22\n",
    "message = \"My name is {0} and I am {1} years \\\n",
    " old. {1} is my favorite \\\n",
    " number.\".format(name, age)\n",
    "print(message)\n"
   ]
  },
  {
   "cell_type": "code",
   "execution_count": 299,
   "id": "abdb0105",
   "metadata": {},
   "outputs": [
    {
     "data": {
      "text/plain": [
       "'Hello String'"
      ]
     },
     "execution_count": 299,
     "metadata": {},
     "output_type": "execute_result"
    }
   ],
   "source": [
    "s=' Hello String '\n",
    "s.strip()"
   ]
  },
  {
   "cell_type": "code",
   "execution_count": 300,
   "id": "3dffc266",
   "metadata": {},
   "outputs": [],
   "source": [
    "#check if a number is valid phone no or not\n",
    "# #conditions:13 digits\n",
    "#             Should not contain anything except 0-9\n",
    "#             Should start with +91"
   ]
  },
  {
   "cell_type": "code",
   "execution_count": 312,
   "id": "7538a6c4",
   "metadata": {},
   "outputs": [
    {
     "name": "stdout",
     "output_type": "stream",
     "text": [
      "Enter a phone number+917896467898\n",
      "Valid Number\n"
     ]
    }
   ],
   "source": [
    "e=input(\"Enter a phone number\")\n",
    "if len(e)==13 and e.startswith('+91') and e[1:].isdigit():\n",
    "     print('Valid Number')\n",
    "else:\n",
    "     print('Not a valid number')"
   ]
  },
  {
   "cell_type": "code",
   "execution_count": 314,
   "id": "c141347e",
   "metadata": {},
   "outputs": [
    {
     "data": {
      "text/plain": [
       "[]"
      ]
     },
     "execution_count": 314,
     "metadata": {},
     "output_type": "execute_result"
    }
   ],
   "source": [
    "l1=[1,2,3,4]\n",
    "l1*-2#To empty string multiply with a negative character"
   ]
  },
  {
   "cell_type": "code",
   "execution_count": 316,
   "id": "7fc84b58",
   "metadata": {},
   "outputs": [],
   "source": [
    "l2=[[1,2,3],[[1,2],[4,5,6]]]"
   ]
  },
  {
   "cell_type": "code",
   "execution_count": 329,
   "id": "cc96c899",
   "metadata": {},
   "outputs": [],
   "source": [
    "l3=[[1,2,3],[1,[2,3,[3,[4,6,[1,'X']]]],[4,5]]]"
   ]
  },
  {
   "cell_type": "code",
   "execution_count": 333,
   "id": "775106f0",
   "metadata": {},
   "outputs": [
    {
     "ename": "IndexError",
     "evalue": "list index out of range",
     "output_type": "error",
     "traceback": [
      "\u001b[1;31m---------------------------------------------------------------------------\u001b[0m",
      "\u001b[1;31mIndexError\u001b[0m                                Traceback (most recent call last)",
      "Cell \u001b[1;32mIn[333], line 1\u001b[0m\n\u001b[1;32m----> 1\u001b[0m l3[\u001b[38;5;241m1\u001b[39m][\u001b[38;5;241m2\u001b[39m][\u001b[38;5;241m2\u001b[39m][\u001b[38;5;241m1\u001b[39m][\u001b[38;5;241m2\u001b[39m]\n",
      "\u001b[1;31mIndexError\u001b[0m: list index out of range"
     ]
    }
   ],
   "source": [
    "l3[1][2][2][2][2]"
   ]
  },
  {
   "cell_type": "code",
   "execution_count": 337,
   "id": "e345e480",
   "metadata": {},
   "outputs": [],
   "source": [
    "def func1(*a):\n",
    "    print(a)"
   ]
  },
  {
   "cell_type": "code",
   "execution_count": 338,
   "id": "7f949637",
   "metadata": {},
   "outputs": [
    {
     "name": "stdout",
     "output_type": "stream",
     "text": [
      "(6,)\n"
     ]
    }
   ],
   "source": [
    "func1(6)"
   ]
  },
  {
   "cell_type": "code",
   "execution_count": 341,
   "id": "06e7406c",
   "metadata": {},
   "outputs": [
    {
     "name": "stdout",
     "output_type": "stream",
     "text": [
      "([1, 2, 3],)\n"
     ]
    }
   ],
   "source": [
    "func1([1,2,3])"
   ]
  },
  {
   "cell_type": "code",
   "execution_count": 350,
   "id": "800a1903",
   "metadata": {},
   "outputs": [
    {
     "name": "stdout",
     "output_type": "stream",
     "text": [
      "{'banana', 'apple', 'cherry'}\n"
     ]
    }
   ],
   "source": [
    "fruits = {\"apple\", \"2534\", \"banana\", \"cherry\",\"2534\"}\n",
    "\n",
    "fruits.discard(\"2534\") \n",
    "\n",
    "print(fruits)\n"
   ]
  },
  {
   "cell_type": "code",
   "execution_count": 349,
   "id": "e19bc3f3",
   "metadata": {},
   "outputs": [
    {
     "ename": "KeyError",
     "evalue": "'2534'",
     "output_type": "error",
     "traceback": [
      "\u001b[1;31m---------------------------------------------------------------------------\u001b[0m",
      "\u001b[1;31mKeyError\u001b[0m                                  Traceback (most recent call last)",
      "Cell \u001b[1;32mIn[349], line 3\u001b[0m\n\u001b[0;32m      1\u001b[0m \u001b[38;5;66;03m# fruits = {\"apple\", \"2534\", \"banana\", \"cherry\",\"2534\"}\u001b[39;00m\n\u001b[1;32m----> 3\u001b[0m fruits\u001b[38;5;241m.\u001b[39mremove(\u001b[38;5;124m\"\u001b[39m\u001b[38;5;124m2534\u001b[39m\u001b[38;5;124m\"\u001b[39m) \n\u001b[0;32m      5\u001b[0m \u001b[38;5;28mprint\u001b[39m(fruits)\n",
      "\u001b[1;31mKeyError\u001b[0m: '2534'"
     ]
    }
   ],
   "source": [
    "# fruits = {\"apple\", \"2534\", \"banana\", \"cherry\",\"2534\"}\n",
    "\n",
    "fruits.remove(\"2534\") \n",
    "\n",
    "print(fruits)\n"
   ]
  },
  {
   "cell_type": "code",
   "execution_count": 359,
   "id": "82049e2b",
   "metadata": {},
   "outputs": [
    {
     "data": {
      "text/plain": [
       "{1: 'Hello', (1, 2): 'Hello Hi', 3: [1, 2, 3]}"
      ]
     },
     "execution_count": 359,
     "metadata": {},
     "output_type": "execute_result"
    }
   ],
   "source": [
    "my_dict = {1: \"Hello\", (1, 2): \"Hello Hi\", 3: [1, 2, 3]}\n",
    "my_dict"
   ]
  },
  {
   "cell_type": "code",
   "execution_count": 360,
   "id": "67ff8cf2",
   "metadata": {},
   "outputs": [
    {
     "ename": "TypeError",
     "evalue": "unhashable type: 'list'",
     "output_type": "error",
     "traceback": [
      "\u001b[1;31m---------------------------------------------------------------------------\u001b[0m",
      "\u001b[1;31mTypeError\u001b[0m                                 Traceback (most recent call last)",
      "Cell \u001b[1;32mIn[360], line 1\u001b[0m\n\u001b[1;32m----> 1\u001b[0m my_dict1\u001b[38;5;241m=\u001b[39m {\u001b[38;5;241m1\u001b[39m: \u001b[38;5;124m\"\u001b[39m\u001b[38;5;124mHello\u001b[39m\u001b[38;5;124m\"\u001b[39m, (\u001b[38;5;241m1\u001b[39m, \u001b[38;5;241m2\u001b[39m): \u001b[38;5;124m\"\u001b[39m\u001b[38;5;124mHello Hi\u001b[39m\u001b[38;5;124m\"\u001b[39m, [\u001b[38;5;241m1\u001b[39m,\u001b[38;5;241m3\u001b[39m]: [\u001b[38;5;241m1\u001b[39m, \u001b[38;5;241m2\u001b[39m, \u001b[38;5;241m3\u001b[39m]}\n\u001b[0;32m      2\u001b[0m my_dict1\n",
      "\u001b[1;31mTypeError\u001b[0m: unhashable type: 'list'"
     ]
    }
   ],
   "source": [
    "my_dict1= {1: \"Hello\", (1, 2): \"Hello Hi\", [1,3]: [1, 2, 3]}\n",
    "my_dict1"
   ]
  },
  {
   "cell_type": "code",
   "execution_count": 366,
   "id": "d0f8fcf2",
   "metadata": {},
   "outputs": [
    {
     "name": "stdout",
     "output_type": "stream",
     "text": [
      "{1: 'Hey', (1, 2): 'Hello Hi', 3: [1, 2, 3]}\n"
     ]
    }
   ],
   "source": [
    "my_dict = {1: \"Hello\", (1, 2): \"Hello Hi\", 3: [1, 2, 3],1:\"Hi\",\n",
    "          1:\"Hey\"}\n",
    "print(my_dict)"
   ]
  },
  {
   "cell_type": "code",
   "execution_count": 370,
   "id": "b48f50e6",
   "metadata": {},
   "outputs": [
    {
     "name": "stdout",
     "output_type": "stream",
     "text": [
      "3\n"
     ]
    },
    {
     "data": {
      "text/plain": [
       "dict"
      ]
     },
     "execution_count": 370,
     "metadata": {},
     "output_type": "execute_result"
    }
   ],
   "source": [
    "print(len(my_dict))\n",
    "type(my_dict)"
   ]
  },
  {
   "cell_type": "code",
   "execution_count": 372,
   "id": "ac5cc692",
   "metadata": {},
   "outputs": [
    {
     "data": {
      "text/plain": [
       "'Hey'"
      ]
     },
     "execution_count": 372,
     "metadata": {},
     "output_type": "execute_result"
    }
   ],
   "source": [
    "my_dict[1]"
   ]
  },
  {
   "cell_type": "code",
   "execution_count": 376,
   "id": "ce3ed69e",
   "metadata": {},
   "outputs": [
    {
     "name": "stdout",
     "output_type": "stream",
     "text": [
      "<re.Match object; span=(4, 7), match='m m'>\n",
      "<built-in method group of re.Match object at 0x00000189680BE1C0>\n",
      "Start index 4\n",
      "end index 7\n"
     ]
    }
   ],
   "source": [
    "import re\n",
    "match=re.search(r'm m','GFG:m m')\n",
    "print(match)\n",
    "print(match.group)\n",
    "print('Start index',match.start())\n",
    "print('end index',match.end())"
   ]
  },
  {
   "cell_type": "code",
   "execution_count": null,
   "id": "84aac184",
   "metadata": {},
   "outputs": [],
   "source": [
    "\n",
    "\n",
    "# List\n",
    "\n",
    "# Adding Elements to a list \n",
    "# 1>append()\n",
    "# 2>insert()\n",
    "# 3>extend()\n",
    "\n",
    "# append()\n",
    " It is a built-in method used to add item at the end of a list.\n",
    " Syntax:list.append(value)\n",
    " \n",
    "\n",
    "languages=['c','cpp','java']\n",
    "languages\n",
    "\n",
    "languages.append('python')\n",
    "languages.append('ruby')\n",
    "languages.append('javascript')\n",
    "languages\n",
    "\n",
    "A list as an item can be added\n",
    "\n",
    "# insert\n",
    "A built-in method to Used to add an item at an specific position\n",
    "Syntax:list.insert(Position.value)\n",
    "languages.append(['javascript','go'])\n",
    "\n",
    "languages.insert(['m',4])\n",
    "languages\n",
    "\n",
    "languages.index(['javascript', 'go'],7)\n",
    "\n",
    "#extend\n",
    "A built-in method used to add all items of one list in another list.\n",
    "Syntax:list1.extend(list2)\n",
    "\n",
    "a=['a','z']\n",
    "b=['b','g']\n",
    "a.extend(b)\n",
    "\n",
    "fruits = ['apple','banana','cherry']\n",
    "\n",
    "cars = ['Ford', 'BMW', 'Volvo']\n",
    "fruits.extend(cars)\n",
    "fruits\n",
    "\n",
    "\n",
    "fruits.remove('cherry')\n",
    "\n",
    "fruits\n",
    "\n",
    "y = ['Jan','Dan','Bob','Alice','Jon','Jack']\n",
    "y.sort()\n",
    "print(y)\n",
    "\n",
    "\n",
    "y.sort(reverse=True)\n",
    "y\n",
    "\n",
    "\n",
    "numbers = [10, 5, 7, 2, 1]\n",
    "print(\"Original list contents:\", numbers)  # Printing original list contents.\n",
    " \n",
    "numbers[0] = 111\n",
    "print(\"New list contents: \", numbers)  # Current list contents.\n",
    "\n",
    "# #The pop() method removes the element at the specified position.\n",
    "\n",
    "# Syntax:list.pop(pos)\n",
    "\n",
    "y.pop(5)\n",
    "\n",
    "import random\n",
    "random.shuffle(y)\n",
    "y\n",
    "\n",
    "#tuples immmutable\n",
    "\n",
    "a=()\n",
    "\n",
    "type(a)\n",
    "\n",
    "a=(0,1,2,3,4)\n",
    "\n",
    "a[1]\n",
    "\n",
    "a.replace(6,0)\n",
    "\n",
    "# tuple with mixed datatypes\n",
    "t1= (1, \"Hello\", 3.4)\n",
    "print(t1)\n",
    "\n"
   ]
  },
  {
   "cell_type": "code",
   "execution_count": null,
   "id": "6de08b10",
   "metadata": {},
   "outputs": [],
   "source": []
  },
  {
   "cell_type": "code",
   "execution_count": null,
   "id": "66a8b9ed",
   "metadata": {},
   "outputs": [],
   "source": []
  },
  {
   "cell_type": "code",
   "execution_count": null,
   "id": "317fa3ed",
   "metadata": {},
   "outputs": [],
   "source": []
  },
  {
   "cell_type": "code",
   "execution_count": 454,
   "id": "fe2f9336",
   "metadata": {},
   "outputs": [
    {
     "name": "stdout",
     "output_type": "stream",
     "text": [
      "('mouse', [8, 4, 6], (1, 2, 3))\n",
      "(1, 'Hello', 3.4)\n"
     ]
    },
    {
     "ename": "TypeError",
     "evalue": "'tuple' object does not support item assignment",
     "output_type": "error",
     "traceback": [
      "\u001b[1;31m---------------------------------------------------------------------------\u001b[0m",
      "\u001b[1;31mTypeError\u001b[0m                                 Traceback (most recent call last)",
      "Cell \u001b[1;32mIn[454], line 7\u001b[0m\n\u001b[0;32m      3\u001b[0m \u001b[38;5;28mprint\u001b[39m(t2)\n\u001b[0;32m      5\u001b[0m \u001b[38;5;28mprint\u001b[39m(t1)\n\u001b[1;32m----> 7\u001b[0m t2[\u001b[38;5;241m0\u001b[39m]\u001b[38;5;241m=\u001b[39m\u001b[38;5;124m'\u001b[39m\u001b[38;5;124mHi\u001b[39m\u001b[38;5;124m'\u001b[39m\n",
      "\u001b[1;31mTypeError\u001b[0m: 'tuple' object does not support item assignment"
     ]
    }
   ],
   "source": [
    "# nested tuple\n",
    "t2= (\"mouse\", [8, 4, 6], (1, 2, 3))\n",
    "print(t2)\n",
    "\n",
    "print(t1)\n",
    "\n",
    "t2[0]='Hi'"
   ]
  },
  {
   "cell_type": "code",
   "execution_count": 453,
   "id": "9e474f91",
   "metadata": {},
   "outputs": [
    {
     "data": {
      "text/plain": [
       "tuple"
      ]
     },
     "execution_count": 453,
     "metadata": {},
     "output_type": "execute_result"
    }
   ],
   "source": [
    "#we can have only one item here\n",
    "#t2=('item1')#This is a String\n",
    "t2=('item1',)#this is a tuple\n",
    "t2\n",
    "\n",
    "#Creating tupple without using braces\n",
    "t3=1,2,'mn'\n",
    "type(t3)"
   ]
  },
  {
   "cell_type": "code",
   "execution_count": 452,
   "id": "d78866d7",
   "metadata": {},
   "outputs": [
    {
     "name": "stdout",
     "output_type": "stream",
     "text": [
      "<class 'str'>\n"
     ]
    }
   ],
   "source": [
    "# We can use the type() function to know which class a variable or a value belongs to.\n",
    "var1 = (\"hello\")\n",
    "print(type(var1))  # <class 'str'>"
   ]
  },
  {
   "cell_type": "code",
   "execution_count": 451,
   "id": "e70e7eef",
   "metadata": {},
   "outputs": [
    {
     "name": "stdout",
     "output_type": "stream",
     "text": [
      "<class 'tuple'>\n",
      "<class 'tuple'>\n"
     ]
    }
   ],
   "source": [
    "# Creating a tuple having one element\n",
    "var2 = (\"hello\",)\n",
    "print(type(var2))  # <class 'tuple'>\n",
    "\n",
    "# Parentheses is optional\n",
    "var3 = \"hello\",\n",
    "print(type(var3))  # <class 'tuple'>"
   ]
  },
  {
   "cell_type": "code",
   "execution_count": 449,
   "id": "6721dc74",
   "metadata": {},
   "outputs": [
    {
     "name": "stdout",
     "output_type": "stream",
     "text": [
      "1\n",
      "3.4\n"
     ]
    }
   ],
   "source": [
    "# accessing tuple elements using indexing\n",
    "t1= (1, \"Hello\", 3.4)\n",
    "\n",
    "print(t1[0])    \n",
    "print(t1[2])   "
   ]
  },
  {
   "cell_type": "code",
   "execution_count": 448,
   "id": "379d044e",
   "metadata": {},
   "outputs": [
    {
     "name": "stdout",
     "output_type": "stream",
     "text": [
      "3.4\n",
      "Hello\n"
     ]
    }
   ],
   "source": [
    "# accessing tuple elements using negative indexing\n",
    "t1= (1, \"Hello\", 3.4)\n",
    "\n",
    "print(t1[-1])    \n",
    "print(t1[-2])   "
   ]
  },
  {
   "cell_type": "code",
   "execution_count": 447,
   "id": "2b76502e",
   "metadata": {},
   "outputs": [
    {
     "name": "stdout",
     "output_type": "stream",
     "text": [
      "('r', 'o', 'g')\n",
      "('p', 'r')\n",
      "('i', 'z')\n",
      "('p', 'r', 'o', 'g', 'r', 'a', 'm', 'i', 'z')\n"
     ]
    }
   ],
   "source": [
    "#accessing tuple elements using slicing\n",
    "my_tuple = ('p', 'r', 'o', 'g', 'r', 'a', 'm', 'i', 'z')\n",
    "\n",
    "# elements 2nd to 4th index\n",
    "print(my_tuple[1:4])  #  prints ('r', 'o', 'g')\n",
    "\n",
    "# elements beginning to 2nd\n",
    "print(my_tuple[:-7]) # prints ('p', 'r')\n",
    "\n",
    "# elements 8th to end\n",
    "print(my_tuple[7:]) # prints ('i', 'z')\n",
    "\n",
    "# elements beginning to end\n",
    "print(my_tuple[:]) # Prints ('p', 'r', 'o', 'g', 'r', 'a', 'm', 'i', 'z')\n",
    "\n"
   ]
  },
  {
   "cell_type": "code",
   "execution_count": 446,
   "id": "bfccd494",
   "metadata": {},
   "outputs": [
    {
     "data": {
      "text/plain": [
       "2"
      ]
     },
     "execution_count": 446,
     "metadata": {},
     "output_type": "execute_result"
    }
   ],
   "source": [
    "my_tuple = ('p', 'r', 'o', 'g', 'r', 'a', 'm', 'i', 'z')\n",
    "my_tuple.count('r')\n"
   ]
  },
  {
   "cell_type": "code",
   "execution_count": 445,
   "id": "13874bbf",
   "metadata": {},
   "outputs": [
    {
     "name": "stdout",
     "output_type": "stream",
     "text": [
      "First occurrence of o is 2\n",
      "First occurrence of i after 4th index is: 7\n"
     ]
    }
   ],
   "source": [
    "# Creating tuples\n",
    "my_tuple =('p', 'r', 'o', 'i', 'r', 'a', 'm', 'i', 'z')\n",
    "# getting the index of 3\n",
    "res=my_tuple.index('o')\n",
    "print('First occurrence of o is', res)\n",
    "# getting the index of 3 after 4th\n",
    "# index\n",
    "res=my_tuple.index('i', 4)\n",
    "print('First occurrence of i after 4th index is:', res)"
   ]
  },
  {
   "cell_type": "code",
   "execution_count": 444,
   "id": "d7aad3b2",
   "metadata": {},
   "outputs": [
    {
     "name": "stdout",
     "output_type": "stream",
     "text": [
      "Student ID: {112, 114, 115, 116, 118}\n",
      "Vowel Letters: {'e', 'a', 'o', 'u', 'i'}\n"
     ]
    }
   ],
   "source": [
    "# create a set of integer type\n",
    "student_id = {112, 114, 116, 118, 115}\n",
    "print('Student ID:', student_id)\n",
    "\n",
    "# create a set of string type\n",
    "vowel_letters = {'a', 'e', 'i', 'o', 'u'}\n",
    "print('Vowel Letters:', vowel_letters)"
   ]
  },
  {
   "cell_type": "code",
   "execution_count": 443,
   "id": "477fd5a3",
   "metadata": {},
   "outputs": [
    {
     "name": "stdout",
     "output_type": "stream",
     "text": [
      "Set of mixed data types: {101, 'Hello', 'Bye', -2}\n"
     ]
    },
    {
     "ename": "TypeError",
     "evalue": "unhashable type: 'dict'",
     "output_type": "error",
     "traceback": [
      "\u001b[1;31m---------------------------------------------------------------------------\u001b[0m",
      "\u001b[1;31mTypeError\u001b[0m                                 Traceback (most recent call last)",
      "Cell \u001b[1;32mIn[443], line 9\u001b[0m\n\u001b[0;32m      3\u001b[0m \u001b[38;5;28mprint\u001b[39m(\u001b[38;5;124m'\u001b[39m\u001b[38;5;124mSet of mixed data types:\u001b[39m\u001b[38;5;124m'\u001b[39m, mixed_set)\n\u001b[0;32m      5\u001b[0m \u001b[38;5;66;03m#set_a={[1,2,3],\"a\"}\u001b[39;00m\n\u001b[0;32m      6\u001b[0m \n\u001b[0;32m      7\u001b[0m \u001b[38;5;66;03m#set_b={{1,2,3},\"a\"}\u001b[39;00m\n\u001b[1;32m----> 9\u001b[0m set_b\u001b[38;5;241m=\u001b[39m{{\u001b[38;5;124m\"\u001b[39m\u001b[38;5;124mbrand\u001b[39m\u001b[38;5;124m\"\u001b[39m: \u001b[38;5;124m\"\u001b[39m\u001b[38;5;124mFord\u001b[39m\u001b[38;5;124m\"\u001b[39m,\u001b[38;5;124m\"\u001b[39m\u001b[38;5;124mmodel\u001b[39m\u001b[38;5;124m\"\u001b[39m: \u001b[38;5;124m\"\u001b[39m\u001b[38;5;124mMustang\u001b[39m\u001b[38;5;124m\"\u001b[39m,\u001b[38;5;124m\"\u001b[39m\u001b[38;5;124myear\u001b[39m\u001b[38;5;124m\"\u001b[39m: \u001b[38;5;241m1964\u001b[39m},\u001b[38;5;124m\"\u001b[39m\u001b[38;5;124ma\u001b[39m\u001b[38;5;124m\"\u001b[39m}\n",
      "\u001b[1;31mTypeError\u001b[0m: unhashable type: 'dict'"
     ]
    }
   ],
   "source": [
    "# create a set of mixed data types\n",
    "mixed_set = {'Hello', 101, -2, 'Bye'}\n",
    "print('Set of mixed data types:', mixed_set)\n",
    "\n",
    "#set_a={[1,2,3],\"a\"}\n",
    "\n",
    "#set_b={{1,2,3},\"a\"}\n",
    "\n",
    "set_b={{\"brand\": \"Ford\",\"model\": \"Mustang\",\"year\": 1964},\"a\"}"
   ]
  },
  {
   "cell_type": "code",
   "execution_count": 438,
   "id": "04eb387c",
   "metadata": {},
   "outputs": [
    {
     "name": "stdout",
     "output_type": "stream",
     "text": [
      "Data type of empty_set: <class 'set'>\n",
      "Data type of empty_dictionary <class 'dict'>\n"
     ]
    }
   ],
   "source": [
    "# create an empty set\n",
    "empty_set = set()\n",
    "\n",
    "# create an empty dictionary\n",
    "empty_dictionary = { }\n",
    "\n",
    "# check data type of empty_set\n",
    "print('Data type of empty_set:', type(empty_set))\n",
    "\n",
    "# check data type of dictionary_set\n",
    "print('Data type of empty_dictionary', type(empty_dictionary))\n"
   ]
  },
  {
   "cell_type": "code",
   "execution_count": 437,
   "id": "369e1d3d",
   "metadata": {},
   "outputs": [
    {
     "ename": "TypeError",
     "evalue": "'int' object is not iterable",
     "output_type": "error",
     "traceback": [
      "\u001b[1;31m---------------------------------------------------------------------------\u001b[0m",
      "\u001b[1;31mTypeError\u001b[0m                                 Traceback (most recent call last)",
      "Cell \u001b[1;32mIn[437], line 3\u001b[0m\n\u001b[0;32m      1\u001b[0m \u001b[38;5;66;03m#convert into a list\u001b[39;00m\n\u001b[1;32m----> 3\u001b[0m a\u001b[38;5;241m=\u001b[39m\u001b[38;5;28mlist\u001b[39m(a)\n\u001b[0;32m      5\u001b[0m \u001b[38;5;28mtype\u001b[39m(a)\n\u001b[0;32m      7\u001b[0m q\u001b[38;5;241m=\u001b[39m[\u001b[38;5;124m'\u001b[39m\u001b[38;5;124mA\u001b[39m\u001b[38;5;124m'\u001b[39m,\u001b[38;5;241m1\u001b[39m]\n",
      "\u001b[1;31mTypeError\u001b[0m: 'int' object is not iterable"
     ]
    }
   ],
   "source": [
    "#convert into a list\n",
    "\n",
    "a=list(a)\n",
    "\n",
    "type(a)\n",
    "\n",
    "q=['A',1]\n",
    "max(q)\n"
   ]
  },
  {
   "cell_type": "code",
   "execution_count": 436,
   "id": "e338ad3b",
   "metadata": {},
   "outputs": [
    {
     "name": "stdout",
     "output_type": "stream",
     "text": [
      "<zip object at 0x0000018966ABB800>\n"
     ]
    }
   ],
   "source": [
    "#max(),min() and sort() function work only with same data type\n",
    "\n",
    "first_names = ('Simon', 'Sarah', 'Mehdi', 'Fatime')\n",
    "last_names = ('Sinek', 'Smith', 'Lotfinejad', 'Lopes')\n",
    "ages = (49, 55, 39, 33)\n",
    "zipped = zip(first_names, last_names,ages)\n",
    "print(zipped)\n",
    "\n"
   ]
  },
  {
   "cell_type": "code",
   "execution_count": 435,
   "id": "4e46252a",
   "metadata": {},
   "outputs": [
    {
     "data": {
      "text/plain": [
       "{1, 2, 3, 'a', 'nm'}"
      ]
     },
     "execution_count": 435,
     "metadata": {},
     "output_type": "execute_result"
    }
   ],
   "source": [
    "#list,tupple and set are primitive  data type\n",
    "\n",
    "# Create an empty tuple,list and set without using braces\n",
    "\n",
    "a1=set()\n",
    "\n",
    "a1=tuple()\n",
    "\n",
    "#set A Set in Python programming is an \n",
    "# unordered collection data type that is\n",
    "# iterable, mutable and \n",
    "# has no duplicate elements. \n",
    "\n",
    "a1={1,2,3,3,4,4}\n",
    "\n",
    "a1\n",
    "#the multiple occurences are removed\n",
    "\n",
    "a1={\"nm\",1,2,3,'a'}\n",
    "\n",
    "a1\n"
   ]
  },
  {
   "cell_type": "code",
   "execution_count": 434,
   "id": "4a3456a5",
   "metadata": {},
   "outputs": [
    {
     "name": "stdout",
     "output_type": "stream",
     "text": [
      "10\n",
      "Initial Set: {34, 12, 21, 54}\n"
     ]
    }
   ],
   "source": [
    "l = [None] * 10\n",
    "print(len(l))\n",
    "\n",
    "numbers = {21, 34, 54, 12}\n",
    "\n",
    "print('Initial Set:',numbers)"
   ]
  },
  {
   "cell_type": "code",
   "execution_count": 433,
   "id": "3af59a78",
   "metadata": {},
   "outputs": [
    {
     "name": "stdout",
     "output_type": "stream",
     "text": [
      "Updated Set: {10}\n",
      "{'banana', '78', 'apple', 'cherry'}\n"
     ]
    }
   ],
   "source": [
    "# using add() method\n",
    "numbers.add(10)\n",
    "\n",
    "print('Updated Set:', numbers) \n",
    "\n",
    "thisset = {\"apple\", \"banana\", \"cherry\"}\n",
    "\n",
    "thisset.add(\"78\")\n",
    "\n",
    "print(thisset)"
   ]
  },
  {
   "cell_type": "code",
   "execution_count": 432,
   "id": "d2e12d5c",
   "metadata": {},
   "outputs": [
    {
     "name": "stdout",
     "output_type": "stream",
     "text": [
      "String:  abcdefghijklmnopqrstuvwxyzABCDEFGHIJKLMNOPQRSTUVWXYZ\n",
      "\n",
      "Lists:  ['a', 'b', 'c', 'd', 'e', 'f', 'g', 'h', 'i', 'j', 'k', 'l', 'm', 'n', 'o', 'p', 'q', 'r', 's', 't', 'u', 'v', 'w', 'x', 'y', 'z', 'A', 'B', 'C', 'D', 'E', 'F', 'G', 'H', 'I', 'J', 'K', 'L', 'M', 'N', 'O', 'P', 'Q', 'R', 'S', 'T', 'U', 'V', 'W', 'X', 'Y', 'Z']\n",
      "\n",
      "Tuples:  ('a', 'b', 'c', 'd', 'e', 'f', 'g', 'h', 'i', 'j', 'k', 'l', 'm', 'n', 'o', 'p', 'q', 'r', 's', 't', 'u', 'v', 'w', 'x', 'y', 'z', 'A', 'B', 'C', 'D', 'E', 'F', 'G', 'H', 'I', 'J', 'K', 'L', 'M', 'N', 'O', 'P', 'Q', 'R', 'S', 'T', 'U', 'V', 'W', 'X', 'Y', 'Z')\n",
      "\n",
      "Sets:  {'G', 'W', 's', 'J', 'O', 'P', 'S', 'd', 'w', 'q', 'F', 'r', 'Q', 'A', 'l', 'g', 'I', 'X', 'L', 'e', 'a', 'o', 'C', 'U', 'b', 'M', 'v', 'c', 'j', 'Y', 'h', 'x', 'Z', 't', 'f', 'T', 'E', 'z', 'k', 'p', 'V', 'n', 'D', 'R', 'N', 'B', 'm', 'i', 'y', 'u', 'K', 'H'}\n"
     ]
    }
   ],
   "source": [
    "letters = 'abcdefghijklmnopqrstuvwxyzABCDEFGHIJKLMNOPQRSTUVWXYZ'\n",
    "\n",
    "string_letters = str(letters)\n",
    "lists_letters = list(letters)\n",
    "tuples_letters = tuple(letters)\n",
    "sets_letters = set(letters)\n",
    "\n",
    "\n",
    "print(\"String: \", string_letters)\n",
    "print() # for new line\n",
    "print(\"Lists: \", lists_letters)\n",
    "print() # for new line\n",
    "print(\"Tuples: \", tuples_letters)\n",
    "print() # for new line\n",
    "print(\"Sets: \", sets_letters)\n",
    "\n"
   ]
  },
  {
   "cell_type": "code",
   "execution_count": 431,
   "id": "231cd8d5",
   "metadata": {},
   "outputs": [
    {
     "name": "stdout",
     "output_type": "stream",
     "text": [
      "None\n"
     ]
    },
    {
     "data": {
      "text/plain": [
       "set()"
      ]
     },
     "execution_count": 431,
     "metadata": {},
     "output_type": "execute_result"
    }
   ],
   "source": [
    "numbers = {21, 34, 54, 12}\n",
    "x = numbers.clear()\n",
    "print(x)\n",
    "numbers\n"
   ]
  },
  {
   "cell_type": "code",
   "execution_count": 430,
   "id": "43e50f7b",
   "metadata": {},
   "outputs": [
    {
     "name": "stdout",
     "output_type": "stream",
     "text": [
      "{1, 4, 5, 6}\n"
     ]
    }
   ],
   "source": [
    "#Set Difference: \n",
    "s1 = {1,2,3,4,5} \n",
    "s2 = {4,5,6,7,8} \n",
    "s1.difference(s2) \n",
    "\n",
    "#Symmetric difference: \n",
    "x= {1,2,4} \n",
    "y={2,5,6} \n",
    "print(x.symmetric_difference(y)) "
   ]
  },
  {
   "cell_type": "code",
   "execution_count": 429,
   "id": "2ae2a46b",
   "metadata": {},
   "outputs": [
    {
     "name": "stdout",
     "output_type": "stream",
     "text": [
      "{4, 5}\n",
      "{'c'}\n"
     ]
    }
   ],
   "source": [
    "s1 = {1,2,3,4,5} \n",
    "s2 = {4,5,6,7,8} \n",
    "print(s1.intersection(s2))\n",
    "\n",
    "x = {\"a\", \"b\", \"c\"}\n",
    "y = {\"c\", \"d\", \"e\"}\n",
    "z = {\"f\", \"g\", \"c\"}\n",
    "result = x.intersection(y, z)\n",
    "\n",
    "print(result)\n"
   ]
  },
  {
   "cell_type": "markdown",
   "id": "d62a4035",
   "metadata": {},
   "source": [
    "# Frozen set \n",
    "is just an immutable version of a Python set object. While elements\n",
    "of a set can be modified at any time, elements of the frozen set remain the same after creation.\n",
    "Due to this, frozen sets can be used as keys in Dictionary or as elements of another set. \n",
    "But like sets, it is not ordered (the elements can be set at any index)."
   ]
  },
  {
   "cell_type": "code",
   "execution_count": 411,
   "id": "941ad6a1",
   "metadata": {},
   "outputs": [
    {
     "name": "stdout",
     "output_type": "stream",
     "text": [
      "The frozen set is: frozenset({'i', 'e', 'a', 'o', 'u'})\n",
      "The empty frozen set is: frozenset()\n"
     ]
    },
    {
     "ename": "AttributeError",
     "evalue": "'frozenset' object has no attribute 'add'",
     "output_type": "error",
     "traceback": [
      "\u001b[1;31m---------------------------------------------------------------------------\u001b[0m",
      "\u001b[1;31mAttributeError\u001b[0m                            Traceback (most recent call last)",
      "Cell \u001b[1;32mIn[411], line 7\u001b[0m\n\u001b[0;32m      5\u001b[0m \u001b[38;5;28mprint\u001b[39m(\u001b[38;5;124m'\u001b[39m\u001b[38;5;124mThe empty frozen set is:\u001b[39m\u001b[38;5;124m'\u001b[39m, \u001b[38;5;28mfrozenset\u001b[39m())\n\u001b[0;32m      6\u001b[0m \u001b[38;5;66;03m# frozensets are immutable\u001b[39;00m\n\u001b[1;32m----> 7\u001b[0m fSet\u001b[38;5;241m.\u001b[39madd(\u001b[38;5;124m'\u001b[39m\u001b[38;5;124mv\u001b[39m\u001b[38;5;124m'\u001b[39m)\n",
      "\u001b[1;31mAttributeError\u001b[0m: 'frozenset' object has no attribute 'add'"
     ]
    }
   ],
   "source": [
    "# tuple of vowels\n",
    "vowels = ('a', 'e', 'i', 'o', 'u')\n",
    "fSet = frozenset(vowels)\n",
    "print('The frozen set is:', fSet)\n",
    "print('The empty frozen set is:', frozenset())\n",
    "# frozensets are immutable\n",
    "fSet.add('v')"
   ]
  },
  {
   "cell_type": "code",
   "execution_count": 412,
   "id": "64df6279",
   "metadata": {},
   "outputs": [
    {
     "name": "stdout",
     "output_type": "stream",
     "text": [
      "The frozen set is: frozenset({'name', 'age', 'sex'})\n"
     ]
    }
   ],
   "source": [
    "# random dictionary\n",
    "person = {\"name\": \"John\", \"age\": 23, \"sex\": \"male\"}\n",
    "\n",
    "fSet = frozenset(person)\n",
    "print('The frozen set is:', fSet)\n",
    "#Only keys are returned"
   ]
  },
  {
   "cell_type": "code",
   "execution_count": 415,
   "id": "9dea5c03",
   "metadata": {},
   "outputs": [
    {
     "ename": "AttributeError",
     "evalue": "'frozenset' object has no attribute 'pop'",
     "output_type": "error",
     "traceback": [
      "\u001b[1;31m---------------------------------------------------------------------------\u001b[0m",
      "\u001b[1;31mAttributeError\u001b[0m                            Traceback (most recent call last)",
      "Cell \u001b[1;32mIn[415], line 8\u001b[0m\n\u001b[0;32m      4\u001b[0m \u001b[38;5;28mtype\u001b[39m(a1)\n\u001b[0;32m      6\u001b[0m \u001b[38;5;28mfrozenset\u001b[39m(a1)\n\u001b[1;32m----> 8\u001b[0m a1\u001b[38;5;241m.\u001b[39mpop(\u001b[38;5;241m2\u001b[39m)\n",
      "\u001b[1;31mAttributeError\u001b[0m: 'frozenset' object has no attribute 'pop'"
     ]
    }
   ],
   "source": [
    "#frozen set\n",
    "a1=frozenset()\n",
    "\n",
    "type(a1)\n",
    "\n",
    "frozenset(a1)\n",
    "\n",
    "a1.pop(2)\n"
   ]
  },
  {
   "cell_type": "code",
   "execution_count": 414,
   "id": "5133aa25",
   "metadata": {},
   "outputs": [
    {
     "name": "stdout",
     "output_type": "stream",
     "text": [
      "frozenset({1, 2, 3, 4})\n",
      "frozenset({1, 2, 3, 4, 5, 6})\n",
      "frozenset({3, 4})\n",
      "frozenset({1, 2})\n",
      "frozenset({1, 2, 5, 6})\n"
     ]
    }
   ],
   "source": [
    "# Frozensets\n",
    "# initialize A and B\n",
    "A = frozenset([1, 2, 3, 4])\n",
    "B = frozenset([3, 4, 5, 6])\n",
    "\n",
    "# copying a frozenset\n",
    "C = A.copy()\n",
    "print(C)\n",
    "\n",
    "# union\n",
    "print(A.union(B))  \n",
    "\n",
    "# intersection\n",
    "print(A.intersection(B))\n",
    "\n",
    "# difference\n",
    "print(A.difference(B))\n",
    "\n",
    "# symmetric_difference\n",
    "print(A.symmetric_difference(B))"
   ]
  },
  {
   "cell_type": "code",
   "execution_count": 408,
   "id": "e9455118",
   "metadata": {},
   "outputs": [
    {
     "name": "stdout",
     "output_type": "stream",
     "text": [
      "{'a', 'e', 'g', 'b', 'd', 'f', 'c'}\n"
     ]
    }
   ],
   "source": [
    "x = {\"a\", \"b\", \"c\"}\n",
    "y = {\"c\", \"d\", \"e\"}\n",
    "x.intersection_update(y)\n",
    "x\n",
    "\n",
    "x = {\"a\", \"b\", \"c\"}\n",
    "y = {\"c\", \"d\", \"e\"}\n",
    "z = {\"f\", \"g\", \"c\"}\n",
    "result = x.union(y, z)\n",
    "\n",
    "print(result)"
   ]
  },
  {
   "cell_type": "code",
   "execution_count": null,
   "id": "f5c35b18",
   "metadata": {},
   "outputs": [],
   "source": []
  },
  {
   "cell_type": "code",
   "execution_count": null,
   "id": "e5c27b53",
   "metadata": {},
   "outputs": [],
   "source": []
  },
  {
   "cell_type": "code",
   "execution_count": 407,
   "id": "c856cb04",
   "metadata": {},
   "outputs": [
    {
     "name": "stdout",
     "output_type": "stream",
     "text": [
      "False\n",
      "True\n"
     ]
    }
   ],
   "source": [
    "x = {\"a\", \"b\", \"c\"}\n",
    "y = {\"f\", \"e\", \"d\", \"c\", \"b\"}\n",
    "\n",
    "z = x.issubset(y)\n",
    "\n",
    "print(z)\n",
    "\n",
    "x = {\"a\", \"b\", \"c\"}\n",
    "y = {\"f\", \"e\", \"d\", \"c\", \"b\",\"a\"}\n",
    "\n",
    "z = x.issubset(y)\n",
    "\n",
    "print(z)"
   ]
  },
  {
   "cell_type": "code",
   "execution_count": 406,
   "id": "90311494",
   "metadata": {},
   "outputs": [
    {
     "name": "stdout",
     "output_type": "stream",
     "text": [
      "True\n"
     ]
    }
   ],
   "source": [
    "x = {\"f\", \"e\", \"d\", \"c\", \"b\",\"a\"}\n",
    "y = {\"a\", \"b\", \"c\"}\n",
    "\n",
    "z = x.issuperset(y)\n",
    "\n",
    "print(z)\n"
   ]
  },
  {
   "cell_type": "code",
   "execution_count": 405,
   "id": "a3b3300c",
   "metadata": {},
   "outputs": [
    {
     "name": "stdout",
     "output_type": "stream",
     "text": [
      "{1, 2, 3, 'a', 'b'}\n"
     ]
    },
    {
     "ename": "TypeError",
     "evalue": "unhashable type: 'list'",
     "output_type": "error",
     "traceback": [
      "\u001b[1;31m---------------------------------------------------------------------------\u001b[0m",
      "\u001b[1;31mTypeError\u001b[0m                                 Traceback (most recent call last)",
      "Cell \u001b[1;32mIn[405], line 19\u001b[0m\n\u001b[0;32m     14\u001b[0m d1\u001b[38;5;241m=\u001b[39m\u001b[38;5;28mdict\u001b[39m()\n\u001b[0;32m     16\u001b[0m \u001b[38;5;66;03m# keys:Every Immutable datatypes allowed(String,float,integer)\u001b[39;00m\n\u001b[0;32m     17\u001b[0m \u001b[38;5;66;03m#     values:Anything\u001b[39;00m\n\u001b[1;32m---> 19\u001b[0m d1\u001b[38;5;241m=\u001b[39m{[\u001b[38;5;241m1\u001b[39m,\u001b[38;5;241m2\u001b[39m,[\u001b[38;5;241m3\u001b[39m,\u001b[38;5;241m5\u001b[39m,(\u001b[38;5;241m7\u001b[39m,\u001b[38;5;241m8\u001b[39m)]]:\u001b[38;5;124m'\u001b[39m\u001b[38;5;124m(4,5,4)\u001b[39m\u001b[38;5;124m'\u001b[39m}\n",
      "\u001b[1;31mTypeError\u001b[0m: unhashable type: 'list'"
     ]
    }
   ],
   "source": [
    "A = {'a', 'b'}\n",
    "B = {1, 2, 3}\n",
    "\n",
    "# updates A after the items of B is added to A\n",
    "A.update(B)\n",
    "\n",
    "print(A)\n",
    "\n",
    "#Hash Map\n",
    "#Dict\n",
    "\n",
    "d1={}\n",
    "\n",
    "d1=dict()\n",
    "\n",
    "# keys:Every Immutable datatypes allowed(String,float,integer)\n",
    "#     values:Anything\n",
    "\n",
    "d1={[1,2,[3,5,(7,8)]]:'(4,5,4)'}\n"
   ]
  },
  {
   "cell_type": "code",
   "execution_count": 381,
   "id": "326aad21",
   "metadata": {},
   "outputs": [
    {
     "data": {
      "text/plain": [
       "[1, 2, 3]"
      ]
     },
     "execution_count": 381,
     "metadata": {},
     "output_type": "execute_result"
    }
   ],
   "source": [
    "my_dict = {1: \"Hello\", (1, 2): \"Hello Hi\", 3: [1, 2, 3],1:\"Hi\",\n",
    "          1:\"Hey\",\"Colour\":\"RED\"}\n",
    "my_dict[3]\n"
   ]
  },
  {
   "cell_type": "code",
   "execution_count": 382,
   "id": "202129b3",
   "metadata": {},
   "outputs": [
    {
     "data": {
      "text/plain": [
       "'RED'"
      ]
     },
     "execution_count": 382,
     "metadata": {},
     "output_type": "execute_result"
    }
   ],
   "source": [
    "my_dict.get(\"Colour\")"
   ]
  },
  {
   "cell_type": "code",
   "execution_count": 384,
   "id": "4b111258",
   "metadata": {},
   "outputs": [
    {
     "name": "stdout",
     "output_type": "stream",
     "text": [
      "{'United States': 'Washington D.C.', 'Italy': 'Rome', 'England': 'London'}\n"
     ]
    }
   ],
   "source": [
    "country_capitals = {\n",
    "  \"United States\": \"Washington D.C.\", \n",
    "  \"Italy\": \"Naples\", \n",
    "  \"England\": \"London\"\n",
    "}\n",
    "\n",
    "# change the value of \"Italy\" key to \"Rome\"\n",
    "country_capitals[\"Italy\"] = \"Rome\"\n",
    "\n",
    "print(country_capitals)"
   ]
  },
  {
   "cell_type": "code",
   "execution_count": 385,
   "id": "b1dba79d",
   "metadata": {},
   "outputs": [
    {
     "name": "stdout",
     "output_type": "stream",
     "text": [
      "{'United States': 'Washington D.C.', 'Italy': 'Naples', 'Germany': 'Berlin'}\n"
     ]
    }
   ],
   "source": [
    "country_capitals = {\n",
    "  \"United States\": \"Washington D.C.\", \n",
    "  \"Italy\": \"Naples\" \n",
    "}\n",
    "\n",
    "# add an item with \"Germany\" as key and \"Berlin\" as its value\n",
    "country_capitals[\"Germany\"] = \"Berlin\"\n",
    "\n",
    "print(country_capitals)"
   ]
  },
  {
   "cell_type": "code",
   "execution_count": 387,
   "id": "cfdbf63b",
   "metadata": {},
   "outputs": [
    {
     "name": "stdout",
     "output_type": "stream",
     "text": [
      "{'United States': 'Washington D.C.', 'Italy': 'Naples', 'Germany': 'Berlin', 'Nepal': 'Kathmandu'}\n"
     ]
    }
   ],
   "source": [
    "country_capitals.update({\"Nepal\":\"Kathmandu\"})\n",
    "print(country_capitals)"
   ]
  },
  {
   "cell_type": "code",
   "execution_count": 388,
   "id": "eda26ad1",
   "metadata": {},
   "outputs": [
    {
     "name": "stdout",
     "output_type": "stream",
     "text": [
      "{'Italy': 'Naples'}\n"
     ]
    }
   ],
   "source": [
    "country_capitals = {\n",
    "  \"United States\": \"Washington D.C.\", \n",
    "  \"Italy\": \"Naples\" \n",
    "}\n",
    "\n",
    "# delete item having \"United States\" key\n",
    "del country_capitals[\"United States\"]\n",
    "\n",
    "\n",
    "print(country_capitals)"
   ]
  },
  {
   "cell_type": "code",
   "execution_count": 395,
   "id": "1f3b53e1",
   "metadata": {},
   "outputs": [
    {
     "name": "stdout",
     "output_type": "stream",
     "text": [
      "{'b': 1, 'a': 1, 'c': 1}\n"
     ]
    }
   ],
   "source": [
    "# keys for the dictionary\n",
    "alphabets = {'a', 'b', 'c'}\n",
    "# value for the dictionary\n",
    "number = 1\n",
    "# creates a dictionary with keys and values#\n",
    "dictionary = dict.fromkeys(alphabets, number)\n",
    "print(dictionary)"
   ]
  },
  {
   "cell_type": "code",
   "execution_count": 396,
   "id": "6ecdc2bb",
   "metadata": {},
   "outputs": [
    {
     "name": "stdout",
     "output_type": "stream",
     "text": [
      "{'c1': None, 'b1': None, 'a1': None}\n"
     ]
    }
   ],
   "source": [
    "# keys for the dictionary\n",
    "alphabets = {'a1', 'b1', 'c1'}\n",
    "# creates a dictionary with keys and values\n",
    "dictionary = dict.fromkeys(alphabets)\n",
    "print(dictionary)"
   ]
  },
  {
   "cell_type": "code",
   "execution_count": 397,
   "id": "136c6511",
   "metadata": {},
   "outputs": [
    {
     "name": "stdout",
     "output_type": "stream",
     "text": [
      "dict_items([('Physics', 67), ('Maths', 87)])\n"
     ]
    }
   ],
   "source": [
    "#The items() method returns a view object that \n",
    "#displays a list of dictionary's (key, value) tuple pairs.\n",
    "marks = {'Physics':67, 'Maths':87}\n",
    "\n",
    "print(marks.items())"
   ]
  },
  {
   "cell_type": "code",
   "execution_count": 398,
   "id": "e8f2f54f",
   "metadata": {},
   "outputs": [
    {
     "name": "stdout",
     "output_type": "stream",
     "text": [
      "dict_keys([1, 2, 3])\n"
     ]
    }
   ],
   "source": [
    "# The keys() method extracts the keys of the dictionary \n",
    "#  and returns the list of keys as a view object\n",
    "numbers = {1: 'one', 2: 'two', 3: 'three'}\n",
    "\n",
    "# extracts the keys of the dictionary\n",
    "dictionaryKeys = numbers.keys()\n",
    "\n",
    "print(dictionaryKeys)"
   ]
  },
  {
   "cell_type": "code",
   "execution_count": 399,
   "id": "eb001af2",
   "metadata": {},
   "outputs": [
    {
     "name": "stdout",
     "output_type": "stream",
     "text": [
      "dict_values([67, 87])\n"
     ]
    }
   ],
   "source": [
    "# The values() method returns a view object that\n",
    "# displays a list of all the values in the dictionary.\n",
    "\n",
    "marks = {'Physics':67, 'Maths':87}\n",
    "\n",
    "print(marks.values())"
   ]
  },
  {
   "cell_type": "code",
   "execution_count": 400,
   "id": "ddbc9502",
   "metadata": {},
   "outputs": [
    {
     "name": "stdout",
     "output_type": "stream",
     "text": [
      "Popped Marks: 72\n"
     ]
    }
   ],
   "source": [
    "# The pop() method removes and \n",
    "# returns an element from a dictionary having the given key.\n",
    "# create a dictionary\n",
    "marks = { 'Physics': 67, 'Chemistry': 72, 'Math': 89 }\n",
    "\n",
    "element = marks.pop('Chemistry')\n",
    "\n",
    "print('Popped Marks:', element)"
   ]
  },
  {
   "cell_type": "code",
   "execution_count": 401,
   "id": "7863d825",
   "metadata": {},
   "outputs": [],
   "source": [
    "#The popitem() method removes and \n",
    "# returns the (key, value) pair from the dictionary in \n",
    "# the Last In, First Out (LIFO) order.\n",
    "\n",
    "# Returns the latest inserted element (key,value) pair from the dictionary.\n",
    "# Removes the returned element pair from the dictionary.\n"
   ]
  },
  {
   "cell_type": "code",
   "execution_count": 402,
   "id": "85cfc820",
   "metadata": {},
   "outputs": [
    {
     "name": "stdout",
     "output_type": "stream",
     "text": [
      "Return Value =  ('salary', 3500.0)\n",
      "person =  {'name': 'Phill', 'age': 22}\n",
      "Return Value =  ('profession', 'Plumber')\n",
      "person =  {'name': 'Phill', 'age': 22}\n"
     ]
    }
   ],
   "source": [
    "person = {'name': 'Phill', 'age': 22, 'salary': 3500.0}\n",
    "\n",
    "# ('salary', 3500.0) is inserted at the last, so it is removed.\n",
    "result = person.popitem()\n",
    "\n",
    "print('Return Value = ', result)\n",
    "print('person = ', person)\n",
    "\n",
    "# inserting a new element pair\n",
    "person['profession'] = 'Plumber'\n",
    "\n",
    "# now ('profession', 'Plumber') is the latest element\n",
    "result = person.popitem()\n",
    "\n",
    "print('Return Value = ', result)\n",
    "print('person = ', person)"
   ]
  },
  {
   "cell_type": "code",
   "execution_count": 403,
   "id": "38cc4f28",
   "metadata": {},
   "outputs": [
    {
     "name": "stdout",
     "output_type": "stream",
     "text": [
      "person =  {'name': 'Phill', 'age': 22}\n",
      "Age =  22\n"
     ]
    }
   ],
   "source": [
    "person = {'name': 'Phill', 'age': 22}\n",
    "\n",
    "age = person.setdefault('age')\n",
    "print('person = ',person)\n",
    "print('Age = ',age)"
   ]
  },
  {
   "cell_type": "code",
   "execution_count": 404,
   "id": "37d593ae",
   "metadata": {},
   "outputs": [
    {
     "name": "stdout",
     "output_type": "stream",
     "text": [
      "person =  {'name': 'Phill', 'salary': None}\n",
      "salary =  None\n",
      "person =  {'name': 'Phill', 'salary': None, 'age': 22}\n",
      "age =  22\n"
     ]
    }
   ],
   "source": [
    "person = {'name': 'Phill'}\n",
    "\n",
    "# key is not in the dictionary\n",
    "salary = person.setdefault('salary')\n",
    "print('person = ',person)\n",
    "print('salary = ',salary)\n",
    "\n",
    "# key is not in the dictionary\n",
    "# default_value is provided\n",
    "age = person.setdefault('age', 22)\n",
    "print('person = ',person)\n",
    "print('age = ',age)"
   ]
  },
  {
   "cell_type": "code",
   "execution_count": 416,
   "id": "d1ac519b",
   "metadata": {},
   "outputs": [],
   "source": [
    "# 3Conditional statement"
   ]
  },
  {
   "cell_type": "code",
   "execution_count": 417,
   "id": "f91c642e",
   "metadata": {},
   "outputs": [],
   "source": [
    "a=10\n",
    "b=20"
   ]
  },
  {
   "cell_type": "code",
   "execution_count": 427,
   "id": "58992fd4",
   "metadata": {},
   "outputs": [
    {
     "name": "stdout",
     "output_type": "stream",
     "text": [
      "B is greater\n"
     ]
    }
   ],
   "source": [
    "if a>b:\n",
    "    print('A is greater')\n",
    "else:\n",
    "    print('B is greater')"
   ]
  },
  {
   "cell_type": "code",
   "execution_count": 428,
   "id": "fb407c96",
   "metadata": {},
   "outputs": [
    {
     "name": "stdout",
     "output_type": "stream",
     "text": [
      "B is greater\n"
     ]
    }
   ],
   "source": [
    "#Ternary Statements\n",
    "print('A is equal to b' if a==b else'A is greater than B'if a>b else 'B is greater' )"
   ]
  },
  {
   "cell_type": "code",
   "execution_count": 426,
   "id": "d3a5ddad",
   "metadata": {},
   "outputs": [
    {
     "name": "stdout",
     "output_type": "stream",
     "text": [
      "Enter the age30\n",
      "salary=20k\n"
     ]
    }
   ],
   "source": [
    "age=int(input('Enter the age'))\n",
    "print('salary=5k' if age<23 else 'salary=10k' if age>=23 and age<30 else 'salary=20k'\n",
    "      if age>=30 and age<35 else 'salary=30k' ) "
   ]
  },
  {
   "cell_type": "code",
   "execution_count": 455,
   "id": "5e4bb276",
   "metadata": {},
   "outputs": [],
   "source": [
    "#Loops"
   ]
  },
  {
   "cell_type": "code",
   "execution_count": 456,
   "id": "544133d6",
   "metadata": {},
   "outputs": [],
   "source": [
    "# -for\n",
    "# -while"
   ]
  },
  {
   "cell_type": "code",
   "execution_count": 9,
   "id": "8ee490cf",
   "metadata": {},
   "outputs": [
    {
     "ename": "TypeError",
     "evalue": "'int' object is not iterable",
     "output_type": "error",
     "traceback": [
      "\u001b[1;31m---------------------------------------------------------------------------\u001b[0m",
      "\u001b[1;31mTypeError\u001b[0m                                 Traceback (most recent call last)",
      "Cell \u001b[1;32mIn[9], line 2\u001b[0m\n\u001b[0;32m      1\u001b[0m a\u001b[38;5;241m=\u001b[39m\u001b[38;5;241m4\u001b[39m\n\u001b[1;32m----> 2\u001b[0m \u001b[38;5;28;01mfor\u001b[39;00m i \u001b[38;5;129;01min\u001b[39;00m a:\n\u001b[0;32m      3\u001b[0m     \u001b[38;5;28mprint\u001b[39m(i)\n",
      "\u001b[1;31mTypeError\u001b[0m: 'int' object is not iterable"
     ]
    }
   ],
   "source": [
    "a=4\n",
    "for i in a:\n",
    "    print(i)"
   ]
  },
  {
   "cell_type": "code",
   "execution_count": 458,
   "id": "5f0c110c",
   "metadata": {},
   "outputs": [
    {
     "name": "stdout",
     "output_type": "stream",
     "text": [
      "range(1, 6)\n"
     ]
    }
   ],
   "source": [
    "print(range(1,6))"
   ]
  },
  {
   "cell_type": "code",
   "execution_count": 460,
   "id": "ed983eca",
   "metadata": {},
   "outputs": [
    {
     "name": "stdout",
     "output_type": "stream",
     "text": [
      "0\n",
      "1\n",
      "2\n",
      "3\n",
      "4\n"
     ]
    }
   ],
   "source": [
    "l1=[1,2,3,4,5]\n",
    "s1={1,2,3,4,5}\n",
    "for i in range(len(s1)):\n",
    "    print(i)"
   ]
  },
  {
   "cell_type": "code",
   "execution_count": 461,
   "id": "9f906815",
   "metadata": {},
   "outputs": [],
   "source": [
    "#Print first 50 natural nos from 1 "
   ]
  },
  {
   "cell_type": "code",
   "execution_count": 464,
   "id": "3399324e",
   "metadata": {},
   "outputs": [
    {
     "name": "stdout",
     "output_type": "stream",
     "text": [
      "1\t2\t3\t4\t5\t6\t7\t8\t9\t10\t11\t12\t13\t14\t15\t16\t17\t18\t19\t20\t21\t22\t23\t24\t25\t26\t27\t28\t29\t30\t31\t32\t33\t34\t35\t36\t37\t38\t39\t40\t41\t42\t43\t44\t45\t46\t47\t48\t49\t50\t"
     ]
    }
   ],
   "source": [
    "for i in range(1,51):\n",
    "    print(i,end='\\t')"
   ]
  },
  {
   "cell_type": "code",
   "execution_count": 466,
   "id": "a6aa70f5",
   "metadata": {},
   "outputs": [
    {
     "name": "stdout",
     "output_type": "stream",
     "text": [
      "A\n",
      "1\n",
      "2\n",
      "3\n",
      "4\n",
      "5\n"
     ]
    }
   ],
   "source": [
    "l1=['A',1,2,3,4,5]\n",
    "s1={1,2,3,4,5}\n",
    "for i in l1:\n",
    "    print(i)"
   ]
  },
  {
   "cell_type": "raw",
   "id": "8ecbb6c4",
   "metadata": {},
   "source": [
    "# while condition is true:\n",
    "#     logic\n",
    "# else:\n",
    "#     logic"
   ]
  },
  {
   "cell_type": "code",
   "execution_count": 473,
   "id": "0b969039",
   "metadata": {},
   "outputs": [
    {
     "name": "stdout",
     "output_type": "stream",
     "text": [
      "10\n",
      "11\n",
      "12\n",
      "13\n",
      "14\n",
      "15\n",
      "16\n",
      "17\n",
      "18\n",
      "19\n",
      "20\n"
     ]
    }
   ],
   "source": [
    "i=10\n",
    "while (i<20):\n",
    "    print(i)\n",
    "    i+=1\n",
    "else:\n",
    "    print(i)"
   ]
  },
  {
   "cell_type": "code",
   "execution_count": null,
   "id": "6afb6f3f",
   "metadata": {},
   "outputs": [],
   "source": [
    "for i in range(0,50):\n",
    "    if i%2==0:\n",
    "        continue\n",
    "    print(i)\n",
    "print('x,end=' \\f'')"
   ]
  },
  {
   "cell_type": "code",
   "execution_count": 487,
   "id": "3b15975e",
   "metadata": {},
   "outputs": [
    {
     "name": "stdout",
     "output_type": "stream",
     "text": [
      "x\n"
     ]
    }
   ],
   "source": [
    "for i in range(0,50):\n",
    "    if i%2==0:\n",
    "       break\n",
    "    print(i)\n",
    "print('x')"
   ]
  },
  {
   "cell_type": "code",
   "execution_count": 490,
   "id": "717d3d85",
   "metadata": {},
   "outputs": [
    {
     "name": "stdout",
     "output_type": "stream",
     "text": [
      "1 2\n",
      "2 3\n",
      "3 4\n",
      "4 5\n"
     ]
    },
    {
     "ename": "IndexError",
     "evalue": "list index out of range",
     "output_type": "error",
     "traceback": [
      "\u001b[1;31m---------------------------------------------------------------------------\u001b[0m",
      "\u001b[1;31mIndexError\u001b[0m                                Traceback (most recent call last)",
      "Cell \u001b[1;32mIn[490], line 3\u001b[0m\n\u001b[0;32m      1\u001b[0m l1\u001b[38;5;241m=\u001b[39m[\u001b[38;5;241m1\u001b[39m,\u001b[38;5;241m2\u001b[39m,\u001b[38;5;241m3\u001b[39m,\u001b[38;5;241m4\u001b[39m,\u001b[38;5;241m5\u001b[39m]\n\u001b[0;32m      2\u001b[0m \u001b[38;5;28;01mfor\u001b[39;00m i \u001b[38;5;129;01min\u001b[39;00m l1:\n\u001b[1;32m----> 3\u001b[0m     \u001b[38;5;28mprint\u001b[39m(i,l1[i])\n",
      "\u001b[1;31mIndexError\u001b[0m: list index out of range"
     ]
    }
   ],
   "source": [
    "l1=[1,2,3,4,5]\n",
    "for i in l1:\n",
    "    print(i,l1[i])\n",
    "    "
   ]
  },
  {
   "cell_type": "code",
   "execution_count": null,
   "id": "b5200bab",
   "metadata": {},
   "outputs": [],
   "source": [
    "if condition:\n",
    "    # body of if statement\n",
    "     the ternary operator in python is used to return a value based on the result of a binary condition. It takes binary value(condition) as an input, so it looks similar to an “if-else” condition block. However, it also returns a value so behaving similar to a function.\n",
    "\n",
    "Syntax"
   ]
  },
  {
   "cell_type": "code",
   "execution_count": 8,
   "id": "7eab76ed",
   "metadata": {},
   "outputs": [
    {
     "name": "stdout",
     "output_type": "stream",
     "text": [
      "0-1\n",
      "1-2\n",
      "2-3\n",
      "3-4\n",
      "4-5\n"
     ]
    }
   ],
   "source": [
    "from string import Template\n",
    "l1=[1,2,3,4,5]\n",
    "for i,value in enumerate(l1):\n",
    "     #print(i,\"-\",value)\n",
    "#       print(f'{i}-{value}')\n",
    "     #print(\"%d - %d\"%(i,value))\n",
    "    #print(\"{}-{} \".format(i,value))\n",
    "#         n = Template('$n3-$n4')\n",
    "#         print(n.substitute(n3=i, n4=value))\n"
   ]
  },
  {
   "cell_type": "code",
   "execution_count": 2,
   "id": "e9ef8889",
   "metadata": {},
   "outputs": [
    {
     "name": "stdout",
     "output_type": "stream",
     "text": [
      "-10 -9 -8 -7 -6 -5 -4 -3 -2 -1 0 1 2 3 4 5 6 7 8 9 10 "
     ]
    }
   ],
   "source": [
    "num = -10\n",
    "while num <= 10:\n",
    "    print(num,end=' ')\n",
    "    num += 1"
   ]
  },
  {
   "cell_type": "code",
   "execution_count": 24,
   "id": "a15a2324",
   "metadata": {},
   "outputs": [
    {
     "name": "stdout",
     "output_type": "stream",
     "text": [
      "-10 \f\n",
      "-9 \f\n",
      "-8 \f\n",
      "-7 \f\n",
      "-6 \f\n",
      "-5 \f\n",
      "-4 \f\n",
      "-3 \f\n",
      "-2 \f\n",
      "-1 \f\n",
      "0 \f\n",
      "1 \f\n",
      "2 \f\n",
      "3 \f\n",
      "4 \f\n",
      "5 \f\n",
      "6 \f\n",
      "7 \f\n",
      "8 \f\n",
      "9 \f\n",
      "10 \f"
     ]
    }
   ],
   "source": [
    "for i in range(-10,11):\n",
    "    print(i,end=' \\f')"
   ]
  },
  {
   "cell_type": "code",
   "execution_count": 59,
   "id": "73e4074c",
   "metadata": {},
   "outputs": [
    {
     "name": "stdout",
     "output_type": "stream",
     "text": [
      "\n",
      "Sum of all prime numbers from 1-100 : 1060\n"
     ]
    }
   ],
   "source": [
    "#Sum of all prime numbers from 1-100\n",
    "sum = 0\n",
    "for num in range(2,101):\n",
    "    for i in range(2, num):\n",
    "        if (int(num%i) == 0):\n",
    "            break;\n",
    "    else:\n",
    "        sum += num\n",
    "\n",
    "print(\"\\nSum of all prime numbers from 1-100\",\":\", sum)"
   ]
  },
  {
   "cell_type": "code",
   "execution_count": 35,
   "id": "c7d226a7",
   "metadata": {},
   "outputs": [
    {
     "name": "stdout",
     "output_type": "stream",
     "text": [
      "5 4 3 2 1 \n",
      "4 3 2 1 \n",
      "3 2 1 \n",
      "2 1 \n",
      "1 \n"
     ]
    }
   ],
   "source": [
    "n = 5\n",
    "\n",
    "for i in range(n, 0, -1):\n",
    "    for j in range(i, 0, -1):\n",
    "        print(j, end=\" \")\n",
    "    print()"
   ]
  },
  {
   "cell_type": "code",
   "execution_count": 38,
   "id": "0e32bfbe",
   "metadata": {},
   "outputs": [
    {
     "name": "stdout",
     "output_type": "stream",
     "text": [
      "Enter a number: 5\n",
      "The factorial of 5 is 120\n"
     ]
    }
   ],
   "source": [
    "num = int(input(\"Enter a number: \"))\n",
    "factorial = 1\n",
    "if num < 0:\n",
    "    print(\"Factorial is not defined for negative numbers.\")\n",
    "elif num == 0:\n",
    "    print(\"The factorial of 0 is 1\")\n",
    "else:\n",
    "    for i in range(1, num + 1):\n",
    "        factorial *= i\n",
    "    print(f\"The factorial of {num} is {factorial}\")"
   ]
  },
  {
   "cell_type": "code",
   "execution_count": 46,
   "id": "13da468e",
   "metadata": {},
   "outputs": [
    {
     "name": "stdout",
     "output_type": "stream",
     "text": [
      "Enter an integer number having at least 2 digits: 1\n",
      "Invalid input!!Please enter an integer with at least 2 digits.\n"
     ]
    }
   ],
   "source": [
    "#Reverse\n",
    "num =input(\"Enter an integer number having at least 2 digits: \")\n",
    "if len(num)<2 or not num.isdigit():\n",
    "    print(\"Invalid input!!Please enter an integer with at least 2 digits.\")\n",
    "else:\n",
    "    reversed_num =int(num[::-1])\n",
    "    print(f\"The reversed number is: {reversed_num}\")"
   ]
  },
  {
   "cell_type": "code",
   "execution_count": 51,
   "id": "7a10f696",
   "metadata": {},
   "outputs": [
    {
     "name": "stdout",
     "output_type": "stream",
     "text": [
      "* \n",
      "* * \n",
      "* * * \n",
      "* * * * \n",
      "* * * * * \n",
      "* * * * \n",
      "* * * \n",
      "* * \n",
      "* \n"
     ]
    }
   ],
   "source": [
    "n = 5\n",
    "for i in range(1,n+1):\n",
    "    for j in range(1,i+1):\n",
    "        print(\"*\",end=\" \")\n",
    "    print()\n",
    "for i in range(n-1,0,-1):\n",
    "    for j in range(1,i+1):\n",
    "        print(\"*\",end=\" \")\n",
    "    print()"
   ]
  },
  {
   "cell_type": "code",
   "execution_count": 1,
   "id": "bae4655a",
   "metadata": {},
   "outputs": [
    {
     "name": "stdout",
     "output_type": "stream",
     "text": [
      "4\n",
      "13\n",
      "22\n",
      "40\n",
      "22\n",
      "4\n"
     ]
    }
   ],
   "source": [
    "my_list = [1,2,3,4,5,6,7,8,9,0,13,22,40,22,55,45,32,234,545,343,2423,4]\n",
    "\n",
    "# Iterate through the list\n",
    "for num in my_list:\n",
    "    # Calculate the digit sum of the current number\n",
    "    digit_sum = sum(int(digit) for digit in str(num))\n",
    "    \n",
    "    # Check if the digit sum is equal to 4\n",
    "    if digit_sum == 4:\n",
    "        print(num)\n",
    "    else:\n",
    "        # If the digit sum is not 4, skip to the next iteration\n",
    "        continue"
   ]
  },
  {
   "cell_type": "code",
   "execution_count": 73,
   "id": "71c22811",
   "metadata": {},
   "outputs": [],
   "source": [
    "# list_1=[1, 2,3, 4, 5, 6, 7, 8, 9, 0, 13, 22,40,22,55,45,32,234,545,343,2423,4]\n",
    "# sum=0\n",
    "# for digit in list_1: \n",
    "#     sum+=int(digit)      \n",
    "# if sum == 4:\n",
    "#     print(digit)"
   ]
  },
  {
   "cell_type": "code",
   "execution_count": null,
   "id": "1cc97319",
   "metadata": {},
   "outputs": [],
   "source": []
  },
  {
   "cell_type": "code",
   "execution_count": null,
   "id": "d9583af0",
   "metadata": {},
   "outputs": [],
   "source": []
  },
  {
   "cell_type": "code",
   "execution_count": null,
   "id": "1f094d43",
   "metadata": {},
   "outputs": [],
   "source": []
  },
  {
   "cell_type": "code",
   "execution_count": 155,
   "id": "7d310f93",
   "metadata": {},
   "outputs": [
    {
     "name": "stdout",
     "output_type": "stream",
     "text": [
      "10\n",
      "11\n",
      "12\n",
      "13\n",
      "14\n",
      "15\n",
      "16\n",
      "17\n",
      "18\n",
      "19\n",
      "20\n"
     ]
    }
   ],
   "source": [
    "i=10\n",
    "while (i<20):\n",
    "    print(i)\n",
    "    i+=1\n",
    "else:\n",
    "    print(i)"
   ]
  },
  {
   "cell_type": "code",
   "execution_count": 66,
   "id": "9b26154a",
   "metadata": {},
   "outputs": [
    {
     "name": "stdout",
     "output_type": "stream",
     "text": [
      "\\Sum of all prime numbers from 1-100 : 1060\n"
     ]
    }
   ],
   "source": [
    "sum=0\n",
    "for i in range(2,101):\n",
    "    for j in range(2,i):\n",
    "        if (int(i%j)==0):\n",
    "            break;\n",
    "    else:\n",
    "        sum+=i\n",
    "print(\"\\Sum of all prime numbers from 1-100\",\":\", sum)"
   ]
  },
  {
   "cell_type": "markdown",
   "id": "b15342f7",
   "metadata": {},
   "source": [
    "# Functions\n",
    "Increase Code Readability \n",
    "Increase Code Reusability\n",
    "def function_name():\n",
    "    function_body\n"
   ]
  },
  {
   "cell_type": "code",
   "execution_count": 139,
   "id": "1c6a41ba",
   "metadata": {},
   "outputs": [
    {
     "name": "stdout",
     "output_type": "stream",
     "text": [
      "Hello\n"
     ]
    }
   ],
   "source": [
    "# Defining the function\n",
    "def First_func():\n",
    "    print(\"Hello\")\n",
    "#Calling the function\n",
    "First_func()"
   ]
  },
  {
   "cell_type": "code",
   "execution_count": 140,
   "id": "c9688b07",
   "metadata": {},
   "outputs": [],
   "source": [
    "def functionName()->int:\n",
    "    return result"
   ]
  },
  {
   "cell_type": "code",
   "execution_count": 69,
   "id": "9f75faa4",
   "metadata": {},
   "outputs": [],
   "source": [
    "def functionName():\n",
    "    return result"
   ]
  },
  {
   "cell_type": "code",
   "execution_count": 70,
   "id": "68d09be8",
   "metadata": {},
   "outputs": [],
   "source": [
    "def functionName():\n",
    "    pass\n",
    "#here we are creating a blue print of functionName as we r not returning anything so there isn't any \n",
    "# presence of this func_name in stack or heap"
   ]
  },
  {
   "cell_type": "code",
   "execution_count": 80,
   "id": "742c5b52",
   "metadata": {},
   "outputs": [],
   "source": [
    "#User defined function\n",
    "#Non-parameterized function\n",
    "def sum1(a1,b1):\n",
    "    a=6\n",
    "    b=2\n",
    "    return a1+b1"
   ]
  },
  {
   "cell_type": "code",
   "execution_count": 81,
   "id": "1b07ae96",
   "metadata": {},
   "outputs": [
    {
     "data": {
      "text/plain": [
       "4"
      ]
     },
     "execution_count": 81,
     "metadata": {},
     "output_type": "execute_result"
    }
   ],
   "source": [
    "#calling a function\n",
    "sum1(2,2)"
   ]
  },
  {
   "cell_type": "code",
   "execution_count": 83,
   "id": "ad4432f4",
   "metadata": {},
   "outputs": [],
   "source": [
    "#User defined function\n",
    "#Non-parameterized function\n",
    "def sum2(a,b):\n",
    "    a=6\n",
    "    b=2\n",
    "    return a+b"
   ]
  },
  {
   "cell_type": "code",
   "execution_count": 85,
   "id": "f331ef23",
   "metadata": {},
   "outputs": [
    {
     "data": {
      "text/plain": [
       "8"
      ]
     },
     "execution_count": 85,
     "metadata": {},
     "output_type": "execute_result"
    }
   ],
   "source": [
    "sum2(2,3)"
   ]
  },
  {
   "cell_type": "code",
   "execution_count": 86,
   "id": "f0ec5ed9",
   "metadata": {},
   "outputs": [],
   "source": [
    "#User defined function\n",
    "#Non-parameterized function\n",
    "def sum3(a,b):\n",
    "    return a+b"
   ]
  },
  {
   "cell_type": "code",
   "execution_count": 88,
   "id": "a480033f",
   "metadata": {},
   "outputs": [
    {
     "data": {
      "text/plain": [
       "3"
      ]
     },
     "execution_count": 88,
     "metadata": {},
     "output_type": "execute_result"
    }
   ],
   "source": [
    "sum3(2,1)"
   ]
  },
  {
   "cell_type": "code",
   "execution_count": 89,
   "id": "15d31dee",
   "metadata": {},
   "outputs": [],
   "source": [
    "def sum4(a:int,b:int):\n",
    "    return a+b"
   ]
  },
  {
   "cell_type": "code",
   "execution_count": 90,
   "id": "5bac2db5",
   "metadata": {},
   "outputs": [
    {
     "data": {
      "text/plain": [
       "12"
      ]
     },
     "execution_count": 90,
     "metadata": {},
     "output_type": "execute_result"
    }
   ],
   "source": [
    "sum4(1,11)"
   ]
  },
  {
   "cell_type": "code",
   "execution_count": 110,
   "id": "38f962ea",
   "metadata": {},
   "outputs": [],
   "source": [
    "def printArgs(*args):\n",
    "    sum=0\n",
    "    for i in args:\n",
    "        sum+=int(i)\n",
    "    return sum"
   ]
  },
  {
   "cell_type": "code",
   "execution_count": 111,
   "id": "6b080721",
   "metadata": {},
   "outputs": [
    {
     "data": {
      "text/plain": [
       "61"
      ]
     },
     "execution_count": 111,
     "metadata": {},
     "output_type": "execute_result"
    }
   ],
   "source": [
    "printArgs(1,4,56)#it takes arguments in the form of a tuple"
   ]
  },
  {
   "cell_type": "code",
   "execution_count": 127,
   "id": "77df8e36",
   "metadata": {},
   "outputs": [],
   "source": [
    "def dictType(kwargs):\n",
    "    return kwargs"
   ]
  },
  {
   "cell_type": "code",
   "execution_count": 134,
   "id": "f055a205",
   "metadata": {},
   "outputs": [
    {
     "ename": "TypeError",
     "evalue": "dictType() takes 0 positional arguments but 1 was given",
     "output_type": "error",
     "traceback": [
      "\u001b[1;31m---------------------------------------------------------------------------\u001b[0m",
      "\u001b[1;31mTypeError\u001b[0m                                 Traceback (most recent call last)",
      "Cell \u001b[1;32mIn[134], line 1\u001b[0m\n\u001b[1;32m----> 1\u001b[0m dictType({\u001b[38;5;124m'\u001b[39m\u001b[38;5;124ma\u001b[39m\u001b[38;5;124m'\u001b[39m,\u001b[38;5;241m1\u001b[39m})\n",
      "\u001b[1;31mTypeError\u001b[0m: dictType() takes 0 positional arguments but 1 was given"
     ]
    }
   ],
   "source": [
    "dictType({'a',1})"
   ]
  },
  {
   "cell_type": "code",
   "execution_count": 195,
   "id": "5c219080",
   "metadata": {},
   "outputs": [],
   "source": [
    "def dictType(**kwargs):\n",
    "    return kwargs"
   ]
  },
  {
   "cell_type": "code",
   "execution_count": 196,
   "id": "b5fb7a4b",
   "metadata": {},
   "outputs": [
    {
     "data": {
      "text/plain": [
       "{'a': 'Abhi', 'b': 1, 'c': 'Yes'}"
      ]
     },
     "execution_count": 196,
     "metadata": {},
     "output_type": "execute_result"
    }
   ],
   "source": [
    "dictType(a='Abhi',b=1,c='Yes')"
   ]
  },
  {
   "cell_type": "code",
   "execution_count": 143,
   "id": "b288d51c",
   "metadata": {},
   "outputs": [
    {
     "name": "stdout",
     "output_type": "stream",
     "text": [
      "[0, 1, 4, 9, 16, 25, 36, 49, 64, 81]\n"
     ]
    }
   ],
   "source": [
    "squares = [x ** 2 for x in range(10)]\n",
    "print(squares)"
   ]
  },
  {
   "cell_type": "code",
   "execution_count": 144,
   "id": "dca020c8",
   "metadata": {},
   "outputs": [],
   "source": [
    "row = []\n",
    "\n",
    "for i in range(8):\n",
    "    row.append('WHITE_PAWN')\n",
    "\n"
   ]
  },
  {
   "cell_type": "code",
   "execution_count": 145,
   "id": "97e64b18",
   "metadata": {},
   "outputs": [
    {
     "data": {
      "text/plain": [
       "['WHITE_PAWN',\n",
       " 'WHITE_PAWN',\n",
       " 'WHITE_PAWN',\n",
       " 'WHITE_PAWN',\n",
       " 'WHITE_PAWN',\n",
       " 'WHITE_PAWN',\n",
       " 'WHITE_PAWN',\n",
       " 'WHITE_PAWN']"
      ]
     },
     "execution_count": 145,
     "metadata": {},
     "output_type": "execute_result"
    }
   ],
   "source": [
    "row"
   ]
  },
  {
   "cell_type": "code",
   "execution_count": 146,
   "id": "02903c0c",
   "metadata": {},
   "outputs": [
    {
     "data": {
      "text/plain": [
       "['WHITE_PAWN',\n",
       " 'WHITE_PAWN',\n",
       " 'WHITE_PAWN',\n",
       " 'WHITE_PAWN',\n",
       " 'WHITE_PAWN',\n",
       " 'WHITE_PAWN',\n",
       " 'WHITE_PAWN',\n",
       " 'WHITE_PAWN']"
      ]
     },
     "execution_count": 146,
     "metadata": {},
     "output_type": "execute_result"
    }
   ],
   "source": [
    "row = ['WHITE_PAWN' for i in range(8)]\n",
    "row"
   ]
  },
  {
   "cell_type": "code",
   "execution_count": 194,
   "id": "303b7e25",
   "metadata": {},
   "outputs": [
    {
     "data": {
      "text/plain": [
       "[['EMPTY', 'EMPTY', 'EMPTY', 'EMPTY', 'EMPTY', 'EMPTY', 'EMPTY', 'EMPTY'],\n",
       " ['EMPTY', 'EMPTY', 'EMPTY', 'EMPTY', 'EMPTY', 'EMPTY', 'EMPTY', 'EMPTY'],\n",
       " ['EMPTY', 'EMPTY', 'EMPTY', 'EMPTY', 'EMPTY', 'EMPTY', 'EMPTY', 'EMPTY'],\n",
       " ['EMPTY', 'EMPTY', 'EMPTY', 'EMPTY', 'EMPTY', 'EMPTY', 'EMPTY', 'EMPTY'],\n",
       " ['EMPTY', 'EMPTY', 'EMPTY', 'EMPTY', 'EMPTY', 'EMPTY', 'EMPTY', 'EMPTY'],\n",
       " ['EMPTY', 'EMPTY', 'EMPTY', 'EMPTY', 'EMPTY', 'EMPTY', 'EMPTY', 'EMPTY'],\n",
       " ['EMPTY', 'EMPTY', 'EMPTY', 'EMPTY', 'EMPTY', 'EMPTY', 'EMPTY', 'EMPTY'],\n",
       " ['EMPTY', 'EMPTY', 'EMPTY', 'EMPTY', 'EMPTY', 'EMPTY', 'EMPTY', 'EMPTY']]"
      ]
     },
     "execution_count": 194,
     "metadata": {},
     "output_type": "execute_result"
    }
   ],
   "source": [
    "board = [['EMPTY'for i in range(8)] for j in range(8)]\n",
    "board"
   ]
  },
  {
   "cell_type": "code",
   "execution_count": 150,
   "id": "ed59587a",
   "metadata": {},
   "outputs": [
    {
     "data": {
      "text/plain": [
       "[[0.0, 0.0], [0.0, 0.0], [0.0, 0.0]]"
      ]
     },
     "execution_count": 150,
     "metadata": {},
     "output_type": "execute_result"
    }
   ],
   "source": [
    "temps = [[0.0 for h in range(2)] for d in range(3)]\n",
    "temps"
   ]
  },
  {
   "cell_type": "code",
   "execution_count": 151,
   "id": "8351eb8f",
   "metadata": {},
   "outputs": [
    {
     "data": {
      "text/plain": [
       "[[[False,\n",
       "   False,\n",
       "   False,\n",
       "   False,\n",
       "   False,\n",
       "   False,\n",
       "   False,\n",
       "   False,\n",
       "   False,\n",
       "   False,\n",
       "   False,\n",
       "   False,\n",
       "   False,\n",
       "   False,\n",
       "   False,\n",
       "   False,\n",
       "   False,\n",
       "   False,\n",
       "   False,\n",
       "   False],\n",
       "  [False,\n",
       "   False,\n",
       "   False,\n",
       "   False,\n",
       "   False,\n",
       "   False,\n",
       "   False,\n",
       "   False,\n",
       "   False,\n",
       "   False,\n",
       "   False,\n",
       "   False,\n",
       "   False,\n",
       "   False,\n",
       "   False,\n",
       "   False,\n",
       "   False,\n",
       "   False,\n",
       "   False,\n",
       "   False],\n",
       "  [False,\n",
       "   False,\n",
       "   False,\n",
       "   False,\n",
       "   False,\n",
       "   False,\n",
       "   False,\n",
       "   False,\n",
       "   False,\n",
       "   False,\n",
       "   False,\n",
       "   False,\n",
       "   False,\n",
       "   False,\n",
       "   False,\n",
       "   False,\n",
       "   False,\n",
       "   False,\n",
       "   False,\n",
       "   False],\n",
       "  [False,\n",
       "   False,\n",
       "   False,\n",
       "   False,\n",
       "   False,\n",
       "   False,\n",
       "   False,\n",
       "   False,\n",
       "   False,\n",
       "   False,\n",
       "   False,\n",
       "   False,\n",
       "   False,\n",
       "   False,\n",
       "   False,\n",
       "   False,\n",
       "   False,\n",
       "   False,\n",
       "   False,\n",
       "   False],\n",
       "  [False,\n",
       "   False,\n",
       "   False,\n",
       "   False,\n",
       "   False,\n",
       "   False,\n",
       "   False,\n",
       "   False,\n",
       "   False,\n",
       "   False,\n",
       "   False,\n",
       "   False,\n",
       "   False,\n",
       "   False,\n",
       "   False,\n",
       "   False,\n",
       "   False,\n",
       "   False,\n",
       "   False,\n",
       "   False],\n",
       "  [False,\n",
       "   False,\n",
       "   False,\n",
       "   False,\n",
       "   False,\n",
       "   False,\n",
       "   False,\n",
       "   False,\n",
       "   False,\n",
       "   False,\n",
       "   False,\n",
       "   False,\n",
       "   False,\n",
       "   False,\n",
       "   False,\n",
       "   False,\n",
       "   False,\n",
       "   False,\n",
       "   False,\n",
       "   False],\n",
       "  [False,\n",
       "   False,\n",
       "   False,\n",
       "   False,\n",
       "   False,\n",
       "   False,\n",
       "   False,\n",
       "   False,\n",
       "   False,\n",
       "   False,\n",
       "   False,\n",
       "   False,\n",
       "   False,\n",
       "   False,\n",
       "   False,\n",
       "   False,\n",
       "   False,\n",
       "   False,\n",
       "   False,\n",
       "   False],\n",
       "  [False,\n",
       "   False,\n",
       "   False,\n",
       "   False,\n",
       "   False,\n",
       "   False,\n",
       "   False,\n",
       "   False,\n",
       "   False,\n",
       "   False,\n",
       "   False,\n",
       "   False,\n",
       "   False,\n",
       "   False,\n",
       "   False,\n",
       "   False,\n",
       "   False,\n",
       "   False,\n",
       "   False,\n",
       "   False],\n",
       "  [False,\n",
       "   False,\n",
       "   False,\n",
       "   False,\n",
       "   False,\n",
       "   False,\n",
       "   False,\n",
       "   False,\n",
       "   False,\n",
       "   False,\n",
       "   False,\n",
       "   False,\n",
       "   False,\n",
       "   False,\n",
       "   False,\n",
       "   False,\n",
       "   False,\n",
       "   False,\n",
       "   False,\n",
       "   False],\n",
       "  [False,\n",
       "   False,\n",
       "   False,\n",
       "   False,\n",
       "   False,\n",
       "   False,\n",
       "   False,\n",
       "   False,\n",
       "   False,\n",
       "   False,\n",
       "   False,\n",
       "   False,\n",
       "   False,\n",
       "   False,\n",
       "   False,\n",
       "   False,\n",
       "   False,\n",
       "   False,\n",
       "   False,\n",
       "   False],\n",
       "  [False,\n",
       "   False,\n",
       "   False,\n",
       "   False,\n",
       "   False,\n",
       "   False,\n",
       "   False,\n",
       "   False,\n",
       "   False,\n",
       "   False,\n",
       "   False,\n",
       "   False,\n",
       "   False,\n",
       "   False,\n",
       "   False,\n",
       "   False,\n",
       "   False,\n",
       "   False,\n",
       "   False,\n",
       "   False],\n",
       "  [False,\n",
       "   False,\n",
       "   False,\n",
       "   False,\n",
       "   False,\n",
       "   False,\n",
       "   False,\n",
       "   False,\n",
       "   False,\n",
       "   False,\n",
       "   False,\n",
       "   False,\n",
       "   False,\n",
       "   False,\n",
       "   False,\n",
       "   False,\n",
       "   False,\n",
       "   False,\n",
       "   False,\n",
       "   False],\n",
       "  [False,\n",
       "   False,\n",
       "   False,\n",
       "   False,\n",
       "   False,\n",
       "   False,\n",
       "   False,\n",
       "   False,\n",
       "   False,\n",
       "   False,\n",
       "   False,\n",
       "   False,\n",
       "   False,\n",
       "   False,\n",
       "   False,\n",
       "   False,\n",
       "   False,\n",
       "   False,\n",
       "   False,\n",
       "   False],\n",
       "  [False,\n",
       "   False,\n",
       "   False,\n",
       "   False,\n",
       "   False,\n",
       "   False,\n",
       "   False,\n",
       "   False,\n",
       "   False,\n",
       "   False,\n",
       "   False,\n",
       "   False,\n",
       "   False,\n",
       "   False,\n",
       "   False,\n",
       "   False,\n",
       "   False,\n",
       "   False,\n",
       "   False,\n",
       "   False],\n",
       "  [False,\n",
       "   False,\n",
       "   False,\n",
       "   False,\n",
       "   False,\n",
       "   False,\n",
       "   False,\n",
       "   False,\n",
       "   False,\n",
       "   False,\n",
       "   False,\n",
       "   False,\n",
       "   False,\n",
       "   False,\n",
       "   False,\n",
       "   False,\n",
       "   False,\n",
       "   False,\n",
       "   False,\n",
       "   False]],\n",
       " [[False,\n",
       "   False,\n",
       "   False,\n",
       "   False,\n",
       "   False,\n",
       "   False,\n",
       "   False,\n",
       "   False,\n",
       "   False,\n",
       "   False,\n",
       "   False,\n",
       "   False,\n",
       "   False,\n",
       "   False,\n",
       "   False,\n",
       "   False,\n",
       "   False,\n",
       "   False,\n",
       "   False,\n",
       "   False],\n",
       "  [False,\n",
       "   False,\n",
       "   False,\n",
       "   False,\n",
       "   False,\n",
       "   False,\n",
       "   False,\n",
       "   False,\n",
       "   False,\n",
       "   False,\n",
       "   False,\n",
       "   False,\n",
       "   False,\n",
       "   False,\n",
       "   False,\n",
       "   False,\n",
       "   False,\n",
       "   False,\n",
       "   False,\n",
       "   False],\n",
       "  [False,\n",
       "   False,\n",
       "   False,\n",
       "   False,\n",
       "   False,\n",
       "   False,\n",
       "   False,\n",
       "   False,\n",
       "   False,\n",
       "   False,\n",
       "   False,\n",
       "   False,\n",
       "   False,\n",
       "   False,\n",
       "   False,\n",
       "   False,\n",
       "   False,\n",
       "   False,\n",
       "   False,\n",
       "   False],\n",
       "  [False,\n",
       "   False,\n",
       "   False,\n",
       "   False,\n",
       "   False,\n",
       "   False,\n",
       "   False,\n",
       "   False,\n",
       "   False,\n",
       "   False,\n",
       "   False,\n",
       "   False,\n",
       "   False,\n",
       "   False,\n",
       "   False,\n",
       "   False,\n",
       "   False,\n",
       "   False,\n",
       "   False,\n",
       "   False],\n",
       "  [False,\n",
       "   False,\n",
       "   False,\n",
       "   False,\n",
       "   False,\n",
       "   False,\n",
       "   False,\n",
       "   False,\n",
       "   False,\n",
       "   False,\n",
       "   False,\n",
       "   False,\n",
       "   False,\n",
       "   False,\n",
       "   False,\n",
       "   False,\n",
       "   False,\n",
       "   False,\n",
       "   False,\n",
       "   False],\n",
       "  [False,\n",
       "   False,\n",
       "   False,\n",
       "   False,\n",
       "   False,\n",
       "   False,\n",
       "   False,\n",
       "   False,\n",
       "   False,\n",
       "   False,\n",
       "   False,\n",
       "   False,\n",
       "   False,\n",
       "   False,\n",
       "   False,\n",
       "   False,\n",
       "   False,\n",
       "   False,\n",
       "   False,\n",
       "   False],\n",
       "  [False,\n",
       "   False,\n",
       "   False,\n",
       "   False,\n",
       "   False,\n",
       "   False,\n",
       "   False,\n",
       "   False,\n",
       "   False,\n",
       "   False,\n",
       "   False,\n",
       "   False,\n",
       "   False,\n",
       "   False,\n",
       "   False,\n",
       "   False,\n",
       "   False,\n",
       "   False,\n",
       "   False,\n",
       "   False],\n",
       "  [False,\n",
       "   False,\n",
       "   False,\n",
       "   False,\n",
       "   False,\n",
       "   False,\n",
       "   False,\n",
       "   False,\n",
       "   False,\n",
       "   False,\n",
       "   False,\n",
       "   False,\n",
       "   False,\n",
       "   False,\n",
       "   False,\n",
       "   False,\n",
       "   False,\n",
       "   False,\n",
       "   False,\n",
       "   False],\n",
       "  [False,\n",
       "   False,\n",
       "   False,\n",
       "   False,\n",
       "   False,\n",
       "   False,\n",
       "   False,\n",
       "   False,\n",
       "   False,\n",
       "   False,\n",
       "   False,\n",
       "   False,\n",
       "   False,\n",
       "   False,\n",
       "   False,\n",
       "   False,\n",
       "   False,\n",
       "   False,\n",
       "   False,\n",
       "   False],\n",
       "  [False,\n",
       "   False,\n",
       "   False,\n",
       "   False,\n",
       "   False,\n",
       "   False,\n",
       "   False,\n",
       "   False,\n",
       "   False,\n",
       "   False,\n",
       "   False,\n",
       "   False,\n",
       "   False,\n",
       "   False,\n",
       "   False,\n",
       "   False,\n",
       "   False,\n",
       "   False,\n",
       "   False,\n",
       "   False],\n",
       "  [False,\n",
       "   False,\n",
       "   False,\n",
       "   False,\n",
       "   False,\n",
       "   False,\n",
       "   False,\n",
       "   False,\n",
       "   False,\n",
       "   False,\n",
       "   False,\n",
       "   False,\n",
       "   False,\n",
       "   False,\n",
       "   False,\n",
       "   False,\n",
       "   False,\n",
       "   False,\n",
       "   False,\n",
       "   False],\n",
       "  [False,\n",
       "   False,\n",
       "   False,\n",
       "   False,\n",
       "   False,\n",
       "   False,\n",
       "   False,\n",
       "   False,\n",
       "   False,\n",
       "   False,\n",
       "   False,\n",
       "   False,\n",
       "   False,\n",
       "   False,\n",
       "   False,\n",
       "   False,\n",
       "   False,\n",
       "   False,\n",
       "   False,\n",
       "   False],\n",
       "  [False,\n",
       "   False,\n",
       "   False,\n",
       "   False,\n",
       "   False,\n",
       "   False,\n",
       "   False,\n",
       "   False,\n",
       "   False,\n",
       "   False,\n",
       "   False,\n",
       "   False,\n",
       "   False,\n",
       "   False,\n",
       "   False,\n",
       "   False,\n",
       "   False,\n",
       "   False,\n",
       "   False,\n",
       "   False],\n",
       "  [False,\n",
       "   False,\n",
       "   False,\n",
       "   False,\n",
       "   False,\n",
       "   False,\n",
       "   False,\n",
       "   False,\n",
       "   False,\n",
       "   False,\n",
       "   False,\n",
       "   False,\n",
       "   False,\n",
       "   False,\n",
       "   False,\n",
       "   False,\n",
       "   False,\n",
       "   False,\n",
       "   False,\n",
       "   False],\n",
       "  [False,\n",
       "   False,\n",
       "   False,\n",
       "   False,\n",
       "   False,\n",
       "   False,\n",
       "   False,\n",
       "   False,\n",
       "   False,\n",
       "   False,\n",
       "   False,\n",
       "   False,\n",
       "   False,\n",
       "   False,\n",
       "   False,\n",
       "   False,\n",
       "   False,\n",
       "   False,\n",
       "   False,\n",
       "   False]],\n",
       " [[False,\n",
       "   False,\n",
       "   False,\n",
       "   False,\n",
       "   False,\n",
       "   False,\n",
       "   False,\n",
       "   False,\n",
       "   False,\n",
       "   False,\n",
       "   False,\n",
       "   False,\n",
       "   False,\n",
       "   False,\n",
       "   False,\n",
       "   False,\n",
       "   False,\n",
       "   False,\n",
       "   False,\n",
       "   False],\n",
       "  [False,\n",
       "   False,\n",
       "   False,\n",
       "   False,\n",
       "   False,\n",
       "   False,\n",
       "   False,\n",
       "   False,\n",
       "   False,\n",
       "   False,\n",
       "   False,\n",
       "   False,\n",
       "   False,\n",
       "   False,\n",
       "   False,\n",
       "   False,\n",
       "   False,\n",
       "   False,\n",
       "   False,\n",
       "   False],\n",
       "  [False,\n",
       "   False,\n",
       "   False,\n",
       "   False,\n",
       "   False,\n",
       "   False,\n",
       "   False,\n",
       "   False,\n",
       "   False,\n",
       "   False,\n",
       "   False,\n",
       "   False,\n",
       "   False,\n",
       "   False,\n",
       "   False,\n",
       "   False,\n",
       "   False,\n",
       "   False,\n",
       "   False,\n",
       "   False],\n",
       "  [False,\n",
       "   False,\n",
       "   False,\n",
       "   False,\n",
       "   False,\n",
       "   False,\n",
       "   False,\n",
       "   False,\n",
       "   False,\n",
       "   False,\n",
       "   False,\n",
       "   False,\n",
       "   False,\n",
       "   False,\n",
       "   False,\n",
       "   False,\n",
       "   False,\n",
       "   False,\n",
       "   False,\n",
       "   False],\n",
       "  [False,\n",
       "   False,\n",
       "   False,\n",
       "   False,\n",
       "   False,\n",
       "   False,\n",
       "   False,\n",
       "   False,\n",
       "   False,\n",
       "   False,\n",
       "   False,\n",
       "   False,\n",
       "   False,\n",
       "   False,\n",
       "   False,\n",
       "   False,\n",
       "   False,\n",
       "   False,\n",
       "   False,\n",
       "   False],\n",
       "  [False,\n",
       "   False,\n",
       "   False,\n",
       "   False,\n",
       "   False,\n",
       "   False,\n",
       "   False,\n",
       "   False,\n",
       "   False,\n",
       "   False,\n",
       "   False,\n",
       "   False,\n",
       "   False,\n",
       "   False,\n",
       "   False,\n",
       "   False,\n",
       "   False,\n",
       "   False,\n",
       "   False,\n",
       "   False],\n",
       "  [False,\n",
       "   False,\n",
       "   False,\n",
       "   False,\n",
       "   False,\n",
       "   False,\n",
       "   False,\n",
       "   False,\n",
       "   False,\n",
       "   False,\n",
       "   False,\n",
       "   False,\n",
       "   False,\n",
       "   False,\n",
       "   False,\n",
       "   False,\n",
       "   False,\n",
       "   False,\n",
       "   False,\n",
       "   False],\n",
       "  [False,\n",
       "   False,\n",
       "   False,\n",
       "   False,\n",
       "   False,\n",
       "   False,\n",
       "   False,\n",
       "   False,\n",
       "   False,\n",
       "   False,\n",
       "   False,\n",
       "   False,\n",
       "   False,\n",
       "   False,\n",
       "   False,\n",
       "   False,\n",
       "   False,\n",
       "   False,\n",
       "   False,\n",
       "   False],\n",
       "  [False,\n",
       "   False,\n",
       "   False,\n",
       "   False,\n",
       "   False,\n",
       "   False,\n",
       "   False,\n",
       "   False,\n",
       "   False,\n",
       "   False,\n",
       "   False,\n",
       "   False,\n",
       "   False,\n",
       "   False,\n",
       "   False,\n",
       "   False,\n",
       "   False,\n",
       "   False,\n",
       "   False,\n",
       "   False],\n",
       "  [False,\n",
       "   False,\n",
       "   False,\n",
       "   False,\n",
       "   False,\n",
       "   False,\n",
       "   False,\n",
       "   False,\n",
       "   False,\n",
       "   False,\n",
       "   False,\n",
       "   False,\n",
       "   False,\n",
       "   False,\n",
       "   False,\n",
       "   False,\n",
       "   False,\n",
       "   False,\n",
       "   False,\n",
       "   False],\n",
       "  [False,\n",
       "   False,\n",
       "   False,\n",
       "   False,\n",
       "   False,\n",
       "   False,\n",
       "   False,\n",
       "   False,\n",
       "   False,\n",
       "   False,\n",
       "   False,\n",
       "   False,\n",
       "   False,\n",
       "   False,\n",
       "   False,\n",
       "   False,\n",
       "   False,\n",
       "   False,\n",
       "   False,\n",
       "   False],\n",
       "  [False,\n",
       "   False,\n",
       "   False,\n",
       "   False,\n",
       "   False,\n",
       "   False,\n",
       "   False,\n",
       "   False,\n",
       "   False,\n",
       "   False,\n",
       "   False,\n",
       "   False,\n",
       "   False,\n",
       "   False,\n",
       "   False,\n",
       "   False,\n",
       "   False,\n",
       "   False,\n",
       "   False,\n",
       "   False],\n",
       "  [False,\n",
       "   False,\n",
       "   False,\n",
       "   False,\n",
       "   False,\n",
       "   False,\n",
       "   False,\n",
       "   False,\n",
       "   False,\n",
       "   False,\n",
       "   False,\n",
       "   False,\n",
       "   False,\n",
       "   False,\n",
       "   False,\n",
       "   False,\n",
       "   False,\n",
       "   False,\n",
       "   False,\n",
       "   False],\n",
       "  [False,\n",
       "   False,\n",
       "   False,\n",
       "   False,\n",
       "   False,\n",
       "   False,\n",
       "   False,\n",
       "   False,\n",
       "   False,\n",
       "   False,\n",
       "   False,\n",
       "   False,\n",
       "   False,\n",
       "   False,\n",
       "   False,\n",
       "   False,\n",
       "   False,\n",
       "   False,\n",
       "   False,\n",
       "   False],\n",
       "  [False,\n",
       "   False,\n",
       "   False,\n",
       "   False,\n",
       "   False,\n",
       "   False,\n",
       "   False,\n",
       "   False,\n",
       "   False,\n",
       "   False,\n",
       "   False,\n",
       "   False,\n",
       "   False,\n",
       "   False,\n",
       "   False,\n",
       "   False,\n",
       "   False,\n",
       "   False,\n",
       "   False,\n",
       "   False]]]"
      ]
     },
     "execution_count": 151,
     "metadata": {},
     "output_type": "execute_result"
    }
   ],
   "source": [
    "rooms = [[[False for r in range(20)] for f in range(15)] for t in range(3)]\n",
    "rooms"
   ]
  },
  {
   "cell_type": "code",
   "execution_count": 153,
   "id": "686aec47",
   "metadata": {},
   "outputs": [
    {
     "data": {
      "text/plain": [
       "20"
      ]
     },
     "execution_count": 153,
     "metadata": {},
     "output_type": "execute_result"
    }
   ],
   "source": [
    "vacancy = 0\n",
    "\n",
    "for room_number in range(20):\n",
    "    if not rooms[2][14][room_number]:\n",
    "        vacancy += 1\n",
    "vacancy"
   ]
  },
  {
   "cell_type": "code",
   "execution_count": 154,
   "id": "bdedd6f8",
   "metadata": {},
   "outputs": [
    {
     "name": "stdout",
     "output_type": "stream",
     "text": [
      "[0, 1, 8, 27, 64]\n"
     ]
    }
   ],
   "source": [
    "cubed = [num ** 3 for num in range(5)]\n",
    "print(cubed)  # outputs: [0, 1, 8, 27, 64]\n"
   ]
  },
  {
   "cell_type": "code",
   "execution_count": 159,
   "id": "574bb80a",
   "metadata": {},
   "outputs": [
    {
     "name": "stdout",
     "output_type": "stream",
     "text": [
      "[[':(', ':)', ':(', ':)'], [':)', ':(', ':)', ':)'], [':(', ':)', ':)', ':('], [':)', ':)', ':)', ':(']]\n",
      ":(\n",
      ":)\n"
     ]
    }
   ],
   "source": [
    "table = [[\":(\", \":)\", \":(\", \":)\"],\n",
    "         [\":)\", \":(\", \":)\", \":)\"],\n",
    "         [\":(\", \":)\", \":)\", \":(\"],\n",
    "         [\":)\", \":)\", \":)\", \":(\"]]\n",
    " \n",
    "print(table)\n",
    "print(table[0][0]) \n",
    "print(table[0][3])"
   ]
  },
  {
   "cell_type": "code",
   "execution_count": 160,
   "id": "9594fe0b",
   "metadata": {},
   "outputs": [
    {
     "name": "stdout",
     "output_type": "stream",
     "text": [
      "[2]\n"
     ]
    }
   ],
   "source": [
    "list_1 = [1]\n",
    "list_2 = list_1\n",
    "list_1[0] = 2\n",
    "print(list_2)"
   ]
  },
  {
   "cell_type": "code",
   "execution_count": 163,
   "id": "82f19ddd",
   "metadata": {},
   "outputs": [
    {
     "name": "stdout",
     "output_type": "stream",
     "text": [
      "[1, 2]\n"
     ]
    }
   ],
   "source": [
    "list_1 = [1,2]\n",
    "list_2 = list_1[:]\n",
    "list_1[0] = 2\n",
    "print(list_2)"
   ]
  },
  {
   "cell_type": "code",
   "execution_count": 164,
   "id": "ca1fe0f5",
   "metadata": {},
   "outputs": [
    {
     "name": "stdout",
     "output_type": "stream",
     "text": [
      "[1, 2]\n",
      "[8, 6]\n"
     ]
    }
   ],
   "source": [
    "list_1 = [1,2]\n",
    "list_2 = list_1[:]\n",
    "list_1[0] = 2\n",
    "print(list_2)\n",
    "\n",
    "# Copying some part of the list.\n",
    "my_list = [10, 8, 6, 4, 2]\n",
    "new_list = my_list[1:3]\n",
    "print(new_list)"
   ]
  },
  {
   "cell_type": "code",
   "execution_count": 165,
   "id": "4fbc9d78",
   "metadata": {},
   "outputs": [],
   "source": [
    "#bubblesort\n",
    "def sort(nums):\n",
    "    for i in range(len(nums)-1,0,-1):\n",
    "        for j in range(i):\n",
    "            if nums[j]>nums[j+1]:\n",
    "                temp=nums[j]\n",
    "                nums[j+1]=temp\n",
    "                "
   ]
  },
  {
   "cell_type": "code",
   "execution_count": 172,
   "id": "f6b43a5f",
   "metadata": {},
   "outputs": [
    {
     "name": "stdout",
     "output_type": "stream",
     "text": [
      "[1, 5, 7, 7, 44, 987]\n"
     ]
    }
   ],
   "source": [
    "l1=[1,5,7,6,44,987]\n",
    "sort(l1)\n",
    "print(l1)"
   ]
  },
  {
   "cell_type": "code",
   "execution_count": 173,
   "id": "4a8a9f62",
   "metadata": {},
   "outputs": [
    {
     "name": "stdout",
     "output_type": "stream",
     "text": [
      "Sum:  9\n"
     ]
    }
   ],
   "source": [
    "def add_numbers(num1, num2):\n",
    "    sum = num1 + num2\n",
    "    print(\"Sum: \",sum)\n",
    "\n",
    "# function call with two values\n",
    "add_numbers(5, 4)"
   ]
  },
  {
   "cell_type": "code",
   "execution_count": 174,
   "id": "423c4647",
   "metadata": {},
   "outputs": [
    {
     "name": "stdout",
     "output_type": "stream",
     "text": [
      "Enter a number: 1\n",
      "1234\n"
     ]
    }
   ],
   "source": [
    "#Shadowing in Function\n",
    "def message(number):\n",
    "    print(\"Enter a number:\", number)\n",
    "\n",
    "number = 1234\n",
    "message(1)\n",
    "print(number)"
   ]
  },
  {
   "cell_type": "code",
   "execution_count": 175,
   "id": "b73ac870",
   "metadata": {},
   "outputs": [
    {
     "name": "stdout",
     "output_type": "stream",
     "text": [
      "Enter a number: 1\n",
      "1234\n"
     ]
    }
   ],
   "source": [
    "def message(number):\n",
    "    print(\"Enter a number:\", number)\n",
    "\n",
    "number = 1234\n",
    "message(1)\n",
    "print(number)\n",
    "\n",
    "# Here parameter named number and varible number are different "
   ]
  },
  {
   "cell_type": "code",
   "execution_count": 182,
   "id": "3308f46f",
   "metadata": {},
   "outputs": [
    {
     "name": "stdout",
     "output_type": "stream",
     "text": [
      "Hello, my name is Luke Skywalker\n"
     ]
    }
   ],
   "source": [
    "def introduction(first_name, last_name):\n",
    "    print(\"Hello, my name is\", first_name, last_name)\n",
    "\n",
    "introduction(last_name=\"Skywalker\",first_name=\"Luke\")\n",
    "# introduction(first_name,first_name)\n"
   ]
  },
  {
   "cell_type": "code",
   "execution_count": 183,
   "id": "8136cc20",
   "metadata": {},
   "outputs": [
    {
     "ename": "SyntaxError",
     "evalue": "incomplete input (2530670871.py, line 8)",
     "output_type": "error",
     "traceback": [
      "\u001b[1;36m  Cell \u001b[1;32mIn[183], line 8\u001b[1;36m\u001b[0m\n\u001b[1;33m    # code\u001b[0m\n\u001b[1;37m          ^\u001b[0m\n\u001b[1;31mSyntaxError\u001b[0m\u001b[1;31m:\u001b[0m incomplete input\n"
     ]
    }
   ],
   "source": [
    "# function with two arguments\n",
    "def add_numbers(num1, num2):\n",
    "    sum = num1 + num2\n",
    "    print('Sum: ',sum)\n",
    "\n",
    "# function with no argument\n",
    "def add_numbers():\n",
    "    # code"
   ]
  },
  {
   "cell_type": "code",
   "execution_count": 184,
   "id": "e6231f80",
   "metadata": {},
   "outputs": [
    {
     "name": "stdout",
     "output_type": "stream",
     "text": [
      "Sum:  9\n"
     ]
    }
   ],
   "source": [
    "# function with two arguments\n",
    "def add_numbers(num1, num2):\n",
    "    sum = num1 + num2\n",
    "    print(\"Sum: \",sum)\n",
    "\n",
    "# function call with two values\n",
    "add_numbers(5, 4)"
   ]
  },
  {
   "cell_type": "code",
   "execution_count": 188,
   "id": "e5f6c217",
   "metadata": {},
   "outputs": [
    {
     "name": "stdout",
     "output_type": "stream",
     "text": [
      "1 2 3\n"
     ]
    }
   ],
   "source": [
    "def my_function(a, b, c):\n",
    "    print(a, b, c)\n",
    " \n",
    "my_function(1, 2, 3)"
   ]
  },
  {
   "cell_type": "code",
   "execution_count": 189,
   "id": "fb13d695",
   "metadata": {},
   "outputs": [
    {
     "name": "stdout",
     "output_type": "stream",
     "text": [
      "John is working at Google\n"
     ]
    }
   ],
   "source": [
    "\n",
    "def team(name, company):\n",
    "   print(name, \"is working at\", company)\n",
    "team(company = \"Google\", name = 'John')\n"
   ]
  },
  {
   "cell_type": "code",
   "execution_count": 197,
   "id": "97ee09c9",
   "metadata": {},
   "outputs": [
    {
     "data": {
      "text/plain": [
       "{'a': 'Abhi', 'b': 1, 'c': 'Yes'}"
      ]
     },
     "execution_count": 197,
     "metadata": {},
     "output_type": "execute_result"
    }
   ],
   "source": [
    "def dictType(**kwargs):\n",
    "    return kwargs\n",
    "dictType(a='Abhi',b=1,c='Yes')"
   ]
  },
  {
   "cell_type": "code",
   "execution_count": 191,
   "id": "8bed36db",
   "metadata": {},
   "outputs": [
    {
     "name": "stdout",
     "output_type": "stream",
     "text": [
      "Name -> Rahul\n",
      "Gender -> Male\n",
      "Age -> 38\n",
      "City -> Hyderabad\n",
      "Mobile -> 123456789\n"
     ]
    }
   ],
   "source": [
    "def Person(**kwargs):\n",
    "   for key, value in kwargs.items():\n",
    "      print(key,\"->\", value)\n",
    "Person(Name = 'Rahul', Gender = 'Male', Age = 38, City = 'Hyderabad', Mobile = 123456789)"
   ]
  },
  {
   "cell_type": "code",
   "execution_count": 192,
   "id": "12cc7dde",
   "metadata": {},
   "outputs": [
    {
     "name": "stdout",
     "output_type": "stream",
     "text": [
      "0\n",
      "1\n",
      "2\n"
     ]
    }
   ],
   "source": [
    "for i in range(5):\n",
    "    if i == 3:\n",
    "        break\n",
    "    print(i)"
   ]
  },
  {
   "cell_type": "code",
   "execution_count": 193,
   "id": "9893ac5b",
   "metadata": {},
   "outputs": [
    {
     "name": "stdout",
     "output_type": "stream",
     "text": [
      "0\n",
      "1\n",
      "2\n",
      "4\n"
     ]
    }
   ],
   "source": [
    "for i in range(5):\n",
    "    if i == 3:\n",
    "        continue\n",
    "    print(i)"
   ]
  },
  {
   "cell_type": "code",
   "execution_count": 198,
   "id": "2ac89f75",
   "metadata": {},
   "outputs": [
    {
     "ename": "SyntaxError",
     "evalue": "expected ':' (821425715.py, line 1)",
     "output_type": "error",
     "traceback": [
      "\u001b[1;36m  Cell \u001b[1;32mIn[198], line 1\u001b[1;36m\u001b[0m\n\u001b[1;33m    for i in (args)\u001b[0m\n\u001b[1;37m                   ^\u001b[0m\n\u001b[1;31mSyntaxError\u001b[0m\u001b[1;31m:\u001b[0m expected ':'\n"
     ]
    }
   ],
   "source": [
    "for i in (args)\n",
    "    "
   ]
  },
  {
   "cell_type": "code",
   "execution_count": 205,
   "id": "753a81c8",
   "metadata": {},
   "outputs": [
    {
     "name": "stdout",
     "output_type": "stream",
     "text": [
      "4\n",
      "call is Over\n"
     ]
    }
   ],
   "source": [
    "#iterators and generators\n",
    "def func(*args):\n",
    "#     for i in args:\n",
    "         return i\n",
    "print(func(1,2,3,4))\n",
    "print(\"call is Over\")"
   ]
  },
  {
   "cell_type": "code",
   "execution_count": 206,
   "id": "00247537",
   "metadata": {},
   "outputs": [
    {
     "name": "stdout",
     "output_type": "stream",
     "text": [
      "<generator object func at 0x000001FCAC12EA80>\n"
     ]
    }
   ],
   "source": [
    "#iterators and generators\n",
    "def func(*args):\n",
    "    for i in args:\n",
    "        yield(i)\n",
    "print(func(1,2,3,4))"
   ]
  },
  {
   "cell_type": "code",
   "execution_count": 207,
   "id": "1d3dda5f",
   "metadata": {},
   "outputs": [
    {
     "name": "stdout",
     "output_type": "stream",
     "text": [
      "1\n",
      "2\n",
      "3\n",
      "4\n"
     ]
    }
   ],
   "source": [
    "for i in func(1,2,3,4):\n",
    "    print(i)"
   ]
  },
  {
   "cell_type": "code",
   "execution_count": 209,
   "id": "94102619",
   "metadata": {},
   "outputs": [
    {
     "name": "stdout",
     "output_type": "stream",
     "text": [
      "15\n"
     ]
    }
   ],
   "source": [
    "#lambda function are also called anonymous function that are used to carry out certain tasks\n",
    "x=lambda a:a+10\n",
    "print(x(5))"
   ]
  },
  {
   "cell_type": "code",
   "execution_count": 11,
   "id": "781ce607",
   "metadata": {},
   "outputs": [
    {
     "name": "stdout",
     "output_type": "stream",
     "text": [
      "20\n"
     ]
    }
   ],
   "source": [
    "a = lambda x, y : (x * y) \n",
    "print(a(4, 5))  \n"
   ]
  },
  {
   "cell_type": "code",
   "execution_count": null,
   "id": "a664cc19",
   "metadata": {},
   "outputs": [],
   "source": []
  },
  {
   "cell_type": "code",
   "execution_count": 10,
   "id": "33de7bbf",
   "metadata": {},
   "outputs": [
    {
     "name": "stdout",
     "output_type": "stream",
     "text": [
      "20\n"
     ]
    },
    {
     "data": {
      "text/plain": [
       "'AbhilipsaMahapatra'"
      ]
     },
     "execution_count": 10,
     "metadata": {},
     "output_type": "execute_result"
    }
   ],
   "source": [
    "def func1(firstName,lastname):\n",
    "    return firstname+lastname\n",
    " \n",
    "\n",
    "output=lambda firstname,lastname :firstname+lastname\n",
    "output(\"Abhilipsa\",\"Mahapatra\")"
   ]
  },
  {
   "cell_type": "code",
   "execution_count": 228,
   "id": "d537958d",
   "metadata": {},
   "outputs": [
    {
     "name": "stdout",
     "output_type": "stream",
     "text": [
      "('a', 'b')\n"
     ]
    }
   ],
   "source": [
    "#define a lambda function which can take n numbers of arguments \n",
    "# and print all the arguments \n",
    "\n",
    "l1=lambda *n:print(n)\n",
    "l1('a','b')"
   ]
  },
  {
   "cell_type": "code",
   "execution_count": 224,
   "id": "296eebe2",
   "metadata": {},
   "outputs": [
    {
     "data": {
      "text/plain": [
       "'5 is odd'"
      ]
     },
     "execution_count": 224,
     "metadata": {},
     "output_type": "execute_result"
    }
   ],
   "source": [
    "result = lambda x : f\"{x} is even\" if x %2==0 else f\"{x} is odd\"\n",
    "result(5)"
   ]
  },
  {
   "cell_type": "code",
   "execution_count": 287,
   "id": "f1ff6e79",
   "metadata": {},
   "outputs": [
    {
     "name": "stdout",
     "output_type": "stream",
     "text": [
      "a\n",
      "b\n"
     ]
    },
    {
     "data": {
      "text/plain": [
       "[None, None]"
      ]
     },
     "execution_count": 287,
     "metadata": {},
     "output_type": "execute_result"
    }
   ],
   "source": [
    "l1=lambda *n:[print (i) for i in n]\n",
    "l1('a','b')"
   ]
  },
  {
   "cell_type": "code",
   "execution_count": 282,
   "id": "5380c7b6",
   "metadata": {},
   "outputs": [
    {
     "name": "stdout",
     "output_type": "stream",
     "text": [
      "c\n",
      "d\n"
     ]
    }
   ],
   "source": [
    "#define a lambda function which can take n numbers of arguments \n",
    "# and print all the arguments\n",
    "l1=lambda *n:[[print(i)] for i in n]\n",
    "a1=l1('c','d')\n",
    "# a=list(l1('a','b'))"
   ]
  },
  {
   "cell_type": "code",
   "execution_count": 353,
   "id": "cea1948b",
   "metadata": {},
   "outputs": [
    {
     "ename": "TypeError",
     "evalue": "'function' object is not iterable",
     "output_type": "error",
     "traceback": [
      "\u001b[1;31m---------------------------------------------------------------------------\u001b[0m",
      "\u001b[1;31mTypeError\u001b[0m                                 Traceback (most recent call last)",
      "Cell \u001b[1;32mIn[353], line 1\u001b[0m\n\u001b[1;32m----> 1\u001b[0m \u001b[38;5;28;01mfor\u001b[39;00m i \u001b[38;5;129;01min\u001b[39;00m l1:\n\u001b[0;32m      2\u001b[0m     l1\u001b[38;5;241m=\u001b[39m\u001b[38;5;28;01mlambda\u001b[39;00m \u001b[38;5;241m*\u001b[39mn:\u001b[38;5;28mprint\u001b[39m(n)\n\u001b[0;32m      3\u001b[0m l1(\u001b[38;5;241m1\u001b[39m,\u001b[38;5;241m2\u001b[39m)\n",
      "\u001b[1;31mTypeError\u001b[0m: 'function' object is not iterable"
     ]
    }
   ],
   "source": [
    "for i in l1:\n",
    "    l1=lambda *n:print(n)\n",
    "l1(1,2)"
   ]
  },
  {
   "cell_type": "code",
   "execution_count": 246,
   "id": "cb426ac7",
   "metadata": {},
   "outputs": [
    {
     "name": "stdout",
     "output_type": "stream",
     "text": [
      "(1, 2, 3, 4)\n"
     ]
    }
   ],
   "source": [
    "l2=lambda *args:print(args)\n",
    "l2(1,2,3,4)"
   ]
  },
  {
   "cell_type": "code",
   "execution_count": 312,
   "id": "32e51cc7",
   "metadata": {},
   "outputs": [
    {
     "name": "stdout",
     "output_type": "stream",
     "text": [
      "<map object at 0x000001FCAB379090>\n"
     ]
    }
   ],
   "source": [
    "#map and reduce\n",
    "#map\n",
    "# map(function,iterables)\n",
    "def myfunc(a,b):\n",
    "    return a+b\n",
    "# myfunc(('a','b'),('c','d'))\n",
    "x=map(myfunc,('a','b'),('c','d','i','j'))\n",
    "print(x)"
   ]
  },
  {
   "cell_type": "code",
   "execution_count": 311,
   "id": "0a407afb",
   "metadata": {},
   "outputs": [
    {
     "name": "stdout",
     "output_type": "stream",
     "text": [
      "ac\n",
      "bd\n"
     ]
    }
   ],
   "source": [
    "for i in x:\n",
    "    print(i)"
   ]
  },
  {
   "cell_type": "code",
   "execution_count": 318,
   "id": "397b8131",
   "metadata": {},
   "outputs": [
    {
     "name": "stdout",
     "output_type": "stream",
     "text": [
      "(<function is_even at 0x000001FCABECF560>, [3, 2, 1, 4, 5])\n"
     ]
    }
   ],
   "source": [
    "def is_even(n):\n",
    "    return n%2==0\n",
    "nums=[3,2,1,4,5]\n",
    "# even=list(filter(is_even,nums))\n",
    "even=(is_even,nums)\n",
    "print(even)"
   ]
  },
  {
   "cell_type": "code",
   "execution_count": 472,
   "id": "d610562c",
   "metadata": {},
   "outputs": [
    {
     "ename": "TypeError",
     "evalue": "'bool' object is not callable",
     "output_type": "error",
     "traceback": [
      "\u001b[1;31m---------------------------------------------------------------------------\u001b[0m",
      "\u001b[1;31mTypeError\u001b[0m                                 Traceback (most recent call last)",
      "Cell \u001b[1;32mIn[472], line 7\u001b[0m\n\u001b[0;32m      1\u001b[0m \u001b[38;5;28;01mdef\u001b[39;00m \u001b[38;5;21mis_even\u001b[39m():\n\u001b[0;32m      2\u001b[0m \u001b[38;5;66;03m#     for i in range(1,21):\u001b[39;00m\n\u001b[0;32m      3\u001b[0m \u001b[38;5;66;03m#         if(i%2==0):\u001b[39;00m\n\u001b[0;32m      4\u001b[0m \u001b[38;5;66;03m#             print(i)\u001b[39;00m\n\u001b[0;32m      5\u001b[0m \u001b[38;5;66;03m# is_even()\u001b[39;00m\n\u001b[0;32m      6\u001b[0m      n\u001b[38;5;241m=\u001b[39m\u001b[38;5;28mlist\u001b[39m(\u001b[38;5;28mfilter\u001b[39m(x\u001b[38;5;241m%\u001b[39m\u001b[38;5;241m2\u001b[39m\u001b[38;5;241m==\u001b[39m\u001b[38;5;241m0\u001b[39m,\u001b[38;5;28mrange\u001b[39m(\u001b[38;5;241m1\u001b[39m,\u001b[38;5;241m21\u001b[39m)))\n\u001b[1;32m----> 7\u001b[0m is_even()\n",
      "Cell \u001b[1;32mIn[472], line 6\u001b[0m, in \u001b[0;36mis_even\u001b[1;34m()\u001b[0m\n\u001b[0;32m      1\u001b[0m \u001b[38;5;28;01mdef\u001b[39;00m \u001b[38;5;21mis_even\u001b[39m():\n\u001b[0;32m      2\u001b[0m \u001b[38;5;66;03m#     for i in range(1,21):\u001b[39;00m\n\u001b[0;32m      3\u001b[0m \u001b[38;5;66;03m#         if(i%2==0):\u001b[39;00m\n\u001b[0;32m      4\u001b[0m \u001b[38;5;66;03m#             print(i)\u001b[39;00m\n\u001b[0;32m      5\u001b[0m \u001b[38;5;66;03m# is_even()\u001b[39;00m\n\u001b[1;32m----> 6\u001b[0m      n\u001b[38;5;241m=\u001b[39m\u001b[38;5;28mlist\u001b[39m(\u001b[38;5;28mfilter\u001b[39m(x\u001b[38;5;241m%\u001b[39m\u001b[38;5;241m2\u001b[39m\u001b[38;5;241m==\u001b[39m\u001b[38;5;241m0\u001b[39m,\u001b[38;5;28mrange\u001b[39m(\u001b[38;5;241m1\u001b[39m,\u001b[38;5;241m21\u001b[39m)))\n",
      "\u001b[1;31mTypeError\u001b[0m: 'bool' object is not callable"
     ]
    }
   ],
   "source": [
    "def is_even():\n",
    "#     for i in range(1,21):\n",
    "#         if(i%2==0):\n",
    "#             print(i)\n",
    "# is_even()\n",
    "     n=list(filter(if x%2==0,range(1,21)))\n",
    "is_even()"
   ]
  },
  {
   "cell_type": "code",
   "execution_count": 468,
   "id": "5f61efc9",
   "metadata": {},
   "outputs": [
    {
     "name": "stdout",
     "output_type": "stream",
     "text": [
      "[2, 4, 6, 8, 10, 12, 14, 16, 18, 20]\n"
     ]
    }
   ],
   "source": [
    "n=list(filter(lambda x:x%2==0,range(1,21)))\n",
    "print(n)"
   ]
  },
  {
   "cell_type": "code",
   "execution_count": 399,
   "id": "5b9e8a3b",
   "metadata": {},
   "outputs": [
    {
     "name": "stdout",
     "output_type": "stream",
     "text": [
      "Square= [4, 9, 16, 25, 36, 49]\n",
      "cube= [8, 27, 64, 125, 216, 343]\n"
     ]
    }
   ],
   "source": [
    "l1=[2,3,4,5,6,7]\n",
    "def square_cube():\n",
    "    square=[x**2 for x in l1]\n",
    "    cube=[x**3 for x in l1]\n",
    "    print(\"Square=\",square)\n",
    "    print(\"Cube=\",cube)\n",
    "square_cube()"
   ]
  },
  {
   "cell_type": "code",
   "execution_count": 434,
   "id": "e671b2c0",
   "metadata": {},
   "outputs": [
    {
     "name": "stdout",
     "output_type": "stream",
     "text": [
      "Square= [4, 9, 16, 25, 36, 49]\n",
      "Cube= [8, 27, 64, 125, 216, 343]\n"
     ]
    }
   ],
   "source": [
    "l1=[2,3,4,5,6,7]\n",
    "Square1=list(map(lambda x:x**2 ,l1))\n",
    "cub1e=list(map(lambda x:x**3 ,l1))\n",
    "print(\"Square=\",Square1)\n",
    "print(\"Cube=\",cub1e)"
   ]
  },
  {
   "cell_type": "code",
   "execution_count": 448,
   "id": "62990cf8",
   "metadata": {},
   "outputs": [
    {
     "name": "stdout",
     "output_type": "stream",
     "text": [
      "[{'make': 'Nokia', 'model': 216, 'color': 'Black'}, {'make': 'Mi Max', 'model': '2', 'color': 'Gold'}, {'make': 'Samsung', 'model': 7, 'color': 'Blue'}]\n"
     ]
    }
   ],
   "source": [
    "Original_list=[{'make': 'Nokia', 'model': 216, 'color': 'Black'}, {'make': 'Mi Max', 'model': '2', 'color': 'Gold'}, {'make': 'Samsung', 'model': 7, 'color': 'Blue'}]\n",
    "def sort():\n",
    "    newlist =sorted(Original_list,key=lambda x:['model'])\n",
    "    print(newlist)\n",
    "sort()"
   ]
  },
  {
   "cell_type": "code",
   "execution_count": 444,
   "id": "3a5b1347",
   "metadata": {},
   "outputs": [
    {
     "data": {
      "text/plain": [
       "[{'make': 'Nokia', 'model': 216, 'color': 'Black'},\n",
       " {'make': 'Mi Max', 'model': '2', 'color': 'Gold'},\n",
       " {'make': 'Samsung', 'model': 7, 'color': 'Blue'}]"
      ]
     },
     "execution_count": 444,
     "metadata": {},
     "output_type": "execute_result"
    }
   ],
   "source": [
    "Original_list=[{'make': 'Nokia', 'model': 216, 'color': 'Black'}, {'make': 'Mi Max', 'model': '2', 'color': 'Gold'}, {'make': 'Samsung', 'model': 7, 'color': 'Blue'}]\n",
    "newlist =sorted(Original_list,key=lambda x:['model'],reverse=True)\n",
    "newlist"
   ]
  },
  {
   "cell_type": "code",
   "execution_count": 454,
   "id": "df863916",
   "metadata": {},
   "outputs": [
    {
     "name": "stdout",
     "output_type": "stream",
     "text": [
      "Enter any date and time in YYYY-MM-DD HH:MM:SS Format 2020-01-15 09:03:32.744178\n"
     ]
    },
    {
     "ename": "AttributeError",
     "evalue": "'str' object has no attribute 'month'",
     "output_type": "error",
     "traceback": [
      "\u001b[1;31m---------------------------------------------------------------------------\u001b[0m",
      "\u001b[1;31mAttributeError\u001b[0m                            Traceback (most recent call last)",
      "Cell \u001b[1;32mIn[454], line 6\u001b[0m\n\u001b[0;32m      4\u001b[0m     op\u001b[38;5;241m=\u001b[39m\u001b[38;5;124m'\u001b[39m\u001b[38;5;132;01m%s\u001b[39;00m\u001b[38;5;124m/\u001b[39m\u001b[38;5;132;01m%s\u001b[39;00m\u001b[38;5;124m/\u001b[39m\u001b[38;5;132;01m%s\u001b[39;00m\u001b[38;5;124m'\u001b[39m \u001b[38;5;241m%\u001b[39m (dtm\u001b[38;5;241m.\u001b[39mmonth,dtm\u001b[38;5;241m.\u001b[39mday,dtm\u001b[38;5;241m.\u001b[39myear)\n\u001b[0;32m      5\u001b[0m     \u001b[38;5;28mprint\u001b[39m(\u001b[38;5;124m\"\u001b[39m\u001b[38;5;124mExtracted date:\u001b[39m\u001b[38;5;124m\"\u001b[39m,op)\n\u001b[1;32m----> 6\u001b[0m find_dtm()\n",
      "Cell \u001b[1;32mIn[454], line 4\u001b[0m, in \u001b[0;36mfind_dtm\u001b[1;34m()\u001b[0m\n\u001b[0;32m      2\u001b[0m \u001b[38;5;28;01mdef\u001b[39;00m \u001b[38;5;21mfind_dtm\u001b[39m():\n\u001b[0;32m      3\u001b[0m     dtm\u001b[38;5;241m=\u001b[39m\u001b[38;5;28minput\u001b[39m(\u001b[38;5;124m\"\u001b[39m\u001b[38;5;124mEnter any date and time in YYYY-MM-DD HH:MM:SS Format \u001b[39m\u001b[38;5;124m\"\u001b[39m)\n\u001b[1;32m----> 4\u001b[0m     op\u001b[38;5;241m=\u001b[39m\u001b[38;5;124m'\u001b[39m\u001b[38;5;132;01m%s\u001b[39;00m\u001b[38;5;124m/\u001b[39m\u001b[38;5;132;01m%s\u001b[39;00m\u001b[38;5;124m/\u001b[39m\u001b[38;5;132;01m%s\u001b[39;00m\u001b[38;5;124m'\u001b[39m \u001b[38;5;241m%\u001b[39m (dtm\u001b[38;5;241m.\u001b[39mmonth,dtm\u001b[38;5;241m.\u001b[39mday,dtm\u001b[38;5;241m.\u001b[39myear)\n\u001b[0;32m      5\u001b[0m     \u001b[38;5;28mprint\u001b[39m(\u001b[38;5;124m\"\u001b[39m\u001b[38;5;124mExtracted date:\u001b[39m\u001b[38;5;124m\"\u001b[39m,op)\n",
      "\u001b[1;31mAttributeError\u001b[0m: 'str' object has no attribute 'month'"
     ]
    }
   ],
   "source": [
    "from datetime import datetime\n",
    "def find_dtm():\n",
    "    dtm=input(\"Enter any date and time in YYYY-MM-DD HH:MM:SS Format \")\n",
    "    s=split\n",
    "    op='%s/%s/%s' % (dtm.month,dtm.day,dtm.year)\n",
    "    print(\"Extracted date:\",op)\n",
    "find_dtm()"
   ]
  },
  {
   "cell_type": "code",
   "execution_count": 502,
   "id": "b8d1cd9a",
   "metadata": {},
   "outputs": [
    {
     "name": "stdout",
     "output_type": "stream",
     "text": [
      "['2020', '1', '15']\n"
     ]
    }
   ],
   "source": [
    "dtm='2020-01-15'\n",
    "YMD=dtm.split('-')\n",
    "print(month)"
   ]
  },
  {
   "cell_type": "code",
   "execution_count": 504,
   "id": "2fc824f9",
   "metadata": {},
   "outputs": [
    {
     "name": "stdout",
     "output_type": "stream",
     "text": [
      "['2020', '01-15']\n"
     ]
    }
   ],
   "source": [
    "dtm='2020-01-15'\n",
    "month=dtm.split('-',1)\n",
    "print(month)"
   ]
  },
  {
   "cell_type": "code",
   "execution_count": null,
   "id": "9f869547",
   "metadata": {},
   "outputs": [],
   "source": [
    "k=lambda x:dtm.split('-'),print"
   ]
  },
  {
   "cell_type": "code",
   "execution_count": null,
   "id": "6d3ce036",
   "metadata": {},
   "outputs": [],
   "source": [
    "#     print(emp_list)"
   ]
  },
  {
   "cell_type": "code",
   "execution_count": 495,
   "id": "3ab407a3",
   "metadata": {},
   "outputs": [
    {
     "name": "stdout",
     "output_type": "stream",
     "text": [
      "<function <lambda> at 0x000001FCAC96BBA0>\n"
     ]
    },
    {
     "ename": "TypeError",
     "evalue": "'function' object is not iterable",
     "output_type": "error",
     "traceback": [
      "\u001b[1;31m---------------------------------------------------------------------------\u001b[0m",
      "\u001b[1;31mTypeError\u001b[0m                                 Traceback (most recent call last)",
      "Cell \u001b[1;32mIn[495], line 6\u001b[0m\n\u001b[0;32m      4\u001b[0m     m\u001b[38;5;241m=\u001b[39m\u001b[38;5;28mfilter\u001b[39m(l2\u001b[38;5;241m.\u001b[39misdigit(),l2)\n\u001b[0;32m      5\u001b[0m \u001b[38;5;28mprint\u001b[39m(m)\n\u001b[1;32m----> 6\u001b[0m \u001b[38;5;28;01mfor\u001b[39;00m i \u001b[38;5;129;01min\u001b[39;00m m:\n\u001b[0;32m      7\u001b[0m     \u001b[38;5;28mprint\u001b[39m(i)\n",
      "\u001b[1;31mTypeError\u001b[0m: 'function' object is not iterable"
     ]
    }
   ],
   "source": [
    "#5given string is numeric or not\n",
    "def is_numeric():\n",
    "    l2=['Subha','20','Yashish20','4555','0']\n",
    "    m=filter(l2.isdigit(),l2)\n",
    "print(m)\n",
    "for i in m:\n",
    "    print(i)"
   ]
  },
  {
   "cell_type": "raw",
   "id": "81ffb6ea",
   "metadata": {},
   "source": [
    "is_numeric()"
   ]
  },
  {
   "cell_type": "code",
   "execution_count": 474,
   "id": "344889ba",
   "metadata": {},
   "outputs": [
    {
     "name": "stdout",
     "output_type": "stream",
     "text": [
      "['20', '4555', '0']\n"
     ]
    }
   ],
   "source": [
    "l2=['Subha','20','Yashish20','4555','0']\n",
    "l3=list(filter(lambda s:s.isdigit(),l2))\n",
    "print(l3)"
   ]
  },
  {
   "cell_type": "code",
   "execution_count": 518,
   "id": "dfc4ca69",
   "metadata": {},
   "outputs": [
    {
     "name": "stdout",
     "output_type": "stream",
     "text": [
      "2020\n",
      "01\n",
      "15\n"
     ]
    }
   ],
   "source": [
    "dtm='2020-01-15'\n",
    "x=lambda x:x.replace('-','\\n')\n",
    "print(x(dtm))"
   ]
  },
  {
   "cell_type": "code",
   "execution_count": 519,
   "id": "9b9a07e7",
   "metadata": {},
   "outputs": [
    {
     "name": "stdout",
     "output_type": "stream",
     "text": [
      "2020\n",
      "01\n",
      "15\n"
     ]
    },
    {
     "data": {
      "text/plain": [
       "[None, None, None]"
      ]
     },
     "execution_count": 519,
     "metadata": {},
     "output_type": "execute_result"
    }
   ],
   "source": [
    "x=lambda x:x.split('-')\n",
    "[print(i) for i in x('2020-01-15')]"
   ]
  },
  {
   "cell_type": "code",
   "execution_count": 523,
   "id": "3cb350ff",
   "metadata": {},
   "outputs": [
    {
     "name": "stdout",
     "output_type": "stream",
     "text": [
      "2020\n",
      "01\n",
      "15\n"
     ]
    }
   ],
   "source": [
    "str1='2020-01-15'\n",
    "dt1 = lambda dt: [i for i in dt.split('-')]\n",
    "# Extract year, month, and day using the lambda function\n",
    "year, month, day = dt1(str1)\n",
    "print(year)\n",
    "print(month)\n",
    "print(day)"
   ]
  },
  {
   "cell_type": "markdown",
   "id": "e444d47e",
   "metadata": {},
   "source": [
    "#Decorators \n",
    "These are special functions which take a function as an input,dectorate/modify that input function\n",
    "and return another new dectorated function as an output\n"
   ]
  },
  {
   "cell_type": "code",
   "execution_count": 534,
   "id": "9db5339d",
   "metadata": {},
   "outputs": [
    {
     "name": "stdout",
     "output_type": "stream",
     "text": [
      "Hi I am the second decorated function\n",
      "Hello I am the base/original function\n",
      "Hi I am the first decorated function\n"
     ]
    },
    {
     "ename": "TypeError",
     "evalue": "'NoneType' object is not callable",
     "output_type": "error",
     "traceback": [
      "\u001b[1;31m---------------------------------------------------------------------------\u001b[0m",
      "\u001b[1;31mTypeError\u001b[0m                                 Traceback (most recent call last)",
      "Cell \u001b[1;32mIn[534], line 12\u001b[0m\n\u001b[0;32m     10\u001b[0m         x()\n\u001b[0;32m     11\u001b[0m     \u001b[38;5;28;01mreturn\u001b[39;00m mfunc1()\n\u001b[1;32m---> 12\u001b[0m \u001b[38;5;129m@dec1\u001b[39m\n\u001b[0;32m     13\u001b[0m \u001b[38;5;129m@dec2\u001b[39m\n\u001b[0;32m     14\u001b[0m \u001b[38;5;28;01mdef\u001b[39;00m \u001b[38;5;21mfunc\u001b[39m():\n\u001b[0;32m     15\u001b[0m     \u001b[38;5;28mprint\u001b[39m(\u001b[38;5;124m'\u001b[39m\u001b[38;5;124mHello I am the base/original function\u001b[39m\u001b[38;5;124m'\u001b[39m)\n",
      "Cell \u001b[1;32mIn[534], line 11\u001b[0m, in \u001b[0;36mdec1\u001b[1;34m(x)\u001b[0m\n\u001b[0;32m      9\u001b[0m     \u001b[38;5;28mprint\u001b[39m(\u001b[38;5;124m'\u001b[39m\u001b[38;5;124mHi I am the first decorated function\u001b[39m\u001b[38;5;124m'\u001b[39m)\n\u001b[0;32m     10\u001b[0m     x()\n\u001b[1;32m---> 11\u001b[0m \u001b[38;5;28;01mreturn\u001b[39;00m mfunc1()\n",
      "Cell \u001b[1;32mIn[534], line 10\u001b[0m, in \u001b[0;36mdec1.<locals>.mfunc1\u001b[1;34m()\u001b[0m\n\u001b[0;32m      8\u001b[0m \u001b[38;5;28;01mdef\u001b[39;00m \u001b[38;5;21mmfunc1\u001b[39m():\n\u001b[0;32m      9\u001b[0m     \u001b[38;5;28mprint\u001b[39m(\u001b[38;5;124m'\u001b[39m\u001b[38;5;124mHi I am the first decorated function\u001b[39m\u001b[38;5;124m'\u001b[39m)\n\u001b[1;32m---> 10\u001b[0m     x()\n",
      "\u001b[1;31mTypeError\u001b[0m: 'NoneType' object is not callable"
     ]
    }
   ],
   "source": [
    "#Syntax:\n",
    "def dec2(x):\n",
    "    def mfunc2():\n",
    "        print('Hi I am the second decorated function')\n",
    "        x()\n",
    "    return mfunc2()\n",
    "def dec1(x):\n",
    "    def mfunc1():\n",
    "        print('Hi I am the first decorated function')\n",
    "        x()\n",
    "    return mfunc1()\n",
    "@dec1\n",
    "@dec2\n",
    "def func():\n",
    "    print('Hello I am the base/original function')"
   ]
  },
  {
   "cell_type": "code",
   "execution_count": 5,
   "id": "2c1166af",
   "metadata": {},
   "outputs": [
    {
     "name": "stdout",
     "output_type": "stream",
     "text": [
      "<class 'generator'>\n",
      "A\n",
      "B\n"
     ]
    },
    {
     "ename": "StopIteration",
     "evalue": "",
     "output_type": "error",
     "traceback": [
      "\u001b[1;31m---------------------------------------------------------------------------\u001b[0m",
      "\u001b[1;31mStopIteration\u001b[0m                             Traceback (most recent call last)",
      "Cell \u001b[1;32mIn[5], line 8\u001b[0m\n\u001b[0;32m      6\u001b[0m \u001b[38;5;28mprint\u001b[39m(\u001b[38;5;28mnext\u001b[39m(g))\n\u001b[0;32m      7\u001b[0m \u001b[38;5;28mprint\u001b[39m(\u001b[38;5;28mnext\u001b[39m(g))\n\u001b[1;32m----> 8\u001b[0m \u001b[38;5;28mprint\u001b[39m(\u001b[38;5;28mnext\u001b[39m(g))\n\u001b[0;32m      9\u001b[0m \u001b[38;5;28mprint\u001b[39m(\u001b[38;5;28mnext\u001b[39m(g))\n",
      "\u001b[1;31mStopIteration\u001b[0m: "
     ]
    }
   ],
   "source": [
    "# Memory utilizationn improvement ,performance improvement(Generator get one by one no need to store all the items as in list)\n",
    "def mygen():\n",
    "    yield 'A'\n",
    "    yield 'B'\n",
    "g=mygen()\n",
    "print(type(g))\n",
    "print(next(g))\n",
    "print(next(g))\n",
    "print(next(g))\n",
    "print(next(g))"
   ]
  },
  {
   "cell_type": "code",
   "execution_count": 6,
   "id": "cdfb2be2",
   "metadata": {},
   "outputs": [
    {
     "name": "stdout",
     "output_type": "stream",
     "text": [
      "0\n",
      "1\n",
      "2\n"
     ]
    }
   ],
   "source": [
    "def my_generator(n):\n",
    "\n",
    "    # initialize counter\n",
    "    value = 0\n",
    "\n",
    "    # loop until counter is less than n\n",
    "    while value < n:\n",
    "\n",
    "        # produce the current value of the counter\n",
    "        yield value\n",
    "\n",
    "        # increment the counter\n",
    "        value += 1\n",
    "\n",
    "# iterate over the generator object produced by my_generator\n",
    "for value in my_generator(3):\n",
    "\n",
    "    # print each value produced by generator\n",
    "    print(value)\n"
   ]
  },
  {
   "cell_type": "code",
   "execution_count": 9,
   "id": "787793e9",
   "metadata": {},
   "outputs": [
    {
     "name": "stdout",
     "output_type": "stream",
     "text": [
      "[0, 1, 4, 9, 16, 25, 36, 49, 64, 81]\n"
     ]
    }
   ],
   "source": [
    "l=[x*x for x in range(10)]\n",
    "print(l)"
   ]
  },
  {
   "cell_type": "code",
   "execution_count": 14,
   "id": "a347f558",
   "metadata": {},
   "outputs": [
    {
     "ename": "NameError",
     "evalue": "name 'printlist' is not defined",
     "output_type": "error",
     "traceback": [
      "\u001b[1;31m---------------------------------------------------------------------------\u001b[0m",
      "\u001b[1;31mNameError\u001b[0m                                 Traceback (most recent call last)",
      "Cell \u001b[1;32mIn[14], line 16\u001b[0m\n\u001b[0;32m     14\u001b[0m \u001b[38;5;28;01mfrom\u001b[39;00m \u001b[38;5;21;01mfunctools\u001b[39;00m \u001b[38;5;28;01mimport\u001b[39;00m reduce  \n\u001b[0;32m     15\u001b[0m result3 \u001b[38;5;241m=\u001b[39m reduce(\u001b[38;5;28;01mlambda\u001b[39;00m x, y: x \u001b[38;5;241m*\u001b[39m y, data)  \u001b[38;5;66;03m# Result: 120  \u001b[39;00m\n\u001b[1;32m---> 16\u001b[0m printlist((result1))\n\u001b[0;32m     17\u001b[0m \u001b[38;5;28mprint\u001b[39m(result2)\n\u001b[0;32m     18\u001b[0m \u001b[38;5;28mprint\u001b[39m(result3)\n",
      "\u001b[1;31mNameError\u001b[0m: name 'printlist' is not defined"
     ]
    }
   ],
   "source": [
    "# Example of using map, filter, and reduce in Python  \n",
    "data = [1, 2, 3, 4, 5]  \n",
    "  \n",
    "# Using the map to apply a function to each element  \n",
    "# Lambda function returns the square of x  \n",
    "result1 = map(lambda x: x * 2, data)  # Result: [2, 4, 6, 8, 10]  \n",
    "  \n",
    "# Using the filter to filter elements based on a condition  \n",
    "# Lambda function returns True for an even number  \n",
    "result2 = filter(lambda x: x % 2 == 0, data)  # Result: [2, 4]  \n",
    "  \n",
    "# Using reduce to aggregate elements  \n",
    "# Lambda function returns product of x and y  \n",
    "from functools import reduce  \n",
    "result3 = reduce(lambda x, y: x * y, data)  # Result: 120  \n",
    "printlist((result1))\n",
    "print(result2)\n",
    "print(result3)"
   ]
  },
  {
   "cell_type": "code",
   "execution_count": 16,
   "id": "670381a3",
   "metadata": {},
   "outputs": [
    {
     "name": "stdout",
     "output_type": "stream",
     "text": [
      "Squares: [1, 4, 9, 16, 25]\n"
     ]
    }
   ],
   "source": [
    "# Using map() to square each element of the data list  \n",
    "data = [1, 2, 3, 4, 5]  \n",
    "  \n",
    "# Map function returns the map object  \n",
    "squares = map(lambda x: x*x, data)  \n",
    "  \n",
    "# Iterating the elements of the squares  \n",
    "for i in squares:  \n",
    "    print(i, end=\" \")  \n",
    "\n",
    "# Also, we can convert the map object into a list  \n",
    "squares = list(map(lambda x: x*x, data))  \n",
    "print(f\"Squares: {squares}\")  "
   ]
  },
  {
   "cell_type": "code",
   "execution_count": 17,
   "id": "109f301d",
   "metadata": {},
   "outputs": [
    {
     "name": "stdout",
     "output_type": "stream",
     "text": [
      "<map object at 0x00000253997AFA60>\n",
      "{16, 1, 4, 9}\n"
     ]
    }
   ],
   "source": [
    "def calculateSquare(n):\n",
    "    return n*n\n",
    "\n",
    "\n",
    "numbers = (1, 2, 3, 4)\n",
    "result = map(calculateSquare, numbers)\n",
    "print(result)\n",
    "\n",
    "# converting map object to set\n",
    "numbersSquare = set(result)\n",
    "print(numbersSquare)"
   ]
  },
  {
   "cell_type": "markdown",
   "id": "7080b4b8",
   "metadata": {},
   "source": [
    "Generators introduce the yield statement to Python. It works a bit like return because it returns a value.\n",
    "\n",
    "The difference is that it saves the state of the function. The next time the function is called, execution continues from where it left off, with the same variable values it had before yielding."
   ]
  },
  {
   "cell_type": "code",
   "execution_count": 18,
   "id": "59a3df26",
   "metadata": {},
   "outputs": [
    {
     "name": "stdout",
     "output_type": "stream",
     "text": [
      "2 4 Evens = [2, 4]\n"
     ]
    }
   ],
   "source": [
    "# Using filter() to filter even numbers from a list  \n",
    "data = [1, 2, 3, 4, 5]  \n",
    "  \n",
    "# The filter function filters the even numbers from the data  \n",
    "# and returns a filter object (an iterable)  \n",
    "evens = filter(lambda x: x % 2 == 0, data)  \n",
    "  \n",
    "# Iterating the values of evens  \n",
    "for i in evens:  \n",
    "    print(i, end=\" \")  \n",
    "  \n",
    "# We can convert the filter object into a list as follows:  \n",
    "evens = list(filter(lambda x: x % 2 == 0, data))  \n",
    "  \n",
    "# Printing the evens list  \n",
    "print(f\"Evens = {evens}\")  "
   ]
  },
  {
   "cell_type": "code",
   "execution_count": 19,
   "id": "dbd666f7",
   "metadata": {},
   "outputs": [
    {
     "name": "stdout",
     "output_type": "stream",
     "text": [
      "Sum of the integers of num_list : 55\n",
      "Sum of the integers of num_list with initial value 10 : 65\n"
     ]
    }
   ],
   "source": [
    "# Examples to understand the reduce() function  \n",
    "from functools import reduce  \n",
    "  \n",
    "# Function that returns the sum of two numbers  \n",
    "def add(a, b):  \n",
    "    return a + b  \n",
    "  \n",
    "# Our Iterable  \n",
    "num_list = [1, 2, 3, 4, 5, 6, 7, 8, 9, 10]  \n",
    "  \n",
    "# add function is passed as the first argument, and num_list is passed as the second argument  \n",
    "sum = reduce(add, num_list)  \n",
    "print(f\"Sum of the integers of num_list : {sum}\")  \n",
    "  \n",
    "# Passing 10 as an initial value  \n",
    "sum = reduce(add, num_list, 10)  \n",
    "print(f\"Sum of the integers of num_list with initial value 10 : {sum}\")  "
   ]
  },
  {
   "cell_type": "code",
   "execution_count": 27,
   "id": "f5127578",
   "metadata": {},
   "outputs": [],
   "source": [
    "def outer_div(func):     # here, we are creating a function and passing the parameter  \n",
    "    def inner(x,y):        # here, we are creating a function and passing the parameter  \n",
    "        if(x<y):    \n",
    "           x,y = y,x    \n",
    "        return func(x,y)       # here, we are returning the function with the parameters  \n",
    "    return inner  \n",
    "# Here, the below is the syntax of generator    \n",
    "@outer_div    \n",
    "def divide(x,y):      # here, we are creating a function and passing the parameter   \n",
    "     print(x/y)  "
   ]
  },
  {
   "cell_type": "code",
   "execution_count": 14,
   "id": "f07a6b93",
   "metadata": {},
   "outputs": [
    {
     "name": "stdout",
     "output_type": "stream",
     "text": [
      "I got decorated\n",
      "I am ordinary\n"
     ]
    }
   ],
   "source": [
    "def make_pretty(func):\n",
    "\n",
    "    def inner():\n",
    "        print(\"I got decorated\")\n",
    "        func()\n",
    "    return inner\n",
    "\n",
    "@make_pretty\n",
    "def ordinary():\n",
    "    print(\"I am ordinary\")\n",
    "\n",
    "ordinary()  "
   ]
  },
  {
   "cell_type": "code",
   "execution_count": 2,
   "id": "74c3b357",
   "metadata": {},
   "outputs": [],
   "source": [
    "def check_prime(number):\n",
    "    for divisor in range(2, int(number ** 0.5) + 1):\n",
    "        if number % divisor == 0:\n",
    "            return False\n",
    "        return True"
   ]
  },
  {
   "cell_type": "code",
   "execution_count": 3,
   "id": "4a421107",
   "metadata": {},
   "outputs": [],
   "source": [
    "class Primes:\n",
    "    def __init__(self, max):\n",
    "        self.max = max\n",
    "        self.number = 1"
   ]
  },
  {
   "cell_type": "code",
   "execution_count": 5,
   "id": "81c6a9af",
   "metadata": {},
   "outputs": [],
   "source": [
    "def __iter__(self):\n",
    "    return self"
   ]
  },
  {
   "cell_type": "code",
   "execution_count": 12,
   "id": "eb195cfe",
   "metadata": {},
   "outputs": [],
   "source": [
    "def __next__(self): \n",
    "    self.number += 1   \n",
    "    if self.number >= self.max:\n",
    "        raise StopIteration    \n",
    "    elif check_prime(self.number):\n",
    "         return self.number     \n",
    "    else: \n",
    "         return self.__next__()"
   ]
  },
  {
   "cell_type": "code",
   "execution_count": 50,
   "id": "0dd1aa55",
   "metadata": {},
   "outputs": [
    {
     "name": "stdout",
     "output_type": "stream",
     "text": [
      "1000000\n"
     ]
    }
   ],
   "source": [
    "def dec2(x):\n",
    "    def mfunc2():#--->100()when mfunc2()here mfunc returns 100 now 100()is called so error so \n",
    "        returned_value=x()\n",
    "        return returned_value**3\n",
    "    return mfunc2\n",
    "def dec1(x):\n",
    "    def mfunc():\n",
    "        returned_value=x()\n",
    "        return returned_value**2\n",
    "    return mfunc\n",
    "@dec2#dec2(dec1(base()))\n",
    "@dec1\n",
    "def base():\n",
    "    a=10\n",
    "    return a\n",
    "\n",
    "print(base())"
   ]
  },
  {
   "cell_type": "code",
   "execution_count": 27,
   "id": "01a1eb6c",
   "metadata": {},
   "outputs": [],
   "source": [
    "def call():\n",
    "    a=[1,2,3,4]\n",
    "    for i in a:\n",
    "        return (i)"
   ]
  },
  {
   "cell_type": "code",
   "execution_count": 28,
   "id": "83a23a23",
   "metadata": {},
   "outputs": [
    {
     "name": "stdout",
     "output_type": "stream",
     "text": [
      "1\n"
     ]
    }
   ],
   "source": [
    "print(call())"
   ]
  },
  {
   "cell_type": "code",
   "execution_count": 29,
   "id": "d97f6e7c",
   "metadata": {},
   "outputs": [],
   "source": [
    "def call2():\n",
    "    a=[1,2,3,4]\n",
    "    for i in a:\n",
    "         yield(i)"
   ]
  },
  {
   "cell_type": "code",
   "execution_count": 30,
   "id": "63153e7f",
   "metadata": {},
   "outputs": [
    {
     "name": "stdout",
     "output_type": "stream",
     "text": [
      "<generator object call2 at 0x000001C62F51B920>\n"
     ]
    }
   ],
   "source": [
    "for i in \n",
    "print(call2())"
   ]
  },
  {
   "cell_type": "code",
   "execution_count": 51,
   "id": "29f9f75e",
   "metadata": {},
   "outputs": [
    {
     "name": "stdout",
     "output_type": "stream",
     "text": [
      "1000000000000000000000000\n"
     ]
    }
   ],
   "source": [
    "def dec3(x):\n",
    "    def mfunc3():\n",
    "        returned_value=x()\n",
    "        return returned_value**4\n",
    "    return mfunc3\n",
    "def dec2(x):\n",
    "    def mfunc2():#--->100()when mfunc2()here mfunc returns 100 now 100()is called so error so \n",
    "        returned_value=x()\n",
    "        return returned_value**3\n",
    "    return mfunc2\n",
    "def dec1(x):\n",
    "    def mfunc():\n",
    "        returned_value=x()\n",
    "        return returned_value**2\n",
    "    return mfunc\n",
    "@dec3#dec3(dec2(dec1(base())))\n",
    "@dec2\n",
    "@dec1\n",
    "def base():\n",
    "    a=10\n",
    "    return a\n",
    "\n",
    "print(base())"
   ]
  },
  {
   "cell_type": "code",
   "execution_count": 52,
   "id": "2371f2a1",
   "metadata": {},
   "outputs": [
    {
     "name": "stdout",
     "output_type": "stream",
     "text": [
      "Function call with Parentheses: \n",
      "Hello, George\n",
      "Function call without Parentheses: \n",
      "<function concatenate_string at 0x000001C6302A1440>\n"
     ]
    }
   ],
   "source": [
    "#function call without a parenthesis\n",
    "def concatenate_string(*args):\n",
    "\tstring1 = args[0]\n",
    "\tstring2 = args[1]\n",
    "\n",
    "\treturn string1 + string2\n",
    "\n",
    "obj = concatenate_string('Hello, ', 'George')\n",
    "print('Function call with Parentheses: ')\n",
    "print(obj)\n",
    "\n",
    "obj = concatenate_string\n",
    "print('Function call without Parentheses: ')\n",
    "print(obj)\n"
   ]
  },
  {
   "cell_type": "code",
   "execution_count": 53,
   "id": "40363620",
   "metadata": {},
   "outputs": [
    {
     "name": "stdout",
     "output_type": "stream",
     "text": [
      "Hello, George\n"
     ]
    }
   ],
   "source": [
    "\n",
    "def concatenate_string(*args):\n",
    "    string1 = args[0]\n",
    "    string2 = args[1]\n",
    "  \n",
    "    def merge_string(string1, string2):\n",
    "        return string1 + string2  # string merge\n",
    "     \n",
    "    # executes merge_string and return the result\n",
    "    return merge_string(string1, string2)\n",
    "  \n",
    "def function_call(function):\n",
    "    string1 = 'Hello, '\n",
    "    string2 = 'George'\n",
    "    return function(string1, string2)\n",
    "  \n",
    "# passing function as argument\n",
    "print(function_call(concatenate_string)) "
   ]
  },
  {
   "cell_type": "code",
   "execution_count": 54,
   "id": "e29d895e",
   "metadata": {},
   "outputs": [],
   "source": [
    "#OOPs\n",
    "#Access modifiers\n",
    "#Exception handling\n"
   ]
  },
  {
   "cell_type": "code",
   "execution_count": 76,
   "id": "b15116f3",
   "metadata": {},
   "outputs": [],
   "source": [
    "#class\n",
    "class HomoSapiens():\n",
    "    a=10\n",
    "    b=20\n",
    "    def walk():\n",
    "        return walk()"
   ]
  },
  {
   "cell_type": "code",
   "execution_count": 65,
   "id": "54b487b4",
   "metadata": {},
   "outputs": [
    {
     "data": {
      "text/plain": [
       "__main__.HomoSapiens"
      ]
     },
     "execution_count": 65,
     "metadata": {},
     "output_type": "execute_result"
    }
   ],
   "source": [
    "type(HomoSapiens())"
   ]
  },
  {
   "cell_type": "code",
   "execution_count": 59,
   "id": "4046deee",
   "metadata": {},
   "outputs": [
    {
     "data": {
      "text/plain": [
       "1950725086416"
      ]
     },
     "execution_count": 59,
     "metadata": {},
     "output_type": "execute_result"
    }
   ],
   "source": [
    "id(HomoSapiens())"
   ]
  },
  {
   "cell_type": "code",
   "execution_count": 60,
   "id": "6f53991c",
   "metadata": {},
   "outputs": [
    {
     "data": {
      "text/plain": [
       "56"
      ]
     },
     "execution_count": 60,
     "metadata": {},
     "output_type": "execute_result"
    }
   ],
   "source": [
    "import sys\n",
    "sys.getsizeof(HomoSapiens())"
   ]
  },
  {
   "cell_type": "code",
   "execution_count": 61,
   "id": "112c7a29",
   "metadata": {},
   "outputs": [],
   "source": [
    "class Animals():\n",
    "    a=4"
   ]
  },
  {
   "cell_type": "code",
   "execution_count": 63,
   "id": "dfafb98d",
   "metadata": {},
   "outputs": [
    {
     "data": {
      "text/plain": [
       "56"
      ]
     },
     "execution_count": 63,
     "metadata": {},
     "output_type": "execute_result"
    }
   ],
   "source": [
    "sys.getsizeof(Animals())"
   ]
  },
  {
   "cell_type": "code",
   "execution_count": 77,
   "id": "9537d296",
   "metadata": {},
   "outputs": [],
   "source": [
    "#create a object\n",
    "obj=HomoSapiens()"
   ]
  },
  {
   "cell_type": "code",
   "execution_count": 67,
   "id": "28bd453a",
   "metadata": {},
   "outputs": [
    {
     "data": {
      "text/plain": [
       "__main__.HomoSapiens"
      ]
     },
     "execution_count": 67,
     "metadata": {},
     "output_type": "execute_result"
    }
   ],
   "source": [
    "type(obj)"
   ]
  },
  {
   "cell_type": "code",
   "execution_count": 1,
   "id": "e41c7ec8",
   "metadata": {},
   "outputs": [
    {
     "ename": "NameError",
     "evalue": "name 'obj' is not defined",
     "output_type": "error",
     "traceback": [
      "\u001b[1;31m---------------------------------------------------------------------------\u001b[0m",
      "\u001b[1;31mNameError\u001b[0m                                 Traceback (most recent call last)",
      "Cell \u001b[1;32mIn[1], line 1\u001b[0m\n\u001b[1;32m----> 1\u001b[0m obj\u001b[38;5;241m.\u001b[39mb\n\u001b[0;32m      2\u001b[0m obj\u001b[38;5;241m.\u001b[39ma\n",
      "\u001b[1;31mNameError\u001b[0m: name 'obj' is not defined"
     ]
    }
   ],
   "source": [
    "obj.b\n",
    "obj.a\n",
    "# obj.walk"
   ]
  },
  {
   "cell_type": "code",
   "execution_count": 100,
   "id": "70415094",
   "metadata": {},
   "outputs": [],
   "source": [
    "# class MyFirstClass():\n",
    "#     a1='Hello'\n",
    "#     b1='World'\n",
    "#     def __init__(self):\n",
    "#         self.a=a1\n",
    "#         self.b=b1\n",
    "#     def MFirstFunc(self):\n",
    "#         return('This is my first function')\n",
    "\n",
    "\n",
    "# class MyFirstClass():\n",
    "\n",
    "#     def __init__(self):\n",
    "#         self.a='Hello'\n",
    "#         self.b='World'\n",
    "#     def MFirstFunc(self):\n",
    "#         return('This is my first function')\n",
    "\n",
    "class MyFirstClass():\n",
    " \n",
    "    def __init__(self,a1,b1):\n",
    "        self.a=a1\n",
    "        self.b=b1\n",
    "    def MFirstFunc(self):\n",
    "        return(f'{self.a},{self.b} This is my first function')"
   ]
  },
  {
   "cell_type": "code",
   "execution_count": 103,
   "id": "b6f6d658",
   "metadata": {},
   "outputs": [],
   "source": [
    "obj=MyFirstClass('Hello',' World!')"
   ]
  },
  {
   "cell_type": "code",
   "execution_count": 104,
   "id": "5223854f",
   "metadata": {},
   "outputs": [
    {
     "data": {
      "text/plain": [
       "'Hello, World! This is my first function'"
      ]
     },
     "execution_count": 104,
     "metadata": {},
     "output_type": "execute_result"
    }
   ],
   "source": [
    "obj.MFirstFunc()"
   ]
  },
  {
   "cell_type": "code",
   "execution_count": null,
   "id": "f2ce139d",
   "metadata": {},
   "outputs": [],
   "source": [
    "#Access Modifiers\n"
   ]
  },
  {
   "cell_type": "markdown",
   "id": "d36b7078",
   "metadata": {},
   "source": [
    "#Inheritance \n",
    "A child class inheritance can access all the member methods and attributes of the parent class]"
   ]
  },
  {
   "cell_type": "markdown",
   "id": "9c9c06f4",
   "metadata": {},
   "source": [
    "# Multiple inheritance"
   ]
  },
  {
   "cell_type": "code",
   "execution_count": 110,
   "id": "4d13c3d1",
   "metadata": {},
   "outputs": [],
   "source": [
    "class A():\n",
    "    a=None\n",
    "    b=None\n",
    "    def __init__(self):\n",
    "        self.a=a\n",
    "        self.b=b\n",
    "    def MyAtt(self):\n",
    "        return ('This is the parent class A')"
   ]
  },
  {
   "cell_type": "code",
   "execution_count": 111,
   "id": "52fadda9",
   "metadata": {},
   "outputs": [],
   "source": [
    "class B():\n",
    "     def MyAtt2(self):\n",
    "        return ('This is the 2ndparent class A')"
   ]
  },
  {
   "cell_type": "code",
   "execution_count": 112,
   "id": "7c3b98bd",
   "metadata": {},
   "outputs": [],
   "source": [
    "class C(A,B):\n",
    "     pass"
   ]
  },
  {
   "cell_type": "code",
   "execution_count": 113,
   "id": "ad231a6b",
   "metadata": {},
   "outputs": [],
   "source": [
    "obj=B()"
   ]
  },
  {
   "cell_type": "code",
   "execution_count": 114,
   "id": "a7e8b42d",
   "metadata": {},
   "outputs": [
    {
     "data": {
      "text/plain": [
       "<bound method B.MyAtt2 of <__main__.B object at 0x0000017B5B784B10>>"
      ]
     },
     "execution_count": 114,
     "metadata": {},
     "output_type": "execute_result"
    }
   ],
   "source": [
    "obj.MyAtt2"
   ]
  },
  {
   "cell_type": "code",
   "execution_count": 105,
   "id": "508d2484",
   "metadata": {},
   "outputs": [],
   "source": [
    "class Person:\n",
    "    def __init__(self, name, age):\n",
    "        self.name = name\n",
    "        self.age = age\n",
    "\n",
    "# Creating instances of the Person class\n",
    "person1 = Person(\"Alice\", 30)\n",
    "person2 = Person(\"Bob\", 25)"
   ]
  },
  {
   "cell_type": "code",
   "execution_count": 106,
   "id": "da526c34",
   "metadata": {},
   "outputs": [],
   "source": [
    "class A:\n",
    "    a=1\n",
    "    b=2\n",
    "    def __init__(self, c,d):\n",
    "        self.c = c\n",
    "        self.d = d\n",
    "        "
   ]
  },
  {
   "cell_type": "code",
   "execution_count": 107,
   "id": "4f1033e5",
   "metadata": {},
   "outputs": [],
   "source": [
    "#Inheritance"
   ]
  },
  {
   "cell_type": "code",
   "execution_count": 137,
   "id": "26b42784",
   "metadata": {},
   "outputs": [],
   "source": [
    "class Parent():\n",
    "    def __init__(self,a,b):\n",
    "        self.a=a\n",
    "        #/self.a's a is not same as a\n",
    "        self.b=b\n",
    "            "
   ]
  },
  {
   "cell_type": "code",
   "execution_count": 138,
   "id": "77ea4cd4",
   "metadata": {},
   "outputs": [],
   "source": [
    "class Base(Parent):\n",
    "    def __init__(self,a,b,c):\n",
    "        super().__init__(a=4,b=5)\n",
    "        self.c=c"
   ]
  },
  {
   "cell_type": "code",
   "execution_count": 139,
   "id": "96cce5b1",
   "metadata": {},
   "outputs": [],
   "source": [
    "obj=Base(1,2,3)"
   ]
  },
  {
   "cell_type": "code",
   "execution_count": 140,
   "id": "b2279578",
   "metadata": {},
   "outputs": [
    {
     "data": {
      "text/plain": [
       "4"
      ]
     },
     "execution_count": 140,
     "metadata": {},
     "output_type": "execute_result"
    }
   ],
   "source": [
    "obj.a"
   ]
  },
  {
   "cell_type": "code",
   "execution_count": 141,
   "id": "6e8bbce9",
   "metadata": {},
   "outputs": [
    {
     "data": {
      "text/plain": [
       "5"
      ]
     },
     "execution_count": 141,
     "metadata": {},
     "output_type": "execute_result"
    }
   ],
   "source": [
    "obj.b"
   ]
  },
  {
   "cell_type": "code",
   "execution_count": 142,
   "id": "0f2adb2d",
   "metadata": {},
   "outputs": [
    {
     "data": {
      "text/plain": [
       "3"
      ]
     },
     "execution_count": 142,
     "metadata": {},
     "output_type": "execute_result"
    }
   ],
   "source": [
    "obj.c"
   ]
  },
  {
   "cell_type": "code",
   "execution_count": null,
   "id": "bb8afa79",
   "metadata": {},
   "outputs": [],
   "source": [
    "class Parent():\n",
    "    def __init__(self,a,b):\n",
    "        self.a=a\n",
    "        #/self.a's a is not same as a\n",
    "        self.b=b\n",
    "            "
   ]
  },
  {
   "cell_type": "code",
   "execution_count": 143,
   "id": "a4f588bb",
   "metadata": {},
   "outputs": [],
   "source": [
    "class Base(Parent):\n",
    "    def __init__(self,a,b,c):\n",
    "        super().__init__(a=4,b=5)\n",
    "        self.c=c"
   ]
  },
  {
   "cell_type": "code",
   "execution_count": 146,
   "id": "16304099",
   "metadata": {},
   "outputs": [],
   "source": [
    "obj=Base1(1,2,3)"
   ]
  },
  {
   "cell_type": "code",
   "execution_count": 147,
   "id": "05571aeb",
   "metadata": {},
   "outputs": [
    {
     "ename": "AttributeError",
     "evalue": "'Base1' object has no attribute 'a'",
     "output_type": "error",
     "traceback": [
      "\u001b[1;31m---------------------------------------------------------------------------\u001b[0m",
      "\u001b[1;31mAttributeError\u001b[0m                            Traceback (most recent call last)",
      "Cell \u001b[1;32mIn[147], line 1\u001b[0m\n\u001b[1;32m----> 1\u001b[0m obj\u001b[38;5;241m.\u001b[39ma\n",
      "\u001b[1;31mAttributeError\u001b[0m: 'Base1' object has no attribute 'a'"
     ]
    }
   ],
   "source": [
    "obj.a"
   ]
  },
  {
   "cell_type": "code",
   "execution_count": 189,
   "id": "959f3c5a",
   "metadata": {},
   "outputs": [],
   "source": [
    "class Parent:\n",
    "    def _init__(self):\n",
    "        self.a1=4\n",
    "        self.b1=4\n",
    "        self.c1=4\n",
    "class Base2(Parent):\n",
    "    def __init__(self):\n",
    "        super().__init__()"
   ]
  },
  {
   "cell_type": "code",
   "execution_count": 190,
   "id": "dee1a20a",
   "metadata": {},
   "outputs": [],
   "source": [
    "obj2=Base2()"
   ]
  },
  {
   "cell_type": "code",
   "execution_count": 191,
   "id": "c8e0fa4c",
   "metadata": {},
   "outputs": [
    {
     "ename": "AttributeError",
     "evalue": "'Base2' object has no attribute 'a1'",
     "output_type": "error",
     "traceback": [
      "\u001b[1;31m---------------------------------------------------------------------------\u001b[0m",
      "\u001b[1;31mAttributeError\u001b[0m                            Traceback (most recent call last)",
      "Cell \u001b[1;32mIn[191], line 1\u001b[0m\n\u001b[1;32m----> 1\u001b[0m obj2\u001b[38;5;241m.\u001b[39ma1\n",
      "\u001b[1;31mAttributeError\u001b[0m: 'Base2' object has no attribute 'a1'"
     ]
    }
   ],
   "source": [
    "obj2.a1"
   ]
  },
  {
   "cell_type": "code",
   "execution_count": 208,
   "id": "8c584c04",
   "metadata": {},
   "outputs": [],
   "source": [
    "#multilevel inheritance\n",
    "class a2:\n",
    "    a=10\n",
    "    b=20\n",
    "class b2(a2):\n",
    "    c=10\n",
    "    d=20\n",
    "class c2(b2):\n",
    "    e=10\n",
    "    f=20       "
   ]
  },
  {
   "cell_type": "code",
   "execution_count": 209,
   "id": "60db6ed8",
   "metadata": {},
   "outputs": [],
   "source": [
    "obj=c2()"
   ]
  },
  {
   "cell_type": "code",
   "execution_count": 210,
   "id": "9e00e049",
   "metadata": {},
   "outputs": [
    {
     "data": {
      "text/plain": [
       "20"
      ]
     },
     "execution_count": 210,
     "metadata": {},
     "output_type": "execute_result"
    }
   ],
   "source": [
    "obj.b"
   ]
  },
  {
   "cell_type": "code",
   "execution_count": 214,
   "id": "25badd49",
   "metadata": {},
   "outputs": [
    {
     "name": "stdout",
     "output_type": "stream",
     "text": [
      "Hello Welcome\n"
     ]
    }
   ],
   "source": [
    "class Parent:\n",
    "    def __init__(self, txt):\n",
    "        self.message = txt\n",
    "\n",
    " \n",
    "\n",
    "    def printmessage(self):\n",
    "        print(self.message)\n",
    "class Child(Parent):\n",
    "    def __init__(self,txt= 'Hello Welcome'):\n",
    "        super().__init__(txt)\n",
    "\n",
    "x=Child()\n",
    "\n",
    " \n",
    "\n",
    "x.printmessage()"
   ]
  },
  {
   "cell_type": "code",
   "execution_count": 221,
   "id": "d8850464",
   "metadata": {},
   "outputs": [],
   "source": [
    "def dec(x):#reference is stored here\n",
    "    def mfunc(a,b):\n",
    "        res=x(a,b)+5\n",
    "        return res\n",
    "    return mfunc\n",
    "@dec\n",
    "def Base(a,b):\n",
    "    return a+b"
   ]
  },
  {
   "cell_type": "code",
   "execution_count": 219,
   "id": "ca52b25d",
   "metadata": {},
   "outputs": [
    {
     "name": "stdout",
     "output_type": "stream",
     "text": [
      "14\n"
     ]
    }
   ],
   "source": [
    "print(Base(4,5))"
   ]
  },
  {
   "cell_type": "code",
   "execution_count": 235,
   "id": "6a2ea4d9",
   "metadata": {},
   "outputs": [],
   "source": [
    "def dec1(x):\n",
    "    def mBase(a,b):\n",
    "        if a>b:\n",
    "            res=a/b\n",
    "        else:\n",
    "            res=b/a\n",
    "        return int(res)\n",
    "    return mBase\n",
    "@dec1\n",
    "def Base(a,b):\n",
    "    return mBase(a/b)"
   ]
  },
  {
   "cell_type": "code",
   "execution_count": 236,
   "id": "b5fa0c64",
   "metadata": {},
   "outputs": [
    {
     "name": "stdout",
     "output_type": "stream",
     "text": [
      "5\n"
     ]
    }
   ],
   "source": [
    "print(Base(10,2))"
   ]
  },
  {
   "cell_type": "code",
   "execution_count": 237,
   "id": "1e84a940",
   "metadata": {},
   "outputs": [
    {
     "name": "stdout",
     "output_type": "stream",
     "text": [
      "1\n"
     ]
    }
   ],
   "source": [
    "print(Base(2,3))"
   ]
  },
  {
   "cell_type": "code",
   "execution_count": 240,
   "id": "2e440d94",
   "metadata": {},
   "outputs": [],
   "source": [
    "def dec1(x):\n",
    "    def mBase(a,b):\n",
    "        if b>a:\n",
    "            a,b=b,a\n",
    "        val=x(a,b)\n",
    "        return int(val)\n",
    "    return mBase\n",
    "@dec1\n",
    "def Base(a,b):\n",
    "    return a/b\n"
   ]
  },
  {
   "cell_type": "code",
   "execution_count": 241,
   "id": "b2e9fd2f",
   "metadata": {},
   "outputs": [
    {
     "name": "stdout",
     "output_type": "stream",
     "text": [
      "5\n"
     ]
    }
   ],
   "source": [
    "result=Base(10,2)\n",
    "print(result)"
   ]
  },
  {
   "cell_type": "code",
   "execution_count": 287,
   "id": "f351cf9a",
   "metadata": {},
   "outputs": [],
   "source": [
    "class Abc:\n",
    "    __sessionId=5#private\n",
    "    _b=10#protected\n",
    "    c=20\n",
    "    def login(self,sessionId):\n",
    "        if sessionId==self.__sessionId:\n",
    "            print('Login Successful')"
   ]
  },
  {
   "cell_type": "code",
   "execution_count": 288,
   "id": "e5402b9c",
   "metadata": {},
   "outputs": [],
   "source": [
    "obj=Abc()"
   ]
  },
  {
   "cell_type": "code",
   "execution_count": 289,
   "id": "332e9b0e",
   "metadata": {},
   "outputs": [],
   "source": [
    "obj.login('mksessionId')"
   ]
  },
  {
   "cell_type": "code",
   "execution_count": 282,
   "id": "33e03bb6",
   "metadata": {},
   "outputs": [],
   "source": [
    "class Efg:\n",
    "    x=Abc()"
   ]
  },
  {
   "cell_type": "code",
   "execution_count": null,
   "id": "1ad1d512",
   "metadata": {
    "collapsed": true
   },
   "outputs": [],
   "source": [
    "obj=Efg()"
   ]
  },
  {
   "cell_type": "code",
   "execution_count": 333,
   "id": "bf596e8b",
   "metadata": {},
   "outputs": [
    {
     "name": "stdout",
     "output_type": "stream",
     "text": [
      "Public Data Member:  Geeks\n"
     ]
    },
    {
     "ename": "AttributeError",
     "evalue": "'Sub' object has no attribute '_displayProtectedMembers'",
     "output_type": "error",
     "traceback": [
      "\u001b[1;31m---------------------------------------------------------------------------\u001b[0m",
      "\u001b[1;31mAttributeError\u001b[0m                            Traceback (most recent call last)",
      "Cell \u001b[1;32mIn[333], line 46\u001b[0m\n\u001b[0;32m     44\u001b[0m \u001b[38;5;66;03m# calling public member functions of the class\u001b[39;00m\n\u001b[0;32m     45\u001b[0m obj\u001b[38;5;241m.\u001b[39mdisplayPublicMembers()\n\u001b[1;32m---> 46\u001b[0m obj\u001b[38;5;241m.\u001b[39maccessProtectedMembers()\n\u001b[0;32m     47\u001b[0m obj\u001b[38;5;241m.\u001b[39maccessPrivateMembers()\n\u001b[0;32m     49\u001b[0m \u001b[38;5;66;03m# Object can access protected member\u001b[39;00m\n",
      "Cell \u001b[1;32mIn[333], line 37\u001b[0m, in \u001b[0;36mSub.accessProtectedMembers\u001b[1;34m(self)\u001b[0m\n\u001b[0;32m     36\u001b[0m \u001b[38;5;28;01mdef\u001b[39;00m \u001b[38;5;21maccessProtectedMembers\u001b[39m(\u001b[38;5;28mself\u001b[39m):\n\u001b[1;32m---> 37\u001b[0m     \u001b[38;5;28mself\u001b[39m\u001b[38;5;241m.\u001b[39m_displayProtectedMembers()\n",
      "\u001b[1;31mAttributeError\u001b[0m: 'Sub' object has no attribute '_displayProtectedMembers'"
     ]
    }
   ],
   "source": [
    "# # program to illustrate access modifiers of a class\n",
    "# # super class\n",
    "# class Super:\n",
    "#      # public data member\n",
    "#     var1 = None\n",
    "#      # protected data member\n",
    "#     _var2 = None \n",
    "#      # private data member\n",
    "#     __var3 = None     \n",
    "#      # constructor\n",
    "#     def __init__(self, var1, var2, var3): \n",
    "#         self.var1 = var1\n",
    "#         self._var2 = var2\n",
    "#         self.__var3 = var3\n",
    "#          # public member function  \n",
    "#     def displayPublicMembers(self):\n",
    "#           # accessing public data members\n",
    "#         print(\"Public Data Member: \", self.var1)   \n",
    "#      # protected member function  \n",
    "#         def _displayProtectedMembers(self):\n",
    "#           # accessing protected data members\n",
    "#               print(\"Protected Data Member: \", self._var2)\n",
    "      \n",
    "#      # private member function  \n",
    "#         def __displayPrivateMembers(self):\n",
    "#                 # accessing private data members\n",
    "#                 print(\"Private Data Member: \", self.__var3)\n",
    "#      # public member function\n",
    "#         def accessPrivateMembers(self): \n",
    "#                 self.__displayPrivateMembers()         \n",
    "#           # accessing private member function\n",
    "# #derived class\n",
    "# class Sub(Super):\n",
    "#     def __init__(self, var1, var2, var3):\n",
    "#         Super.__init__(self, var1, var2, var3)\n",
    "#     def accessProtectedMembers(self):\n",
    "#         self._displayProtectedMembers()\n",
    "#         # accessing protected member functions of super class\n",
    "        \n",
    "        \n",
    "#   #creating objects of the derived class    \n",
    "# obj = Sub(\"Geeks\", 4, \"Geeks !\")\n",
    " \n",
    "# # calling public member functions of the class\n",
    "# obj.displayPublicMembers()\n",
    "# obj.accessProtectedMembers()\n",
    "# obj.accessPrivateMembers()\n",
    " \n",
    "# # Object can access protected member\n",
    "# print(\"Object is accessing protected member:\", obj._var2)\n",
    " \n",
    "# # object can not access private member, so it will generate Attribute error\n",
    "# #print(obj.__var3)"
   ]
  },
  {
   "cell_type": "code",
   "execution_count": 340,
   "id": "c7d4b0b3",
   "metadata": {},
   "outputs": [
    {
     "name": "stdout",
     "output_type": "stream",
     "text": [
      "Public Data Member:  Geeks\n",
      "Protected Data Member:  4\n",
      "Private Data Member:  Geeks !\n",
      "Object is accessing protected member: 4\n"
     ]
    }
   ],
   "source": [
    "# program to illustrate access modifiers of a class\n",
    " \n",
    "# super class\n",
    "class Super:\n",
    "     # public data member\n",
    "     var1 = None\n",
    " \n",
    "     # protected data member\n",
    "     _var2 = None\n",
    "      \n",
    "     # private data member\n",
    "     __var3 = None\n",
    "     \n",
    "     # constructor\n",
    "     def __init__(self, var1, var2, var3): \n",
    "          self.var1 = var1\n",
    "          self._var2 = var2\n",
    "          self.__var3 = var3\n",
    "     \n",
    "    # public member function  \n",
    "     def displayPublicMembers(self):\n",
    "  \n",
    "          # accessing public data members\n",
    "          print(\"Public Data Member: \", self.var1)\n",
    "        \n",
    "     # protected member function  \n",
    "     def _displayProtectedMembers(self):\n",
    "  \n",
    "          # accessing protected data members\n",
    "          print(\"Protected Data Member: \", self._var2)\n",
    "      \n",
    "     # private member function  \n",
    "     def __displayPrivateMembers(self):\n",
    "          # accessing private data members\n",
    "          print(\"Private Data Member: \", self.__var3)\n",
    " \n",
    "     # public member function\n",
    "     def accessPrivateMembers(self):    \n",
    "           \n",
    "          # accessing private member function\n",
    "          self.__displayPrivateMembers()\n",
    "  \n",
    "# derived class\n",
    "class Sub(Super):\n",
    "  \n",
    "      # constructor\n",
    "       def __init__(self, var1, var2, var3):\n",
    "                Super.__init__(self, var1, var2, var3)\n",
    "           \n",
    "      # public member function\n",
    "       def accessProtectedMembers(self):\n",
    "                 \n",
    "                # accessing protected member functions of super class\n",
    "                self._displayProtectedMembers()\n",
    "  \n",
    "# creating objects of the derived class    \n",
    "obj = Sub(\"Geeks\", 4, \"Geeks !\")\n",
    " \n",
    "# calling public member functions of the class\n",
    "obj.displayPublicMembers()\n",
    "obj.accessProtectedMembers()\n",
    "obj.accessPrivateMembers()\n",
    " \n",
    "# Object can access protected member\n",
    "print(\"Object is accessing protected member:\", obj._var2)\n",
    " \n",
    "# object can not access private member, so it will generate Attribute error\n",
    "#print(obj.__var3)"
   ]
  },
  {
   "cell_type": "code",
   "execution_count": 246,
   "id": "d95a75c5",
   "metadata": {},
   "outputs": [],
   "source": [
    "#Private Access Modifiers--->__\n",
    "#Protected Access Modifiers--->_"
   ]
  },
  {
   "cell_type": "code",
   "execution_count": 247,
   "id": "23ddccca",
   "metadata": {},
   "outputs": [],
   "source": [
    "class Efg(Abc):\n",
    "    pass"
   ]
  },
  {
   "cell_type": "code",
   "execution_count": 248,
   "id": "6fbf0bb3",
   "metadata": {},
   "outputs": [],
   "source": [
    "obj=Efg()"
   ]
  },
  {
   "cell_type": "code",
   "execution_count": 250,
   "id": "35782975",
   "metadata": {},
   "outputs": [
    {
     "ename": "AttributeError",
     "evalue": "'Efg' object has no attribute '__a'",
     "output_type": "error",
     "traceback": [
      "\u001b[1;31m---------------------------------------------------------------------------\u001b[0m",
      "\u001b[1;31mAttributeError\u001b[0m                            Traceback (most recent call last)",
      "Cell \u001b[1;32mIn[250], line 1\u001b[0m\n\u001b[1;32m----> 1\u001b[0m obj\u001b[38;5;241m.\u001b[39m__a\n",
      "\u001b[1;31mAttributeError\u001b[0m: 'Efg' object has no attribute '__a'"
     ]
    }
   ],
   "source": [
    "obj.__a#can access only b,c"
   ]
  },
  {
   "cell_type": "code",
   "execution_count": 351,
   "id": "b1f5225a",
   "metadata": {},
   "outputs": [],
   "source": [
    "# class MyClass:\n",
    "# def __init__(self):\n",
    "#     pass\n",
    "# def sti(self):\n",
    "#     return 'This class implents the __str__ functionality'"
   ]
  },
  {
   "cell_type": "code",
   "execution_count": 427,
   "id": "62b71288",
   "metadata": {},
   "outputs": [],
   "source": [
    "class MyClass:\n",
    "    def __init__(self):\n",
    "        pass\n",
    "    def __str__(self):\n",
    "        return 'This class implements the __str__ functionality'"
   ]
  },
  {
   "cell_type": "code",
   "execution_count": 428,
   "id": "6a58639e",
   "metadata": {},
   "outputs": [],
   "source": [
    "obj=MyClass()"
   ]
  },
  {
   "cell_type": "code",
   "execution_count": 429,
   "id": "2220a537",
   "metadata": {},
   "outputs": [
    {
     "name": "stdout",
     "output_type": "stream",
     "text": [
      "This class implements the __str__ functionality\n"
     ]
    }
   ],
   "source": [
    "print(obj)"
   ]
  },
  {
   "cell_type": "code",
   "execution_count": 357,
   "id": "fc19c5a4",
   "metadata": {},
   "outputs": [
    {
     "ename": "TypeError",
     "evalue": "sum() takes at least 1 positional argument (0 given)",
     "output_type": "error",
     "traceback": [
      "\u001b[1;31m---------------------------------------------------------------------------\u001b[0m",
      "\u001b[1;31mTypeError\u001b[0m                                 Traceback (most recent call last)",
      "Cell \u001b[1;32mIn[357], line 1\u001b[0m\n\u001b[1;32m----> 1\u001b[0m \u001b[38;5;28msum\u001b[39m()\n",
      "\u001b[1;31mTypeError\u001b[0m: sum() takes at least 1 positional argument (0 given)"
     ]
    }
   ],
   "source": [
    "sum()"
   ]
  },
  {
   "cell_type": "code",
   "execution_count": 3,
   "id": "27dc2d06",
   "metadata": {},
   "outputs": [],
   "source": [
    "#DocString\n",
    "def login(username,password):\n",
    "    \"\"\"\n",
    "    This is my login function that takes username and password as argument and\n",
    "    please input valid username and password\n",
    "    \"\"\"\n",
    "    return 'Success'"
   ]
  },
  {
   "cell_type": "code",
   "execution_count": 5,
   "id": "99a64a4a",
   "metadata": {},
   "outputs": [
    {
     "data": {
      "text/plain": [
       "'Success'"
      ]
     },
     "execution_count": 5,
     "metadata": {},
     "output_type": "execute_result"
    }
   ],
   "source": [
    "login('Abhi',123)"
   ]
  },
  {
   "cell_type": "code",
   "execution_count": 364,
   "id": "57bb287c",
   "metadata": {},
   "outputs": [],
   "source": [
    "class MyClass:\n",
    "    __username='Subha'"
   ]
  },
  {
   "cell_type": "code",
   "execution_count": 365,
   "id": "ef1dcd29",
   "metadata": {},
   "outputs": [],
   "source": [
    "obj=MyClass()"
   ]
  },
  {
   "cell_type": "code",
   "execution_count": 366,
   "id": "a0dc40e2",
   "metadata": {},
   "outputs": [
    {
     "data": {
      "text/plain": [
       "'Subha'"
      ]
     },
     "execution_count": 366,
     "metadata": {},
     "output_type": "execute_result"
    }
   ],
   "source": [
    "obj._MyClass__username"
   ]
  },
  {
   "cell_type": "code",
   "execution_count": 367,
   "id": "722de59b",
   "metadata": {},
   "outputs": [],
   "source": [
    "class MyClass:\n",
    "    @staticmethod\n",
    "    def fun(a):\n",
    "        return 2000"
   ]
  },
  {
   "cell_type": "code",
   "execution_count": 368,
   "id": "c908882f",
   "metadata": {},
   "outputs": [],
   "source": [
    "obj=MyClass()"
   ]
  },
  {
   "cell_type": "code",
   "execution_count": 370,
   "id": "577a818a",
   "metadata": {},
   "outputs": [
    {
     "data": {
      "text/plain": [
       "2000"
      ]
     },
     "execution_count": 370,
     "metadata": {},
     "output_type": "execute_result"
    }
   ],
   "source": [
    "obj.fun()"
   ]
  },
  {
   "cell_type": "code",
   "execution_count": 378,
   "id": "51a8c215",
   "metadata": {},
   "outputs": [
    {
     "name": "stdout",
     "output_type": "stream",
     "text": [
      "30\n",
      "20\n",
      "50\n"
     ]
    }
   ],
   "source": [
    "class MyClass:\n",
    "    def __init__(self, value):\n",
    "        self.value = value\n",
    " \n",
    "    @staticmethod\n",
    "    \n",
    "    def get_max_value(x, y):\n",
    "        return max(x, y)\n",
    "    def get_min_value(x, y):\n",
    "        return min(x, y)\n",
    "    \n",
    " \n",
    "# Create an instance of MyClass\n",
    "obj = MyClass(10)\n",
    " \n",
    "print(MyClass.get_max_value(20, 30)) \n",
    "print(MyClass.get_min_value(20, 30)) \n",
    " \n",
    "print(obj.get_max_value(10, 50))"
   ]
  },
  {
   "cell_type": "code",
   "execution_count": 386,
   "id": "546eae52",
   "metadata": {},
   "outputs": [
    {
     "name": "stdout",
     "output_type": "stream",
     "text": [
      "1\n",
      "2\n",
      "2\n"
     ]
    }
   ],
   "source": [
    "class MyClass:\n",
    "\n",
    "    static_var = 0\n",
    "    def __init__(self):\n",
    "\n",
    "        MyClass.static_var += 1\n",
    "\n",
    "        self.instance_var = MyClass.static_var\n",
    "obj1 = MyClass()\n",
    "\n",
    "print(obj1.instance_var)  # Output: 1\n",
    "obj2 = MyClass()\n",
    "\n",
    "print(obj2.instance_var)  # Output: 2\n",
    "print(MyClass.static_var)  # Output: 2\n"
   ]
  },
  {
   "cell_type": "code",
   "execution_count": 388,
   "id": "184b8e73",
   "metadata": {},
   "outputs": [
    {
     "name": "stdout",
     "output_type": "stream",
     "text": [
      "140732844315464\n"
     ]
    }
   ],
   "source": [
    "print(id(obj2.instance_var))"
   ]
  },
  {
   "cell_type": "code",
   "execution_count": 7,
   "id": "29662ce8",
   "metadata": {},
   "outputs": [],
   "source": [
    "#Method Overloading\n",
    "class methodoverLoading():\n",
    "    def sum1(self,a,b):\n",
    "        return a+b\n",
    "    def sum1(self,a,b,c):\n",
    "        return a+b+c\n",
    "    def sum1(self,a,b,c,d):\n",
    "        return a+b+c+d"
   ]
  },
  {
   "cell_type": "code",
   "execution_count": 8,
   "id": "11a46277",
   "metadata": {},
   "outputs": [],
   "source": [
    "obj=methodoverLoading()"
   ]
  },
  {
   "cell_type": "code",
   "execution_count": 9,
   "id": "2998337f",
   "metadata": {},
   "outputs": [
    {
     "ename": "TypeError",
     "evalue": "methodoverLoading.sum1() missing 1 required positional argument: 'd'",
     "output_type": "error",
     "traceback": [
      "\u001b[1;31m---------------------------------------------------------------------------\u001b[0m",
      "\u001b[1;31mTypeError\u001b[0m                                 Traceback (most recent call last)",
      "Cell \u001b[1;32mIn[9], line 1\u001b[0m\n\u001b[1;32m----> 1\u001b[0m obj\u001b[38;5;241m.\u001b[39msum1(\u001b[38;5;241m1\u001b[39m,\u001b[38;5;241m2\u001b[39m,\u001b[38;5;241m3\u001b[39m)\n",
      "\u001b[1;31mTypeError\u001b[0m: methodoverLoading.sum1() missing 1 required positional argument: 'd'"
     ]
    }
   ],
   "source": [
    "obj.sum1(1,2,3)"
   ]
  },
  {
   "cell_type": "code",
   "execution_count": 401,
   "id": "7a0440ca",
   "metadata": {},
   "outputs": [],
   "source": [
    "class MyClass:\n",
    "    def add1(self,a,b):\n",
    "        self.a=a\n",
    "        self.b=b\n",
    "        return a+b\n",
    "class MyClass2(MyClass):\n",
    "     def add1(self,a,b,c):\n",
    "        self.a=a\n",
    "        self.b=b\n",
    "        self.c=c\n",
    "        return a+b+c"
   ]
  },
  {
   "cell_type": "code",
   "execution_count": 402,
   "id": "fb77d240",
   "metadata": {},
   "outputs": [],
   "source": [
    "obj=MyClass2()"
   ]
  },
  {
   "cell_type": "code",
   "execution_count": 405,
   "id": "f75bc4c5",
   "metadata": {},
   "outputs": [
    {
     "ename": "TypeError",
     "evalue": "MyClass2.add1() missing 1 required positional argument: 'c'",
     "output_type": "error",
     "traceback": [
      "\u001b[1;31m---------------------------------------------------------------------------\u001b[0m",
      "\u001b[1;31mTypeError\u001b[0m                                 Traceback (most recent call last)",
      "Cell \u001b[1;32mIn[405], line 1\u001b[0m\n\u001b[1;32m----> 1\u001b[0m obj\u001b[38;5;241m.\u001b[39madd1(\u001b[38;5;241m2\u001b[39m,\u001b[38;5;241m3\u001b[39m)\n",
      "\u001b[1;31mTypeError\u001b[0m: MyClass2.add1() missing 1 required positional argument: 'c'"
     ]
    }
   ],
   "source": [
    "obj.add1(2,3)"
   ]
  },
  {
   "cell_type": "code",
   "execution_count": 412,
   "id": "3a183636",
   "metadata": {},
   "outputs": [],
   "source": [
    "#Operator overloading\n",
    "def func(a,b):\n",
    "    return a+b"
   ]
  },
  {
   "cell_type": "code",
   "execution_count": 413,
   "id": "b1fc8602",
   "metadata": {},
   "outputs": [
    {
     "data": {
      "text/plain": [
       "3"
      ]
     },
     "execution_count": 413,
     "metadata": {},
     "output_type": "execute_result"
    }
   ],
   "source": [
    "func(1,2)"
   ]
  },
  {
   "cell_type": "code",
   "execution_count": 414,
   "id": "ae27f0f0",
   "metadata": {},
   "outputs": [
    {
     "data": {
      "text/plain": [
       "'Abhilipsa'"
      ]
     },
     "execution_count": 414,
     "metadata": {},
     "output_type": "execute_result"
    }
   ],
   "source": [
    "func('Abhi','lipsa')"
   ]
  },
  {
   "cell_type": "code",
   "execution_count": 415,
   "id": "e7ad7ea3",
   "metadata": {},
   "outputs": [],
   "source": [
    "#list unpacking\n",
    "t1=1,2,3,4"
   ]
  },
  {
   "cell_type": "code",
   "execution_count": 1,
   "id": "fae3c908",
   "metadata": {},
   "outputs": [
    {
     "data": {
      "text/plain": [
       "['BPF',\n",
       " 'LOG4',\n",
       " 'NV_MAGICCONST',\n",
       " 'RECIP_BPF',\n",
       " 'Random',\n",
       " 'SG_MAGICCONST',\n",
       " 'SystemRandom',\n",
       " 'TWOPI',\n",
       " '_ONE',\n",
       " '_Sequence',\n",
       " '_Set',\n",
       " '__all__',\n",
       " '__builtins__',\n",
       " '__cached__',\n",
       " '__doc__',\n",
       " '__file__',\n",
       " '__loader__',\n",
       " '__name__',\n",
       " '__package__',\n",
       " '__spec__',\n",
       " '_accumulate',\n",
       " '_acos',\n",
       " '_bisect',\n",
       " '_ceil',\n",
       " '_cos',\n",
       " '_e',\n",
       " '_exp',\n",
       " '_floor',\n",
       " '_index',\n",
       " '_inst',\n",
       " '_isfinite',\n",
       " '_log',\n",
       " '_os',\n",
       " '_pi',\n",
       " '_random',\n",
       " '_repeat',\n",
       " '_sha512',\n",
       " '_sin',\n",
       " '_sqrt',\n",
       " '_test',\n",
       " '_test_generator',\n",
       " '_urandom',\n",
       " '_warn',\n",
       " 'betavariate',\n",
       " 'choice',\n",
       " 'choices',\n",
       " 'expovariate',\n",
       " 'gammavariate',\n",
       " 'gauss',\n",
       " 'getrandbits',\n",
       " 'getstate',\n",
       " 'lognormvariate',\n",
       " 'normalvariate',\n",
       " 'paretovariate',\n",
       " 'randbytes',\n",
       " 'randint',\n",
       " 'random',\n",
       " 'randrange',\n",
       " 'sample',\n",
       " 'seed',\n",
       " 'setstate',\n",
       " 'shuffle',\n",
       " 'triangular',\n",
       " 'uniform',\n",
       " 'vonmisesvariate',\n",
       " 'weibullvariate']"
      ]
     },
     "execution_count": 1,
     "metadata": {},
     "output_type": "execute_result"
    }
   ],
   "source": [
    "# t1\n",
    "import random\n",
    "dir(random)"
   ]
  },
  {
   "cell_type": "code",
   "execution_count": 417,
   "id": "971b333b",
   "metadata": {},
   "outputs": [],
   "source": [
    "l1=[*t1]"
   ]
  },
  {
   "cell_type": "code",
   "execution_count": 418,
   "id": "6a46c40d",
   "metadata": {},
   "outputs": [
    {
     "data": {
      "text/plain": [
       "[1, 2, 3, 4]"
      ]
     },
     "execution_count": 418,
     "metadata": {},
     "output_type": "execute_result"
    }
   ],
   "source": [
    "l1"
   ]
  },
  {
   "cell_type": "code",
   "execution_count": 420,
   "id": "45f56d7f",
   "metadata": {},
   "outputs": [],
   "source": [
    "a,b,c,d=[*t1]"
   ]
  },
  {
   "cell_type": "code",
   "execution_count": 425,
   "id": "61ca0970",
   "metadata": {},
   "outputs": [
    {
     "data": {
      "text/plain": [
       "4"
      ]
     },
     "execution_count": 425,
     "metadata": {},
     "output_type": "execute_result"
    }
   ],
   "source": [
    "a\n",
    "b\n",
    "c\n",
    "d"
   ]
  },
  {
   "cell_type": "code",
   "execution_count": 1,
   "id": "088c62ad",
   "metadata": {},
   "outputs": [
    {
     "ename": "NameError",
     "evalue": "name 'b' is not defined",
     "output_type": "error",
     "traceback": [
      "\u001b[1;31m---------------------------------------------------------------------------\u001b[0m",
      "\u001b[1;31mNameError\u001b[0m                                 Traceback (most recent call last)",
      "\u001b[1;32mc:\\Users\\CZ0254\\Banking_System\\learning1.ipynb Cell 434\u001b[0m line \u001b[0;36m1\n\u001b[1;32m----> <a href='vscode-notebook-cell:/c%3A/Users/CZ0254/Banking_System/learning1.ipynb#Z1156sZmlsZQ%3D%3D?line=0'>1</a>\u001b[0m b\n",
      "\u001b[1;31mNameError\u001b[0m: name 'b' is not defined"
     ]
    }
   ],
   "source": [
    "b\n"
   ]
  },
  {
   "cell_type": "code",
   "execution_count": 10,
   "id": "63e1a2ee",
   "metadata": {},
   "outputs": [],
   "source": [
    "#file#encapsulation"
   ]
  },
  {
   "cell_type": "code",
   "execution_count": 33,
   "id": "c922ea96",
   "metadata": {},
   "outputs": [
    {
     "ename": "NameError",
     "evalue": "name 'account' is not defined",
     "output_type": "error",
     "traceback": [
      "\u001b[1;31m---------------------------------------------------------------------------\u001b[0m",
      "\u001b[1;31mNameError\u001b[0m                                 Traceback (most recent call last)",
      "\u001b[1;32mc:\\Users\\CZ0254\\Banking_System\\Notebook\\learning1.ipynb Cell 436\u001b[0m line \u001b[0;36m3\n\u001b[0;32m     <a href='vscode-notebook-cell:/c%3A/Users/CZ0254/Banking_System/Notebook/learning1.ipynb#Z1161sZmlsZQ%3D%3D?line=28'>29</a>\u001b[0m     \u001b[39mdef\u001b[39;00m \u001b[39mget_balance\u001b[39m(\u001b[39mself\u001b[39m) \u001b[39m-\u001b[39m\u001b[39m>\u001b[39m \u001b[39mfloat\u001b[39m:\n\u001b[0;32m     <a href='vscode-notebook-cell:/c%3A/Users/CZ0254/Banking_System/Notebook/learning1.ipynb#Z1161sZmlsZQ%3D%3D?line=29'>30</a>\u001b[0m         \u001b[39mreturn\u001b[39;00m \u001b[39mself\u001b[39m\u001b[39m.\u001b[39mbalance\n\u001b[1;32m---> <a href='vscode-notebook-cell:/c%3A/Users/CZ0254/Banking_System/Notebook/learning1.ipynb#Z1161sZmlsZQ%3D%3D?line=31'>32</a>\u001b[0m account_balance \u001b[39m=\u001b[39m account\u001b[39m.\u001b[39mget_balance(\u001b[39mself\u001b[39m)\n\u001b[0;32m     <a href='vscode-notebook-cell:/c%3A/Users/CZ0254/Banking_System/Notebook/learning1.ipynb#Z1161sZmlsZQ%3D%3D?line=32'>33</a>\u001b[0m \u001b[39mprint\u001b[39m(\u001b[39mf\u001b[39m\u001b[39m\"\u001b[39m\u001b[39mAccount Balance: $\u001b[39m\u001b[39m{\u001b[39;00maccount_balance\u001b[39m}\u001b[39;00m\u001b[39m\"\u001b[39m)\n\u001b[0;32m     <a href='vscode-notebook-cell:/c%3A/Users/CZ0254/Banking_System/Notebook/learning1.ipynb#Z1161sZmlsZQ%3D%3D?line=34'>35</a>\u001b[0m \u001b[39m# Check withdrawal result\u001b[39;00m\n",
      "\u001b[1;31mNameError\u001b[0m: name 'account' is not defined"
     ]
    }
   ],
   "source": [
    "class Customer:\n",
    "    def __init__(self, customer_id, name,address,phone_number):\n",
    "        self.customer_id=customer_id\n",
    "        self.name=name\n",
    "        self.address=address\n",
    "        self.phone_number=phone_number\n",
    "    \n",
    "    def get_customer_info(self) -> str:\n",
    "        customer_info = f\"Customer ID: {self.customer_id}\\nName: {self.name}\\nAddress: {self.address}\\nPhone Number: {self.phone_number}\"\n",
    "        return customer_info\n",
    "    \n",
    "class Account:\n",
    "    def __init__(self, account_number, customer, initial_balance=0.0):\n",
    "        self.account_number = account_number\n",
    "        self.customer = customer\n",
    "        self.balance = initial_balance\n",
    "\n",
    "    def deposit(self, amount: float) -> None:\n",
    "        if amount > 0:\n",
    "            self.balance += amount\n",
    "\n",
    "    def withdraw(self, amount: float) -> bool:\n",
    "        if amount > 0 and amount <= self.balance:\n",
    "            self.balance -= amount\n",
    "            return True\n",
    "        else:\n",
    "            return False\n",
    "\n",
    "    def get_balance(self) -> float:\n",
    "        return self.balance\n",
    "    \n",
    "account_balance = account.get_balance(self)\n",
    "print(f\"Account Balance: ${account_balance}\")\n",
    "\n",
    "# Check withdrawal result\n",
    "if withdrawal_result:\n",
    "    print(\"Withdrawal successful\")\n",
    "else:\n",
    "    print(\"Insufficient funds for withdrawal\")\n",
    "class Transaction:\n",
    "    def __init__(self, transaction_id, source_account, destination_account, amount: float):\n",
    "        self.transaction_id = transaction_id\n",
    "        self.source_account = source_account\n",
    "        self.destination_account = destination_account\n",
    "        self.amount = amount\n",
    "        import datetime\n",
    "        self.timestamp = datetime.datetime.now().strftime('%Y-%m-%d %H:%M:%S')\n",
    "\n",
    "    def get_transaction_details(self) -> str:\n",
    "        transaction_details = f\"Transaction ID: {self.transaction_id}\\n\"\n",
    "        transaction_details += \"Source Account:\\n\"\n",
    "        transaction_details += f\"  - Account Number: {self.source_account.account_number}\\n\"\n",
    "        transaction_details += f\"  - Customer Name: {self.source_account.customer.name}\\n\"\n",
    "        transaction_details += f\"Destination Account:\\n\"\n",
    "        transaction_details += f\"  - Account Number: {self.destination_account.account_number}\\n\"\n",
    "        transaction_details += f\"  - Customer Name: {self.destination_account.customer.name}\\n\"\n",
    "        transaction_details += f\"Amount: ${self.amount:.2f}\\n\"\n",
    "        transaction_details += f\"Timestamp: {self.timestamp}\"\n",
    "        return transaction_details\n",
    "# Create customers\n",
    "customer1 = Customer(\"C001\", \"John Doe\", \"123 Main St\", \"555-1234\")\n",
    "customer2 = Customer(\"C002\", \"Jane Smith\", \"456 Elm St\", \"555-5678\")\n",
    "\n",
    "# Create accounts for customers\n",
    "john_savings = Account(\"S001\", customer1)\n",
    "john_checking = Account(\"C001\", customer1)\n",
    "jane_savings = Account(\"S002\", customer2)\n",
    "jane_checking = Account(\"C002\", customer2)\n",
    "\n",
    "# Deposit $1000 into John Doe's Savings Account\n",
    "john_savings.deposit(1000.0)\n",
    "\n",
    "# Withdraw $200 from Jane Smith's Checking Account\n",
    "jane_checking.withdraw(200.0)\n",
    "\n",
    "# Perform a transfer of $300 from John Doe's Checking Account to Jane Smith's Savings Account\n",
    "john_checking.transfer(jane_savings, 300.0)\n",
    "\n",
    "# Retrieve and display the balance of all four accounts\n",
    "print(john_savings)\n",
    "print(john_checking)\n",
    "print(jane_savings)\n",
    "print(jane_checking)\n",
    "\n",
    "# Create transaction objects\n",
    "deposit_transaction = Transaction(\"T001\", None, john_savings, 1000.0)\n",
    "withdrawal_transaction = Transaction(\"T002\", jane_checking, None, 200.0)\n",
    "transfer_transaction = Transaction(\"T003\", john_checking, jane_savings, 300.0)\n",
    "\n",
    "# Display the details of each transaction\n",
    "print(deposit_transaction)\n",
    "print(withdrawal_transaction)\n",
    "print(transfer_transaction)\n",
    "\n",
    "# Display transaction history\n",
    "john_savings.transactions = [deposit_transaction]\n",
    "jane_checking.transactions = [withdrawal_transaction]\n",
    "john_checking.transactions = [transfer_transaction]\n",
    "\n",
    "print(\"\\nTransaction History for John Doe's Savings Account:\")\n",
    "print(get_transaction_history(john_savings))\n",
    "\n",
    "print(\"\\nTransaction History for Jane Smith's Checking Account:\")\n",
    "print(get_transaction_history(jane_checking))\n",
    "\n",
    "print(\"\\nTransaction History for John Doe's Checking Account:\")\n",
    "print(get_transaction_history(john_checking))\n",
    "\n",
    "\n",
    "\n",
    "\n",
    "\n",
    "# # Retrieve and display the balance of all four accounts\n",
    "    # print(f\"John Doe's Savings Account Balance: ${john_savings.balance}\")\n",
    "    # print(f\"John Doe's Checking Account Balance: ${john_checking.balance}\")\n",
    "    # print(f\"Jane Smith's Savings Account Balance: ${jane_savings.balance}\")\n",
    "    # print(f\"Jane Smith's Checking Account Balance: ${jane_checking.balance}\")\n",
    "\n",
    "    # Retrieve and display balances\n",
    "    print(\"------------Balances------------\")\n",
    "    print(f\"John Doe's Savings Account Balance: ${john_savings.get_balance():.2f}\")\n",
    "    print(f\"John Doe's Checking Account Balance: ${john_checking.get_balance():.2f}\")\n",
    "    print(f\"Jane Smith's Savings Account Balance: ${jane_savings.get_balance():.2f}\")\n",
    "    print(f\"Jane Smith's Checking Account Balance: ${jane_checking.get_balance():.2f}\")\n",
    "\n",
    "    # Retrieve and display the balance of all four accounts\n",
    "    print(\"Balance in John Doe's Savings Account $\",john_savings.balance)\n",
    "    print(\"Balance in John Doe's Checking Account $\",john_checking.balance)\n",
    "    print(\"Balance in Jane Smith's Savings Account $\",jane_savings.balance)\n",
    "    print(\"Balance in Jane Smith's Checking Account $\",jane_checking.balance)\n",
    "\n",
    "    # # Create transaction objects\n",
    "    # deposit_transaction=transaction(\"T001\", None, john_savings, 1000.0)\n",
    "    # withdrawal_transaction=transaction(\"T002\", jane_checking, None, 200.0)\n",
    "    # transfer_transaction=transaction(\"T003\", john_checking, jane_savings, 300.0)\n",
    "\n",
    "    # Create transaction objects\n",
    "    transactions1= [\n",
    "    transaction(\"T001\", john_savings, None, 1000),\n",
    "    transaction(\"T002\", None, jane_checking, 200),\n",
    "    transaction(\"T003\", john_checking, jane_savings, 300)]\n",
    "\n",
    "\n",
    "    # # Display the details of each transaction\n",
    "    # print(\"Amount Deposited to John Doe's saving Account\",deposit_transaction.amount)\n",
    "    # print(\"Amount Withdrawn from Jane Smith's checking Account\",withdrawal_transaction.amount)\n",
    "    # print(\"Amount Transferred\",transfer_transaction.amount)\n",
    "\n",
    "    # # Display transaction history\n",
    "    # john_savings.transactions = [deposit_transaction]\n",
    "    # jane_checking.transactions = [withdrawal_transaction]\n",
    "    # john_checking.transactions = [transfer_transaction]\n",
    "\n",
    "    # Display transaction details\n",
    "    print(\"\\nTransaction Details:\")\n",
    "    for transactions in transactions1:\n",
    "        print(transactions.get_transaction_details())\n",
    "\n",
    "    # Display transaction history for Jane Smith's Savings Account\n",
    "    print(\"\\nTransaction History for Jane Smith's Savings Account:\")\n",
    "    jane_savings_history= transactions.get_transaction_history(jane_savings_account)\n",
    "    for transaction_details in jane_savings_history:\n",
    "        print(transaction_details)\n",
    "\n",
    "\n",
    "\n",
    "\n",
    "\n",
    "\n",
    "\n"
   ]
  },
  {
   "cell_type": "code",
   "execution_count": 1,
   "id": "f7eb762d",
   "metadata": {},
   "outputs": [
    {
     "data": {
      "text/plain": [
       "['MAXYEAR',\n",
       " 'MINYEAR',\n",
       " 'UTC',\n",
       " '__all__',\n",
       " '__builtins__',\n",
       " '__cached__',\n",
       " '__doc__',\n",
       " '__file__',\n",
       " '__loader__',\n",
       " '__name__',\n",
       " '__package__',\n",
       " '__spec__',\n",
       " 'date',\n",
       " 'datetime',\n",
       " 'datetime_CAPI',\n",
       " 'sys',\n",
       " 'time',\n",
       " 'timedelta',\n",
       " 'timezone',\n",
       " 'tzinfo']"
      ]
     },
     "execution_count": 1,
     "metadata": {},
     "output_type": "execute_result"
    }
   ],
   "source": [
    "import datetime\n",
    "dir(datetime)"
   ]
  },
  {
   "cell_type": "code",
   "execution_count": 2,
   "id": "a30920c3",
   "metadata": {},
   "outputs": [
    {
     "name": "stdout",
     "output_type": "stream",
     "text": [
      "0.6436777235656952\n",
      "0.6379648767362253\n",
      "0.05131341377737031\n",
      "0.28642207211038906\n",
      "0.313415521260359\n"
     ]
    }
   ],
   "source": [
    "from random import random\n",
    "# produces a float number x coming from the range (0.0, 1.0) - in other words: (0.0 <= x < 1.0)\n",
    "for i in range(5):\n",
    "    print(random())"
   ]
  },
  {
   "cell_type": "code",
   "execution_count": 4,
   "id": "3315d751",
   "metadata": {},
   "outputs": [
    {
     "name": "stdout",
     "output_type": "stream",
     "text": [
      "0.8444218515250481\n",
      "0.7579544029403025\n",
      "0.420571580830845\n",
      "0.25891675029296335\n",
      "0.5112747213686085\n"
     ]
    }
   ],
   "source": [
    "from random import random, seed\n",
    "#seed() - sets the seed with the current time;\n",
    "#seed(int_value) - sets the seed with the integer value int_value.\n",
    "seed(0)\n",
    "\n",
    "for i in range(5):\n",
    "    print(random())\n",
    "    "
   ]
  },
  {
   "cell_type": "code",
   "execution_count": null,
   "id": "b3ce0332",
   "metadata": {},
   "outputs": [],
   "source": [
    "#Exception\n",
    "# A break in between an execution aka error\n",
    "#error:A sceneraio that create the exception\n",
    "# Types of error\n",
    "SyntaxError\n"
   ]
  },
  {
   "cell_type": "code",
   "execution_count": 5,
   "id": "80e87f25",
   "metadata": {},
   "outputs": [
    {
     "ename": "ValueError",
     "evalue": "invalid literal for int() with base 10: 'Abhi'",
     "output_type": "error",
     "traceback": [
      "\u001b[1;31m---------------------------------------------------------------------------\u001b[0m",
      "\u001b[1;31mValueError\u001b[0m                                Traceback (most recent call last)",
      "\u001b[1;32mc:\\Users\\CZ0254\\Banking_System\\Notebook\\learning1.ipynb Cell 441\u001b[0m line \u001b[0;36m2\n\u001b[0;32m      <a href='vscode-notebook-cell:/c%3A/Users/CZ0254/Banking_System/Notebook/learning1.ipynb#Z1166sZmlsZQ%3D%3D?line=0'>1</a>\u001b[0m a\u001b[39m=\u001b[39m\u001b[39m'\u001b[39m\u001b[39mAbhi\u001b[39m\u001b[39m'\u001b[39m\n\u001b[1;32m----> <a href='vscode-notebook-cell:/c%3A/Users/CZ0254/Banking_System/Notebook/learning1.ipynb#Z1166sZmlsZQ%3D%3D?line=1'>2</a>\u001b[0m \u001b[39mprint\u001b[39m(\u001b[39mint\u001b[39;49m(a))\n",
      "\u001b[1;31mValueError\u001b[0m: invalid literal for int() with base 10: 'Abhi'"
     ]
    }
   ],
   "source": [
    "a='Abhi'\n",
    "print(int(a))"
   ]
  },
  {
   "cell_type": "code",
   "execution_count": 6,
   "id": "b2dbe7a0",
   "metadata": {},
   "outputs": [
    {
     "ename": "AssertionError",
     "evalue": "",
     "output_type": "error",
     "traceback": [
      "\u001b[1;31m---------------------------------------------------------------------------\u001b[0m",
      "\u001b[1;31mAssertionError\u001b[0m                            Traceback (most recent call last)",
      "\u001b[1;32mc:\\Users\\CZ0254\\Banking_System\\Notebook\\learning1.ipynb Cell 442\u001b[0m line \u001b[0;36m2\n\u001b[0;32m      <a href='vscode-notebook-cell:/c%3A/Users/CZ0254/Banking_System/Notebook/learning1.ipynb#Z1200sZmlsZQ%3D%3D?line=0'>1</a>\u001b[0m y\u001b[39m=\u001b[39m\u001b[39m0\u001b[39m\n\u001b[1;32m----> <a href='vscode-notebook-cell:/c%3A/Users/CZ0254/Banking_System/Notebook/learning1.ipynb#Z1200sZmlsZQ%3D%3D?line=1'>2</a>\u001b[0m \u001b[39massert\u001b[39;00m y\u001b[39m!=\u001b[39m\u001b[39m0\u001b[39m\n",
      "\u001b[1;31mAssertionError\u001b[0m: "
     ]
    }
   ],
   "source": [
    "y=0\n",
    "assert y!=0"
   ]
  },
  {
   "cell_type": "code",
   "execution_count": 7,
   "id": "40605622",
   "metadata": {},
   "outputs": [],
   "source": [
    "def fib():\n",
    "    for i in range(1,20):\n",
    "        for j in range(i-1,20):\n",
    "            return i/j"
   ]
  },
  {
   "cell_type": "code",
   "execution_count": 8,
   "id": "ee1e02a7",
   "metadata": {},
   "outputs": [
    {
     "ename": "ZeroDivisionError",
     "evalue": "division by zero",
     "output_type": "error",
     "traceback": [
      "\u001b[1;31m---------------------------------------------------------------------------\u001b[0m",
      "\u001b[1;31mZeroDivisionError\u001b[0m                         Traceback (most recent call last)",
      "\u001b[1;32mc:\\Users\\CZ0254\\Banking_System\\Notebook\\learning1.ipynb Cell 444\u001b[0m line \u001b[0;36m1\n\u001b[1;32m----> <a href='vscode-notebook-cell:/c%3A/Users/CZ0254/Banking_System/Notebook/learning1.ipynb#Z1202sZmlsZQ%3D%3D?line=0'>1</a>\u001b[0m fib()\n",
      "\u001b[1;32mc:\\Users\\CZ0254\\Banking_System\\Notebook\\learning1.ipynb Cell 444\u001b[0m line \u001b[0;36m4\n\u001b[0;32m      <a href='vscode-notebook-cell:/c%3A/Users/CZ0254/Banking_System/Notebook/learning1.ipynb#Z1202sZmlsZQ%3D%3D?line=1'>2</a>\u001b[0m \u001b[39mfor\u001b[39;00m i \u001b[39min\u001b[39;00m \u001b[39mrange\u001b[39m(\u001b[39m1\u001b[39m,\u001b[39m20\u001b[39m):\n\u001b[0;32m      <a href='vscode-notebook-cell:/c%3A/Users/CZ0254/Banking_System/Notebook/learning1.ipynb#Z1202sZmlsZQ%3D%3D?line=2'>3</a>\u001b[0m     \u001b[39mfor\u001b[39;00m j \u001b[39min\u001b[39;00m \u001b[39mrange\u001b[39m(i\u001b[39m-\u001b[39m\u001b[39m1\u001b[39m,\u001b[39m20\u001b[39m):\n\u001b[1;32m----> <a href='vscode-notebook-cell:/c%3A/Users/CZ0254/Banking_System/Notebook/learning1.ipynb#Z1202sZmlsZQ%3D%3D?line=3'>4</a>\u001b[0m         \u001b[39mreturn\u001b[39;00m i\u001b[39m/\u001b[39;49mj\n",
      "\u001b[1;31mZeroDivisionError\u001b[0m: division by zero"
     ]
    }
   ],
   "source": [
    "fib()"
   ]
  },
  {
   "cell_type": "code",
   "execution_count": 9,
   "id": "f6adfc24",
   "metadata": {},
   "outputs": [],
   "source": [
    "#try:This block contains the lines of code that are suspected  to throw an error\n",
    "#except:This block will catch the exception that try block block will throw(This is mandatory with the try block)\n",
    "#Else:This block will execute when the try lock throws an error(handle the error)\n",
    "#Finally:Excecutes everytime"
   ]
  },
  {
   "cell_type": "code",
   "execution_count": 21,
   "id": "b27df27f",
   "metadata": {},
   "outputs": [
    {
     "name": "stdout",
     "output_type": "stream",
     "text": [
      "division by zero\n",
      "(<class 'ZeroDivisionError'>, ZeroDivisionError('division by zero'), <traceback object at 0x000001E960A9BAC0>)\n"
     ]
    }
   ],
   "source": [
    "try:\n",
    "    for i in range(1,20):\n",
    "        for j in range(i-1,20):\n",
    "            print(i/j)\n",
    "except Exception as e:\n",
    "    print(e)\n",
    "    print(sys.exc_info())"
   ]
  },
  {
   "cell_type": "code",
   "execution_count": 24,
   "id": "ef2f4f14",
   "metadata": {},
   "outputs": [
    {
     "ename": "NameError",
     "evalue": "name 'ZeroDivisionErrorr' is not defined",
     "output_type": "error",
     "traceback": [
      "\u001b[1;31m---------------------------------------------------------------------------\u001b[0m",
      "\u001b[1;31mZeroDivisionError\u001b[0m                         Traceback (most recent call last)",
      "\u001b[1;32mc:\\Users\\CZ0254\\Banking_System\\Notebook\\learning1.ipynb Cell 447\u001b[0m line \u001b[0;36m3\n\u001b[0;32m      <a href='vscode-notebook-cell:/c%3A/Users/CZ0254/Banking_System/Notebook/learning1.ipynb#Z1205sZmlsZQ%3D%3D?line=1'>2</a>\u001b[0m \u001b[39mtry\u001b[39;00m:\n\u001b[1;32m----> <a href='vscode-notebook-cell:/c%3A/Users/CZ0254/Banking_System/Notebook/learning1.ipynb#Z1205sZmlsZQ%3D%3D?line=2'>3</a>\u001b[0m     c\u001b[39m=\u001b[39m\u001b[39m10\u001b[39;49m\u001b[39m/\u001b[39;49m\u001b[39m0\u001b[39;49m\n\u001b[0;32m      <a href='vscode-notebook-cell:/c%3A/Users/CZ0254/Banking_System/Notebook/learning1.ipynb#Z1205sZmlsZQ%3D%3D?line=3'>4</a>\u001b[0m     b\u001b[39m=\u001b[39m\u001b[39mint\u001b[39m(\u001b[39m'\u001b[39m\u001b[39mSubha\u001b[39m\u001b[39m'\u001b[39m)\n",
      "\u001b[1;31mZeroDivisionError\u001b[0m: division by zero",
      "\nDuring handling of the above exception, another exception occurred:\n",
      "\u001b[1;31mNameError\u001b[0m                                 Traceback (most recent call last)",
      "\u001b[1;32mc:\\Users\\CZ0254\\Banking_System\\Notebook\\learning1.ipynb Cell 447\u001b[0m line \u001b[0;36m9\n\u001b[0;32m      <a href='vscode-notebook-cell:/c%3A/Users/CZ0254/Banking_System/Notebook/learning1.ipynb#Z1205sZmlsZQ%3D%3D?line=6'>7</a>\u001b[0m     \u001b[39mprint\u001b[39m(sys\u001b[39m.\u001b[39mexc_info())\n\u001b[0;32m      <a href='vscode-notebook-cell:/c%3A/Users/CZ0254/Banking_System/Notebook/learning1.ipynb#Z1205sZmlsZQ%3D%3D?line=7'>8</a>\u001b[0m     \u001b[39mprint\u001b[39m(\u001b[39m'\u001b[39m\u001b[39mCannot convert string to int\u001b[39m\u001b[39m'\u001b[39m)\n\u001b[1;32m----> <a href='vscode-notebook-cell:/c%3A/Users/CZ0254/Banking_System/Notebook/learning1.ipynb#Z1205sZmlsZQ%3D%3D?line=8'>9</a>\u001b[0m \u001b[39mexcept\u001b[39;00m ZeroDivisionErrorr:\n\u001b[0;32m     <a href='vscode-notebook-cell:/c%3A/Users/CZ0254/Banking_System/Notebook/learning1.ipynb#Z1205sZmlsZQ%3D%3D?line=9'>10</a>\u001b[0m     \u001b[39mprint\u001b[39m(sys\u001b[39m.\u001b[39mexc_info())\n\u001b[0;32m     <a href='vscode-notebook-cell:/c%3A/Users/CZ0254/Banking_System/Notebook/learning1.ipynb#Z1205sZmlsZQ%3D%3D?line=10'>11</a>\u001b[0m     \u001b[39mprint\u001b[39m(\u001b[39m'\u001b[39m\u001b[39mCannot divide by zero\u001b[39m\u001b[39m'\u001b[39m)\n",
      "\u001b[1;31mNameError\u001b[0m: name 'ZeroDivisionErrorr' is not defined"
     ]
    }
   ],
   "source": [
    "import sys\n",
    "try:\n",
    "    c=10/0\n",
    "    b=int('Subha')\n",
    "    \n",
    "except ValueError:\n",
    "    print(sys.exc_info())\n",
    "    print('Cannot convert string to int')\n",
    "except ZeroDivisionErrorr:\n",
    "    print(sys.exc_info())\n",
    "    print('Cannot divide by zero')"
   ]
  },
  {
   "cell_type": "code",
   "execution_count": 26,
   "id": "9fc4d539",
   "metadata": {},
   "outputs": [],
   "source": [
    "#Exception Catching\n",
    "# --Exception as e\n",
    "# --sys.exc_info()\n",
    "# --by using the error class' name\n",
    "    "
   ]
  },
  {
   "cell_type": "code",
   "execution_count": 7,
   "id": "195106b3",
   "metadata": {},
   "outputs": [
    {
     "name": "stdout",
     "output_type": "stream",
     "text": [
      "2.5\n"
     ]
    }
   ],
   "source": [
    "try:\n",
    "    a=10\n",
    "    b=int(input())\n",
    "    c=a/b\n",
    "except :\n",
    "    print('Enter another number')\n",
    "else:\n",
    "    print(c)"
   ]
  },
  {
   "cell_type": "code",
   "execution_count": 3,
   "id": "1a1dd62e",
   "metadata": {},
   "outputs": [
    {
     "name": "stdout",
     "output_type": "stream",
     "text": [
      "Sorry!You are dividing  by zero\n",
      "This is always executed\n"
     ]
    }
   ],
   "source": [
    "def divide(x,y):\n",
    "    try:\n",
    "        result=x//y\n",
    "    except ZeroDivisionError:\n",
    "        print(\"Sorry!You are dividing  by zero\")\n",
    "    else:\n",
    "        print(\"Yeah!Your answer is :\",result)\n",
    "    finally:\n",
    "        print(\"This is always executed\")\n",
    "divide(3,0)\n"
   ]
  },
  {
   "cell_type": "code",
   "execution_count": 5,
   "id": "d7db34bd",
   "metadata": {},
   "outputs": [
    {
     "name": "stdout",
     "output_type": "stream",
     "text": [
      "This is always executed\n"
     ]
    },
    {
     "ename": "ZeroDivisionError",
     "evalue": "Sorry!You are dividing  by zero",
     "output_type": "error",
     "traceback": [
      "\u001b[1;31m---------------------------------------------------------------------------\u001b[0m",
      "\u001b[1;31mZeroDivisionError\u001b[0m                         Traceback (most recent call last)",
      "\u001b[1;32mc:\\Users\\CZ0254\\Banking_System\\Notebook\\learning1.ipynb Cell 451\u001b[0m line \u001b[0;36m3\n\u001b[0;32m      <a href='vscode-notebook-cell:/c%3A/Users/CZ0254/Banking_System/Notebook/learning1.ipynb#Z1212sZmlsZQ%3D%3D?line=1'>2</a>\u001b[0m \u001b[39mtry\u001b[39;00m:\n\u001b[1;32m----> <a href='vscode-notebook-cell:/c%3A/Users/CZ0254/Banking_System/Notebook/learning1.ipynb#Z1212sZmlsZQ%3D%3D?line=2'>3</a>\u001b[0m     result\u001b[39m=\u001b[39mx\u001b[39m/\u001b[39;49m\u001b[39m/\u001b[39;49my\n\u001b[0;32m      <a href='vscode-notebook-cell:/c%3A/Users/CZ0254/Banking_System/Notebook/learning1.ipynb#Z1212sZmlsZQ%3D%3D?line=3'>4</a>\u001b[0m \u001b[39mexcept\u001b[39;00m :\n\u001b[0;32m      <a href='vscode-notebook-cell:/c%3A/Users/CZ0254/Banking_System/Notebook/learning1.ipynb#Z1212sZmlsZQ%3D%3D?line=4'>5</a>\u001b[0m     \u001b[39m# raise Exception(\"Sorry!You are dividing  by zero\")\u001b[39;00m\n",
      "\u001b[1;31mZeroDivisionError\u001b[0m: integer division or modulo by zero",
      "\nDuring handling of the above exception, another exception occurred:\n",
      "\u001b[1;31mZeroDivisionError\u001b[0m                         Traceback (most recent call last)",
      "\u001b[1;32mc:\\Users\\CZ0254\\Banking_System\\Notebook\\learning1.ipynb Cell 451\u001b[0m line \u001b[0;36m1\n\u001b[0;32m      <a href='vscode-notebook-cell:/c%3A/Users/CZ0254/Banking_System/Notebook/learning1.ipynb#Z1212sZmlsZQ%3D%3D?line=8'>9</a>\u001b[0m     \u001b[39mfinally\u001b[39;00m:\n\u001b[0;32m     <a href='vscode-notebook-cell:/c%3A/Users/CZ0254/Banking_System/Notebook/learning1.ipynb#Z1212sZmlsZQ%3D%3D?line=9'>10</a>\u001b[0m         \u001b[39mprint\u001b[39m(\u001b[39m\"\u001b[39m\u001b[39mThis is always executed\u001b[39m\u001b[39m\"\u001b[39m)\n\u001b[1;32m---> <a href='vscode-notebook-cell:/c%3A/Users/CZ0254/Banking_System/Notebook/learning1.ipynb#Z1212sZmlsZQ%3D%3D?line=10'>11</a>\u001b[0m divide(\u001b[39m3\u001b[39;49m,\u001b[39m0\u001b[39;49m)\n",
      "\u001b[1;32mc:\\Users\\CZ0254\\Banking_System\\Notebook\\learning1.ipynb Cell 451\u001b[0m line \u001b[0;36m6\n\u001b[0;32m      <a href='vscode-notebook-cell:/c%3A/Users/CZ0254/Banking_System/Notebook/learning1.ipynb#Z1212sZmlsZQ%3D%3D?line=2'>3</a>\u001b[0m     result\u001b[39m=\u001b[39mx\u001b[39m/\u001b[39m\u001b[39m/\u001b[39my\n\u001b[0;32m      <a href='vscode-notebook-cell:/c%3A/Users/CZ0254/Banking_System/Notebook/learning1.ipynb#Z1212sZmlsZQ%3D%3D?line=3'>4</a>\u001b[0m \u001b[39mexcept\u001b[39;00m :\n\u001b[0;32m      <a href='vscode-notebook-cell:/c%3A/Users/CZ0254/Banking_System/Notebook/learning1.ipynb#Z1212sZmlsZQ%3D%3D?line=4'>5</a>\u001b[0m     \u001b[39m# raise Exception(\"Sorry!You are dividing  by zero\")\u001b[39;00m\n\u001b[1;32m----> <a href='vscode-notebook-cell:/c%3A/Users/CZ0254/Banking_System/Notebook/learning1.ipynb#Z1212sZmlsZQ%3D%3D?line=5'>6</a>\u001b[0m     \u001b[39mraise\u001b[39;00m \u001b[39mZeroDivisionError\u001b[39;00m(\u001b[39m\"\u001b[39m\u001b[39mSorry!You are dividing  by zero\u001b[39m\u001b[39m\"\u001b[39m)\n\u001b[0;32m      <a href='vscode-notebook-cell:/c%3A/Users/CZ0254/Banking_System/Notebook/learning1.ipynb#Z1212sZmlsZQ%3D%3D?line=6'>7</a>\u001b[0m \u001b[39melse\u001b[39;00m:\n\u001b[0;32m      <a href='vscode-notebook-cell:/c%3A/Users/CZ0254/Banking_System/Notebook/learning1.ipynb#Z1212sZmlsZQ%3D%3D?line=7'>8</a>\u001b[0m     \u001b[39mprint\u001b[39m(\u001b[39m\"\u001b[39m\u001b[39mYeah!Your answer is :\u001b[39m\u001b[39m\"\u001b[39m,result)\n",
      "\u001b[1;31mZeroDivisionError\u001b[0m: Sorry!You are dividing  by zero"
     ]
    }
   ],
   "source": [
    "def divide(x,y):\n",
    "    try:\n",
    "        result=x//y\n",
    "    except :\n",
    "        # raise Exception(\"Sorry!You are dividing  by zero\")\n",
    "        raise ZeroDivisionError(\"Sorry!You are dividing  by zero\")\n",
    "    else:\n",
    "        print(\"Yeah!Your answer is :\",result)\n",
    "    finally:\n",
    "        print(\"This is always executed\")\n",
    "divide(3,0)"
   ]
  },
  {
   "cell_type": "code",
   "execution_count": 8,
   "id": "5ec3fc79",
   "metadata": {},
   "outputs": [
    {
     "name": "stdout",
     "output_type": "stream",
     "text": [
      "This is always executed\n"
     ]
    },
    {
     "ename": "ZeroDivisionError",
     "evalue": "Sorry!You are dividing  by zero",
     "output_type": "error",
     "traceback": [
      "\u001b[1;31m---------------------------------------------------------------------------\u001b[0m",
      "\u001b[1;31mZeroDivisionError\u001b[0m                         Traceback (most recent call last)",
      "\u001b[1;32mc:\\Users\\CZ0254\\Banking_System\\Notebook\\learning1.ipynb Cell 452\u001b[0m line \u001b[0;36m5\n\u001b[0;32m      <a href='vscode-notebook-cell:/c%3A/Users/CZ0254/Banking_System/Notebook/learning1.ipynb#Z1213sZmlsZQ%3D%3D?line=3'>4</a>\u001b[0m     logging\u001b[39m.\u001b[39minfo(\u001b[39m'\u001b[39m\u001b[39mtry Block statred getting exceuted\u001b[39m\u001b[39m'\u001b[39m)\n\u001b[1;32m----> <a href='vscode-notebook-cell:/c%3A/Users/CZ0254/Banking_System/Notebook/learning1.ipynb#Z1213sZmlsZQ%3D%3D?line=4'>5</a>\u001b[0m     result\u001b[39m=\u001b[39mx\u001b[39m/\u001b[39;49m\u001b[39m/\u001b[39;49my\n\u001b[0;32m      <a href='vscode-notebook-cell:/c%3A/Users/CZ0254/Banking_System/Notebook/learning1.ipynb#Z1213sZmlsZQ%3D%3D?line=5'>6</a>\u001b[0m \u001b[39mexcept\u001b[39;00m :\n\u001b[0;32m      <a href='vscode-notebook-cell:/c%3A/Users/CZ0254/Banking_System/Notebook/learning1.ipynb#Z1213sZmlsZQ%3D%3D?line=6'>7</a>\u001b[0m     \n\u001b[0;32m      <a href='vscode-notebook-cell:/c%3A/Users/CZ0254/Banking_System/Notebook/learning1.ipynb#Z1213sZmlsZQ%3D%3D?line=7'>8</a>\u001b[0m     \u001b[39m# raise Exception(\"Sorry!You are dividing  by zero\")\u001b[39;00m\n",
      "\u001b[1;31mZeroDivisionError\u001b[0m: integer division or modulo by zero",
      "\nDuring handling of the above exception, another exception occurred:\n",
      "\u001b[1;31mZeroDivisionError\u001b[0m                         Traceback (most recent call last)",
      "\u001b[1;32mc:\\Users\\CZ0254\\Banking_System\\Notebook\\learning1.ipynb Cell 452\u001b[0m line \u001b[0;36m1\n\u001b[0;32m     <a href='vscode-notebook-cell:/c%3A/Users/CZ0254/Banking_System/Notebook/learning1.ipynb#Z1213sZmlsZQ%3D%3D?line=11'>12</a>\u001b[0m     \u001b[39mfinally\u001b[39;00m:\n\u001b[0;32m     <a href='vscode-notebook-cell:/c%3A/Users/CZ0254/Banking_System/Notebook/learning1.ipynb#Z1213sZmlsZQ%3D%3D?line=12'>13</a>\u001b[0m         \u001b[39mprint\u001b[39m(\u001b[39m\"\u001b[39m\u001b[39mThis is always executed\u001b[39m\u001b[39m\"\u001b[39m)\n\u001b[1;32m---> <a href='vscode-notebook-cell:/c%3A/Users/CZ0254/Banking_System/Notebook/learning1.ipynb#Z1213sZmlsZQ%3D%3D?line=13'>14</a>\u001b[0m divide(\u001b[39m3\u001b[39;49m,\u001b[39m0\u001b[39;49m)\n",
      "\u001b[1;32mc:\\Users\\CZ0254\\Banking_System\\Notebook\\learning1.ipynb Cell 452\u001b[0m line \u001b[0;36m9\n\u001b[0;32m      <a href='vscode-notebook-cell:/c%3A/Users/CZ0254/Banking_System/Notebook/learning1.ipynb#Z1213sZmlsZQ%3D%3D?line=4'>5</a>\u001b[0m     result\u001b[39m=\u001b[39mx\u001b[39m/\u001b[39m\u001b[39m/\u001b[39my\n\u001b[0;32m      <a href='vscode-notebook-cell:/c%3A/Users/CZ0254/Banking_System/Notebook/learning1.ipynb#Z1213sZmlsZQ%3D%3D?line=5'>6</a>\u001b[0m \u001b[39mexcept\u001b[39;00m :\n\u001b[0;32m      <a href='vscode-notebook-cell:/c%3A/Users/CZ0254/Banking_System/Notebook/learning1.ipynb#Z1213sZmlsZQ%3D%3D?line=6'>7</a>\u001b[0m     \n\u001b[0;32m      <a href='vscode-notebook-cell:/c%3A/Users/CZ0254/Banking_System/Notebook/learning1.ipynb#Z1213sZmlsZQ%3D%3D?line=7'>8</a>\u001b[0m     \u001b[39m# raise Exception(\"Sorry!You are dividing  by zero\")\u001b[39;00m\n\u001b[1;32m----> <a href='vscode-notebook-cell:/c%3A/Users/CZ0254/Banking_System/Notebook/learning1.ipynb#Z1213sZmlsZQ%3D%3D?line=8'>9</a>\u001b[0m     \u001b[39mraise\u001b[39;00m \u001b[39mZeroDivisionError\u001b[39;00m(\u001b[39m\"\u001b[39m\u001b[39mSorry!You are dividing  by zero\u001b[39m\u001b[39m\"\u001b[39m)\n\u001b[0;32m     <a href='vscode-notebook-cell:/c%3A/Users/CZ0254/Banking_System/Notebook/learning1.ipynb#Z1213sZmlsZQ%3D%3D?line=9'>10</a>\u001b[0m \u001b[39melse\u001b[39;00m:\n\u001b[0;32m     <a href='vscode-notebook-cell:/c%3A/Users/CZ0254/Banking_System/Notebook/learning1.ipynb#Z1213sZmlsZQ%3D%3D?line=10'>11</a>\u001b[0m     \u001b[39mprint\u001b[39m(\u001b[39m\"\u001b[39m\u001b[39mYeah!Your answer is :\u001b[39m\u001b[39m\"\u001b[39m,result)\n",
      "\u001b[1;31mZeroDivisionError\u001b[0m: Sorry!You are dividing  by zero"
     ]
    }
   ],
   "source": [
    "import logging\n",
    "def divide(x,y):\n",
    "    try:\n",
    "        logging.info('try Block statred getting exceuted')\n",
    "        result=x//y\n",
    "    except :\n",
    "        \n",
    "        # raise Exception(\"Sorry!You are dividing  by zero\")\n",
    "        raise ZeroDivisionError(\"Sorry!You are dividing  by zero\")\n",
    "    else:\n",
    "        print(\"Yeah!Your answer is :\",result)\n",
    "    finally:\n",
    "        print(\"This is always executed\")\n",
    "divide(3,0)\n",
    "\n",
    "\n"
   ]
  },
  {
   "cell_type": "code",
   "execution_count": 27,
   "id": "a7a06bce",
   "metadata": {},
   "outputs": [
    {
     "name": "stdout",
     "output_type": "stream",
     "text": [
      "[1, 1, 1, 2]\n"
     ]
    }
   ],
   "source": [
    "\n"
   ]
  },
  {
   "cell_type": "code",
   "execution_count": 31,
   "id": "1e6c2ad6",
   "metadata": {},
   "outputs": [
    {
     "ename": "SyntaxError",
     "evalue": "'break' outside loop (3647706637.py, line 3)",
     "output_type": "error",
     "traceback": [
      "\u001b[1;36m  Cell \u001b[1;32mIn[31], line 3\u001b[1;36m\u001b[0m\n\u001b[1;33m    break\u001b[0m\n\u001b[1;37m    ^\u001b[0m\n\u001b[1;31mSyntaxError\u001b[0m\u001b[1;31m:\u001b[0m 'break' outside loop\n"
     ]
    }
   ],
   "source": [
    "try:\n",
    "    print(5/0)\n",
    "    break\n",
    "except:\n",
    "    print(\"Sorry, something went wrong...\")\n",
    "except (ValueError, ZeroDivisionError):\n",
    "    print(\"Too bad...\")\n",
    " \n",
    "print(my_list)"
   ]
  },
  {
   "cell_type": "code",
   "execution_count": null,
   "id": "09f72a1e",
   "metadata": {},
   "outputs": [],
   "source": []
  }
 ],
 "metadata": {
  "kernelspec": {
   "display_name": "Python 3 (ipykernel)",
   "language": "python",
   "name": "python3"
  },
  "language_info": {
   "codemirror_mode": {
    "name": "ipython",
    "version": 3
   },
   "file_extension": ".py",
   "mimetype": "text/x-python",
   "name": "python",
   "nbconvert_exporter": "python",
   "pygments_lexer": "ipython3",
   "version": "3.11.5"
  }
 },
 "nbformat": 4,
 "nbformat_minor": 5
}
