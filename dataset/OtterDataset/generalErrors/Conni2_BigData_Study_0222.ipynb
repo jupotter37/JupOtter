{
  "nbformat": 4,
  "nbformat_minor": 0,
  "metadata": {
    "colab": {
      "provenance": [],
      "toc_visible": true
    },
    "kernelspec": {
      "name": "python3",
      "display_name": "Python 3"
    },
    "language_info": {
      "name": "python"
    }
  },
  "cells": [
    {
      "cell_type": "markdown",
      "source": [
        "# bool"
      ],
      "metadata": {
        "id": "YIuw8e8RP5G0"
      }
    },
    {
      "cell_type": "code",
      "source": [
        "# Bool 자료형 (True False 두가지 값만 갖고 있음)\n",
        "print(True)\n",
        "print(type(True))"
      ],
      "metadata": {
        "colab": {
          "base_uri": "https://localhost:8080/"
        },
        "id": "-iB8835NLbho",
        "outputId": "df7a6f28-1c31-4167-ef5b-42c0d7571394"
      },
      "execution_count": 1,
      "outputs": [
        {
          "output_type": "stream",
          "name": "stdout",
          "text": [
            "True\n",
            "<class 'bool'>\n"
          ]
        }
      ]
    },
    {
      "cell_type": "code",
      "source": [
        "print(False)\n",
        "print(type(False))"
      ],
      "metadata": {
        "id": "csM68083LZyV",
        "outputId": "7b2a9732-9adf-4731-8405-0154ba7cb66b",
        "colab": {
          "base_uri": "https://localhost:8080/"
        }
      },
      "execution_count": 2,
      "outputs": [
        {
          "output_type": "stream",
          "name": "stdout",
          "text": [
            "False\n",
            "<class 'bool'>\n"
          ]
        }
      ]
    },
    {
      "cell_type": "code",
      "source": [
        "print(1 == 2)\n",
        "print(1 != 2)\n",
        "print(1 < 2)\n",
        "print(1 > 2)\n",
        "print(1 <= 2)\n",
        "print(1 >= 2)"
      ],
      "metadata": {
        "id": "RmNF5c8jQMTI",
        "outputId": "9ca45e66-0edd-44c2-c724-14c3ba7f3508",
        "colab": {
          "base_uri": "https://localhost:8080/"
        }
      },
      "execution_count": 3,
      "outputs": [
        {
          "output_type": "stream",
          "name": "stdout",
          "text": [
            "False\n",
            "True\n",
            "True\n",
            "False\n",
            "True\n",
            "False\n"
          ]
        }
      ]
    },
    {
      "cell_type": "code",
      "source": [
        "# 문자형 bool - 앞일수록 작은 값 가짐\n",
        "print(\"가\" == \"나\")\n",
        "print(\"가\" != \"나\")\n",
        "print(\"가\" < \"나\")\n",
        "print(\"가\" > \"나\")"
      ],
      "metadata": {
        "colab": {
          "base_uri": "https://localhost:8080/"
        },
        "id": "7_BV625xQ1a5",
        "outputId": "27bf2e17-4ba9-45eb-f5d8-afdbf5090bcb"
      },
      "execution_count": 4,
      "outputs": [
        {
          "output_type": "stream",
          "name": "stdout",
          "text": [
            "False\n",
            "True\n",
            "True\n",
            "False\n"
          ]
        }
      ]
    },
    {
      "cell_type": "code",
      "source": [
        "x=25; print(10<x<30)"
      ],
      "metadata": {
        "colab": {
          "base_uri": "https://localhost:8080/"
        },
        "id": "Ajw4ouh0KOfg",
        "outputId": "ddd5bb10-3879-4f6d-e5eb-355fc80a6d66"
      },
      "execution_count": 5,
      "outputs": [
        {
          "output_type": "stream",
          "name": "stdout",
          "text": [
            "True\n"
          ]
        }
      ]
    },
    {
      "cell_type": "code",
      "source": [
        "x=5; print(10<x<30)"
      ],
      "metadata": {
        "colab": {
          "base_uri": "https://localhost:8080/"
        },
        "id": "5oLLTe4rKPec",
        "outputId": "51216885-a933-4f2f-9c18-76df77cc16e2"
      },
      "execution_count": 6,
      "outputs": [
        {
          "output_type": "stream",
          "name": "stdout",
          "text": [
            "False\n"
          ]
        }
      ]
    },
    {
      "cell_type": "code",
      "source": [
        "# not True = False\n",
        "print(True)\n",
        "print(not True)"
      ],
      "metadata": {
        "colab": {
          "base_uri": "https://localhost:8080/"
        },
        "id": "7SL-x7UlQ9Ku",
        "outputId": "5c3b4a76-74a0-4a11-923b-a865f41dffd8"
      },
      "execution_count": 7,
      "outputs": [
        {
          "output_type": "stream",
          "name": "stdout",
          "text": [
            "True\n",
            "False\n"
          ]
        }
      ]
    },
    {
      "cell_type": "code",
      "source": [
        "x = 5\n",
        "print(x < 10)\n",
        "print(not x < 10)"
      ],
      "metadata": {
        "colab": {
          "base_uri": "https://localhost:8080/"
        },
        "id": "UYbcKuFgRk1O",
        "outputId": "01e6d7e8-cbad-4da7-bb83-c14fad3cd2c3"
      },
      "execution_count": 8,
      "outputs": [
        {
          "output_type": "stream",
          "name": "stdout",
          "text": [
            "True\n",
            "False\n"
          ]
        }
      ]
    },
    {
      "cell_type": "code",
      "source": [
        "# and (&, 교집합) 와 or(|, 합집합)\n",
        "# 반드시 & 또는 | 사용시 ()로 묶어야함\n",
        "x=25; print((10<x) & (x<30))"
      ],
      "metadata": {
        "colab": {
          "base_uri": "https://localhost:8080/"
        },
        "id": "eJW_4bKwK6nB",
        "outputId": "2213c605-6a0a-459a-b1af-b2ac61accca0"
      },
      "execution_count": 9,
      "outputs": [
        {
          "output_type": "stream",
          "name": "stdout",
          "text": [
            "True\n"
          ]
        }
      ]
    },
    {
      "cell_type": "code",
      "source": [
        "x=25; print((10<x) & (x>30))"
      ],
      "metadata": {
        "colab": {
          "base_uri": "https://localhost:8080/"
        },
        "id": "RJMiSFkSLPaE",
        "outputId": "e3d13d6e-f13b-4fba-81a7-010880e8cab3"
      },
      "execution_count": 10,
      "outputs": [
        {
          "output_type": "stream",
          "name": "stdout",
          "text": [
            "False\n"
          ]
        }
      ]
    },
    {
      "cell_type": "code",
      "source": [
        "x=5; print((10<x) | (x<30))"
      ],
      "metadata": {
        "colab": {
          "base_uri": "https://localhost:8080/"
        },
        "id": "1gL3SFWxLADz",
        "outputId": "0e61fc7d-63a6-4b1e-c459-3135cce41ea3"
      },
      "execution_count": 11,
      "outputs": [
        {
          "output_type": "stream",
          "name": "stdout",
          "text": [
            "True\n"
          ]
        }
      ]
    },
    {
      "cell_type": "code",
      "source": [
        "x=5; print((10<x) | (x>30))"
      ],
      "metadata": {
        "colab": {
          "base_uri": "https://localhost:8080/"
        },
        "id": "Ts4iLgisLLso",
        "outputId": "218a4bb1-0c41-4cc3-b7b8-9a7b3676a058"
      },
      "execution_count": 12,
      "outputs": [
        {
          "output_type": "stream",
          "name": "stdout",
          "text": [
            "False\n"
          ]
        }
      ]
    },
    {
      "cell_type": "markdown",
      "source": [
        "## if 조건문"
      ],
      "metadata": {
        "id": "ni8kmX0fl3XP"
      }
    },
    {
      "cell_type": "code",
      "source": [
        "# 조건문 if문\n",
        "# 조건이 1개 & 조건 만족할 때 명령어 실행\n",
        "number = int(input(\"정수를 입력하세요>\"))\n",
        "if number > 0:\n",
        "  print(\"입력한 정수값은 양수입니다.\")\n",
        "if number == 0:\n",
        "  print(\"입력한 정수값은 0입니다.\")\n",
        "if number < 0:\n",
        "  print(\"입력한 정수값은 음수입니다.\")"
      ],
      "metadata": {
        "colab": {
          "base_uri": "https://localhost:8080/"
        },
        "id": "FGEWOjLpR2WU",
        "outputId": "a210c596-5dca-4b53-a851-57fb4b0eee4b"
      },
      "execution_count": 13,
      "outputs": [
        {
          "output_type": "stream",
          "name": "stdout",
          "text": [
            "정수를 입력하세요>23\n",
            "입력한 정수값은 양수입니다.\n"
          ]
        }
      ]
    },
    {
      "cell_type": "code",
      "source": [
        "# 짝수 홀수 구분하는 프로그램\n",
        "\n",
        "num = int(input(\"숫자를 입력하세요:\"))\n",
        "if num % 2 == 1:\n",
        "  print(\"홀수 입니다.\")\n",
        "if num % 2 == 0:\n",
        "  print(\"짝수 입니다.\")"
      ],
      "metadata": {
        "colab": {
          "base_uri": "https://localhost:8080/"
        },
        "id": "G9su-FqGPUaV",
        "outputId": "ba2baaa7-7e74-4667-98f8-8834915a8ea8"
      },
      "execution_count": 14,
      "outputs": [
        {
          "output_type": "stream",
          "name": "stdout",
          "text": [
            "숫자를 입력하세요:31\n",
            "홀수 입니다.\n"
          ]
        }
      ]
    },
    {
      "cell_type": "code",
      "source": [
        "# 짝수, 홀수 구분하는 프로그램\n",
        "no = input(\"숫자(정수)를 입력하세요> \")\n",
        "last_no = int(no[-1]) # 마지막 자리수만 가져오면 되는 것이기 때문\n",
        "if last_no == 0 or last_no == 2 or last_no == 4 or last_no == 6 or last_no == 8:\n",
        "  print(\"현재 입력한 숫자는 짝수입니다.\")\n",
        "if last_no == 1 or last_no == 3 or last_no == 5 or last_no == 7 or last_no == 9:\n",
        "  print(\"현재 입력한 숫자는 홀수입니다.\")"
      ],
      "metadata": {
        "colab": {
          "base_uri": "https://localhost:8080/"
        },
        "id": "4Vy2vJGLeKET",
        "outputId": "19723631-621f-45f0-af84-8e98c9c5dcb8"
      },
      "execution_count": 15,
      "outputs": [
        {
          "output_type": "stream",
          "name": "stdout",
          "text": [
            "숫자(정수)를 입력하세요> 22\n",
            "현재 입력한 숫자는 짝수입니다.\n"
          ]
        }
      ]
    },
    {
      "cell_type": "code",
      "source": [
        "no = input(\"숫자(정수)를 입력하세요> \")\n",
        "last_no = int(no[-1])\n",
        "if last_no % 2 == 0:\n",
        "  print(\"현재 입력한 숫자는 짝수입니다.\")\n",
        "if last_no % 2 == 1:\n",
        "  print(\"현재 입력한 숫자는 홀수입니다.\")"
      ],
      "metadata": {
        "colab": {
          "base_uri": "https://localhost:8080/"
        },
        "id": "RUA7pgCJgH9I",
        "outputId": "8b58e6f6-8651-417e-dd79-deda4c8bf8a7"
      },
      "execution_count": 16,
      "outputs": [
        {
          "output_type": "stream",
          "name": "stdout",
          "text": [
            "숫자(정수)를 입력하세요> 22\n",
            "현재 입력한 숫자는 짝수입니다.\n"
          ]
        }
      ]
    },
    {
      "cell_type": "code",
      "source": [
        "# 문자열로 냅둔 채로 in 연산자 사용했음\n",
        "no = input(\"숫자(정수)를 입력하세요> \")\n",
        "last_no = no[-1]\n",
        "if last_no in \"02468\": #숫자로 안바꾸고 문자열 안에 있는지 없는지로 확인\n",
        "  print(\"현재 입력한 숫자는 짝수입니다.\")\n",
        "if last_no in \"13579\":\n",
        "  print(\"현재 입력한 숫자는 홀수입니다.\")"
      ],
      "metadata": {
        "colab": {
          "base_uri": "https://localhost:8080/"
        },
        "id": "jNLUNEfcjnol",
        "outputId": "e7ac1cf9-0930-4e0a-f3d4-8a87ae212a7b"
      },
      "execution_count": 17,
      "outputs": [
        {
          "output_type": "stream",
          "name": "stdout",
          "text": [
            "숫자(정수)를 입력하세요> 12\n",
            "현재 입력한 숫자는 짝수입니다.\n"
          ]
        }
      ]
    },
    {
      "cell_type": "markdown",
      "source": [
        "## 현재 날짜 시간"
      ],
      "metadata": {
        "id": "RLnClmPEX_Oj"
      }
    },
    {
      "cell_type": "code",
      "source": [
        "import datetime\n",
        "now = datetime.datetime.now()\n",
        "print(now)\n",
        "print(now.year)\n",
        "print(now.month)\n",
        "print(now.day)\n",
        "print(now.hour)\n",
        "print(type(now.hour))\n",
        "print(now.minute)\n",
        "print(now.second)\n",
        "print(now.weekday())\n",
        "#Week day 0: 월, 1: 화, 2: 수, 3: 목, 4: 금, 5: 토, 6: 일"
      ],
      "metadata": {
        "id": "fujNgZszYCQD",
        "colab": {
          "base_uri": "https://localhost:8080/"
        },
        "outputId": "72688d6e-7243-428a-ad23-4bb716dfaa58"
      },
      "execution_count": 18,
      "outputs": [
        {
          "output_type": "stream",
          "name": "stdout",
          "text": [
            "2024-02-22 12:21:16.479432\n",
            "2024\n",
            "2\n",
            "22\n",
            "12\n",
            "<class 'int'>\n",
            "21\n",
            "16\n",
            "3\n"
          ]
        }
      ]
    },
    {
      "cell_type": "code",
      "source": [
        "import datetime\n",
        "now = datetime.datetime.now()\n",
        "\"{}년 {}월 {}일 {}시 {}분 {}초입니다.\".format(now.year, now.month, now.day,\n",
        "                                     now.hour, now.minute, now.second)"
      ],
      "metadata": {
        "colab": {
          "base_uri": "https://localhost:8080/",
          "height": 35
        },
        "id": "7s-N_abCZRf8",
        "outputId": "df861314-dbf2-4c2a-d5c6-911a685fb976"
      },
      "execution_count": 19,
      "outputs": [
        {
          "output_type": "execute_result",
          "data": {
            "text/plain": [
              "'2024년 2월 22일 12시 21분 19초입니다.'"
            ],
            "application/vnd.google.colaboratory.intrinsic+json": {
              "type": "string"
            }
          },
          "metadata": {},
          "execution_count": 19
        }
      ]
    },
    {
      "cell_type": "code",
      "source": [
        "#연습문제 계절 알려주는 프로그램 만들기\n",
        "import datetime\n",
        "now = datetime.datetime.now()\n",
        "month = now.month\n",
        "if 3<= month <=5:\n",
        "  print('봄')\n",
        "elif 6 <= month <= 8:\n",
        "  print('여름')\n",
        "elif 9 <= month <= 11:\n",
        "  print('가을')\n",
        "elif month ==1 or month == 2 or month ==12:\n",
        "  print('겨울')"
      ],
      "metadata": {
        "colab": {
          "base_uri": "https://localhost:8080/"
        },
        "id": "UVaT6bmzWT2H",
        "outputId": "1238dd68-8242-4eb6-8641-39cd5db6f8ef"
      },
      "execution_count": 20,
      "outputs": [
        {
          "output_type": "stream",
          "name": "stdout",
          "text": [
            "겨울\n"
          ]
        }
      ]
    },
    {
      "cell_type": "code",
      "source": [
        "# 연습문제 오전, 오후 알려주는 프로그램\n",
        "import datetime\n",
        "now = datetime.datetime.now()\n",
        "time = now.hour\n",
        "if 0 <= time < 12:\n",
        "  print(\"오전\")\n",
        "else:\n",
        "  print(\"오후\")"
      ],
      "metadata": {
        "colab": {
          "base_uri": "https://localhost:8080/"
        },
        "id": "T9n-X3hbYDc2",
        "outputId": "9b9f9068-b96e-41b0-ae49-10d684527e94"
      },
      "execution_count": 21,
      "outputs": [
        {
          "output_type": "stream",
          "name": "stdout",
          "text": [
            "오후\n"
          ]
        }
      ]
    },
    {
      "cell_type": "code",
      "source": [
        "# 교수님 answer\n",
        "# 계절을 알려주는 프로그램\n",
        "import datetime\n",
        "now = datetime.datetime.now()\n",
        "if 3 <= now.month <= 5:\n",
        "  print(\"와 봄이야\")\n",
        "if 6 <= now.month <= 8:\n",
        "  print(\"야 여름이다\")\n",
        "if 9 <= now.month <= 11:\n",
        "  print(\"고독한 가을이야\")\n",
        "if now.month == 12 or 1 <= now.month <= 2:\n",
        "  print(\"겨울의 왕국\")"
      ],
      "metadata": {
        "id": "Bx1qk761ZOAk",
        "colab": {
          "base_uri": "https://localhost:8080/"
        },
        "outputId": "2b187d5d-1212-4592-a189-1047b9372fa5"
      },
      "execution_count": 22,
      "outputs": [
        {
          "output_type": "stream",
          "name": "stdout",
          "text": [
            "겨울의 왕국\n"
          ]
        }
      ]
    },
    {
      "cell_type": "code",
      "source": [
        "# 오전 오후를 구별하는 프로그램\n",
        "import datetime\n",
        "now = datetime.datetime.now()\n",
        "korea_hour = now.hour+9\n",
        "if korea_hour < 12:\n",
        "  print(\"현재 오전 {}시입니다. ㅠㅠ\".format(korea_hour))\n",
        "if korea_hour >= 12:\n",
        "  print(\"현재 오후 {}시입니다. ^^\".format(korea_hour))"
      ],
      "metadata": {
        "id": "3kzaeDLoYXXA",
        "outputId": "074fb2bc-9d29-4e34-ffdd-a8660cfd1dee",
        "colab": {
          "base_uri": "https://localhost:8080/"
        }
      },
      "execution_count": 23,
      "outputs": [
        {
          "output_type": "stream",
          "name": "stdout",
          "text": [
            "현재 오후 21시입니다. ^^\n"
          ]
        }
      ]
    },
    {
      "cell_type": "markdown",
      "source": [
        "## if ~ else 조건문"
      ],
      "metadata": {
        "id": "Klle3Matl9EE"
      }
    },
    {
      "cell_type": "code",
      "source": [
        "no = input(\"숫자(정수)를 입력하세요> \")\n",
        "last_no = int(no[-1])\n",
        "if last_no % 2 == 0:\n",
        "  print(\"현재 입력한 숫자는 짝수입니다.\")\n",
        "else:\n",
        "  print(\"현재 입력한 숫자는 홀수입니다.\")"
      ],
      "metadata": {
        "id": "eLpj7xv4kJCk",
        "colab": {
          "base_uri": "https://localhost:8080/"
        },
        "outputId": "8195e087-d4c9-4a05-f6a9-0649d63ec6e1"
      },
      "execution_count": 24,
      "outputs": [
        {
          "output_type": "stream",
          "name": "stdout",
          "text": [
            "숫자(정수)를 입력하세요> 2\n",
            "현재 입력한 숫자는 짝수입니다.\n"
          ]
        }
      ]
    },
    {
      "cell_type": "code",
      "source": [
        "#if  elif else 실습 - 계절\n",
        "import datetime\n",
        "now = datetime.datetime.now()\n",
        "month = now.month\n",
        "if 3<= month <=5:\n",
        "  print('봄')\n",
        "elif 6 <= month <= 8:\n",
        "  print('여름')\n",
        "elif 9 <= month <= 11:\n",
        "  print('가을')\n",
        "else:\n",
        "  print('겨울')"
      ],
      "metadata": {
        "colab": {
          "base_uri": "https://localhost:8080/"
        },
        "id": "FCoA4c0ceAhq",
        "outputId": "5d1c3a0a-5de8-48a6-f93c-695580a17432"
      },
      "execution_count": 25,
      "outputs": [
        {
          "output_type": "stream",
          "name": "stdout",
          "text": [
            "겨울\n"
          ]
        }
      ]
    },
    {
      "cell_type": "code",
      "source": [
        "# 학점 정의 - 근데 elif 하면 앞에게 걸러지기 때문에 굳이 앞에서 걸러지는 범위는 다시 반복하지 않아도 됨.\n",
        "gpa = float(input())\n",
        "if 3.5 < gpa <= 4.5:\n",
        "  print('A')\n",
        "elif 2.5 < gpa <= 3.5:\n",
        "  print('B')\n",
        "elif 1.5 < gpa <= 2.5:\n",
        "  print('C')\n",
        "elif 0 < gpa <= 1.5:\n",
        "  print('D')\n",
        "else:\n",
        "  print('F')"
      ],
      "metadata": {
        "colab": {
          "base_uri": "https://localhost:8080/"
        },
        "id": "uoEyAqKbeIV5",
        "outputId": "69680927-d0c6-4d01-c806-2baeccbbc991"
      },
      "execution_count": 26,
      "outputs": [
        {
          "output_type": "stream",
          "name": "stdout",
          "text": [
            "2.5\n",
            "C\n"
          ]
        }
      ]
    },
    {
      "cell_type": "markdown",
      "source": [
        "## if ~ elif ~ else 조건문"
      ],
      "metadata": {
        "id": "iBNZ3oeynThb"
      }
    },
    {
      "cell_type": "code",
      "source": [
        "# 계절을 알려주는 프로그램\n",
        "import datetime\n",
        "now = datetime.datetime.now()\n",
        "if 3 <= now.month <= 5:\n",
        "  print(\"와 봄이야\")\n",
        "elif 6 <= now.month <= 8:\n",
        "  print(\"야 여름이다\")\n",
        "elif 9 <= now.month <= 11:\n",
        "  print(\"고독한 가을이야\")\n",
        "else:\n",
        "  print(\"겨울의 왕국\")"
      ],
      "metadata": {
        "id": "3HvTp0DlmZyT",
        "colab": {
          "base_uri": "https://localhost:8080/"
        },
        "outputId": "f741ff9a-da70-4ea0-92ae-f53a3dba72b8"
      },
      "execution_count": 28,
      "outputs": [
        {
          "output_type": "stream",
          "name": "stdout",
          "text": [
            "겨울의 왕국\n"
          ]
        }
      ]
    },
    {
      "cell_type": "code",
      "source": [
        "# 학점을 알려주는 프로그램\n",
        "# A: 3.5~4.5\n",
        "# B: 2.5~3.5\n",
        "# C: 1.5~2.5\n",
        "# D: 0~1.5\n",
        "# F: 0\n",
        "score = float(input(\"학점을 입력하세요> \"))\n",
        "if 3.5 <= score <= 4.5:\n",
        "  print(\"당신의 학점은 A입니다.\")\n",
        "\n",
        "#근데 위에서 이미 한번 걸러지니까 굳이 이렇게 안써도 되고\n",
        "elif 2.5 <= score < 3.5:\n",
        "  print(\"당신의 학점은 B입니다.\")\n",
        "elif 1.5 <= score < 2.5:\n",
        "  print(\"당신의 학점은 C입니다.\")\n",
        "elif 0 < score < 1.5:\n",
        "  print(\"당신의 학점은 D입니다.\")\n",
        "else:\n",
        "  print(\"당신의 학점은 F입니다.\")"
      ],
      "metadata": {
        "colab": {
          "base_uri": "https://localhost:8080/"
        },
        "id": "OyR4IOWunq45",
        "outputId": "859f1624-d1c0-4b7a-a1f3-939a7df7e797"
      },
      "execution_count": 29,
      "outputs": [
        {
          "output_type": "stream",
          "name": "stdout",
          "text": [
            "학점을 입력하세요> 3.2\n",
            "당신의 학점은 B입니다.\n"
          ]
        }
      ]
    },
    {
      "cell_type": "code",
      "source": [
        "#이렇게 앞에서 걸러진건 빼고 쓰는게 컴퓨터한테 더 좋음\n",
        "score = float(input(\"학점을 입력하세요> \"))\n",
        "if 3.5 <= score <= 4.5:\n",
        "  print(\"당신의 학점은 A입니다.\")\n",
        "elif 2.5 <= score:\n",
        "  print(\"당신의 학점은 B입니다.\")\n",
        "elif 1.5 <= score:\n",
        "  print(\"당신의 학점은 C입니다.\")\n",
        "elif 0 < score:\n",
        "  print(\"당신의 학점은 D입니다.\")\n",
        "else:\n",
        "  print(\"당신의 학점은 F입니다.\")"
      ],
      "metadata": {
        "colab": {
          "base_uri": "https://localhost:8080/"
        },
        "id": "NjS3POpjkBLO",
        "outputId": "83a018d1-da50-4362-e48e-64a04150ebf3"
      },
      "execution_count": 30,
      "outputs": [
        {
          "output_type": "stream",
          "name": "stdout",
          "text": [
            "학점을 입력하세요> 1.5\n",
            "당신의 학점은 C입니다.\n"
          ]
        }
      ]
    },
    {
      "cell_type": "markdown",
      "source": [
        "## 조건문에 들어가면 False 로 바뀌는 값"
      ],
      "metadata": {
        "id": "TVHPFE3EstTe"
      }
    },
    {
      "cell_type": "code",
      "source": [
        "# 조건문이 True일 때 아래 명령이 실행되는데 None, 0, 빈 자료형은 무조건 True가 아님!!!!!!!!\n",
        "if None:\n",
        "  print(\"None 값은 현재 True입니다.\")\n",
        "else:\n",
        "  print(\"None 값은 현재 False입니다.\")"
      ],
      "metadata": {
        "colab": {
          "base_uri": "https://localhost:8080/"
        },
        "id": "5sxD2moUsxoo",
        "outputId": "8ce9202b-c5ac-476a-d8a9-425a01eded2d"
      },
      "execution_count": 31,
      "outputs": [
        {
          "output_type": "stream",
          "name": "stdout",
          "text": [
            "None 값은 현재 False입니다.\n"
          ]
        }
      ]
    },
    {
      "cell_type": "code",
      "source": [
        "if 0:\n",
        "  print(\"0 값은 현재 True입니다.\")\n",
        "else:\n",
        "  print(\"0 값은 현재 False입니다.\")"
      ],
      "metadata": {
        "colab": {
          "base_uri": "https://localhost:8080/"
        },
        "id": "2a1LUCKltRDg",
        "outputId": "7b6cbff7-1a73-412e-b8c5-2b98df6f47c4"
      },
      "execution_count": 32,
      "outputs": [
        {
          "output_type": "stream",
          "name": "stdout",
          "text": [
            "0 값은 현재 False입니다.\n"
          ]
        }
      ]
    },
    {
      "cell_type": "code",
      "source": [
        "if []:\n",
        "  print(\"리스트 값은 현재 True입니다.\")\n",
        "else:\n",
        "  print(\"리스트 값은 현재 False입니다.\")"
      ],
      "metadata": {
        "colab": {
          "base_uri": "https://localhost:8080/"
        },
        "id": "HH6EKY8dtfNK",
        "outputId": "869fe83b-8eeb-4cfe-c93c-58e943e06081"
      },
      "execution_count": 33,
      "outputs": [
        {
          "output_type": "stream",
          "name": "stdout",
          "text": [
            "리스트 값은 현재 False입니다.\n"
          ]
        }
      ]
    },
    {
      "cell_type": "code",
      "source": [
        "# 앞선 None, 0, 빈자료형 이외의 것들이 들어오면 무조건 True\n",
        "if 1:\n",
        "  print(\"1 값은 현재 True입니다.\")\n",
        "else:\n",
        "  print(\"1 값은 현재 False입니다.\")"
      ],
      "metadata": {
        "colab": {
          "base_uri": "https://localhost:8080/"
        },
        "id": "k3i98FlHttIB",
        "outputId": "b8d30664-f68c-494b-b126-fe219d7d304f"
      },
      "execution_count": 34,
      "outputs": [
        {
          "output_type": "stream",
          "name": "stdout",
          "text": [
            "1 값은 현재 True입니다.\n"
          ]
        }
      ]
    },
    {
      "cell_type": "markdown",
      "source": [
        "## pass 키워드"
      ],
      "metadata": {
        "id": "PHUzb-xdxPUf"
      }
    },
    {
      "cell_type": "code",
      "source": [
        "if 4 % 2 == 0:\n",
        "print(\"짝수\")"
      ],
      "metadata": {
        "colab": {
          "base_uri": "https://localhost:8080/",
          "height": 110
        },
        "id": "XqweCLWpgY9D",
        "outputId": "40add523-4c9f-4c88-a16a-25a2b93e83cd"
      },
      "execution_count": 35,
      "outputs": [
        {
          "output_type": "error",
          "ename": "IndentationError",
          "evalue": "expected an indented block after 'if' statement on line 1 (<ipython-input-35-f3ef2f22c11e>, line 2)",
          "traceback": [
            "\u001b[0;36m  File \u001b[0;32m\"<ipython-input-35-f3ef2f22c11e>\"\u001b[0;36m, line \u001b[0;32m2\u001b[0m\n\u001b[0;31m    print(\"짝수\")\u001b[0m\n\u001b[0m    ^\u001b[0m\n\u001b[0;31mIndentationError\u001b[0m\u001b[0;31m:\u001b[0m expected an indented block after 'if' statement on line 1\n"
          ]
        }
      ]
    },
    {
      "cell_type": "code",
      "source": [
        "if 4 % 2 == 0:\n",
        "  print(\"짝수\")"
      ],
      "metadata": {
        "colab": {
          "base_uri": "https://localhost:8080/"
        },
        "id": "W5dwL9regoff",
        "outputId": "d559dc76-68c9-42de-b8b4-9b79238ece11"
      },
      "execution_count": 36,
      "outputs": [
        {
          "output_type": "stream",
          "name": "stdout",
          "text": [
            "짝수\n"
          ]
        }
      ]
    },
    {
      "cell_type": "code",
      "source": [
        "#pass 를 쓰면 코드를 실행했을 때 오류가 안남\n",
        "no = input(\"숫자(정수)를 입력하세요> \")\n",
        "last_no = int(no[-1])\n",
        "if last_no % 2 == 0:\n",
        "  pass\n",
        "else:\n",
        "  pass"
      ],
      "metadata": {
        "colab": {
          "base_uri": "https://localhost:8080/"
        },
        "id": "dAc1bbUrxON6",
        "outputId": "4f75ced7-d855-4bd4-b4cd-b1796304b7b7"
      },
      "execution_count": 37,
      "outputs": [
        {
          "name": "stdout",
          "output_type": "stream",
          "text": [
            "숫자(정수)를 입력하세요> 2\n"
          ]
        }
      ]
    },
    {
      "cell_type": "code",
      "source": [
        "#대신에 pass를 쓰면 오류가 안떠서 어디서 코드에 문제가 있는지 안보임. 그때에는 raise NotImpletmentedError를 써주면됨\n",
        "no = input(\"숫자(정수)를 입력하세요> \")\n",
        "last_no = int(no[-1])\n",
        "if last_no % 2 == 0:\n",
        "  raise NotImplementedError\n",
        "else:\n",
        "  raise NotImplementedError"
      ],
      "metadata": {
        "colab": {
          "base_uri": "https://localhost:8080/",
          "height": 238
        },
        "id": "7JxMWANmxk8v",
        "outputId": "8b4fab87-dad1-486b-9379-cb9f8d5eface"
      },
      "execution_count": 38,
      "outputs": [
        {
          "name": "stdout",
          "output_type": "stream",
          "text": [
            "숫자(정수)를 입력하세요> 4\n"
          ]
        },
        {
          "output_type": "error",
          "ename": "NotImplementedError",
          "evalue": "",
          "traceback": [
            "\u001b[0;31m---------------------------------------------------------------------------\u001b[0m",
            "\u001b[0;31mNotImplementedError\u001b[0m                       Traceback (most recent call last)",
            "\u001b[0;32m<ipython-input-38-fede3e8c744a>\u001b[0m in \u001b[0;36m<cell line: 4>\u001b[0;34m()\u001b[0m\n\u001b[1;32m      3\u001b[0m \u001b[0mlast_no\u001b[0m \u001b[0;34m=\u001b[0m \u001b[0mint\u001b[0m\u001b[0;34m(\u001b[0m\u001b[0mno\u001b[0m\u001b[0;34m[\u001b[0m\u001b[0;34m-\u001b[0m\u001b[0;36m1\u001b[0m\u001b[0;34m]\u001b[0m\u001b[0;34m)\u001b[0m\u001b[0;34m\u001b[0m\u001b[0;34m\u001b[0m\u001b[0m\n\u001b[1;32m      4\u001b[0m \u001b[0;32mif\u001b[0m \u001b[0mlast_no\u001b[0m \u001b[0;34m%\u001b[0m \u001b[0;36m2\u001b[0m \u001b[0;34m==\u001b[0m \u001b[0;36m0\u001b[0m\u001b[0;34m:\u001b[0m\u001b[0;34m\u001b[0m\u001b[0;34m\u001b[0m\u001b[0m\n\u001b[0;32m----> 5\u001b[0;31m   \u001b[0;32mraise\u001b[0m \u001b[0mNotImplementedError\u001b[0m\u001b[0;34m\u001b[0m\u001b[0;34m\u001b[0m\u001b[0m\n\u001b[0m\u001b[1;32m      6\u001b[0m \u001b[0;32melse\u001b[0m\u001b[0;34m:\u001b[0m\u001b[0;34m\u001b[0m\u001b[0;34m\u001b[0m\u001b[0m\n\u001b[1;32m      7\u001b[0m   \u001b[0;32mraise\u001b[0m \u001b[0mNotImplementedError\u001b[0m\u001b[0;34m\u001b[0m\u001b[0;34m\u001b[0m\u001b[0m\n",
            "\u001b[0;31mNotImplementedError\u001b[0m: "
          ]
        }
      ]
    },
    {
      "cell_type": "markdown",
      "source": [
        "## 확인 문제"
      ],
      "metadata": {
        "id": "7FHTpHhcawiV"
      }
    },
    {
      "cell_type": "code",
      "source": [
        "2+10=12\n",
        "1+4=5\n",
        "출력 없음"
      ],
      "metadata": {
        "id": "0mmy3eD4nyDc",
        "colab": {
          "base_uri": "https://localhost:8080/",
          "height": 110
        },
        "outputId": "66380cea-c3fd-418a-d1dc-08278635b100"
      },
      "execution_count": 39,
      "outputs": [
        {
          "output_type": "error",
          "ename": "SyntaxError",
          "evalue": "cannot assign to expression here. Maybe you meant '==' instead of '='? (<ipython-input-39-4f37c64e0274>, line 1)",
          "traceback": [
            "\u001b[0;36m  File \u001b[0;32m\"<ipython-input-39-4f37c64e0274>\"\u001b[0;36m, line \u001b[0;32m1\u001b[0m\n\u001b[0;31m    2+10=12\u001b[0m\n\u001b[0m    ^\u001b[0m\n\u001b[0;31mSyntaxError\u001b[0m\u001b[0;31m:\u001b[0m cannot assign to expression here. Maybe you meant '==' instead of '='?\n"
          ]
        }
      ]
    },
    {
      "cell_type": "code",
      "source": [
        "x = 15\n",
        "if x > 10 & x < 20:\n",
        "  print(\"조건에 맞습니다.\")"
      ],
      "metadata": {
        "colab": {
          "base_uri": "https://localhost:8080/"
        },
        "id": "feHET_fNn3H0",
        "outputId": "c39f4dcd-fddf-4de7-b4c8-dbba11908eb3"
      },
      "execution_count": 40,
      "outputs": [
        {
          "output_type": "stream",
          "name": "stdout",
          "text": [
            "조건에 맞습니다.\n"
          ]
        }
      ]
    },
    {
      "cell_type": "code",
      "source": [
        "x = 15\n",
        "if (x > 10) & (x < 20):\n",
        "  print(\"조건에 맞습니다.\")"
      ],
      "metadata": {
        "colab": {
          "base_uri": "https://localhost:8080/"
        },
        "id": "w3zR11v7od3d",
        "outputId": "4b6a789e-1f7e-467b-b8ac-4c512e7e04f1"
      },
      "execution_count": 41,
      "outputs": [
        {
          "output_type": "stream",
          "name": "stdout",
          "text": [
            "조건에 맞습니다.\n"
          ]
        }
      ]
    },
    {
      "cell_type": "code",
      "source": [
        "1996 % 12"
      ],
      "metadata": {
        "colab": {
          "base_uri": "https://localhost:8080/"
        },
        "id": "K_VWlm6rcKrq",
        "outputId": "a8f88a98-7270-4da1-c04f-c3a5a6b622ae"
      },
      "execution_count": 42,
      "outputs": [
        {
          "output_type": "execute_result",
          "data": {
            "text/plain": [
              "4"
            ]
          },
          "metadata": {},
          "execution_count": 42
        }
      ]
    },
    {
      "cell_type": "code",
      "source": [
        "str_input = input(\"태어난 해를 입력해주세요> \")\n",
        "birth_year = int(str_input) % 12\n",
        "\n",
        "if birth_year == 0:\n",
        "    print(\"원숭이 띠입니다.\")\n",
        "elif birth_year == 1:\n",
        "    print(\"닭 띠입니다.\")\n",
        "elif birth_year == 2:\n",
        "    print(\"개 띠입니다.\")\n",
        "elif birth_year == 3:\n",
        "    print(\"돼지 띠입니다.\")\n",
        "elif birth_year == 4:\n",
        "    print(\"쥐 띠입니다.\")\n",
        "elif birth_year == 5:\n",
        "    print(\"소 띠입니다.\")\n",
        "elif birth_year == 6:\n",
        "    print(\"범 띠입니다.\")\n",
        "elif birth_year == 7:\n",
        "    print(\"토끼 띠입니다.\")\n",
        "elif birth_year == 8:\n",
        "    print(\"용 띠입니다.\")\n",
        "elif birth_year == 9:\n",
        "    print(\"뱀 띠입니다.\")\n",
        "elif birth_year == 10:\n",
        "    print(\"말 띠입니다.\")\n",
        "elif birth_year == 11:\n",
        "    print(\"양 띠입니다.\")"
      ],
      "metadata": {
        "colab": {
          "base_uri": "https://localhost:8080/"
        },
        "id": "pMTYIh4Z1dZb",
        "outputId": "6de75406-0427-43f6-8269-a416f209779f"
      },
      "execution_count": 43,
      "outputs": [
        {
          "output_type": "stream",
          "name": "stdout",
          "text": [
            "태어난 해를 입력해주세요> 1998\n",
            "범 띠입니다.\n"
          ]
        }
      ]
    },
    {
      "cell_type": "markdown",
      "source": [
        "# 리스트"
      ],
      "metadata": {
        "id": "_2fXejLm1QxW"
      }
    },
    {
      "cell_type": "code",
      "source": [
        "# 리스트 생성\n",
        "list_1 = [1,2,3,4,5]\n",
        "print(list_1)\n",
        "# 대괄호 안의 개별값 = 요소 = 5개의 요소"
      ],
      "metadata": {
        "colab": {
          "base_uri": "https://localhost:8080/"
        },
        "id": "1KyNZYrQ1SfO",
        "outputId": "f8f8ee14-c186-4e6a-9593-10f1bc78116d"
      },
      "execution_count": 44,
      "outputs": [
        {
          "output_type": "stream",
          "name": "stdout",
          "text": [
            "[1, 2, 3, 4, 5]\n"
          ]
        }
      ]
    },
    {
      "cell_type": "code",
      "source": [
        "list_2 = [\"안\",\"녕\",\"하\",\"세\",\"요\"]\n",
        "print(list_2)"
      ],
      "metadata": {
        "colab": {
          "base_uri": "https://localhost:8080/"
        },
        "id": "PKIvr61e1hHs",
        "outputId": "5526eec6-7193-4c65-e242-cfced0336c47"
      },
      "execution_count": 45,
      "outputs": [
        {
          "output_type": "stream",
          "name": "stdout",
          "text": [
            "['안', '녕', '하', '세', '요']\n"
          ]
        }
      ]
    },
    {
      "cell_type": "code",
      "source": [
        "list_3 = [1, 2, 3, \"안\", \"녕\", True]\n",
        "print(list_3)\n",
        "type(list_3[-1])"
      ],
      "metadata": {
        "colab": {
          "base_uri": "https://localhost:8080/"
        },
        "id": "B5ekGjhH130I",
        "outputId": "d91b4555-2632-4d13-de43-c606521ca003"
      },
      "execution_count": 46,
      "outputs": [
        {
          "output_type": "stream",
          "name": "stdout",
          "text": [
            "[1, 2, 3, '안', '녕', True]\n"
          ]
        },
        {
          "output_type": "execute_result",
          "data": {
            "text/plain": [
              "bool"
            ]
          },
          "metadata": {},
          "execution_count": 46
        }
      ]
    },
    {
      "cell_type": "markdown",
      "source": [
        "## 인덱싱"
      ],
      "metadata": {
        "id": "P5bB4Y8x4LLA"
      }
    },
    {
      "cell_type": "code",
      "source": [
        "# list안에 다양한 자료형을 넣을 수 있음. 아래의 요소는 3개 있는 거임!\n",
        "list_a = [[1,2,3,4], \"안녕하세요\", True]\n",
        "print(list_a)\n",
        "len(list_a)"
      ],
      "metadata": {
        "id": "kMPq3-R52Qs-",
        "colab": {
          "base_uri": "https://localhost:8080/"
        },
        "outputId": "c3ac9d78-3245-4cdd-fa0b-66e9de2c7d43"
      },
      "execution_count": 47,
      "outputs": [
        {
          "output_type": "stream",
          "name": "stdout",
          "text": [
            "[[1, 2, 3, 4], '안녕하세요', True]\n"
          ]
        },
        {
          "output_type": "execute_result",
          "data": {
            "text/plain": [
              "3"
            ]
          },
          "metadata": {},
          "execution_count": 47
        }
      ]
    },
    {
      "cell_type": "code",
      "source": [
        "list_a[0]"
      ],
      "metadata": {
        "id": "eH9jMtrh4cQL",
        "colab": {
          "base_uri": "https://localhost:8080/"
        },
        "outputId": "b70f9f48-1ee8-406d-f5fa-e6749c68013e"
      },
      "execution_count": 48,
      "outputs": [
        {
          "output_type": "execute_result",
          "data": {
            "text/plain": [
              "[1, 2, 3, 4]"
            ]
          },
          "metadata": {},
          "execution_count": 48
        }
      ]
    },
    {
      "cell_type": "code",
      "source": [
        "list_a[1]"
      ],
      "metadata": {
        "id": "l0PVclc34olD",
        "colab": {
          "base_uri": "https://localhost:8080/",
          "height": 35
        },
        "outputId": "226d0ec0-3eb9-41a9-e685-3c76af875478"
      },
      "execution_count": 49,
      "outputs": [
        {
          "output_type": "execute_result",
          "data": {
            "text/plain": [
              "'안녕하세요'"
            ],
            "application/vnd.google.colaboratory.intrinsic+json": {
              "type": "string"
            }
          },
          "metadata": {},
          "execution_count": 49
        }
      ]
    },
    {
      "cell_type": "code",
      "source": [
        "list_a[2]"
      ],
      "metadata": {
        "id": "k_uyX0uS4sZ7",
        "colab": {
          "base_uri": "https://localhost:8080/"
        },
        "outputId": "bac1ed29-0ae2-4025-951b-7ba83746bbd8"
      },
      "execution_count": 50,
      "outputs": [
        {
          "output_type": "execute_result",
          "data": {
            "text/plain": [
              "True"
            ]
          },
          "metadata": {},
          "execution_count": 50
        }
      ]
    },
    {
      "cell_type": "code",
      "source": [
        "# 리스트 안의 리스트 접근 -> 개별 값을 하나씩 꺼낼 수 있음\n",
        "list_a[0][2]"
      ],
      "metadata": {
        "colab": {
          "base_uri": "https://localhost:8080/"
        },
        "id": "f7XYNy5e4uF9",
        "outputId": "1364987a-c784-4d67-acbe-5a8a876c6c6c"
      },
      "execution_count": 51,
      "outputs": [
        {
          "output_type": "execute_result",
          "data": {
            "text/plain": [
              "3"
            ]
          },
          "metadata": {},
          "execution_count": 51
        }
      ]
    },
    {
      "cell_type": "code",
      "source": [
        "# 문자열 안에 있는 것도 꺼내서 쓸 수 있음!\n",
        "list_a[1][2]"
      ],
      "metadata": {
        "colab": {
          "base_uri": "https://localhost:8080/",
          "height": 35
        },
        "id": "I5Pu9hyv4_8c",
        "outputId": "0e40c491-d5f9-43e7-f179-22b5f521ba07"
      },
      "execution_count": 52,
      "outputs": [
        {
          "output_type": "execute_result",
          "data": {
            "text/plain": [
              "'하'"
            ],
            "application/vnd.google.colaboratory.intrinsic+json": {
              "type": "string"
            }
          },
          "metadata": {},
          "execution_count": 52
        }
      ]
    },
    {
      "cell_type": "markdown",
      "source": [
        "## 슬라이싱"
      ],
      "metadata": {
        "id": "SsRdqSd-55vP"
      }
    },
    {
      "cell_type": "code",
      "source": [
        "# 인덱스 범위\n",
        "# 끝번호 포함하지 않음\n",
        "print(list_a[0:2])\n",
        "print(list_a[0:1+1])"
      ],
      "metadata": {
        "colab": {
          "base_uri": "https://localhost:8080/"
        },
        "id": "WjTCqmdx5RSl",
        "outputId": "ae532f14-79ff-48d7-bbaa-1825aca0c966"
      },
      "execution_count": 53,
      "outputs": [
        {
          "output_type": "stream",
          "name": "stdout",
          "text": [
            "[[1, 2, 3, 4], '안녕하세요']\n",
            "[[1, 2, 3, 4], '안녕하세요']\n"
          ]
        }
      ]
    },
    {
      "cell_type": "code",
      "source": [
        "# 시작번호 생략 = 처음부터~\n",
        "print(list_a[:2])\n",
        "print(list_a[:1+1])"
      ],
      "metadata": {
        "colab": {
          "base_uri": "https://localhost:8080/"
        },
        "id": "WQaZFPuz6R7P",
        "outputId": "f53a87e3-ae5e-4606-95cd-8577eb040361"
      },
      "execution_count": 54,
      "outputs": [
        {
          "output_type": "stream",
          "name": "stdout",
          "text": [
            "[[1, 2, 3, 4], '안녕하세요']\n",
            "[[1, 2, 3, 4], '안녕하세요']\n"
          ]
        }
      ]
    },
    {
      "cell_type": "code",
      "source": [
        "# 끝번호 생략 = 끝까지~\n",
        "print(list_a[1:])\n",
        "print(list_a[1:])"
      ],
      "metadata": {
        "colab": {
          "base_uri": "https://localhost:8080/"
        },
        "id": "UX3PSdR46oNJ",
        "outputId": "a7e44277-993b-4668-a568-bb402f787ef7"
      },
      "execution_count": 55,
      "outputs": [
        {
          "output_type": "stream",
          "name": "stdout",
          "text": [
            "['안녕하세요', True]\n",
            "['안녕하세요', True]\n"
          ]
        }
      ]
    },
    {
      "cell_type": "markdown",
      "source": [
        "## 음수 인덱스"
      ],
      "metadata": {
        "id": "klFC0kqS_Cko"
      }
    },
    {
      "cell_type": "code",
      "source": [
        "list_a[-1]"
      ],
      "metadata": {
        "id": "VJ57_SRf6_AR",
        "colab": {
          "base_uri": "https://localhost:8080/"
        },
        "outputId": "a59992a7-bf7f-4e5d-bdeb-ad00f85b5ce0"
      },
      "execution_count": 56,
      "outputs": [
        {
          "output_type": "execute_result",
          "data": {
            "text/plain": [
              "True"
            ]
          },
          "metadata": {},
          "execution_count": 56
        }
      ]
    },
    {
      "cell_type": "code",
      "source": [
        "list_a[-2]"
      ],
      "metadata": {
        "id": "UuCFR-hZ_TFd",
        "colab": {
          "base_uri": "https://localhost:8080/",
          "height": 35
        },
        "outputId": "5f9b9f2e-1673-4e66-bc69-1dbfbe404340"
      },
      "execution_count": 57,
      "outputs": [
        {
          "output_type": "execute_result",
          "data": {
            "text/plain": [
              "'안녕하세요'"
            ],
            "application/vnd.google.colaboratory.intrinsic+json": {
              "type": "string"
            }
          },
          "metadata": {},
          "execution_count": 57
        }
      ]
    },
    {
      "cell_type": "code",
      "source": [
        "list_a[-3]"
      ],
      "metadata": {
        "id": "NsUpwNDn_V7E",
        "colab": {
          "base_uri": "https://localhost:8080/"
        },
        "outputId": "315bc335-966a-4af0-a140-a00df3e5428a"
      },
      "execution_count": 58,
      "outputs": [
        {
          "output_type": "execute_result",
          "data": {
            "text/plain": [
              "[1, 2, 3, 4]"
            ]
          },
          "metadata": {},
          "execution_count": 58
        }
      ]
    },
    {
      "cell_type": "markdown",
      "source": [
        "## 증가값"
      ],
      "metadata": {
        "id": "LRH9t2XjgdWo"
      }
    },
    {
      "cell_type": "code",
      "source": [
        "region = [\"서울\", \"부산\", \"대구\", \"광주\", \"대전\", \"제주\"]\n",
        "region[::2] # 2 칸씩 인덱싱 (건너뛰기 2번하면 뛰기 2번째 값 출력)"
      ],
      "metadata": {
        "colab": {
          "base_uri": "https://localhost:8080/"
        },
        "id": "GRQZhl2nghbx",
        "outputId": "e393486e-5322-443f-9546-1b7c6db95d37"
      },
      "execution_count": 59,
      "outputs": [
        {
          "output_type": "execute_result",
          "data": {
            "text/plain": [
              "['서울', '대구', '대전']"
            ]
          },
          "metadata": {},
          "execution_count": 59
        }
      ]
    },
    {
      "cell_type": "code",
      "source": [
        "# 역으로 슬라이싱\n",
        "# -를 하면 거꾸로 나옴\n",
        "region[::-4]"
      ],
      "metadata": {
        "colab": {
          "base_uri": "https://localhost:8080/"
        },
        "id": "fx8EyplSgtTE",
        "outputId": "9bef0caf-7aaf-4266-ed79-848d8c1e984e"
      },
      "execution_count": 60,
      "outputs": [
        {
          "output_type": "execute_result",
          "data": {
            "text/plain": [
              "['제주', '부산']"
            ]
          },
          "metadata": {},
          "execution_count": 60
        }
      ]
    },
    {
      "cell_type": "code",
      "source": [
        "region[4:0:-1]"
      ],
      "metadata": {
        "colab": {
          "base_uri": "https://localhost:8080/"
        },
        "id": "MQtJdGCNTq5K",
        "outputId": "1f5ce1cf-1df0-4751-bb2d-4ada2295e06b"
      },
      "execution_count": 61,
      "outputs": [
        {
          "output_type": "execute_result",
          "data": {
            "text/plain": [
              "['대전', '광주', '대구', '부산']"
            ]
          },
          "metadata": {},
          "execution_count": 61
        }
      ]
    },
    {
      "cell_type": "markdown",
      "source": [
        "## 리스트 요소 변경"
      ],
      "metadata": {
        "id": "yEGoX1Cp_cj_"
      }
    },
    {
      "cell_type": "code",
      "source": [
        "list_a[2] = False\n",
        "print(list_a[2])\n",
        "print(list_a)"
      ],
      "metadata": {
        "colab": {
          "base_uri": "https://localhost:8080/"
        },
        "id": "7bQyKPXT_Y0V",
        "outputId": "ba61dbd4-3e41-4bb5-e7e8-7da09c148c17"
      },
      "execution_count": 62,
      "outputs": [
        {
          "output_type": "stream",
          "name": "stdout",
          "text": [
            "False\n",
            "[[1, 2, 3, 4], '안녕하세요', False]\n"
          ]
        }
      ]
    },
    {
      "cell_type": "code",
      "source": [
        "list_a[1] = \"잘자요\"\n",
        "print(list_a[1])\n",
        "print(list_a)"
      ],
      "metadata": {
        "colab": {
          "base_uri": "https://localhost:8080/"
        },
        "id": "ECcE6PBd_qTU",
        "outputId": "e17645e7-05d3-45e2-d549-c3317886d558"
      },
      "execution_count": 63,
      "outputs": [
        {
          "output_type": "stream",
          "name": "stdout",
          "text": [
            "잘자요\n",
            "[[1, 2, 3, 4], '잘자요', False]\n"
          ]
        }
      ]
    },
    {
      "cell_type": "code",
      "source": [
        "# 리스트 안의 리스트도 변경 가능\n",
        "list_a[0][0] = 10\n",
        "print(list_a[0])\n",
        "print(list_a)"
      ],
      "metadata": {
        "colab": {
          "base_uri": "https://localhost:8080/"
        },
        "id": "7jp6tM-k_i9x",
        "outputId": "9d90ee1a-0ef1-40e7-c110-25657e3b46f2"
      },
      "execution_count": 64,
      "outputs": [
        {
          "output_type": "stream",
          "name": "stdout",
          "text": [
            "[10, 2, 3, 4]\n",
            "[[10, 2, 3, 4], '잘자요', False]\n"
          ]
        }
      ]
    },
    {
      "cell_type": "markdown",
      "source": [
        "## IndexError"
      ],
      "metadata": {
        "id": "bjOtS2J0BaIA"
      }
    },
    {
      "cell_type": "code",
      "source": [
        "list_a[10] #리스트에 없는 요소를 호출하면 오류 발생"
      ],
      "metadata": {
        "colab": {
          "base_uri": "https://localhost:8080/",
          "height": 146
        },
        "id": "HODjnXuoAUMU",
        "outputId": "b5e55193-2de9-4a14-ab93-89bfad2ac384"
      },
      "execution_count": 65,
      "outputs": [
        {
          "output_type": "error",
          "ename": "IndexError",
          "evalue": "list index out of range",
          "traceback": [
            "\u001b[0;31m---------------------------------------------------------------------------\u001b[0m",
            "\u001b[0;31mIndexError\u001b[0m                                Traceback (most recent call last)",
            "\u001b[0;32m<ipython-input-65-c7cdf1ab5870>\u001b[0m in \u001b[0;36m<cell line: 1>\u001b[0;34m()\u001b[0m\n\u001b[0;32m----> 1\u001b[0;31m \u001b[0mlist_a\u001b[0m\u001b[0;34m[\u001b[0m\u001b[0;36m10\u001b[0m\u001b[0;34m]\u001b[0m \u001b[0;31m#리스트에 없는 요소를 호출하면 오류 발생\u001b[0m\u001b[0;34m\u001b[0m\u001b[0;34m\u001b[0m\u001b[0m\n\u001b[0m",
            "\u001b[0;31mIndexError\u001b[0m: list index out of range"
          ]
        }
      ]
    },
    {
      "cell_type": "code",
      "source": [
        "# 3도 out of range임\n",
        "print(list_a)\n",
        "list_a[3]"
      ],
      "metadata": {
        "colab": {
          "base_uri": "https://localhost:8080/",
          "height": 201
        },
        "id": "fDWuSNQVBjuz",
        "outputId": "5c32fd19-6942-4910-b4db-b95ca180449d"
      },
      "execution_count": 66,
      "outputs": [
        {
          "output_type": "stream",
          "name": "stdout",
          "text": [
            "[[10, 2, 3, 4], '잘자요', False]\n"
          ]
        },
        {
          "output_type": "error",
          "ename": "IndexError",
          "evalue": "list index out of range",
          "traceback": [
            "\u001b[0;31m---------------------------------------------------------------------------\u001b[0m",
            "\u001b[0;31mIndexError\u001b[0m                                Traceback (most recent call last)",
            "\u001b[0;32m<ipython-input-66-4921c1687454>\u001b[0m in \u001b[0;36m<cell line: 3>\u001b[0;34m()\u001b[0m\n\u001b[1;32m      1\u001b[0m \u001b[0;31m# 3도 out of range임\u001b[0m\u001b[0;34m\u001b[0m\u001b[0;34m\u001b[0m\u001b[0m\n\u001b[1;32m      2\u001b[0m \u001b[0mprint\u001b[0m\u001b[0;34m(\u001b[0m\u001b[0mlist_a\u001b[0m\u001b[0;34m)\u001b[0m\u001b[0;34m\u001b[0m\u001b[0;34m\u001b[0m\u001b[0m\n\u001b[0;32m----> 3\u001b[0;31m \u001b[0mlist_a\u001b[0m\u001b[0;34m[\u001b[0m\u001b[0;36m3\u001b[0m\u001b[0;34m]\u001b[0m\u001b[0;34m\u001b[0m\u001b[0;34m\u001b[0m\u001b[0m\n\u001b[0m",
            "\u001b[0;31mIndexError\u001b[0m: list index out of range"
          ]
        }
      ]
    },
    {
      "cell_type": "markdown",
      "source": [
        "## 연결 vs. 추가"
      ],
      "metadata": {
        "id": "9LMClo92IbId"
      }
    },
    {
      "cell_type": "code",
      "execution_count": 67,
      "metadata": {
        "colab": {
          "base_uri": "https://localhost:8080/"
        },
        "id": "_SwfFyGowed0",
        "outputId": "dc977e98-8923-437c-a24c-c108dfbee42e"
      },
      "outputs": [
        {
          "output_type": "stream",
          "name": "stdout",
          "text": [
            "[1, 2, 3, 4, 5, 6]\n"
          ]
        }
      ],
      "source": [
        "# 리스트 합치기 = 연결 +\n",
        "list_1 = [1,2,3]\n",
        "list_2 = [4,5,6]\n",
        "print(list_1 + list_2)"
      ]
    },
    {
      "cell_type": "code",
      "source": [
        "# 리스트 반복 = 반복 *\n",
        "print(list_1 * 3)"
      ],
      "metadata": {
        "colab": {
          "base_uri": "https://localhost:8080/"
        },
        "id": "LZb2d7WBw8GT",
        "outputId": "feecee2c-da7f-4b2d-ef5c-a8f972752422"
      },
      "execution_count": 68,
      "outputs": [
        {
          "output_type": "stream",
          "name": "stdout",
          "text": [
            "[1, 2, 3, 1, 2, 3, 1, 2, 3]\n"
          ]
        }
      ]
    },
    {
      "cell_type": "code",
      "source": [
        "# 리스트 길이\n",
        "len(list_1) # 요소의 개수"
      ],
      "metadata": {
        "colab": {
          "base_uri": "https://localhost:8080/"
        },
        "id": "XyNFdfvux-pi",
        "outputId": "724430c5-c628-411b-893e-f014c58e1fbd"
      },
      "execution_count": 69,
      "outputs": [
        {
          "output_type": "execute_result",
          "data": {
            "text/plain": [
              "3"
            ]
          },
          "metadata": {},
          "execution_count": 69
        }
      ]
    },
    {
      "cell_type": "code",
      "source": [
        "# 추가 = 뒤에 추가 = 요소(개별값)\n",
        "list_1.append(5)\n",
        "print(list_1) # 파괴적 처리"
      ],
      "metadata": {
        "colab": {
          "base_uri": "https://localhost:8080/"
        },
        "id": "jpnTZwl-xMma",
        "outputId": "67fc1bcf-1cfd-4ec0-bc09-54432224cedd"
      },
      "execution_count": 70,
      "outputs": [
        {
          "output_type": "stream",
          "name": "stdout",
          "text": [
            "[1, 2, 3, 5]\n"
          ]
        }
      ]
    },
    {
      "cell_type": "code",
      "source": [
        "# 추가 = 중간에 추가 = 원하는 위치(인덱스 번호)에 추가 = 요소(개별값)\n",
        "list_1.insert(3, 4) # 인덱스 3번 위치에 4라는 값(요소) 추가\n",
        "print(list_1) # 파괴적 처리"
      ],
      "metadata": {
        "colab": {
          "base_uri": "https://localhost:8080/"
        },
        "id": "mGBuyR2LxjRG",
        "outputId": "abd22f65-1888-4e89-a020-8f1038da5142"
      },
      "execution_count": 71,
      "outputs": [
        {
          "output_type": "stream",
          "name": "stdout",
          "text": [
            "[1, 2, 3, 4, 5]\n"
          ]
        }
      ]
    },
    {
      "cell_type": "code",
      "source": [
        "# +는 리스트끼리 연결하지만 원본 변화 X\n",
        "print(list_1 + list_2)\n",
        "print(list_1)\n",
        "print(list_2)"
      ],
      "metadata": {
        "colab": {
          "base_uri": "https://localhost:8080/"
        },
        "id": "zGLQHVq5cCxo",
        "outputId": "0e2128a8-8950-4776-9a66-15324d35b446"
      },
      "execution_count": 72,
      "outputs": [
        {
          "output_type": "stream",
          "name": "stdout",
          "text": [
            "[1, 2, 3, 4, 5, 4, 5, 6]\n",
            "[1, 2, 3, 4, 5]\n",
            "[4, 5, 6]\n"
          ]
        }
      ]
    },
    {
      "cell_type": "code",
      "source": [
        "# extend는 +랑 기능은 같지만 아래처럼 원본이 변화됨\n",
        "#추가 = + 연결 & 파괴적 처리 = 리스트 전체 요소\n",
        "list_1.extend(list_2)\n",
        "print(list_1) # 파괴적 처리"
      ],
      "metadata": {
        "colab": {
          "base_uri": "https://localhost:8080/"
        },
        "id": "2E4_M9x2zOyN",
        "outputId": "d7485b1e-acd8-4319-9d39-b8104a709023"
      },
      "execution_count": 73,
      "outputs": [
        {
          "output_type": "stream",
          "name": "stdout",
          "text": [
            "[1, 2, 3, 4, 5, 4, 5, 6]\n"
          ]
        }
      ]
    },
    {
      "cell_type": "markdown",
      "source": [
        "## 제거"
      ],
      "metadata": {
        "id": "BBTXbipa265a"
      }
    },
    {
      "cell_type": "code",
      "source": [
        "# 인덱스 번호로 제거\n",
        "# del 키워드 = delete\n",
        "del list_1[2]\n",
        "print(list_1)"
      ],
      "metadata": {
        "colab": {
          "base_uri": "https://localhost:8080/"
        },
        "id": "n9O_EZI90ktp",
        "outputId": "36694bec-0dcb-4d67-ce6f-f362d809e851"
      },
      "execution_count": 74,
      "outputs": [
        {
          "output_type": "stream",
          "name": "stdout",
          "text": [
            "[1, 2, 4, 5, 4, 5, 6]\n"
          ]
        }
      ]
    },
    {
      "cell_type": "code",
      "source": [
        "del list_1[:2]\n",
        "print(list_1)"
      ],
      "metadata": {
        "colab": {
          "base_uri": "https://localhost:8080/"
        },
        "id": "eW2Z9v8xi4Gw",
        "outputId": "53dfcdf8-37fd-42c7-b23d-6283ed0e8128"
      },
      "execution_count": 75,
      "outputs": [
        {
          "output_type": "stream",
          "name": "stdout",
          "text": [
            "[4, 5, 4, 5, 6]\n"
          ]
        }
      ]
    },
    {
      "cell_type": "code",
      "source": [
        "del list_1[3:]\n",
        "print(list_1)"
      ],
      "metadata": {
        "colab": {
          "base_uri": "https://localhost:8080/"
        },
        "id": "TCRdFHwbi6i6",
        "outputId": "38b248ea-1ca1-44b8-b72e-9c88fa75a4cb"
      },
      "execution_count": 76,
      "outputs": [
        {
          "output_type": "stream",
          "name": "stdout",
          "text": [
            "[4, 5, 4]\n"
          ]
        }
      ]
    },
    {
      "cell_type": "code",
      "source": [
        "print(list_1)"
      ],
      "metadata": {
        "colab": {
          "base_uri": "https://localhost:8080/"
        },
        "id": "B2Uec_lUjN_W",
        "outputId": "d21e74dc-5566-476f-a343-1bf4eca5dea5"
      },
      "execution_count": 77,
      "outputs": [
        {
          "output_type": "stream",
          "name": "stdout",
          "text": [
            "[4, 5, 4]\n"
          ]
        }
      ]
    },
    {
      "cell_type": "code",
      "source": [
        "# pop 함수\n",
        "list_1.pop(2)"
      ],
      "metadata": {
        "colab": {
          "base_uri": "https://localhost:8080/"
        },
        "id": "-Z2AHAHF3WUt",
        "outputId": "dc6bf222-cf04-4647-abb4-886bdae340bb"
      },
      "execution_count": 78,
      "outputs": [
        {
          "output_type": "execute_result",
          "data": {
            "text/plain": [
              "4"
            ]
          },
          "metadata": {},
          "execution_count": 78
        }
      ]
    },
    {
      "cell_type": "code",
      "source": [
        "# 값으로 제거\n",
        "# remove 함수\n",
        "list_1.remove(4)\n",
        "print(list_1)"
      ],
      "metadata": {
        "colab": {
          "base_uri": "https://localhost:8080/"
        },
        "id": "-X12Cglo3vK0",
        "outputId": "f62d8506-01e7-4faa-e48e-1f2657443651"
      },
      "execution_count": 79,
      "outputs": [
        {
          "output_type": "stream",
          "name": "stdout",
          "text": [
            "[5]\n"
          ]
        }
      ]
    },
    {
      "cell_type": "code",
      "source": [
        "# 리스트 안의 모든 요소 제거 = 비우기 = 리스트 구조 살아있음\n",
        "list_1.clear()\n",
        "print(list_1)\n",
        "len(list_1)"
      ],
      "metadata": {
        "id": "0enXSfOr4GW_",
        "colab": {
          "base_uri": "https://localhost:8080/"
        },
        "outputId": "30a82f6b-b55d-4af7-b11c-24848bcbb30f"
      },
      "execution_count": 80,
      "outputs": [
        {
          "output_type": "stream",
          "name": "stdout",
          "text": [
            "[]\n"
          ]
        },
        {
          "output_type": "execute_result",
          "data": {
            "text/plain": [
              "0"
            ]
          },
          "metadata": {},
          "execution_count": 80
        }
      ]
    },
    {
      "cell_type": "markdown",
      "source": [
        "## 정렬"
      ],
      "metadata": {
        "id": "s8MD9FCd8x2a"
      }
    },
    {
      "cell_type": "code",
      "source": [
        "# 오름차순\n",
        "score = [75,55,40,90,100]\n",
        "score.sort()\n",
        "print(score)\n",
        "# 내림차순\n",
        "score.sort(reverse=True)\n",
        "print(score)"
      ],
      "metadata": {
        "id": "s8ZX5QDt70xp",
        "colab": {
          "base_uri": "https://localhost:8080/"
        },
        "outputId": "83f553b2-e62a-42f9-8ce5-a64bee265194"
      },
      "execution_count": 81,
      "outputs": [
        {
          "output_type": "stream",
          "name": "stdout",
          "text": [
            "[40, 55, 75, 90, 100]\n",
            "[100, 90, 75, 55, 40]\n"
          ]
        }
      ]
    },
    {
      "cell_type": "code",
      "source": [
        "# in & not in\n",
        "print(75 in score)\n",
        "print(0 in score)\n",
        "print(75 not in score) #in으로 한다음에 not 들어가면 그 결과의 반대를 출력하는거라고 생각하면 안헷갈림\n",
        "print(0 not in score)"
      ],
      "metadata": {
        "colab": {
          "base_uri": "https://localhost:8080/"
        },
        "id": "JZjA21D39If6",
        "outputId": "12aea587-84fe-49bb-b281-aa5ee3c943dd"
      },
      "execution_count": 82,
      "outputs": [
        {
          "output_type": "stream",
          "name": "stdout",
          "text": [
            "True\n",
            "False\n",
            "False\n",
            "True\n"
          ]
        }
      ]
    },
    {
      "cell_type": "code",
      "source": [
        "print(sorted(score))\n",
        "score"
      ],
      "metadata": {
        "colab": {
          "base_uri": "https://localhost:8080/"
        },
        "id": "x2r7octAPeoQ",
        "outputId": "3cc8e2f7-1d1a-4d49-8b7d-7a5e3f78e302"
      },
      "execution_count": 83,
      "outputs": [
        {
          "output_type": "stream",
          "name": "stdout",
          "text": [
            "[40, 55, 75, 90, 100]\n"
          ]
        },
        {
          "output_type": "execute_result",
          "data": {
            "text/plain": [
              "[100, 90, 75, 55, 40]"
            ]
          },
          "metadata": {},
          "execution_count": 83
        }
      ]
    },
    {
      "cell_type": "markdown",
      "source": [
        "## 전개 연산자"
      ],
      "metadata": {
        "id": "wbai2ipE_mty"
      }
    },
    {
      "cell_type": "code",
      "source": [
        "# 1) 리스트 안에서 사용\n",
        "a = [1,2,3]\n",
        "b = [*a] # 비파괴적 처리 != append 함수와 다름\n",
        "c = [*a, *a]\n",
        "print(a);print(b);print(c)"
      ],
      "metadata": {
        "colab": {
          "base_uri": "https://localhost:8080/"
        },
        "id": "_XoSWnbT98Q7",
        "outputId": "f5ad02e9-7870-424d-f0e9-2b03a543a5aa"
      },
      "execution_count": 84,
      "outputs": [
        {
          "output_type": "stream",
          "name": "stdout",
          "text": [
            "[1, 2, 3]\n",
            "[1, 2, 3]\n",
            "[1, 2, 3, 1, 2, 3]\n"
          ]
        }
      ]
    },
    {
      "cell_type": "code",
      "source": [
        "a = [1,2,3]\n",
        "b = a.append(4)\n",
        "print(type(b))\n",
        "print(a)\n",
        "print(b)"
      ],
      "metadata": {
        "colab": {
          "base_uri": "https://localhost:8080/"
        },
        "id": "-FJdqCGtxYAl",
        "outputId": "f701c479-772d-4a81-e276-853c90733bd0"
      },
      "execution_count": 85,
      "outputs": [
        {
          "output_type": "stream",
          "name": "stdout",
          "text": [
            "<class 'NoneType'>\n",
            "[1, 2, 3, 4]\n",
            "None\n"
          ]
        }
      ]
    },
    {
      "cell_type": "code",
      "source": [
        "a = [1,2,3]\n",
        "b = [*a, 4]\n",
        "print(a)\n",
        "print(b)"
      ],
      "metadata": {
        "colab": {
          "base_uri": "https://localhost:8080/"
        },
        "id": "Qtv4pgkIxlYd",
        "outputId": "6179d222-6763-4135-e889-819f05865290"
      },
      "execution_count": 86,
      "outputs": [
        {
          "output_type": "stream",
          "name": "stdout",
          "text": [
            "[1, 2, 3]\n",
            "[1, 2, 3, 4]\n"
          ]
        }
      ]
    },
    {
      "cell_type": "code",
      "source": [
        "# 2) 함수에서 사용\n",
        "print(a)\n",
        "print(*a) #아래랑 같다고 생각하면됨\n",
        "print(1,2,3,4)"
      ],
      "metadata": {
        "colab": {
          "base_uri": "https://localhost:8080/"
        },
        "id": "Do1yJXvx_5it",
        "outputId": "70ca7202-b38d-46cb-e7cd-727de2168834"
      },
      "execution_count": 87,
      "outputs": [
        {
          "output_type": "stream",
          "name": "stdout",
          "text": [
            "[1, 2, 3]\n",
            "1 2 3\n",
            "1 2 3 4\n"
          ]
        }
      ]
    },
    {
      "cell_type": "markdown",
      "source": [
        "## 이차원 리스트"
      ],
      "metadata": {
        "id": "5HSHEK7vsebP"
      }
    },
    {
      "cell_type": "code",
      "source": [
        "언어영역 = [100,70,40,60,80]\n",
        "수리영역 = [50,100,80,40,60]\n",
        "과학영역 = [70,80,70,90,80]\n",
        "scores = [언어영역, 수리영역, 과학영역]\n",
        "scores"
      ],
      "metadata": {
        "colab": {
          "base_uri": "https://localhost:8080/"
        },
        "id": "_MfIL7M8wXgL",
        "outputId": "00f81ebf-f889-490d-ca67-cacaaa72c242"
      },
      "execution_count": 88,
      "outputs": [
        {
          "output_type": "execute_result",
          "data": {
            "text/plain": [
              "[[100, 70, 40, 60, 80], [50, 100, 80, 40, 60], [70, 80, 70, 90, 80]]"
            ]
          },
          "metadata": {},
          "execution_count": 88
        }
      ]
    },
    {
      "cell_type": "code",
      "source": [
        "# 인덱싱\n",
        "scores[0][2] # 언어영역의 C 학생의 점수"
      ],
      "metadata": {
        "colab": {
          "base_uri": "https://localhost:8080/"
        },
        "id": "dwr3UvUv0sas",
        "outputId": "b7699480-17fb-49e7-e824-6a4f95363b41"
      },
      "execution_count": 89,
      "outputs": [
        {
          "output_type": "execute_result",
          "data": {
            "text/plain": [
              "40"
            ]
          },
          "metadata": {},
          "execution_count": 89
        }
      ]
    },
    {
      "cell_type": "markdown",
      "source": [
        "# 반복문"
      ],
      "metadata": {
        "id": "ra6wcKzNERZD"
      }
    },
    {
      "cell_type": "code",
      "source": [
        "print((\"ABC\"))\n",
        "print((\"ABC\"))\n",
        "print((\"ABC\"))\n",
        "print((\"ABC\"))\n",
        "print((\"ABC\"))"
      ],
      "metadata": {
        "colab": {
          "base_uri": "https://localhost:8080/"
        },
        "id": "Lq6iMWN41KbM",
        "outputId": "ed13b566-26a3-4eb1-ee8a-f74ded46715d"
      },
      "execution_count": 90,
      "outputs": [
        {
          "output_type": "stream",
          "name": "stdout",
          "text": [
            "ABC\n",
            "ABC\n",
            "ABC\n",
            "ABC\n",
            "ABC\n"
          ]
        }
      ]
    },
    {
      "cell_type": "code",
      "source": [
        "for i in [1, 2, 3, 4, 5]:\n",
        "  print((\"ABC\"))"
      ],
      "metadata": {
        "colab": {
          "base_uri": "https://localhost:8080/"
        },
        "id": "dDNUIqzwJq-X",
        "outputId": "4d4c0fc4-e85f-4fdf-ed54-73685ee42709"
      },
      "execution_count": 91,
      "outputs": [
        {
          "output_type": "stream",
          "name": "stdout",
          "text": [
            "ABC\n",
            "ABC\n",
            "ABC\n",
            "ABC\n",
            "ABC\n"
          ]
        }
      ]
    },
    {
      "cell_type": "markdown",
      "source": [
        "## for 반복문 : 리스트와 함께 사용하기"
      ],
      "metadata": {
        "id": "zBGvGTwK_-MN"
      }
    },
    {
      "cell_type": "code",
      "source": [
        "# 리스트 선언\n",
        "array = [1, 2, 3, 4, 5]\n",
        "# 리스트에 반복문을 적용\n",
        "for i in array:\n",
        "    # 출력\n",
        "    print(i)"
      ],
      "metadata": {
        "colab": {
          "base_uri": "https://localhost:8080/"
        },
        "id": "5qFQOuCXAJxL",
        "outputId": "e0d8f54f-8de9-4ccb-afc3-6805abe4c75e"
      },
      "execution_count": 92,
      "outputs": [
        {
          "output_type": "stream",
          "name": "stdout",
          "text": [
            "1\n",
            "2\n",
            "3\n",
            "4\n",
            "5\n"
          ]
        }
      ]
    },
    {
      "cell_type": "code",
      "source": [
        "conni2 = [1, 4, 7, 2]\n",
        "for i in conni2:\n",
        "  print(i)"
      ],
      "metadata": {
        "colab": {
          "base_uri": "https://localhost:8080/"
        },
        "id": "88_dk2_XUyna",
        "outputId": "ed2156f3-5528-4968-90a7-ba841da96c23"
      },
      "execution_count": 93,
      "outputs": [
        {
          "output_type": "stream",
          "name": "stdout",
          "text": [
            "1\n",
            "4\n",
            "7\n",
            "2\n"
          ]
        }
      ]
    },
    {
      "cell_type": "markdown",
      "source": [
        "## 중첩 리스트와 중첩 반복문"
      ],
      "metadata": {
        "id": "GWHTWOGHAYnx"
      }
    },
    {
      "cell_type": "code",
      "source": [
        "list_of_list = [\n",
        "    [1, 2, 3],\n",
        "    [4, 5, 6, 7],\n",
        "    [8, 9]\n",
        "]\n",
        "\n",
        "for items in list_of_list:\n",
        "    print(items)"
      ],
      "metadata": {
        "colab": {
          "base_uri": "https://localhost:8080/"
        },
        "id": "pqrGyJdWAsNb",
        "outputId": "4816a220-3230-4bce-f717-bd7f70cb14e0"
      },
      "execution_count": 94,
      "outputs": [
        {
          "output_type": "stream",
          "name": "stdout",
          "text": [
            "[1, 2, 3]\n",
            "[4, 5, 6, 7]\n",
            "[8, 9]\n"
          ]
        }
      ]
    },
    {
      "cell_type": "code",
      "source": [
        "list_of_list = [\n",
        "    [1, 2, 3],\n",
        "    [4, 5, 6, 7],\n",
        "    [8, 9]\n",
        "]\n",
        "\n",
        "for items in list_of_list:\n",
        "    for item in items:\n",
        "        print(item)"
      ],
      "metadata": {
        "colab": {
          "base_uri": "https://localhost:8080/"
        },
        "id": "CgAfTX1QAxb7",
        "outputId": "2900b269-0741-495a-fcd6-78e4598899d9"
      },
      "execution_count": 95,
      "outputs": [
        {
          "output_type": "stream",
          "name": "stdout",
          "text": [
            "1\n",
            "2\n",
            "3\n",
            "4\n",
            "5\n",
            "6\n",
            "7\n",
            "8\n",
            "9\n"
          ]
        }
      ]
    },
    {
      "cell_type": "markdown",
      "source": [
        "## 리스트로 반복문"
      ],
      "metadata": {
        "id": "QquZZcBpw8aX"
      }
    },
    {
      "cell_type": "code",
      "source": [
        "# 리스트로 반복문\n",
        "list_a = [1,2,3] # 1차원\n",
        "list_b = [[1,2,3],[4,5,6]] # 2차원"
      ],
      "metadata": {
        "id": "FAl3_N0OL-Mr"
      },
      "execution_count": 96,
      "outputs": []
    },
    {
      "cell_type": "code",
      "source": [
        "# 3개의 요소를 가지고 있어서 3번 반복\n",
        "for i in list_a:\n",
        "  print(i)"
      ],
      "metadata": {
        "id": "4zmgcV6NMQY3",
        "colab": {
          "base_uri": "https://localhost:8080/"
        },
        "outputId": "c3d134df-1bc3-40d4-b5f2-8e9d14495ad1"
      },
      "execution_count": 97,
      "outputs": [
        {
          "output_type": "stream",
          "name": "stdout",
          "text": [
            "1\n",
            "2\n",
            "3\n"
          ]
        }
      ]
    },
    {
      "cell_type": "code",
      "source": [
        "# 2개의 요소를 가지고 있어서 2번 반복\n",
        "# 여전히 리스트 형태로 출력\n",
        "for i in list_b:\n",
        "  print(i)"
      ],
      "metadata": {
        "id": "XH6MMnqRMYSf",
        "colab": {
          "base_uri": "https://localhost:8080/"
        },
        "outputId": "aa9a2455-1db4-44be-dda2-5ffb857dfc5c"
      },
      "execution_count": 98,
      "outputs": [
        {
          "output_type": "stream",
          "name": "stdout",
          "text": [
            "[1, 2, 3]\n",
            "[4, 5, 6]\n"
          ]
        }
      ]
    },
    {
      "cell_type": "code",
      "source": [
        "for i in list_b:\n",
        "  for j in i:\n",
        "    print(j)"
      ],
      "metadata": {
        "id": "rxlEaf3PM3Sr",
        "colab": {
          "base_uri": "https://localhost:8080/"
        },
        "outputId": "f3f4afc7-2bdd-4af0-b437-55432dc204e0"
      },
      "execution_count": 99,
      "outputs": [
        {
          "output_type": "stream",
          "name": "stdout",
          "text": [
            "1\n",
            "2\n",
            "3\n",
            "4\n",
            "5\n",
            "6\n"
          ]
        }
      ]
    },
    {
      "cell_type": "code",
      "source": [
        "list_c = [[1,2,3],[4,5,6],7]"
      ],
      "metadata": {
        "id": "oo7ALS7WNEsB"
      },
      "execution_count": 100,
      "outputs": []
    },
    {
      "cell_type": "code",
      "source": [
        "for i in list_c:\n",
        "  print(i)\n",
        "  for j in i: # 여기서는 7 때문에 오류가 남 -> in은 str 또는 list에만 쓸 수 있어서 지금 여기서 7이 들어가면 int 이기 떄문에 오류가 남\n",
        "    print(j)"
      ],
      "metadata": {
        "id": "bri-NnOjOnbo",
        "colab": {
          "base_uri": "https://localhost:8080/",
          "height": 365
        },
        "outputId": "c26faf87-0ca1-4a05-8c13-3c62026764ed"
      },
      "execution_count": 101,
      "outputs": [
        {
          "output_type": "stream",
          "name": "stdout",
          "text": [
            "[1, 2, 3]\n",
            "1\n",
            "2\n",
            "3\n",
            "[4, 5, 6]\n",
            "4\n",
            "5\n",
            "6\n",
            "7\n"
          ]
        },
        {
          "output_type": "error",
          "ename": "TypeError",
          "evalue": "'int' object is not iterable",
          "traceback": [
            "\u001b[0;31m---------------------------------------------------------------------------\u001b[0m",
            "\u001b[0;31mTypeError\u001b[0m                                 Traceback (most recent call last)",
            "\u001b[0;32m<ipython-input-101-ba5fdb7c484c>\u001b[0m in \u001b[0;36m<cell line: 1>\u001b[0;34m()\u001b[0m\n\u001b[1;32m      1\u001b[0m \u001b[0;32mfor\u001b[0m \u001b[0mi\u001b[0m \u001b[0;32min\u001b[0m \u001b[0mlist_c\u001b[0m\u001b[0;34m:\u001b[0m\u001b[0;34m\u001b[0m\u001b[0;34m\u001b[0m\u001b[0m\n\u001b[1;32m      2\u001b[0m   \u001b[0mprint\u001b[0m\u001b[0;34m(\u001b[0m\u001b[0mi\u001b[0m\u001b[0;34m)\u001b[0m\u001b[0;34m\u001b[0m\u001b[0;34m\u001b[0m\u001b[0m\n\u001b[0;32m----> 3\u001b[0;31m   \u001b[0;32mfor\u001b[0m \u001b[0mj\u001b[0m \u001b[0;32min\u001b[0m \u001b[0mi\u001b[0m\u001b[0;34m:\u001b[0m \u001b[0;31m# 여기서는 7 때문에 오류가 남 -> in은 str 또는 list에만 쓸 수 있어서 지금 여기서 7이 들어가면 int 이기 떄문에 오류가 남\u001b[0m\u001b[0;34m\u001b[0m\u001b[0;34m\u001b[0m\u001b[0m\n\u001b[0m\u001b[1;32m      4\u001b[0m     \u001b[0mprint\u001b[0m\u001b[0;34m(\u001b[0m\u001b[0mj\u001b[0m\u001b[0;34m)\u001b[0m\u001b[0;34m\u001b[0m\u001b[0;34m\u001b[0m\u001b[0m\n",
            "\u001b[0;31mTypeError\u001b[0m: 'int' object is not iterable"
          ]
        }
      ]
    },
    {
      "cell_type": "code",
      "source": [
        "#평활화 작업: 안의 개별값을 꺼내서 하나씩 뿌리는 작업\n",
        "for i in list_c:\n",
        "  if type(i) == list: #리스트면 중첩을 실행하고\n",
        "    for j in i:\n",
        "      print(j)\n",
        "  else: #아니면 그냥 프린트하세요\n",
        "    print(i)"
      ],
      "metadata": {
        "id": "8dNQ-n9-OsUQ",
        "colab": {
          "base_uri": "https://localhost:8080/"
        },
        "outputId": "e8d011e1-3737-4743-db78-a778a58e7133"
      },
      "execution_count": 102,
      "outputs": [
        {
          "output_type": "stream",
          "name": "stdout",
          "text": [
            "1\n",
            "2\n",
            "3\n",
            "4\n",
            "5\n",
            "6\n",
            "7\n"
          ]
        }
      ]
    },
    {
      "cell_type": "code",
      "source": [
        "#연습문제\n",
        "numbers = [1,2,3,4,5,6,7,8,9]\n",
        "output= [[],[], []]\n",
        "\n",
        "for number in numbers:\n",
        "  output[number%3-1].append(number)\n",
        "\n",
        "print(output)"
      ],
      "metadata": {
        "colab": {
          "base_uri": "https://localhost:8080/"
        },
        "id": "tC0Ndr_UWKEa",
        "outputId": "f42ab56d-b97b-4432-ee1a-227f2cd4dfd0"
      },
      "execution_count": 103,
      "outputs": [
        {
          "output_type": "stream",
          "name": "stdout",
          "text": [
            "[[1, 4, 7], [2, 5, 8], [3, 6, 9]]\n"
          ]
        }
      ]
    },
    {
      "cell_type": "markdown",
      "source": [
        "## 확인 문제"
      ],
      "metadata": {
        "id": "UKH6w4-1x3MD"
      }
    },
    {
      "cell_type": "code",
      "source": [
        "list_a = [0,1,2,3,4,5,6,7]\n",
        "list_a.extend(list_a)\n",
        "print(list_a)"
      ],
      "metadata": {
        "colab": {
          "base_uri": "https://localhost:8080/"
        },
        "id": "Qq47WdCWY2qx",
        "outputId": "5a8b6149-dab4-4bfe-c2fe-227efe46d618"
      },
      "execution_count": 104,
      "outputs": [
        {
          "output_type": "stream",
          "name": "stdout",
          "text": [
            "[0, 1, 2, 3, 4, 5, 6, 7, 0, 1, 2, 3, 4, 5, 6, 7]\n"
          ]
        }
      ]
    },
    {
      "cell_type": "code",
      "source": [
        "list_a = [0,1,2,3,4,5,6,7]\n",
        "list_a.append(10)\n",
        "print(list_a)"
      ],
      "metadata": {
        "colab": {
          "base_uri": "https://localhost:8080/"
        },
        "id": "coT7NEORY94f",
        "outputId": "59258f68-f534-4ec3-eb17-fad62b9cd870"
      },
      "execution_count": 105,
      "outputs": [
        {
          "output_type": "stream",
          "name": "stdout",
          "text": [
            "[0, 1, 2, 3, 4, 5, 6, 7, 10]\n"
          ]
        }
      ]
    },
    {
      "cell_type": "code",
      "source": [
        "list_a = [0,1,2,3,4,5,6,7]\n",
        "list_a.insert(3,0)\n",
        "print(list_a)"
      ],
      "metadata": {
        "colab": {
          "base_uri": "https://localhost:8080/"
        },
        "id": "oIgU3d4BZJ5q",
        "outputId": "d9b558e6-b9c2-4130-f06b-ed6123b40538"
      },
      "execution_count": 106,
      "outputs": [
        {
          "output_type": "stream",
          "name": "stdout",
          "text": [
            "[0, 1, 2, 0, 3, 4, 5, 6, 7]\n"
          ]
        }
      ]
    },
    {
      "cell_type": "code",
      "source": [
        "list_a = [0,1,2,3,4,5,6,7]\n",
        "list_a.remove(3)\n",
        "print(list_a)"
      ],
      "metadata": {
        "colab": {
          "base_uri": "https://localhost:8080/"
        },
        "id": "ufnxSId5ZMzX",
        "outputId": "2f68cde6-a001-4881-a362-1c012977a0a4"
      },
      "execution_count": 107,
      "outputs": [
        {
          "output_type": "stream",
          "name": "stdout",
          "text": [
            "[0, 1, 2, 4, 5, 6, 7]\n"
          ]
        }
      ]
    },
    {
      "cell_type": "code",
      "source": [
        "list_a = [0,1,2,3,4,5,6,7]\n",
        "list_a.pop(3)\n",
        "print(list_a)"
      ],
      "metadata": {
        "colab": {
          "base_uri": "https://localhost:8080/"
        },
        "id": "BO87BgxrZRTD",
        "outputId": "d22ff3cc-154f-4425-c9a0-93e27104928b"
      },
      "execution_count": 108,
      "outputs": [
        {
          "output_type": "stream",
          "name": "stdout",
          "text": [
            "[0, 1, 2, 4, 5, 6, 7]\n"
          ]
        }
      ]
    },
    {
      "cell_type": "code",
      "source": [
        "list_a = [0,1,2,3,4,5,6,7]\n",
        "list_a.clear()\n",
        "print(list_a)"
      ],
      "metadata": {
        "colab": {
          "base_uri": "https://localhost:8080/"
        },
        "id": "E2GkOZgyZbzP",
        "outputId": "f4f84d2c-839c-4f91-bdfa-7a6429c4e8a5"
      },
      "execution_count": 109,
      "outputs": [
        {
          "output_type": "stream",
          "name": "stdout",
          "text": [
            "[]\n"
          ]
        }
      ]
    },
    {
      "cell_type": "code",
      "source": [
        "numbers = [273, 103, 5, 32, 65, 9, 72, 800, 99]\n",
        "\n",
        "for number in numbers:\n",
        "    if number >= 100:\n",
        "        print(\"- 100 이상의 수:\", number)"
      ],
      "metadata": {
        "colab": {
          "base_uri": "https://localhost:8080/"
        },
        "id": "SAmhwXgeyJcd",
        "outputId": "3269494e-c6ec-41de-b492-00972544a61d"
      },
      "execution_count": 110,
      "outputs": [
        {
          "output_type": "stream",
          "name": "stdout",
          "text": [
            "- 100 이상의 수: 273\n",
            "- 100 이상의 수: 103\n",
            "- 100 이상의 수: 800\n"
          ]
        }
      ]
    },
    {
      "cell_type": "code",
      "source": [
        "numbers = [273, 103, 5, 32, 65, 9, 72, 800, 99]\n",
        "\n",
        "for number in numbers:\n",
        "    if number % 2 == 1:\n",
        "        print(number, \"는 홀수입니다.\")\n",
        "    else:\n",
        "        print(number, \"는 짝수입니다.\")"
      ],
      "metadata": {
        "colab": {
          "base_uri": "https://localhost:8080/"
        },
        "id": "OQyt9-j72tUG",
        "outputId": "24b1a7fb-5fb4-430d-86c4-8636582ee6a5"
      },
      "execution_count": 111,
      "outputs": [
        {
          "output_type": "stream",
          "name": "stdout",
          "text": [
            "273 는 홀수입니다.\n",
            "103 는 홀수입니다.\n",
            "5 는 홀수입니다.\n",
            "32 는 짝수입니다.\n",
            "65 는 홀수입니다.\n",
            "9 는 홀수입니다.\n",
            "72 는 짝수입니다.\n",
            "800 는 짝수입니다.\n",
            "99 는 홀수입니다.\n"
          ]
        }
      ]
    },
    {
      "cell_type": "code",
      "source": [
        "numbers = [273, 103, 5, 32, 65, 9, 72, 800, 99]\n",
        "\n",
        "for number in numbers:\n",
        "    print(number, \"는\", len(str(number)), \"자릿수입니다.\")"
      ],
      "metadata": {
        "colab": {
          "base_uri": "https://localhost:8080/"
        },
        "id": "bSFfbm8b4ij3",
        "outputId": "f7cf4886-b748-487c-eab1-0e1653121fb2"
      },
      "execution_count": 112,
      "outputs": [
        {
          "output_type": "stream",
          "name": "stdout",
          "text": [
            "273 는 3 자릿수입니다.\n",
            "103 는 3 자릿수입니다.\n",
            "5 는 1 자릿수입니다.\n",
            "32 는 2 자릿수입니다.\n",
            "65 는 2 자릿수입니다.\n",
            "9 는 1 자릿수입니다.\n",
            "72 는 2 자릿수입니다.\n",
            "800 는 3 자릿수입니다.\n",
            "99 는 2 자릿수입니다.\n"
          ]
        }
      ]
    },
    {
      "cell_type": "code",
      "source": [
        "numbers = [1, 2, 3, 4, 5, 6, 7, 8, 9]\n",
        "output = [[], [], []]\n",
        "\n",
        "for number in numbers:\n",
        "    output[(number + 2) % 3].append(number)\n",
        "\n",
        "print(output)"
      ],
      "metadata": {
        "colab": {
          "base_uri": "https://localhost:8080/"
        },
        "id": "lVtwCyfS29xQ",
        "outputId": "e5784c4f-3912-4438-a84a-67308eac6945"
      },
      "execution_count": 113,
      "outputs": [
        {
          "output_type": "stream",
          "name": "stdout",
          "text": [
            "[[1, 4, 7], [2, 5, 8], [3, 6, 9]]\n"
          ]
        }
      ]
    },
    {
      "cell_type": "code",
      "source": [
        "for number in numbers:\n",
        "    print((number + 2) % 3)"
      ],
      "metadata": {
        "colab": {
          "base_uri": "https://localhost:8080/"
        },
        "id": "tosSmoPOYXV6",
        "outputId": "4508c393-379d-4816-a220-d5a026fe2333"
      },
      "execution_count": 114,
      "outputs": [
        {
          "output_type": "stream",
          "name": "stdout",
          "text": [
            "0\n",
            "1\n",
            "2\n",
            "0\n",
            "1\n",
            "2\n",
            "0\n",
            "1\n",
            "2\n"
          ]
        }
      ]
    },
    {
      "cell_type": "code",
      "source": [
        "numbers = [1,2,3,4,5,6,7,8,9]\n",
        "for i in range(0, len(numbers) // 2):\n",
        "  j = i * 2 + 1\n",
        "  print(\"i = {}, j = {}\".format(i, j))\n",
        "  numbers[j] = numbers[j] ** 2\n",
        "\n",
        "print(numbers)"
      ],
      "metadata": {
        "colab": {
          "base_uri": "https://localhost:8080/"
        },
        "id": "8D0Bcfkeh0n5",
        "outputId": "689936f8-5725-4ec0-e1ed-59bfc95926c3"
      },
      "execution_count": 115,
      "outputs": [
        {
          "output_type": "stream",
          "name": "stdout",
          "text": [
            "i = 0, j = 1\n",
            "i = 1, j = 3\n",
            "i = 2, j = 5\n",
            "i = 3, j = 7\n",
            "[1, 4, 3, 16, 5, 36, 7, 64, 9]\n"
          ]
        }
      ]
    },
    {
      "cell_type": "markdown",
      "source": [
        "## 딕셔너리 만들기"
      ],
      "metadata": {
        "id": "k5MvMn86qCh-"
      }
    },
    {
      "cell_type": "code",
      "source": [
        "# 리스트와 딕셔너리 비교\n",
        "# 딕셔너리 생성\n",
        "sd_dic = {\n",
        "    \"이름\": \"정대만\",\n",
        "    \"나이\": 19,\n",
        "    \"키\": 183,\n",
        "    \"몸무게\": 70\n",
        "}\n",
        "# 리스트\n",
        "sd_list = [\"정대만\",19,183,70]"
      ],
      "metadata": {
        "id": "nCrbqCvQPnMJ"
      },
      "execution_count": 116,
      "outputs": []
    },
    {
      "cell_type": "code",
      "source": [
        "# 이름 보기\n",
        "print(sd_list[0])\n",
        "print(sd_dic[\"이름\"])"
      ],
      "metadata": {
        "colab": {
          "base_uri": "https://localhost:8080/"
        },
        "id": "29TWfv6hS9vi",
        "outputId": "6136a87f-f46a-4535-a33a-927fad9bb222"
      },
      "execution_count": 117,
      "outputs": [
        {
          "output_type": "stream",
          "name": "stdout",
          "text": [
            "정대만\n",
            "정대만\n"
          ]
        }
      ]
    },
    {
      "cell_type": "code",
      "source": [
        "# 값\n",
        "print(sd_list[1])\n",
        "print(sd_dic[\"나이\"])"
      ],
      "metadata": {
        "colab": {
          "base_uri": "https://localhost:8080/"
        },
        "id": "Lf-NHHuSTUKG",
        "outputId": "67e8f785-e470-4634-e995-74da7ea57064"
      },
      "execution_count": 118,
      "outputs": [
        {
          "output_type": "stream",
          "name": "stdout",
          "text": [
            "19\n",
            "19\n"
          ]
        }
      ]
    },
    {
      "cell_type": "code",
      "source": [
        "print(sd_list[3])\n",
        "print(sd_dic[\"몸무게\"])"
      ],
      "metadata": {
        "colab": {
          "base_uri": "https://localhost:8080/"
        },
        "id": "iTS0zz0Ck4LF",
        "outputId": "9998bd8e-d95b-4b4b-8625-ce2196abb240"
      },
      "execution_count": 119,
      "outputs": [
        {
          "output_type": "stream",
          "name": "stdout",
          "text": [
            "70\n",
            "70\n"
          ]
        }
      ]
    },
    {
      "cell_type": "code",
      "source": [
        "# sd_dic{\"키\"} <= 실수하지 말 것"
      ],
      "metadata": {
        "id": "GfhtMzLRlhDd"
      },
      "execution_count": 120,
      "outputs": []
    },
    {
      "cell_type": "markdown",
      "source": [
        "## 여러 개 값을 가지는 딕셔너리"
      ],
      "metadata": {
        "id": "DHijZ6D0p-hT"
      }
    },
    {
      "cell_type": "code",
      "source": [
        "# 여러 개의 값을 가지는 딕셔너리 생성\n",
        "bs = {\n",
        "    \"선수\": [\"채치수\",\"정대만\",\"송태섭\",\"강백호\",\"서태웅\"],\n",
        "    \"감독\": [\"안감독\"],\n",
        "    \"매니저\": [\"한나\"]\n",
        "}\n",
        "print(bs)"
      ],
      "metadata": {
        "id": "_CeOmY0rl6un",
        "colab": {
          "base_uri": "https://localhost:8080/"
        },
        "outputId": "f44a1eee-544f-4a08-83ca-ed96349eff70"
      },
      "execution_count": 121,
      "outputs": [
        {
          "output_type": "stream",
          "name": "stdout",
          "text": [
            "{'선수': ['채치수', '정대만', '송태섭', '강백호', '서태웅'], '감독': ['안감독'], '매니저': ['한나']}\n"
          ]
        }
      ]
    },
    {
      "cell_type": "code",
      "source": [
        "# 값 보기\n",
        "bs[\"선수\"]"
      ],
      "metadata": {
        "id": "90wuuMt1m-IM",
        "colab": {
          "base_uri": "https://localhost:8080/"
        },
        "outputId": "b75d8f03-9ce5-4286-c2a4-60dc32903d54"
      },
      "execution_count": 122,
      "outputs": [
        {
          "output_type": "execute_result",
          "data": {
            "text/plain": [
              "['채치수', '정대만', '송태섭', '강백호', '서태웅']"
            ]
          },
          "metadata": {},
          "execution_count": 122
        }
      ]
    },
    {
      "cell_type": "code",
      "source": [
        "#사전에서 리스트의 요소 꺼내기\n",
        "bs[\"선수\"][1]"
      ],
      "metadata": {
        "id": "3-ppGRc2nMw6",
        "colab": {
          "base_uri": "https://localhost:8080/",
          "height": 35
        },
        "outputId": "ae27a3a5-ae79-434f-8591-abef6d896b81"
      },
      "execution_count": 123,
      "outputs": [
        {
          "output_type": "execute_result",
          "data": {
            "text/plain": [
              "'정대만'"
            ],
            "application/vnd.google.colaboratory.intrinsic+json": {
              "type": "string"
            }
          },
          "metadata": {},
          "execution_count": 123
        }
      ]
    },
    {
      "cell_type": "code",
      "source": [
        "# 값 변경\n",
        "bs[\"매니저\"][0] = \"소연\"\n",
        "print(bs)"
      ],
      "metadata": {
        "id": "sq0CjGKpnX0N",
        "colab": {
          "base_uri": "https://localhost:8080/"
        },
        "outputId": "6ebec3b6-56c5-46d9-bfe0-2655e0b4d87b"
      },
      "execution_count": 124,
      "outputs": [
        {
          "output_type": "stream",
          "name": "stdout",
          "text": [
            "{'선수': ['채치수', '정대만', '송태섭', '강백호', '서태웅'], '감독': ['안감독'], '매니저': ['소연']}\n"
          ]
        }
      ]
    },
    {
      "cell_type": "code",
      "source": [
        "# 새로운 키와 값 추가\n",
        "# 하나의 값\n",
        "bs[\"상대팀\"] = \"산왕공고\"\n",
        "print(bs)"
      ],
      "metadata": {
        "id": "i5XsohvnnvMF",
        "colab": {
          "base_uri": "https://localhost:8080/"
        },
        "outputId": "0e9644df-02c5-4fa4-b056-4d9284bcacb7"
      },
      "execution_count": 125,
      "outputs": [
        {
          "output_type": "stream",
          "name": "stdout",
          "text": [
            "{'선수': ['채치수', '정대만', '송태섭', '강백호', '서태웅'], '감독': ['안감독'], '매니저': ['소연'], '상대팀': '산왕공고'}\n"
          ]
        }
      ]
    },
    {
      "cell_type": "code",
      "source": [
        "# 여러 개의 값\n",
        "bs[\"별명\"] = [\"고릴라\", \"불꽃남자\"]\n",
        "print(bs)"
      ],
      "metadata": {
        "id": "TbZlv2GwnpmR",
        "colab": {
          "base_uri": "https://localhost:8080/"
        },
        "outputId": "c9a4ddb0-4421-45c3-ad3b-7fa0ab839297"
      },
      "execution_count": 126,
      "outputs": [
        {
          "output_type": "stream",
          "name": "stdout",
          "text": [
            "{'선수': ['채치수', '정대만', '송태섭', '강백호', '서태웅'], '감독': ['안감독'], '매니저': ['소연'], '상대팀': '산왕공고', '별명': ['고릴라', '불꽃남자']}\n"
          ]
        }
      ]
    },
    {
      "cell_type": "code",
      "source": [
        "# 키와 값 제거\n",
        "del bs[\"상대팀\"]\n",
        "print(bs)"
      ],
      "metadata": {
        "id": "K2ojOXbqpy2b",
        "colab": {
          "base_uri": "https://localhost:8080/"
        },
        "outputId": "bd4d3620-28a1-44a3-c6a7-d8e3de81b936"
      },
      "execution_count": 127,
      "outputs": [
        {
          "output_type": "stream",
          "name": "stdout",
          "text": [
            "{'선수': ['채치수', '정대만', '송태섭', '강백호', '서태웅'], '감독': ['안감독'], '매니저': ['소연'], '별명': ['고릴라', '불꽃남자']}\n"
          ]
        }
      ]
    },
    {
      "cell_type": "markdown",
      "source": [
        "## KeyError"
      ],
      "metadata": {
        "id": "iMeQ-KXtsGr2"
      }
    },
    {
      "cell_type": "code",
      "source": [
        "# 존재하지 않는 키를 사용할 때 발생\n",
        "# 값 보기\n",
        "bs[\"상대팀\"]"
      ],
      "metadata": {
        "id": "vP7WpacKqUof",
        "colab": {
          "base_uri": "https://localhost:8080/",
          "height": 183
        },
        "outputId": "9a6dc94a-47c2-4484-f660-ec77d4a6924c"
      },
      "execution_count": 128,
      "outputs": [
        {
          "output_type": "error",
          "ename": "KeyError",
          "evalue": "'상대팀'",
          "traceback": [
            "\u001b[0;31m---------------------------------------------------------------------------\u001b[0m",
            "\u001b[0;31mKeyError\u001b[0m                                  Traceback (most recent call last)",
            "\u001b[0;32m<ipython-input-128-ac85c2f546be>\u001b[0m in \u001b[0;36m<cell line: 3>\u001b[0;34m()\u001b[0m\n\u001b[1;32m      1\u001b[0m \u001b[0;31m# 존재하지 않는 키를 사용할 때 발생\u001b[0m\u001b[0;34m\u001b[0m\u001b[0;34m\u001b[0m\u001b[0m\n\u001b[1;32m      2\u001b[0m \u001b[0;31m# 값 보기\u001b[0m\u001b[0;34m\u001b[0m\u001b[0;34m\u001b[0m\u001b[0m\n\u001b[0;32m----> 3\u001b[0;31m \u001b[0mbs\u001b[0m\u001b[0;34m[\u001b[0m\u001b[0;34m\"상대팀\"\u001b[0m\u001b[0;34m]\u001b[0m\u001b[0;34m\u001b[0m\u001b[0;34m\u001b[0m\u001b[0m\n\u001b[0m",
            "\u001b[0;31mKeyError\u001b[0m: '상대팀'"
          ]
        }
      ]
    },
    {
      "cell_type": "code",
      "source": [
        "# 키와 값 제거\n",
        "del bs[\"상대팀\"]"
      ],
      "metadata": {
        "id": "6S-0x4KwsYc4",
        "colab": {
          "base_uri": "https://localhost:8080/",
          "height": 165
        },
        "outputId": "1a0edf97-8747-4f05-f15e-3053251dc9cf"
      },
      "execution_count": 129,
      "outputs": [
        {
          "output_type": "error",
          "ename": "KeyError",
          "evalue": "'상대팀'",
          "traceback": [
            "\u001b[0;31m---------------------------------------------------------------------------\u001b[0m",
            "\u001b[0;31mKeyError\u001b[0m                                  Traceback (most recent call last)",
            "\u001b[0;32m<ipython-input-129-60a0271773d0>\u001b[0m in \u001b[0;36m<cell line: 2>\u001b[0;34m()\u001b[0m\n\u001b[1;32m      1\u001b[0m \u001b[0;31m# 키와 값 제거\u001b[0m\u001b[0;34m\u001b[0m\u001b[0;34m\u001b[0m\u001b[0m\n\u001b[0;32m----> 2\u001b[0;31m \u001b[0;32mdel\u001b[0m \u001b[0mbs\u001b[0m\u001b[0;34m[\u001b[0m\u001b[0;34m\"상대팀\"\u001b[0m\u001b[0;34m]\u001b[0m\u001b[0;34m\u001b[0m\u001b[0;34m\u001b[0m\u001b[0m\n\u001b[0m",
            "\u001b[0;31mKeyError\u001b[0m: '상대팀'"
          ]
        }
      ]
    },
    {
      "cell_type": "markdown",
      "source": [
        "## NameError"
      ],
      "metadata": {
        "id": "5tOiKDM_squY"
      }
    },
    {
      "cell_type": "code",
      "source": [
        "# 에러 발생하는 경우\n",
        "a = {이름: \"강백호\"}\n",
        "print(a)"
      ],
      "metadata": {
        "colab": {
          "base_uri": "https://localhost:8080/",
          "height": 183
        },
        "id": "KQTKviF8sj9M",
        "outputId": "4d3ccb8d-c1dc-47c7-f687-e8bf6149d68d"
      },
      "execution_count": 130,
      "outputs": [
        {
          "output_type": "error",
          "ename": "NameError",
          "evalue": "name '이름' is not defined",
          "traceback": [
            "\u001b[0;31m---------------------------------------------------------------------------\u001b[0m",
            "\u001b[0;31mNameError\u001b[0m                                 Traceback (most recent call last)",
            "\u001b[0;32m<ipython-input-130-1d5854932c8e>\u001b[0m in \u001b[0;36m<cell line: 2>\u001b[0;34m()\u001b[0m\n\u001b[1;32m      1\u001b[0m \u001b[0;31m# 에러 발생하는 경우\u001b[0m\u001b[0;34m\u001b[0m\u001b[0;34m\u001b[0m\u001b[0m\n\u001b[0;32m----> 2\u001b[0;31m \u001b[0ma\u001b[0m \u001b[0;34m=\u001b[0m \u001b[0;34m{\u001b[0m\u001b[0m이름\u001b[0m\u001b[0;34m:\u001b[0m \u001b[0;34m\"강백호\"\u001b[0m\u001b[0;34m}\u001b[0m\u001b[0;34m\u001b[0m\u001b[0;34m\u001b[0m\u001b[0m\n\u001b[0m\u001b[1;32m      3\u001b[0m \u001b[0mprint\u001b[0m\u001b[0;34m(\u001b[0m\u001b[0ma\u001b[0m\u001b[0;34m)\u001b[0m\u001b[0;34m\u001b[0m\u001b[0;34m\u001b[0m\u001b[0m\n",
            "\u001b[0;31mNameError\u001b[0m: name '이름' is not defined"
          ]
        }
      ]
    },
    {
      "cell_type": "code",
      "source": [
        "# 에러 수정 = 키가 문자열이면 따옴표로 묶어줘야 함\n",
        "a = {\"이름\": \"강백호\"}\n",
        "print(a)"
      ],
      "metadata": {
        "id": "eXNYguTZs1cM",
        "colab": {
          "base_uri": "https://localhost:8080/"
        },
        "outputId": "3e7e958a-8c94-4f4e-d2d7-bc2dd89bbf5b"
      },
      "execution_count": 131,
      "outputs": [
        {
          "output_type": "stream",
          "name": "stdout",
          "text": [
            "{'이름': '강백호'}\n"
          ]
        }
      ]
    },
    {
      "cell_type": "markdown",
      "source": [
        "## in 연산자"
      ],
      "metadata": {
        "id": "9Bb2K8Q1t_x0"
      }
    },
    {
      "cell_type": "code",
      "source": [
        "# 찾고 싶은 키\n",
        "\"선수\" in bs"
      ],
      "metadata": {
        "colab": {
          "base_uri": "https://localhost:8080/"
        },
        "id": "J6H1YZgYuCxn",
        "outputId": "306acb09-9bd7-4df9-f8a3-09461bae0d5d"
      },
      "execution_count": 132,
      "outputs": [
        {
          "output_type": "execute_result",
          "data": {
            "text/plain": [
              "True"
            ]
          },
          "metadata": {},
          "execution_count": 132
        }
      ]
    },
    {
      "cell_type": "code",
      "source": [
        "\"선생님\" in bs"
      ],
      "metadata": {
        "colab": {
          "base_uri": "https://localhost:8080/"
        },
        "id": "x89LARxCuRvz",
        "outputId": "316cbb86-3891-4ded-ad8b-7874dc1ff432"
      },
      "execution_count": 133,
      "outputs": [
        {
          "output_type": "execute_result",
          "data": {
            "text/plain": [
              "False"
            ]
          },
          "metadata": {},
          "execution_count": 133
        }
      ]
    },
    {
      "cell_type": "code",
      "source": [
        "# 딕셔너리의 키 존재 여부 알려주는 프로그램\n",
        "key = input(\"찾고 싶은 키를 입력하세요> \")\n",
        "if key in bs:\n",
        "  print(\"존재하는 키입니다. 해당 값은 \", bs[key])\n",
        "else:\n",
        "  print(\"존재하지 않는 키입니다.\")"
      ],
      "metadata": {
        "colab": {
          "base_uri": "https://localhost:8080/"
        },
        "id": "oG5Z2JsRuYYw",
        "outputId": "f86458f0-1835-4644-c383-26cbb295bb20"
      },
      "execution_count": 134,
      "outputs": [
        {
          "output_type": "stream",
          "name": "stdout",
          "text": [
            "찾고 싶은 키를 입력하세요> \n",
            "존재하지 않는 키입니다.\n"
          ]
        }
      ]
    },
    {
      "cell_type": "markdown",
      "source": [
        "## 값을 보여주는 함수"
      ],
      "metadata": {
        "id": "xdNO9m7RyPBf"
      }
    },
    {
      "cell_type": "code",
      "source": [
        "# 존재하는 키로 값 보기\n",
        "bs[\"감독\"]"
      ],
      "metadata": {
        "colab": {
          "base_uri": "https://localhost:8080/"
        },
        "id": "SLP08k3Eu_Z6",
        "outputId": "1512ef4c-8f86-4bf0-9d88-bb2c303ba9db"
      },
      "execution_count": 135,
      "outputs": [
        {
          "output_type": "execute_result",
          "data": {
            "text/plain": [
              "['안감독']"
            ]
          },
          "metadata": {},
          "execution_count": 135
        }
      ]
    },
    {
      "cell_type": "code",
      "source": [
        "# 존재하지 않는 키로 값 보기 = KeyError\n",
        "bs[\"감독님\"]"
      ],
      "metadata": {
        "id": "p7L0F_kqyZfD",
        "colab": {
          "base_uri": "https://localhost:8080/",
          "height": 165
        },
        "outputId": "835dc382-4719-4ead-9a2c-f67397d8e922"
      },
      "execution_count": 136,
      "outputs": [
        {
          "output_type": "error",
          "ename": "KeyError",
          "evalue": "'감독님'",
          "traceback": [
            "\u001b[0;31m---------------------------------------------------------------------------\u001b[0m",
            "\u001b[0;31mKeyError\u001b[0m                                  Traceback (most recent call last)",
            "\u001b[0;32m<ipython-input-136-0ea26c017db8>\u001b[0m in \u001b[0;36m<cell line: 2>\u001b[0;34m()\u001b[0m\n\u001b[1;32m      1\u001b[0m \u001b[0;31m# 존재하지 않는 키로 값 보기 = KeyError\u001b[0m\u001b[0;34m\u001b[0m\u001b[0;34m\u001b[0m\u001b[0m\n\u001b[0;32m----> 2\u001b[0;31m \u001b[0mbs\u001b[0m\u001b[0;34m[\u001b[0m\u001b[0;34m\"감독님\"\u001b[0m\u001b[0;34m]\u001b[0m\u001b[0;34m\u001b[0m\u001b[0;34m\u001b[0m\u001b[0m\n\u001b[0m",
            "\u001b[0;31mKeyError\u001b[0m: '감독님'"
          ]
        }
      ]
    },
    {
      "cell_type": "code",
      "source": [
        "# 존재하지 않는 키로 값 보기 = 에러 없이 결과가 없다는 내용\n",
        "bs.get(\"감독\")"
      ],
      "metadata": {
        "colab": {
          "base_uri": "https://localhost:8080/"
        },
        "id": "WpAOxiTzyfoT",
        "outputId": "e53f4da5-c114-48c6-99a2-49fe5a14ed6a"
      },
      "execution_count": 137,
      "outputs": [
        {
          "output_type": "execute_result",
          "data": {
            "text/plain": [
              "['안감독']"
            ]
          },
          "metadata": {},
          "execution_count": 137
        }
      ]
    },
    {
      "cell_type": "code",
      "source": [
        "value = bs.get(\"감독님\")\n",
        "print(value)"
      ],
      "metadata": {
        "colab": {
          "base_uri": "https://localhost:8080/"
        },
        "id": "vl3J1oY6zkKD",
        "outputId": "9d7d12a5-a198-4bf3-b826-9d551c51bdfa"
      },
      "execution_count": 138,
      "outputs": [
        {
          "output_type": "stream",
          "name": "stdout",
          "text": [
            "None\n"
          ]
        }
      ]
    },
    {
      "cell_type": "markdown",
      "source": [
        "## 딕셔너리로 반복문"
      ],
      "metadata": {
        "id": "O4vgxc260nlJ"
      }
    },
    {
      "cell_type": "code",
      "source": [
        "sd_dic = {\n",
        "    \"이름\": \"정대만\",\n",
        "    \"나이\": 19,\n",
        "    \"키\": 183,\n",
        "    \"몸무게\": 70\n",
        "}"
      ],
      "metadata": {
        "id": "2LOpLr42zzNH"
      },
      "execution_count": 139,
      "outputs": []
    },
    {
      "cell_type": "code",
      "source": [
        "# 반복문\n",
        "for i in sd_dic:\n",
        "  print(i) # 키\n",
        "  print(sd_dic[i]) # 값"
      ],
      "metadata": {
        "colab": {
          "base_uri": "https://localhost:8080/"
        },
        "id": "8iZcLI6H1j_5",
        "outputId": "64f2443f-1e8b-4dc4-9f5a-16dac7f0f67e"
      },
      "execution_count": 140,
      "outputs": [
        {
          "output_type": "stream",
          "name": "stdout",
          "text": [
            "이름\n",
            "정대만\n",
            "나이\n",
            "19\n",
            "키\n",
            "183\n",
            "몸무게\n",
            "70\n"
          ]
        }
      ]
    },
    {
      "cell_type": "code",
      "source": [
        "character = {\n",
        "    \"name\": \"정대만\",\n",
        "    \"number\": 14,\n",
        "    \"records\": { #여기는 딕셔너리\n",
        "        \"three_point\": 24,\n",
        "        \"rebound\": 1\n",
        "    },\n",
        "    \"schools\": [\"무석중\", \"북산고\"] #여기는 리스트\n",
        "}\n",
        "for i in character:\n",
        "  if type(character[i]) == dict: #딕셔너리 거르고\n",
        "    for j in character[i]:\n",
        "      print(character[i][j])\n",
        "  elif type(character[i]) == list: #리스트 거르기\n",
        "    for k in character[i]:\n",
        "      print(k)\n",
        "  else:\n",
        "    print(character[i])"
      ],
      "metadata": {
        "colab": {
          "base_uri": "https://localhost:8080/"
        },
        "id": "QkgpzFtU10g4",
        "outputId": "e7bd4324-f7c8-4234-e5c1-31a38ab2e708"
      },
      "execution_count": 141,
      "outputs": [
        {
          "output_type": "stream",
          "name": "stdout",
          "text": [
            "정대만\n",
            "14\n",
            "24\n",
            "1\n",
            "무석중\n",
            "북산고\n"
          ]
        }
      ]
    },
    {
      "cell_type": "markdown",
      "source": [
        "## 확인 문제"
      ],
      "metadata": {
        "id": "rHWiZs04PXdv"
      }
    },
    {
      "cell_type": "code",
      "source": [
        "dict_a = {}\n",
        "dict_a[\"name\"] = \"구름\"\n",
        "print(dict_a)"
      ],
      "metadata": {
        "colab": {
          "base_uri": "https://localhost:8080/"
        },
        "outputId": "378cfc54-657c-4379-cc3b-69db9a2f87bc",
        "id": "MrDeKBobmWXm"
      },
      "execution_count": 142,
      "outputs": [
        {
          "output_type": "stream",
          "name": "stdout",
          "text": [
            "{'name': '구름'}\n"
          ]
        }
      ]
    },
    {
      "cell_type": "code",
      "source": [
        "del dict_a[\"name\"]\n",
        "print(dict_a)"
      ],
      "metadata": {
        "colab": {
          "base_uri": "https://localhost:8080/"
        },
        "outputId": "5ca67f8c-4157-49ba-d3eb-e4a8f7e4694a",
        "id": "6CDfFwlfmWXn"
      },
      "execution_count": 143,
      "outputs": [
        {
          "output_type": "stream",
          "name": "stdout",
          "text": [
            "{}\n"
          ]
        }
      ]
    },
    {
      "cell_type": "code",
      "source": [
        "pets = [\n",
        "    {\"name\": \"구름\", \"age\": 5},\n",
        "    {\"name\": \"초코\", \"age\": 3},\n",
        "    {\"name\": \"아지\", \"age\": 1},\n",
        "    {\"name\": \"호랑이\", \"age\": 1}\n",
        "]\n",
        "\n",
        "print(\"# 우리 동네 애완 동물들\")\n",
        "for pet in pets:\n",
        "    print(pet[\"name\"], str(pet[\"age\"]) + \"살\")"
      ],
      "metadata": {
        "colab": {
          "base_uri": "https://localhost:8080/"
        },
        "outputId": "73da26fb-7dbe-426c-9e6c-ebc56c33aa3e",
        "id": "2t4dJMk-mncA"
      },
      "execution_count": 144,
      "outputs": [
        {
          "output_type": "stream",
          "name": "stdout",
          "text": [
            "# 우리 동네 애완 동물들\n",
            "구름 5살\n",
            "초코 3살\n",
            "아지 1살\n",
            "호랑이 1살\n"
          ]
        }
      ]
    },
    {
      "cell_type": "code",
      "source": [
        "numbers = [1,2,6,8,4,3,2,1,9,5,4,9,7,2,1,3,5,4,8,9,7,2,3]\n",
        "counter = {}\n",
        "\n",
        "for number in numbers:\n",
        "    if number in counter:\n",
        "        counter[number] += 1\n",
        "    else:\n",
        "        counter[number] = 1\n",
        "\n",
        "print(counter)"
      ],
      "metadata": {
        "colab": {
          "base_uri": "https://localhost:8080/"
        },
        "outputId": "55a9e0f0-2ac3-48b0-cf3c-7db6782bd2dd",
        "id": "Yh4oJNVXm5qQ"
      },
      "execution_count": 145,
      "outputs": [
        {
          "output_type": "stream",
          "name": "stdout",
          "text": [
            "{1: 3, 2: 4, 6: 1, 8: 2, 4: 3, 3: 3, 9: 3, 5: 2, 7: 2}\n"
          ]
        }
      ]
    },
    {
      "cell_type": "code",
      "source": [
        "character = {\n",
        "    \"name\": \"기사\",\n",
        "    \"level\": 12,\n",
        "    \"items\": {\n",
        "        \"sword\": \"불꽃의검\",\n",
        "        \"armor\": \"풀플레이트\"\n",
        "    },\n",
        "    \"skill\": [\"베기\", \"세게 베기\", \"아주 세게 베기\"]\n",
        "}\n",
        "for i in character:\n",
        "  if type(character[i]) is dict: # 딕셔너리 안의 요소가 딕셔너리인 경우\n",
        "    for j in character[i]: # j 는 딕셔너리 키\n",
        "      print(j, \":\", character[i][j])\n",
        "  elif type(character[i]) is list: # 딕셔너리 안의 요소가 리스트인 경우\n",
        "    for k in character[i]: # k 는 리스트 값\n",
        "      print(i, \":\", k)\n",
        "  else: # 딕셔너리 안의 요소가 나머지인 경우\n",
        "    print(i, \":\", character[i])"
      ],
      "metadata": {
        "colab": {
          "base_uri": "https://localhost:8080/"
        },
        "id": "iG0RxK291enC",
        "outputId": "10b9d28e-7afe-4ec6-fe96-6c5ab68c59f7"
      },
      "execution_count": 146,
      "outputs": [
        {
          "output_type": "stream",
          "name": "stdout",
          "text": [
            "name : 기사\n",
            "level : 12\n",
            "sword : 불꽃의검\n",
            "armor : 풀플레이트\n",
            "skill : 베기\n",
            "skill : 세게 베기\n",
            "skill : 아주 세게 베기\n"
          ]
        }
      ]
    },
    {
      "cell_type": "code",
      "source": [
        "a = [1,2,3]\n",
        "a.append(4)\n",
        "print(a)\n",
        "# print(b)"
      ],
      "metadata": {
        "colab": {
          "base_uri": "https://localhost:8080/"
        },
        "id": "Wixl7G5q1-7J",
        "outputId": "5e3c8e5b-aa29-4988-dc4d-b1fad0dd4ebc"
      },
      "execution_count": 148,
      "outputs": [
        {
          "output_type": "stream",
          "name": "stdout",
          "text": [
            "[1, 2, 3, 4]\n"
          ]
        }
      ]
    },
    {
      "cell_type": "code",
      "source": [
        "# 혼자 스스로 마지막 문제 풀기\n",
        "character = {\n",
        "    \"name\" : \"기사\",\n",
        "    \"level\" : 12,\n",
        "    \"items\": {\n",
        "        \"sword\": \"불꽃의 검\",\n",
        "        \"armor\": \"풀플레이트\"\n",
        "    },\n",
        "    \"skill\" : [\"베기\", \"세게 베기\", \"아주 세게 베기\"]\n",
        "}"
      ],
      "metadata": {
        "id": "NBDMsazyn129"
      },
      "execution_count": 149,
      "outputs": []
    },
    {
      "cell_type": "code",
      "source": [
        "# 첫번째 오답\n",
        "for i in character:\n",
        "  if type(i) is dict:\n",
        "    for j in character[i]:\n",
        "      print(\"{} : {}\".format(j, character[i][j]))\n",
        "  elif type(i) is list:\n",
        "    for j in character[i]:\n",
        "      print(\"{} : {}\".format(character[i], j))\n",
        "  else:\n",
        "    print(\"{} : {}\".format(i, character[i]))"
      ],
      "metadata": {
        "colab": {
          "base_uri": "https://localhost:8080/"
        },
        "id": "MGjv_wR-oXEf",
        "outputId": "db33ccc5-9d97-47ce-b639-48c1d5be5213"
      },
      "execution_count": 150,
      "outputs": [
        {
          "output_type": "stream",
          "name": "stdout",
          "text": [
            "name : 기사\n",
            "level : 12\n",
            "items : {'sword': '불꽃의 검', 'armor': '풀플레이트'}\n",
            "skill : ['베기', '세게 베기', '아주 세게 베기']\n"
          ]
        }
      ]
    },
    {
      "cell_type": "code",
      "source": [
        "# 스스로 연구쟁이\n",
        "for i in character:\n",
        "  if type(character[i]) is dict: #i는 items\n",
        "    for j in character[i]:\n",
        "      print(\"{}: {}\".format(j, character[i][j])) #j는 sword, armor\n",
        "  elif type(character[i]) is list:\n",
        "    for k in character[i]:\n",
        "      print(\"{}: {}\".format(i, k))\n",
        "  else:\n",
        "    print(\"{}: {}\".format(i, character[i]))"
      ],
      "metadata": {
        "colab": {
          "base_uri": "https://localhost:8080/"
        },
        "id": "Jg3k1sPUpViM",
        "outputId": "4eef631b-5833-4c58-c94f-86bd4981c3f9"
      },
      "execution_count": 158,
      "outputs": [
        {
          "output_type": "stream",
          "name": "stdout",
          "text": [
            "name: 기사\n",
            "level: 12\n",
            "sword: 불꽃의 검\n",
            "armor: 풀플레이트\n",
            "skill: 베기\n",
            "skill: 세게 베기\n",
            "skill: 아주 세게 베기\n"
          ]
        }
      ]
    },
    {
      "cell_type": "code",
      "source": [
        "character = {\n",
        "    \"name\" : \"기사\",\n",
        "    \"level\" : 12,\n",
        "    \"items\": {\n",
        "        \"sword\": \"불꽃의 검\",\n",
        "        \"armor\": \"풀플레이트\"\n",
        "    },\n",
        "    \"skill\" : [\"베기\", \"세게 베기\", \"아주 세게 베기\"]\n",
        "}\n",
        "for i in character:\n",
        "  print(\"i는 \" + str(i))\n",
        "  print(\"i의 타입은 \" + str(type(i)))\n",
        "  print(\"character[i]의 타입은 \" + str(type(character[i])))\n",
        "  if type(character[i]) is dict:\n",
        "    for j in character[i]:\n",
        "      print(\"{} : {}\".format(j, character[i][j]))\n",
        "  elif type(character[i]) is list:\n",
        "    for k in character[i]:\n",
        "      print(\"{} : {}\".format(i, k))\n",
        "  else:\n",
        "    print(\"{} : {}\".format(i, character[i]))"
      ],
      "metadata": {
        "colab": {
          "base_uri": "https://localhost:8080/"
        },
        "id": "BmpCau8T0ckz",
        "outputId": "43e56f4c-3808-42d0-f2ca-55bffb617574"
      },
      "execution_count": 159,
      "outputs": [
        {
          "output_type": "stream",
          "name": "stdout",
          "text": [
            "i는 name\n",
            "i의 타입은 <class 'str'>\n",
            "character[i]의 타입은 <class 'str'>\n",
            "name : 기사\n",
            "i는 level\n",
            "i의 타입은 <class 'str'>\n",
            "character[i]의 타입은 <class 'int'>\n",
            "level : 12\n",
            "i는 items\n",
            "i의 타입은 <class 'str'>\n",
            "character[i]의 타입은 <class 'dict'>\n",
            "sword : 불꽃의 검\n",
            "armor : 풀플레이트\n",
            "i는 skill\n",
            "i의 타입은 <class 'str'>\n",
            "character[i]의 타입은 <class 'list'>\n",
            "skill : 베기\n",
            "skill : 세게 베기\n",
            "skill : 아주 세게 베기\n"
          ]
        }
      ]
    }
  ]
}