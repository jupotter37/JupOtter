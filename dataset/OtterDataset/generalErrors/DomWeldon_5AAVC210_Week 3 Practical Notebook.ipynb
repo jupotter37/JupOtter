{
 "cells": [
  {
   "cell_type": "markdown",
   "metadata": {},
   "source": [
    "<div style=\"display: block; width: 100%; height: 100px;\">\n",
    "\n",
    "<p style=\"float: left;\">\n",
    "    <span style=\"font-weight: bold; line-height: 24px; font-size: 16px;\">\n",
    "        Department of Digital Humanities\n",
    "        <br />\n",
    "        5AAVC210 Introduction to Programming in Python 2017-2018\n",
    "    </span>\n",
    "    <br >\n",
    "    <span style=\"line-height: 22x; font-size: 14x; margin-top: 10px;\">\n",
    "        Created by Dom Weldon (dominic.weldon@kcl.ac.uk) <br />\n",
    "        Office Hours: Thursdays, 11am to 1pm, K-1.026 (King's Building, Strand Campus) <br />\n",
    "        Submit Assessed work to KEATS before the deadline.\n",
    "    </span>\n",
    "</p>\n",
    "\n",
    "<img style=\"width: 120px; height: 90px; float: right; margin: 0 0 0 0;\" src=\"data:image/svg+xml;base64,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\" />\n",
    "</div>"
   ]
  },
  {
   "cell_type": "markdown",
   "metadata": {},
   "source": [
    "# Week 3: Complex Types, Exceptions and Iteration\n",
    "\n",
    "Welcome to week 3! Building on the material from last week, you're now all programmers, and you should be able to comfortably and confidently write simple programs in python to tackle interesting problems. Let's recap over some of the different things we can do now in our code. \n",
    "\n",
    "We can:\n",
    "\n",
    "* Assign values to variables and perform arithmetical operations on them.\n",
    "* Print out values.\n",
    "* Take values from the user and cast them to different types.\n",
    "* Use the following types: `int`, `str`, `float`, `None` and `bool`; and determine the type of an object using `type()`.\n",
    "* Define a function.\n",
    "* Conditionally execute code depending on comparisons between different variables, and use boolean logic to compare more than two things at once.\n",
    "* Repeat some code as many times as we like, or until some condition is met.\n",
    "\n",
    "However, so far our programs have been rather limited in terms of what they've been, for want of a better word, 'about.' We've taken values from a user, but we've only ever taken one value at a time, and whilst we've been able to make comparisons about variables, our variables have been quite limited and specific (`egg_count`, `ham_count`, etc.). This week, we're going to increase the scope and complexity of what our programs can achieve by starting to use complex types (i.e., types which consist of more than one thing - more on this later), and start to make the structure of our programs more powerful by handling errors, and using iteration.\n",
    "\n",
    "## This Week's Aims\n",
    "\n",
    "By the end of this week, you should be able to do the following.\n",
    "\n",
    "* Understand how Python treats names, and have an insight into the 'Zen of Python'\n",
    "* Use the complex types `tuple`, `dict` and `list`, understand their use cases, and the distinctions between them.\n",
    "* Write programs which iteratre over tuples, dictionaries and lists.\n",
    "* Know the difference between a key and an index, and understand the distinction between a `KeyError` and an `IndexError`.\n",
    "* Use the `try` / `except` structure to catch errors and understand why this is useful.\n",
    "* Use standard methods on simple and complex types, especially string methods.\n",
    "\n",
    "## Assessments\n",
    "\n",
    "The course is structured such that we cover a lot of material in the first four weeks of the course, allowing more time to cover more advanced material which will be important for your final 50% assessment. This means that by the end of week 4 you should have covered all the tools needed to complete your mid-term assessment, giving you three weeks to practice and complete it!\n",
    "\n",
    "These practicals may seem daunting or long, covering a lot of material, but I'd encourage you to ['just keep swimming'](https://media.giphy.com/media/pOKu5cPSdS9YQ/giphy.gif) and persevere. Often the best way to learn programming skills is to 'struggle' with them, and keep on trying things [until it just clicks](https://media.giphy.com/media/3orieUZyTFsrffFqBq/giphy.gif) and begins to seem like second nature!\n",
    "\n",
    "## Getting Help\n",
    "\n",
    "As ever, remember you can seek help at any time by emailing the course teachers, or attending our office hours.\n",
    " \n",
    "Now, before we get on to this week's material, however, let's recap on last week's material. "
   ]
  },
  {
   "cell_type": "markdown",
   "metadata": {},
   "source": [
    "## 0. Revision from Weeks 1 and 2\n",
    "\n",
    "**Let's Imaging We're Marking Papers**\n",
    "\n",
    "In the cell below, define three functions:\n",
    "\n",
    "* The first function should use their the `input()` function and ask the user (a student) for their mark and return the value as an integer. \n",
    "* The second function should take an integer as an argment, and then return a string containing the classification of the mark, as taken from the [KCL Marking Scheme](https://www.kcl.ac.uk/governancezone/Assets/Assessment/Marking%20Criteria,%20Undergraduate.pdf). For example, if this function received the integer `67`, it should return `\"Grade B, Upper 2nd\"`.\n",
    "* The third function should use the `input()` function to ask a user if they would like to continue and returns the result as a `boolean` value, if the user enters `y`, it should return `True`, if `n` or any other value then it should return `False`.\n",
    "\n",
    "Ensure each function has a docstring which informs a reader what the function does.\n",
    "\n",
    "Finally, write code which calls these functions and would assist a person grading papers. It should use these three functions to continually take a value from a user and print out a grade. After it has printed out the grade, it should ask the user if they wish to continue, and act accordingly (i.e., continue if they say yes, stop if they don't)."
   ]
  },
  {
   "cell_type": "code",
   "execution_count": null,
   "metadata": {},
   "outputs": [],
   "source": [
    "# Code goes here!"
   ]
  },
  {
   "cell_type": "markdown",
   "metadata": {},
   "source": [
    "## 1. *Call Me By Your Name*: Names and `NameError`\n",
    "\n",
    "Variables are fundamental to most types of computer programming, especially in python. So far, we've discussed variables as being ways to \"store\" things. However, the actual story is a little more nuanced than that. Let's go over this in a little more detail - this theory is not essential to being able to code in python, but hopefully it will make the following section on complex types a little easier to understand.\n",
    "\n",
    "In your coding so far, you've come across several different types of error, such as the `SyntaxError` (like a grammatical error, when python can't understand our code), and the `TypeError`, when python can't convert a value of one type into another (e.g., `int('seven')`). \n",
    "\n",
    "What kind of error do we get, though, if we try to use a variable we've not assigned? On our current understanding, something like `VariableError` would make sense, right?\n",
    "\n",
    "Run the code below and let's see what happens. ~~These example should make sense without having seen or heard of the film, but [I'd encourage you to check it out](http://bit.ly/2ndd0Uy) if you haven't.~~"
   ]
  },
  {
   "cell_type": "code",
   "execution_count": null,
   "metadata": {},
   "outputs": [],
   "source": [
    "# Call Me By Your Name (2017), summarised in Python\n",
    "oliver = 'American graduate student'\n",
    "elio = 'introspective bibliophile and musical prodigy'\n",
    "print(olivers_fiance)"
   ]
  },
  {
   "cell_type": "markdown",
   "metadata": {},
   "source": [
    "Hmm. Seems we get something called a `NameError`, instead. What's a name and why is it important?\n",
    "\n",
    "When we assign a variable, like `a = 10`, rather than just \"storing\" a value, what we're really saying to python, and so what python is saying to our computer, is *\"remember the integer `10` and put it into my code anywhere I write `a`\"*. The computer remembers this value in its *memory*, or RAM. This memory is just a very large collection of \"switches\" which can be either on (to store a 1), or off (to store a 0). In the very early days of computing these switches were [very large physical valves and relays](https://upload.wikimedia.org/wikipedia/commons/9/95/Harwell-dekatron-witch-computer-under-resotoration-2010-03-13.jpg) or other magnetic devices, whereas nowadays they are tiny transistors or capacitators. \n",
    "\n",
    "Each 1 or 0 is a called a *bit*, and 8 bits make a *byte*, 1000 *bytes* makes a *kilobyte*, 1 million (10^6) bytes makes a *megabyte* and 1 billion bytes (10^9) makes a *gigabyte*. A typical computer may have about 8GB of memory, whilst higher performance computers can have significantly more. A computer will store an integer in a piece of memory either 32-bits or 64-bits long (if you've ever wondered what we mean by a '64-bit computer', this is it). That means that in order to store our integer when we assign `a = 10`, the computer needs to find 64 bits in its memory and store the number there, and then, whenever it sees `a` in a bit of code, remember where (amongst the billions of bits) in its memory it stored that value and then go back to it. The way python does this is to assign a **name** to a **location in its memory** and then use this name as a pointer to this bit of memory elsewhere in the code.\n",
    "\n",
    "Python is described as a high level language (more on this in future weeks), since it manages this assignment for us, so that we don't need to manage locations in memory and keep track of them ourselves (which you do need to do in some other, *lower level* programming languages), we just assign a name and python takes care of the rest.\n",
    "\n",
    "The only way a computer can remember anything is by putting it in its memory (or writing it to disk, i.e., recording this memory permanently). Can you think of the other way that we've covered (so far in the course) of telling python to remember something?\n",
    "\n",
    "*Hint: run the code below*"
   ]
  },
  {
   "cell_type": "code",
   "execution_count": null,
   "metadata": {},
   "outputs": [],
   "source": [
    "this_is_a_clue()"
   ]
  },
  {
   "cell_type": "markdown",
   "metadata": {},
   "source": [
    "That's right, when we define a function, we're actually just putting a sequence of code into memory and giving it a name. Then, whenever we use that name, for example by **calling** that function, we refer to that bit of memory and code again.\n",
    "\n",
    "Python is clever, however, and won't store the same literal value (i.e., a string or an integer) in more than one place, which brings us back to the **identity** operator (`is`) from last week. We say that every location in memory has an identity, and so if two names point to the same place, they have the same identity, look at the code below."
   ]
  },
  {
   "cell_type": "code",
   "execution_count": null,
   "metadata": {},
   "outputs": [],
   "source": [
    "a = 1\n",
    "b = 1  \n",
    "c = 1.0\n",
    "print('a is b:', a is b)  # these names point to the same place\n",
    "print('a is c:', a is c)  # these don't since they're different types\n",
    "print('a == c:', a == c)  # even though their value is the same\n",
    "\n",
    "x = 'woof'\n",
    "y = 'woof'\n",
    "print('x is y:', x is y)"
   ]
  },
  {
   "cell_type": "markdown",
   "metadata": {},
   "source": [
    "We can find the identity, or address of a variable using the `id()` function, and so you can see below that `a` and `b` point to the same place, but not `c`."
   ]
  },
  {
   "cell_type": "code",
   "execution_count": null,
   "metadata": {},
   "outputs": [],
   "source": [
    "print('a is at', id(a))\n",
    "print('b is at', id(b))\n",
    "print('c is at', id(c))"
   ]
  },
  {
   "cell_type": "markdown",
   "metadata": {},
   "source": [
    "This poses a question: what happens when we **reassign** a variable? Does it change the value at the address its pointing to in memory, or point to a new address? \n",
    "\n",
    "Let's find out below."
   ]
  },
  {
   "cell_type": "code",
   "execution_count": null,
   "metadata": {},
   "outputs": [],
   "source": [
    "print('Name a points to address', id(a), 'which holds value', a)\n",
    "a += 1  # reassign a as a plus 1\n",
    "print('Name a now points to address', id(a), 'which holds value', a)"
   ]
  },
  {
   "cell_type": "markdown",
   "metadata": {},
   "source": [
    "As you can see, when we **reassign** a variable with a given **name**, rather than changing the value in memory, we're actually just changing what part of the computer's memory that particular **name** refers to. This holds true for **integers**, **strings** and **floats**; we call their values **immutable**, meaning that they cannot be changed. Rather than changing their values in memory, when we reassign a variable containing one of these values, python simply points that name to a new location\n",
    "\n",
    "Now, armed with a theoretical understanding of how variables work, let's move on to **complex types**. These are types of variables which hold more than one literal value: **names which point to other names**, or **locations in the computer's memory which hold references to other locations in the computers memory**."
   ]
  },
  {
   "cell_type": "markdown",
   "metadata": {},
   "source": [
    "## 2.a. Complex Types (Practical Example): A First Look at the Tuple\n",
    "\n",
    "In python, the most simple of these complex types is the tuple (pronounced tuppel either or toople). the syntax to create a tuple is as below: a comma-separated list of values inside a pair of ordinary brackets."
   ]
  },
  {
   "cell_type": "code",
   "execution_count": null,
   "metadata": {},
   "outputs": [],
   "source": [
    "my_first_tuple = (1, 2, 3)\n",
    "print(my_first_tuple)"
   ]
  },
  {
   "cell_type": "markdown",
   "metadata": {},
   "source": [
    "As we can see, tuples contain a collection of 0 or more values. These values can be *accessed* (i.e., getting the value, not *assigning* the value) by **subscription**, which is the python term for using **square brackets** (`[` and `]`). Each element in a tuple has an **index**, these are integers *starting from 0*. Thus, the first element in the tuple above can be accessed using `my_first_tuple[0]`.\n",
    "\n",
    "**Challenge**\n",
    "\n",
    "28 is a [perfect number](https://en.wikipedia.org/wiki/Perfect_number) (i.e., a number where all its factors apart from itself sum to the number itself, like 6, e.g.: 6 x 1 = 6; 2 x 3 = 6; 1 + 2 + 3 = 6). In the box below, write code which proves this."
   ]
  },
  {
   "cell_type": "code",
   "execution_count": null,
   "metadata": {},
   "outputs": [],
   "source": [
    "# create a tuple containing the factors of 28\n",
    "\n",
    "# add these values together by accessing each of their values\n",
    "# and assign the total it to a new variable\n",
    "\n",
    "# print out a comparison between the new variable and 28"
   ]
  },
  {
   "cell_type": "markdown",
   "metadata": {},
   "source": [
    "## 2.b. Complex Types: Tuples, Dictionaries and Lists\n",
    "\n",
    "Tuples are not the only complex type in python, indeed, one of the great things about python as opposed to other languages is the way it handles data across different types, and the ways you can create your own type (you won't ever need to do this on the current course, but if you want to challenge yourself in the future, do research this in a couple of month's time!). For the time being though and the purposes of this course, we'll be dealing with three complex types: `tuple`, `list` and `dict` (although in the *Going Further* section this week, you are encouraged to look at one more complex type!). \n",
    "\n",
    "We've covered the differences between these types in the lecture, but let's quickly go over their properties again.\n",
    "\n",
    "### Tuples are _Immutable_, _Ordered_ collections\n",
    "\n",
    "Tuples are immutable, ordered collections of values. This means that once a tuple has been created, the values that it points to cannot be altered or added to. See the example below."
   ]
  },
  {
   "cell_type": "code",
   "execution_count": null,
   "metadata": {},
   "outputs": [],
   "source": [
    "t = (1, 2, 3)  # assign the tuple\n",
    "print(t[0])  # print out the first value \n",
    "t[3] = 4  # try and change it"
   ]
  },
  {
   "cell_type": "markdown",
   "metadata": {},
   "source": [
    "The code above produces a `TypeError`, just like we've seen on other occasions when we've tried to do something that doesn't make sense (like multiplying two strings); in python's mind changing a tuple doesn't make sense (it's crazy, you can't change a tuple, what are you thinking?! 😜). \n",
    "\n",
    "The only way we could change our name `t` so that it contains a tuple with 4 values is now to reassign it. \n",
    "\n",
    "Look at the example below."
   ]
  },
  {
   "cell_type": "code",
   "execution_count": null,
   "metadata": {},
   "outputs": [],
   "source": [
    "t = (1, 2, 3)  # our initial tuple\n",
    "print('the first value in tuple t is:', t[0])\n",
    "print('t has ID:', id(t))\n",
    "# reassign t\n",
    "t = (1, 2, 3, 4)\n",
    "print('t now has an extra value at index 3:', t[3])\n",
    "print('but this is a new bit of memory, with the ID:', id(t))"
   ]
  },
  {
   "cell_type": "markdown",
   "metadata": {},
   "source": [
    "### Lists are _Mutable_, _Ordered_ collections\n",
    "\n",
    "Lists, however, are different to tuples in that they are **mutable**, meaning that their values can be changed without reassigning the name.\n",
    "\n",
    "See the example below."
   ]
  },
  {
   "cell_type": "code",
   "execution_count": null,
   "metadata": {},
   "outputs": [],
   "source": [
    "l = ['a', 'b', 'c']  # our initial list - note, square brackets rather than normal\n",
    "print('the first value of l is:', l[0])\n",
    "print('l has ID:', id(l))\n",
    "# use the append method to add a value to A\n",
    "l.append('d')\n",
    "print('l now has an extra value at index 3:', l[3])\n",
    "print('but this is still the same variable, with the ID:', id(l))"
   ]
  },
  {
   "cell_type": "markdown",
   "metadata": {},
   "source": [
    "Indeed, lists even have special functions attached to them which allow us to change them easily (see how we used `append()` above). \n",
    "\n",
    "These functions are called *methods*, and are attached to the list variables. We can call a list function using dot notation, so that if we had a list `l` and a method named `sort`, we could call that method using `l.sort()`. \n",
    "\n",
    "Let's recap on this terminology. \n",
    "\n",
    "* `l` is a *name* pointing to a *list*\n",
    "* lists have a **method** called sort, this can be *accessed* as an **attribute** of any list, using a dot: `l.sort`\n",
    "* we can **call** this function using a pair of brackets\n",
    "\n",
    "So, this becomes: `l.sort()`\n",
    "\n",
    "Methods called like this act *in place*, meaning that rather than *returning* a new variable, they *change the variable itself*, in this example, `l` would now be sorted.\n",
    "\n",
    "Familiarise yourself with the [Python List Methods](https://docs.python.org/3/tutorial/datastructures.html). You will need to use some of them in the challenges below.\n",
    "\n",
    "**Challenge**\n",
    "\n",
    "Write a program which asks a user to enter ten words and then prints the words out to the user in alphabetical order. *Hint: you'll want to use the `append()` and `sort()` methods.*"
   ]
  },
  {
   "cell_type": "code",
   "execution_count": null,
   "metadata": {},
   "outputs": [],
   "source": [
    "# your code here!"
   ]
  },
  {
   "cell_type": "markdown",
   "metadata": {},
   "source": [
    "### Because Lists and Tuples are ordered, they can be *sliced*\n",
    "\n",
    "Lists and tuples hold values in an order, which means that in order to access an individual item in either a list or a dictionary, we need to reference which item or items we want using **either** an **index** or a **slice**. We do this using subscription, as mentioned above, and this will **always return a new value** rather than altering our existing list or tuple.\n",
    "\n",
    "* An index is a **single integer** specifying the position in the list that we would like returned, relative to the first item (`0`). It will return a single value.\n",
    "* A `slice` is a **special type** which, when passed into the square brackets, will **return a new tuple or list** which will contain 0 or more items from the original list. \n",
    "\n",
    "**Slice Syntax**\n",
    "\n",
    "Slices follow the syntax `x[start:stop:step]`, where `x` is our list or tuple, and `start`, `stop` and `step` are three integers. When creating a new list or tuple, python will:\n",
    "\n",
    "* Start from the index `start`\n",
    "* And continue until it gets to the index `stop`\n",
    "* Going forward by `step` each time.\n",
    "\n",
    "Indexes can be negative (i.e., the last member of a list has index `-1`. Thus, each member of a list has two integer indices (positive/zero, and negative). You can skip any of these arguments, and so `x[:]`, `x[::]` and `x[::1]` are all valid, and will return the same thing. Try this out and play with it in the code below!\n",
    "\n",
    "[You can get more instructions about slices online](https://www.pythoncentral.io/how-to-slice-listsarrays-and-tuples-in-python/).\n",
    "\n",
    "**Challenge**\n",
    "\n",
    "With the above information, slice the list in the cell below to print each of the following."
   ]
  },
  {
   "cell_type": "code",
   "execution_count": null,
   "metadata": {},
   "outputs": [],
   "source": [
    "# we define this once, it won't change throughout the code below\n",
    "count_to_ten = [0, 1, 2, 3, 4, 5, 6, 7, 8, 9, 10]\n",
    "\n",
    "\n",
    "# the numbers 0 to 5 inclusive, i.e., [0, 1, 2, 3, 4, 5]\n",
    "\n",
    "\n",
    "# all the even numbers, i.e. [2, 4, 6, 8, 10]\n",
    "\n",
    "\n",
    "# all the odd numbers, i.e. [1, 3, 5, 7, 9]\n",
    "\n",
    "\n",
    "# all the numbers going backwards, i.e. [10, 9, 8, 7, 6, 5, 4, 3, 2, 1, 0]\n",
    "\n",
    "\n",
    "# all the even numbers, going backwards [10, 8, 6, 4, 2]\n",
    "\n",
    "\n",
    "# the very last number as an integer, 10\n",
    "\n",
    "\n",
    "# the very last number as a list with one member, i.e. [10]\n"
   ]
  },
  {
   "cell_type": "markdown",
   "metadata": {},
   "source": [
    "### Dictionaries are _mutable_, _unordered_, _mappings_ of _keys_ to _values_\n",
    "\n",
    "Dictionaries are not a collection of objects in an order, but rather a mapping of **keys** to **values**. A value in a dictionary cannot be accessed using an index because dictionaries are **unordered** (python doesn't remember their order, so the can change even without us doing anything and it doesn't make sense to ask for the \"first\" value). \n",
    "\n",
    "We therefore need to use a key to put data into a dictionary, and to take data out of it: the **key** **maps** to a **value**. That key should relate to something about our data, rather than any random value: `dog` is probably a good key for the value `\"woof\"`, `2734` probably isn't. \n",
    "\n",
    "The key can have several different types, inlcuding `str`, `int`, `float`, `tuple`, `bool` and `None`, although each key must be unique in any given dictionary. Dictionaries are mutable, meaning they can be changed, by either adding new keys, or reassigning existing keys to new values.\n",
    "\n",
    "For example, check out the dictionary below."
   ]
  },
  {
   "cell_type": "markdown",
   "metadata": {},
   "source": [
    "In the cell below, add a new key `2016`, with the value `\"twenty-sixteen\"`, then print out all three values by accessing them using subscription."
   ]
  },
  {
   "cell_type": "code",
   "execution_count": null,
   "metadata": {},
   "outputs": [],
   "source": [
    "# edit this cell to add your answer!\n",
    "my_first_dict = { 2018: 'twenty-eighteen', 2017: 'twenty-sixteen' }"
   ]
  },
  {
   "cell_type": "markdown",
   "metadata": {},
   "source": [
    "**Question**\n",
    "\n",
    "In `my_first_dict` are `2018` and `2017` keys or indices?"
   ]
  },
  {
   "cell_type": "markdown",
   "metadata": {},
   "source": [
    "*Double click to add your answer*"
   ]
  },
  {
   "cell_type": "markdown",
   "metadata": {},
   "source": [
    "**Question**\n",
    "\n",
    "If a dictionary has keys which have only types `bool` and `NoneType`, what is the maximum number of keys it could contain?"
   ]
  },
  {
   "cell_type": "markdown",
   "metadata": {},
   "source": [
    "*Double click to add your answer*"
   ]
  },
  {
   "cell_type": "markdown",
   "metadata": {},
   "source": [
    "**Question**\n",
    "\n",
    "Give three different examples of three different types of data that you think would be best modelled as a list, dictionary and tuple."
   ]
  },
  {
   "cell_type": "markdown",
   "metadata": {},
   "source": [
    "*Double click to add your answer*"
   ]
  },
  {
   "cell_type": "markdown",
   "metadata": {},
   "source": [
    "### Dictionaries, tuples and lists can all contain other dictionaries, tuples, and lists.\n",
    "\n",
    "This is an important point, and one which is essential to dealing with complex data. Since subcription will always return a value, if that value is also subscriptable, we can simply chain the values together to return a new value. Check out the code below."
   ]
  },
  {
   "cell_type": "code",
   "execution_count": null,
   "metadata": {},
   "outputs": [],
   "source": [
    "# create a list with two values\n",
    "some_list = [(0,1), (2,3)]\n",
    "print('some_list[0] =', some_list[0])\n",
    "# access one of the values in the tuple at index 1\n",
    "print('some_list[1][0] = ', some_list[1][0])\n",
    "# add a dictionary to the end of the list\n",
    "some_list.append(({ 'some_value': [('a', 'b'), ('c', 'd')] }))\n",
    "# now access a value from it\n",
    "print(\"some_list[2]['some_value'][1][0] = \", some_list[2]['some_value'][1][0])"
   ]
  },
  {
   "cell_type": "markdown",
   "metadata": {},
   "source": [
    "Now, let's take our first example of some actual complex data. Run the code below"
   ]
  },
  {
   "cell_type": "code",
   "execution_count": null,
   "metadata": {},
   "outputs": [],
   "source": [
    "# a description of our course\n",
    "our_course = {\n",
    "    'university': 'King\\'s College London',\n",
    "    'course': 'Digital Cultures',\n",
    "    'year': 2018,\n",
    "    'module': 'Introduction to Programming in Python',\n",
    "    'leaders': ['Gabriele', 'Dom', 'Giles',],\n",
    "    'grade_boundaries': {\n",
    "        (90, 100): 'Woah',\n",
    "        (80, 89): 'Very high I',\n",
    "        (70, 79): 'I',\n",
    "        (60, 69): 'II.i',\n",
    "        (50, 59): 'II.ii',\n",
    "        (40, 49): 'III',\n",
    "        (33, 39): 'Condonable fail',\n",
    "        (0, 32): 'Fail',\n",
    "    },\n",
    "    'seminar_weeks': {\n",
    "        1: 'Induction and Welcome',\n",
    "        2: 'Doing Things with Code',\n",
    "        3: 'Complex Types',\n",
    "    },\n",
    "}"
   ]
  },
  {
   "cell_type": "markdown",
   "metadata": {},
   "source": [
    "**Challenge**\n",
    "\n",
    "Now, using subscription, in the cell below print out the values which the comments asks for."
   ]
  },
  {
   "cell_type": "code",
   "execution_count": null,
   "metadata": {},
   "outputs": [],
   "source": [
    "# our university\n",
    "\n",
    "# in one line, print our university and course\n",
    "\n",
    "# print a list of the course leaders\n",
    "\n",
    "# print a list of the course leaders in alphabetical order\n",
    "\n",
    "# print the string 'I' from the list of grade boundaries\n",
    "\n",
    "# print the title of this week's seminar"
   ]
  },
  {
   "cell_type": "markdown",
   "metadata": {},
   "source": [
    "**Question**\n",
    "\n",
    "Are the numbers `1`, `2` and `3` in `seminar_weeks` indices or keys? Why might I have chosen to model this information this way? (other than to ask an interesting question)"
   ]
  },
  {
   "cell_type": "markdown",
   "metadata": {},
   "source": [
    "*Double click to add your answer*"
   ]
  },
  {
   "cell_type": "markdown",
   "metadata": {},
   "source": [
    "Add two new keys to the `our_course` dictionary, which describe the rooms where the lectures and seminars are held as strings. \n",
    "\n",
    "Additionally, add one more key to `our_course` which describes how to contact Gabriele and Dom, with their email address and office hours as a list of dictionaries."
   ]
  },
  {
   "cell_type": "code",
   "execution_count": null,
   "metadata": {},
   "outputs": [],
   "source": [
    "# your code here"
   ]
  },
  {
   "cell_type": "markdown",
   "metadata": {},
   "source": [
    "**Challenge**\n",
    "\n",
    "In a moment, we'll look at a special member of the [python dictionary methods](https://docs.python.org/3/tutorial/datastructures.html#dictionaries), but in the mean time, use the `keys()` and `values()` dictionary methods to print out the below."
   ]
  },
  {
   "cell_type": "code",
   "execution_count": null,
   "metadata": {},
   "outputs": [],
   "source": [
    "# The keys from our_course\n",
    "\n",
    "# the values from our_course['grade_boundaries']\n"
   ]
  },
  {
   "cell_type": "markdown",
   "metadata": {},
   "source": [
    "## 2.c. Complex Types: `len()` and `in`\n",
    "\n",
    "All complex types allow us to do two cool and useful things with them: using the `len()` function, and the `in` operator. \n",
    "\n",
    "The `len()` function will return the number of items in a list, tuple or dictionary, whilst the `in` operator will (amongst other things), tell us if a list or tuple contains an item, or if a dictionary contains a key. Check out the example below."
   ]
  },
  {
   "cell_type": "code",
   "execution_count": null,
   "metadata": {},
   "outputs": [],
   "source": [
    "print(len(our_course))\n",
    "print(len(our_course['leaders']))\n",
    "print('grade_boundaries' in our_course)\n",
    "print((60, 69) in our_course['grade_boundaries'])\n",
    "print('II.i' in our_course['grade_boundaries'])"
   ]
  },
  {
   "cell_type": "markdown",
   "metadata": {},
   "source": [
    "## 3. `KeyError` and `IndexError`\n",
    "\n",
    "**Question**\n",
    "\n",
    "Earlier, we looked at `NameError`, likewise, python has a `KeyError` and `IndexError`. When do you think these two errors are raised, and why may they be useful?\n"
   ]
  },
  {
   "cell_type": "markdown",
   "metadata": {},
   "source": [
    "*Double click to add your own answer*"
   ]
  },
  {
   "cell_type": "markdown",
   "metadata": {},
   "source": [
    "## 4. Handling Errors: `try`, `except` and the *Zen of Python*\n",
    "\n",
    "So far throughout the course, you could be forgiven for thinking errors are **very bad, scary things** 👹 and something to be **afraid of** 😨. This is not how python works. Errors in python are designed to communicate things to us about our code, and we can catch them and use them to control the structure of our code.\n",
    "\n",
    "This is one of the tenets of what is often called *The Zen of Python*, a poem describing the approach to logic and data which underlies python, when compared to many different programming languages. You can read this poem by running the code below."
   ]
  },
  {
   "cell_type": "code",
   "execution_count": null,
   "metadata": {},
   "outputs": [],
   "source": [
    "import this"
   ]
  },
  {
   "cell_type": "markdown",
   "metadata": {},
   "source": [
    "This is part of the philosophy of python, in particular, the following three lines:\n",
    "\n",
    "* Explicit is better than implicit.\n",
    "\n",
    "and:\n",
    "\n",
    "* Errors should never pass silently.\n",
    "* Unless explicitly silenced.\n",
    "\n",
    "You can sum this up by thinking that \"if something doesn't work in our code, our program intentionally blows up, unless we tell it not to.\" This is a good thing, and differs from other, badly thought through, programming languages ([naming no names](http://php.net)) which allow errors to pass without us noticing or with only a warning, not an error.\n",
    "\n",
    "~~There [is one exception to this rule](https://motherboard.vice.com/en_us/article/3daqvj/donald-trump-in-a-programming-language), it's [the best language ever](https://github.com/samshadwell/TrumpScript), like really, really great.~~\n",
    "\n",
    "Python has lots of different types of error which we say are **raised** when something unexpected happens in our code. When an error is raised, we call it an `Exception`. Python gives us a special syntax that we can use to `try` and do something, and if it fails, *catch* an exception of a given `type` and do something else.\n",
    "\n",
    "Let's take our `NameError` example from earlier."
   ]
  },
  {
   "cell_type": "code",
   "execution_count": null,
   "metadata": {},
   "outputs": [],
   "source": [
    "# Call Me By Your Name (2017), plot summarised Python\n",
    "oliver = 'American graduate student'\n",
    "elio = 'introspective bibliophile and musical prodigy'\n",
    "try:\n",
    "    print(olivers_fiance)\n",
    "except NameError:\n",
    "    print('Stare into the fire.')"
   ]
  },
  {
   "cell_type": "markdown",
   "metadata": {},
   "source": [
    "**Challenge**\n",
    "\n",
    "In the cell below, use the `try`/`except` control structure to create a program which looks up a price in a dictionary."
   ]
  },
  {
   "cell_type": "code",
   "execution_count": null,
   "metadata": {},
   "outputs": [],
   "source": [
    "# shop price list\n",
    "shop_prices = {\n",
    "    'eggs': 1.99,\n",
    "    'milk': 0.99,\n",
    "    'ham': 4.99,\n",
    "}\n",
    "\n",
    "# take two inputs - what the customer wants, and how many of the items they want\n",
    "\n",
    "# always greet the customer\n",
    "\n",
    "# see if they sell the item and calculate the price\n",
    "# otherwise say \"We don't sell XXX\", where XXX is the item\n",
    "\n",
    "# always say goodbye to the customer"
   ]
  },
  {
   "cell_type": "markdown",
   "metadata": {},
   "source": [
    "## 5. Iteration: `for` with Lists and Tuples"
   ]
  },
  {
   "cell_type": "markdown",
   "metadata": {},
   "source": [
    "So far, we've only come across one kind of loop, the `while` which will carry on doing something *as long as the supplied condition is true.* However, often the most useful type of loop we can use is a `for` loop, which allows us to *do something for every member of a list, tuple or dictionary*.\n",
    "\n",
    "Using this structure is very simple, and very powerful. Check out the example syntax below."
   ]
  },
  {
   "cell_type": "code",
   "execution_count": null,
   "metadata": {},
   "outputs": [],
   "source": [
    "for x in ['a', 'b', 'c']:\n",
    "    print(x)"
   ]
  },
  {
   "cell_type": "markdown",
   "metadata": {},
   "source": [
    "## 6. Problem 1: Shop Calculator\n",
    "\n",
    "You now have all the tools needed to create a simple shop that sells more than one item at a time, and adds up the price for a user.\n",
    "\n",
    "In the cell below, write a program which:\n",
    "\n",
    "* Defines a catalogue of prices for a shop (this is done for you, do add more items if you wish!)\n",
    "* Continually (i.e., `while` loop):\n",
    "    * asks a user what they would like to buy\n",
    "    * checks that the shop has the value the user asked for in their catalogue (try/except) and if it doesn't, displays this fact to the user\n",
    "    * if the shop does sell the item, it should ask for a quantity\n",
    "    * then add these values to a list as a tuple containing a string and an integer, so if a user wanted 2 pints of milk you would append the value `('milk', 2)` to your list \n",
    "    * then asks the user if they would like to add another item - either yes, or no\n",
    "* When the user does not wish to add any more items, it should loop (`for`) through the list you have created and calculate a total price, which is eventually printed out to the user.\n",
    "\n",
    "*Go!*"
   ]
  },
  {
   "cell_type": "code",
   "execution_count": null,
   "metadata": {},
   "outputs": [],
   "source": [
    "# starting catalogue \n",
    "shop_prices = {\n",
    "    'eggs': 1.99,\n",
    "    'milk': 0.99,\n",
    "    'ham': 4.99,\n",
    "}\n",
    "\n",
    "# your code here"
   ]
  },
  {
   "cell_type": "markdown",
   "metadata": {},
   "source": [
    "## 7. Unpacking and `enumerate()`\n",
    "\n",
    "So far, our for loops have been basic, and only contained the `value` of a list or tuple. But, often in our code it is important or useful to know the **index** at which a value is placed. Luckily, python has a handy function that allows us to do just that. However, to understand it properly, let's quickly cover a new term: unpacking.\n",
    "\n",
    "### 7.a. Unpacking\n",
    "\n",
    "Unpacking is a simple tool python has to convert one value into more than one value. Simply put, unpacking is a way of taking a complex typed variable like a tuple, and unpacking its (ordered) values into new variables. In this way, we take the values from a tuple and put them into individual variables (leaving the tuple untouched).\n",
    "\n",
    "Take a look at the example below."
   ]
  },
  {
   "cell_type": "code",
   "execution_count": null,
   "metadata": {},
   "outputs": [],
   "source": [
    "my_tuple = (1, 2)  # create the tuple\n",
    "\n",
    "a, b = my_tuple  # unpack the tuple\n",
    "\n",
    "# print out some values\n",
    "print('my_tuple is', my_tuple)\n",
    "print('and now a is', a, 'and b is', b)"
   ]
  },
  {
   "cell_type": "markdown",
   "metadata": {},
   "source": [
    "### 7.b. What `enumerate()` does\n",
    "\n",
    "The special function `enumerate()` will take a tuple or a list (i.e., collections that have an index, not a key), and return a new list of tuples, which have the value at index `1` and the index at index `0`. \n",
    "\n",
    "Check out the following example."
   ]
  },
  {
   "cell_type": "code",
   "execution_count": null,
   "metadata": {},
   "outputs": [],
   "source": [
    "# what enumerate does\n",
    "l = ['a', 'b', 'c']\n",
    "for new_value in enumerate(l):\n",
    "    print(new_value)"
   ]
  },
  {
   "cell_type": "markdown",
   "metadata": {},
   "source": [
    "### 7.c. Combining `enumerate()` and unpacking\n",
    "\n",
    "As you can see, since `enumerate()` provides us with a list of tuples, we're able to unpack these values into two variables. Python lets us do this in our `for` loop. So the code above could be more usefully written as:"
   ]
  },
  {
   "cell_type": "code",
   "execution_count": null,
   "metadata": {},
   "outputs": [],
   "source": [
    "# Unpacking enumerate\n",
    "l = ['a', 'b', 'c']\n",
    "for index, value in enumerate(l):\n",
    "    print('value', value, 'is at index', index)"
   ]
  },
  {
   "cell_type": "markdown",
   "metadata": {},
   "source": [
    "**Challenge**\n",
    "\n",
    "You now have everything you need to write a useful program to tell users about US Presidents. I've included a list of every US Presdient in a file called `presidents.py` which is included along with this notebook. I've imported this in the cell below, alongside the `pprint()` function, which works just like `print()`, but makes complex types easier to read by putting spaces and new lines in them.\n",
    "\n",
    "Write a simple program which:\n",
    "\n",
    "* Asks the user which numbered US President they wish to find out about (i.e., so if the user typed in 44, they would get Barack Obama, be careful here as you'll need to change the value they enter to convert it into an index).\n",
    "* Looks up the president by their index in the list `presidents`, displaying a message if no such president is found.\n",
    "* Prints out a sentence about the president using the values from the `presidents` variable. \n",
    "\n",
    "If your user therefore entered '44', your program would return something like the below.\n",
    "\n",
    "*Barack Obama was US President number 44, a Democrat who took office on 20/01/2009 and left office on 20/01/2017.*\n"
   ]
  },
  {
   "cell_type": "code",
   "execution_count": null,
   "metadata": {},
   "outputs": [],
   "source": [
    "# we're importing a variable here from a local file\n",
    "from presidents import presidents\n",
    "from pprint import pprint # this is the \"pretty print\" function\n",
    "\n",
    "pprint(presidents)"
   ]
  },
  {
   "cell_type": "markdown",
   "metadata": {},
   "source": [
    "## 8. Iterating Over Dictionaries\n",
    "\n",
    "So now we've iterated over some lists and tuples, let's try iterating through a dictionary. Run the code below."
   ]
  },
  {
   "cell_type": "code",
   "execution_count": null,
   "metadata": {},
   "outputs": [],
   "source": [
    "some_dict = {'a': 1, 'b': 2}\n",
    "for x in some_dict:\n",
    "    print(x)"
   ]
  },
  {
   "cell_type": "markdown",
   "metadata": {},
   "source": [
    "Not quite what you expected? Just like how `'a' in some_dict` checks to see if `some_dict` has the key `'a'`, the simple behaviour for iterating over a dictionary simply loops through the dictionary's keys, not its values. If we want to iterate through just the values, we have to use the `values()` method which we mentioned above. \n",
    "\n",
    "Take thefollowing example:"
   ]
  },
  {
   "cell_type": "code",
   "execution_count": null,
   "metadata": {},
   "outputs": [],
   "source": [
    "some_dict = {'a': 1, 'b': 2}\n",
    "for x in some_dict.values():\n",
    "    print(x)"
   ]
  },
  {
   "cell_type": "markdown",
   "metadata": {},
   "source": [
    "However, in the same way that it's useful to get the **index** of a value in a list when we're iterating over it, it's often especially useful to get the **key** of a value in a dictionary while we're iterating over it. If we took our shop example earlier, we could print out a list of all the prices, or all the products, but not both...\n",
    "\n",
    "So how can we iterate over keys and values together? Well, it comes back to unpacking, as we discussed earlier. We need a function that will take our dictionary and covert it into a list of tuples, containing the key and the value.\n",
    "\n",
    "However, the `enumerate()` function is no use to us here, as dictionaires have no order, and so don't have an index. Instead, we use the `items()` method of the dictionary. To see how this works, check out the example below."
   ]
  },
  {
   "cell_type": "code",
   "execution_count": null,
   "metadata": {},
   "outputs": [],
   "source": [
    "# assign our dictionary\n",
    "some_dict = {'a': 1, 'b': 2}\n",
    "\n",
    "# see what the items() method does\n",
    "print(some_dict.items())\n",
    "\n",
    "# now unpack these values in a for loop\n",
    "for k, v in some_dict.items():\n",
    "    print('key', k, 'maps to value', v)"
   ]
  },
  {
   "cell_type": "markdown",
   "metadata": {},
   "source": [
    "**Challenge**\n",
    "\n",
    "Let's return to the `our_course` variable. We now have everything we need to do two things. Run the code below to make sure the variable is assigned, and then, in the cells below, write two programs to do each of the tasks mentioned."
   ]
  },
  {
   "cell_type": "code",
   "execution_count": null,
   "metadata": {},
   "outputs": [],
   "source": [
    "# a description of our course\n",
    "our_course = {\n",
    "    'university': 'King\\'s College London',\n",
    "    'course': 'Digital Cultures',\n",
    "    'year': 2018,\n",
    "    'module': 'Introduction to Programming in Python',\n",
    "    'leaders': ['Gabriele', 'Dom', 'Giles',],\n",
    "    'grade_boundaries': {\n",
    "        (90, 100): 'Woah',\n",
    "        (80, 89): 'Very high I',\n",
    "        (70, 79): 'I',\n",
    "        (60, 69): 'II.i',\n",
    "        (50, 59): 'II.ii',\n",
    "        (40, 49): 'III',\n",
    "        (33, 39): 'Condonable fail',\n",
    "        (0, 32): 'Fail',\n",
    "    },\n",
    "    'seminar_weeks': {\n",
    "        1: 'Induction and Welcome',\n",
    "        2: 'Doing Things with Code',\n",
    "        3: 'Complex Types',\n",
    "    },\n",
    "}"
   ]
  },
  {
   "cell_type": "markdown",
   "metadata": {},
   "source": [
    "**Challenge: List the Weeks**\n",
    "\n",
    "Use a for loop to list the seminar weeks and their titles."
   ]
  },
  {
   "cell_type": "code",
   "execution_count": null,
   "metadata": {},
   "outputs": [],
   "source": [
    "# your code here"
   ]
  },
  {
   "cell_type": "markdown",
   "metadata": {},
   "source": [
    "**Grade Assigner**\n",
    "\n",
    "Now let's write a better script to assign grades to papers. Write a program which does the following.\n",
    "\n",
    "* Takes an input from the user and converts it to an integer. If the user's input causes a `TypeError`, catch it and tell the user the input was invalid.\n",
    "* Iterate through `our_course['grade_boundaries']`, and if the value they have entered is within the values in the tuple which forms the key, print out the name of the grade\n",
    "* If the integer is not between any of these values, tell the user the number was invalid."
   ]
  },
  {
   "cell_type": "code",
   "execution_count": null,
   "metadata": {},
   "outputs": [],
   "source": [
    "# your code here"
   ]
  },
  {
   "cell_type": "markdown",
   "metadata": {},
   "source": [
    "## 9. `random.choice()` \n",
    "\n",
    "Last week you'll remember we used the `random.randint()` function to generate a random number. This week we'll be using a similar function called `random.choice()`, which takes a list and returns a random value from it. You can see how this function works in the example below. You will need it for the next problem."
   ]
  },
  {
   "cell_type": "code",
   "execution_count": null,
   "metadata": {},
   "outputs": [],
   "source": [
    "from random import choice\n",
    "\n",
    "# run this code a couple of times to see what happens\n",
    "some_list = ['a', 'b', 'c', 'd', 'e', 'f',]\n",
    "print(choice(some_list))"
   ]
  },
  {
   "cell_type": "markdown",
   "metadata": {},
   "source": [
    "## 10. Problem 2: Guess the Country\n",
    "\n",
    "Let's make another game, this time we're going to ask a user to guess a country based on its capital. We want the user to guess ten countries in total. If they guess the country correctly, they get 1 point, if they do not, they get 0 points. The user's score (max 10, min 0) should be presented to them at the end.\n",
    "\n",
    "I've imported a variable that contains a list of dictionaries detailing the majority of countries in the world, and have printed it out for you below. Explore the data and decide on the best way to write your code!"
   ]
  },
  {
   "cell_type": "code",
   "execution_count": null,
   "metadata": {},
   "outputs": [],
   "source": [
    "from countries import countries\n",
    "from pprint import pprint\n",
    "\n",
    "# your code here\n",
    "pprint(countries)  # delete this line "
   ]
  },
  {
   "cell_type": "markdown",
   "metadata": {},
   "source": [
    "## 11. String Functions\n",
    "\n",
    "Python has an extensive range of string functions. You can find out an introduction to some of these [in tutorials such as this one](https://www.digitalocean.com/community/tutorials/an-introduction-to-string-functions-in-python-3). Read this article and do your own research to explore what each of the following methods do. Write a brief explanation of their features in the cell below, and in the cell below that, write example code using these functions.\n",
    "\n",
    "* str.split()\n",
    "* str.join()\n",
    "* str.upper()\n",
    "* str.lower()\n",
    "* str.replace()"
   ]
  },
  {
   "cell_type": "markdown",
   "metadata": {},
   "source": [
    "*Double click here to add your own text*"
   ]
  },
  {
   "cell_type": "code",
   "execution_count": null,
   "metadata": {},
   "outputs": [],
   "source": [
    "# example code here"
   ]
  },
  {
   "cell_type": "markdown",
   "metadata": {},
   "source": [
    "## 12. Going Further\n",
    "\n",
    "If you want to explore this week's content in more detail, do the following.\n",
    "\n",
    "\n",
    "**On Names**\n",
    "\n",
    "Research and explain what is happening in the code below.\n"
   ]
  },
  {
   "cell_type": "code",
   "execution_count": null,
   "metadata": {},
   "outputs": [],
   "source": [
    "a = 1\n",
    "b = 2\n",
    "d = { 'c': 3 }\n",
    "t = (a, b, d)\n",
    "print(t)\n",
    "d['e'] = 4\n",
    "print(t)"
   ]
  },
  {
   "cell_type": "markdown",
   "metadata": {},
   "source": [
    "**On Sets**\n",
    "\n",
    "Python has an additional complex type, the `set()`, which is a mutable, unordered collection of **unique** elements. What does that mean, and what is happening in the code below?"
   ]
  },
  {
   "cell_type": "code",
   "execution_count": null,
   "metadata": {},
   "outputs": [],
   "source": [
    "a = set((1,2,3,4))\n",
    "b = set((3,4))\n",
    "print(a | b)"
   ]
  }
 ],
 "metadata": {
  "kernelspec": {
   "display_name": "Python 3",
   "language": "python",
   "name": "python3"
  },
  "language_info": {
   "codemirror_mode": {
    "name": "ipython",
    "version": 3
   },
   "file_extension": ".py",
   "mimetype": "text/x-python",
   "name": "python",
   "nbconvert_exporter": "python",
   "pygments_lexer": "ipython3",
   "version": "3.5.2"
  }
 },
 "nbformat": 4,
 "nbformat_minor": 2
}
