{
  "nbformat": 4,
  "nbformat_minor": 0,
  "metadata": {
    "colab": {
      "provenance": []
    },
    "kernelspec": {
      "name": "python3",
      "display_name": "Python 3"
    },
    "language_info": {
      "name": "python"
    }
  },
  "cells": [
    {
      "cell_type": "code",
      "execution_count": null,
      "metadata": {
        "colab": {
          "base_uri": "https://localhost:8080/"
        },
        "id": "MwODiHfnxSxl",
        "outputId": "9543c9c5-da62-480b-94b2-60fb6ab11f24"
      },
      "outputs": [
        {
          "output_type": "stream",
          "name": "stdout",
          "text": [
            "12\n",
            "34\n",
            "56\n",
            "78\n"
          ]
        }
      ],
      "source": [
        "\n",
        "a= [12,34,8,6,56,78,3,45]\n",
        "for i in a:\n",
        "  if((i%2==0)&(i>10)):\n",
        "    print(i)"
      ]
    },
    {
      "cell_type": "code",
      "source": [
        "n=int(input(\"enter the number\"))\n",
        "for i in range(1,n):\n",
        "  for j in range(1,i+1):\n",
        "    print(\"8\",end=\"\")\n",
        "  print()"
      ],
      "metadata": {
        "colab": {
          "base_uri": "https://localhost:8080/"
        },
        "id": "pYKD7vCAf-z1",
        "outputId": "7d8d0c61-b90b-4752-95a7-5315f11bb676"
      },
      "execution_count": null,
      "outputs": [
        {
          "output_type": "stream",
          "name": "stdout",
          "text": [
            "enter the number5\n",
            "8\n",
            "88\n",
            "888\n",
            "8888\n"
          ]
        }
      ]
    },
    {
      "cell_type": "code",
      "source": [
        "a= {12,34,8,6,56,78,3,45}\n",
        "for i in a:\n",
        "  if((i%2==0)&(i>10)):\n",
        "    print(i)"
      ],
      "metadata": {
        "colab": {
          "base_uri": "https://localhost:8080/"
        },
        "id": "Ws6-Caeagljo",
        "outputId": "7ad51784-ed6d-48b5-db5e-d238c114f4b2"
      },
      "execution_count": null,
      "outputs": [
        {
          "output_type": "stream",
          "name": "stdout",
          "text": [
            "34\n",
            "12\n",
            "78\n",
            "56\n"
          ]
        }
      ]
    },
    {
      "cell_type": "code",
      "source": [
        "list1= [1,2,3,'a','b','c']\n",
        "list2= [2,3,'b','c','d']\n",
        "list3=[]\n",
        "for i in list1:\n",
        "  if i in list2:\n",
        "    list3.append(i)\n",
        "  print(list3)"
      ],
      "metadata": {
        "id": "a9PenuOlhJeL",
        "colab": {
          "base_uri": "https://localhost:8080/"
        },
        "outputId": "a5587fde-799f-4132-b76f-d45c767426f4"
      },
      "execution_count": null,
      "outputs": [
        {
          "output_type": "stream",
          "name": "stdout",
          "text": [
            "[]\n",
            "[2]\n",
            "[2, 3]\n",
            "[2, 3]\n",
            "[2, 3, 'b']\n",
            "[2, 3, 'b', 'c']\n"
          ]
        }
      ]
    },
    {
      "cell_type": "code",
      "source": [
        "\n",
        "\n"
      ],
      "metadata": {
        "id": "-SDXXgahM0K_"
      },
      "execution_count": null,
      "outputs": []
    },
    {
      "cell_type": "code",
      "source": [
        "a= int(input(\"enter the num\"))\n",
        "b= int(input(\"enter the sec num\"))\n",
        "def sum_1(a,b):\n",
        "  s=a+b\n",
        "  return s\n",
        "print(sum_1(a,b))"
      ],
      "metadata": {
        "colab": {
          "base_uri": "https://localhost:8080/"
        },
        "id": "PkEjtjr4b4Lb",
        "outputId": "b79f819d-8641-4f91-d71b-d5c10260c7c5"
      },
      "execution_count": null,
      "outputs": [
        {
          "output_type": "stream",
          "name": "stdout",
          "text": [
            "enter the num4\n",
            "enter the sec num7\n",
            "11\n"
          ]
        }
      ]
    },
    {
      "cell_type": "code",
      "source": [],
      "metadata": {
        "colab": {
          "base_uri": "https://localhost:8080/"
        },
        "id": "IsH6qWpMfC29",
        "outputId": "5405b8c3-5df7-4489-d11a-374ba2eb1e43"
      },
      "execution_count": null,
      "outputs": [
        {
          "output_type": "execute_result",
          "data": {
            "text/plain": [
              "4"
            ]
          },
          "metadata": {},
          "execution_count": 10
        }
      ]
    },
    {
      "cell_type": "code",
      "source": [
        "n= int(input(\"enter the num\"))\n",
        "def fact(n):\n",
        "  f=1\n",
        "  for i in range(1,n+1):\n",
        "    f=f*i\n",
        "  return f\n",
        "print(fact(n))"
      ],
      "metadata": {
        "id": "AMnUnnhufwBs",
        "colab": {
          "base_uri": "https://localhost:8080/"
        },
        "outputId": "baca7fee-edd7-410b-9b6a-4e5dbc3494c6"
      },
      "execution_count": null,
      "outputs": [
        {
          "output_type": "stream",
          "name": "stdout",
          "text": [
            "enter the num6\n",
            "720\n"
          ]
        }
      ]
    },
    {
      "cell_type": "code",
      "source": [
        "n= int(input(\"nter the number\"))\n",
        "if((n>=18) & (n<29)):\n",
        "  print('you are ele')\n",
        "elif(n>30):\n",
        "  print('you are young')\n",
        "elif((n<10) & (n>5)):\n",
        "  print('you are child')\n",
        "else:\n",
        "  print('you cant')"
      ],
      "metadata": {
        "colab": {
          "base_uri": "https://localhost:8080/"
        },
        "id": "nkxVzfJLT1AG",
        "outputId": "510b7bb9-bf6b-4f0c-ffae-e32ce55096e4"
      },
      "execution_count": null,
      "outputs": [
        {
          "output_type": "stream",
          "name": "stdout",
          "text": [
            "nter the number45\n",
            "you are young\n"
          ]
        }
      ]
    },
    {
      "cell_type": "code",
      "source": [
        "n=int(input('enter the number'))\n",
        "for i in range (1,n):\n",
        "  for j in range (1,n-i):\n",
        "    print(' ',end='')\n",
        "  for k in range (0,i):\n",
        "    print('8',end='')\n",
        "  for m in range (1,i):\n",
        "    print('8',end='')\n",
        "  print()"
      ],
      "metadata": {
        "colab": {
          "base_uri": "https://localhost:8080/"
        },
        "id": "2P1_iah2VpYB",
        "outputId": "25d4fb9a-3867-4b41-8495-eb70ad728a7f"
      },
      "execution_count": null,
      "outputs": [
        {
          "output_type": "stream",
          "name": "stdout",
          "text": [
            "enter the number6\n",
            "    8\n",
            "   888\n",
            "  88888\n",
            " 8888888\n",
            "888888888\n"
          ]
        }
      ]
    },
    {
      "cell_type": "code",
      "source": [
        "list1 = [23,45,67,89,12,3,56,78,90,45,34,123,567,0,167,45,78,789]\n",
        "list2=[]\n",
        "maximun = max(list1)\n",
        "for i in list1:\n",
        "  if i<maximun:\n",
        "    list2.append(i)\n",
        "print(list2)"
      ],
      "metadata": {
        "colab": {
          "base_uri": "https://localhost:8080/"
        },
        "id": "70fHchOZXkN2",
        "outputId": "5368a94a-9708-45a2-dc34-d93d39b95d14"
      },
      "execution_count": null,
      "outputs": [
        {
          "output_type": "stream",
          "name": "stdout",
          "text": [
            "[23, 45, 67, 89, 12, 3, 56, 78, 90, 45, 34, 123, 567, 0, 167, 45, 78]\n"
          ]
        }
      ]
    },
    {
      "cell_type": "code",
      "source": [
        "\n",
        "list1 = [23,45,67,89,12,3,56,78,90,45,34,123,567,0,167,45,78,789]\n",
        "list1.sort()\n",
        "print(list1)\n",
        "list2=[]\n",
        "list2.append(list1)\n",
        "print(list2)"
      ],
      "metadata": {
        "colab": {
          "base_uri": "https://localhost:8080/"
        },
        "id": "vmcNrSAxhCJN",
        "outputId": "2b27aba8-a8bf-4847-86cd-9019639057a7"
      },
      "execution_count": null,
      "outputs": [
        {
          "output_type": "stream",
          "name": "stdout",
          "text": [
            "[0, 3, 12, 23, 34, 45, 45, 45, 56, 67, 78, 78, 89, 90, 123, 167, 567, 789]\n",
            "[[0, 3, 12, 23, 34, 45, 45, 45, 56, 67, 78, 78, 89, 90, 123, 167, 567, 789]]\n"
          ]
        }
      ]
    },
    {
      "cell_type": "code",
      "source": [
        "list1"
      ],
      "metadata": {
        "colab": {
          "base_uri": "https://localhost:8080/"
        },
        "id": "dYWoSUwhiV4y",
        "outputId": "f7b561f1-c402-4eff-9026-55964c433402"
      },
      "execution_count": null,
      "outputs": [
        {
          "output_type": "execute_result",
          "data": {
            "text/plain": [
              "[0, 3, 12, 23, 34, 45, 45, 45, 56, 67, 78, 78, 89, 90, 123, 167, 567, 789]"
            ]
          },
          "metadata": {},
          "execution_count": 43
        }
      ]
    },
    {
      "cell_type": "code",
      "source": [
        "n= int(input(\"enter the number\"))\n",
        "def check(n):\n",
        "  if(n%2==0):\n",
        "    print(\"even\")\n",
        "  else:\n",
        "    print(\"odd\")\n",
        "print(check(n))"
      ],
      "metadata": {
        "colab": {
          "base_uri": "https://localhost:8080/"
        },
        "id": "pzNapyWcjDOr",
        "outputId": "47d4da7c-6b26-43e3-c779-a0bf6c743522"
      },
      "execution_count": null,
      "outputs": [
        {
          "output_type": "stream",
          "name": "stdout",
          "text": [
            "enter the number7\n",
            "odd\n",
            "None\n"
          ]
        }
      ]
    },
    {
      "cell_type": "code",
      "source": [
        "from re import I\n",
        "arr = [34,56,78,0,23,2,111,45]\n",
        "max = arr[0]\n",
        "min = arr[0]\n",
        "for i in arr:\n",
        "  if i>max:\n",
        "    max=i\n",
        "  elif i<min:\n",
        "    min=i\n",
        "print(max)\n",
        "print(min)\n"
      ],
      "metadata": {
        "id": "ZOW5Y8OvnlXt",
        "colab": {
          "base_uri": "https://localhost:8080/"
        },
        "outputId": "a9435276-7aff-44ec-ba8e-ddce0dd111d3"
      },
      "execution_count": null,
      "outputs": [
        {
          "output_type": "stream",
          "name": "stdout",
          "text": [
            "111\n",
            "0\n"
          ]
        }
      ]
    },
    {
      "cell_type": "code",
      "source": [
        "#sorting in array\n",
        "arr = [34,56,78,0,23,2,111,45]\n",
        "def sorting(arr):\n",
        "  n = len(arr)\n",
        "  for i in range(0,n-1):\n",
        "    for j in range(i+1,n):\n",
        "      if ((arr[i])>(arr[j])):\n",
        "        temp = arr[i]\n",
        "        arr[i]= arr[j]\n",
        "        arr[j]= temp\n",
        "  return(arr)\n",
        "print(sorting(arr))"
      ],
      "metadata": {
        "colab": {
          "base_uri": "https://localhost:8080/"
        },
        "id": "7qFcu6wtx2Kn",
        "outputId": "9876deb4-b646-43b7-ae68-47a731c2f2db"
      },
      "execution_count": null,
      "outputs": [
        {
          "output_type": "stream",
          "name": "stdout",
          "text": [
            "[0, 2, 23, 34, 45, 56, 78, 111]\n"
          ]
        }
      ]
    },
    {
      "cell_type": "code",
      "source": [
        "arr = [111,111,111,111,34,56,78,0,23,2,45]\n",
        "n=len(arr)\n",
        "counter=0\n",
        "for i in range(0,n-1):\n",
        "  for j in range(i+1,n):\n",
        "    if(arr[i]==arr[j]):\n",
        "      counter+=1\n",
        "print(counter)\n",
        "print(arr[j])"
      ],
      "metadata": {
        "colab": {
          "base_uri": "https://localhost:8080/"
        },
        "id": "3yYypXlwyhgp",
        "outputId": "5fd94d83-5a5b-428a-a759-11ceadedc37d"
      },
      "execution_count": null,
      "outputs": [
        {
          "output_type": "stream",
          "name": "stdout",
          "text": [
            "6\n",
            "45\n"
          ]
        }
      ]
    },
    {
      "cell_type": "code",
      "source": [
        "arr = [34,56,111,78,0,23,2,111,111,111,45]\n",
        "a = []\n",
        "for i in arr:\n",
        "  for i in a:\n",
        "    if(i==j):\n",
        "      a[i] += 1\n",
        "print(a[i])"
      ],
      "metadata": {
        "colab": {
          "base_uri": "https://localhost:8080/",
          "height": 176
        },
        "id": "bLF02BIG74Cm",
        "outputId": "9d2020e3-9dfd-4200-ab41-1185d21ecb49"
      },
      "execution_count": null,
      "outputs": [
        {
          "output_type": "error",
          "ename": "IndexError",
          "evalue": "list index out of range",
          "traceback": [
            "\u001b[0;31m---------------------------------------------------------------------------\u001b[0m",
            "\u001b[0;31mIndexError\u001b[0m                                Traceback (most recent call last)",
            "\u001b[0;32m<ipython-input-42-4cb08f14571c>\u001b[0m in \u001b[0;36m<cell line: 7>\u001b[0;34m()\u001b[0m\n\u001b[1;32m      5\u001b[0m     \u001b[0;32mif\u001b[0m\u001b[0;34m(\u001b[0m\u001b[0mi\u001b[0m\u001b[0;34m==\u001b[0m\u001b[0mj\u001b[0m\u001b[0;34m)\u001b[0m\u001b[0;34m:\u001b[0m\u001b[0;34m\u001b[0m\u001b[0;34m\u001b[0m\u001b[0m\n\u001b[1;32m      6\u001b[0m       \u001b[0ma\u001b[0m\u001b[0;34m[\u001b[0m\u001b[0mi\u001b[0m\u001b[0;34m]\u001b[0m \u001b[0;34m+=\u001b[0m \u001b[0;36m1\u001b[0m\u001b[0;34m\u001b[0m\u001b[0;34m\u001b[0m\u001b[0m\n\u001b[0;32m----> 7\u001b[0;31m \u001b[0mprint\u001b[0m\u001b[0;34m(\u001b[0m\u001b[0ma\u001b[0m\u001b[0;34m[\u001b[0m\u001b[0mi\u001b[0m\u001b[0;34m]\u001b[0m\u001b[0;34m)\u001b[0m\u001b[0;34m\u001b[0m\u001b[0;34m\u001b[0m\u001b[0m\n\u001b[0m",
            "\u001b[0;31mIndexError\u001b[0m: list index out of range"
          ]
        }
      ]
    },
    {
      "cell_type": "code",
      "source": [
        "for i in range(1,11):\n",
        "  for j in range(1,11):\n",
        "    print(i*j,end=\" \")\n",
        "  print()"
      ],
      "metadata": {
        "colab": {
          "base_uri": "https://localhost:8080/"
        },
        "id": "x_XLOMQL-YW6",
        "outputId": "e5107925-26bd-49ad-b2a6-0136551429d8"
      },
      "execution_count": null,
      "outputs": [
        {
          "output_type": "stream",
          "name": "stdout",
          "text": [
            "1 2 3 4 5 6 7 8 9 10 \n",
            "2 4 6 8 10 12 14 16 18 20 \n",
            "3 6 9 12 15 18 21 24 27 30 \n",
            "4 8 12 16 20 24 28 32 36 40 \n",
            "5 10 15 20 25 30 35 40 45 50 \n",
            "6 12 18 24 30 36 42 48 54 60 \n",
            "7 14 21 28 35 42 49 56 63 70 \n",
            "8 16 24 32 40 48 56 64 72 80 \n",
            "9 18 27 36 45 54 63 72 81 90 \n",
            "10 20 30 40 50 60 70 80 90 100 \n"
          ]
        }
      ]
    },
    {
      "cell_type": "code",
      "source": [
        "arr = [111,34,56,111,78,0,0,23,2,111,111,111,45,111]\n",
        "cnt = 0\n",
        "ans = 0\n",
        "n = len(arr)\n",
        "for i in range(0, n-1):\n",
        "  cnt = 0\n",
        "  if(arr[i] == -1):\n",
        "    continue\n",
        "  for j in range(i+1, n):\n",
        "    if(arr[i]==arr[j]):\n",
        "      cnt += 1\n",
        "      arr[j] = -1\n",
        "  if cnt:\n",
        "    ans += (cnt+1)\n",
        "    print(arr[i], (cnt+1))\n",
        "\n",
        "print(ans)\n"
      ],
      "metadata": {
        "colab": {
          "base_uri": "https://localhost:8080/"
        },
        "id": "7wacylnNFNyG",
        "outputId": "14b0e260-0b0b-483c-bf08-30e8c67ae351"
      },
      "execution_count": null,
      "outputs": [
        {
          "output_type": "stream",
          "name": "stdout",
          "text": [
            "111 6\n",
            "0 2\n",
            "8\n"
          ]
        }
      ]
    },
    {
      "cell_type": "code",
      "source": [
        "def find_pair_with_sum(arr, target):\n",
        "    # Create an empty hash table (dictionary)\n",
        "    seen = {}\n",
        "\n",
        "    for num in arr:\n",
        "        # Calculate the complement that we need to find\n",
        "        complement = target - num\n",
        "\n",
        "        # If the complement is already in the hash table, return the pair\n",
        "        if complement in seen:\n",
        "            return (complement, num)\n",
        "\n",
        "        # Add the current number to the hash table\n",
        "        seen[num] = True\n",
        "\n",
        "    # If no pair is found, return None\n",
        "    return None\n",
        "\n",
        "# Example usage:\n",
        "arr = [10, 15, 3, 7]\n",
        "target = 17\n",
        "pair = find_pair_with_sum(arr, target)\n",
        "if pair:\n",
        "    print(f\"Pair found: {pair}\")\n",
        "else:\n",
        "    print(\"No pair found that sums up to the target.\")\n"
      ],
      "metadata": {
        "colab": {
          "base_uri": "https://localhost:8080/"
        },
        "id": "Rk_z9RI0Xu9B",
        "outputId": "f8eba6aa-c109-4efc-b525-d5b219597054"
      },
      "execution_count": null,
      "outputs": [
        {
          "output_type": "stream",
          "name": "stdout",
          "text": [
            "Pair found: (10, 7)\n"
          ]
        }
      ]
    },
    {
      "cell_type": "code",
      "source": [
        "n = int(input(\"enter the number:-\"))\n",
        "def pattern(n):\n",
        "    for i in range(1,n):\n",
        "        for j in range(0,n-i):\n",
        "            print(\" \",end=\"\")\n",
        "        for k in range(0,i):\n",
        "            print(\"*\",end=\"\")\n",
        "        for k in range(1,i):\n",
        "            print(\"*\",end=\"\")\n",
        "        print()\n",
        "    for i in range(1,n):\n",
        "        for j in range(0,i):\n",
        "            print(\" \",end=\"\")\n",
        "        for k in range(0,n-i):\n",
        "            print(\"*\",end=\"\")\n",
        "        for k in range(1,n-i):\n",
        "            print(\"*\",end=\"\")\n",
        "        print()\n",
        "    return n\n",
        "print(pattern(n))"
      ],
      "metadata": {
        "id": "H4Jy_kAxjqTf",
        "colab": {
          "base_uri": "https://localhost:8080/"
        },
        "outputId": "fcff0855-e54b-4675-cebe-952d823e8857"
      },
      "execution_count": null,
      "outputs": [
        {
          "output_type": "stream",
          "name": "stdout",
          "text": [
            "enter the number:-6\n",
            "     *\n",
            "    ***\n",
            "   *****\n",
            "  *******\n",
            " *********\n",
            " *********\n",
            "  *******\n",
            "   *****\n",
            "    ***\n",
            "     *\n",
            "6\n"
          ]
        }
      ]
    },
    {
      "cell_type": "code",
      "source": [
        "n=1234\n",
        "def count(n):\n",
        "  count=0\n",
        "  while(n>0):\n",
        "    n=n//10\n",
        "    count+=1\n",
        "  return count\n",
        "print(count(n))"
      ],
      "metadata": {
        "colab": {
          "base_uri": "https://localhost:8080/"
        },
        "id": "kXKlD9HYBD1Y",
        "outputId": "50d8f3f7-e14b-4f50-ecae-6d7d65f06344"
      },
      "execution_count": null,
      "outputs": [
        {
          "output_type": "stream",
          "name": "stdout",
          "text": [
            "4\n"
          ]
        }
      ]
    },
    {
      "cell_type": "code",
      "source": [
        "n= int(input(\"enter the number\"))\n",
        "def fact(n):\n",
        "  f=1\n",
        "  for i in range(1,n+1):\n",
        "    f=f*i\n",
        "  return f\n",
        "print(fact(n))"
      ],
      "metadata": {
        "colab": {
          "base_uri": "https://localhost:8080/"
        },
        "id": "32ljAdTAZm6J",
        "outputId": "14531380-9879-4f76-bc20-c75a3c35b814"
      },
      "execution_count": null,
      "outputs": [
        {
          "output_type": "stream",
          "name": "stdout",
          "text": [
            "enter the number5\n",
            "120\n"
          ]
        }
      ]
    },
    {
      "cell_type": "code",
      "source": [
        "n = input('enter the number')\n",
        "def reverse(n):\n",
        "  low=0\n",
        "  high=len(n)-1\n",
        "  s_list = list(n)\n",
        "  while(low<=high):\n",
        "    temp=s_list[low]\n",
        "    s_list[low]=s_list[high]\n",
        "    s_list[high]=temp\n",
        "    low+=1\n",
        "    high-=1\n",
        "  return ''.join(s_list)\n",
        "print(reverse(n))"
      ],
      "metadata": {
        "colab": {
          "base_uri": "https://localhost:8080/"
        },
        "id": "ObXSHnkWbK3z",
        "outputId": "f47cd153-d504-40c0-aad1-c8177bcb6809"
      },
      "execution_count": null,
      "outputs": [
        {
          "output_type": "stream",
          "name": "stdout",
          "text": [
            "enter the numbersdkf123\n",
            "321fkds\n"
          ]
        }
      ]
    },
    {
      "cell_type": "code",
      "source": [
        "n = input('enter the peli')\n",
        "def reverse(n):\n",
        "  low=0\n",
        "  high=len(n)-1\n",
        "  while(low<high):\n",
        "    temp=n[low]\n",
        "    n[low]=n[high]\n",
        "    n[high]=temp\n",
        "    low+=1\n",
        "    high-=1\n",
        "  return n\n",
        "print(reverse(n))"
      ],
      "metadata": {
        "colab": {
          "base_uri": "https://localhost:8080/",
          "height": 329
        },
        "id": "KGjKqnhYb_y0",
        "outputId": "b788898d-63e3-480f-eb2f-8ae11598e278"
      },
      "execution_count": null,
      "outputs": [
        {
          "name": "stdout",
          "output_type": "stream",
          "text": [
            "enter the peliskdf\n"
          ]
        },
        {
          "output_type": "error",
          "ename": "TypeError",
          "evalue": "'str' object does not support item assignment",
          "traceback": [
            "\u001b[0;31m---------------------------------------------------------------------------\u001b[0m",
            "\u001b[0;31mTypeError\u001b[0m                                 Traceback (most recent call last)",
            "\u001b[0;32m<ipython-input-4-9c1b9c0ce122>\u001b[0m in \u001b[0;36m<cell line: 12>\u001b[0;34m()\u001b[0m\n\u001b[1;32m     10\u001b[0m     \u001b[0mhigh\u001b[0m\u001b[0;34m-=\u001b[0m\u001b[0;36m1\u001b[0m\u001b[0;34m\u001b[0m\u001b[0;34m\u001b[0m\u001b[0m\n\u001b[1;32m     11\u001b[0m   \u001b[0;32mreturn\u001b[0m \u001b[0mn\u001b[0m\u001b[0;34m\u001b[0m\u001b[0;34m\u001b[0m\u001b[0m\n\u001b[0;32m---> 12\u001b[0;31m \u001b[0mprint\u001b[0m\u001b[0;34m(\u001b[0m\u001b[0mreverse\u001b[0m\u001b[0;34m(\u001b[0m\u001b[0mn\u001b[0m\u001b[0;34m)\u001b[0m\u001b[0;34m)\u001b[0m\u001b[0;34m\u001b[0m\u001b[0;34m\u001b[0m\u001b[0m\n\u001b[0m",
            "\u001b[0;32m<ipython-input-4-9c1b9c0ce122>\u001b[0m in \u001b[0;36mreverse\u001b[0;34m(n)\u001b[0m\n\u001b[1;32m      5\u001b[0m   \u001b[0;32mwhile\u001b[0m\u001b[0;34m(\u001b[0m\u001b[0mlow\u001b[0m\u001b[0;34m<\u001b[0m\u001b[0mhigh\u001b[0m\u001b[0;34m)\u001b[0m\u001b[0;34m:\u001b[0m\u001b[0;34m\u001b[0m\u001b[0;34m\u001b[0m\u001b[0m\n\u001b[1;32m      6\u001b[0m     \u001b[0mtemp\u001b[0m\u001b[0;34m=\u001b[0m\u001b[0mn\u001b[0m\u001b[0;34m[\u001b[0m\u001b[0mlow\u001b[0m\u001b[0;34m]\u001b[0m\u001b[0;34m\u001b[0m\u001b[0;34m\u001b[0m\u001b[0m\n\u001b[0;32m----> 7\u001b[0;31m     \u001b[0mn\u001b[0m\u001b[0;34m[\u001b[0m\u001b[0mlow\u001b[0m\u001b[0;34m]\u001b[0m\u001b[0;34m=\u001b[0m\u001b[0mn\u001b[0m\u001b[0;34m[\u001b[0m\u001b[0mhigh\u001b[0m\u001b[0;34m]\u001b[0m\u001b[0;34m\u001b[0m\u001b[0;34m\u001b[0m\u001b[0m\n\u001b[0m\u001b[1;32m      8\u001b[0m     \u001b[0mn\u001b[0m\u001b[0;34m[\u001b[0m\u001b[0mhigh\u001b[0m\u001b[0;34m]\u001b[0m\u001b[0;34m=\u001b[0m\u001b[0mtemp\u001b[0m\u001b[0;34m\u001b[0m\u001b[0;34m\u001b[0m\u001b[0m\n\u001b[1;32m      9\u001b[0m     \u001b[0mlow\u001b[0m\u001b[0;34m+=\u001b[0m\u001b[0;36m1\u001b[0m\u001b[0;34m\u001b[0m\u001b[0;34m\u001b[0m\u001b[0m\n",
            "\u001b[0;31mTypeError\u001b[0m: 'str' object does not support item assignment"
          ]
        }
      ]
    },
    {
      "cell_type": "code",
      "source": [
        "n=[3,4,6,]\n",
        "print(len(n))"
      ],
      "metadata": {
        "colab": {
          "base_uri": "https://localhost:8080/"
        },
        "id": "8hrBMu5ceend",
        "outputId": "9485b1a5-cbf5-4645-f3fe-18bbbcd4511f"
      },
      "execution_count": null,
      "outputs": [
        {
          "output_type": "stream",
          "name": "stdout",
          "text": [
            "3\n"
          ]
        }
      ]
    },
    {
      "cell_type": "code",
      "source": [
        "n=10775\n",
        "def reverse_number(n):\n",
        "  rev=0\n",
        "  while(n>0):\n",
        "    rev=rev*10+n%10\n",
        "    n=n//10\n",
        "  return rev\n",
        "print(reverse_number(n))"
      ],
      "metadata": {
        "colab": {
          "base_uri": "https://localhost:8080/"
        },
        "id": "wlZeg6ZxfCVs",
        "outputId": "85b3f399-34f8-4543-f910-2932f6c65a6f"
      },
      "execution_count": null,
      "outputs": [
        {
          "output_type": "stream",
          "name": "stdout",
          "text": [
            "57701\n"
          ]
        }
      ]
    },
    {
      "cell_type": "code",
      "source": [
        "class operations:\n",
        "  def init (self):\n",
        "     self.name=[\"\",\"Bob\", \"Rebecca\", \"Clint\", \"11231\", \"32/73\"]\n",
        "\n",
        "  def data(self, names):\n",
        "    self.names=list(filter(lambda el:el[0].isupper() and el[1] islower().names))\n",
        "    return self.name\n",
        "\n",
        "  def display(self, result):\n",
        "    length=len(\".join(self.names))\n",
        "    n=sorted([int(x) for x in result if x.isdigit()])\n",
        "    for i in ((filter(lambda x:xlength,n))):\n",
        "      return i\n",
        "\n",
        "o=operations()\n",
        "names=['Alice', 'mark Thomas', 'rebecca', 'Bob1231', '08732', 'Clint\", \"11231\", \"32173\"]\n",
        "result = o.data(names)\n",
        "dis=o.display(result)\n",
        "\n",
        "print(dis)"
      ],
      "metadata": {
        "id": "lm-dlgxVgkY2",
        "colab": {
          "base_uri": "https://localhost:8080/",
          "height": 106
        },
        "outputId": "0638dddc-e0eb-45bd-f0f7-deb68d8b3f36"
      },
      "execution_count": null,
      "outputs": [
        {
          "output_type": "error",
          "ename": "SyntaxError",
          "evalue": "unterminated string literal (detected at line 10) (<ipython-input-4-c38760b2b2de>, line 10)",
          "traceback": [
            "\u001b[0;36m  File \u001b[0;32m\"<ipython-input-4-c38760b2b2de>\"\u001b[0;36m, line \u001b[0;32m10\u001b[0m\n\u001b[0;31m    length=len(\".join(self.names))\u001b[0m\n\u001b[0m               ^\u001b[0m\n\u001b[0;31mSyntaxError\u001b[0m\u001b[0;31m:\u001b[0m unterminated string literal (detected at line 10)\n"
          ]
        }
      ]
    },
    {
      "cell_type": "code",
      "source": [
        "def first_reccurring()"
      ],
      "metadata": {
        "id": "H_zxxZXNqvOv",
        "colab": {
          "base_uri": "https://localhost:8080/",
          "height": 352
        },
        "outputId": "1244cfe3-9d33-43a7-aca1-ec8893c1c1c3"
      },
      "execution_count": null,
      "outputs": [
        {
          "output_type": "error",
          "ename": "SyntaxError",
          "evalue": "expected ':' (<ipython-input-1-73c2468647ee>, line 1)",
          "traceback": [
            "\u001b[0;36m  File \u001b[0;32m\"<ipython-input-1-73c2468647ee>\"\u001b[0;36m, line \u001b[0;32m1\u001b[0m\n\u001b[0;31m    def first_reccurring()\u001b[0m\n\u001b[0m                          ^\u001b[0m\n\u001b[0;31mSyntaxError\u001b[0m\u001b[0;31m:\u001b[0m expected ':'\n"
          ]
        }
      ]
    },
    {
      "cell_type": "code",
      "source": [
        "# prompt: vowel count\n",
        "\n",
        "def vowel_count(s):\n",
        "  count = 0\n",
        "  vowels = set('aeiouAEIOU')\n",
        "  for letter in s:\n",
        "    if letter in vowels:\n",
        "      count += 1\n",
        "  return count\n",
        "\n",
        "# Example usage:\n",
        "text = \"mnfjgbwsf kfqwroiqr.\"\n",
        "num_vowels = vowel_count(text)\n",
        "print(\"Number of vowels:\", num_vowels)\n"
      ],
      "metadata": {
        "id": "fn1V-jXk9rY_",
        "colab": {
          "base_uri": "https://localhost:8080/"
        },
        "outputId": "5b721ed5-336c-4210-d985-a8f875fcb69b"
      },
      "execution_count": null,
      "outputs": [
        {
          "output_type": "stream",
          "name": "stdout",
          "text": [
            "Number of vowels: 2\n"
          ]
        }
      ]
    },
    {
      "cell_type": "code",
      "source": [
        "string = 'chandan'\n",
        "count = {}\n",
        "for char in string:\n",
        "  if char in count:\n",
        "    count[char] += 1\n",
        "  else:\n",
        "    count[char] = 1\n",
        "#print(count)\n",
        "#print(max(count))\n",
        "for i in count:\n",
        "  if count[i] == max(count.values()):\n",
        "    print(i)"
      ],
      "metadata": {
        "id": "_Cqub3YrnUFp",
        "colab": {
          "base_uri": "https://localhost:8080/"
        },
        "outputId": "c0e556fd-0c81-4f19-d6f6-1b8d25697ec2"
      },
      "execution_count": null,
      "outputs": [
        {
          "output_type": "stream",
          "name": "stdout",
          "text": [
            "a\n",
            "n\n"
          ]
        }
      ]
    },
    {
      "cell_type": "code",
      "source": [
        "dict1 = {'a': 1, 'b': 2, 'c': 3}\n",
        "dict2 = {'c': 3, 'd': 4, 'e': 5}\n",
        "\n",
        "\n",
        "result = dict1.copy()\n",
        "\n",
        "# Add values from dict2, summing if the key exists in both dictionaries\n",
        "for key, value in dict2.items():\n",
        "    if key in result:\n",
        "        result[key] += value\n",
        "    else:\n",
        "        result[key] = value\n",
        "\n",
        "print(result)\n"
      ],
      "metadata": {
        "id": "pWvXNqJYU8eD",
        "colab": {
          "base_uri": "https://localhost:8080/"
        },
        "outputId": "6824ac0d-ce3f-4214-ea37-902cd05b7d30"
      },
      "execution_count": null,
      "outputs": [
        {
          "output_type": "stream",
          "name": "stdout",
          "text": [
            "{'a': 1, 'b': 2, 'c': 6, 'd': 4, 'e': 5}\n"
          ]
        }
      ]
    },
    {
      "cell_type": "code",
      "source": [
        "# Function to count vowels in a name\n",
        "def count_vowels(name):\n",
        "    vowels = 'aeiouAEIOU'\n",
        "    return sum(1 for char in name if char in vowels)\n",
        "\n",
        "# List of names\n",
        "names = ['John', 'Alexander', 'Emily', 'Isabella', 'Michael', 'Sophia']\n",
        "\n",
        "# Filter and display names with more than 3 vowels\n",
        "result = [name for name in names if count_vowels(name) > 3]\n",
        "\n",
        "print(\"Names with more than 3 vowels:\", result)\n"
      ],
      "metadata": {
        "id": "fiQExTokfJkP",
        "colab": {
          "base_uri": "https://localhost:8080/"
        },
        "outputId": "8cc96a5c-22ee-4e49-a5b7-f89968eb8b40"
      },
      "execution_count": null,
      "outputs": [
        {
          "output_type": "stream",
          "name": "stdout",
          "text": [
            "Names with more than 3 vowels: ['Alexander', 'Isabella']\n"
          ]
        }
      ]
    },
    {
      "cell_type": "code",
      "source": [
        "s =\"chandankumar\"\n",
        "\n",
        "char_count = {}\n",
        "for char in s:\n",
        "  char_count[char] = char_count.get(char,0)+1\n",
        "res = ''.join([char for char in s if char_count[char] == 1])\n",
        "print(res)"
      ],
      "metadata": {
        "id": "UCv3dp2Ojdfx",
        "colab": {
          "base_uri": "https://localhost:8080/"
        },
        "outputId": "250a6af5-4c7f-498b-864d-3c34d07e60e3"
      },
      "execution_count": null,
      "outputs": [
        {
          "output_type": "stream",
          "name": "stdout",
          "text": [
            "chdkumr\n"
          ]
        }
      ]
    },
    {
      "cell_type": "code",
      "source": [
        "a=505\n",
        "b=505\n",
        "def sum(a,b):\n",
        "  sum_int = a+b\n",
        "  return bin(sum_int)[2:]\n",
        "res = sum(a,b)\n",
        "print(res)"
      ],
      "metadata": {
        "colab": {
          "base_uri": "https://localhost:8080/"
        },
        "id": "OTp7_qYmywc1",
        "outputId": "5ca0c78c-9e23-4a3b-ac65-54014a58806a"
      },
      "execution_count": null,
      "outputs": [
        {
          "output_type": "stream",
          "name": "stdout",
          "text": [
            "1111110010\n"
          ]
        }
      ]
    },
    {
      "cell_type": "code",
      "source": [
        "def relu(x):\n",
        "    return max(0, x)\n",
        "\n",
        "# Example usage\n",
        "inputs = [-5, 0, 2, 7]\n",
        "outputs = [relu(x) for x in inputs]\n",
        "print(\"ReLU outputs:\", outputs)"
      ],
      "metadata": {
        "id": "qzCVduRPy4nh",
        "colab": {
          "base_uri": "https://localhost:8080/"
        },
        "outputId": "41dd8230-f4c1-4929-df25-5bcc56c5f6c9"
      },
      "execution_count": null,
      "outputs": [
        {
          "output_type": "stream",
          "name": "stdout",
          "text": [
            "ReLU outputs: [0, 0, 2, 7]\n"
          ]
        }
      ]
    },
    {
      "cell_type": "code",
      "source": [
        "import re\n",
        "\n",
        "# Regular expression for detecting age (1 to 120)\n",
        "age_regex = r'\\b([1-9]|[1-9][0-9]|1[01][0-9]|120)\\b'\n",
        "\n",
        "# Regular expressions for detecting dates (dd/mm/yyyy and yyyy-mm-dd)\n",
        "date_regex_ddmmyyyy = r'\\b(0[1-9]|[12][0-9]|3[01])/(0[1-9]|1[0-2])/\\d{4}\\b'\n",
        "date_regex_yyyymmdd = r'\\b\\d{4}-(0[1-9]|1[0-2])-(0[1-9]|[12][0-9]|3[01])\\b'\n",
        "\n",
        "# Example string containing ages and dates\n",
        "text = \"\"\"\n",
        "John is 25 years old, and his birthday is on 15/08/1998.\n",
        "His sister was born on 2020-05-20, and she is 4 years old.\n",
        "\"\"\"\n",
        "\n",
        "# Detecting ages\n",
        "ages = re.findall(age_regex, text)\n",
        "print(\"Detected Ages:\", ages)\n",
        "\n",
        "# Detecting dates in dd/mm/yyyy format\n",
        "dates_ddmmyyyy = re.findall(date_regex_ddmmyyyy, text)\n",
        "print(\"Detected Dates (dd/mm/yyyy):\", dates_ddmmyyyy)\n",
        "\n",
        "# Detecting dates in yyyy-mm-dd format\n",
        "dates_yyyymmdd = re.findall(date_regex_yyyymmdd, text)\n",
        "print(\"Detected Dates (yyyy-mm-dd):\", dates_yyyymmdd)\n"
      ],
      "metadata": {
        "colab": {
          "base_uri": "https://localhost:8080/"
        },
        "id": "1tvFyOR3UdXO",
        "outputId": "33a08712-2555-49a6-b8c7-fc1e3b4bf226"
      },
      "execution_count": null,
      "outputs": [
        {
          "output_type": "stream",
          "name": "stdout",
          "text": [
            "Detected Ages: ['25', '15', '20', '4']\n",
            "Detected Dates (dd/mm/yyyy): [('15', '08')]\n",
            "Detected Dates (yyyy-mm-dd): [('05', '20')]\n"
          ]
        }
      ]
    },
    {
      "cell_type": "code",
      "source": [
        "# generator in python\n",
        "# -> A generator in Python is a special type of iterator that is defined using a function containing the yield keyword.\n",
        "#Unlike regular functions, which return a single value and terminate, generators return an iterable sequence of values one at a time,\n",
        "#suspending execution between each yield.\n",
        "\n",
        "def gn_demo():\n",
        "  yield 'first'\n",
        "  yield 'second'\n",
        "  yield 'third'\n",
        "\n",
        "gen =gn_demo()\n",
        "print(next(gen))\n",
        "print(next(gen))\n",
        "print(next(gen))\n"
      ],
      "metadata": {
        "id": "c0kILasYUwW4",
        "colab": {
          "base_uri": "https://localhost:8080/"
        },
        "outputId": "d524f18d-349f-4f67-89be-2c778fddd31c"
      },
      "execution_count": null,
      "outputs": [
        {
          "output_type": "stream",
          "name": "stdout",
          "text": [
            "first\n",
            "second\n",
            "third\n"
          ]
        }
      ]
    },
    {
      "cell_type": "code",
      "source": [
        "def sq_gen(num):\n",
        "  for i in range(1,num+1):\n",
        "    yield i**2\n",
        "\n",
        "gen = sq_gen(10)\n",
        "print(next(gen))\n",
        "print(next(gen))\n",
        "\n",
        "for i in gen:\n",
        "  print(i)"
      ],
      "metadata": {
        "colab": {
          "base_uri": "https://localhost:8080/"
        },
        "id": "6jgH-fTrENpq",
        "outputId": "4eb74cdb-6438-480d-f3bb-c6efa8974795"
      },
      "execution_count": null,
      "outputs": [
        {
          "output_type": "stream",
          "name": "stdout",
          "text": [
            "1\n",
            "4\n",
            "9\n",
            "16\n",
            "25\n",
            "36\n",
            "49\n",
            "64\n",
            "81\n",
            "100\n"
          ]
        }
      ]
    },
    {
      "cell_type": "code",
      "source": [
        "# Range function in genrator\n",
        "def range_gen(start,end):\n",
        "  for i in range(start,end):\n",
        "    yield i\n",
        "\n",
        "gen = range_gen(5,10)\n",
        "print(next(gen))\n",
        "print(next(gen))\n",
        "\n",
        "for i in gen:\n",
        "  print(i)"
      ],
      "metadata": {
        "colab": {
          "base_uri": "https://localhost:8080/"
        },
        "id": "KpOWpJWlFKf3",
        "outputId": "5d6b28af-d640-401d-ae7b-4d337da83b99"
      },
      "execution_count": null,
      "outputs": [
        {
          "output_type": "stream",
          "name": "stdout",
          "text": [
            "5\n",
            "6\n",
            "7\n",
            "8\n",
            "9\n"
          ]
        }
      ]
    },
    {
      "cell_type": "code",
      "source": [
        "list_comprehention = [i**2 for i in range(1,10)]\n",
        "list_comprehention"
      ],
      "metadata": {
        "colab": {
          "base_uri": "https://localhost:8080/"
        },
        "id": "vhnEf59eGbTg",
        "outputId": "0f4278f6-b207-4b3d-b69f-30d4ecb7fee1"
      },
      "execution_count": null,
      "outputs": [
        {
          "output_type": "execute_result",
          "data": {
            "text/plain": [
              "[1, 4, 9, 16, 25, 36, 49, 64, 81]"
            ]
          },
          "metadata": {},
          "execution_count": 15
        }
      ]
    },
    {
      "cell_type": "code",
      "source": [
        "generator = (i**2 for i in range(1,10))\n",
        "for i in generator:\n",
        "  print(i)"
      ],
      "metadata": {
        "colab": {
          "base_uri": "https://localhost:8080/"
        },
        "id": "6YXsws6AG-Ib",
        "outputId": "65bfab7c-c797-4edd-98d1-e3d3242a181e"
      },
      "execution_count": null,
      "outputs": [
        {
          "output_type": "stream",
          "name": "stdout",
          "text": [
            "1\n",
            "4\n",
            "9\n",
            "16\n",
            "25\n",
            "36\n",
            "49\n",
            "64\n",
            "81\n"
          ]
        }
      ]
    },
    {
      "cell_type": "code",
      "source": [
        "def gen_fib(nums):\n",
        "  x=0\n",
        "  y=1\n",
        "  for i in range(nums):\n",
        "    yield x\n",
        "    x,y = y,x+y\n",
        "\n",
        "for i in gen_fib(10):\n",
        "  print(i)"
      ],
      "metadata": {
        "colab": {
          "base_uri": "https://localhost:8080/"
        },
        "id": "KK2iZb6WHExN",
        "outputId": "6652b2c0-3b45-48cc-dd46-f8833c3d9158"
      },
      "execution_count": null,
      "outputs": [
        {
          "output_type": "stream",
          "name": "stdout",
          "text": [
            "0\n",
            "1\n",
            "1\n",
            "2\n",
            "3\n",
            "5\n",
            "8\n",
            "13\n",
            "21\n",
            "34\n"
          ]
        }
      ]
    },
    {
      "cell_type": "code",
      "source": [],
      "metadata": {
        "id": "sxpf_Jg6II3U"
      },
      "execution_count": null,
      "outputs": []
    },
    {
      "cell_type": "markdown",
      "source": [
        "Decorator\n",
        "-> It is a function in python which takes another founction as input ,add some funcnality in it and return it"
      ],
      "metadata": {
        "id": "2AGpK5aII8-f"
      }
    },
    {
      "cell_type": "code",
      "source": [
        "def my_decorator(func):\n",
        "    def wrapper():\n",
        "        print(\"Something before the function\")\n",
        "        func()\n",
        "        print(\"Something after the function\")\n",
        "    return wrapper\n",
        "\n",
        "@my_decorator\n",
        "def say_hello():\n",
        "    print(\"Hello!\")\n",
        "\n",
        "say_hello()\n",
        "\n",
        "# Output:\n",
        "# Something before the function\n",
        "# Hello!\n",
        "# Something after the function\n"
      ],
      "metadata": {
        "colab": {
          "base_uri": "https://localhost:8080/"
        },
        "id": "c0vC_9NCI-Ik",
        "outputId": "7ca72108-7c3d-44c5-d187-7a9efd04ceb0"
      },
      "execution_count": null,
      "outputs": [
        {
          "output_type": "stream",
          "name": "stdout",
          "text": [
            "Something before the function\n",
            "Hello!\n",
            "Something after the function\n"
          ]
        }
      ]
    },
    {
      "cell_type": "code",
      "source": [],
      "metadata": {
        "id": "6bKSq-kXJYtE"
      },
      "execution_count": null,
      "outputs": []
    },
    {
      "cell_type": "markdown",
      "source": [
        "*Iterator\n",
        "->An iterator in Python is an object that allows you to traverse or iterate over a sequence of data (like lists, tuples, dictionaries, or custom objects). An iterator provides a mechanism to access the elements of a collection one at a time, without the need to load the entire collection into memory at once."
      ],
      "metadata": {
        "id": "uFEznL0ST2Z8"
      }
    },
    {
      "cell_type": "code",
      "source": [
        "list = [1,2,3,4,5]\n",
        "for i in list:\n",
        "  print(i)"
      ],
      "metadata": {
        "colab": {
          "base_uri": "https://localhost:8080/"
        },
        "id": "_7Dr7FKLT4a0",
        "outputId": "e2371018-7162-48de-c49e-bc352d8c88ca"
      },
      "execution_count": null,
      "outputs": [
        {
          "output_type": "stream",
          "name": "stdout",
          "text": [
            "1\n",
            "2\n",
            "3\n",
            "4\n",
            "5\n"
          ]
        }
      ]
    },
    {
      "cell_type": "code",
      "source": [
        "iterator= iter(list)"
      ],
      "metadata": {
        "id": "2wkdtGSKT7Gi"
      },
      "execution_count": null,
      "outputs": []
    },
    {
      "cell_type": "code",
      "source": [
        "type(iterator)"
      ],
      "metadata": {
        "colab": {
          "base_uri": "https://localhost:8080/"
        },
        "id": "0ef1yVMYUEat",
        "outputId": "95996014-48c0-45f3-f03c-86abae52f57a"
      },
      "execution_count": null,
      "outputs": [
        {
          "output_type": "execute_result",
          "data": {
            "text/plain": [
              "list_iterator"
            ]
          },
          "metadata": {},
          "execution_count": 45
        }
      ]
    },
    {
      "cell_type": "code",
      "source": [
        "next(iterator)"
      ],
      "metadata": {
        "colab": {
          "base_uri": "https://localhost:8080/"
        },
        "id": "zYfAN0PYUIFD",
        "outputId": "e908ec8a-1c11-4324-8cf4-d67a8396e847"
      },
      "execution_count": null,
      "outputs": [
        {
          "output_type": "execute_result",
          "data": {
            "text/plain": [
              "1"
            ]
          },
          "metadata": {},
          "execution_count": 46
        }
      ]
    },
    {
      "cell_type": "code",
      "source": [
        "for i in iterator:\n",
        "  print(i)"
      ],
      "metadata": {
        "colab": {
          "base_uri": "https://localhost:8080/"
        },
        "id": "dL6jzco_UPiP",
        "outputId": "5f0dc485-c65d-4c13-d174-770f6a9dc759"
      },
      "execution_count": null,
      "outputs": [
        {
          "output_type": "stream",
          "name": "stdout",
          "text": [
            "3\n",
            "4\n",
            "5\n"
          ]
        }
      ]
    },
    {
      "cell_type": "code",
      "source": [
        "try:\n",
        "  print(next(iterator))\n",
        "except StopIteration:\n",
        "  print(\"iterator is empty\")"
      ],
      "metadata": {
        "colab": {
          "base_uri": "https://localhost:8080/"
        },
        "id": "m8T29rkUUek6",
        "outputId": "68b6d449-3657-4d4b-b6b6-0ea05f815535"
      },
      "execution_count": null,
      "outputs": [
        {
          "output_type": "stream",
          "name": "stdout",
          "text": [
            "2\n"
          ]
        }
      ]
    },
    {
      "cell_type": "code",
      "source": [
        "\n"
      ],
      "metadata": {
        "id": "4_nbnGY-VJWg"
      },
      "execution_count": null,
      "outputs": []
    },
    {
      "cell_type": "code",
      "source": [],
      "metadata": {
        "id": "jQxhtpRhV6BG"
      },
      "execution_count": null,
      "outputs": []
    }
  ]
}