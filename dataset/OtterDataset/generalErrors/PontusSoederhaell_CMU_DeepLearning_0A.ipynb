{
  "cells": [
    {
      "cell_type": "markdown",
      "metadata": {
        "id": "a_-J3h51pgpA"
      },
      "source": [
        "# SET UP"
      ]
    },
    {
      "cell_type": "markdown",
      "metadata": {
        "id": "Wv-IuU8c5FHc"
      },
      "source": [
        "###1. **Libraries**"
      ]
    },
    {
      "cell_type": "markdown",
      "metadata": {
        "id": "r1xbTAUVAtWs"
      },
      "source": [
        "* install libraries\n",
        "* import libraries\n"
      ]
    },
    {
      "cell_type": "code",
      "execution_count": 1,
      "metadata": {
        "colab": {
          "base_uri": "https://localhost:8080/",
          "height": 350
        },
        "id": "55akvx8e6Ep0",
        "outputId": "99089fc6-dd64-469d-a1bf-3851b447dcab"
      },
      "outputs": [],
      "source": [
        "import torch\n",
        "import numpy as np\n",
        "from torchsummaryX import summary"
      ]
    },
    {
      "cell_type": "code",
      "execution_count": null,
      "metadata": {
        "colab": {
          "base_uri": "https://localhost:8080/"
        },
        "id": "heZksa1pA8NF",
        "outputId": "f1e4dcf5-7fc2-4ab4-a093-032c9a3e7ed3"
      },
      "outputs": [
        {
          "name": "stdout",
          "output_type": "stream",
          "text": [
            "\u001b[2K   \u001b[90m━━━━━━━━━━━━━━━━━━━━━━━━━━━━━━━━━━━━━━━━\u001b[0m \u001b[32m6.8/6.8 MB\u001b[0m \u001b[31m24.8 MB/s\u001b[0m eta \u001b[36m0:00:00\u001b[0m\n",
            "\u001b[2K   \u001b[90m━━━━━━━━━━━━━━━━━━━━━━━━━━━━━━━━━━━━━━━━\u001b[0m \u001b[32m15.9/15.9 MB\u001b[0m \u001b[31m58.8 MB/s\u001b[0m eta \u001b[36m0:00:00\u001b[0m\n",
            "\u001b[2K   \u001b[90m━━━━━━━━━━━━━━━━━━━━━━━━━━━━━━━━━━━━━━━━\u001b[0m \u001b[32m207.3/207.3 kB\u001b[0m \u001b[31m13.0 MB/s\u001b[0m eta \u001b[36m0:00:00\u001b[0m\n",
            "\u001b[2K   \u001b[90m━━━━━━━━━━━━━━━━━━━━━━━━━━━━━━━━━━━━━━━━\u001b[0m \u001b[32m301.8/301.8 kB\u001b[0m \u001b[31m15.9 MB/s\u001b[0m eta \u001b[36m0:00:00\u001b[0m\n",
            "\u001b[2K   \u001b[90m━━━━━━━━━━━━━━━━━━━━━━━━━━━━━━━━━━━━━━━━\u001b[0m \u001b[32m62.7/62.7 kB\u001b[0m \u001b[31m3.6 MB/s\u001b[0m eta \u001b[36m0:00:00\u001b[0m\n",
            "\u001b[?25h"
          ]
        }
      ],
      "source": [
        "!pip install torchsummaryX==1.1.0 wandb onnx --quiet"
      ]
    },
    {
      "cell_type": "code",
      "execution_count": null,
      "metadata": {
        "id": "Dug7vU3aA1IH"
      },
      "outputs": [],
      "source": [
        "from torchsummaryX import summary"
      ]
    },
    {
      "cell_type": "markdown",
      "metadata": {
        "id": "wXdiPdocBeA9"
      },
      "source": [
        "###2. **Files**"
      ]
    },
    {
      "cell_type": "code",
      "execution_count": 2,
      "metadata": {
        "colab": {
          "base_uri": "https://localhost:8080/",
          "height": 143
        },
        "id": "XnYTzBmwBkT2",
        "outputId": "93991e8a-cabf-45e8-fa1b-1625d5ede357"
      },
      "outputs": [
        {
          "ename": "FileNotFoundError",
          "evalue": "[Errno 2] No such file or directory: '/content/11785-f24-hw1p2-solutions.csv'",
          "output_type": "error",
          "traceback": [
            "\u001b[1;31m---------------------------------------------------------------------------\u001b[0m",
            "\u001b[1;31mFileNotFoundError\u001b[0m                         Traceback (most recent call last)",
            "Cell \u001b[1;32mIn[2], line 2\u001b[0m\n\u001b[0;32m      1\u001b[0m \u001b[38;5;28;01mimport\u001b[39;00m \u001b[38;5;21;01mpandas\u001b[39;00m \u001b[38;5;28;01mas\u001b[39;00m \u001b[38;5;21;01mpd\u001b[39;00m\n\u001b[1;32m----> 2\u001b[0m data \u001b[38;5;241m=\u001b[39m \u001b[43mpd\u001b[49m\u001b[38;5;241;43m.\u001b[39;49m\u001b[43mread_csv\u001b[49m\u001b[43m(\u001b[49m\u001b[38;5;124;43m'\u001b[39;49m\u001b[38;5;124;43m/content/11785-f24-hw1p2-solutions.csv\u001b[39;49m\u001b[38;5;124;43m'\u001b[39;49m\u001b[43m)\u001b[49m\n\u001b[0;32m      3\u001b[0m data\u001b[38;5;241m.\u001b[39mhead(\u001b[38;5;241m3\u001b[39m)\n",
            "File \u001b[1;32mc:\\Users\\pontu\\anaconda3\\lib\\site-packages\\pandas\\io\\parsers\\readers.py:948\u001b[0m, in \u001b[0;36mread_csv\u001b[1;34m(filepath_or_buffer, sep, delimiter, header, names, index_col, usecols, dtype, engine, converters, true_values, false_values, skipinitialspace, skiprows, skipfooter, nrows, na_values, keep_default_na, na_filter, verbose, skip_blank_lines, parse_dates, infer_datetime_format, keep_date_col, date_parser, date_format, dayfirst, cache_dates, iterator, chunksize, compression, thousands, decimal, lineterminator, quotechar, quoting, doublequote, escapechar, comment, encoding, encoding_errors, dialect, on_bad_lines, delim_whitespace, low_memory, memory_map, float_precision, storage_options, dtype_backend)\u001b[0m\n\u001b[0;32m    935\u001b[0m kwds_defaults \u001b[38;5;241m=\u001b[39m _refine_defaults_read(\n\u001b[0;32m    936\u001b[0m     dialect,\n\u001b[0;32m    937\u001b[0m     delimiter,\n\u001b[1;32m   (...)\u001b[0m\n\u001b[0;32m    944\u001b[0m     dtype_backend\u001b[38;5;241m=\u001b[39mdtype_backend,\n\u001b[0;32m    945\u001b[0m )\n\u001b[0;32m    946\u001b[0m kwds\u001b[38;5;241m.\u001b[39mupdate(kwds_defaults)\n\u001b[1;32m--> 948\u001b[0m \u001b[38;5;28;01mreturn\u001b[39;00m \u001b[43m_read\u001b[49m\u001b[43m(\u001b[49m\u001b[43mfilepath_or_buffer\u001b[49m\u001b[43m,\u001b[49m\u001b[43m \u001b[49m\u001b[43mkwds\u001b[49m\u001b[43m)\u001b[49m\n",
            "File \u001b[1;32mc:\\Users\\pontu\\anaconda3\\lib\\site-packages\\pandas\\io\\parsers\\readers.py:611\u001b[0m, in \u001b[0;36m_read\u001b[1;34m(filepath_or_buffer, kwds)\u001b[0m\n\u001b[0;32m    608\u001b[0m _validate_names(kwds\u001b[38;5;241m.\u001b[39mget(\u001b[38;5;124m\"\u001b[39m\u001b[38;5;124mnames\u001b[39m\u001b[38;5;124m\"\u001b[39m, \u001b[38;5;28;01mNone\u001b[39;00m))\n\u001b[0;32m    610\u001b[0m \u001b[38;5;66;03m# Create the parser.\u001b[39;00m\n\u001b[1;32m--> 611\u001b[0m parser \u001b[38;5;241m=\u001b[39m TextFileReader(filepath_or_buffer, \u001b[38;5;241m*\u001b[39m\u001b[38;5;241m*\u001b[39mkwds)\n\u001b[0;32m    613\u001b[0m \u001b[38;5;28;01mif\u001b[39;00m chunksize \u001b[38;5;129;01mor\u001b[39;00m iterator:\n\u001b[0;32m    614\u001b[0m     \u001b[38;5;28;01mreturn\u001b[39;00m parser\n",
            "File \u001b[1;32mc:\\Users\\pontu\\anaconda3\\lib\\site-packages\\pandas\\io\\parsers\\readers.py:1448\u001b[0m, in \u001b[0;36mTextFileReader.__init__\u001b[1;34m(self, f, engine, **kwds)\u001b[0m\n\u001b[0;32m   1445\u001b[0m     \u001b[38;5;28mself\u001b[39m\u001b[38;5;241m.\u001b[39moptions[\u001b[38;5;124m\"\u001b[39m\u001b[38;5;124mhas_index_names\u001b[39m\u001b[38;5;124m\"\u001b[39m] \u001b[38;5;241m=\u001b[39m kwds[\u001b[38;5;124m\"\u001b[39m\u001b[38;5;124mhas_index_names\u001b[39m\u001b[38;5;124m\"\u001b[39m]\n\u001b[0;32m   1447\u001b[0m \u001b[38;5;28mself\u001b[39m\u001b[38;5;241m.\u001b[39mhandles: IOHandles \u001b[38;5;241m|\u001b[39m \u001b[38;5;28;01mNone\u001b[39;00m \u001b[38;5;241m=\u001b[39m \u001b[38;5;28;01mNone\u001b[39;00m\n\u001b[1;32m-> 1448\u001b[0m \u001b[38;5;28mself\u001b[39m\u001b[38;5;241m.\u001b[39m_engine \u001b[38;5;241m=\u001b[39m \u001b[38;5;28;43mself\u001b[39;49m\u001b[38;5;241;43m.\u001b[39;49m\u001b[43m_make_engine\u001b[49m\u001b[43m(\u001b[49m\u001b[43mf\u001b[49m\u001b[43m,\u001b[49m\u001b[43m \u001b[49m\u001b[38;5;28;43mself\u001b[39;49m\u001b[38;5;241;43m.\u001b[39;49m\u001b[43mengine\u001b[49m\u001b[43m)\u001b[49m\n",
            "File \u001b[1;32mc:\\Users\\pontu\\anaconda3\\lib\\site-packages\\pandas\\io\\parsers\\readers.py:1705\u001b[0m, in \u001b[0;36mTextFileReader._make_engine\u001b[1;34m(self, f, engine)\u001b[0m\n\u001b[0;32m   1703\u001b[0m     \u001b[38;5;28;01mif\u001b[39;00m \u001b[38;5;124m\"\u001b[39m\u001b[38;5;124mb\u001b[39m\u001b[38;5;124m\"\u001b[39m \u001b[38;5;129;01mnot\u001b[39;00m \u001b[38;5;129;01min\u001b[39;00m mode:\n\u001b[0;32m   1704\u001b[0m         mode \u001b[38;5;241m+\u001b[39m\u001b[38;5;241m=\u001b[39m \u001b[38;5;124m\"\u001b[39m\u001b[38;5;124mb\u001b[39m\u001b[38;5;124m\"\u001b[39m\n\u001b[1;32m-> 1705\u001b[0m \u001b[38;5;28mself\u001b[39m\u001b[38;5;241m.\u001b[39mhandles \u001b[38;5;241m=\u001b[39m \u001b[43mget_handle\u001b[49m\u001b[43m(\u001b[49m\n\u001b[0;32m   1706\u001b[0m \u001b[43m    \u001b[49m\u001b[43mf\u001b[49m\u001b[43m,\u001b[49m\n\u001b[0;32m   1707\u001b[0m \u001b[43m    \u001b[49m\u001b[43mmode\u001b[49m\u001b[43m,\u001b[49m\n\u001b[0;32m   1708\u001b[0m \u001b[43m    \u001b[49m\u001b[43mencoding\u001b[49m\u001b[38;5;241;43m=\u001b[39;49m\u001b[38;5;28;43mself\u001b[39;49m\u001b[38;5;241;43m.\u001b[39;49m\u001b[43moptions\u001b[49m\u001b[38;5;241;43m.\u001b[39;49m\u001b[43mget\u001b[49m\u001b[43m(\u001b[49m\u001b[38;5;124;43m\"\u001b[39;49m\u001b[38;5;124;43mencoding\u001b[39;49m\u001b[38;5;124;43m\"\u001b[39;49m\u001b[43m,\u001b[49m\u001b[43m \u001b[49m\u001b[38;5;28;43;01mNone\u001b[39;49;00m\u001b[43m)\u001b[49m\u001b[43m,\u001b[49m\n\u001b[0;32m   1709\u001b[0m \u001b[43m    \u001b[49m\u001b[43mcompression\u001b[49m\u001b[38;5;241;43m=\u001b[39;49m\u001b[38;5;28;43mself\u001b[39;49m\u001b[38;5;241;43m.\u001b[39;49m\u001b[43moptions\u001b[49m\u001b[38;5;241;43m.\u001b[39;49m\u001b[43mget\u001b[49m\u001b[43m(\u001b[49m\u001b[38;5;124;43m\"\u001b[39;49m\u001b[38;5;124;43mcompression\u001b[39;49m\u001b[38;5;124;43m\"\u001b[39;49m\u001b[43m,\u001b[49m\u001b[43m \u001b[49m\u001b[38;5;28;43;01mNone\u001b[39;49;00m\u001b[43m)\u001b[49m\u001b[43m,\u001b[49m\n\u001b[0;32m   1710\u001b[0m \u001b[43m    \u001b[49m\u001b[43mmemory_map\u001b[49m\u001b[38;5;241;43m=\u001b[39;49m\u001b[38;5;28;43mself\u001b[39;49m\u001b[38;5;241;43m.\u001b[39;49m\u001b[43moptions\u001b[49m\u001b[38;5;241;43m.\u001b[39;49m\u001b[43mget\u001b[49m\u001b[43m(\u001b[49m\u001b[38;5;124;43m\"\u001b[39;49m\u001b[38;5;124;43mmemory_map\u001b[39;49m\u001b[38;5;124;43m\"\u001b[39;49m\u001b[43m,\u001b[49m\u001b[43m \u001b[49m\u001b[38;5;28;43;01mFalse\u001b[39;49;00m\u001b[43m)\u001b[49m\u001b[43m,\u001b[49m\n\u001b[0;32m   1711\u001b[0m \u001b[43m    \u001b[49m\u001b[43mis_text\u001b[49m\u001b[38;5;241;43m=\u001b[39;49m\u001b[43mis_text\u001b[49m\u001b[43m,\u001b[49m\n\u001b[0;32m   1712\u001b[0m \u001b[43m    \u001b[49m\u001b[43merrors\u001b[49m\u001b[38;5;241;43m=\u001b[39;49m\u001b[38;5;28;43mself\u001b[39;49m\u001b[38;5;241;43m.\u001b[39;49m\u001b[43moptions\u001b[49m\u001b[38;5;241;43m.\u001b[39;49m\u001b[43mget\u001b[49m\u001b[43m(\u001b[49m\u001b[38;5;124;43m\"\u001b[39;49m\u001b[38;5;124;43mencoding_errors\u001b[39;49m\u001b[38;5;124;43m\"\u001b[39;49m\u001b[43m,\u001b[49m\u001b[43m \u001b[49m\u001b[38;5;124;43m\"\u001b[39;49m\u001b[38;5;124;43mstrict\u001b[39;49m\u001b[38;5;124;43m\"\u001b[39;49m\u001b[43m)\u001b[49m\u001b[43m,\u001b[49m\n\u001b[0;32m   1713\u001b[0m \u001b[43m    \u001b[49m\u001b[43mstorage_options\u001b[49m\u001b[38;5;241;43m=\u001b[39;49m\u001b[38;5;28;43mself\u001b[39;49m\u001b[38;5;241;43m.\u001b[39;49m\u001b[43moptions\u001b[49m\u001b[38;5;241;43m.\u001b[39;49m\u001b[43mget\u001b[49m\u001b[43m(\u001b[49m\u001b[38;5;124;43m\"\u001b[39;49m\u001b[38;5;124;43mstorage_options\u001b[39;49m\u001b[38;5;124;43m\"\u001b[39;49m\u001b[43m,\u001b[49m\u001b[43m \u001b[49m\u001b[38;5;28;43;01mNone\u001b[39;49;00m\u001b[43m)\u001b[49m\u001b[43m,\u001b[49m\n\u001b[0;32m   1714\u001b[0m \u001b[43m\u001b[49m\u001b[43m)\u001b[49m\n\u001b[0;32m   1715\u001b[0m \u001b[38;5;28;01massert\u001b[39;00m \u001b[38;5;28mself\u001b[39m\u001b[38;5;241m.\u001b[39mhandles \u001b[38;5;129;01mis\u001b[39;00m \u001b[38;5;129;01mnot\u001b[39;00m \u001b[38;5;28;01mNone\u001b[39;00m\n\u001b[0;32m   1716\u001b[0m f \u001b[38;5;241m=\u001b[39m \u001b[38;5;28mself\u001b[39m\u001b[38;5;241m.\u001b[39mhandles\u001b[38;5;241m.\u001b[39mhandle\n",
            "File \u001b[1;32mc:\\Users\\pontu\\anaconda3\\lib\\site-packages\\pandas\\io\\common.py:863\u001b[0m, in \u001b[0;36mget_handle\u001b[1;34m(path_or_buf, mode, encoding, compression, memory_map, is_text, errors, storage_options)\u001b[0m\n\u001b[0;32m    858\u001b[0m \u001b[38;5;28;01melif\u001b[39;00m \u001b[38;5;28misinstance\u001b[39m(handle, \u001b[38;5;28mstr\u001b[39m):\n\u001b[0;32m    859\u001b[0m     \u001b[38;5;66;03m# Check whether the filename is to be opened in binary mode.\u001b[39;00m\n\u001b[0;32m    860\u001b[0m     \u001b[38;5;66;03m# Binary mode does not support 'encoding' and 'newline'.\u001b[39;00m\n\u001b[0;32m    861\u001b[0m     \u001b[38;5;28;01mif\u001b[39;00m ioargs\u001b[38;5;241m.\u001b[39mencoding \u001b[38;5;129;01mand\u001b[39;00m \u001b[38;5;124m\"\u001b[39m\u001b[38;5;124mb\u001b[39m\u001b[38;5;124m\"\u001b[39m \u001b[38;5;129;01mnot\u001b[39;00m \u001b[38;5;129;01min\u001b[39;00m ioargs\u001b[38;5;241m.\u001b[39mmode:\n\u001b[0;32m    862\u001b[0m         \u001b[38;5;66;03m# Encoding\u001b[39;00m\n\u001b[1;32m--> 863\u001b[0m         handle \u001b[38;5;241m=\u001b[39m \u001b[38;5;28;43mopen\u001b[39;49m\u001b[43m(\u001b[49m\n\u001b[0;32m    864\u001b[0m \u001b[43m            \u001b[49m\u001b[43mhandle\u001b[49m\u001b[43m,\u001b[49m\n\u001b[0;32m    865\u001b[0m \u001b[43m            \u001b[49m\u001b[43mioargs\u001b[49m\u001b[38;5;241;43m.\u001b[39;49m\u001b[43mmode\u001b[49m\u001b[43m,\u001b[49m\n\u001b[0;32m    866\u001b[0m \u001b[43m            \u001b[49m\u001b[43mencoding\u001b[49m\u001b[38;5;241;43m=\u001b[39;49m\u001b[43mioargs\u001b[49m\u001b[38;5;241;43m.\u001b[39;49m\u001b[43mencoding\u001b[49m\u001b[43m,\u001b[49m\n\u001b[0;32m    867\u001b[0m \u001b[43m            \u001b[49m\u001b[43merrors\u001b[49m\u001b[38;5;241;43m=\u001b[39;49m\u001b[43merrors\u001b[49m\u001b[43m,\u001b[49m\n\u001b[0;32m    868\u001b[0m \u001b[43m            \u001b[49m\u001b[43mnewline\u001b[49m\u001b[38;5;241;43m=\u001b[39;49m\u001b[38;5;124;43m\"\u001b[39;49m\u001b[38;5;124;43m\"\u001b[39;49m\u001b[43m,\u001b[49m\n\u001b[0;32m    869\u001b[0m \u001b[43m        \u001b[49m\u001b[43m)\u001b[49m\n\u001b[0;32m    870\u001b[0m     \u001b[38;5;28;01melse\u001b[39;00m:\n\u001b[0;32m    871\u001b[0m         \u001b[38;5;66;03m# Binary mode\u001b[39;00m\n\u001b[0;32m    872\u001b[0m         handle \u001b[38;5;241m=\u001b[39m \u001b[38;5;28mopen\u001b[39m(handle, ioargs\u001b[38;5;241m.\u001b[39mmode)\n",
            "\u001b[1;31mFileNotFoundError\u001b[0m: [Errno 2] No such file or directory: '/content/11785-f24-hw1p2-solutions.csv'"
          ]
        }
      ],
      "source": [
        "import pandas as pd\n",
        "data = pd.read_csv('/content/11785-f24-hw1p2-solutions.csv')\n",
        "data.head(3)"
      ]
    },
    {
      "cell_type": "markdown",
      "metadata": {
        "id": "114aKInp4khU"
      },
      "source": [
        "# DATA TYPES AND SLICING"
      ]
    },
    {
      "cell_type": "markdown",
      "metadata": {
        "id": "xL5sbWl4s9OT"
      },
      "source": [
        "###1. **Numeric Data Types**\n",
        "* integer (int) represents whole number\n",
        "* floating point type (float) represents decimal numbers\n",
        "\n",
        "\n",
        "\n"
      ]
    },
    {
      "cell_type": "code",
      "execution_count": 3,
      "metadata": {
        "colab": {
          "base_uri": "https://localhost:8080/"
        },
        "id": "840Lx4V2pweW",
        "outputId": "6ac603ea-0738-4686-8a12-23c8ced17252"
      },
      "outputs": [
        {
          "name": "stdout",
          "output_type": "stream",
          "text": [
            "data type of variable age =  <class 'int'>\n",
            "data type of variable pi =  <class 'float'>\n",
            "data type of variable temperature =  <class 'float'>\n"
          ]
        }
      ],
      "source": [
        "age = 23  #int\n",
        "pi = 3.14 #float\n",
        "temperature = -5.5 #float\n",
        "\n",
        "print(\"data type of variable age = \", type(age))\n",
        "print(\"data type of variable pi = \", type(pi))\n",
        "print(\"data type of variable temperature = \", type(temperature))"
      ]
    },
    {
      "cell_type": "code",
      "execution_count": 4,
      "metadata": {
        "colab": {
          "base_uri": "https://localhost:8080/",
          "height": 141
        },
        "id": "Dmzu1ibtCrrr",
        "outputId": "e2ed9c67-19b5-48ef-d730-9bdbff60a5d0"
      },
      "outputs": [
        {
          "ename": "TypeError",
          "evalue": "'int' object is not subscriptable",
          "output_type": "error",
          "traceback": [
            "\u001b[1;31m---------------------------------------------------------------------------\u001b[0m",
            "\u001b[1;31mTypeError\u001b[0m                                 Traceback (most recent call last)",
            "Cell \u001b[1;32mIn[4], line 1\u001b[0m\n\u001b[1;32m----> 1\u001b[0m \u001b[38;5;28mprint\u001b[39m(\u001b[43mage\u001b[49m\u001b[43m[\u001b[49m\u001b[38;5;241;43m0\u001b[39;49m\u001b[43m]\u001b[49m)\n",
            "\u001b[1;31mTypeError\u001b[0m: 'int' object is not subscriptable"
          ]
        }
      ],
      "source": [
        "print(age[0])"
      ]
    },
    {
      "cell_type": "markdown",
      "metadata": {
        "id": "RudLM1JbuSKU"
      },
      "source": [
        "###2. **String Data Type**\n",
        "  string (str) represents sequence of characters enclosed by double quotes or single quotes."
      ]
    },
    {
      "cell_type": "code",
      "execution_count": 5,
      "metadata": {
        "colab": {
          "base_uri": "https://localhost:8080/"
        },
        "id": "QZL-M91uuQyZ",
        "outputId": "8e8fd27d-f0e6-438a-874f-5a6154750254"
      },
      "outputs": [
        {
          "name": "stdout",
          "output_type": "stream",
          "text": [
            "data type of the variable name =  <class 'str'>\n",
            "data type of the variable greeting =  <class 'str'>\n",
            "data type of the variable address =  <class 'str'>\n"
          ]
        }
      ],
      "source": [
        "name = \"Alice\"\n",
        "greeting = 'Hello'\n",
        "address = \"123 Main St\"\n",
        "\n",
        "print(\"data type of the variable name = \",type(name))\n",
        "print(\"data type of the variable greeting = \",type(greeting))\n",
        "print(\"data type of the variable address = \",type(address))"
      ]
    },
    {
      "cell_type": "code",
      "execution_count": 6,
      "metadata": {
        "colab": {
          "base_uri": "https://localhost:8080/"
        },
        "id": "5mfNcLRtCv2v",
        "outputId": "23672f7a-f88b-4aaa-819d-c2392736b064"
      },
      "outputs": [
        {
          "name": "stdout",
          "output_type": "stream",
          "text": [
            "The first letter of the name is: A\n",
            "The last letter of the name is: e\n",
            "The second letter to the fourth of the name is: lic\n",
            "The first two letters of the name are: Al\n",
            "Substring starting from the third letter is: ice\n"
          ]
        }
      ],
      "source": [
        "# slice only one element\n",
        "print(\"The first letter of the name is:\", name[0])\n",
        "print(\"The last letter of the name is:\", name[-1])\n",
        "\n",
        "# slice a range of elements\n",
        "print(\"The second letter to the fourth of the name is:\", name[1:4])\n",
        "print(\"The first two letters of the name are:\", name[:2])\n",
        "print(\"Substring starting from the third letter is:\", name[2:])"
      ]
    },
    {
      "cell_type": "markdown",
      "metadata": {
        "id": "aa9hpHBXvo8S"
      },
      "source": [
        "###3. **Boolean Type**\n",
        "\n",
        "Boolean (bool) represents a boolean value, either True or False."
      ]
    },
    {
      "cell_type": "code",
      "execution_count": 7,
      "metadata": {
        "colab": {
          "base_uri": "https://localhost:8080/"
        },
        "id": "ypssh6MOv6EF",
        "outputId": "1e65952b-c8e7-463a-e551-e9f68bd62f73"
      },
      "outputs": [
        {
          "name": "stdout",
          "output_type": "stream",
          "text": [
            "data type of the variable is_student =  <class 'bool'>\n",
            "data type of the variable has_license =  <class 'bool'>\n"
          ]
        }
      ],
      "source": [
        "is_student = True\n",
        "has_license = False\n",
        "\n",
        "print(\"data type of the variable is_student = \",type(is_student))\n",
        "print(\"data type of the variable has_license = \",type(has_license))"
      ]
    },
    {
      "cell_type": "markdown",
      "metadata": {
        "id": "1rOmwvohwUdX"
      },
      "source": [
        "###4. **List**\n",
        "    \n",
        "'list' represents an ordered, mutable collection of elements."
      ]
    },
    {
      "cell_type": "code",
      "execution_count": 8,
      "metadata": {
        "id": "xi0bFzgJwim0"
      },
      "outputs": [],
      "source": [
        "list1 = [1, 2, 3, 4]\n",
        "mixed_list = [12, \"Hello\", True]"
      ]
    },
    {
      "cell_type": "code",
      "execution_count": null,
      "metadata": {
        "colab": {
          "base_uri": "https://localhost:8080/"
        },
        "id": "AQsjb3cWFYdV",
        "outputId": "f7f48105-d03f-4526-ba42-da6e54140392"
      },
      "outputs": [
        {
          "name": "stdout",
          "output_type": "stream",
          "text": [
            "First element: 1\n",
            "Last two elements: [3, 4]\n",
            "Middle two elements: [2, 3]\n"
          ]
        }
      ],
      "source": [
        "print(\"First element:\", list1[0])\n",
        "print(\"Last two elements:\", list1[2:])\n",
        "print(\"Middle two elements:\", list1[1:3])"
      ]
    },
    {
      "cell_type": "code",
      "execution_count": 9,
      "metadata": {
        "colab": {
          "base_uri": "https://localhost:8080/"
        },
        "id": "Tq3v3RbJZwG3",
        "outputId": "33b28c97-23be-45d0-f53e-8f7a998210fa"
      },
      "outputs": [
        {
          "data": {
            "text/plain": [
              "[False, 'Hello', True]"
            ]
          },
          "execution_count": 9,
          "metadata": {},
          "output_type": "execute_result"
        }
      ],
      "source": [
        "# List is mutable\n",
        "mixed_list[0] = False\n",
        "mixed_list"
      ]
    },
    {
      "cell_type": "markdown",
      "metadata": {
        "id": "Q8ufYlWVxGVE"
      },
      "source": [
        "###5. **Tuple**\n",
        "\n",
        "'tuple' represents an ordered, immutable collection of elements."
      ]
    },
    {
      "cell_type": "code",
      "execution_count": 10,
      "metadata": {
        "id": "JiuVpd_1xb3J"
      },
      "outputs": [],
      "source": [
        "colors = ('red', 'green', 'yellow', 'blue')"
      ]
    },
    {
      "cell_type": "code",
      "execution_count": 11,
      "metadata": {
        "colab": {
          "base_uri": "https://localhost:8080/"
        },
        "id": "jyPYHDNWFloM",
        "outputId": "281089ff-6d47-477a-f9fd-71d8e4b98960"
      },
      "outputs": [
        {
          "name": "stdout",
          "output_type": "stream",
          "text": [
            "First element: red\n",
            "Last two elements: ('yellow', 'blue')\n",
            "Middle two elements: ('green', 'yellow')\n"
          ]
        }
      ],
      "source": [
        "print(\"First element:\", colors[0])\n",
        "print(\"Last two elements:\", colors[2:])\n",
        "print(\"Middle two elements:\", colors[1:3])"
      ]
    },
    {
      "cell_type": "code",
      "execution_count": 12,
      "metadata": {
        "colab": {
          "base_uri": "https://localhost:8080/",
          "height": 159
        },
        "id": "8OF5-rhSZue0",
        "outputId": "ecfe4d62-cb3a-4c94-ec77-29a53a75bd56"
      },
      "outputs": [
        {
          "ename": "TypeError",
          "evalue": "'tuple' object does not support item assignment",
          "output_type": "error",
          "traceback": [
            "\u001b[1;31m---------------------------------------------------------------------------\u001b[0m",
            "\u001b[1;31mTypeError\u001b[0m                                 Traceback (most recent call last)",
            "Cell \u001b[1;32mIn[12], line 1\u001b[0m\n\u001b[1;32m----> 1\u001b[0m colors[\u001b[38;5;241m0\u001b[39m] \u001b[38;5;241m=\u001b[39m \u001b[38;5;124m'\u001b[39m\u001b[38;5;124mpurple\u001b[39m\u001b[38;5;124m'\u001b[39m\n\u001b[0;32m      2\u001b[0m colors\n",
            "\u001b[1;31mTypeError\u001b[0m: 'tuple' object does not support item assignment"
          ]
        }
      ],
      "source": [
        "colors[0] = 'purple'\n",
        "colors"
      ]
    },
    {
      "cell_type": "markdown",
      "metadata": {
        "id": "km5FtspMbZ-y"
      },
      "source": [
        "###6. **Set**\n",
        "\n",
        "'set' represents an unordered, immutable collection of elements that are unique."
      ]
    },
    {
      "cell_type": "code",
      "execution_count": 13,
      "metadata": {
        "colab": {
          "base_uri": "https://localhost:8080/"
        },
        "id": "59IBkfYqbYPa",
        "outputId": "08889c0d-384b-4bb3-e21f-e88e0077ce49"
      },
      "outputs": [
        {
          "name": "stdout",
          "output_type": "stream",
          "text": [
            "{1, 2, 3, 4, 5}\n"
          ]
        }
      ],
      "source": [
        "unique_numbers = {1,2,3,3,3,3,4,5}\n",
        "\n",
        "print(unique_numbers)"
      ]
    },
    {
      "cell_type": "code",
      "execution_count": 14,
      "metadata": {
        "colab": {
          "base_uri": "https://localhost:8080/"
        },
        "id": "gouZ51pRjbZQ",
        "outputId": "d9ab6d6f-0383-4186-e568-e50d8f34fda8"
      },
      "outputs": [
        {
          "name": "stdout",
          "output_type": "stream",
          "text": [
            "{1, 2, 3, 4, 5}\n"
          ]
        }
      ],
      "source": [
        "unique_numbers2 = {2,1,3,3,3,3,4,5}\n",
        "\n",
        "print(unique_numbers2)"
      ]
    },
    {
      "cell_type": "markdown",
      "metadata": {
        "id": "DfKZNz-IxqHG"
      },
      "source": [
        "###7. **Dictionary**\n",
        "\n",
        "* 'dict' represents a collection of key-value pairs.\n",
        "* dictionaries are unordered collections of items"
      ]
    },
    {
      "cell_type": "code",
      "execution_count": 15,
      "metadata": {
        "colab": {
          "base_uri": "https://localhost:8080/"
        },
        "id": "A4LLvVQtx5kg",
        "outputId": "736ad973-b33c-4b0a-862e-cc208d57a08c"
      },
      "outputs": [
        {
          "name": "stdout",
          "output_type": "stream",
          "text": [
            "Hello my name is John. I am 30 years old and I live at Pittsburgh.\n"
          ]
        }
      ],
      "source": [
        "person = {'name':'John','age':30,'city':'Pittsburgh'}\n",
        "\n",
        "print(f\"Hello my name is {person['name']}. I am {person['age']} years old and I live at {person['city']}.\")"
      ]
    },
    {
      "cell_type": "code",
      "execution_count": 16,
      "metadata": {
        "colab": {
          "base_uri": "https://localhost:8080/",
          "height": 141
        },
        "id": "p_pHwTkZEuBX",
        "outputId": "1cd8dc6e-ac2e-4612-bb03-d0e4fac0d437"
      },
      "outputs": [
        {
          "ename": "KeyError",
          "evalue": "0",
          "output_type": "error",
          "traceback": [
            "\u001b[1;31m---------------------------------------------------------------------------\u001b[0m",
            "\u001b[1;31mKeyError\u001b[0m                                  Traceback (most recent call last)",
            "Cell \u001b[1;32mIn[16], line 1\u001b[0m\n\u001b[1;32m----> 1\u001b[0m \u001b[43mperson\u001b[49m\u001b[43m[\u001b[49m\u001b[38;5;241;43m0\u001b[39;49m\u001b[43m]\u001b[49m\n",
            "\u001b[1;31mKeyError\u001b[0m: 0"
          ]
        }
      ],
      "source": [
        "person[0]"
      ]
    },
    {
      "cell_type": "code",
      "execution_count": 17,
      "metadata": {
        "colab": {
          "base_uri": "https://localhost:8080/"
        },
        "id": "L_orGNDJEycM",
        "outputId": "3743863b-d421-423d-ea69-e5e45b111aa2"
      },
      "outputs": [
        {
          "name": "stdout",
          "output_type": "stream",
          "text": [
            "All keys: ['name', 'age', 'city']\n",
            "All values: ['John', 30, 'Pittsburgh']\n"
          ]
        }
      ],
      "source": [
        "print(\"All keys:\", list(person.keys()))\n",
        "print(\"All values:\", list(person.values()))"
      ]
    },
    {
      "cell_type": "markdown",
      "metadata": {
        "id": "vsRQ6Qtn0aKk"
      },
      "source": [
        "###8. **NoneType**\n",
        "\n",
        "It represents the absence of a value, which similar to null in other languages"
      ]
    },
    {
      "cell_type": "code",
      "execution_count": 18,
      "metadata": {
        "id": "QCPIZk8q0ugj"
      },
      "outputs": [],
      "source": [
        "result = None"
      ]
    },
    {
      "cell_type": "markdown",
      "metadata": {
        "id": "dujNkwzapw5u"
      },
      "source": [
        "# LOGICAL STATEMENTS AND LOOPS"
      ]
    },
    {
      "cell_type": "markdown",
      "metadata": {
        "id": "va3q9uIpvmoy"
      },
      "source": [
        "###1. **if and else statement :**\n",
        "\n",
        "It allows conditional execution of code based on the evaluation of a given condition.\n"
      ]
    },
    {
      "cell_type": "code",
      "execution_count": 19,
      "metadata": {
        "colab": {
          "base_uri": "https://localhost:8080/"
        },
        "id": "Li-d7Tgfp7vN",
        "outputId": "b50c677f-c562-4202-e65a-1462db981134"
      },
      "outputs": [
        {
          "name": "stdout",
          "output_type": "stream",
          "text": [
            "Positive\n"
          ]
        }
      ],
      "source": [
        "num = 10\n",
        "if num > 0:\n",
        "    print(\"Positive\")\n",
        "else:\n",
        "    print(\"Non-positive\")\n"
      ]
    },
    {
      "cell_type": "markdown",
      "metadata": {
        "id": "UvQcAxW82IYa"
      },
      "source": [
        "###2. **and, or, and not operators:**\n",
        "\n",
        "  These operators are used for combining conditions and negating them.\n"
      ]
    },
    {
      "cell_type": "code",
      "execution_count": 21,
      "metadata": {
        "colab": {
          "base_uri": "https://localhost:8080/"
        },
        "id": "f9Tadjb52TNJ",
        "outputId": "f01499d3-f2d8-4c49-fc17-2635ae908abd"
      },
      "outputs": [
        {
          "name": "stdout",
          "output_type": "stream",
          "text": [
            "Both conditions are true\n",
            "At least one condition is true\n",
            "x is not equal to 0\n"
          ]
        }
      ],
      "source": [
        "x = 5\n",
        "y = 10\n",
        "if x > 0 and y < 20:\n",
        "    print(\"Both conditions are true\")\n",
        "if x > 0 or y > 20:\n",
        "    print(\"At least one condition is true\")\n",
        "if not x == 0:\n",
        "    print(\"x is not equal to 0\")\n",
        "\n"
      ]
    },
    {
      "cell_type": "markdown",
      "metadata": {
        "id": "VAGaG_Ot2gOm"
      },
      "source": [
        "###3. **for  loop:**\n",
        "\n",
        "It iterates over a sequence (e.g., list, tuple, string) and performs actions for each element.\n"
      ]
    },
    {
      "cell_type": "code",
      "execution_count": 22,
      "metadata": {
        "colab": {
          "base_uri": "https://localhost:8080/"
        },
        "id": "Scwqs21u2iYo",
        "outputId": "3e5ef03f-48cb-4a3b-da21-9951a4a03d3a"
      },
      "outputs": [
        {
          "name": "stdout",
          "output_type": "stream",
          "text": [
            "apple\n",
            "banana\n",
            "cherry\n"
          ]
        }
      ],
      "source": [
        "fruits = [\"apple\", \"banana\",\"cherry\"]\n",
        "\n",
        "for fruit in fruits:\n",
        "    print(fruit)\n",
        "\n"
      ]
    },
    {
      "cell_type": "markdown",
      "metadata": {
        "id": "bFg2R7pRZtUl"
      },
      "source": [
        "###4. **while  loop:**"
      ]
    },
    {
      "cell_type": "code",
      "execution_count": 23,
      "metadata": {
        "colab": {
          "base_uri": "https://localhost:8080/"
        },
        "id": "jnPjbrmL2vLs",
        "outputId": "4c603f9b-c3a2-4283-eda2-8edb1bae9671"
      },
      "outputs": [
        {
          "name": "stdout",
          "output_type": "stream",
          "text": [
            "Count is: 0\n",
            "Count is: 1\n",
            "Count is: 2\n",
            "Count is: 3\n",
            "Count is: 4\n"
          ]
        }
      ],
      "source": [
        "count = 0\n",
        "while count < 5:\n",
        "    print(\"Count is:\", count)\n",
        "    count += 1\n"
      ]
    },
    {
      "cell_type": "markdown",
      "metadata": {
        "id": "-Hl3vd0nPPgQ"
      },
      "source": [
        "###5. **Break and continue:**\n",
        "\n",
        "Break terminates the loop as soon as it is encountered.\n",
        "Continue skips the current iteration of the loop.\n"
      ]
    },
    {
      "cell_type": "code",
      "execution_count": 24,
      "metadata": {
        "colab": {
          "base_uri": "https://localhost:8080/"
        },
        "id": "PakAQjtuPhU1",
        "outputId": "e3b4c4df-10d6-4705-cc11-b431abf817b8"
      },
      "outputs": [
        {
          "name": "stdout",
          "output_type": "stream",
          "text": [
            "loop 1\n",
            "apple\n"
          ]
        }
      ],
      "source": [
        "fruits = [\"apple\", \"banana\", \"orange\"]\n",
        "\n",
        "print(\"loop 1\")\n",
        "for fruit in fruits:\n",
        "  print(fruit)\n",
        "  if fruit == \"apple\":\n",
        "    break"
      ]
    },
    {
      "cell_type": "code",
      "execution_count": 25,
      "metadata": {
        "colab": {
          "base_uri": "https://localhost:8080/"
        },
        "id": "MOg9iOS2QmRJ",
        "outputId": "78b07dcf-38e5-448a-f177-13b68733964c"
      },
      "outputs": [
        {
          "name": "stdout",
          "output_type": "stream",
          "text": [
            "loop 2\n",
            "banana\n",
            "orange\n"
          ]
        }
      ],
      "source": [
        "print(\"loop 2\")\n",
        "for fruit in fruits:\n",
        "  if fruit == \"apple\":\n",
        "    continue\n",
        "  else:\n",
        "      print(fruit)\n"
      ]
    },
    {
      "cell_type": "markdown",
      "metadata": {
        "id": "wPvipry-p-PW"
      },
      "source": [
        "# FUNCTIONS"
      ]
    },
    {
      "cell_type": "markdown",
      "metadata": {
        "id": "klaL441u24-u"
      },
      "source": [
        "###1. **Built-in Functions**\n",
        "\n",
        "print(), min(), max(), len(), range(), type() etc.\n",
        "\n",
        "  These functions are already provided as part of python."
      ]
    },
    {
      "cell_type": "code",
      "execution_count": 26,
      "metadata": {
        "colab": {
          "base_uri": "https://localhost:8080/"
        },
        "id": "344GDlvRqBzF",
        "outputId": "45b363f2-cc4d-4dc7-d2a1-1d44f94081a6"
      },
      "outputs": [
        {
          "name": "stdout",
          "output_type": "stream",
          "text": [
            "3\n"
          ]
        }
      ],
      "source": [
        "fruits = [\"apple\", \"banana\",\"cherry\"]\n",
        "print(len(fruits))\n"
      ]
    },
    {
      "cell_type": "markdown",
      "metadata": {
        "id": "UYX3dbVC3RuH"
      },
      "source": [
        "###2.  **Built-in Methods**\n",
        "\n",
        "  Data types in python have “methods” associated with them - functions specifically designed to operate on instances of that data type\n"
      ]
    },
    {
      "cell_type": "code",
      "execution_count": 27,
      "metadata": {
        "colab": {
          "base_uri": "https://localhost:8080/"
        },
        "id": "RkPpeWJg3kGt",
        "outputId": "501fc06b-9b9b-4d5e-875c-b83f52e157ff"
      },
      "outputs": [
        {
          "name": "stdout",
          "output_type": "stream",
          "text": [
            "Name in upper case =  JOHN\n",
            "List after appending [1, 2, 3, 4, 5]\n",
            "Keys of the dictionary person dict_keys(['name', 'age', 'city'])\n"
          ]
        }
      ],
      "source": [
        "name = \"john\"\n",
        "print(\"Name in upper case = \", name.upper())\n",
        "\n",
        "l = [1,2,3,4]\n",
        "l.append(5)\n",
        "print(\"List after appending\",l)\n",
        "\n",
        "person = {'name':'John','age':30,'city':'Pitt'}\n",
        "print(\"Keys of the dictionary person\", person.keys())\n",
        "\n",
        "# for more methods explore https://www.w3schools.com/python/python_ref_functions.asp"
      ]
    },
    {
      "cell_type": "markdown",
      "metadata": {
        "id": "dPOv62Y65Pex"
      },
      "source": [
        "###3. **User Defined Functions**\n",
        "\n",
        "  Functions we define ourselves to perform specific task.\n",
        "\n",
        "  User-defined functions help to decompose a large program into small segments which makes the program easy to understand, maintain and debug.\n"
      ]
    },
    {
      "cell_type": "code",
      "execution_count": 28,
      "metadata": {
        "colab": {
          "base_uri": "https://localhost:8080/"
        },
        "id": "z_RT7iYB5NyM",
        "outputId": "86df46bf-943b-4135-d757-f68f959f207f"
      },
      "outputs": [
        {
          "name": "stdout",
          "output_type": "stream",
          "text": [
            "Dumb! 3 is always less than 5\n"
          ]
        }
      ],
      "source": [
        "def print_something():\n",
        "    if 3 < 5:\n",
        "        print(\"Dumb! 3 is always less than 5\")\n",
        "    else:\n",
        "        print(\"I can never reach here\")\n",
        "    return\n",
        "\n",
        "print_something()"
      ]
    },
    {
      "cell_type": "markdown",
      "metadata": {
        "id": "n7jzvD6PXNlF"
      },
      "source": [
        "###4. **Local and Global Variables**\n",
        "\n",
        "\n",
        "Global variables are defined outside the functions, and are accessible everywhere in the program.\n",
        "\n",
        "Local variables are defined inside a function, and can only be accessed inside that function.\n"
      ]
    },
    {
      "cell_type": "code",
      "execution_count": 29,
      "metadata": {
        "colab": {
          "base_uri": "https://localhost:8080/"
        },
        "id": "gzdZjbm2XnBX",
        "outputId": "9ceebb83-8a2b-4df0-a5fd-e4f03c7338df"
      },
      "outputs": [
        {
          "name": "stdout",
          "output_type": "stream",
          "text": [
            "my favorite fruit is  apple\n",
            "apple\n"
          ]
        }
      ],
      "source": [
        "fruit = \"apple\"\n",
        "def fav_fruit():\n",
        "  print(\"my favorite fruit is \", fruit)\n",
        "\n",
        "fav_fruit()\n",
        "print(fruit)"
      ]
    },
    {
      "cell_type": "code",
      "execution_count": 30,
      "metadata": {
        "colab": {
          "base_uri": "https://localhost:8080/",
          "height": 200
        },
        "id": "37d8jt2FX-Yb",
        "outputId": "6a72ea1e-dd7c-4a1e-f6d7-ee52211ae49f"
      },
      "outputs": [
        {
          "name": "stdout",
          "output_type": "stream",
          "text": [
            "my favorite vegetable is  onion\n"
          ]
        },
        {
          "ename": "NameError",
          "evalue": "name 'vegetable' is not defined",
          "output_type": "error",
          "traceback": [
            "\u001b[1;31m---------------------------------------------------------------------------\u001b[0m",
            "\u001b[1;31mNameError\u001b[0m                                 Traceback (most recent call last)",
            "Cell \u001b[1;32mIn[30], line 6\u001b[0m\n\u001b[0;32m      3\u001b[0m   \u001b[38;5;28mprint\u001b[39m(\u001b[38;5;124m\"\u001b[39m\u001b[38;5;124mmy favorite vegetable is \u001b[39m\u001b[38;5;124m\"\u001b[39m, vegetable)\n\u001b[0;32m      5\u001b[0m fav_vegetable()\n\u001b[1;32m----> 6\u001b[0m \u001b[38;5;28mprint\u001b[39m(\u001b[43mvegetable\u001b[49m)\n",
            "\u001b[1;31mNameError\u001b[0m: name 'vegetable' is not defined"
          ]
        }
      ],
      "source": [
        "def fav_vegetable():\n",
        "  vegetable = \"onion\"\n",
        "  print(\"my favorite vegetable is \", vegetable)\n",
        "\n",
        "fav_vegetable()\n",
        "print(vegetable)"
      ]
    },
    {
      "cell_type": "markdown",
      "metadata": {
        "id": "OjK2ItkN5fbD"
      },
      "source": [
        "### 4. **Recursion**\n",
        "\n",
        "1. What is Recursion?\n",
        "   - Recursion is a programming technique where a function calls itself to solve a problem.\n",
        "\n",
        "2. Key Concepts:\n",
        "   - Base Case: The condition that stops the recursion.\n",
        "   - Recursive Case: The problem is broken down into smaller sub-problems of the same type.\n",
        "\n",
        "3. How Recursion Works:\n",
        "   - Function calls itself until base case is reached.\n",
        "   - Smaller sub-problems are solved before combining results.\n",
        "\n",
        "4. Example: Factorial Calculation\n",
        "   - n! = n * (n-1) * (n-2) * ... * 1\n",
        "   - Base case: 0! = 1\n",
        "   - Recursive case: n! = n * (n-1)!\n",
        "\n"
      ]
    },
    {
      "cell_type": "code",
      "execution_count": 31,
      "metadata": {
        "colab": {
          "base_uri": "https://localhost:8080/"
        },
        "id": "siNRHqvO5en8",
        "outputId": "c27a94af-600c-4793-cd45-4f76339adc2e"
      },
      "outputs": [
        {
          "name": "stdout",
          "output_type": "stream",
          "text": [
            "Fibonacci of 8 is 21\n"
          ]
        }
      ],
      "source": [
        "def fibonacci(n):\n",
        "    # Base cases: fibonacci(0) is 0, fibonacci(1) is 1\n",
        "    if n == 0: return 0\n",
        "    elif n == 1: return 1\n",
        "    # Recursive case: fibonacci(n) = fibonacci(n-1) + fibonacci(n-2)\n",
        "    else: return fibonacci(n - 1) + fibonacci(n - 2)\n",
        "\n",
        "print(\"Fibonacci of 8 is\",fibonacci(8))\n"
      ]
    },
    {
      "cell_type": "markdown",
      "metadata": {
        "id": "fptL1sP7qCWm"
      },
      "source": [
        "# EXCEPTION AND ERROR HANDLING"
      ]
    },
    {
      "cell_type": "markdown",
      "metadata": {
        "id": "Y_pxW_nP6H9W"
      },
      "source": [
        "\n",
        "\n",
        "1.  **SyntaxError :**\n",
        "\n",
        " Occurs when the code violates the Python syntax rules.\n",
        "\n",
        "\n"
      ]
    },
    {
      "cell_type": "code",
      "execution_count": null,
      "metadata": {
        "colab": {
          "base_uri": "https://localhost:8080/",
          "height": 140
        },
        "id": "5fyl9m3_7Zz9",
        "outputId": "bbe12b97-c8ce-4519-9bbb-a339eb40065a"
      },
      "outputs": [
        {
          "ename": "SyntaxError",
          "evalue": "ignored",
          "output_type": "error",
          "traceback": [
            "\u001b[0;36m  File \u001b[0;32m\"<ipython-input-25-4459da64a047>\"\u001b[0;36m, line \u001b[0;32m1\u001b[0m\n\u001b[0;31m    print(\"Hello, World!\"\u001b[0m\n\u001b[0m                         ^\u001b[0m\n\u001b[0;31mSyntaxError\u001b[0m\u001b[0;31m:\u001b[0m incomplete input\n"
          ]
        }
      ],
      "source": [
        "print(\"Hello, World!\"\n"
      ]
    },
    {
      "cell_type": "markdown",
      "metadata": {
        "id": "3NuFFzos6Q_r"
      },
      "source": [
        "2. **IndentationError :**\n",
        "\n",
        " Occurs when there are issues with the indentation of code blocks.\n",
        "\n"
      ]
    },
    {
      "cell_type": "code",
      "execution_count": null,
      "metadata": {
        "colab": {
          "base_uri": "https://localhost:8080/",
          "height": 140
        },
        "id": "GHKmAyxa7alz",
        "outputId": "7f6403b7-cca8-4a22-c6d5-f53e1f052bec"
      },
      "outputs": [
        {
          "ename": "IndentationError",
          "evalue": "ignored",
          "output_type": "error",
          "traceback": [
            "\u001b[0;36m  File \u001b[0;32m\"<ipython-input-28-952674ffee40>\"\u001b[0;36m, line \u001b[0;32m2\u001b[0m\n\u001b[0;31m    print(\"First line\")\u001b[0m\n\u001b[0m    ^\u001b[0m\n\u001b[0;31mIndentationError\u001b[0m\u001b[0;31m:\u001b[0m expected an indented block after 'if' statement on line 1\n"
          ]
        }
      ],
      "source": [
        "if True:\n",
        "print(\"First line\")\n"
      ]
    },
    {
      "cell_type": "markdown",
      "metadata": {
        "id": "ZEwBriR96ZUy"
      },
      "source": [
        "3. **NameError :**\n",
        "\n",
        "  Occurs when a variable or a function is not defined."
      ]
    },
    {
      "cell_type": "code",
      "execution_count": null,
      "metadata": {
        "colab": {
          "base_uri": "https://localhost:8080/",
          "height": 191
        },
        "id": "1BRt_aTPqJaJ",
        "outputId": "f8225037-f4fe-4ebd-95f6-c1eb1718627f"
      },
      "outputs": [
        {
          "ename": "NameError",
          "evalue": "ignored",
          "output_type": "error",
          "traceback": [
            "\u001b[0;31m---------------------------------------------------------------------------\u001b[0m",
            "\u001b[0;31mNameError\u001b[0m                                 Traceback (most recent call last)",
            "\u001b[0;32m<ipython-input-23-7d9befca009a>\u001b[0m in \u001b[0;36m<cell line: 2>\u001b[0;34m()\u001b[0m\n\u001b[1;32m      1\u001b[0m \u001b[0mX\u001b[0m \u001b[0;34m=\u001b[0m \u001b[0;36m10\u001b[0m\u001b[0;34m\u001b[0m\u001b[0;34m\u001b[0m\u001b[0m\n\u001b[0;32m----> 2\u001b[0;31m \u001b[0mprint\u001b[0m\u001b[0;34m(\u001b[0m\u001b[0mY\u001b[0m\u001b[0;34m)\u001b[0m\u001b[0;34m\u001b[0m\u001b[0;34m\u001b[0m\u001b[0m\n\u001b[0m",
            "\u001b[0;31mNameError\u001b[0m: name 'Y' is not defined"
          ]
        }
      ],
      "source": [
        "X = 10\n",
        "print(Y)"
      ]
    },
    {
      "cell_type": "markdown",
      "metadata": {
        "id": "m6xXdPFC6mSc"
      },
      "source": [
        "4. **TypeError :**\n",
        "\n",
        " Occurs when an operation is performed on incompatible data types.\n"
      ]
    },
    {
      "cell_type": "code",
      "execution_count": null,
      "metadata": {
        "colab": {
          "base_uri": "https://localhost:8080/",
          "height": 208
        },
        "id": "9KKmxbNU7bqQ",
        "outputId": "0550fb94-3110-4d80-b3d3-bb4a6f30744c"
      },
      "outputs": [
        {
          "ename": "TypeError",
          "evalue": "ignored",
          "output_type": "error",
          "traceback": [
            "\u001b[0;31m---------------------------------------------------------------------------\u001b[0m",
            "\u001b[0;31mTypeError\u001b[0m                                 Traceback (most recent call last)",
            "\u001b[0;32m<ipython-input-29-fa68e5872f06>\u001b[0m in \u001b[0;36m<cell line: 3>\u001b[0;34m()\u001b[0m\n\u001b[1;32m      1\u001b[0m \u001b[0ma\u001b[0m \u001b[0;34m=\u001b[0m \u001b[0;34m\"5\"\u001b[0m\u001b[0;34m\u001b[0m\u001b[0;34m\u001b[0m\u001b[0m\n\u001b[1;32m      2\u001b[0m \u001b[0mb\u001b[0m \u001b[0;34m=\u001b[0m \u001b[0;36m3\u001b[0m\u001b[0;34m\u001b[0m\u001b[0;34m\u001b[0m\u001b[0m\n\u001b[0;32m----> 3\u001b[0;31m \u001b[0mresult\u001b[0m \u001b[0;34m=\u001b[0m \u001b[0ma\u001b[0m \u001b[0;34m+\u001b[0m \u001b[0mb\u001b[0m\u001b[0;34m\u001b[0m\u001b[0;34m\u001b[0m\u001b[0m\n\u001b[0m",
            "\u001b[0;31mTypeError\u001b[0m: can only concatenate str (not \"int\") to str"
          ]
        }
      ],
      "source": [
        "a = \"5\"\n",
        "b = 3\n",
        "result = a + b\n"
      ]
    },
    {
      "cell_type": "markdown",
      "metadata": {
        "id": "vc_jfHW96w1P"
      },
      "source": [
        "5. **IndexError :**\n",
        "\n",
        " Occurs when attempting to access an index that is out of range.\n"
      ]
    },
    {
      "cell_type": "code",
      "execution_count": null,
      "metadata": {
        "colab": {
          "base_uri": "https://localhost:8080/",
          "height": 191
        },
        "id": "Q_UocBIy7ccY",
        "outputId": "73eecca4-c9c8-4e61-e65a-0fc0058d8d21"
      },
      "outputs": [
        {
          "ename": "IndexError",
          "evalue": "ignored",
          "output_type": "error",
          "traceback": [
            "\u001b[0;31m---------------------------------------------------------------------------\u001b[0m",
            "\u001b[0;31mIndexError\u001b[0m                                Traceback (most recent call last)",
            "\u001b[0;32m<ipython-input-30-219976c00013>\u001b[0m in \u001b[0;36m<cell line: 2>\u001b[0;34m()\u001b[0m\n\u001b[1;32m      1\u001b[0m \u001b[0mmy_list\u001b[0m \u001b[0;34m=\u001b[0m \u001b[0;34m[\u001b[0m\u001b[0;36m1\u001b[0m\u001b[0;34m,\u001b[0m \u001b[0;36m2\u001b[0m\u001b[0;34m,\u001b[0m \u001b[0;36m3\u001b[0m\u001b[0;34m]\u001b[0m\u001b[0;34m\u001b[0m\u001b[0;34m\u001b[0m\u001b[0m\n\u001b[0;32m----> 2\u001b[0;31m \u001b[0mprint\u001b[0m\u001b[0;34m(\u001b[0m\u001b[0mmy_list\u001b[0m\u001b[0;34m[\u001b[0m\u001b[0;36m3\u001b[0m\u001b[0;34m]\u001b[0m\u001b[0;34m)\u001b[0m\u001b[0;34m\u001b[0m\u001b[0;34m\u001b[0m\u001b[0m\n\u001b[0m",
            "\u001b[0;31mIndexError\u001b[0m: list index out of range"
          ]
        }
      ],
      "source": [
        "my_list = [1, 2, 3]\n",
        "print(my_list[3])\n"
      ]
    },
    {
      "cell_type": "markdown",
      "metadata": {
        "id": "280jLB_364TB"
      },
      "source": [
        "6. **KeyError :**\n",
        "\n",
        " Occurs when accessing a dictionary key that doesn't exist.\n"
      ]
    },
    {
      "cell_type": "code",
      "execution_count": null,
      "metadata": {
        "colab": {
          "base_uri": "https://localhost:8080/",
          "height": 191
        },
        "id": "S8EugALw7dWz",
        "outputId": "bef8ab5e-a6ee-4919-fbc2-b160000b9cf7"
      },
      "outputs": [
        {
          "ename": "KeyError",
          "evalue": "ignored",
          "output_type": "error",
          "traceback": [
            "\u001b[0;31m---------------------------------------------------------------------------\u001b[0m",
            "\u001b[0;31mKeyError\u001b[0m                                  Traceback (most recent call last)",
            "\u001b[0;32m<ipython-input-31-855bb7867626>\u001b[0m in \u001b[0;36m<cell line: 2>\u001b[0;34m()\u001b[0m\n\u001b[1;32m      1\u001b[0m \u001b[0mmy_dict\u001b[0m \u001b[0;34m=\u001b[0m \u001b[0;34m{\u001b[0m\u001b[0;34m'a'\u001b[0m\u001b[0;34m:\u001b[0m \u001b[0;36m1\u001b[0m\u001b[0;34m,\u001b[0m \u001b[0;34m'b'\u001b[0m\u001b[0;34m:\u001b[0m \u001b[0;36m2\u001b[0m\u001b[0;34m}\u001b[0m\u001b[0;34m\u001b[0m\u001b[0;34m\u001b[0m\u001b[0m\n\u001b[0;32m----> 2\u001b[0;31m \u001b[0mprint\u001b[0m\u001b[0;34m(\u001b[0m\u001b[0mmy_dict\u001b[0m\u001b[0;34m[\u001b[0m\u001b[0;34m'c'\u001b[0m\u001b[0;34m]\u001b[0m\u001b[0;34m)\u001b[0m\u001b[0;34m\u001b[0m\u001b[0;34m\u001b[0m\u001b[0m\n\u001b[0m",
            "\u001b[0;31mKeyError\u001b[0m: 'c'"
          ]
        }
      ],
      "source": [
        "my_dict = {'a': 1, 'b': 2}\n",
        "print(my_dict['c'])\n"
      ]
    },
    {
      "cell_type": "markdown",
      "metadata": {
        "id": "Du631gPl7Agj"
      },
      "source": [
        "7. **ZeroDivisionError :**\n",
        "\n",
        " Occurs when dividing by zero.\n"
      ]
    },
    {
      "cell_type": "code",
      "execution_count": null,
      "metadata": {
        "colab": {
          "base_uri": "https://localhost:8080/",
          "height": 208
        },
        "id": "9dn1YMgi7HeL",
        "outputId": "12f37b30-0f3a-4249-984d-98012e52c3a9"
      },
      "outputs": [
        {
          "ename": "ZeroDivisionError",
          "evalue": "ignored",
          "output_type": "error",
          "traceback": [
            "\u001b[0;31m---------------------------------------------------------------------------\u001b[0m",
            "\u001b[0;31mZeroDivisionError\u001b[0m                         Traceback (most recent call last)",
            "\u001b[0;32m<ipython-input-32-6b1435450281>\u001b[0m in \u001b[0;36m<cell line: 3>\u001b[0;34m()\u001b[0m\n\u001b[1;32m      1\u001b[0m \u001b[0mx\u001b[0m \u001b[0;34m=\u001b[0m \u001b[0;36m10\u001b[0m\u001b[0;34m\u001b[0m\u001b[0;34m\u001b[0m\u001b[0m\n\u001b[1;32m      2\u001b[0m \u001b[0my\u001b[0m \u001b[0;34m=\u001b[0m \u001b[0;36m0\u001b[0m\u001b[0;34m\u001b[0m\u001b[0;34m\u001b[0m\u001b[0m\n\u001b[0;32m----> 3\u001b[0;31m \u001b[0mresult\u001b[0m \u001b[0;34m=\u001b[0m \u001b[0mx\u001b[0m \u001b[0;34m/\u001b[0m \u001b[0my\u001b[0m\u001b[0;34m\u001b[0m\u001b[0;34m\u001b[0m\u001b[0m\n\u001b[0m",
            "\u001b[0;31mZeroDivisionError\u001b[0m: division by zero"
          ]
        }
      ],
      "source": [
        "x = 10\n",
        "y = 0\n",
        "result = x / y"
      ]
    },
    {
      "cell_type": "markdown",
      "metadata": {
        "id": "OCifB7dq7Mur"
      },
      "source": [
        "8. **NotImplementedError:**\n",
        "\n",
        " Occurs when a method or function lacks implementation but is called by the code.\n",
        "\n"
      ]
    },
    {
      "cell_type": "code",
      "execution_count": null,
      "metadata": {
        "colab": {
          "base_uri": "https://localhost:8080/",
          "height": 310
        },
        "id": "BrDfRKzJ7eGm",
        "outputId": "a571e8bc-e47a-4120-e422-3abb5a1b7610"
      },
      "outputs": [
        {
          "ename": "NotImplementedError",
          "evalue": "ignored",
          "output_type": "error",
          "traceback": [
            "\u001b[0;31m---------------------------------------------------------------------------\u001b[0m",
            "\u001b[0;31mNotImplementedError\u001b[0m                       Traceback (most recent call last)",
            "\u001b[0;32m<ipython-input-33-a85e4bf504b3>\u001b[0m in \u001b[0;36m<cell line: 4>\u001b[0;34m()\u001b[0m\n\u001b[1;32m      2\u001b[0m    \u001b[0;32mraise\u001b[0m \u001b[0mNotImplementedError\u001b[0m\u001b[0;34m(\u001b[0m\u001b[0;34m\"Not Present\"\u001b[0m\u001b[0;34m)\u001b[0m\u001b[0;34m\u001b[0m\u001b[0;34m\u001b[0m\u001b[0m\n\u001b[1;32m      3\u001b[0m \u001b[0;34m\u001b[0m\u001b[0m\n\u001b[0;32m----> 4\u001b[0;31m \u001b[0mmy_function\u001b[0m\u001b[0;34m(\u001b[0m\u001b[0;34m)\u001b[0m\u001b[0;34m\u001b[0m\u001b[0;34m\u001b[0m\u001b[0m\n\u001b[0m",
            "\u001b[0;32m<ipython-input-33-a85e4bf504b3>\u001b[0m in \u001b[0;36mmy_function\u001b[0;34m()\u001b[0m\n\u001b[1;32m      1\u001b[0m \u001b[0;32mdef\u001b[0m \u001b[0mmy_function\u001b[0m\u001b[0;34m(\u001b[0m\u001b[0;34m)\u001b[0m\u001b[0;34m:\u001b[0m\u001b[0;34m\u001b[0m\u001b[0;34m\u001b[0m\u001b[0m\n\u001b[0;32m----> 2\u001b[0;31m    \u001b[0;32mraise\u001b[0m \u001b[0mNotImplementedError\u001b[0m\u001b[0;34m(\u001b[0m\u001b[0;34m\"Not Present\"\u001b[0m\u001b[0;34m)\u001b[0m\u001b[0;34m\u001b[0m\u001b[0;34m\u001b[0m\u001b[0m\n\u001b[0m\u001b[1;32m      3\u001b[0m \u001b[0;34m\u001b[0m\u001b[0m\n\u001b[1;32m      4\u001b[0m \u001b[0mmy_function\u001b[0m\u001b[0;34m(\u001b[0m\u001b[0;34m)\u001b[0m\u001b[0;34m\u001b[0m\u001b[0;34m\u001b[0m\u001b[0m\n",
            "\u001b[0;31mNotImplementedError\u001b[0m: Not Present"
          ]
        }
      ],
      "source": [
        "def my_function():\n",
        "   raise NotImplementedError(\"Not Present\")\n",
        "\n",
        "my_function()\n"
      ]
    }
  ],
  "metadata": {
    "colab": {
      "provenance": []
    },
    "kernelspec": {
      "display_name": "Python 3",
      "name": "python3"
    },
    "language_info": {
      "codemirror_mode": {
        "name": "ipython",
        "version": 3
      },
      "file_extension": ".py",
      "mimetype": "text/x-python",
      "name": "python",
      "nbconvert_exporter": "python",
      "pygments_lexer": "ipython3",
      "version": "3.10.9"
    }
  },
  "nbformat": 4,
  "nbformat_minor": 0
}
