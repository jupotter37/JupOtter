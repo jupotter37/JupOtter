{
 "cells": [
  {
   "cell_type": "markdown",
   "id": "developing-sterling",
   "metadata": {},
   "source": [
    "<b>Number 1 - \n",
    "- Question -\n",
    "> What is the role of the 'else' block in a try-except statement? Provide an example\n",
    "scenario where it would be useful.\n",
    "- Answer - \n",
    "> In a try-except statement, the 'else' block is an optional component that follows the 'try' and 'except' blocks. Its purpose is to define a set of statements that should be executed if no exceptions are raised within the 'try' block. The 'else' block is executed only if the 'try' block completes successfully without any exceptions being raised."
   ]
  },
  {
   "cell_type": "code",
   "execution_count": 1,
   "id": "f287b8a4",
   "metadata": {},
   "outputs": [
    {
     "name": "stdout",
     "output_type": "stream",
     "text": [
      "Good morning today is 17th June\n",
      "No issues\n"
     ]
    }
   ],
   "source": [
    "\"\"\"You can use the \"else\" keyword to specify a block\n",
    "   of code that will be performed if no errors are raised:\"\"\"\n",
    "try:\n",
    "    print(\"Good morning today is 17th June\")\n",
    "except:\n",
    "    print(\"Some issue\")\n",
    "else:\n",
    "    print(\"No issues\")"
   ]
  },
  {
   "cell_type": "markdown",
   "id": "67ad5069",
   "metadata": {},
   "source": [
    "<b>-----------------------------------------------------------------------------------------------------------------------------------------------------------------------------------------------"
   ]
  },
  {
   "cell_type": "markdown",
   "id": "signal-combine",
   "metadata": {},
   "source": [
    "<b>Number 2 - \n",
    "- Question -\n",
    "> Can a try-except block be nested inside another try-except block? Explain with an\n",
    "example.\n",
    "\n",
    "- Answer - Yes, a try-except block can be nested inside another try-except block. This is known as nested exception handling. It allows for handling specific exceptions at different levels of code, providing more granular error handling.\n",
    "\n",
    "Here's an example to illustrate nested exception handling:"
   ]
  },
  {
   "cell_type": "code",
   "execution_count": 3,
   "id": "1db1cf3a",
   "metadata": {},
   "outputs": [
    {
     "name": "stdout",
     "output_type": "stream",
     "text": [
      "Enter the numerator: 12\n",
      "Enter the denominator: 6\n",
      "The division result is: 2.0\n"
     ]
    }
   ],
   "source": [
    "try:\n",
    "    try:\n",
    "        numerator = int(input(\"Enter the numerator: \"))\n",
    "        denominator = int(input(\"Enter the denominator: \"))\n",
    "        result = numerator / denominator\n",
    "    except ValueError:\n",
    "        print(\"Please enter valid integers.\")\n",
    "    except ZeroDivisionError:\n",
    "        print(\"Cannot divide by zero.\")\n",
    "    else:\n",
    "        print(\"The division result is:\", result)\n",
    "except Exception as e:\n",
    "    print(\"An error occurred:\", str(e))\n"
   ]
  },
  {
   "cell_type": "markdown",
   "id": "74ca823b",
   "metadata": {},
   "source": [
    "In the above example, there are two levels of exception handling. The inner try-except block is responsible for handling specific exceptions related to user input, such as ValueError and ZeroDivisionError. If any of these exceptions occur, the corresponding except block will be executed.\n",
    "\n",
    "If no exceptions occur within the inner try block, the else block will be executed, displaying the division result. However, if an exception other than ValueError or ZeroDivisionError occurs, it will not be caught by the inner except blocks. In that case, the outer except block will handle the exception, printing a generic error message.\n",
    "\n",
    "The nested try-except blocks allow for different levels of exception handling. The inner block focuses on specific exceptions related to the division operation, while the outer block provides a catch-all for any other unexpected exceptions that may occur."
   ]
  },
  {
   "cell_type": "markdown",
   "id": "99145f78",
   "metadata": {},
   "source": [
    "<b>-----------------------------------------------------------------------------------------------------------------------------------------------------------------------------------------------"
   ]
  },
  {
   "cell_type": "markdown",
   "id": "urban-category",
   "metadata": {},
   "source": [
    "<b>Number 3 - \n",
    "- Question -\n",
    ">  How can you create a custom exception class in Python? Provide an example that\n",
    "demonstrates its usage.\n",
    "\n",
    "- Answer -\n",
    "In Python, you can create a custom exception class by subclassing the built-in Exception class or any of its subclasses. By doing so, you can define your own exception with custom behavior and attributes. Here's an example of creating a custom exception class and demonstrating its usage:"
   ]
  },
  {
   "cell_type": "code",
   "execution_count": 1,
   "id": "5cfbaba2",
   "metadata": {},
   "outputs": [
    {
     "name": "stdout",
     "output_type": "stream",
     "text": [
      "Division by zero is not allowed (Error code: 1001)\n"
     ]
    }
   ],
   "source": [
    "class CustomException(Exception):\n",
    "    def __init__(self, message, error_code):\n",
    "        self.message = message\n",
    "        self.error_code = error_code\n",
    "        super().__init__(self.message)\n",
    "\n",
    "    def __str__(self):\n",
    "        return f\"{self.message} (Error code: {self.error_code})\"\n",
    "\n",
    "\n",
    "def divide(a, b):\n",
    "    if b == 0:\n",
    "        raise CustomException(\"Division by zero is not allowed\", 1001)\n",
    "    return a / b\n",
    "\n",
    "\n",
    "# Example usage\n",
    "try:\n",
    "    result = divide(10, 0)\n",
    "except CustomException as e:\n",
    "    print(e)\n"
   ]
  },
  {
   "cell_type": "markdown",
   "id": "78e89a84",
   "metadata": {},
   "source": [
    "<b>-----------------------------------------------------------------------------------------------------------------------------------------------------------------------------------------------"
   ]
  },
  {
   "cell_type": "markdown",
   "id": "visible-cotton",
   "metadata": {},
   "source": [
    "<b>Number 4\n",
    "    - \n",
    "- Question - \n",
    "> What are some common exceptions that are built-in to Python.\n",
    " \n",
    "- Answer -\n",
    "> Python provides several built-in exceptions that are commonly used to handle various types of errors and exceptional situations. Here are some of the most common exceptions in Python:\n",
    "\n",
    "1. SyntaxError: \n",
    ">Raised when there is a syntax error in the code.\n",
    "    \n",
    "2. IndentationError:\n",
    ">Raised when there is an incorrect indentation in the code.\n",
    "    \n",
    "3. NameError: \n",
    ">Raised when a local or global name is not found.\n",
    "    \n",
    "4. TypeError: \n",
    ">Raised when an operation or function is applied to an object of an inappropriate type.\n",
    "    \n",
    "5. ValueError: \n",
    ">Raised when a function receives an argument of the correct type but an inappropriate value.\n",
    "    \n",
    "6. IndexError: \n",
    ">Raised when a sequence subscript is out of range.\n",
    "    \n",
    "7. KeyError: \n",
    ">Raised when a dictionary key is not found.\n",
    "    \n",
    "8. FileNotFoundError: \n",
    ">Raised when a file or directory is requested but cannot be found.\n",
    "    \n",
    "9. IOError: \n",
    ">Raised when an input/output operation fails.\n",
    "    \n",
    "10. ZeroDivisionError: \n",
    ">Raised when division or modulo operation is performed with zero as the divisor.\n",
    "    \n",
    "11. AssertionError: \n",
    ">Raised when an assert statement fails.\n",
    "    \n",
    "12. AttributeError: \n",
    ">Raised when an attribute reference or assignment fails.\n",
    "    \n",
    "13. ImportError: \n",
    ">Raised when an import statement fails to find the module or cannot load it.\n",
    "    \n",
    "14. OverflowError: \n",
    ">Raised when the result of an arithmetic operation is too large to be expressed.\n",
    "    \n",
    "15. RuntimeError: \n",
    ">Raised when an error does not fall under any specific built-in exception category.\n",
    "\n",
    "16. Exception: \n",
    ">The base class for all built-in exceptions.\n",
    "\n",
    "    These are just a few examples of the built-in exceptions available in Python. Each exception provides specific information about the error, allowing you to handle it appropriately in your code. Remember that you can also create custom exceptions by subclassing the Exception class or any of its subclasses, as shown in the previous example.\n",
    "\n",
    "\n",
    "\n",
    "\n",
    "\n"
   ]
  },
  {
   "cell_type": "markdown",
   "id": "fbf766dd",
   "metadata": {},
   "source": [
    "<b>-----------------------------------------------------------------------------------------------------------------------------------------------------------------------------------------------"
   ]
  },
  {
   "cell_type": "markdown",
   "id": "continued-obligation",
   "metadata": {},
   "source": [
    "<b>Number 5 - \n",
    "- Question -\n",
    "> What is logging in Python, and why is it important in software development?\n",
    "\n",
    "- Answer - \n",
    "\n",
    "Logging in Python refers to the process of recording events, messages, and information during the execution of a program. The logging module in Python provides a flexible and powerful framework for generating log messages in different levels of severity. It allows developers to track the flow of execution, debug issues, and gather valuable information about the behavior of their software.\n",
    "\n",
    "Logging is crucial in software development for several reasons:\n",
    "\n",
    "1. Debugging and Troubleshooting: \n",
    ">Logging helps in identifying and diagnosing issues in your code. By adding log messages at critical points in your program, you can track the execution flow, variable values, and error conditions. This information is invaluable when trying to understand and resolve bugs or unexpected behavior.\n",
    "\n",
    "2. Error Tracking and Analysis: \n",
    ">When errors occur in a production environment, logging enables you to collect detailed information about the error, including the stack trace, variables, and relevant context. This aids in analyzing the cause of the error and provides valuable insights for fixing it.\n",
    "\n",
    "3. Monitoring and Performance Analysis:\n",
    ">Logging can be used to track performance-related metrics, such as execution time, resource usage, or specific events within your code. By logging this information, you can monitor the performance of your application and identify potential bottlenecks or areas for optimization.\n",
    "\n",
    "4. Auditing and Compliance:\n",
    ">Logging is essential for auditing and compliance requirements. It allows you to record important events, user actions, or system operations, providing an audit trail for security purposes or regulatory compliance.\n",
    "\n",
    "5. Maintenance and Evolution:\n",
    ">Logging is not only helpful during the development phase but also crucial for maintaining and evolving your software. By reviewing logs from previous versions, you can gain insights into historical issues, identify patterns, and make informed decisions about future improvements or bug fixes.\n",
    "\n",
    "The Python logging module provides features like log levels, log handlers (to control where log messages are written), log formatting, and the ability to configure logging behavior dynamically. It allows you to tailor logging to suit your specific requirements, making it a valuable tool for software development and maintenance."
   ]
  },
  {
   "cell_type": "markdown",
   "id": "07d1d015",
   "metadata": {},
   "source": [
    "<b>-----------------------------------------------------------------------------------------------------------------------------------------------------------------------------------------------"
   ]
  },
  {
   "cell_type": "markdown",
   "id": "organized-novel",
   "metadata": {},
   "source": [
    "<b>Number 6 - \n",
    "- Question -\n",
    "> Explain the purpose of log levels in Python logging and provide examples of when each log level would be appropriate.\n",
    "\n",
    "- Answer - \n",
    ">Log levels in Python logging are used to categorize log messages based on their severity or importance. The logging module provides several built-in log levels that allow developers to control the verbosity and granularity of log messages. The purpose of log levels is to facilitate filtering and prioritization of log output based on the specific needs of the application or system.\n",
    "\n",
    "Here are the commonly used log levels in Python logging, in increasing order of severity:"
   ]
  },
  {
   "cell_type": "markdown",
   "id": "e8125ec7",
   "metadata": {},
   "source": [
    "1. DEBUG: \n",
    ">This level is used for detailed debugging information. It is typically used during development and is the most verbose log level. Debug messages are useful for tracking the flow of execution, examining variable values, and diagnosing issues.\n",
    "\n",
    "Example usage:"
   ]
  },
  {
   "cell_type": "code",
   "execution_count": 2,
   "id": "75dc23e1",
   "metadata": {},
   "outputs": [
    {
     "name": "stderr",
     "output_type": "stream",
     "text": [
      "DEBUG:root:This is a debug message.\n"
     ]
    }
   ],
   "source": [
    "import logging\n",
    "\n",
    "logging.basicConfig(level=logging.DEBUG)\n",
    "logging.debug(\"This is a debug message.\")\n"
   ]
  },
  {
   "cell_type": "markdown",
   "id": "47a476d0",
   "metadata": {},
   "source": [
    "2. INFO: \n",
    ">This level is used to provide information about the normal functioning of the application. It is generally used to indicate important milestones or significant events that occur during the program's execution.\n",
    "\n",
    "Example usage:"
   ]
  },
  {
   "cell_type": "code",
   "execution_count": 3,
   "id": "b1441921",
   "metadata": {},
   "outputs": [
    {
     "name": "stderr",
     "output_type": "stream",
     "text": [
      "INFO:root:This is an informational message.\n"
     ]
    }
   ],
   "source": [
    "import logging\n",
    "\n",
    "logging.basicConfig(level=logging.INFO)\n",
    "logging.info(\"This is an informational message.\")\n"
   ]
  },
  {
   "cell_type": "markdown",
   "id": "65e2e1d3",
   "metadata": {},
   "source": [
    "3. WARNING: This level is used to indicate potential issues or situations that could lead to errors or unexpected behavior. Warnings are used to highlight abnormal conditions that don't necessarily cause immediate failures but should be addressed.\n",
    "\n",
    "Example usage:"
   ]
  },
  {
   "cell_type": "code",
   "execution_count": 4,
   "id": "5218817d",
   "metadata": {},
   "outputs": [
    {
     "name": "stderr",
     "output_type": "stream",
     "text": [
      "WARNING:root:This is a warning message.\n"
     ]
    }
   ],
   "source": [
    "import logging\n",
    "\n",
    "logging.basicConfig(level=logging.WARNING)\n",
    "logging.warning(\"This is a warning message.\")\n"
   ]
  },
  {
   "cell_type": "markdown",
   "id": "37fa9cba",
   "metadata": {},
   "source": [
    "4. ERROR: \n",
    ">This level is used to report errors that occur during the execution of the program. These errors are typically recoverable, but they might require attention to prevent more severe consequences.\n",
    "\n",
    "Example usage:"
   ]
  },
  {
   "cell_type": "code",
   "execution_count": 5,
   "id": "6b2027fc",
   "metadata": {},
   "outputs": [
    {
     "name": "stderr",
     "output_type": "stream",
     "text": [
      "ERROR:root:This is an error message.\n"
     ]
    }
   ],
   "source": [
    "import logging\n",
    "\n",
    "logging.basicConfig(level=logging.ERROR)\n",
    "logging.error(\"This is an error message.\")\n"
   ]
  },
  {
   "cell_type": "markdown",
   "id": "2fd8a488",
   "metadata": {},
   "source": [
    "5. CRITICAL:  \n",
    ">This level is used to indicate critical errors or failures that may result in the termination of the program or severe consequences. Critical messages often require immediate attention.\n",
    "\n",
    "Example usage:"
   ]
  },
  {
   "cell_type": "code",
   "execution_count": null,
   "id": "a202b224",
   "metadata": {},
   "outputs": [],
   "source": [
    "import logging\n",
    "\n",
    "logging.basicConfig(level=logging.CRITICAL)\n",
    "logging.critical(\"This is a critical message.\")\n"
   ]
  },
  {
   "cell_type": "markdown",
   "id": "d5750997",
   "metadata": {},
   "source": [
    "<b>-----------------------------------------------------------------------------------------------------------------------------------------------------------------------------------------------"
   ]
  },
  {
   "cell_type": "markdown",
   "id": "hourly-lancaster",
   "metadata": {},
   "source": [
    "<b>Number 7 - \n",
    "- Question -\n",
    "> What are log formatters in Python logging, and how can you customise the log\n",
    "message format using formatters?\n",
    "    \n",
    "- Answer - \n",
    ">Log formatters in Python logging are used to define the structure and content of log messages. They determine how the log records are formatted before being outputted to the chosen log handlers (e.g., console, file, network, etc.). Log formatters allow developers to customize the appearance and information included in log messages according to their specific requirements.\n",
    "\n",
    "The logging module provides a built-in Formatter class that can be used to create and configure log formatters. By default, log messages are formatted with a basic format that includes the log level, logger name, and the actual log message. However, you can customize the log message format by creating an instance of the Formatter class and specifying the desired format string.\n",
    "    \n",
    "Here's an example that demonstrates how to customize the log message format using a formatter:"
   ]
  },
  {
   "cell_type": "code",
   "execution_count": null,
   "id": "4a12e122",
   "metadata": {},
   "outputs": [],
   "source": [
    "import logging\n",
    "\n",
    "# Create a formatter instance\n",
    "formatter = logging.Formatter('%(asctime)s - %(levelname)s - %(message)s')\n",
    "\n",
    "# Create a logger\n",
    "logger = logging.getLogger('my_logger')\n",
    "logger.setLevel(logging.DEBUG)\n",
    "\n",
    "# Create a log handler and set the formatter\n",
    "handler = logging.StreamHandler()\n",
    "handler.setFormatter(formatter)\n",
    "\n",
    "# Add the handler to the logger\n",
    "logger.addHandler(handler)\n",
    "\n",
    "# Log messages\n",
    "logger.debug('This is a debug message.')\n",
    "logger.info('This is an info message.')\n",
    "logger.warning('This is a warning message.')\n"
   ]
  },
  {
   "cell_type": "markdown",
   "id": "c7c9ac20",
   "metadata": {},
   "source": [
    "<b>-----------------------------------------------------------------------------------------------------------------------------------------------------------------------------------------------"
   ]
  },
  {
   "cell_type": "markdown",
   "id": "polyphonic-cartridge",
   "metadata": {},
   "source": [
    "<b>Number 8 - \n",
    "- Question -\n",
    "> How can you set up logging to capture log messages from multiple modules or\n",
    "classes in a Python application?\n",
    "- Answer- \n",
    ">To capture log messages from multiple modules or classes in a Python application, you can set up a centralized logger and configure it to handle logs from different parts of your application. This can be achieved by following these steps: "
   ]
  },
  {
   "cell_type": "markdown",
   "id": "4e9e879b",
   "metadata": {
    "scrolled": true
   },
   "source": [
    "1. Create a Centralized Logger: \n",
    ">Create a logger object that will serve as the central point for logging in your application. You can use the logging.getLogger() function to create a logger with a specific name or use the root logger if you prefer."
   ]
  },
  {
   "cell_type": "code",
   "execution_count": 13,
   "id": "cea98cce",
   "metadata": {},
   "outputs": [],
   "source": [
    "import logging\n",
    "\n",
    "logger = logging.getLogger('my_app_logger')"
   ]
  },
  {
   "cell_type": "markdown",
   "id": "9bae212f",
   "metadata": {},
   "source": [
    "2. Set the Log Level: \n",
    ">Set the desired log level for the logger. This determines the minimum severity level of log messages that will be captured. You can use the setLevel() method to set the log level."
   ]
  },
  {
   "cell_type": "code",
   "execution_count": 14,
   "id": "40218a9d",
   "metadata": {},
   "outputs": [],
   "source": [
    "logger.setLevel(logging.DEBUG)  # Set the desired log level"
   ]
  },
  {
   "cell_type": "markdown",
   "id": "3e25bfed",
   "metadata": {},
   "source": [
    "3. Configure Log Handlers: \n",
    ">Configure one or more log handlers to specify where the log messages will be outputted. Handlers can be added to the logger using the addHandler() method. You can use various built-in handlers like StreamHandler, FileHandler, or custom handlers based on your requirements."
   ]
  },
  {
   "cell_type": "code",
   "execution_count": 15,
   "id": "a022ebe2",
   "metadata": {},
   "outputs": [],
   "source": [
    "console_handler = logging.StreamHandler()\n",
    "logger.addHandler(console_handler)"
   ]
  },
  {
   "cell_type": "markdown",
   "id": "1459e170",
   "metadata": {},
   "source": [
    "4. Format the Log Messages: \n",
    ">Create a log formatter to define the format of the log messages. This step is optional but allows you to customize the appearance and content of log records. You can use the Formatter class from the logging module to create a formatter object."
   ]
  },
  {
   "cell_type": "code",
   "execution_count": 16,
   "id": "fe77e556",
   "metadata": {},
   "outputs": [],
   "source": [
    "formatter = logging.Formatter('%(asctime)s - %(levelname)s - %(message)s')\n",
    "console_handler.setFormatter(formatter)"
   ]
  },
  {
   "cell_type": "markdown",
   "id": "d9b04581",
   "metadata": {},
   "source": [
    "5. Use the Logger in Modules or Classes:\n",
    ">In each module or class where you want to capture log messages, create a logger object with the same name as the centralized logger created earlier. This ensures that all log messages from different modules are captured by the centralized logger."
   ]
  },
  {
   "cell_type": "code",
   "execution_count": 17,
   "id": "f4f790bd",
   "metadata": {},
   "outputs": [],
   "source": [
    "import logging\n",
    "\n",
    "logger = logging.getLogger('my_app_logger.module1')"
   ]
  },
  {
   "cell_type": "markdown",
   "id": "7015f3ea",
   "metadata": {},
   "source": [
    "6. Log Messages: \n",
    ">Finally, use the logger objects created in different modules or classes to log messages at various log levels."
   ]
  },
  {
   "cell_type": "code",
   "execution_count": null,
   "id": "30c86bf2",
   "metadata": {},
   "outputs": [],
   "source": [
    "logger.debug('This is a debug message.')\n",
    "logger.info('This is an info message.')\n",
    "logger.warning('This is a warning message.')"
   ]
  },
  {
   "cell_type": "markdown",
   "id": "f50ea4ec",
   "metadata": {},
   "source": [
    "The log messages from different modules or classes will be captured by the centralized logger and processed according to the configured log level and handlers."
   ]
  },
  {
   "cell_type": "markdown",
   "id": "9553cf03",
   "metadata": {},
   "source": [
    "<b>-----------------------------------------------------------------------------------------------------------------------------------------------------------------------------------------------"
   ]
  },
  {
   "cell_type": "markdown",
   "id": "silent-judgment",
   "metadata": {},
   "source": [
    "<b>Number 9 - \n",
    "- Question -\n",
    "> What is the difference between the logging and print statements in Python? When\n",
    "should you use logging over print statements in a real-world application?\n",
    "\n",
    "- Answer -Here are the key differences between logging and print statements in Python:\n",
    "\n",
    "1. Logging provides flexible output destinations (e.g., console, files), while print statements output directly to the console.\n",
    "2. Logging allows different log levels (e.g., DEBUG, INFO) for controlling verbosity, while print statements provide basic visibility without granularity.\n",
    "3. Logging supports structured logging with additional contextual information, aiding analysis and troubleshooting.\n",
    "4. Logging is more efficient, optimized, and can be selectively enabled or disabled based on log levels, unlike print statements.\n",
    "5. Logging is preferred in real-world applications for production environments, debugging, maintenance, and scalability compared to print statements.\n",
    "    \n",
    ">Logging should be used over print statements in a real-world application for the following reasons:\n",
    "\n",
    "1. Control and Flexibility: \n",
    ">Logging allows you to direct log messages to various destinations, set different log levels, and control verbosity. It offers flexibility in managing and filtering log output.\n",
    "\n",
    "2. Debugging and Troubleshooting: \n",
    ">Logging provides structured log messages with additional contextual information, aiding in debugging and troubleshooting complex applications.\n",
    "\n",
    "3. Performance Optimization:\n",
    ">Logging is more efficient than print statements, and log levels can be selectively enabled or disabled, reducing runtime overhead and improving performance.\n",
    "\n",
    "4. Production Environment: \n",
    ">Logging is suitable for production environments as it allows proper separation of application logs from other system messages, making monitoring and management easier.\n",
    "\n",
    "5. Maintenance and Scalability: \n",
    ">Logging provides a standardized approach to log management, making it easier to maintain and adapt the logging infrastructure as the application evolves.\n",
    "    \n",
    "In summary, logging offers greater control, flexibility, and efficiency for logging purposes, making it the preferred choice over print statements in real-world applications."
   ]
  },
  {
   "cell_type": "markdown",
   "id": "c0e4cebc",
   "metadata": {},
   "source": [
    "<b>-----------------------------------------------------------------------------------------------------------------------------------------------------------------------------------------------"
   ]
  },
  {
   "cell_type": "markdown",
   "id": "spiritual-sister",
   "metadata": {},
   "source": [
    "<b>Number 10 - \n",
    "- Question -\n",
    ">  Write a Python program that logs a message to a file named \"app.log\" with the\n",
    "following requirements:\n",
    "    \n",
    "● The log message should be \"Hello, World!\"\n",
    "\n",
    "● The log level should be set to \"INFO.\"\n",
    "\n",
    "● The log file should append new log entries without overwriting previous ones.\n",
    "\n",
    "\n",
    "- Answer - \n",
    ">To achieve the requirements mentioned, you can use the logging module in Python and configure a FileHandler to log messages to the \"app.log\" file. Here's an example program that logs the message \"Hello, World!\" with an INFO log level to the file \"app.log\" while appending new log entries:"
   ]
  },
  {
   "cell_type": "code",
   "execution_count": 22,
   "id": "a1e06d55",
   "metadata": {},
   "outputs": [
    {
     "name": "stderr",
     "output_type": "stream",
     "text": [
      "INFO:root:Hello, World!\n"
     ]
    }
   ],
   "source": [
    "import logging\n",
    "\n",
    "# Configure the logger\n",
    "logging.basicConfig(level=logging.INFO, filename='app.log', filemode='a')\n",
    "\n",
    "# Log the message\n",
    "logging.info('Hello, World!')\n"
   ]
  },
  {
   "cell_type": "markdown",
   "id": "172d7896",
   "metadata": {},
   "source": [
    "Explanation:\n",
    "\n",
    "The logging.basicConfig() function is used to configure the logger. The level parameter is set to logging.INFO to ensure that only log messages at the INFO level and above are captured. The filename parameter is set to \"app.log\" to specify the log file's name. The filemode parameter is set to 'a', which stands for \"append,\" to ensure that new log entries are appended to the existing content of the log file.\n",
    "\n",
    "The logging.info() method is used to log the message \"Hello, World!\" with the INFO log level. This message will be appended to the \"app.log\" file without overwriting any previous log entries.\n",
    "\n",
    "When you run this program, it will create the \"app.log\" file (if it doesn't exist) and append the log message \"Hello, World!\" to it. Subsequent runs of the program will continue to append new log entries to the same file, preserving the previous log history."
   ]
  },
  {
   "cell_type": "markdown",
   "id": "e1f096f1",
   "metadata": {},
   "source": [
    "<b>-----------------------------------------------------------------------------------------------------------------------------------------------------------------------------------------------"
   ]
  },
  {
   "cell_type": "markdown",
   "id": "monetary-approach",
   "metadata": {},
   "source": [
    "<b>Number 11- \n",
    "- Question -\n",
    "> Write a recursive function to calculate the factorial of a given positive integer.\n",
    "\n",
    "- Answer -\n",
    ">To log an error message to both the console and a file named \"errors.log\" when an exception occurs during program execution, you can utilize the logging module in Python. Here's an example program that demonstrates this behavior:"
   ]
  },
  {
   "cell_type": "code",
   "execution_count": 24,
   "id": "e19bdd16",
   "metadata": {},
   "outputs": [
    {
     "name": "stderr",
     "output_type": "stream",
     "text": [
      "ERROR:root:Exception: ValueError - Timestamp: 2023-07-11 11:27:51.305937\n"
     ]
    }
   ],
   "source": [
    "import logging\n",
    "import datetime\n",
    "\n",
    "# Configure logging\n",
    "logging.basicConfig(\n",
    "    level=logging.ERROR,\n",
    "    format='%(asctime)s - %(levelname)s - %(message)s',\n",
    "    handlers=[\n",
    "        logging.FileHandler('errors.log'),\n",
    "        logging.StreamHandler()\n",
    "    ]\n",
    ")\n",
    "\n",
    "try:\n",
    "    # Code that may raise an exception\n",
    "    raise ValueError(\"An error occurred!\")\n",
    "except Exception as e:\n",
    "    # Log the exception\n",
    "    logging.error(f\"Exception: {type(e).__name__} - Timestamp: {datetime.datetime.now()}\")\n"
   ]
  },
  {
   "cell_type": "markdown",
   "id": "090553e8",
   "metadata": {},
   "source": [
    "<b>-----------------------------------------------------------------------------------------------------------------------------------------------------------------------------------------------"
   ]
  },
  {
   "cell_type": "code",
   "execution_count": null,
   "id": "c70189fe",
   "metadata": {},
   "outputs": [],
   "source": []
  }
 ],
 "metadata": {
  "kernelspec": {
   "display_name": "Python 3 (ipykernel)",
   "language": "python",
   "name": "python3"
  },
  "language_info": {
   "codemirror_mode": {
    "name": "ipython",
    "version": 3
   },
   "file_extension": ".py",
   "mimetype": "text/x-python",
   "name": "python",
   "nbconvert_exporter": "python",
   "pygments_lexer": "ipython3",
   "version": "3.11.4"
  },
  "toc": {
   "base_numbering": 1,
   "nav_menu": {},
   "number_sections": true,
   "sideBar": true,
   "skip_h1_title": false,
   "title_cell": "Table of Contents",
   "title_sidebar": "Contents",
   "toc_cell": false,
   "toc_position": {},
   "toc_section_display": true,
   "toc_window_display": false
  }
 },
 "nbformat": 4,
 "nbformat_minor": 5
}
