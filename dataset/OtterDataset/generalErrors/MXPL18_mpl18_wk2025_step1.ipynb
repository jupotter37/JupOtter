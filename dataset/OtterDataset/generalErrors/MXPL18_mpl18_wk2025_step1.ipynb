{
 "cells": [
  {
   "cell_type": "markdown",
   "metadata": {},
   "source": [
    "# Should I stay in U.S ? Let's anylisis the unemploy rate"
   ]
  },
  {
   "cell_type": "code",
   "execution_count": 1,
   "metadata": {},
   "outputs": [
    {
     "data": {
      "image/png": "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\n",
      "text/plain": [
<<<<<<< HEAD
       "<matplotlib.figure.Figure at 0x107c95940>"
=======
       "<matplotlib.figure.Figure at 0x369816bc88>"
>>>>>>> 956811d1e5789db86eb3e8297c0f0d46e2f7d2e0
      ]
     },
     "metadata": {},
     "output_type": "display_data"
    }
   ],
   "source": [
    "%matplotlib inline\n",
    "import pandas as pd\n",
    "import matplotlib.pyplot as plt\n",
    "import datetime\n",
    "\n",
    "unrate=pd.read_csv(\"unrate.csv\")\n",
    "unrate['DATE']=pd.to_datetime(unrate['DATE'])\n",
    "plt.plot(unrate['DATE'],unrate['UNRATE'])\n",
    "plt.xticks(rotation=90)\n",
    "plt.show()\n"
   ]
  },
  {
   "cell_type": "code",
   "execution_count": 4,
   "metadata": {},
   "outputs": [
    {
     "name": "stdout",
     "output_type": "stream",
     "text": [
      "UNRATE    3.781818\n",
      "dtype: float64\n"
     ]
    }
   ],
   "source": [
    "xxx = unrate.loc[0:12]\n",
    "print(xxx.mean())\n"
   ]
  },
  {
   "cell_type": "markdown",
   "metadata": {},
   "source": [
    "# 首先，请减少数据量，用当年的月平均值代替12个月的数据 \n",
    "   提示，可以利用pandas里的loc，tolist 方法\n",
    "   利用numpy里的mean()方法求每年12个月的平均值"
   ]
  },
  {
   "cell_type": "code",
   "execution_count": 6,
   "metadata": {
    "scrolled": false
   },
   "outputs": [
    {
     "name": "stdout",
     "output_type": "stream",
     "text": [
      "         DATE  UNRATE\n",
      "0  1948-01-01     3.4\n",
      "1  1948-02-01     3.8\n",
      "2  1948-03-01     4.0\n",
      "3  1948-04-01     3.9\n",
      "4  1948-05-01     3.5\n",
      "5  1948-06-01     3.6\n",
      "6  1948-07-01     3.6\n",
      "7  1948-08-01     3.9\n",
      "8  1948-09-01     3.8\n",
      "9  1948-10-01     3.7\n",
      "10 1948-11-01     3.8\n",
      "11 1948-12-01     4.0\n",
      "12 1949-01-01     4.3\n",
      "13 1949-02-01     4.7\n",
      "14 1949-03-01     5.0\n",
      "15 1949-04-01     5.3\n",
      "16 1949-05-01     6.1\n",
      "17 1949-06-01     6.2\n",
      "18 1949-07-01     6.7\n",
      "19 1949-08-01     6.8\n",
      "20 1949-09-01     6.6\n",
      "21 1949-10-01     7.9\n",
      "22 1949-11-01     6.4\n",
      "23 1949-12-01     6.6\n"
     ]
    }
   ],
   "source": [
    "import numpy\n",
    "\n",
    "print(unrate.head(24))\n"
   ]
  },
  {
   "cell_type": "code",
   "execution_count": 1,
   "metadata": {},
   "outputs": [
    {
     "ename": "ModuleNotFoundError",
     "evalue": "No module named 'numpy'",
     "output_type": "error",
     "traceback": [
      "\u001b[1;31m---------------------------------------------------------------------------\u001b[0m",
      "\u001b[1;31mModuleNotFoundError\u001b[0m                       Traceback (most recent call last)",
      "\u001b[1;32m<ipython-input-1-3003c761df5f>\u001b[0m in \u001b[0;36m<module>\u001b[1;34m()\u001b[0m\n\u001b[1;32m----> 1\u001b[1;33m \u001b[1;32mimport\u001b[0m \u001b[0mnumpy\u001b[0m \u001b[1;32mas\u001b[0m \u001b[0mnp\u001b[0m\u001b[1;33m\u001b[0m\u001b[0m\n\u001b[0m\u001b[0;32m      2\u001b[0m \u001b[0mthirteenth_row\u001b[0m \u001b[1;33m=\u001b[0m \u001b[0munrate_info\u001b[0m\u001b[1;33m.\u001b[0m\u001b[0mloc\u001b[0m\u001b[1;33m[\u001b[0m\u001b[1;36m12\u001b[0m\u001b[1;33m]\u001b[0m\u001b[1;33m\u001b[0m\u001b[0m\n\u001b[0;32m      3\u001b[0m \u001b[0mprint\u001b[0m\u001b[1;33m(\u001b[0m\u001b[0mthirteenth_row\u001b[0m\u001b[1;33m)\u001b[0m\u001b[1;33m\u001b[0m\u001b[0m\n\u001b[0;32m      4\u001b[0m \u001b[0mvector\u001b[0m \u001b[1;33m=\u001b[0m \u001b[0mnp\u001b[0m\u001b[1;33m.\u001b[0m\u001b[0marray\u001b[0m\u001b[1;33m(\u001b[0m\u001b[0mthirteenth_row\u001b[0m\u001b[1;33m)\u001b[0m\u001b[1;33m\u001b[0m\u001b[0m\n\u001b[0;32m      5\u001b[0m \u001b[0maverage_unrate\u001b[0m\u001b[1;33m=\u001b[0m\u001b[0mvector\u001b[0m\u001b[1;33m.\u001b[0m\u001b[0mmean\u001b[0m\u001b[1;33m(\u001b[0m\u001b[1;33m)\u001b[0m\u001b[1;33m\u001b[0m\u001b[0m\n",
      "\u001b[1;31mModuleNotFoundError\u001b[0m: No module named 'numpy'"
     ]
    }
   ],
   "source": [
    "import numpy as np\n",
    "thirteenth_row = unrate_info.loc[12]\n",
    "print(thirteenth_row)\n",
    "vector = np.array(thirteenth_row)\n",
    "average_unrate=vector.mean()\n",
    "print(average_unrate)\n"
   ]
  },
  {
   "cell_type": "code",
   "execution_count": 1,
   "metadata": {},
   "outputs": [
    {
     "ename": "NameError",
     "evalue": "name 'unrate_info' is not defined",
     "output_type": "error",
     "traceback": [
      "\u001b[1;31m---------------------------------------------------------------------------\u001b[0m",
      "\u001b[1;31mNameError\u001b[0m                                 Traceback (most recent call last)",
      "\u001b[1;32m<ipython-input-1-3003c761df5f>\u001b[0m in \u001b[0;36m<module>\u001b[1;34m()\u001b[0m\n\u001b[0;32m      1\u001b[0m \u001b[1;32mimport\u001b[0m \u001b[0mnumpy\u001b[0m \u001b[1;32mas\u001b[0m \u001b[0mnp\u001b[0m\u001b[1;33m\u001b[0m\u001b[0m\n\u001b[1;32m----> 2\u001b[1;33m \u001b[0mthirteenth_row\u001b[0m \u001b[1;33m=\u001b[0m \u001b[0munrate_info\u001b[0m\u001b[1;33m.\u001b[0m\u001b[0mloc\u001b[0m\u001b[1;33m[\u001b[0m\u001b[1;36m12\u001b[0m\u001b[1;33m]\u001b[0m\u001b[1;33m\u001b[0m\u001b[0m\n\u001b[0m\u001b[0;32m      3\u001b[0m \u001b[0mprint\u001b[0m\u001b[1;33m(\u001b[0m\u001b[0mthirteenth_row\u001b[0m\u001b[1;33m)\u001b[0m\u001b[1;33m\u001b[0m\u001b[0m\n\u001b[0;32m      4\u001b[0m \u001b[0mvector\u001b[0m \u001b[1;33m=\u001b[0m \u001b[0mnp\u001b[0m\u001b[1;33m.\u001b[0m\u001b[0marray\u001b[0m\u001b[1;33m(\u001b[0m\u001b[0mthirteenth_row\u001b[0m\u001b[1;33m)\u001b[0m\u001b[1;33m\u001b[0m\u001b[0m\n\u001b[0;32m      5\u001b[0m \u001b[0maverage_unrate\u001b[0m\u001b[1;33m=\u001b[0m\u001b[0mvector\u001b[0m\u001b[1;33m.\u001b[0m\u001b[0mmean\u001b[0m\u001b[1;33m(\u001b[0m\u001b[1;33m)\u001b[0m\u001b[1;33m\u001b[0m\u001b[0m\n",
      "\u001b[1;31mNameError\u001b[0m: name 'unrate_info' is not defined"
     ]
    }
   ],
   "source": [
    "import numpy as np\n",
    "thirteenth_row = unrate_info.loc[12]\n",
    "print(thirteenth_row)\n",
    "vector = np.array(thirteenth_row)\n",
    "average_unrate=vector.mean()\n",
    "print(average_unrate)"
   ]
  },
  {
   "cell_type": "code",
   "execution_count": 2,
   "metadata": {},
   "outputs": [
    {
     "ename": "NameError",
     "evalue": "name 'unrate' is not defined",
     "output_type": "error",
     "traceback": [
      "\u001b[1;31m---------------------------------------------------------------------------\u001b[0m",
      "\u001b[1;31mNameError\u001b[0m                                 Traceback (most recent call last)",
      "\u001b[1;32m<ipython-input-2-ec3bafc903d4>\u001b[0m in \u001b[0;36m<module>\u001b[1;34m()\u001b[0m\n\u001b[0;32m      1\u001b[0m \u001b[1;32mimport\u001b[0m \u001b[0mnumpy\u001b[0m \u001b[1;32mas\u001b[0m \u001b[0mnp\u001b[0m\u001b[1;33m\u001b[0m\u001b[0m\n\u001b[1;32m----> 2\u001b[1;33m \u001b[0mthirteenth_row\u001b[0m \u001b[1;33m=\u001b[0m \u001b[0munrate\u001b[0m\u001b[1;33m.\u001b[0m\u001b[0mloc\u001b[0m\u001b[1;33m[\u001b[0m\u001b[1;36m12\u001b[0m\u001b[1;33m]\u001b[0m\u001b[1;33m\u001b[0m\u001b[0m\n\u001b[0m\u001b[0;32m      3\u001b[0m \u001b[0mprint\u001b[0m\u001b[1;33m(\u001b[0m\u001b[0mthirteenth_row\u001b[0m\u001b[1;33m)\u001b[0m\u001b[1;33m\u001b[0m\u001b[0m\n\u001b[0;32m      4\u001b[0m \u001b[0mvector\u001b[0m \u001b[1;33m=\u001b[0m \u001b[0mnp\u001b[0m\u001b[1;33m.\u001b[0m\u001b[0marray\u001b[0m\u001b[1;33m(\u001b[0m\u001b[0mthirteenth_row\u001b[0m\u001b[1;33m)\u001b[0m\u001b[1;33m\u001b[0m\u001b[0m\n\u001b[0;32m      5\u001b[0m \u001b[0maverage_unrate\u001b[0m\u001b[1;33m=\u001b[0m\u001b[0mvector\u001b[0m\u001b[1;33m.\u001b[0m\u001b[0mmean\u001b[0m\u001b[1;33m(\u001b[0m\u001b[1;33m)\u001b[0m\u001b[1;33m\u001b[0m\u001b[0m\n",
      "\u001b[1;31mNameError\u001b[0m: name 'unrate' is not defined"
     ]
    }
   ],
   "source": [
    "import numpy as np\n",
    "thirteenth_row = unrate.loc[12]\n",
    "print(thirteenth_row)\n",
    "vector = np.array(thirteenth_row)\n",
    "average_unrate=vector.mean()\n",
    "print(average_unrate)\n"
   ]
  },
  {
   "cell_type": "code",
   "execution_count": 3,
   "metadata": {},
   "outputs": [
    {
     "ename": "NameError",
     "evalue": "name 'UNRATE' is not defined",
     "output_type": "error",
     "traceback": [
      "\u001b[1;31m---------------------------------------------------------------------------\u001b[0m",
      "\u001b[1;31mNameError\u001b[0m                                 Traceback (most recent call last)",
      "\u001b[1;32m<ipython-input-3-38ed1e9c6191>\u001b[0m in \u001b[0;36m<module>\u001b[1;34m()\u001b[0m\n\u001b[0;32m      1\u001b[0m \u001b[1;32mimport\u001b[0m \u001b[0mnumpy\u001b[0m \u001b[1;32mas\u001b[0m \u001b[0mnp\u001b[0m\u001b[1;33m\u001b[0m\u001b[0m\n\u001b[1;32m----> 2\u001b[1;33m \u001b[0mthirteenth_row\u001b[0m \u001b[1;33m=\u001b[0m \u001b[0mUNRATE\u001b[0m\u001b[1;33m.\u001b[0m\u001b[0mloc\u001b[0m\u001b[1;33m[\u001b[0m\u001b[1;36m12\u001b[0m\u001b[1;33m]\u001b[0m\u001b[1;33m\u001b[0m\u001b[0m\n\u001b[0m\u001b[0;32m      3\u001b[0m \u001b[0mprint\u001b[0m\u001b[1;33m(\u001b[0m\u001b[0mthirteenth_row\u001b[0m\u001b[1;33m)\u001b[0m\u001b[1;33m\u001b[0m\u001b[0m\n\u001b[0;32m      4\u001b[0m \u001b[0mvector\u001b[0m \u001b[1;33m=\u001b[0m \u001b[0mnp\u001b[0m\u001b[1;33m.\u001b[0m\u001b[0marray\u001b[0m\u001b[1;33m(\u001b[0m\u001b[0mthirteenth_row\u001b[0m\u001b[1;33m)\u001b[0m\u001b[1;33m\u001b[0m\u001b[0m\n\u001b[0;32m      5\u001b[0m \u001b[0maverage_unrate\u001b[0m\u001b[1;33m=\u001b[0m\u001b[0mvector\u001b[0m\u001b[1;33m.\u001b[0m\u001b[0mmean\u001b[0m\u001b[1;33m(\u001b[0m\u001b[1;33m)\u001b[0m\u001b[1;33m\u001b[0m\u001b[0m\n",
      "\u001b[1;31mNameError\u001b[0m: name 'UNRATE' is not defined"
     ]
    }
   ],
   "source": [
    "import numpy as np\n",
    "thirteenth_row = UNRATE.loc[12]\n",
    "print(thirteenth_row)\n",
    "vector = np.array(thirteenth_row)\n",
    "average_unrate=vector.mean()\n",
    "print(average_unrate)\n"
   ]
  },
  {
   "cell_type": "code",
   "execution_count": 4,
   "metadata": {},
   "outputs": [
    {
     "ename": "ModuleNotFoundError",
     "evalue": "No module named 'panda'",
     "output_type": "error",
     "traceback": [
      "\u001b[1;31m---------------------------------------------------------------------------\u001b[0m",
      "\u001b[1;31mModuleNotFoundError\u001b[0m                       Traceback (most recent call last)",
      "\u001b[1;32m<ipython-input-4-3b97362c6321>\u001b[0m in \u001b[0;36m<module>\u001b[1;34m()\u001b[0m\n\u001b[1;32m----> 1\u001b[1;33m \u001b[1;32mimport\u001b[0m \u001b[0mpanda\u001b[0m \u001b[1;32mas\u001b[0m \u001b[0mpd\u001b[0m\u001b[1;33m\u001b[0m\u001b[0m\n\u001b[0m\u001b[0;32m      2\u001b[0m \u001b[0mUNRATE\u001b[0m\u001b[1;33m=\u001b[0m\u001b[0mpd\u001b[0m\u001b[1;33m.\u001b[0m\u001b[0mread_csv\u001b[0m\u001b[1;33m(\u001b[0m\u001b[1;34m'unrate.csv'\u001b[0m\u001b[1;33m)\u001b[0m\u001b[1;33m\u001b[0m\u001b[0m\n\u001b[0;32m      3\u001b[0m \u001b[1;32mimport\u001b[0m \u001b[0mnumpy\u001b[0m \u001b[1;32mas\u001b[0m \u001b[0mnp\u001b[0m\u001b[1;33m\u001b[0m\u001b[0m\n\u001b[0;32m      4\u001b[0m \u001b[0mthirteenth_row\u001b[0m \u001b[1;33m=\u001b[0m \u001b[0munrate_info\u001b[0m\u001b[1;33m.\u001b[0m\u001b[0mloc\u001b[0m\u001b[1;33m[\u001b[0m\u001b[1;36m12\u001b[0m\u001b[1;33m]\u001b[0m\u001b[1;33m\u001b[0m\u001b[0m\n\u001b[0;32m      5\u001b[0m \u001b[0mprint\u001b[0m\u001b[1;33m(\u001b[0m\u001b[0mthirteenth_row\u001b[0m\u001b[1;33m)\u001b[0m\u001b[1;33m\u001b[0m\u001b[0m\n",
      "\u001b[1;31mModuleNotFoundError\u001b[0m: No module named 'panda'"
     ]
    }
   ],
   "source": [
    "import panda as pd\n",
    "UNRATE=pd.read_csv('unrate.csv')\n",
    "import numpy as np\n",
    "thirteenth_row = unrate_info.loc[12]\n",
    "print(thirteenth_row)\n",
    "vector = np.array(thirteenth_row)\n",
    "average_unrate=vector.mean()\n",
    "print(average_unrate)\n"
   ]
  },
  {
   "cell_type": "code",
   "execution_count": 5,
   "metadata": {},
   "outputs": [
    {
     "ename": "ModuleNotFoundError",
     "evalue": "No module named 'panda'",
     "output_type": "error",
     "traceback": [
      "\u001b[1;31m---------------------------------------------------------------------------\u001b[0m",
      "\u001b[1;31mModuleNotFoundError\u001b[0m                       Traceback (most recent call last)",
      "\u001b[1;32m<ipython-input-5-ee42e50f2b64>\u001b[0m in \u001b[0;36m<module>\u001b[1;34m()\u001b[0m\n\u001b[0;32m      1\u001b[0m \u001b[1;32mimport\u001b[0m \u001b[0mnumpy\u001b[0m \u001b[1;32mas\u001b[0m \u001b[0mnp\u001b[0m\u001b[1;33m\u001b[0m\u001b[0m\n\u001b[1;32m----> 2\u001b[1;33m \u001b[1;32mimport\u001b[0m \u001b[0mpanda\u001b[0m \u001b[1;32mas\u001b[0m \u001b[0mpd\u001b[0m\u001b[1;33m\u001b[0m\u001b[0m\n\u001b[0m\u001b[0;32m      3\u001b[0m \u001b[0mUNRATE\u001b[0m\u001b[1;33m=\u001b[0m\u001b[0mpd\u001b[0m\u001b[1;33m.\u001b[0m\u001b[0mread_csv\u001b[0m\u001b[1;33m(\u001b[0m\u001b[1;34m'unrate.csv'\u001b[0m\u001b[1;33m)\u001b[0m\u001b[1;33m\u001b[0m\u001b[0m\n\u001b[0;32m      4\u001b[0m \u001b[0mthirteenth_row\u001b[0m \u001b[1;33m=\u001b[0m \u001b[0munrate_info\u001b[0m\u001b[1;33m.\u001b[0m\u001b[0mloc\u001b[0m\u001b[1;33m[\u001b[0m\u001b[1;36m12\u001b[0m\u001b[1;33m]\u001b[0m\u001b[1;33m\u001b[0m\u001b[0m\n\u001b[0;32m      5\u001b[0m \u001b[0mprint\u001b[0m\u001b[1;33m(\u001b[0m\u001b[0mthirteenth_row\u001b[0m\u001b[1;33m)\u001b[0m\u001b[1;33m\u001b[0m\u001b[0m\n",
      "\u001b[1;31mModuleNotFoundError\u001b[0m: No module named 'panda'"
     ]
    }
   ],
   "source": [
    "import numpy as np\n",
    "import panda as pd\n",
    "UNRATE=pd.read_csv('unrate.csv')\n",
    "thirteenth_row = unrate_info.loc[12]\n",
    "print(thirteenth_row)\n",
    "vector = np.array(thirteenth_row)\n",
    "average_unrate=vector.mean()\n",
    "print(average_unrate)\n"
   ]
  },
  {
   "cell_type": "code",
   "execution_count": 1,
   "metadata": {},
   "outputs": [
    {
     "ename": "ModuleNotFoundError",
     "evalue": "No module named 'panda'",
     "output_type": "error",
     "traceback": [
      "\u001b[1;31m---------------------------------------------------------------------------\u001b[0m",
      "\u001b[1;31mModuleNotFoundError\u001b[0m                       Traceback (most recent call last)",
      "\u001b[1;32m<ipython-input-1-3b97362c6321>\u001b[0m in \u001b[0;36m<module>\u001b[1;34m()\u001b[0m\n\u001b[1;32m----> 1\u001b[1;33m \u001b[1;32mimport\u001b[0m \u001b[0mpanda\u001b[0m \u001b[1;32mas\u001b[0m \u001b[0mpd\u001b[0m\u001b[1;33m\u001b[0m\u001b[0m\n\u001b[0m\u001b[0;32m      2\u001b[0m \u001b[0mUNRATE\u001b[0m\u001b[1;33m=\u001b[0m\u001b[0mpd\u001b[0m\u001b[1;33m.\u001b[0m\u001b[0mread_csv\u001b[0m\u001b[1;33m(\u001b[0m\u001b[1;34m'unrate.csv'\u001b[0m\u001b[1;33m)\u001b[0m\u001b[1;33m\u001b[0m\u001b[0m\n\u001b[0;32m      3\u001b[0m \u001b[1;32mimport\u001b[0m \u001b[0mnumpy\u001b[0m \u001b[1;32mas\u001b[0m \u001b[0mnp\u001b[0m\u001b[1;33m\u001b[0m\u001b[0m\n\u001b[0;32m      4\u001b[0m \u001b[0mthirteenth_row\u001b[0m \u001b[1;33m=\u001b[0m \u001b[0munrate_info\u001b[0m\u001b[1;33m.\u001b[0m\u001b[0mloc\u001b[0m\u001b[1;33m[\u001b[0m\u001b[1;36m12\u001b[0m\u001b[1;33m]\u001b[0m\u001b[1;33m\u001b[0m\u001b[0m\n\u001b[0;32m      5\u001b[0m \u001b[0mprint\u001b[0m\u001b[1;33m(\u001b[0m\u001b[0mthirteenth_row\u001b[0m\u001b[1;33m)\u001b[0m\u001b[1;33m\u001b[0m\u001b[0m\n",
      "\u001b[1;31mModuleNotFoundError\u001b[0m: No module named 'panda'"
     ]
    }
   ],
   "source": [
    "import panda as pd\n",
    "UNRATE=pd.read_csv('unrate.csv')\n",
    "import numpy as np\n",
    "thirteenth_row = unrate_info.loc[12]\n",
    "print(thirteenth_row)\n",
    "vector = np.array(thirteenth_row)\n",
    "average_unrate=vector.mean()\n",
    "print(average_unrate)"
   ]
  },
  {
   "cell_type": "code",
   "execution_count": 2,
   "metadata": {},
   "outputs": [
    {
     "ename": "NameError",
     "evalue": "name 'unrate_info' is not defined",
     "output_type": "error",
     "traceback": [
      "\u001b[1;31m---------------------------------------------------------------------------\u001b[0m",
      "\u001b[1;31mNameError\u001b[0m                                 Traceback (most recent call last)",
      "\u001b[1;32m<ipython-input-2-6e74ed5e5eb4>\u001b[0m in \u001b[0;36m<module>\u001b[1;34m()\u001b[0m\n\u001b[0;32m      2\u001b[0m \u001b[0mUNRATE\u001b[0m\u001b[1;33m=\u001b[0m\u001b[0mpd\u001b[0m\u001b[1;33m.\u001b[0m\u001b[0mread_csv\u001b[0m\u001b[1;33m(\u001b[0m\u001b[1;34m'unrate.csv'\u001b[0m\u001b[1;33m)\u001b[0m\u001b[1;33m\u001b[0m\u001b[0m\n\u001b[0;32m      3\u001b[0m \u001b[1;32mimport\u001b[0m \u001b[0mnumpy\u001b[0m \u001b[1;32mas\u001b[0m \u001b[0mnp\u001b[0m\u001b[1;33m\u001b[0m\u001b[0m\n\u001b[1;32m----> 4\u001b[1;33m \u001b[0mthirteenth_row\u001b[0m \u001b[1;33m=\u001b[0m \u001b[0munrate_info\u001b[0m\u001b[1;33m.\u001b[0m\u001b[0mloc\u001b[0m\u001b[1;33m[\u001b[0m\u001b[1;36m12\u001b[0m\u001b[1;33m]\u001b[0m\u001b[1;33m\u001b[0m\u001b[0m\n\u001b[0m\u001b[0;32m      5\u001b[0m \u001b[0mprint\u001b[0m\u001b[1;33m(\u001b[0m\u001b[0mthirteenth_row\u001b[0m\u001b[1;33m)\u001b[0m\u001b[1;33m\u001b[0m\u001b[0m\n\u001b[0;32m      6\u001b[0m \u001b[0mvector\u001b[0m \u001b[1;33m=\u001b[0m \u001b[0mnp\u001b[0m\u001b[1;33m.\u001b[0m\u001b[0marray\u001b[0m\u001b[1;33m(\u001b[0m\u001b[0mthirteenth_row\u001b[0m\u001b[1;33m)\u001b[0m\u001b[1;33m\u001b[0m\u001b[0m\n",
      "\u001b[1;31mNameError\u001b[0m: name 'unrate_info' is not defined"
     ]
    }
   ],
   "source": [
    "import pandas as pd\n",
    "UNRATE=pd.read_csv('unrate.csv')\n",
    "import numpy as np\n",
    "thirteenth_row = unrate_info.loc[12]\n",
    "print(thirteenth_row)\n",
    "vector = np.array(thirteenth_row)\n",
    "average_unrate=vector.mean()\n",
    "print(average_unrate)"
   ]
  },
  {
   "cell_type": "code",
   "execution_count": 3,
   "metadata": {},
   "outputs": [
    {
     "ename": "ModuleNotFoundError",
     "evalue": "No module named 'panda'",
     "output_type": "error",
     "traceback": [
      "\u001b[1;31m---------------------------------------------------------------------------\u001b[0m",
      "\u001b[1;31mModuleNotFoundError\u001b[0m                       Traceback (most recent call last)",
      "\u001b[1;32m<ipython-input-3-ca9f544fd5d1>\u001b[0m in \u001b[0;36m<module>\u001b[1;34m()\u001b[0m\n\u001b[1;32m----> 1\u001b[1;33m \u001b[1;32mimport\u001b[0m \u001b[0mpanda\u001b[0m \u001b[1;32mas\u001b[0m \u001b[0mpd\u001b[0m\u001b[1;33m\u001b[0m\u001b[0m\n\u001b[0m\u001b[0;32m      2\u001b[0m \u001b[0mUNRATE\u001b[0m\u001b[1;33m=\u001b[0m\u001b[0mpd\u001b[0m\u001b[1;33m.\u001b[0m\u001b[0mread_csv\u001b[0m\u001b[1;33m(\u001b[0m\u001b[1;34m'unrate.csv'\u001b[0m\u001b[1;33m)\u001b[0m\u001b[1;33m\u001b[0m\u001b[0m\n\u001b[0;32m      3\u001b[0m \u001b[1;32mimport\u001b[0m \u001b[0mnumpy\u001b[0m \u001b[1;32mas\u001b[0m \u001b[0mnp\u001b[0m\u001b[1;33m\u001b[0m\u001b[0m\n\u001b[0;32m      4\u001b[0m \u001b[0mthirteenth_row\u001b[0m \u001b[1;33m=\u001b[0m \u001b[0munrate\u001b[0m\u001b[1;33m.\u001b[0m\u001b[0mloc\u001b[0m\u001b[1;33m[\u001b[0m\u001b[1;36m12\u001b[0m\u001b[1;33m]\u001b[0m\u001b[1;33m\u001b[0m\u001b[0m\n\u001b[0;32m      5\u001b[0m \u001b[0mprint\u001b[0m\u001b[1;33m(\u001b[0m\u001b[0mthirteenth_row\u001b[0m\u001b[1;33m)\u001b[0m\u001b[1;33m\u001b[0m\u001b[0m\n",
      "\u001b[1;31mModuleNotFoundError\u001b[0m: No module named 'panda'"
     ]
    }
   ],
   "source": [
    "import panda as pd\n",
    "UNRATE=pd.read_csv('unrate.csv')\n",
    "import numpy as np\n",
    "thirteenth_row = unrate.loc[12]\n",
    "print(thirteenth_row)\n",
    "vector = np.array(thirteenth_row)\n",
    "average_unrate=vector.mean()\n",
    "print(average_unrate)"
   ]
  },
  {
   "cell_type": "code",
   "execution_count": 4,
   "metadata": {},
   "outputs": [
    {
     "ename": "NameError",
     "evalue": "name 'unrate' is not defined",
     "output_type": "error",
     "traceback": [
      "\u001b[1;31m---------------------------------------------------------------------------\u001b[0m",
      "\u001b[1;31mNameError\u001b[0m                                 Traceback (most recent call last)",
      "\u001b[1;32m<ipython-input-4-0855549298d8>\u001b[0m in \u001b[0;36m<module>\u001b[1;34m()\u001b[0m\n\u001b[0;32m      2\u001b[0m \u001b[0mUNRATE\u001b[0m\u001b[1;33m=\u001b[0m\u001b[0mpd\u001b[0m\u001b[1;33m.\u001b[0m\u001b[0mread_csv\u001b[0m\u001b[1;33m(\u001b[0m\u001b[1;34m'unrate.csv'\u001b[0m\u001b[1;33m)\u001b[0m\u001b[1;33m\u001b[0m\u001b[0m\n\u001b[0;32m      3\u001b[0m \u001b[1;32mimport\u001b[0m \u001b[0mnumpy\u001b[0m \u001b[1;32mas\u001b[0m \u001b[0mnp\u001b[0m\u001b[1;33m\u001b[0m\u001b[0m\n\u001b[1;32m----> 4\u001b[1;33m \u001b[0mthirteenth_row\u001b[0m \u001b[1;33m=\u001b[0m \u001b[0munrate\u001b[0m\u001b[1;33m.\u001b[0m\u001b[0mloc\u001b[0m\u001b[1;33m[\u001b[0m\u001b[1;36m12\u001b[0m\u001b[1;33m]\u001b[0m\u001b[1;33m\u001b[0m\u001b[0m\n\u001b[0m\u001b[0;32m      5\u001b[0m \u001b[0mprint\u001b[0m\u001b[1;33m(\u001b[0m\u001b[0mthirteenth_row\u001b[0m\u001b[1;33m)\u001b[0m\u001b[1;33m\u001b[0m\u001b[0m\n\u001b[0;32m      6\u001b[0m \u001b[0mvector\u001b[0m \u001b[1;33m=\u001b[0m \u001b[0mnp\u001b[0m\u001b[1;33m.\u001b[0m\u001b[0marray\u001b[0m\u001b[1;33m(\u001b[0m\u001b[0mthirteenth_row\u001b[0m\u001b[1;33m)\u001b[0m\u001b[1;33m\u001b[0m\u001b[0m\n",
      "\u001b[1;31mNameError\u001b[0m: name 'unrate' is not defined"
<<<<<<< HEAD
>>>>>>> 0303047a6ef2043cb9ee1fd476a3cd41ff67752a
=======
>>>>>>> 47b6aa7c9197c02d5c4f0a2113cf902efa0a3af6
     ]
    }
   ],
   "source": [
<<<<<<< HEAD
    "import pandas as pd\n",
    "UNRATE=pd.read_csv('unrate.csv')\n",
    "import numpy as np\n",
    "thirteenth_row = unrate.loc[12]\n",
    "print(thirteenth_row)\n",
    "vector = np.array(thirteenth_row)\n",
    "average_unrate=vector.mean()\n",
    "print(average_unrate)"
>>>>>>> 0303047a6ef2043cb9ee1fd476a3cd41ff67752a
=======
    "a=unrate[:,1]\n",
    "print(a)"
>>>>>>> 47b6aa7c9197c02d5c4f0a2113cf902efa0a3af6
   ]
  },
  {
   "cell_type": "code",
   "execution_count": 5,
   "metadata": {},
<<<<<<< HEAD
   "outputs": [
    {
     "name": "stdout",
     "output_type": "stream",
     "text": [
      "DATE      1949/1/1\n",
      "UNRATE         4.3\n",
      "Name: 12, dtype: object\n"
     ]
    },
    {
     "ename": "TypeError",
     "evalue": "must be str, not numpy.float64",
     "output_type": "error",
     "traceback": [
      "\u001b[1;31m---------------------------------------------------------------------------\u001b[0m",
      "\u001b[1;31mTypeError\u001b[0m                                 Traceback (most recent call last)",
      "\u001b[1;32m<ipython-input-5-acfaa70c45dc>\u001b[0m in \u001b[0;36m<module>\u001b[1;34m()\u001b[0m\n\u001b[0;32m      5\u001b[0m \u001b[0mprint\u001b[0m\u001b[1;33m(\u001b[0m\u001b[0mthirteenth_row\u001b[0m\u001b[1;33m)\u001b[0m\u001b[1;33m\u001b[0m\u001b[0m\n\u001b[0;32m      6\u001b[0m \u001b[0mvector\u001b[0m \u001b[1;33m=\u001b[0m \u001b[0mnp\u001b[0m\u001b[1;33m.\u001b[0m\u001b[0marray\u001b[0m\u001b[1;33m(\u001b[0m\u001b[0mthirteenth_row\u001b[0m\u001b[1;33m)\u001b[0m\u001b[1;33m\u001b[0m\u001b[0m\n\u001b[1;32m----> 7\u001b[1;33m \u001b[0maverage_unrate\u001b[0m\u001b[1;33m=\u001b[0m\u001b[0mvector\u001b[0m\u001b[1;33m.\u001b[0m\u001b[0mmean\u001b[0m\u001b[1;33m(\u001b[0m\u001b[1;33m)\u001b[0m\u001b[1;33m\u001b[0m\u001b[0m\n\u001b[0m\u001b[0;32m      8\u001b[0m \u001b[0mprint\u001b[0m\u001b[1;33m(\u001b[0m\u001b[0maverage_unrate\u001b[0m\u001b[1;33m)\u001b[0m\u001b[1;33m\u001b[0m\u001b[0m\n",
      "\u001b[1;32mc:\\ryker\\python36\\lib\\site-packages\\numpy\\core\\_methods.py\u001b[0m in \u001b[0;36m_mean\u001b[1;34m(a, axis, dtype, out, keepdims)\u001b[0m\n\u001b[0;32m     68\u001b[0m             \u001b[0mis_float16_result\u001b[0m \u001b[1;33m=\u001b[0m \u001b[1;32mTrue\u001b[0m\u001b[1;33m\u001b[0m\u001b[0m\n\u001b[0;32m     69\u001b[0m \u001b[1;33m\u001b[0m\u001b[0m\n\u001b[1;32m---> 70\u001b[1;33m     \u001b[0mret\u001b[0m \u001b[1;33m=\u001b[0m \u001b[0mumr_sum\u001b[0m\u001b[1;33m(\u001b[0m\u001b[0marr\u001b[0m\u001b[1;33m,\u001b[0m \u001b[0maxis\u001b[0m\u001b[1;33m,\u001b[0m \u001b[0mdtype\u001b[0m\u001b[1;33m,\u001b[0m \u001b[0mout\u001b[0m\u001b[1;33m,\u001b[0m \u001b[0mkeepdims\u001b[0m\u001b[1;33m)\u001b[0m\u001b[1;33m\u001b[0m\u001b[0m\n\u001b[0m\u001b[0;32m     71\u001b[0m     \u001b[1;32mif\u001b[0m \u001b[0misinstance\u001b[0m\u001b[1;33m(\u001b[0m\u001b[0mret\u001b[0m\u001b[1;33m,\u001b[0m \u001b[0mmu\u001b[0m\u001b[1;33m.\u001b[0m\u001b[0mndarray\u001b[0m\u001b[1;33m)\u001b[0m\u001b[1;33m:\u001b[0m\u001b[1;33m\u001b[0m\u001b[0m\n\u001b[0;32m     72\u001b[0m         ret = um.true_divide(\n",
      "\u001b[1;31mTypeError\u001b[0m: must be str, not numpy.float64"
     ]
    }
   ],
   "source": [
    "import pandas as pd\n",
    "UNRATE=pd.read_csv('unrate.csv')\n",
    "import numpy as np\n",
    "thirteenth_row = UNRATE.loc[12]\n",
    "print(thirteenth_row)\n",
    "vector = np.array(thirteenth_row)\n",
    "average_unrate=vector.mean()\n",
    "print(average_unrate)"
   ]
  },
  {
   "cell_type": "code",
   "execution_count": 6,
   "metadata": {},
   "outputs": [
    {
     "ename": "SyntaxError",
     "evalue": "invalid syntax (<ipython-input-6-09439fe68b37>, line 1)",
     "output_type": "error",
     "traceback": [
      "\u001b[1;36m  File \u001b[1;32m\"<ipython-input-6-09439fe68b37>\"\u001b[1;36m, line \u001b[1;32m1\u001b[0m\n\u001b[1;33m    =pd.read_csv('unrate.csv')\u001b[0m\n\u001b[1;37m    ^\u001b[0m\n\u001b[1;31mSyntaxError\u001b[0m\u001b[1;31m:\u001b[0m invalid syntax\n"
     ]
    }
   ],
   "source": [
    "=pd.read_csv('unrate.csv')\n",
    "import numpy as np\n",
    "thirteenth_row = UNRATE.loc[12]\n",
    "print(thirteenth_row)\n",
    "vector = np.array(thirteenth_row)\n",
    "average_unrate=vector.mean()\n",
    "print(average_unrate)"
   ]
  },
  {
   "cell_type": "code",
   "execution_count": 7,
=======
   "outputs": [],
   "source": []
  },
  {
   "cell_type": "code",
   "execution_count": null,
>>>>>>> 47b6aa7c9197c02d5c4f0a2113cf902efa0a3af6
   "metadata": {},
   "outputs": [
    {
     "name": "stdout",
     "output_type": "stream",
     "text": [
      "DATE      1949/1/1\n",
      "UNRATE         4.3\n",
      "Name: 12, dtype: object\n"
     ]
    },
    {
     "ename": "TypeError",
     "evalue": "must be str, not numpy.float64",
     "output_type": "error",
     "traceback": [
      "\u001b[1;31m---------------------------------------------------------------------------\u001b[0m",
      "\u001b[1;31mTypeError\u001b[0m                                 Traceback (most recent call last)",
      "\u001b[1;32m<ipython-input-7-1c83ade0172f>\u001b[0m in \u001b[0;36m<module>\u001b[1;34m()\u001b[0m\n\u001b[0;32m      5\u001b[0m \u001b[0mprint\u001b[0m\u001b[1;33m(\u001b[0m\u001b[0mthirteenth_row\u001b[0m\u001b[1;33m)\u001b[0m\u001b[1;33m\u001b[0m\u001b[0m\n\u001b[0;32m      6\u001b[0m \u001b[0mvector\u001b[0m \u001b[1;33m=\u001b[0m \u001b[0mnp\u001b[0m\u001b[1;33m.\u001b[0m\u001b[0marray\u001b[0m\u001b[1;33m(\u001b[0m\u001b[0mthirteenth_row\u001b[0m\u001b[1;33m)\u001b[0m\u001b[1;33m\u001b[0m\u001b[0m\n\u001b[1;32m----> 7\u001b[1;33m \u001b[0maverage_unrate\u001b[0m\u001b[1;33m=\u001b[0m\u001b[0mvector\u001b[0m\u001b[1;33m.\u001b[0m\u001b[0mmean\u001b[0m\u001b[1;33m(\u001b[0m\u001b[1;33m)\u001b[0m\u001b[1;33m\u001b[0m\u001b[0m\n\u001b[0m\u001b[0;32m      8\u001b[0m \u001b[0mprint\u001b[0m\u001b[1;33m(\u001b[0m\u001b[0maverage_unrate\u001b[0m\u001b[1;33m)\u001b[0m\u001b[1;33m\u001b[0m\u001b[0m\n",
      "\u001b[1;32mc:\\ryker\\python36\\lib\\site-packages\\numpy\\core\\_methods.py\u001b[0m in \u001b[0;36m_mean\u001b[1;34m(a, axis, dtype, out, keepdims)\u001b[0m\n\u001b[0;32m     68\u001b[0m             \u001b[0mis_float16_result\u001b[0m \u001b[1;33m=\u001b[0m \u001b[1;32mTrue\u001b[0m\u001b[1;33m\u001b[0m\u001b[0m\n\u001b[0;32m     69\u001b[0m \u001b[1;33m\u001b[0m\u001b[0m\n\u001b[1;32m---> 70\u001b[1;33m     \u001b[0mret\u001b[0m \u001b[1;33m=\u001b[0m \u001b[0mumr_sum\u001b[0m\u001b[1;33m(\u001b[0m\u001b[0marr\u001b[0m\u001b[1;33m,\u001b[0m \u001b[0maxis\u001b[0m\u001b[1;33m,\u001b[0m \u001b[0mdtype\u001b[0m\u001b[1;33m,\u001b[0m \u001b[0mout\u001b[0m\u001b[1;33m,\u001b[0m \u001b[0mkeepdims\u001b[0m\u001b[1;33m)\u001b[0m\u001b[1;33m\u001b[0m\u001b[0m\n\u001b[0m\u001b[0;32m     71\u001b[0m     \u001b[1;32mif\u001b[0m \u001b[0misinstance\u001b[0m\u001b[1;33m(\u001b[0m\u001b[0mret\u001b[0m\u001b[1;33m,\u001b[0m \u001b[0mmu\u001b[0m\u001b[1;33m.\u001b[0m\u001b[0mndarray\u001b[0m\u001b[1;33m)\u001b[0m\u001b[1;33m:\u001b[0m\u001b[1;33m\u001b[0m\u001b[0m\n\u001b[0;32m     72\u001b[0m         ret = um.true_divide(\n",
      "\u001b[1;31mTypeError\u001b[0m: must be str, not numpy.float64"
     ]
    }
   ],
   "source": [
    "import pandas as pd\n",
    "unrate=pd.read_csv('unrate.csv')\n",
    "import numpy as np\n",
    "thirteenth_row = unrate.loc[12]\n",
    "print(thirteenth_row)\n",
    "vector = np.array(thirteenth_row)\n",
    "average_unrate=vector.mean()\n",
    "print(average_unrate)"
   ]
  },
  {
   "cell_type": "code",
   "execution_count": 8,
   "source": []
  },
  {
   "cell_type": "code",
   "execution_count": 7,
>>>>>>> 0303047a6ef2043cb9ee1fd476a3cd41ff67752a
   "metadata": {},
   "outputs": [
    {
     "name": "stdout",
     "output_type": "stream",
     "text": [
      "DATE      1949/1/1\n",
      "UNRATE         4.3\n",
      "Name: 12, dtype: object\n",
      "4.3\n"
     ]
    }
   ],
   "source": [
    "import pandas as pd\n",
    "unrate=pd.read_csv('unrate.csv')\n",
    "import numpy as np\n",
    "thirteenth_row = unrate.loc[12]\n",
    "print(thirteenth_row)\n",
    "vector = np.array(thirteenth_row['UNRATE'])\n",
    "average_unrate=vector.mean()\n",
    "print(average_unrate)"
   ]
  },
  {
   "cell_type": "code",
   "execution_count": 9,
   "metadata": {},
   "outputs": [
    {
     "name": "stdout",
     "output_type": "stream",
     "text": [
      "DATE      1948/12/1\n",
      "UNRATE            4\n",
      "Name: 11, dtype: object\n",
      "4.0\n"
     ]
    }
   ],
   "source": [
    "import pandas as pd\n",
    "unrate=pd.read_csv('unrate.csv')\n",
    "import numpy as np\n",
    "thirteenth_row = unrate.loc[11]\n",
    "print(thirteenth_row)\n",
    "vector = np.array(thirteenth_row['UNRATE'])\n",
    "average_unrate=vector.mean()\n",
    "print(average_unrate)"
   ]
  },
  {
   "cell_type": "code",
   "execution_count": 10,
   "metadata": {},
   "outputs": [
    {
     "name": "stdout",
     "output_type": "stream",
     "text": [
      "DATE      1949/1/1\n",
      "UNRATE         4.3\n",
      "Name: 12, dtype: object\n",
      "4.3\n"
     ]
    }
   ],
   "source": [
    "import pandas as pd\n",
    "unrate=pd.read_csv('unrate.csv')\n",
    "import numpy as np\n",
    "thirteenth_row = unrate.loc[12]\n",
    "print(thirteenth_row)\n",
    "vector = np.array(thirteenth_row['UNRATE'])\n",
    "average_unrate=vector.mean()\n",
    "print(average_unrate)"
   ]
  },
  {
   "cell_type": "code",
   "execution_count": 11,
   "metadata": {},
   "outputs": [
    {
     "ename": "TypeError",
     "evalue": "cannot do label indexing on <class 'pandas.core.indexes.base.Index'> with these indexers [12] of <class 'int'>",
     "output_type": "error",
     "traceback": [
      "\u001b[1;31m---------------------------------------------------------------------------\u001b[0m",
      "\u001b[1;31mTypeError\u001b[0m                                 Traceback (most recent call last)",
      "\u001b[1;32m<ipython-input-11-9d4bbebbb927>\u001b[0m in \u001b[0;36m<module>\u001b[1;34m()\u001b[0m\n\u001b[0;32m      2\u001b[0m \u001b[0munrate\u001b[0m\u001b[1;33m=\u001b[0m\u001b[0mpd\u001b[0m\u001b[1;33m.\u001b[0m\u001b[0mread_csv\u001b[0m\u001b[1;33m(\u001b[0m\u001b[1;34m'unrate.csv'\u001b[0m\u001b[1;33m)\u001b[0m\u001b[1;33m\u001b[0m\u001b[0m\n\u001b[0;32m      3\u001b[0m \u001b[1;32mimport\u001b[0m \u001b[0mnumpy\u001b[0m \u001b[1;32mas\u001b[0m \u001b[0mnp\u001b[0m\u001b[1;33m\u001b[0m\u001b[0m\n\u001b[1;32m----> 4\u001b[1;33m \u001b[0mthirteenth_row\u001b[0m \u001b[1;33m=\u001b[0m \u001b[0munrate\u001b[0m\u001b[1;33m.\u001b[0m\u001b[0mloc\u001b[0m\u001b[1;33m[\u001b[0m\u001b[1;36m0\u001b[0m\u001b[1;33m,\u001b[0m\u001b[1;36m12\u001b[0m\u001b[1;33m]\u001b[0m\u001b[1;33m\u001b[0m\u001b[0m\n\u001b[0m\u001b[0;32m      5\u001b[0m \u001b[0mprint\u001b[0m\u001b[1;33m(\u001b[0m\u001b[0mthirteenth_row\u001b[0m\u001b[1;33m)\u001b[0m\u001b[1;33m\u001b[0m\u001b[0m\n\u001b[0;32m      6\u001b[0m \u001b[0mvector\u001b[0m \u001b[1;33m=\u001b[0m \u001b[0mnp\u001b[0m\u001b[1;33m.\u001b[0m\u001b[0marray\u001b[0m\u001b[1;33m(\u001b[0m\u001b[0mthirteenth_row\u001b[0m\u001b[1;33m[\u001b[0m\u001b[1;34m'UNRATE'\u001b[0m\u001b[1;33m]\u001b[0m\u001b[1;33m)\u001b[0m\u001b[1;33m\u001b[0m\u001b[0m\n",
      "\u001b[1;32mc:\\ryker\\python36\\lib\\site-packages\\pandas\\core\\indexing.py\u001b[0m in \u001b[0;36m__getitem__\u001b[1;34m(self, key)\u001b[0m\n\u001b[0;32m   1365\u001b[0m             \u001b[1;32mexcept\u001b[0m \u001b[1;33m(\u001b[0m\u001b[0mKeyError\u001b[0m\u001b[1;33m,\u001b[0m \u001b[0mIndexError\u001b[0m\u001b[1;33m)\u001b[0m\u001b[1;33m:\u001b[0m\u001b[1;33m\u001b[0m\u001b[0m\n\u001b[0;32m   1366\u001b[0m                 \u001b[1;32mpass\u001b[0m\u001b[1;33m\u001b[0m\u001b[0m\n\u001b[1;32m-> 1367\u001b[1;33m             \u001b[1;32mreturn\u001b[0m \u001b[0mself\u001b[0m\u001b[1;33m.\u001b[0m\u001b[0m_getitem_tuple\u001b[0m\u001b[1;33m(\u001b[0m\u001b[0mkey\u001b[0m\u001b[1;33m)\u001b[0m\u001b[1;33m\u001b[0m\u001b[0m\n\u001b[0m\u001b[0;32m   1368\u001b[0m         \u001b[1;32melse\u001b[0m\u001b[1;33m:\u001b[0m\u001b[1;33m\u001b[0m\u001b[0m\n\u001b[0;32m   1369\u001b[0m             \u001b[1;31m# we by definition only have the 0th axis\u001b[0m\u001b[1;33m\u001b[0m\u001b[1;33m\u001b[0m\u001b[0m\n",
      "\u001b[1;32mc:\\ryker\\python36\\lib\\site-packages\\pandas\\core\\indexing.py\u001b[0m in \u001b[0;36m_getitem_tuple\u001b[1;34m(self, tup)\u001b[0m\n\u001b[0;32m    856\u001b[0m     \u001b[1;32mdef\u001b[0m \u001b[0m_getitem_tuple\u001b[0m\u001b[1;33m(\u001b[0m\u001b[0mself\u001b[0m\u001b[1;33m,\u001b[0m \u001b[0mtup\u001b[0m\u001b[1;33m)\u001b[0m\u001b[1;33m:\u001b[0m\u001b[1;33m\u001b[0m\u001b[0m\n\u001b[0;32m    857\u001b[0m         \u001b[1;32mtry\u001b[0m\u001b[1;33m:\u001b[0m\u001b[1;33m\u001b[0m\u001b[0m\n\u001b[1;32m--> 858\u001b[1;33m             \u001b[1;32mreturn\u001b[0m \u001b[0mself\u001b[0m\u001b[1;33m.\u001b[0m\u001b[0m_getitem_lowerdim\u001b[0m\u001b[1;33m(\u001b[0m\u001b[0mtup\u001b[0m\u001b[1;33m)\u001b[0m\u001b[1;33m\u001b[0m\u001b[0m\n\u001b[0m\u001b[0;32m    859\u001b[0m         \u001b[1;32mexcept\u001b[0m \u001b[0mIndexingError\u001b[0m\u001b[1;33m:\u001b[0m\u001b[1;33m\u001b[0m\u001b[0m\n\u001b[0;32m    860\u001b[0m             \u001b[1;32mpass\u001b[0m\u001b[1;33m\u001b[0m\u001b[0m\n",
      "\u001b[1;32mc:\\ryker\\python36\\lib\\site-packages\\pandas\\core\\indexing.py\u001b[0m in \u001b[0;36m_getitem_lowerdim\u001b[1;34m(self, tup)\u001b[0m\n\u001b[0;32m   1018\u001b[0m                     \u001b[1;32mreturn\u001b[0m \u001b[0msection\u001b[0m\u001b[1;33m\u001b[0m\u001b[0m\n\u001b[0;32m   1019\u001b[0m                 \u001b[1;31m# This is an elided recursive call to iloc/loc/etc'\u001b[0m\u001b[1;33m\u001b[0m\u001b[1;33m\u001b[0m\u001b[0m\n\u001b[1;32m-> 1020\u001b[1;33m                 \u001b[1;32mreturn\u001b[0m \u001b[0mgetattr\u001b[0m\u001b[1;33m(\u001b[0m\u001b[0msection\u001b[0m\u001b[1;33m,\u001b[0m \u001b[0mself\u001b[0m\u001b[1;33m.\u001b[0m\u001b[0mname\u001b[0m\u001b[1;33m)\u001b[0m\u001b[1;33m[\u001b[0m\u001b[0mnew_key\u001b[0m\u001b[1;33m]\u001b[0m\u001b[1;33m\u001b[0m\u001b[0m\n\u001b[0m\u001b[0;32m   1021\u001b[0m \u001b[1;33m\u001b[0m\u001b[0m\n\u001b[0;32m   1022\u001b[0m         \u001b[1;32mraise\u001b[0m \u001b[0mIndexingError\u001b[0m\u001b[1;33m(\u001b[0m\u001b[1;34m'not applicable'\u001b[0m\u001b[1;33m)\u001b[0m\u001b[1;33m\u001b[0m\u001b[0m\n",
      "\u001b[1;32mc:\\ryker\\python36\\lib\\site-packages\\pandas\\core\\indexing.py\u001b[0m in \u001b[0;36m__getitem__\u001b[1;34m(self, key)\u001b[0m\n\u001b[0;32m   1371\u001b[0m \u001b[1;33m\u001b[0m\u001b[0m\n\u001b[0;32m   1372\u001b[0m             \u001b[0mmaybe_callable\u001b[0m \u001b[1;33m=\u001b[0m \u001b[0mcom\u001b[0m\u001b[1;33m.\u001b[0m\u001b[0m_apply_if_callable\u001b[0m\u001b[1;33m(\u001b[0m\u001b[0mkey\u001b[0m\u001b[1;33m,\u001b[0m \u001b[0mself\u001b[0m\u001b[1;33m.\u001b[0m\u001b[0mobj\u001b[0m\u001b[1;33m)\u001b[0m\u001b[1;33m\u001b[0m\u001b[0m\n\u001b[1;32m-> 1373\u001b[1;33m             \u001b[1;32mreturn\u001b[0m \u001b[0mself\u001b[0m\u001b[1;33m.\u001b[0m\u001b[0m_getitem_axis\u001b[0m\u001b[1;33m(\u001b[0m\u001b[0mmaybe_callable\u001b[0m\u001b[1;33m,\u001b[0m \u001b[0maxis\u001b[0m\u001b[1;33m=\u001b[0m\u001b[0maxis\u001b[0m\u001b[1;33m)\u001b[0m\u001b[1;33m\u001b[0m\u001b[0m\n\u001b[0m\u001b[0;32m   1374\u001b[0m \u001b[1;33m\u001b[0m\u001b[0m\n\u001b[0;32m   1375\u001b[0m     \u001b[1;32mdef\u001b[0m \u001b[0m_is_scalar_access\u001b[0m\u001b[1;33m(\u001b[0m\u001b[0mself\u001b[0m\u001b[1;33m,\u001b[0m \u001b[0mkey\u001b[0m\u001b[1;33m)\u001b[0m\u001b[1;33m:\u001b[0m\u001b[1;33m\u001b[0m\u001b[0m\n",
      "\u001b[1;32mc:\\ryker\\python36\\lib\\site-packages\\pandas\\core\\indexing.py\u001b[0m in \u001b[0;36m_getitem_axis\u001b[1;34m(self, key, axis)\u001b[0m\n\u001b[0;32m   1624\u001b[0m \u001b[1;33m\u001b[0m\u001b[0m\n\u001b[0;32m   1625\u001b[0m         \u001b[1;31m# fall thru to straight lookup\u001b[0m\u001b[1;33m\u001b[0m\u001b[1;33m\u001b[0m\u001b[0m\n\u001b[1;32m-> 1626\u001b[1;33m         \u001b[0mself\u001b[0m\u001b[1;33m.\u001b[0m\u001b[0m_has_valid_type\u001b[0m\u001b[1;33m(\u001b[0m\u001b[0mkey\u001b[0m\u001b[1;33m,\u001b[0m \u001b[0maxis\u001b[0m\u001b[1;33m)\u001b[0m\u001b[1;33m\u001b[0m\u001b[0m\n\u001b[0m\u001b[0;32m   1627\u001b[0m         \u001b[1;32mreturn\u001b[0m \u001b[0mself\u001b[0m\u001b[1;33m.\u001b[0m\u001b[0m_get_label\u001b[0m\u001b[1;33m(\u001b[0m\u001b[0mkey\u001b[0m\u001b[1;33m,\u001b[0m \u001b[0maxis\u001b[0m\u001b[1;33m=\u001b[0m\u001b[0maxis\u001b[0m\u001b[1;33m)\u001b[0m\u001b[1;33m\u001b[0m\u001b[0m\n\u001b[0;32m   1628\u001b[0m \u001b[1;33m\u001b[0m\u001b[0m\n",
      "\u001b[1;32mc:\\ryker\\python36\\lib\\site-packages\\pandas\\core\\indexing.py\u001b[0m in \u001b[0;36m_has_valid_type\u001b[1;34m(self, key, axis)\u001b[0m\n\u001b[0;32m   1502\u001b[0m \u001b[1;33m\u001b[0m\u001b[0m\n\u001b[0;32m   1503\u001b[0m             \u001b[1;32mtry\u001b[0m\u001b[1;33m:\u001b[0m\u001b[1;33m\u001b[0m\u001b[0m\n\u001b[1;32m-> 1504\u001b[1;33m                 \u001b[0mkey\u001b[0m \u001b[1;33m=\u001b[0m \u001b[0mself\u001b[0m\u001b[1;33m.\u001b[0m\u001b[0m_convert_scalar_indexer\u001b[0m\u001b[1;33m(\u001b[0m\u001b[0mkey\u001b[0m\u001b[1;33m,\u001b[0m \u001b[0maxis\u001b[0m\u001b[1;33m)\u001b[0m\u001b[1;33m\u001b[0m\u001b[0m\n\u001b[0m\u001b[0;32m   1505\u001b[0m                 \u001b[1;32mif\u001b[0m \u001b[1;32mnot\u001b[0m \u001b[0max\u001b[0m\u001b[1;33m.\u001b[0m\u001b[0mcontains\u001b[0m\u001b[1;33m(\u001b[0m\u001b[0mkey\u001b[0m\u001b[1;33m)\u001b[0m\u001b[1;33m:\u001b[0m\u001b[1;33m\u001b[0m\u001b[0m\n\u001b[0;32m   1506\u001b[0m                     \u001b[0merror\u001b[0m\u001b[1;33m(\u001b[0m\u001b[1;33m)\u001b[0m\u001b[1;33m\u001b[0m\u001b[0m\n",
      "\u001b[1;32mc:\\ryker\\python36\\lib\\site-packages\\pandas\\core\\indexing.py\u001b[0m in \u001b[0;36m_convert_scalar_indexer\u001b[1;34m(self, key, axis)\u001b[0m\n\u001b[0;32m    254\u001b[0m         \u001b[0max\u001b[0m \u001b[1;33m=\u001b[0m \u001b[0mself\u001b[0m\u001b[1;33m.\u001b[0m\u001b[0mobj\u001b[0m\u001b[1;33m.\u001b[0m\u001b[0m_get_axis\u001b[0m\u001b[1;33m(\u001b[0m\u001b[0mmin\u001b[0m\u001b[1;33m(\u001b[0m\u001b[0maxis\u001b[0m\u001b[1;33m,\u001b[0m \u001b[0mself\u001b[0m\u001b[1;33m.\u001b[0m\u001b[0mndim\u001b[0m \u001b[1;33m-\u001b[0m \u001b[1;36m1\u001b[0m\u001b[1;33m)\u001b[0m\u001b[1;33m)\u001b[0m\u001b[1;33m\u001b[0m\u001b[0m\n\u001b[0;32m    255\u001b[0m         \u001b[1;31m# a scalar\u001b[0m\u001b[1;33m\u001b[0m\u001b[1;33m\u001b[0m\u001b[0m\n\u001b[1;32m--> 256\u001b[1;33m         \u001b[1;32mreturn\u001b[0m \u001b[0max\u001b[0m\u001b[1;33m.\u001b[0m\u001b[0m_convert_scalar_indexer\u001b[0m\u001b[1;33m(\u001b[0m\u001b[0mkey\u001b[0m\u001b[1;33m,\u001b[0m \u001b[0mkind\u001b[0m\u001b[1;33m=\u001b[0m\u001b[0mself\u001b[0m\u001b[1;33m.\u001b[0m\u001b[0mname\u001b[0m\u001b[1;33m)\u001b[0m\u001b[1;33m\u001b[0m\u001b[0m\n\u001b[0m\u001b[0;32m    257\u001b[0m \u001b[1;33m\u001b[0m\u001b[0m\n\u001b[0;32m    258\u001b[0m     \u001b[1;32mdef\u001b[0m \u001b[0m_convert_slice_indexer\u001b[0m\u001b[1;33m(\u001b[0m\u001b[0mself\u001b[0m\u001b[1;33m,\u001b[0m \u001b[0mkey\u001b[0m\u001b[1;33m,\u001b[0m \u001b[0maxis\u001b[0m\u001b[1;33m)\u001b[0m\u001b[1;33m:\u001b[0m\u001b[1;33m\u001b[0m\u001b[0m\n",
      "\u001b[1;32mc:\\ryker\\python36\\lib\\site-packages\\pandas\\core\\indexes\\base.py\u001b[0m in \u001b[0;36m_convert_scalar_indexer\u001b[1;34m(self, key, kind)\u001b[0m\n\u001b[0;32m   1390\u001b[0m             \u001b[1;32melif\u001b[0m \u001b[0mkind\u001b[0m \u001b[1;32min\u001b[0m \u001b[1;33m[\u001b[0m\u001b[1;34m'loc'\u001b[0m\u001b[1;33m]\u001b[0m \u001b[1;32mand\u001b[0m \u001b[0mis_integer\u001b[0m\u001b[1;33m(\u001b[0m\u001b[0mkey\u001b[0m\u001b[1;33m)\u001b[0m\u001b[1;33m:\u001b[0m\u001b[1;33m\u001b[0m\u001b[0m\n\u001b[0;32m   1391\u001b[0m                 \u001b[1;32mif\u001b[0m \u001b[1;32mnot\u001b[0m \u001b[0mself\u001b[0m\u001b[1;33m.\u001b[0m\u001b[0mholds_integer\u001b[0m\u001b[1;33m(\u001b[0m\u001b[1;33m)\u001b[0m\u001b[1;33m:\u001b[0m\u001b[1;33m\u001b[0m\u001b[0m\n\u001b[1;32m-> 1392\u001b[1;33m                     \u001b[1;32mreturn\u001b[0m \u001b[0mself\u001b[0m\u001b[1;33m.\u001b[0m\u001b[0m_invalid_indexer\u001b[0m\u001b[1;33m(\u001b[0m\u001b[1;34m'label'\u001b[0m\u001b[1;33m,\u001b[0m \u001b[0mkey\u001b[0m\u001b[1;33m)\u001b[0m\u001b[1;33m\u001b[0m\u001b[0m\n\u001b[0m\u001b[0;32m   1393\u001b[0m \u001b[1;33m\u001b[0m\u001b[0m\n\u001b[0;32m   1394\u001b[0m         \u001b[1;32mreturn\u001b[0m \u001b[0mkey\u001b[0m\u001b[1;33m\u001b[0m\u001b[0m\n",
      "\u001b[1;32mc:\\ryker\\python36\\lib\\site-packages\\pandas\\core\\indexes\\base.py\u001b[0m in \u001b[0;36m_invalid_indexer\u001b[1;34m(self, form, key)\u001b[0m\n\u001b[0;32m   1574\u001b[0m                         \"indexers [{key}] of {kind}\".format(\n\u001b[0;32m   1575\u001b[0m                             \u001b[0mform\u001b[0m\u001b[1;33m=\u001b[0m\u001b[0mform\u001b[0m\u001b[1;33m,\u001b[0m \u001b[0mklass\u001b[0m\u001b[1;33m=\u001b[0m\u001b[0mtype\u001b[0m\u001b[1;33m(\u001b[0m\u001b[0mself\u001b[0m\u001b[1;33m)\u001b[0m\u001b[1;33m,\u001b[0m \u001b[0mkey\u001b[0m\u001b[1;33m=\u001b[0m\u001b[0mkey\u001b[0m\u001b[1;33m,\u001b[0m\u001b[1;33m\u001b[0m\u001b[0m\n\u001b[1;32m-> 1576\u001b[1;33m                             kind=type(key)))\n\u001b[0m\u001b[0;32m   1577\u001b[0m \u001b[1;33m\u001b[0m\u001b[0m\n\u001b[0;32m   1578\u001b[0m     \u001b[1;32mdef\u001b[0m \u001b[0mget_duplicates\u001b[0m\u001b[1;33m(\u001b[0m\u001b[0mself\u001b[0m\u001b[1;33m)\u001b[0m\u001b[1;33m:\u001b[0m\u001b[1;33m\u001b[0m\u001b[0m\n",
      "\u001b[1;31mTypeError\u001b[0m: cannot do label indexing on <class 'pandas.core.indexes.base.Index'> with these indexers [12] of <class 'int'>"
     ]
    }
   ],
   "source": [
    "import pandas as pd\n",
    "unrate=pd.read_csv('unrate.csv')\n",
    "import numpy as np\n",
    "thirteenth_row = unrate.loc[0,12]\n",
    "print(thirteenth_row)\n",
    "vector = np.array(thirteenth_row['UNRATE'])\n",
    "average_unrate=vector.mean()\n",
    "print(average_unrate)"
   ]
  },
  {
   "cell_type": "code",
   "execution_count": 12,
   "metadata": {},
   "outputs": [
    {
     "ename": "TypeError",
     "evalue": "cannot do label indexing on <class 'pandas.core.indexes.base.Index'> with these indexers [12] of <class 'int'>",
     "output_type": "error",
     "traceback": [
      "\u001b[1;31m---------------------------------------------------------------------------\u001b[0m",
      "\u001b[1;31mTypeError\u001b[0m                                 Traceback (most recent call last)",
      "\u001b[1;32m<ipython-input-12-236790b2b051>\u001b[0m in \u001b[0;36m<module>\u001b[1;34m()\u001b[0m\n\u001b[0;32m      2\u001b[0m \u001b[0munrate\u001b[0m\u001b[1;33m=\u001b[0m\u001b[0mpd\u001b[0m\u001b[1;33m.\u001b[0m\u001b[0mread_csv\u001b[0m\u001b[1;33m(\u001b[0m\u001b[1;34m'unrate.csv'\u001b[0m\u001b[1;33m)\u001b[0m\u001b[1;33m\u001b[0m\u001b[0m\n\u001b[0;32m      3\u001b[0m \u001b[1;32mimport\u001b[0m \u001b[0mnumpy\u001b[0m \u001b[1;32mas\u001b[0m \u001b[0mnp\u001b[0m\u001b[1;33m\u001b[0m\u001b[0m\n\u001b[1;32m----> 4\u001b[1;33m \u001b[0mthirteenth_row\u001b[0m \u001b[1;33m=\u001b[0m \u001b[0munrate\u001b[0m\u001b[1;33m.\u001b[0m\u001b[0mloc\u001b[0m\u001b[1;33m[\u001b[0m\u001b[1;33m:\u001b[0m\u001b[1;33m,\u001b[0m\u001b[1;36m12\u001b[0m\u001b[1;33m]\u001b[0m\u001b[1;33m\u001b[0m\u001b[0m\n\u001b[0m\u001b[0;32m      5\u001b[0m \u001b[0mprint\u001b[0m\u001b[1;33m(\u001b[0m\u001b[0mthirteenth_row\u001b[0m\u001b[1;33m)\u001b[0m\u001b[1;33m\u001b[0m\u001b[0m\n\u001b[0;32m      6\u001b[0m \u001b[0mvector\u001b[0m \u001b[1;33m=\u001b[0m \u001b[0mnp\u001b[0m\u001b[1;33m.\u001b[0m\u001b[0marray\u001b[0m\u001b[1;33m(\u001b[0m\u001b[0mthirteenth_row\u001b[0m\u001b[1;33m[\u001b[0m\u001b[1;34m'UNRATE'\u001b[0m\u001b[1;33m]\u001b[0m\u001b[1;33m)\u001b[0m\u001b[1;33m\u001b[0m\u001b[0m\n",
      "\u001b[1;32mc:\\ryker\\python36\\lib\\site-packages\\pandas\\core\\indexing.py\u001b[0m in \u001b[0;36m__getitem__\u001b[1;34m(self, key)\u001b[0m\n\u001b[0;32m   1365\u001b[0m             \u001b[1;32mexcept\u001b[0m \u001b[1;33m(\u001b[0m\u001b[0mKeyError\u001b[0m\u001b[1;33m,\u001b[0m \u001b[0mIndexError\u001b[0m\u001b[1;33m)\u001b[0m\u001b[1;33m:\u001b[0m\u001b[1;33m\u001b[0m\u001b[0m\n\u001b[0;32m   1366\u001b[0m                 \u001b[1;32mpass\u001b[0m\u001b[1;33m\u001b[0m\u001b[0m\n\u001b[1;32m-> 1367\u001b[1;33m             \u001b[1;32mreturn\u001b[0m \u001b[0mself\u001b[0m\u001b[1;33m.\u001b[0m\u001b[0m_getitem_tuple\u001b[0m\u001b[1;33m(\u001b[0m\u001b[0mkey\u001b[0m\u001b[1;33m)\u001b[0m\u001b[1;33m\u001b[0m\u001b[0m\n\u001b[0m\u001b[0;32m   1368\u001b[0m         \u001b[1;32melse\u001b[0m\u001b[1;33m:\u001b[0m\u001b[1;33m\u001b[0m\u001b[0m\n\u001b[0;32m   1369\u001b[0m             \u001b[1;31m# we by definition only have the 0th axis\u001b[0m\u001b[1;33m\u001b[0m\u001b[1;33m\u001b[0m\u001b[0m\n",
      "\u001b[1;32mc:\\ryker\\python36\\lib\\site-packages\\pandas\\core\\indexing.py\u001b[0m in \u001b[0;36m_getitem_tuple\u001b[1;34m(self, tup)\u001b[0m\n\u001b[0;32m    856\u001b[0m     \u001b[1;32mdef\u001b[0m \u001b[0m_getitem_tuple\u001b[0m\u001b[1;33m(\u001b[0m\u001b[0mself\u001b[0m\u001b[1;33m,\u001b[0m \u001b[0mtup\u001b[0m\u001b[1;33m)\u001b[0m\u001b[1;33m:\u001b[0m\u001b[1;33m\u001b[0m\u001b[0m\n\u001b[0;32m    857\u001b[0m         \u001b[1;32mtry\u001b[0m\u001b[1;33m:\u001b[0m\u001b[1;33m\u001b[0m\u001b[0m\n\u001b[1;32m--> 858\u001b[1;33m             \u001b[1;32mreturn\u001b[0m \u001b[0mself\u001b[0m\u001b[1;33m.\u001b[0m\u001b[0m_getitem_lowerdim\u001b[0m\u001b[1;33m(\u001b[0m\u001b[0mtup\u001b[0m\u001b[1;33m)\u001b[0m\u001b[1;33m\u001b[0m\u001b[0m\n\u001b[0m\u001b[0;32m    859\u001b[0m         \u001b[1;32mexcept\u001b[0m \u001b[0mIndexingError\u001b[0m\u001b[1;33m:\u001b[0m\u001b[1;33m\u001b[0m\u001b[0m\n\u001b[0;32m    860\u001b[0m             \u001b[1;32mpass\u001b[0m\u001b[1;33m\u001b[0m\u001b[0m\n",
      "\u001b[1;32mc:\\ryker\\python36\\lib\\site-packages\\pandas\\core\\indexing.py\u001b[0m in \u001b[0;36m_getitem_lowerdim\u001b[1;34m(self, tup)\u001b[0m\n\u001b[0;32m    989\u001b[0m         \u001b[1;32mfor\u001b[0m \u001b[0mi\u001b[0m\u001b[1;33m,\u001b[0m \u001b[0mkey\u001b[0m \u001b[1;32min\u001b[0m \u001b[0menumerate\u001b[0m\u001b[1;33m(\u001b[0m\u001b[0mtup\u001b[0m\u001b[1;33m)\u001b[0m\u001b[1;33m:\u001b[0m\u001b[1;33m\u001b[0m\u001b[0m\n\u001b[0;32m    990\u001b[0m             \u001b[1;32mif\u001b[0m \u001b[0mis_label_like\u001b[0m\u001b[1;33m(\u001b[0m\u001b[0mkey\u001b[0m\u001b[1;33m)\u001b[0m \u001b[1;32mor\u001b[0m \u001b[0misinstance\u001b[0m\u001b[1;33m(\u001b[0m\u001b[0mkey\u001b[0m\u001b[1;33m,\u001b[0m \u001b[0mtuple\u001b[0m\u001b[1;33m)\u001b[0m\u001b[1;33m:\u001b[0m\u001b[1;33m\u001b[0m\u001b[0m\n\u001b[1;32m--> 991\u001b[1;33m                 \u001b[0msection\u001b[0m \u001b[1;33m=\u001b[0m \u001b[0mself\u001b[0m\u001b[1;33m.\u001b[0m\u001b[0m_getitem_axis\u001b[0m\u001b[1;33m(\u001b[0m\u001b[0mkey\u001b[0m\u001b[1;33m,\u001b[0m \u001b[0maxis\u001b[0m\u001b[1;33m=\u001b[0m\u001b[0mi\u001b[0m\u001b[1;33m)\u001b[0m\u001b[1;33m\u001b[0m\u001b[0m\n\u001b[0m\u001b[0;32m    992\u001b[0m \u001b[1;33m\u001b[0m\u001b[0m\n\u001b[0;32m    993\u001b[0m                 \u001b[1;31m# we have yielded a scalar ?\u001b[0m\u001b[1;33m\u001b[0m\u001b[1;33m\u001b[0m\u001b[0m\n",
      "\u001b[1;32mc:\\ryker\\python36\\lib\\site-packages\\pandas\\core\\indexing.py\u001b[0m in \u001b[0;36m_getitem_axis\u001b[1;34m(self, key, axis)\u001b[0m\n\u001b[0;32m   1624\u001b[0m \u001b[1;33m\u001b[0m\u001b[0m\n\u001b[0;32m   1625\u001b[0m         \u001b[1;31m# fall thru to straight lookup\u001b[0m\u001b[1;33m\u001b[0m\u001b[1;33m\u001b[0m\u001b[0m\n\u001b[1;32m-> 1626\u001b[1;33m         \u001b[0mself\u001b[0m\u001b[1;33m.\u001b[0m\u001b[0m_has_valid_type\u001b[0m\u001b[1;33m(\u001b[0m\u001b[0mkey\u001b[0m\u001b[1;33m,\u001b[0m \u001b[0maxis\u001b[0m\u001b[1;33m)\u001b[0m\u001b[1;33m\u001b[0m\u001b[0m\n\u001b[0m\u001b[0;32m   1627\u001b[0m         \u001b[1;32mreturn\u001b[0m \u001b[0mself\u001b[0m\u001b[1;33m.\u001b[0m\u001b[0m_get_label\u001b[0m\u001b[1;33m(\u001b[0m\u001b[0mkey\u001b[0m\u001b[1;33m,\u001b[0m \u001b[0maxis\u001b[0m\u001b[1;33m=\u001b[0m\u001b[0maxis\u001b[0m\u001b[1;33m)\u001b[0m\u001b[1;33m\u001b[0m\u001b[0m\n\u001b[0;32m   1628\u001b[0m \u001b[1;33m\u001b[0m\u001b[0m\n",
      "\u001b[1;32mc:\\ryker\\python36\\lib\\site-packages\\pandas\\core\\indexing.py\u001b[0m in \u001b[0;36m_has_valid_type\u001b[1;34m(self, key, axis)\u001b[0m\n\u001b[0;32m   1502\u001b[0m \u001b[1;33m\u001b[0m\u001b[0m\n\u001b[0;32m   1503\u001b[0m             \u001b[1;32mtry\u001b[0m\u001b[1;33m:\u001b[0m\u001b[1;33m\u001b[0m\u001b[0m\n\u001b[1;32m-> 1504\u001b[1;33m                 \u001b[0mkey\u001b[0m \u001b[1;33m=\u001b[0m \u001b[0mself\u001b[0m\u001b[1;33m.\u001b[0m\u001b[0m_convert_scalar_indexer\u001b[0m\u001b[1;33m(\u001b[0m\u001b[0mkey\u001b[0m\u001b[1;33m,\u001b[0m \u001b[0maxis\u001b[0m\u001b[1;33m)\u001b[0m\u001b[1;33m\u001b[0m\u001b[0m\n\u001b[0m\u001b[0;32m   1505\u001b[0m                 \u001b[1;32mif\u001b[0m \u001b[1;32mnot\u001b[0m \u001b[0max\u001b[0m\u001b[1;33m.\u001b[0m\u001b[0mcontains\u001b[0m\u001b[1;33m(\u001b[0m\u001b[0mkey\u001b[0m\u001b[1;33m)\u001b[0m\u001b[1;33m:\u001b[0m\u001b[1;33m\u001b[0m\u001b[0m\n\u001b[0;32m   1506\u001b[0m                     \u001b[0merror\u001b[0m\u001b[1;33m(\u001b[0m\u001b[1;33m)\u001b[0m\u001b[1;33m\u001b[0m\u001b[0m\n",
      "\u001b[1;32mc:\\ryker\\python36\\lib\\site-packages\\pandas\\core\\indexing.py\u001b[0m in \u001b[0;36m_convert_scalar_indexer\u001b[1;34m(self, key, axis)\u001b[0m\n\u001b[0;32m    254\u001b[0m         \u001b[0max\u001b[0m \u001b[1;33m=\u001b[0m \u001b[0mself\u001b[0m\u001b[1;33m.\u001b[0m\u001b[0mobj\u001b[0m\u001b[1;33m.\u001b[0m\u001b[0m_get_axis\u001b[0m\u001b[1;33m(\u001b[0m\u001b[0mmin\u001b[0m\u001b[1;33m(\u001b[0m\u001b[0maxis\u001b[0m\u001b[1;33m,\u001b[0m \u001b[0mself\u001b[0m\u001b[1;33m.\u001b[0m\u001b[0mndim\u001b[0m \u001b[1;33m-\u001b[0m \u001b[1;36m1\u001b[0m\u001b[1;33m)\u001b[0m\u001b[1;33m)\u001b[0m\u001b[1;33m\u001b[0m\u001b[0m\n\u001b[0;32m    255\u001b[0m         \u001b[1;31m# a scalar\u001b[0m\u001b[1;33m\u001b[0m\u001b[1;33m\u001b[0m\u001b[0m\n\u001b[1;32m--> 256\u001b[1;33m         \u001b[1;32mreturn\u001b[0m \u001b[0max\u001b[0m\u001b[1;33m.\u001b[0m\u001b[0m_convert_scalar_indexer\u001b[0m\u001b[1;33m(\u001b[0m\u001b[0mkey\u001b[0m\u001b[1;33m,\u001b[0m \u001b[0mkind\u001b[0m\u001b[1;33m=\u001b[0m\u001b[0mself\u001b[0m\u001b[1;33m.\u001b[0m\u001b[0mname\u001b[0m\u001b[1;33m)\u001b[0m\u001b[1;33m\u001b[0m\u001b[0m\n\u001b[0m\u001b[0;32m    257\u001b[0m \u001b[1;33m\u001b[0m\u001b[0m\n\u001b[0;32m    258\u001b[0m     \u001b[1;32mdef\u001b[0m \u001b[0m_convert_slice_indexer\u001b[0m\u001b[1;33m(\u001b[0m\u001b[0mself\u001b[0m\u001b[1;33m,\u001b[0m \u001b[0mkey\u001b[0m\u001b[1;33m,\u001b[0m \u001b[0maxis\u001b[0m\u001b[1;33m)\u001b[0m\u001b[1;33m:\u001b[0m\u001b[1;33m\u001b[0m\u001b[0m\n",
      "\u001b[1;32mc:\\ryker\\python36\\lib\\site-packages\\pandas\\core\\indexes\\base.py\u001b[0m in \u001b[0;36m_convert_scalar_indexer\u001b[1;34m(self, key, kind)\u001b[0m\n\u001b[0;32m   1390\u001b[0m             \u001b[1;32melif\u001b[0m \u001b[0mkind\u001b[0m \u001b[1;32min\u001b[0m \u001b[1;33m[\u001b[0m\u001b[1;34m'loc'\u001b[0m\u001b[1;33m]\u001b[0m \u001b[1;32mand\u001b[0m \u001b[0mis_integer\u001b[0m\u001b[1;33m(\u001b[0m\u001b[0mkey\u001b[0m\u001b[1;33m)\u001b[0m\u001b[1;33m:\u001b[0m\u001b[1;33m\u001b[0m\u001b[0m\n\u001b[0;32m   1391\u001b[0m                 \u001b[1;32mif\u001b[0m \u001b[1;32mnot\u001b[0m \u001b[0mself\u001b[0m\u001b[1;33m.\u001b[0m\u001b[0mholds_integer\u001b[0m\u001b[1;33m(\u001b[0m\u001b[1;33m)\u001b[0m\u001b[1;33m:\u001b[0m\u001b[1;33m\u001b[0m\u001b[0m\n\u001b[1;32m-> 1392\u001b[1;33m                     \u001b[1;32mreturn\u001b[0m \u001b[0mself\u001b[0m\u001b[1;33m.\u001b[0m\u001b[0m_invalid_indexer\u001b[0m\u001b[1;33m(\u001b[0m\u001b[1;34m'label'\u001b[0m\u001b[1;33m,\u001b[0m \u001b[0mkey\u001b[0m\u001b[1;33m)\u001b[0m\u001b[1;33m\u001b[0m\u001b[0m\n\u001b[0m\u001b[0;32m   1393\u001b[0m \u001b[1;33m\u001b[0m\u001b[0m\n\u001b[0;32m   1394\u001b[0m         \u001b[1;32mreturn\u001b[0m \u001b[0mkey\u001b[0m\u001b[1;33m\u001b[0m\u001b[0m\n",
      "\u001b[1;32mc:\\ryker\\python36\\lib\\site-packages\\pandas\\core\\indexes\\base.py\u001b[0m in \u001b[0;36m_invalid_indexer\u001b[1;34m(self, form, key)\u001b[0m\n\u001b[0;32m   1574\u001b[0m                         \"indexers [{key}] of {kind}\".format(\n\u001b[0;32m   1575\u001b[0m                             \u001b[0mform\u001b[0m\u001b[1;33m=\u001b[0m\u001b[0mform\u001b[0m\u001b[1;33m,\u001b[0m \u001b[0mklass\u001b[0m\u001b[1;33m=\u001b[0m\u001b[0mtype\u001b[0m\u001b[1;33m(\u001b[0m\u001b[0mself\u001b[0m\u001b[1;33m)\u001b[0m\u001b[1;33m,\u001b[0m \u001b[0mkey\u001b[0m\u001b[1;33m=\u001b[0m\u001b[0mkey\u001b[0m\u001b[1;33m,\u001b[0m\u001b[1;33m\u001b[0m\u001b[0m\n\u001b[1;32m-> 1576\u001b[1;33m                             kind=type(key)))\n\u001b[0m\u001b[0;32m   1577\u001b[0m \u001b[1;33m\u001b[0m\u001b[0m\n\u001b[0;32m   1578\u001b[0m     \u001b[1;32mdef\u001b[0m \u001b[0mget_duplicates\u001b[0m\u001b[1;33m(\u001b[0m\u001b[0mself\u001b[0m\u001b[1;33m)\u001b[0m\u001b[1;33m:\u001b[0m\u001b[1;33m\u001b[0m\u001b[0m\n",
      "\u001b[1;31mTypeError\u001b[0m: cannot do label indexing on <class 'pandas.core.indexes.base.Index'> with these indexers [12] of <class 'int'>"
     ]
    }
   ],
   "source": [
    "import pandas as pd\n",
    "unrate=pd.read_csv('unrate.csv')\n",
    "import numpy as np\n",
    "thirteenth_row = unrate.loc[:,12]\n",
    "print(thirteenth_row)\n",
    "vector = np.array(thirteenth_row['UNRATE'])\n",
    "average_unrate=vector.mean()\n",
    "print(average_unrate)"
   ]
  },
  {
   "cell_type": "code",
   "execution_count": 13,
   "metadata": {},
   "outputs": [
    {
     "name": "stdout",
     "output_type": "stream",
     "text": [
      "         DATE  UNRATE\n",
      "0    1948/1/1     3.4\n",
      "1    1948/2/1     3.8\n",
      "2    1948/3/1     4.0\n",
      "3    1948/4/1     3.9\n",
      "4    1948/5/1     3.5\n",
      "5    1948/6/1     3.6\n",
      "6    1948/7/1     3.6\n",
      "7    1948/8/1     3.9\n",
      "8    1948/9/1     3.8\n",
      "9   1948/10/1     3.7\n",
      "10  1948/11/1     3.8\n",
      "11  1948/12/1     4.0\n",
      "12   1949/1/1     4.3\n",
      "3.792307692307692\n"
     ]
    }
   ],
   "source": [
    "import pandas as pd\n",
    "unrate=pd.read_csv('unrate.csv')\n",
    "import numpy as np\n",
    "thirteenth_row = unrate.loc[0:12]\n",
    "print(thirteenth_row)\n",
    "vector = np.array(thirteenth_row['UNRATE'])\n",
    "average_unrate=vector.mean()\n",
    "print(average_unrate)"
   ]
  },
  {
   "cell_type": "code",
   "execution_count": 14,
   "metadata": {},
   "outputs": [
    {
     "name": "stdout",
     "output_type": "stream",
     "text": [
      "         DATE  UNRATE\n",
      "0    1948/1/1     3.4\n",
      "1    1948/2/1     3.8\n",
      "2    1948/3/1     4.0\n",
      "3    1948/4/1     3.9\n",
      "4    1948/5/1     3.5\n",
      "5    1948/6/1     3.6\n",
      "6    1948/7/1     3.6\n",
      "7    1948/8/1     3.9\n",
      "8    1948/9/1     3.8\n",
      "9   1948/10/1     3.7\n",
      "10  1948/11/1     3.8\n",
      "11  1948/12/1     4.0\n",
      "3.75\n"
     ]
    }
   ],
   "source": [
    "import pandas as pd\n",
    "unrate=pd.read_csv('unrate.csv')\n",
    "import numpy as np\n",
    "thirteenth_row = unrate.loc[0:11]\n",
    "print(thirteenth_row)\n",
    "vector = np.array(thirteenth_row['UNRATE'])\n",
    "average_unrate=vector.mean()\n",
    "print(average_unrate)"
   ]
  },
  {
   "cell_type": "code",
   "execution_count": 1,
   "metadata": {},
   "outputs": [
    {
     "name": "stdout",
     "output_type": "stream",
     "text": [
      "DATE      1949/1/1\n",
      "UNRATE         4.3\n",
      "Name: 12, dtype: object\n"
     ]
    }
   ],
   "source": [
    "import pandas as pd\n",
<<<<<<< HEAD
    "unrate=pd.read_csv('unrate.csv')\n",
    "import numpy as np\n",
    "thirteenth_row = unrate.loc[12]\n",
    "print(thirteenth_row)\n"
   ]
  },
  {
   "cell_type": "code",
   "execution_count": 2,
   "metadata": {},
   "outputs": [
    {
     "name": "stdout",
     "output_type": "stream",
     "text": [
      "         DATE  UNRATE\n",
      "0    1948/1/1     3.4\n",
      "1    1948/2/1     3.8\n",
      "2    1948/3/1     4.0\n",
      "3    1948/4/1     3.9\n",
      "4    1948/5/1     3.5\n",
      "5    1948/6/1     3.6\n",
      "6    1948/7/1     3.6\n",
      "7    1948/8/1     3.9\n",
      "8    1948/9/1     3.8\n",
      "9   1948/10/1     3.7\n",
      "10  1948/11/1     3.8\n",
      "11  1948/12/1     4.0\n",
      "12   1949/1/1     4.3\n"
     ]
    }
   ],
   "source": [
    "import pandas as pd\n",
    "unrate=pd.read_csv('unrate.csv')\n",
    "import numpy as np\n",
    "thirteenth_row = unrate.loc[0:12]\n",
    "print(thirteenth_row)\n",
    "\n"
   ]
>>>>>>> 956811d1e5789db86eb3e8297c0f0d46e2f7d2e0
>>>>>>> 0303047a6ef2043cb9ee1fd476a3cd41ff67752a
=======
    "unrate=pd.read_csv(\"unrate.csv\")\n",
    "a=unrate.loc[0:11]\n",
    "value=np.array(a[\"UNRATE\"])\n",
    "p=value.mean()\n",
    "print(p)\n",
    "\n"
   ]
<<<<<<< HEAD
=======
>>>>>>> 956811d1e5789db86eb3e8297c0f0d46e2f7d2e0
>>>>>>> 4e74a47657b138662e5b175e8454b20b94536b7c
>>>>>>> 47b6aa7c9197c02d5c4f0a2113cf902efa0a3af6
  },
  {
   "cell_type": "code",
   "execution_count": null,
   "metadata": {},
   "outputs": [],
   "source": []
  }
 ],
 "metadata": {
  "kernelspec": {
   "display_name": "Python 3",
   "language": "python",
   "name": "python3"
  },
  "language_info": {
   "codemirror_mode": {
    "name": "ipython",
    "version": 3
   },
   "file_extension": ".py",
   "mimetype": "text/x-python",
   "name": "python",
   "nbconvert_exporter": "python",
   "pygments_lexer": "ipython3",
   "version": "3.6.4"
  }
 },
 "nbformat": 4,
 "nbformat_minor": 2
}
