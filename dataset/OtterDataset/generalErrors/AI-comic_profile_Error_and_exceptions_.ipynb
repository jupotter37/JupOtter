{
  "nbformat": 4,
  "nbformat_minor": 0,
  "metadata": {
    "colab": {
      "provenance": [],
      "authorship_tag": "ABX9TyMX55BaRwvRYjSB0dgWWuvY",
      "include_colab_link": true
    },
    "kernelspec": {
      "name": "python3",
      "display_name": "Python 3"
    },
    "language_info": {
      "name": "python"
    }
  },
  "cells": [
    {
      "cell_type": "markdown",
      "metadata": {
        "id": "view-in-github",
        "colab_type": "text"
      },
      "source": [
        "<a href=\"https://colab.research.google.com/github/AI-comic/profile/blob/main/Error_and_exceptions_.ipynb\" target=\"_parent\"><img src=\"https://colab.research.google.com/assets/colab-badge.svg\" alt=\"Open In Colab\"/></a>"
      ]
    },
    {
      "cell_type": "markdown",
      "source": [
        "| 에러의 종류              | 에러의 원인                                       |\n",
        "|-------------------|---------------------------------------------------|\n",
        "| AssertionError   | assert 문이 실패했을 때 발생                      |\n",
        "| AttributeError   | 속성 할당 또는 참조가 실패했을 때 발생            |\n",
        "| EOFError         | input() 함수가 파일의 끝에 도달했을 때 발생       |\n",
        "| FloatingPointError | 부동 소수점 연산이 실패했을 때 발생             |\n",
        "| GeneratorExit    | 생성자의 close() 메서드가 호출되었을 때 발생      |\n",
        "| ImportError      | 가져온 모듈이 찾을 수 없을 때 발생                |\n",
        "| IndexError       | 시퀀스의 인덱스가 범위를 벗어났을 때 발생       |\n",
        "| KeyError         | 딕셔너리에서 키를 찾을 수 없을 때 발생          |\n",
        "| KeyboardInterrupt | 사용자가 인터럽트 키(Ctrl+C 또는 Delete)를 눌렀을 때 발생 |\n",
        "| MemoryError      | 작업이 메모리 부족으로 실패했을 때 발생          |\n",
        "| NameError        | 지역 또는 전역 범위에서 변수를 찾을 수 없을 때 발생 |\n",
        "| NotImplementedError | 추상 메서드에서 발생                           |\n",
        "| OSError          | 시스템 작업이 시스템 관련 오류를 발생시킬 때 발생 |\n",
        "| OverflowError    | 산술 연산의 결과가 너무 커서 표현할 수 없을 때 발생 |\n",
        "| ReferenceError   | 약한 참조 프록시가 가비지 수집된 참조자를 사용할 때 발생 |\n",
        "| RuntimeError     | 다른 카테고리에 속하지 않는 오류가 발생했을 때 발생 |\n",
        "| StopIteration    | next() 함수가 더 이상 반환할 항목이 없을 때 발생  |\n",
        "| SyntaxError      | 파서가 구문 오류를 만났을 때 발생               |\n",
        "| IndentationError | 잘못된 들여쓰기가 있을 때 발생                  |\n",
        "| TabError         | 들여쓰기에 일관되지 않은 탭과 공백이 포함되어 있을 때 발생 |\n",
        "| SystemError      | 인터프리터가 내부 오류를 감지했을 때 발생        |\n",
        "| SystemExit       | sys.exit() 함수에 의해 발생                     |\n",
        "| TypeError        | 함수 또는 연산이 올바른 유형의 객체에 적용되지 않았을 때 발생 |\n",
        "| UnboundLocalError | 함수나 메서드에서 로컬 변수에 참조가 있지만 해당 변수에 값이 할당되지 않았을 때 발생 |\n",
        "| UnicodeError     | 유니코드 관련 인코딩 또는 디코딩 오류가 발생했을 때 발생 |\n",
        "| UnicodeEncodeError | 인코딩 중 유니코드 관련 오류가 발생했을 때 발생 |\n",
        "| UnicodeDecodeError | 디코딩 중 유니코드 관련 오류가 발생했을 때 발생 |\n",
        "| UnicodeTranslateError | 번역 중 유니코드 관련 오류가 발생했을 때 발생 |\n",
        "| ValueError       | 함수가 올바른 유형의 인수를 갖지만 적절하지 않은 값이 전달되었을 때 발생 |\n",
        "| ZeroDivisionError | 나눗셈이나 모듈로 연산의 두 번째 피연산자가 0일 때 발생 |"
      ],
      "metadata": {
        "id": "8zjaSqgdqfRx"
      }
    }
  ]
}
