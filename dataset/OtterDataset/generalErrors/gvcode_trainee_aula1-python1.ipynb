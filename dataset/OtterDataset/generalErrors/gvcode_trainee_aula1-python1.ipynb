{
 "cells": [
  {
   "cell_type": "markdown",
   "metadata": {},
   "source": [
    "# Introdução ao Python I"
   ]
  },
  {
   "cell_type": "markdown",
   "metadata": {},
   "source": [
    "## Introdução {.unnumbered}"
   ]
  },
  {
   "cell_type": "markdown",
   "metadata": {},
   "source": [
    "<!--Motivação da aula-->\n",
    "Nesta aula, vamos aprender desde o básico, **sintaxe**, **tomada de decisões**, **repetição de ações**, e **estruturar melhor nossos programas**, para que eles possam lidar com diferentes situações de forma dinâmica.\n",
    "\n",
    "1. Sintaxe e Scripts Básicos\n",
    "2. Tipos de Dados em Python\n",
    "3. Operadores em Python\n",
    "4. Controle de Fluxo\n",
    "5. Funções\n",
    "6. Tratamento de Erros\n",
    "\n",
    "<!--TOC dos temas da aula (pra ajudar os alunos a se acharem na aula)-->\n",
    "\n",
    "<!--Texto (enxuto, objetivo) com os objetivos de aprendizagem principais (o que, principalmente, os alunos tem que sair dessa aula sabendo)-->\n",
    "\n",
    "<!--Ao longo da aula: adicionar mais referências, especialmente sobre onde expandir os conhecimentos sobre cada tema-->"
   ]
  },
  {
   "cell_type": "markdown",
   "metadata": {},
   "source": [
    "## Porque Python?"
   ]
  },
  {
   "cell_type": "markdown",
   "metadata": {},
   "source": [
    "Python é uma linguagem de programação fácil de aprender, com uma sintaxe clara e intuitiva, ideal para iniciantes. É amplamente utilizada em diversas áreas, como ciência de dados, desenvolvimento web e automação, tornando-se uma ferramenta versátil e prática."
   ]
  },
  {
   "cell_type": "markdown",
   "metadata": {},
   "source": [
    "## Sintaxe\n",
    "\n",
    "<!--no geral, essa seção está boa, mas busque fazer melhorias do _flow_ de ensino, e checar se nenhum tema importante está sendo deixado de lado-->"
   ]
  },
  {
   "cell_type": "markdown",
   "metadata": {},
   "source": [
    "### Scripts"
   ]
  },
  {
   "cell_type": "markdown",
   "metadata": {},
   "source": [
    "Um script é um arquivo de texto com instruções a serem executadas por um computador que antes traduzirá o arquivo para linguagem de máquina.\n",
    "\n",
    "Um script é um texto instrucional como qualquer outro, escrito em um tipo de linguagem especial, “de programação”, ou “código”, mas é um texto, quase como uma receita de bolo de cenoura.\n",
    "\n",
    "Como em qualquer linguagem, temos um vocabulário à disposição, um conjunto de palavras (ou tokens) existentes, organizadas em categorias como substantivos, adjetivos, etc. Nós combinamos as palavras em frases (ou statements) para descrever as instruções. Por fim, organizamos o texto em parágrafos (ou blocks), conjuntos de frases que devem ser lidas juntas, para definir a estrutura e facilitar o entendimento do texto."
   ]
  },
  {
   "cell_type": "markdown",
   "metadata": {},
   "source": [
    "<!--quais são as opções de palavras que compõe um código? R: valores, (nomes de) variáveis, e funções/operadores-->"
   ]
  },
  {
   "cell_type": "markdown",
   "metadata": {},
   "source": [
    "### Sintaxe Básica"
   ]
  },
  {
   "cell_type": "markdown",
   "metadata": {},
   "source": [
    "A sintaxe dentro do Python é muito semelhante com a linguagem humana.\n",
    "O programa \"lê\" de cima para baixo, da esqueda para a direita de forma sequencial!\n",
    "\n",
    "Note ao longo dos programas: espaços, quebras de linha, tabs, comentários..."
   ]
  },
  {
   "cell_type": "code",
   "execution_count": 106,
   "metadata": {},
   "outputs": [
    {
     "name": "stdout",
     "output_type": "stream",
     "text": [
      "4 4\n"
     ]
    }
   ],
   "source": [
    "#Vamos fazer essa soma!\n",
    "\n",
    "soma = 2 + 2 # soma bem facil...\n",
    "soma2=2+2\n",
    "\n",
    "print(soma, soma2)"
   ]
  },
  {
   "cell_type": "markdown",
   "metadata": {},
   "source": [
    "## Variáveis\n",
    "\n",
    "<!--no geral, essa seção está boa, mas busque fazer melhorias do _flow_ de ensino, e checar se nenhum tema importante está sendo deixado de lado-->"
   ]
  },
  {
   "cell_type": "markdown",
   "metadata": {},
   "source": [
    "As variáveis no python são bem parecidas com as variáveis da matemática. Serve como caixinhas que carregam algo dentro e, sempre que o programa ler ela, entenderá o seu conteúdo.\n",
    "\n",
    "\n",
    "```\n",
    "x = \"julia\"  #toda vez que o programa ler x, lerá a string julia\n",
    "y = 5        #toda vez que o programa ler y, lerá o número inteiro 5\n",
    "z = 2.5      #toda vez que o programa ler z, lerá o número float 2,5\n",
    "```\n",
    "\n",
    "Variáveis são um nome, associado à um valor, que mora na memória do computador.\n",
    "\n",
    "Tenha em mente ao nomear uma variável que:\n",
    "- Não se pode usar os termos reservados;\n",
    "\n",
    "- Nomes de variáveis podem conter apenas letras, números e underscores(_). Podem começar com uma letra ou um underscore, mas não com um número;\n",
    "\n",
    "- Espaços não são permitidos em nomes de variáveis (usa-se underscores para separa as palavras);\n",
    "\n",
    "- Dicas: nomes de variáveis devem ser concisos, porém descritivos.\n",
    "\n",
    "\n",
    "\n",
    "\n",
    "Na prática, quando escrevemos essas varíaveis, números e strings em células de código, observamos diferentes cores que indicam o que o python está enxergando.\n"
   ]
  },
  {
   "cell_type": "markdown",
   "metadata": {},
   "source": [
    "Termos reservados são termos que já possuem um “significado” para o Python, então não podemos usa-los como variáveis.\n"
   ]
  },
  {
   "cell_type": "markdown",
   "metadata": {},
   "source": [
    "## Tipos de Dados \n",
    "\n",
    "**Tipos de dados** são os \"tijolinhos\" básicos que formam nossos programas. Eles representam os diferentes tipos de informações que podemos armazenar e manipular, como textos, números e valores lógicos. Cada tipo de dado é salvo de uma forma específica na memória, permitindo que realizemos operações adequadas para cada tipo.\n",
    "\n",
    "Nesta aula, vamos explorar os principais tipos de dados em Python. Para se aprofundar mais: https://docs.python.org/3/library/datatypes.html\n",
    "\n",
    "<!--texto introdutório sobre tipos de dados-->\n",
    "<!--tijolinhos básicos, salvos de maneiras diferentes... (explicar o que vamos ensinar)-->\n",
    "\n",
    "<!--no geral, essa seção está boa, mas busque fazer melhorias do flow de ensino-->\n",
    "<!--checar se nenhum tema importante está sendo deixado de lado. Por exemplo, citar que existem números complexos-->"
   ]
  },
  {
   "cell_type": "markdown",
   "metadata": {},
   "source": [
    "### String\n",
    "Uma string é um **\"desenho\"**, onde o programa **não enxerga nenhum valor numérico** mas consegue diferir os \"desenhos\" entre si. Seu símbolo é ' ' ou \" \", indicando ao programa que é uma string. Um número pode ter valor numérico (int ou float por exemplo) ou não (str).\n",
    "\n",
    "Obs: o python é uma linguagem extremamente sensível, então a string \"julia\" e a string \"Julia\" não são iguais para ele.\n",
    "```\n",
    "\"Julia\"\n",
    "\"luana\"\n",
    "\"123456\"\n",
    "```\n",
    "Uma ferramenta que vocês usarão e que \"respiram\" strings é o len().\n",
    "\n",
    "\"Len\" é a breviação para a palavra Length, ou seja, comprimento, e é exatamente o que ele mede: essa função retorna o número de caractéres de uma string.\n",
    "\n",
    "Obs: os *ESPAÇOS* contam como caracteres.\n",
    "\n",
    "```\n",
    "len(\"julia cruz\") --> retorna o número 10 (um inteiro)\n",
    "```\n",
    "\n",
    "### Inteiro\n",
    "Os inteiros são números que não são strings e **não possuem valor depois da vígula**, ou seja, são números inteiros :D. Usados em expressões matemáticas para contas.\n",
    "\n",
    "\n",
    "```\n",
    "5\n",
    "6\n",
    "12\n",
    "1000\n",
    "```\n",
    "\n",
    "### Float\n",
    "São semelhantes aos números inteiros porém considera e demanda valores depois da vírgula, mesmo que seja 0. Se misturam com os inteiros em equações matemáticas.\n",
    "\n",
    "```\n",
    "1.0\n",
    "2.3\n",
    "45.002\n",
    "1000.0\n",
    "```\n",
    "\n",
    "### Booleano\n",
    "Um valor booleano é um tipo de dado que pode representar apenas dois estados distintos: verdadeiro ou falso. É fundamental em muitos aspectos da programação e da lógica, pois permite tomar decisões com base em condições.\n",
    "```\n",
    "verdadeiro = True\n",
    "falso = False\n",
    "```\n"
   ]
  },
  {
   "cell_type": "markdown",
   "metadata": {},
   "source": [
    "## Operadores\n",
    "\n",
    "São símbolos que nos permitem realizar operações sobre variáveis e valores. Eles são fundamentais para a construção de expressões em Python, ajudando a manipular dados, fazer cálculos e tomar decisões.\n",
    "\n",
    "Material base e aprofundamento: https://docs.python.org/3/library/operator.html\n",
    "<!--texto introdutório de o que são operadores-->\n",
    "<!--explicar que é um conhecimento expositivo e tals-->\n",
    "\n",
    "<!--no geral, essa seção está boa, mas busque fazer melhorias do _flow_ de ensino, e checar se nenhum tema importante está sendo deixado de lado-->"
   ]
  },
  {
   "cell_type": "markdown",
   "metadata": {},
   "source": [
    "### Operadores Aritiméticos"
   ]
  },
  {
   "cell_type": "markdown",
   "metadata": {},
   "source": [
    "Os operadores aritméticos são usados para realizar operações matemáticas entre operandos."
   ]
  },
  {
   "cell_type": "markdown",
   "metadata": {},
   "source": [
    "<!--Salvar como imagem em assets/img (falar com Júlia)-->\n",
    "\n",
    "![image.png](data:image/png;base64,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)"
   ]
  },
  {
   "cell_type": "code",
   "execution_count": 107,
   "metadata": {},
   "outputs": [
    {
     "name": "stdout",
     "output_type": "stream",
     "text": [
      "4\n"
     ]
    }
   ],
   "source": [
    "print(2+2)"
   ]
  },
  {
   "cell_type": "code",
   "execution_count": 108,
   "metadata": {},
   "outputs": [
    {
     "name": "stdout",
     "output_type": "stream",
     "text": [
      "3\n"
     ]
    }
   ],
   "source": [
    "print(2*5 - 7)"
   ]
  },
  {
   "cell_type": "code",
   "execution_count": 109,
   "metadata": {},
   "outputs": [
    {
     "name": "stdout",
     "output_type": "stream",
     "text": [
      "0\n"
     ]
    }
   ],
   "source": [
    "print(4%2)"
   ]
  },
  {
   "cell_type": "code",
   "execution_count": 110,
   "metadata": {},
   "outputs": [
    {
     "name": "stdout",
     "output_type": "stream",
     "text": [
      "1\n"
     ]
    }
   ],
   "source": [
    "print(3%2)"
   ]
  },
  {
   "cell_type": "code",
   "execution_count": 111,
   "metadata": {},
   "outputs": [
    {
     "name": "stdout",
     "output_type": "stream",
     "text": [
      "1 1.6666666666666667\n"
     ]
    }
   ],
   "source": [
    "divisao_inteira = 10 // 6\n",
    "print(divisao_inteira, 10/6)"
   ]
  },
  {
   "cell_type": "markdown",
   "metadata": {},
   "source": [
    "#### Ordem de Precedência"
   ]
  },
  {
   "cell_type": "code",
   "execution_count": 112,
   "metadata": {},
   "outputs": [
    {
     "name": "stdout",
     "output_type": "stream",
     "text": [
      "21\n",
      "17\n",
      "26\n"
     ]
    }
   ],
   "source": [
    "# Parenteses\n",
    "expressao_1 = ((2 + 5) * 3)\n",
    "print(expressao_1)\n",
    "\n",
    "expressao_2 = (2 + 5 * 3)\n",
    "print(expressao_2)\n",
    "\n",
    "expressao_3 = (1 + 5 ** 2)\n",
    "print(expressao_3)"
   ]
  },
  {
   "cell_type": "code",
   "execution_count": 113,
   "metadata": {},
   "outputs": [
    {
     "name": "stdout",
     "output_type": "stream",
     "text": [
      "30.857142857142858\n"
     ]
    }
   ],
   "source": [
    "print(((2*3)**3)/7)"
   ]
  },
  {
   "cell_type": "markdown",
   "metadata": {},
   "source": [
    "### Operadores lógicos"
   ]
  },
  {
   "cell_type": "markdown",
   "metadata": {},
   "source": [
    "Os operadores lógicos são usados alguma relação entre operandos. Quando utilizados, eles retornam valores booleanos (True ou False)."
   ]
  },
  {
   "cell_type": "markdown",
   "metadata": {},
   "source": [
    "![](assets/img/aula1-operadores1.png)"
   ]
  },
  {
   "cell_type": "markdown",
   "metadata": {},
   "source": [
    "<!--Salvar como imagem em assets/img (falar com Júlia)-->\n",
    "\n",
    "![](assets/img/aula1-operadores2.png)"
   ]
  },
  {
   "cell_type": "markdown",
   "metadata": {},
   "source": [
    "<!--Salvar como imagem em assets/img (falar com Júlia)-->\n",
    "\n",
    "![](assets/img/aula1-operadores3.png)\n",
    "    "
   ]
  },
  {
   "cell_type": "markdown",
   "metadata": {},
   "source": [
    "<!--Salvar como imagem em assets/img (falar com Júlia)-->\n",
    "\n",
    "![](assets/img/aula1-operadores4.png)"
   ]
  },
  {
   "cell_type": "markdown",
   "metadata": {},
   "source": [
    "### Operadores de Atribuição\n"
   ]
  },
  {
   "cell_type": "markdown",
   "metadata": {},
   "source": [
    "Os operadores de atribuição são usados para atibuir valores a variáveis\n"
   ]
  },
  {
   "cell_type": "markdown",
   "metadata": {},
   "source": [
    "<!--Salvar como imagem em assets/img (falar com Júlia)-->\n",
    "\n",
    "![](assets/img/aula1-operadores5.png)"
   ]
  },
  {
   "cell_type": "code",
   "execution_count": 114,
   "metadata": {},
   "outputs": [
    {
     "name": "stdout",
     "output_type": "stream",
     "text": [
      "6\n"
     ]
    }
   ],
   "source": [
    "numero = 5\n",
    "numero += 1\n",
    "print(numero)"
   ]
  },
  {
   "cell_type": "code",
   "execution_count": 115,
   "metadata": {},
   "outputs": [
    {
     "name": "stdout",
     "output_type": "stream",
     "text": [
      "2\n"
     ]
    }
   ],
   "source": [
    "numero = 3\n",
    "numero -= 1\n",
    "print(numero)"
   ]
  },
  {
   "cell_type": "code",
   "execution_count": 116,
   "metadata": {},
   "outputs": [
    {
     "name": "stdout",
     "output_type": "stream",
     "text": [
      "35\n"
     ]
    }
   ],
   "source": [
    "numero = 7\n",
    "numero *= 5\n",
    "print(numero)"
   ]
  },
  {
   "cell_type": "code",
   "execution_count": 117,
   "metadata": {},
   "outputs": [
    {
     "name": "stdout",
     "output_type": "stream",
     "text": [
      "1.8\n"
     ]
    }
   ],
   "source": [
    "numero = 9\n",
    "numero /= 5\n",
    "print(numero)"
   ]
  },
  {
   "cell_type": "code",
   "execution_count": 118,
   "metadata": {},
   "outputs": [
    {
     "name": "stdout",
     "output_type": "stream",
     "text": [
      "1\n"
     ]
    }
   ],
   "source": [
    "numero = 5\n",
    "numero %= 2\n",
    "print(numero)"
   ]
  },
  {
   "cell_type": "markdown",
   "metadata": {},
   "source": [
    "<!--Escolha uma frase remetendo pausa e tire print de alguma arte dela em https://patorjk.com/software/taag/. Exemplo:-->\n",
    "\n",
    "<hr>\n",
    "\n",
    "![😎](assets/img/aula1-break.png)\n",
    "\n",
    "<hr>"
   ]
  },
  {
   "cell_type": "markdown",
   "metadata": {},
   "source": [
    "## Control Flow\n",
    "\n",
    "Basicamente, control flow é sobre **como** o programa decide **qual parte do código executar e quando**. Essas ferramentas permitem que o código se adapte a diferentes situações, tome decisões e realize ações repetitivas, dependendo dos valores e condições presentes no programa.\n",
    "\n",
    "Para se aprofundar: https://docs.python.org/3/tutorial/controlflow.html"
   ]
  },
  {
   "cell_type": "markdown",
   "metadata": {},
   "source": [
    "### Condicionais\n",
    "Condicionais são estruturas usadas para tomar decisões dentro de um programa. Elas permitem que o código execute diferentes blocos de instruções dependendo de condições específicas. Assim, com condicionais, é possível direcionar o fluxo do programa com base em critérios, como valores de variáveis, facilitando a criação de comportamentos dinâmicos e adaptativos.\n",
    "\n"
   ]
  },
  {
   "cell_type": "markdown",
   "metadata": {},
   "source": [
    "#### if\n",
    "A estrutura `if` é usada para verificar se uma condição é verdadeira e, caso seja, executar um bloco de código específico. Ela é a base das decisões em um programa, permitindo que diferentes ações aconteçamm dependendo do valor de uma condição. Se a condição for verdadeira, o código dentro do `if` será executado; caso contrário, será ignorado. "
   ]
  },
  {
   "cell_type": "markdown",
   "metadata": {},
   "source": [
    "#### if else\n",
    "A estrutura `if else` é usada quando há a necessidade de definir duas ações diferentes: uma a ser executada se a condição for verdadeira (`if`) e outra se essa condição for falsa (`else`). Dessa forma, ela garante que um dos dois blocos de código será executado, cobrindo todas as possibilidades de resultado da condição."
   ]
  },
  {
   "cell_type": "markdown",
   "metadata": {},
   "source": [
    "#### if elif else\n",
    "A estrutura `if elif else` é usada quando há mais de duas possibilidades para a condição. Primeiro, o `if` verifica a condição inicial. Caso ela seja falsa, o `elif` (abreviação de \"else if\") verifica uma nova condição, e isso pode se repetir quantas vezes for necessário. Por fim, o `else` cobre o caso em que nenhuma das condições anteriores é satisfeita. Essa estrutura permite criar múltiplos caminhos de decisão dentro do código."
   ]
  },
  {
   "cell_type": "markdown",
   "metadata": {},
   "source": [
    "### Loops\n",
    "Loops são estruturas usadas para repetir um bloco de código várias vezes, facilitando a automação de tarefas repetitivas. Eles são úteis quando se deseja realizar uma mesma operação várias vezes, seja sobre uma coleção de itens ou até que uma determinada condição seja atendida. Com loops, é possível escrever um código de forma mais concisa e eficiente, evitando a repetição manual de instruções."
   ]
  },
  {
   "cell_type": "markdown",
   "metadata": {},
   "source": [
    "#### while\n",
    "A estrutura `while` repete um bloco de código enquanto uma condição for verdadeira. Ela é útil quando não se sabe exatamente quantas vezes o bloco do código precisará ser executado, mas sim até que uma determinada condição seja atendida. Assim que a condição se tornar falsa, o loop é interrompido."
   ]
  },
  {
   "cell_type": "markdown",
   "metadata": {},
   "source": [
    "#### for\n",
    "\n",
    "A estrutura `for` é usada para repetir um bloco de código um número específico de vezes. Geralmente, é usada quando já se sabe quantas vezes o bloco de código deve ser executado. No contexto inicial, sem listas, o `for` pode ser usado para repetir ações com base em um intervalo definido, permitindo automatizar processos repetitivos de maneira simples."
   ]
  },
  {
   "cell_type": "markdown",
   "metadata": {},
   "source": [
    "### Keywords"
   ]
  },
  {
   "cell_type": "markdown",
   "metadata": {},
   "source": [
    "#### break\n",
    "\n",
    "A instrução `break` é usada para interromper um loop antes de ele ser concluído. Quando o `break` é executado, o loop é finalizado imediatamente, e o programa segue para a próxima instrução. Essa instrução é útil quando se deseja parar a repetição ao atender a uma condição específica, mesmo que o loop ainda não tenha terminado seu ciclo completo."
   ]
  },
  {
   "cell_type": "markdown",
   "metadata": {},
   "source": [
    "#### continue\n",
    "\n",
    "A instrução `continue` é usada para pular a iteração atual de um loop e avançar para a próxima iteração. Quando `continue` é executado, o loop não finaliza, mas simplesmente ignora o restante do bloco de código daquela iteração e volta para o início, verificando a condição novamente ou avançando para o próximo item. Isso é útil para evitar executar parte do código do loop em condições específicas."
   ]
  },
  {
   "cell_type": "markdown",
   "metadata": {},
   "source": [
    "### Indo pra prática...\n",
    "\n",
    "#### If elif else"
   ]
  },
  {
   "cell_type": "code",
   "execution_count": 10,
   "metadata": {},
   "outputs": [
    {
     "name": "stdout",
     "output_type": "stream",
     "text": [
      "Hora de acordar!\n"
     ]
    }
   ],
   "source": [
    "hora = 7 \n",
    "\n",
    "if hora >= 6:\n",
    "    print(\"Hora de acordar!\")\n",
    "if hora < 6:\n",
    "    print(\"Pode dormir mais um pouco.\")"
   ]
  },
  {
   "cell_type": "code",
   "execution_count": 11,
   "metadata": {},
   "outputs": [
    {
     "name": "stdout",
     "output_type": "stream",
     "text": [
      "Você pode comprar o produto!\n"
     ]
    }
   ],
   "source": [
    "dinheiro = 30\n",
    "preço = 25\n",
    "\n",
    "if dinheiro >= preço:\n",
    "    print(\"Você pode comprar o produto!\")\n",
    "if dinheiro < preço:\n",
    "    print(\"Você não tem dinheiro suficiente para comprar o produto.\")"
   ]
  },
  {
   "cell_type": "code",
   "execution_count": 12,
   "metadata": {},
   "outputs": [
    {
     "name": "stdout",
     "output_type": "stream",
     "text": [
      "A água não está fervendo ainda.\n"
     ]
    }
   ],
   "source": [
    "temperatura = 80\n",
    "\n",
    "if temperatura >= 100:\n",
    "    print(\"A água está fervendo!\")\n",
    "if temperatura < 100:\n",
    "    print(\"A água não está fervendo ainda.\")"
   ]
  },
  {
   "cell_type": "markdown",
   "metadata": {},
   "source": [
    "Exemplos que vou mostrar (vou tirar essa seção depois, está nos comentários)\n",
    "\n",
    "<!--\n",
    "===============================\n",
    "if hora >= 6:\n",
    "    print(\"Hora de acordar!\")\n",
    "else:\n",
    "    print(\"Pode dormir mais um pouco.\")\n",
    "===============================\n",
    "if hora >= 6:\n",
    "    print(\"Hora de acordar!\")\n",
    "elif hora >= 5:\n",
    "    print(\"Está quase na hora de acordar.\")\n",
    "else:\n",
    "    print(\"Pode dormir mais um pouco.\")\n",
    "\n",
    "\n",
    "\n",
    "===============================\n",
    "if dinheiro >= preço:\n",
    "    print(\"Você pode comprar o produto!\")\n",
    "else:\n",
    "    print(\"Você não tem dinheiro suficiente para comprar o produto.\")\n",
    "===============================\n",
    "if dinheiro >= preço:\n",
    "    print(\"Você pode comprar o produto!\")\n",
    "elif dinheiro >= preço / 2:\n",
    "    print(\"Você não tem o valor total, mas pode pagar metade do preço.\")\n",
    "else:\n",
    "    print(\"Você não tem dinheiro suficiente para comprar o produto.\")\n",
    "\n",
    "\n",
    "===============================\n",
    "if temperatura >= 100:\n",
    "    print(\"A água está fervendo!\")\n",
    "else:\n",
    "    print(\"A água não está fervendo ainda.\")\n",
    "===============================\n",
    "if temperatura >= 100:\n",
    "    print(\"A água está fervendo!\")\n",
    "elif temperatura >= 50:\n",
    "    print(\"A água está aquecendo, mas ainda não ferveu.\")\n",
    "else:\n",
    "    print(\"A água está fria.\")\n",
    ">"
   ]
  },
  {
   "cell_type": "markdown",
   "metadata": {},
   "source": [
    "#### Loops"
   ]
  },
  {
   "cell_type": "code",
   "execution_count": 14,
   "metadata": {},
   "outputs": [
    {
     "name": "stdout",
     "output_type": "stream",
     "text": [
      "Número: 1\n",
      "Número: 2\n",
      "Número: 3\n",
      "Número: 4\n",
      "Número: 5\n",
      "Número: 6\n",
      "Número: 7\n",
      "Número: 8\n",
      "Número: 9\n",
      "Número: 10\n"
     ]
    }
   ],
   "source": [
    "contador = 1\n",
    "\n",
    "while contador <= 10:\n",
    "    print(f\"Número: {contador}\")\n",
    "    contador += 1"
   ]
  },
  {
   "cell_type": "code",
   "execution_count": 15,
   "metadata": {},
   "outputs": [
    {
     "name": "stdout",
     "output_type": "stream",
     "text": [
      "Senha correta! Acesso concedido.\n"
     ]
    }
   ],
   "source": [
    "senha_correta = \"fgvcode!\"\n",
    "entrada = \"\"\n",
    "\n",
    "while entrada != senha_correta:\n",
    "    entrada = input(\"Digite a senha: \")\n",
    "\n",
    "print(\"Senha correta! Acesso concedido.\")"
   ]
  },
  {
   "cell_type": "code",
   "execution_count": 18,
   "metadata": {},
   "outputs": [
    {
     "name": "stdout",
     "output_type": "stream",
     "text": [
      "Parabéns! Você adivinhou o número.\n"
     ]
    }
   ],
   "source": [
    "número_secreto = 7\n",
    "chute = None\n",
    "\n",
    "while chute != número_secreto:\n",
    "    chute = int(input(\"Adivinhe o número (entre 1 e 10): \"))\n",
    "    if chute != número_secreto:\n",
    "        print(\"Tente novamente!\")\n",
    "\n",
    "print(\"Parabéns! Você adivinhou o número.\")"
   ]
  },
  {
   "cell_type": "code",
   "execution_count": 19,
   "metadata": {},
   "outputs": [
    {
     "name": "stdout",
     "output_type": "stream",
     "text": [
      "Número: 1\n",
      "Número: 2\n",
      "Número: 3\n",
      "Número: 4\n",
      "Número: 5\n"
     ]
    }
   ],
   "source": [
    "for bolinha in range(1, 6):\n",
    "    print(f\"Número: {bolinha}\")"
   ]
  },
  {
   "cell_type": "code",
   "execution_count": 20,
   "metadata": {},
   "outputs": [
    {
     "name": "stdout",
     "output_type": "stream",
     "text": [
      "Aqui vai uma curiosidade:\n",
      "Caraí é o nome de uma cidade de Minas Gerais.\n",
      "\n",
      "Aqui vai uma curiosidade:\n",
      "Cláudio é o nome de uma cidade de Minas Gerais.\n",
      "\n",
      "Aqui vai uma curiosidade:\n",
      "Manga é o nome de uma cidade de Minas Gerais.\n",
      "\n",
      "Aqui vai uma curiosidade:\n",
      "Perdigão é o nome de uma cidade de Minas Gerais.\n",
      "\n",
      "Aqui vai uma curiosidade:\n",
      "Pintópolis é o nome de uma cidade de Minas Gerais.\n",
      "\n",
      "Aqui vai uma curiosidade:\n",
      "Ressaquinha é o nome de uma cidade de Minas Gerais.\n",
      "\n",
      "Aqui vai uma curiosidade:\n",
      "Tabuleiro é o nome de uma cidade de Minas Gerais.\n",
      "\n",
      "Aqui vai uma curiosidade:\n",
      "Varzelândia é o nome de uma cidade de Minas Gerais.\n",
      "\n",
      "Você sabia disso?\n",
      "\n"
     ]
    }
   ],
   "source": [
    "cidades_de_minas = ['caraí', 'cláudio', 'manga', 'perdigão', 'pintópolis', 'ressaquinha', 'tabuleiro', 'varzelândia']\n",
    "\n",
    "# Executando mais tarefas em um loop for:\n",
    "\n",
    "for qualquer_coisa in cidades_de_minas:\n",
    "    print('Aqui vai uma curiosidade:')\n",
    "    print(f'{qualquer_coisa.title()} é o nome de uma cidade de Minas Gerais.\\n')\n",
    "\n",
    "print('Você sabia disso?\\n')"
   ]
  },
  {
   "cell_type": "markdown",
   "metadata": {},
   "source": [
    "#### Keywords"
   ]
  },
  {
   "cell_type": "code",
   "execution_count": 23,
   "metadata": {},
   "outputs": [
    {
     "name": "stdout",
     "output_type": "stream",
     "text": [
      "\n",
      "Eu adoria conhecer São Paulo também!\n"
     ]
    }
   ],
   "source": [
    "prompt = '\\nDigite o nome de uma cidade que você já visitou.'\n",
    "prompt += \"\\n(Digite 'sair' para encerrar o programa) \"\n",
    "\n",
    "while True:\n",
    "    cidade = input(prompt)\n",
    "\n",
    "    if cidade == 'sair':\n",
    "        break\n",
    "    else:\n",
    "        print(f'\\nEu adoria conhecer {cidade} também!')"
   ]
  },
  {
   "cell_type": "code",
   "execution_count": 24,
   "metadata": {},
   "outputs": [
    {
     "name": "stdout",
     "output_type": "stream",
     "text": [
      "2\n",
      "4\n",
      "6\n",
      "8\n",
      "10\n"
     ]
    }
   ],
   "source": [
    "numero = 0\n",
    "\n",
    "while numero <= 10:\n",
    "    numero += 1\n",
    "    if (numero % 2):\n",
    "        continue\n",
    "\n",
    "    print(numero)"
   ]
  },
  {
   "cell_type": "markdown",
   "metadata": {},
   "source": [
    "## Funções\n",
    "\n",
    "<!--texto introdutório de o que são funções-->\n",
    "\n",
    "<!--o conteúdo da aula antiga são bons, mas podem ser reorganizados de uma maneira mais direta na estrutura abaixo. busque fazer melhorias do _flow_ de ensino, e checar se nenhum tema importante está sendo deixado de lado-->"
   ]
  },
  {
   "cell_type": "markdown",
   "metadata": {},
   "source": [
    "### Sintaxe e Definição"
   ]
  },
  {
   "cell_type": "markdown",
   "metadata": {},
   "source": [
    "### Argumentos\n",
    "\n",
    "Argumentos são valores fornecidos a funções para que elas possam trabalhar com dados específicos. Existem três tipos principais:\n",
    "\n",
    "- **Argumentos Posicionais**: São passados para a função na ordem em que são definidos, e essa ordem determina qual parâmetro será preenchido.\n",
    "\n",
    "- **Argumentos Padrão**: São valores definidos como padrão (default) na função. Se um valor não for passado ao chamar a função, o valor padrão será usado."
   ]
  },
  {
   "cell_type": "markdown",
   "metadata": {},
   "source": [
    "<!--Podemos passar praticamente qualquer coisa como argumentos para funções em Python. Isso inclui, mas não está limitado a, números, strings, coleções de dados, e até mesmo outras funções + exemplo-->"
   ]
  },
  {
   "cell_type": "code",
   "execution_count": 4,
   "metadata": {},
   "outputs": [
    {
     "name": "stdout",
     "output_type": "stream",
     "text": [
      "Nome: Aldo, Idade: 20\n"
     ]
    }
   ],
   "source": [
    "def mostrar_dados(idade, nome):\n",
    "    print(f\"Nome: {nome}, Idade: {idade}\")\n",
    "\n",
    "# Posicional\n",
    "mostrar_dados(20, \"Aldo\")"
   ]
  },
  {
   "cell_type": "code",
   "execution_count": 25,
   "metadata": {},
   "outputs": [
    {
     "name": "stdout",
     "output_type": "stream",
     "text": [
      "Olá!\n"
     ]
    }
   ],
   "source": [
    "def funcao_exemplo(função):\n",
    "    função()\n",
    "\n",
    "def dizer_ola():\n",
    "    print(\"Olá!\")\n",
    "\n",
    "# Posicional\n",
    "funcao_exemplo(dizer_ola)"
   ]
  },
  {
   "cell_type": "code",
   "execution_count": 7,
   "metadata": {},
   "outputs": [
    {
     "name": "stdout",
     "output_type": "stream",
     "text": [
      "Bom dia, Vitor!\n",
      "Boa tarde, Ana!\n"
     ]
    }
   ],
   "source": [
    "def saudar(nome, saudacao):\n",
    "    print(f\"{saudacao}, {nome}!\")\n",
    "\n",
    "# Usando argumentos nomeados\n",
    "saudar(nome=\"Vitor\", saudacao=\"Bom dia\")\n",
    "saudar(saudacao=\"Boa tarde\", nome=\"Ana\")  # Aqui a ordem foi invertida, mas podemos identificar os argumentos pelo nome"
   ]
  },
  {
   "cell_type": "code",
   "execution_count": 8,
   "metadata": {},
   "outputs": [
    {
     "name": "stdout",
     "output_type": "stream",
     "text": [
      "Nome: Mariana, Idade: 30\n",
      "Nome: João, Idade: 40\n"
     ]
    }
   ],
   "source": [
    "def mostrar_dados_2(nome, idade=30):\n",
    "    print(f\"Nome: {nome}, Idade: {idade}\")\n",
    "\n",
    "# Chamando a função sem passar o valor para o argumento 'idade', o valor padrão será utilizado\n",
    "mostrar_dados_2(\"Mariana\")  # Nome: Mariana, Idade: 30\n",
    "\n",
    "# Chamando a função passando todos os argumentos\n",
    "mostrar_dados_2(\"João\", 40)  # Nome: João, Idade: 40\n",
    "\n",
    "# O default deve ser o último parâmetro a ser definido.\n"
   ]
  },
  {
   "cell_type": "code",
   "execution_count": 26,
   "metadata": {},
   "outputs": [
    {
     "name": "stdout",
     "output_type": "stream",
     "text": [
      "O quadrado de 1 é 1\n",
      "O quadrado de 2 é 4\n",
      "O quadrado de 3 é 9\n",
      "O quadrado de 4 é 16\n",
      "O quadrado de 5 é 25\n"
     ]
    }
   ],
   "source": [
    "def calcular_quadrados(numeros):\n",
    "    for numero in numeros:\n",
    "        quadrado = numero ** 2\n",
    "        print(f\"O quadrado de {numero} é {quadrado}\")\n",
    "\n",
    "valores = [1, 2, 3, 4, 5]\n",
    "calcular_quadrados(valores)"
   ]
  },
  {
   "cell_type": "markdown",
   "metadata": {},
   "source": [
    "### Funções Anônimas\n",
    "Funções anônimas são apenas uma forma mais curta de escrever funções normais. Elas também são conhecidas como **funções lambda**. Ao invés de usar `def` para definir uma função, as funções anônimas são escritas em uma linha, ideal para tarefas simples. Elas são muito úteis quando você precisa de uma pequena função que será usada apenas uma vez e não quer se preocupar em dar um nome para ela.\n",
    "\n",
    "https://www.w3schools.com/python/python_lambda.asp"
   ]
  },
  {
   "cell_type": "code",
   "execution_count": null,
   "metadata": {},
   "outputs": [],
   "source": [
    "#Estrutura básica:\n",
    "#lambda argumentos: expressão\n",
    "#onde:\n",
    "#lambda: A palavra-chave que indica o início de uma função lambda.\n",
    "#argumentos: Lista de argumentos separados por vírgulas, semelhante aos argumentos das funções normais. Pode ser um único argumento, múltiplos argumentos, ou nenhum.\n",
    "#expressão: Uma expressão que é executada e cujo valor é retornado pela função lambda. Diferentemente das funções definidas com def, uma função lambda pode ter apenas uma expressão."
   ]
  },
  {
   "cell_type": "code",
   "execution_count": null,
   "metadata": {},
   "outputs": [],
   "source": [
    "# Função normal:\n",
    "\n",
    "preco = int(input('\\nDigite o preço para o calculo do imposto: '))\n",
    "\n",
    "def calcular_imposto(preco):\n",
    "    return preco * 0.3\n",
    "\n",
    "print(calcular_imposto(preco))"
   ]
  },
  {
   "cell_type": "code",
   "execution_count": null,
   "metadata": {},
   "outputs": [],
   "source": [
    "# Função Lambda:\n",
    "\n",
    "preco = int(input('\\nDigite o preço para o calculo do imposto: '))\n",
    "\n",
    "calcular_imposto = lambda preco: preco * 0.3\n",
    "\n",
    "print(calcular_imposto(preco))"
   ]
  },
  {
   "cell_type": "markdown",
   "metadata": {},
   "source": [
    "### Técnicas com Funções"
   ]
  },
  {
   "cell_type": "markdown",
   "metadata": {},
   "source": [
    "#### Recursão\n",
    "Digamos que temos uma série temporal de vendas diárias, e queremos calcular o total acumulado até um determinado dia. Uma forma que podemos fazer isso é montar uma função recurssiva. De forma simples, nós definimos uma função que vai se usar novamente dentro de si mesma."
   ]
  },
  {
   "cell_type": "code",
   "execution_count": 27,
   "metadata": {},
   "outputs": [
    {
     "name": "stdout",
     "output_type": "stream",
     "text": [
      "Total acumulado até o quinto dia: 1000\n"
     ]
    }
   ],
   "source": [
    "def acumulado(vendas, n):\n",
    "    # Caso base: se o índice for 0, só existe um valor a ser somado\n",
    "    if n == 0:\n",
    "        return vendas[0]\n",
    "    # Caso recursivo: soma o valor atual com o acumulado até o ponto anterior\n",
    "    else:\n",
    "        return vendas[n] + acumulado(vendas, n - 1)\n",
    "\n",
    "# Exemplo de uso\n",
    "vendas = [100, 150, 200, 250, 300]\n",
    "total_acumulado = acumulado(vendas, 4)\n",
    "print(f\"Total acumulado até o quinto dia: {total_acumulado}\")\n"
   ]
  },
  {
   "cell_type": "markdown",
   "metadata": {},
   "source": [
    "### Função como argumento\n",
    "Já vimos que podemos usar muitas coisas como argumentos para funções, isso incluindo até mesmo outras funções. A utilidade disso depende de sua criatividade, mas é uma ferramenta muito útil!"
   ]
  },
  {
   "cell_type": "code",
   "execution_count": 28,
   "metadata": {},
   "outputs": [
    {
     "name": "stdout",
     "output_type": "stream",
     "text": [
      "Dobrando: [2, 4, 6, 8, 10]\n",
      "Triplicando: [3, 6, 9, 12, 15]\n"
     ]
    }
   ],
   "source": [
    "def aplicar_operação(lista, operação):\n",
    "    return [operação(item) for item in lista]\n",
    "\n",
    "# Funções específicas que podemos aplicar\n",
    "def dobrar(x):\n",
    "    return x * 2\n",
    "\n",
    "def triplicar(x):\n",
    "    return x * 3\n",
    "\n",
    "# Exemplo de uso\n",
    "numeros = [1, 2, 3, 4, 5]\n",
    "\n",
    "resultado_dobrar = aplicar_operação(numeros, dobrar)\n",
    "print(f\"Dobrando: {resultado_dobrar}\")\n",
    "\n",
    "resultado_triplicar = aplicar_operação(numeros, triplicar)\n",
    "print(f\"Triplicando: {resultado_triplicar}\")\n"
   ]
  },
  {
   "cell_type": "markdown",
   "metadata": {},
   "source": [
    "<div class=\"double-hrule\"></div>\n",
    "\n",
    "## Recapitulando {.unnumbered}\n",
    "\n",
    "Nesta aula, começamos aprendendo a **sintaxe básica do Python**, que define como organizar o código de forma que o Python possa compreendê-lo. Exploramos conceitos como **variáveis** e **tipos de dados**, os quais são os \"tijolinhos\" essenciais para armazenar informações e construir um programa.\n",
    "\n",
    "Em seguida, discutimos como podemos brincar com esses tijolinhos usando os **operadores aritméticos** e **lógicos**. Eles nos permitem manipular esses dados, realizando cálculos e criando expressões lógicas. Entendemos também a **ordem de precedência** entre esses operadores, que determina a sequência em que as operações são executadas.\n",
    "\n",
    "Depois, avançamos para o **control flow**. Aprendemos a tomar decisões no código usando **estruturas condicionais** (`if`, `elif`, `else`) e a repetir ações automaticamente com os **loops** (`for` e `while`). Também vimos como controlar a execução dos loops com **`break`** e **`continue`**.\n",
    "\n",
    "Por fim, abordamos o conceito de **funções**. Vimos como criar funções utilizando `def` e como utilizar funções anônimas (`lambda`). Entendendo como são, essencialmente, o mesmo, mas igualmente importantes.\n",
    "\n",
    "Esses conceitos, desde a sintaxe básica até a criação de funções e controle de fluxo, formam a base do Python e são fundamentais para que possamos prosseguir e escrever programas organizados."
   ]
  },
  {
   "cell_type": "markdown",
   "metadata": {},
   "source": [
    "<div class=\"double-hrule\"></div>\n",
    "\n",
    "## Extras\n",
    "\n",
    "<!--Realizar melhorias nessa seção é secundário-->\n",
    "\n",
    "<!--Resumir (em tópicos) o que será visto nesta seção, e como os alunos devem abordar o estudo desses temas (avisar se é algo bem avançado, difícil de entender, se é algo mais \"decoreba\", etc-->"
   ]
  },
  {
   "cell_type": "markdown",
   "metadata": {},
   "source": [
    "### Erros/Exceções"
   ]
  },
  {
   "cell_type": "markdown",
   "metadata": {},
   "source": [
    "##### Tipos de exceções\n",
    "\n",
    "Referência: https://docs.python.org/3/library/warnings.html, https://www.tutorialsteacher.com/python/error-types-in-python\n",
    "\n",
    "Existem vários motivos diferentes para um script não rodar, é importante saber os mais comuns para ajudar na hora de investigar o que está de errado com um código.\n",
    "\n",
    "+ Erro de sintaxe: SyntaxError, IndentationError, TabError\n",
    "+ Erro de falta de memória: MemoryError, OverflowError\n",
    "+ Erro de referência: IndexError, KeyError, NameError\n",
    "+ Erro de operação: ZeroDivisionError, TypeError\n",
    "+ Erro de lógica: o python realiza o código, mas não faz o que você queria que ele fizesse\n",
    "+ Exceções: \"o python sabe o que fazer com o código mas não consegue realizar a ação quista\"\n",
    "+ Avisos: não interrompem o código, mas indicam que algo pode estar errado\n",
    "\n"
   ]
  },
  {
   "cell_type": "markdown",
   "metadata": {},
   "source": [
    "##### Como lidar com exceções?\n",
    "\n",
    "Referência: https://www.w3schools.com/python/python_try_except.asp\n",
    "\n",
    "Avisar ao utilizador do código que houve algum erro específico:"
   ]
  },
  {
   "cell_type": "code",
   "execution_count": 127,
   "metadata": {},
   "outputs": [
    {
     "name": "stdout",
     "output_type": "stream",
     "text": [
      "A taxa de juros deve ser um número\n"
     ]
    }
   ],
   "source": [
    "try:\n",
    "    juros = int(input(\"Qual a taxa de juros desejada? \"))\n",
    "    print(\"A taxa escolhida foi {0}%.\".format(juros))\n",
    "except:\n",
    "    print(\"A taxa de juros deve ser um número\")\n"
   ]
  },
  {
   "cell_type": "markdown",
   "metadata": {},
   "source": [
    "Em um loop, indicar que um dos itens não funcionou, mas realizar a operação para o resto dos itens:"
   ]
  },
  {
   "cell_type": "code",
   "execution_count": 128,
   "metadata": {},
   "outputs": [
    {
     "name": "stdout",
     "output_type": "stream",
     "text": [
      "A página urlquebrado.com não pode ser lida\n"
     ]
    },
    {
     "data": {
      "text/plain": [
       "['result - https://finance.yahoo.com/quote/PETR4.SA',\n",
       " 'NA',\n",
       " 'result - https://finance.yahoo.com/quote/VALE3.SA']"
      ]
     },
     "execution_count": 128,
     "metadata": {},
     "output_type": "execute_result"
    }
   ],
   "source": [
    "import requests\n",
    "\n",
    "paginas = []\n",
    "urlList = ['https://finance.yahoo.com/quote/PETR4.SA', 'urlquebrado.com', 'https://finance.yahoo.com/quote/VALE3.SA']\n",
    "\n",
    "for url in urlList:\n",
    "    try:\n",
    "        request = requests.get(url)\n",
    "        result = f\"result - {url}\" #algo com os dados da página\n",
    "        paginas.append(result)\n",
    "    except:\n",
    "        paginas.append(\"NA\")\n",
    "        print(f\"A página {url} não pode ser lida\")\n",
    "\n",
    "paginas"
   ]
  }
 ],
 "metadata": {
  "kernelspec": {
   "display_name": "Python 3",
   "language": "python",
   "name": "python3"
  },
  "language_info": {
   "codemirror_mode": {
    "name": "ipython",
    "version": 3
   },
   "file_extension": ".py",
   "mimetype": "text/x-python",
   "name": "python",
   "nbconvert_exporter": "python",
   "pygments_lexer": "ipython3",
   "version": "3.11.9"
  }
 },
 "nbformat": 4,
 "nbformat_minor": 2
}
