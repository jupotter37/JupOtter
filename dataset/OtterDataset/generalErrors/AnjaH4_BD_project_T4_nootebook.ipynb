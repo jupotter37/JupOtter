{
 "cells": [
  {
   "cell_type": "code",
   "metadata": {
    "ExecuteTime": {
     "end_time": "2024-07-27T18:40:20.109882Z",
     "start_time": "2024-07-27T18:40:19.657169Z"
    }
   },
   "source": [
    "import glob\n",
    "import pandas as pd\n",
    "from tqdm import tqdm\n",
    "from itertools import combinations\n",
    "from fuzzywuzzy import fuzz, process\n",
    "import numpy as np"
   ],
   "outputs": [],
   "execution_count": 1
  },
  {
   "cell_type": "code",
   "metadata": {
    "ExecuteTime": {
     "end_time": "2024-07-16T17:43:12.654930Z",
     "start_time": "2024-07-16T17:43:12.652019Z"
    }
   },
   "source": [
    "# Get all paths to CSV files in the specified directory\n",
    "csv_files = glob.glob('/home/anjah/Documents/mag/BD/project/BD_project/data/NYTickets/*.csv')\n",
    "\n",
    "# Print the number of CSV files found\n",
    "print(\"Number of CSV files:\", len(csv_files))\n"
   ],
   "outputs": [
    {
     "name": "stdout",
     "output_type": "stream",
     "text": [
      "Number of CSV files: 11\n"
     ]
    }
   ],
   "execution_count": 7
  },
  {
   "metadata": {},
   "cell_type": "code",
   "outputs": [],
   "execution_count": null,
   "source": [
    "#read files and get unique values for combination of Street and Violation County \n",
    "#save them to csv"
   ]
  },
  {
   "metadata": {
    "ExecuteTime": {
     "end_time": "2024-07-16T18:22:13.312807Z",
     "start_time": "2024-07-16T17:49:16.686911Z"
    }
   },
   "cell_type": "code",
   "source": [
    "# Create an empty DataFrame\n",
    "df = pd.DataFrame()\n",
    "\n",
    "# Define chunk size (number of rows per chunk)\n",
    "chunk_size = 10000  # Adjust based on your available memory\n",
    "\n",
    "# Process each file with a progress bar\n",
    "for file in tqdm(csv_files, desc=\"Processing files\"):\n",
    "    # Read the CSV file in chunks\n",
    "    for chunk in pd.read_csv(file, chunksize=chunk_size):\n",
    "        # Rename columns to have a consistent name\n",
    "        if 'Street Name' in chunk.columns:\n",
    "            chunk = chunk.rename(columns={'Street Name': 'Street'})\n",
    "        \n",
    "        # Check if the required columns exist in the chunk\n",
    "        if 'Street' in chunk.columns and 'Violation County' in chunk.columns:\n",
    "            # Get the unique values for the combination of Street and Violation County\n",
    "            temp_df = chunk[['Street', 'Violation County']].drop_duplicates()\n",
    "            \n",
    "            # Append the unique values to the DataFrame\n",
    "            df = pd.concat([df, temp_df]).drop_duplicates().reset_index(drop=True)\n",
    "        else:\n",
    "            # Skipping chunk without printing a message\n",
    "            pass\n",
    "\n",
    "# Optionally, reset the index of the final DataFrame\n",
    "df.reset_index(drop=True, inplace=True)\n",
    "\n",
    "# Check the final DataFrame\n",
    "print(f\"Final DataFrame has {len(df)} unique rows\")"
   ],
   "outputs": [
    {
     "name": "stderr",
     "output_type": "stream",
     "text": [
      "Processing files: 100%|██████████| 11/11 [32:56<00:00, 179.69s/it]"
     ]
    },
    {
     "name": "stdout",
     "output_type": "stream",
     "text": [
      "Final DataFrame has 467005 unique rows\n"
     ]
    },
    {
     "name": "stderr",
     "output_type": "stream",
     "text": [
      "\n"
     ]
    }
   ],
   "execution_count": 10
  },
  {
   "metadata": {
    "ExecuteTime": {
     "end_time": "2024-07-16T18:38:03.942397Z",
     "start_time": "2024-07-16T18:38:03.743717Z"
    }
   },
   "cell_type": "code",
   "source": [
    "#save df to csv file\n",
    "df.to_csv('/home/anjah/Documents/mag/BD/project/BD_project/data/NYTickets/unique_street_county.csv', index=False)"
   ],
   "outputs": [],
   "execution_count": 16
  },
  {
   "metadata": {
    "ExecuteTime": {
     "end_time": "2024-07-16T18:41:28.675563Z",
     "start_time": "2024-07-16T18:41:28.670122Z"
    }
   },
   "cell_type": "code",
   "source": "df.head()",
   "outputs": [
    {
     "data": {
      "text/plain": [
       "          Street Violation County\n",
       "0   MACDOUNGH ST                K\n",
       "1  LEXINGTON AVE                K\n",
       "2      FULTON ST                K\n",
       "3     MADISON ST                K\n",
       "4      HALSEY ST                K"
      ],
      "text/html": [
       "<div>\n",
       "<style scoped>\n",
       "    .dataframe tbody tr th:only-of-type {\n",
       "        vertical-align: middle;\n",
       "    }\n",
       "\n",
       "    .dataframe tbody tr th {\n",
       "        vertical-align: top;\n",
       "    }\n",
       "\n",
       "    .dataframe thead th {\n",
       "        text-align: right;\n",
       "    }\n",
       "</style>\n",
       "<table border=\"1\" class=\"dataframe\">\n",
       "  <thead>\n",
       "    <tr style=\"text-align: right;\">\n",
       "      <th></th>\n",
       "      <th>Street</th>\n",
       "      <th>Violation County</th>\n",
       "    </tr>\n",
       "  </thead>\n",
       "  <tbody>\n",
       "    <tr>\n",
       "      <th>0</th>\n",
       "      <td>MACDOUNGH ST</td>\n",
       "      <td>K</td>\n",
       "    </tr>\n",
       "    <tr>\n",
       "      <th>1</th>\n",
       "      <td>LEXINGTON AVE</td>\n",
       "      <td>K</td>\n",
       "    </tr>\n",
       "    <tr>\n",
       "      <th>2</th>\n",
       "      <td>FULTON ST</td>\n",
       "      <td>K</td>\n",
       "    </tr>\n",
       "    <tr>\n",
       "      <th>3</th>\n",
       "      <td>MADISON ST</td>\n",
       "      <td>K</td>\n",
       "    </tr>\n",
       "    <tr>\n",
       "      <th>4</th>\n",
       "      <td>HALSEY ST</td>\n",
       "      <td>K</td>\n",
       "    </tr>\n",
       "  </tbody>\n",
       "</table>\n",
       "</div>"
      ]
     },
     "execution_count": 21,
     "metadata": {},
     "output_type": "execute_result"
    }
   ],
   "execution_count": 21
  },
  {
   "metadata": {
    "ExecuteTime": {
     "end_time": "2024-07-16T18:37:57.684805Z",
     "start_time": "2024-07-16T18:37:57.628660Z"
    }
   },
   "cell_type": "code",
   "source": "df.dropna(inplace=True)",
   "outputs": [],
   "execution_count": 15
  },
  {
   "metadata": {
    "ExecuteTime": {
     "end_time": "2024-07-16T18:40:21.142509Z",
     "start_time": "2024-07-16T18:40:21.136796Z"
    }
   },
   "cell_type": "code",
   "source": "len(df)",
   "outputs": [
    {
     "data": {
      "text/plain": [
       "419105"
      ]
     },
     "execution_count": 19,
     "metadata": {},
     "output_type": "execute_result"
    }
   ],
   "execution_count": 19
  },
  {
   "metadata": {
    "ExecuteTime": {
     "end_time": "2024-07-16T18:40:36.543462Z",
     "start_time": "2024-07-16T18:40:36.501790Z"
    }
   },
   "cell_type": "code",
   "source": "df.loc[8, 'Street']",
   "outputs": [
    {
     "ename": "KeyError",
     "evalue": "8",
     "output_type": "error",
     "traceback": [
      "\u001B[0;31m---------------------------------------------------------------------------\u001B[0m",
      "\u001B[0;31mKeyError\u001B[0m                                  Traceback (most recent call last)",
      "File \u001B[0;32m~/miniconda3/envs/BDproj/lib/python3.9/site-packages/pandas/core/indexes/base.py:3805\u001B[0m, in \u001B[0;36mIndex.get_loc\u001B[0;34m(self, key)\u001B[0m\n\u001B[1;32m   3804\u001B[0m \u001B[38;5;28;01mtry\u001B[39;00m:\n\u001B[0;32m-> 3805\u001B[0m     \u001B[38;5;28;01mreturn\u001B[39;00m \u001B[38;5;28;43mself\u001B[39;49m\u001B[38;5;241;43m.\u001B[39;49m\u001B[43m_engine\u001B[49m\u001B[38;5;241;43m.\u001B[39;49m\u001B[43mget_loc\u001B[49m\u001B[43m(\u001B[49m\u001B[43mcasted_key\u001B[49m\u001B[43m)\u001B[49m\n\u001B[1;32m   3806\u001B[0m \u001B[38;5;28;01mexcept\u001B[39;00m \u001B[38;5;167;01mKeyError\u001B[39;00m \u001B[38;5;28;01mas\u001B[39;00m err:\n",
      "File \u001B[0;32mindex.pyx:167\u001B[0m, in \u001B[0;36mpandas._libs.index.IndexEngine.get_loc\u001B[0;34m()\u001B[0m\n",
      "File \u001B[0;32mindex.pyx:196\u001B[0m, in \u001B[0;36mpandas._libs.index.IndexEngine.get_loc\u001B[0;34m()\u001B[0m\n",
      "File \u001B[0;32mpandas/_libs/hashtable_class_helper.pxi:2606\u001B[0m, in \u001B[0;36mpandas._libs.hashtable.Int64HashTable.get_item\u001B[0;34m()\u001B[0m\n",
      "File \u001B[0;32mpandas/_libs/hashtable_class_helper.pxi:2630\u001B[0m, in \u001B[0;36mpandas._libs.hashtable.Int64HashTable.get_item\u001B[0;34m()\u001B[0m\n",
      "\u001B[0;31mKeyError\u001B[0m: 8",
      "\nThe above exception was the direct cause of the following exception:\n",
      "\u001B[0;31mKeyError\u001B[0m                                  Traceback (most recent call last)",
      "Cell \u001B[0;32mIn[20], line 1\u001B[0m\n\u001B[0;32m----> 1\u001B[0m \u001B[43mdf\u001B[49m\u001B[38;5;241;43m.\u001B[39;49m\u001B[43mloc\u001B[49m\u001B[43m[\u001B[49m\u001B[38;5;241;43m8\u001B[39;49m\u001B[43m,\u001B[49m\u001B[43m \u001B[49m\u001B[38;5;124;43m'\u001B[39;49m\u001B[38;5;124;43mStreet\u001B[39;49m\u001B[38;5;124;43m'\u001B[39;49m\u001B[43m]\u001B[49m\n",
      "File \u001B[0;32m~/miniconda3/envs/BDproj/lib/python3.9/site-packages/pandas/core/indexing.py:1183\u001B[0m, in \u001B[0;36m_LocationIndexer.__getitem__\u001B[0;34m(self, key)\u001B[0m\n\u001B[1;32m   1181\u001B[0m     key \u001B[38;5;241m=\u001B[39m \u001B[38;5;28mtuple\u001B[39m(com\u001B[38;5;241m.\u001B[39mapply_if_callable(x, \u001B[38;5;28mself\u001B[39m\u001B[38;5;241m.\u001B[39mobj) \u001B[38;5;28;01mfor\u001B[39;00m x \u001B[38;5;129;01min\u001B[39;00m key)\n\u001B[1;32m   1182\u001B[0m     \u001B[38;5;28;01mif\u001B[39;00m \u001B[38;5;28mself\u001B[39m\u001B[38;5;241m.\u001B[39m_is_scalar_access(key):\n\u001B[0;32m-> 1183\u001B[0m         \u001B[38;5;28;01mreturn\u001B[39;00m \u001B[38;5;28;43mself\u001B[39;49m\u001B[38;5;241;43m.\u001B[39;49m\u001B[43mobj\u001B[49m\u001B[38;5;241;43m.\u001B[39;49m\u001B[43m_get_value\u001B[49m\u001B[43m(\u001B[49m\u001B[38;5;241;43m*\u001B[39;49m\u001B[43mkey\u001B[49m\u001B[43m,\u001B[49m\u001B[43m \u001B[49m\u001B[43mtakeable\u001B[49m\u001B[38;5;241;43m=\u001B[39;49m\u001B[38;5;28;43mself\u001B[39;49m\u001B[38;5;241;43m.\u001B[39;49m\u001B[43m_takeable\u001B[49m\u001B[43m)\u001B[49m\n\u001B[1;32m   1184\u001B[0m     \u001B[38;5;28;01mreturn\u001B[39;00m \u001B[38;5;28mself\u001B[39m\u001B[38;5;241m.\u001B[39m_getitem_tuple(key)\n\u001B[1;32m   1185\u001B[0m \u001B[38;5;28;01melse\u001B[39;00m:\n\u001B[1;32m   1186\u001B[0m     \u001B[38;5;66;03m# we by definition only have the 0th axis\u001B[39;00m\n",
      "File \u001B[0;32m~/miniconda3/envs/BDproj/lib/python3.9/site-packages/pandas/core/frame.py:4209\u001B[0m, in \u001B[0;36mDataFrame._get_value\u001B[0;34m(self, index, col, takeable)\u001B[0m\n\u001B[1;32m   4203\u001B[0m engine \u001B[38;5;241m=\u001B[39m \u001B[38;5;28mself\u001B[39m\u001B[38;5;241m.\u001B[39mindex\u001B[38;5;241m.\u001B[39m_engine\n\u001B[1;32m   4205\u001B[0m \u001B[38;5;28;01mif\u001B[39;00m \u001B[38;5;129;01mnot\u001B[39;00m \u001B[38;5;28misinstance\u001B[39m(\u001B[38;5;28mself\u001B[39m\u001B[38;5;241m.\u001B[39mindex, MultiIndex):\n\u001B[1;32m   4206\u001B[0m     \u001B[38;5;66;03m# CategoricalIndex: Trying to use the engine fastpath may give incorrect\u001B[39;00m\n\u001B[1;32m   4207\u001B[0m     \u001B[38;5;66;03m#  results if our categories are integers that dont match our codes\u001B[39;00m\n\u001B[1;32m   4208\u001B[0m     \u001B[38;5;66;03m# IntervalIndex: IntervalTree has no get_loc\u001B[39;00m\n\u001B[0;32m-> 4209\u001B[0m     row \u001B[38;5;241m=\u001B[39m \u001B[38;5;28;43mself\u001B[39;49m\u001B[38;5;241;43m.\u001B[39;49m\u001B[43mindex\u001B[49m\u001B[38;5;241;43m.\u001B[39;49m\u001B[43mget_loc\u001B[49m\u001B[43m(\u001B[49m\u001B[43mindex\u001B[49m\u001B[43m)\u001B[49m\n\u001B[1;32m   4210\u001B[0m     \u001B[38;5;28;01mreturn\u001B[39;00m series\u001B[38;5;241m.\u001B[39m_values[row]\n\u001B[1;32m   4212\u001B[0m \u001B[38;5;66;03m# For MultiIndex going through engine effectively restricts us to\u001B[39;00m\n\u001B[1;32m   4213\u001B[0m \u001B[38;5;66;03m#  same-length tuples; see test_get_set_value_no_partial_indexing\u001B[39;00m\n",
      "File \u001B[0;32m~/miniconda3/envs/BDproj/lib/python3.9/site-packages/pandas/core/indexes/base.py:3812\u001B[0m, in \u001B[0;36mIndex.get_loc\u001B[0;34m(self, key)\u001B[0m\n\u001B[1;32m   3807\u001B[0m     \u001B[38;5;28;01mif\u001B[39;00m \u001B[38;5;28misinstance\u001B[39m(casted_key, \u001B[38;5;28mslice\u001B[39m) \u001B[38;5;129;01mor\u001B[39;00m (\n\u001B[1;32m   3808\u001B[0m         \u001B[38;5;28misinstance\u001B[39m(casted_key, abc\u001B[38;5;241m.\u001B[39mIterable)\n\u001B[1;32m   3809\u001B[0m         \u001B[38;5;129;01mand\u001B[39;00m \u001B[38;5;28many\u001B[39m(\u001B[38;5;28misinstance\u001B[39m(x, \u001B[38;5;28mslice\u001B[39m) \u001B[38;5;28;01mfor\u001B[39;00m x \u001B[38;5;129;01min\u001B[39;00m casted_key)\n\u001B[1;32m   3810\u001B[0m     ):\n\u001B[1;32m   3811\u001B[0m         \u001B[38;5;28;01mraise\u001B[39;00m InvalidIndexError(key)\n\u001B[0;32m-> 3812\u001B[0m     \u001B[38;5;28;01mraise\u001B[39;00m \u001B[38;5;167;01mKeyError\u001B[39;00m(key) \u001B[38;5;28;01mfrom\u001B[39;00m \u001B[38;5;21;01merr\u001B[39;00m\n\u001B[1;32m   3813\u001B[0m \u001B[38;5;28;01mexcept\u001B[39;00m \u001B[38;5;167;01mTypeError\u001B[39;00m:\n\u001B[1;32m   3814\u001B[0m     \u001B[38;5;66;03m# If we have a listlike key, _check_indexing_error will raise\u001B[39;00m\n\u001B[1;32m   3815\u001B[0m     \u001B[38;5;66;03m#  InvalidIndexError. Otherwise we fall through and re-raise\u001B[39;00m\n\u001B[1;32m   3816\u001B[0m     \u001B[38;5;66;03m#  the TypeError.\u001B[39;00m\n\u001B[1;32m   3817\u001B[0m     \u001B[38;5;28mself\u001B[39m\u001B[38;5;241m.\u001B[39m_check_indexing_error(key)\n",
      "\u001B[0;31mKeyError\u001B[0m: 8"
     ]
    }
   ],
   "execution_count": 20
  },
  {
   "metadata": {
    "ExecuteTime": {
     "end_time": "2024-07-16T19:16:11.581346Z",
     "start_time": "2024-07-16T18:59:55.822007Z"
    }
   },
   "cell_type": "code",
   "source": [
    "# Function to find similar street names within the same Violation County\n",
    "def find_similar_streets(group):\n",
    "    similar_streets = {}\n",
    "    for idx, row in group.iterrows():\n",
    "        matches = process.extract(row['Street'], group['Street'], scorer=fuzz.token_sort_ratio)\n",
    "        for match, score, _ in matches:\n",
    "            if match != row['Street'] and score >= 80:  # Adjust threshold as needed\n",
    "                if row['Street'] in similar_streets:\n",
    "                    similar_streets[row['Street']].append(match)\n",
    "                else:\n",
    "                    similar_streets[row['Street']] = [match]\n",
    "    return similar_streets\n",
    "\n",
    "# Apply the function within each group of Violation County\n",
    "tqdm.pandas(desc=\"Finding similar streets\")\n",
    "similarities = df.groupby('Violation County').progress_apply(find_similar_streets)\n",
    "\n",
    "# Combine results from all groups\n",
    "corresponding_streets = {}\n",
    "for similar_streets in similarities:\n",
    "    for street, matches in similar_streets.items():\n",
    "        if street in corresponding_streets:\n",
    "            corresponding_streets[street].extend(matches)\n",
    "        else:\n",
    "            corresponding_streets[street] = matches\n",
    "\n",
    "# Print results\n",
    "for street, matches in corresponding_streets.items():\n",
    "    print(f\"{street}: {', '.join(matches)}\")"
   ],
   "outputs": [
    {
     "name": "stderr",
     "output_type": "stream",
     "text": [
      "Finding similar streets:  20%|██        | 8/40 [16:15<1:05:02, 121.95s/it]\n"
     ]
    },
    {
     "ename": "KeyboardInterrupt",
     "evalue": "",
     "output_type": "error",
     "traceback": [
      "\u001B[0;31m---------------------------------------------------------------------------\u001B[0m",
      "\u001B[0;31mKeyboardInterrupt\u001B[0m                         Traceback (most recent call last)",
      "Cell \u001B[0;32mIn[34], line 16\u001B[0m\n\u001B[1;32m     14\u001B[0m \u001B[38;5;66;03m# Apply the function within each group of Violation County\u001B[39;00m\n\u001B[1;32m     15\u001B[0m tqdm\u001B[38;5;241m.\u001B[39mpandas(desc\u001B[38;5;241m=\u001B[39m\u001B[38;5;124m\"\u001B[39m\u001B[38;5;124mFinding similar streets\u001B[39m\u001B[38;5;124m\"\u001B[39m)\n\u001B[0;32m---> 16\u001B[0m similarities \u001B[38;5;241m=\u001B[39m \u001B[43mdf\u001B[49m\u001B[38;5;241;43m.\u001B[39;49m\u001B[43mgroupby\u001B[49m\u001B[43m(\u001B[49m\u001B[38;5;124;43m'\u001B[39;49m\u001B[38;5;124;43mViolation County\u001B[39;49m\u001B[38;5;124;43m'\u001B[39;49m\u001B[43m)\u001B[49m\u001B[38;5;241;43m.\u001B[39;49m\u001B[43mprogress_apply\u001B[49m\u001B[43m(\u001B[49m\u001B[43mfind_similar_streets\u001B[49m\u001B[43m)\u001B[49m\n\u001B[1;32m     18\u001B[0m \u001B[38;5;66;03m# Combine results from all groups\u001B[39;00m\n\u001B[1;32m     19\u001B[0m corresponding_streets \u001B[38;5;241m=\u001B[39m {}\n",
      "File \u001B[0;32m~/miniconda3/envs/BDproj/lib/python3.9/site-packages/tqdm/std.py:917\u001B[0m, in \u001B[0;36mtqdm.pandas.<locals>.inner_generator.<locals>.inner\u001B[0;34m(df, func, *args, **kwargs)\u001B[0m\n\u001B[1;32m    914\u001B[0m \u001B[38;5;66;03m# Apply the provided function (in **kwargs)\u001B[39;00m\n\u001B[1;32m    915\u001B[0m \u001B[38;5;66;03m# on the df using our wrapper (which provides bar updating)\u001B[39;00m\n\u001B[1;32m    916\u001B[0m \u001B[38;5;28;01mtry\u001B[39;00m:\n\u001B[0;32m--> 917\u001B[0m     \u001B[38;5;28;01mreturn\u001B[39;00m \u001B[38;5;28;43mgetattr\u001B[39;49m\u001B[43m(\u001B[49m\u001B[43mdf\u001B[49m\u001B[43m,\u001B[49m\u001B[43m \u001B[49m\u001B[43mdf_function\u001B[49m\u001B[43m)\u001B[49m\u001B[43m(\u001B[49m\u001B[43mwrapper\u001B[49m\u001B[43m,\u001B[49m\u001B[43m \u001B[49m\u001B[38;5;241;43m*\u001B[39;49m\u001B[38;5;241;43m*\u001B[39;49m\u001B[43mkwargs\u001B[49m\u001B[43m)\u001B[49m\n\u001B[1;32m    918\u001B[0m \u001B[38;5;28;01mfinally\u001B[39;00m:\n\u001B[1;32m    919\u001B[0m     t\u001B[38;5;241m.\u001B[39mclose()\n",
      "File \u001B[0;32m~/miniconda3/envs/BDproj/lib/python3.9/site-packages/pandas/core/groupby/groupby.py:1824\u001B[0m, in \u001B[0;36mGroupBy.apply\u001B[0;34m(self, func, include_groups, *args, **kwargs)\u001B[0m\n\u001B[1;32m   1822\u001B[0m \u001B[38;5;28;01mwith\u001B[39;00m option_context(\u001B[38;5;124m\"\u001B[39m\u001B[38;5;124mmode.chained_assignment\u001B[39m\u001B[38;5;124m\"\u001B[39m, \u001B[38;5;28;01mNone\u001B[39;00m):\n\u001B[1;32m   1823\u001B[0m     \u001B[38;5;28;01mtry\u001B[39;00m:\n\u001B[0;32m-> 1824\u001B[0m         result \u001B[38;5;241m=\u001B[39m \u001B[38;5;28;43mself\u001B[39;49m\u001B[38;5;241;43m.\u001B[39;49m\u001B[43m_python_apply_general\u001B[49m\u001B[43m(\u001B[49m\u001B[43mf\u001B[49m\u001B[43m,\u001B[49m\u001B[43m \u001B[49m\u001B[38;5;28;43mself\u001B[39;49m\u001B[38;5;241;43m.\u001B[39;49m\u001B[43m_selected_obj\u001B[49m\u001B[43m)\u001B[49m\n\u001B[1;32m   1825\u001B[0m         \u001B[38;5;28;01mif\u001B[39;00m (\n\u001B[1;32m   1826\u001B[0m             \u001B[38;5;129;01mnot\u001B[39;00m \u001B[38;5;28misinstance\u001B[39m(\u001B[38;5;28mself\u001B[39m\u001B[38;5;241m.\u001B[39mobj, Series)\n\u001B[1;32m   1827\u001B[0m             \u001B[38;5;129;01mand\u001B[39;00m \u001B[38;5;28mself\u001B[39m\u001B[38;5;241m.\u001B[39m_selection \u001B[38;5;129;01mis\u001B[39;00m \u001B[38;5;28;01mNone\u001B[39;00m\n\u001B[1;32m   1828\u001B[0m             \u001B[38;5;129;01mand\u001B[39;00m \u001B[38;5;28mself\u001B[39m\u001B[38;5;241m.\u001B[39m_selected_obj\u001B[38;5;241m.\u001B[39mshape \u001B[38;5;241m!=\u001B[39m \u001B[38;5;28mself\u001B[39m\u001B[38;5;241m.\u001B[39m_obj_with_exclusions\u001B[38;5;241m.\u001B[39mshape\n\u001B[1;32m   1829\u001B[0m         ):\n\u001B[1;32m   1830\u001B[0m             warnings\u001B[38;5;241m.\u001B[39mwarn(\n\u001B[1;32m   1831\u001B[0m                 message\u001B[38;5;241m=\u001B[39m_apply_groupings_depr\u001B[38;5;241m.\u001B[39mformat(\n\u001B[1;32m   1832\u001B[0m                     \u001B[38;5;28mtype\u001B[39m(\u001B[38;5;28mself\u001B[39m)\u001B[38;5;241m.\u001B[39m\u001B[38;5;18m__name__\u001B[39m, \u001B[38;5;124m\"\u001B[39m\u001B[38;5;124mapply\u001B[39m\u001B[38;5;124m\"\u001B[39m\n\u001B[0;32m   (...)\u001B[0m\n\u001B[1;32m   1835\u001B[0m                 stacklevel\u001B[38;5;241m=\u001B[39mfind_stack_level(),\n\u001B[1;32m   1836\u001B[0m             )\n",
      "File \u001B[0;32m~/miniconda3/envs/BDproj/lib/python3.9/site-packages/pandas/core/groupby/groupby.py:1885\u001B[0m, in \u001B[0;36mGroupBy._python_apply_general\u001B[0;34m(self, f, data, not_indexed_same, is_transform, is_agg)\u001B[0m\n\u001B[1;32m   1850\u001B[0m \u001B[38;5;129m@final\u001B[39m\n\u001B[1;32m   1851\u001B[0m \u001B[38;5;28;01mdef\u001B[39;00m \u001B[38;5;21m_python_apply_general\u001B[39m(\n\u001B[1;32m   1852\u001B[0m     \u001B[38;5;28mself\u001B[39m,\n\u001B[0;32m   (...)\u001B[0m\n\u001B[1;32m   1857\u001B[0m     is_agg: \u001B[38;5;28mbool\u001B[39m \u001B[38;5;241m=\u001B[39m \u001B[38;5;28;01mFalse\u001B[39;00m,\n\u001B[1;32m   1858\u001B[0m ) \u001B[38;5;241m-\u001B[39m\u001B[38;5;241m>\u001B[39m NDFrameT:\n\u001B[1;32m   1859\u001B[0m \u001B[38;5;250m    \u001B[39m\u001B[38;5;124;03m\"\"\"\u001B[39;00m\n\u001B[1;32m   1860\u001B[0m \u001B[38;5;124;03m    Apply function f in python space\u001B[39;00m\n\u001B[1;32m   1861\u001B[0m \n\u001B[0;32m   (...)\u001B[0m\n\u001B[1;32m   1883\u001B[0m \u001B[38;5;124;03m        data after applying f\u001B[39;00m\n\u001B[1;32m   1884\u001B[0m \u001B[38;5;124;03m    \"\"\"\u001B[39;00m\n\u001B[0;32m-> 1885\u001B[0m     values, mutated \u001B[38;5;241m=\u001B[39m \u001B[38;5;28;43mself\u001B[39;49m\u001B[38;5;241;43m.\u001B[39;49m\u001B[43m_grouper\u001B[49m\u001B[38;5;241;43m.\u001B[39;49m\u001B[43mapply_groupwise\u001B[49m\u001B[43m(\u001B[49m\u001B[43mf\u001B[49m\u001B[43m,\u001B[49m\u001B[43m \u001B[49m\u001B[43mdata\u001B[49m\u001B[43m,\u001B[49m\u001B[43m \u001B[49m\u001B[38;5;28;43mself\u001B[39;49m\u001B[38;5;241;43m.\u001B[39;49m\u001B[43maxis\u001B[49m\u001B[43m)\u001B[49m\n\u001B[1;32m   1886\u001B[0m     \u001B[38;5;28;01mif\u001B[39;00m not_indexed_same \u001B[38;5;129;01mis\u001B[39;00m \u001B[38;5;28;01mNone\u001B[39;00m:\n\u001B[1;32m   1887\u001B[0m         not_indexed_same \u001B[38;5;241m=\u001B[39m mutated\n",
      "File \u001B[0;32m~/miniconda3/envs/BDproj/lib/python3.9/site-packages/pandas/core/groupby/ops.py:919\u001B[0m, in \u001B[0;36mBaseGrouper.apply_groupwise\u001B[0;34m(self, f, data, axis)\u001B[0m\n\u001B[1;32m    917\u001B[0m \u001B[38;5;66;03m# group might be modified\u001B[39;00m\n\u001B[1;32m    918\u001B[0m group_axes \u001B[38;5;241m=\u001B[39m group\u001B[38;5;241m.\u001B[39maxes\n\u001B[0;32m--> 919\u001B[0m res \u001B[38;5;241m=\u001B[39m \u001B[43mf\u001B[49m\u001B[43m(\u001B[49m\u001B[43mgroup\u001B[49m\u001B[43m)\u001B[49m\n\u001B[1;32m    920\u001B[0m \u001B[38;5;28;01mif\u001B[39;00m \u001B[38;5;129;01mnot\u001B[39;00m mutated \u001B[38;5;129;01mand\u001B[39;00m \u001B[38;5;129;01mnot\u001B[39;00m _is_indexed_like(res, group_axes, axis):\n\u001B[1;32m    921\u001B[0m     mutated \u001B[38;5;241m=\u001B[39m \u001B[38;5;28;01mTrue\u001B[39;00m\n",
      "File \u001B[0;32m~/miniconda3/envs/BDproj/lib/python3.9/site-packages/tqdm/std.py:912\u001B[0m, in \u001B[0;36mtqdm.pandas.<locals>.inner_generator.<locals>.inner.<locals>.wrapper\u001B[0;34m(*args, **kwargs)\u001B[0m\n\u001B[1;32m    906\u001B[0m \u001B[38;5;28;01mdef\u001B[39;00m \u001B[38;5;21mwrapper\u001B[39m(\u001B[38;5;241m*\u001B[39margs, \u001B[38;5;241m*\u001B[39m\u001B[38;5;241m*\u001B[39mkwargs):\n\u001B[1;32m    907\u001B[0m     \u001B[38;5;66;03m# update tbar correctly\u001B[39;00m\n\u001B[1;32m    908\u001B[0m     \u001B[38;5;66;03m# it seems `pandas apply` calls `func` twice\u001B[39;00m\n\u001B[1;32m    909\u001B[0m     \u001B[38;5;66;03m# on the first column/row to decide whether it can\u001B[39;00m\n\u001B[1;32m    910\u001B[0m     \u001B[38;5;66;03m# take a fast or slow code path; so stop when t.total==t.n\u001B[39;00m\n\u001B[1;32m    911\u001B[0m     t\u001B[38;5;241m.\u001B[39mupdate(n\u001B[38;5;241m=\u001B[39m\u001B[38;5;241m1\u001B[39m \u001B[38;5;28;01mif\u001B[39;00m \u001B[38;5;129;01mnot\u001B[39;00m t\u001B[38;5;241m.\u001B[39mtotal \u001B[38;5;129;01mor\u001B[39;00m t\u001B[38;5;241m.\u001B[39mn \u001B[38;5;241m<\u001B[39m t\u001B[38;5;241m.\u001B[39mtotal \u001B[38;5;28;01melse\u001B[39;00m \u001B[38;5;241m0\u001B[39m)\n\u001B[0;32m--> 912\u001B[0m     \u001B[38;5;28;01mreturn\u001B[39;00m \u001B[43mfunc\u001B[49m\u001B[43m(\u001B[49m\u001B[38;5;241;43m*\u001B[39;49m\u001B[43margs\u001B[49m\u001B[43m,\u001B[49m\u001B[43m \u001B[49m\u001B[38;5;241;43m*\u001B[39;49m\u001B[38;5;241;43m*\u001B[39;49m\u001B[43mkwargs\u001B[49m\u001B[43m)\u001B[49m\n",
      "Cell \u001B[0;32mIn[34], line 5\u001B[0m, in \u001B[0;36mfind_similar_streets\u001B[0;34m(group)\u001B[0m\n\u001B[1;32m      3\u001B[0m similar_streets \u001B[38;5;241m=\u001B[39m {}\n\u001B[1;32m      4\u001B[0m \u001B[38;5;28;01mfor\u001B[39;00m idx, row \u001B[38;5;129;01min\u001B[39;00m group\u001B[38;5;241m.\u001B[39miterrows():\n\u001B[0;32m----> 5\u001B[0m     matches \u001B[38;5;241m=\u001B[39m \u001B[43mprocess\u001B[49m\u001B[38;5;241;43m.\u001B[39;49m\u001B[43mextract\u001B[49m\u001B[43m(\u001B[49m\u001B[43mrow\u001B[49m\u001B[43m[\u001B[49m\u001B[38;5;124;43m'\u001B[39;49m\u001B[38;5;124;43mStreet\u001B[39;49m\u001B[38;5;124;43m'\u001B[39;49m\u001B[43m]\u001B[49m\u001B[43m,\u001B[49m\u001B[43m \u001B[49m\u001B[43mgroup\u001B[49m\u001B[43m[\u001B[49m\u001B[38;5;124;43m'\u001B[39;49m\u001B[38;5;124;43mStreet\u001B[39;49m\u001B[38;5;124;43m'\u001B[39;49m\u001B[43m]\u001B[49m\u001B[43m,\u001B[49m\u001B[43m \u001B[49m\u001B[43mscorer\u001B[49m\u001B[38;5;241;43m=\u001B[39;49m\u001B[43mfuzz\u001B[49m\u001B[38;5;241;43m.\u001B[39;49m\u001B[43mtoken_sort_ratio\u001B[49m\u001B[43m)\u001B[49m\n\u001B[1;32m      6\u001B[0m     \u001B[38;5;28;01mfor\u001B[39;00m match, score, _ \u001B[38;5;129;01min\u001B[39;00m matches:\n\u001B[1;32m      7\u001B[0m         \u001B[38;5;28;01mif\u001B[39;00m match \u001B[38;5;241m!=\u001B[39m row[\u001B[38;5;124m'\u001B[39m\u001B[38;5;124mStreet\u001B[39m\u001B[38;5;124m'\u001B[39m] \u001B[38;5;129;01mand\u001B[39;00m score \u001B[38;5;241m>\u001B[39m\u001B[38;5;241m=\u001B[39m \u001B[38;5;241m80\u001B[39m:  \u001B[38;5;66;03m# Adjust threshold as needed\u001B[39;00m\n",
      "File \u001B[0;32m~/miniconda3/envs/BDproj/lib/python3.9/site-packages/fuzzywuzzy/process.py:168\u001B[0m, in \u001B[0;36mextract\u001B[0;34m(query, choices, processor, scorer, limit)\u001B[0m\n\u001B[1;32m    123\u001B[0m \u001B[38;5;250m\u001B[39m\u001B[38;5;124;03m\"\"\"Select the best match in a list or dictionary of choices.\u001B[39;00m\n\u001B[1;32m    124\u001B[0m \n\u001B[1;32m    125\u001B[0m \u001B[38;5;124;03mFind best matches in a list or dictionary of choices, return a\u001B[39;00m\n\u001B[0;32m   (...)\u001B[0m\n\u001B[1;32m    165\u001B[0m \u001B[38;5;124;03m    [('train', 22, 'bard'), ('man', 0, 'dog')]\u001B[39;00m\n\u001B[1;32m    166\u001B[0m \u001B[38;5;124;03m\"\"\"\u001B[39;00m\n\u001B[1;32m    167\u001B[0m sl \u001B[38;5;241m=\u001B[39m extractWithoutOrder(query, choices, processor, scorer)\n\u001B[0;32m--> 168\u001B[0m \u001B[38;5;28;01mreturn\u001B[39;00m \u001B[43mheapq\u001B[49m\u001B[38;5;241;43m.\u001B[39;49m\u001B[43mnlargest\u001B[49m\u001B[43m(\u001B[49m\u001B[43mlimit\u001B[49m\u001B[43m,\u001B[49m\u001B[43m \u001B[49m\u001B[43msl\u001B[49m\u001B[43m,\u001B[49m\u001B[43m \u001B[49m\u001B[43mkey\u001B[49m\u001B[38;5;241;43m=\u001B[39;49m\u001B[38;5;28;43;01mlambda\u001B[39;49;00m\u001B[43m \u001B[49m\u001B[43mi\u001B[49m\u001B[43m:\u001B[49m\u001B[43m \u001B[49m\u001B[43mi\u001B[49m\u001B[43m[\u001B[49m\u001B[38;5;241;43m1\u001B[39;49m\u001B[43m]\u001B[49m\u001B[43m)\u001B[49m \u001B[38;5;28;01mif\u001B[39;00m limit \u001B[38;5;129;01mis\u001B[39;00m \u001B[38;5;129;01mnot\u001B[39;00m \u001B[38;5;28;01mNone\u001B[39;00m \u001B[38;5;28;01melse\u001B[39;00m \\\n\u001B[1;32m    169\u001B[0m     \u001B[38;5;28msorted\u001B[39m(sl, key\u001B[38;5;241m=\u001B[39m\u001B[38;5;28;01mlambda\u001B[39;00m i: i[\u001B[38;5;241m1\u001B[39m], reverse\u001B[38;5;241m=\u001B[39m\u001B[38;5;28;01mTrue\u001B[39;00m)\n",
      "File \u001B[0;32m~/miniconda3/envs/BDproj/lib/python3.9/heapq.py:570\u001B[0m, in \u001B[0;36mnlargest\u001B[0;34m(n, iterable, key)\u001B[0m\n\u001B[1;32m    568\u001B[0m order \u001B[38;5;241m=\u001B[39m \u001B[38;5;241m-\u001B[39mn\n\u001B[1;32m    569\u001B[0m _heapreplace \u001B[38;5;241m=\u001B[39m heapreplace\n\u001B[0;32m--> 570\u001B[0m \u001B[38;5;28;01mfor\u001B[39;00m elem \u001B[38;5;129;01min\u001B[39;00m it:\n\u001B[1;32m    571\u001B[0m     k \u001B[38;5;241m=\u001B[39m key(elem)\n\u001B[1;32m    572\u001B[0m     \u001B[38;5;28;01mif\u001B[39;00m top \u001B[38;5;241m<\u001B[39m k:\n",
      "File \u001B[0;32m~/miniconda3/envs/BDproj/lib/python3.9/site-packages/fuzzywuzzy/process.py:109\u001B[0m, in \u001B[0;36mextractWithoutOrder\u001B[0;34m(query, choices, processor, scorer, score_cutoff)\u001B[0m\n\u001B[1;32m    106\u001B[0m \u001B[38;5;28;01mtry\u001B[39;00m:\n\u001B[1;32m    107\u001B[0m     \u001B[38;5;66;03m# See if choices is a dictionary-like object.\u001B[39;00m\n\u001B[1;32m    108\u001B[0m     \u001B[38;5;28;01mfor\u001B[39;00m key, choice \u001B[38;5;129;01min\u001B[39;00m choices\u001B[38;5;241m.\u001B[39mitems():\n\u001B[0;32m--> 109\u001B[0m         processed \u001B[38;5;241m=\u001B[39m \u001B[43mpre_processor\u001B[49m\u001B[43m(\u001B[49m\u001B[43mprocessor\u001B[49m\u001B[43m(\u001B[49m\u001B[43mchoice\u001B[49m\u001B[43m)\u001B[49m\u001B[43m)\u001B[49m\n\u001B[1;32m    110\u001B[0m         score \u001B[38;5;241m=\u001B[39m scorer(processed_query, processed)\n\u001B[1;32m    111\u001B[0m         \u001B[38;5;28;01mif\u001B[39;00m score \u001B[38;5;241m>\u001B[39m\u001B[38;5;241m=\u001B[39m score_cutoff:\n",
      "File \u001B[0;32m~/miniconda3/envs/BDproj/lib/python3.9/site-packages/fuzzywuzzy/utils.py:95\u001B[0m, in \u001B[0;36mfull_process\u001B[0;34m(s, force_ascii)\u001B[0m\n\u001B[1;32m     93\u001B[0m     s \u001B[38;5;241m=\u001B[39m asciidammit(s)\n\u001B[1;32m     94\u001B[0m \u001B[38;5;66;03m# Keep only Letters and Numbers (see Unicode docs).\u001B[39;00m\n\u001B[0;32m---> 95\u001B[0m string_out \u001B[38;5;241m=\u001B[39m \u001B[43mStringProcessor\u001B[49m\u001B[38;5;241;43m.\u001B[39;49m\u001B[43mreplace_non_letters_non_numbers_with_whitespace\u001B[49m\u001B[43m(\u001B[49m\u001B[43ms\u001B[49m\u001B[43m)\u001B[49m\n\u001B[1;32m     96\u001B[0m \u001B[38;5;66;03m# Force into lowercase.\u001B[39;00m\n\u001B[1;32m     97\u001B[0m string_out \u001B[38;5;241m=\u001B[39m StringProcessor\u001B[38;5;241m.\u001B[39mto_lower_case(string_out)\n",
      "File \u001B[0;32m~/miniconda3/envs/BDproj/lib/python3.9/site-packages/fuzzywuzzy/string_processing.py:26\u001B[0m, in \u001B[0;36mStringProcessor.replace_non_letters_non_numbers_with_whitespace\u001B[0;34m(cls, a_string)\u001B[0m\n\u001B[1;32m     20\u001B[0m \u001B[38;5;129m@classmethod\u001B[39m\n\u001B[1;32m     21\u001B[0m \u001B[38;5;28;01mdef\u001B[39;00m \u001B[38;5;21mreplace_non_letters_non_numbers_with_whitespace\u001B[39m(\u001B[38;5;28mcls\u001B[39m, a_string):\n\u001B[1;32m     22\u001B[0m \u001B[38;5;250m    \u001B[39m\u001B[38;5;124;03m\"\"\"\u001B[39;00m\n\u001B[1;32m     23\u001B[0m \u001B[38;5;124;03m    This function replaces any sequence of non letters and non\u001B[39;00m\n\u001B[1;32m     24\u001B[0m \u001B[38;5;124;03m    numbers with a single white space.\u001B[39;00m\n\u001B[1;32m     25\u001B[0m \u001B[38;5;124;03m    \"\"\"\u001B[39;00m\n\u001B[0;32m---> 26\u001B[0m     \u001B[38;5;28;01mreturn\u001B[39;00m \u001B[38;5;28;43mcls\u001B[39;49m\u001B[38;5;241;43m.\u001B[39;49m\u001B[43mregex\u001B[49m\u001B[38;5;241;43m.\u001B[39;49m\u001B[43msub\u001B[49m\u001B[43m(\u001B[49m\u001B[38;5;124;43m\"\u001B[39;49m\u001B[38;5;124;43m \u001B[39;49m\u001B[38;5;124;43m\"\u001B[39;49m\u001B[43m,\u001B[49m\u001B[43m \u001B[49m\u001B[43ma_string\u001B[49m\u001B[43m)\u001B[49m\n",
      "\u001B[0;31mKeyboardInterrupt\u001B[0m: "
     ]
    }
   ],
   "execution_count": 34
  },
  {
   "metadata": {},
   "cell_type": "code",
   "outputs": [],
   "execution_count": null,
   "source": "#read /home/anjah/Documents/mag/BD/project/BD_project/data/augmented/2014_augmented.parquet and transform it into a csv file"
  },
  {
   "metadata": {
    "ExecuteTime": {
     "end_time": "2024-07-27T18:41:28.339498Z",
     "start_time": "2024-07-27T18:41:28.336855Z"
    }
   },
   "cell_type": "code",
   "source": [
    "#get all filepaths in /home/anjah/Documents/mag/BD/project/BD_project/data/augmented directory\n",
    "filepaths = glob.glob('/home/anjah/Documents/mag/BD/project/BD_project/data/augmented/*.parquet')"
   ],
   "outputs": [],
   "execution_count": 2
  },
  {
   "metadata": {
    "jupyter": {
     "is_executing": true
    },
    "ExecuteTime": {
     "start_time": "2024-07-27T18:41:50.953738Z"
    }
   },
   "cell_type": "code",
   "source": [
    "for filepath in filepaths:\n",
    "    # Read the augmented data\n",
    "    print(f\"Reading {filepath}\")\n",
    "    augmented_data = pd.read_parquet(filepath)\n",
    "\n",
    "    # Save the augmented data to a CSV file\n",
    "    augmented_data.to_csv(filepath.replace('.parquet', '.csv'), index=False)"
   ],
   "outputs": [
    {
     "name": "stdout",
     "output_type": "stream",
     "text": [
      "Reading /home/anjah/Documents/mag/BD/project/BD_project/data/augmented/2020_augmented.parquet\n"
     ]
    }
   ],
   "execution_count": null
  },
  {
   "metadata": {
    "ExecuteTime": {
     "end_time": "2024-08-05T15:05:26.681588Z",
     "start_time": "2024-08-05T15:05:26.677324Z"
    }
   },
   "cell_type": "code",
   "source": "from collections import defaultdict",
   "outputs": [],
   "execution_count": 1
  },
  {
   "metadata": {
    "ExecuteTime": {
     "end_time": "2024-08-05T15:05:43.261023Z",
     "start_time": "2024-08-05T15:05:43.258544Z"
    }
   },
   "cell_type": "code",
   "source": "count_tickets_day = defaultdict(float)",
   "outputs": [],
   "execution_count": 2
  },
  {
   "metadata": {
    "ExecuteTime": {
     "end_time": "2024-08-05T15:06:24.663577Z",
     "start_time": "2024-08-05T15:06:24.661301Z"
    }
   },
   "cell_type": "code",
   "source": [
    "count_tickets_day['Monday'] += 1\n",
    "count_tickets_day['Tuesday'] += 5"
   ],
   "outputs": [],
   "execution_count": 7
  },
  {
   "metadata": {
    "ExecuteTime": {
     "end_time": "2024-08-05T15:06:26.826903Z",
     "start_time": "2024-08-05T15:06:26.822429Z"
    }
   },
   "cell_type": "code",
   "source": "count_tickets_day",
   "outputs": [
    {
     "data": {
      "text/plain": [
       "defaultdict(float, {'Monday': 3.0, 'Tuesday': 10.0})"
      ]
     },
     "execution_count": 8,
     "metadata": {},
     "output_type": "execute_result"
    }
   ],
   "execution_count": 8
  },
  {
   "metadata": {
    "ExecuteTime": {
     "end_time": "2024-08-05T17:04:09.230766Z",
     "start_time": "2024-08-05T17:04:09.228494Z"
    }
   },
   "cell_type": "code",
   "source": [
    "import datetime\n",
    "import fiscalyear\n",
    "from fiscalyear import *\n",
    "import math"
   ],
   "outputs": [],
   "execution_count": 24
  },
  {
   "metadata": {
    "ExecuteTime": {
     "end_time": "2024-08-05T16:47:52.001659Z",
     "start_time": "2024-08-05T16:47:51.999076Z"
    }
   },
   "cell_type": "code",
   "source": [
    "now = datetime.datetime.now()\n",
    "#get fiscal week\n",
    "fiscal_week = now.strftime(\"%V\")"
   ],
   "outputs": [],
   "execution_count": 10
  },
  {
   "metadata": {
    "ExecuteTime": {
     "end_time": "2024-08-05T16:47:55.098303Z",
     "start_time": "2024-08-05T16:47:55.095285Z"
    }
   },
   "cell_type": "code",
   "source": "fiscal_week",
   "outputs": [
    {
     "data": {
      "text/plain": [
       "'32'"
      ]
     },
     "execution_count": 11,
     "metadata": {},
     "output_type": "execute_result"
    }
   ],
   "execution_count": 11
  },
  {
   "metadata": {
    "ExecuteTime": {
     "end_time": "2024-08-05T17:00:13.332303Z",
     "start_time": "2024-08-05T17:00:13.329614Z"
    }
   },
   "cell_type": "code",
   "source": "fiscalyear.setup_fiscal_calendar(start_month=7)",
   "outputs": [],
   "execution_count": 14
  },
  {
   "metadata": {
    "ExecuteTime": {
     "end_time": "2024-08-05T17:02:39.048536Z",
     "start_time": "2024-08-05T17:02:39.046506Z"
    }
   },
   "cell_type": "code",
   "source": "e = FiscalDateTime.now()",
   "outputs": [],
   "execution_count": 20
  },
  {
   "metadata": {
    "ExecuteTime": {
     "end_time": "2024-08-05T18:40:33.925672Z",
     "start_time": "2024-08-05T18:40:33.914259Z"
    }
   },
   "cell_type": "code",
   "source": "e = FiscalDateTime(now)",
   "outputs": [
    {
     "ename": "TypeError",
     "evalue": "an integer is required (got type datetime.datetime)",
     "output_type": "error",
     "traceback": [
      "\u001B[0;31m---------------------------------------------------------------------------\u001B[0m",
      "\u001B[0;31mTypeError\u001B[0m                                 Traceback (most recent call last)",
      "Cell \u001B[0;32mIn[26], line 1\u001B[0m\n\u001B[0;32m----> 1\u001B[0m e \u001B[38;5;241m=\u001B[39m \u001B[43mFiscalDateTime\u001B[49m\u001B[43m(\u001B[49m\u001B[43mnow\u001B[49m\u001B[43m)\u001B[49m\n",
      "\u001B[0;31mTypeError\u001B[0m: an integer is required (got type datetime.datetime)"
     ]
    }
   ],
   "execution_count": 26
  },
  {
   "metadata": {
    "ExecuteTime": {
     "end_time": "2024-08-05T17:04:24.558014Z",
     "start_time": "2024-08-05T17:04:24.554252Z"
    }
   },
   "cell_type": "code",
   "source": [
    "#round up \n",
    "math.ceil(e.fiscal_day/7)"
   ],
   "outputs": [
    {
     "data": {
      "text/plain": [
       "6"
      ]
     },
     "execution_count": 25,
     "metadata": {},
     "output_type": "execute_result"
    }
   ],
   "execution_count": 25
  },
  {
   "metadata": {
    "ExecuteTime": {
     "end_time": "2024-08-05T17:01:07.870530Z",
     "start_time": "2024-08-05T17:01:07.866457Z"
    }
   },
   "cell_type": "code",
   "source": "FiscalYear(2014).start",
   "outputs": [
    {
     "data": {
      "text/plain": [
       "FiscalDateTime(2013, 7, 1, 0, 0)"
      ]
     },
     "execution_count": 18,
     "metadata": {},
     "output_type": "execute_result"
    }
   ],
   "execution_count": 18
  },
  {
   "metadata": {
    "ExecuteTime": {
     "end_time": "2024-08-05T17:01:45.921364Z",
     "start_time": "2024-08-05T17:01:45.739966Z"
    }
   },
   "cell_type": "code",
   "source": [
    "#get the fiscal week of today\n",
    "fiscal_week = FiscalYear(2014).week(now)"
   ],
   "outputs": [
    {
     "ename": "AttributeError",
     "evalue": "'FiscalYear' object has no attribute 'week'",
     "output_type": "error",
     "traceback": [
      "\u001B[0;31m---------------------------------------------------------------------------\u001B[0m",
      "\u001B[0;31mAttributeError\u001B[0m                            Traceback (most recent call last)",
      "Cell \u001B[0;32mIn[19], line 2\u001B[0m\n\u001B[1;32m      1\u001B[0m \u001B[38;5;66;03m#get the fiscal week of today\u001B[39;00m\n\u001B[0;32m----> 2\u001B[0m fiscal_week \u001B[38;5;241m=\u001B[39m \u001B[43mFiscalYear\u001B[49m\u001B[43m(\u001B[49m\u001B[38;5;241;43m2014\u001B[39;49m\u001B[43m)\u001B[49m\u001B[38;5;241;43m.\u001B[39;49m\u001B[43mweek\u001B[49m(now)\n",
      "\u001B[0;31mAttributeError\u001B[0m: 'FiscalYear' object has no attribute 'week'"
     ]
    }
   ],
   "execution_count": 19
  },
  {
   "metadata": {
    "ExecuteTime": {
     "end_time": "2024-08-09T13:49:53.735889Z",
     "start_time": "2024-08-09T13:49:53.733207Z"
    }
   },
   "cell_type": "code",
   "source": "012+12\n",
   "outputs": [
    {
     "ename": "SyntaxError",
     "evalue": "leading zeros in decimal integer literals are not permitted; use an 0o prefix for octal integers (644555677.py, line 1)",
     "output_type": "error",
     "traceback": [
      "\u001B[0;36m  Cell \u001B[0;32mIn[3], line 1\u001B[0;36m\u001B[0m\n\u001B[0;31m    012+12\u001B[0m\n\u001B[0m      ^\u001B[0m\n\u001B[0;31mSyntaxError\u001B[0m\u001B[0;31m:\u001B[0m leading zeros in decimal integer literals are not permitted; use an 0o prefix for octal integers\n"
     ]
    }
   ],
   "execution_count": 3
  },
  {
   "metadata": {
    "ExecuteTime": {
     "end_time": "2024-08-11T08:59:31.440536Z",
     "start_time": "2024-08-11T08:59:31.435175Z"
    }
   },
   "cell_type": "code",
   "source": [
    "from collections import defaultdict\n",
    "\n",
    "# Create a defaultdict where each value is another defaultdict for boroughs\n",
    "day_borough_counts = defaultdict(lambda: defaultdict(int))\n",
    "\n",
    "# Function to update counts\n",
    "def update_count(day, borough, count):\n",
    "    day_borough_counts[day][borough] += count\n",
    "\n",
    "# Example usage:\n",
    "# Assume 'day' is an integer where 0 = Monday, 1 = Tuesday, ..., 6 = Sunday\n",
    "update_count(0, 'Manhattan', 1)  # Increment Monday count for Manhattan\n",
    "update_count(2, 'Brooklyn', 3)   # Increment Wednesday count for Brooklyn by 3\n",
    "\n",
    "# To access the counts:\n",
    "for day, borough_counts in day_borough_counts.items():\n",
    "    print(f\"Day {day}: {dict(borough_counts)}\")\n"
   ],
   "outputs": [
    {
     "name": "stdout",
     "output_type": "stream",
     "text": [
      "Day 0: {'Manhattan': 1}\n",
      "Day 2: {'Brooklyn': 3}\n"
     ]
    }
   ],
   "execution_count": 9
  },
  {
   "metadata": {
    "ExecuteTime": {
     "end_time": "2024-08-11T14:39:16.755886Z",
     "start_time": "2024-08-11T14:39:16.752656Z"
    }
   },
   "cell_type": "code",
   "source": [
    "from collections import defaultdict\n",
    "import statistics\n",
    "\n",
    "# Create a defaultdict to store lists of counts for each borough on each day\n",
    "weekly_counts = defaultdict(lambda: defaultdict(int))\n",
    "\n",
    "# Function to update weekly counts\n",
    "def update_weekly_count(week_number, day, borough, count):\n",
    "    # Add the count to the list for the given borough on the specified day\n",
    "    weekly_counts[day][borough]+= count\n",
    "\n",
    "# Example usage\n",
    "# Assume 'day' is a string representing the day of the week (e.g., \"Monday\", \"Tuesday\", etc.)\n",
    "for i in range(1, 8):\n",
    "    update_weekly_count(1, 'Monday', 'Manhattan', i)\n",
    "    update_weekly_count(1, 'Monday', 'Brooklyn', i)\n",
    "    update_weekly_count(1, 'Tuesday', 'Manhattan', i)\n",
    "    update_weekly_count(1, 'Tuesday', 'Brooklyn', i)"
   ],
   "outputs": [],
   "execution_count": 18
  },
  {
   "metadata": {
    "ExecuteTime": {
     "end_time": "2024-08-11T14:39:18.880018Z",
     "start_time": "2024-08-11T14:39:18.876925Z"
    }
   },
   "cell_type": "code",
   "source": "weekly_counts",
   "outputs": [
    {
     "data": {
      "text/plain": [
       "defaultdict(<function __main__.<lambda>()>,\n",
       "            {'Monday': defaultdict(int, {'Manhattan': 28, 'Brooklyn': 28}),\n",
       "             'Tuesday': defaultdict(int, {'Manhattan': 28, 'Brooklyn': 28})})"
      ]
     },
     "execution_count": 19,
     "metadata": {},
     "output_type": "execute_result"
    }
   ],
   "execution_count": 19
  },
  {
   "metadata": {
    "ExecuteTime": {
     "end_time": "2024-08-11T14:36:57.625194Z",
     "start_time": "2024-08-11T14:36:57.621427Z"
    }
   },
   "cell_type": "code",
   "source": "weekly_counts['Monday']['Manhattan']",
   "outputs": [
    {
     "data": {
      "text/plain": [
       "[1, 2, 3, 4, 5, 6, 7]"
      ]
     },
     "execution_count": 16,
     "metadata": {},
     "output_type": "execute_result"
    }
   ],
   "execution_count": 16
  }
 ],
 "metadata": {
  "kernelspec": {
   "display_name": "BDproj",
   "language": "python",
   "name": "python3"
  },
  "language_info": {
   "codemirror_mode": {
    "name": "ipython",
    "version": 3
   },
   "file_extension": ".py",
   "mimetype": "text/x-python",
   "name": "python",
   "nbconvert_exporter": "python",
   "pygments_lexer": "ipython3",
   "version": "3.9.19"
  }
 },
 "nbformat": 4,
 "nbformat_minor": 2
}
