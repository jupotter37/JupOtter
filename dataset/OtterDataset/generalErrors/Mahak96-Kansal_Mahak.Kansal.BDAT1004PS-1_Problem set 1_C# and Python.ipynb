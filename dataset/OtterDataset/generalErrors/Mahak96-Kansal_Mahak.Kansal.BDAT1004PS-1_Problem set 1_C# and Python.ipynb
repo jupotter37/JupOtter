{
 "cells": [
  {
   "cell_type": "markdown",
   "id": "e752b24b",
   "metadata": {},
   "source": [
    "# Question:1 C#"
   ]
  },
  {
   "cell_type": "markdown",
   "id": "1714497e",
   "metadata": {},
   "source": [
    "What data type is each of the following?"
   ]
  },
  {
   "cell_type": "code",
   "execution_count": null,
   "id": "a2b8c43b",
   "metadata": {},
   "outputs": [],
   "source": [
    "5\n",
    "5.0\n",
    "5 > 1\n",
    "'5'\n",
    "5 * 2\n",
    "'5' * 2\n",
    "'5' + '2'\n",
    "5 / 2\n",
    "5 % 2\n",
    "{5, 2, 1}\n",
    "5 == 3\n",
    "Pi (the number)"
   ]
  },
  {
   "cell_type": "code",
   "execution_count": null,
   "id": "88899fa7",
   "metadata": {},
   "outputs": [],
   "source": [
    "Answer:\n",
    "\n",
    "5: int(Integer)\n",
    "5.0: double\n",
    "5 > 1: bool(Boolean)\n",
    "'5': char(Character)\n",
    "5 * 2: int(Integer)\n",
    "'5' * 2: int(Integer)\n",
    "'5' + '2': int(Integer)\n",
    "5 / 2: int(Integer)\n",
    "5 % 2: int(Integer)\n",
    "{5, 2, 1}: int[](array of integers)\n",
    "5 == 3: bool(boolean)\n",
    "Pi (the number): double"
   ]
  },
  {
   "cell_type": "markdown",
   "id": "116cb61a",
   "metadata": {},
   "source": [
    "# Question:2 C#"
   ]
  },
  {
   "cell_type": "markdown",
   "id": "f28ada91",
   "metadata": {},
   "source": [
    "Write (and evaluate) C# expressions that answer these questions:"
   ]
  },
  {
   "cell_type": "markdown",
   "id": "4b474dcd",
   "metadata": {},
   "source": [
    "a. How many letters are there in 'Supercalifragilisticexpialidocious'?"
   ]
  },
  {
   "cell_type": "code",
   "execution_count": 16,
   "id": "a8cd0fa5",
   "metadata": {},
   "outputs": [
    {
     "ename": "SyntaxError",
     "evalue": "invalid syntax (490308264.py, line 1)",
     "output_type": "error",
     "traceback": [
      "\u001b[1;36m  Cell \u001b[1;32mIn[16], line 1\u001b[1;36m\u001b[0m\n\u001b[1;33m    string word = \"Supercalifragilisticexpialidocious\";\u001b[0m\n\u001b[1;37m           ^\u001b[0m\n\u001b[1;31mSyntaxError\u001b[0m\u001b[1;31m:\u001b[0m invalid syntax\n"
     ]
    }
   ],
   "source": [
    " string word = \"Supercalifragilisticexpialidocious\";\n",
    " int letterCount = word.Length;\n",
    " Console.WriteLine(\" Letters in 'Supercalifragilisticexpialidocious'= \" + letterCount);"
   ]
  },
  {
   "cell_type": "markdown",
   "id": "bbd454a6",
   "metadata": {},
   "source": [
    "Answer: \n",
    "Letters in 'Supercalifragilisticexpialidocious'= 34"
   ]
  },
  {
   "cell_type": "markdown",
   "id": "3322ff8d",
   "metadata": {},
   "source": [
    "b. Does 'Supercalifragilisticexpialidocious' contain 'ice' as a substring?"
   ]
  },
  {
   "cell_type": "code",
   "execution_count": 17,
   "id": "496813ab",
   "metadata": {},
   "outputs": [
    {
     "ename": "SyntaxError",
     "evalue": "invalid syntax (2300382151.py, line 1)",
     "output_type": "error",
     "traceback": [
      "\u001b[1;36m  Cell \u001b[1;32mIn[17], line 1\u001b[1;36m\u001b[0m\n\u001b[1;33m    string word = \"Supercalifragilisticexpialidocious\";\u001b[0m\n\u001b[1;37m           ^\u001b[0m\n\u001b[1;31mSyntaxError\u001b[0m\u001b[1;31m:\u001b[0m invalid syntax\n"
     ]
    }
   ],
   "source": [
    "string word = \"Supercalifragilisticexpialidocious\";\n",
    "bool containsIce = word.ToLower().Contains(\"ice\");\n",
    "Console.WriteLine(\"b. Contains 'ice'= \" + containsIce);"
   ]
  },
  {
   "cell_type": "markdown",
   "id": "6447185e",
   "metadata": {},
   "source": [
    "Answer:\n",
    "Contains 'ice'= True"
   ]
  },
  {
   "cell_type": "markdown",
   "id": "68fed40f",
   "metadata": {},
   "source": [
    "c. Which of the following words is the longest: Supercalifragilisticexpialidocious, Honorificabilitudinitatibus, or Bababadalgharaghtakamminarronnkonn?"
   ]
  },
  {
   "cell_type": "code",
   "execution_count": 18,
   "id": "1d36162c",
   "metadata": {},
   "outputs": [
    {
     "ename": "SyntaxError",
     "evalue": "invalid syntax (351832382.py, line 1)",
     "output_type": "error",
     "traceback": [
      "\u001b[1;36m  Cell \u001b[1;32mIn[18], line 1\u001b[1;36m\u001b[0m\n\u001b[1;33m    string[] words = { \"Supercalifragilisticexpialidocious\", \"Honorificabilitudinitatibus\", \"Bababadalgharaghtakamminarronnkonn\" };\u001b[0m\n\u001b[1;37m           ^\u001b[0m\n\u001b[1;31mSyntaxError\u001b[0m\u001b[1;31m:\u001b[0m invalid syntax\n"
     ]
    }
   ],
   "source": [
    "string[] words = { \"Supercalifragilisticexpialidocious\", \"Honorificabilitudinitatibus\", \"Bababadalgharaghtakamminarronnkonn\" };\n",
    "string longestWord = \"\";\n",
    "foreach (string w in words)\n",
    "{\n",
    "    if (w.Length > longestWord.Length)\n",
    "         longestWord = w;\n",
    "}\n",
    "Console.WriteLine(\"c. Longest word= \" + longestWord);\n"
   ]
  },
  {
   "cell_type": "markdown",
   "id": "f75d1c25",
   "metadata": {},
   "source": [
    "Answer:\n",
    "Longest word= Supercalifragilisticexpialidocious"
   ]
  },
  {
   "cell_type": "markdown",
   "id": "cbb26b72",
   "metadata": {},
   "source": [
    "d. Which composer comes first in the dictionary: 'Berlioz', 'Borodin', 'Brian', 'Bartok', 'Bellini', 'Buxtehude', 'Bernstein'. Which one comes last?"
   ]
  },
  {
   "cell_type": "code",
   "execution_count": 20,
   "id": "1cf2e79a",
   "metadata": {},
   "outputs": [
    {
     "ename": "SyntaxError",
     "evalue": "invalid syntax (1735123785.py, line 1)",
     "output_type": "error",
     "traceback": [
      "\u001b[1;36m  Cell \u001b[1;32mIn[20], line 1\u001b[1;36m\u001b[0m\n\u001b[1;33m    string[] composers = { \"Berlioz\", \"Borodin\", \"Brian\", \"Bartok\", \"Bellini\", \"Buxtehude\", \"Bernstein\" };\u001b[0m\n\u001b[1;37m           ^\u001b[0m\n\u001b[1;31mSyntaxError\u001b[0m\u001b[1;31m:\u001b[0m invalid syntax\n"
     ]
    }
   ],
   "source": [
    "string[] composers = { \"Berlioz\", \"Borodin\", \"Brian\", \"Bartok\", \"Bellini\", \"Buxtehude\", \"Bernstein\" };\n",
    "Array.Sort(composers);\n",
    "Console.WriteLine(\"d. First composer= \" + composers[0]);\n",
    "Console.WriteLine(\"d. Last composer= \" + composers[composers.Length - 1]);"
   ]
  },
  {
   "cell_type": "markdown",
   "id": "b195a51a",
   "metadata": {},
   "source": [
    "Answer:\n",
    "First composer= Bartok\n",
    "Last composer= Buxtehude"
   ]
  },
  {
   "cell_type": "markdown",
   "id": "c6df240e",
   "metadata": {},
   "source": [
    "# Question:3 C#"
   ]
  },
  {
   "cell_type": "markdown",
   "id": "7423e23b",
   "metadata": {},
   "source": [
    "Implement function triangleArea(a,b,c) that takes as input the lengths of the 3\n",
    "sides of a triangle and returns the area of the triangle. By Heron's formula, the area\n",
    "of a triangle with side lengths a, b, and c is s(s − a)(s − b)(s − c), where\n",
    "s = (a + b + c)/2.\n",
    ">>> triangleArea(2,2,2)\n",
    "1.7320508075688772"
   ]
  },
  {
   "cell_type": "code",
   "execution_count": 22,
   "id": "3818ccff",
   "metadata": {},
   "outputs": [
    {
     "ename": "SyntaxError",
     "evalue": "unterminated string literal (detected at line 6) (782793545.py, line 6)",
     "output_type": "error",
     "traceback": [
      "\u001b[1;36m  Cell \u001b[1;32mIn[22], line 6\u001b[1;36m\u001b[0m\n\u001b[1;33m    // Applying Heron's formula\u001b[0m\n\u001b[1;37m                     ^\u001b[0m\n\u001b[1;31mSyntaxError\u001b[0m\u001b[1;31m:\u001b[0m unterminated string literal (detected at line 6)\n"
     ]
    }
   ],
   "source": [
    "public static double triangleArea(double a, double b, double c)\n",
    "    {\n",
    "        // Calculating the semi-perimeter\n",
    "        double s = (a + b + c) / 2;\n",
    "        \n",
    "        // Applying Heron's formula\n",
    "        double area = Math.Sqrt(s * (s - a) * (s - b) * (s - c));\n",
    "        \n",
    "        return area;\n",
    "    }\n",
    "double area = triangleArea(2, 2, 2);\n",
    "Console.WriteLine(area);  "
   ]
  },
  {
   "cell_type": "markdown",
   "id": "5f7d7207",
   "metadata": {},
   "source": [
    "Answer:\n",
    "1.73205080756888"
   ]
  },
  {
   "cell_type": "markdown",
   "id": "2d3a2666",
   "metadata": {},
   "source": [
    "# Question:4 C#"
   ]
  },
  {
   "cell_type": "code",
   "execution_count": 24,
   "id": "61759482",
   "metadata": {},
   "outputs": [
    {
     "ename": "SyntaxError",
     "evalue": "invalid syntax (1789069491.py, line 1)",
     "output_type": "error",
     "traceback": [
      "\u001b[1;36m  Cell \u001b[1;32mIn[24], line 1\u001b[1;36m\u001b[0m\n\u001b[1;33m    public void main()\u001b[0m\n\u001b[1;37m           ^\u001b[0m\n\u001b[1;31mSyntaxError\u001b[0m\u001b[1;31m:\u001b[0m invalid syntax\n"
     ]
    }
   ],
   "source": [
    "public void main()\n",
    "{\n",
    "    Console.WriteLine(\"The number of elements to be stored in the array: 5\");\n",
    "\n",
    "    int[] elements = new int[5] {25, 47, 42, 56, 32};\n",
    "    int[] oddNumber = new int[5];\n",
    "    int[] evenNumber = new int[5];\n",
    "\n",
    "    int oddCount = 0;\n",
    "    int evenCount = 0;\n",
    "    \n",
    "\n",
    "    foreach (var number in elements) \n",
    "    {\n",
    "        if (number % 2 == 0) {\n",
    "            evenNumber[evenCount] = number;\n",
    "            evenCount++;\n",
    "        } else {\n",
    "            oddNumber[oddCount] = number;\n",
    "            oddCount++;\n",
    "        }\n",
    "    }\n",
    "    Console.WriteLine(\" Even Numbers=\");\n",
    "    for (int i = 0; i < evenCount; i++)\n",
    "    {\n",
    "        Console.Write(evenNumber[i] + \" \");\n",
    "    }\n",
    "\n",
    "    Console.WriteLine(\"\\n\\n Odd Numbers=\");\n",
    "    for (int i = 0; i < oddCount; i++)\n",
    "    {\n",
    "        Console.Write(oddNumber[i] + \" \");\n",
    "    }\n",
    "}\n",
    "main()"
   ]
  },
  {
   "cell_type": "markdown",
   "id": "6ccbb3aa",
   "metadata": {},
   "source": [
    "Answer:\n",
    "The number of elements to be stored in the array: 5\n",
    " Even Numbers=\n",
    "42 56 32 \n",
    "\n",
    " Odd Numbers=\n",
    "25 47"
   ]
  },
  {
   "cell_type": "markdown",
   "id": "a3527d5d",
   "metadata": {},
   "source": [
    "# Question:5 C#"
   ]
  },
  {
   "cell_type": "markdown",
   "id": "20974fdf",
   "metadata": {},
   "source": [
    "a. Write a function inside(x,y,x1,y1,x2,y2) that returns True or False depending on whether the point (x,y) lies in the rectangle with lower left corner (x1,y1) and upper right corner (x2,y2).\n",
    ">>> inside(1,1,0,0,2,3)\n",
    "True\n",
    ">>> inside(-1,-1,0,0,2,3)\n",
    "False"
   ]
  },
  {
   "cell_type": "code",
   "execution_count": null,
   "id": "63132780",
   "metadata": {},
   "outputs": [],
   "source": [
    " public static void Main()\n",
    "    {\n",
    "        // The Test cases for the inside function\n",
    "        Console.WriteLine(inside(1, 1, 0, 0, 2, 3));  \n",
    "        Console.WriteLine(inside(-1, -1, 0, 0, 2, 3)); \n",
    "        \n",
    "    }\n",
    "\n",
    "    // Function to check if point (x, y) is inside the rectangle\n",
    "    public static bool inside(double x, double y, double x1, double y1, double x2, double y2)\n",
    "    {\n",
    "        // Point is inside the rectangle if it lies between the x and y bounds\n",
    "        return (x >= x1 && x <= x2 && y >= y1 && y <= y2);\n",
    "    }\n",
    "Main()"
   ]
  },
  {
   "cell_type": "markdown",
   "id": "1cac12eb",
   "metadata": {},
   "source": [
    "Answer:\n",
    "True\n",
    "False"
   ]
  },
  {
   "cell_type": "markdown",
   "id": "9207f7fe",
   "metadata": {},
   "source": [
    "b. Use function inside() from part a. to write an expression that tests whether the point (1,1) lies in both of the following rectangles: one with lower left corner (0.3, 0.5) and upper right corner (1.1, 0.7) and the other with lower left corner (0.5, 0.2) and upper right corner (1.1, 2)."
   ]
  },
  {
   "cell_type": "code",
   "execution_count": null,
   "id": "92d0a3dc",
   "metadata": {},
   "outputs": [],
   "source": [
    " public static void Main()\n",
    "    {\n",
    "        bool result = inside(1, 1, 0.3, 0.5, 1.1, 0.7) && inside(1, 1, 0.5, 0.2, 1.1, 2);\n",
    "        Console.WriteLine(result);  \n",
    "    }\n",
    "\n",
    "    // Function to check if point (x, y) is inside the rectangle\n",
    "    public static bool inside(double x, double y, double x1, double y1, double x2, double y2)\n",
    "    {\n",
    "        // Point is inside the rectangle if it lies between the x and y bounds\n",
    "        return (x >= x1 && x <= x2 && y >= y1 && y <= y2);\n",
    "    }\n",
    "Main()"
   ]
  },
  {
   "cell_type": "markdown",
   "id": "bdac6a65",
   "metadata": {},
   "source": [
    "Answer:\n",
    "False"
   ]
  },
  {
   "cell_type": "markdown",
   "id": "eee82056",
   "metadata": {},
   "source": [
    "# Question:6 Python"
   ]
  },
  {
   "cell_type": "markdown",
   "id": "69a2ef23",
   "metadata": {},
   "source": [
    "You can turn a word into pig-Latin using the following two rules (simplified):\n",
    "• If the word starts with a consonant, move that letter to the end and append 'ay'. For example, 'happy' becomes 'appyhay' and 'pencil' becomes 'encilpay'.\n",
    "• If the word starts with a vowel, simply append 'way' to the end of the word. For example, 'enter' becomes 'enterway' and 'other' becomes 'otherway' . For our purposes, there are 5 vowels: a, e, i, o, u (so we count y as a consonant).\n",
    "Write a function pig() that takes a word (i.e., a string) as input and returns its pig- Latin form. Your function should still work if the input word contains upper case characters. Your output should always be lower case however.\n",
    ">>> pig('happy') 'appyhay'\n",
    ">>> pig('Enter') 'enterway'"
   ]
  },
  {
   "cell_type": "code",
   "execution_count": 66,
   "id": "ed1f606a",
   "metadata": {},
   "outputs": [
    {
     "name": "stdout",
     "output_type": "stream",
     "text": [
      "appyhay\n",
      "enterway\n"
     ]
    }
   ],
   "source": [
    "def pig(word):\n",
    "    # Converting the input word to lowercase\n",
    "    word = word.lower()\n",
    "    \n",
    "    # Checking if the word starts with a vowel\n",
    "    if word[0] in 'aeiou':\n",
    "        return word + 'way'\n",
    "    else:\n",
    "        # Move the first consonant to the end and add 'ay'\n",
    "        return word[1:] + word[0] + 'ay'\n",
    "\n",
    "# Test the cases\n",
    "print(pig('happy'))  # Output: 'appyhay'\n",
    "print(pig('Enter'))  # Output: 'enterway'"
   ]
  },
  {
   "cell_type": "markdown",
   "id": "b2117e21",
   "metadata": {},
   "source": [
    "# Question:7 Python"
   ]
  },
  {
   "cell_type": "markdown",
   "id": "53dc4ec1",
   "metadata": {},
   "source": [
    "File bloodtype1.txt records blood-types of patients (A, B, AB, O or OO) at a clinic. Write a function bldcount() that reads the file with name name and reports (i.e., prints) how many patients there are in each bloodtype.\n",
    ">>> bldcount('bloodtype.txt')\n",
    "There are 10 patients of blood type A. There is one patient of blood type B. There are 10 patients of blood type AB. There are 12 patients of blood type O. There are no patients of blood type OO."
   ]
  },
  {
   "cell_type": "code",
   "execution_count": 61,
   "id": "7a746bf0",
   "metadata": {},
   "outputs": [
    {
     "name": "stdout",
     "output_type": "stream",
     "text": [
      "Patients of blood type A = 15\n",
      "Patients of blood type B = 1\n",
      "Patients of blood type AB = 13\n",
      "Patients of blood type O = 15\n",
      "Patients of blood type OO = 0\n"
     ]
    }
   ],
   "source": [
    "import pandas as pd\n",
    "\n",
    "# Reading the blood types from the file\n",
    "with open('D:/Big Data_1st_material/04_Data analytics programming/Problem sets/bloodtype1.txt', 'r') as file:\n",
    "    blood_types = file.readline().strip()\n",
    "\n",
    "# Spliting the blood types into a list\n",
    "the_list_of_blood = blood_types.split()\n",
    "\n",
    "# Creating a DataFrame from the list\n",
    "df_blood = pd.DataFrame(the_list_of_blood, columns=['Blood Type'])\n",
    "\n",
    "# Count occurrences of each blood type\n",
    "blood_counts = df_blood['Blood Type'].value_counts()\n",
    "\n",
    "# Define all blood types for reporting\n",
    "all_blood_types = ['A', 'B', 'AB', 'O', 'OO']\n",
    "\n",
    "# Print the counts for each blood type, defaulting to 0 if not found\n",
    "for blood_type in all_blood_types:\n",
    "    count = blood_counts.get(blood_type, 0)  # Default to 0 if blood type not found\n",
    "    if count == 1:\n",
    "        print(f\"Patients of blood type {blood_type} = 1\")\n",
    "    else:\n",
    "        print(f\"Patients of blood type {blood_type} = {count}\")\n"
   ]
  },
  {
   "cell_type": "markdown",
   "id": "004357fd",
   "metadata": {},
   "source": [
    "#  Question:8 Python"
   ]
  },
  {
   "cell_type": "code",
   "execution_count": 65,
   "id": "d6e9c838",
   "metadata": {},
   "outputs": [
    {
     "name": "stdout",
     "output_type": "stream",
     "text": [
      "122.96544\n",
      "1.241401\n"
     ]
    }
   ],
   "source": [
    "import pandas as pd\n",
    "\n",
    "# Loading the currency data\n",
    "currency_df = pd.read_csv('D:/Big Data_1st_material/04_Data analytics programming/Problem sets/currencies.txt', sep='\\t', header=None, index_col=0)\n",
    "currency_df.columns = ['Exchange Rate', 'Currency Name']\n",
    "\n",
    "def convert_currency(currency_code, amount_in_original_currency):\n",
    "    exchange_rate = currency_df.loc[currency_code, 'Exchange Rate']\n",
    "    amount_in_usd = exchange_rate * amount_in_original_currency\n",
    "    return amount_in_usd\n",
    "\n",
    "print(convert_currency('EUR', 100))  # print output\n",
    "print(convert_currency('JPY', 100))  # print output\n"
   ]
  },
  {
   "cell_type": "markdown",
   "id": "4f1040a9",
   "metadata": {},
   "source": [
    "#  Question:9 Python"
   ]
  },
  {
   "cell_type": "markdown",
   "id": "94ef0ac7",
   "metadata": {},
   "source": [
    "Each of the following will cause an exception (an error). Identify what type of exception each will cause.\n",
    "\n",
    "Trying to add incompatible variables, as in adding 6 + ‘a’\n",
    "Referring to the 12th item of a list that has only 10 items\n",
    "Using a value that is out of range for a function’s input, such as calling math.sqrt(-1.0)\n",
    "Using an undeclared variable, such as print(x)\n",
    "when x has not been defined\n",
    "Trying to open a file that does not exist, such as mistyping the file name or looking in the wrong directory."
   ]
  },
  {
   "cell_type": "code",
   "execution_count": 5,
   "id": "ea824b05",
   "metadata": {},
   "outputs": [
    {
     "ename": "TypeError",
     "evalue": "unsupported operand type(s) for +: 'int' and 'str'",
     "output_type": "error",
     "traceback": [
      "\u001b[1;31m---------------------------------------------------------------------------\u001b[0m",
      "\u001b[1;31mTypeError\u001b[0m                                 Traceback (most recent call last)",
      "Cell \u001b[1;32mIn[5], line 3\u001b[0m\n\u001b[0;32m      1\u001b[0m \u001b[38;5;66;03m# Trying to add incompatible variables, as in adding 6 + ‘a’\u001b[39;00m\n\u001b[0;32m      2\u001b[0m \u001b[38;5;66;03m# This code will give typeerror\u001b[39;00m\n\u001b[1;32m----> 3\u001b[0m \u001b[38;5;241m6\u001b[39m \u001b[38;5;241m+\u001b[39m \u001b[38;5;124m'\u001b[39m\u001b[38;5;124ma\u001b[39m\u001b[38;5;124m'\u001b[39m\n",
      "\u001b[1;31mTypeError\u001b[0m: unsupported operand type(s) for +: 'int' and 'str'"
     ]
    }
   ],
   "source": [
    "# Trying to add incompatible variables, as in adding 6 + ‘a’\n",
    "# This code will give typeerror\n",
    "6 + 'a'"
   ]
  },
  {
   "cell_type": "code",
   "execution_count": 8,
   "id": "205b8d13",
   "metadata": {},
   "outputs": [
    {
     "ename": "IndexError",
     "evalue": "list index out of range",
     "output_type": "error",
     "traceback": [
      "\u001b[1;31m---------------------------------------------------------------------------\u001b[0m",
      "\u001b[1;31mIndexError\u001b[0m                                Traceback (most recent call last)",
      "Cell \u001b[1;32mIn[8], line 4\u001b[0m\n\u001b[0;32m      1\u001b[0m \u001b[38;5;66;03m# Referring to the 12th item of a list that has only 10 items\u001b[39;00m\n\u001b[0;32m      2\u001b[0m \u001b[38;5;66;03m# This code will give Indexerror\u001b[39;00m\n\u001b[0;32m      3\u001b[0m my_list \u001b[38;5;241m=\u001b[39m [\u001b[38;5;241m0\u001b[39m, \u001b[38;5;241m1\u001b[39m, \u001b[38;5;241m2\u001b[39m, \u001b[38;5;241m3\u001b[39m, \u001b[38;5;241m4\u001b[39m, \u001b[38;5;241m5\u001b[39m, \u001b[38;5;241m6\u001b[39m, \u001b[38;5;241m7\u001b[39m, \u001b[38;5;241m8\u001b[39m, \u001b[38;5;241m9\u001b[39m]  \u001b[38;5;66;03m# 10 items\u001b[39;00m\n\u001b[1;32m----> 4\u001b[0m item \u001b[38;5;241m=\u001b[39m my_list[\u001b[38;5;241m11\u001b[39m]\n",
      "\u001b[1;31mIndexError\u001b[0m: list index out of range"
     ]
    }
   ],
   "source": [
    "# Referring to the 12th item of a list that has only 10 items\n",
    "# This code will give Indexerror\n",
    "my_list = [0, 1, 2, 3, 4, 5, 6, 7, 8, 9]  # 10 items\n",
    "item = my_list[11]  # Trying to access the 12th item"
   ]
  },
  {
   "cell_type": "code",
   "execution_count": 54,
   "id": "70ff739f",
   "metadata": {},
   "outputs": [
    {
     "ename": "ValueError",
     "evalue": "math domain error",
     "output_type": "error",
     "traceback": [
      "\u001b[1;31m---------------------------------------------------------------------------\u001b[0m",
      "\u001b[1;31mValueError\u001b[0m                                Traceback (most recent call last)",
      "Cell \u001b[1;32mIn[54], line 4\u001b[0m\n\u001b[0;32m      1\u001b[0m \u001b[38;5;66;03m# Using a value that is out of range for a function’s input, such as calling math.sqrt(-1.0)\u001b[39;00m\n\u001b[0;32m      2\u001b[0m \u001b[38;5;66;03m# This code will give Valueerror\u001b[39;00m\n\u001b[0;32m      3\u001b[0m \u001b[38;5;28;01mimport\u001b[39;00m \u001b[38;5;21;01mmath\u001b[39;00m\n\u001b[1;32m----> 4\u001b[0m math\u001b[38;5;241m.\u001b[39msqrt(\u001b[38;5;241m-\u001b[39m\u001b[38;5;241m1.0\u001b[39m)\n",
      "\u001b[1;31mValueError\u001b[0m: math domain error"
     ]
    }
   ],
   "source": [
    "# Using a value that is out of range for a function’s input, such as calling math.sqrt(-1.0)\n",
    "# This code will give Valueerror\n",
    "import math\n",
    "math.sqrt(-1.0)"
   ]
  },
  {
   "cell_type": "code",
   "execution_count": 47,
   "id": "2cac7762",
   "metadata": {},
   "outputs": [
    {
     "ename": "NameError",
     "evalue": "name 'x' is not defined",
     "output_type": "error",
     "traceback": [
      "\u001b[1;31m---------------------------------------------------------------------------\u001b[0m",
      "\u001b[1;31mNameError\u001b[0m                                 Traceback (most recent call last)",
      "Cell \u001b[1;32mIn[47], line 4\u001b[0m\n\u001b[0;32m      1\u001b[0m \u001b[38;5;66;03m# Using an undeclared variable, such as print(x)\u001b[39;00m\n\u001b[0;32m      2\u001b[0m \u001b[38;5;66;03m# when x has not been defined\u001b[39;00m\n\u001b[0;32m      3\u001b[0m \u001b[38;5;66;03m# This code will give Nameerror\u001b[39;00m\n\u001b[1;32m----> 4\u001b[0m \u001b[38;5;28mprint\u001b[39m(x)\n",
      "\u001b[1;31mNameError\u001b[0m: name 'x' is not defined"
     ]
    }
   ],
   "source": [
    "# Using an undeclared variable, such as print(x)\n",
    "# when x has not been defined\n",
    "# This code will give Nameerror\n",
    "print(x)"
   ]
  },
  {
   "cell_type": "code",
   "execution_count": 48,
   "id": "274317da",
   "metadata": {},
   "outputs": [
    {
     "ename": "FileNotFoundError",
     "evalue": "[Errno 2] No such file or directory: 'nonexistent_file.txt'",
     "output_type": "error",
     "traceback": [
      "\u001b[1;31m---------------------------------------------------------------------------\u001b[0m",
      "\u001b[1;31mFileNotFoundError\u001b[0m                         Traceback (most recent call last)",
      "Cell \u001b[1;32mIn[48], line 3\u001b[0m\n\u001b[0;32m      1\u001b[0m \u001b[38;5;66;03m# Trying to open a file that does not exist, such as mistyping the file name or looking in the wrong directory\u001b[39;00m\n\u001b[0;32m      2\u001b[0m \u001b[38;5;66;03m# This code will give FileNotFoundError \u001b[39;00m\n\u001b[1;32m----> 3\u001b[0m \u001b[38;5;28;01mwith\u001b[39;00m \u001b[38;5;28mopen\u001b[39m(\u001b[38;5;124m'\u001b[39m\u001b[38;5;124mnonexistent_file.txt\u001b[39m\u001b[38;5;124m'\u001b[39m) \u001b[38;5;28;01mas\u001b[39;00m f: \u001b[38;5;66;03m#because we don't have the file, that's why it is filenotfounderror\u001b[39;00m\n\u001b[0;32m      4\u001b[0m         content \u001b[38;5;241m=\u001b[39m f\u001b[38;5;241m.\u001b[39mread()\n",
      "File \u001b[1;32m~\\anaconda3\\Lib\\site-packages\\IPython\\core\\interactiveshell.py:286\u001b[0m, in \u001b[0;36m_modified_open\u001b[1;34m(file, *args, **kwargs)\u001b[0m\n\u001b[0;32m    279\u001b[0m \u001b[38;5;28;01mif\u001b[39;00m file \u001b[38;5;129;01min\u001b[39;00m {\u001b[38;5;241m0\u001b[39m, \u001b[38;5;241m1\u001b[39m, \u001b[38;5;241m2\u001b[39m}:\n\u001b[0;32m    280\u001b[0m     \u001b[38;5;28;01mraise\u001b[39;00m \u001b[38;5;167;01mValueError\u001b[39;00m(\n\u001b[0;32m    281\u001b[0m         \u001b[38;5;124mf\u001b[39m\u001b[38;5;124m\"\u001b[39m\u001b[38;5;124mIPython won\u001b[39m\u001b[38;5;124m'\u001b[39m\u001b[38;5;124mt let you open fd=\u001b[39m\u001b[38;5;132;01m{\u001b[39;00mfile\u001b[38;5;132;01m}\u001b[39;00m\u001b[38;5;124m by default \u001b[39m\u001b[38;5;124m\"\u001b[39m\n\u001b[0;32m    282\u001b[0m         \u001b[38;5;124m\"\u001b[39m\u001b[38;5;124mas it is likely to crash IPython. If you know what you are doing, \u001b[39m\u001b[38;5;124m\"\u001b[39m\n\u001b[0;32m    283\u001b[0m         \u001b[38;5;124m\"\u001b[39m\u001b[38;5;124myou can use builtins\u001b[39m\u001b[38;5;124m'\u001b[39m\u001b[38;5;124m open.\u001b[39m\u001b[38;5;124m\"\u001b[39m\n\u001b[0;32m    284\u001b[0m     )\n\u001b[1;32m--> 286\u001b[0m \u001b[38;5;28;01mreturn\u001b[39;00m io_open(file, \u001b[38;5;241m*\u001b[39margs, \u001b[38;5;241m*\u001b[39m\u001b[38;5;241m*\u001b[39mkwargs)\n",
      "\u001b[1;31mFileNotFoundError\u001b[0m: [Errno 2] No such file or directory: 'nonexistent_file.txt'"
     ]
    }
   ],
   "source": [
    "# Trying to open a file that does not exist, such as mistyping the file name or looking in the wrong directory\n",
    "# This code will give FileNotFoundError \n",
    "with open('nonexistent_file.txt') as f: #because we don't have the file, that's why it is filenotfounderror\n",
    "        content = f.read()"
   ]
  },
  {
   "cell_type": "markdown",
   "id": "1e0a3393",
   "metadata": {},
   "source": [
    "# Question:10 Python"
   ]
  },
  {
   "cell_type": "markdown",
   "id": "1115ad42",
   "metadata": {},
   "source": [
    "Encryption is the process of hiding the meaning of a text by substituting letters in the message with other letters, according to some system. If the process is successful, no one but the intended recipient can understand the encrypted message. Cryptanalysis refers to attempts to undo the encryption, even if some details of the encryption are unknown (for example, if an encrypted message has been intercepted). The first step of cryptanalysis is often to build up a table of letter frequencies in the encrypted text. Assume that the string letters is already defined as 'abcdefghijklmnopqrstuvwxyz'. Write a function called frequencies() that takes a string as its only parameter, and returns a list of integers, showing the number of times each character appears in the text. Your function may ignore any characters that are not in letters.\n",
    ">>> frequencies('The quick red fox got bored and went home.') [1, 1, 1, 3, 5, 1, 1, 2, 1, 0, 1, 0, 1, 2, 4, 0, 1, 2, 0, 2,\n",
    "1, 0, 1, 1, 0, 0]\n",
    ">>> frequencies('apple')"
   ]
  },
  {
   "cell_type": "code",
   "execution_count": 64,
   "id": "06d2885c",
   "metadata": {},
   "outputs": [
    {
     "name": "stdout",
     "output_type": "stream",
     "text": [
      "[1, 1, 1, 3, 5, 1, 1, 2, 1, 0, 1, 0, 1, 2, 4, 0, 1, 2, 0, 3, 1, 0, 1, 1, 0, 0]\n",
      "[1, 0, 0, 0, 1, 0, 0, 0, 0, 0, 0, 1, 0, 0, 0, 2, 0, 0, 0, 0, 0, 0, 0, 0, 0, 0]\n"
     ]
    }
   ],
   "source": [
    "def frequencies(text):\n",
    "    # Defining the string of letters\n",
    "    letters = 'abcdefghijklmnopqrstuvwxyz'\n",
    "    \n",
    "    # Initializing a list of zeros for each letter\n",
    "    freq_list = [0] * len(letters)\n",
    "    \n",
    "    # Converting the input text to lowercase to ensure uniformity\n",
    "    text = text.lower()\n",
    "    \n",
    "    # Counting the frequency of each letter in the text\n",
    "    for char in text:\n",
    "        if char in letters:\n",
    "            index = letters.index(char)  # Finding the index of the character in 'letters'\n",
    "            freq_list[index] += 1  # Incrementing the count for the letter\n",
    "            \n",
    "    return freq_list\n",
    "\n",
    "# Test the cases\n",
    "print(frequencies('The quick red fox got bored and went home'))\n",
    "\n",
    "print(frequencies('apple'))\n"
   ]
  },
  {
   "cell_type": "code",
   "execution_count": null,
   "id": "13cbbd07",
   "metadata": {},
   "outputs": [],
   "source": []
  }
 ],
 "metadata": {
  "kernelspec": {
   "display_name": "Python 3 (ipykernel)",
   "language": "python",
   "name": "python3"
  },
  "language_info": {
   "codemirror_mode": {
    "name": "ipython",
    "version": 3
   },
   "file_extension": ".py",
   "mimetype": "text/x-python",
   "name": "python",
   "nbconvert_exporter": "python",
   "pygments_lexer": "ipython3",
   "version": "3.11.5"
  }
 },
 "nbformat": 4,
 "nbformat_minor": 5
}
