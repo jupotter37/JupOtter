{
 "cells": [
  {
   "cell_type": "code",
   "execution_count": 1,
   "metadata": {},
   "outputs": [
    {
     "ename": "TypeError",
     "evalue": "can only concatenate str (not \"int\") to str",
     "output_type": "error",
     "traceback": [
      "\u001b[1;31m---------------------------------------------------------------------------\u001b[0m",
      "\u001b[1;31mTypeError\u001b[0m                                 Traceback (most recent call last)",
      "Cell \u001b[1;32mIn [1], line 2\u001b[0m\n\u001b[0;32m      1\u001b[0m a \u001b[39m=\u001b[39m \u001b[39minput\u001b[39m()\n\u001b[1;32m----> 2\u001b[0m a\u001b[39m+\u001b[39;49m\u001b[39m6\u001b[39;49m\n",
      "\u001b[1;31mTypeError\u001b[0m: can only concatenate str (not \"int\") to str"
     ]
    }
   ],
   "source": [
    "a = input()\n",
    "a+6"
   ]
  },
  {
   "cell_type": "code",
   "execution_count": 2,
   "metadata": {},
   "outputs": [
    {
     "name": "stdout",
     "output_type": "stream",
     "text": [
      "5n"
     ]
    }
   ],
   "source": [
    "n = 5\n",
    "try:\n",
    "    print(n,end=\"\")\n",
    "    print(\"n\",end=\"\")\n",
    "except:\n",
    "    print()"
   ]
  },
  {
   "cell_type": "code",
   "execution_count": 3,
   "metadata": {},
   "outputs": [
    {
     "name": "stdout",
     "output_type": "stream",
     "text": [
      "Exceptionn"
     ]
    }
   ],
   "source": [
    "name = \"Python\"\n",
    "try:\n",
    "    print(Name, end=\"\")\n",
    "except:\n",
    "    print(\"Exception\", end=\"\")\n",
    "print(\"n\",end=\"\")"
   ]
  },
  {
   "cell_type": "code",
   "execution_count": 5,
   "metadata": {},
   "outputs": [
    {
     "name": "stdout",
     "output_type": "stream",
     "text": [
      "list index out of range\n",
      "<class 'IndexError'>\n"
     ]
    }
   ],
   "source": [
    "try:\n",
    "    print([1,2,3,4][4])\n",
    "except Exception as ex:\n",
    "    print(ex)\n",
    "    print(type(ex)) "
   ]
  },
  {
   "cell_type": "code",
   "execution_count": 13,
   "metadata": {},
   "outputs": [
    {
     "name": "stdout",
     "output_type": "stream",
     "text": [
      "division by zero\n",
      "<class 'ZeroDivisionError'>\n"
     ]
    }
   ],
   "source": [
    "try:\n",
    "    div = 5/0\n",
    "except (ZeroDivisionError,TypeError) as e:\n",
    "    print(e)\n",
    "    print(type(e))\n",
    "except Exception as ex:\n",
    "    print(type(ex))\n",
    "    print(ex)"
   ]
  },
  {
   "cell_type": "code",
   "execution_count": 14,
   "metadata": {},
   "outputs": [
    {
     "name": "stdout",
     "output_type": "stream",
     "text": [
      "unsupported operand type(s) for /: 'str' and 'int'\n",
      "<class 'TypeError'>\n"
     ]
    }
   ],
   "source": [
    "try:\n",
    "    div = \"5\"/0\n",
    "except (ZeroDivisionError,TypeError) as e:\n",
    "    print(e)\n",
    "    print(type(e))\n",
    "except Exception as ex:\n",
    "    print(ex)\n",
    "    print(type(ex))"
   ]
  },
  {
   "cell_type": "code",
   "execution_count": null,
   "metadata": {},
   "outputs": [],
   "source": [
    "try:\n",
    "    div = \"5\"/0\n",
    "except (ZeroDivisionError,TypeError) as e:\n",
    "    print(e)\n",
    "    print(type(e))\n",
    "except Exception as ex:\n",
    "    print(ex)\n",
    "    print(type(ex))"
   ]
  },
  {
   "cell_type": "code",
   "execution_count": 16,
   "metadata": {},
   "outputs": [
    {
     "name": "stdout",
     "output_type": "stream",
     "text": [
      "2\n"
     ]
    }
   ],
   "source": [
    "num = 4\n",
    "\n",
    "try:\n",
    "    div = num//2\n",
    "except:\n",
    "    print(\"Exception\")\n",
    "else:\n",
    "    print(div)"
   ]
  },
  {
   "cell_type": "code",
   "execution_count": 22,
   "metadata": {},
   "outputs": [
    {
     "name": "stdout",
     "output_type": "stream",
     "text": [
      "Türkce karakter iceriyor\n"
     ]
    }
   ],
   "source": [
    "65 -90\n",
    "97-122\n",
    "\n",
    "parola = \"a\"\n",
    "try:\n",
    "    for i in parola:\n",
    "        if i in ascii():\n",
    "            pass\n",
    "except:\n",
    "    print(\"Türkce karakter iceriyor\")\n",
    "else:\n",
    "    print(div)\n",
    "    "
   ]
  },
  {
   "cell_type": "code",
   "execution_count": 48,
   "metadata": {},
   "outputs": [
    {
     "ename": "SyntaxError",
     "evalue": "unmatched ')' (4150811131.py, line 3)",
     "output_type": "error",
     "traceback": [
      "\u001b[1;36m  Cell \u001b[1;32mIn [48], line 3\u001b[1;36m\u001b[0m\n\u001b[1;33m    if i ):\u001b[0m\n\u001b[1;37m         ^\u001b[0m\n\u001b[1;31mSyntaxError\u001b[0m\u001b[1;31m:\u001b[0m unmatched ')'\n"
     ]
    }
   ],
   "source": [
    "parola = \"ıİşçöğü\"\n",
    "for i in parola:\n",
    "        if i ):\n",
    "            pass"
   ]
  },
  {
   "cell_type": "code",
   "execution_count": 26,
   "metadata": {},
   "outputs": [
    {
     "data": {
      "text/plain": [
       "'B'"
      ]
     },
     "execution_count": 26,
     "metadata": {},
     "output_type": "execute_result"
    }
   ],
   "source": [
    "chr(66)"
   ]
  },
  {
   "cell_type": "code",
   "execution_count": 47,
   "metadata": {},
   "outputs": [
    {
     "name": "stdout",
     "output_type": "stream",
     "text": [
      "\"_^k}_ANz=\n",
      "invalid password\n",
      "validation completed\n",
      "None\n"
     ]
    }
   ],
   "source": [
    "# Task 28: Aşağıdaki programda istenilenleri tamamlayınız..\n",
    "\n",
    "def pswrd():\n",
    "    import random\n",
    "    #random.seed(1) #rasgele üretilen değeri sabitler\n",
    "    psw = \"\"\n",
    "    for i in range(10):\n",
    "        psw += chr(random.randint(33,126))\n",
    "    return psw\n",
    "pswd = pswrd()\n",
    "\n",
    "def check_pass(pswd):\n",
    "    import string\n",
    "    kucuk_harf_kesisim_list = list(set(string.ascii_lowercase) & set(pswd)) #kücük harf yoksa bos liste doner\n",
    "    buyuk_harf_kesisim_list = list(set(string.ascii_uppercase) & set(pswd))\n",
    "    sayi_kesisim = list(set(string.digits) & set(pswd))\n",
    "    isaret_kesisim = list(set(string.punctuation) & set(pswd))\n",
    "    try:\n",
    "        pswd[8] # password 8 karakterden kücükse index out of range hatasi verip excepte gecer invalid \n",
    "        #yazdirir\n",
    "        \n",
    "        # asagidaki 4 satirda sirasiyla paswordda kucuk harf, buyuk harf, sayi, isaret yoksa bos \n",
    "        # liste doneceginden  0. indexe ulasmaya calisirken index out of range hatasi verip excepte gecer ve \n",
    "        # invalid yazdirir.\n",
    "        kucuk_harf_kesisim_list[0]\n",
    "        buyuk_harf_kesisim_list[0] \n",
    "        sayi_kesisim[0] \n",
    "        isaret_kesisim[0]\n",
    "    except:\n",
    "        print(\"invalid password\")\n",
    "    else:\n",
    "        print(\"valid password\") # try blogunda hic hata vermezse buraya gecer ve valid yazdirir  \n",
    "    finally:\n",
    "        print(\"validation completed\") # trya da excepte de girse bu satiri yazdirir    \n",
    "\n",
    "\n",
    "print(pswd)\n",
    "print(check_pass(pswd))\n",
    "\n",
    "#test edelim\n",
    "# fp27&l,V,a\n",
    "# valid password\n",
    "# validation completed\n",
    "\n",
    "# |Vqnuf\"[[! # sayi icermedigi icin invalid döndü\n",
    "# invalid password\n",
    "# validation completed"
   ]
  },
  {
   "cell_type": "code",
   "execution_count": 71,
   "metadata": {},
   "outputs": [
    {
     "name": "stdout",
     "output_type": "stream",
     "text": [
      "[Fd:HYyR\n",
      "Password en az bir RAKAM harf icermeli\n",
      "validation completed\n"
     ]
    }
   ],
   "source": [
    "# Task 28: Aşağıdaki programda istenilenleri tamamlayınız..\n",
    "import random\n",
    "import string\n",
    "import re\n",
    "def pswrd():\n",
    "        #random.seed(1) #rasgele üretilen değeri sabitler\n",
    "    psw = \"\"\n",
    "    for i in range(8):\n",
    "        psw += chr(random.randint(33,126))\n",
    "    return psw\n",
    "\n",
    "pswd = pswrd()\n",
    "print(pswd)\n",
    "def check_pass(pswd): \n",
    "    if len(pswd)<8:\n",
    "        raise Exception(\"Password 8 karakterden az olamaz\")\n",
    "    elif not re.search(\"[a-z]\",pswd):\n",
    "        raise Exception(\"Password en az bir KÜCÜK harf icermeli\")\n",
    "    elif not re.search(\"[A-Z]\",pswd):\n",
    "        raise Exception(\"Password en az bir BÜYÜK harf icermeli\")\n",
    "    elif not re.search(\"[0-9]\",pswd):\n",
    "        raise Exception(\"Password en az bir RAKAM harf icermeli\") \n",
    "    elif not list(set(string.punctuation) & set(pswd)):\n",
    "        raise Exception(\"Password en az bir özel karakter icermeli\")\n",
    "    elif re.search(\" \",pswd):\n",
    "        raise Exception(\"Password bir bosluk icermemeli\")\n",
    "    \n",
    "    \n",
    "try:\n",
    "    check_pass(pswd)\n",
    "except Exception as ex:\n",
    "    print(ex)\n",
    "else:\n",
    "    print(\"valid password\") # try blogunda hic hata vermezse buraya gecer ve valid yazdirir  \n",
    "finally:\n",
    "    print(\"validation completed\") # trya da excepte de girse bu satiri yazdirir    \n",
    "        \n",
    "     "
   ]
  },
  {
   "cell_type": "code",
   "execution_count": 85,
   "metadata": {},
   "outputs": [
    {
     "ename": "SyntaxError",
     "evalue": "invalid syntax (3556308636.py, line 21)",
     "output_type": "error",
     "traceback": [
      "\u001b[1;36m  Cell \u001b[1;32mIn [85], line 21\u001b[1;36m\u001b[0m\n\u001b[1;33m    elif not re.search(\"[!#$%&'()*+,-.\"/:;<=>?@[\\]^_`{|}~]\",pswd):\u001b[0m\n\u001b[1;37m                                        ^\u001b[0m\n\u001b[1;31mSyntaxError\u001b[0m\u001b[1;31m:\u001b[0m invalid syntax\n"
     ]
    }
   ],
   "source": [
    "# Task 28: Aşağıdaki programda istenilenleri tamamlayınız..\n",
    "import random\n",
    "import re\n",
    "def pswrd():\n",
    "        #random.seed(1) #rasgele üretilen değeri sabitler\n",
    "    psw = \"\"\n",
    "    for i in range(8):\n",
    "        psw += chr(random.randint(33,126))\n",
    "    return psw\n",
    "pswd = pswrd()\n",
    "\n",
    "def check_pass(pswd): \n",
    "    if len(pswd)<8:\n",
    "        raise Exception(\"Password 8 karakterden az olamaz\")\n",
    "    elif not re.search(\"[a-z]\",pswd):\n",
    "        raise Exception(\"Password en az bir KÜCÜK harf icermeli\")\n",
    "    elif not re.search(\"[A-Z]\",pswd):\n",
    "        raise Exception(\"Password en az bir BÜYÜK harf icermeli\")\n",
    "    elif not re.search(\"[0-9]\",pswd):\n",
    "        raise Exception(\"Password en az bir RAKAM harf icermeli\") \n",
    "    elif not re.search(\"!#$%&'()*+,-.\"/:;<=>?@[\\]^_`{|}~\",pswd):\n",
    "        raise Exception(\"Password en az bir özel karakter icermeli\")\n",
    "    elif re.search(\" \",pswd):\n",
    "        raise Exception(\"Password bir bosluk icermemeli\")\n",
    "\n",
    "print(pswd)\n",
    "try:\n",
    "    check_pass(pswd)\n",
    "except Exception as ex:\n",
    "    print(ex)\n",
    "else:\n",
    "    print(\"valid password\") # try blogunda hic hata vermezse buraya gecer ve valid yazdirir  \n",
    "finally:\n",
    "    print(\"validation completed\") # trya da excepte de girse bu satiri yazdirir        "
   ]
  }
 ],
 "metadata": {
  "kernelspec": {
   "display_name": "Python 3.10.7 64-bit (microsoft store)",
   "language": "python",
   "name": "python3"
  },
  "language_info": {
   "codemirror_mode": {
    "name": "ipython",
    "version": 3
   },
   "file_extension": ".py",
   "mimetype": "text/x-python",
   "name": "python",
   "nbconvert_exporter": "python",
   "pygments_lexer": "ipython3",
   "version": "3.10.7"
  },
  "orig_nbformat": 4,
  "vscode": {
   "interpreter": {
    "hash": "ba33de22a5821ff61dd53097cd70511c2f19fae7b0f9e8b27ee69b6aca2c4956"
   }
  }
 },
 "nbformat": 4,
 "nbformat_minor": 2
}
