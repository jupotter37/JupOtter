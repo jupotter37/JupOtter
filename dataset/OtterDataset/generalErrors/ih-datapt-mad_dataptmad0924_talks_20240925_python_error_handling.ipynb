{
 "cells": [
  {
   "cell_type": "markdown",
   "id": "fec117e5",
   "metadata": {},
   "source": [
    "# Python Error Types\n",
    "\n",
    "---\n",
    "\n",
    "__SyntaxError:__ When code has been typed incorrectly.\n",
    "\n",
    "__AttributeError:__ When you try to access an attribute on an object that does not exist.\n",
    "\n",
    "__KeyError:__ When you try to access a key in a dictionary (or alike) that does not exist.\n",
    "\n",
    "__TypeError:__ When an argument to a function is not of the right type (e.g. a str instead of int).\n",
    "\n",
    "__ValueError:__ When an argument to a function is of the right type but is not in the right domain (e.g. an empty string)\n",
    "\n",
    "__ImportError:__ When an import fails."
   ]
  },
  {
   "cell_type": "code",
   "execution_count": null,
   "id": "facf1aa4",
   "metadata": {},
   "outputs": [],
   "source": [
    "# SyntaxError\n",
    "\n",
    "my_values = [1, 2, 3, 4]\n",
    "\n",
    "min(my_values"
   ]
  },
  {
   "cell_type": "code",
   "execution_count": null,
   "id": "a4414fa2",
   "metadata": {},
   "outputs": [],
   "source": [
    "# AttributeError\n",
    "\n",
    "my_values = [1, 2, 3, x]\n",
    "\n",
    "max(my_values)"
   ]
  },
  {
   "cell_type": "code",
   "execution_count": null,
   "id": "b0302630",
   "metadata": {},
   "outputs": [],
   "source": [
    "# KeyError (IndexError)\n",
    "\n",
    "my_values = {'values': [1, 2, 3, 4]}\n",
    "\n",
    "print(my_values[3])"
   ]
  },
  {
   "cell_type": "code",
   "execution_count": null,
   "id": "5a96da70",
   "metadata": {},
   "outputs": [],
   "source": [
    "my_values = [1, 2, 3, 4]\n",
    "\n",
    "print(my_values[4])"
   ]
  },
  {
   "cell_type": "code",
   "execution_count": null,
   "id": "9ec47123",
   "metadata": {},
   "outputs": [],
   "source": [
    "# TypeError\n",
    "\n",
    "my_values = [1, 2, 3, 4]\n",
    "x = input('Multiply each number by:')\n",
    "my_values = [value + x for value in my_values]\n",
    "print(my_values)"
   ]
  },
  {
   "cell_type": "code",
   "execution_count": null,
   "id": "bc2dd2f9",
   "metadata": {},
   "outputs": [],
   "source": [
    "# ValueError\n",
    "\n",
    "my_values = [1, 2, 3, 4]\n",
    "x = int(input('Multiply each number by:'))\n",
    "my_values = [value + x for value in my_values]\n",
    "print(my_values)"
   ]
  },
  {
   "cell_type": "code",
   "execution_count": null,
   "id": "85f20db7",
   "metadata": {},
   "outputs": [],
   "source": [
    "# ImportError\n",
    "\n",
    "import qiskit as pd"
   ]
  },
  {
   "cell_type": "markdown",
   "id": "ba9479d3",
   "metadata": {},
   "source": [
    "### Writing Exceptions"
   ]
  },
  {
   "cell_type": "code",
   "execution_count": null,
   "id": "64c40007",
   "metadata": {},
   "outputs": [],
   "source": [
    "def even_number(number):\n",
    "    if number % 2 != 0:\n",
    "        raise ValueError(\"The number entered is not even!\")\n",
    "    else:\n",
    "        print(\"Number accepted.\")"
   ]
  },
  {
   "cell_type": "code",
   "execution_count": null,
   "id": "a1b82c80",
   "metadata": {},
   "outputs": [],
   "source": [
    "even_number(3)"
   ]
  },
  {
   "cell_type": "markdown",
   "id": "e9f5eed1",
   "metadata": {},
   "source": [
    "### Catching Exceptions"
   ]
  },
  {
   "cell_type": "code",
   "execution_count": null,
   "id": "9ae24498",
   "metadata": {},
   "outputs": [],
   "source": [
    "try:\n",
    "    even_number(3)\n",
    "except:\n",
    "    print(\"The even_number function errored out.\")\n",
    "else:\n",
    "    print(\"The even number function ran successfully.\")  \n",
    "\n",
    "print(\"This line of code still executes.\")"
   ]
  },
  {
   "cell_type": "code",
   "execution_count": null,
   "id": "fe0754a4",
   "metadata": {},
   "outputs": [],
   "source": [
    "def int_check(integer):\n",
    "    if type(integer) != int:\n",
    "        raise ValueError(\"The number entered is not an integer!\")\n",
    "    else:\n",
    "        pass"
   ]
  },
  {
   "cell_type": "code",
   "execution_count": null,
   "id": "b9bb4f1d",
   "metadata": {},
   "outputs": [],
   "source": [
    "numbers = [1, 2, 3, 3.7, 4, 5.5, 7, 10]\n",
    "evens = []\n",
    "\n",
    "for number in numbers:\n",
    "\n",
    "    print(\"Analyzing the number:\", str(number))\n",
    "\n",
    "    try:\n",
    "        int_check(number)\n",
    "    except:\n",
    "        print(\"The int_check function errored out.\")\n",
    "    \n",
    "    else:\n",
    "        print(\"The int_check function ran successfully.\")\n",
    "        try:\n",
    "            even_number(number)\n",
    "        except:\n",
    "            print(\"The even_number function errored out.\")\n",
    "        else:\n",
    "            evens.append(number)\n",
    "\n",
    "    print(\"\\n\")"
   ]
  },
  {
   "cell_type": "code",
   "execution_count": null,
   "id": "919e0acf",
   "metadata": {},
   "outputs": [],
   "source": [
    "evens"
   ]
  },
  {
   "cell_type": "markdown",
   "id": "92f917e9",
   "metadata": {},
   "source": [
    "---"
   ]
  }
 ],
 "metadata": {
  "kernelspec": {
   "display_name": "Python [conda env:.conda-ironhack]",
   "language": "python",
   "name": "conda-env-.conda-ironhack-py"
  },
  "language_info": {
   "codemirror_mode": {
    "name": "ipython",
    "version": 3
   },
   "file_extension": ".py",
   "mimetype": "text/x-python",
   "name": "python",
   "nbconvert_exporter": "python",
   "pygments_lexer": "ipython3",
   "version": "3.7.11"
  }
 },
 "nbformat": 4,
 "nbformat_minor": 5
}
