{
 "cells": [
  {
   "cell_type": "code",
   "execution_count": null,
   "metadata": {
    "tags": [
     "Python",
     "For",
     "EveryOne"
    ]
   },
   "outputs": [],
   "source": [
    "#python For EveryOne\n",
    "-----------------------------------------------------------------------------------------------\n",
    "part I : python basics\n",
    "01- vairables(assignment operators) + input method + casting + mathematical operators\n",
    "02- comparasion operators + logical operators\n",
    "03- if condition\n",
    "04- every thing about List\n",
    "05- every thing about tuple\n",
    "06- every thing about dictionary\n",
    "07- every thing about string\n",
    "08- loops + nested loops\n",
    "09- while loop\n",
    "10- control behavior of loops (break -contiue-pass)\n",
    "11- functions\n",
    "12- define functions\n",
    "13- calling functions\n",
    "14- different between return value and none vlaue\n",
    "15- types of arguments passing to function (required | default argument)\n",
    "16- pass By object\n",
    "17- dynamic function\n",
    "18- recursion\n",
    "19- Limitations of recursions\n",
    "20-Anonymous/Lambda Function\n",
    "21- Errors & Exceptions \n",
    "22- Raising an Exception\n",
    "23- Assertion Errors \n",
    "24- Scope --> varible scope (local or global)\n",
    "25- Tips and Tricks \n",
    "26- iTi Labs\n",
    "---------------------------------------------------------------------------------------------------"
   ]
  },
  {
   "cell_type": "code",
   "execution_count": 2,
   "metadata": {},
   "outputs": [
    {
     "name": "stdout",
     "output_type": "stream",
     "text": [
      "plz Enter first num :22\n",
      "plz enter second num :11\n",
      "Result of sum : 33.0\n",
      "Result of sub: 11.0\n",
      "result of multiply : 242.0\n"
     ]
    }
   ],
   "source": [
    "#variables (mutable  |   Unmutable )\n",
    "#lab1 vairables(assignment operators) + input method + casting + mathematical operators \n",
    "#--------------------------------------------------------------------------------------\n",
    "#Resd 1st num\n",
    "num1 = float(input('plz Enter first num :'))\n",
    "#read 2nd num\n",
    "num2 = input('plz enter second num :')\n",
    "#convert/casting from str to float\n",
    "#num1 = float(num1) #why num1 ? less variables\n",
    "num2 = float(num2)\n",
    "#sum\n",
    "sumation = num1 + num2\n",
    "print('Result of sum :',sumation)\n",
    "#sub\n",
    "sub = num1 - num2\n",
    "print('Result of sub:' ,sub)\n",
    "#multiply\n",
    "multiyply=num1 * num2\n",
    "print('result of multiply :',multiyply)"
   ]
  },
  {
   "cell_type": "code",
   "execution_count": 13,
   "metadata": {},
   "outputs": [
    {
     "name": "stdout",
     "output_type": "stream",
     "text": [
      "plz enter your gender :m\n",
      "plz enter your age :18\n",
      "male okay\n"
     ]
    }
   ],
   "source": [
    "#lab2 comparasion operators + logical operators +if condition (complex)\n",
    "#if condition not do any thing cannot be empty (error) so pass word under conditiion\n",
    "#------------------------------------------------------------\n",
    "#read age and gender \n",
    "gender = input('plz enter your gender :')\n",
    "age = input('plz enter your age :')\n",
    "#convert age\n",
    "age = float(age)\n",
    "#condition case\n",
    "if gender =='m' or gender =='male' and age >= 18 : # if  age >= 18 and (gender =='m' or gender =='male') : Right\n",
    "    print('male okay')\n",
    "elif gender=='m' or gender=='male' and age < 18 :\n",
    "    print('male no')\n",
    "elif gender=='f' or gender=='female' and age >= 20 :\n",
    "    print('female okay')\n",
    "elif gender=='f' or gender=='female' and age < 20 :\n",
    "    print(\"female no\")\n",
    "else :\n",
    "    print ('invalid input')"
   ]
  },
  {
   "cell_type": "code",
   "execution_count": 16,
   "metadata": {},
   "outputs": [
    {
     "name": "stdout",
     "output_type": "stream",
     "text": [
      "plz enter 1st num :10\n",
      "plz enter 2nd num :10\n",
      "plz enter operand :x\n",
      "result : 100.0\n"
     ]
    }
   ],
   "source": [
    "#lab3 if condition calculator\n",
    "#what is different between if and elif\n",
    "# \\ is specail char \\n \\t \\\\\n",
    "#-----------------------------\n",
    "#read inputs\n",
    "num1 = input('plz enter 1st num :')\n",
    "num2 = input('plz enter 2nd num :')\n",
    "#read operator\n",
    "op = input ('plz enter operand :')\n",
    "#convert inputs to numbers\n",
    "num1=float(num1)\n",
    "num2=float(num2)\n",
    "#condition\n",
    "if op=='+' :\n",
    "    result=num1 + num2\n",
    "    print('result :',result)\n",
    "if op=='-' :\n",
    "    result=num1 - num2\n",
    "    print('result :',result)\n",
    "if op=='*' or op=='x' or op=='X' :\n",
    "    result=num1 * num2\n",
    "    print('result :',result)\n",
    "if op=='/' or op=='\\\\' :\n",
    "    result=num1 / num2\n",
    "    print('result :',result)"
   ]
  },
  {
   "cell_type": "code",
   "execution_count": 27,
   "metadata": {},
   "outputs": [
    {
     "data": {
      "text/plain": [
       "1"
      ]
     },
     "execution_count": 27,
     "metadata": {},
     "output_type": "execute_result"
    }
   ],
   "source": [
    "#List : collection of values store in one variable \n",
    "#(every value have index number start with 0)\n",
    "#what is differnt between list and array\n",
    "#list :have differnt Datatypes of values in same list  | #array : have same datatypes of values in same array\n",
    "#      dynamic length size                             |          fixed lenth size #cannot insert new value \n",
    "# EX:  firstlist =[1,12,5.3,44,5,'ayman','ahmed']      |#Ex:     numarray =[11,22,3,4,56,67,7] \n",
    "#---------------------------------------------------------------------------------------------------------\n",
    "firstlist =[1,12,5.3,44,5,'ayman','ahmed']\n",
    "firstlist[0]"
   ]
  },
  {
   "cell_type": "code",
   "execution_count": 29,
   "metadata": {},
   "outputs": [
    {
     "data": {
      "text/plain": [
       "'ahmed'"
      ]
     },
     "execution_count": 29,
     "metadata": {},
     "output_type": "execute_result"
    }
   ],
   "source": [
    "firstlist[-1] #return value"
   ]
  },
  {
   "cell_type": "code",
   "execution_count": 30,
   "metadata": {},
   "outputs": [
    {
     "data": {
      "text/plain": [
       "[1, 12, 5.3, 44]"
      ]
     },
     "execution_count": 30,
     "metadata": {},
     "output_type": "execute_result"
    }
   ],
   "source": [
    "# list [start:end] \n",
    "#end index not get it in result      \n",
    "#return list\n",
    "firstlist[0:4]"
   ]
  },
  {
   "cell_type": "code",
   "execution_count": 31,
   "metadata": {},
   "outputs": [
    {
     "data": {
      "text/plain": [
       "[12, 5.3, 44]"
      ]
     },
     "execution_count": 31,
     "metadata": {},
     "output_type": "execute_result"
    }
   ],
   "source": [
    "firstlist[1:4] "
   ]
  },
  {
   "cell_type": "code",
   "execution_count": 32,
   "metadata": {},
   "outputs": [
    {
     "data": {
      "text/plain": [
       "[12, 5.3, 44, 5, 'ayman', 'ahmed']"
      ]
     },
     "execution_count": 32,
     "metadata": {},
     "output_type": "execute_result"
    }
   ],
   "source": [
    "firstlist[1:]"
   ]
  },
  {
   "cell_type": "code",
   "execution_count": 33,
   "metadata": {},
   "outputs": [
    {
     "data": {
      "text/plain": [
       "[1, 12, 5.3, 44, 5, 'ayman', 'ahmed']"
      ]
     },
     "execution_count": 33,
     "metadata": {},
     "output_type": "execute_result"
    }
   ],
   "source": [
    "firstlist[:]"
   ]
  },
  {
   "cell_type": "code",
   "execution_count": 34,
   "metadata": {},
   "outputs": [
    {
     "data": {
      "text/plain": [
       "[1, 12, 5.3, 44, 5, 'ayman']"
      ]
     },
     "execution_count": 34,
     "metadata": {},
     "output_type": "execute_result"
    }
   ],
   "source": [
    "firstlist[:-1]"
   ]
  },
  {
   "cell_type": "code",
   "execution_count": 72,
   "metadata": {},
   "outputs": [
    {
     "data": {
      "text/plain": [
       "['ahmed', 'mohamed', 'ayman', 'doc', 'sec', 'eng']"
      ]
     },
     "execution_count": 72,
     "metadata": {},
     "output_type": "execute_result"
    }
   ],
   "source": [
    "#List Operation + | * | in operator for condition\n",
    "\n",
    "names=['ahmed','mohamed','ayman']\n",
    "jobs =['doc','sec','eng']\n",
    "#first : + operation (cancutnate and return values in list)\n",
    "names + jobs"
   ]
  },
  {
   "cell_type": "code",
   "execution_count": 73,
   "metadata": {},
   "outputs": [
    {
     "data": {
      "text/plain": [
       "['ahmed', 'mohamed', 'ayman', 'ahmed', 'mohamed', 'ayman']"
      ]
     },
     "execution_count": 73,
     "metadata": {},
     "output_type": "execute_result"
    }
   ],
   "source": [
    "#second : * cannot (list * list) but can (list * 3)\n",
    "names * 2"
   ]
  },
  {
   "cell_type": "code",
   "execution_count": 74,
   "metadata": {},
   "outputs": [
    {
     "data": {
      "text/plain": [
       "['doc', 'sec', 'eng', 'doc', 'sec', 'eng']"
      ]
     },
     "execution_count": 74,
     "metadata": {},
     "output_type": "execute_result"
    }
   ],
   "source": [
    "jobs * 2"
   ]
  },
  {
   "cell_type": "code",
   "execution_count": null,
   "metadata": {},
   "outputs": [],
   "source": [
    "#third : in \n",
    "'doc' in jobs"
   ]
  },
  {
   "cell_type": "code",
   "execution_count": null,
   "metadata": {},
   "outputs": [],
   "source": [
    "'Ayman' in names"
   ]
  },
  {
   "cell_type": "code",
   "execution_count": null,
   "metadata": {},
   "outputs": [],
   "source": [
    "if 'ayman' in names :\n",
    "    print (\"ayman in this list :D\")\n",
    "else :\n",
    "    print (\"Bye\")"
   ]
  },
  {
   "cell_type": "code",
   "execution_count": 35,
   "metadata": {},
   "outputs": [
    {
     "data": {
      "text/plain": [
       "[1, 12, 'mohamed', 44, 5, 'ayman', 'ahmed']"
      ]
     },
     "execution_count": 35,
     "metadata": {},
     "output_type": "execute_result"
    }
   ],
   "source": [
    "#list  Update |  Insert | Delete\n",
    "\n",
    "#first : update with any datatype value\n",
    "firstlist =[1,12,5.3,44,5,'ayman','ahmed']\n",
    "firstlist[2]='mohamed'\n",
    "firstlist"
   ]
  },
  {
   "cell_type": "code",
   "execution_count": 67,
   "metadata": {},
   "outputs": [
    {
     "data": {
      "text/plain": [
       "[1, 12, 'mohamed', 5.3, 44, 5, 'ayman', 'mohamed', 'ahmed']"
      ]
     },
     "execution_count": 67,
     "metadata": {},
     "output_type": "execute_result"
    }
   ],
   "source": [
    "#second :insert value\n",
    "#list.insert(index,value)\n",
    "firstlist =[1,12,5.3,44,5,'ayman','ahmed']\n",
    "firstlist.insert(2,'mohamed')\n",
    "firstlist\n",
    "firstlist.insert(-1,'mohamed')\n",
    "firstlist"
   ]
  },
  {
   "cell_type": "code",
   "execution_count": 68,
   "metadata": {},
   "outputs": [
    {
     "data": {
      "text/plain": [
       "[1, 12, 5.3, 44, 5, 'ayman', 'ahmed', 'yes']"
      ]
     },
     "execution_count": 68,
     "metadata": {},
     "output_type": "execute_result"
    }
   ],
   "source": [
    "firstlist =[1,12,5.3,44,5,'ayman','ahmed']\n",
    "lenth=len(firstlist)\n",
    "firstlist.insert(lenth,'yes')\n",
    "firstlist"
   ]
  },
  {
   "cell_type": "code",
   "execution_count": 75,
   "metadata": {},
   "outputs": [
    {
     "data": {
      "text/plain": [
       "[1, 12, 44, 5, 'ayman', 'ahmed']"
      ]
     },
     "execution_count": 75,
     "metadata": {},
     "output_type": "execute_result"
    }
   ],
   "source": [
    "#third :delete value from list\n",
    "#first way\n",
    "firstlist =[1,12,5.3,44,5,'ayman','ahmed']\n",
    "del(firstlist[2])\n",
    "firstlist"
   ]
  },
  {
   "cell_type": "code",
   "execution_count": 70,
   "metadata": {},
   "outputs": [
    {
     "ename": "NameError",
     "evalue": "name 'firstlist' is not defined",
     "output_type": "error",
     "traceback": [
      "\u001b[1;31m---------------------------------------------------------------------------\u001b[0m",
      "\u001b[1;31mNameError\u001b[0m                                 Traceback (most recent call last)",
      "\u001b[1;32m<ipython-input-70-d03fc43b5a4c>\u001b[0m in \u001b[0;36m<module>\u001b[1;34m()\u001b[0m\n\u001b[0;32m      2\u001b[0m \u001b[0mfirstlist\u001b[0m \u001b[1;33m=\u001b[0m\u001b[1;33m[\u001b[0m\u001b[1;36m1\u001b[0m\u001b[1;33m,\u001b[0m\u001b[1;36m12\u001b[0m\u001b[1;33m,\u001b[0m\u001b[1;36m5.3\u001b[0m\u001b[1;33m,\u001b[0m\u001b[1;36m44\u001b[0m\u001b[1;33m,\u001b[0m\u001b[1;36m5\u001b[0m\u001b[1;33m,\u001b[0m\u001b[1;34m'ayman'\u001b[0m\u001b[1;33m,\u001b[0m\u001b[1;34m'ahmed'\u001b[0m\u001b[1;33m]\u001b[0m\u001b[1;33m\u001b[0m\u001b[0m\n\u001b[0;32m      3\u001b[0m \u001b[1;32mdel\u001b[0m\u001b[1;33m[\u001b[0m\u001b[0mfirstlist\u001b[0m\u001b[1;33m]\u001b[0m\u001b[1;33m\u001b[0m\u001b[0m\n\u001b[1;32m----> 4\u001b[1;33m \u001b[0mfirstlist\u001b[0m\u001b[1;33m\u001b[0m\u001b[0m\n\u001b[0m",
      "\u001b[1;31mNameError\u001b[0m: name 'firstlist' is not defined"
     ]
    }
   ],
   "source": [
    "#delete list\n",
    "firstlist =[1,12,5.3,44,5,'ayman','ahmed']\n",
    "del[firstlist]\n",
    "firstlist"
   ]
  },
  {
   "cell_type": "code",
   "execution_count": 76,
   "metadata": {},
   "outputs": [
    {
     "data": {
      "text/plain": [
       "'ahmed'"
      ]
     },
     "execution_count": 76,
     "metadata": {},
     "output_type": "execute_result"
    }
   ],
   "source": [
    "#second way \n",
    "#pop() method return last value from list and delete it\n",
    "firstlist.pop()"
   ]
  },
  {
   "cell_type": "code",
   "execution_count": 77,
   "metadata": {},
   "outputs": [
    {
     "data": {
      "text/plain": [
       "[1, 12, 44, 5, 'ayman']"
      ]
     },
     "execution_count": 77,
     "metadata": {},
     "output_type": "execute_result"
    }
   ],
   "source": [
    "firstlist"
   ]
  },
  {
   "cell_type": "code",
   "execution_count": 78,
   "metadata": {},
   "outputs": [],
   "source": [
    "#third way \n",
    "#remove(you want delete it ) method \n",
    "firstlist.remove('ayman')"
   ]
  },
  {
   "cell_type": "code",
   "execution_count": 79,
   "metadata": {},
   "outputs": [
    {
     "data": {
      "text/plain": [
       "[1, 12, 44, 5]"
      ]
     },
     "execution_count": 79,
     "metadata": {},
     "output_type": "execute_result"
    }
   ],
   "source": [
    "firstlist"
   ]
  },
  {
   "cell_type": "code",
   "execution_count": 80,
   "metadata": {},
   "outputs": [
    {
     "data": {
      "text/plain": [
       "[12, 44, 5]"
      ]
     },
     "execution_count": 80,
     "metadata": {},
     "output_type": "execute_result"
    }
   ],
   "source": [
    "firstlist.remove(1)\n",
    "firstlist"
   ]
  },
  {
   "cell_type": "code",
   "execution_count": 93,
   "metadata": {},
   "outputs": [
    {
     "name": "stdout",
     "output_type": "stream",
     "text": [
      "4\n",
      "4\n"
     ]
    }
   ],
   "source": [
    "#functions of list\n",
    "numbers=[4,9.9,22,55]\n",
    "namees=['mohamed','abdalla','hamza','ayman']\n",
    "#1-lenth\n",
    "print(len(numbers))\n",
    "print(len(namees))"
   ]
  },
  {
   "cell_type": "code",
   "execution_count": 94,
   "metadata": {},
   "outputs": [
    {
     "name": "stdout",
     "output_type": "stream",
     "text": [
      "4\n",
      "abdalla\n",
      "55\n",
      "mohamed\n"
     ]
    }
   ],
   "source": [
    "#2-minumam maxinum\n",
    "print (min(numbers))\n",
    "print (min(namees))\n",
    "\n",
    "print (max(numbers))\n",
    "print (max(namees))"
   ]
  },
  {
   "cell_type": "code",
   "execution_count": 95,
   "metadata": {},
   "outputs": [
    {
     "ename": "IndexError",
     "evalue": "list assignment index out of range",
     "output_type": "error",
     "traceback": [
      "\u001b[1;31m---------------------------------------------------------------------------\u001b[0m",
      "\u001b[1;31mIndexError\u001b[0m                                Traceback (most recent call last)",
      "\u001b[1;32m<ipython-input-95-0577bd71be38>\u001b[0m in \u001b[0;36m<module>\u001b[1;34m()\u001b[0m\n\u001b[0;32m      1\u001b[0m \u001b[1;31m#3-append important function\u001b[0m\u001b[1;33m\u001b[0m\u001b[1;33m\u001b[0m\u001b[0m\n\u001b[1;32m----> 2\u001b[1;33m \u001b[0mnumbers\u001b[0m\u001b[1;33m[\u001b[0m\u001b[1;36m4\u001b[0m\u001b[1;33m]\u001b[0m\u001b[1;33m=\u001b[0m\u001b[1;36m33\u001b[0m\u001b[1;33m\u001b[0m\u001b[0m\n\u001b[0m",
      "\u001b[1;31mIndexError\u001b[0m: list assignment index out of range"
     ]
    }
   ],
   "source": [
    "#3-append important function add value = insert(len(numbers),value)\n",
    "numbers[4]=33"
   ]
  },
  {
   "cell_type": "code",
   "execution_count": 96,
   "metadata": {},
   "outputs": [
    {
     "data": {
      "text/plain": [
       "[4, 9.9, 22, 55, 33]"
      ]
     },
     "execution_count": 96,
     "metadata": {},
     "output_type": "execute_result"
    }
   ],
   "source": [
    "numbers.append(33)\n",
    "numbers"
   ]
  },
  {
   "cell_type": "code",
   "execution_count": 99,
   "metadata": {},
   "outputs": [
    {
     "data": {
      "text/plain": [
       "[4, 9.9, 22, 55, 33, 66]"
      ]
     },
     "execution_count": 99,
     "metadata": {},
     "output_type": "execute_result"
    }
   ],
   "source": [
    "numbers.insert(len(numbers),66) # equal append\n",
    "numbers"
   ]
  },
  {
   "cell_type": "code",
   "execution_count": 100,
   "metadata": {},
   "outputs": [
    {
     "data": {
      "text/plain": [
       "2"
      ]
     },
     "execution_count": 100,
     "metadata": {},
     "output_type": "execute_result"
    }
   ],
   "source": [
    "#4-count function عدد تكرار قيمه داخل ليست\n",
    "numbers.append(33)\n",
    "numbers.count(33)"
   ]
  },
  {
   "cell_type": "code",
   "execution_count": 102,
   "metadata": {},
   "outputs": [
    {
     "name": "stdout",
     "output_type": "stream",
     "text": [
      "[4, 9.9, 22, 55, 33, 66, 33]\n"
     ]
    },
    {
     "data": {
      "text/plain": [
       "1"
      ]
     },
     "execution_count": 102,
     "metadata": {},
     "output_type": "execute_result"
    }
   ],
   "source": [
    "print(numbers)\n",
    "numbers.count(4)"
   ]
  },
  {
   "cell_type": "code",
   "execution_count": 109,
   "metadata": {},
   "outputs": [
    {
     "name": "stdout",
     "output_type": "stream",
     "text": [
      "['ahmed', 'mohamed', 'ayman', 'doc', 'sec', 'eng']\n"
     ]
    },
    {
     "data": {
      "text/plain": [
       "['ahmed', 'mohamed', 'ayman', 'doc', 'sec', 'eng', 'doc', 'sec', 'eng']"
      ]
     },
     "execution_count": 109,
     "metadata": {},
     "output_type": "execute_result"
    }
   ],
   "source": [
    "#5-extend function\n",
    "names=['ahmed','mohamed','ayman']\n",
    "jobs =['doc','sec','eng']\n",
    "names.extend(jobs)\n",
    "print(names)\n",
    "#after extend names = ['ahmed', 'mohamed', 'ayman', 'doc', 'sec', 'eng'] \n",
    "#what is different between + operator and extend function\n",
    "newlist = names + jobs\n",
    "newlist"
   ]
  },
  {
   "cell_type": "code",
   "execution_count": 106,
   "metadata": {},
   "outputs": [
    {
     "data": {
      "text/plain": [
       "1"
      ]
     },
     "execution_count": 106,
     "metadata": {},
     "output_type": "execute_result"
    }
   ],
   "source": [
    "#6-index function\n",
    "names.index('mohamed')"
   ]
  },
  {
   "cell_type": "code",
   "execution_count": 110,
   "metadata": {},
   "outputs": [
    {
     "data": {
      "text/plain": [
       "3"
      ]
     },
     "execution_count": 110,
     "metadata": {},
     "output_type": "execute_result"
    }
   ],
   "source": [
    "newlist.index('doc')"
   ]
  },
  {
   "cell_type": "code",
   "execution_count": 111,
   "metadata": {},
   "outputs": [
    {
     "data": {
      "text/plain": [
       "2"
      ]
     },
     "execution_count": 111,
     "metadata": {},
     "output_type": "execute_result"
    }
   ],
   "source": [
    "newlist.count('doc')"
   ]
  },
  {
   "cell_type": "code",
   "execution_count": 119,
   "metadata": {},
   "outputs": [],
   "source": [
    "#7-reverse function\n",
    "names.reverse()"
   ]
  },
  {
   "cell_type": "code",
   "execution_count": 116,
   "metadata": {},
   "outputs": [
    {
     "data": {
      "text/plain": [
       "['eng', 'sec', 'doc', 'ayman', 'mohamed', 'ahmed']"
      ]
     },
     "execution_count": 116,
     "metadata": {},
     "output_type": "execute_result"
    }
   ],
   "source": [
    "names"
   ]
  },
  {
   "cell_type": "code",
   "execution_count": 117,
   "metadata": {},
   "outputs": [
    {
     "data": {
      "text/plain": [
       "['ahmed', 'ayman', 'doc', 'eng', 'mohamed', 'sec']"
      ]
     },
     "execution_count": 117,
     "metadata": {},
     "output_type": "execute_result"
    }
   ],
   "source": [
    "#8-sort function\n",
    "names.sort()\n",
    "names"
   ]
  },
  {
   "cell_type": "code",
   "execution_count": 143,
   "metadata": {},
   "outputs": [
    {
     "name": "stdout",
     "output_type": "stream",
     "text": [
      "[[...], 2, 3, 4, 5]\n",
      "[5, 4, 3, 2, [...]]\n",
      "[5, 4, 3, 2, 1]\n"
     ]
    }
   ],
   "source": [
    "#lab chalange\n",
    "x = [1,2,3,4,5]\n",
    "x[0]=x\n",
    "print(x)\n",
    "x[0][0].reverse()\n",
    "print(x)\n",
    "x[-1].insert(-1,1)\n",
    "print(x[:-1])"
   ]
  },
  {
   "cell_type": "code",
   "execution_count": 172,
   "metadata": {},
   "outputs": [
    {
     "name": "stdout",
     "output_type": "stream",
     "text": [
      "ayman\n",
      "55\n"
     ]
    }
   ],
   "source": [
    "#tuple same as list in collection of different datatypes \n",
    "#but fixed lenth size and cannot update values and cannot delete items from tuple\n",
    "#why you need tuple important in functions\n",
    "namesT=('ayman','mohamed','hassan',2.2,55)\n",
    "print (namesT[0])\n",
    "print (namesT[-1])"
   ]
  },
  {
   "cell_type": "code",
   "execution_count": 146,
   "metadata": {},
   "outputs": [
    {
     "ename": "TypeError",
     "evalue": "'tuple' object does not support item assignment",
     "output_type": "error",
     "traceback": [
      "\u001b[1;31m---------------------------------------------------------------------------\u001b[0m",
      "\u001b[1;31mTypeError\u001b[0m                                 Traceback (most recent call last)",
      "\u001b[1;32m<ipython-input-146-b78fbb856713>\u001b[0m in \u001b[0;36m<module>\u001b[1;34m()\u001b[0m\n\u001b[1;32m----> 1\u001b[1;33m \u001b[0mnamesT\u001b[0m\u001b[1;33m[\u001b[0m\u001b[1;36m0\u001b[0m\u001b[1;33m]\u001b[0m\u001b[1;33m=\u001b[0m\u001b[1;34m'ibrahem'\u001b[0m\u001b[1;33m\u001b[0m\u001b[0m\n\u001b[0m",
      "\u001b[1;31mTypeError\u001b[0m: 'tuple' object does not support item assignment"
     ]
    }
   ],
   "source": [
    "namesT[0]='ibrahem'"
   ]
  },
  {
   "cell_type": "code",
   "execution_count": 148,
   "metadata": {},
   "outputs": [
    {
     "data": {
      "text/plain": [
       "('ayman', 'mohamed', 'hassan')"
      ]
     },
     "execution_count": 148,
     "metadata": {},
     "output_type": "execute_result"
    }
   ],
   "source": [
    "namesT[0:3]"
   ]
  },
  {
   "cell_type": "code",
   "execution_count": 153,
   "metadata": {},
   "outputs": [
    {
     "data": {
      "text/plain": [
       "('ayman', 'mohamed', 'hassan', 2.2)"
      ]
     },
     "execution_count": 153,
     "metadata": {},
     "output_type": "execute_result"
    }
   ],
   "source": [
    "namesT[:-1]"
   ]
  },
  {
   "cell_type": "code",
   "execution_count": 176,
   "metadata": {},
   "outputs": [
    {
     "name": "stdout",
     "output_type": "stream",
     "text": [
      "(11, 33, 33, 55, 4, 11, 33, 33, 55, 4)\n"
     ]
    },
    {
     "data": {
      "text/plain": [
       "True"
      ]
     },
     "execution_count": 176,
     "metadata": {},
     "output_type": "execute_result"
    }
   ],
   "source": [
    "#tuple operation + | * | in\n",
    "numT=(11,33,33,55,4)\n",
    "namesT + numT\n",
    "print(numT * 2)\n",
    "11 in numT"
   ]
  },
  {
   "cell_type": "code",
   "execution_count": 173,
   "metadata": {},
   "outputs": [
    {
     "name": "stdout",
     "output_type": "stream",
     "text": [
      "5\n"
     ]
    },
    {
     "data": {
      "text/plain": [
       "'ayman'"
      ]
     },
     "execution_count": 173,
     "metadata": {},
     "output_type": "execute_result"
    }
   ],
   "source": [
    "#functions of tuples\n",
    "print(len(namesT))\n",
    "namet=('ayman', 'mohamed', 'hassan')\n",
    "min(namet)"
   ]
  },
  {
   "cell_type": "code",
   "execution_count": 156,
   "metadata": {},
   "outputs": [
    {
     "data": {
      "text/plain": [
       "'mohamed'"
      ]
     },
     "execution_count": 156,
     "metadata": {},
     "output_type": "execute_result"
    }
   ],
   "source": [
    "max(namet)"
   ]
  },
  {
   "cell_type": "code",
   "execution_count": 158,
   "metadata": {},
   "outputs": [
    {
     "ename": "NameError",
     "evalue": "name 'namesT' is not defined",
     "output_type": "error",
     "traceback": [
      "\u001b[1;31m---------------------------------------------------------------------------\u001b[0m",
      "\u001b[1;31mNameError\u001b[0m                                 Traceback (most recent call last)",
      "\u001b[1;32m<ipython-input-158-b55129e4b1c1>\u001b[0m in \u001b[0;36m<module>\u001b[1;34m()\u001b[0m\n\u001b[1;32m----> 1\u001b[1;33m \u001b[1;32mdel\u001b[0m\u001b[1;33m(\u001b[0m\u001b[0mnamesT\u001b[0m\u001b[1;33m)\u001b[0m\u001b[1;33m\u001b[0m\u001b[0m\n\u001b[0m\u001b[0;32m      2\u001b[0m \u001b[0mnamesT\u001b[0m\u001b[1;33m\u001b[0m\u001b[0m\n",
      "\u001b[1;31mNameError\u001b[0m: name 'namesT' is not defined"
     ]
    }
   ],
   "source": [
    "del(namesT)\n",
    "namesT"
   ]
  },
  {
   "cell_type": "code",
   "execution_count": 159,
   "metadata": {},
   "outputs": [
    {
     "data": {
      "text/plain": [
       "tuple"
      ]
     },
     "execution_count": 159,
     "metadata": {},
     "output_type": "execute_result"
    }
   ],
   "source": [
    "type(namet)"
   ]
  },
  {
   "cell_type": "code",
   "execution_count": 164,
   "metadata": {},
   "outputs": [
    {
     "data": {
      "text/plain": [
       "list"
      ]
     },
     "execution_count": 164,
     "metadata": {},
     "output_type": "execute_result"
    }
   ],
   "source": [
    "#convet tuple to list\n",
    "namet=list(namet)\n",
    "type(namet)"
   ]
  },
  {
   "cell_type": "code",
   "execution_count": 165,
   "metadata": {},
   "outputs": [
    {
     "data": {
      "text/plain": [
       "['ayman', 'mohamed', 'hassan', 500, 500, 500]"
      ]
     },
     "execution_count": 165,
     "metadata": {},
     "output_type": "execute_result"
    }
   ],
   "source": [
    "namet.append(500)\n",
    "namet"
   ]
  },
  {
   "cell_type": "code",
   "execution_count": 167,
   "metadata": {},
   "outputs": [
    {
     "data": {
      "text/plain": [
       "('ayman', 'mohamed', 'hassan', 500, 500, 500)"
      ]
     },
     "execution_count": 167,
     "metadata": {},
     "output_type": "execute_result"
    }
   ],
   "source": [
    "namet = tuple(namet)\n",
    "namet"
   ]
  },
  {
   "cell_type": "code",
   "execution_count": 3,
   "metadata": {},
   "outputs": [
    {
     "data": {
      "text/plain": [
       "'ayman'"
      ]
     },
     "execution_count": 3,
     "metadata": {},
     "output_type": "execute_result"
    }
   ],
   "source": [
    "#dictionary modern of list not index of value but key\n",
    "#now key : value \n",
    "searchdic={'name':'ayman','age':25}\n",
    "searchdic['name']"
   ]
  },
  {
   "cell_type": "code",
   "execution_count": 4,
   "metadata": {},
   "outputs": [
    {
     "data": {
      "text/plain": [
       "{'age': 25, 'name': 'hasssan'}"
      ]
     },
     "execution_count": 4,
     "metadata": {},
     "output_type": "execute_result"
    }
   ],
   "source": [
    "#update values\n",
    "searchdic['name']='hasssan'\n",
    "searchdic"
   ]
  },
  {
   "cell_type": "code",
   "execution_count": 11,
   "metadata": {},
   "outputs": [
    {
     "data": {
      "text/plain": [
       "{'name': 'ayman'}"
      ]
     },
     "execution_count": 11,
     "metadata": {},
     "output_type": "execute_result"
    }
   ],
   "source": [
    "#functions\n",
    "#-delete item by key\n",
    "searchdic={'name':'ayman','age':25}\n",
    "del(searchdic['age'])\n",
    "searchdic"
   ]
  },
  {
   "cell_type": "code",
   "execution_count": 5,
   "metadata": {},
   "outputs": [],
   "source": [
    "##-delete dictionary\n",
    "del(searchdic)\n",
    "searchdic"
   ]
  },
  {
   "cell_type": "code",
   "execution_count": 8,
   "metadata": {},
   "outputs": [
    {
     "data": {
      "text/plain": [
       "{}"
      ]
     },
     "execution_count": 8,
     "metadata": {},
     "output_type": "execute_result"
    }
   ],
   "source": [
    "#clear all items in dictionary\n",
    "searchdic={'name':'ayman','age':25}\n",
    "searchdic.clear()\n",
    "searchdic"
   ]
  },
  {
   "cell_type": "code",
   "execution_count": 9,
   "metadata": {},
   "outputs": [
    {
     "data": {
      "text/plain": [
       "\"{'name': 'ayman', 'age': 25}\""
      ]
     },
     "execution_count": 9,
     "metadata": {},
     "output_type": "execute_result"
    }
   ],
   "source": [
    "#convert dictionary to string\n",
    "searchdic={'name':'ayman','age':25}\n",
    "str(searchdic)"
   ]
  },
  {
   "cell_type": "code",
   "execution_count": 12,
   "metadata": {},
   "outputs": [
    {
     "data": {
      "text/plain": [
       "{'age': 25, 'name': 'ayman'}"
      ]
     },
     "execution_count": 12,
     "metadata": {},
     "output_type": "execute_result"
    }
   ],
   "source": [
    "#copy items in dict1 to dict2\n",
    "searchdic={'name':'ayman','age':25}\n",
    "dict2=searchdic.copy()\n",
    "dict2"
   ]
  },
  {
   "cell_type": "code",
   "execution_count": 14,
   "metadata": {},
   "outputs": [
    {
     "name": "stdout",
     "output_type": "stream",
     "text": [
      "25\n",
      "25\n"
     ]
    }
   ],
   "source": [
    "#search by key two way\n",
    "searchdic={'name':'ayman','age':25}\n",
    "print (searchdic['age'])\n",
    "print (searchdic.get('age'))"
   ]
  },
  {
   "cell_type": "code",
   "execution_count": 15,
   "metadata": {},
   "outputs": [
    {
     "data": {
      "text/plain": [
       "dict_values(['ayman', 25])"
      ]
     },
     "execution_count": 15,
     "metadata": {},
     "output_type": "execute_result"
    }
   ],
   "source": [
    "#get all values in list\n",
    "searchdic={'name':'ayman','age':25}\n",
    "searchdic.values()"
   ]
  },
  {
   "cell_type": "code",
   "execution_count": 16,
   "metadata": {},
   "outputs": [
    {
     "data": {
      "text/plain": [
       "dict_keys(['name', 'age'])"
      ]
     },
     "execution_count": 16,
     "metadata": {},
     "output_type": "execute_result"
    }
   ],
   "source": [
    "#get all keys in list\n",
    "searchdic={'name':'ayman','age':25}\n",
    "searchdic.keys()"
   ]
  },
  {
   "cell_type": "code",
   "execution_count": 17,
   "metadata": {},
   "outputs": [
    {
     "data": {
      "text/plain": [
       "dict_items([('name', 'ayman'), ('age', 25)])"
      ]
     },
     "execution_count": 17,
     "metadata": {},
     "output_type": "execute_result"
    }
   ],
   "source": [
    "#get every key|value in tuple inside list\n",
    "searchdic={'name':'ayman','age':25}\n",
    "searchdic.items()"
   ]
  },
  {
   "cell_type": "code",
   "execution_count": 21,
   "metadata": {},
   "outputs": [
    {
     "data": {
      "text/plain": [
       "{'age': None, 'name': None, 'postion': None, 'salary': None}"
      ]
     },
     "execution_count": 21,
     "metadata": {},
     "output_type": "execute_result"
    }
   ],
   "source": [
    "#take keys from list\n",
    "list1=['name','age','salary','postion']\n",
    "dict1=dict.fromkeys(list1)\n",
    "dict1"
   ]
  },
  {
   "cell_type": "code",
   "execution_count": 27,
   "metadata": {},
   "outputs": [
    {
     "name": "stdout",
     "output_type": "stream",
     "text": [
      "m\n",
      "n\n",
      "my name is ayma\n",
      "name is ayman\n",
      "my name \\ is ayman\n",
      "my name \t is ayman\n",
      "my name \n",
      " is ayman\n",
      "my name is ayman\n",
      "my name is mohamed , 25 year\n",
      "my name is ayman , 25 year\n",
      "11\n"
     ]
    },
    {
     "data": {
      "text/plain": [
       "['my', 'name', 'is', 'mohamed', ',', '25', 'year']"
      ]
     },
     "execution_count": 27,
     "metadata": {},
     "output_type": "execute_result"
    }
   ],
   "source": [
    "#string\n",
    "msg ='my name is ayman'\n",
    "#get char by location\n",
    "print(msg[0])\n",
    "print(msg[-1])\n",
    "#Slicing\n",
    "print(msg[:-1])\n",
    "print(msg[3:])\n",
    "#special char | Escape characters  \\\\ \\t \\n >>>\n",
    "msg ='my name \\\\ is ayman'\n",
    "print(msg)\n",
    "msg ='my name \\t is ayman'\n",
    "print(msg)\n",
    "msg ='my name \\n is ayman'\n",
    "print(msg)\n",
    "#String formating (  percentage %  + character s for string d for decimal )\n",
    "msg ='my name is %s' % ('ayman')\n",
    "print (msg)\n",
    "\n",
    "name= 'mohamed'\n",
    "age =25\n",
    "msg ='my name is %s , %d year' % (name,age)\n",
    "print (msg)\n",
    "#functions\n",
    "#1-replace character must use built in functions return message after change only\n",
    "msg_update=msg.replace('mohamed','ayman')\n",
    "print(msg_update)\n",
    "#2-lenth of string\n",
    "len(msg)\n",
    "#3-index of char start from index\n",
    "msg.index('mohamed')\n",
    "print(msg_in)\n",
    "#4-capital char\n",
    "msg.capitalize()\n",
    "#5-split return list have words in string any (sperator)\n",
    "msg.split(' ')\n",
    "##############################################################################################\n",
    "##Note## important go to https://www.tutorialspoint.com/python/index.htm built in functions ##\n",
    "##############################################################################################"
   ]
  },
  {
   "cell_type": "code",
   "execution_count": 43,
   "metadata": {},
   "outputs": [
    {
     "name": "stdout",
     "output_type": "stream",
     "text": [
      "m\n",
      "y\n",
      " \n",
      "n\n",
      "m\n",
      "m\n",
      "n\n",
      "range(0, 10)\n",
      "[0, 1, 2, 3, 4, 5, 6, 7, 8, 9]\n",
      "[2, 4, 6, 8]\n",
      "0\n",
      "1\n",
      "2\n",
      "3\n",
      "4\n",
      "5\n",
      "6\n",
      "7\n",
      "8\n",
      "9\n",
      "m\n",
      "y\n",
      " \n",
      "n\n",
      "a\n",
      "m\n",
      "e\n",
      " \n",
      "i\n",
      "s\n",
      " \n",
      "a\n",
      "y\n",
      "m\n",
      "a\n",
      "n\n"
     ]
    }
   ],
   "source": [
    "#loops two way\n",
    "#why need loops ? asumme that need print chars of string  \n",
    "msg='my name is ayman'\n",
    "print(msg[0])\n",
    "print(msg[1]) \n",
    "print(msg[2])\n",
    "print(msg[3])\n",
    "print(msg[5])\n",
    "#first type :for loop\n",
    "# must Know Start + End + Step\n",
    "#start 'm'\n",
    "print(msg[0])\n",
    "#End   'n'\n",
    "print(msg[len(msg)-1])\n",
    "#step  using range function \n",
    "num = range(10)\n",
    "print(num)\n",
    "num = list(num)\n",
    "print (num)\n",
    "number =range(2,10,2)\n",
    "number = list(number)\n",
    "print(number)\n",
    "#----------------------------------------------------\n",
    "for n in range(10) :\n",
    "    print(n)\n",
    "lenth=len(msg)\n",
    "for s in range(lenth) :\n",
    "    print(msg[s])"
   ]
  },
  {
   "cell_type": "code",
   "execution_count": 51,
   "metadata": {},
   "outputs": [
    {
     "name": "stdout",
     "output_type": "stream",
     "text": [
      "m\n",
      "y\n",
      " \n",
      "n\n",
      "a\n",
      "m\n",
      "e\n",
      " \n",
      "i\n",
      "s\n",
      " \n",
      "a\n",
      "y\n",
      "m\n",
      "a\n",
      "n\n",
      "ahmed\n",
      "ayman\n",
      "mohamed\n",
      "name ........ ayman\n",
      "age ........ 25\n",
      "gender ........ male\n",
      "name\n",
      "age\n",
      "gender\n",
      "ayman\n",
      "25\n",
      "male\n"
     ]
    }
   ],
   "source": [
    "#note# you can print char without index\n",
    "msg='my name is ayman'\n",
    "for s in msg :\n",
    "    print(s)\n",
    "#for loop with list\n",
    "name_list=['ahmed','ayman','mohamed']\n",
    "for name in name_list :\n",
    "    print(name)\n",
    "#for loop with dictionary\n",
    "info_dict = {'name':'ayman','age':25,'gender':'male'}\n",
    "for key,value in info_dict.items():\n",
    "    print(key,\"........\",value)\n",
    "\n",
    "for key in info_dict.keys():\n",
    "    print(key)\n",
    "\n",
    "for value in info_dict.values():\n",
    "    print(value)"
   ]
  },
  {
   "cell_type": "code",
   "execution_count": null,
   "metadata": {},
   "outputs": [],
   "source": [
    "#second type :while loop\n",
    "#when no start no end no step cannot for loop\n",
    "#for example: when user press X Quit\n",
    "#while run with condition why use if Noooo while is loop run multi times not once\n",
    "num = input('plz enter your number')\n",
    "#convert\n",
    "num = int(num)\n",
    "while num !=0 :\n",
    "    print('continue')    "
   ]
  },
  {
   "cell_type": "code",
   "execution_count": 2,
   "metadata": {},
   "outputs": [
    {
     "name": "stdout",
     "output_type": "stream",
     "text": [
      "*****"
     ]
    }
   ],
   "source": [
    "#nested Loop\n",
    "#*****\n",
    "for i in range(5):\n",
    "    print('*',end='')"
   ]
  },
  {
   "cell_type": "code",
   "execution_count": 5,
   "metadata": {},
   "outputs": [
    {
     "name": "stdout",
     "output_type": "stream",
     "text": [
      "*****\n",
      "\n",
      "*****\n",
      "\n"
     ]
    }
   ],
   "source": [
    "#*****\n",
    "#*****\n",
    "for line in range(2) :             #for raws\n",
    "    for i in range(5):             #for coulms\n",
    "        print('*',end='')\n",
    "    print('\\n')"
   ]
  },
  {
   "cell_type": "code",
   "execution_count": 23,
   "metadata": {},
   "outputs": [
    {
     "name": "stdout",
     "output_type": "stream",
     "text": [
      "plz enter raw number :10\n",
      "**********\n",
      "\n",
      "*********\n",
      "\n",
      "********\n",
      "\n",
      "*******\n",
      "\n",
      "******\n",
      "\n",
      "*****\n",
      "\n",
      "****\n",
      "\n",
      "***\n",
      "\n",
      "**\n",
      "\n",
      "*\n",
      "\n"
     ]
    }
   ],
   "source": [
    "#*****\n",
    "#****\n",
    "#***\n",
    "#**\n",
    "#*\n",
    "step =int(input(\"plz enter raw number :\"))\n",
    "for line in range(step) :                   #for raws\n",
    "    for i in range(step):                   #for coulms\n",
    "        print('*',end='')\n",
    "    step=step-1\n",
    "    print('\\n')"
   ]
  },
  {
   "cell_type": "code",
   "execution_count": 25,
   "metadata": {},
   "outputs": [
    {
     "name": "stdout",
     "output_type": "stream",
     "text": [
      "plz enter raw number :5\n",
      "*\n",
      "\n",
      "**\n",
      "\n",
      "***\n",
      "\n",
      "****\n",
      "\n",
      "*****\n",
      "\n"
     ]
    }
   ],
   "source": [
    "#*\n",
    "#**\n",
    "#***\n",
    "#****\n",
    "#*****\n",
    "step =int(input(\"plz enter raw number :\"))\n",
    "start=step-1\n",
    "for line in range(step) :                   #for raws\n",
    "    for i in range(step-start):                   #for coulms\n",
    "        print('*',end='')\n",
    "    step=step+1\n",
    "    print('\\n')"
   ]
  },
  {
   "cell_type": "code",
   "execution_count": 62,
   "metadata": {},
   "outputs": [
    {
     "name": "stdout",
     "output_type": "stream",
     "text": [
      "plz enter raw number :7\n",
      "       *\n",
      "\n",
      "      ***\n",
      "\n",
      "     *****\n",
      "\n",
      "    *******\n",
      "\n",
      "   *********\n",
      "\n",
      "  ***********\n",
      "\n",
      " *************\n",
      "\n"
     ]
    }
   ],
   "source": [
    "#   *\n",
    "#  ***\n",
    "# *****\n",
    "raws = int(input(\"plz enter raw number :\"))\n",
    "coulm = raws-1\n",
    "indent=raws\n",
    "for line in range(raws) :                   #for raws\n",
    "    print(indent*' ',end='')\n",
    "    for i in range(raws-coulm):                   #for coulms                   \n",
    "        print('*',end='')    \n",
    "    raws=raws+2\n",
    "    indent=indent-1\n",
    "    print('\\n')"
   ]
  },
  {
   "cell_type": "code",
   "execution_count": 65,
   "metadata": {},
   "outputs": [
    {
     "name": "stdout",
     "output_type": "stream",
     "text": [
      "p\n",
      "y\n",
      "t\n",
      "p\n",
      "y\n",
      "t\n",
      "o\n",
      "n\n",
      "p\n",
      "y\n",
      "t\n",
      "o\n",
      "n\n"
     ]
    }
   ],
   "source": [
    "#10#control behavior of loops \n",
    "#1-break : Quit from loop \n",
    "#2-continue : cancel this iteration and continue next iteration\n",
    "#3-pass : not do any thing \n",
    "msg ='python'\n",
    "for ch in msg :\n",
    "    if ch =='h' :\n",
    "        break\n",
    "    else :\n",
    "        print(ch)\n",
    "##############################################\n",
    "msg ='python'\n",
    "for ch in msg :\n",
    "    if ch =='h' :\n",
    "        continue    #cancel iteration + continue\n",
    "    else :\n",
    "        print(ch)\n",
    "##############################################\n",
    "msg ='python'\n",
    "for ch in msg :\n",
    "    if ch =='h' :\n",
    "        pass\n",
    "    else :\n",
    "        print(ch)"
   ]
  },
  {
   "cell_type": "code",
   "execution_count": 3,
   "metadata": {},
   "outputs": [
    {
     "name": "stdout",
     "output_type": "stream",
     "text": [
      "*****\n",
      "\n",
      "*****\n",
      "\n",
      "Hello word\n",
      "*****\n",
      "\n",
      "*****\n",
      "\n"
     ]
    }
   ],
   "source": [
    "#*****\n",
    "#*****\n",
    "#hello word\n",
    "#*****\n",
    "#*****\n",
    "for line in range(2) :             #for raws\n",
    "    for i in range(5):             #for coulms\n",
    "        print('*',end='')\n",
    "    print('\\n')\n",
    "print('Hello word')\n",
    "for line in range(2) :             #for raws\n",
    "    for i in range(5):             #for coulms\n",
    "        print('*',end='')\n",
    "    print('\\n')\n",
    "#that is problem the same code repeated in math  5+15  >>>>> 5(1+3) so need function"
   ]
  },
  {
   "cell_type": "code",
   "execution_count": null,
   "metadata": {},
   "outputs": [],
   "source": [
    "#11#function\n",
    "'''\n",
    "Functions\n",
    "A function is reusable code that can be called anywhere in your program. Functions improve readability of your code:\n",
    "it’s easier for someone to understand code using functions instead of long lists of instructions.\n",
    "'''\n",
    "#1#define\n",
    "'''\n",
    "The def keyword tells Python we have a piece of reusable code (A function). A program can have many functions.\n",
    "'''\n",
    "#2#calling"
   ]
  },
  {
   "cell_type": "code",
   "execution_count": 4,
   "metadata": {},
   "outputs": [
    {
     "name": "stdout",
     "output_type": "stream",
     "text": [
      "*****\n",
      "\n",
      "*****\n",
      "\n",
      "hello world\n",
      "*****\n",
      "\n",
      "*****\n",
      "\n"
     ]
    }
   ],
   "source": [
    "def print_star ():                     #define \n",
    "    for line in range(2) :             #for raws\n",
    "        for i in range(5):             #for coulms\n",
    "            print('*',end='')\n",
    "        print('\\n')\n",
    "\n",
    "print_star()                           #function calling\n",
    "print('hello world') \n",
    "print_star()                           #function calling"
   ]
  },
  {
   "cell_type": "code",
   "execution_count": 6,
   "metadata": {},
   "outputs": [
    {
     "name": "stdout",
     "output_type": "stream",
     "text": [
      "*****\n",
      "\n",
      "*****\n",
      "\n",
      "*****\n",
      "\n",
      "hello world\n",
      "*****\n",
      "\n",
      "*****\n",
      "\n"
     ]
    }
   ],
   "source": [
    "#reuse code\n",
    "#*****\n",
    "#*****\n",
    "#*****\n",
    "#hello word\n",
    "#*****\n",
    "#*****\n",
    "def print_star (raw , col):\n",
    "    for line in range(raw) :             #for raws\n",
    "        for i in range(col):             #for coulms\n",
    "            print('*',end='')\n",
    "        print('\\n')\n",
    "\n",
    "print_star(3,5)                           #function calling #num of raw 3\n",
    "print('hello world') \n",
    "print_star(2,5)                           #function calling #num of raw 2"
   ]
  },
  {
   "cell_type": "code",
   "execution_count": 1,
   "metadata": {},
   "outputs": [
    {
     "name": "stdout",
     "output_type": "stream",
     "text": [
      "plz enter num1 :\n",
      "22\n",
      "plz enter num2 :\n",
      "11\n",
      "33\n",
      "33\n",
      "None\n"
     ]
    }
   ],
   "source": [
    "#3#different between return value and none vlaue\n",
    "def summation(num1 , num2):\n",
    "    print(num1+num2)\n",
    "\n",
    "n1=int(input('plz enter num1 :\\n'))\n",
    "n2=int(input('plz enter num2 :\\n'))\n",
    "summation(n1,n2)\n",
    "\n",
    "#touch difference here\n",
    "summ=summation(n1,n2)\n",
    "print(summ)"
   ]
  },
  {
   "cell_type": "code",
   "execution_count": 2,
   "metadata": {},
   "outputs": [
    {
     "name": "stdout",
     "output_type": "stream",
     "text": [
      "plz enter num1 :\n",
      "22\n",
      "plz enter num2 :\n",
      "1\n",
      "23\n"
     ]
    }
   ],
   "source": [
    "def summation(num1 , num2):\n",
    "    return num1+num2\n",
    "\n",
    "n1=int(input('plz enter num1 :\\n'))\n",
    "n2=int(input('plz enter num2 :\\n'))\n",
    "#summation(n1,n2)\n",
    "\n",
    "#touch difference here\n",
    "summ=summation(n1,n2)\n",
    "print(summ)"
   ]
  },
  {
   "cell_type": "code",
   "execution_count": null,
   "metadata": {},
   "outputs": [],
   "source": [
    "####note###\n",
    "#parameter: unkown value determine based in input (like input function in 2.7)\n",
    "#function can Take OR return any datatype (int float string list tuple dic)"
   ]
  },
  {
   "cell_type": "code",
   "execution_count": 3,
   "metadata": {},
   "outputs": [
    {
     "ename": "TypeError",
     "evalue": "summation() takes exactly 2 arguments (1 given)",
     "output_type": "error",
     "traceback": [
      "\u001b[1;31m---------------------------------------------------------------------------\u001b[0m",
      "\u001b[1;31mTypeError\u001b[0m                                 Traceback (most recent call last)",
      "\u001b[1;32m<ipython-input-3-a6a5b66830af>\u001b[0m in \u001b[0;36m<module>\u001b[1;34m()\u001b[0m\n\u001b[0;32m      1\u001b[0m \u001b[1;31m#types of arguments passing to function\u001b[0m\u001b[1;33m\u001b[0m\u001b[1;33m\u001b[0m\u001b[0m\n\u001b[0;32m      2\u001b[0m \u001b[1;31m#1-required argument\u001b[0m\u001b[1;33m\u001b[0m\u001b[1;33m\u001b[0m\u001b[0m\n\u001b[1;32m----> 3\u001b[1;33m \u001b[0msummation\u001b[0m\u001b[1;33m(\u001b[0m\u001b[1;36m20\u001b[0m\u001b[1;33m)\u001b[0m\u001b[1;33m\u001b[0m\u001b[0m\n\u001b[0m",
      "\u001b[1;31mTypeError\u001b[0m: summation() takes exactly 2 arguments (1 given)"
     ]
    }
   ],
   "source": [
    "#types of arguments passing to function\n",
    "#1-required argument\n",
    "summation(20) "
   ]
  },
  {
   "cell_type": "code",
   "execution_count": 8,
   "metadata": {},
   "outputs": [
    {
     "name": "stdout",
     "output_type": "stream",
     "text": [
      "*****\n",
      "\n",
      "hello world\n",
      "*****\n",
      "\n",
      "*****\n",
      "\n",
      "*****\n",
      "\n",
      "*****\n",
      "\n"
     ]
    }
   ],
   "source": [
    "#2-optional |default arguments \n",
    "def print_star (col , raw =1):          #must required first\n",
    "    for line in range(raw) :             #for raws\n",
    "        for i in range(col):             #for coulms\n",
    "            print('*',end='')\n",
    "        print('\\n')\n",
    "\n",
    "print_star(5)                           #function calling #num of raw default =1\n",
    "print('hello world') \n",
    "print_star(5,4)                           #function calling #num of raw 4"
   ]
  },
  {
   "cell_type": "code",
   "execution_count": 12,
   "metadata": {},
   "outputs": [
    {
     "name": "stdout",
     "output_type": "stream",
     "text": [
      "*\n",
      "\n",
      "hello world\n",
      "*\n",
      "\n",
      "*****\n",
      "\n",
      "*****\n",
      "\n",
      "*****\n",
      "\n",
      "*****\n",
      "\n"
     ]
    }
   ],
   "source": [
    "def print_star (col=1 , raw =1):          \n",
    "    for line in range(raw) :             #for raws\n",
    "        for i in range(col):             #for coulms\n",
    "            print('*',end='')\n",
    "        print('\\n')\n",
    "\n",
    "print_star()                           #function calling #num of raw default =1\n",
    "print('hello world') \n",
    "print_star()                           #function calling #num of raw default=1\n",
    "print_star(5,2)\n",
    "print_star(col=5,raw=2)"
   ]
  },
  {
   "cell_type": "code",
   "execution_count": 15,
   "metadata": {},
   "outputs": [
    {
     "name": "stdout",
     "output_type": "stream",
     "text": [
      "values in function [10, 20, 30, [40, 50, 60]]\n",
      "values out function [10, 20, 30, [40, 50, 60]]\n"
     ]
    }
   ],
   "source": [
    "#5##important## pass By value VS pass BY reference\n",
    "# There are books which call the strategy of Python call-by-value and others call it call-by-reference.\n",
    "# You may ask yourself, what is right.\n",
    "'''\n",
    "Correctly speaking, Python uses a mechanism, which is known as \"Call-by-Object\", \n",
    "sometimes also called \"Call by Object Reference\" or \"Call by Sharing\".\n",
    "'''\n",
    "#explained\n",
    "\"\"\"\n",
    "If you pass immutable arguments like integers, strings or tuples to a function, the passing acts like call-by-value. \n",
    "The object reference is passed to the function parameters. They can't be changed within the function, \n",
    "because they can't be changed at all, i.e. they are immutable. It's different, if we pass mutable arguments. \n",
    "They are also passed by object reference, but they can be changed in place in the function. If we pass a list to a function,\n",
    "we have to consider two cases: Elements of a list can be changed in place, \n",
    "i.e. the list will be changed even in the caller's scope. If a new list is assigned to the name, \n",
    "the old list will not be affected, i.e. the list in the caller's scope will remain untouched.\n",
    "\"\"\"\n",
    "# \n",
    "#\n",
    "def changeme(myvalue):\n",
    "    myvalue.append([40,50,60])\n",
    "    print('values in function',myvalue)\n",
    "mylist=[10,20,30]\n",
    "changeme(mylist)\n",
    "print('values out function',mylist)\n",
    "#edit mylist also because use same version of mylist"
   ]
  },
  {
   "cell_type": "code",
   "execution_count": 4,
   "metadata": {},
   "outputs": [
    {
     "name": "stdout",
     "output_type": "stream",
     "text": [
      "('values in function', 'AYMAN')\n",
      "('values out function', 'ayman')\n"
     ]
    }
   ],
   "source": [
    "#iam trying\n",
    "def tryme(myvalue):\n",
    "    myvalue=myvalue.upper()\n",
    "    print('values in function',myvalue)\n",
    "    \n",
    "mystr='ayman'\n",
    "tryme(mystr)\n",
    "print('values out function',mystr)\n",
    "#####################################################################################\n",
    "#note# values is different because string is un mutable variable not dynamic like list"
   ]
  },
  {
   "cell_type": "code",
   "execution_count": 16,
   "metadata": {},
   "outputs": [
    {
     "name": "stdout",
     "output_type": "stream",
     "text": [
      "values in function [50, 60, 70]\n",
      "values out function [10, 20, 30]\n"
     ]
    }
   ],
   "source": [
    "#when create new reference of variable not edit orignal (mylist)\n",
    "def changeme(myvalue):\n",
    "    #create new reference(overwrite old values with new value)\n",
    "    myvalue =[50,60,70]\n",
    "    print('values in function',myvalue)\n",
    "mylist=[10,20,30]\n",
    "changeme(mylist)\n",
    "print('values out function',mylist)\n",
    "\n",
    "##important## best practice when you want create new ref (overwite) do that out of function"
   ]
  },
  {
   "cell_type": "code",
   "execution_count": 8,
   "metadata": {},
   "outputs": [
    {
     "name": "stdout",
     "output_type": "stream",
     "text": [
      "('x=', 9, ' id=', 38887912L)\n",
      "('x=', 42, ' id=', 38889112L)\n"
     ]
    }
   ],
   "source": [
    "def ref_demo(x):\n",
    "    print (\"x=\",x,\" id=\",id(x))\n",
    "    x=42\n",
    "    print (\"x=\",x,\" id=\",id(x))\n",
    "x=9\n",
    "ref_demo(x)\n",
    "\n",
    "\n",
    "#This means that Python initially behaves like call-by-reference, \n",
    "#but as soon as we are changing the value of such a variable, Python \"switches\" to call-by-value.\n"
   ]
  },
  {
   "cell_type": "code",
   "execution_count": 9,
   "metadata": {},
   "outputs": [
    {
     "name": "stdout",
     "output_type": "stream",
     "text": [
      "8\n",
      "26\n"
     ]
    }
   ],
   "source": [
    "6#dynamic function in python\n",
    "#(*)arguments Functions \n",
    "def doSum(*args):\n",
    "    \n",
    "    sum = 0   \n",
    "    for i in args: \n",
    "        sum += i; \n",
    "    print(sum) \n",
    "doSum(2,6) \n",
    "doSum(2,4,5,15) \n",
    "# output: 8 \n",
    "# output: 26 "
   ]
  },
  {
   "cell_type": "code",
   "execution_count": null,
   "metadata": {},
   "outputs": [],
   "source": [
    "#(**)arguments funcrions\n",
    "def doSum(**kwargs):   \n",
    "    for k in kwargs: \n",
    "        print(kwargs[k]) \n",
    "doSum(x = 2, y=26) # output: 2 \n",
    "                     #      26 "
   ]
  },
  {
   "cell_type": "code",
   "execution_count": 11,
   "metadata": {},
   "outputs": [
    {
     "name": "stdout",
     "output_type": "stream",
     "text": [
      "('average is ', 2)\n",
      "('average is ', 2)\n",
      "(2, 3)\n",
      "('average is ', 3)\n",
      "(2, 3, 4)\n",
      "('average is ', 5)\n",
      "(1, 2, 3, 4, 5, 6, 7, 8, 9, 10)\n"
     ]
    }
   ],
   "source": [
    "#*args and **kwargs in Python and difference between them\n",
    "#What is *args:\n",
    "#*args is used to pass multiple argument values to a function. For example , \n",
    "#following method is used to find the average of two numbers :\n",
    "def find_avg(a,b):\n",
    "        average = (a+b)/2\n",
    "        print (\"average is \",average)\n",
    "find_avg(2,3)\n",
    "\n",
    "#We can pass any two number and it will print out the average result.\n",
    "#But if you want to find average of 3 numbers, do you want to write a different method for it\n",
    "#Again for 4 numbers ? Ofcourse we don’t want same styled method for each cases. \n",
    "#What we want is we will pass any number of numbers to the same method and it will calculate the average. To achieve this,\n",
    "#we can use ‘*args’ that allows to pass any number of arguments to a function. Following example shows how :\n",
    "\n",
    "def find_avg(*numbers):\n",
    "  sum = 0\n",
    "  for i in numbers :\n",
    "    sum += i\n",
    "  print (\"average is \",sum/(len(numbers)))\n",
    "  print (numbers)\n",
    "find_avg(2,3)\n",
    "find_avg(2,3,4)\n",
    "find_avg(1,2,3,4,5,6,7,8,9,10)"
   ]
  },
  {
   "cell_type": "code",
   "execution_count": 12,
   "metadata": {},
   "outputs": [
    {
     "name": "stdout",
     "output_type": "stream",
     "text": [
      "{'two': 2, 'one': 1}\n"
     ]
    }
   ],
   "source": [
    "#What is **kwargs \n",
    "#So, ‘*args’ is used to pass variable arguments to a function. Similarly,\n",
    "#‘**kwargs’ is used to pass variable ‘key-value’ arguments to a function. Example :\n",
    "def print_values(**values):\n",
    "  print (values)\n",
    "print_values(one = 1, two = 2)"
   ]
  },
  {
   "cell_type": "code",
   "execution_count": 13,
   "metadata": {},
   "outputs": [
    {
     "name": "stdout",
     "output_type": "stream",
     "text": [
      "four = 4\n",
      "three = 3\n",
      "five = 5\n",
      "two = 2\n",
      "one = 1\n"
     ]
    }
   ],
   "source": [
    "#That means, it passes a dictionary as an argument. \n",
    "#As it is a dictionary, all dictionary operations can be performed. We can pass any number of key-value pairs :\n",
    "\n",
    "def print_values(**values):\n",
    "  for key, value in values.items():\n",
    "    print(\"{} = {}\".format(key,value))\n",
    "print_values(one = 1,two = 2,three = 3,four = 4,five = 5)"
   ]
  },
  {
   "cell_type": "code",
   "execution_count": 14,
   "metadata": {},
   "outputs": [
    {
     "name": "stdout",
     "output_type": "stream",
     "text": [
      "1\n",
      "2\n",
      "1\n",
      "2\n"
     ]
    }
   ],
   "source": [
    "#Example to use *args and **kwargs in Function Calls :\n",
    "def avg_of_two(a,b):\n",
    "  print ((a+b)/2)\n",
    "def avg_of_three(a,b,c):\n",
    "  print ((a+b+c)/3)\n",
    "var1 = (1,2)\n",
    "avg_of_two(*var1)\n",
    "var2 = (1,2,3)\n",
    "avg_of_three(*var2)\n",
    "\n",
    "#--------------------------\n",
    "\n",
    "def avg_of_two(a,b):\n",
    "  print ((a+b)/2)\n",
    "def avg_of_three(a,b,c):\n",
    "  print ((a+b+c)/3)\n",
    "var1 = {'a':1,'b':2}\n",
    "avg_of_two(**var1)\n",
    "var2 = {'a':1,'b':2,'c':3}\n",
    "avg_of_three(**var2)"
   ]
  },
  {
   "cell_type": "code",
   "execution_count": 15,
   "metadata": {},
   "outputs": [
    {
     "name": "stdout",
     "output_type": "stream",
     "text": [
      "('a is ', 1)\n",
      "('b is ', 2)\n",
      "('args is ', (3, 4, 5, 6, 7, 8, 9))\n",
      "('kwargs is ', {})\n",
      "-----------\n",
      "('a is ', 1)\n",
      "('b is ', 2)\n",
      "('args is ', (3, 4, 5, 6))\n",
      "('kwargs is ', {'c': 7, 'e': 9, 'd': 8})\n",
      "-----------\n"
     ]
    }
   ],
   "source": [
    "#Using *args , **kwargs and other variables :\n",
    "def show_details(a,b,*args,**kwargs):\n",
    "  print(\"a is \",a)\n",
    "  print(\"b is \",b)\n",
    "  print(\"args is \",args)\n",
    "  print(\"kwargs is \",kwargs)\n",
    "show_details(1,2,3,4,5,6,7,8,9)\n",
    "print(\"-----------\")\n",
    "show_details(1,2,3,4,5,6,c= 7,d = 8,e = 9)\n",
    "print(\"-----------\")"
   ]
  },
  {
   "cell_type": "code",
   "execution_count": 16,
   "metadata": {},
   "outputs": [
    {
     "name": "stdout",
     "output_type": "stream",
     "text": [
      "factorial has been called with n = 5\n",
      "factorial has been called with n = 4\n",
      "factorial has been called with n = 3\n",
      "factorial has been called with n = 2\n",
      "factorial has been called with n = 1\n",
      "('intermediate result for ', 2, ' * factorial(', 1, '): ', 2)\n",
      "('intermediate result for ', 3, ' * factorial(', 2, '): ', 6)\n",
      "('intermediate result for ', 4, ' * factorial(', 3, '): ', 24)\n",
      "('intermediate result for ', 5, ' * factorial(', 4, '): ', 120)\n",
      "120\n"
     ]
    }
   ],
   "source": [
    "#recursion\n",
    "#The adjective \"recursive\" originates from the Latin verb \"recurrere\",\n",
    "#which means \"to run back\". And this is what a recursive definition or a recursive function does: \n",
    "#It is \"running back\" or returning to itself. Most people who have done some mathematics, \n",
    "# computer science or read a book about programming will have encountered the factorial, \n",
    "#which is defined in mathematical terms as \n",
    "\n",
    "#n! = n * (n-1)!, if n > 1 and f(1) = 1 \n",
    "\n",
    "#definition\n",
    "#Recursion is a way of programming or coding a problem, in which a function calls itself one or more times in its body.\n",
    "#Usually, it is returning the return value of this function call. \n",
    "#If a function definition fulfils the condition of recursion, we call this function a recursive function.\n",
    "\n",
    "def factorial(n):\n",
    "    print(\"factorial has been called with n = \" + str(n))\n",
    "    if n == 1:\n",
    "        return 1\n",
    "    else:\n",
    "        res = n * factorial(n-1)\n",
    "        print(\"intermediate result for \", n, \" * factorial(\" ,n-1, \"): \",res)\n",
    "        return res  \n",
    "\n",
    "print(factorial(5))"
   ]
  },
  {
   "cell_type": "code",
   "execution_count": 17,
   "metadata": {},
   "outputs": [
    {
     "name": "stdout",
     "output_type": "stream",
     "text": [
      "33\n"
     ]
    }
   ],
   "source": [
    "#adding all numbers in a list.  Without recursion, this could be:\n",
    "#!/usr/bin/env python\n",
    " \n",
    "def sum(list):\n",
    "    sum = 0\n",
    " \n",
    "    # Add every number in the list.\n",
    "    for i in range(0, len(list)):\n",
    "        sum = sum + list[i]\n",
    " \n",
    "    # Return the sum.\n",
    "    return sum\n",
    " \n",
    "print(sum([5,7,3,8,10]))"
   ]
  },
  {
   "cell_type": "code",
   "execution_count": 18,
   "metadata": {},
   "outputs": [
    {
     "name": "stdout",
     "output_type": "stream",
     "text": [
      "33\n"
     ]
    }
   ],
   "source": [
    "#To do this recursively:\n",
    "def sum(list):\n",
    "   if len(list) == 1:\n",
    "        return list[0]\n",
    "   else:\n",
    "        return list[0] + sum(list[1:])\n",
    " \n",
    "print(sum([5,7,3,8,10]))"
   ]
  },
  {
   "cell_type": "code",
   "execution_count": 19,
   "metadata": {},
   "outputs": [
    {
     "ename": "RuntimeError",
     "evalue": "maximum recursion depth exceeded",
     "output_type": "error",
     "traceback": [
      "\u001b[1;31m---------------------------------------------------------------------------\u001b[0m",
      "\u001b[1;31mRuntimeError\u001b[0m                              Traceback (most recent call last)",
      "\u001b[1;32m<ipython-input-19-328b2cc0a7df>\u001b[0m in \u001b[0;36m<module>\u001b[1;34m()\u001b[0m\n\u001b[0;32m     13\u001b[0m         \u001b[1;32mreturn\u001b[0m \u001b[0mn\u001b[0m \u001b[1;33m*\u001b[0m \u001b[0mfactorial\u001b[0m\u001b[1;33m(\u001b[0m\u001b[0mn\u001b[0m\u001b[1;33m-\u001b[0m\u001b[1;36m1\u001b[0m\u001b[1;33m)\u001b[0m\u001b[1;33m\u001b[0m\u001b[0m\n\u001b[0;32m     14\u001b[0m \u001b[1;33m\u001b[0m\u001b[0m\n\u001b[1;32m---> 15\u001b[1;33m \u001b[1;32mprint\u001b[0m \u001b[0mfactorial\u001b[0m\u001b[1;33m(\u001b[0m\u001b[1;36m3000\u001b[0m\u001b[1;33m)\u001b[0m\u001b[1;33m\u001b[0m\u001b[0m\n\u001b[0m",
      "\u001b[1;32m<ipython-input-19-328b2cc0a7df>\u001b[0m in \u001b[0;36mfactorial\u001b[1;34m(n)\u001b[0m\n\u001b[0;32m     11\u001b[0m         \u001b[1;32mreturn\u001b[0m \u001b[1;36m1\u001b[0m\u001b[1;33m\u001b[0m\u001b[0m\n\u001b[0;32m     12\u001b[0m     \u001b[1;32melse\u001b[0m\u001b[1;33m:\u001b[0m\u001b[1;33m\u001b[0m\u001b[0m\n\u001b[1;32m---> 13\u001b[1;33m         \u001b[1;32mreturn\u001b[0m \u001b[0mn\u001b[0m \u001b[1;33m*\u001b[0m \u001b[0mfactorial\u001b[0m\u001b[1;33m(\u001b[0m\u001b[0mn\u001b[0m\u001b[1;33m-\u001b[0m\u001b[1;36m1\u001b[0m\u001b[1;33m)\u001b[0m\u001b[1;33m\u001b[0m\u001b[0m\n\u001b[0m\u001b[0;32m     14\u001b[0m \u001b[1;33m\u001b[0m\u001b[0m\n\u001b[0;32m     15\u001b[0m \u001b[1;32mprint\u001b[0m \u001b[0mfactorial\u001b[0m\u001b[1;33m(\u001b[0m\u001b[1;36m3000\u001b[0m\u001b[1;33m)\u001b[0m\u001b[1;33m\u001b[0m\u001b[0m\n",
      "... last 1 frames repeated, from the frame below ...\n",
      "\u001b[1;32m<ipython-input-19-328b2cc0a7df>\u001b[0m in \u001b[0;36mfactorial\u001b[1;34m(n)\u001b[0m\n\u001b[0;32m     11\u001b[0m         \u001b[1;32mreturn\u001b[0m \u001b[1;36m1\u001b[0m\u001b[1;33m\u001b[0m\u001b[0m\n\u001b[0;32m     12\u001b[0m     \u001b[1;32melse\u001b[0m\u001b[1;33m:\u001b[0m\u001b[1;33m\u001b[0m\u001b[0m\n\u001b[1;32m---> 13\u001b[1;33m         \u001b[1;32mreturn\u001b[0m \u001b[0mn\u001b[0m \u001b[1;33m*\u001b[0m \u001b[0mfactorial\u001b[0m\u001b[1;33m(\u001b[0m\u001b[0mn\u001b[0m\u001b[1;33m-\u001b[0m\u001b[1;36m1\u001b[0m\u001b[1;33m)\u001b[0m\u001b[1;33m\u001b[0m\u001b[0m\n\u001b[0m\u001b[0;32m     14\u001b[0m \u001b[1;33m\u001b[0m\u001b[0m\n\u001b[0;32m     15\u001b[0m \u001b[1;32mprint\u001b[0m \u001b[0mfactorial\u001b[0m\u001b[1;33m(\u001b[0m\u001b[1;36m3000\u001b[0m\u001b[1;33m)\u001b[0m\u001b[1;33m\u001b[0m\u001b[0m\n",
      "\u001b[1;31mRuntimeError\u001b[0m: maximum recursion depth exceeded"
     ]
    }
   ],
   "source": [
    "#Limitations of recursions\n",
    "#-------------------------------------------------------------------\n",
    "#Everytime a function calls itself and stores some memory. Thus, \n",
    "# a recursive function could hold much more memory than a traditional function.\n",
    "#Python stops the function calls after a depth of 1000 calls. If you run this example:\n",
    "\n",
    "#!/usr/bin/env python\n",
    " \n",
    "def factorial(n):\n",
    "    if n == 1:\n",
    "        return 1\n",
    "    else:\n",
    "        return n * factorial(n-1)\n",
    " \n",
    "print factorial(3000)"
   ]
  },
  {
   "cell_type": "code",
   "execution_count": 21,
   "metadata": {},
   "outputs": [
    {
     "name": "stdout",
     "output_type": "stream",
     "text": [
      "41493596034378540855568670930866121709511191949318099176894676576975585651235319500860007652178003420075184635383617118495750871114045907794553402161068339611621037904199177522062663390179682805164719697495968842457728766097103003726111095340241127118833157738815328438929737613021106312930374401485378725446079610290429491049793888120762511625132917004641668962117590203575175488980653577868915285093782469994674699190832093511068363824287063522268544339213775150488588104036818809099292912497141900508938994404715351473154531587441509960174267875087460367974117072368747277143988920683691618503608198459718093784453523958505377611086511162363145920886108557450874513945305436213711898150847192094426374203275029996333784944014775671414680824207499914714878359669720638954670589960178569480263388767112871068004950827400717124819476386401369193544354120312786601434792549959143530120653103406625503231020738351502195103148673612338739395096551462159349015789949944072311004426924838140141455487872738045856023561583204317945953055830693351246890721246151468485308724031267967089113548982733475375756899365176396424781733462510879015743437398920492267098317033932107176343983352444576040476565400414414699479984354554597799386702839428513413188913165695310848513525094006147774047007331406541794428004436691903685469270857271701648011512057452448607968773784803660653009109815639091294110633715621540903800135058671624262333902434166628716521228590274568833504897926869369792878376894841436573866436955075473964882256222183380014600761196859217603234808467455216330411738004331144225926243690558782914907973885758784585739828695390302383837265882427654306437517757897215045071361801730051628424476294227485755627828763498767195281368913583918824499284741591683130334032199946752082914885764345863832313545205075955912062067273296951386122994658607527317884452449865348164169238844889061495850934373442889814884427321817131272533891534506581143823381205875379808605080889761753882896252933633750454549168600267229591225528854584482686655324313011353754812409561237686078007700707939541848907149467377854407528307872988103912945121929864793703451257436445581459757140822705986325165352906584571123585270211933452981105568398809884094980346185078025273038736784042169427237980464304250045030806637032760016341921442805708802430850567892108646977455139539119838636167190300278146380136932482332771595180596193069504237836082620570887209297929797429404576877338319877444685544294800321741056689423710545028870419611915072739000031642014474213323293871618029555614004602867400422885389854650328028428515122296028795741801621823236098320971441047012533067314896153236788734984553949604397050352347766211395914519270422122231426998692087463520980686224354813376194395131942868113486531562228173214976481705381846155326596187530296478601160872263640443922257601926494610916885151013143945574398303192557154162151442469122370519149097861849436150963109933639594561796593396851958605338631176324147066842257192394742531726479559749993283247279807896470753054014194090200609712674753186365525403212757757853930697530056595208207457499471898144453772248207888443335118545601568853708182892895218300139654376947286418776665762815389737340159410543681435437346134244692067070082782423645557450882556670157242752810317141640631410681384330924027281318960884813040665226169552825637183862464944295688859393846726723694199475571320546018263425731029115353532728808182773021596787088437293412117084511580629967697266601663635276959969021502122104954259567278593185516268447100374434620422003535391203738393095420695021486207390653190910821344334251497896284236198571674773848126097443055036250866354720730971298084697196537722779893160200560725058007512407494448163392214398118492748281978655178478547749198714138485042290383954090570842038137277135667703565041081780520695032136233521692740531015340921761834078817735674646749071616600653230438902639786065509005309872435445689315601329942407112295015453771521051942445512795364971214872222193729289159833001742397977592530501318837883494884232222507318816399438935627817102875432588794558857742780390717166381257903798149148445526885871629931014510733215554773264576035916184298708323237568837917135073006026738292294687081030751946020376438138677107333779312582257356435534577162804030480925785909747233413932904072239860005448269296110393640127539539899397420021925268928622564959279136369546983247314494094297494213208716963662812963846191378114609210701033012119934264941666449130310898493535366401831282683112506578386425906537197010907276429330534751297336716929415047870949241778121534979499449732358445130210029720359993576507730563696950539990891252004810120090569633144368179194247963563389102486250773367249399801723451627048850149438343735826440053481474957421328873648479589553843836378275601433377798816126854462406494134416119108952653326761627660221130879211665924379496534838030236064294981985541014311566601739518539426008673198564586684635442730180022292607589767192198367529528365158715521887698317999005853121518691037776676883654291247419826099434535671529412823837612115555686210454583810355154404953718470726363218532775486501811002621331228429860926112159573066023932077476742800909462674322138805290643067711276964013735906251051050623568241317651533030775358975134565147424167401517470720839101869989993279364910892687924739705814152855543965954222603919059265825637344676406359525838966981511983959886603683753042017990328185945569412550519066302854869533377682984600031808093822130038102214387057461181304251961916405970456035183121708151658647356556540532928411748628957082856792300053525846377061280591452035546389932127875906349627837975871352588618213252263577038396202737385324908353680497990085701522483303439525197344653342994652565236096742834550523739733902374261808871799283722285366293439240895762913154442106573609205481842139365893867715542842477275100166734357743093638948444564764377184073874379471007867151070449554657626281566137550730763768080600031844296233977808233311359787577136983012817571625671683287281511937336685789437109097748581222868126824122317272681184975207863453107495331708260153159440253645365524453587952034745213429248916644504804355352281977721981971869054884176896398782704782066126921472548618247859626434279190274503452994769367997217285165465591799471789067885687278574470084289723778234763080740919512966238346427839653865017324665850192144091694630371265581197700774682562035198318782913591013997817303635173764706714383992810291224460848320518983248348855131025539721583184931653670732273172995431750775475634748127320956655431851879586978172491721700865768098908327830838240437737974455342525688712898855513180967012497859454290609627370590659970784172738420721605576789060565167694565490120388165775861939230924362983389549857279874523398090499858467484850399509109398834210424693113617875978611803096108774362764990414655167545507613665725914993376114340243762910290384135888531312591132544849225896007184851169390193985434649415483782338302531368775990005443722332901462568184095998830522521585328599833990336595418932696680163265899358234663247080324020429791357425755498549372896192091650794671997121439832581553945835125648010889886887056882711222628734035772418424803231173027338442220604015609242079569493204943809402465562530303328824165302038006041288444384884189129393985971765670211501611340121169355535864984802941563238279447576315042685734269863116562800932164578165410411899078396210758605145091526528422433647230880469088426412525126584729134059195171754291152622002229756986927959124620964363057052133099216422258437651889193630329851223282950806126200573565554213183555838289318138795940962303792777230344423432341561603558590502324475274502630869831414125396371754413611897269158650716722308083435295578401087236027347001118786146233185439431057058483770474806035004556885020602730222256397630738939985024978155182679916994164145540329909813190506654358156657691529068908186204138444091456355291242064901717436430473455191375922914953282988151808740076733486997695322871450791584448703980405737673555777873593937891577147956023340708456392314170118392555234618119775915673385955919265270624063734277760215846511035368057963320714896942663358570375305829676608224208465464558556667889222627619990263961792637457851652540918756608543859661221944248720424960000000000000000000000000000000000000000000000000000000000000000000000000000000000000000000000000000000000000000000000000000000000000000000000000000000000000000000000000000000000000000000000000000000000000000000000000000000000000000000000000000000000000000000000000000000000000000000000000000000000000000000000000000000000000000000000000000000000000000000000000000000000000000000000000000000000000000000000000000000000000000000000000000000000000000000000000000000000000000000000000000000000000000000000000000000000000000000000000000000000000000000000000000000000000000000000000000000000000000000000000000000000000000000000000000000000000000000000000000000000000000000000000000000000000000000000000000000000000000000000000000000000000000000000000000\n"
     ]
    }
   ],
   "source": [
    "#You will get the error:\n",
    "#RuntimeError: maximum recursion depth exceeded\n",
    "\n",
    " #In other programming languages, your program could simply crash.\n",
    "#You can resolve this by modifying the number of recursion calls such as:\n",
    "\n",
    "#!/usr/bin/env python\n",
    "import sys\n",
    " \n",
    "sys.setrecursionlimit(5000)\n",
    " \n",
    "def factorial(n):\n",
    "    if n == 1:\n",
    "        return 1\n",
    "    else:\n",
    "        return n * factorial(n-1)\n",
    " \n",
    "print factorial(3000)\n",
    "#but keep in mind there is still a limit to the input for the factorial function. \n",
    "#For this reason, you should use recursion wisely. As you learned now for the factorial problem, \n",
    "#a recursive function is not the best solution.  \n",
    "#For other problems such as traversing a directory, recursion may be a good solution."
   ]
  },
  {
   "cell_type": "code",
   "execution_count": null,
   "metadata": {},
   "outputs": [],
   "source": [
    "#Anonymous/Lambda Function\n",
    "\n",
    "#1#What are lambda functions in Python?\n",
    "In Python, anonymous function is a function that is defined without a name.\n",
    "\n",
    "While normal functions are defined using the def keyword, in Python anonymous functions are defined using the lambda keyword.\n",
    "\n",
    "Hence, anonymous functions are also called lambda functions.\n",
    "\n",
    "#2#Syntax of Lambda Function in python\n",
    "\n",
    "lambda arguments: expression\n",
    "\n",
    "Lambda functions can have any number of arguments but only one expression. The expression is evaluated and returned. \n",
    "Lambda functions can be used wherever function objects are required.\n",
    "\n"
   ]
  },
  {
   "cell_type": "code",
   "execution_count": null,
   "metadata": {},
   "outputs": [],
   "source": [
    "#20#Errors & Exceptions \n",
    "                                           Errors \n",
    "                                             |\n",
    "            -----------------------------------------------------------------------------------\n",
    "            |                                |                                                 |\n",
    "                     \n",
    "    Syntax Errors                Runtime Errors(called Exceptions)                      Logical Errors \n",
    "\n",
    "#1#Syntax Errors\n",
    "Errors that will show up if you doesn’t follow Python Syntax Rules \n",
    "\n",
    "print(“You missed the closing round braces ” \n",
    "print(“You missed the closing round braces ”                                          \n",
    "      ^ SyntaxError: invalid syntax\n",
    "      \n",
    "      \n",
    "#2#Runtime Errors(called Exceptions)\n",
    "Errors detected during execution are called Exceptions \n",
    "\n",
    "print(firstname); \n",
    "NameError: name ‘firstname’ is not defined \n",
    "\n",
    "#Handling Exceptions Errors & Exceptions \n",
    "try:                                              Put the code that you want to run always if there is an exception or not. \n",
    " doTry() \n",
    "except:                                           Put the code that you want to handle its exceptions \n",
    " doExcept() \n",
    "else:                                             Handle the exception if it raised in the try clause \n",
    " doElse() \n",
    "finally:                                           Run when code in try clause run without raising exceptions \n",
    " doFinally() \n",
    "\n",
    "#3#Logical Errors"
   ]
  },
  {
   "cell_type": "code",
   "execution_count": 1,
   "metadata": {},
   "outputs": [
    {
     "ename": "ZeroDivisionError",
     "evalue": "integer division or modulo by zero",
     "output_type": "error",
     "traceback": [
      "\u001b[1;31m---------------------------------------------------------------------------\u001b[0m",
      "\u001b[1;31mZeroDivisionError\u001b[0m                         Traceback (most recent call last)",
      "\u001b[1;32m<ipython-input-1-fad870a50e27>\u001b[0m in \u001b[0;36m<module>\u001b[1;34m()\u001b[0m\n\u001b[1;32m----> 1\u001b[1;33m \u001b[1;32mprint\u001b[0m\u001b[1;33m(\u001b[0m\u001b[1;36m5\u001b[0m\u001b[1;33m/\u001b[0m\u001b[1;36m0\u001b[0m\u001b[1;33m)\u001b[0m\u001b[1;33m\u001b[0m\u001b[0m\n\u001b[0m",
      "\u001b[1;31mZeroDivisionError\u001b[0m: integer division or modulo by zero"
     ]
    }
   ],
   "source": [
    "#ZeroDivisionError \n",
    "print(5/0)"
   ]
  },
  {
   "cell_type": "code",
   "execution_count": 4,
   "metadata": {},
   "outputs": [
    {
     "ename": "SyntaxError",
     "evalue": "EOL while scanning string literal (<ipython-input-4-b5c9b1c86747>, line 1)",
     "output_type": "error",
     "traceback": [
      "\u001b[1;36m  File \u001b[1;32m\"<ipython-input-4-b5c9b1c86747>\"\u001b[1;36m, line \u001b[1;32m1\u001b[0m\n\u001b[1;33m    print 'ayman\u001b[0m\n\u001b[1;37m               ^\u001b[0m\n\u001b[1;31mSyntaxError\u001b[0m\u001b[1;31m:\u001b[0m EOL while scanning string literal\n"
     ]
    }
   ],
   "source": [
    "#SyntaxError\n",
    "print 'ayman"
   ]
  },
  {
   "cell_type": "code",
   "execution_count": 6,
   "metadata": {},
   "outputs": [
    {
     "ename": "IOError",
     "evalue": "[Errno 2] No such file or directory: 'imaginary.txt'",
     "output_type": "error",
     "traceback": [
      "\u001b[1;31m---------------------------------------------------------------------------\u001b[0m",
      "\u001b[1;31mIOError\u001b[0m                                   Traceback (most recent call last)",
      "\u001b[1;32m<ipython-input-6-2bedf9c67314>\u001b[0m in \u001b[0;36m<module>\u001b[1;34m()\u001b[0m\n\u001b[1;32m----> 1\u001b[1;33m \u001b[0mopen\u001b[0m\u001b[1;33m(\u001b[0m\u001b[1;34m\"imaginary.txt\"\u001b[0m\u001b[1;33m)\u001b[0m\u001b[1;33m\u001b[0m\u001b[0m\n\u001b[0m",
      "\u001b[1;31mIOError\u001b[0m: [Errno 2] No such file or directory: 'imaginary.txt'"
     ]
    }
   ],
   "source": [
    "#IOError\n",
    "open(\"imaginary.txt\")"
   ]
  },
  {
   "cell_type": "code",
   "execution_count": null,
   "metadata": {},
   "outputs": [],
   "source": [
    "##What are exceptions in Python?\n",
    "Python has many built-in exceptions which forces your program to output an error when something in it goes wrong.\n",
    "\n",
    "When these exceptions occur, it causes the current process to stop and passes it to the calling process until it is handled.\n",
    "If not handled, our program will crash.\n"
   ]
  },
  {
   "cell_type": "code",
   "execution_count": 8,
   "metadata": {},
   "outputs": [
    {
     "name": "stdout",
     "output_type": "stream",
     "text": [
      "('The entry is', 'a')\n",
      "('Oops!', <type 'exceptions.ValueError'>, 'occured.')\n",
      "Next entry.\n",
      "()\n",
      "('The entry is', 0)\n",
      "('Oops!', <type 'exceptions.ZeroDivisionError'>, 'occured.')\n",
      "Next entry.\n",
      "()\n",
      "('The entry is', 2)\n",
      "('The reciprocal of', 2, 'is', 0)\n"
     ]
    }
   ],
   "source": [
    "##Catching Exceptions in Python\n",
    "#In Python, exceptions can be handled using a try statement.\n",
    "\n",
    "import sys\n",
    "\n",
    "randomList = ['a', 0, 2]\n",
    "\n",
    "for entry in randomList:\n",
    "    try:\n",
    "        print(\"The entry is\", entry)\n",
    "        r = 1/int(entry)\n",
    "        break\n",
    "    except:\n",
    "        print(\"Oops!\",sys.exc_info()[0],\"occured.\")\n",
    "        print(\"Next entry.\")\n",
    "        print()\n",
    "print(\"The reciprocal of\",entry,\"is\",r)\n",
    "##note##\n",
    "#Here, we print the name of the exception using ex_info() function inside sys module and ask the user to try again.\n",
    "#We can see that the values 'a' and '1.3' causes ValueError and '0' causes ZeroDivisionError.\n"
   ]
  },
  {
   "cell_type": "code",
   "execution_count": 4,
   "metadata": {},
   "outputs": [
    {
     "name": "stdout",
     "output_type": "stream",
     "text": [
      "<type 'exceptions.ZeroDivisionError'>\n"
     ]
    }
   ],
   "source": [
    "#or can Know class of exception without imoprt sys module\n",
    "try:\n",
    "    print(5/0)\n",
    "except Exception as E:\n",
    "    print(E.__class__)"
   ]
  },
  {
   "cell_type": "code",
   "execution_count": 1,
   "metadata": {},
   "outputs": [
    {
     "name": "stdout",
     "output_type": "stream",
     "text": [
      "Plz enter your num5\n",
      "1\n"
     ]
    }
   ],
   "source": [
    "##Catching Specific Exceptions in Python\n",
    "#In the above example, we did not mention any exception in the except clause.\n",
    "\n",
    "####This is not a good programming practice as it will catch all exceptions and handle every case in the same way.\n",
    "#We can specify which exceptions an except clause will catch.\n",
    "\n",
    "try:\n",
    "   # do something\n",
    "   pass\n",
    "\n",
    "except ValueError:\n",
    "   # handle ValueError exception\n",
    "   pass\n",
    "\n",
    "except (TypeError, ZeroDivisionError):\n",
    "   # handle multiple exceptions\n",
    "   # TypeError and ZeroDivisionError\n",
    "   pass\n",
    "\n",
    "except:\n",
    "   # handle all other exceptions\n",
    "   pass\n",
    "\n",
    "#example\n",
    "\n",
    "num = raw_input('Plz enter your num')\n",
    "try:\n",
    "    result = 5/int(num)\n",
    "    print(result)\n",
    "except ValueError:\n",
    "    print('cannot convert sorry plz enter vaild value')\n",
    "\n",
    "       "
   ]
  },
  {
   "cell_type": "code",
   "execution_count": 2,
   "metadata": {},
   "outputs": [
    {
     "name": "stdout",
     "output_type": "stream",
     "text": [
      "Plz enter your numa\n",
      "cannot convert sorry plz enter vaild value\n"
     ]
    }
   ],
   "source": [
    "num = raw_input('Plz enter your num')\n",
    "try:\n",
    "    result = 5/int(num)\n",
    "    print(result)\n",
    "except ValueError:\n",
    "    print('cannot convert sorry plz enter vaild value')"
   ]
  },
  {
   "cell_type": "code",
   "execution_count": 3,
   "metadata": {},
   "outputs": [
    {
     "name": "stdout",
     "output_type": "stream",
     "text": [
      "Plz enter your num0\n"
     ]
    },
    {
     "ename": "ZeroDivisionError",
     "evalue": "integer division or modulo by zero",
     "output_type": "error",
     "traceback": [
      "\u001b[1;31m---------------------------------------------------------------------------\u001b[0m",
      "\u001b[1;31mZeroDivisionError\u001b[0m                         Traceback (most recent call last)",
      "\u001b[1;32m<ipython-input-3-1fa51bf1f8d2>\u001b[0m in \u001b[0;36m<module>\u001b[1;34m()\u001b[0m\n\u001b[0;32m      1\u001b[0m \u001b[0mnum\u001b[0m \u001b[1;33m=\u001b[0m \u001b[0mraw_input\u001b[0m\u001b[1;33m(\u001b[0m\u001b[1;34m'Plz enter your num'\u001b[0m\u001b[1;33m)\u001b[0m\u001b[1;33m\u001b[0m\u001b[0m\n\u001b[0;32m      2\u001b[0m \u001b[1;32mtry\u001b[0m\u001b[1;33m:\u001b[0m\u001b[1;33m\u001b[0m\u001b[0m\n\u001b[1;32m----> 3\u001b[1;33m     \u001b[0mresult\u001b[0m \u001b[1;33m=\u001b[0m \u001b[1;36m5\u001b[0m\u001b[1;33m/\u001b[0m\u001b[0mint\u001b[0m\u001b[1;33m(\u001b[0m\u001b[0mnum\u001b[0m\u001b[1;33m)\u001b[0m\u001b[1;33m\u001b[0m\u001b[0m\n\u001b[0m\u001b[0;32m      4\u001b[0m     \u001b[1;32mprint\u001b[0m\u001b[1;33m(\u001b[0m\u001b[0mresult\u001b[0m\u001b[1;33m)\u001b[0m\u001b[1;33m\u001b[0m\u001b[0m\n\u001b[0;32m      5\u001b[0m \u001b[1;32mexcept\u001b[0m \u001b[0mValueError\u001b[0m\u001b[1;33m:\u001b[0m\u001b[1;33m\u001b[0m\u001b[0m\n",
      "\u001b[1;31mZeroDivisionError\u001b[0m: integer division or modulo by zero"
     ]
    }
   ],
   "source": [
    "num = raw_input('Plz enter your num')\n",
    "try:\n",
    "    result = 5/int(num)\n",
    "    print(result)\n",
    "except ValueError:\n",
    "    print('cannot convert sorry plz enter vaild value')"
   ]
  },
  {
   "cell_type": "code",
   "execution_count": 4,
   "metadata": {},
   "outputs": [
    {
     "name": "stdout",
     "output_type": "stream",
     "text": [
      "Plz enter your num0\n",
      "sorry plz enter vaild value not zero\n"
     ]
    }
   ],
   "source": [
    "num = raw_input('Plz enter your num')\n",
    "try:\n",
    "    result = 5/int(num)\n",
    "    print(result)\n",
    "except ValueError:\n",
    "    print('cannot convert sorry plz enter vaild value')\n",
    "except ZeroDivisionError:\n",
    "    print('sorry plz enter vaild value not zero')"
   ]
  },
  {
   "cell_type": "code",
   "execution_count": 6,
   "metadata": {},
   "outputs": [
    {
     "name": "stdout",
     "output_type": "stream",
     "text": [
      "Plz enter your num5\n",
      "1\n",
      "completed\n"
     ]
    }
   ],
   "source": [
    "num = raw_input('Plz enter your num')\n",
    "try:\n",
    "    result = 5/int(num)\n",
    "    print(result)\n",
    "except ValueError:\n",
    "    print('cannot convert sorry plz enter vaild value')\n",
    "except ZeroDivisionError:\n",
    "    print('sorry plz enter vaild value not zero')\n",
    "except Exception as E:                               #general \n",
    "    print(E)\n",
    "finally :                                            #print if exception happens or not\n",
    "    print('completed')"
   ]
  },
  {
   "cell_type": "code",
   "execution_count": 9,
   "metadata": {},
   "outputs": [
    {
     "name": "stdout",
     "output_type": "stream",
     "text": [
      "Enter a positive integer: -1\n",
      "That is not a positive number!\n"
     ]
    }
   ],
   "source": [
    "##Raising Exceptions\n",
    "#In Python programming, exceptions are raised when corresponding errors occur at run time,\n",
    "#but we can forcefully raise it using the keyword raise.\n",
    "\n",
    "#We can also optionally pass in value to the exception to clarify why that exception was raised.\n",
    "\n",
    "try:\n",
    "     a = int(input(\"Enter a positive integer: \"))\n",
    "     if a <= 0:\n",
    "          raise ValueError(\"That is not a positive number!\")\n",
    "except ValueError as ve:\n",
    "     print(ve)"
   ]
  },
  {
   "cell_type": "code",
   "execution_count": 7,
   "metadata": {},
   "outputs": [
    {
     "name": "stdout",
     "output_type": "stream",
     "text": [
      "Enter a positive integer: -5\n",
      "That is not a positive number!\n"
     ]
    }
   ],
   "source": [
    "try:\n",
    "     a = int(input(\"Enter a positive integer: \"))\n",
    "     if a <= 0:\n",
    "          raise Exception(\"That is not a positive number!\")\n",
    "except Exception as ve:\n",
    "     print(ve)"
   ]
  },
  {
   "cell_type": "code",
   "execution_count": 11,
   "metadata": {},
   "outputs": [
    {
     "name": "stdout",
     "output_type": "stream",
     "text": [
      "Enter a positive integer: -1\n"
     ]
    },
    {
     "ename": "Exception",
     "evalue": "That is not a positive number!",
     "output_type": "error",
     "traceback": [
      "\u001b[1;31m---------------------------------------------------------------------------\u001b[0m",
      "\u001b[1;31mException\u001b[0m                                 Traceback (most recent call last)",
      "\u001b[1;32m<ipython-input-11-a1341994347b>\u001b[0m in \u001b[0;36m<module>\u001b[1;34m()\u001b[0m\n\u001b[0;32m      6\u001b[0m \u001b[1;33m\u001b[0m\u001b[0m\n\u001b[0;32m      7\u001b[0m \u001b[0ma\u001b[0m \u001b[1;33m=\u001b[0m \u001b[0mint\u001b[0m\u001b[1;33m(\u001b[0m\u001b[0minput\u001b[0m\u001b[1;33m(\u001b[0m\u001b[1;34m\"Enter a positive integer: \"\u001b[0m\u001b[1;33m)\u001b[0m\u001b[1;33m)\u001b[0m\u001b[1;33m\u001b[0m\u001b[0m\n\u001b[1;32m----> 8\u001b[1;33m \u001b[1;32mprint\u001b[0m\u001b[1;33m(\u001b[0m\u001b[0mpositive\u001b[0m\u001b[1;33m(\u001b[0m\u001b[0ma\u001b[0m\u001b[1;33m)\u001b[0m\u001b[1;33m)\u001b[0m\u001b[1;33m\u001b[0m\u001b[0m\n\u001b[0m",
      "\u001b[1;32m<ipython-input-11-a1341994347b>\u001b[0m in \u001b[0;36mpositive\u001b[1;34m(a)\u001b[0m\n\u001b[0;32m      2\u001b[0m \u001b[1;33m\u001b[0m\u001b[0m\n\u001b[0;32m      3\u001b[0m     \u001b[1;32mif\u001b[0m \u001b[0ma\u001b[0m \u001b[1;33m<=\u001b[0m \u001b[1;36m0\u001b[0m\u001b[1;33m:\u001b[0m\u001b[1;33m\u001b[0m\u001b[0m\n\u001b[1;32m----> 4\u001b[1;33m         \u001b[1;32mraise\u001b[0m \u001b[0mException\u001b[0m\u001b[1;33m(\u001b[0m\u001b[1;34m\"That is not a positive number!\"\u001b[0m\u001b[1;33m)\u001b[0m\u001b[1;33m\u001b[0m\u001b[0m\n\u001b[0m\u001b[0;32m      5\u001b[0m     \u001b[1;32mreturn\u001b[0m \u001b[0ma\u001b[0m\u001b[1;33m\u001b[0m\u001b[0m\n\u001b[0;32m      6\u001b[0m \u001b[1;33m\u001b[0m\u001b[0m\n",
      "\u001b[1;31mException\u001b[0m: That is not a positive number!"
     ]
    }
   ],
   "source": [
    "def positive(a): \n",
    "    if a <= 0:\n",
    "        raise Exception(\"That is not a positive number!\")\n",
    "    return a\n",
    "        \n",
    "a = int(input(\"Enter a positive integer: \"))\n",
    "print(positive(a))"
   ]
  },
  {
   "cell_type": "code",
   "execution_count": 2,
   "metadata": {},
   "outputs": [
    {
     "name": "stdout",
     "output_type": "stream",
     "text": [
      "Enter a positive integer: -3\n",
      "That is not a positive number! plz enter positive number?\n"
     ]
    }
   ],
   "source": [
    "def positive(a):\n",
    "    \n",
    "    if a <= 0:\n",
    "        raise Exception(\"That is not a positive number! plz enter positive number?\")\n",
    "    return a\n",
    "        \n",
    "a = int(input(\"Enter a positive integer: \"))\n",
    "try:\n",
    "    print(positive(a))\n",
    "except Exception as E:\n",
    "    print(E)"
   ]
  },
  {
   "cell_type": "code",
   "execution_count": 14,
   "metadata": {},
   "outputs": [
    {
     "name": "stdout",
     "output_type": "stream",
     "text": [
      "10\n"
     ]
    }
   ],
   "source": [
    "#Assertion Errors \n",
    "\n",
    "def printer(x):\n",
    "    try:\n",
    "        assert x>0 ,\"x less than zero\"\n",
    "        print(x)\n",
    "    except AssertionError as E:\n",
    "        print(E)\n",
    "printer(10)"
   ]
  },
  {
   "cell_type": "code",
   "execution_count": 15,
   "metadata": {},
   "outputs": [
    {
     "name": "stdout",
     "output_type": "stream",
     "text": [
      "x less than zero\n"
     ]
    }
   ],
   "source": [
    "def printer(x):\n",
    "    try:\n",
    "        assert x>0 ,\"x less than zero\"\n",
    "        print(x)\n",
    "    except AssertionError as E:\n",
    "        print(E)\n",
    "printer(-1)"
   ]
  },
  {
   "cell_type": "code",
   "execution_count": 10,
   "metadata": {},
   "outputs": [
    {
     "name": "stdout",
     "output_type": "stream",
     "text": [
      "('result of summation', 30)\n",
      "('total out', 0)\n"
     ]
    }
   ],
   "source": [
    "#21#varible scope (local or global)\n",
    "total =0 #this is global varible\n",
    "def summ(num1 , num2):\n",
    "    #this is loacl variable\n",
    "    total = num1 + num2\n",
    "    print('result of summation',total)\n",
    "summ(10,20)\n",
    "print('total out',total)\n"
   ]
  },
  {
   "cell_type": "code",
   "execution_count": 23,
   "metadata": {},
   "outputs": [
    {
     "name": "stdout",
     "output_type": "stream",
     "text": [
      "('result of summation', 30)\n",
      "('total out', 30)\n"
     ]
    }
   ],
   "source": [
    "#if i want use same global varible in function use keyword : global\n",
    "total =0 #this is global varible\n",
    "def summ(num1 , num2):\n",
    "    global total\n",
    "    total = num1 + num2\n",
    "    print('result of summation',total)\n",
    "summ(10,20)\n",
    "print('total out',total)"
   ]
  },
  {
   "cell_type": "code",
   "execution_count": 24,
   "metadata": {},
   "outputs": [
    {
     "name": "stdout",
     "output_type": "stream",
     "text": [
      "('total out', 0)\n",
      "('sumres=', 30)\n",
      "('subres', -10)\n"
     ]
    }
   ],
   "source": [
    "total =0 #this is global varible\n",
    "def summ(num1 , num2):\n",
    "    #this is local variable\n",
    "    total = num1 + num2\n",
    "   #print('result of summation',total)\n",
    "    return(total)\n",
    "\n",
    "def subt(num1 , num2):\n",
    "    #this is local variable\n",
    "    total = num1 - num2\n",
    "    #print('result of subtract',total)\n",
    "    return(total)\n",
    "\n",
    "sumres=summ(10,20)\n",
    "subres=subt(10,20)\n",
    "print('total out',total)\n",
    "print('sumres=',sumres)\n",
    "print('subres',subres)"
   ]
  },
  {
   "cell_type": "code",
   "execution_count": 30,
   "metadata": {},
   "outputs": [],
   "source": [
    "#22#Tips and Tricks\n",
    "\n",
    "#1#Sequence Unpacking \n",
    "l = [1,13,3,7] \n",
    "a,b,c,d = l \n",
    "# a=1,b=13,c=3,d=7 \n",
    "a,*b,c = l \n",
    "# a=1,b=[13,3],c=7 \n",
    "print(b)"
   ]
  },
  {
   "cell_type": "code",
   "execution_count": null,
   "metadata": {},
   "outputs": [],
   "source": [
    "#2#List Comprehension \n",
    "It is an easy method to construct a list\n",
    "\n",
    " output sequence input\n",
    "    |           |\n",
    "[ x**2 for x in range(10)  if x%2 == 0 ]\n",
    "   |                          |\n",
    "  variable              Optional Condition \n",
    "\n",
    "L = [ x**2 for x in range(10) if x%2 == 0 ] \n",
    "#output: [0, 4, 16, 36, 64] "
   ]
  },
  {
   "cell_type": "code",
   "execution_count": 38,
   "metadata": {},
   "outputs": [
    {
     "name": "stdout",
     "output_type": "stream",
     "text": [
      "('Element Value: ', 'JavaScript')\n",
      "('Element Index: ', 0)\n",
      "('Element Value: ', 'Python')\n",
      "('Element Index: ', 1)\n",
      "('Element Value: ', 'Java')\n",
      "('Element Index: ', 2)\n"
     ]
    }
   ],
   "source": [
    "#3#enumerate Function  \n",
    "languages = ['JavaScript', 'Python', 'Java'] \n",
    "for i , l in enumerate(languages): \n",
    " print('Element Value: ' , l) \n",
    " print('Element Index: ' , i) \n"
   ]
  },
  {
   "cell_type": "code",
   "execution_count": 39,
   "metadata": {},
   "outputs": [
    {
     "data": {
      "text/plain": [
       "True"
      ]
     },
     "execution_count": 39,
     "metadata": {},
     "output_type": "execute_result"
    }
   ],
   "source": [
    "#4# all & any  \n",
    "L = [0,5,9,7,8] \n",
    "all(L)          #False \n",
    "any(L)          #True "
   ]
  },
  {
   "cell_type": "code",
   "execution_count": 8,
   "metadata": {},
   "outputs": [],
   "source": [
    "#23#iTi Labs\n",
    "#implement your function delete all vowels character\n",
    "def Replace (string):\n",
    "    for ch in string :\n",
    "        if ch=='o' or ch=='i' or ch=='e' or ch =='a':\n",
    "            pass \n",
    "        else :\n",
    "            print(ch,end='')"
   ]
  },
  {
   "cell_type": "code",
   "execution_count": 10,
   "metadata": {},
   "outputs": [
    {
     "name": "stdout",
     "output_type": "stream",
     "text": [
      "plz enter your strings :ahmeeeed\n",
      "hmd"
     ]
    }
   ],
   "source": [
    "stringIN=input('plz enter your strings :')\n",
    "Replace(stringIN)"
   ]
  },
  {
   "cell_type": "code",
   "execution_count": 6,
   "metadata": {},
   "outputs": [
    {
     "name": "stdout",
     "output_type": "stream",
     "text": [
      "plz enter num of strings :3\n",
      "plz enter your strings :mobile\n",
      "plz enter your strings :ahmed\n",
      "plz enter your strings :mohamed\n",
      "mbl\n",
      "hmd\n",
      "mhmd\n"
     ]
    }
   ],
   "source": [
    "def Replace (list1) :\n",
    "    for value in list1:\n",
    "        for ch in value :\n",
    "            if ch=='o' or ch=='i' or ch=='e' or ch =='a':\n",
    "                pass \n",
    "            else :\n",
    "                print(ch,end='')\n",
    "        print(\"\")\n",
    "\n",
    "list1 =[]\n",
    "numOfstrings = int(input('plz enter num of strings :'))\n",
    "for n in range(numOfstrings):\n",
    "    stringIN = input('plz enter your strings :')\n",
    "    list1.append(stringIN)\n",
    "Replace(list1)"
   ]
  },
  {
   "cell_type": "code",
   "execution_count": 31,
   "metadata": {},
   "outputs": [
    {
     "name": "stdout",
     "output_type": "stream",
     "text": [
      "m b l \n"
     ]
    }
   ],
   "source": [
    "#use built-in function help you (translate)\n",
    "str='mobile'\n",
    "trantab = str.maketrans(\"aieon\", \"     \")\n",
    "print (str.translate(trantab))"
   ]
  },
  {
   "cell_type": "code",
   "execution_count": 28,
   "metadata": {},
   "outputs": [
    {
     "name": "stdout",
     "output_type": "stream",
     "text": [
      "ths s strng xmpl....ww!!!\n"
     ]
    }
   ],
   "source": [
    "str = \"this is string example....wow!!!\";\n",
    "trantab = str.maketrans(dict.fromkeys('aeoiu'))\n",
    "print (str.translate(trantab))"
   ]
  },
  {
   "cell_type": "code",
   "execution_count": 35,
   "metadata": {},
   "outputs": [
    {
     "name": "stdout",
     "output_type": "stream",
     "text": [
      "plz enter your strings :ayman\n",
      "plz enter your char :a\n",
      "[0, 3]\n"
     ]
    }
   ],
   "source": [
    "#lab2 ITI\n",
    "def Replace (stringIN , character) :\n",
    "        listindex = []\n",
    "        for ch in range(len(stringIN)) :\n",
    "            if stringIN[ch] == character:\n",
    "                listindex.append(ch) \n",
    "            else :\n",
    "                pass\n",
    "        print(listindex)\n",
    "\n",
    "stringIN = input('plz enter your strings :')\n",
    "charIN = input('plz enter your char :')    \n",
    "Replace(stringIN , charIN)"
   ]
  },
  {
   "cell_type": "code",
   "execution_count": 100,
   "metadata": {},
   "outputs": [],
   "source": [
    "#lab LongestWord of sentece \n",
    "def LongestWord(sen): \n",
    "    table = sen.maketrans(dict.fromkeys('!@#$%^&*(){}|\":?><|\\~'))\n",
    "    sen = sen.translate(table)\n",
    "    sen =sen.split()         #sen now is list\n",
    "    print(sen)\n",
    "    ##########################################\n",
    "    len_w={}\n",
    "    for word in sen :\n",
    "        len_w[len(word)]=word\n",
    "    print(len_w)\n",
    "    #sen = len_w.get(s)      Or\n",
    "    sen=len_w[max(len_w.keys())]\n",
    "    ###########################################\n",
    "    ##instead of this code can use max function of list take [list,key=len]##\n",
    "    return(sen)"
   ]
  },
  {
   "cell_type": "code",
   "execution_count": 101,
   "metadata": {},
   "outputs": [
    {
     "name": "stdout",
     "output_type": "stream",
     "text": [
      "['ahmd', 'mohamaed', 'Ayman', 'esmael']\n",
      "{4: 'ahmd', 8: 'mohamaed', 5: 'Ayman', 6: 'esmael'}\n"
     ]
    },
    {
     "data": {
      "text/plain": [
       "'mohamaed'"
      ]
     },
     "execution_count": 101,
     "metadata": {},
     "output_type": "execute_result"
    }
   ],
   "source": [
    "LongestWord(\"ahm%#d moha@maed A*&^yman esmael\")"
   ]
  },
  {
   "cell_type": "code",
   "execution_count": 91,
   "metadata": {},
   "outputs": [
    {
     "data": {
      "text/plain": [
       "'abdooooooooo'"
      ]
     },
     "execution_count": 91,
     "metadata": {},
     "output_type": "execute_result"
    }
   ],
   "source": [
    "#Example of max function\n",
    "list1=['ahmed','mohamed','abdooooooooo']\n",
    "max(list1,key=len)"
   ]
  },
  {
   "cell_type": "code",
   "execution_count": 2,
   "metadata": {},
   "outputs": [
    {
     "data": {
      "text/plain": [
       "30"
      ]
     },
     "execution_count": 2,
     "metadata": {},
     "output_type": "execute_result"
    }
   ],
   "source": [
    "#write function Max of 3 numbers\n",
    "def maxOfTwonum(num1,num2):\n",
    "    if num1 > num2:\n",
    "        return(num1)\n",
    "    else :\n",
    "        return(num2)\n",
    "\n",
    "def maxofThree(num1,num2,num3):        \n",
    "    result = maxOfTwonum(num1,num2)\n",
    "    fin =maxOfTwonum(result,num3)\n",
    "    return(fin)\n",
    "\n",
    "maxofThree(10,20,30)"
   ]
  },
  {
   "cell_type": "code",
   "execution_count": 6,
   "metadata": {},
   "outputs": [
    {
     "data": {
      "text/plain": [
       "[1, 12, 4, 3, 2]"
      ]
     },
     "execution_count": 6,
     "metadata": {},
     "output_type": "execute_result"
    }
   ],
   "source": [
    "#write function to return uniqe elements\n",
    "def Unique_fun(ununique_list):\n",
    "    unique=[]\n",
    "    for element in ununique_list :\n",
    "        if element not in unique: \n",
    "            unique.append(element)\n",
    "    return(unique)\n",
    "\n",
    "Unique_fun([1,12,4,4,1,1,3,2,3])"
   ]
  }
 ],
 "metadata": {
  "kernelspec": {
   "display_name": "Python 2",
   "language": "python",
   "name": "python2"
  },
  "language_info": {
   "codemirror_mode": {
    "name": "ipython",
    "version": 2
   },
   "file_extension": ".py",
   "mimetype": "text/x-python",
   "name": "python",
   "nbconvert_exporter": "python",
   "pygments_lexer": "ipython2",
   "version": "2.7.15"
  }
 },
 "nbformat": 4,
 "nbformat_minor": 2
}
