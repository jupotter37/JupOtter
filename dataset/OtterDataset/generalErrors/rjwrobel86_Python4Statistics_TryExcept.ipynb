{
 "cells": [
  {
   "cell_type": "markdown",
   "id": "2fe41e97-c9f9-46b7-91df-a293eb93db1c",
   "metadata": {},
   "source": [
    "# Exception Handling with TryExcept"
   ]
  },
  {
   "cell_type": "code",
   "execution_count": 7,
   "id": "59c213d1-45ac-4ac7-8e82-d3b4dfe33161",
   "metadata": {
    "tags": []
   },
   "outputs": [
    {
     "name": "stdout",
     "output_type": "stream",
     "text": [
      "You can't divide by zero!\n",
      "Division attempted.\n"
     ]
    }
   ],
   "source": [
    "try:\n",
    "    #Problematic Code\n",
    "    result = 10 / 0\n",
    "except ZeroDivisionError:\n",
    "    #Code that runs if there is a ZeroDivisionError\n",
    "    print(\"You can't divide by zero!\")\n",
    "else:\n",
    "    #Code that runs if there is no exception\n",
    "    print(\"Division succeeded!\")\n",
    "finally:\n",
    "    #Code that runs no matter what\n",
    "    print(\"Division attempted.\")"
   ]
  },
  {
   "cell_type": "markdown",
   "id": "e6e78487-b6fd-4275-92cd-fdb6fbd2a723",
   "metadata": {},
   "source": [
    "Types of Error:\n",
    "\n",
    "SyntaxError: Raised when there is an error in Python syntax.\n",
    "\n",
    "IndentationError: Subclass of SyntaxError thrown when indentation is not correct.\n",
    "\n",
    "TabError: Subclass of IndentationError that is raised when indentation consists of inconsistent tabs and spaces.\n",
    "\n",
    "TypeError: Raised when an operation or function is applied to an object of inappropriate type.\n",
    "\n",
    "ValueError: Raised when a function receives an argument of correct type but inappropriate value.\n",
    "\n",
    "NameError: Raised when a local or global name is not found.\n",
    "\n",
    "AttributeError: Occurs when an attribute reference or assignment fails.\n",
    "\n",
    "KeyError: Raised when a dictionary key is not found in the set of existing keys.\n",
    "\n",
    "IndexError: Raised when an index is not found in a sequence.\n",
    "\n",
    "FileNotFoundError: Raised when a file or directory is requested but doesn’t exist.\n",
    "\n",
    "PermissionError: Raised when trying to run an operation without the adequate access rights.\n",
    "\n",
    "IOError: Raised when an input/output operation fails, such as the print statement or the open() function when trying to open a file that does not exist.\n",
    "\n",
    "ZeroDivisionError: Raised when the second operand of a division or modulo operation is zero.\n",
    "\n",
    "OverflowError: Raised when the result of an arithmetic operation is too large to be represented.\n",
    "\n",
    "FloatingPointError: Raised when a floating point operation fails.\n",
    "\n",
    "OSError: Raised for operating system-related errors.\n",
    "\n",
    "ImportError: Raised when an import statement fails to find the module definition or when a from ... import fails to find a name that is to be imported.\n",
    "\n",
    "ModuleNotFoundError: A subclass of ImportError raised when a module could not be found.\n",
    "\n",
    "MemoryError: Raised when an operation runs out of memory.\n",
    "\n",
    "KeyboardInterrupt: Raised when the user hits the interrupt key (normally Control-C) during the execution of the program."
   ]
  }
 ],
 "metadata": {
  "kernelspec": {
   "display_name": "Python 3 (ipykernel)",
   "language": "python",
   "name": "python3"
  },
  "language_info": {
   "codemirror_mode": {
    "name": "ipython",
    "version": 3
   },
   "file_extension": ".py",
   "mimetype": "text/x-python",
   "name": "python",
   "nbconvert_exporter": "python",
   "pygments_lexer": "ipython3",
   "version": "3.11.7"
  }
 },
 "nbformat": 4,
 "nbformat_minor": 5
}
