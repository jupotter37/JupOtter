{
 "cells": [
  {
   "cell_type": "code",
   "execution_count": 15,
   "id": "301b44f2",
   "metadata": {},
   "outputs": [
    {
     "name": "stdout",
     "output_type": "stream",
     "text": [
      "['ArithmeticError', 'AssertionError', 'AttributeError', 'BaseException', 'BlockingIOError', 'BrokenPipeError', 'BufferError', 'BytesWarning', 'ChildProcessError', 'ConnectionAbortedError', 'ConnectionError', 'ConnectionRefusedError', 'ConnectionResetError', 'DeprecationWarning', 'EOFError', 'Ellipsis', 'EnvironmentError', 'Exception', 'False', 'FileExistsError', 'FileNotFoundError', 'FloatingPointError', 'FutureWarning', 'GeneratorExit', 'IOError', 'ImportError', 'ImportWarning', 'IndentationError', 'IndexError', 'InterruptedError', 'IsADirectoryError', 'KeyError', 'KeyboardInterrupt', 'LookupError', 'MemoryError', 'ModuleNotFoundError', 'NameError', 'None', 'NotADirectoryError', 'NotImplemented', 'NotImplementedError', 'OSError', 'OverflowError', 'PendingDeprecationWarning', 'PermissionError', 'ProcessLookupError', 'RecursionError', 'ReferenceError', 'ResourceWarning', 'RuntimeError', 'RuntimeWarning', 'StopAsyncIteration', 'StopIteration', 'SyntaxError', 'SyntaxWarning', 'SystemError', 'SystemExit', 'TabError', 'TimeoutError', 'True', 'TypeError', 'UnboundLocalError', 'UnicodeDecodeError', 'UnicodeEncodeError', 'UnicodeError', 'UnicodeTranslateError', 'UnicodeWarning', 'UserWarning', 'ValueError', 'Warning', 'WindowsError', 'ZeroDivisionError', '__IPYTHON__', '__build_class__', '__debug__', '__doc__', '__import__', '__loader__', '__name__', '__package__', '__spec__', 'abs', 'all', 'any', 'ascii', 'bin', 'bool', 'breakpoint', 'bytearray', 'bytes', 'callable', 'chr', 'classmethod', 'compile', 'complex', 'copyright', 'credits', 'delattr', 'dict', 'dir', 'display', 'divmod', 'enumerate', 'eval', 'exec', 'execfile', 'filter', 'float', 'format', 'frozenset', 'get_ipython', 'getattr', 'globals', 'hasattr', 'hash', 'help', 'hex', 'id', 'input', 'int', 'isinstance', 'issubclass', 'iter', 'len', 'license', 'list', 'locals', 'map', 'max', 'memoryview', 'min', 'next', 'object', 'oct', 'open', 'ord', 'pow', 'print', 'property', 'range', 'repr', 'reversed', 'round', 'runfile', 'set', 'setattr', 'slice', 'sorted', 'staticmethod', 'str', 'sum', 'super', 'tuple', 'type', 'vars', 'zip']\n"
     ]
    }
   ],
   "source": [
    "print(dir(__builtins__))"
   ]
  },
  {
   "cell_type": "code",
   "execution_count": 5,
   "id": "0283c6b7",
   "metadata": {},
   "outputs": [
    {
     "ename": "IndexError",
     "evalue": "list index out of range",
     "output_type": "error",
     "traceback": [
      "\u001b[1;31m---------------------------------------------------------------------------\u001b[0m",
      "\u001b[1;31mIndexError\u001b[0m                                Traceback (most recent call last)",
      "\u001b[1;32m~\\AppData\\Local\\Temp/ipykernel_21428/3637824773.py\u001b[0m in \u001b[0;36m<module>\u001b[1;34m\u001b[0m\n\u001b[0;32m      1\u001b[0m \u001b[0malist\u001b[0m \u001b[1;33m=\u001b[0m \u001b[1;33m[\u001b[0m\u001b[1;36m1\u001b[0m\u001b[1;33m,\u001b[0m\u001b[1;36m2\u001b[0m\u001b[1;33m,\u001b[0m\u001b[1;36m3\u001b[0m\u001b[1;33m]\u001b[0m\u001b[1;33m\u001b[0m\u001b[1;33m\u001b[0m\u001b[0m\n\u001b[1;32m----> 2\u001b[1;33m \u001b[0melement\u001b[0m \u001b[1;33m=\u001b[0m \u001b[0malist\u001b[0m\u001b[1;33m[\u001b[0m\u001b[1;36m7\u001b[0m\u001b[1;33m]\u001b[0m\u001b[1;33m\u001b[0m\u001b[1;33m\u001b[0m\u001b[0m\n\u001b[0m\u001b[0;32m      3\u001b[0m \u001b[0melement\u001b[0m\u001b[1;33m\u001b[0m\u001b[1;33m\u001b[0m\u001b[0m\n",
      "\u001b[1;31mIndexError\u001b[0m: list index out of range"
     ]
    }
   ],
   "source": [
    "alist = [1,2,3]\n",
    "element = alist[7]\n",
    "element"
   ]
  },
  {
   "cell_type": "code",
   "execution_count": 4,
   "id": "3bfcb4dc",
   "metadata": {},
   "outputs": [
    {
     "ename": "IndexError",
     "evalue": "Just kidding",
     "output_type": "error",
     "traceback": [
      "\u001b[1;31m---------------------------------------------------------------------------\u001b[0m",
      "\u001b[1;31mIndexError\u001b[0m                                Traceback (most recent call last)",
      "\u001b[1;32m~\\AppData\\Local\\Temp/ipykernel_21428/1112713133.py\u001b[0m in \u001b[0;36m<module>\u001b[1;34m\u001b[0m\n\u001b[1;32m----> 1\u001b[1;33m \u001b[1;32mraise\u001b[0m \u001b[0mIndexError\u001b[0m\u001b[1;33m(\u001b[0m\u001b[1;34m\"Just kidding\"\u001b[0m\u001b[1;33m)\u001b[0m\u001b[1;33m\u001b[0m\u001b[1;33m\u001b[0m\u001b[0m\n\u001b[0m",
      "\u001b[1;31mIndexError\u001b[0m: Just kidding"
     ]
    }
   ],
   "source": [
    "raise IndexError(\"Just kidding\")"
   ]
  },
  {
   "cell_type": "code",
   "execution_count": 3,
   "id": "64b56f26",
   "metadata": {},
   "outputs": [
    {
     "name": "stdout",
     "output_type": "stream",
     "text": [
      "請輸入第一個數字? 5\n",
      "請輸入第二個數字? 4\n",
      "1.25\n"
     ]
    }
   ],
   "source": [
    "x = int(input(\"請輸入第一個數字? \"))\n",
    "y = int(input(\"請輸入第二個數字? \"))\n",
    "#print(x,y)\n",
    "try:\n",
    "    print(x/y)\n",
    "except ZeroDivisionError:\n",
    "    print(\"第二個數字不得為0\")\n"
   ]
  },
  {
   "cell_type": "code",
   "execution_count": 15,
   "id": "43c93fc1",
   "metadata": {},
   "outputs": [
    {
     "name": "stdout",
     "output_type": "stream",
     "text": [
      "Please enter an integer: 5\n",
      "Please enter another integer: 4\n"
     ]
    }
   ],
   "source": [
    "# the code of your program should do the following\n",
    "x = int(input(\"Please enter an integer: \"))\n",
    "y = int(input(\"Please enter another integer: \"))\n",
    "try:\n",
    "    z = x / y\n",
    "except ZeroDivisionError as e:\n",
    "    print(\"Can't divide by zero.\")\n",
    "# Please enter an integer: 1\n",
    "# Please enter another integer: 0\n",
    "# Can't divide by zero."
   ]
  },
  {
   "cell_type": "code",
   "execution_count": 3,
   "id": "45f10bc6",
   "metadata": {},
   "outputs": [],
   "source": [
    "class MyError(Exception):\n",
    "    pass"
   ]
  },
  {
   "cell_type": "code",
   "execution_count": 4,
   "id": "b9a2c1da",
   "metadata": {},
   "outputs": [
    {
     "ename": "MyError",
     "evalue": "發生XX錯誤",
     "output_type": "error",
     "traceback": [
      "\u001b[1;31m---------------------------------------------------------------------------\u001b[0m",
      "\u001b[1;31mMyError\u001b[0m                                   Traceback (most recent call last)",
      "\u001b[1;32m~\\AppData\\Local\\Temp/ipykernel_14720/135812897.py\u001b[0m in \u001b[0;36m<module>\u001b[1;34m\u001b[0m\n\u001b[1;32m----> 1\u001b[1;33m \u001b[1;32mraise\u001b[0m \u001b[0mMyError\u001b[0m\u001b[1;33m(\u001b[0m\u001b[1;34m\"發生XX錯誤\"\u001b[0m\u001b[1;33m)\u001b[0m\u001b[1;33m\u001b[0m\u001b[1;33m\u001b[0m\u001b[0m\n\u001b[0m",
      "\u001b[1;31mMyError\u001b[0m: 發生XX錯誤"
     ]
    }
   ],
   "source": [
    "raise MyError(\"發生XX錯誤\")"
   ]
  },
  {
   "cell_type": "code",
   "execution_count": 13,
   "id": "6555a971",
   "metadata": {},
   "outputs": [
    {
     "name": "stdout",
     "output_type": "stream",
     "text": [
      "狀況: 發生XX錯誤\n"
     ]
    }
   ],
   "source": [
    "try:\n",
    "    raise MyError(\"發生XX錯誤\")\n",
    "except MyError as error:\n",
    "    print(\"狀況:\",error)"
   ]
  },
  {
   "cell_type": "code",
   "execution_count": 7,
   "id": "ca733430",
   "metadata": {},
   "outputs": [
    {
     "name": "stdout",
     "output_type": "stream",
     "text": [
      "狀況: 檔案my_filename 發生 寫入錯誤\n",
      "錯誤碼: 3\n"
     ]
    }
   ],
   "source": [
    "try:\n",
    "    raise MyError(\"寫入錯誤\",\"my_filename\",3)\n",
    "except MyError as error:\n",
    "    print(\"狀況: 檔案{1} 發生 {0}\\n錯誤碼: {2}\".format(\n",
    "        error.args[0],error.args[1],error.args[2]))"
   ]
  },
  {
   "cell_type": "code",
   "execution_count": 1,
   "id": "d681d4b6",
   "metadata": {},
   "outputs": [
    {
     "ename": "AssertionError",
     "evalue": "發生錯誤, len(x) 小於等於5",
     "output_type": "error",
     "traceback": [
      "\u001b[1;31m---------------------------------------------------------------------------\u001b[0m",
      "\u001b[1;31mAssertionError\u001b[0m                            Traceback (most recent call last)",
      "\u001b[1;32m~\\AppData\\Local\\Temp/ipykernel_14328/1514276803.py\u001b[0m in \u001b[0;36m<module>\u001b[1;34m\u001b[0m\n\u001b[0;32m      1\u001b[0m \u001b[0mx\u001b[0m \u001b[1;33m=\u001b[0m \u001b[1;33m(\u001b[0m\u001b[1;36m1\u001b[0m\u001b[1;33m,\u001b[0m\u001b[1;36m2\u001b[0m\u001b[1;33m,\u001b[0m\u001b[1;36m3\u001b[0m\u001b[1;33m)\u001b[0m\u001b[1;33m\u001b[0m\u001b[1;33m\u001b[0m\u001b[0m\n\u001b[1;32m----> 2\u001b[1;33m \u001b[1;32massert\u001b[0m \u001b[0mlen\u001b[0m\u001b[1;33m(\u001b[0m\u001b[0mx\u001b[0m\u001b[1;33m)\u001b[0m\u001b[1;33m>\u001b[0m\u001b[1;36m5\u001b[0m\u001b[1;33m,\u001b[0m\u001b[1;34m\"發生錯誤, len(x) 小於等於5\"\u001b[0m\u001b[1;33m\u001b[0m\u001b[1;33m\u001b[0m\u001b[0m\n\u001b[0m",
      "\u001b[1;31mAssertionError\u001b[0m: 發生錯誤, len(x) 小於等於5"
     ]
    }
   ],
   "source": [
    "x = (1,2,3)\n",
    "assert len(x)>5,\"發生錯誤, len(x) 小於等於5\""
   ]
  },
  {
   "cell_type": "code",
   "execution_count": 10,
   "id": "6f7edec2",
   "metadata": {},
   "outputs": [
    {
     "ename": "AssertionError",
     "evalue": "錯了",
     "output_type": "error",
     "traceback": [
      "\u001b[1;31m---------------------------------------------------------------------------\u001b[0m",
      "\u001b[1;31mAssertionError\u001b[0m                            Traceback (most recent call last)",
      "\u001b[1;32m~\\AppData\\Local\\Temp/ipykernel_14720/2119945558.py\u001b[0m in \u001b[0;36m<module>\u001b[1;34m\u001b[0m\n\u001b[0;32m      2\u001b[0m \u001b[1;32mif\u001b[0m \u001b[0m__debug__\u001b[0m\u001b[1;33m:\u001b[0m\u001b[1;33m\u001b[0m\u001b[1;33m\u001b[0m\u001b[0m\n\u001b[0;32m      3\u001b[0m     \u001b[1;32mif\u001b[0m \u001b[1;32mnot\u001b[0m \u001b[0mlen\u001b[0m\u001b[1;33m(\u001b[0m\u001b[0mx\u001b[0m\u001b[1;33m)\u001b[0m \u001b[1;33m>\u001b[0m \u001b[1;36m5\u001b[0m\u001b[1;33m:\u001b[0m\u001b[1;33m\u001b[0m\u001b[1;33m\u001b[0m\u001b[0m\n\u001b[1;32m----> 4\u001b[1;33m         \u001b[1;32mraise\u001b[0m \u001b[0mAssertionError\u001b[0m\u001b[1;33m(\u001b[0m\u001b[1;34m\"錯了\"\u001b[0m\u001b[1;33m)\u001b[0m\u001b[1;33m\u001b[0m\u001b[1;33m\u001b[0m\u001b[0m\n\u001b[0m",
      "\u001b[1;31mAssertionError\u001b[0m: 錯了"
     ]
    }
   ],
   "source": [
    "x = (1,2,3)\n",
    "if __debug__:\n",
    "    if not len(x) > 5:\n",
    "        raise AssertionError(\"錯了\")"
   ]
  },
  {
   "cell_type": "code",
   "execution_count": 19,
   "id": "a1b753ed",
   "metadata": {},
   "outputs": [
    {
     "name": "stdout",
     "output_type": "stream",
     "text": [
      "請輸入一個數字? 0\n"
     ]
    },
    {
     "ename": "AssertionError",
     "evalue": "數字不得為0",
     "output_type": "error",
     "traceback": [
      "\u001b[1;31m---------------------------------------------------------------------------\u001b[0m",
      "\u001b[1;31mAssertionError\u001b[0m                            Traceback (most recent call last)",
      "\u001b[1;32m~\\AppData\\Local\\Temp/ipykernel_14720/1812756486.py\u001b[0m in \u001b[0;36m<module>\u001b[1;34m\u001b[0m\n\u001b[0;32m      1\u001b[0m \u001b[0mnumber\u001b[0m \u001b[1;33m=\u001b[0m \u001b[0mint\u001b[0m\u001b[1;33m(\u001b[0m\u001b[0minput\u001b[0m\u001b[1;33m(\u001b[0m\u001b[1;34m\"請輸入一個數字? \"\u001b[0m\u001b[1;33m)\u001b[0m\u001b[1;33m)\u001b[0m\u001b[1;33m\u001b[0m\u001b[1;33m\u001b[0m\u001b[0m\n\u001b[1;32m----> 2\u001b[1;33m \u001b[1;32massert\u001b[0m \u001b[0mnumber\u001b[0m \u001b[1;33m!=\u001b[0m \u001b[1;36m0\u001b[0m\u001b[1;33m,\u001b[0m\u001b[1;34m\"數字不得為0\"\u001b[0m\u001b[1;33m\u001b[0m\u001b[1;33m\u001b[0m\u001b[0m\n\u001b[0m",
      "\u001b[1;31mAssertionError\u001b[0m: 數字不得為0"
     ]
    }
   ],
   "source": [
    "number = int(input(\"請輸入一個數字? \")) \n",
    "assert number != 0,\"數字不得為0\""
   ]
  },
  {
   "cell_type": "code",
   "execution_count": 17,
   "id": "7d865bb5",
   "metadata": {},
   "outputs": [
    {
     "name": "stdout",
     "output_type": "stream",
     "text": [
      "Please enter a non-zero integer: 0\n"
     ]
    },
    {
     "ename": "AssertionError",
     "evalue": "Integer can not be zero.",
     "output_type": "error",
     "traceback": [
      "\u001b[1;31m---------------------------------------------------------------------------\u001b[0m",
      "\u001b[1;31mAssertionError\u001b[0m                            Traceback (most recent call last)",
      "\u001b[1;32m~\\AppData\\Local\\Temp/ipykernel_14720/3332384700.py\u001b[0m in \u001b[0;36m<module>\u001b[1;34m\u001b[0m\n\u001b[0;32m      1\u001b[0m \u001b[0mx\u001b[0m \u001b[1;33m=\u001b[0m \u001b[0mint\u001b[0m\u001b[1;33m(\u001b[0m\u001b[0minput\u001b[0m\u001b[1;33m(\u001b[0m\u001b[1;34m\"Please enter a non-zero integer: \"\u001b[0m\u001b[1;33m)\u001b[0m\u001b[1;33m)\u001b[0m\u001b[1;33m\u001b[0m\u001b[1;33m\u001b[0m\u001b[0m\n\u001b[1;32m----> 2\u001b[1;33m \u001b[1;32massert\u001b[0m \u001b[0mx\u001b[0m \u001b[1;33m!=\u001b[0m \u001b[1;36m0\u001b[0m\u001b[1;33m,\u001b[0m \u001b[1;34m\"Integer can not be zero.\"\u001b[0m\u001b[1;33m\u001b[0m\u001b[1;33m\u001b[0m\u001b[0m\n\u001b[0m\u001b[0;32m      3\u001b[0m \u001b[1;33m\u001b[0m\u001b[0m\n\u001b[0;32m      4\u001b[0m \u001b[1;33m\u001b[0m\u001b[0m\n\u001b[0;32m      5\u001b[0m \u001b[1;31m#Please enter a non-zero integer: 0\u001b[0m\u001b[1;33m\u001b[0m\u001b[1;33m\u001b[0m\u001b[0m\n",
      "\u001b[1;31mAssertionError\u001b[0m: Integer can not be zero."
     ]
    }
   ],
   "source": [
    "x = int(input(\"Please enter a non-zero integer: \"))\n",
    "assert x != 0, \"Integer can not be zero.\"\n",
    "\n",
    "\n",
    "#Please enter a non-zero integer: 0"
   ]
  },
  {
   "cell_type": "code",
   "execution_count": 5,
   "id": "bdf8fb68",
   "metadata": {},
   "outputs": [],
   "source": [
    "def cell_value(string):\n",
    "    try:\n",
    "        return float(string)\n",
    "    except ValueError:\n",
    "        if string == \"\":\n",
    "            return 0\n",
    "        else:\n",
    "            return None "
   ]
  },
  {
   "cell_type": "code",
   "execution_count": 7,
   "id": "15cc5afb",
   "metadata": {},
   "outputs": [],
   "source": [
    "try:\n",
    "    import tkinter\n",
    "except ImportError:\n",
    "    import Tkinter as tkinter"
   ]
  },
  {
   "cell_type": "code",
   "execution_count": 14,
   "id": "5bccc48f",
   "metadata": {},
   "outputs": [
    {
     "data": {
      "text/plain": [
       "99"
      ]
     },
     "execution_count": 14,
     "metadata": {},
     "output_type": "execute_result"
    }
   ],
   "source": [
    "import random as r\n",
    "b = r.randint(1,100)\n",
    "b"
   ]
  },
  {
   "cell_type": "code",
   "execution_count": 3,
   "id": "a9f8acd5",
   "metadata": {},
   "outputs": [
    {
     "name": "stdout",
     "output_type": "stream",
     "text": [
      "None\n"
     ]
    }
   ],
   "source": [
    "dic = {\"V\":\"Vick\",\"T\":\"Terry\"}\n",
    "\n",
    "try:\n",
    "    print(dic[\"A\"])\n",
    "except KeyError:\n",
    "    print(None)"
   ]
  },
  {
   "cell_type": "code",
   "execution_count": null,
   "id": "105732f5",
   "metadata": {},
   "outputs": [],
   "source": [
    "try:\n",
    "    x = my_dict[some_key]\n",
    "except KeyError as e:\n",
    "    x = None\n"
   ]
  },
  {
   "cell_type": "code",
   "execution_count": 32,
   "id": "843cc9cc",
   "metadata": {},
   "outputs": [
    {
     "name": "stdout",
     "output_type": "stream",
     "text": [
      "請輸入1000以下的數字: 1001\n"
     ]
    },
    {
     "ename": "Value_TooLarge",
     "evalue": "數字超過1000了",
     "output_type": "error",
     "traceback": [
      "\u001b[1;31m---------------------------------------------------------------------------\u001b[0m",
      "\u001b[1;31mValue_TooLarge\u001b[0m                            Traceback (most recent call last)",
      "\u001b[1;32m~\\AppData\\Local\\Temp/ipykernel_14328/3972160704.py\u001b[0m in \u001b[0;36m<module>\u001b[1;34m\u001b[0m\n\u001b[0;32m      7\u001b[0m \u001b[1;33m\u001b[0m\u001b[0m\n\u001b[0;32m      8\u001b[0m \u001b[1;32mif\u001b[0m \u001b[0mx\u001b[0m \u001b[1;33m>\u001b[0m \u001b[1;36m1000\u001b[0m\u001b[1;33m:\u001b[0m\u001b[1;33m\u001b[0m\u001b[1;33m\u001b[0m\u001b[0m\n\u001b[1;32m----> 9\u001b[1;33m     \u001b[1;32mraise\u001b[0m \u001b[0mValue_TooLarge\u001b[0m\u001b[1;33m(\u001b[0m\u001b[1;34m\"數字超過1000了\"\u001b[0m\u001b[1;33m)\u001b[0m\u001b[1;33m\u001b[0m\u001b[1;33m\u001b[0m\u001b[0m\n\u001b[0m\u001b[0;32m     10\u001b[0m \u001b[1;32melse\u001b[0m\u001b[1;33m:\u001b[0m\u001b[1;33m\u001b[0m\u001b[1;33m\u001b[0m\u001b[0m\n\u001b[0;32m     11\u001b[0m     \u001b[0mprint\u001b[0m\u001b[1;33m(\u001b[0m\u001b[0mx\u001b[0m\u001b[1;33m)\u001b[0m\u001b[1;33m\u001b[0m\u001b[1;33m\u001b[0m\u001b[0m\n",
      "\u001b[1;31mValue_TooLarge\u001b[0m: 數字超過1000了"
     ]
    }
   ],
   "source": [
    "x = int(input(\"請輸入1000以下的數字: \"))\n",
    "\n",
    "class Value_TooLarge(Exception):\n",
    "    pass\n",
    "#     if x > 1000:\n",
    "#         raise IndexError(\"數字超過1000了\")\n",
    " \n",
    "if x > 1000:\n",
    "    raise Value_TooLarge(\"數字超過1000了\")   \n",
    "else:\n",
    "    print(x)\n",
    "    \n",
    "# try:\n",
    "#     print(x)\n",
    "# except Value_TooLarge:\n",
    "#     raise IndexError(\"數字超過1000了\") 不能這樣寫，因為不會抓到錯誤"
   ]
  },
  {
   "cell_type": "code",
   "execution_count": null,
   "id": "79e67447",
   "metadata": {},
   "outputs": [],
   "source": [
    "class ValueTooLarge(Exception):\n",
    "    pass\n",
    "x = 1001\n",
    "if x > 1000:\n",
    "    raise ValueTooLarge()"
   ]
  },
  {
   "cell_type": "code",
   "execution_count": 8,
   "id": "ae3d32e3",
   "metadata": {},
   "outputs": [],
   "source": [
    "try:\n",
    "    infile = open(\"file.txt\",\"r\")\n",
    "    data = infile.read()\n",
    "finally:\n",
    "    infile.close()"
   ]
  },
  {
   "cell_type": "code",
   "execution_count": null,
   "id": "b83a8246",
   "metadata": {},
   "outputs": [],
   "source": [
    "with open(\"file.txt\",\"r\") as infile:\n",
    "    data = infile.read()"
   ]
  },
  {
   "cell_type": "code",
   "execution_count": 10,
   "id": "3e00daf4",
   "metadata": {},
   "outputs": [
    {
     "data": {
      "text/plain": [
       "'I d4 4t k4w'"
      ]
     },
     "execution_count": 10,
     "metadata": {},
     "output_type": "execute_result"
    }
   ],
   "source": [
    "a = \"I do not know\"\n",
    "table = str.maketrans(\"aeiou\",\"12345\",\"n\")\n",
    "a.translate(table)"
   ]
  },
  {
   "cell_type": "code",
   "execution_count": 33,
   "id": "c784888f",
   "metadata": {},
   "outputs": [
    {
     "data": {
      "text/plain": [
       "['H', 'a', 'd', 'i', 'j', 'k', 'l', 's']"
      ]
     },
     "execution_count": 33,
     "metadata": {},
     "output_type": "execute_result"
    }
   ],
   "source": [
    "lis = [1,5,2,3,8,6,4,1]\n",
    "lis.sort()\n",
    "lis\n",
    "string=\"Hialskjd\"\n",
    "#sorted(string)\n",
    "#sorted(lis)\n",
    "#sorted是會產生新的物件，但是.sort是原本的自己排列\n",
    "#sorted可以用在很多容器，.sort是用在list"
   ]
  },
  {
   "cell_type": "code",
   "execution_count": 34,
   "id": "33bb9b9c",
   "metadata": {},
   "outputs": [
    {
     "name": "stdout",
     "output_type": "stream",
     "text": [
      "[('call', 1), ('ishmael', 1), ('years', 1), ('agonever', 1), ('mind', 1), ('how', 1), ('long', 1), ('precisely', 1), ('having', 1), ('no', 1), ('money', 1), ('purse', 1), ('particular', 1), ('interest', 1), ('on', 1), ('shore', 1), ('thought', 1), ('would', 1), ('sail', 1), ('see', 1), ('watery', 1), ('part', 1), ('world', 1), ('way', 1), ('have', 1), ('driving', 1), ('off', 1), ('spleen', 1), ('regulating', 1), ('circulation', 1), ('growing', 1), ('grim', 1), ('mouth', 1), ('damp', 1), ('drizzly', 1), ('november', 1), ('soul', 1), ('involuntarily', 1), ('pausing', 1), ('before', 1), ('coffin', 1), ('warehouses', 1), ('bringing', 1), ('up', 1), ('rear', 1), ('every', 1), ('funeral', 1), ('meet', 1), ('especially', 1), ('hypos', 1), ('such', 1), ('an', 1), ('upper', 1), ('hand', 1), ('requires', 1), ('strong', 1), ('moral', 1), ('principle', 1), ('prevent', 1), ('from', 1), ('deliberately', 1), ('stepping', 1), ('into', 1), ('street', 1), ('methodically', 1), ('knocking', 1), (\"people's\", 1), ('hats', 1), ('offthen', 1), ('account', 1), ('high', 1), ('sea', 1), ('soon', 1), ('can', 1), ('substitute', 1), ('for', 1), ('pistol', 1), ('ball', 1), ('philosophical', 1), ('flourish', 1), ('cato', 1), ('throws', 1), ('himself', 1), ('upon', 1), ('his', 1), ('sword', 1), ('quietly', 1), ('ship', 1), ('surprising', 1), ('if', 1), ('they', 1), ('but', 1), ('knew', 1), ('almost', 1), ('all', 1), ('men', 1), ('their', 1), ('degree', 1), ('other', 1), ('cherish', 1), ('very', 1), ('nearly', 1), ('same', 1), ('feelings', 1), ('towards', 1), ('ocean', 1), ('now', 1), ('your', 1), ('insular', 1), ('city', 1), ('manhattoes', 1), ('belted', 1), ('round', 1), ('wharves', 1), ('indian', 1), ('isles', 1), ('coral', 1), ('reefscommerce', 1), ('surrounds', 1), ('her', 1), ('surf', 1), ('right', 1), ('left', 1), ('streets', 1), ('you', 1), ('waterward', 1), ('its', 1), ('extreme', 1), ('downtown', 1), ('battery', 1), ('where', 1), ('noble', 1), ('mole', 1), ('washed', 1), ('waves', 1), ('cooled', 1), ('breezes', 1), ('which', 1), ('few', 1), ('hours', 1), ('previous', 1), ('were', 1), ('out', 1), ('sight', 1), ('land', 1), ('look', 1), ('at', 1), ('crowds', 1), ('watergazers', 1), ('some', 2), ('little', 2), ('or', 2), ('nothing', 2), ('about', 2), ('find', 2), ('myself', 2), ('get', 2), ('that', 2), ('time', 2), ('this', 2), ('take', 2), ('as', 3), ('with', 3), ('there', 3), ('in', 4), ('my', 4), ('whenever', 4), ('by', 4), ('me', 5), ('to', 5), ('a', 6), ('it', 6), ('is', 7), ('of', 8), ('and', 9), ('i', 9), ('the', 14)]\n",
      "Most common words:\n",
      "('the', 14)\n",
      "('i', 9)\n",
      "('and', 9)\n",
      "('of', 8)\n",
      "('is', 7)\n",
      "\n",
      "Least common words:\n",
      "('call', 1)\n",
      "('ishmael', 1)\n",
      "('years', 1)\n",
      "('agonever', 1)\n",
      "('mind', 1)\n"
     ]
    }
   ],
   "source": [
    "punct = str.maketrans(\"\",  \"\", \"!.,:;-?\")#最後一個字串代表要刪除的東西，不會產生空格\n",
    "                                         #第一個參數會被第二個參數取代，以本案例，只是要刪除東西，沒有要取代\n",
    "\n",
    "def clean_line(line):\n",
    "    \"\"\"changes case and removes punctuation\"\"\"\n",
    "    # make all one case\n",
    "    cleaned_line = line.lower()\n",
    "        \n",
    "    # remove punctuation\n",
    "    cleaned_line = cleaned_line.translate(punct)\n",
    "    return cleaned_line\n",
    "\n",
    "def get_words(line):\n",
    "    \"\"\"splits line into words, and rejoins with newlines\"\"\"\n",
    "    words = line.split()\n",
    "    #print(\"\\n\".join(words) + \"\\n\")\n",
    "    return \"\\n\".join(words) + \"\\n\"\n",
    "     \n",
    "    \n",
    "with open(\"moby_01.txt\") as infile, open(\"moby_01_clean.txt\", \"w\") as outfile:\n",
    "    for line in infile:\n",
    "        cleaned_line = clean_line(line)\n",
    "        cleaned_words = get_words(cleaned_line)\n",
    "        \n",
    "        # write all words for line\n",
    "        outfile.write(cleaned_words)\n",
    "\n",
    "def count_words(words):\n",
    "    \"\"\"takes list of cleaned words, returns count dictionary\"\"\"\n",
    "    word_count = {}\n",
    "    #print(moby_words)\n",
    "    for word in moby_words:\n",
    "        count = word_count.setdefault(word, 0)\n",
    "        word_count[word] += 1\n",
    "    return word_count\n",
    "\n",
    "def word_stats(word_count):\n",
    "    \"\"\"Takes word count dictionary and returns top and bottom five \n",
    "       entries\"\"\"\n",
    "    word_list = list(word_count.items())\n",
    "    word_list.sort(key=lambda x: x[1])\n",
    "    print(word_list)\n",
    "    least_common = word_list[:5]\n",
    "    most_common = word_list[-1:-6:-1]#-1可以倒過來顯示\n",
    "    return most_common, least_common\n",
    "\n",
    "moby_words = []\n",
    "with open('moby_01_clean.txt') as infile:\n",
    "    for word in infile:\n",
    "        if word.strip():\n",
    "            moby_words.append(word.strip())\n",
    "        \n",
    "word_count = count_words(moby_words)\n",
    "most, least = word_stats(word_count)\n",
    "\n",
    "print(\"Most common words:\")\n",
    "for word in most:\n",
    "    print(word)\n",
    "\n",
    "print(\"\\nLeast common words:\")\n",
    "for word in least:\n",
    "    print(word)\n",
    "\n",
    "# infile = open(\"moby_01.txt\")\n",
    "# lines = infile.read()\n",
    "# a = clean_line(lines)\n",
    "# get_words(a)\n",
    "# clean_line.__doc__\n"
   ]
  },
  {
   "cell_type": "code",
   "execution_count": 11,
   "id": "1df47cf1",
   "metadata": {},
   "outputs": [],
   "source": [
    "class EmptyStringError(Exception):\n",
    "    pass\n",
    "\n",
    "def clean_line(line):\n",
    "    \"\"\"changes case and removes punctuation\"\"\"\n",
    "    \n",
    "    # raise exception if line is empty\n",
    "    if not line.strip():\n",
    "        raise EmptyStringError()\n",
    "\n",
    "    # make all one case\n",
    "    cleaned_line = line.lower()\n",
    "        \n",
    "    # remove punctuation\n",
    "    cleaned_line = cleaned_line.translate(punct)\n",
    "    return cleaned_line\n",
    "\n",
    "def count_words(words):\n",
    "    \"\"\"takes list of cleaned words, returns count dictionary\"\"\"\n",
    "    word_count = {}\n",
    "\n",
    "    for word in words:\n",
    "        try:\n",
    "            count = word_count.setdefault(word, 0)\n",
    "        except TypeError:\n",
    "            #if 'word' is not hashable, skip to next word.\n",
    "            pass\n",
    "        word_count[word] += 1\n",
    "    return word_count\n",
    "\n",
    "def word_stats(word_count):\n",
    "    \"\"\"Takes word count dictionary and returns top and bottom five entries\"\"\"\n",
    "\n",
    "    word_list = list(word_count.items())\n",
    "    word_list.sort(key=lambda x: x[1])\n",
    "\n",
    "    try:\n",
    "        least_common = word_list[:5]\n",
    "        most_common = word_list[-1:-6:-1]\n",
    "    except IndexError as e:\n",
    "        # if list is empty or too short, just return list\n",
    "        least_common = word_list\n",
    "        most_common = list(reversed(word_list))\n",
    "        \n",
    "    return most_common, least_common\n"
   ]
  },
  {
   "cell_type": "code",
   "execution_count": 42,
   "id": "c6533351",
   "metadata": {},
   "outputs": [
    {
     "data": {
      "text/plain": [
       "[4, 5, 2, 3, 1]"
      ]
     },
     "execution_count": 42,
     "metadata": {},
     "output_type": "execute_result"
    }
   ],
   "source": [
    "a = [1,3,2,5,4]\n",
    "string=\"asdajn\"\n",
    "a[0:10]\n",
    "#a.reverse()\n",
    "a\n",
    "list(reversed(a))\n",
    "#list(reversed(sorted(a)))\n",
    "#.reverse()也只有list才有"
   ]
  }
 ],
 "metadata": {
  "kernelspec": {
   "display_name": "Python 3 (ipykernel)",
   "language": "python",
   "name": "python3"
  },
  "language_info": {
   "codemirror_mode": {
    "name": "ipython",
    "version": 3
   },
   "file_extension": ".py",
   "mimetype": "text/x-python",
   "name": "python",
   "nbconvert_exporter": "python",
   "pygments_lexer": "ipython3",
   "version": "3.9.7"
  }
 },
 "nbformat": 4,
 "nbformat_minor": 5
}
