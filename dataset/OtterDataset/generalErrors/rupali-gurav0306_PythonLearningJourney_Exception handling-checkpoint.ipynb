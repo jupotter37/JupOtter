{
 "cells": [
  {
   "cell_type": "markdown",
   "id": "ab753818-f355-4f91-86bb-13b92a0fc910",
   "metadata": {},
   "source": [
    "# Exception Handling\n",
    "* __An exception is an event, that occurs during the execution of a program that disrupts the normal flow of the program's instructions.__\r",
    " * __Generally, when a Python script encounters a situation that it cannot cope with, it raises an exception.__\n",
    "* __An exception is a Python object that represents an error.__\n",
    "* __When a Python script raises an exception, it must either handle the exception immediately otherwise it terminates and quits.__\n",
    "* __If you have some suspicious code that may raise an exception, you can defend your program by placing the suspicious code in  try: block.__\n",
    "* __After the  try: block, include an except : statement, followed by a block that would handle the problem as elegantly as possible.__\n",
    "  \r",
    "## Comoan exceptions\n",
    "* __AttributeError__\n",
    "* __AssertionError__\n",
    "* __SyntaxError__\n",
    "* __IndentationError__\n",
    "* __KeyboardInterrupt__\n",
    "* __NameError__\n",
    "* __ImportError__\n",
    "* __IoError__\n",
    "* __IndexError__\n",
    "* __EOFError__\n",
    "* __NameError__\n",
    "* __KeyError__\n",
    "* __StopIteration__\n",
    "* __TypeError__\n",
    "* __UnicodeError__\n",
    "* __ValueError__\n",
    "* __ZerodivisionError__"
   ]
  },
  {
   "cell_type": "code",
   "execution_count": 99,
   "id": "6c57ffc3-e73e-4d88-b984-cd914c4ac9d1",
   "metadata": {},
   "outputs": [
    {
     "name": "stdin",
     "output_type": "stream",
     "text": [
      "Enter first 78\n",
      "Enter second 0\n"
     ]
    },
    {
     "name": "stdout",
     "output_type": "stream",
     "text": [
      "a / b , b can not be zero\n",
      "This works anyway\n"
     ]
    }
   ],
   "source": [
    "def aby (a, b):\n",
    "    try:\n",
    "        c = a / b\n",
    "    except ZeroDivisionError:\n",
    "        print(\"a / b , b can not be zero\")\n",
    "    else:\n",
    "        print(c)\n",
    "    finally:\n",
    "        print(\"This works anyway\")\n",
    "\n",
    "a = int(input(\"Enter first\"))\n",
    "b = int(input(\"Enter second\"))\n",
    "\n",
    "\n",
    "aby(a, b)"
   ]
  },
  {
   "cell_type": "code",
   "execution_count": 8,
   "id": "737e24b6-fc8a-416e-9fa1-4a44f508ab16",
   "metadata": {},
   "outputs": [
    {
     "name": "stdin",
     "output_type": "stream",
     "text": [
      "Enter number 45\n"
     ]
    },
    {
     "name": "stdout",
     "output_type": "stream",
     "text": [
      "45\n"
     ]
    }
   ],
   "source": [
    "try:\n",
    "    x =  int(input(\"Enter number\"))\n",
    "  \n",
    "except ValueError:\n",
    "    print(\"Enter integer only\")\n",
    "\n",
    "else:\n",
    "    print(x)\n"
   ]
  },
  {
   "cell_type": "code",
   "execution_count": 9,
   "id": "7817035f-c876-4b43-aa35-9f34023523f2",
   "metadata": {},
   "outputs": [
    {
     "name": "stdout",
     "output_type": "stream",
     "text": [
      "30.0\n"
     ]
    }
   ],
   "source": [
    "list = [10,20,30,40,50]\n",
    "x=sum(list)/5\n",
    "print(x)\n"
   ]
  },
  {
   "cell_type": "code",
   "execution_count": 97,
   "id": "606d76bd-01c0-4578-98a9-d951b9b96382",
   "metadata": {},
   "outputs": [
    {
     "name": "stdin",
     "output_type": "stream",
     "text": [
      "Enter the number of elements:  4\n",
      " 7\n",
      " 8\n",
      " 8\n",
      " 9\n"
     ]
    },
    {
     "name": "stdout",
     "output_type": "stream",
     "text": [
      "List is :  [7, 8, 8, 9]\n",
      "Sum of list is :  32\n"
     ]
    },
    {
     "name": "stdin",
     "output_type": "stream",
     "text": [
      "Enter the number you want to divide with :  0\n"
     ]
    },
    {
     "name": "stdout",
     "output_type": "stream",
     "text": [
      "Denominator can not be zero\n"
     ]
    }
   ],
   "source": [
    "#Take a list as input list\n",
    "#Sum of list\n",
    "#Take input to divide\n",
    "\n",
    "\n",
    "\n",
    "\n",
    "\n",
    "try:\n",
    "    n=int(input(\"Enter the number of elements: \"))\n",
    "    list=[]\n",
    "    for i in range(n):\n",
    "        x=int(input())\n",
    "        list.append(x)\n",
    "    sum1 = sum(list)\n",
    "    print(\"List is : \",list)\n",
    "    print(\"Sum of list is : \",sum1)\n",
    "    x = int(input(\"Enter the number you want to divide with : \"))\n",
    "    print(f\"After dividing sum of list with {x} is : \",sum1/x)\n",
    "\n",
    "\n",
    "except ValueError:\n",
    "    print(\"Enter only integer\")\n",
    "except ZeroDivisionError:\n",
    "    print(\"Denominator can not be zero\")\n",
    "except KeyboardInterrupt:\n",
    "    print(\"Interrupted by user\")\n",
    "else:\n",
    "    print(\"User issue\")"
   ]
  },
  {
   "cell_type": "code",
   "execution_count": 46,
   "id": "4920656d-e845-48a0-b200-ff0579c04a3c",
   "metadata": {},
   "outputs": [
    {
     "name": "stdin",
     "output_type": "stream",
     "text": [
      "Enter the starting range :  -10\n",
      "enter ending range :  20\n"
     ]
    },
    {
     "name": "stdout",
     "output_type": "stream",
     "text": [
      "Positive list is :  [1, 2, 3, 4, 5, 6, 7, 8, 9, 10, 11, 12, 13, 14, 15, 16, 17, 18, 19, 20]\n",
      "Sum of positive numbers :  210 \n",
      "\n",
      "Negative list is :  [-10, -9, -8, -7, -6, -5, -4, -3, -2, -1]\n",
      "Sum of negative numbers :  -55\n"
     ]
    }
   ],
   "source": [
    "#Write a program to take input as a range from user  filter positive and negative values \n",
    "#and print the sum of negative and positive numbers.\n",
    "pos_list = []\n",
    "neg_list = []\n",
    "try:\n",
    "    a = int(input(\"Enter the starting range : \"))\n",
    "    b = int(input(\"enter ending range : \"))\n",
    "    for i in range(a,b + 1):\n",
    "        if i > 0:\n",
    "            pos_list.append(i)\n",
    "        elif i < 0:\n",
    "            neg_list.append(i)\n",
    "    print(\"Positive list is : \",pos_list)\n",
    "    print(\"Sum of positive numbers : \",sum(pos_list),\"\\n\")\n",
    "    prin(\"Negative list is : \",neg_list)\n",
    "    print(\"Sum of negative numbers : \",sum(neg_list))\n",
    "except ValueError:\n",
    "    print(\"Enter numbers only\")\n",
    "\n",
    "\n"
   ]
  },
  {
   "cell_type": "code",
   "execution_count": 50,
   "id": "010a674c-413d-4f6f-8d34-0e75fbd901ed",
   "metadata": {},
   "outputs": [
    {
     "name": "stdin",
     "output_type": "stream",
     "text": [
      "Enter the number of elements:  3\n",
      " -39\n",
      " 29\n",
      " -27\n"
     ]
    },
    {
     "name": "stdout",
     "output_type": "stream",
     "text": [
      "Positive list :  [29] \n",
      " Sum of it is :  29\n",
      "Negatibve list :  [-39, -27] \n",
      " Sum of it is :  -66\n"
     ]
    }
   ],
   "source": [
    "pos = []\n",
    "neg = []\n",
    "\n",
    "try:\n",
    "    n=int(input(\"Enter the number of elements: \"))\n",
    "    list=[]\n",
    "    for i in range(n):\n",
    "        x=int(input())\n",
    "        if x > 0:\n",
    "            pos.append(x)\n",
    "        elif x < 0:\n",
    "            neg.append(x)\n",
    "    print(\"Positive list : \",pos,\"\\n Sum of it is : \",sum(pos))\n",
    "    print(\"Negatibve list : \",neg,\"\\n Sum of it is : \",sum(neg))\n",
    "except ValueError:\n",
    "    print(\"Enter numbers only\")"
   ]
  },
  {
   "cell_type": "code",
   "execution_count": 93,
   "id": "f8427e7e-c9c5-4347-b30f-e7feaa549249",
   "metadata": {},
   "outputs": [
    {
     "ename": "TypeError",
     "evalue": "'set' object is not subscriptable",
     "output_type": "error",
     "traceback": [
      "\u001b[1;31m----------------------------------------------------------------\u001b[0m",
      "\u001b[1;31mTypeError\u001b[0m                      Traceback (most recent call last)",
      "Cell \u001b[1;32mIn[93], line 2\u001b[0m\n\u001b[0;32m      1\u001b[0m \u001b[38;5;28mlist\u001b[39m \u001b[38;5;241m=\u001b[39m {\u001b[38;5;241m1\u001b[39m,\u001b[38;5;241m2\u001b[39m,\u001b[38;5;241m3\u001b[39m,\u001b[38;5;241m4\u001b[39m,\u001b[38;5;241m5\u001b[39m}\n\u001b[1;32m----> 2\u001b[0m \u001b[38;5;28mprint\u001b[39m(\u001b[38;5;28;43mlist\u001b[39;49m\u001b[43m[\u001b[49m\u001b[38;5;241;43m6\u001b[39;49m\u001b[43m]\u001b[49m)\n",
      "\u001b[1;31mTypeError\u001b[0m: 'set' object is not subscriptable"
     ]
    }
   ],
   "source": [
    "list = {1,2,3,4,5}\n",
    "print(list[6])"
   ]
  },
  {
   "cell_type": "code",
   "execution_count": 4,
   "id": "99aebdbe-d10f-4b57-a3ee-846955a8b815",
   "metadata": {},
   "outputs": [
    {
     "ename": "SyntaxError",
     "evalue": "invalid syntax (24241910.py, line 1)",
     "output_type": "error",
     "traceback": [
      "\u001b[1;36m  Cell \u001b[1;32mIn[4], line 1\u001b[1;36m\u001b[0m\n\u001b[1;33m    while true print(heloo)\u001b[0m\n\u001b[1;37m               ^\u001b[0m\n\u001b[1;31mSyntaxError\u001b[0m\u001b[1;31m:\u001b[0m invalid syntax\n"
     ]
    }
   ],
   "source": [
    "while true print(heloo)"
   ]
  },
  {
   "cell_type": "code",
   "execution_count": 5,
   "id": "2708e57b-c583-4a0e-a2d2-53a850788463",
   "metadata": {},
   "outputs": [
    {
     "ename": "NameError",
     "evalue": "name 'c' is not defined",
     "output_type": "error",
     "traceback": [
      "\u001b[1;31m----------------------------------------------------------------\u001b[0m",
      "\u001b[1;31mNameError\u001b[0m                      Traceback (most recent call last)",
      "Cell \u001b[1;32mIn[5], line 3\u001b[0m\n\u001b[0;32m      1\u001b[0m a \u001b[38;5;241m=\u001b[39m \u001b[38;5;241m4\u001b[39m\n\u001b[0;32m      2\u001b[0m b \u001b[38;5;241m=\u001b[39m \u001b[38;5;241m3\u001b[39m\n\u001b[1;32m----> 3\u001b[0m a\u001b[38;5;241m*\u001b[39m\u001b[43mc\u001b[49m\u001b[38;5;241m*\u001b[39mb\n",
      "\u001b[1;31mNameError\u001b[0m: name 'c' is not defined"
     ]
    }
   ],
   "source": [
    "a = 4\n",
    "b = 3\n",
    "a*c*b"
   ]
  },
  {
   "cell_type": "code",
   "execution_count": 8,
   "id": "7d68e422-d2d3-4e57-81c9-9456b69217d0",
   "metadata": {},
   "outputs": [
    {
     "ename": "TypeError",
     "evalue": "unsupported operand type(s) for +: 'int' and 'str'",
     "output_type": "error",
     "traceback": [
      "\u001b[1;31m----------------------------------------------------------------\u001b[0m",
      "\u001b[1;31mTypeError\u001b[0m                      Traceback (most recent call last)",
      "Cell \u001b[1;32mIn[8], line 3\u001b[0m\n\u001b[0;32m      1\u001b[0m a \u001b[38;5;241m=\u001b[39m \u001b[38;5;241m4\u001b[39m\n\u001b[0;32m      2\u001b[0m b \u001b[38;5;241m=\u001b[39m \u001b[38;5;124m\"\u001b[39m\u001b[38;5;124mhello\u001b[39m\u001b[38;5;124m\"\u001b[39m\n\u001b[1;32m----> 3\u001b[0m c \u001b[38;5;241m=\u001b[39m \u001b[43ma\u001b[49m\u001b[43m \u001b[49m\u001b[38;5;241;43m+\u001b[39;49m\u001b[43m \u001b[49m\u001b[43mb\u001b[49m\n",
      "\u001b[1;31mTypeError\u001b[0m: unsupported operand type(s) for +: 'int' and 'str'"
     ]
    }
   ],
   "source": [
    "a = 4\n",
    "b = \"hello\"\n",
    "c = a + b"
   ]
  },
  {
   "cell_type": "code",
   "execution_count": 11,
   "id": "d6a683c5-a131-4130-b9ea-231be982422d",
   "metadata": {},
   "outputs": [
    {
     "ename": "TypeError",
     "evalue": "list indices must be integers or slices, not str",
     "output_type": "error",
     "traceback": [
      "\u001b[1;31m----------------------------------------------------------------\u001b[0m",
      "\u001b[1;31mTypeError\u001b[0m                      Traceback (most recent call last)",
      "Cell \u001b[1;32mIn[11], line 3\u001b[0m\n\u001b[0;32m      1\u001b[0m geek \u001b[38;5;241m=\u001b[39m [\u001b[38;5;124m\"\u001b[39m\u001b[38;5;124mradha\u001b[39m\u001b[38;5;124m\"\u001b[39m,\u001b[38;5;124m\"\u001b[39m\u001b[38;5;124mMeera\u001b[39m\u001b[38;5;124m\"\u001b[39m,\u001b[38;5;124m\"\u001b[39m\u001b[38;5;124mMaya\u001b[39m\u001b[38;5;124m\"\u001b[39m]\n\u001b[0;32m      2\u001b[0m index \u001b[38;5;241m=\u001b[39m \u001b[38;5;124m\"\u001b[39m\u001b[38;5;124m1\u001b[39m\u001b[38;5;124m\"\u001b[39m\n\u001b[1;32m----> 3\u001b[0m \u001b[38;5;28mprint\u001b[39m(\u001b[43mgeek\u001b[49m\u001b[43m[\u001b[49m\u001b[43mindex\u001b[49m\u001b[43m]\u001b[49m)\n",
      "\u001b[1;31mTypeError\u001b[0m: list indices must be integers or slices, not str"
     ]
    }
   ],
   "source": [
    "geek = [\"radha\",\"Meera\",\"Maya\"]\n",
    "index = \"1\"\n",
    "print(geek[index])"
   ]
  },
  {
   "cell_type": "code",
   "execution_count": 20,
   "id": "e0699d60-9a63-463a-b91f-a4d7e2ccfabf",
   "metadata": {},
   "outputs": [
    {
     "name": "stdout",
     "output_type": "stream",
     "text": [
      "Error Buddy!\n"
     ]
    }
   ],
   "source": [
    "nlis=[]\n",
    "count=0\n",
    "try:\n",
    "    mean = count/len(nlis)\n",
    "    print(mean)\n",
    "except ZeroDivisionError :\n",
    "    print(\"Error Buddy!\")\n"
   ]
  },
  {
   "cell_type": "code",
   "execution_count": 24,
   "id": "fd3ccf72-0adf-441e-ba73-e1a51cf42218",
   "metadata": {},
   "outputs": [
    {
     "ename": "ZeroDivisionError",
     "evalue": "division by zero",
     "output_type": "error",
     "traceback": [
      "\u001b[1;31m----------------------------------------------------------------\u001b[0m",
      "\u001b[1;31mZeroDivisionError\u001b[0m              Traceback (most recent call last)",
      "Cell \u001b[1;32mIn[24], line 1\u001b[0m\n\u001b[1;32m----> 1\u001b[0m \u001b[38;5;28;43;01mTrue\u001b[39;49;00m\u001b[38;5;241;43m/\u001b[39;49m\u001b[38;5;28;43;01mFalse\u001b[39;49;00m\n",
      "\u001b[1;31mZeroDivisionError\u001b[0m: division by zero"
     ]
    }
   ],
   "source": [
    "True/False"
   ]
  },
  {
   "cell_type": "code",
   "execution_count": 95,
   "id": "e0f1a690-f7b7-4697-8674-eb3dd5251587",
   "metadata": {},
   "outputs": [
    {
     "ename": "KeyError",
     "evalue": "'d'",
     "output_type": "error",
     "traceback": [
      "\u001b[1;31m----------------------------------------------------------------\u001b[0m",
      "\u001b[1;31mKeyError\u001b[0m                       Traceback (most recent call last)",
      "Cell \u001b[1;32mIn[95], line 2\u001b[0m\n\u001b[0;32m      1\u001b[0m d1 \u001b[38;5;241m=\u001b[39m {\u001b[38;5;124m'\u001b[39m\u001b[38;5;124ma\u001b[39m\u001b[38;5;124m'\u001b[39m:\u001b[38;5;241m12\u001b[39m,\u001b[38;5;124m'\u001b[39m\u001b[38;5;124mb\u001b[39m\u001b[38;5;124m'\u001b[39m:\u001b[38;5;241m123\u001b[39m,\u001b[38;5;124m'\u001b[39m\u001b[38;5;124mc\u001b[39m\u001b[38;5;124m'\u001b[39m:\u001b[38;5;241m3\u001b[39m}\n\u001b[1;32m----> 2\u001b[0m \u001b[43md1\u001b[49m\u001b[43m[\u001b[49m\u001b[38;5;124;43m'\u001b[39;49m\u001b[38;5;124;43md\u001b[39;49m\u001b[38;5;124;43m'\u001b[39;49m\u001b[43m]\u001b[49m\n",
      "\u001b[1;31mKeyError\u001b[0m: 'd'"
     ]
    }
   ],
   "source": [
    "d1 = {'a':12,'b':123,'c':3}\n",
    "d1['d']"
   ]
  },
  {
   "cell_type": "code",
   "execution_count": 29,
   "id": "5f6783d7-21fa-4e49-84d5-5e8bac2c1003",
   "metadata": {},
   "outputs": [
    {
     "name": "stdin",
     "output_type": "stream",
     "text": [
      " radha\n"
     ]
    },
    {
     "ename": "ValueError",
     "evalue": "invalid literal for int() with base 10: 'radha'",
     "output_type": "error",
     "traceback": [
      "\u001b[1;31m----------------------------------------------------------------\u001b[0m",
      "\u001b[1;31mValueError\u001b[0m                     Traceback (most recent call last)",
      "Cell \u001b[1;32mIn[29], line 1\u001b[0m\n\u001b[1;32m----> 1\u001b[0m n \u001b[38;5;241m=\u001b[39m \u001b[38;5;28;43mint\u001b[39;49m\u001b[43m(\u001b[49m\u001b[38;5;28;43minput\u001b[39;49m\u001b[43m(\u001b[49m\u001b[43m)\u001b[49m\u001b[43m)\u001b[49m\n",
      "\u001b[1;31mValueError\u001b[0m: invalid literal for int() with base 10: 'radha'"
     ]
    }
   ],
   "source": [
    "n = int(input())"
   ]
  },
  {
   "cell_type": "code",
   "execution_count": 34,
   "id": "3d2e0c24-8867-4c12-a61f-53f576e93902",
   "metadata": {},
   "outputs": [
    {
     "name": "stdout",
     "output_type": "stream",
     "text": [
      "0.1\n",
      "0.2\n",
      "0.3\n"
     ]
    }
   ],
   "source": [
    "defi = {0.1,0.2,0.3}\n",
    "for i in defi:\n",
    "    print(i) \n",
    "    i+=1"
   ]
  },
  {
   "cell_type": "code",
   "execution_count": 36,
   "id": "2f17cfeb-555f-41c0-a459-378904b82b7f",
   "metadata": {},
   "outputs": [
    {
     "ename": "AttributeError",
     "evalue": "'rupa' object has no attribute 'b'",
     "output_type": "error",
     "traceback": [
      "\u001b[1;31m----------------------------------------------------------------\u001b[0m",
      "\u001b[1;31mAttributeError\u001b[0m                 Traceback (most recent call last)",
      "Cell \u001b[1;32mIn[36], line 5\u001b[0m\n\u001b[0;32m      3\u001b[0m         \u001b[38;5;28mself\u001b[39m\u001b[38;5;241m.\u001b[39ma \u001b[38;5;241m=\u001b[39m \u001b[38;5;124m\"\u001b[39m\u001b[38;5;124mHi\u001b[39m\u001b[38;5;124m\"\u001b[39m\n\u001b[0;32m      4\u001b[0m obj \u001b[38;5;241m=\u001b[39m rupa()\n\u001b[1;32m----> 5\u001b[0m \u001b[38;5;28mprint\u001b[39m(\u001b[43mobj\u001b[49m\u001b[38;5;241;43m.\u001b[39;49m\u001b[43mb\u001b[49m)\n",
      "\u001b[1;31mAttributeError\u001b[0m: 'rupa' object has no attribute 'b'"
     ]
    }
   ],
   "source": [
    "class rupa():\n",
    "    def __init__(self):\n",
    "        self.a = \"Hi\"\n",
    "obj = rupa()\n",
    "print(obj.b)"
   ]
  },
  {
   "cell_type": "code",
   "execution_count": 62,
   "id": "743da577-559e-48cb-95cf-9d5ce0446c75",
   "metadata": {},
   "outputs": [
    {
     "name": "stdin",
     "output_type": "stream",
     "text": [
      "Enter your distance in meters 10000\n",
      "Enter time minutes 30\n"
     ]
    },
    {
     "name": "stdout",
     "output_type": "stream",
     "text": [
      "Speed traveled by user is :  20.0 Km/Hour\n"
     ]
    }
   ],
   "source": [
    "#WAP to find speed in km/hr: \n",
    "\n",
    "try:\n",
    "    distance = int(input(\"Enter your distance in meters\"))\n",
    "    time = int(input(\"Enter time minutes\"))\n",
    "    dis_in_km = distance/1000\n",
    "    time_in_hour = time / 60\n",
    "    speed = dis_in_km / time_in_hour\n",
    "    print(\"Speed traveled by user is : \",speed,\"Km/Hour\")\n",
    "except ZeroDivisionError:\n",
    "    print(\"Denominator can not be 0,it's ZeroDivisionError\")#\n",
    "except ValueError:\n",
    "    print(\"Enter integers it's a ValueError\")\n",
    "except KeyboardInterrupt :\n",
    "    print(\"KeyboardInterrupt Error\")\n"
   ]
  },
  {
   "cell_type": "code",
   "execution_count": 55,
   "id": "120fd234-8051-4cd8-a38d-210bcbe929fb",
   "metadata": {},
   "outputs": [
    {
     "name": "stdin",
     "output_type": "stream",
     "text": [
      "Enter your speed 34\n",
      "Enter time 2\n"
     ]
    },
    {
     "name": "stdout",
     "output_type": "stream",
     "text": [
      "Distance travelled by user is :  68\n"
     ]
    }
   ],
   "source": [
    "#WAP Distance calculate \n",
    "\n",
    "try:\n",
    "    speed = int(input(\"Enter your speed\"))\n",
    "    time = int(input(\"Enter time\"))\n",
    "    distance = speed * time\n",
    "    print(\"Distance travelled by user is : \",distance)\n",
    "except ValueError:\n",
    "    print(\"Enter integers it's a ValueError\")\n",
    "except KeyboardInterrupt :\n",
    "    print(\"KeyboardInterrupt Error\")"
   ]
  },
  {
   "cell_type": "code",
   "execution_count": 85,
   "id": "8028117c-018a-49d6-b227-295b967545e5",
   "metadata": {},
   "outputs": [
    {
     "name": "stdout",
     "output_type": "stream",
     "text": [
      "In which unit you want distance to be\n",
      " 1 . For meters\n",
      " 2 . For kilometers\n",
      "\n",
      "------------------------------------------------------\n",
      "\n",
      "In which unit you want time to be\n",
      " 1 . For Seconds\n",
      " 2 . For Minutes\n",
      " 3 . For hour\n",
      "\n",
      "------------------------------------------------------\n",
      "\n"
     ]
    },
    {
     "name": "stdin",
     "output_type": "stream",
     "text": [
      "👩‍🏫 Enter your distance choice (1/2) :  1\n",
      " 👩‍🏫 Enter your time choice (1/2/3) :  2\n"
     ]
    },
    {
     "name": "stdout",
     "output_type": "stream",
     "text": [
      "\n",
      "<<---------------------------------------------------------->>\n",
      "\n"
     ]
    },
    {
     "name": "stdin",
     "output_type": "stream",
     "text": [
      " 👩‍💻 Enter distance in units you selected above :  n\n"
     ]
    },
    {
     "name": "stdout",
     "output_type": "stream",
     "text": [
      " Enter only integers \n"
     ]
    },
    {
     "ename": "ZeroDivisionError",
     "evalue": "float division by zero",
     "output_type": "error",
     "traceback": [
      "\u001b[1;31m----------------------------------------------------------------\u001b[0m",
      "\u001b[1;31mZeroDivisionError\u001b[0m              Traceback (most recent call last)",
      "Cell \u001b[1;32mIn[85], line 43\u001b[0m\n\u001b[0;32m     40\u001b[0m     distance_in_km \u001b[38;5;241m=\u001b[39m dis \u001b[38;5;241m/\u001b[39m \u001b[38;5;241m1000\u001b[39m\n\u001b[0;32m     41\u001b[0m     time_in_hour \u001b[38;5;241m=\u001b[39m time\u001b[38;5;241m/\u001b[39m \u001b[38;5;241m60\u001b[39m\n\u001b[1;32m---> 43\u001b[0m     \u001b[38;5;28mprint\u001b[39m(\u001b[38;5;124m\"\u001b[39m\u001b[38;5;130;01m\\n\u001b[39;00m\u001b[38;5;124m 🎯 Speed in km/hour is : \u001b[39m\u001b[38;5;124m\"\u001b[39m,\u001b[43mdistance_in_km\u001b[49m\u001b[38;5;241;43m/\u001b[39;49m\u001b[43mtime_in_hour\u001b[49m,\u001b[38;5;124m\"\u001b[39m\u001b[38;5;130;01m\\n\u001b[39;00m\u001b[38;5;124m\"\u001b[39m)\n\u001b[0;32m     44\u001b[0m     \u001b[38;5;28mprint\u001b[39m(\u001b[38;5;124m\"\u001b[39m\u001b[38;5;130;01m\\n\u001b[39;00m\u001b[38;5;124m<<---------------------------------------------------------->>\u001b[39m\u001b[38;5;130;01m\\n\u001b[39;00m\u001b[38;5;124m\"\u001b[39m)\n\u001b[0;32m     46\u001b[0m \u001b[38;5;28;01melif\u001b[39;00m distance_choice \u001b[38;5;241m==\u001b[39m \u001b[38;5;124m'\u001b[39m\u001b[38;5;124m1\u001b[39m\u001b[38;5;124m'\u001b[39m \u001b[38;5;129;01mand\u001b[39;00m time_choice \u001b[38;5;241m==\u001b[39m \u001b[38;5;124m'\u001b[39m\u001b[38;5;124m3\u001b[39m\u001b[38;5;124m'\u001b[39m:\n",
      "\u001b[1;31mZeroDivisionError\u001b[0m: float division by zero"
     ]
    }
   ],
   "source": [
    "\n",
    "print(\"In which unit you want distance to be\")\n",
    "print(\" 1 . For meters\")\n",
    "print(\" 2 . For kilometers\")\n",
    "print(\"\\n------------------------------------------------------\\n\")\n",
    "print(\"In which unit you want time to be\")\n",
    "print(\" 1 . For Seconds\")\n",
    "print(\" 2 . For Minutes\")\n",
    "print(\" 3 . For hour\")\n",
    "print(\"\\n------------------------------------------------------\\n\")\n",
    "\n",
    "\n",
    "while True:\n",
    "    distance_choice = input(\"👩‍🏫 Enter your distance choice (1/2) : \")\n",
    "    time_choice = input(\" 👩‍🏫 Enter your time choice (1/2/3) : \")\n",
    "    print(\"\\n<<---------------------------------------------------------->>\\n\")\n",
    "    \n",
    "    if distance_choice in ('1', '2') and time_choice in ('1','2','3'):\n",
    "        \n",
    "        try:\n",
    "            dis = float(input(\" 👩‍💻 Enter distance in units you selected above : \"))\n",
    "            time = float(input(\"  👩‍💻 Enter your time in units you selected above: \"))\n",
    "            \n",
    "        except ValueError:\n",
    "            print(\" Enter only integers \")\n",
    "            \n",
    "        except ZeroDivisionError:\n",
    "            print(\"Denominator can not be 0, it's ZeroDivisionError\")\n",
    "            continue\n",
    "            \n",
    "        if distance_choice == '1' and time_choice == '1':\n",
    "            \n",
    "            distance_in_km = dis / 1000\n",
    "            time_in_hour = time/ 3600\n",
    "            \n",
    "            print(\"\\n 🎯Speed in km/hour is : \",distance_in_km/time_in_hour,\"\\n\")\n",
    "            \n",
    "            print(\"\\n<<---------------------------------------------------------->>\\n\")\n",
    "        elif distance_choice == '1' and time_choice == '2':\n",
    "            \n",
    "            distance_in_km = dis / 1000\n",
    "            time_in_hour = time/ 60\n",
    "            \n",
    "            print(\"\\n 🎯 Speed in km/hour is : \",distance_in_km/time_in_hour,\"\\n\")\n",
    "            print(\"\\n<<---------------------------------------------------------->>\\n\")\n",
    "            \n",
    "        elif distance_choice == '1' and time_choice == '3':\n",
    "            \n",
    "            distance_in_km = dis / 1000\n",
    "            time_in_hour = time\n",
    "            \n",
    "            print(\"\\n 🎯 Speed in km/hour is : \",distance_in_km/time_in_hour,\"\\n\")\n",
    "            print(\"\\n<<---------------------------------------------------------->>\\n\")\n",
    "            \n",
    "        elif distance_choice == '2' and time_choice == '1':\n",
    "            \n",
    "            distance_in_km = dis\n",
    "            time_in_hour = time/ 3600\n",
    "            \n",
    "            print(\"\\n 🎯 Speed in km/hour is : \",distance_in_km/time_in_hour,\"\\n\")\n",
    "            print(\"\\n<<---------------------------------------------------------->>\\n\")\n",
    "            \n",
    "        elif distance_choice == '2' and time_choice == '2':\n",
    "            \n",
    "            distance_in_km = dis\n",
    "            time_in_hour = time/ 60\n",
    "            \n",
    "            print(\"\\n 🎯 Speed in km/hour is : \",distance_in_km/time_in_hour,\"\\n\")\n",
    "            print(\"\\n<<---------------------------------------------------------->>\\n\")\n",
    "            \n",
    "        elif distance_choice == '2' and time_choice == '3':\n",
    "            \n",
    "            distance_in_km = dis\n",
    "            time_in_hour = time\n",
    "            \n",
    "            print(\"\\n 🎯 Speed in km/hour is : \",distance_in_km/time_in_hour,\"\\n\")\n",
    "            print(\"\\n<<---------------------------------------------------------->>\\n\")\n",
    "        \n",
    "        next_cal = input(\" 🤔 Let's do speed calculation? ( y / n ) : \")\n",
    "        if next_cal.lower() == \"n\" :\n",
    "          break\n",
    "    else:\n",
    "        print( \"Invalid input\" )\n"
   ]
  },
  {
   "cell_type": "code",
   "execution_count": null,
   "id": "6d432e76-e9cd-4be7-b751-dd7ea0445be9",
   "metadata": {},
   "outputs": [],
   "source": [
    "\n",
    "\n",
    "\n",
    "while True:\n",
    "    distance_choice = input(\"👩‍🏫 Enter your distance choice [ * 1. for meter // * 2. for km ] : \")\n",
    "    time_choice = input(\" 👩‍🏫 Enter your time choice [ * 1. for sec // * 2. for min // * 3. for hour ] : \")\n",
    "    print(\"\\n<<---------------------------------------------------------->>\\n\")\n",
    "    \n",
    "    if distance_choice in ('1', '2') and time_choice in ('1','2','3'):\n",
    "        \n",
    "        try:\n",
    "            dis = float(input(\" 👩‍💻 Enter distance in units you selected above : \"))\n",
    "            time = float(input(\"  👩‍💻 Enter your time in units you selected above: \"))\n",
    "            if distance_choice == '1' and time_choice == '1':\n",
    "            \n",
    "                distance_in_km = dis / 1000\n",
    "                time_in_hour = time/ 3600\n",
    "            \n",
    "                print(\"\\n 🎯Speed in km/hour is : \",distance_in_km/time_in_hour,\"\\n\")\n",
    "                print(\"\\n<<---------------------------------------------------------->>\\n\")\n",
    "            elif distance_choice == '1' and time_choice == '2':\n",
    "            \n",
    "                distance_in_km = dis / 1000\n",
    "                time_in_hour = time/ 60\n",
    "                \n",
    "                print(\"\\n 🎯 Speed in km/hour is : \",distance_in_km/time_in_hour,\"\\n\")\n",
    "                print(\"\\n<<---------------------------------------------------------->>\\n\")\n",
    "            \n",
    "            elif distance_choice == '1' and time_choice == '3':\n",
    "                \n",
    "                distance_in_km = dis / 1000\n",
    "                time_in_hour = time\n",
    "                \n",
    "                print(\"\\n 🎯 Speed in km/hour is : \",distance_in_km/time_in_hour,\"\\n\")\n",
    "                print(\"\\n<<---------------------------------------------------------->>\\n\")\n",
    "                \n",
    "            elif distance_choice == '2' and time_choice == '1':\n",
    "                \n",
    "                distance_in_km = dis\n",
    "                time_in_hour = time/ 3600\n",
    "                \n",
    "                print(\"\\n 🎯 Speed in km/hour is : \",distance_in_km/time_in_hour,\"\\n\")\n",
    "                print(\"\\n<<---------------------------------------------------------->>\\n\")\n",
    "                \n",
    "            elif distance_choice == '2' and time_choice == '2':\n",
    "                \n",
    "                distance_in_km = dis\n",
    "                time_in_hour = time/ 60\n",
    "                \n",
    "                print(\"\\n 🎯 Speed in km/hour is : \",distance_in_km/time_in_hour,\"\\n\")\n",
    "                print(\"\\n<<---------------------------------------------------------->>\\n\")\n",
    "                \n",
    "            elif distance_choice == '2' and time_choice == '3':\n",
    "                \n",
    "                distance_in_km = dis\n",
    "                time_in_hour = time\n",
    "                \n",
    "                print(\"\\n 🎯 Speed in km/hour is : \",distance_in_km/time_in_hour,\"\\n\")\n",
    "                print(\"\\n<<---------------------------------------------------------->>\\n\")\n",
    "            \n",
    "            next_cal = input(\" 🤔 Let's do speed calculation? ( y / n ) : \")\n",
    "            if next_cal.lower() == \"n\" :\n",
    "              break\n",
    "        except ValueError:\n",
    "            print(\"\\n Enter only integers \\n\")\n",
    "            \n",
    "        except ZeroDivisionError:\n",
    "            print(\"\\n Denominator can not be 0, it's ZeroDivisionError \\n\")\n",
    "\n",
    "        except KeyboardInterrupt:\n",
    "            print(\"\\n Keyboard Interrupted by user\")\n",
    "            \n",
    "    else:\n",
    "        print( \"Invalid input\" )\n"
   ]
  },
  {
   "cell_type": "code",
   "execution_count": 94,
   "id": "715c966f-a9db-4649-a3a9-6cfe8d89473d",
   "metadata": {},
   "outputs": [
    {
     "ename": "IndexError",
     "evalue": "string index out of range",
     "output_type": "error",
     "traceback": [
      "\u001b[1;31m----------------------------------------------------------------\u001b[0m",
      "\u001b[1;31mIndexError\u001b[0m                     Traceback (most recent call last)",
      "Cell \u001b[1;32mIn[94], line 2\u001b[0m\n\u001b[0;32m      1\u001b[0m a \u001b[38;5;241m=\u001b[39m \u001b[38;5;124m\"\u001b[39m\u001b[38;5;124mhello\u001b[39m\u001b[38;5;124m\"\u001b[39m\n\u001b[1;32m----> 2\u001b[0m \u001b[38;5;28mprint\u001b[39m \u001b[38;5;241m=\u001b[39m \u001b[43ma\u001b[49m\u001b[43m[\u001b[49m\u001b[38;5;241;43m10\u001b[39;49m\u001b[43m]\u001b[49m\n",
      "\u001b[1;31mIndexError\u001b[0m: string index out of range"
     ]
    }
   ],
   "source": [
    "a = \"hello\"\n",
    "print = a[10]"
   ]
  },
  {
   "cell_type": "code",
   "execution_count": 102,
   "id": "982a946a-a09d-4c33-8b15-28a4a492de0d",
   "metadata": {},
   "outputs": [
    {
     "name": "stdin",
     "output_type": "stream",
     "text": [
      "Enter any number 0\n"
     ]
    },
    {
     "name": "stdout",
     "output_type": "stream",
     "text": [
      "The number 0 is a even number\n"
     ]
    }
   ],
   "source": [
    "#WAP to find even or odd numb\n",
    "\n",
    "try:\n",
    "    n = int(input(\"Enter any number\"))\n",
    "    if n <= 1000:\n",
    "        if n % 2 == 0:\n",
    "            print(f\"The number {n} is a even number\")\n",
    "        else:\n",
    "            print(f\"The number {n} is a odd number\")\n",
    "    else:\n",
    "        print(\"Number greater than 1000 is not allowed\")\n",
    "\n",
    "except ValueError:\n",
    "    print(\"enter only integer\")\n",
    "except KeyboardInterrupt:\n",
    "    print(\"KeyboardInterrupt\")\n",
    "    "
   ]
  },
  {
   "cell_type": "code",
   "execution_count": 108,
   "id": "bdf85d29-3788-4c7a-8f6f-661416766591",
   "metadata": {},
   "outputs": [
    {
     "name": "stdin",
     "output_type": "stream",
     "text": [
      "Enter any number 1001\n"
     ]
    },
    {
     "ename": "Exception",
     "evalue": "Number greater than 1000 not allowed",
     "output_type": "error",
     "traceback": [
      "\u001b[1;31m----------------------------------------------------------------\u001b[0m",
      "\u001b[1;31mException\u001b[0m                      Traceback (most recent call last)",
      "Cell \u001b[1;32mIn[108], line 5\u001b[0m\n\u001b[0;32m      3\u001b[0m \u001b[38;5;28;01mtry\u001b[39;00m:\n\u001b[0;32m      4\u001b[0m     \u001b[38;5;28;01mif\u001b[39;00m n \u001b[38;5;241m>\u001b[39m \u001b[38;5;241m1000\u001b[39m:\n\u001b[1;32m----> 5\u001b[0m         \u001b[38;5;28;01mraise\u001b[39;00m \u001b[38;5;167;01mException\u001b[39;00m(\u001b[38;5;124m\"\u001b[39m\u001b[38;5;124mNumber greater than 1000 not allowed\u001b[39m\u001b[38;5;124m\"\u001b[39m)\n\u001b[0;32m      7\u001b[0m     \u001b[38;5;66;03m#n = int(input(\"Enter any number\"))\u001b[39;00m\n\u001b[0;32m      8\u001b[0m     \u001b[38;5;28;01mif\u001b[39;00m n \u001b[38;5;241m<\u001b[39m\u001b[38;5;241m=\u001b[39m \u001b[38;5;241m1000\u001b[39m:\n",
      "\u001b[1;31mException\u001b[0m: Number greater than 1000 not allowed"
     ]
    }
   ],
   "source": [
    "n = int(input(\"Enter any number\"))\n",
    "\n",
    "try:\n",
    "    if n > 1000:\n",
    "        raise Exception(\"Number greater than 1000 not allowed\")\n",
    "        \n",
    "    #n = int(input(\"Enter any number\"))\n",
    "    if n <= 1000:\n",
    "        if n % 2 == 0:\n",
    "            print(f\"The number {n} is a even number\")\n",
    "        else:\n",
    "            print(f\"The number {n} is a odd number\")\n",
    "except ValueError:\n",
    "    print(\"enter only integer\")\n",
    "except KeyboardInterrupt:\n",
    "    print(\"KeyboardInterrupt\")\n",
    "    "
   ]
  },
  {
   "cell_type": "code",
   "execution_count": 111,
   "id": "6f29a637-5d9b-464c-ae09-709718ffb9e0",
   "metadata": {},
   "outputs": [
    {
     "name": "stdin",
     "output_type": "stream",
     "text": [
      "Enter number of elements you want in list :  er\n"
     ]
    },
    {
     "name": "stdout",
     "output_type": "stream",
     "text": [
      "Value error\n"
     ]
    }
   ],
   "source": [
    "# Take input from user find avg\n",
    "try:\n",
    "    num = int(input(\"Enter number of elements you want in list : \"))\n",
    "    list = []\n",
    "    for i in range(1,num+1):\n",
    "        ele = int(input(f\"Enter number {i} of the list : \"))\n",
    "        list.append(ele)\n",
    "    print(list)\n",
    "    print(\"Average of your number is\",sum(list)/len(list))\n",
    "except ValueError:\n",
    "    print(\"Value error\")\n",
    "except KeyboardInterrupt:\n",
    "    print(\"KeyboardInterrupt\")\n",
    "\n",
    "   "
   ]
  },
  {
   "cell_type": "code",
   "execution_count": 183,
   "id": "7152c114-2cad-415f-9df0-83b4d095e2a3",
   "metadata": {},
   "outputs": [
    {
     "name": "stdin",
     "output_type": "stream",
     "text": [
      "Enter any string 73652736\n"
     ]
    },
    {
     "name": "stdout",
     "output_type": "stream",
     "text": [
      "[]\n",
      "Vowels in 73652736 are :  []\n",
      "Consonant in 73652736 are :  []\n"
     ]
    }
   ],
   "source": [
    "#Seperate consonant and vowels from string handle errors\n",
    "\n",
    "\n",
    "list = []\n",
    "vow = []\n",
    "conso = []\n",
    "none = []\n",
    "try:\n",
    "    word = input(\"Enter any string\")\n",
    "    for letter in word:\n",
    "        if not word.isdigit() and not letter in ('@','#','$','&','*','%','!'):\n",
    "            list.append(letter)\n",
    "    print(list)\n",
    "    \n",
    "    for i in list:\n",
    "        if i in ('a','e','i','o','u','A','E','I','O','U'):\n",
    "            vow.append(i)\n",
    "        elif i in (' '):\n",
    "            none.append(i)\n",
    "        else:\n",
    "            conso.append(i)\n",
    "    print(f\"Vowels in {word} are : \",vow)\n",
    "    \n",
    "    print(f\"Consonant in {word} are : \",conso)\n",
    "except ValueError:\n",
    "    print(\"Enter only string\")\n",
    "except KeyboardInterrupt:\n",
    "    print(\"KeyboardInterrupt\")\n"
   ]
  },
  {
   "cell_type": "code",
   "execution_count": 149,
   "id": "99f233d9-7e5e-4b65-bff3-2dfff0e013e0",
   "metadata": {},
   "outputs": [
    {
     "name": "stdout",
     "output_type": "stream",
     "text": [
      "Hello!James,India\n"
     ]
    }
   ],
   "source": [
    "string1 = \"Hello!James12,India2020\"@#\n",
    "\n",
    "#iterating over each element\n",
    "new_string = ''.join((x for x in string1 if not x.isdigit()))\n",
    "\n",
    "print(new_string)"
   ]
  },
  {
   "cell_type": "code",
   "execution_count": null,
   "id": "dbfd7c09-2e13-4426-9e0c-57657d7a8f7a",
   "metadata": {},
   "outputs": [],
   "source": [
    "#Seperate consonants and vowels from string handle errors\n",
    "\n",
    "\n",
    "list = []\n",
    "vow = []\n",
    "conso = []\n",
    "none = []\n",
    "try:\n",
    "    word = input(\"Enter any string :->> \")\n",
    "    for letter in word:\n",
    "        if word.isalpha():\n",
    "            list.append(letter)\n",
    "    \n",
    "    for i in list:\n",
    "        if i in ('a','e','i','o','u','A','E','I','O','U'):\n",
    "            vow.append(i)\n",
    "        elif i in (' '):\n",
    "            none.append(i)\n",
    "        else:\n",
    "            conso.append(i)\n",
    "    \n",
    "                \n",
    "    print(\"List is :->>\",list,\"\\n\")\n",
    "    print(f\"Vowels in --- '{word}' --- are :->> \",vow,\"\\n\")\n",
    "    print(f\"Consonant in --- '{word}' --- are :->> \",conso)\n",
    "except ValueError:\n",
    "    print(\"Enter only string\")\n",
    "except KeyboardInterrupt:\n",
    "    print(\"KeyboardInterrupt\")\n",
    "else:\n",
    "    print(\"\\nAlways enter alphabetic letters to distinguish as vowels and consonants!\")\n",
    "finally:\n",
    "    print(\"\\nThankyou!\")\n"
   ]
  },
  {
   "cell_type": "code",
   "execution_count": null,
   "id": "4fd4beca-6ec7-4638-aa23-347af4bbaa60",
   "metadata": {},
   "outputs": [],
   "source": []
  }
 ],
 "metadata": {
  "kernelspec": {
   "display_name": "Python 3 (ipykernel)",
   "language": "python",
   "name": "python3"
  },
  "language_info": {
   "codemirror_mode": {
    "name": "ipython",
    "version": 3
   },
   "file_extension": ".py",
   "mimetype": "text/x-python",
   "name": "python",
   "nbconvert_exporter": "python",
   "pygments_lexer": "ipython3",
   "version": "3.12.2"
  }
 },
 "nbformat": 4,
 "nbformat_minor": 5
}
