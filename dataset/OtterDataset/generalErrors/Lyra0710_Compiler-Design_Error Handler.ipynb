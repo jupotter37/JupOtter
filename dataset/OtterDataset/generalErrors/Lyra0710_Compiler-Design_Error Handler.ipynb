{
 "cells": [
  {
   "cell_type": "markdown",
   "metadata": {},
   "source": [
    "## Create an error handler for code and spot syntax errors.\n",
    "### 1. Error detection\n",
    "###  2. Error report\n",
    "### 3. Error Recovery\n",
    "\n",
    "### Types of error:\n",
    "### 1. Compile time errors\n",
    "### 2. Runtime errors\n",
    "### 3. Logical Errors\n",
    "\n",
    "### Compiled time errors\n",
    "### 1. Lexical analysis\n",
    "### 2. Syntax analysis\n",
    "### 3. Semantic Analysis"
   ]
  },
  {
   "cell_type": "code",
   "execution_count": 37,
   "metadata": {},
   "outputs": [],
   "source": [
    "import ast"
   ]
  },
  {
   "cell_type": "code",
   "execution_count": 38,
   "metadata": {},
   "outputs": [],
   "source": [
    "# # Error detection and reporting for Compile-time errors\n",
    "# def compile_time_error_handler():\n",
    "#     try:\n",
    "#         # Lexical analysis\n",
    "#         undefined_var = 42  # This will generate a NameError\n",
    "#     except NameError as e:\n",
    "#         print(\"Compile-time error (Lexical analysis):\", e)\n",
    "\n",
    "#     try:\n",
    "#         # Syntax analysis\n",
    "#         eval(\"invalid syntax\")  # This will generate a SyntaxError\n",
    "#     except SyntaxError as e:\n",
    "#         print(\"Compile-time error (Syntax analysis):\", e)\n",
    "\n",
    "#     try:\n",
    "#         # Semantic analysis\n",
    "#         result = \"5\" + 2  # This will generate a TypeError\n",
    "#     except TypeError as e:\n",
    "#         print(\"Compile-time error (Semantic analysis):\", e)\n",
    "\n",
    "def compile_time_error_handler(file_path):\n",
    "    with open(file_path, 'r') as file:\n",
    "        code = file.read()\n",
    "\n",
    "    compile_successful = True\n",
    "    compile_errors = []\n",
    "\n",
    "    try:\n",
    "        compiled = compile(ast.parse(code), filename=file_path, mode='exec')\n",
    "        exec(compiled)\n",
    "    except (SyntaxError, NameError, TypeError) as e:\n",
    "        compile_successful = False\n",
    "        compile_errors.append(f\"Compile-time error in {file_path}: {e}\")\n",
    "\n",
    "    if compile_successful:\n",
    "        compile_errors.append(f\"Compilation of {file_path} was successful.\")\n",
    "\n",
    "    return compile_errors"
   ]
  },
  {
   "cell_type": "code",
   "execution_count": 39,
   "metadata": {},
   "outputs": [],
   "source": [
    "# Error detection and reporting for Runtime errors\n",
    "# def runtime_error_handler():\n",
    "#     try:\n",
    "#         dividend = 10\n",
    "#         divisor = 0\n",
    "#         result = dividend / divisor  # This will generate a ZeroDivisionError\n",
    "#     except ZeroDivisionError as e:\n",
    "#         print(\"Runtime error (ZeroDivisionError):\", e)\n",
    "\n",
    "#     try:\n",
    "#         index = 5\n",
    "#         my_list = [1, 2, 3]\n",
    "#         element = my_list[index]  # This will generate an IndexError\n",
    "#     except IndexError as e:\n",
    "#         print(\"Runtime error (IndexError):\", e)\n",
    "\n",
    "# Error detection and reporting for Runtime errors\n",
    "def runtime_error_handler(file_path):\n",
    "    with open(file_path, 'r') as file:\n",
    "        code = file.read()\n",
    "\n",
    "    runtime_errors = []\n",
    "\n",
    "    try:\n",
    "        exec(code)\n",
    "    except (ZeroDivisionError, IndexError) as e:\n",
    "        runtime_errors.append(f\"Runtime error in {file_path}: {e}\")\n",
    "\n",
    "    return runtime_errors"
   ]
  },
  {
   "cell_type": "code",
   "execution_count": 40,
   "metadata": {},
   "outputs": [],
   "source": [
    "# Error detection and reporting for Logical errors\n",
    "# def logical_error_handler():\n",
    "#     try:\n",
    "#         # Logical error example\n",
    "#         num1 = 5\n",
    "#         num2 = 3\n",
    "#         if num1 > num2:\n",
    "#             print(\"Num1 is greater.\")\n",
    "#         else:\n",
    "#             print(\"Num2 is greater.\")  # This is a logical error\n",
    "#     except Exception as e:\n",
    "#         print(\"Logical error:\", e)\n",
    "\n",
    "def logical_error_handler(file_path):\n",
    "    with open(file_path, 'r') as file:\n",
    "        code = file.read()\n",
    "\n",
    "    logical_errors = []\n",
    "\n",
    "    try:\n",
    "        exec(code)\n",
    "    except Exception as e:\n",
    "        logical_errors.append(f\"Logical error in {file_path}: {e}\")\n",
    "\n",
    "    return logical_errors"
   ]
  },
  {
   "cell_type": "code",
   "execution_count": 41,
   "metadata": {},
   "outputs": [
    {
     "name": "stdout",
     "output_type": "stream",
     "text": [
      "The average of the numbers is: 30.0\n",
      "Compile-time Errors:\n",
      "Compile-time error in cte.py: invalid syntax (<string>, line 1)\n",
      "Runtime Errors:\n",
      "Runtime error in rte.py: division by zero\n"
     ]
    }
   ],
   "source": [
    "if __name__ == \"__main__\":\n",
    "    compile_time_error_file = \"cte.py\"\n",
    "    runtime_error_file = \"rte.py\"\n",
    "    logical_error_file = \"le.py\"\n",
    "\n",
    "    # Error handling for Compile-time errors\n",
    "    compile_errors = compile_time_error_handler(compile_time_error_file)\n",
    "\n",
    "    # Error handling for Runtime errors\n",
    "    runtime_errors = runtime_error_handler(runtime_error_file)\n",
    "\n",
    "    # Error handling for Logical errors\n",
    "    logical_errors = logical_error_handler(logical_error_file)\n",
    "\n",
    "    # Display all errors\n",
    "    if compile_errors:\n",
    "        print(\"Compile-time Errors:\")\n",
    "        for error in compile_errors:\n",
    "            print(error)\n",
    "\n",
    "    if runtime_errors:\n",
    "        print(\"Runtime Errors:\")\n",
    "        for error in runtime_errors:\n",
    "            print(error)\n",
    "\n",
    "    if logical_errors:\n",
    "        print(\"Logical Errors:\")\n",
    "        for error in logical_errors:\n",
    "            print(error)"
   ]
  }
 ],
 "metadata": {
  "kernelspec": {
   "display_name": "Python 3",
   "language": "python",
   "name": "python3"
  },
  "language_info": {
   "codemirror_mode": {
    "name": "ipython",
    "version": 3
   },
   "file_extension": ".py",
   "mimetype": "text/x-python",
   "name": "python",
   "nbconvert_exporter": "python",
   "pygments_lexer": "ipython3",
   "version": "3.11.2"
  }
 },
 "nbformat": 4,
 "nbformat_minor": 2
}
