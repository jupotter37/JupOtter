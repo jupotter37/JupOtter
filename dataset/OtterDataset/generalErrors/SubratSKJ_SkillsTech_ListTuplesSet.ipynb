{
 "cells": [
  {
   "cell_type": "code",
   "execution_count": 1,
   "id": "4ed35bb3-3b0b-4573-b45b-224cbbec451b",
   "metadata": {},
   "outputs": [],
   "source": [
    "#list we can keep list inside a list ,tuples ,set everything "
   ]
  },
  {
   "cell_type": "code",
   "execution_count": 2,
   "id": "20dfd383-7558-4758-814a-93ab9686f5c9",
   "metadata": {},
   "outputs": [],
   "source": [
    "l = [1,345,45,\"subra\",True,5+7j,345.546]"
   ]
  },
  {
   "cell_type": "code",
   "execution_count": 3,
   "id": "04a3805c-1881-4a6e-bbc5-fa8b0dcc05b8",
   "metadata": {},
   "outputs": [
    {
     "data": {
      "text/plain": [
       "list"
      ]
     },
     "execution_count": 3,
     "metadata": {},
     "output_type": "execute_result"
    }
   ],
   "source": [
    "type(l)"
   ]
  },
  {
   "cell_type": "code",
   "execution_count": 5,
   "id": "2eec314b-ed8e-4a06-a559-7c05f011eca8",
   "metadata": {},
   "outputs": [
    {
     "data": {
      "text/plain": [
       "1"
      ]
     },
     "execution_count": 5,
     "metadata": {},
     "output_type": "execute_result"
    }
   ],
   "source": [
    "l[0]"
   ]
  },
  {
   "cell_type": "code",
   "execution_count": 6,
   "id": "ffaa7082-ef7a-4355-b4b1-27bdc45efe65",
   "metadata": {},
   "outputs": [
    {
     "data": {
      "text/plain": [
       "345.546"
      ]
     },
     "execution_count": 6,
     "metadata": {},
     "output_type": "execute_result"
    }
   ],
   "source": [
    "l[6]"
   ]
  },
  {
   "cell_type": "code",
   "execution_count": 7,
   "id": "58fead97-67ff-42b8-87e9-31544c67007d",
   "metadata": {},
   "outputs": [
    {
     "ename": "IndexError",
     "evalue": "list index out of range",
     "output_type": "error",
     "traceback": [
      "\u001b[0;31m---------------------------------------------------------------------------\u001b[0m",
      "\u001b[0;31mIndexError\u001b[0m                                Traceback (most recent call last)",
      "Cell \u001b[0;32mIn[7], line 1\u001b[0m\n\u001b[0;32m----> 1\u001b[0m \u001b[43ml\u001b[49m\u001b[43m[\u001b[49m\u001b[38;5;241;43m90\u001b[39;49m\u001b[43m]\u001b[49m \u001b[38;5;66;03m#list index is out of range \u001b[39;00m\n",
      "\u001b[0;31mIndexError\u001b[0m: list index out of range"
     ]
    }
   ],
   "source": [
    "l[90] #list index is out of range "
   ]
  },
  {
   "cell_type": "code",
   "execution_count": 8,
   "id": "d4acad05-b55b-4676-adf6-2a00984fa02f",
   "metadata": {},
   "outputs": [
    {
     "data": {
      "text/plain": [
       "[1, 345, 45]"
      ]
     },
     "execution_count": 8,
     "metadata": {},
     "output_type": "execute_result"
    }
   ],
   "source": [
    "l[0:3]"
   ]
  },
  {
   "cell_type": "code",
   "execution_count": 9,
   "id": "7d90ed70-2335-4d71-9590-1353948a1cbc",
   "metadata": {},
   "outputs": [
    {
     "data": {
      "text/plain": [
       "345.546"
      ]
     },
     "execution_count": 9,
     "metadata": {},
     "output_type": "execute_result"
    }
   ],
   "source": [
    "l[-1]"
   ]
  },
  {
   "cell_type": "code",
   "execution_count": 10,
   "id": "ef34c209-6eb2-4cb2-ae4f-6b2b9bb880e2",
   "metadata": {},
   "outputs": [
    {
     "data": {
      "text/plain": [
       "[345.546, (5+7j), True, 'subra', 45, 345, 1]"
      ]
     },
     "execution_count": 10,
     "metadata": {},
     "output_type": "execute_result"
    }
   ],
   "source": [
    "l[::-1]"
   ]
  },
  {
   "cell_type": "code",
   "execution_count": 11,
   "id": "5c2aaf16-d69c-4861-b170-155e125f0543",
   "metadata": {},
   "outputs": [
    {
     "data": {
      "text/plain": [
       "[1, 45, True, 345.546]"
      ]
     },
     "execution_count": 11,
     "metadata": {},
     "output_type": "execute_result"
    }
   ],
   "source": [
    "l[::2]"
   ]
  },
  {
   "cell_type": "code",
   "execution_count": 12,
   "id": "4fd9fd7c-8e33-456a-875e-d684fcd19bbe",
   "metadata": {},
   "outputs": [
    {
     "data": {
      "text/plain": [
       "[1, 345, 45, 'subra', True, (5+7j), 345.546]"
      ]
     },
     "execution_count": 12,
     "metadata": {},
     "output_type": "execute_result"
    }
   ],
   "source": [
    "l"
   ]
  },
  {
   "cell_type": "code",
   "execution_count": 15,
   "id": "18d746c3-2440-4f4d-ae79-a89a27f91864",
   "metadata": {},
   "outputs": [],
   "source": [
    "s= \"pwskills\""
   ]
  },
  {
   "cell_type": "code",
   "execution_count": 16,
   "id": "07a5c9f0-cfa4-479a-a8ab-d168794ff143",
   "metadata": {},
   "outputs": [
    {
     "data": {
      "text/plain": [
       "'pwskills'"
      ]
     },
     "execution_count": 16,
     "metadata": {},
     "output_type": "execute_result"
    }
   ],
   "source": [
    "s"
   ]
  },
  {
   "cell_type": "code",
   "execution_count": 17,
   "id": "6e4b98a8-cb10-448c-b1f0-f4c843ed7b1d",
   "metadata": {},
   "outputs": [
    {
     "ename": "TypeError",
     "evalue": "can only concatenate list (not \"str\") to list",
     "output_type": "error",
     "traceback": [
      "\u001b[0;31m---------------------------------------------------------------------------\u001b[0m",
      "\u001b[0;31mTypeError\u001b[0m                                 Traceback (most recent call last)",
      "Cell \u001b[0;32mIn[17], line 1\u001b[0m\n\u001b[0;32m----> 1\u001b[0m \u001b[43ml\u001b[49m\u001b[38;5;241;43m+\u001b[39;49m\u001b[43ms\u001b[49m\n",
      "\u001b[0;31mTypeError\u001b[0m: can only concatenate list (not \"str\") to list"
     ]
    }
   ],
   "source": [
    "l+s"
   ]
  },
  {
   "cell_type": "code",
   "execution_count": 20,
   "id": "1f15373b-3bf9-4319-a455-0c03134a480a",
   "metadata": {},
   "outputs": [
    {
     "data": {
      "text/plain": [
       "['p', 'w', 's', 'k', 'i', 'l', 'l', 's']"
      ]
     },
     "execution_count": 20,
     "metadata": {},
     "output_type": "execute_result"
    }
   ],
   "source": [
    "list(s)"
   ]
  },
  {
   "cell_type": "code",
   "execution_count": 21,
   "id": "b56832f8-0bea-4aad-b1a8-fc8fe7700fbd",
   "metadata": {},
   "outputs": [
    {
     "data": {
      "text/plain": [
       "[1, 345, 45, 'subra', True, (5+7j), 345.546]"
      ]
     },
     "execution_count": 21,
     "metadata": {},
     "output_type": "execute_result"
    }
   ],
   "source": [
    "l  # take out su from subra in list "
   ]
  },
  {
   "cell_type": "code",
   "execution_count": 23,
   "id": "8168c2fe-193b-4d00-9c25-fa6d9418782b",
   "metadata": {},
   "outputs": [
    {
     "data": {
      "text/plain": [
       "str"
      ]
     },
     "execution_count": 23,
     "metadata": {},
     "output_type": "execute_result"
    }
   ],
   "source": [
    "type(l[3])"
   ]
  },
  {
   "cell_type": "code",
   "execution_count": 24,
   "id": "0cfb18d8-35d8-4810-a950-332b6a9bf371",
   "metadata": {},
   "outputs": [
    {
     "data": {
      "text/plain": [
       "'subra'"
      ]
     },
     "execution_count": 24,
     "metadata": {},
     "output_type": "execute_result"
    }
   ],
   "source": [
    "l[3]"
   ]
  },
  {
   "cell_type": "code",
   "execution_count": 25,
   "id": "0ee256a3-775e-4ba9-b560-281171c59894",
   "metadata": {},
   "outputs": [
    {
     "data": {
      "text/plain": [
       "'su'"
      ]
     },
     "execution_count": 25,
     "metadata": {},
     "output_type": "execute_result"
    }
   ],
   "source": [
    "l[3][0:2]"
   ]
  },
  {
   "cell_type": "code",
   "execution_count": 26,
   "id": "3116144d-c200-4f7e-91a7-a8148eb4bf7d",
   "metadata": {},
   "outputs": [
    {
     "data": {
      "text/plain": [
       "True"
      ]
     },
     "execution_count": 26,
     "metadata": {},
     "output_type": "execute_result"
    }
   ],
   "source": [
    "l[4]"
   ]
  },
  {
   "cell_type": "code",
   "execution_count": 27,
   "id": "54c82d7e-e4d2-4183-8c75-bb042ddad38f",
   "metadata": {},
   "outputs": [
    {
     "data": {
      "text/plain": [
       "'True'"
      ]
     },
     "execution_count": 27,
     "metadata": {},
     "output_type": "execute_result"
    }
   ],
   "source": [
    "str(l[4])"
   ]
  },
  {
   "cell_type": "code",
   "execution_count": 28,
   "id": "84049f9b-1981-45a7-beb3-b059ae1b7110",
   "metadata": {},
   "outputs": [
    {
     "data": {
      "text/plain": [
       "'Tr'"
      ]
     },
     "execution_count": 28,
     "metadata": {},
     "output_type": "execute_result"
    }
   ],
   "source": [
    "str(l[4])[0:2]"
   ]
  },
  {
   "cell_type": "code",
   "execution_count": 29,
   "id": "c2b40134-0f86-43fa-bc60-96a78891c9ca",
   "metadata": {},
   "outputs": [
    {
     "ename": "TypeError",
     "evalue": "can only concatenate list (not \"int\") to list",
     "output_type": "error",
     "traceback": [
      "\u001b[0;31m---------------------------------------------------------------------------\u001b[0m",
      "\u001b[0;31mTypeError\u001b[0m                                 Traceback (most recent call last)",
      "Cell \u001b[0;32mIn[29], line 1\u001b[0m\n\u001b[0;32m----> 1\u001b[0m \u001b[43ml\u001b[49m\u001b[38;5;241;43m+\u001b[39;49m\u001b[38;5;241;43m5\u001b[39;49m\n",
      "\u001b[0;31mTypeError\u001b[0m: can only concatenate list (not \"int\") to list"
     ]
    }
   ],
   "source": [
    "l+5"
   ]
  },
  {
   "cell_type": "code",
   "execution_count": 30,
   "id": "ce578659-3cf3-4efc-885d-4dd18b8bcbc5",
   "metadata": {},
   "outputs": [],
   "source": [
    "l1=[3,4,5]"
   ]
  },
  {
   "cell_type": "code",
   "execution_count": 31,
   "id": "17e293e8-485f-41dc-b81d-394c4723a2a9",
   "metadata": {},
   "outputs": [
    {
     "data": {
      "text/plain": [
       "[1, 345, 45, 'subra', True, (5+7j), 345.546, 3, 4, 5]"
      ]
     },
     "execution_count": 31,
     "metadata": {},
     "output_type": "execute_result"
    }
   ],
   "source": [
    "l+l1"
   ]
  },
  {
   "cell_type": "code",
   "execution_count": 32,
   "id": "703f81a4-65d2-4e51-9d33-bb49e3d8fbd0",
   "metadata": {},
   "outputs": [
    {
     "data": {
      "text/plain": [
       "[3, 4, 5, 3, 4, 5, 3, 4, 5]"
      ]
     },
     "execution_count": 32,
     "metadata": {},
     "output_type": "execute_result"
    }
   ],
   "source": [
    "l1*3"
   ]
  },
  {
   "cell_type": "code",
   "execution_count": 33,
   "id": "060305ec-a3fe-4bb9-ac62-85dacd3e3ee0",
   "metadata": {},
   "outputs": [
    {
     "data": {
      "text/plain": [
       "[1, 345, 45, 'subra', True, (5+7j), 345.546]"
      ]
     },
     "execution_count": 33,
     "metadata": {},
     "output_type": "execute_result"
    }
   ],
   "source": [
    "l"
   ]
  },
  {
   "cell_type": "code",
   "execution_count": 35,
   "id": "5b72ce0e-960f-4827-874e-834925e917e1",
   "metadata": {},
   "outputs": [
    {
     "data": {
      "text/plain": [
       "7"
      ]
     },
     "execution_count": 35,
     "metadata": {},
     "output_type": "execute_result"
    }
   ],
   "source": [
    "len(l) # to calculate number of  entries available "
   ]
  },
  {
   "cell_type": "code",
   "execution_count": 36,
   "id": "d2a26216-b01c-4804-9c23-0689fa6a7ffd",
   "metadata": {},
   "outputs": [],
   "source": [
    "l.append(5)  # to add a new value to the list "
   ]
  },
  {
   "cell_type": "code",
   "execution_count": 37,
   "id": "6088c687-81d8-4d6f-ba86-82950998cb45",
   "metadata": {},
   "outputs": [
    {
     "data": {
      "text/plain": [
       "[1, 345, 45, 'subra', True, (5+7j), 345.546, 5]"
      ]
     },
     "execution_count": 37,
     "metadata": {},
     "output_type": "execute_result"
    }
   ],
   "source": [
    "l"
   ]
  },
  {
   "cell_type": "code",
   "execution_count": 38,
   "id": "371b110a-ae87-425f-9cc3-4b303c428ac3",
   "metadata": {},
   "outputs": [
    {
     "data": {
      "text/plain": [
       "'pwskills'"
      ]
     },
     "execution_count": 38,
     "metadata": {},
     "output_type": "execute_result"
    }
   ],
   "source": [
    "s"
   ]
  },
  {
   "cell_type": "code",
   "execution_count": 39,
   "id": "7407f7af-2e21-4ec1-87fe-e992588a53e4",
   "metadata": {},
   "outputs": [],
   "source": [
    "l.append(s)  # add string to the list"
   ]
  },
  {
   "cell_type": "code",
   "execution_count": 40,
   "id": "df8d937e-dfdb-4b28-86da-e3d76ad05e0a",
   "metadata": {},
   "outputs": [
    {
     "data": {
      "text/plain": [
       "[1, 345, 45, 'subra', True, (5+7j), 345.546, 5, 'pwskills']"
      ]
     },
     "execution_count": 40,
     "metadata": {},
     "output_type": "execute_result"
    }
   ],
   "source": [
    "l"
   ]
  },
  {
   "cell_type": "code",
   "execution_count": 41,
   "id": "c68d2148-265c-411d-854c-d995603e03c8",
   "metadata": {},
   "outputs": [
    {
     "data": {
      "text/plain": [
       "[3, 4, 5]"
      ]
     },
     "execution_count": 41,
     "metadata": {},
     "output_type": "execute_result"
    }
   ],
   "source": [
    "l1"
   ]
  },
  {
   "cell_type": "code",
   "execution_count": 42,
   "id": "babc6478-3ee2-4032-80a5-0b32f6bc18aa",
   "metadata": {},
   "outputs": [],
   "source": [
    "l.append(l1)  #nested list"
   ]
  },
  {
   "cell_type": "code",
   "execution_count": 43,
   "id": "082a035f-9ad0-4018-a50d-00110f99c913",
   "metadata": {},
   "outputs": [
    {
     "data": {
      "text/plain": [
       "[1, 345, 45, 'subra', True, (5+7j), 345.546, 5, 'pwskills', [3, 4, 5]]"
      ]
     },
     "execution_count": 43,
     "metadata": {},
     "output_type": "execute_result"
    }
   ],
   "source": [
    "l"
   ]
  },
  {
   "cell_type": "code",
   "execution_count": 45,
   "id": "eb092c35-6e40-4c9b-83e1-25cfd54495ac",
   "metadata": {},
   "outputs": [
    {
     "data": {
      "text/plain": [
       "[3, 4, 5]"
      ]
     },
     "execution_count": 45,
     "metadata": {},
     "output_type": "execute_result"
    }
   ],
   "source": [
    "l[-1]"
   ]
  },
  {
   "cell_type": "code",
   "execution_count": 46,
   "id": "96e03889-b797-4a58-87b8-ea19268f5b17",
   "metadata": {},
   "outputs": [
    {
     "data": {
      "text/plain": [
       "4"
      ]
     },
     "execution_count": 46,
     "metadata": {},
     "output_type": "execute_result"
    }
   ],
   "source": [
    "l[-1][1]"
   ]
  },
  {
   "cell_type": "code",
   "execution_count": 47,
   "id": "d6448d57-f4ed-400f-948b-6e98257257cd",
   "metadata": {},
   "outputs": [
    {
     "ename": "TypeError",
     "evalue": "'int' object is not iterable",
     "output_type": "error",
     "traceback": [
      "\u001b[0;31m---------------------------------------------------------------------------\u001b[0m",
      "\u001b[0;31mTypeError\u001b[0m                                 Traceback (most recent call last)",
      "Cell \u001b[0;32mIn[47], line 1\u001b[0m\n\u001b[0;32m----> 1\u001b[0m \u001b[43ml\u001b[49m\u001b[38;5;241;43m.\u001b[39;49m\u001b[43mextend\u001b[49m\u001b[43m(\u001b[49m\u001b[38;5;241;43m4\u001b[39;49m\u001b[43m)\u001b[49m\n",
      "\u001b[0;31mTypeError\u001b[0m: 'int' object is not iterable"
     ]
    }
   ],
   "source": [
    "l.extend(4)"
   ]
  },
  {
   "cell_type": "code",
   "execution_count": 48,
   "id": "1c81e1aa-3af5-40f6-ad27-4c2778cdda03",
   "metadata": {},
   "outputs": [],
   "source": [
    "l.extend(\"subrat\")  # used to extend iterables which is having object inside object"
   ]
  },
  {
   "cell_type": "code",
   "execution_count": 49,
   "id": "6b8cbabe-a3ba-4f0e-80c2-b289c0d157bc",
   "metadata": {},
   "outputs": [
    {
     "data": {
      "text/plain": [
       "[1,\n",
       " 345,\n",
       " 45,\n",
       " 'subra',\n",
       " True,\n",
       " (5+7j),\n",
       " 345.546,\n",
       " 5,\n",
       " 'pwskills',\n",
       " [3, 4, 5],\n",
       " 's',\n",
       " 'u',\n",
       " 'b',\n",
       " 'r',\n",
       " 'a',\n",
       " 't']"
      ]
     },
     "execution_count": 49,
     "metadata": {},
     "output_type": "execute_result"
    }
   ],
   "source": [
    "l"
   ]
  },
  {
   "cell_type": "code",
   "execution_count": 50,
   "id": "76febeed-7bcd-4de7-9551-3c5a90568867",
   "metadata": {},
   "outputs": [],
   "source": [
    "l.extend([3,4,5])  # extend unwrap the data into characters and if list there then unwrap the data and extend further "
   ]
  },
  {
   "cell_type": "code",
   "execution_count": 51,
   "id": "33d2be3f-77a8-4c8c-8080-92e1bc9aecbb",
   "metadata": {},
   "outputs": [
    {
     "data": {
      "text/plain": [
       "[1,\n",
       " 345,\n",
       " 45,\n",
       " 'subra',\n",
       " True,\n",
       " (5+7j),\n",
       " 345.546,\n",
       " 5,\n",
       " 'pwskills',\n",
       " [3, 4, 5],\n",
       " 's',\n",
       " 'u',\n",
       " 'b',\n",
       " 'r',\n",
       " 'a',\n",
       " 't',\n",
       " 3,\n",
       " 4,\n",
       " 5]"
      ]
     },
     "execution_count": 51,
     "metadata": {},
     "output_type": "execute_result"
    }
   ],
   "source": [
    "l"
   ]
  },
  {
   "cell_type": "code",
   "execution_count": 52,
   "id": "6d1129d9-2e65-43d0-9a13-f9349a5338ed",
   "metadata": {},
   "outputs": [
    {
     "data": {
      "text/plain": [
       "[3, 4, 5]"
      ]
     },
     "execution_count": 52,
     "metadata": {},
     "output_type": "execute_result"
    }
   ],
   "source": [
    "l1"
   ]
  },
  {
   "cell_type": "code",
   "execution_count": 55,
   "id": "49bf7fe7-caab-4354-a4cf-5258fb606f9f",
   "metadata": {},
   "outputs": [],
   "source": [
    "#here wherever we want to insert the data there we can insert the data first parameter defines the position \n",
    "#and 2nd object is for the value to insert  . it insert the data in position we want but append and extend \n",
    "#add the data at the end of the list.\n",
    "\n",
    "l1.insert(1,'jena')"
   ]
  },
  {
   "cell_type": "code",
   "execution_count": 56,
   "id": "cad317b1-2e33-44aa-b9c8-e9ded461a14b",
   "metadata": {},
   "outputs": [
    {
     "data": {
      "text/plain": [
       "[3, 'jena', 4, 5]"
      ]
     },
     "execution_count": 56,
     "metadata": {},
     "output_type": "execute_result"
    }
   ],
   "source": [
    "l1"
   ]
  },
  {
   "cell_type": "code",
   "execution_count": 57,
   "id": "d4e00916-7c18-4694-be0a-13e9f1f192b3",
   "metadata": {},
   "outputs": [],
   "source": [
    "l1.insert(2,[2,3,4])"
   ]
  },
  {
   "cell_type": "code",
   "execution_count": 58,
   "id": "a5892874-97fd-4116-b10d-2e77796ee480",
   "metadata": {},
   "outputs": [
    {
     "data": {
      "text/plain": [
       "[3, 'jena', [2, 3, 4], 4, 5]"
      ]
     },
     "execution_count": 58,
     "metadata": {},
     "output_type": "execute_result"
    }
   ],
   "source": [
    "l1"
   ]
  },
  {
   "cell_type": "code",
   "execution_count": 59,
   "id": "faad492a-57a0-48e0-aef1-b784bb1aabd4",
   "metadata": {},
   "outputs": [],
   "source": [
    "l1.insert(2,[2,3,4])"
   ]
  },
  {
   "cell_type": "code",
   "execution_count": 60,
   "id": "02a5af6b-224b-4864-a0cb-da4414ff908a",
   "metadata": {},
   "outputs": [
    {
     "data": {
      "text/plain": [
       "[3, 'jena', [2, 3, 4], [2, 3, 4], 4, 5]"
      ]
     },
     "execution_count": 60,
     "metadata": {},
     "output_type": "execute_result"
    }
   ],
   "source": [
    "l1"
   ]
  },
  {
   "cell_type": "code",
   "execution_count": 61,
   "id": "fa836836-1520-4ec3-aea8-9042040f2d37",
   "metadata": {},
   "outputs": [],
   "source": [
    "l1.insert(-1,45)"
   ]
  },
  {
   "cell_type": "code",
   "execution_count": 62,
   "id": "369f6873-a26f-4ba4-b354-249fe0bd3886",
   "metadata": {},
   "outputs": [
    {
     "data": {
      "text/plain": [
       "[3, 'jena', [2, 3, 4], [2, 3, 4], 4, 45, 5]"
      ]
     },
     "execution_count": 62,
     "metadata": {},
     "output_type": "execute_result"
    }
   ],
   "source": [
    "l1"
   ]
  },
  {
   "cell_type": "code",
   "execution_count": 63,
   "id": "8282ce70-a1fe-4495-900d-befcd7572c73",
   "metadata": {},
   "outputs": [],
   "source": [
    "l1.insert(0,45)"
   ]
  },
  {
   "cell_type": "code",
   "execution_count": 64,
   "id": "925d6b11-5b41-443c-994c-9194cdc4a379",
   "metadata": {},
   "outputs": [
    {
     "data": {
      "text/plain": [
       "[45, 3, 'jena', [2, 3, 4], [2, 3, 4], 4, 45, 5]"
      ]
     },
     "execution_count": 64,
     "metadata": {},
     "output_type": "execute_result"
    }
   ],
   "source": [
    "l1"
   ]
  },
  {
   "cell_type": "code",
   "execution_count": 65,
   "id": "269df6fc-1ac2-4fee-a3d6-04671ee0e395",
   "metadata": {},
   "outputs": [
    {
     "data": {
      "text/plain": [
       "5"
      ]
     },
     "execution_count": 65,
     "metadata": {},
     "output_type": "execute_result"
    }
   ],
   "source": [
    "l1.pop()       # remove and return an item at index default is -1 index value will be removed by this "
   ]
  },
  {
   "cell_type": "code",
   "execution_count": 66,
   "id": "164eba60-7a8c-4339-947c-f74c60ef8ceb",
   "metadata": {},
   "outputs": [
    {
     "data": {
      "text/plain": [
       "[45, 3, 'jena', [2, 3, 4], [2, 3, 4], 4, 45]"
      ]
     },
     "execution_count": 66,
     "metadata": {},
     "output_type": "execute_result"
    }
   ],
   "source": [
    "l1"
   ]
  },
  {
   "cell_type": "code",
   "execution_count": 67,
   "id": "7d1ea25f-65c8-4f0b-90e5-3e4618e0a88f",
   "metadata": {},
   "outputs": [
    {
     "data": {
      "text/plain": [
       "[2, 3, 4]"
      ]
     },
     "execution_count": 67,
     "metadata": {},
     "output_type": "execute_result"
    }
   ],
   "source": [
    "l1.pop(3)"
   ]
  },
  {
   "cell_type": "code",
   "execution_count": 68,
   "id": "48f56e0a-31b3-455e-bccf-085d36aab017",
   "metadata": {},
   "outputs": [
    {
     "data": {
      "text/plain": [
       "[45, 3, 'jena', [2, 3, 4], 4, 45]"
      ]
     },
     "execution_count": 68,
     "metadata": {},
     "output_type": "execute_result"
    }
   ],
   "source": [
    "l1"
   ]
  },
  {
   "cell_type": "code",
   "execution_count": 70,
   "id": "eb66ae5b-fb1f-4737-aeed-5898d0bba982",
   "metadata": {},
   "outputs": [],
   "source": [
    "l1.remove(3)   # it will remove the elements that we are going to pass "
   ]
  },
  {
   "cell_type": "code",
   "execution_count": 71,
   "id": "38b72376-e37e-42e0-91dd-d0bd0010c416",
   "metadata": {},
   "outputs": [
    {
     "data": {
      "text/plain": [
       "[45, 'jena', [2, 3, 4], 4, 45]"
      ]
     },
     "execution_count": 71,
     "metadata": {},
     "output_type": "execute_result"
    }
   ],
   "source": [
    "l1"
   ]
  },
  {
   "cell_type": "code",
   "execution_count": 72,
   "id": "35097d01-84f7-4eb2-9eaf-7c97c06e737b",
   "metadata": {},
   "outputs": [
    {
     "ename": "ValueError",
     "evalue": "list.remove(x): x not in list",
     "output_type": "error",
     "traceback": [
      "\u001b[0;31m---------------------------------------------------------------------------\u001b[0m",
      "\u001b[0;31mValueError\u001b[0m                                Traceback (most recent call last)",
      "Cell \u001b[0;32mIn[72], line 1\u001b[0m\n\u001b[0;32m----> 1\u001b[0m \u001b[43ml1\u001b[49m\u001b[38;5;241;43m.\u001b[39;49m\u001b[43mremove\u001b[49m\u001b[43m(\u001b[49m\u001b[38;5;241;43m234\u001b[39;49m\u001b[43m)\u001b[49m\n",
      "\u001b[0;31mValueError\u001b[0m: list.remove(x): x not in list"
     ]
    }
   ],
   "source": [
    "l1.remove(234)  # 234 is not available in the list"
   ]
  },
  {
   "cell_type": "code",
   "execution_count": 75,
   "id": "61bda27a-ee47-4cb5-b010-c888d77ba2f7",
   "metadata": {},
   "outputs": [],
   "source": [
    "l1[2].remove(3)"
   ]
  },
  {
   "cell_type": "code",
   "execution_count": 76,
   "id": "d06f18d6-883b-4bc7-a6c7-f8827f2aadb9",
   "metadata": {},
   "outputs": [
    {
     "data": {
      "text/plain": [
       "[45, 'jena', [2, 4], 4, 45]"
      ]
     },
     "execution_count": 76,
     "metadata": {},
     "output_type": "execute_result"
    }
   ],
   "source": [
    "l1"
   ]
  },
  {
   "cell_type": "code",
   "execution_count": 78,
   "id": "610d8536-d076-499d-9c3b-c43dc38b232f",
   "metadata": {},
   "outputs": [
    {
     "ename": "SyntaxError",
     "evalue": "closing parenthesis ']' does not match opening parenthesis '(' (3946663919.py, line 1)",
     "output_type": "error",
     "traceback": [
      "\u001b[0;36m  Cell \u001b[0;32mIn[78], line 1\u001b[0;36m\u001b[0m\n\u001b[0;31m    l1[1].remove(l1(2::1]))\u001b[0m\n\u001b[0m                        ^\u001b[0m\n\u001b[0;31mSyntaxError\u001b[0m\u001b[0;31m:\u001b[0m closing parenthesis ']' does not match opening parenthesis '('\n"
     ]
    }
   ],
   "source": [
    "l1[1].remove(l1(2::1]))  # since string is immutable so it can remove na from jena"
   ]
  },
  {
   "cell_type": "code",
   "execution_count": 79,
   "id": "3e093916-59df-496c-b609-c36a24acb473",
   "metadata": {},
   "outputs": [],
   "source": [
    "l1.append(4)"
   ]
  },
  {
   "cell_type": "code",
   "execution_count": 80,
   "id": "051f7749-fc12-45d7-b61d-51083f6f2f3a",
   "metadata": {},
   "outputs": [
    {
     "data": {
      "text/plain": [
       "[45, 'jena', [2, 4], 4, 45, 4]"
      ]
     },
     "execution_count": 80,
     "metadata": {},
     "output_type": "execute_result"
    }
   ],
   "source": [
    "l1"
   ]
  },
  {
   "cell_type": "code",
   "execution_count": 81,
   "id": "f039fc5b-d6db-4a64-b6cf-09fc3ee9956f",
   "metadata": {},
   "outputs": [],
   "source": [
    "l1.remove(4)  # removes the first value "
   ]
  },
  {
   "cell_type": "code",
   "execution_count": 82,
   "id": "0ef73e45-5216-45f5-8c82-a335ee4be5aa",
   "metadata": {},
   "outputs": [
    {
     "data": {
      "text/plain": [
       "[45, 'jena', [2, 4], 45, 4]"
      ]
     },
     "execution_count": 82,
     "metadata": {},
     "output_type": "execute_result"
    }
   ],
   "source": [
    "l1"
   ]
  },
  {
   "cell_type": "code",
   "execution_count": 83,
   "id": "3f87865e-3cc0-464d-9fe4-67e794abe70d",
   "metadata": {},
   "outputs": [
    {
     "data": {
      "text/plain": [
       "[4, 45, [2, 4], 'jena', 45]"
      ]
     },
     "execution_count": 83,
     "metadata": {},
     "output_type": "execute_result"
    }
   ],
   "source": [
    "l1[::-1]  # this does a temporary reverse"
   ]
  },
  {
   "cell_type": "code",
   "execution_count": 86,
   "id": "1dbbfb05-d0b6-4db6-8b8f-dc4224e89122",
   "metadata": {},
   "outputs": [
    {
     "data": {
      "text/plain": [
       "[4, 45, [2, 4], 'jena', 45]"
      ]
     },
     "execution_count": 86,
     "metadata": {},
     "output_type": "execute_result"
    }
   ],
   "source": [
    "l1"
   ]
  },
  {
   "cell_type": "code",
   "execution_count": 87,
   "id": "d006276c-6560-4cf7-9531-fb2b4beab7c6",
   "metadata": {},
   "outputs": [],
   "source": [
    "l1.reverse()   # permanent reverse in a list "
   ]
  },
  {
   "cell_type": "code",
   "execution_count": 89,
   "id": "1de69345-c38f-439a-a7ce-ea5961f0a892",
   "metadata": {},
   "outputs": [
    {
     "data": {
      "text/plain": [
       "[45, 'jena', [2, 4], 45, 4]"
      ]
     },
     "execution_count": 89,
     "metadata": {},
     "output_type": "execute_result"
    }
   ],
   "source": [
    "l1"
   ]
  },
  {
   "cell_type": "code",
   "execution_count": 90,
   "id": "f878a274-2af2-47f8-ba7c-84e2f9fff6ea",
   "metadata": {},
   "outputs": [
    {
     "ename": "TypeError",
     "evalue": "'<' not supported between instances of 'str' and 'int'",
     "output_type": "error",
     "traceback": [
      "\u001b[0;31m---------------------------------------------------------------------------\u001b[0m",
      "\u001b[0;31mTypeError\u001b[0m                                 Traceback (most recent call last)",
      "Cell \u001b[0;32mIn[90], line 1\u001b[0m\n\u001b[0;32m----> 1\u001b[0m \u001b[43ml1\u001b[49m\u001b[38;5;241;43m.\u001b[39;49m\u001b[43msort\u001b[49m\u001b[43m(\u001b[49m\u001b[43m)\u001b[49m\n",
      "\u001b[0;31mTypeError\u001b[0m: '<' not supported between instances of 'str' and 'int'"
     ]
    }
   ],
   "source": [
    "l1.sort()"
   ]
  },
  {
   "cell_type": "code",
   "execution_count": 94,
   "id": "3e4814d5-ea6b-49ce-8eb1-b9eb18e3f063",
   "metadata": {},
   "outputs": [],
   "source": [
    "l2 = [45,3,4,23,5,6,0,7,90,8,9]"
   ]
  },
  {
   "cell_type": "code",
   "execution_count": 95,
   "id": "eb2e8818-9d4d-4579-96f5-cbb440ab0a63",
   "metadata": {},
   "outputs": [],
   "source": [
    "l2.sort()"
   ]
  },
  {
   "cell_type": "code",
   "execution_count": 96,
   "id": "b321a074-2c38-416b-b32d-c84c6b1d8336",
   "metadata": {},
   "outputs": [
    {
     "data": {
      "text/plain": [
       "[0, 3, 4, 5, 6, 7, 8, 9, 23, 45, 90]"
      ]
     },
     "execution_count": 96,
     "metadata": {},
     "output_type": "execute_result"
    }
   ],
   "source": [
    "l2"
   ]
  },
  {
   "cell_type": "code",
   "execution_count": 97,
   "id": "b49b045f-e76a-4b44-bd44-540e3bfc7db3",
   "metadata": {},
   "outputs": [
    {
     "data": {
      "text/plain": [
       "[0, 3, 4, 5, 6, 7, 8, 9, 23, 45, 90]"
      ]
     },
     "execution_count": 97,
     "metadata": {},
     "output_type": "execute_result"
    }
   ],
   "source": [
    "l2   #permanently soorted"
   ]
  },
  {
   "cell_type": "code",
   "execution_count": 98,
   "id": "bca0c8f9-cecc-401e-81d7-a93423edf7c1",
   "metadata": {},
   "outputs": [],
   "source": [
    "l3 = [33,\"subh\",45,12,\"kumar\"]"
   ]
  },
  {
   "cell_type": "code",
   "execution_count": 99,
   "id": "05842179-fa3e-4e78-b21c-a975bcc3e54e",
   "metadata": {},
   "outputs": [
    {
     "ename": "TypeError",
     "evalue": "'<' not supported between instances of 'str' and 'int'",
     "output_type": "error",
     "traceback": [
      "\u001b[0;31m---------------------------------------------------------------------------\u001b[0m",
      "\u001b[0;31mTypeError\u001b[0m                                 Traceback (most recent call last)",
      "Cell \u001b[0;32mIn[99], line 1\u001b[0m\n\u001b[0;32m----> 1\u001b[0m \u001b[43ml3\u001b[49m\u001b[38;5;241;43m.\u001b[39;49m\u001b[43msort\u001b[49m\u001b[43m(\u001b[49m\u001b[43m)\u001b[49m\n",
      "\u001b[0;31mTypeError\u001b[0m: '<' not supported between instances of 'str' and 'int'"
     ]
    }
   ],
   "source": [
    "l3.sort()  #string and intereger can't be sorted"
   ]
  },
  {
   "cell_type": "code",
   "execution_count": 100,
   "id": "a1c34cf0-e3bd-4da1-b143-bf454bf17f4d",
   "metadata": {},
   "outputs": [],
   "source": [
    "l4 = [\"subrat\",\"jena\",'pwskills','data science']"
   ]
  },
  {
   "cell_type": "code",
   "execution_count": 101,
   "id": "60650166-722a-4ef9-bb84-3784019a8246",
   "metadata": {},
   "outputs": [],
   "source": [
    "l4.sort()"
   ]
  },
  {
   "cell_type": "code",
   "execution_count": 102,
   "id": "891d5528-f0f3-439e-b002-703f8b0764f9",
   "metadata": {},
   "outputs": [
    {
     "data": {
      "text/plain": [
       "['data science', 'jena', 'pwskills', 'subrat']"
      ]
     },
     "execution_count": 102,
     "metadata": {},
     "output_type": "execute_result"
    }
   ],
   "source": [
    "l4  #asending alphabitical order it sorted"
   ]
  },
  {
   "cell_type": "code",
   "execution_count": 103,
   "id": "c961bd7b-8d40-421e-a798-1b1e2cf6d536",
   "metadata": {},
   "outputs": [],
   "source": [
    "l4.sort(reverse = True)  #descending order "
   ]
  },
  {
   "cell_type": "code",
   "execution_count": 104,
   "id": "2883b509-45f1-4ad4-8ed9-92f8d906f9f5",
   "metadata": {},
   "outputs": [
    {
     "data": {
      "text/plain": [
       "['subrat', 'pwskills', 'jena', 'data science']"
      ]
     },
     "execution_count": 104,
     "metadata": {},
     "output_type": "execute_result"
    }
   ],
   "source": [
    "l4"
   ]
  },
  {
   "cell_type": "code",
   "execution_count": 106,
   "id": "63d64f87-d9ce-41d2-af4c-67305fe4b2eb",
   "metadata": {},
   "outputs": [
    {
     "data": {
      "text/plain": [
       "0"
      ]
     },
     "execution_count": 106,
     "metadata": {},
     "output_type": "execute_result"
    }
   ],
   "source": [
    "l4.index('subrat')  # shows the index value for a letter"
   ]
  },
  {
   "cell_type": "code",
   "execution_count": 107,
   "id": "437f04a7-c380-46c6-b6a6-d8495c8d90a4",
   "metadata": {},
   "outputs": [
    {
     "data": {
      "text/plain": [
       "1"
      ]
     },
     "execution_count": 107,
     "metadata": {},
     "output_type": "execute_result"
    }
   ],
   "source": [
    "l4.count('subrat') #shows the occurance value in a list "
   ]
  },
  {
   "cell_type": "code",
   "execution_count": 108,
   "id": "4315a2c0-cb03-4de2-8a3a-c25e51f5cf7e",
   "metadata": {},
   "outputs": [],
   "source": [
    "s = 'Subrat'"
   ]
  },
  {
   "cell_type": "code",
   "execution_count": 109,
   "id": "46d1d2f6-4dcb-4ba9-b03a-2986d0034472",
   "metadata": {},
   "outputs": [
    {
     "data": {
      "text/plain": [
       "'Subrat'"
      ]
     },
     "execution_count": 109,
     "metadata": {},
     "output_type": "execute_result"
    }
   ],
   "source": [
    "s"
   ]
  },
  {
   "cell_type": "code",
   "execution_count": 110,
   "id": "ef715c2f-55fe-45c1-90e4-d5799c2ac745",
   "metadata": {},
   "outputs": [],
   "source": [
    "l5 = [3,4,5,6]"
   ]
  },
  {
   "cell_type": "code",
   "execution_count": 112,
   "id": "e847924f-c97e-4579-aeee-f4d0671964ee",
   "metadata": {},
   "outputs": [
    {
     "ename": "TypeError",
     "evalue": "'str' object does not support item assignment",
     "output_type": "error",
     "traceback": [
      "\u001b[0;31m---------------------------------------------------------------------------\u001b[0m",
      "\u001b[0;31mTypeError\u001b[0m                                 Traceback (most recent call last)",
      "Cell \u001b[0;32mIn[112], line 1\u001b[0m\n\u001b[0;32m----> 1\u001b[0m \u001b[43ms\u001b[49m\u001b[43m[\u001b[49m\u001b[38;5;241;43m0\u001b[39;49m\u001b[43m]\u001b[49m \u001b[38;5;241m=\u001b[39m \u001b[38;5;124m'\u001b[39m\u001b[38;5;124ma\u001b[39m\u001b[38;5;124m'\u001b[39m\n",
      "\u001b[0;31mTypeError\u001b[0m: 'str' object does not support item assignment"
     ]
    }
   ],
   "source": [
    "s[0] = 'a'   # immutable "
   ]
  },
  {
   "cell_type": "code",
   "execution_count": 113,
   "id": "e88c27c4-16b9-45df-9086-b540a324110d",
   "metadata": {},
   "outputs": [],
   "source": [
    "l5[0] = 30"
   ]
  },
  {
   "cell_type": "code",
   "execution_count": 114,
   "id": "7633758c-c39e-4f99-897d-7a0c307719b4",
   "metadata": {},
   "outputs": [
    {
     "data": {
      "text/plain": [
       "[30, 4, 5, 6]"
      ]
     },
     "execution_count": 114,
     "metadata": {},
     "output_type": "execute_result"
    }
   ],
   "source": [
    "l5"
   ]
  },
  {
   "cell_type": "code",
   "execution_count": 115,
   "id": "50c889fd-5397-4a0d-b344-194ee52f50c9",
   "metadata": {},
   "outputs": [
    {
     "data": {
      "text/plain": [
       "'Subrat'"
      ]
     },
     "execution_count": 115,
     "metadata": {},
     "output_type": "execute_result"
    }
   ],
   "source": [
    "s"
   ]
  },
  {
   "cell_type": "code",
   "execution_count": 116,
   "id": "2c39230d-8447-48ba-9d4c-495e2c27fe80",
   "metadata": {},
   "outputs": [
    {
     "data": {
      "text/plain": [
       "'aubrat'"
      ]
     },
     "execution_count": 116,
     "metadata": {},
     "output_type": "execute_result"
    }
   ],
   "source": [
    "s.replace('S','a')"
   ]
  },
  {
   "cell_type": "code",
   "execution_count": 117,
   "id": "8cf575b2-aaa9-46f6-840d-bb90aee3e434",
   "metadata": {},
   "outputs": [
    {
     "data": {
      "text/plain": [
       "'Subrat'"
      ]
     },
     "execution_count": 117,
     "metadata": {},
     "output_type": "execute_result"
    }
   ],
   "source": [
    "s"
   ]
  },
  {
   "cell_type": "code",
   "execution_count": 118,
   "id": "aa4e246e-b5c4-41b2-ac8e-14067140777a",
   "metadata": {},
   "outputs": [],
   "source": [
    "#Tuples"
   ]
  },
  {
   "cell_type": "code",
   "execution_count": 119,
   "id": "5947b649-84d0-430c-b991-588d61cbce4b",
   "metadata": {},
   "outputs": [],
   "source": [
    "t= (2,3,4,5,\"subra\",345.56,True,(5+6j),[3,4,5])  #it is similar to list wghich holds data with a collection "
   ]
  },
  {
   "cell_type": "code",
   "execution_count": 120,
   "id": "dc4c12a2-9e89-4380-bff6-c0aa0ab9e93d",
   "metadata": {},
   "outputs": [
    {
     "data": {
      "text/plain": [
       "(2, 3, 4, 5, 'subra', 345.56, True, (5+6j), [3, 4, 5])"
      ]
     },
     "execution_count": 120,
     "metadata": {},
     "output_type": "execute_result"
    }
   ],
   "source": [
    "t"
   ]
  },
  {
   "cell_type": "code",
   "execution_count": 121,
   "id": "632c7a7e-2679-4bca-88f2-2469db98f98c",
   "metadata": {},
   "outputs": [
    {
     "data": {
      "text/plain": [
       "tuple"
      ]
     },
     "execution_count": 121,
     "metadata": {},
     "output_type": "execute_result"
    }
   ],
   "source": [
    "type(t)"
   ]
  },
  {
   "cell_type": "code",
   "execution_count": 122,
   "id": "f461ccaf-4b79-4236-bc35-a2eaeeb5ea9a",
   "metadata": {},
   "outputs": [
    {
     "data": {
      "text/plain": [
       "9"
      ]
     },
     "execution_count": 122,
     "metadata": {},
     "output_type": "execute_result"
    }
   ],
   "source": [
    "len(t)"
   ]
  },
  {
   "cell_type": "code",
   "execution_count": 124,
   "id": "ddac5513-4bb6-442a-9605-d071d09426c8",
   "metadata": {},
   "outputs": [
    {
     "data": {
      "text/plain": [
       "2"
      ]
     },
     "execution_count": 124,
     "metadata": {},
     "output_type": "execute_result"
    }
   ],
   "source": [
    "t[0]"
   ]
  },
  {
   "cell_type": "code",
   "execution_count": 125,
   "id": "735764f2-11fe-4063-8a3d-63a77807e10c",
   "metadata": {},
   "outputs": [
    {
     "data": {
      "text/plain": [
       "[3, 4, 5]"
      ]
     },
     "execution_count": 125,
     "metadata": {},
     "output_type": "execute_result"
    }
   ],
   "source": [
    "t[-1]"
   ]
  },
  {
   "cell_type": "code",
   "execution_count": 126,
   "id": "7106880f-3bb9-46a6-b9c6-33dbad6f379e",
   "metadata": {},
   "outputs": [
    {
     "data": {
      "text/plain": [
       "([3, 4, 5], (5+6j), True, 345.56, 'subra', 5, 4, 3, 2)"
      ]
     },
     "execution_count": 126,
     "metadata": {},
     "output_type": "execute_result"
    }
   ],
   "source": [
    "t[::-1]"
   ]
  },
  {
   "cell_type": "code",
   "execution_count": 129,
   "id": "cb936195-8cda-42d4-a64c-e603d2e1bf39",
   "metadata": {},
   "outputs": [
    {
     "data": {
      "text/plain": [
       "1"
      ]
     },
     "execution_count": 129,
     "metadata": {},
     "output_type": "execute_result"
    }
   ],
   "source": [
    "t.count('subra')"
   ]
  },
  {
   "cell_type": "code",
   "execution_count": 130,
   "id": "6c7583e5-fca5-48c4-b858-de84b941d73c",
   "metadata": {},
   "outputs": [
    {
     "data": {
      "text/plain": [
       "6"
      ]
     },
     "execution_count": 130,
     "metadata": {},
     "output_type": "execute_result"
    }
   ],
   "source": [
    "t.index(True)"
   ]
  },
  {
   "cell_type": "code",
   "execution_count": 131,
   "id": "68dee580-ca89-443b-8dc6-c1b8d3f5ae64",
   "metadata": {},
   "outputs": [],
   "source": [
    "# Set s1"
   ]
  },
  {
   "cell_type": "code",
   "execution_count": 132,
   "id": "c02b90ed-4a90-4f31-bcba-888c78f8a9da",
   "metadata": {},
   "outputs": [],
   "source": [
    "s1 = {}  # black is considered as dictinonary  other wise below is considered a seat"
   ]
  },
  {
   "cell_type": "code",
   "execution_count": 133,
   "id": "f2021db3-93ec-469a-ab4d-a9d0e75ef00b",
   "metadata": {},
   "outputs": [
    {
     "data": {
      "text/plain": [
       "{}"
      ]
     },
     "execution_count": 133,
     "metadata": {},
     "output_type": "execute_result"
    }
   ],
   "source": [
    "s1"
   ]
  },
  {
   "cell_type": "code",
   "execution_count": 134,
   "id": "48d34a9a-a009-42cc-9791-0e6b1794c5e0",
   "metadata": {},
   "outputs": [
    {
     "data": {
      "text/plain": [
       "dict"
      ]
     },
     "execution_count": 134,
     "metadata": {},
     "output_type": "execute_result"
    }
   ],
   "source": [
    "type(s1)"
   ]
  },
  {
   "cell_type": "code",
   "execution_count": 135,
   "id": "f8b3e435-e072-48c0-a272-e61429f8b864",
   "metadata": {},
   "outputs": [],
   "source": [
    "s2 = {2,3,4,55,6}"
   ]
  },
  {
   "cell_type": "code",
   "execution_count": 137,
   "id": "29d7c389-f1d1-4003-bff0-99f6c48e6fea",
   "metadata": {},
   "outputs": [
    {
     "data": {
      "text/plain": [
       "set"
      ]
     },
     "execution_count": 137,
     "metadata": {},
     "output_type": "execute_result"
    }
   ],
   "source": [
    "type(s2)"
   ]
  },
  {
   "cell_type": "code",
   "execution_count": 141,
   "id": "eaeb76f9-635a-42c7-8175-1f04e48eae07",
   "metadata": {},
   "outputs": [],
   "source": [
    "s4 = {2,3,4,5,4,3,22,2,3,3,3,3,3,33,2,2,2,2,2,2,2,2,2,2,2,9,8,7,7,6,6,4,5}  # returns only unique data\n"
   ]
  },
  {
   "cell_type": "code",
   "execution_count": 142,
   "id": "2102eb83-8a8a-49ab-9052-cd2aa6c8bb70",
   "metadata": {},
   "outputs": [
    {
     "data": {
      "text/plain": [
       "{2, 3, 4, 5, 6, 7, 8, 9, 22, 33}"
      ]
     },
     "execution_count": 142,
     "metadata": {},
     "output_type": "execute_result"
    }
   ],
   "source": [
    "s4  # heree when we place duplicate datas into a set variable then we can remove duplicates"
   ]
  },
  {
   "cell_type": "code",
   "execution_count": 145,
   "id": "129eafb8-f3c2-427e-a83f-1ca477f54310",
   "metadata": {},
   "outputs": [],
   "source": [
    "s4 = {2,3,4,5,4,3,22,2,3,3,3,3,3,33,2,2,2,2,2,2,2,2,2,2,2,9,8,7,7,6,6,4,5,'sudh','Sudh'} "
   ]
  },
  {
   "cell_type": "code",
   "execution_count": 144,
   "id": "85367bee-c55b-46d1-8b3f-2d3385aa0335",
   "metadata": {},
   "outputs": [
    {
     "data": {
      "text/plain": [
       "{2, 22, 3, 33, 4, 5, 6, 7, 8, 9, 'Sudh', 'sudh'}"
      ]
     },
     "execution_count": 144,
     "metadata": {},
     "output_type": "execute_result"
    }
   ],
   "source": [
    "s4"
   ]
  },
  {
   "cell_type": "code",
   "execution_count": 146,
   "id": "8f833c72-5215-47b4-b99c-6aec78166510",
   "metadata": {},
   "outputs": [],
   "source": [
    "s4 = {2,3,4,5,4,3,22,2,3,3,3,3,3,33,2,2,2,2,2,2,2,2,2,2,2,9,8,7,7,6,6,4,5,'Sudh','Sudh'} "
   ]
  },
  {
   "cell_type": "code",
   "execution_count": 147,
   "id": "d3ab287e-19b0-4a2e-aeb4-87905ddfa7b7",
   "metadata": {},
   "outputs": [
    {
     "data": {
      "text/plain": [
       "{2, 22, 3, 33, 4, 5, 6, 7, 8, 9, 'Sudh'}"
      ]
     },
     "execution_count": 147,
     "metadata": {},
     "output_type": "execute_result"
    }
   ],
   "source": [
    "s4\n"
   ]
  },
  {
   "cell_type": "code",
   "execution_count": 148,
   "id": "6be83440-d91e-4385-ae93-1b3be4af535c",
   "metadata": {},
   "outputs": [],
   "source": [
    "# suppose l6 has all data with duplicates\n",
    "l6 =  {2,3,4,5,4,3,22,2,3,3,3,3,3,33,2,2,2,2,2,2,2,2,2,2,2,9,8,7,7,6,6,4,5,'Sudh','Sudh'} "
   ]
  },
  {
   "cell_type": "code",
   "execution_count": 149,
   "id": "a0804bfd-47bc-4d0b-a65f-e6b83691cebc",
   "metadata": {},
   "outputs": [
    {
     "data": {
      "text/plain": [
       "{2, 22, 3, 33, 4, 5, 6, 7, 8, 9, 'Sudh'}"
      ]
     },
     "execution_count": 149,
     "metadata": {},
     "output_type": "execute_result"
    }
   ],
   "source": [
    "set(l6)"
   ]
  },
  {
   "cell_type": "code",
   "execution_count": 150,
   "id": "a4ce80b9-5e58-4c05-9a50-dc99c8b44e12",
   "metadata": {},
   "outputs": [],
   "source": [
    "l6 = list[set(l6)]"
   ]
  },
  {
   "cell_type": "code",
   "execution_count": 151,
   "id": "56d54f3c-0e70-40bc-ade5-944b56303b70",
   "metadata": {},
   "outputs": [
    {
     "data": {
      "text/plain": [
       "list[{33, 2, 3, 4, 5, 6, 7, 8, 9, 22, 'Sudh'}]"
      ]
     },
     "execution_count": 151,
     "metadata": {},
     "output_type": "execute_result"
    }
   ],
   "source": [
    "l6"
   ]
  },
  {
   "cell_type": "code",
   "execution_count": 152,
   "id": "0519c10d-8f09-47ad-b578-a86c7ff69fa8",
   "metadata": {},
   "outputs": [],
   "source": [
    "#set never arrange data in an order and cretae unordered colletion of data \n",
    "#index and slicing doesn;'t work under set "
   ]
  },
  {
   "cell_type": "code",
   "execution_count": 155,
   "id": "58f519c8-68cb-45eb-9212-b875c8a36277",
   "metadata": {},
   "outputs": [],
   "source": [
    "s5 = {234,345,57,6,4,7,6,6,6,4,786,567,54,342,45,45,45,\"subrat\"}"
   ]
  },
  {
   "cell_type": "code",
   "execution_count": 156,
   "id": "4f5d815d-93de-4ee0-a1c2-22f1dfd50fb8",
   "metadata": {},
   "outputs": [
    {
     "data": {
      "text/plain": [
       "{234, 342, 345, 4, 45, 54, 567, 57, 6, 7, 786, 'subrat'}"
      ]
     },
     "execution_count": 156,
     "metadata": {},
     "output_type": "execute_result"
    }
   ],
   "source": [
    "s5"
   ]
  },
  {
   "cell_type": "code",
   "execution_count": 162,
   "id": "6af2efcd-9ec4-4a13-9dc3-aaef050b81c1",
   "metadata": {},
   "outputs": [],
   "source": [
    "s5.add(4)"
   ]
  },
  {
   "cell_type": "code",
   "execution_count": 164,
   "id": "d599e084-adac-422e-af92-6921dab3ec23",
   "metadata": {},
   "outputs": [
    {
     "data": {
      "text/plain": [
       "{2, 234, 342, 345, 4, 45, 54, 567, 57, 6, 7, 786, 'subrat'}"
      ]
     },
     "execution_count": 164,
     "metadata": {},
     "output_type": "execute_result"
    }
   ],
   "source": [
    "s5"
   ]
  },
  {
   "cell_type": "code",
   "execution_count": 165,
   "id": "a776fd5c-7607-4be5-970a-5584900e000e",
   "metadata": {},
   "outputs": [],
   "source": [
    "s5.add(2)"
   ]
  },
  {
   "cell_type": "code",
   "execution_count": 166,
   "id": "1cef493b-bc46-4150-aaa2-826f595c38b1",
   "metadata": {},
   "outputs": [
    {
     "data": {
      "text/plain": [
       "{2, 234, 342, 345, 4, 45, 54, 567, 57, 6, 7, 786, 'subrat'}"
      ]
     },
     "execution_count": 166,
     "metadata": {},
     "output_type": "execute_result"
    }
   ],
   "source": [
    "s5"
   ]
  },
  {
   "cell_type": "code",
   "execution_count": 167,
   "id": "59d58600-b6f9-4230-ba4b-abbcd0ff7f54",
   "metadata": {},
   "outputs": [
    {
     "ename": "TypeError",
     "evalue": "'set' object is not subscriptable",
     "output_type": "error",
     "traceback": [
      "\u001b[0;31m---------------------------------------------------------------------------\u001b[0m",
      "\u001b[0;31mTypeError\u001b[0m                                 Traceback (most recent call last)",
      "Cell \u001b[0;32mIn[167], line 1\u001b[0m\n\u001b[0;32m----> 1\u001b[0m \u001b[43ms5\u001b[49m\u001b[43m[\u001b[49m\u001b[38;5;241;43m0\u001b[39;49m\u001b[43m]\u001b[49m\n",
      "\u001b[0;31mTypeError\u001b[0m: 'set' object is not subscriptable"
     ]
    }
   ],
   "source": [
    "s5[0]  # doesn't have indexing maintains hashing "
   ]
  },
  {
   "cell_type": "code",
   "execution_count": 168,
   "id": "f4a2b411-fda1-449f-a929-604cbee9d785",
   "metadata": {},
   "outputs": [],
   "source": [
    "s5.remove(4)"
   ]
  },
  {
   "cell_type": "code",
   "execution_count": 169,
   "id": "037fd993-bb71-4a20-be0b-6e2fc08dc3f0",
   "metadata": {},
   "outputs": [
    {
     "data": {
      "text/plain": [
       "{2, 234, 342, 345, 45, 54, 567, 57, 6, 7, 786, 'subrat'}"
      ]
     },
     "execution_count": 169,
     "metadata": {},
     "output_type": "execute_result"
    }
   ],
   "source": [
    "s5"
   ]
  },
  {
   "cell_type": "code",
   "execution_count": null,
   "id": "fde05b01-a5cb-4187-af55-3aa0d614e48e",
   "metadata": {},
   "outputs": [],
   "source": []
  }
 ],
 "metadata": {
  "kernelspec": {
   "display_name": "Python 3 (ipykernel)",
   "language": "python",
   "name": "python3"
  },
  "language_info": {
   "codemirror_mode": {
    "name": "ipython",
    "version": 3
   },
   "file_extension": ".py",
   "mimetype": "text/x-python",
   "name": "python",
   "nbconvert_exporter": "python",
   "pygments_lexer": "ipython3",
   "version": "3.10.8"
  }
 },
 "nbformat": 4,
 "nbformat_minor": 5
}
