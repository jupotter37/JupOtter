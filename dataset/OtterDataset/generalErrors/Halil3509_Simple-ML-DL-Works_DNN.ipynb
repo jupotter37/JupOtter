{
 "cells": [
  {
   "cell_type": "markdown",
   "id": "0dcb0343",
   "metadata": {},
   "source": [
    "# DNN "
   ]
  },
  {
   "cell_type": "code",
   "execution_count": 11,
   "id": "3631ea2c",
   "metadata": {},
   "outputs": [],
   "source": [
    "import numpy as np\n",
    "import pandas as pd\n",
    "import matplotlib.pyplot as plt\n",
    "import seaborn as sns\n",
    "import random "
   ]
  },
  {
   "cell_type": "code",
   "execution_count": 5,
   "id": "5e52bc40",
   "metadata": {},
   "outputs": [],
   "source": [
    "def sigmoid(z):\n",
    "    \"\"\"\n",
    "    Return data that pull out from sigmoid\n",
    "    \n",
    "    :param z => data that result of w*x + b    \n",
    "    \"\"\"\n",
    "    a = 1/(1+ np.exp(-z))\n",
    "    return a\n",
    "    "
   ]
  },
  {
   "cell_type": "code",
   "execution_count": 6,
   "id": "2718340d",
   "metadata": {},
   "outputs": [],
   "source": [
    "def ReLU(z):\n",
    "    \"\"\"\n",
    "    Return data that pull out from ReLU\n",
    "    \n",
    "    :param z => data that result of w*x + b\n",
    "    \"\"\"\n",
    "    #list that will pull out ReLu function\n",
    "    a = np.max(0,z)\n",
    "    \n",
    "    return a"
   ]
  },
  {
   "cell_type": "code",
   "execution_count": 7,
   "id": "684506cb",
   "metadata": {},
   "outputs": [],
   "source": [
    "def linear(z):\n",
    "    \"\"\"\n",
    "    Return data that pull out from linear function\n",
    "    \n",
    "    :param z => data that result of w*x + b\n",
    "    \"\"\"\n",
    "    return z"
   ]
  },
  {
   "cell_type": "code",
   "execution_count": 8,
   "id": "b8135b07",
   "metadata": {},
   "outputs": [],
   "source": [
    "def Dense(data,w,b,activation_function):\n",
    "    \"\"\"\n",
    "    Calculate outputs acorrding to activation function\n",
    "    \n",
    "    :param  data = data that will fit\n",
    "    :param activation_function  => which activation function? answer of that question\n",
    "    :param w => w is/are coffient \n",
    "    :param b => b is/are intercept\n",
    "    \n",
    "    return => data this mean prediction that pulled out from activation function\n",
    "    \"\"\"\n",
    "    \n",
    "    if not isinstance(activation_function, str):\n",
    "        raise TypeError(\"Activation Function parameter must be String Format\")\n",
    "    \n",
    "    try:\n",
    "        z = np.matmul(data,w) + b\n",
    "        if activation_function == 'sigmoid':\n",
    "            a = sigmoid(z)\n",
    "        elif activation_function == 'linear':\n",
    "            a = linear(z)\n",
    "        elif activation_function == 'ReLU':\n",
    "            a = ReLU(z)\n",
    "        else:\n",
    "            raise SyntaxError(\"Please you check the activation_function parameter\")\n",
    "        \n",
    "        return a\n",
    "    except Exception as err:\n",
    "        raise Exception(\"Fault:\", err)"
   ]
  },
  {
   "cell_type": "code",
   "execution_count": 23,
   "id": "ac271c92",
   "metadata": {},
   "outputs": [],
   "source": [
    "def creating_parameters(number_parameter):\n",
    "    num_dimension = np.arange(1,6)\n",
    "    W = np.zeros(number_parameter)\n",
    "    B = np.zeros(number_parameter)\n",
    "    for i in num_dimension:\n",
    "        W['w'+str(i)] = i + random.randint(1,5) * 0.0001\n",
    "        B['b'+str(i)] = i + random_randint(1,10)\n",
    "    return W,B"
   ]
  },
  {
   "cell_type": "code",
   "execution_count": 24,
   "id": "da9332c0",
   "metadata": {},
   "outputs": [
    {
     "ename": "IndexError",
     "evalue": "only integers, slices (`:`), ellipsis (`...`), numpy.newaxis (`None`) and integer or boolean arrays are valid indices",
     "output_type": "error",
     "traceback": [
      "\u001b[1;31m---------------------------------------------------------------------------\u001b[0m",
      "\u001b[1;31mIndexError\u001b[0m                                Traceback (most recent call last)",
      "Input \u001b[1;32mIn [24]\u001b[0m, in \u001b[0;36m<cell line: 1>\u001b[1;34m()\u001b[0m\n\u001b[1;32m----> 1\u001b[0m \u001b[43mcreating_parameters\u001b[49m\u001b[43m(\u001b[49m\u001b[38;5;241;43m5\u001b[39;49m\u001b[43m)\u001b[49m\n",
      "Input \u001b[1;32mIn [23]\u001b[0m, in \u001b[0;36mcreating_parameters\u001b[1;34m(number_parameter)\u001b[0m\n\u001b[0;32m      4\u001b[0m B \u001b[38;5;241m=\u001b[39m np\u001b[38;5;241m.\u001b[39mzeros(number_parameter)\n\u001b[0;32m      5\u001b[0m \u001b[38;5;28;01mfor\u001b[39;00m i \u001b[38;5;129;01min\u001b[39;00m num_dimension:\n\u001b[1;32m----> 6\u001b[0m     W[\u001b[38;5;124m'\u001b[39m\u001b[38;5;124mw\u001b[39m\u001b[38;5;124m'\u001b[39m\u001b[38;5;241m+\u001b[39m\u001b[38;5;28mstr\u001b[39m(i)] \u001b[38;5;241m=\u001b[39m i \u001b[38;5;241m+\u001b[39m random\u001b[38;5;241m.\u001b[39mrandint(\u001b[38;5;241m1\u001b[39m,\u001b[38;5;241m5\u001b[39m) \u001b[38;5;241m*\u001b[39m \u001b[38;5;241m0.0001\u001b[39m\n\u001b[0;32m      7\u001b[0m     B[\u001b[38;5;124m'\u001b[39m\u001b[38;5;124mb\u001b[39m\u001b[38;5;124m'\u001b[39m\u001b[38;5;241m+\u001b[39m\u001b[38;5;28mstr\u001b[39m(i)] \u001b[38;5;241m=\u001b[39m i \u001b[38;5;241m+\u001b[39m random_randint(\u001b[38;5;241m1\u001b[39m,\u001b[38;5;241m10\u001b[39m)\n\u001b[0;32m      8\u001b[0m \u001b[38;5;28;01mreturn\u001b[39;00m W,B\n",
      "\u001b[1;31mIndexError\u001b[0m: only integers, slices (`:`), ellipsis (`...`), numpy.newaxis (`None`) and integer or boolean arrays are valid indices"
     ]
    }
   ],
   "source": [
    "creating_parameters(5)"
   ]
  },
  {
   "cell_type": "code",
   "execution_count": 15,
   "id": "d5bfa677",
   "metadata": {},
   "outputs": [],
   "source": [
    "def Sequential_3(x,cofficents, intercepts):\n",
    "    \"\"\"\n",
    "    creating Sequential\n",
    "    \n",
    "    :param x = data\n",
    "    :params w1,w2,w3 = cofficents\n",
    "    :params: b1,b2,b3 = intercepts\n",
    "    \n",
    "    return = output of output layer\n",
    "    \"\"\"\n",
    "    \n",
    "    a1 = Dense(data = x, w = w1, b= b1, activation_function='sigmoid')\n",
    "    a2 = Dense(data = x, w = w2, b= b2, activation_function='sigmoid')\n",
    "    a3 = Dense(data = x, w = w3, b= b3, activation_function='sigmoid')"
   ]
  },
  {
   "cell_type": "code",
   "execution_count": null,
   "id": "612cc9d6",
   "metadata": {},
   "outputs": [],
   "source": []
  }
 ],
 "metadata": {
  "kernelspec": {
   "display_name": "Python 3 (ipykernel)",
   "language": "python",
   "name": "python3"
  },
  "language_info": {
   "codemirror_mode": {
    "name": "ipython",
    "version": 3
   },
   "file_extension": ".py",
   "mimetype": "text/x-python",
   "name": "python",
   "nbconvert_exporter": "python",
   "pygments_lexer": "ipython3",
   "version": "3.10.5"
  }
 },
 "nbformat": 4,
 "nbformat_minor": 5
}
