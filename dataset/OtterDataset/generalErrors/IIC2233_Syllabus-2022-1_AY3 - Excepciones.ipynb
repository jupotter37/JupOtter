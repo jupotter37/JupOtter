{
 "cells": [
  {
   "cell_type": "markdown",
   "metadata": {
    "slideshow": {
     "slide_type": "slide"
    }
   },
   "source": [
    "# Ayudantía 03: Excepciones\n",
    "\n",
    "\n",
    "### Autores: [@camilagonzalezp](https://github.com/camilagonzalezp), [@csantiagopaz](https://github.com/csantiagopaz) & [@v4rgas](https://github.com/v4rgas)"
   ]
  },
  {
   "cell_type": "markdown",
   "metadata": {
    "slideshow": {
     "slide_type": "slide"
    }
   },
   "source": [
    "## ¿Qué son las excepciones?\n",
    "Las **excepciones** son condiciones anómalas o inesperadas que ocurren durante un proceso de cómputo."
   ]
  },
  {
   "cell_type": "markdown",
   "metadata": {
    "slideshow": {
     "slide_type": "slide"
    }
   },
   "source": [
    "## ¿Cuándo se generan las excepciones?\n",
    "Los sistemas computacionales suelen generar **excepciones** cuando ocurre una condición que altera el flujo normal o esperado de un programa.\n",
    "\n",
    "Las **excepciones** se representan como objetos de la clase `Exception`, y como Python es un lenguaje interpretado, estas se crean al momento de ejecutar una instrucción incorrecta, por lo que se conocen como excepciones en tiempo de ejecución (`RuntimeException`)."
   ]
  },
  {
   "cell_type": "markdown",
   "metadata": {
    "slideshow": {
     "slide_type": "slide"
    }
   },
   "source": [
    "## Tipos de excepciones más comunes\n",
    "Clases de excepciones que heredan de `Exception`."
   ]
  },
  {
   "cell_type": "markdown",
   "metadata": {
    "slideshow": {
     "slide_type": "subslide"
    }
   },
   "source": [
    "### `SyntaxError`\n",
    "Se genera cuando la escritura de una sentencia del código viola las reglas sintácticas."
   ]
  },
  {
   "cell_type": "code",
   "execution_count": null,
   "metadata": {
    "slideshow": {
     "slide_type": "fragment"
    }
   },
   "outputs": [],
   "source": [
    "iff True:\n",
    "    print(\"Hello World\")"
   ]
  },
  {
   "cell_type": "markdown",
   "metadata": {
    "slideshow": {
     "slide_type": "subslide"
    }
   },
   "source": [
    "### `NameError`\n",
    "Se genera cuando se intenta utilizar una variable, función o clase con algún nombre que es desconocido para el programa."
   ]
  },
  {
   "cell_type": "code",
   "execution_count": null,
   "metadata": {
    "slideshow": {
     "slide_type": "fragment"
    }
   },
   "outputs": [],
   "source": [
    "variable = mi_funcion(1)\n",
    "variable"
   ]
  },
  {
   "cell_type": "markdown",
   "metadata": {
    "slideshow": {
     "slide_type": "subslide"
    }
   },
   "source": [
    "### `IndexError`\n",
    "Se genera cuando existe una indexación fuera de rango, es decir, un cuando se intenta acceder a un índice no válido."
   ]
  },
  {
   "cell_type": "code",
   "execution_count": null,
   "metadata": {
    "slideshow": {
     "slide_type": "fragment"
    }
   },
   "outputs": [],
   "source": [
    "mi_lista = [\"a\", \"b\", \"c\"]\n",
    "mi_lista[3]"
   ]
  },
  {
   "cell_type": "markdown",
   "metadata": {
    "slideshow": {
     "slide_type": "subslide"
    }
   },
   "source": [
    "### `KeyError`\n",
    "Se genera cuando se hace uso incorrecto o inválido de llaves (keys) en diccionarios."
   ]
  },
  {
   "cell_type": "code",
   "execution_count": null,
   "metadata": {
    "slideshow": {
     "slide_type": "fragment"
    }
   },
   "outputs": [],
   "source": [
    "estudiante = {\"nombre\": \"Juanito Pérez\", \"edad\": 20, \"carrera\": \"Ingeniería\"}\n",
    "estudiante[\"numero_alumno\"]"
   ]
  },
  {
   "cell_type": "markdown",
   "metadata": {
    "slideshow": {
     "slide_type": "subslide"
    }
   },
   "source": [
    "### `AttributeError`\n",
    "Se genera cuando se hace uso incorrecto de métodos o atributos de una clase."
   ]
  },
  {
   "cell_type": "code",
   "execution_count": null,
   "metadata": {
    "slideshow": {
     "slide_type": "fragment"
    }
   },
   "outputs": [],
   "source": [
    "class Mascota:\n",
    "    def __init__(self, nombre, animal):\n",
    "        self.nombre = nombre\n",
    "        self.animal = animal\n",
    "\n",
    "    def alimentar(self):\n",
    "        print(f\"Alimentando a {self.nombre}\")\n",
    "\n",
    "mi_perrito = Mascota(\"Cachupín\", \"perro\")\n",
    "mi_perrito.pasear()"
   ]
  },
  {
   "cell_type": "markdown",
   "metadata": {
    "slideshow": {
     "slide_type": "subslide"
    }
   },
   "source": [
    "### `TypeError`\n",
    "Se genera cuando se intenta ejecutar una operación o función con un argumento que no pertenece al **tipo** correcto de datos."
   ]
  },
  {
   "cell_type": "code",
   "execution_count": null,
   "metadata": {
    "slideshow": {
     "slide_type": "fragment"
    }
   },
   "outputs": [],
   "source": [
    "print(len(28))"
   ]
  },
  {
   "cell_type": "markdown",
   "metadata": {
    "slideshow": {
     "slide_type": "subslide"
    }
   },
   "source": [
    "### `ValueError`\n",
    "Se genera cuando se intenta ejecutar una operación o función con un argumento cuyo **valor** no era apropiado para la ejecución esperada."
   ]
  },
  {
   "cell_type": "code",
   "execution_count": null,
   "metadata": {
    "slideshow": {
     "slide_type": "fragment"
    }
   },
   "outputs": [],
   "source": [
    "print(int(\"uno\"))"
   ]
  },
  {
   "cell_type": "markdown",
   "metadata": {
    "slideshow": {
     "slide_type": "slide"
    }
   },
   "source": [
    "## Levantando excepciones: `raise`"
   ]
  },
  {
   "cell_type": "markdown",
   "metadata": {
    "slideshow": {
     "slide_type": "fragment"
    }
   },
   "source": [
    "La gracia de `raise` es que permite levantar excepciones de acuerdo a condiciones que uno defina y que no necesariamente serían levantadas en otras circunstancias.\n",
    "\n",
    "Sintaxis: \n",
    "```python\n",
    "raise NombreExcepcion('Mensaje de error')\n",
    "```"
   ]
  },
  {
   "cell_type": "code",
   "execution_count": null,
   "metadata": {
    "slideshow": {
     "slide_type": "subslide"
    }
   },
   "outputs": [],
   "source": [
    "def dividir(numerador, denominador):\n",
    "    check = isinstance(numerador, int) and isinstance(denominador, int)\n",
    "    if not check:\n",
    "        raise TypeError('Ambos argumentos deben ser tipo int')\n",
    "    elif denominador == 0:\n",
    "        raise ZeroDivisionError('No se puede dividir por 0')\n",
    "    else:\n",
    "        return numerador / denominador"
   ]
  },
  {
   "cell_type": "code",
   "execution_count": null,
   "metadata": {
    "slideshow": {
     "slide_type": "fragment"
    }
   },
   "outputs": [],
   "source": [
    "resultado = dividir(1, 0)"
   ]
  },
  {
   "cell_type": "code",
   "execution_count": null,
   "metadata": {
    "slideshow": {
     "slide_type": "subslide"
    }
   },
   "outputs": [],
   "source": [
    "resultado = dividir(1, 'caracol')"
   ]
  },
  {
   "cell_type": "code",
   "execution_count": null,
   "metadata": {
    "slideshow": {
     "slide_type": "subslide"
    }
   },
   "outputs": [],
   "source": [
    "resultado = dividir(1, 3)\n",
    "print(resultado)"
   ]
  },
  {
   "cell_type": "markdown",
   "metadata": {
    "slideshow": {
     "slide_type": "slide"
    }
   },
   "source": [
    "## Manejo de excepciones: `try` y `except`"
   ]
  },
  {
   "cell_type": "markdown",
   "metadata": {
    "slideshow": {
     "slide_type": "fragment"
    }
   },
   "source": [
    "Las sentencias `try` y `except` nos permiten lidiar con los errores que pueden ocurrir en nuestro programa."
   ]
  },
  {
   "cell_type": "markdown",
   "metadata": {
    "slideshow": {
     "slide_type": "subslide"
    }
   },
   "source": [
    "- `try`: permite definir un bloque de código en el que vamos a **intentar** ejecutar ciertas instrucciones. Si se **levanta** una excepción dentro de este bloque entonces la excepción es **capturada**.\n",
    "- `except`: permite definir las instrucciones para manejar la excepción capturada.\n",
    "\n",
    "Sintaxis:\n",
    "```python\n",
    "try:\n",
    "    # Lineas de codigo\n",
    "except:\n",
    "    # Se ejecuta si se levanta una excepcion dentro de try\n",
    "```"
   ]
  },
  {
   "cell_type": "markdown",
   "metadata": {
    "slideshow": {
     "slide_type": "subslide"
    }
   },
   "source": [
    "### ¿Cómo funciona?\n",
    "\n",
    "1. Se ejecuta el código dentro de `try`.\n",
    "2. Si no se levanta una excepción, se termina de ejecutar este bloque y se sigue con las instrucciones definidas después del bloque `except`.\n",
    "3. Si se levanta una excepción, se dejan de ejecutar las instrucciones definidas en `try`y se comienzan a ejecutar las instrucciones del bloque `except`."
   ]
  },
  {
   "cell_type": "code",
   "execution_count": null,
   "metadata": {
    "slideshow": {
     "slide_type": "subslide"
    }
   },
   "outputs": [],
   "source": [
    "def dividir(numerador, denominador):\n",
    "    check = isinstance(numerador, int) and isinstance(denominador, int)\n",
    "    if not check:\n",
    "        raise TypeError('Ambos argumentos deben ser tipo int')\n",
    "    elif denominador == 0:\n",
    "        raise ZeroDivisionError('No se puede dividir por 0')\n",
    "    else:\n",
    "        return numerador / denominador\n",
    "\n",
    "try:\n",
    "    resultado = dividir(1, \"3\")\n",
    "except TypeError as error:\n",
    "    print(f\"Se levantó un TypeError: {error}\")\n",
    "except ZeroDivisionError as error:\n",
    "    print(f\"Se levantó un ZeroDivisionError: {error}\")"
   ]
  },
  {
   "cell_type": "markdown",
   "metadata": {
    "slideshow": {
     "slide_type": "slide"
    }
   },
   "source": [
    "## Flujos complementarios: `else` y `finally`"
   ]
  },
  {
   "cell_type": "markdown",
   "metadata": {
    "slideshow": {
     "slide_type": "subslide"
    }
   },
   "source": [
    "Los bloques `try` y `except` pueden ser complementados **opcionalmente** con estas sentencias:\n",
    "- `else`: Las instrucciones dentro de este bloque se ejecutarán siempre y cuando **NO** se haya levantado ninguna excepción.\n",
    "- `finally`: En este bloque van instrucciones que se realizarán **SIEMPRE**, independientemente de si ocurrió una excepción o no.\n",
    "\n",
    "Sintaxis:\n",
    "```python\n",
    "try:\n",
    "    # Lineas de codigo\n",
    "except:\n",
    "    # Se ejecuta si se levanta una excepcion dentro de try\n",
    "else:\n",
    "    # Se ejecuta si no se levanta una excepcion dentro de try\n",
    "finally:\n",
    "    # Se ejecuta SIEMPRE\n",
    "````"
   ]
  },
  {
   "cell_type": "code",
   "execution_count": null,
   "metadata": {
    "slideshow": {
     "slide_type": "subslide"
    }
   },
   "outputs": [],
   "source": [
    "def dividir(numerador, denominador):\n",
    "    check = isinstance(numerador, int) and isinstance(denominador, int)\n",
    "    if not check:\n",
    "        raise TypeError('Ambos argumentos deben ser tipo int')\n",
    "    elif denominador == 0:\n",
    "        raise ZeroDivisionError('No se puede dividir por 0')\n",
    "    else:\n",
    "        return numerador / denominador\n",
    "\n",
    "try:\n",
    "    resultado = dividir(1, 3)\n",
    "except TypeError as error:\n",
    "    print(f\"Se levantó un TypeError: {error}\")\n",
    "except ZeroDivisionError as error:\n",
    "    print(f\"Se levantó un ZeroDivisionError: {error}\")\n",
    "else:\n",
    "    print(f\"El resultado de la división es: {resultado}\")\n",
    "finally:\n",
    "    print(\"Adiooooooooos\")"
   ]
  },
  {
   "cell_type": "markdown",
   "metadata": {
    "slideshow": {
     "slide_type": "slide"
    }
   },
   "source": [
    "## ¡Ejercicio!: DCCuidador 🐶🐴🐔🐮"
   ]
  },
  {
   "cell_type": "markdown",
   "metadata": {
    "slideshow": {
     "slide_type": "subslide"
    }
   },
   "source": [
    "¡Eres el DCCuidador de una granja! Tu trabajo es verificar la correcta alimentación de los animales de la granja: perros, caballos, gallinas y vacas, levantando y manejando las excepciones necesarias para que cada animal se alimente del tipo de comida que le corresponde. Para crear las instancias de animales, te entregaremos un archivo granjita.csv, el cual contiene la información de estos. Además, cada animal tiene sus reglas de alimentación:\n",
    "- Los perros sólo comen carne o vegetales.\n",
    "- Los caballos sólo comen vegetales.\n",
    "- Las gallinas sólo pueden comer los alimentos contenidos en el diccionario `alimentos_gallina`, en el cual cada llave corresponde al nombre de un alimento y cada valor corresponde a la cantidad de porciones que darle a las gallinas."
   ]
  },
  {
   "cell_type": "code",
   "execution_count": null,
   "metadata": {
    "slideshow": {
     "slide_type": "subslide"
    }
   },
   "outputs": [],
   "source": [
    "from abc import ABC, abstractmethod\n",
    "from collections import namedtuple\n",
    "import random\n",
    "\n",
    "class Animal(ABC):\n",
    "\n",
    "    def __init__(self, nombre, edad, familia):\n",
    "        # super().__init__(*args, **kwarwgs)\n",
    "        self.nombre = nombre\n",
    "        self.edad = edad\n",
    "        self.familia = familia\n",
    "\n",
    "        self._alimentacion = None\n",
    "    \n",
    "    @abstractmethod\n",
    "    def alimentar(self, alimento):\n",
    "        pass"
   ]
  },
  {
   "cell_type": "code",
   "execution_count": null,
   "metadata": {
    "slideshow": {
     "slide_type": "subslide"
    }
   },
   "outputs": [],
   "source": [
    "class Perro(Animal):\n",
    "    def __init__(self, nombre, edad, familia):\n",
    "        super().__init__(nombre, edad, familia)\n",
    "        self.good_boy = True\n",
    "\n",
    "    def alimentar(self, alimento):\n",
    "        \"\"\" \n",
    "        Los perros poseen 2 requisitos:\n",
    "        1. Debes verificar que el alimento entregado sea de tipo Vegetal o Carne,\n",
    "            y en caso contrario levantar la excepción correspondiente.\n",
    "        2. Además, el perro es muy regalón, por lo que si el alimento es efectivamente\n",
    "            de tipo Vegetal o Carne, debes verificar que este sea Zanahoria o Carne molida,\n",
    "            ya que al perrito no le gusta otra cosa.\n",
    "        \"\"\"\n",
    " "
   ]
  },
  {
   "cell_type": "code",
   "execution_count": null,
   "metadata": {
    "slideshow": {
     "slide_type": "subslide"
    }
   },
   "outputs": [],
   "source": [
    "   \n",
    "class Caballo(Animal):\n",
    "\n",
    "    def __init__(self, nombre, edad, familia):\n",
    "        super().__init__(nombre, edad, familia)\n",
    "\n",
    "    def alimentar(self, alimento):\n",
    "        print(\"Hummy Hummy\")\n",
    "        \n",
    "        \"\"\" \n",
    "        Los caballos poseen 1 requisito: \n",
    "            Debes verificar que el alimento entregado sea de tipo Vegetal,\n",
    "            y en caso contrario levantar la excepción correspondiente.\n",
    "        \"\"\""
   ]
  },
  {
   "cell_type": "code",
   "execution_count": null,
   "metadata": {
    "slideshow": {
     "slide_type": "subslide"
    }
   },
   "outputs": [],
   "source": [
    "class Gallina(Animal):\n",
    "    \n",
    "    def __init__(self, nombre, edad, familia):\n",
    "        super().__init__(nombre, edad, familia)\n",
    "        self.enojona = True\n",
    "    \n",
    "    def alimentar(self, nombre_alimento):\n",
    "        print(\"poPOpoPoPopoo\")\n",
    "\n",
    "        \"\"\"\n",
    "        Para alimentar a una gallina se deben verificar varias condiciones:\n",
    "        1. Se debe verificar que el argumento recibido sea el nombre del alimento\n",
    "            en formato string.\n",
    "        2. Si efectivamente se recibe un string con el nombre del alimento,\n",
    "            se debe verificar que el alimento esté dentro de las posibilidades para las gallinas.\n",
    "        3. Si el alimento está dentro de las posibilidades, se le debe dar las porciones asignadas\n",
    "            de este alimento a la gallina.\n",
    "        \"\"\"\n",
    "  "
   ]
  },
  {
   "cell_type": "code",
   "execution_count": null,
   "metadata": {
    "slideshow": {
     "slide_type": "subslide"
    }
   },
   "outputs": [],
   "source": [
    "      \n",
    "class Vaca(Animal):\n",
    "    def __init__(self, nombre, edad, familia):\n",
    "        super().__init__(nombre, edad, familia)\n",
    "        self.regalona = True\n",
    "\n",
    "    def alimentar(self, nombre_alimento):\n",
    "        print('Capa de ozono: Am I a joke to you?')\n",
    "        \n",
    "        if not isinstance(nombre_alimento, str):\n",
    "            raise TypeError(\"El argumento entregado para alimentar a las vacas debe ser un string\")\n",
    "    \n",
    "        else:\n",
    "            print(f\"Se le dió {nombre_alimento} a la vaca, hummy\")\n",
    "        \n",
    "        if nombre_alimento == \"carne\":\n",
    "            raise ValueError(\"COMO OUSAS A ALIMENTAR UN VAQUITA CON CARNE!\")\n",
    "        "
   ]
  },
  {
   "cell_type": "code",
   "execution_count": null,
   "metadata": {
    "slideshow": {
     "slide_type": "subslide"
    }
   },
   "outputs": [],
   "source": [
    "\n",
    "Vegetal = namedtuple(\"Vegetal\", [\"nombre\"])\n",
    "Carne = namedtuple(\"Carne\", [\"nombre\"])\n",
    "\n",
    "vegetales = [Vegetal(\"Zanahoria\"), Vegetal(\"Lechuga\"), Vegetal(\"Apio\"), Vegetal(\"Repollo\")]\n",
    "carnes = [Carne(\"Carne molida\"), Carne(\"Lomo\"), Carne(\"Filete\"), Carne(\"Punta de Ganso\")]\n",
    "alimentos_gallina = {\"trigo\": 1, \"maíz\": 2, \"avena\": 3, \"guisantes\": 1, \"insectos\": 2}\n",
    "\n",
    "total_alimentos = [\"trigo\", \"cebada\", \"maíz\", \"centeno\", \"avena\", \"rábano\", \"guisantes\", \"papa\", \"insecto\"]\n",
    "total_alimentos += vegetales\n",
    "total_alimentos += carnes\n"
   ]
  },
  {
   "cell_type": "code",
   "execution_count": null,
   "metadata": {
    "slideshow": {
     "slide_type": "subslide"
    }
   },
   "outputs": [],
   "source": [
    "def cargar_csv(ruta_archivo: str)->list:\n",
    "\n",
    "    lista_animales = []\n",
    "    \n",
    "    DICT_ANIMALES = {\n",
    "        'vaca': Vaca,\n",
    "        'perro': Perro,\n",
    "        'gallina': Gallina,\n",
    "        'caballo': Caballo\n",
    "    }\n",
    "\n",
    "    with open(ruta_archivo, 'r', encoding='UTF-8') as animal_file:\n",
    "        \n",
    "        for linea in animal_file:\n",
    "            especie, *datos_animal =  linea.strip().split(',')\n",
    "            lista_animales.append(DICT_ANIMALES[especie](*datos_animal))\n",
    "\n",
    "    return lista_animales\n",
    "\n",
    "lista_animales = cargar_csv(\"granjita.csv\")"
   ]
  },
  {
   "cell_type": "code",
   "execution_count": null,
   "metadata": {
    "slideshow": {
     "slide_type": "subslide"
    }
   },
   "outputs": [],
   "source": [
    "for animal in lista_animales:\n",
    "    alimento = random.choice(total_alimentos)\n",
    "    print(f\"Alimentando a {animal.__class__.__name__} {animal.nombre}\")\n",
    "    animal.alimentar(alimento)\n"
   ]
  }
 ],
 "metadata": {
  "celltoolbar": "Slideshow",
  "kernelspec": {
   "display_name": "Python 3 (ipykernel)",
   "language": "python",
   "name": "python3"
  },
  "language_info": {
   "codemirror_mode": {
    "name": "ipython",
    "version": 3
   },
   "file_extension": ".py",
   "mimetype": "text/x-python",
   "name": "python",
   "nbconvert_exporter": "python",
   "pygments_lexer": "ipython3",
   "version": "3.9.10"
  },
  "metadata": {
   "interpreter": {
    "hash": "aee8b7b246df8f9039afb4144a1f6fd8d2ca17a180786b69acc140d282b71a49"
   }
  }
 },
 "nbformat": 4,
 "nbformat_minor": 2
}
