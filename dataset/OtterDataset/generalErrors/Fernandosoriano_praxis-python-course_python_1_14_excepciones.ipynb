{
 "cells": [
  {
   "cell_type": "markdown",
   "metadata": {},
   "source": [
    "# Exceptions"
   ]
  },
  {
   "cell_type": "code",
   "execution_count": 5,
   "metadata": {},
   "outputs": [
    {
     "name": "stdout",
     "output_type": "stream",
     "text": [
      "division by zero\n",
      "lo bueno es que esto siempre se ejecuta, menos mal\n"
     ]
    }
   ],
   "source": [
    "try:\n",
    "    result = 2 / 0\n",
    "    print( f\"the value is: {result}\" )\n",
    "except ZeroDivisionError as e:\n",
    "    print(e)\n",
    "else:\n",
    "    print(\"EL codigo se ejecuto gloriosamente\")\n",
    "finally:\n",
    "    print(\"lo bueno es que esto siempre se ejecuta, menos mal\")"
   ]
  },
  {
   "cell_type": "markdown",
   "metadata": {},
   "source": [
    "class CustomExcept(Exception):\n",
    "    pass"
   ]
  },
  {
   "cell_type": "code",
   "execution_count": 10,
   "metadata": {},
   "outputs": [
    {
     "name": "stdout",
     "output_type": "stream",
     "text": [
      "el valor era 0\n"
     ]
    }
   ],
   "source": [
    "try:\n",
    "    value = 0\n",
    "    if(value == 0):\n",
    "        raise ValueError(\"el valor era 0\")\n",
    "except ValueError as e:\n",
    "    print(e)"
   ]
  },
  {
   "cell_type": "code",
   "execution_count": 14,
   "metadata": {},
   "outputs": [
    {
     "ename": "CustomExcept",
     "evalue": "value must'nt be 0",
     "output_type": "error",
     "traceback": [
      "\u001b[0;31m---------------------------------------------------------------------------\u001b[0m",
      "\u001b[0;31mCustomExcept\u001b[0m                              Traceback (most recent call last)",
      "\u001b[0;32m<ipython-input-14-89621372ecfb>\u001b[0m in \u001b[0;36m<module>\u001b[0;34m\u001b[0m\n\u001b[1;32m      1\u001b[0m \u001b[0mvalue\u001b[0m \u001b[0;34m=\u001b[0m \u001b[0;36m0\u001b[0m\u001b[0;34m\u001b[0m\u001b[0;34m\u001b[0m\u001b[0m\n\u001b[1;32m      2\u001b[0m \u001b[0;32mif\u001b[0m\u001b[0;34m(\u001b[0m\u001b[0mvalue\u001b[0m \u001b[0;34m==\u001b[0m \u001b[0;36m0\u001b[0m\u001b[0;34m)\u001b[0m\u001b[0;34m:\u001b[0m\u001b[0;34m\u001b[0m\u001b[0;34m\u001b[0m\u001b[0m\n\u001b[0;32m----> 3\u001b[0;31m     \u001b[0;32mraise\u001b[0m \u001b[0mCustomExcept\u001b[0m\u001b[0;34m(\u001b[0m\u001b[0;34m\"value must'nt be 0\"\u001b[0m\u001b[0;34m)\u001b[0m\u001b[0;34m\u001b[0m\u001b[0;34m\u001b[0m\u001b[0m\n\u001b[0m",
      "\u001b[0;31mCustomExcept\u001b[0m: value must'nt be 0"
     ]
    }
   ],
   "source": [
    "value = 0\n",
    "if(value == 0):\n",
    "    raise CustomExcept(\"value must'nt be 0\")"
   ]
  },
  {
   "cell_type": "markdown",
   "metadata": {},
   "source": [
    "## built-in exceptions"
   ]
  },
  {
   "cell_type": "code",
   "execution_count": 18,
   "metadata": {},
   "outputs": [],
   "source": [
    "try:\n",
    "    pass\n",
    "except Exception:\n",
    "    pass\n",
    "except AritmeticError:\n",
    "    pass\n",
    "except BufferError:\n",
    "    pass\n",
    "except lookupError:\n",
    "    pass\n",
    "except AssertionError:\n",
    "    pass\n",
    "except AttributeError:\n",
    "    pass\n",
    "except EOFError:\n",
    "    pass\n",
    "except FloatingPointError:\n",
    "    pass\n",
    "except GeneratorExit:\n",
    "    pass\n",
    "except ImportError:\n",
    "    pass \n",
    "except ModuleNotFoundError:\n",
    "    pass\n",
    "except IndexError:\n",
    "    pass\n",
    "except KeyError:\n",
    "    pass \n",
    "except KeyboardInterrupt:\n",
    "    pass\n",
    "except MemoryError:\n",
    "    pass\n",
    "except NameError:\n",
    "    pass\n",
    "except NotImplementedError:\n",
    "    pass\n",
    "except OSError:\n",
    "    pass\n",
    "except OverflowError:\n",
    "    pass\n",
    "except RecursionError:\n",
    "    pass\n",
    "except ReferenceError:\n",
    "    pass\n",
    "except RuntimeError:\n",
    "    pass\n",
    "except StopIteration:\n",
    "    pass \n",
    "except StopAsyncIteration:\n",
    "    pass\n",
    "except SyntaxError:\n",
    "    pass\n",
    "except IdentationError:\n",
    "    pass\n",
    "except TabError:\n",
    "    pass\n",
    "except SystemError:\n",
    "    pass\n",
    "except SystemExit:\n",
    "    pass\n",
    "except TypeError:\n",
    "    pass\n",
    "except UnboundLocalError:\n",
    "    pass\n",
    "except UnicodeError:\n",
    "    pass\n",
    "except UnicodeEncodeError:\n",
    "    pass\n",
    "except UnicodeDecodeError:\n",
    "    pass\n",
    "except UnicodeTranslateError:\n",
    "    pass\n",
    "except ValueError:\n",
    "    pass\n",
    "except ZeroDivisionError:\n",
    "    pass\n",
    "except EnvironmentError:\n",
    "    pass\n",
    "except IOError:\n",
    "    pass\n",
    "except WindowsError:\n",
    "    pass\n",
    "except BlockingIOError:\n",
    "    pass\n",
    "except ChildProcessError:\n",
    "    pass\n",
    "except ConnectionError:\n",
    "    pass\n",
    "except BrokenPipeError:\n",
    "    pass\n",
    "except ConnectionAbortedError:\n",
    "    pass\n",
    "except ConnectionRefusedError:\n",
    "    pass\n",
    "except ConnectionResetError:\n",
    "    pass\n",
    "except FileExistError:\n",
    "    pass\n",
    "except FileNotFountError:\n",
    "    pass\n",
    "except InterruptedError:\n",
    "    pass\n",
    "except IsADirectoryError:\n",
    "    pass\n",
    "except NotADirectoryError:\n",
    "    pass\n",
    "except PermissionError:\n",
    "    pass\n",
    "except ProccessLookupError:\n",
    "    pass\n",
    "except TimeoutError:\n",
    "    pass"
   ]
  },
  {
   "cell_type": "code",
   "execution_count": null,
   "metadata": {},
   "outputs": [],
   "source": []
  }
 ],
 "metadata": {
  "kernelspec": {
   "display_name": "Python 3",
   "language": "python",
   "name": "python3"
  },
  "language_info": {
   "codemirror_mode": {
    "name": "ipython",
    "version": 3
   },
   "file_extension": ".py",
   "mimetype": "text/x-python",
   "name": "python",
   "nbconvert_exporter": "python",
   "pygments_lexer": "ipython3",
   "version": "3.8.5"
  }
 },
 "nbformat": 4,
 "nbformat_minor": 4
}
