{
 "cells": [
  {
   "cell_type": "code",
   "execution_count": 3,
   "id": "c2f1ad80",
   "metadata": {
    "scrolled": true
   },
   "outputs": [
    {
     "name": "stdout",
     "output_type": "stream",
     "text": [
      "hello world\n",
      "Hello Again\n",
      "1\n",
      "3\n",
      "1+2\n",
      "It's easy!\n",
      "I said \"Think Pythonic\"\n"
     ]
    }
   ],
   "source": [
    "print ('hello world')\n",
    "print (\"Hello Again\")\n",
    "print(1)\n",
    "print(1+2)\n",
    "print('1+2')\n",
    "print (\"It's easy!\")\n",
    "print ( 'I said \"Think Pythonic\"')"
   ]
  },
  {
   "cell_type": "code",
   "execution_count": 4,
   "id": "5827d11e",
   "metadata": {},
   "outputs": [
    {
     "name": "stdout",
     "output_type": "stream",
     "text": [
      "i can run this line\n",
      "will run this one\n",
      "this will also run\n",
      "also run within # this\n"
     ]
    }
   ],
   "source": [
    "#note\n",
    "# note who run in python\n",
    "print (\"i can run this line\")# anything behind will note run\n",
    "# this will not run in book\n",
    "print(\"will run this one\")\n",
    "print(\"this will also run\")\n",
    "print (\"also run within # this\")"
   ]
  },
  {
   "cell_type": "code",
   "execution_count": 1,
   "id": "87f8a8eb",
   "metadata": {},
   "outputs": [
    {
     "name": "stdout",
     "output_type": "stream",
     "text": [
      "python\n",
      "\n",
      "1\n",
      "3\n",
      "1\n",
      "3\n",
      "1\n",
      "4\n"
     ]
    }
   ],
   "source": [
    "# 多行注释\n",
    "# 空格\n",
    "# 代码运行顺序\n",
    "# 换行\n",
    "# exit\n",
    "# Python中的中文\n",
    "\n",
    "print(\"python\")# 不会影响执行，但不建议这样写\n",
    "print() #这样会输出一个空行\n",
    "print(1)\n",
    "\n",
    "print (3)\n",
    "#exit () #这样就退出执行了\n",
    "print (1);print(3);print(1);print(4)"
   ]
  },
  {
   "cell_type": "markdown",
   "id": "c9c0b647",
   "metadata": {},
   "source": [
    "练习 1-4\n"
   ]
  },
  {
   "cell_type": "code",
   "execution_count": 6,
   "id": "cd5d93a9",
   "metadata": {},
   "outputs": [
    {
     "name": "stdout",
     "output_type": "stream",
     "text": [
      "hello world i am coming\n",
      "Hello! World!\n",
      "Hello, World!\n",
      "Hello,World,python!\n"
     ]
    }
   ],
   "source": [
    "print ('hello','world','i am coming')\n",
    "\n",
    "print ('Hello', \" World\", sep=\"!\", end=\"!\\n\")\n",
    "print('Hello, World', end='!\\n');\n",
    "\n",
    "print(\"Hello\",\"World\", \"python\", sep=\",\", end=\"!\\n\")\n"
   ]
  },
  {
   "cell_type": "code",
   "execution_count": 1,
   "id": "32e41e59",
   "metadata": {},
   "outputs": [],
   "source": [
    "print?"
   ]
  },
  {
   "cell_type": "markdown",
   "id": "ca788aea",
   "metadata": {},
   "source": [
    "练习 2-1 \n"
   ]
  },
  {
   "cell_type": "code",
   "execution_count": 2,
   "id": "4fd42b75",
   "metadata": {},
   "outputs": [
    {
     "name": "stdout",
     "output_type": "stream",
     "text": [
      "Hello python!\n"
     ]
    }
   ],
   "source": [
    "print(\"Hello python!\")"
   ]
  },
  {
   "cell_type": "code",
   "execution_count": 5,
   "id": "961d70b7",
   "metadata": {},
   "outputs": [
    {
     "name": "stdout",
     "output_type": "stream",
     "text": [
      "hello Python!\n"
     ]
    }
   ],
   "source": [
    "message = \"hello Python!\"\n",
    "print (message)"
   ]
  },
  {
   "cell_type": "code",
   "execution_count": 3,
   "id": "de650905",
   "metadata": {},
   "outputs": [
    {
     "name": "stdout",
     "output_type": "stream",
     "text": [
      "hello Python!\n",
      "Hello Python World! I am coming!\n"
     ]
    }
   ],
   "source": [
    "message = \"hello Python!\"\n",
    "print (message)\n",
    "message = \"Hello Python World! I am coming!\"\n",
    "print (message)"
   ]
  },
  {
   "cell_type": "code",
   "execution_count": 4,
   "id": "fe274f40",
   "metadata": {},
   "outputs": [
    {
     "data": {
      "text/plain": [
       "'Hello Python World! I am coming!'"
      ]
     },
     "execution_count": 4,
     "metadata": {},
     "output_type": "execute_result"
    }
   ],
   "source": [
    "message"
   ]
  },
  {
   "cell_type": "code",
   "execution_count": 6,
   "id": "2f18d5a9",
   "metadata": {},
   "outputs": [
    {
     "data": {
      "text/plain": [
       "'hello Python!'"
      ]
     },
     "execution_count": 6,
     "metadata": {},
     "output_type": "execute_result"
    }
   ],
   "source": [
    "message"
   ]
  },
  {
   "cell_type": "markdown",
   "id": "d599ad9d",
   "metadata": {},
   "source": [
    "Practice 2-2"
   ]
  },
  {
   "cell_type": "code",
   "execution_count": 10,
   "id": "ec2de1e5",
   "metadata": {},
   "outputs": [
    {
     "name": "stdout",
     "output_type": "stream",
     "text": [
      "10\n",
      "5\n",
      "woshizifu\n",
      "我是字符串\n"
     ]
    }
   ],
   "source": [
    "i = 10\n",
    "print (i)\n",
    "i = 5 \n",
    "print (i)\n",
    "i = 'woshizifu'\n",
    "print(i)\n",
    "i = '我是字符串'\n",
    "print(i)"
   ]
  },
  {
   "cell_type": "markdown",
   "id": "a97b48af",
   "metadata": {},
   "source": [
    "一切皆对象"
   ]
  },
  {
   "cell_type": "code",
   "execution_count": 13,
   "id": "dff7c65a",
   "metadata": {},
   "outputs": [
    {
     "name": "stdout",
     "output_type": "stream",
     "text": [
      "<built-in function print>\n",
      "p可以作为函数print进行使用;Python\n"
     ]
    }
   ],
   "source": [
    "p = print\n",
    "print (p)\n",
    "p ('p可以作为函数print进行使用', \"Python\", sep=\";\")"
   ]
  },
  {
   "cell_type": "code",
   "execution_count": 14,
   "id": "7f65a618",
   "metadata": {},
   "outputs": [
    {
     "name": "stdout",
     "output_type": "stream",
     "text": [
      "a: 1\n",
      "b: ['1', 1]\n"
     ]
    }
   ],
   "source": [
    "#变量的交换\n",
    "\n",
    "a = 1\n",
    "print ('a:', a)\n",
    "b = ['1',1]\n",
    "print ('b:', b)\n",
    "a,b = b,a"
   ]
  },
  {
   "cell_type": "code",
   "execution_count": 15,
   "id": "6245dc1c",
   "metadata": {},
   "outputs": [
    {
     "name": "stdout",
     "output_type": "stream",
     "text": [
      "['1', 1] 1\n"
     ]
    }
   ],
   "source": [
    "print (a,b)"
   ]
  },
  {
   "cell_type": "code",
   "execution_count": 16,
   "id": "92cb7569",
   "metadata": {},
   "outputs": [
    {
     "name": "stdout",
     "output_type": "stream",
     "text": [
      "10 20\n"
     ]
    }
   ],
   "source": [
    "x,y = 10, 20 #可以直接作为一个元组赋值给一个变量\n",
    "print (x,y)"
   ]
  },
  {
   "cell_type": "code",
   "execution_count": 17,
   "id": "87126aeb",
   "metadata": {},
   "outputs": [
    {
     "data": {
      "text/plain": [
       "(10, 20)"
      ]
     },
     "execution_count": 17,
     "metadata": {},
     "output_type": "execute_result"
    }
   ],
   "source": [
    "10,20"
   ]
  },
  {
   "cell_type": "code",
   "execution_count": 18,
   "id": "adaeaf75",
   "metadata": {},
   "outputs": [
    {
     "name": "stdout",
     "output_type": "stream",
     "text": [
      "(10, 20)\n",
      "<class 'tuple'>\n"
     ]
    }
   ],
   "source": [
    "a = 10,20\n",
    "print (a)\n",
    "print (type(a))"
   ]
  },
  {
   "cell_type": "code",
   "execution_count": 19,
   "id": "940610e7",
   "metadata": {},
   "outputs": [
    {
     "name": "stdout",
     "output_type": "stream",
     "text": [
      "1 <class 'str'>\n",
      "1 <class 'int'>\n"
     ]
    }
   ],
   "source": [
    "x,y = ['1',1]\n",
    "print(x,type(x))\n",
    "print(y,type(y))"
   ]
  },
  {
   "cell_type": "code",
   "execution_count": 20,
   "id": "3066b229",
   "metadata": {},
   "outputs": [
    {
     "name": "stdout",
     "output_type": "stream",
     "text": [
      "3\n",
      "2\n",
      "20\n",
      "6.666666666666667\n"
     ]
    }
   ],
   "source": [
    "#赋值\n",
    "i = 1\n",
    "i += 2 #i = i + 2\n",
    "print (i)\n",
    "i -= 1\n",
    "print (i)\n",
    "i *= 10\n",
    "print (i)\n",
    "i /=3\n",
    "print (i)\n"
   ]
  },
  {
   "cell_type": "markdown",
   "id": "0379fd74",
   "metadata": {},
   "source": [
    "常见问题\n",
    "我们应该写x=100还是x = 100\n",
    "打乱代码块运行顺序"
   ]
  },
  {
   "cell_type": "markdown",
   "id": "2941b961",
   "metadata": {},
   "source": [
    "练习2-3"
   ]
  },
  {
   "cell_type": "code",
   "execution_count": 6,
   "id": "0d3f0b4f",
   "metadata": {},
   "outputs": [
    {
     "name": "stdout",
     "output_type": "stream",
     "text": [
      "Enter some data: 10\n"
     ]
    }
   ],
   "source": [
    "# 可以通过input函数和控制面板形成一种交互模式，获取输入变量\n",
    "input_string_var = input (\"Enter some data: \") # Returns the data as a string\n"
   ]
  },
  {
   "cell_type": "code",
   "execution_count": 8,
   "id": "a5a9473e",
   "metadata": {},
   "outputs": [
    {
     "name": "stdout",
     "output_type": "stream",
     "text": [
      "10 <class 'str'>\n"
     ]
    }
   ],
   "source": [
    "print (input_string_var, type(input_string_var))"
   ]
  },
  {
   "cell_type": "code",
   "execution_count": 9,
   "id": "24396204",
   "metadata": {},
   "outputs": [
    {
     "data": {
      "text/plain": [
       "False"
      ]
     },
     "execution_count": 9,
     "metadata": {},
     "output_type": "execute_result"
    }
   ],
   "source": [
    "int(input_string_var) > 10"
   ]
  },
  {
   "cell_type": "code",
   "execution_count": 16,
   "id": "617f7d28",
   "metadata": {},
   "outputs": [
    {
     "data": {
      "text/plain": [
       "False"
      ]
     },
     "execution_count": 16,
     "metadata": {},
     "output_type": "execute_result"
    }
   ],
   "source": [
    "int(input_string_var) < 10"
   ]
  },
  {
   "cell_type": "code",
   "execution_count": 6,
   "id": "6510dc19",
   "metadata": {},
   "outputs": [
    {
     "data": {
      "text/plain": [
       "5"
      ]
     },
     "execution_count": 6,
     "metadata": {},
     "output_type": "execute_result"
    }
   ],
   "source": [
    "# 再给变量赋值前不需要提前声明\n",
    "# 传统的变量命名是小写、用下划线分割单词\n",
    "\n",
    "some_var = 5 \n",
    "some_var"
   ]
  },
  {
   "cell_type": "code",
   "execution_count": 7,
   "id": "dceb41e2",
   "metadata": {},
   "outputs": [
    {
     "name": "stdout",
     "output_type": "stream",
     "text": [
      "5 <class 'int'>\n"
     ]
    }
   ],
   "source": [
    "print (some_var, type(some_var)) #=> 5"
   ]
  },
  {
   "cell_type": "code",
   "execution_count": 8,
   "id": "2b8ea9e9",
   "metadata": {},
   "outputs": [
    {
     "data": {
      "text/plain": [
       "5"
      ]
     },
     "execution_count": 8,
     "metadata": {},
     "output_type": "execute_result"
    }
   ],
   "source": [
    "some_var"
   ]
  },
  {
   "cell_type": "code",
   "execution_count": 10,
   "id": "d869c24f",
   "metadata": {},
   "outputs": [
    {
     "name": "stdout",
     "output_type": "stream",
     "text": [
      "5 <class 'int'>\n"
     ]
    }
   ],
   "source": [
    "print(some_var, type(some_var))"
   ]
  },
  {
   "cell_type": "code",
   "execution_count": 13,
   "id": "5054ce0f",
   "metadata": {},
   "outputs": [],
   "source": [
    "some_unknown_var = 10\n"
   ]
  },
  {
   "cell_type": "code",
   "execution_count": 15,
   "id": "28d33779",
   "metadata": {},
   "outputs": [
    {
     "name": "stdout",
     "output_type": "stream",
     "text": [
      "10 <class 'int'>\n"
     ]
    }
   ],
   "source": [
    "print (some_unknown_var, type(some_unknown_var))"
   ]
  },
  {
   "cell_type": "code",
   "execution_count": 16,
   "id": "8f453d3d",
   "metadata": {},
   "outputs": [
    {
     "name": "stdout",
     "output_type": "stream",
     "text": [
      "hello python!\n"
     ]
    }
   ],
   "source": [
    "message = \"hello python!\"\n",
    "print(message)"
   ]
  },
  {
   "cell_type": "code",
   "execution_count": 17,
   "id": "21d2e1b4",
   "metadata": {},
   "outputs": [
    {
     "name": "stdout",
     "output_type": "stream",
     "text": [
      "hello python! <class 'str'>\n"
     ]
    }
   ],
   "source": [
    "print (message, type(message))"
   ]
  },
  {
   "cell_type": "markdown",
   "id": "3ec308fd",
   "metadata": {},
   "source": [
    "练习2-4"
   ]
  },
  {
   "cell_type": "code",
   "execution_count": 23,
   "id": "76513796",
   "metadata": {},
   "outputs": [],
   "source": [
    "#变量的使用\n",
    "cars=150\n",
    "space_in_a_car=4.0\n",
    "drivers=30\n",
    "passengers=90\n",
    "driver_name=\"David\""
   ]
  },
  {
   "cell_type": "code",
   "execution_count": 24,
   "id": "6402ce7c",
   "metadata": {},
   "outputs": [
    {
     "data": {
      "text/plain": [
       "4"
      ]
     },
     "execution_count": 24,
     "metadata": {},
     "output_type": "execute_result"
    }
   ],
   "source": [
    "round(4,2)"
   ]
  },
  {
   "cell_type": "code",
   "execution_count": 25,
   "id": "140e9aeb",
   "metadata": {},
   "outputs": [],
   "source": [
    "cars_not_driven = cars - drivers\n",
    "cars_driven = drivers\n",
    "carpool_capacity = cars_driven * space_in_a_car\n",
    "average_passengers_per_car = passengers/cars_driven"
   ]
  },
  {
   "cell_type": "code",
   "execution_count": 26,
   "id": "cd85ebc2",
   "metadata": {},
   "outputs": [
    {
     "name": "stdout",
     "output_type": "stream",
     "text": [
      "There are 150 cars available\n",
      "There are only 30 drivers available.\n"
     ]
    }
   ],
   "source": [
    "print(\"There are\", cars, \"cars available\")\n",
    "print(\"There are only\", drivers,\"drivers available.\")"
   ]
  },
  {
   "cell_type": "code",
   "execution_count": 27,
   "id": "75ecfeb6",
   "metadata": {},
   "outputs": [
    {
     "name": "stdout",
     "output_type": "stream",
     "text": [
      "One of the availabe drivers is David\n",
      "There will be 120 empty cars today.\n",
      "We can transport 120.0 people today.\n",
      "We have 90 to carpool today.\n",
      "We need to put about 3.0 in each car.\n"
     ]
    }
   ],
   "source": [
    "print(\"One of the availabe drivers is\", driver_name)\n",
    "print(\"There will be\", cars_not_driven, \"empty cars today.\")\n",
    "print(\"We can transport\", carpool_capacity, \"people today.\")\n",
    "print(\"We have\", passengers, \"to carpool today.\")\n",
    "print(\"We need to put about\", average_passengers_per_car,\n",
    "      \"in each car.\")"
   ]
  },
  {
   "cell_type": "code",
   "execution_count": 29,
   "id": "b312f6c2",
   "metadata": {},
   "outputs": [
    {
     "name": "stdout",
     "output_type": "stream",
     "text": [
      "There are 150 cars available.\n",
      "There are only 30 drivers available.\n",
      "One of the availabe drivers is David.\n",
      "There will be 120 empty cars today.\n",
      "We can transport 120.0 people today.\n",
      "We have 90 to carpool today.\n",
      "We need to put about 3.0 in each car.\n"
     ]
    }
   ],
   "source": [
    "# 格式化字符串\n",
    "# 在字符串开头加上字母f，注：f for format\n",
    "# {}内嵌入想要替换的变量\n",
    "print(f'There are {cars} cars available.')\n",
    "print(f'There are only {drivers} drivers available.')\n",
    "print(f\"One of the availabe drivers is {driver_name}.\")\n",
    "print(f\"There will be {cars_not_driven} empty cars today.\")\n",
    "print(f\"We can transport {carpool_capacity} people today.\")\n",
    "print(f\"We have {passengers} to carpool today.\")\n",
    "print(f\"We need to put about {average_passengers_per_car} in each car.\")"
   ]
  },
  {
   "cell_type": "markdown",
   "id": "d812f512",
   "metadata": {},
   "source": [
    "数与运算（数字型与布尔型)"
   ]
  },
  {
   "cell_type": "markdown",
   "id": "4999fe3c",
   "metadata": {},
   "source": [
    "练习3-1"
   ]
  },
  {
   "cell_type": "code",
   "execution_count": 33,
   "id": "18ce48ec",
   "metadata": {},
   "outputs": [
    {
     "name": "stdout",
     "output_type": "stream",
     "text": [
      "100 <class 'int'>\n"
     ]
    }
   ],
   "source": [
    "# integer\n",
    "stock_count = 100\n",
    "print (stock_count, type(stock_count))"
   ]
  },
  {
   "cell_type": "code",
   "execution_count": 34,
   "id": "a8015d19",
   "metadata": {},
   "outputs": [
    {
     "data": {
      "text/plain": [
       "1000"
      ]
     },
     "execution_count": 34,
     "metadata": {},
     "output_type": "execute_result"
    }
   ],
   "source": [
    "int('1000')"
   ]
  },
  {
   "cell_type": "code",
   "execution_count": 35,
   "id": "4d89affb",
   "metadata": {},
   "outputs": [
    {
     "name": "stdout",
     "output_type": "stream",
     "text": [
      "14.32 <class 'float'>\n"
     ]
    }
   ],
   "source": [
    "#float浮点数\n",
    "stock_price = 14.32\n",
    "print(stock_price, type(stock_price))\n"
   ]
  },
  {
   "cell_type": "code",
   "execution_count": 36,
   "id": "e45b4f95",
   "metadata": {},
   "outputs": [
    {
     "name": "stdout",
     "output_type": "stream",
     "text": [
      "0.0345 <class 'float'>\n",
      "-0.0456 <class 'float'>\n"
     ]
    }
   ],
   "source": [
    "stock_change = .0345\n",
    "print(stock_change, type(stock_change))\n",
    "stock_change = -.0456\n",
    "print(stock_change, type(stock_change))"
   ]
  },
  {
   "cell_type": "code",
   "execution_count": 37,
   "id": "c860b3d1",
   "metadata": {},
   "outputs": [
    {
     "data": {
      "text/plain": [
       "float"
      ]
     },
     "execution_count": 37,
     "metadata": {},
     "output_type": "execute_result"
    }
   ],
   "source": [
    "type(2e10)"
   ]
  },
  {
   "cell_type": "code",
   "execution_count": 40,
   "id": "8efbf52c",
   "metadata": {},
   "outputs": [
    {
     "name": "stdout",
     "output_type": "stream",
     "text": [
      "23000000000.0 <class 'float'>\n"
     ]
    }
   ],
   "source": [
    "# 科学计数法\n",
    "market_capital = 2.3e10\n",
    "print(market_capital, type(market_capital))"
   ]
  },
  {
   "cell_type": "code",
   "execution_count": 47,
   "id": "734f34e3",
   "metadata": {},
   "outputs": [
    {
     "name": "stdout",
     "output_type": "stream",
     "text": [
      "123.0\n",
      "-9.0\n"
     ]
    }
   ],
   "source": [
    "# 复数\n",
    "# real+imagej\n",
    "complex_num = 123-9j\n",
    "print(complex_num.real)\n",
    "print(complex_num.imag)"
   ]
  },
  {
   "cell_type": "code",
   "execution_count": 48,
   "id": "3354f449",
   "metadata": {},
   "outputs": [
    {
     "name": "stdout",
     "output_type": "stream",
     "text": [
      "(-0-9j)\n"
     ]
    }
   ],
   "source": [
    "complex1= (-9j)\n",
    "print(complex1)"
   ]
  },
  {
   "cell_type": "code",
   "execution_count": 49,
   "id": "ae99eeea",
   "metadata": {},
   "outputs": [
    {
     "name": "stdout",
     "output_type": "stream",
     "text": [
      "2\n",
      "7\n",
      "20\n",
      "7.0\n"
     ]
    }
   ],
   "source": [
    "# 运算，和你想的没什么差别\n",
    "print(1 + 1)   # => 2\n",
    "print(8 - 1)   # => 7\n",
    "print(10 * 2)  # => 20\n",
    "print(35 / 5)  # => 7.0\n"
   ]
  },
  {
   "cell_type": "code",
   "execution_count": 50,
   "id": "c16e4d1a",
   "metadata": {},
   "outputs": [
    {
     "name": "stdout",
     "output_type": "stream",
     "text": [
      "1\n",
      "1.0\n",
      "-2\n",
      "-2.0\n"
     ]
    }
   ],
   "source": [
    "# 整除只获取整数部分\n",
    "print(5 // 3)       # => 1\n",
    "print(5.0 // 3.0)   # => 1.0 # 输出也是浮点型\n",
    "print(-5 // 3)      # => -2\n",
    "print(-5.0 // 3.0)  # => -2.0"
   ]
  },
  {
   "cell_type": "code",
   "execution_count": 51,
   "id": "d9d2a605",
   "metadata": {},
   "outputs": [
    {
     "data": {
      "text/plain": [
       "3.3333333333333335"
      ]
     },
     "execution_count": 51,
     "metadata": {},
     "output_type": "execute_result"
    }
   ],
   "source": [
    "# 除法的输出结果一直是浮点型\n",
    "10.0 / 3  # => 3.3333333333333335"
   ]
  },
  {
   "cell_type": "code",
   "execution_count": 53,
   "id": "34b4bcc0",
   "metadata": {},
   "outputs": [
    {
     "data": {
      "text/plain": [
       "1"
      ]
     },
     "execution_count": 53,
     "metadata": {},
     "output_type": "execute_result"
    }
   ],
   "source": [
    "# 余数运算\n",
    "7 % 3  # => 1"
   ]
  },
  {
   "cell_type": "code",
   "execution_count": 54,
   "id": "8d378ff2",
   "metadata": {},
   "outputs": [
    {
     "data": {
      "text/plain": [
       "8"
      ]
     },
     "execution_count": 54,
     "metadata": {},
     "output_type": "execute_result"
    }
   ],
   "source": [
    "# 指数运算 (x**y, x的y次方)\n",
    "2**3  # => 8"
   ]
  },
  {
   "cell_type": "code",
   "execution_count": 55,
   "id": "966c9252",
   "metadata": {},
   "outputs": [
    {
     "data": {
      "text/plain": [
       "(-64+0j)"
      ]
     },
     "execution_count": 55,
     "metadata": {},
     "output_type": "execute_result"
    }
   ],
   "source": [
    "8j**2"
   ]
  },
  {
   "cell_type": "code",
   "execution_count": 56,
   "id": "6965303b",
   "metadata": {},
   "outputs": [
    {
     "data": {
      "text/plain": [
       "(64-0j)"
      ]
     },
     "execution_count": 56,
     "metadata": {},
     "output_type": "execute_result"
    }
   ],
   "source": [
    "-8j**2"
   ]
  },
  {
   "cell_type": "code",
   "execution_count": 57,
   "id": "6017a95b",
   "metadata": {},
   "outputs": [
    {
     "data": {
      "text/plain": [
       "8"
      ]
     },
     "execution_count": 57,
     "metadata": {},
     "output_type": "execute_result"
    }
   ],
   "source": [
    "# 括号有更高的运算优先级\n",
    "(1 + 3) * 2  # => 8"
   ]
  },
  {
   "cell_type": "code",
   "execution_count": 58,
   "id": "532c9fb1",
   "metadata": {},
   "outputs": [
    {
     "name": "stdout",
     "output_type": "stream",
     "text": [
      "3+2的计算结果是多少？ 5\n"
     ]
    }
   ],
   "source": [
    "print('3+2的计算结果是多少？', 3+2)"
   ]
  },
  {
   "cell_type": "code",
   "execution_count": 59,
   "id": "a47bf251",
   "metadata": {},
   "outputs": [
    {
     "name": "stdout",
     "output_type": "stream",
     "text": [
      "3+2 < 5-7是否成立？\n",
      "False\n"
     ]
    }
   ],
   "source": [
    "print('3+2 < 5-7是否成立？')\n",
    "print(3+2 < 5-7)"
   ]
  },
  {
   "cell_type": "code",
   "execution_count": null,
   "id": "53364f2d",
   "metadata": {},
   "outputs": [],
   "source": [
    "print('3 + 2 + (1 - 5) + 4 % 2 - 1 / 4 + 6的计算结果是？')\n",
    "print(3 + 2 + (1 - 5) + 4 % 2 - 1 / 4 + 6)"
   ]
  },
  {
   "cell_type": "code",
   "execution_count": 63,
   "id": "5e60b56e",
   "metadata": {},
   "outputs": [
    {
     "data": {
      "text/plain": [
       "0"
      ]
     },
     "execution_count": 63,
     "metadata": {},
     "output_type": "execute_result"
    }
   ],
   "source": [
    "4%2"
   ]
  },
  {
   "cell_type": "code",
   "execution_count": 62,
   "id": "0fd79024",
   "metadata": {},
   "outputs": [
    {
     "data": {
      "text/plain": [
       "1"
      ]
     },
     "execution_count": 62,
     "metadata": {},
     "output_type": "execute_result"
    }
   ],
   "source": [
    "3 + 2 + (1 - 5) + 4 % 2"
   ]
  },
  {
   "cell_type": "code",
   "execution_count": 64,
   "id": "60682bae",
   "metadata": {},
   "outputs": [
    {
     "data": {
      "text/plain": [
       "0.75"
      ]
     },
     "execution_count": 64,
     "metadata": {},
     "output_type": "execute_result"
    }
   ],
   "source": [
    "1-1/4"
   ]
  },
  {
   "cell_type": "markdown",
   "id": "71e93f3a",
   "metadata": {},
   "source": [
    "练习3-2"
   ]
  },
  {
   "cell_type": "code",
   "execution_count": 2,
   "id": "c865dabe",
   "metadata": {},
   "outputs": [
    {
     "name": "stdout",
     "output_type": "stream",
     "text": [
      "True <class 'bool'>\n",
      "False\n"
     ]
    }
   ],
   "source": [
    "# 布尔值也是原始数据类型 (注: 首字母大写)\n",
    "print (True, type (True))\n",
    "print (False)"
   ]
  },
  {
   "cell_type": "code",
   "execution_count": 3,
   "id": "343aa106",
   "metadata": {},
   "outputs": [
    {
     "name": "stdout",
     "output_type": "stream",
     "text": [
      "False\n",
      "True\n"
     ]
    }
   ],
   "source": [
    "# 用not作为负号\n",
    "print (not True)\n",
    "print (not False)"
   ]
  },
  {
   "cell_type": "code",
   "execution_count": 4,
   "id": "e2c15eed",
   "metadata": {},
   "outputs": [
    {
     "name": "stdout",
     "output_type": "stream",
     "text": [
      "False\n",
      "True\n"
     ]
    }
   ],
   "source": [
    "# 布尔运算\n",
    "# 逻辑运算\n",
    "# 注： \"and\" 和 \"or\" 需要注意大小写\n",
    "print (True and False)\n",
    "print (False or True)"
   ]
  },
  {
   "cell_type": "code",
   "execution_count": 5,
   "id": "4e659fbf",
   "metadata": {},
   "outputs": [
    {
     "name": "stdout",
     "output_type": "stream",
     "text": [
      "2\n",
      "8\n",
      "-5\n"
     ]
    }
   ],
   "source": [
    "# True 和 False 本质上是 1 和 0\n",
    "print(True + True)\n",
    "print (True *8)\n",
    "print (False - 5)"
   ]
  },
  {
   "cell_type": "code",
   "execution_count": 6,
   "id": "40a0c084",
   "metadata": {},
   "outputs": [
    {
     "name": "stdout",
     "output_type": "stream",
     "text": [
      "True\n",
      "True\n",
      "False\n",
      "True\n"
     ]
    }
   ],
   "source": [
    "# 布尔值和数值之间的对比运算\n",
    "print(0 == False)  # => True\n",
    "print(1 == True)   # => True\n",
    "print(2 == True)   # => False\n",
    "print(-5 != False) # => True"
   ]
  },
  {
   "cell_type": "code",
   "execution_count": 13,
   "id": "6bf5c75f",
   "metadata": {},
   "outputs": [
    {
     "name": "stdout",
     "output_type": "stream",
     "text": [
      "True\n"
     ]
    }
   ],
   "source": [
    "print(-5 != False) # => True"
   ]
  },
  {
   "cell_type": "code",
   "execution_count": 14,
   "id": "194d1e24",
   "metadata": {},
   "outputs": [
    {
     "name": "stdout",
     "output_type": "stream",
     "text": [
      "False\n",
      "True\n"
     ]
    }
   ],
   "source": [
    "print(bool(0))\n",
    "print(bool(4.))"
   ]
  },
  {
   "cell_type": "code",
   "execution_count": 15,
   "id": "84f9b092",
   "metadata": {},
   "outputs": [
    {
     "name": "stdout",
     "output_type": "stream",
     "text": [
      "False\n",
      "True\n",
      "True\n",
      "0\n",
      "-5\n"
     ]
    }
   ],
   "source": [
    "# 将整数用于布尔逻辑运算，输出结果又是什么样的？\n",
    "print(bool(0))     # => False\n",
    "print(bool(4.))     # => True\n",
    "print(bool(-6))    # => True\n",
    "print(0 and 2 )    # => 0\n",
    "print(-5 or 0)     # => -5"
   ]
  },
  {
   "cell_type": "code",
   "execution_count": 16,
   "id": "eff7f1c0",
   "metadata": {},
   "outputs": [
    {
     "name": "stdout",
     "output_type": "stream",
     "text": [
      "1\n",
      "2\n",
      "2\n",
      "2\n",
      "1\n"
     ]
    }
   ],
   "source": [
    "# and中含0，返回0； 均为非0时，返回后一个值\n",
    "print(2 and 1)  # => 1\n",
    "print(1 and 2)  # => 2\n",
    "# or中， 至少有一个非0时，返回第一个非0\n",
    "print(2 or 0)  # => 2\n",
    "print(2 or 1)  # => 2\n",
    "print(0 or 1)  # => 1 "
   ]
  },
  {
   "cell_type": "code",
   "execution_count": 17,
   "id": "8f553e2e",
   "metadata": {},
   "outputs": [
    {
     "name": "stdout",
     "output_type": "stream",
     "text": [
      "True\n",
      "False\n"
     ]
    }
   ],
   "source": [
    "# 等于符号是==\n",
    "print(1 == 1)  # => True\n",
    "print(2 == 1)  # => False"
   ]
  },
  {
   "cell_type": "code",
   "execution_count": 18,
   "id": "ea2d7dca",
   "metadata": {},
   "outputs": [
    {
     "name": "stdout",
     "output_type": "stream",
     "text": [
      "False\n",
      "True\n"
     ]
    }
   ],
   "source": [
    "# 不等于符号是!=\n",
    "print(1 != 1)  # => False\n",
    "print(2 != 1)  # => True"
   ]
  },
  {
   "cell_type": "code",
   "execution_count": 19,
   "id": "4c1c344f",
   "metadata": {},
   "outputs": [
    {
     "name": "stdout",
     "output_type": "stream",
     "text": [
      "True\n",
      "False\n",
      "True\n",
      "True\n"
     ]
    }
   ],
   "source": [
    "# 更多比较符号\n",
    "print(1 < 10)  # => True\n",
    "print(1 > 10)  # => False\n",
    "print(2 <= 2)  # => True\n",
    "print(2 >= 2)  # => True"
   ]
  },
  {
   "cell_type": "code",
   "execution_count": 20,
   "id": "2779121f",
   "metadata": {},
   "outputs": [
    {
     "name": "stdout",
     "output_type": "stream",
     "text": [
      "True\n",
      "False\n",
      "#===这样写会更好===#\n",
      "True\n",
      "False\n"
     ]
    }
   ],
   "source": [
    "# 观察数值是否在一定区间内\n",
    "print(1 < 2 and 2 < 3)  # => True\n",
    "print(2 < 3 and 3 < 2)  # => False\n",
    "print('#===这样写会更好===#')\n",
    "print(1 < 2 < 3)  # => True\n",
    "print(2 < 3 < 2)  # => False"
   ]
  },
  {
   "cell_type": "code",
   "execution_count": 21,
   "id": "670457d9",
   "metadata": {},
   "outputs": [
    {
     "name": "stdout",
     "output_type": "stream",
     "text": [
      "True\n",
      "True\n"
     ]
    }
   ],
   "source": [
    "# (is vs. ==)\n",
    "# is 是检查两个变量是否指向同一个对象\n",
    "# 但==是检查变量指向的对象是否是相同的值\n",
    "a = [1, 2, 3, 4]  # 创建一个新的list对象——[1, 2, 3, 4]，赋值给变量a\n",
    "b = a             # 将a再赋值给变量b\n",
    "print(b is a)     # => True, a和b指向同一个对象\n",
    "print(b == a)     # => True, a指向的对象和b指向的对象值相同"
   ]
  },
  {
   "cell_type": "code",
   "execution_count": 22,
   "id": "4ffa1ef0",
   "metadata": {},
   "outputs": [
    {
     "name": "stdout",
     "output_type": "stream",
     "text": [
      "[1, 2, 3, 4]\n"
     ]
    }
   ],
   "source": [
    "print(b)"
   ]
  },
  {
   "cell_type": "code",
   "execution_count": 23,
   "id": "a5a4a30f",
   "metadata": {},
   "outputs": [
    {
     "name": "stdout",
     "output_type": "stream",
     "text": [
      "[1, 2, 3, 4, 1, 2, 3, 4]\n"
     ]
    }
   ],
   "source": [
    "print (b+a)"
   ]
  },
  {
   "cell_type": "code",
   "execution_count": 25,
   "id": "8c22f445",
   "metadata": {},
   "outputs": [],
   "source": [
    "import pandas as pd\n",
    "import numpy as np\n"
   ]
  },
  {
   "cell_type": "code",
   "execution_count": 30,
   "id": "7e123b4b",
   "metadata": {},
   "outputs": [
    {
     "name": "stdout",
     "output_type": "stream",
     "text": [
      "0    76\n",
      "1    70\n",
      "2    55\n",
      "3    93\n",
      "4    77\n",
      "5    32\n",
      "6    32\n",
      "7    15\n",
      "dtype: int32\n"
     ]
    }
   ],
   "source": [
    "s =pd.Series(np.random.randint(100, size=(8,)))\n",
    "print (s)"
   ]
  },
  {
   "cell_type": "code",
   "execution_count": 31,
   "id": "9c5fcb0c",
   "metadata": {},
   "outputs": [
    {
     "data": {
      "text/plain": [
       "0    76\n",
       "1    70\n",
       "2    55\n",
       "3    93\n",
       "4    77\n",
       "5    32\n",
       "6    32\n",
       "7    15\n",
       "dtype: int32"
      ]
     },
     "execution_count": 31,
     "metadata": {},
     "output_type": "execute_result"
    }
   ],
   "source": [
    "s"
   ]
  },
  {
   "cell_type": "code",
   "execution_count": 32,
   "id": "b091a346",
   "metadata": {
    "scrolled": true
   },
   "outputs": [
    {
     "data": {
      "text/plain": [
       "0     True\n",
       "1     True\n",
       "2     True\n",
       "3     True\n",
       "4     True\n",
       "5    False\n",
       "6    False\n",
       "7    False\n",
       "dtype: bool"
      ]
     },
     "execution_count": 32,
     "metadata": {},
     "output_type": "execute_result"
    }
   ],
   "source": [
    "s > 50"
   ]
  },
  {
   "cell_type": "code",
   "execution_count": 33,
   "id": "2c8d8818",
   "metadata": {},
   "outputs": [
    {
     "data": {
      "text/plain": [
       "5"
      ]
     },
     "execution_count": 33,
     "metadata": {},
     "output_type": "execute_result"
    }
   ],
   "source": [
    "sum(s>50)"
   ]
  },
  {
   "cell_type": "markdown",
   "id": "b469c26b",
   "metadata": {},
   "source": [
    "练习4-1"
   ]
  },
  {
   "cell_type": "markdown",
   "id": "3b6f2c8a",
   "metadata": {},
   "source": [
    "字符串是一种不可变对象，一旦创建不可更改"
   ]
  },
  {
   "cell_type": "code",
   "execution_count": 37,
   "id": "9205b2e3",
   "metadata": {},
   "outputs": [
    {
     "name": "stdout",
     "output_type": "stream",
     "text": [
      "This is a string.\n",
      "This is also a string.\n"
     ]
    }
   ],
   "source": [
    "# 用\"或者'创建字符串\n",
    "print(\"This is a string.\")\n",
    "print('This is also a string.')"
   ]
  },
  {
   "cell_type": "code",
   "execution_count": 38,
   "id": "b1cd3db3",
   "metadata": {},
   "outputs": [
    {
     "name": "stdout",
     "output_type": "stream",
     "text": [
      "Hello world!\n",
      "Hello world!\n",
      "Hello world! learn python\n"
     ]
    }
   ],
   "source": [
    "# 字符串也可以用加号相加,但不推荐这么做\n",
    "print(\"Hello \" + \"world!\")  # => \"Hello world!\"\n",
    "# 字面上的字符串可以直接拼接，但变量字符串不可以\n",
    "print(\"Hello \"\"world!\")    # => \"Hello world!\"\n",
    "# hello = 'Hello '\n",
    "# world = 'world!'\n",
    "# print(hello world)  # => SyntaxError: invalid syntax\n",
    "# 也可以用join()\n",
    "print(' '.join(['Hello', 'world!', 'learn', 'python']))"
   ]
  },
  {
   "cell_type": "code",
   "execution_count": 39,
   "id": "64356662",
   "metadata": {},
   "outputs": [
    {
     "data": {
      "text/plain": [
       "'helloworld'"
      ]
     },
     "execution_count": 39,
     "metadata": {},
     "output_type": "execute_result"
    }
   ],
   "source": [
    "\"hello\" + \"world\""
   ]
  },
  {
   "cell_type": "code",
   "execution_count": 42,
   "id": "e99dfa39",
   "metadata": {},
   "outputs": [
    {
     "data": {
      "text/plain": [
       "'hello world'"
      ]
     },
     "execution_count": 42,
     "metadata": {},
     "output_type": "execute_result"
    }
   ],
   "source": [
    "\"hello \"\"world\""
   ]
  },
  {
   "cell_type": "code",
   "execution_count": 44,
   "id": "3bc7270a",
   "metadata": {},
   "outputs": [
    {
     "data": {
      "text/plain": [
       "'hello world!'"
      ]
     },
     "execution_count": 44,
     "metadata": {},
     "output_type": "execute_result"
    }
   ],
   "source": [
    "hello = 'hello '\n",
    "world = 'world!'\n",
    "hello + world"
   ]
  },
  {
   "cell_type": "code",
   "execution_count": 45,
   "id": "f26b9b61",
   "metadata": {},
   "outputs": [
    {
     "data": {
      "text/plain": [
       "16"
      ]
     },
     "execution_count": 45,
     "metadata": {},
     "output_type": "execute_result"
    }
   ],
   "source": [
    "# 计算字符串的长度\n",
    "len(\"This is a string\")  # => 16"
   ]
  },
  {
   "cell_type": "code",
   "execution_count": 3,
   "id": "b0642313",
   "metadata": {},
   "outputs": [
    {
     "name": "stdout",
     "output_type": "stream",
     "text": [
      "小时候，\n",
      "乡愁是一枚小小的邮票，\n",
      "我在这头，\n",
      "母亲在那头。\n",
      "\n",
      "====================\n",
      "30\n"
     ]
    }
   ],
   "source": [
    "# 用三个引号包裹，形成多行字符串\n",
    "xiangchou = '''小时候，\n",
    "乡愁是一枚小小的邮票，\n",
    "我在这头，\n",
    "母亲在那头。\n",
    "'''\n",
    "print(xiangchou)\n",
    "print('='*20)\n",
    "print(len(xiangchou))\n"
   ]
  },
  {
   "cell_type": "code",
   "execution_count": 4,
   "id": "94467e6e",
   "metadata": {},
   "outputs": [
    {
     "name": "stdout",
     "output_type": "stream",
     "text": [
      "小时候，\n",
      "乡愁是一枚小小的邮票，\n",
      "我在这头，\n",
      "母亲在那头。\n",
      "\n"
     ]
    }
   ],
   "source": [
    "print (xiangchou)"
   ]
  },
  {
   "cell_type": "code",
   "execution_count": 1,
   "id": "5dafcfcc",
   "metadata": {},
   "outputs": [],
   "source": [
    "# 用三个引号包裹，形成多行字符串\n",
    "xiangchou_a = \"kaiping\""
   ]
  },
  {
   "cell_type": "code",
   "execution_count": 2,
   "id": "865182e4",
   "metadata": {},
   "outputs": [
    {
     "name": "stdout",
     "output_type": "stream",
     "text": [
      "kaiping\n"
     ]
    }
   ],
   "source": [
    "print (xiangchou_a)"
   ]
  },
  {
   "cell_type": "code",
   "execution_count": 6,
   "id": "0f813276",
   "metadata": {},
   "outputs": [
    {
     "name": "stdout",
     "output_type": "stream",
     "text": [
      "小时候，\n",
      "乡愁是一枚小小的邮票，\n",
      "我在这头，\n",
      "母亲在那头。\n",
      "\n",
      "小时候，\n",
      "乡愁是一枚小小的邮票，\n",
      "我在这头，\n",
      "母亲在那头。\n",
      "====================\n",
      "29\n"
     ]
    }
   ],
   "source": [
    "# 另一种写法: 制表符\n",
    "# 换行\\n，占一个长度\n",
    "xiangchou_1 = '小时候，\\n乡愁是一枚小小的邮票，\\n我在这头，\\n母亲在那头。\\n'  \n",
    "print(xiangchou_1)\n",
    "xiangchou_2 = '小时候，\\n乡愁是一枚小小的邮票，\\n我在这头，\\n母亲在那头。'\n",
    "print (xiangchou_2)\n",
    "print('='*20)\n",
    "print(len(xiangchou_2))"
   ]
  },
  {
   "cell_type": "code",
   "execution_count": 9,
   "id": "ee909279",
   "metadata": {},
   "outputs": [
    {
     "name": "stdout",
     "output_type": "stream",
     "text": [
      "I'm a human being. \n",
      "I say \"I love animals.\"\n"
     ]
    }
   ],
   "source": [
    "print('I\\'m a human being. \\nI say \"I love animals.\"')"
   ]
  },
  {
   "cell_type": "code",
   "execution_count": 14,
   "id": "a2ccb294",
   "metadata": {},
   "outputs": [
    {
     "data": {
      "text/plain": [
       "\"I'm a human being.\""
      ]
     },
     "execution_count": 14,
     "metadata": {},
     "output_type": "execute_result"
    }
   ],
   "source": [
    "'I\\'m a human being.'"
   ]
  },
  {
   "cell_type": "code",
   "execution_count": 15,
   "id": "98857cc6",
   "metadata": {},
   "outputs": [
    {
     "name": "stdout",
     "output_type": "stream",
     "text": [
      "I'm a cat\n"
     ]
    }
   ],
   "source": [
    "# 反斜线\\，转义符\n",
    "backslash_cat = 'I\\'m a cat'\n",
    "print (backslash_cat)"
   ]
  },
  {
   "cell_type": "code",
   "execution_count": 16,
   "id": "347cdc3a",
   "metadata": {},
   "outputs": [
    {
     "name": "stdout",
     "output_type": "stream",
     "text": [
      "I'll do a list:\n",
      "\t* Cat food\n",
      "\t* Fishies\n",
      "\t* Catnip\n",
      "\t* Grass\n",
      "\n",
      "\n"
     ]
    }
   ],
   "source": [
    "fat_cat = '''I'll do a list:\n",
    "\\t* Cat food\n",
    "\\t* Fishies\n",
    "\\t* Catnip\\n\\t* Grass\n",
    "\n",
    "'''\n",
    "print (fat_cat)"
   ]
  },
  {
   "cell_type": "code",
   "execution_count": 29,
   "id": "d317e209",
   "metadata": {},
   "outputs": [
    {
     "data": {
      "text/plain": [
       "\"'\""
      ]
     },
     "execution_count": 29,
     "metadata": {},
     "output_type": "execute_result"
    }
   ],
   "source": [
    "'\\''\n"
   ]
  },
  {
   "cell_type": "markdown",
   "id": "85227a5e",
   "metadata": {},
   "source": [
    "常见问题\n",
    "关于转义字符不是很理解，我该继续学习下去么？\n",
    " 用//或/n跑不通\n",
    "'''和\"\"\"那个更好"
   ]
  },
  {
   "cell_type": "markdown",
   "id": "5d88b0e8",
   "metadata": {},
   "source": [
    "练习4-2"
   ]
  },
  {
   "cell_type": "code",
   "execution_count": 72,
   "id": "af848f98",
   "metadata": {},
   "outputs": [
    {
     "name": "stdout",
     "output_type": "stream",
     "text": [
      "This is a string\n"
     ]
    }
   ],
   "source": [
    "# 一个字符串可以像list一样操作\n",
    "# 取某个元素\n",
    "\n",
    "s = \"This is a string\"\n",
    "print(s)"
   ]
  },
  {
   "cell_type": "code",
   "execution_count": 38,
   "id": "87166cfe",
   "metadata": {},
   "outputs": [
    {
     "name": "stdout",
     "output_type": "stream",
     "text": [
      "16\n"
     ]
    }
   ],
   "source": [
    "print(len(s))"
   ]
  },
  {
   "cell_type": "code",
   "execution_count": 39,
   "id": "2b905235",
   "metadata": {},
   "outputs": [
    {
     "data": {
      "text/plain": [
       "'T'"
      ]
     },
     "execution_count": 39,
     "metadata": {},
     "output_type": "execute_result"
    }
   ],
   "source": [
    "s[0]"
   ]
  },
  {
   "cell_type": "code",
   "execution_count": 41,
   "id": "eb16cf78",
   "metadata": {},
   "outputs": [
    {
     "data": {
      "text/plain": [
       "'g'"
      ]
     },
     "execution_count": 41,
     "metadata": {},
     "output_type": "execute_result"
    }
   ],
   "source": [
    "s[-1]"
   ]
  },
  {
   "cell_type": "code",
   "execution_count": 42,
   "id": "5a8d00f4",
   "metadata": {},
   "outputs": [
    {
     "name": "stdout",
     "output_type": "stream",
     "text": [
      "This is a string\n",
      "This is a string\n"
     ]
    }
   ],
   "source": [
    "print ('This is a string')\n",
    "print (\"This is a string\")"
   ]
  },
  {
   "cell_type": "code",
   "execution_count": 52,
   "id": "b19d074e",
   "metadata": {},
   "outputs": [
    {
     "name": "stdout",
     "output_type": "stream",
     "text": [
      "This\n"
     ]
    }
   ],
   "source": [
    "# 切片操作[:]\n",
    "# [start:stop]\n",
    "print (s[0:4])  # 取0到4(不包含)，等价于s[0:4]"
   ]
  },
  {
   "cell_type": "code",
   "execution_count": 53,
   "id": "b46e1e58",
   "metadata": {},
   "outputs": [
    {
     "name": "stdout",
     "output_type": "stream",
     "text": [
      " is\n"
     ]
    }
   ],
   "source": [
    "print (s[4:7])"
   ]
  },
  {
   "cell_type": "code",
   "execution_count": 54,
   "id": "17aacdcc",
   "metadata": {},
   "outputs": [
    {
     "name": "stdout",
     "output_type": "stream",
     "text": [
      " is a string\n"
     ]
    }
   ],
   "source": [
    "print(s[4:])"
   ]
  },
  {
   "cell_type": "code",
   "execution_count": 55,
   "id": "a6b89c38",
   "metadata": {},
   "outputs": [
    {
     "name": "stdout",
     "output_type": "stream",
     "text": [
      "This\n",
      " is\n",
      " is a string\n",
      " is a strin\n"
     ]
    }
   ],
   "source": [
    "print(s[:4])  # 取0到4(不包含)，等价于s[0:4]\n",
    "print(s[4:7])  # 取4到7(不包含)\n",
    "print(s[4:])  # 取4到最后一个(包含), 等价于s[4:16]\n",
    "print(s[4:-1])  # 取4到最后一个(不包含), 等价于s[4:len(s)-1]"
   ]
  },
  {
   "cell_type": "code",
   "execution_count": 57,
   "id": "efa5a468",
   "metadata": {},
   "outputs": [
    {
     "name": "stdout",
     "output_type": "stream",
     "text": [
      "gnirts a si sihT\n"
     ]
    }
   ],
   "source": [
    "# 切片操作进阶[::]\n",
    "# [start:stop:step]\n",
    "print(s[::-1])# 取全部字符串，步长为-1，即倒着一步步走 (倒写)"
   ]
  },
  {
   "cell_type": "code",
   "execution_count": 70,
   "id": "d31b84b9",
   "metadata": {},
   "outputs": [
    {
     "name": "stdout",
     "output_type": "stream",
     "text": [
      "\n",
      "\n",
      "\n"
     ]
    }
   ],
   "source": [
    "print(s[2:6:2])\n",
    "print(s[5::3])\n",
    "print(s[:-1:2])"
   ]
  },
  {
   "cell_type": "code",
   "execution_count": 74,
   "id": "960b016e",
   "metadata": {},
   "outputs": [
    {
     "data": {
      "text/plain": [
       "'s is a string'"
      ]
     },
     "execution_count": 74,
     "metadata": {},
     "output_type": "execute_result"
    }
   ],
   "source": [
    "s[3:16]"
   ]
  },
  {
   "cell_type": "code",
   "execution_count": 60,
   "id": "1a95c89d",
   "metadata": {},
   "outputs": [
    {
     "name": "stdout",
     "output_type": "stream",
     "text": [
      "T\n",
      "h\n",
      "i\n",
      "s\n",
      " \n",
      "i\n",
      "s\n",
      " \n",
      "a\n",
      " \n",
      "s\n",
      "t\n",
      "r\n",
      "i\n",
      "n\n",
      "g\n"
     ]
    }
   ],
   "source": [
    "# 可以通过for循环，遍历字符串中的每一个元素\n",
    "for i in s:\n",
    "    print (i)"
   ]
  },
  {
   "cell_type": "markdown",
   "id": "2f7a4651",
   "metadata": {},
   "source": [
    "常见问题\n",
    "字符串和list的操作是一模一样的么？\n",
    "IndexError: string index out of range"
   ]
  },
  {
   "cell_type": "markdown",
   "id": "a195b713",
   "metadata": {},
   "source": [
    "练习4-3"
   ]
  },
  {
   "cell_type": "code",
   "execution_count": 103,
   "id": "869a79f3",
   "metadata": {},
   "outputs": [
    {
     "data": {
      "text/plain": [
       "3"
      ]
     },
     "execution_count": 103,
     "metadata": {},
     "output_type": "execute_result"
    }
   ],
   "source": [
    "s = \"   This is a string.\"\n",
    "s.count('s')"
   ]
  },
  {
   "cell_type": "code",
   "execution_count": 104,
   "id": "95c8308b",
   "metadata": {},
   "outputs": [
    {
     "data": {
      "text/plain": [
       "'   THIS IS A STRING.'"
      ]
     },
     "execution_count": 104,
     "metadata": {},
     "output_type": "execute_result"
    }
   ],
   "source": [
    "s.upper()"
   ]
  },
  {
   "cell_type": "code",
   "execution_count": 69,
   "id": "fc208671",
   "metadata": {},
   "outputs": [
    {
     "data": {
      "text/plain": [
       "'T'"
      ]
     },
     "execution_count": 69,
     "metadata": {},
     "output_type": "execute_result"
    }
   ],
   "source": [
    "\"This is a cat\" [0]"
   ]
  },
  {
   "cell_type": "code",
   "execution_count": 81,
   "id": "a0a09b5c",
   "metadata": {},
   "outputs": [
    {
     "data": {
      "text/plain": [
       "3"
      ]
     },
     "execution_count": 81,
     "metadata": {},
     "output_type": "execute_result"
    }
   ],
   "source": [
    "s.count('s')"
   ]
  },
  {
   "cell_type": "code",
   "execution_count": 65,
   "id": "85feebbf",
   "metadata": {},
   "outputs": [
    {
     "data": {
      "text/plain": [
       "'   THIS IS A STRING.'"
      ]
     },
     "execution_count": 65,
     "metadata": {},
     "output_type": "execute_result"
    }
   ],
   "source": [
    "s.upper()"
   ]
  },
  {
   "cell_type": "code",
   "execution_count": 82,
   "id": "5d4b179f",
   "metadata": {},
   "outputs": [
    {
     "data": {
      "text/plain": [
       "['', '', '', 'This', 'is', 'a', 'string.']"
      ]
     },
     "execution_count": 82,
     "metadata": {},
     "output_type": "execute_result"
    }
   ],
   "source": [
    "s.split(' ')"
   ]
  },
  {
   "cell_type": "code",
   "execution_count": 85,
   "id": "dec6cc29",
   "metadata": {},
   "outputs": [
    {
     "data": {
      "text/plain": [
       "'This is a string.'"
      ]
     },
     "execution_count": 85,
     "metadata": {},
     "output_type": "execute_result"
    }
   ],
   "source": [
    "s.lstrip()"
   ]
  },
  {
   "cell_type": "code",
   "execution_count": 86,
   "id": "3c984eac",
   "metadata": {},
   "outputs": [
    {
     "data": {
      "text/plain": [
       "'This is a string.'"
      ]
     },
     "execution_count": 86,
     "metadata": {},
     "output_type": "execute_result"
    }
   ],
   "source": [
    "s.strip()"
   ]
  },
  {
   "cell_type": "code",
   "execution_count": 89,
   "id": "c7851409",
   "metadata": {},
   "outputs": [
    {
     "data": {
      "text/plain": [
       "654321.123456"
      ]
     },
     "execution_count": 89,
     "metadata": {},
     "output_type": "execute_result"
    }
   ],
   "source": [
    "# 应用\n",
    "s= '    123456.654321'# 变成654321.123456\n",
    "float('.'.join(s.lstrip().split('.')[::-1]))"
   ]
  },
  {
   "cell_type": "code",
   "execution_count": 94,
   "id": "14a2e564",
   "metadata": {},
   "outputs": [
    {
     "data": {
      "text/plain": [
       "['654321', '123456']"
      ]
     },
     "execution_count": 94,
     "metadata": {},
     "output_type": "execute_result"
    }
   ],
   "source": [
    "s.lstrip().split('.')[::-1]"
   ]
  },
  {
   "cell_type": "code",
   "execution_count": 95,
   "id": "b7736853",
   "metadata": {},
   "outputs": [
    {
     "data": {
      "text/plain": [
       "654321.123456"
      ]
     },
     "execution_count": 95,
     "metadata": {},
     "output_type": "execute_result"
    }
   ],
   "source": [
    "float('.'.join(s.lstrip().split('.')[::-1]))"
   ]
  },
  {
   "cell_type": "code",
   "execution_count": 98,
   "id": "0b579d61",
   "metadata": {},
   "outputs": [
    {
     "name": "stdout",
     "output_type": "stream",
     "text": [
      "True\n",
      "True\n",
      "sz000001\n"
     ]
    }
   ],
   "source": [
    "stock = \"sh000001\"\n",
    "print(stock.startswith('sh'))\n",
    "print(stock.endswith(\"1\"))\n",
    "print(stock.replace('sh','sz'))"
   ]
  },
  {
   "cell_type": "code",
   "execution_count": 102,
   "id": "5b135443",
   "metadata": {},
   "outputs": [
    {
     "data": {
      "text/plain": [
       "'    123456.654321'"
      ]
     },
     "execution_count": 102,
     "metadata": {},
     "output_type": "execute_result"
    }
   ],
   "source": [
    "s.upper()"
   ]
  },
  {
   "cell_type": "markdown",
   "id": "6d82710c",
   "metadata": {},
   "source": [
    "常见问题\n",
    "我需要把字符串的所有函数都学习完，才能继续后面的学习么？\n",
    "字符串的函数调用和print函数调用方法为什么不一样？\n",
    "字符串是不可变对象，为什么s.upper()改变了字符串？"
   ]
  },
  {
   "cell_type": "markdown",
   "id": "48cf922d",
   "metadata": {},
   "source": [
    "练习4-4"
   ]
  },
  {
   "cell_type": "code",
   "execution_count": 1,
   "id": "76c3112f",
   "metadata": {},
   "outputs": [
    {
     "data": {
      "text/plain": [
       "'Strings can be interpolated'"
      ]
     },
     "execution_count": 1,
     "metadata": {},
     "output_type": "execute_result"
    }
   ],
   "source": [
    "# .format能用于格式化字符串\n",
    "\"{} can be {}\".format(\"Strings\", \"interpolated\")  # => \"Strings can be interpolated\""
   ]
  },
  {
   "cell_type": "code",
   "execution_count": 2,
   "id": "49c2a5e2",
   "metadata": {},
   "outputs": [
    {
     "data": {
      "text/plain": [
       "'he can be a cat'"
      ]
     },
     "execution_count": 2,
     "metadata": {},
     "output_type": "execute_result"
    }
   ],
   "source": [
    "\"{} can be {}\".format(\"he\", \"a cat\")"
   ]
  },
  {
   "cell_type": "code",
   "execution_count": 4,
   "id": "90c292d5",
   "metadata": {},
   "outputs": [
    {
     "name": "stdout",
     "output_type": "stream",
     "text": [
      "1 2 3 4\n"
     ]
    }
   ],
   "source": [
    "# 小练习\n",
    "formatter = \"{} {} {} {}\"\n",
    "print(formatter.format(1,2,3,4))"
   ]
  },
  {
   "cell_type": "code",
   "execution_count": 5,
   "id": "84607d62",
   "metadata": {},
   "outputs": [
    {
     "name": "stdout",
     "output_type": "stream",
     "text": [
      "One Two Three Four\n"
     ]
    }
   ],
   "source": [
    "print(formatter.format('One', 'Two', 'Three', 'Four'))"
   ]
  },
  {
   "cell_type": "code",
   "execution_count": 6,
   "id": "9a8fe4c4",
   "metadata": {},
   "outputs": [
    {
     "name": "stdout",
     "output_type": "stream",
     "text": [
      "True False False True\n"
     ]
    }
   ],
   "source": [
    "print(formatter.format(True, False, False, True))"
   ]
  },
  {
   "cell_type": "code",
   "execution_count": 7,
   "id": "a92c9055",
   "metadata": {},
   "outputs": [
    {
     "name": "stdout",
     "output_type": "stream",
     "text": [
      "{} {} {} {} {} {} {} {} {} {} {} {} {} {} {} {}\n"
     ]
    }
   ],
   "source": [
    "print(formatter.format(formatter, formatter, formatter, formatter))"
   ]
  },
  {
   "cell_type": "code",
   "execution_count": 9,
   "id": "85ba0579",
   "metadata": {},
   "outputs": [
    {
     "name": "stdout",
     "output_type": "stream",
     "text": [
      "Try your Own text here Maybe a poem Or a song about fear\n"
     ]
    }
   ],
   "source": [
    "print(formatter.format('Try your',\n",
    "                      'Own text here',\n",
    "                      'Maybe a poem',\n",
    "                      'Or a song about fear'))"
   ]
  },
  {
   "cell_type": "code",
   "execution_count": 10,
   "id": "a2c4b470",
   "metadata": {},
   "outputs": [
    {
     "data": {
      "text/plain": [
       "'Jack be nimble, Jack be quick, Jack jump over the candle stick'"
      ]
     },
     "execution_count": 10,
     "metadata": {},
     "output_type": "execute_result"
    }
   ],
   "source": [
    "# 那你可以重复引用格式化对象\n",
    "\"{0} be nimble, {0} be quick, {0} jump over the {1}\".format(\"Jack\", \"candle stick\")\n",
    "# => \"Jack be nimble, Jack be quick, Jack jump over the candle stick\""
   ]
  },
  {
   "cell_type": "code",
   "execution_count": 11,
   "id": "1ac72e44",
   "metadata": {},
   "outputs": [
    {
     "data": {
      "text/plain": [
       "'Bob wants to eat lasagna'"
      ]
     },
     "execution_count": 11,
     "metadata": {},
     "output_type": "execute_result"
    }
   ],
   "source": [
    "# 你也可以用关键词来引用格式化对象\n",
    "\"{name} wants to eat {food}\".format(food=\"lasagna\", name=\"Bob\")  # => \"Bob wants to eat lasagna\""
   ]
  },
  {
   "cell_type": "code",
   "execution_count": 12,
   "id": "840b0826",
   "metadata": {},
   "outputs": [
    {
     "data": {
      "text/plain": [
       "'She said her name is Reiko.'"
      ]
     },
     "execution_count": 12,
     "metadata": {},
     "output_type": "execute_result"
    }
   ],
   "source": [
    "# 你也可以利用f-strings进行格式化 (要求Python 3.6及以上版本)\n",
    "name = \"Reiko\"\n",
    "f\"She said her name is {name}.\" # => \"She said her name is Reiko\""
   ]
  },
  {
   "cell_type": "code",
   "execution_count": 13,
   "id": "c6874c8d",
   "metadata": {},
   "outputs": [
    {
     "data": {
      "text/plain": [
       "'Reiko is 5 characters long.'"
      ]
     },
     "execution_count": 13,
     "metadata": {},
     "output_type": "execute_result"
    }
   ],
   "source": [
    "# 你也可以将一些基础的Python用语放到大括号内，它最终也会输出在字符串中\n",
    "f\"{name} is {len(name)} characters long.\""
   ]
  },
  {
   "cell_type": "code",
   "execution_count": 15,
   "id": "7a4c9b3e",
   "metadata": {},
   "outputs": [
    {
     "data": {
      "text/plain": [
       "'Ken is a dog'"
      ]
     },
     "execution_count": 15,
     "metadata": {},
     "output_type": "execute_result"
    }
   ],
   "source": [
    "name=\"Ken\"\n",
    "cat =\"dog\"\n",
    "f\"{name} is a {cat}\"\n"
   ]
  },
  {
   "cell_type": "code",
   "execution_count": 16,
   "id": "2b541726",
   "metadata": {},
   "outputs": [
    {
     "data": {
      "text/plain": [
       "'Ken will not eat the dog'"
      ]
     },
     "execution_count": 16,
     "metadata": {},
     "output_type": "execute_result"
    }
   ],
   "source": [
    "f\"{name} will not eat the {cat}\""
   ]
  },
  {
   "cell_type": "code",
   "execution_count": 25,
   "id": "d5276f1f",
   "metadata": {},
   "outputs": [
    {
     "name": "stdout",
     "output_type": "stream",
     "text": [
      "PI =  3.1415926\n",
      "PI = 3.141593\n",
      "PI = 3.14\n",
      "PI =       3.14\n",
      "PI = 0000003.14\n"
     ]
    },
    {
     "data": {
      "text/plain": [
       "'股票涨幅为0.26%'"
      ]
     },
     "execution_count": 25,
     "metadata": {},
     "output_type": "execute_result"
    }
   ],
   "source": [
    "pi = 3.1415926\n",
    "print(f'PI = {pi:10}')\n",
    "print(f'PI = {pi:f}')\n",
    "print(f'PI = {pi:.2f}')\n",
    "print(f'PI = {pi:10.2f}')\n",
    "print(f'PI = {pi:010.2f}')\n",
    "\n",
    "price_change= 0.00261457\n",
    "f\"股票涨幅为{price_change*100:.2f}%\""
   ]
  },
  {
   "cell_type": "markdown",
   "id": "73a6db5d",
   "metadata": {},
   "source": [
    "常见思考\n",
    "1.为什么'One'要加引号，True or False没有加引号？\n",
    "2.不同格式化方法之间的转换"
   ]
  },
  {
   "cell_type": "markdown",
   "id": "a55db250",
   "metadata": {},
   "source": [
    "练习5"
   ]
  },
  {
   "cell_type": "code",
   "execution_count": 21,
   "id": "d96c82b9",
   "metadata": {},
   "outputs": [
    {
     "name": "stdout",
     "output_type": "stream",
     "text": [
      "None\n"
     ]
    }
   ],
   "source": [
    "# None是一个对象\n",
    "None  # => None\n",
    "print (None)"
   ]
  },
  {
   "cell_type": "code",
   "execution_count": 26,
   "id": "af2c753f",
   "metadata": {},
   "outputs": [
    {
     "data": {
      "text/plain": [
       "NoneType"
      ]
     },
     "execution_count": 26,
     "metadata": {},
     "output_type": "execute_result"
    }
   ],
   "source": [
    "type(None)"
   ]
  },
  {
   "cell_type": "code",
   "execution_count": 27,
   "id": "440bed86",
   "metadata": {},
   "outputs": [
    {
     "name": "stdout",
     "output_type": "stream",
     "text": [
      "False\n",
      "True\n"
     ]
    },
    {
     "name": "stderr",
     "output_type": "stream",
     "text": [
      "<>:3: SyntaxWarning: \"is\" with a literal. Did you mean \"==\"?\n",
      "<>:3: SyntaxWarning: \"is\" with a literal. Did you mean \"==\"?\n",
      "C:\\Users\\huang\\AppData\\Local\\Temp\\ipykernel_19176\\3917361851.py:3: SyntaxWarning: \"is\" with a literal. Did you mean \"==\"?\n",
      "  print(\"etc\" is None)  # => False\n"
     ]
    }
   ],
   "source": [
    "# 不要用等号\"==\"去和None对象进行比较\n",
    "# 用\"is\"\n",
    "print(\"etc\" is None)  # => False\n",
    "print(None is None)   # => True"
   ]
  },
  {
   "cell_type": "code",
   "execution_count": 28,
   "id": "00fe6a40",
   "metadata": {},
   "outputs": [
    {
     "name": "stdout",
     "output_type": "stream",
     "text": [
      "False\n",
      "False\n",
      "False\n",
      "False\n",
      "False\n"
     ]
    }
   ],
   "source": [
    "# None, 0, 和空的字符串、列表、字典、元组，均等价于False\n",
    "# 其他都等价于True\n",
    "print(bool(0))   # => False\n",
    "print(bool(\"\"))  # => False\n",
    "print(bool([]))  # => False\n",
    "print(bool({}))  # => False\n",
    "print(bool(()))  # => False"
   ]
  },
  {
   "cell_type": "markdown",
   "id": "3039319e",
   "metadata": {},
   "source": [
    "常见思考\n",
    "==和is的区别"
   ]
  },
  {
   "cell_type": "code",
   "execution_count": 35,
   "id": "bf956a6d",
   "metadata": {},
   "outputs": [
    {
     "data": {
      "text/plain": [
       "True"
      ]
     },
     "execution_count": 35,
     "metadata": {},
     "output_type": "execute_result"
    }
   ],
   "source": [
    "name1==\"cat\"\n"
   ]
  },
  {
   "cell_type": "code",
   "execution_count": 36,
   "id": "5d2825e5",
   "metadata": {},
   "outputs": [
    {
     "data": {
      "text/plain": [
       "'cat will eat mouse'"
      ]
     },
     "execution_count": 36,
     "metadata": {},
     "output_type": "execute_result"
    }
   ],
   "source": [
    "f\"{name1} will eat mouse\""
   ]
  },
  {
   "cell_type": "markdown",
   "id": "a1e04b4d",
   "metadata": {},
   "source": [
    "列表"
   ]
  },
  {
   "cell_type": "markdown",
   "id": "e26d7fab",
   "metadata": {},
   "source": [
    "列表就是用来存储一连串元素的容器，存储的是列表内元素的指引；\n",
    "\n",
    "列表是可变对象，列表里面的元素的值可以修改；\n",
    "\n",
    "列表用[]来表示，并用逗号来分隔其中的元素；\n",
    "\n",
    "在列表中的元素是有序排列的。"
   ]
  },
  {
   "cell_type": "markdown",
   "id": "cc5ecf84",
   "metadata": {},
   "source": [
    "   "
   ]
  },
  {
   "cell_type": "markdown",
   "id": "551caf32",
   "metadata": {},
   "source": [
    "练习6-1"
   ]
  },
  {
   "cell_type": "code",
   "execution_count": 41,
   "id": "12e661f6",
   "metadata": {},
   "outputs": [
    {
     "name": "stdout",
     "output_type": "stream",
     "text": [
      "[] <class 'list'>\n"
     ]
    }
   ],
   "source": [
    "# 用列表(list)存储序列\n",
    "li=[] # 创建空列表\n",
    "print(li, type(li))"
   ]
  },
  {
   "cell_type": "code",
   "execution_count": 42,
   "id": "524d5d22",
   "metadata": {},
   "outputs": [
    {
     "data": {
      "text/plain": [
       "[]"
      ]
     },
     "execution_count": 42,
     "metadata": {},
     "output_type": "execute_result"
    }
   ],
   "source": [
    "li = list() # 用list方法创建空列表\n",
    "li"
   ]
  },
  {
   "cell_type": "code",
   "execution_count": 43,
   "id": "3aa56d50",
   "metadata": {},
   "outputs": [
    {
     "data": {
      "text/plain": [
       "[4, 5, 6]"
      ]
     },
     "execution_count": 43,
     "metadata": {},
     "output_type": "execute_result"
    }
   ],
   "source": [
    "# 创建列表时也可以同时赋给元素\n",
    "other_li = [4,5,6]\n",
    "other_li"
   ]
  },
  {
   "cell_type": "code",
   "execution_count": 44,
   "id": "4cf7bc28",
   "metadata": {},
   "outputs": [
    {
     "data": {
      "text/plain": [
       "[1, '2', 3, 4.0, 5, 6, 'seven', [8], None, <function print>]"
      ]
     },
     "execution_count": 44,
     "metadata": {},
     "output_type": "execute_result"
    }
   ],
   "source": [
    "# list是具有顺序的一组对象，其中的元素不需要是同类型\n",
    "li = [1, '2', 3, 4.0, 5, 6, 'seven', [8], None, print]\n",
    "li"
   ]
  },
  {
   "cell_type": "code",
   "execution_count": 45,
   "id": "0c2d47ec",
   "metadata": {},
   "outputs": [
    {
     "data": {
      "text/plain": [
       "10"
      ]
     },
     "execution_count": 45,
     "metadata": {},
     "output_type": "execute_result"
    }
   ],
   "source": [
    "len(li)"
   ]
  },
  {
   "cell_type": "code",
   "execution_count": 46,
   "id": "87065b2a",
   "metadata": {},
   "outputs": [
    {
     "name": "stdout",
     "output_type": "stream",
     "text": [
      "1\n",
      "4.0\n",
      "<built-in function print>\n",
      "<built-in function print>\n",
      "None\n"
     ]
    }
   ],
   "source": [
    "# list的常见操作：索引，选取list中某个元素\n",
    "print(li[0])  # 输出排在第1个位置的元素。位置的计数是从0开始的。\n",
    "print(li[3])  # 输出排在第4个位置的元素。\n",
    "print(li[len(li)-1])  # 输出排在第10个位置的元素。也就是最后一个元素。\n",
    "print(li[-1])  # 输出最后一个元素的另外一种方式。\n",
    "print(li[-2])  # 输出最后第二个位置的元素。\n",
    "# print(li[10])  # 超出长度会报错 IndexError: list index out of range\n",
    "# print(li[-11])  # 超出长度会报错 IndexError: list index out of range"
   ]
  },
  {
   "cell_type": "code",
   "execution_count": 47,
   "id": "6dd546df",
   "metadata": {},
   "outputs": [
    {
     "name": "stdout",
     "output_type": "stream",
     "text": [
      "None\n"
     ]
    }
   ],
   "source": [
    "print(li[-2]) "
   ]
  },
  {
   "cell_type": "code",
   "execution_count": 48,
   "id": "6d8177ab",
   "metadata": {},
   "outputs": [
    {
     "name": "stdout",
     "output_type": "stream",
     "text": [
      "<built-in function print>\n"
     ]
    }
   ],
   "source": [
    "print(li[-1])"
   ]
  },
  {
   "cell_type": "code",
   "execution_count": 49,
   "id": "b19fea1b",
   "metadata": {},
   "outputs": [
    {
     "name": "stdout",
     "output_type": "stream",
     "text": [
      "<built-in function print>\n"
     ]
    }
   ],
   "source": [
    "print(li[len(li)-1])"
   ]
  },
  {
   "cell_type": "code",
   "execution_count": 50,
   "id": "791456f8",
   "metadata": {},
   "outputs": [
    {
     "name": "stdout",
     "output_type": "stream",
     "text": [
      "<built-in function print>\n"
     ]
    }
   ],
   "source": [
    "print(li[9])"
   ]
  },
  {
   "cell_type": "code",
   "execution_count": 51,
   "id": "e3cc0406",
   "metadata": {},
   "outputs": [
    {
     "data": {
      "text/plain": [
       "'SEVEN'"
      ]
     },
     "execution_count": 51,
     "metadata": {},
     "output_type": "execute_result"
    }
   ],
   "source": [
    "# 访问列表元素后，可以对元素进行对应操作\n",
    "li[6].upper()"
   ]
  },
  {
   "cell_type": "code",
   "execution_count": 52,
   "id": "88938164",
   "metadata": {},
   "outputs": [
    {
     "name": "stdout",
     "output_type": "stream",
     "text": [
      "[1, '2', 3, 100, 5, 6, 'seven', [8], None, <built-in function print>]\n"
     ]
    }
   ],
   "source": [
    "# list的常见操作：修改\n",
    "li[3] = 100 # 可以根据索引，直接修改list中对应位置的元素\n",
    "print (li)"
   ]
  },
  {
   "cell_type": "code",
   "execution_count": 53,
   "id": "a881f44c",
   "metadata": {},
   "outputs": [
    {
     "name": "stdout",
     "output_type": "stream",
     "text": [
      "[1, '2', 3, <class 'type'>, 5, 6, 'seven', [8], None, <built-in function print>]\n"
     ]
    }
   ],
   "source": [
    "li[3]=type\n",
    "print(li)"
   ]
  },
  {
   "cell_type": "code",
   "execution_count": 54,
   "id": "9c58f7ce",
   "metadata": {},
   "outputs": [
    {
     "name": "stdout",
     "output_type": "stream",
     "text": [
      "['2', 3]\n",
      "[3, <class 'type'>, 5, 6, 'seven', [8], None, <built-in function print>]\n",
      "[1, '2', 3]\n",
      "[1, '2', 3, <class 'type'>, 5, 6, 'seven', [8], None, <built-in function print>]\n"
     ]
    }
   ],
   "source": [
    "# list的常见操作：切片，取一连串元素\n",
    "# 切片语法中，起始的index数据包含在内，末尾的index内容不包含\n",
    "# (在数学中，可以理解为左闭右开区间)\n",
    "print(li[1:3]) \n",
    "print(li[2:]) \n",
    "print(li[:3])\n",
    "print(li[:])"
   ]
  },
  {
   "cell_type": "code",
   "execution_count": 55,
   "id": "def92b8d",
   "metadata": {},
   "outputs": [
    {
     "name": "stdout",
     "output_type": "stream",
     "text": [
      "[1, '2', 3, <class 'type'>, 5, 6, 'seven', [8], None, <built-in function print>]\n"
     ]
    }
   ],
   "source": [
    "print (li)"
   ]
  },
  {
   "cell_type": "code",
   "execution_count": 56,
   "id": "5a26f65c",
   "metadata": {},
   "outputs": [
    {
     "name": "stdout",
     "output_type": "stream",
     "text": [
      "[1, 3, 5, 'seven', None]\n",
      "[<built-in function print>, None, [8], 'seven', 6, 5, <class 'type'>, 3, '2', 1]\n"
     ]
    }
   ],
   "source": [
    "# 隔一个取一个\n",
    "print(li[::2])\n",
    "# 反着取\n",
    "print(li[::-1]) \n",
    "# 可以用三个参数的任何组合来构建切割\n",
    "# li[起始:结束:步伐]"
   ]
  },
  {
   "cell_type": "code",
   "execution_count": 57,
   "id": "eca1dcb7",
   "metadata": {},
   "outputs": [
    {
     "name": "stdout",
     "output_type": "stream",
     "text": [
      "[1, '2', 3, <class 'type'>, 5, 6, 'seven', [8], None, <built-in function print>, 4, 5, 6]\n"
     ]
    }
   ],
   "source": [
    "# list的常见操作：两个list相加\n",
    "# 注: li和other_li的值都不变\n",
    "new_li = li + other_li\n",
    "print(new_li)\n"
   ]
  },
  {
   "cell_type": "code",
   "execution_count": 58,
   "id": "e8cd89d1",
   "metadata": {},
   "outputs": [
    {
     "name": "stdout",
     "output_type": "stream",
     "text": [
      "[1, '2', 3, <class 'type'>, 5, 6, 'seven', [8], None, <built-in function print>]\n"
     ]
    }
   ],
   "source": [
    "print(li)\n"
   ]
  },
  {
   "cell_type": "code",
   "execution_count": 59,
   "id": "6a8dfeca",
   "metadata": {},
   "outputs": [
    {
     "name": "stdout",
     "output_type": "stream",
     "text": [
      "[4, 5, 6]\n"
     ]
    }
   ],
   "source": [
    "print(other_li)"
   ]
  },
  {
   "cell_type": "code",
   "execution_count": 60,
   "id": "fd691943",
   "metadata": {},
   "outputs": [
    {
     "name": "stdout",
     "output_type": "stream",
     "text": [
      "True\n",
      "False\n"
     ]
    }
   ],
   "source": [
    "# list常见操作：判断一个元素是否在list当中\n",
    "list_var =[1,'2',3,4.0,5]\n",
    "print(1 in list_var) # 判断1元素，是否在list_var中出现\n",
    "print(100 in list_var) # 判断100元素，是否在list_var中出现"
   ]
  },
  {
   "cell_type": "code",
   "execution_count": 61,
   "id": "34b4361f",
   "metadata": {},
   "outputs": [
    {
     "name": "stdout",
     "output_type": "stream",
     "text": [
      "1\n",
      "2\n",
      "3\n",
      "<class 'type'>\n",
      "5\n",
      "6\n",
      "seven\n",
      "[8]\n",
      "None\n",
      "<built-in function print>\n"
     ]
    }
   ],
   "source": [
    "for i in li:\n",
    "    print(i)"
   ]
  },
  {
   "cell_type": "markdown",
   "id": "3c95747e",
   "metadata": {},
   "source": [
    "常见问题\n",
    "\n",
    "list相加中，相加结果和li、other_li之间的关系\n",
    "\n",
    "for循环中i是什么\n",
    "\n",
    "str能不能更改某个元素\n"
   ]
  },
  {
   "cell_type": "markdown",
   "id": "99c1e825",
   "metadata": {},
   "source": [
    "练习6-2"
   ]
  },
  {
   "cell_type": "code",
   "execution_count": 65,
   "id": "741a817e",
   "metadata": {},
   "outputs": [
    {
     "name": "stdout",
     "output_type": "stream",
     "text": [
      "5\n"
     ]
    }
   ],
   "source": [
    "# list的常见操作：len、max、min\n",
    "Is = [1,2,3,4,5]\n",
    "print(len(Is))"
   ]
  },
  {
   "cell_type": "code",
   "execution_count": 67,
   "id": "a3321976",
   "metadata": {},
   "outputs": [
    {
     "name": "stdout",
     "output_type": "stream",
     "text": [
      "0\n"
     ]
    }
   ],
   "source": [
    "print(len([]))"
   ]
  },
  {
   "cell_type": "code",
   "execution_count": 69,
   "id": "80f6a59b",
   "metadata": {},
   "outputs": [
    {
     "name": "stdout",
     "output_type": "stream",
     "text": [
      "5\n",
      "1\n"
     ]
    }
   ],
   "source": [
    "print(max(Is))\n",
    "print(min(Is))"
   ]
  },
  {
   "cell_type": "code",
   "execution_count": 93,
   "id": "8ed8e2f1",
   "metadata": {},
   "outputs": [],
   "source": [
    "# list的常见操作：删除元素\n",
    "Is = [1, 2, 3, 4, 3, 5]"
   ]
  },
  {
   "cell_type": "code",
   "execution_count": 87,
   "id": "4549512b",
   "metadata": {},
   "outputs": [
    {
     "name": "stdout",
     "output_type": "stream",
     "text": [
      "[2, 3, 4, 3, 5]\n"
     ]
    }
   ],
   "source": [
    "\n",
    "del Is[0] # 删除指定索引的元素\n",
    "print (Is)"
   ]
  },
  {
   "cell_type": "code",
   "execution_count": 89,
   "id": "a274ebbe",
   "metadata": {},
   "outputs": [
    {
     "name": "stdout",
     "output_type": "stream",
     "text": [
      "[1, 2, 3, 4, 3]\n"
     ]
    }
   ],
   "source": [
    "Is.pop()  # 删除末尾的元素\n",
    "print(Is)"
   ]
  },
  {
   "cell_type": "code",
   "execution_count": 94,
   "id": "7808c55c",
   "metadata": {},
   "outputs": [
    {
     "name": "stdout",
     "output_type": "stream",
     "text": [
      "[1, 2, 4, 3, 5]\n"
     ]
    }
   ],
   "source": [
    "Is.remove(3) # 移除list中第一个出现的重复的值\n",
    "print(Is)"
   ]
  },
  {
   "cell_type": "code",
   "execution_count": 95,
   "id": "1dbda36a",
   "metadata": {},
   "outputs": [
    {
     "name": "stdout",
     "output_type": "stream",
     "text": [
      "[2, 3, 4, 3, 5]\n",
      "[2, 3, 4, 3]\n",
      "[2, 4, 3]\n"
     ]
    }
   ],
   "source": [
    "# list的常见操作：删除元素\n",
    "ls = [1, 2, 3, 4, 3, 5]\n",
    "del ls[0]  # 删除指定索引的元素\n",
    "print(ls)\n",
    "ls.pop()  # 删除末尾的元素\n",
    "print(ls)\n",
    "ls.remove(3)  # 移除list中第一个出现的值\n",
    "print(ls)\n",
    "# ls.remove(1)  # 抛出ValueError，因为list中不含1"
   ]
  },
  {
   "cell_type": "code",
   "execution_count": 101,
   "id": "de6f5a35",
   "metadata": {},
   "outputs": [
    {
     "data": {
      "text/plain": [
       "2"
      ]
     },
     "execution_count": 101,
     "metadata": {},
     "output_type": "execute_result"
    }
   ],
   "source": [
    "s =\"ahbfadf\"\n",
    "s.index('b')"
   ]
  },
  {
   "cell_type": "code",
   "execution_count": 103,
   "id": "955b9182",
   "metadata": {},
   "outputs": [
    {
     "name": "stdout",
     "output_type": "stream",
     "text": [
      "0\n",
      "1\n"
     ]
    }
   ],
   "source": [
    "#  list的常见操作：查找一个元素的在list中的位置(index)\n",
    "print(ls.index(2))  # 只匹配列表中第一个出现的元素\n",
    "print(ls.index(4))  # 抛出ValueError， 因为元素10不在列表中"
   ]
  },
  {
   "cell_type": "code",
   "execution_count": 104,
   "id": "74533bf3",
   "metadata": {},
   "outputs": [
    {
     "name": "stdout",
     "output_type": "stream",
     "text": [
      "[1]\n",
      "[1, '2']\n",
      "[1, '2', 4]\n",
      "[1, '2', 4, [3, 4]]\n"
     ]
    }
   ],
   "source": [
    "# list的常见操作：append, 在后方增加一个元素\n",
    "li = []\n",
    "li.append(1)    # li is now [1]\n",
    "print(li)\n",
    "li.append('2')    # li is now [1, '2']\n",
    "print(li)\n",
    "li.append(4)    # li is now [1, '2', 4]\n",
    "print(li)\n",
    "li.append([3, 4])    # li is now [1, '2', 4, [3, 4]]\n",
    "print(li)"
   ]
  },
  {
   "cell_type": "code",
   "execution_count": 105,
   "id": "953971a7",
   "metadata": {},
   "outputs": [
    {
     "name": "stdout",
     "output_type": "stream",
     "text": [
      "[1, 2, 3, '5', 4.0]\n"
     ]
    }
   ],
   "source": [
    "# list的常见操作：extend，合并两个list\n",
    "ls = [1, 2, 3]\n",
    "ls.extend(['5', 4.])\n",
    "print(ls)"
   ]
  },
  {
   "cell_type": "code",
   "execution_count": 109,
   "id": "484b3e62",
   "metadata": {},
   "outputs": [
    {
     "data": {
      "text/plain": [
       "[1, 2, 3, 2.1]"
      ]
     },
     "execution_count": 109,
     "metadata": {},
     "output_type": "execute_result"
    }
   ],
   "source": [
    "# list的常见操作：insert，将一个元素插入指定位置\n",
    "li = [1, 2, 3]\n",
    "li.insert(3, 2.1)  # 将元素2插入位置(index)1上\n",
    "li"
   ]
  },
  {
   "cell_type": "code",
   "execution_count": 110,
   "id": "ebc74cea",
   "metadata": {},
   "outputs": [
    {
     "name": "stdout",
     "output_type": "stream",
     "text": [
      "[1, 2, 4]\n"
     ]
    }
   ],
   "source": [
    "# list的常见操作：sort、reverse\n",
    "li = [2, 1, 4]\n",
    "li.sort()\n",
    "print(li)"
   ]
  },
  {
   "cell_type": "code",
   "execution_count": 111,
   "id": "c584faa6",
   "metadata": {},
   "outputs": [
    {
     "name": "stdout",
     "output_type": "stream",
     "text": [
      "[1, 2, 4]\n"
     ]
    }
   ],
   "source": [
    "li = [2, 1, 4]\n",
    "print(sorted(li))"
   ]
  },
  {
   "cell_type": "code",
   "execution_count": 113,
   "id": "7e9645e2",
   "metadata": {},
   "outputs": [
    {
     "name": "stdout",
     "output_type": "stream",
     "text": [
      "[4, 2, 1]\n"
     ]
    }
   ],
   "source": [
    "li = [2, 1, 4]\n",
    "li.sort()\n",
    "li.reverse()\n",
    "print(li)"
   ]
  },
  {
   "cell_type": "code",
   "execution_count": 115,
   "id": "3a012d54",
   "metadata": {},
   "outputs": [
    {
     "name": "stdout",
     "output_type": "stream",
     "text": [
      "[4, 2, 1]\n"
     ]
    }
   ],
   "source": [
    "li.sort(reverse=True)\n",
    "print(li)"
   ]
  },
  {
   "cell_type": "code",
   "execution_count": 116,
   "id": "3adb1fc4",
   "metadata": {},
   "outputs": [
    {
     "data": {
      "text/plain": [
       "['A', 'B', 'C', 'a', 'b', 'c']"
      ]
     },
     "execution_count": 116,
     "metadata": {},
     "output_type": "execute_result"
    }
   ],
   "source": [
    "n_li = ['A', 'B', 'b', 'c', 'a', 'C']\n",
    "n_li.sort()\n",
    "n_li"
   ]
  },
  {
   "cell_type": "code",
   "execution_count": 117,
   "id": "7cc4290a",
   "metadata": {},
   "outputs": [],
   "source": [
    "# 只能对int或str进行排序\n",
    "li = [2, 1, 4, 'b', 'a']\n",
    "#li.sort()  # TypeError\n",
    "#li Error"
   ]
  },
  {
   "cell_type": "markdown",
   "id": "a714be62",
   "metadata": {},
   "source": [
    "常见问题\n",
    "\n",
    "我需要对所有函数了如指掌么？\n",
    "\n",
    "为什么对部分函数直接print，如：print(li.append(2))，无返回值？"
   ]
  },
  {
   "cell_type": "markdown",
   "id": "054b46b6",
   "metadata": {},
   "source": [
    "练习6-3"
   ]
  },
  {
   "cell_type": "code",
   "execution_count": 123,
   "id": "49a494c0",
   "metadata": {},
   "outputs": [
    {
     "name": "stdout",
     "output_type": "stream",
     "text": [
      "[1, 2, '3', ['第二层', 0.4]]\n"
     ]
    }
   ],
   "source": [
    "li = [1, 2, '3', ['第二层', .4]]\n",
    "li1= li\n",
    "print(li1)\n",
    "\n"
   ]
  },
  {
   "cell_type": "code",
   "execution_count": null,
   "id": "f4d8a243",
   "metadata": {},
   "outputs": [],
   "source": [
    "li[]"
   ]
  },
  {
   "cell_type": "code",
   "execution_count": 124,
   "id": "04226c6c",
   "metadata": {},
   "outputs": [
    {
     "name": "stdout",
     "output_type": "stream",
     "text": [
      "True\n"
     ]
    }
   ],
   "source": [
    "print(li1==li)"
   ]
  },
  {
   "cell_type": "code",
   "execution_count": 125,
   "id": "b71e69aa",
   "metadata": {},
   "outputs": [
    {
     "name": "stdout",
     "output_type": "stream",
     "text": [
      "True\n"
     ]
    }
   ],
   "source": [
    "print(li1 is li)"
   ]
  },
  {
   "cell_type": "code",
   "execution_count": null,
   "id": "4ed98e14",
   "metadata": {},
   "outputs": [],
   "source": [
    "# 用切片做一层浅拷贝"
   ]
  },
  {
   "cell_type": "code",
   "execution_count": 126,
   "id": "b577c3a1",
   "metadata": {},
   "outputs": [],
   "source": [
    "li2 = li[:]  \n",
    "# => li2 = [1, 2, '3', ['第二层', .4]] 但是 (li2 is li) 返回的是False"
   ]
  },
  {
   "cell_type": "code",
   "execution_count": 135,
   "id": "2487a0dd",
   "metadata": {},
   "outputs": [
    {
     "name": "stdout",
     "output_type": "stream",
     "text": [
      "[1, 2, '3', ['超级变变变', 0.4]]\n"
     ]
    }
   ],
   "source": [
    "print(li2)"
   ]
  },
  {
   "cell_type": "code",
   "execution_count": 136,
   "id": "fa299b74",
   "metadata": {},
   "outputs": [
    {
     "name": "stdout",
     "output_type": "stream",
     "text": [
      "False\n"
     ]
    }
   ],
   "source": [
    "print(li2 == li)"
   ]
  },
  {
   "cell_type": "code",
   "execution_count": 141,
   "id": "4556f1bc",
   "metadata": {},
   "outputs": [
    {
     "name": "stdout",
     "output_type": "stream",
     "text": [
      "False\n",
      "['超级变变变', 0.4]\n",
      "['超级变变变', 0.4]\n"
     ]
    }
   ],
   "source": [
    "print (li2 is li)\n",
    "print(li2[3])\n",
    "print(li2[-1])"
   ]
  },
  {
   "cell_type": "code",
   "execution_count": 130,
   "id": "ee229908",
   "metadata": {},
   "outputs": [
    {
     "name": "stdout",
     "output_type": "stream",
     "text": [
      "[1, '变变变', '3', ['第二层', 0.4]]\n"
     ]
    }
   ],
   "source": [
    "li[1] ='变变变'\n",
    "print(li)"
   ]
  },
  {
   "cell_type": "code",
   "execution_count": 131,
   "id": "250d42ae",
   "metadata": {},
   "outputs": [
    {
     "name": "stdout",
     "output_type": "stream",
     "text": [
      "[1, '变变变', '3', ['第二层', 0.4]]\n"
     ]
    }
   ],
   "source": [
    "print(li1)"
   ]
  },
  {
   "cell_type": "code",
   "execution_count": 132,
   "id": "1f031354",
   "metadata": {},
   "outputs": [
    {
     "name": "stdout",
     "output_type": "stream",
     "text": [
      "[1, 2, '3', ['第二层', 0.4]]\n"
     ]
    }
   ],
   "source": [
    "print(li2)"
   ]
  },
  {
   "cell_type": "code",
   "execution_count": 133,
   "id": "52555994",
   "metadata": {},
   "outputs": [
    {
     "name": "stdout",
     "output_type": "stream",
     "text": [
      "[1, '变变变', '3', ['超级变变变', 0.4]]\n"
     ]
    }
   ],
   "source": [
    "li[-1][0] = '超级变变变' #[-1]是小箱子，[0]是小箱子第一个\n",
    "li1= li\n",
    "print (li)"
   ]
  },
  {
   "cell_type": "code",
   "execution_count": 142,
   "id": "c4ba81fd",
   "metadata": {},
   "outputs": [
    {
     "name": "stdout",
     "output_type": "stream",
     "text": [
      "[1, 2, '3', ['超级变变变', 0.4]]\n"
     ]
    }
   ],
   "source": [
    "print(li2)"
   ]
  },
  {
   "cell_type": "markdown",
   "id": "c4931cd4",
   "metadata": {},
   "source": [
    "深拷贝(deep copy)"
   ]
  },
  {
   "cell_type": "code",
   "execution_count": 144,
   "id": "5ee44d06",
   "metadata": {},
   "outputs": [
    {
     "name": "stdout",
     "output_type": "stream",
     "text": [
      "[1, 2, '3', ['第二层', ['超级变变变']]]\n",
      "[1, 2, '3', ['第二层', 0.4]]\n"
     ]
    }
   ],
   "source": [
    "li = [1, 2, '3', ['第二层', .4]]\n",
    "# 利用copy模块，做一次深拷贝\n",
    "import copy\n",
    "li3=copy.deepcopy(li)\n",
    "li[-1][1]=['超级变变变']\n",
    "print(li)\n",
    "print(li3)"
   ]
  },
  {
   "cell_type": "code",
   "execution_count": 145,
   "id": "2e2835bc",
   "metadata": {},
   "outputs": [
    {
     "data": {
      "text/plain": [
       "2349036103984"
      ]
     },
     "execution_count": 145,
     "metadata": {},
     "output_type": "execute_result"
    }
   ],
   "source": [
    "id(li[0])"
   ]
  },
  {
   "cell_type": "code",
   "execution_count": 146,
   "id": "463b0cd0",
   "metadata": {},
   "outputs": [
    {
     "data": {
      "text/plain": [
       "2349159963984"
      ]
     },
     "execution_count": 146,
     "metadata": {},
     "output_type": "execute_result"
    }
   ],
   "source": [
    "id(li2[-1][0])"
   ]
  },
  {
   "cell_type": "code",
   "execution_count": 147,
   "id": "90e3fc8c",
   "metadata": {},
   "outputs": [
    {
     "data": {
      "text/plain": [
       "(2349160789888, 2349161957696)"
      ]
     },
     "execution_count": 147,
     "metadata": {},
     "output_type": "execute_result"
    }
   ],
   "source": [
    "id(li[-1]), id(li2[-1])"
   ]
  },
  {
   "cell_type": "code",
   "execution_count": 148,
   "id": "4efa5553",
   "metadata": {},
   "outputs": [
    {
     "data": {
      "text/plain": [
       "2349162583104"
      ]
     },
     "execution_count": 148,
     "metadata": {},
     "output_type": "execute_result"
    }
   ],
   "source": [
    "id(li)\n"
   ]
  },
  {
   "cell_type": "code",
   "execution_count": 149,
   "id": "65b321fb",
   "metadata": {},
   "outputs": [
    {
     "data": {
      "text/plain": [
       "2349164836736"
      ]
     },
     "execution_count": 149,
     "metadata": {},
     "output_type": "execute_result"
    }
   ],
   "source": [
    "id(li2)"
   ]
  },
  {
   "cell_type": "code",
   "execution_count": 150,
   "id": "f7b27f9a",
   "metadata": {},
   "outputs": [
    {
     "data": {
      "text/plain": [
       "(2349162583104, 2349164836736, 2349162038848)"
      ]
     },
     "execution_count": 150,
     "metadata": {},
     "output_type": "execute_result"
    }
   ],
   "source": [
    "id(li),id(li2),id(li3)"
   ]
  },
  {
   "cell_type": "code",
   "execution_count": 154,
   "id": "8b7e3496",
   "metadata": {},
   "outputs": [
    {
     "data": {
      "text/plain": [
       "[1, 2, '3', ['第二层', ['超级变变变']]]"
      ]
     },
     "execution_count": 154,
     "metadata": {},
     "output_type": "execute_result"
    }
   ],
   "source": [
    "li.copy()"
   ]
  },
  {
   "cell_type": "code",
   "execution_count": null,
   "id": "20a36dac",
   "metadata": {},
   "outputs": [],
   "source": []
  },
  {
   "cell_type": "code",
   "execution_count": null,
   "id": "1444fe81",
   "metadata": {},
   "outputs": [],
   "source": []
  },
  {
   "cell_type": "code",
   "execution_count": null,
   "id": "f3b0fd80",
   "metadata": {},
   "outputs": [],
   "source": []
  },
  {
   "cell_type": "code",
   "execution_count": null,
   "id": "ea67f6f4",
   "metadata": {},
   "outputs": [],
   "source": []
  },
  {
   "cell_type": "code",
   "execution_count": null,
   "id": "d2a422d3",
   "metadata": {},
   "outputs": [],
   "source": []
  },
  {
   "cell_type": "code",
   "execution_count": null,
   "id": "673f9dc1",
   "metadata": {},
   "outputs": [],
   "source": []
  },
  {
   "cell_type": "code",
   "execution_count": null,
   "id": "8fd2a1c2",
   "metadata": {},
   "outputs": [],
   "source": []
  },
  {
   "cell_type": "code",
   "execution_count": null,
   "id": "c380fc76",
   "metadata": {},
   "outputs": [],
   "source": []
  },
  {
   "cell_type": "code",
   "execution_count": null,
   "id": "10f6c4e8",
   "metadata": {},
   "outputs": [],
   "source": []
  },
  {
   "cell_type": "code",
   "execution_count": null,
   "id": "e697fce6",
   "metadata": {},
   "outputs": [],
   "source": []
  },
  {
   "cell_type": "code",
   "execution_count": null,
   "id": "c390f537",
   "metadata": {},
   "outputs": [],
   "source": []
  },
  {
   "cell_type": "code",
   "execution_count": null,
   "id": "9ea432a2",
   "metadata": {},
   "outputs": [],
   "source": []
  },
  {
   "cell_type": "code",
   "execution_count": null,
   "id": "4118bf56",
   "metadata": {},
   "outputs": [],
   "source": []
  },
  {
   "cell_type": "code",
   "execution_count": null,
   "id": "3a84638f",
   "metadata": {},
   "outputs": [],
   "source": []
  },
  {
   "cell_type": "code",
   "execution_count": null,
   "id": "ae6610f9",
   "metadata": {},
   "outputs": [],
   "source": []
  },
  {
   "cell_type": "code",
   "execution_count": null,
   "id": "6692011a",
   "metadata": {},
   "outputs": [],
   "source": []
  },
  {
   "cell_type": "code",
   "execution_count": null,
   "id": "dca35160",
   "metadata": {},
   "outputs": [],
   "source": []
  },
  {
   "cell_type": "code",
   "execution_count": null,
   "id": "1f5171c8",
   "metadata": {},
   "outputs": [],
   "source": []
  },
  {
   "cell_type": "code",
   "execution_count": null,
   "id": "a9f2b80b",
   "metadata": {},
   "outputs": [],
   "source": []
  },
  {
   "cell_type": "code",
   "execution_count": null,
   "id": "fe9bc529",
   "metadata": {},
   "outputs": [],
   "source": []
  },
  {
   "cell_type": "code",
   "execution_count": null,
   "id": "d6de9e30",
   "metadata": {},
   "outputs": [],
   "source": []
  },
  {
   "cell_type": "code",
   "execution_count": null,
   "id": "a359871f",
   "metadata": {},
   "outputs": [],
   "source": []
  },
  {
   "cell_type": "code",
   "execution_count": null,
   "id": "21c73b4f",
   "metadata": {},
   "outputs": [],
   "source": []
  },
  {
   "cell_type": "code",
   "execution_count": null,
   "id": "654a85a1",
   "metadata": {},
   "outputs": [],
   "source": []
  },
  {
   "cell_type": "code",
   "execution_count": null,
   "id": "471f10dc",
   "metadata": {},
   "outputs": [],
   "source": []
  },
  {
   "cell_type": "code",
   "execution_count": null,
   "id": "18de1526",
   "metadata": {},
   "outputs": [],
   "source": []
  },
  {
   "cell_type": "code",
   "execution_count": null,
   "id": "64857519",
   "metadata": {},
   "outputs": [],
   "source": []
  },
  {
   "cell_type": "code",
   "execution_count": null,
   "id": "b45bb2ce",
   "metadata": {},
   "outputs": [],
   "source": []
  },
  {
   "cell_type": "code",
   "execution_count": null,
   "id": "a7e63ee0",
   "metadata": {},
   "outputs": [],
   "source": []
  },
  {
   "cell_type": "code",
   "execution_count": null,
   "id": "ba51f010",
   "metadata": {},
   "outputs": [],
   "source": []
  },
  {
   "cell_type": "code",
   "execution_count": null,
   "id": "ea2db206",
   "metadata": {},
   "outputs": [],
   "source": []
  },
  {
   "cell_type": "code",
   "execution_count": null,
   "id": "e3784500",
   "metadata": {},
   "outputs": [],
   "source": []
  },
  {
   "cell_type": "code",
   "execution_count": null,
   "id": "b9404920",
   "metadata": {},
   "outputs": [],
   "source": []
  },
  {
   "cell_type": "code",
   "execution_count": null,
   "id": "d532206f",
   "metadata": {},
   "outputs": [],
   "source": []
  },
  {
   "cell_type": "code",
   "execution_count": null,
   "id": "41d54707",
   "metadata": {},
   "outputs": [],
   "source": []
  },
  {
   "cell_type": "code",
   "execution_count": null,
   "id": "95c7ced2",
   "metadata": {},
   "outputs": [],
   "source": []
  },
  {
   "cell_type": "code",
   "execution_count": null,
   "id": "f9a24743",
   "metadata": {},
   "outputs": [],
   "source": []
  },
  {
   "cell_type": "code",
   "execution_count": null,
   "id": "57b7339d",
   "metadata": {},
   "outputs": [],
   "source": []
  },
  {
   "cell_type": "code",
   "execution_count": null,
   "id": "9126457d",
   "metadata": {},
   "outputs": [],
   "source": []
  },
  {
   "cell_type": "code",
   "execution_count": null,
   "id": "a547b38d",
   "metadata": {},
   "outputs": [],
   "source": []
  },
  {
   "cell_type": "code",
   "execution_count": null,
   "id": "13e80952",
   "metadata": {},
   "outputs": [],
   "source": []
  },
  {
   "cell_type": "code",
   "execution_count": null,
   "id": "a5457fb4",
   "metadata": {},
   "outputs": [],
   "source": []
  },
  {
   "cell_type": "code",
   "execution_count": null,
   "id": "4c39a0a2",
   "metadata": {},
   "outputs": [],
   "source": []
  },
  {
   "cell_type": "code",
   "execution_count": null,
   "id": "7c033d3e",
   "metadata": {},
   "outputs": [],
   "source": []
  },
  {
   "cell_type": "code",
   "execution_count": null,
   "id": "51915394",
   "metadata": {},
   "outputs": [],
   "source": []
  },
  {
   "cell_type": "code",
   "execution_count": null,
   "id": "26798014",
   "metadata": {},
   "outputs": [],
   "source": []
  },
  {
   "cell_type": "code",
   "execution_count": null,
   "id": "b72a44df",
   "metadata": {},
   "outputs": [],
   "source": []
  },
  {
   "cell_type": "code",
   "execution_count": null,
   "id": "61fa088a",
   "metadata": {},
   "outputs": [],
   "source": []
  },
  {
   "cell_type": "code",
   "execution_count": null,
   "id": "5de7d8c3",
   "metadata": {},
   "outputs": [],
   "source": []
  },
  {
   "cell_type": "code",
   "execution_count": null,
   "id": "889b141a",
   "metadata": {},
   "outputs": [],
   "source": []
  },
  {
   "cell_type": "code",
   "execution_count": null,
   "id": "77f2a62d",
   "metadata": {},
   "outputs": [],
   "source": []
  }
 ],
 "metadata": {
  "kernelspec": {
   "display_name": "Python 3 (ipykernel)",
   "language": "python",
   "name": "python3"
  },
  "language_info": {
   "codemirror_mode": {
    "name": "ipython",
    "version": 3
   },
   "file_extension": ".py",
   "mimetype": "text/x-python",
   "name": "python",
   "nbconvert_exporter": "python",
   "pygments_lexer": "ipython3",
   "version": "3.9.13"
  }
 },
 "nbformat": 4,
 "nbformat_minor": 5
}
