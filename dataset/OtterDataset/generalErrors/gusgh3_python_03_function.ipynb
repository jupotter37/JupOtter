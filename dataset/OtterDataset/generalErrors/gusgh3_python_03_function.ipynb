{
 "cells": [
  {
   "cell_type": "markdown",
   "id": "474727d1-9836-444d-861c-149ffea0a2fd",
   "metadata": {},
   "source": [
    "### 함수(function)"
   ]
  },
  {
   "cell_type": "code",
   "execution_count": 5,
   "id": "61849c94-ecae-445d-a417-05fd62afb15d",
   "metadata": {},
   "outputs": [
    {
     "name": "stdout",
     "output_type": "stream",
     "text": [
      "사각형의 넓이는 1500고, 둘레는 3000입니다\n"
     ]
    }
   ],
   "source": [
    "height = 50\n",
    "width = 30\n",
    " \n",
    "area = height * width\n",
    "perimeter = (height * width) * 2 #perimeter: 둘레 #area: 면적\n",
    "\n",
    "print(f'사각형의 넓이는 {area}고, 둘레는 {perimeter}입니다')"
   ]
  },
  {
   "cell_type": "code",
   "execution_count": 2,
   "id": "d7e83332-5bb2-40ac-b17c-4a556bf6ab39",
   "metadata": {},
   "outputs": [
    {
     "name": "stdout",
     "output_type": "stream",
     "text": [
      "사각형의 넓이는 1500고, 둘레는 3000입니다\n"
     ]
    }
   ],
   "source": [
    "height2 = 100 #위의 변수와 달리 설정해야 정확한 명령어 값이 나옴\n",
    "width2 = 150\n",
    "\n",
    "area2 = height2 * width2\n",
    "\n",
    "print(f'사각형의 넓이는 {area}고, 둘레는 {perimeter}입니다')"
   ]
  },
  {
   "cell_type": "markdown",
   "id": "f25ad4e4-bba1-4a6f-90f1-ddd505afd7bf",
   "metadata": {},
   "source": [
    "## 함수의 선언과 호출 \n",
    "(시스템을 먼저 만들어 놓고 재료(변수)들을 넣어 결과값을 만들어내는 개념)\n",
    "\n",
    "- 함수의 선언(정의)\n",
    "\n",
    "```python\n",
    "def func_name(parameter1, parameter2 ...):\n",
    "    code1\n",
    "    code2\n",
    "    ...\n",
    "    return value \n",
    "```\n",
    "\n",
    "- 함수의 호출(실행)\n",
    "\n",
    "```python\n",
    "func_name(parameter1, parameter2 ...)\n",
    "```\n",
    "\n",
    "def: '정의하다'라는 의미 name은 아름짓기 나름 parameter1: 재료 return value: (돌려주는) 결과값(물) value에다가 돌려주고싶은 결과값 넣기"
   ]
  },
  {
   "cell_type": "code",
   "execution_count": 3,
   "id": "72b3eedd-87d1-4329-bab6-7a918dae5083",
   "metadata": {},
   "outputs": [],
   "source": [
    "def rectangle(height, width):\n",
    "    area = height * width\n",
    "    perimeter = (height + width) * 2\n",
    "    print(area, perimeter)"
   ]
  },
  {
   "cell_type": "code",
   "execution_count": 6,
   "id": "20acaffa-0279-42e7-89a0-65311c647206",
   "metadata": {},
   "outputs": [
    {
     "name": "stdout",
     "output_type": "stream",
     "text": [
      "20000 600\n",
      "250000 2000\n"
     ]
    }
   ],
   "source": [
    "rectangle(100, 200)\n",
    "rectangle(500, 500)"
   ]
  },
  {
   "cell_type": "code",
   "execution_count": 8,
   "id": "f7aa2ae9-51d3-43d7-bb6e-8692f62d06b8",
   "metadata": {},
   "outputs": [
    {
     "data": {
      "text/plain": [
       "['ArithmeticError',\n",
       " 'AssertionError',\n",
       " 'AttributeError',\n",
       " 'BaseException',\n",
       " 'BaseExceptionGroup',\n",
       " 'BlockingIOError',\n",
       " 'BrokenPipeError',\n",
       " 'BufferError',\n",
       " 'BytesWarning',\n",
       " 'ChildProcessError',\n",
       " 'ConnectionAbortedError',\n",
       " 'ConnectionError',\n",
       " 'ConnectionRefusedError',\n",
       " 'ConnectionResetError',\n",
       " 'DeprecationWarning',\n",
       " 'EOFError',\n",
       " 'Ellipsis',\n",
       " 'EncodingWarning',\n",
       " 'EnvironmentError',\n",
       " 'Exception',\n",
       " 'ExceptionGroup',\n",
       " 'False',\n",
       " 'FileExistsError',\n",
       " 'FileNotFoundError',\n",
       " 'FloatingPointError',\n",
       " 'FutureWarning',\n",
       " 'GeneratorExit',\n",
       " 'IOError',\n",
       " 'ImportError',\n",
       " 'ImportWarning',\n",
       " 'IndentationError',\n",
       " 'IndexError',\n",
       " 'InterruptedError',\n",
       " 'IsADirectoryError',\n",
       " 'KeyError',\n",
       " 'KeyboardInterrupt',\n",
       " 'LookupError',\n",
       " 'MemoryError',\n",
       " 'ModuleNotFoundError',\n",
       " 'NameError',\n",
       " 'None',\n",
       " 'NotADirectoryError',\n",
       " 'NotImplemented',\n",
       " 'NotImplementedError',\n",
       " 'OSError',\n",
       " 'OverflowError',\n",
       " 'PendingDeprecationWarning',\n",
       " 'PermissionError',\n",
       " 'ProcessLookupError',\n",
       " 'RecursionError',\n",
       " 'ReferenceError',\n",
       " 'ResourceWarning',\n",
       " 'RuntimeError',\n",
       " 'RuntimeWarning',\n",
       " 'StopAsyncIteration',\n",
       " 'StopIteration',\n",
       " 'SyntaxError',\n",
       " 'SyntaxWarning',\n",
       " 'SystemError',\n",
       " 'SystemExit',\n",
       " 'TabError',\n",
       " 'TimeoutError',\n",
       " 'True',\n",
       " 'TypeError',\n",
       " 'UnboundLocalError',\n",
       " 'UnicodeDecodeError',\n",
       " 'UnicodeEncodeError',\n",
       " 'UnicodeError',\n",
       " 'UnicodeTranslateError',\n",
       " 'UnicodeWarning',\n",
       " 'UserWarning',\n",
       " 'ValueError',\n",
       " 'Warning',\n",
       " 'WindowsError',\n",
       " 'ZeroDivisionError',\n",
       " '__IPYTHON__',\n",
       " '__build_class__',\n",
       " '__debug__',\n",
       " '__doc__',\n",
       " '__import__',\n",
       " '__loader__',\n",
       " '__name__',\n",
       " '__package__',\n",
       " '__spec__',\n",
       " 'abs',\n",
       " 'aiter',\n",
       " 'all',\n",
       " 'anext',\n",
       " 'any',\n",
       " 'ascii',\n",
       " 'bin',\n",
       " 'bool',\n",
       " 'breakpoint',\n",
       " 'bytearray',\n",
       " 'bytes',\n",
       " 'callable',\n",
       " 'chr',\n",
       " 'classmethod',\n",
       " 'compile',\n",
       " 'complex',\n",
       " 'copyright',\n",
       " 'credits',\n",
       " 'delattr',\n",
       " 'dict',\n",
       " 'dir',\n",
       " 'display',\n",
       " 'divmod',\n",
       " 'enumerate',\n",
       " 'eval',\n",
       " 'exec',\n",
       " 'execfile',\n",
       " 'filter',\n",
       " 'float',\n",
       " 'format',\n",
       " 'frozenset',\n",
       " 'get_ipython',\n",
       " 'getattr',\n",
       " 'globals',\n",
       " 'hasattr',\n",
       " 'hash',\n",
       " 'help',\n",
       " 'hex',\n",
       " 'id',\n",
       " 'input',\n",
       " 'int',\n",
       " 'isinstance',\n",
       " 'issubclass',\n",
       " 'iter',\n",
       " 'len',\n",
       " 'license',\n",
       " 'list',\n",
       " 'locals',\n",
       " 'map',\n",
       " 'max',\n",
       " 'memoryview',\n",
       " 'min',\n",
       " 'next',\n",
       " 'object',\n",
       " 'oct',\n",
       " 'open',\n",
       " 'ord',\n",
       " 'pow',\n",
       " 'print',\n",
       " 'property',\n",
       " 'range',\n",
       " 'repr',\n",
       " 'reversed',\n",
       " 'round',\n",
       " 'runfile',\n",
       " 'set',\n",
       " 'setattr',\n",
       " 'slice',\n",
       " 'sorted',\n",
       " 'staticmethod',\n",
       " 'str',\n",
       " 'sum',\n",
       " 'super',\n",
       " 'tuple',\n",
       " 'type',\n",
       " 'vars',\n",
       " 'zip']"
      ]
     },
     "execution_count": 8,
     "metadata": {},
     "output_type": "execute_result"
    }
   ],
   "source": [
    "dir(__builtins__) # 파이썬 내장함수들(?) 리스트들을 알려주는 명령어"
   ]
  },
  {
   "cell_type": "markdown",
   "id": "a98aabd1-83c2-4fcd-98c3-b94d94262da0",
   "metadata": {},
   "source": [
    "#### iterable 반복 가능한 => max함수는 시퀀스형 데이터 활용하는 함수(거의 그럼?)"
   ]
  },
  {
   "cell_type": "code",
   "execution_count": 10,
   "id": "c8d1c292-727e-40cc-903b-5ad4adca0dbf",
   "metadata": {},
   "outputs": [
    {
     "data": {
      "text/plain": [
       "4"
      ]
     },
     "execution_count": 10,
     "metadata": {},
     "output_type": "execute_result"
    }
   ],
   "source": [
    "max([1, 2, 3, 4])"
   ]
  },
  {
   "cell_type": "code",
   "execution_count": 12,
   "id": "79155919-3fba-4bbd-8811-43dac2cffb65",
   "metadata": {},
   "outputs": [],
   "source": [
    "def my_max(num1, num2):\n",
    "    # num1 = 5\n",
    "    # num2 = 1\n",
    "    if num1 > num2:\n",
    "        print(num1)\n",
    "    elif num1 < num2:\n",
    "        print(num2)\n",
    "    else:\n",
    "        print('같습니다')"
   ]
  },
  {
   "cell_type": "code",
   "execution_count": 13,
   "id": "a4e1786a-a87e-4512-8043-db0389aad727",
   "metadata": {},
   "outputs": [
    {
     "name": "stdout",
     "output_type": "stream",
     "text": [
      "5\n",
      "4\n",
      "같습니다\n"
     ]
    }
   ],
   "source": [
    "my_max(5, 1)\n",
    "my_max(2, 4)\n",
    "my_max(4, 4)"
   ]
  },
  {
   "cell_type": "markdown",
   "id": "b233979d-219a-41f2-bf34-1c5d6129ba6a",
   "metadata": {},
   "source": [
    "## 함수의 return \n",
    "(함수는 return 결과값[return value]이 나올 때까지 계속 활용되는 알고리즘. return이 떠야 결과값이 나온 것이므로 함수가 종료됨)\n",
    "  (return값이 뜨지 않는 함수는 return이 생략되어 나타난 것)\n",
    "\n",
    "- 함수가 return을 만나면 해당 값을 반환하고 함수를 종료: 더 이상 함수를 활용할 필요가 없을 때\n",
    "- 만약 return이 없는 경우 None울 자동으로 반환\n",
    "- return은 오작 하나의 객체만 반환한다\n",
    "  "
   ]
  },
  {
   "cell_type": "code",
   "execution_count": 21,
   "id": "f887bbd2-9b16-4f05-be27-5d4f4e8bf805",
   "metadata": {},
   "outputs": [
    {
     "name": "stdout",
     "output_type": "stream",
     "text": [
      "2\n",
      "None\n"
     ]
    }
   ],
   "source": [
    "result = my_max(1, 2)\n",
    "print(result)  # None = return(None)"
   ]
  },
  {
   "cell_type": "code",
   "execution_count": 16,
   "id": "dd650cbd-31d2-4059-8ff1-5d1c24cb2d25",
   "metadata": {},
   "outputs": [],
   "source": [
    "def my_max2(num1, num2):\n",
    "    if num1 > num2:\n",
    "        return num1\n",
    "    elif num1 < num2:\n",
    "        return num2\n",
    "    else:\n",
    "        return num1"
   ]
  },
  {
   "cell_type": "code",
   "execution_count": 19,
   "id": "5a7eac5f-4327-4c23-9259-97a5ac502613",
   "metadata": {},
   "outputs": [
    {
     "data": {
      "text/plain": [
       "2"
      ]
     },
     "execution_count": 19,
     "metadata": {},
     "output_type": "execute_result"
    }
   ],
   "source": [
    "result = my_max2(1, 2)\n",
    "result"
   ]
  },
  {
   "cell_type": "markdown",
   "id": "84a942a8-dd83-48e8-8a6a-cb3e17b05867",
   "metadata": {},
   "source": [
    "####print는 출력된 값. return은 결과값 # return만 넣어도 알아서 jupyter가 print해줌"
   ]
  },
  {
   "cell_type": "code",
   "execution_count": 42,
   "id": "d28d1e8a-d313-46dc-85af-de7a131ac0ba",
   "metadata": {},
   "outputs": [],
   "source": [
    "# 내가 만든 함수인데, 합을 통한 비교가 아닌, 요소의 크기 비교를 통한 비교가 나타난 것\n",
    "\n",
    "def my_list_max(list1, list2):\n",
    "    if list1 > list2:\n",
    "        return list1\n",
    "    elif list1 < list2:\n",
    "        return list2\n",
    "    else:\n",
    "        return list2\n"
   ]
  },
  {
   "cell_type": "code",
   "execution_count": 41,
   "id": "596a9107-210a-4480-a634-7996d295cc17",
   "metadata": {},
   "outputs": [
    {
     "data": {
      "text/plain": [
       "[2, 3, 4, 5, 7]"
      ]
     },
     "execution_count": 41,
     "metadata": {},
     "output_type": "execute_result"
    }
   ],
   "source": [
    "my_list_max([1,2,3,4], [2,3,4,5,7])"
   ]
  },
  {
   "cell_type": "code",
   "execution_count": 128,
   "id": "c2cba8f4-e96b-405c-9c51-1cbd95a33120",
   "metadata": {},
   "outputs": [
    {
     "ename": "SyntaxError",
     "evalue": "'return' outside function (38804394.py, line 16)",
     "output_type": "error",
     "traceback": [
      "\u001b[1;36m  Cell \u001b[1;32mIn[128], line 16\u001b[1;36m\u001b[0m\n\u001b[1;33m    return\u001b[0m\n\u001b[1;37m    ^\u001b[0m\n\u001b[1;31mSyntaxError\u001b[0m\u001b[1;31m:\u001b[0m 'return' outside function\n"
     ]
    }
   ],
   "source": [
    "# 내가 만드려는 함수 (다시 한번 이런 방삭ㅇ로 시도하기)\n",
    "\n",
    "a1 = 1\n",
    "a2 = 2\n",
    "a3 = 3\n",
    "\n",
    "a합 = a1 + a2 + a3\n",
    "\n",
    "b1 = 2\n",
    "b2 = 3\n",
    "b3 = 4\n",
    "\n",
    "b합 = b1 + b2 + b3\n",
    "\n",
    "if a합 > b합:\n",
    "    return "
   ]
  },
  {
   "cell_type": "code",
   "execution_count": 35,
   "id": "56e18d7f-6377-401e-979b-5771b2de5c0a",
   "metadata": {},
   "outputs": [
    {
     "ename": "SyntaxError",
     "evalue": "invalid syntax (1682585246.py, line 3)",
     "output_type": "error",
     "traceback": [
      "\u001b[1;36m  Cell \u001b[1;32mIn[35], line 3\u001b[1;36m\u001b[0m\n\u001b[1;33m    my_list_max():\u001b[0m\n\u001b[1;37m                 ^\u001b[0m\n\u001b[1;31mSyntaxError\u001b[0m\u001b[1;31m:\u001b[0m invalid syntax\n"
     ]
    }
   ],
   "source": [
    "#version 2 이어서 혼자 해보기\n",
    "\n",
    "my_list_max():\n",
    "\n"
   ]
  },
  {
   "cell_type": "code",
   "execution_count": 39,
   "id": "a4427a20-eb7b-4d11-925d-313f6b801b55",
   "metadata": {},
   "outputs": [],
   "source": [
    "# version 3 이어서 혼자 해보기\n",
    "def my_list_max(list1, list2):\n",
    "    if sum(list1) > sum(list2):\n",
    "        return list1\n",
    "    else:\n",
    "        return list2\n",
    "\n",
    "    "
   ]
  },
  {
   "cell_type": "code",
   "execution_count": 40,
   "id": "a18d8f93-47e0-4d43-91e6-74695cbe12a2",
   "metadata": {},
   "outputs": [
    {
     "data": {
      "text/plain": [
       "[2, 3, 4, 5, 7]"
      ]
     },
     "execution_count": 40,
     "metadata": {},
     "output_type": "execute_result"
    }
   ],
   "source": [
    "my_list_max([1,2,3], [2,3,4,5,7])"
   ]
  },
  {
   "cell_type": "code",
   "execution_count": 44,
   "id": "77bb1908-a06d-4d79-a1ec-d57984c372f8",
   "metadata": {},
   "outputs": [
    {
     "data": {
      "text/plain": [
       "20"
      ]
     },
     "execution_count": 44,
     "metadata": {},
     "output_type": "execute_result"
    }
   ],
   "source": [
    "def my_def(x):\n",
    "    return x * 2\n",
    "\n",
    "my_def(10)"
   ]
  },
  {
   "cell_type": "code",
   "execution_count": 62,
   "id": "1ce622c5-2b7e-4369-96e3-d6b5772385a8",
   "metadata": {},
   "outputs": [
    {
     "ename": "SyntaxError",
     "evalue": "incomplete input (1233213170.py, line 3)",
     "output_type": "error",
     "traceback": [
      "\u001b[1;36m  Cell \u001b[1;32mIn[62], line 3\u001b[1;36m\u001b[0m\n\u001b[1;33m    def my_def(x):\u001b[0m\n\u001b[1;37m                  ^\u001b[0m\n\u001b[1;31mSyntaxError\u001b[0m\u001b[1;31m:\u001b[0m incomplete input\n"
     ]
    }
   ],
   "source": [
    "#dd\n",
    "\n",
    "def my_def(x):\n"
   ]
  },
  {
   "cell_type": "code",
   "execution_count": 132,
   "id": "dcdfe3ca-bb9e-4ec6-a2f5-4ff7c9e4c8a9",
   "metadata": {},
   "outputs": [
    {
     "data": {
      "text/plain": [
       "10"
      ]
     },
     "execution_count": 132,
     "metadata": {},
     "output_type": "execute_result"
    }
   ],
   "source": [
    "def my_def2(x):\n",
    "    return x\n",
    "\n",
    "my_def2(10)"
   ]
  },
  {
   "cell_type": "markdown",
   "id": "110591ca-d375-4ad5-9838-f88475e3b4ed",
   "metadata": {},
   "source": [
    "## 함수의 인수\n",
    "### 위치 인수\n",
    "기본적으로 함수는 위치를 기준으로 인수를 판단합니다 (순서대로 재료를 판단한다는 것)\n"
   ]
  },
  {
   "cell_type": "code",
   "execution_count": 64,
   "id": "675825e5-97e2-4bf2-b021-0e4beec43973",
   "metadata": {},
   "outputs": [],
   "source": [
    "def cylinder(r, h):\n",
    "    return 3.14 * r**2 * h"
   ]
  },
  {
   "cell_type": "code",
   "execution_count": 66,
   "id": "c62c2ba8-24cc-4029-a35c-284464ce9e8c",
   "metadata": {},
   "outputs": [
    {
     "data": {
      "text/plain": [
       "785.0"
      ]
     },
     "execution_count": 66,
     "metadata": {},
     "output_type": "execute_result"
    }
   ],
   "source": [
    "cylinder(10, 5)\n",
    "cylinder(5,10)"
   ]
  },
  {
   "cell_type": "markdown",
   "id": "f0c8f17d-46aa-4570-997a-35bd89af6f71",
   "metadata": {},
   "source": [
    "## 기본값\n",
    "``` python\n",
    "def func(p1=v1):\n",
    "    code~~\n",
    "    return value(return하고 싶은 값)\n",
    "\n",
    "```\n",
    "\n",
    "v = 데이터가 없을 때 사용되는 기본 값(디폴트 값)"
   ]
  },
  {
   "cell_type": "code",
   "execution_count": 69,
   "id": "9beb89e0-d4a9-48ea-ad3d-99c160f01dd9",
   "metadata": {},
   "outputs": [],
   "source": [
    "def greeting(name='익명'):\n",
    "    return f'{name}님 반갑습니다'"
   ]
  },
  {
   "cell_type": "code",
   "execution_count": 71,
   "id": "7157d751-e708-445c-8a5d-6f7c931aa478",
   "metadata": {},
   "outputs": [
    {
     "data": {
      "text/plain": [
       "'익명님 반갑습니다'"
      ]
     },
     "execution_count": 71,
     "metadata": {},
     "output_type": "execute_result"
    }
   ],
   "source": [
    "greeting()"
   ]
  },
  {
   "cell_type": "code",
   "execution_count": 72,
   "id": "e50e06bf-89ef-45fc-b961-c650d39ad845",
   "metadata": {},
   "outputs": [
    {
     "data": {
      "text/plain": [
       "'김현호님 반갑습니다'"
      ]
     },
     "execution_count": 72,
     "metadata": {},
     "output_type": "execute_result"
    }
   ],
   "source": [
    "greeting('김현호')"
   ]
  },
  {
   "cell_type": "code",
   "execution_count": 78,
   "id": "8af7fffd-4565-448e-8ecd-11507980451a",
   "metadata": {},
   "outputs": [
    {
     "name": "stdout",
     "output_type": "stream",
     "text": [
      "안녕하세요?저는 현호입니다!hello\n"
     ]
    }
   ],
   "source": [
    "print('안녕하세요', '저는 현호입니다', sep='?', end='!')\n",
    "print('hello')\n",
    "\n",
    "#sep 가본값 뺘고 ? 넣음, end 기본값 빼고 ! 넣음\n",
    "\n"
   ]
  },
  {
   "cell_type": "code",
   "execution_count": 134,
   "id": "65dc9633-6d85-479c-a006-0f11a967b468",
   "metadata": {},
   "outputs": [
    {
     "ename": "SyntaxError",
     "evalue": "parameter without a default follows parameter with a default (1751685038.py, line 1)",
     "output_type": "error",
     "traceback": [
      "\u001b[1;36m  Cell \u001b[1;32mIn[134], line 1\u001b[1;36m\u001b[0m\n\u001b[1;33m    def greeting(name='익명', age):\u001b[0m\n\u001b[1;37m                            ^\u001b[0m\n\u001b[1;31mSyntaxError\u001b[0m\u001b[1;31m:\u001b[0m parameter without a default follows parameter with a default\n"
     ]
    }
   ],
   "source": [
    "def greeting(name='익명', age):\n",
    "    return f'{name}님의 나이는 {age}입니다.'"
   ]
  },
  {
   "cell_type": "code",
   "execution_count": 135,
   "id": "bad740ba-36bc-4a31-8b72-82d98da9fcce",
   "metadata": {},
   "outputs": [],
   "source": [
    "def greeting(age, name='익명'):\n",
    "    return f'{name}님의 나이는 {age}입니다.'\n",
    "    "
   ]
  },
  {
   "cell_type": "code",
   "execution_count": 136,
   "id": "24a25798-df34-4b59-a409-ac6cbccf6a78",
   "metadata": {},
   "outputs": [
    {
     "data": {
      "text/plain": [
       "'현호님의 나이는 10입니다.'"
      ]
     },
     "execution_count": 136,
     "metadata": {},
     "output_type": "execute_result"
    }
   ],
   "source": [
    "greeting(10, '현호')"
   ]
  },
  {
   "cell_type": "markdown",
   "id": "77654158-0e0b-49e1-b96a-31ee3415a3e7",
   "metadata": {},
   "source": [
    "## 키워드 인수\n",
    "\n",
    "함수를 호출(실행)할 때 내가 원하는 위치에 직접 특정인자를 전달"
   ]
  },
  {
   "cell_type": "code",
   "execution_count": 83,
   "id": "b68a6c78-7085-4d63-939a-7655a9781d8a",
   "metadata": {},
   "outputs": [],
   "source": [
    "def greeting(age, name='익명'):\n",
    "    return(f'{name}님의 나이는 {age}입니다.')"
   ]
  },
  {
   "cell_type": "code",
   "execution_count": 86,
   "id": "58b197a1-efc3-4fac-b13d-162cf663ae75",
   "metadata": {},
   "outputs": [
    {
     "data": {
      "text/plain": [
       "'길동님의 나이는 10입니다.'"
      ]
     },
     "execution_count": 86,
     "metadata": {},
     "output_type": "execute_result"
    }
   ],
   "source": [
    "greeting(10)\n",
    "greeting(10, '길동')\n",
    "greeting(name='길동', age=10)"
   ]
  },
  {
   "cell_type": "markdown",
   "id": "977ad09a-70e2-46f1-8b3a-f56d5c5831d9",
   "metadata": {},
   "source": [
    "### 가변 인자 리스트 \n",
    "(데이터가 들어오는 것이 가변적인 인자들)\n",
    "\n",
    "```python\n",
    "def func(*parms):\n",
    "    code...\n",
    "```\n"
   ]
  },
  {
   "cell_type": "code",
   "execution_count": 87,
   "id": "c4df0267-ad78-4f6f-a63f-7ab474341614",
   "metadata": {},
   "outputs": [
    {
     "name": "stdout",
     "output_type": "stream",
     "text": [
      "hi hello my name is\n"
     ]
    }
   ],
   "source": [
    "print('hi', 'hello', 'my', 'name', 'is')"
   ]
  },
  {
   "cell_type": "code",
   "execution_count": 89,
   "id": "d566a699-5e71-4eb1-8135-0e7f4cfc09ce",
   "metadata": {},
   "outputs": [],
   "source": [
    "def my_print(*words):\n",
    "    print(words)"
   ]
  },
  {
   "cell_type": "code",
   "execution_count": 91,
   "id": "408d96ab-17c1-4586-a67d-5279c1c7cc3f",
   "metadata": {},
   "outputs": [
    {
     "name": "stdout",
     "output_type": "stream",
     "text": [
      "('my', 'name', 'is')\n"
     ]
    }
   ],
   "source": [
    "my_print('my', 'name', 'is') # my, name, is 가변적 인자 모두 *words안에 저장되어짐 "
   ]
  },
  {
   "cell_type": "code",
   "execution_count": 92,
   "id": "0faed088-c83c-48e6-b51b-45267ce45543",
   "metadata": {},
   "outputs": [
    {
     "data": {
      "text/plain": [
       "10"
      ]
     },
     "execution_count": 92,
     "metadata": {},
     "output_type": "execute_result"
    }
   ],
   "source": [
    "max(1, 2, 3, 4, 5, 6, 7, 8, 9, 10)"
   ]
  },
  {
   "cell_type": "code",
   "execution_count": 140,
   "id": "00b8e86c-c480-47a7-87e6-9d7b2c43944b",
   "metadata": {},
   "outputs": [],
   "source": [
    "def my_max(*numbers):\n",
    "    print(numbers)"
   ]
  },
  {
   "cell_type": "code",
   "execution_count": 121,
   "id": "3a099219-4ac5-40c6-b457-fadbfdfe6f1d",
   "metadata": {},
   "outputs": [
    {
     "name": "stdout",
     "output_type": "stream",
     "text": [
      "(1, 2, 3, 4, 5)\n",
      "5\n"
     ]
    }
   ],
   "source": [
    "# 내가 한 실습 예시 1\n",
    "\n",
    "my_max(1, 2, 3, 4, 5)\n",
    "\n",
    "if 1 < 5:\n",
    "    print(5)\n",
    "elif 1 > 5:\n",
    "    print(0)"
   ]
  },
  {
   "cell_type": "code",
   "execution_count": 138,
   "id": "4ffa1d81-2436-4279-abc3-2be85d3630d9",
   "metadata": {},
   "outputs": [],
   "source": [
    "def my_max(*numbers):\n",
    "    print(numbers)"
   ]
  },
  {
   "cell_type": "code",
   "execution_count": 127,
   "id": "0a2c5e12-15f6-42b7-8d7f-a8f152caefa0",
   "metadata": {},
   "outputs": [
    {
     "name": "stdout",
     "output_type": "stream",
     "text": [
      "5\n",
      "5\n",
      "5\n",
      "5\n",
      "5\n"
     ]
    }
   ],
   "source": [
    "# 내가 한 실습 예시 2\n",
    "\n",
    "\n",
    "numbers = [1, 2, 3, 4, 5]\n",
    "\n",
    "for number in numbers:\n",
    "    print(5)"
   ]
  },
  {
   "cell_type": "code",
   "execution_count": 198,
   "id": "840571f0-3d31-47ec-9cb6-55def428bd1c",
   "metadata": {},
   "outputs": [
    {
     "ename": "IndentationError",
     "evalue": "unindent does not match any outer indentation level (<string>, line 7)",
     "output_type": "error",
     "traceback": [
      "\u001b[1;36m  File \u001b[1;32m<string>:7\u001b[1;36m\u001b[0m\n\u001b[1;33m    for number in numbers:\u001b[0m\n\u001b[1;37m                          ^\u001b[0m\n\u001b[1;31mIndentationError\u001b[0m\u001b[1;31m:\u001b[0m unindent does not match any outer indentation level\n"
     ]
    }
   ],
   "source": [
    "# 강사 정답안\n",
    "\n",
    "def my_max(*numbers):\n",
    "    max_num = 0\n",
    "    max_num = numbers[0]\n",
    "    \n",
    "   for number in numbers:\n",
    "       if max_num < number:\n",
    "           max_num = number\n",
    "\n",
    "    return max_num"
   ]
  },
  {
   "cell_type": "code",
   "execution_count": 161,
   "id": "083fb6ef-855c-4abe-86de-528d37e1b488",
   "metadata": {},
   "outputs": [
    {
     "name": "stdout",
     "output_type": "stream",
     "text": [
      "(1, 2, 3, 4, 5)\n"
     ]
    }
   ],
   "source": [
    "my_max(1, 2, 3, 4, 5)\n"
   ]
  },
  {
   "cell_type": "markdown",
   "id": "34208a03-564e-4462-961b-9986a32fdf98",
   "metadata": {},
   "source": [
    "### 정의되지 않은 키워드 인자 처리하기\n",
    "\n",
    "```python\n",
    "def func(**kwargs):\n",
    "    code\n",
    "\n",
    "```"
   ]
  },
  {
   "cell_type": "code",
   "execution_count": 166,
   "id": "c99046ef-ccc9-4027-9cf4-532f21a64505",
   "metadata": {},
   "outputs": [
    {
     "name": "stdout",
     "output_type": "stream",
     "text": [
      "{'name': 'hong', 'age': 10}\n"
     ]
    }
   ],
   "source": [
    "info = {\n",
    "'name': 'hong',\n",
    "    'age': 10,\n",
    "}\n",
    "print(info)"
   ]
  },
  {
   "cell_type": "code",
   "execution_count": 168,
   "id": "ccfe01e8-7e1a-4883-b158-9c987923c788",
   "metadata": {},
   "outputs": [
    {
     "name": "stdout",
     "output_type": "stream",
     "text": [
      "{'name': 'hong', 'age': 10}\n"
     ]
    }
   ],
   "source": [
    "dict(name='hong', age=10)\n",
    "print(info)"
   ]
  },
  {
   "cell_type": "code",
   "execution_count": 169,
   "id": "7edc6b47-0b2b-488f-b5e3-24ff6efaf27a",
   "metadata": {},
   "outputs": [],
   "source": [
    "def my_dict(**kwargs):\n",
    "    print(kwargs)"
   ]
  },
  {
   "cell_type": "code",
   "execution_count": 170,
   "id": "5f16e9cc-7731-4af8-a28e-a8e02ab67400",
   "metadata": {},
   "outputs": [
    {
     "name": "stdout",
     "output_type": "stream",
     "text": [
      "{'a': '호랑이', 'b': '사자', 'c': '송골매'}\n"
     ]
    }
   ],
   "source": [
    "my_dict(a='호랑이', b='사자', c='송골매')"
   ]
  },
  {
   "cell_type": "code",
   "execution_count": 173,
   "id": "c5718b96-13c7-4b2a-918f-7ed03c53107d",
   "metadata": {},
   "outputs": [],
   "source": [
    "def my_func(*datas, **kwdatas):\n",
    "    print(datas)\n",
    "    print(kwdatas)"
   ]
  },
  {
   "cell_type": "code",
   "execution_count": 174,
   "id": "50c6baf6-fc1c-4afb-911f-3197b9e1846c",
   "metadata": {},
   "outputs": [
    {
     "name": "stdout",
     "output_type": "stream",
     "text": [
      "(1, 'hello', [1, 2, 3], {})\n",
      "{'hello': 'hi', 'world': 123, 'hi': {}}\n"
     ]
    }
   ],
   "source": [
    "my_func(1, 'hello', [1,2,3], {}, hello='hi', world=123, hi={})"
   ]
  },
  {
   "cell_type": "markdown",
   "id": "a1e13f45-c2fd-4bc6-82f5-6e2ba1f1b62f",
   "metadata": {},
   "source": [
    "### dicitionary를 인자로 넣기(unpacking)"
   ]
  },
  {
   "cell_type": "code",
   "execution_count": 175,
   "id": "2b987f58-8c3d-49f6-96be-51a979398f2b",
   "metadata": {},
   "outputs": [],
   "source": [
    "def sign_up(username, pw, pw_conf):\n",
    "    if pw == pw_conf:\n",
    "        print(f'{username}님 회원 가입을 환영합니다')\n",
    "    else:\n",
    "        print('비밀번호가 일치하지 않습니다')"
   ]
  },
  {
   "cell_type": "code",
   "execution_count": 176,
   "id": "c5f14b12-5d33-4184-9ac8-49388f2c9006",
   "metadata": {},
   "outputs": [
    {
     "name": "stdout",
     "output_type": "stream",
     "text": [
      "비밀번호가 일치하지 않습니다\n",
      "hong님 회원 가입을 환영합니다\n"
     ]
    }
   ],
   "source": [
    "sign_up('hong', '1234', '123')\n",
    "sign_up('hong', '1234', '1234')"
   ]
  },
  {
   "cell_type": "code",
   "execution_count": 183,
   "id": "eaa568bf-b2e6-442a-b8cb-869535088ad3",
   "metadata": {},
   "outputs": [
    {
     "ename": "SyntaxError",
     "evalue": "invalid syntax (3331195755.py, line 3)",
     "output_type": "error",
     "traceback": [
      "\u001b[1;36m  Cell \u001b[1;32mIn[183], line 3\u001b[1;36m\u001b[0m\n\u001b[1;33m    'pw': '1234',\u001b[0m\n\u001b[1;37m        ^\u001b[0m\n\u001b[1;31mSyntaxError\u001b[0m\u001b[1;31m:\u001b[0m invalid syntax\n"
     ]
    }
   ],
   "source": [
    "user_info = {\n",
    "    'username': 'hong'\n",
    "    'pw': '1234',\n",
    "    'pw_conf': '1234',\n",
    "}\n",
    "sign_up(**user_info)\n",
    "sign_up(username='hong', pw='1234', pw_conf='1234')"
   ]
  },
  {
   "cell_type": "markdown",
   "id": "25188e6e-0c78-4f4d-abd2-1ab685837ca2",
   "metadata": {},
   "source": [
    "### lambda 표현식\n",
    "\n",
    "```python\n",
    "lambda parameter: expression\n",
    "```"
   ]
  },
  {
   "cell_type": "code",
   "execution_count": 187,
   "id": "a0d6aaa6-ecc4-4f4c-af7c-1efeb032c990",
   "metadata": {},
   "outputs": [],
   "source": [
    "def my_sum(num1, num2):\n",
    "    return num1 + num2"
   ]
  },
  {
   "cell_type": "code",
   "execution_count": 188,
   "id": "14122814-2506-45d8-bfdd-47fa22dc356e",
   "metadata": {},
   "outputs": [
    {
     "data": {
      "text/plain": [
       "3"
      ]
     },
     "execution_count": 188,
     "metadata": {},
     "output_type": "execute_result"
    }
   ],
   "source": [
    "my_sum(1,2)"
   ]
  },
  {
   "cell_type": "code",
   "execution_count": 190,
   "id": "ba5d90d4-42a0-43b8-a24f-dd23c3eb2e40",
   "metadata": {},
   "outputs": [
    {
     "data": {
      "text/plain": [
       "3"
      ]
     },
     "execution_count": 190,
     "metadata": {},
     "output_type": "execute_result"
    }
   ],
   "source": [
    "(lambda num1, num2: num1 + num2)(1,2)"
   ]
  },
  {
   "cell_type": "markdown",
   "id": "112b504a-d99f-4bf4-9940-e4ceedcb19eb",
   "metadata": {},
   "source": [
    "### 타입힌트"
   ]
  },
  {
   "cell_type": "code",
   "execution_count": 202,
   "id": "a6e33f38-0700-46b2-974a-8e37eae38cd6",
   "metadata": {},
   "outputs": [
    {
     "data": {
      "text/plain": [
       "'hi'"
      ]
     },
     "execution_count": 202,
     "metadata": {},
     "output_type": "execute_result"
    }
   ],
   "source": [
    "a = 1\n",
    "a\n",
    "a = 'hi'\n",
    "a"
   ]
  },
  {
   "cell_type": "code",
   "execution_count": 211,
   "id": "d7267853-5135-4e57-a136-140e13f40ca5",
   "metadata": {},
   "outputs": [],
   "source": [
    "def my_sum(a: int,b: int) -> int:\n",
    "    return a + b"
   ]
  },
  {
   "cell_type": "code",
   "execution_count": 212,
   "id": "43e97f6a-264c-4c9a-96e6-19f71147b3ae",
   "metadata": {},
   "outputs": [
    {
     "data": {
      "text/plain": [
       "3"
      ]
     },
     "execution_count": 212,
     "metadata": {},
     "output_type": "execute_result"
    }
   ],
   "source": [
    "my_sum(1, 2)"
   ]
  },
  {
   "cell_type": "markdown",
   "id": "fde6ad38-bdaf-4d0d-8777-26a6133b8f9b",
   "metadata": {},
   "source": [
    "## 이름공간(scope)\n",
    "\n",
    "python에서 사용되는 (함수, 변수 등) 이름들은 이름공간에 저장되어있습니다.\n",
    "\n",
    "1. Local: 정의된 함수 내부 (내가 정의한 함수?)\n",
    "2. Enclosed: 상위함수\n",
    "5. Global: 함수 밖\n",
    "6. Built-in: python이 기본적으로 가지고 있는 함수 / 변수"
   ]
  },
  {
   "cell_type": "code",
   "execution_count": 213,
   "id": "207d5f0c-88ae-4703-82d1-e9e451801ec7",
   "metadata": {},
   "outputs": [
    {
     "name": "stdout",
     "output_type": "stream",
     "text": [
      "1\n"
     ]
    }
   ],
   "source": [
    "result = str(1)\n",
    "print(result)"
   ]
  },
  {
   "cell_type": "code",
   "execution_count": 215,
   "id": "47aa9375-2b22-4707-8a0f-6c6a18d852c3",
   "metadata": {},
   "outputs": [],
   "source": [
    "str = 'hi'"
   ]
  },
  {
   "cell_type": "code",
   "execution_count": 218,
   "id": "f47c6db1-8611-4bc6-bce9-24fcc86e23c8",
   "metadata": {},
   "outputs": [
    {
     "name": "stdout",
     "output_type": "stream",
     "text": [
      "1\n"
     ]
    }
   ],
   "source": [
    "result = str(1)\n",
    "print(result)"
   ]
  },
  {
   "cell_type": "code",
   "execution_count": 217,
   "id": "8365f0f9-b0a2-4dba-9490-e1230b63fc7f",
   "metadata": {},
   "outputs": [],
   "source": [
    "del str"
   ]
  },
  {
   "cell_type": "code",
   "execution_count": 234,
   "id": "034fa81d-5fc2-42c7-9c3f-952b41f9f71e",
   "metadata": {},
   "outputs": [
    {
     "name": "stdout",
     "output_type": "stream",
     "text": [
      "1\n",
      "22\n"
     ]
    }
   ],
   "source": [
    "a = 1\n",
    "\n",
    "def local_scope(a):\n",
    "    # a=5가 생략됐음\n",
    "    return a\n",
    "\n",
    "print(a)\n",
    "print(local_scope(5))"
   ]
  },
  {
   "cell_type": "code",
   "execution_count": 225,
   "id": "2eb5a8bb-1e33-42d3-896a-2d20c11e8e3b",
   "metadata": {},
   "outputs": [
    {
     "data": {
      "text/plain": [
       "11"
      ]
     },
     "execution_count": 225,
     "metadata": {},
     "output_type": "execute_result"
    }
   ],
   "source": [
    "a = 10\n",
    "\n",
    "def global_scope():\n",
    "    global a\n",
    "    a = a + 1\n",
    "    return a\n",
    "\n",
    "global_scope()"
   ]
  },
  {
   "cell_type": "markdown",
   "id": "c6c5ded2-eb8c-405e-927f-8a682044d563",
   "metadata": {},
   "source": [
    "### 재귀\n",
    "재귀함수는 함수 내부에서 자기 자신을 호출하는 함수입니다.\n",
    "(함수 안에서 함수를 푸는?)"
   ]
  },
  {
   "cell_type": "markdown",
   "id": "ee11d872-af6c-450b-b2d5-27ab621efd4b",
   "metadata": {},
   "source": [
    "n! = 1 * 2 * 3 * ... n\n",
    "\n",
    "- 1! = 1\n",
    "- 2! = 1 * 2 = 1! * 2\n",
    "- 3! = 1 * 2 * 3 = 2! * 3\n",
    "- n! = (n-1)! * n"
   ]
  },
  {
   "cell_type": "code",
   "execution_count": 233,
   "id": "a58e1173-6f47-40c0-b9d5-82a58cde7cb2",
   "metadata": {},
   "outputs": [
    {
     "data": {
      "text/plain": [
       "5040"
      ]
     },
     "execution_count": 233,
     "metadata": {},
     "output_type": "execute_result"
    }
   ],
   "source": [
    "def fact(n):\n",
    "    if n == 1:\n",
    "        return 1\n",
    "    else:\n",
    "        return fact(n-1) * n\n",
    "\n",
    "\n",
    "fact(7)"
   ]
  },
  {
   "cell_type": "code",
   "execution_count": null,
   "id": "6c4faef3-a5b1-4924-955f-104ff1615778",
   "metadata": {},
   "outputs": [],
   "source": []
  },
  {
   "cell_type": "code",
   "execution_count": null,
   "id": "dfe926e8-fba3-4768-951e-356e17af87b4",
   "metadata": {},
   "outputs": [],
   "source": []
  },
  {
   "cell_type": "code",
   "execution_count": null,
   "id": "dd62a066-f0a6-4f87-86a8-357a77f3f6fd",
   "metadata": {},
   "outputs": [],
   "source": []
  },
  {
   "cell_type": "code",
   "execution_count": null,
   "id": "7b05ab3d-3af5-4341-8450-4d54130d2d57",
   "metadata": {},
   "outputs": [],
   "source": []
  },
  {
   "cell_type": "code",
   "execution_count": null,
   "id": "ebbb59a0-faee-4bc0-a0ef-7bcb0f7ee83b",
   "metadata": {},
   "outputs": [],
   "source": []
  },
  {
   "cell_type": "code",
   "execution_count": null,
   "id": "e860cb13-9897-477a-aae0-5435fd9ba5b8",
   "metadata": {},
   "outputs": [],
   "source": []
  },
  {
   "cell_type": "code",
   "execution_count": null,
   "id": "cb7a1086-9113-43da-b00a-f300e2f79194",
   "metadata": {},
   "outputs": [],
   "source": []
  }
 ],
 "metadata": {
  "kernelspec": {
   "display_name": "Python 3 (ipykernel)",
   "language": "python",
   "name": "python3"
  },
  "language_info": {
   "codemirror_mode": {
    "name": "ipython",
    "version": 3
   },
   "file_extension": ".py",
   "mimetype": "text/x-python",
   "name": "python",
   "nbconvert_exporter": "python",
   "pygments_lexer": "ipython3",
   "version": "3.12.4"
  }
 },
 "nbformat": 4,
 "nbformat_minor": 5
}
