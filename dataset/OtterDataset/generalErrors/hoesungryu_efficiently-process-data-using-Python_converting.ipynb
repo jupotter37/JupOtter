{
 "cells": [
  {
   "cell_type": "markdown",
   "metadata": {},
   "source": [
    "## Converting "
   ]
  },
  {
   "cell_type": "markdown",
   "metadata": {},
   "source": [
    "## Arguments: py <--> ipynb\n",
    " \n",
    " - reference: https://docs.python.org/ko/3/library/argparse.html"
   ]
  },
  {
   "cell_type": "code",
   "execution_count": 24,
   "metadata": {},
   "outputs": [],
   "source": [
    "import argparse\n",
    "parser = argparse.ArgumentParser(\n",
    "                    prog = 'ProgramName',\n",
    "                    description = 'What the program does',\n",
    "                    epilog = 'Text at the bottom of help')\n",
    "\n",
    "parser.add_argument('-b','--batch_size', default=128, type=int, help='--')\n",
    "parser.add_argument('-lr','--learning_rate', default=0.001, type=float, help='--')\n",
    "parser.add_argument('-epochs', '--num_epochs', default=201, type=int, help='--')\n",
    "\n",
    "\n",
    "# ----------------------------\n",
    "# only activate in .py file \n",
    "# ----------------------------\n",
    "# args = parser.parse_args()\n",
    "\n",
    "# ----------------------------\n",
    "# when using argparse in jupyter ... \n",
    "# ----------------------------\n",
    "args = parser.parse_args(args=[])\n"
   ]
  },
  {
   "cell_type": "code",
   "execution_count": 21,
   "metadata": {},
   "outputs": [
    {
     "name": "stdout",
     "output_type": "stream",
     "text": [
      "Batch Size: 128\n",
      "Learning Rate: 0.001\n",
      "Num of Epochs: 201\n"
     ]
    }
   ],
   "source": [
    "print('Batch Size:', args.batch_size)\n",
    "print('Learning Rate:', args.learning_rate)\n",
    "print('Num of Epochs:', args.num_epochs)"
   ]
  },
  {
   "cell_type": "markdown",
   "metadata": {},
   "source": [
    "## Python Exception; Assert & Raise\n",
    "\n",
    "unittest 처럼 시험이나 디버깅을 위한 목적이라면 assert, 실제 서비스에게 상태를 알리는 것이 목적이라면 raise를 사용하자.\n"
   ]
  },
  {
   "cell_type": "markdown",
   "metadata": {},
   "source": [
    "Top-10 : https://blockdmask.tistory.com/550\n",
    "```\n",
    "1. ValueError\n",
    "2. IndexError\n",
    "3. SyntaxError\n",
    "4. NameError\n",
    "5. ZeroDivisionError\n",
    "6. FileNotFoundError\n",
    "7. TypeError\n",
    "8. AttributeError\n",
    "9. KeyError \n",
    "10. OverFlowError\n",
    "```\n",
    "\n",
    "Whole type of Errors\n",
    "```\n",
    "BaseException\n",
    " ├── BaseExceptionGroup\n",
    " ├── GeneratorExit\n",
    " ├── KeyboardInterrupt\n",
    " ├── SystemExit\n",
    " └── Exception\n",
    "      ├── ArithmeticError\n",
    "      │    ├── FloatingPointError\n",
    "      │    ├── OverflowError\n",
    "      │    └── ZeroDivisionError\n",
    "      ├── AssertionError\n",
    "      ├── AttributeError\n",
    "      ├── BufferError\n",
    "      ├── EOFError\n",
    "      ├── ExceptionGroup [BaseExceptionGroup]\n",
    "      ├── ImportError\n",
    "      │    └── ModuleNotFoundError\n",
    "      ├── LookupError\n",
    "      │    ├── IndexError\n",
    "      │    └── KeyError\n",
    "      ├── MemoryError\n",
    "      ├── NameError\n",
    "      │    └── UnboundLocalError\n",
    "      ├── OSError\n",
    "      │    ├── BlockingIOError\n",
    "      │    ├── ChildProcessError\n",
    "      │    ├── ConnectionError\n",
    "      │    │    ├── BrokenPipeError\n",
    "      │    │    ├── ConnectionAbortedError\n",
    "      │    │    ├── ConnectionRefusedError\n",
    "      │    │    └── ConnectionResetError\n",
    "      │    ├── FileExistsError\n",
    "      │    ├── FileNotFoundError\n",
    "      │    ├── InterruptedError\n",
    "      │    ├── IsADirectoryError\n",
    "      │    ├── NotADirectoryError\n",
    "      │    ├── PermissionError\n",
    "      │    ├── ProcessLookupError\n",
    "      │    └── TimeoutError\n",
    "      ├── ReferenceError\n",
    "      ├── RuntimeError\n",
    "      │    ├── NotImplementedError\n",
    "      │    └── RecursionError\n",
    "      ├── StopAsyncIteration\n",
    "      ├── StopIteration\n",
    "      ├── SyntaxError\n",
    "      │    └── IndentationError\n",
    "      │         └── TabError\n",
    "      ├── SystemError\n",
    "      ├── TypeError\n",
    "      ├── ValueError\n",
    "      │    └── UnicodeError\n",
    "      │         ├── UnicodeDecodeError\n",
    "      │         ├── UnicodeEncodeError\n",
    "      │         └── UnicodeTranslateError\n",
    "      └── Warning\n",
    "           ├── BytesWarning\n",
    "           ├── DeprecationWarning\n",
    "           ├── EncodingWarning\n",
    "           ├── FutureWarning\n",
    "           ├── ImportWarning\n",
    "           ├── PendingDeprecationWarning\n",
    "           ├── ResourceWarning\n",
    "           ├── RuntimeWarning\n",
    "           ├── SyntaxWarning\n",
    "           ├── UnicodeWarning\n",
    "           └── UserWarning\n",
    "```\n",
    "\n"
   ]
  },
  {
   "cell_type": "code",
   "execution_count": null,
   "metadata": {},
   "outputs": [],
   "source": [
    "# ignore error\n",
    "import warnings\n",
    "warnings.filterwarnings('ignore')"
   ]
  },
  {
   "cell_type": "markdown",
   "metadata": {},
   "source": [
    "## Assert \n",
    "\n",
    "- `assert <condition>, <optional error message>`"
   ]
  },
  {
   "cell_type": "code",
   "execution_count": 2,
   "metadata": {},
   "outputs": [
    {
     "ename": "AssertionError",
     "evalue": "X should be 1 plz check the value of x",
     "output_type": "error",
     "traceback": [
      "\u001b[0;31m---------------------------------------------------------------------------\u001b[0m",
      "\u001b[0;31mAssertionError\u001b[0m                            Traceback (most recent call last)",
      "Cell \u001b[0;32mIn [2], line 3\u001b[0m\n\u001b[1;32m      1\u001b[0m \u001b[39m# assert <condition>, <optional error message>\u001b[39;00m\n\u001b[1;32m      2\u001b[0m x \u001b[39m=\u001b[39m \u001b[39m1\u001b[39m\n\u001b[0;32m----> 3\u001b[0m \u001b[39massert\u001b[39;00m x \u001b[39m==\u001b[39m \u001b[39m2\u001b[39m, \u001b[39m'\u001b[39m\u001b[39mX should be 1 plz check the value of x\u001b[39m\u001b[39m'\u001b[39m\n",
      "\u001b[0;31mAssertionError\u001b[0m: X should be 1 plz check the value of x"
     ]
    }
   ],
   "source": [
    "x = 1\n",
    "assert x == 2, 'X should be 1 plz check the value of x'\n"
   ]
  },
  {
   "cell_type": "code",
   "execution_count": 4,
   "metadata": {},
   "outputs": [],
   "source": [
    "def sum_list(lst: list) -> float:\n",
    "    assert type(lst) == list, 'Param `lst` must be of type list!'\n",
    "    assert len(lst), 'The input list is empty!'\n",
    "\n",
    "    total = 0\n",
    "    for item in lst:\n",
    "        total += item \n",
    "    \n",
    "    return total"
   ]
  },
  {
   "cell_type": "code",
   "execution_count": 7,
   "metadata": {},
   "outputs": [
    {
     "ename": "AssertionError",
     "evalue": "Param `lst` must be of type list!",
     "output_type": "error",
     "traceback": [
      "\u001b[0;31m---------------------------------------------------------------------------\u001b[0m",
      "\u001b[0;31mAssertionError\u001b[0m                            Traceback (most recent call last)",
      "Cell \u001b[0;32mIn [7], line 1\u001b[0m\n\u001b[0;32m----> 1\u001b[0m lst_sum \u001b[39m=\u001b[39m sum_list({\u001b[39m'\u001b[39;49m\u001b[39ma\u001b[39;49m\u001b[39m'\u001b[39;49m: \u001b[39m1\u001b[39;49m, \u001b[39m'\u001b[39;49m\u001b[39mb\u001b[39;49m\u001b[39m'\u001b[39;49m: \u001b[39m4\u001b[39;49m})\n\u001b[1;32m      2\u001b[0m \u001b[39mprint\u001b[39m(lst_sum)\n",
      "Cell \u001b[0;32mIn [4], line 2\u001b[0m, in \u001b[0;36msum_list\u001b[0;34m(lst)\u001b[0m\n\u001b[1;32m      1\u001b[0m \u001b[39mdef\u001b[39;00m \u001b[39msum_list\u001b[39m(lst: \u001b[39mlist\u001b[39m) \u001b[39m-\u001b[39m\u001b[39m>\u001b[39m \u001b[39mfloat\u001b[39m:\n\u001b[0;32m----> 2\u001b[0m     \u001b[39massert\u001b[39;00m \u001b[39mtype\u001b[39m(lst) \u001b[39m==\u001b[39m \u001b[39mlist\u001b[39m, \u001b[39m'\u001b[39m\u001b[39mParam `lst` must be of type list!\u001b[39m\u001b[39m'\u001b[39m\n\u001b[1;32m      3\u001b[0m     \u001b[39massert\u001b[39;00m \u001b[39mlen\u001b[39m(lst), \u001b[39m'\u001b[39m\u001b[39mThe input list is empty!\u001b[39m\u001b[39m'\u001b[39m\n\u001b[1;32m      5\u001b[0m     total \u001b[39m=\u001b[39m \u001b[39m0\u001b[39m\n",
      "\u001b[0;31mAssertionError\u001b[0m: Param `lst` must be of type list!"
     ]
    }
   ],
   "source": [
    "lst_sum = sum_list({'a': 1, 'b': 4})\n",
    "print(lst_sum)\n"
   ]
  },
  {
   "cell_type": "code",
   "execution_count": 8,
   "metadata": {},
   "outputs": [
    {
     "ename": "AssertionError",
     "evalue": "The input list is empty!",
     "output_type": "error",
     "traceback": [
      "\u001b[0;31m---------------------------------------------------------------------------\u001b[0m",
      "\u001b[0;31mAssertionError\u001b[0m                            Traceback (most recent call last)",
      "Cell \u001b[0;32mIn [8], line 1\u001b[0m\n\u001b[0;32m----> 1\u001b[0m lst_sum \u001b[39m=\u001b[39m sum_list(lst\u001b[39m=\u001b[39;49m[])\n\u001b[1;32m      2\u001b[0m \u001b[39mprint\u001b[39m(lst_sum)\n",
      "Cell \u001b[0;32mIn [4], line 3\u001b[0m, in \u001b[0;36msum_list\u001b[0;34m(lst)\u001b[0m\n\u001b[1;32m      1\u001b[0m \u001b[39mdef\u001b[39;00m \u001b[39msum_list\u001b[39m(lst: \u001b[39mlist\u001b[39m) \u001b[39m-\u001b[39m\u001b[39m>\u001b[39m \u001b[39mfloat\u001b[39m:\n\u001b[1;32m      2\u001b[0m     \u001b[39massert\u001b[39;00m \u001b[39mtype\u001b[39m(lst) \u001b[39m==\u001b[39m \u001b[39mlist\u001b[39m, \u001b[39m'\u001b[39m\u001b[39mParam `lst` must be of type list!\u001b[39m\u001b[39m'\u001b[39m\n\u001b[0;32m----> 3\u001b[0m     \u001b[39massert\u001b[39;00m \u001b[39mlen\u001b[39m(lst), \u001b[39m'\u001b[39m\u001b[39mThe input list is empty!\u001b[39m\u001b[39m'\u001b[39m\n\u001b[1;32m      5\u001b[0m     total \u001b[39m=\u001b[39m \u001b[39m0\u001b[39m\n\u001b[1;32m      6\u001b[0m     \u001b[39mfor\u001b[39;00m item \u001b[39min\u001b[39;00m lst:\n",
      "\u001b[0;31mAssertionError\u001b[0m: The input list is empty!"
     ]
    }
   ],
   "source": [
    "lst_sum = sum_list(lst=[])\n",
    "print(lst_sum)"
   ]
  },
  {
   "cell_type": "markdown",
   "metadata": {},
   "source": [
    "## Raise + try, except, and finally"
   ]
  },
  {
   "cell_type": "markdown",
   "metadata": {},
   "source": [
    "<img src='https://mblogthumb-phinf.pstatic.net/20130301_148/dudwo567890_1362103321490gg9bV_PNG/2013-03-01_105920.png?type=w420' width= 20% >"
   ]
  },
  {
   "cell_type": "code",
   "execution_count": 9,
   "metadata": {},
   "outputs": [
    {
     "ename": "ValueError",
     "evalue": "String can't be changed into integer",
     "output_type": "error",
     "traceback": [
      "\u001b[0;31m---------------------------------------------------------------------------\u001b[0m",
      "\u001b[0;31mValueError\u001b[0m                                Traceback (most recent call last)",
      "Cell \u001b[0;32mIn [9], line 4\u001b[0m\n\u001b[1;32m      3\u001b[0m \u001b[39mtry\u001b[39;00m:\n\u001b[0;32m----> 4\u001b[0m     num \u001b[39m=\u001b[39m \u001b[39mint\u001b[39;49m(s)\n\u001b[1;32m      5\u001b[0m \u001b[39mexcept\u001b[39;00m \u001b[39mValueError\u001b[39;00m:\n",
      "\u001b[0;31mValueError\u001b[0m: invalid literal for int() with base 10: 'apple'",
      "\nDuring handling of the above exception, another exception occurred:\n",
      "\u001b[0;31mValueError\u001b[0m                                Traceback (most recent call last)",
      "Cell \u001b[0;32mIn [9], line 6\u001b[0m\n\u001b[1;32m      4\u001b[0m     num \u001b[39m=\u001b[39m \u001b[39mint\u001b[39m(s)\n\u001b[1;32m      5\u001b[0m \u001b[39mexcept\u001b[39;00m \u001b[39mValueError\u001b[39;00m:\n\u001b[0;32m----> 6\u001b[0m     \u001b[39mraise\u001b[39;00m \u001b[39mValueError\u001b[39;00m(\u001b[39m\"\u001b[39m\u001b[39mString can\u001b[39m\u001b[39m'\u001b[39m\u001b[39mt be changed into integer\u001b[39m\u001b[39m\"\u001b[39m)\n",
      "\u001b[0;31mValueError\u001b[0m: String can't be changed into integer"
     ]
    }
   ],
   "source": [
    "s = 'apple'\n",
    "\n",
    "try:\n",
    "    num = int(s)\n",
    "except ValueError:\n",
    "    raise ValueError(\"String can't be changed into integer\")"
   ]
  },
  {
   "cell_type": "code",
   "execution_count": 11,
   "metadata": {},
   "outputs": [
    {
     "name": "stdout",
     "output_type": "stream",
     "text": [
      "0\n",
      "----------\n",
      "input is 1\n",
      "----------\n",
      "input is 2\n",
      "----------\n",
      "3\n",
      "----------\n",
      "4\n",
      "----------\n"
     ]
    }
   ],
   "source": [
    "for i in range(5):\n",
    "    # print(i)\n",
    "    try:\n",
    "        if i == 1:\n",
    "            raise ValueError\n",
    "        elif i ==2: \n",
    "            raise NameError\n",
    "        print(i)\n",
    "\n",
    "    except ValueError:\n",
    "        print('input is 1')\n",
    "    except NameError:\n",
    "        print('input is 2')\n",
    "\n",
    "    finally:\n",
    "        print('-'*10)\n",
    "\n",
    "        "
   ]
  },
  {
   "cell_type": "code",
   "execution_count": 14,
   "metadata": {},
   "outputs": [
    {
     "name": "stdout",
     "output_type": "stream",
     "text": [
      "0\n",
      "----------\n",
      "\n",
      "input is 1\n",
      "----------\n",
      "\n",
      "input is 2\n",
      "----------\n",
      "3\n",
      "----------\n",
      "4\n",
      "----------\n"
     ]
    }
   ],
   "source": [
    "class CaptureInputError(Exception):\n",
    "    def __init__(self, *args: object) -> None:\n",
    "        super().__init__(*args)\n",
    "        print(*args)\n",
    "\n",
    "        \n",
    "for i in range(5):\n",
    "    # print(i)\n",
    "    try:\n",
    "        if i == 1:\n",
    "            raise CaptureInputError\n",
    "        elif i ==2: \n",
    "            raise CaptureInputError\n",
    "        print(i)\n",
    "\n",
    "    except CaptureInputError:\n",
    "        print(f'input is {i}')\n",
    "\n",
    "    finally:\n",
    "        print('-'*10)\n",
    "\n",
    "        "
   ]
  },
  {
   "cell_type": "markdown",
   "metadata": {},
   "source": [
    "## "
   ]
  }
 ],
 "metadata": {
  "kernelspec": {
   "display_name": "Python 3.6.9 64-bit",
   "language": "python",
   "name": "python3"
  },
  "language_info": {
   "codemirror_mode": {
    "name": "ipython",
    "version": 3
   },
   "file_extension": ".py",
   "mimetype": "text/x-python",
   "name": "python",
   "nbconvert_exporter": "python",
   "pygments_lexer": "ipython3",
   "version": "3.9.6"
  },
  "orig_nbformat": 4,
  "vscode": {
   "interpreter": {
    "hash": "31f2aee4e71d21fbe5cf8b01ff0e069b9275f58929596ceb00d14d90e3e16cd6"
   }
  }
 },
 "nbformat": 4,
 "nbformat_minor": 2
}
