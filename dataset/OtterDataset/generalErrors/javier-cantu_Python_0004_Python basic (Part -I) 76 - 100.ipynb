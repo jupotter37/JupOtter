{
 "cells": [
  {
   "cell_type": "markdown",
   "id": "0c58b6c3",
   "metadata": {},
   "source": [
    "# 0004_Python basic (Part -I) 76 - 100"
   ]
  },
  {
   "cell_type": "markdown",
   "id": "597337bb",
   "metadata": {},
   "source": [
    "Ejercicios python 76 - 100\n",
    "[Python basic (Part -I)](https://www.w3resource.com/python-exercises/python-basic-exercises.php)"
   ]
  },
  {
   "cell_type": "markdown",
   "id": "537e59a7",
   "metadata": {},
   "source": [
    "---"
   ]
  },
  {
   "cell_type": "markdown",
   "id": "ca06f656",
   "metadata": {},
   "source": [
    "### 76. Write a Python program to get the command-line arguments (name of the script, the number of arguments, arguments) passed to a script. "
   ]
  },
  {
   "cell_type": "code",
   "execution_count": 1,
   "id": "b9343d54",
   "metadata": {},
   "outputs": [],
   "source": [
    "import sys"
   ]
  },
  {
   "cell_type": "code",
   "execution_count": 5,
   "id": "83c263fc",
   "metadata": {},
   "outputs": [
    {
     "name": "stdout",
     "output_type": "stream",
     "text": [
      "This is the name/path of the script:\n",
      "C:\\ProgramData\\Anaconda3\\lib\\site-packages\\ipykernel_launcher.py\n"
     ]
    }
   ],
   "source": [
    "print(f\"This is the name/path of the script:\\n{sys.argv[0]}\")"
   ]
  },
  {
   "cell_type": "code",
   "execution_count": 6,
   "id": "6d9ec0d4",
   "metadata": {},
   "outputs": [
    {
     "name": "stdout",
     "output_type": "stream",
     "text": [
      "Number of arguments: 3\n"
     ]
    }
   ],
   "source": [
    "print(f\"Number of arguments: {len(sys.argv)}\")"
   ]
  },
  {
   "cell_type": "code",
   "execution_count": 7,
   "id": "980d55a4",
   "metadata": {},
   "outputs": [
    {
     "name": "stdout",
     "output_type": "stream",
     "text": [
      "Argument List: ['C:\\\\ProgramData\\\\Anaconda3\\\\lib\\\\site-packages\\\\ipykernel_launcher.py', '-f', 'C:\\\\Users\\\\Asus ROG PC\\\\AppData\\\\Roaming\\\\jupyter\\\\runtime\\\\kernel-0c416a2e-85ce-4f9b-9b21-1db43df385ac.json']\n"
     ]
    }
   ],
   "source": [
    "print(f\"Argument List: {str(sys.argv)}\")"
   ]
  },
  {
   "cell_type": "markdown",
   "id": "cf0344e9",
   "metadata": {},
   "source": [
    "When you print sys.argv, it displays a list of command-line arguments that were passed to the Python script. The list includes the script's name (usually at index 0) and any additional arguments provided when running the script.\n",
    "\n",
    "In your example, it shows that the script is being run with the name ipykernel_launcher.py and two additional arguments, which are -f and the path to a JSON file. This is a typical output when running a Python script within Jupyter Notebook or IPython, where -f is used to specify a connection file.\n",
    "\n",
    "So, the output you posted is indeed the correct representation of the command-line arguments passed to your script at the time of execution."
   ]
  },
  {
   "cell_type": "markdown",
   "id": "068f63c5",
   "metadata": {},
   "source": [
    "---"
   ]
  },
  {
   "cell_type": "markdown",
   "id": "56f11436",
   "metadata": {},
   "source": [
    "---"
   ]
  },
  {
   "cell_type": "markdown",
   "id": "86179f09",
   "metadata": {},
   "source": [
    "### 77. Write a Python program to test whether the system is a big-endian platform or a little-endian platform. "
   ]
  },
  {
   "cell_type": "markdown",
   "id": "55e64af7",
   "metadata": {},
   "source": [
    "Write a Python program to test whether the system is a big-endian platform or a little-endian platform.\n",
    "\n",
    "sys.byteorder: An indicator of the native byte order. This will have the value 'big' on big-endian (most-significant byte first) platforms, and 'little' on little-endian (least-significant byte first) platforms."
   ]
  },
  {
   "cell_type": "code",
   "execution_count": 8,
   "id": "82fe9a8e",
   "metadata": {},
   "outputs": [],
   "source": [
    "import sys"
   ]
  },
  {
   "cell_type": "code",
   "execution_count": 9,
   "id": "db3e1a2f",
   "metadata": {},
   "outputs": [
    {
     "name": "stdout",
     "output_type": "stream",
     "text": [
      "little\n"
     ]
    }
   ],
   "source": [
    "print(sys.byteorder)"
   ]
  },
  {
   "cell_type": "code",
   "execution_count": 10,
   "id": "9fd2ca2a",
   "metadata": {},
   "outputs": [
    {
     "name": "stdout",
     "output_type": "stream",
     "text": [
      "Little-endian platform.\n"
     ]
    }
   ],
   "source": [
    "if sys.byteorder == \"little\":\n",
    "    #intel, alpha\n",
    "    print(\"Little-endian platform.\")\n",
    "else:\n",
    "    #motorola, sparc\n",
    "    print(\"Big-endian platform.\")"
   ]
  },
  {
   "cell_type": "markdown",
   "id": "8bec65b5",
   "metadata": {},
   "source": [
    "---"
   ]
  },
  {
   "cell_type": "markdown",
   "id": "04dfc921",
   "metadata": {},
   "source": [
    "---"
   ]
  },
  {
   "cell_type": "markdown",
   "id": "a2cf4a7d",
   "metadata": {},
   "source": [
    "### 78. Write a Python program to find the available built-in modules. "
   ]
  },
  {
   "cell_type": "code",
   "execution_count": 11,
   "id": "579ad16f",
   "metadata": {},
   "outputs": [],
   "source": [
    "import sys"
   ]
  },
  {
   "cell_type": "code",
   "execution_count": 12,
   "id": "729c45c2",
   "metadata": {},
   "outputs": [],
   "source": [
    "import textwrap"
   ]
  },
  {
   "cell_type": "code",
   "execution_count": 13,
   "id": "8feae8ac",
   "metadata": {},
   "outputs": [],
   "source": [
    "module_name = ', '.join(sorted(sys.builtin_module_names))"
   ]
  },
  {
   "cell_type": "code",
   "execution_count": 14,
   "id": "11f46fff",
   "metadata": {},
   "outputs": [
    {
     "name": "stdout",
     "output_type": "stream",
     "text": [
      "_abc, _ast, _bisect, _blake2, _codecs, _codecs_cn, _codecs_hk,\n",
      "_codecs_iso2022, _codecs_jp, _codecs_kr, _codecs_tw, _collections,\n",
      "_contextvars, _csv, _datetime, _functools, _heapq, _imp, _io, _json,\n",
      "_locale, _lsprof, _md5, _multibytecodec, _opcode, _operator, _pickle,\n",
      "_random, _sha1, _sha256, _sha3, _sha512, _signal, _sre, _stat,\n",
      "_statistics, _string, _struct, _symtable, _thread, _tracemalloc,\n",
      "_warnings, _weakref, _winapi, _xxsubinterpreters, array, atexit,\n",
      "audioop, binascii, builtins, cmath, errno, faulthandler, gc,\n",
      "itertools, marshal, math, mmap, msvcrt, nt, parser, sys, time, winreg,\n",
      "xxsubtype, zlib\n"
     ]
    }
   ],
   "source": [
    "print(textwrap.fill(module_name, width=70))"
   ]
  },
  {
   "cell_type": "code",
   "execution_count": 15,
   "id": "0ed1c1cf",
   "metadata": {},
   "outputs": [
    {
     "name": "stdout",
     "output_type": "stream",
     "text": [
      "\n",
      "Please wait a moment while I gather a list of all available modules...\n",
      "\n"
     ]
    },
    {
     "name": "stderr",
     "output_type": "stream",
     "text": [
      "C:\\ProgramData\\Anaconda3\\lib\\site-packages\\IPython\\kernel\\__init__.py:12: ShimWarning: The `IPython.kernel` package has been deprecated since IPython 4.0.You should import from ipykernel or jupyter_client instead.\n",
      "  warn(\"The `IPython.kernel` package has been deprecated since IPython 4.0.\"\n",
      "WARNING: AstropyDeprecationWarning: The private astropy._erfa module has been made into its own package, pyerfa, which is a dependency of astropy and can be imported directly using \"import erfa\" [astropy._erfa]\n",
      "C:\\ProgramData\\Anaconda3\\lib\\pkgutil.py:92: MatplotlibDeprecationWarning: \n",
      "The matplotlib.compat module was deprecated in Matplotlib 3.3 and will be removed two minor releases later.\n",
      "  __import__(info.name)\n",
      "C:\\ProgramData\\Anaconda3\\lib\\site-packages\\nltk\\twitter\\__init__.py:21: UserWarning: The twython library has not been installed. Some functionality from the twitter package will not be available.\n",
      "  warnings.warn(\n"
     ]
    },
    {
     "name": "stdout",
     "output_type": "stream",
     "text": [
      "pygame 2.3.0 (SDL 2.24.2, Python 3.8.8)\n",
      "Hello from the pygame community. https://www.pygame.org/contribute.html\n"
     ]
    },
    {
     "name": "stderr",
     "output_type": "stream",
     "text": [
      "C:\\ProgramData\\Anaconda3\\lib\\site-packages\\skimage\\viewer\\utils\\__init__.py:1: UserWarning: Recommended matplotlib backend is `Agg` for full skimage.viewer functionality.\n",
      "  from .core import *\n",
      "C:\\ProgramData\\Anaconda3\\lib\\site-packages\\qtawesome\\iconic_font.py:313: UserWarning: You need to have a running QApplication to use QtAwesome!\n",
      "  warnings.warn(\"You need to have a running \"\n"
     ]
    },
    {
     "name": "stdout",
     "output_type": "stream",
     "text": [
      "_cffi_ext.c\r\n",
      "C:\\ProgramData\\Anaconda3\\lib\\site-packages\\zmq\\backend\\cffi\\__pycache__\\_cffi_ext.c(268): fatal error C1083: Cannot open include file: 'zmq.h': No such file or directory\r\n"
     ]
    },
    {
     "name": "stderr",
     "output_type": "stream",
     "text": [
      "C:\\ProgramData\\Anaconda3\\lib\\pkgutil.py:107: VisibleDeprecationWarning: zmq.eventloop.minitornado is deprecated in pyzmq 14.0 and will be removed.\n",
      "    Install tornado itself to use zmq with the tornado IOLoop.\n",
      "    \n",
      "  yield from walk_packages(path, info.name+'.', onerror)\n"
     ]
    },
    {
     "name": "stdout",
     "output_type": "stream",
     "text": [
      "Cython              brain_scipy_signal  mailcap             smtpd\n",
      "IPython             brain_six           markupsafe          smtplib\n",
      "OpenSSL             brain_sqlalchemy    marshal             sndhdr\n",
      "PIL                 brain_ssl           math                sniffio\n",
      "PyQt5               brain_subprocess    matplotlib          snowballstemmer\n",
      "__future__          brain_threading     mccabe              socket\n",
      "_abc                brain_type          mcpi                socketserver\n",
      "_ast                brain_typing        menuinst            socks\n",
      "_asyncio            brain_uuid          mimetypes           sockshandler\n",
      "_bisect             brotli              mistune             sortedcollections\n",
      "_black_version      bs4                 mkl                 sortedcontainers\n",
      "_blake2             builtins            mkl_fft             soupsieve\n",
      "_bootlocale         bz2                 mkl_random          sphinx\n",
      "_bz2                cProfile            mmap                sphinxcontrib\n",
      "_cffi_backend       calendar            mmapfile            spyder\n",
      "_codecs             certifi             mmsystem            spyder_kernels\n",
      "_codecs_cn          cffi                mock                sqlalchemy\n",
      "_codecs_hk          cgi                 modulefinder        sqlite3\n",
      "_codecs_iso2022     cgitb               more_itertools      sre_compile\n",
      "_codecs_jp          chardet             mpmath              sre_constants\n",
      "_codecs_kr          charset_normalizer  msgpack             sre_parse\n",
      "_codecs_tw          chunk               msilib              ssl\n",
      "_collections        click               msvcrt              sspi\n",
      "_collections_abc    cloudpickle         multipledispatch    sspicon\n",
      "_compat_pickle      clyent              multiprocessing     stat\n",
      "_compression        cmath               mypy_extensions     statistics\n",
      "_contextvars        cmd                 nacl                statsmodels\n",
      "_csv                code                navigator_updater   storemagic\n",
      "_ctypes             codecs              nbclassic           string\n",
      "_ctypes_test        codeop              nbclient            stringprep\n",
      "_datetime           collections         nbconvert           struct\n",
      "_decimal            colorama            nbformat            subprocess\n",
      "_distutils_hack     colorsys            nbt                 sunau\n",
      "_dummy_thread       commctrl            nest_asyncio        symbol\n",
      "_elementtree        compileall          netbios             sympy\n",
      "_functools          comtypes            netrc               sympyprinting\n",
      "_hashlib            concurrent          networkx            symtable\n",
      "_heapq              conda               nltk                sys\n",
      "_imp                conda_build         nntplib             sysconfig\n",
      "_io                 conda_content_trust noise               tables\n",
      "_json               conda_env           nose                tabnanny\n",
      "_locale             conda_package_handling notebook            tarfile\n",
      "_lsprof             conda_token         nt                  tblib\n",
      "_lzma               conda_verify        ntpath              telnetlib\n",
      "_markupbase         configparser        ntsecuritycon       tempfile\n",
      "_md5                contextlib          nturl2path          terminado\n",
      "_msi                contextlib2         numba               test\n",
      "_multibytecodec     contextvars         numbers             test_data\n",
      "_multiprocessing    copy                numexpr             test_pycosat\n",
      "_nsis               copyreg             numpy               testpath\n",
      "_opcode             crypt               numpydoc            tests\n",
      "_operator           cryptography        odbc                textdistance\n",
      "_osx_support        csv                 olefile             textwrap\n",
      "_overlapped         ctypes              opcode              this\n",
      "_pickle             curl                openpyxl            threading\n",
      "_py_abc             curses              operator            threadpoolctl\n",
      "_pydecimal          cv2                 optparse            three_merge\n",
      "_pyio               cwp                 os                  tifffile\n",
      "_pyrsistent_version cycler              packaging           time\n",
      "_pytest             cython              pandas              timeit\n",
      "_queue              cythonmagic         pandocfilters       timer\n",
      "_random             cytoolz             paramiko            tkinter\n",
      "_sha1               dask                parser              tlz\n",
      "_sha256             dataclasses         parso               token\n",
      "_sha3               datetime            partd               tokenize\n",
      "_sha512             dateutil            past                toml\n",
      "_signal             dbi                 path                toolz\n",
      "_sitebuiltins       dbm                 pathlib             tornado\n",
      "_socket             dde                 pathlib2            tqdm\n",
      "_sqlite3            decimal             pathspec            trace\n",
      "_sre                decorator           patsy               traceback\n",
      "_ssl                defusedxml          pdb                 tracemalloc\n",
      "_stat               diff_match_patch    pep8                traitlets\n",
      "_statistics         difflib             perfmon             tty\n",
      "_string             dis                 pexpect             turtle\n",
      "_strptime           distributed         pickle              turtledemo\n",
      "_struct             distutils           pickleshare         typed_ast\n",
      "_symtable           doctest             pickletools         types\n",
      "_system_path        docutils            pip                 typing\n",
      "_testbuffer         dummy_threading     pipes               typing_extensions\n",
      "_testcapi           email               pkg_resources       ujson\n",
      "_testconsole        encodings           pkginfo             unicodecsv\n",
      "_testimportmultiple ensurepip           pkgutil             unicodedata\n",
      "_testinternalcapi   entrypoints         platform            unittest\n",
      "_testmultiphase     enum                plistlib            urllib\n",
      "_thread             erfa                pluggy              urllib3\n",
      "_threading_local    errno               ply                 uu\n",
      "_tkinter            et_xmlfile          poplib              uuid\n",
      "_tracemalloc        fastcache           posixpath           vboxapi\n",
      "_warnings           faulthandler        pprint              venv\n",
      "_weakref            filecmp             profile             warnings\n",
      "_weakrefset         fileinput           prometheus_client   watchdog\n",
      "_win32sysloader     filelock            prompt_toolkit      wave\n",
      "_winapi             flake8              pstats              wcwidth\n",
      "_winxptheme         flask               psutil              weakref\n",
      "_xxsubinterpreters  fnmatch             pty                 webbrowser\n",
      "_yaml               formatter           ptyprocess          webencodings\n",
      "abc                 fractions           pvectorc            werkzeug\n",
      "adodbapi            fsspec              py                  wheel\n",
      "afxres              ftplib              py_compile          widgetsnbextension\n",
      "aifc                functools           pyclbr              win2kras\n",
      "alabaster           future              pycodestyle         win32api\n",
      "anaconda_navigator  gc                  pycosat             win32clipboard\n",
      "anaconda_project    genericpath         pycparser           win32com\n",
      "antigravity         getopt              pycurl              win32con\n",
      "anyio               getpass             pydoc               win32console\n",
      "appdirs             gettext             pydoc_data          win32cred\n",
      "argh                gevent              pydocstyle          win32crypt\n",
      "argon2              glob                pydub               win32cryptcon\n",
      "argparse            glob2               pyexpat             win32ctypes\n",
      "array               greenlet            pyflakes            win32event\n",
      "asn1crypto          gtts                pygame              win32evtlog\n",
      "ast                 gzip                pygments            win32evtlogutil\n",
      "astroid             h5py                pylab               win32file\n",
      "astropy             hashlib             pylint              win32gui\n",
      "async_generator     heapdict            pyls                win32gui_struct\n",
      "asynchat            heapq               pyls_black          win32help\n",
      "asyncio             hmac                pyls_jsonrpc        win32inet\n",
      "asyncore            html                pyls_spyder         win32inetcon\n",
      "atexit              html5lib            pyodbc              win32job\n",
      "atomicwrites        http                pyparsing           win32lz\n",
      "attr                idlelib             pyreadline          win32net\n",
      "audioop             idna                pyrsistent          win32netcon\n",
      "autopep8            imagecodecs         pytest              win32pdh\n",
      "autoreload          imageio             pythoncom           win32pdhquery\n",
      "babel               imagesize           pyttsx3             win32pdhutil\n",
      "backcall            imaplib             pytz                win32pipe\n",
      "backports           imghdr              pywin               win32print\n",
      "base64              imp                 pywin32_bootstrap   win32process\n",
      "bcrypt              importlib           pywin32_testutil    win32profile\n",
      "bdb                 importlib_metadata  pywintypes          win32ras\n",
      "binascii            iniconfig           pywt                win32rcparser\n",
      "binhex              inspect             pyximport           win32security\n",
      "binstar_client      intervaltree        qdarkstyle          win32service\n",
      "bisect              io                  qtawesome           win32serviceutil\n",
      "bitarray            ipaddress           qtconsole           win32timezone\n",
      "bkcharts            ipykernel           qtpy                win32trace\n",
      "black               ipykernel_launcher  queue               win32traceutil\n",
      "blackd              ipython_genutils    quopri              win32transaction\n",
      "bleach              ipywidgets          random              win32ts\n",
      "blib2to3            isapi               rasutil             win32ui\n",
      "bokeh               isort               re                  win32uiole\n",
      "boto                isympy              readline            win32verstamp\n",
      "bottleneck          itertools           regcheck            win32wnet\n",
      "brain_argparse      itsdangerous        regex               win_inet_pton\n",
      "brain_attrs         jdcal               regutil             win_unicode_console\n",
      "brain_boto3         jedi                repo_cli            wincertstore\n",
      "brain_builtin_inference jinja2              reprlib             winerror\n",
      "brain_collections   joblib              requests            winioctlcon\n",
      "brain_crypt         json                rlcompleter         winnt\n",
      "brain_curses        json5               rmagic              winperf\n",
      "brain_dataclasses   jsonschema          rope                winpty\n",
      "brain_dateutil      jupyter             rtree               winreg\n",
      "brain_fstrings      jupyter_client      ruamel_yaml         winsound\n",
      "brain_functools     jupyter_console     run                 winxpgui\n",
      "brain_gi            jupyter_core        runpy               winxptheme\n",
      "brain_hashlib       jupyter_packaging   sched               wrapt\n",
      "brain_http          jupyter_server      scipy               wsgiref\n",
      "brain_hypothesis    jupyterlab          scripts             xdrlib\n",
      "brain_io            jupyterlab_pygments seaborn             xlrd\n",
      "brain_mechanize     jupyterlab_server   secrets             xlsxwriter\n",
      "brain_multiprocessing jupyterlab_widgets  select              xlwings\n",
      "brain_namedtuple_enum keyring             selectors           xlwt\n",
      "brain_nose          keyword             send2trash          xml\n",
      "brain_numpy_core_fromnumeric kiwisolver          servicemanager      xmlrpc\n",
      "brain_numpy_core_function_base lazy_object_proxy   setuptools          xmltodict\n",
      "brain_numpy_core_multiarray lib2to3             shelve              xxsubtype\n",
      "brain_numpy_core_numeric libarchive          shlex               yaml\n",
      "brain_numpy_core_numerictypes libfuturize         shutil              yapf\n",
      "brain_numpy_core_umath libpasteurize       signal              yapftests\n",
      "brain_numpy_ndarray lief                simplegeneric       zict\n",
      "brain_numpy_random_mtrand linecache           singledispatch      zipapp\n",
      "brain_numpy_utils   llvmlite            sip                 zipfile\n",
      "brain_pkg_resources locale              sipconfig           zipimport\n",
      "brain_pytest        locket              sipdistutils        zipp\n",
      "brain_qt            logging             site                zlib\n",
      "brain_random        lxml                six                 zmq\n",
      "brain_re            lzma                skimage             zope\n",
      "brain_responses     mailbox             sklearn             ~ip\n",
      "\n",
      "Enter any module name to get more help.  Or, type \"modules spam\" to search\n",
      "for modules whose name or summary contain the string \"spam\".\n",
      "\n"
     ]
    }
   ],
   "source": [
    " help('modules')"
   ]
  },
  {
   "cell_type": "markdown",
   "id": "46fcf6ce",
   "metadata": {},
   "source": [
    "---"
   ]
  },
  {
   "cell_type": "markdown",
   "id": "31ea26e7",
   "metadata": {},
   "source": [
    "---"
   ]
  },
  {
   "cell_type": "markdown",
   "id": "0b5ce6d9",
   "metadata": {},
   "source": [
    "### 79. Write a Python program to get the size of an object in bytes. "
   ]
  },
  {
   "cell_type": "code",
   "execution_count": 16,
   "id": "b98052cf",
   "metadata": {},
   "outputs": [],
   "source": [
    "import sys"
   ]
  },
  {
   "cell_type": "code",
   "execution_count": 31,
   "id": "aa694887",
   "metadata": {},
   "outputs": [],
   "source": [
    "def getsizebyte(x):\n",
    "    size = sys.getsizeof(x)\n",
    "    print(f\"The size of ({x}) in bytes is {size} bytes\")"
   ]
  },
  {
   "cell_type": "code",
   "execution_count": 32,
   "id": "4e3b2999",
   "metadata": {},
   "outputs": [
    {
     "name": "stdout",
     "output_type": "stream",
     "text": [
      "The size of (one) in bytes is 52 bytes\n"
     ]
    }
   ],
   "source": [
    "getsizebyte(\"one\")"
   ]
  },
  {
   "cell_type": "code",
   "execution_count": 33,
   "id": "86ad9722",
   "metadata": {},
   "outputs": [
    {
     "name": "stdout",
     "output_type": "stream",
     "text": [
      "The size of (four) in bytes is 53 bytes\n"
     ]
    }
   ],
   "source": [
    "getsizebyte(\"four\")"
   ]
  },
  {
   "cell_type": "code",
   "execution_count": 34,
   "id": "a1cce9fd",
   "metadata": {},
   "outputs": [
    {
     "name": "stdout",
     "output_type": "stream",
     "text": [
      "The size of (three) in bytes is 54 bytes\n"
     ]
    }
   ],
   "source": [
    "getsizebyte(\"three\")"
   ]
  },
  {
   "cell_type": "code",
   "execution_count": 35,
   "id": "8845e4f4",
   "metadata": {},
   "outputs": [
    {
     "name": "stdout",
     "output_type": "stream",
     "text": [
      "The size of (0) in bytes is 24 bytes\n"
     ]
    }
   ],
   "source": [
    "getsizebyte(0)"
   ]
  },
  {
   "cell_type": "code",
   "execution_count": 36,
   "id": "4129ceec",
   "metadata": {},
   "outputs": [
    {
     "name": "stdout",
     "output_type": "stream",
     "text": [
      "The size of (8) in bytes is 28 bytes\n"
     ]
    }
   ],
   "source": [
    "getsizebyte(8)"
   ]
  },
  {
   "cell_type": "code",
   "execution_count": 37,
   "id": "e7c4caad",
   "metadata": {},
   "outputs": [
    {
     "name": "stdout",
     "output_type": "stream",
     "text": [
      "The size of (112) in bytes is 28 bytes\n"
     ]
    }
   ],
   "source": [
    "getsizebyte(112)"
   ]
  },
  {
   "cell_type": "code",
   "execution_count": 38,
   "id": "e9abe2e9",
   "metadata": {},
   "outputs": [
    {
     "name": "stdout",
     "output_type": "stream",
     "text": [
      "The size of ([1, 2, 3, 'Red', 'Black']) in bytes is 96 bytes\n"
     ]
    }
   ],
   "source": [
    "getsizebyte([1, 2, 3, 'Red', 'Black'])"
   ]
  },
  {
   "cell_type": "code",
   "execution_count": 39,
   "id": "9757ebe6",
   "metadata": {},
   "outputs": [
    {
     "name": "stdout",
     "output_type": "stream",
     "text": [
      "The size of (('Red', [8, 4, 6], (1, 2, 3))) in bytes is 64 bytes\n"
     ]
    }
   ],
   "source": [
    "getsizebyte((\"Red\", [8, 4, 6], (1, 2, 3)))"
   ]
  },
  {
   "cell_type": "code",
   "execution_count": 40,
   "id": "27e6154b",
   "metadata": {
    "scrolled": true
   },
   "outputs": [
    {
     "name": "stdout",
     "output_type": "stream",
     "text": [
      "The size of ({'apple', 'orange', 'pear'}) in bytes is 216 bytes\n"
     ]
    }
   ],
   "source": [
    "getsizebyte({'apple', 'orange', 'apple', 'pear'})"
   ]
  },
  {
   "cell_type": "code",
   "execution_count": 41,
   "id": "fece5aad",
   "metadata": {
    "scrolled": true
   },
   "outputs": [
    {
     "name": "stdout",
     "output_type": "stream",
     "text": [
      "The size of ({'Name': 'David', 'Age': 6, 'Class': 'First'}) in bytes is 232 bytes\n"
     ]
    }
   ],
   "source": [
    "getsizebyte({'Name': 'David', 'Age': 6, 'Class': 'First'})"
   ]
  },
  {
   "cell_type": "markdown",
   "id": "d295d55d",
   "metadata": {},
   "source": [
    "---"
   ]
  },
  {
   "cell_type": "markdown",
   "id": "4960fad4",
   "metadata": {},
   "source": [
    "---"
   ]
  },
  {
   "cell_type": "markdown",
   "id": "215df6f8",
   "metadata": {},
   "source": [
    "### 80. Write a Python program to get the current value of the recursion limit. "
   ]
  },
  {
   "cell_type": "markdown",
   "id": "2778645b",
   "metadata": {},
   "source": [
    "In Python, the recursion limit is a safeguard to prevent infinite recursion, which can lead to a \"RecursionError: maximum recursion depth exceeded\" exception. The `sys.getrecursionlimit()` function retrieves the current recursion limit, and by default, it's set to 3000.\n",
    "\n",
    "This means that in a typical Python program, if a function calls itself recursively more than 3000 times, a \"RecursionError\" will be raised, and the program will terminate. It's a way to prevent the program from consuming too much memory and causing a stack overflow."
   ]
  },
  {
   "cell_type": "code",
   "execution_count": 42,
   "id": "1fa2524d",
   "metadata": {},
   "outputs": [],
   "source": [
    "import sys"
   ]
  },
  {
   "cell_type": "code",
   "execution_count": 43,
   "id": "a61726e0",
   "metadata": {},
   "outputs": [
    {
     "name": "stdout",
     "output_type": "stream",
     "text": [
      "3000\n"
     ]
    }
   ],
   "source": [
    "print(sys.getrecursionlimit())"
   ]
  },
  {
   "cell_type": "markdown",
   "id": "a03118d7",
   "metadata": {},
   "source": [
    "---"
   ]
  },
  {
   "cell_type": "markdown",
   "id": "90db8e52",
   "metadata": {},
   "source": [
    "---"
   ]
  },
  {
   "cell_type": "markdown",
   "id": "4abc7898",
   "metadata": {},
   "source": [
    "### 81. Write a Python program to concatenate N strings. "
   ]
  },
  {
   "cell_type": "code",
   "execution_count": 1,
   "id": "42e2a93a",
   "metadata": {},
   "outputs": [],
   "source": [
    "list_of_colors = ['Red', 'Blue', 'Yellow', 'White']"
   ]
  },
  {
   "cell_type": "code",
   "execution_count": 2,
   "id": "0fbdaebd",
   "metadata": {},
   "outputs": [],
   "source": [
    "colors = '-'.join(list_of_colors)"
   ]
  },
  {
   "cell_type": "code",
   "execution_count": 3,
   "id": "e40c84c8",
   "metadata": {},
   "outputs": [
    {
     "name": "stdout",
     "output_type": "stream",
     "text": [
      "Red-Blue-Yellow-White\n"
     ]
    }
   ],
   "source": [
    "print(colors)"
   ]
  },
  {
   "cell_type": "markdown",
   "id": "8e304a7c",
   "metadata": {},
   "source": [
    "---"
   ]
  },
  {
   "cell_type": "markdown",
   "id": "31f93763",
   "metadata": {},
   "source": [
    "---"
   ]
  },
  {
   "cell_type": "markdown",
   "id": "963a9e9f",
   "metadata": {},
   "source": [
    "### 82. Write a Python program to calculate the sum of all items of a container (tuple, list, set, dictionary). "
   ]
  },
  {
   "cell_type": "code",
   "execution_count": 7,
   "id": "ca605bf0",
   "metadata": {},
   "outputs": [],
   "source": [
    "container = [10,20,30]"
   ]
  },
  {
   "cell_type": "code",
   "execution_count": 8,
   "id": "e5a9ca30",
   "metadata": {},
   "outputs": [],
   "source": [
    "sum_cont = sum(container)"
   ]
  },
  {
   "cell_type": "code",
   "execution_count": 9,
   "id": "04f20168",
   "metadata": {
    "scrolled": true
   },
   "outputs": [
    {
     "name": "stdout",
     "output_type": "stream",
     "text": [
      "The sum of the container [10, 20, 30] is 60\n"
     ]
    }
   ],
   "source": [
    "print(f\"The sum of the container {container} is {sum_cont}\")"
   ]
  },
  {
   "cell_type": "markdown",
   "id": "f0cc53f4",
   "metadata": {},
   "source": [
    "---"
   ]
  },
  {
   "cell_type": "markdown",
   "id": "da6a8a45",
   "metadata": {},
   "source": [
    "---"
   ]
  },
  {
   "cell_type": "markdown",
   "id": "c5b045e0",
   "metadata": {},
   "source": [
    "### 83. Write a Python program to test whether all numbers in a list are greater than a certain number. "
   ]
  },
  {
   "cell_type": "code",
   "execution_count": 10,
   "id": "e852d154",
   "metadata": {},
   "outputs": [],
   "source": [
    "def are_all_numbs_greater_than(lst, number):\n",
    "    for num in lst:\n",
    "        if num <= number:\n",
    "            return false\n",
    "    return True"
   ]
  },
  {
   "cell_type": "code",
   "execution_count": 11,
   "id": "bf912a9b",
   "metadata": {},
   "outputs": [],
   "source": [
    "list_numbers = [10, 20, 30, 40, 50]"
   ]
  },
  {
   "cell_type": "code",
   "execution_count": 12,
   "id": "084d5012",
   "metadata": {},
   "outputs": [],
   "source": [
    "certain_number = 5"
   ]
  },
  {
   "cell_type": "code",
   "execution_count": 13,
   "id": "e66e4f53",
   "metadata": {},
   "outputs": [],
   "source": [
    "result = are_all_numbs_greater_than(list_numbers, certain_number)"
   ]
  },
  {
   "cell_type": "code",
   "execution_count": 14,
   "id": "65cd557c",
   "metadata": {
    "scrolled": true
   },
   "outputs": [
    {
     "name": "stdout",
     "output_type": "stream",
     "text": [
      "All numbers from the list are greater than 5: True\n"
     ]
    }
   ],
   "source": [
    "print(f\"All numbers from the list are greater than {certain_number}: {result}\")"
   ]
  },
  {
   "cell_type": "markdown",
   "id": "db67387e",
   "metadata": {},
   "source": [
    "---"
   ]
  },
  {
   "cell_type": "markdown",
   "id": "c35aed84",
   "metadata": {},
   "source": [
    "---"
   ]
  },
  {
   "cell_type": "markdown",
   "id": "beb25f7a",
   "metadata": {},
   "source": [
    "### 84. Write a Python program to count the number of occurrences of a specific character in a string. "
   ]
  },
  {
   "cell_type": "code",
   "execution_count": 1,
   "id": "e59f6b89",
   "metadata": {},
   "outputs": [],
   "source": [
    "def count_char(s, o):\n",
    "    count = 0\n",
    "    for i in s:\n",
    "        if i == o:\n",
    "            count += 1\n",
    "    print(count)"
   ]
  },
  {
   "cell_type": "code",
   "execution_count": 3,
   "id": "52ce8d06",
   "metadata": {},
   "outputs": [],
   "source": [
    "test_strtng = \"hola soy un perro\""
   ]
  },
  {
   "cell_type": "code",
   "execution_count": 5,
   "id": "5db70bf8",
   "metadata": {},
   "outputs": [],
   "source": [
    "test_character = \"o\""
   ]
  },
  {
   "cell_type": "code",
   "execution_count": 6,
   "id": "eba079ad",
   "metadata": {},
   "outputs": [
    {
     "name": "stdout",
     "output_type": "stream",
     "text": [
      "3\n"
     ]
    }
   ],
   "source": [
    "count_char(test_strtng, test_character)"
   ]
  },
  {
   "cell_type": "markdown",
   "id": "199700cb",
   "metadata": {},
   "source": [
    "Tambien se puede hacer con la funcion count()"
   ]
  },
  {
   "cell_type": "code",
   "execution_count": 7,
   "id": "26eed096",
   "metadata": {
    "scrolled": false
   },
   "outputs": [
    {
     "name": "stdout",
     "output_type": "stream",
     "text": [
      "3\n"
     ]
    }
   ],
   "source": [
    "print(test_strtng.count(\"o\"))"
   ]
  },
  {
   "cell_type": "markdown",
   "id": "26d21465",
   "metadata": {},
   "source": [
    "---"
   ]
  },
  {
   "cell_type": "markdown",
   "id": "80026290",
   "metadata": {},
   "source": [
    "---"
   ]
  },
  {
   "cell_type": "markdown",
   "id": "9d0bef4f",
   "metadata": {},
   "source": [
    "### 85. Write a Python program to check whether a file path is a file or a directory. "
   ]
  },
  {
   "cell_type": "markdown",
   "id": "f421b975",
   "metadata": {},
   "source": [
    "Directorio actual:\n",
    "D:\\Python_projects\\Python\\001_w3resource\\001_w3resource_PythonBasic_Part1\n",
    "\n",
    "Ruta a un archivo:\n",
    "D:\\Python_projects\\Python\\001_w3resource\\001_w3resource_PythonBasic_Part1\\0001_Python basic (Part -I) 1 - 25.ipynb"
   ]
  },
  {
   "cell_type": "code",
   "execution_count": 30,
   "id": "65859fcf",
   "metadata": {},
   "outputs": [],
   "source": [
    "import os  "
   ]
  },
  {
   "cell_type": "code",
   "execution_count": 31,
   "id": "f205861e",
   "metadata": {},
   "outputs": [],
   "source": [
    "current_directory = os.getcwd()"
   ]
  },
  {
   "cell_type": "code",
   "execution_count": 32,
   "id": "097f0956",
   "metadata": {},
   "outputs": [],
   "source": [
    "path = current_directory"
   ]
  },
  {
   "cell_type": "code",
   "execution_count": 33,
   "id": "168c087e",
   "metadata": {},
   "outputs": [
    {
     "name": "stdout",
     "output_type": "stream",
     "text": [
      "D:\\Python_projects\\Python\\001_w3resource\\001_w3resource_PythonBasic_Part1\n"
     ]
    }
   ],
   "source": [
    "print(current_directory)"
   ]
  },
  {
   "cell_type": "code",
   "execution_count": 34,
   "id": "47ba03b2",
   "metadata": {},
   "outputs": [],
   "source": [
    "def check_file_or_dir(p):\n",
    "    if os.path.isfile(p):\n",
    "        print(f\"The path: {path} is a file\")\n",
    "    elif os.path.isdir(p):\n",
    "        print(f\"The path: {path} is a directory\")\n",
    "    else:\n",
    "        print(f\"The {path} doesn't exists\")"
   ]
  },
  {
   "cell_type": "code",
   "execution_count": 35,
   "id": "f1c53f25",
   "metadata": {},
   "outputs": [
    {
     "name": "stdout",
     "output_type": "stream",
     "text": [
      "The path: D:\\Python_projects\\Python\\001_w3resource\\001_w3resource_PythonBasic_Part1 is a directory\n"
     ]
    }
   ],
   "source": [
    "check_file_or_dir(path)"
   ]
  },
  {
   "cell_type": "markdown",
   "id": "205ced3c",
   "metadata": {},
   "source": [
    "Luego pongo uno de los archivos que si estan en ese path. "
   ]
  },
  {
   "cell_type": "code",
   "execution_count": 36,
   "id": "a29af31c",
   "metadata": {},
   "outputs": [
    {
     "name": "stdout",
     "output_type": "stream",
     "text": [
      "['.ipynb_checkpoints', '0001_Python basic (Part -I) 1 - 25.ipynb', '0002_Python basic (Part -I) 26 - 50.ipynb', '0003_Python basic (Part -I) 51 - 75.ipynb', '0004_Python basic (Part -I) 76 - 100.ipynb', 'README.md']\n"
     ]
    }
   ],
   "source": [
    "print(os.listdir(path))"
   ]
  },
  {
   "cell_type": "code",
   "execution_count": 39,
   "id": "3516e55f",
   "metadata": {},
   "outputs": [],
   "source": [
    "path = \"0001_Python basic (Part -I) 1 - 25.ipynb\""
   ]
  },
  {
   "cell_type": "code",
   "execution_count": 40,
   "id": "17ca87c5",
   "metadata": {
    "scrolled": true
   },
   "outputs": [
    {
     "name": "stdout",
     "output_type": "stream",
     "text": [
      "The path: 0001_Python basic (Part -I) 1 - 25.ipynb is a file\n"
     ]
    }
   ],
   "source": [
    "check_file_or_dir(path)"
   ]
  },
  {
   "cell_type": "markdown",
   "id": "25f7bbd1",
   "metadata": {},
   "source": [
    "---"
   ]
  },
  {
   "cell_type": "markdown",
   "id": "e6180256",
   "metadata": {},
   "source": [
    "---"
   ]
  },
  {
   "cell_type": "markdown",
   "id": "9c9fd8bd",
   "metadata": {},
   "source": [
    "### 86. Write a Python program to get the ASCII value of a character. "
   ]
  },
  {
   "cell_type": "markdown",
   "id": "670ebdf0",
   "metadata": {},
   "source": [
    "ASCII (Listeni/ˈæski/ ass-kee), abbreviated from American Standard Code for Information Interchange, is a character encoding standard. ASCII codes represent text in computers, telecommunications equipment, and other devices. Most modern character-encoding schemes are based on ASCII, although they support many additional characters."
   ]
  },
  {
   "cell_type": "markdown",
   "id": "5be77821",
   "metadata": {},
   "source": [
    "The `ord()` function obtain the ASCII value of a character."
   ]
  },
  {
   "cell_type": "code",
   "execution_count": 41,
   "id": "f5a6fd64",
   "metadata": {},
   "outputs": [
    {
     "name": "stdout",
     "output_type": "stream",
     "text": [
      "97\n"
     ]
    }
   ],
   "source": [
    "print(ord('a'))"
   ]
  },
  {
   "cell_type": "code",
   "execution_count": 44,
   "id": "49ee7721",
   "metadata": {
    "scrolled": true
   },
   "outputs": [
    {
     "name": "stdout",
     "output_type": "stream",
     "text": [
      "65\n"
     ]
    }
   ],
   "source": [
    "print(ord('A'))"
   ]
  },
  {
   "cell_type": "markdown",
   "id": "376185c2",
   "metadata": {},
   "source": [
    "---"
   ]
  },
  {
   "cell_type": "markdown",
   "id": "dff61d7c",
   "metadata": {},
   "source": [
    "---"
   ]
  },
  {
   "cell_type": "markdown",
   "id": "c7281303",
   "metadata": {},
   "source": [
    "### 87. Write a Python program to get the size of a file. "
   ]
  },
  {
   "cell_type": "code",
   "execution_count": 45,
   "id": "6a74a0e7",
   "metadata": {},
   "outputs": [],
   "source": [
    "import os"
   ]
  },
  {
   "cell_type": "code",
   "execution_count": 47,
   "id": "90cdcc51",
   "metadata": {},
   "outputs": [],
   "source": [
    "file_size = os.path.getsize(\"README.md\")"
   ]
  },
  {
   "cell_type": "code",
   "execution_count": 49,
   "id": "3132ec96",
   "metadata": {
    "scrolled": true
   },
   "outputs": [
    {
     "name": "stdout",
     "output_type": "stream",
     "text": [
      "211 bytes\n"
     ]
    }
   ],
   "source": [
    "print(f\"{file_size} bytes\")"
   ]
  },
  {
   "cell_type": "code",
   "execution_count": 50,
   "id": "a84dbd82",
   "metadata": {},
   "outputs": [],
   "source": [
    "file_size = os.path.getsize(\"0001_Python basic (Part -I) 1 - 25.ipynb\")"
   ]
  },
  {
   "cell_type": "code",
   "execution_count": 51,
   "id": "3f64df8a",
   "metadata": {
    "scrolled": true
   },
   "outputs": [
    {
     "name": "stdout",
     "output_type": "stream",
     "text": [
      "51063 bytes\n"
     ]
    }
   ],
   "source": [
    "print(f\"{file_size} bytes\")"
   ]
  },
  {
   "cell_type": "markdown",
   "id": "f042c72f",
   "metadata": {},
   "source": [
    "---"
   ]
  },
  {
   "cell_type": "markdown",
   "id": "9ac0db2c",
   "metadata": {},
   "source": [
    "---"
   ]
  },
  {
   "cell_type": "markdown",
   "id": "63d57ad3",
   "metadata": {},
   "source": [
    "### 88. Given variables x=30 and y=20, write a Python program to print \"30+20=50\". "
   ]
  },
  {
   "cell_type": "code",
   "execution_count": 56,
   "id": "3603c586",
   "metadata": {},
   "outputs": [
    {
     "name": "stdout",
     "output_type": "stream",
     "text": [
      "Input an int : 30\n"
     ]
    }
   ],
   "source": [
    "x = int(input(\"Input an int : \"))"
   ]
  },
  {
   "cell_type": "code",
   "execution_count": 57,
   "id": "c0389e32",
   "metadata": {},
   "outputs": [
    {
     "name": "stdout",
     "output_type": "stream",
     "text": [
      "Input another int : 20\n"
     ]
    }
   ],
   "source": [
    "y = int(input(\"Input another int : \"))"
   ]
  },
  {
   "cell_type": "code",
   "execution_count": 58,
   "id": "2a7e0f71",
   "metadata": {},
   "outputs": [],
   "source": [
    "result = x + y"
   ]
  },
  {
   "cell_type": "code",
   "execution_count": 59,
   "id": "09bdb959",
   "metadata": {},
   "outputs": [
    {
     "name": "stdout",
     "output_type": "stream",
     "text": [
      "30 + 20 = 50\n"
     ]
    }
   ],
   "source": [
    "print(f\"{x} + {y} = {result}\")"
   ]
  },
  {
   "cell_type": "markdown",
   "id": "d5b8166a",
   "metadata": {},
   "source": [
    "---"
   ]
  },
  {
   "cell_type": "markdown",
   "id": "bf6165bf",
   "metadata": {},
   "source": [
    "---"
   ]
  },
  {
   "cell_type": "markdown",
   "id": "c13eb8c0",
   "metadata": {},
   "source": [
    "### 89. Write a Python program to perform an action if a condition is true."
   ]
  },
  {
   "cell_type": "markdown",
   "id": "88902ce6",
   "metadata": {},
   "source": [
    "Given a variable name, if the value is 1, display the string \"First day of a Month!\" and do nothing if the value is not equal."
   ]
  },
  {
   "cell_type": "code",
   "execution_count": 62,
   "id": "e0364ba9",
   "metadata": {},
   "outputs": [],
   "source": [
    "def action_condition(n):\n",
    "    if n == 1:\n",
    "        print(\"Fist day of a Month!\")"
   ]
  },
  {
   "cell_type": "code",
   "execution_count": 64,
   "id": "bef5b6b0",
   "metadata": {
    "scrolled": true
   },
   "outputs": [
    {
     "name": "stdout",
     "output_type": "stream",
     "text": [
      "Fist day of a Month!\n"
     ]
    }
   ],
   "source": [
    "action_condition(1)"
   ]
  },
  {
   "cell_type": "code",
   "execution_count": 65,
   "id": "f5681d7d",
   "metadata": {},
   "outputs": [],
   "source": [
    "action_condition(2)"
   ]
  },
  {
   "cell_type": "markdown",
   "id": "29c43177",
   "metadata": {},
   "source": [
    "---"
   ]
  },
  {
   "cell_type": "markdown",
   "id": "b1037996",
   "metadata": {},
   "source": [
    "---"
   ]
  },
  {
   "cell_type": "markdown",
   "id": "2ba6d42e",
   "metadata": {},
   "source": [
    "### 90. Write a Python program to create a copy of its own source code. "
   ]
  },
  {
   "cell_type": "code",
   "execution_count": null,
   "id": "e27e6a50",
   "metadata": {},
   "outputs": [],
   "source": []
  },
  {
   "cell_type": "markdown",
   "id": "a5abb190",
   "metadata": {},
   "source": [
    "---"
   ]
  },
  {
   "cell_type": "markdown",
   "id": "27c98dcf",
   "metadata": {},
   "source": [
    "---"
   ]
  },
  {
   "cell_type": "markdown",
   "id": "53b81cdd",
   "metadata": {},
   "source": [
    "### 91. Write a Python program to swap two variables. "
   ]
  },
  {
   "cell_type": "code",
   "execution_count": 1,
   "id": "22910749",
   "metadata": {},
   "outputs": [
    {
     "name": "stdout",
     "output_type": "stream",
     "text": [
      "Input a number : 30\n"
     ]
    }
   ],
   "source": [
    "a = int(input(\"Input a number : \"))"
   ]
  },
  {
   "cell_type": "code",
   "execution_count": 2,
   "id": "35c416c3",
   "metadata": {},
   "outputs": [
    {
     "name": "stdout",
     "output_type": "stream",
     "text": [
      "Input another number : 20\n"
     ]
    }
   ],
   "source": [
    "b = int(input(\"Input another number : \"))"
   ]
  },
  {
   "cell_type": "code",
   "execution_count": 7,
   "id": "7bf9e3dc",
   "metadata": {},
   "outputs": [],
   "source": [
    "def swap_var(x, y):\n",
    "    print(f\"First a was {x} and b was {y}\")\n",
    "    temp = x\n",
    "    x = y\n",
    "    y = temp\n",
    "    print(f\"Now a is {x} and b is {y}\")"
   ]
  },
  {
   "cell_type": "code",
   "execution_count": 8,
   "id": "9c98ccd8",
   "metadata": {
    "scrolled": true
   },
   "outputs": [
    {
     "name": "stdout",
     "output_type": "stream",
     "text": [
      "First a was 30 and b was 20\n",
      "Now a is 20 and b is 30\n"
     ]
    }
   ],
   "source": [
    "swap_var(a, b)"
   ]
  },
  {
   "cell_type": "markdown",
   "id": "eaa6b57f",
   "metadata": {},
   "source": [
    "---"
   ]
  },
  {
   "cell_type": "markdown",
   "id": "72b5a508",
   "metadata": {},
   "source": [
    "---"
   ]
  },
  {
   "cell_type": "markdown",
   "id": "8ef6d600",
   "metadata": {},
   "source": [
    "### 92. Write a Python program to define a string containing special characters in various forms. "
   ]
  },
  {
   "cell_type": "code",
   "execution_count": 9,
   "id": "3bf4aeb5",
   "metadata": {},
   "outputs": [
    {
     "name": "stdout",
     "output_type": "stream",
     "text": [
      "\\#{'}${\"}@/\n"
     ]
    }
   ],
   "source": [
    "print(\"\\#{'}${\\\"}@/\")"
   ]
  },
  {
   "cell_type": "code",
   "execution_count": 10,
   "id": "752a0b79",
   "metadata": {},
   "outputs": [
    {
     "name": "stdout",
     "output_type": "stream",
     "text": [
      "\\#{'}${\"}@/\n"
     ]
    }
   ],
   "source": [
    "print(\"\\#{'}${\"'\"'\"}@/\")"
   ]
  },
  {
   "cell_type": "code",
   "execution_count": 11,
   "id": "75b258ce",
   "metadata": {
    "scrolled": true
   },
   "outputs": [
    {
     "name": "stdout",
     "output_type": "stream",
     "text": [
      "\\#{'}${\"}@/\n"
     ]
    }
   ],
   "source": [
    "print(r\"\"\"\\#{'}${\"}@/\"\"\")"
   ]
  },
  {
   "cell_type": "markdown",
   "id": "9785054a",
   "metadata": {},
   "source": [
    "---"
   ]
  },
  {
   "cell_type": "markdown",
   "id": "ac77ddfa",
   "metadata": {},
   "source": [
    "---"
   ]
  },
  {
   "cell_type": "markdown",
   "id": "3f2c41c1",
   "metadata": {},
   "source": [
    "### 93. Write a Python program to get the Identity, Type, and Value of an object. "
   ]
  },
  {
   "cell_type": "code",
   "execution_count": 13,
   "id": "eb1a6086",
   "metadata": {},
   "outputs": [],
   "source": [
    "def iden_type_val(x):\n",
    "    print(f\"Identity: {x}\")\n",
    "    print(f\"Type: {type(x)}\")\n",
    "    print(f\"Value: {id(x)}\")"
   ]
  },
  {
   "cell_type": "code",
   "execution_count": 14,
   "id": "d1a3318f",
   "metadata": {
    "scrolled": true
   },
   "outputs": [
    {
     "name": "stdout",
     "output_type": "stream",
     "text": [
      "Identity: 34\n",
      "Type: <class 'int'>\n",
      "Value: 140726829853520\n"
     ]
    }
   ],
   "source": [
    "iden_type_val(34)"
   ]
  },
  {
   "cell_type": "markdown",
   "id": "5f14c782",
   "metadata": {},
   "source": [
    "---"
   ]
  },
  {
   "cell_type": "markdown",
   "id": "8d605aa9",
   "metadata": {},
   "source": [
    "---"
   ]
  },
  {
   "cell_type": "markdown",
   "id": "c9f15b5c",
   "metadata": {},
   "source": [
    "### 94. Write a Python program to convert the bytes in a given string to a list of integers. "
   ]
  },
  {
   "cell_type": "code",
   "execution_count": 15,
   "id": "7b6f28fc",
   "metadata": {},
   "outputs": [],
   "source": [
    "x = b'Abc'"
   ]
  },
  {
   "cell_type": "code",
   "execution_count": 16,
   "id": "f36f5d64",
   "metadata": {},
   "outputs": [
    {
     "name": "stdout",
     "output_type": "stream",
     "text": [
      "[65, 98, 99]\n"
     ]
    }
   ],
   "source": [
    "print(list(x))"
   ]
  },
  {
   "cell_type": "markdown",
   "id": "c2f4b56b",
   "metadata": {},
   "source": [
    "---"
   ]
  },
  {
   "cell_type": "markdown",
   "id": "fee554e9",
   "metadata": {},
   "source": [
    "---"
   ]
  },
  {
   "cell_type": "markdown",
   "id": "2deb8615",
   "metadata": {},
   "source": [
    "### 95. Write a Python program to check whether a string is numeric. "
   ]
  },
  {
   "cell_type": "code",
   "execution_count": 22,
   "id": "6292621f",
   "metadata": {},
   "outputs": [],
   "source": [
    "str = 'a123'"
   ]
  },
  {
   "cell_type": "code",
   "execution_count": 23,
   "id": "608ea248",
   "metadata": {},
   "outputs": [
    {
     "name": "stdout",
     "output_type": "stream",
     "text": [
      "\n",
      "Not numeric\n"
     ]
    }
   ],
   "source": [
    "try:\n",
    "    i = float(str)\n",
    "    print('\\nIs numeric')\n",
    "except (ValueError, TypeError):\n",
    "    print('\\nNot numeric')"
   ]
  },
  {
   "cell_type": "code",
   "execution_count": 24,
   "id": "34779d31",
   "metadata": {},
   "outputs": [],
   "source": [
    "str = 123"
   ]
  },
  {
   "cell_type": "code",
   "execution_count": 25,
   "id": "f513df83",
   "metadata": {},
   "outputs": [
    {
     "name": "stdout",
     "output_type": "stream",
     "text": [
      "\n",
      "Is numeric\n"
     ]
    }
   ],
   "source": [
    "try:\n",
    "    i = float(str)\n",
    "    print('\\nIs numeric')\n",
    "except (ValueError, TypeError):\n",
    "    print('\\nNot numeric')"
   ]
  },
  {
   "cell_type": "markdown",
   "id": "c0b56948",
   "metadata": {},
   "source": [
    "---"
   ]
  },
  {
   "cell_type": "markdown",
   "id": "5e74844f",
   "metadata": {},
   "source": [
    "---"
   ]
  },
  {
   "cell_type": "markdown",
   "id": "7bf1cfc7",
   "metadata": {},
   "source": [
    "### 96. Write a Python program to print the current call stack. "
   ]
  },
  {
   "cell_type": "markdown",
   "id": "9568aa3b",
   "metadata": {},
   "source": [
    "No entiendo este"
   ]
  },
  {
   "cell_type": "markdown",
   "id": "485d7378",
   "metadata": {},
   "source": [
    "---"
   ]
  },
  {
   "cell_type": "markdown",
   "id": "79105709",
   "metadata": {},
   "source": [
    "---"
   ]
  },
  {
   "cell_type": "markdown",
   "id": "642ea762",
   "metadata": {},
   "source": [
    "### 97. Write a Python program to list the special variables used in the language. "
   ]
  },
  {
   "cell_type": "markdown",
   "id": "1973ea5c",
   "metadata": {},
   "source": [
    "no entiendo para que serviria esto"
   ]
  },
  {
   "cell_type": "code",
   "execution_count": 32,
   "id": "ada33a77",
   "metadata": {},
   "outputs": [
    {
     "name": "stdout",
     "output_type": "stream",
     "text": [
      "\n",
      "ArithmeticError AssertionError AttributeError BaseException BlockingIOError BrokenPipeError BufferError BytesWarning\n",
      "ChildProcessError ConnectionAbortedError ConnectionError ConnectionRefusedError ConnectionResetError DeprecationWarning EOFError Ellipsis\n",
      "EnvironmentError Exception False FileExistsError FileNotFoundError FloatingPointError FutureWarning GeneratorExit\n",
      "IOError ImportError ImportWarning In IndentationError IndexError InterruptedError IsADirectoryError\n",
      "KeyError KeyboardInterrupt LookupError MemoryError ModuleNotFoundError NameError None NotADirectoryError\n",
      "NotImplemented NotImplementedError OSError Out OverflowError PendingDeprecationWarning PermissionError ProcessLookupError\n",
      "RecursionError ReferenceError ResourceWarning RuntimeError RuntimeWarning StopAsyncIteration StopIteration SyntaxError\n",
      "SyntaxWarning SystemError SystemExit TabError TimeoutError True TypeError UnboundLocalError\n",
      "UnicodeDecodeError UnicodeEncodeError UnicodeError UnicodeTranslateError UnicodeWarning UserWarning ValueError Warning\n",
      "WindowsError ZeroDivisionError __ __IPYTHON__ ___ __build_class__ __builtin__ __builtins__\n",
      "__debug__ __doc__ __import__ __loader__ __name__ __package__ __spec__ _dh\n",
      "_i _i1 _i10 _i11 _i12 _i13 _i14 _i15\n",
      "_i16 _i17 _i18 _i19 _i2 _i20 _i21 _i22\n",
      "_i23 _i24 _i25 _i26 _i27 _i28 _i29 _i3\n",
      "_i30 _i31 _i32 _i4 _i5 _i6 _i7 _i8\n",
      "_i9 _ih _ii _iii _oh a abc abs\n",
      "all any ascii b bin bool breakpoint bytearray\n",
      "bytes callable chr classmethod compile complex copyright credits\n",
      "delattr dict dir display divmod enumerate eval exec\n",
      "exit f1 filter float format frozenset get_ipython getattr\n",
      "globals hasattr hash help hex id iden_type_val input\n",
      "int isinstance issubclass iter len license list locals\n",
      "map max memoryview min next object oct open\n",
      "ord pow print property quit range repr reversed\n",
      "round s_var_names set setattr slice sorted staticmethod str\n",
      "sum super swap_var traceback tuple type vars x\n",
      "zip\n",
      "\n"
     ]
    }
   ],
   "source": [
    "s_var_names = sorted((set(globals().keys()) | set(__builtins__.__dict__.keys())) - set('_ names i'.split()))\n",
    "print()\n",
    "print('\\n'.join(' '.join(s_var_names[i:i+8]) for i in range(0, len(s_var_names), 8)))\n",
    "print()\n"
   ]
  },
  {
   "cell_type": "markdown",
   "id": "966ff968",
   "metadata": {},
   "source": [
    "---"
   ]
  },
  {
   "cell_type": "markdown",
   "id": "68eeb1fb",
   "metadata": {},
   "source": [
    "---"
   ]
  },
  {
   "cell_type": "markdown",
   "id": "f1b0965d",
   "metadata": {},
   "source": [
    "### 98. Write a Python program to get system time. "
   ]
  },
  {
   "cell_type": "markdown",
   "id": "383e5288",
   "metadata": {},
   "source": [
    "Note : The system time is important for debugging, network information, random number seeds, or something as simple as program performance."
   ]
  },
  {
   "cell_type": "code",
   "execution_count": 33,
   "id": "f668e254",
   "metadata": {},
   "outputs": [],
   "source": [
    "import time"
   ]
  },
  {
   "cell_type": "code",
   "execution_count": 34,
   "id": "b3166f4f",
   "metadata": {
    "scrolled": true
   },
   "outputs": [
    {
     "name": "stdout",
     "output_type": "stream",
     "text": [
      "Fri Oct 13 14:38:56 2023\n"
     ]
    }
   ],
   "source": [
    "print(time.ctime())"
   ]
  },
  {
   "cell_type": "markdown",
   "id": "45b9f106",
   "metadata": {},
   "source": [
    "---"
   ]
  },
  {
   "cell_type": "markdown",
   "id": "f301bbfa",
   "metadata": {},
   "source": [
    "---"
   ]
  },
  {
   "cell_type": "markdown",
   "id": "aa7e7563",
   "metadata": {},
   "source": [
    "### 99. Write a Python program to clear the screen or terminal. "
   ]
  },
  {
   "cell_type": "code",
   "execution_count": 35,
   "id": "ff728ee0",
   "metadata": {},
   "outputs": [],
   "source": [
    "import os"
   ]
  },
  {
   "cell_type": "code",
   "execution_count": 36,
   "id": "9fe9acf1",
   "metadata": {},
   "outputs": [],
   "source": [
    "import time"
   ]
  },
  {
   "cell_type": "markdown",
   "id": "d802a6e7",
   "metadata": {},
   "source": [
    "For windows (cls)\n",
    "\n",
    "For linux is (ls)"
   ]
  },
  {
   "cell_type": "code",
   "execution_count": 41,
   "id": "356a4902",
   "metadata": {
    "scrolled": true
   },
   "outputs": [
    {
     "data": {
      "text/plain": [
       "0"
      ]
     },
     "execution_count": 41,
     "metadata": {},
     "output_type": "execute_result"
    }
   ],
   "source": [
    "os.system('cls')"
   ]
  },
  {
   "cell_type": "markdown",
   "id": "04bb7235",
   "metadata": {},
   "source": [
    "---"
   ]
  },
  {
   "cell_type": "markdown",
   "id": "bcaa5b82",
   "metadata": {},
   "source": [
    "---"
   ]
  },
  {
   "cell_type": "markdown",
   "id": "baf0ad3d",
   "metadata": {},
   "source": [
    "### 100. Write a Python program to get the name of the host on which the routine is running. "
   ]
  },
  {
   "cell_type": "code",
   "execution_count": 42,
   "id": "04be8880",
   "metadata": {},
   "outputs": [],
   "source": [
    "import socket"
   ]
  },
  {
   "cell_type": "code",
   "execution_count": 43,
   "id": "c2a1660c",
   "metadata": {},
   "outputs": [],
   "source": [
    "host_name = socket.gethostname()"
   ]
  },
  {
   "cell_type": "code",
   "execution_count": 44,
   "id": "7776b465",
   "metadata": {},
   "outputs": [
    {
     "name": "stdout",
     "output_type": "stream",
     "text": [
      "Host name: DESKTOP-RFID6T3\n"
     ]
    }
   ],
   "source": [
    "print(\"Host name:\", host_name)"
   ]
  },
  {
   "cell_type": "code",
   "execution_count": null,
   "id": "6aab97d1",
   "metadata": {},
   "outputs": [],
   "source": []
  }
 ],
 "metadata": {
  "kernelspec": {
   "display_name": "Python 3",
   "language": "python",
   "name": "python3"
  },
  "language_info": {
   "codemirror_mode": {
    "name": "ipython",
    "version": 3
   },
   "file_extension": ".py",
   "mimetype": "text/x-python",
   "name": "python",
   "nbconvert_exporter": "python",
   "pygments_lexer": "ipython3",
   "version": "3.8.8"
  }
 },
 "nbformat": 4,
 "nbformat_minor": 5
}
