{
 "cells": [
  {
   "cell_type": "markdown",
   "metadata": {},
   "source": [
    "# Quiz 1"
   ]
  },
  {
   "cell_type": "markdown",
   "metadata": {},
   "source": [
    "1. What type of errors are produced in Python programs?\n",
    "\n",
    "   - compile time error\n",
    "   - run time error\n",
    "   - both (a) and (b)\n",
    "   - none of the above\n",
    "\n",
    "   **Answer:** both (a) and (b)\n",
    "\n",
    "   **Explanation:** A compile-time error generally refers to the errors that correspond to the semantics or syntax. A runtime error refers to the error that we encounter during the code execution during runtime. We can easily fix a compile-time error during the development of code. A compiler cannot identify a runtime error.\n",
    "\n",
    "2. What exception is raised when a name is not found in the local or global namespace?\n",
    "\n",
    "   - TypeError\n",
    "   - NameError\n",
    "   - ValueError\n",
    "   - ImportError\n",
    "\n",
    "   **Answer:** NameError\n",
    "\n",
    "   **Explanation:** NameError is raised when a name is not found in the local or global namespace.\n",
    "\n",
    "3. What exception is raised when an attempt is made to divide a number by zero?\n",
    "\n",
    "   - ZeroDivisionError\n",
    "   - KeyError\n",
    "   - IndexError\n",
    "   - TypeError\n",
    "\n",
    "   **Answer:** ZeroDivisionError\n",
    "\n",
    "   **Explanation:** ZeroDivisionError is raised when an attempt is made to divide a number by zero.\n",
    "\n",
    "4. What exception is raised when a file or directory is requested but does not exist?\n",
    "\n",
    "   - SyntaxError\n",
    "   - FileNotFoundError\n",
    "   - AttributeError\n",
    "   - ImportError\n",
    "\n",
    "   **Answer:** FileNotFoundError\n",
    "\n",
    "   **Explanation:** FileNotFoundError is raised when a file or directory is requested but does not exist.\n",
    "\n",
    "5. What exception is raised when an attribute reference or assignment fails?\n",
    "\n",
    "   - ZeroDivisionError\n",
    "   - KeyError\n",
    "   - AttributeError\n",
    "   - TypeError\n",
    "\n",
    "   **Answer:** AttributeError\n",
    "\n",
    "   **Explanation:** AttributeError is raised when an attribute reference or assignment fails.\n",
    "\n",
    "**Question:6** Look at the following code and select the correct description of error shown while executing it:\n",
    "```python\n",
    "X = int(input(\"Enter a Number\")) \n",
    "\n",
    "R = X*X print \"Square=\",R\n",
    "\n",
    "```\n",
    "**Options:**\n",
    "```python\n",
    "can only concatenate str (not \"int\") to str\n",
    "\n",
    "missing parenthesis in call to 'print'\n",
    "\n",
    "name 'Print' is not defined\n",
    "\n",
    "none of the above\n",
    "```\n",
    "**Answer:** missing parenthesis in call to 'print'\n",
    "\n"
   ]
  },
  {
   "cell_type": "markdown",
   "metadata": {},
   "source": []
  }
 ],
 "metadata": {
  "kernelspec": {
   "display_name": "base",
   "language": "python",
   "name": "python3"
  },
  "language_info": {
   "codemirror_mode": {
    "name": "ipython",
    "version": 3
   },
   "file_extension": ".py",
   "mimetype": "text/x-python",
   "name": "python",
   "nbconvert_exporter": "python",
   "pygments_lexer": "ipython3",
   "version": "3.11.5"
  }
 },
 "nbformat": 4,
 "nbformat_minor": 2
}
