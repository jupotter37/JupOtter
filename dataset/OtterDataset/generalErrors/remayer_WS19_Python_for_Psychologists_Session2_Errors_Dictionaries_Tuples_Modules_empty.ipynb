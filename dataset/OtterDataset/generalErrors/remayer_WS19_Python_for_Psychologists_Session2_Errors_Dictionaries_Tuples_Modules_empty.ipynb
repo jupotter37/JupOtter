{
 "cells": [
  {
   "cell_type": "markdown",
   "metadata": {},
   "source": [
    "# Python for Psychologists - Session 2\n",
    "## Some more on lists, dictionaries, tuples, errors and modules"
   ]
  },
  {
   "cell_type": "markdown",
   "metadata": {},
   "source": [
    "### More on lists\n",
    "**Adding elements**\n",
    "\n",
    "Last session we learned how to add an element to a list by using \n",
    "```python\n",
    "my_list.append(element1)\n",
    "```\n",
    "to add a single element or \n",
    "```python\n",
    "my_list.extend([element1, element2, element3])\n",
    "```\n",
    "to add a whole bunch of elements. We also learned that we can add an entire list as an element to a list.\n",
    "Just to make sure that we got the difference of `append` and `extend` right, try to add the list\n",
    "`[7,8,9]`\n",
    "to the list below by using first the `extend` and then the `append` command."
   ]
  },
  {
   "cell_type": "code",
   "execution_count": 16,
   "metadata": {
    "collapsed": true
   },
   "outputs": [],
   "source": [
    "my_list = [1,2,3,4,5,6]"
   ]
  },
  {
   "cell_type": "code",
   "execution_count": null,
   "metadata": {
    "collapsed": true
   },
   "outputs": [],
   "source": []
  },
  {
   "cell_type": "markdown",
   "metadata": {},
   "source": [
    "By the way, there is also a **shortcut for the extend command**:\n",
    "\n",
    "```python\n",
    "my_list + [new_element1, new_element2, new_element3]\n",
    "```\n",
    "\n",
    "Add [10,11,12] to my_list (without overwriting my_list with the result)."
   ]
  },
  {
   "cell_type": "code",
   "execution_count": null,
   "metadata": {
    "collapsed": true
   },
   "outputs": [],
   "source": []
  },
  {
   "cell_type": "markdown",
   "metadata": {},
   "source": [
    "**Deleting elements**\n",
    "\n",
    "One thing we have not covered last time is how to **remove** elements from a list, which works as follows:\n",
    "\n",
    "```python\n",
    "del my_list[1] # this will delete the second element\n",
    "```\n",
    "\n",
    "Try to delete the list element [7,8,9] that we have just added via `append`."
   ]
  },
  {
   "cell_type": "code",
   "execution_count": 20,
   "metadata": {},
   "outputs": [
    {
     "data": {
      "text/plain": [
       "[1, 2, 3, 4, 5, 6, [7, 8, 9], 7, 8, 9]"
      ]
     },
     "execution_count": 20,
     "metadata": {},
     "output_type": "execute_result"
    }
   ],
   "source": [
    "my_list"
   ]
  },
  {
   "cell_type": "code",
   "execution_count": null,
   "metadata": {
    "collapsed": true
   },
   "outputs": [],
   "source": []
  },
  {
   "cell_type": "markdown",
   "metadata": {},
   "source": [
    "There are actually more ways of removing an element from a list. Try to figure out what the difference is between\n",
    "- `del my_list[1]`\n",
    "- `my_list.remove(1)`\n",
    "- `my_list.pop(1)`\n",
    "\n",
    "Create a markdown cell below this cell and try to describe for each of the commands in the list above what exactly it does."
   ]
  },
  {
   "cell_type": "markdown",
   "metadata": {},
   "source": []
  },
  {
   "cell_type": "markdown",
   "metadata": {},
   "source": [
    "**Inserting elements**\n",
    "\n",
    "We can also insert an element at a specific index. The syntax is as follows:\n",
    "```python \n",
    "my_list.insert(position, new_element) # add new_element at position\n",
    "```\n",
    "Try to insert the number 99 at the 3rd position of `my_list`."
   ]
  },
  {
   "cell_type": "code",
   "execution_count": null,
   "metadata": {
    "collapsed": true
   },
   "outputs": [],
   "source": []
  },
  {
   "cell_type": "markdown",
   "metadata": {},
   "source": [
    "### Dictionaries\n",
    "\n",
    "We will now get to know another kind of data structure called dictionary. As the name gives away, a dictionary is structured like a dictionary, that is, there is a mapping from one name to some other name (or value). The name under for which we want to know the value it is mapped to is called the *key*. The value is simply called *value.* Dictionaries can be created with the following syntax:\n",
    "\n",
    "```python\n",
    "my_dict = {\"key1\": value1, \"key2\":\"value2\", \"key3\":[\"v\", \"a\", \"l\", \"u\", \"e\", \"3\"]}\n",
    "```\n",
    "\n",
    "Create a dictionary that maps your top 2 cutest animals to the rank you would give them (i.e., 1 or 2)."
   ]
  },
  {
   "cell_type": "code",
   "execution_count": null,
   "metadata": {
    "collapsed": true
   },
   "outputs": [],
   "source": []
  },
  {
   "cell_type": "markdown",
   "metadata": {},
   "source": [
    "Just in case you don't believe me, below is proof for otters being the cutest animals in the world!"
   ]
  },
  {
   "cell_type": "markdown",
   "metadata": {},
   "source": [
    "![pandasUrl](https://media.giphy.com/media/9A56kPXH16UqBKmdug/giphy.gif \"otters1\")"
   ]
  },
  {
   "cell_type": "markdown",
   "metadata": {},
   "source": [
    "![pandasUrl](https://media.giphy.com/media/VloengiEXvPwY/giphy.gif \"otters2\")"
   ]
  },
  {
   "cell_type": "markdown",
   "metadata": {},
   "source": [
    "We have learned that lists are an *ordered* collection of things which is important for things like timeseries etc. An important difference between lists and dictionaries is, that dictionary entries cannot be referred to by their position in the dictionary but only directly by their key name."
   ]
  },
  {
   "cell_type": "markdown",
   "metadata": {},
   "source": [
    "We can get the value that is mapped to a certain key with the following syntax:\n",
    "\n",
    "```python\n",
    "my_dict[\"key_name\"]\n",
    "```\n",
    "Try to fetch the rank of one of the animals in your dictionary."
   ]
  },
  {
   "cell_type": "code",
   "execution_count": null,
   "metadata": {
    "collapsed": true
   },
   "outputs": [],
   "source": []
  },
  {
   "cell_type": "markdown",
   "metadata": {},
   "source": [
    "Let us now try to build a sentence that includes one of the animals in the list and its respective rank."
   ]
  },
  {
   "cell_type": "code",
   "execution_count": null,
   "metadata": {
    "collapsed": true
   },
   "outputs": [],
   "source": []
  },
  {
   "cell_type": "markdown",
   "metadata": {},
   "source": [
    "**Adding entries**\n",
    "\n",
    "If we wish to add a key-value pair to our dictionary we can do this the same way we tried to fetch a value, however, this time we assign a value to it. The syntax looks like this:\n",
    "\n",
    "```python\n",
    "my_dict[\"new_key\"] = new_value\n",
    "```\n",
    "\n",
    "By the way: the keys of the dictionary entries don't always have to be strings, they can also be numbers or tuples (we will hear about tuples soon). Actually, any object that is *unchangable* will work. Objects that are *changeable*, cannot be keys of dictionary entries (this includes other dictionaries as well).\n",
    "\n",
    "Now try to add a third animal with its rank to your dictionary. Look at the dictionary again afterwards."
   ]
  },
  {
   "cell_type": "code",
   "execution_count": null,
   "metadata": {
    "collapsed": true
   },
   "outputs": [],
   "source": []
  },
  {
   "cell_type": "markdown",
   "metadata": {},
   "source": [
    "**Deleting entries**\n",
    "\n",
    "This is, luckily, the same command we already know from the deletion of elements from a list:\n",
    "\n",
    "```python\n",
    "del my_dict[key_to_be_deleted]\n",
    "```\n",
    "\n",
    "Delete the third/newest entry to the dictionary and take a look at the dictionary again."
   ]
  },
  {
   "cell_type": "code",
   "execution_count": null,
   "metadata": {
    "collapsed": true
   },
   "outputs": [],
   "source": []
  },
  {
   "cell_type": "markdown",
   "metadata": {},
   "source": [
    "**Size of a dictionary**\n",
    "\n",
    "Also an easy one as this works the same way as for lists:\n",
    "\n",
    "```python \n",
    "len(my_dict)\n",
    "```\n",
    "This will show you the number of key-value pairs."
   ]
  },
  {
   "cell_type": "code",
   "execution_count": null,
   "metadata": {
    "collapsed": true
   },
   "outputs": [],
   "source": []
  },
  {
   "cell_type": "markdown",
   "metadata": {},
   "source": [
    "For the two remaining animals in your dictionary create a dictionary for each. The keys in these two new dictionaries should be:\n",
    "- rank (as before the rank in your \"cutest animals\"-list; integer)\n",
    "- food (something these animals like to eat; string)\n",
    "- size (small, medium or large; string)\n"
   ]
  },
  {
   "cell_type": "code",
   "execution_count": null,
   "metadata": {
    "collapsed": true
   },
   "outputs": [],
   "source": []
  },
  {
   "cell_type": "markdown",
   "metadata": {},
   "source": [
    "**Adding several key-value pairs**\n",
    "\n",
    "If we want to add not just one but several entires to a dictionary, we can do that easily with the following syntax:\n",
    "\n",
    "```python\n",
    "my_dict.update({\"new_key1\":new_value1, \"new_key2\":new_value2, \"new_key3\":new_value3})\n",
    "```\n",
    "\n",
    "Add two more entries to the two dictionaries you have just created:\n",
    "- habitat (where these animals typically live; string)\n",
    "- age (expected age; integer)\n",
    "\n",
    "Take a look at the two dictionaries afterwards."
   ]
  },
  {
   "cell_type": "code",
   "execution_count": null,
   "metadata": {
    "collapsed": true
   },
   "outputs": [],
   "source": []
  },
  {
   "cell_type": "markdown",
   "metadata": {},
   "source": [
    "**Creating nested dictionaries**\n",
    "\n",
    "Sometimes we need to save more complex structures of content. For this we could use nested dictionaries. They are easy to create:\n",
    "\n",
    "```python\n",
    "umbrella_dict = {\"subdict1_name\":subdict1, \"subdict2_name\":subdict2}\n",
    "```\n",
    "\n",
    "Try to replace your \"cute_animals\" dictionary by a nested one consisting of the two dictionaries you have just created. Take a look at the resulting dictionary afterwards."
   ]
  },
  {
   "cell_type": "code",
   "execution_count": null,
   "metadata": {
    "collapsed": true
   },
   "outputs": [],
   "source": []
  },
  {
   "cell_type": "markdown",
   "metadata": {},
   "source": [
    "Indexing/Referencing in nested dictionaries is as intuitive as it could possibly be:\n",
    "\n",
    "```python\n",
    "umbrella_dictionary[\"subdict1_name\"][\"subdict1_key\"]\n",
    "```\n",
    "\n",
    "Try to fetch the favourite food of one your two animals."
   ]
  },
  {
   "cell_type": "code",
   "execution_count": null,
   "metadata": {
    "collapsed": true
   },
   "outputs": [],
   "source": []
  },
  {
   "cell_type": "markdown",
   "metadata": {},
   "source": [
    "We can also check if a key is among the keys of our dictionary. Use the following syntax to check if some animal is a key in your `cute_animals` dictionary:\n",
    "\n",
    "```python\n",
    "\"key\" in my_dict\n",
    "```\n"
   ]
  },
  {
   "cell_type": "code",
   "execution_count": null,
   "metadata": {
    "collapsed": true
   },
   "outputs": [],
   "source": []
  },
  {
   "cell_type": "markdown",
   "metadata": {},
   "source": [
    "How can we check if a certain *value* is part of the *values* of a dictionary? Try to find out! And remember: google is your friend :)"
   ]
  },
  {
   "cell_type": "code",
   "execution_count": null,
   "metadata": {
    "collapsed": true
   },
   "outputs": [],
   "source": []
  },
  {
   "cell_type": "markdown",
   "metadata": {},
   "source": [
    "So far we have only looked at the content of our dictionaries by evaluating its name, which led to Python printing the content into the output cell. If we want *work* with the items of a dictionary in form of an object we can use the following syntax:\n",
    "\n",
    "```python\n",
    "my_dict.items()\n",
    "```\n",
    "\n",
    "This will return an object of type `dict_items`. Don't worry if this confuses you right now, it will get clearer throughout the course.\n",
    "\n",
    "Try to get the items of one of the animals inside your cute_animals dictionary."
   ]
  },
  {
   "cell_type": "code",
   "execution_count": null,
   "metadata": {
    "collapsed": true
   },
   "outputs": [],
   "source": []
  },
  {
   "cell_type": "markdown",
   "metadata": {},
   "source": [
    "As we can see, inside a dict_items object each key-value pair is represented in parentheses. These parentheses are tuples which we will hear about next."
   ]
  },
  {
   "cell_type": "markdown",
   "metadata": {},
   "source": [
    "### Tuples\n",
    "\n",
    "Tuples look a lot like lists, however there is one very important difference: once they are created, they cannot be changed (hence, tuples are *immutable objects*). Tuples are created the same way as lists, only that instead of `[]` we use `()`:\n",
    "\n",
    "```python\n",
    "my_tuple = (1,2,3, \"hallo\", (3,4,5))\n",
    "```\n",
    "Tuples can also be indexed like lists using square brackets `[]`.\n",
    "\n",
    "Create a tuple with three elemets and try to change the second element."
   ]
  },
  {
   "cell_type": "code",
   "execution_count": null,
   "metadata": {
    "collapsed": true
   },
   "outputs": [],
   "source": []
  },
  {
   "cell_type": "markdown",
   "metadata": {},
   "source": [
    "**Adding elements to a tuple**\n",
    "\n",
    "This works just as with lists:\n",
    "\n",
    "```python\n",
    "my_tuple = my_tuple + (new_element1, new_element2, new_element3)\n",
    "```\n",
    "\n",
    "Add some random numbers to the following one."
   ]
  },
  {
   "cell_type": "code",
   "execution_count": 5,
   "metadata": {},
   "outputs": [],
   "source": [
    "my_tuple = (1,2,3)"
   ]
  },
  {
   "cell_type": "markdown",
   "metadata": {},
   "source": [
    "In order to add another tuple to an existing tuple use the following syntax:\n",
    "\n",
    "```python\n",
    "my_tuple  = my_tuple + ((element1, element2),)\n",
    "# this is equivalent to:\n",
    "my_tuple = my_tuple + (some_other_tuple,)\n",
    "```\n",
    "\n",
    "Add a tuple to my_tuple."
   ]
  },
  {
   "cell_type": "code",
   "execution_count": null,
   "metadata": {
    "collapsed": true
   },
   "outputs": [],
   "source": []
  },
  {
   "cell_type": "markdown",
   "metadata": {},
   "source": [
    "Let's see if we can delete an element from a tuple using the `del` command which we are already familiar with. "
   ]
  },
  {
   "cell_type": "code",
   "execution_count": null,
   "metadata": {
    "collapsed": true
   },
   "outputs": [],
   "source": []
  },
  {
   "cell_type": "markdown",
   "metadata": {},
   "source": [
    "If we want to delete some element from a tuple we will have to overwrite the tuple. Use slicing to delete one element from `my_tuple`."
   ]
  },
  {
   "cell_type": "code",
   "execution_count": null,
   "metadata": {
    "collapsed": true
   },
   "outputs": [],
   "source": []
  },
  {
   "cell_type": "markdown",
   "metadata": {},
   "source": [
    "### Errors\n",
    "... are a good thing! (well, sometimes...) Usually, they tell you relatively precisely what is going wrong. Python is not a mean machinery that tries to annoy you by throwing errors at random, but it actually gives you a hint which part of your code needs some changes.\n",
    "\n",
    "Let's get to know some errors you might encounter:\n",
    "- **SyntaxError:** Also called \"parsing error\". This error occurs while Python is trying to decifer your code. Python, like any other language has a certain syntax, which we need to stick to in order for Python to understand your code. Whenever we violate this syntactic structure we get a SyntaxError.\n",
    "- **NameError:** NameErrors occur when we try to access the value of a variable/an object that we haven't even defined yet. It's like talking to your family about some fellow student of yours that they don't know. \"Yesterday, I went binge-drinking with Tonya.\" Of course, their response will be \"Who is Tonya?\". Well, Python will ask you the same question when referring to an object that you have never introduced.\n",
    "- **IndexError:** We can cause an IndexError when trying to access an element in an subscriptable object (basically objects that are containers which allow for indexing at all) that does not exist. For example, we would cause an IndexError by asking Python to return the value of the 6th element of a list that is only 3 elements long.\n",
    "- **TypeError:** TypeErrors occur whenever we try to do some operation with a data type that just doesn't fit the operation, like trying to do something with two strings that can only be done with two integers or floats. \n",
    "- **KeyError:** These errors usually occur, when we try to access the value of a key, although the key does not exist in the dictionary.\n",
    "- **ZeroDivisionError:** This kind of error is more than intuitive. It is raised simply when we try to divide a number by 0, which is mathematically not defined.\n",
    "\n",
    "Nothing is more fun than causing errors on purpose! Go ahead and try to cause a `NameError`."
   ]
  },
  {
   "cell_type": "code",
   "execution_count": null,
   "metadata": {
    "collapsed": true
   },
   "outputs": [],
   "source": []
  },
  {
   "cell_type": "markdown",
   "metadata": {},
   "source": [
    "Now try to cause a...\n",
    "\n",
    "...`TypeError`!"
   ]
  },
  {
   "cell_type": "code",
   "execution_count": null,
   "metadata": {
    "collapsed": true
   },
   "outputs": [],
   "source": []
  },
  {
   "cell_type": "markdown",
   "metadata": {},
   "source": [
    "... `IndexError`!"
   ]
  },
  {
   "cell_type": "code",
   "execution_count": null,
   "metadata": {
    "collapsed": true
   },
   "outputs": [],
   "source": []
  },
  {
   "cell_type": "markdown",
   "metadata": {},
   "source": [
    "... `ZeroDivisionError`!"
   ]
  },
  {
   "cell_type": "code",
   "execution_count": null,
   "metadata": {
    "collapsed": true
   },
   "outputs": [],
   "source": []
  },
  {
   "cell_type": "markdown",
   "metadata": {},
   "source": [
    "... `KeyError`!"
   ]
  },
  {
   "cell_type": "code",
   "execution_count": null,
   "metadata": {
    "collapsed": true
   },
   "outputs": [],
   "source": []
  },
  {
   "cell_type": "markdown",
   "metadata": {},
   "source": [
    "Now try to cause a `SyntaxError`!"
   ]
  },
  {
   "cell_type": "code",
   "execution_count": null,
   "metadata": {
    "collapsed": true
   },
   "outputs": [],
   "source": []
  },
  {
   "cell_type": "markdown",
   "metadata": {},
   "source": [
    "### Modules\n",
    "\n",
    "A module is a python file (.py) that contains definitions and statements.\n",
    "\n",
    "Inside the folder of this session there is a file called \"test_module.py\". Open the file with some text editor to see what it contains."
   ]
  },
  {
   "cell_type": "markdown",
   "metadata": {},
   "source": [
    "In order to use the objects defined in the module script (this may be functions, classes or, as in this case, simple variables), we first have to import them. Execute the cell below."
   ]
  },
  {
   "cell_type": "code",
   "execution_count": 37,
   "metadata": {
    "collapsed": true
   },
   "outputs": [],
   "source": [
    "import test_module"
   ]
  },
  {
   "cell_type": "markdown",
   "metadata": {},
   "source": [
    "While it looks as if nothing has happened, the content of the module is now available to us. In order to use it, however, we need to use the following syntax:\n",
    "\n",
    "\n",
    "```python\n",
    "some_module.some_object\n",
    "# if we want to call a function that is defined inside the module we need parentheses\n",
    "some_module.some_function()\n",
    "```\n",
    "\n",
    "Try to access the variable \"b\" in our test_module."
   ]
  },
  {
   "cell_type": "code",
   "execution_count": null,
   "metadata": {
    "collapsed": true
   },
   "outputs": [],
   "source": []
  },
  {
   "cell_type": "markdown",
   "metadata": {},
   "source": [
    "In case of very long module names and if we have to use the module rather frequently, we can also give it a short name. The syntax looks like this:\n",
    "\n",
    "```python\n",
    "import some_module as mod\n",
    "mod.some_function()\n",
    "```\n",
    "Import test_module again, but this time give it a shorter name. Afterwards try to access the variable c."
   ]
  },
  {
   "cell_type": "code",
   "execution_count": null,
   "metadata": {
    "collapsed": true
   },
   "outputs": [],
   "source": []
  },
  {
   "cell_type": "markdown",
   "metadata": {},
   "source": [
    "### Sets\n",
    "Sets are *unordered* and *unindexed* collections of things. Sets also differ from lists in that they cannot contain two identical elements. Sets can be created with the following syntax:\n",
    "\n",
    "```python\n",
    "my_set = {\"element1\", element2, 4}\n",
    "```\n",
    "\n",
    "Create a set of three random inputs."
   ]
  },
  {
   "cell_type": "code",
   "execution_count": null,
   "metadata": {
    "collapsed": true
   },
   "outputs": [],
   "source": []
  },
  {
   "cell_type": "markdown",
   "metadata": {},
   "source": [
    "Now try to create a set with a duplicate value. Take a look at the resulting set afterwards."
   ]
  },
  {
   "cell_type": "code",
   "execution_count": null,
   "metadata": {
    "collapsed": true
   },
   "outputs": [],
   "source": []
  },
  {
   "cell_type": "markdown",
   "metadata": {},
   "source": [
    "Try to access the first element of your set."
   ]
  },
  {
   "cell_type": "code",
   "execution_count": null,
   "metadata": {
    "collapsed": true
   },
   "outputs": [],
   "source": []
  },
  {
   "cell_type": "markdown",
   "metadata": {},
   "source": [
    "We can also convert lists to sets and vice versa:\n",
    "\n",
    "```python\n",
    "my_list = [1,2,3,4]\n",
    "my_set = set(my_list)\n",
    "my_list = list(my_set)\n",
    "```\n",
    "\n",
    "Take the following list, convert it to a set and back to a list again."
   ]
  },
  {
   "cell_type": "code",
   "execution_count": null,
   "metadata": {
    "collapsed": true
   },
   "outputs": [],
   "source": []
  },
  {
   "cell_type": "markdown",
   "metadata": {},
   "source": [
    "**Adding items to a set**\n",
    "\n",
    "We can add single items to a set using the following syntax:\n",
    "\n",
    "```python\n",
    "my_set.add(new_item)\n",
    "```\n",
    "\n",
    "We can also add several items at once:\n",
    "\n",
    "```python\n",
    "my_set.update({new_item1, new_item2})\n",
    "```\n",
    "\n",
    "Try to add some items to my_set."
   ]
  },
  {
   "cell_type": "code",
   "execution_count": null,
   "metadata": {
    "collapsed": true
   },
   "outputs": [],
   "source": []
  },
  {
   "cell_type": "markdown",
   "metadata": {},
   "source": [
    "**Removing items from a set**\n",
    "\n",
    "Removing items from a set works similarly:\n",
    "\n",
    "```python\n",
    "my_set.remove(item_to_be_removed)\n",
    "```\n",
    "\n",
    "Delete one of the items that you have just added."
   ]
  },
  {
   "cell_type": "code",
   "execution_count": null,
   "metadata": {
    "collapsed": true
   },
   "outputs": [],
   "source": []
  }
 ],
 "metadata": {
  "kernelspec": {
   "display_name": "Python 3",
   "language": "python",
   "name": "python3"
  },
  "language_info": {
   "codemirror_mode": {
    "name": "ipython",
    "version": 3
   },
   "file_extension": ".py",
   "mimetype": "text/x-python",
   "name": "python",
   "nbconvert_exporter": "python",
   "pygments_lexer": "ipython3",
   "version": "3.5.4"
  }
 },
 "nbformat": 4,
 "nbformat_minor": 2
}
