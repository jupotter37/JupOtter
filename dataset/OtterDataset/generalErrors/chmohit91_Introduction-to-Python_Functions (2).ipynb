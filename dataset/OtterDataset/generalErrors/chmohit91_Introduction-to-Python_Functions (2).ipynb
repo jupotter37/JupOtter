{
 "cells": [
  {
   "cell_type": "markdown",
   "id": "7ca4a1e9",
   "metadata": {},
   "source": [
    "### Functions\n",
    "\n",
    "- A function is a block of code that gets executed as and when it is called\n",
    "- A function is used to reuse a code over and over again\n",
    "- By using functions, we write the code once and we can use it n number of times in the same program\n",
    "- A function helps to reduce the lines of the code in a program\n",
    "\n",
    "Syntax:-\n",
    "\n",
    "    def function_name(): # declaration of a function or function defination\n",
    "        code\n",
    "        return some_value\n",
    "        \n",
    "    function_call() # calling a function"
   ]
  },
  {
   "cell_type": "code",
   "execution_count": 1,
   "id": "37759598",
   "metadata": {},
   "outputs": [
    {
     "data": {
      "text/plain": [
       "4"
      ]
     },
     "execution_count": 1,
     "metadata": {},
     "output_type": "execute_result"
    }
   ],
   "source": [
    "def subtract(a,b): # defining a function in the memory \n",
    "    c = a-b\n",
    "    return c\n",
    "\n",
    "subtract(7,3) #calling of function "
   ]
  },
  {
   "cell_type": "markdown",
   "id": "6727dd98",
   "metadata": {},
   "source": [
    "### Types of function \n",
    "\n",
    "- Built-in function or In-built function or Pre-defined functions\n",
    "- User defined function (functions that are created by us)\n"
   ]
  },
  {
   "cell_type": "markdown",
   "id": "2652afeb",
   "metadata": {},
   "source": [
    "### Built-in functions or In-Built functions or Predefined functions \n",
    "\n",
    "- Those functions that are already defined in Python are known as in-built functions or Pre-defined functions\n",
    "- As a user we need not to create them and we just can use them directly\n",
    "\n",
    "__Example__:- int(), print(), len(), chr(), input(), enumertae() etc."
   ]
  },
  {
   "cell_type": "markdown",
   "id": "77b6253e",
   "metadata": {},
   "source": [
    "### User- defined functions \n",
    "\n",
    "- The functions that are defined or created by the user are known as user-defined functions\n",
    "- In user-defined functions the programmer has to write their own logic in how the function will going to work\n",
    "- We actually create a function to solve a particular situation on a program\n",
    "- A user defined function is defined by using a __def__ keyword"
   ]
  },
  {
   "cell_type": "markdown",
   "id": "19598c00",
   "metadata": {},
   "source": [
    "### Components of a functions\n",
    "\n",
    "- Function defination or a declartion \n",
    "- Function call"
   ]
  },
  {
   "cell_type": "markdown",
   "id": "416759f0",
   "metadata": {},
   "source": [
    "### Function definition or Declaration\n",
    "\n",
    "- This is a place where we define a function with a name, writes the logic (code) of what will be the functionality of the so called created function\n",
    "\n",
    "Syntax:-\n",
    "\n",
    "    def function_name():\n",
    "        # function bodys\n",
    "        code \n",
    "        code\n",
    "        code\n",
    "        return /Print\n",
    "        "
   ]
  },
  {
   "cell_type": "code",
   "execution_count": 2,
   "id": "00278bf7",
   "metadata": {},
   "outputs": [],
   "source": [
    "# create a function that adds two number together \n",
    "\n",
    "def add():\n",
    "    a = eval(input('Enter first number: '))\n",
    "    b = eval(input('Enter second number: '))\n",
    "    c = a + b\n",
    "    return c"
   ]
  },
  {
   "cell_type": "markdown",
   "id": "31788fc0",
   "metadata": {},
   "source": [
    "### Function call\n",
    "\n",
    "- A function call is a kind of trigger\n",
    "- As and when called the defined function will be executed and we will get the desired result\n",
    "\n",
    "Syntax:- \n",
    "\n",
    "    function_name()"
   ]
  },
  {
   "cell_type": "code",
   "execution_count": 3,
   "id": "aa63a404",
   "metadata": {},
   "outputs": [
    {
     "name": "stdout",
     "output_type": "stream",
     "text": [
      "Enter first number: 1\n",
      "Enter second number: 3\n"
     ]
    },
    {
     "data": {
      "text/plain": [
       "4"
      ]
     },
     "execution_count": 3,
     "metadata": {},
     "output_type": "execute_result"
    }
   ],
   "source": [
    "add()"
   ]
  },
  {
   "cell_type": "code",
   "execution_count": 4,
   "id": "658968b5",
   "metadata": {},
   "outputs": [
    {
     "name": "stdout",
     "output_type": "stream",
     "text": [
      "Enter first number: 1.0\n",
      "Enter second number: 3.0\n"
     ]
    },
    {
     "data": {
      "text/plain": [
       "4.0"
      ]
     },
     "execution_count": 4,
     "metadata": {},
     "output_type": "execute_result"
    }
   ],
   "source": [
    "add()"
   ]
  },
  {
   "cell_type": "code",
   "execution_count": 6,
   "id": "69608c4d",
   "metadata": {},
   "outputs": [
    {
     "name": "stdout",
     "output_type": "stream",
     "text": [
      "Enter first number: 5+7j\n",
      "Enter second number: 2+0j\n"
     ]
    },
    {
     "data": {
      "text/plain": [
       "(7+7j)"
      ]
     },
     "execution_count": 6,
     "metadata": {},
     "output_type": "execute_result"
    }
   ],
   "source": [
    "add()"
   ]
  },
  {
   "cell_type": "markdown",
   "id": "3eb42b39",
   "metadata": {},
   "source": [
    "### Types of user -defined functions\n",
    "\n",
    "- Parameterised functions\n",
    "- Non- Parameterised functions\n",
    "\n",
    "#### Parameterised functions:-\n",
    "\n",
    "    When we pass parameters inside a function definition, then they are called as parameterised function \n",
    "    \n",
    "#### Non- parameterised functions:-\n",
    "\n",
    "    When we are not passing any parameters inside a functin definition"
   ]
  },
  {
   "cell_type": "code",
   "execution_count": 9,
   "id": "00f0d53f",
   "metadata": {},
   "outputs": [],
   "source": [
    "def add(a,b): # This is a parameterised function\n",
    "    c = a +b\n",
    "    return c"
   ]
  },
  {
   "cell_type": "code",
   "execution_count": 10,
   "id": "6d3ad9c3",
   "metadata": {},
   "outputs": [],
   "source": [
    "def greet(): # This a Non-parameterised function\n",
    "    print('hello everyone!, Welcome to Python Class')"
   ]
  },
  {
   "cell_type": "markdown",
   "id": "91af5698",
   "metadata": {},
   "source": [
    "### Parameters and Arguments\n",
    "\n",
    "#### Parameter:-\n",
    "\n",
    "    When we pass varaibles inside a function definition, those variables are called Parameters \n",
    "    \n",
    "    \n",
    "#### Arguments:-\n",
    "\n",
    "    When we pass a value inside a function call, then those values are called arguments "
   ]
  },
  {
   "cell_type": "code",
   "execution_count": 7,
   "id": "71f8cffa",
   "metadata": {},
   "outputs": [
    {
     "data": {
      "text/plain": [
       "13"
      ]
     },
     "execution_count": 7,
     "metadata": {},
     "output_type": "execute_result"
    }
   ],
   "source": [
    "def add(a,b): # a and b here are parameters\n",
    "    c = a +b\n",
    "    return c\n",
    "\n",
    "add(6,7) # here 6 and 7 are my arguments"
   ]
  },
  {
   "cell_type": "markdown",
   "id": "d0e4c9ad",
   "metadata": {},
   "source": [
    "### Global and Local Variable\n",
    "\n",
    "#### Global Variable\n",
    "\n",
    "    - The variables that are defined outside the function are known as Global variables\n",
    "    - The global variable have the scope both outside as well as inside a function\n",
    "    \n",
    "#### Local Variable \n",
    "\n",
    "    - The variable that are defined inside a function is known as Local variable\n",
    "    - The local variable has a limited scope i.e. only inside the function, they are not valid outside the function\n",
    "    - We cannot use the local variable outside the function"
   ]
  },
  {
   "cell_type": "code",
   "execution_count": 11,
   "id": "b2ce2b36",
   "metadata": {},
   "outputs": [
    {
     "name": "stdout",
     "output_type": "stream",
     "text": [
      "10\n"
     ]
    },
    {
     "data": {
      "text/plain": [
       "50"
      ]
     },
     "execution_count": 11,
     "metadata": {},
     "output_type": "execute_result"
    }
   ],
   "source": [
    "a  = 10 # global variable\n",
    "\n",
    "def dummy():\n",
    "    a = 50 # local variable\n",
    "    return a \n",
    "\n",
    "print(a)\n",
    "dummy()"
   ]
  },
  {
   "cell_type": "code",
   "execution_count": 12,
   "id": "1f01f20f",
   "metadata": {},
   "outputs": [],
   "source": [
    "a = 10\n",
    "\n",
    "def increment():\n",
    "    x = a+1\n",
    "    return x"
   ]
  },
  {
   "cell_type": "code",
   "execution_count": 13,
   "id": "f5c6a8e2",
   "metadata": {},
   "outputs": [
    {
     "data": {
      "text/plain": [
       "11"
      ]
     },
     "execution_count": 13,
     "metadata": {},
     "output_type": "execute_result"
    }
   ],
   "source": [
    "increment()"
   ]
  },
  {
   "cell_type": "code",
   "execution_count": 18,
   "id": "f8cee4f1",
   "metadata": {},
   "outputs": [
    {
     "name": "stdout",
     "output_type": "stream",
     "text": [
      "10\n"
     ]
    }
   ],
   "source": [
    "def add():\n",
    "    global a\n",
    "    a = 10\n",
    "    return a \n",
    "print(a)"
   ]
  },
  {
   "cell_type": "code",
   "execution_count": 19,
   "id": "3cec7641",
   "metadata": {},
   "outputs": [
    {
     "name": "stdout",
     "output_type": "stream",
     "text": [
      "10\n"
     ]
    }
   ],
   "source": [
    "def add():\n",
    "    global a\n",
    "    a=10\n",
    "    return a\n",
    "print(a)\n"
   ]
  },
  {
   "cell_type": "code",
   "execution_count": 20,
   "id": "5db5856d",
   "metadata": {},
   "outputs": [],
   "source": [
    "import keyword"
   ]
  },
  {
   "cell_type": "code",
   "execution_count": 23,
   "id": "35476aeb",
   "metadata": {},
   "outputs": [
    {
     "name": "stdout",
     "output_type": "stream",
     "text": [
      "['False', 'None', 'True', 'and', 'as', 'assert', 'async', 'await', 'break', 'class', 'continue', 'def', 'del', 'elif', 'else', 'except', 'finally', 'for', 'from', 'global', 'if', 'import', 'in', 'is', 'lambda', 'nonlocal', 'not', 'or', 'pass', 'raise', 'return', 'try', 'while', 'with', 'yield']\n"
     ]
    }
   ],
   "source": [
    "print(keyword.kwlist)"
   ]
  },
  {
   "cell_type": "code",
   "execution_count": 25,
   "id": "c7ab8430",
   "metadata": {},
   "outputs": [
    {
     "name": "stdout",
     "output_type": "stream",
     "text": [
      "['ArithmeticError', 'AssertionError', 'AttributeError', 'BaseException', 'BaseExceptionGroup', 'BlockingIOError', 'BrokenPipeError', 'BufferError', 'BytesWarning', 'ChildProcessError', 'ConnectionAbortedError', 'ConnectionError', 'ConnectionRefusedError', 'ConnectionResetError', 'DeprecationWarning', 'EOFError', 'Ellipsis', 'EncodingWarning', 'EnvironmentError', 'Exception', 'ExceptionGroup', 'False', 'FileExistsError', 'FileNotFoundError', 'FloatingPointError', 'FutureWarning', 'GeneratorExit', 'IOError', 'ImportError', 'ImportWarning', 'IndentationError', 'IndexError', 'InterruptedError', 'IsADirectoryError', 'KeyError', 'KeyboardInterrupt', 'LookupError', 'MemoryError', 'ModuleNotFoundError', 'NameError', 'None', 'NotADirectoryError', 'NotImplemented', 'NotImplementedError', 'OSError', 'OverflowError', 'PendingDeprecationWarning', 'PermissionError', 'ProcessLookupError', 'RecursionError', 'ReferenceError', 'ResourceWarning', 'RuntimeError', 'RuntimeWarning', 'StopAsyncIteration', 'StopIteration', 'SyntaxError', 'SyntaxWarning', 'SystemError', 'SystemExit', 'TabError', 'TimeoutError', 'True', 'TypeError', 'UnboundLocalError', 'UnicodeDecodeError', 'UnicodeEncodeError', 'UnicodeError', 'UnicodeTranslateError', 'UnicodeWarning', 'UserWarning', 'ValueError', 'Warning', 'WindowsError', 'ZeroDivisionError', '__IPYTHON__', '__build_class__', '__debug__', '__doc__', '__import__', '__loader__', '__name__', '__package__', '__spec__', 'abs', 'aiter', 'all', 'anext', 'any', 'ascii', 'bin', 'bool', 'breakpoint', 'bytearray', 'bytes', 'callable', 'chr', 'classmethod', 'compile', 'complex', 'copyright', 'credits', 'delattr', 'dict', 'dir', 'display', 'divmod', 'enumerate', 'eval', 'exec', 'execfile', 'filter', 'float', 'format', 'frozenset', 'get_ipython', 'getattr', 'globals', 'hasattr', 'hash', 'help', 'hex', 'id', 'input', 'int', 'isinstance', 'issubclass', 'iter', 'len', 'license', 'list', 'locals', 'map', 'max', 'memoryview', 'min', 'next', 'object', 'oct', 'open', 'ord', 'pow', 'print', 'property', 'range', 'repr', 'reversed', 'round', 'runfile', 'set', 'setattr', 'slice', 'sorted', 'staticmethod', 'str', 'sum', 'super', 'tuple', 'type', 'vars', 'zip']\n"
     ]
    }
   ],
   "source": [
    "print(dir(__builtins__))"
   ]
  },
  {
   "cell_type": "markdown",
   "id": "170b1182",
   "metadata": {},
   "source": [
    "### Return vs Print"
   ]
  },
  {
   "cell_type": "markdown",
   "id": "75e9d062",
   "metadata": {},
   "source": [
    "- A function may or may not return a value\n",
    "- return statement is used to return a value from a function\n",
    "- return statement returns the value back to the function call\n",
    "- we can assign the function call to a variable, so that we may can handle the returned value in the further processess\n",
    "- If we want to use the result of a function we have to assign it to a variable\n",
    "- return statement will terminate the function declaration\n",
    "\n",
    "__Note__:- print() statement does not return anything and thats why it will return a __none__ value"
   ]
  },
  {
   "cell_type": "code",
   "execution_count": 26,
   "id": "74fab8de",
   "metadata": {},
   "outputs": [],
   "source": [
    "def mul(a,b):\n",
    "    c = a * b\n",
    "    return c\n"
   ]
  },
  {
   "cell_type": "code",
   "execution_count": 27,
   "id": "b370c6d6",
   "metadata": {},
   "outputs": [
    {
     "data": {
      "text/plain": [
       "12"
      ]
     },
     "execution_count": 27,
     "metadata": {},
     "output_type": "execute_result"
    }
   ],
   "source": [
    "mul(3,4)"
   ]
  },
  {
   "cell_type": "code",
   "execution_count": 33,
   "id": "64592ee0",
   "metadata": {},
   "outputs": [],
   "source": [
    "def div(a,b):\n",
    "    c = a / b\n",
    "    print(c)\n",
    "    "
   ]
  },
  {
   "cell_type": "code",
   "execution_count": 29,
   "id": "f23e68e4",
   "metadata": {},
   "outputs": [
    {
     "data": {
      "text/plain": [
       "0.5"
      ]
     },
     "execution_count": 29,
     "metadata": {},
     "output_type": "execute_result"
    }
   ],
   "source": [
    "div(1,2)"
   ]
  },
  {
   "cell_type": "code",
   "execution_count": 30,
   "id": "92c0f4c1",
   "metadata": {},
   "outputs": [
    {
     "name": "stdout",
     "output_type": "stream",
     "text": [
      "42\n"
     ]
    }
   ],
   "source": [
    "a = mul(6,7)\n",
    "print(a)"
   ]
  },
  {
   "cell_type": "code",
   "execution_count": 34,
   "id": "9a71943a",
   "metadata": {},
   "outputs": [
    {
     "name": "stdout",
     "output_type": "stream",
     "text": [
      "0.5\n",
      "None\n"
     ]
    }
   ],
   "source": [
    "b = div(1,2)\n",
    "print(b)"
   ]
  },
  {
   "cell_type": "code",
   "execution_count": 35,
   "id": "0a8e65aa",
   "metadata": {},
   "outputs": [
    {
     "data": {
      "text/plain": [
       "46"
      ]
     },
     "execution_count": 35,
     "metadata": {},
     "output_type": "execute_result"
    }
   ],
   "source": [
    "a = a+4\n",
    "a"
   ]
  },
  {
   "cell_type": "code",
   "execution_count": 36,
   "id": "46426661",
   "metadata": {},
   "outputs": [
    {
     "ename": "TypeError",
     "evalue": "unsupported operand type(s) for +: 'NoneType' and 'int'",
     "output_type": "error",
     "traceback": [
      "\u001b[1;31m---------------------------------------------------------------------------\u001b[0m",
      "\u001b[1;31mTypeError\u001b[0m                                 Traceback (most recent call last)",
      "Cell \u001b[1;32mIn[36], line 1\u001b[0m\n\u001b[1;32m----> 1\u001b[0m b \u001b[38;5;241m=\u001b[39m b\u001b[38;5;241m+\u001b[39m\u001b[38;5;241m4\u001b[39m\n",
      "\u001b[1;31mTypeError\u001b[0m: unsupported operand type(s) for +: 'NoneType' and 'int'"
     ]
    }
   ],
   "source": [
    "b = b+4"
   ]
  },
  {
   "cell_type": "code",
   "execution_count": 37,
   "id": "b82e64b6",
   "metadata": {},
   "outputs": [
    {
     "name": "stdout",
     "output_type": "stream",
     "text": [
      "enter the range: 5\n"
     ]
    },
    {
     "data": {
      "text/plain": [
       "[1, 2, 3, 4, 5]"
      ]
     },
     "execution_count": 37,
     "metadata": {},
     "output_type": "execute_result"
    }
   ],
   "source": [
    "# Write a function that takes an input form the user that generates a list in the range given by the user\n",
    "\n",
    "def gen_list():\n",
    "    n = int(input(\"enter the range: \"))\n",
    "    lst =[i for i in range(1,n+1)]\n",
    "    return lst\n",
    "\n",
    "gen_list()\n"
   ]
  },
  {
   "cell_type": "code",
   "execution_count": 40,
   "id": "26f1793a",
   "metadata": {},
   "outputs": [
    {
     "name": "stdout",
     "output_type": "stream",
     "text": [
      "enter lower_val1\n",
      "enter upper val5\n"
     ]
    },
    {
     "data": {
      "text/plain": [
       "[1, 2, 3, 4, 5]"
      ]
     },
     "execution_count": 40,
     "metadata": {},
     "output_type": "execute_result"
    }
   ],
   "source": [
    "def list_generator():\n",
    "    lower_val= int(input('enter lower_val'))\n",
    "    upper_val= int(input(\"enter upper val\"))\n",
    "    return list(range(lower_val, upper_val+1))\n",
    "\n",
    "list_generator()\n",
    "    "
   ]
  },
  {
   "cell_type": "code",
   "execution_count": 42,
   "id": "5ce5f447",
   "metadata": {},
   "outputs": [
    {
     "name": "stdout",
     "output_type": "stream",
     "text": [
      "Enter yu=our number:- 7\n",
      "[1, 2, 3, 4, 5, 6, 7]\n"
     ]
    }
   ],
   "source": [
    "def list(n):\n",
    "    lst=[]\n",
    "    for i in range (1,n+1):\n",
    "        lst.append(i)\n",
    "    return lst\n",
    "n=int(input(\"Enter yu=our number:- \"))\n",
    "print(list(n))\n"
   ]
  },
  {
   "cell_type": "code",
   "execution_count": 1,
   "id": "37e83206",
   "metadata": {},
   "outputs": [
    {
     "name": "stdout",
     "output_type": "stream",
     "text": [
      "Enter the starting number: 1\n",
      "Enter the ending number: 7\n"
     ]
    },
    {
     "data": {
      "text/plain": [
       "[1, 2, 3, 4, 5, 6, 7]"
      ]
     },
     "execution_count": 1,
     "metadata": {},
     "output_type": "execute_result"
    }
   ],
   "source": [
    "def number_list():\n",
    "    start = int(input(\"Enter the starting number: \"))\n",
    "    end = int(input(\"Enter the ending number: \"))\n",
    "    \n",
    "    return list(range(start, end+1))\n",
    "\n",
    "number_list()\n",
    "\n"
   ]
  },
  {
   "cell_type": "code",
   "execution_count": 2,
   "id": "6f13837c",
   "metadata": {},
   "outputs": [],
   "source": [
    "del(number_list)"
   ]
  },
  {
   "cell_type": "code",
   "execution_count": 3,
   "id": "12f23123",
   "metadata": {},
   "outputs": [
    {
     "ename": "NameError",
     "evalue": "name 'number_list' is not defined",
     "output_type": "error",
     "traceback": [
      "\u001b[1;31m---------------------------------------------------------------------------\u001b[0m",
      "\u001b[1;31mNameError\u001b[0m                                 Traceback (most recent call last)",
      "Cell \u001b[1;32mIn[3], line 1\u001b[0m\n\u001b[1;32m----> 1\u001b[0m number_list\n",
      "\u001b[1;31mNameError\u001b[0m: name 'number_list' is not defined"
     ]
    }
   ],
   "source": [
    "number_list"
   ]
  },
  {
   "cell_type": "markdown",
   "id": "c91510dc",
   "metadata": {},
   "source": [
    "### Types of Argument\n",
    "\n",
    "1. Required positional arguments\n",
    "2. Defaults arguments\n",
    "3. Keyworded argumnets\n",
    "4. Variable length argumnets (*args)\n",
    "5. Keyworded variable length argumnets (*kargs)"
   ]
  },
  {
   "cell_type": "markdown",
   "id": "be59af3a",
   "metadata": {},
   "source": [
    "#### 1. Required Positional Argument\n",
    "\n",
    "- The number of variables(parametrs) inside the function definition and the number of the values(arguments) inside function call should be the same\n",
    "- The values are passed as argument to parameters in a sequence as they are positioned \n",
    "- The variable in the function call and in the function definition may be same or different, it does not matter"
   ]
  },
  {
   "cell_type": "code",
   "execution_count": 4,
   "id": "f7316e4e",
   "metadata": {},
   "outputs": [],
   "source": [
    "def course(a,b):\n",
    "    print(a)\n",
    "    print(b)\n",
    "    "
   ]
  },
  {
   "cell_type": "code",
   "execution_count": 5,
   "id": "9f77f369",
   "metadata": {
    "scrolled": true
   },
   "outputs": [
    {
     "name": "stdout",
     "output_type": "stream",
     "text": [
      "6\n",
      "7\n"
     ]
    }
   ],
   "source": [
    "course(6,7)"
   ]
  },
  {
   "cell_type": "code",
   "execution_count": 8,
   "id": "ae355bae",
   "metadata": {},
   "outputs": [
    {
     "name": "stdout",
     "output_type": "stream",
     "text": [
      "7\n",
      "6\n"
     ]
    }
   ],
   "source": [
    "course(7,6)"
   ]
  },
  {
   "cell_type": "code",
   "execution_count": 6,
   "id": "710921e8",
   "metadata": {},
   "outputs": [
    {
     "ename": "TypeError",
     "evalue": "course() takes 2 positional arguments but 3 were given",
     "output_type": "error",
     "traceback": [
      "\u001b[1;31m---------------------------------------------------------------------------\u001b[0m",
      "\u001b[1;31mTypeError\u001b[0m                                 Traceback (most recent call last)",
      "Cell \u001b[1;32mIn[6], line 1\u001b[0m\n\u001b[1;32m----> 1\u001b[0m course(\u001b[38;5;241m6\u001b[39m,\u001b[38;5;241m7\u001b[39m,\u001b[38;5;241m8\u001b[39m)\n",
      "\u001b[1;31mTypeError\u001b[0m: course() takes 2 positional arguments but 3 were given"
     ]
    }
   ],
   "source": [
    "course(6,7,8)"
   ]
  },
  {
   "cell_type": "code",
   "execution_count": 7,
   "id": "def332d1",
   "metadata": {},
   "outputs": [
    {
     "ename": "TypeError",
     "evalue": "course() missing 1 required positional argument: 'b'",
     "output_type": "error",
     "traceback": [
      "\u001b[1;31m---------------------------------------------------------------------------\u001b[0m",
      "\u001b[1;31mTypeError\u001b[0m                                 Traceback (most recent call last)",
      "Cell \u001b[1;32mIn[7], line 1\u001b[0m\n\u001b[1;32m----> 1\u001b[0m course(\u001b[38;5;241m7\u001b[39m)\n",
      "\u001b[1;31mTypeError\u001b[0m: course() missing 1 required positional argument: 'b'"
     ]
    }
   ],
   "source": [
    "course(7)"
   ]
  },
  {
   "cell_type": "code",
   "execution_count": 9,
   "id": "078fbc87",
   "metadata": {},
   "outputs": [
    {
     "name": "stdout",
     "output_type": "stream",
     "text": [
      "10\n",
      "20\n"
     ]
    }
   ],
   "source": [
    "a = 10\n",
    "b = 20\n",
    "\n",
    "course(a,b)"
   ]
  },
  {
   "cell_type": "code",
   "execution_count": 10,
   "id": "019f9608",
   "metadata": {},
   "outputs": [
    {
     "name": "stdout",
     "output_type": "stream",
     "text": [
      "10\n",
      "20\n"
     ]
    }
   ],
   "source": [
    "x = 10\n",
    "y = 20\n",
    "\n",
    "course(x,y)"
   ]
  },
  {
   "cell_type": "markdown",
   "id": "f6237846",
   "metadata": {},
   "source": [
    "### 2. Defualt arguments\n",
    "\n",
    "- When we assign some values to a variable inside the function definition itself then it becomes a default argument\n",
    "- If we do not pass any value for the default argument, then it will take the default value otherwise it will take the updated value \n",
    "- Default argument should always be placed after the required positional argument\n",
    "- The variable in the function call and in the function definition may be same or different, it does not matter"
   ]
  },
  {
   "cell_type": "code",
   "execution_count": 14,
   "id": "2ef55f43",
   "metadata": {},
   "outputs": [],
   "source": [
    "def sum(a,b,c=5):\n",
    "    d = a+b+c\n",
    "    return d"
   ]
  },
  {
   "cell_type": "code",
   "execution_count": 15,
   "id": "5505eacd",
   "metadata": {},
   "outputs": [
    {
     "data": {
      "text/plain": [
       "6"
      ]
     },
     "execution_count": 15,
     "metadata": {},
     "output_type": "execute_result"
    }
   ],
   "source": [
    "sum(1,2,3)"
   ]
  },
  {
   "cell_type": "code",
   "execution_count": 16,
   "id": "ec5d04ed",
   "metadata": {},
   "outputs": [
    {
     "data": {
      "text/plain": [
       "8"
      ]
     },
     "execution_count": 16,
     "metadata": {},
     "output_type": "execute_result"
    }
   ],
   "source": [
    "sum(1,2)"
   ]
  },
  {
   "cell_type": "code",
   "execution_count": 17,
   "id": "69460912",
   "metadata": {},
   "outputs": [
    {
     "ename": "SyntaxError",
     "evalue": "non-default argument follows default argument (1251496291.py, line 1)",
     "output_type": "error",
     "traceback": [
      "\u001b[1;36m  Cell \u001b[1;32mIn[17], line 1\u001b[1;36m\u001b[0m\n\u001b[1;33m    def sum(a = 5, b,c):\u001b[0m\n\u001b[1;37m                   ^\u001b[0m\n\u001b[1;31mSyntaxError\u001b[0m\u001b[1;31m:\u001b[0m non-default argument follows default argument\n"
     ]
    }
   ],
   "source": [
    "def sum(a = 5, b,c):\n",
    "    d = a+b+c\n",
    "    return d"
   ]
  },
  {
   "cell_type": "code",
   "execution_count": 18,
   "id": "296ce4b9",
   "metadata": {},
   "outputs": [
    {
     "data": {
      "text/plain": [
       "60"
      ]
     },
     "execution_count": 18,
     "metadata": {},
     "output_type": "execute_result"
    }
   ],
   "source": [
    "a = 10\n",
    "b = 20\n",
    "c = 30\n",
    "\n",
    "sum(a,b,c)"
   ]
  },
  {
   "cell_type": "code",
   "execution_count": 19,
   "id": "34ba632f",
   "metadata": {},
   "outputs": [
    {
     "data": {
      "text/plain": [
       "35"
      ]
     },
     "execution_count": 19,
     "metadata": {},
     "output_type": "execute_result"
    }
   ],
   "source": [
    "sum(a,b)"
   ]
  },
  {
   "cell_type": "code",
   "execution_count": 20,
   "id": "8a9a1a6e",
   "metadata": {},
   "outputs": [
    {
     "data": {
      "text/plain": [
       "60"
      ]
     },
     "execution_count": 20,
     "metadata": {},
     "output_type": "execute_result"
    }
   ],
   "source": [
    "x = 10\n",
    "y = 20\n",
    "z = 30\n",
    "\n",
    "sum(x,y,z)"
   ]
  },
  {
   "cell_type": "code",
   "execution_count": null,
   "id": "babc6b9f",
   "metadata": {},
   "outputs": [],
   "source": []
  },
  {
   "cell_type": "code",
   "execution_count": null,
   "id": "ebbd904c",
   "metadata": {},
   "outputs": [],
   "source": []
  },
  {
   "cell_type": "code",
   "execution_count": null,
   "id": "93a7bf2a",
   "metadata": {},
   "outputs": [],
   "source": []
  },
  {
   "cell_type": "code",
   "execution_count": null,
   "id": "652fdef5",
   "metadata": {},
   "outputs": [],
   "source": []
  },
  {
   "cell_type": "code",
   "execution_count": 24,
   "id": "72560a93",
   "metadata": {},
   "outputs": [
    {
     "name": "stdout",
     "output_type": "stream",
     "text": [
      "10 140726066189384\n",
      "20 140726066189704\n",
      "after intialiiing \n",
      "30 140726066190024\n",
      "20 140726066189704\n",
      "10 20\n"
     ]
    }
   ],
   "source": [
    "def add(a,b):\n",
    "    a=30\n",
    "    print(a, id(a))\n",
    "    print(b, id(b))\n",
    "    \n",
    "a=10\n",
    "b=20\n",
    "print(a, id(a))\n",
    "print(b, id(b))\n",
    "print(\"after intialiiing \")\n",
    "add(a,b)\n",
    "print(a,b)\n"
   ]
  },
  {
   "cell_type": "code",
   "execution_count": null,
   "id": "95c40b94",
   "metadata": {},
   "outputs": [],
   "source": []
  }
 ],
 "metadata": {
  "kernelspec": {
   "display_name": "Python 3 (ipykernel)",
   "language": "python",
   "name": "python3"
  },
  "language_info": {
   "codemirror_mode": {
    "name": "ipython",
    "version": 3
   },
   "file_extension": ".py",
   "mimetype": "text/x-python",
   "name": "python",
   "nbconvert_exporter": "python",
   "pygments_lexer": "ipython3",
   "version": "3.11.5"
  }
 },
 "nbformat": 4,
 "nbformat_minor": 5
}
