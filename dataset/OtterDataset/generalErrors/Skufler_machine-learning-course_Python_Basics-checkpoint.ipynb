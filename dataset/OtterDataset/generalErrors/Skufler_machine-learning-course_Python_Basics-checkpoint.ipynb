{
 "cells": [
  {
   "cell_type": "markdown",
   "metadata": {},
   "source": [
    "# Школа Машинного обучения\n",
    "\n",
    "<a href=\"https://mipt.ru/science/labs/laboratoriya-neyronnykh-sistem-i-glubokogo-obucheniya/\"><img align=\"right\" src=\"https://avatars1.githubusercontent.com/u/29918795?v=4&s=200\" alt=\"DeepHackLab\" style=\"position:relative;top:-40px;right:10px;height:100px;\" /></a>\n",
    "\n",
    "\n",
    "\n",
    "### Физтех-Школа Прикладной математики и информатики МФТИ \n",
    "### Лаборатория нейронных сетей и глубокого обучения (DeepHackLab)"
   ]
  },
  {
   "cell_type": "markdown",
   "metadata": {},
   "source": [
    "## Занятие 1. Python и Jupyter Notebook"
   ]
  },
  {
   "cell_type": "markdown",
   "metadata": {},
   "source": [
    "*Захаркин Илья (ФИВТ 3 курс)*"
   ]
  },
  {
   "cell_type": "markdown",
   "metadata": {},
   "source": [
    "<img align=left src=\"https://cdn.fedoramagazine.org/wp-content/uploads/2015/11/Python_logo.png\" style=\"height:160px;\" />\n",
    "\n",
    "<img align=center src=\"https://1.bp.blogspot.com/-16utHnlB3Ao/V4tpG8NBX0I/AAAAAAAAA7M/vDQ1p40JpE8M34eCr-UdriSV04Dn8au7QCLcB/s1600/jupyter-logo.png\" style=\"height:90px;\" />"
   ]
  },
  {
   "cell_type": "markdown",
   "metadata": {},
   "source": [
    "---"
   ]
  },
  {
   "cell_type": "markdown",
   "metadata": {},
   "source": [
    "**Приветствуем Вас в Школе Машинного Обучения от Физтех-Школы ПМИ МФТИ!**  \n",
    "\n",
    "В нашем курсе мы будем использовать язык **Python**, так как он является оптимальным сочетанием простоты, силы и количества библиотек глубокого обучения, написанных для него. "
   ]
  },
  {
   "cell_type": "markdown",
   "metadata": {},
   "source": [
    "На этом занятии мы научимся:  \n",
    "\n",
    "- Установить интерактивную среду разработки на Python - Jupyter Notebook и разобраться, как в ней работать\n",
    "- Установить сам Python\n",
    "- Научиться (или освежить память) писать программы на Python, изучив его основы\n",
    "- Научиться писать производительный код с помощью библиотеки NumPy\n",
    "- Научиться строить графики с помощью библиотеки Matplotlib"
   ]
  },
  {
   "cell_type": "markdown",
   "metadata": {},
   "source": [
    "## Установка Jupyter\n",
    "\n",
    "Инструкция по установке Jupyter Notebook: http://jupyter.readthedocs.org/en/latest/install.html\n",
    "\n",
    "После установки запуск осуществляется командой в консоли:  \n",
    "\n",
    "`jupyter notebook`\n",
    "\n",
    "Через несколько секунд должна открыться страница в браузере со списком файлов директории, в котороый была запущена команда (можно не ждать и самим перейти по http://localhost:8888/ - обычно там располагается локальный \"сервер\" Jupyter Notebook`а)."
   ]
  },
  {
   "cell_type": "markdown",
   "metadata": {},
   "source": [
    "## Онлайн Jupyter Notebook\n",
    "\n",
    "Можно ничего не устанавливать и работать с сайтом https://try.jupyter.org/\n",
    "\n",
    "На сайте можно создать новый файл `(New -> Python 2/3)` или загрузить файл с компьютера с помощью `Upload`.\n",
    "\n",
    "Будьте внимательны!\n",
    "<b>Сайт не сохраняет ваши файлы</b> и удаляет их после закрытия страницы.\n",
    "Чтобы загрузить файл себе откройте его нажмите `File -> Download as -> ipynb`.\n",
    "\n",
    "Можно так же пользоваться сайтом https://cloud.sagemath.com/."
   ]
  },
  {
   "cell_type": "markdown",
   "metadata": {},
   "source": [
    "# Работа с Python в Jupyter Notebook\n",
    "\n",
    "Чтобы создать новый файл, кликните New -> Python.\n",
    "\n",
    "Ноутбук состоит из ячеек (cells), которые бывают текстовыми (Markdown) и кодовыми (Code).\n",
    "Выбрать тип ячейки можно на панели управления.\n",
    "\n",
    "Работа с ячейками:\n",
    "<ul>\n",
    "    <li> Выбор ячейки — нажмите на нее мышкой.</li>\n",
    "    <li> Редактирование — нажмите на нее два раза.</li>\n",
    "    <li> Запуск ячейки — `SHIFT+ENTER` или нажмите на кнопку <button class='fa fa-play icon-play btn btn-xs btn-default'></button> на панеле.</li>\n",
    "    <li> Добавление новой ячейки — нажмите на кнопку <button class='fa fa-plus icon-plus btn btn-xs btn-default'></button> на панеле.</li>\n",
    "    <li> Удаление ячейки — нажмите на кнопку <button class='fa fa-cut icon-cut btn btn-xs btn-default'></button> на панеле.</li>\n",
    "    <li> Перемещение ячейки — нажмите на вертикальные стрелки.</li>\n",
    "</ul>"
   ]
  },
  {
   "cell_type": "markdown",
   "metadata": {},
   "source": [
    "Текстовые ячейки содержат в себе обычный текст, который может включать в себя формулы $\\LaTeX$ и `html`-команды:  \n",
    "\n",
    "$$f(x) = \\frac{1}{x}$$  \n",
    "\n",
    "$\\LaTeX$ cheat sheet -  https://wch.github.io/latexsheet/"
   ]
  },
  {
   "cell_type": "markdown",
   "metadata": {},
   "source": [
    "## Основы Python"
   ]
  },
  {
   "cell_type": "markdown",
   "metadata": {},
   "source": [
    "Сейчас существуют две часто используемые версии Питона — **Python 2** и **Python 3**. Эти версии довольно похожи, но есть отличия, из-за которых они **не являются совместимыми** - программы, написанные на одной версии языка, могут не работать в другой.  \n",
    "\n",
    "В нашем курсе мы будем писать на **Python 3**. Точная версия не принципиальна, но она должна быть >= 3.5  \n",
    "\n",
    "Если Вы пользуетесь каким-либо из дистрибутивов Linux, то Python скорее всего уже установлен.\n",
    "Попробуйте в терминале следующие команды для запуска интерактивного режима работы:\n",
    "\n",
    "`python` или `python3` или `python2`\n",
    "\n",
    "Выход: `Ctrl+D`\n",
    "\n",
    "Режим работы, в котором выполнится код из файла main.py\n",
    "\n",
    "`python main.py`\n",
    "\n",
    "Помощь: **`help(X)`**, где `X` — то, по чему нужна помощь.  \n",
    "Выход из помощи: `q`."
   ]
  },
  {
   "cell_type": "markdown",
   "metadata": {},
   "source": [
    "<img align=center src=\"http://images7.memedroid.com/images/UPLOADED973/596e4c96650e5.jpeg\" style=\"height:400px;\"/>"
   ]
  },
  {
   "cell_type": "markdown",
   "metadata": {},
   "source": [
    "## Общая информация о языке\n",
    "\n",
    "**Название** - **«Питон» или «Пайтон»** (в честь комедийных серий BBC «Летающий цирк Монти-Пайтона»)  \n",
    "**Создатель** - **голландец Гвидо ван Россум (Guido van Rossum)** (в 1991 году)  \n",
    "\n",
    "**Особенности**:  \n",
    "- интерпретируемый\n",
    "- объектно-ориентированный\n",
    "- высокоуровневый язык\n",
    "- встроенные высокоуровневые структуры данных\n",
    "- динамическая типизация\n",
    "- синтаксис прост в изучении\n",
    "- поддержка модулей и пакетов (большинство библиотек\n",
    "бесплатны)\n",
    "- универсальный\n",
    "- интеграция с другими языками (C (Cython), C++, Java (JPython))  \n",
    "\n",
    "**Стиль оформления кода** - **PEP8** (если Вы хороший человек).  \n",
    "\n",
    "*Самое главное из PEP8:*  \n",
    "- отступ – 4 пробела\n",
    "- длина строки < 80 символов\n",
    "- переменные: var_recommended\n",
    "- константы: CONST_RECOMMENDED"
   ]
  },
  {
   "cell_type": "code",
   "execution_count": 559,
   "metadata": {},
   "outputs": [],
   "source": [
    "import this"
   ]
  },
  {
   "cell_type": "markdown",
   "metadata": {},
   "source": [
    "## Типы"
   ]
  },
  {
   "cell_type": "markdown",
   "metadata": {},
   "source": [
    "**Все типы данных** в Python относятся к одной из **2-х категорий**: **изменяемые (mutable)** и **неизменяемые (unmutable)**.   \n",
    "\n",
    "*Неизменяемые объекты*:  \n",
    "* числовые данные (int, float), \n",
    "* bool,\n",
    "* None,\n",
    "* символьные строки (class 'str'), \n",
    "* кортежи (tuple).  \n",
    "\n",
    "*Изменяемые объекты*:  \n",
    "* списки (list), \n",
    "* множества (set), \n",
    "* словари (dict).  \n",
    "\n",
    "Вновь определяемые пользователем типы (классы) могут быть определены как неизменяемые или изменяемые. Изменяемость объектов определённого типа является принципиально важной характеристикой, определяющей, может ли объект такого типа **выступать в качестве ключа для словарей (dict)** или нет."
   ]
  },
  {
   "cell_type": "markdown",
   "metadata": {},
   "source": [
    "### int"
   ]
  },
  {
   "cell_type": "code",
   "execution_count": 560,
   "metadata": {},
   "outputs": [
    {
     "name": "stdout",
     "output_type": "stream",
     "text": [
      "5 | <class 'int'>\n"
     ]
    }
   ],
   "source": [
    "x = 5\n",
    "\n",
    "print(x, '|', type(x))"
   ]
  },
  {
   "cell_type": "code",
   "execution_count": 561,
   "metadata": {},
   "outputs": [
    {
     "name": "stdout",
     "output_type": "stream",
     "text": [
      "9 20 1\n"
     ]
    }
   ],
   "source": [
    "a = 4 + 5\n",
    "b = 4 * 5\n",
    "c = 5 // 4\n",
    "\n",
    "print(a, b, c)"
   ]
  },
  {
   "cell_type": "code",
   "execution_count": 562,
   "metadata": {},
   "outputs": [
    {
     "name": "stdout",
     "output_type": "stream",
     "text": [
      "-1\n"
     ]
    }
   ],
   "source": [
    "print( -(5 // 4) )"
   ]
  },
  {
   "cell_type": "code",
   "execution_count": 563,
   "metadata": {},
   "outputs": [
    {
     "name": "stdout",
     "output_type": "stream",
     "text": [
      "-2\n"
     ]
    }
   ],
   "source": [
    "print( -5 // 4 )"
   ]
  },
  {
   "cell_type": "code",
   "execution_count": 564,
   "metadata": {},
   "outputs": [
    {
     "name": "stdout",
     "output_type": "stream",
     "text": [
      "5000000000000000000000000001 | <class 'int'>\n"
     ]
    }
   ],
   "source": [
    "x = 5 * 1000000000 * 1000000000 * 10**9 + 1\n",
    "print(x, '|', type(x))"
   ]
  },
  {
   "cell_type": "markdown",
   "metadata": {},
   "source": [
    "### float"
   ]
  },
  {
   "cell_type": "code",
   "execution_count": 565,
   "metadata": {},
   "outputs": [
    {
     "name": "stdout",
     "output_type": "stream",
     "text": [
      "12.345 <class 'float'>\n"
     ]
    }
   ],
   "source": [
    "y = 12.345\n",
    "\n",
    "print(y, type(y))"
   ]
  },
  {
   "cell_type": "code",
   "execution_count": 566,
   "metadata": {},
   "outputs": [
    {
     "name": "stdout",
     "output_type": "stream",
     "text": [
      "9.3 21.419999999999998 1.25\n"
     ]
    }
   ],
   "source": [
    "a = 4.2 + 5.1\n",
    "b = 4.2 * 5.1\n",
    "c = 5.0 / 4.0\n",
    "\n",
    "print(a, b, c)"
   ]
  },
  {
   "cell_type": "code",
   "execution_count": 567,
   "metadata": {},
   "outputs": [
    {
     "name": "stdout",
     "output_type": "stream",
     "text": [
      "1.25\n"
     ]
    }
   ],
   "source": [
    "a = 5\n",
    "b = 4\n",
    "print(float(a) / float(b))"
   ]
  },
  {
   "cell_type": "code",
   "execution_count": 568,
   "metadata": {},
   "outputs": [
    {
     "name": "stdout",
     "output_type": "stream",
     "text": [
      "1.25\n"
     ]
    }
   ],
   "source": [
    "print(a / b)"
   ]
  },
  {
   "cell_type": "markdown",
   "metadata": {},
   "source": [
    "### bool"
   ]
  },
  {
   "cell_type": "code",
   "execution_count": 569,
   "metadata": {},
   "outputs": [
    {
     "name": "stdout",
     "output_type": "stream",
     "text": [
      "True | <class 'bool'>\n",
      "False | <class 'bool'>\n"
     ]
    }
   ],
   "source": [
    "a = True\n",
    "b = False\n",
    "\n",
    "print(a, '|', type(a))\n",
    "\n",
    "print(b, '|', type(b))"
   ]
  },
  {
   "cell_type": "code",
   "execution_count": 570,
   "metadata": {},
   "outputs": [
    {
     "name": "stdout",
     "output_type": "stream",
     "text": [
      "1\n",
      "2\n",
      "0\n"
     ]
    }
   ],
   "source": [
    "print(a + b)\n",
    "print(a + a)\n",
    "print(b + b)"
   ]
  },
  {
   "cell_type": "code",
   "execution_count": 571,
   "metadata": {},
   "outputs": [
    {
     "name": "stdout",
     "output_type": "stream",
     "text": [
      "1 0\n"
     ]
    }
   ],
   "source": [
    "print(int(a), int(b))"
   ]
  },
  {
   "cell_type": "code",
   "execution_count": 572,
   "metadata": {},
   "outputs": [
    {
     "name": "stdout",
     "output_type": "stream",
     "text": [
      "False \n",
      "\n",
      "True \n",
      "\n",
      "True \n",
      "\n"
     ]
    }
   ],
   "source": [
    "print(True and False, '\\n')\n",
    "\n",
    "print(True or True, '\\n')\n",
    "\n",
    "print(not False, '\\n')"
   ]
  },
  {
   "cell_type": "markdown",
   "metadata": {},
   "source": [
    "### None"
   ]
  },
  {
   "cell_type": "code",
   "execution_count": 573,
   "metadata": {},
   "outputs": [
    {
     "name": "stdout",
     "output_type": "stream",
     "text": [
      "None | <class 'NoneType'>\n"
     ]
    }
   ],
   "source": [
    "z = None\n",
    "print(z, '|', type(z))"
   ]
  },
  {
   "cell_type": "code",
   "execution_count": 574,
   "metadata": {},
   "outputs": [
    {
     "name": "stdout",
     "output_type": "stream",
     "text": [
      "(\"int() argument must be a string, a bytes-like object or a number, not 'NoneType'\",)\n"
     ]
    }
   ],
   "source": [
    "try:\n",
    "    int(z)\n",
    "except TypeError as e:\n",
    "    print(e.args)"
   ]
  },
  {
   "cell_type": "code",
   "execution_count": 575,
   "metadata": {},
   "outputs": [
    {
     "data": {
      "text/plain": [
       "'I am None!'"
      ]
     },
     "execution_count": 575,
     "metadata": {},
     "output_type": "execute_result"
    }
   ],
   "source": [
    "if z is None:\n",
    "    z = 'I am None!'\n",
    "z"
   ]
  },
  {
   "cell_type": "markdown",
   "metadata": {},
   "source": [
    "### str"
   ]
  },
  {
   "cell_type": "markdown",
   "metadata": {},
   "source": [
    "В *python2.7* есть отдельный тип **unicode**. В *python3.5 (и выше)* (который будем использовать мы) всё это включено в тип **str**."
   ]
  },
  {
   "cell_type": "code",
   "execution_count": 576,
   "metadata": {},
   "outputs": [
    {
     "name": "stdout",
     "output_type": "stream",
     "text": [
      "abc | <class 'str'>\n",
      "xyz | <class 'str'>\n"
     ]
    }
   ],
   "source": [
    "x = \"abc\"\n",
    "y = 'xyz'\n",
    "print(x, '|', type(x))\n",
    "print(y, '|', type(y))"
   ]
  },
  {
   "cell_type": "code",
   "execution_count": 577,
   "metadata": {},
   "outputs": [
    {
     "name": "stdout",
     "output_type": "stream",
     "text": [
      "Андрей Михайлович\n"
     ]
    }
   ],
   "source": [
    "a = 'Андрей'\n",
    "b = \"Михайлович\"\n",
    "s = a + \" \" + b\n",
    "print(s)"
   ]
  },
  {
   "cell_type": "code",
   "execution_count": 578,
   "metadata": {},
   "outputs": [
    {
     "name": "stdout",
     "output_type": "stream",
     "text": [
      "АНДРЕЙ\n",
      "андрей\n"
     ]
    }
   ],
   "source": [
    "print(a.upper())\n",
    "print(a.lower())"
   ]
  },
  {
   "cell_type": "code",
   "execution_count": 579,
   "metadata": {},
   "outputs": [
    {
     "name": "stdout",
     "output_type": "stream",
     "text": [
      "6\n"
     ]
    }
   ],
   "source": [
    "print(len(a))"
   ]
  },
  {
   "cell_type": "code",
   "execution_count": 580,
   "metadata": {},
   "outputs": [
    {
     "name": "stdout",
     "output_type": "stream",
     "text": [
      "True\n",
      "False\n"
     ]
    }
   ],
   "source": [
    "print(bool(a))\n",
    "print(bool(\"\" + ''))"
   ]
  },
  {
   "cell_type": "code",
   "execution_count": 581,
   "metadata": {},
   "outputs": [
    {
     "name": "stdout",
     "output_type": "stream",
     "text": [
      "Андрей\n",
      "А\n",
      "н\n",
      "Анд\n"
     ]
    }
   ],
   "source": [
    "print(a)\n",
    "print(a[0])\n",
    "print(a[1])\n",
    "print(a[0:3])"
   ]
  },
  {
   "cell_type": "code",
   "execution_count": 582,
   "metadata": {},
   "outputs": [
    {
     "name": "stdout",
     "output_type": "stream",
     "text": [
      "Ад\n"
     ]
    }
   ],
   "source": [
    "print(a[0:4:2])"
   ]
  },
  {
   "cell_type": "code",
   "execution_count": 583,
   "metadata": {},
   "outputs": [
    {
     "name": "stdout",
     "output_type": "stream",
     "text": [
      "Роберт Дауни Младший <class 'str'>\n",
      "b'\\xd0\\xa0\\xd0\\xbe\\xd0\\xb1\\xd0\\xb5\\xd1\\x80\\xd1\\x82 \\xd0\\x94\\xd0\\xb0\\xd1\\x83\\xd0\\xbd\\xd0\\xb8 \\xd0\\x9c\\xd0\\xbb\\xd0\\xb0\\xd0\\xb4\\xd1\\x88\\xd0\\xb8\\xd0\\xb9' <class 'bytes'>\n",
      "Роберт Дауни Младший <class 'str'>\n",
      "Р РѕР±РµСЂС‚ Р”Р°СѓРЅРё РњР»Р°РґС€РёР№ <class 'str'>\n"
     ]
    }
   ],
   "source": [
    "x = 'Роберт Дауни Младший'\n",
    "print(x, type(x))\n",
    "y = x.encode('utf-8')\n",
    "print(y, type(y))\n",
    "z = y.decode('utf-8')\n",
    "print(z, type(z))\n",
    "q = y.decode('cp1251')\n",
    "print(q, type(q))"
   ]
  },
  {
   "cell_type": "markdown",
   "metadata": {},
   "source": [
    "### Метод `split()`:"
   ]
  },
  {
   "cell_type": "code",
   "execution_count": 584,
   "metadata": {},
   "outputs": [
    {
     "name": "stdout",
     "output_type": "stream",
     "text": [
      "['Райгородский', 'Андрей', 'Михайлович']\n"
     ]
    }
   ],
   "source": [
    "splitted_line = \"Райгородский Андрей Михайлович\".split(' ')\n",
    "print(splitted_line)"
   ]
  },
  {
   "cell_type": "markdown",
   "metadata": {},
   "source": [
    "### tuple"
   ]
  },
  {
   "cell_type": "code",
   "execution_count": 585,
   "metadata": {},
   "outputs": [
    {
     "data": {
      "text/plain": [
       "('a', 5, 12.345)"
      ]
     },
     "execution_count": 585,
     "metadata": {},
     "output_type": "execute_result"
    }
   ],
   "source": [
    "t = ('a', 5, 12.345)\n",
    "t"
   ]
  },
  {
   "cell_type": "code",
   "execution_count": 586,
   "metadata": {},
   "outputs": [
    {
     "name": "stdout",
     "output_type": "stream",
     "text": [
      "(\"'tuple' object has no attribute 'append'\",)\n"
     ]
    }
   ],
   "source": [
    "try:\n",
    "    t.append(5)\n",
    "except AttributeError as e:\n",
    "    print(e.args)"
   ]
  },
  {
   "cell_type": "code",
   "execution_count": 587,
   "metadata": {},
   "outputs": [
    {
     "data": {
      "text/plain": [
       "['__add__',\n",
       " '__class__',\n",
       " '__contains__',\n",
       " '__delattr__',\n",
       " '__dir__',\n",
       " '__doc__',\n",
       " '__eq__',\n",
       " '__format__',\n",
       " '__ge__',\n",
       " '__getattribute__',\n",
       " '__getitem__',\n",
       " '__getnewargs__',\n",
       " '__gt__',\n",
       " '__hash__',\n",
       " '__init__',\n",
       " '__init_subclass__',\n",
       " '__iter__',\n",
       " '__le__',\n",
       " '__len__',\n",
       " '__lt__',\n",
       " '__mul__',\n",
       " '__ne__',\n",
       " '__new__',\n",
       " '__reduce__',\n",
       " '__reduce_ex__',\n",
       " '__repr__',\n",
       " '__rmul__',\n",
       " '__setattr__',\n",
       " '__sizeof__',\n",
       " '__str__',\n",
       " '__subclasshook__',\n",
       " 'count',\n",
       " 'index']"
      ]
     },
     "execution_count": 587,
     "metadata": {},
     "output_type": "execute_result"
    }
   ],
   "source": [
    "dir(t)"
   ]
  },
  {
   "cell_type": "code",
   "execution_count": 588,
   "metadata": {},
   "outputs": [
    {
     "data": {
      "text/plain": [
       "0"
      ]
     },
     "execution_count": 588,
     "metadata": {},
     "output_type": "execute_result"
    }
   ],
   "source": [
    "t.index('a')"
   ]
  },
  {
   "cell_type": "code",
   "execution_count": 589,
   "metadata": {},
   "outputs": [
    {
     "data": {
      "text/plain": [
       "12.345"
      ]
     },
     "execution_count": 589,
     "metadata": {},
     "output_type": "execute_result"
    }
   ],
   "source": [
    "t[2]"
   ]
  },
  {
   "cell_type": "code",
   "execution_count": 590,
   "metadata": {},
   "outputs": [
    {
     "data": {
      "text/plain": [
       "('a', 5, 12.345, 1, 2, 3)"
      ]
     },
     "execution_count": 590,
     "metadata": {},
     "output_type": "execute_result"
    }
   ],
   "source": [
    "m = (1, 2, 3)\n",
    "\n",
    "t + m"
   ]
  },
  {
   "cell_type": "code",
   "execution_count": 591,
   "metadata": {},
   "outputs": [
    {
     "name": "stdout",
     "output_type": "stream",
     "text": [
      "(\"unsupported operand type(s) for -: 'tuple' and 'tuple'\",)\n"
     ]
    }
   ],
   "source": [
    "try:\n",
    "    t - m\n",
    "except TypeError as e:\n",
    "    print(e.args)"
   ]
  },
  {
   "cell_type": "code",
   "execution_count": 592,
   "metadata": {},
   "outputs": [
    {
     "data": {
      "text/plain": [
       "3"
      ]
     },
     "execution_count": 592,
     "metadata": {},
     "output_type": "execute_result"
    }
   ],
   "source": [
    "len(m)"
   ]
  },
  {
   "cell_type": "markdown",
   "metadata": {},
   "source": [
    "#### Поменять переменные местами"
   ]
  },
  {
   "cell_type": "code",
   "execution_count": 593,
   "metadata": {},
   "outputs": [
    {
     "name": "stdout",
     "output_type": "stream",
     "text": [
      "a: 100 \n",
      "b: -5\n"
     ]
    }
   ],
   "source": [
    "a = -5\n",
    "b = 100\n",
    "\n",
    "a, b = b, a\n",
    "\n",
    "print('a:', a, '\\nb:', b)"
   ]
  },
  {
   "cell_type": "markdown",
   "metadata": {},
   "source": [
    "### Немного про встроенные функции"
   ]
  },
  {
   "cell_type": "markdown",
   "metadata": {},
   "source": [
    "В Python есть так называем **магические** (или служебные) методы - они начинаются и заканчиваются на двойное нижнее подчёркивание: \\__len\\__, \\__add\\__ ..."
   ]
  },
  {
   "cell_type": "code",
   "execution_count": 594,
   "metadata": {},
   "outputs": [
    {
     "data": {
      "text/plain": [
       "<module 'builtins' (built-in)>"
      ]
     },
     "execution_count": 594,
     "metadata": {},
     "output_type": "execute_result"
    }
   ],
   "source": [
    "__builtin__"
   ]
  },
  {
   "cell_type": "markdown",
   "metadata": {},
   "source": [
    "Также в Python есть **встроенные** функции и методы, которые являются в некотором смысле универсальными.  \n",
    "Функция `dir()` выводит список всех атрибутов (имён - методы, функции, классы..), которые есть у модуля/класса/объекта:"
   ]
  },
  {
   "cell_type": "markdown",
   "metadata": {},
   "source": [
    "Давайте посмотрим на встроенные и служебные имена Python (не все):"
   ]
  },
  {
   "cell_type": "code",
   "execution_count": 595,
   "metadata": {
    "scrolled": true
   },
   "outputs": [
    {
     "data": {
      "text/plain": [
       "['ArithmeticError',\n",
       " 'AssertionError',\n",
       " 'AttributeError',\n",
       " 'BaseException',\n",
       " 'BlockingIOError',\n",
       " 'BrokenPipeError',\n",
       " 'BufferError',\n",
       " 'BytesWarning',\n",
       " 'ChildProcessError',\n",
       " 'ConnectionAbortedError',\n",
       " 'ConnectionError',\n",
       " 'ConnectionRefusedError',\n",
       " 'ConnectionResetError',\n",
       " 'DeprecationWarning',\n",
       " 'EOFError',\n",
       " 'Ellipsis',\n",
       " 'EnvironmentError',\n",
       " 'Exception',\n",
       " 'False',\n",
       " 'FileExistsError',\n",
       " 'FileNotFoundError',\n",
       " 'FloatingPointError',\n",
       " 'FutureWarning',\n",
       " 'GeneratorExit',\n",
       " 'IOError',\n",
       " 'ImportError',\n",
       " 'ImportWarning',\n",
       " 'IndentationError',\n",
       " 'IndexError',\n",
       " 'InterruptedError',\n",
       " 'IsADirectoryError',\n",
       " 'KeyError',\n",
       " 'KeyboardInterrupt',\n",
       " 'LookupError',\n",
       " 'MemoryError',\n",
       " 'ModuleNotFoundError',\n",
       " 'NameError',\n",
       " 'None',\n",
       " 'NotADirectoryError',\n",
       " 'NotImplemented',\n",
       " 'NotImplementedError',\n",
       " 'OSError',\n",
       " 'OverflowError',\n",
       " 'PendingDeprecationWarning',\n",
       " 'PermissionError',\n",
       " 'ProcessLookupError',\n",
       " 'RecursionError',\n",
       " 'ReferenceError',\n",
       " 'ResourceWarning',\n",
       " 'RuntimeError',\n",
       " 'RuntimeWarning',\n",
       " 'StopAsyncIteration',\n",
       " 'StopIteration',\n",
       " 'SyntaxError',\n",
       " 'SyntaxWarning',\n",
       " 'SystemError',\n",
       " 'SystemExit',\n",
       " 'TabError',\n",
       " 'TimeoutError',\n",
       " 'True',\n",
       " 'TypeError',\n",
       " 'UnboundLocalError',\n",
       " 'UnicodeDecodeError',\n",
       " 'UnicodeEncodeError',\n",
       " 'UnicodeError',\n",
       " 'UnicodeTranslateError',\n",
       " 'UnicodeWarning',\n",
       " 'UserWarning',\n",
       " 'ValueError',\n",
       " 'Warning',\n",
       " 'ZeroDivisionError',\n",
       " '__IPYTHON__',\n",
       " '__build_class__',\n",
       " '__debug__',\n",
       " '__doc__',\n",
       " '__import__',\n",
       " '__loader__',\n",
       " '__name__',\n",
       " '__package__',\n",
       " '__spec__',\n",
       " 'abs',\n",
       " 'all',\n",
       " 'any',\n",
       " 'ascii',\n",
       " 'bin',\n",
       " 'bool',\n",
       " 'bytearray',\n",
       " 'bytes',\n",
       " 'callable',\n",
       " 'chr',\n",
       " 'classmethod',\n",
       " 'compile',\n",
       " 'complex',\n",
       " 'copyright',\n",
       " 'credits',\n",
       " 'delattr',\n",
       " 'dict',\n",
       " 'dir',\n",
       " 'display',\n",
       " 'divmod',\n",
       " 'enumerate',\n",
       " 'eval',\n",
       " 'exec',\n",
       " 'filter',\n",
       " 'float',\n",
       " 'format',\n",
       " 'frozenset',\n",
       " 'get_ipython',\n",
       " 'getattr',\n",
       " 'globals',\n",
       " 'hasattr',\n",
       " 'hash',\n",
       " 'help',\n",
       " 'hex',\n",
       " 'id',\n",
       " 'input',\n",
       " 'int',\n",
       " 'isinstance',\n",
       " 'issubclass',\n",
       " 'iter',\n",
       " 'len',\n",
       " 'license',\n",
       " 'list',\n",
       " 'locals',\n",
       " 'map',\n",
       " 'max',\n",
       " 'memoryview',\n",
       " 'min',\n",
       " 'next',\n",
       " 'object',\n",
       " 'oct',\n",
       " 'open',\n",
       " 'ord',\n",
       " 'pow',\n",
       " 'print',\n",
       " 'property',\n",
       " 'range',\n",
       " 'repr',\n",
       " 'reversed',\n",
       " 'round',\n",
       " 'set',\n",
       " 'setattr',\n",
       " 'slice',\n",
       " 'sorted',\n",
       " 'staticmethod',\n",
       " 'str',\n",
       " 'sum',\n",
       " 'super',\n",
       " 'tuple',\n",
       " 'type',\n",
       " 'vars',\n",
       " 'zip']"
      ]
     },
     "execution_count": 595,
     "metadata": {},
     "output_type": "execute_result"
    }
   ],
   "source": [
    "dir(__builtin__)"
   ]
  },
  {
   "cell_type": "markdown",
   "metadata": {},
   "source": [
    "---\n",
    "### Задание 1\n",
    "\n",
    "Выведите список атрибутов класса Exception."
   ]
  },
  {
   "cell_type": "code",
   "execution_count": 596,
   "metadata": {},
   "outputs": [
    {
     "name": "stdout",
     "output_type": "stream",
     "text": [
      "['__cause__', '__class__', '__context__', '__delattr__', '__dict__', '__dir__', '__doc__', '__eq__', '__format__', '__ge__', '__getattribute__', '__gt__', '__hash__', '__init__', '__init_subclass__', '__le__', '__lt__', '__ne__', '__new__', '__reduce__', '__reduce_ex__', '__repr__', '__setattr__', '__setstate__', '__sizeof__', '__str__', '__subclasshook__', '__suppress_context__', '__traceback__', 'args', 'with_traceback']\n"
     ]
    }
   ],
   "source": [
    "# Ваш код здесь\n",
    "\n",
    "print(dir(Exception))"
   ]
  },
  {
   "cell_type": "markdown",
   "metadata": {},
   "source": [
    "---"
   ]
  },
  {
   "cell_type": "markdown",
   "metadata": {},
   "source": [
    "### Полезно"
   ]
  },
  {
   "cell_type": "markdown",
   "metadata": {},
   "source": [
    "- При вызове метода какого-то класса (или функции какого-то модуля) можно написать его имя и через точку нажать **tab**:  \n",
    "\n",
    "<имя\\_объекта\\_класса(модуля)>**.[tab]**  \n",
    "\n",
    "Тогда всплывёт меню, в котором можно выбрать из всех существующих в этом классе методов (функций модуля)."
   ]
  },
  {
   "cell_type": "code",
   "execution_count": 597,
   "metadata": {},
   "outputs": [
    {
     "data": {
      "text/plain": [
       "<module 'builtins' (built-in)>"
      ]
     },
     "execution_count": 597,
     "metadata": {},
     "output_type": "execute_result"
    }
   ],
   "source": [
    "__builtin__"
   ]
  },
  {
   "cell_type": "markdown",
   "metadata": {},
   "source": [
    "- Получение быстрой справки (help()) для любого объекта Python:"
   ]
  },
  {
   "cell_type": "code",
   "execution_count": 598,
   "metadata": {},
   "outputs": [],
   "source": [
    "?__builtin__"
   ]
  },
  {
   "cell_type": "markdown",
   "metadata": {},
   "source": [
    "### Структуры данных и встроенные функции"
   ]
  },
  {
   "cell_type": "markdown",
   "metadata": {},
   "source": [
    "### list"
   ]
  },
  {
   "cell_type": "code",
   "execution_count": 599,
   "metadata": {},
   "outputs": [
    {
     "name": "stdout",
     "output_type": "stream",
     "text": [
      "True\n"
     ]
    }
   ],
   "source": [
    "a = list()\n",
    "b = []\n",
    "\n",
    "print(a == b)"
   ]
  },
  {
   "cell_type": "code",
   "execution_count": 600,
   "metadata": {},
   "outputs": [
    {
     "data": {
      "text/plain": [
       "['string', 100, 5.678, None]"
      ]
     },
     "execution_count": 600,
     "metadata": {},
     "output_type": "execute_result"
    }
   ],
   "source": [
    "my_list = ['string', 100, 5.678, None]\n",
    "my_list"
   ]
  },
  {
   "cell_type": "markdown",
   "metadata": {},
   "source": [
    "* `list(range(start, end[, step]))` - получить последовательность (список) целых чисел, начинающуюся со `start`, заканчивающуюся в `end-1` и шагом `step`"
   ]
  },
  {
   "cell_type": "code",
   "execution_count": 601,
   "metadata": {},
   "outputs": [
    {
     "name": "stdout",
     "output_type": "stream",
     "text": [
      "range(1, 10, 2) | <class 'range'>\n"
     ]
    }
   ],
   "source": [
    "array = range(1, 10, 2)\n",
    "print(array, '|', type(array))"
   ]
  },
  {
   "cell_type": "code",
   "execution_count": 602,
   "metadata": {},
   "outputs": [
    {
     "name": "stdout",
     "output_type": "stream",
     "text": [
      "[1, 3, 5, 7, 9] | <class 'list'>\n"
     ]
    }
   ],
   "source": [
    "array = list(array)\n",
    "print(array, '|', type(array))"
   ]
  },
  {
   "cell_type": "code",
   "execution_count": 603,
   "metadata": {},
   "outputs": [
    {
     "data": {
      "text/plain": [
       "3"
      ]
     },
     "execution_count": 603,
     "metadata": {},
     "output_type": "execute_result"
    }
   ],
   "source": [
    "array[1]"
   ]
  },
  {
   "cell_type": "code",
   "execution_count": 604,
   "metadata": {},
   "outputs": [
    {
     "data": {
      "text/plain": [
       "9"
      ]
     },
     "execution_count": 604,
     "metadata": {},
     "output_type": "execute_result"
    }
   ],
   "source": [
    "array[-1]"
   ]
  },
  {
   "cell_type": "code",
   "execution_count": 605,
   "metadata": {},
   "outputs": [
    {
     "name": "stdout",
     "output_type": "stream",
     "text": [
      "0\n",
      "1\n",
      "2\n",
      "3\n",
      "4\n"
     ]
    }
   ],
   "source": [
    "for i in range(5):\n",
    "    print(i)"
   ]
  },
  {
   "cell_type": "markdown",
   "metadata": {},
   "source": [
    "* Перевернуть список:"
   ]
  },
  {
   "cell_type": "code",
   "execution_count": 606,
   "metadata": {},
   "outputs": [
    {
     "data": {
      "text/plain": [
       "[9, 7, 5, 3, 1]"
      ]
     },
     "execution_count": 606,
     "metadata": {},
     "output_type": "execute_result"
    }
   ],
   "source": [
    "array = array[::-1]\n",
    "array"
   ]
  },
  {
   "cell_type": "markdown",
   "metadata": {},
   "source": [
    "* Срезы (`slice`'s) - это объекты языка Python, позволяющие получить какую-то часть итерируемого объекта.  \n",
    "Пример:"
   ]
  },
  {
   "cell_type": "code",
   "execution_count": 607,
   "metadata": {},
   "outputs": [
    {
     "data": {
      "text/plain": [
       "[0, 1, 2, 3, 4, 5, 6, 7, 8, 9]"
      ]
     },
     "execution_count": 607,
     "metadata": {},
     "output_type": "execute_result"
    }
   ],
   "source": [
    "foo = list(range(10))\n",
    "foo"
   ]
  },
  {
   "cell_type": "code",
   "execution_count": 608,
   "metadata": {},
   "outputs": [
    {
     "data": {
      "text/plain": [
       "[0, 1, 2, 3, 4]"
      ]
     },
     "execution_count": 608,
     "metadata": {},
     "output_type": "execute_result"
    }
   ],
   "source": [
    "foo[:5]"
   ]
  },
  {
   "cell_type": "code",
   "execution_count": 609,
   "metadata": {},
   "outputs": [
    {
     "data": {
      "text/plain": [
       "[5, 6, 7, 8, 9]"
      ]
     },
     "execution_count": 609,
     "metadata": {},
     "output_type": "execute_result"
    }
   ],
   "source": [
    "foo[5:]"
   ]
  },
  {
   "cell_type": "code",
   "execution_count": 610,
   "metadata": {},
   "outputs": [
    {
     "data": {
      "text/plain": [
       "[2, 3, 4]"
      ]
     },
     "execution_count": 610,
     "metadata": {},
     "output_type": "execute_result"
    }
   ],
   "source": [
    "foo[2:5]"
   ]
  },
  {
   "cell_type": "code",
   "execution_count": 611,
   "metadata": {},
   "outputs": [
    {
     "name": "stdout",
     "output_type": "stream",
     "text": [
      "slice(2, 5, None) | <class 'slice'>\n"
     ]
    }
   ],
   "source": [
    "slice_2_5 = slice(2, 5)\n",
    "print(slice_2_5, '|', type(slice_2_5))"
   ]
  },
  {
   "cell_type": "code",
   "execution_count": 612,
   "metadata": {},
   "outputs": [
    {
     "data": {
      "text/plain": [
       "[2, 3, 4]"
      ]
     },
     "execution_count": 612,
     "metadata": {},
     "output_type": "execute_result"
    }
   ],
   "source": [
    "foo[slice_2_5]"
   ]
  },
  {
   "cell_type": "markdown",
   "metadata": {},
   "source": [
    "* `S.join(iterable)` - возвращает строку, которая является конкатенацией строк из `iterable`. Разделитель между строками - строка `S`"
   ]
  },
  {
   "cell_type": "code",
   "execution_count": 613,
   "metadata": {},
   "outputs": [],
   "source": [
    "str_array = ['a', 'b', 'c', 'd', 'e']"
   ]
  },
  {
   "cell_type": "code",
   "execution_count": 614,
   "metadata": {},
   "outputs": [
    {
     "data": {
      "text/plain": [
       "'a b c d e'"
      ]
     },
     "execution_count": 614,
     "metadata": {},
     "output_type": "execute_result"
    }
   ],
   "source": [
    "' '.join(str_array)"
   ]
  },
  {
   "cell_type": "code",
   "execution_count": 615,
   "metadata": {},
   "outputs": [
    {
     "data": {
      "text/plain": [
       "'a!_and_!b!_and_!c!_and_!d!_and_!e'"
      ]
     },
     "execution_count": 615,
     "metadata": {},
     "output_type": "execute_result"
    }
   ],
   "source": [
    "'!_and_!'.join(str_array)"
   ]
  },
  {
   "cell_type": "markdown",
   "metadata": {},
   "source": [
    "* Списки можно \"склеивать\":"
   ]
  },
  {
   "cell_type": "code",
   "execution_count": 616,
   "metadata": {},
   "outputs": [
    {
     "name": "stdout",
     "output_type": "stream",
     "text": [
      "[1, 2, 3, 4, 5, 6]\n"
     ]
    }
   ],
   "source": [
    "a = [1, 2, 3]\n",
    "b = [4, 5, 6]\n",
    "\n",
    "print(a + b)"
   ]
  },
  {
   "cell_type": "markdown",
   "metadata": {},
   "source": [
    "### Методы класса list"
   ]
  },
  {
   "cell_type": "code",
   "execution_count": 617,
   "metadata": {
    "scrolled": true
   },
   "outputs": [
    {
     "data": {
      "text/plain": [
       "['__add__',\n",
       " '__class__',\n",
       " '__contains__',\n",
       " '__delattr__',\n",
       " '__delitem__',\n",
       " '__dir__',\n",
       " '__doc__',\n",
       " '__eq__',\n",
       " '__format__',\n",
       " '__ge__',\n",
       " '__getattribute__',\n",
       " '__getitem__',\n",
       " '__gt__',\n",
       " '__hash__',\n",
       " '__iadd__',\n",
       " '__imul__',\n",
       " '__init__',\n",
       " '__init_subclass__',\n",
       " '__iter__',\n",
       " '__le__',\n",
       " '__len__',\n",
       " '__lt__',\n",
       " '__mul__',\n",
       " '__ne__',\n",
       " '__new__',\n",
       " '__reduce__',\n",
       " '__reduce_ex__',\n",
       " '__repr__',\n",
       " '__reversed__',\n",
       " '__rmul__',\n",
       " '__setattr__',\n",
       " '__setitem__',\n",
       " '__sizeof__',\n",
       " '__str__',\n",
       " '__subclasshook__',\n",
       " 'append',\n",
       " 'clear',\n",
       " 'copy',\n",
       " 'count',\n",
       " 'extend',\n",
       " 'index',\n",
       " 'insert',\n",
       " 'pop',\n",
       " 'remove',\n",
       " 'reverse',\n",
       " 'sort']"
      ]
     },
     "execution_count": 617,
     "metadata": {},
     "output_type": "execute_result"
    }
   ],
   "source": [
    "dir(list)"
   ]
  },
  {
   "cell_type": "markdown",
   "metadata": {},
   "source": [
    "* `L.append(element)` - добавляет элемент `element` в список `L`"
   ]
  },
  {
   "cell_type": "code",
   "execution_count": 618,
   "metadata": {},
   "outputs": [
    {
     "data": {
      "text/plain": [
       "[4, 5, 1, 3, 2, 'BANG!']"
      ]
     },
     "execution_count": 618,
     "metadata": {},
     "output_type": "execute_result"
    }
   ],
   "source": [
    "l = [4, 5, 1, 3, 2]\n",
    "\n",
    "l.append('BANG!')\n",
    "l"
   ]
  },
  {
   "cell_type": "markdown",
   "metadata": {},
   "source": [
    "* `sorted(iterable, key)` - возвращает объект, являющийся отсортированной в соответствии с компаратором (по ключу) `key` версией объекта `iterable`. **НЕ изменяет начальный объект!**"
   ]
  },
  {
   "cell_type": "code",
   "execution_count": 619,
   "metadata": {},
   "outputs": [
    {
     "name": "stdout",
     "output_type": "stream",
     "text": [
      "(\"'<' not supported between instances of 'str' and 'int'\",)\n"
     ]
    }
   ],
   "source": [
    "try:\n",
    "    print(sorted(l), '|', l)\n",
    "except TypeError as e:\n",
    "    print(e.args)"
   ]
  },
  {
   "cell_type": "code",
   "execution_count": 620,
   "metadata": {},
   "outputs": [
    {
     "data": {
      "text/plain": [
       "'BANG!'"
      ]
     },
     "execution_count": 620,
     "metadata": {},
     "output_type": "execute_result"
    }
   ],
   "source": [
    "l.pop()"
   ]
  },
  {
   "cell_type": "code",
   "execution_count": 621,
   "metadata": {},
   "outputs": [
    {
     "name": "stdout",
     "output_type": "stream",
     "text": [
      "[1, 2, 3, 4, 5] | [4, 5, 1, 3, 2]\n"
     ]
    }
   ],
   "source": [
    "print(sorted(l), '|', l)"
   ]
  },
  {
   "cell_type": "code",
   "execution_count": 622,
   "metadata": {},
   "outputs": [],
   "source": [
    "def cmp(string):\n",
    "    return len(string)"
   ]
  },
  {
   "cell_type": "code",
   "execution_count": 623,
   "metadata": {},
   "outputs": [
    {
     "data": {
      "text/plain": [
       "['Оля', 'Соня', 'Френк', 'Василий', 'Александр', 'Анастасия']"
      ]
     },
     "execution_count": 623,
     "metadata": {},
     "output_type": "execute_result"
    }
   ],
   "source": [
    "names = ['Александр', 'Василий', 'Анастасия', 'Соня', 'Френк', 'Оля']\n",
    "sorted(names, key=cmp)"
   ]
  },
  {
   "cell_type": "code",
   "execution_count": 624,
   "metadata": {},
   "outputs": [
    {
     "data": {
      "text/plain": [
       "['Оля', 'Соня', 'Френк', 'Василий', 'Александр', 'Анастасия']"
      ]
     },
     "execution_count": 624,
     "metadata": {},
     "output_type": "execute_result"
    }
   ],
   "source": [
    "names = ['Александр', 'Василий', 'Анастасия', 'Соня', 'Френк', 'Оля']\n",
    "sorted(names, key=lambda x: len(x))"
   ]
  },
  {
   "cell_type": "code",
   "execution_count": 625,
   "metadata": {},
   "outputs": [
    {
     "data": {
      "text/plain": [
       "['Александр', 'Василий', 'Анастасия', 'Соня', 'Френк', 'Оля']"
      ]
     },
     "execution_count": 625,
     "metadata": {},
     "output_type": "execute_result"
    }
   ],
   "source": [
    "names"
   ]
  },
  {
   "cell_type": "markdown",
   "metadata": {},
   "source": [
    "* `L.sort(key)` - сортирует лист L в соответствии с компаратором (по ключу) key. **Изменяет начальный объект!**"
   ]
  },
  {
   "cell_type": "code",
   "execution_count": 626,
   "metadata": {},
   "outputs": [
    {
     "name": "stdout",
     "output_type": "stream",
     "text": [
      "(\"'<' not supported between instances of 'str' and 'int'\",)\n"
     ]
    }
   ],
   "source": [
    "l = [1, 2, 3, 4, 5]\n",
    "\n",
    "l.append('BANG!')\n",
    "l\n",
    "try:\n",
    "    l.sort()\n",
    "except TypeError as e:\n",
    "    print(e.args)"
   ]
  },
  {
   "cell_type": "code",
   "execution_count": 627,
   "metadata": {},
   "outputs": [
    {
     "data": {
      "text/plain": [
       "'BANG!'"
      ]
     },
     "execution_count": 627,
     "metadata": {},
     "output_type": "execute_result"
    }
   ],
   "source": [
    "l.pop()"
   ]
  },
  {
   "cell_type": "code",
   "execution_count": 628,
   "metadata": {},
   "outputs": [
    {
     "data": {
      "text/plain": [
       "[1, 2, 3, 4, 5]"
      ]
     },
     "execution_count": 628,
     "metadata": {},
     "output_type": "execute_result"
    }
   ],
   "source": [
    "l"
   ]
  },
  {
   "cell_type": "code",
   "execution_count": 629,
   "metadata": {},
   "outputs": [
    {
     "data": {
      "text/plain": [
       "[5, 4, 3, 2, 1]"
      ]
     },
     "execution_count": 629,
     "metadata": {},
     "output_type": "execute_result"
    }
   ],
   "source": [
    "l.sort(reverse=True)\n",
    "l"
   ]
  },
  {
   "cell_type": "markdown",
   "metadata": {},
   "source": [
    "* `L.count(element)` - возвращает количество вхождений элемента `element` в список `L`"
   ]
  },
  {
   "cell_type": "code",
   "execution_count": 630,
   "metadata": {},
   "outputs": [
    {
     "data": {
      "text/plain": [
       "1"
      ]
     },
     "execution_count": 630,
     "metadata": {},
     "output_type": "execute_result"
    }
   ],
   "source": [
    "l.count(1)"
   ]
  },
  {
   "cell_type": "code",
   "execution_count": 631,
   "metadata": {},
   "outputs": [
    {
     "data": {
      "text/plain": [
       "0"
      ]
     },
     "execution_count": 631,
     "metadata": {},
     "output_type": "execute_result"
    }
   ],
   "source": [
    "l.count('padabum')"
   ]
  },
  {
   "cell_type": "code",
   "execution_count": 632,
   "metadata": {},
   "outputs": [
    {
     "data": {
      "text/plain": [
       "5"
      ]
     },
     "execution_count": 632,
     "metadata": {},
     "output_type": "execute_result"
    }
   ],
   "source": [
    "len(l)"
   ]
  },
  {
   "cell_type": "markdown",
   "metadata": {},
   "source": [
    "`L.index(element)` - возвращает индекс элемента `element` в списке `L`, если он там присутствует, `None` иначе"
   ]
  },
  {
   "cell_type": "code",
   "execution_count": 633,
   "metadata": {},
   "outputs": [
    {
     "data": {
      "text/plain": [
       "2"
      ]
     },
     "execution_count": 633,
     "metadata": {},
     "output_type": "execute_result"
    }
   ],
   "source": [
    "l.index(3)"
   ]
  },
  {
   "cell_type": "markdown",
   "metadata": {},
   "source": [
    "---"
   ]
  },
  {
   "cell_type": "markdown",
   "metadata": {},
   "source": [
    "### Задание 2\n"
   ]
  },
  {
   "cell_type": "markdown",
   "metadata": {},
   "source": [
    "1. Создайте два списка одинаковых размеров из одинаковых элементов:  \n",
    "`items = [какие-то элементы]`  \n",
    "`shuffled_items = [эти же элементы, но расставленные в другом порядке]`  \n",
    "\n",
    "2. Отсортируйте список `items` в соответствие с ключом так, чтобы получился список `shuffled_items`"
   ]
  },
  {
   "cell_type": "code",
   "execution_count": 634,
   "metadata": {},
   "outputs": [
    {
     "data": {
      "text/plain": [
       "['Соня', 'Френк', 'Оля', 'Василий', 'Александр', 'Анастасия']"
      ]
     },
     "execution_count": 634,
     "metadata": {},
     "output_type": "execute_result"
    }
   ],
   "source": [
    "# Ваш код здесь\n",
    "\n",
    "names = ['Александр', 'Василий', 'Анастасия', 'Соня', 'Френк', 'Оля']\n",
    "shuffled_items = ['Соня', 'Френк', 'Оля', 'Василий', 'Александр', 'Анастасия']\n",
    "\n",
    "sorted(names, key=lambda x: x.lower().count('а'))"
   ]
  },
  {
   "cell_type": "markdown",
   "metadata": {},
   "source": [
    "---"
   ]
  },
  {
   "cell_type": "markdown",
   "metadata": {},
   "source": [
    "### Циклы - for и while"
   ]
  },
  {
   "cell_type": "code",
   "execution_count": 635,
   "metadata": {},
   "outputs": [
    {
     "name": "stdout",
     "output_type": "stream",
     "text": [
      "decision tree\n",
      "linear model\n",
      "svm\n",
      "ensemble\n"
     ]
    }
   ],
   "source": [
    "models = ['decision tree', 'linear model', 'svm', 'ensemble']\n",
    "\n",
    "for model in models:\n",
    "    print(model)"
   ]
  },
  {
   "cell_type": "code",
   "execution_count": 636,
   "metadata": {},
   "outputs": [
    {
     "name": "stdout",
     "output_type": "stream",
     "text": [
      "90\n",
      "80\n",
      "70\n",
      "60\n",
      "50\n"
     ]
    }
   ],
   "source": [
    "x = 100\n",
    "\n",
    "while x > 50:\n",
    "    x -= 10\n",
    "    print(x)"
   ]
  },
  {
   "cell_type": "markdown",
   "metadata": {},
   "source": [
    "### enumerate, zip"
   ]
  },
  {
   "cell_type": "code",
   "execution_count": 637,
   "metadata": {},
   "outputs": [
    {
     "data": {
      "text/plain": [
       "<zip at 0x7f11f2659ec8>"
      ]
     },
     "execution_count": 637,
     "metadata": {},
     "output_type": "execute_result"
    }
   ],
   "source": [
    "first = 'a b c d e f g'.split(' ')\n",
    "second = '1 2 3 4 5 6 7'.split(' ')\n",
    "\n",
    "zip(first, second)"
   ]
  },
  {
   "cell_type": "code",
   "execution_count": 638,
   "metadata": {},
   "outputs": [
    {
     "data": {
      "text/plain": [
       "[('a', '1'),\n",
       " ('b', '2'),\n",
       " ('c', '3'),\n",
       " ('d', '4'),\n",
       " ('e', '5'),\n",
       " ('f', '6'),\n",
       " ('g', '7')]"
      ]
     },
     "execution_count": 638,
     "metadata": {},
     "output_type": "execute_result"
    }
   ],
   "source": [
    "list(zip(first, second))"
   ]
  },
  {
   "cell_type": "code",
   "execution_count": 639,
   "metadata": {},
   "outputs": [
    {
     "name": "stdout",
     "output_type": "stream",
     "text": [
      "0 ArithmeticError\n",
      "5 BrokenPipeError\n",
      "10 ConnectionError\n",
      "15 Ellipsis\n",
      "20 FileNotFoundError\n",
      "25 ImportError\n",
      "30 IsADirectoryError\n",
      "35 ModuleNotFoundError\n",
      "40 NotImplementedError\n",
      "45 ProcessLookupError\n",
      "50 RuntimeWarning\n",
      "55 SystemError\n",
      "60 TypeError\n",
      "65 UnicodeTranslateError\n",
      "70 ZeroDivisionError\n",
      "75 __import__\n",
      "80 abs\n",
      "85 bool\n",
      "90 classmethod\n",
      "95 delattr\n",
      "100 enumerate\n",
      "105 format\n",
      "110 hasattr\n",
      "115 input\n",
      "120 len\n",
      "125 max\n",
      "130 oct\n",
      "135 property\n",
      "140 set\n",
      "145 str\n",
      "150 vars\n"
     ]
    }
   ],
   "source": [
    "methods = dir(__builtin__)\n",
    "\n",
    "for num, method in enumerate(methods):\n",
    "    if num % 5 == 0:\n",
    "        print(num, method)"
   ]
  },
  {
   "cell_type": "code",
   "execution_count": 640,
   "metadata": {},
   "outputs": [
    {
     "data": {
      "text/plain": [
       "[(0, 'a'), (1, 'b'), (2, 'c'), (3, 'd'), (4, 'e'), (5, 'f'), (6, 'g')]"
      ]
     },
     "execution_count": 640,
     "metadata": {},
     "output_type": "execute_result"
    }
   ],
   "source": [
    "enum = enumerate(first)\n",
    "list(enum)"
   ]
  },
  {
   "cell_type": "code",
   "execution_count": 641,
   "metadata": {},
   "outputs": [
    {
     "name": "stdout",
     "output_type": "stream",
     "text": [
      "True\n"
     ]
    }
   ],
   "source": [
    "enum = enumerate(first)\n",
    "zip_style = zip(range(0, len(first)), first)\n",
    "\n",
    "print(list(enum) == list(zip_style))"
   ]
  },
  {
   "cell_type": "markdown",
   "metadata": {},
   "source": [
    "---\n",
    "\n",
    "### Задание 3\n",
    "\n",
    "1. Создайте список `a`, состоящий из каких-то элементов.\n",
    "2. Создайте список `b` такого же размера, как `a`, состоящий из каких-то элементов.\n",
    "3. Выведите нумерованный список пар из элементов списков `a` и `b`."
   ]
  },
  {
   "cell_type": "code",
   "execution_count": 642,
   "metadata": {},
   "outputs": [
    {
     "name": "stdout",
     "output_type": "stream",
     "text": [
      "(0, (1, 7))\n",
      "(1, (2, 8))\n",
      "(2, (3, 9))\n",
      "(3, (4, 10))\n",
      "(4, (5, 11))\n",
      "(5, (6, 12))\n"
     ]
    }
   ],
   "source": [
    "# Ваш код здесь\n",
    "\n",
    "a = [1, 2, 3, 4, 5, 6]\n",
    "b = [7, 8, 9, 10, 11, 12]\n",
    "\n",
    "c = zip(a, b)\n",
    "for x in enumerate(c):\n",
    "    print(x)"
   ]
  },
  {
   "cell_type": "markdown",
   "metadata": {},
   "source": [
    "---"
   ]
  },
  {
   "cell_type": "markdown",
   "metadata": {},
   "source": [
    "### list comprehensions"
   ]
  },
  {
   "cell_type": "code",
   "execution_count": 643,
   "metadata": {},
   "outputs": [
    {
     "data": {
      "text/plain": [
       "[1, 2, 3, 4, 5]"
      ]
     },
     "execution_count": 643,
     "metadata": {},
     "output_type": "execute_result"
    }
   ],
   "source": [
    "a = [x for x in range(1, 6)]\n",
    "a"
   ]
  },
  {
   "cell_type": "code",
   "execution_count": 644,
   "metadata": {},
   "outputs": [],
   "source": [
    "def f(x):\n",
    "    return x ** 2"
   ]
  },
  {
   "cell_type": "code",
   "execution_count": 645,
   "metadata": {
    "scrolled": true
   },
   "outputs": [
    {
     "name": "stdout",
     "output_type": "stream",
     "text": [
      "[1, 4, 9, 16, 25, 36, 49, 64, 81] == [1, 4, 9, 16, 25, 36, 49, 64, 81]\n"
     ]
    }
   ],
   "source": [
    "b = [f(x) for x in range(1, 10)]\n",
    "c = [x ** 2 for x in range(1, 10)]\n",
    "print(b, '==', c)"
   ]
  },
  {
   "cell_type": "code",
   "execution_count": 646,
   "metadata": {},
   "outputs": [
    {
     "data": {
      "text/plain": [
       "['a', '*', '*', '*', 'e']"
      ]
     },
     "execution_count": 646,
     "metadata": {},
     "output_type": "execute_result"
    }
   ],
   "source": [
    "[x if x in 'aeiou' else '*' for x in 'apple']"
   ]
  },
  {
   "cell_type": "code",
   "execution_count": 647,
   "metadata": {},
   "outputs": [
    {
     "data": {
      "text/plain": [
       "['0', '1', '1', '2', '2', '3']"
      ]
     },
     "execution_count": 647,
     "metadata": {},
     "output_type": "execute_result"
    }
   ],
   "source": [
    "def foo(i):\n",
    "    return i, i + 1\n",
    "\n",
    "l = []\n",
    "for i in range(3):\n",
    "    for x in foo(i):\n",
    "        l.append(str(x))\n",
    "        \n",
    "l"
   ]
  },
  {
   "cell_type": "code",
   "execution_count": 648,
   "metadata": {},
   "outputs": [
    {
     "data": {
      "text/plain": [
       "['0', '1', '1', '2', '2', '3']"
      ]
     },
     "execution_count": 648,
     "metadata": {},
     "output_type": "execute_result"
    }
   ],
   "source": [
    "l = [str(x) for i in range(3) for x in foo(i)]\n",
    "l"
   ]
  },
  {
   "cell_type": "markdown",
   "metadata": {},
   "source": [
    "---"
   ]
  },
  {
   "cell_type": "markdown",
   "metadata": {},
   "source": [
    "### Задание 4"
   ]
  },
  {
   "cell_type": "markdown",
   "metadata": {},
   "source": [
    "*Выведите* список из 100 чисел *через запятую*. **Циклами пользоваться нельзя.**"
   ]
  },
  {
   "cell_type": "code",
   "execution_count": 649,
   "metadata": {},
   "outputs": [
    {
     "name": "stdout",
     "output_type": "stream",
     "text": [
      "[1, 2, 3, 4, 5, 6, 7, 8, 9, 10, 11, 12, 13, 14, 15, 16, 17, 18, 19, 20, 21, 22, 23, 24, 25, 26, 27, 28, 29, 30, 31, 32, 33, 34, 35, 36, 37, 38, 39, 40, 41, 42, 43, 44, 45, 46, 47, 48, 49, 50, 51, 52, 53, 54, 55, 56, 57, 58, 59, 60, 61, 62, 63, 64, 65, 66, 67, 68, 69, 70, 71, 72, 73, 74, 75, 76, 77, 78, 79, 80, 81, 82, 83, 84, 85, 86, 87, 88, 89, 90, 91, 92, 93, 94, 95, 96, 97, 98, 99, 100] "
     ]
    }
   ],
   "source": [
    "# Ваш код здесь\n",
    "\n",
    "d = [x for x in range(1, 101)]\n",
    "print(d, end=' ')"
   ]
  },
  {
   "cell_type": "markdown",
   "metadata": {},
   "source": [
    "---"
   ]
  },
  {
   "cell_type": "markdown",
   "metadata": {},
   "source": [
    "### functions, lambdas"
   ]
  },
  {
   "cell_type": "markdown",
   "metadata": {},
   "source": [
    "<img align=center src=\"http://stopnonsense.com/wp-content/uploads/Running-is-running.jpg\" style=\"height:300px;\"/>"
   ]
  },
  {
   "cell_type": "code",
   "execution_count": 650,
   "metadata": {},
   "outputs": [],
   "source": [
    "def make_coffee(size, sugar_dose=3, **kwargs):\n",
    "    if sugar_dose > 5:\n",
    "        return 'Too much sugar! Be careful! :('\n",
    "    else:\n",
    "        return 'Done: cup of {0} ml size; amount of sugar = {1}'.format(size, sugar_dose)"
   ]
  },
  {
   "cell_type": "code",
   "execution_count": 651,
   "metadata": {},
   "outputs": [
    {
     "data": {
      "text/plain": [
       "'Done: cup of 100 ml size; amount of sugar = 3'"
      ]
     },
     "execution_count": 651,
     "metadata": {},
     "output_type": "execute_result"
    }
   ],
   "source": [
    "make_coffee(100)"
   ]
  },
  {
   "cell_type": "code",
   "execution_count": 652,
   "metadata": {},
   "outputs": [
    {
     "data": {
      "text/plain": [
       "'Done: cup of 200 ml size; amount of sugar = 1'"
      ]
     },
     "execution_count": 652,
     "metadata": {},
     "output_type": "execute_result"
    }
   ],
   "source": [
    "make_coffee(200, 1)"
   ]
  },
  {
   "cell_type": "code",
   "execution_count": 653,
   "metadata": {},
   "outputs": [
    {
     "data": {
      "text/plain": [
       "'Too much sugar! Be careful! :('"
      ]
     },
     "execution_count": 653,
     "metadata": {},
     "output_type": "execute_result"
    }
   ],
   "source": [
    "make_coffee(100, 6)"
   ]
  },
  {
   "cell_type": "code",
   "execution_count": 654,
   "metadata": {},
   "outputs": [
    {
     "data": {
      "text/plain": [
       "'Done: cup of 120 ml size; amount of sugar = 5'"
      ]
     },
     "execution_count": 654,
     "metadata": {},
     "output_type": "execute_result"
    }
   ],
   "source": [
    "make_coffee(120, 5, name='Ilya', gender='male')  # kwargs"
   ]
  },
  {
   "cell_type": "code",
   "execution_count": 655,
   "metadata": {},
   "outputs": [
    {
     "name": "stdout",
     "output_type": "stream",
     "text": [
      "-5\n"
     ]
    }
   ],
   "source": [
    "negation = lambda x: -x\n",
    "a = 5\n",
    "print(negation(a))"
   ]
  },
  {
   "cell_type": "markdown",
   "metadata": {},
   "source": [
    "### map, reduce, filter"
   ]
  },
  {
   "cell_type": "markdown",
   "metadata": {},
   "source": [
    "* `map(func, iterables)` - выполняет преобразование func над элементами iterables и возвращает **новый** `iterable`:"
   ]
  },
  {
   "cell_type": "code",
   "execution_count": 656,
   "metadata": {},
   "outputs": [],
   "source": [
    "words = dir(list)"
   ]
  },
  {
   "cell_type": "code",
   "execution_count": 657,
   "metadata": {
    "scrolled": true
   },
   "outputs": [
    {
     "name": "stdout",
     "output_type": "stream",
     "text": [
      "[7, 9, 12, 11, 11, 7, 7, 6, 10, 6, 16, 11, 6, 8, 8, 8, 8, 17, 8, 6, 7, 6, 7, 6, 7, 10, 13, 8, 12, 8, 11, 11, 10, 7, 16, 6, 5, 4, 5, 6, 5, 6, 3, 6, 7, 4]\n",
      "\n",
      "['__add__', '__class__', '__contains__', '__delattr__', '__delitem__', '__dir__', '__doc__', '__eq__', '__format__', '__ge__', '__getattribute__', '__getitem__', '__gt__', '__hash__', '__iadd__', '__imul__', '__init__', '__init_subclass__', '__iter__', '__le__', '__len__', '__lt__', '__mul__', '__ne__', '__new__', '__reduce__', '__reduce_ex__', '__repr__', '__reversed__', '__rmul__', '__setattr__', '__setitem__', '__sizeof__', '__str__', '__subclasshook__', 'append', 'clear', 'copy', 'count', 'extend', 'index', 'insert', 'pop', 'remove', 'reverse', 'sort']\n"
     ]
    }
   ],
   "source": [
    "letter_counts = list(map(lambda x: len(x), words))\n",
    "\n",
    "print(letter_counts)\n",
    "print()\n",
    "print(words)"
   ]
  },
  {
   "cell_type": "code",
   "execution_count": 658,
   "metadata": {},
   "outputs": [
    {
     "name": "stdout",
     "output_type": "stream",
     "text": [
      "[113, 116, 119]\n"
     ]
    }
   ],
   "source": [
    "l1 = [1,2,3,4]\n",
    "l2 = [11, 12, 13, 14, 15]\n",
    "l3 = [101, 102, 103]\n",
    "\n",
    "triple_sum = list(map(lambda x, y, z: x + y + z, l1, l2, l3))\n",
    "print(triple_sum)"
   ]
  },
  {
   "cell_type": "markdown",
   "metadata": {},
   "source": [
    "* `reduce(func, iterables)` - производит вычисление с элементами последовательности, результатом которого является **одно значение**:"
   ]
  },
  {
   "cell_type": "code",
   "execution_count": 659,
   "metadata": {},
   "outputs": [],
   "source": [
    "from functools import reduce"
   ]
  },
  {
   "cell_type": "code",
   "execution_count": 660,
   "metadata": {},
   "outputs": [
    {
     "name": "stdout",
     "output_type": "stream",
     "text": [
      "378\n"
     ]
    }
   ],
   "source": [
    "sum_of_counts = reduce(lambda x, y: x + y, letter_counts)\n",
    "print(sum_of_counts)"
   ]
  },
  {
   "cell_type": "markdown",
   "metadata": {
    "collapsed": true
   },
   "source": [
    "* `filter(predicate, iterable)` - оставляет только те элементы, для которых **верен** предикат (функция, возвращающая bool):"
   ]
  },
  {
   "cell_type": "code",
   "execution_count": 661,
   "metadata": {},
   "outputs": [
    {
     "name": "stdout",
     "output_type": "stream",
     "text": [
      "['мак', 'мак', 'мак', 'мак', 'мак']\n"
     ]
    }
   ],
   "source": [
    "mixed = ['мак', 'просо', 'мак', 'мак', 'просо', 'мак', 'просо', 'просо', 'просо', 'мак']\n",
    "only_mac = list(filter(lambda x: x == 'мак', mixed))\n",
    "print(only_mac)"
   ]
  },
  {
   "cell_type": "markdown",
   "metadata": {},
   "source": [
    "---"
   ]
  },
  {
   "cell_type": "markdown",
   "metadata": {},
   "source": [
    "### Задание 5\n",
    "\n",
    "1. Дан массив строк: `['agfkd.,f', 'Qksdf;sb&..', 'asdoo*', 'bgf...d', 're54()kj[]].'] `\n",
    "2. Создайте список, состоящий из количества точек в каждой строке. Выведите его\n",
    "3. Создайте новый список, в котором будут только строки, в которых более 2-х точек. Выведите его  \n",
    "\n",
    "Циклами пользоваться нельзя."
   ]
  },
  {
   "cell_type": "code",
   "execution_count": 662,
   "metadata": {},
   "outputs": [
    {
     "name": "stdout",
     "output_type": "stream",
     "text": [
      "[1, 2, 0, 3, 1]\n"
     ]
    },
    {
     "data": {
      "text/plain": [
       "['bgf...d']"
      ]
     },
     "execution_count": 662,
     "metadata": {},
     "output_type": "execute_result"
    }
   ],
   "source": [
    "a = ['agfkd.,f', 'Qksdf;sb&..', 'asdoo*', 'bgf...d', 're54()kj[]].']\n",
    "\n",
    "print(list(map(lambda x: x.count('.'), a)))\n",
    "\n",
    "list(filter(lambda x: x.count('.') > 2 , a))"
   ]
  },
  {
   "cell_type": "markdown",
   "metadata": {},
   "source": [
    "---"
   ]
  },
  {
   "cell_type": "markdown",
   "metadata": {},
   "source": [
    "### set"
   ]
  },
  {
   "cell_type": "code",
   "execution_count": 663,
   "metadata": {},
   "outputs": [
    {
     "data": {
      "text/plain": [
       "set()"
      ]
     },
     "execution_count": 663,
     "metadata": {},
     "output_type": "execute_result"
    }
   ],
   "source": [
    "s = set()\n",
    "s"
   ]
  },
  {
   "cell_type": "code",
   "execution_count": 664,
   "metadata": {},
   "outputs": [
    {
     "data": {
      "text/plain": [
       "['__and__',\n",
       " '__class__',\n",
       " '__contains__',\n",
       " '__delattr__',\n",
       " '__dir__',\n",
       " '__doc__',\n",
       " '__eq__',\n",
       " '__format__',\n",
       " '__ge__',\n",
       " '__getattribute__',\n",
       " '__gt__',\n",
       " '__hash__',\n",
       " '__iand__',\n",
       " '__init__',\n",
       " '__init_subclass__',\n",
       " '__ior__',\n",
       " '__isub__',\n",
       " '__iter__',\n",
       " '__ixor__',\n",
       " '__le__',\n",
       " '__len__',\n",
       " '__lt__',\n",
       " '__ne__',\n",
       " '__new__',\n",
       " '__or__',\n",
       " '__rand__',\n",
       " '__reduce__',\n",
       " '__reduce_ex__',\n",
       " '__repr__',\n",
       " '__ror__',\n",
       " '__rsub__',\n",
       " '__rxor__',\n",
       " '__setattr__',\n",
       " '__sizeof__',\n",
       " '__str__',\n",
       " '__sub__',\n",
       " '__subclasshook__',\n",
       " '__xor__',\n",
       " 'add',\n",
       " 'clear',\n",
       " 'copy',\n",
       " 'difference',\n",
       " 'difference_update',\n",
       " 'discard',\n",
       " 'intersection',\n",
       " 'intersection_update',\n",
       " 'isdisjoint',\n",
       " 'issubset',\n",
       " 'issuperset',\n",
       " 'pop',\n",
       " 'remove',\n",
       " 'symmetric_difference',\n",
       " 'symmetric_difference_update',\n",
       " 'union',\n",
       " 'update']"
      ]
     },
     "execution_count": 664,
     "metadata": {},
     "output_type": "execute_result"
    }
   ],
   "source": [
    "dir(s)"
   ]
  },
  {
   "cell_type": "code",
   "execution_count": 665,
   "metadata": {},
   "outputs": [
    {
     "name": "stdout",
     "output_type": "stream",
     "text": [
      "{1, 'bullet', 'a', None}\n"
     ]
    }
   ],
   "source": [
    "s.add(1)\n",
    "s.add('a')\n",
    "s.add(None)\n",
    "s.add('bullet')\n",
    "print(s)"
   ]
  },
  {
   "cell_type": "code",
   "execution_count": 666,
   "metadata": {},
   "outputs": [],
   "source": [
    "s1 = set(range(0, 10))\n",
    "s2 = set(range(5, 15))"
   ]
  },
  {
   "cell_type": "code",
   "execution_count": 667,
   "metadata": {},
   "outputs": [
    {
     "name": "stdout",
     "output_type": "stream",
     "text": [
      "{0, 1, 2, 3, 4}\n",
      "\n",
      "{10, 11, 12, 13, 14}\n"
     ]
    }
   ],
   "source": [
    "print(s1.difference(s2))\n",
    "print()\n",
    "print(s2.difference(s1))"
   ]
  },
  {
   "cell_type": "code",
   "execution_count": 668,
   "metadata": {},
   "outputs": [
    {
     "data": {
      "text/plain": [
       "{5, 6, 7, 8, 9}"
      ]
     },
     "execution_count": 668,
     "metadata": {},
     "output_type": "execute_result"
    }
   ],
   "source": [
    "s1.intersection(s2)"
   ]
  },
  {
   "cell_type": "code",
   "execution_count": 669,
   "metadata": {},
   "outputs": [
    {
     "data": {
      "text/plain": [
       "{0, 1, 2, 3, 4, 5, 6, 7, 8, 9, 10, 11, 12, 13, 14}"
      ]
     },
     "execution_count": 669,
     "metadata": {},
     "output_type": "execute_result"
    }
   ],
   "source": [
    "s1.union(s2)"
   ]
  },
  {
   "cell_type": "code",
   "execution_count": 670,
   "metadata": {},
   "outputs": [
    {
     "name": "stdout",
     "output_type": "stream",
     "text": [
      "s1:  {0, 1, 2, 3, 4, 5, 6, 7, 8, 9} \n",
      "s2:  {5, 6, 7, 8, 9, 10, 11, 12, 13, 14}\n"
     ]
    }
   ],
   "source": [
    "print('s1: ', s1, '\\ns2: ', s2)"
   ]
  },
  {
   "cell_type": "markdown",
   "metadata": {},
   "source": [
    "### dict"
   ]
  },
  {
   "cell_type": "code",
   "execution_count": 671,
   "metadata": {},
   "outputs": [
    {
     "name": "stdout",
     "output_type": "stream",
     "text": [
      "True | <class 'dict'>\n"
     ]
    }
   ],
   "source": [
    "d = {}\n",
    "dd = dict()\n",
    "\n",
    "print(d == dd, '|', type(d))"
   ]
  },
  {
   "cell_type": "code",
   "execution_count": 672,
   "metadata": {},
   "outputs": [
    {
     "data": {
      "text/plain": [
       "['__class__',\n",
       " '__contains__',\n",
       " '__delattr__',\n",
       " '__delitem__',\n",
       " '__dir__',\n",
       " '__doc__',\n",
       " '__eq__',\n",
       " '__format__',\n",
       " '__ge__',\n",
       " '__getattribute__',\n",
       " '__getitem__',\n",
       " '__gt__',\n",
       " '__hash__',\n",
       " '__init__',\n",
       " '__init_subclass__',\n",
       " '__iter__',\n",
       " '__le__',\n",
       " '__len__',\n",
       " '__lt__',\n",
       " '__ne__',\n",
       " '__new__',\n",
       " '__reduce__',\n",
       " '__reduce_ex__',\n",
       " '__repr__',\n",
       " '__setattr__',\n",
       " '__setitem__',\n",
       " '__sizeof__',\n",
       " '__str__',\n",
       " '__subclasshook__',\n",
       " 'clear',\n",
       " 'copy',\n",
       " 'fromkeys',\n",
       " 'get',\n",
       " 'items',\n",
       " 'keys',\n",
       " 'pop',\n",
       " 'popitem',\n",
       " 'setdefault',\n",
       " 'update',\n",
       " 'values']"
      ]
     },
     "execution_count": 672,
     "metadata": {},
     "output_type": "execute_result"
    }
   ],
   "source": [
    "dir(dict)"
   ]
  },
  {
   "cell_type": "code",
   "execution_count": 673,
   "metadata": {},
   "outputs": [
    {
     "data": {
      "text/plain": [
       "{'a': 100}"
      ]
     },
     "execution_count": 673,
     "metadata": {},
     "output_type": "execute_result"
    }
   ],
   "source": [
    "d['a'] = 100\n",
    "d"
   ]
  },
  {
   "cell_type": "code",
   "execution_count": 674,
   "metadata": {},
   "outputs": [
    {
     "data": {
      "text/plain": [
       "{'long': 'dictionary', 'short': 'dict'}"
      ]
     },
     "execution_count": 674,
     "metadata": {},
     "output_type": "execute_result"
    }
   ],
   "source": [
    "d = dict(short='dict', long='dictionary')\n",
    "d"
   ]
  },
  {
   "cell_type": "code",
   "execution_count": 675,
   "metadata": {},
   "outputs": [
    {
     "data": {
      "text/plain": [
       "{1: 1, 2: 4}"
      ]
     },
     "execution_count": 675,
     "metadata": {},
     "output_type": "execute_result"
    }
   ],
   "source": [
    "d = dict([(1, 1), (2, 4)])\n",
    "d"
   ]
  },
  {
   "cell_type": "code",
   "execution_count": 676,
   "metadata": {},
   "outputs": [
    {
     "data": {
      "text/plain": [
       "{'a': None, 'b': None}"
      ]
     },
     "execution_count": 676,
     "metadata": {},
     "output_type": "execute_result"
    }
   ],
   "source": [
    "d = dict.fromkeys(['a', 'b'])\n",
    "d"
   ]
  },
  {
   "cell_type": "code",
   "execution_count": 677,
   "metadata": {},
   "outputs": [
    {
     "data": {
      "text/plain": [
       "{'a': 100, 'b': 100}"
      ]
     },
     "execution_count": 677,
     "metadata": {},
     "output_type": "execute_result"
    }
   ],
   "source": [
    "d = dict.fromkeys(['a', 'b'], 100)\n",
    "d"
   ]
  },
  {
   "cell_type": "markdown",
   "metadata": {},
   "source": [
    "**dict comprehensions**"
   ]
  },
  {
   "cell_type": "code",
   "execution_count": 678,
   "metadata": {},
   "outputs": [
    {
     "data": {
      "text/plain": [
       "{0: 0, 1: 1, 2: 4, 3: 9, 4: 16, 5: 25, 6: 36}"
      ]
     },
     "execution_count": 678,
     "metadata": {},
     "output_type": "execute_result"
    }
   ],
   "source": [
    "d = {a: a ** 2 for a in range(7)}\n",
    "d"
   ]
  },
  {
   "cell_type": "markdown",
   "metadata": {},
   "source": [
    "### !"
   ]
  },
  {
   "cell_type": "markdown",
   "metadata": {},
   "source": [
    "Будьте осторожны, если ключа, по которому поступил запрос, нет в словаре, то выбросит исключение:"
   ]
  },
  {
   "cell_type": "code",
   "execution_count": 679,
   "metadata": {},
   "outputs": [
    {
     "name": "stdout",
     "output_type": "stream",
     "text": [
      "('a',)\n"
     ]
    }
   ],
   "source": [
    "d = {1: 100, 2: 200, 3: 300}\n",
    "try:\n",
    "    d['a']\n",
    "except KeyError as e:\n",
    "    print(e.args)"
   ]
  },
  {
   "cell_type": "markdown",
   "metadata": {},
   "source": [
    "Поэтому безопаснее использовать **get(key)**. Тогда, если нужно, можно проверить на **None**:"
   ]
  },
  {
   "cell_type": "code",
   "execution_count": 680,
   "metadata": {},
   "outputs": [
    {
     "data": {
      "text/plain": [
       "100"
      ]
     },
     "execution_count": 680,
     "metadata": {},
     "output_type": "execute_result"
    }
   ],
   "source": [
    "d.get(1)"
   ]
  },
  {
   "cell_type": "code",
   "execution_count": 681,
   "metadata": {},
   "outputs": [
    {
     "data": {
      "text/plain": [
       "True"
      ]
     },
     "execution_count": 681,
     "metadata": {},
     "output_type": "execute_result"
    }
   ],
   "source": [
    "d.get('a') == None"
   ]
  },
  {
   "cell_type": "markdown",
   "metadata": {},
   "source": [
    "Самое часто используемое - получение ключей, получение значений и получение всего вместе:"
   ]
  },
  {
   "cell_type": "code",
   "execution_count": 682,
   "metadata": {},
   "outputs": [
    {
     "name": "stdout",
     "output_type": "stream",
     "text": [
      "dict_keys([1, 2, 3]) | <class 'dict_keys'>\n",
      "[1, 2, 3]\n"
     ]
    }
   ],
   "source": [
    "print(d.keys(), '|', type(d.keys()))\n",
    "\n",
    "\n",
    "print(list(d.keys()))"
   ]
  },
  {
   "cell_type": "code",
   "execution_count": 683,
   "metadata": {},
   "outputs": [
    {
     "name": "stdout",
     "output_type": "stream",
     "text": [
      "dict_values([100, 200, 300]) | <class 'dict_values'>\n",
      "[100, 200, 300]\n"
     ]
    }
   ],
   "source": [
    "print(d.values(), '|', type(d.values()))\n",
    "\n",
    "\n",
    "print(list(d.values()))"
   ]
  },
  {
   "cell_type": "code",
   "execution_count": 684,
   "metadata": {},
   "outputs": [
    {
     "name": "stdout",
     "output_type": "stream",
     "text": [
      "dict_items([(1, 100), (2, 200), (3, 300)]) | <class 'dict_items'>\n",
      "[(1, 100), (2, 200), (3, 300)]\n"
     ]
    }
   ],
   "source": [
    "print(d.items(), '|', type(d.items()))\n",
    "\n",
    "\n",
    "print(list(d.items()))"
   ]
  },
  {
   "cell_type": "markdown",
   "metadata": {
    "collapsed": true
   },
   "source": [
    "### modules"
   ]
  },
  {
   "cell_type": "markdown",
   "metadata": {
    "collapsed": true
   },
   "source": [
    "**Модули** - это \"библиотеки\" Python. То есть это самостоятельные, объединённые технически и логически, именованные части Python кода"
   ]
  },
  {
   "cell_type": "markdown",
   "metadata": {
    "collapsed": true
   },
   "source": [
    "* О модулях необходимо знать только одно - как их импортировать:"
   ]
  },
  {
   "cell_type": "code",
   "execution_count": 685,
   "metadata": {},
   "outputs": [],
   "source": [
    "import collections"
   ]
  },
  {
   "cell_type": "markdown",
   "metadata": {},
   "source": [
    "* Импортировать только какой-то компонент из модуля:"
   ]
  },
  {
   "cell_type": "code",
   "execution_count": 686,
   "metadata": {},
   "outputs": [],
   "source": [
    "from collections import Counter"
   ]
  },
  {
   "cell_type": "markdown",
   "metadata": {},
   "source": [
    "* Импортировать с другим именем (чаще всего используется для локаничности кода):"
   ]
  },
  {
   "cell_type": "code",
   "execution_count": 687,
   "metadata": {},
   "outputs": [],
   "source": [
    "import collections as cool_lib"
   ]
  },
  {
   "cell_type": "code",
   "execution_count": 688,
   "metadata": {},
   "outputs": [],
   "source": [
    "count = cool_lib.Counter()"
   ]
  },
  {
   "cell_type": "markdown",
   "metadata": {},
   "source": [
    "Жизненный пример:"
   ]
  },
  {
   "cell_type": "code",
   "execution_count": 689,
   "metadata": {},
   "outputs": [],
   "source": [
    "import numpy as np"
   ]
  },
  {
   "cell_type": "markdown",
   "metadata": {},
   "source": [
    "### files"
   ]
  },
  {
   "cell_type": "code",
   "execution_count": 690,
   "metadata": {},
   "outputs": [],
   "source": [
    "path = './20_newsgroups/sci.space/62478'"
   ]
  },
  {
   "cell_type": "code",
   "execution_count": 691,
   "metadata": {},
   "outputs": [
    {
     "name": "stdout",
     "output_type": "stream",
     "text": [
      "Xref: cantaloupe.srv.cs.cmu.edu sci.environment:30750 misc.consumers:69256 misc.invest:42673 sci.astro:36051 talk.environment:12248 talk.politics.space:2872 sci.space:62478 rec.backcountry:32315 misc.rural:6338 misc.headlines:42267 misc.legal:63426\n",
      "\n"
     ]
    }
   ],
   "source": [
    "file = open(path, mode='r')\n",
    "print([line for line in file][0])\n",
    "file.close()"
   ]
  },
  {
   "cell_type": "markdown",
   "metadata": {},
   "source": [
    "| Режим | Обозначение |\n",
    "|-------|-------------|\n",
    "| **'r'**  | Открытие на **чтение** (является значением по умолчанию) |\n",
    "| **'rb'** | Открытие на **чтение**, в предположении, что будут считываться **байты** |\n",
    "| **'w'** | Открытие на **запись**, содержимое файла удаляется. Если файла не существует, создается новый |\n",
    "| **'wb**' | Открытие на **запись байтов**, содержимое файла удаляется. Если файла не существует, создается новый |\n",
    "| **'a'** | Открытие на **дозапись**, информация добавляется **в конец файла** |\n",
    "| **'r+'** | Открыть файл на **чтение И запись**. Если файла нет, **новый НЕ создаётся** |\n",
    "| **'a+'** | Открыть файл на **чтение И запись в конец файла**. Если файла нет, **новый создаётся** |\n",
    "| **'t'** | Открытие файла **как текстового** (по умолчанию) |"
   ]
  },
  {
   "cell_type": "code",
   "execution_count": 692,
   "metadata": {},
   "outputs": [
    {
     "name": "stdout",
     "output_type": "stream",
     "text": [
      "Xref: cantaloupe.srv.cs.cmu.edu sci.environment:30750 misc.consumers:69256 misc.invest:42673 sci.astro:36051 talk.environment:12248 talk.politics.space:2872 sci.space:62478 rec.backcountry:32315 misc.rural:6338 misc.headlines:42267 misc.legal:63426\n",
      "\n",
      "Newsgroups: sci.environment,misc.consumers,misc.invest,sci.astro,talk.environment,talk.politics.space,sci.space,rec.backcountry,misc.rural,misc.headlines,k12.chat.teacher,misc.legal\n",
      "\n",
      "Path: cantaloupe.srv.cs.cmu.edu!rochester!udel!darwin.sura.net!zaphod.mps.ohio-state.edu!news.acns.nwu.edu!schur!len\n",
      "\n",
      "From: len@schur.math.nwu.edu (Len Evens)\n",
      "\n",
      "Subject: Re: Space Marketing would be wonderfull.\n",
      "\n",
      "Message-ID: <1993May17.133444.5922@news.acns.nwu.edu>\n",
      "\n",
      "Sender: usenet@news.acns.nwu.edu (Usenet on news.acns)\n",
      "\n",
      "Nntp-Posting-Host: schur.math.nwu.edu\n",
      "\n",
      "Organization: Dept of Math, Northwestern Univ\n",
      "\n",
      "References: <C75A0p.8DK@news.cso.uiuc.edu> <pgf.737604987@srl03.cacs.usl.edu> <C760Dv.K75@agora.rain.com>\n",
      "\n",
      "Date: Mon, 17 May 1993 13:34:44 GMT\n",
      "\n",
      "Lines: 61\n",
      "\n",
      "\n",
      "\n",
      "In article <C760Dv.K75@agora.rain.com> jhart@agora.rain.com (Jim Hart) writes:\n",
      "\n",
      ">\n",
      "\n",
      ">If anybody has a strong claim to control of the  the night sky, it is \n",
      "\n",
      ">astronomers.  Check out the common law.  In the days when wild lands\n",
      "\n",
      ">weren't scarce, pioneers laid claim to the land by putting it to\n",
      "\n",
      ">use, eg clearing and growing a crop.  Even trespassers can lay claim to \n",
      "\n",
      ">the right of passage if if they've done it for long enough and the\n",
      "\n",
      ">owners have not complained or taken steps to stop them.  Usage\n",
      "\n",
      ">begets property rights.\n",
      "\n",
      ">\n",
      "\n",
      ">Astronomers have been using the night sky for thousands of years --\n",
      "\n",
      ">they own it. \n",
      "\n",
      ">(eg light polluters), they will lose their common-law right of ownership.\n",
      "\n",
      ">\n",
      "\n",
      ">Another consequence of their ownership is that they are free to sell\n",
      "\n",
      ">it.  Now, astronomers need money for their work.  If light\n",
      "\n",
      ">polluting billboards and mirrors go up, they will need even\n",
      "\n",
      ">more money to buy extra image processing equipment, filters,\n",
      "\n",
      ">space telescopes etc. to get around the problem.\n",
      "\n",
      ">\n",
      "\n",
      ">So, as long as we can define who \"astronomers\" are (eg do\n",
      "\n",
      ">\"they\" include amateur astronomers?  Nature lovers?)\n",
      "\n",
      ">we can set up a system of voluntary consensus to solve this\n",
      "\n",
      ">dispute, instead invoking bans, regulations, etc. enforced\n",
      "\n",
      ">by bribed politicians at the point of a gun (why do folks always\n",
      "\n",
      ">think of that sordid solution, \"we ought to pass a law\", to\n",
      "\n",
      ">solve problems first instead of as a last resort when other\n",
      "\n",
      ">methods have failed?)\n",
      "\n",
      ">\n",
      "\n",
      "[Stuff deleted]\n",
      "\n",
      ">  This proposal certainly needs work, but how about working on \n",
      "\n",
      ">these kind of ideas first before writing \"there ought to be a law\" \n",
      "\n",
      ">letters to our Congresscritters: let's give noncoercive consensus, via \n",
      "\n",
      ">the free market, a chance to solve this problem.\n",
      "\n",
      ">\n",
      "\n",
      ">Jim Hart\n",
      "\n",
      ">jhart@agora.rain.com\n",
      "\n",
      "\n",
      "\n",
      "Would Mr. Hart please explain how one could get every nation on\n",
      "\n",
      "earth and every corporation to agree that astronomers own the\n",
      "\n",
      "night sky without `coercion'.   Remember that not every nation\n",
      "\n",
      "follows the English common law.   In most countries, for most of\n",
      "\n",
      "history, it was probably true that the rulers `owned' everything\n",
      "\n",
      "not explicitly owned by individuals.   Even in North America,\n",
      "\n",
      "where by the principle enunciated, the aboriginal inhabitants should\n",
      "\n",
      "have owned everything, when new arrivals wanted to use land\n",
      "\n",
      "and resources, they just took it over.  In case Mr. Hart hasn't noticed,\n",
      "\n",
      "there is currently a brutal war going on in Bosnia about who owns what.\n",
      "\n",
      "Of course, if some friendly super power were to give an international\n",
      "\n",
      "astronomy organization some anti-satelite missiles and also agree\n",
      "\n",
      "to defend it if attacked, such a proposal might work, but it\n",
      "\n",
      "would hardly be non-coercive.\n",
      "\n",
      "\n",
      "\n",
      "Some of us nutty environmentalists think it might make sense first\n",
      "\n",
      "to try to mobilize public opinion against advertising in space\n",
      "\n",
      "and also to use governmental actions (like taxing power, for example)\n",
      "\n",
      "to discourage them.   This of course would be too coercive for\n",
      "\n",
      "Mr. Hart.\n",
      "\n",
      "\n",
      "\n",
      "Leonard Evens      len@math.nwu.edu      708-491-5537\n",
      "\n",
      "Dept. of Mathematics, Northwestern Univ., Evanston, IL 60208\n",
      "\n"
     ]
    }
   ],
   "source": [
    "with open(path, mode='r') as test_file:\n",
    "    for line in test_file:\n",
    "        print(line)"
   ]
  },
  {
   "cell_type": "markdown",
   "metadata": {},
   "source": [
    "### classes"
   ]
  },
  {
   "cell_type": "code",
   "execution_count": 693,
   "metadata": {},
   "outputs": [],
   "source": [
    "class Human:\n",
    "    def __init__(self, name='', age=None, deep_learning_specialist=False):\n",
    "        self.name = name\n",
    "        self.age = age\n",
    "        self.deep_learning_specialist = deep_learning_specialist\n",
    "    \n",
    "    def set_age(self, age):\n",
    "        self.age = age\n",
    "    \n",
    "    def get_age(self):\n",
    "        return self.age\n",
    "    \n",
    "    def __str__(self):\n",
    "        return 'Name: {}\\nAge: {} \\\n",
    "                \\nIs deep learning specialist: {}'.format(self.name, self.age, \n",
    "                                                          self.deep_learning_specialist)\n",
    "\n",
    "class DLSchoolStudent(Human):\n",
    "    def __init__(self, name='', age=None, deep_learning_specialist=False):\n",
    "        super().__init__(name, age, deep_learning_specialist)\n",
    "        self.total_grade = None\n",
    "        self.deep_learning_specialist = True\n",
    "    \n",
    "    def __str__(self):\n",
    "        return super().__str__()"
   ]
  },
  {
   "cell_type": "code",
   "execution_count": 694,
   "metadata": {},
   "outputs": [
    {
     "name": "stdout",
     "output_type": "stream",
     "text": [
      "Name: Person\n",
      "Age: 17                 \n",
      "Is deep learning specialist: False\n"
     ]
    }
   ],
   "source": [
    "human = Human('Person', 17)\n",
    "print(human)"
   ]
  },
  {
   "cell_type": "code",
   "execution_count": 695,
   "metadata": {},
   "outputs": [
    {
     "name": "stdout",
     "output_type": "stream",
     "text": [
      "Name: Good Person\n",
      "Age: 18                 \n",
      "Is deep learning specialist: True\n"
     ]
    }
   ],
   "source": [
    "student = DLSchoolStudent('Good Person', 18)\n",
    "print(student)"
   ]
  },
  {
   "cell_type": "markdown",
   "metadata": {},
   "source": [
    "### exceptions"
   ]
  },
  {
   "cell_type": "code",
   "execution_count": 696,
   "metadata": {},
   "outputs": [
    {
     "data": {
      "text/plain": [
       "['ArithmeticError',\n",
       " 'AssertionError',\n",
       " 'AttributeError',\n",
       " 'BaseException',\n",
       " 'BlockingIOError',\n",
       " 'BrokenPipeError',\n",
       " 'BufferError',\n",
       " 'BytesWarning',\n",
       " 'ChildProcessError',\n",
       " 'ConnectionAbortedError',\n",
       " 'ConnectionError',\n",
       " 'ConnectionRefusedError',\n",
       " 'ConnectionResetError',\n",
       " 'DeprecationWarning',\n",
       " 'EOFError',\n",
       " 'Ellipsis',\n",
       " 'EnvironmentError',\n",
       " 'Exception',\n",
       " 'False',\n",
       " 'FileExistsError',\n",
       " 'FileNotFoundError',\n",
       " 'FloatingPointError',\n",
       " 'FutureWarning',\n",
       " 'GeneratorExit',\n",
       " 'IOError',\n",
       " 'ImportError',\n",
       " 'ImportWarning',\n",
       " 'IndentationError',\n",
       " 'IndexError',\n",
       " 'InterruptedError',\n",
       " 'IsADirectoryError',\n",
       " 'KeyError',\n",
       " 'KeyboardInterrupt',\n",
       " 'LookupError',\n",
       " 'MemoryError',\n",
       " 'ModuleNotFoundError',\n",
       " 'NameError',\n",
       " 'None',\n",
       " 'NotADirectoryError',\n",
       " 'NotImplemented',\n",
       " 'NotImplementedError',\n",
       " 'OSError',\n",
       " 'OverflowError',\n",
       " 'PendingDeprecationWarning',\n",
       " 'PermissionError',\n",
       " 'ProcessLookupError',\n",
       " 'RecursionError',\n",
       " 'ReferenceError',\n",
       " 'ResourceWarning',\n",
       " 'RuntimeError',\n",
       " 'RuntimeWarning',\n",
       " 'StopAsyncIteration',\n",
       " 'StopIteration',\n",
       " 'SyntaxError',\n",
       " 'SyntaxWarning',\n",
       " 'SystemError',\n",
       " 'SystemExit',\n",
       " 'TabError',\n",
       " 'TimeoutError',\n",
       " 'True',\n",
       " 'TypeError',\n",
       " 'UnboundLocalError',\n",
       " 'UnicodeDecodeError',\n",
       " 'UnicodeEncodeError',\n",
       " 'UnicodeError',\n",
       " 'UnicodeTranslateError',\n",
       " 'UnicodeWarning',\n",
       " 'UserWarning',\n",
       " 'ValueError',\n",
       " 'Warning',\n",
       " 'ZeroDivisionError',\n",
       " '__IPYTHON__',\n",
       " '__build_class__',\n",
       " '__debug__',\n",
       " '__doc__',\n",
       " '__import__',\n",
       " '__loader__',\n",
       " '__name__',\n",
       " '__package__',\n",
       " '__spec__',\n",
       " 'abs',\n",
       " 'all',\n",
       " 'any',\n",
       " 'ascii',\n",
       " 'bin',\n",
       " 'bool',\n",
       " 'bytearray',\n",
       " 'bytes',\n",
       " 'callable',\n",
       " 'chr',\n",
       " 'classmethod',\n",
       " 'compile',\n",
       " 'complex',\n",
       " 'copyright',\n",
       " 'credits',\n",
       " 'delattr',\n",
       " 'dict',\n",
       " 'dir',\n",
       " 'display',\n",
       " 'divmod',\n",
       " 'enumerate',\n",
       " 'eval',\n",
       " 'exec',\n",
       " 'filter',\n",
       " 'float',\n",
       " 'format',\n",
       " 'frozenset',\n",
       " 'get_ipython',\n",
       " 'getattr',\n",
       " 'globals',\n",
       " 'hasattr',\n",
       " 'hash',\n",
       " 'help',\n",
       " 'hex',\n",
       " 'id',\n",
       " 'input',\n",
       " 'int',\n",
       " 'isinstance',\n",
       " 'issubclass',\n",
       " 'iter',\n",
       " 'len',\n",
       " 'license',\n",
       " 'list',\n",
       " 'locals',\n",
       " 'map',\n",
       " 'max',\n",
       " 'memoryview',\n",
       " 'min',\n",
       " 'next',\n",
       " 'object',\n",
       " 'oct',\n",
       " 'open',\n",
       " 'ord',\n",
       " 'pow',\n",
       " 'print',\n",
       " 'property',\n",
       " 'range',\n",
       " 'repr',\n",
       " 'reversed',\n",
       " 'round',\n",
       " 'set',\n",
       " 'setattr',\n",
       " 'slice',\n",
       " 'sorted',\n",
       " 'staticmethod',\n",
       " 'str',\n",
       " 'sum',\n",
       " 'super',\n",
       " 'tuple',\n",
       " 'type',\n",
       " 'vars',\n",
       " 'zip']"
      ]
     },
     "execution_count": 696,
     "metadata": {},
     "output_type": "execute_result"
    }
   ],
   "source": [
    "dir(__builtin__)"
   ]
  },
  {
   "cell_type": "code",
   "execution_count": 697,
   "metadata": {},
   "outputs": [],
   "source": [
    "# raise KeyboardInterrupt()"
   ]
  },
  {
   "cell_type": "code",
   "execution_count": 698,
   "metadata": {},
   "outputs": [
    {
     "name": "stdout",
     "output_type": "stream",
     "text": [
      "('NEW',)\n"
     ]
    }
   ],
   "source": [
    "try:\n",
    "    my_dict = {1: 100, 2: 200}\n",
    "    print(my_dict['NEW'])\n",
    "except KeyError as e:\n",
    "    print(e.args)"
   ]
  },
  {
   "cell_type": "code",
   "execution_count": 699,
   "metadata": {},
   "outputs": [
    {
     "name": "stdout",
     "output_type": "stream",
     "text": [
      "Caught KeyError!\n"
     ]
    }
   ],
   "source": [
    "try:\n",
    "    my_dict = {1: 100, 2: 200}\n",
    "    print(my_dict['NEW'])\n",
    "except KeyError:\n",
    "    print('Caught KeyError!')"
   ]
  },
  {
   "cell_type": "markdown",
   "metadata": {},
   "source": [
    "### Полезные библиотеки Python"
   ]
  },
  {
   "cell_type": "markdown",
   "metadata": {},
   "source": [
    "### glob"
   ]
  },
  {
   "cell_type": "code",
   "execution_count": 700,
   "metadata": {},
   "outputs": [],
   "source": [
    "import glob"
   ]
  },
  {
   "cell_type": "code",
   "execution_count": 701,
   "metadata": {},
   "outputs": [
    {
     "name": "stdout",
     "output_type": "stream",
     "text": [
      "20_newsgroups\t  NumPy.ipynb\t       example.png  train_data\r\n",
      "MatPlotLib.ipynb  Python_Basics.ipynb  hello.png\r\n"
     ]
    }
   ],
   "source": [
    "!dir"
   ]
  },
  {
   "cell_type": "code",
   "execution_count": 702,
   "metadata": {},
   "outputs": [
    {
     "data": {
      "text/plain": [
       "[]"
      ]
     },
     "execution_count": 702,
     "metadata": {},
     "output_type": "execute_result"
    }
   ],
   "source": [
    "glob.glob('./[0-9].*')"
   ]
  },
  {
   "cell_type": "code",
   "execution_count": 703,
   "metadata": {},
   "outputs": [
    {
     "data": {
      "text/plain": [
       "['hello.png', 'example.png']"
      ]
     },
     "execution_count": 703,
     "metadata": {},
     "output_type": "execute_result"
    }
   ],
   "source": [
    "glob.glob('*.png')"
   ]
  },
  {
   "cell_type": "code",
   "execution_count": 704,
   "metadata": {},
   "outputs": [
    {
     "data": {
      "text/plain": [
       "[]"
      ]
     },
     "execution_count": 704,
     "metadata": {},
     "output_type": "execute_result"
    }
   ],
   "source": [
    "glob.glob('?.jpg')"
   ]
  },
  {
   "cell_type": "code",
   "execution_count": 705,
   "metadata": {},
   "outputs": [
    {
     "data": {
      "text/plain": [
       "['./', './20_newsgroups/', './20_newsgroups/sci.space/', './train_data/']"
      ]
     },
     "execution_count": 705,
     "metadata": {},
     "output_type": "execute_result"
    }
   ],
   "source": [
    "glob.glob('./**/', recursive=True)"
   ]
  },
  {
   "cell_type": "code",
   "execution_count": 706,
   "metadata": {},
   "outputs": [
    {
     "data": {
      "text/plain": [
       "['train_data/1.txt', 'train_data/2.txt', 'train_data/3.txt']"
      ]
     },
     "execution_count": 706,
     "metadata": {},
     "output_type": "execute_result"
    }
   ],
   "source": [
    "glob.glob('**/*.txt', recursive=True)"
   ]
  },
  {
   "cell_type": "markdown",
   "metadata": {},
   "source": [
    "### tqdm"
   ]
  },
  {
   "cell_type": "markdown",
   "metadata": {},
   "source": [
    "* Устанавливаем виджеты:\n",
    "\n",
    "`pip install ipywidgets`  \n",
    "\n",
    "(или `conda install -c conda-forge ipywidgets`)\n",
    "\n",
    "* Разрешаем их использование в Jupyter Notebook:  \n",
    "\n",
    "`jupyter nbextension enable --py --sys-prefix widgetsnbextension`  \n",
    "\n",
    "* Перезагружаем ядро (Restart Kernel)  \n",
    "\n",
    "\n",
    "* Устанавливаем tqdm:  \n",
    "\n",
    "`pip install tqdm`  \n",
    "\n",
    "(или `conda install -c conda-forge tqdm`)  \n",
    "\n",
    "Больше про tqdm: https://pypi.python.org/pypi/tqdm"
   ]
  },
  {
   "cell_type": "code",
   "execution_count": 4,
   "metadata": {},
   "outputs": [],
   "source": [
    "from tqdm import tqdm\n",
    "from tqdm import tnrange, tqdm_notebook\n",
    "from time import sleep"
   ]
  },
  {
   "cell_type": "code",
   "execution_count": null,
   "metadata": {},
   "outputs": [
    {
     "name": "stderr",
     "output_type": "stream",
     "text": [
      " 28%|██▊       | 280/1000 [00:02<00:07, 97.50it/s]"
     ]
    }
   ],
   "source": [
    "cnt = 0\n",
    "for i in tqdm(range(1000)):\n",
    "    sleep(0.01)\n",
    "    cnt += 1"
   ]
  },
  {
   "cell_type": "code",
   "execution_count": null,
   "metadata": {},
   "outputs": [],
   "source": [
    "for i in tnrange(10, desc='1st loop'):\n",
    "    for j in tqdm_notebook(range(100), desc='2nd loop', leave=False):\n",
    "        sleep(0.01)"
   ]
  },
  {
   "cell_type": "markdown",
   "metadata": {},
   "source": [
    "### collections"
   ]
  },
  {
   "cell_type": "markdown",
   "metadata": {},
   "source": [
    "* `defaultdict()` - класс словаря, у которого есть значение по умолчанию - порой очень пригождается:"
   ]
  },
  {
   "cell_type": "code",
   "execution_count": 710,
   "metadata": {},
   "outputs": [],
   "source": [
    "from collections import defaultdict"
   ]
  },
  {
   "cell_type": "code",
   "execution_count": 711,
   "metadata": {},
   "outputs": [
    {
     "name": "stdout",
     "output_type": "stream",
     "text": [
      "0\n",
      "5\n"
     ]
    },
    {
     "data": {
      "text/plain": [
       "defaultdict(int, {'key': 5})"
      ]
     },
     "execution_count": 711,
     "metadata": {},
     "output_type": "execute_result"
    }
   ],
   "source": [
    "d = defaultdict(int)\n",
    "\n",
    "print(d['key'])\n",
    "\n",
    "d['key'] = 5\n",
    "print(d['key'])  # 5\n",
    "\n",
    "d"
   ]
  },
  {
   "cell_type": "code",
   "execution_count": 712,
   "metadata": {},
   "outputs": [
    {
     "name": "stdout",
     "output_type": "stream",
     "text": [
      "empty\n",
      "full\n"
     ]
    }
   ],
   "source": [
    "d = defaultdict(lambda: 'empty')\n",
    "print(d['key'])\n",
    "\n",
    "d['key'] = 'full'\n",
    "print(d['key'])"
   ]
  },
  {
   "cell_type": "code",
   "execution_count": 713,
   "metadata": {},
   "outputs": [
    {
     "name": "stdout",
     "output_type": "stream",
     "text": [
      "defaultdict(<class 'list'>, {})\n",
      "defaultdict(<class 'list'>, {'list1': [100, 200]})\n",
      "[100, 200]\n"
     ]
    }
   ],
   "source": [
    "d = defaultdict(list)\n",
    "print(d)\n",
    "\n",
    "d['list1'].append(100)\n",
    "d['list1'].append(200)\n",
    "print(d)\n",
    "print(d['list1'])"
   ]
  },
  {
   "cell_type": "markdown",
   "metadata": {},
   "source": [
    "* `Counter()` - класс словаря, предназначенного для счётчиков. По сути, `== defaultdict(int)`:"
   ]
  },
  {
   "cell_type": "code",
   "execution_count": 714,
   "metadata": {},
   "outputs": [],
   "source": [
    "from collections import Counter"
   ]
  },
  {
   "cell_type": "code",
   "execution_count": 715,
   "metadata": {},
   "outputs": [
    {
     "name": "stdout",
     "output_type": "stream",
     "text": [
      "Counter({'r': 224, 'o': 136, 'e': 132, 't': 98, 'n': 98, 'i': 85, 'a': 63, 's': 59, 'E': 57, 'c': 48, 'l': 43, 'd': 39, 'p': 38, '_': 38, 'm': 31, 'u': 29, 'y': 22, 'g': 21, 'b': 16, 'I': 14, 'x': 13, 'h': 12, 'W': 11, 'f': 9, 'F': 8, 'v': 8, 'N': 8, 'A': 7, 'P': 7, 'R': 7, 'S': 7, 'U': 7, 'O': 6, 'D': 6, 'T': 6, 'B': 5, 'k': 5, 'C': 5, 'L': 3, 'w': 3, 'K': 2, 'M': 2, 'z': 2, 'G': 1, 'V': 1, 'Z': 1, 'Y': 1, 'H': 1, 'j': 1})\n"
     ]
    }
   ],
   "source": [
    "counter = Counter()\n",
    "\n",
    "for word in dir(__builtin__):\n",
    "    for letter in word:\n",
    "        counter[letter] += 1  # или .update(value)\n",
    "    \n",
    "print(counter)"
   ]
  },
  {
   "cell_type": "markdown",
   "metadata": {},
   "source": [
    "---"
   ]
  },
  {
   "cell_type": "markdown",
   "metadata": {},
   "source": [
    "### Задание 6\n",
    "\n",
    "1. Создайте словарь счётчиков\n",
    "2. Создайте переменную, в которую сохраните все пути к нужным текстовым файлам *(расположены по адресу `'./20_newsgroups/sci.space/'`)*\n",
    "3. Для каждого текста (текстового файла) посчитайте сколько каждое слово (из этого текста) встретилось в этом тексте (используйте предыдущие пункты)"
   ]
  },
  {
   "cell_type": "code",
   "execution_count": 1,
   "metadata": {},
   "outputs": [
    {
     "name": "stdout",
     "output_type": "stream",
     "text": [
      "{0: '__add__', 1: '__and__', 2: '__class__', 3: '__contains__', 4: '__delattr__', 5: '__delitem__', 6: '__dict__', 7: '__dir__', 8: '__doc__', 9: '__eq__', 10: '__format__', 11: '__ge__', 12: '__getattribute__', 13: '__getitem__', 14: '__gt__', 15: '__hash__', 16: '__iadd__', 17: '__iand__', 18: '__init__', 19: '__ior__', 20: '__isub__', 21: '__iter__', 22: '__le__', 23: '__len__', 24: '__lt__', 25: '__missing__', 26: '__module__', 27: '__ne__', 28: '__neg__', 29: '__new__', 30: '__or__', 31: '__pos__', 32: '__reduce__', 33: '__reduce_ex__', 34: '__repr__', 35: '__setattr__', 36: '__setitem__', 37: '__sizeof__', 38: '__str__', 39: '__sub__', 40: '__subclasshook__', 41: '__weakref__', 42: '_keep_positive', 43: 'clear', 44: 'copy', 45: 'elements', 46: 'fromkeys', 47: 'get', 48: 'items', 49: 'keys', 50: 'most_common', 51: 'pop', 52: 'popitem', 53: 'setdefault', 54: 'subtract', 55: 'update', 56: 'values'}\n",
      "{'./20_newsgroups/sci.space/62478': {'': 271, 'mps': 1, 'by': 4, 'enough': 1, 'laid': 1, 'rochester': 1, '1993may17': 1, 'most': 2, 'sense': 1, 'corporation': 1, 'we': 3, 'if': 6, 'how': 2, 'example': 1, 'define': 1, 'countries': 1, 'explain': 1, 'inhabitants': 1, 'so': 1, 'astro': 2, 'chat': 1, 'instead': 2, 'for': 6, 'deleted': 1, 'mobilize': 1, 'coercive': 2, 'pioneers': 1, 'xref': 1, 'going': 1, 'ideas': 1, 'governmental': 1, 'writes': 1, 'c75a0p': 1, 'politics': 2, 'would': 4, 'new': 1, 'owns': 1, 'an': 1, 'what': 1, '60208': 1, 'war': 1, 'resources': 1, 'them': 2, 'market': 1, '13': 1, 'trespassers': 1, '133444': 1, 'out': 1, '12248': 1, 'bans': 1, 'power': 2, 'advertising': 1, 'control': 1, 'srv': 2, 'backcountry': 2, 'path': 1, 'just': 1, 'nutty': 1, 'also': 2, 'polluting': 1, 'up': 2, 'might': 2, 'teacher': 1, 'working': 1, '44': 1, 'the': 16, 'land': 2, 'taxing': 1, 'schur': 3, '8dk': 1, '36051': 1, 'congresscritters': 1, 'on': 4, 'environmentalists': 1, 'space': 7, 'agree': 2, 'last': 1, 'north': 1, 'nwu': 6, 'writing': 1, 'that': 5, 'dispute': 1, 'non': 1, 'jhart': 2, 'in': 7, 'around': 1, 'some': 3, 'our': 1, '17': 1, '30750': 1, 'gmt': 1, '5922': 1, 'bosnia': 1, 'be': 4, 'cs': 2, '6338': 1, 'or': 1, 'property': 1, 'solve': 3, 'opinion': 1, 'zaphod': 1, 'strong': 1, 'il': 1, 'via': 1, 'one': 1, 'when': 3, 'usenet': 2, 'k12': 1, 'need': 2, 'noncoercive': 1, 'money': 2, 'anybody': 1, 'remember': 1, 'are': 2, 'night': 3, 'us': 1, 'too': 1, '61': 1, 'scarce': 1, 'can': 3, 'consequence': 1, 'to': 22, 'took': 1, 'message': 1, 'mirrors': 1, 'owned': 2, 'passage': 1, 'stuff': 1, 'been': 1, 'agora': 4, 'law': 5, 'who': 2, 'misc': 10, 'consumers': 2, 'processing': 1, 'could': 1, 'have': 4, '42673': 1, 'telescopes': 1, 'wild': 1, 'light': 2, 'of': 16, 'nature': 1, 'were': 1, 'failed': 1, 'their': 3, 'astronomers': 6, 'noticed': 1, 'sci': 6, 'explicitly': 1, 'over': 1, 'friendly': 1, 'northwestern': 2, 'this': 4, 'state': 1, 'date': 1, '491': 1, 'rights': 1, 'solution': 1, 'c760dv': 2, 'super': 1, 'use': 3, 're': 1, '5537': 1, 'news': 5, 'needs': 1, '2872': 1, 'these': 1, 'case': 1, 'enforced': 1, 'before': 1, 'talk': 4, 'pass': 1, 'dept': 2, 'america': 1, 'principle': 1, 'has': 1, '`coercion': 1, 'legal': 2, 'at': 1, 'subject': 1, '`owned': 1, 'regulations': 1, 'days': 1, '63426': 1, 'kind': 1, 'stop': 1, 'even': 3, 'international': 1, 'hart': 5, 'owners': 1, 'about': 2, 'ownership': 2, 'cmu': 2, '1993': 1, 'attacked': 1, 'invest': 2, 'lines': 1, 'lands': 1, 'where': 1, 'invoking': 1, 'leonard': 1, 'go': 1, 'hasn': 1, 'please': 1, 'point': 1, 'as': 3, 'system': 1, 'wanted': 1, 'taken': 1, 'wonderfull': 1, 'darwin': 1, 'do': 2, 'acns': 4, 'univ': 2, 'edu': 11, 'ohio': 1, 'sky': 3, 'steps': 1, 'growing': 1, 'free': 2, 'currently': 1, 'resort': 1, 'without': 1, 'rain': 4, 'every': 3, 'pgf': 1, 'sura': 1, 'claim': 3, 'satelite': 1, 'check': 1, 'polluters': 1, '32315': 1, 'done': 1, 'net': 1, 'thousands': 1, 'aboriginal': 1, 'probably': 1, 'sender': 1, 'work': 3, 'mathematics': 1, 'weren': 1, 'actions': 1, 'putting': 1, 'everything': 2, '62478': 1, 'crop': 1, 'is': 3, 'defend': 1, 'they': 7, 'com': 4, 'get': 2, 'a': 10, 'it': 10, 'long': 2, 'more': 1, 'newsgroups': 1, 'why': 1, '42267': 1, 'jim': 2, 'equipment': 1, 'usage': 1, 'problem': 2, 'math': 4, 'cacs': 1, 'will': 2, 'lovers': 1, 'mon': 1, 'enunciated': 1, 'may': 1, 'methods': 1, 'common': 3, 'references': 1, 'let': 1, 'from': 1, 'such': 1, 'think': 2, 'bribed': 1, 'hardly': 1, '69256': 1, 'history': 1, 'problems': 1, 'etc': 2, 'another': 1, 'always': 1, 'astronomy': 1, 'cso': 1, 'against': 1, 'chance': 1, 'usl': 1, 'environment': 4, 'posting': 1, 'image': 1, 'evanston': 1, 'not': 3, 'eg': 3, 'headlines': 2, 'set': 1, 'srl03': 1, 'course': 2, 'proposal': 2, 'give': 2, 'voluntary': 1, 'article': 1, 'consensus': 2, 't': 2, 'letters': 1, 'buy': 1, 'amateur': 1, 'but': 2, 'politicians': 1, 'sell': 1, 'certainly': 1, 'extra': 1, 'host': 1, 'clearing': 1, 'lay': 1, 'begets': 1, 'nntp': 1, 'ought': 2, 'udel': 1, 'rulers': 1, 'should': 1, 'arrivals': 1, 'english': 1, '708': 1, 'like': 1, 've': 1, 'and': 7, 'billboards': 1, 'filters': 1, 'gun': 1, 'using': 1, 'try': 1, 'anti': 1, 'mr': 3, 'organization': 2, 'discourage': 1, 'make': 1, 'earth': 1, 'follows': 1, 'id': 1, 'len': 4, 'uiuc': 1, 'nation': 2, '34': 1, 'was': 1, 'there': 2, 'lose': 1, 'rec': 2, 'brutal': 1, 's': 1, 'years': 1, 'public': 1, 'true': 1, 'individuals': 1, 'own': 2, 'evens': 2, 'folks': 1, 'cantaloupe': 2, 'marketing': 1, 'rural': 2, 'right': 2, 'now': 1, 'complained': 1, 'other': 1, 'k75': 2, 'first': 3, '737604987': 1, 'sordid': 1, 'include': 1, 'missiles': 1}, './20_newsgroups/sci.space/62614': {'': 120, 'cmu': 1, 'plane': 1, '1993': 1, 'mps': 1, 'good': 1, 'unsymmetrical': 1, 'tell': 1, 'something': 1, 'you': 6, 'lines': 1, 'well': 1, 'world': 1, 'if': 2, 'computing': 1, 'veterans': 1, 'so': 1, 'oh': 1, 'aurora': 1, 'were': 1, 'yeah': 1, 'for': 3, 'university': 2, 'academic': 1, 'near': 1, 'at': 1, 'going': 1, 'shakala': 1, 'coming': 1, 'edu': 11, 'much': 1, 'would': 2, 'ohio': 1, 'new': 1, 'carron': 1, 'ti': 1, 'dripping': 1, 'howland': 1, 'water': 1, 'mksol': 1, '13': 1, 'utexas': 1, 'force': 2, 'out': 1, 'qhnp4b1w165w': 1, 'phase': 1, 'net': 2, 'not': 1, 'srv': 1, 'being': 1, '18': 1, 'path': 1, 'research': 1, 'd': 1, 'also': 1, 'das': 1, 'engr': 1, 'software': 1, 'distribution': 1, 'might': 2, 'vnews': 1, 'tamsun': 1, 'the': 14, 'worse': 1, 'talking': 1, 'reformat': 1, 'questions': 1, 'luck': 1, 'on': 6, 'is': 3, 'space': 1, 'com': 2, '1993may18': 1, 'a': 1, 'it': 3, 'writing': 1, 'zeus': 5, 'newsgroups': 1, 'disk': 2, 'i': 3, 'around': 2, 'some': 2, 'vax': 1, 'roof': 1, 'problem': 1, 'hardware': 1, 'spindle': 1, '15908': 1, 'side': 2, 'or': 1, 'hmm': 1, 'keyboards': 1, 'mac': 1, 'are': 1, 'sick': 1, 'suppposed': 1, 'references': 1, 'be': 2, 'from': 3, '17may199318160445': 1, 'cs': 2, 'think': 2, 'hard': 1, 'condenstion': 1, 'sure': 2, '113849': 1, 'problems': 1, 'zaphod': 1, 'services': 1, '02': 1, 'kc': 2, 'texas': 2, 'due': 1, 'posting': 1, 'people': 1, 'ans': 1, '18may199313024752': 1, 'may': 3, 'us': 1, 'too': 1, 'seemed': 1, 'vms': 1, 'gees': 1, '26': 1, 'to': 9, 'harvard': 1, 'message': 1, 'make': 4, 'happened': 1, 'id': 1, 'protected': 1, 't': 1, 'affect': 1, 'though': 1, 'older': 1, 'latech': 1, 'experiments': 1, 'cdt': 1, 'installation': 1, 'have': 2, 'host': 1, 'two': 1, 'nntp': 1, 'of': 2, 'head': 1, 'reston': 1, 'sideways': 1, 'that': 4, 'sci': 1, 'mention': 1, 'this': 1, 'state': 1, 'date': 1, 'i0c0256': 2, 'organization': 1, 'flow': 1, 'edge': 2, 'forgot': 1, '1': 1, 're': 2, 'noc': 1, 'stand': 2, 'news': 2, 'up': 1, 'used': 1, 'your': 2, 'was': 1, 'there': 2, 'since': 1, 'work': 1, 'a&m': 2, 'won': 1, 'tamu': 6, 'want': 1, '135': 2, 'drive': 1, '3+g': 1, 'igor': 2, 'subject': 1, 'cantaloupe': 1, 'keywords': 1, 'even': 2, 'tracks': 1, 'covered': 1, 'about': 1, '1t8h49$a2n': 1, 'ii': 1, '41': 1, 'drives': 2, 'dseg': 1}, './20_newsgroups/sci.space/1': {'': 7, 'abacaba': 1, 'aba': 2, 'kek': 1}, './20_newsgroups/sci.space/62615': {'': 110, 'cmu': 1, 'allen': 1, 'menudo': 1, '1993': 1, 'mps': 1, 'documentation': 2, '22': 1, 'story': 1, 'different': 1, 'times': 1, 'dc': 4, 'lines': 1, 'fabrication': 1, 'cshotton': 2, 'btw': 1, 'computing': 1, 'a': 4, 'half': 1, 'requirements': 1, 'procurement': 1, 'called': 1, 'difference': 1, 'materials': 1, 'cover': 1, 'air': 2, 'for': 2, 'expenses': 1, 'academic': 1, 'near': 1, 'reviews': 1, 'at': 1, 'uh': 1, 'edu': 9, 'much': 2, 'would': 3, 'ohio': 1, 'anecdote': 1, '01': 1, 'majority': 1, 'howland': 1, 'interesting': 2, 'x1': 1, 'reams': 1, 'net': 2, 'with': 1, 'srv': 1, 'tmc': 5, '18': 2, 'an': 3, 'd': 1, 'just': 2, 'costs': 1, 'doubt': 1, 'das': 1, 'try': 1, 'distribution': 1, 'meetings': 1, 'four': 1, 'labor': 1, 'costing': 1, '5': 1, 'world': 1, 'my': 1, 'newsgroups': 1, 'on': 2, 'is': 1, 'staffer': 1, 'space': 2, 'oac': 1, 'very': 1, 'opinion': 1, 'it': 4, 'that': 2, 'requirement': 1, 'i': 2, 'in': 2, 'around': 1, 'af': 1, 'based': 1, 'hardware': 1, 'process': 1, 'me': 1, 'million': 1, 'references': 1, 'be': 3, 'from': 2, 'cs': 1, 'sdio': 2, 'user': 1, 'personnel': 1, 'actual': 1, '$320': 1, 'zaphod': 1, 'design': 1, 'force': 2, 'build': 2, 'posting': 1, 'usaf': 1, 'ans': 1, 'creativity': 1, 'may': 1, 'team': 1, 'huge': 1, 'superfluous': 1, 'as': 1, 'oac2': 3, '200217': 2, 'to': 6, 'harvard': 1, 'message': 1, '$70m': 1, 'looked': 1, 'government': 1, 'bet': 1, 'id': 1, 'article': 1, '6': 1, '52': 1, 'w': 1, 'path': 1, 'watching': 1, 'could': 1, 'estimate': 1, '2167': 1, 'host': 1, 'gmt': 1, 'followup': 1, 'nntp': 1, 'flying': 1, 'travel': 1, '180593125810': 1, 'reston': 1, 'aws': 1, 'by': 1, 'gave': 1, 'course': 1, 'sci': 2, 'and': 7, 'over': 1, 'innovation': 1, 'this': 1, 'state': 1, 'date': 1, 'org': 3, 'willing': 1, 'x': 3, 'organization': 1, 'accounted': 1, '3044': 2, 're': 1, 'noc': 1, 'oac4': 1, 'news': 1, 'up': 1, 'wrote': 1, 'the': 9, 'chuck': 1, 's': 2, 'years': 1, 'cost': 6, 'of': 5, '1993may14': 2, 'lack': 1, 'subject': 1, 'cantaloupe': 1, 'shotton': 1, 'hsc': 5, 'how': 1, 'cynical': 1, 'told': 1, 'now': 1, 'about': 1, 'sherzer': 1, 'specifying': 1, 'uth': 5, 'or': 2, 'iti': 3}, './20_newsgroups/sci.space/62322': {'': 7, 'abacaba': 1, 'aba': 2, 'kek': 1}, './20_newsgroups/sci.space/62479': {'': 90, 'cmu': 1, 'sat': 1, 'satellite': 2, '1993': 1, 'mps': 1, 'zaphod': 1, 'seen': 1, 'could': 1, 'stunning': 1, '40': 1, 'one': 1, 'tents': 1, 'back': 1, 'gov': 2, 'does': 1, 'n': 1, 'newswatcher': 1, 'health': 1, 'capable': 1, '156': 1, 'subject': 1, '170593093754': 1, '37': 1, 'night': 1, 'book': 1, 'is': 3, 'its': 1, 'team': 1, 'an': 1, 'net': 2, 'alw': 1, 'appeared': 2, 'to': 5, 'for': 1, 'patriot': 3, 'utilizes': 1, 'camp': 3, 'harvard': 1, 'message': 1, 'england': 2, 'ir': 1, 'etc': 1, 'movie': 1, 'place': 1, 'techology': 1, 'id': 1, 'see': 1, 'near': 1, 'have': 1, 'at': 1, 'netters': 1, 'lines': 1, 'via': 1, 'thought': 1, 'who': 1, 'ps': 1, 'amds': 1, 'clear': 1, 'helix': 1, 'sender': 1, 'watching': 1, 'photos': 1, '43': 1, 'reston': 1, 'edu': 4, 'ohio': 1, 'new': 1, 'uunet': 1, 'howland': 1, 'followup': 1, 'was': 5, 'action': 4, 'of': 5, 'langley': 1, 'gmt': 1, 'warroom': 1, '13': 1, 'technology': 1, 'games': 3, 'type': 1, 'm': 1, 'nat': 1, 'are': 2, 'postmaster': 1, 'nature': 1, 'that': 2, 'postman': 1, 'nih': 3, 'sci': 2, 'and': 5, 'e': 1, 'srv': 1, 'orbitting': 1, 'path': 1, 'hello': 1, 'sats': 3, 'this': 3, 'state': 1, 'date': 1, 'while': 1, 'pinpoint': 1, 'das': 1, 'vlad': 2, 'what': 1, 'organization': 1, 'csl': 1, '182': 1, 'photography': 1, 'plates': 1, 'sas': 3, 'ray': 2, 'post': 1, 'regarding': 1, 'within': 1, 'noc': 1, 'movies': 1, 'relayed': 1, 'taken': 2, 'might': 1, 'my': 2, '20': 1, 'news': 1, 'mad': 2, 's': 1, 'space': 2, 'exist': 1, 'board': 1, 'out': 1, 'photographing': 1, 'question': 3, 'wrote': 1, 'the': 20, 'capabilities': 1, 'a': 3, 'it': 1, 'terrorist': 1, 'such': 1, 'best': 1, 'newsgroups': 1, 'i': 5, 'in': 7, 'l': 1, 'va': 1, 'structures': 1, 'know': 1, '17': 1, '12': 1, 'ans': 1, 'cantaloupe': 1, 'africa': 1, 'cia': 2, 'utexas': 1, 'mon': 1, 'uv': 1, 'vehicles': 1, 'may': 1, 'x': 2, 'be': 3, 'inst': 1, 'from': 1, 'british': 1, 'by': 2, 'specific': 1, 'cs': 2, 'license': 1, 'user': 1}, './20_newsgroups/sci.space/62480': {'': 102, 'cmu': 7, '30751': 1, '1993': 1, 'etc': 1, '36052': 1, 'ece': 5, 'invest': 2, 'edu': 11, 'by': 1, 'usenet': 1, 'something': 1, 'cso': 1, 'lines': 1, 'k12': 1, 'don': 1, 'usl': 1, 'under': 1, 'environment': 4, 'canadian': 1, 'if': 1, 'legally': 1, 'isn': 1, 'subject': 1, 'may': 1, 'date': 1, 'after': 1, 'its': 1, 'complain': 1, 'net': 2, 'limited': 1, 'headlines': 2, 'nation': 1, 'astro': 2, 'to': 1, 'polluters': 1, 'chat': 1, 'eng': 1, 'srl03': 1, 'harvard': 1, 'message': 1, 'for': 1, 'we': 1, 'system': 1, 'wonderfull': 1, 'id': 1, 'recognized': 1, 'article': 1, 'near': 1, '62480': 1, 'nature': 1, 'xref': 1, 't': 2, 'bloomu': 1, 'misc': 10, 'consumers': 2, 'using': 1, 'eg': 1, 'sender': 1, 'thousands': 1, 'writes': 1, 'c75a0p': 1, '47': 1, 'electrical': 1, 'politics': 2, 'would': 1, 'husky': 1, 'all': 1, 'talk': 4, 'howland': 1, 'engineering': 1, '42674': 1, 'light': 1, 'of': 3, 'pgf': 1, '13': 2, 'trespassers': 1, 'reston': 1, 'doug': 2, 'hart': 1, 'mellon': 1, 'english': 1, '32316': 1, 'their': 1, 'that': 1, 'astronomers': 1, 'as': 1, 'sci': 6, 'and': 1, 'computer': 1, '42268': 1, 'srv': 2, 'backcountry': 2, 'c76bms': 1, 'path': 1, 'gmt': 1, '8x5': 1, '63427': 1, 'loss': 5, 'das': 1, '69257': 1, 'organization': 1, 'sky': 1, '2873': 1, 'c760dv': 2, 'been': 1, 'common': 2, 're': 2, 'noc': 1, 'talking': 1, 'territory': 1, '8dk': 1, 'years': 1, 'news': 4, 'uiuc': 1, 'is': 1, 'space': 5, 'they': 3, 'com': 4, 'very': 1, 'rain': 3, '17': 2, 'the': 2, 'american': 1, 'it': 1, 'teacher': 1, 'against': 1, 'newsgroups': 1, 'gtefsd': 1, 'jhart': 1, 'from': 1, 'in': 1, 'jim': 1, 'one': 1, 'agora': 3, 'law': 3, 'legal': 2, 'have': 1, 'fs7': 5, 'carnegie': 1, 'binding': 1, 'ans': 1, 'cantaloupe': 2, 'lose': 1, 'cacs': 1, 'will': 1, 'marketing': 1, 'rural': 2, 'mon': 1, 'europa': 1, 'scenic': 1, '6339': 1, 'right': 1, 'now': 1, 'about': 1, 'k75': 2, 'night': 1, 'references': 1, 'be': 1, '12249': 1, 'rec': 2, '737604987': 1, 'own': 1, 'cs': 2, 'international': 1, 'ownership': 1}, './20_newsgroups/sci.space/62481': {'': 137, 'cmu': 2, '1993': 1, 'c73u77': 1, 'rochester': 1, 'ux1': 1, 'abomination': 1, 'emotionalism': 1, 'invest': 2, 'you': 1, 'f1k': 2, 'lines': 1, 'corporation': 1, 'miller': 1, 'world': 3, 'if': 1, '23': 1, 'where': 1, 'dan': 1, 'c74rgl': 2, 'much': 1, 'service': 1, 'so': 1, 'don': 1, 'astro': 2, '3g2': 1, 'chat': 1, 'were': 1, '42269': 1, 'for': 2, 'place': 1, 'wonderfull': 1, 'spending': 1, 'at': 1, 'xref': 1, '69258': 1, 'geoffm': 1, 'children': 2, 'edu': 6, 'abominable': 1, 'writes': 2, '90b': 1, 'politics': 1, 'would': 5, 'uunet': 1, 'an': 1, '30752': 1, '13': 1, 'profitable': 1, 'bud': 1, 'howland': 1, 'purposes': 1, 'net': 1, 'computer': 1, 'not': 3, 'srv': 2, 'backcountry': 2, 'sender': 1, 'required': 1, 'also': 1, 'self': 1, '32317': 1, 'talk': 3, 'excess': 1, 'of': 2, 'sysgem1': 1, 'lip': 1, 'on': 2, 'is': 5, 'space': 5, 'com': 11, 'which': 1, 'money': 3, 'businesses': 1, 'it': 3, '|': 13, 'help': 1, 'that': 1, 'newsgroups': 1, 'why': 1, 'in': 4, 'some': 1, '17': 1, 'anyway': 1, 'liu': 1, 'roger': 2, 'or': 1, 'efficient': 1, 'mon': 1, 'se': 1, 'geoff': 1, 'whatever': 1, 'are': 1, 'std': 1, 'perhaps': 1, 'references': 1, 'be': 2, 'let': 1, 'from': 2, 'cs': 2, 'herrin': 1, 'those': 1, 'wealth': 1, '6340': 1, 'when': 1, 'usenet': 1, 'cso': 1, 'amount': 1, 'k12': 1, 'government': 2, 'environment': 4, '84x': 1, 'posting': 1, 'ans': 1, 'ucdavis': 3, 'may': 1, 'redistribution': 1, 'minimum': 1, 'cantaloupe': 2, 'problems': 1, 'nip': 1, 'headlines': 2, 'encore': 8, 'to': 3, 'whole': 1, 'readnews': 1, 'reston': 1, 'message': 1, 'pr': 1, 'typically': 1, 'id': 2, 'article': 2, 'than': 1, 't': 1, 'misc': 8, 'consumers': 2, 'path': 1, '12250': 1, 'commercial': 3, '42675': 1, 'ns': 2, 'reply': 1, 'host': 1, 'advertising': 2, 'just': 1, 'nntp': 1, 'c73rp4': 1, 'udel': 1, 'gmt': 1, 'rcollins': 3, '04': 1, 'take': 1, 'noble': 1, 'yes': 1, 'serving': 1, 'sci': 6, 'and': 4, 'c76ash': 1, 'more': 1, 'this': 2, 'date': 1, 'starving': 3, 'redistributionist': 1, '36054': 1, 'lysator': 1, 'hamlet': 1, '62481': 1, 're': 1, 'give': 1, 'deemed': 1, 'organization': 1, '4u7': 2, 'news': 2, 'uiuc': 1, 'geoffmc7508l': 2, 'precisely': 1, 'spend': 2, 'enterprises': 3, 'the': 5, 'netcom': 3, 's': 1, 'redistribute': 1, 'ez012344': 1, 'teacher': 1, 'ignorance': 1, 'rec': 2, 'subject': 1, 'specious': 1, 'them': 1, 'trustworthy': 1, 'marketing': 1, 'rural': 2, 'gatech': 1, 'other': 1, 'collins': 2, 'least': 1, 'somebody': 1, '29': 1, 'threshold': 1, 'beyond': 1, 'user': 1}, './20_newsgroups/sci.space/62709': {'': 258, 'cmu': 2, 'by': 1, '1993': 1, '62709': 1, 'science': 2, 'good': 2, 'cray': 1, 'known': 1, 'invest': 2, 'visible': 1, 'considers': 1, 'cu': 1, 'lines': 1, 'brighter': 1, 'if': 1, 'that': 3, 'eyes': 1, 'looking': 1, 'itself': 1, 'hawaii': 1, 'boulder': 1, 'believe': 1, '42838': 1, 'so': 2, 'ucsu': 2, '30893': 1, 'far': 3, 'astro': 2, 'chat': 1, 'point': 1, 'were': 1, 'for': 4, 'university': 1, 'taken': 1, 'wonderfull': 1, 'his': 1, '2934': 1, 'near': 1, 'at': 1, 'xref': 1, 'username': 1, 'politics': 2, 'ux1': 1, 'telescope': 1, 'edu': 13, '69410': 1, 'writes': 1, 'ground': 1, 'doubtfull': 1, 'would': 4, 'howland': 1, 'this': 3, 'an': 1, 'what': 3, 'minutes': 1, 'deep': 1, 'telescopes': 1, '1993may16': 1, 'california': 1, 'timbuk': 1, 'inls1': 1, 'out': 1, 'most': 1, 'programs': 1, 'net': 2, '53': 1, 'orbiting': 2, 'backcountry': 2, 'path': 1, 'just': 1, 'opacity': 1, 'm': 1, 'radio': 1, 'any': 1, 'das': 1, 'sagan': 1, 'through': 1, 'papers': 1, '\\t\\tmbk': 1, 'light': 3, 'pl3': 1, 'more': 1, 'every': 2, 'mbk': 2, 'ruin': 1, 'proposed': 1, 'problem': 1, 'is': 3, 'space': 7, 'they': 2, 'com': 1, 'upsets': 1, 'tin': 1, 'existing': 1, 'credibility': 1, 'a': 5, 'it': 2, 'teacher': 1, 'hubble': 1, 'caused': 1, 'newsgroups': 1, 'raistlin': 1, 'nonlinear': 3, 'i': 2, 'in': 2, 'kennel': 2, 'dynamics': 1, 'wouldn': 1, '6404': 1, 'cost': 1, 'network': 2, 'ok': 1, 'still': 1, 'passing': 1, 'will': 1, 'happens': 1, 'modern': 1, 'two': 1, 'bright': 3, 'are': 2, 'doesn': 1, 'thousands': 1, 'dying': 1, 'these': 1, 'then': 1, 'from': 1, 'based': 2, 'keck': 1, '42335': 1, 'or': 1, 'hardly': 1, 'time': 1, '143120': 1, 'its': 1, 'done': 1, 'sky': 2, 'when': 1, 'cso': 1, 'k12': 1, '&': 1, 'environment': 4, 'posting': 1, 'ans': 1, 'may': 1, 'four': 1, 'already': 2, '32440': 1, 'sacrilegious': 1, 'not': 2, 'sci': 6, 'headlines': 2, 'frank': 2, 'to': 3, 'all': 1, 'reston': 1, 'message': 1, 'course': 1, '12373': 1, 'over': 1, 'observations': 1, 'id': 1, 'srv': 2, 'moon': 2, 'marketing': 1, 'ad': 1, 'field': 3, 't': 2, 'misc': 8, 'consumers': 2, 'upset': 1, 'ftp': 1, 'use': 1, 'but': 2, 'astronomy': 2, 'have': 2, 'newsreader': 1, 'host': 1, 'atmosphere': 1, 'tiny': 1, 'nntp': 1, 'of': 9, 'distortions': 1, 'uchinews': 1, '57': 1, 'fcrary': 1, 'harvard': 1, 'ucsd': 8, 'astronomer': 1, 'like': 1, 'as': 5, 'sure': 1, 'and': 2, 'matt': 2, 'billboards': 1, 'extremely': 1, 'first': 1, 'pictures': 1, 'crary': 2, 'gmt': 1, 'date': 1, 'while': 1, 'institute': 2, 'satellites': 1, 'organization': 1, 'satelliets': 1, '1': 2, 're': 2, 'noc': 1, 'equalizer': 1, '36227': 1, 'might': 1, 'news': 1, 'references': 1, 'uiuc': 1, 'junk': 1, 'be': 4, '34': 1, 'case': 2, 'infrared': 1, 'the': 12, 'diego': 1, 'weeks': 1, 'talk': 4, 'nearly': 1, 'fraction': 1, 'billboard': 1, 'scattered': 1, 'has': 1, 'full': 1, 'san': 1, 'circles': 1, 'subject': 1, 'cantaloupe': 2, 'because': 2, 'lyapunov': 4, '90': 1, 'driven': 1, 'colorado': 2, 'cs': 2, 'anonymous': 1, 'observation': 1, 'sdcrsi': 1, 'x': 1, 'archive': 1, '2248': 1, 'concerned': 1, 'rec': 2, 'seem': 1, '21': 1, 'rural': 2, '16': 1, '1t6dd1$11v': 1}, './20_newsgroups/sci.space/62708': {'': 106, 'cmu': 2, 'visually': 1, '1993': 1, 'telescope': 1, 'mps': 1, 'suggested': 1, 'zaphod': 1, 'feet': 1, 'sure': 1, 'audience': 1, 'you': 2, 'words': 1, 'lines': 1, 'environment': 4, 'posting': 1, 'col': 5, 'subject': 1, 'so': 1, 'comments': 1, 'may': 1, 'service': 1, '36226': 1, 'too': 1, 'net': 2, 'juts': 1, '19': 1, 'p022y43jm01': 1, 'talked': 1, 'to': 5, 'for': 1, 'can': 1, 'good': 1, 'unimportant': 1, 'reston': 1, 'message': 1, 'visual': 1, 'wanted': 1, 'id': 1, 'his': 1, 'see': 1, 'narrow': 1, 'didn': 1, 'near': 1, '32439': 1, 'xref': 1, 'and': 1, 't': 1, 'politics': 2, 'misc': 2, 'consumers': 2, 'astro': 2, '45k': 1, 'edu': 4, 'lie': 1, 'nobody': 1, 'jet': 1, '2933': 1, 'would': 3, 'ohio': 1, 'he': 3, 'impact': 1, 'host': 1, 'hpctdkz': 1, 'howland': 1, '24': 1, 'person': 1, 'what': 2, 'nntp': 1, '14': 1, 'proposed': 1, 'it': 2, 'think': 1, 'amdahl': 1, 'advertise': 1, '27': 1, 'here': 1, 'that': 2, 'approximate': 1, 'sci': 6, 'with': 1, 'srv': 2, 'backcountry': 2, 'path': 1, 'gmt': 1, 'state': 1, 'date': 1, 'das': 1, '12km': 1, 'organization': 1, 'do': 1, 'ccc': 1, 'according': 2, 'of': 1, 're': 1, 'noc': 1, 'a': 2, 'harvard': 1, 'news': 1, '30892': 1, 'space': 5, 'hear': 1, 'com': 6, '12372': 1, 'chris': 1, 'your': 1, 'companies': 1, 'the': 4, '59': 1, '1tdqmvinn3q2': 1, 'sdd': 1, 'talk': 4, 'an': 1, 'best': 1, 'newsgroups': 1, 'eye': 1, 'i': 1, 'in': 1, '69409': 1, 'jumbo': 1, 'resolve': 1, 'at': 1, '17': 1, 'tailor': 1, 'billboard': 2, 'ans': 1, 'anyway': 1, 'cantaloupe': 2, 'small': 2, 'will': 1, 'marketing': 1, 'who': 1, '62708': 1, 'naked': 1, 'are': 1, 'advertiser': 1, 'guessed': 1, 'other': 1, 'cab': 2, 'hp': 6, 'about': 1, 'references': 1, 'be': 1, 'rec': 2, 'from': 1, 'if': 1, 'pretty': 1, 'cs': 2, 'boycott': 1, 'altitude': 1}, './20_newsgroups/sci.space/62477': {}, './20_newsgroups/sci.space/62616': {'': 280, 'cmu': 7, '517': 1, 'by': 1, 'billsats': 2, 'rochester': 1, 'approved': 1, 'something': 1, 'you': 2, 'lines': 1, '1993': 1, 'mit': 2, 'edu': 16, 'timbuk3': 1, 'acs': 1, 'cook': 1, 'so': 2, 'hm': 1, 'significant': 1, 'gets': 1, 'materials': 1, 'original': 1, 'demonstrate': 3, 'cl': 1, 'for': 1, 'underlying': 1, 'university': 1, 'been': 1, 'his': 1, 'someone': 1, 'must': 1, 'pacified': 1, 'at': 3, 'decwrl': 2, 'thought': 1, 'paving': 2, 'strength': 4, 'coming': 1, 'surface': 1, 'nor': 1, 'ground': 2, 'cwru': 1, 'depends': 1, 'would': 7, 'ohio': 2, 'invisible': 1, 'planetary': 1, 'impact': 1, 'friends': 1, 'what': 1, 'country': 1, 'actually': 2, 'the': 12, 'suspect': 1, 'out': 1, 'condemn': 1, 'vividly': 1, 'genitals': 1, 'with': 3, 'uw': 1, 'their': 1, 'astronomical': 1, 'desires': 1, '18': 1, 'path': 1, 'interfere': 1, 'isu': 1, 'also': 1, 'communicated': 1, 'distribution': 1, 'fulfillment': 1, 'since': 1, 'reduced': 1, 'news_gateway': 1, 'digest': 1, 'crabapple': 1, 'beaver': 1, 'particularly': 1, 'uhog': 1, 'newsgroups': 1, 'capitalism': 3, 'on': 3, 'is': 1, 'part': 1, 'space': 3, 'they': 1, 'quite': 1, 'a': 3, 'it': 7, 'that': 3, 'guy': 1, 'anyone': 2, 'i': 7, 'in': 2, 'l': 1, 'some': 2, 'magnus': 1, 'wouldn': 1, 'one': 1, 'deccrl': 1, 'agenda': 1, 'lazlo': 1, 'land': 1, 'who': 1, 'mac': 1, 'bboard': 1, 'cis': 1, 'doesn': 1, 'added': 1, 'be': 2, 'from': 3, 'exposing': 1, 'cs': 5, 'international': 1, 'bb3': 1, 'peachnet': 1, 'via': 1, '40': 1, 'sky': 1, 'shrilly': 1, 'when': 1, 'usenet': 1, 'got': 1, 'people': 1, 'not': 2, 'any': 1, 'don': 2, '336': 1, 'c78ecz': 1, '355': 1, 'lichtenstein': 2, 'may': 1, 'night': 2, 'anyway': 1, 'ibm': 1, 'western': 3, '11': 1, '18084tm': 3, 'to': 3, 'denounce': 1, 'message': 1, 'make': 1, 'observations': 1, 'id': 1, 'spite': 1, 'srv': 2, 'vacation': 1, 'no': 1, 't': 4, 'kind': 1, 'andrew': 1, 'glassed': 1, 'benefit': 1, 'sender': 2, 'use': 1, 'but': 3, 'potential': 1, 'object': 1, 'have': 1, 'chuckle': 1, 'tommy': 1, 'msu': 3, 'tue': 1, 'mind': 2, 'of': 9, 'this': 3, 'penis': 1, 'wk': 1, 'idea': 1, 'pay': 1, 'buying': 1, 'm': 1, 'forwarded': 1, 'are': 1, 'sez': 2, 'gatech': 1, 'saying': 1, 'sci': 2, 'and': 6, 'over': 3, 'ins': 1, 'quick': 1, 'gmt': 1, 'state': 2, 'date': 1, 'communists': 1, 'unlike': 1, 'organization': 1, 'sei': 1, 'parties': 2, 'cornell': 1, '1': 2, 'feed': 1, 'pacifists': 1, '9591': 1, 'news': 2, 'needs': 1, 'concert': 1, 'tom': 2, 'there': 1, 'ah2': 1, '2178': 1, 's': 2, 'news+': 1, 'had': 1, 'has': 1, 'enjoyment': 1, 'enterpoop': 1, 'mcwilliams': 1, 'about': 1, 'subject': 1, 'follow': 1, 'cantaloupe': 1, 'attractive': 1, 'glass': 2, 'think': 1, 'jeffrey': 1, 'strange': 1, 'x': 1, '29': 1, 'venari': 1, 'nibble': 1, '16': 1, 'equivalent': 1}}\n"
     ]
    }
   ],
   "source": [
    "from collections import *\n",
    "import glob\n",
    "\n",
    "\n",
    "counters = {}\n",
    "count = 0\n",
    "\n",
    "for i in dir(Counter):\n",
    "    counters[count] = i\n",
    "    count += 1\n",
    "\n",
    "print(counters)\n",
    "\n",
    "a = {}\n",
    "\n",
    "path = glob.glob('./20_newsgroups/sci.space/*', recursive=True)\n",
    "\n",
    "separators = [\n",
    "    ',', '.', ':', ';', '\\'', '\\\\', '/', '?', '!', '@', '>', '<', '(', ')', '[', ']', '{', '}', '\\n', '-', '*', '\\\"'\n",
    "]\n",
    "\n",
    "for i in path:\n",
    "    file = open(i, mode='r')\n",
    "    a[i] = {}\n",
    "\n",
    "    for line in file:\n",
    "        string = line.lower()\n",
    "\n",
    "        for char in string:\n",
    "            if char in separators:\n",
    "                string = string.replace(char, ' ')\n",
    "\n",
    "        for j in string.split(' '):\n",
    "            try:\n",
    "                a[i][j] += 1\n",
    "            except KeyError:\n",
    "                a[i][j] = 1\n",
    "print(a)\n"
   ]
  },
  {
   "cell_type": "markdown",
   "metadata": {},
   "source": [
    "---"
   ]
  },
  {
   "cell_type": "markdown",
   "metadata": {},
   "source": [
    "То, что Вы реализовали выше, есть ни что иное, как простая реализация **bag-of-words (мешок слов)** для корпуса из 9 документов."
   ]
  },
  {
   "cell_type": "markdown",
   "metadata": {},
   "source": [
    "## Список материалов для самостоятельного изучения"
   ]
  },
  {
   "cell_type": "markdown",
   "metadata": {},
   "source": [
    "* *Сайт языка Python* - https://www.python.org/"
   ]
  },
  {
   "cell_type": "markdown",
   "metadata": {},
   "source": [
    "* *Курс Python с нуля, можно выполнять задания в интерактивном режиме* - http://pythontutor.ru/"
   ]
  },
  {
   "cell_type": "markdown",
   "metadata": {},
   "source": [
    "* *Новый онлайн-курс по Питону на Coursera от Mail.Ru Group* - https://www.coursera.org/learn/programming-in-python"
   ]
  },
  {
   "cell_type": "markdown",
   "metadata": {},
   "source": [
    "* *Самоучитель Python* - https://pythonworld.ru/samouchitel-python"
   ]
  },
  {
   "cell_type": "markdown",
   "metadata": {},
   "source": [
    "* *Статья про коварности Python* - https://habrahabr.ru/company/mailru/blog/337364/"
   ]
  },
  {
   "cell_type": "markdown",
   "metadata": {},
   "source": [
    "* *Очень полезные трюки в Jupyter Notebook*: https://www.dataquest.io/blog/jupyter-notebook-tips-tricks-shortcuts/"
   ]
  }
 ],
 "metadata": {
  "anaconda-cloud": {},
  "kernelspec": {
   "display_name": "Python 3",
   "language": "python",
   "name": "python3"
  },
  "language_info": {
   "codemirror_mode": {
    "name": "ipython",
    "version": 3
   },
   "file_extension": ".py",
   "mimetype": "text/x-python",
   "name": "python",
   "nbconvert_exporter": "python",
   "pygments_lexer": "ipython3",
   "version": "3.5.2"
  }
 },
 "nbformat": 4,
 "nbformat_minor": 2
}
