{
 "cells": [
  {
   "cell_type": "code",
   "execution_count": 1,
   "metadata": {},
   "outputs": [
    {
     "ename": "ZeroDivisionError",
     "evalue": "division by zero",
     "output_type": "error",
     "traceback": [
      "\u001b[0;31m---------------------------------------------------------------------------\u001b[0m",
      "\u001b[0;31mZeroDivisionError\u001b[0m                         Traceback (most recent call last)",
      "\u001b[0;32m<ipython-input-1-d511ae242b8c>\u001b[0m in \u001b[0;36m<module>\u001b[0;34m()\u001b[0m\n\u001b[1;32m      8\u001b[0m \u001b[0mnum1\u001b[0m \u001b[0;34m=\u001b[0m \u001b[0;36m7\u001b[0m\u001b[0;34m\u001b[0m\u001b[0m\n\u001b[1;32m      9\u001b[0m \u001b[0mnum2\u001b[0m \u001b[0;34m=\u001b[0m \u001b[0;36m0\u001b[0m\u001b[0;34m\u001b[0m\u001b[0m\n\u001b[0;32m---> 10\u001b[0;31m \u001b[0mprint\u001b[0m\u001b[0;34m(\u001b[0m\u001b[0mnum1\u001b[0m\u001b[0;34m/\u001b[0m\u001b[0mnum2\u001b[0m\u001b[0;34m)\u001b[0m\u001b[0;34m\u001b[0m\u001b[0m\n\u001b[0m",
      "\u001b[0;31mZeroDivisionError\u001b[0m: division by zero"
     ]
    }
   ],
   "source": [
    "# Exceptions\n",
    "\n",
    "# You have already seen exceptions in previous code. \n",
    "# They occur when something goes wrong, due to incorrect code or input. \n",
    "# When an exception occurs, the program immediately stops.\n",
    "# The following code produces the ZeroDivisionError exception by trying \n",
    "# to divide 7 by 0.\n",
    "num1 = 7\n",
    "num2 = 0\n",
    "print(num1/num2)"
   ]
  },
  {
   "cell_type": "code",
   "execution_count": null,
   "metadata": {},
   "outputs": [],
   "source": [
    "# Exceptions\n",
    "\n",
    "# Different exceptions are raised for different reasons. \n",
    "# Common exceptions:\n",
    "# ImportError: an import fails;\n",
    "# IndexError: a list is indexed with an out-of-range number;\n",
    "# NameError: an unknown variable is used;\n",
    "# SyntaxError: the code can't be parsed properly; \n",
    "# TypeError: a function is called on a value of an inappropriate type;\n",
    "# ValueError: a function is called on a value of the correct type, but \n",
    "# with an inappropriate value.\n"
   ]
  },
  {
   "cell_type": "code",
   "execution_count": null,
   "metadata": {},
   "outputs": [],
   "source": [
    "print('7' + 4)"
   ]
  },
  {
   "cell_type": "code",
   "execution_count": null,
   "metadata": {},
   "outputs": [],
   "source": [
    "# Exception Handling\n",
    "\n",
    "# To handle exceptions, and to call code when an exception occurs, you\n",
    "# can use a try/except statement.\n",
    "# The try block contains code that might throw an exception. \n",
    "# If that exception occurs, the code in the try block stops being\n",
    "# executed, and the code in the except block is run. If no error occurs, \n",
    "# the code in the except block doesn't run.\n",
    "# For example:\n",
    "try:\n",
    "    num1 = 1\n",
    "    num2 = 2\n",
    "    print(num1 / num2)\n",
    "    print('Done calculation')\n",
    "except ZeroDivisionError:\n",
    "    print('An error occurred')\n",
    "    print('due to zero division')"
   ]
  },
  {
   "cell_type": "code",
   "execution_count": null,
   "metadata": {},
   "outputs": [],
   "source": [
    "try:\n",
    "    variable = 10\n",
    "    print(10 / 2)\n",
    "except ZeroDivisionError:\n",
    "    print('Error')\n",
    "    print('Finished')"
   ]
  },
  {
   "cell_type": "code",
   "execution_count": null,
   "metadata": {},
   "outputs": [],
   "source": [
    "# Exception Handling\n",
    "\n",
    "# A try statement can have multiple different except blocks to handle different\n",
    "# exceptions.\n",
    "# Multiple exceptions can also be put into a single except block using \n",
    "# parentheses, to have the except block handle all of them.\n",
    "try:\n",
    "    variable = 10\n",
    "    print(variable + 'hello')\n",
    "    print(variable / 2)\n",
    "except ZeroDivisionError:\n",
    "    print('Divided by zero')\n",
    "except(ValueError, TypeError):\n",
    "    print('Error occurred')"
   ]
  },
  {
   "cell_type": "code",
   "execution_count": null,
   "metadata": {},
   "outputs": [],
   "source": [
    "try:\n",
    "    meaning = 42\n",
    "    print(meaning/0)\n",
    "    print('the meaning of life')\n",
    "except(ValueError, TypeError):\n",
    "    print('ValueError or TypeError occurred')\n",
    "except ZeroDivisionError:\n",
    "    print('Divided by zero')"
   ]
  },
  {
   "cell_type": "code",
   "execution_count": null,
   "metadata": {},
   "outputs": [],
   "source": [
    "# Exception Handling\n",
    "\n",
    "# An except statement without any exception specified will catch all errors. These should be used sparingly, as they can catch unexpected errors and hide programming mistakes.\n",
    "# For example:\n",
    "try:\n",
    "    word = 'spam'\n",
    "    print(word/0)\n",
    "except:\n",
    "    print('An error occurred')"
   ]
  },
  {
   "cell_type": "code",
   "execution_count": null,
   "metadata": {},
   "outputs": [],
   "source": [
    "# Exception handling is particularly useful when dealing with user input."
   ]
  },
  {
   "cell_type": "code",
   "execution_count": null,
   "metadata": {},
   "outputs": [],
   "source": [
    "# finally\n",
    "\n",
    "# To ensure some code runs no matter what errors occur, you can use a\n",
    "# finally statement. The finally statement is placed at the bottom of a \n",
    "# try/except statement. Code within a finally statement always runs after\n",
    "# execution of the code in the try, and possibly in the except, blocks.\n",
    "try:\n",
    "    print('Hello')\n",
    "    print(1/0)\n",
    "except ZeroDivisionError:\n",
    "    print('Divided by zero')\n",
    "finally:\n",
    "    print('This code will run no matter what')"
   ]
  },
  {
   "cell_type": "code",
   "execution_count": null,
   "metadata": {},
   "outputs": [],
   "source": [
    "try:\n",
    "    print(1)\n",
    "except:\n",
    "    print(2)\n",
    "finally:\n",
    "    print(3)"
   ]
  },
  {
   "cell_type": "code",
   "execution_count": null,
   "metadata": {},
   "outputs": [],
   "source": [
    "# finally\n",
    "\n",
    "# Code in a finally statement even runs if an uncaught exception occurs \n",
    "# in one of the preceding blocks.\n",
    "try:\n",
    "    print(1)\n",
    "    print(10 / 0)\n",
    "except ZeroDivisionError:\n",
    "    print(unknown_var)\n",
    "finally:\n",
    "    print('This is executed last')"
   ]
  },
  {
   "cell_type": "code",
   "execution_count": null,
   "metadata": {},
   "outputs": [],
   "source": [
    "# Raising Exceptions\n",
    "\n",
    "# You can raise exceptions by using the raise statement.\n",
    "print(1)\n",
    "raise ValueError\n",
    "print(2)"
   ]
  },
  {
   "cell_type": "code",
   "execution_count": null,
   "metadata": {},
   "outputs": [],
   "source": [
    "# You need to specify the type of the exception raised."
   ]
  },
  {
   "cell_type": "code",
   "execution_count": null,
   "metadata": {},
   "outputs": [],
   "source": [
    "try:\n",
    "    print(1 / 0)\n",
    "except ZeroDivisionError:\n",
    "    raise ValueError"
   ]
  },
  {
   "cell_type": "code",
   "execution_count": null,
   "metadata": {},
   "outputs": [],
   "source": [
    "# Raising Exceptions\n",
    "\n",
    "# Exceptions can be raised with arguments that give detail about them.\n",
    "# For example:\n",
    "name = '123'\n",
    "raise NameError('Invalid name')"
   ]
  },
  {
   "cell_type": "code",
   "execution_count": null,
   "metadata": {},
   "outputs": [],
   "source": [
    "# Raising Exceptions\n",
    "\n",
    "# In except blocks, the raise statement can be used without arguments \n",
    "# to re-raise whatever exception occurred.\n",
    "try:\n",
    "    num = 5 / 0\n",
    "except:\n",
    "    print('An error occurred')\n",
    "    raise"
   ]
  },
  {
   "cell_type": "code",
   "execution_count": null,
   "metadata": {},
   "outputs": [],
   "source": [
    "# Assertions\n",
    "\n",
    "# An assertion is a sanity-check that you can turn on or turn off when you\n",
    "# have finished testing the program.\n",
    "# An expression is tested, and if the result comes up false, an exception is raised.\n",
    "# Assertions are carried out through use of the assert statement.\n",
    "print(1)\n",
    "assert 2 + 2 == 4\n",
    "print(2)\n",
    "assert 1 + 1 == 3\n",
    "print(3)"
   ]
  },
  {
   "cell_type": "code",
   "execution_count": null,
   "metadata": {},
   "outputs": [],
   "source": [
    "# Programmers often place assertions at the start of a function to check\n",
    "# for valid input, and after a function call to check for valid output."
   ]
  },
  {
   "cell_type": "code",
   "execution_count": null,
   "metadata": {},
   "outputs": [],
   "source": [
    "print(0)\n",
    "assert 'h'!='w'\n",
    "print(1)\n",
    "assert False\n",
    "print(2)\n",
    "assert True\n",
    "print(3)"
   ]
  },
  {
   "cell_type": "code",
   "execution_count": null,
   "metadata": {},
   "outputs": [],
   "source": [
    "# Assertions\n",
    "\n",
    "# The assert can take a second argument that is passed to the AssertionError\n",
    "# raised if the assertion fails.\n",
    "temp = -10\n",
    "assert(temp>=0), 'Colder than absolute zero'"
   ]
  },
  {
   "cell_type": "code",
   "execution_count": null,
   "metadata": {},
   "outputs": [],
   "source": [
    "# Opening Files\n",
    "\n",
    "# You can use Python to read and write the contents of files.\n",
    "# Text files are the easiest to manipulate. Before a file can be edited,\n",
    "# it must be opened, using the open function.\n",
    "myfile = open('filename.txt')"
   ]
  },
  {
   "cell_type": "code",
   "execution_count": null,
   "metadata": {},
   "outputs": [],
   "source": [
    "# The argument of the open function is the path to the file. If the file is in the current working directory of the program, you can specify only its name."
   ]
  },
  {
   "cell_type": "code",
   "execution_count": null,
   "metadata": {},
   "outputs": [],
   "source": [
    "# Opening Files\n",
    "\n",
    "# You can specify the mode used to open a file by applying a second argument to the open function.\n",
    "# Sending \"r\" means open in read mode, which is the default. \n",
    "# Sending \"w\" means write mode, for rewriting the contents of a file.\n",
    "# Sending \"a\" means append mode, for adding new content to the end of the file.\n",
    "\n",
    "# Adding \"b\" to a mode opens it in binary mode, which is used for non-text files (such as image and sound files).\n",
    "# For example:\n",
    "open('filename.txt', 'w')\n",
    "open('filename.txt', 'r')\n",
    "open(filename.txt)\n",
    "binary write mode\n",
    "open('filename.txt','wb')"
   ]
  },
  {
   "cell_type": "code",
   "execution_count": null,
   "metadata": {},
   "outputs": [],
   "source": [
    "# Opening Files\n",
    "\n",
    "# Once a file has been opened and used, you should close it.\n",
    "# This is done with the close method of the file object.\n",
    "file = open('filename.txt','w')\n",
    "# do stuf to the flie\n",
    "file.close()"
   ]
  },
  {
   "cell_type": "code",
   "execution_count": null,
   "metadata": {},
   "outputs": [],
   "source": [
    "# We will read/write content to files in the upcoming lessons."
   ]
  },
  {
   "cell_type": "code",
   "execution_count": null,
   "metadata": {},
   "outputs": [],
   "source": [
    "# Reading Files\n",
    "\n",
    "# The contents of a file that has been opened in text mode can be read using the read method.\n",
    "file = open('filename.txt', 'r')\n",
    "cont = file.read()\n",
    "print(cont)\n",
    "file.close()"
   ]
  },
  {
   "cell_type": "code",
   "execution_count": null,
   "metadata": {},
   "outputs": [],
   "source": [
    "# Reading Files\n",
    "\n",
    "# To read only a certain amount of a file, you can provide a number as an argument to the read function. This determines the number of bytes that should be read. \n",
    "# You can make more calls to read on the same file object to read more of the file byte by byte. With no argument, read returns the rest of the file.\n",
    "file = open('filename.txt', 'r')\n",
    "print(file.read(16))\n",
    "print(file.read(4))\n",
    "print(file.read(2))\n",
    "print(file.read())\n",
    "file.close()"
   ]
  },
  {
   "cell_type": "code",
   "execution_count": null,
   "metadata": {},
   "outputs": [],
   "source": [
    "file = open('filename.txt', 'r')\n",
    "for i in range(21):\n",
    "    print(file.read(4))\n",
    "file.close()"
   ]
  },
  {
   "cell_type": "code",
   "execution_count": null,
   "metadata": {},
   "outputs": [],
   "source": [
    "# Reading Files\n",
    "\n",
    "# After all contents in a file have been read, any attempts to read further from that file will return an empty string, because you are trying to read from the end of the file.\n",
    "file = open('filename.txt', 'r')\n",
    "file.read()\n",
    "print('Re-reading')\n",
    "print(file.read())\n",
    "print('Finished')\n",
    "file.close()"
   ]
  },
  {
   "cell_type": "code",
   "execution_count": null,
   "metadata": {},
   "outputs": [],
   "source": [
    "len(open('test.txt').readlines())"
   ]
  },
  {
   "cell_type": "code",
   "execution_count": null,
   "metadata": {},
   "outputs": [],
   "source": [
    "# Writing Files\n",
    "\n",
    "# To write to files you use the write method, which writes a string to the file.\n",
    "# For example:\n",
    "file = open('newfile.txt','w')\n",
    "file.write('this had been written to a file')\n",
    "file.close()\n",
    "\n",
    "file = open('newfile.txt', 'r')\n",
    "print(file.read())\n",
    "file.close()"
   ]
  },
  {
   "cell_type": "code",
   "execution_count": null,
   "metadata": {},
   "outputs": [],
   "source": [
    "# The \"w\" mode will create a file, if it does not already exist."
   ]
  },
  {
   "cell_type": "code",
   "execution_count": null,
   "metadata": {},
   "outputs": [],
   "source": [
    "# Writing Files\n",
    "\n",
    "# The write method returns the number of bytes written to a file, if successful.\n",
    "msg = 'Hello world!'\n",
    "file = open('newfile.txt', 'w')\n",
    "amount_written = file.write(msg)\n",
    "print(amount_written)\n",
    "file.close()"
   ]
  },
  {
   "cell_type": "code",
   "execution_count": null,
   "metadata": {},
   "outputs": [],
   "source": [
    "# Working with Files\n",
    "\n",
    "# It is good practice to avoid wasting resources by making sure that files are always closed after they have been used. One way of doing this is to use try and finally.\n",
    "try:\n",
    "    f = open('filename.txt')\n",
    "    print(f.read())\n",
    "finally:\n",
    "    f.close()"
   ]
  },
  {
   "cell_type": "code",
   "execution_count": null,
   "metadata": {},
   "outputs": [],
   "source": [
    "try:\n",
    "    f = open('filename.txt')\n",
    "    print(f.read())\n",
    "    print(1/0)\n",
    "finally:\n",
    "    f.close()"
   ]
  },
  {
   "cell_type": "code",
   "execution_count": null,
   "metadata": {},
   "outputs": [],
   "source": [
    "# Working with Files\n",
    "\n",
    "# An alternative way of doing this is using with statements. This creates a temporary variable (often called f), which is only accessible in the indented block of the with statement.\n",
    "with open('filename.txt')as f:\n",
    "    print(f.read())"
   ]
  },
  {
   "cell_type": "code",
   "execution_count": null,
   "metadata": {},
   "outputs": [],
   "source": [
    "try:\n",
    "    print(1)\n",
    "    print(20/0)\n",
    "    print(2)\n",
    "except ZeroDivisionError:\n",
    "    print(3)\n",
    "finally:\n",
    "    print(4)"
   ]
  },
  {
   "cell_type": "code",
   "execution_count": null,
   "metadata": {},
   "outputs": [],
   "source": [
    "try:\n",
    "    print(1)\n",
    "    assert 2 + 2 == 5\n",
    "assert AssertionError:\n",
    "    print(3)\n",
    "except:\n",
    "    print(4)"
   ]
  },
  {
   "cell_type": "code",
   "execution_count": null,
   "metadata": {},
   "outputs": [],
   "source": []
  }
 ],
 "metadata": {
  "kernelspec": {
   "display_name": "Python 3",
   "language": "python",
   "name": "python3"
  },
  "language_info": {
   "codemirror_mode": {
    "name": "ipython",
    "version": 3
   },
   "file_extension": ".py",
   "mimetype": "text/x-python",
   "name": "python",
   "nbconvert_exporter": "python",
   "pygments_lexer": "ipython3",
   "version": "3.6.4"
  }
 },
 "nbformat": 4,
 "nbformat_minor": 2
}
