{
 "cells": [
  {
   "cell_type": "markdown",
   "id": "decent-profit",
   "metadata": {},
   "source": [
    "# Manejo de errores / Error handling"
   ]
  },
  {
   "cell_type": "markdown",
   "id": "passive-electricity",
   "metadata": {},
   "source": [
    "![elgif](https://media.giphy.com/media/WhFfFPCEDXpBe/giphy.gif)"
   ]
  },
  {
   "cell_type": "markdown",
   "id": "positive-length",
   "metadata": {
    "toc": true
   },
   "source": [
    "<h1>Table of Contents<span class=\"tocSkip\"></span></h1>\n",
    "<div class=\"toc\"><ul class=\"toc-item\"><li><span><a href=\"#Introducción\" data-toc-modified-id=\"Introducción-1\"><span class=\"toc-item-num\">1&nbsp;&nbsp;</span>Introducción</a></span></li><li><span><a href=\"#Errores-de-Sintaxis\" data-toc-modified-id=\"Errores-de-Sintaxis-2\"><span class=\"toc-item-num\">2&nbsp;&nbsp;</span>Errores de Sintaxis</a></span></li><li><span><a href=\"#Excepciones\" data-toc-modified-id=\"Excepciones-3\"><span class=\"toc-item-num\">3&nbsp;&nbsp;</span>Excepciones</a></span><ul class=\"toc-item\"><li><span><a href=\"#Lookup-Error\" data-toc-modified-id=\"Lookup-Error-3.1\"><span class=\"toc-item-num\">3.1&nbsp;&nbsp;</span>Lookup Error</a></span></li><li><span><a href=\"#KeyError\" data-toc-modified-id=\"KeyError-3.2\"><span class=\"toc-item-num\">3.2&nbsp;&nbsp;</span>KeyError</a></span></li><li><span><a href=\"#IndexError\" data-toc-modified-id=\"IndexError-3.3\"><span class=\"toc-item-num\">3.3&nbsp;&nbsp;</span>IndexError</a></span></li><li><span><a href=\"#ImportError\" data-toc-modified-id=\"ImportError-3.4\"><span class=\"toc-item-num\">3.4&nbsp;&nbsp;</span>ImportError</a></span></li><li><span><a href=\"#AttributeError\" data-toc-modified-id=\"AttributeError-3.5\"><span class=\"toc-item-num\">3.5&nbsp;&nbsp;</span>AttributeError</a></span></li><li><span><a href=\"#ValueError\" data-toc-modified-id=\"ValueError-3.6\"><span class=\"toc-item-num\">3.6&nbsp;&nbsp;</span>ValueError</a></span></li><li><span><a href=\"#TypeError\" data-toc-modified-id=\"TypeError-3.7\"><span class=\"toc-item-num\">3.7&nbsp;&nbsp;</span>TypeError</a></span></li><li><span><a href=\"#OSError\" data-toc-modified-id=\"OSError-3.8\"><span class=\"toc-item-num\">3.8&nbsp;&nbsp;</span>OSError</a></span></li><li><span><a href=\"#FileNotFoundError\" data-toc-modified-id=\"FileNotFoundError-3.9\"><span class=\"toc-item-num\">3.9&nbsp;&nbsp;</span>FileNotFoundError</a></span></li><li><span><a href=\"#TimeOutError\" data-toc-modified-id=\"TimeOutError-3.10\"><span class=\"toc-item-num\">3.10&nbsp;&nbsp;</span>TimeOutError</a></span></li></ul></li><li><span><a href=\"#Gestión-de-excepciones\" data-toc-modified-id=\"Gestión-de-excepciones-4\"><span class=\"toc-item-num\">4&nbsp;&nbsp;</span>Gestión de excepciones</a></span><ul class=\"toc-item\"><li><span><a href=\"#Lo-que-no-debo-hacer-al-manejar-excepciones\" data-toc-modified-id=\"Lo-que-no-debo-hacer-al-manejar-excepciones-4.1\"><span class=\"toc-item-num\">4.1&nbsp;&nbsp;</span>Lo que no debo hacer al manejar excepciones</a></span></li></ul></li><li><span><a href=\"#Validación-de-datos-con-assert\" data-toc-modified-id=\"Validación-de-datos-con-assert-5\"><span class=\"toc-item-num\">5&nbsp;&nbsp;</span>Validación de datos con <code>assert</code></a></span></li><li><span><a href=\"#Lanzar-errores\" data-toc-modified-id=\"Lanzar-errores-6\"><span class=\"toc-item-num\">6&nbsp;&nbsp;</span>Lanzar errores</a></span></li><li><span><a href=\"#Resumen\" data-toc-modified-id=\"Resumen-7\"><span class=\"toc-item-num\">7&nbsp;&nbsp;</span>Resumen</a></span></li></ul></div>"
   ]
  },
  {
   "cell_type": "markdown",
   "id": "split-timeline",
   "metadata": {},
   "source": [
    "## Introducción"
   ]
  },
  {
   "cell_type": "code",
   "execution_count": 1,
   "id": "communist-mercury",
   "metadata": {},
   "outputs": [
    {
     "ename": "SyntaxError",
     "evalue": "invalid syntax (<ipython-input-1-e9003c353fe8>, line 1)",
     "output_type": "error",
     "traceback": [
      "\u001b[0;36m  File \u001b[0;32m\"<ipython-input-1-e9003c353fe8>\"\u001b[0;36m, line \u001b[0;32m1\u001b[0m\n\u001b[0;31m    while True print (\"probando errores\")\u001b[0m\n\u001b[0m               ^\u001b[0m\n\u001b[0;31mSyntaxError\u001b[0m\u001b[0;31m:\u001b[0m invalid syntax\n"
     ]
    }
   ],
   "source": [
    "while True print (\"probando errores\")"
   ]
  },
  {
   "cell_type": "code",
   "execution_count": 2,
   "id": "chinese-friendship",
   "metadata": {},
   "outputs": [
    {
     "ename": "ZeroDivisionError",
     "evalue": "division by zero",
     "output_type": "error",
     "traceback": [
      "\u001b[0;31m---------------------------------------------------------------------------\u001b[0m",
      "\u001b[0;31mZeroDivisionError\u001b[0m                         Traceback (most recent call last)",
      "\u001b[0;32m<ipython-input-2-c60b83d7665c>\u001b[0m in \u001b[0;36m<module>\u001b[0;34m\u001b[0m\n\u001b[0;32m----> 1\u001b[0;31m \u001b[0;36m15\u001b[0m \u001b[0;34m*\u001b[0m \u001b[0;34m(\u001b[0m\u001b[0;36m3\u001b[0m\u001b[0;34m/\u001b[0m\u001b[0;36m0\u001b[0m\u001b[0;34m)\u001b[0m\u001b[0;34m\u001b[0m\u001b[0;34m\u001b[0m\u001b[0m\n\u001b[0m",
      "\u001b[0;31mZeroDivisionError\u001b[0m: division by zero"
     ]
    }
   ],
   "source": [
    "15 * (3/0)"
   ]
  },
  {
   "cell_type": "markdown",
   "id": "therapeutic-pharmacology",
   "metadata": {},
   "source": [
    "Esto de aquí arriba 👆🏻son ejemplos de instrucciones inválidas que dan lugar a distintos tipos de errores en Python.   \n",
    "El primero de ellos es un error de sintaxis, faltan los dos puntos después de True; mitnras que el segundo es un error en tiempo de ejecución debido a una división por cero. Los errores de sintaxis y los errores en tiempo de ejecución se abordan de forma distinta en este lenguaje de programación y es fundamental prevenirlos y tratarlos al escribir cualquier programa.\n",
    "Desde los inicios de los lenguajes de programación, la gestión de errores ha sido uno de los asuntos más difíciles. Es tan complicado diseñar un buen esquema de gestión de errores que muchos lenguajes simplemente lo ignoran."
   ]
  },
  {
   "cell_type": "markdown",
   "id": "crazy-browse",
   "metadata": {},
   "source": [
    "## Errores de Sintaxis\n",
    "Este tipo de errores, conocidos también como errores sintácticos o del intérprete de Python, son comunes cuando nos iniciamos con un lenguaje de programación, y más aún si hemos programado previamente en otros lenguajes. Se deben al desconocimiento u olvido de las reglas léxicas que establece Python, y que el intérprete detectará antes de lanzar la ejecución del programa. Se trata, por lo tanto, de expresiones mal formadas. Los lenguajes compilados como C realizan un análisis del código para producir un archivo ejecutable, lo que permite detectareste tipo de errores antes de ejecutar el programa. En el caso de los lenguajes interpretados, como es el caso de Python, al no existir dicha fase previa, no tenemos la oportunidad de detectar esos errores. El intérprete acepta nuestro código con la incertidumbre de su corrección, aunque será consciente de ello nada más leer el programa, es decir, al lanzarlo y antes de ejecutar cada una de las instrucciones.      \n",
    "El intérprete de Python procesa línea a línea cada instrucción, y si detecta algún error de sintaxis parará su proceso, mostrando una pequeña flecha en el lugar donde el error haya sido detectado. Por ejemplo, en el ejemplo anterior:"
   ]
  },
  {
   "cell_type": "code",
   "execution_count": 3,
   "id": "moving-village",
   "metadata": {},
   "outputs": [
    {
     "ename": "SyntaxError",
     "evalue": "invalid syntax (<ipython-input-3-c702b03bc445>, line 1)",
     "output_type": "error",
     "traceback": [
      "\u001b[0;36m  File \u001b[0;32m\"<ipython-input-3-c702b03bc445>\"\u001b[0;36m, line \u001b[0;32m1\u001b[0m\n\u001b[0;31m    while True print (\"probandoerrores\")\u001b[0m\n\u001b[0m               ^\u001b[0m\n\u001b[0;31mSyntaxError\u001b[0m\u001b[0;31m:\u001b[0m invalid syntax\n"
     ]
    }
   ],
   "source": [
    "while True print (\"probandoerrores\")"
   ]
  },
  {
   "cell_type": "markdown",
   "id": "underlying-coverage",
   "metadata": {},
   "source": [
    "Es de gran ayuda que nos indique el lugar donde ha detectado el error y que, además, nos facilite información sobre el mismo. En este caso está indicando que la sintaxsis desde el print no es correcta, para que nos demos cuenta de que estamos cometiendo un error al no poner los dos puntos detrás del True.\n",
    "En un mensaje de error de sintaxis distinguimos dos partes: \n",
    "- La ruta del error: En el ejemplo anterior, todas las líneas menos la última.\n",
    "- La descripción del error: en el ejemplo anterior, la última línea.         \n",
    "\n",
    "Los errores de sintaxis normalmente son fáciles de corregir, pero en ocasiones un error que se desencadena en un punto puede venir de otro punto y esa ruta de error (o traceback) va en orden descendente desde el punto en el cual el error se desencadenó, pasando por varios puntos intermedios (Si los hay) hasta el punto donde el error ocurrió. En la práctica, esto quiere decir que si en la línea donde se indica el error no encontramos nada, tendremos que revisar las instrucciones anteriores hasta encontrarlo."
   ]
  },
  {
   "cell_type": "markdown",
   "id": "public-variance",
   "metadata": {},
   "source": [
    "## Excepciones\n",
    "Una excepción es un error lógico que se produce en tiempo de ejecución. En este caso, la sintaxsis de las instrucciones es correcta y, por este motivo, el intérprete de Python no parará ni mostrará error alguno al lanzar el programa, pero en el momento de ejecutarse se detendrá y mostrará un error, esto es lo que se denomina \"error en tiempo de ejecución\".    \n",
    "Las excepciones van asociadas a distintos tipos, y ese mismo tipo es el que se muestra en el mensaje de error. Además de esta información, también se muestran detalles que indican la causa del error. Todo esto te permitirá disponer de información suficiente para encontrar el fallo y solucionarlo o gestionarlo.    \n",
    "Algunos ejemplos de excepciones son los siguientes:\n",
    "- ZeroDivisionError: division by zero\n",
    "- NameError: name 'dflhjka' is not defined\n",
    "- TypeError: can only concatenate str (not \"int\") to str\n",
    "\n",
    "Python tiene una serie de excepciones predefinidas, divididas en excepciones base y exceptiones específicas. Las excepciones base son más genéricas y agrupan los distintos tipos más específicos, lo que te permitirá realizar un tratamiento más general en tus programas. Por el contrario, las excepciones específicas ofrecen mayor detalle del error producido.    \n",
    "\n",
    "🚨⚠️Documentación [A Q U Í](https://docs.python.org/3/library/exceptions.html)⚠️🚨       \n",
    "\n",
    "Veamos algunas:     "
   ]
  },
  {
   "cell_type": "markdown",
   "id": "floppy-wrestling",
   "metadata": {},
   "source": [
    "### Lookup Error\n",
    "Es la clase base para las excepciones que se plantean cuando una clave o índice utilizado en una asignación o secuencia no es válido: IndexError, KeyError.    \n",
    "### KeyError     \n",
    "Se lanza cuando una clave de mapeo (diccionario) no se encuentra en el conjunto de claves existentes."
   ]
  },
  {
   "cell_type": "code",
   "execution_count": 4,
   "id": "immune-panic",
   "metadata": {},
   "outputs": [],
   "source": [
    "diccio = {\"nombre\": \"Pepe\", \"edad\": 33}"
   ]
  },
  {
   "cell_type": "code",
   "execution_count": 5,
   "id": "found-superior",
   "metadata": {},
   "outputs": [
    {
     "data": {
      "text/plain": [
       "dict_keys(['nombre', 'edad'])"
      ]
     },
     "execution_count": 5,
     "metadata": {},
     "output_type": "execute_result"
    }
   ],
   "source": [
    "diccio.keys()"
   ]
  },
  {
   "cell_type": "code",
   "execution_count": 6,
   "id": "better-retirement",
   "metadata": {},
   "outputs": [
    {
     "data": {
      "text/plain": [
       "'Pepe'"
      ]
     },
     "execution_count": 6,
     "metadata": {},
     "output_type": "execute_result"
    }
   ],
   "source": [
    "diccio[\"nombre\"]"
   ]
  },
  {
   "cell_type": "code",
   "execution_count": 7,
   "id": "twelve-negotiation",
   "metadata": {},
   "outputs": [
    {
     "ename": "KeyError",
     "evalue": "'trabajo'",
     "output_type": "error",
     "traceback": [
      "\u001b[0;31m---------------------------------------------------------------------------\u001b[0m",
      "\u001b[0;31mKeyError\u001b[0m                                  Traceback (most recent call last)",
      "\u001b[0;32m<ipython-input-7-8a70d8fcf3e5>\u001b[0m in \u001b[0;36m<module>\u001b[0;34m\u001b[0m\n\u001b[0;32m----> 1\u001b[0;31m \u001b[0mdiccio\u001b[0m\u001b[0;34m[\u001b[0m\u001b[0;34m\"trabajo\"\u001b[0m\u001b[0;34m]\u001b[0m\u001b[0;34m\u001b[0m\u001b[0;34m\u001b[0m\u001b[0m\n\u001b[0m",
      "\u001b[0;31mKeyError\u001b[0m: 'trabajo'"
     ]
    }
   ],
   "source": [
    "diccio[\"trabajo\"]"
   ]
  },
  {
   "cell_type": "markdown",
   "id": "specialized-humanity",
   "metadata": {},
   "source": [
    "### IndexError \n",
    "Se lanza cuando un subíndice de la secuencia está fuera del rango."
   ]
  },
  {
   "cell_type": "code",
   "execution_count": 8,
   "id": "scientific-strengthening",
   "metadata": {},
   "outputs": [],
   "source": [
    "nums = [1,2,3,4,5]"
   ]
  },
  {
   "cell_type": "code",
   "execution_count": 9,
   "id": "passive-maine",
   "metadata": {},
   "outputs": [
    {
     "ename": "IndexError",
     "evalue": "list index out of range",
     "output_type": "error",
     "traceback": [
      "\u001b[0;31m---------------------------------------------------------------------------\u001b[0m",
      "\u001b[0;31mIndexError\u001b[0m                                Traceback (most recent call last)",
      "\u001b[0;32m<ipython-input-9-3d78988ea864>\u001b[0m in \u001b[0;36m<module>\u001b[0;34m\u001b[0m\n\u001b[0;32m----> 1\u001b[0;31m \u001b[0mnums\u001b[0m\u001b[0;34m[\u001b[0m\u001b[0;36m10\u001b[0m\u001b[0;34m]\u001b[0m\u001b[0;34m\u001b[0m\u001b[0;34m\u001b[0m\u001b[0m\n\u001b[0m",
      "\u001b[0;31mIndexError\u001b[0m: list index out of range"
     ]
    }
   ],
   "source": [
    "nums[10]"
   ]
  },
  {
   "cell_type": "code",
   "execution_count": 11,
   "id": "persistent-maintenance",
   "metadata": {},
   "outputs": [
    {
     "name": "stdout",
     "output_type": "stream",
     "text": [
      "[3]\n",
      "[3, 6]\n",
      "[3, 6, 9]\n",
      "[3, 6, 9, 12]\n",
      "[3, 6, 9, 12, 15]\n"
     ]
    },
    {
     "ename": "IndexError",
     "evalue": "list index out of range",
     "output_type": "error",
     "traceback": [
      "\u001b[0;31m---------------------------------------------------------------------------\u001b[0m",
      "\u001b[0;31mIndexError\u001b[0m                                Traceback (most recent call last)",
      "\u001b[0;32m<ipython-input-11-2be68838ecc6>\u001b[0m in \u001b[0;36m<module>\u001b[0;34m\u001b[0m\n\u001b[1;32m      1\u001b[0m \u001b[0mguardo_nueva\u001b[0m \u001b[0;34m=\u001b[0m \u001b[0;34m[\u001b[0m\u001b[0;34m]\u001b[0m\u001b[0;34m\u001b[0m\u001b[0;34m\u001b[0m\u001b[0m\n\u001b[1;32m      2\u001b[0m \u001b[0;32mfor\u001b[0m \u001b[0mnum\u001b[0m \u001b[0;32min\u001b[0m \u001b[0mrange\u001b[0m\u001b[0;34m(\u001b[0m\u001b[0;36m8\u001b[0m\u001b[0;34m)\u001b[0m\u001b[0;34m:\u001b[0m\u001b[0;34m\u001b[0m\u001b[0;34m\u001b[0m\u001b[0m\n\u001b[0;32m----> 3\u001b[0;31m     \u001b[0mguardo_nueva\u001b[0m\u001b[0;34m.\u001b[0m\u001b[0mappend\u001b[0m\u001b[0;34m(\u001b[0m\u001b[0mnums\u001b[0m\u001b[0;34m[\u001b[0m\u001b[0mnum\u001b[0m\u001b[0;34m]\u001b[0m \u001b[0;34m*\u001b[0m \u001b[0;36m3\u001b[0m\u001b[0;34m)\u001b[0m\u001b[0;34m\u001b[0m\u001b[0;34m\u001b[0m\u001b[0m\n\u001b[0m\u001b[1;32m      4\u001b[0m     \u001b[0mprint\u001b[0m\u001b[0;34m(\u001b[0m\u001b[0mguardo_nueva\u001b[0m\u001b[0;34m)\u001b[0m\u001b[0;34m\u001b[0m\u001b[0;34m\u001b[0m\u001b[0m\n\u001b[1;32m      5\u001b[0m \u001b[0mprint\u001b[0m\u001b[0;34m(\u001b[0m\u001b[0mguardo_nueva\u001b[0m\u001b[0;34m)\u001b[0m\u001b[0;34m\u001b[0m\u001b[0;34m\u001b[0m\u001b[0m\n",
      "\u001b[0;31mIndexError\u001b[0m: list index out of range"
     ]
    }
   ],
   "source": [
    "guardo_nueva = []\n",
    "for num in range(8):\n",
    "    guardo_nueva.append(nums[num] * 3)\n",
    "    print(guardo_nueva)\n",
    "print(guardo_nueva)"
   ]
  },
  {
   "cell_type": "markdown",
   "id": "medieval-possibility",
   "metadata": {},
   "source": [
    "### ImportError\n",
    "Tiene lugar cuando hay problemas al cargar un módulo o cuando no se encuentra. es la clase base de la excepción ModuleNotFoundError"
   ]
  },
  {
   "cell_type": "code",
   "execution_count": 12,
   "id": "dominant-generation",
   "metadata": {},
   "outputs": [
    {
     "ename": "ModuleNotFoundError",
     "evalue": "No module named 'mat'",
     "output_type": "error",
     "traceback": [
      "\u001b[0;31m---------------------------------------------------------------------------\u001b[0m",
      "\u001b[0;31mModuleNotFoundError\u001b[0m                       Traceback (most recent call last)",
      "\u001b[0;32m<ipython-input-12-ec12953e5dcd>\u001b[0m in \u001b[0;36m<module>\u001b[0;34m\u001b[0m\n\u001b[0;32m----> 1\u001b[0;31m \u001b[0;32mimport\u001b[0m \u001b[0mmat\u001b[0m\u001b[0;34m\u001b[0m\u001b[0;34m\u001b[0m\u001b[0m\n\u001b[0m",
      "\u001b[0;31mModuleNotFoundError\u001b[0m: No module named 'mat'"
     ]
    }
   ],
   "source": [
    "import mat"
   ]
  },
  {
   "cell_type": "code",
   "execution_count": 14,
   "id": "68330ec4",
   "metadata": {},
   "outputs": [],
   "source": [
    "import pandas as pd"
   ]
  },
  {
   "cell_type": "markdown",
   "id": "fitting-denver",
   "metadata": {},
   "source": [
    "### AttributeError     \n",
    "Se lanza cuando falla una referencia a un atributo o una asignación."
   ]
  },
  {
   "cell_type": "code",
   "execution_count": 15,
   "id": "angry-blackberry",
   "metadata": {},
   "outputs": [],
   "source": [
    "num = 4"
   ]
  },
  {
   "cell_type": "code",
   "execution_count": 16,
   "id": "little-salmon",
   "metadata": {},
   "outputs": [
    {
     "ename": "AttributeError",
     "evalue": "'int' object has no attribute 'upper'",
     "output_type": "error",
     "traceback": [
      "\u001b[0;31m---------------------------------------------------------------------------\u001b[0m",
      "\u001b[0;31mAttributeError\u001b[0m                            Traceback (most recent call last)",
      "\u001b[0;32m<ipython-input-16-406939afc4cd>\u001b[0m in \u001b[0;36m<module>\u001b[0;34m\u001b[0m\n\u001b[0;32m----> 1\u001b[0;31m \u001b[0mnum\u001b[0m\u001b[0;34m.\u001b[0m\u001b[0mupper\u001b[0m\u001b[0;34m(\u001b[0m\u001b[0;34m)\u001b[0m\u001b[0;34m\u001b[0m\u001b[0;34m\u001b[0m\u001b[0m\n\u001b[0m",
      "\u001b[0;31mAttributeError\u001b[0m: 'int' object has no attribute 'upper'"
     ]
    }
   ],
   "source": [
    "num.upper()"
   ]
  },
  {
   "cell_type": "markdown",
   "id": "entertaining-archive",
   "metadata": {},
   "source": [
    "### ValueError    \n",
    "Se lanza cuando una función recibe un argumento de un tipo correcto, pero con un valor incorrecto.    \n",
    "Pasar argumentos de un tipo incorrecto (por ejemplo, pasar una lista cuando se espera un int) debería resultar en un TypeError, pero pasar argumentos con un valor incorrecto (por ejemplo, un número fuera de los límites esperados) debería resultar en un ValueError."
   ]
  },
  {
   "cell_type": "code",
   "execution_count": 17,
   "id": "virtual-delta",
   "metadata": {},
   "outputs": [
    {
     "ename": "ValueError",
     "evalue": "list.remove(x): x not in list",
     "output_type": "error",
     "traceback": [
      "\u001b[0;31m---------------------------------------------------------------------------\u001b[0m",
      "\u001b[0;31mValueError\u001b[0m                                Traceback (most recent call last)",
      "\u001b[0;32m<ipython-input-17-18e0a6ecbeae>\u001b[0m in \u001b[0;36m<module>\u001b[0;34m\u001b[0m\n\u001b[1;32m      1\u001b[0m \u001b[0mvariable\u001b[0m \u001b[0;34m=\u001b[0m \u001b[0;36m67\u001b[0m\u001b[0;34m\u001b[0m\u001b[0;34m\u001b[0m\u001b[0m\n\u001b[1;32m      2\u001b[0m \u001b[0mlista\u001b[0m \u001b[0;34m=\u001b[0m \u001b[0;34m[\u001b[0m\u001b[0;36m1\u001b[0m\u001b[0;34m,\u001b[0m\u001b[0;36m3\u001b[0m\u001b[0;34m,\u001b[0m\u001b[0;36m256\u001b[0m\u001b[0;34m,\u001b[0m\u001b[0;36m2347\u001b[0m\u001b[0;34m,\u001b[0m\u001b[0;36m8\u001b[0m\u001b[0;34m,\u001b[0m\u001b[0;36m3\u001b[0m\u001b[0;34m,\u001b[0m\u001b[0;36m3\u001b[0m\u001b[0;34m,\u001b[0m\u001b[0;36m6\u001b[0m\u001b[0;34m,\u001b[0m\u001b[0;36m9\u001b[0m\u001b[0;34m]\u001b[0m\u001b[0;34m\u001b[0m\u001b[0;34m\u001b[0m\u001b[0m\n\u001b[0;32m----> 3\u001b[0;31m \u001b[0mlista\u001b[0m\u001b[0;34m.\u001b[0m\u001b[0mremove\u001b[0m\u001b[0;34m(\u001b[0m\u001b[0mvariable\u001b[0m\u001b[0;34m)\u001b[0m\u001b[0;34m\u001b[0m\u001b[0;34m\u001b[0m\u001b[0m\n\u001b[0m",
      "\u001b[0;31mValueError\u001b[0m: list.remove(x): x not in list"
     ]
    }
   ],
   "source": [
    "variable = 67\n",
    "lista = [1,3,256,2347,8,3,3,6,9]\n",
    "lista.remove(variable)"
   ]
  },
  {
   "cell_type": "code",
   "execution_count": null,
   "id": "hybrid-romantic",
   "metadata": {},
   "outputs": [],
   "source": [
    " # Pop me permite borrar el elemento por índice, por eso lanza IndexError"
   ]
  },
  {
   "cell_type": "code",
   "execution_count": 18,
   "id": "dependent-austria",
   "metadata": {},
   "outputs": [
    {
     "ename": "IndexError",
     "evalue": "pop index out of range",
     "output_type": "error",
     "traceback": [
      "\u001b[0;31m---------------------------------------------------------------------------\u001b[0m",
      "\u001b[0;31mIndexError\u001b[0m                                Traceback (most recent call last)",
      "\u001b[0;32m<ipython-input-18-beb2122f43c9>\u001b[0m in \u001b[0;36m<module>\u001b[0;34m\u001b[0m\n\u001b[0;32m----> 1\u001b[0;31m \u001b[0mlista\u001b[0m\u001b[0;34m.\u001b[0m\u001b[0mpop\u001b[0m\u001b[0;34m(\u001b[0m\u001b[0;36m9\u001b[0m\u001b[0;34m)\u001b[0m\u001b[0;34m\u001b[0m\u001b[0;34m\u001b[0m\u001b[0m\n\u001b[0m",
      "\u001b[0;31mIndexError\u001b[0m: pop index out of range"
     ]
    }
   ],
   "source": [
    "lista.pop(9)"
   ]
  },
  {
   "cell_type": "code",
   "execution_count": 19,
   "id": "065366ed",
   "metadata": {},
   "outputs": [
    {
     "ename": "ValueError",
     "evalue": "invalid literal for int() with base 10: 'casa'",
     "output_type": "error",
     "traceback": [
      "\u001b[0;31m---------------------------------------------------------------------------\u001b[0m",
      "\u001b[0;31mValueError\u001b[0m                                Traceback (most recent call last)",
      "\u001b[0;32m<ipython-input-19-e12ce865b114>\u001b[0m in \u001b[0;36m<module>\u001b[0;34m\u001b[0m\n\u001b[0;32m----> 1\u001b[0;31m \u001b[0mprint\u001b[0m\u001b[0;34m(\u001b[0m\u001b[0mint\u001b[0m\u001b[0;34m(\u001b[0m\u001b[0;34m\"casa\"\u001b[0m\u001b[0;34m)\u001b[0m\u001b[0;34m)\u001b[0m\u001b[0;34m\u001b[0m\u001b[0;34m\u001b[0m\u001b[0m\n\u001b[0m",
      "\u001b[0;31mValueError\u001b[0m: invalid literal for int() with base 10: 'casa'"
     ]
    }
   ],
   "source": [
    "print(int(\"casa\"))"
   ]
  },
  {
   "cell_type": "markdown",
   "id": "indie-function",
   "metadata": {},
   "source": [
    "### TypeError\n",
    "Se produce cuando una operación o función se aplica a un objeto de tipo inapropiado. El valor asociado es una cadena que da detalles sobre el desajuste de tipo.\n"
   ]
  },
  {
   "cell_type": "code",
   "execution_count": 20,
   "id": "pleased-sword",
   "metadata": {},
   "outputs": [
    {
     "ename": "TypeError",
     "evalue": "can't multiply sequence by non-int of type 'float'",
     "output_type": "error",
     "traceback": [
      "\u001b[0;31m---------------------------------------------------------------------------\u001b[0m",
      "\u001b[0;31mTypeError\u001b[0m                                 Traceback (most recent call last)",
      "\u001b[0;32m<ipython-input-20-9450d75b5de3>\u001b[0m in \u001b[0;36m<module>\u001b[0;34m\u001b[0m\n\u001b[0;32m----> 1\u001b[0;31m \u001b[0;34m\"hola\"\u001b[0m \u001b[0;34m*\u001b[0m \u001b[0;36m6.4\u001b[0m\u001b[0;34m\u001b[0m\u001b[0;34m\u001b[0m\u001b[0m\n\u001b[0m",
      "\u001b[0;31mTypeError\u001b[0m: can't multiply sequence by non-int of type 'float'"
     ]
    }
   ],
   "source": [
    "\"hola\" * 6.4"
   ]
  },
  {
   "cell_type": "markdown",
   "id": "spectacular-advance",
   "metadata": {},
   "source": [
    "### OSError\n",
    "Ocurre cuando se produce un error relacionado con el sistema, como fallos en una operación de entrada/salida, archivos no encontrados, etc. Es la clase base y las excepciones que más veremos son:\n",
    "### FileNotFoundError\n",
    "Archivo o directorio no existente"
   ]
  },
  {
   "cell_type": "code",
   "execution_count": 21,
   "id": "backed-toddler",
   "metadata": {},
   "outputs": [
    {
     "ename": "FileNotFoundError",
     "evalue": "[Errno 2] No such file or directory: 'loquesea.txt'",
     "output_type": "error",
     "traceback": [
      "\u001b[0;31m---------------------------------------------------------------------------\u001b[0m",
      "\u001b[0;31mFileNotFoundError\u001b[0m                         Traceback (most recent call last)",
      "\u001b[0;32m<ipython-input-21-04e6dc36cebf>\u001b[0m in \u001b[0;36m<module>\u001b[0;34m\u001b[0m\n\u001b[0;32m----> 1\u001b[0;31m \u001b[0marchivo\u001b[0m \u001b[0;34m=\u001b[0m \u001b[0mopen\u001b[0m\u001b[0;34m(\u001b[0m\u001b[0;34m\"loquesea.txt\"\u001b[0m\u001b[0;34m)\u001b[0m\u001b[0;34m\u001b[0m\u001b[0;34m\u001b[0m\u001b[0m\n\u001b[0m",
      "\u001b[0;31mFileNotFoundError\u001b[0m: [Errno 2] No such file or directory: 'loquesea.txt'"
     ]
    }
   ],
   "source": [
    "archivo = open(\"loquesea.txt\")"
   ]
  },
  {
   "cell_type": "code",
   "execution_count": 22,
   "id": "drawn-virgin",
   "metadata": {},
   "outputs": [
    {
     "name": "stdout",
     "output_type": "stream",
     "text": [
      "1- Programación orientada a objetos.ipynb\r\n",
      "2.1- Manejo de errores.ipynb\r\n",
      "2.2 -Map, Filter, Reduce.ipynb\r\n"
     ]
    }
   ],
   "source": [
    "!ls"
   ]
  },
  {
   "cell_type": "code",
   "execution_count": 27,
   "id": "right-librarian",
   "metadata": {},
   "outputs": [
    {
     "name": "stdout",
     "output_type": "stream",
     "text": [
      "<_io.TextIOWrapper name='../../data/loquesea.txt' mode='r' encoding='UTF-8'>\n"
     ]
    }
   ],
   "source": [
    "archivo_bien = open(\"../../data/loquesea.txt\")\n",
    "print(archivo_bien)"
   ]
  },
  {
   "cell_type": "code",
   "execution_count": 28,
   "id": "removed-associate",
   "metadata": {},
   "outputs": [],
   "source": [
    "archivo_bien2 = open(\"../../data/loquesea.txt\", \"w\")\n",
    "archivo_bien2.write(\"hola\")\n",
    "archivo_bien2.close()"
   ]
  },
  {
   "cell_type": "code",
   "execution_count": 29,
   "id": "selected-parent",
   "metadata": {},
   "outputs": [
    {
     "name": "stdout",
     "output_type": "stream",
     "text": [
      "Requirement already satisfied: pandas in /usr/local/Caskroom/miniconda/base/lib/python3.9/site-packages (1.3.5)\r\n",
      "Requirement already satisfied: python-dateutil>=2.7.3 in /usr/local/Caskroom/miniconda/base/lib/python3.9/site-packages (from pandas) (2.8.1)\r\n",
      "Requirement already satisfied: pytz>=2017.3 in /usr/local/Caskroom/miniconda/base/lib/python3.9/site-packages (from pandas) (2021.3)\r\n",
      "Requirement already satisfied: numpy>=1.17.3 in /usr/local/Caskroom/miniconda/base/lib/python3.9/site-packages (from pandas) (1.22.1)\r\n",
      "Requirement already satisfied: six>=1.5 in /usr/local/Caskroom/miniconda/base/lib/python3.9/site-packages (from python-dateutil>=2.7.3->pandas) (1.16.0)\r\n"
     ]
    }
   ],
   "source": [
    "!pip install pandas"
   ]
  },
  {
   "cell_type": "markdown",
   "id": "acceptable-hierarchy",
   "metadata": {},
   "source": [
    "### TimeOutError\n",
    "Se produce cuando el tiempo de espera es excedido (lo veremos en Katas y en llamadas a APIs, no lo gestionaremos como tal)"
   ]
  },
  {
   "cell_type": "code",
   "execution_count": 30,
   "id": "a64a6490",
   "metadata": {},
   "outputs": [
    {
     "name": "stdout",
     "output_type": "stream",
     "text": [
      "CPU times: user 3 µs, sys: 1e+03 ns, total: 4 µs\n",
      "Wall time: 6.2 µs\n",
      "12\n",
      "34\n",
      "24\n",
      "7\n",
      "8\n",
      "9\n",
      "3\n"
     ]
    }
   ],
   "source": [
    "import time\n",
    "%time\n",
    "lista = [12,34,24,7,8,9,3]\n",
    "for elemento in lista:\n",
    "    time.sleep(1)\n",
    "    print(elemento)"
   ]
  },
  {
   "cell_type": "markdown",
   "id": "consecutive-division",
   "metadata": {},
   "source": [
    "## Gestión de excepciones\n",
    "La gestión o manejo de excepciones es una técnica de programación para controlar los errores producidos durante la ejecución de una aplicación. Se controlan de una forma parecida a una sentencia condicional. Si no se produce una excepción (General o específica), que sería el caso normal, la aplicación continua con las siguientes instrucciones y, si se produce una, se ejecutarán las instrucciones indicadas por el desarrollador para su tratamiento, lo que pueden continuar la aplicación o detenerla, dependiendo de casso. La gestión de excepciones en Python comienza con una estructura de palabras reservadas, de la siguiente forma:\n",
    "```python\n",
    "try:\n",
    "    instrucciones\n",
    "except:\n",
    "    instrucciones si ocurre esa excepción\n",
    "```"
   ]
  },
  {
   "cell_type": "markdown",
   "id": "civilian-trial",
   "metadata": {},
   "source": [
    "En esta gestión de excepciones el tipo de la excepción puede ser genérico o específico. Lo mejor para controlar y gestionar lo ocurrido es hacerlo de la manera más específica posible, escribiendo varias cláusulas except para el mismo try, de modo que cada una gestione un tipo distinto de excepción. Esto es recomendable porque así haremos una gestión más precisa de los casos de error detectados.\n",
    "```python\n",
    "try: \n",
    "    instruciones\n",
    "    except tipo de la excepción 1:\n",
    "        instrucciones si ocurre esa excepción 1\n",
    "    except tipo de la excepción 2:\n",
    "        instrucciones si ocurre esa excepción\n",
    "```"
   ]
  },
  {
   "cell_type": "code",
   "execution_count": 31,
   "id": "cross-border",
   "metadata": {},
   "outputs": [],
   "source": [
    "lista = [1,2,3,4, \"hola\", 5,6,7]"
   ]
  },
  {
   "cell_type": "code",
   "execution_count": 35,
   "id": "ahead-hobby",
   "metadata": {},
   "outputs": [
    {
     "data": {
      "text/plain": [
       "8"
      ]
     },
     "execution_count": 35,
     "metadata": {},
     "output_type": "execute_result"
    }
   ],
   "source": [
    "len(lista)"
   ]
  },
  {
   "cell_type": "code",
   "execution_count": 36,
   "id": "documentary-offset",
   "metadata": {},
   "outputs": [
    {
     "name": "stdout",
     "output_type": "stream",
     "text": [
      "6.4\n",
      "12.8\n",
      "19.200000000000003\n",
      "25.6\n"
     ]
    },
    {
     "ename": "TypeError",
     "evalue": "can't multiply sequence by non-int of type 'float'",
     "output_type": "error",
     "traceback": [
      "\u001b[0;31m---------------------------------------------------------------------------\u001b[0m",
      "\u001b[0;31mTypeError\u001b[0m                                 Traceback (most recent call last)",
      "\u001b[0;32m<ipython-input-36-cb6fb6cb37c3>\u001b[0m in \u001b[0;36m<module>\u001b[0;34m\u001b[0m\n\u001b[1;32m      1\u001b[0m \u001b[0;32mfor\u001b[0m \u001b[0mnum\u001b[0m \u001b[0;32min\u001b[0m \u001b[0mlista\u001b[0m\u001b[0;34m:\u001b[0m\u001b[0;34m\u001b[0m\u001b[0;34m\u001b[0m\u001b[0m\n\u001b[0;32m----> 2\u001b[0;31m     \u001b[0mprint\u001b[0m\u001b[0;34m(\u001b[0m\u001b[0mnum\u001b[0m \u001b[0;34m*\u001b[0m \u001b[0;36m6.4\u001b[0m\u001b[0;34m)\u001b[0m\u001b[0;34m\u001b[0m\u001b[0;34m\u001b[0m\u001b[0m\n\u001b[0m",
      "\u001b[0;31mTypeError\u001b[0m: can't multiply sequence by non-int of type 'float'"
     ]
    }
   ],
   "source": [
    "for num in lista:\n",
    "    print(num * 6.4)"
   ]
  },
  {
   "cell_type": "code",
   "execution_count": 41,
   "id": "ae0c9a9f",
   "metadata": {},
   "outputs": [
    {
     "name": "stdout",
     "output_type": "stream",
     "text": [
      "6.4\n",
      "12.8\n",
      "19.200000000000003\n",
      "25.6\n",
      "No puedo multiplicar hola * 6.4\n",
      "32.0\n",
      "38.400000000000006\n",
      "44.800000000000004\n",
      "256.0\n"
     ]
    }
   ],
   "source": [
    "for elemento in lista:\n",
    "    try:\n",
    "        print(elemento*6.4)\n",
    "    except TypeError:\n",
    "        print(f\"No puedo multiplicar {elemento} * 6.4\")"
   ]
  },
  {
   "cell_type": "code",
   "execution_count": 42,
   "id": "798416ba",
   "metadata": {},
   "outputs": [
    {
     "data": {
      "text/plain": [
       "[1, 2, 3, 4, 'hola', 5, 6, 7, 40]"
      ]
     },
     "execution_count": 42,
     "metadata": {},
     "output_type": "execute_result"
    }
   ],
   "source": [
    "lista"
   ]
  },
  {
   "cell_type": "code",
   "execution_count": 43,
   "id": "3f2469ad",
   "metadata": {},
   "outputs": [
    {
     "name": "stdout",
     "output_type": "stream",
     "text": [
      "6.4\n",
      "12.8\n",
      "19.200000000000003\n",
      "25.6\n",
      "No puedo multiplicar hola * 6.4\n",
      "32.0\n",
      "38.400000000000006\n",
      "44.800000000000004\n",
      "256.0\n"
     ]
    }
   ],
   "source": [
    "for elemento in lista:\n",
    "    try:\n",
    "        print(elemento*6.4)\n",
    "    except:\n",
    "        print(f\"No puedo multiplicar {elemento} * 6.4\")"
   ]
  },
  {
   "cell_type": "code",
   "execution_count": 45,
   "id": "tamil-phoenix",
   "metadata": {},
   "outputs": [
    {
     "name": "stdout",
     "output_type": "stream",
     "text": [
      "6.4\n",
      "12.8\n",
      "19.200000000000003\n",
      "25.6\n",
      "No puedo multiplicar 40 * 6.4\n",
      "32.0\n",
      "38.400000000000006\n",
      "44.800000000000004\n",
      "256.0\n",
      "se acabó la lista\n"
     ]
    }
   ],
   "source": [
    "for num in range(10):\n",
    "    try:\n",
    "        print(lista[num]*6.4)\n",
    "    except TypeError:\n",
    "        print(f\"No puedo multiplicar {elemento} * 6.4\")\n",
    "    except IndexError:\n",
    "        print(\"se acabó la lista\")"
   ]
  },
  {
   "cell_type": "markdown",
   "id": "naughty-company",
   "metadata": {},
   "source": [
    "### Lo que no debo hacer al manejar excepciones"
   ]
  },
  {
   "cell_type": "code",
   "execution_count": 46,
   "id": "passive-cursor",
   "metadata": {},
   "outputs": [],
   "source": [
    "lista_2 = [1,\"hola\",4,0,55,8,90,0]"
   ]
  },
  {
   "cell_type": "code",
   "execution_count": null,
   "id": "72553f41",
   "metadata": {},
   "outputs": [],
   "source": []
  },
  {
   "cell_type": "code",
   "execution_count": 47,
   "id": "adverse-globe",
   "metadata": {},
   "outputs": [
    {
     "name": "stdout",
     "output_type": "stream",
     "text": [
      "60.0\n",
      "Aquí hay un error\n",
      "15.0\n",
      "Aquí hay un error\n",
      "1.0909090909090908\n",
      "7.5\n",
      "0.6666666666666666\n",
      "Aquí hay un error\n"
     ]
    }
   ],
   "source": [
    "\"\"\"\n",
    "LO QUE NO HAY QUE HACER \n",
    "\"\"\"\n",
    "for num in lista_2:\n",
    "    time.sleep(1)\n",
    "    try:\n",
    "        print(60/num)\n",
    "    except:\n",
    "        print(\"Aquí hay un error\")"
   ]
  },
  {
   "cell_type": "code",
   "execution_count": 48,
   "id": "66735c74",
   "metadata": {},
   "outputs": [
    {
     "name": "stdout",
     "output_type": "stream",
     "text": [
      "60.0\n",
      "Aquí hay un error\n",
      "15.0\n",
      "Aquí hay un error\n",
      "1.0909090909090908\n",
      "7.5\n",
      "0.6666666666666666\n",
      "Aquí hay un error\n"
     ]
    }
   ],
   "source": [
    "\"\"\"\n",
    "LO QUE NO HAY QUE HACER \n",
    "\"\"\"\n",
    "for num in lista_2:\n",
    "    time.sleep(1)\n",
    "    try:\n",
    "        print(60/num)\n",
    "    except Exception:\n",
    "        print(\"Aquí hay un error\")"
   ]
  },
  {
   "cell_type": "code",
   "execution_count": 49,
   "id": "d0d0aebb",
   "metadata": {},
   "outputs": [
    {
     "data": {
      "text/plain": [
       "[1, 'hola', 4, 0, 55, 8, 90, 0]"
      ]
     },
     "execution_count": 49,
     "metadata": {},
     "output_type": "execute_result"
    }
   ],
   "source": [
    "lista_2"
   ]
  },
  {
   "cell_type": "code",
   "execution_count": 50,
   "id": "b632e7be",
   "metadata": {},
   "outputs": [
    {
     "name": "stdout",
     "output_type": "stream",
     "text": [
      "60.0\n",
      "Aquí hay un error\n",
      "15.0\n",
      "Aquí hay un error\n",
      "1.0909090909090908\n",
      "7.5\n",
      "0.6666666666666666\n",
      "Aquí hay un error\n"
     ]
    }
   ],
   "source": [
    "\"\"\"\n",
    "LO QUE NO HAY QUE HACER \n",
    "\"\"\"\n",
    "for num in lista_2:\n",
    "    time.sleep(1)\n",
    "    try:\n",
    "        print(60/num)\n",
    "    except Exception:\n",
    "        print(\"Aquí hay un error\")\n",
    "    except ZeroDivisionError:\n",
    "        print(\"No puedo dividir entre cero\")"
   ]
  },
  {
   "cell_type": "markdown",
   "id": "partial-belly",
   "metadata": {},
   "source": [
    "- Capturamos las excepciones POR TIPO (es decir, siempre ponemos except TypeError, o ValueError\n",
    "- Si ponemos except solo --> Lo ponemos al final\n",
    "- Si ponemos Exception SE COME TODOS LOS ERRORES, por tanto no estamos siendo específicas con los errores, en la celda anterior NUNCA va a devolvernos TypeError porque Exception lo captura antes.\n",
    "- En este caso, si necesitamos poner Exception LO PONEMOS TAMBIÉN AL FINAL"
   ]
  },
  {
   "cell_type": "code",
   "execution_count": null,
   "id": "alpine-guide",
   "metadata": {},
   "outputs": [],
   "source": [
    "#### Otro ejemplo con IndexError"
   ]
  },
  {
   "cell_type": "code",
   "execution_count": 51,
   "id": "changed-hampton",
   "metadata": {},
   "outputs": [],
   "source": [
    "lista = [\"Dobby\", \"Café\", \"Covid\"]"
   ]
  },
  {
   "cell_type": "code",
   "execution_count": 57,
   "id": "square-resource",
   "metadata": {},
   "outputs": [],
   "source": [
    "def funcion_mayus(lista):\n",
    "    vacia = []\n",
    "    for e in range(4):\n",
    "        try:\n",
    "            vacia.append(lista[e].upper())\n",
    "        except IndexError as variable:\n",
    "            print(variable)\n",
    "            vacia.append(variable)\n",
    "    return vacia"
   ]
  },
  {
   "cell_type": "code",
   "execution_count": 58,
   "id": "terminal-japan",
   "metadata": {},
   "outputs": [
    {
     "name": "stdout",
     "output_type": "stream",
     "text": [
      "list index out of range\n"
     ]
    }
   ],
   "source": [
    "guardamos = funcion_mayus(lista)"
   ]
  },
  {
   "cell_type": "code",
   "execution_count": 59,
   "id": "southeast-decline",
   "metadata": {},
   "outputs": [
    {
     "data": {
      "text/plain": [
       "['DOBBY', 'CAFÉ', 'COVID', IndexError('list index out of range')]"
      ]
     },
     "execution_count": 59,
     "metadata": {},
     "output_type": "execute_result"
    }
   ],
   "source": [
    "guardamos"
   ]
  },
  {
   "cell_type": "code",
   "execution_count": 60,
   "id": "444251d2",
   "metadata": {},
   "outputs": [],
   "source": [
    "lista_2 = [\"Dobby\", 2, \"Café\", \"Covid\"]"
   ]
  },
  {
   "cell_type": "code",
   "execution_count": 63,
   "id": "extended-armenia",
   "metadata": {},
   "outputs": [],
   "source": [
    "# SÉ QUE VA A FALLAR PERO NO SÉ POR QUÉ, PONGO EXCEPTION Y CAPTURO EL ERROR\n",
    "def funcion_mayus_exception(lista):\n",
    "    vacia = []\n",
    "    for e in range(5):\n",
    "        try:\n",
    "            vacia.append(lista[e].upper())\n",
    "        except Exception as variable:\n",
    "            print(variable)\n",
    "            print(type(variable))\n",
    "            vacia.append(\"ERROR\")\n",
    "    return vacia"
   ]
  },
  {
   "cell_type": "code",
   "execution_count": 64,
   "id": "speaking-american",
   "metadata": {},
   "outputs": [
    {
     "name": "stdout",
     "output_type": "stream",
     "text": [
      "'int' object has no attribute 'upper'\n",
      "<class 'AttributeError'>\n",
      "list index out of range\n",
      "<class 'IndexError'>\n"
     ]
    }
   ],
   "source": [
    "guardo_otra = funcion_mayus_exception(lista_2)"
   ]
  },
  {
   "cell_type": "markdown",
   "id": "overall-daniel",
   "metadata": {},
   "source": [
    "## Validación de datos con `assert`"
   ]
  },
  {
   "cell_type": "markdown",
   "id": "basic-while",
   "metadata": {},
   "source": [
    "Python facilita una forma de establecer condiciones de obligado cunmplimiento, es decir, condiciones que debe cumplir un objeto o, de lo contrario, se producirá una excepción. Es como una especie de \"red de seguridad\" ante posibles fallos del programador. La instrucción `assert` añade controles para la depuración de un programa. Nos permite expresar una condición que ha de ser cierta siempre, y que, de no serlo interrumpirá el programa, generando una excepción que controlar llamada AssertionError. La forma de llamar a esta expresión es la siguiente:\n",
    "```python\n",
    "assert condición booleana\n",
    "```\n",
    "En caso de que la expresión booleana sea verdadera, assert no hace nada. En caso de que sea falsa, dispara una excepción. Veamos un ejemplo para entenderlo."
   ]
  },
  {
   "cell_type": "code",
   "execution_count": 66,
   "id": "latest-holmes",
   "metadata": {},
   "outputs": [],
   "source": [
    "assert 1 == 1, \"la condición es falsa\""
   ]
  },
  {
   "cell_type": "code",
   "execution_count": 67,
   "id": "valued-lending",
   "metadata": {},
   "outputs": [
    {
     "ename": "AssertionError",
     "evalue": "La condición es falsa",
     "output_type": "error",
     "traceback": [
      "\u001b[0;31m---------------------------------------------------------------------------\u001b[0m",
      "\u001b[0;31mAssertionError\u001b[0m                            Traceback (most recent call last)",
      "\u001b[0;32m<ipython-input-67-481ef0aedc23>\u001b[0m in \u001b[0;36m<module>\u001b[0;34m\u001b[0m\n\u001b[0;32m----> 1\u001b[0;31m \u001b[0;32massert\u001b[0m \u001b[0;36m1\u001b[0m \u001b[0;34m==\u001b[0m \u001b[0;36m2\u001b[0m\u001b[0;34m,\u001b[0m \u001b[0;34m\"La condición es falsa\"\u001b[0m\u001b[0;34m\u001b[0m\u001b[0;34m\u001b[0m\u001b[0m\n\u001b[0m",
      "\u001b[0;31mAssertionError\u001b[0m: La condición es falsa"
     ]
    }
   ],
   "source": [
    "assert 1 == 2, \"La condición es falsa\""
   ]
  },
  {
   "cell_type": "code",
   "execution_count": 68,
   "id": "d5ab5591",
   "metadata": {},
   "outputs": [],
   "source": [
    "variable = lista.pop()"
   ]
  },
  {
   "cell_type": "code",
   "execution_count": 69,
   "id": "25be0997",
   "metadata": {},
   "outputs": [
    {
     "data": {
      "text/plain": [
       "'Covid'"
      ]
     },
     "execution_count": 69,
     "metadata": {},
     "output_type": "execute_result"
    }
   ],
   "source": [
    "variable"
   ]
  },
  {
   "cell_type": "code",
   "execution_count": 70,
   "id": "d3198032",
   "metadata": {},
   "outputs": [
    {
     "data": {
      "text/plain": [
       "['Dobby', 'Café']"
      ]
     },
     "execution_count": 70,
     "metadata": {},
     "output_type": "execute_result"
    }
   ],
   "source": [
    "lista"
   ]
  },
  {
   "cell_type": "code",
   "execution_count": 71,
   "id": "historic-jacob",
   "metadata": {},
   "outputs": [
    {
     "name": "stdout",
     "output_type": "stream",
     "text": [
      "[1, 2, 3, 4, 5]\n",
      "[1, 2, 3, 4]\n",
      "12\n",
      "LA CONDICIÓN ES FALSA\n",
      "[5, 4]\n"
     ]
    }
   ],
   "source": [
    "lista = [1,2,3,4,5]\n",
    "nueva = []\n",
    "try:\n",
    "    for n in lista:\n",
    "        assert len(lista) > 3 # condición que se tiene que cumplir, cuando sean 3 elementos esto se pondrá a FALSE\n",
    "        print(lista) #vamos imprimiendo la lista en cada iteración\n",
    "        nueva.append(lista.pop())\n",
    "except AssertionError:\n",
    "    print(3*4)\n",
    "    print(\"LA CONDICIÓN ES FALSA\")\n",
    "    \n",
    "    \n",
    "print(nueva) # ESTE PRINT está fuera del bucle, se ejecuta después de todo el código anterior"
   ]
  },
  {
   "cell_type": "code",
   "execution_count": 72,
   "id": "turkish-transmission",
   "metadata": {},
   "outputs": [
    {
     "ename": "AssertionError",
     "evalue": "",
     "output_type": "error",
     "traceback": [
      "\u001b[0;31m---------------------------------------------------------------------------\u001b[0m",
      "\u001b[0;31mAssertionError\u001b[0m                            Traceback (most recent call last)",
      "\u001b[0;32m<ipython-input-72-a6052be03c2d>\u001b[0m in \u001b[0;36m<module>\u001b[0;34m\u001b[0m\n\u001b[1;32m      1\u001b[0m \u001b[0;32mfor\u001b[0m \u001b[0mn\u001b[0m \u001b[0;32min\u001b[0m \u001b[0mlista\u001b[0m\u001b[0;34m:\u001b[0m\u001b[0;34m\u001b[0m\u001b[0;34m\u001b[0m\u001b[0m\n\u001b[0;32m----> 2\u001b[0;31m     \u001b[0;32massert\u001b[0m \u001b[0mlen\u001b[0m\u001b[0;34m(\u001b[0m\u001b[0mlista\u001b[0m\u001b[0;34m)\u001b[0m \u001b[0;34m>\u001b[0m \u001b[0;36m3\u001b[0m \u001b[0;31m# condición que se tiene que cumplir, cuando sean 3 elementos esto se pondrá a FALSE\u001b[0m\u001b[0;34m\u001b[0m\u001b[0;34m\u001b[0m\u001b[0m\n\u001b[0m\u001b[1;32m      3\u001b[0m     \u001b[0mprint\u001b[0m\u001b[0;34m(\u001b[0m\u001b[0mlista\u001b[0m\u001b[0;34m)\u001b[0m \u001b[0;31m#vamos imprimiendo la lista en cada iteración\u001b[0m\u001b[0;34m\u001b[0m\u001b[0;34m\u001b[0m\u001b[0m\n\u001b[1;32m      4\u001b[0m     \u001b[0mnueva\u001b[0m\u001b[0;34m.\u001b[0m\u001b[0mappend\u001b[0m\u001b[0;34m(\u001b[0m\u001b[0mlista\u001b[0m\u001b[0;34m.\u001b[0m\u001b[0mpop\u001b[0m\u001b[0;34m(\u001b[0m\u001b[0;34m)\u001b[0m\u001b[0;34m)\u001b[0m\u001b[0;34m\u001b[0m\u001b[0;34m\u001b[0m\u001b[0m\n",
      "\u001b[0;31mAssertionError\u001b[0m: "
     ]
    }
   ],
   "source": [
    "for n in lista:\n",
    "    assert len(lista) > 3 # condición que se tiene que cumplir, cuando sean 3 elementos esto se pondrá a FALSE\n",
    "    print(lista) #vamos imprimiendo la lista en cada iteración\n",
    "    nueva.append(lista.pop())"
   ]
  },
  {
   "cell_type": "code",
   "execution_count": 75,
   "id": "northern-cream",
   "metadata": {},
   "outputs": [
    {
     "name": "stdout",
     "output_type": "stream",
     "text": [
      "[1, 2, 'hola', 3, 4, 5]\n",
      "[1, 2, 'hola', 3, 4]\n",
      "[1, 2, 'hola', 3]\n",
      "no es un entero\n",
      "LA CONDICIÓN ES FALSA\n",
      "[5, 4]\n"
     ]
    }
   ],
   "source": [
    "lista = [1,2,\"hola\",3,4,5, \"5\"]\n",
    "nueva = []\n",
    "try:\n",
    "    for n in lista:\n",
    "        assert len(lista) > 3, \"la condición es falsa\" # condición que se tiene que cumplir, cuando sean 3 elementos esto se pondrá a FALSE\n",
    "        print(lista) #vamos imprimiendo la lista en cada iteración\n",
    "        assert type(n) == int, \"no es un entero\"\n",
    "        nueva.append(lista.pop())\n",
    "except AssertionError as err:\n",
    "    print(err)\n",
    "    print(\"LA CONDICIÓN ES FALSA\")\n",
    "    \n",
    "    \n",
    "print(nueva)"
   ]
  },
  {
   "cell_type": "markdown",
   "id": "excited-cincinnati",
   "metadata": {},
   "source": [
    "## Lanzar errores\n",
    "Escribimos una función que multiplique un número por 2 siempre y cuando el argumento que entre sea un entero"
   ]
  },
  {
   "cell_type": "code",
   "execution_count": 81,
   "id": "current-smart",
   "metadata": {},
   "outputs": [],
   "source": [
    "def multiplica(n):\n",
    "    if type(n) == int:\n",
    "        return n * 2\n",
    "    else:\n",
    "        raise TypeError"
   ]
  },
  {
   "cell_type": "code",
   "execution_count": 82,
   "id": "objective-sodium",
   "metadata": {},
   "outputs": [
    {
     "data": {
      "text/plain": [
       "6"
      ]
     },
     "execution_count": 82,
     "metadata": {},
     "output_type": "execute_result"
    }
   ],
   "source": [
    "multiplica(3)"
   ]
  },
  {
   "cell_type": "code",
   "execution_count": 83,
   "id": "backed-namibia",
   "metadata": {},
   "outputs": [
    {
     "ename": "TypeError",
     "evalue": "",
     "output_type": "error",
     "traceback": [
      "\u001b[0;31m---------------------------------------------------------------------------\u001b[0m",
      "\u001b[0;31mTypeError\u001b[0m                                 Traceback (most recent call last)",
      "\u001b[0;32m<ipython-input-83-1802fed162e0>\u001b[0m in \u001b[0;36m<module>\u001b[0;34m\u001b[0m\n\u001b[0;32m----> 1\u001b[0;31m \u001b[0mmultiplica\u001b[0m\u001b[0;34m(\u001b[0m\u001b[0;34m\"hola\"\u001b[0m\u001b[0;34m)\u001b[0m\u001b[0;34m\u001b[0m\u001b[0;34m\u001b[0m\u001b[0m\n\u001b[0m",
      "\u001b[0;32m<ipython-input-81-67ca09a7eedc>\u001b[0m in \u001b[0;36mmultiplica\u001b[0;34m(n)\u001b[0m\n\u001b[1;32m      3\u001b[0m         \u001b[0;32mreturn\u001b[0m \u001b[0mn\u001b[0m \u001b[0;34m*\u001b[0m \u001b[0;36m2\u001b[0m\u001b[0;34m\u001b[0m\u001b[0;34m\u001b[0m\u001b[0m\n\u001b[1;32m      4\u001b[0m     \u001b[0;32melse\u001b[0m\u001b[0;34m:\u001b[0m\u001b[0;34m\u001b[0m\u001b[0;34m\u001b[0m\u001b[0m\n\u001b[0;32m----> 5\u001b[0;31m         \u001b[0;32mraise\u001b[0m \u001b[0mTypeError\u001b[0m\u001b[0;34m\u001b[0m\u001b[0;34m\u001b[0m\u001b[0m\n\u001b[0m",
      "\u001b[0;31mTypeError\u001b[0m: "
     ]
    }
   ],
   "source": [
    "multiplica(\"hola\")"
   ]
  },
  {
   "cell_type": "code",
   "execution_count": 90,
   "id": "determined-aurora",
   "metadata": {},
   "outputs": [],
   "source": [
    "def multiplica_tuneada(n):\n",
    "    if type(n) == int:\n",
    "        return n * 2\n",
    "    else:\n",
    "        raise TypeError (f\"Esta función espera un entero y tú le has pasado '{n}' que es un '{type(n)}'\")"
   ]
  },
  {
   "cell_type": "code",
   "execution_count": 88,
   "id": "progressive-biodiversity",
   "metadata": {},
   "outputs": [
    {
     "ename": "NameError",
     "evalue": "name 'Paco' is not defined",
     "output_type": "error",
     "traceback": [
      "\u001b[0;31m---------------------------------------------------------------------------\u001b[0m",
      "\u001b[0;31mNameError\u001b[0m                                 Traceback (most recent call last)",
      "\u001b[0;32m<ipython-input-88-b54e7d4b06a4>\u001b[0m in \u001b[0;36m<module>\u001b[0;34m\u001b[0m\n\u001b[0;32m----> 1\u001b[0;31m \u001b[0mmultiplica_tuneada\u001b[0m\u001b[0;34m(\u001b[0m\u001b[0;34m\"hola\"\u001b[0m\u001b[0;34m)\u001b[0m\u001b[0;34m\u001b[0m\u001b[0;34m\u001b[0m\u001b[0m\n\u001b[0m",
      "\u001b[0;32m<ipython-input-87-040388b58cfc>\u001b[0m in \u001b[0;36mmultiplica_tuneada\u001b[0;34m(n)\u001b[0m\n\u001b[1;32m      3\u001b[0m         \u001b[0;32mreturn\u001b[0m \u001b[0mn\u001b[0m \u001b[0;34m*\u001b[0m \u001b[0;36m2\u001b[0m\u001b[0;34m\u001b[0m\u001b[0;34m\u001b[0m\u001b[0m\n\u001b[1;32m      4\u001b[0m     \u001b[0;32melse\u001b[0m\u001b[0;34m:\u001b[0m\u001b[0;34m\u001b[0m\u001b[0;34m\u001b[0m\u001b[0m\n\u001b[0;32m----> 5\u001b[0;31m         \u001b[0;32mraise\u001b[0m \u001b[0mPaco\u001b[0m \u001b[0;34m(\u001b[0m\u001b[0;34mf\"Esta función espera un entero y tú le has pasado '{n}' que es un '{type(n)}'\"\u001b[0m\u001b[0;34m)\u001b[0m\u001b[0;34m\u001b[0m\u001b[0;34m\u001b[0m\u001b[0m\n\u001b[0m",
      "\u001b[0;31mNameError\u001b[0m: name 'Paco' is not defined"
     ]
    }
   ],
   "source": [
    "multiplica_tuneada(\"hola\")"
   ]
  },
  {
   "cell_type": "code",
   "execution_count": 89,
   "id": "daddabc6",
   "metadata": {},
   "outputs": [
    {
     "ename": "NameError",
     "evalue": "name 'Paco' is not defined",
     "output_type": "error",
     "traceback": [
      "\u001b[0;31m---------------------------------------------------------------------------\u001b[0m",
      "\u001b[0;31mNameError\u001b[0m                                 Traceback (most recent call last)",
      "\u001b[0;32m<ipython-input-89-00bbe93cfeab>\u001b[0m in \u001b[0;36m<module>\u001b[0;34m\u001b[0m\n\u001b[0;32m----> 1\u001b[0;31m \u001b[0mmultiplica_tuneada\u001b[0m\u001b[0;34m(\u001b[0m\u001b[0mlista\u001b[0m\u001b[0;34m)\u001b[0m\u001b[0;34m\u001b[0m\u001b[0;34m\u001b[0m\u001b[0m\n\u001b[0m",
      "\u001b[0;32m<ipython-input-87-040388b58cfc>\u001b[0m in \u001b[0;36mmultiplica_tuneada\u001b[0;34m(n)\u001b[0m\n\u001b[1;32m      3\u001b[0m         \u001b[0;32mreturn\u001b[0m \u001b[0mn\u001b[0m \u001b[0;34m*\u001b[0m \u001b[0;36m2\u001b[0m\u001b[0;34m\u001b[0m\u001b[0;34m\u001b[0m\u001b[0m\n\u001b[1;32m      4\u001b[0m     \u001b[0;32melse\u001b[0m\u001b[0;34m:\u001b[0m\u001b[0;34m\u001b[0m\u001b[0;34m\u001b[0m\u001b[0m\n\u001b[0;32m----> 5\u001b[0;31m         \u001b[0;32mraise\u001b[0m \u001b[0mPaco\u001b[0m \u001b[0;34m(\u001b[0m\u001b[0;34mf\"Esta función espera un entero y tú le has pasado '{n}' que es un '{type(n)}'\"\u001b[0m\u001b[0;34m)\u001b[0m\u001b[0;34m\u001b[0m\u001b[0;34m\u001b[0m\u001b[0m\n\u001b[0m",
      "\u001b[0;31mNameError\u001b[0m: name 'Paco' is not defined"
     ]
    }
   ],
   "source": [
    "multiplica_tuneada(lista)"
   ]
  },
  {
   "cell_type": "markdown",
   "id": "enabling-belfast",
   "metadata": {},
   "source": [
    "Solicitamos al usuario que introduzca el carácter c para continuar o el carácter f para finalizar. Sin embargo, no podemos asegurar que siempre vaya a introducir alguno de estos caracteres. Por ello, creamos nuestra propia excepción, a la cual llamamos MiExcepcion. De esta manera, si el usuario introduce un carácter distinto a c y f se lanzará la excepción creada y se mostrará un mensaje de error indicando que el carácter introducido no es válido."
   ]
  },
  {
   "cell_type": "code",
   "execution_count": 101,
   "id": "graduate-thickness",
   "metadata": {},
   "outputs": [],
   "source": [
    "class Paco(Exception):\n",
    "    def __init__(self, stringdescriptivo):\n",
    "        self.valor = stringdescriptivo\n",
    "    \n",
    "    def __str__(self):\n",
    "        return f\"ERROR  {self.valor}\""
   ]
  },
  {
   "cell_type": "code",
   "execution_count": 102,
   "id": "traditional-contribution",
   "metadata": {},
   "outputs": [
    {
     "name": "stdout",
     "output_type": "stream",
     "text": [
      "Introduce c para comenzar o f para finalizar l\n",
      "ERROR  l no es válido\n"
     ]
    }
   ],
   "source": [
    "try:\n",
    "    fin = False\n",
    "    while not fin:\n",
    "        entrada = input(\"Introduce c para comenzar o f para finalizar \")\n",
    "        if entrada != \"c\" and entrada != \"f\":\n",
    "            raise Paco(f\"{entrada} no es válido\")\n",
    "        elif entrada == \"f\":\n",
    "            fin = True\n",
    "except Paco as err:\n",
    "    print(err)"
   ]
  },
  {
   "cell_type": "code",
   "execution_count": 95,
   "id": "468938e1",
   "metadata": {},
   "outputs": [
    {
     "name": "stdout",
     "output_type": "stream",
     "text": [
      "Introduce c para comenzar o f para finalizar l\n",
      "l no es válido\n"
     ]
    }
   ],
   "source": [
    "try:\n",
    "    fin = False\n",
    "    while not fin:\n",
    "        entrada = input(\"Introduce c para comenzar o f para finalizar \")\n",
    "        if entrada != \"c\" and entrada != \"f\":\n",
    "            raise Exception (f\"{entrada} no es válido\")\n",
    "        elif entrada == \"f\":\n",
    "            fin = True\n",
    "except Exception as err:\n",
    "    print(err)"
   ]
  },
  {
   "cell_type": "markdown",
   "id": "ready-track",
   "metadata": {},
   "source": [
    "## Resumen\n",
    "Es tu turno ¿qué hemos aprendido hoy?\n",
    "- Tipos de errores\n",
    "- Leer mensajes de error\n",
    "- se llaman excepciones \n",
    "- El mensaje nos dice la línea de código donde está el error\n",
    "- Raise para lanzar nuestros mensajes de error\n",
    "- Try except sirve para que no se pare el programa\n",
    "- Crear nuestras propias clases de error (heredando de otras ya existentes)\n"
   ]
  }
 ],
 "metadata": {
  "kernelspec": {
   "display_name": "ironhack",
   "language": "python",
   "name": "ironhack"
  },
  "language_info": {
   "codemirror_mode": {
    "name": "ipython",
    "version": 3
   },
   "file_extension": ".py",
   "mimetype": "text/x-python",
   "name": "python",
   "nbconvert_exporter": "python",
   "pygments_lexer": "ipython3",
   "version": "3.8.5"
  },
  "toc": {
   "base_numbering": 1,
   "nav_menu": {},
   "number_sections": true,
   "sideBar": true,
   "skip_h1_title": true,
   "title_cell": "Table of Contents",
   "title_sidebar": "Contents",
   "toc_cell": true,
   "toc_position": {},
   "toc_section_display": true,
   "toc_window_display": false
  }
 },
 "nbformat": 4,
 "nbformat_minor": 5
}
