{
 "cells": [
  {
   "cell_type": "markdown",
   "id": "09727ac3",
   "metadata": {},
   "source": [
    "### Functions\n",
    "- A block of code used to perform special task\n",
    "- Code reusability\n",
    "- Types\n",
    "    - Pre-Defined\n",
    "    - User-Defined"
   ]
  },
  {
   "cell_type": "code",
   "execution_count": 1,
   "id": "4b1c6a92",
   "metadata": {
    "collapsed": true
   },
   "outputs": [
    {
     "name": "stdout",
     "output_type": "stream",
     "text": [
      "['In', 'Out', '_', '__', '___', '__builtin__', '__builtins__', '__doc__', '__loader__', '__name__', '__package__', '__spec__', '_dh', '_i', '_i1', '_ih', '_ii', '_iii', '_oh', 'exit', 'get_ipython', 'quit']\n"
     ]
    }
   ],
   "source": [
    "# Pre-Defined functions\n",
    "print(dir())"
   ]
  },
  {
   "cell_type": "code",
   "execution_count": 2,
   "id": "8fcc1ae7",
   "metadata": {
    "collapsed": true
   },
   "outputs": [
    {
     "name": "stdout",
     "output_type": "stream",
     "text": [
      "['ArithmeticError', 'AssertionError', 'AttributeError', 'BaseException', 'BlockingIOError', 'BrokenPipeError', 'BufferError', 'BytesWarning', 'ChildProcessError', 'ConnectionAbortedError', 'ConnectionError', 'ConnectionRefusedError', 'ConnectionResetError', 'DeprecationWarning', 'EOFError', 'Ellipsis', 'EnvironmentError', 'Exception', 'False', 'FileExistsError', 'FileNotFoundError', 'FloatingPointError', 'FutureWarning', 'GeneratorExit', 'IOError', 'ImportError', 'ImportWarning', 'IndentationError', 'IndexError', 'InterruptedError', 'IsADirectoryError', 'KeyError', 'KeyboardInterrupt', 'LookupError', 'MemoryError', 'ModuleNotFoundError', 'NameError', 'None', 'NotADirectoryError', 'NotImplemented', 'NotImplementedError', 'OSError', 'OverflowError', 'PendingDeprecationWarning', 'PermissionError', 'ProcessLookupError', 'RecursionError', 'ReferenceError', 'ResourceWarning', 'RuntimeError', 'RuntimeWarning', 'StopAsyncIteration', 'StopIteration', 'SyntaxError', 'SyntaxWarning', 'SystemError', 'SystemExit', 'TabError', 'TimeoutError', 'True', 'TypeError', 'UnboundLocalError', 'UnicodeDecodeError', 'UnicodeEncodeError', 'UnicodeError', 'UnicodeTranslateError', 'UnicodeWarning', 'UserWarning', 'ValueError', 'Warning', 'WindowsError', 'ZeroDivisionError', '__IPYTHON__', '__build_class__', '__debug__', '__doc__', '__import__', '__loader__', '__name__', '__package__', '__spec__', 'abs', 'all', 'any', 'ascii', 'bin', 'bool', 'breakpoint', 'bytearray', 'bytes', 'callable', 'chr', 'classmethod', 'compile', 'complex', 'copyright', 'credits', 'delattr', 'dict', 'dir', 'display', 'divmod', 'enumerate', 'eval', 'exec', 'filter', 'float', 'format', 'frozenset', 'get_ipython', 'getattr', 'globals', 'hasattr', 'hash', 'help', 'hex', 'id', 'input', 'int', 'isinstance', 'issubclass', 'iter', 'len', 'license', 'list', 'locals', 'map', 'max', 'memoryview', 'min', 'next', 'object', 'oct', 'open', 'ord', 'pow', 'print', 'property', 'range', 'repr', 'reversed', 'round', 'set', 'setattr', 'slice', 'sorted', 'staticmethod', 'str', 'sum', 'super', 'tuple', 'type', 'vars', 'zip']\n"
     ]
    }
   ],
   "source": [
    "print(dir(__builtins__))"
   ]
  },
  {
   "cell_type": "code",
   "execution_count": 4,
   "id": "515066fa",
   "metadata": {
    "collapsed": true
   },
   "outputs": [
    {
     "data": {
      "text/plain": [
       "32"
      ]
     },
     "execution_count": 4,
     "metadata": {},
     "output_type": "execute_result"
    }
   ],
   "source": [
    "ord('a')\n",
    "ord(' ')"
   ]
  },
  {
   "cell_type": "code",
   "execution_count": 5,
   "id": "a170c1b6",
   "metadata": {
    "collapsed": true
   },
   "outputs": [
    {
     "data": {
      "text/plain": [
       "'C'"
      ]
     },
     "execution_count": 5,
     "metadata": {},
     "output_type": "execute_result"
    }
   ],
   "source": [
    "chr(67)"
   ]
  },
  {
   "cell_type": "code",
   "execution_count": 6,
   "id": "4969a0b1",
   "metadata": {
    "collapsed": true
   },
   "outputs": [
    {
     "data": {
      "text/plain": [
       "90"
      ]
     },
     "execution_count": 6,
     "metadata": {},
     "output_type": "execute_result"
    }
   ],
   "source": [
    "abs(-90)"
   ]
  },
  {
   "cell_type": "code",
   "execution_count": 9,
   "id": "df2e019b",
   "metadata": {
    "collapsed": true
   },
   "outputs": [
    {
     "data": {
      "text/plain": [
       "(4, 4, 3)"
      ]
     },
     "execution_count": 9,
     "metadata": {},
     "output_type": "execute_result"
    }
   ],
   "source": [
    "round(3.7), round(3.5), round(3.4)"
   ]
  },
  {
   "cell_type": "code",
   "execution_count": 10,
   "id": "8b5862b4",
   "metadata": {
    "collapsed": true
   },
   "outputs": [
    {
     "data": {
      "text/plain": [
       "104"
      ]
     },
     "execution_count": 10,
     "metadata": {},
     "output_type": "execute_result"
    }
   ],
   "source": [
    "sum((10,4,90))"
   ]
  },
  {
   "cell_type": "markdown",
   "id": "9cc47942",
   "metadata": {},
   "source": [
    "**User-Defined Functions**\n",
    "- Syntax:\n",
    "```Python\n",
    "def func_Name(arg1, arg2, ..., argN):\n",
    "    block of code\n",
    "    \n",
    "func_Name(parameter1,parameter2,...,parameterN)```"
   ]
  },
  {
   "cell_type": "code",
   "execution_count": 12,
   "id": "eadd5353",
   "metadata": {
    "collapsed": true
   },
   "outputs": [
    {
     "data": {
      "text/plain": [
       "int"
      ]
     },
     "execution_count": 12,
     "metadata": {},
     "output_type": "execute_result"
    }
   ],
   "source": [
    "num1 = 5\n",
    "num2 = 10\n",
    "type(num1 + num2)"
   ]
  },
  {
   "cell_type": "code",
   "execution_count": 13,
   "id": "5a0d872b",
   "metadata": {},
   "outputs": [],
   "source": [
    "def addition1(num1, num2):\n",
    "    return num1 + num2"
   ]
  },
  {
   "cell_type": "code",
   "execution_count": 14,
   "id": "bb7af32a",
   "metadata": {
    "collapsed": true
   },
   "outputs": [
    {
     "data": {
      "text/plain": [
       "15"
      ]
     },
     "execution_count": 14,
     "metadata": {},
     "output_type": "execute_result"
    }
   ],
   "source": [
    "addition1(5, 10)"
   ]
  },
  {
   "cell_type": "code",
   "execution_count": 15,
   "id": "b6b99c66",
   "metadata": {
    "collapsed": true
   },
   "outputs": [
    {
     "data": {
      "text/plain": [
       "50"
      ]
     },
     "execution_count": 15,
     "metadata": {},
     "output_type": "execute_result"
    }
   ],
   "source": [
    "addition1(20, 30)# Code Reusability"
   ]
  },
  {
   "cell_type": "code",
   "execution_count": 16,
   "id": "f3616e08",
   "metadata": {},
   "outputs": [
    {
     "data": {
      "text/plain": [
       "function"
      ]
     },
     "execution_count": 16,
     "metadata": {},
     "output_type": "execute_result"
    }
   ],
   "source": [
    "type(addition1)"
   ]
  },
  {
   "cell_type": "code",
   "execution_count": 17,
   "id": "f193fb75",
   "metadata": {},
   "outputs": [],
   "source": [
    "def even_odd(arg1):\n",
    "    if arg1%2 == 0:\n",
    "        return True\n",
    "    else:\n",
    "        return False"
   ]
  },
  {
   "cell_type": "code",
   "execution_count": 19,
   "id": "74e995d4",
   "metadata": {
    "collapsed": true
   },
   "outputs": [
    {
     "name": "stdout",
     "output_type": "stream",
     "text": [
      "False\n",
      "True\n"
     ]
    }
   ],
   "source": [
    "print(even_odd(333))\n",
    "print(even_odd(336))"
   ]
  },
  {
   "cell_type": "code",
   "execution_count": 32,
   "id": "532ba392",
   "metadata": {
    "collapsed": true
   },
   "outputs": [
    {
     "name": "stdout",
     "output_type": "stream",
     "text": [
      "None\n",
      "26\n",
      "None\n",
      "28\n",
      "None\n",
      "30\n",
      "None\n",
      "32\n",
      "None\n",
      "34\n",
      "None\n",
      "36\n",
      "None\n",
      "38\n",
      "None\n",
      "40\n",
      "None\n",
      "42\n",
      "None\n",
      "44\n",
      "None\n",
      "46\n",
      "None\n",
      "48\n",
      "None\n",
      "50\n",
      "None\n",
      "52\n",
      "None\n",
      "54\n",
      "None\n",
      "56\n",
      "None\n",
      "58\n",
      "None\n",
      "60\n",
      "None\n",
      "62\n",
      "None\n",
      "64\n"
     ]
    }
   ],
   "source": [
    "def even_odd(arg1):\n",
    "    if arg1%2 == 0:\n",
    "        return arg1\n",
    "\n",
    "for i in range(25, 65):\n",
    "    print(even_odd(i))"
   ]
  },
  {
   "cell_type": "markdown",
   "id": "baca0b28",
   "metadata": {},
   "source": [
    "**Types of Arguments**\n",
    "- Keyword argument\n",
    "- Default argument\n",
    "- Variable length argument\n",
    "- Keyword Length argument"
   ]
  },
  {
   "cell_type": "code",
   "execution_count": 33,
   "id": "24b70caa",
   "metadata": {},
   "outputs": [],
   "source": [
    "# 1. Keyword Argument\n",
    "## Synatx: keyword = value\n",
    "def student_details(roll, branch, year):\n",
    "    return roll, branch, year"
   ]
  },
  {
   "cell_type": "code",
   "execution_count": 34,
   "id": "b9a66620",
   "metadata": {
    "collapsed": true
   },
   "outputs": [
    {
     "data": {
      "text/plain": [
       "(1112, 'CSE', 2)"
      ]
     },
     "execution_count": 34,
     "metadata": {},
     "output_type": "execute_result"
    }
   ],
   "source": [
    "student_details(roll = 1112, branch='CSE', year=2)"
   ]
  },
  {
   "cell_type": "code",
   "execution_count": 37,
   "id": "99bb7e47",
   "metadata": {},
   "outputs": [],
   "source": [
    "# 2. Default arguments\n",
    "def student_details(roll, branch, year=2):\n",
    "    return roll, branch, year"
   ]
  },
  {
   "cell_type": "code",
   "execution_count": 38,
   "id": "c85a23a8",
   "metadata": {
    "collapsed": true
   },
   "outputs": [
    {
     "data": {
      "text/plain": [
       "(1112, 'EEE', 2)"
      ]
     },
     "execution_count": 38,
     "metadata": {},
     "output_type": "execute_result"
    }
   ],
   "source": [
    "student_details(roll = 1112, branch = 'EEE')"
   ]
  },
  {
   "cell_type": "code",
   "execution_count": 39,
   "id": "69337ec9",
   "metadata": {},
   "outputs": [],
   "source": [
    "# 3. Variable length argument\n",
    "## Syntax: *arg1\n",
    "def student_details(roll, branch, *year):\n",
    "    return roll, branch, year"
   ]
  },
  {
   "cell_type": "code",
   "execution_count": 40,
   "id": "70b9a492",
   "metadata": {
    "collapsed": true
   },
   "outputs": [
    {
     "data": {
      "text/plain": [
       "(1112, 'Mech', (2, 3, 4, 5))"
      ]
     },
     "execution_count": 40,
     "metadata": {},
     "output_type": "execute_result"
    }
   ],
   "source": [
    "student_details(1112, 'Mech', 2,3,4,5)"
   ]
  },
  {
   "cell_type": "code",
   "execution_count": 41,
   "id": "ed0f56ba",
   "metadata": {},
   "outputs": [],
   "source": [
    "# 4. Keyword length argument\n",
    "## syntax: **arg1\n",
    "def student_details(roll, branch, **year):\n",
    "    return roll, branch, year"
   ]
  },
  {
   "cell_type": "code",
   "execution_count": 43,
   "id": "3461d81e",
   "metadata": {
    "collapsed": true
   },
   "outputs": [
    {
     "data": {
      "text/plain": [
       "(1111, 'Civil', {'year': (1, 2, 3, 4)})"
      ]
     },
     "execution_count": 43,
     "metadata": {},
     "output_type": "execute_result"
    }
   ],
   "source": [
    "student_details(roll = 1111, branch = 'Civil', \n",
    "                year = (1,2,3,4))"
   ]
  },
  {
   "cell_type": "markdown",
   "id": "f5ec7e58",
   "metadata": {},
   "source": [
    "### Data Structures\n",
    "- Used to store Collection of different data types of values\n",
    "- Types\n",
    "    - List\n",
    "    - Tuple\n",
    "    - Dictionary\n",
    "    - Set"
   ]
  },
  {
   "cell_type": "markdown",
   "id": "6588b9e6",
   "metadata": {},
   "source": [
    "**List**\n",
    "- Lists are ordered, indexed and mutable\n",
    "- [ ]"
   ]
  },
  {
   "cell_type": "code",
   "execution_count": 44,
   "id": "269a2b13",
   "metadata": {
    "collapsed": true
   },
   "outputs": [
    {
     "data": {
      "text/plain": [
       "[]"
      ]
     },
     "execution_count": 44,
     "metadata": {},
     "output_type": "execute_result"
    }
   ],
   "source": [
    "# Create a list\n",
    "list1 = [] # Empty list\n",
    "list1"
   ]
  },
  {
   "cell_type": "code",
   "execution_count": 45,
   "id": "8fc9afd8",
   "metadata": {
    "collapsed": true
   },
   "outputs": [
    {
     "data": {
      "text/plain": [
       "[]"
      ]
     },
     "execution_count": 45,
     "metadata": {},
     "output_type": "execute_result"
    }
   ],
   "source": [
    "list2 = list()# Empty list\n",
    "list2"
   ]
  },
  {
   "cell_type": "code",
   "execution_count": 5,
   "id": "885c82ca",
   "metadata": {},
   "outputs": [
    {
     "data": {
      "text/plain": [
       "[10, 45, 7.9, 999, 60, 32]"
      ]
     },
     "execution_count": 5,
     "metadata": {},
     "output_type": "execute_result"
    }
   ],
   "source": [
    "list3 = [10, 45, 7.9, 999, 60,32]\n",
    "list3"
   ]
  },
  {
   "cell_type": "code",
   "execution_count": 7,
   "id": "a089d1dd",
   "metadata": {
    "collapsed": true
   },
   "outputs": [
    {
     "name": "stdout",
     "output_type": "stream",
     "text": [
      "6\n",
      "1153.9\n",
      "999\n",
      "7.9\n",
      "[7.9, 10, 32, 45, 60, 999]\n"
     ]
    }
   ],
   "source": [
    "print(len(list3))\n",
    "print(sum(list3))\n",
    "print(max(list3))\n",
    "print(min(list3))\n",
    "print(sorted(list3))"
   ]
  },
  {
   "cell_type": "code",
   "execution_count": 1,
   "id": "23c38c4a",
   "metadata": {},
   "outputs": [
    {
     "data": {
      "text/plain": [
       "['A', 77, 921, 'Data Analysis', 37, 12.47]"
      ]
     },
     "execution_count": 1,
     "metadata": {},
     "output_type": "execute_result"
    }
   ],
   "source": [
    "list4 = ['A', 77, 921, 'Data Analysis', 37, 12.47]\n",
    "list4"
   ]
  },
  {
   "cell_type": "markdown",
   "id": "7db08957",
   "metadata": {},
   "source": [
    "**Indexing and Slicing**"
   ]
  },
  {
   "cell_type": "code",
   "execution_count": 7,
   "id": "a9de5b6f",
   "metadata": {
    "collapsed": true
   },
   "outputs": [
    {
     "name": "stdout",
     "output_type": "stream",
     "text": [
      "A\n",
      "12.47\n",
      "[77, 921, 'Data Analysis']\n",
      "[12.47, 37, 'Data Analysis', 921, 77, 'A']\n",
      "['A', 921, 37]\n"
     ]
    }
   ],
   "source": [
    "print(list4[0])# 0th index value\n",
    "print(list4[-1])# last value\n",
    "print(list4[1 : 4])\n",
    "print(list4[::-1]) # reverse\n",
    "print(list4[0::2])# alternate values"
   ]
  },
  {
   "cell_type": "code",
   "execution_count": 10,
   "id": "7263ec5c",
   "metadata": {
    "collapsed": true
   },
   "outputs": [
    {
     "data": {
      "text/plain": [
       "['A', 77, 921, 'MachineLearning', 37, 12.47]"
      ]
     },
     "execution_count": 10,
     "metadata": {},
     "output_type": "execute_result"
    }
   ],
   "source": [
    "# list are mutable\n",
    "list4[3] = 'MachineLearning'\n",
    "list4"
   ]
  },
  {
   "cell_type": "code",
   "execution_count": null,
   "id": "53d959b5",
   "metadata": {},
   "outputs": [],
   "source": []
  },
  {
   "cell_type": "markdown",
   "id": "f6121a1a",
   "metadata": {},
   "source": [
    "**List Methods**"
   ]
  },
  {
   "cell_type": "code",
   "execution_count": 8,
   "id": "83dced02",
   "metadata": {},
   "outputs": [
    {
     "name": "stdout",
     "output_type": "stream",
     "text": [
      "['__add__', '__class__', '__contains__', '__delattr__', '__delitem__', '__dir__', '__doc__', '__eq__', '__format__', '__ge__', '__getattribute__', '__getitem__', '__gt__', '__hash__', '__iadd__', '__imul__', '__init__', '__init_subclass__', '__iter__', '__le__', '__len__', '__lt__', '__mul__', '__ne__', '__new__', '__reduce__', '__reduce_ex__', '__repr__', '__reversed__', '__rmul__', '__setattr__', '__setitem__', '__sizeof__', '__str__', '__subclasshook__', 'append', 'clear', 'copy', 'count', 'extend', 'index', 'insert', 'pop', 'remove', 'reverse', 'sort']\n"
     ]
    }
   ],
   "source": [
    "print(dir(list))"
   ]
  },
  {
   "cell_type": "markdown",
   "id": "c2527f2a",
   "metadata": {},
   "source": [
    "To add values in list \n",
    "- append(), extend()"
   ]
  },
  {
   "cell_type": "code",
   "execution_count": 11,
   "id": "9ea49eeb",
   "metadata": {},
   "outputs": [],
   "source": [
    "# append()\n",
    "list4.append(1000)"
   ]
  },
  {
   "cell_type": "code",
   "execution_count": 12,
   "id": "9a7f1a09",
   "metadata": {
    "collapsed": true
   },
   "outputs": [
    {
     "data": {
      "text/plain": [
       "['A', 77, 921, 'MachineLearning', 37, 12.47, 1000]"
      ]
     },
     "execution_count": 12,
     "metadata": {},
     "output_type": "execute_result"
    }
   ],
   "source": [
    "list4"
   ]
  },
  {
   "cell_type": "code",
   "execution_count": 13,
   "id": "822c4232",
   "metadata": {},
   "outputs": [],
   "source": [
    "list4.extend((10,'AI',67.8))"
   ]
  },
  {
   "cell_type": "code",
   "execution_count": 14,
   "id": "dcf67ea4",
   "metadata": {
    "collapsed": true
   },
   "outputs": [
    {
     "data": {
      "text/plain": [
       "['A', 77, 921, 'MachineLearning', 37, 12.47, 1000, 10, 'AI', 67.8]"
      ]
     },
     "execution_count": 14,
     "metadata": {},
     "output_type": "execute_result"
    }
   ],
   "source": [
    "list4"
   ]
  },
  {
   "cell_type": "code",
   "execution_count": 15,
   "id": "07aedcd9",
   "metadata": {},
   "outputs": [],
   "source": [
    "list4.append((12,7))"
   ]
  },
  {
   "cell_type": "code",
   "execution_count": 16,
   "id": "625358a5",
   "metadata": {
    "collapsed": true
   },
   "outputs": [
    {
     "data": {
      "text/plain": [
       "['A', 77, 921, 'MachineLearning', 37, 12.47, 1000, 10, 'AI', 67.8, (12, 7)]"
      ]
     },
     "execution_count": 16,
     "metadata": {},
     "output_type": "execute_result"
    }
   ],
   "source": [
    "list4"
   ]
  },
  {
   "cell_type": "markdown",
   "id": "2c2c65a8",
   "metadata": {},
   "source": [
    "To delete the values in list\n",
    "- pop(), remove()"
   ]
  },
  {
   "cell_type": "code",
   "execution_count": 17,
   "id": "90bdbb62",
   "metadata": {
    "collapsed": true
   },
   "outputs": [
    {
     "data": {
      "text/plain": [
       "(12, 7)"
      ]
     },
     "execution_count": 17,
     "metadata": {},
     "output_type": "execute_result"
    }
   ],
   "source": [
    "list4.pop()"
   ]
  },
  {
   "cell_type": "code",
   "execution_count": 18,
   "id": "0453cd29",
   "metadata": {
    "collapsed": true
   },
   "outputs": [
    {
     "data": {
      "text/plain": [
       "67.8"
      ]
     },
     "execution_count": 18,
     "metadata": {},
     "output_type": "execute_result"
    }
   ],
   "source": [
    "list4.pop()"
   ]
  },
  {
   "cell_type": "code",
   "execution_count": 19,
   "id": "f576ce42",
   "metadata": {
    "collapsed": true
   },
   "outputs": [
    {
     "data": {
      "text/plain": [
       "['A', 77, 921, 'MachineLearning', 37, 12.47, 1000, 10, 'AI']"
      ]
     },
     "execution_count": 19,
     "metadata": {},
     "output_type": "execute_result"
    }
   ],
   "source": [
    "list4"
   ]
  },
  {
   "cell_type": "code",
   "execution_count": 21,
   "id": "eece3c40",
   "metadata": {
    "collapsed": true
   },
   "outputs": [
    {
     "data": {
      "text/plain": [
       "921"
      ]
     },
     "execution_count": 21,
     "metadata": {},
     "output_type": "execute_result"
    }
   ],
   "source": [
    "list4.pop(2)# 2 is index of 921"
   ]
  },
  {
   "cell_type": "code",
   "execution_count": 22,
   "id": "3145f641",
   "metadata": {
    "collapsed": true
   },
   "outputs": [
    {
     "data": {
      "text/plain": [
       "['A', 77, 'MachineLearning', 37, 12.47, 1000, 10, 'AI']"
      ]
     },
     "execution_count": 22,
     "metadata": {},
     "output_type": "execute_result"
    }
   ],
   "source": [
    "list4"
   ]
  },
  {
   "cell_type": "code",
   "execution_count": 23,
   "id": "74f65086",
   "metadata": {},
   "outputs": [],
   "source": [
    "list4.remove(77)"
   ]
  },
  {
   "cell_type": "code",
   "execution_count": 24,
   "id": "db30c3a8",
   "metadata": {
    "collapsed": true
   },
   "outputs": [
    {
     "data": {
      "text/plain": [
       "['A', 'MachineLearning', 37, 12.47, 1000, 10, 'AI']"
      ]
     },
     "execution_count": 24,
     "metadata": {},
     "output_type": "execute_result"
    }
   ],
   "source": [
    "list4"
   ]
  },
  {
   "cell_type": "code",
   "execution_count": 25,
   "id": "5be5a94c",
   "metadata": {},
   "outputs": [],
   "source": [
    "list4.clear()"
   ]
  },
  {
   "cell_type": "code",
   "execution_count": 26,
   "id": "33da26b6",
   "metadata": {},
   "outputs": [
    {
     "data": {
      "text/plain": [
       "[]"
      ]
     },
     "execution_count": 26,
     "metadata": {},
     "output_type": "execute_result"
    }
   ],
   "source": [
    "list4"
   ]
  },
  {
   "cell_type": "code",
   "execution_count": 27,
   "id": "164bfbb2",
   "metadata": {},
   "outputs": [],
   "source": [
    "list5 = [ 'A', [1, 2, 3], 'B', ['a', 'b'], 27]"
   ]
  },
  {
   "cell_type": "code",
   "execution_count": 28,
   "id": "1eb729ea",
   "metadata": {},
   "outputs": [
    {
     "data": {
      "text/plain": [
       "[1, 2, 3]"
      ]
     },
     "execution_count": 28,
     "metadata": {},
     "output_type": "execute_result"
    }
   ],
   "source": [
    "list5[1]"
   ]
  },
  {
   "cell_type": "code",
   "execution_count": 29,
   "id": "50323089",
   "metadata": {
    "collapsed": true
   },
   "outputs": [
    {
     "data": {
      "text/plain": [
       "list"
      ]
     },
     "execution_count": 29,
     "metadata": {},
     "output_type": "execute_result"
    }
   ],
   "source": [
    "type(list5[1])"
   ]
  },
  {
   "cell_type": "code",
   "execution_count": 30,
   "id": "a9be458d",
   "metadata": {
    "collapsed": true
   },
   "outputs": [
    {
     "data": {
      "text/plain": [
       "str"
      ]
     },
     "execution_count": 30,
     "metadata": {},
     "output_type": "execute_result"
    }
   ],
   "source": [
    "type(list5[0])"
   ]
  },
  {
   "cell_type": "code",
   "execution_count": 32,
   "id": "43d7ab1c",
   "metadata": {
    "collapsed": true
   },
   "outputs": [
    {
     "data": {
      "text/plain": [
       "3"
      ]
     },
     "execution_count": 32,
     "metadata": {},
     "output_type": "execute_result"
    }
   ],
   "source": [
    "list5[1][2]"
   ]
  },
  {
   "cell_type": "markdown",
   "id": "f2d194c7",
   "metadata": {},
   "source": [
    "Take a list of different data types of values\n",
    "- if value is integer, add in int_list\n",
    "- if value is boolean, add in bool_list\n",
    "- or add in other_list"
   ]
  },
  {
   "cell_type": "code",
   "execution_count": 33,
   "id": "b105d605",
   "metadata": {},
   "outputs": [],
   "source": [
    "list6 = [1, True, 'abc', False, 33, 87, True, \n",
    "         222, 'Python', 98.44]\n",
    "int_list = []\n",
    "bool_list = []\n",
    "other_list = []"
   ]
  },
  {
   "cell_type": "code",
   "execution_count": 34,
   "id": "5b630e1d",
   "metadata": {},
   "outputs": [],
   "source": [
    "for i in list6:\n",
    "    if type(i) == int:\n",
    "        int_list.append(i)\n",
    "    elif type(i) == bool:\n",
    "        bool_list.append(i)\n",
    "    else:\n",
    "        other_list.append(i)"
   ]
  },
  {
   "cell_type": "code",
   "execution_count": 35,
   "id": "ac8c4d08",
   "metadata": {
    "collapsed": true
   },
   "outputs": [
    {
     "name": "stdout",
     "output_type": "stream",
     "text": [
      "[1, 33, 87, 222]\n",
      "[True, False, True]\n",
      "['abc', 'Python', 98.44]\n"
     ]
    }
   ],
   "source": [
    "print(int_list)\n",
    "print(bool_list)\n",
    "print(other_list)"
   ]
  },
  {
   "cell_type": "markdown",
   "id": "51605a4d",
   "metadata": {},
   "source": [
    "**Tuple**\n",
    "- Tuples are immutable\n",
    "- ( )"
   ]
  },
  {
   "cell_type": "code",
   "execution_count": 36,
   "id": "e394ec16",
   "metadata": {
    "collapsed": true
   },
   "outputs": [
    {
     "data": {
      "text/plain": [
       "str"
      ]
     },
     "execution_count": 36,
     "metadata": {},
     "output_type": "execute_result"
    }
   ],
   "source": [
    "tuple1 = tuple()# Empty tuple\n",
    "tuple2 = ('t')\n",
    "type(tuple2)"
   ]
  },
  {
   "cell_type": "code",
   "execution_count": 37,
   "id": "a02a1de0",
   "metadata": {
    "collapsed": true
   },
   "outputs": [
    {
     "data": {
      "text/plain": [
       "30"
      ]
     },
     "execution_count": 37,
     "metadata": {},
     "output_type": "execute_result"
    }
   ],
   "source": [
    "(10 + 20)"
   ]
  },
  {
   "cell_type": "code",
   "execution_count": 38,
   "id": "0b642e9a",
   "metadata": {
    "collapsed": true
   },
   "outputs": [
    {
     "data": {
      "text/plain": [
       "tuple"
      ]
     },
     "execution_count": 38,
     "metadata": {},
     "output_type": "execute_result"
    }
   ],
   "source": [
    "tuple3 = ('t',)\n",
    "type(tuple3)"
   ]
  },
  {
   "cell_type": "code",
   "execution_count": 39,
   "id": "1982c5b7",
   "metadata": {
    "collapsed": true
   },
   "outputs": [
    {
     "data": {
      "text/plain": [
       "(12, 'Ludo', 500, 'SubWay', 1000, 'Chess')"
      ]
     },
     "execution_count": 39,
     "metadata": {},
     "output_type": "execute_result"
    }
   ],
   "source": [
    "tuple4 = (12,'Ludo', 500, 'SubWay', 1000, 'Chess')\n",
    "tuple4"
   ]
  },
  {
   "cell_type": "code",
   "execution_count": 40,
   "id": "14297107",
   "metadata": {
    "collapsed": true
   },
   "outputs": [
    {
     "data": {
      "text/plain": [
       "'SubWay'"
      ]
     },
     "execution_count": 40,
     "metadata": {},
     "output_type": "execute_result"
    }
   ],
   "source": [
    "tuple4[3]"
   ]
  },
  {
   "cell_type": "code",
   "execution_count": 41,
   "id": "d5f16e2b",
   "metadata": {
    "collapsed": true
   },
   "outputs": [
    {
     "ename": "TypeError",
     "evalue": "'tuple' object does not support item assignment",
     "output_type": "error",
     "traceback": [
      "\u001b[1;31m---------------------------------------------------------------------------\u001b[0m",
      "\u001b[1;31mTypeError\u001b[0m                                 Traceback (most recent call last)",
      "\u001b[1;32m<ipython-input-41-6bb0d46f7ddc>\u001b[0m in \u001b[0;36m<module>\u001b[1;34m\u001b[0m\n\u001b[1;32m----> 1\u001b[1;33m \u001b[0mtuple4\u001b[0m\u001b[1;33m[\u001b[0m\u001b[1;36m3\u001b[0m\u001b[1;33m]\u001b[0m \u001b[1;33m=\u001b[0m \u001b[1;34m'SubwaySurfers'\u001b[0m\u001b[1;33m\u001b[0m\u001b[1;33m\u001b[0m\u001b[0m\n\u001b[0m",
      "\u001b[1;31mTypeError\u001b[0m: 'tuple' object does not support item assignment"
     ]
    }
   ],
   "source": [
    "tuple4[3] = 'SubwaySurfers'\n",
    "# immutable"
   ]
  },
  {
   "cell_type": "code",
   "execution_count": 42,
   "id": "91e8222e",
   "metadata": {
    "collapsed": true
   },
   "outputs": [
    {
     "name": "stdout",
     "output_type": "stream",
     "text": [
      "['__add__', '__class__', '__contains__', '__delattr__', '__dir__', '__doc__', '__eq__', '__format__', '__ge__', '__getattribute__', '__getitem__', '__getnewargs__', '__gt__', '__hash__', '__init__', '__init_subclass__', '__iter__', '__le__', '__len__', '__lt__', '__mul__', '__ne__', '__new__', '__reduce__', '__reduce_ex__', '__repr__', '__rmul__', '__setattr__', '__sizeof__', '__str__', '__subclasshook__', 'count', 'index']\n"
     ]
    }
   ],
   "source": [
    "print(dir(tuple))"
   ]
  },
  {
   "cell_type": "code",
   "execution_count": null,
   "id": "6d1da344",
   "metadata": {},
   "outputs": [],
   "source": []
  }
 ],
 "metadata": {
  "kernelspec": {
   "display_name": "Python 3",
   "language": "python",
   "name": "python3"
  },
  "language_info": {
   "codemirror_mode": {
    "name": "ipython",
    "version": 3
   },
   "file_extension": ".py",
   "mimetype": "text/x-python",
   "name": "python",
   "nbconvert_exporter": "python",
   "pygments_lexer": "ipython3",
   "version": "3.8.8"
  }
 },
 "nbformat": 4,
 "nbformat_minor": 5
}
