{
 "cells": [
  {
   "cell_type": "markdown",
   "metadata": {
    "slideshow": {
     "slide_type": "slide"
    }
   },
   "source": [
    "# Výjimky\n",
    "\n",
    "> *Výjimka* (z angličtiny Exception) je v informatice chápána jako výjimečná situace, která může nastat za běhu programu."
   ]
  },
  {
   "cell_type": "code",
   "execution_count": null,
   "metadata": {
    "slideshow": {
     "slide_type": "subslide"
    }
   },
   "outputs": [],
   "source": [
    "ouha"
   ]
  },
  {
   "cell_type": "markdown",
   "metadata": {
    "slideshow": {
     "slide_type": "-"
    }
   },
   "source": [
    "**Lze vyčíst:**\n",
    "\n",
    "- typ\n",
    "- popis\n",
    "- call stack (soubory, řádky)"
   ]
  },
  {
   "cell_type": "markdown",
   "metadata": {
    "slideshow": {
     "slide_type": "slide"
    }
   },
   "source": [
    "## Zachycení a ošetření výjimek"
   ]
  },
  {
   "cell_type": "code",
   "execution_count": null,
   "metadata": {},
   "outputs": [],
   "source": [
    "try:\n",
    "    x = 0  # << načteno od uživatele\n",
    "    y = 6 / x\n",
    "\n",
    "except ZeroDivisionError:\n",
    "    print(\"Nelze dělit nulou.\")"
   ]
  },
  {
   "cell_type": "code",
   "execution_count": null,
   "metadata": {
    "slideshow": {
     "slide_type": "subslide"
    }
   },
   "outputs": [],
   "source": [
    "try:\n",
    "    ouha\n",
    "\n",
    "except NameError as e:\n",
    "    print(\"Proměnná neexistuje:\", e)\n",
    "\n",
    "except ZeroDivisionError:\n",
    "    print(\"Nelze dělit nulou.\")\n",
    "    \n",
    "except:\n",
    "    print(\"Nastala nějaká chyba.\")"
   ]
  },
  {
   "cell_type": "code",
   "execution_count": null,
   "metadata": {
    "slideshow": {
     "slide_type": "subslide"
    }
   },
   "outputs": [],
   "source": [
    "# méně používaná syntaxe\n",
    "try:\n",
    "    ouha\n",
    "\n",
    "except (ZeroDivisionError, OSError, Exception):\n",
    "    print(\"Nastala jedna z mnoha výjimek.\")\n",
    "\n",
    "else:\n",
    "    print(\"Blok try proběhl bez chyby.\")\n",
    "\n",
    "finally:\n",
    "    print(\"Vypíšu se vždy!\")"
   ]
  },
  {
   "cell_type": "markdown",
   "metadata": {
    "collapsed": true,
    "slideshow": {
     "slide_type": "slide"
    }
   },
   "source": [
    "## Umělé vyvolání výjimky"
   ]
  },
  {
   "cell_type": "code",
   "execution_count": null,
   "metadata": {
    "slideshow": {
     "slide_type": "-"
    }
   },
   "outputs": [],
   "source": [
    "raise ValueError(\"Nesprávná hodnota.\")"
   ]
  },
  {
   "cell_type": "code",
   "execution_count": null,
   "metadata": {
    "slideshow": {
     "slide_type": "subslide"
    }
   },
   "outputs": [],
   "source": [
    "# ošetřím a pošlu dál\n",
    "try:\n",
    "    raise ValueError(\"Nesprávná hodnota.\")\n",
    "    \n",
    "except ValueError:\n",
    "    print(\"Něco se porouchalo...\")\n",
    "    raise"
   ]
  },
  {
   "cell_type": "code",
   "execution_count": null,
   "metadata": {
    "slideshow": {
     "slide_type": "subslide"
    }
   },
   "outputs": [],
   "source": [
    "# ošetřím, změním typ uvnitř zachycení a pošlu dál\n",
    "try:\n",
    "    raise FileNotFoundError(\"Soubor neexistuje.\")\n",
    "    \n",
    "except FileNotFoundError as e:\n",
    "    raise ValueError(\"Zadal jste špatné jméno souboru.\") from e"
   ]
  },
  {
   "cell_type": "markdown",
   "metadata": {
    "slideshow": {
     "slide_type": "slide"
    }
   },
   "source": [
    "# Příklad\n",
    "\n",
    "- Načtěte od uživatele poloměr kruhu a vypočtěte jeho obsah.\n",
    "- Pokud nezadá číslo, přinuťte ho opakovat zadání.\n",
    "- Pokud zadá záporné číslo, vyhoďte výjimku `ArithmeticError`."
   ]
  },
  {
   "cell_type": "code",
   "execution_count": null,
   "metadata": {
    "slideshow": {
     "slide_type": "skip"
    }
   },
   "outputs": [],
   "source": [
    "# TODO"
   ]
  },
  {
   "cell_type": "markdown",
   "metadata": {
    "slideshow": {
     "slide_type": "slide"
    }
   },
   "source": [
    "## Všechno je objekt...\n",
    "\n",
    "Výjimka je také objekt – vestavěné výjimky používají *dědičnost* a [je jich celá flotila](https://docs.python.org/3/library/exceptions.html#exception-hierarchy).\n",
    "\n",
    "```\n",
    "BaseException\n",
    " +-- SystemExit\n",
    " +-- KeyboardInterrupt\n",
    " +-- GeneratorExit\n",
    " +-- Exception\n",
    "      +-- StopIteration\n",
    "      +-- StopAsyncIteration\n",
    "      +-- ArithmeticError\n",
    "      |    +-- FloatingPointError\n",
    "      |    +-- OverflowError\n",
    "      |    +-- ZeroDivisionError\n",
    "      +-- AssertionError\n",
    "      +-- AttributeError\n",
    "      +-- BufferError\n",
    "      +-- EOFError\n",
    "      +-- ImportError\n",
    "      +-- LookupError\n",
    "      |    +-- IndexError\n",
    "      |    +-- KeyError\n",
    "      +-- MemoryError\n",
    "      +-- NameError\n",
    "      |    +-- UnboundLocalError\n",
    "      +-- OSError\n",
    "      |    +-- BlockingIOError\n",
    "      |    +-- ChildProcessError\n",
    "      |    +-- ConnectionError\n",
    "      |    |    +-- BrokenPipeError\n",
    "      |    |    +-- ConnectionAbortedError\n",
    "      |    |    +-- ConnectionRefusedError\n",
    "      |    |    +-- ConnectionResetError\n",
    "      |    +-- FileExistsError\n",
    "      |    +-- FileNotFoundError\n",
    "      |    +-- InterruptedError\n",
    "      |    +-- IsADirectoryError\n",
    "      |    +-- NotADirectoryError\n",
    "      |    +-- PermissionError\n",
    "      |    +-- ProcessLookupError\n",
    "      |    +-- TimeoutError\n",
    "      +-- ReferenceError\n",
    "      +-- RuntimeError\n",
    "      |    +-- NotImplementedError\n",
    "      |    +-- RecursionError\n",
    "      +-- SyntaxError\n",
    "      |    +-- IndentationError\n",
    "      |         +-- TabError\n",
    "      +-- SystemError\n",
    "      +-- TypeError\n",
    "      +-- ValueError\n",
    "      |    +-- UnicodeError\n",
    "      |         +-- UnicodeDecodeError\n",
    "      |         +-- UnicodeEncodeError\n",
    "      |         +-- UnicodeTranslateError\n",
    "      +-- Warning\n",
    "           +-- DeprecationWarning\n",
    "           +-- PendingDeprecationWarning\n",
    "           +-- RuntimeWarning\n",
    "           +-- SyntaxWarning\n",
    "           +-- UserWarning\n",
    "           +-- FutureWarning\n",
    "           +-- ImportWarning\n",
    "           +-- UnicodeWarning\n",
    "           +-- BytesWarning\n",
    "           +-- ResourceWarning\n",
    "```"
   ]
  },
  {
   "cell_type": "markdown",
   "metadata": {
    "slideshow": {
     "slide_type": "subslide"
    }
   },
   "source": [
    "Zachytávání díky tomu funguje hierarchicky."
   ]
  },
  {
   "cell_type": "code",
   "execution_count": null,
   "metadata": {
    "slideshow": {
     "slide_type": "-"
    }
   },
   "outputs": [],
   "source": [
    "try:\n",
    "    x = 12 / 0  # vyvolá ZeroDivisionError\n",
    "\n",
    "except ArithmeticError:\n",
    "    print(\"Chyba výpočtu.\")"
   ]
  },
  {
   "cell_type": "markdown",
   "metadata": {
    "slideshow": {
     "slide_type": "subslide"
    }
   },
   "source": [
    "## Vlastní výjimka\n",
    "\n",
    "Stačí odědit od nějaké standardní, významově blízké. Konvence názvu: `CokolivError`."
   ]
  },
  {
   "cell_type": "code",
   "execution_count": null,
   "metadata": {
    "slideshow": {
     "slide_type": "-"
    }
   },
   "outputs": [],
   "source": [
    "class NalezenSprostyTextError(ValueError):\n",
    "    \n",
    "    def __init__(self, slovo):\n",
    "        self.slovo = slovo"
   ]
  },
  {
   "cell_type": "code",
   "execution_count": null,
   "metadata": {
    "slideshow": {
     "slide_type": "fragment"
    }
   },
   "outputs": [],
   "source": [
    "# se zachycenou výjimkou lze pracovat jako s objektem\n",
    "try:\n",
    "    raise NalezenSprostyTextError(\"hrome\")\n",
    "\n",
    "except NalezenSprostyTextError as zachycena_vyjimka:\n",
    "    print(\"Sprosťárny jako '{}' tady nestrpíme!\".format(zachycena_vyjimka.slovo))"
   ]
  },
  {
   "cell_type": "markdown",
   "metadata": {
    "slideshow": {
     "slide_type": "slide"
    }
   },
   "source": [
    "# Aserce\n",
    "\n",
    "> Výraz (slovo) aserce má tyto významy:\n",
    "> - tvrzení, prosazování\n",
    "> - uznání pravdivosti výroku\n",
    "\n",
    "= Zajištění, že se věci dějí očekávaným způsobem. Použití:\n",
    "\n",
    "- při vývoji,\n",
    "- při testování,\n",
    "- *NE* pro kontrolu uživatelských dat – dají se totiž vypnout."
   ]
  },
  {
   "cell_type": "code",
   "execution_count": null,
   "metadata": {
    "slideshow": {
     "slide_type": "subslide"
    }
   },
   "outputs": [],
   "source": [
    "# syntaxe\n",
    "assert 1 + 2 == 3, \"Matematika je rozbitá!\""
   ]
  },
  {
   "cell_type": "code",
   "execution_count": null,
   "metadata": {
    "slideshow": {
     "slide_type": "fragment"
    }
   },
   "outputs": [],
   "source": [
    "# nepravdivá aserce vyvolá výjimku\n",
    "assert \"KSČM - S lidmi pro lidi\" is True, \"Nemám vykládat lži.\""
   ]
  },
  {
   "cell_type": "code",
   "execution_count": null,
   "metadata": {
    "slideshow": {
     "slide_type": "subslide"
    }
   },
   "outputs": [],
   "source": [
    "# typické použití\n",
    "def vrat_posledni_prvek(data):\n",
    "    assert data, \"Nelze pracovat bez dat.\"\n",
    "    return data[-1]\n",
    "\n",
    "vrat_posledni_prvek(\"\")"
   ]
  },
  {
   "cell_type": "markdown",
   "metadata": {
    "slideshow": {
     "slide_type": "subslide"
    }
   },
   "source": [
    "Aserce je správně použitá, když jsem na základě znalosti:\n",
    "\n",
    "- kódu,\n",
    "- tracebacku,\n",
    "- a textu výjimky\n",
    "\n",
    "ihned schopen určit, *proč* a *kde* se chyba stala."
   ]
  },
  {
   "cell_type": "markdown",
   "metadata": {
    "slideshow": {
     "slide_type": "slide"
    }
   },
   "source": [
    "# Příklad\n",
    "\n",
    "- Vytvořte 3 třídy vlastních výjimek: `SpatnePocasiError`, `VysokeTeplotyError`, `DestivePocasiError`, použijte dědičnost.\n",
    "- Vytvořte soubor `aktualni-pocasi.txt` s textem: `bouřky`.\n",
    "- Otevřete soubor (použijte kontextový manažer), ošetřete možné výjimky, načtěte jeho obsah.\n",
    "- Přesvědčte se, že obsahuje právě jedno slovo (použijte aserci).\n",
    "- Pokud je počasí špatné, vyvolejte příslušnou výjimku.\n",
    "- Ošetřete výjimku pomocí společného rodiče."
   ]
  },
  {
   "cell_type": "code",
   "execution_count": null,
   "metadata": {
    "slideshow": {
     "slide_type": "-"
    }
   },
   "outputs": [],
   "source": [
    "# TODO nahraďte definicí tříd\n",
    "DestivePocasiError = None\n",
    "VysokeTeplotyError = None\n",
    "\n",
    "SPATNE_POCASI = {\n",
    "    \"vysoké teploty\": VysokeTeplotyError,\n",
    "    \"velmi vysoké teploty\": VysokeTeplotyError,\n",
    "    \"déšť\": DestivePocasiError,\n",
    "    \"silný déšť\": DestivePocasiError,\n",
    "    \"kroupy\": DestivePocasiError,\n",
    "    \"bouřky\": DestivePocasiError,\n",
    "}\n",
    "\n",
    "def jdi_ven():\n",
    "    # TODO doplňte načtení počasí\n",
    "    ...\n",
    "    \n",
    "# TODO doplňte ošetření výjimky\n",
    "jdi_ven()"
   ]
  }
 ],
 "metadata": {
  "kernelspec": {
   "display_name": "Python 3",
   "language": "python",
   "name": "python3"
  },
  "language_info": {
   "codemirror_mode": {
    "name": "ipython",
    "version": 3
   },
   "file_extension": ".py",
   "mimetype": "text/x-python",
   "name": "python",
   "nbconvert_exporter": "python",
   "pygments_lexer": "ipython3",
   "version": "3.6.4"
  }
 },
 "nbformat": 4,
 "nbformat_minor": 1
}
