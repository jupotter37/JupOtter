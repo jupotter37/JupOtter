{
  "nbformat": 4,
  "nbformat_minor": 0,
  "metadata": {
    "colab": {
      "provenance": []
    },
    "kernelspec": {
      "name": "python3",
      "display_name": "Python 3"
    },
    "language_info": {
      "name": "python"
    }
  },
  "cells": [
    {
      "cell_type": "markdown",
      "source": [
        "## Модули и пакеты"
      ],
      "metadata": {
        "id": "KVEzsQDrUxzA"
      }
    },
    {
      "cell_type": "markdown",
      "source": [
        "**Модуль** - файл с исходным кодом, имеющий расширение .py. Встроенные модули (такие как math или sys), изначально написаны на С и встроены непосредственно в интерпретатор.\n",
        "\n",
        "**Пакет** – это каталог, который может включать другие каталоги или модули."
      ],
      "metadata": {
        "id": "v2Iw-AQyXble"
      }
    },
    {
      "cell_type": "markdown",
      "source": [
        "При импорте модуля интерпретатор выполняет весь код в нем.\n",
        "\n",
        "Процесс поиска модуля командой import:\n",
        "\n",
        "1. среди встроенных модулей;\n",
        "1. в директории с исполняемым скриптом;\n",
        "1. в директории по умолчанию дистрибутива python;\n",
        "1. в PYTHONPATH."
      ],
      "metadata": {
        "id": "0pU4C58kXzBb"
      }
    },
    {
      "cell_type": "markdown",
      "source": [
        "### Импорт пакетов\n",
        "При импорте пакета после обнаружения папки с требуемым именем интерпретатор выполняет модуль `__init__.py`.\n",
        "\n",
        "`__init__.py` может включать в себя необходимые подмодули и подпакеты, может быть пустым, а с версии 3.3. его вообще может не быть."
      ],
      "metadata": {
        "id": "VH-ibx2FYfvC"
      }
    },
    {
      "cell_type": "code",
      "source": [
        "# импорт подмодуля из пакета\n",
        "import numpy.random\n",
        "\n",
        "# использование функции из пакета\n",
        "print(numpy.random.rand(5))\n",
        "\n",
        "# импорт с использованием псевдонима\n",
        "import numpy.random as rn\n",
        "print(rn.rand(5))\n",
        "\n",
        "# можно импортировать имя модуля\n",
        "from numpy import random\n",
        "print(random.rand(5))"
      ],
      "metadata": {
        "id": "q9xeSst4Z0vW",
        "colab": {
          "base_uri": "https://localhost:8080/"
        },
        "outputId": "b54b7f35-1b39-462a-f12c-8c88eee947d8"
      },
      "execution_count": null,
      "outputs": [
        {
          "output_type": "stream",
          "name": "stdout",
          "text": [
            "[0.69721508 0.31046304 0.64434998 0.94114856 0.28535243]\n",
            "[0.65136308 0.04332486 0.61446948 0.87124901 0.53234227]\n",
            "[0.24250033 0.06803065 0.46188116 0.58768918 0.16330105]\n"
          ]
        }
      ]
    },
    {
      "cell_type": "code",
      "execution_count": null,
      "metadata": {
        "id": "oWdAZhrbUtz4",
        "colab": {
          "base_uri": "https://localhost:8080/"
        },
        "outputId": "cf353096-294c-4d1d-9231-72dff7a6eacb"
      },
      "outputs": [
        {
          "output_type": "stream",
          "name": "stdout",
          "text": [
            "__config__\n",
            "_core\n",
            "_distributor_init\n",
            "_globals\n",
            "_pyinstaller\n",
            "_pytesttester\n",
            "_typing\n",
            "_utils\n",
            "array_api\n",
            "compat\n",
            "conftest\n",
            "core\n",
            "ctypeslib\n",
            "distutils\n",
            "doc\n",
            "dtypes\n",
            "exceptions\n",
            "f2py\n",
            "fft\n",
            "lib\n",
            "linalg\n",
            "ma\n",
            "matlib\n",
            "matrixlib\n",
            "polynomial\n",
            "random\n",
            "testing\n",
            "tests\n",
            "typing\n",
            "version\n"
          ]
        }
      ],
      "source": [
        "from pkgutil import iter_modules\n",
        "import numpy\n",
        "\n",
        "# выведем все подмодули\n",
        "for submodule in iter_modules(numpy.__path__):\n",
        "    print(submodule.name)"
      ]
    },
    {
      "cell_type": "markdown",
      "source": [
        "## Создание модулей"
      ],
      "metadata": {
        "id": "RyXqhaTtF-IQ"
      }
    },
    {
      "cell_type": "code",
      "source": [
        "#создадим для примера модуль и сохраним его в файл \"area.py\"\n",
        "%%writefile area.py\n",
        "pi = 3.14159\n",
        "\n",
        "def rectangle_area(a, b):\n",
        "    return a * b\n",
        "\n",
        "def triangle_area(a, h):\n",
        "    return 0.5 * a * h\n",
        "\n",
        "def circle_area(r):\n",
        "    return pi * r ** 2"
      ],
      "metadata": {
        "id": "N6zwTyMLGxbN",
        "colab": {
          "base_uri": "https://localhost:8080/"
        },
        "outputId": "af95d544-9c6a-44ee-ee2b-c15eddbb643f"
      },
      "execution_count": null,
      "outputs": [
        {
          "output_type": "stream",
          "name": "stdout",
          "text": [
            "Writing area.py\n"
          ]
        }
      ]
    },
    {
      "cell_type": "code",
      "source": [
        "# ипортируем наш модуль\n",
        "import area\n",
        "\n",
        "print(type(area))\n",
        "print(dir(area))  # доступные атрибуты модуля"
      ],
      "metadata": {
        "id": "LyTM2FsuHclW",
        "colab": {
          "base_uri": "https://localhost:8080/"
        },
        "outputId": "44c2610c-d7a4-4b0a-9b4b-e5f8d3ed0232"
      },
      "execution_count": null,
      "outputs": [
        {
          "output_type": "stream",
          "name": "stdout",
          "text": [
            "<class 'module'>\n",
            "['__builtins__', '__cached__', '__doc__', '__file__', '__loader__', '__name__', '__package__', '__spec__', 'circle_area', 'pi', 'rectangle_area', 'triangle_area']\n"
          ]
        }
      ]
    },
    {
      "cell_type": "code",
      "source": [
        "# обращение к константе в модуле\n",
        "print(area.pi)\n",
        "\n",
        "# вызов функций модуля\n",
        "print(area.rectangle_area(3, 7))\n",
        "print(area.triangle_area(2, 4))\n",
        "print(area.circle_area(5))"
      ],
      "metadata": {
        "id": "5JcTuieSHqrU",
        "colab": {
          "base_uri": "https://localhost:8080/"
        },
        "outputId": "07b10ebd-4808-48cc-eaa0-19172ce55ac2"
      },
      "execution_count": null,
      "outputs": [
        {
          "output_type": "stream",
          "name": "stdout",
          "text": [
            "3.14159\n",
            "21\n",
            "4.0\n",
            "78.53975\n"
          ]
        }
      ]
    },
    {
      "cell_type": "markdown",
      "source": [
        "## Создание пакетов"
      ],
      "metadata": {
        "id": "vp1VYomLH_yb"
      }
    },
    {
      "cell_type": "code",
      "source": [
        "# создание директории для пакета\n",
        "!mkdir samplepackage"
      ],
      "metadata": {
        "id": "hNAheRxeIDtp"
      },
      "execution_count": null,
      "outputs": []
    },
    {
      "cell_type": "code",
      "source": [
        "# хорошим тоном считается выносить константы в отдельный модуль\n",
        "%%writefile samplepackage/constants.py\n",
        "\n",
        "pi = 3.14159"
      ],
      "metadata": {
        "id": "AXHPCylvIZAe",
        "colab": {
          "base_uri": "https://localhost:8080/"
        },
        "outputId": "f22a22d3-8d77-42b7-d383-5dd77002838d"
      },
      "execution_count": null,
      "outputs": [
        {
          "output_type": "stream",
          "name": "stdout",
          "text": [
            "Writing samplepackage/constants.py\n"
          ]
        }
      ]
    },
    {
      "cell_type": "code",
      "source": [
        "# сохраним методы исходного модуля\n",
        "%%writefile samplepackage/area.py\n",
        "from samplepackage.constants import pi\n",
        "\n",
        "def rectangle_area(a, b):\n",
        "    return a * b\n",
        "\n",
        "def triangle_area(a, h):\n",
        "    return 0.5 * a * h\n",
        "\n",
        "def circle_area(r):\n",
        "    return pi * r ** 2"
      ],
      "metadata": {
        "id": "Vfm0dGNTIud_",
        "colab": {
          "base_uri": "https://localhost:8080/"
        },
        "outputId": "e7bceb65-69d3-4a1e-b6c9-c00c8d6f299b"
      },
      "execution_count": null,
      "outputs": [
        {
          "output_type": "stream",
          "name": "stdout",
          "text": [
            "Writing samplepackage/area.py\n"
          ]
        }
      ]
    },
    {
      "cell_type": "code",
      "source": [
        "# расширим функционал нашего пакета\n",
        "%%writefile samplepackage/perimeter.py\n",
        "from samplepackage.constants import pi\n",
        "\n",
        "def rectangle_perimeter(a, b):\n",
        "    return 2 * (a + b)\n",
        "\n",
        "def triangle_perimeter(a, b,c):\n",
        "    return a + b + c\n",
        "\n",
        "def circle_perimeter(r):\n",
        "    return pi * 2 * r"
      ],
      "metadata": {
        "id": "I_f_Z28mI_Qj",
        "colab": {
          "base_uri": "https://localhost:8080/"
        },
        "outputId": "e527ea2d-c0e9-4b8a-f137-b021ae1ddcf8"
      },
      "execution_count": null,
      "outputs": [
        {
          "output_type": "stream",
          "name": "stdout",
          "text": [
            "Writing samplepackage/perimeter.py\n"
          ]
        }
      ]
    },
    {
      "cell_type": "code",
      "source": [
        "# создадим __init_.py, для того, чтобы интерпетатор понял,\n",
        "# что эта директория является пакетом\n",
        "# можно оставить пустым, можно не создавать вовсе\n",
        "%%writefile samplepackage/__init__.py\n",
        "\n",
        "# указываем, что будет импортировано командой from samplepackage import *\n",
        "__all__ = ['constants', 'area', 'perimeter']"
      ],
      "metadata": {
        "id": "MLDwnztLJWmi",
        "colab": {
          "base_uri": "https://localhost:8080/"
        },
        "outputId": "841072ab-c03c-49e1-b8fa-a08b9d682918"
      },
      "execution_count": null,
      "outputs": [
        {
          "output_type": "stream",
          "name": "stdout",
          "text": [
            "Writing samplepackage/__init__.py\n"
          ]
        }
      ]
    },
    {
      "cell_type": "code",
      "source": [
        "# проверим работоспособность\n",
        "from samplepackage.constants import pi\n",
        "from samplepackage.area import circle_area\n",
        "from samplepackage.perimeter import circle_perimeter\n",
        "\n",
        "print(pi)\n",
        "print(circle_area(10))\n",
        "print(circle_perimeter(10))"
      ],
      "metadata": {
        "id": "UbPPxXSgJ--G",
        "colab": {
          "base_uri": "https://localhost:8080/"
        },
        "outputId": "d1a4b28b-dfc9-41c6-dab2-1aaed6c69484"
      },
      "execution_count": null,
      "outputs": [
        {
          "output_type": "stream",
          "name": "stdout",
          "text": [
            "3.14159\n",
            "314.159\n",
            "62.8318\n"
          ]
        }
      ]
    },
    {
      "cell_type": "markdown",
      "source": [
        "## Установка пакетов и модулей\n",
        "\n",
        "Пакеты и модули можно установить из внешнего репозитория.\n",
        "Официальным репозиторием пакетов python является [Python Package Index](https://pypi.org/).\n",
        "\n",
        "**Pip** — система управления пакетами, которая используется для установки и управления пакетами, написанными на python.\n",
        "\n",
        "С версии языка 3.4 pip входит в стандартный дистрибутив python."
      ],
      "metadata": {
        "id": "GudkrWnYKoo6"
      }
    },
    {
      "cell_type": "code",
      "source": [
        "# установка пакета при помощи командной строки\n",
        "# например, установим пакет для для манипуляции пространственными данными\n",
        "# автоматически установится последняя версия\n",
        "!pip install fiona\n",
        "\n",
        "# можно указать определенную версию пакета\n",
        "# !pip install fiona==1.8.10"
      ],
      "metadata": {
        "id": "oycVLDuaLKLb",
        "colab": {
          "base_uri": "https://localhost:8080/"
        },
        "outputId": "3f9ddf4e-6e9b-4213-c1de-e84a797d8f3f"
      },
      "execution_count": null,
      "outputs": [
        {
          "output_type": "stream",
          "name": "stdout",
          "text": [
            "Collecting fiona\n",
            "  Downloading fiona-1.10.1-cp310-cp310-manylinux_2_17_x86_64.manylinux2014_x86_64.whl.metadata (56 kB)\n",
            "\u001b[?25l     \u001b[90m━━━━━━━━━━━━━━━━━━━━━━━━━━━━━━━━━━━━━━━━\u001b[0m \u001b[32m0.0/56.6 kB\u001b[0m \u001b[31m?\u001b[0m eta \u001b[36m-:--:--\u001b[0m\r\u001b[2K     \u001b[90m━━━━━━━━━━━━━━━━━━━━━━━━━━━━━━━━━━━━━━━━\u001b[0m \u001b[32m56.6/56.6 kB\u001b[0m \u001b[31m4.9 MB/s\u001b[0m eta \u001b[36m0:00:00\u001b[0m\n",
            "\u001b[?25hRequirement already satisfied: attrs>=19.2.0 in /usr/local/lib/python3.10/dist-packages (from fiona) (24.2.0)\n",
            "Requirement already satisfied: certifi in /usr/local/lib/python3.10/dist-packages (from fiona) (2024.8.30)\n",
            "Requirement already satisfied: click~=8.0 in /usr/local/lib/python3.10/dist-packages (from fiona) (8.1.7)\n",
            "Collecting click-plugins>=1.0 (from fiona)\n",
            "  Downloading click_plugins-1.1.1-py2.py3-none-any.whl.metadata (6.4 kB)\n",
            "Collecting cligj>=0.5 (from fiona)\n",
            "  Downloading cligj-0.7.2-py3-none-any.whl.metadata (5.0 kB)\n",
            "Downloading fiona-1.10.1-cp310-cp310-manylinux_2_17_x86_64.manylinux2014_x86_64.whl (17.3 MB)\n",
            "\u001b[2K   \u001b[90m━━━━━━━━━━━━━━━━━━━━━━━━━━━━━━━━━━━━━━━━\u001b[0m \u001b[32m17.3/17.3 MB\u001b[0m \u001b[31m81.8 MB/s\u001b[0m eta \u001b[36m0:00:00\u001b[0m\n",
            "\u001b[?25hDownloading click_plugins-1.1.1-py2.py3-none-any.whl (7.5 kB)\n",
            "Downloading cligj-0.7.2-py3-none-any.whl (7.1 kB)\n",
            "Installing collected packages: cligj, click-plugins, fiona\n",
            "Successfully installed click-plugins-1.1.1 cligj-0.7.2 fiona-1.10.1\n"
          ]
        }
      ]
    },
    {
      "cell_type": "code",
      "source": [
        "# просмотр информации об установленном пакете через командную строку\n",
        "!pip show fiona"
      ],
      "metadata": {
        "id": "beFJ-2cALomU",
        "colab": {
          "base_uri": "https://localhost:8080/"
        },
        "outputId": "0f1f6b14-2c80-48d5-93fe-d25c4719a8bb"
      },
      "execution_count": null,
      "outputs": [
        {
          "output_type": "stream",
          "name": "stdout",
          "text": [
            "Name: fiona\n",
            "Version: 1.10.1\n",
            "Summary: Fiona reads and writes spatial data files\n",
            "Home-page: \n",
            "Author: Sean Gillies\n",
            "Author-email: \n",
            "License: BSD 3-Clause\n",
            "Location: /usr/local/lib/python3.10/dist-packages\n",
            "Requires: attrs, certifi, click, click-plugins, cligj\n",
            "Required-by: \n"
          ]
        }
      ]
    },
    {
      "cell_type": "code",
      "source": [
        "# версию пакета можно узнать и при помощи атрибута __version__\n",
        "import fiona\n",
        "print(fiona.__version__)"
      ],
      "metadata": {
        "id": "szcPva6zL1E_",
        "colab": {
          "base_uri": "https://localhost:8080/"
        },
        "outputId": "b3b67f59-2243-4486-9bf9-495235253b2c"
      },
      "execution_count": null,
      "outputs": [
        {
          "output_type": "stream",
          "name": "stdout",
          "text": [
            "1.10.1\n"
          ]
        }
      ]
    },
    {
      "cell_type": "code",
      "source": [
        "# вывод списка всех установленных в окружении пакетов\n",
        "!pip freeze"
      ],
      "metadata": {
        "id": "KzPE2TGRL_kV",
        "colab": {
          "base_uri": "https://localhost:8080/"
        },
        "outputId": "3db666b5-e57f-4ad8-9a3a-07d641b849d3"
      },
      "execution_count": null,
      "outputs": [
        {
          "output_type": "stream",
          "name": "stdout",
          "text": [
            "absl-py==1.4.0\n",
            "accelerate==0.34.2\n",
            "aiohappyeyeballs==2.4.0\n",
            "aiohttp==3.10.5\n",
            "aiosignal==1.3.1\n",
            "alabaster==0.7.16\n",
            "albucore==0.0.16\n",
            "albumentations==1.4.15\n",
            "altair==4.2.2\n",
            "annotated-types==0.7.0\n",
            "anyio==3.7.1\n",
            "argon2-cffi==23.1.0\n",
            "argon2-cffi-bindings==21.2.0\n",
            "array_record==0.5.1\n",
            "arviz==0.19.0\n",
            "astropy==6.1.3\n",
            "astropy-iers-data==0.2024.9.16.0.32.21\n",
            "astunparse==1.6.3\n",
            "async-timeout==4.0.3\n",
            "atpublic==4.1.0\n",
            "attrs==24.2.0\n",
            "audioread==3.0.1\n",
            "autograd==1.7.0\n",
            "babel==2.16.0\n",
            "backcall==0.2.0\n",
            "beautifulsoup4==4.12.3\n",
            "bigframes==1.18.0\n",
            "bigquery-magics==0.2.0\n",
            "bleach==6.1.0\n",
            "blinker==1.4\n",
            "blis==0.7.11\n",
            "blosc2==2.0.0\n",
            "bokeh==3.4.3\n",
            "bqplot==0.12.43\n",
            "branca==0.7.2\n",
            "build==1.2.2\n",
            "CacheControl==0.14.0\n",
            "cachetools==5.5.0\n",
            "catalogue==2.0.10\n",
            "certifi==2024.8.30\n",
            "cffi==1.17.1\n",
            "chardet==5.2.0\n",
            "charset-normalizer==3.3.2\n",
            "chex==0.1.86\n",
            "clarabel==0.9.0\n",
            "click==8.1.7\n",
            "click-plugins==1.1.1\n",
            "cligj==0.7.2\n",
            "cloudpathlib==0.19.0\n",
            "cloudpickle==2.2.1\n",
            "cmake==3.30.3\n",
            "cmdstanpy==1.2.4\n",
            "colorcet==3.1.0\n",
            "colorlover==0.3.0\n",
            "colour==0.1.5\n",
            "community==1.0.0b1\n",
            "confection==0.1.5\n",
            "cons==0.4.6\n",
            "contextlib2==21.6.0\n",
            "contourpy==1.3.0\n",
            "cryptography==43.0.1\n",
            "cuda-python==12.2.1\n",
            "cudf-cu12 @ https://pypi.nvidia.com/cudf-cu12/cudf_cu12-24.4.1-cp310-cp310-manylinux_2_28_x86_64.whl#sha256=57366e7ef09dc63e0b389aff20df6c37d91e2790065861ee31a4720149f5b694\n",
            "cufflinks==0.17.3\n",
            "cupy-cuda12x==12.2.0\n",
            "cvxopt==1.3.2\n",
            "cvxpy==1.5.3\n",
            "cycler==0.12.1\n",
            "cymem==2.0.8\n",
            "Cython==3.0.11\n",
            "dask==2024.8.0\n",
            "datascience==0.17.6\n",
            "db-dtypes==1.3.0\n",
            "dbus-python==1.2.18\n",
            "debugpy==1.6.6\n",
            "decorator==4.4.2\n",
            "defusedxml==0.7.1\n",
            "distributed==2024.8.0\n",
            "distro==1.7.0\n",
            "dlib==19.24.2\n",
            "dm-tree==0.1.8\n",
            "docstring_parser==0.16\n",
            "docutils==0.18.1\n",
            "dopamine_rl==4.0.9\n",
            "duckdb==1.1.0\n",
            "earthengine-api==1.0.0\n",
            "easydict==1.13\n",
            "ecos==2.0.14\n",
            "editdistance==0.8.1\n",
            "eerepr==0.0.4\n",
            "einops==0.8.0\n",
            "en-core-web-sm @ https://github.com/explosion/spacy-models/releases/download/en_core_web_sm-3.7.1/en_core_web_sm-3.7.1-py3-none-any.whl#sha256=86cc141f63942d4b2c5fcee06630fd6f904788d2f0ab005cce45aadb8fb73889\n",
            "entrypoints==0.4\n",
            "et-xmlfile==1.1.0\n",
            "etils==1.9.4\n",
            "etuples==0.3.9\n",
            "eval_type_backport==0.2.0\n",
            "exceptiongroup==1.2.2\n",
            "fastai==2.7.17\n",
            "fastcore==1.7.8\n",
            "fastdownload==0.0.7\n",
            "fastjsonschema==2.20.0\n",
            "fastprogress==1.0.3\n",
            "fastrlock==0.8.2\n",
            "filelock==3.16.1\n",
            "fiona==1.10.1\n",
            "firebase-admin==6.5.0\n",
            "Flask==2.2.5\n",
            "flatbuffers==24.3.25\n",
            "flax==0.8.5\n",
            "folium==0.17.0\n",
            "fonttools==4.53.1\n",
            "frozendict==2.4.4\n",
            "frozenlist==1.4.1\n",
            "fsspec==2024.6.1\n",
            "future==1.0.0\n",
            "gast==0.6.0\n",
            "gcsfs==2024.6.1\n",
            "GDAL==3.6.4\n",
            "gdown==5.2.0\n",
            "geemap==0.34.3\n",
            "gensim==4.3.3\n",
            "geocoder==1.38.1\n",
            "geographiclib==2.0\n",
            "geopandas==1.0.1\n",
            "geopy==2.4.1\n",
            "gin-config==0.5.0\n",
            "glob2==0.7\n",
            "google==2.0.3\n",
            "google-ai-generativelanguage==0.6.6\n",
            "google-api-core==2.19.2\n",
            "google-api-python-client==2.137.0\n",
            "google-auth==2.27.0\n",
            "google-auth-httplib2==0.2.0\n",
            "google-auth-oauthlib==1.2.1\n",
            "google-cloud-aiplatform==1.67.1\n",
            "google-cloud-bigquery==3.25.0\n",
            "google-cloud-bigquery-connection==1.15.5\n",
            "google-cloud-bigquery-storage==2.26.0\n",
            "google-cloud-bigtable==2.26.0\n",
            "google-cloud-core==2.4.1\n",
            "google-cloud-datastore==2.19.0\n",
            "google-cloud-firestore==2.16.1\n",
            "google-cloud-functions==1.16.5\n",
            "google-cloud-iam==2.15.2\n",
            "google-cloud-language==2.13.4\n",
            "google-cloud-pubsub==2.23.1\n",
            "google-cloud-resource-manager==1.12.5\n",
            "google-cloud-storage==2.8.0\n",
            "google-cloud-translate==3.15.5\n",
            "google-colab @ file:///colabtools/dist/google_colab-1.0.0.tar.gz#sha256=07bb3e866a2fb3dc3072920a4722b4a4c9c2fc953a97253597f3e5391c3dd17c\n",
            "google-crc32c==1.6.0\n",
            "google-generativeai==0.7.2\n",
            "google-pasta==0.2.0\n",
            "google-resumable-media==2.7.2\n",
            "googleapis-common-protos==1.65.0\n",
            "googledrivedownloader==0.4\n",
            "graphviz==0.20.3\n",
            "greenlet==3.1.1\n",
            "grpc-google-iam-v1==0.13.1\n",
            "grpcio==1.64.1\n",
            "grpcio-status==1.48.2\n",
            "gspread==6.0.2\n",
            "gspread-dataframe==3.3.1\n",
            "gym==0.25.2\n",
            "gym-notices==0.0.8\n",
            "h5netcdf==1.3.0\n",
            "h5py==3.11.0\n",
            "holidays==0.57\n",
            "holoviews==1.19.1\n",
            "html5lib==1.1\n",
            "httpimport==1.4.0\n",
            "httplib2==0.22.0\n",
            "huggingface-hub==0.24.7\n",
            "humanize==4.10.0\n",
            "hyperopt==0.2.7\n",
            "ibis-framework==9.2.0\n",
            "idna==3.10\n",
            "imageio==2.35.1\n",
            "imageio-ffmpeg==0.5.1\n",
            "imagesize==1.4.1\n",
            "imbalanced-learn==0.12.3\n",
            "imgaug==0.4.0\n",
            "immutabledict==4.2.0\n",
            "importlib_metadata==8.5.0\n",
            "importlib_resources==6.4.5\n",
            "imutils==0.5.4\n",
            "inflect==7.4.0\n",
            "iniconfig==2.0.0\n",
            "intel-cmplr-lib-ur==2024.2.1\n",
            "intel-openmp==2024.2.1\n",
            "ipyevents==2.0.2\n",
            "ipyfilechooser==0.6.0\n",
            "ipykernel==5.5.6\n",
            "ipyleaflet==0.19.2\n",
            "ipyparallel==8.8.0\n",
            "ipython==7.34.0\n",
            "ipython-genutils==0.2.0\n",
            "ipython-sql==0.5.0\n",
            "ipytree==0.2.2\n",
            "ipywidgets==7.7.1\n",
            "itsdangerous==2.2.0\n",
            "jax==0.4.33\n",
            "jax-cuda12-pjrt==0.4.33\n",
            "jax-cuda12-plugin==0.4.33\n",
            "jaxlib==0.4.33\n",
            "jeepney==0.7.1\n",
            "jellyfish==1.1.0\n",
            "jieba==0.42.1\n",
            "Jinja2==3.1.4\n",
            "joblib==1.4.2\n",
            "jsonpickle==3.3.0\n",
            "jsonschema==4.23.0\n",
            "jsonschema-specifications==2023.12.1\n",
            "jupyter-client==6.1.12\n",
            "jupyter-console==6.1.0\n",
            "jupyter-leaflet==0.19.2\n",
            "jupyter-server==1.24.0\n",
            "jupyter_core==5.7.2\n",
            "jupyterlab_pygments==0.3.0\n",
            "jupyterlab_widgets==3.0.13\n",
            "kaggle==1.6.17\n",
            "kagglehub==0.3.0\n",
            "keras==3.4.1\n",
            "keyring==23.5.0\n",
            "kiwisolver==1.4.7\n",
            "langcodes==3.4.0\n",
            "language_data==1.2.0\n",
            "launchpadlib==1.10.16\n",
            "lazr.restfulclient==0.14.4\n",
            "lazr.uri==1.0.6\n",
            "lazy_loader==0.4\n",
            "libclang==18.1.1\n",
            "librosa==0.10.2.post1\n",
            "lightgbm==4.5.0\n",
            "linkify-it-py==2.0.3\n",
            "llvmlite==0.43.0\n",
            "locket==1.0.0\n",
            "logical-unification==0.4.6\n",
            "lxml==4.9.4\n",
            "marisa-trie==1.2.0\n",
            "Markdown==3.7\n",
            "markdown-it-py==3.0.0\n",
            "MarkupSafe==2.1.5\n",
            "matplotlib==3.7.1\n",
            "matplotlib-inline==0.1.7\n",
            "matplotlib-venn==1.1.1\n",
            "mdit-py-plugins==0.4.2\n",
            "mdurl==0.1.2\n",
            "miniKanren==1.0.3\n",
            "missingno==0.5.2\n",
            "mistune==0.8.4\n",
            "mizani==0.11.4\n",
            "mkl==2024.2.2\n",
            "ml-dtypes==0.4.1\n",
            "mlxtend==0.23.1\n",
            "more-itertools==10.5.0\n",
            "moviepy==1.0.3\n",
            "mpmath==1.3.0\n",
            "msgpack==1.0.8\n",
            "multidict==6.1.0\n",
            "multipledispatch==1.0.0\n",
            "multitasking==0.0.11\n",
            "murmurhash==1.0.10\n",
            "music21==9.1.0\n",
            "namex==0.0.8\n",
            "natsort==8.4.0\n",
            "nbclassic==1.1.0\n",
            "nbclient==0.10.0\n",
            "nbconvert==6.5.4\n",
            "nbformat==5.10.4\n",
            "nest-asyncio==1.6.0\n",
            "networkx==3.3\n",
            "nibabel==5.2.1\n",
            "nltk==3.8.1\n",
            "notebook==6.5.5\n",
            "notebook_shim==0.2.4\n",
            "numba==0.60.0\n",
            "numexpr==2.10.1\n",
            "numpy==1.26.4\n",
            "nvidia-cublas-cu12==12.6.1.4\n",
            "nvidia-cuda-cupti-cu12==12.6.68\n",
            "nvidia-cuda-nvcc-cu12==12.6.68\n",
            "nvidia-cuda-runtime-cu12==12.6.68\n",
            "nvidia-cudnn-cu12==9.4.0.58\n",
            "nvidia-cufft-cu12==11.2.6.59\n",
            "nvidia-cusolver-cu12==11.6.4.69\n",
            "nvidia-cusparse-cu12==12.5.3.3\n",
            "nvidia-nccl-cu12==2.23.4\n",
            "nvidia-nvjitlink-cu12==12.6.68\n",
            "nvtx==0.2.10\n",
            "oauth2client==4.1.3\n",
            "oauthlib==3.2.2\n",
            "opencv-contrib-python==4.10.0.84\n",
            "opencv-python==4.10.0.84\n",
            "opencv-python-headless==4.10.0.84\n",
            "openpyxl==3.1.5\n",
            "opt-einsum==3.3.0\n",
            "optax==0.2.3\n",
            "optree==0.12.1\n",
            "orbax-checkpoint==0.6.4\n",
            "osqp==0.6.7.post0\n",
            "packaging==24.1\n",
            "pandas==2.1.4\n",
            "pandas-datareader==0.10.0\n",
            "pandas-gbq==0.23.1\n",
            "pandas-stubs==2.1.4.231227\n",
            "pandocfilters==1.5.1\n",
            "panel==1.4.5\n",
            "param==2.1.1\n",
            "parso==0.8.4\n",
            "parsy==2.1\n",
            "partd==1.4.2\n",
            "pathlib==1.0.1\n",
            "patsy==0.5.6\n",
            "peewee==3.17.6\n",
            "pexpect==4.9.0\n",
            "pickleshare==0.7.5\n",
            "pillow==10.4.0\n",
            "pip-tools==7.4.1\n",
            "platformdirs==4.3.6\n",
            "plotly==5.24.1\n",
            "plotnine==0.13.6\n",
            "pluggy==1.5.0\n",
            "polars==1.6.0\n",
            "pooch==1.8.2\n",
            "portpicker==1.5.2\n",
            "prefetch_generator==1.0.3\n",
            "preshed==3.0.9\n",
            "prettytable==3.11.0\n",
            "proglog==0.1.10\n",
            "progressbar2==4.5.0\n",
            "prometheus_client==0.21.0\n",
            "promise==2.3\n",
            "prompt_toolkit==3.0.47\n",
            "prophet==1.1.5\n",
            "proto-plus==1.24.0\n",
            "protobuf==3.20.3\n",
            "psutil==5.9.5\n",
            "psycopg2==2.9.9\n",
            "ptyprocess==0.7.0\n",
            "py-cpuinfo==9.0.0\n",
            "py4j==0.10.9.7\n",
            "pyarrow==14.0.2\n",
            "pyarrow-hotfix==0.6\n",
            "pyasn1==0.6.1\n",
            "pyasn1_modules==0.4.1\n",
            "pycocotools==2.0.8\n",
            "pycparser==2.22\n",
            "pydantic==2.9.2\n",
            "pydantic_core==2.23.4\n",
            "pydata-google-auth==1.8.2\n",
            "pydot==3.0.1\n",
            "pydot-ng==2.0.0\n",
            "pydotplus==2.0.2\n",
            "PyDrive==1.3.1\n",
            "PyDrive2==1.20.0\n",
            "pyerfa==2.0.1.4\n",
            "pygame==2.6.0\n",
            "Pygments==2.18.0\n",
            "PyGObject==3.42.1\n",
            "PyJWT==2.9.0\n",
            "pymc==5.16.2\n",
            "pymystem3==0.2.0\n",
            "pynvjitlink-cu12==0.3.0\n",
            "pyogrio==0.9.0\n",
            "PyOpenGL==3.1.7\n",
            "pyOpenSSL==24.2.1\n",
            "pyparsing==3.1.4\n",
            "pyperclip==1.9.0\n",
            "pyproj==3.6.1\n",
            "pyproject_hooks==1.1.0\n",
            "pyshp==2.3.1\n",
            "PySocks==1.7.1\n",
            "pytensor==2.25.4\n",
            "pytest==7.4.4\n",
            "python-apt==2.4.0\n",
            "python-box==7.2.0\n",
            "python-dateutil==2.8.2\n",
            "python-louvain==0.16\n",
            "python-slugify==8.0.4\n",
            "python-utils==3.8.2\n",
            "pytz==2024.2\n",
            "pyviz_comms==3.0.3\n",
            "PyYAML==6.0.2\n",
            "pyzmq==24.0.1\n",
            "qdldl==0.1.7.post4\n",
            "ratelim==0.1.6\n",
            "referencing==0.35.1\n",
            "regex==2024.9.11\n",
            "requests==2.32.3\n",
            "requests-oauthlib==1.3.1\n",
            "requirements-parser==0.9.0\n",
            "rich==13.8.1\n",
            "rmm-cu12==24.4.0\n",
            "rpds-py==0.20.0\n",
            "rpy2==3.4.2\n",
            "rsa==4.9\n",
            "safetensors==0.4.5\n",
            "scikit-image==0.24.0\n",
            "scikit-learn==1.5.2\n",
            "scipy==1.13.1\n",
            "scooby==0.10.0\n",
            "scs==3.2.7\n",
            "seaborn==0.13.1\n",
            "SecretStorage==3.3.1\n",
            "Send2Trash==1.8.3\n",
            "sentencepiece==0.2.0\n",
            "shapely==2.0.6\n",
            "shellingham==1.5.4\n",
            "simple-parsing==0.1.6\n",
            "six==1.16.0\n",
            "sklearn-pandas==2.2.0\n",
            "smart-open==7.0.4\n",
            "sniffio==1.3.1\n",
            "snowballstemmer==2.2.0\n",
            "sortedcontainers==2.4.0\n",
            "soundfile==0.12.1\n",
            "soupsieve==2.6\n",
            "soxr==0.5.0.post1\n",
            "spacy==3.7.6\n",
            "spacy-legacy==3.0.12\n",
            "spacy-loggers==1.0.5\n",
            "Sphinx==5.0.2\n",
            "sphinxcontrib-applehelp==2.0.0\n",
            "sphinxcontrib-devhelp==2.0.0\n",
            "sphinxcontrib-htmlhelp==2.1.0\n",
            "sphinxcontrib-jsmath==1.0.1\n",
            "sphinxcontrib-qthelp==2.0.0\n",
            "sphinxcontrib-serializinghtml==2.0.0\n",
            "SQLAlchemy==2.0.35\n",
            "sqlglot==25.1.0\n",
            "sqlparse==0.5.1\n",
            "srsly==2.4.8\n",
            "stanio==0.5.1\n",
            "statsmodels==0.14.3\n",
            "StrEnum==0.4.15\n",
            "sympy==1.13.3\n",
            "tables==3.8.0\n",
            "tabulate==0.9.0\n",
            "tbb==2021.13.1\n",
            "tblib==3.0.0\n",
            "tenacity==9.0.0\n",
            "tensorboard==2.17.0\n",
            "tensorboard-data-server==0.7.2\n",
            "tensorflow==2.17.0\n",
            "tensorflow-datasets==4.9.6\n",
            "tensorflow-hub==0.16.1\n",
            "tensorflow-io-gcs-filesystem==0.37.1\n",
            "tensorflow-metadata==1.15.0\n",
            "tensorflow-probability==0.24.0\n",
            "tensorstore==0.1.65\n",
            "termcolor==2.4.0\n",
            "terminado==0.18.1\n",
            "text-unidecode==1.3\n",
            "textblob==0.17.1\n",
            "tf-slim==1.1.0\n",
            "tf_keras==2.17.0\n",
            "thinc==8.2.5\n",
            "threadpoolctl==3.5.0\n",
            "tifffile==2024.9.20\n",
            "tinycss2==1.3.0\n",
            "tokenizers==0.19.1\n",
            "toml==0.10.2\n",
            "tomli==2.0.1\n",
            "toolz==0.12.1\n",
            "torch @ https://download.pytorch.org/whl/cu121_full/torch-2.4.1%2Bcu121-cp310-cp310-linux_x86_64.whl#sha256=f3ed9a2b7f8671b2b32a2f036d1b81055eb3ad9b18ba43b705aa34bae4289e1a\n",
            "torchaudio @ https://download.pytorch.org/whl/cu121_full/torchaudio-2.4.1%2Bcu121-cp310-cp310-linux_x86_64.whl#sha256=da8c87c80a1c1376a48dc33eef30b03bbdf1df25a05bd2b1c620b8811c7b19be\n",
            "torchsummary==1.5.1\n",
            "torchvision @ https://download.pytorch.org/whl/cu121_full/torchvision-0.19.1%2Bcu121-cp310-cp310-linux_x86_64.whl#sha256=b8cc4bf381b75522995b601e07a1b433b5fd925dc3e34a7fa6cd22f449d65379\n",
            "tornado==6.3.3\n",
            "tqdm==4.66.5\n",
            "traitlets==5.7.1\n",
            "traittypes==0.2.1\n",
            "transformers==4.44.2\n",
            "tweepy==4.14.0\n",
            "typeguard==4.3.0\n",
            "typer==0.12.5\n",
            "types-pytz==2024.2.0.20240913\n",
            "types-setuptools==75.1.0.20240917\n",
            "typing_extensions==4.12.2\n",
            "tzdata==2024.1\n",
            "tzlocal==5.2\n",
            "uc-micro-py==1.0.3\n",
            "uritemplate==4.1.1\n",
            "urllib3==2.2.3\n",
            "vega-datasets==0.9.0\n",
            "wadllib==1.3.6\n",
            "wasabi==1.1.3\n",
            "wcwidth==0.2.13\n",
            "weasel==0.4.1\n",
            "webcolors==24.8.0\n",
            "webencodings==0.5.1\n",
            "websocket-client==1.8.0\n",
            "Werkzeug==3.0.4\n",
            "widgetsnbextension==3.6.9\n",
            "wordcloud==1.9.3\n",
            "wrapt==1.16.0\n",
            "xarray==2024.9.0\n",
            "xarray-einstats==0.8.0\n",
            "xgboost==2.1.1\n",
            "xlrd==2.0.1\n",
            "xyzservices==2024.9.0\n",
            "yarl==1.11.1\n",
            "yellowbrick==1.5\n",
            "yfinance==0.2.43\n",
            "zict==3.0.0\n",
            "zipp==3.20.2\n"
          ]
        }
      ]
    },
    {
      "cell_type": "code",
      "source": [
        "# деинсталляция пакета при помощи командной строки\n",
        "!pip uninstall fiona\n",
        "\n",
        "# можно пропустить диалог с подтверждением удаления\n",
        "# !pip uninstall fiona -y"
      ],
      "metadata": {
        "id": "cB2qyLlOMGo-",
        "colab": {
          "base_uri": "https://localhost:8080/"
        },
        "outputId": "b48a0cc5-321f-4afd-e0a6-3d8d86de2200"
      },
      "execution_count": null,
      "outputs": [
        {
          "output_type": "stream",
          "name": "stdout",
          "text": [
            "Found existing installation: fiona 1.10.1\n",
            "Uninstalling fiona-1.10.1:\n",
            "  Would remove:\n",
            "    /usr/local/bin/fio\n",
            "    /usr/local/lib/python3.10/dist-packages/fiona-1.10.1.dist-info/*\n",
            "    /usr/local/lib/python3.10/dist-packages/fiona.libs/libcrypto-fiona-a474b82d.so.1.1\n",
            "    /usr/local/lib/python3.10/dist-packages/fiona.libs/libcurl-fiona-1d984654.so.4.8.0\n",
            "    /usr/local/lib/python3.10/dist-packages/fiona.libs/libgdal-fiona-e8f6bdb0.so.35.3.9.2\n",
            "    /usr/local/lib/python3.10/dist-packages/fiona.libs/libgeos-fiona-d914d573.so.3.11.2\n",
            "    /usr/local/lib/python3.10/dist-packages/fiona.libs/libgeos_c-fiona-3b303efa.so.1.17.2\n",
            "    /usr/local/lib/python3.10/dist-packages/fiona.libs/libjpeg-fiona-320f4797.so.9.6.0\n",
            "    /usr/local/lib/python3.10/dist-packages/fiona.libs/libjson-c-fiona-b8129721.so.5.1.0\n",
            "    /usr/local/lib/python3.10/dist-packages/fiona.libs/liblzma-fiona-c949e524.so.5.2.2\n",
            "    /usr/local/lib/python3.10/dist-packages/fiona.libs/libnghttp2-fiona-e183d352.so.14.21.1\n",
            "    /usr/local/lib/python3.10/dist-packages/fiona.libs/libpcre2-8-fiona-221be7d6.so.0.13.0\n",
            "    /usr/local/lib/python3.10/dist-packages/fiona.libs/libpng16-fiona-8ebcc106.so.16.35.0\n",
            "    /usr/local/lib/python3.10/dist-packages/fiona.libs/libproj-fiona-3ec30893.so.25.9.4.1\n",
            "    /usr/local/lib/python3.10/dist-packages/fiona.libs/libsqlite3-fiona-83998bda.so.0.8.6\n",
            "    /usr/local/lib/python3.10/dist-packages/fiona.libs/libssl-fiona-6c758070.so.1.1\n",
            "    /usr/local/lib/python3.10/dist-packages/fiona.libs/libtiff-fiona-c967de8d.so.5.7.0\n",
            "    /usr/local/lib/python3.10/dist-packages/fiona/*\n",
            "Proceed (Y/n)? y\n",
            "  Successfully uninstalled fiona-1.10.1\n"
          ]
        }
      ]
    },
    {
      "cell_type": "markdown",
      "source": [
        "## Обработка ошибок"
      ],
      "metadata": {
        "id": "ZaSdHwDnM32T"
      }
    },
    {
      "cell_type": "markdown",
      "source": [
        "**Исключения** — это механизм обработки ошибок во время выполнения программы. Они позволяют программе продолжить работу после обнаружения ошибки, а не завершаться аварийно."
      ],
      "metadata": {
        "id": "gXxduUO0N7a1"
      }
    },
    {
      "cell_type": "markdown",
      "source": [
        "В python есть исключения почти для всех возможных ситуаций. Они все наследуются от класса `BaseException` и имеют следующую иерархию:\n",
        "\n",
        "**BaseException**:\n",
        "- `SystemExit` - исключение, вызванное функцией sys.exit(), указывает на выход из Python.\n",
        "- `KeyboardInterrupt` - вызывается при прерывании программы пользователем (обычно через сочетание клавиш Ctrl+C).\n",
        "- `GeneratorExit` - вызывается, когда генератор закрывается; это не ошибка, а уведомление о закрытии.\n",
        "- `Exception` - почти все встроенные исключения, с которыми сталкиваются разработчики в повседневной работе, являются производными от этого класса. Он служит базой для иерархии исключений, не связанных с системными событиями."
      ],
      "metadata": {
        "id": "xZfr5HJPO2Kf"
      }
    },
    {
      "cell_type": "markdown",
      "source": [
        "Иерархия класса `Exception` и его наследников:\n",
        "\n",
        "**Exception**\n",
        "- StopIteration\n",
        "- StopAsyncIteration\n",
        "- ArithmeticError\n",
        "    - FloatingPointError\n",
        "    - OverflowError\n",
        "    - ZeroDivisionError\n",
        "- AssertionError\n",
        "- AttributeError\n",
        "- BufferError\n",
        "- EOFError\n",
        "- ImportError\n",
        "    - ModuleNotFoundError\n",
        "- LookupError\n",
        "    - IndexError\n",
        "    - KeyError\n",
        "- MemoryError\n",
        "- NameError\n",
        "    - UnboundLocalError\n",
        "- OSError\n",
        "    - lockingIOError\n",
        "    - ChildProcessError\n",
        "    - ConnectionError\n",
        "        - BrokenPipeError\n",
        "        - ConnectionAbortedError\n",
        "        - ConnectionRefusedError\n",
        "        - ConnectionResetError\n",
        "    - FileExistsError\n",
        "    - FileNotFoundError\n",
        "    - InterruptedError\n",
        "    - IsADirectoryError\n",
        "    - NotADirectoryError\n",
        "    - PermissionError\n",
        "    - ProcessLookupError\n",
        "    - TimeoutError\n",
        "- ReferenceError\n",
        "- RuntimeError\n",
        "    - NotImplementedError\n",
        "    - RecursionError\n",
        "- SyntaxError\n",
        "    - IndentationError\n",
        "        - TabError\n",
        "- SystemError\n",
        "- TypeError\n",
        "- ValueError\n",
        "    - UnicodeError\n",
        "        - UnicodeDecodeError\n",
        "        - UnicodeEncodeError\n",
        "        - UnicodeTranslateError\n",
        "- Warning\n",
        "    - DeprecationWarning\n",
        "    - PendingDeprecationWarning\n",
        "    - RuntimeWarning\n",
        "    - SyntaxWarning\n",
        "    - UserWarning\n",
        "    - FutureWarning\n",
        "    - ImportWarning\n",
        "    - UnicodeWarning\n",
        "    - BytesWarning\n",
        "    - EncodingWarning\n",
        "    - ResourceWarning"
      ],
      "metadata": {
        "id": "zlfuOrkKPuO7"
      }
    },
    {
      "cell_type": "markdown",
      "source": [
        "### Конструкция try...except...finally"
      ],
      "metadata": {
        "id": "8xQNBR9QVshC"
      }
    },
    {
      "cell_type": "code",
      "source": [
        "# в блоке try содержится код, который может вызвать исключение\n",
        "try:\n",
        "    a = 1 / 0\n",
        "# в блоке except - код, который будет выполняться в случае возникновения ошибки\n",
        "except:\n",
        "    print(\"Ошибка: деление на 0!\")"
      ],
      "metadata": {
        "id": "3GOTigdTM9Ab",
        "colab": {
          "base_uri": "https://localhost:8080/"
        },
        "outputId": "b189c111-bfd1-4327-b2ea-fe1339c81354"
      },
      "execution_count": null,
      "outputs": [
        {
          "output_type": "stream",
          "name": "stdout",
          "text": [
            "Ошибка: деление на 0!\n"
          ]
        }
      ]
    },
    {
      "cell_type": "code",
      "source": [
        "try:\n",
        "    file = open(\"my_file.txt\", 'w')\n",
        "    file.write(1/0)\n",
        "except:\n",
        "    print(\"Ошибка при работе с файлом\")\n",
        "# можно добавить блок finally, который выполнится не зависимо от того, было ли\n",
        "# сгенерированно исключение\n",
        "finally:\n",
        "    file.close()\n",
        "    print(\"Файл в любом случае закрыт\")"
      ],
      "metadata": {
        "id": "qK-0QZH0WPmQ",
        "colab": {
          "base_uri": "https://localhost:8080/"
        },
        "outputId": "e0b90c03-d1a8-43e9-957a-d8f1c7c153a5"
      },
      "execution_count": null,
      "outputs": [
        {
          "output_type": "stream",
          "name": "stdout",
          "text": [
            "Ошибка при работе с файлом\n",
            "Файл в любом случае закрыт\n"
          ]
        }
      ]
    },
    {
      "cell_type": "code",
      "source": [
        "try:\n",
        "    a = 1 / 0\n",
        "# желательно указывать тип исключения для получения информации о нём\n",
        "except ZeroDivisionError as exc:\n",
        "    print(\"Ошибка:\", exc)"
      ],
      "metadata": {
        "id": "hkSyft_0Xydf",
        "colab": {
          "base_uri": "https://localhost:8080/"
        },
        "outputId": "d1041931-18aa-46f5-f934-327fc0574d79"
      },
      "execution_count": null,
      "outputs": [
        {
          "output_type": "stream",
          "name": "stdout",
          "text": [
            "Ошибка: division by zero\n"
          ]
        }
      ]
    },
    {
      "cell_type": "code",
      "source": [
        "try:\n",
        "    a = 1\n",
        "    b = 0\n",
        "    # во многих ситуациях лучшим вариантом будет предвидеть исключение\n",
        "    # и самостоятельно выбросить его с помощью оператора raise\n",
        "    if b == 0:\n",
        "        raise ZeroDivisionError(\"деление на 0\")\n",
        "    c = a / b\n",
        "except ZeroDivisionError as exc:\n",
        "    print(\"Ошибка:\", exc)"
      ],
      "metadata": {
        "id": "hV8d7QW3YblE",
        "colab": {
          "base_uri": "https://localhost:8080/"
        },
        "outputId": "b333284b-d52c-4b36-ca9d-977500769f54"
      },
      "execution_count": null,
      "outputs": [
        {
          "output_type": "stream",
          "name": "stdout",
          "text": [
            "Ошибка: деление на 0\n"
          ]
        }
      ]
    },
    {
      "cell_type": "code",
      "source": [
        "# следует быть аккуратным с обработкой ошибок внутри функций,\n",
        "# особенно тех, которые имеют возвращаемое значение\n",
        "def division(a: int, b: int) -> int:\n",
        "    try:\n",
        "        if b == 0:\n",
        "            raise ZeroDivisionError(\"деление на 0\")\n",
        "        return a / b\n",
        "    except ZeroDivisionError as exc:\n",
        "        print(\"Ошибка:\", exc)\n",
        "\n",
        "# здесь ожидается результат типа int, но возвращается None\n",
        "res = division(5, 0) + 10\n",
        "print(res)"
      ],
      "metadata": {
        "id": "nM8pi7rsabWM",
        "colab": {
          "base_uri": "https://localhost:8080/",
          "height": 211
        },
        "outputId": "b257cdc3-8854-4b67-e3bb-e51de3b94a6a"
      },
      "execution_count": null,
      "outputs": [
        {
          "output_type": "stream",
          "name": "stdout",
          "text": [
            "Ошибка: деление на 0\n"
          ]
        },
        {
          "output_type": "error",
          "ename": "TypeError",
          "evalue": "unsupported operand type(s) for +: 'NoneType' and 'int'",
          "traceback": [
            "\u001b[0;31m---------------------------------------------------------------------------\u001b[0m",
            "\u001b[0;31mTypeError\u001b[0m                                 Traceback (most recent call last)",
            "\u001b[0;32m<ipython-input-22-b63574bad188>\u001b[0m in \u001b[0;36m<cell line: 12>\u001b[0;34m()\u001b[0m\n\u001b[1;32m     10\u001b[0m \u001b[0;34m\u001b[0m\u001b[0m\n\u001b[1;32m     11\u001b[0m \u001b[0;31m# здесь ожидается результат типа int, но возвращается None\u001b[0m\u001b[0;34m\u001b[0m\u001b[0;34m\u001b[0m\u001b[0m\n\u001b[0;32m---> 12\u001b[0;31m \u001b[0mres\u001b[0m \u001b[0;34m=\u001b[0m \u001b[0mdivision\u001b[0m\u001b[0;34m(\u001b[0m\u001b[0;36m5\u001b[0m\u001b[0;34m,\u001b[0m \u001b[0;36m0\u001b[0m\u001b[0;34m)\u001b[0m \u001b[0;34m+\u001b[0m \u001b[0;36m10\u001b[0m\u001b[0;34m\u001b[0m\u001b[0;34m\u001b[0m\u001b[0m\n\u001b[0m\u001b[1;32m     13\u001b[0m \u001b[0mprint\u001b[0m\u001b[0;34m(\u001b[0m\u001b[0mres\u001b[0m\u001b[0;34m)\u001b[0m\u001b[0;34m\u001b[0m\u001b[0;34m\u001b[0m\u001b[0m\n",
            "\u001b[0;31mTypeError\u001b[0m: unsupported operand type(s) for +: 'NoneType' and 'int'"
          ]
        }
      ]
    },
    {
      "cell_type": "code",
      "source": [
        "# лучшим вариантом будет вынести обработку исключения за пределы функции\n",
        "def division(a: int, b: int) -> int:\n",
        "    # потенциальное исключение можно добавить в docstring\n",
        "    \"\"\"\n",
        "    :raises ZeroDivisionError: division by zero.\n",
        "    \"\"\"\n",
        "    if b == 0:\n",
        "        raise ZeroDivisionError(\"деление на 0\")\n",
        "    return a / b\n",
        "\n",
        "try:\n",
        "    res = division(5, 0) + 10\n",
        "    print(res)\n",
        "except ZeroDivisionError as exc:\n",
        "    print(\"Ошибка:\", exc)"
      ],
      "metadata": {
        "id": "W28-eRfvbXww",
        "colab": {
          "base_uri": "https://localhost:8080/"
        },
        "outputId": "d19ced67-2d44-446b-b118-839affeaf21d"
      },
      "execution_count": null,
      "outputs": [
        {
          "output_type": "stream",
          "name": "stdout",
          "text": [
            "Ошибка: деление на 0\n"
          ]
        }
      ]
    }
  ]
}