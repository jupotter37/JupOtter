{
 "cells": [
  {
   "cell_type": "markdown",
   "id": "4c2e75d0",
   "metadata": {},
   "source": [
    "### Day Objective\n",
    "- Functions, Data Structures"
   ]
  },
  {
   "cell_type": "markdown",
   "id": "7326952e",
   "metadata": {},
   "source": [
    "### Functions\n",
    "- A block of reusable code to do specific task.\n",
    "- 2 types\n",
    "    1. Pre-defined functions(In-built)\n",
    "    2. User-defined functions"
   ]
  },
  {
   "cell_type": "markdown",
   "id": "00377809",
   "metadata": {},
   "source": [
    "### 1. Pre-defined functions"
   ]
  },
  {
   "cell_type": "code",
   "execution_count": 2,
   "id": "7cf38872",
   "metadata": {
    "collapsed": true
   },
   "outputs": [
    {
     "name": "stdout",
     "output_type": "stream",
     "text": [
      "['ArithmeticError', 'AssertionError', 'AttributeError', 'BaseException', 'BlockingIOError', 'BrokenPipeError', 'BufferError', 'BytesWarning', 'ChildProcessError', 'ConnectionAbortedError', 'ConnectionError', 'ConnectionRefusedError', 'ConnectionResetError', 'DeprecationWarning', 'EOFError', 'Ellipsis', 'EnvironmentError', 'Exception', 'False', 'FileExistsError', 'FileNotFoundError', 'FloatingPointError', 'FutureWarning', 'GeneratorExit', 'IOError', 'ImportError', 'ImportWarning', 'IndentationError', 'IndexError', 'InterruptedError', 'IsADirectoryError', 'KeyError', 'KeyboardInterrupt', 'LookupError', 'MemoryError', 'ModuleNotFoundError', 'NameError', 'None', 'NotADirectoryError', 'NotImplemented', 'NotImplementedError', 'OSError', 'OverflowError', 'PendingDeprecationWarning', 'PermissionError', 'ProcessLookupError', 'RecursionError', 'ReferenceError', 'ResourceWarning', 'RuntimeError', 'RuntimeWarning', 'StopAsyncIteration', 'StopIteration', 'SyntaxError', 'SyntaxWarning', 'SystemError', 'SystemExit', 'TabError', 'TimeoutError', 'True', 'TypeError', 'UnboundLocalError', 'UnicodeDecodeError', 'UnicodeEncodeError', 'UnicodeError', 'UnicodeTranslateError', 'UnicodeWarning', 'UserWarning', 'ValueError', 'Warning', 'WindowsError', 'ZeroDivisionError', '__IPYTHON__', '__build_class__', '__debug__', '__doc__', '__import__', '__loader__', '__name__', '__package__', '__spec__', 'abs', 'all', 'any', 'ascii', 'bin', 'bool', 'breakpoint', 'bytearray', 'bytes', 'callable', 'chr', 'classmethod', 'compile', 'complex', 'copyright', 'credits', 'delattr', 'dict', 'dir', 'display', 'divmod', 'enumerate', 'eval', 'exec', 'execfile', 'filter', 'float', 'format', 'frozenset', 'get_ipython', 'getattr', 'globals', 'hasattr', 'hash', 'help', 'hex', 'id', 'input', 'int', 'isinstance', 'issubclass', 'iter', 'len', 'license', 'list', 'locals', 'map', 'max', 'memoryview', 'min', 'next', 'object', 'oct', 'open', 'ord', 'pow', 'print', 'property', 'range', 'repr', 'reversed', 'round', 'runfile', 'set', 'setattr', 'slice', 'sorted', 'staticmethod', 'str', 'sum', 'super', 'tuple', 'type', 'vars', 'zip']\n"
     ]
    }
   ],
   "source": [
    "print(dir(__builtins__))"
   ]
  },
  {
   "cell_type": "code",
   "execution_count": 4,
   "id": "0af28458",
   "metadata": {
    "collapsed": true
   },
   "outputs": [
    {
     "data": {
      "text/plain": [
       "-24"
      ]
     },
     "execution_count": 4,
     "metadata": {},
     "output_type": "execute_result"
    }
   ],
   "source": [
    "-24"
   ]
  },
  {
   "cell_type": "code",
   "execution_count": 5,
   "id": "f2e6ced3",
   "metadata": {
    "collapsed": true
   },
   "outputs": [
    {
     "data": {
      "text/plain": [
       "24"
      ]
     },
     "execution_count": 5,
     "metadata": {},
     "output_type": "execute_result"
    }
   ],
   "source": [
    "abs(-24)"
   ]
  },
  {
   "cell_type": "code",
   "execution_count": 6,
   "id": "3ff66136",
   "metadata": {
    "collapsed": true
   },
   "outputs": [
    {
     "data": {
      "text/plain": [
       "8"
      ]
     },
     "execution_count": 6,
     "metadata": {},
     "output_type": "execute_result"
    }
   ],
   "source": [
    "pow(2,3)"
   ]
  },
  {
   "cell_type": "code",
   "execution_count": 7,
   "id": "20c458af",
   "metadata": {
    "collapsed": true
   },
   "outputs": [
    {
     "data": {
      "text/plain": [
       "9"
      ]
     },
     "execution_count": 7,
     "metadata": {},
     "output_type": "execute_result"
    }
   ],
   "source": [
    "pow(3,2)"
   ]
  },
  {
   "cell_type": "code",
   "execution_count": 8,
   "id": "a5d7d550",
   "metadata": {
    "collapsed": true
   },
   "outputs": [
    {
     "data": {
      "text/plain": [
       "65"
      ]
     },
     "execution_count": 8,
     "metadata": {},
     "output_type": "execute_result"
    }
   ],
   "source": [
    "ord('A')"
   ]
  },
  {
   "cell_type": "code",
   "execution_count": 9,
   "id": "e57281d8",
   "metadata": {
    "collapsed": true
   },
   "outputs": [
    {
     "data": {
      "text/plain": [
       "36"
      ]
     },
     "execution_count": 9,
     "metadata": {},
     "output_type": "execute_result"
    }
   ],
   "source": [
    "ord('$')"
   ]
  },
  {
   "cell_type": "code",
   "execution_count": 17,
   "id": "5c2b6d20",
   "metadata": {
    "collapsed": true
   },
   "outputs": [
    {
     "name": "stdout",
     "output_type": "stream",
     "text": [
      "48\n",
      "49\n",
      "57\n"
     ]
    }
   ],
   "source": [
    "print(ord('0'))\n",
    "print(ord('1'))\n",
    "print(ord('9'))"
   ]
  },
  {
   "cell_type": "code",
   "execution_count": 18,
   "id": "d99412d3",
   "metadata": {
    "collapsed": true
   },
   "outputs": [
    {
     "name": "stdout",
     "output_type": "stream",
     "text": [
      "7\n",
      "C\n"
     ]
    }
   ],
   "source": [
    "print(chr(55))\n",
    "print(chr(67))"
   ]
  },
  {
   "cell_type": "code",
   "execution_count": 11,
   "id": "22332938",
   "metadata": {
    "collapsed": true
   },
   "outputs": [
    {
     "name": "stdout",
     "output_type": "stream",
     "text": [
      "2000\n",
      "56\n"
     ]
    }
   ],
   "source": [
    "print(max((100,299,78,2000,56)))\n",
    "print(min((100,299,78,2000,56)))"
   ]
  },
  {
   "cell_type": "code",
   "execution_count": 21,
   "id": "9ddab50d",
   "metadata": {
    "collapsed": true
   },
   "outputs": [
    {
     "name": "stdout",
     "output_type": "stream",
     "text": [
      "3\n",
      "4\n",
      "4\n"
     ]
    }
   ],
   "source": [
    "print(round(3.4))# round figure value\n",
    "print(round(3.5))\n",
    "print(round(3.6))"
   ]
  },
  {
   "cell_type": "code",
   "execution_count": 25,
   "id": "a89f4780",
   "metadata": {
    "collapsed": true
   },
   "outputs": [
    {
     "name": "stdout",
     "output_type": "stream",
     "text": [
      "['A', 'P', 'a', 'a', 'd', 'd', 'e', 'h', 'h', 'n', 'r', 'r', 's']\n",
      "[0, 1, 5, 24, 67.9, 77, 600]\n",
      "[600, 77, 67.9, 24, 5, 1, 0]\n"
     ]
    }
   ],
   "source": [
    "print(sorted('AndhraPradesh'))\n",
    "print(sorted((1,0,24,67.9,5,600,77))) \n",
    "print(sorted((1,0,24,67.9,5,600,77), reverse = True))# decending order"
   ]
  },
  {
   "cell_type": "code",
   "execution_count": 27,
   "id": "dba94675",
   "metadata": {
    "collapsed": true
   },
   "outputs": [
    {
     "name": "stdout",
     "output_type": "stream",
     "text": [
      "11\n",
      "3\n"
     ]
    }
   ],
   "source": [
    "print(sum((1,3,7)))\n",
    "print(len((1,3,7)))"
   ]
  },
  {
   "cell_type": "code",
   "execution_count": 29,
   "id": "447673dc",
   "metadata": {
    "collapsed": true
   },
   "outputs": [
    {
     "name": "stdout",
     "output_type": "stream",
     "text": [
      "[0, 1, 5, 24, 67.9, 77, 600]\n",
      "[600, 77, 67.9, 24, 5, 1, 0]\n"
     ]
    }
   ],
   "source": [
    "print(sorted((1,0,24,67.9,5,600,77)))\n",
    "print(sorted((1,0,24,67.9,5,600,77),reverse = True))# decending order"
   ]
  },
  {
   "cell_type": "code",
   "execution_count": 30,
   "id": "7347cf8c",
   "metadata": {},
   "outputs": [
    {
     "name": "stdout",
     "output_type": "stream",
     "text": [
      "110\n"
     ]
    }
   ],
   "source": [
    "a = 10\n",
    "b = 100\n",
    "add1 = a + b\n",
    "print(add1)"
   ]
  },
  {
   "cell_type": "code",
   "execution_count": 31,
   "id": "78c906dc",
   "metadata": {
    "collapsed": true
   },
   "outputs": [
    {
     "name": "stdout",
     "output_type": "stream",
     "text": [
      "220\n"
     ]
    }
   ],
   "source": [
    "a2 = 20\n",
    "b2 = 200\n",
    "add2 = a2 + b2\n",
    "print(add2)"
   ]
  },
  {
   "cell_type": "markdown",
   "id": "435c9057",
   "metadata": {},
   "source": [
    "### 2. User-defined functions\n",
    "**Syntax**\n",
    "\n",
    "```python\n",
    "def function_name(parmeter1, parameter2,....):\n",
    "    block of statement\n",
    "function_name(20, 200, .....)```"
   ]
  },
  {
   "cell_type": "code",
   "execution_count": 32,
   "id": "5e3b3418",
   "metadata": {},
   "outputs": [],
   "source": [
    "def addition1(a3, b3):\n",
    "    return a3 + b3"
   ]
  },
  {
   "cell_type": "code",
   "execution_count": 33,
   "id": "2afbb33d",
   "metadata": {
    "collapsed": true
   },
   "outputs": [
    {
     "data": {
      "text/plain": [
       "<function __main__.addition1(a3, b3)>"
      ]
     },
     "execution_count": 33,
     "metadata": {},
     "output_type": "execute_result"
    }
   ],
   "source": [
    "addition1"
   ]
  },
  {
   "cell_type": "code",
   "execution_count": 34,
   "id": "7c44654f",
   "metadata": {
    "collapsed": true
   },
   "outputs": [
    {
     "data": {
      "text/plain": [
       "110"
      ]
     },
     "execution_count": 34,
     "metadata": {},
     "output_type": "execute_result"
    }
   ],
   "source": [
    "addition1(10,100)"
   ]
  },
  {
   "cell_type": "code",
   "execution_count": 35,
   "id": "480de8fc",
   "metadata": {
    "collapsed": true
   },
   "outputs": [
    {
     "data": {
      "text/plain": [
       "220"
      ]
     },
     "execution_count": 35,
     "metadata": {},
     "output_type": "execute_result"
    }
   ],
   "source": [
    "addition1(20, 200)# code reusable"
   ]
  },
  {
   "cell_type": "code",
   "execution_count": 36,
   "id": "57b075b5",
   "metadata": {},
   "outputs": [
    {
     "data": {
      "text/plain": [
       "int"
      ]
     },
     "execution_count": 36,
     "metadata": {},
     "output_type": "execute_result"
    }
   ],
   "source": [
    "type(add1)"
   ]
  },
  {
   "cell_type": "code",
   "execution_count": 37,
   "id": "0b781999",
   "metadata": {},
   "outputs": [
    {
     "data": {
      "text/plain": [
       "function"
      ]
     },
     "execution_count": 37,
     "metadata": {},
     "output_type": "execute_result"
    }
   ],
   "source": [
    "type(addition1)"
   ]
  },
  {
   "cell_type": "markdown",
   "id": "83a0ac56",
   "metadata": {},
   "source": [
    "#### Types of function arguments\n",
    "1. Default argument\n",
    "2. Keyword argument\n",
    "3. Variable length argument\n",
    "4. Keyword length argument"
   ]
  },
  {
   "cell_type": "markdown",
   "id": "40b4bfba",
   "metadata": {},
   "source": [
    "**1. Default argument**"
   ]
  },
  {
   "cell_type": "code",
   "execution_count": 38,
   "id": "dc75c5b9",
   "metadata": {},
   "outputs": [],
   "source": [
    "def student_details(roll, branch, year = 2): # year is default argument\n",
    "    return roll, branch, year"
   ]
  },
  {
   "cell_type": "code",
   "execution_count": 39,
   "id": "f6060c00",
   "metadata": {},
   "outputs": [
    {
     "data": {
      "text/plain": [
       "('203H1A0553', 'cse', 2)"
      ]
     },
     "execution_count": 39,
     "metadata": {},
     "output_type": "execute_result"
    }
   ],
   "source": [
    "student_details('203H1A0553', 'cse')"
   ]
  },
  {
   "cell_type": "markdown",
   "id": "28ad6a87",
   "metadata": {},
   "source": [
    "**2. Keyword argument**\n",
    "- keyword is nothing but parameter\n",
    "    - Syntax: keyword = value"
   ]
  },
  {
   "cell_type": "code",
   "execution_count": 40,
   "id": "6f3bddb5",
   "metadata": {},
   "outputs": [],
   "source": [
    "def student_details2(roll, branch, year):\n",
    "    return roll, branch, year"
   ]
  },
  {
   "cell_type": "code",
   "execution_count": 41,
   "id": "0aec9bfb",
   "metadata": {},
   "outputs": [
    {
     "data": {
      "text/plain": [
       "('203H1A0545', 'IT', 2)"
      ]
     },
     "execution_count": 41,
     "metadata": {},
     "output_type": "execute_result"
    }
   ],
   "source": [
    "student_details2(roll = '203H1A0545', branch = 'IT', year = 2)"
   ]
  },
  {
   "cell_type": "markdown",
   "id": "ff6b44b4",
   "metadata": {},
   "source": [
    "**3. Variable Length Argument**\n",
    "- Syntax: *argument"
   ]
  },
  {
   "cell_type": "code",
   "execution_count": 47,
   "id": "4c305d22",
   "metadata": {},
   "outputs": [],
   "source": [
    "def second_years_subject(sub1, sub2, *sub3):\n",
    "    return sub1, sub2, sub3"
   ]
  },
  {
   "cell_type": "code",
   "execution_count": 49,
   "id": "32b20891",
   "metadata": {},
   "outputs": [
    {
     "data": {
      "text/plain": [
       "('python', 'ml', ('ai', 'iot', 'java', 'os', 'maths'))"
      ]
     },
     "execution_count": 49,
     "metadata": {},
     "output_type": "execute_result"
    }
   ],
   "source": [
    "second_years_subject('python', 'ml', 'ai', 'iot','java', 'os','maths')"
   ]
  },
  {
   "cell_type": "markdown",
   "id": "18e03c2b",
   "metadata": {},
   "source": [
    "**4. Keyword length argument**\n",
    "- syntax: **argument"
   ]
  },
  {
   "cell_type": "code",
   "execution_count": 50,
   "id": "f0eccf94",
   "metadata": {},
   "outputs": [],
   "source": [
    "def students(branch, **year):\n",
    "    return branch, year"
   ]
  },
  {
   "cell_type": "code",
   "execution_count": 51,
   "id": "e73db06a",
   "metadata": {},
   "outputs": [
    {
     "data": {
      "text/plain": [
       "('CSE', {'year': (1, 2, 3, 4)})"
      ]
     },
     "execution_count": 51,
     "metadata": {},
     "output_type": "execute_result"
    }
   ],
   "source": [
    "students(branch = 'CSE', year = (1,2,3,4))"
   ]
  },
  {
   "cell_type": "code",
   "execution_count": 52,
   "id": "fe408d76",
   "metadata": {},
   "outputs": [],
   "source": [
    "def even_Odd(number):\n",
    "    if number%2 == 0:\n",
    "        return number\n",
    "    else: \n",
    "        return False"
   ]
  },
  {
   "cell_type": "code",
   "execution_count": 54,
   "id": "e05ce587",
   "metadata": {
    "collapsed": true
   },
   "outputs": [
    {
     "data": {
      "text/plain": [
       "False"
      ]
     },
     "execution_count": 54,
     "metadata": {},
     "output_type": "execute_result"
    }
   ],
   "source": [
    "even_Odd(21)"
   ]
  },
  {
   "cell_type": "code",
   "execution_count": 55,
   "id": "9ea9f6bc",
   "metadata": {
    "collapsed": true
   },
   "outputs": [
    {
     "data": {
      "text/plain": [
       "22"
      ]
     },
     "execution_count": 55,
     "metadata": {},
     "output_type": "execute_result"
    }
   ],
   "source": [
    "even_Odd(22)"
   ]
  },
  {
   "cell_type": "code",
   "execution_count": 56,
   "id": "c9f5b1fc",
   "metadata": {},
   "outputs": [],
   "source": [
    "def isPrime(number2):              # let number2 = 11\n",
    "    for i in range(2,number2):     # i = 2, 3,4,5.....10\n",
    "        if number2%i == 0:         # if   11%2 == 0,   11%3 == 0\n",
    "            return False\n",
    "        return True"
   ]
  },
  {
   "cell_type": "code",
   "execution_count": 60,
   "id": "0b09e59b",
   "metadata": {
    "collapsed": true
   },
   "outputs": [
    {
     "name": "stdout",
     "output_type": "stream",
     "text": [
      "True\n",
      "False\n",
      "True\n"
     ]
    }
   ],
   "source": [
    "print(isPrime(11))\n",
    "print(isPrime(18))\n",
    "print(isPrime(19))"
   ]
  },
  {
   "cell_type": "code",
   "execution_count": 64,
   "id": "115856c1",
   "metadata": {
    "collapsed": true
   },
   "outputs": [
    {
     "name": "stdout",
     "output_type": "stream",
     "text": [
      "3\t5\t7\t9\t11\t13\t15\t17\t19\t21\t23\t25\t27\t29\t31\t33\t35\t37\t39\t41\t43\t45\t47\t49\t51\t53\t55\t57\t59\t61\t63\t65\t67\t69\t71\t73\t75\t77\t79\t81\t83\t85\t87\t89\t91\t93\t95\t97\t99\t"
     ]
    }
   ],
   "source": [
    "for i in range(2, 100): # i = 2,3,4,5,6,....97,98, 99.\n",
    "    if isPrime(i):\n",
    "        print(i, end = '\\t')"
   ]
  },
  {
   "cell_type": "markdown",
   "id": "3312cb2f",
   "metadata": {},
   "source": [
    "### Data Structures in Python\n",
    "- Used to collection of values with different data types\n",
    "    1. List\n",
    "    2. Tuple\n",
    "    3. Dictionary\n",
    "    4. Sets"
   ]
  },
  {
   "cell_type": "markdown",
   "id": "11264d7d",
   "metadata": {},
   "source": [
    "### 1. List\n",
    "- List is used to store collection of values with different data types\n",
    "- Lists are orderd, indexed and **mutable**.\n",
    "    - mutable means we can change/modify the list of values\n",
    "- inbuilt function is 'list()'\n",
    "- represented [ ]"
   ]
  },
  {
   "cell_type": "code",
   "execution_count": 65,
   "id": "1455791e",
   "metadata": {},
   "outputs": [],
   "source": [
    "# Create a List\n",
    "list1 = []     # empty list\n",
    "list2 = list() # empty list using in-built function"
   ]
  },
  {
   "cell_type": "code",
   "execution_count": 66,
   "id": "0262dab8",
   "metadata": {
    "collapsed": true
   },
   "outputs": [
    {
     "data": {
      "text/plain": [
       "[]"
      ]
     },
     "execution_count": 66,
     "metadata": {},
     "output_type": "execute_result"
    }
   ],
   "source": [
    "list1"
   ]
  },
  {
   "cell_type": "code",
   "execution_count": 67,
   "id": "52367590",
   "metadata": {
    "collapsed": true
   },
   "outputs": [
    {
     "data": {
      "text/plain": [
       "[]"
      ]
     },
     "execution_count": 67,
     "metadata": {},
     "output_type": "execute_result"
    }
   ],
   "source": [
    "list2"
   ]
  },
  {
   "cell_type": "code",
   "execution_count": 68,
   "id": "c6d8b27d",
   "metadata": {},
   "outputs": [],
   "source": [
    "list3 = [10, 3.1, 45, 780, 99.9, 7]"
   ]
  },
  {
   "cell_type": "code",
   "execution_count": 74,
   "id": "f8e0bd12",
   "metadata": {},
   "outputs": [
    {
     "name": "stdout",
     "output_type": "stream",
     "text": [
      "<class 'list'>\n",
      "no of values:  6\n",
      "Sum of values:  945.0\n",
      "Sort in ascending order:  [3.1, 7, 10, 45, 99.9, 780]\n",
      "Sort in desceding order:  [780, 99.9, 45, 10, 7, 3.1]\n",
      "max value:  780\n",
      "min value:  3.1\n"
     ]
    }
   ],
   "source": [
    "print(type(list3))\n",
    "\n",
    "# use in-built functions\n",
    "print('no of values: ', len(list3))\n",
    "print('Sum of values: ', sum(list3))\n",
    "print('Sort in ascending order: ', sorted(list3))\n",
    "print('Sort in desceding order: ', sorted(list3, reverse = True))\n",
    "print('max value: ', max(list3))\n",
    "print('min value: ', min(list3))"
   ]
  },
  {
   "cell_type": "markdown",
   "id": "ed6e9495",
   "metadata": {},
   "source": [
    "### Indexing and Slicing"
   ]
  },
  {
   "cell_type": "code",
   "execution_count": 75,
   "id": "f41cdb1f",
   "metadata": {},
   "outputs": [
    {
     "data": {
      "text/plain": [
       "['AI', 789, 900.9, 'Data Analysis', 44, 5.4]"
      ]
     },
     "execution_count": 75,
     "metadata": {},
     "output_type": "execute_result"
    }
   ],
   "source": [
    "list4 = ['AI', 789, 900.9, 'Data Analysis', 44, 5.4]\n",
    "list4"
   ]
  },
  {
   "cell_type": "code",
   "execution_count": 77,
   "id": "00a33c6c",
   "metadata": {},
   "outputs": [
    {
     "name": "stdout",
     "output_type": "stream",
     "text": [
      "AI\n",
      "5.4\n"
     ]
    }
   ],
   "source": [
    "print(list4[0])  # 1st value\n",
    "print(list4[-1]) # last value"
   ]
  },
  {
   "cell_type": "code",
   "execution_count": 82,
   "id": "0c1a31ac",
   "metadata": {
    "collapsed": true
   },
   "outputs": [
    {
     "name": "stdout",
     "output_type": "stream",
     "text": [
      "[789, 900.9, 'Data Analysis']\n",
      "[900.9, 'Data Analysis', 44, 5.4]\n",
      "[5.4, 44, 'Data Analysis', 900.9, 789, 'AI']\n",
      "[789, 44]\n",
      "['AI', 'Data Analysis']\n"
     ]
    }
   ],
   "source": [
    "print(list4[1:4])\n",
    "print(list4[2:])# from 2nd index value onwords\n",
    "# except 1st and 2nd values, it generates remaining all values\n",
    "\n",
    "print(list4[::-1])#  reverse\n",
    "print(list4[1::3])# from 1st index, it prints every 3rd values\n",
    "print(list4[0::3])# from 0th index, it prints every 3rd value"
   ]
  },
  {
   "cell_type": "code",
   "execution_count": 83,
   "id": "3b4b63fd",
   "metadata": {},
   "outputs": [
    {
     "data": {
      "text/plain": [
       "['AI', 789, 900.9, 'Data Analysis', 44, 5.4]"
      ]
     },
     "execution_count": 83,
     "metadata": {},
     "output_type": "execute_result"
    }
   ],
   "source": [
    "# List are mutable(can able to change the value, can delete the value, can add the value)\n",
    "list4"
   ]
  },
  {
   "cell_type": "code",
   "execution_count": 85,
   "id": "735f6de9",
   "metadata": {},
   "outputs": [],
   "source": [
    "list4[0] = 'Artificial Intelligence'"
   ]
  },
  {
   "cell_type": "code",
   "execution_count": 86,
   "id": "071ec716",
   "metadata": {},
   "outputs": [
    {
     "data": {
      "text/plain": [
       "['Artificial Intelligence', 789, 900.9, 'Data Analysis', 44, 5.4]"
      ]
     },
     "execution_count": 86,
     "metadata": {},
     "output_type": "execute_result"
    }
   ],
   "source": [
    "list4 # 0th index value has been changed"
   ]
  },
  {
   "cell_type": "markdown",
   "id": "a88408a1",
   "metadata": {},
   "source": [
    "### List methods"
   ]
  },
  {
   "cell_type": "code",
   "execution_count": 87,
   "id": "f3ef6e45",
   "metadata": {
    "collapsed": true
   },
   "outputs": [
    {
     "name": "stdout",
     "output_type": "stream",
     "text": [
      "['__add__', '__class__', '__class_getitem__', '__contains__', '__delattr__', '__delitem__', '__dir__', '__doc__', '__eq__', '__format__', '__ge__', '__getattribute__', '__getitem__', '__gt__', '__hash__', '__iadd__', '__imul__', '__init__', '__init_subclass__', '__iter__', '__le__', '__len__', '__lt__', '__mul__', '__ne__', '__new__', '__reduce__', '__reduce_ex__', '__repr__', '__reversed__', '__rmul__', '__setattr__', '__setitem__', '__sizeof__', '__str__', '__subclasshook__', 'append', 'clear', 'copy', 'count', 'extend', 'index', 'insert', 'pop', 'remove', 'reverse', 'sort']\n"
     ]
    }
   ],
   "source": [
    "print(dir(list))"
   ]
  },
  {
   "cell_type": "markdown",
   "id": "e0c1afef",
   "metadata": {},
   "source": [
    "**append(), extend() --> used to add values in list**"
   ]
  },
  {
   "cell_type": "code",
   "execution_count": 88,
   "id": "49f66184",
   "metadata": {},
   "outputs": [],
   "source": [
    "# append(): can add at a time one value at the end of the list"
   ]
  },
  {
   "cell_type": "code",
   "execution_count": 89,
   "id": "6779b403",
   "metadata": {
    "collapsed": true
   },
   "outputs": [
    {
     "data": {
      "text/plain": [
       "['Artificial Intelligence', 789, 900.9, 'Data Analysis', 44, 5.4]"
      ]
     },
     "execution_count": 89,
     "metadata": {},
     "output_type": "execute_result"
    }
   ],
   "source": [
    "list4"
   ]
  },
  {
   "cell_type": "code",
   "execution_count": 90,
   "id": "7e03325b",
   "metadata": {},
   "outputs": [],
   "source": [
    "list4.append(999)"
   ]
  },
  {
   "cell_type": "code",
   "execution_count": 91,
   "id": "60505f39",
   "metadata": {
    "collapsed": true
   },
   "outputs": [
    {
     "data": {
      "text/plain": [
       "['Artificial Intelligence', 789, 900.9, 'Data Analysis', 44, 5.4, 999]"
      ]
     },
     "execution_count": 91,
     "metadata": {},
     "output_type": "execute_result"
    }
   ],
   "source": [
    "list4"
   ]
  },
  {
   "cell_type": "code",
   "execution_count": 92,
   "id": "936ba276",
   "metadata": {},
   "outputs": [],
   "source": [
    "# extend(): to add multiple values in list"
   ]
  },
  {
   "cell_type": "code",
   "execution_count": 93,
   "id": "82d0648f",
   "metadata": {},
   "outputs": [],
   "source": [
    "list4.extend(('Python', 1, 2.2))"
   ]
  },
  {
   "cell_type": "code",
   "execution_count": 95,
   "id": "fa818c21",
   "metadata": {},
   "outputs": [
    {
     "name": "stdout",
     "output_type": "stream",
     "text": [
      "['Artificial Intelligence', 789, 900.9, 'Data Analysis', 44, 5.4, 999, 'Python', 1, 2.2]\n"
     ]
    }
   ],
   "source": [
    "print(list4)"
   ]
  },
  {
   "cell_type": "markdown",
   "id": "e4b87915",
   "metadata": {},
   "source": [
    "**pop(), remove()--> used to remove the values from list**"
   ]
  },
  {
   "cell_type": "code",
   "execution_count": 96,
   "id": "76ee3632",
   "metadata": {},
   "outputs": [
    {
     "data": {
      "text/plain": [
       "2.2"
      ]
     },
     "execution_count": 96,
     "metadata": {},
     "output_type": "execute_result"
    }
   ],
   "source": [
    "list4.pop() # pop() method will remove last value by default"
   ]
  },
  {
   "cell_type": "code",
   "execution_count": 98,
   "id": "49709f10",
   "metadata": {},
   "outputs": [
    {
     "name": "stdout",
     "output_type": "stream",
     "text": [
      "['Artificial Intelligence', 789, 900.9, 'Data Analysis', 44, 5.4, 999, 'Python', 1]\n"
     ]
    }
   ],
   "source": [
    "print(list4)"
   ]
  },
  {
   "cell_type": "code",
   "execution_count": 100,
   "id": "516d1533",
   "metadata": {},
   "outputs": [
    {
     "data": {
      "text/plain": [
       "5.4"
      ]
     },
     "execution_count": 100,
     "metadata": {},
     "output_type": "execute_result"
    }
   ],
   "source": [
    "list4.pop(-4) #by using index value, we can remove specific value."
   ]
  },
  {
   "cell_type": "code",
   "execution_count": 101,
   "id": "5eb5baac",
   "metadata": {},
   "outputs": [
    {
     "data": {
      "text/plain": [
       "['Artificial Intelligence', 789, 900.9, 'Data Analysis', 44, 999, 'Python', 1]"
      ]
     },
     "execution_count": 101,
     "metadata": {},
     "output_type": "execute_result"
    }
   ],
   "source": [
    "list4"
   ]
  },
  {
   "cell_type": "code",
   "execution_count": 102,
   "id": "89de71f5",
   "metadata": {},
   "outputs": [],
   "source": [
    "list4.remove(900.9)"
   ]
  },
  {
   "cell_type": "code",
   "execution_count": 103,
   "id": "5e97d2d5",
   "metadata": {},
   "outputs": [
    {
     "data": {
      "text/plain": [
       "['Artificial Intelligence', 789, 'Data Analysis', 44, 999, 'Python', 1]"
      ]
     },
     "execution_count": 103,
     "metadata": {},
     "output_type": "execute_result"
    }
   ],
   "source": [
    "list4"
   ]
  },
  {
   "cell_type": "markdown",
   "id": "e714ff31",
   "metadata": {},
   "source": [
    "**count()**"
   ]
  },
  {
   "cell_type": "code",
   "execution_count": 104,
   "id": "66f5d468",
   "metadata": {},
   "outputs": [],
   "source": [
    "list5 = ['a', 'b', 'a', 22, 55, 'a', 22, 89, 'a']"
   ]
  },
  {
   "cell_type": "code",
   "execution_count": 107,
   "id": "ba4b91f7",
   "metadata": {
    "collapsed": true
   },
   "outputs": [
    {
     "name": "stdout",
     "output_type": "stream",
     "text": [
      "4\n",
      "2\n"
     ]
    }
   ],
   "source": [
    "print(list5.count('a'))\n",
    "print(list5.count(22))"
   ]
  },
  {
   "cell_type": "code",
   "execution_count": 108,
   "id": "506af001",
   "metadata": {
    "collapsed": true
   },
   "outputs": [
    {
     "ename": "TypeError",
     "evalue": "'<' not supported between instances of 'int' and 'str'",
     "output_type": "error",
     "traceback": [
      "\u001b[1;31m---------------------------------------------------------------------------\u001b[0m",
      "\u001b[1;31mTypeError\u001b[0m                                 Traceback (most recent call last)",
      "\u001b[1;32m~\\AppData\\Local\\Temp/ipykernel_18656/2856148068.py\u001b[0m in \u001b[0;36m<module>\u001b[1;34m\u001b[0m\n\u001b[1;32m----> 1\u001b[1;33m \u001b[0mlist5\u001b[0m\u001b[1;33m.\u001b[0m\u001b[0msort\u001b[0m\u001b[1;33m(\u001b[0m\u001b[1;33m)\u001b[0m\u001b[1;33m\u001b[0m\u001b[1;33m\u001b[0m\u001b[0m\n\u001b[0m",
      "\u001b[1;31mTypeError\u001b[0m: '<' not supported between instances of 'int' and 'str'"
     ]
    }
   ],
   "source": [
    "list5.sort()"
   ]
  },
  {
   "cell_type": "markdown",
   "id": "6fc86f2b",
   "metadata": {},
   "source": [
    "- Take a list with different datatype values.\n",
    "    - if value is integer, add that value in \"int_list\"\n",
    "    - if value is not integer, add that value in \"non_int_list\""
   ]
  },
  {
   "cell_type": "code",
   "execution_count": 113,
   "id": "6b43503a",
   "metadata": {},
   "outputs": [],
   "source": [
    "list6 = [12, 400, 'apssdc', 77.0, True, 'KLMCEW', 399, 27, False]\n",
    "int_list = []\n",
    "non_int_list = []\n",
    "\n",
    "for i in list6:\n",
    "    if type(i) == int:\n",
    "        int_list.append(i)\n",
    "    else:\n",
    "        non_int_list.append(i)"
   ]
  },
  {
   "cell_type": "code",
   "execution_count": 114,
   "id": "138be01a",
   "metadata": {},
   "outputs": [
    {
     "name": "stdout",
     "output_type": "stream",
     "text": [
      "[12, 400, 399, 27]\n",
      "['apssdc', 77.0, True, 'KLMCEW', False]\n"
     ]
    }
   ],
   "source": [
    "print(int_list)\n",
    "print(non_int_list)"
   ]
  },
  {
   "cell_type": "code",
   "execution_count": 110,
   "id": "45c50ad7",
   "metadata": {},
   "outputs": [
    {
     "data": {
      "text/plain": [
       "int"
      ]
     },
     "execution_count": 110,
     "metadata": {},
     "output_type": "execute_result"
    }
   ],
   "source": [
    "type(12)"
   ]
  },
  {
   "cell_type": "code",
   "execution_count": 111,
   "id": "0f6e2d20",
   "metadata": {},
   "outputs": [
    {
     "data": {
      "text/plain": [
       "True"
      ]
     },
     "execution_count": 111,
     "metadata": {},
     "output_type": "execute_result"
    }
   ],
   "source": [
    "type(12) == int"
   ]
  },
  {
   "cell_type": "code",
   "execution_count": 112,
   "id": "25a0b2fd",
   "metadata": {},
   "outputs": [
    {
     "data": {
      "text/plain": [
       "False"
      ]
     },
     "execution_count": 112,
     "metadata": {},
     "output_type": "execute_result"
    }
   ],
   "source": [
    "type('apssdc') == int"
   ]
  },
  {
   "cell_type": "markdown",
   "id": "42bf894b",
   "metadata": {},
   "source": [
    "### Tuple\n",
    "- Tuple are used to store collection of different data type values\n",
    "- Tuples are **immutable(cannot change)**\n",
    "- in-built: tuple()\n",
    "- represented as ( )"
   ]
  },
  {
   "cell_type": "code",
   "execution_count": 117,
   "id": "75de6a13",
   "metadata": {},
   "outputs": [],
   "source": [
    "## create a tuple\n",
    "tuple1 = tuple()# empty tuple"
   ]
  },
  {
   "cell_type": "code",
   "execution_count": 118,
   "id": "cc232daf",
   "metadata": {
    "collapsed": true
   },
   "outputs": [
    {
     "data": {
      "text/plain": [
       "int"
      ]
     },
     "execution_count": 118,
     "metadata": {},
     "output_type": "execute_result"
    }
   ],
   "source": [
    "tuple3 = (1)\n",
    "type(tuple3)"
   ]
  },
  {
   "cell_type": "code",
   "execution_count": 119,
   "id": "3056bb7b",
   "metadata": {
    "collapsed": true
   },
   "outputs": [
    {
     "data": {
      "text/plain": [
       "tuple"
      ]
     },
     "execution_count": 119,
     "metadata": {},
     "output_type": "execute_result"
    }
   ],
   "source": [
    "tuple4 = (1,) # for storing single value in tuple, give \",\"\n",
    "type(tuple4)"
   ]
  },
  {
   "cell_type": "code",
   "execution_count": 120,
   "id": "6a255e7b",
   "metadata": {},
   "outputs": [],
   "source": [
    "tuple5 = (45, 'A', 77.9, 90)"
   ]
  },
  {
   "cell_type": "code",
   "execution_count": 122,
   "id": "f9923b10",
   "metadata": {
    "collapsed": true
   },
   "outputs": [
    {
     "name": "stdout",
     "output_type": "stream",
     "text": [
      "45\n",
      "90\n"
     ]
    }
   ],
   "source": [
    "print(tuple5[0])\n",
    "print(tuple5[-1])"
   ]
  },
  {
   "cell_type": "code",
   "execution_count": 123,
   "id": "f11a3f1a",
   "metadata": {},
   "outputs": [
    {
     "ename": "TypeError",
     "evalue": "'tuple' object does not support item assignment",
     "output_type": "error",
     "traceback": [
      "\u001b[1;31m---------------------------------------------------------------------------\u001b[0m",
      "\u001b[1;31mTypeError\u001b[0m                                 Traceback (most recent call last)",
      "\u001b[1;32m~\\AppData\\Local\\Temp/ipykernel_18656/3139823180.py\u001b[0m in \u001b[0;36m<module>\u001b[1;34m\u001b[0m\n\u001b[0;32m      1\u001b[0m \u001b[1;31m# tuples are immutable()\u001b[0m\u001b[1;33m\u001b[0m\u001b[1;33m\u001b[0m\u001b[0m\n\u001b[1;32m----> 2\u001b[1;33m \u001b[0mtuple5\u001b[0m\u001b[1;33m[\u001b[0m\u001b[1;36m0\u001b[0m\u001b[1;33m]\u001b[0m \u001b[1;33m=\u001b[0m \u001b[1;36m400\u001b[0m\u001b[1;33m\u001b[0m\u001b[1;33m\u001b[0m\u001b[0m\n\u001b[0m",
      "\u001b[1;31mTypeError\u001b[0m: 'tuple' object does not support item assignment"
     ]
    }
   ],
   "source": [
    "# tuples are immutable(we cannot able to change the values of tuple)\n",
    "tuple5[0] = 400"
   ]
  },
  {
   "cell_type": "code",
   "execution_count": null,
   "id": "a5470200",
   "metadata": {},
   "outputs": [],
   "source": []
  }
 ],
 "metadata": {
  "kernelspec": {
   "display_name": "Python 3 (ipykernel)",
   "language": "python",
   "name": "python3"
  },
  "language_info": {
   "codemirror_mode": {
    "name": "ipython",
    "version": 3
   },
   "file_extension": ".py",
   "mimetype": "text/x-python",
   "name": "python",
   "nbconvert_exporter": "python",
   "pygments_lexer": "ipython3",
   "version": "3.9.7"
  }
 },
 "nbformat": 4,
 "nbformat_minor": 5
}
