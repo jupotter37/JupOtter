{
  "nbformat": 4,
  "nbformat_minor": 0,
  "metadata": {
    "colab": {
      "provenance": []
    },
    "kernelspec": {
      "name": "python3",
      "display_name": "Python 3"
    },
    "language_info": {
      "name": "python"
    }
  },
  "cells": [
    {
      "cell_type": "markdown",
      "source": [
        "# **Módulos Built-In**\n",
        "\n",
        "Módulos integrados que já vem instalados no Python"
      ],
      "metadata": {
        "id": "UdTCQtUGkqsy"
      }
    },
    {
      "cell_type": "markdown",
      "source": [
        "Em Python, módulos built-in são módulos que já vêm pré-instalados com a linguagem e oferecem funcionalidades básicas que podem ser utilizadas em qualquer programa Python sem a necessidade de instalação adicional.\n",
        "\n",
        "Existem muitos módulos built-in em Python, cada um oferecendo um conjunto específico de funcionalidades. Alguns dos módulos built-in mais comuns incluem:\n",
        "\n",
        "- **math**: fornece funções matemáticas básicas, como raiz quadrada, logaritmos e funções trigonométricas.\n",
        "\n",
        "- **os**: fornece funções para interagir com o sistema operacional, como criar, excluir e renomear arquivos e diretórios.\n",
        "\n",
        "- **random**: fornece funções para gerar números aleatórios e amostras aleatórias de listas.\n",
        "\n",
        "- **datetime**: fornece classes e funções para trabalhar com datas e horários.\n",
        "\n",
        "- **sys**: fornece acesso a variáveis e funções do interpretador Python e ao sistema em que o programa está sendo executado.\n",
        "\n",
        "Para utilizar um módulo built-in, basta importá-lo em seu programa Python. Por exemplo, para utilizar funções matemáticas básicas, você pode importar o módulo \"math\" e utilizar suas funções, como:"
      ],
      "metadata": {
        "id": "aEOjWc4LkynI"
      }
    },
    {
      "cell_type": "code",
      "source": [
        "import math\n",
        "\n",
        "x = math.sqrt(16)\n",
        "print(x) # Output: 4.0\n"
      ],
      "metadata": {
        "colab": {
          "base_uri": "https://localhost:8080/"
        },
        "id": "iNIvgo1MlCp5",
        "outputId": "6d3e5684-c9e4-4088-e1de-f77408256122"
      },
      "execution_count": 1,
      "outputs": [
        {
          "output_type": "stream",
          "name": "stdout",
          "text": [
            "4.0\n"
          ]
        }
      ]
    },
    {
      "cell_type": "markdown",
      "source": [
        "Ao importar um módulo, você também pode renomeá-lo utilizando a palavra-chave \"as\". Por exemplo, para renomear o módulo \"math\" como \"m\", você pode escrever:"
      ],
      "metadata": {
        "id": "AgjjNiuOlGoC"
      }
    },
    {
      "cell_type": "code",
      "source": [
        "import math as m\n",
        "\n",
        "x = m.sqrt(16)\n",
        "print(x) # Output: 4.0"
      ],
      "metadata": {
        "colab": {
          "base_uri": "https://localhost:8080/"
        },
        "id": "OUKZkyzVlIZ0",
        "outputId": "f8364c7c-e6b2-4fef-fd6c-b011d1b7ffe5"
      },
      "execution_count": 2,
      "outputs": [
        {
          "output_type": "stream",
          "name": "stdout",
          "text": [
            "4.0\n"
          ]
        }
      ]
    },
    {
      "cell_type": "markdown",
      "source": [
        "Os módulos built-in em Python são uma parte importante da linguagem e oferecem muitas funcionalidades úteis que podem ser utilizadas em seus programas sem a necessidade de escrever código adicional."
      ],
      "metadata": {
        "id": "KSUjNz8JlL35"
      }
    },
    {
      "cell_type": "code",
      "source": [
        "dir()"
      ],
      "metadata": {
        "colab": {
          "base_uri": "https://localhost:8080/"
        },
        "id": "3zhuOZQNlRbI",
        "outputId": "7404a440-e34f-4f47-9e50-467a0ec095d2"
      },
      "execution_count": 3,
      "outputs": [
        {
          "output_type": "execute_result",
          "data": {
            "text/plain": [
              "['In',\n",
              " 'Out',\n",
              " '_',\n",
              " '__',\n",
              " '___',\n",
              " '__builtin__',\n",
              " '__builtins__',\n",
              " '__doc__',\n",
              " '__loader__',\n",
              " '__name__',\n",
              " '__package__',\n",
              " '__spec__',\n",
              " '_dh',\n",
              " '_i',\n",
              " '_i1',\n",
              " '_i2',\n",
              " '_i3',\n",
              " '_ih',\n",
              " '_ii',\n",
              " '_iii',\n",
              " '_oh',\n",
              " 'exit',\n",
              " 'get_ipython',\n",
              " 'm',\n",
              " 'math',\n",
              " 'quit',\n",
              " 'x']"
            ]
          },
          "metadata": {},
          "execution_count": 3
        }
      ]
    },
    {
      "cell_type": "code",
      "source": [
        "import builtins\n",
        "dir(builtins)"
      ],
      "metadata": {
        "colab": {
          "base_uri": "https://localhost:8080/"
        },
        "id": "wMvF3mRWlUS0",
        "outputId": "7699df37-2d38-4fa2-bdc4-6f655fbab166"
      },
      "execution_count": 4,
      "outputs": [
        {
          "output_type": "execute_result",
          "data": {
            "text/plain": [
              "['ArithmeticError',\n",
              " 'AssertionError',\n",
              " 'AttributeError',\n",
              " 'BaseException',\n",
              " 'BlockingIOError',\n",
              " 'BrokenPipeError',\n",
              " 'BufferError',\n",
              " 'BytesWarning',\n",
              " 'ChildProcessError',\n",
              " 'ConnectionAbortedError',\n",
              " 'ConnectionError',\n",
              " 'ConnectionRefusedError',\n",
              " 'ConnectionResetError',\n",
              " 'DeprecationWarning',\n",
              " 'EOFError',\n",
              " 'Ellipsis',\n",
              " 'EnvironmentError',\n",
              " 'Exception',\n",
              " 'False',\n",
              " 'FileExistsError',\n",
              " 'FileNotFoundError',\n",
              " 'FloatingPointError',\n",
              " 'FutureWarning',\n",
              " 'GeneratorExit',\n",
              " 'IOError',\n",
              " 'ImportError',\n",
              " 'ImportWarning',\n",
              " 'IndentationError',\n",
              " 'IndexError',\n",
              " 'InterruptedError',\n",
              " 'IsADirectoryError',\n",
              " 'KeyError',\n",
              " 'KeyboardInterrupt',\n",
              " 'LookupError',\n",
              " 'MemoryError',\n",
              " 'ModuleNotFoundError',\n",
              " 'NameError',\n",
              " 'None',\n",
              " 'NotADirectoryError',\n",
              " 'NotImplemented',\n",
              " 'NotImplementedError',\n",
              " 'OSError',\n",
              " 'OverflowError',\n",
              " 'PendingDeprecationWarning',\n",
              " 'PermissionError',\n",
              " 'ProcessLookupError',\n",
              " 'RecursionError',\n",
              " 'ReferenceError',\n",
              " 'ResourceWarning',\n",
              " 'RuntimeError',\n",
              " 'RuntimeWarning',\n",
              " 'StopAsyncIteration',\n",
              " 'StopIteration',\n",
              " 'SyntaxError',\n",
              " 'SyntaxWarning',\n",
              " 'SystemError',\n",
              " 'SystemExit',\n",
              " 'TabError',\n",
              " 'TimeoutError',\n",
              " 'True',\n",
              " 'TypeError',\n",
              " 'UnboundLocalError',\n",
              " 'UnicodeDecodeError',\n",
              " 'UnicodeEncodeError',\n",
              " 'UnicodeError',\n",
              " 'UnicodeTranslateError',\n",
              " 'UnicodeWarning',\n",
              " 'UserWarning',\n",
              " 'ValueError',\n",
              " 'Warning',\n",
              " 'ZeroDivisionError',\n",
              " '__IPYTHON__',\n",
              " '__build_class__',\n",
              " '__debug__',\n",
              " '__doc__',\n",
              " '__import__',\n",
              " '__loader__',\n",
              " '__name__',\n",
              " '__package__',\n",
              " '__spec__',\n",
              " 'abs',\n",
              " 'all',\n",
              " 'any',\n",
              " 'ascii',\n",
              " 'bin',\n",
              " 'bool',\n",
              " 'breakpoint',\n",
              " 'bytearray',\n",
              " 'bytes',\n",
              " 'callable',\n",
              " 'chr',\n",
              " 'classmethod',\n",
              " 'compile',\n",
              " 'complex',\n",
              " 'copyright',\n",
              " 'credits',\n",
              " 'delattr',\n",
              " 'dict',\n",
              " 'dir',\n",
              " 'display',\n",
              " 'divmod',\n",
              " 'enumerate',\n",
              " 'eval',\n",
              " 'exec',\n",
              " 'execfile',\n",
              " 'filter',\n",
              " 'float',\n",
              " 'format',\n",
              " 'frozenset',\n",
              " 'get_ipython',\n",
              " 'getattr',\n",
              " 'globals',\n",
              " 'hasattr',\n",
              " 'hash',\n",
              " 'help',\n",
              " 'hex',\n",
              " 'id',\n",
              " 'input',\n",
              " 'int',\n",
              " 'isinstance',\n",
              " 'issubclass',\n",
              " 'iter',\n",
              " 'len',\n",
              " 'license',\n",
              " 'list',\n",
              " 'locals',\n",
              " 'map',\n",
              " 'max',\n",
              " 'memoryview',\n",
              " 'min',\n",
              " 'next',\n",
              " 'object',\n",
              " 'oct',\n",
              " 'open',\n",
              " 'ord',\n",
              " 'pow',\n",
              " 'print',\n",
              " 'property',\n",
              " 'range',\n",
              " 'repr',\n",
              " 'reversed',\n",
              " 'round',\n",
              " 'runfile',\n",
              " 'set',\n",
              " 'setattr',\n",
              " 'slice',\n",
              " 'sorted',\n",
              " 'staticmethod',\n",
              " 'str',\n",
              " 'sum',\n",
              " 'super',\n",
              " 'tuple',\n",
              " 'type',\n",
              " 'vars',\n",
              " 'zip']"
            ]
          },
          "metadata": {},
          "execution_count": 4
        }
      ]
    },
    {
      "cell_type": "markdown",
      "source": [
        "Eles estão no computador, porém, só são utilizados quando são chamados"
      ],
      "metadata": {
        "id": "VV3BXi9rljPV"
      }
    },
    {
      "cell_type": "markdown",
      "source": [
        "https://docs.python.org/3/py-modindex.html"
      ],
      "metadata": {
        "id": "hW9EpRN_mAN3"
      }
    },
    {
      "cell_type": "markdown",
      "source": [
        "### **Utilizando alias (apelidos) para módulos/função**"
      ],
      "metadata": {
        "id": "NTDEnZE6mzHY"
      }
    },
    {
      "cell_type": "code",
      "source": [
        "import random as rdm"
      ],
      "metadata": {
        "id": "cx_fG_olm4oz"
      },
      "execution_count": 5,
      "outputs": []
    },
    {
      "cell_type": "code",
      "source": [
        "print(rdm.random())"
      ],
      "metadata": {
        "colab": {
          "base_uri": "https://localhost:8080/"
        },
        "id": "-udd0Ylim-Py",
        "outputId": "5bd9e37e-5f1c-4867-8890-a614145ba722"
      },
      "execution_count": 15,
      "outputs": [
        {
          "output_type": "stream",
          "name": "stdout",
          "text": [
            "0.9156663280444772\n"
          ]
        }
      ]
    },
    {
      "cell_type": "markdown",
      "source": [
        "**Podemos importar todas as funações de um módulo utilizando o** *"
      ],
      "metadata": {
        "id": "xdtlPxTFnHTX"
      }
    },
    {
      "cell_type": "code",
      "source": [
        "from random import * #Pode utilizar somente usando o nome da função\n",
        "#import random | São diferentes"
      ],
      "metadata": {
        "id": "wwMhkF_xnQAZ"
      },
      "execution_count": 8,
      "outputs": []
    },
    {
      "cell_type": "markdown",
      "source": [
        "**Dar apelidos para função**"
      ],
      "metadata": {
        "id": "uGEKo8yInl0N"
      }
    },
    {
      "cell_type": "code",
      "source": [
        "from random import randint as rdi"
      ],
      "metadata": {
        "id": "EDfeObqsnqTB"
      },
      "execution_count": 16,
      "outputs": []
    },
    {
      "cell_type": "code",
      "source": [
        "print(rdi(1,9))"
      ],
      "metadata": {
        "colab": {
          "base_uri": "https://localhost:8080/"
        },
        "id": "Dhjec_FrntZF",
        "outputId": "376c9ba2-a62f-47c9-b28d-eefa1d08228c"
      },
      "execution_count": 21,
      "outputs": [
        {
          "output_type": "stream",
          "name": "stdout",
          "text": [
            "6\n"
          ]
        }
      ]
    },
    {
      "cell_type": "markdown",
      "source": [
        "Podemos importar mais de uma função ao mesmo tempo"
      ],
      "metadata": {
        "id": "3u_RI5lsn6Wl"
      }
    },
    {
      "cell_type": "code",
      "source": [
        "from random import randint as rdi, random as rdm"
      ],
      "metadata": {
        "id": "msKwhiCnn9sv"
      },
      "execution_count": 22,
      "outputs": []
    },
    {
      "cell_type": "code",
      "source": [
        "print(rdi(1,9))\n",
        "print(rdm())"
      ],
      "metadata": {
        "colab": {
          "base_uri": "https://localhost:8080/"
        },
        "id": "0Il8EV5XoAve",
        "outputId": "15757998-c3ad-4c39-f854-d34870e58041"
      },
      "execution_count": 23,
      "outputs": [
        {
          "output_type": "stream",
          "name": "stdout",
          "text": [
            "2\n",
            "0.23319708822954022\n"
          ]
        }
      ]
    },
    {
      "cell_type": "markdown",
      "source": [
        "Em alguns casos, a gente precisa em um só módulos precisamos fazer várias importações\n",
        "\n",
        "**from random import random, randint, choice, shuffle, choice**\n",
        "\n",
        "A partir do momento que fazemos várias importações pode ficar confuso, para isso, costumamos a utilizar tuple para colocar múltiplos imports de um mesmo módulo"
      ],
      "metadata": {
        "id": "PcaTV8rVoF71"
      }
    },
    {
      "cell_type": "code",
      "source": [
        "from random import (\n",
        "    random,\n",
        "    randint,\n",
        "    choice,\n",
        "    shuffle\n",
        ")"
      ],
      "metadata": {
        "id": "85lI3TprodFi"
      },
      "execution_count": 24,
      "outputs": []
    },
    {
      "cell_type": "code",
      "source": [
        "lista = ['Maça', 'Uva', 'Pera', 'Melancia', 'Refrigerante']"
      ],
      "metadata": {
        "id": "q6lQae2_pS8Y"
      },
      "execution_count": 29,
      "outputs": []
    },
    {
      "cell_type": "code",
      "source": [
        "print(random())\n",
        "print(randint(1,50))\n",
        "print(choice(lista))\n",
        "print(f'Antes do shuffle - {lista}')\n",
        "(shuffle(lista))\n",
        "print(f'Depois do shuffle - {lista}')"
      ],
      "metadata": {
        "colab": {
          "base_uri": "https://localhost:8080/"
        },
        "id": "aH6whKt5omN4",
        "outputId": "4ad9a581-e764-4b0d-afbb-011d56798132"
      },
      "execution_count": 30,
      "outputs": [
        {
          "output_type": "stream",
          "name": "stdout",
          "text": [
            "0.19404894945701912\n",
            "34\n",
            "Uva\n",
            "Antes do shuffle - ['Maça', 'Uva', 'Pera', 'Melancia', 'Refrigerante']\n",
            "Depois do shuffle - ['Melancia', 'Uva', 'Maça', 'Pera', 'Refrigerante']\n"
          ]
        }
      ]
    }
  ]
}