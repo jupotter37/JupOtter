{
 "cells": [
  {
   "cell_type": "code",
   "execution_count": 4,
   "id": "b24d1243",
   "metadata": {},
   "outputs": [
    {
     "name": "stdout",
     "output_type": "stream",
     "text": [
      "Enter the nameSatish\n",
      "Enter your course that you want to takeBCA\n",
      "You are sucessfully registered\n"
     ]
    }
   ],
   "source": [
    "l1=[]\n",
    "l2=[]\n",
    "name = input(\"Enter the name\")\n",
    "course= input(\"Enter your course that you want to take\")\n",
    "l1.append(name)\n",
    "l2.append(course)\n",
    "\n",
    "print(\"You are sucessfully registered\")"
   ]
  },
  {
   "cell_type": "code",
   "execution_count": 7,
   "id": "02d08645",
   "metadata": {},
   "outputs": [
    {
     "name": "stdout",
     "output_type": "stream",
     "text": [
      "Satish\n"
     ]
    },
    {
     "ename": "IndexError",
     "evalue": "list index out of range",
     "output_type": "error",
     "traceback": [
      "\u001b[1;31m---------------------------------------------------------------------------\u001b[0m",
      "\u001b[1;31mIndexError\u001b[0m                                Traceback (most recent call last)",
      "\u001b[1;32m~\\AppData\\Local\\Temp\\ipykernel_19024\\3300396767.py\u001b[0m in \u001b[0;36m<module>\u001b[1;34m\u001b[0m\n\u001b[0;32m      1\u001b[0m \u001b[0mprint\u001b[0m\u001b[1;33m(\u001b[0m\u001b[0ml1\u001b[0m\u001b[1;33m[\u001b[0m\u001b[1;36m0\u001b[0m\u001b[1;33m]\u001b[0m\u001b[1;33m)\u001b[0m\u001b[1;33m\u001b[0m\u001b[1;33m\u001b[0m\u001b[0m\n\u001b[1;32m----> 2\u001b[1;33m \u001b[0mprint\u001b[0m\u001b[1;33m(\u001b[0m\u001b[0ml2\u001b[0m\u001b[1;33m[\u001b[0m\u001b[1;36m1\u001b[0m\u001b[1;33m]\u001b[0m\u001b[1;33m)\u001b[0m\u001b[1;33m\u001b[0m\u001b[1;33m\u001b[0m\u001b[0m\n\u001b[0m",
      "\u001b[1;31mIndexError\u001b[0m: list index out of range"
     ]
    }
   ],
   "source": [
    "print(l1[0])\n",
    "print(l2[1])"
   ]
  },
  {
   "cell_type": "code",
   "execution_count": 6,
   "id": "e89817fb",
   "metadata": {},
   "outputs": [
    {
     "name": "stdout",
     "output_type": "stream",
     "text": [
      "0\n"
     ]
    }
   ],
   "source": [
    "for i in l1:\n",
    "    if(i=='Satish'):\n",
    "        j=l1.index('Satish')\n",
    "        print(j)\n",
    "        "
   ]
  },
  {
   "cell_type": "code",
   "execution_count": 8,
   "id": "a0c8ef5f",
   "metadata": {},
   "outputs": [
    {
     "name": "stdout",
     "output_type": "stream",
     "text": [
      "Satish\n"
     ]
    },
    {
     "ename": "IndexError",
     "evalue": "list index out of range",
     "output_type": "error",
     "traceback": [
      "\u001b[1;31m---------------------------------------------------------------------------\u001b[0m",
      "\u001b[1;31mIndexError\u001b[0m                                Traceback (most recent call last)",
      "\u001b[1;32m~\\AppData\\Local\\Temp\\ipykernel_19024\\3300396767.py\u001b[0m in \u001b[0;36m<module>\u001b[1;34m\u001b[0m\n\u001b[0;32m      1\u001b[0m \u001b[0mprint\u001b[0m\u001b[1;33m(\u001b[0m\u001b[0ml1\u001b[0m\u001b[1;33m[\u001b[0m\u001b[1;36m0\u001b[0m\u001b[1;33m]\u001b[0m\u001b[1;33m)\u001b[0m\u001b[1;33m\u001b[0m\u001b[1;33m\u001b[0m\u001b[0m\n\u001b[1;32m----> 2\u001b[1;33m \u001b[0mprint\u001b[0m\u001b[1;33m(\u001b[0m\u001b[0ml2\u001b[0m\u001b[1;33m[\u001b[0m\u001b[1;36m1\u001b[0m\u001b[1;33m]\u001b[0m\u001b[1;33m)\u001b[0m\u001b[1;33m\u001b[0m\u001b[1;33m\u001b[0m\u001b[0m\n\u001b[0m",
      "\u001b[1;31mIndexError\u001b[0m: list index out of range"
     ]
    }
   ],
   "source": [
    "print(l1[0])\n",
    "print(l2[1])"
   ]
  },
  {
   "cell_type": "code",
   "execution_count": 9,
   "id": "f2043791",
   "metadata": {},
   "outputs": [
    {
     "data": {
      "text/plain": [
       "['Satish']"
      ]
     },
     "execution_count": 9,
     "metadata": {},
     "output_type": "execute_result"
    }
   ],
   "source": [
    "l1"
   ]
  },
  {
   "cell_type": "code",
   "execution_count": 11,
   "id": "9bd30b93",
   "metadata": {},
   "outputs": [
    {
     "name": "stdout",
     "output_type": "stream",
     "text": [
      "the course taken by satish is BCA\n"
     ]
    }
   ],
   "source": [
    "for i in l1:\n",
    "    if(i=='Satish'):\n",
    "        j=l1.index('Satish')\n",
    "        print(\"the course taken by satish is\",l2[j])"
   ]
  },
  {
   "cell_type": "code",
   "execution_count": 12,
   "id": "91d1e8a3",
   "metadata": {},
   "outputs": [],
   "source": [
    "class Stud:\n",
    "    def __init__(self,n,c):\n",
    "        self.name=n\n",
    "        self.course=c"
   ]
  },
  {
   "cell_type": "code",
   "execution_count": 13,
   "id": "af5883c3",
   "metadata": {},
   "outputs": [],
   "source": [
    "R1=Stud(\"Varun\",\"CSE\")"
   ]
  },
  {
   "cell_type": "code",
   "execution_count": 14,
   "id": "18cfd1d1",
   "metadata": {},
   "outputs": [
    {
     "data": {
      "text/plain": [
       "'Varun'"
      ]
     },
     "execution_count": 14,
     "metadata": {},
     "output_type": "execute_result"
    }
   ],
   "source": [
    "#r1 ---> Imaginary box for varun --> Name, Course\n",
    "#R1 --> name,course (Attributes)\n",
    "R1.name"
   ]
  },
  {
   "cell_type": "code",
   "execution_count": 15,
   "id": "35b1590e",
   "metadata": {},
   "outputs": [
    {
     "data": {
      "text/plain": [
       "'CSE'"
      ]
     },
     "execution_count": 15,
     "metadata": {},
     "output_type": "execute_result"
    }
   ],
   "source": [
    "R1.course"
   ]
  },
  {
   "cell_type": "code",
   "execution_count": 16,
   "id": "0660fee3",
   "metadata": {},
   "outputs": [],
   "source": [
    "R2=Stud(\"kabir\",'Btech')"
   ]
  },
  {
   "cell_type": "code",
   "execution_count": 17,
   "id": "95365692",
   "metadata": {},
   "outputs": [
    {
     "data": {
      "text/plain": [
       "'kabir'"
      ]
     },
     "execution_count": 17,
     "metadata": {},
     "output_type": "execute_result"
    }
   ],
   "source": [
    "R2.name"
   ]
  },
  {
   "cell_type": "code",
   "execution_count": 18,
   "id": "42cb8342",
   "metadata": {},
   "outputs": [
    {
     "data": {
      "text/plain": [
       "'Btech'"
      ]
     },
     "execution_count": 18,
     "metadata": {},
     "output_type": "execute_result"
    }
   ],
   "source": [
    "R2.course"
   ]
  },
  {
   "cell_type": "code",
   "execution_count": 22,
   "id": "ec0470a8",
   "metadata": {},
   "outputs": [],
   "source": [
    "class Stud2:\n",
    "    def __init__(self,n,c,d):\n",
    "        self.name=n\n",
    "        self.course=c\n",
    "        self.address=d\n",
    "        "
   ]
  },
  {
   "cell_type": "code",
   "execution_count": 24,
   "id": "9b4c76e6",
   "metadata": {},
   "outputs": [
    {
     "ename": "TypeError",
     "evalue": "__init__() takes 3 positional arguments but 4 were given",
     "output_type": "error",
     "traceback": [
      "\u001b[1;31m---------------------------------------------------------------------------\u001b[0m",
      "\u001b[1;31mTypeError\u001b[0m                                 Traceback (most recent call last)",
      "\u001b[1;32m~\\AppData\\Local\\Temp\\ipykernel_19024\\372542919.py\u001b[0m in \u001b[0;36m<module>\u001b[1;34m\u001b[0m\n\u001b[1;32m----> 1\u001b[1;33m \u001b[0mR1\u001b[0m\u001b[1;33m=\u001b[0m\u001b[0mStud\u001b[0m\u001b[1;33m(\u001b[0m\u001b[1;34m\"Varun\"\u001b[0m\u001b[1;33m,\u001b[0m\u001b[1;34m\"CSE\"\u001b[0m\u001b[1;33m,\u001b[0m\u001b[1;34m\"Mumbai\"\u001b[0m\u001b[1;33m)\u001b[0m\u001b[1;33m\u001b[0m\u001b[1;33m\u001b[0m\u001b[0m\n\u001b[0m\u001b[0;32m      2\u001b[0m \u001b[0mR2\u001b[0m\u001b[1;33m=\u001b[0m\u001b[0mStud\u001b[0m\u001b[1;33m(\u001b[0m\u001b[1;34m\"varun\"\u001b[0m\u001b[1;33m,\u001b[0m\u001b[1;34m\"CSE\"\u001b[0m\u001b[1;33m,\u001b[0m\u001b[1;34m\"Mumbai\"\u001b[0m\u001b[1;33m)\u001b[0m\u001b[1;33m\u001b[0m\u001b[1;33m\u001b[0m\u001b[0m\n",
      "\u001b[1;31mTypeError\u001b[0m: __init__() takes 3 positional arguments but 4 were given"
     ]
    }
   ],
   "source": [
    "R1=Stud(\"Varun\",\"CSE\",\"Mumbai\")\n",
    "R2=Stud(\"varun\",\"CSE\",\"Mumbai\")"
   ]
  },
  {
   "cell_type": "code",
   "execution_count": 25,
   "id": "55feefe6",
   "metadata": {},
   "outputs": [],
   "source": [
    "class student:\n",
    "    def __init__(self,n,c):\n",
    "        self.name = n\n",
    "        self.course = c"
   ]
  },
  {
   "cell_type": "code",
   "execution_count": 26,
   "id": "094eb86d",
   "metadata": {},
   "outputs": [],
   "source": [
    "R1 = student(\"Ravi\", \"BE\")"
   ]
  },
  {
   "cell_type": "code",
   "execution_count": 27,
   "id": "23a52f6b",
   "metadata": {},
   "outputs": [
    {
     "data": {
      "text/plain": [
       "'Ravi'"
      ]
     },
     "execution_count": 27,
     "metadata": {},
     "output_type": "execute_result"
    }
   ],
   "source": [
    "R1.name"
   ]
  },
  {
   "cell_type": "code",
   "execution_count": 28,
   "id": "ed590d8c",
   "metadata": {},
   "outputs": [
    {
     "data": {
      "text/plain": [
       "'Btech'"
      ]
     },
     "execution_count": 28,
     "metadata": {},
     "output_type": "execute_result"
    }
   ],
   "source": [
    "R2.course"
   ]
  },
  {
   "cell_type": "code",
   "execution_count": 29,
   "id": "53e13988",
   "metadata": {},
   "outputs": [
    {
     "data": {
      "text/plain": [
       "'BE'"
      ]
     },
     "execution_count": 29,
     "metadata": {},
     "output_type": "execute_result"
    }
   ],
   "source": [
    "R1.course"
   ]
  },
  {
   "cell_type": "code",
   "execution_count": 30,
   "id": "febb7b65",
   "metadata": {},
   "outputs": [],
   "source": [
    "l1=[]\n",
    "R1=student(\"Ravi\",\"BE\")\n",
    "l1.append(R1)"
   ]
  },
  {
   "cell_type": "code",
   "execution_count": 40,
   "id": "c6928e5c",
   "metadata": {},
   "outputs": [
    {
     "ename": "IndentationError",
     "evalue": "unindent does not match any outer indentation level (<tokenize>, line 9)",
     "output_type": "error",
     "traceback": [
      "\u001b[1;36m  File \u001b[1;32m\"<tokenize>\"\u001b[1;36m, line \u001b[1;32m9\u001b[0m\n\u001b[1;33m    R1 = math1(2,3)\u001b[0m\n\u001b[1;37m    ^\u001b[0m\n\u001b[1;31mIndentationError\u001b[0m\u001b[1;31m:\u001b[0m unindent does not match any outer indentation level\n"
     ]
    }
   ],
   "source": [
    "class math1:\n",
    "    def __init__(self,a,b):\n",
    "        self.num1=a\n",
    "        self.num2=b\n",
    "        \n",
    "    def sum1(self):\n",
    "        return self.num1+self.num2\n",
    "    \n",
    " R1 = math1(2,3)\n",
    " R2 = math1(4,3)\n",
    " R1.sum1()   \n",
    "    "
   ]
  },
  {
   "cell_type": "code",
   "execution_count": 41,
   "id": "dac0054f",
   "metadata": {},
   "outputs": [
    {
     "ename": "AttributeError",
     "evalue": "'Stud' object has no attribute 'sum1'",
     "output_type": "error",
     "traceback": [
      "\u001b[1;31m---------------------------------------------------------------------------\u001b[0m",
      "\u001b[1;31mAttributeError\u001b[0m                            Traceback (most recent call last)",
      "\u001b[1;32m~\\AppData\\Local\\Temp\\ipykernel_19024\\3057184910.py\u001b[0m in \u001b[0;36m<module>\u001b[1;34m\u001b[0m\n\u001b[1;32m----> 1\u001b[1;33m \u001b[0mR2\u001b[0m\u001b[1;33m.\u001b[0m\u001b[0msum1\u001b[0m\u001b[1;33m(\u001b[0m\u001b[1;33m)\u001b[0m\u001b[1;33m\u001b[0m\u001b[1;33m\u001b[0m\u001b[0m\n\u001b[0m",
      "\u001b[1;31mAttributeError\u001b[0m: 'Stud' object has no attribute 'sum1'"
     ]
    }
   ],
   "source": [
    "R2.sum1()"
   ]
  },
  {
   "cell_type": "code",
   "execution_count": 48,
   "id": "d3e6a132",
   "metadata": {},
   "outputs": [
    {
     "ename": "TypeError",
     "evalue": "'str' object is not callable",
     "output_type": "error",
     "traceback": [
      "\u001b[1;31m---------------------------------------------------------------------------\u001b[0m",
      "\u001b[1;31mTypeError\u001b[0m                                 Traceback (most recent call last)",
      "\u001b[1;32m~\\AppData\\Local\\Temp\\ipykernel_19024\\2923142609.py\u001b[0m in \u001b[0;36m<module>\u001b[1;34m\u001b[0m\n\u001b[0;32m      1\u001b[0m \u001b[0ml1\u001b[0m\u001b[1;33m=\u001b[0m\u001b[1;33m[\u001b[0m\u001b[1;33m]\u001b[0m\u001b[1;33m\u001b[0m\u001b[1;33m\u001b[0m\u001b[0m\n\u001b[1;32m----> 2\u001b[1;33m \u001b[0mR1\u001b[0m\u001b[1;33m=\u001b[0m\u001b[0mname\u001b[0m\u001b[1;33m(\u001b[0m\u001b[1;34m\"chiru\"\u001b[0m\u001b[1;33m,\u001b[0m\u001b[1;34m\"cse\"\u001b[0m\u001b[1;33m,\u001b[0m\u001b[1;34m\"bengaluru\"\u001b[0m\u001b[1;33m)\u001b[0m\u001b[1;33m\u001b[0m\u001b[1;33m\u001b[0m\u001b[0m\n\u001b[0m\u001b[0;32m      3\u001b[0m \u001b[0mR2\u001b[0m\u001b[1;33m=\u001b[0m\u001b[0mname\u001b[0m\u001b[1;33m(\u001b[0m\u001b[1;34m\"sinchana\"\u001b[0m\u001b[1;33m,\u001b[0m \u001b[1;34m\"cse\"\u001b[0m\u001b[1;33m,\u001b[0m\u001b[1;34m\"bengaluru\"\u001b[0m\u001b[1;33m)\u001b[0m\u001b[1;33m\u001b[0m\u001b[1;33m\u001b[0m\u001b[0m\n\u001b[0;32m      4\u001b[0m \u001b[0ml1\u001b[0m\u001b[1;33m.\u001b[0m\u001b[0mappend\u001b[0m\u001b[1;33m(\u001b[0m\u001b[0mR1\u001b[0m\u001b[1;33m)\u001b[0m\u001b[1;33m\u001b[0m\u001b[1;33m\u001b[0m\u001b[0m\n\u001b[0;32m      5\u001b[0m \u001b[0ml1\u001b[0m\u001b[1;33m.\u001b[0m\u001b[0mappend\u001b[0m\u001b[1;33m(\u001b[0m\u001b[0mR2\u001b[0m\u001b[1;33m)\u001b[0m\u001b[1;33m\u001b[0m\u001b[1;33m\u001b[0m\u001b[0m\n",
      "\u001b[1;31mTypeError\u001b[0m: 'str' object is not callable"
     ]
    }
   ],
   "source": [
    "l1=[]\n",
    "R1=name(\"chiru\",\"cse\",\"bengaluru\")\n",
    "R2=name(\"sinchana\", \"cse\",\"bengaluru\")\n",
    "l1.append(R1)\n",
    "l1.append(R2)\n",
    "\n",
    "for i in l1:\n",
    "    print(i.name)"
   ]
  },
  {
   "cell_type": "code",
   "execution_count": 43,
   "id": "32b228bc",
   "metadata": {},
   "outputs": [
    {
     "data": {
      "text/plain": [
       "__main__.student"
      ]
     },
     "execution_count": 43,
     "metadata": {},
     "output_type": "execute_result"
    }
   ],
   "source": [
    "type(R1)"
   ]
  },
  {
   "cell_type": "code",
   "execution_count": 44,
   "id": "78bc3224",
   "metadata": {},
   "outputs": [
    {
     "data": {
      "text/plain": [
       "int"
      ]
     },
     "execution_count": 44,
     "metadata": {},
     "output_type": "execute_result"
    }
   ],
   "source": [
    "t=10\n",
    "type(t)"
   ]
  },
  {
   "cell_type": "code",
   "execution_count": 51,
   "id": "a26e8ae9",
   "metadata": {},
   "outputs": [
    {
     "ename": "SyntaxError",
     "evalue": "(unicode error) 'unicodeescape' codec can't decode bytes in position 2-3: truncated \\UXXXXXXXX escape (1775916001.py, line 1)",
     "output_type": "error",
     "traceback": [
      "\u001b[1;36m  File \u001b[1;32m\"C:\\Users\\saharsh\\AppData\\Local\\Temp\\ipykernel_19024\\1775916001.py\"\u001b[1;36m, line \u001b[1;32m1\u001b[0m\n\u001b[1;33m    d=open('C:\\Users\\saharsh\\anaconda3','untitled1')\u001b[0m\n\u001b[1;37m                                       ^\u001b[0m\n\u001b[1;31mSyntaxError\u001b[0m\u001b[1;31m:\u001b[0m (unicode error) 'unicodeescape' codec can't decode bytes in position 2-3: truncated \\UXXXXXXXX escape\n"
     ]
    }
   ],
   "source": [
    "d=open('C:\\Users\\saharsh\\anaconda3','untitled1')\n",
    "print(d)"
   ]
  },
  {
   "cell_type": "code",
   "execution_count": null,
   "id": "0915b314",
   "metadata": {},
   "outputs": [],
   "source": []
  }
 ],
 "metadata": {
  "kernelspec": {
   "display_name": "Python 3 (ipykernel)",
   "language": "python",
   "name": "python3"
  },
  "language_info": {
   "codemirror_mode": {
    "name": "ipython",
    "version": 3
   },
   "file_extension": ".py",
   "mimetype": "text/x-python",
   "name": "python",
   "nbconvert_exporter": "python",
   "pygments_lexer": "ipython3",
   "version": "3.9.13"
  }
 },
 "nbformat": 4,
 "nbformat_minor": 5
}
