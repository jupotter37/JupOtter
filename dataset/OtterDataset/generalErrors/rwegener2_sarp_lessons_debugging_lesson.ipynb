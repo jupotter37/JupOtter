{
 "cells": [
  {
   "cell_type": "markdown",
   "id": "2bc549a0",
   "metadata": {},
   "source": [
    "# Debugging "
   ]
  },
  {
   "cell_type": "markdown",
   "id": "079d76b4",
   "metadata": {},
   "source": [
    "## 1) Using a Python Traceback\n",
    "\n",
    "(Also called a slacktrace)"
   ]
  },
  {
   "cell_type": "markdown",
   "id": "18b52c5c",
   "metadata": {},
   "source": [
    "<img src=\"https://files.realpython.com/media/python_traceback_2.b27a4eb060a8.png\">\n",
    "\n",
    "1. **blue box** - Type of error\n",
    "2. **green box** - Error message\n",
    "3. **red line** - The specific line that caused the error\n",
    "4. **yellow box** - The files and functions/methods where the error occured\n",
    "\n",
    "\n",
    "Key point:\n",
    "> Read a Python traceback from bottom to top"
   ]
  },
  {
   "cell_type": "code",
   "execution_count": 40,
   "id": "6d2f1f88",
   "metadata": {},
   "outputs": [
    {
     "ename": "SyntaxError",
     "evalue": "invalid syntax (<ipython-input-40-3935572fdde4>, line 4)",
     "output_type": "error",
     "traceback": [
      "\u001b[1;36m  File \u001b[1;32m\"<ipython-input-40-3935572fdde4>\"\u001b[1;36m, line \u001b[1;32m4\u001b[0m\n\u001b[1;33m    'zenith': 60,\u001b[0m\n\u001b[1;37m    ^\u001b[0m\n\u001b[1;31mSyntaxError\u001b[0m\u001b[1;31m:\u001b[0m invalid syntax\n"
     ]
    }
   ],
   "source": [
    "metadata = {\n",
    "    'location': 'Nairobi', \n",
    "    'quality_flag': 5\n",
    "    'zenith': 60, \n",
    "    'clouds': True,\n",
    "    'data_center': ['LPDAAC', 'ASDC'],\n",
    "}\n",
    "metadata['Zenith\"] == '7'\n",
    "rotated_zenith = metadata['zenith'] + 90\n",
    "print(rotated_zenith)"
   ]
  },
  {
   "cell_type": "markdown",
   "id": "b299f837",
   "metadata": {},
   "source": [
    "_Indentify the parts of the slacktrace in the error message above._"
   ]
  },
  {
   "cell_type": "markdown",
   "id": "36fe6dd4",
   "metadata": {},
   "source": [
    "### Python Error Messages\n",
    "\n",
    "Python error messages are shown **at the bottom** of a Traceback.  This is the first thing you often read in the traceback."
   ]
  },
  {
   "cell_type": "markdown",
   "id": "fa7ae094",
   "metadata": {},
   "source": [
    "#### `IndexError`\n",
    "\n",
    "An `IndexError` occurs when you try to access a value using an index and that index does not exist in the object."
   ]
  },
  {
   "cell_type": "code",
   "execution_count": 11,
   "id": "214e9be1",
   "metadata": {},
   "outputs": [
    {
     "ename": "IndexError",
     "evalue": "list index out of range",
     "output_type": "error",
     "traceback": [
      "\u001b[1;31m---------------------------------------------------------------------------\u001b[0m",
      "\u001b[1;31mIndexError\u001b[0m                                Traceback (most recent call last)",
      "\u001b[1;32m<ipython-input-11-f05b51aac7dc>\u001b[0m in \u001b[0;36m<module>\u001b[1;34m\u001b[0m\n\u001b[0;32m      1\u001b[0m \u001b[0mpollutants\u001b[0m \u001b[1;33m=\u001b[0m \u001b[1;33m[\u001b[0m\u001b[1;34m'co'\u001b[0m\u001b[1;33m,\u001b[0m \u001b[1;34m'co2'\u001b[0m\u001b[1;33m,\u001b[0m \u001b[1;34m'no2'\u001b[0m\u001b[1;33m,\u001b[0m \u001b[1;34m'o3'\u001b[0m\u001b[1;33m]\u001b[0m\u001b[1;33m\u001b[0m\u001b[1;33m\u001b[0m\u001b[0m\n\u001b[1;32m----> 2\u001b[1;33m \u001b[0mpollutants\u001b[0m\u001b[1;33m[\u001b[0m\u001b[1;36m50\u001b[0m\u001b[1;33m]\u001b[0m\u001b[1;33m\u001b[0m\u001b[1;33m\u001b[0m\u001b[0m\n\u001b[0m",
      "\u001b[1;31mIndexError\u001b[0m: list index out of range"
     ]
    }
   ],
   "source": [
    "pollutants = ['co', 'co2', 'no2', 'o3']\n",
    "pollutants[50]"
   ]
  },
  {
   "cell_type": "markdown",
   "id": "8f067ed7",
   "metadata": {},
   "source": [
    "#### `KeyError`\n",
    "\n",
    "A `KeyError` occurs when you are trying to access a named value of an object (a key) that does not exist.  This is common in dictionaries and pandas DataFrames."
   ]
  },
  {
   "cell_type": "code",
   "execution_count": 3,
   "id": "d675d059",
   "metadata": {},
   "outputs": [],
   "source": [
    "metadata = {\n",
    "    'location': 'Nairobi', \n",
    "    'quality_flag': 5, \n",
    "    'zenith': 60, \n",
    "    'clouds': True,\n",
    "    'data_center': ['LPDAAC', 'ASDC'],\n",
    "}"
   ]
  },
  {
   "cell_type": "code",
   "execution_count": 4,
   "id": "cef99f6c",
   "metadata": {},
   "outputs": [
    {
     "ename": "KeyError",
     "evalue": "'start_date'",
     "output_type": "error",
     "traceback": [
      "\u001b[1;31m---------------------------------------------------------------------------\u001b[0m",
      "\u001b[1;31mKeyError\u001b[0m                                  Traceback (most recent call last)",
      "\u001b[1;32m<ipython-input-4-e954e279728c>\u001b[0m in \u001b[0;36m<module>\u001b[1;34m\u001b[0m\n\u001b[1;32m----> 1\u001b[1;33m \u001b[0mmetadata\u001b[0m\u001b[1;33m[\u001b[0m\u001b[1;34m'start_date'\u001b[0m\u001b[1;33m]\u001b[0m\u001b[1;33m\u001b[0m\u001b[1;33m\u001b[0m\u001b[0m\n\u001b[0m",
      "\u001b[1;31mKeyError\u001b[0m: 'start_date'"
     ]
    }
   ],
   "source": [
    "metadata['start_date']"
   ]
  },
  {
   "cell_type": "markdown",
   "id": "0231b76c",
   "metadata": {},
   "source": [
    "#### `NameError`\n",
    "\n",
    "A `NameError` occurs when you try to use a variable that doesn't exist."
   ]
  },
  {
   "cell_type": "code",
   "execution_count": 10,
   "id": "923c6436",
   "metadata": {},
   "outputs": [
    {
     "ename": "NameError",
     "evalue": "name 'max_no2' is not defined",
     "output_type": "error",
     "traceback": [
      "\u001b[1;31m---------------------------------------------------------------------------\u001b[0m",
      "\u001b[1;31mNameError\u001b[0m                                 Traceback (most recent call last)",
      "\u001b[1;32m<ipython-input-10-8c7930fd591b>\u001b[0m in \u001b[0;36m<module>\u001b[1;34m\u001b[0m\n\u001b[1;32m----> 1\u001b[1;33m \u001b[0mlen\u001b[0m\u001b[1;33m(\u001b[0m\u001b[0mmax_no2\u001b[0m\u001b[1;33m)\u001b[0m\u001b[1;33m\u001b[0m\u001b[1;33m\u001b[0m\u001b[0m\n\u001b[0m",
      "\u001b[1;31mNameError\u001b[0m: name 'max_no2' is not defined"
     ]
    }
   ],
   "source": [
    "len(max_no2)"
   ]
  },
  {
   "cell_type": "markdown",
   "id": "1cd1b5c6",
   "metadata": {},
   "source": [
    "#### `SyntaxError`\n",
    "\n",
    "A `SyntaxError` occurs when you have typed something that breaks the grammar rules of the core Python language. This could be extra parenthesis, mismatching quotes, backwards brackets, or a variety of other things."
   ]
  },
  {
   "cell_type": "code",
   "execution_count": 12,
   "id": "b740c6e3",
   "metadata": {},
   "outputs": [
    {
     "ename": "SyntaxError",
     "evalue": "unexpected EOF while parsing (<ipython-input-12-06668746c5e8>, line 1)",
     "output_type": "error",
     "traceback": [
      "\u001b[1;36m  File \u001b[1;32m\"<ipython-input-12-06668746c5e8>\"\u001b[1;36m, line \u001b[1;32m1\u001b[0m\n\u001b[1;33m    len(pollutants\u001b[0m\n\u001b[1;37m                  ^\u001b[0m\n\u001b[1;31mSyntaxError\u001b[0m\u001b[1;31m:\u001b[0m unexpected EOF while parsing\n"
     ]
    }
   ],
   "source": [
    "len(pollutants"
   ]
  },
  {
   "cell_type": "code",
   "execution_count": 13,
   "id": "3d68fcc2",
   "metadata": {},
   "outputs": [
    {
     "ename": "SyntaxError",
     "evalue": "EOL while scanning string literal (<ipython-input-13-feb0a3922969>, line 1)",
     "output_type": "error",
     "traceback": [
      "\u001b[1;36m  File \u001b[1;32m\"<ipython-input-13-feb0a3922969>\"\u001b[1;36m, line \u001b[1;32m1\u001b[0m\n\u001b[1;33m    metadata['zenith\"]\u001b[0m\n\u001b[1;37m                      ^\u001b[0m\n\u001b[1;31mSyntaxError\u001b[0m\u001b[1;31m:\u001b[0m EOL while scanning string literal\n"
     ]
    }
   ],
   "source": [
    "metadata['zenith\"]"
   ]
  },
  {
   "cell_type": "markdown",
   "id": "39e8ef3b",
   "metadata": {},
   "source": [
    "#### `TypeError`\n",
    "\n",
    "A `TypeError` is raised when you try to do something to an object, for example using a function, method, or operator, that the object can't handle."
   ]
  },
  {
   "cell_type": "code",
   "execution_count": 16,
   "id": "5a4dad60",
   "metadata": {},
   "outputs": [
    {
     "ename": "TypeError",
     "evalue": "object of type 'int' has no len()",
     "output_type": "error",
     "traceback": [
      "\u001b[1;31m---------------------------------------------------------------------------\u001b[0m",
      "\u001b[1;31mTypeError\u001b[0m                                 Traceback (most recent call last)",
      "\u001b[1;32m<ipython-input-16-fbedace2e0dc>\u001b[0m in \u001b[0;36m<module>\u001b[1;34m\u001b[0m\n\u001b[0;32m      1\u001b[0m \u001b[0mmax_o3\u001b[0m \u001b[1;33m=\u001b[0m \u001b[1;36m95\u001b[0m\u001b[1;33m\u001b[0m\u001b[1;33m\u001b[0m\u001b[0m\n\u001b[1;32m----> 2\u001b[1;33m \u001b[0mlen\u001b[0m\u001b[1;33m(\u001b[0m\u001b[0mmax_o3\u001b[0m\u001b[1;33m)\u001b[0m\u001b[1;33m\u001b[0m\u001b[1;33m\u001b[0m\u001b[0m\n\u001b[0m",
      "\u001b[1;31mTypeError\u001b[0m: object of type 'int' has no len()"
     ]
    }
   ],
   "source": [
    "max_o3 = 95\n",
    "len(max_o3)"
   ]
  },
  {
   "cell_type": "markdown",
   "id": "aea742fe",
   "metadata": {},
   "source": [
    "#### `AttributeError`\n",
    "\n",
    "An `AttributeError` occurs when you try to get information from an object and the type of information you are looking for doesn't exist on that type of object."
   ]
  },
  {
   "cell_type": "code",
   "execution_count": 25,
   "id": "218cd94b",
   "metadata": {},
   "outputs": [
    {
     "ename": "AttributeError",
     "evalue": "'list' object has no attribute 'keys'",
     "output_type": "error",
     "traceback": [
      "\u001b[1;31m---------------------------------------------------------------------------\u001b[0m",
      "\u001b[1;31mAttributeError\u001b[0m                            Traceback (most recent call last)",
      "\u001b[1;32m<ipython-input-25-4c211af94241>\u001b[0m in \u001b[0;36m<module>\u001b[1;34m\u001b[0m\n\u001b[0;32m      1\u001b[0m \u001b[0mpollutants\u001b[0m \u001b[1;33m=\u001b[0m \u001b[1;33m[\u001b[0m\u001b[1;34m'co'\u001b[0m\u001b[1;33m,\u001b[0m \u001b[1;34m'co2'\u001b[0m\u001b[1;33m,\u001b[0m \u001b[1;34m'no2'\u001b[0m\u001b[1;33m,\u001b[0m \u001b[1;34m'o3'\u001b[0m\u001b[1;33m]\u001b[0m\u001b[1;33m\u001b[0m\u001b[1;33m\u001b[0m\u001b[0m\n\u001b[1;32m----> 2\u001b[1;33m \u001b[0mpollutants\u001b[0m\u001b[1;33m.\u001b[0m\u001b[0mkeys\u001b[0m\u001b[1;33m(\u001b[0m\u001b[1;33m)\u001b[0m\u001b[1;33m\u001b[0m\u001b[1;33m\u001b[0m\u001b[0m\n\u001b[0m",
      "\u001b[1;31mAttributeError\u001b[0m: 'list' object has no attribute 'keys'"
     ]
    }
   ],
   "source": [
    "pollutants = ['co', 'co2', 'no2', 'o3']\n",
    "pollutants.keys()"
   ]
  },
  {
   "cell_type": "markdown",
   "id": "5d02755f",
   "metadata": {},
   "source": [
    "#### `ValueError`\n",
    "\n",
    "A `ValueError` is raised when a function/method gets an input value that has the right type but the value is not appropriate.  It is a very broad reaching error so it sometimes isn't obvious what the problem is if you get a `ValueError`."
   ]
  },
  {
   "cell_type": "code",
   "execution_count": 48,
   "id": "a01872a7",
   "metadata": {},
   "outputs": [
    {
     "ename": "ValueError",
     "evalue": "could not convert string to float: 'pineapples'",
     "output_type": "error",
     "traceback": [
      "\u001b[1;31m---------------------------------------------------------------------------\u001b[0m",
      "\u001b[1;31mValueError\u001b[0m                                Traceback (most recent call last)",
      "\u001b[1;32m<ipython-input-48-37db5a3fe5f5>\u001b[0m in \u001b[0;36m<module>\u001b[1;34m\u001b[0m\n\u001b[0;32m      1\u001b[0m \u001b[0mfloat\u001b[0m\u001b[1;33m(\u001b[0m\u001b[1;34m'8'\u001b[0m\u001b[1;33m)\u001b[0m  \u001b[1;31m# This is fine\u001b[0m\u001b[1;33m\u001b[0m\u001b[1;33m\u001b[0m\u001b[0m\n\u001b[1;32m----> 2\u001b[1;33m \u001b[0mfloat\u001b[0m\u001b[1;33m(\u001b[0m\u001b[1;34m'pineapples'\u001b[0m\u001b[1;33m)\u001b[0m  \u001b[1;31m# This isn't\u001b[0m\u001b[1;33m\u001b[0m\u001b[1;33m\u001b[0m\u001b[0m\n\u001b[0m",
      "\u001b[1;31mValueError\u001b[0m: could not convert string to float: 'pineapples'"
     ]
    }
   ],
   "source": [
    "float('8')  # This is fine\n",
    "float('pineapples')  # This isn't"
   ]
  },
  {
   "cell_type": "markdown",
   "id": "5bf23f06",
   "metadata": {},
   "source": [
    "### Sometimes it's mixed\n",
    "\n",
    "At times the error message you get won't be the most helpful thing to lead to you to the solution. Keep this in mind - while the error message is a very useful place to start your debugging be open to considering additional avenues of error."
   ]
  },
  {
   "cell_type": "code",
   "execution_count": 24,
   "id": "1af6c50c",
   "metadata": {
    "scrolled": true
   },
   "outputs": [
    {
     "name": "stderr",
     "output_type": "stream",
     "text": [
      "<>:2: SyntaxWarning: str indices must be integers or slices, not str; perhaps you missed a comma?\n",
      "<>:2: SyntaxWarning: str indices must be integers or slices, not str; perhaps you missed a comma?\n",
      "<ipython-input-24-22f4cb02bbce>:2: SyntaxWarning: str indices must be integers or slices, not str; perhaps you missed a comma?\n",
      "  metadata['data_center'['LPDAAC']]\n"
     ]
    },
    {
     "ename": "TypeError",
     "evalue": "string indices must be integers",
     "output_type": "error",
     "traceback": [
      "\u001b[1;31m---------------------------------------------------------------------------\u001b[0m",
      "\u001b[1;31mTypeError\u001b[0m                                 Traceback (most recent call last)",
      "\u001b[1;32m<ipython-input-24-22f4cb02bbce>\u001b[0m in \u001b[0;36m<module>\u001b[1;34m\u001b[0m\n\u001b[0;32m      1\u001b[0m \u001b[1;31m# Sometimes error messages are more cryptic\u001b[0m\u001b[1;33m\u001b[0m\u001b[1;33m\u001b[0m\u001b[1;33m\u001b[0m\u001b[0m\n\u001b[1;32m----> 2\u001b[1;33m \u001b[0mmetadata\u001b[0m\u001b[1;33m[\u001b[0m\u001b[1;34m'data_center'\u001b[0m\u001b[1;33m[\u001b[0m\u001b[1;34m'LPDAAC'\u001b[0m\u001b[1;33m]\u001b[0m\u001b[1;33m]\u001b[0m\u001b[1;33m\u001b[0m\u001b[1;33m\u001b[0m\u001b[0m\n\u001b[0m",
      "\u001b[1;31mTypeError\u001b[0m: string indices must be integers"
     ]
    }
   ],
   "source": [
    "# Sometimes error messages are more cryptic\n",
    "metadata['data_center'['LPDAAC']]"
   ]
  },
  {
   "cell_type": "markdown",
   "id": "7c66ca83",
   "metadata": {},
   "source": [
    "### Libraries\n",
    "\n",
    "Additional libraries will have their own custom errors that you will learn as you use them.  Read the error message type to become familiar with the terminology then move on to reading the error message."
   ]
  },
  {
   "cell_type": "code",
   "execution_count": 20,
   "id": "12a23094",
   "metadata": {},
   "outputs": [],
   "source": [
    "import rasterio"
   ]
  },
  {
   "cell_type": "code",
   "execution_count": 21,
   "id": "2d846bed",
   "metadata": {
    "scrolled": true
   },
   "outputs": [
    {
     "ename": "RasterioIOError",
     "evalue": "./my_favorite_file.tif: No such file or directory",
     "output_type": "error",
     "traceback": [
      "\u001b[1;31m---------------------------------------------------------------------------\u001b[0m",
      "\u001b[1;31mCPLE_OpenFailedError\u001b[0m                      Traceback (most recent call last)",
      "\u001b[1;32mrasterio\\_base.pyx\u001b[0m in \u001b[0;36mrasterio._base.DatasetBase.__init__\u001b[1;34m()\u001b[0m\n",
      "\u001b[1;32mrasterio\\_shim.pyx\u001b[0m in \u001b[0;36mrasterio._shim.open_dataset\u001b[1;34m()\u001b[0m\n",
      "\u001b[1;32mrasterio\\_err.pyx\u001b[0m in \u001b[0;36mrasterio._err.exc_wrap_pointer\u001b[1;34m()\u001b[0m\n",
      "\u001b[1;31mCPLE_OpenFailedError\u001b[0m: ./my_favorite_file.tif: No such file or directory",
      "\nDuring handling of the above exception, another exception occurred:\n",
      "\u001b[1;31mRasterioIOError\u001b[0m                           Traceback (most recent call last)",
      "\u001b[1;32m<ipython-input-21-cce27133433b>\u001b[0m in \u001b[0;36m<module>\u001b[1;34m\u001b[0m\n\u001b[1;32m----> 1\u001b[1;33m \u001b[0mrasterio\u001b[0m\u001b[1;33m.\u001b[0m\u001b[0mopen\u001b[0m\u001b[1;33m(\u001b[0m\u001b[1;34m'./my_favorite_file.tif'\u001b[0m\u001b[1;33m)\u001b[0m\u001b[1;33m\u001b[0m\u001b[1;33m\u001b[0m\u001b[0m\n\u001b[0m",
      "\u001b[1;32m~\\.conda\\envs\\lessons\\lib\\site-packages\\rasterio\\env.py\u001b[0m in \u001b[0;36mwrapper\u001b[1;34m(*args, **kwds)\u001b[0m\n\u001b[0;32m    433\u001b[0m \u001b[1;33m\u001b[0m\u001b[0m\n\u001b[0;32m    434\u001b[0m         \u001b[1;32mwith\u001b[0m \u001b[0menv_ctor\u001b[0m\u001b[1;33m(\u001b[0m\u001b[0msession\u001b[0m\u001b[1;33m=\u001b[0m\u001b[0msession\u001b[0m\u001b[1;33m)\u001b[0m\u001b[1;33m:\u001b[0m\u001b[1;33m\u001b[0m\u001b[1;33m\u001b[0m\u001b[0m\n\u001b[1;32m--> 435\u001b[1;33m             \u001b[1;32mreturn\u001b[0m \u001b[0mf\u001b[0m\u001b[1;33m(\u001b[0m\u001b[1;33m*\u001b[0m\u001b[0margs\u001b[0m\u001b[1;33m,\u001b[0m \u001b[1;33m**\u001b[0m\u001b[0mkwds\u001b[0m\u001b[1;33m)\u001b[0m\u001b[1;33m\u001b[0m\u001b[1;33m\u001b[0m\u001b[0m\n\u001b[0m\u001b[0;32m    436\u001b[0m \u001b[1;33m\u001b[0m\u001b[0m\n\u001b[0;32m    437\u001b[0m     \u001b[1;32mreturn\u001b[0m \u001b[0mwrapper\u001b[0m\u001b[1;33m\u001b[0m\u001b[1;33m\u001b[0m\u001b[0m\n",
      "\u001b[1;32m~\\.conda\\envs\\lessons\\lib\\site-packages\\rasterio\\__init__.py\u001b[0m in \u001b[0;36mopen\u001b[1;34m(fp, mode, driver, width, height, count, crs, transform, dtype, nodata, sharing, **kwargs)\u001b[0m\n\u001b[0;32m    218\u001b[0m         \u001b[1;31m# None.\u001b[0m\u001b[1;33m\u001b[0m\u001b[1;33m\u001b[0m\u001b[1;33m\u001b[0m\u001b[0m\n\u001b[0;32m    219\u001b[0m         \u001b[1;32mif\u001b[0m \u001b[0mmode\u001b[0m \u001b[1;33m==\u001b[0m \u001b[1;34m'r'\u001b[0m\u001b[1;33m:\u001b[0m\u001b[1;33m\u001b[0m\u001b[1;33m\u001b[0m\u001b[0m\n\u001b[1;32m--> 220\u001b[1;33m             \u001b[0ms\u001b[0m \u001b[1;33m=\u001b[0m \u001b[0mDatasetReader\u001b[0m\u001b[1;33m(\u001b[0m\u001b[0mpath\u001b[0m\u001b[1;33m,\u001b[0m \u001b[0mdriver\u001b[0m\u001b[1;33m=\u001b[0m\u001b[0mdriver\u001b[0m\u001b[1;33m,\u001b[0m \u001b[0msharing\u001b[0m\u001b[1;33m=\u001b[0m\u001b[0msharing\u001b[0m\u001b[1;33m,\u001b[0m \u001b[1;33m**\u001b[0m\u001b[0mkwargs\u001b[0m\u001b[1;33m)\u001b[0m\u001b[1;33m\u001b[0m\u001b[1;33m\u001b[0m\u001b[0m\n\u001b[0m\u001b[0;32m    221\u001b[0m         \u001b[1;32melif\u001b[0m \u001b[0mmode\u001b[0m \u001b[1;33m==\u001b[0m \u001b[1;34m\"r+\"\u001b[0m\u001b[1;33m:\u001b[0m\u001b[1;33m\u001b[0m\u001b[1;33m\u001b[0m\u001b[0m\n\u001b[0;32m    222\u001b[0m             s = get_writer_for_path(path, driver=driver)(\n",
      "\u001b[1;32mrasterio\\_base.pyx\u001b[0m in \u001b[0;36mrasterio._base.DatasetBase.__init__\u001b[1;34m()\u001b[0m\n",
      "\u001b[1;31mRasterioIOError\u001b[0m: ./my_favorite_file.tif: No such file or directory"
     ]
    }
   ],
   "source": [
    "rasterio.open('./my_favorite_file.tif')"
   ]
  },
  {
   "cell_type": "markdown",
   "id": "334741c0",
   "metadata": {},
   "source": [
    "### An Example\n",
    "\n",
    "Take a few minutes to debug the following block of code.  Keep note of what strategies you use to find and fix errors.\n",
    "\n",
    "- How do you know when something isn't working?\n",
    "- How do you decide what to try?"
   ]
  },
  {
   "cell_type": "code",
   "execution_count": 4,
   "id": "5e7a38a6",
   "metadata": {
    "scrolled": true
   },
   "outputs": [
    {
     "ename": "SyntaxError",
     "evalue": "invalid syntax (<ipython-input-4-780111995053>, line 6)",
     "output_type": "error",
     "traceback": [
      "\u001b[1;36m  File \u001b[1;32m\"<ipython-input-4-780111995053>\"\u001b[1;36m, line \u001b[1;32m6\u001b[0m\n\u001b[1;33m    'zenith': 60,\u001b[0m\n\u001b[1;37m    ^\u001b[0m\n\u001b[1;31mSyntaxError\u001b[0m\u001b[1;31m:\u001b[0m invalid syntax\n"
     ]
    }
   ],
   "source": [
    "# Goal: Set a new value of 7 to the zenith then print the `rotated_zenith` value\n",
    "# The output value should be 97.\n",
    "metadata = {\n",
    "    'location': 'Nairobi', \n",
    "    'quality_flag': 5\n",
    "    'zenith': 60, \n",
    "    'clouds': True,\n",
    "    'data_center': ['LPDAAC', 'ASDC'],\n",
    "}\n",
    "metadata['Zenith\"] == '7'\n",
    "rotated_zenith = metadata['zenith'] + 90\n",
    "print(rotated_zenith)"
   ]
  },
  {
   "cell_type": "markdown",
   "id": "350d1811",
   "metadata": {},
   "source": [
    "### Example 2 (pandas)"
   ]
  },
  {
   "cell_type": "code",
   "execution_count": 2,
   "id": "373876a8",
   "metadata": {},
   "outputs": [],
   "source": [
    "import pandas as pd"
   ]
  },
  {
   "cell_type": "code",
   "execution_count": 16,
   "id": "f2b6b241",
   "metadata": {
    "scrolled": true
   },
   "outputs": [],
   "source": [
    "# Import example WAS data\n",
    "was_2020_filepath = \"./data/SARP 2020 final.xlsx\"\n",
    "was_2020 = pd.read_excel(was_2020_filepath, \"INPUT\", skipfooter=7)\n",
    "was_2020['Box'] = was_2020['Box'].astype(str)"
   ]
  },
  {
   "cell_type": "markdown",
   "id": "735cf1ed",
   "metadata": {},
   "source": [
    "The goal of the following piece of code is to show all ~20 rows where CH4 was greater than 1 from box 37."
   ]
  },
  {
   "cell_type": "code",
   "execution_count": 55,
   "id": "fdf4cc4b",
   "metadata": {},
   "outputs": [
    {
     "ename": "SyntaxError",
     "evalue": "unmatched ')' (<ipython-input-55-2c466c8d93fe>, line 1)",
     "output_type": "error",
     "traceback": [
      "\u001b[1;36m  File \u001b[1;32m\"<ipython-input-55-2c466c8d93fe>\"\u001b[1;36m, line \u001b[1;32m1\u001b[0m\n\u001b[1;33m    was_2020[(was_2020['Box'] == 37) & (was_2020['CH4 (ppmv height)'] > 1)]['i-Pentane (E/B)'].plot())\u001b[0m\n\u001b[1;37m                                                                                                     ^\u001b[0m\n\u001b[1;31mSyntaxError\u001b[0m\u001b[1;31m:\u001b[0m unmatched ')'\n"
     ]
    }
   ],
   "source": [
    "was_2020[(was_2020['Box'] == 37) & (was_2020['CH4 (ppmv height)'] > 1)]['i-Pentane (E/B)'].plot())"
   ]
  },
  {
   "cell_type": "markdown",
   "id": "8ab10502",
   "metadata": {},
   "source": [
    "## 3) Reading Documentation"
   ]
  },
  {
   "cell_type": "markdown",
   "id": "a474d1b5",
   "metadata": {},
   "source": [
    "### Remembering arguments (`args`) and keyword arguments (`kwargs`)"
   ]
  },
  {
   "cell_type": "code",
   "execution_count": 62,
   "id": "b4fc0ab6",
   "metadata": {},
   "outputs": [],
   "source": [
    "pollutants = ['co', 'co2', 'no2', 'o3']"
   ]
  },
  {
   "cell_type": "code",
   "execution_count": 63,
   "id": "99530f3e",
   "metadata": {},
   "outputs": [],
   "source": [
    "# 'ch4' is an argument\n",
    "pollutants.append('ch4')"
   ]
  },
  {
   "cell_type": "code",
   "execution_count": 65,
   "id": "274a38e9",
   "metadata": {},
   "outputs": [],
   "source": [
    "# reverse=False is a key word argument\n",
    "pollutants.sort(reverse=False)"
   ]
  },
  {
   "cell_type": "code",
   "execution_count": 66,
   "id": "f9e23086",
   "metadata": {},
   "outputs": [
    {
     "data": {
      "text/plain": [
       "['ch4', 'co', 'co2', 'no2', 'o3']"
      ]
     },
     "execution_count": 66,
     "metadata": {},
     "output_type": "execute_result"
    }
   ],
   "source": [
    "pollutants"
   ]
  },
  {
   "cell_type": "markdown",
   "id": "f9049025",
   "metadata": {},
   "source": [
    "### Example with rasters: `matplotlib.plot.imshow`\n",
    "\n",
    "[documentation page](https://matplotlib.org/stable/api/_as_gen/matplotlib.pyplot.imshow.html)"
   ]
  },
  {
   "cell_type": "code",
   "execution_count": 32,
   "id": "226de3b8",
   "metadata": {},
   "outputs": [],
   "source": [
    "import matplotlib.pyplot as plt"
   ]
  },
  {
   "cell_type": "code",
   "execution_count": 23,
   "id": "eb91dbbb",
   "metadata": {},
   "outputs": [
    {
     "name": "stdout",
     "output_type": "stream",
     "text": [
      "[[ 3.  5.  7.]\n",
      " [ 0. nan 10.]\n",
      " [nan  4.  4.]]\n"
     ]
    }
   ],
   "source": [
    "matrix = np.array([[3, 5, 7], [0, np.nan, 10], [np.nan, 4, 4]])\n",
    "print(matrix)"
   ]
  },
  {
   "cell_type": "code",
   "execution_count": 36,
   "id": "125c6d89",
   "metadata": {},
   "outputs": [
    {
     "data": {
      "text/plain": [
       "<matplotlib.image.AxesImage at 0x2a0e29dc610>"
      ]
     },
     "execution_count": 36,
     "metadata": {},
     "output_type": "execute_result"
    },
    {
     "data": {
      "image/png": "[encoded data removed]",
      "text/plain": [
       "<Figure size 432x288 with 1 Axes>"
      ]
     },
     "metadata": {
      "needs_background": "light"
     },
     "output_type": "display_data"
    }
   ],
   "source": [
    "plt.imshow(matrix)"
   ]
  },
  {
   "cell_type": "code",
   "execution_count": 35,
   "id": "b524fc12",
   "metadata": {},
   "outputs": [
    {
     "data": {
      "text/plain": [
       "<matplotlib.image.AxesImage at 0x2a0e19bf100>"
      ]
     },
     "execution_count": 35,
     "metadata": {},
     "output_type": "execute_result"
    },
    {
     "data": {
      "image/png": "[encoded data removed]",
      "text/plain": [
       "<Figure size 432x288 with 1 Axes>"
      ]
     },
     "metadata": {
      "needs_background": "light"
     },
     "output_type": "display_data"
    }
   ],
   "source": [
    "plt.imshow(matrix, cmap='BuGn')"
   ]
  },
  {
   "cell_type": "code",
   "execution_count": null,
   "id": "d1db5daa",
   "metadata": {},
   "outputs": [],
   "source": []
  },
  {
   "cell_type": "markdown",
   "id": "fbc98e2e",
   "metadata": {},
   "source": [
    "### Example with `pandas`: `.plot.scatter()`\n",
    "\n",
    "[documentation page](https://pandas.pydata.org/pandas-docs/stable/reference/api/pandas.DataFrame.plot.scatter.html)"
   ]
  },
  {
   "cell_type": "code",
   "execution_count": 49,
   "id": "7c16a499",
   "metadata": {},
   "outputs": [],
   "source": [
    "import pandas as pd"
   ]
  },
  {
   "cell_type": "code",
   "execution_count": 51,
   "id": "f289ed5d",
   "metadata": {
    "scrolled": true
   },
   "outputs": [],
   "source": [
    "# Import example WAS data\n",
    "was_2020_filepath = \"./data/SARP 2020 final.xlsx\"\n",
    "was_2020 = pd.read_excel(was_2020_filepath, \"INPUT\", skipfooter=7)"
   ]
  },
  {
   "cell_type": "code",
   "execution_count": 52,
   "id": "06e5384b",
   "metadata": {},
   "outputs": [
    {
     "data": {
      "text/plain": [
       "<AxesSubplot:xlabel='i-Butane (E/B)', ylabel='n-Butane (E/B)'>"
      ]
     },
     "execution_count": 52,
     "metadata": {},
     "output_type": "execute_result"
    },
    {
     "data": {
      "image/png": "[encoded data removed]",
      "text/plain": [
       "<Figure size 432x288 with 1 Axes>"
      ]
     },
     "metadata": {
      "needs_background": "light"
     },
     "output_type": "display_data"
    }
   ],
   "source": [
    "was_2020.plot.scatter(x='i-Butane (E/B)', y='n-Butane (E/B)')"
   ]
  },
  {
   "cell_type": "code",
   "execution_count": null,
   "id": "743b393b",
   "metadata": {},
   "outputs": [],
   "source": []
  },
  {
   "cell_type": "code",
   "execution_count": null,
   "id": "c0092d71",
   "metadata": {},
   "outputs": [],
   "source": []
  }
 ],
 "metadata": {
  "kernelspec": {
   "display_name": "Python 3 (ipykernel)",
   "language": "python",
   "name": "python3"
  },
  "language_info": {
   "codemirror_mode": {
    "name": "ipython",
    "version": 3
   },
   "file_extension": ".py",
   "mimetype": "text/x-python",
   "name": "python",
   "nbconvert_exporter": "python",
   "pygments_lexer": "ipython3",
   "version": "3.9.5"
  }
 },
 "nbformat": 4,
 "nbformat_minor": 5
}
