{
 "cells": [
  {
   "cell_type": "markdown",
   "metadata": {},
   "source": [
    "# Primer Notebook\n",
    "## ESMA 3016\n",
    "## Edgar Acuna\n",
    "## Agosto 20, 2019"
   ]
  },
  {
   "cell_type": "code",
   "execution_count": 1,
   "metadata": {},
   "outputs": [],
   "source": [
    "x=[3,4,5]"
   ]
  },
  {
   "cell_type": "code",
   "execution_count": 2,
   "metadata": {},
   "outputs": [
    {
     "name": "stdout",
     "output_type": "stream",
     "text": [
      "<class 'list'>\n"
     ]
    }
   ],
   "source": [
    "print(type(x))"
   ]
  },
  {
   "cell_type": "code",
   "execution_count": 1,
   "metadata": {},
   "outputs": [
    {
     "name": "stdout",
     "output_type": "stream",
     "text": [
      "2.75\n",
      "<class 'float'>\n"
     ]
    }
   ],
   "source": [
    "# Una operacion basica elemental\n",
    "z=(3+5*6)/12\n",
    "print(z)\n",
    "print(type(z))"
   ]
  },
  {
   "cell_type": "code",
   "execution_count": 12,
   "metadata": {},
   "outputs": [
    {
     "name": "stdout",
     "output_type": "stream",
     "text": [
      "How old are you? 58\n"
     ]
    }
   ],
   "source": [
    "# Entrando el dato con el teclado\n",
    "age = input(\"How old are you? \")"
   ]
  },
  {
   "cell_type": "code",
   "execution_count": 13,
   "metadata": {},
   "outputs": [
    {
     "name": "stdout",
     "output_type": "stream",
     "text": [
      "<class 'str'>\n"
     ]
    }
   ],
   "source": [
    "print(type(age))"
   ]
  },
  {
   "cell_type": "code",
   "execution_count": 5,
   "metadata": {},
   "outputs": [
    {
     "name": "stdout",
     "output_type": "stream",
     "text": [
      "Your age is 55\n"
     ]
    }
   ],
   "source": [
    "print(\"Your age is\", age)"
   ]
  },
  {
   "cell_type": "code",
   "execution_count": 8,
   "metadata": {},
   "outputs": [
    {
     "name": "stdout",
     "output_type": "stream",
     "text": [
      "You have 10 years until retirement\n"
     ]
    }
   ],
   "source": [
    "print(\"You have\", 65-int(age), \"years until retirement\")"
   ]
  },
  {
   "cell_type": "code",
   "execution_count": 14,
   "metadata": {},
   "outputs": [],
   "source": [
    "name = \"Edgar Acuna Fernandez\"\n",
    "length = len(name)"
   ]
  },
  {
   "cell_type": "code",
   "execution_count": 15,
   "metadata": {},
   "outputs": [
    {
     "name": "stdout",
     "output_type": "stream",
     "text": [
      "EDGAR ACUNA FERNANDEZ tiene 21 caracteres\n"
     ]
    }
   ],
   "source": [
    "#imprimiendo en Mayuscula e imprimiendo la longitud\n",
    "big_name = str.upper(name)\n",
    "print(big_name, \"tiene\", length, \"caracteres\")"
   ]
  },
  {
   "cell_type": "code",
   "execution_count": 16,
   "metadata": {},
   "outputs": [],
   "source": [
    "names = [\"Ana\", \"Rosa\", \"Julia\"]"
   ]
  },
  {
   "cell_type": "code",
   "execution_count": 17,
   "metadata": {},
   "outputs": [
    {
     "data": {
      "text/plain": [
       "'Ana'"
      ]
     },
     "execution_count": 17,
     "metadata": {},
     "output_type": "execute_result"
    }
   ],
   "source": [
    "names[0]"
   ]
  },
  {
   "cell_type": "code",
   "execution_count": 11,
   "metadata": {},
   "outputs": [
    {
     "data": {
      "text/plain": [
       "'Ana'"
      ]
     },
     "execution_count": 11,
     "metadata": {},
     "output_type": "execute_result"
    }
   ],
   "source": [
    "names[-3]"
   ]
  },
  {
   "cell_type": "code",
   "execution_count": 18,
   "metadata": {},
   "outputs": [
    {
     "name": "stdout",
     "output_type": "stream",
     "text": [
      "Su solicitud de admision es aceptada.\n"
     ]
    }
   ],
   "source": [
    "#uso del condicional If\n",
    "gpa = 3.4\n",
    "if gpa > 2.0:\n",
    "    print(\"Su solicitud de admision es aceptada.\")"
   ]
  },
  {
   "cell_type": "code",
   "execution_count": 13,
   "metadata": {},
   "outputs": [
    {
     "name": "stdout",
     "output_type": "stream",
     "text": [
      "Su solicitud de admision ha sido denegada.\n"
     ]
    }
   ],
   "source": [
    "# Uso  de if/else\n",
    "gpa = 1.4\n",
    "if gpa >= 2.5:\n",
    "    print(\"Bienvenido al Colegio de Mayaguez!\")\n",
    "else:\n",
    "    print(\"Su solicitud de admision ha sido denegada.\")"
   ]
  },
  {
   "cell_type": "code",
   "execution_count": 19,
   "metadata": {},
   "outputs": [
    {
     "name": "stdout",
     "output_type": "stream",
     "text": [
      "Ana and Rosa\n"
     ]
    }
   ],
   "source": [
    "#Ejemplo con operadores logicos\n",
    "Ana=3\n",
    "Rosa=25\n",
    "if (Ana <= 5 and Rosa >= 10):\n",
    "    print(\"Ana and Rosa\")"
   ]
  },
  {
   "cell_type": "code",
   "execution_count": 15,
   "metadata": {},
   "outputs": [
    {
     "name": "stdout",
     "output_type": "stream",
     "text": [
      "Otra vez Ana y Rosa\n"
     ]
    }
   ],
   "source": [
    "if (Rosa == 500 or Ana != 5):\n",
    "     print(\"Otra vez Ana y Rosa\")"
   ]
  },
  {
   "cell_type": "code",
   "execution_count": 20,
   "metadata": {},
   "outputs": [
    {
     "data": {
      "text/plain": [
       "range(5, 10)"
      ]
     },
     "execution_count": 20,
     "metadata": {},
     "output_type": "execute_result"
    }
   ],
   "source": [
    "range(5,10)"
   ]
  },
  {
   "cell_type": "code",
   "execution_count": 21,
   "metadata": {},
   "outputs": [
    {
     "data": {
      "text/plain": [
       "[5, 6, 7, 8, 9]"
      ]
     },
     "execution_count": 21,
     "metadata": {},
     "output_type": "execute_result"
    }
   ],
   "source": [
    "list(range(5,10))"
   ]
  },
  {
   "cell_type": "code",
   "execution_count": 18,
   "metadata": {},
   "outputs": [
    {
     "name": "stdout",
     "output_type": "stream",
     "text": [
      "1 squared is 1\n",
      "2 squared is 4\n",
      "3 squared is 9\n"
     ]
    }
   ],
   "source": [
    "#Ejemplo de loop\n",
    "for x in range(1, 4):\n",
    "    print(x, \"squared is\", x * x)"
   ]
  },
  {
   "cell_type": "code",
   "execution_count": 19,
   "metadata": {},
   "outputs": [
    {
     "name": "stdout",
     "output_type": "stream",
     "text": [
      "Ana\n",
      "Rosa\n",
      "Julia\n"
     ]
    }
   ],
   "source": [
    "# Otro ejemplo de loop\n",
    "names = [\"Ana\", \"Rosa\", \"Julia\"]\n",
    "for name in names:\n",
    "    print(name)"
   ]
  },
  {
   "cell_type": "code",
   "execution_count": 20,
   "metadata": {
    "scrolled": true
   },
   "outputs": [
    {
     "name": "stdout",
     "output_type": "stream",
     "text": [
      "Checking 3\n",
      "The square is 9\n",
      "Checking 1\n",
      "Ignoring\n",
      "Checking 4\n",
      "The square is 16\n",
      "Checking 1\n",
      "Ignoring\n",
      "Checking 5\n",
      "The square is 25\n",
      "Checking 9\n",
      "Exiting for loop\n"
     ]
    }
   ],
   "source": [
    "# Ejemplo de break y continue\n",
    "for value in [3, 1, 4, 1, 5, 9, 2]:\n",
    "    print(\"Checking\", value)\n",
    "    if value > 8:\n",
    "        print(\"Exiting for loop\")\n",
    "        break\n",
    "    elif value < 3:\n",
    "        print(\"Ignoring\")\n",
    "        continue\n",
    "    print(\"The square is\", value**2)"
   ]
  },
  {
   "cell_type": "code",
   "execution_count": 21,
   "metadata": {},
   "outputs": [
    {
     "name": "stdout",
     "output_type": "stream",
     "text": [
      "1\n",
      "2\n",
      "4\n",
      "8\n",
      "16\n",
      "32\n",
      "64\n",
      "128\n"
     ]
    }
   ],
   "source": [
    "#Ejemplo de while\n",
    "number = 1\n",
    "while number < 200:\n",
    "    print(number), \n",
    "    number = number * 2"
   ]
  },
  {
   "cell_type": "code",
   "execution_count": 23,
   "metadata": {},
   "outputs": [
    {
     "data": {
      "text/plain": [
       "[13, 14, 15]"
      ]
     },
     "execution_count": 23,
     "metadata": {},
     "output_type": "execute_result"
    }
   ],
   "source": [
    "#Sumando una constante 10 a una lista\n",
    "vec1=[3,4,5]\n",
    "[x +10 for x   in vec1]"
   ]
  },
  {
   "cell_type": "code",
   "execution_count": 30,
   "metadata": {},
   "outputs": [
    {
     "name": "stdout",
     "output_type": "stream",
     "text": [
      "12\n",
      "14\n",
      "16\n"
     ]
    }
   ],
   "source": [
    "#summando dos vectores componente a componente\n",
    "vec2=[9,10,11]\n",
    "for a,b in zip(vec1,vec2):\n",
    "    print(a+b)"
   ]
  },
  {
   "cell_type": "code",
   "execution_count": 31,
   "metadata": {},
   "outputs": [
    {
     "data": {
      "text/plain": [
       "3.141592653589793"
      ]
     },
     "execution_count": 31,
     "metadata": {},
     "output_type": "execute_result"
    }
   ],
   "source": [
    "#usando el modulo matematico math\n",
    "import math\n",
    "math.pi"
   ]
  },
  {
   "cell_type": "code",
   "execution_count": 32,
   "metadata": {},
   "outputs": [
    {
     "data": {
      "text/plain": [
       "3.141592653589793"
      ]
     },
     "execution_count": 32,
     "metadata": {},
     "output_type": "execute_result"
    }
   ],
   "source": [
    "#usando el modulo matematico math con el alias m\n",
    "import math as m\n",
    "m.pi"
   ]
  },
  {
   "cell_type": "code",
   "execution_count": 33,
   "metadata": {},
   "outputs": [
    {
     "data": {
      "text/plain": [
       "3.141592653589793"
      ]
     },
     "execution_count": 33,
     "metadata": {},
     "output_type": "execute_result"
    }
   ],
   "source": [
    "#importando solamente la funcion pi del modulo math\n",
    "from math import pi\n",
    "pi"
   ]
  },
  {
   "cell_type": "code",
   "execution_count": 27,
   "metadata": {},
   "outputs": [
    {
     "data": {
      "text/plain": [
       "-0.20029354112337366"
      ]
     },
     "execution_count": 27,
     "metadata": {},
     "output_type": "execute_result"
    }
   ],
   "source": [
    "cos(sqrt(pi))"
   ]
  },
  {
   "cell_type": "code",
   "execution_count": 28,
   "metadata": {},
   "outputs": [
    {
     "name": "stdout",
     "output_type": "stream",
     "text": [
      "<class 'pandas.core.frame.DataFrame'>\n",
      "RangeIndex: 65 entries, 0 to 64\n",
      "Data columns (total 3 columns):\n",
      "Specie    65 non-null object\n",
      "body      65 non-null float64\n",
      "brain     65 non-null float64\n",
      "dtypes: float64(2), object(1)\n",
      "memory usage: 1.6+ KB\n"
     ]
    }
   ],
   "source": [
    "#Leyendo un archivo de datos de la internet\n",
    "import pandas as pd\n",
    "df=pd.read_csv(\"http://academic.uprm.edu/eacuna/Animals2.csv\")\n",
    "df.info()"
   ]
  },
  {
   "cell_type": "code",
   "execution_count": 30,
   "metadata": {},
   "outputs": [
    {
     "data": {
      "text/html": [
       "<div>\n",
       "<style scoped>\n",
       "    .dataframe tbody tr th:only-of-type {\n",
       "        vertical-align: middle;\n",
       "    }\n",
       "\n",
       "    .dataframe tbody tr th {\n",
       "        vertical-align: top;\n",
       "    }\n",
       "\n",
       "    .dataframe thead th {\n",
       "        text-align: right;\n",
       "    }\n",
       "</style>\n",
       "<table border=\"1\" class=\"dataframe\">\n",
       "  <thead>\n",
       "    <tr style=\"text-align: right;\">\n",
       "      <th></th>\n",
       "      <th>Specie</th>\n",
       "      <th>body</th>\n",
       "      <th>brain</th>\n",
       "    </tr>\n",
       "  </thead>\n",
       "  <tbody>\n",
       "    <tr>\n",
       "      <th>0</th>\n",
       "      <td>Lesser short-tailed shrew</td>\n",
       "      <td>0.005</td>\n",
       "      <td>0.14</td>\n",
       "    </tr>\n",
       "    <tr>\n",
       "      <th>1</th>\n",
       "      <td>Little brown bat</td>\n",
       "      <td>0.010</td>\n",
       "      <td>0.25</td>\n",
       "    </tr>\n",
       "    <tr>\n",
       "      <th>2</th>\n",
       "      <td>Big brown bat</td>\n",
       "      <td>0.023</td>\n",
       "      <td>0.30</td>\n",
       "    </tr>\n",
       "    <tr>\n",
       "      <th>3</th>\n",
       "      <td>Mouse</td>\n",
       "      <td>0.023</td>\n",
       "      <td>0.40</td>\n",
       "    </tr>\n",
       "    <tr>\n",
       "      <th>4</th>\n",
       "      <td>Musk shrew</td>\n",
       "      <td>0.048</td>\n",
       "      <td>0.33</td>\n",
       "    </tr>\n",
       "  </tbody>\n",
       "</table>\n",
       "</div>"
      ],
      "text/plain": [
       "                      Specie   body  brain\n",
       "0  Lesser short-tailed shrew  0.005   0.14\n",
       "1           Little brown bat  0.010   0.25\n",
       "2              Big brown bat  0.023   0.30\n",
       "3                      Mouse  0.023   0.40\n",
       "4                 Musk shrew  0.048   0.33"
      ]
     },
     "execution_count": 30,
     "metadata": {},
     "output_type": "execute_result"
    }
   ],
   "source": [
    "df.head()"
   ]
  },
  {
   "cell_type": "code",
   "execution_count": 31,
   "metadata": {},
   "outputs": [
    {
     "data": {
      "text/html": [
       "<div>\n",
       "<style scoped>\n",
       "    .dataframe tbody tr th:only-of-type {\n",
       "        vertical-align: middle;\n",
       "    }\n",
       "\n",
       "    .dataframe tbody tr th {\n",
       "        vertical-align: top;\n",
       "    }\n",
       "\n",
       "    .dataframe thead th {\n",
       "        text-align: right;\n",
       "    }\n",
       "</style>\n",
       "<table border=\"1\" class=\"dataframe\">\n",
       "  <thead>\n",
       "    <tr style=\"text-align: right;\">\n",
       "      <th></th>\n",
       "      <th>Specie</th>\n",
       "      <th>body</th>\n",
       "      <th>brain</th>\n",
       "    </tr>\n",
       "  </thead>\n",
       "  <tbody>\n",
       "    <tr>\n",
       "      <th>55</th>\n",
       "      <td>Gorilla</td>\n",
       "      <td>207.0</td>\n",
       "      <td>406.0</td>\n",
       "    </tr>\n",
       "    <tr>\n",
       "      <th>56</th>\n",
       "      <td>Okapi</td>\n",
       "      <td>250.0</td>\n",
       "      <td>490.0</td>\n",
       "    </tr>\n",
       "    <tr>\n",
       "      <th>57</th>\n",
       "      <td>Cow</td>\n",
       "      <td>465.0</td>\n",
       "      <td>423.0</td>\n",
       "    </tr>\n",
       "    <tr>\n",
       "      <th>58</th>\n",
       "      <td>Horse</td>\n",
       "      <td>521.0</td>\n",
       "      <td>655.0</td>\n",
       "    </tr>\n",
       "    <tr>\n",
       "      <th>59</th>\n",
       "      <td>Giraffe</td>\n",
       "      <td>529.0</td>\n",
       "      <td>680.0</td>\n",
       "    </tr>\n",
       "    <tr>\n",
       "      <th>60</th>\n",
       "      <td>Asian elephant</td>\n",
       "      <td>2547.0</td>\n",
       "      <td>4603.0</td>\n",
       "    </tr>\n",
       "    <tr>\n",
       "      <th>61</th>\n",
       "      <td>African elephant</td>\n",
       "      <td>6654.0</td>\n",
       "      <td>5712.0</td>\n",
       "    </tr>\n",
       "    <tr>\n",
       "      <th>62</th>\n",
       "      <td>Triceratops</td>\n",
       "      <td>9400.0</td>\n",
       "      <td>70.0</td>\n",
       "    </tr>\n",
       "    <tr>\n",
       "      <th>63</th>\n",
       "      <td>Dipliodocus</td>\n",
       "      <td>11700.0</td>\n",
       "      <td>50.0</td>\n",
       "    </tr>\n",
       "    <tr>\n",
       "      <th>64</th>\n",
       "      <td>Brachiosaurus</td>\n",
       "      <td>87000.0</td>\n",
       "      <td>154.5</td>\n",
       "    </tr>\n",
       "  </tbody>\n",
       "</table>\n",
       "</div>"
      ],
      "text/plain": [
       "              Specie     body   brain\n",
       "55           Gorilla    207.0   406.0\n",
       "56             Okapi    250.0   490.0\n",
       "57               Cow    465.0   423.0\n",
       "58             Horse    521.0   655.0\n",
       "59           Giraffe    529.0   680.0\n",
       "60    Asian elephant   2547.0  4603.0\n",
       "61  African elephant   6654.0  5712.0\n",
       "62       Triceratops   9400.0    70.0\n",
       "63       Dipliodocus  11700.0    50.0\n",
       "64     Brachiosaurus  87000.0   154.5"
      ]
     },
     "execution_count": 31,
     "metadata": {},
     "output_type": "execute_result"
    }
   ],
   "source": [
    "df.tail(10)"
   ]
  },
  {
   "cell_type": "code",
   "execution_count": 28,
   "metadata": {},
   "outputs": [],
   "source": [
    "#Leyendo un archivo de dato almacenado en mi PC\n",
    "#df=pd.read_csv(\"c:\\esma3016\\Animals2.csv\")"
   ]
  },
  {
   "cell_type": "code",
   "execution_count": 32,
   "metadata": {},
   "outputs": [
    {
     "name": "stdout",
     "output_type": "stream",
     "text": [
      "__name__\n",
      "__doc__\n",
      "__package__\n",
      "__loader__\n",
      "__spec__\n",
      "__build_class__\n",
      "__import__\n",
      "abs\n",
      "all\n",
      "any\n",
      "ascii\n",
      "bin\n",
      "breakpoint\n",
      "callable\n",
      "chr\n",
      "compile\n",
      "delattr\n",
      "dir\n",
      "divmod\n",
      "eval\n",
      "exec\n",
      "format\n",
      "getattr\n",
      "globals\n",
      "hasattr\n",
      "hash\n",
      "hex\n",
      "id\n",
      "input\n",
      "isinstance\n",
      "issubclass\n",
      "iter\n",
      "len\n",
      "locals\n",
      "max\n",
      "min\n",
      "next\n",
      "oct\n",
      "ord\n",
      "pow\n",
      "print\n",
      "repr\n",
      "round\n",
      "setattr\n",
      "sorted\n",
      "sum\n",
      "vars\n",
      "None\n",
      "Ellipsis\n",
      "NotImplemented\n",
      "False\n",
      "True\n",
      "bool\n",
      "memoryview\n",
      "bytearray\n",
      "bytes\n",
      "classmethod\n",
      "complex\n",
      "dict\n",
      "enumerate\n",
      "filter\n",
      "float\n",
      "frozenset\n",
      "property\n",
      "int\n",
      "list\n",
      "map\n",
      "object\n",
      "range\n",
      "reversed\n",
      "set\n",
      "slice\n",
      "staticmethod\n",
      "str\n",
      "super\n",
      "tuple\n",
      "type\n",
      "zip\n",
      "__debug__\n",
      "BaseException\n",
      "Exception\n",
      "TypeError\n",
      "StopAsyncIteration\n",
      "StopIteration\n",
      "GeneratorExit\n",
      "SystemExit\n",
      "KeyboardInterrupt\n",
      "ImportError\n",
      "ModuleNotFoundError\n",
      "OSError\n",
      "EnvironmentError\n",
      "IOError\n",
      "WindowsError\n",
      "EOFError\n",
      "RuntimeError\n",
      "RecursionError\n",
      "NotImplementedError\n",
      "NameError\n",
      "UnboundLocalError\n",
      "AttributeError\n",
      "SyntaxError\n",
      "IndentationError\n",
      "TabError\n",
      "LookupError\n",
      "IndexError\n",
      "KeyError\n",
      "ValueError\n",
      "UnicodeError\n",
      "UnicodeEncodeError\n",
      "UnicodeDecodeError\n",
      "UnicodeTranslateError\n",
      "AssertionError\n",
      "ArithmeticError\n",
      "FloatingPointError\n",
      "OverflowError\n",
      "ZeroDivisionError\n",
      "SystemError\n",
      "ReferenceError\n",
      "MemoryError\n",
      "BufferError\n",
      "Warning\n",
      "UserWarning\n",
      "DeprecationWarning\n",
      "PendingDeprecationWarning\n",
      "SyntaxWarning\n",
      "RuntimeWarning\n",
      "FutureWarning\n",
      "ImportWarning\n",
      "UnicodeWarning\n",
      "BytesWarning\n",
      "ResourceWarning\n",
      "ConnectionError\n",
      "BlockingIOError\n",
      "BrokenPipeError\n",
      "ChildProcessError\n",
      "ConnectionAbortedError\n",
      "ConnectionRefusedError\n",
      "ConnectionResetError\n",
      "FileExistsError\n",
      "FileNotFoundError\n",
      "IsADirectoryError\n",
      "NotADirectoryError\n",
      "InterruptedError\n",
      "PermissionError\n",
      "ProcessLookupError\n",
      "TimeoutError\n",
      "open\n",
      "copyright\n",
      "credits\n",
      "license\n",
      "help\n",
      "__IPYTHON__\n",
      "display\n",
      "get_ipython\n"
     ]
    }
   ],
   "source": [
    "for e in __builtins__.__dict__:\n",
    "    print(e)"
   ]
  },
  {
   "cell_type": "code",
   "execution_count": null,
   "metadata": {},
   "outputs": [],
   "source": [
    "import math \n",
    "help(math.sin)"
   ]
  },
  {
   "cell_type": "code",
   "execution_count": null,
   "metadata": {},
   "outputs": [],
   "source": []
  }
 ],
 "metadata": {
  "kernelspec": {
   "display_name": "Python 3",
   "language": "python",
   "name": "python3"
  },
  "language_info": {
   "codemirror_mode": {
    "name": "ipython",
    "version": 3
   },
   "file_extension": ".py",
   "mimetype": "text/x-python",
   "name": "python",
   "nbconvert_exporter": "python",
   "pygments_lexer": "ipython3",
   "version": "3.7.3"
  }
 },
 "nbformat": 4,
 "nbformat_minor": 2
}
