{
 "cells": [
  {
   "cell_type": "markdown",
   "id": "5deb7063",
   "metadata": {},
   "source": [
    "# # My first program"
   ]
  },
  {
   "cell_type": "code",
   "execution_count": 4,
   "id": "6aca3f28",
   "metadata": {},
   "outputs": [
    {
     "name": "stdout",
     "output_type": "stream",
     "text": [
      "Hello World\n"
     ]
    }
   ],
   "source": [
    "print(\"Hello World\")"
   ]
  },
  {
   "cell_type": "code",
   "execution_count": 5,
   "id": "7fa363ff",
   "metadata": {},
   "outputs": [
    {
     "name": "stdout",
     "output_type": "stream",
     "text": [
      "Jeevith\n"
     ]
    }
   ],
   "source": [
    "print(\"Jeevith\")"
   ]
  },
  {
   "cell_type": "markdown",
   "id": "637bdcb5",
   "metadata": {},
   "source": [
    "# # Data type"
   ]
  },
  {
   "cell_type": "code",
   "execution_count": 8,
   "id": "f3cf3b44",
   "metadata": {},
   "outputs": [
    {
     "data": {
      "text/plain": [
       "str"
      ]
     },
     "execution_count": 8,
     "metadata": {},
     "output_type": "execute_result"
    }
   ],
   "source": [
    "name=\"Jeevith\"\n",
    "type(name)"
   ]
  },
  {
   "cell_type": "code",
   "execution_count": 9,
   "id": "30355d62",
   "metadata": {},
   "outputs": [
    {
     "data": {
      "text/plain": [
       "int"
      ]
     },
     "execution_count": 9,
     "metadata": {},
     "output_type": "execute_result"
    }
   ],
   "source": [
    "x=33\n",
    "type(x)"
   ]
  },
  {
   "cell_type": "code",
   "execution_count": null,
   "id": "c5ebae80",
   "metadata": {},
   "outputs": [],
   "source": [
    "x=33.55"
   ]
  },
  {
   "cell_type": "code",
   "execution_count": 10,
   "id": "a434f014",
   "metadata": {},
   "outputs": [
    {
     "data": {
      "text/plain": [
       "int"
      ]
     },
     "execution_count": 10,
     "metadata": {},
     "output_type": "execute_result"
    }
   ],
   "source": [
    "type(x)"
   ]
  },
  {
   "cell_type": "code",
   "execution_count": 11,
   "id": "1b7d41aa",
   "metadata": {},
   "outputs": [
    {
     "data": {
      "text/plain": [
       "bool"
      ]
     },
     "execution_count": 11,
     "metadata": {},
     "output_type": "execute_result"
    }
   ],
   "source": [
    "x=True\n",
    "type(x)"
   ]
  },
  {
   "cell_type": "code",
   "execution_count": 1,
   "id": "3dd0e0f5",
   "metadata": {},
   "outputs": [
    {
     "data": {
      "text/plain": [
       "'Jeevith'"
      ]
     },
     "execution_count": 1,
     "metadata": {},
     "output_type": "execute_result"
    }
   ],
   "source": [
    "name=\"Jeevith\"\n",
    "name"
   ]
  },
  {
   "cell_type": "markdown",
   "id": "3bccc4e7",
   "metadata": {},
   "source": [
    "# # Variable"
   ]
  },
  {
   "cell_type": "code",
   "execution_count": 12,
   "id": "4e8385a0",
   "metadata": {},
   "outputs": [
    {
     "data": {
      "text/plain": [
       "'Jeevith'"
      ]
     },
     "execution_count": 12,
     "metadata": {},
     "output_type": "execute_result"
    }
   ],
   "source": [
    "name=\"Jeevith\"\n",
    "name"
   ]
  },
  {
   "cell_type": "code",
   "execution_count": 13,
   "id": "1ef02928",
   "metadata": {},
   "outputs": [
    {
     "ename": "SyntaxError",
     "evalue": "invalid syntax (1644517692.py, line 1)",
     "output_type": "error",
     "traceback": [
      "\u001b[1;36m  Cell \u001b[1;32mIn[13], line 1\u001b[1;36m\u001b[0m\n\u001b[1;33m    name lists=\"Jeevith\",\"Gowda\"\u001b[0m\n\u001b[1;37m         ^\u001b[0m\n\u001b[1;31mSyntaxError\u001b[0m\u001b[1;31m:\u001b[0m invalid syntax\n"
     ]
    }
   ],
   "source": [
    "name lists=\"Jeevith\",\"Gowda\""
   ]
  },
  {
   "cell_type": "markdown",
   "id": "3f32c0a8",
   "metadata": {},
   "source": [
    "### Variable name should not have space"
   ]
  },
  {
   "cell_type": "code",
   "execution_count": 14,
   "id": "36076bd5",
   "metadata": {},
   "outputs": [
    {
     "ename": "SyntaxError",
     "evalue": "invalid decimal literal (47857440.py, line 1)",
     "output_type": "error",
     "traceback": [
      "\u001b[1;36m  Cell \u001b[1;32mIn[14], line 1\u001b[1;36m\u001b[0m\n\u001b[1;33m    2names=\"Jeevith\",\"Jeevan\"\u001b[0m\n\u001b[1;37m    ^\u001b[0m\n\u001b[1;31mSyntaxError\u001b[0m\u001b[1;31m:\u001b[0m invalid decimal literal\n"
     ]
    }
   ],
   "source": [
    "2names=\"Jeevith\",\"Jeevan\"\n",
    "2names"
   ]
  },
  {
   "cell_type": "markdown",
   "id": "f4d31519",
   "metadata": {},
   "source": [
    "### Variable name should not start with number"
   ]
  },
  {
   "cell_type": "code",
   "execution_count": 17,
   "id": "d4a40963",
   "metadata": {},
   "outputs": [
    {
     "data": {
      "text/plain": [
       "('Jeevith', 'Jeevan')"
      ]
     },
     "execution_count": 17,
     "metadata": {},
     "output_type": "execute_result"
    }
   ],
   "source": [
    "nam2es=\"Jeevith\",\"Jeevan\"\n",
    "nam2es"
   ]
  },
  {
   "cell_type": "code",
   "execution_count": 19,
   "id": "695fe09b",
   "metadata": {},
   "outputs": [
    {
     "data": {
      "text/plain": [
       "('Jeevith', 'Jeevan')"
      ]
     },
     "execution_count": 19,
     "metadata": {},
     "output_type": "execute_result"
    }
   ],
   "source": [
    "nam_es=\"Jeevith\",\"Jeevan\"\n",
    "nam_es"
   ]
  },
  {
   "cell_type": "code",
   "execution_count": 20,
   "id": "14f0cebd",
   "metadata": {},
   "outputs": [
    {
     "ename": "SyntaxError",
     "evalue": "cannot assign to expression here. Maybe you meant '==' instead of '='? (3303845447.py, line 1)",
     "output_type": "error",
     "traceback": [
      "\u001b[1;36m  Cell \u001b[1;32mIn[20], line 1\u001b[1;36m\u001b[0m\n\u001b[1;33m    name+s=\"Jeevan\",\"Jeevith\"\u001b[0m\n\u001b[1;37m    ^\u001b[0m\n\u001b[1;31mSyntaxError\u001b[0m\u001b[1;31m:\u001b[0m cannot assign to expression here. Maybe you meant '==' instead of '='?\n"
     ]
    }
   ],
   "source": [
    "name+s=\"Jeevan\",\"Jeevith\""
   ]
  },
  {
   "cell_type": "markdown",
   "id": "2b777826",
   "metadata": {},
   "source": [
    "### The only allowed special character is _"
   ]
  },
  {
   "cell_type": "code",
   "execution_count": 23,
   "id": "cbe35261",
   "metadata": {},
   "outputs": [
    {
     "data": {
      "text/plain": [
       "'La'"
      ]
     },
     "execution_count": 23,
     "metadata": {},
     "output_type": "execute_result"
    }
   ],
   "source": [
    "_names=\"La\"\n",
    "_names"
   ]
  },
  {
   "cell_type": "markdown",
   "id": "500e28bc",
   "metadata": {},
   "source": [
    "### Variable names can start with A-Z,a-z,_"
   ]
  },
  {
   "cell_type": "markdown",
   "id": "12c7fa44",
   "metadata": {},
   "source": [
    "# # STRINGS"
   ]
  },
  {
   "cell_type": "code",
   "execution_count": 28,
   "id": "b3b88e70",
   "metadata": {},
   "outputs": [
    {
     "data": {
      "text/plain": [
       "[1, 2, 3, 4, -4, 7, -7.7, 'hi']"
      ]
     },
     "execution_count": 28,
     "metadata": {},
     "output_type": "execute_result"
    }
   ],
   "source": [
    "sample_list=[1,2,3,4,-4,7,-7.7,\"hi\"]\n",
    "sample_list"
   ]
  },
  {
   "cell_type": "code",
   "execution_count": 29,
   "id": "bc5878c9",
   "metadata": {},
   "outputs": [
    {
     "data": {
      "text/plain": [
       "1"
      ]
     },
     "execution_count": 29,
     "metadata": {},
     "output_type": "execute_result"
    }
   ],
   "source": [
    "sample_list[0]"
   ]
  },
  {
   "cell_type": "code",
   "execution_count": 30,
   "id": "f6a468ac",
   "metadata": {},
   "outputs": [
    {
     "ename": "IndexError",
     "evalue": "list index out of range",
     "output_type": "error",
     "traceback": [
      "\u001b[1;31m---------------------------------------------------------------------------\u001b[0m",
      "\u001b[1;31mIndexError\u001b[0m                                Traceback (most recent call last)",
      "Cell \u001b[1;32mIn[30], line 1\u001b[0m\n\u001b[1;32m----> 1\u001b[0m sample_list[\u001b[38;5;241m10\u001b[39m]\n",
      "\u001b[1;31mIndexError\u001b[0m: list index out of range"
     ]
    }
   ],
   "source": [
    "sample_list[10]"
   ]
  },
  {
   "cell_type": "code",
   "execution_count": 32,
   "id": "7a6eb5e8",
   "metadata": {},
   "outputs": [
    {
     "data": {
      "text/plain": [
       "7"
      ]
     },
     "execution_count": 32,
     "metadata": {},
     "output_type": "execute_result"
    }
   ],
   "source": [
    "sample_list[-3]"
   ]
  },
  {
   "cell_type": "code",
   "execution_count": 34,
   "id": "4fff7482",
   "metadata": {},
   "outputs": [
    {
     "data": {
      "text/plain": [
       "[171, 2, 3, 4, -4, 7, -7.7, 'hi']"
      ]
     },
     "execution_count": 34,
     "metadata": {},
     "output_type": "execute_result"
    }
   ],
   "source": [
    "sample_list[0]=171\n",
    "sample_list"
   ]
  },
  {
   "cell_type": "markdown",
   "id": "35a2c874",
   "metadata": {},
   "source": [
    "### mutablity\n",
    "### heterogeneous(multiple data type)"
   ]
  },
  {
   "cell_type": "markdown",
   "id": "1f3a4e0b",
   "metadata": {},
   "source": [
    "# # TUPLES"
   ]
  },
  {
   "cell_type": "code",
   "execution_count": 36,
   "id": "0eec26d6",
   "metadata": {},
   "outputs": [
    {
     "data": {
      "text/plain": [
       "(1, 2, 3, 9, 6)"
      ]
     },
     "execution_count": 36,
     "metadata": {},
     "output_type": "execute_result"
    }
   ],
   "source": [
    "sample_tuple=(1,2,3,9,6)\n",
    "sample_tuple"
   ]
  },
  {
   "cell_type": "code",
   "execution_count": 37,
   "id": "3d1545a2",
   "metadata": {},
   "outputs": [
    {
     "data": {
      "text/plain": [
       "1"
      ]
     },
     "execution_count": 37,
     "metadata": {},
     "output_type": "execute_result"
    }
   ],
   "source": [
    "sample_tuple[0]"
   ]
  },
  {
   "cell_type": "code",
   "execution_count": 39,
   "id": "ce122279",
   "metadata": {},
   "outputs": [
    {
     "data": {
      "text/plain": [
       "6"
      ]
     },
     "execution_count": 39,
     "metadata": {},
     "output_type": "execute_result"
    }
   ],
   "source": [
    "sample_tuple[-1]"
   ]
  },
  {
   "cell_type": "code",
   "execution_count": 40,
   "id": "cfa3467d",
   "metadata": {},
   "outputs": [
    {
     "ename": "TypeError",
     "evalue": "'tuple' object does not support item assignment",
     "output_type": "error",
     "traceback": [
      "\u001b[1;31m---------------------------------------------------------------------------\u001b[0m",
      "\u001b[1;31mTypeError\u001b[0m                                 Traceback (most recent call last)",
      "Cell \u001b[1;32mIn[40], line 1\u001b[0m\n\u001b[1;32m----> 1\u001b[0m sample_tuple[\u001b[38;5;241m0\u001b[39m]\u001b[38;5;241m=\u001b[39m\u001b[38;5;241m100\u001b[39m\n",
      "\u001b[1;31mTypeError\u001b[0m: 'tuple' object does not support item assignment"
     ]
    }
   ],
   "source": [
    "sample_tuple[0]=100"
   ]
  },
  {
   "cell_type": "markdown",
   "id": "0b5e3313",
   "metadata": {},
   "source": [
    "### immutable(cannot make changes\n",
    "### with() or without any brackets\n"
   ]
  },
  {
   "cell_type": "markdown",
   "id": "cd022df6",
   "metadata": {},
   "source": [
    "# # DICTIONARY"
   ]
  },
  {
   "cell_type": "code",
   "execution_count": 44,
   "id": "3404ed4a",
   "metadata": {},
   "outputs": [
    {
     "data": {
      "text/plain": [
       "dict"
      ]
     },
     "execution_count": 44,
     "metadata": {},
     "output_type": "execute_result"
    }
   ],
   "source": [
    "dict_1={\"Name\":\"Arun\",\"Hobbies\":[\"Painting\",\"Singing\"],5:2.3}\n",
    "type(dict_1)"
   ]
  },
  {
   "cell_type": "code",
   "execution_count": 45,
   "id": "1716cdf4",
   "metadata": {},
   "outputs": [
    {
     "data": {
      "text/plain": [
       "{'Name': 'Arun', 'Hobbies': ['Painting', 'Singing'], 5: 2.3}"
      ]
     },
     "execution_count": 45,
     "metadata": {},
     "output_type": "execute_result"
    }
   ],
   "source": [
    "dict_1"
   ]
  },
  {
   "cell_type": "code",
   "execution_count": 46,
   "id": "bb552de3",
   "metadata": {},
   "outputs": [
    {
     "data": {
      "text/plain": [
       "dict_keys(['Name', 'Hobbies', 5])"
      ]
     },
     "execution_count": 46,
     "metadata": {},
     "output_type": "execute_result"
    }
   ],
   "source": [
    "dict_1.keys()"
   ]
  },
  {
   "cell_type": "code",
   "execution_count": 47,
   "id": "66ae4fcc",
   "metadata": {},
   "outputs": [
    {
     "data": {
      "text/plain": [
       "dict_values(['Arun', ['Painting', 'Singing'], 2.3])"
      ]
     },
     "execution_count": 47,
     "metadata": {},
     "output_type": "execute_result"
    }
   ],
   "source": [
    "dict_1.values()"
   ]
  },
  {
   "cell_type": "code",
   "execution_count": 48,
   "id": "94ecefca",
   "metadata": {},
   "outputs": [
    {
     "data": {
      "text/plain": [
       "['Painting', 'Singing']"
      ]
     },
     "execution_count": 48,
     "metadata": {},
     "output_type": "execute_result"
    }
   ],
   "source": [
    "dict_1['Hobbies']"
   ]
  },
  {
   "cell_type": "code",
   "execution_count": 49,
   "id": "1dc5d3f8",
   "metadata": {},
   "outputs": [],
   "source": [
    "dict_1[\"Name\"]=\"Jeevith\""
   ]
  },
  {
   "cell_type": "code",
   "execution_count": 50,
   "id": "684e9bdd",
   "metadata": {},
   "outputs": [
    {
     "data": {
      "text/plain": [
       "{'Name': 'Jeevith', 'Hobbies': ['Painting', 'Singing'], 5: 2.3}"
      ]
     },
     "execution_count": 50,
     "metadata": {},
     "output_type": "execute_result"
    }
   ],
   "source": [
    "dict_1"
   ]
  },
  {
   "cell_type": "markdown",
   "id": "9a73831c",
   "metadata": {},
   "source": [
    "#### Key-Value pair ds\n",
    "#### We can retrieve values using index\n",
    "#### Mutable"
   ]
  },
  {
   "cell_type": "markdown",
   "id": "8d002b39",
   "metadata": {},
   "source": []
  },
  {
   "cell_type": "code",
   "execution_count": null,
   "id": "d222daac",
   "metadata": {},
   "outputs": [],
   "source": []
  }
 ],
 "metadata": {
  "kernelspec": {
   "display_name": "Python 3 (ipykernel)",
   "language": "python",
   "name": "python3"
  },
  "language_info": {
   "codemirror_mode": {
    "name": "ipython",
    "version": 3
   },
   "file_extension": ".py",
   "mimetype": "text/x-python",
   "name": "python",
   "nbconvert_exporter": "python",
   "pygments_lexer": "ipython3",
   "version": "3.11.5"
  }
 },
 "nbformat": 4,
 "nbformat_minor": 5
}
