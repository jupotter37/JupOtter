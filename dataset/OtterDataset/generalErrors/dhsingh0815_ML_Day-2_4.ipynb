{
 "cells": [
  {
   "cell_type": "code",
   "execution_count": 7,
   "id": "06e9ccbc-745b-43ec-ac7f-e883a1240dc2",
   "metadata": {},
   "outputs": [
    {
     "name": "stdout",
     "output_type": "stream",
     "text": [
      "123\n"
     ]
    }
   ],
   "source": [
    "a = 123\n",
    "print(a)"
   ]
  },
  {
   "cell_type": "code",
   "execution_count": 21,
   "id": "2939f25e-bb3f-4f87-9612-c5c419543b07",
   "metadata": {},
   "outputs": [
    {
     "name": "stdout",
     "output_type": "stream",
     "text": [
      "61\n",
      "A1 + B1 34.65\n",
      "A1 + B1 = c =  61\n"
     ]
    }
   ],
   "source": [
    "c =61.01\n",
    "print(int(c))\n",
    "A1=34.65\n",
    "# f-string OR formatted string literals\n",
    "print(f\"A1 + B1 {A1}\")\n",
    "print(\"A1 + B1 =\",\"c = \",  int(c))"
   ]
  },
  {
   "cell_type": "markdown",
   "id": "4de55bfb-8ee6-498c-92c0-b2c7dde638e5",
   "metadata": {},
   "source": [
    "<h1>This is Markdown from drop down - html code.</h1>"
   ]
  },
  {
   "cell_type": "code",
   "execution_count": 28,
   "id": "1b9b75b9-8ccb-4fa6-b232-3e8f861d673e",
   "metadata": {},
   "outputs": [
    {
     "name": "stdout",
     "output_type": "stream",
     "text": [
      "1\n"
     ]
    }
   ],
   "source": [
    "a = 2 #   0010\n",
    "b = 3 #   0011\n",
    "c = a^b # 0001 ^ bitwise XOR - returns 1 if either of the bits is 1 else 0\n",
    "print(c)"
   ]
  },
  {
   "cell_type": "markdown",
   "id": "4a6b0b20-cc5e-4035-a9bd-87d1a43b2cb8",
   "metadata": {},
   "source": [
    "Variables: start with character or _. no other special character and number at the beginning is not allowed, # is not allowed as it is reserved in python. Keywords are not allowed as varaibles. Python is case sensitive"
   ]
  },
  {
   "cell_type": "code",
   "execution_count": 40,
   "id": "48e96409-0ff7-4283-915b-16e8438c7906",
   "metadata": {},
   "outputs": [
    {
     "name": "stdout",
     "output_type": "stream",
     "text": [
      "<class 'int'>\n"
     ]
    }
   ],
   "source": [
    "#1a=10\n",
    "AA=2\n",
    "#if a = b\n",
    "print(type (AA))"
   ]
  },
  {
   "cell_type": "code",
   "execution_count": 45,
   "id": "c188d9fa-ece2-46de-be83-3446a2b32620",
   "metadata": {},
   "outputs": [
    {
     "name": "stdout",
     "output_type": "stream",
     "text": [
      "35\n"
     ]
    }
   ],
   "source": [
    "import keyword as k\n",
    "print(len (k.kwlist))"
   ]
  },
  {
   "cell_type": "code",
   "execution_count": 46,
   "id": "13802b33-bdb0-4792-955f-23b4c5ca7a1d",
   "metadata": {},
   "outputs": [],
   "source": [
    "IF = 10"
   ]
  },
  {
   "cell_type": "code",
   "execution_count": 47,
   "id": "73873739-4681-4a11-a728-3df870ae3519",
   "metadata": {},
   "outputs": [
    {
     "name": "stdout",
     "output_type": "stream",
     "text": [
      "1\n"
     ]
    }
   ],
   "source": [
    "print (3 % 2 )"
   ]
  },
  {
   "cell_type": "code",
   "execution_count": 48,
   "id": "5268008d-931b-4aeb-a7b3-fab3cd326f98",
   "metadata": {},
   "outputs": [
    {
     "name": "stdout",
     "output_type": "stream",
     "text": [
      "5\n"
     ]
    }
   ],
   "source": [
    "print(abs(-5))"
   ]
  },
  {
   "cell_type": "code",
   "execution_count": 49,
   "id": "b1068189-ecac-43f8-b630-7a1b1082cfe7",
   "metadata": {},
   "outputs": [
    {
     "name": "stdout",
     "output_type": "stream",
     "text": [
      "0\n"
     ]
    }
   ],
   "source": [
    "print(max(-1,0))"
   ]
  },
  {
   "cell_type": "code",
   "execution_count": 50,
   "id": "2147a57a-6f58-4ae8-b8a0-a1a5355bfd14",
   "metadata": {},
   "outputs": [
    {
     "name": "stdout",
     "output_type": "stream",
     "text": [
      "0\n"
     ]
    }
   ],
   "source": [
    "print(max(-0, +0))"
   ]
  },
  {
   "cell_type": "code",
   "execution_count": 51,
   "id": "1d0e384c-434a-4042-8475-8af97acba8d5",
   "metadata": {},
   "outputs": [
    {
     "name": "stdout",
     "output_type": "stream",
     "text": [
      "-2\n"
     ]
    }
   ],
   "source": [
    "print(min(-1,-2))"
   ]
  },
  {
   "cell_type": "code",
   "execution_count": 55,
   "id": "18ba6261-dd79-4423-a47a-7e120663e38c",
   "metadata": {},
   "outputs": [
    {
     "name": "stdout",
     "output_type": "stream",
     "text": [
      "5.0\n"
     ]
    }
   ],
   "source": [
    "print(10/2)"
   ]
  },
  {
   "cell_type": "code",
   "execution_count": 53,
   "id": "068d3800-25e3-42f0-a62b-c42bb778282f",
   "metadata": {},
   "outputs": [
    {
     "name": "stdout",
     "output_type": "stream",
     "text": [
      "<class 'float'>\n"
     ]
    }
   ],
   "source": [
    "print(type (10/2))"
   ]
  },
  {
   "cell_type": "code",
   "execution_count": 58,
   "id": "9f6afa13-bbb6-485b-9e1d-a1bde304d0f3",
   "metadata": {},
   "outputs": [
    {
     "name": "stdout",
     "output_type": "stream",
     "text": [
      "2 raised to the power of 3 results 8\n"
     ]
    }
   ],
   "source": [
    "print(\"2 raised to the power of 3 results\", 2 ** 3)"
   ]
  },
  {
   "cell_type": "code",
   "execution_count": 64,
   "id": "28c20083-d0dc-4421-85ac-e2ddd17d2adc",
   "metadata": {},
   "outputs": [
    {
     "name": "stdout",
     "output_type": "stream",
     "text": [
      "Square root of 167  is  12.92285\n"
     ]
    }
   ],
   "source": [
    "import math\n",
    "a =167\n",
    "print(\"Square root of\" , a ,\" is rounded to 5 decimal places \", round(math.sqrt(a),5))"
   ]
  },
  {
   "cell_type": "code",
   "execution_count": 65,
   "id": "4334f88a-e90d-4d85-b85d-e1836252d2d6",
   "metadata": {},
   "outputs": [
    {
     "name": "stdout",
     "output_type": "stream",
     "text": [
      "4\n"
     ]
    }
   ],
   "source": [
    "a = 3.7\n",
    "print(round(a)) # round rounds float to int , looks upper ceiling"
   ]
  },
  {
   "cell_type": "code",
   "execution_count": 68,
   "id": "4adec297-0729-4207-adae-7568c67dc445",
   "metadata": {},
   "outputs": [
    {
     "name": "stdout",
     "output_type": "stream",
     "text": [
      "0b1001\n",
      "0b11\n",
      "10\n"
     ]
    }
   ],
   "source": [
    "print(bin(9))\n",
    "print(bin(3))\n",
    "print(9^3)"
   ]
  },
  {
   "cell_type": "markdown",
   "id": "f7678e8d-4c3e-422f-ba2c-005b58580f8e",
   "metadata": {},
   "source": [
    "Input & Output"
   ]
  },
  {
   "cell_type": "code",
   "execution_count": 2,
   "id": "b8be902c-6137-4806-b038-85274c35c25f",
   "metadata": {},
   "outputs": [
    {
     "name": "stdin",
     "output_type": "stream",
     "text": [
      "Enter a number: 1.2\n"
     ]
    }
   ],
   "source": [
    "a= float(input(\"Enter a number:\"))"
   ]
  },
  {
   "cell_type": "code",
   "execution_count": 3,
   "id": "64b7aff5-e6d2-4881-9cc9-bc8a53b4aa74",
   "metadata": {},
   "outputs": [
    {
     "name": "stdin",
     "output_type": "stream",
     "text": [
      "Enter number a : 1\n",
      "Enter number b : 2\n"
     ]
    },
    {
     "name": "stdout",
     "output_type": "stream",
     "text": [
      "3\n"
     ]
    }
   ],
   "source": [
    "a= int(input(\"Enter number a :\"))\n",
    "b = int(input(\"Enter number b :\"))\n",
    "c = a +b\n",
    "print(c)"
   ]
  },
  {
   "cell_type": "code",
   "execution_count": 13,
   "id": "9a801fb0-b95b-4d85-9634-d75db290283b",
   "metadata": {},
   "outputs": [
    {
     "name": "stdin",
     "output_type": "stream",
     "text": [
      "Enter first name Dharmendra\n",
      "Enter last name : Singh\n"
     ]
    },
    {
     "name": "stdout",
     "output_type": "stream",
     "text": [
      " Print full name Dharmendra Singh\n",
      "full name is  Dharmendra   Singh\n",
      "first name Dharmendra, last name Singh\n",
      "first name Singh, last name Dharmendra\n"
     ]
    }
   ],
   "source": [
    "a = str(input(\"Enter first name\"))\n",
    "b= str(input(\"Enter last name :\"))\n",
    "c= a +\" \"+b\n",
    "print(f\" Print full name {a} {b}\")# formatted strings\n",
    "print(\"full name is \", a , \" \", b)\n",
    "print('first name {}, last name {}'.format(a, b, c))\n",
    "print(f'first name {b}, last name {a}')"
   ]
  },
  {
   "cell_type": "code",
   "execution_count": 16,
   "id": "1aed3054-0521-4254-bcc4-c79f007f0167",
   "metadata": {},
   "outputs": [
    {
     "name": "stdout",
     "output_type": "stream",
     "text": [
      "Memory location of a  140729493603240\n",
      "Memory location of b use id function 140729493603240\n",
      "Memory location of a  140729493603304\n",
      "Memory location of b use id function 140729493603240\n"
     ]
    }
   ],
   "source": [
    "a =5 \n",
    "b = 5\n",
    "print('Memory location of a ', id(a))\n",
    "print('Memory location of b use id function', id(b))\n",
    "a=7\n",
    "print('Memory location of a ', id(a))\n",
    "print('Memory location of b use id function', id(b))"
   ]
  },
  {
   "cell_type": "markdown",
   "id": "4ef89821-92a5-4935-b715-a4a6eeecbe51",
   "metadata": {},
   "source": [
    "Comparison Operator"
   ]
  },
  {
   "cell_type": "code",
   "execution_count": 22,
   "id": "2ce28b61-a095-4e53-9991-077b5d5eaa0b",
   "metadata": {},
   "outputs": [
    {
     "data": {
      "text/plain": [
       "False"
      ]
     },
     "execution_count": 22,
     "metadata": {},
     "output_type": "execute_result"
    }
   ],
   "source": [
    "num1 = 3\n",
    "num2 =4\n",
    "num1>num2"
   ]
  },
  {
   "cell_type": "code",
   "execution_count": 18,
   "id": "ff232cbe-e68d-45e6-a9be-5daeadbe1df7",
   "metadata": {},
   "outputs": [
    {
     "data": {
      "text/plain": [
       "True"
      ]
     },
     "execution_count": 18,
     "metadata": {},
     "output_type": "execute_result"
    }
   ],
   "source": [
    "7>4.1"
   ]
  },
  {
   "cell_type": "code",
   "execution_count": 23,
   "id": "6e435ff5-41ff-4c0e-b1f9-637c26b23d2e",
   "metadata": {},
   "outputs": [
    {
     "name": "stdout",
     "output_type": "stream",
     "text": [
      "greater value is 4\n"
     ]
    }
   ],
   "source": [
    "if(num1>num2):\n",
    "    print(\"greater value is {}\".format(num1))\n",
    "else:\n",
    "    print(\"greater value is {}\".format(num2))"
   ]
  },
  {
   "cell_type": "code",
   "execution_count": 25,
   "id": "7ad87ed9-b0b4-47e0-b0ba-437e413399c9",
   "metadata": {},
   "outputs": [
    {
     "name": "stdout",
     "output_type": "stream",
     "text": [
      "True\n"
     ]
    }
   ],
   "source": [
    "a= \"hello\"\n",
    "b =\"hello\"\n",
    "print(a==b)"
   ]
  },
  {
   "cell_type": "code",
   "execution_count": 26,
   "id": "f82d39a1-bf1e-4e64-8be6-6d36ca711eb0",
   "metadata": {},
   "outputs": [
    {
     "data": {
      "text/plain": [
       "'hellohellohellohello'"
      ]
     },
     "execution_count": 26,
     "metadata": {},
     "output_type": "execute_result"
    }
   ],
   "source": [
    "a*4"
   ]
  },
  {
   "cell_type": "code",
   "execution_count": 30,
   "id": "09f94bd4-8975-410d-b53b-6b7721d9192f",
   "metadata": {},
   "outputs": [
    {
     "name": "stdout",
     "output_type": "stream",
     "text": [
      "False\n",
      "False\n"
     ]
    }
   ],
   "source": [
    "a= True\n",
    "b = False\n",
    "print(a==b)\n",
    "c = (a==b)\n",
    "print(c)"
   ]
  },
  {
   "cell_type": "code",
   "execution_count": 31,
   "id": "0519ba87-a05d-4511-b30d-6527dcbc5f69",
   "metadata": {},
   "outputs": [
    {
     "data": {
      "text/plain": [
       "0"
      ]
     },
     "execution_count": 31,
     "metadata": {},
     "output_type": "execute_result"
    }
   ],
   "source": [
    "10 &5"
   ]
  },
  {
   "cell_type": "code",
   "execution_count": 32,
   "id": "0ca3df0b-5d95-4de3-a78d-ff2974e4e145",
   "metadata": {},
   "outputs": [
    {
     "data": {
      "text/plain": [
       "'-0b1001'"
      ]
     },
     "execution_count": 32,
     "metadata": {},
     "output_type": "execute_result"
    }
   ],
   "source": [
    "bin(-9)"
   ]
  },
  {
   "cell_type": "code",
   "execution_count": 33,
   "id": "6c357800-c55b-45cc-9deb-b14ff2ced83b",
   "metadata": {},
   "outputs": [
    {
     "data": {
      "text/plain": [
       "'0b1000'"
      ]
     },
     "execution_count": 33,
     "metadata": {},
     "output_type": "execute_result"
    }
   ],
   "source": [
    "bin(8)"
   ]
  },
  {
   "cell_type": "markdown",
   "id": "4241e24b-efbd-4e27-9004-7aba4a0058dc",
   "metadata": {},
   "source": [
    "Assignment operator"
   ]
  },
  {
   "cell_type": "code",
   "execution_count": 38,
   "id": "a78e5eaf-fc9e-417b-90bf-4e10c2dd2b42",
   "metadata": {},
   "outputs": [
    {
     "name": "stdout",
     "output_type": "stream",
     "text": [
      "6\n",
      "2.0\n",
      "4.0\n",
      "1.0\n"
     ]
    }
   ],
   "source": [
    "b=3\n",
    "b+=3\n",
    "print(b)\n",
    "b/=3\n",
    "print(b)\n",
    "b*=2\n",
    "print(b)\n",
    "b//=4\n",
    "print(b)"
   ]
  },
  {
   "cell_type": "code",
   "execution_count": 39,
   "id": "8938579b-cf33-4584-a336-1d0f216b97bc",
   "metadata": {},
   "outputs": [
    {
     "name": "stdout",
     "output_type": "stream",
     "text": [
      "10\n"
     ]
    }
   ],
   "source": [
    "num1=7\n",
    "num2=3\n",
    "num1+=num2\n",
    "print(num1)"
   ]
  },
  {
   "cell_type": "code",
   "execution_count": 40,
   "id": "88f38b7f-df15-4e00-b67e-c3f2a7a6f7ba",
   "metadata": {},
   "outputs": [
    {
     "name": "stdout",
     "output_type": "stream",
     "text": [
      "7\n"
     ]
    }
   ],
   "source": [
    "num1-=num2\n",
    "print(num1)"
   ]
  },
  {
   "cell_type": "markdown",
   "id": "5a5825cb-01a3-444f-bb5a-9ad53efc3457",
   "metadata": {},
   "source": [
    "Membership operators"
   ]
  },
  {
   "cell_type": "code",
   "execution_count": 41,
   "id": "8370f524-6be6-49d7-a59e-793e42c3a6e9",
   "metadata": {},
   "outputs": [
    {
     "data": {
      "text/plain": [
       "False"
      ]
     },
     "execution_count": 41,
     "metadata": {},
     "output_type": "execute_result"
    }
   ],
   "source": [
    "4 in [1,2]"
   ]
  },
  {
   "cell_type": "code",
   "execution_count": 43,
   "id": "e72870a4-6d0e-4732-909e-04d33f6863d6",
   "metadata": {},
   "outputs": [
    {
     "data": {
      "text/plain": [
       "False"
      ]
     },
     "execution_count": 43,
     "metadata": {},
     "output_type": "execute_result"
    }
   ],
   "source": [
    "2 not in (1,2)"
   ]
  },
  {
   "cell_type": "markdown",
   "id": "bb89a34e-306b-452f-8ea1-3559bf0c35ed",
   "metadata": {},
   "source": [
    "Identity operator"
   ]
  },
  {
   "cell_type": "code",
   "execution_count": 44,
   "id": "7fe141cc-639f-4747-84aa-7835a000f4d6",
   "metadata": {},
   "outputs": [
    {
     "name": "stderr",
     "output_type": "stream",
     "text": [
      "<>:1: SyntaxWarning: \"is\" with a literal. Did you mean \"==\"?\n",
      "<>:1: SyntaxWarning: \"is\" with a literal. Did you mean \"==\"?\n",
      "C:\\Users\\Admin\\AppData\\Local\\Temp\\ipykernel_9188\\700261715.py:1: SyntaxWarning: \"is\" with a literal. Did you mean \"==\"?\n",
      "  2 is 2.0\n"
     ]
    },
    {
     "data": {
      "text/plain": [
       "False"
      ]
     },
     "execution_count": 44,
     "metadata": {},
     "output_type": "execute_result"
    }
   ],
   "source": [
    "2 is 2.0"
   ]
  },
  {
   "cell_type": "code",
   "execution_count": 45,
   "id": "573eccc2-6a50-4847-b01b-4e2f67d6cd72",
   "metadata": {},
   "outputs": [
    {
     "name": "stdout",
     "output_type": "stream",
     "text": [
      "True\n",
      "False\n",
      "1828617245056\n",
      "1828617190208\n"
     ]
    }
   ],
   "source": [
    "x=[\"apple\", \"banana\"]\n",
    "y=[\"apple\", \"banana\"]\n",
    "print(x==y)\n",
    "print(x is y)\n",
    "print(id(x))\n",
    "print(id(y))"
   ]
  },
  {
   "cell_type": "code",
   "execution_count": 46,
   "id": "677dbfc1-49eb-460f-9f38-d60c236e7112",
   "metadata": {},
   "outputs": [
    {
     "name": "stdout",
     "output_type": "stream",
     "text": [
      "True\n"
     ]
    }
   ],
   "source": [
    "a=3\n",
    "b=3\n",
    "print(a is b)"
   ]
  },
  {
   "cell_type": "code",
   "execution_count": 47,
   "id": "53f863bc-ff2d-4bb5-b534-ec23eab084e1",
   "metadata": {},
   "outputs": [
    {
     "name": "stdout",
     "output_type": "stream",
     "text": [
      "1828617271040\n",
      "1828617271040\n"
     ]
    }
   ],
   "source": [
    "x=[\"apple\", \"banana\"]\n",
    "y=[\"apple\", \"banana\"]\n",
    "z=x\n",
    "print(id(x))\n",
    "print(id(z))"
   ]
  },
  {
   "cell_type": "code",
   "execution_count": 48,
   "id": "de3ece11-6d34-47f7-a515-2d7c3ce2d843",
   "metadata": {},
   "outputs": [
    {
     "name": "stderr",
     "output_type": "stream",
     "text": [
      "<>:1: SyntaxWarning: \"is not\" with a literal. Did you mean \"!=\"?\n",
      "<>:1: SyntaxWarning: \"is not\" with a literal. Did you mean \"!=\"?\n",
      "C:\\Users\\Admin\\AppData\\Local\\Temp\\ipykernel_9188\\1166683470.py:1: SyntaxWarning: \"is not\" with a literal. Did you mean \"!=\"?\n",
      "  0 is not False\n"
     ]
    },
    {
     "data": {
      "text/plain": [
       "True"
      ]
     },
     "execution_count": 48,
     "metadata": {},
     "output_type": "execute_result"
    }
   ],
   "source": [
    "0 is not False"
   ]
  },
  {
   "cell_type": "code",
   "execution_count": 49,
   "id": "e84d3504-a7f6-49a8-ad22-cb5fdfb31140",
   "metadata": {},
   "outputs": [
    {
     "name": "stderr",
     "output_type": "stream",
     "text": [
      "<>:1: SyntaxWarning: \"is\" with a literal. Did you mean \"==\"?\n",
      "<>:1: SyntaxWarning: \"is\" with a literal. Did you mean \"==\"?\n",
      "C:\\Users\\Admin\\AppData\\Local\\Temp\\ipykernel_9188\\866425555.py:1: SyntaxWarning: \"is\" with a literal. Did you mean \"==\"?\n",
      "  0 is True\n"
     ]
    },
    {
     "data": {
      "text/plain": [
       "False"
      ]
     },
     "execution_count": 49,
     "metadata": {},
     "output_type": "execute_result"
    }
   ],
   "source": [
    "0 is True"
   ]
  },
  {
   "cell_type": "code",
   "execution_count": 50,
   "id": "79c20272-b4a5-4708-8022-d836e4cd5f5d",
   "metadata": {},
   "outputs": [
    {
     "name": "stderr",
     "output_type": "stream",
     "text": [
      "<>:1: SyntaxWarning: \"is\" with a literal. Did you mean \"==\"?\n",
      "<>:1: SyntaxWarning: \"is\" with a literal. Did you mean \"==\"?\n",
      "C:\\Users\\Admin\\AppData\\Local\\Temp\\ipykernel_9188\\3476542435.py:1: SyntaxWarning: \"is\" with a literal. Did you mean \"==\"?\n",
      "  0 is 0\n"
     ]
    },
    {
     "data": {
      "text/plain": [
       "True"
      ]
     },
     "execution_count": 50,
     "metadata": {},
     "output_type": "execute_result"
    }
   ],
   "source": [
    "0 is 0"
   ]
  },
  {
   "cell_type": "code",
   "execution_count": 51,
   "id": "0c14f1a5-6179-41df-99a6-86be88b8c2fc",
   "metadata": {},
   "outputs": [
    {
     "name": "stdout",
     "output_type": "stream",
     "text": [
      "Hello World\n"
     ]
    }
   ],
   "source": [
    "str1='Hello'\n",
    "str2=' World'\n",
    "result = str1 + str2\n",
    "print(result)"
   ]
  },
  {
   "cell_type": "code",
   "execution_count": 52,
   "id": "be8ba7a3-70db-4695-80e0-4b2e5237346a",
   "metadata": {},
   "outputs": [
    {
     "name": "stdout",
     "output_type": "stream",
     "text": [
      "11\n"
     ]
    }
   ],
   "source": [
    "print(len(result))"
   ]
  },
  {
   "cell_type": "code",
   "execution_count": 53,
   "id": "bdcc99d1-28aa-4df2-8151-1f00bb0fe8cb",
   "metadata": {},
   "outputs": [
    {
     "name": "stdout",
     "output_type": "stream",
     "text": [
      "Hello World\n"
     ]
    }
   ],
   "source": [
    "print(result)"
   ]
  },
  {
   "cell_type": "code",
   "execution_count": 55,
   "id": "b9181245-b8e7-46fb-b1b6-714039793e7d",
   "metadata": {},
   "outputs": [
    {
     "name": "stdout",
     "output_type": "stream",
     "text": [
      "Worl\n"
     ]
    }
   ],
   "source": [
    "print(result[6:10])"
   ]
  },
  {
   "cell_type": "code",
   "execution_count": 56,
   "id": "786e0e77-6e8c-4444-9ec6-3ec75e6cf2aa",
   "metadata": {},
   "outputs": [
    {
     "name": "stdout",
     "output_type": "stream",
     "text": [
      "o\n"
     ]
    }
   ],
   "source": [
    "print(result[4])"
   ]
  },
  {
   "cell_type": "code",
   "execution_count": 58,
   "id": "a9a98dde-faae-4687-8b71-a092059e5b65",
   "metadata": {},
   "outputs": [
    {
     "name": "stdout",
     "output_type": "stream",
     "text": [
      "o\n"
     ]
    }
   ],
   "source": [
    "print(result[-4])"
   ]
  },
  {
   "cell_type": "code",
   "execution_count": 59,
   "id": "2b2b83d8-833a-4635-85c4-0f3e33a4448b",
   "metadata": {},
   "outputs": [
    {
     "name": "stdout",
     "output_type": "stream",
     "text": [
      "HELLO WORLD\n"
     ]
    }
   ],
   "source": [
    "print(result.upper())"
   ]
  },
  {
   "cell_type": "code",
   "execution_count": 60,
   "id": "19ef1fd6-f494-4c7e-9609-eab929a3fe79",
   "metadata": {},
   "outputs": [
    {
     "name": "stdout",
     "output_type": "stream",
     "text": [
      "hello world\n"
     ]
    }
   ],
   "source": [
    "print(result.lower())"
   ]
  },
  {
   "cell_type": "code",
   "execution_count": 61,
   "id": "066eb458-c6e6-49ad-be04-de98beb1eb15",
   "metadata": {},
   "outputs": [
    {
     "name": "stdout",
     "output_type": "stream",
     "text": [
      "6\n"
     ]
    }
   ],
   "source": [
    "print(result.find('World'))"
   ]
  },
  {
   "cell_type": "code",
   "execution_count": 62,
   "id": "2dfa52fd-e0b3-44e2-b6eb-02e2408eab12",
   "metadata": {},
   "outputs": [
    {
     "name": "stdout",
     "output_type": "stream",
     "text": [
      "False\n"
     ]
    }
   ],
   "source": [
    "print(result.isalpha())"
   ]
  },
  {
   "cell_type": "code",
   "execution_count": 65,
   "id": "bdbfa31c-cc5f-497a-bd2f-5fab20a2187b",
   "metadata": {},
   "outputs": [
    {
     "name": "stdout",
     "output_type": "stream",
     "text": [
      "True\n"
     ]
    }
   ],
   "source": [
    "print(\"as\".isalpha())"
   ]
  },
  {
   "cell_type": "code",
   "execution_count": 70,
   "id": "1243034f-849c-4190-ba54-9beaa5a69b21",
   "metadata": {},
   "outputs": [
    {
     "name": "stdout",
     "output_type": "stream",
     "text": [
      "True\n"
     ]
    }
   ],
   "source": [
    "print(\"12\".isdecimal())"
   ]
  },
  {
   "cell_type": "code",
   "execution_count": 71,
   "id": "2adb3a47-7bf0-441c-8f9c-76d6f7267b0d",
   "metadata": {},
   "outputs": [
    {
     "name": "stdout",
     "output_type": "stream",
     "text": [
      "3\n"
     ]
    }
   ],
   "source": [
    "print(result.count('l'))"
   ]
  },
  {
   "cell_type": "code",
   "execution_count": 72,
   "id": "a493b8a8-e504-49bb-ae36-6d1990d03e98",
   "metadata": {},
   "outputs": [
    {
     "name": "stdout",
     "output_type": "stream",
     "text": [
      "Hello World\n"
     ]
    }
   ],
   "source": [
    "print(result.strip())"
   ]
  },
  {
   "cell_type": "code",
   "execution_count": 75,
   "id": "2bf5f504-c4f7-4ca7-881b-1f4331bc5eb3",
   "metadata": {},
   "outputs": [
    {
     "name": "stdout",
     "output_type": "stream",
     "text": [
      "11\n"
     ]
    }
   ],
   "source": [
    "print(len(\" Hello wrold \".strip()))"
   ]
  },
  {
   "cell_type": "code",
   "execution_count": 78,
   "id": "ebb6ed8a-7eff-4a4b-a135-a39a98cbc5f8",
   "metadata": {},
   "outputs": [
    {
     "name": "stdout",
     "output_type": "stream",
     "text": [
      "False\n"
     ]
    }
   ],
   "source": [
    "print(bool(0))"
   ]
  },
  {
   "cell_type": "code",
   "execution_count": 82,
   "id": "37a02258-a03d-41d8-a48d-ee08fbe7493b",
   "metadata": {},
   "outputs": [],
   "source": [
    "x =5\n",
    "y =10\n",
    "z= x != y"
   ]
  },
  {
   "cell_type": "code",
   "execution_count": 83,
   "id": "5db2a481-8b6f-44c5-8199-e26d8a622337",
   "metadata": {},
   "outputs": [
    {
     "data": {
      "text/plain": [
       "NoneType"
      ]
     },
     "execution_count": 83,
     "metadata": {},
     "output_type": "execute_result"
    }
   ],
   "source": [
    "no_value = None\n",
    "type(no_value)"
   ]
  },
  {
   "cell_type": "code",
   "execution_count": 84,
   "id": "e18c797d-dd9d-4f26-a938-0973e20f9f86",
   "metadata": {},
   "outputs": [
    {
     "name": "stdout",
     "output_type": "stream",
     "text": [
      " a convert to int 5 , type <class 'int'>\n"
     ]
    }
   ],
   "source": [
    "a = 5.0\n",
    "a = int(a)\n",
    "print(' a convert to int {} , type {}'.format(a, type(a)))"
   ]
  },
  {
   "cell_type": "code",
   "execution_count": 5,
   "id": "835d1905-e224-4be2-abd8-761f9efdd65b",
   "metadata": {},
   "outputs": [
    {
     "data": {
      "text/plain": [
       "'Hello Everyone'"
      ]
     },
     "execution_count": 5,
     "metadata": {},
     "output_type": "execute_result"
    }
   ],
   "source": [
    "\"hello everyone\".title()"
   ]
  },
  {
   "cell_type": "code",
   "execution_count": 6,
   "id": "40c0b477-cf0d-43f2-b206-c5aa289ede6b",
   "metadata": {},
   "outputs": [
    {
     "data": {
      "text/plain": [
       "'Hello everyone'"
      ]
     },
     "execution_count": 6,
     "metadata": {},
     "output_type": "execute_result"
    }
   ],
   "source": [
    "\"hello everyone\".capitalize()"
   ]
  },
  {
   "cell_type": "code",
   "execution_count": 7,
   "id": "7c99e9bf-7250-4718-84e7-aa6226dcb198",
   "metadata": {},
   "outputs": [
    {
     "data": {
      "text/plain": [
       "['hello', 'everyone']"
      ]
     },
     "execution_count": 7,
     "metadata": {},
     "output_type": "execute_result"
    }
   ],
   "source": [
    "\"hello everyone\".split()"
   ]
  },
  {
   "cell_type": "code",
   "execution_count": 8,
   "id": "4ef3239b-8a0c-4c48-8eba-c766dfd4d6ac",
   "metadata": {},
   "outputs": [
    {
     "data": {
      "text/plain": [
       "['h', 'llo ', 'v', 'ryon', '']"
      ]
     },
     "execution_count": 8,
     "metadata": {},
     "output_type": "execute_result"
    }
   ],
   "source": [
    "\"hello everyone\".split('e')"
   ]
  },
  {
   "cell_type": "code",
   "execution_count": 9,
   "id": "afc715c0-152f-4320-9345-bec8d1c795f3",
   "metadata": {},
   "outputs": [
    {
     "data": {
      "text/plain": [
       "'c'"
      ]
     },
     "execution_count": 9,
     "metadata": {},
     "output_type": "execute_result"
    }
   ],
   "source": [
    "\"hello\".join(\"c\")"
   ]
  },
  {
   "cell_type": "code",
   "execution_count": 10,
   "id": "1f56d375-8658-4208-95ac-1682f2d98a49",
   "metadata": {},
   "outputs": [
    {
     "data": {
      "text/plain": [
       "True"
      ]
     },
     "execution_count": 10,
     "metadata": {},
     "output_type": "execute_result"
    }
   ],
   "source": [
    "\"hello world\".startswith('h')"
   ]
  },
  {
   "cell_type": "code",
   "execution_count": 11,
   "id": "13616388-3261-4e3f-8dbb-af335d708740",
   "metadata": {},
   "outputs": [
    {
     "data": {
      "text/plain": [
       "True"
      ]
     },
     "execution_count": 11,
     "metadata": {},
     "output_type": "execute_result"
    }
   ],
   "source": [
    "\"hello world\".endswith('d')"
   ]
  },
  {
   "cell_type": "code",
   "execution_count": 15,
   "id": "8c37d200-3b86-4cc2-8069-bef250d7ed50",
   "metadata": {},
   "outputs": [
    {
     "data": {
      "text/plain": [
       "('hello ', 'w', 'orld')"
      ]
     },
     "execution_count": 15,
     "metadata": {},
     "output_type": "execute_result"
    }
   ],
   "source": [
    "\"hello world\".partition(\"w\")"
   ]
  },
  {
   "cell_type": "code",
   "execution_count": 16,
   "id": "5aa2b65d-7212-47ce-a93c-61f4bfbca4ca",
   "metadata": {},
   "outputs": [
    {
     "data": {
      "text/plain": [
       "['hello ', 'orld']"
      ]
     },
     "execution_count": 16,
     "metadata": {},
     "output_type": "execute_result"
    }
   ],
   "source": [
    "\"hello world\".split(\"w\")"
   ]
  },
  {
   "cell_type": "markdown",
   "id": "72adc78e-3506-4418-a91a-55fff545ab7a",
   "metadata": {},
   "source": [
    "Data type - List"
   ]
  },
  {
   "cell_type": "code",
   "execution_count": 17,
   "id": "58fb56b7-db80-4850-a3ea-5855d3e88650",
   "metadata": {},
   "outputs": [],
   "source": [
    "fruits =[1,23,2.3,\"msd\",True]"
   ]
  },
  {
   "cell_type": "code",
   "execution_count": 19,
   "id": "a9b9378e-25bf-4931-89a8-4d9b9d3315aa",
   "metadata": {},
   "outputs": [
    {
     "data": {
      "text/plain": [
       "23"
      ]
     },
     "execution_count": 19,
     "metadata": {},
     "output_type": "execute_result"
    }
   ],
   "source": [
    "fruits[1]"
   ]
  },
  {
   "cell_type": "code",
   "execution_count": 20,
   "id": "5eb74aa7-018c-4f04-ad67-928335abe7de",
   "metadata": {},
   "outputs": [
    {
     "data": {
      "text/plain": [
       "1"
      ]
     },
     "execution_count": 20,
     "metadata": {},
     "output_type": "execute_result"
    }
   ],
   "source": [
    "fruits.index(23)"
   ]
  },
  {
   "cell_type": "code",
   "execution_count": 27,
   "id": "da9e2b43-2cee-43f3-b951-49856dbf8fa9",
   "metadata": {},
   "outputs": [],
   "source": [
    "fruits.append([1])"
   ]
  },
  {
   "cell_type": "code",
   "execution_count": 28,
   "id": "b5d7194c-04de-4865-b2b9-35e0cdff8e78",
   "metadata": {},
   "outputs": [
    {
     "data": {
      "text/plain": [
       "[1, 23, 2.3, 'msd', True, 1, 24, False, [1], [1]]"
      ]
     },
     "execution_count": 28,
     "metadata": {},
     "output_type": "execute_result"
    }
   ],
   "source": [
    "fruits"
   ]
  },
  {
   "cell_type": "code",
   "execution_count": 24,
   "id": "03bea7ba-b895-4301-ae88-4a565c110ba6",
   "metadata": {},
   "outputs": [],
   "source": [
    "fruits.extend([24,False])"
   ]
  },
  {
   "cell_type": "code",
   "execution_count": 25,
   "id": "2d71c011-9edf-4178-b63c-49c8a1d42095",
   "metadata": {},
   "outputs": [
    {
     "data": {
      "text/plain": [
       "[1, 23, 2.3, 'msd', True, 1, 24, False]"
      ]
     },
     "execution_count": 25,
     "metadata": {},
     "output_type": "execute_result"
    }
   ],
   "source": [
    "fruits"
   ]
  },
  {
   "cell_type": "code",
   "execution_count": 29,
   "id": "875745bc-5de1-4ec0-8d19-31c542384139",
   "metadata": {},
   "outputs": [],
   "source": [
    "fruits.insert(0,1)"
   ]
  },
  {
   "cell_type": "code",
   "execution_count": 30,
   "id": "45f76f27-83c4-4521-afc5-5eea7c947cb2",
   "metadata": {},
   "outputs": [
    {
     "data": {
      "text/plain": [
       "[1, 1, 23, 2.3, 'msd', True, 1, 24, False, [1], [1]]"
      ]
     },
     "execution_count": 30,
     "metadata": {},
     "output_type": "execute_result"
    }
   ],
   "source": [
    "fruits"
   ]
  },
  {
   "cell_type": "code",
   "execution_count": 31,
   "id": "e32db643-4649-41e5-a489-04b50b653e49",
   "metadata": {},
   "outputs": [],
   "source": [
    "fruits.insert(0,1)"
   ]
  },
  {
   "cell_type": "code",
   "execution_count": 32,
   "id": "50720d96-6f26-4eb2-ac8d-6b683aead9ed",
   "metadata": {},
   "outputs": [
    {
     "data": {
      "text/plain": [
       "[1, 1, 1, 23, 2.3, 'msd', True, 1, 24, False, [1], [1]]"
      ]
     },
     "execution_count": 32,
     "metadata": {},
     "output_type": "execute_result"
    }
   ],
   "source": [
    "fruits"
   ]
  },
  {
   "cell_type": "code",
   "execution_count": 33,
   "id": "69feb74c-b472-42e5-9076-52887518b793",
   "metadata": {},
   "outputs": [],
   "source": [
    "fruits.remove([1])"
   ]
  },
  {
   "cell_type": "code",
   "execution_count": 34,
   "id": "6bd010c5-9c1e-4984-83ec-2cadc20babf1",
   "metadata": {},
   "outputs": [
    {
     "data": {
      "text/plain": [
       "[1, 1, 1, 23, 2.3, 'msd', True, 1, 24, False, [1]]"
      ]
     },
     "execution_count": 34,
     "metadata": {},
     "output_type": "execute_result"
    }
   ],
   "source": [
    "fruits"
   ]
  },
  {
   "cell_type": "code",
   "execution_count": 35,
   "id": "cdeeb271-249c-4632-86b1-0445680cc0eb",
   "metadata": {},
   "outputs": [],
   "source": [
    "fruits.remove([1])"
   ]
  },
  {
   "cell_type": "code",
   "execution_count": 36,
   "id": "66bdd275-1c2b-4323-aeb4-c0d7f9a65809",
   "metadata": {},
   "outputs": [
    {
     "data": {
      "text/plain": [
       "[1, 1, 1, 23, 2.3, 'msd', True, 1, 24, False]"
      ]
     },
     "execution_count": 36,
     "metadata": {},
     "output_type": "execute_result"
    }
   ],
   "source": [
    "fruits"
   ]
  },
  {
   "cell_type": "code",
   "execution_count": 37,
   "id": "b68620e1-7086-41ef-8bee-1df7fb539906",
   "metadata": {},
   "outputs": [
    {
     "data": {
      "text/plain": [
       "False"
      ]
     },
     "execution_count": 37,
     "metadata": {},
     "output_type": "execute_result"
    }
   ],
   "source": [
    "fruits.pop()"
   ]
  },
  {
   "cell_type": "code",
   "execution_count": 38,
   "id": "00ec53bb-0900-4eb1-8c34-17c9e0b80f24",
   "metadata": {},
   "outputs": [
    {
     "data": {
      "text/plain": [
       "[1, 1, 1, 23, 2.3, 'msd', True, 1, 24]"
      ]
     },
     "execution_count": 38,
     "metadata": {},
     "output_type": "execute_result"
    }
   ],
   "source": [
    "fruits"
   ]
  },
  {
   "cell_type": "code",
   "execution_count": 39,
   "id": "62fc6a27-bc99-4642-b4d8-8083e9f2b22e",
   "metadata": {},
   "outputs": [
    {
     "data": {
      "text/plain": [
       "1"
      ]
     },
     "execution_count": 39,
     "metadata": {},
     "output_type": "execute_result"
    }
   ],
   "source": [
    "fruits.pop(0)"
   ]
  },
  {
   "cell_type": "code",
   "execution_count": 40,
   "id": "2d250518-a046-458c-bac4-281eda5cca83",
   "metadata": {},
   "outputs": [
    {
     "data": {
      "text/plain": [
       "[1, 1, 23, 2.3, 'msd', True, 1, 24]"
      ]
     },
     "execution_count": 40,
     "metadata": {},
     "output_type": "execute_result"
    }
   ],
   "source": [
    "fruits"
   ]
  },
  {
   "cell_type": "code",
   "execution_count": 44,
   "id": "c60881d4-cab7-4ee6-8f52-81e11b15ab4b",
   "metadata": {},
   "outputs": [
    {
     "data": {
      "text/plain": [
       "[1, 1, 23, 2.3, 'msd', True, 1, 24]"
      ]
     },
     "execution_count": 44,
     "metadata": {},
     "output_type": "execute_result"
    }
   ],
   "source": [
    "fruits"
   ]
  },
  {
   "cell_type": "code",
   "execution_count": 45,
   "id": "c7028910-7daa-46ac-8402-65a263a8e870",
   "metadata": {},
   "outputs": [
    {
     "data": {
      "text/plain": [
       "4"
      ]
     },
     "execution_count": 45,
     "metadata": {},
     "output_type": "execute_result"
    }
   ],
   "source": [
    "fruits.count(1)"
   ]
  },
  {
   "cell_type": "code",
   "execution_count": 48,
   "id": "34fe0fc8-1d37-4c9b-9a23-ca5d7a0b8cd8",
   "metadata": {},
   "outputs": [],
   "source": [
    "b=[1,4,5,6,7,8,80,97]"
   ]
  },
  {
   "cell_type": "code",
   "execution_count": 49,
   "id": "5edcf53d-6abe-4ef5-8578-53b32ab99122",
   "metadata": {},
   "outputs": [
    {
     "data": {
      "text/plain": [
       "[1, 4, 5, 6, 7, 8, 80, 97]"
      ]
     },
     "execution_count": 49,
     "metadata": {},
     "output_type": "execute_result"
    }
   ],
   "source": [
    "b"
   ]
  },
  {
   "cell_type": "code",
   "execution_count": 50,
   "id": "1151301a-afa4-4de6-b481-e219a72157b2",
   "metadata": {},
   "outputs": [],
   "source": [
    "b.reverse()"
   ]
  },
  {
   "cell_type": "code",
   "execution_count": 51,
   "id": "fd789ae4-ac24-4a5a-9307-176faa5faffb",
   "metadata": {},
   "outputs": [
    {
     "data": {
      "text/plain": [
       "[97, 80, 8, 7, 6, 5, 4, 1]"
      ]
     },
     "execution_count": 51,
     "metadata": {},
     "output_type": "execute_result"
    }
   ],
   "source": [
    "b"
   ]
  },
  {
   "cell_type": "code",
   "execution_count": 52,
   "id": "992f71ed-3ed4-4b4c-9ed7-0e8a2bd12059",
   "metadata": {},
   "outputs": [],
   "source": [
    "b.sort() # default ascedning order"
   ]
  },
  {
   "cell_type": "code",
   "execution_count": 53,
   "id": "3e488611-13eb-4191-b810-d17aa389e509",
   "metadata": {},
   "outputs": [
    {
     "data": {
      "text/plain": [
       "[1, 4, 5, 6, 7, 8, 80, 97]"
      ]
     },
     "execution_count": 53,
     "metadata": {},
     "output_type": "execute_result"
    }
   ],
   "source": [
    "b"
   ]
  },
  {
   "cell_type": "code",
   "execution_count": 55,
   "id": "a209ef2d-a4cb-47eb-ab02-e10b7e663169",
   "metadata": {},
   "outputs": [],
   "source": [
    "b.sort(reverse= True)"
   ]
  },
  {
   "cell_type": "code",
   "execution_count": 56,
   "id": "a83d407d-fa76-4297-84da-e3531498c090",
   "metadata": {},
   "outputs": [
    {
     "data": {
      "text/plain": [
       "[97, 80, 8, 7, 6, 5, 4, 1]"
      ]
     },
     "execution_count": 56,
     "metadata": {},
     "output_type": "execute_result"
    }
   ],
   "source": [
    "b"
   ]
  },
  {
   "cell_type": "code",
   "execution_count": 57,
   "id": "f4452851-1625-42b5-bdd1-7691c8a833ab",
   "metadata": {},
   "outputs": [],
   "source": [
    "b=[9,8,7,6]"
   ]
  },
  {
   "cell_type": "code",
   "execution_count": 60,
   "id": "b2e3566c-6a07-4cba-8cfd-0638659c14f5",
   "metadata": {},
   "outputs": [],
   "source": [
    "b.sort(reverse= True)"
   ]
  },
  {
   "cell_type": "code",
   "execution_count": 61,
   "id": "b46f8e60-600e-4040-9917-3d632035513b",
   "metadata": {},
   "outputs": [
    {
     "data": {
      "text/plain": [
       "[9, 8, 7, 6]"
      ]
     },
     "execution_count": 61,
     "metadata": {},
     "output_type": "execute_result"
    }
   ],
   "source": [
    "b"
   ]
  },
  {
   "cell_type": "code",
   "execution_count": 63,
   "id": "8859b669-50ea-4a5d-83d1-52166636b079",
   "metadata": {},
   "outputs": [],
   "source": [
    "x=b.copy()"
   ]
  },
  {
   "cell_type": "code",
   "execution_count": 64,
   "id": "4b7ebece-bb64-4930-9a2e-efb4dd5d110a",
   "metadata": {},
   "outputs": [
    {
     "data": {
      "text/plain": [
       "[9, 8, 7, 6]"
      ]
     },
     "execution_count": 64,
     "metadata": {},
     "output_type": "execute_result"
    }
   ],
   "source": [
    "x"
   ]
  },
  {
   "cell_type": "code",
   "execution_count": 65,
   "id": "e77881e7-04c0-4cab-94a8-75fdcf4a4f65",
   "metadata": {},
   "outputs": [],
   "source": [
    "e=x"
   ]
  },
  {
   "cell_type": "code",
   "execution_count": 66,
   "id": "b02bcd02-7f7a-490c-a965-5152dcfa0983",
   "metadata": {},
   "outputs": [
    {
     "data": {
      "text/plain": [
       "[9, 8, 7, 6]"
      ]
     },
     "execution_count": 66,
     "metadata": {},
     "output_type": "execute_result"
    }
   ],
   "source": [
    "e"
   ]
  },
  {
   "cell_type": "code",
   "execution_count": 67,
   "id": "096f26d7-37ef-4865-99cb-f1c19441ad2e",
   "metadata": {},
   "outputs": [
    {
     "data": {
      "text/plain": [
       "True"
      ]
     },
     "execution_count": 67,
     "metadata": {},
     "output_type": "execute_result"
    }
   ],
   "source": [
    "e==x"
   ]
  },
  {
   "cell_type": "code",
   "execution_count": 69,
   "id": "917eceb9-b751-4d65-8845-9f5b7c700943",
   "metadata": {},
   "outputs": [
    {
     "data": {
      "text/plain": [
       "True"
      ]
     },
     "execution_count": 69,
     "metadata": {},
     "output_type": "execute_result"
    }
   ],
   "source": [
    "e is x"
   ]
  },
  {
   "cell_type": "code",
   "execution_count": 70,
   "id": "8b5e689a-58a5-4b91-b2bd-5e085fd4131c",
   "metadata": {},
   "outputs": [
    {
     "data": {
      "text/plain": [
       "[9, 8, 7, 6]"
      ]
     },
     "execution_count": 70,
     "metadata": {},
     "output_type": "execute_result"
    }
   ],
   "source": [
    "e"
   ]
  },
  {
   "cell_type": "code",
   "execution_count": 71,
   "id": "6ede0347-4c9d-421c-b444-be22540b79a2",
   "metadata": {},
   "outputs": [],
   "source": [
    "e.clear()"
   ]
  },
  {
   "cell_type": "code",
   "execution_count": 72,
   "id": "b99c4cbf-4ba5-4200-ab30-e37988f4f70a",
   "metadata": {},
   "outputs": [
    {
     "data": {
      "text/plain": [
       "[]"
      ]
     },
     "execution_count": 72,
     "metadata": {},
     "output_type": "execute_result"
    }
   ],
   "source": [
    "e"
   ]
  },
  {
   "cell_type": "code",
   "execution_count": 73,
   "id": "5c5158dd-12aa-4c1a-805a-9d9528bd4b4b",
   "metadata": {},
   "outputs": [
    {
     "data": {
      "text/plain": [
       "[]"
      ]
     },
     "execution_count": 73,
     "metadata": {},
     "output_type": "execute_result"
    }
   ],
   "source": [
    "x"
   ]
  },
  {
   "cell_type": "code",
   "execution_count": 74,
   "id": "9b86eebd-4ad4-46e2-b4f1-a01615948049",
   "metadata": {},
   "outputs": [
    {
     "data": {
      "text/plain": [
       "True"
      ]
     },
     "execution_count": 74,
     "metadata": {},
     "output_type": "execute_result"
    }
   ],
   "source": [
    "a=[1,2]\n",
    "b=[1,2]\n",
    "a==b # object contet equality"
   ]
  },
  {
   "cell_type": "code",
   "execution_count": 75,
   "id": "5aa40226-3222-4918-9d66-24e6cfd53f64",
   "metadata": {},
   "outputs": [
    {
     "data": {
      "text/plain": [
       "False"
      ]
     },
     "execution_count": 75,
     "metadata": {},
     "output_type": "execute_result"
    }
   ],
   "source": [
    "a is b # memory location eqaulity"
   ]
  },
  {
   "cell_type": "code",
   "execution_count": 80,
   "id": "c0a57b8c-c09d-4239-9a52-9b3b416a19cb",
   "metadata": {},
   "outputs": [],
   "source": [
    "e=[1,2,3,[1,2]]"
   ]
  },
  {
   "cell_type": "code",
   "execution_count": 81,
   "id": "f318ca9c-472e-4504-a89b-26900709b091",
   "metadata": {},
   "outputs": [
    {
     "data": {
      "text/plain": [
       "[1, 2]"
      ]
     },
     "execution_count": 81,
     "metadata": {},
     "output_type": "execute_result"
    }
   ],
   "source": [
    "e.pop(3)"
   ]
  },
  {
   "cell_type": "code",
   "execution_count": 82,
   "id": "bbf95166-96aa-4eb8-890e-1a96e6bc12bb",
   "metadata": {},
   "outputs": [
    {
     "data": {
      "text/plain": [
       "[1, 2, 3]"
      ]
     },
     "execution_count": 82,
     "metadata": {},
     "output_type": "execute_result"
    }
   ],
   "source": [
    "e"
   ]
  },
  {
   "cell_type": "code",
   "execution_count": 83,
   "id": "c0016325-9502-47d6-b1a7-7b3a5bff9fa8",
   "metadata": {},
   "outputs": [
    {
     "ename": "IndexError",
     "evalue": "list index out of range",
     "output_type": "error",
     "traceback": [
      "\u001b[1;31m---------------------------------------------------------------------------\u001b[0m",
      "\u001b[1;31mIndexError\u001b[0m                                Traceback (most recent call last)",
      "Cell \u001b[1;32mIn[83], line 1\u001b[0m\n\u001b[1;32m----> 1\u001b[0m e[\u001b[38;5;241m-\u001b[39m\u001b[38;5;241m4\u001b[39m]\n",
      "\u001b[1;31mIndexError\u001b[0m: list index out of range"
     ]
    }
   ],
   "source": [
    "e[-4]"
   ]
  },
  {
   "cell_type": "code",
   "execution_count": 84,
   "id": "e8620cc4-6106-45ce-b4e8-2856cfd6f4d1",
   "metadata": {},
   "outputs": [
    {
     "data": {
      "text/plain": [
       "1"
      ]
     },
     "execution_count": 84,
     "metadata": {},
     "output_type": "execute_result"
    }
   ],
   "source": [
    "e[-3]"
   ]
  },
  {
   "cell_type": "code",
   "execution_count": 85,
   "id": "cade8327-f68a-4068-a1e5-584995a601d0",
   "metadata": {},
   "outputs": [
    {
     "data": {
      "text/plain": [
       "2"
      ]
     },
     "execution_count": 85,
     "metadata": {},
     "output_type": "execute_result"
    }
   ],
   "source": [
    "e[-2]"
   ]
  },
  {
   "cell_type": "code",
   "execution_count": 86,
   "id": "e5a3346e-0ae2-43ac-9e37-8a1e932d50d8",
   "metadata": {},
   "outputs": [
    {
     "data": {
      "text/plain": [
       "3"
      ]
     },
     "execution_count": 86,
     "metadata": {},
     "output_type": "execute_result"
    }
   ],
   "source": [
    "e[-1]"
   ]
  },
  {
   "cell_type": "code",
   "execution_count": 87,
   "id": "9bddcc7e-4eed-4ef4-8742-b024b5e8fccf",
   "metadata": {},
   "outputs": [
    {
     "ename": "NameError",
     "evalue": "name 'c' is not defined",
     "output_type": "error",
     "traceback": [
      "\u001b[1;31m---------------------------------------------------------------------------\u001b[0m",
      "\u001b[1;31mNameError\u001b[0m                                 Traceback (most recent call last)",
      "Cell \u001b[1;32mIn[87], line 1\u001b[0m\n\u001b[1;32m----> 1\u001b[0m \u001b[38;5;28mmax\u001b[39m(c)\n",
      "\u001b[1;31mNameError\u001b[0m: name 'c' is not defined"
     ]
    }
   ],
   "source": [
    "max(c)"
   ]
  },
  {
   "cell_type": "code",
   "execution_count": 88,
   "id": "f3730804-bcf5-4fc4-bcdc-53c902a11184",
   "metadata": {},
   "outputs": [
    {
     "data": {
      "text/plain": [
       "3"
      ]
     },
     "execution_count": 88,
     "metadata": {},
     "output_type": "execute_result"
    }
   ],
   "source": [
    "max(e)"
   ]
  },
  {
   "cell_type": "code",
   "execution_count": 89,
   "id": "04155a74-45f5-42b4-b54d-c24e095da235",
   "metadata": {},
   "outputs": [],
   "source": [
    "d =[1,5,2,4,78,54,0]"
   ]
  },
  {
   "cell_type": "code",
   "execution_count": 103,
   "id": "dbcaa88f-6a38-495e-a5d8-98faf27a8cae",
   "metadata": {},
   "outputs": [],
   "source": [
    "d.sort()"
   ]
  },
  {
   "cell_type": "code",
   "execution_count": 104,
   "id": "a1b95eb7-cb98-48a2-9c5f-cfc274e21e6e",
   "metadata": {},
   "outputs": [
    {
     "name": "stdout",
     "output_type": "stream",
     "text": [
      "0\n",
      "78\n"
     ]
    }
   ],
   "source": [
    "print(d[0])\n",
    "print(d[len(d)-1])"
   ]
  },
  {
   "cell_type": "code",
   "execution_count": 105,
   "id": "4fcf93d1-aff6-4b8b-8e2f-39bb34ee000a",
   "metadata": {},
   "outputs": [],
   "source": [
    "list1 =[1,2,3,4]"
   ]
  },
  {
   "cell_type": "code",
   "execution_count": 106,
   "id": "30ce2d8f-94c8-4d75-939b-30b2e005c699",
   "metadata": {},
   "outputs": [
    {
     "name": "stdout",
     "output_type": "stream",
     "text": [
      "<class 'list'> \n",
      "\n"
     ]
    }
   ],
   "source": [
    "print(type(list1),\"\\n\")"
   ]
  },
  {
   "cell_type": "code",
   "execution_count": 123,
   "id": "3c9781ba-c39a-452e-b870-44bfd719623d",
   "metadata": {},
   "outputs": [],
   "source": [
    "tuple=(1,2,3)"
   ]
  },
  {
   "cell_type": "code",
   "execution_count": 126,
   "id": "f950f856-9bb5-4950-8ba1-62d9cfcb050d",
   "metadata": {},
   "outputs": [
    {
     "data": {
      "text/plain": [
       "1"
      ]
     },
     "execution_count": 126,
     "metadata": {},
     "output_type": "execute_result"
    }
   ],
   "source": [
    "tuple.index(2)"
   ]
  },
  {
   "cell_type": "markdown",
   "id": "b511760b-3756-42df-baa2-d8991a3c7fba",
   "metadata": {},
   "source": [
    "Dictionary"
   ]
  },
  {
   "cell_type": "code",
   "execution_count": 136,
   "id": "87edfa11-1a9c-4e6f-a52f-b7289a9a3824",
   "metadata": {},
   "outputs": [],
   "source": [
    "d ={\"name\":\"MSD\", \"age\":30, \"family\":[\"father\",\"mother\",\"wife\"]}"
   ]
  },
  {
   "cell_type": "code",
   "execution_count": 128,
   "id": "4cb7411a-3a15-41a0-bc0d-0b40a5b2bdf7",
   "metadata": {},
   "outputs": [
    {
     "data": {
      "text/plain": [
       "{'name': 'MSD', 'age': 30, 'family': ['father', 'mother', 'wife']}"
      ]
     },
     "execution_count": 128,
     "metadata": {},
     "output_type": "execute_result"
    }
   ],
   "source": [
    "d"
   ]
  },
  {
   "cell_type": "code",
   "execution_count": 129,
   "id": "aa9976d3-89ac-4740-b99e-b4f655c2bf79",
   "metadata": {},
   "outputs": [
    {
     "data": {
      "text/plain": [
       "3"
      ]
     },
     "execution_count": 129,
     "metadata": {},
     "output_type": "execute_result"
    }
   ],
   "source": [
    "len(d)"
   ]
  },
  {
   "cell_type": "code",
   "execution_count": 130,
   "id": "0a55b3bd-18c7-4d57-9f14-be7ba08374f3",
   "metadata": {},
   "outputs": [
    {
     "data": {
      "text/plain": [
       "30"
      ]
     },
     "execution_count": 130,
     "metadata": {},
     "output_type": "execute_result"
    }
   ],
   "source": [
    "d[\"age\"]"
   ]
  },
  {
   "cell_type": "code",
   "execution_count": 131,
   "id": "51bcd630-cb4a-476d-943c-fc399d91cf47",
   "metadata": {},
   "outputs": [],
   "source": [
    "d[\"age\"]=40"
   ]
  },
  {
   "cell_type": "code",
   "execution_count": 132,
   "id": "80c2b401-74f4-4fbe-9ad4-d0de8380845e",
   "metadata": {},
   "outputs": [
    {
     "data": {
      "text/plain": [
       "{'name': 'MSD', 'age': 40, 'family': ['father', 'mother', 'wife']}"
      ]
     },
     "execution_count": 132,
     "metadata": {},
     "output_type": "execute_result"
    }
   ],
   "source": [
    "d"
   ]
  },
  {
   "cell_type": "code",
   "execution_count": 133,
   "id": "9ec5ae9c-e117-4f7e-9718-f7c35781f126",
   "metadata": {},
   "outputs": [
    {
     "ename": "SyntaxError",
     "evalue": "invalid syntax (3515879579.py, line 1)",
     "output_type": "error",
     "traceback": [
      "\u001b[1;36m  Cell \u001b[1;32mIn[133], line 1\u001b[1;36m\u001b[0m\n\u001b[1;33m    d.insert(\"place\":\"Ranchi\")\u001b[0m\n\u001b[1;37m                    ^\u001b[0m\n\u001b[1;31mSyntaxError\u001b[0m\u001b[1;31m:\u001b[0m invalid syntax\n"
     ]
    }
   ],
   "source": [
    "d.insert(\"place\":\"Ranchi\")"
   ]
  },
  {
   "cell_type": "code",
   "execution_count": 134,
   "id": "d1e94b1b-1d4e-45c4-9ea8-b5e082ac84bf",
   "metadata": {},
   "outputs": [],
   "source": [
    "d.clear()"
   ]
  },
  {
   "cell_type": "code",
   "execution_count": 137,
   "id": "5dce0daf-710c-4c6b-9841-00b0a7216f1b",
   "metadata": {},
   "outputs": [
    {
     "data": {
      "text/plain": [
       "{'name': 'MSD', 'age': 30, 'family': ['father', 'mother', 'wife']}"
      ]
     },
     "execution_count": 137,
     "metadata": {},
     "output_type": "execute_result"
    }
   ],
   "source": [
    "d"
   ]
  },
  {
   "cell_type": "code",
   "execution_count": 143,
   "id": "b7aa1214-34b5-4c89-a4a8-4e54caa4364c",
   "metadata": {},
   "outputs": [
    {
     "ename": "KeyError",
     "evalue": "'name'",
     "output_type": "error",
     "traceback": [
      "\u001b[1;31m---------------------------------------------------------------------------\u001b[0m",
      "\u001b[1;31mKeyError\u001b[0m                                  Traceback (most recent call last)",
      "Cell \u001b[1;32mIn[143], line 1\u001b[0m\n\u001b[1;32m----> 1\u001b[0m d\u001b[38;5;241m.\u001b[39mpop(\u001b[38;5;124m\"\u001b[39m\u001b[38;5;124mname\u001b[39m\u001b[38;5;124m\"\u001b[39m)\n",
      "\u001b[1;31mKeyError\u001b[0m: 'name'"
     ]
    }
   ],
   "source": [
    "d.pop(\"name\")"
   ]
  },
  {
   "cell_type": "code",
   "execution_count": 142,
   "id": "51a8a72a-6a68-4dce-a60c-53e02a4d5f46",
   "metadata": {},
   "outputs": [
    {
     "ename": "AttributeError",
     "evalue": "'dict' object has no attribute 'remove'",
     "output_type": "error",
     "traceback": [
      "\u001b[1;31m---------------------------------------------------------------------------\u001b[0m",
      "\u001b[1;31mAttributeError\u001b[0m                            Traceback (most recent call last)",
      "Cell \u001b[1;32mIn[142], line 1\u001b[0m\n\u001b[1;32m----> 1\u001b[0m d\u001b[38;5;241m.\u001b[39mremove(\u001b[38;5;124m\"\u001b[39m\u001b[38;5;124mname\u001b[39m\u001b[38;5;124m\"\u001b[39m)\n",
      "\u001b[1;31mAttributeError\u001b[0m: 'dict' object has no attribute 'remove'"
     ]
    }
   ],
   "source": [
    "d.remove(\"name\")"
   ]
  },
  {
   "cell_type": "code",
   "execution_count": 144,
   "id": "b9c2b81c-1780-4063-ad6e-b81bc2ffdf79",
   "metadata": {},
   "outputs": [
    {
     "data": {
      "text/plain": [
       "{'age': 30, 'family': ['father', 'mother', 'wife']}"
      ]
     },
     "execution_count": 144,
     "metadata": {},
     "output_type": "execute_result"
    }
   ],
   "source": [
    "d"
   ]
  },
  {
   "cell_type": "code",
   "execution_count": 145,
   "id": "5f4738f8-4050-4bb0-8847-b3693571c49f",
   "metadata": {},
   "outputs": [
    {
     "ename": "TypeError",
     "evalue": "fromkeys expected at least 1 argument, got 0",
     "output_type": "error",
     "traceback": [
      "\u001b[1;31m---------------------------------------------------------------------------\u001b[0m",
      "\u001b[1;31mTypeError\u001b[0m                                 Traceback (most recent call last)",
      "Cell \u001b[1;32mIn[145], line 1\u001b[0m\n\u001b[1;32m----> 1\u001b[0m d\u001b[38;5;241m.\u001b[39mfromkeys()\n",
      "\u001b[1;31mTypeError\u001b[0m: fromkeys expected at least 1 argument, got 0"
     ]
    }
   ],
   "source": [
    "d.fromkeys()"
   ]
  },
  {
   "cell_type": "code",
   "execution_count": 146,
   "id": "e0be6b18-933e-4515-95fe-bb1a86ecf9e4",
   "metadata": {},
   "outputs": [
    {
     "data": {
      "text/plain": [
       "{'n': None, 'a': None, 'm': None, 'e': None}"
      ]
     },
     "execution_count": 146,
     "metadata": {},
     "output_type": "execute_result"
    }
   ],
   "source": [
    "d.fromkeys(\"name\")"
   ]
  },
  {
   "cell_type": "code",
   "execution_count": 147,
   "id": "4dc41180-df6b-4b9f-b155-de7077129fa0",
   "metadata": {},
   "outputs": [
    {
     "data": {
      "text/plain": [
       "dict_keys(['age', 'family'])"
      ]
     },
     "execution_count": 147,
     "metadata": {},
     "output_type": "execute_result"
    }
   ],
   "source": [
    "d.keys()"
   ]
  },
  {
   "cell_type": "code",
   "execution_count": 148,
   "id": "08e94c45-a886-4b51-ba20-11da52220fcf",
   "metadata": {},
   "outputs": [
    {
     "data": {
      "text/plain": [
       "dict_values([30, ['father', 'mother', 'wife']])"
      ]
     },
     "execution_count": 148,
     "metadata": {},
     "output_type": "execute_result"
    }
   ],
   "source": [
    "d.values()"
   ]
  },
  {
   "cell_type": "code",
   "execution_count": 149,
   "id": "edb26ae3-0fff-416d-a8d0-d27c8c9ba347",
   "metadata": {},
   "outputs": [
    {
     "data": {
      "text/plain": [
       "dict"
      ]
     },
     "execution_count": 149,
     "metadata": {},
     "output_type": "execute_result"
    }
   ],
   "source": [
    "type(d)"
   ]
  },
  {
   "cell_type": "code",
   "execution_count": 151,
   "id": "9370969d-9621-44a3-b581-de419145c84b",
   "metadata": {},
   "outputs": [],
   "source": [
    "d.update({\"name\":\"MSD\"})"
   ]
  },
  {
   "cell_type": "code",
   "execution_count": 152,
   "id": "67d6aa60-2763-41da-8b85-33cf46a128d8",
   "metadata": {},
   "outputs": [
    {
     "data": {
      "text/plain": [
       "{'age': 30, 'family': ['father', 'mother', 'wife'], 'name': 'MSD'}"
      ]
     },
     "execution_count": 152,
     "metadata": {},
     "output_type": "execute_result"
    }
   ],
   "source": [
    "d"
   ]
  },
  {
   "cell_type": "code",
   "execution_count": 153,
   "id": "e1b56002-8939-4af5-b6bd-a0f41708234d",
   "metadata": {},
   "outputs": [],
   "source": [
    "e=d.copy()"
   ]
  },
  {
   "cell_type": "code",
   "execution_count": 154,
   "id": "8e004e36-f1e0-4fd5-8d6c-2e9979503c97",
   "metadata": {},
   "outputs": [
    {
     "data": {
      "text/plain": [
       "True"
      ]
     },
     "execution_count": 154,
     "metadata": {},
     "output_type": "execute_result"
    }
   ],
   "source": [
    "e==d# content eaulity"
   ]
  },
  {
   "cell_type": "code",
   "execution_count": 157,
   "id": "a2cfa787-565a-4e35-86de-58afffaf8ce8",
   "metadata": {},
   "outputs": [
    {
     "data": {
      "text/plain": [
       "False"
      ]
     },
     "execution_count": 157,
     "metadata": {},
     "output_type": "execute_result"
    }
   ],
   "source": [
    "e is d # memory location equality"
   ]
  },
  {
   "cell_type": "code",
   "execution_count": 158,
   "id": "5f8a0724-fd6b-4573-b640-26c61d73ff3b",
   "metadata": {},
   "outputs": [
    {
     "name": "stdout",
     "output_type": "stream",
     "text": [
      "2487758690112\n",
      "2487759407744\n"
     ]
    }
   ],
   "source": [
    "print(id(e))\n",
    "print(id(d))"
   ]
  },
  {
   "cell_type": "code",
   "execution_count": 159,
   "id": "54d1cd2a-df68-44fc-8a2c-0ad8f912bfdd",
   "metadata": {},
   "outputs": [
    {
     "name": "stdout",
     "output_type": "stream",
     "text": [
      "<class 'dict_values'>\n"
     ]
    }
   ],
   "source": [
    "print(type(d.values()))"
   ]
  },
  {
   "cell_type": "code",
   "execution_count": 160,
   "id": "30f556e0-0e35-45ab-a045-8af5af7aaf58",
   "metadata": {},
   "outputs": [
    {
     "data": {
      "text/plain": [
       "{'age': 30, 'family': ['father', 'mother', 'wife'], 'name': 'MSD'}"
      ]
     },
     "execution_count": 160,
     "metadata": {},
     "output_type": "execute_result"
    }
   ],
   "source": [
    "d"
   ]
  },
  {
   "cell_type": "code",
   "execution_count": 161,
   "id": "84730ab7-15cd-4efa-b552-aef4a5ed0fba",
   "metadata": {},
   "outputs": [
    {
     "data": {
      "text/plain": [
       "('name', 'MSD')"
      ]
     },
     "execution_count": 161,
     "metadata": {},
     "output_type": "execute_result"
    }
   ],
   "source": [
    "d.popitem()"
   ]
  },
  {
   "cell_type": "code",
   "execution_count": 162,
   "id": "135c547e-ac65-4c0b-8642-e6b5bd3001a2",
   "metadata": {},
   "outputs": [
    {
     "data": {
      "text/plain": [
       "{'age': 30, 'family': ['father', 'mother', 'wife']}"
      ]
     },
     "execution_count": 162,
     "metadata": {},
     "output_type": "execute_result"
    }
   ],
   "source": [
    "d"
   ]
  },
  {
   "cell_type": "code",
   "execution_count": 163,
   "id": "5dcc0f69-60bb-45c2-847a-d78816cc0eb8",
   "metadata": {},
   "outputs": [
    {
     "data": {
      "text/plain": [
       "['father', 'mother', 'wife']"
      ]
     },
     "execution_count": 163,
     "metadata": {},
     "output_type": "execute_result"
    }
   ],
   "source": [
    "d.get(\"family\")"
   ]
  },
  {
   "cell_type": "code",
   "execution_count": 164,
   "id": "95ff6a53-6c44-4884-ba16-3e8f8234674a",
   "metadata": {},
   "outputs": [
    {
     "data": {
      "text/plain": [
       "dict_items([('age', 30), ('family', ['father', 'mother', 'wife'])])"
      ]
     },
     "execution_count": 164,
     "metadata": {},
     "output_type": "execute_result"
    }
   ],
   "source": [
    "d.items()"
   ]
  },
  {
   "cell_type": "code",
   "execution_count": 165,
   "id": "cc4cd07f-f57c-4561-8d83-c0759dceb3a6",
   "metadata": {},
   "outputs": [],
   "source": [
    "d.setdefault(('xx','yy'))"
   ]
  },
  {
   "cell_type": "code",
   "execution_count": 166,
   "id": "2d734d9d-a173-472e-bd89-a2fcce129106",
   "metadata": {},
   "outputs": [
    {
     "data": {
      "text/plain": [
       "{'age': 30, 'family': ['father', 'mother', 'wife'], ('xx', 'yy'): None}"
      ]
     },
     "execution_count": 166,
     "metadata": {},
     "output_type": "execute_result"
    }
   ],
   "source": [
    "d"
   ]
  },
  {
   "cell_type": "code",
   "execution_count": 167,
   "id": "6196d2de-cbac-4b2a-9aad-49c79777d41e",
   "metadata": {},
   "outputs": [
    {
     "data": {
      "text/plain": [
       "(('xx', 'yy'), None)"
      ]
     },
     "execution_count": 167,
     "metadata": {},
     "output_type": "execute_result"
    }
   ],
   "source": [
    "d.popitem()"
   ]
  },
  {
   "cell_type": "code",
   "execution_count": 168,
   "id": "3f42649e-1088-410a-baa0-cdbdeeeae4a0",
   "metadata": {},
   "outputs": [
    {
     "data": {
      "text/plain": [
       "{'age': 30, 'family': ['father', 'mother', 'wife']}"
      ]
     },
     "execution_count": 168,
     "metadata": {},
     "output_type": "execute_result"
    }
   ],
   "source": [
    "d"
   ]
  },
  {
   "cell_type": "code",
   "execution_count": 169,
   "id": "0faf129a-bcc3-414a-a4e8-188a3232db78",
   "metadata": {},
   "outputs": [
    {
     "data": {
      "text/plain": [
       "'y'"
      ]
     },
     "execution_count": 169,
     "metadata": {},
     "output_type": "execute_result"
    }
   ],
   "source": [
    "d.setdefault('xx','y')"
   ]
  },
  {
   "cell_type": "code",
   "execution_count": 170,
   "id": "0768667b-ddb4-47fc-bc02-07d2b70f58c9",
   "metadata": {},
   "outputs": [
    {
     "data": {
      "text/plain": [
       "{'age': 30, 'family': ['father', 'mother', 'wife'], 'xx': 'y'}"
      ]
     },
     "execution_count": 170,
     "metadata": {},
     "output_type": "execute_result"
    }
   ],
   "source": [
    "d"
   ]
  },
  {
   "cell_type": "code",
   "execution_count": 171,
   "id": "af5056aa-ccf7-41c8-ac99-30d5749aa8b9",
   "metadata": {},
   "outputs": [
    {
     "data": {
      "text/plain": [
       "{1, 2, 3}"
      ]
     },
     "execution_count": 171,
     "metadata": {},
     "output_type": "execute_result"
    }
   ],
   "source": [
    "list=[1,1,2,2,3,3]\n",
    "s=set(list)\n",
    "s"
   ]
  },
  {
   "cell_type": "code",
   "execution_count": 172,
   "id": "076e9895-e04f-40aa-a57b-92f5f873484f",
   "metadata": {},
   "outputs": [
    {
     "data": {
      "text/plain": [
       "set"
      ]
     },
     "execution_count": 172,
     "metadata": {},
     "output_type": "execute_result"
    }
   ],
   "source": [
    "type(s)"
   ]
  },
  {
   "cell_type": "code",
   "execution_count": 183,
   "id": "e6c13d5f-98f4-4451-9c3f-64e4a791d3a8",
   "metadata": {},
   "outputs": [],
   "source": [
    "s.update({3})"
   ]
  },
  {
   "cell_type": "code",
   "execution_count": 182,
   "id": "20c5b05e-1989-4e1e-9be5-a82e8126f96e",
   "metadata": {},
   "outputs": [
    {
     "data": {
      "text/plain": [
       "{1, 2, 3, 25}"
      ]
     },
     "execution_count": 182,
     "metadata": {},
     "output_type": "execute_result"
    }
   ],
   "source": [
    "s"
   ]
  },
  {
   "cell_type": "code",
   "execution_count": 184,
   "id": "c3fa58fe-674d-4ebc-ad55-1f056f1644a2",
   "metadata": {},
   "outputs": [],
   "source": [
    "s.clear()"
   ]
  },
  {
   "cell_type": "code",
   "execution_count": 185,
   "id": "e0b05b85-1af5-406a-a72a-e46ac05ca9ec",
   "metadata": {},
   "outputs": [
    {
     "data": {
      "text/plain": [
       "set()"
      ]
     },
     "execution_count": 185,
     "metadata": {},
     "output_type": "execute_result"
    }
   ],
   "source": [
    "s"
   ]
  },
  {
   "cell_type": "code",
   "execution_count": 186,
   "id": "b9c3f091-a12c-4d6d-b86a-d3f8f9faebd7",
   "metadata": {},
   "outputs": [],
   "source": [
    "s={1,2,3,4}"
   ]
  },
  {
   "cell_type": "code",
   "execution_count": 187,
   "id": "a3b515cd-b696-43e5-a22a-20711d196f59",
   "metadata": {},
   "outputs": [],
   "source": [
    "s.remove(1)"
   ]
  },
  {
   "cell_type": "code",
   "execution_count": 188,
   "id": "5d3075e4-187c-4088-b24b-41f72a6e82a4",
   "metadata": {},
   "outputs": [
    {
     "data": {
      "text/plain": [
       "{2, 3, 4}"
      ]
     },
     "execution_count": 188,
     "metadata": {},
     "output_type": "execute_result"
    }
   ],
   "source": [
    "s"
   ]
  },
  {
   "cell_type": "code",
   "execution_count": null,
   "id": "a7cd7a21-6599-4dae-9d4a-b61341e17be6",
   "metadata": {},
   "outputs": [],
   "source": []
  }
 ],
 "metadata": {
  "kernelspec": {
   "display_name": "Python 3 (ipykernel)",
   "language": "python",
   "name": "python3"
  },
  "language_info": {
   "codemirror_mode": {
    "name": "ipython",
    "version": 3
   },
   "file_extension": ".py",
   "mimetype": "text/x-python",
   "name": "python",
   "nbconvert_exporter": "python",
   "pygments_lexer": "ipython3",
   "version": "3.11.7"
  }
 },
 "nbformat": 4,
 "nbformat_minor": 5
}
