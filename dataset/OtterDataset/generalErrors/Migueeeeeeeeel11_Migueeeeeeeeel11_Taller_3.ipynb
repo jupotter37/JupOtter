{
  "nbformat": 4,
  "nbformat_minor": 0,
  "metadata": {
    "colab": {
      "provenance": [],
      "authorship_tag": "ABX9TyNh0UgqGMXehrhoTFOACufo",
      "include_colab_link": true
    },
    "kernelspec": {
      "name": "python3",
      "display_name": "Python 3"
    },
    "language_info": {
      "name": "python"
    }
  },
  "cells": [
    {
      "cell_type": "markdown",
      "metadata": {
        "id": "view-in-github",
        "colab_type": "text"
      },
      "source": [
        "<a href=\"https://colab.research.google.com/github/Migueeeeeeeeel11/Migueeeeeeeeel11/blob/main/Taller_3.ipynb\" target=\"_parent\"><img src=\"https://colab.research.google.com/assets/colab-badge.svg\" alt=\"Open In Colab\"/></a>"
      ]
    },
    {
      "cell_type": "code",
      "execution_count": null,
      "metadata": {
        "id": "pCxX9MfjtG7e"
      },
      "outputs": [],
      "source": [
        "#EJERCICICIOS TALLER 3"
      ]
    },
    {
      "cell_type": "markdown",
      "metadata": {
        "id": "AkCbRAvSTfqB"
      },
      "source": [
        "## __1. Ejercicios sobre expresiones lógicas__\n",
        "\n",
        "- Determine para que valores de X se cumple y para que valores de X no se cumple la siguiente expresión: `X != 6 and X > 3`\n",
        "\n",
        "- Determine para que valores de H se cumple y para que valores de H no se cumple la siguiente expresión: `not (H >= 2) or H > 9`\n",
        "\n",
        "- Determine para que valores de M se cumple y para que valores de M no se cumple la siguiente expresión: `M % 5 >= 2 or M < -7`\n",
        "\n",
        "\n"
      ]
    },
    {
      "cell_type": "code",
      "source": [
        "#Determine para que valores de X se cumple y para que valores de X no se cumple la siguiente expresión: X != 6 and X > 3\n",
        "def valorx(X):\n",
        "    if X != 6 and X > 3:\n",
        "        print(\"la expresión se cumple.\")\n",
        "    else:\n",
        "        print(\"la expresión NO se cumple.\")\n",
        "valor = float(input('Ingrese primer valor:'))\n",
        "valorx(valor)\n"
      ],
      "metadata": {
        "colab": {
          "base_uri": "https://localhost:8080/"
        },
        "id": "scOZ1RRFf2Wt",
        "outputId": "551dbbde-82dd-48e5-eca8-521a149db709"
      },
      "execution_count": null,
      "outputs": [
        {
          "output_type": "stream",
          "name": "stdout",
          "text": [
            "Ingrese primer valor:6.5\n",
            "la expresión se cumple.\n"
          ]
        }
      ]
    },
    {
      "cell_type": "code",
      "source": [
        "#Determine para que valores de H se cumple y para que valores de H no se cumple la siguiente expresión: not (H >= 2) or H > 9\n",
        "\n",
        "def valorx(h):\n",
        "    if not (h >= 2) or h > 9:\n",
        "        print(\"la expresión se cumple.\")\n",
        "    else:\n",
        "        print(\"la expresión NO se cumple.\")\n",
        "valor = float(input('Ingrese primer valor:'))\n",
        "valorx(valor)\n",
        "\n"
      ],
      "metadata": {
        "colab": {
          "base_uri": "https://localhost:8080/"
        },
        "id": "TqDSsdNGDFVU",
        "outputId": "c1c19423-7a97-493a-c49a-cd45ef295d8b"
      },
      "execution_count": null,
      "outputs": [
        {
          "output_type": "stream",
          "name": "stdout",
          "text": [
            "Ingrese primer valor:9.1\n",
            "la expresión se cumple.\n"
          ]
        }
      ]
    },
    {
      "cell_type": "code",
      "source": [
        "#Determine para que valores de M se cumple y para que valores de M no se cumple la siguiente expresión: M % 5 >= 2 or M < -7 (profe ayuda!)\n",
        "\n",
        "def valor(m):\n",
        "  if m % 5 >= 2 or m < -7:\n",
        "    print('la expresion se cumple')\n",
        "\n",
        "  else:\n",
        "    print('la expresion  NO se cumple')\n",
        "\n",
        "valorm = float(input('Ingrese primer valor:'))\n",
        "valor(valorm)\n",
        "\n",
        "\n"
      ],
      "metadata": {
        "id": "Z2XdtVSqymVD",
        "colab": {
          "base_uri": "https://localhost:8080/"
        },
        "outputId": "cc3def4f-d2d3-4e59-88ea-621eaadfe132"
      },
      "execution_count": null,
      "outputs": [
        {
          "output_type": "stream",
          "name": "stdout",
          "text": [
            "Ingrese primer valor:0\n",
            "la expresion  NO se cumple\n"
          ]
        }
      ]
    },
    {
      "cell_type": "code",
      "source": [
        "def expresion(H):\n",
        "    return not (H >= 2) or H > 9\n",
        "\n",
        "valor = float(input('Ingrese primer valor:'))\n",
        "expresion(valor)\n",
        "\n"
      ],
      "metadata": {
        "colab": {
          "base_uri": "https://localhost:8080/"
        },
        "id": "z-Zl-fRTcJaN",
        "outputId": "bd93fcc5-7bab-446b-84b1-8ae7d7edd0fd"
      },
      "execution_count": null,
      "outputs": [
        {
          "name": "stdout",
          "output_type": "stream",
          "text": [
            "Ingrese primer valor:1\n"
          ]
        },
        {
          "output_type": "execute_result",
          "data": {
            "text/plain": [
              "True"
            ]
          },
          "metadata": {},
          "execution_count": 60
        }
      ]
    },
    {
      "cell_type": "markdown",
      "source": [
        "## __2. Ejercicios sobre manejo de errores__\n",
        "\n",
        "> - Escriba un código que genere cada uno de los errores mencionados en la lista\n",
        "    - __ValueError:__ error al convertir un valor, ej. de cadena a numperico\n",
        "    - __NameError:__ el nombre de variable o función no es correcto\n",
        "    - __SyntaxError:__ la declaración de la estructura no es acorde\n",
        "    - __TypeError:__ problemas para operaciones con un tipo de dato no esperado\n",
        "    - __ZeroDivisionError:__ se trata de ejecutar una división por cero\n",
        "    - __OSError:__ problema del sistema, ej. el archivo especificado no existe\n",
        "    - __IndexError:__ cuando se accede a un elemento de una estructura que esta fuera de alcance.\n",
        "\n",
        "\n",
        "\n",
        "\n",
        "\n"
      ],
      "metadata": {
        "id": "m9n95S41Ibzx"
      }
    },
    {
      "cell_type": "code",
      "source": [
        "#ValueError: error al convertir un valor, ej. de cadena a numérico\n",
        "\n",
        "def convertir_a_entero(Peso):\n",
        "    return int(Peso)\n",
        "Edad=\"234abc\"\n",
        "resultado = convertir_a_entero(Peso)\n",
        "print(f\"Resultado: {resultado}\")"
      ],
      "metadata": {
        "colab": {
          "base_uri": "https://localhost:8080/",
          "height": 315
        },
        "id": "946cxnctpHlT",
        "outputId": "2a0c58cf-64c9-4888-fcff-104bc81ae5a2"
      },
      "execution_count": null,
      "outputs": [
        {
          "output_type": "error",
          "ename": "ValueError",
          "evalue": "invalid literal for int() with base 10: '40@'",
          "traceback": [
            "\u001b[0;31m---------------------------------------------------------------------------\u001b[0m",
            "\u001b[0;31mValueError\u001b[0m                                Traceback (most recent call last)",
            "\u001b[0;32m<ipython-input-123-9ef80e3c3381>\u001b[0m in \u001b[0;36m<cell line: 6>\u001b[0;34m()\u001b[0m\n\u001b[1;32m      4\u001b[0m     \u001b[0;32mreturn\u001b[0m \u001b[0mint\u001b[0m\u001b[0;34m(\u001b[0m\u001b[0mPeso\u001b[0m\u001b[0;34m)\u001b[0m\u001b[0;34m\u001b[0m\u001b[0;34m\u001b[0m\u001b[0m\n\u001b[1;32m      5\u001b[0m \u001b[0mEdad\u001b[0m\u001b[0;34m=\u001b[0m\u001b[0;34m\"234abc\"\u001b[0m\u001b[0;34m\u001b[0m\u001b[0;34m\u001b[0m\u001b[0m\n\u001b[0;32m----> 6\u001b[0;31m \u001b[0mresultado\u001b[0m \u001b[0;34m=\u001b[0m \u001b[0mconvertir_a_entero\u001b[0m\u001b[0;34m(\u001b[0m\u001b[0mPeso\u001b[0m\u001b[0;34m)\u001b[0m\u001b[0;34m\u001b[0m\u001b[0;34m\u001b[0m\u001b[0m\n\u001b[0m\u001b[1;32m      7\u001b[0m \u001b[0mprint\u001b[0m\u001b[0;34m(\u001b[0m\u001b[0;34mf\"Resultado: {resultado}\"\u001b[0m\u001b[0;34m)\u001b[0m\u001b[0;34m\u001b[0m\u001b[0;34m\u001b[0m\u001b[0m\n",
            "\u001b[0;32m<ipython-input-123-9ef80e3c3381>\u001b[0m in \u001b[0;36mconvertir_a_entero\u001b[0;34m(Peso)\u001b[0m\n\u001b[1;32m      2\u001b[0m \u001b[0;34m\u001b[0m\u001b[0m\n\u001b[1;32m      3\u001b[0m \u001b[0;32mdef\u001b[0m \u001b[0mconvertir_a_entero\u001b[0m\u001b[0;34m(\u001b[0m\u001b[0mPeso\u001b[0m\u001b[0;34m)\u001b[0m\u001b[0;34m:\u001b[0m\u001b[0;34m\u001b[0m\u001b[0;34m\u001b[0m\u001b[0m\n\u001b[0;32m----> 4\u001b[0;31m     \u001b[0;32mreturn\u001b[0m \u001b[0mint\u001b[0m\u001b[0;34m(\u001b[0m\u001b[0mPeso\u001b[0m\u001b[0;34m)\u001b[0m\u001b[0;34m\u001b[0m\u001b[0;34m\u001b[0m\u001b[0m\n\u001b[0m\u001b[1;32m      5\u001b[0m \u001b[0mEdad\u001b[0m\u001b[0;34m=\u001b[0m\u001b[0;34m\"234abc\"\u001b[0m\u001b[0;34m\u001b[0m\u001b[0;34m\u001b[0m\u001b[0m\n\u001b[1;32m      6\u001b[0m \u001b[0mresultado\u001b[0m \u001b[0;34m=\u001b[0m \u001b[0mconvertir_a_entero\u001b[0m\u001b[0;34m(\u001b[0m\u001b[0mPeso\u001b[0m\u001b[0;34m)\u001b[0m\u001b[0;34m\u001b[0m\u001b[0;34m\u001b[0m\u001b[0m\n",
            "\u001b[0;31mValueError\u001b[0m: invalid literal for int() with base 10: '40@'"
          ]
        }
      ]
    },
    {
      "cell_type": "code",
      "source": [
        "#NameError: el nombre de variable o función no es correcto\n",
        "\n",
        "def convertir_a_entero(y):\n",
        " return int(y)\n",
        "Age=\"234abc\"\n",
        "resultado = convertir_a_entero(y)\n",
        "print(f\"Resultado: {resultado}\")"
      ],
      "metadata": {
        "colab": {
          "base_uri": "https://localhost:8080/",
          "height": 193
        },
        "id": "V8pC1HCEsEGw",
        "outputId": "f038d499-2b32-4f60-96f3-6d79c0a634b2"
      },
      "execution_count": null,
      "outputs": [
        {
          "output_type": "error",
          "ename": "NameError",
          "evalue": "name 'y' is not defined",
          "traceback": [
            "\u001b[0;31m---------------------------------------------------------------------------\u001b[0m",
            "\u001b[0;31mNameError\u001b[0m                                 Traceback (most recent call last)",
            "\u001b[0;32m<ipython-input-130-b40b7e83309e>\u001b[0m in \u001b[0;36m<cell line: 6>\u001b[0;34m()\u001b[0m\n\u001b[1;32m      4\u001b[0m  \u001b[0;32mreturn\u001b[0m \u001b[0mint\u001b[0m\u001b[0;34m(\u001b[0m\u001b[0my\u001b[0m\u001b[0;34m)\u001b[0m\u001b[0;34m\u001b[0m\u001b[0;34m\u001b[0m\u001b[0m\n\u001b[1;32m      5\u001b[0m \u001b[0mAge\u001b[0m\u001b[0;34m=\u001b[0m\u001b[0;34m\"234abc\"\u001b[0m\u001b[0;34m\u001b[0m\u001b[0;34m\u001b[0m\u001b[0m\n\u001b[0;32m----> 6\u001b[0;31m \u001b[0mresultado\u001b[0m \u001b[0;34m=\u001b[0m \u001b[0mconvertir_a_entero\u001b[0m\u001b[0;34m(\u001b[0m\u001b[0my\u001b[0m\u001b[0;34m)\u001b[0m\u001b[0;34m\u001b[0m\u001b[0;34m\u001b[0m\u001b[0m\n\u001b[0m\u001b[1;32m      7\u001b[0m \u001b[0mprint\u001b[0m\u001b[0;34m(\u001b[0m\u001b[0;34mf\"Resultado: {resultado}\"\u001b[0m\u001b[0;34m)\u001b[0m\u001b[0;34m\u001b[0m\u001b[0;34m\u001b[0m\u001b[0m\n",
            "\u001b[0;31mNameError\u001b[0m: name 'y' is not defined"
          ]
        }
      ]
    },
    {
      "cell_type": "code",
      "source": [
        "#SyntaxError: la declaración de la estructura no es acorde\n",
        "def expresion(a)\n",
        "    return a >= 2\n",
        "\n",
        "valor = float(input('Ingrese primer valor:'))\n",
        "expresion(valor)"
      ],
      "metadata": {
        "colab": {
          "base_uri": "https://localhost:8080/",
          "height": 106
        },
        "id": "mAAMRl-VudAN",
        "outputId": "0f2b641a-3e86-43ae-f884-18109f144ce5"
      },
      "execution_count": null,
      "outputs": [
        {
          "output_type": "error",
          "ename": "SyntaxError",
          "evalue": "expected ':' (<ipython-input-132-9868eafc1618>, line 2)",
          "traceback": [
            "\u001b[0;36m  File \u001b[0;32m\"<ipython-input-132-9868eafc1618>\"\u001b[0;36m, line \u001b[0;32m2\u001b[0m\n\u001b[0;31m    def expresion(a)\u001b[0m\n\u001b[0m                    ^\u001b[0m\n\u001b[0;31mSyntaxError\u001b[0m\u001b[0;31m:\u001b[0m expected ':'\n"
          ]
        }
      ]
    },
    {
      "cell_type": "code",
      "source": [
        "#TypeError: problemas para operaciones con un tipo de dato no esperado\n",
        "\n",
        "def dividir(a, b):\n",
        "    return a / b\n",
        "\n",
        "resultado = dividir(10, 2, 1)\n",
        "print(f\"Resultado: {resultado}\")"
      ],
      "metadata": {
        "colab": {
          "base_uri": "https://localhost:8080/",
          "height": 193
        },
        "id": "8LcpSqAUu8el",
        "outputId": "55d96e38-4f20-41d8-8aa9-ae991706e2c7"
      },
      "execution_count": null,
      "outputs": [
        {
          "output_type": "error",
          "ename": "TypeError",
          "evalue": "dividir() takes 2 positional arguments but 3 were given",
          "traceback": [
            "\u001b[0;31m---------------------------------------------------------------------------\u001b[0m",
            "\u001b[0;31mTypeError\u001b[0m                                 Traceback (most recent call last)",
            "\u001b[0;32m<ipython-input-137-117996e2a543>\u001b[0m in \u001b[0;36m<cell line: 6>\u001b[0;34m()\u001b[0m\n\u001b[1;32m      4\u001b[0m     \u001b[0;32mreturn\u001b[0m \u001b[0ma\u001b[0m \u001b[0;34m/\u001b[0m \u001b[0mb\u001b[0m\u001b[0;34m\u001b[0m\u001b[0;34m\u001b[0m\u001b[0m\n\u001b[1;32m      5\u001b[0m \u001b[0;34m\u001b[0m\u001b[0m\n\u001b[0;32m----> 6\u001b[0;31m \u001b[0mresultado\u001b[0m \u001b[0;34m=\u001b[0m \u001b[0mdividir\u001b[0m\u001b[0;34m(\u001b[0m\u001b[0;36m10\u001b[0m\u001b[0;34m,\u001b[0m \u001b[0;36m2\u001b[0m\u001b[0;34m,\u001b[0m \u001b[0;36m1\u001b[0m\u001b[0;34m)\u001b[0m\u001b[0;34m\u001b[0m\u001b[0;34m\u001b[0m\u001b[0m\n\u001b[0m\u001b[1;32m      7\u001b[0m \u001b[0mprint\u001b[0m\u001b[0;34m(\u001b[0m\u001b[0;34mf\"Resultado: {resultado}\"\u001b[0m\u001b[0;34m)\u001b[0m\u001b[0;34m\u001b[0m\u001b[0;34m\u001b[0m\u001b[0m\n",
            "\u001b[0;31mTypeError\u001b[0m: dividir() takes 2 positional arguments but 3 were given"
          ]
        }
      ]
    },
    {
      "cell_type": "code",
      "source": [
        "#ZeroDivisionError: se trata de ejecutar una división por cero\n",
        "\n",
        "def dividir(a, b):\n",
        "    return a / b\n",
        "\n",
        "resultado = dividir(10, 0)\n",
        "print(f\"Resultado: {resultado}\")"
      ],
      "metadata": {
        "colab": {
          "base_uri": "https://localhost:8080/",
          "height": 315
        },
        "id": "8q-Qxl2MvgOe",
        "outputId": "c6923355-126d-4e73-f14f-87db41e83c79"
      },
      "execution_count": null,
      "outputs": [
        {
          "output_type": "error",
          "ename": "ZeroDivisionError",
          "evalue": "division by zero",
          "traceback": [
            "\u001b[0;31m---------------------------------------------------------------------------\u001b[0m",
            "\u001b[0;31mZeroDivisionError\u001b[0m                         Traceback (most recent call last)",
            "\u001b[0;32m<ipython-input-138-874d2a75bcea>\u001b[0m in \u001b[0;36m<cell line: 6>\u001b[0;34m()\u001b[0m\n\u001b[1;32m      4\u001b[0m     \u001b[0;32mreturn\u001b[0m \u001b[0ma\u001b[0m \u001b[0;34m/\u001b[0m \u001b[0mb\u001b[0m\u001b[0;34m\u001b[0m\u001b[0;34m\u001b[0m\u001b[0m\n\u001b[1;32m      5\u001b[0m \u001b[0;34m\u001b[0m\u001b[0m\n\u001b[0;32m----> 6\u001b[0;31m \u001b[0mresultado\u001b[0m \u001b[0;34m=\u001b[0m \u001b[0mdividir\u001b[0m\u001b[0;34m(\u001b[0m\u001b[0;36m10\u001b[0m\u001b[0;34m,\u001b[0m \u001b[0;36m0\u001b[0m\u001b[0;34m)\u001b[0m\u001b[0;34m\u001b[0m\u001b[0;34m\u001b[0m\u001b[0m\n\u001b[0m\u001b[1;32m      7\u001b[0m \u001b[0mprint\u001b[0m\u001b[0;34m(\u001b[0m\u001b[0;34mf\"Resultado: {resultado}\"\u001b[0m\u001b[0;34m)\u001b[0m\u001b[0;34m\u001b[0m\u001b[0;34m\u001b[0m\u001b[0m\n",
            "\u001b[0;32m<ipython-input-138-874d2a75bcea>\u001b[0m in \u001b[0;36mdividir\u001b[0;34m(a, b)\u001b[0m\n\u001b[1;32m      2\u001b[0m \u001b[0;34m\u001b[0m\u001b[0m\n\u001b[1;32m      3\u001b[0m \u001b[0;32mdef\u001b[0m \u001b[0mdividir\u001b[0m\u001b[0;34m(\u001b[0m\u001b[0ma\u001b[0m\u001b[0;34m,\u001b[0m \u001b[0mb\u001b[0m\u001b[0;34m)\u001b[0m\u001b[0;34m:\u001b[0m\u001b[0;34m\u001b[0m\u001b[0;34m\u001b[0m\u001b[0m\n\u001b[0;32m----> 4\u001b[0;31m     \u001b[0;32mreturn\u001b[0m \u001b[0ma\u001b[0m \u001b[0;34m/\u001b[0m \u001b[0mb\u001b[0m\u001b[0;34m\u001b[0m\u001b[0;34m\u001b[0m\u001b[0m\n\u001b[0m\u001b[1;32m      5\u001b[0m \u001b[0;34m\u001b[0m\u001b[0m\n\u001b[1;32m      6\u001b[0m \u001b[0mresultado\u001b[0m \u001b[0;34m=\u001b[0m \u001b[0mdividir\u001b[0m\u001b[0;34m(\u001b[0m\u001b[0;36m10\u001b[0m\u001b[0;34m,\u001b[0m \u001b[0;36m0\u001b[0m\u001b[0;34m)\u001b[0m\u001b[0;34m\u001b[0m\u001b[0;34m\u001b[0m\u001b[0m\n",
            "\u001b[0;31mZeroDivisionError\u001b[0m: division by zero"
          ]
        }
      ]
    },
    {
      "cell_type": "code",
      "source": [
        "#OSError: problema del sistema, ej. el archivo especificado no existe (profe ayuda!)\n",
        "\n",
        "import os\n",
        "\n",
        "os.EX_OSFILE\n"
      ],
      "metadata": {
        "colab": {
          "base_uri": "https://localhost:8080/"
        },
        "id": "fjEh1beTwQOO",
        "outputId": "b8b6f3cf-c1a7-44c6-cf03-4d9838999fdb"
      },
      "execution_count": null,
      "outputs": [
        {
          "output_type": "execute_result",
          "data": {
            "text/plain": [
              "2"
            ]
          },
          "metadata": {},
          "execution_count": 152
        }
      ]
    },
    {
      "cell_type": "markdown",
      "metadata": {
        "id": "SUWYMDXac25x"
      },
      "source": [
        "## __3. Ejercicios algoritmos secuenciales__\n",
        "\n",
        "1. Se estima que la distancia de la tierra a el sol es de 8 minutos 19.62 segundos luz y la distancia a la luna es de 1.2813 segundos luz. Hallar la distancia en kilómetros de la tierra a estos dos cuerpos celestes.\n",
        "\n",
        "2. Escriba un programa que recibe por consola cualquier valor de distancia en segundos luz y la convierte en kilómetros\n",
        "\n",
        "3. Dados 3 puntos cualesquiera en un plano, puntos={`x1, y1, x2, y2, x3, y3`} los cuales forman un triángulo. Hacer un programa para calcular el área del triángulo (sugerencia, use la fórmula de Héron).\n",
        "\n",
        "4. Hacer un programa que recibe un valor de tiempo en segundos y muesta este tiempo en formato de horas, minutos (0-59) y segundos (0-59). Por ejemplo, si el valor ingresado es: 3662 segundos, la respuesta debe ser 1 hora (3600), 1 minuto (60) y 2 segundos.\n",
        "\n",
        "5. De la ecuación cuadrática obtener las raíces, el vértice\n",
        "\n",
        "![tiempo.jpg](data:image/jpeg;base64,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)\n"
      ]
    },
    {
      "cell_type": "markdown",
      "source": [
        "1. Se estima que la distancia de la tierra a el sol es de 8 minutos 19.62 segundos luz y la distancia a la luna es de 1.2813 segundos luz. Hallar la distancia en kilómetros de la tierra a estos dos cuerpos celestes."
      ],
      "metadata": {
        "id": "3OkCtTYj0140"
      }
    },
    {
      "cell_type": "code",
      "source": [
        "segundo_luz = 300000\n",
        "\n",
        "distancia_sol = ((8*60)+19.62)*segundo_luz\n",
        "distancia_sol\n",
        "distancia_luna = segundo_luz*1.2813\n",
        "distancia_luna\n",
        "print('la distacia de la tierra al sol en Km es: ',distancia_sol)\n",
        "print('la distacia de la tierra a la luna en Km es: ',distancia_luna)"
      ],
      "metadata": {
        "colab": {
          "base_uri": "https://localhost:8080/"
        },
        "id": "1O35JHbi038X",
        "outputId": "dac998e5-2a00-43d8-be91-e078b3dbd279"
      },
      "execution_count": null,
      "outputs": [
        {
          "output_type": "stream",
          "name": "stdout",
          "text": [
            "la distacia de la tierra al sol en Km es:  149886000.0\n",
            "la distacia de la tierra a la luna en Km es:  384390.00000000006\n"
          ]
        }
      ]
    },
    {
      "cell_type": "markdown",
      "source": [
        "2. Escriba un programa que recibe por consola cualquier valor de distancia en segundos luz y la convierte en kilómetros"
      ],
      "metadata": {
        "id": "o3Hln4FI5FKI"
      }
    },
    {
      "cell_type": "code",
      "source": [
        "#Velocidad de la Luz en km\n",
        "Segundos_luz = 300000\n",
        "valor = float(input('Ingrese valor en segundos Luz:'))\n",
        "distancia_km = valor*Segundos_luz\n",
        "print('la distancia en Km es: ',distancia_km)"
      ],
      "metadata": {
        "id": "wukeo5gL5MGK",
        "colab": {
          "base_uri": "https://localhost:8080/"
        },
        "outputId": "cfe8a1ae-23e3-4593-d354-efee36c9cfb5"
      },
      "execution_count": 170,
      "outputs": [
        {
          "output_type": "stream",
          "name": "stdout",
          "text": [
            "Ingrese valor en segundos Luz:10\n",
            "la distancia en Km es:  3000000.0\n"
          ]
        }
      ]
    }
  ]
}