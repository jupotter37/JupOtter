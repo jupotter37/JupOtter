{
 "cells": [
  {
   "cell_type": "markdown",
   "metadata": {
    "id": "AMTkGEpbMa0U"
   },
   "source": [
    "# Funkcje wbudowane w Pythonie\n",
    "\n",
    "Python ma zestaw funkcji wbudowanych, służacych ułatwieniu pracy z obiektami i srodowiskiem Pythona.\n",
    "\n",
    "- **`type(obj)`** zwraca typ obiektu\n",
    "- **`len(container)`** zwraca ilosc elementów w strukturze danych\n",
    "- **`callable(obj)`** sprawdza czy obiekt jest wykonywalny\n",
    "- **`sorted(container)`** sortuje elementy w strukturze podanej jako parametr\n",
    "- **`sum(container)`** sumuje elementy w strukturze\n",
    "- **`min(container)`** zwraca element o najmniejszej wartoci\n",
    "- **`max(container)`** zwraca element o najwiekszej wartoci\n",
    "- **`abs(number)`** wartosc bezwzględna liczby\n",
    "- **`repr(obj)`** zwraca reprezentacje obiektu w postaci string\n",
    "\n",
    "https://docs.python.org/3/library/functions.html"
   ]
  },
  {
   "cell_type": "code",
   "execution_count": 6,
   "metadata": {},
   "outputs": [
    {
     "name": "stdout",
     "output_type": "stream",
     "text": [
      "[1, 2, 2, 3, 5]\n"
     ]
    }
   ],
   "source": [
    "def jakas_funkcja(zmienna_1):\n",
    "    zmienna_1 = sorted(zmienna_1)\n",
    "    return zmienna_1\n",
    "    \n",
    "x = [1,5,3,2,2]\n",
    "print(jakas_funkcja(x))"
   ]
  },
  {
   "cell_type": "code",
   "execution_count": 7,
   "metadata": {
    "id": "Ql2X6s3qMa0V"
   },
   "outputs": [],
   "source": [
    "simple_string1 = 'jakis_napis'\n",
    "dict1 = {'jabłko': 5, 'chleb': 1}"
   ]
  },
  {
   "cell_type": "code",
   "execution_count": 8,
   "metadata": {
    "colab": {
     "base_uri": "https://localhost:8080/",
     "height": 35
    },
    "executionInfo": {
     "elapsed": 35,
     "status": "ok",
     "timestamp": 1627318609570,
     "user": {
      "displayName": "Mateusz Zimoch",
      "photoUrl": "https://lh3.googleusercontent.com/a-/AOh14GhLKHKJhMI_pTIoYkcl8z-E-V849Je8P3XxEzn2DQ=s64",
      "userId": "02738966002905530559"
     },
     "user_tz": -120
    },
    "id": "r-NtdVKAMa0V",
    "outputId": "fb2d76f3-708c-4905-831a-54c0c117c4cb"
   },
   "outputs": [
    {
     "data": {
      "text/plain": [
       "'jakis_napis'"
      ]
     },
     "execution_count": 8,
     "metadata": {},
     "output_type": "execute_result"
    }
   ],
   "source": [
    "simple_string1"
   ]
  },
  {
   "cell_type": "code",
   "execution_count": 9,
   "metadata": {
    "colab": {
     "base_uri": "https://localhost:8080/"
    },
    "executionInfo": {
     "elapsed": 33,
     "status": "ok",
     "timestamp": 1627318609571,
     "user": {
      "displayName": "Mateusz Zimoch",
      "photoUrl": "https://lh3.googleusercontent.com/a-/AOh14GhLKHKJhMI_pTIoYkcl8z-E-V849Je8P3XxEzn2DQ=s64",
      "userId": "02738966002905530559"
     },
     "user_tz": -120
    },
    "id": "29cb8iOQMa0W",
    "outputId": "31fe5b8c-642c-42c0-b2ab-c864eb60ce9b"
   },
   "outputs": [
    {
     "data": {
      "text/plain": [
       "{'jabłko': 5, 'chleb': 1}"
      ]
     },
     "execution_count": 9,
     "metadata": {},
     "output_type": "execute_result"
    }
   ],
   "source": [
    "dict1"
   ]
  },
  {
   "cell_type": "code",
   "execution_count": 10,
   "metadata": {
    "colab": {
     "base_uri": "https://localhost:8080/"
    },
    "executionInfo": {
     "elapsed": 23,
     "status": "ok",
     "timestamp": 1627318609571,
     "user": {
      "displayName": "Mateusz Zimoch",
      "photoUrl": "https://lh3.googleusercontent.com/a-/AOh14GhLKHKJhMI_pTIoYkcl8z-E-V849Je8P3XxEzn2DQ=s64",
      "userId": "02738966002905530559"
     },
     "user_tz": -120
    },
    "id": "8cqNxWK9Ma0X",
    "outputId": "80d6ce43-4dc1-428a-9697-2931ddc19faf",
    "scrolled": true
   },
   "outputs": [
    {
     "data": {
      "text/plain": [
       "str"
      ]
     },
     "execution_count": 10,
     "metadata": {},
     "output_type": "execute_result"
    }
   ],
   "source": [
    "# Typ obiektu\n",
    "type(simple_string1)"
   ]
  },
  {
   "cell_type": "code",
   "execution_count": 11,
   "metadata": {
    "colab": {
     "base_uri": "https://localhost:8080/"
    },
    "executionInfo": {
     "elapsed": 20,
     "status": "ok",
     "timestamp": 1627318609572,
     "user": {
      "displayName": "Mateusz Zimoch",
      "photoUrl": "https://lh3.googleusercontent.com/a-/AOh14GhLKHKJhMI_pTIoYkcl8z-E-V849Je8P3XxEzn2DQ=s64",
      "userId": "02738966002905530559"
     },
     "user_tz": -120
    },
    "id": "V2kqhon8Ma0X",
    "outputId": "8aa1658d-7a04-43e6-e7e4-e11c3f3d162c"
   },
   "outputs": [
    {
     "data": {
      "text/plain": [
       "dict"
      ]
     },
     "execution_count": 11,
     "metadata": {},
     "output_type": "execute_result"
    }
   ],
   "source": [
    "type(dict1)"
   ]
  },
  {
   "cell_type": "code",
   "execution_count": 12,
   "metadata": {
    "colab": {
     "base_uri": "https://localhost:8080/"
    },
    "executionInfo": {
     "elapsed": 16,
     "status": "ok",
     "timestamp": 1627318609572,
     "user": {
      "displayName": "Mateusz Zimoch",
      "photoUrl": "https://lh3.googleusercontent.com/a-/AOh14GhLKHKJhMI_pTIoYkcl8z-E-V849Je8P3XxEzn2DQ=s64",
      "userId": "02738966002905530559"
     },
     "user_tz": -120
    },
    "id": "UQprFz2IMa0Y",
    "outputId": "797e1183-3a96-4a2f-886c-ff702ef70ef6"
   },
   "outputs": [
    {
     "data": {
      "text/plain": [
       "2"
      ]
     },
     "execution_count": 12,
     "metadata": {},
     "output_type": "execute_result"
    }
   ],
   "source": [
    "# Liczba elementów w strukturze danych\n",
    "len(dict1)"
   ]
  },
  {
   "cell_type": "code",
   "execution_count": 13,
   "metadata": {
    "colab": {
     "base_uri": "https://localhost:8080/"
    },
    "executionInfo": {
     "elapsed": 506,
     "status": "ok",
     "timestamp": 1627318610069,
     "user": {
      "displayName": "Mateusz Zimoch",
      "photoUrl": "https://lh3.googleusercontent.com/a-/AOh14GhLKHKJhMI_pTIoYkcl8z-E-V849Je8P3XxEzn2DQ=s64",
      "userId": "02738966002905530559"
     },
     "user_tz": -120
    },
    "id": "owJmt5eIMa0Y",
    "outputId": "e41ffbce-1d3f-4410-c0d2-86616fb89e28"
   },
   "outputs": [
    {
     "data": {
      "text/plain": [
       "11"
      ]
     },
     "execution_count": 13,
     "metadata": {},
     "output_type": "execute_result"
    }
   ],
   "source": [
    "len(simple_string1)"
   ]
  },
  {
   "cell_type": "code",
   "execution_count": 14,
   "metadata": {
    "colab": {
     "base_uri": "https://localhost:8080/"
    },
    "executionInfo": {
     "elapsed": 110,
     "status": "ok",
     "timestamp": 1627318610070,
     "user": {
      "displayName": "Mateusz Zimoch",
      "photoUrl": "https://lh3.googleusercontent.com/a-/AOh14GhLKHKJhMI_pTIoYkcl8z-E-V849Je8P3XxEzn2DQ=s64",
      "userId": "02738966002905530559"
     },
     "user_tz": -120
    },
    "id": "D49c9sPCMa0Z",
    "outputId": "59d596d7-b162-4d05-fce8-880ad6bafe9b"
   },
   "outputs": [
    {
     "data": {
      "text/plain": [
       "True"
      ]
     },
     "execution_count": 14,
     "metadata": {},
     "output_type": "execute_result"
    }
   ],
   "source": [
    "# Sprawdzenie wykonywalnosci\n",
    "callable(len)"
   ]
  },
  {
   "cell_type": "code",
   "execution_count": 15,
   "metadata": {
    "colab": {
     "base_uri": "https://localhost:8080/"
    },
    "executionInfo": {
     "elapsed": 104,
     "status": "ok",
     "timestamp": 1627318610071,
     "user": {
      "displayName": "Mateusz Zimoch",
      "photoUrl": "https://lh3.googleusercontent.com/a-/AOh14GhLKHKJhMI_pTIoYkcl8z-E-V849Je8P3XxEzn2DQ=s64",
      "userId": "02738966002905530559"
     },
     "user_tz": -120
    },
    "id": "p_i1nU9_Ma0Z",
    "outputId": "a1cbba86-8fd2-4261-aabe-06cee9649b30"
   },
   "outputs": [
    {
     "data": {
      "text/plain": [
       "False"
      ]
     },
     "execution_count": 15,
     "metadata": {},
     "output_type": "execute_result"
    }
   ],
   "source": [
    "callable(dict1)"
   ]
  },
  {
   "cell_type": "code",
   "execution_count": 1,
   "metadata": {
    "colab": {
     "base_uri": "https://localhost:8080/"
    },
    "executionInfo": {
     "elapsed": 99,
     "status": "ok",
     "timestamp": 1627318610071,
     "user": {
      "displayName": "Mateusz Zimoch",
      "photoUrl": "https://lh3.googleusercontent.com/a-/AOh14GhLKHKJhMI_pTIoYkcl8z-E-V849Je8P3XxEzn2DQ=s64",
      "userId": "02738966002905530559"
     },
     "user_tz": -120
    },
    "id": "cAZvGLDXMa0Z",
    "outputId": "96c80ab7-6fc2-4833-92c0-fe3e6378eb06"
   },
   "outputs": [
    {
     "data": {
      "text/plain": [
       "[-3, 1, 2, 3.6, 5, 7, 10]"
      ]
     },
     "execution_count": 1,
     "metadata": {},
     "output_type": "execute_result"
    }
   ],
   "source": [
    "# Posortowanie\n",
    "sorted([10, 1, 3.6, 7, 5, 2, -3])"
   ]
  },
  {
   "cell_type": "code",
   "execution_count": 17,
   "metadata": {
    "colab": {
     "base_uri": "https://localhost:8080/"
    },
    "executionInfo": {
     "elapsed": 96,
     "status": "ok",
     "timestamp": 1627318610073,
     "user": {
      "displayName": "Mateusz Zimoch",
      "photoUrl": "https://lh3.googleusercontent.com/a-/AOh14GhLKHKJhMI_pTIoYkcl8z-E-V849Je8P3XxEzn2DQ=s64",
      "userId": "02738966002905530559"
     },
     "user_tz": -120
    },
    "id": "QH4IWBu5Ma0a",
    "outputId": "51ed3fdc-c4c8-449f-9c29-b6e8fe4c3197"
   },
   "outputs": [
    {
     "data": {
      "text/plain": [
       "[10, 7, 5, 3.6, 2, 1, -3]"
      ]
     },
     "execution_count": 17,
     "metadata": {},
     "output_type": "execute_result"
    }
   ],
   "source": [
    "# Posortowanie malejąco\n",
    "sorted([10, 1, 3.6, 7, 5, 2, -3], reverse = True)"
   ]
  },
  {
   "cell_type": "code",
   "execution_count": 1,
   "metadata": {
    "colab": {
     "base_uri": "https://localhost:8080/"
    },
    "executionInfo": {
     "elapsed": 92,
     "status": "ok",
     "timestamp": 1627318610074,
     "user": {
      "displayName": "Mateusz Zimoch",
      "photoUrl": "https://lh3.googleusercontent.com/a-/AOh14GhLKHKJhMI_pTIoYkcl8z-E-V849Je8P3XxEzn2DQ=s64",
      "userId": "02738966002905530559"
     },
     "user_tz": -120
    },
    "id": "gKET_5XCOAum",
    "outputId": "bf063fcf-a0f3-47cd-9839-32cf0c3ca1d2"
   },
   "outputs": [
    {
     "name": "stdout",
     "output_type": "stream",
     "text": [
      "<built-in method count of list object at 0x7fe33c666280>\n"
     ]
    },
    {
     "data": {
      "text/plain": [
       "[3, 2, 2, 1, 1, 1]"
      ]
     },
     "execution_count": 1,
     "metadata": {},
     "output_type": "execute_result"
    }
   ],
   "source": [
    "moja_lista = [1,1,1,2,2,3]\n",
    "print(moja_lista.count)\n",
    "sorted(moja_lista, key=moja_lista.count)"
   ]
  },
  {
   "cell_type": "code",
   "execution_count": 2,
   "metadata": {
    "colab": {
     "base_uri": "https://localhost:8080/"
    },
    "executionInfo": {
     "elapsed": 89,
     "status": "ok",
     "timestamp": 1627318610075,
     "user": {
      "displayName": "Mateusz Zimoch",
      "photoUrl": "https://lh3.googleusercontent.com/a-/AOh14GhLKHKJhMI_pTIoYkcl8z-E-V849Je8P3XxEzn2DQ=s64",
      "userId": "02738966002905530559"
     },
     "user_tz": -120
    },
    "id": "baCBO3tTMa0a",
    "outputId": "68ede3cd-77b8-42ce-fb1a-8f3639bd988a"
   },
   "outputs": [
    {
     "data": {
      "text/plain": [
       "['California', 'Chicago', 'ants', 'cats', 'dogs', 'mice', 'zebras']"
      ]
     },
     "execution_count": 2,
     "metadata": {},
     "output_type": "execute_result"
    }
   ],
   "source": [
    "# Sortowanie napisów\n",
    "sorted(['dogs', 'cats', 'zebras', 'Chicago', 'California', 'ants', 'mice'])"
   ]
  },
  {
   "cell_type": "code",
   "execution_count": 21,
   "metadata": {
    "id": "ZYlQ237DMa0a"
   },
   "outputs": [
    {
     "name": "stdout",
     "output_type": "stream",
     "text": [
      "['California', 'Chicago', 'ants', 'cats', 'dogs', 'mice', 'zebras']\n"
     ]
    }
   ],
   "source": [
    "mylist = ['dogs', 'cats', 'zebras', 'Chicago', 'California', 'ants', 'mice']\n",
    "mylist = sorted(mylist)\n",
    "print(mylist)"
   ]
  },
  {
   "cell_type": "code",
   "execution_count": 22,
   "metadata": {
    "colab": {
     "base_uri": "https://localhost:8080/"
    },
    "executionInfo": {
     "elapsed": 82,
     "status": "ok",
     "timestamp": 1627318610078,
     "user": {
      "displayName": "Mateusz Zimoch",
      "photoUrl": "https://lh3.googleusercontent.com/a-/AOh14GhLKHKJhMI_pTIoYkcl8z-E-V849Je8P3XxEzn2DQ=s64",
      "userId": "02738966002905530559"
     },
     "user_tz": -120
    },
    "id": "FXBfbfqGMa0b",
    "outputId": "a43a9fc9-2508-401b-df36-de6084af3830"
   },
   "outputs": [
    {
     "data": {
      "text/plain": [
       "25.6"
      ]
     },
     "execution_count": 22,
     "metadata": {},
     "output_type": "execute_result"
    }
   ],
   "source": [
    "# Suma elementów\n",
    "list_to_sum = [10, 1, 3.6, 7, 5, 2, -3]\n",
    "sum(list_to_sum)"
   ]
  },
  {
   "cell_type": "code",
   "execution_count": 23,
   "metadata": {
    "colab": {
     "base_uri": "https://localhost:8080/"
    },
    "executionInfo": {
     "elapsed": 74,
     "status": "ok",
     "timestamp": 1627318610080,
     "user": {
      "displayName": "Mateusz Zimoch",
      "photoUrl": "https://lh3.googleusercontent.com/a-/AOh14GhLKHKJhMI_pTIoYkcl8z-E-V849Je8P3XxEzn2DQ=s64",
      "userId": "02738966002905530559"
     },
     "user_tz": -120
    },
    "id": "pLmymneGMa0b",
    "outputId": "59ed2347-eb5c-4da9-fb9f-3c8b7858f753"
   },
   "outputs": [
    {
     "data": {
      "text/plain": [
       "[10, 1, 3.6, 7, 5, 2, -3]"
      ]
     },
     "execution_count": 23,
     "metadata": {},
     "output_type": "execute_result"
    }
   ],
   "source": [
    "list_to_sum"
   ]
  },
  {
   "cell_type": "code",
   "execution_count": 24,
   "metadata": {
    "colab": {
     "base_uri": "https://localhost:8080/"
    },
    "executionInfo": {
     "elapsed": 68,
     "status": "ok",
     "timestamp": 1627318610082,
     "user": {
      "displayName": "Mateusz Zimoch",
      "photoUrl": "https://lh3.googleusercontent.com/a-/AOh14GhLKHKJhMI_pTIoYkcl8z-E-V849Je8P3XxEzn2DQ=s64",
      "userId": "02738966002905530559"
     },
     "user_tz": -120
    },
    "id": "v2FNXivvMa0c",
    "outputId": "7dca87ce-613a-42d0-d7d0-ac110d917e04"
   },
   "outputs": [
    {
     "data": {
      "text/plain": [
       "-3"
      ]
     },
     "execution_count": 24,
     "metadata": {},
     "output_type": "execute_result"
    }
   ],
   "source": [
    "# Element minimalny\n",
    "min([10, 1, 3.6, 7, 5, 2, -3])"
   ]
  },
  {
   "cell_type": "code",
   "execution_count": 25,
   "metadata": {
    "colab": {
     "base_uri": "https://localhost:8080/",
     "height": 35
    },
    "executionInfo": {
     "elapsed": 67,
     "status": "ok",
     "timestamp": 1627318610085,
     "user": {
      "displayName": "Mateusz Zimoch",
      "photoUrl": "https://lh3.googleusercontent.com/a-/AOh14GhLKHKJhMI_pTIoYkcl8z-E-V849Je8P3XxEzn2DQ=s64",
      "userId": "02738966002905530559"
     },
     "user_tz": -120
    },
    "id": "-elVq9pOMa0c",
    "outputId": "6874c3a8-9bd6-4746-8ed8-562199c3fa78"
   },
   "outputs": [
    {
     "data": {
      "text/plain": [
       "'G'"
      ]
     },
     "execution_count": 25,
     "metadata": {},
     "output_type": "execute_result"
    }
   ],
   "source": [
    "# Minimalny element w przypadku znaków\n",
    "min(['G', 'z', 'a', 'y', 'Z'])"
   ]
  },
  {
   "cell_type": "code",
   "execution_count": 26,
   "metadata": {
    "colab": {
     "base_uri": "https://localhost:8080/"
    },
    "executionInfo": {
     "elapsed": 67,
     "status": "ok",
     "timestamp": 1627318610086,
     "user": {
      "displayName": "Mateusz Zimoch",
      "photoUrl": "https://lh3.googleusercontent.com/a-/AOh14GhLKHKJhMI_pTIoYkcl8z-E-V849Je8P3XxEzn2DQ=s64",
      "userId": "02738966002905530559"
     },
     "user_tz": -120
    },
    "id": "ZEEGj5t8Ma0c",
    "outputId": "3ea3ff54-89e9-4e1f-be86-4b715e45057d"
   },
   "outputs": [
    {
     "data": {
      "text/plain": [
       "10"
      ]
     },
     "execution_count": 26,
     "metadata": {},
     "output_type": "execute_result"
    }
   ],
   "source": [
    "# Element maksymalny\n",
    "max([10, 1, 3.6, 7, 5, 2, -3])"
   ]
  },
  {
   "cell_type": "code",
   "execution_count": 30,
   "metadata": {
    "colab": {
     "base_uri": "https://localhost:8080/",
     "height": 35
    },
    "executionInfo": {
     "elapsed": 65,
     "status": "ok",
     "timestamp": 1627318610088,
     "user": {
      "displayName": "Mateusz Zimoch",
      "photoUrl": "https://lh3.googleusercontent.com/a-/AOh14GhLKHKJhMI_pTIoYkcl8z-E-V849Je8P3XxEzn2DQ=s64",
      "userId": "02738966002905530559"
     },
     "user_tz": -120
    },
    "id": "WmX1loiFMa0d",
    "outputId": "cbb36fa1-103c-4691-e57d-afa979c70a19"
   },
   "outputs": [
    {
     "data": {
      "text/plain": [
       "'s'"
      ]
     },
     "execution_count": 30,
     "metadata": {},
     "output_type": "execute_result"
    }
   ],
   "source": [
    "max('gibberish')"
   ]
  },
  {
   "cell_type": "code",
   "execution_count": 31,
   "metadata": {
    "colab": {
     "base_uri": "https://localhost:8080/"
    },
    "executionInfo": {
     "elapsed": 65,
     "status": "ok",
     "timestamp": 1627318610089,
     "user": {
      "displayName": "Mateusz Zimoch",
      "photoUrl": "https://lh3.googleusercontent.com/a-/AOh14GhLKHKJhMI_pTIoYkcl8z-E-V849Je8P3XxEzn2DQ=s64",
      "userId": "02738966002905530559"
     },
     "user_tz": -120
    },
    "id": "8QrwHRDEMa0d",
    "outputId": "e417d5c9-3cdb-4952-a4bb-339aadd3a76e"
   },
   "outputs": [
    {
     "data": {
      "text/plain": [
       "10"
      ]
     },
     "execution_count": 31,
     "metadata": {},
     "output_type": "execute_result"
    }
   ],
   "source": [
    "# Wartosc bezwzględna\n",
    "abs(10)"
   ]
  },
  {
   "cell_type": "code",
   "execution_count": 32,
   "metadata": {
    "colab": {
     "base_uri": "https://localhost:8080/"
    },
    "executionInfo": {
     "elapsed": 61,
     "status": "ok",
     "timestamp": 1627318610089,
     "user": {
      "displayName": "Mateusz Zimoch",
      "photoUrl": "https://lh3.googleusercontent.com/a-/AOh14GhLKHKJhMI_pTIoYkcl8z-E-V849Je8P3XxEzn2DQ=s64",
      "userId": "02738966002905530559"
     },
     "user_tz": -120
    },
    "id": "3kQXMvwBMa0d",
    "outputId": "c1a1b44e-8804-495e-f530-4f09a20b503c"
   },
   "outputs": [
    {
     "data": {
      "text/plain": [
       "12"
      ]
     },
     "execution_count": 32,
     "metadata": {},
     "output_type": "execute_result"
    }
   ],
   "source": [
    "# Wartosc bezwzględna\n",
    "abs(-12)"
   ]
  },
  {
   "cell_type": "code",
   "execution_count": 33,
   "metadata": {
    "colab": {
     "base_uri": "https://localhost:8080/"
    },
    "executionInfo": {
     "elapsed": 56,
     "status": "ok",
     "timestamp": 1627318610090,
     "user": {
      "displayName": "Mateusz Zimoch",
      "photoUrl": "https://lh3.googleusercontent.com/a-/AOh14GhLKHKJhMI_pTIoYkcl8z-E-V849Je8P3XxEzn2DQ=s64",
      "userId": "02738966002905530559"
     },
     "user_tz": -120
    },
    "id": "xRBVeJ0PMa0d",
    "outputId": "51f92c88-0d2f-4ed0-a730-508ef5e3d387"
   },
   "outputs": [
    {
     "data": {
      "text/plain": [
       "{'jabłko': 5, 'chleb': 1}"
      ]
     },
     "execution_count": 33,
     "metadata": {},
     "output_type": "execute_result"
    }
   ],
   "source": [
    "dict1"
   ]
  },
  {
   "cell_type": "code",
   "execution_count": 34,
   "metadata": {
    "colab": {
     "base_uri": "https://localhost:8080/"
    },
    "executionInfo": {
     "elapsed": 50,
     "status": "ok",
     "timestamp": 1627318610091,
     "user": {
      "displayName": "Mateusz Zimoch",
      "photoUrl": "https://lh3.googleusercontent.com/a-/AOh14GhLKHKJhMI_pTIoYkcl8z-E-V849Je8P3XxEzn2DQ=s64",
      "userId": "02738966002905530559"
     },
     "user_tz": -120
    },
    "id": "JlH5JbvBMa0e",
    "outputId": "7223f773-ba0a-437a-e158-2fc9d0e5a594"
   },
   "outputs": [
    {
     "data": {
      "text/plain": [
       "dict"
      ]
     },
     "execution_count": 34,
     "metadata": {},
     "output_type": "execute_result"
    }
   ],
   "source": [
    "type(dict1)"
   ]
  },
  {
   "cell_type": "code",
   "execution_count": 37,
   "metadata": {
    "colab": {
     "base_uri": "https://localhost:8080/"
    },
    "executionInfo": {
     "elapsed": 502,
     "status": "ok",
     "timestamp": 1627318610550,
     "user": {
      "displayName": "Mateusz Zimoch",
      "photoUrl": "https://lh3.googleusercontent.com/a-/AOh14GhLKHKJhMI_pTIoYkcl8z-E-V849Je8P3XxEzn2DQ=s64",
      "userId": "02738966002905530559"
     },
     "user_tz": -120
    },
    "id": "xLVWLjFQMa0e",
    "outputId": "110f7d53-b9dc-42d0-e4bc-a9004d860cf3",
    "scrolled": true
   },
   "outputs": [
    {
     "name": "stdout",
     "output_type": "stream",
     "text": [
      "'\"{\\'jabłko\\': 5, \\'chleb\\': 1}\"'\n"
     ]
    },
    {
     "data": {
      "text/plain": [
       "'\"{\\\\\\''"
      ]
     },
     "execution_count": 37,
     "metadata": {},
     "output_type": "execute_result"
    }
   ],
   "source": [
    "# Reprezentacja obiektu w postaci string\n",
    "dict1 = repr(dict1)\n",
    "print(dict1)\n",
    "type(dict1)"
   ]
  },
  {
   "cell_type": "code",
   "execution_count": 38,
   "metadata": {
    "colab": {
     "base_uri": "https://localhost:8080/"
    },
    "executionInfo": {
     "elapsed": 162,
     "status": "ok",
     "timestamp": 1627318610550,
     "user": {
      "displayName": "Mateusz Zimoch",
      "photoUrl": "https://lh3.googleusercontent.com/a-/AOh14GhLKHKJhMI_pTIoYkcl8z-E-V849Je8P3XxEzn2DQ=s64",
      "userId": "02738966002905530559"
     },
     "user_tz": -120
    },
    "id": "eDAfjGNNQxFs",
    "outputId": "4baed96b-6d19-43a3-ff4b-02ab41cb9e8b"
   },
   "outputs": [
    {
     "data": {
      "text/plain": [
       "dict"
      ]
     },
     "execution_count": 38,
     "metadata": {},
     "output_type": "execute_result"
    }
   ],
   "source": [
    "dict1 = {'jabłko': 5, 'chleb': 1}\n",
    "dict1 = repr(dict1)\n",
    "dict1 = eval(dict1)\n",
    "type(dict1)"
   ]
  },
  {
   "cell_type": "code",
   "execution_count": 39,
   "metadata": {
    "colab": {
     "base_uri": "https://localhost:8080/"
    },
    "executionInfo": {
     "elapsed": 156,
     "status": "ok",
     "timestamp": 1627318610551,
     "user": {
      "displayName": "Mateusz Zimoch",
      "photoUrl": "https://lh3.googleusercontent.com/a-/AOh14GhLKHKJhMI_pTIoYkcl8z-E-V849Je8P3XxEzn2DQ=s64",
      "userId": "02738966002905530559"
     },
     "user_tz": -120
    },
    "id": "6z3E3OQeMa0e",
    "outputId": "c439ba8f-9682-495b-adfd-7adb460b057d"
   },
   "outputs": [
    {
     "name": "stdout",
     "output_type": "stream",
     "text": [
      "<class 'dict'>\n",
      "<class 'str'>\n"
     ]
    }
   ],
   "source": [
    "print(type(dict1))\n",
    "print(type(repr(dict1)))"
   ]
  },
  {
   "cell_type": "markdown",
   "metadata": {
    "id": "tkhe7TdMMa0e"
   },
   "source": [
    "### all()\n",
    "The all() function returns True if all items in an iterable are true, otherwise it returns False.\n",
    "\n",
    "If the iterable object is empty, the all() function also returns True."
   ]
  },
  {
   "cell_type": "code",
   "execution_count": 40,
   "metadata": {
    "colab": {
     "base_uri": "https://localhost:8080/"
    },
    "executionInfo": {
     "elapsed": 152,
     "status": "ok",
     "timestamp": 1627318610552,
     "user": {
      "displayName": "Mateusz Zimoch",
      "photoUrl": "https://lh3.googleusercontent.com/a-/AOh14GhLKHKJhMI_pTIoYkcl8z-E-V849Je8P3XxEzn2DQ=s64",
      "userId": "02738966002905530559"
     },
     "user_tz": -120
    },
    "id": "5LcFjY7XMa0f",
    "outputId": "1f78c160-b3a2-41d0-d53b-06c5ffc86939"
   },
   "outputs": [
    {
     "data": {
      "text/plain": [
       "True"
      ]
     },
     "execution_count": 40,
     "metadata": {},
     "output_type": "execute_result"
    }
   ],
   "source": [
    "mylist = [True, True, True]\n",
    "x = all(mylist)\n",
    "x"
   ]
  },
  {
   "cell_type": "code",
   "execution_count": 41,
   "metadata": {
    "colab": {
     "base_uri": "https://localhost:8080/"
    },
    "executionInfo": {
     "elapsed": 147,
     "status": "ok",
     "timestamp": 1627318610552,
     "user": {
      "displayName": "Mateusz Zimoch",
      "photoUrl": "https://lh3.googleusercontent.com/a-/AOh14GhLKHKJhMI_pTIoYkcl8z-E-V849Je8P3XxEzn2DQ=s64",
      "userId": "02738966002905530559"
     },
     "user_tz": -120
    },
    "id": "KW0CWVNaMa0f",
    "outputId": "76e55d3e-9465-4d74-99fe-5a8d2d7cfa71"
   },
   "outputs": [
    {
     "data": {
      "text/plain": [
       "False"
      ]
     },
     "execution_count": 41,
     "metadata": {},
     "output_type": "execute_result"
    }
   ],
   "source": [
    "mylist = [0, 2, 1]\n",
    "x = all(mylist)\n",
    "x"
   ]
  },
  {
   "cell_type": "code",
   "execution_count": 42,
   "metadata": {
    "colab": {
     "base_uri": "https://localhost:8080/"
    },
    "executionInfo": {
     "elapsed": 143,
     "status": "ok",
     "timestamp": 1627318610552,
     "user": {
      "displayName": "Mateusz Zimoch",
      "photoUrl": "https://lh3.googleusercontent.com/a-/AOh14GhLKHKJhMI_pTIoYkcl8z-E-V849Je8P3XxEzn2DQ=s64",
      "userId": "02738966002905530559"
     },
     "user_tz": -120
    },
    "id": "7HcUjULmMa0f",
    "outputId": "88eb34a1-cb2b-48ad-a992-be776efaed15"
   },
   "outputs": [
    {
     "data": {
      "text/plain": [
       "False"
      ]
     },
     "execution_count": 42,
     "metadata": {},
     "output_type": "execute_result"
    }
   ],
   "source": [
    "mytuple = (0, True, False)\n",
    "x = all(mytuple)\n",
    "x"
   ]
  },
  {
   "cell_type": "code",
   "execution_count": 43,
   "metadata": {
    "colab": {
     "base_uri": "https://localhost:8080/"
    },
    "executionInfo": {
     "elapsed": 141,
     "status": "ok",
     "timestamp": 1627318610555,
     "user": {
      "displayName": "Mateusz Zimoch",
      "photoUrl": "https://lh3.googleusercontent.com/a-/AOh14GhLKHKJhMI_pTIoYkcl8z-E-V849Je8P3XxEzn2DQ=s64",
      "userId": "02738966002905530559"
     },
     "user_tz": -120
    },
    "id": "i4lwxh8XMa0g",
    "outputId": "8195a7b8-b3b4-427c-dcf5-90ab0a5a0344"
   },
   "outputs": [
    {
     "name": "stdout",
     "output_type": "stream",
     "text": [
      "{1}\n"
     ]
    },
    {
     "data": {
      "text/plain": [
       "True"
      ]
     },
     "execution_count": 43,
     "metadata": {},
     "output_type": "execute_result"
    }
   ],
   "source": [
    "myset = {1, 1, 1}\n",
    "x = all(myset)\n",
    "print(myset)\n",
    "x"
   ]
  },
  {
   "cell_type": "code",
   "execution_count": 45,
   "metadata": {
    "colab": {
     "base_uri": "https://localhost:8080/"
    },
    "executionInfo": {
     "elapsed": 137,
     "status": "ok",
     "timestamp": 1627318610555,
     "user": {
      "displayName": "Mateusz Zimoch",
      "photoUrl": "https://lh3.googleusercontent.com/a-/AOh14GhLKHKJhMI_pTIoYkcl8z-E-V849Je8P3XxEzn2DQ=s64",
      "userId": "02738966002905530559"
     },
     "user_tz": -120
    },
    "id": "6vZJ2MFWMa0g",
    "outputId": "13452d28-3cb7-4a19-d5c9-1f1529222a12"
   },
   "outputs": [
    {
     "data": {
      "text/plain": [
       "True"
      ]
     },
     "execution_count": 45,
     "metadata": {},
     "output_type": "execute_result"
    }
   ],
   "source": [
    "my_emptylist = []\n",
    "x = all(my_emptylist)\n",
    "x"
   ]
  },
  {
   "cell_type": "markdown",
   "metadata": {
    "id": "9_UY413AMa0g"
   },
   "source": [
    "### any()\n",
    "\n",
    "The any() function returns True if any item in an iterable are true, otherwise it returns False.\n",
    "\n",
    "If the iterable object is empty, the any() function will return False."
   ]
  },
  {
   "cell_type": "code",
   "execution_count": 49,
   "metadata": {
    "colab": {
     "base_uri": "https://localhost:8080/"
    },
    "executionInfo": {
     "elapsed": 134,
     "status": "ok",
     "timestamp": 1627318610556,
     "user": {
      "displayName": "Mateusz Zimoch",
      "photoUrl": "https://lh3.googleusercontent.com/a-/AOh14GhLKHKJhMI_pTIoYkcl8z-E-V849Je8P3XxEzn2DQ=s64",
      "userId": "02738966002905530559"
     },
     "user_tz": -120
    },
    "id": "UCn6m3oQMa0g",
    "outputId": "114f5269-1c23-4c95-9633-95478be1d021"
   },
   "outputs": [
    {
     "data": {
      "text/plain": [
       "True"
      ]
     },
     "execution_count": 49,
     "metadata": {},
     "output_type": "execute_result"
    }
   ],
   "source": [
    "mytuple = (0, 1, False)\n",
    "x = any(mytuple)\n",
    "x"
   ]
  },
  {
   "cell_type": "code",
   "execution_count": 47,
   "metadata": {
    "colab": {
     "base_uri": "https://localhost:8080/"
    },
    "executionInfo": {
     "elapsed": 130,
     "status": "ok",
     "timestamp": 1627318610556,
     "user": {
      "displayName": "Mateusz Zimoch",
      "photoUrl": "https://lh3.googleusercontent.com/a-/AOh14GhLKHKJhMI_pTIoYkcl8z-E-V849Je8P3XxEzn2DQ=s64",
      "userId": "02738966002905530559"
     },
     "user_tz": -120
    },
    "id": "cx8WNLOaMa0h",
    "outputId": "83717479-2bff-469c-b4bf-642f910f97a6"
   },
   "outputs": [
    {
     "data": {
      "text/plain": [
       "True"
      ]
     },
     "execution_count": 47,
     "metadata": {},
     "output_type": "execute_result"
    }
   ],
   "source": [
    "mylist = [False, True, False]\n",
    "x = any(mylist)\n",
    "x"
   ]
  },
  {
   "cell_type": "markdown",
   "metadata": {
    "id": "znMUt6RwMa0h"
   },
   "source": [
    "### bool()\n",
    "\n",
    "The bool() function returns the boolean value of a specified object.\n",
    "\n",
    "The object will always return True, unless:\n",
    "\n",
    "The object is empty, like [], (), {}\n",
    "The object is False\n",
    "The object is 0\n",
    "The object is None"
   ]
  },
  {
   "cell_type": "code",
   "execution_count": 50,
   "metadata": {
    "colab": {
     "base_uri": "https://localhost:8080/"
    },
    "executionInfo": {
     "elapsed": 128,
     "status": "ok",
     "timestamp": 1627318610558,
     "user": {
      "displayName": "Mateusz Zimoch",
      "photoUrl": "https://lh3.googleusercontent.com/a-/AOh14GhLKHKJhMI_pTIoYkcl8z-E-V849Je8P3XxEzn2DQ=s64",
      "userId": "02738966002905530559"
     },
     "user_tz": -120
    },
    "id": "66EgBGtVMa0h",
    "outputId": "b5abaff0-a475-4e6a-8ffd-34d789fd8c6c"
   },
   "outputs": [
    {
     "data": {
      "text/plain": [
       "True"
      ]
     },
     "execution_count": 50,
     "metadata": {},
     "output_type": "execute_result"
    }
   ],
   "source": [
    "moja_nazwa = bool(1)\n",
    "moja_nazwa"
   ]
  },
  {
   "cell_type": "code",
   "execution_count": 51,
   "metadata": {
    "colab": {
     "base_uri": "https://localhost:8080/"
    },
    "executionInfo": {
     "elapsed": 128,
     "status": "ok",
     "timestamp": 1627318610564,
     "user": {
      "displayName": "Mateusz Zimoch",
      "photoUrl": "https://lh3.googleusercontent.com/a-/AOh14GhLKHKJhMI_pTIoYkcl8z-E-V849Je8P3XxEzn2DQ=s64",
      "userId": "02738966002905530559"
     },
     "user_tz": -120
    },
    "id": "dyMPKbsGMa0h",
    "outputId": "e807c683-c687-45ca-e183-258627050810"
   },
   "outputs": [
    {
     "data": {
      "text/plain": [
       "bool"
      ]
     },
     "execution_count": 51,
     "metadata": {},
     "output_type": "execute_result"
    }
   ],
   "source": [
    "type(moja_nazwa)"
   ]
  },
  {
   "cell_type": "code",
   "execution_count": 52,
   "metadata": {
    "colab": {
     "base_uri": "https://localhost:8080/"
    },
    "executionInfo": {
     "elapsed": 126,
     "status": "ok",
     "timestamp": 1627318610566,
     "user": {
      "displayName": "Mateusz Zimoch",
      "photoUrl": "https://lh3.googleusercontent.com/a-/AOh14GhLKHKJhMI_pTIoYkcl8z-E-V849Je8P3XxEzn2DQ=s64",
      "userId": "02738966002905530559"
     },
     "user_tz": -120
    },
    "id": "-WsgZg_kMa0i",
    "outputId": "819b5bc1-6c1b-4d7f-c509-3aa37aa0086d"
   },
   "outputs": [
    {
     "data": {
      "text/plain": [
       "True"
      ]
     },
     "execution_count": 52,
     "metadata": {},
     "output_type": "execute_result"
    }
   ],
   "source": [
    "x = bool('A teraz co zwróci?')\n",
    "x"
   ]
  },
  {
   "cell_type": "code",
   "execution_count": 53,
   "metadata": {
    "colab": {
     "base_uri": "https://localhost:8080/"
    },
    "executionInfo": {
     "elapsed": 122,
     "status": "ok",
     "timestamp": 1627318610568,
     "user": {
      "displayName": "Mateusz Zimoch",
      "photoUrl": "https://lh3.googleusercontent.com/a-/AOh14GhLKHKJhMI_pTIoYkcl8z-E-V849Je8P3XxEzn2DQ=s64",
      "userId": "02738966002905530559"
     },
     "user_tz": -120
    },
    "id": "1GWc5FFLMa0i",
    "outputId": "b6fc00f3-0e77-4b3c-fd05-26a5d8921eee"
   },
   "outputs": [
    {
     "data": {
      "text/plain": [
       "True"
      ]
     },
     "execution_count": 53,
     "metadata": {},
     "output_type": "execute_result"
    }
   ],
   "source": [
    "x = bool(['A teraz co zwróci?'])\n",
    "x"
   ]
  },
  {
   "cell_type": "code",
   "execution_count": 54,
   "metadata": {
    "colab": {
     "base_uri": "https://localhost:8080/"
    },
    "executionInfo": {
     "elapsed": 116,
     "status": "ok",
     "timestamp": 1627318610568,
     "user": {
      "displayName": "Mateusz Zimoch",
      "photoUrl": "https://lh3.googleusercontent.com/a-/AOh14GhLKHKJhMI_pTIoYkcl8z-E-V849Je8P3XxEzn2DQ=s64",
      "userId": "02738966002905530559"
     },
     "user_tz": -120
    },
    "id": "_5SU8tbBMa0i",
    "outputId": "def0f08a-89d9-42fe-d21d-83288d6b273c"
   },
   "outputs": [
    {
     "data": {
      "text/plain": [
       "False"
      ]
     },
     "execution_count": 54,
     "metadata": {},
     "output_type": "execute_result"
    }
   ],
   "source": [
    "x = bool([])\n",
    "x"
   ]
  },
  {
   "cell_type": "code",
   "execution_count": 55,
   "metadata": {
    "colab": {
     "base_uri": "https://localhost:8080/"
    },
    "executionInfo": {
     "elapsed": 113,
     "status": "ok",
     "timestamp": 1627318610569,
     "user": {
      "displayName": "Mateusz Zimoch",
      "photoUrl": "https://lh3.googleusercontent.com/a-/AOh14GhLKHKJhMI_pTIoYkcl8z-E-V849Je8P3XxEzn2DQ=s64",
      "userId": "02738966002905530559"
     },
     "user_tz": -120
    },
    "id": "32yqDQTFMa0i",
    "outputId": "0c3ad274-fe09-4dad-b851-75a001d76bf3"
   },
   "outputs": [
    {
     "data": {
      "text/plain": [
       "True"
      ]
     },
     "execution_count": 55,
     "metadata": {},
     "output_type": "execute_result"
    }
   ],
   "source": [
    "x = bool([0])\n",
    "x"
   ]
  },
  {
   "cell_type": "code",
   "execution_count": 56,
   "metadata": {
    "colab": {
     "base_uri": "https://localhost:8080/"
    },
    "executionInfo": {
     "elapsed": 111,
     "status": "ok",
     "timestamp": 1627318610570,
     "user": {
      "displayName": "Mateusz Zimoch",
      "photoUrl": "https://lh3.googleusercontent.com/a-/AOh14GhLKHKJhMI_pTIoYkcl8z-E-V849Je8P3XxEzn2DQ=s64",
      "userId": "02738966002905530559"
     },
     "user_tz": -120
    },
    "id": "sfppScV2Ma0j",
    "outputId": "611b535e-b29a-466a-edaa-dcd4ac2dfd17"
   },
   "outputs": [
    {
     "data": {
      "text/plain": [
       "False"
      ]
     },
     "execution_count": 56,
     "metadata": {},
     "output_type": "execute_result"
    }
   ],
   "source": [
    "x = bool(0)\n",
    "x"
   ]
  },
  {
   "cell_type": "code",
   "execution_count": 57,
   "metadata": {
    "colab": {
     "base_uri": "https://localhost:8080/"
    },
    "executionInfo": {
     "elapsed": 107,
     "status": "ok",
     "timestamp": 1627318610570,
     "user": {
      "displayName": "Mateusz Zimoch",
      "photoUrl": "https://lh3.googleusercontent.com/a-/AOh14GhLKHKJhMI_pTIoYkcl8z-E-V849Je8P3XxEzn2DQ=s64",
      "userId": "02738966002905530559"
     },
     "user_tz": -120
    },
    "id": "QWJESGOSmToM",
    "outputId": "aead84ab-33ec-4472-b01a-8e3eb00f9a08"
   },
   "outputs": [
    {
     "data": {
      "text/plain": [
       "False"
      ]
     },
     "execution_count": 57,
     "metadata": {},
     "output_type": "execute_result"
    }
   ],
   "source": [
    "x = bool(None)\n",
    "x"
   ]
  },
  {
   "cell_type": "markdown",
   "metadata": {
    "id": "g6ZdV6f9Ma0j"
   },
   "source": [
    "### eval()\n",
    "\n",
    "The eval() function evaluates the specified expression, if the expression is a legal Python statement, it will be executed."
   ]
  },
  {
   "cell_type": "code",
   "execution_count": 58,
   "metadata": {
    "colab": {
     "base_uri": "https://localhost:8080/"
    },
    "executionInfo": {
     "elapsed": 102,
     "status": "ok",
     "timestamp": 1627318610571,
     "user": {
      "displayName": "Mateusz Zimoch",
      "photoUrl": "https://lh3.googleusercontent.com/a-/AOh14GhLKHKJhMI_pTIoYkcl8z-E-V849Je8P3XxEzn2DQ=s64",
      "userId": "02738966002905530559"
     },
     "user_tz": -120
    },
    "id": "5gDbFT4TMa0j",
    "outputId": "7524f25c-a3c9-4aac-e6e7-69d251d0af56"
   },
   "outputs": [
    {
     "name": "stdout",
     "output_type": "stream",
     "text": [
      "print(55)\n",
      "55\n"
     ]
    }
   ],
   "source": [
    "x = 'print(55)'\n",
    "print(x)\n",
    "eval(x)"
   ]
  },
  {
   "cell_type": "code",
   "execution_count": 60,
   "metadata": {
    "colab": {
     "base_uri": "https://localhost:8080/"
    },
    "executionInfo": {
     "elapsed": 97,
     "status": "ok",
     "timestamp": 1627318610571,
     "user": {
      "displayName": "Mateusz Zimoch",
      "photoUrl": "https://lh3.googleusercontent.com/a-/AOh14GhLKHKJhMI_pTIoYkcl8z-E-V849Je8P3XxEzn2DQ=s64",
      "userId": "02738966002905530559"
     },
     "user_tz": -120
    },
    "id": "AeXT9AswMa0j",
    "outputId": "550d1e1e-4e2f-41fe-88bf-4197b7bc2ddb"
   },
   "outputs": [
    {
     "name": "stdout",
     "output_type": "stream",
     "text": [
      "[1, 2, 3, 4]\n",
      "<class 'str'>\n",
      "<class 'list'>\n"
     ]
    }
   ],
   "source": [
    "x = '[1,2,3,4]'\n",
    "print(eval(x))\n",
    "print(type(x))\n",
    "print(type(eval(x)))\n",
    "x = eval(x)"
   ]
  },
  {
   "cell_type": "code",
   "execution_count": 61,
   "metadata": {
    "colab": {
     "base_uri": "https://localhost:8080/"
    },
    "executionInfo": {
     "elapsed": 93,
     "status": "ok",
     "timestamp": 1627318610572,
     "user": {
      "displayName": "Mateusz Zimoch",
      "photoUrl": "https://lh3.googleusercontent.com/a-/AOh14GhLKHKJhMI_pTIoYkcl8z-E-V849Je8P3XxEzn2DQ=s64",
      "userId": "02738966002905530559"
     },
     "user_tz": -120
    },
    "id": "34p1KzevMa0k",
    "outputId": "d67d9e9b-f676-4073-82f5-d3b10c9a0c02"
   },
   "outputs": [
    {
     "name": "stdout",
     "output_type": "stream",
     "text": [
      "<class 'set'>\n"
     ]
    },
    {
     "data": {
      "text/plain": [
       "{1, 2, 3, 4}"
      ]
     },
     "execution_count": 61,
     "metadata": {},
     "output_type": "execute_result"
    }
   ],
   "source": [
    "x = '{1,2,3,3,4}'\n",
    "print(type(eval(x)))\n",
    "eval(x)"
   ]
  },
  {
   "cell_type": "markdown",
   "metadata": {
    "id": "W1s-WFMIMa0k"
   },
   "source": [
    "### enumerate()\n",
    "\n",
    "Enumerate() method adds a counter to an iterable and returns it in a form of enumerate object. This enumerate object can then be used directly in for loops or be converted into a list of tuples using list() method."
   ]
  },
  {
   "cell_type": "code",
   "execution_count": 62,
   "metadata": {
    "id": "hsr3_RNJMa0k"
   },
   "outputs": [],
   "source": [
    "#python\n",
    "# Python program to illustrate\n",
    "# enumerate function\n",
    "l1 = [\"eat\",\"sleep\",\"repeat\"]\n",
    "s1 = \"geek\"\n",
    " \n",
    "# creating enumerate objects\n",
    "obj1 = enumerate(l1)\n",
    "obj2 = enumerate(s1)"
   ]
  },
  {
   "cell_type": "code",
   "execution_count": 63,
   "metadata": {
    "colab": {
     "base_uri": "https://localhost:8080/"
    },
    "executionInfo": {
     "elapsed": 84,
     "status": "ok",
     "timestamp": 1627318610573,
     "user": {
      "displayName": "Mateusz Zimoch",
      "photoUrl": "https://lh3.googleusercontent.com/a-/AOh14GhLKHKJhMI_pTIoYkcl8z-E-V849Je8P3XxEzn2DQ=s64",
      "userId": "02738966002905530559"
     },
     "user_tz": -120
    },
    "id": "Ri0QU1n8Ma0k",
    "outputId": "c30f7e6f-f3b1-4b93-9836-c8d9a3cef009"
   },
   "outputs": [
    {
     "name": "stdout",
     "output_type": "stream",
     "text": [
      "Return type: <class 'enumerate'>\n"
     ]
    }
   ],
   "source": [
    "print(\"Return type:\",type(obj1))"
   ]
  },
  {
   "cell_type": "code",
   "execution_count": 64,
   "metadata": {
    "colab": {
     "base_uri": "https://localhost:8080/"
    },
    "executionInfo": {
     "elapsed": 78,
     "status": "ok",
     "timestamp": 1627318610574,
     "user": {
      "displayName": "Mateusz Zimoch",
      "photoUrl": "https://lh3.googleusercontent.com/a-/AOh14GhLKHKJhMI_pTIoYkcl8z-E-V849Je8P3XxEzn2DQ=s64",
      "userId": "02738966002905530559"
     },
     "user_tz": -120
    },
    "id": "XjaQTyYQMa0k",
    "outputId": "0105172d-b1fb-40ad-9c0e-8a7b131b5c71"
   },
   "outputs": [
    {
     "name": "stdout",
     "output_type": "stream",
     "text": [
      "[(0, 'eat'), (1, 'sleep'), (2, 'repeat')]\n"
     ]
    }
   ],
   "source": [
    "print(list(enumerate(l1)))"
   ]
  },
  {
   "cell_type": "code",
   "execution_count": 66,
   "metadata": {
    "colab": {
     "base_uri": "https://localhost:8080/"
    },
    "executionInfo": {
     "elapsed": 69,
     "status": "ok",
     "timestamp": 1627318610574,
     "user": {
      "displayName": "Mateusz Zimoch",
      "photoUrl": "https://lh3.googleusercontent.com/a-/AOh14GhLKHKJhMI_pTIoYkcl8z-E-V849Je8P3XxEzn2DQ=s64",
      "userId": "02738966002905530559"
     },
     "user_tz": -120
    },
    "id": "Wd5G1FO_Ma0l",
    "outputId": "cf125e4c-6391-4c62-a82d-6d3f063fb910"
   },
   "outputs": [
    {
     "name": "stdout",
     "output_type": "stream",
     "text": [
      "[(0, 'g'), (1, 'e'), (2, 'e'), (3, 'k')]\n",
      "[(12, 'g'), (13, 'e'), (14, 'e'), (15, 'k')]\n"
     ]
    }
   ],
   "source": [
    "# changing start index to 12 from 0\n",
    "print(list(enumerate(s1)))\n",
    "print(list(enumerate(s1, 12)))"
   ]
  },
  {
   "cell_type": "code",
   "execution_count": 67,
   "metadata": {
    "colab": {
     "base_uri": "https://localhost:8080/"
    },
    "executionInfo": {
     "elapsed": 65,
     "status": "ok",
     "timestamp": 1627318610575,
     "user": {
      "displayName": "Mateusz Zimoch",
      "photoUrl": "https://lh3.googleusercontent.com/a-/AOh14GhLKHKJhMI_pTIoYkcl8z-E-V849Je8P3XxEzn2DQ=s64",
      "userId": "02738966002905530559"
     },
     "user_tz": -120
    },
    "id": "1wjFsq2qMa0l",
    "outputId": "b101d979-872b-4366-b1c9-6c052a4fd7b8"
   },
   "outputs": [
    {
     "name": "stdout",
     "output_type": "stream",
     "text": [
      "(0, 'eat')\n",
      "(1, 'sleep')\n",
      "(2, 'repeat')\n"
     ]
    }
   ],
   "source": [
    "# Python program to illustrate\n",
    "# enumerate function in loops\n",
    "l1 = [\"eat\",\"sleep\",\"repeat\"]\n",
    " \n",
    "# printing the tuples in object directly\n",
    "for ele in enumerate(l1):\n",
    "    print(ele)"
   ]
  },
  {
   "cell_type": "code",
   "execution_count": 68,
   "metadata": {
    "colab": {
     "base_uri": "https://localhost:8080/"
    },
    "executionInfo": {
     "elapsed": 60,
     "status": "ok",
     "timestamp": 1627318610575,
     "user": {
      "displayName": "Mateusz Zimoch",
      "photoUrl": "https://lh3.googleusercontent.com/a-/AOh14GhLKHKJhMI_pTIoYkcl8z-E-V849Je8P3XxEzn2DQ=s64",
      "userId": "02738966002905530559"
     },
     "user_tz": -120
    },
    "id": "BR5AhwGjMa0l",
    "outputId": "8566883f-20c6-4492-eec5-47a1733b1974"
   },
   "outputs": [
    {
     "name": "stdout",
     "output_type": "stream",
     "text": [
      "0 eat\n",
      "1 sleep\n",
      "2 repeat\n"
     ]
    }
   ],
   "source": [
    "# changing index and printing separately\n",
    "for count, ele in enumerate(l1):\n",
    "    print(count,ele)"
   ]
  },
  {
   "cell_type": "code",
   "execution_count": 69,
   "metadata": {
    "colab": {
     "base_uri": "https://localhost:8080/"
    },
    "executionInfo": {
     "elapsed": 56,
     "status": "ok",
     "timestamp": 1627318610576,
     "user": {
      "displayName": "Mateusz Zimoch",
      "photoUrl": "https://lh3.googleusercontent.com/a-/AOh14GhLKHKJhMI_pTIoYkcl8z-E-V849Je8P3XxEzn2DQ=s64",
      "userId": "02738966002905530559"
     },
     "user_tz": -120
    },
    "id": "PPZw02wuMa0m",
    "outputId": "5028b6a5-c342-431c-ee34-1c4a756b246d"
   },
   "outputs": [
    {
     "name": "stdout",
     "output_type": "stream",
     "text": [
      "100 eat\n",
      "101 sleep\n",
      "102 repeat\n"
     ]
    }
   ],
   "source": [
    "# changing index and printing separately\n",
    "for count, ele in enumerate(l1,100):\n",
    "    print(count,ele)"
   ]
  },
  {
   "cell_type": "markdown",
   "metadata": {
    "id": "89vrOzPhMa0m"
   },
   "source": [
    "### float(), int(), str()\n",
    "\n",
    "The float() function converts the specified value into a floating point number.\n",
    "\n",
    "The int() function converts the specified value into an integer number.\n",
    "\n",
    "The str() function converts the specified value into a string."
   ]
  },
  {
   "cell_type": "code",
   "execution_count": 70,
   "metadata": {
    "colab": {
     "base_uri": "https://localhost:8080/"
    },
    "executionInfo": {
     "elapsed": 53,
     "status": "ok",
     "timestamp": 1627318610577,
     "user": {
      "displayName": "Mateusz Zimoch",
      "photoUrl": "https://lh3.googleusercontent.com/a-/AOh14GhLKHKJhMI_pTIoYkcl8z-E-V849Je8P3XxEzn2DQ=s64",
      "userId": "02738966002905530559"
     },
     "user_tz": -120
    },
    "id": "A2rXqofwMa0m",
    "outputId": "2348baa2-6fcc-4e93-ce5a-336ac1696389"
   },
   "outputs": [
    {
     "data": {
      "text/plain": [
       "3.5"
      ]
     },
     "execution_count": 70,
     "metadata": {},
     "output_type": "execute_result"
    }
   ],
   "source": [
    "x = float(\"3.500\")\n",
    "x"
   ]
  },
  {
   "cell_type": "code",
   "execution_count": 71,
   "metadata": {
    "colab": {
     "base_uri": "https://localhost:8080/"
    },
    "executionInfo": {
     "elapsed": 49,
     "status": "ok",
     "timestamp": 1627318610577,
     "user": {
      "displayName": "Mateusz Zimoch",
      "photoUrl": "https://lh3.googleusercontent.com/a-/AOh14GhLKHKJhMI_pTIoYkcl8z-E-V849Je8P3XxEzn2DQ=s64",
      "userId": "02738966002905530559"
     },
     "user_tz": -120
    },
    "id": "w3zjlw8DMa0m",
    "outputId": "54014c2f-d118-4dd0-a931-ef436b892ccf"
   },
   "outputs": [
    {
     "data": {
      "text/plain": [
       "float"
      ]
     },
     "execution_count": 71,
     "metadata": {},
     "output_type": "execute_result"
    }
   ],
   "source": [
    "type(x)"
   ]
  },
  {
   "cell_type": "code",
   "execution_count": 72,
   "metadata": {
    "colab": {
     "base_uri": "https://localhost:8080/",
     "height": 167
    },
    "executionInfo": {
     "elapsed": 400,
     "status": "error",
     "timestamp": 1627318610935,
     "user": {
      "displayName": "Mateusz Zimoch",
      "photoUrl": "https://lh3.googleusercontent.com/a-/AOh14GhLKHKJhMI_pTIoYkcl8z-E-V849Je8P3XxEzn2DQ=s64",
      "userId": "02738966002905530559"
     },
     "user_tz": -120
    },
    "id": "kSr_2PnjMa0n",
    "outputId": "caa5059e-08ea-4462-9f88-a0edeea62203"
   },
   "outputs": [
    {
     "ename": "ValueError",
     "evalue": "could not convert string to float: 'A co teraz?'",
     "output_type": "error",
     "traceback": [
      "\u001b[1;31m---------------------------------------------------------------------------\u001b[0m",
      "\u001b[1;31mValueError\u001b[0m                                Traceback (most recent call last)",
      "\u001b[1;32m<ipython-input-72-b753d814cdd1>\u001b[0m in \u001b[0;36m<module>\u001b[1;34m\u001b[0m\n\u001b[1;32m----> 1\u001b[1;33m \u001b[0mfloat\u001b[0m\u001b[1;33m(\u001b[0m\u001b[1;34m\"A co teraz?\"\u001b[0m\u001b[1;33m)\u001b[0m\u001b[1;33m\u001b[0m\u001b[1;33m\u001b[0m\u001b[0m\n\u001b[0m",
      "\u001b[1;31mValueError\u001b[0m: could not convert string to float: 'A co teraz?'"
     ]
    }
   ],
   "source": [
    "float(\"A co teraz?\")"
   ]
  },
  {
   "cell_type": "code",
   "execution_count": 73,
   "metadata": {
    "id": "U7QMj4Y8ohVR"
   },
   "outputs": [
    {
     "data": {
      "text/plain": [
       "3.0"
      ]
     },
     "execution_count": 73,
     "metadata": {},
     "output_type": "execute_result"
    }
   ],
   "source": [
    "float(3)"
   ]
  },
  {
   "cell_type": "code",
   "execution_count": 74,
   "metadata": {
    "id": "Vy0tku_gMa0n"
   },
   "outputs": [
    {
     "data": {
      "text/plain": [
       "12"
      ]
     },
     "execution_count": 74,
     "metadata": {},
     "output_type": "execute_result"
    }
   ],
   "source": [
    "x = int(\"12\")\n",
    "x"
   ]
  },
  {
   "cell_type": "code",
   "execution_count": 75,
   "metadata": {
    "id": "fVwCBssyMa0n"
   },
   "outputs": [
    {
     "data": {
      "text/plain": [
       "int"
      ]
     },
     "execution_count": 75,
     "metadata": {},
     "output_type": "execute_result"
    }
   ],
   "source": [
    "type(x)"
   ]
  },
  {
   "cell_type": "code",
   "execution_count": 76,
   "metadata": {
    "id": "9gpHPz1XMa0n"
   },
   "outputs": [
    {
     "data": {
      "text/plain": [
       "'3.5'"
      ]
     },
     "execution_count": 76,
     "metadata": {},
     "output_type": "execute_result"
    }
   ],
   "source": [
    "x = str(3.5)\n",
    "x"
   ]
  },
  {
   "cell_type": "code",
   "execution_count": 77,
   "metadata": {
    "id": "VhQnsaEuMa0o"
   },
   "outputs": [
    {
     "data": {
      "text/plain": [
       "str"
      ]
     },
     "execution_count": 77,
     "metadata": {},
     "output_type": "execute_result"
    }
   ],
   "source": [
    "type(x)"
   ]
  },
  {
   "cell_type": "code",
   "execution_count": 79,
   "metadata": {},
   "outputs": [
    {
     "data": {
      "text/plain": [
       "[1, 2, 3]"
      ]
     },
     "execution_count": 79,
     "metadata": {},
     "output_type": "execute_result"
    }
   ],
   "source": [
    "lista_1 = [1,2,3]\n",
    "tuple_1 = tuple(lista_1)\n",
    "list(tuple_1)"
   ]
  },
  {
   "cell_type": "markdown",
   "metadata": {
    "id": "XPpbTyehMa0o"
   },
   "source": [
    "### reversed()\n",
    "\n",
    "The reversed() function takes a single parameter:\n",
    "\n",
    "seq - the sequence to be reversed. For example, tuple, string, list."
   ]
  },
  {
   "cell_type": "code",
   "execution_count": 3,
   "metadata": {
    "id": "UfnNkSJhMa0o"
   },
   "outputs": [
    {
     "name": "stdout",
     "output_type": "stream",
     "text": [
      "<reversed object at 0x7fed79e52580>\n",
      "['n', 'o', 'h', 't', 'y', 'P']\n",
      "nohtyP\n"
     ]
    },
    {
     "data": {
      "text/plain": [
       "'nohtyP'"
      ]
     },
     "execution_count": 3,
     "metadata": {},
     "output_type": "execute_result"
    }
   ],
   "source": [
    "# for string\n",
    "seq_string = 'Python'\n",
    "print(reversed(seq_string))\n",
    "print(list(reversed(seq_string)))\n",
    "rev_list = list(reversed(seq_string))\n",
    "rev_string = ''\n",
    "for char in rev_list:\n",
    "    rev_string += char\n",
    "\n",
    "print(rev_string)\n",
    "\n",
    "seq_string[::-1]"
   ]
  },
  {
   "cell_type": "code",
   "execution_count": 83,
   "metadata": {
    "id": "grMrJKshMa0p"
   },
   "outputs": [
    {
     "name": "stdout",
     "output_type": "stream",
     "text": [
      "('n', 'o', 'h', 't', 'y', 'P')\n"
     ]
    }
   ],
   "source": [
    "# for tuple\n",
    "seq_tuple = ('P', 'y', 't', 'h', 'o', 'n')\n",
    "print(tuple(reversed(seq_tuple)))"
   ]
  },
  {
   "cell_type": "code",
   "execution_count": 84,
   "metadata": {
    "id": "t7sK1w39Ma0p"
   },
   "outputs": [
    {
     "name": "stdout",
     "output_type": "stream",
     "text": [
      "[8, 7, 6, 5]\n"
     ]
    }
   ],
   "source": [
    "# for range\n",
    "seq_range = range(5, 9)\n",
    "print(list(reversed(seq_range)))"
   ]
  },
  {
   "cell_type": "code",
   "execution_count": 85,
   "metadata": {
    "id": "7s2eS_1nMa0p"
   },
   "outputs": [
    {
     "name": "stdout",
     "output_type": "stream",
     "text": [
      "[5, 3, 4, 2, 1]\n"
     ]
    }
   ],
   "source": [
    "# for list\n",
    "seq_list = [1, 2, 4, 3, 5]\n",
    "print(list(reversed(seq_list)))"
   ]
  },
  {
   "cell_type": "markdown",
   "metadata": {
    "id": "dvZii3lGMa0q"
   },
   "source": [
    "### Pozostałe funkcje wbudowane: \n",
    "https://docs.python.org/3/library/functions.html"
   ]
  },
  {
   "cell_type": "markdown",
   "metadata": {
    "id": "8YquZ-QZMa0q"
   },
   "source": [
    "## Kilka metod na obiektach typu string\n",
    "\n",
    "Obiekty string sa same w sobie niemodyfikowalne.\n",
    "Poniższe funkcje zwracaja nowe obiekty, będace modyfikacja pierwotnych.\n",
    "\n",
    "- **`.capitalize()`** pierwsza litera jest wielka\n",
    "- **`.upper()`** wszystkie litery wielkie\n",
    "- **`.lower()`** wszystkie litery małe\n",
    "- **`.count(substring)`** zliczanie wystapien podłańcucha w zmiennej string\n",
    "- **`.startswith(substring)`** czy string rozpoczyna sie podanym podstringiem\n",
    "- **`.endswith(substring)`** czy string kończy się podanym podstringiem\n",
    "- **`.replace(old, new)`** zwraca kopię napisu, w którym zamieniane jest wystpienie `old` na `new`"
   ]
  },
  {
   "cell_type": "markdown",
   "metadata": {
    "id": "E0TCIl9TMa0q"
   },
   "source": [
    "### Python String format() Method\n",
    "\n",
    "The format() method formats the specified value(s) and insert them inside the string's placeholder.\n",
    "\n",
    "The placeholder is defined using curly brackets: {}. Read more about the placeholders in the Placeholder section below.\n",
    "\n",
    "The format() method returns the formatted string."
   ]
  },
  {
   "cell_type": "code",
   "execution_count": 91,
   "metadata": {},
   "outputs": [
    {
     "data": {
      "text/plain": [
       "['__add__',\n",
       " '__class__',\n",
       " '__contains__',\n",
       " '__delattr__',\n",
       " '__delitem__',\n",
       " '__dir__',\n",
       " '__doc__',\n",
       " '__eq__',\n",
       " '__format__',\n",
       " '__ge__',\n",
       " '__getattribute__',\n",
       " '__getitem__',\n",
       " '__gt__',\n",
       " '__hash__',\n",
       " '__iadd__',\n",
       " '__imul__',\n",
       " '__init__',\n",
       " '__init_subclass__',\n",
       " '__iter__',\n",
       " '__le__',\n",
       " '__len__',\n",
       " '__lt__',\n",
       " '__mul__',\n",
       " '__ne__',\n",
       " '__new__',\n",
       " '__reduce__',\n",
       " '__reduce_ex__',\n",
       " '__repr__',\n",
       " '__reversed__',\n",
       " '__rmul__',\n",
       " '__setattr__',\n",
       " '__setitem__',\n",
       " '__sizeof__',\n",
       " '__str__',\n",
       " '__subclasshook__',\n",
       " 'append',\n",
       " 'clear',\n",
       " 'copy',\n",
       " 'count',\n",
       " 'extend',\n",
       " 'index',\n",
       " 'insert',\n",
       " 'pop',\n",
       " 'remove',\n",
       " 'reverse',\n",
       " 'sort']"
      ]
     },
     "execution_count": 91,
     "metadata": {},
     "output_type": "execute_result"
    }
   ],
   "source": [
    "dir(list) #dir - wypisanie dostępnych metod dla obiektu"
   ]
  },
  {
   "cell_type": "code",
   "execution_count": 92,
   "metadata": {
    "id": "90gxGmOvrnFn"
   },
   "outputs": [
    {
     "name": "stdout",
     "output_type": "stream",
     "text": [
      "Moja zmienna ma wartość: 5 złotych\n"
     ]
    }
   ],
   "source": [
    "zmienna = 5\n",
    "print(\"Moja zmienna ma wartość:\", zmienna, \"złotych\")"
   ]
  },
  {
   "cell_type": "code",
   "execution_count": 93,
   "metadata": {
    "id": "6Zu7u-UQMa0q"
   },
   "outputs": [
    {
     "name": "stdout",
     "output_type": "stream",
     "text": [
      "For only 49 dollars!\n"
     ]
    }
   ],
   "source": [
    "txt = \"For only {} dollars!\"\n",
    "print(txt.format(49))"
   ]
  },
  {
   "cell_type": "code",
   "execution_count": 94,
   "metadata": {
    "id": "LyM-r0SUMa0r"
   },
   "outputs": [
    {
     "name": "stdout",
     "output_type": "stream",
     "text": [
      "For only 49.00 dollars!\n"
     ]
    }
   ],
   "source": [
    "txt = \"For only {price:.2f} dollars!\"\n",
    "print(txt.format(price = 49))"
   ]
  },
  {
   "cell_type": "code",
   "execution_count": 96,
   "metadata": {
    "id": "jSkdik9GMa0r"
   },
   "outputs": [
    {
     "data": {
      "text/plain": [
       "\"My name is John, I'm 36\""
      ]
     },
     "execution_count": 96,
     "metadata": {},
     "output_type": "execute_result"
    }
   ],
   "source": [
    "txt1 = \"My name is {fname}, I'm {age}\".format(fname = \"John\", age = 36)\n",
    "txt1"
   ]
  },
  {
   "cell_type": "code",
   "execution_count": 97,
   "metadata": {
    "id": "q2TcijRBMa0r"
   },
   "outputs": [
    {
     "data": {
      "text/plain": [
       "\"My name is John, I'm 36\""
      ]
     },
     "execution_count": 97,
     "metadata": {},
     "output_type": "execute_result"
    }
   ],
   "source": [
    "txt2 = \"My name is {0}, I'm {1}\".format(\"John\",36)\n",
    "txt2"
   ]
  },
  {
   "cell_type": "code",
   "execution_count": 98,
   "metadata": {
    "id": "A1YkI88hMa0s"
   },
   "outputs": [
    {
     "data": {
      "text/plain": [
       "\"My name is John, I'm 36\""
      ]
     },
     "execution_count": 98,
     "metadata": {},
     "output_type": "execute_result"
    }
   ],
   "source": [
    "txt3 = \"My name is {}, I'm {}\".format(\"John\",36)\n",
    "txt3"
   ]
  },
  {
   "cell_type": "markdown",
   "metadata": {
    "id": "QltGM476Ma0s"
   },
   "source": [
    "### Pozostałe"
   ]
  },
  {
   "cell_type": "code",
   "execution_count": 99,
   "metadata": {
    "id": "-glV20yGMa0s"
   },
   "outputs": [
    {
     "data": {
      "text/plain": [
       "'zdanie powinno zaczynac sie wielka litera'"
      ]
     },
     "execution_count": 99,
     "metadata": {},
     "output_type": "execute_result"
    }
   ],
   "source": [
    "str1 = 'zdanie powinno zaczynac sie wielka litera'\n",
    "str1"
   ]
  },
  {
   "cell_type": "code",
   "execution_count": 100,
   "metadata": {
    "id": "-TwN8pKOMa0s"
   },
   "outputs": [],
   "source": [
    "str1 = str1.capitalize()"
   ]
  },
  {
   "cell_type": "code",
   "execution_count": 101,
   "metadata": {
    "id": "3r85RofIMa0s"
   },
   "outputs": [
    {
     "data": {
      "text/plain": [
       "'Zdanie powinno zaczynac sie wielka litera'"
      ]
     },
     "execution_count": 101,
     "metadata": {},
     "output_type": "execute_result"
    }
   ],
   "source": [
    "str1"
   ]
  },
  {
   "cell_type": "code",
   "execution_count": 102,
   "metadata": {
    "id": "Z6ZcfALYMa0t"
   },
   "outputs": [
    {
     "data": {
      "text/plain": [
       "'duzy naglowek'"
      ]
     },
     "execution_count": 102,
     "metadata": {},
     "output_type": "execute_result"
    }
   ],
   "source": [
    "str2 = 'duzy naglowek'\n",
    "str2"
   ]
  },
  {
   "cell_type": "code",
   "execution_count": 103,
   "metadata": {
    "id": "YLmhMsClMa0t"
   },
   "outputs": [
    {
     "data": {
      "text/plain": [
       "'DUZY NAGLOWEK'"
      ]
     },
     "execution_count": 103,
     "metadata": {},
     "output_type": "execute_result"
    }
   ],
   "source": [
    "str2.upper()"
   ]
  },
  {
   "cell_type": "code",
   "execution_count": 104,
   "metadata": {
    "id": "eDsFivJKMa0t"
   },
   "outputs": [
    {
     "data": {
      "text/plain": [
       "True"
      ]
     },
     "execution_count": 104,
     "metadata": {},
     "output_type": "execute_result"
    }
   ],
   "source": [
    "str2.startswith('duzy')"
   ]
  },
  {
   "cell_type": "code",
   "execution_count": 105,
   "metadata": {
    "id": "JPtQV1a3Ma0t"
   },
   "outputs": [
    {
     "data": {
      "text/plain": [
       "False"
      ]
     },
     "execution_count": 105,
     "metadata": {},
     "output_type": "execute_result"
    }
   ],
   "source": [
    "str2.startswith('Duzy')"
   ]
  },
  {
   "cell_type": "code",
   "execution_count": 107,
   "metadata": {
    "id": "RkF1w1vtMa0u"
   },
   "outputs": [
    {
     "data": {
      "text/plain": [
       "True"
      ]
     },
     "execution_count": 107,
     "metadata": {},
     "output_type": "execute_result"
    }
   ],
   "source": [
    "str2.endswith('naglowek')"
   ]
  },
  {
   "cell_type": "code",
   "execution_count": 108,
   "metadata": {
    "id": "IRifWH3SMa0u"
   },
   "outputs": [
    {
     "data": {
      "text/plain": [
       "'duzy naglowki'"
      ]
     },
     "execution_count": 108,
     "metadata": {},
     "output_type": "execute_result"
    }
   ],
   "source": [
    "str2 = str2.replace('naglowek', 'naglowki')\n",
    "str2"
   ]
  },
  {
   "cell_type": "code",
   "execution_count": 109,
   "metadata": {
    "id": "qKl2jnBtMa0u"
   },
   "outputs": [
    {
     "data": {
      "text/plain": [
       "True"
      ]
     },
     "execution_count": 109,
     "metadata": {},
     "output_type": "execute_result"
    }
   ],
   "source": [
    "str2.endswith('naglowki')"
   ]
  },
  {
   "cell_type": "code",
   "execution_count": 110,
   "metadata": {
    "id": "vdSC4Gk2Ma0u"
   },
   "outputs": [
    {
     "data": {
      "text/plain": [
       "'a ab abc abcd abcdef'"
      ]
     },
     "execution_count": 110,
     "metadata": {},
     "output_type": "execute_result"
    }
   ],
   "source": [
    "str3 = 'a ab abc abcd abcdef'\n",
    "str3"
   ]
  },
  {
   "cell_type": "code",
   "execution_count": 111,
   "metadata": {
    "id": "Fc3z4r7kMa0v"
   },
   "outputs": [
    {
     "data": {
      "text/plain": [
       "3"
      ]
     },
     "execution_count": 111,
     "metadata": {},
     "output_type": "execute_result"
    }
   ],
   "source": [
    "str3.count('abc')"
   ]
  },
  {
   "cell_type": "code",
   "execution_count": 113,
   "metadata": {
    "id": "CN2RaX75Ma0v"
   },
   "outputs": [
    {
     "data": {
      "text/plain": [
       "'a a1 a1c abcd abcdef'"
      ]
     },
     "execution_count": 113,
     "metadata": {},
     "output_type": "execute_result"
    }
   ],
   "source": [
    "str3.replace('b', '1', 2)"
   ]
  },
  {
   "cell_type": "markdown",
   "metadata": {
    "id": "3-mXX3jzMa0v"
   },
   "source": [
    "# Wyjatki w Pythonie"
   ]
  },
  {
   "cell_type": "markdown",
   "metadata": {
    "slideshow": {
     "slide_type": "slide"
    }
   },
   "source": [
    "# Wyjątki\n",
    "\n",
    "https://github.com/daftcode/daftacademy-python4beginners-autumn2019/blob/master/04.W_Wyjatkowej_sieci_z_plikami/wyklad_4.ipynb"
   ]
  },
  {
   "cell_type": "markdown",
   "metadata": {
    "slideshow": {
     "slide_type": "slide"
    }
   },
   "source": [
    "# 1. Exceptions"
   ]
  },
  {
   "cell_type": "markdown",
   "metadata": {
    "slideshow": {
     "slide_type": "subslide"
    }
   },
   "source": [
    "## Syntax Errors vs Exceptions?"
   ]
  },
  {
   "cell_type": "markdown",
   "metadata": {
    "slideshow": {
     "slide_type": "subslide"
    }
   },
   "source": [
    "### Syntax Errors"
   ]
  },
  {
   "cell_type": "code",
   "execution_count": 3,
   "metadata": {
    "slideshow": {
     "slide_type": "-"
    }
   },
   "outputs": [
    {
     "ename": "SyntaxError",
     "evalue": "invalid syntax (<ipython-input-3-9bf3d452bb2a>, line 1)",
     "output_type": "error",
     "traceback": [
      "\u001b[1;36m  File \u001b[1;32m\"<ipython-input-3-9bf3d452bb2a>\"\u001b[1;36m, line \u001b[1;32m1\u001b[0m\n\u001b[1;33m    for i in range(10)\u001b[0m\n\u001b[1;37m                      ^\u001b[0m\n\u001b[1;31mSyntaxError\u001b[0m\u001b[1;31m:\u001b[0m invalid syntax\n"
     ]
    }
   ],
   "source": [
    "for i in range(10)"
   ]
  },
  {
   "cell_type": "code",
   "execution_count": 5,
   "metadata": {
    "slideshow": {
     "slide_type": "-"
    }
   },
   "outputs": [
    {
     "ename": "SyntaxError",
     "evalue": "invalid syntax (<ipython-input-5-94c228b6fd8f>, line 1)",
     "output_type": "error",
     "traceback": [
      "\u001b[1;36m  File \u001b[1;32m\"<ipython-input-5-94c228b6fd8f>\"\u001b[1;36m, line \u001b[1;32m1\u001b[0m\n\u001b[1;33m    if len([])\u001b[0m\n\u001b[1;37m              ^\u001b[0m\n\u001b[1;31mSyntaxError\u001b[0m\u001b[1;31m:\u001b[0m invalid syntax\n"
     ]
    }
   ],
   "source": [
    "if len([])\n",
    "    print('great')"
   ]
  },
  {
   "cell_type": "markdown",
   "metadata": {
    "slideshow": {
     "slide_type": "subslide"
    }
   },
   "source": [
    "## Syntax Error\n",
    "- błąd interpretera podczasu parsowania skryptu\n",
    "- błąd składniowy\n",
    "- python nie jest w stanie sparsować naszego kodu\n",
    "- domyślnie pythonowy intepreter poda linijkę i miejsce wystąpienia błędu składniowego i przestanie dalej przetwarzać plik\n",
    "\n",
    "https://docs.python.org/3.7/tutorial/errors.html#syntax-errors"
   ]
  },
  {
   "cell_type": "markdown",
   "metadata": {
    "slideshow": {
     "slide_type": "subslide"
    }
   },
   "source": [
    "### Exceptions"
   ]
  },
  {
   "cell_type": "code",
   "execution_count": 6,
   "metadata": {
    "slideshow": {
     "slide_type": "-"
    }
   },
   "outputs": [
    {
     "ename": "ZeroDivisionError",
     "evalue": "division by zero",
     "output_type": "error",
     "traceback": [
      "\u001b[1;31m---------------------------------------------------------------------------\u001b[0m",
      "\u001b[1;31mZeroDivisionError\u001b[0m                         Traceback (most recent call last)",
      "\u001b[1;32m<ipython-input-6-49b674367966>\u001b[0m in \u001b[0;36m<module>\u001b[1;34m\u001b[0m\n\u001b[1;32m----> 1\u001b[1;33m \u001b[0mx\u001b[0m \u001b[1;33m=\u001b[0m \u001b[1;36m1\u001b[0m \u001b[1;33m/\u001b[0m \u001b[1;36m0\u001b[0m\u001b[1;33m\u001b[0m\u001b[1;33m\u001b[0m\u001b[0m\n\u001b[0m",
      "\u001b[1;31mZeroDivisionError\u001b[0m: division by zero"
     ]
    }
   ],
   "source": [
    "x = 1 / 0"
   ]
  },
  {
   "cell_type": "markdown",
   "metadata": {
    "slideshow": {
     "slide_type": "subslide"
    }
   },
   "source": [
    "### Exceptions\n",
    "- błędy w trakcie wykonywania programu (Runtime Error)\n",
    "- zazwyczaj zwracają jakiś opis błędu\n",
    "- można sobie z nimi radzić"
   ]
  },
  {
   "cell_type": "markdown",
   "metadata": {
    "slideshow": {
     "slide_type": "-"
    }
   },
   "source": [
    "- https://docs.python.org/3.7/tutorial/errors.html#exceptions\n",
    "- https://jeffknupp.com/blog/2013/02/06/write-cleaner-python-use-exceptions/"
   ]
  },
  {
   "cell_type": "markdown",
   "metadata": {
    "slideshow": {
     "slide_type": "subslide"
    },
    "toc-hr-collapsed": false
   },
   "source": [
    "## \"Łapanie\" wyjątków"
   ]
  },
  {
   "cell_type": "markdown",
   "metadata": {
    "slideshow": {
     "slide_type": "subslide"
    }
   },
   "source": [
    "### Try Except"
   ]
  },
  {
   "cell_type": "code",
   "execution_count": 7,
   "metadata": {
    "slideshow": {
     "slide_type": "subslide"
    }
   },
   "outputs": [
    {
     "name": "stdout",
     "output_type": "stream",
     "text": [
      "4\n"
     ]
    }
   ],
   "source": [
    "try:\n",
    "    my_int = int('4')\n",
    "    print(my_int)\n",
    "except:\n",
    "    pass"
   ]
  },
  {
   "cell_type": "code",
   "execution_count": 8,
   "metadata": {
    "slideshow": {
     "slide_type": "subslide"
    }
   },
   "outputs": [
    {
     "name": "stdout",
     "output_type": "stream",
     "text": [
      "4\n"
     ]
    }
   ],
   "source": [
    "try:\n",
    "    my_int = int('4')\n",
    "    print(my_int)\n",
    "except ValueError:\n",
    "    print('Złapałem value error!')"
   ]
  },
  {
   "cell_type": "markdown",
   "metadata": {
    "slideshow": {
     "slide_type": "-"
    }
   },
   "source": [
    "- Na początek wykonywany jest kod pomiędzy try, a except\n",
    "- Jeżeli nie ma błędu, kod spomiędzy try a except jest wykonany w całości, a kod w except jest pomijany"
   ]
  },
  {
   "cell_type": "code",
   "execution_count": 10,
   "metadata": {},
   "outputs": [
    {
     "ename": "ValueError",
     "evalue": "invalid literal for int() with base 10: 'nie int :('",
     "output_type": "error",
     "traceback": [
      "\u001b[1;31m---------------------------------------------------------------------------\u001b[0m",
      "\u001b[1;31mValueError\u001b[0m                                Traceback (most recent call last)",
      "\u001b[1;32m<ipython-input-10-b867a3113247>\u001b[0m in \u001b[0;36m<module>\u001b[1;34m\u001b[0m\n\u001b[1;32m----> 1\u001b[1;33m \u001b[0mint\u001b[0m\u001b[1;33m(\u001b[0m\u001b[1;34m'nie int :('\u001b[0m\u001b[1;33m)\u001b[0m\u001b[1;33m\u001b[0m\u001b[1;33m\u001b[0m\u001b[0m\n\u001b[0m",
      "\u001b[1;31mValueError\u001b[0m: invalid literal for int() with base 10: 'nie int :('"
     ]
    }
   ],
   "source": [
    "int('nie int :(')"
   ]
  },
  {
   "cell_type": "code",
   "execution_count": 14,
   "metadata": {
    "slideshow": {
     "slide_type": "subslide"
    }
   },
   "outputs": [
    {
     "name": "stdout",
     "output_type": "stream",
     "text": [
      "Złapałem value error!\n",
      "Hej!\n"
     ]
    }
   ],
   "source": [
    "try:\n",
    "    my_int = int('nie int :(')\n",
    "    print(my_int)\n",
    "except ValueError:\n",
    "    print('Złapałem value error!')\n",
    "except KeyEror:\n",
    "    print('Złapałem key error!')\n",
    "print(\"Hej!\")"
   ]
  },
  {
   "cell_type": "markdown",
   "metadata": {
    "slideshow": {
     "slide_type": "-"
    }
   },
   "source": [
    "- Jeżeli pojawi się błąd, wykonanie kodu spomiędzy try a except jest przerwane\n",
    "- Jeżeli błąd jest łapanego przez nas typu, to wykonywany jest kod w except"
   ]
  },
  {
   "cell_type": "code",
   "execution_count": 17,
   "metadata": {
    "slideshow": {
     "slide_type": "subslide"
    }
   },
   "outputs": [
    {
     "name": "stdout",
     "output_type": "stream",
     "text": [
      "4\n",
      "Dostalem ValueError lub KeyError\n"
     ]
    }
   ],
   "source": [
    "try:\n",
    "    my_int = int('4')\n",
    "    print(my_int)\n",
    "    a = {'b': 'c'}\n",
    "    print(a['d'])\n",
    "except (ValueError, KeyError): \n",
    "    print('Dostalem ValueError lub KeyError')"
   ]
  },
  {
   "cell_type": "markdown",
   "metadata": {
    "slideshow": {
     "slide_type": "fragment"
    }
   },
   "source": [
    "- Można łapać więcej niż jeden wyjątek jednocześnie"
   ]
  },
  {
   "cell_type": "code",
   "execution_count": 18,
   "metadata": {
    "slideshow": {
     "slide_type": "subslide"
    }
   },
   "outputs": [
    {
     "name": "stdout",
     "output_type": "stream",
     "text": [
      "4\n",
      "Złapałem KeyError\n"
     ]
    }
   ],
   "source": [
    "try:\n",
    "    my_int = int('4')\n",
    "    print(my_int)\n",
    "    a = {'b': 'c'}\n",
    "    print(a['d'])\n",
    "except ValueError:\n",
    "    print('Złapałem ValueError')\n",
    "except KeyError:\n",
    "    print('Złapałem KeyError')"
   ]
  },
  {
   "cell_type": "markdown",
   "metadata": {
    "slideshow": {
     "slide_type": "fragment"
    }
   },
   "source": [
    "- Blok Try Except może przyjąc tak dużo Except ile potrzebujemy"
   ]
  },
  {
   "cell_type": "code",
   "execution_count": 19,
   "metadata": {
    "slideshow": {
     "slide_type": "subslide"
    }
   },
   "outputs": [
    {
     "name": "stdout",
     "output_type": "stream",
     "text": [
      "4\n"
     ]
    },
    {
     "ename": "AttributeError",
     "evalue": "'dict' object has no attribute 'append'",
     "output_type": "error",
     "traceback": [
      "\u001b[1;31m---------------------------------------------------------------------------\u001b[0m",
      "\u001b[1;31mAttributeError\u001b[0m                            Traceback (most recent call last)",
      "\u001b[1;32m<ipython-input-19-d8fdb424756d>\u001b[0m in \u001b[0;36m<module>\u001b[1;34m\u001b[0m\n\u001b[0;32m      3\u001b[0m     \u001b[0mprint\u001b[0m\u001b[1;33m(\u001b[0m\u001b[0mmy_int\u001b[0m\u001b[1;33m)\u001b[0m\u001b[1;33m\u001b[0m\u001b[1;33m\u001b[0m\u001b[0m\n\u001b[0;32m      4\u001b[0m     \u001b[0ma\u001b[0m \u001b[1;33m=\u001b[0m \u001b[1;33m{\u001b[0m\u001b[1;34m'b'\u001b[0m\u001b[1;33m:\u001b[0m \u001b[1;34m'c'\u001b[0m\u001b[1;33m}\u001b[0m\u001b[1;33m\u001b[0m\u001b[1;33m\u001b[0m\u001b[0m\n\u001b[1;32m----> 5\u001b[1;33m     \u001b[0mprint\u001b[0m\u001b[1;33m(\u001b[0m\u001b[0ma\u001b[0m\u001b[1;33m.\u001b[0m\u001b[0mappend\u001b[0m\u001b[1;33m(\u001b[0m\u001b[1;34m'my_int'\u001b[0m\u001b[1;33m)\u001b[0m\u001b[1;33m)\u001b[0m\u001b[1;33m\u001b[0m\u001b[1;33m\u001b[0m\u001b[0m\n\u001b[0m\u001b[0;32m      6\u001b[0m \u001b[1;32mexcept\u001b[0m \u001b[0mValueError\u001b[0m\u001b[1;33m:\u001b[0m\u001b[1;33m\u001b[0m\u001b[1;33m\u001b[0m\u001b[0m\n\u001b[0;32m      7\u001b[0m     \u001b[0mprint\u001b[0m\u001b[1;33m(\u001b[0m\u001b[1;34m'Złapałem ValueError'\u001b[0m\u001b[1;33m)\u001b[0m\u001b[1;33m\u001b[0m\u001b[1;33m\u001b[0m\u001b[0m\n",
      "\u001b[1;31mAttributeError\u001b[0m: 'dict' object has no attribute 'append'"
     ]
    }
   ],
   "source": [
    "try:\n",
    "    my_int = int('4')\n",
    "    print(my_int)\n",
    "    a = {'b': 'c'}\n",
    "    print(a.append('my_int'))\n",
    "except ValueError:\n",
    "    print('Złapałem ValueError')\n",
    "except KeyError:\n",
    "    print('Złapałem KeyError')   "
   ]
  },
  {
   "cell_type": "markdown",
   "metadata": {
    "slideshow": {
     "slide_type": "fragment"
    }
   },
   "source": [
    "- Jeżeli wystąpi nieobsłużony błąd - wyjątek nie jest złapany, a program zakończy działanie na tym błędzie"
   ]
  },
  {
   "cell_type": "code",
   "execution_count": 21,
   "metadata": {
    "slideshow": {
     "slide_type": "subslide"
    }
   },
   "outputs": [
    {
     "name": "stdout",
     "output_type": "stream",
     "text": [
      "xx {'a': 'b'}\n",
      "Złapałem dowolny błąd\n",
      "******\n",
      "4 {'a': 'd'}\n"
     ]
    }
   ],
   "source": [
    "def fun(my_int, my_dict):\n",
    "    print(my_int, my_dict)\n",
    "    try:\n",
    "        int(my_int)\n",
    "        my_dict['a']\n",
    "    except:\n",
    "        print('Złapałem dowolny błąd')\n",
    "\n",
    "fun('xx', {'a': 'b'})\n",
    "print('******')\n",
    "fun('4', {'a': 'd'})"
   ]
  },
  {
   "cell_type": "markdown",
   "metadata": {
    "slideshow": {
     "slide_type": "fragment"
    }
   },
   "source": [
    "- Możliwe jest łapanie dowolnego rodzaju błędu - używać z rozwagą - zazwyczaj chcemy łapać konkretny błąd.\n",
    "- Można łatwo przegapić zwykły błąd programistyczny gdy staramy się obsługiwać wszystkie błędy na raz"
   ]
  },
  {
   "cell_type": "markdown",
   "metadata": {
    "slideshow": {
     "slide_type": "subslide"
    }
   },
   "source": [
    "### Wbudowane wyjątki"
   ]
  },
  {
   "cell_type": "markdown",
   "metadata": {
    "slideshow": {
     "slide_type": "fragment"
    }
   },
   "source": [
    "- https://docs.python.org/3.7/library/exceptions.html#bltin-exceptions"
   ]
  },
  {
   "cell_type": "markdown",
   "metadata": {
    "slideshow": {
     "slide_type": "fragment"
    }
   },
   "source": [
    "- wszystkie klasy wyjątków dziedziczą pośrednio lub bezpośrednio z BaseException\n",
    "- w większości przypadków instancje klasy wyjątków dziedziczą z Exception (sprawdź w dokumentacji)\n",
    "- python posiada bardzo rozbudowaną hierarchie błędów\n",
    "- warto zobaczyć: https://docs.python.org/3.7/library/exceptions.html#exception-hierarchy"
   ]
  },
  {
   "cell_type": "markdown",
   "metadata": {
    "slideshow": {
     "slide_type": "subslide"
    }
   },
   "source": [
    "## \"Rzucanie\" wyjątkiem"
   ]
  },
  {
   "cell_type": "code",
   "execution_count": null,
   "metadata": {
    "slideshow": {
     "slide_type": "subslide"
    }
   },
   "outputs": [],
   "source": [
    "raise ValueError('Poważny błąd!')"
   ]
  },
  {
   "cell_type": "markdown",
   "metadata": {
    "slideshow": {
     "slide_type": "fragment"
    }
   },
   "source": [
    "- Możemy rzucać zarówno instancję wyjątku, jak i klasę"
   ]
  },
  {
   "cell_type": "code",
   "execution_count": null,
   "metadata": {
    "slideshow": {
     "slide_type": "-"
    }
   },
   "outputs": [],
   "source": [
    "raise ValueError"
   ]
  },
  {
   "cell_type": "code",
   "execution_count": null,
   "metadata": {
    "slideshow": {
     "slide_type": "subslide"
    }
   },
   "outputs": [],
   "source": [
    "def fun(my_int, my_dict):\n",
    "    print (my_int, my_dict)\n",
    "    try:\n",
    "        int(my_int)\n",
    "        my_dict['a']\n",
    "    except ValueError:\n",
    "        print('Złapałem ValueError')"
   ]
  },
  {
   "cell_type": "code",
   "execution_count": null,
   "metadata": {
    "slideshow": {
     "slide_type": "fragment"
    }
   },
   "outputs": [],
   "source": [
    "fun('xx', {'a': 'b'})"
   ]
  },
  {
   "cell_type": "code",
   "execution_count": null,
   "metadata": {
    "slideshow": {
     "slide_type": "subslide"
    }
   },
   "outputs": [],
   "source": [
    "def fun(my_int, my_dict):\n",
    "    print (my_int, my_dict)\n",
    "    try:\n",
    "        int(my_int)\n",
    "        my_dict['a']\n",
    "    except ValueError as e:\n",
    "        print('Złapałem ValueError')\n",
    "        raise e"
   ]
  },
  {
   "cell_type": "code",
   "execution_count": null,
   "metadata": {
    "slideshow": {
     "slide_type": "fragment"
    }
   },
   "outputs": [],
   "source": [
    "fun('xx', {'a': 'b'})"
   ]
  },
  {
   "cell_type": "markdown",
   "metadata": {
    "slideshow": {
     "slide_type": "subslide"
    }
   },
   "source": [
    "Dzięki instrukcji `else` możemy wykonać jakiś kod TYLKO wtedy, gdy kod w bloku `try` wykona się bez błędu"
   ]
  },
  {
   "cell_type": "code",
   "execution_count": null,
   "metadata": {
    "slideshow": {
     "slide_type": "subslide"
    }
   },
   "outputs": [],
   "source": [
    "def fun(my_int, my_dict):\n",
    "    print (my_int, my_dict)\n",
    "    try:\n",
    "        int(my_int)\n",
    "        my_dict['a']\n",
    "    except ValueError:\n",
    "        print('Złapałem błąd')\n",
    "    else:\n",
    "        print('Bez błędu!')"
   ]
  },
  {
   "cell_type": "code",
   "execution_count": null,
   "metadata": {
    "slideshow": {
     "slide_type": "fragment"
    }
   },
   "outputs": [],
   "source": [
    "fun('4', {'a': 'b'})"
   ]
  },
  {
   "cell_type": "code",
   "execution_count": null,
   "metadata": {
    "slideshow": {
     "slide_type": "fragment"
    }
   },
   "outputs": [],
   "source": [
    "fun('x', {'c': 'd'})"
   ]
  },
  {
   "cell_type": "code",
   "execution_count": null,
   "metadata": {
    "slideshow": {
     "slide_type": "fragment"
    }
   },
   "outputs": [],
   "source": [
    "fun('4', {'c': 'd'})"
   ]
  },
  {
   "cell_type": "markdown",
   "metadata": {
    "slideshow": {
     "slide_type": "subslide"
    }
   },
   "source": [
    "Kod, który chcemy żeby wykonał się zawsze umieszczamy w bloku `finally`"
   ]
  },
  {
   "cell_type": "code",
   "execution_count": null,
   "metadata": {
    "slideshow": {
     "slide_type": "subslide"
    }
   },
   "outputs": [],
   "source": [
    "def fun(my_int, my_dict):\n",
    "    print(my_int, my_dict)\n",
    "    try:\n",
    "        int(my_int)\n",
    "        my_dict['a']\n",
    "    except ValueError:\n",
    "        print('Złapałem błąd')\n",
    "    else:\n",
    "        print('Bez błędu!')\n",
    "    finally:\n",
    "        print('*' * 80)"
   ]
  },
  {
   "cell_type": "code",
   "execution_count": null,
   "metadata": {
    "slideshow": {
     "slide_type": "fragment"
    }
   },
   "outputs": [],
   "source": [
    "fun('4', {'a': 'b'})"
   ]
  },
  {
   "cell_type": "code",
   "execution_count": null,
   "metadata": {
    "slideshow": {
     "slide_type": "fragment"
    }
   },
   "outputs": [],
   "source": [
    "fun('x', {'c': 'd'})"
   ]
  },
  {
   "cell_type": "code",
   "execution_count": null,
   "metadata": {
    "slideshow": {
     "slide_type": "fragment"
    }
   },
   "outputs": [],
   "source": [
    "fun('4', {'c': 'd'})"
   ]
  },
  {
   "cell_type": "markdown",
   "metadata": {
    "slideshow": {
     "slide_type": "subslide"
    }
   },
   "source": [
    "kod w bloku `finally` wykonuje się zawsze\n",
    "- niezależnie od tego czy wyjątek był obsłużony czy nie\n",
    "- wykona się nawet jeśli w `try`, `except`, `else` nastąpi `return` lub `break`\n",
    "- jeśli wyjątek nie jest obsłużony `finally` po wykonaniu kodu w swoim bloku rzuci ponownie tym samym wyjątkiem"
   ]
  },
  {
   "cell_type": "markdown",
   "metadata": {},
   "source": [
    "## Jeszcze kilka przykładów do przećwiczenia"
   ]
  },
  {
   "cell_type": "code",
   "execution_count": null,
   "metadata": {
    "slideshow": {
     "slide_type": "fragment"
    }
   },
   "outputs": [],
   "source": [
    "def guess_number(guess):\n",
    "    number = 10\n",
    "    if guess > number:\n",
    "        raise NumberToBig(guess - number)\n",
    "    elif guess < number:\n",
    "        raise NumberTooSmall(number - guess)\n",
    "    else:\n",
    "        print('Brawo')"
   ]
  },
  {
   "cell_type": "code",
   "execution_count": null,
   "metadata": {
    "slideshow": {
     "slide_type": "fragment"
    }
   },
   "outputs": [],
   "source": [
    "try:\n",
    "    guess_number(4)\n",
    "except NumberTooSmall as exc:\n",
    "    print('Za malo o {}'.format(exc.difference))\n",
    "except NumberTooBig:\n",
    "    print('Za duzo o {}'.format(exc.difference))"
   ]
  },
  {
   "cell_type": "code",
   "execution_count": 119,
   "metadata": {
    "colab": {
     "base_uri": "https://localhost:8080/"
    },
    "executionInfo": {
     "elapsed": 228,
     "status": "ok",
     "timestamp": 1627319086645,
     "user": {
      "displayName": "Mateusz Zimoch",
      "photoUrl": "https://lh3.googleusercontent.com/a-/AOh14GhLKHKJhMI_pTIoYkcl8z-E-V849Je8P3XxEzn2DQ=s64",
      "userId": "02738966002905530559"
     },
     "user_tz": -120
    },
    "id": "0JKkCR-Bwav7",
    "outputId": "5bf77b00-78d1-4cac-8448-5fb968d413af"
   },
   "outputs": [
    {
     "name": "stdout",
     "output_type": "stream",
     "text": [
      "1.0\n",
      "5\n",
      "Hej!\n"
     ]
    }
   ],
   "source": [
    "a = 1\n",
    "b = 1\n",
    "try:\n",
    "    print(a/b)\n",
    "    print(dict1['jabłko'])\n",
    "except ZeroDivisionError:\n",
    "    print(\"Błąd! Nie można dzielić przez 0!\")\n",
    "except KeyError:\n",
    "    print(\"Nie ma takiego elementu w słowniku!\")\n",
    "print(\"Hej!\")"
   ]
  },
  {
   "cell_type": "code",
   "execution_count": 120,
   "metadata": {
    "id": "YmOoKAl7Ma0w"
   },
   "outputs": [],
   "source": [
    "def rob_cos_z_tablica(lista, index):\n",
    "    lista[index] = 'nowy_element'"
   ]
  },
  {
   "cell_type": "code",
   "execution_count": 121,
   "metadata": {
    "colab": {
     "base_uri": "https://localhost:8080/"
    },
    "executionInfo": {
     "elapsed": 232,
     "status": "ok",
     "timestamp": 1627319274791,
     "user": {
      "displayName": "Mateusz Zimoch",
      "photoUrl": "https://lh3.googleusercontent.com/a-/AOh14GhLKHKJhMI_pTIoYkcl8z-E-V849Je8P3XxEzn2DQ=s64",
      "userId": "02738966002905530559"
     },
     "user_tz": -120
    },
    "id": "YfHEwUdyMa0w",
    "outputId": "20460850-7fee-4d7d-ea0a-b3b3507abed8"
   },
   "outputs": [
    {
     "name": "stdout",
     "output_type": "stream",
     "text": [
      "['nowy_element', 2, 'b']\n",
      "['nowy_element', 'nowy_element', 'b']\n",
      "['nowy_element', 'nowy_element', 'nowy_element']\n",
      "list assignment index out of range\n"
     ]
    }
   ],
   "source": [
    "the_list = [1, 2, 'b']\n",
    "\n",
    "for i in range(4): \n",
    "    try:\n",
    "        rob_cos_z_tablica(the_list, i)\n",
    "        print(the_list)\n",
    "    except Exception as e:\n",
    "        print(e)"
   ]
  },
  {
   "cell_type": "code",
   "execution_count": 122,
   "metadata": {},
   "outputs": [
    {
     "name": "stdout",
     "output_type": "stream",
     "text": [
      "['nowy_element', 2, 'b']\n",
      "['nowy_element', 'nowy_element', 'b']\n",
      "['nowy_element', 'nowy_element', 'nowy_element']\n"
     ]
    },
    {
     "ename": "IndexError",
     "evalue": "list assignment index out of range",
     "output_type": "error",
     "traceback": [
      "\u001b[1;31m---------------------------------------------------------------------------\u001b[0m",
      "\u001b[1;31mIndexError\u001b[0m                                Traceback (most recent call last)",
      "\u001b[1;32m<ipython-input-122-dafdceebabd5>\u001b[0m in \u001b[0;36m<module>\u001b[1;34m\u001b[0m\n\u001b[0;32m      2\u001b[0m \u001b[1;33m\u001b[0m\u001b[0m\n\u001b[0;32m      3\u001b[0m \u001b[1;32mfor\u001b[0m \u001b[0mi\u001b[0m \u001b[1;32min\u001b[0m \u001b[0mrange\u001b[0m\u001b[1;33m(\u001b[0m\u001b[1;36m4\u001b[0m\u001b[1;33m)\u001b[0m\u001b[1;33m:\u001b[0m\u001b[1;33m\u001b[0m\u001b[1;33m\u001b[0m\u001b[0m\n\u001b[1;32m----> 4\u001b[1;33m     \u001b[0mrob_cos_z_tablica\u001b[0m\u001b[1;33m(\u001b[0m\u001b[0mthe_list\u001b[0m\u001b[1;33m,\u001b[0m \u001b[0mi\u001b[0m\u001b[1;33m)\u001b[0m\u001b[1;33m\u001b[0m\u001b[1;33m\u001b[0m\u001b[0m\n\u001b[0m\u001b[0;32m      5\u001b[0m     \u001b[0mprint\u001b[0m\u001b[1;33m(\u001b[0m\u001b[0mthe_list\u001b[0m\u001b[1;33m)\u001b[0m\u001b[1;33m\u001b[0m\u001b[1;33m\u001b[0m\u001b[0m\n",
      "\u001b[1;32m<ipython-input-120-cca93316c020>\u001b[0m in \u001b[0;36mrob_cos_z_tablica\u001b[1;34m(lista, index)\u001b[0m\n\u001b[0;32m      1\u001b[0m \u001b[1;32mdef\u001b[0m \u001b[0mrob_cos_z_tablica\u001b[0m\u001b[1;33m(\u001b[0m\u001b[0mlista\u001b[0m\u001b[1;33m,\u001b[0m \u001b[0mindex\u001b[0m\u001b[1;33m)\u001b[0m\u001b[1;33m:\u001b[0m\u001b[1;33m\u001b[0m\u001b[1;33m\u001b[0m\u001b[0m\n\u001b[1;32m----> 2\u001b[1;33m     \u001b[0mlista\u001b[0m\u001b[1;33m[\u001b[0m\u001b[0mindex\u001b[0m\u001b[1;33m]\u001b[0m \u001b[1;33m=\u001b[0m \u001b[1;34m'nowy_element'\u001b[0m\u001b[1;33m\u001b[0m\u001b[1;33m\u001b[0m\u001b[0m\n\u001b[0m",
      "\u001b[1;31mIndexError\u001b[0m: list assignment index out of range"
     ]
    }
   ],
   "source": [
    "the_list = [1, 2, 'b']\n",
    "\n",
    "for i in range(4): \n",
    "    rob_cos_z_tablica(the_list, i)\n",
    "    print(the_list)"
   ]
  },
  {
   "cell_type": "code",
   "execution_count": 123,
   "metadata": {
    "colab": {
     "base_uri": "https://localhost:8080/"
    },
    "executionInfo": {
     "elapsed": 241,
     "status": "ok",
     "timestamp": 1627319524222,
     "user": {
      "displayName": "Mateusz Zimoch",
      "photoUrl": "https://lh3.googleusercontent.com/a-/AOh14GhLKHKJhMI_pTIoYkcl8z-E-V849Je8P3XxEzn2DQ=s64",
      "userId": "02738966002905530559"
     },
     "user_tz": -120
    },
    "id": "LjW5OWVPzSsd",
    "outputId": "6d0848d3-faad-498f-bfc6-5a070a50d9b5"
   },
   "outputs": [
    {
     "data": {
      "text/plain": [
       "[0, 1, 2, 3]"
      ]
     },
     "execution_count": 123,
     "metadata": {},
     "output_type": "execute_result"
    }
   ],
   "source": [
    "list(range(4))"
   ]
  },
  {
   "cell_type": "code",
   "execution_count": 124,
   "metadata": {
    "colab": {
     "base_uri": "https://localhost:8080/"
    },
    "executionInfo": {
     "elapsed": 231,
     "status": "ok",
     "timestamp": 1627319618319,
     "user": {
      "displayName": "Mateusz Zimoch",
      "photoUrl": "https://lh3.googleusercontent.com/a-/AOh14GhLKHKJhMI_pTIoYkcl8z-E-V849Je8P3XxEzn2DQ=s64",
      "userId": "02738966002905530559"
     },
     "user_tz": -120
    },
    "id": "8wmdF_NGMa0x",
    "outputId": "c5eec615-0579-4d6d-c5b1-d43a2110f672"
   },
   "outputs": [
    {
     "name": "stdout",
     "output_type": "stream",
     "text": [
      "TypeError: rob_cos_z_tablica() missing 1 required positional argument: 'index'\n",
      "IndexError: list assignment index out of range\n"
     ]
    }
   ],
   "source": [
    "try:\n",
    "    try:\n",
    "        rob_cos_z_tablica(the_list)\n",
    "    except TypeError as ter:\n",
    "        print('TypeError:', ter)\n",
    "        rob_cos_z_tablica(the_list, 10)\n",
    "except IndexError as ier:\n",
    "    print('IndexError:', ier)"
   ]
  },
  {
   "cell_type": "code",
   "execution_count": 125,
   "metadata": {
    "colab": {
     "base_uri": "https://localhost:8080/",
     "height": 167
    },
    "executionInfo": {
     "elapsed": 261,
     "status": "error",
     "timestamp": 1627319782117,
     "user": {
      "displayName": "Mateusz Zimoch",
      "photoUrl": "https://lh3.googleusercontent.com/a-/AOh14GhLKHKJhMI_pTIoYkcl8z-E-V849Je8P3XxEzn2DQ=s64",
      "userId": "02738966002905530559"
     },
     "user_tz": -120
    },
    "id": "gjHHiYSrMa0x",
    "outputId": "65df89e5-3de3-4ad4-a0e1-4f44793ba300"
   },
   "outputs": [
    {
     "ename": "Exception",
     "evalue": "jestem wyjatkiem",
     "output_type": "error",
     "traceback": [
      "\u001b[1;31m---------------------------------------------------------------------------\u001b[0m",
      "\u001b[1;31mException\u001b[0m                                 Traceback (most recent call last)",
      "\u001b[1;32m<ipython-input-125-fcadbf3d14db>\u001b[0m in \u001b[0;36m<module>\u001b[1;34m\u001b[0m\n\u001b[1;32m----> 1\u001b[1;33m \u001b[1;32mraise\u001b[0m \u001b[0mException\u001b[0m\u001b[1;33m(\u001b[0m\u001b[1;34m'jestem wyjatkiem'\u001b[0m\u001b[1;33m)\u001b[0m\u001b[1;33m\u001b[0m\u001b[1;33m\u001b[0m\u001b[0m\n\u001b[0m",
      "\u001b[1;31mException\u001b[0m: jestem wyjatkiem"
     ]
    }
   ],
   "source": [
    "raise Exception('jestem wyjatkiem')"
   ]
  },
  {
   "cell_type": "code",
   "execution_count": 126,
   "metadata": {
    "colab": {
     "base_uri": "https://localhost:8080/"
    },
    "executionInfo": {
     "elapsed": 232,
     "status": "ok",
     "timestamp": 1627319779833,
     "user": {
      "displayName": "Mateusz Zimoch",
      "photoUrl": "https://lh3.googleusercontent.com/a-/AOh14GhLKHKJhMI_pTIoYkcl8z-E-V849Je8P3XxEzn2DQ=s64",
      "userId": "02738966002905530559"
     },
     "user_tz": -120
    },
    "id": "BhAMQmBUMa0y",
    "outputId": "f10ec458-1332-4279-d1bf-98465eec9ff8"
   },
   "outputs": [
    {
     "name": "stdout",
     "output_type": "stream",
     "text": [
      "wyjatek1\n"
     ]
    }
   ],
   "source": [
    "try:\n",
    "    raise Exception('wyjatek1')\n",
    "except Exception as e:\n",
    "    print(e)"
   ]
  },
  {
   "cell_type": "code",
   "execution_count": 127,
   "metadata": {
    "colab": {
     "base_uri": "https://localhost:8080/",
     "height": 253
    },
    "executionInfo": {
     "elapsed": 243,
     "status": "error",
     "timestamp": 1627319813140,
     "user": {
      "displayName": "Mateusz Zimoch",
      "photoUrl": "https://lh3.googleusercontent.com/a-/AOh14GhLKHKJhMI_pTIoYkcl8z-E-V849Je8P3XxEzn2DQ=s64",
      "userId": "02738966002905530559"
     },
     "user_tz": -120
    },
    "id": "HSTl2rUDMa0y",
    "outputId": "051e7a14-9285-4d8d-d53f-26904e1257cd"
   },
   "outputs": [
    {
     "name": "stdout",
     "output_type": "stream",
     "text": [
      "wyjatek\n"
     ]
    },
    {
     "ename": "Exception",
     "evalue": "wyjatek",
     "output_type": "error",
     "traceback": [
      "\u001b[1;31m---------------------------------------------------------------------------\u001b[0m",
      "\u001b[1;31mException\u001b[0m                                 Traceback (most recent call last)",
      "\u001b[1;32m<ipython-input-127-643297d58e27>\u001b[0m in \u001b[0;36m<module>\u001b[1;34m\u001b[0m\n\u001b[0;32m      1\u001b[0m \u001b[1;32mtry\u001b[0m\u001b[1;33m:\u001b[0m\u001b[1;33m\u001b[0m\u001b[1;33m\u001b[0m\u001b[0m\n\u001b[1;32m----> 2\u001b[1;33m     \u001b[1;32mraise\u001b[0m \u001b[0mException\u001b[0m\u001b[1;33m(\u001b[0m\u001b[1;34m'wyjatek'\u001b[0m\u001b[1;33m)\u001b[0m\u001b[1;33m\u001b[0m\u001b[1;33m\u001b[0m\u001b[0m\n\u001b[0m\u001b[0;32m      3\u001b[0m \u001b[1;32mexcept\u001b[0m \u001b[0mException\u001b[0m \u001b[1;32mas\u001b[0m \u001b[0me\u001b[0m\u001b[1;33m:\u001b[0m\u001b[1;33m\u001b[0m\u001b[1;33m\u001b[0m\u001b[0m\n\u001b[0;32m      4\u001b[0m     \u001b[0mprint\u001b[0m\u001b[1;33m(\u001b[0m\u001b[0me\u001b[0m\u001b[1;33m)\u001b[0m\u001b[1;33m\u001b[0m\u001b[1;33m\u001b[0m\u001b[0m\n\u001b[0;32m      5\u001b[0m     \u001b[1;32mraise\u001b[0m\u001b[1;33m\u001b[0m\u001b[1;33m\u001b[0m\u001b[0m\n",
      "\u001b[1;31mException\u001b[0m: wyjatek"
     ]
    }
   ],
   "source": [
    "try:\n",
    "    raise Exception('wyjatek')\n",
    "except Exception as e:\n",
    "    print(e)\n",
    "    raise "
   ]
  },
  {
   "cell_type": "code",
   "execution_count": 129,
   "metadata": {
    "colab": {
     "base_uri": "https://localhost:8080/"
    },
    "executionInfo": {
     "elapsed": 3049,
     "status": "ok",
     "timestamp": 1627320763613,
     "user": {
      "displayName": "Mateusz Zimoch",
      "photoUrl": "https://lh3.googleusercontent.com/a-/AOh14GhLKHKJhMI_pTIoYkcl8z-E-V849Je8P3XxEzn2DQ=s64",
      "userId": "02738966002905530559"
     },
     "user_tz": -120
    },
    "id": "cWdTa4q30fzA",
    "outputId": "bc08157a-56e1-475e-d151-ab5b72eb3477"
   },
   "outputs": [
    {
     "name": "stdout",
     "output_type": "stream",
     "text": [
      "Ile masz lat? 15\n",
      "Użytkownik za młody\n"
     ]
    }
   ],
   "source": [
    "try:\n",
    "    wiek = input(\"Ile masz lat? \")\n",
    "    if int(wiek) < 18:\n",
    "        raise Exception(\"Użytkownik za młody\")\n",
    "    print(\"OK\")\n",
    "  #przejście dalej\n",
    "except Exception as e:\n",
    "    print(e)\n",
    "  #zablokowanie treści"
   ]
  },
  {
   "cell_type": "markdown",
   "metadata": {
    "slideshow": {
     "slide_type": "subslide"
    }
   },
   "source": [
    "## Własna definicja klasy wyjątku"
   ]
  },
  {
   "cell_type": "markdown",
   "metadata": {
    "slideshow": {
     "slide_type": "fragment"
    }
   },
   "source": [
    "Definiowanie własnych błędów\n",
    "- błąd powinien dziedziczyć po Exception\n",
    "- zazwyczaj klasy błędów są proste\n",
    "- często, gdy planujemy stworzyć więcej niż jeden błąd, tworzy się wspólną nadklasę dla modułu"
   ]
  },
  {
   "cell_type": "code",
   "execution_count": null,
   "metadata": {
    "slideshow": {
     "slide_type": "subslide"
    }
   },
   "outputs": [],
   "source": [
    "class IncorrectGuessError(Exception):\n",
    "    def __init__(self, difference):\n",
    "        self.difference = difference"
   ]
  },
  {
   "cell_type": "code",
   "execution_count": null,
   "metadata": {
    "slideshow": {
     "slide_type": "-"
    }
   },
   "outputs": [],
   "source": [
    "class NumberTooSmall(IncorrectGuessError):\n",
    "    pass"
   ]
  },
  {
   "cell_type": "code",
   "execution_count": null,
   "metadata": {
    "slideshow": {
     "slide_type": "-"
    }
   },
   "outputs": [],
   "source": [
    "class NumberTooBig(IncorrectGuessError):\n",
    "    pass"
   ]
  }
 ],
 "metadata": {
  "colab": {
   "name": "Lekcja+10.+Python+-+wprowadzenie_ZMODYFIKOWANE.ipynb",
   "provenance": []
  },
  "kernelspec": {
   "display_name": "Python 3 (ipykernel)",
   "language": "python",
   "name": "python3"
  },
  "language_info": {
   "codemirror_mode": {
    "name": "ipython",
    "version": 3
   },
   "file_extension": ".py",
   "mimetype": "text/x-python",
   "name": "python",
   "nbconvert_exporter": "python",
   "pygments_lexer": "ipython3",
   "version": "3.9.7"
  }
 },
 "nbformat": 4,
 "nbformat_minor": 1
}
