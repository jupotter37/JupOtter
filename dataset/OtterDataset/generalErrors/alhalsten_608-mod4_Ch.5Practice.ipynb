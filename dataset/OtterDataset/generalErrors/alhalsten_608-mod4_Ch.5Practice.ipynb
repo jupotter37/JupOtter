{
 "cells": [
  {
   "cell_type": "code",
   "execution_count": 1,
   "id": "869816b7-18f6-4c8f-9212-053b3fe183f5",
   "metadata": {},
   "outputs": [
    {
     "data": {
      "text/plain": [
       "[-45, 6, 0, 72, 1543]"
      ]
     },
     "execution_count": 1,
     "metadata": {},
     "output_type": "execute_result"
    }
   ],
   "source": [
    "c=[-45,6,0,72,1543]\n",
    "\n",
    "c"
   ]
  },
  {
   "cell_type": "code",
   "execution_count": 2,
   "id": "ac521eba-a186-4aa5-877c-221ab1e03790",
   "metadata": {},
   "outputs": [
    {
     "data": {
      "text/plain": [
       "-45"
      ]
     },
     "execution_count": 2,
     "metadata": {},
     "output_type": "execute_result"
    }
   ],
   "source": [
    "c[0]"
   ]
  },
  {
   "cell_type": "code",
   "execution_count": 3,
   "id": "a1aaa4de-e7cb-4175-b2e5-97a4022cf559",
   "metadata": {},
   "outputs": [
    {
     "data": {
      "text/plain": [
       "1543"
      ]
     },
     "execution_count": 3,
     "metadata": {},
     "output_type": "execute_result"
    }
   ],
   "source": [
    "c[4]"
   ]
  },
  {
   "cell_type": "code",
   "execution_count": 4,
   "id": "4b0eff11-2711-4668-b316-3e5a212a9ebe",
   "metadata": {},
   "outputs": [
    {
     "data": {
      "text/plain": [
       "5"
      ]
     },
     "execution_count": 4,
     "metadata": {},
     "output_type": "execute_result"
    }
   ],
   "source": [
    "len(c)"
   ]
  },
  {
   "cell_type": "code",
   "execution_count": 5,
   "id": "bf4753e5-8705-4ea1-93b4-d847db4d9882",
   "metadata": {},
   "outputs": [
    {
     "data": {
      "text/plain": [
       "1543"
      ]
     },
     "execution_count": 5,
     "metadata": {},
     "output_type": "execute_result"
    }
   ],
   "source": [
    "c[-1]"
   ]
  },
  {
   "cell_type": "code",
   "execution_count": 6,
   "id": "b62b8d58-146c-40c2-a220-c109e85c3141",
   "metadata": {},
   "outputs": [
    {
     "data": {
      "text/plain": [
       "-45"
      ]
     },
     "execution_count": 6,
     "metadata": {},
     "output_type": "execute_result"
    }
   ],
   "source": [
    "c[-5]"
   ]
  },
  {
   "cell_type": "code",
   "execution_count": 7,
   "id": "36bea374-5ec6-4c73-9b4a-d5810a8c4845",
   "metadata": {},
   "outputs": [
    {
     "data": {
      "text/plain": [
       "72"
      ]
     },
     "execution_count": 7,
     "metadata": {},
     "output_type": "execute_result"
    }
   ],
   "source": [
    "a=1\n",
    "\n",
    "b=2\n",
    "c[a+b]"
   ]
  },
  {
   "cell_type": "code",
   "execution_count": 8,
   "id": "01d7fbcf-2c23-44cb-809c-2f033f2c0e8b",
   "metadata": {},
   "outputs": [
    {
     "data": {
      "text/plain": [
       "[-45, 6, 0, 72, 17]"
      ]
     },
     "execution_count": 8,
     "metadata": {},
     "output_type": "execute_result"
    }
   ],
   "source": [
    "c[4]=17\n",
    "\n",
    "c"
   ]
  },
  {
   "cell_type": "code",
   "execution_count": 9,
   "id": "1652a6a0-032b-477c-b5d0-e0910fc6d473",
   "metadata": {},
   "outputs": [
    {
     "data": {
      "text/plain": [
       "'h'"
      ]
     },
     "execution_count": 9,
     "metadata": {},
     "output_type": "execute_result"
    }
   ],
   "source": [
    "s='hello'\n",
    "\n",
    "s[0]"
   ]
  },
  {
   "cell_type": "code",
   "execution_count": 10,
   "id": "4a680821-86b9-4537-9267-329d57a6af40",
   "metadata": {},
   "outputs": [
    {
     "ename": "SyntaxError",
     "evalue": "EOL while scanning string literal (3303188249.py, line 1)",
     "output_type": "error",
     "traceback": [
      "\u001b[1;36m  Input \u001b[1;32mIn [10]\u001b[1;36m\u001b[0m\n\u001b[1;33m    s[0]=\"H'\u001b[0m\n\u001b[1;37m            ^\u001b[0m\n\u001b[1;31mSyntaxError\u001b[0m\u001b[1;31m:\u001b[0m EOL while scanning string literal\n"
     ]
    }
   ],
   "source": [
    "s[0]=\"H'"
   ]
  },
  {
   "cell_type": "code",
   "execution_count": 11,
   "id": "763886a2-1fe2-481c-a5a3-e469b78e65e1",
   "metadata": {},
   "outputs": [
    {
     "ename": "IndexError",
     "evalue": "list index out of range",
     "output_type": "error",
     "traceback": [
      "\u001b[1;31m---------------------------------------------------------------------------\u001b[0m",
      "\u001b[1;31mIndexError\u001b[0m                                Traceback (most recent call last)",
      "Input \u001b[1;32mIn [11]\u001b[0m, in \u001b[0;36m<cell line: 1>\u001b[1;34m()\u001b[0m\n\u001b[1;32m----> 1\u001b[0m \u001b[43mc\u001b[49m\u001b[43m[\u001b[49m\u001b[38;5;241;43m100\u001b[39;49m\u001b[43m]\u001b[49m\n",
      "\u001b[1;31mIndexError\u001b[0m: list index out of range"
     ]
    }
   ],
   "source": [
    "c[100]"
   ]
  },
  {
   "cell_type": "code",
   "execution_count": 12,
   "id": "8d4ebe69-693c-4101-8782-afe8b0b2dbc4",
   "metadata": {},
   "outputs": [
    {
     "data": {
      "text/plain": [
       "-39"
      ]
     },
     "execution_count": 12,
     "metadata": {},
     "output_type": "execute_result"
    }
   ],
   "source": [
    "c[0]+c[1]+c[2]"
   ]
  },
  {
   "cell_type": "code",
   "execution_count": 13,
   "id": "1db0e362-fd3b-42e9-a319-841c6a5f0000",
   "metadata": {},
   "outputs": [
    {
     "data": {
      "text/plain": [
       "[1, 2, 3, 4, 5]"
      ]
     },
     "execution_count": 13,
     "metadata": {},
     "output_type": "execute_result"
    }
   ],
   "source": [
    "a_list=[]\n",
    "\n",
    "for number in range(1,6):\n",
    "    a_list += [number]\n",
    "    \n",
    "a_list"
   ]
  },
  {
   "cell_type": "code",
   "execution_count": 14,
   "id": "84331e0e-292b-40c0-85dc-6aff23b7fdea",
   "metadata": {},
   "outputs": [
    {
     "data": {
      "text/plain": [
       "['P', 'y', 't', 'h', 'o', 'n']"
      ]
     },
     "execution_count": 14,
     "metadata": {},
     "output_type": "execute_result"
    }
   ],
   "source": [
    "letters =[]\n",
    "\n",
    "letters+= 'Python'\n",
    "\n",
    "letters"
   ]
  },
  {
   "cell_type": "code",
   "execution_count": 15,
   "id": "9ad5b793-d359-4217-845e-fb7e2b743e94",
   "metadata": {},
   "outputs": [
    {
     "data": {
      "text/plain": [
       "[10, 20, 30, 40, 50]"
      ]
     },
     "execution_count": 15,
     "metadata": {},
     "output_type": "execute_result"
    }
   ],
   "source": [
    "list1 =[10,20,30]\n",
    "\n",
    "list2=[40,50]\n",
    "\n",
    "concatenated_list = list1+list2\n",
    "concatenated_list"
   ]
  },
  {
   "cell_type": "code",
   "execution_count": 18,
   "id": "0d178dc0-22eb-4889-b069-20038c9e329a",
   "metadata": {},
   "outputs": [
    {
     "name": "stdout",
     "output_type": "stream",
     "text": [
      "0: 10\n",
      "1: 20\n",
      "2: 30\n",
      "3: 40\n",
      "4: 50\n"
     ]
    }
   ],
   "source": [
    "for i in range(len(concatenated_list)):\n",
    "       print(f'{i}: {concatenated_list[i]}')"
   ]
  },
  {
   "cell_type": "code",
   "execution_count": 19,
   "id": "6b142846-358d-45ed-b166-60b92c603f1e",
   "metadata": {},
   "outputs": [
    {
     "data": {
      "text/plain": [
       "True"
      ]
     },
     "execution_count": 19,
     "metadata": {},
     "output_type": "execute_result"
    }
   ],
   "source": [
    "a=[1,2,3]\n",
    "\n",
    "b=[1,2,3]\n",
    "\n",
    "c=[1,2,3,4]\n",
    "\n",
    "a==b"
   ]
  },
  {
   "cell_type": "code",
   "execution_count": 20,
   "id": "48050d50-ffaf-43fd-a5b2-a1d9bbcb000f",
   "metadata": {},
   "outputs": [
    {
     "data": {
      "text/plain": [
       "False"
      ]
     },
     "execution_count": 20,
     "metadata": {},
     "output_type": "execute_result"
    }
   ],
   "source": [
    "a==c"
   ]
  },
  {
   "cell_type": "code",
   "execution_count": 21,
   "id": "55a7021d-29e3-48e0-8a1f-afba42040e9b",
   "metadata": {},
   "outputs": [
    {
     "data": {
      "text/plain": [
       "True"
      ]
     },
     "execution_count": 21,
     "metadata": {},
     "output_type": "execute_result"
    }
   ],
   "source": [
    "a<c"
   ]
  },
  {
   "cell_type": "code",
   "execution_count": 22,
   "id": "982d3d41-26ea-4c5b-8b81-520303c8222a",
   "metadata": {},
   "outputs": [
    {
     "data": {
      "text/plain": [
       "True"
      ]
     },
     "execution_count": 22,
     "metadata": {},
     "output_type": "execute_result"
    }
   ],
   "source": [
    "c>=b"
   ]
  },
  {
   "cell_type": "code",
   "execution_count": 24,
   "id": "5900acc0-2f35-452d-b31b-b77c0e9f0ae5",
   "metadata": {},
   "outputs": [
    {
     "data": {
      "text/plain": [
       "[1, 8, 27, 64, 125, 216, 343, 512, 729, 1000]"
      ]
     },
     "execution_count": 24,
     "metadata": {},
     "output_type": "execute_result"
    }
   ],
   "source": [
    "def cube_list(values):\n",
    "    for i in range(len(values)):\n",
    "        values[i]**=3\n",
    "\n",
    "numbers=[1,2,3,4,5,6,7,8,9,10]\n",
    "\n",
    "cube_list(numbers)\n",
    "\n",
    "numbers"
   ]
  },
  {
   "cell_type": "code",
   "execution_count": null,
   "id": "60e61bb0-6869-4911-acfa-8fce7608da20",
   "metadata": {},
   "outputs": [],
   "source": [
    "Angela Halsten"
   ]
  },
  {
   "cell_type": "code",
   "execution_count": 25,
   "id": "ab64cd07-2b6b-440f-8629-21aceb718361",
   "metadata": {},
   "outputs": [
    {
     "data": {
      "text/plain": [
       "['B', 'i', 'r', 't', 'h', 'd', 'a', 'y']"
      ]
     },
     "execution_count": 25,
     "metadata": {},
     "output_type": "execute_result"
    }
   ],
   "source": [
    "characters=[]\n",
    "\n",
    "characters+='Birthday'\n",
    "\n",
    "characters"
   ]
  },
  {
   "cell_type": "code",
   "execution_count": 26,
   "id": "12624157-4753-45e3-9a25-c5f3a468ba7a",
   "metadata": {},
   "outputs": [
    {
     "data": {
      "text/plain": [
       "()"
      ]
     },
     "execution_count": 26,
     "metadata": {},
     "output_type": "execute_result"
    }
   ],
   "source": [
    "student_tuple=()\n",
    "\n",
    "student_tuple"
   ]
  },
  {
   "cell_type": "code",
   "execution_count": 27,
   "id": "04efa665-1eb2-45d5-9cf7-0be80577ac4f",
   "metadata": {},
   "outputs": [
    {
     "data": {
      "text/plain": [
       "0"
      ]
     },
     "execution_count": 27,
     "metadata": {},
     "output_type": "execute_result"
    }
   ],
   "source": [
    "len(student_tuple)"
   ]
  },
  {
   "cell_type": "code",
   "execution_count": 28,
   "id": "2c352e32-1dbb-4570-b066-4b8446331be9",
   "metadata": {},
   "outputs": [
    {
     "data": {
      "text/plain": [
       "('John', 'Green', 3.3)"
      ]
     },
     "execution_count": 28,
     "metadata": {},
     "output_type": "execute_result"
    }
   ],
   "source": [
    "student_tuple='John','Green',3.3\n",
    "\n",
    "student_tuple"
   ]
  },
  {
   "cell_type": "code",
   "execution_count": 29,
   "id": "2dd377ef-50ed-4e10-b34e-0516623fedca",
   "metadata": {},
   "outputs": [
    {
     "data": {
      "text/plain": [
       "3"
      ]
     },
     "execution_count": 29,
     "metadata": {},
     "output_type": "execute_result"
    }
   ],
   "source": [
    "len(student_tuple)"
   ]
  },
  {
   "cell_type": "code",
   "execution_count": 30,
   "id": "f869ded2-3877-498e-8b9a-75e8b94e1d92",
   "metadata": {},
   "outputs": [
    {
     "data": {
      "text/plain": [
       "('Mary', 'Red', 3.3)"
      ]
     },
     "execution_count": 30,
     "metadata": {},
     "output_type": "execute_result"
    }
   ],
   "source": [
    "another_student_tuple = ('Mary','Red',3.3)\n",
    "\n",
    "another_student_tuple"
   ]
  },
  {
   "cell_type": "code",
   "execution_count": 31,
   "id": "b58b561e-fc86-4ab4-a607-87626e2fb95b",
   "metadata": {},
   "outputs": [
    {
     "data": {
      "text/plain": [
       "('red',)"
      ]
     },
     "execution_count": 31,
     "metadata": {},
     "output_type": "execute_result"
    }
   ],
   "source": [
    "a_singleton_tuple=('red',)\n",
    "\n",
    "a_singleton_tuple"
   ]
  },
  {
   "cell_type": "code",
   "execution_count": 32,
   "id": "53b47ee3-b5c4-4d5f-9348-e5d145c4057c",
   "metadata": {},
   "outputs": [
    {
     "data": {
      "text/plain": [
       "(9, 16, 1)"
      ]
     },
     "execution_count": 32,
     "metadata": {},
     "output_type": "execute_result"
    }
   ],
   "source": [
    "time_tuple=(9,16,1)\n",
    "\n",
    "time_tuple"
   ]
  },
  {
   "cell_type": "code",
   "execution_count": 35,
   "id": "24f3438d-73c8-4629-9838-cbc7b7b4d1f1",
   "metadata": {},
   "outputs": [
    {
     "data": {
      "text/plain": [
       "33361"
      ]
     },
     "execution_count": 35,
     "metadata": {},
     "output_type": "execute_result"
    }
   ],
   "source": [
    "time_tuple[0]*3600+time_tuple[1]*60+time_tuple[2]"
   ]
  },
  {
   "cell_type": "code",
   "execution_count": 36,
   "id": "7da99845-1249-461b-b8b6-b8a9d46688fe",
   "metadata": {},
   "outputs": [
    {
     "data": {
      "text/plain": [
       "(10, 20, 30)"
      ]
     },
     "execution_count": 36,
     "metadata": {},
     "output_type": "execute_result"
    }
   ],
   "source": [
    "tuple1=(10,20,30)\n",
    "tuple2=tuple1\n",
    "\n",
    "tuple2"
   ]
  },
  {
   "cell_type": "code",
   "execution_count": 38,
   "id": "45d79e02-e5d7-438b-b4c8-3ae5abda5f22",
   "metadata": {},
   "outputs": [
    {
     "data": {
      "text/plain": [
       "(10, 20, 30, 40, 50)"
      ]
     },
     "execution_count": 38,
     "metadata": {},
     "output_type": "execute_result"
    }
   ],
   "source": [
    "tuple1 +=(40,50)\n",
    "\n",
    "tuple1"
   ]
  },
  {
   "cell_type": "code",
   "execution_count": 39,
   "id": "235d0c90-6c46-4f21-ac4f-53c197e985ab",
   "metadata": {},
   "outputs": [
    {
     "data": {
      "text/plain": [
       "(10, 20, 30)"
      ]
     },
     "execution_count": 39,
     "metadata": {},
     "output_type": "execute_result"
    }
   ],
   "source": [
    "tuple2"
   ]
  },
  {
   "cell_type": "code",
   "execution_count": 40,
   "id": "eff15916-5d62-4df5-be37-b4312feedf70",
   "metadata": {},
   "outputs": [
    {
     "data": {
      "text/plain": [
       "[1, 2, 3, 4, 5, 6, 7]"
      ]
     },
     "execution_count": 40,
     "metadata": {},
     "output_type": "execute_result"
    }
   ],
   "source": [
    "numbers=[1,2,3,4,5]\n",
    "\n",
    "numbers+=(6,7)\n",
    "\n",
    "numbers"
   ]
  },
  {
   "cell_type": "code",
   "execution_count": 45,
   "id": "3a4d002b-f5f6-4ad5-a866-1f004c0a93b0",
   "metadata": {},
   "outputs": [],
   "source": [
    "student_tuple = ('Amanda','Blue', [98, 75, 87])"
   ]
  },
  {
   "cell_type": "code",
   "execution_count": 46,
   "id": "07406958-d9a1-4fb5-a8e1-c796184d822a",
   "metadata": {},
   "outputs": [
    {
     "data": {
      "text/plain": [
       "('Amanda', 'Blue', [98, 85, 87])"
      ]
     },
     "execution_count": 46,
     "metadata": {},
     "output_type": "execute_result"
    }
   ],
   "source": [
    "student_tuple[2][1] = 85\n",
    "\n",
    "student_tuple"
   ]
  },
  {
   "cell_type": "code",
   "execution_count": 47,
   "id": "19a71f84-8d91-4413-80f1-1b87ed25dde4",
   "metadata": {},
   "outputs": [
    {
     "data": {
      "text/plain": [
       "(123.45,)"
      ]
     },
     "execution_count": 47,
     "metadata": {},
     "output_type": "execute_result"
    }
   ],
   "source": [
    "single=(123.45,)\n",
    "\n",
    "single"
   ]
  },
  {
   "cell_type": "code",
   "execution_count": 48,
   "id": "3c1d97f4-3339-4abd-8230-92cfe51ed5f1",
   "metadata": {},
   "outputs": [
    {
     "ename": "TypeError",
     "evalue": "can only concatenate list (not \"tuple\") to list",
     "output_type": "error",
     "traceback": [
      "\u001b[1;31m---------------------------------------------------------------------------\u001b[0m",
      "\u001b[1;31mTypeError\u001b[0m                                 Traceback (most recent call last)",
      "Input \u001b[1;32mIn [48]\u001b[0m, in \u001b[0;36m<cell line: 1>\u001b[1;34m()\u001b[0m\n\u001b[1;32m----> 1\u001b[0m \u001b[43m[\u001b[49m\u001b[38;5;241;43m1\u001b[39;49m\u001b[43m,\u001b[49m\u001b[38;5;241;43m2\u001b[39;49m\u001b[43m,\u001b[49m\u001b[38;5;241;43m3\u001b[39;49m\u001b[43m]\u001b[49m\u001b[38;5;241;43m+\u001b[39;49m\u001b[43m(\u001b[49m\u001b[38;5;241;43m4\u001b[39;49m\u001b[43m,\u001b[49m\u001b[38;5;241;43m5\u001b[39;49m\u001b[43m,\u001b[49m\u001b[38;5;241;43m6\u001b[39;49m\u001b[43m)\u001b[49m\n",
      "\u001b[1;31mTypeError\u001b[0m: can only concatenate list (not \"tuple\") to list"
     ]
    }
   ],
   "source": [
    "[1,2,3]+(4,5,6)"
   ]
  },
  {
   "cell_type": "code",
   "execution_count": 49,
   "id": "0c5ccc07-47f4-4998-b3d2-79314d555e3d",
   "metadata": {},
   "outputs": [
    {
     "data": {
      "text/plain": [
       "'Amanda'"
      ]
     },
     "execution_count": 49,
     "metadata": {},
     "output_type": "execute_result"
    }
   ],
   "source": [
    "student_tuple=('Amanda', [98,85,87])\n",
    "\n",
    "first_name, grades=student_tuple\n",
    "\n",
    "first_name"
   ]
  },
  {
   "cell_type": "code",
   "execution_count": 50,
   "id": "ee77de49-dfe4-46e4-b30d-0bf49b2c5e9a",
   "metadata": {},
   "outputs": [
    {
     "data": {
      "text/plain": [
       "[98, 85, 87]"
      ]
     },
     "execution_count": 50,
     "metadata": {},
     "output_type": "execute_result"
    }
   ],
   "source": [
    "grades"
   ]
  },
  {
   "cell_type": "code",
   "execution_count": 51,
   "id": "c3467b3e-554a-4757-9f5c-19987c912555",
   "metadata": {},
   "outputs": [
    {
     "name": "stdout",
     "output_type": "stream",
     "text": [
      "h i\n"
     ]
    }
   ],
   "source": [
    "first, second = 'hi'\n",
    "print(f'{first} {second}')"
   ]
  },
  {
   "cell_type": "code",
   "execution_count": 54,
   "id": "a308972a-274a-4d1f-aeff-bdce91a57c40",
   "metadata": {},
   "outputs": [
    {
     "data": {
      "text/plain": [
       "('Monday', 87, 65)"
      ]
     },
     "execution_count": 54,
     "metadata": {},
     "output_type": "execute_result"
    }
   ],
   "source": [
    "high_low = ('Monday', 87, 65)\n",
    "high_low"
   ]
  },
  {
   "cell_type": "code",
   "execution_count": 64,
   "id": "104af5cd-a399-43ec-879e-022cd81530e9",
   "metadata": {},
   "outputs": [
    {
     "name": "stdout",
     "output_type": "stream",
     "text": [
      "2 3 5\n"
     ]
    }
   ],
   "source": [
    "number1,number2,number3 =[2,3,5]\n",
    "print(f'{number1} {number2} {number3}')"
   ]
  },
  {
   "cell_type": "code",
   "execution_count": 65,
   "id": "29499b21-496e-4743-a643-c737fed67ef5",
   "metadata": {},
   "outputs": [
    {
     "name": "stdout",
     "output_type": "stream",
     "text": [
      "10 20 30\n"
     ]
    }
   ],
   "source": [
    "number1, number2, number3=range(10,40,10)\n",
    "print(f'{number1} {number2} {number3}')"
   ]
  },
  {
   "cell_type": "code",
   "execution_count": 68,
   "id": "d3fdccd9-688f-4f3c-805f-9ba19e74c0f3",
   "metadata": {},
   "outputs": [
    {
     "name": "stdout",
     "output_type": "stream",
     "text": [
      "number1 = 22; number2 = 99\n"
     ]
    }
   ],
   "source": [
    "number1=99\n",
    "number2=22\n",
    "number1, number2=(number2,number1)\n",
    "print(f'number1 = {number1}; number2 = {number2}')"
   ]
  },
  {
   "cell_type": "code",
   "execution_count": 69,
   "id": "c7e2789c-c994-4884-9d61-4ee542b8e8a5",
   "metadata": {},
   "outputs": [
    {
     "data": {
      "text/plain": [
       "[(0, 'red'), (1, 'orange'), (2, 'yellow')]"
      ]
     },
     "execution_count": 69,
     "metadata": {},
     "output_type": "execute_result"
    }
   ],
   "source": [
    "colors = ['red', 'orange', 'yellow']\n",
    "list(enumerate(colors))"
   ]
  },
  {
   "cell_type": "code",
   "execution_count": 70,
   "id": "cb5e580c-23ee-4acd-9458-3a8445f664e1",
   "metadata": {},
   "outputs": [
    {
     "data": {
      "text/plain": [
       "((0, 'red'), (1, 'orange'), (2, 'yellow'))"
      ]
     },
     "execution_count": 70,
     "metadata": {},
     "output_type": "execute_result"
    }
   ],
   "source": [
    "tuple(enumerate(colors))"
   ]
  },
  {
   "cell_type": "code",
   "execution_count": 71,
   "id": "ec6dbde8-4d24-4914-b966-3712763b6853",
   "metadata": {},
   "outputs": [
    {
     "name": "stdout",
     "output_type": "stream",
     "text": [
      "0: red\n",
      "1: orange\n",
      "2: yellow\n"
     ]
    }
   ],
   "source": [
    "for index, value in enumerate(colors):\n",
    "    print(f'{index}: {value}')"
   ]
  },
  {
   "cell_type": "code",
   "execution_count": 73,
   "id": "787cf0db-6e3d-4fdf-9c9c-86cae84250e5",
   "metadata": {},
   "outputs": [
    {
     "name": "stdout",
     "output_type": "stream",
     "text": [
      "\n",
      "Creating a bar chart from numbers:\n",
      "Index   Value   Bar\n",
      "    0      19   *******************\n",
      "    1       3   ***\n",
      "    2      15   ***************\n",
      "    3       7   *******\n",
      "    4      11   ***********\n"
     ]
    }
   ],
   "source": [
    "# fig05_01.py\n",
    "\"\"\"Displaying a bar chart\"\"\"\n",
    "numbers = [19, 3, 15, 7, 11]\n",
    "\n",
    "print('\\nCreating a bar chart from numbers:')\n",
    "print(f'Index{\"Value\":>8}   Bar')\n",
    "\n",
    "for index, value in enumerate(numbers):\n",
    "    print(f'{index:>5}{value:>8}   {\"*\" * value}')"
   ]
  },
  {
   "cell_type": "code",
   "execution_count": 61,
   "id": "522ba2f5-31dc-4b7e-836e-d86456bb9637",
   "metadata": {},
   "outputs": [
    {
     "name": "stdout",
     "output_type": "stream",
     "text": [
      "Monday: High=87, Low=65\n"
     ]
    }
   ],
   "source": [
    "print(f'{high_low[0]}: High={high_low[1]}, Low={high_low[2]}')"
   ]
  },
  {
   "cell_type": "code",
   "execution_count": 62,
   "id": "e35d14ee-a062-45e8-a7e8-2898be257d37",
   "metadata": {},
   "outputs": [
    {
     "ename": "ValueError",
     "evalue": "too many values to unpack (expected 2)",
     "output_type": "error",
     "traceback": [
      "\u001b[1;31m---------------------------------------------------------------------------\u001b[0m",
      "\u001b[1;31mValueError\u001b[0m                                Traceback (most recent call last)",
      "Input \u001b[1;32mIn [62]\u001b[0m, in \u001b[0;36m<cell line: 1>\u001b[1;34m()\u001b[0m\n\u001b[1;32m----> 1\u001b[0m day, high \u001b[38;5;241m=\u001b[39m high_low\n",
      "\u001b[1;31mValueError\u001b[0m: too many values to unpack (expected 2)"
     ]
    }
   ],
   "source": [
    "day, high = high_low"
   ]
  },
  {
   "cell_type": "code",
   "execution_count": 63,
   "id": "019e168a-2212-4119-9355-4f54a868435c",
   "metadata": {},
   "outputs": [
    {
     "name": "stdout",
     "output_type": "stream",
     "text": [
      "0: Amanda\n",
      "1: Sam\n",
      "2: David\n"
     ]
    }
   ],
   "source": [
    "names=['Amanda', 'Sam', 'David']\n",
    "\n",
    "for i, name in enumerate(names):\n",
    "    print(f'{i}: {name}')"
   ]
  },
  {
   "cell_type": "code",
   "execution_count": 93,
   "id": "c7220da1-49cb-4781-ad91-7c24c3dc6ba3",
   "metadata": {},
   "outputs": [
    {
     "data": {
      "text/plain": [
       "[5, 7, 11, 13]"
      ]
     },
     "execution_count": 93,
     "metadata": {},
     "output_type": "execute_result"
    }
   ],
   "source": [
    "numbers = [2, 3, 5, 7, 11,13,17,19]\n",
    "numbers[2:6]"
   ]
  },
  {
   "cell_type": "code",
   "execution_count": 77,
   "id": "3cf58642-9e5c-49ed-bc30-12820bbf03be",
   "metadata": {},
   "outputs": [
    {
     "data": {
      "text/plain": [
       "[2, 3, 5, 7, 11, 13]"
      ]
     },
     "execution_count": 77,
     "metadata": {},
     "output_type": "execute_result"
    }
   ],
   "source": [
    "numbers[:6]"
   ]
  },
  {
   "cell_type": "code",
   "execution_count": 78,
   "id": "62683101-08a7-4140-8b7f-621ad157b882",
   "metadata": {},
   "outputs": [
    {
     "data": {
      "text/plain": [
       "[2, 3, 5, 7, 11, 13]"
      ]
     },
     "execution_count": 78,
     "metadata": {},
     "output_type": "execute_result"
    }
   ],
   "source": [
    "numbers[0:6]"
   ]
  },
  {
   "cell_type": "code",
   "execution_count": 79,
   "id": "04e8aeed-3a27-4288-978d-e2799ba19094",
   "metadata": {},
   "outputs": [
    {
     "data": {
      "text/plain": [
       "[17, 19]"
      ]
     },
     "execution_count": 79,
     "metadata": {},
     "output_type": "execute_result"
    }
   ],
   "source": [
    "numbers[6:]"
   ]
  },
  {
   "cell_type": "code",
   "execution_count": 80,
   "id": "7bc86d97-1068-47cb-937e-81cfb05c5c61",
   "metadata": {},
   "outputs": [
    {
     "data": {
      "text/plain": [
       "[17, 19]"
      ]
     },
     "execution_count": 80,
     "metadata": {},
     "output_type": "execute_result"
    }
   ],
   "source": [
    "numbers[6:len(numbers)]"
   ]
  },
  {
   "cell_type": "code",
   "execution_count": 81,
   "id": "8105289d-c12a-4501-a204-c793bb2e3205",
   "metadata": {},
   "outputs": [
    {
     "data": {
      "text/plain": [
       "[2, 3, 5, 7, 11, 13, 17, 19]"
      ]
     },
     "execution_count": 81,
     "metadata": {},
     "output_type": "execute_result"
    }
   ],
   "source": [
    "numbers[:]"
   ]
  },
  {
   "cell_type": "code",
   "execution_count": 82,
   "id": "eebaca91-75d0-44d4-be5d-135bbee204c0",
   "metadata": {},
   "outputs": [
    {
     "data": {
      "text/plain": [
       "[2, 5, 11, 17]"
      ]
     },
     "execution_count": 82,
     "metadata": {},
     "output_type": "execute_result"
    }
   ],
   "source": [
    "numbers[::2]"
   ]
  },
  {
   "cell_type": "code",
   "execution_count": 83,
   "id": "7a68fde5-445f-4ed5-961c-1641357328d5",
   "metadata": {},
   "outputs": [
    {
     "data": {
      "text/plain": [
       "[19, 17, 13, 11, 7, 5, 3, 2]"
      ]
     },
     "execution_count": 83,
     "metadata": {},
     "output_type": "execute_result"
    }
   ],
   "source": [
    "numbers[::-1]"
   ]
  },
  {
   "cell_type": "code",
   "execution_count": 84,
   "id": "13cfa678-0275-4af1-99fa-ee98d2b10e70",
   "metadata": {},
   "outputs": [
    {
     "data": {
      "text/plain": [
       "[19, 17, 13, 11, 7, 5, 3, 2]"
      ]
     },
     "execution_count": 84,
     "metadata": {},
     "output_type": "execute_result"
    }
   ],
   "source": [
    "numbers[-1:-9:-1]"
   ]
  },
  {
   "cell_type": "code",
   "execution_count": 92,
   "id": "4c16248b-ff6d-4c8d-8f9f-202a2cff70d1",
   "metadata": {},
   "outputs": [
    {
     "data": {
      "text/plain": [
       "['two', 'three', 'five']"
      ]
     },
     "execution_count": 92,
     "metadata": {},
     "output_type": "execute_result"
    }
   ],
   "source": [
    "numbers[0:3]=['two','three','five']\n",
    "numbers"
   ]
  },
  {
   "cell_type": "code",
   "execution_count": 94,
   "id": "23c617f1-96a6-43fe-9c49-cb704e8d70eb",
   "metadata": {},
   "outputs": [
    {
     "data": {
      "text/plain": [
       "[7, 11, 13, 17, 19]"
      ]
     },
     "execution_count": 94,
     "metadata": {},
     "output_type": "execute_result"
    }
   ],
   "source": [
    "numbers[0:3] = []\n",
    "numbers"
   ]
  },
  {
   "cell_type": "code",
   "execution_count": 96,
   "id": "3c2ad047-7eba-4e4f-91c6-06c592fc87f6",
   "metadata": {},
   "outputs": [
    {
     "data": {
      "text/plain": [
       "[100, 3, 100, 7, 100, 13, 100, 19]"
      ]
     },
     "execution_count": 96,
     "metadata": {},
     "output_type": "execute_result"
    }
   ],
   "source": [
    "numbers=[2,3,5,7,11,13,17,19]\n",
    "numbers[::2]=[100,100,100,100]\n",
    "numbers"
   ]
  },
  {
   "cell_type": "code",
   "execution_count": 97,
   "id": "3c1c124d-fa38-4a99-883e-60dcb7ee862c",
   "metadata": {},
   "outputs": [
    {
     "data": {
      "text/plain": [
       "2025967732736"
      ]
     },
     "execution_count": 97,
     "metadata": {},
     "output_type": "execute_result"
    }
   ],
   "source": [
    "id(numbers)"
   ]
  },
  {
   "cell_type": "code",
   "execution_count": 98,
   "id": "13d1575b-d7b8-42ab-9e50-765bcb60fd2c",
   "metadata": {},
   "outputs": [
    {
     "data": {
      "text/plain": [
       "[]"
      ]
     },
     "execution_count": 98,
     "metadata": {},
     "output_type": "execute_result"
    }
   ],
   "source": [
    "numbers[:]=[]\n",
    "numbers"
   ]
  },
  {
   "cell_type": "code",
   "execution_count": 99,
   "id": "35840188-d2c3-47c0-9645-cce0dac7c71e",
   "metadata": {},
   "outputs": [
    {
     "data": {
      "text/plain": [
       "2025967732736"
      ]
     },
     "execution_count": 99,
     "metadata": {},
     "output_type": "execute_result"
    }
   ],
   "source": [
    "id(numbers)"
   ]
  },
  {
   "cell_type": "code",
   "execution_count": 100,
   "id": "938083c1-3c85-44c1-83a8-1494becddbab",
   "metadata": {},
   "outputs": [
    {
     "data": {
      "text/plain": [
       "[]"
      ]
     },
     "execution_count": 100,
     "metadata": {},
     "output_type": "execute_result"
    }
   ],
   "source": [
    "numbers=[]\n",
    "numbers"
   ]
  },
  {
   "cell_type": "code",
   "execution_count": 101,
   "id": "7abdffb6-7682-4d95-9030-90c7648c3768",
   "metadata": {},
   "outputs": [
    {
     "data": {
      "text/plain": [
       "2025967650688"
      ]
     },
     "execution_count": 101,
     "metadata": {},
     "output_type": "execute_result"
    }
   ],
   "source": [
    "id(numbers)"
   ]
  },
  {
   "cell_type": "code",
   "execution_count": 103,
   "id": "018f8fcd-1cde-4dc3-abfd-399328b78f51",
   "metadata": {},
   "outputs": [
    {
     "data": {
      "text/plain": [
       "[2, 4, 6, 8, 10, 12, 14]"
      ]
     },
     "execution_count": 103,
     "metadata": {},
     "output_type": "execute_result"
    }
   ],
   "source": [
    "numbers=list(range(1,16))\n",
    "numbers[1:len(numbers):2]"
   ]
  },
  {
   "cell_type": "code",
   "execution_count": 105,
   "id": "7c121534-0d93-42df-bc98-f3bfc5cf3549",
   "metadata": {},
   "outputs": [
    {
     "data": {
      "text/plain": [
       "[1, 2, 3, 4, 5, 0, 0, 0, 0, 0, 11, 12, 13, 14, 15]"
      ]
     },
     "execution_count": 105,
     "metadata": {},
     "output_type": "execute_result"
    }
   ],
   "source": [
    "numbers[5:10]=[0]*len(numbers[5:10])\n",
    "numbers"
   ]
  },
  {
   "cell_type": "code",
   "execution_count": 106,
   "id": "9d101f53-e4b9-4239-ac75-0c305887d1ec",
   "metadata": {},
   "outputs": [
    {
     "data": {
      "text/plain": [
       "[1, 2, 3, 4, 5]"
      ]
     },
     "execution_count": 106,
     "metadata": {},
     "output_type": "execute_result"
    }
   ],
   "source": [
    "numbers[5:]=[]\n",
    "numbers"
   ]
  },
  {
   "cell_type": "code",
   "execution_count": 107,
   "id": "3b8c3840-1287-4152-93e9-c37759a3094a",
   "metadata": {},
   "outputs": [
    {
     "data": {
      "text/plain": [
       "[]"
      ]
     },
     "execution_count": 107,
     "metadata": {},
     "output_type": "execute_result"
    }
   ],
   "source": [
    "numbers[:]=[]\n",
    "numbers"
   ]
  },
  {
   "cell_type": "code",
   "execution_count": 108,
   "id": "0071769b-82fd-416e-91cf-a295e381e45d",
   "metadata": {},
   "outputs": [
    {
     "data": {
      "text/plain": [
       "[0, 1, 2, 3, 4, 5, 6, 7, 8, 9]"
      ]
     },
     "execution_count": 108,
     "metadata": {},
     "output_type": "execute_result"
    }
   ],
   "source": [
    "numbers =list(range(0,10))\n",
    "numbers"
   ]
  },
  {
   "cell_type": "code",
   "execution_count": 109,
   "id": "4e798386-06f6-4d50-9cdc-d5b219a869bd",
   "metadata": {},
   "outputs": [
    {
     "data": {
      "text/plain": [
       "[0, 1, 2, 3, 4, 5, 6, 7, 8]"
      ]
     },
     "execution_count": 109,
     "metadata": {},
     "output_type": "execute_result"
    }
   ],
   "source": [
    "del numbers[-1]\n",
    "numbers"
   ]
  },
  {
   "cell_type": "code",
   "execution_count": 110,
   "id": "df03b471-e287-45ab-b80e-5def34793721",
   "metadata": {},
   "outputs": [
    {
     "data": {
      "text/plain": [
       "[2, 3, 4, 5, 6, 7, 8]"
      ]
     },
     "execution_count": 110,
     "metadata": {},
     "output_type": "execute_result"
    }
   ],
   "source": [
    "del numbers[0:2]\n",
    "numbers"
   ]
  },
  {
   "cell_type": "code",
   "execution_count": 111,
   "id": "12b05103-cd1f-424b-9a94-07c5b8d325e7",
   "metadata": {},
   "outputs": [
    {
     "data": {
      "text/plain": [
       "[3, 5, 7]"
      ]
     },
     "execution_count": 111,
     "metadata": {},
     "output_type": "execute_result"
    }
   ],
   "source": [
    "del numbers[::2]\n",
    "numbers"
   ]
  },
  {
   "cell_type": "code",
   "execution_count": 112,
   "id": "08e42c59-7566-4e0d-81ff-e4abdf4fdfed",
   "metadata": {},
   "outputs": [
    {
     "data": {
      "text/plain": [
       "[]"
      ]
     },
     "execution_count": 112,
     "metadata": {},
     "output_type": "execute_result"
    }
   ],
   "source": [
    "del numbers[:]\n",
    "numbers"
   ]
  },
  {
   "cell_type": "code",
   "execution_count": 113,
   "id": "60262d03-e7c1-44f2-be8e-90230c8f2c4c",
   "metadata": {},
   "outputs": [
    {
     "ename": "NameError",
     "evalue": "name 'numbers' is not defined",
     "output_type": "error",
     "traceback": [
      "\u001b[1;31m---------------------------------------------------------------------------\u001b[0m",
      "\u001b[1;31mNameError\u001b[0m                                 Traceback (most recent call last)",
      "Input \u001b[1;32mIn [113]\u001b[0m, in \u001b[0;36m<cell line: 2>\u001b[1;34m()\u001b[0m\n\u001b[0;32m      1\u001b[0m \u001b[38;5;28;01mdel\u001b[39;00m numbers\n\u001b[1;32m----> 2\u001b[0m \u001b[43mnumbers\u001b[49m\n",
      "\u001b[1;31mNameError\u001b[0m: name 'numbers' is not defined"
     ]
    }
   ],
   "source": [
    "del numbers\n",
    "numbers"
   ]
  },
  {
   "cell_type": "code",
   "execution_count": 114,
   "id": "1013ab6e-86f3-463a-9310-671da1887cfb",
   "metadata": {},
   "outputs": [
    {
     "data": {
      "text/plain": [
       "[1, 2, 3, 4, 5, 6, 7, 8, 9, 10, 11, 12, 13, 14, 15]"
      ]
     },
     "execution_count": 114,
     "metadata": {},
     "output_type": "execute_result"
    }
   ],
   "source": [
    "numbers=list(range(1,16))\n",
    "numbers"
   ]
  },
  {
   "cell_type": "code",
   "execution_count": 115,
   "id": "f4cce96d-3d7a-4245-a1aa-cabbe63f6a8d",
   "metadata": {},
   "outputs": [
    {
     "data": {
      "text/plain": [
       "[5, 6, 7, 8, 9, 10, 11, 12, 13, 14, 15]"
      ]
     },
     "execution_count": 115,
     "metadata": {},
     "output_type": "execute_result"
    }
   ],
   "source": [
    "del numbers[0:4]\n",
    "numbers"
   ]
  },
  {
   "cell_type": "code",
   "execution_count": 116,
   "id": "03325b21-0f62-4a5e-a010-4125ebe3fcaf",
   "metadata": {},
   "outputs": [
    {
     "data": {
      "text/plain": [
       "[6, 8, 10, 12, 14]"
      ]
     },
     "execution_count": 116,
     "metadata": {},
     "output_type": "execute_result"
    }
   ],
   "source": [
    "del numbers[::2]\n",
    "numbers"
   ]
  },
  {
   "cell_type": "code",
   "execution_count": 117,
   "id": "f25c4a14-5a6e-4b9f-afbe-b84a27191417",
   "metadata": {},
   "outputs": [
    {
     "data": {
      "text/plain": [
       "[20, 6, 14, 2, 18]"
      ]
     },
     "execution_count": 117,
     "metadata": {},
     "output_type": "execute_result"
    }
   ],
   "source": [
    "def modify_elements(items):\n",
    "    for i in range(len(items)):\n",
    "        items[i]*=2\n",
    "        \n",
    "numbers=[10,3,7,1,9]\n",
    "modify_elements(numbers)\n",
    "numbers"
   ]
  },
  {
   "cell_type": "code",
   "execution_count": 119,
   "id": "da4bf327-572b-4c73-8bb4-67d908633571",
   "metadata": {},
   "outputs": [
    {
     "data": {
      "text/plain": [
       "[1, 2, 3, 4, 5, 6, 7, 8, 9, 10]"
      ]
     },
     "execution_count": 119,
     "metadata": {},
     "output_type": "execute_result"
    }
   ],
   "source": [
    "numbers=[10,3,7,1,9,4,2,8,5,6]\n",
    "numbers.sort()\n",
    "numbers"
   ]
  },
  {
   "cell_type": "code",
   "execution_count": 122,
   "id": "958565e1-ba53-4f39-b67c-5e1ccefdca85",
   "metadata": {},
   "outputs": [
    {
     "data": {
      "text/plain": [
       "[10, 9, 8, 7, 6, 5, 4, 3, 2, 1]"
      ]
     },
     "execution_count": 122,
     "metadata": {},
     "output_type": "execute_result"
    }
   ],
   "source": [
    "numbers.sort(reverse = True)\n",
    "numbers"
   ]
  },
  {
   "cell_type": "code",
   "execution_count": 124,
   "id": "ac8d2a4d-fd2e-449a-af08-8229e9b6ce3c",
   "metadata": {},
   "outputs": [
    {
     "data": {
      "text/plain": [
       "[1, 2, 3, 4, 5, 6, 7, 8, 9, 10]"
      ]
     },
     "execution_count": 124,
     "metadata": {},
     "output_type": "execute_result"
    }
   ],
   "source": [
    "numbers=[10,3,7,1,9,4,2,8,5,6]\n",
    "ascending_numbers=sorted(numbers)\n",
    "ascending_numbers"
   ]
  },
  {
   "cell_type": "code",
   "execution_count": 125,
   "id": "cda39620-3e95-4573-9b51-a4088f484d68",
   "metadata": {},
   "outputs": [
    {
     "data": {
      "text/plain": [
       "[10, 3, 7, 1, 9, 4, 2, 8, 5, 6]"
      ]
     },
     "execution_count": 125,
     "metadata": {},
     "output_type": "execute_result"
    }
   ],
   "source": [
    "numbers"
   ]
  },
  {
   "cell_type": "code",
   "execution_count": 126,
   "id": "9d877118-ed74-40ec-8723-16260dc596b6",
   "metadata": {},
   "outputs": [
    {
     "data": {
      "text/plain": [
       "['a', 'b', 'c', 'd', 'e', 'f', 'g', 'h', 'i', 'j']"
      ]
     },
     "execution_count": 126,
     "metadata": {},
     "output_type": "execute_result"
    }
   ],
   "source": [
    "letters='fadgchjebi'\n",
    "ascending_letters=sorted(letters)\n",
    "ascending_letters"
   ]
  },
  {
   "cell_type": "code",
   "execution_count": 128,
   "id": "2b0decce-6b4d-4b96-b3f6-9f517d747de0",
   "metadata": {},
   "outputs": [
    {
     "data": {
      "text/plain": [
       "['blue', 'green', 'orange', 'red', 'yellow']"
      ]
     },
     "execution_count": 128,
     "metadata": {},
     "output_type": "execute_result"
    }
   ],
   "source": [
    "colors=('red','orange','yellow','green','blue')\n",
    "ascending_colors=sorted(colors)\n",
    "ascending_colors"
   ]
  },
  {
   "cell_type": "code",
   "execution_count": 129,
   "id": "88246585-6e97-4fe4-9c94-1c6decb669c6",
   "metadata": {},
   "outputs": [
    {
     "data": {
      "text/plain": [
       "('red', 'orange', 'yellow', 'green', 'blue')"
      ]
     },
     "execution_count": 129,
     "metadata": {},
     "output_type": "execute_result"
    }
   ],
   "source": [
    "colors"
   ]
  },
  {
   "cell_type": "code",
   "execution_count": 132,
   "id": "36eba19a-a8c0-4c58-8536-ed687076e93b",
   "metadata": {},
   "outputs": [
    {
     "data": {
      "text/plain": [
       "['Bacon', 'Cookies', 'Grapes', 'apples', 'pizza', 'steak']"
      ]
     },
     "execution_count": 132,
     "metadata": {},
     "output_type": "execute_result"
    }
   ],
   "source": [
    "foods=['Cookies','pizza','Grapes','apples','steak','Bacon']\n",
    "foods.sort()\n",
    "foods"
   ]
  },
  {
   "cell_type": "code",
   "execution_count": 134,
   "id": "b7eb68fa-da28-46b1-8ee4-d9faaba1d895",
   "metadata": {},
   "outputs": [
    {
     "data": {
      "text/plain": [
       "6"
      ]
     },
     "execution_count": 134,
     "metadata": {},
     "output_type": "execute_result"
    }
   ],
   "source": [
    "numbers=[3,7,1,4,2,8,5,6]\n",
    "numbers.index(5)"
   ]
  },
  {
   "cell_type": "code",
   "execution_count": 135,
   "id": "f66adc93-74f4-4991-aebb-18e2ff1a8476",
   "metadata": {},
   "outputs": [
    {
     "data": {
      "text/plain": [
       "[3, 7, 1, 4, 2, 8, 5, 6, 3, 7, 1, 4, 2, 8, 5, 6]"
      ]
     },
     "execution_count": 135,
     "metadata": {},
     "output_type": "execute_result"
    }
   ],
   "source": [
    "numbers*=2\n",
    "numbers"
   ]
  },
  {
   "cell_type": "code",
   "execution_count": 136,
   "id": "3f944ece-fa98-4d75-be7b-fab82611dbc4",
   "metadata": {},
   "outputs": [
    {
     "data": {
      "text/plain": [
       "14"
      ]
     },
     "execution_count": 136,
     "metadata": {},
     "output_type": "execute_result"
    }
   ],
   "source": [
    "numbers.index(5,7)"
   ]
  },
  {
   "cell_type": "code",
   "execution_count": 138,
   "id": "9c494f53-ff66-44b5-9b67-24035bc3a9b5",
   "metadata": {},
   "outputs": [
    {
     "data": {
      "text/plain": [
       "1"
      ]
     },
     "execution_count": 138,
     "metadata": {},
     "output_type": "execute_result"
    }
   ],
   "source": [
    "numbers.index(7,0,4)\n"
   ]
  },
  {
   "cell_type": "code",
   "execution_count": 139,
   "id": "45687cbf-af04-476f-862d-edca34e1b79a",
   "metadata": {},
   "outputs": [
    {
     "data": {
      "text/plain": [
       "False"
      ]
     },
     "execution_count": 139,
     "metadata": {},
     "output_type": "execute_result"
    }
   ],
   "source": [
    "1000 in numbers"
   ]
  },
  {
   "cell_type": "code",
   "execution_count": 140,
   "id": "fd8bb723-5b6e-49ef-8c3d-4ad26088d6ad",
   "metadata": {},
   "outputs": [
    {
     "data": {
      "text/plain": [
       "True"
      ]
     },
     "execution_count": 140,
     "metadata": {},
     "output_type": "execute_result"
    }
   ],
   "source": [
    "5 in numbers"
   ]
  },
  {
   "cell_type": "code",
   "execution_count": 141,
   "id": "59e8e79c-75df-497d-9c74-d6389af1018d",
   "metadata": {},
   "outputs": [
    {
     "data": {
      "text/plain": [
       "True"
      ]
     },
     "execution_count": 141,
     "metadata": {},
     "output_type": "execute_result"
    }
   ],
   "source": [
    "1000 not in numbers"
   ]
  },
  {
   "cell_type": "code",
   "execution_count": 142,
   "id": "f2399bc7-59ad-47b8-aaf4-f02adc5da1b0",
   "metadata": {},
   "outputs": [
    {
     "data": {
      "text/plain": [
       "False"
      ]
     },
     "execution_count": 142,
     "metadata": {},
     "output_type": "execute_result"
    }
   ],
   "source": [
    "5 not in numbers"
   ]
  },
  {
   "cell_type": "code",
   "execution_count": 146,
   "id": "d314a78f-1370-4745-81d1-9fe0f7d0355e",
   "metadata": {},
   "outputs": [
    {
     "name": "stdout",
     "output_type": "stream",
     "text": [
      "1000 not fount\n"
     ]
    }
   ],
   "source": [
    "key=1000\n",
    "if key in numbers:\n",
    "    print(f'found {key} at index {numbers.index(key)}')\n",
    "else:\n",
    "    print(f'{key} not fount')\n",
    "                                                "
   ]
  },
  {
   "cell_type": "code",
   "execution_count": 147,
   "id": "44ab54cb-229c-4997-b84a-45055807cd8f",
   "metadata": {},
   "outputs": [
    {
     "data": {
      "text/plain": [
       "3"
      ]
     },
     "execution_count": 147,
     "metadata": {},
     "output_type": "execute_result"
    }
   ],
   "source": [
    "numbers=[67,12,46,43,14]\n",
    "numbers.index(43)"
   ]
  },
  {
   "cell_type": "code",
   "execution_count": 148,
   "id": "4fe28822-14aa-4f7f-8a2b-90a2b888c48c",
   "metadata": {},
   "outputs": [
    {
     "name": "stdout",
     "output_type": "stream",
     "text": [
      "44 not found\n"
     ]
    }
   ],
   "source": [
    "if 44 in numbers:\n",
    "    print(f'Found 44 at index: {numbers.index(44)}')\n",
    "else:\n",
    "    print('44 not found')"
   ]
  },
  {
   "cell_type": "code",
   "execution_count": 152,
   "id": "6cf609b7-a4dc-4784-a3fa-12d31c2ed6de",
   "metadata": {},
   "outputs": [
    {
     "data": {
      "text/plain": [
       "[1, 2, 3, 4, 5]"
      ]
     },
     "execution_count": 152,
     "metadata": {},
     "output_type": "execute_result"
    }
   ],
   "source": [
    "list1=[]\n",
    "\n",
    "for items in range(1,6):\n",
    "    list1.append(items)\n",
    "list1                           "
   ]
  },
  {
   "cell_type": "code",
   "execution_count": 153,
   "id": "ff67df3c-deb4-4f92-8eb8-3e6ca5979919",
   "metadata": {},
   "outputs": [
    {
     "data": {
      "text/plain": [
       "[1, 2, 3, 4, 5]"
      ]
     },
     "execution_count": 153,
     "metadata": {},
     "output_type": "execute_result"
    }
   ],
   "source": [
    "list2=[item for item in range(1,6)]\n",
    "list2"
   ]
  },
  {
   "cell_type": "code",
   "execution_count": 155,
   "id": "947a9191-db2a-4c31-9cd1-61955a50724d",
   "metadata": {},
   "outputs": [
    {
     "data": {
      "text/plain": [
       "[1, 8, 27, 64, 125]"
      ]
     },
     "execution_count": 155,
     "metadata": {},
     "output_type": "execute_result"
    }
   ],
   "source": [
    "list3=[item **3 for item in range(1,6)]\n",
    "list3"
   ]
  },
  {
   "cell_type": "code",
   "execution_count": 156,
   "id": "e269a975-9466-4db1-9841-429cb38c197f",
   "metadata": {},
   "outputs": [
    {
     "data": {
      "text/plain": [
       "[2, 4, 6, 8, 10]"
      ]
     },
     "execution_count": 156,
     "metadata": {},
     "output_type": "execute_result"
    }
   ],
   "source": [
    "list4=[item for item in range(1,11) if item%2==0]\n",
    "list4"
   ]
  },
  {
   "cell_type": "code",
   "execution_count": 157,
   "id": "21081df4-8064-4f3e-ae49-fca2e1052d30",
   "metadata": {},
   "outputs": [
    {
     "data": {
      "text/plain": [
       "['RED', 'ORANGE', 'YELLOW', 'GREEN', 'BLUE']"
      ]
     },
     "execution_count": 157,
     "metadata": {},
     "output_type": "execute_result"
    }
   ],
   "source": [
    "colors = ['red','orange','yellow','green','blue']\n",
    "colors2 = [item.upper() for item in colors]\n",
    "colors2"
   ]
  },
  {
   "cell_type": "code",
   "execution_count": 158,
   "id": "63496bc6-238a-4ffc-bcf9-c6019230cebd",
   "metadata": {},
   "outputs": [
    {
     "data": {
      "text/plain": [
       "['red', 'orange', 'yellow', 'green', 'blue']"
      ]
     },
     "execution_count": 158,
     "metadata": {},
     "output_type": "execute_result"
    }
   ],
   "source": [
    "colors"
   ]
  },
  {
   "cell_type": "code",
   "execution_count": 159,
   "id": "c8d96855-96a0-4d50-aff8-1888eaa6a06e",
   "metadata": {},
   "outputs": [
    {
     "data": {
      "text/plain": [
       "[(1, 1), (2, 8), (3, 27), (4, 64), (5, 125)]"
      ]
     },
     "execution_count": 159,
     "metadata": {},
     "output_type": "execute_result"
    }
   ],
   "source": [
    "cubes=[(x,x**3) for x in range(1,6)]\n",
    "cubes"
   ]
  },
  {
   "cell_type": "code",
   "execution_count": 160,
   "id": "4fdcf0a3-d873-4b3d-b3eb-4e14ed7dfe50",
   "metadata": {},
   "outputs": [
    {
     "data": {
      "text/plain": [
       "[3, 6, 9, 12, 15, 18, 21, 24, 27]"
      ]
     },
     "execution_count": 160,
     "metadata": {},
     "output_type": "execute_result"
    }
   ],
   "source": [
    "multiples=[x for x in range(3,30,3)]\n",
    "multiples"
   ]
  }
 ],
 "metadata": {
  "kernelspec": {
   "display_name": "Python 3 (ipykernel)",
   "language": "python",
   "name": "python3"
  },
  "language_info": {
   "codemirror_mode": {
    "name": "ipython",
    "version": 3
   },
   "file_extension": ".py",
   "mimetype": "text/x-python",
   "name": "python",
   "nbconvert_exporter": "python",
   "pygments_lexer": "ipython3",
   "version": "3.9.12"
  }
 },
 "nbformat": 4,
 "nbformat_minor": 5
}
