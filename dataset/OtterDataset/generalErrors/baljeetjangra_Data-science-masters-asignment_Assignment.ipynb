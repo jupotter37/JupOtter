{
 "cells": [
  {
   "cell_type": "markdown",
   "id": "3f044cb2",
   "metadata": {},
   "source": [
    "#### Q1. What is an Exception in python? Write the difference between Exceptions and syntex errors?"
   ]
  },
  {
   "cell_type": "markdown",
   "id": "389d03db",
   "metadata": {},
   "source": [
    "Ans- An Exception in Python is an unexpected event that occurs during the execution of a Python program, resulting in the program's abnormal termination.\n",
    "\n",
    "There are many different types of exceptions in Python, such as TypeError, ValueError, NameError, IndexError, KeyError, AttributeError, SyntaxError, IOError, ImportError, and so on.\n",
    "\n",
    "The main difference between exceptions and syntax errors is that syntax errors occur when the code violates the rules of the Python language, while exceptions occur when the code is syntactically correct but encounters unexpected circumstances during runtime.\n",
    "\n",
    "Another difference is that syntax errors are detected by the Python interpreter before the program's execution begins, while exceptions are detected during the program's execution."
   ]
  },
  {
   "cell_type": "markdown",
   "id": "59bcd905",
   "metadata": {},
   "source": [
    "#### Q2. What happens when an exception is not handled? Explain with an example."
   ]
  },
  {
   "cell_type": "markdown",
   "id": "b9f658bc",
   "metadata": {},
   "source": [
    "Ans- When an exception is not handled in Python, the program terminates abruptly, and the interpreter prints a traceback message that shows the exception type, the line number, and the file name where the exception occurred. If the exception is not caught and handled by the program, the Python interpreter stops the program's execution and terminates it with an error message."
   ]
  },
  {
   "cell_type": "code",
   "execution_count": 1,
   "id": "5767bc71",
   "metadata": {},
   "outputs": [
    {
     "ename": "ZeroDivisionError",
     "evalue": "division by zero",
     "output_type": "error",
     "traceback": [
      "\u001b[1;31m---------------------------------------------------------------------------\u001b[0m",
      "\u001b[1;31mZeroDivisionError\u001b[0m                         Traceback (most recent call last)",
      "\u001b[1;32m~\\AppData\\Local\\Temp\\ipykernel_2128\\2328332326.py\u001b[0m in \u001b[0;36m<module>\u001b[1;34m\u001b[0m\n\u001b[0;32m      3\u001b[0m     \u001b[0mprint\u001b[0m\u001b[1;33m(\u001b[0m\u001b[1;34m\"The result of division is:\"\u001b[0m\u001b[1;33m,\u001b[0m \u001b[0mresult\u001b[0m\u001b[1;33m)\u001b[0m\u001b[1;33m\u001b[0m\u001b[1;33m\u001b[0m\u001b[0m\n\u001b[0;32m      4\u001b[0m \u001b[1;33m\u001b[0m\u001b[0m\n\u001b[1;32m----> 5\u001b[1;33m \u001b[0mdivide_numbers\u001b[0m\u001b[1;33m(\u001b[0m\u001b[1;36m10\u001b[0m\u001b[1;33m,\u001b[0m \u001b[1;36m0\u001b[0m\u001b[1;33m)\u001b[0m\u001b[1;33m\u001b[0m\u001b[1;33m\u001b[0m\u001b[0m\n\u001b[0m",
      "\u001b[1;32m~\\AppData\\Local\\Temp\\ipykernel_2128\\2328332326.py\u001b[0m in \u001b[0;36mdivide_numbers\u001b[1;34m(a, b)\u001b[0m\n\u001b[0;32m      1\u001b[0m \u001b[1;32mdef\u001b[0m \u001b[0mdivide_numbers\u001b[0m\u001b[1;33m(\u001b[0m\u001b[0ma\u001b[0m\u001b[1;33m,\u001b[0m \u001b[0mb\u001b[0m\u001b[1;33m)\u001b[0m\u001b[1;33m:\u001b[0m\u001b[1;33m\u001b[0m\u001b[1;33m\u001b[0m\u001b[0m\n\u001b[1;32m----> 2\u001b[1;33m     \u001b[0mresult\u001b[0m \u001b[1;33m=\u001b[0m \u001b[0ma\u001b[0m \u001b[1;33m/\u001b[0m \u001b[0mb\u001b[0m\u001b[1;33m\u001b[0m\u001b[1;33m\u001b[0m\u001b[0m\n\u001b[0m\u001b[0;32m      3\u001b[0m     \u001b[0mprint\u001b[0m\u001b[1;33m(\u001b[0m\u001b[1;34m\"The result of division is:\"\u001b[0m\u001b[1;33m,\u001b[0m \u001b[0mresult\u001b[0m\u001b[1;33m)\u001b[0m\u001b[1;33m\u001b[0m\u001b[1;33m\u001b[0m\u001b[0m\n\u001b[0;32m      4\u001b[0m \u001b[1;33m\u001b[0m\u001b[0m\n\u001b[0;32m      5\u001b[0m \u001b[0mdivide_numbers\u001b[0m\u001b[1;33m(\u001b[0m\u001b[1;36m10\u001b[0m\u001b[1;33m,\u001b[0m \u001b[1;36m0\u001b[0m\u001b[1;33m)\u001b[0m\u001b[1;33m\u001b[0m\u001b[1;33m\u001b[0m\u001b[0m\n",
      "\u001b[1;31mZeroDivisionError\u001b[0m: division by zero"
     ]
    }
   ],
   "source": [
    "def divide_numbers(a, b):\n",
    "    result = a / b\n",
    "    print(\"The result of division is:\", result)\n",
    "\n",
    "divide_numbers(10, 0)\n"
   ]
  },
  {
   "cell_type": "markdown",
   "id": "368c46e3",
   "metadata": {},
   "source": [
    " the exception occurred on line 2 of the divide_numbers function, where we attempted to divide a by b. Since we did not handle the ZeroDivisionError exception in our program, the Python interpreter raised the exception and terminated the program's execution."
   ]
  },
  {
   "cell_type": "markdown",
   "id": "d514ea50",
   "metadata": {},
   "source": [
    "#### Q3. Which Python statements are used to catch and handle exceptions? Explain with an example."
   ]
  },
  {
   "cell_type": "markdown",
   "id": "8a7376d5",
   "metadata": {},
   "source": [
    "Ans- In Python, you can catch and handle exceptions using the try-except statement. The try block contains the code that you want to execute, while the except block contains the code that will be executed if an exception is raised in the try block."
   ]
  },
  {
   "cell_type": "code",
   "execution_count": 2,
   "id": "749855e1",
   "metadata": {},
   "outputs": [
    {
     "name": "stdout",
     "output_type": "stream",
     "text": [
      "Error: Division by zero\n"
     ]
    }
   ],
   "source": [
    "def divide_numbers(a, b):\n",
    "    try:\n",
    "        result = a / b\n",
    "        print(\"The result of division is:\", result)\n",
    "    except ZeroDivisionError:\n",
    "        print(\"Error: Division by zero\")\n",
    "\n",
    "divide_numbers(10, 0)\n"
   ]
  },
  {
   "cell_type": "markdown",
   "id": "95135db3",
   "metadata": {},
   "source": [
    "As you can see from the output, the exception was caught and handled by the except block, and the program continued executing without terminating.\n",
    "\n",
    "You can also catch multiple exceptions using multiple except blocks, or use a single except block to catch all exceptions. Additionally, you can use the finally block to specify code that will be executed regardless of whether an exception is raised or not."
   ]
  },
  {
   "cell_type": "markdown",
   "id": "ec26b922",
   "metadata": {},
   "source": [
    "#### Q4. Explain with an example:\n",
    "####    a. try and else\n",
    "####    b. finally\n",
    "####    c. raise"
   ]
  },
  {
   "cell_type": "markdown",
   "id": "e9dda3e8",
   "metadata": {},
   "source": [
    "Ans- a. try and else:\n",
    "\n",
    "In Python, you can use the else block with the try-except statement to specify the code that should be executed if no exception is raised in the try block. The else block should follow all except blocks and precede the finally block (if present)."
   ]
  },
  {
   "cell_type": "code",
   "execution_count": 3,
   "id": "aab0e37c",
   "metadata": {},
   "outputs": [
    {
     "name": "stdout",
     "output_type": "stream",
     "text": [
      "Enter a number: 20\n",
      "Enter another number: 6\n",
      "The result of division is: 3.3333333333333335\n"
     ]
    }
   ],
   "source": [
    "try:\n",
    "    x = int(input(\"Enter a number: \"))\n",
    "    y = int(input(\"Enter another number: \"))\n",
    "    result = x / y\n",
    "except ValueError:\n",
    "    print(\"Error: Invalid input\")\n",
    "except ZeroDivisionError:\n",
    "    print(\"Error: Division by zero\")\n",
    "else:\n",
    "    print(\"The result of division is:\", result)\n"
   ]
  },
  {
   "cell_type": "markdown",
   "id": "0733e497",
   "metadata": {},
   "source": [
    "b. finally:\n",
    "\n",
    "In Python, you can use the finally block with the try-except statement to specify the code that should be executed regardless of whether an exception is raised or not. The finally block should follow all except and else blocks."
   ]
  },
  {
   "cell_type": "code",
   "execution_count": 4,
   "id": "d262dee4",
   "metadata": {},
   "outputs": [
    {
     "name": "stdout",
     "output_type": "stream",
     "text": [
      "Enter a number: 36\n",
      "Enter another number: 7\n",
      "The result of division is: 5.142857142857143\n",
      "Program executed\n"
     ]
    }
   ],
   "source": [
    "try:\n",
    "    x = int(input(\"Enter a number: \"))\n",
    "    y = int(input(\"Enter another number: \"))\n",
    "    result = x / y\n",
    "except ValueError:\n",
    "    print(\"Error: Invalid input\")\n",
    "except ZeroDivisionError:\n",
    "    print(\"Error: Division by zero\")\n",
    "else:\n",
    "    print(\"The result of division is:\", result)\n",
    "finally:\n",
    "    print(\"Program executed\")\n"
   ]
  },
  {
   "cell_type": "markdown",
   "id": "a535c360",
   "metadata": {},
   "source": [
    "c. raise:\n",
    "\n",
    "In Python, you can use the raise statement to raise an exception manually. The raise statement should be followed by the type of exception that you want to raise."
   ]
  },
  {
   "cell_type": "code",
   "execution_count": 5,
   "id": "a7c289de",
   "metadata": {},
   "outputs": [
    {
     "ename": "ZeroDivisionError",
     "evalue": "Error: Division by zero",
     "output_type": "error",
     "traceback": [
      "\u001b[1;31m---------------------------------------------------------------------------\u001b[0m",
      "\u001b[1;31mZeroDivisionError\u001b[0m                         Traceback (most recent call last)",
      "\u001b[1;32m~\\AppData\\Local\\Temp\\ipykernel_2128\\3727407674.py\u001b[0m in \u001b[0;36m<module>\u001b[1;34m\u001b[0m\n\u001b[0;32m      6\u001b[0m         \u001b[0mprint\u001b[0m\u001b[1;33m(\u001b[0m\u001b[1;34m\"The result of division is:\"\u001b[0m\u001b[1;33m,\u001b[0m \u001b[0mresult\u001b[0m\u001b[1;33m)\u001b[0m\u001b[1;33m\u001b[0m\u001b[1;33m\u001b[0m\u001b[0m\n\u001b[0;32m      7\u001b[0m \u001b[1;33m\u001b[0m\u001b[0m\n\u001b[1;32m----> 8\u001b[1;33m \u001b[0mdivide_numbers\u001b[0m\u001b[1;33m(\u001b[0m\u001b[1;36m10\u001b[0m\u001b[1;33m,\u001b[0m \u001b[1;36m0\u001b[0m\u001b[1;33m)\u001b[0m\u001b[1;33m\u001b[0m\u001b[1;33m\u001b[0m\u001b[0m\n\u001b[0m",
      "\u001b[1;32m~\\AppData\\Local\\Temp\\ipykernel_2128\\3727407674.py\u001b[0m in \u001b[0;36mdivide_numbers\u001b[1;34m(a, b)\u001b[0m\n\u001b[0;32m      1\u001b[0m \u001b[1;32mdef\u001b[0m \u001b[0mdivide_numbers\u001b[0m\u001b[1;33m(\u001b[0m\u001b[0ma\u001b[0m\u001b[1;33m,\u001b[0m \u001b[0mb\u001b[0m\u001b[1;33m)\u001b[0m\u001b[1;33m:\u001b[0m\u001b[1;33m\u001b[0m\u001b[1;33m\u001b[0m\u001b[0m\n\u001b[0;32m      2\u001b[0m     \u001b[1;32mif\u001b[0m \u001b[0mb\u001b[0m \u001b[1;33m==\u001b[0m \u001b[1;36m0\u001b[0m\u001b[1;33m:\u001b[0m\u001b[1;33m\u001b[0m\u001b[1;33m\u001b[0m\u001b[0m\n\u001b[1;32m----> 3\u001b[1;33m         \u001b[1;32mraise\u001b[0m \u001b[0mZeroDivisionError\u001b[0m\u001b[1;33m(\u001b[0m\u001b[1;34m\"Error: Division by zero\"\u001b[0m\u001b[1;33m)\u001b[0m\u001b[1;33m\u001b[0m\u001b[1;33m\u001b[0m\u001b[0m\n\u001b[0m\u001b[0;32m      4\u001b[0m     \u001b[1;32melse\u001b[0m\u001b[1;33m:\u001b[0m\u001b[1;33m\u001b[0m\u001b[1;33m\u001b[0m\u001b[0m\n\u001b[0;32m      5\u001b[0m         \u001b[0mresult\u001b[0m \u001b[1;33m=\u001b[0m \u001b[0ma\u001b[0m \u001b[1;33m/\u001b[0m \u001b[0mb\u001b[0m\u001b[1;33m\u001b[0m\u001b[1;33m\u001b[0m\u001b[0m\n",
      "\u001b[1;31mZeroDivisionError\u001b[0m: Error: Division by zero"
     ]
    }
   ],
   "source": [
    "def divide_numbers(a, b):\n",
    "    if b == 0:\n",
    "        raise ZeroDivisionError(\"Error: Division by zero\")\n",
    "    else:\n",
    "        result = a / b\n",
    "        print(\"The result of division is:\", result)\n",
    "\n",
    "divide_numbers(10, 0)\n"
   ]
  },
  {
   "cell_type": "markdown",
   "id": "e755bd29",
   "metadata": {},
   "source": [
    "#### Q5. What are Custom Exceptions in python? Why do we need Custom Exceptions? Explain with an example."
   ]
  },
  {
   "cell_type": "markdown",
   "id": "87432d57",
   "metadata": {},
   "source": [
    "Ans-Custom exceptions in Python are user-defined exceptions that can be raised when a specific condition is met. These exceptions are created by subclassing the built-in Exception class or one of its subclasses.\n",
    "\n",
    "We need custom exceptions in Python to handle errors that are specific to our program. Custom exceptions allow us to provide meaningful error messages to the user, making it easier for them to understand and fix the error. They also allow us to handle errors in a consistent way throughout our program."
   ]
  },
  {
   "cell_type": "code",
   "execution_count": 6,
   "id": "2b2ab3bf",
   "metadata": {},
   "outputs": [
    {
     "name": "stdout",
     "output_type": "stream",
     "text": [
      "Error: Negative number not allowed\n"
     ]
    }
   ],
   "source": [
    "class NegativeNumberError(Exception):\n",
    "    pass\n",
    "\n",
    "def calculate_square_root(num):\n",
    "    if num < 0:\n",
    "        raise NegativeNumberError(\"Error: Negative number not allowed\")\n",
    "    else:\n",
    "        return num ** 0.5\n",
    "\n",
    "try:\n",
    "    result = calculate_square_root(-4)\n",
    "except NegativeNumberError as e:\n",
    "    print(e)\n",
    "else:\n",
    "    print(result)\n"
   ]
  },
  {
   "cell_type": "markdown",
   "id": "9f31e37c",
   "metadata": {},
   "source": [
    "In the above code, we define a custom exception called NegativeNumberError by subclassing the built-in Exception class. We also define a function called calculate_square_root that takes a number as input and calculates its square root. If the number is negative, we raise a NegativeNumberError with an error message."
   ]
  },
  {
   "cell_type": "markdown",
   "id": "b377e96b",
   "metadata": {},
   "source": [
    "#### Q6. Create a custom exception class. Use this class to handle an exception."
   ]
  },
  {
   "cell_type": "code",
   "execution_count": 8,
   "id": "88f6f50b",
   "metadata": {},
   "outputs": [
    {
     "name": "stdout",
     "output_type": "stream",
     "text": [
      "Error: The list is empty\n"
     ]
    }
   ],
   "source": [
    "class EmptyListError(Exception):\n",
    "    pass\n",
    "\n",
    "def get_first_element(lst):\n",
    "    if len(lst) == 0:\n",
    "        raise EmptyListError(\"Error: The list is empty\")\n",
    "    else:\n",
    "        return lst[0]\n",
    "\n",
    "try:\n",
    "    result = get_first_element([])\n",
    "except EmptyListError as e:\n",
    "    print(e)\n",
    "else:\n",
    "    print(result)\n"
   ]
  },
  {
   "cell_type": "markdown",
   "id": "8298baa6",
   "metadata": {},
   "source": [
    "In this example, we define a custom exception class called EmptyListError by subclassing the built-in Exception class. We also define a function called get_first_element that takes a list as input and returns its first element. If the list is empty, we raise an EmptyListError with an error message.\n",
    "\n",
    "In the try block, we call the get_first_element function with an empty list. Since the list is empty, the EmptyListError exception is raised and caught in the except block. We print the error message associated with the exception. If the list had contained elements, the first element would have been returned and printed in the else block."
   ]
  },
  {
   "cell_type": "code",
   "execution_count": null,
   "id": "e97ec739",
   "metadata": {},
   "outputs": [],
   "source": []
  }
 ],
 "metadata": {
  "kernelspec": {
   "display_name": "Python 3 (ipykernel)",
   "language": "python",
   "name": "python3"
  },
  "language_info": {
   "codemirror_mode": {
    "name": "ipython",
    "version": 3
   },
   "file_extension": ".py",
   "mimetype": "text/x-python",
   "name": "python",
   "nbconvert_exporter": "python",
   "pygments_lexer": "ipython3",
   "version": "3.9.13"
  }
 },
 "nbformat": 4,
 "nbformat_minor": 5
}
