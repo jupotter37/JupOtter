{
 "cells": [
  {
   "cell_type": "markdown",
   "metadata": {},
   "source": [
    "# Day5 (2017-07-31 M)\n",
    "\n",
    "* 강사 소개  (양태환 강사님)\n",
    "    수의대 -> 기계공 -> FA -> \n",
    "\n",
    "* 강의 정보\n",
    "    * Lambda\n",
    "    * map, filter\n",
    "    * first class function\n",
    "    * closure\n",
    "\n",
    "\n",
    "Advanced\n",
    "* reduce\n",
    "* decorator\n",
    "\n",
    "\n",
    "function (매우 중요)\n",
    "* call by refernce\n",
    "* call by value \n",
    "* call by object reference (Only in Python)\n",
    "\n",
    "\n",
    "ASCII 와 UNICODE\n",
    "* ASCII\n",
    "* UNICODE\n",
    "\n",
    "Numbers\n",
    "* 2의 보수  + 보동소수점\n",
    "\n",
    "Porject 1\n",
    "* procedural programming - score measurement ver.1 (절차지향)\n",
    "\n",
    "OOP\n",
    "    * part 1\n",
    "        * Class \n",
    "        \n",
    "    * part 2\n",
    "        * class method\n",
    "        * class member\n",
    "        * property\n",
    "        * inheritance\n",
    "            * is -a\n",
    "            * has-a\n",
    "            \n",
    "        * abstract class\n",
    "        \n",
    "    * part 3\n",
    "        * polymorphism\n",
    "        * \n",
    "        \n",
    "        \n",
    "Project 2\n",
    "    * from procedure -  oop\n",
    "    \n",
    "CPU \n",
    "* clock\n",
    "* register\n",
    "    * stack pointer\n",
    "    * frame pointer\n",
    "    * program counter\n",
    "    * general purpose reg\n",
    "    \n",
    "\n",
    "Cache and locality\n",
    "* cache hit adn cache miss\n",
    "* locality\n",
    "\n",
    "memory\n",
    "* segments\n",
    "    * code\n",
    "    * data\n",
    "    \n",
    "   \n",
    "OS\n",
    "* program, process\n",
    "* thread\n",
    "* multithread\n",
    "* race condition\n",
    "* mutual exclusion\n",
    "* virtual memory\n",
    "\n",
    "\n",
    "Programming Langauge\n",
    "* complier\n",
    "* interpreter\n",
    "* bytecode and PVM (Virtual Machine)\n",
    "\n",
    "\n",
    "Data Structure\n",
    "* linear search\n",
    "* binary search\n",
    "* big O\n",
    "* recursion\n",
    "    * hanoi tower\n",
    "    * factorial\n",
    "    * fibonacci\n",
    "* linked list\n",
    "* stack\n",
    "* stack\n",
    "* queue\n",
    "* calculator with stack\n",
    "* binary tree\n",
    "* BST\n",
    "\n",
    "Algorithm\n",
    "* simple sort\n",
    "    * bubble sort\n",
    "* divide & conquer\n",
    "    * quick sort (현업에서 가장 많이 쓴다)\n",
    "    \n",
    "\n"
   ]
  },
  {
   "cell_type": "code",
   "execution_count": 2,
   "metadata": {
    "collapsed": true
   },
   "outputs": [],
   "source": [
    "# 기본적으로 알아야할 개념\n",
    "# 전역변수, 지역변수"
   ]
  },
  {
   "cell_type": "code",
   "execution_count": 15,
   "metadata": {
    "collapsed": true
   },
   "outputs": [],
   "source": [
    "# x : 전역변수 : 어디서든 접근 가능\n",
    "x = 10\n",
    "\n",
    "# a, b : 매개변수, 인자\n",
    "# a, b, c, d : 지역 변수\n",
    "def func(a,b):\n",
    "    print(x)\n",
    "    c = 10\n",
    "    d = 20"
   ]
  },
  {
   "cell_type": "code",
   "execution_count": 16,
   "metadata": {
    "collapsed": false
   },
   "outputs": [
    {
     "name": "stdout",
     "output_type": "stream",
     "text": [
      "10\n"
     ]
    }
   ],
   "source": [
    "# 함수 내에서 전역 변수에 접근이 가능하다\n",
    "func(1,2)"
   ]
  },
  {
   "cell_type": "code",
   "execution_count": 17,
   "metadata": {
    "collapsed": false
   },
   "outputs": [],
   "source": [
    "# 함수 내에서 지역변수 x를 생성, 전역변수 x는 다른 수임.\n",
    "def func(a,b):\n",
    "    x = 20\n",
    "    print(x)\n",
    "    c = 10\n",
    "    d = 20"
   ]
  },
  {
   "cell_type": "code",
   "execution_count": 18,
   "metadata": {
    "collapsed": false
   },
   "outputs": [
    {
     "name": "stdout",
     "output_type": "stream",
     "text": [
      "20\n",
      "10\n"
     ]
    }
   ],
   "source": [
    "func(1,2)\n",
    "print(x)"
   ]
  },
  {
   "cell_type": "code",
   "execution_count": null,
   "metadata": {
    "collapsed": false
   },
   "outputs": [],
   "source": []
  },
  {
   "cell_type": "code",
   "execution_count": 19,
   "metadata": {
    "collapsed": true
   },
   "outputs": [],
   "source": [
    "# 함수내에서 전역 변수 수정\n",
    "def func(a,b):\n",
    "    global x\n",
    "    x = 20\n",
    "    print(x)"
   ]
  },
  {
   "cell_type": "code",
   "execution_count": 20,
   "metadata": {
    "collapsed": false
   },
   "outputs": [
    {
     "name": "stdout",
     "output_type": "stream",
     "text": [
      "20\n",
      "20\n"
     ]
    }
   ],
   "source": [
    "func(1,2)\n",
    "print(x)"
   ]
  },
  {
   "cell_type": "code",
   "execution_count": 50,
   "metadata": {
    "collapsed": false
   },
   "outputs": [
    {
     "data": {
      "text/plain": [
       "<function __main__.inner>"
      ]
     },
     "execution_count": 50,
     "metadata": {},
     "output_type": "execute_result"
    }
   ],
   "source": [
    "# python 3에서는 nonlocal 이라는 keyword를 통해서 수정/변경 가능\n",
    "# 함수 안에 함수 정의\n",
    "x = 1 # glboal variable \n",
    "def outer():\n",
    "    a = 10 # outer's local & inner's free variable \n",
    "    b = 20\n",
    "    def inner():\n",
    "        global x\n",
    "#         nonlocal a\n",
    "        \n",
    "#         a = 100\n",
    "        c = 30 # inner's local \n",
    "        d = 40 # inner's local\n",
    "        print(x, a, b, c, d)\n",
    "    return inner\n",
    "\n",
    "outer()"
   ]
  },
  {
   "cell_type": "code",
   "execution_count": 51,
   "metadata": {
    "collapsed": false
   },
   "outputs": [],
   "source": [
    "f = outer()"
   ]
  },
  {
   "cell_type": "code",
   "execution_count": 52,
   "metadata": {
    "collapsed": false
   },
   "outputs": [],
   "source": [
    "code = f.__code__"
   ]
  },
  {
   "cell_type": "code",
   "execution_count": 53,
   "metadata": {
    "collapsed": false
   },
   "outputs": [
    {
     "data": {
      "text/plain": [
       "<code object inner at 0x1111d0f30, file \"<ipython-input-50-cd902eeeeb62>\", line 7>"
      ]
     },
     "execution_count": 53,
     "metadata": {},
     "output_type": "execute_result"
    }
   ],
   "source": [
    "code"
   ]
  },
  {
   "cell_type": "code",
   "execution_count": 54,
   "metadata": {
    "collapsed": false
   },
   "outputs": [
    {
     "data": {
      "text/plain": [
       "('a', 'b')"
      ]
     },
     "execution_count": 54,
     "metadata": {},
     "output_type": "execute_result"
    }
   ],
   "source": [
    "# 자유 변수 출력\n",
    "code.co_freevars"
   ]
  },
  {
   "cell_type": "code",
   "execution_count": 55,
   "metadata": {
    "collapsed": false
   },
   "outputs": [
    {
     "data": {
      "text/plain": [
       "('c', 'd')"
      ]
     },
     "execution_count": 55,
     "metadata": {},
     "output_type": "execute_result"
    }
   ],
   "source": [
    "# 지역 변수 출력\n",
    "code.co_varnames"
   ]
  },
  {
   "cell_type": "code",
   "execution_count": null,
   "metadata": {
    "collapsed": true
   },
   "outputs": [],
   "source": []
  },
  {
   "cell_type": "code",
   "execution_count": 65,
   "metadata": {
    "collapsed": false
   },
   "outputs": [
    {
     "name": "stdout",
     "output_type": "stream",
     "text": [
      "<type 'tuple'>\n"
     ]
    },
    {
     "data": {
      "text/plain": [
       "(1, 2, 3, 4, 5)"
      ]
     },
     "execution_count": 65,
     "metadata": {},
     "output_type": "execute_result"
    }
   ],
   "source": [
    "# packing\n",
    "# 변수는 하나인데 variable은 여러개이다. \n",
    "a = 1, 2, 3, 4, 5\n",
    "print(type(a))\n",
    "a"
   ]
  },
  {
   "cell_type": "code",
   "execution_count": null,
   "metadata": {
    "collapsed": false
   },
   "outputs": [],
   "source": []
  },
  {
   "cell_type": "code",
   "execution_count": 73,
   "metadata": {
    "collapsed": false
   },
   "outputs": [
    {
     "ename": "SyntaxError",
     "evalue": "invalid syntax (<ipython-input-73-70bdbb62097d>, line 3)",
     "output_type": "error",
     "traceback": [
      "\u001b[0;36m  File \u001b[0;32m\"<ipython-input-73-70bdbb62097d>\"\u001b[0;36m, line \u001b[0;32m3\u001b[0m\n\u001b[0;31m    b, *c = a\u001b[0m\n\u001b[0m       ^\u001b[0m\n\u001b[0;31mSyntaxError\u001b[0m\u001b[0;31m:\u001b[0m invalid syntax\n"
     ]
    }
   ],
   "source": [
    "# unpacking\n",
    "# b에 첫번째 변수를 담고 *c에 나머지 변수를 다 담는다.\n",
    "b, *c = a"
   ]
  },
  {
   "cell_type": "code",
   "execution_count": 74,
   "metadata": {
    "collapsed": false
   },
   "outputs": [
    {
     "ename": "NameError",
     "evalue": "name 'b' is not defined",
     "output_type": "error",
     "traceback": [
      "\u001b[0;31m---------------------------------------------------------------------------\u001b[0m",
      "\u001b[0;31mNameError\u001b[0m                                 Traceback (most recent call last)",
      "\u001b[0;32m<ipython-input-74-3e63b3afa3c3>\u001b[0m in \u001b[0;36m<module>\u001b[0;34m()\u001b[0m\n\u001b[0;32m----> 1\u001b[0;31m \u001b[0mb\u001b[0m \u001b[0;31m#1\u001b[0m\u001b[0;34m\u001b[0m\u001b[0m\n\u001b[0m",
      "\u001b[0;31mNameError\u001b[0m: name 'b' is not defined"
     ]
    }
   ],
   "source": [
    "b #1"
   ]
  },
  {
   "cell_type": "code",
   "execution_count": 75,
   "metadata": {
    "collapsed": false
   },
   "outputs": [
    {
     "ename": "NameError",
     "evalue": "name 'c' is not defined",
     "output_type": "error",
     "traceback": [
      "\u001b[0;31m---------------------------------------------------------------------------\u001b[0m",
      "\u001b[0;31mNameError\u001b[0m                                 Traceback (most recent call last)",
      "\u001b[0;32m<ipython-input-75-977b94735617>\u001b[0m in \u001b[0;36m<module>\u001b[0;34m()\u001b[0m\n\u001b[0;32m----> 1\u001b[0;31m \u001b[0mc\u001b[0m \u001b[0;31m# 2,3,4,5\u001b[0m\u001b[0;34m\u001b[0m\u001b[0m\n\u001b[0m",
      "\u001b[0;31mNameError\u001b[0m: name 'c' is not defined"
     ]
    }
   ],
   "source": [
    "c # 2,3,4,5"
   ]
  },
  {
   "cell_type": "code",
   "execution_count": null,
   "metadata": {
    "collapsed": true
   },
   "outputs": [],
   "source": [
    "#\n",
    "b, c, *d = a\n",
    "b #1\n",
    "c #2\n",
    "d # 3,4,5"
   ]
  },
  {
   "cell_type": "code",
   "execution_count": 76,
   "metadata": {
    "collapsed": true
   },
   "outputs": [],
   "source": [
    "# immutable : constant, tuple, \n",
    "# mutable : list, dictionary"
   ]
  },
  {
   "cell_type": "code",
   "execution_count": 77,
   "metadata": {
    "collapsed": false
   },
   "outputs": [
    {
     "data": {
      "text/plain": [
       "[1, 2, 3, 4, 5]"
      ]
     },
     "execution_count": 77,
     "metadata": {},
     "output_type": "execute_result"
    }
   ],
   "source": [
    "li = [1,2,3,4,5]\n",
    "li"
   ]
  },
  {
   "cell_type": "code",
   "execution_count": 78,
   "metadata": {
    "collapsed": true
   },
   "outputs": [],
   "source": [
    "def func(*args):\n",
    "    print(args)"
   ]
  },
  {
   "cell_type": "code",
   "execution_count": 79,
   "metadata": {
    "collapsed": false
   },
   "outputs": [
    {
     "name": "stdout",
     "output_type": "stream",
     "text": [
      "([1, 2, 3, 4, 5],)\n"
     ]
    }
   ],
   "source": [
    "# 그냥 변수\n",
    "func(li)"
   ]
  },
  {
   "cell_type": "code",
   "execution_count": 81,
   "metadata": {
    "collapsed": false
   },
   "outputs": [
    {
     "name": "stdout",
     "output_type": "stream",
     "text": [
      "(1, 2, 3, 4, 5)\n"
     ]
    }
   ],
   "source": [
    "# unpacking variables\n",
    "func(*li)"
   ]
  },
  {
   "cell_type": "code",
   "execution_count": 82,
   "metadata": {
    "collapsed": true
   },
   "outputs": [],
   "source": [
    "dic = { 'a' : 1, 'b' : 2, 'c' : 3}"
   ]
  },
  {
   "cell_type": "code",
   "execution_count": 83,
   "metadata": {
    "collapsed": false
   },
   "outputs": [
    {
     "data": {
      "text/plain": [
       "{'a': 1, 'b': 2, 'c': 3}"
      ]
     },
     "execution_count": 83,
     "metadata": {},
     "output_type": "execute_result"
    }
   ],
   "source": [
    "dic"
   ]
  },
  {
   "cell_type": "code",
   "execution_count": 86,
   "metadata": {
    "collapsed": false
   },
   "outputs": [
    {
     "ename": "SyntaxError",
     "evalue": "invalid syntax (<ipython-input-86-0f513b4b2054>, line 1)",
     "output_type": "error",
     "traceback": [
      "\u001b[0;36m  File \u001b[0;32m\"<ipython-input-86-0f513b4b2054>\"\u001b[0;36m, line \u001b[0;32m1\u001b[0m\n\u001b[0;31m    a, *b = dic\u001b[0m\n\u001b[0m       ^\u001b[0m\n\u001b[0;31mSyntaxError\u001b[0m\u001b[0;31m:\u001b[0m invalid syntax\n"
     ]
    }
   ],
   "source": [
    "# key 값만 나옴\n",
    "a, *b = dic\n",
    "a # a\n",
    "b # b,c"
   ]
  },
  {
   "cell_type": "code",
   "execution_count": 88,
   "metadata": {
    "collapsed": false
   },
   "outputs": [
    {
     "ename": "SyntaxError",
     "evalue": "invalid syntax (<ipython-input-88-ca3d82b6c72c>, line 1)",
     "output_type": "error",
     "traceback": [
      "\u001b[0;36m  File \u001b[0;32m\"<ipython-input-88-ca3d82b6c72c>\"\u001b[0;36m, line \u001b[0;32m1\u001b[0m\n\u001b[0;31m    a, *b = dic.items\u001b[0m\n\u001b[0m       ^\u001b[0m\n\u001b[0;31mSyntaxError\u001b[0m\u001b[0;31m:\u001b[0m invalid syntax\n"
     ]
    }
   ],
   "source": [
    "a, *b = dic.items\n",
    "a # {'a' 1}\n",
    "b # {('b', 2), ('c', 3)}"
   ]
  },
  {
   "cell_type": "code",
   "execution_count": 89,
   "metadata": {
    "collapsed": true
   },
   "outputs": [],
   "source": [
    "def func(a, *args, ** kwargs):\n",
    "    pass"
   ]
  },
  {
   "cell_type": "code",
   "execution_count": 92,
   "metadata": {
    "collapsed": false
   },
   "outputs": [
    {
     "ename": "TypeError",
     "evalue": "func() takes at least 1 argument (0 given)",
     "output_type": "error",
     "traceback": [
      "\u001b[0;31m---------------------------------------------------------------------------\u001b[0m",
      "\u001b[0;31mTypeError\u001b[0m                                 Traceback (most recent call last)",
      "\u001b[0;32m<ipython-input-92-08a2da4138f6>\u001b[0m in \u001b[0;36m<module>\u001b[0;34m()\u001b[0m\n\u001b[0;32m----> 1\u001b[0;31m \u001b[0mfunc\u001b[0m\u001b[0;34m(\u001b[0m\u001b[0;34m)\u001b[0m\u001b[0;34m\u001b[0m\u001b[0m\n\u001b[0m",
      "\u001b[0;31mTypeError\u001b[0m: func() takes at least 1 argument (0 given)"
     ]
    }
   ],
   "source": [
    "# position 인 a에 값이 없을 경우 \n",
    "# 에러메시지 : TypeError: func() takes at least 1 argument (0 given)\n",
    "\n",
    "func() "
   ]
  },
  {
   "cell_type": "code",
   "execution_count": 113,
   "metadata": {
    "collapsed": true
   },
   "outputs": [],
   "source": [
    "# python 함수는 expression (식) -> 무언가를 반환해야한다. 아무것도 없으면 none을 반환한다.\n",
    "# 식(expression) : 4 + 5\n",
    "# 문(statment) = 10 + 7\n",
    "def func(a, b):\n",
    "    return a + b"
   ]
  },
  {
   "cell_type": "code",
   "execution_count": 105,
   "metadata": {
    "collapsed": false
   },
   "outputs": [],
   "source": [
    "a = 0\n",
    "a = func(4,5)"
   ]
  },
  {
   "cell_type": "code",
   "execution_count": 106,
   "metadata": {
    "collapsed": false
   },
   "outputs": [
    {
     "data": {
      "text/plain": [
       "9"
      ]
     },
     "execution_count": 106,
     "metadata": {},
     "output_type": "execute_result"
    }
   ],
   "source": [
    "a"
   ]
  },
  {
   "cell_type": "code",
   "execution_count": 107,
   "metadata": {
    "collapsed": true
   },
   "outputs": [],
   "source": [
    "def func(a,b):\n",
    "    return"
   ]
  },
  {
   "cell_type": "code",
   "execution_count": 108,
   "metadata": {
    "collapsed": true
   },
   "outputs": [],
   "source": [
    "a = 50\n",
    "a = func(4,5)"
   ]
  },
  {
   "cell_type": "code",
   "execution_count": 109,
   "metadata": {
    "collapsed": false
   },
   "outputs": [
    {
     "name": "stdout",
     "output_type": "stream",
     "text": [
      "None\n"
     ]
    }
   ],
   "source": [
    "print(a)"
   ]
  },
  {
   "cell_type": "code",
   "execution_count": 110,
   "metadata": {
    "collapsed": true
   },
   "outputs": [],
   "source": [
    "def func(a,b):\n",
    "    a+b"
   ]
  },
  {
   "cell_type": "code",
   "execution_count": 111,
   "metadata": {
    "collapsed": true
   },
   "outputs": [],
   "source": [
    "a = 50\n",
    "a = func(4,5)"
   ]
  },
  {
   "cell_type": "code",
   "execution_count": 112,
   "metadata": {
    "collapsed": false
   },
   "outputs": [
    {
     "name": "stdout",
     "output_type": "stream",
     "text": [
      "None\n"
     ]
    }
   ],
   "source": [
    "print(a)"
   ]
  },
  {
   "cell_type": "code",
   "execution_count": 114,
   "metadata": {
    "collapsed": true
   },
   "outputs": [],
   "source": [
    "def func(a, *args, **kwargs):\n",
    "    print(a)\n",
    "    print(args)\n",
    "    print(kwargs)"
   ]
  },
  {
   "cell_type": "code",
   "execution_count": 115,
   "metadata": {
    "collapsed": false
   },
   "outputs": [
    {
     "name": "stdout",
     "output_type": "stream",
     "text": [
      "5\n",
      "(1, 2, 3, 4, 5)\n",
      "{'c': 200, 'b': 100}\n"
     ]
    }
   ],
   "source": [
    "func(5,1,2,3,4,5, b= 100, c = 200)"
   ]
  },
  {
   "cell_type": "code",
   "execution_count": 116,
   "metadata": {
    "collapsed": false
   },
   "outputs": [
    {
     "name": "stdout",
     "output_type": "stream",
     "text": [
      "5\n",
      "()\n",
      "{'c': 200, 'b': 100}\n"
     ]
    }
   ],
   "source": [
    "func(5, b = 100, c = 200)"
   ]
  },
  {
   "cell_type": "code",
   "execution_count": 117,
   "metadata": {
    "collapsed": true
   },
   "outputs": [],
   "source": [
    "del func"
   ]
  },
  {
   "cell_type": "code",
   "execution_count": 119,
   "metadata": {
    "collapsed": false
   },
   "outputs": [
    {
     "ename": "NameError",
     "evalue": "name 'func' is not defined",
     "output_type": "error",
     "traceback": [
      "\u001b[0;31m---------------------------------------------------------------------------\u001b[0m",
      "\u001b[0;31mNameError\u001b[0m                                 Traceback (most recent call last)",
      "\u001b[0;32m<ipython-input-119-c33234862f92>\u001b[0m in \u001b[0;36m<module>\u001b[0;34m()\u001b[0m\n\u001b[1;32m      1\u001b[0m \u001b[0;31m# python에서는 함수도 객체기 때문에 지울 수가 있다.\u001b[0m\u001b[0;34m\u001b[0m\u001b[0;34m\u001b[0m\u001b[0m\n\u001b[0;32m----> 2\u001b[0;31m \u001b[0mfunc\u001b[0m\u001b[0;34m\u001b[0m\u001b[0m\n\u001b[0m",
      "\u001b[0;31mNameError\u001b[0m: name 'func' is not defined"
     ]
    }
   ],
   "source": [
    "# python에서는 함수도 객체기 때문에 지울 수가 있다.\n",
    "func"
   ]
  },
  {
   "cell_type": "markdown",
   "metadata": {},
   "source": [
    "# first class function\n",
    "* 함수를 인자로 전달\n",
    "* 함수를 반환\n",
    "* 변수에 저장"
   ]
  },
  {
   "cell_type": "code",
   "execution_count": 125,
   "metadata": {
    "collapsed": true
   },
   "outputs": [],
   "source": [
    "#함수를 인자로 전달\n",
    "def f(a,b):\n",
    "    return a+b\n",
    "\n",
    "def g(func, a, b):\n",
    "    return func(a, b)"
   ]
  },
  {
   "cell_type": "code",
   "execution_count": 124,
   "metadata": {
    "collapsed": false
   },
   "outputs": [
    {
     "data": {
      "text/plain": [
       "11"
      ]
     },
     "execution_count": 124,
     "metadata": {},
     "output_type": "execute_result"
    }
   ],
   "source": [
    "g(f, 5, 6)"
   ]
  },
  {
   "cell_type": "code",
   "execution_count": 128,
   "metadata": {
    "collapsed": true
   },
   "outputs": [],
   "source": [
    "# 함수를 변수에 저장\n",
    "def adder(a,b):\n",
    "    return a+b"
   ]
  },
  {
   "cell_type": "code",
   "execution_count": 131,
   "metadata": {
    "collapsed": true
   },
   "outputs": [],
   "source": [
    "var = 0\n",
    "var = adder"
   ]
  },
  {
   "cell_type": "code",
   "execution_count": 132,
   "metadata": {
    "collapsed": false
   },
   "outputs": [
    {
     "data": {
      "text/plain": [
       "7"
      ]
     },
     "execution_count": 132,
     "metadata": {},
     "output_type": "execute_result"
    }
   ],
   "source": [
    "var(5,2) #7"
   ]
  },
  {
   "cell_type": "code",
   "execution_count": 142,
   "metadata": {
    "collapsed": true
   },
   "outputs": [],
   "source": [
    "# first case - argument \n",
    "# 일급 함수"
   ]
  },
  {
   "cell_type": "code",
   "execution_count": 143,
   "metadata": {
    "collapsed": false
   },
   "outputs": [],
   "source": [
    "#함수를 반환\n",
    "\n",
    "# 'add'를 넣으면 두 값을 더하는 함수\n",
    "# 'sub'를 넣으면 a-b를 실행하는 함수\n",
    "# 를 반환 -> 즉, 상황에 따라 다른 함수를 반환하는 함수를 만들고 싶다. \n",
    "def cal(kind = 'add'):\n",
    "    def add(a,b):\n",
    "        return a+b\n",
    "    def sub(a,b):\n",
    "        return a-b\n",
    "    \n",
    "    if kind == 'add':\n",
    "        return add\n",
    "    elif kind == 'sub':\n",
    "        return sub"
   ]
  },
  {
   "cell_type": "code",
   "execution_count": 139,
   "metadata": {
    "collapsed": false
   },
   "outputs": [
    {
     "data": {
      "text/plain": [
       "6"
      ]
     },
     "execution_count": 139,
     "metadata": {},
     "output_type": "execute_result"
    }
   ],
   "source": [
    "f_add = cal('add')\n",
    "f_add(1,5)"
   ]
  },
  {
   "cell_type": "code",
   "execution_count": 141,
   "metadata": {
    "collapsed": false
   },
   "outputs": [
    {
     "data": {
      "text/plain": [
       "-2"
      ]
     },
     "execution_count": 141,
     "metadata": {},
     "output_type": "execute_result"
    }
   ],
   "source": [
    "f_sub = cal('sub')\n",
    "f_sub(1,3)"
   ]
  },
  {
   "cell_type": "code",
   "execution_count": null,
   "metadata": {
    "collapsed": true
   },
   "outputs": [],
   "source": []
  },
  {
   "cell_type": "code",
   "execution_count": 144,
   "metadata": {
    "collapsed": true
   },
   "outputs": [],
   "source": [
    "def func(a,b):\n",
    "    return a+b"
   ]
  },
  {
   "cell_type": "code",
   "execution_count": 146,
   "metadata": {
    "collapsed": false
   },
   "outputs": [
    {
     "data": {
      "text/plain": [
       "7"
      ]
     },
     "execution_count": 146,
     "metadata": {},
     "output_type": "execute_result"
    }
   ],
   "source": [
    "func(1,2)\n",
    "func(3,4)"
   ]
  },
  {
   "cell_type": "code",
   "execution_count": 147,
   "metadata": {
    "collapsed": true
   },
   "outputs": [],
   "source": [
    "# 지시문(instruction)이라는 것이 생김\n",
    "# 스택프레임 : 는 함수가 아니다. 다른 영역이다."
   ]
  },
  {
   "cell_type": "code",
   "execution_count": null,
   "metadata": {
    "collapsed": true
   },
   "outputs": [],
   "source": []
  },
  {
   "cell_type": "code",
   "execution_count": 148,
   "metadata": {
    "collapsed": true
   },
   "outputs": [],
   "source": [
    "# 함수 객체 : func object\n",
    "# 코드 객체 : code object"
   ]
  },
  {
   "cell_type": "code",
   "execution_count": 150,
   "metadata": {
    "collapsed": false
   },
   "outputs": [
    {
     "data": {
      "text/plain": [
       "<function __main__.func>"
      ]
     },
     "execution_count": 150,
     "metadata": {},
     "output_type": "execute_result"
    }
   ],
   "source": [
    "def func(a,b):\n",
    "    return a + c\n",
    "func"
   ]
  },
  {
   "cell_type": "code",
   "execution_count": 151,
   "metadata": {
    "collapsed": false
   },
   "outputs": [
    {
     "data": {
      "text/plain": [
       "['__call__',\n",
       " '__class__',\n",
       " '__closure__',\n",
       " '__code__',\n",
       " '__defaults__',\n",
       " '__delattr__',\n",
       " '__dict__',\n",
       " '__doc__',\n",
       " '__format__',\n",
       " '__get__',\n",
       " '__getattribute__',\n",
       " '__globals__',\n",
       " '__hash__',\n",
       " '__init__',\n",
       " '__module__',\n",
       " '__name__',\n",
       " '__new__',\n",
       " '__reduce__',\n",
       " '__reduce_ex__',\n",
       " '__repr__',\n",
       " '__setattr__',\n",
       " '__sizeof__',\n",
       " '__str__',\n",
       " '__subclasshook__',\n",
       " 'func_closure',\n",
       " 'func_code',\n",
       " 'func_defaults',\n",
       " 'func_dict',\n",
       " 'func_doc',\n",
       " 'func_globals',\n",
       " 'func_name']"
      ]
     },
     "execution_count": 151,
     "metadata": {},
     "output_type": "execute_result"
    }
   ],
   "source": [
    "dir(func)"
   ]
  },
  {
   "cell_type": "code",
   "execution_count": 153,
   "metadata": {
    "collapsed": false
   },
   "outputs": [
    {
     "ename": "AttributeError",
     "evalue": "'function' object has no attribute '__b'",
     "output_type": "error",
     "traceback": [
      "\u001b[0;31m---------------------------------------------------------------------------\u001b[0m",
      "\u001b[0;31mAttributeError\u001b[0m                            Traceback (most recent call last)",
      "\u001b[0;32m<ipython-input-153-585c96c4b197>\u001b[0m in \u001b[0;36m<module>\u001b[0;34m()\u001b[0m\n\u001b[0;32m----> 1\u001b[0;31m \u001b[0mfunc\u001b[0m\u001b[0;34m.\u001b[0m\u001b[0m__b\u001b[0m\u001b[0;34m\u001b[0m\u001b[0m\n\u001b[0m",
      "\u001b[0;31mAttributeError\u001b[0m: 'function' object has no attribute '__b'"
     ]
    }
   ],
   "source": [
    "func.__b"
   ]
  },
  {
   "cell_type": "code",
   "execution_count": 158,
   "metadata": {
    "collapsed": true
   },
   "outputs": [],
   "source": [
    "a = 10\n",
    "b = 20\n",
    "c = 30\n",
    "\n",
    "def f (a,b):\n",
    "    return a  + b"
   ]
  },
  {
   "cell_type": "code",
   "execution_count": 162,
   "metadata": {
    "collapsed": false
   },
   "outputs": [
    {
     "data": {
      "text/plain": [
       "20"
      ]
     },
     "execution_count": 162,
     "metadata": {},
     "output_type": "execute_result"
    }
   ],
   "source": [
    "f.__globals__['b']"
   ]
  },
  {
   "cell_type": "code",
   "execution_count": 163,
   "metadata": {
    "collapsed": true
   },
   "outputs": [],
   "source": [
    "def func():\n",
    "    print(a)"
   ]
  },
  {
   "cell_type": "code",
   "execution_count": 165,
   "metadata": {
    "collapsed": false
   },
   "outputs": [
    {
     "name": "stdout",
     "output_type": "stream",
     "text": [
      "10\n"
     ]
    }
   ],
   "source": [
    "func()"
   ]
  },
  {
   "cell_type": "code",
   "execution_count": 166,
   "metadata": {
    "collapsed": true
   },
   "outputs": [],
   "source": [
    "func = func.__code__"
   ]
  },
  {
   "cell_type": "code",
   "execution_count": 167,
   "metadata": {
    "collapsed": false
   },
   "outputs": [
    {
     "data": {
      "text/plain": [
       "<code object inner at 0x1111d0f30, file \"<ipython-input-50-cd902eeeeb62>\", line 7>"
      ]
     },
     "execution_count": 167,
     "metadata": {},
     "output_type": "execute_result"
    }
   ],
   "source": [
    "code"
   ]
  },
  {
   "cell_type": "code",
   "execution_count": 170,
   "metadata": {
    "collapsed": false
   },
   "outputs": [
    {
     "data": {
      "text/plain": [
       "'d\\x01\\x00}\\x00\\x00d\\x02\\x00}\\x01\\x00t\\x00\\x00\\x88\\x00\\x00\\x88\\x01\\x00|\\x00\\x00|\\x01\\x00f\\x05\\x00GHd\\x00\\x00S'"
      ]
     },
     "execution_count": 170,
     "metadata": {},
     "output_type": "execute_result"
    }
   ],
   "source": [
    "code.co_code"
   ]
  },
  {
   "cell_type": "code",
   "execution_count": null,
   "metadata": {
    "collapsed": true
   },
   "outputs": [],
   "source": [
    "def func(a,b,):\n",
    "    return a+b"
   ]
  },
  {
   "cell_type": "code",
   "execution_count": 171,
   "metadata": {
    "collapsed": true
   },
   "outputs": [],
   "source": [
    "#1. globals\n",
    "# 2. code object"
   ]
  },
  {
   "cell_type": "code",
   "execution_count": 172,
   "metadata": {
    "collapsed": false
   },
   "outputs": [
    {
     "name": "stdout",
     "output_type": "stream",
     "text": [
      "  2           0 LOAD_GLOBAL              0 (a)\n",
      "              3 PRINT_ITEM          \n",
      "              4 PRINT_NEWLINE       \n",
      "              5 LOAD_CONST               0 (None)\n",
      "              8 RETURN_VALUE        \n"
     ]
    }
   ],
   "source": [
    "import dis\n",
    "dis.dis(func)"
   ]
  },
  {
   "cell_type": "markdown",
   "metadata": {},
   "source": [
    "# Closure\n",
    "* 함수 내 함수를 반환 받아 사용 -> 1급 함수\n",
    "* 핵심 : free variable : 서로 다른 정보를 가진다\n",
    "\n"
   ]
  },
  {
   "cell_type": "code",
   "execution_count": null,
   "metadata": {
    "collapsed": false
   },
   "outputs": [],
   "source": []
  },
  {
   "cell_type": "code",
   "execution_count": 274,
   "metadata": {
    "collapsed": false
   },
   "outputs": [],
   "source": [
    "# 계좌\n",
    "# m : 초기 money, , name : 이름\n",
    "def account(m, name):\n",
    "    def add(money):\n",
    "        nonlocal = Nonlocals (m=0)\n",
    "        m += money\n",
    "        return m, name    \n",
    "    return add"
   ]
  },
  {
   "cell_type": "code",
   "execution_count": 273,
   "metadata": {
    "collapsed": false
   },
   "outputs": [
    {
     "ename": "SyntaxError",
     "evalue": "invalid syntax (<ipython-input-273-d9057e4e0c19>, line 5)",
     "output_type": "error",
     "traceback": [
      "\u001b[0;36m  File \u001b[0;32m\"<ipython-input-273-d9057e4e0c19>\"\u001b[0;36m, line \u001b[0;32m5\u001b[0m\n\u001b[0;31m    nonlocal m\u001b[0m\n\u001b[0m             ^\u001b[0m\n\u001b[0;31mSyntaxError\u001b[0m\u001b[0;31m:\u001b[0m invalid syntax\n"
     ]
    }
   ],
   "source": [
    "def account(name, m):\n",
    "    #account의 지역 변수 name, m\n",
    "    def add(money):\n",
    "        #free variable을 변경하기 위해\n",
    "        nonlocal m\n",
    "        m += money\n",
    "        #free variable name도 접근은 ok!\n",
    "        return name, m\n",
    "    #함수 내 함수 add를 반환\n",
    "    return add"
   ]
  },
  {
   "cell_type": "code",
   "execution_count": 275,
   "metadata": {
    "collapsed": true
   },
   "outputs": [],
   "source": [
    "my_account = account(1000, 'greg')\n",
    "your_account = account(200, 'john')"
   ]
  },
  {
   "cell_type": "code",
   "execution_count": 230,
   "metadata": {
    "collapsed": false
   },
   "outputs": [
    {
     "data": {
      "text/plain": [
       "<function __main__.add>"
      ]
     },
     "execution_count": 230,
     "metadata": {},
     "output_type": "execute_result"
    }
   ],
   "source": [
    "my_account"
   ]
  },
  {
   "cell_type": "code",
   "execution_count": 231,
   "metadata": {
    "collapsed": false
   },
   "outputs": [
    {
     "data": {
      "text/plain": [
       "<function __main__.add>"
      ]
     },
     "execution_count": 231,
     "metadata": {},
     "output_type": "execute_result"
    }
   ],
   "source": [
    "your_account"
   ]
  },
  {
   "cell_type": "code",
   "execution_count": 232,
   "metadata": {
    "collapsed": false
   },
   "outputs": [
    {
     "data": {
      "text/plain": [
       "False"
      ]
     },
     "execution_count": 232,
     "metadata": {},
     "output_type": "execute_result"
    }
   ],
   "source": [
    "my_account == your_account"
   ]
  },
  {
   "cell_type": "code",
   "execution_count": 233,
   "metadata": {
    "collapsed": false
   },
   "outputs": [
    {
     "data": {
      "text/plain": [
       "True"
      ]
     },
     "execution_count": 233,
     "metadata": {},
     "output_type": "execute_result"
    }
   ],
   "source": [
    "my_account.__code__ == your_account.__code__"
   ]
  },
  {
   "cell_type": "code",
   "execution_count": 234,
   "metadata": {
    "collapsed": false
   },
   "outputs": [
    {
     "data": {
      "text/plain": [
       "['__call__',\n",
       " '__class__',\n",
       " '__closure__',\n",
       " '__code__',\n",
       " '__defaults__',\n",
       " '__delattr__',\n",
       " '__dict__',\n",
       " '__doc__',\n",
       " '__format__',\n",
       " '__get__',\n",
       " '__getattribute__',\n",
       " '__globals__',\n",
       " '__hash__',\n",
       " '__init__',\n",
       " '__module__',\n",
       " '__name__',\n",
       " '__new__',\n",
       " '__reduce__',\n",
       " '__reduce_ex__',\n",
       " '__repr__',\n",
       " '__setattr__',\n",
       " '__sizeof__',\n",
       " '__str__',\n",
       " '__subclasshook__',\n",
       " 'func_closure',\n",
       " 'func_code',\n",
       " 'func_defaults',\n",
       " 'func_dict',\n",
       " 'func_doc',\n",
       " 'func_globals',\n",
       " 'func_name']"
      ]
     },
     "execution_count": 234,
     "metadata": {},
     "output_type": "execute_result"
    }
   ],
   "source": [
    "dir(account)"
   ]
  },
  {
   "cell_type": "code",
   "execution_count": 235,
   "metadata": {
    "collapsed": false
   },
   "outputs": [
    {
     "ename": "NameError",
     "evalue": "global name 'Nonlocals' is not defined",
     "output_type": "error",
     "traceback": [
      "\u001b[0;31m---------------------------------------------------------------------------\u001b[0m",
      "\u001b[0;31mNameError\u001b[0m                                 Traceback (most recent call last)",
      "\u001b[0;32m<ipython-input-235-49e9293eba5e>\u001b[0m in \u001b[0;36m<module>\u001b[0;34m()\u001b[0m\n\u001b[0;32m----> 1\u001b[0;31m \u001b[0mmy_account\u001b[0m\u001b[0;34m(\u001b[0m\u001b[0;36m300\u001b[0m\u001b[0;34m)\u001b[0m \u001b[0;31m#1300, 'greg'\u001b[0m\u001b[0;34m\u001b[0m\u001b[0m\n\u001b[0m",
      "\u001b[0;32m<ipython-input-228-1cd162e034c1>\u001b[0m in \u001b[0;36madd\u001b[0;34m(money)\u001b[0m\n\u001b[1;32m      3\u001b[0m \u001b[0;32mdef\u001b[0m \u001b[0maccount\u001b[0m\u001b[0;34m(\u001b[0m\u001b[0mm\u001b[0m\u001b[0;34m,\u001b[0m \u001b[0mname\u001b[0m\u001b[0;34m)\u001b[0m\u001b[0;34m:\u001b[0m\u001b[0;34m\u001b[0m\u001b[0m\n\u001b[1;32m      4\u001b[0m     \u001b[0;32mdef\u001b[0m \u001b[0madd\u001b[0m\u001b[0;34m(\u001b[0m\u001b[0mmoney\u001b[0m\u001b[0;34m)\u001b[0m\u001b[0;34m:\u001b[0m\u001b[0;34m\u001b[0m\u001b[0m\n\u001b[0;32m----> 5\u001b[0;31m         \u001b[0mnonlocal\u001b[0m \u001b[0;34m=\u001b[0m \u001b[0mNonlocals\u001b[0m \u001b[0;34m(\u001b[0m\u001b[0mm\u001b[0m\u001b[0;34m=\u001b[0m\u001b[0;36m0\u001b[0m\u001b[0;34m)\u001b[0m\u001b[0;34m\u001b[0m\u001b[0m\n\u001b[0m\u001b[1;32m      6\u001b[0m         \u001b[0mm\u001b[0m \u001b[0;34m+=\u001b[0m \u001b[0mmoney\u001b[0m\u001b[0;34m\u001b[0m\u001b[0m\n\u001b[1;32m      7\u001b[0m         \u001b[0;32mreturn\u001b[0m \u001b[0mm\u001b[0m\u001b[0;34m,\u001b[0m \u001b[0mname\u001b[0m\u001b[0;34m\u001b[0m\u001b[0m\n",
      "\u001b[0;31mNameError\u001b[0m: global name 'Nonlocals' is not defined"
     ]
    }
   ],
   "source": [
    "my_account(300) #1300, 'greg'"
   ]
  },
  {
   "cell_type": "code",
   "execution_count": 210,
   "metadata": {
    "collapsed": false
   },
   "outputs": [
    {
     "ename": "NameError",
     "evalue": "global name 'nonlocal' is not defined",
     "output_type": "error",
     "traceback": [
      "\u001b[0;31m---------------------------------------------------------------------------\u001b[0m",
      "\u001b[0;31mNameError\u001b[0m                                 Traceback (most recent call last)",
      "\u001b[0;32m<ipython-input-210-17c5f3629ef4>\u001b[0m in \u001b[0;36m<module>\u001b[0;34m()\u001b[0m\n\u001b[0;32m----> 1\u001b[0;31m \u001b[0myour_account\u001b[0m\u001b[0;34m(\u001b[0m\u001b[0;34m-\u001b[0m\u001b[0;36m300\u001b[0m\u001b[0;34m)\u001b[0m \u001b[0;31m#(-100, 'john')\u001b[0m\u001b[0;34m\u001b[0m\u001b[0m\n\u001b[0m",
      "\u001b[0;32m<ipython-input-200-f356a938393f>\u001b[0m in \u001b[0;36madd\u001b[0;34m(money)\u001b[0m\n\u001b[1;32m      3\u001b[0m \u001b[0;32mdef\u001b[0m \u001b[0maccount\u001b[0m\u001b[0;34m(\u001b[0m\u001b[0mm\u001b[0m\u001b[0;34m,\u001b[0m \u001b[0mname\u001b[0m\u001b[0;34m)\u001b[0m\u001b[0;34m:\u001b[0m\u001b[0;34m\u001b[0m\u001b[0m\n\u001b[1;32m      4\u001b[0m     \u001b[0;32mdef\u001b[0m \u001b[0madd\u001b[0m\u001b[0;34m(\u001b[0m\u001b[0mmoney\u001b[0m\u001b[0;34m)\u001b[0m\u001b[0;34m:\u001b[0m\u001b[0;34m\u001b[0m\u001b[0m\n\u001b[0;32m----> 5\u001b[0;31m         \u001b[0mnonlocal\u001b[0m \u001b[0;34m(\u001b[0m\u001b[0mm\u001b[0m\u001b[0;34m)\u001b[0m\u001b[0;34m\u001b[0m\u001b[0m\n\u001b[0m\u001b[1;32m      6\u001b[0m         \u001b[0mm\u001b[0m \u001b[0;34m+=\u001b[0m \u001b[0mmoney\u001b[0m\u001b[0;34m\u001b[0m\u001b[0m\n\u001b[1;32m      7\u001b[0m         \u001b[0;32mreturn\u001b[0m \u001b[0mm\u001b[0m\u001b[0;34m,\u001b[0m \u001b[0mname\u001b[0m\u001b[0;34m\u001b[0m\u001b[0m\n",
      "\u001b[0;31mNameError\u001b[0m: global name 'nonlocal' is not defined"
     ]
    }
   ],
   "source": [
    "your_account(-300) #(-100, 'john')"
   ]
  },
  {
   "cell_type": "code",
   "execution_count": 212,
   "metadata": {
    "collapsed": false
   },
   "outputs": [
    {
     "data": {
      "text/plain": [
       "'greg'"
      ]
     },
     "execution_count": 212,
     "metadata": {},
     "output_type": "execute_result"
    }
   ],
   "source": [
    "my_account.__closure__[0].cell_contents # 1300"
   ]
  },
  {
   "cell_type": "code",
   "execution_count": 214,
   "metadata": {
    "collapsed": false
   },
   "outputs": [
    {
     "ename": "IndexError",
     "evalue": "tuple index out of range",
     "output_type": "error",
     "traceback": [
      "\u001b[0;31m---------------------------------------------------------------------------\u001b[0m",
      "\u001b[0;31mIndexError\u001b[0m                                Traceback (most recent call last)",
      "\u001b[0;32m<ipython-input-214-3454bbe017e0>\u001b[0m in \u001b[0;36m<module>\u001b[0;34m()\u001b[0m\n\u001b[0;32m----> 1\u001b[0;31m \u001b[0mmy_account\u001b[0m\u001b[0;34m.\u001b[0m\u001b[0m__closure__\u001b[0m\u001b[0;34m[\u001b[0m\u001b[0;36m1\u001b[0m\u001b[0;34m]\u001b[0m\u001b[0;34m.\u001b[0m\u001b[0mcell_contents\u001b[0m \u001b[0;31m# 'greg'\u001b[0m\u001b[0;34m\u001b[0m\u001b[0m\n\u001b[0m",
      "\u001b[0;31mIndexError\u001b[0m: tuple index out of range"
     ]
    }
   ],
   "source": [
    "my_account.__closure__[1].cell_contents # 'greg'"
   ]
  },
  {
   "cell_type": "code",
   "execution_count": 215,
   "metadata": {
    "collapsed": false
   },
   "outputs": [
    {
     "data": {
      "text/plain": [
       "'john'"
      ]
     },
     "execution_count": 215,
     "metadata": {},
     "output_type": "execute_result"
    }
   ],
   "source": [
    "your_account.__closure__[0].cell_contents #'-100'\n"
   ]
  },
  {
   "cell_type": "code",
   "execution_count": 217,
   "metadata": {
    "collapsed": false
   },
   "outputs": [
    {
     "ename": "IndexError",
     "evalue": "tuple index out of range",
     "output_type": "error",
     "traceback": [
      "\u001b[0;31m---------------------------------------------------------------------------\u001b[0m",
      "\u001b[0;31mIndexError\u001b[0m                                Traceback (most recent call last)",
      "\u001b[0;32m<ipython-input-217-39a90aee9812>\u001b[0m in \u001b[0;36m<module>\u001b[0;34m()\u001b[0m\n\u001b[0;32m----> 1\u001b[0;31m \u001b[0myour_account\u001b[0m\u001b[0;34m.\u001b[0m\u001b[0m__closure__\u001b[0m\u001b[0;34m[\u001b[0m\u001b[0;36m1\u001b[0m\u001b[0;34m]\u001b[0m\u001b[0;34m.\u001b[0m\u001b[0mcell_contents\u001b[0m\u001b[0;34m\u001b[0m\u001b[0m\n\u001b[0m",
      "\u001b[0;31mIndexError\u001b[0m: tuple index out of range"
     ]
    }
   ],
   "source": [
    "your_account.__closure__[1].cell_contents # 'john'"
   ]
  },
  {
   "cell_type": "code",
   "execution_count": 218,
   "metadata": {
    "collapsed": true
   },
   "outputs": [],
   "source": [
    "code = my_account.__code__"
   ]
  },
  {
   "cell_type": "code",
   "execution_count": 220,
   "metadata": {
    "collapsed": false
   },
   "outputs": [
    {
     "data": {
      "text/plain": [
       "('name',)"
      ]
     },
     "execution_count": 220,
     "metadata": {},
     "output_type": "execute_result"
    }
   ],
   "source": [
    "code.co_freevars #('m', 'name')"
   ]
  },
  {
   "cell_type": "code",
   "execution_count": 221,
   "metadata": {
    "collapsed": false
   },
   "outputs": [
    {
     "data": {
      "text/plain": [
       "['__call__',\n",
       " '__class__',\n",
       " '__closure__',\n",
       " '__code__',\n",
       " '__defaults__',\n",
       " '__delattr__',\n",
       " '__dict__',\n",
       " '__doc__',\n",
       " '__format__',\n",
       " '__get__',\n",
       " '__getattribute__',\n",
       " '__globals__',\n",
       " '__hash__',\n",
       " '__init__',\n",
       " '__module__',\n",
       " '__name__',\n",
       " '__new__',\n",
       " '__reduce__',\n",
       " '__reduce_ex__',\n",
       " '__repr__',\n",
       " '__setattr__',\n",
       " '__sizeof__',\n",
       " '__str__',\n",
       " '__subclasshook__',\n",
       " 'func_closure',\n",
       " 'func_code',\n",
       " 'func_defaults',\n",
       " 'func_dict',\n",
       " 'func_doc',\n",
       " 'func_globals',\n",
       " 'func_name']"
      ]
     },
     "execution_count": 221,
     "metadata": {},
     "output_type": "execute_result"
    }
   ],
   "source": [
    "dir(my_account)"
   ]
  },
  {
   "cell_type": "code",
   "execution_count": 223,
   "metadata": {
    "collapsed": false
   },
   "outputs": [
    {
     "data": {
      "text/plain": [
       "(<cell at 0x1111b2cc8: str object at 0x111259780>,)"
      ]
     },
     "execution_count": 223,
     "metadata": {},
     "output_type": "execute_result"
    }
   ],
   "source": [
    "my_account.__closure__"
   ]
  },
  {
   "cell_type": "code",
   "execution_count": 224,
   "metadata": {
    "collapsed": false
   },
   "outputs": [
    {
     "data": {
      "text/plain": [
       "<cell at 0x1111b2cc8: str object at 0x111259780>"
      ]
     },
     "execution_count": 224,
     "metadata": {},
     "output_type": "execute_result"
    }
   ],
   "source": [
    "my_account.__closure__[0]"
   ]
  },
  {
   "cell_type": "code",
   "execution_count": 226,
   "metadata": {
    "collapsed": false
   },
   "outputs": [
    {
     "data": {
      "text/plain": [
       "'greg'"
      ]
     },
     "execution_count": 226,
     "metadata": {},
     "output_type": "execute_result"
    }
   ],
   "source": [
    "my_account.__closure__[0].cell_contents"
   ]
  },
  {
   "cell_type": "code",
   "execution_count": null,
   "metadata": {
    "collapsed": true
   },
   "outputs": [],
   "source": []
  },
  {
   "cell_type": "code",
   "execution_count": null,
   "metadata": {
    "collapsed": true
   },
   "outputs": [],
   "source": []
  },
  {
   "cell_type": "markdown",
   "metadata": {},
   "source": [
    "# lambda\n",
    "* 익명 함수\n",
    "* 자주 사용하지 않을 때 편리\n",
    "* return 문이 없다\n",
    "* body는 오직 expression<식>만 올 수 있다. "
   ]
  },
  {
   "cell_type": "code",
   "execution_count": 237,
   "metadata": {
    "collapsed": false
   },
   "outputs": [
    {
     "data": {
      "text/plain": [
       "30"
      ]
     },
     "execution_count": 237,
     "metadata": {},
     "output_type": "execute_result"
    }
   ],
   "source": [
    "# 일반 함수\n",
    "def adder(a,b):\n",
    "    return a+b\n",
    "a = 10\n",
    "b = 20\n",
    "adder(a, b) # 30"
   ]
  },
  {
   "cell_type": "code",
   "execution_count": 240,
   "metadata": {
    "collapsed": false
   },
   "outputs": [
    {
     "data": {
      "text/plain": [
       "30"
      ]
     },
     "execution_count": 240,
     "metadata": {},
     "output_type": "execute_result"
    }
   ],
   "source": [
    "# lambda : return문이 없다. \n",
    "f = lambda a, b: a+b\n",
    "# adder(a,b): return a+b\n",
    "\n",
    "a = 10\n",
    "b = 20\n",
    "f(a,b) # 30"
   ]
  },
  {
   "cell_type": "code",
   "execution_count": 246,
   "metadata": {
    "collapsed": false
   },
   "outputs": [
    {
     "name": "stdout",
     "output_type": "stream",
     "text": [
      "0\n",
      "---lambda---\n",
      "1\n",
      "------\n",
      "1\n",
      "---lambda---\n",
      "4\n",
      "------\n",
      "2\n",
      "---lambda---\n",
      "9\n",
      "------\n",
      "3\n",
      "---lambda---\n",
      "16\n",
      "------\n"
     ]
    }
   ],
   "source": [
    "#주변에 있는 변수를 가져다 몸체에서 쓸 수 있다.\n",
    "li = [1,2,3,4]\n",
    "f = lambda (idx):li[idx] ** 2\n",
    "\n",
    "for i in range(4):\n",
    "    print(i)\n",
    "    print(\"---lambda---\")\n",
    "    print(f(i))\n",
    "    print(\"------\")"
   ]
  },
  {
   "cell_type": "code",
   "execution_count": 247,
   "metadata": {
    "collapsed": false
   },
   "outputs": [
    {
     "data": {
      "text/plain": [
       "[1, 2, 3, 6]"
      ]
     },
     "execution_count": 247,
     "metadata": {},
     "output_type": "execute_result"
    }
   ],
   "source": [
    "li = [3,6,2,1]\n",
    "li.sort()\n",
    "li"
   ]
  },
  {
   "cell_type": "code",
   "execution_count": 248,
   "metadata": {
    "collapsed": false
   },
   "outputs": [
    {
     "data": {
      "text/plain": [
       "[1, 2, 3, 4, 5, 6, 7, 8, 9, 10]"
      ]
     },
     "execution_count": 248,
     "metadata": {},
     "output_type": "execute_result"
    }
   ],
   "source": [
    "#lambda 사용 예제\n",
    "li = [i for i in range(1,11)]\n",
    "li\n"
   ]
  },
  {
   "cell_type": "code",
   "execution_count": 249,
   "metadata": {
    "collapsed": false
   },
   "outputs": [
    {
     "name": "stdout",
     "output_type": "stream",
     "text": [
      "Help on built-in function sort:\n",
      "\n",
      "sort(...)\n",
      "    L.sort(cmp=None, key=None, reverse=False) -- stable sort *IN PLACE*;\n",
      "    cmp(x, y) -> -1, 0, 1\n",
      "\n"
     ]
    }
   ],
   "source": [
    "#짝수는 뒤쪽으로, 홀수는 뒤쪽으로\n",
    "help(li.sort)"
   ]
  },
  {
   "cell_type": "code",
   "execution_count": 250,
   "metadata": {
    "collapsed": true
   },
   "outputs": [],
   "source": [
    "def pred(a):\n",
    "    return a % 2 == 0"
   ]
  },
  {
   "cell_type": "code",
   "execution_count": 259,
   "metadata": {
    "collapsed": false
   },
   "outputs": [
    {
     "data": {
      "text/plain": [
       "[1, 3, 5, 7, 9, 2, 4, 6, 8, 10]"
      ]
     },
     "execution_count": 259,
     "metadata": {},
     "output_type": "execute_result"
    }
   ],
   "source": [
    "li.sort(key = pred)\n",
    "li"
   ]
  },
  {
   "cell_type": "code",
   "execution_count": 258,
   "metadata": {
    "collapsed": false
   },
   "outputs": [
    {
     "data": {
      "text/plain": [
       "[1, 3, 5, 7, 9, 2, 4, 6, 8, 10]"
      ]
     },
     "execution_count": 258,
     "metadata": {},
     "output_type": "execute_result"
    }
   ],
   "source": [
    "li1 = [i for i in range(1,11)]\n",
    "li1.sort(key = lambda a: a%2 == 0)\n",
    "li1"
   ]
  },
  {
   "cell_type": "code",
   "execution_count": 265,
   "metadata": {
    "collapsed": false
   },
   "outputs": [
    {
     "data": {
      "text/plain": [
       "[10, 9, 8, 7, 6, 5, 4, 3, 2, 1]"
      ]
     },
     "execution_count": 265,
     "metadata": {},
     "output_type": "execute_result"
    }
   ],
   "source": [
    "li.sort(reverse = True)\n",
    "li"
   ]
  },
  {
   "cell_type": "code",
   "execution_count": 271,
   "metadata": {
    "collapsed": false
   },
   "outputs": [
    {
     "name": "stdout",
     "output_type": "stream",
     "text": [
      "[2, 3, 1, 7, 2]\n"
     ]
    },
    {
     "data": {
      "text/plain": [
       "[1, 2, 2, 3, 7]"
      ]
     },
     "execution_count": 271,
     "metadata": {},
     "output_type": "execute_result"
    }
   ],
   "source": [
    "#원본도 있고 정렬된 리스트도 있고\n",
    "li2 = [2,3,1,7,2]\n",
    "print(li2)\n",
    "sorted(li2) "
   ]
  },
  {
   "cell_type": "markdown",
   "metadata": {},
   "source": [
    "# Day 6 (2017/08/01 Tues)\n",
    "\n",
    "    1. Map\n",
    "    2. filter\n",
    "    3. reduce\n",
    "    4. 게으른 연산(lazy evaluation) -> 성능이 좋다\n",
    "    5. decorator for 예제\n",
    "    6. call by reference (인자 전달 방식)\n"
   ]
  },
  {
   "cell_type": "markdown",
   "metadata": {},
   "source": [
    "## map"
   ]
  },
  {
   "cell_type": "code",
   "execution_count": 1,
   "metadata": {
    "collapsed": false
   },
   "outputs": [
    {
     "name": "stdout",
     "output_type": "stream",
     "text": [
      "1\n",
      "2\n",
      "3\n",
      "4\n"
     ]
    }
   ],
   "source": [
    "#iterable object(순회 가능한 객체)\n",
    "# for 문으로 돌릴 수 있는 iterable 객체\n",
    "li = [1,2,3,4]\n",
    "for e in li:\n",
    "    print(e)"
   ]
  },
  {
   "cell_type": "code",
   "execution_count": 3,
   "metadata": {
    "collapsed": false
   },
   "outputs": [
    {
     "ename": "SyntaxError",
     "evalue": "invalid syntax (<ipython-input-3-18019fcc2276>, line 3)",
     "output_type": "error",
     "traceback": [
      "\u001b[0;36m  File \u001b[0;32m\"<ipython-input-3-18019fcc2276>\"\u001b[0;36m, line \u001b[0;32m3\u001b[0m\n\u001b[0;31m    print(e, end = '  ') # 1  2  3  4\u001b[0m\n\u001b[0m                 ^\u001b[0m\n\u001b[0;31mSyntaxError\u001b[0m\u001b[0;31m:\u001b[0m invalid syntax\n"
     ]
    }
   ],
   "source": [
    "li = [1,2,3,4]\n",
    "for e in li:\n",
    "    print(e, end = '  ') # 1  2  3  4"
   ]
  },
  {
   "cell_type": "code",
   "execution_count": 5,
   "metadata": {
    "collapsed": false
   },
   "outputs": [
    {
     "name": "stdout",
     "output_type": "stream",
     "text": [
      "a\n",
      "b\n",
      "c\n",
      "d\n",
      "e\n"
     ]
    }
   ],
   "source": [
    "s = 'abcde'\n",
    "for e in s:\n",
    "    print(e)"
   ]
  },
  {
   "cell_type": "code",
   "execution_count": 22,
   "metadata": {
    "collapsed": false
   },
   "outputs": [
    {
     "name": "stdout",
     "output_type": "stream",
     "text": [
      "[('a', 1), ('b', 2), ('c', 3), ('d', 4)]\n"
     ]
    }
   ],
   "source": [
    "# zip : generator (게으른 연산)\n",
    "key = ( 'a', 'b', 'c', 'd')\n",
    "value = [1,2,3,4]\n",
    "z = zip(key, value)\n",
    "print(z)\n",
    "# next(z) # ('a', 1)\n",
    "# next(z) # ('b', 2)\n",
    "# next(z) # ('c', 3)\n",
    "# next(z) # ('d', 4)\n",
    "# next(z) # stopliteration"
   ]
  },
  {
   "cell_type": "code",
   "execution_count": 37,
   "metadata": {
    "collapsed": false
   },
   "outputs": [
    {
     "name": "stdout",
     "output_type": "stream",
     "text": [
      "{'a': 1, 'c': 3, 'b': 2, 'd': 4}\n",
      "{'a': 1, 'c': 3, 'b': 2, 'd': 4}\n"
     ]
    }
   ],
   "source": [
    "key = ( 'a', 'b', 'c', 'd')\n",
    "value = [1,2,3,4]\n",
    "# { 'a': 1, 'b' : 2, 'c' : 3, 'd' :  4 }\n",
    "#1. dictionary comprehension\n",
    "# list = [i for i in ragne()] # list comprehension\n",
    "dic = {k : v for k, v in zip(key, value)}\n",
    "print(dic)\n",
    "\n",
    "#2. dict()\n",
    "dic1 = dict(zip(key, value))\n",
    "print(dic1)"
   ]
  },
  {
   "cell_type": "code",
   "execution_count": 27,
   "metadata": {
    "collapsed": false
   },
   "outputs": [
    {
     "name": "stdout",
     "output_type": "stream",
     "text": [
      "('a', 1)\n",
      "('c', 3)\n",
      "('b', 2)\n",
      "('d', 4)\n"
     ]
    }
   ],
   "source": [
    "dic = { 'a' : 1, 'b' : 2, 'c' : 3, 'd' : 4}\n",
    "for e in dic.items():\n",
    "    print(e)"
   ]
  },
  {
   "cell_type": "code",
   "execution_count": 30,
   "metadata": {
    "collapsed": false
   },
   "outputs": [
    {
     "name": "stdout",
     "output_type": "stream",
     "text": [
      "('a', 1)\n",
      "('c', 3)\n",
      "('b', 2)\n",
      "('d', 4)\n"
     ]
    }
   ],
   "source": [
    "dic = { 'a' : 1, 'b' : 2, 'c' : 3, 'd' : 4}\n",
    "for e in dic.items():\n",
    "    k, v = e\n",
    "    print(k, v)"
   ]
  },
  {
   "cell_type": "code",
   "execution_count": 32,
   "metadata": {
    "collapsed": false
   },
   "outputs": [
    {
     "name": "stdout",
     "output_type": "stream",
     "text": [
      "('a', 1)\n",
      "('c', 3)\n",
      "('b', 2)\n",
      "('d', 4)\n"
     ]
    }
   ],
   "source": [
    "dic = { 'a' : 1, 'b' : 2, 'c' : 3, 'd' : 4}\n",
    "for k,v in dic.items():\n",
    "    k, v\n",
    "    print(k, v)"
   ]
  },
  {
   "cell_type": "code",
   "execution_count": null,
   "metadata": {
    "collapsed": true
   },
   "outputs": [],
   "source": []
  },
  {
   "cell_type": "code",
   "execution_count": 60,
   "metadata": {
    "collapsed": false
   },
   "outputs": [
    {
     "name": "stdout",
     "output_type": "stream",
     "text": [
      "{'korean': '80', 'math': '100', 'english': '90'}\n",
      "{'korean': '80', 'math': '100', 'english': '90'}\n"
     ]
    }
   ],
   "source": [
    "# dictionary 예제\n",
    "key = [\"english\", \"math\", 'korean']\n",
    "value = ['90', '100', '80']\n",
    "dic_score = {k : v for k, v in zip(key, value)}\n",
    "print(dic_score)\n",
    "\n",
    "dic_score1 = dict(zip(key,value))\n",
    "print(dic_score1)"
   ]
  },
  {
   "cell_type": "code",
   "execution_count": 42,
   "metadata": {
    "collapsed": false
   },
   "outputs": [
    {
     "name": "stdout",
     "output_type": "stream",
     "text": [
      "[('a', 1), ('b', 2), ('c', 3)]\n"
     ]
    }
   ],
   "source": [
    "# zip 예제\n",
    "key_ex = ['a', 'b', 'c']\n",
    "value_ex = [1, 2, 3]\n",
    "zip_ex = zip(key_ex, value_ex)\n",
    "print(zip_ex)"
   ]
  },
  {
   "cell_type": "code",
   "execution_count": 43,
   "metadata": {
    "collapsed": true
   },
   "outputs": [],
   "source": [
    "#map \n",
    "def mul_10(x):\n",
    "    return x * 10"
   ]
  },
  {
   "cell_type": "code",
   "execution_count": 44,
   "metadata": {
    "collapsed": false
   },
   "outputs": [
    {
     "name": "stdout",
     "output_type": "stream",
     "text": [
      "[10, 20, 30, 40]\n"
     ]
    }
   ],
   "source": [
    "li = [1,2,3,4]\n",
    "m = map(mul_10, li)\n",
    "print(m)"
   ]
  },
  {
   "cell_type": "code",
   "execution_count": 47,
   "metadata": {
    "collapsed": false
   },
   "outputs": [],
   "source": [
    "# next(m) # 10\n",
    "# next(m) # 20\n",
    "# next(m) # 30\n",
    "# next(m) # 40\n",
    "# next(m) # stopLiteration"
   ]
  },
  {
   "cell_type": "code",
   "execution_count": 48,
   "metadata": {
    "collapsed": false
   },
   "outputs": [
    {
     "name": "stdout",
     "output_type": "stream",
     "text": [
      "10\n",
      "20\n",
      "30\n",
      "40\n"
     ]
    }
   ],
   "source": [
    "for e in m:\n",
    "    print(e)"
   ]
  },
  {
   "cell_type": "code",
   "execution_count": 55,
   "metadata": {
    "collapsed": false
   },
   "outputs": [
    {
     "name": "stdout",
     "output_type": "stream",
     "text": [
      "[10, 20, 30, 40]\n",
      "10\n",
      "20\n",
      "30\n",
      "40\n"
     ]
    }
   ],
   "source": [
    "# ** 핵심 부분 ** #\n",
    "# 맵과 람다를 이용한 연산 -> 메모리를 적게 먹는다. \n",
    "m = map(lambda x:x*10, li)\n",
    "print(m)\n",
    "\n",
    "for e in m:\n",
    "    print(e)"
   ]
  },
  {
   "cell_type": "code",
   "execution_count": 79,
   "metadata": {
    "collapsed": false
   },
   "outputs": [
    {
     "data": {
      "text/plain": [
       "[10, 20, 30, 40]"
      ]
     },
     "execution_count": 79,
     "metadata": {},
     "output_type": "execute_result"
    }
   ],
   "source": [
    "# ** 핵심 부분 ** #\n",
    "# list를 사용한 연산 -> 메모리를 많이 먹는다. \n",
    "y = []\n",
    "for e in li:\n",
    "    y.append(e*10)\n",
    "\n",
    "y"
   ]
  },
  {
   "cell_type": "code",
   "execution_count": 57,
   "metadata": {
    "collapsed": false
   },
   "outputs": [
    {
     "data": {
      "text/plain": [
       "[('a', 1), ('c', 3), ('b', 2), ('d', 4)]"
      ]
     },
     "execution_count": 57,
     "metadata": {},
     "output_type": "execute_result"
    }
   ],
   "source": [
    "# python 2.x\n",
    "dic.items()"
   ]
  },
  {
   "cell_type": "code",
   "execution_count": 58,
   "metadata": {
    "collapsed": false
   },
   "outputs": [
    {
     "data": {
      "text/plain": [
       "{'a': 1, 'b': 2, 'c': 3, 'd': 4}"
      ]
     },
     "execution_count": 58,
     "metadata": {},
     "output_type": "execute_result"
    }
   ],
   "source": [
    "dic"
   ]
  },
  {
   "cell_type": "code",
   "execution_count": 62,
   "metadata": {
    "collapsed": false
   },
   "outputs": [
    {
     "data": {
      "text/plain": [
       "['a', 'c', 'b', 'd']"
      ]
     },
     "execution_count": 62,
     "metadata": {},
     "output_type": "execute_result"
    }
   ],
   "source": [
    "key_list = list(dic.keys())\n",
    "key_list"
   ]
  },
  {
   "cell_type": "code",
   "execution_count": 64,
   "metadata": {
    "collapsed": false
   },
   "outputs": [],
   "source": [
    "# keys(), values(), items() : view 객체\n",
    "# 동적이다.\n",
    "key_view = dic.keys()"
   ]
  },
  {
   "cell_type": "code",
   "execution_count": 73,
   "metadata": {
    "collapsed": false
   },
   "outputs": [
    {
     "data": {
      "text/plain": [
       "['a', 'c', 'b', 'd']"
      ]
     },
     "execution_count": 73,
     "metadata": {},
     "output_type": "execute_result"
    }
   ],
   "source": [
    "key_view"
   ]
  },
  {
   "cell_type": "code",
   "execution_count": 70,
   "metadata": {
    "collapsed": true
   },
   "outputs": [],
   "source": [
    "# dic에 하나 추가\n",
    "dic['e'] = 5"
   ]
  },
  {
   "cell_type": "code",
   "execution_count": 74,
   "metadata": {
    "collapsed": false
   },
   "outputs": [
    {
     "data": {
      "text/plain": [
       "{'a': 1, 'b': 2, 'c': 3, 'd': 4, 'e': 5}"
      ]
     },
     "execution_count": 74,
     "metadata": {},
     "output_type": "execute_result"
    }
   ],
   "source": [
    "dic"
   ]
  },
  {
   "cell_type": "code",
   "execution_count": 75,
   "metadata": {
    "collapsed": false
   },
   "outputs": [
    {
     "data": {
      "text/plain": [
       "['a', 'c', 'b', 'd']"
      ]
     },
     "execution_count": 75,
     "metadata": {},
     "output_type": "execute_result"
    }
   ],
   "source": [
    "key_list"
   ]
  },
  {
   "cell_type": "code",
   "execution_count": 77,
   "metadata": {
    "collapsed": false
   },
   "outputs": [
    {
     "data": {
      "text/plain": [
       "['a', 'c', 'b', 'd']"
      ]
     },
     "execution_count": 77,
     "metadata": {},
     "output_type": "execute_result"
    }
   ],
   "source": [
    "key_view #['a', 'b' , 'c' , 'd' , 'e']"
   ]
  },
  {
   "cell_type": "code",
   "execution_count": null,
   "metadata": {
    "collapsed": true
   },
   "outputs": [],
   "source": []
  },
  {
   "cell_type": "markdown",
   "metadata": {},
   "source": [
    "### 게으른 연산\n",
    "필요할 때 마다 연산한다"
   ]
  },
  {
   "cell_type": "code",
   "execution_count": 83,
   "metadata": {
    "collapsed": false
   },
   "outputs": [
    {
     "name": "stdout",
     "output_type": "stream",
     "text": [
      "func is executed\n",
      "func is executed\n",
      "func is executed\n",
      "func is executed\n"
     ]
    },
    {
     "data": {
      "text/plain": [
       "[1, 4, 9, 16]"
      ]
     },
     "execution_count": 83,
     "metadata": {},
     "output_type": "execute_result"
    }
   ],
   "source": [
    "# 제곱\n",
    "def func(a):\n",
    "    print(\"func is executed\")\n",
    "    return a ** 2\n",
    "\n",
    "li = [1,2,3,4]\n",
    "m = map(func, li)\n",
    "m"
   ]
  },
  {
   "cell_type": "code",
   "execution_count": 6,
   "metadata": {
    "collapsed": false
   },
   "outputs": [
    {
     "name": "stdout",
     "output_type": "stream",
     "text": [
      "1\n",
      "4\n",
      "9\n",
      "16\n",
      "[10, 20, 30, 40]\n"
     ]
    }
   ],
   "source": [
    "# 제곱\n",
    "li = [1,2,3,4]\n",
    "# mm = map(lambda x: x**2, li)\n",
    "# print(mm)\n",
    "for i in li:\n",
    "    print i**2\n",
    "\n",
    "m = map(lambda x:x*10, li)\n",
    "print(m)"
   ]
  },
  {
   "cell_type": "markdown",
   "metadata": {},
   "source": [
    "### filter\n",
    "\n",
    "조건이 참이면 포함  \n",
    "조건이 거짓이면 포함 안 함"
   ]
  },
  {
   "cell_type": "code",
   "execution_count": 90,
   "metadata": {
    "collapsed": false
   },
   "outputs": [
    {
     "data": {
      "text/plain": [
       "[2, 5]"
      ]
     },
     "execution_count": 90,
     "metadata": {},
     "output_type": "execute_result"
    }
   ],
   "source": [
    "li = [2, -4, 5, -7]\n",
    "result = filter(lambda x: x>0, li)\n",
    "result"
   ]
  },
  {
   "cell_type": "code",
   "execution_count": 91,
   "metadata": {
    "collapsed": false
   },
   "outputs": [
    {
     "name": "stdout",
     "output_type": "stream",
     "text": [
      "2\n",
      "5\n"
     ]
    }
   ],
   "source": [
    "for e in result:\n",
    "    print(e)"
   ]
  },
  {
   "cell_type": "code",
   "execution_count": 93,
   "metadata": {
    "collapsed": false
   },
   "outputs": [
    {
     "name": "stdout",
     "output_type": "stream",
     "text": [
      "a>0\n"
     ]
    }
   ],
   "source": [
    "# 삼항 연산자\n",
    "a = 10 \n",
    "if a > 0:\n",
    "    print (\"a>0\")\n",
    "else:\n",
    "    print(\"a<0\")"
   ]
  },
  {
   "cell_type": "code",
   "execution_count": 94,
   "metadata": {
    "collapsed": false
   },
   "outputs": [
    {
     "name": "stdout",
     "output_type": "stream",
     "text": [
      "a>0\n"
     ]
    }
   ],
   "source": [
    "print(\"a>0\" if a >0 else \"a<0\")"
   ]
  },
  {
   "cell_type": "code",
   "execution_count": 95,
   "metadata": {
    "collapsed": false
   },
   "outputs": [
    {
     "data": {
      "text/plain": [
       "'a>0'"
      ]
     },
     "execution_count": 95,
     "metadata": {},
     "output_type": "execute_result"
    }
   ],
   "source": [
    "#<참일 때 값> if 조건 else <거짓일 때 값>\n",
    "\"a>0\" if a>0 else \"a<0\""
   ]
  },
  {
   "cell_type": "code",
   "execution_count": 97,
   "metadata": {
    "collapsed": false
   },
   "outputs": [
    {
     "data": {
      "text/plain": [
       "'a==0'"
      ]
     },
     "execution_count": 97,
     "metadata": {},
     "output_type": "execute_result"
    }
   ],
   "source": [
    "# a>0\n",
    "# a<0\n",
    "# a=0\n",
    "a = 0\n",
    "\"a>0\" if a>0 else(\"a==0\" if a == 0 else \"a < 0\")"
   ]
  },
  {
   "cell_type": "code",
   "execution_count": 115,
   "metadata": {
    "collapsed": false
   },
   "outputs": [],
   "source": [
    "# map, lambda 사용하여 양수, 음수, 0 골라내기\n",
    "# 양수이면 '양수', 음수이면 '음수', 0이면 '0'\n",
    "li = [2, 0, 5 , -7]\n",
    "\n",
    "def pos_neg_zero(li):\n",
    "    return(map(lambda x: \"pos\" if x>0 else (\"0\" if x==0 else \"neg\"), li))"
   ]
  },
  {
   "cell_type": "code",
   "execution_count": 116,
   "metadata": {
    "collapsed": false
   },
   "outputs": [
    {
     "data": {
      "text/plain": [
       "['pos', '0', 'pos', 'neg']"
      ]
     },
     "execution_count": 116,
     "metadata": {},
     "output_type": "execute_result"
    }
   ],
   "source": [
    "pos_neg_zero(li)"
   ]
  },
  {
   "cell_type": "code",
   "execution_count": 223,
   "metadata": {
    "collapsed": true
   },
   "outputs": [],
   "source": [
    "# 선생님 답\n",
    "result = list(map(lambda x:\n",
    "                 \"pos\" if x > 0\n",
    "                  else ( \n",
    "                  \"neg\" if x < 0\n",
    "                      else\n",
    "                      '0')\n",
    "                 , li ))\n"
   ]
  },
  {
   "cell_type": "code",
   "execution_count": 224,
   "metadata": {
    "collapsed": false
   },
   "outputs": [
    {
     "data": {
      "text/plain": [
       "['pos', 'pos', 'pos', 'pos']"
      ]
     },
     "execution_count": 224,
     "metadata": {},
     "output_type": "execute_result"
    }
   ],
   "source": [
    "result"
   ]
  },
  {
   "cell_type": "code",
   "execution_count": 225,
   "metadata": {
    "collapsed": false
   },
   "outputs": [
    {
     "data": {
      "text/plain": [
       "['a', 'b', 'c', 'd', 'e']"
      ]
     },
     "execution_count": 225,
     "metadata": {},
     "output_type": "execute_result"
    }
   ],
   "source": [
    "s = 'abcde'\n",
    "list(s)"
   ]
  },
  {
   "cell_type": "code",
   "execution_count": 226,
   "metadata": {
    "collapsed": false
   },
   "outputs": [
    {
     "data": {
      "text/plain": [
       "[4, 25]"
      ]
     },
     "execution_count": 226,
     "metadata": {},
     "output_type": "execute_result"
    }
   ],
   "source": [
    "# filter, lambda, map 이용해서 출력하기\n",
    "# 양수만 뽑아서(filter) 제곱한(map) 값\n",
    "# result = [4, 25]\n",
    "li = [2, 5, -6, 0, -7]\n",
    "result = filter(lambda x: x>0, li)\n",
    "result_map = map(lambda x: x**2, result)\n",
    "result_map"
   ]
  },
  {
   "cell_type": "code",
   "execution_count": 227,
   "metadata": {
    "collapsed": false
   },
   "outputs": [
    {
     "data": {
      "text/plain": [
       "[4, 25]"
      ]
     },
     "execution_count": 227,
     "metadata": {},
     "output_type": "execute_result"
    }
   ],
   "source": [
    "#선생님답\n",
    "result_teacher = list(map(lambda x: x**2, filter(lambda x: x>0, li)))\n",
    "result_teacher"
   ]
  },
  {
   "cell_type": "markdown",
   "metadata": {},
   "source": [
    "### reduce  \n",
    "줄여나간다 \n",
    "[1,2,3,4,5] 합 : 15  \n",
    "첫 번째와 두번째를 받아서 합한다 -> 3  \n",
    "그 결과값을 1,2번째 자리로 치환한다 -> [3,3,4,5]  \n",
    "다시 1,2번째 자리의 값을 받아서 합한다 -> 6  \n",
    "그 결과값을 1,2 번째 자리로 치환한다 -> [6, 4, 5]  \n",
    "반복해서 한개만 남을 떄까지 한다.   "
   ]
  },
  {
   "cell_type": "code",
   "execution_count": 228,
   "metadata": {
    "collapsed": false
   },
   "outputs": [
    {
     "data": {
      "text/plain": [
       "[3, 5, 7, 9]"
      ]
     },
     "execution_count": 228,
     "metadata": {},
     "output_type": "execute_result"
    }
   ],
   "source": [
    "a = [1,2,3,4]\n",
    "b = [2,3,4,5]\n",
    "result = map(lambda x, y: x+y, a,b)\n",
    "result"
   ]
  },
  {
   "cell_type": "code",
   "execution_count": 229,
   "metadata": {
    "collapsed": true
   },
   "outputs": [],
   "source": [
    "# reduce\n",
    "from functools import reduce"
   ]
  },
  {
   "cell_type": "code",
   "execution_count": 230,
   "metadata": {
    "collapsed": false
   },
   "outputs": [
    {
     "data": {
      "text/plain": [
       "15"
      ]
     },
     "execution_count": 230,
     "metadata": {},
     "output_type": "execute_result"
    }
   ],
   "source": [
    "li = [1,2,3,4,5]\n",
    "result = reduce(lambda a, b: a+ b, li)\n",
    "result"
   ]
  },
  {
   "cell_type": "code",
   "execution_count": 335,
   "metadata": {
    "collapsed": false
   },
   "outputs": [
    {
     "name": "stdout",
     "output_type": "stream",
     "text": [
      "16\n",
      "50\n"
     ]
    }
   ],
   "source": [
    "#최대값 산출\n",
    "li = [5, 8, 1, -4, 16, 2, 9]\n",
    "# result = reduce(함수, iterable 객체)\n",
    "result = reduce(lambda a,b: a if a>b else b, li)\n",
    "print(result)\n",
    "# reduce default\n",
    "result1 = reduce(lambda a,b: a if a>b else b, li, 50)\n",
    "print(result1)"
   ]
  },
  {
   "cell_type": "code",
   "execution_count": null,
   "metadata": {
    "collapsed": true
   },
   "outputs": [],
   "source": []
  },
  {
   "cell_type": "code",
   "execution_count": 232,
   "metadata": {
    "collapsed": true
   },
   "outputs": [],
   "source": [
    "dic = {'a':1, 'b': 2, 'c': 3}\n",
    "dic['d'] = 4"
   ]
  },
  {
   "cell_type": "code",
   "execution_count": 233,
   "metadata": {
    "collapsed": false
   },
   "outputs": [
    {
     "data": {
      "text/plain": [
       "{'a': 1, 'b': 2, 'c': 3, 'd': 4}"
      ]
     },
     "execution_count": 233,
     "metadata": {},
     "output_type": "execute_result"
    }
   ],
   "source": [
    "dic"
   ]
  },
  {
   "cell_type": "code",
   "execution_count": 234,
   "metadata": {
    "collapsed": false
   },
   "outputs": [],
   "source": [
    "# dictionary update 함수\n",
    "dic.update({'d': 10, 'e': 5})"
   ]
  },
  {
   "cell_type": "code",
   "execution_count": 235,
   "metadata": {
    "collapsed": false
   },
   "outputs": [
    {
     "data": {
      "text/plain": [
       "{'a': 1, 'b': 2, 'c': 3, 'd': 10, 'e': 5}"
      ]
     },
     "execution_count": 235,
     "metadata": {},
     "output_type": "execute_result"
    }
   ],
   "source": [
    "dic"
   ]
  },
  {
   "cell_type": "code",
   "execution_count": 236,
   "metadata": {
    "collapsed": false
   },
   "outputs": [
    {
     "name": "stdout",
     "output_type": "stream",
     "text": [
      "1\n"
     ]
    },
    {
     "ename": "KeyError",
     "evalue": "'f'",
     "output_type": "error",
     "traceback": [
      "\u001b[0;31m---------------------------------------------------------------------------\u001b[0m",
      "\u001b[0;31mKeyError\u001b[0m                                  Traceback (most recent call last)",
      "\u001b[0;32m<ipython-input-236-9802be7848ee>\u001b[0m in \u001b[0;36m<module>\u001b[0;34m()\u001b[0m\n\u001b[1;32m      2\u001b[0m \u001b[0;31m#방법 1\u001b[0m\u001b[0;34m\u001b[0m\u001b[0;34m\u001b[0m\u001b[0m\n\u001b[1;32m      3\u001b[0m \u001b[0;32mprint\u001b[0m\u001b[0;34m(\u001b[0m\u001b[0mdic\u001b[0m\u001b[0;34m[\u001b[0m\u001b[0;34m'a'\u001b[0m\u001b[0;34m]\u001b[0m\u001b[0;34m)\u001b[0m\u001b[0;34m\u001b[0m\u001b[0m\n\u001b[0;32m----> 4\u001b[0;31m \u001b[0;32mprint\u001b[0m\u001b[0;34m(\u001b[0m\u001b[0mdic\u001b[0m\u001b[0;34m[\u001b[0m\u001b[0;34m'f'\u001b[0m\u001b[0;34m]\u001b[0m\u001b[0;34m)\u001b[0m\u001b[0;34m\u001b[0m\u001b[0m\n\u001b[0m",
      "\u001b[0;31mKeyError\u001b[0m: 'f'"
     ]
    }
   ],
   "source": [
    "# dictionary get 함수\n",
    "#방법 1\n",
    "print(dic['a'])\n",
    "print(dic['f'])"
   ]
  },
  {
   "cell_type": "code",
   "execution_count": 222,
   "metadata": {
    "collapsed": false
   },
   "outputs": [
    {
     "name": "stdout",
     "output_type": "stream",
     "text": [
      "{'a': 1, 'c': 3, 'b': 2, 'g': 50}\n",
      "1\n",
      "1\n",
      "1\n",
      "None\n",
      "20\n",
      "50\n"
     ]
    }
   ],
   "source": [
    "# 방법 2 using 'get', setdefault \n",
    "print(dic)\n",
    "print(dic.get('a'))\n",
    "print(dic.get('a', 10)) # a가 있다면 원래 값을 반환하고 없으면 10을 반환해\n",
    "print(dic.setdefault('a', 20)) #a가 있다면 원래 값을 반환하고 없으면 20을 반환해\n",
    "\n",
    "print(dic.get('f'))\n",
    "print(dic.get('f', 20)) # a가 있다면 원래 값을 반환하고 없으면 20을 반환해 (저장은 안함)\n",
    "\n",
    "print(dic.setdefault('g', 50)) # g가 있다면 그 값을 반환하고 없으면 50을 저장하고 반환해"
   ]
  },
  {
   "cell_type": "code",
   "execution_count": 164,
   "metadata": {
    "collapsed": false
   },
   "outputs": [
    {
     "data": {
      "text/plain": [
       "{'a': 1, 'b': 2, 'c': 3, 'd': 10, 'e': 5, 'g': 50}"
      ]
     },
     "execution_count": 164,
     "metadata": {},
     "output_type": "execute_result"
    }
   ],
   "source": [
    "dic"
   ]
  },
  {
   "cell_type": "code",
   "execution_count": 166,
   "metadata": {
    "collapsed": true
   },
   "outputs": [],
   "source": [
    "dic.update({'h': 20, 'i': 10})"
   ]
  },
  {
   "cell_type": "code",
   "execution_count": 167,
   "metadata": {
    "collapsed": false
   },
   "outputs": [
    {
     "data": {
      "text/plain": [
       "{'a': 1, 'b': 2, 'c': 3, 'd': 10, 'e': 5, 'g': 50, 'h': 20, 'i': 10}"
      ]
     },
     "execution_count": 167,
     "metadata": {},
     "output_type": "execute_result"
    }
   ],
   "source": [
    "dic"
   ]
  },
  {
   "cell_type": "code",
   "execution_count": null,
   "metadata": {
    "collapsed": true
   },
   "outputs": [],
   "source": []
  },
  {
   "cell_type": "markdown",
   "metadata": {},
   "source": [
    "### and, or\n",
    "\n",
    "파이썬에서 False로 취급하는거 (ex : [], {}, '', (), None)  \n",
    "[1,2] or []\n",
    "마지막에 참고한 list를 반환한다.  \n",
    "앞의 [1,2]를 확인 -> 참이다 -> 그럼 그 뒤는 확인도 안하고 바로 [1,2]에서 끝내버림"
   ]
  },
  {
   "cell_type": "code",
   "execution_count": 171,
   "metadata": {
    "collapsed": false
   },
   "outputs": [
    {
     "data": {
      "text/plain": [
       "[1, 2]"
      ]
     },
     "execution_count": 171,
     "metadata": {},
     "output_type": "execute_result"
    }
   ],
   "source": [
    "[1,2] or [] #true -> [1,2]"
   ]
  },
  {
   "cell_type": "code",
   "execution_count": 174,
   "metadata": {
    "collapsed": false
   },
   "outputs": [
    {
     "data": {
      "text/plain": [
       "[1, 2]"
      ]
     },
     "execution_count": 174,
     "metadata": {},
     "output_type": "execute_result"
    }
   ],
   "source": [
    "[] or [1,2] "
   ]
  },
  {
   "cell_type": "code",
   "execution_count": 176,
   "metadata": {
    "collapsed": false
   },
   "outputs": [
    {
     "data": {
      "text/plain": [
       "[]"
      ]
     },
     "execution_count": 176,
     "metadata": {},
     "output_type": "execute_result"
    }
   ],
   "source": [
    "[] and [1,2] # 앞의 []를 확인 후 거짓이니 뒤에거는 참조도 안함"
   ]
  },
  {
   "cell_type": "code",
   "execution_count": 172,
   "metadata": {
    "collapsed": false
   },
   "outputs": [
    {
     "data": {
      "text/plain": [
       "[1, 2]"
      ]
     },
     "execution_count": 172,
     "metadata": {},
     "output_type": "execute_result"
    }
   ],
   "source": [
    "[1,2] or [3,4] # [1,2]"
   ]
  },
  {
   "cell_type": "code",
   "execution_count": 177,
   "metadata": {
    "collapsed": false
   },
   "outputs": [
    {
     "data": {
      "text/plain": [
       "[3, 4]"
      ]
     },
     "execution_count": 177,
     "metadata": {},
     "output_type": "execute_result"
    }
   ],
   "source": [
    "[1,2] and [3,4] # [1,2]와 [3,4]는 둘다 참이니 마지막 참조한 [3,4]를 출력"
   ]
  },
  {
   "cell_type": "code",
   "execution_count": 207,
   "metadata": {
    "collapsed": false
   },
   "outputs": [],
   "source": [
    "# 함수 : 식, 반드시 뭔가를 리턴\n",
    "dic = {'a': 1, \"b\" : 2}"
   ]
  },
  {
   "cell_type": "code",
   "execution_count": 208,
   "metadata": {
    "collapsed": false
   },
   "outputs": [
    {
     "data": {
      "text/plain": [
       "{'a': 1, 'b': 2, 'c': 3}"
      ]
     },
     "execution_count": 208,
     "metadata": {},
     "output_type": "execute_result"
    }
   ],
   "source": [
    "# 원래 이렇게 출력한다\n",
    "dic.update({'c': 3})\n",
    "dic"
   ]
  },
  {
   "cell_type": "code",
   "execution_count": 205,
   "metadata": {
    "collapsed": false
   },
   "outputs": [
    {
     "data": {
      "text/plain": [
       "{'a': 1, 'b': 2, 'c': 3}"
      ]
     },
     "execution_count": 205,
     "metadata": {},
     "output_type": "execute_result"
    }
   ],
   "source": [
    "#lambda 에서 사용하기 위한 dic 출력법\n",
    "dic.update({'c':3}) or dic"
   ]
  },
  {
   "cell_type": "code",
   "execution_count": 198,
   "metadata": {
    "collapsed": false
   },
   "outputs": [
    {
     "name": "stdout",
     "output_type": "stream",
     "text": [
      "None\n"
     ]
    }
   ],
   "source": [
    "a = 10\n",
    "a = dic.update({'c': 3})\n",
    "print(a)"
   ]
  },
  {
   "cell_type": "code",
   "execution_count": 211,
   "metadata": {
    "collapsed": false
   },
   "outputs": [
    {
     "name": "stdout",
     "output_type": "stream",
     "text": [
      "10\n",
      "60\n"
     ]
    }
   ],
   "source": [
    "# 초기 값의 사용\n",
    "li = [1,2,3,4]\n",
    "res_ori = reduce(lambda a,b: a+b, li) \n",
    "print(res_ori)\n",
    "res_def = reduce(lambda a, b: a+b, li, 50)\n",
    "print(res_def)"
   ]
  },
  {
   "cell_type": "code",
   "execution_count": 220,
   "metadata": {
    "collapsed": false
   },
   "outputs": [
    {
     "data": {
      "text/plain": [
       "[1, 2, 3, 4]"
      ]
     },
     "execution_count": 220,
     "metadata": {},
     "output_type": "execute_result"
    }
   ],
   "source": [
    "from functools import reduce\n",
    "li = [1,2,3,4]\n",
    "res = reduce(lambda d, e: d.append(e) or d, li, [])\n",
    "res\n",
    "# li = [1,2,3,4] + []최"
   ]
  },
  {
   "cell_type": "code",
   "execution_count": 247,
   "metadata": {
    "collapsed": false
   },
   "outputs": [
    {
     "data": {
      "text/plain": [
       "{'a': 3, 'b': 2, 'c': 1}"
      ]
     },
     "execution_count": 247,
     "metadata": {},
     "output_type": "execute_result"
    }
   ],
   "source": [
    "# 예제\n",
    "li = ['a', 'b', 'c', 'a', 'b', 'a']\n",
    "#{'a' : 3, 'b' : 2, 'c' : 1}\n",
    "# res_dic = {'a':0, 'b': 0, 'c': 0}\n",
    "dic = reduce(lambda result, ch: result.update({ch : result.get(ch, 0)+1}) or result, li, {})\n",
    "dic"
   ]
  },
  {
   "cell_type": "code",
   "execution_count": 261,
   "metadata": {
    "collapsed": false
   },
   "outputs": [
    {
     "data": {
      "text/plain": [
       "{'a': 3, 'b': 2, 'c': 1}"
      ]
     },
     "execution_count": 261,
     "metadata": {},
     "output_type": "execute_result"
    }
   ],
   "source": [
    "#선생님\n",
    "li = ['a', 'b', 'c', 'a', 'b', 'a']\n",
    "res = reduce(lambda r, ch: r.update({ch : r.get(ch, 0)+1 }) or r, li, {})\n",
    "res"
   ]
  },
  {
   "cell_type": "code",
   "execution_count": 263,
   "metadata": {
    "collapsed": true
   },
   "outputs": [],
   "source": [
    "#일반함수\n",
    "li = ['a', 'b', 'c', 'a', 'b', 'a']\n",
    "\n",
    "def func(res, ch):\n",
    "    ret = {}\n",
    "    ret[ch] = res.get(ch, 0)+1 #초기값 0으로\n",
    "    res.update(ret)\n",
    "    return res"
   ]
  },
  {
   "cell_type": "code",
   "execution_count": 265,
   "metadata": {
    "collapsed": false
   },
   "outputs": [
    {
     "data": {
      "text/plain": [
       "{'a': 3, 'b': 2, 'c': 1}"
      ]
     },
     "execution_count": 265,
     "metadata": {},
     "output_type": "execute_result"
    }
   ],
   "source": [
    "li = ['a', 'b', 'c', 'a', 'b', 'a']\n",
    "res = reduce(func, li, {})\n",
    "res"
   ]
  },
  {
   "cell_type": "code",
   "execution_count": 276,
   "metadata": {
    "collapsed": false
   },
   "outputs": [
    {
     "name": "stdout",
     "output_type": "stream",
     "text": [
      "1\n",
      "2\n",
      "3\n",
      "{'a': 1, 'c': 3, 'b': 2, 'd': 4}\n"
     ]
    }
   ],
   "source": [
    "li = ['a', 'b', 'c', 'a', 'b', 'a']\n",
    "dic = {'a': 1, 'b': 2, 'c': 3}\n",
    "#get\n",
    "print(dic.get('a'))\n",
    "print(dic.get('b'))\n",
    "print(dic.get('c'))\n",
    "\n",
    "#update\n",
    "print(dic.update({'d':4}) or dic)\n",
    "\n",
    "#reduce default\n",
    "# print(reduce(lambda a,b: a.update(b) or a, li, {}))\n",
    "\n",
    "# li1 = [1,2,3,4]\n",
    "# res_ori = reduce(lambda a,b: a+b, li1) \n",
    "# print(res_ori)\n",
    "# res_def = reduce(lambda a, b: a+b, li1, 50)\n",
    "# print(res_def)\n"
   ]
  },
  {
   "cell_type": "code",
   "execution_count": null,
   "metadata": {
    "collapsed": true
   },
   "outputs": [],
   "source": []
  },
  {
   "cell_type": "markdown",
   "metadata": {},
   "source": [
    "### [Decorator](https://github.com/ythwork/CSS_3rd/blob/master/functions/decorator.md)"
   ]
  },
  {
   "cell_type": "code",
   "execution_count": 290,
   "metadata": {
    "collapsed": true
   },
   "outputs": [],
   "source": [
    "# 최초 func은 a+b를 더해준다\n",
    "def func(a,b):\n",
    "    return a+b"
   ]
  },
  {
   "cell_type": "code",
   "execution_count": 291,
   "metadata": {
    "collapsed": false
   },
   "outputs": [
    {
     "data": {
      "text/plain": [
       "7"
      ]
     },
     "execution_count": 291,
     "metadata": {},
     "output_type": "execute_result"
    }
   ],
   "source": [
    "func(2,5)"
   ]
  },
  {
   "cell_type": "code",
   "execution_count": 292,
   "metadata": {
    "collapsed": true
   },
   "outputs": [],
   "source": [
    "#그러나 여기서는 a와 b를 곱해주는 func로 바뀐다.\n",
    "def func(a,b):\n",
    "    return a*b"
   ]
  },
  {
   "cell_type": "code",
   "execution_count": 293,
   "metadata": {
    "collapsed": false
   },
   "outputs": [
    {
     "data": {
      "text/plain": [
       "10"
      ]
     },
     "execution_count": 293,
     "metadata": {},
     "output_type": "execute_result"
    }
   ],
   "source": [
    "func(2,5)"
   ]
  },
  {
   "cell_type": "code",
   "execution_count": 310,
   "metadata": {
    "collapsed": false
   },
   "outputs": [
    {
     "name": "stdout",
     "output_type": "stream",
     "text": [
      "Things\n"
     ]
    },
    {
     "data": {
      "text/plain": [
       "8"
      ]
     },
     "execution_count": 310,
     "metadata": {},
     "output_type": "execute_result"
    }
   ],
   "source": [
    "def outer(org_func):\n",
    "    def inner(*args, **kwargs):\n",
    "        print(\"Things\")\n",
    "        return org_func(*args, **kwargs)\n",
    "    return inner\n",
    "\n",
    "@outer #adder = outer(adder) # Things 출력\n",
    "def adder(a,b):\n",
    "    return a+b\n",
    "\n",
    "\n",
    "c = adder(5,3)\n",
    "c"
   ]
  },
  {
   "cell_type": "code",
   "execution_count": 311,
   "metadata": {
    "collapsed": false
   },
   "outputs": [
    {
     "name": "stdout",
     "output_type": "stream",
     "text": [
      "Things\n"
     ]
    },
    {
     "data": {
      "text/plain": [
       "8"
      ]
     },
     "execution_count": 311,
     "metadata": {},
     "output_type": "execute_result"
    }
   ],
   "source": [
    "def outer(org_func):\n",
    "    def inner(*args, **kwargs):\n",
    "        print(\"Things\")\n",
    "        return org_func(*args, **kwargs)\n",
    "    return inner\n",
    "\n",
    "\n",
    "def adder(a,b):\n",
    "    return a+b\n",
    "\n",
    "adder = outer(adder) # Things 출력\n",
    "\n",
    "c = adder(5,3)\n",
    "c"
   ]
  },
  {
   "cell_type": "code",
   "execution_count": null,
   "metadata": {
    "collapsed": true
   },
   "outputs": [],
   "source": []
  },
  {
   "cell_type": "code",
   "execution_count": 303,
   "metadata": {
    "collapsed": false
   },
   "outputs": [
    {
     "ename": "SyntaxError",
     "evalue": "invalid syntax (<ipython-input-303-c369ee2e7811>, line 5)",
     "output_type": "error",
     "traceback": [
      "\u001b[0;36m  File \u001b[0;32m\"<ipython-input-303-c369ee2e7811>\"\u001b[0;36m, line \u001b[0;32m5\u001b[0m\n\u001b[0;31m    nonlocal cnt\u001b[0m\n\u001b[0m               ^\u001b[0m\n\u001b[0;31mSyntaxError\u001b[0m\u001b[0;31m:\u001b[0m invalid syntax\n"
     ]
    }
   ],
   "source": [
    "def call_count(func):\n",
    "    cnt = 0\n",
    "\n",
    "    def inner(*args, **kwargs):\n",
    "        nonlocal cnt\n",
    "        cnt += 1\n",
    "        print(\"call number : {}\".format(cnt))\n",
    "        return func(*args, **kwargs)\n",
    "    return inner\n",
    "\n",
    "\n",
    "@call_count\n",
    "def adder(a, b):\n",
    "    return a + b\n",
    "\n",
    "\n",
    "\n",
    "if __name__ == \"__main__\":\n",
    "    for i in range(1, 11):\n",
    "        a = i + 1\n",
    "        b = i + 2\n",
    "        print(adder(a, b))"
   ]
  },
  {
   "cell_type": "code",
   "execution_count": 309,
   "metadata": {
    "collapsed": false
   },
   "outputs": [
    {
     "name": "stdout",
     "output_type": "stream",
     "text": [
      "elapsed time : 3.00471305847 sec\n"
     ]
    },
    {
     "data": {
      "text/plain": [
       "9"
      ]
     },
     "execution_count": 309,
     "metadata": {},
     "output_type": "execute_result"
    }
   ],
   "source": [
    "import time\n",
    "'''\n",
    "a = time.time() # start time\n",
    "# things\n",
    "elapsed = time.time() - a # end time\n",
    "'''\n",
    "def timer(func):\n",
    "    def inner(*args, **kwargs):\n",
    "        start = time.time()\n",
    "        ret = func(*args, **kwargs)\n",
    "        elapsed = time.time()-start\n",
    "        print(\"elapsed time : {} sec\".format(elapsed))\n",
    "        return ret\n",
    "    return inner\n",
    "\n",
    "@timer\n",
    "def adder(a,b):\n",
    "    time.sleep(3)\n",
    "    return a + b\n",
    "\n",
    "adder(4,5)"
   ]
  },
  {
   "cell_type": "code",
   "execution_count": 317,
   "metadata": {
    "collapsed": false
   },
   "outputs": [
    {
     "name": "stdout",
     "output_type": "stream",
     "text": [
      "2.005\n"
     ]
    }
   ],
   "source": [
    "import time\n",
    "\n",
    "start = time.time()\n",
    "time.sleep(2)\n",
    "elapsed = time.time() - start\n",
    "\n",
    "print(round(elapsed, 3)) # elapsed의 값을 소수점 3자리까지만 출력"
   ]
  },
  {
   "cell_type": "code",
   "execution_count": 318,
   "metadata": {
    "collapsed": false
   },
   "outputs": [
    {
     "data": {
      "text/plain": [
       "1501576147.931181"
      ]
     },
     "execution_count": 318,
     "metadata": {},
     "output_type": "execute_result"
    }
   ],
   "source": [
    "time.time()"
   ]
  },
  {
   "cell_type": "code",
   "execution_count": 323,
   "metadata": {
    "collapsed": false
   },
   "outputs": [
    {
     "name": "stdout",
     "output_type": "stream",
     "text": [
      "elapsed time : 0.0 sec\n"
     ]
    },
    {
     "data": {
      "text/plain": [
       "6"
      ]
     },
     "execution_count": 323,
     "metadata": {},
     "output_type": "execute_result"
    }
   ],
   "source": [
    "import time\n",
    "def timer(func):\n",
    "    def inner(*args, **kwargs):\n",
    "        start = time.time()\n",
    "        elapsed = time.time()-start\n",
    "        print('elapsed time : {} sec'.format(round(elapsed, 1)))\n",
    "        return func(*args, **kwargs)\n",
    "    return inner\n",
    "\n",
    "@timer\n",
    "def mul(a,b):\n",
    "    time.sleep(3)\n",
    "    return a*b\n",
    "\n",
    "mul(3,2)"
   ]
  },
  {
   "cell_type": "code",
   "execution_count": 325,
   "metadata": {
    "collapsed": false
   },
   "outputs": [
    {
     "name": "stdout",
     "output_type": "stream",
     "text": [
      "elapsed time : 3.0 sec\n"
     ]
    },
    {
     "data": {
      "text/plain": [
       "20"
      ]
     },
     "execution_count": 325,
     "metadata": {},
     "output_type": "execute_result"
    }
   ],
   "source": [
    "import time\n",
    "def timer(func):\n",
    "    def inner(*args, **kwargs):\n",
    "        start = time.time()\n",
    "        ret = func(*args, **kwargs)\n",
    "        elapsed = time.time()-start\n",
    "        print('elapsed time : {} sec'.format(round(elapsed, 1)))\n",
    "        return ret\n",
    "    return inner\n",
    "\n",
    "\n",
    "# @call_count\n",
    "@timer #mul = timer(mul)\n",
    "def mul(a,b):\n",
    "    time.sleep(3)\n",
    "    return a*b\n",
    "\n",
    "mul(5,4)\n",
    "\n",
    "# call number : 1\n",
    "\n",
    "\n",
    "\n",
    "# elapsed time : 3.0 sec"
   ]
  },
  {
   "cell_type": "code",
   "execution_count": 328,
   "metadata": {
    "collapsed": false
   },
   "outputs": [
    {
     "ename": "SyntaxError",
     "evalue": "invalid syntax (<ipython-input-328-087be1b0b69f>, line 6)",
     "output_type": "error",
     "traceback": [
      "\u001b[0;36m  File \u001b[0;32m\"<ipython-input-328-087be1b0b69f>\"\u001b[0;36m, line \u001b[0;32m6\u001b[0m\n\u001b[0;31m    nonlocal cnt\u001b[0m\n\u001b[0m               ^\u001b[0m\n\u001b[0;31mSyntaxError\u001b[0m\u001b[0;31m:\u001b[0m invalid syntax\n"
     ]
    }
   ],
   "source": [
    "def call_count(func):\n",
    "    cnt = 0\n",
    "\n",
    "    def inner_count(*args, **kwargs):\n",
    "        print(func.__name__) #function name\n",
    "        nonlocal cnt\n",
    "        cnt += 1\n",
    "        print(\"call number : {}\".format(cnt))\n",
    "        return func(*args, **kwargs)\n",
    "    return inner_count\n",
    "\n",
    "\n",
    "import time\n",
    "\n",
    "def timer(func):\n",
    "    def inner_timer(*args, **kwargs):\n",
    "        print(func.__name__) #function name\n",
    "        start = time.time()\n",
    "        ret = func(*args, **kwargs)\n",
    "        elapsed = time.time()-start\n",
    "        print('elapsed time : {} sec'.format(round(elapsed, 1)))\n",
    "        return ret\n",
    "    return inner_timer\n",
    "\n",
    "\n",
    "@call_count\n",
    "@timer #mul = timer(mul)\n",
    "def greg(a,b):\n",
    "    time.sleep(3)\n",
    "    return a*b\n",
    "\n",
    "greg(5,4)\n",
    "\n",
    "# inner_timer\n",
    "# call number : 1\n",
    "# greg\n",
    "# elapsed time : 3.0 sec"
   ]
  },
  {
   "cell_type": "code",
   "execution_count": 327,
   "metadata": {
    "collapsed": false
   },
   "outputs": [
    {
     "ename": "SyntaxError",
     "evalue": "invalid syntax (<ipython-input-327-b9b88d4f1535>, line 8)",
     "output_type": "error",
     "traceback": [
      "\u001b[0;36m  File \u001b[0;32m\"<ipython-input-327-b9b88d4f1535>\"\u001b[0;36m, line \u001b[0;32m8\u001b[0m\n\u001b[0;31m    nonlocal cnt\u001b[0m\n\u001b[0m               ^\u001b[0m\n\u001b[0;31mSyntaxError\u001b[0m\u001b[0;31m:\u001b[0m invalid syntax\n"
     ]
    }
   ],
   "source": [
    "from functools import wraps\n",
    "\n",
    "def call_count(func):\n",
    "    cnt = 0\n",
    "    @wraps(func)\n",
    "    def inner_count(*args, **kwargs):\n",
    "        print(func.__name__) #function name\n",
    "        nonlocal cnt\n",
    "        cnt += 1\n",
    "        print(\"call number : {}\".format(cnt))\n",
    "        return func(*args, **kwargs)\n",
    "    return inner_count\n",
    "\n",
    "\n",
    "import time\n",
    "\n",
    "def timer(func):\n",
    "    @wraps(func)\n",
    "    def inner_timer(*args, **kwargs):\n",
    "        print(func.__name__) #function name\n",
    "        start = time.time()\n",
    "        ret = func(*args, **kwargs)\n",
    "        elapsed = time.time()-start\n",
    "        print('elapsed time : {} sec'.format(round(elapsed, 1)))\n",
    "        return ret\n",
    "    return inner_timer\n",
    "\n",
    "\n",
    "@call_count\n",
    "@timer #mul = timer(mul)\n",
    "def greg(a,b):\n",
    "    time.sleep(3)\n",
    "    return a*b\n",
    "\n",
    "greg(5,4)\n",
    "\n",
    "# greg\n",
    "# call number : 1\n",
    "# greg\n",
    "# elapsed time : 3.0 sec"
   ]
  },
  {
   "cell_type": "markdown",
   "metadata": {
    "collapsed": true
   },
   "source": [
    "# Day 7 (2017/08/03 Thurs)\n",
    "\n",
    "### learning objectives\n",
    "\n",
    "\n",
    "\n",
    "## [Function](https://github.com/ythwork/CSS_3rd/blob/master/functions/call_by_what.pdf)\n",
    "    * stack frame\n",
    "    * call by value\n",
    "    * call by reference\n",
    "    * call by object reference (call by assignment)\n",
    "\n",
    "## [Number](https://github.com/ythwork/CSS_3rd/blob/master/numbers/numbers.md)\n",
    "* decimal (10), binary (2), hexdecimal(16)\n",
    "* floating point number (부동소수점)\n",
    "    * float\n",
    "    * double\n",
    "    * precision\n",
    "    \n",
    "    \n",
    "* endian\n",
    "    * little endian\n",
    "    * big endian"
   ]
  },
  {
   "cell_type": "markdown",
   "metadata": {},
   "source": [
    "## stack frame\n",
    "\n",
    "### [test_frame](https://github.com/ythwork/CSS_3rd/blob/master/functions/frame/test_frame.cpp)"
   ]
  },
  {
   "cell_type": "markdown",
   "metadata": {},
   "source": [
    "```cpp\n",
    "#include <iostream>\n",
    "using namespace std;\n",
    "\n",
    "int test(int a, int b);\n",
    "\n",
    "int main(void)\n",
    "{\n",
    "\tint a = 10;\n",
    "\tint b = 5;\n",
    "\tint res = test(a, b);\n",
    "\tcout << \"result of test : \" << res << endl;\n",
    "\n",
    "\treturn 0;\n",
    "}\n",
    "\n",
    "int test(int a, int b)\n",
    "{\n",
    "\tint c = a + b;\n",
    "\tint d = a - b;\n",
    "\treturn c + d;\n",
    "}\n",
    "```"
   ]
  },
  {
   "cell_type": "code",
   "execution_count": 5,
   "metadata": {
    "collapsed": false
   },
   "outputs": [
    {
     "ename": "SyntaxError",
     "evalue": "invalid syntax (<ipython-input-5-dd43deebd54d>, line 12)",
     "output_type": "error",
     "traceback": [
      "\u001b[0;36m  File \u001b[0;32m\"<ipython-input-5-dd43deebd54d>\"\u001b[0;36m, line \u001b[0;32m12\u001b[0m\n\u001b[0;31m    int test(int a, int b);\u001b[0m\n\u001b[0m           ^\u001b[0m\n\u001b[0;31mSyntaxError\u001b[0m\u001b[0;31m:\u001b[0m invalid syntax\n"
     ]
    }
   ],
   "source": [
    "# 함수내에 정의된 변수가 차곡차곡 => stack frame\n",
    "# 함수가 실행되면 stack frame에 차곡차곡 쌓인다. \n",
    "# 이렇게 동작되는 것을 call_by_value (인자전달 방식) 라고 한다. \n",
    "\n",
    "# blocking : res에서 test 연산을 기다리는동안 main함수는 blocking 되어있는다. \n",
    "\n",
    "# * symtable 이란? \n",
    "# : 프로그램을 돌리기 전에 미리 필요한 frame을 만들어야하는지를 판단해주기 위한 테이블\n",
    "# : frame을 잡기 전에 변수 등이 무엇인지 계산해준다. \n",
    "\n",
    "# Cpp로 함\n",
    "int test(int a, int b);\n",
    "\n",
    "int main(void)\n",
    "{\n",
    "    int a = 10;\n",
    "    int b = 5;\n",
    "    int res = test(a,b)\n",
    "    cout << \"result of test : \" << res << endl;\n",
    "\n",
    "    return 0;\n",
    "}\n",
    "\n",
    "\n",
    "int test(int a, int b)\n",
    "{\n",
    "    int c = a + b;\n",
    "    int d = a - b;\n",
    "    return c + d;\n",
    "}"
   ]
  },
  {
   "cell_type": "markdown",
   "metadata": {},
   "source": [
    "## [Call by Value (인자전달방식)](https://github.com/ythwork/CSS_3rd/blob/master/functions/frame/call_by_value.cpp)"
   ]
  },
  {
   "cell_type": "markdown",
   "metadata": {},
   "source": [
    "```Cpp\n",
    "#include <iostream>\n",
    "using namespace std;\n",
    "\n",
    "void change_value(int x, int value)\n",
    "{\n",
    "\tx = value;\n",
    "\tcout << \"x : \" << x <<\" in change_value\" << endl;\n",
    "}\n",
    "\n",
    "int main(void)\n",
    "{\n",
    "\tint x = 10;\n",
    "\tchange_value(x, 20);\n",
    "\tcout << \"x : \" << x << \" in main\" << endl;\n",
    "\n",
    "\treturn 0;\n",
    "}\n",
    "```"
   ]
  },
  {
   "cell_type": "code",
   "execution_count": 7,
   "metadata": {
    "collapsed": true
   },
   "outputs": [],
   "source": [
    "# call by value에서는 값을 복사한다. \n",
    "# 메모리 공간이 다르다. \n",
    "\n",
    "# 절차 상세 설명\n",
    "# 1. 메인함수 frame 생성 \n",
    "# | x= 10 |\n",
    "# 2. "
   ]
  },
  {
   "cell_type": "code",
   "execution_count": null,
   "metadata": {
    "collapsed": true
   },
   "outputs": [],
   "source": []
  },
  {
   "cell_type": "markdown",
   "metadata": {},
   "source": [
    "## [Call by Reference(주소전달방식)](https://github.com/ythwork/CSS_3rd/blob/master/functions/frame/call_by_ref.cpp)\n",
    "\n",
    "참조를 할 수 있는 주소를 전달한다.  \n",
    "&x 는 주소값을 담고 *x를 통해 그 주소로 접근이 가능하다. "
   ]
  },
  {
   "cell_type": "markdown",
   "metadata": {},
   "source": [
    "```cpp\n",
    "#include <iostream>\n",
    "using namespace std;\n",
    "\n",
    "void change_value(int * x_ptr, int value)\n",
    "{\n",
    "\t* x_ptr = value;\n",
    "\tcout << \"x : \" << *x << \" in change_value\" << endl;\n",
    "}\n",
    "\n",
    "int main(void)\n",
    "{\n",
    "\tint x = 10;\n",
    "\tchange_value(&x, 20);\n",
    "\tcout << \"x : \" << x << \" in main\" << endl;\n",
    "\n",
    "\treturn 0;\n",
    "}\n",
    "```"
   ]
  },
  {
   "cell_type": "markdown",
   "metadata": {},
   "source": [
    "## python 으로 해보는 call_by object reference\n",
    "## call_by assignment"
   ]
  },
  {
   "cell_type": "code",
   "execution_count": 40,
   "metadata": {
    "collapsed": false
   },
   "outputs": [
    {
     "name": "stdout",
     "output_type": "stream",
     "text": [
      "x : 20 in change_value\n",
      "x : 10 in main\n"
     ]
    }
   ],
   "source": [
    "def change_value(x, value):\n",
    "    x = value\n",
    "    print(\"x : {} in change_value\".format(x))\n",
    "    \n",
    "    \n",
    "# call by value\n",
    "x = 10\n",
    "change_value(x, 20)\n",
    "print(\"x : {} in main\".format(x))"
   ]
  },
  {
   "cell_type": "code",
   "execution_count": 12,
   "metadata": {
    "collapsed": true
   },
   "outputs": [],
   "source": [
    "# python은 call by value 구나 라고 확정을 내림"
   ]
  },
  {
   "cell_type": "code",
   "execution_count": 56,
   "metadata": {
    "collapsed": false
   },
   "outputs": [
    {
     "name": "stdout",
     "output_type": "stream",
     "text": [
      "('before main li: ', [1, 2, 3, 4])\n",
      "('before c_v li : ', [1, 2, 3, 4])\n",
      "('after c_v li : ', ['I am your father!', 2, 3, 4])\n",
      "('after main li: ', ['I am your father!', 2, 3, 4])\n"
     ]
    }
   ],
   "source": [
    "#call by value겠구나 그러면 이것도 안바뀌어야겠지 하면서 실행\n",
    "# call by value면 before main과 after main이 바뀌면 안되는데 여기서는 바뀌네?\n",
    "# mutable -> list's index value\n",
    "def change_value(li, idx, value):\n",
    "    print(\"before c_v li : \", li)\n",
    "    li[idx] = value\n",
    "    print(\"after c_v li : \", li)\n",
    "    \n",
    "li = [1,2,3,4]\n",
    "print(\"before main li: \", li)\n",
    "change_value(li, 0, \"I am your father!\")\n",
    "print(\"after main li: \", li) \n",
    "#before and after main이 바뀌었다. "
   ]
  },
  {
   "cell_type": "code",
   "execution_count": 14,
   "metadata": {
    "collapsed": true
   },
   "outputs": [],
   "source": [
    "# 어라? 바뀌네???? 뭐지????\n",
    "# 결론 : neither call_by_value nor call_by_reference"
   ]
  },
  {
   "cell_type": "code",
   "execution_count": 57,
   "metadata": {
    "collapsed": false
   },
   "outputs": [
    {
     "name": "stdout",
     "output_type": "stream",
     "text": [
      "('before main li: ', [1, 2, 3, 4])\n",
      "('before c_v li : ', [1, 2, 3, 4])\n",
      "('after c_v li : ', ['I am your father!', 2, 3, 4])\n",
      "('after main li: ', ['I am your father!', 2, 3, 4])\n"
     ]
    }
   ],
   "source": [
    "# mutable은 다 변경이 되는거구나???\n",
    "# list 통째로 변경하는것은 안된다. 주소값을 아예 다른 것으로 바꿈 \n",
    "def change_value(li, idx, value):\n",
    "    print(\"before c_v li : \", li)\n",
    "    li[idx] = value\n",
    "    print(\"after c_v li : \", li)\n",
    "    \n",
    "li = [1,2,3,4]\n",
    "print(\"before main li: \", li)\n",
    "change_value(li, 0, \"I am your father!\")\n",
    "print(\"after main li: \", li) \n",
    "#before and after main이 바뀌었다. "
   ]
  },
  {
   "cell_type": "code",
   "execution_count": 58,
   "metadata": {
    "collapsed": false
   },
   "outputs": [
    {
     "name": "stdout",
     "output_type": "stream",
     "text": [
      "('before main li: ', [1, 2, 3, 4])\n",
      "('before c_v li : ', [1, 2, 3, 4])\n",
      "('after c_v li : ', ['I am your father!', 2, 3, 4])\n",
      "('after main li: ', [1, 2, 3, 4])\n"
     ]
    }
   ],
   "source": [
    "# 새로운 메모리 공간에 할당하기 (mutable)\n",
    "def change_value(li):\n",
    "    print(\"before c_v li : \", li)\n",
    "    li = ['I am your father!', 2, 3, 4]\n",
    "    print(\"after c_v li : \", li)\n",
    "    \n",
    "li = [1,2,3,4]\n",
    "print(\"before main li: \", li)\n",
    "change_value(li)\n",
    "print(\"after main li: \", li)\n",
    "#before and after main이 바뀌지 않았다. \n",
    "# 리스트 통째로 들어오면 하나의 요소가 아니기 때문에 아예 메모리 주소를 새로 잡는다\n",
    "# 그래서 c_v 함수가 끝나고 나오면 다른 주소를 잡고 있기 때문에 main이 바뀌지 않는다. "
   ]
  },
  {
   "cell_type": "code",
   "execution_count": 61,
   "metadata": {
    "collapsed": false
   },
   "outputs": [
    {
     "name": "stdout",
     "output_type": "stream",
     "text": [
      "('before main s : ', 'zzzzz')\n",
      "('before c_v s : ', 'zzzzz')\n",
      "('after c_v s : ', 'adcde')\n",
      "('after main s : ', 'zzzzz')\n"
     ]
    }
   ],
   "source": [
    "# inmmutable  -> string -> 변하지 않는다. (주소를 새로 잡는다.)\n",
    "def change_val(s):\n",
    "    print(\"before c_v s : \", s)\n",
    "    s = 'adcde'\n",
    "#     s[0] = 'z'\n",
    "    print(\"after c_v s : \", s)\n",
    "\n",
    "s = 'zzzzz'\n",
    "print(\"before main s : \", s)\n",
    "change_val(s)\n",
    "print(\"after main s : \", s)"
   ]
  },
  {
   "cell_type": "code",
   "execution_count": 63,
   "metadata": {
    "collapsed": false
   },
   "outputs": [
    {
     "name": "stdout",
     "output_type": "stream",
     "text": [
      "('before main s : ', 'zzzzz')\n",
      "('before c_v s : ', 'zzzzz')\n"
     ]
    },
    {
     "ename": "TypeError",
     "evalue": "'str' object does not support item assignment",
     "output_type": "error",
     "traceback": [
      "\u001b[0;31m---------------------------------------------------------------------------\u001b[0m",
      "\u001b[0;31mTypeError\u001b[0m                                 Traceback (most recent call last)",
      "\u001b[0;32m<ipython-input-63-a063ec229d2d>\u001b[0m in \u001b[0;36m<module>\u001b[0;34m()\u001b[0m\n\u001b[1;32m      7\u001b[0m \u001b[0ms\u001b[0m \u001b[0;34m=\u001b[0m \u001b[0;34m'zzzzz'\u001b[0m\u001b[0;34m\u001b[0m\u001b[0m\n\u001b[1;32m      8\u001b[0m \u001b[0;32mprint\u001b[0m\u001b[0;34m(\u001b[0m\u001b[0;34m\"before main s : \"\u001b[0m\u001b[0;34m,\u001b[0m \u001b[0ms\u001b[0m\u001b[0;34m)\u001b[0m\u001b[0;34m\u001b[0m\u001b[0m\n\u001b[0;32m----> 9\u001b[0;31m \u001b[0mchange_val\u001b[0m\u001b[0;34m(\u001b[0m\u001b[0ms\u001b[0m\u001b[0;34m)\u001b[0m\u001b[0;34m\u001b[0m\u001b[0m\n\u001b[0m\u001b[1;32m     10\u001b[0m \u001b[0;32mprint\u001b[0m\u001b[0;34m(\u001b[0m\u001b[0;34m\"after main s : \"\u001b[0m\u001b[0;34m,\u001b[0m \u001b[0ms\u001b[0m\u001b[0;34m)\u001b[0m\u001b[0;34m\u001b[0m\u001b[0m\n\u001b[1;32m     11\u001b[0m \u001b[0;34m\u001b[0m\u001b[0m\n",
      "\u001b[0;32m<ipython-input-63-a063ec229d2d>\u001b[0m in \u001b[0;36mchange_val\u001b[0;34m(s)\u001b[0m\n\u001b[1;32m      2\u001b[0m \u001b[0;32mdef\u001b[0m \u001b[0mchange_val\u001b[0m\u001b[0;34m(\u001b[0m\u001b[0ms\u001b[0m\u001b[0;34m)\u001b[0m\u001b[0;34m:\u001b[0m\u001b[0;34m\u001b[0m\u001b[0m\n\u001b[1;32m      3\u001b[0m     \u001b[0;32mprint\u001b[0m\u001b[0;34m(\u001b[0m\u001b[0;34m\"before c_v s : \"\u001b[0m\u001b[0;34m,\u001b[0m \u001b[0ms\u001b[0m\u001b[0;34m)\u001b[0m\u001b[0;34m\u001b[0m\u001b[0m\n\u001b[0;32m----> 4\u001b[0;31m     \u001b[0ms\u001b[0m\u001b[0;34m[\u001b[0m\u001b[0;36m0\u001b[0m\u001b[0;34m]\u001b[0m \u001b[0;34m=\u001b[0m \u001b[0;34m'a'\u001b[0m\u001b[0;34m\u001b[0m\u001b[0m\n\u001b[0m\u001b[1;32m      5\u001b[0m     \u001b[0;32mprint\u001b[0m\u001b[0;34m(\u001b[0m\u001b[0;34m\"after c_v s : \"\u001b[0m\u001b[0;34m,\u001b[0m \u001b[0ms\u001b[0m\u001b[0;34m)\u001b[0m\u001b[0;34m\u001b[0m\u001b[0m\n\u001b[1;32m      6\u001b[0m \u001b[0;34m\u001b[0m\u001b[0m\n",
      "\u001b[0;31mTypeError\u001b[0m: 'str' object does not support item assignment"
     ]
    }
   ],
   "source": [
    "# inmmutable  -> string -> 변하지 않는다. (주소를 새로 잡는다.)\n",
    "def change_val(s):\n",
    "    print(\"before c_v s : \", s)\n",
    "    s[0] = 'a'\n",
    "    print(\"after c_v s : \", s)\n",
    "\n",
    "s = 'zzzzz'\n",
    "print(\"before main s : \", s)\n",
    "change_val(s)\n",
    "print(\"after main s : \", s)\n",
    "\n",
    "# string 은 각 요소에 바로 접근해서 수정을 할수가 없기 때문에\n",
    "# \"TypeError: 'str' object does not support item assignment\"\n",
    "# 와 같은 에러 메시지가 나온다. "
   ]
  },
  {
   "cell_type": "markdown",
   "metadata": {},
   "source": [
    "## Reference count\n",
    "\n",
    "### garbage collection\n",
    ": reference count 를 통해서 사용하지 않을 때 마다 count를 줄여주면서 사용하지 않을 때는 삭제해준다.  \n",
    ": memory leak을 방지해준다.\n",
    "\n"
   ]
  },
  {
   "cell_type": "code",
   "execution_count": 20,
   "metadata": {
    "collapsed": true
   },
   "outputs": [],
   "source": [
    "import sys"
   ]
  },
  {
   "cell_type": "code",
   "execution_count": 21,
   "metadata": {
    "collapsed": true
   },
   "outputs": [],
   "source": [
    "s = \" i am your father!\""
   ]
  },
  {
   "cell_type": "code",
   "execution_count": 24,
   "metadata": {
    "collapsed": false
   },
   "outputs": [
    {
     "data": {
      "text/plain": [
       "2"
      ]
     },
     "execution_count": 24,
     "metadata": {},
     "output_type": "execute_result"
    }
   ],
   "source": [
    "sys.getrefcount(s) \n",
    "# 왜 2가 나오나면 s가 i am your father 참조,  (count + 1)\n",
    "# getrefcount에서 s를 참조한다.  ( count + 1) => 총 count +2"
   ]
  },
  {
   "cell_type": "code",
   "execution_count": 25,
   "metadata": {
    "collapsed": true
   },
   "outputs": [],
   "source": [
    "b = s"
   ]
  },
  {
   "cell_type": "code",
   "execution_count": 26,
   "metadata": {
    "collapsed": false
   },
   "outputs": [
    {
     "data": {
      "text/plain": [
       "3"
      ]
     },
     "execution_count": 26,
     "metadata": {},
     "output_type": "execute_result"
    }
   ],
   "source": [
    "sys.getrefcount(s)"
   ]
  },
  {
   "cell_type": "code",
   "execution_count": 27,
   "metadata": {
    "collapsed": true
   },
   "outputs": [],
   "source": [
    "del b"
   ]
  },
  {
   "cell_type": "code",
   "execution_count": 28,
   "metadata": {
    "collapsed": false
   },
   "outputs": [
    {
     "data": {
      "text/plain": [
       "2"
      ]
     },
     "execution_count": 28,
     "metadata": {},
     "output_type": "execute_result"
    }
   ],
   "source": [
    "sys.getrefcount(s)"
   ]
  },
  {
   "cell_type": "code",
   "execution_count": null,
   "metadata": {
    "collapsed": true
   },
   "outputs": [],
   "source": []
  },
  {
   "cell_type": "code",
   "execution_count": 36,
   "metadata": {
    "collapsed": true
   },
   "outputs": [],
   "source": [
    "# object pool : 자주 쓰는 객체를 미리 만들어 놓고 접근한다. \n",
    "a = 1"
   ]
  },
  {
   "cell_type": "code",
   "execution_count": 35,
   "metadata": {
    "collapsed": false
   },
   "outputs": [
    {
     "data": {
      "text/plain": [
       "2357"
      ]
     },
     "execution_count": 35,
     "metadata": {},
     "output_type": "execute_result"
    }
   ],
   "source": [
    "sys.getrefcount(a)"
   ]
  },
  {
   "cell_type": "code",
   "execution_count": 39,
   "metadata": {
    "collapsed": true
   },
   "outputs": [],
   "source": [
    "a = 1024 #큰 수는 만들어놓지 않는다. "
   ]
  },
  {
   "cell_type": "code",
   "execution_count": 38,
   "metadata": {
    "collapsed": false
   },
   "outputs": [
    {
     "data": {
      "text/plain": [
       "2"
      ]
     },
     "execution_count": 38,
     "metadata": {},
     "output_type": "execute_result"
    }
   ],
   "source": [
    "sys.getrefcount(a)"
   ]
  },
  {
   "cell_type": "code",
   "execution_count": null,
   "metadata": {
    "collapsed": true
   },
   "outputs": [],
   "source": []
  },
  {
   "cell_type": "code",
   "execution_count": 41,
   "metadata": {
    "collapsed": true
   },
   "outputs": [],
   "source": [
    "# python call by assignment 수업 시간 복습용 예제"
   ]
  },
  {
   "cell_type": "code",
   "execution_count": 44,
   "metadata": {
    "collapsed": false
   },
   "outputs": [
    {
     "name": "stdout",
     "output_type": "stream",
     "text": [
      "[1, 2, 3, 4]\n",
      "[10, 2, 3, 4]\n"
     ]
    }
   ],
   "source": [
    "# mutable\n",
    "def func(li):\n",
    "    print(li)\n",
    "    li[0] = 10\n",
    "\n",
    "    \n",
    "li = [1,2,3,4]\n",
    "func(li)\n",
    "print(li)"
   ]
  },
  {
   "cell_type": "code",
   "execution_count": 51,
   "metadata": {
    "collapsed": false
   },
   "outputs": [
    {
     "name": "stdout",
     "output_type": "stream",
     "text": [
      "[10, 2, 3, 4]\n",
      "[1, 2, 3, 4]\n"
     ]
    }
   ],
   "source": [
    "# 새로운 공간을 만든다\n",
    "\n",
    "def func(li):\n",
    "    li = [10,2,3,4]\n",
    "    print(li)\n",
    "    \n",
    "li = [1,2,3,4]\n",
    "func(li)\n",
    "print(li)"
   ]
  },
  {
   "cell_type": "code",
   "execution_count": 52,
   "metadata": {
    "collapsed": false
   },
   "outputs": [
    {
     "name": "stdout",
     "output_type": "stream",
     "text": [
      "20\n",
      "10\n"
     ]
    }
   ],
   "source": [
    "# immutable\n",
    "#숫자\n",
    "def func(a):\n",
    "    s = 20\n",
    "    print(s)\n",
    "\n",
    "    x = 10\n",
    "func(x)\n",
    "print(x)"
   ]
  },
  {
   "cell_type": "code",
   "execution_count": 53,
   "metadata": {
    "collapsed": true
   },
   "outputs": [],
   "source": [
    "def change_value(x):\n",
    "    x  = \" abc\"\n",
    "    return x\n",
    "\n",
    "x = \"aaa\"\n",
    "x = change_value(x)"
   ]
  },
  {
   "cell_type": "code",
   "execution_count": 57,
   "metadata": {
    "collapsed": true
   },
   "outputs": [],
   "source": [
    "## Call by assignment\n",
    "# 1.  mutable\n",
    "    # 1) 요소를 바꾼다 ==> 변경 OK\n",
    "        # li[2] = value\n",
    "    # 2) 리스트를 통째로 바꾼다 ==> 변경 X\n",
    "        # li = [ 1, 2, 3, 4] : 새로 assgin 을 하는 것이기 때문에 \n",
    "\n",
    "# 2. immutable (int, float, tuple, string)\n",
    "    # 1) 그냥 (함수내부에서) 변경 X"
   ]
  },
  {
   "cell_type": "code",
   "execution_count": 58,
   "metadata": {
    "collapsed": true
   },
   "outputs": [],
   "source": [
    "## 진입 장벽이 높으면 높을 수록 레벨이 달라진다. \n",
    "## 나는 너랑 레벨이 달라진다."
   ]
  },
  {
   "cell_type": "code",
   "execution_count": null,
   "metadata": {
    "collapsed": true
   },
   "outputs": [],
   "source": []
  },
  {
   "cell_type": "markdown",
   "metadata": {},
   "source": [
    "## Number"
   ]
  },
  {
   "cell_type": "markdown",
   "metadata": {},
   "source": [
    "10,2, 16 이 숫자를 -> base, radix, 기수 라고 부른다  \n",
    "\n",
    "* 10진수 : 0,1,2,3,4,5,6,7,8,9\n",
    "* 2진수 : 0,1\n",
    "* 16진수 : 0,1,2,3,4,5,6,7,8,9,a,b,c,d,e,f"
   ]
  },
  {
   "cell_type": "markdown",
   "metadata": {},
   "source": [
    "### 변환"
   ]
  },
  {
   "cell_type": "code",
   "execution_count": 59,
   "metadata": {
    "collapsed": false
   },
   "outputs": [
    {
     "data": {
      "text/plain": [
       "'0b11001'"
      ]
     },
     "execution_count": 59,
     "metadata": {},
     "output_type": "execute_result"
    }
   ],
   "source": [
    "# decimal to binary (10 -> 2)\n",
    "bin(25)"
   ]
  },
  {
   "cell_type": "code",
   "execution_count": 60,
   "metadata": {
    "collapsed": false
   },
   "outputs": [
    {
     "data": {
      "text/plain": [
       "'0b100000000'"
      ]
     },
     "execution_count": 60,
     "metadata": {},
     "output_type": "execute_result"
    }
   ],
   "source": [
    "bin(256)"
   ]
  },
  {
   "cell_type": "code",
   "execution_count": 62,
   "metadata": {
    "collapsed": false
   },
   "outputs": [
    {
     "ename": "NameError",
     "evalue": "name 'decimal' is not defined",
     "output_type": "error",
     "traceback": [
      "\u001b[0;31m---------------------------------------------------------------------------\u001b[0m",
      "\u001b[0;31mNameError\u001b[0m                                 Traceback (most recent call last)",
      "\u001b[0;32m<ipython-input-62-f2e42488c3fd>\u001b[0m in \u001b[0;36m<module>\u001b[0;34m()\u001b[0m\n\u001b[1;32m      1\u001b[0m \u001b[0;31m# binary -> decimal\u001b[0m\u001b[0;34m\u001b[0m\u001b[0;34m\u001b[0m\u001b[0m\n\u001b[0;32m----> 2\u001b[0;31m \u001b[0mdecimal\u001b[0m\u001b[0;34m(\u001b[0m\u001b[0;36m11010\u001b[0m\u001b[0;34m)\u001b[0m\u001b[0;34m\u001b[0m\u001b[0m\n\u001b[0m",
      "\u001b[0;31mNameError\u001b[0m: name 'decimal' is not defined"
     ]
    }
   ],
   "source": [
    "# binary -> decimal\n",
    "decimal(11010)"
   ]
  },
  {
   "cell_type": "markdown",
   "metadata": {},
   "source": [
    "16 -> 2\n",
    "* 16 진수 1자리 -> 2진수 4자리\n",
    "a 1010\n",
    "b 1011\n",
    "c 1100\n",
    "d 1101\n",
    "e 1110\n",
    "f 1111\n",
    "\n",
    "a 1010\n",
    "c 1100\n",
    "e 1110\n",
    "b = a + 1 = 1011\n",
    "d = c + 1 = 1101\n",
    "f = e + 1 = 1111\n",
    "\n",
    "2 -> 16\n",
    "뒤부터 쪼게고 그 앞에 남은거"
   ]
  },
  {
   "cell_type": "markdown",
   "metadata": {},
   "source": [
    "수학적 표기 \n",
    "2진수 11(2)\n",
    "\n",
    "프로그래밍 표기\n",
    "2진수 : 0B1010\n",
    "16진수 : 0Xa5 -> 10100101(2) \n"
   ]
  },
  {
   "cell_type": "markdown",
   "metadata": {},
   "source": [
    "왜 우리 컴퓨터가?   \n",
    "64 bit\n",
    "\n",
    "32 bit"
   ]
  },
  {
   "cell_type": "code",
   "execution_count": 69,
   "metadata": {
    "collapsed": false
   },
   "outputs": [
    {
     "data": {
      "text/plain": [
       "10"
      ]
     },
     "execution_count": 69,
     "metadata": {},
     "output_type": "execute_result"
    }
   ],
   "source": [
    "a = 10\n",
    "a"
   ]
  },
  {
   "cell_type": "code",
   "execution_count": 68,
   "metadata": {
    "collapsed": false
   },
   "outputs": [
    {
     "data": {
      "text/plain": [
       "250"
      ]
     },
     "execution_count": 68,
     "metadata": {},
     "output_type": "execute_result"
    }
   ],
   "source": [
    "b = 0xfa\n",
    "b"
   ]
  },
  {
   "cell_type": "code",
   "execution_count": 67,
   "metadata": {
    "collapsed": false
   },
   "outputs": [
    {
     "data": {
      "text/plain": [
       "250"
      ]
     },
     "execution_count": 67,
     "metadata": {},
     "output_type": "execute_result"
    }
   ],
   "source": [
    "c = 0b11111010\n",
    "c"
   ]
  },
  {
   "cell_type": "code",
   "execution_count": 70,
   "metadata": {
    "collapsed": false
   },
   "outputs": [
    {
     "data": {
      "text/plain": [
       "'0b11001'"
      ]
     },
     "execution_count": 70,
     "metadata": {},
     "output_type": "execute_result"
    }
   ],
   "source": [
    "d = 25\n",
    "bin(25)"
   ]
  },
  {
   "cell_type": "code",
   "execution_count": 71,
   "metadata": {
    "collapsed": false
   },
   "outputs": [
    {
     "data": {
      "text/plain": [
       "'0x19'"
      ]
     },
     "execution_count": 71,
     "metadata": {},
     "output_type": "execute_result"
    }
   ],
   "source": [
    "hex(d)"
   ]
  },
  {
   "cell_type": "code",
   "execution_count": 72,
   "metadata": {
    "collapsed": true
   },
   "outputs": [],
   "source": [
    "a = 10"
   ]
  },
  {
   "cell_type": "code",
   "execution_count": 75,
   "metadata": {
    "collapsed": false
   },
   "outputs": [
    {
     "data": {
      "text/plain": [
       "'0x7f9fe850beb0'"
      ]
     },
     "execution_count": 75,
     "metadata": {},
     "output_type": "execute_result"
    }
   ],
   "source": [
    "# memory address 알고 싶을 때\n",
    "hex(id(a))"
   ]
  },
  {
   "cell_type": "code",
   "execution_count": 76,
   "metadata": {
    "collapsed": false
   },
   "outputs": [
    {
     "data": {
      "text/plain": [
       "'0x7f9fe850d680'"
      ]
     },
     "execution_count": 76,
     "metadata": {},
     "output_type": "execute_result"
    }
   ],
   "source": [
    "hex(id(b)) #12자리 (64bit)"
   ]
  },
  {
   "cell_type": "code",
   "execution_count": null,
   "metadata": {
    "collapsed": true
   },
   "outputs": [],
   "source": []
  },
  {
   "cell_type": "markdown",
   "metadata": {
    "collapsed": true
   },
   "source": [
    "# Day 8 (2017/08/04 Fri)\n",
    "\n",
    "### learning objectives\n",
    "\n",
    "\n",
    "\n",
    "## [Function](https://github.com/ythwork/CSS_3rd/blob/master/functions/call_by_what.pdf)\n",
    "    * stack frame\n",
    "    * call by value\n",
    "    * call by reference\n",
    "    * call by object reference (call by assignment)\n",
    "\n",
    "## [Number](https://github.com/ythwork/CSS_3rd/blob/master/numbers/numbers.md)\n",
    "* decimal (10), binary (2), hexdecimal(16)\n",
    "* floating point number (부동소수점)\n",
    "    * float\n",
    "    * double\n",
    "    * precision\n",
    "    \n",
    "* endian\n",
    "    * little endian\n",
    "    * big endian\n",
    "    \n",
    "### String\n",
    "* ASCII\n",
    "* UNICODE\n",
    "\n",
    "* Encoding\n",
    "    * utf-8\n",
    "    * utf-16"
   ]
  },
  {
   "cell_type": "code",
   "execution_count": 11,
   "metadata": {
    "collapsed": false
   },
   "outputs": [
    {
     "name": "stdout",
     "output_type": "stream",
     "text": [
      "20\n",
      "10\n"
     ]
    }
   ],
   "source": [
    "#복습 (call by)\n",
    "def func(x, v):\n",
    "    x = v\n",
    "    print(x)\n",
    "    \n",
    "a = 10\n",
    "func(a, 20)\n",
    "print(a)"
   ]
  },
  {
   "cell_type": "code",
   "execution_count": 39,
   "metadata": {
    "collapsed": false
   },
   "outputs": [
    {
     "name": "stdout",
     "output_type": "stream",
     "text": [
      "True\n",
      "False\n",
      "0x7fdf33e8a048\n",
      "0x7fdf3601f4a8\n"
     ]
    }
   ],
   "source": [
    "a = 1024\n",
    "b = 1024\n",
    "print(a==b)\n",
    "print(a is b)\n",
    "print(hex(id(a)))\n",
    "print(hex(id(b)))"
   ]
  },
  {
   "cell_type": "code",
   "execution_count": 37,
   "metadata": {
    "collapsed": false
   },
   "outputs": [
    {
     "name": "stdout",
     "output_type": "stream",
     "text": [
      "True\n",
      "True\n"
     ]
    }
   ],
   "source": [
    "a = 1\n",
    "b = 1\n",
    "print(a == b)\n",
    "print(a is b)"
   ]
  },
  {
   "cell_type": "code",
   "execution_count": 24,
   "metadata": {
    "collapsed": false
   },
   "outputs": [
    {
     "name": "stdout",
     "output_type": "stream",
     "text": [
      "0x7fdf33e04008\n",
      "0x7fdf33e04008\n",
      "True\n"
     ]
    }
   ],
   "source": [
    "print(hex(id(a)))\n",
    "print(hex(id(b)))\n",
    "print(hex(id(a)) == hex(id(b)))"
   ]
  },
  {
   "cell_type": "code",
   "execution_count": 36,
   "metadata": {
    "collapsed": false
   },
   "outputs": [
    {
     "name": "stdout",
     "output_type": "stream",
     "text": [
      "True\n",
      "True\n"
     ]
    }
   ],
   "source": [
    "# 원래는 값은 같아도 메모리 주소는 다르지만, 문자열의 경우는 불합리성 때문에 같은 주소에 저장한다.\n",
    "a = 'abcde'\n",
    "b = 'abcde'\n",
    "print(a==b)\n",
    "print(a is b)"
   ]
  },
  {
   "cell_type": "code",
   "execution_count": null,
   "metadata": {
    "collapsed": true
   },
   "outputs": [],
   "source": []
  },
  {
   "cell_type": "code",
   "execution_count": null,
   "metadata": {
    "collapsed": true
   },
   "outputs": [],
   "source": []
  },
  {
   "cell_type": "code",
   "execution_count": null,
   "metadata": {
    "collapsed": true
   },
   "outputs": [],
   "source": []
  },
  {
   "cell_type": "code",
   "execution_count": 29,
   "metadata": {
    "collapsed": false
   },
   "outputs": [
    {
     "name": "stdout",
     "output_type": "stream",
     "text": [
      "('x is a :', True)\n",
      "('x is a :', False)\n"
     ]
    }
   ],
   "source": [
    "# call by assignment (상수)\n",
    "def func(x, v):\n",
    "    print('x is a :', x is a) # true\n",
    "    x = v\n",
    "    print('x is a :', x is a) # false\n",
    "    \n",
    "a = 10\n",
    "func(a,20)"
   ]
  },
  {
   "cell_type": "code",
   "execution_count": 33,
   "metadata": {
    "collapsed": false
   },
   "outputs": [
    {
     "name": "stdout",
     "output_type": "stream",
     "text": [
      "('data is li? : ', True)\n",
      "('data is li? :', True)\n",
      "[1004, 2, 3, 4]\n",
      "[1004, 2, 3, 4]\n"
     ]
    }
   ],
   "source": [
    "# call by assginment (list)\n",
    "# mutable\n",
    "def func(data, idx, value):\n",
    "    print('data is li? : ', data is li) #data랑 li랑 같니? True 면 data랑 li가 같은 것을 가르킨다. \n",
    "    # 리스트 자체가 아니라 요소를 변경 ***\n",
    "    data[idx] = value\n",
    "    print('data is li? :', data is li) # data랑 li랑 같니? True면 data랑 li가 같은 주소를 가르키고, False면 data는 다른 곳을 가르킨다.\n",
    "    # 하지면 이건 요소를 접근하는 것이기 때문에 그 요소의 주소값은 같은 곳을 가르킨다. \n",
    "    print(data)\n",
    "    \n",
    "li = [1, 2, 3, 4]\n",
    "func(li, 0, 1004)\n",
    "print(li)"
   ]
  },
  {
   "cell_type": "code",
   "execution_count": 35,
   "metadata": {
    "collapsed": false
   },
   "outputs": [
    {
     "name": "stdout",
     "output_type": "stream",
     "text": [
      "('data is li? : ', True)\n",
      "('data is li? :', False)\n",
      "[10, 20, 30, 40]\n",
      "[1, 2, 3, 4]\n"
     ]
    }
   ],
   "source": [
    "# call by assignment (mutable_ list 통째로) -> 불가 사례\n",
    "def func(data, value):\n",
    "    print('data is li? : ', data is li) #data랑 li랑 같니? True 면 data랑 li가 같은 것을 가르킨다. \n",
    "    # 리스트 자체가 아니라 요소를 변경 ***\n",
    "    data = value\n",
    "    print('data is li? :', data is li) # data랑 li랑 같니? True면 data랑 li가 같은 주소를 가르키고, False면 data는 다른 곳을 가르킨다.\n",
    "    # 하지면 이건 리스트 자체를 변경한거기 때문에 주소가 바뀌었다. \n",
    "    print(data)\n",
    "    \n",
    "li = [1,2,3,4]\n",
    "func(li, [10,20, 30, 40])\n",
    "print(li)"
   ]
  },
  {
   "cell_type": "markdown",
   "metadata": {},
   "source": [
    "# 유용링크 \n",
    "http://pythontutor.com/visualize.html#mode=edit\n",
    "    "
   ]
  },
  {
   "cell_type": "markdown",
   "metadata": {},
   "source": [
    "# 수 (number)\n"
   ]
  },
  {
   "cell_type": "markdown",
   "metadata": {},
   "source": [
    "1. 수\n",
    "    1. 정수 \n",
    "        1. 양수\n",
    "        2. 음수 : 2의 보수 (two's complaiment)\n",
    "    2. 실수 : floating point (부동 소수점)\n",
    "    (-복소수)\n",
    "    \n",
    "    \n",
    "2. 문자, 문자열\n",
    "    문자 : ASC II, UNICODE"
   ]
  },
  {
   "cell_type": "markdown",
   "metadata": {},
   "source": [
    "정수\n",
    "1. 1 byte - char\n",
    "2. 4 byte - int, long\n",
    "3. 8 byte - long long\n",
    "4. 2 byte - short\n",
    "\n",
    "long - 4 byte, 8 byte\n",
    "\n",
    "char는 문자를 표현하기 위한 \n"
   ]
  },
  {
   "cell_type": "code",
   "execution_count": 70,
   "metadata": {
    "collapsed": false
   },
   "outputs": [
    {
     "ename": "AttributeError",
     "evalue": "'int' object has no attribute 'to_bytes'",
     "output_type": "error",
     "traceback": [
      "\u001b[0;31m---------------------------------------------------------------------------\u001b[0m",
      "\u001b[0;31mAttributeError\u001b[0m                            Traceback (most recent call last)",
      "\u001b[0;32m<ipython-input-70-332bb0f306d6>\u001b[0m in \u001b[0;36m<module>\u001b[0;34m()\u001b[0m\n\u001b[1;32m      1\u001b[0m \u001b[0;31m# python version 으로 인한 오류\u001b[0m\u001b[0;34m\u001b[0m\u001b[0;34m\u001b[0m\u001b[0m\n\u001b[0;32m----> 2\u001b[0;31m \u001b[0;34m(\u001b[0m\u001b[0;36m31\u001b[0m\u001b[0;34m)\u001b[0m\u001b[0;34m.\u001b[0m\u001b[0mto_bytes\u001b[0m\u001b[0;34m(\u001b[0m\u001b[0;36m1\u001b[0m\u001b[0;34m,\u001b[0m \u001b[0mbyteorder\u001b[0m \u001b[0;34m=\u001b[0m \u001b[0;34m'little'\u001b[0m\u001b[0;34m,\u001b[0m \u001b[0msigned\u001b[0m \u001b[0;34m=\u001b[0m \u001b[0mTrue\u001b[0m\u001b[0;34m)\u001b[0m\u001b[0;34m\u001b[0m\u001b[0m\n\u001b[0m\u001b[1;32m      3\u001b[0m \u001b[0;31m# b'\\x1f'\u001b[0m\u001b[0;34m\u001b[0m\u001b[0;34m\u001b[0m\u001b[0m\n",
      "\u001b[0;31mAttributeError\u001b[0m: 'int' object has no attribute 'to_bytes'"
     ]
    }
   ],
   "source": [
    "# python version 으로 인한 오류\n",
    "(31).to_bytes(1, byteorder = 'little', signed = True)\n",
    "# b'\\x1f'"
   ]
  },
  {
   "cell_type": "code",
   "execution_count": 71,
   "metadata": {
    "collapsed": false
   },
   "outputs": [
    {
     "data": {
      "text/plain": [
       "16909060"
      ]
     },
     "execution_count": 71,
     "metadata": {},
     "output_type": "execute_result"
    }
   ],
   "source": [
    "#메모리 저장방식\n",
    "# 4321을 저장하고 싶다. \n",
    "# big: 4321 (인간의 방식)\n",
    "# little : 1234\n",
    "# 하지만 컴퓨터에서는 왠만한 방식은 다 little 엔디언이다.\n",
    "a = 0x01020304\n",
    "a"
   ]
  },
  {
   "cell_type": "code",
   "execution_count": null,
   "metadata": {
    "collapsed": true
   },
   "outputs": [],
   "source": [
    "# little, big의 유래\n",
    "# 걸리버 여행기에서 계란이 있으면 작은쪽으로 깨서 먹어야 한다 -> little\n",
    "# 큰 쪽으로 께서 먹어야 한다 ->  big\n",
    "\n",
    ">>> a.to_bytes(4, byteorder = 'little', signed = True)\n",
    "b'\\x04\\x03\\x02\\x01'\n",
    ">>> a.to_bytes(4, byteorder = 'big', signed = True)\n",
    "b'\\x01\\x02\\x03\\x04'\n"
   ]
  },
  {
   "cell_type": "code",
   "execution_count": null,
   "metadata": {
    "collapsed": true
   },
   "outputs": [],
   "source": [
    "#양수와 음수\n",
    "31\n",
    "0001 1111\n",
    "\n",
    "-31\n",
    "# 1001 1111 ? 로 하면 되지 않을까?  -> 안돼!!!!!!!!!!!!!!!!\n",
    "컴퓨터 과학자들이 새로운 방법을 찾아냈다. \n",
    "그건 바로 \n",
    "1110 0001\n",
    "\n",
    "첫 번째 숫자는 부호를 판별\n",
    "1110 0001\n",
    "맨처음 1은 negative sign 오케이\n",
    "1) 1의 보수 처리\n",
    "110 0001 -> 1의 보수 -> 001 1110\n",
    "2) +1 \n",
    "001 1110 -> +1 -> 001 1111\n",
    "3) 2의 보수로 저장\n",
    "001 1111 ----> -31 \n",
    "\n",
    "#\n",
    "(radix(기수): 10, 9, ~2,1 )\n",
    "10의 보수\n",
    "9의 보수\n",
    "2의 보수\n",
    "1의 보수\n",
    "\n",
    "\n",
    "54\n",
    "+ 45\n",
    "99 -> 9의 보수 \n",
    "보수 : 자리수가 바뀌지 않는 상태에서 가장 크게 만들어주는 수\n",
    "99+1 -> 10의 보수 -> 100\n",
    "\n",
    "54의 10의 보수는 46\n",
    "\n",
    "ex1) \n",
    "10101 의 2의 보수는?\n",
    "01010 -> 1의 보수\n",
    "====== + 1 => 01011 (==> 2의 보수)\n",
    "11111 (자리바뀌기전 가장 큰 수)\n",
    "+1\n",
    "1 00000  (자리 바뀐 수)\n",
    "\n",
    "ex2)\n",
    "~1010 : not 1010 = 0101\n",
    "\n",
    "~0000 0000 (8bit)\n",
    " 1111 1111\n",
    "sign bit인 맨 앞 1 제거\n",
    "111 1111 -> 1의 보수\n",
    "000 0000 -> +1\n",
    "000 0001 = -1\n",
    "\n",
    "~0 = -1\n",
    "~1 = -2\n",
    "~2 = -3\n",
    "\n",
    "\n",
    ">>> (31).to_bytes(4, byteorder = 'little', signed = True)\n",
    "b'\\x1f\\x00\\x00\\x00'\n",
    ">>> (-31).to_bytes(4, byteorder = 'little', signed = True)\n",
    "b'\\xe1\\xff\\xff\\xff'\n",
    ">>> \n",
    "\n",
    "\n"
   ]
  },
  {
   "cell_type": "markdown",
   "metadata": {},
   "source": [
    "## Floating number (떠다닌다)"
   ]
  },
  {
   "cell_type": "code",
   "execution_count": 80,
   "metadata": {
    "collapsed": false
   },
   "outputs": [
    {
     "name": "stdout",
     "output_type": "stream",
     "text": [
      "s is 1.5625\n"
     ]
    }
   ],
   "source": [
    "a = 0.015625\n",
    "s = 0.0\n",
    "\n",
    "for i in range(100):\n",
    "    s += a\n",
    "\n",
    "if s == 1.5625: # =은 안된다. \n",
    "    print(\"s is 1.5625\")\n",
    "else: \n",
    "    print(\"s is not 1\")"
   ]
  },
  {
   "cell_type": "code",
   "execution_count": null,
   "metadata": {
    "collapsed": true
   },
   "outputs": [],
   "source": []
  },
  {
   "cell_type": "code",
   "execution_count": 81,
   "metadata": {
    "collapsed": true
   },
   "outputs": [],
   "source": [
    "# IEEE 754(미국 전자 전기 공학가 모임)"
   ]
  },
  {
   "cell_type": "code",
   "execution_count": null,
   "metadata": {
    "collapsed": true
   },
   "outputs": [],
   "source": [
    "# 17.25 변환해보기\n"
   ]
  },
  {
   "cell_type": "markdown",
   "metadata": {},
   "source": [
    "```cpp\n",
    "\n",
    "# include <iostream>\n",
    "using namespace std;\n",
    "\n",
    "int main(void)\n",
    "{\n",
    "    float num = 17.25;\n",
    "    cout << num << endl;\n",
    "    \n",
    "    return 0;\n",
    "}\n",
    "```"
   ]
  },
  {
   "cell_type": "markdown",
   "metadata": {},
   "source": [
    "* float - 32 bit\n",
    "    * sign : 1 bit\n",
    "    * exponent : 8 bit\n",
    "        * bias : 2^(8-1)-1 = 127\n",
    "    * mantissa : 23 bit\n",
    "\n",
    "* double - 64 bit\n",
    "    * sign : 1 bit\n",
    "    * exponent : 11 bit\n",
    "        * bias : 2^(11-1)-1 = 1023\n",
    "    * mantissa : 52 bit"
   ]
  },
  {
   "cell_type": "code",
   "execution_count": 82,
   "metadata": {
    "collapsed": true
   },
   "outputs": [],
   "source": [
    "import sys"
   ]
  },
  {
   "cell_type": "code",
   "execution_count": 85,
   "metadata": {
    "collapsed": false
   },
   "outputs": [
    {
     "data": {
      "text/plain": [
       "sys.float_info(max=1.7976931348623157e+308, max_exp=1024, max_10_exp=308, min=2.2250738585072014e-308, min_exp=-1021, min_10_exp=-307, dig=15, mant_dig=53, epsilon=2.220446049250313e-16, radix=2, rounds=1)"
      ]
     },
     "execution_count": 85,
     "metadata": {},
     "output_type": "execute_result"
    }
   ],
   "source": [
    "sys.float_info\n",
    "#mant_dig=53, radix=2"
   ]
  },
  {
   "cell_type": "code",
   "execution_count": 84,
   "metadata": {
    "collapsed": true
   },
   "outputs": [],
   "source": [
    "# dig = 15 가 정밀도를 의미한다. -> 다음에 계속"
   ]
  },
  {
   "cell_type": "markdown",
   "metadata": {},
   "source": [
    "# 정밀도"
   ]
  },
  {
   "cell_type": "code",
   "execution_count": null,
   "metadata": {
    "collapsed": true
   },
   "outputs": [],
   "source": [
    "2^10 == 10^3"
   ]
  },
  {
   "cell_type": "code",
   "execution_count": 86,
   "metadata": {
    "collapsed": false
   },
   "outputs": [
    {
     "data": {
      "text/plain": [
       "0.125"
      ]
     },
     "execution_count": 86,
     "metadata": {},
     "output_type": "execute_result"
    }
   ],
   "source": [
    "2 ** -3"
   ]
  },
  {
   "cell_type": "code",
   "execution_count": 92,
   "metadata": {
    "collapsed": false
   },
   "outputs": [
    {
     "data": {
      "text/plain": [
       "1"
      ]
     },
     "execution_count": 92,
     "metadata": {},
     "output_type": "execute_result"
    }
   ],
   "source": [
    "(2**(53-1))"
   ]
  },
  {
   "cell_type": "code",
   "execution_count": null,
   "metadata": {
    "collapsed": true
   },
   "outputs": [],
   "source": []
  }
 ],
 "metadata": {
  "kernelspec": {
   "display_name": "Python 2",
   "language": "python",
   "name": "python2"
  },
  "language_info": {
   "codemirror_mode": {
    "name": "ipython",
    "version": 2
   },
   "file_extension": ".py",
   "mimetype": "text/x-python",
   "name": "python",
   "nbconvert_exporter": "python",
   "pygments_lexer": "ipython2",
   "version": "2.7.13"
  }
 },
 "nbformat": 4,
 "nbformat_minor": 2
}
