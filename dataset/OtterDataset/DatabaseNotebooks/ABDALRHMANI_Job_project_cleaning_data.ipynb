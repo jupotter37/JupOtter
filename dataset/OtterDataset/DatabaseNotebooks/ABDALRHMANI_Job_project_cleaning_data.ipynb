{
 "cells": [
  {
   "cell_type": "code",
   "execution_count": 1,
   "metadata": {},
   "outputs": [],
   "source": [
    "import pandas as pd\n",
    "import re "
   ]
  },
  {
   "cell_type": "markdown",
   "metadata": {},
   "source": [
    "## prepare both data frames to combine thim\n"
   ]
  },
  {
   "cell_type": "code",
   "execution_count": 2,
   "metadata": {},
   "outputs": [
    {
     "data": {
      "text/html": [
       "<div>\n",
       "<style scoped>\n",
       "    .dataframe tbody tr th:only-of-type {\n",
       "        vertical-align: middle;\n",
       "    }\n",
       "\n",
       "    .dataframe tbody tr th {\n",
       "        vertical-align: top;\n",
       "    }\n",
       "\n",
       "    .dataframe thead th {\n",
       "        text-align: right;\n",
       "    }\n",
       "</style>\n",
       "<table border=\"1\" class=\"dataframe\">\n",
       "  <thead>\n",
       "    <tr style=\"text-align: right;\">\n",
       "      <th></th>\n",
       "      <th>url</th>\n",
       "      <th>Nationality</th>\n",
       "      <th>Experience</th>\n",
       "      <th>Vacancy</th>\n",
       "      <th>job_title</th>\n",
       "      <th>Education</th>\n",
       "      <th>Department / Functional Area</th>\n",
       "      <th>Company Industry</th>\n",
       "      <th>Keywords</th>\n",
       "      <th>company_name</th>\n",
       "      <th>Job Location</th>\n",
       "      <th>Gender</th>\n",
       "      <th>job_description</th>\n",
       "    </tr>\n",
       "  </thead>\n",
       "  <tbody>\n",
       "    <tr>\n",
       "      <th>0</th>\n",
       "      <td>https://www.naukrigulf.com/solutions-consultan...</td>\n",
       "      <td>Any Nationality</td>\n",
       "      <td>3 - 5 Years</td>\n",
       "      <td>1 Vacancy</td>\n",
       "      <td>Solutions Consultant</td>\n",
       "      <td>Bachelor of Science(Computers)</td>\n",
       "      <td>IT Software</td>\n",
       "      <td>RecruitmentPlacement FirmExecutive Search</td>\n",
       "      <td>Solutions Consultant</td>\n",
       "      <td>Client of imploy</td>\n",
       "      <td>Riyadh - Saudi Arabia</td>\n",
       "      <td>Not Mentioned</td>\n",
       "      <td>Job DescriptionRoles &amp; ResponsibilitiesWe are ...</td>\n",
       "    </tr>\n",
       "    <tr>\n",
       "      <th>1</th>\n",
       "      <td>https://www.naukrigulf.com/ecommerce-fullstack...</td>\n",
       "      <td>Any Nationality</td>\n",
       "      <td>5 - 10 Years</td>\n",
       "      <td>1 Vacancy</td>\n",
       "      <td>eCommerce Fullstack Developer</td>\n",
       "      <td>Bachelor of Technology/Engineering</td>\n",
       "      <td>IT Software</td>\n",
       "      <td>ConsultingManagement ConsultingAdvisory Services</td>\n",
       "      <td>ECommerce Fullstack Developer</td>\n",
       "      <td>Comspark Innov And Infra</td>\n",
       "      <td>Saudi Arabia - Saudi Arabia</td>\n",
       "      <td>Not Mentioned</td>\n",
       "      <td>Job DescriptionRoles &amp; ResponsibilitiesJob Des...</td>\n",
       "    </tr>\n",
       "    <tr>\n",
       "      <th>2</th>\n",
       "      <td>https://www.naukrigulf.com/business-analyst-jo...</td>\n",
       "      <td>Any Nationality</td>\n",
       "      <td>1 - 2 Years</td>\n",
       "      <td>1 Vacancy</td>\n",
       "      <td>Business Analyst</td>\n",
       "      <td>Bachelor of Technology/Engineering</td>\n",
       "      <td>IT Software</td>\n",
       "      <td>RecruitmentPlacement FirmExecutive Search</td>\n",
       "      <td>Business Analyst</td>\n",
       "      <td>Client of Talentmate</td>\n",
       "      <td>Dubai - United Arab Emirates</td>\n",
       "      <td>Not Mentioned</td>\n",
       "      <td>Job DescriptionRoles &amp; ResponsibilitiesJob Des...</td>\n",
       "    </tr>\n",
       "    <tr>\n",
       "      <th>3</th>\n",
       "      <td>https://www.naukrigulf.com/senior-financial-pl...</td>\n",
       "      <td>Any Nationality</td>\n",
       "      <td>3 - 4 Years</td>\n",
       "      <td>1 Vacancy</td>\n",
       "      <td>Senior Financial Planning Analyst</td>\n",
       "      <td>Bachelor of Business Administration(Management)</td>\n",
       "      <td>IT Software</td>\n",
       "      <td>General TradingExportImport</td>\n",
       "      <td>Senior Financial Planning Analyst</td>\n",
       "      <td>Sky Holding</td>\n",
       "      <td>Cairo - Egypt</td>\n",
       "      <td>Not Mentioned</td>\n",
       "      <td>Job DescriptionRoles &amp; Responsibilities Assist...</td>\n",
       "    </tr>\n",
       "    <tr>\n",
       "      <th>4</th>\n",
       "      <td>https://www.naukrigulf.com/senior-hubspot-admi...</td>\n",
       "      <td>Any Nationality</td>\n",
       "      <td>3 - 5 Years</td>\n",
       "      <td>1 Vacancy</td>\n",
       "      <td>Senior HubSpot Administrator</td>\n",
       "      <td>Bachelor of Science(Computers, Technology)</td>\n",
       "      <td>IT Software</td>\n",
       "      <td>ConsultingManagement ConsultingAdvisory Services</td>\n",
       "      <td>Senior HubSpot Administrator</td>\n",
       "      <td>The Connector Consultancy</td>\n",
       "      <td>Cairo - Egypt</td>\n",
       "      <td>Not Mentioned</td>\n",
       "      <td>Job DescriptionRoles &amp; ResponsibilitiesWe are ...</td>\n",
       "    </tr>\n",
       "  </tbody>\n",
       "</table>\n",
       "</div>"
      ],
      "text/plain": [
       "                                                 url      Nationality  \\\n",
       "0  https://www.naukrigulf.com/solutions-consultan...  Any Nationality   \n",
       "1  https://www.naukrigulf.com/ecommerce-fullstack...  Any Nationality   \n",
       "2  https://www.naukrigulf.com/business-analyst-jo...  Any Nationality   \n",
       "3  https://www.naukrigulf.com/senior-financial-pl...  Any Nationality   \n",
       "4  https://www.naukrigulf.com/senior-hubspot-admi...  Any Nationality   \n",
       "\n",
       "     Experience    Vacancy                          job_title  \\\n",
       "0   3 - 5 Years  1 Vacancy               Solutions Consultant   \n",
       "1  5 - 10 Years  1 Vacancy      eCommerce Fullstack Developer   \n",
       "2   1 - 2 Years  1 Vacancy                   Business Analyst   \n",
       "3   3 - 4 Years  1 Vacancy  Senior Financial Planning Analyst   \n",
       "4   3 - 5 Years  1 Vacancy       Senior HubSpot Administrator   \n",
       "\n",
       "                                         Education  \\\n",
       "0                   Bachelor of Science(Computers)   \n",
       "1               Bachelor of Technology/Engineering   \n",
       "2               Bachelor of Technology/Engineering   \n",
       "3  Bachelor of Business Administration(Management)   \n",
       "4       Bachelor of Science(Computers, Technology)   \n",
       "\n",
       "  Department / Functional Area  \\\n",
       "0                  IT Software   \n",
       "1                  IT Software   \n",
       "2                  IT Software   \n",
       "3                  IT Software   \n",
       "4                  IT Software   \n",
       "\n",
       "                                   Company Industry  \\\n",
       "0         RecruitmentPlacement FirmExecutive Search   \n",
       "1  ConsultingManagement ConsultingAdvisory Services   \n",
       "2         RecruitmentPlacement FirmExecutive Search   \n",
       "3                       General TradingExportImport   \n",
       "4  ConsultingManagement ConsultingAdvisory Services   \n",
       "\n",
       "                            Keywords               company_name  \\\n",
       "0               Solutions Consultant           Client of imploy   \n",
       "1      ECommerce Fullstack Developer   Comspark Innov And Infra   \n",
       "2                   Business Analyst       Client of Talentmate   \n",
       "3  Senior Financial Planning Analyst                Sky Holding   \n",
       "4       Senior HubSpot Administrator  The Connector Consultancy   \n",
       "\n",
       "                   Job Location         Gender  \\\n",
       "0         Riyadh - Saudi Arabia  Not Mentioned   \n",
       "1   Saudi Arabia - Saudi Arabia  Not Mentioned   \n",
       "2  Dubai - United Arab Emirates  Not Mentioned   \n",
       "3                 Cairo - Egypt  Not Mentioned   \n",
       "4                 Cairo - Egypt  Not Mentioned   \n",
       "\n",
       "                                     job_description  \n",
       "0  Job DescriptionRoles & ResponsibilitiesWe are ...  \n",
       "1  Job DescriptionRoles & ResponsibilitiesJob Des...  \n",
       "2  Job DescriptionRoles & ResponsibilitiesJob Des...  \n",
       "3  Job DescriptionRoles & Responsibilities Assist...  \n",
       "4  Job DescriptionRoles & ResponsibilitiesWe are ...  "
      ]
     },
     "execution_count": 2,
     "metadata": {},
     "output_type": "execute_result"
    }
   ],
   "source": [
    "wuz_df=pd.read_csv('Wuzzaf_jobs_2.csv')\n",
    "\n",
    "wuz_df.head()\n",
    "\n",
    "gulf_df=pd.read_csv(\"naukrigulf_jobs_2.csv\")\n",
    "\n",
    "g_last=pd.read_csv(\"naukrigulf_jobs_last_page .csv\")\n",
    "\n",
    "gulf_df=pd.concat([gulf_df,g_last],ignore_index=True)\n",
    "g_last.head()"
   ]
  },
  {
   "cell_type": "markdown",
   "metadata": {},
   "source": [
    "### drop duplicates\n"
   ]
  },
  {
   "cell_type": "code",
   "execution_count": 3,
   "metadata": {},
   "outputs": [
    {
     "name": "stdout",
     "output_type": "stream",
     "text": [
      "len before the duplicates 975\n",
      "len after the duplicates 975\n"
     ]
    }
   ],
   "source": [
    "print(f\"len before the duplicates {len(wuz_df)}\")\n",
    "wuz_df.drop_duplicates(inplace=True)\n",
    "print(f\"len after the duplicates {len(wuz_df)}\")"
   ]
  },
  {
   "cell_type": "code",
   "execution_count": 4,
   "metadata": {},
   "outputs": [
    {
     "name": "stdout",
     "output_type": "stream",
     "text": [
      "len before the duplicates 2866\n",
      "len after the duplicates 2815\n"
     ]
    }
   ],
   "source": [
    "print(f\"len before the duplicates {len(gulf_df)}\")\n",
    "gulf_df.drop_duplicates(inplace=True)\n",
    "print(f\"len after the duplicates {len(gulf_df)}\")"
   ]
  },
  {
   "cell_type": "markdown",
   "metadata": {},
   "source": [
    "### delete unuseful columns"
   ]
  },
  {
   "cell_type": "code",
   "execution_count": 5,
   "metadata": {},
   "outputs": [],
   "source": [
    "wuz_df['company_name']=wuz_df['company_name'].fillna('unkown')"
   ]
  },
  {
   "cell_type": "code",
   "execution_count": 6,
   "metadata": {},
   "outputs": [
    {
     "name": "stdout",
     "output_type": "stream",
     "text": [
      "before: 975\n",
      "after: 975\n"
     ]
    }
   ],
   "source": [
    "print(\"before:\",len(wuz_df))\n",
    "wuz_df = wuz_df.dropna(subset=['job_title'])\n",
    "print(\"after:\",len(wuz_df))"
   ]
  },
  {
   "cell_type": "code",
   "execution_count": 7,
   "metadata": {},
   "outputs": [
    {
     "name": "stdout",
     "output_type": "stream",
     "text": [
      "846\n"
     ]
    }
   ],
   "source": [
    "# so it doesnt give us enough information its better to delete it \n",
    "print(len(wuz_df[wuz_df['Salary:'].str.contains('Confidential') == True]))\n",
    "\n",
    "wuz_df.drop(columns=['Salary:'],inplace=True)\n",
    "\n",
    "# we drop Gender because it have alot of null_values\n",
    "wuz_df.drop(columns=['Gender:'],inplace=True)"
   ]
  },
  {
   "cell_type": "code",
   "execution_count": 8,
   "metadata": {},
   "outputs": [
    {
     "name": "stdout",
     "output_type": "stream",
     "text": [
      "Benefits\n",
      "Benefits\n",
      "Annual Air Ticket, Annual Leaves As Per Labour Law, Medical Insurance, Visa, Perks & Benefits As Per Labour Law                 1\n",
      "Visa, Food, Paid Leaves, Medical Insurance, Life Insurance                                                                      1\n",
      "Commission, Annual Air Ticket                                                                                                   1\n",
      "Annual Air Ticket, Annual Leaves As Per Labour Law, Life Insurance, Medical Insurance                                           1\n",
      "Visa, Medical Insurance                                                                                                         1\n",
      "Annual Air Ticket, Annual Leaves As Per Labour Law, Car, Medical Insurance, Visa                                                1\n",
      "Accomodation, Annual Air Ticket, Commission, Food, Annual Leaves As Per Labour Law, Medical Insurance, Paid Leaves, Visa        1\n",
      "Accomodation, Annual Air Ticket, Commission, Food, Annual Leaves As Per Labour Law, Medical Insurance, Visa, Paid Leaves        1\n",
      "Annual Air Ticket, Medical Insurance, Paid Leaves, Visa                                                                         1\n",
      "Perks & Benefits As Per Labour Law                                                                                              1\n",
      "Annual Air Ticket, Annual Leaves As Per Labour Law, Medical Insurance, Paid Leaves, Visa, Perks & Benefits As Per Labour Law    1\n",
      "Perks & Benefits As Per Labour Law,  Paid Leaves,  Visa, Annual Air Ticket, Medical Insurance                                   1\n",
      "Visa,  Medical Insurance,  Annual Leaves As Per Labour Law, Annual Air Ticket                                                   1\n",
      "Visa,  Medical Insurance, Perks & Benefits As Per Labour Law                                                                    1\n",
      "Visa, Paid Leaves, Medical Insurance, Annual Air Ticket                                                                         1\n",
      "Accomodation, Annual Air Ticket, Food, Medical Insurance, Transportation                                                        1\n",
      "Name: count, dtype: int64\n",
      "#################################\n",
      "Gender\n",
      "Gender\n",
      "Not Mentioned    2673\n",
      "Any               127\n",
      "Male               10\n",
      "Female              4\n",
      "any                 1\n",
      "Name: count, dtype: int64\n",
      "#################################\n",
      "Vacancy\n",
      "Vacancy\n",
      "1 Vacancy       2767\n",
      "2 Vacancies       18\n",
      "3 Vacancies       15\n",
      "5 Vacancies        4\n",
      "10 Vacancies       4\n",
      "6 Vacancies        2\n",
      "20 Vacancies       2\n",
      "30 Vacancies       1\n",
      "50 Vacancies       1\n",
      "4 Vacancies        1\n",
      "Name: count, dtype: int64\n",
      "#################################\n",
      "Department / Functional Area\n",
      "Department / Functional Area\n",
      "IT Software    2815\n",
      "Name: count, dtype: int64\n"
     ]
    }
   ],
   "source": [
    "# so this 5 columns have not enough information so we will delete thim\n",
    "print('Benefits')\n",
    "print(gulf_df['Benefits'].value_counts())\n",
    "print(\"#################################\")\n",
    "print('Gender')\n",
    "print(gulf_df['Gender'].value_counts())\n",
    "print(\"#################################\")\n",
    "print('Vacancy')\n",
    "print(gulf_df['Vacancy'].value_counts())\n",
    "print(\"#################################\")\n",
    "print('Department / Functional Area')\n",
    "print(gulf_df['Department / Functional Area'].value_counts())\n",
    "\n",
    "# delete the kewords column because it come with the same values that we get from the job title column\n",
    "\n",
    "# we delete monthly sales because its 47 non_null value only so its over 90% null\n",
    "gulf_df.drop(columns=['Gender','Benefits','Monthly Salary','Nationality','Vacancy','Department / Functional Area','Keywords'],inplace=True)"
   ]
  },
  {
   "cell_type": "code",
   "execution_count": 9,
   "metadata": {},
   "outputs": [
    {
     "name": "stdout",
     "output_type": "stream",
     "text": [
      "<class 'pandas.core.frame.DataFrame'>\n",
      "Index: 2815 entries, 0 to 2865\n",
      "Data columns (total 9 columns):\n",
      " #   Column            Non-Null Count  Dtype \n",
      "---  ------            --------------  ----- \n",
      " 0   Job Location      2815 non-null   object\n",
      " 1   job_title         2815 non-null   object\n",
      " 2   Education         2814 non-null   object\n",
      " 3   Company Industry  2815 non-null   object\n",
      " 4   Employment Type   141 non-null    object\n",
      " 5   company_name      2815 non-null   object\n",
      " 6   url               2815 non-null   object\n",
      " 7   Experience        2815 non-null   object\n",
      " 8   job_description   2815 non-null   object\n",
      "dtypes: object(9)\n",
      "memory usage: 219.9+ KB\n"
     ]
    }
   ],
   "source": [
    "gulf_df.info()"
   ]
  },
  {
   "cell_type": "markdown",
   "metadata": {},
   "source": [
    "### rename the columns to ensure consistency between the 2 dataframes"
   ]
  },
  {
   "cell_type": "code",
   "execution_count": 10,
   "metadata": {},
   "outputs": [],
   "source": [
    "wuz_df.rename(columns={'the_place':'Job Location'},inplace=True)\n",
    "\n",
    "\n",
    "wuz_df.rename(columns={'Experience Needed:':'Experience'},inplace=True)\n",
    "\n",
    "\n",
    "wuz_df.rename(columns={'Education Level:':'Education'},inplace=True)\n",
    "\n",
    "gulf_df.rename(columns={'Employment Type':'Work_Status'},inplace=True)\n"
   ]
  },
  {
   "cell_type": "code",
   "execution_count": 11,
   "metadata": {},
   "outputs": [
    {
     "name": "stdout",
     "output_type": "stream",
     "text": [
      "<class 'pandas.core.frame.DataFrame'>\n",
      "RangeIndex: 975 entries, 0 to 974\n",
      "Data columns (total 12 columns):\n",
      " #   Column            Non-Null Count  Dtype \n",
      "---  ------            --------------  ----- \n",
      " 0   job_title         975 non-null    object\n",
      " 1   Career Level:     974 non-null    object\n",
      " 2   Education         974 non-null    object\n",
      " 3   job_requirements  967 non-null    object\n",
      " 4   Experience        974 non-null    object\n",
      " 5   Job Location      975 non-null    object\n",
      " 6   skills            974 non-null    object\n",
      " 7   url               975 non-null    object\n",
      " 8   Work_Status       975 non-null    object\n",
      " 9   job_description   975 non-null    object\n",
      " 10  company_name      975 non-null    object\n",
      " 11  Work_Mode         972 non-null    object\n",
      "dtypes: object(12)\n",
      "memory usage: 91.5+ KB\n"
     ]
    }
   ],
   "source": [
    "wuz_df.info()"
   ]
  },
  {
   "cell_type": "markdown",
   "metadata": {},
   "source": [
    "### refactor columns to make analysing easier"
   ]
  },
  {
   "cell_type": "code",
   "execution_count": 12,
   "metadata": {},
   "outputs": [
    {
     "name": "stdout",
     "output_type": "stream",
     "text": [
      "['1 to 5 years' '1 to 3 years' '2 to 5 years' '5 to 10 years'\n",
      " '3 to 5 years' '5 to 8 years' '8 to 10 years' '7 to 10 years'\n",
      " '5 to 15 years' '1 to 4 years' '4 to 7 years' '3 to 10 years'\n",
      " '3 to 4 years' '3 to 8 years' '1 to 2 years' '4 to 6 years'\n",
      " '7 to 9 years' 'More than 4 years' 'More than 3 years' '0 to 1 year'\n",
      " '2 to 6 years' '1 to 7 years' '2 to 3 years' '3 to 6 years'\n",
      " '5 to 7 years' '2 to 4 years' 'More than 6 years' '3 to 7 years'\n",
      " 'More than 1 year' '4 to 5 years' '4 to 9 years' '5 to 9 years' '1 year'\n",
      " 'More than 5 years' 'More than 2 years' '4 to 12 years' '8 to 15 years'\n",
      " '12 to 15 years' 'Not Specified' '0 to 2 years' '1 to 8 years'\n",
      " '5 to 6 years' '10 to 15 years' '4 to 10 years' '0 to 5 years'\n",
      " '8 to 12 years' '4 to 8 years' '6 to 10 years' '5 to 20 years' '2 years'\n",
      " '7 to 12 years' '0 to 3 years' '7 to 15 years' '10 to 16 years'\n",
      " '14 to 20 years' '3 to 20 years' '2 to 7 years' '10 to 12 years'\n",
      " '2 to 8 years' '5 to 12 years' '2 to 20 years' '0 to 7 years' nan\n",
      " '1 to 20 years' '2 to 10 years' '6 to 8 years' '7 to 20 years'\n",
      " '3 to 12 years' 'More than 10 years' 'More than 8 years' '3 to 9 years'\n",
      " '3 to 17 years' '10 years' 'More than 7 years' '5 years' '6 to 20 years'\n",
      " '2 to 12 years' '1 to 10 years' '3 years' '20 years' '15 to 20 years']\n",
      "\n",
      "notice the differance\n",
      "\n",
      "['2 - 4 Years' '5 - 10 Years' '3 - 4 Years' '15 - 20 Years' '5 - 7 Years'\n",
      " '3 - 7 Years' '10 - 20 Years' '1 - 2 Years' '2 - 5 Years' '5 - 8 Years'\n",
      " '4 - 8 Years' '6 - 8 Years' '3 - 6 Years' '7 - 9 Years' '1 - 3 Years'\n",
      " '7 - 10 Years' '8 - 10 Years' '3 - 5 Years' '4 - 9 Years' '6 Years'\n",
      " '3 - 9 Years' '4 - 7 Years' '7 - 8 Years' '2 - 7 Years' '4 - 6 Years'\n",
      " '2 - 3 Years' '1 - 4 Years' '6 - 10 Years' '8 - 12 Years' '1 - 6 Years'\n",
      " '0 - 2 Years' '1 - 5 Years' '6 - 12 Years' '10 - 11 Years' '9 - 10 Years'\n",
      " '9 - 15 Years' '2 - 8 Years' '12 - 14 Years' '8 - 11 Years' '3 - 8 Years'\n",
      " '4 - 10 Years' '2 - 6 Years' '10 - 16 Years' '7 - 14 Years' '0 - 3 Years'\n",
      " '0 - 5 Years' '8 - 13 Years' '1 - 8 Years' '10 - 12 Years' '0 - 1 Year'\n",
      " '5 - 6 Years' '2 - 12 Years' '4 - 5 Years' '6 - 7 Years' '20 - 25 Years'\n",
      " '5 - 9 Years' '15 - 17 Years' '7 - 12 Years' '12 - 16 Years'\n",
      " '12 - 13 Years' '10 - 13 Years' '10 - 15 Years' '0 - 7 Years'\n",
      " '10 - 17 Years' '9 - 12 Years' '0 - 4 Years' '5 - 12 Years'\n",
      " '25 - 26 Years' '8 - 15 Years' '8 - 14 Years' '6 - 11 Years'\n",
      " '7 - 11 Years' '0 - 6 Years' '15 - 18 Years' '2 - 10 Years'\n",
      " '9 - 14 Years' '15 - 19 Years' '15 - 27 Years' '12 - 15 Years'\n",
      " '25 - 29 Years' '3 - 10 Years' '10 - 14 Years' '7 - 13 Years'\n",
      " '6 - 9 Years' '5 - 15 Years' '25 - 27 Years' '9 - 11 Years'\n",
      " '5 - 20 Years' '8 - 9 Years' '20 - 22 Years' '7+ Years' '14 - 17 Years'\n",
      " '0 Year' '5 - 11 Years' '9 - 13 Years' '11 - 25 Years' '12 - 20 Years'\n",
      " '14 - 19 Years' '15 - 16 Years' '7 - 15 Years' '3 - 20 Years'\n",
      " '17 - 20 Years' '2 - 9 Years' '1 - 10 Years' '18 - 20 Years'\n",
      " '20 - 23 Years' '7 - 16 Years' '3 - 12 Years' '3 - 18 Years']\n"
     ]
    }
   ],
   "source": [
    "print(wuz_df['Experience'].unique())\n",
    "print(\"\\nnotice the differance\\n\")\n",
    "print(gulf_df['Experience'].unique())\n",
    "\n",
    "wuz_df['Experience']=wuz_df['Experience'].apply(lambda x:str(x).replace('to','-').lower())\n",
    "\n",
    "gulf_df['Experience']=gulf_df['Experience'].apply(lambda x:str(x).lower())"
   ]
  },
  {
   "cell_type": "code",
   "execution_count": 13,
   "metadata": {},
   "outputs": [
    {
     "name": "stdout",
     "output_type": "stream",
     "text": [
      "['Smart Village, Giza' '6th of October, Giza' 'Maadi, Cairo'\n",
      " 'Zaytoun, Cairo' 'Sharjah, United Arab Emirates' 'Sheraton, Cairo'\n",
      " 'Alsadat City, Monufya' 'Katameya, Cairo' 'Cairo, Egypt' 'Doha, Qatar'\n",
      " 'San Stefano, Alexandria' 'Heliopolis, Cairo' 'London, United Kingdom'\n",
      " 'Riyadh, Saudi Arabia' 'New Heliopolis, Cairo New company'\n",
      " 'Sheikh Zayed, Giza' 'Nasr City, Cairo' 'New Cairo, Cairo' 'Dokki, Giza'\n",
      " 'Giza, Egypt' 'Fleming, Alexandria' 'Obour City, Cairo' 'LABS.'\n",
      " 'Alexandria, Egypt' 'Garden City, Cairo' 'Haram, Giza'\n",
      " 'Smouha, Alexandria' 'Mohandessin, Giza' 'New Nozha, Cairo'\n",
      " '10th of Ramadan City, Sharqia' '10th of Ramadan City, Cairo' 'eg.com'\n",
      " 'Helmeya, Cairo' 'paym...' 'Los Angeles, United States' 'Egypt'\n",
      " 'Qanater Khairya, Qalubia' 'Giza, Giza' 'Vision' 'Mokattam, Cairo'\n",
      " 'Technologies' 'Bourj Alarab, Alexandria' 'Downtown, Cairo'\n",
      " 'Glim, Alexandria' 'Manial, Cairo' 'Bolkly, Alexandria' 'Abbassia, Cairo'\n",
      " 'Abu Rawash, Giza' 'Bank' 'Qantara Gharb, Ismailia' 'New Capital, Cairo'\n",
      " 'Nozha, Cairo' 'Atlanta, United States' 'Cairo, Egypt Not Verified'\n",
      " 'McAllen, United States' 'khanka, Qalubia' 'Intrasoft' 'Cashi'\n",
      " 'Mansoura, Dakahlia' 'Egypt Gold' 'Hadayek October, Giza'\n",
      " 'Obour City, Cairo Not Verified' 'Shorouk City, Cairo' 'IT'\n",
      " 'Abdeen, Cairo' 'Ameria, Alexandria' 'Shubra Alkhaymah, Qalubia'\n",
      " 'Mahalla Kubra, Gharbia' 'Kuwait City, Kuwait' 'Rome, Italy'\n",
      " 'Mississauga, Canada' 'Cairo, Egypt New company' 'Boulaq, Cairo'\n",
      " 'Attarin, Alexandria' 'Bath, United Kingdom' 'Center of ...'\n",
      " 'Port Said, Egypt' 'finance' 'Hail, Saudi Arabia'\n",
      " 'Santa Barbara, United States' 'Dubai, United Arab Emirates'\n",
      " 'Muscat, Oman' 'Istanbul, Turkey' 'Basatin, Cairo' 'Rabat, Morocco'\n",
      " 'Zamalek, Cairo' 'Mubarak Al' 'Munich GmbH' 'Salam City, Cairo'\n",
      " 'Helwan, Cairo' 'Ahram Group' 'P...' 'Assiut, Egypt'\n",
      " 'Jerusalem, Palestine' 'Birmingham, United Kingdom' 'Paris, France'\n",
      " 'Jeddah, Saudi Arabia' 'East Los Angeles, United States'\n",
      " 'Madinaty, Cairo' 'Faisal, Giza' 'GEO Solutions' 'رؤيه'\n",
      " 'Port Fuad, Port Said' 'Darrasa, Cairo' 'Zamalek, Cairo Not Verified'\n",
      " 'Manchester, United Kingdom Not Verified' 'Beni Suef, Beni Suef'\n",
      " 'Mit Ghamr, Dakahlia' 'Abu Dhabi, United Arab Emirates'\n",
      " 'Ajman, United Arab Emirates' 'Dr Khaled ...' 'Badr City, Cairo']\n",
      "\n",
      "notice the differance\n",
      "\n",
      "['Abha - Saudi Arabia' 'Dubai - United Arab Emirates (UAE)'\n",
      " 'Ajman - United Arab Emirates (UAE)'\n",
      " 'United Arab Emirates - United Arab Emirates' 'Cairo - Egypt'\n",
      " 'Saudi Arabia - Saudi Arabia' 'Abu Dhabi - United Arab Emirates'\n",
      " 'Giza - Egypt' 'Egypt - Egypt' 'Riyadh - Saudi Arabia'\n",
      " 'Dubai - United Arab Emirates' 'EgyptMorocco - Egypt'\n",
      " 'Jeddah - Saudi Arabia' 'Alexandria - Egypt'\n",
      " 'Eastern Province - Saudi Arabia' 'BahrainSaudi Arabia - Bahrain'\n",
      " 'Sharjah - United Arab Emirates (UAE)'\n",
      " 'Abu Dhabi - United Arab Emirates (UAE)'\n",
      " 'Dubai, Abu Dhabi - United Arab Emirates (UAE)'\n",
      " 'Al Khobar - Saudi Arabia' 'Makkah Al Mukarramah - Saudi Arabia'\n",
      " 'Doha - Qatar' 'Al Ula, Saudi Arabia - Saudi Arabia' 'SA - Saudi Arabia'\n",
      " 'Ras Al Khaimah - United Arab Emirates (UAE)'\n",
      " 'Remote (Company based out of Other - Saudi Arabia)'\n",
      " 'Remote (Company based out of Jeddah, Riyadh, Shaybah - Saudi Arabia)'\n",
      " 'Neom - Saudi Arabia' 'Ajman - United Arab Emirates'\n",
      " 'Sharjah - United Arab Emirates' 'EgyptJordanPakistan - Egypt'\n",
      " 'Dhahran, Saudi Arabia - Saudi Arabia'\n",
      " 'Sheikh Zayd, Arkan Plaza Mall - Egypt'\n",
      " 'JordanQatarSaudi ArabiaUnited Arab Emirates - Jordan'\n",
      " 'DAHRRAN - Saudi Arabia' 'Al Kuwait - Kuwait'\n",
      " 'EgyptJordanLebanon - Egypt' 'Sheikh Zayed, Egypt - Egypt'\n",
      " 'Al Madina Al Munawarah - Saudi Arabia' 'EgyptLebanon - Egypt'\n",
      " 'Fujairah - United Arab Emirates' 'Dhahran - Saudi Arabia'\n",
      " 'Abu Dhabi, Dubai, Sharjah - United Arab Emirates'\n",
      " 'Ras Al Khaimah - United Arab Emirates' 'Khafji - Saudi Arabia'\n",
      " 'Other - United Arab Emirates (UAE)' 'EgyptLebanonMorocco - Egypt'\n",
      " 'Alexandria, EgyptQatar - Egypt'\n",
      " 'EgyptTunisiaAlgeriaLibyaMoroccoSudan - Egypt'\n",
      " 'Jeddah, Riyadh - Saudi Arabia' 'Beirut, Tripoli - Lebanon'\n",
      " 'Shubra al Khaymah - Egypt' 'Jubail - Saudi Arabia'\n",
      " 'Monufya, Egypt - Egypt' 'QatarSaudi ArabiaUnited Arab Emirates - Qatar'\n",
      " 'Monufya - Egypt' 'Saudi ArabiaUnited Arab Emirates - Saudi Arabia'\n",
      " 'Sharqia - Egypt'\n",
      " 'Remote (Company based out of Dubai - United Arab Emirates (UAE))'\n",
      " 'Fujairah - United Arab Emirates (UAE)' 's - Saudi Arabia'\n",
      " 'Abu Dhabi, Dubai - United Arab Emirates'\n",
      " 'Qatar, United Arab Emirates - Qatar' 'QatarUnited Arab Emirates - Qatar']\n"
     ]
    }
   ],
   "source": [
    "print(wuz_df['Job Location'].unique())\n",
    "print(\"\\nnotice the differance\\n\")\n",
    "print(gulf_df['Job Location'].unique())\n",
    "\n",
    "wuz_df['Job Location']=wuz_df['Job Location'].apply(lambda x:str(x).replace(',',' -'))"
   ]
  },
  {
   "cell_type": "markdown",
   "metadata": {},
   "source": [
    "## combine the 2 data frames"
   ]
  },
  {
   "cell_type": "code",
   "execution_count": 14,
   "metadata": {},
   "outputs": [],
   "source": [
    "all_df=pd.concat([wuz_df,gulf_df])"
   ]
  },
  {
   "cell_type": "code",
   "execution_count": 15,
   "metadata": {},
   "outputs": [
    {
     "name": "stdout",
     "output_type": "stream",
     "text": [
      "<class 'pandas.core.frame.DataFrame'>\n",
      "Index: 3790 entries, 0 to 2865\n",
      "Data columns (total 13 columns):\n",
      " #   Column            Non-Null Count  Dtype \n",
      "---  ------            --------------  ----- \n",
      " 0   job_title         3790 non-null   object\n",
      " 1   Career Level:     974 non-null    object\n",
      " 2   Education         3788 non-null   object\n",
      " 3   job_requirements  967 non-null    object\n",
      " 4   Experience        3790 non-null   object\n",
      " 5   Job Location      3790 non-null   object\n",
      " 6   skills            974 non-null    object\n",
      " 7   url               3790 non-null   object\n",
      " 8   Work_Status       1116 non-null   object\n",
      " 9   job_description   3790 non-null   object\n",
      " 10  company_name      3790 non-null   object\n",
      " 11  Work_Mode         972 non-null    object\n",
      " 12  Company Industry  2815 non-null   object\n",
      "dtypes: object(13)\n",
      "memory usage: 414.5+ KB\n"
     ]
    }
   ],
   "source": [
    "# here some columns have alot of nulls but we will deal with thim later \n",
    "all_df.info()"
   ]
  },
  {
   "cell_type": "markdown",
   "metadata": {},
   "source": [
    "### remove the duplicates that jobs shared between the 2 sites"
   ]
  },
  {
   "cell_type": "code",
   "execution_count": 16,
   "metadata": {},
   "outputs": [
    {
     "name": "stdout",
     "output_type": "stream",
     "text": [
      "len before the duplicates 3790\n",
      "len after the duplicates 3690\n"
     ]
    }
   ],
   "source": [
    "print(f\"len before the duplicates {len(all_df)}\")\n",
    "all_df.drop_duplicates(subset=['job_title','company_name','Experience'],inplace=True)\n",
    "print(f\"len after the duplicates {len(all_df)}\")"
   ]
  },
  {
   "cell_type": "markdown",
   "metadata": {},
   "source": [
    "#### Let's make the 'Job Title' a basic column that holds essential information about the jobs. This will allow us to delve deeper into any group later if needed"
   ]
  },
  {
   "cell_type": "code",
   "execution_count": 17,
   "metadata": {},
   "outputs": [],
   "source": [
    "all_df['job_title_basic']=all_df['job_title']"
   ]
  },
  {
   "cell_type": "markdown",
   "metadata": {},
   "source": [
    "## Clean and transform columns to make it eady for analysis"
   ]
  },
  {
   "cell_type": "markdown",
   "metadata": {},
   "source": [
    "### handle the job title column"
   ]
  },
  {
   "cell_type": "markdown",
   "metadata": {},
   "source": [
    "#### remove unrelated jobs"
   ]
  },
  {
   "cell_type": "code",
   "execution_count": 18,
   "metadata": {},
   "outputs": [
    {
     "name": "stdout",
     "output_type": "stream",
     "text": [
      "before\n",
      "3690\n",
      "after\n",
      "3541\n"
     ]
    }
   ],
   "source": [
    "print('before')\n",
    "print(len(all_df))\n",
    "\n",
    "all_df = all_df[~all_df['job_title'].str.contains('call center', na=False, case=False)]\n",
    "all_df = all_df[~all_df['job_title'].str.contains('sales', na=False, case=False)]\n",
    "all_df = all_df[~all_df['job_title'].str.contains('marketing', na=False, case=False)]\n",
    "all_df = all_df[~all_df['job_title'].str.contains('content', na=False, case=False)]\n",
    "all_df = all_df[~all_df['job_title'].str.contains('customer service', na=False, case=False)]\n",
    "all_df = all_df[~all_df['job_title'].str.contains('housekeeping', na=False, case=False)]\n",
    "all_df = all_df[~all_df['job_title'].str.contains('digital', na=False, case=False)]\n",
    "all_df = all_df[~all_df['job_title'].str.contains('customer support', na=False, case=False)]\n",
    "all_df = all_df[~all_df['job_title'].str.contains('client support', na=False, case=False)]\n",
    "\n",
    "\n",
    "print('after')\n",
    "print(len(all_df))\n",
    "\n"
   ]
  },
  {
   "cell_type": "markdown",
   "metadata": {},
   "source": [
    "#### try to map jobs to bigger groups for better analysing"
   ]
  },
  {
   "cell_type": "code",
   "execution_count": 19,
   "metadata": {},
   "outputs": [],
   "source": [
    "# First set of replacements\n",
    "\n",
    "general_replacements = [\n",
    "    ('junior', ''),  \n",
    "    ('senior', ''),  \n",
    "    ('-', ''),  \n",
    "    ('&', ' '),  \n",
    "    ('/', ''),  \n",
    "    ('(midlevel)', ''),   \n",
    "    ('remotely', ''),  \n",
    "    ('midlevel', ''),  \n",
    "    (' (excel  power bi)', ''),  \n",
    "    (' next.js 14 ', ''),  \n",
    "    ('  it  sheraton ', '')  \n",
    "]\n",
    "job_mappings = {\n",
    "    'intern':['internship','intern'],\n",
    "    'full stack developer': ['full stack', 'end-to-end developer', 'mern', 'mean', 'fullstack','IDM Development','web developer','web prog','Web Development','web researcher','web site developer','website dev','Technical Specialist (WooCommerce Website)'],\n",
    "    'oracle related job': ['oracle','apex','ADF Developer'],\n",
    "    'account manager': ['account manager'],\n",
    "    'angular developer':['typescript developer','angular'],\n",
    "    'application support': ['application support', 'apm ge support analyst'],\n",
    "    'backend developer': ['backend', 'api developer', 'node.js', 'java backend', 'server-side developer','back end','. node js','api '],\n",
    "    'blockchain developer':['blockchain'],\n",
    "    'business analyst': ['business analyst', 'businessanalysis', 'business analysis', 'business execution analyst','Methodology Analyst','Market Analyst','Delivery Analyst','Planning Analyst','Ancillary Revenue Analyst','performance Analyst','pm analyst','delay analyst','reporting analyst','program associate','workforce planning  analyst','Laundering Analyst','chargeback analyst','Compliance Analyst','business hacker','stock yard analyst','analyst  portfolio support','analyst pmo','analyst transportation','ms tech solutioning   analyst','rpa','Business Process Analyst'],\n",
    "    'microsoft 365':['microsoft 365','ms 365','365','365 professional'],\n",
    "    'cloud engineer': ['cloud engineer', 'cloud architect', 'aws', 'azure', 'google cloud','Google Workspace','cloud value rep','Cloud Virtualization Solutions','cloud solutions','IBM Cloud','kubernetes','cloud ','gcp specialis','gcp '],\n",
    "    'content writer': ['content writer', 'copywriter', 'content creator','Science Communicator','content'],\n",
    "    'customer support representative': ['customer support representative', 'client relation'],\n",
    "    'customer support specialist': ['customer support specialist'],\n",
    "    'coordinator related jobs':['coordinator'],\n",
    "    'CRM related jobs':['crm ','customer relationship management','customer relationship'],\n",
    "    'call center jobs':['call center'],\n",
    "    'data engineer': ['data engineer', 'data pipeline', 'etl developer', 'data wrangler','data center','data processor','Data Section Head','data modeler','fircosoft resource','mdm ','data warehouse','etl ',' informatics developer','Data Centre Transformation','Data Integration','Big Data Expert','data architect'],\n",
    "    'data governance': ['data governance','information governance','compliance specialist','Data Privacy Officer'],\n",
    "    'data scientist': ['data scientist', 'data science', 'machine learning','deeplearning','deep learning','machinelearning','ai engineer', 'artificial intelligence', 'ml engineer', 'machine learning engineer','llm','ai manager','ai prog','AI ','computer vision','aiintegrated'],\n",
    "    'database administrator': ['database administrator', 'database admin', 'data admin','dba','storage and back up','database  administrator'],\n",
    "    'data entry': ['data entry'],\n",
    "    'database developer': ['database developer', 'db developer', 'sql developer', 'plsql', 'mysql', 'postgresql'],\n",
    "    'digital assurance expert engineer': ['digital assurance expert engineer'],\n",
    "    'digital marketing engineer': ['digital marketing'],\n",
    "    'digital marketer': ['digital marketer', 'digital marketing specialist', 'seo', 'ppc', 'content marketing'],\n",
    "    'director related jobs': ['director'],\n",
    "    'designer': ['product designer', 'ux designer', 'ui designer', 'ui ux','uiux','Packing Development Technology Transfer','ui developer','ux developer','ui prog','ux prog','Ux Manager','ux researcher','ui researcher','CAD Specialist','designer','AutoCAD Draftsman','ux architect'],\n",
    "    'devops engineer': ['devops'],\n",
    "    'devsecops engineer': ['devsecops engineer'],\n",
    "    'dot net developer':['dot net','.net','. net','dotnet','C#','net core','.net core','winforms desktop','net '],\n",
    "    'doc_related_jobs':['technical documentation','technical writer'],\n",
    "    'embedded developer': ['embedded','IoT ','Home Automation Engineer','smart homes engineer'],\n",
    "    'ecm developer':['ecm '],\n",
    "    'erb related job' : ['erp','AX Technofunctional'],\n",
    "    'ecommerce specialist': [\n",
    "    'ecommerce specialist', 'e-commerce specialist'\n",
    "], \n",
    "    'executive related jobs': ['executive'],\n",
    "    'fp a analyst': ['fp a analyst','financial planning','fp ','Accountant','fintech','finance','investment analyst','FinOps','Actuarial Analyst','Treasury and Support','Financial Planning'],\n",
    "    'front end developer':['front end','frontend'],\n",
    "    'graphic related jobs':['graphic'],\n",
    "    'geospatial jobs': [\n",
    "        'geospatial', 'geo dev', 'gis dev','geo prog','geo prog', 'geospatial analyst', \n",
    "        'geospatial specialist', 'geospatial technician', \n",
    "        'geospatial engineer', 'geographic information systems', 'geo analyst','gis ','Mapbox Developer'\n",
    "    ],\n",
    "    'game_development_jobs': [\n",
    "    'game developer', \n",
    "    'game designer', \n",
    "    'game programmer', \n",
    "    'game engineer', \n",
    "    'game artist', \n",
    "    'game writer', \n",
    "    'game producer', \n",
    "    'game tester', \n",
    "    'game operations', \n",
    "    'game data analyst', \n",
    "    'technical artist', \n",
    "    'Unity Developer'\n",
    "], \n",
    "    'hcm related jobs': ['hcm'],\n",
    "    'hr specialist': ['human resources', 'recruiter', 'hr manager', 'talent acquisition','technical recruitment'],\n",
    "    'hris related jobs':['hris'],\n",
    "    'ict teacher (middle school)': ['ict teacher', 'middle school teacher'],\n",
    "    'instructor':['instructor','teacher'],\n",
    "    'information system engineer': ['information systems','information system'],\n",
    "    'information security engineer': ['information security','infosec','info security'],\n",
    "    'infrastructure engineer': ['infrastructure engineer','storage administrator','back up','backup','infrastructure analyst','IT System Specialist','IT Onsite Support Officer','Infrastructure Partner','infrastructure architect'],\n",
    "    'network security engineer': ['network security','Network   Security','Networking   Security'],\n",
    "    'cyber security engineer': ['cyber security engineer', 'cybersecurity', 'network security','cyber threat','data privacy','data protection', 'information protection section head','Threat Hunting','cyber','soc analyst','threat intelligence analyst','soc   logrythm','devsecops','dfir analyst','IT Security','Firewall','security architect','security analyst','security solutions','Security '],\n",
    "    'it back office': [\n",
    "        'it back office', 'it admin','it  admin',\n",
    "          'itback'  # Removed duplicate 'it back office'\n",
    "    ],\n",
    "    'it generalist': [\n",
    "        'it generalist'\n",
    "    ],\n",
    "    'it help desk': [\n",
    "        'help desk', 'helpdesk','IT Asset','Desk Analyst'  # No changes needed here\n",
    "    ],\n",
    "    'it infrastructure': [\n",
    "        'it infrastructure','Hardware Administrator'\n",
    "    ],\n",
    "    'it service related jobs': [\n",
    "        'it service'\n",
    "    ],\n",
    "    'it support': [\n",
    "        'it support', 'it tech support', 'it operations support', 'IT Supervisor',\n",
    "        'storage and backup', 'OpenStack Deployment L4 Support Engineer',\n",
    "        'associate information systems officer', 'L1 support', 'Deskside Support','Service Desk Specialist'\n",
    "        ,'it technical support','IT Onsite Support Officer'\n",
    "    ],\n",
    "    'it specialist': [\n",
    "        'it specialist'\n",
    "    ],\n",
    "    'Information Technology':['it ','Information Technology',],\n",
    "    'java developer': ['java', 'spring boot', 'j2ee'],\n",
    "    'laravel developer': ['laravel'],\n",
    "    'low_code_no_code_development': [\n",
    "    'outsystems developer',\n",
    "    'outsystems','Appian Developer'],\n",
    "    'data analytics': ['data analytics', 'data analyst', 'data analysis', 'data analystics', 'analytics', 'business intelligence', 'bi developer', 'power bi', 'tableau', 'data visualization', 'revenue analyst','analyst  data','data production analyst','knowledge analyst','rfi analyst','pricing actuarial analyst','bi analyst','digital analyst','data quailty  analyst','Data Strategist',' analyst'],\n",
    "    'marketing related jobs': ['marketing manager', 'brand manager', 'digital marketing manager','marketing','marcom'],\n",
    "    'mobile developer': ['ios developer', 'android developer', 'mobile developer', 'flutter', 'react native','android','ios','apps developer','mobile app','VoltMX','Kony'],\n",
    "    'microsoft apps':['power apps','microsoft','ms exchange engineer','SharePoint Developer','share point Developer','SharePoint '],\n",
    "    'mis specialist': ['mis specialist'],\n",
    "    'ms sql engineer': ['ms sql', 'ms sql engineer', 'sql server'],\n",
    "    'magento developer':['magento'],\n",
    "    'network engineer': ['network engineer', 'network administrator', 'network specialist', 'cisco', 'ccna', 'ccnp','information systems security analyst','routing '],\n",
    "    'php developer': ['php', 'laravel', 'codeigniter'],\n",
    "    'product owner': ['product owner'],\n",
    "    'project coordinator': ['project coordinator', 'project lead', 'assistant project manager'],\n",
    "    'project manager': ['project manager', 'projects manager', 'tech pmo', 'planner','Cost Control Engineer','Backlog Conversion','Implementation Officer','product manager','Program Manager'],\n",
    "    'python developer': ['python', 'django', 'flask'],\n",
    "    'react developer': ['react'],\n",
    "    'social media related jobs':['media','content','editor'],\n",
    "    'sales manager': ['sales manager', 'account executive', 'sales executive', 'business development manager'],\n",
    "    'scrum master': ['scrum master'],\n",
    "    'sap related jobs':['sap dev','sap prog','SAP','sap manager'],\n",
    "    'software architect': [\n",
    "        'solution architect', 'software architect', 'it architect', 'technical architect','SOA Developer','application architect',' architect','architect ',' architect '\n",
    "    ],\n",
    "    'software developer': [\n",
    "        'software developer', 'software development', 'software solution', 'AV programmer','system developer','programming developer','Desktop Developer','Vue.js Nuxt.js','App Connect Developer','C++ Developer'\n",
    "        ,'POS ','bashshell developer','c developer','Interoperability Developer'\n",
    "    ],\n",
    "    'software implementation engineer': [\n",
    "        'software implementation engineer', 'software implementation'\n",
    "    ],\n",
    "    'software analyst': [\n",
    "        'software analyst', 'support analyst'  # Standardized capitalization\n",
    "    ],\n",
    "    'software tester': [\n",
    "        'tester', 'testing', 'quality', 'test automation engineer','test automation','test resource','test','Test Automation','Quality Manager'\n",
    "          ,'quality assurance', 'automation testing', 'qa tester', 'test engineer','qa engineer','qa manager'\n",
    "            ,'quality control', 'qc testing', 'qc inspector', 'test engineer','qc engineer','qc manager','audit'\n",
    "              ,'verification   validation','verification engineer','validation engineer','Digital Assurance'\n",
    "                ,'pqcs ','qa automation'  # Added 'software tester' for clarity\n",
    "    ],\n",
    "    'software engineer': [\n",
    "        'software engineer', 'it engineer', 'computer engineer', \n",
    "        'Sr. CAM programmer', 'programmer','program developer'\n",
    "        ,'integration developer','Software Integration','Application Engineer'  # Standardized \"Sr. cam programmer\" to \"Sr. CAM programmer\"\n",
    "    ],\n",
    "    'system administrator': [\n",
    "        'sysadmin', 'system admin', 'server administrator', \n",
    "        'it administrator', 'admin services  analyst','systems administrator','system administrator'\n",
    "          ,'Linux Software Expert','Applications Specialist'  # Standardized spacing in 'admin services  analyst'\n",
    "    ],\n",
    "    'system engineer': [\n",
    "        'system engineer', 'systems engineer'  # No changes needed\n",
    "    ],\n",
    "    'system analyst': [\n",
    "        'system analyst', 'systems analyst', 'technical analyst'  # No changes needed\n",
    "    ],\n",
    "    'technical customer success specialist': [\n",
    "        'technical customer success specialist', 'technical customer support'\n",
    "    ],\n",
    "    'technical specialist': [\n",
    "        'technical data specialist','CCS Technology Development ','Technology Development Specialist'\n",
    "        ,'Technology Deployment Expert'\n",
    "    ],\n",
    "    'technical manager': [\n",
    "        'technical manager', 'it manager', 'tech manager', 'supervisor', \n",
    "        'cto', 'ceo', 'chief','IT Systems Manager','Principal Technologist',\n",
    "        'team lead', 'team leader', 'tech lead', 'project lead','it head','lead','head of','Application Section Head',' Head '  # Titles like 'cto', 'ceo', and 'chief' might need further categorization (see notes).\n",
    "    ],\n",
    "    'technical office related jobs': [\n",
    "        'technical office'\n",
    "    ],\n",
    "    'technical support engineer': [\n",
    "        'technical support', 'hvac technician', 'technician fabricator', \n",
    "        'technical surveyor', 'o m expert', 'technician expert', \n",
    "        'laptop technician', 'ca technician', 'technology technician', \n",
    "        'technical evaluator', 'transformer expert', 'support engineer','Computer Technician'\n",
    "    ],\n",
    "    'technical writer': [\n",
    "        'technical writer'\n",
    "    ],\n",
    "    'wordpress developer': ['wordpress'],\n",
    "    'odoo related jobs':['odoo','oodo'],\n",
    "    'operations related jobs': ['operations','operation','operator', 'associate or associate'],\n",
    "    'zoho implementation specialist': ['zoho implementation specialist'],\n",
    "    'manager related jobs': ['manager', 'management'],\n",
    "    'consultant related jobs': ['consultant','process transformation','Visiting Associate'],\n",
    "    'business tech jobs':['business ','business']\n",
    "       \n",
    "}\n",
    "\n",
    "\n",
    "def handle_jobs(job_title,replace,mapping):\n",
    "    keys=mapping.keys()\n",
    "    job_title = job_title.lower()\n",
    "    for old,new in replace:\n",
    "        job_title = job_title.replace(old,new).strip()\n",
    "    \n",
    "    for modefied_job_title,mapped_v in mapping.items():\n",
    "        if job_title not in keys :\n",
    "            if any(one.lower() in job_title for one in mapped_v):\n",
    "                job_title = modefied_job_title\n",
    "        \n",
    "    return job_title.strip()\n",
    "\n",
    "all_df['job_title'] = all_df['job_title'].apply(lambda x: handle_jobs(str(x),general_replacements,job_mappings))\n",
    "\n"
   ]
  },
  {
   "cell_type": "code",
   "execution_count": 20,
   "metadata": {},
   "outputs": [
    {
     "name": "stdout",
     "output_type": "stream",
     "text": [
      "before\n",
      "3541\n",
      "after\n",
      "3530\n"
     ]
    }
   ],
   "source": [
    "print('before')\n",
    "print(len(all_df))\n",
    "\n",
    "all_df = all_df[~all_df['job_title'].str.contains('call center', na=False, case=False)]\n",
    "all_df = all_df[~all_df['job_title'].str.contains('sales', na=False, case=False)]\n",
    "all_df = all_df[~all_df['job_title'].str.contains('marketing', na=False, case=False)]\n",
    "all_df = all_df[~all_df['job_title'].str.contains('content', na=False, case=False)]\n",
    "all_df = all_df[~all_df['job_title'].str.contains('customer service', na=False, case=False)]\n",
    "all_df = all_df[~all_df['job_title'].str.contains('housekeeping', na=False, case=False)]\n",
    "all_df = all_df[~all_df['job_title'].str.contains('digital', na=False, case=False)]\n",
    "all_df = all_df[~all_df['job_title'].str.contains('customer support', na=False, case=False)]\n",
    "all_df = all_df[~all_df['job_title'].str.contains('client support', na=False, case=False)]\n",
    "\n",
    "\n",
    "print('after')\n",
    "print(len(all_df))\n",
    "\n"
   ]
  },
  {
   "cell_type": "code",
   "execution_count": 21,
   "metadata": {},
   "outputs": [
    {
     "data": {
      "text/plain": [
       "103"
      ]
     },
     "execution_count": 21,
     "metadata": {},
     "output_type": "execute_result"
    }
   ],
   "source": [
    "len(job_mappings.keys())"
   ]
  },
  {
   "cell_type": "markdown",
   "metadata": {},
   "source": [
    "#### Group developers working with rare languages or frameworks under the \"special_development\" category\n"
   ]
  },
  {
   "cell_type": "code",
   "execution_count": 22,
   "metadata": {},
   "outputs": [],
   "source": [
    "job_titles_change=all_df[all_df['job_title'].str.contains('developer',case=False)]['job_title'].value_counts()\n",
    "\n",
    "job_titles_change_1=job_titles_change.index[17:]\n",
    "all_df.loc[all_df['job_title'].isin(job_titles_change_1),'job_title'] = 'special_development'"
   ]
  },
  {
   "cell_type": "markdown",
   "metadata": {},
   "source": [
    "#### Remove jobs that cannot be grouped according to our job mapping criteria"
   ]
  },
  {
   "cell_type": "code",
   "execution_count": 23,
   "metadata": {},
   "outputs": [
    {
     "name": "stdout",
     "output_type": "stream",
     "text": [
      "before\n",
      "3530\n",
      "after\n",
      "3357\n",
      "now the length of unique values for the jobt title is 80\n"
     ]
    }
   ],
   "source": [
    "print('before')\n",
    "print(len(all_df))\n",
    "\n",
    "job_titles_delete=all_df['job_title'].value_counts()[80:].index\n",
    "\n",
    "all_df=all_df[~all_df['job_title'].isin(job_titles_delete)]\n",
    "\n",
    "all_df.reset_index(drop=True,inplace=True)\n",
    "\n",
    "print('after')\n",
    "print(len(all_df))\n",
    "\n",
    "print(f\"now the length of unique values for the jobt title is {len(all_df['job_title'].unique())}\")"
   ]
  },
  {
   "cell_type": "markdown",
   "metadata": {},
   "source": [
    "#### Perform manual analysis to ensure that the 80 selected groups accurately contain jobs relevant to them."
   ]
  },
  {
   "cell_type": "code",
   "execution_count": 24,
   "metadata": {},
   "outputs": [
    {
     "data": {
      "text/plain": [
       "array(['Information Security Engineer',\n",
       "       'Information Security Section Head',\n",
       "       'Senior Specialist - Information Security',\n",
       "       'Information Security Team Leader - GRC',\n",
       "       'Information Security Specialist.',\n",
       "       'Information Security Specialist', 'Information Security Officer',\n",
       "       'Senior Information Security Operations Specialist',\n",
       "       'Senior Information Security Engineer',\n",
       "       'Senior Information Security Officer',\n",
       "       'Information Security Analyst',\n",
       "       'Information Security Compliance Officer/Senior Officer',\n",
       "       'Info Security Assoc Manager', 'Information Security Manager',\n",
       "       'Information Security Consultant', 'Head of Information Security',\n",
       "       'Information Security Team Leader'], dtype=object)"
      ]
     },
     "execution_count": 24,
     "metadata": {},
     "output_type": "execute_result"
    }
   ],
   "source": [
    "all_df[all_df['job_title'] == 'information security engineer']['job_title_basic'].unique()"
   ]
  },
  {
   "cell_type": "code",
   "execution_count": 25,
   "metadata": {},
   "outputs": [
    {
     "data": {
      "text/plain": [
       "job_title\n",
       "full stack developer                220\n",
       "Information Technology              162\n",
       "data analytics                      153\n",
       "cyber security engineer             121\n",
       "mobile developer                    118\n",
       "                                   ... \n",
       "magento developer                     4\n",
       "project coordinator                   3\n",
       "agile coach                           3\n",
       "software implementation engineer      3\n",
       "devsecops engineer                    3\n",
       "Name: count, Length: 80, dtype: int64"
      ]
     },
     "execution_count": 25,
     "metadata": {},
     "output_type": "execute_result"
    }
   ],
   "source": [
    "all_df['job_title'].value_counts()"
   ]
  },
  {
   "cell_type": "markdown",
   "metadata": {},
   "source": [
    "#### now make more general 10 groups so make it easy for the end user to reach its nead"
   ]
  },
  {
   "cell_type": "code",
   "execution_count": 26,
   "metadata": {},
   "outputs": [],
   "source": [
    "job_categories = {\n",
    "    'cybersecurity_and_security_jobs' : [\n",
    "    \"Cybersecurity Analyst\", \"Security Engineer\", \"Penetration Tester (Ethical Hacker)\",\n",
    "    \"Vulnerability Analyst\", \"Incident Response Analyst\", \"SOC Analyst (Security Operations Center Analyst)\",\n",
    "    \"Security Architect\", \"Risk Analyst\", \"Threat Intelligence Analyst\",\n",
    "    \"Identity and Access Management (IAM) Specialist\", \"Cryptographer\", \"Application Security Engineer\",\n",
    "    \"Cloud Security Engineer\", \"Network Security Engineer\", \"Data Privacy Officer\",\n",
    "    \"Cybersecurity Consultant\", \"Digital Forensics Analyst\", \"Red Team Specialist\",\n",
    "    \"Blue Team Specialist\", \"DevSecOps Engineer\", \"Malware Analyst\",\n",
    "    \"Security Awareness Trainer\", \"Compliance Analyst (e.g., GDPR, ISO 27001)\",\n",
    "    \"Security Program Manager\", \"Chief Information Security Officer (CISO)\"\n",
    "    ],\n",
    "    \"Project Management and Leadership\": [\n",
    "        \"Project Manager\", \"Scrum Master\", \"Product Owner\", \"Technical Manager\",\n",
    "        \"Manager Related Jobs\", \"Director Related Jobs\", \"Executive Related Jobs\",\n",
    "        \"Coordinator Related Jobs\",'Project Coordinator','Agile Coach'\n",
    "    ],\n",
    "    \"Software Development\": [\n",
    "        \"Mobile Developer\", \"Software Engineer\", \"Dot Net Developer\", \"Software Developer\",\n",
    "        \"Java Developer\", \"Application Developer\", \"Front End Developer\", \"Python Developer\",\n",
    "        \"Full Stack Developer\", \"Backend Developer\", \"Embedded Developer\", \"PHP Developer\",\n",
    "        \"Angular Developer\", \"React Developer\", \"Laravel Developer\", \"Game Development Jobs\",\n",
    "        \"Low Code/No Code Development\", \"Developer\",'software architect'\n",
    "    ],\n",
    "    \"IT Support and Help Desk\": [\n",
    "        \"IT Help Desk\", \"IT Support\", \"Technical Support Engineer\", \"IT Specialist\",\n",
    "        \"Application Support\", \"IT Back Office\",'Information Technology','IT Service Related Jobs'\n",
    "    ],\n",
    "    \"Network and Security\": [\n",
    "        \"Network Engineer\", \"Network Security Engineer\", \"Information Security Engineer\",\n",
    "        \"Cyber Security Engineer\", \"Infrastructure Engineer\", \"IT Infrastructure\"\n",
    "    ],\n",
    "    \"Database and Systems\": [\n",
    "        \"Database Administrator\", \"Database Developer\", \"System Administrator\", \"System Engineer\",\n",
    "        \"System Analyst\", \"Information System Engineer\"\n",
    "    ],\n",
    "    \"Cloud and DevOps\": [\n",
    "        \"Cloud Engineer\", \"DevOps Engineer\",'DevSecOps Engineer'\n",
    "    ],\n",
    "    \"Specialized Software and Applications\": [\n",
    "        \"WordPress Developer\", \"Oracle Related Job\", \"Odoo Related Jobs\", \"SAP Related Jobs\",\n",
    "        \"Microsoft 365\", \"Microsoft Apps\", \"ERP Related Job\", \"CRM Related Jobs\",'Special_Development'\n",
    "        ,'ERB Related Job','HCM Related Jobs','Software Implementation Engineer','Geospatial Jobs'\n",
    "    ],\n",
    "    \"Data and Analytics\": [\n",
    "        \"Data Analytics\", \"Data Engineer\", \"Data Scientist\", \"Data Governance\", \"FP&A Analyst\",'Analyst'\n",
    "    ],\n",
    "    \"Design and Development\": [\n",
    "        \"Designer\", \"Special Development\",'Game_Development_Jobs'\n",
    "    ],\n",
    "    \"Miscellaneous and Support Roles\": [\n",
    "        \"HR Specialist\", \"Business Tech Jobs\", \"Business Analyst\", \"Consultant Related Jobs\",\n",
    "        \"Operations Related Jobs\", \"Account Manager\", \"Instructor\", \"Technical Specialist\",\n",
    "        \"Technical Office Related Jobs\", \"Intern\", \"Associate\"\n",
    "    ],\n",
    "    \"Testing and Quality Assurance Jobs\": [\n",
    "    \"Software Tester\", \"Quality Assurance Analyst\", \"Test Automation Engineer\", \n",
    "    \"Performance Tester\", \"Manual Tester\", \"Mobile Application Tester\", \n",
    "    \"Quality Engineer\", \"Game Tester\", \"User Acceptance Tester (UAT)\", \n",
    "    \"System Integration Tester\", \"Functional Tester\", \"Regression Tester\", \n",
    "    \"Load Tester\", \"Penetration Tester\", \"Test Lead\", \"Quality Assurance Lead\", \n",
    "    \"SDET (Software Development Engineer in Test)\", \"API Tester\", \n",
    "    \"Database Tester\", \"Test Architect\",'Quality control Analyst','Quality Control Lead'\n",
    "]\n",
    "    \n",
    "}\n",
    "def big_group_handle(job_title,job_dic):\n",
    "    job=job_title.lower()\n",
    "    for i,l_v in job_dic.items():\n",
    "        if any(v.lower() in job for v in l_v):\n",
    "            return i\n",
    "all_df['job_groups']=all_df['job_title'].apply(lambda x:big_group_handle(str(x),job_categories))"
   ]
  },
  {
   "cell_type": "code",
   "execution_count": 27,
   "metadata": {},
   "outputs": [
    {
     "data": {
      "text/plain": [
       "array(['Project Management and Leadership', 'Software Development',\n",
       "       'IT Support and Help Desk', 'Cloud and DevOps',\n",
       "       'Database and Systems', 'Data and Analytics',\n",
       "       'Specialized Software and Applications',\n",
       "       'Testing and Quality Assurance Jobs', 'Design and Development',\n",
       "       'Miscellaneous and Support Roles', 'Network and Security',\n",
       "       'cybersecurity_and_security_jobs'], dtype=object)"
      ]
     },
     "execution_count": 27,
     "metadata": {},
     "output_type": "execute_result"
    }
   ],
   "source": [
    "all_df['job_groups'].unique()"
   ]
  },
  {
   "cell_type": "markdown",
   "metadata": {},
   "source": [
    "### handle he skills column"
   ]
  },
  {
   "cell_type": "code",
   "execution_count": 28,
   "metadata": {},
   "outputs": [
    {
     "data": {
      "text/plain": [
       "array(['IT/Software Development, Engineering - Telecom/Technology, ASP.Net, Software Development, .Net, Full Stack, Computer Science, Information Technology (IT), CSS, HTML, JavaScript, Software Engineering, XML, jQuery, ',\n",
       "       'IT/Software Development, Computer Science, Sitecore, MVC, Information Technology (IT), ',\n",
       "       'IT/Software Development, Engineering - Telecom/Technology, Full Stack Developer, JavaScript, Node.js, React, APIs, Computer Science, Information Technology (IT), Git, Mobile Development, MVC, React Native, RESTful, RESTful APIs, mobile applications, ',\n",
       "       'IT/Software Development, Engineering - Telecom/Technology, Full Stack Developer, JavaScript, Node.js, React, MySQL, Software Development, Git, AWS, Agile, Information Technology (IT), MongoDB, Computer Science, ',\n",
       "       'IT/Software Development, Laravel, PHP, JavaScript, Computer Science, Software Development, React, front-end, back-end, Agile, Git, Information Technology (IT), Node.js, Python, ',\n",
       "       'Business Development, IT/Software Development, Engineering - Telecom/Technology, Computer Science, Java, Engineering, computer, Software Engineering, ',\n",
       "       'IT/Software Development, Engineering - Telecom/Technology, OOP, MV, HTML5, CSS3, RWD, CSS, javaScript, AngularJS, TFS, API, NG2, NODEJS, Computer Science, Front End, Web Development, AJAX, Computer Engineering, Information Technology (IT), Front-End Development, Node.js, Git, LESS, Yeoman, Grunt, Bower, Software Development, Front-End, ',\n",
       "       'Creative/Design/Art, IT/Software Development, Engineering - Telecom/Technology, API, Computer Science, CSS, CSS3, front-end, Git, HTML, Information Technology (IT), JavaScript, Software Development, UI, Bootstrap, React, React.js, next.js, ',\n",
       "       'IT/Software Development, Computer Science, Core Data, Core Animation, APIs, Git, Information Technology (IT), RESTful, Objective-C, iOS, Software Development, RESTful APIs, Swift, ',\n",
       "       'IT/Software Development, Engineering - Telecom/Technology, Engineering - Other, Computer Science, Computer Engineering, Software, Software Development, Information Technology (IT), Java, Engineering, Web Application, ',\n",
       "       'IT/Software Development, Engineering - Telecom/Technology, Engineering - Other, Angular, Angular 8, Azure, Computer Science, CSS3, Database, HTML5, Information Technology (IT), SQL, JavaScript, OOP, Dependency Injection, .Net Framework, ',\n",
       "       'IT/Software Development, Project/Program Management, Engineering - Telecom/Technology, Angular, Computer Science, JavaScript, CSS3, HTML5, Git, front-end, Bootstrap, Software Development, Information Technology (IT), SASS/SCSS, Angular 8, .Net Framework, UX Design, UI Design, JEST, ',\n",
       "       'IT/Software Development, Engineering - Telecom/Technology, Computer Science, Flutter developer, flutter, Software Development, ',\n",
       "       'IT/Software Development, HTML, Engineering, CSS, Information Technology (IT), Software, Software Development, Software Engineering, SQL, Agile, Computer Science, MVC, .Net, Angular, RESTful APIs, Git, C Sharp, ',\n",
       "       'IT/Software Development, Engineering - Telecom/Technology, Angular, Computer Science, CSS, Engineering, Full Stack, JavaScript, jQuery, MySQL, Software Development, Information Technology (IT), HTML, Java, Java Development, Java Software Development, Spring Boot, spring Framework, Spring Data, Full stack engingeer, Full Stack Development, ',\n",
       "       'IT/Software Development, Computer Science, PHP, Software Development, Software Engineering, WordPress, ',\n",
       "       'IT/Software Development, Engineering - Telecom/Technology, Android, Computer Science, APIs, flutter, Git, Information Technology (IT), Mobile Development, iOS, Software Development, UI, RESTful, Development, ',\n",
       "       'IT/Software Development, MySQL, PHP, HTML, CSS, JavaScript, Angular, React, Vue.js, Laravel, ',\n",
       "       'IT/Software Development, .Net, Development, Software Development, ',\n",
       "       'IT/Software Development, Engineering - Telecom/Technology, Engineering - Other, Angular, Computer Science, CSS, Full Stack, JavaScript, jQuery, MVC, Software Development, SQL, HTML, Engineering, Information Technology (IT), Winforms, hardware-integration, Python, embedded inference, Arduino, ESP32, Rockchip, ',\n",
       "       'IT/Software Development, Engineering - Telecom/Technology, ASP.Net, JavaScript, SQL, Git, .Net, Angular, Software Development, ',\n",
       "       'Customer Service/Support, IT/Software Development, Engineering - Telecom/Technology, Solution Architect, Design, Information Technology (IT), Engineering, Computer Science, Software Development, ',\n",
       "       'IT/Software Development, Engineering - Telecom/Technology, Information Technology (IT), computer, Computer Science, Software Development, Software Engineering, Web, C, Engineering, Communication, Agile, Visual Basic, ',\n",
       "       'IT/Software Development, API, AWS, Computer Science, Design, JavaScript, Programming, Software, Software Development, Software Engineering, Information Technology (IT), ',\n",
       "       'Creative/Design/Art, IT/Software Development, CSS, HTML, Bootstrap, MySQL, front-end, ',\n",
       "       'IT/Software Development, Computer Science, backend, Software Development, Software Engineering, RESTful, Node.js, Docker, AWS, API, JavaScript, Typescript, Microservices, ',\n",
       "       'IT/Software Development, Engineering - Other, Backend developer, backend, Computer Science, Information Technology (IT), developer, senior, Software Development, Software Engineering, ',\n",
       "       'IT/Software Development, Engineering - Telecom/Technology, ASP.Net, .Net, CSS, HTML, Python, SQL, Software Engineering, Computer Science, Software Development, ',\n",
       "       'IT/Software Development, ASP.Net, .Net, Computer Science, Git, SQL, MVC, ',\n",
       "       'IT/Software Development, Engineering - Telecom/Technology, Mobile Development, iOS, Programming, APIs, Computer Science, Design, Git, Software, Software Development, RESTful APIs, Swift, Software Engineering, Information Technology (IT), Flutter, iOS Development, ',\n",
       "       'IT/Software Development, Engineering - Telecom/Technology, Computer Science, Full Stack, developer, Full Stack Developer, Software Development, JavaScript, Odoo, Odoo Development, Odoo ERP, Node.js, Angular, DevOps, Information Technology (IT), SQL, Agile, ',\n",
       "       'Installation/Maintenance/Repair, IT/Software Development, Engineering - Telecom/Technology, APIs, CSS, E-Commerce, JavaScript, Magento, PHP, Web Development, MySQL, Information Technology (IT), HTML, Computer Science, SEO, ',\n",
       "       'Customer Service/Support, IT/Software Development, Computer Engineering, Architect, Information Technology (IT), Computer Science, Project Management, ',\n",
       "       'IT/Software Development, Engineering - Telecom/Technology, Agile, ASP.Net, Software Development, Information Technology (IT), MVC, REST, SQL, .Net, Computer Science, Engineering, ',\n",
       "       'IT/Software Development, ASP.Net, Git, Information Technology (IT), Microsoft SQL Server, React, Software Development, SQL, Software Engineering, .Net, ',\n",
       "       'Creative/Design/Art, IT/Software Development, Engineering - Telecom/Technology, Applications, Computer Science, Information Technology (IT), Project Management, mobile applications, Software Engineering, ',\n",
       "       'IT/Software Development, Training/Instructor, Flutter, Firebase, BLOC, Isar Database, JIRA, Bitbucket, Git, SOLID Principles, ChatGPT, Mobile Application Development, Web Application Development, CI/CD, Computer Science, Github, IDE, Information Technology (IT), Software Development, Web, go_router, ',\n",
       "       'IT/Software Development, HTML, CSS, Information Technology (IT), JavaScript, Management, Project Management, Software Development, Web Development, ',\n",
       "       'Administration, IT/Software Development, Engineering - Telecom/Technology, Computer Science, Engineering, Information Technology (IT), Java, MVC, Programmer, Programming, Software, Software Development, Software Engineering, SQL, XML, ',\n",
       "       'IT/Software Development, Development, CSS, front-end, HTML, Information Technology (IT), PHP, SEO, MySQL, Web Development, WordPress, Computer Science, JavaScript, ',\n",
       "       'IT/Software Development, Architect, Business Solution, Computer Science, Information Technology (IT), Solution Architect, Engineering, Business Analysis, Information Systems, Software, Solution Architecture, Azure, AWS, SQL, ',\n",
       "       'IT/Software Development, Engineering - Telecom/Technology, ASP.Net, Computer Engineering, Engineering, .Net, Information Technology (IT), Software Development, SQL, Web Development, Computer Science, JavaScript, jQuery, Software, Software Engineering, ',\n",
       "       'IT/Software Development, Angular, JavaScript, React, Software Development, front-end, Frontend, ',\n",
       "       'IT/Software Development, React, Typescript, Computer Science, React Native, Agile, Software Development, Information Technology (IT), JavaScript, Docker, Engineering, APIs, CSS, ',\n",
       "       'IT/Software Development, Engineering - Telecom/Technology, Back End Developer, Back End, Information Technology (IT), .Net Framework, ASP.NET Core, ASP.Net Web API, C#, Computer Science, Information Technology Institute (ITI), ',\n",
       "       'IT/Software Development, Engineering - Telecom/Technology, PHP, Information Technology (IT), Computer Science, Software Engineering, Software, Software Development, MySQL, ',\n",
       "       'IT/Software Development, CSS, HTML, JavaScript, Laravel, PHP, WordPress, APIs, developer, Computer Science, Information Technology (IT), Git, MVC, MySQL, SEO, ',\n",
       "       'IT/Software Development, Engineering - Telecom/Technology, .Net, Architecture, AWS, Azure, Computer Engineering, Cloud, Computer Science, DevOps, Design, Information Technology (IT), Software, Software Development, ',\n",
       "       'Creative/Design/Art, IT/Software Development, Engineering - Telecom/Technology, Information Technology (IT), Software Development, jQuery, HTML, Angular, JavaScript, Software Engineering, AngularJS, Computer Science, Angular.js, ',\n",
       "       'IT/Software Development, Engineering - Telecom/Technology, Computer Science, Development, Information Technology (IT), JavaScript, Software, Software Development, Front-End Development, Angular, ',\n",
       "       'IT/Software Development, ITI Graduate, .Net Development, AWS, PostgreSQL, ',\n",
       "       'IT/Software Development, Front-End Development, AWS, React.js, ',\n",
       "       'IT/Software Development, Engineering - Telecom/Technology, Bootstrap, Computer Science, Agile, front-end, CSS3, HTML5, Information Technology (IT), JavaScript, Software Development, Web Development, Git, Vue.js, UI, ',\n",
       "       'IT/Software Development, Engineering - Telecom/Technology, Information Technology (IT), PHP, Software Development, Programming, Laravel, JavaScript, HTML5, front-end, Yii, CodeIgniter, ',\n",
       "       'IT/Software Development, Engineering - Telecom/Technology, Angular, Computer Science, Information Technology (IT), React Native, React, Software Development, Engineering, Software Engineering, ',\n",
       "       'IT/Software Development, Computer Science, JavaScript, React, Information Technology (IT), PHP, Software Development, ',\n",
       "       'Installation/Maintenance/Repair, IT/Software Development, Engineering - Telecom/Technology, APIs, PHP, Software Development, AWS, ',\n",
       "       'IT/Software Development, React, Software, HTML5, CSS3, JavaScript, Software Development, ',\n",
       "       'IT/Software Development, Engineering - Telecom/Technology, .Net, Computer Science, Information Technology (IT), Agile, Visual Basic, Web, ',\n",
       "       'Creative/Design/Art, IT/Software Development, Engineering - Telecom/Technology, Information Technology (IT), Computer Science, Angular, Software, Software Development, JavaScript, HTML5, ',\n",
       "       'IT/Software Development, APIs, Computer Science, English, Information Technology (IT), React Native, REST, Software Development, ',\n",
       "       'IT/Software Development, flutter, developer, Flutter developer, Software Development, Computer Science, Software, ',\n",
       "       'IT/Software Development, Engineering - Telecom/Technology, Communication skills, Communication, Communication Engineering, Communications Engineering, Computer Science, Computer Programs, Computer Engineering, Computer Systems, Information Systems, Information Technology (IT), JavaScript, Graphic Design, Design, WordPress, PHP, HTML, Troubleshooting, SEO, CSS, ',\n",
       "       'IT/Software Development, Engineering - Telecom/Technology, Information Technology (IT), Oracle, Software Development, Oracle Forms, ',\n",
       "       'IT/Software Development, Agile, ASP.Net, .Net, Information Technology (IT), Software Development, SQL, RESTful, ',\n",
       "       'IT/Software Development, Engineering - Telecom/Technology, .Net, Software Engineering, Agile, Computer Science, Software Development, Angular2, SQL, ',\n",
       "       'IT/Software Development, Engineering - Telecom/Technology, Information Technology (IT), Java, Software, Linux, MySQL, Software Development, PHP, Engineering, Design, Development, Spring Boot, ',\n",
       "       'Installation/Maintenance/Repair, IT/Software Development, Engineering - Telecom/Technology, Application Development, ASP.Net, .Net, Computer Science, Git, Engineering, Information Technology (IT), Software Development, MVC, JSON, Software Engineering, SQL, ',\n",
       "       'IT/Software Development, Angular, Ionic, Information Technology (IT), Development, Computer Science, front-end, ',\n",
       "       'IT/Software Development, Engineering - Telecom/Technology, AWS, APIs, RESTful, Python, Software Engineering, Computer Science, Design, Git, Information Technology (IT), MySQL, Programming, React, REST, Software Development, ',\n",
       "       'IT/Software Development, Agile, Android, Computer Science, Git, Information Technology (IT), MVC, Software, Java, Software Engineering, UI, Kotlin, ',\n",
       "       'IT/Software Development, Project/Program Management, Engineering - Telecom/Technology, Information Systems, ERP, CRP, Microsoft Dynamics, Information Technology (IT), ERP SolutionS, Solution Architecture, Business Analysis, ',\n",
       "       'IT/Software Development, Engineering - Telecom/Technology, computer, Computer Science, English, Information technology, Software Engineering, Software Development, Technical Support, Information Technology (IT), SQL, Microsoft SQL Server, ERP Software, ',\n",
       "       'IT/Software Development, Engineering - Telecom/Technology, Computer Science, Information Technology (IT), JavaScript, Software Development, React.js, next.js, frontend, software, web, ',\n",
       "       'IT/Software Development, Mobile, Android, Flutter, iOS Development, ',\n",
       "       'IT/Software Development, Computer Science, Engineering, Python, Docker, Node.js, Backend Engineering, Software Development, Software Engineering, ',\n",
       "       'IT/Software Development, Node.js, React.js, Full Stack Development, ',\n",
       "       'IT/Software Development, Development, Information Technology (IT), JavaScript, Design, Software Development, Software, Agile, Computer Science, CSS, Engineering, HTML, Java, ',\n",
       "       'IT/Software Development, Engineering - Telecom/Technology, Computer Science, Engineering, Information Technology (IT), Software Development, Python, Django, ',\n",
       "       'Engineering - Construction/Civil/Architecture, IT/Software Development, Engineering - Telecom/Technology, Agile, Angular, Computer Science, Development, Information Technology (IT), Management, Software Engineering, Node.js, Project Management, quality, Software, Software Development, Educational Technology, ',\n",
       "       'IT/Software Development, Engineering - Telecom/Technology, .Net, Computer Science, Software Engineering, Software Development, SQL, Web Development, Information Technology (IT), JavaScript, XML, HTML, ',\n",
       "       'IT/Software Development, Agile, Information Technology (IT), Programming, Software Development, Troubleshooting, Web Development, React, JavaScript, Computer Science, OOP, Design, ',\n",
       "       'IT/Software Development, Engineering - Telecom/Technology, Android, iOS, flutter, .Net, Mobile Development, ',\n",
       "       'IT/Software Development, Engineering - Telecom/Technology, Android, .Net, ASP.Net, Computer Science, Information Technology (IT), Programming, JavaScript, Development, Software Development, SQL, Software Engineering, Software, c#, ',\n",
       "       'IT/Software Development, Engineering - Telecom/Technology, Computer Science, Full Stack, HTML, CSS, ERP, jQuery, PHP, CMS, MySQL, Front End, Back End, Javascript, English, Software Development, Back-End Development, Front-End Development, ',\n",
       "       'IT/Software Development, Engineering - Telecom/Technology, Laravel, PHP, SEO, Development, Computer Science, Information Technology (IT), ',\n",
       "       'Installation/Maintenance/Repair, IT/Software Development, Engineering - Telecom/Technology, .Net, Computer Science, Engineering, SQL, Software Engineering, ',\n",
       "       'IT/Software Development, Engineering - Telecom/Technology, .Net, Angular, Computer Science, CSS, Engineering, HTML, Information Technology (IT), JavaScript, jQuery, Software Development, SQL, MySQL, ',\n",
       "       'IT/Software Development, React Native, React, Redux, C Sharp, ',\n",
       "       'IT/Software Development, Engineering - Telecom/Technology, Full Stack Developer, developer, Computer Science, JavaScript, Information Technology (IT), Full Stack, Angular, CSS, HTML, Java, ',\n",
       "       'IT/Software Development, Node.js, MongoDB, backend, Computer Science, Design, Docker, Frontend, Information Technology (IT), Programming, Software Development, Software Engineering, UI, ',\n",
       "       'IT/Software Development, Kotlin, backend, Software, PHP, MySQL, AWS, Software Engineering, Software Development, ',\n",
       "       'Creative/Design/Art, IT/Software Development, Engineering - Telecom/Technology, Software Development, Computer Science, HTML, Information Technology (IT), jQuery, JSON, SQL, Web Development, front-end, JavaScript, APIs, CSS, ',\n",
       "       'IT/Software Development, Engineering - Telecom/Technology, Angular, APIs, Computer Science, CSS, HTML, Information Technology (IT), Agile, JavaScript, Git, MongoDB, Software Development, Node.js, ',\n",
       "       'IT/Software Development, Engineering - Telecom/Technology, Android, Information Technology (IT), REST, JSON, Maintenance, Mobile application, Software, Computer Science, Software Development, Software Engineering, Troubleshooting, Mobile Development, Development, Engineering, Git, Database, Kotlin, jetpack compose, ',\n",
       "       'IT/Software Development, Engineering - Telecom/Technology, Software Development, Information Technology (IT), Mobile Development, Objective-C, iOS, Mobile Applications, iOS Development, OOP, MVC, REST, Engineering, Computer Science, Software Engineering, Swift, Development, APIs, Programming, UIkit, swiftui, ',\n",
       "       'Creative/Design/Art, IT/Software Development, Engineering - Telecom/Technology, .Net, Angular, Computer Science, CSS, Engineering, HTML, Information Technology (IT), JavaScript, jQuery, Software Development, Web Development, SQL, ',\n",
       "       'IT/Software Development, Engineering - Telecom/Technology, Computer Science, Information Technology (IT), PHP, Software Development, Laravel Framework, Laravel PHP, ',\n",
       "       'Installation/Maintenance/Repair, IT/Software Development, Engineering - Telecom/Technology, IOT, Engineering, Computer Science, Information Technology (IT), MQTT, Embedded Systems, Python, Azure, AWS, ',\n",
       "       'Business Development, IT/Software Development, C, C++, C#, Computer Science, Programming, Software Development, Skills, ',\n",
       "       'IT/Software Development, Engineering - Telecom/Technology, Computer Science, Mobile Development, React Native, iOS, Expo, AWS, javaScript, Node.js, Express.js, Android, GitHub, Information Technology (IT), Software Development, REST, React, Native, Git, ',\n",
       "       'IT/Software Development, PHP, Laravel, HTML5, MYSQL, CSS3, JavaScript, JQuery, RESTful APIs, OOP, MVC, Laravel PHP Developer, Git, Software Development, jQuery, Computer Science, ',\n",
       "       'IT/Software Development, .Net, ASP.Net, Software, Software Development, SQL, MVC, ',\n",
       "       'IT/Software Development, Engineering - Telecom/Technology, .Net, Angular, ASP.Net, Computer Science, CSS, HTML, Information Technology (IT), JavaScript, jQuery, Software Development, SQL, Web Development, ',\n",
       "       'IT/Software Development, Android, Computer Science, Software Development, Software Engineering, ',\n",
       "       'IT/Software Development, computer, Computer Science, Customer Service, XML, HTML, Integration, Troubleshooting, Technical Support, ',\n",
       "       'IT/Software Development, Engineering - Telecom/Technology, Information Technology (IT), Software Development, Software Engineering, OOP, ASP.NET, C#.Net, ADO.NET, SQL, MySQL, javaScript, Query, HTML, CSS, jQuery, Angular, MSSQL, OOAD, .NET, MVC, C#, HTML5, Computer Science, Computer Engineering, AngularJS, Angular4, Angular2, Angular 8, .NET 4.5, Engineering, Angular 8+, ASP.NET Core, 3/N-Tier Architecture, ',\n",
       "       'IT/Software Development, Node.js, MySQL, REST, ',\n",
       "       'IT/Software Development, Engineering - Telecom/Technology, Computer Science, Engineering, Full Stack, Software Development, HTML5, Information Technology (IT), Git, JavaScript, MySQL, PHP, React, CSS3, ',\n",
       "       'IT/Software Development, Engineering - Telecom/Technology, Computer Science, Full Stack, developer, Full Stack Developer, senior, ',\n",
       "       'IT/Software Development, .Net Framework, C#, Computer Science, Software Development, Information Technology (IT), JIRA, Software Engineering, Agile, SQL, React, ',\n",
       "       'IT/Software Development, Information Technology (IT), Computer Science, ',\n",
       "       'Business Development, IT/Software Development, PHP, APIs, Agile, HTML5, MySQL, Software Engineering, JavaScript, Software Development, ',\n",
       "       'IT/Software Development, Engineering - Telecom/Technology, React, react frontend, frontend developer, Computer Science, Angular, Software Development, CSS, HTML, Information Technology (IT), JavaScript, Vue, ',\n",
       "       'IT/Software Development, Engineering - Telecom/Technology, developer, laravel developer, Computer Science, Information Technology (IT), PHP, Laravel, ',\n",
       "       'Business Development, IT/Software Development, Engineering - Telecom/Technology, Computer Science, desktop, developer, Information Technology (IT), senior, Software Development, Software Engineering, SQL, Software, Programming, OOP, Git, Engineering, ',\n",
       "       'IT/Software Development, Engineering - Telecom/Technology, JavaScript, Angular, Computer Science, Java, MySQL, Information Technology (IT), PostgreSQL, Software Development, Spring, Hibernate, Azure, AWS, ',\n",
       "       'IT/Software Development, Mid-Senior Laravel FullStack Developer, Laravel framework, Vue.js, GraphQL, Software Testing, PHP, MVC, Object-Oriented Programming, SQL Database, MySQL, query languages, Algorithms, Git, RESTful APIs, software design patterns, software architectural patterns, CI/CD, TDD, Information Technology (IT), Programming, Software, ',\n",
       "       'IT/Software Development, Engineering - Telecom/Technology, Android, back-end, APIs, computer, Computer Science, Information Technology (IT), Offline storage, RESTful, RESTful APIs, Software Development, Software Engineering, Threading, English, Communication, Troubleshooting, Mobile Development, Software, Java, XML, ',\n",
       "       'IT/Software Development, Engineering - Telecom/Technology, Engineering, Computer Science, Information Technology (IT), Oracle, SQL, Asp.Net, MVC, HTML5, CSS, AJAX, jQuery, javaScript, XML, AngularJS, ASP.NET, Web Development, Web Design, .NET, Angularjs, Angular 6, HTML, JavaScript, CSS3, Wireframes, Visual Design, GIT, VSTS, C#, ',\n",
       "       nan,\n",
       "       'IT/Software Development, Engineering - Telecom/Technology, Agile, Angular, front-end, ',\n",
       "       'IT/Software Development, PHP, Web Development, MVC, Laravel, ',\n",
       "       'IT/Software Development, Engineering - Telecom/Technology, coding, Computer Science, HTML, Software Development, Web Development, Websites, CSS, ',\n",
       "       'Business Development, IT/Software Development, Engineering - Telecom/Technology, Computer Science, HTML, Laravel, MySQL, PHP, Software Development, Software Engineering, jQuery, JavaScript, Information Technology (IT), CSS, Git, ',\n",
       "       'Business Development, IT/Software Development, Engineering - Telecom/Technology, Computer Science, Design, Engineering, Information Technology (IT), Software Development, Software Engineering, ',\n",
       "       'IT/Software Development, Software Development, Artificial Intelligence (AI), process automation, ',\n",
       "       'IT/Software Development, .Net, Angular, Engineering, SQL, Software Development, Computer Science, ASP.Net, HTML5, Full Stack, ',\n",
       "       'IT/Software Development, Engineering - Telecom/Technology, Algorithms, Computer Science, Information Technology (IT), Software Engineering, Software Development, Programming, Python, Database, React, JavaScript, Typescript, Communication, Frameworks, Cloud, Microservices, ',\n",
       "       'IT/Software Development, Full Stack, Node.js, React, React.js, Next.js, Software Development, APIs, Git, NoSQL, RESTful, Information Technology (IT), JavaScript, Computer Science, ',\n",
       "       'IT/Software Development, Marketing/PR/Advertising, Full Stack, Angular, Computer Science, CSS, HTML, Information Technology (IT), JavaScript, jQuery, MySQL, Software Development, Software Engineering, SQL, Docker, Node.js, Python, ',\n",
       "       'IT/Software Development, Git, CSS, HTML, Vue.js, ',\n",
       "       'IT/Software Development, Node.js, React.js, next, nest.js, MySQL, MongoDB, ',\n",
       "       'IT/Software Development, Laravel, Software Development, ',\n",
       "       'IT/Software Development, HTML, website, WordPress, excel formulas, Technical Support, WooCommerce, WordPress Development, CSS, Information Technology (IT), Computer Science, ',\n",
       "       'IT/Software Development, Vue.js, Vue,js, JavaScript, Nuxt, Frontend, ',\n",
       "       'IT/Software Development, software developer, Software, developer, Computer Science, Software Development, Software Engineering, MySQL, PHP Development, PHP, JavaScript, python development, CSS, HTML, AI, ',\n",
       "       'IT/Software Development, javaScript Frameworks, React, dotNet, .Net Framework, Front-End Development, Full Stack Development, ',\n",
       "       'IT/Software Development, HTML5, HTML, JavaScript, PHP, Software Development, Computer Science, Information Technology (IT), SQL, CSS, jQuery, MVC, MySQL, ',\n",
       "       'Accounting/Finance, Banking, IT/Software Development, Full Stack Development, Angular, Java, JavaScript, CI/CD, Spring, Microservices, RESTful API, HTML, CSS, ',\n",
       "       'IT/Software Development, Engineering - Telecom/Technology, .Net, Angular, ASP.Net, Computer Science, HTML5, Information Technology (IT), JavaScript, jQuery, JSON, MVC, Software Development, SQL, ',\n",
       "       'IT/Software Development, Engineering - Telecom/Technology, AJAX, Computer Science, Development, HTML, Information Technology (IT), JavaScript, Oracle, PHP, SOAP, Software Development, SQL, XML, ',\n",
       "       'IT/Software Development, Computer Science, Customer Service, Help desk, Information Technology (IT), Technical Support, technical, Support, troubleshoot, Communication, Computer Systems, IT, ',\n",
       "       'IT/Software Development, Azure, ASP.Net, Angular, .Net, CSS, Git, HTML, JavaScript, Software Development, SQL, ',\n",
       "       'IT/Software Development, Engineering - Telecom/Technology, Programming, developer, Software Development, Information Technology (IT), ',\n",
       "       'IT/Software Development, Engineering - Telecom/Technology, .Net, NET, MVC, Software Development, ',\n",
       "       'IT/Software Development, APIs, Computer Science, CSS, Git, HTML, Information Technology (IT), JavaScript, React Native, React, RESTful, Software Development, Web Development, Mentoring, Team Leadership, testing frameworks, Software Testing, ECMAScript (ES6), Optimize frontend code, code review, GraphQL, Jest, Jasmine, Mocha, Web Security, lazy loading, mobile-friendly web interfaces, React.js, ',\n",
       "       'IT/Software Development, Engineering - Telecom/Technology, Computer Science, Computer Engineering, Information Technology (IT), ASP.NET, ASP, .NET, MVC, JSON, HTML, Git, C#, LINQ, CSS, javaScript, SQL, Software Development, jQuery, ',\n",
       "       'Creative/Design/Art, IT/Software Development, Engineering - Telecom/Technology, APIs, Computer Science, CSS, Engineering, Git, HTML, Information Technology (IT), JavaScript, Programming, Software, React, Software Development, Java, Node.js, Front Office Management, Front-End Development, front-end web development, FrontEnd, Front End, ',\n",
       "       'IT/Software Development, Engineering - Telecom/Technology, CSS3, HTML, HTML5, JavaScript, jQuery, WordPress, Git, Amazon AWS, Xml Web Services, JSON, Computer Science, ',\n",
       "       'IT/Software Development, Engineering - Telecom/Technology, ASP.NET, ADO.NET, C#.Net, .NET, .NEt Full Stack Developer, Full Stack Developer, java, Python, HTML, MS SQL, MongoDB, UI/UX design, Angular, Full Stack, Computer Science, Apache, UI, UX, MySQL, Oracle, CSS, JavaScript, Java, C#, Software Development, Software Engineering, Software, Information Technology (IT), SQL, Agile, Microservice Architecture, RabbitMQ, ',\n",
       "       'IT/Software Development, .Net, .Net Framework, Information Technology (IT), SQL, Angular, Computer Science, Software Development, Full Stack Development, ',\n",
       "       'IT/Software Development, Engineering - Telecom/Technology, ASP.NET, Information Technology (IT), .NET, jQuery, Software Development, Computer Science, javaScript, C#, Computer Engineering, TFS, HTML, API, REST, RPC, ASP.NET MVC, English, ASP, Software Engineering, ',\n",
       "       'IT/Software Development, Engineering - Telecom/Technology, Computer Science, Information Technology (IT), Software Development, Software Engineering, PHP, javaScript, Laravel, MySQL, Back-End, Web Development, Git, CSS, Software, ',\n",
       "       'IT/Software Development, Laravel, Full Stack, Software Development, PHP, MySQL, APIs, RESTful, Computer Science, Bootstrap, Vue, Software, Js, Vue.js, Information Technology (IT), Development, ',\n",
       "       'IT/Software Development, React, Angular, front-end, Software Development, Git, ',\n",
       "       'Creative/Design/Art, IT/Software Development, Engineering - Telecom/Technology, Angular, Computer Science, front-end, HTML, JavaScript, React, Software Development, ',\n",
       "       'Creative/Design/Art, IT/Software Development, Engineering - Telecom/Technology, back-end, Computer Science, HTML, Information Technology (IT), PHP, Software Development, Software Engineering, Web Development, JavaScript, front-end, ',\n",
       "       'IT/Software Development, ASP.NET, Software Development, .NET, Information Technology (IT), Full Stack, Computer Science, Computer Engineering, Database Design, Data Modeling, Process Modeling, ERP, DFD, C#, CSS3, javaScript, HTML5, jQuery, Angular, ADO.NET, Entity Framework, SOLID, SolidWorks, ',\n",
       "       'Creative/Design/Art, IT/Software Development, Engineering - Telecom/Technology, Angular, Computer Science, Information Technology (IT), Java, MongoDB, PHP, React, Software Development, MySQL, ',\n",
       "       'Creative/Design/Art, IT/Software Development, Design, Information Technology (IT), PHP, Programming, JavaScript, SQL, HTML, WordPress, UX, ui, CSS, Computer Science, ',\n",
       "       'Customer Service/Support, IT/Software Development, Engineering - Telecom/Technology, Architecture, Banking, computer, Cloud, Computer Engineering, Computer Science, Engineering, Information technology, Information Technology (IT), Integration, TOGAF, API, ',\n",
       "       'IT/Software Development, Project/Program Management, Engineering - Telecom/Technology, blazor, MVC, ASP.NET Core, c#.net, ASP.net MVC 5, ',\n",
       "       'IT/Software Development, next, React.js, frontend, Web Development, ',\n",
       "       'IT/Software Development, PHP, Information Technology (IT), Laravel, Software Development, Engineering, ',\n",
       "       'IT/Software Development, .Net, Angular, ASP.Net, MVC, ',\n",
       "       'IT/Software Development, Senior Frontend Developer, Vue.js / Vue 3, JavaScript / TypeScript, Remote Work, CSS3, HTML5, Sass, CRM Software Development, Computer Science, CSS, Agile, JavaScript, Software Development, HTML, Git, Software Engineering, NuxtJs, ',\n",
       "       'IT/Software Development, Engineering - Telecom/Technology, Full Stack, Software Development, Microservice Architecture, ASP.NET Core, JavaScript, Front-End Development, HTML, CSS, jQuery, SOLID OOP Principles, Architecture Design, Design Patterns, ',\n",
       "       'IT/Software Development, Computer Science, Information Technology (IT), flutter, Software Development, ',\n",
       "       'IT/Software Development, APIs, backend, Engineering, AWS, Git, MySQL, Python, Django Framework, PostgreSQL, RESTful APIs, SQL, ',\n",
       "       'IT/Software Development, Engineering - Telecom/Technology, CSS, JavaScript, jQuery, MVC, Angular, SQL, Software Development, ASP.Net, .NET Core MVC, ',\n",
       "       'IT/Software Development, .Net, Software Development, SQL, Information Technology (IT), Computer Science, Web Development, HTML5, ASP.Net, ',\n",
       "       'IT/Software Development, PHP, React.js, Vue.js, Magento, CSS, MySQL, GraphQL, JS, Development, full-stack, Shopify, JavaScript, Laravel, ',\n",
       "       'IT/Software Development, Engineering - Telecom/Technology, Node.js, React Native, JavaScript, jQuery, ',\n",
       "       'IT/Software Development, React, Typescript, tailwind, Redux, Computer Science, Information Technology (IT), CSS, Agile, Software Development, Docker, JavaScript, Engineering, APIs, ',\n",
       "       'IT/Software Development, Engineering - Telecom/Technology, developer, Django, Django Developer, Information Technology (IT), Software Development, Computer Science, Remote, Python, ',\n",
       "       'IT/Software Development, Computer Science, Software Development, Python, ',\n",
       "       'IT/Software Development, Engineering - Telecom/Technology, Back End, JavaScript, Java, Computer Science, Spring Boot, PostgreSQL, SQL, RESTful APIs, Git, SOLID OOP Principles, ',\n",
       "       'IT/Software Development, Full Stack Developer, JavaScript, APIs, Software Development, HTML, CSS, MySQL, React, REST, SQL, Angular, Computer Science, ',\n",
       "       'Creative/Design/Art, IT/Software Development, Engineering - Telecom/Technology, Information Technology (IT), Software Development, javaScript, React Native, Android, React, Computer Science, Design, APIs, Agile, Git, REST, Jira, ',\n",
       "       'IT/Software Development, Engineering - Telecom/Technology, APIs, Computer Science, .Net, Information Technology (IT), Software Development, Software Engineering, SQL, ASP.NET Core, RESTful, SDLC, Entity Framework, Redis, RabbitMQ, Docker, Microsoft Azure, ',\n",
       "       'IT/Software Development, Engineering - Telecom/Technology, back-end, Computer Science, Development, Engineering, Information Technology (IT), Full-Stack, Programming, Software Development, Web Development, Software, Web, ',\n",
       "       'IT/Software Development, Engineering - Telecom/Technology, Computer Science, Information Technology (IT), javaScript, CSS, CSS3, Software Development, Angular2+, Angular, Sass, UI, Development, OOP, REST, APIs, SEO, front-end, HTML5, ',\n",
       "       'IT/Software Development, Engineering - Telecom/Technology, Information Technology (IT), Java, OOP, Computer Science, Development, Spring Boot, spring Framework, SOAP, REST, jBPM, SQL, Software Architecture, Financial Services, Angular, HTML, JavaScript, CSS3, Software Development, Design, Engineering, ',\n",
       "       'IT/Software Development, Engineering - Telecom/Technology, Computer Science, Full Stack, Full Stack Developer, senior, Software Development, Stack, Information Technology (IT), Angular, .Net, front-end, Software, ',\n",
       "       'IT/Software Development, Engineering - Telecom/Technology, Agile, xUnit, ASP.NET Core, quality, Software Testing, QA, Regression Testing, Computer Science, Quality Assurance, Information Technology (IT), Testing, Software, ',\n",
       "       'Creative/Design/Art, IT/Software Development, Engineering - Telecom/Technology, boot, Computer Science, developer, Framework, Information Technology (IT), Java, Java web, Software Development, Spring, Web, web developer, Web Development, Computer Engineering, CSS, Engineering, HTML, JavaScript, RESTful, SQL, ',\n",
       "       'IT/Software Development, Software Development, Computer Science, ',\n",
       "       'IT/Software Development, Engineering - Telecom/Technology, PHP, Development, JavaScript, Software Development, Web, Laravel Framework, API, ',\n",
       "       'IT/Software Development, backend, Backend developer, Computer Science, Software Development, Software Engineering, developer, Node.js, API, APIs, Git, Information Technology (IT), JavaScript, MongoDB, MySQL, RESTful, ',\n",
       "       'IT/Software Development, Java, JavaScript, ',\n",
       "       'IT/Software Development, Java Spring Boot, Java, Software Development, IT, Software Engineering, Information Technology (IT), Computer Science, ',\n",
       "       'IT/Software Development, developer, Java, senior, Java Developer, Software Development, Software Engineering, ',\n",
       "       'IT/Software Development, Engineering - Telecom/Technology, Bootstrap, Computer Science, Development, Information Technology (IT), HTML5, CSS3, Agile, NodeJS, PHP, JavaScript, Software Development, Software Engineering, ',\n",
       "       'IT/Software Development, Engineering - Telecom/Technology, Computer Science, Information Technology (IT), Insurance, JIRA, Leads, Hybrid, Medical, senior, Python, Software Development, Software Engineering, ',\n",
       "       'IT/Software Development, Engineering - Telecom/Technology, PHP, Computer Science, Laravel, HTML5, CSS3, MVC, Programming, javaScript, Information Technology (IT), Servers, Git, Front-End, Software Development, Software Engineering, ',\n",
       "       'IT/Software Development, Engineering - Telecom/Technology, Information Technology (IT), CSS, javaScript, HTML5, Vue, CSS3, React, SASS, LESS, Computer Science, Development, SEO, Engineering, Software Development, Computer Engineering, Flutter, React Native, Software Engineering, ',\n",
       "       'IT/Software Development, .Net, Angular, Information Technology (IT), OOP, JavaScript, Computer Science, ',\n",
       "       'IT/Software Development, Engineering - Telecom/Technology, Android, Mobile Applications, Mobile App, API, Software Development, Software, IOT, Information Technology (IT), ITI, Design, Computer Science, Computer Engineering, Android Engineering, Android SDK, RESTful APIs, Android UI, SDK, Mobile Development, Software Engineering, UI, REST, Engineering, APIs, ',\n",
       "       'IT/Software Development, Computer Science, Development, CSS3, HTML5, Information Technology (IT), Software Development, WordPress, Software Engineering, ',\n",
       "       'IT/Software Development, Engineering - Telecom/Technology, Engineering - Mechanical/Electrical, Electrical Engineering, Engineering, engineer, smart homes, smart, Information Technology (IT), Automation, Installation, KNX, Home Automation, Smart Home, ',\n",
       "       'IT/Software Development, Engineering - Telecom/Technology, Back-End Developer, back-end, PHP, PHP Framework, developer, Framework, Symfony, Symfony Framework, ',\n",
       "       'IT/Software Development, Engineering - Telecom/Technology, PHP, Laravel, Leadership, Symfony, Symfony Framework, Information Technology (IT), Software Development, Software Engineering, ',\n",
       "       'IT/Software Development, Engineering - Telecom/Technology, Full Stack, Computer Science, Software Development, ',\n",
       "       'IT/Software Development, Full Stack, Full Stack Developer, Information Technology (IT), PHP Laravel, Laravel, Computer Science, developer, Stack, ',\n",
       "       'IT/Software Development, Engineering - Telecom/Technology, .Net, ADO.Net, ASP.Net, Computer Science, Information Technology (IT), jQuery, JSON, OOP, Software Development, SQL, Web Development, ASP.NET Web Forms, c#, ',\n",
       "       'IT/Software Development, HTML, CSS, jQuery, JavaScript, RESTful, Bootstrap, UI Developer, UI, ',\n",
       "       'IT/Software Development, Angular, Computer Science, CSS, Engineering, HTML, Information Technology (IT), JavaScript, MySQL, PHP, Software Development, Software Engineering, SQL, ',\n",
       "       'IT/Software Development, Engineering - Telecom/Technology, Computer Science, Dynamics, Information Technology (IT), Engineering, JavaScript, HTML, Microsoft, Software Development, CSS, ',\n",
       "       'IT/Software Development, Manufacturing/Production, Engineering - Telecom/Technology, C#, Engineering, Computer Science, Programming, Electronics, .NET, Software Development, Problem Solving, Information Technology (IT), Winforms, ',\n",
       "       'IT/Software Development, Engineering - Telecom/Technology, Computer Science, English, HTML, Git, XML, Software Development, Information Technology (IT), Software Engineering, JIRA, Java, Android, Kotlin, Jetpack compose, Android Development, Android Application Development, Android OS, Android SDK, Android Programming, Android Application, ',\n",
       "       'IT/Software Development, DevOps, Computer Science, Information Technology (IT), Kubernetes, NodeJS, Software, Software Development, Engineering, computer, Cloud, Software Engineering, Science, ',\n",
       "       'IT/Software Development, Computer Science, Software Engineering, Information Technology (IT), Mobile Development, Software Development, google, API, Mobile, UX, ui, Engineering, Design, ',\n",
       "       'IT/Software Development, Angular, Computer Science, Frontend, HTML, Git, Information Technology (IT), Software Development, Software Engineering, CSS, Design, ui, UX, ',\n",
       "       'IT/Software Development, Angular, Ionic, JavaScript, ',\n",
       "       'IT/Software Development, Solution Architecture, Software Development, Information Technology (IT), ',\n",
       "       'IT/Software Development, MongoDB, CSS3, Node.js, React, ',\n",
       "       'IT/Software Development, Engineering - Telecom/Technology, Software Development, Software, Software Engineering, Computer Science, Development, Python, Angular, AWS, Engineering, Information Technology (IT), Testing, Troubleshooting, .Net Framework, ',\n",
       "       'IT/Software Development, Information Technology (IT), Computer Science, Programming, Software, .Net, ',\n",
       "       'IT/Software Development, JavaScript, javascript developer, Front-End Development, ',\n",
       "       'IT/Software Development, backend, Development, PHP, Laravel, Software Development, Software, Information Technology (IT), ',\n",
       "       'IT/Software Development, Quality, Engineering - Telecom/Technology, Information Technology (IT), Computer Science, Software Development, .NET, C#, ASP.NET, javaScript, Computer Engineering, HTML, Engineering, CSS, Software, Software Engineering, Arabic, English, Angular, blazor, Database, SQL, Development, Agile, MVC, ',\n",
       "       'IT/Software Development, Programming, Software Development, Computer Science, mobile application, Information Technology (IT), backend, ',\n",
       "       'IT/Software Development, Information Technology (IT), flutter, Software Engineering, IT Service Management, IT field, Software Development, BLOc, Cubit, Git, flutter web, ',\n",
       "       'IT/Software Development, Engineering - Telecom/Technology, Information Technology (IT), Computer Science, Development, Software Engineering, ERP, Oracle, Software Development, .Net Development, Back-End Development, C#, ',\n",
       "       'Business Development, IT/Software Development, Project/Program Management, Software Development, jQuery, Computer Science, Web Development, SQL, Information Technology (IT), Software, MVC, JavaScript, CSS, .Net, ',\n",
       "       'IT/Software Development, Business Processes, Business Requirement Document, Application Development, ',\n",
       "       'IT/Software Development, Engineering - Telecom/Technology, Computer Science, Android, Mac OS, Software, Software Engineering, Information Technology (IT), computer, Engineering, Science, Software Development, Mobile Development, Development, backend, ',\n",
       "       'IT/Software Development, Engineering - Telecom/Technology, Engineering, APIs, PHP, Back-End Development, Full Stack Development, Computer Science, Information Technology (IT), MVC, Software, Software Development, phalcon, ',\n",
       "       'IT/Software Development, Java, Software Development, ',\n",
       "       'IT/Software Development, Project/Program Management, Engineering - Telecom/Technology, iOS, Objective-C, Information Technology (IT), Agile, APIs, Computer Science, Core Data, Core Animation, Software Development, Git, Engineering, Swift, ',\n",
       "       'IT/Software Development, Engineering - Telecom/Technology, Android, APIs, Computer Science, Development, flutter, Engineering, Design, Information Technology (IT), JSON, Mobile Development, RESTful, Git, ',\n",
       "       'IT/Software Development, Engineering - Telecom/Technology, HTML, Information Technology (IT), Design, CSS, Computer Science, Development, Software Development, PHP, Software, JavaScript, Engineering, coding, Backend, Laravel, ',\n",
       "       'IT/Software Development, Engineering - Telecom/Technology, App connect, developer, Software Development, ',\n",
       "       'IT/Software Development, Engineering - Telecom/Technology, Computer Science, front-end, Information Technology (IT), JavaScript, React, Software Development, CSS3, ',\n",
       "       'Creative/Design/Art, IT/Software Development, Engineering - Telecom/Technology, APIs, Computer Science, CSS3, Git, HTML5, Information Technology (IT), jQuery, JavaScript, MySQL, PHP, Software Development, Software Engineering, ',\n",
       "       'IT/Software Development, AWS, Full Stack, front-end, Software Development, Ionic Framework, Ionic, Vue.js, Back-End Development, Git, Typescript, API, APIs, Computer Science, Development, Information Technology (IT), JavaScript, MongoDB, MySQL, Software, ',\n",
       "       'IT/Software Development, Engineering - Telecom/Technology, Java, Kotlin, jetpack, MVVM, MVP, MVC, Software Development, Android, Computer science, APIs, JSON, REST, Mobile Development, Postman, Firebase, RESTful APIs, Git, Github, Android SDK, Flutter, ',\n",
       "       'IT/Software Development, iOS, Swift, Objective-C, ',\n",
       "       'IT/Software Development, Android SDK, JSON, Kotlin, ',\n",
       "       'IT/Software Development, NextJS, React, Fullstack, JavaScript, Software Development, firebase, JavaScript Development, Development, ',\n",
       "       'IT/Software Development, HTML, Information Technology (IT), JavaScript, Full Stack, Web Development, OOP, jQuery, CSS, Python, Bootstrap, Computer Science, Software Development, ',\n",
       "       'IT/Software Development, Engineering - Telecom/Technology, Engineering, APIs, Laravel, PHP, Back-End Development, Full Stack Development, Computer Science, Information Technology (IT), MVC, Software, Software Development, ',\n",
       "       'IT/Software Development, Engineering - Telecom/Technology, Golang, Full Stack Development, Team Leadership, Problem Solving, APIs, AWS, backend, Computer Science, Development, Docker, Information Technology (IT), JavaScript, Git, NoSQL, Software Development, Software Engineering, ',\n",
       "       'IT/Software Development, React, APIs, Git, JavaScript, Mobile Development, Software Development, RESTful APIs, React Native, Typescript, Android, iOS, ',\n",
       "       'Business Development, IT/Software Development, Engineering - Telecom/Technology, .net Developer, Computer Science, Information Technology (IT), developer, .Net, Software Development, ',\n",
       "       'Installation/Maintenance/Repair, IT/Software Development, Engineering - Telecom/Technology, Computer Science, Software Development, Information Technology (IT), Software Engineering, MVC, Engineering, Git, PHP, HTML5, Troubleshooting, Front-End, OOP, SW Development, DevOps, Database, Laravel, Back-End Development, ',\n",
       "       'IT/Software Development, Engineering - Telecom/Technology, .Net, Computer Science, Agile, Angular, Design, Engineering, Git, Information Technology (IT), MVC, Software, Software Development, SQL, Electron . NET, ',\n",
       "       'IT/Software Development, Frontend, React, Software Development, JavaScript, Information Technology (IT), Agile, Computer Science, HTML, RESTful, Git, CSS, APIs, ',\n",
       "       'IT/Software Development, Engineering - Telecom/Technology, Education/Teaching, JavaScript, Software, Computer Engineering, Computer Science, Python, Software Development, Information Technology (IT), Django, HTML, CSS, javaScript, MSSQL, NoSQL, Cloud Plateforms, Docker, web services, API Development, ',\n",
       "       'IT/Software Development, Engineering - Telecom/Technology, Angular, Computer Science, HTML5, Frontend, JavaScript, PHP, Software Development, jQuery, Information Technology (IT), CSS3, ',\n",
       "       'IT/Software Development, Engineering - Telecom/Technology, PHP, Laravel, HTML5, CSS3, Computer Science, Software Engineering, JavaScript, Software Development, Information Technology (IT), ',\n",
       "       'IT/Software Development, Engineering - Telecom/Technology, .Net, CQRS, Azure Cloud, RabbitMQ, Domain Driven Design, Azure, Microsoft Azure, PostgreSQL, ORM, RESTful APIs, Software Development, ASP.Net, English, RESTful, API, Information Technology (IT), Computer Science, MVC, Development, Software Engineering, ',\n",
       "       'IT/Software Development, Information Technology (IT), Computer Science, CI/CD, backend, Agile, Front-End Development, Full Stack Development, Typescript, nextjs, React.js, ',\n",
       "       'IT/Software Development, .Net, CSS, HTML5, Information Technology (IT), Software, Software Development, jQuery, JavaScript, ASP.Net, Computer Science, Engineering, MVC, ',\n",
       "       'IT/Software Development, Agile, Programming, Software Development, Angular, Computer Science, Design, CSS, Information Technology (IT), HTML, Software Engineering, JavaScript, Git, ',\n",
       "       'IT/Software Development, .Net, ASP.Net, Computer Science, HTML, Engineering, CSS, Information Technology (IT), Software Development, JavaScript, Software Engineering, MVC, SQL, ',\n",
       "       'IT/Software Development, Engineering - Telecom/Technology, Computer Science, Front end, Front end developer, Angular, Communication skills, Information Technology (IT), Frontend, Agile, Software Development, Typescript, C#.Net, ',\n",
       "       'IT/Software Development, Frontend Developer, Information Technology (IT), developer, Computer Science, JavaScript, Software Development, ',\n",
       "       'IT/Software Development, Engineering - Telecom/Technology, Angular, .Net, Computer Science, Information Technology (IT), SQL, Software Development, ',\n",
       "       'Creative/Design/Art, IT/Software Development, Engineering - Telecom/Technology, Bootstrap, Computer Science, CSS3, ES6, Git, HTML5, Information Technology (IT), JavaScript, Js, React, React.js, Software Development, Next.js, ',\n",
       "       'IT/Software Development, Computer Science, Information Technology (IT), Software Development, Software Engineering, .net core, ASP.Net, CSS, Database, Entity Framework, Redis, Microservices, Angular, RabbitMQ, ',\n",
       "       'IT/Software Development, Quality, Computer Science, Laravel, senior, Software, software developer, Information Technology (IT), ',\n",
       "       'IT/Software Development, wordpress, PHP, jQuery, MySQL, Bootstrap, Computer Science, CSS, Frameworks, HTML, Information Technology (IT), JavaScript, ',\n",
       "       'IT/Software Development, Angular 17, Angular 18, Information Technology (IT), ABP, ',\n",
       "       'IT/Software Development, Engineering - Telecom/Technology, Agile, Development, GraphQL, Git, React, Scrum, JavaScript, Computer Science, HTML, Github, Information Technology (IT), Software Development, Telecom Engineering, ',\n",
       "       'IT/Software Development, AWS, MongoDB, NestJs, Machine Learning, ',\n",
       "       'IT/Software Development, Engineering - Telecom/Technology, Information Technology (IT), Computer Science, .Net, Software Development, Desktop Development, HTML, ASYNC, Azure, jQuery, SVN, ERDs, Git, javaScript, ',\n",
       "       'IT/Software Development, Engineering - Telecom/Technology, C++, C#, .NET, Java, SQL, Network, Server Operating Systems, Information Technology (IT), Software Engineering, javaScript, Implementation, Networking, Networks, Computer Science, Telecommunication, Software, Software Development, IBM, Service Management, English, ITIL, Business Intelligence, BI, Computer Engineering, Engineering, Design, ',\n",
       "       'IT/Software Development, .Net, ASP.Net, Software, .net core, ',\n",
       "       'Creative/Design/Art, IT/Software Development, Engineering - Telecom/Technology, Angular, API, Computer Science, CSS, CSS3, front-end, Git, HTML, Information Technology (IT), JavaScript, Software Development, UI, Bootstrap, React, ',\n",
       "       'IT/Software Development, Engineering - Telecom/Technology, Android, APIs, Computer Science, Git, Design, Information Technology (IT), Java, JSON, Programming, Software Development, Software Engineering, RESTful APIs, Android SDK, CI/CD pipelines, ',\n",
       "       'IT/Software Development, Engineering - Telecom/Technology, Computer Science, Engineering, Information Technology (IT), JavaScript, Mobile, Mobile Development, React, React Native, Software Development, Web, Typescript, ',\n",
       "       'Creative/Design/Art, IT/Software Development, Engineering - Telecom/Technology, UML Modeling, Microsoft Visio, use cases, Software Development, ',\n",
       "       'IT/Software Development, Engineering - Telecom/Technology, APIs, Node.js, Programming, RESTful, JavaScript, Software Development, AWS, API, Computer Science, Back-End Development, ',\n",
       "       'IT/Software Development, React.js, React, front-end, Tailwindcss, ',\n",
       "       'IT/Software Development, Engineering - Telecom/Technology, Information Technology (IT), Software Development, Computer Science, Android, ITI, RESTful, MVC, Git, SDK, Mobile Development, APIs, Software Engineering, ui, Java, ',\n",
       "       'Business Development, IT/Software Development, Engineering - Telecom/Technology, CSS, Computer Science, JavaScript, Sass, Software Development, front-end, Web Development, Node.js, Vue.js, Development, developer, Nuxt, ',\n",
       "       'IT/Software Development, Angular, Computer Science, CSS, Development, front-end, JavaScript, SEO, Software Development, Web Development, Software, Information Technology (IT), Design, ',\n",
       "       'Creative/Design/Art, IT/Software Development, Engineering - Telecom/Technology, API, Angular, CSS, Computer Science, front-end, HTML, Information Technology (IT), Software Development, UI, JavaScript, Git, CSS3, ',\n",
       "       'IT/Software Development, PHP, APIs, AWS, backend, Computer Science, Information Technology (IT), Software Engineering, Software Development, MySQL, Magento, ',\n",
       "       'IT/Software Development, Engineering - Telecom/Technology, Communication, Computer Science, Database, Information Technology (IT), Microsoft, Software, Software Development, troubleshoot, Visual Basic, Writing, Software Engineering, ',\n",
       "       'Business Development, IT/Software Development, Engineering - Telecom/Technology, Angular, Computer Science, Agile, CSS, Git, HTML, Information Technology (IT), JavaScript, React, Software Development, Software Engineering, UI, ',\n",
       "       'IT/Software Development, Engineering - Telecom/Technology, Information Technology (IT), .NET, ASP.NET, Computer Science, Computer Engineering, Software Development, C#, MVC, HTML, Angular, OOP, Engineering, Software, Software Engineering, ',\n",
       "       'IT/Software Development, Computer Science, Engineering, Full Stack, Git, Information Technology (IT), JavaScript, MySQL, PHP, React, Vue.js, Laravel, MongoDB, ',\n",
       "       'IT/Software Development, AWS, Java, Engineering, Computer Science, Information Technology (IT), ',\n",
       "       'Creative/Design/Art, IT/Software Development, Engineering - Telecom/Technology, PHP, JavaScript, Information Technology (IT), HTML, Development, Computer Science, .Net, ASP.Net, Software Development, Web Applications, Web Development, Programming, Odoo, Odoo Development, Odoo ERP, Python, python development, ',\n",
       "       'IT/Software Development, Engineering - Telecom/Technology, Laravel, MVC, MySQL, Git, SOLID Principles, AWS, Computer Science, CSS3, HTML5, Information Technology (IT), JavaScript, OOP, PHP, ',\n",
       "       'IT/Software Development, Education/Teaching, Android, app, Computer Science, flutter, Mobile App, Native Android, ',\n",
       "       'Creative/Design/Art, IT/Software Development, .Net, Programming, Information Technology (IT), Computer Science, technical, C, Software Development, Software Engineering, computer, ',\n",
       "       'IT/Software Development, Engineering - Telecom/Technology, Computer Science, Software Development, Information Technology (IT), Software Engineering, PHP, Python, Software, ',\n",
       "       'IT/Software Development, Engineering - Telecom/Technology, Information Technology (IT), Computer Science, Engineering, Computer Engineering, Integration, Software Development, Software Engineering, JSON, JQuery, AJAX, javaScript, .NET, HTML5, CSS3, SQL, OOP, DevOps, Communications Engineering, Electronics, Mechatronics, MVC, Microservices, Bootstrap, ',\n",
       "       'Creative/Design/Art, IT/Software Development, Marketing/PR/Advertising, WordPress, PHP, developer, Information Technology (IT), Computer Science, ',\n",
       "       'Business Development, IT/Software Development, Engineering - Telecom/Technology, Agile, Computer Science, PHP, Software Development, Web Development, CSS3, HTML5, Information Technology (IT), Software Engineering, JavaScript, Git, Design, ',\n",
       "       'Installation/Maintenance/Repair, IT/Software Development, Engineering - Telecom/Technology, JavaScript, Node.js, Software Development, React, Computer Science, Information Technology (IT), Software Engineering, ',\n",
       "       'IT/Software Development, APIs, flutter, Git, Development, iOS, RESTful APIs, RESTful, Software Development, Android, Computer Science, Information Technology (IT), Mobile Development, ',\n",
       "       'IT/Software Development, Full Stack, HTML, Computer Science, Java, MySQL, Software Development, ',\n",
       "       'IT/Software Development, Computer Science, Programming, Project Management, Software Engineering, Software, Software Development, Information Technology (IT), Linux, Java, Python, MySQL, Testing, ',\n",
       "       'IT/Software Development, Angular, Information Technology (IT), Computer Science, Programming, JavaScript, Software Development, angular17, ',\n",
       "       'IT/Software Development, Engineering - Telecom/Technology, .Net, APIs, ASP.Net, Computer Science, Development, Front end, Information Technology (IT), JavaScript, REST, MVC, Software Development, SQL, Sharepoint, Back-End Development, Front-End Development, ',\n",
       "       'IT/Software Development, Engineering - Telecom/Technology, .Net, Angular, SQL, Information Technology (IT), Computer Science, ',\n",
       "       'IT/Software Development, Marketing/PR/Advertising, Engineering - Telecom/Technology, Information Technology (IT), Computer Science, ',\n",
       "       'IT/Software Development, Engineering - Telecom/Technology, Angular, Computer Science, Information Technology (IT), Software Development, SQL, REST, JavaScript, HTML5, MVC, CSS3, '],\n",
       "      dtype=object)"
      ]
     },
     "execution_count": 28,
     "metadata": {},
     "output_type": "execute_result"
    }
   ],
   "source": [
    "# discover the skills that related to some groups\n",
    "all_df[all_df['job_groups'] == 'Software Development']['skills'].unique()"
   ]
  },
  {
   "cell_type": "code",
   "execution_count": 29,
   "metadata": {},
   "outputs": [],
   "source": [
    "#devops engineer \n",
    "#business analyst\n",
    "#security engineer\n",
    "#bi developer\n",
    "#java developer\n",
    "#software project manager \n",
    "#ai developer\n",
    "#software support engineer \n",
    "#data analyst\n",
    "#data scientest"
   ]
  },
  {
   "cell_type": "code",
   "execution_count": 30,
   "metadata": {},
   "outputs": [
    {
     "name": "stdout",
     "output_type": "stream",
     "text": [
      "<class 'pandas.core.frame.DataFrame'>\n",
      "RangeIndex: 3357 entries, 0 to 3356\n",
      "Data columns (total 15 columns):\n",
      " #   Column            Non-Null Count  Dtype \n",
      "---  ------            --------------  ----- \n",
      " 0   job_title         3357 non-null   object\n",
      " 1   Career Level:     880 non-null    object\n",
      " 2   Education         3355 non-null   object\n",
      " 3   job_requirements  874 non-null    object\n",
      " 4   Experience        3357 non-null   object\n",
      " 5   Job Location      3357 non-null   object\n",
      " 6   skills            880 non-null    object\n",
      " 7   url               3357 non-null   object\n",
      " 8   Work_Status       1001 non-null   object\n",
      " 9   job_description   3357 non-null   object\n",
      " 10  company_name      3357 non-null   object\n",
      " 11  Work_Mode         878 non-null    object\n",
      " 12  Company Industry  2476 non-null   object\n",
      " 13  job_title_basic   3357 non-null   object\n",
      " 14  job_groups        3357 non-null   object\n",
      "dtypes: object(15)\n",
      "memory usage: 393.5+ KB\n"
     ]
    }
   ],
   "source": [
    "all_df.info()"
   ]
  },
  {
   "cell_type": "markdown",
   "metadata": {},
   "source": [
    "### HANDLE THE SKILLS COLUMN"
   ]
  },
  {
   "cell_type": "markdown",
   "metadata": {},
   "source": [
    "#### In this step, we leverage the \"skill\" column to extract both the technical and general skills that are relevant to the job. We can then use these skills to enhance the \"job description\" and \"requirements\" columns, making it easier to explain the skills needed for the position.\n",
    "\n",
    "we did that using manuel test to try to laverage skills as we can so and save it in the unique_skills dictionary "
   ]
  },
  {
   "cell_type": "code",
   "execution_count": 31,
   "metadata": {},
   "outputs": [],
   "source": [
    "unique_skills = [\n",
    "    \"Agile\",'Bulma','PostCSS','Svelte','Quasar Framework','NativeScript','OpenShift','Podman','Docker Swarm','Docker Compose','Sed','AWK','Make Tool','Git Bash','Fish Shell','Zsh','IBM Cloud','Bamboo','TeamCity','Azure DevOps Pipelines','AWS CodePipeline','Travis CI','Power Pivot','Power Query','Azure Synapse Analytics','Amazon QuickSight','Google Data Studio','MDX','SAP BusinessObjects','MicroStrategy','Sisense','Qlik Sense','QlikView','QlikView/Qlik Sense','Lucidchart','Microsoft Visio','Process Mapping','Gap Analysis','PESTLE Analysis','SWOT Analysis','Lean Six Sigma','PMI-PBA','hive','Azure Data Lake','Amazon S3','HDFS','Storm','Blue Prism','Bazel','Cypress','CakePHP','CodeIgniter','Fiber','Go/Gin','cURL','Swagger/OpenAPI','OpenAPI','Swagger','Postman','Rate Limiting','API Versioning','API Documentation','AWS Sagemaker','Google AutoML','Apache Spark (MLlib)','MLFlow','XGBoost','FastAI','Hugging Face Transformers','Hugging Face','Keras','Pandas','Transfer Learning','Feature Engineering','Unsupervised Learning','Supervised Learning','Reinforcement Learning','Computer Vision','Monday.com','ClickUp','Asana','Algorithems','Data Structure','Zabbix','Monitor Tools','Monitoring Tools','Lottie','Cocos2d','Blender Animation','Godot Animation','Spine','Shimmer','TweenMax','MotionLayout','Rive','Reanimated','Core Animation','Spring Animation','Barba.js','ScrollReveal','Velocity.js','Mo.js','Lottie','Anime.js','GSAP (GreenSock)','Tekton','Pulumi','SaltStack','Encryption algorithms', 'SSL/TLS', 'PKI','hashing (SHA, MD5)','SHA','MD5','CP/IP', 'DNS', 'VPNs', 'firewalls', 'proxies','HashiCorp Vault','GNU Privacy Guard','GPG','OpenSSL','Trivy','Snyk','Checkmarx','SonarQube','FTK','Autopsy','AWS IAM','Azure Active Directory','Auth0','Okta','FortiGate','pfSense','Suricata','Snort','Microsoft Defender for Endpoint','Symantec Endpoint Protection','Carbon Black (VMware)','CrowdStrike Falcon','AlienVault USM','IBM QRadar','Splunk','OWASP ZAP','Nikto','Wireshark','Burp Suite','Nmap','Metasploit','Cloud Security Alliance','CSA','MITRE ATT&CK','CIS Controls','ISO/IEC 27001','MobX','Koa','Hapi','Hapi.js','Koa.js','Asp.NetCore','ASP.NET','Symfony','Express.js','Express','Expo','Dart', 'Vuex','Quasar','Xamarin','Trello','swift','plotly','seaborn','Foundation FrameWork','LAMP Stack','MERN Stack','MEAN Stack','CloudFormation','GitHub Actions','GitLab CI/CD','Istio', 'Linkerd','Nexus', 'Artifactory','Helm', 'ArgoCD', 'Spinnaker','Apache Ant',' Gradle','Maven','Auditing','Datadog','chef','Puppet','Ansible','CircleCI','Apache Solr','Elasticsearch','HBase','Apache Cassandra','Amazon DynamoDB','Couchbase','Entity Framework','Hibernate','SQLAlchemy','sqlite','MariaDB','Oracle Database','AWS EMR','AWS S3','Dataflow','AWS Redshift','Grafana','Looker','Databricks','Snowflake','Apache NiFi','Apache Kafka','Apache Mesos','Apache Airflow','Apache Flink','Apache Spark','Apache Hadoop','Apache Pulsar','Apache Helix','Sitecore Helix','Adobe Helix','PL/SQL','network automation','Oracle Certification','Oracle DB','Oracle Web logic Administration','Oracle Web Center Portal development','Oracle ADF','Oracle OSB','Non-SQL','oracle database storage','database business logic','Oracle Database XE','SSMS','database structure','database structures','database technologies','Database administration ERDs','database layers','database schemas','database design','database development','Relational DBs','third-party API','external database tools','RDS database','database systems','Database Management','database management systems','API design, development, testing, and deployment','identify weaknesses in our network','Etimade database','Monitor network activity','Centre/Public Cloud Network environments','spine and leaf network','Spine & Leaf Network','Meraki MXo Network Virtualization','Network Virtualization','CompTIA Network+','Cisco Certified Network Associate','app engineering','web engineering','usability engineering','network engineering','application engineering','Software Engineering Background','native Cloud services','cloud technologies','Pivotal Cloud Foundry','cloud native solutions','Cloud orchestration','Cloud technologies','Cloud technologies,orchestration','Cloud technologies, orchestration','cloud data warehousing','cloud adoption','cloud-native solutions','cloud-native solutions development','cloud message APIs','cloud-native application development','cloud-native application','cloud services','Spring Cloud','cloud migrations','cloud migration','cloud solutions','cloud backup solutions','EPM Cloud','Cloud industry','managing private cloud stacks','cloud computing','develop cloud solutions','develop and maintain cloud solutions','building cloud solutions','resilient cloud architectures','RestAssured','RPA projects','BPA projects','BPA or RPA projects','UiPath','automation techniques','Network testing','Network Management & Automation','Network Automation','automation script and tools','automation tools','NODE Automation tools','NODEJS Automation tools','automation test','software architecture','load, and stress testing','stress testing','database testing','acceptance testing','deploymentand testing','regression testing','technical architecture','enterprise architecture','it architecture','OCI Architect','A/B testing','user testing','hypothesis testing','Load testing','Testing (Web and Mobile) apps','testing mobile apps','testing web','Testing apps','Usability Testing','Performance Testing','System Testing','unit testing','user acceptance testing','Azure-based infrastructure solutions','infrastructure solutions','software infrastructure','Infrastructure Management','resilient payments infrastructure','alertndar Management','oscilloscopes','network administration','network performance tests','Automate infrastructure deployment','network infrastructure','network management','network setup','Network Design', \"Change Management\",'Ionic', \"Client Retention Strategies\",\n",
    "        \"Communication\",'Blazor','Testing New Features','Testing frameworks','Software Testing Principles','Statistical Analysis','Server Architecture','Sap Architecture','Integration Testing','Sap Integration','Sap system','Risk analysis','Oracle Integration Cloud','oic integration','oic','Building a Datawarehouse ','Odoo integrations','Odoo integration','Network analysis','Network Management','microsoft dynamics 365','financial analysis','Ecm applications','Net','Building DataWarehouse','variance analysis','margin analysis','cost-Benefit analysis','cost/Benefit analysis','cost analysis','Benefit analysis','big data integration','automated testing','Generative Ai','Ecm solution','Net','Database integration','Building Datawarhouse','Building A Datawarhouse','Data Aquisetion','Iac','infrastructure as code','diagnose technical issues','troubleshoot basic technical issues','troubleshoot technical issues','diagnose and troubleshoot basic technical issues','spot & fix bugs','fix bugs','IT troubleshooting skills',\"Communication Skills\",'troubleshooting skills','software & network troubleshooting','software troubleshooting','network troubleshooting', \"Conflict Mediation\", \"Conflict Resolution\",\n",
    "        \"Consensus Building\",'Enterprise security','computing security procedures', \"Cost Control\", \"Creative Problem Solving\",\"ChatGPT API\",\n",
    "        \"Critical Thinking\",'Develop and maintain Databases', \"Cross-Cultural Communication\", \"Customer Care\", \"Customer Onboarding\",\n",
    "        \"Customer Satisfaction Analysis\",'CI/CD pipelines','CI/CD','CI', \"Customer Service\", \"Data Interpretation\", \n",
    "        \"Deadlines Management\",'Data Security', \"Decision Making\", \"Decision Trees\", \"Delegation\", \"Design Sprint Facilitation\",\n",
    "        \"Design Thinking\", \"Digital Marketing\", \"Documentation\", \"Empathy Development\",\n",
    "        \"ERP Software\",'Finance', \"Feedback Delivery\",\n",
    "        \"Focus Strategies\", \"Goal Setting\",'GDPR', \"Idea Generation\",'offline storage', 'threading','performance tuning',\n",
    "        \"Interpersonal Skills\",\"IT Infrastructure\",'Microsoft Infrastructure','build cloud Infrastructure','design cloud Infrastructure','develop & maintain cloud Infrastructure',\"Cloud Infrastructure\", \"Leadership\", \"Leadership Styles\", \"Learning Management Systems (LMS)\",\n",
    "        \"Market Research\",'Research skills', \"Mentorship\", \"Mind Mapping Tools\",'web-based solutions','managing on-premises solutions',\n",
    "        \"Motivational Leadership\", \"Negotiation\", \"Negotiation Skills\",'networking protocols','Microsoft networking',\"networking concepts\", \"Networking Skills\",\n",
    "        \"Nonverbal Communication\", \"Office Management\",'optimize queries','database schema',\n",
    "        \"Presentation Design\", \"Presentation Skills\", \"Prioritization\", \"Problem Framing\", \n",
    "        \"Problem Solving\", \"Process Optimization\",'project management certifications ',\"Project Scheduling\", \"Proposal Writing\", \n",
    "        \"Prototyping\", \"Public Speaking\", \"Quality Assurance\", \"Quality Control\",'LAN knowledge','wan knowledge','lan','wan',\n",
    "        \"Relationship Marketing\", \"Relationship Management\", \"Research\", \"Respectfulness\",'Core Data','Core Animation',\n",
    "        \"Root Cause Analysis\", \"Root Cause Identification\", \"Sales Skills\",\"database scripting languages\",\n",
    "        \"Scenario Analysis\", \"Self-Awareness\", \"Self-Regulation\", \"Skill Gap Analysis\",\"Angular7\", \n",
    "        \"Solution Prototyping\",'SOLID principles', \"Stakeholder Management\", \"Strategic Thinking\",'contabo', \n",
    "        \"Storytelling\", \"SWOT Analysis\",'automated deployment scripts','SDLC', \"Team Collaboration\",'database security','security best practices', \"Team Leadership\", \n",
    "        \"Team Mentorship\",'Software Testing','Automation Testing','Performance testing','Api testing','SYSTEM TESTING','application testing','testing', \"Time Blocking\", \"Time Management\",'GIS analysis','GIS','network security',\n",
    "        \"To-Do List Management\", \"Trend Forecasting\",'Selenium',\"Vision Setting\",'cloud message APIs','Restful api','RESTful APIs','api tools',\n",
    "        \"Work Ethics\",'continuous integration', \"Workforce Planning\",'develop Network','develop and maintain Network','develop & maintain Network','build Network','Design Network','Network','Switching','Scrum','xp','Troubleshooting','wan','monitor database systems','Database',\n",
    "    \".Net\", \"3D Modeling\",'API Development and API integration','API integration','API Development','mobile APIs','mobile API','web API','Web Apis', \"API\", \"AJAX\", \"Bower\", \"APIs\", \"Access Control\", \"AC\", \"AI\", \"Algorithm Development\",\n",
    "    \"Amazon AWS\",'Three.js', \"Js\", \"Amazon Web Services (AWS)\", \"Android Development\", \"Apache Spark\", \"Application Security\",\n",
    "    \"Arduino\",'internal controls automation tools','server deployment automation tools', \"ASP.Net\", \"ASP.NET Core\", \"ASP\", \"Automation\", \"Azure\", \"Bash Scripting\", \"Big Data\", \"Blockchain\", \"Blockchain Development\",\n",
    "    \"Business Intelligence\", \"C#\",'C# frameworks', \"C++\",'cloud deployment',\"Google Cloud Platform\", \"CCTV\",'cloud platforms', \"Cloud Platforms\", \"Cloud Security\",\"Cloud\", \"COSO\", \"Communication\",\n",
    "    \"Computer Vision Tools\", \"Containerization\", \"Content Management\", \"CRM\",\"CSS pre-processing platforms\", \"CSS\", \"Customer Support\", \"Cybersecurity\", \n",
    "    \"DAX (Data Analysis Expressions)\", \"Data Analysis\", \"Data Engineering\", \"DSS\", \"Data Governance\", \"Data Interpretation\", \"Data Science\", \n",
    "    \"Data Validation\", \"Data Visualization\", \"Database Administration\", \"Database Development\", \"Decision Trees\", \"Design Thinking\", \"DevOps\", \n",
    "    \"Digital Marketing\", \"Docker\", \"Django\", \"E-Learning Module Design\", \"E-commerce\", \"Elasticsearch\", \"Embedded Systems\", \"English\",'software Engineering', \n",
    "    \"ERP\", \"ERP Software\", \"ETL Processes\", \"FastAPI\", \"Figma\", \"Flask\", \"Flutter\", \"Frontend Development\", \"Genesys\", \"Grunt\", \"Git\", \"Go Programming\",\n",
    "    \"Google Analytics\", \"GraphQL\", \"Hardware Troubleshooting\", \"HTML5\", \"Heroku\", \"HTML\", \"IAM (Identity Access Management)\",\n",
    "    \"InVision\",\"continuous integration\",'Odoo integration', \"IoT (Internet of Things)\", \"IoT Development\", \"ISTQB\", \"ISO\", \"ITIL\", \"Java\", \"JavaScript\", \"jQuery\",\n",
    "    \"Jenkins\",'React.js', \"JIRA\", \"Kanban\", \"Kubernetes\", \"Laravel\", \"Leadership\", \"Linux\", \"LESS\", \"Linux Administration\", \"Load Testing\", \"Low Code/No Code Development\",\n",
    "    \"Magento\", \"MachineLearning\",'Machine Learning', \"Matplotlib\", \"Microsoft Access\", \"MV\", \"Microsoft Azure\", \"Microsoft Office\", \"Microsoft Office Suite\", \"Microsoft Project\",\n",
    "    \"Microsoft SQL Server\",'SQL Server database', \"Microsoft Word\", \"MongoDB\", \"MVC\", \"MySQL\", \"Natural Language Processing (NLP)\", \"Nest.js\", \"Network Security\",\n",
    "    \"Network Troubleshooting\", \"Node.js\", \"NODEJS\", \"NoSQL Databases\",\"React Native\", \"NumPy\", \"Odoo ERP\", \"OpenCV\", \"Oracle\", \"Penetration Testing\", \"PHP\", \"PostgreSQL\",\n",
    "    \"Power BI\", \"PCI DSS\",'programming languages',\"Programming\",'project management tools', \"Project Management\", \"Proposal Writing\", \"Python\", \"Scikit-learn\", \"PyTorch\",'Py Torch', \"R Programming\", \"RESTful\", \"React\",\n",
    "    \"Redux\", \"Ruby on Rails\", \"Sitecore\", \"SaaS\", \"Salesforce Development\", \"SAP ERP\", \"Scikit-learn\", \"SCRUM Framework\",\"security and privacy regulations\", \"Security\", \"SEO\",\n",
    "    'SharePoint Administration',\"SharePoint\", \"Shell Scripting\", \"Spring Boot\", \"SQL\", \"SQLite\", \"SWOT Analysis\", \"Tableau\", \"TensorFlow\", \"Terraform\",\"Continuous Testing\", \"Testing\", \"Time Management\",\n",
    "    \"TypeScript\", \"Unity\", \"Unreal Engine\", \"Version Control\", \"Virtual Collaboration Tools\", \"Virtualization\", \"Visual Basic\", \"Web Development\",\n",
    "    \"WooCommerce\", \"WordPress\", \"XML\",'OOP',\"Odoo\", \"Zoho\", \"Zoho CRM\", \"IIBA\", \"CBAP\", \"CSM\", \"COBIT\", \"CompTIA A+\", \"CCNA\", \"Develop Optimal Database Schema\",\n",
    "    \"Develop Database Schema\", \"Microservices\", \"Agile\", \"CI/CD\", \"AI Chatbots\", \"RPA\", \"AWS Lambda\", \"GKE\", \"Azure DevOps\", \"TensorFlow Lite\", \"Serverless\",\n",
    "    \"Salesforce Lightning\", \"Elastic Stack\", \"ServiceNow\", \"SAP HANA\", \"Google BigQuery\", \"Apache Kafka\", \"Deep Learning\", \n",
    "    \"Voice Recognition\", \"Graph Databases\", \"3D Printing\", \"Bioinformatics\", \"Quantum Computing\", \"Deep RL\", \"Edge Computing\", \"Robotics\", \"CPS\", \n",
    "    \"Data Lakes\", \"AR\", \"VR\", \"5G\", \"WebAssembly\", \"WebSockets\", \"Mobile Security\", \"APM Tools\", \"Bash Automation\", \"Container Orchestration\",\n",
    "    \"Test Automation\", \"Nginx\", \"Kotlin\"\n",
    "    , \"Vue.js\", \"Jupyter\", \"H2 Database\", \"Apache Flink\", \"CouchDB\", \"Redis\", \"Apache Cassandra\", \"Machine Vision\",\n",
    "    \"Fuzzy Logic\", \"Biometric Authentication\", \"Intelligent Automation\", \"Digital Twin\", \"Predictive Analytics\", \"Real-Time Analytics\", \"BaaS\", \"SaaS Arch\",\n",
    "    \"PaaS\", \"IaaS\", \"Azure ML\", \"AI Ethics\", \"AWS SA\", \"CKA\", \"AWS Developer\", \"CISSP\", \"CEH\", \"CCNA\", \"GCP Architect\", \"MS Azure Fundamentals\", \n",
    "    \"CSPO\", \"CDP\", \"AWS ML\", \"CISM\", \"MS DA\", \"GAIQ\", \"CBDP\",'Yeoman','TFS','Node','AngularJS','NG2','CSS3','RWD','MCSA','CCNA','CMMI','UI',\n",
    " 'Bootstrap','next.js','next','iOS','MCSE','CompTIA','gannt','JEST',\n",
    " 'UX','SASS','C','Spring','CCBA','nuxt','nuxt.js','nuxtjs',\n",
    " 'AAC','tailwind','Routing',\n",
    " 'SAML',\n",
    " 'SAN','KYC',\n",
    " 'SAP',\n",
    " 'SCM',\n",
    " 'SDD',\n",
    " 'SDK',\n",
    " 'SEIM',\n",
    " 'SEM',\n",
    " 'SIEM',\n",
    " 'SMTP',\n",
    " 'SOAP',\n",
    " 'SOAR',\n",
    " 'SOC',\n",
    " 'SOLID principles',\n",
    " 'SQA',\n",
    " 'SRS',\n",
    " 'SSAS',\n",
    " 'SSIS',\n",
    " 'SSRS','Excel',\n",
    " 'SVN',\n",
    " 'SW','swiftui','ringba','xUnit','firebase',\n",
    " 'firewalls','dotNet','Visualization',\n",
    " 'Vmware',\n",
    " 'VoIP',\n",
    " 'Vue','Tailwindcss','UIkit',\n",
    " 'UML',\n",
    " 'UNIX',\n",
    " 'UTMs','angular7','Rest','NIST','J2EE',\n",
    " 'JSF',\n",
    " 'JSON',\n",
    " 'JSP',\n",
    " 'JUnit',\n",
    " 'Jasmine',\n",
    " 'Jetpack',\n",
    " 'KNX','troubleshoot errors',\n",
    " 'Kafka',\n",
    " 'Kaspersky',\n",
    " 'Kentico',\n",
    " 'Kimball',\n",
    " 'LAN',\n",
    " 'LINQ','AAC',\n",
    " 'ABAP',\n",
    " 'ABP',\n",
    " 'ADF',\n",
    " 'ADO',\n",
    " 'Ecm System',\n",
    " 'Ecm Applications',\n",
    " 'Ecm Software',\n",
    " 'AME',\n",
    " 'CCIE',\n",
    " 'CCNP',\n",
    " 'CCSP',\n",
    " 'OCI',\n",
    " 'CD',\n",
    " 'CISA',\n",
    " 'CISCO','  CISCO',\n",
    " 'CMS',\n",
    " 'CQRS',\n",
    " 'CRP',\n",
    " 'CSTE','DAX','R22',\n",
    " 'RHLF',\n",
    " 'RMAN',\n",
    " 'RPC',\n",
    " 'RabbitMQ','.NET',\n",
    " 'NSE4',\n",
    " 'NTLM',\n",
    " 'NestJs',\n",
    " 'NetSuite',\n",
    " 'NoSQL',\n",
    " 'NuxtJs',\n",
    " 'OCP',\n",
    " 'OOAD','mobile application backend',\n",
    " 'ORM',\n",
    " 'OS',\n",
    " 'OT','ICDL',\n",
    " 'ICT',\n",
    " 'IDE',\n",
    " 'IDS',\n",
    " 'IIB',\n",
    " 'IIS',\n",
    " 'IOT',\n",
    " 'IP','Cocoa Touch',\n",
    " 'IPS','MBA',\n",
    " 'MQ','Objective-C or Swift',\n",
    " 'Objective-C',\n",
    " 'MQTT','PCI_dss',\n",
    " 'MS','PCI-CP','AML reports',\n",
    " 'AML',\n",
    " 'MSP','SDLC','UIs across devices','Cisco Switches (Vlan Creation)','Cisco Switches',\n",
    " 'design Cross-Platform',\n",
    " 'MSSQL','Database Management',\n",
    " 'MVP','modernizing and migrating technology stacks','modernizing technology stacks',\n",
    " 'MVVM','PMP','COA','CKA','CCTV Operator'\n",
    " ,'Devexpress','devextreme','C# frameworks','Monitor database performance'\n",
    " ,'server management','linux server','OpenStack deployment','xtrareport','Crystalreport'\n",
    ",'sql server','implement backup','backup management','managing Veeam','Veeam','Apache Tomcat','WebSphere', 'WebLogic'\n",
    " ,\"PRINCE2\", \"Business Analysis\", \"CBAP\", \"CCBA\", \"Smartsheet\", \n",
    "    \"Time Management\", \"Gantt Charts\", \"Communication Tools\", \"Slack\",'SCSS',\n",
    "    \"MS Teams\",'Data mining',\"Proposal Writing\", \"SRS\", \"BRD\", \"Team Building\", \n",
    "    \"WAR/JAR Deployment\", \"Serverless Technologies\", \"Elastic Stack\", \n",
    "    \"Prometheus\", \"Grafana\", \"CloudWatch\", \"Docker Swarm\", \"IAM Tools\", \n",
    "    \"Active Directory\", \"OpenStack\", \"Nginx\", \"Apache Tomcat\", \"WebSphere\", \n",
    "    \"WebLogic\", \"YAML\", \"Serverless Technologies\", \"MQTT\", \"Machine Vision Tools\", \n",
    "    \"ROS\", \"Arduino\", \"Raspberry Pi\", \"SIEM\", \"Firewall Configuration\",'SCCM',\n",
    "    \"Business Intelligence Tools\", \"BigQuery\", \"Hadoop Ecosystem Tools\", \n",
    "    \"Data Governance Frameworks\", \"Indexing\", \"Partitioning\", \"ERD Tools\", \n",
    "    \"ETL Tools\", \"Talend\", \"Informatica\", \"Data Normalization\",'database management','system administration',\n",
    "    \"Apache Flink\", \"Apache Hive\", \"Data Predictive Analytics\",'Shell', 'PowerShell','Helix','SXA','interpret flowcharts'\n",
    "    ,'data encryption','performance tuning and query optimization','query optimization','performance optimization techniques','ELK Stack'\n",
    "    ,'RethinkDB','Gitlab','flex','grid system','MCSA/CCNA','MCSA / CCNA','TypeScript','performance monitoring tools'\n",
    "    ,'help desk software','Angular','design patterns','animation libraries','GSAP', 'Adobe XD','sketch'\n",
    "    ,'Entity Framework',\"Hadoop\",\"AWS\",'GIS analysis','Business Writing and Reporting','Business Writing','Reporting'\n",
    "]   \n",
    "        \n",
    "unique_skills_no_duplicates = list(dict.fromkeys(unique_skills))\n",
    "def take_skills(x,skill):\n",
    "    missed_skills=[]\n",
    "    matches=re.findall(r', \\w+',x,re.I)\n",
    "    for m in matches:\n",
    "        extracted_skill=m.strip(', ').lower()\n",
    "        if (\n",
    "            extracted_skill not in [s.lower() for s in skill]\n",
    "        ):\n",
    "            missed_skills.append(m.strip(', '))\n",
    "    return missed_skills\n",
    "    \n",
    "            \n",
    "all_df['missed_skills']=all_df['skills'].apply(lambda x:take_skills(str(x),unique_skills_no_duplicates))\n"
   ]
  },
  {
   "cell_type": "markdown",
   "metadata": {},
   "source": []
  },
  {
   "cell_type": "code",
   "execution_count": 32,
   "metadata": {},
   "outputs": [
    {
     "data": {
      "text/plain": [
       "1057"
      ]
     },
     "execution_count": 32,
     "metadata": {},
     "output_type": "execute_result"
    }
   ],
   "source": [
    "len(unique_skills_no_duplicates)"
   ]
  },
  {
   "cell_type": "code",
   "execution_count": 33,
   "metadata": {},
   "outputs": [
    {
     "data": {
      "text/plain": [
       "'IT/Software Development, Engineering - Telecom/Technology, Engineering - Other, Angular, Angular 8, Azure, Computer Science, CSS3, Database, HTML5, Information Technology (IT), SQL, JavaScript, OOP, Dependency Injection, .Net Framework, '"
      ]
     },
     "execution_count": 33,
     "metadata": {},
     "output_type": "execute_result"
    }
   ],
   "source": [
    "all_df['skills'][43]"
   ]
  },
  {
   "cell_type": "code",
   "execution_count": 34,
   "metadata": {},
   "outputs": [
    {
     "data": {
      "text/plain": [
       "{'12C',\n",
       " '3',\n",
       " '365',\n",
       " '3rd',\n",
       " '6i',\n",
       " 'A',\n",
       " 'APEX',\n",
       " 'ASYNC',\n",
       " 'AX',\n",
       " 'Access',\n",
       " 'Accessibility',\n",
       " 'Accounting',\n",
       " 'Activation',\n",
       " 'Active',\n",
       " 'Administration',\n",
       " 'Administrator',\n",
       " 'Adobe',\n",
       " 'Agriculture',\n",
       " 'Algorithms',\n",
       " 'Amazon',\n",
       " 'Analysis',\n",
       " 'Analyst',\n",
       " 'Analytic',\n",
       " 'Analytical',\n",
       " 'Android',\n",
       " 'Angular2',\n",
       " 'Angular4',\n",
       " 'AntiVirus',\n",
       " 'Antivirus',\n",
       " 'Apache',\n",
       " 'App',\n",
       " 'Appium',\n",
       " 'Applicant',\n",
       " 'Application',\n",
       " 'Applications',\n",
       " 'Arabic',\n",
       " 'Architect',\n",
       " 'Architecture',\n",
       " 'Artificial',\n",
       " 'Atlassian',\n",
       " 'Audit',\n",
       " 'AutoCAD',\n",
       " 'Automated',\n",
       " 'Ax',\n",
       " 'BDD',\n",
       " 'BI',\n",
       " 'BLOC',\n",
       " 'BLOc',\n",
       " 'BTL1',\n",
       " 'BW',\n",
       " 'Back',\n",
       " 'Backend',\n",
       " 'Backup',\n",
       " 'Banking',\n",
       " 'Bid',\n",
       " 'Big',\n",
       " 'Billing',\n",
       " 'Bitbucket',\n",
       " 'Black',\n",
       " 'Blue',\n",
       " 'Bluecoat',\n",
       " 'Brand',\n",
       " 'Bubble',\n",
       " 'Business',\n",
       " 'CPE',\n",
       " 'Central',\n",
       " 'Certified',\n",
       " 'ChatGPT',\n",
       " 'Civil',\n",
       " 'Commerce',\n",
       " 'Communications',\n",
       " 'Complaint',\n",
       " 'Computer',\n",
       " 'Configuration',\n",
       " 'Configure',\n",
       " 'Conflict',\n",
       " 'Confluence',\n",
       " 'Construction',\n",
       " 'Consultant',\n",
       " 'Consulting',\n",
       " 'Content',\n",
       " 'Control',\n",
       " 'Coordination',\n",
       " 'Core',\n",
       " 'Cosmetics',\n",
       " 'Cost',\n",
       " 'Creative',\n",
       " 'Creativity',\n",
       " 'Cubit',\n",
       " 'Cucumber',\n",
       " 'Customer',\n",
       " 'Cyber',\n",
       " 'D365',\n",
       " 'DB2',\n",
       " 'DBA',\n",
       " 'DFD',\n",
       " 'DHCP',\n",
       " 'DLP',\n",
       " 'DTP',\n",
       " 'DWH',\n",
       " 'Dashboard',\n",
       " 'Data',\n",
       " 'Databases',\n",
       " 'Delivery',\n",
       " 'Demand',\n",
       " 'Dependency',\n",
       " 'Deployment',\n",
       " 'Design',\n",
       " 'Designer',\n",
       " 'Desktop',\n",
       " 'Developer',\n",
       " 'Development',\n",
       " 'Diagnose',\n",
       " 'Diagrams',\n",
       " 'Digital',\n",
       " 'Dimensional',\n",
       " 'Director',\n",
       " 'Domain',\n",
       " 'Dynamics',\n",
       " 'E',\n",
       " 'EBS',\n",
       " 'ECMAScript',\n",
       " 'ERDs',\n",
       " 'ERPNext',\n",
       " 'ES6',\n",
       " 'ESP32',\n",
       " 'ETL',\n",
       " 'Ecommerce',\n",
       " 'Education',\n",
       " 'Educational',\n",
       " 'Elastic',\n",
       " 'Electrical',\n",
       " 'Electron',\n",
       " 'Electronics',\n",
       " 'Embedded',\n",
       " 'Endpoint',\n",
       " 'Engineering',\n",
       " 'Enterprise',\n",
       " 'Entity',\n",
       " 'Ethical',\n",
       " 'Exchange',\n",
       " 'External',\n",
       " 'FMCG',\n",
       " 'Financial',\n",
       " 'Fintech',\n",
       " 'Firewall',\n",
       " 'Food',\n",
       " 'Framework',\n",
       " 'Frameworks',\n",
       " 'Front',\n",
       " 'FrontEnd',\n",
       " 'Frontend',\n",
       " 'Full',\n",
       " 'Fullstack',\n",
       " 'Functional',\n",
       " 'Fusion',\n",
       " 'GCIH',\n",
       " 'GIAC',\n",
       " 'Game',\n",
       " 'Games',\n",
       " 'Gatling',\n",
       " 'Gherkin',\n",
       " 'GitHub',\n",
       " 'Github',\n",
       " 'Golang',\n",
       " 'Google',\n",
       " 'Graphic',\n",
       " 'Growth',\n",
       " 'Gulp',\n",
       " 'HANA',\n",
       " 'HCM',\n",
       " 'HR',\n",
       " 'HRMS',\n",
       " 'HRSystem',\n",
       " 'HTTP',\n",
       " 'Hardware',\n",
       " 'Health',\n",
       " 'Help',\n",
       " 'HelpDesk',\n",
       " 'Hiring',\n",
       " 'Home',\n",
       " 'Human',\n",
       " 'Hybrid',\n",
       " 'Hyper',\n",
       " 'Hyperledger',\n",
       " 'IBM',\n",
       " 'IT',\n",
       " 'ITI',\n",
       " 'ITSM',\n",
       " 'Illustrator',\n",
       " 'Implementation',\n",
       " 'Incident',\n",
       " 'Industrial',\n",
       " 'Information',\n",
       " 'Infrastructure',\n",
       " 'Inmon',\n",
       " 'Install',\n",
       " 'Installation',\n",
       " 'Insurance',\n",
       " 'Integration',\n",
       " 'Inter',\n",
       " 'Interaction',\n",
       " 'Intern',\n",
       " 'Internship',\n",
       " 'Interviewing',\n",
       " 'Inventory',\n",
       " 'Isar',\n",
       " 'It',\n",
       " 'Laptop',\n",
       " 'Layouts',\n",
       " 'Leads',\n",
       " 'Learning',\n",
       " 'Load',\n",
       " 'Logistics',\n",
       " 'Lumira',\n",
       " 'Mac',\n",
       " 'Machine',\n",
       " 'Maintenance',\n",
       " 'Management',\n",
       " 'Manager',\n",
       " 'Managing',\n",
       " 'Manual',\n",
       " 'Manualtesting',\n",
       " 'Manufacturing',\n",
       " 'Market',\n",
       " 'Marketing',\n",
       " 'Mass',\n",
       " 'Master',\n",
       " 'Mathematics',\n",
       " 'Mechanical',\n",
       " 'Mechatronics',\n",
       " 'Media',\n",
       " 'Medical',\n",
       " 'Mendix',\n",
       " 'Mentoring',\n",
       " 'Microfinance',\n",
       " 'Microservice',\n",
       " 'Microsoft',\n",
       " 'Mid',\n",
       " 'Mm',\n",
       " 'Mobile',\n",
       " 'Mocha',\n",
       " 'Mockups',\n",
       " 'Modules',\n",
       " 'Mortgage',\n",
       " 'N',\n",
       " 'Native',\n",
       " 'Networking',\n",
       " 'Networks',\n",
       " 'NextJS',\n",
       " 'Object',\n",
       " 'Objective',\n",
       " 'Oddo',\n",
       " 'Office',\n",
       " 'Offline',\n",
       " 'OpenERP',\n",
       " 'OpenID',\n",
       " 'Operating',\n",
       " 'Operation',\n",
       " 'Operations',\n",
       " 'Optimize',\n",
       " 'Other',\n",
       " 'Outsystems',\n",
       " 'PAM',\n",
       " 'PC',\n",
       " 'PCI',\n",
       " 'PL',\n",
       " 'PO',\n",
       " 'POS',\n",
       " 'Palo',\n",
       " 'Payment',\n",
       " 'Payroll',\n",
       " 'Penetration',\n",
       " 'Personnel',\n",
       " 'Pharmacy',\n",
       " 'Photoshop',\n",
       " 'Planning',\n",
       " 'Pos',\n",
       " 'Power',\n",
       " 'Presentation',\n",
       " 'Problem',\n",
       " 'Process',\n",
       " 'Procurement',\n",
       " 'Product',\n",
       " 'Production',\n",
       " 'Programmer',\n",
       " 'Project',\n",
       " 'Proposal',\n",
       " 'Prototypes',\n",
       " 'Purchasing',\n",
       " 'Q',\n",
       " 'QA',\n",
       " 'QC',\n",
       " 'Quality',\n",
       " 'Query',\n",
       " 'R12',\n",
       " 'Recruiter',\n",
       " 'Recruiting',\n",
       " 'Recruitment',\n",
       " 'Regression',\n",
       " 'Remote',\n",
       " 'Repair',\n",
       " 'Responsive',\n",
       " 'Risk',\n",
       " 'Robotic',\n",
       " 'Rockchip',\n",
       " 'SAFe',\n",
       " 'SOLID',\n",
       " 'Safety',\n",
       " 'Sales',\n",
       " 'Science',\n",
       " 'Scikit',\n",
       " 'Screening',\n",
       " 'Scripting',\n",
       " 'Senior',\n",
       " 'Sentinel',\n",
       " 'Server',\n",
       " 'Servers',\n",
       " 'Service',\n",
       " 'Shopify',\n",
       " 'Siebel',\n",
       " 'Skills',\n",
       " 'Smart',\n",
       " 'Software',\n",
       " 'SolidWorks',\n",
       " 'Solution',\n",
       " 'Sophos',\n",
       " 'Sourcing',\n",
       " 'Spark',\n",
       " 'Stack',\n",
       " 'Startup',\n",
       " 'Statistical',\n",
       " 'Statistics',\n",
       " 'Storage',\n",
       " 'Strategy',\n",
       " 'Suitescript',\n",
       " 'Supply',\n",
       " 'Support',\n",
       " 'Surveillance',\n",
       " 'System',\n",
       " 'Systems',\n",
       " 'TCACS',\n",
       " 'TCP',\n",
       " 'TDD',\n",
       " 'TIBCO',\n",
       " 'TO',\n",
       " 'TOGAF',\n",
       " 'Talent',\n",
       " 'Teaching',\n",
       " 'Team',\n",
       " 'Tech',\n",
       " 'Technical',\n",
       " 'Technology',\n",
       " 'Telecom',\n",
       " 'Telecommunication',\n",
       " 'Test',\n",
       " 'TestNG',\n",
       " 'Tester',\n",
       " 'Third',\n",
       " 'Ticketing',\n",
       " 'Time',\n",
       " 'TimeAttendance',\n",
       " 'Training',\n",
       " 'Treasury',\n",
       " 'Troubleshoot',\n",
       " 'Unit',\n",
       " 'User',\n",
       " 'VLANs',\n",
       " 'VPN',\n",
       " 'VSTS',\n",
       " 'Veterinary',\n",
       " 'Visual',\n",
       " 'Vulnerability',\n",
       " 'WWeb',\n",
       " 'Warehouse',\n",
       " 'Warehousing',\n",
       " 'Web',\n",
       " 'Webi',\n",
       " 'Website',\n",
       " 'Websites',\n",
       " 'Windows',\n",
       " 'Winforms',\n",
       " 'Wireframe',\n",
       " 'Wireframes',\n",
       " 'Wireless',\n",
       " 'Wricef',\n",
       " 'Writing',\n",
       " 'XSLT',\n",
       " 'Yii',\n",
       " 'Zendesk',\n",
       " 'adobe',\n",
       " 'analytical',\n",
       " 'and',\n",
       " 'angular17',\n",
       " 'app',\n",
       " 'application',\n",
       " 'audit',\n",
       " 'automated',\n",
       " 'back',\n",
       " 'backend',\n",
       " 'backoffice',\n",
       " 'boot',\n",
       " 'business',\n",
       " 'code',\n",
       " 'coding',\n",
       " 'communications',\n",
       " 'computer',\n",
       " 'configuring',\n",
       " 'crystal',\n",
       " 'cyber',\n",
       " 'data',\n",
       " 'desktop',\n",
       " 'developer',\n",
       " 'development',\n",
       " 'e',\n",
       " 'eCommerce',\n",
       " 'embedded',\n",
       " 'engineer',\n",
       " 'erpnext',\n",
       " 'facilitation',\n",
       " 'fintech',\n",
       " 'front',\n",
       " 'frontend',\n",
       " 'full',\n",
       " 'go_router',\n",
       " 'google',\n",
       " 'greenplum',\n",
       " 'hardware',\n",
       " 'illustrator',\n",
       " 'implementation',\n",
       " 'information',\n",
       " 'infrastructure',\n",
       " 'infrastucture',\n",
       " 'integration',\n",
       " 'inventory',\n",
       " 'it',\n",
       " 'jBPM',\n",
       " 'knowledge',\n",
       " 'lazy',\n",
       " 'learning',\n",
       " 'level',\n",
       " 'manager',\n",
       " 'meltano',\n",
       " 'microsoft',\n",
       " 'mobile',\n",
       " 'nest',\n",
       " 'networks',\n",
       " 'nextjs',\n",
       " 'operation',\n",
       " 'operational',\n",
       " 'owl',\n",
       " 'pci',\n",
       " 'performance',\n",
       " 'phalcon',\n",
       " 'photoshop',\n",
       " 'planing',\n",
       " 'point',\n",
       " 'process',\n",
       " 'product',\n",
       " 'project',\n",
       " 'pyhton',\n",
       " 'quality',\n",
       " 'query',\n",
       " 'reports',\n",
       " 'sales',\n",
       " 'senior',\n",
       " 'server',\n",
       " 'smart',\n",
       " 'software',\n",
       " 'specialist',\n",
       " 'streaming',\n",
       " 'system',\n",
       " 'teamleader',\n",
       " 'technical',\n",
       " 'tester',\n",
       " 'troubleshoot',\n",
       " 'use',\n",
       " 'web',\n",
       " 'website'}"
      ]
     },
     "execution_count": 34,
     "metadata": {},
     "output_type": "execute_result"
    }
   ],
   "source": [
    "combined_skills=set([skills for subskill in all_df['missed_skills'] for skills in subskill])\n",
    "\n",
    "combined_skills"
   ]
  },
  {
   "cell_type": "code",
   "execution_count": 35,
   "metadata": {},
   "outputs": [
    {
     "data": {
      "text/plain": [
       "array([], dtype=object)"
      ]
     },
     "execution_count": 35,
     "metadata": {},
     "output_type": "execute_result"
    }
   ],
   "source": [
    "all_df[all_df['job_groups'].isna() == True]['job_title'].unique()"
   ]
  },
  {
   "cell_type": "markdown",
   "metadata": {},
   "source": [
    "### HANDLE JOB DESCREPTION AND JOB REQUIRMENT COLUMNS"
   ]
  },
  {
   "cell_type": "markdown",
   "metadata": {},
   "source": [
    "#### here we combine the job requirment column with job descreption to do all of our functions on one column"
   ]
  },
  {
   "cell_type": "code",
   "execution_count": 36,
   "metadata": {},
   "outputs": [],
   "source": [
    "all_df['job_requirements']=all_df['job_requirements'].fillna('')"
   ]
  },
  {
   "cell_type": "code",
   "execution_count": 37,
   "metadata": {},
   "outputs": [],
   "source": [
    "all_df['job_description'] = all_df['job_requirements'] + all_df['job_description']"
   ]
  },
  {
   "cell_type": "code",
   "execution_count": 38,
   "metadata": {},
   "outputs": [],
   "source": [
    "all_df.drop(columns='job_requirements',inplace=True)"
   ]
  },
  {
   "cell_type": "code",
   "execution_count": 39,
   "metadata": {},
   "outputs": [
    {
     "data": {
      "text/plain": [
       "'Job DescriptionRoles & ResponsibilitiesJOB DESCRIPTION:: We are seeking a skilled Senior .NET Developer to join our development team. In this role, you will design, develop, and maintain scalable applications using the .NET framework. You will collaborate with cross-functional teams to deliver high-quality software solutions and provide technical leadership to junior developers.  Key Responsibilities:   Design, develop, and maintain web applications using ASP.NET, C#, .NET Core and related technologies. Lead the architectural design and development of new features and enhancements. Collaborate with product managers, designers, and other stakeholders to gather requirements and translate them into technical specifications. Conduct code reviews and provide mentorship to junior developers, promoting best practices in coding and design. Troubleshoot and resolve application issues, ensuring high performance and responsiveness. Stay up-to-date with the latest .NET technologies and industry trends, implementing improvements where applicable.>Job DescriptionRoles & ResponsibilitiesJOB DESCRIPTION:: We are seeking a skilled Senior .NET Developer to join our development team. In this role, you will design, develop, and maintain scalable applications using the .NET framework. You will collaborate with cross-functional teams to deliver high-quality software solutions and provide technical leadership to junior developers.  Key Responsibilities:   Design, develop, and maintain web applications using ASP.NET, C#, .NET Core and related technologies. Lead the architectural design and development of new features and enhancements. Collaborate with product managers, designers, and other stakeholders to gather requirements and translate them into technical specifications. Conduct code reviews and provide mentorship to junior developers, promoting best practices in coding and design. Troubleshoot and resolve application issues, ensuring high performance and responsiveness. Stay up-to-date with the latest .NET technologies and industry trends, implementing improvements where applicable.>Desired Candidate Profile Bachelor s degree in Computer Science, Software Engineering, or a related field. 5+ years of experience in software development with a strong focus on .NET technologies. Proficient in C#, ASP.NET, MVC, and Web API. Experience with front-end technologies (e.g., HTML, CSS, JavaScript, Angular/React). Solid understanding of relational databases (e.g., SQL Server, MySQL) and ORM frameworks (e.g., Entity Framework). Familiarity with cloud services (e.g., Azure, AWS) is a plus. Strong problem-solving skills and attention to detail. Experience with Agile/Scrum methodologies. Knowledge of microservices architecture and containerization (e.g., Docker). Understanding of security best practices in application development.>'"
      ]
     },
     "execution_count": 39,
     "metadata": {},
     "output_type": "execute_result"
    }
   ],
   "source": [
    "all_df['job_description'][2500]"
   ]
  },
  {
   "cell_type": "code",
   "execution_count": null,
   "metadata": {},
   "outputs": [],
   "source": []
  },
  {
   "cell_type": "markdown",
   "metadata": {},
   "source": [
    "#### here we try to categorize the skills to 3 phases to make it better on analysis"
   ]
  },
  {
   "cell_type": "code",
   "execution_count": 40,
   "metadata": {},
   "outputs": [],
   "source": [
    "key_phrases = {\n",
    "    \"Strong Phrases\": [\n",
    "        'Git AND JIRA','use','Carry out','years in','skiils:','Automate','Participating in',\n",
    "        'Qualifications:','Good Command of','HTML 5', 'Tailwinds', 'CSS', 'JavaScript',\n",
    "        'Skills :','conduct','Responsible for','Integrate','manage',\n",
    "        'Skills in','Ensure the','Upgrading','Implementing','ensure',\n",
    "        'candidate will possess','own','Able to','Build','Guide','Deploying to',\n",
    "        'Must be','Proficient with',' Proficient with','Excellent',\n",
    "        \"Strong analytical skills\",'ability to',\"implement\",'Deep'\n",
    "        \"Strong knowledge of\",\"In-depth knowledge of\",\"Proficiency with\",\n",
    "        \"Expertise in\", \"Advanced proficiency in\", \"Highly proficient in\", \n",
    "         \"Experience\",\"Certified\",'CertifiedInstalling','understanding of','MCSA / CCNA','CCNA','MCSA',\n",
    "        \"Proficiency in\",'Proficient in','write','design','working with','certification','certification or equivalent','Create'\n",
    "        ,\"Competence in\",'Understanding of',\"Knowledge of\",\"Collaborate with\",'Knowledge in','strong','Skilled in'\n",
    "        ,'Develop and maintain','Develop','Monitor','Building','Applying','PCI-CP', 'PCI-DSS', 'ISO 27001', 'GDPR', 'COBIT'\n",
    "    ],\n",
    "    \"Middle Phrases\": [\n",
    "        \"Familiarity with\",\n",
    "        \"Familiaritywith\"\n",
    "        'Ensure compliance with',\n",
    "        \"Basic knowledge of\",\n",
    "        \"Basic understanding of\",\n",
    "        \"General understanding of\",\n",
    "        \"General knowledge of\",\n",
    "        \"Basic knowledge in\",\n",
    "        \"General knowledge in\"\n",
    "        \"Providing support for\",\n",
    "        \"Exposure to\",'Know about'\n",
    "        ,'Aware of',\n",
    "        'familiar with',\n",
    "        'broad understanding',\n",
    "        'broad knowledge'\n",
    "\n",
    "    ],\n",
    "    \"Weak Phrases\": [\n",
    "        \"as a plus\",\n",
    "        \"Is a plus\",'is a plus', \"Is advantageous\", \"A big plus\",  \n",
    "        \"Willingness to learn\",'Extras','Bonus','is preferred'\n",
    "    ]\n",
    "}\n",
    "def try_to_handle(x,ph):\n",
    "    l_c=['.',';','','•']\n",
    "    strong_skills=''\n",
    "    for p in ph:\n",
    "        start=x.find(p)\n",
    "        for c in l_c:\n",
    "            end=x.find(c,start)\n",
    "            if end != -1:\n",
    "                strong_skills=strong_skills+x[start:end]+','\n",
    "                continue\n",
    "        \n",
    "    return strong_skills\n",
    "    \n",
    "all_df['important_skills']=all_df['job_description'].apply(lambda x:try_to_handle(str(x),key_phrases['Strong Phrases']))\n",
    "    \n",
    "    \n",
    "\n",
    "desception=['Collect', 'clean','per-process','Create','maintain','Perform','identify','Collaborate with','enabling','comprehensive understanding of','clean, maintainable, and efficient code','ensure code quality']"
   ]
  },
  {
   "cell_type": "markdown",
   "metadata": {},
   "source": [
    "#### Using the identified phrases and extracted skills, enhance the process of capturing as many relevant skills as possible from the description. Ensure the accuracy of the identified skills to maintain reliability"
   ]
  },
  {
   "cell_type": "code",
   "execution_count": 41,
   "metadata": {},
   "outputs": [],
   "source": [
    "def extract_tech_m_imp(stri, tech_skill, st_ph):\n",
    "    all_skills=set()\n",
    "    # Split the string into parts using delimiters\n",
    "    req = re.split('[!•;]', stri)\n",
    "\n",
    "    tech_pattern='|'.join(r'\\b'+re.escape(skill.lower())+r'\\b' for skill in tech_skill)\n",
    "    ph_pattern='|'.join(r'\\b'+re.escape(ph.lower())+r'\\b' for ph in st_ph)\n",
    "\n",
    "    tech_reg=re.compile(tech_pattern)\n",
    "    ph_reg=re.compile(ph_pattern)\n",
    "\n",
    "    for r in req:\n",
    "        if ph_reg.search(r.lower()):\n",
    "            all_m=tech_reg.findall(r.lower())\n",
    "            all_skills.update(all_m)\n",
    "    \n",
    "    # Return the skills as a comma-separated string\n",
    "    return ', '.join(all_skills)\n",
    "\n",
    "        \n",
    "\n",
    "# Apply the function to the 'job_requirements' column\n",
    "s_ok_r = all_df['job_description'].apply(lambda x: extract_tech_m_imp(x, unique_skills_no_duplicates, key_phrases['Strong Phrases']))\n",
    "m_ok_r= all_df['job_description'].apply(lambda x: extract_tech_m_imp(x, unique_skills_no_duplicates, key_phrases['Middle Phrases']))\n",
    "l_ok_r= all_df['job_description'].apply(lambda x: extract_tech_m_imp(x, unique_skills_no_duplicates, key_phrases['Weak Phrases']))\n"
   ]
  },
  {
   "cell_type": "code",
   "execution_count": 42,
   "metadata": {},
   "outputs": [],
   "source": [
    "all_df['in_depth_skills']=s_ok_r\n",
    "all_df['required_skills']=m_ok_r\n",
    "all_df['better_to_have']=l_ok_r"
   ]
  },
  {
   "cell_type": "code",
   "execution_count": 43,
   "metadata": {},
   "outputs": [
    {
     "name": "stdout",
     "output_type": "stream",
     "text": [
      "<class 'pandas.core.frame.DataFrame'>\n",
      "RangeIndex: 3357 entries, 0 to 3356\n",
      "Data columns (total 19 columns):\n",
      " #   Column            Non-Null Count  Dtype \n",
      "---  ------            --------------  ----- \n",
      " 0   job_title         3357 non-null   object\n",
      " 1   Career Level:     880 non-null    object\n",
      " 2   Education         3355 non-null   object\n",
      " 3   Experience        3357 non-null   object\n",
      " 4   Job Location      3357 non-null   object\n",
      " 5   skills            880 non-null    object\n",
      " 6   url               3357 non-null   object\n",
      " 7   Work_Status       1001 non-null   object\n",
      " 8   job_description   3357 non-null   object\n",
      " 9   company_name      3357 non-null   object\n",
      " 10  Work_Mode         878 non-null    object\n",
      " 11  Company Industry  2476 non-null   object\n",
      " 12  job_title_basic   3357 non-null   object\n",
      " 13  job_groups        3357 non-null   object\n",
      " 14  missed_skills     3357 non-null   object\n",
      " 15  important_skills  3357 non-null   object\n",
      " 16  in_depth_skills   3357 non-null   object\n",
      " 17  required_skills   3357 non-null   object\n",
      " 18  better_to_have    3357 non-null   object\n",
      "dtypes: object(19)\n",
      "memory usage: 498.4+ KB\n"
     ]
    }
   ],
   "source": [
    "all_df.info()"
   ]
  },
  {
   "cell_type": "code",
   "execution_count": 44,
   "metadata": {},
   "outputs": [],
   "source": [
    "all_df['in_depth_skills']=all_df['in_depth_skills'].fillna('')\n",
    "all_df['required_skills']=all_df['required_skills'].fillna('')\n",
    "all_df['better_to_have']=all_df['better_to_have'].fillna('')"
   ]
  },
  {
   "cell_type": "markdown",
   "metadata": {},
   "source": [
    "#### To ensure no skill is overvalued, we will address cases where a skill appears multiple times in a row due to variations in language or shortcuts. We'll treat such instances as a single skill rather than counting them multiple times."
   ]
  },
  {
   "cell_type": "code",
   "execution_count": 45,
   "metadata": {},
   "outputs": [],
   "source": [
    "del_dec={'apis':['web api','web apis','Rest','Restful','Restful Api','Restful Apis','mobile Api','Api testing','Api tools','Api Development','Api design','Chatgpt Api','Cloud Message Apis','Api Integration','Api Tools','third-party API']\n",
    "         ,'api':['web api','web apis','Rest','Restful','Restful Api','Restful Apis','mobile Api','Api testing','Api tools','Api Development','Api design','Chatgpt Api','Cloud Message Apis','Api Integration','Api Tools','apis','third-party API']\n",
    "         ,'rest':['rest api']\n",
    "         ,'restful':['Restful Api','Restful Apis']\n",
    "         ,'web apis':['web api']\n",
    "         ,'Infrastructure as Code':['iac']\n",
    "         ,'Cisco Certified Network Associate':['CCNA']\n",
    "         ,'Tailwindcss':['Tailwind']\n",
    "         ,'css':['Css3','Css Pre-Processing Platforms']\n",
    "         ,'Javascript':['js','Javascriptfirebase']\n",
    "         ,'testing':['Acceptance Testing','And Stress Testing','Automation Test','Continuous Testing','Database Testing','Deploymentand Testing','Integration Testing','Load Testing','Software Testing','Software Testing Principles','Test Automation','Testing (Web And Mobile) Apps','Testing Frameworks','Testing New Features','Unit Testing','User Testing']\n",
    "         ,'Software Testing':['Software Testing Principles']\n",
    "         ,'Automation Test':['Test Automation']\n",
    "         ,'oracle':['Oracle Adf','Oracle Application Solution Architecture','Oracle Certification','Oracle Database Storage','Oracle Database Xe','Oracle Db','Oracle Integration Cloud','Oraclesql Server']\n",
    "         ,'Oracle Database Storage':['Oracle Db','Oracle Database Xe']\n",
    "         ,'Oracle Db':['Oracle Database Xe']\n",
    "         ,'cloud':['Cloud Adoption','Cloud And On Premise Infrastructure','Cloud Architecture','Cloud Backup Solutions','Cloud Computing','Cloud Data Warehousing','Cloud Deployment','Cloud Hosted Infrastructure','Cloud Industry','Cloud Infrastructure','Cloud Infrastructure Solutions Architecture','Cloud Message Apisnext','Cloud Migration','Cloud Migrations','Cloud Native Solutions','Cloud Platforms','Cloud Security','Cloud Services','Cloud Solutions','Cloud Technologies','Cloud-Native Application','Cloud-Native Application Development','Cloud-Native Solutions','Cloudwatch']\n",
    "         ,'Cloud Infrastructure':['Cloud And On Premise Infrastructur','Cloud Hosted Infrastructure','Cloud Infrastructure Solutions Architecture']\n",
    "         ,'Cloud Migration':['Cloud Migrations']\n",
    "         ,'Cloud Native Solutions':['Cloud-Native Application','Cloud-Native Application Development','Cloud-Native Solutions']\n",
    "         ,'Cloud-Native Application Development':['Cloud-Native Application']\n",
    "         ,'network':['Build Network','Software & Network Troubleshooting','Routing','Switching','Comptia','Comptia Network+','Identify Weaknesses In Our Network','Monitor Network Activity','Network Administration','Network Analysis','Network Design','Network Engineering','Network Infrastructure','Network Infrastructurefirewalls','Network Management','Network Management & Automation','Network Performance Tests','Network Security','Network Securitysystem Administration','Network Setup','Network Troubleshooting','Network Virtualization','Networking Concepts','Networking Protocols','Networking Skills']\n",
    "         ,'Comptia':['Comptia Network+']\n",
    "         ,'Network Troubleshooting':['Software & Network Troubleshooting']\n",
    "         ,'Network Infrastructure':['Network Infrastructurefirewalls']\n",
    "         ,'Network concepts':['Networking Protocols','Networking skills']\n",
    "         ,'Network Securitysystem Administration':['Network Administration']\n",
    "         ,'Network Management':['Network Management','Network Management & Automation','Network Securitysystem Administration','Network Administration']\n",
    "         ,'security':['Security Analysis','Security And Privacy Regulations','Security Best Practices','Securitysystem Administration','Data security','SOAR']\n",
    "         ,'database':['Database Business Logic','Database Design','Database Development','Database Integration','Database Layers','Database Management','Database Schema','Database Schemas','Database Scripting Languages','Database Security','Database Structure','Database Structures','Database Systems','Database Technologies','Develop And Maintain Databases','Monitor Database Performance','Monitor Database Systems','Rds Database','Relational Dbs']\n",
    "         ,'Database Schemas':['Database Schema']\n",
    "         ,'Database Structures':['Database Structure']\n",
    "         ,'Database Development':['Develop And Maintain Databases']\n",
    "         ,'Relational Dbs':['Rds Database']\n",
    "         ,'Microsoft Office':['Ms','Microsoft Word','Microsoft Access']\n",
    "         ,'Microsoft Sql Server':['Mssql','Sql Server Database','Ssas','Ssis','Ssms','Ssrs']\n",
    "         ,'Mssql':['Sql Server Database']\n",
    "         }\n",
    "\n",
    "def ensure_acc(x,del_dec):\n",
    "    w_lis=x.split(', ')\n",
    "    for k in del_dec:\n",
    "        if k.lower() in w_lis:\n",
    "            v_l=del_dec[k]\n",
    "            for v in v_l:\n",
    "                if v.lower() in w_lis:\n",
    "                    w_lis = [word for word in w_lis if word != k.lower()]\n",
    "                    break\n",
    "    return ', '.join(w_lis)\n",
    "\n",
    "all_df['in_depth_skills'] = all_df['in_depth_skills'].apply(lambda x:ensure_acc(x,del_dec))"
   ]
  },
  {
   "cell_type": "code",
   "execution_count": 46,
   "metadata": {},
   "outputs": [
    {
     "data": {
      "text/plain": [
       "3       devextreme, asp, net, css, xtrareport, c# fram...\n",
       "11      mysql, ui, mongodb, react native, git, securit...\n",
       "12      mysql, ui, node.js, version control, e-commerc...\n",
       "13      programming, machine learning, scikit-learn, p...\n",
       "14      docker, node.js, laravel, elk stack, version c...\n",
       "                              ...                        \n",
       "3286    ui, mysql, html5, woocommerce, jquery, tailwin...\n",
       "3298                     ui, react, apis, ios, javascript\n",
       "3314    ui, performance monitoring tools, git, html5, ...\n",
       "3317    mysql, api documentation, html5, jquery, c, ve...\n",
       "3318    ui, mysql, ci/cd pipelines, laravel, javascrip...\n",
       "Name: in_depth_skills, Length: 572, dtype: object"
      ]
     },
     "execution_count": 46,
     "metadata": {},
     "output_type": "execute_result"
    }
   ],
   "source": [
    "all_df[all_df['in_depth_skills'].str.contains('api')]['in_depth_skills']"
   ]
  },
  {
   "cell_type": "code",
   "execution_count": 47,
   "metadata": {},
   "outputs": [
    {
     "data": {
      "text/plain": [
       "'mysql, css, php, bootstrap, jquery, html, rest, wordpress, tailwind, frontend development, javascript'"
      ]
     },
     "execution_count": 47,
     "metadata": {},
     "output_type": "execute_result"
    }
   ],
   "source": [
    "all_df['in_depth_skills'][3294]"
   ]
  },
  {
   "cell_type": "code",
   "execution_count": 48,
   "metadata": {},
   "outputs": [
    {
     "data": {
      "text/plain": [
       "0                             communication, scrum, agile\n",
       "1                  cctv, security and privacy regulations\n",
       "2                      odoo, communication, odoo erp, erp\n",
       "3       devextreme, asp, net, css, xtrareport, c# fram...\n",
       "4       ui, cms, ux, content management, communication...\n",
       "                              ...                        \n",
       "3352    cloud solutions, english, cloud technologies, ...\n",
       "3353    data engineering, big data, finance, data scie...\n",
       "3354    node.js, mongodb, react.js, css, express.js, p...\n",
       "3355                                                     \n",
       "3356    git, html5, svn, jquery, wordpress, css3, java...\n",
       "Name: in_depth_skills, Length: 3357, dtype: object"
      ]
     },
     "execution_count": 48,
     "metadata": {},
     "output_type": "execute_result"
    }
   ],
   "source": [
    "all_df['in_depth_skills']"
   ]
  },
  {
   "cell_type": "code",
   "execution_count": 49,
   "metadata": {},
   "outputs": [
    {
     "data": {
      "text/html": [
       "<div>\n",
       "<style scoped>\n",
       "    .dataframe tbody tr th:only-of-type {\n",
       "        vertical-align: middle;\n",
       "    }\n",
       "\n",
       "    .dataframe tbody tr th {\n",
       "        vertical-align: top;\n",
       "    }\n",
       "\n",
       "    .dataframe thead th {\n",
       "        text-align: right;\n",
       "    }\n",
       "</style>\n",
       "<table border=\"1\" class=\"dataframe\">\n",
       "  <thead>\n",
       "    <tr style=\"text-align: right;\">\n",
       "      <th></th>\n",
       "      <th>job_title</th>\n",
       "      <th>Career Level:</th>\n",
       "      <th>Education</th>\n",
       "      <th>Experience</th>\n",
       "      <th>Job Location</th>\n",
       "      <th>skills</th>\n",
       "      <th>url</th>\n",
       "      <th>Work_Status</th>\n",
       "      <th>job_description</th>\n",
       "      <th>company_name</th>\n",
       "      <th>Work_Mode</th>\n",
       "      <th>Company Industry</th>\n",
       "      <th>job_title_basic</th>\n",
       "      <th>job_groups</th>\n",
       "      <th>missed_skills</th>\n",
       "      <th>important_skills</th>\n",
       "      <th>in_depth_skills</th>\n",
       "      <th>required_skills</th>\n",
       "      <th>better_to_have</th>\n",
       "    </tr>\n",
       "  </thead>\n",
       "  <tbody>\n",
       "  </tbody>\n",
       "</table>\n",
       "</div>"
      ],
      "text/plain": [
       "Empty DataFrame\n",
       "Columns: [job_title, Career Level:, Education, Experience, Job Location, skills, url, Work_Status, job_description, company_name, Work_Mode, Company Industry, job_title_basic, job_groups, missed_skills, important_skills, in_depth_skills, required_skills, better_to_have]\n",
       "Index: []"
      ]
     },
     "execution_count": 49,
     "metadata": {},
     "output_type": "execute_result"
    }
   ],
   "source": [
    "all_df[all_df['in_depth_skills'].isna()]"
   ]
  },
  {
   "cell_type": "markdown",
   "metadata": {},
   "source": [
    "#### For risk mitigation, retain any skills found in mid or weak phrases only if they are not repeated in strong phrases. Include such skills exclusively in the in-depth skills category."
   ]
  },
  {
   "cell_type": "code",
   "execution_count": 50,
   "metadata": {},
   "outputs": [
    {
     "name": "stdout",
     "output_type": "stream",
     "text": [
      "before:1082\n",
      "before:722\n",
      "after:782\n",
      "after:447\n"
     ]
    }
   ],
   "source": [
    "print(f\"before:{sum(all_df['required_skills'] != '')}\")\n",
    "print(f\"before:{sum(all_df['better_to_have'] != '')}\")\n",
    "def make_sure(row):\n",
    "    all_depth = row['in_depth_skills'].split(',')\n",
    "    req = row['required_skills']  # Initialize with the original value\n",
    "    b = row['better_to_have']    # Initialize with the original value\n",
    "\n",
    "    for d in all_depth:\n",
    "        if d in req:\n",
    "            req = req.replace(d, '').replace(',,', ',')  # Modify required_skills\n",
    "        if d in b:\n",
    "            b = b.replace(d, '').replace(',,', ',')      # Modify better_to_have\n",
    "\n",
    "    # Strip leading/trailing commas and assign back\n",
    "    row['required_skills'] = req.strip(',')\n",
    "    row['better_to_have'] = b.strip(',')\n",
    "    return row\n",
    "\n",
    "\n",
    "all_df=all_df.apply(make_sure,axis=1)\n",
    "\n",
    "print(f\"after:{sum(all_df['required_skills'] != '')}\")\n",
    "print(f\"after:{sum(all_df['better_to_have'] != '')}\")"
   ]
  },
  {
   "cell_type": "markdown",
   "metadata": {},
   "source": [
    "#### here last thing use the skills column we get from the site to make sure we get more skills as we can"
   ]
  },
  {
   "cell_type": "code",
   "execution_count": 51,
   "metadata": {},
   "outputs": [
    {
     "data": {
      "text/plain": [
       "['IT/Software Development',\n",
       " 'Project/Program Management',\n",
       " 'Agile',\n",
       " 'Computer Science',\n",
       " 'Product Owner',\n",
       " 'Software Development',\n",
       " 'Product',\n",
       " 'Scrum',\n",
       " 'Agile Software Development',\n",
       " '']"
      ]
     },
     "execution_count": 51,
     "metadata": {},
     "output_type": "execute_result"
    }
   ],
   "source": [
    "all_df['skills'][0].split(', ')"
   ]
  },
  {
   "cell_type": "code",
   "execution_count": 52,
   "metadata": {},
   "outputs": [
    {
     "name": "stderr",
     "output_type": "stream",
     "text": [
      "C:\\Users\\A&G Computer World\\AppData\\Local\\Temp\\ipykernel_21432\\3027306146.py:1: FutureWarning: A value is trying to be set on a copy of a DataFrame or Series through chained assignment using an inplace method.\n",
      "The behavior will change in pandas 3.0. This inplace method will never work because the intermediate object on which we are setting values always behaves as a copy.\n",
      "\n",
      "For example, when doing 'df[col].method(value, inplace=True)', try using 'df.method({col: value}, inplace=True)' or df[col] = df[col].method(value) instead, to perform the operation inplace on the original object.\n",
      "\n",
      "\n",
      "  all_df['skills'].fillna('',inplace=True)\n"
     ]
    }
   ],
   "source": [
    "all_df['skills'].fillna('',inplace=True)"
   ]
  },
  {
   "cell_type": "code",
   "execution_count": 53,
   "metadata": {},
   "outputs": [
    {
     "name": "stdout",
     "output_type": "stream",
     "text": [
      "before:in_depth_skills\n",
      "                                                                                                                                                                                                                                                                                                                                                                                                                                    100\n",
      "communication                                                                                                                                                                                                                                                                                                                                                                                                                        21\n",
      "english                                                                                                                                                                                                                                                                                                                                                                                                                               9\n",
      "english, communication                                                                                                                                                                                                                                                                                                                                                                                                                9\n",
      "research                                                                                                                                                                                                                                                                                                                                                                                                                              7\n",
      "                                                                                                                                                                                                                                                                                                                                                                                                                                   ... \n",
      "java, programming languages, selenium, python, software testing, regression testing                                                                                                                                                                                                                                                                                                                                                   1\n",
      "mysql, monitor database performance, oracle database, query optimization, automation tools, performance tuning, troubleshooting, database schemas, python, optimize queries, indexing, automation, database management, postgresql, implement backup, sql, oracle, database systems, documentation, leadership, security, monitor database systems, database design, database scripting languages, powershell, database security      1\n",
      "coso, itil, data security, internal controls automation tools, pci dss                                                                                                                                                                                                                                                                                                                                                                1\n",
      "it infrastructure, cobit, auditing, cybersecurity, iso, communication                                                                                                                                                                                                                                                                                                                                                                 1\n",
      "automate infrastructure deployment, ci/cd pipelines, iac, security best practices, devops, openstack deployment, python, cloud technologies, kubernetes, agile, terraform, automation, coa, ansible, cka, networking concepts, openstack, linux, cloud infrastructure, cloud deployment                                                                                                                                               1\n",
      "Name: count, Length: 2984, dtype: int64\n",
      "after:in_depth_skills\n",
      "                                                                                                                                                                                                                                                 100\n",
      "communication                                                                                                                                                                                                                                     21\n",
      "english                                                                                                                                                                                                                                            9\n",
      "english, communication                                                                                                                                                                                                                             9\n",
      "sap                                                                                                                                                                                                                                                7\n",
      "                                                                                                                                                                                                                                                ... \n",
      "mysql, ui, mongodb, react native, git, security best practices, postgresql, react, performance optimization techniques, ux, mvc, aws, apis, cloud platforms, redux, mvvm, version control                                                          1\n",
      "mysql, ui, node.js, version control, e-commerce, mongodb, security best practices, restful apis, ux, odoo integrations, cloud platforms, react native, database management, api development, postgresql, react, git, aws                           1\n",
      "programming, machine learning, scikit-learn, py torch, tensorflow, chatgpt api, research skills, python, ai, agile, design patterns                                                                                                                1\n",
      "docker, node.js, laravel, elk stack, version control, javascript, next.js, gitlab, jenkins, modernizing and migrating technology stacks, python, agile, design patterns, api development, php, react, documentation, rethinkdb, git, database      1\n",
      "java, ui, ux, software engineering, agile, communication                                                                                                                                                                                           1\n",
      "Name: count, Length: 2992, dtype: int64\n"
     ]
    }
   ],
   "source": [
    "print(f\"before:{all_df['in_depth_skills'].value_counts()}\")\n",
    "def handle_skills(row,un_s):\n",
    "    tex_list=row['skills'].split(', ')\n",
    "    skill=row['in_depth_skills']\n",
    "    for t_l in tex_list:\n",
    "        if t_l.lower() in un_s and t_l.lower() not in skill:\n",
    "            skill = skill + ', ' + t_l\n",
    "    return skill\n",
    "\n",
    "all_df['in_depth_skills'] = all_df.apply(lambda r:handle_skills(r,unique_skills),axis=1)\n",
    "\n",
    "print(f\"after:{all_df['in_depth_skills'].value_counts()}\")\n"
   ]
  },
  {
   "cell_type": "markdown",
   "metadata": {},
   "source": [
    "### Handle The Education Column"
   ]
  },
  {
   "cell_type": "markdown",
   "metadata": {},
   "source": [
    "#### we discover that on some cases the value of the education is not specified but at the descreption they tell u they nead a bechlor so we will make sure our data is accurate and consistent"
   ]
  },
  {
   "cell_type": "code",
   "execution_count": 54,
   "metadata": {},
   "outputs": [
    {
     "data": {
      "text/plain": [
       "Index([ 953,  980,  994,  995, 1020, 1046, 1057, 1070, 1080, 1104,\n",
       "       ...\n",
       "       3261, 3263, 3281, 3285, 3300, 3306, 3308, 3316, 3336, 3338],\n",
       "      dtype='int64', length=216)"
      ]
     },
     "execution_count": 54,
     "metadata": {},
     "output_type": "execute_result"
    }
   ],
   "source": [
    "all_df[(all_df['Education'].str.contains('Any Graduation') == True) & (all_df['job_description'].str.contains('Bachelor') == True)]['job_description'].index"
   ]
  },
  {
   "cell_type": "code",
   "execution_count": 55,
   "metadata": {},
   "outputs": [],
   "source": [
    "all_df['Education'].fillna('',inplace=True)"
   ]
  },
  {
   "cell_type": "code",
   "execution_count": 56,
   "metadata": {},
   "outputs": [
    {
     "name": "stdout",
     "output_type": "stream",
     "text": [
      "Before: Index([   1,    7,   18,   19,   20,   21,   26,   43,   47,   55,\n",
      "       ...\n",
      "       3261, 3263, 3281, 3285, 3300, 3306, 3308, 3316, 3336, 3338],\n",
      "      dtype='int64', length=393)\n",
      "After: Index([], dtype='int64')\n"
     ]
    }
   ],
   "source": [
    "print(f\"Before: {all_df[(all_df['Education'].str.contains('Bachelor') == False) & (all_df['job_description'].str.contains('Bachelor') == True)]['job_description'].index}\")\n",
    "def handle_wrong_edu(row):\n",
    "    edu=row['Education']\n",
    "    desc=row['job_description']\n",
    "\n",
    "    if 'Bachelor' not in edu and  'Bachelor' in desc:\n",
    "        pattern= r'Bachelor*?[.!]'\n",
    "        re.match(pattern,desc)\n",
    "\n",
    "        return re.match(pattern,desc)\n",
    "    else:\n",
    "        return edu\n",
    "\n",
    "all_df['Education']=all_df.apply(lambda r:handle_wrong_edu(r),axis=1) \n",
    "\n",
    "print(f\"After: {all_df[(all_df['Education'].str.contains('Bachelor') == False) & (all_df['job_description'].str.contains('Bachelor') == True)]['job_description'].index}\")\n",
    "    "
   ]
  },
  {
   "cell_type": "markdown",
   "metadata": {},
   "source": [
    "#### here we find it multivalued attribute we will handle it more on power tools in power bi"
   ]
  },
  {
   "cell_type": "code",
   "execution_count": 57,
   "metadata": {},
   "outputs": [
    {
     "data": {
      "text/plain": [
       "Education\n",
       "Bachelors in Computer Application, Bachelor of Technology/Engineering(Computers), Bachelor of Science(Computers)                                                                                                    1\n",
       "MBA/PG Diploma in Business Mgmt(Information Technology), M.Phil(Computer Science)                                                                                                                                   1\n",
       "Bachelors in Computer Application(Computers), Masters in Computer Application(Computers), Master of Technology/Engineering                                                                                          1\n",
       "Bachelors in Computer Application(Computers), Bachelor of Technology/Engineering(Bio-Technology, Computers), Bachelor of Science(Computers, Technology), MBA/PG Diploma in Business Mgmt(Information Technology)    1\n",
       "Bachelor of Commerce, Bachelor of Business Administration, Bachelor of Arts, Bachelor of Architecture                                                                                                               1\n",
       "Bachelor of Science(Computers), MBA/PG Diploma in Business Mgmt                                                                                                                                                     1\n",
       "Bachelor of Commerce, Bachelor of Business Administration                                                                                                                                                           1\n",
       "Bachelors in Computer Application(Computers), Bachelor of Technology/Engineering(Computers), Bachelor of Science(Computers, Technology), MBA/PG Diploma in Business Mgmt(Information Technology)                    1\n",
       "Bachelor of Technology/Engineering, Any Graduation                                                                                                                                                                  1\n",
       "MBA/PG Diploma in Business Mgmt(Information Technology), M.Phil(Information Technology)                                                                                                                             1\n",
       "Bachelor of Technology/Engineering(Mechanical)                                                                                                                                                                      1\n",
       "Any Graduation(), Masters in Computer Application(Computers), Master of Technology/Engineering                                                                                                                      1\n",
       "Bachelor of Technology/Engineering, Bachelor of Business Administration(Management), MBA/PG Diploma in Business Mgmt                                                                                                1\n",
       "Bachelor of Technology/Engineering, Bachelor of Business Administration(Management)                                                                                                                                 1\n",
       "Name: count, dtype: int64"
      ]
     },
     "execution_count": 57,
     "metadata": {},
     "output_type": "execute_result"
    }
   ],
   "source": [
    "all_df['Education'].value_counts()[70:]"
   ]
  },
  {
   "cell_type": "markdown",
   "metadata": {},
   "source": [
    "### handle the job location column"
   ]
  },
  {
   "cell_type": "markdown",
   "metadata": {},
   "source": [
    "#### here we try to split the column to 2 columns one to represnet the goverment and the other represnet the country"
   ]
  },
  {
   "cell_type": "code",
   "execution_count": 58,
   "metadata": {},
   "outputs": [
    {
     "name": "stdout",
     "output_type": "stream",
     "text": [
      "['LABS.']\n",
      "['LABS.']\n",
      "['LABS.']\n",
      "['LABS.']\n",
      "['LABS.']\n",
      "['paym...']\n",
      "['Egypt']\n",
      "['Vision']\n",
      "['Vision']\n",
      "['Vision']\n",
      "['Technologies']\n",
      "['Intrasoft']\n",
      "['Cashi']\n",
      "['Egypt Gold']\n",
      "['Egypt Gold']\n",
      "['Egypt Gold']\n",
      "['Egypt Gold']\n",
      "['Egypt Gold']\n",
      "['Cashi']\n",
      "['Cashi']\n",
      "['Cashi']\n",
      "['IT']\n",
      "['Cashi']\n",
      "['Cashi']\n",
      "['Cashi']\n",
      "['paym...']\n",
      "['Center of ...']\n",
      "['finance']\n",
      "['Technologies']\n",
      "['Technologies']\n",
      "['Egypt']\n",
      "['Egypt']\n",
      "['Egypt']\n",
      "['paym...']\n",
      "['Egypt']\n",
      "['Egypt']\n",
      "['Egypt']\n",
      "['Mubarak Al']\n",
      "['Munich GmbH']\n",
      "['Ahram Group']\n",
      "['P...']\n",
      "['P...']\n",
      "['GEO Solutions']\n",
      "['GEO Solutions']\n",
      "['رؤيه']\n",
      "['Egypt']\n",
      "['paym...']\n",
      "['finance']\n",
      "['Technologies']\n",
      "['P...']\n",
      "['Dr Khaled ...']\n",
      "['Egypt']\n"
     ]
    }
   ],
   "source": [
    "def handle_job_loc(x):\n",
    "    c_l=x.split(' - ')\n",
    "    gove=c_l[0]\n",
    "    try:\n",
    "        coun=c_l[1]\n",
    "    except:\n",
    "        print(c_l)\n",
    "        coun=''\n",
    "    return gove,coun\n",
    "\n",
    "all_df[['gov', 'coun']] = all_df['Job Location'].apply(lambda x: handle_job_loc(x)).apply(pd.Series)\n",
    "        "
   ]
  },
  {
   "cell_type": "markdown",
   "metadata": {},
   "source": [
    "#### here we solve some problems we face with anomelies data by manuel examintation using the url to get the most acceurate information at the end"
   ]
  },
  {
   "cell_type": "code",
   "execution_count": 59,
   "metadata": {},
   "outputs": [],
   "source": [
    "change_dect={'LABS.':['Cairo','Egypt'],\n",
    "             'Vision':['Cairo', 'Egypt'],\n",
    "             'Cashi':['Giza','Egypt'],\n",
    "             'Dr Khaled ...':['Giza','Egypt'],\n",
    "             'رؤيه':['Alexandria','Egypt'],\n",
    "             'Egypt Gold':['Cairo','Egypt'],\n",
    "             'finance':['Giza','Egypt'],\n",
    "             'GEO Solutions':['Cairo','Egypt'],\n",
    "             'paym...':['Cairo','Egypt'],\n",
    "             'Technologies':['Cairo','Egypt'],\n",
    "             'Intrasoft':['Cairo','Egypt'],\n",
    "             'Munich GmbH':['Cairo','Egypt'],\n",
    "             'Ahram Group':['Cairo','Egypt'],\n",
    "             'Mubarak Al':['Mubarak Al-Kabeer', 'Kuwait'],\n",
    "             'P...':['Cairo','Egypt']\n",
    "             }\n",
    "\n",
    "def handle_outliars_loc(row,change_dect):\n",
    "    j_l=row['gov']\n",
    "\n",
    "    if j_l in change_dect:\n",
    "        row['gov'] = change_dect[j_l][0]\n",
    "        row['coun'] = change_dect[j_l][1]\n",
    "    return row\n",
    "\n",
    "\n",
    "all_df=all_df.apply(lambda r:handle_outliars_loc(r,change_dect),axis=1)\n"
   ]
  },
  {
   "cell_type": "code",
   "execution_count": 60,
   "metadata": {},
   "outputs": [],
   "source": [
    "all_governorates = [\n",
    "    \"Cairo\",\n",
    "    \"Alexandria\",\n",
    "    \"Giza\",\n",
    "    \"Qalyubia\",\n",
    "    \"Qalubia\",\n",
    "    \"Port Said\",\n",
    "    \"Suez\",\n",
    "    \"Luxor\",\n",
    "    \"Aswan\",\n",
    "    \"Beheira\",\n",
    "    \"Dakahlia\",\n",
    "    \"Sharqia\",\n",
    "    \"Gharbia\",\n",
    "    \"Monufia\",\n",
    "    'Monufya',\n",
    "    \"Faiyum\",\n",
    "    \"Beni Suef\",\n",
    "    \"Minya\",\n",
    "    \"Assiut\",\n",
    "    \"Sohag\",\n",
    "    \"Qena\",\n",
    "    \"Red Sea\",\n",
    "    \"South Sinai\",\n",
    "    \"North Sinai\",\n",
    "    \"Matrouh\",\n",
    "    \"Ismailia\",\n",
    "    \"New Valley\"\n",
    "]\n",
    "\n",
    "\n",
    "def handle_job_loc(row,val):\n",
    "    coun=row['coun']\n",
    "    if coun in val:\n",
    "        row['gov'] = coun        \n",
    "        row['coun'] = 'Egypt'\n",
    "    if coun == '':\n",
    "        row['gov']='Cairo'\n",
    "        row['coun'] = 'Egypt'\n",
    "\n",
    "    return row\n",
    "    \n",
    "\n",
    "all_df=all_df.apply(lambda r:handle_job_loc(r,all_governorates),axis=1)\n"
   ]
  },
  {
   "cell_type": "code",
   "execution_count": 61,
   "metadata": {},
   "outputs": [],
   "source": [
    "sim_list=['Saudi Arabia','Egypt','United Arab Emirates']\n",
    "\n",
    "def handle_similarity_loc(row,sim):\n",
    "    coun=row['coun']\n",
    "    gov=row['gov']\n",
    "    if coun == gov and coun in sim:\n",
    "        row['gov']='unknown'\n",
    "    return row\n",
    "\n",
    "all_df=all_df.apply(lambda r:handle_similarity_loc(r,sim_list),axis=1)"
   ]
  },
  {
   "cell_type": "code",
   "execution_count": 62,
   "metadata": {},
   "outputs": [
    {
     "data": {
      "text/plain": [
       "gov\n",
       "Cairo                                 1225\n",
       "Dubai                                  528\n",
       "unknown                                438\n",
       "Riyadh                                 380\n",
       "Giza                                   307\n",
       "                                      ... \n",
       "Saudi ArabiaUnited Arab Emirates         1\n",
       "Remote (Company based out of Dubai       1\n",
       "Abu Dhabi, Dubai                         1\n",
       "Qatar, United Arab Emirates              1\n",
       "QatarUnited Arab Emirates                1\n",
       "Name: count, Length: 77, dtype: int64"
      ]
     },
     "execution_count": 62,
     "metadata": {},
     "output_type": "execute_result"
    }
   ],
   "source": [
    "all_df['gov'].value_counts()"
   ]
  },
  {
   "cell_type": "code",
   "execution_count": 63,
   "metadata": {},
   "outputs": [],
   "source": [
    "\n",
    "convert={'Sheikh Zayed, Egypt':'Giza'\n",
    "         ,'Dhahran, Saudi Arabia':'Dhahran'\n",
    "         ,\"BahrainSaudi Arabia\":'unknown'\n",
    "         ,'Qatar, United Arab Emirates':'unknown'\n",
    "         ,'QatarUnited Arab Emirates':'unknown'\n",
    "         ,'EgyptJordanPakistan':'unknown'\n",
    "         ,'EgyptTunisiaAlgeriaLibyaMoroccoSudan':'unknown'\n",
    "         ,'EgyptJordanLebanon':'unknown'\n",
    "         ,'EgyptLebanon':'unknown'\n",
    "         ,'Sheikh Zayd, Arkan Plaza Mall':'Giza'\n",
    "         ,'QatarSaudi ArabiaUnited Arab Emirates':'unknown'\n",
    "         ,'Saudi ArabiaUnited Arab Emirates':'unknown'\n",
    "         ,'Remote (Company based out of Other':'unknown'\n",
    "         ,'EgyptMorocco':'unknown'\n",
    "         ,'Remote (Company based out of Jeddah, Riyadh, Shaybah':'Jeddah, Riyadh, Shaybah'\n",
    "         ,'JordanQatarSaudi ArabiaUnited Arab Emirates':'unknown'\n",
    "         ,'EgyptLebanonMorocco':'unknown'\n",
    "         ,'EgyptTunisiaAlgeriaLibyaMoroccoSudan':'unknown'\n",
    "         ,'Monufya, Egypt':'Monufya'\n",
    "         ,'Remote (Company based out of Dubai':'Dubai'\n",
    "\n",
    "         }\n",
    "all_df['gov']=all_df['gov'].map(lambda x: convert.get(x, x))"
   ]
  },
  {
   "cell_type": "code",
   "execution_count": 64,
   "metadata": {},
   "outputs": [],
   "source": [
    "conv_coun={\n",
    "    \n",
    "    'United Arab Emirates (UAE)':'United Arab Emirates'\n",
    "    ,'Saudi Arabia)':'Saudi Arabia'\n",
    "    ,'Egypt Not Verified':'Egypt'\n",
    "    ,'Egypt New company':'Egypt'\n",
    "    ,'United Kingdom Not Verified':'United Kingdom'\n",
    "    ,'Cairo Not Verified':'Egypt'\n",
    "    ,'United Arab Emirates (UAE))':'United Arab Emirates'    \n",
    "}\n",
    "all_df['coun']=all_df['coun'].map(lambda x: conv_coun.get(x,x))"
   ]
  },
  {
   "cell_type": "markdown",
   "metadata": {},
   "source": [
    "#### so at the end we reach that shape for the gov and coun columns"
   ]
  },
  {
   "cell_type": "code",
   "execution_count": 65,
   "metadata": {},
   "outputs": [
    {
     "data": {
      "text/plain": [
       "gov\n",
       "Cairo                        1225\n",
       "Dubai                         529\n",
       "unknown                       453\n",
       "Riyadh                        380\n",
       "Giza                          310\n",
       "Abu Dhabi                     188\n",
       "Alexandria                    101\n",
       "Eastern Province               30\n",
       "Jeddah                         29\n",
       "Sharjah                        13\n",
       "Ajman                          11\n",
       "Monufya                         8\n",
       "Sharqia                         7\n",
       "Dakahlia                        6\n",
       "London                          4\n",
       "Doha                            4\n",
       "Fujairah                        3\n",
       "Port Said                       3\n",
       "Qalubia                         3\n",
       "Dhahran                         3\n",
       "Santa Barbara                   2\n",
       "McAllen                         2\n",
       "Ismailia                        2\n",
       "Rabat                           2\n",
       "Abha                            2\n",
       "Al Madina Al Munawarah          2\n",
       "Al Khobar                       2\n",
       "East Los Angeles                2\n",
       "Assiut                          1\n",
       "Istanbul                        1\n",
       "Mubarak Al-Kabeer               1\n",
       "Hail                            1\n",
       "Kuwait City                     1\n",
       "Rome                            1\n",
       "Mississauga                     1\n",
       "Atlanta                         1\n",
       "Gharbia                         1\n",
       "Los Angeles                     1\n",
       "Muscat                          1\n",
       "Jerusalem                       1\n",
       "Manchester                      1\n",
       "Beni Suef                       1\n",
       "Paris                           1\n",
       "Makkah Al Mukarramah            1\n",
       "Zamalek                         1\n",
       "Birmingham                      1\n",
       "SA                              1\n",
       "Neom                            1\n",
       "Jeddah, Riyadh, Shaybah         1\n",
       "Al Kuwait                       1\n",
       "DAHRRAN                         1\n",
       "Abu Dhabi, Dubai, Sharjah       1\n",
       "Ras Al Khaimah                  1\n",
       "Dubai, Abu Dhabi                1\n",
       "Other                           1\n",
       "Jeddah, Riyadh                  1\n",
       "Shubra al Khaymah               1\n",
       "Jubail                          1\n",
       "Abu Dhabi, Dubai                1\n",
       "Name: count, dtype: int64"
      ]
     },
     "execution_count": 65,
     "metadata": {},
     "output_type": "execute_result"
    }
   ],
   "source": [
    "all_df['gov'].value_counts()"
   ]
  },
  {
   "cell_type": "code",
   "execution_count": 66,
   "metadata": {},
   "outputs": [
    {
     "data": {
      "text/plain": [
       "coun\n",
       "Egypt                   1823\n",
       "United Arab Emirates     889\n",
       "Saudi Arabia             610\n",
       "United States              8\n",
       "Qatar                      7\n",
       "United Kingdom             6\n",
       "Kuwait                     3\n",
       "Morocco                    2\n",
       "Bahrain                    2\n",
       "Italy                      1\n",
       "Oman                       1\n",
       "Canada                     1\n",
       "Turkey                     1\n",
       "Palestine                  1\n",
       "France                     1\n",
       "Jordan                     1\n",
       "Name: count, dtype: int64"
      ]
     },
     "execution_count": 66,
     "metadata": {},
     "output_type": "execute_result"
    }
   ],
   "source": [
    "all_df['coun'].value_counts()"
   ]
  },
  {
   "cell_type": "markdown",
   "metadata": {},
   "source": [
    "### Handle the work statues and work mode columns"
   ]
  },
  {
   "cell_type": "code",
   "execution_count": 67,
   "metadata": {},
   "outputs": [
    {
     "name": "stderr",
     "output_type": "stream",
     "text": [
      "C:\\Users\\A&G Computer World\\AppData\\Local\\Temp\\ipykernel_21432\\1822643960.py:1: FutureWarning: A value is trying to be set on a copy of a DataFrame or Series through chained assignment using an inplace method.\n",
      "The behavior will change in pandas 3.0. This inplace method will never work because the intermediate object on which we are setting values always behaves as a copy.\n",
      "\n",
      "For example, when doing 'df[col].method(value, inplace=True)', try using 'df.method({col: value}, inplace=True)' or df[col] = df[col].method(value) instead, to perform the operation inplace on the original object.\n",
      "\n",
      "\n",
      "  all_df['Work_Status'].fillna('',inplace=True)\n",
      "C:\\Users\\A&G Computer World\\AppData\\Local\\Temp\\ipykernel_21432\\1822643960.py:2: FutureWarning: A value is trying to be set on a copy of a DataFrame or Series through chained assignment using an inplace method.\n",
      "The behavior will change in pandas 3.0. This inplace method will never work because the intermediate object on which we are setting values always behaves as a copy.\n",
      "\n",
      "For example, when doing 'df[col].method(value, inplace=True)', try using 'df.method({col: value}, inplace=True)' or df[col] = df[col].method(value) instead, to perform the operation inplace on the original object.\n",
      "\n",
      "\n",
      "  all_df['Work_Mode'].fillna('',inplace=True)\n"
     ]
    }
   ],
   "source": [
    "all_df['Work_Status'].fillna('',inplace=True)\n",
    "all_df['Work_Mode'].fillna('',inplace=True)"
   ]
  },
  {
   "cell_type": "code",
   "execution_count": 68,
   "metadata": {},
   "outputs": [
    {
     "data": {
      "text/plain": [
       "Work_Mode\n",
       "           2479\n",
       "On-site     547\n",
       "Hybrid      215\n",
       "Remote      116\n",
       "Name: count, dtype: int64"
      ]
     },
     "execution_count": 68,
     "metadata": {},
     "output_type": "execute_result"
    }
   ],
   "source": [
    "all_df['Work_Mode'].value_counts()"
   ]
  },
  {
   "cell_type": "code",
   "execution_count": 69,
   "metadata": {},
   "outputs": [
    {
     "data": {
      "text/plain": [
       "Work_Status\n",
       "                       2356\n",
       "Full Time               921\n",
       "Contract                 26\n",
       "Part Time                20\n",
       "Internship               18\n",
       "Freelance / Project      15\n",
       "Shift Based               1\n",
       "Name: count, dtype: int64"
      ]
     },
     "execution_count": 69,
     "metadata": {},
     "output_type": "execute_result"
    }
   ],
   "source": [
    "all_df['Work_Status'].value_counts()"
   ]
  },
  {
   "cell_type": "markdown",
   "metadata": {},
   "source": [
    "#### here we found alot of nulls on These 2 columns we tried to fill thim from the descreptions and make it accurate as we can"
   ]
  },
  {
   "cell_type": "code",
   "execution_count": 70,
   "metadata": {},
   "outputs": [],
   "source": [
    "def handle_work_st_m(row):\n",
    "    pattern_m = r'(?i)(Remote(?:ly)?|on[-_\\s]?site|work[-_\\s]?from[-_\\s]?home|hybrid)'\n",
    "    pattern_s = r'(?i)(Full[-_\\s]?time|part[-_\\s]?time|Internship|Freelance[-_/\\s]?Project|Shift Based)'\n",
    "    desc=row['job_description']\n",
    "    w_m=row['Work_Mode']\n",
    "    w_s=row['Work_Status']\n",
    "    if not w_m:\n",
    "        g=re.search(pattern_m,desc)\n",
    "        if g:\n",
    "            row['Work_Mode'] = g.group()\n",
    "    if not w_s:\n",
    "        g=re.search(pattern_s,desc)\n",
    "        if g:\n",
    "            row['Work_Status'] = g.group()\n",
    "\n",
    "    return row\n",
    "\n",
    "all_df=all_df.apply(lambda r:handle_work_st_m(r),axis=1)"
   ]
  },
  {
   "cell_type": "code",
   "execution_count": 71,
   "metadata": {},
   "outputs": [],
   "source": [
    "all_df['Work_Mode']=all_df['Work_Mode'].str.capitalize().replace('On site','On-site').replace('Onsite','On-site').replace('Remotely','Remote').replace('Work from home','Remote')\n",
    "\n",
    "all_df['Work_Status']=all_df['Work_Status'].str.capitalize().replace('Full-time','Full time').replace('Part-time','Part time').replace('Fulltime','Full time')\n"
   ]
  },
  {
   "cell_type": "code",
   "execution_count": 72,
   "metadata": {},
   "outputs": [
    {
     "data": {
      "text/plain": [
       "Work_Mode\n",
       "           2073\n",
       "On-site     650\n",
       "Hybrid      318\n",
       "Remote      316\n",
       "Name: count, dtype: int64"
      ]
     },
     "execution_count": 72,
     "metadata": {},
     "output_type": "execute_result"
    }
   ],
   "source": [
    "all_df['Work_Mode'].value_counts()"
   ]
  },
  {
   "cell_type": "code",
   "execution_count": 73,
   "metadata": {},
   "outputs": [
    {
     "data": {
      "text/plain": [
       "Work_Status\n",
       "                       2206\n",
       "Full time              1049\n",
       "Internship               31\n",
       "Part time                28\n",
       "Contract                 26\n",
       "Freelance / project      15\n",
       "Shift based               2\n",
       "Name: count, dtype: int64"
      ]
     },
     "execution_count": 73,
     "metadata": {},
     "output_type": "execute_result"
    }
   ],
   "source": [
    "all_df['Work_Status'].value_counts()"
   ]
  },
  {
   "cell_type": "code",
   "execution_count": 74,
   "metadata": {},
   "outputs": [
    {
     "name": "stdout",
     "output_type": "stream",
     "text": [
      "<class 'pandas.core.frame.DataFrame'>\n",
      "RangeIndex: 3357 entries, 0 to 3356\n",
      "Data columns (total 21 columns):\n",
      " #   Column            Non-Null Count  Dtype \n",
      "---  ------            --------------  ----- \n",
      " 0   job_title         3357 non-null   object\n",
      " 1   Career Level:     880 non-null    object\n",
      " 2   Education         2964 non-null   object\n",
      " 3   Experience        3357 non-null   object\n",
      " 4   Job Location      3357 non-null   object\n",
      " 5   skills            3357 non-null   object\n",
      " 6   url               3357 non-null   object\n",
      " 7   Work_Status       3357 non-null   object\n",
      " 8   job_description   3357 non-null   object\n",
      " 9   company_name      3357 non-null   object\n",
      " 10  Work_Mode         3357 non-null   object\n",
      " 11  Company Industry  2476 non-null   object\n",
      " 12  job_title_basic   3357 non-null   object\n",
      " 13  job_groups        3357 non-null   object\n",
      " 14  missed_skills     3357 non-null   object\n",
      " 15  important_skills  3357 non-null   object\n",
      " 16  in_depth_skills   3357 non-null   object\n",
      " 17  required_skills   3357 non-null   object\n",
      " 18  better_to_have    3357 non-null   object\n",
      " 19  gov               3357 non-null   object\n",
      " 20  coun              3357 non-null   object\n",
      "dtypes: object(21)\n",
      "memory usage: 550.9+ KB\n"
     ]
    }
   ],
   "source": [
    "all_df.info()"
   ]
  },
  {
   "cell_type": "markdown",
   "metadata": {},
   "source": [
    "### Handle the Experience column"
   ]
  },
  {
   "cell_type": "markdown",
   "metadata": {},
   "source": [
    "#### here we found the experience column have 129 unique values so to make thim lower we decide to take only the menimum years of experience neaded to make it easier for analysis and visualization"
   ]
  },
  {
   "cell_type": "code",
   "execution_count": 75,
   "metadata": {},
   "outputs": [
    {
     "data": {
      "text/plain": [
       "Experience\n",
       "3 - 5 years      385\n",
       "2 - 4 years      361\n",
       "5 - 10 years     207\n",
       "2 - 5 years      192\n",
       "5 - 7 years      173\n",
       "                ... \n",
       "15 - 16 years      1\n",
       "17 - 20 years      1\n",
       "20 - 23 years      1\n",
       "7 - 16 years       1\n",
       "3 - 18 years       1\n",
       "Name: count, Length: 129, dtype: int64"
      ]
     },
     "execution_count": 75,
     "metadata": {},
     "output_type": "execute_result"
    }
   ],
   "source": [
    "all_df['Experience'].value_counts()"
   ]
  },
  {
   "cell_type": "code",
   "execution_count": 76,
   "metadata": {},
   "outputs": [],
   "source": [
    "def handle_exper_out(row):\n",
    "    exp=row['Experience']\n",
    "\n",
    "    if '-' in exp:\n",
    "        l=exp.split(' - ')\n",
    "        row['Min_Exp'] = l[0]\n",
    "    elif 'not specified' in exp:\n",
    "        c_l=row['Career Level:']\n",
    "        if c_l == 'Entry Level (Junior Level / Fresh Grad)':\n",
    "            row['Min_Exp']='0'\n",
    "        else:\n",
    "            row['Min_Exp']='not specified'\n",
    "    else:\n",
    "        g=re.search(r'(\\d)',exp)\n",
    "        if g:\n",
    "            row['Min_Exp']=g.group()\n",
    "        else:\n",
    "            row['Min_Exp']='not specified'\n",
    "        \n",
    "\n",
    "    return row\n",
    "\n",
    "    \n",
    "all_df=all_df.apply(handle_exper_out,axis=1)\n",
    "        \n"
   ]
  },
  {
   "cell_type": "code",
   "execution_count": 77,
   "metadata": {},
   "outputs": [
    {
     "data": {
      "text/plain": [
       "Experience\n",
       "more than 3 years     35\n",
       "not specified         25\n",
       "more than 5 years     24\n",
       "more than 2 years     21\n",
       "more than 4 years     15\n",
       "more than 1 year      10\n",
       "more than 10 years     4\n",
       "more than 6 years      3\n",
       "more than 8 years      3\n",
       "5 years                3\n",
       "more than 7 years      2\n",
       "nan                    1\n",
       "2 years                1\n",
       "1 year                 1\n",
       "3 years                1\n",
       "20 years               1\n",
       "6 years                1\n",
       "7+ years               1\n",
       "0 year                 1\n",
       "Name: count, dtype: int64"
      ]
     },
     "execution_count": 77,
     "metadata": {},
     "output_type": "execute_result"
    }
   ],
   "source": [
    "all_df[all_df['Experience'].str.contains('-') == False]['Experience'].value_counts()"
   ]
  },
  {
   "cell_type": "code",
   "execution_count": 78,
   "metadata": {},
   "outputs": [
    {
     "data": {
      "text/plain": [
       "99     https://wuzzuf.net/internship/QYF8bhZJL8W1-Mob...\n",
       "100    https://wuzzuf.net/internship/XNGK8XQjM5wQ-Web...\n",
       "107    https://wuzzuf.net/internship/yVxSKFsMDsFZ-Qua...\n",
       "112    https://wuzzuf.net/internship/53QxEmWbJLr0-Net...\n",
       "151    https://wuzzuf.net/internship/biqzvastniav-Odo...\n",
       "152    https://wuzzuf.net/internship/EJV2rhVh6mIK-Bus...\n",
       "216    https://wuzzuf.net/jobs/p/1OOM1b7xJm61-Junior-...\n",
       "227    https://wuzzuf.net/jobs/p/g/m8Z4XHpZGdup-Senio...\n",
       "282    https://wuzzuf.net/internship/OYi5kF28Z2XW-IT-...\n",
       "323    https://wuzzuf.net/internship/fZDj577J940E-IT-...\n",
       "351    https://wuzzuf.net/jobs/p/g/o4kvi8N781sn-PMS-P...\n",
       "377    https://wuzzuf.net/internship/ffMrEyDm60xI-Pro...\n",
       "450    https://wuzzuf.net/internship/Y5zZQclaSa9N-Jun...\n",
       "451    https://wuzzuf.net/internship/2EqG3ZruwxL7-Jun...\n",
       "455    https://wuzzuf.net/internship/oQ3NCiogUssg-Jun...\n",
       "488    https://wuzzuf.net/jobs/p/HsiT0IDu00G9-Junior-...\n",
       "489    https://wuzzuf.net/jobs/p/arD9o9QmZJ4w-Junior-...\n",
       "495    https://wuzzuf.net/internship/8lAzrs6cO6ww-Jun...\n",
       "585    https://wuzzuf.net/jobs/p/CFkUYA80MsaA-Technic...\n",
       "606    https://wuzzuf.net/jobs/p/0DlEE0y2BlJp-IT-Serv...\n",
       "699    https://wuzzuf.net/jobs/p/CzUGfYYfXRVW-System-...\n",
       "706    https://wuzzuf.net/internship/s4vGfePwuZ3M-RD-...\n",
       "832    https://wuzzuf.net/internship/VxwdK35o8idN-Bus...\n",
       "847    https://wuzzuf.net/jobs/p/dQE3D5oiBFXt-Busines...\n",
       "859    https://wuzzuf.net/jobs/p/5Q2L7CrWQrMz-Busines...\n",
       "Name: url, dtype: object"
      ]
     },
     "execution_count": 78,
     "metadata": {},
     "output_type": "execute_result"
    }
   ],
   "source": [
    "\n",
    "all_df[all_df['Experience'] == 'not specified']['url']"
   ]
  },
  {
   "cell_type": "code",
   "execution_count": 79,
   "metadata": {},
   "outputs": [
    {
     "data": {
      "text/plain": [
       "'Bachelor degree in computer science or IT is a must.! Strong technology, analytical, and communication skills.! Demonstrated ability to develop innovative and impactful systems solutions.! Basic exp in technical writing.! This internship with an intention to get hired based on your performance! Duration: 4 Month! Paid Internship! '"
      ]
     },
     "execution_count": 79,
     "metadata": {},
     "output_type": "execute_result"
    }
   ],
   "source": [
    "all_df['job_description'][832]"
   ]
  },
  {
   "cell_type": "code",
   "execution_count": 80,
   "metadata": {},
   "outputs": [
    {
     "data": {
      "text/plain": [
       "Experience\n",
       "3 - 4 years          91\n",
       "5 - 8 years          82\n",
       "8 - 10 years         76\n",
       "4 - 7 years          64\n",
       "3 - 7 years          61\n",
       "10 - 12 years        54\n",
       "4 - 8 years          51\n",
       "4 - 5 years          51\n",
       "7 - 10 years         45\n",
       "6 - 8 years          41\n",
       "1 - 4 years          41\n",
       "2 - 6 years          39\n",
       "3 - 8 years          37\n",
       "1 - 5 years          35\n",
       "more than 3 years    35\n",
       "5 - 6 years          30\n",
       "7 - 9 years          28\n",
       "6 - 10 years         28\n",
       "0 - 2 years          25\n",
       "not specified        25\n",
       "Name: count, dtype: int64"
      ]
     },
     "execution_count": 80,
     "metadata": {},
     "output_type": "execute_result"
    }
   ],
   "source": [
    "all_df['Experience'].value_counts()[10:30]"
   ]
  },
  {
   "cell_type": "code",
   "execution_count": 81,
   "metadata": {},
   "outputs": [
    {
     "name": "stdout",
     "output_type": "stream",
     "text": [
      "<class 'pandas.core.frame.DataFrame'>\n",
      "RangeIndex: 3357 entries, 0 to 3356\n",
      "Data columns (total 22 columns):\n",
      " #   Column            Non-Null Count  Dtype \n",
      "---  ------            --------------  ----- \n",
      " 0   job_title         3357 non-null   object\n",
      " 1   Career Level:     880 non-null    object\n",
      " 2   Education         2964 non-null   object\n",
      " 3   Experience        3357 non-null   object\n",
      " 4   Job Location      3357 non-null   object\n",
      " 5   skills            3357 non-null   object\n",
      " 6   url               3357 non-null   object\n",
      " 7   Work_Status       3357 non-null   object\n",
      " 8   job_description   3357 non-null   object\n",
      " 9   company_name      3357 non-null   object\n",
      " 10  Work_Mode         3357 non-null   object\n",
      " 11  Company Industry  2476 non-null   object\n",
      " 12  job_title_basic   3357 non-null   object\n",
      " 13  job_groups        3357 non-null   object\n",
      " 14  missed_skills     3357 non-null   object\n",
      " 15  important_skills  3357 non-null   object\n",
      " 16  in_depth_skills   3357 non-null   object\n",
      " 17  required_skills   3357 non-null   object\n",
      " 18  better_to_have    3357 non-null   object\n",
      " 19  gov               3357 non-null   object\n",
      " 20  coun              3357 non-null   object\n",
      " 21  Min_Exp           3357 non-null   object\n",
      "dtypes: object(22)\n",
      "memory usage: 577.1+ KB\n"
     ]
    }
   ],
   "source": [
    "all_df.info()"
   ]
  },
  {
   "cell_type": "markdown",
   "metadata": {},
   "source": [
    "### Handle The Career Level: column"
   ]
  },
  {
   "cell_type": "markdown",
   "metadata": {},
   "source": [
    "#### I'm going to delete this column because it's difficult to extract useful information from the 'description' column. \n",
    "#### Instead, I will focus on extracting relevant data from the 'experience' column."
   ]
  },
  {
   "cell_type": "code",
   "execution_count": 82,
   "metadata": {},
   "outputs": [],
   "source": [
    "all_df.drop(columns='Career Level:',inplace=True)"
   ]
  },
  {
   "cell_type": "code",
   "execution_count": 83,
   "metadata": {},
   "outputs": [
    {
     "name": "stdout",
     "output_type": "stream",
     "text": [
      "<class 'pandas.core.frame.DataFrame'>\n",
      "RangeIndex: 3357 entries, 0 to 3356\n",
      "Data columns (total 21 columns):\n",
      " #   Column            Non-Null Count  Dtype \n",
      "---  ------            --------------  ----- \n",
      " 0   job_title         3357 non-null   object\n",
      " 1   Education         2964 non-null   object\n",
      " 2   Experience        3357 non-null   object\n",
      " 3   Job Location      3357 non-null   object\n",
      " 4   skills            3357 non-null   object\n",
      " 5   url               3357 non-null   object\n",
      " 6   Work_Status       3357 non-null   object\n",
      " 7   job_description   3357 non-null   object\n",
      " 8   company_name      3357 non-null   object\n",
      " 9   Work_Mode         3357 non-null   object\n",
      " 10  Company Industry  2476 non-null   object\n",
      " 11  job_title_basic   3357 non-null   object\n",
      " 12  job_groups        3357 non-null   object\n",
      " 13  missed_skills     3357 non-null   object\n",
      " 14  important_skills  3357 non-null   object\n",
      " 15  in_depth_skills   3357 non-null   object\n",
      " 16  required_skills   3357 non-null   object\n",
      " 17  better_to_have    3357 non-null   object\n",
      " 18  gov               3357 non-null   object\n",
      " 19  coun              3357 non-null   object\n",
      " 20  Min_Exp           3357 non-null   object\n",
      "dtypes: object(21)\n",
      "memory usage: 550.9+ KB\n"
     ]
    }
   ],
   "source": [
    "all_df.info()"
   ]
  },
  {
   "cell_type": "markdown",
   "metadata": {},
   "source": [
    "### Finally Delete all unnecessary columns"
   ]
  },
  {
   "cell_type": "markdown",
   "metadata": {},
   "source": [
    "### ha\n"
   ]
  },
  {
   "cell_type": "code",
   "execution_count": 84,
   "metadata": {},
   "outputs": [
    {
     "data": {
      "text/plain": [
       "959     acceptance testing, reporting, deploymentand t...\n",
       "988     docker, css, ci/cd pipelines, html, containeri...\n",
       "989     html5, unit testing, jquery, spring boot, apis...\n",
       "995     programming, it infrastructure, cobit, oracle,...\n",
       "1006    big data, auditing, english, spring boot, orac...\n",
       "1013    c, version control, dart, jira, kotlin, cloud ...\n",
       "1020    programming, java, mysql, junit, jenkins, fix ...\n",
       "1037    java, programming languages, asp, php, oracle ...\n",
       "1050    database, sql, performance tuning, rest, engli...\n",
       "1064    cloud solutions, software architecture, oracle...\n",
       "1067    java, database, ibm cloud, cloud, oracle, mq, ...\n",
       "1068                   saas, communication, cloud, oracle\n",
       "1080    net, css, cloud solutions, interpersonal skill...\n",
       "1088    node.js, cloud, c, spring boot, design thinkin...\n",
       "1093    cloud, oracle, pl/sql, version control, commun...\n",
       "1096    iaas, cloud solutions, data security, paas, or...\n",
       "1103    automation, cloud, epm cloud, finance, oracle,...\n",
       "1106            netsuite, negotiation, oracle, english, c\n",
       "1108    project management, cloud solutions, oracle, c...\n",
       "1109    mysql, node.js, hugging face, pytorch, english...\n",
       "1110    project management, pmp, cloud solutions, orac...\n",
       "1119    interpersonal skills, oracle certification, co...\n",
       "1121    ai, ibm cloud, interpersonal skills, cloud, or...\n",
       "1122              scm, cloud solutions, oracle, saas, erp\n",
       "1125    variance analysis, access control, cloud, orac...\n",
       "1126                        network, english, oracle, css\n",
       "1128    quality assurance, cloud solutions, css, time ...\n",
       "1132    project management, database, less, oracle, ne...\n",
       "1135    docker, iaas, css, ci/cd, elk stack, prometheu...\n",
       "1138    project management, cloud solutions, oracle, r...\n",
       "1141    project management, cloud solutions, network, ...\n",
       "1142    programming, big data, java, nosql, networking...\n",
       "1143    automation, cloud services, core data, oracle,...\n",
       "1145    strategic thinking, enterprise architecture, a...\n",
       "1146    programming, crp, scm, cloud solutions, databa...\n",
       "1147    programming, css, database integration, paas, ...\n",
       "1148    programming, css, database integration, paas, ...\n",
       "1149    crp, scm, cloud solutions, oracle, troubleshoo...\n",
       "1150    azure, oracle database, documentation, databas...\n",
       "1151    technical architecture, cloud solutions, oracl...\n",
       "1153    oracle database, troubleshooting, cloud soluti...\n",
       "1154    cloud solutions, troubleshooting skills, oracl...\n",
       "1155    cloud solutions, oracle, troubleshooting, repo...\n",
       "1157    cloud solutions, troubleshooting skills, workf...\n",
       "1160                                      ar, oracle, erp\n",
       "1161       presentation skills, leadership, cloud, oracle\n",
       "1162    srs, database, delegation, azure, cloud, oracl...\n",
       "1163    cloud solutions, oracle, finance, troubleshoot...\n",
       "1228    cloud services, epm cloud, oracle, communicati...\n",
       "1245    mysql, ui, node.js, iis, css, xml, html, jquer...\n",
       "Name: in_depth_skills, dtype: object"
      ]
     },
     "execution_count": 84,
     "metadata": {},
     "output_type": "execute_result"
    }
   ],
   "source": [
    "all_df[all_df['in_depth_skills'].str.contains('oracle')]['in_depth_skills'][50:100]"
   ]
  },
  {
   "cell_type": "code",
   "execution_count": 85,
   "metadata": {},
   "outputs": [
    {
     "data": {
      "text/plain": [
       "'project management, interpersonal skills, communication, oracle, oracle database, microsoft project, leadership, pl/sql, reporting, mentorship, jira, agile, testing'"
      ]
     },
     "execution_count": 85,
     "metadata": {},
     "output_type": "execute_result"
    }
   ],
   "source": [
    "all_df['in_depth_skills'][1310]"
   ]
  },
  {
   "cell_type": "code",
   "execution_count": 86,
   "metadata": {},
   "outputs": [
    {
     "data": {
      "text/plain": [
       "'Job DescriptionRoles & ResponsibilitiesOverview:Tawuniya, a leading insurance company, is seeking a skilled Development Manager with a strong background in Oracle technologies and reporting. The successful candidate will manage and oversee the development of IT solutions, ensuring alignment with business objectives and the delivery of high-quality results. This role demands excellent leadership skills, technical expertise, and a comprehensive understanding of Oracle technologies and reporting tools.Responsibilities:• Leadership and Management: • Lead and manage the development team, providing guidance, mentorship, and support to ensure high performance and professional growth.• Oversee planning, execution, and delivery of development projects, ensuring they are completed on time, within scope, and on budget.• Collaborate with cross-functional teams, including business analysts, project managers, and stakeholders, to gather requirements and define project goals.• Technical Expertise: • Design, develop, and maintain Oracle-based applications and systems, ensuring they meet company requirements and industry standards.• Utilize reporting tools to generate accurate and timely reports, providing valuable insights for business decision-making.• Ensure seamless integration of Oracle applications with other systems and technologies.• Project Management: • Develop and manage project plans, including timelines, resource allocation, and risk management strategies.• Monitor project progress, identify potential issues, and implement corrective actions to keep projects on track.• Ensure compliance with company policies, industry regulations, and best practices in all development activities.• Quality Assurance: • Implement and maintain rigorous testing procedures to ensure the quality, reliability, and performance of developed applications.• Conduct code reviews and provide feedback to ensure adherence to coding standards and best practices.• Oversee the resolution of technical issues and bugs, ensuring timely and effective solutions.• Reporting and Analysis: • Develop and maintain comprehensive reporting systems to track project metrics, performance indicators, and other key data.• Provide regular status updates and reports to senior management and stakeholders, highlighting achievements, challenges, and recommendations.• Analyze data to generate insights that support continuous improvement and strategic planning.>Job DescriptionRoles & ResponsibilitiesOverview:Tawuniya, a leading insurance company, is seeking a skilled Development Manager with a strong background in Oracle technologies and reporting. The successful candidate will manage and oversee the development of IT solutions, ensuring alignment with business objectives and the delivery of high-quality results. This role demands excellent leadership skills, technical expertise, and a comprehensive understanding of Oracle technologies and reporting tools.Responsibilities:• Leadership and Management: • Lead and manage the development team, providing guidance, mentorship, and support to ensure high performance and professional growth.• Oversee planning, execution, and delivery of development projects, ensuring they are completed on time, within scope, and on budget.• Collaborate with cross-functional teams, including business analysts, project managers, and stakeholders, to gather requirements and define project goals.• Technical Expertise: • Design, develop, and maintain Oracle-based applications and systems, ensuring they meet company requirements and industry standards.• Utilize reporting tools to generate accurate and timely reports, providing valuable insights for business decision-making.• Ensure seamless integration of Oracle applications with other systems and technologies.• Project Management: • Develop and manage project plans, including timelines, resource allocation, and risk management strategies.• Monitor project progress, identify potential issues, and implement corrective actions to keep projects on track.• Ensure compliance with company policies, industry regulations, and best practices in all development activities.• Quality Assurance: • Implement and maintain rigorous testing procedures to ensure the quality, reliability, and performance of developed applications.• Conduct code reviews and provide feedback to ensure adherence to coding standards and best practices.• Oversee the resolution of technical issues and bugs, ensuring timely and effective solutions.• Reporting and Analysis: • Develop and maintain comprehensive reporting systems to track project metrics, performance indicators, and other key data.• Provide regular status updates and reports to senior management and stakeholders, highlighting achievements, challenges, and recommendations.• Analyze data to generate insights that support continuous improvement and strategic planning.>Desired Candidate Profile• Bachelor s degree in Computer Science, Information Technology, or a related field.• 7+ years of experience in software development, including at least 3 years in a managerial or leadership role.• Strong expertise in Oracle technologies, including Oracle Database, Oracle Applications, and PL/SQL.• Proven experience with reporting tools such as Oracle Reports, BI Publisher, and other relevant technologies.• Solid understanding of software development methodologies, including Agile and Waterfall.• Excellent project management skills with a successful track record of delivering complex development projects.• Strong problem-solving skills with strategic and analytical thinking abilities.• Exceptional communication and interpersonal skills, with the ability to collaborate effectively with cross-functional teams and stakeholders.• Proficiency in project management and collaboration tools such as JIRA, Confluence, and Microsoft Project.• Experience in the insurance industry is a plus.Why work with us?• Embrace a brighter future with comprehensive Social/Medical Insurance• Collaborate with industry-leading tech talents• Nurture your career in a dynamic growth culture• Model: On site • Salary Paid in Dollars>'"
      ]
     },
     "execution_count": 86,
     "metadata": {},
     "output_type": "execute_result"
    }
   ],
   "source": [
    "all_df['job_description'][1310]"
   ]
  },
  {
   "cell_type": "markdown",
   "metadata": {},
   "source": [
    "'Job DescriptionRoles & ResponsibilitiesOverview:Tawuniya, a leading insurance company, is seeking a skilled Development Manager with a strong background in Oracle technologies and reporting. The successful candidate will manage and oversee the development of IT solutions, ensuring alignment with business objectives and the delivery of high-quality results. This role demands excellent leadership skills, technical expertise, and a comprehensive understanding of Oracle technologies and reporting tools.Responsibilities:• Leadership and Management: • Lead and manage the development team, providing guidance, mentorship, and support to ensure high performance and professional growth.• Oversee planning, execution, and delivery of development projects, ensuring they are completed on time, within scope, and on budget.• Collaborate with cross-functional teams, including business analysts, project managers, and stakeholders, to gather requirements and define project goals.• Technical Expertise: • Design, develop, and maintain Oracle-based applications and systems, ensuring they meet company requirements and industry standards.• Utilize reporting tools to generate accurate and timely reports, providing valuable insights for business decision-making.• Ensure seamless integration of Oracle applications with other systems and technologies.• Project Management: • Develop and manage project plans, including timelines, resource allocation, and risk management strategies.• Monitor project progress, identify potential issues, and implement corrective actions to keep projects on track.• Ensure compliance with company policies, industry regulations, and best practices in all development activities.• Quality Assurance: • Implement and maintain rigorous testing procedures to ensure the quality, reliability, and performance of developed applications.• Conduct code reviews and provide feedback to ensure adherence to coding standards and best practices.• Oversee the resolution of technical issues and bugs, ensuring timely and effective solutions.• Reporting and Analysis: • Develop and maintain comprehensive reporting systems to track project metrics, performance indicators, and other key data.• Provide regular status updates and reports to senior management and stakeholders, highlighting achievements, challenges, and recommendations.• Analyze data to generate insights that support continuous improvement and strategic planning.>Job DescriptionRoles & ResponsibilitiesOverview:Tawuniya, a leading insurance company, is seeking a skilled Development Manager with a strong background in Oracle technologies and reporting. The successful candidate will manage and oversee the development of IT solutions, ensuring alignment with business objectives and the delivery of high-quality results. This role demands excellent leadership skills, technical expertise, and a comprehensive understanding of Oracle technologies and reporting tools.Responsibilities:• Leadership and Management: • Lead and manage the development team, providing guidance, mentorship, and support to ensure high performance and professional growth.• Oversee planning, execution, and delivery of development projects, ensuring they are completed on time, within scope, and on budget.• Collaborate with cross-functional teams, including business analysts, project managers, and stakeholders, to gather requirements and define project goals.• Technical Expertise: • Design, develop, and maintain Oracle-based applications and systems, ensuring they meet company requirements and industry standards.• Utilize reporting tools to generate accurate and timely reports, providing valuable insights for business decision-making.• Ensure seamless integration of Oracle applications with other systems and technologies.• Project Management: • Develop and manage project plans, including timelines, resource allocation, and risk management strategies.• Monitor project progress, identify potential issues, and implement corrective actions to keep projects on track.• Ensure compliance with company policies, industry regulations, and best practices in all development activities.• Quality Assurance: • Implement and maintain rigorous testing procedures to ensure the quality, reliability, and performance of developed applications.• Conduct code reviews and provide feedback to ensure adherence to coding standards and best practices.• Oversee the resolution of technical issues and bugs, ensuring timely and effective solutions.• Reporting and Analysis: • Develop and maintain comprehensive reporting systems to track project metrics, performance indicators, and other key data.• Provide regular status updates and reports to senior management and stakeholders, highlighting achievements, challenges, and recommendations.• Analyze data to generate insights that support continuous improvement and strategic planning.>Desired Candidate Profile• Bachelor s degree in Computer Science, Information Technology, or a related field.• 7+ years of experience in software development, including at least 3 years in a managerial or leadership role.• Strong expertise in Oracle technologies, including Oracle Database, Oracle Applications, and PL/SQL.• Proven experience with reporting tools such as Oracle Reports, BI Publisher, and other relevant technologies.• Solid understanding of software development methodologies, including Agile and Waterfall.• Excellent project management skills with a successful track record of delivering complex development projects.• Strong problem-solving skills with strategic and analytical thinking abilities.• Exceptional communication and interpersonal skills, with the ability to collaborate effectively with cross-functional teams and stakeholders.• Proficiency in project management and collaboration tools such as JIRA, Confluence, and Microsoft Project.• Experience in the insurance industry is a plus.Why work with us?• Embrace a brighter future with comprehensive Social/Medical Insurance• Collaborate with industry-leading tech talents• Nurture your career in a dynamic growth culture• Model: On site • Salary Paid in Dollars>'\n"
   ]
  },
  {
   "cell_type": "code",
   "execution_count": 87,
   "metadata": {},
   "outputs": [
    {
     "data": {
      "text/plain": [
       "'https://www.naukrigulf.com/civil-architect-draftsman-jobs-in-uae-in-modern-building-contracting-co-5-to-7-years-n-cd-10005615-jid-091024500438'"
      ]
     },
     "execution_count": 87,
     "metadata": {},
     "output_type": "execute_result"
    }
   ],
   "source": [
    "all_df['url'][1414]"
   ]
  },
  {
   "cell_type": "code",
   "execution_count": 88,
   "metadata": {},
   "outputs": [
    {
     "data": {
      "text/plain": [
       "'Software Development'"
      ]
     },
     "execution_count": 88,
     "metadata": {},
     "output_type": "execute_result"
    }
   ],
   "source": [
    "all_df['job_groups'][1414]"
   ]
  },
  {
   "cell_type": "code",
   "execution_count": 89,
   "metadata": {},
   "outputs": [
    {
     "name": "stdout",
     "output_type": "stream",
     "text": [
      "Before:3357\n",
      "After:3352\n"
     ]
    }
   ],
   "source": [
    "print(f\"Before:{len(all_df)}\")\n",
    "all_df.drop_duplicates(subset=['job_title','company_name','Experience','in_depth_skills','Job Location'],inplace=True)\n",
    "print(f\"After:{len(all_df)}\")"
   ]
  },
  {
   "cell_type": "code",
   "execution_count": 90,
   "metadata": {},
   "outputs": [],
   "source": [
    "# all these columns we extract from it a lot of information but they themself are not needed\n",
    "all_df.drop(columns=['skills','important_skills','Job Location','missed_skills','Experience','job_description'],inplace=True)"
   ]
  },
  {
   "cell_type": "code",
   "execution_count": 91,
   "metadata": {},
   "outputs": [
    {
     "name": "stdout",
     "output_type": "stream",
     "text": [
      "<class 'pandas.core.frame.DataFrame'>\n",
      "Index: 3352 entries, 0 to 3356\n",
      "Data columns (total 15 columns):\n",
      " #   Column            Non-Null Count  Dtype \n",
      "---  ------            --------------  ----- \n",
      " 0   job_title         3352 non-null   object\n",
      " 1   Education         2959 non-null   object\n",
      " 2   url               3352 non-null   object\n",
      " 3   Work_Status       3352 non-null   object\n",
      " 4   company_name      3352 non-null   object\n",
      " 5   Work_Mode         3352 non-null   object\n",
      " 6   Company Industry  2472 non-null   object\n",
      " 7   job_title_basic   3352 non-null   object\n",
      " 8   job_groups        3352 non-null   object\n",
      " 9   in_depth_skills   3352 non-null   object\n",
      " 10  required_skills   3352 non-null   object\n",
      " 11  better_to_have    3352 non-null   object\n",
      " 12  gov               3352 non-null   object\n",
      " 13  coun              3352 non-null   object\n",
      " 14  Min_Exp           3352 non-null   object\n",
      "dtypes: object(15)\n",
      "memory usage: 419.0+ KB\n"
     ]
    }
   ],
   "source": [
    "all_df.info()"
   ]
  },
  {
   "cell_type": "code",
   "execution_count": 92,
   "metadata": {},
   "outputs": [
    {
     "data": {
      "text/plain": [
       "'automate infrastructure deployment, ci/cd pipelines, iac, security best practices, devops, openstack deployment, python, cloud technologies, kubernetes, agile, terraform, automation, coa, ansible, cka, networking concepts, openstack, linux, cloud infrastructure, cloud deployment'"
      ]
     },
     "execution_count": 92,
     "metadata": {},
     "output_type": "execute_result"
    }
   ],
   "source": [
    "all_df['in_depth_skills'][5]"
   ]
  },
  {
   "cell_type": "code",
   "execution_count": 93,
   "metadata": {},
   "outputs": [
    {
     "data": {
      "text/plain": [
       "5       https://wuzzuf.net/jobs/p/9fGUKEKalEX6-Cloud-I...\n",
       "7       https://wuzzuf.net/jobs/p/kSBFx2iiO6Kq-Senior-...\n",
       "22      https://wuzzuf.net/jobs/p/dDsuoBe5qKL4-IT-Audi...\n",
       "34      https://wuzzuf.net/jobs/p/9mwjyt4wDIi2-Senior-...\n",
       "46      https://wuzzuf.net/jobs/p/0XeMhIWmbM3N-IT-Spec...\n",
       "                              ...                        \n",
       "3328    https://www.naukrigulf.com/it-director-jobs-in...\n",
       "3339    https://www.naukrigulf.com/cloud-engineer-jobs...\n",
       "3344    https://www.naukrigulf.com/it-manager-jobs-in-...\n",
       "3347    https://www.naukrigulf.com/infrastructure-anal...\n",
       "3350    https://www.naukrigulf.com/senior-manager-cybe...\n",
       "Name: url, Length: 266, dtype: object"
      ]
     },
     "execution_count": 93,
     "metadata": {},
     "output_type": "execute_result"
    }
   ],
   "source": [
    "all_df[all_df['in_depth_skills'].str.contains('infrastructure')]['url']"
   ]
  },
  {
   "cell_type": "code",
   "execution_count": 94,
   "metadata": {},
   "outputs": [],
   "source": [
    "all_df.to_excel('jobs_cleaned_1.xlsx')"
   ]
  },
  {
   "cell_type": "code",
   "execution_count": 95,
   "metadata": {},
   "outputs": [
    {
     "data": {
      "text/plain": [
       "better_to_have\n",
       "                                      2905\n",
       " testing                                11\n",
       "english                                 10\n",
       "agile                                    9\n",
       " cloud                                   7\n",
       "                                      ... \n",
       "technical architecture                   1\n",
       " database, restful, apis, security       1\n",
       " intelligent                             1\n",
       "react.js                                 1\n",
       "cybersecurity                            1\n",
       "Name: count, Length: 263, dtype: int64"
      ]
     },
     "execution_count": 95,
     "metadata": {},
     "output_type": "execute_result"
    }
   ],
   "source": [
    "all_df['better_to_have'].value_counts()"
   ]
  },
  {
   "cell_type": "code",
   "execution_count": null,
   "metadata": {},
   "outputs": [],
   "source": []
  }
 ],
 "metadata": {
  "kernelspec": {
   "display_name": "Python 3",
   "language": "python",
   "name": "python3"
  },
  "language_info": {
   "codemirror_mode": {
    "name": "ipython",
    "version": 3
   },
   "file_extension": ".py",
   "mimetype": "text/x-python",
   "name": "python",
   "nbconvert_exporter": "python",
   "pygments_lexer": "ipython3",
   "version": "3.12.2"
  }
 },
 "nbformat": 4,
 "nbformat_minor": 2
}
