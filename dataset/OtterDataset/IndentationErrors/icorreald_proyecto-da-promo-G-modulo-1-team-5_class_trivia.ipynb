{
 "cells": [
  {
   "cell_type": "code",
   "execution_count": 3,
   "metadata": {},
   "outputs": [
    {
     "ename": "IndentationError",
     "evalue": "expected an indented block (1260758819.py, line 29)",
     "output_type": "error",
     "traceback": [
      "\u001b[0;36m  File \u001b[0;32m\"/tmp/ipykernel_682/1260758819.py\"\u001b[0;36m, line \u001b[0;32m29\u001b[0m\n\u001b[0;31m    def pregunta_acertada(self):\u001b[0m\n\u001b[0m    ^\u001b[0m\n\u001b[0;31mIndentationError\u001b[0m\u001b[0;31m:\u001b[0m expected an indented block\n"
     ]
    }
   ],
   "source": [
    "import string\n",
    "import random\n",
    "\n",
    "class Trivial:\n",
    "    def __init__(self):\n",
    "\n",
    "        self.trivial = {'¿Cuál es la capital de Qatar?' : 'doha' , \n",
    "           '¿Cuál es el país más grande del mundo?' : 'rusia', \n",
    "           '¿Cuál es la montaña más alta del mundo?' : 'everest', \n",
    "           '¿Cuántos estados hay en Estados Unidos?' : '50', \n",
    "           '¿Cuántos países forman parte de la Unión Europea?' : '27', \n",
    "           '¿Cuál es el continente más poblado?' : 'asia', \n",
    "           '¿Cuál es el río más largo de Europa?' : 'volga', \n",
    "           '¿Cuál es el país menos densamente poblado del mundo?' : 'mongolia', \n",
    "           '¿En qué país latinoamericano encontramos la ciudad de Cochabamba?' : 'bolivia', \n",
    "           '¿Qué país africano tiene como capital Nairobi?' : 'kenia'}\n",
    "        self.lista_preguntas = list(self.trivial.keys())\n",
    "        self.aciertos = 0\n",
    "        self.intentos = 2\n",
    "        self.fallos = 0\n",
    "        \n",
    "    \n",
    "\n",
    "    def banner_inicio(self):\n",
    "        # metr aquí reglas: 3 intntos para acertar una pregunta. Ganas 5 aciertos. Pierds con 3 fallos.\n",
    "        # preguntas geografía\n",
    "        #nombre juego\n",
    "\n",
    "    \n",
    "    def jugada(self):\n",
    "        if intentos > 0:\n",
    "            if intentos == 2:\n",
    "                pregunta_random = random.choice(lista_preguntas)\n",
    "                lista_preguntas.remove(pregunta_random) # ----- eliminamos el random de la lista de preguntas\n",
    "                # --Mantiene la misma pregunta durante los 3 intentos para acertarla\n",
    "            \n",
    "            respuesta = input(pregunta_random).lower().strip() # ----- capitalize.() para que salgan correctamente escritas en el print de lín. 45\n",
    "            # --Solicita la respuesta de la jugadora\n",
    "\n",
    "            if trivial.get(pregunta_random) == respuesta:\n",
    "                aciertos += 1\n",
    "                intentos = 2\n",
    "                print(f\"¡Enhorabuena, has acertado!\")\n",
    "                print(\"------------------------------------------------\")\n",
    "                print(f\"------- Llevas {aciertos} acierto(s) y {fallos} fallo(s) -------\")\n",
    "                print(\"------------------------------------------------\")\n",
    "                # --Si la respuesta es correcta, da un punto y pasa a la siguiente pregunta. También se restablece el número de intentos para la siguiente ronda\n",
    "            \n",
    "            else: \n",
    "                intentos -= 1\n",
    "                if intentos != 0: # --Condicional extra para que el print no muestre un mensaje diciendo que quedan \"0 intentos\"\n",
    "                    print(f\"No es correcto, pero aún te quedan {intentos} intento(s). ¡Prueba de nuevo!\")\n",
    "                    print(\"------------------------------------------------\")\n",
    "                    # --Si la respuesta es errónea, pero aún quedan intentos, vuelve a solicitar respuesta a la jugadora. Cada respuesta errónea resta 1 intento  \n",
    "        else:\n",
    "            fallos += 1\n",
    "            intentos = 3\n",
    "            print(f\"La respuesta correcta era {trivial.get(pregunta_random).capitalize()}. Lástima, has fallado esta pregunta :(\")\n",
    "            print(\"------------------------------------------------\")\n",
    "            print(f\"------- Llevas {aciertos} acierto(s) y {fallos} fallo(s) -------\")\n",
    "            print(\"------------------------------------------------\")\n",
    "    \n",
    "    def fin_juego(self):\n",
    "        if aciertos > 4:\n",
    "            print('OLEEEEEEEE GANASTEEE')\n",
    "\n",
    "        elif fallos > 2:\n",
    "            print('Otra vez será!!')\n",
    "\n",
    "    def insert_coin(self):\n",
    "        while aciertos < 5 and fallos < 3:\n",
    "            self.jugada()\n",
    "        \n",
    "        self.fin_juego()\n",
    "\n",
    "        \n",
    "\n"
   ]
  }
 ],
 "metadata": {
  "kernelspec": {
   "display_name": "base",
   "language": "python",
   "name": "python3"
  },
  "language_info": {
   "codemirror_mode": {
    "name": "ipython",
    "version": 3
   },
   "file_extension": ".py",
   "mimetype": "text/x-python",
   "name": "python",
   "nbconvert_exporter": "python",
   "pygments_lexer": "ipython3",
   "version": "3.9.7"
  }
 },
 "nbformat": 4,
 "nbformat_minor": 2
}
