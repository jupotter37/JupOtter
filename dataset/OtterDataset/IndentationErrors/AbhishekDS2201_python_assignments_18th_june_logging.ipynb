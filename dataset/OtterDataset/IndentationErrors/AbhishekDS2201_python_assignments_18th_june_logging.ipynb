{
  "nbformat": 4,
  "nbformat_minor": 0,
  "metadata": {
    "colab": {
      "provenance": []
    },
    "kernelspec": {
      "name": "python3",
      "display_name": "Python 3"
    },
    "language_info": {
      "name": "python"
    }
  },
  "cells": [
    {
      "cell_type": "markdown",
      "source": [
        "# 1. What is the role of the 'else' block in a try-except statement? Provide an example scenario where it would be useful.\n",
        "\n",
        "Answer >\n",
        "\n",
        ">In a try-except statement, the 'else' block is an optional part that follows the 'try' block and precedes the 'finally' block (if present). The 'else' block is executed only if the 'try' block completes successfully without raising any exceptions.\n"
      ],
      "metadata": {
        "id": "lB_zh_oIN9q5"
      }
    },
    {
      "cell_type": "code",
      "execution_count": null,
      "metadata": {
        "colab": {
          "base_uri": "https://localhost:8080/"
        },
        "id": "WxJvg7pkN5ql",
        "outputId": "40402ad8-697f-481b-f9ff-9cd772f7392f"
      },
      "outputs": [
        {
          "output_type": "stream",
          "name": "stdout",
          "text": [
            "Error: Cannot divide by zero. Skipping number 0.\n",
            "Error: Cannot divide by zero. Skipping number 0.\n",
            "[0.5, 0.25, 1.0, 0.3333333333333333]\n"
          ]
        }
      ],
      "source": [
        "def calculate_reciprocal(numbers):\n",
        "    reciprocals = []\n",
        "    for num in numbers:\n",
        "        try:\n",
        "            reciprocal = 1 / num\n",
        "        except ZeroDivisionError:\n",
        "            print(f\"Error: Cannot divide by zero. Skipping number {num}.\")\n",
        "        else:\n",
        "            reciprocals.append(reciprocal)\n",
        "    return reciprocals\n",
        "\n",
        "# Usage example:\n",
        "numbers_list = [2, 0, 4, 1, 3, 0]\n",
        "result = calculate_reciprocal(numbers_list)\n",
        "print(result)"
      ]
    },
    {
      "cell_type": "markdown",
      "source": [
        "# 2. Can a try-except block be nested inside another try-except block? Explain with an example.\n",
        "\n",
        "Answer >\n",
        "\n",
        ">Yes, a try-except block can be nested inside another try-except block in Python. This is known as nested exception handling or nested try-except blocks."
      ],
      "metadata": {
        "id": "amcBAIZWP26r"
      }
    },
    {
      "cell_type": "code",
      "source": [
        "def divide_and_square(a, b):\n",
        "    try:\n",
        "        result = a / b\n",
        "    except ZeroDivisionError:\n",
        "        print(\"Error: Division by zero is not allowed.\")\n",
        "    except TypeError:\n",
        "        print(\"Error: Unsupported operation. Cannot square a non-numeric result.\")\n",
        "    else:\n",
        "        try:\n",
        "            squared_result = result ** 2\n",
        "        except TypeError:\n",
        "            print(\"Error: Unsupported operation. Cannot square a non-numeric result.\")\n",
        "\n",
        "        else:\n",
        "            print(f\"The square of the result ({result}) is: {squared_result}\")\n",
        "\n",
        "# Usage example:\n",
        "divide_and_square(4, 2)  # Output: \"The square of the result (2.0) is: 4.0\"\n",
        "divide_and_square(4, 0)  # Output: \"Error: Division by zero is not allowed.\"\n",
        "divide_and_square(\"4\", 2)  # Output: \"Error: Unsupported operation. Cannot square a non-numeric result.\"\n"
      ],
      "metadata": {
        "colab": {
          "base_uri": "https://localhost:8080/"
        },
        "id": "RAXwlm6GQV9Z",
        "outputId": "23577723-c3d0-4eee-b501-4b2a52d63492"
      },
      "execution_count": null,
      "outputs": [
        {
          "output_type": "stream",
          "name": "stdout",
          "text": [
            "The square of the result (2.0) is: 4.0\n",
            "Error: Division by zero is not allowed.\n",
            "Error: Unsupported operation. Cannot square a non-numeric result.\n"
          ]
        }
      ]
    },
    {
      "cell_type": "markdown",
      "source": [
        "# 3. How can you create a custom exception class in Python? Provide an example that demonstrates its usage.\n",
        "\n",
        "Answer >\n",
        "\n"
      ],
      "metadata": {
        "id": "AEy_F_mAQVTS"
      }
    },
    {
      "cell_type": "code",
      "source": [
        "class CustomError(Exception):\n",
        "    \"\"\"Custom exception class.\"\"\"\n",
        "    def __init__(self, message):\n",
        "        super().__init__(message)\n",
        "        self.message = message\n",
        "\n",
        "def calculate_square_root(number):\n",
        "    if number < 0:\n",
        "        raise CustomError(\"Cannot calculate square root of a negative number.\")\n",
        "    return number ** 0.5\n",
        "\n",
        "# Usage example:\n",
        "try:\n",
        "    result = calculate_square_root(-4)\n",
        "except CustomError as ce:\n",
        "    print(f\"CustomError occurred: {ce}\")\n",
        "else:\n",
        "    print(f\"The square root is: {result}\")\n"
      ],
      "metadata": {
        "colab": {
          "base_uri": "https://localhost:8080/"
        },
        "id": "-xQTSiCXP0w2",
        "outputId": "17ae33dc-6982-4e69-bcb5-ab85ceb153bc"
      },
      "execution_count": null,
      "outputs": [
        {
          "output_type": "stream",
          "name": "stdout",
          "text": [
            "CustomError occurred: Cannot calculate square root of a negative number.\n"
          ]
        }
      ]
    },
    {
      "cell_type": "markdown",
      "source": [
        "# 4. What are some common exceptions that are built-in to Python?\n",
        "\n",
        "Answer >\n",
        "\n",
        ">Python has several built-in exceptions that cover a wide range of error scenarios.\n",
        "\n",
        ">Here are some of the most common built-in exceptions in Python:\n",
        "\n",
        ">SyntaxError: Raised when there is a syntax error in the code, indicating that the code is not valid Python.\n",
        "\n",
        ">IndentationError: A subtype of SyntaxError, raised when there is an indentation-related error, such as incorrect or inconsistent indentation.\n",
        "\n",
        ">NameError: Raised when a variable or name is not found in the local or global scope.\n",
        "\n",
        ">TypeError: Raised when an operation or function is applied to an object of an inappropriate type.\n",
        "\n",
        ">ValueError: Raised when a function receives an argument of the correct type but an inappropriate value.\n",
        "\n",
        ">ZeroDivisionError: Raised when division or modulo by zero is attempted.\n",
        "\n",
        ">IndexError: Raised when a sequence (e.g., list, string, tuple) index is out of range.\n",
        "\n",
        ">KeyError: Raised when a dictionary key is not found.\n"
      ],
      "metadata": {
        "id": "qiMJBg6zWMp6"
      }
    },
    {
      "cell_type": "markdown",
      "source": [
        "# 5. What is logging in Python, and why is it important in software development?\n",
        "\n",
        "Answer >\n",
        "\n",
        ">Logging in Python is a mechanism used to record and store messages or events during the execution of a program. The logging module in Python provides a flexible and customizable way to log information, warnings, errors, and other relevant data at various levels of severity. These logs are stored in a specified file or can be directed to the console or other outputs.\n",
        "\n",
        ">By adopting logging practices in software development, developers can create more maintainable, reliable, and secure applications. Additionally, logging plays a crucial role in post-deployment maintenance, ensuring that issues can be promptly identified and addressed, leading to more stable and successful software products.\n"
      ],
      "metadata": {
        "id": "e6G3bxWuW1Oj"
      }
    },
    {
      "cell_type": "markdown",
      "source": [
        "# 6. Explain the purpose of log levels in Python logging and provide examples of when each log level would be appropriate.\n",
        "\n",
        "Answer >\n",
        "\n",
        ">In Python logging, log levels are used to categorize log messages based on their severity and importance.\n",
        "\n",
        ">DEBUG: Detailed information, typically used during development and debugging stages. These logs are most verbose and include fine-grained details about the program's execution.\n",
        "\n",
        ">INFO: Informational messages that signify the normal functioning of the application. These logs are useful for tracking the flow of execution and general status updates.\n",
        "\n",
        ">WARNING: Warnings that indicate potential issues or unexpected events that do not necessarily cause the application to fail but require attention.\n",
        "\n",
        ">ERROR: Errors that are not critical but indicate issues that need to be addressed. The application can continue to run despite encountering an error.\n",
        "\n",
        ">CRITICAL: Critical errors that indicate severe issues, often resulting in the application's failure or termination. These logs require immediate attention."
      ],
      "metadata": {
        "id": "34smHjLnXOHu"
      }
    },
    {
      "cell_type": "markdown",
      "source": [
        "# 7. What are log formatters in Python logging, and how can you customise the log message format using formatters?\n",
        "\n",
        "Answer >\n",
        "\n",
        ">Log formatters are used to specify the format of log messages.\n",
        "\n",
        ">Log formatters allow you to customize the content and layout of log messages, including timestamp, log level, logger name, and additional information.\n",
        "\n",
        ">%(asctime)s: Timestamp of the log message in the format specified by datefmt.\n",
        "\n",
        ">%(levelname)s: Log level (e.g., DEBUG, INFO, WARNING, ERROR, CRITICAL).\n",
        "\n",
        ">%(name)s: Name of the logger that produced the log record.\n",
        "\n",
        ">%(message)s: The actual log message."
      ],
      "metadata": {
        "id": "jAtBZDkdYCoL"
      }
    },
    {
      "cell_type": "markdown",
      "source": [
        "# 8. How can you set up logging to capture log messages from multiple modules or classes in a Python application?\n",
        "\n",
        "Answer >\n",
        "\n",
        ">To set up logging to capture log messages from multiple modules or classes in a Python application, follow these steps:\n",
        "\n",
        "* Import the logging module : Start by importing the logging module, which provides the logging functionalities in Python.\n",
        "\n",
        "* Configure logging once : At the beginning of your application (usually in the main script), configure the logging system with logging.basicConfig. Set the log level (e.g., DEBUG, INFO, etc.), log format (how log messages should look), and where to output the logs (e.g., a file or console).\n",
        "\n",
        "* Create logger instances : In each module or class that needs logging, create a logger object using logging.getLogger(__name__). This associates the logger with the module/class name.\n",
        "\n",
        "* Use loggers in modules/classes : Inside each module or class, use the logger to record log messages using methods like logger.debug(), logger.info(), logger.error(), etc.\n",
        "\n"
      ],
      "metadata": {
        "id": "8hi9rHOrZMxo"
      }
    },
    {
      "cell_type": "markdown",
      "source": [
        "# 9. What is the difference between the logging and print statements in Python? When should you use logging over print statements in a real-world application?\n",
        "\n",
        "Answer >\n",
        "\n",
        ">Both logging and print statements in Python serve the purpose of displaying information during program execution, but they have different use cases and implications.\n",
        "\n",
        "> Use logging over print statements in a real-world application for:\n",
        "\n",
        "* Controlled Debugging: Logging provides different log levels, allowing you to control the level of detail in logs dynamically.\n",
        "\n",
        "* Permanent Logs: Logs persist beyond program execution, providing valuable insights even after the application has completed.\n",
        "\n",
        "* Centralized Logging: Logging facilitates a centralized logging system to collect logs from multiple application instances and components.\n",
        "\n",
        "* Structured Information: Logging allows you to format logs with timestamps, log levels, and more, making them more informative and readable compared to plain print statements."
      ],
      "metadata": {
        "id": "1wxSyxZ-amIu"
      }
    },
    {
      "cell_type": "markdown",
      "source": [
        "# 10. Write a Python program that logs a message to a file named \"app.log\" with the following requirements:\n",
        "● The log message should be \"Hello, World!\"\n",
        "\n",
        "● The log level should be set to \"INFO.\"\n",
        "\n",
        "● The log file should append new log entries without overwriting previous ones.\n",
        "\n",
        "Answer >\n",
        "\n",
        ">"
      ],
      "metadata": {
        "id": "bdxSGftVbfsi"
      }
    },
    {
      "cell_type": "code",
      "source": [
        "import logging\n",
        "\n",
        "# Configure the logging system\n",
        "logging.basicConfig(level=logging.INFO, filename='app.log', filemode='a', format='%(asctime)s - %(levelname)s - %(message)s')\n",
        "\n",
        "# Log the message\n",
        "logging.info(\"Hello, World!\")\n"
      ],
      "metadata": {
        "id": "Defk3OqnR4Ok"
      },
      "execution_count": null,
      "outputs": []
    },
    {
      "cell_type": "markdown",
      "source": [
        "# 11. Create a Python program that logs an error message to the console and a file named \"errors.log\" if an exception occurs during the program's execution. The error message should include the exception type and a timestamp.\n",
        "\n",
        "Answer >\n"
      ],
      "metadata": {
        "id": "PSQuIvDYcdij"
      }
    },
    {
      "cell_type": "code",
      "source": [
        "import logging\n",
        "import traceback\n",
        "\n",
        "# Configure the logging system\n",
        "logging.basicConfig(level=logging.ERROR, format='%(asctime)s - %(levelname)s - %(message)s')\n",
        "\n",
        "# Add a file handler to log errors to \"errors.log\"\n",
        "file_handler = logging.FileHandler('errors.log')\n",
        "file_handler.setLevel(logging.ERROR)\n",
        "file_handler.setFormatter(logging.Formatter('%(asctime)s - %(levelname)s - %(message)s'))\n",
        "logging.getLogger().addHandler(file_handler)\n",
        "\n",
        "def divide(a, b):\n",
        "    try:\n",
        "        result = a / b\n",
        "        return result\n",
        "    except ZeroDivisionError as e:\n",
        "        # Log the error with exception type and timestamp\n",
        "        logging.error(f\"Exception occurred: {e.__class__.__name__}\")\n",
        "        logging.error(traceback.format_exc())\n",
        "        return None\n",
        "\n",
        "if __name__ == \"__main__\":\n",
        "    result = divide(10, 0)\n",
        "    print(\"Result:\", result)\n"
      ],
      "metadata": {
        "colab": {
          "base_uri": "https://localhost:8080/"
        },
        "id": "ts5J0CHxhKld",
        "outputId": "a4260d7f-0ccc-4c9e-e911-77f7a5b862e2"
      },
      "execution_count": null,
      "outputs": [
        {
          "output_type": "stream",
          "name": "stderr",
          "text": [
            "ERROR:root:Exception occurred: ZeroDivisionError\n",
            "ERROR:root:Traceback (most recent call last):\n",
            "  File \"<ipython-input-8-835e547d96dd>\", line 15, in divide\n",
            "    result = a / b\n",
            "ZeroDivisionError: division by zero\n",
            "\n"
          ]
        },
        {
          "output_type": "stream",
          "name": "stdout",
          "text": [
            "Result: None\n"
          ]
        }
      ]
    },
    {
      "cell_type": "markdown",
      "source": [],
      "metadata": {
        "id": "XV9ShIR5dSXI"
      }
    },
    {
      "cell_type": "markdown",
      "source": [],
      "metadata": {
        "id": "UZ6Yxb6_XwCN"
      }
    }
  ]
}