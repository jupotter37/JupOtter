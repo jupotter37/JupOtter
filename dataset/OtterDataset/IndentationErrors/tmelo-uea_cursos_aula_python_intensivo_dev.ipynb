{
  "nbformat": 4,
  "nbformat_minor": 0,
  "metadata": {
    "colab": {
      "name": "aula_python.ipynb",
      "provenance": [],
      "include_colab_link": true
    },
    "kernelspec": {
      "name": "python3",
      "display_name": "Python 3"
    }
  },
  "cells": [
    {
      "cell_type": "markdown",
      "metadata": {
        "id": "view-in-github",
        "colab_type": "text"
      },
      "source": [
        "<a href=\"https://colab.research.google.com/github/tmelo-uea/cursos/blob/main/aula_python_intensivo_dev.ipynb\" target=\"_parent\"><img src=\"https://colab.research.google.com/assets/colab-badge.svg\" alt=\"Open In Colab\"/></a>"
      ]
    },
    {
      "cell_type": "markdown",
      "metadata": {
        "id": "tXJWWSEZRJTy"
      },
      "source": [
        "# Interpretador"
      ]
    },
    {
      "cell_type": "code",
      "metadata": {
        "id": "x6WGVRO8RHA5",
        "colab": {
          "base_uri": "https://localhost:8080/",
          "height": 34
        },
        "outputId": "bc9b9a36-87ab-428d-e74f-a4eda2cdac6e"
      },
      "source": [
        "4 + 6"
      ],
      "execution_count": null,
      "outputs": [
        {
          "output_type": "execute_result",
          "data": {
            "text/plain": [
              "10"
            ]
          },
          "metadata": {
            "tags": []
          },
          "execution_count": 11
        }
      ]
    },
    {
      "cell_type": "code",
      "metadata": {
        "id": "LeD24ky3RTb6",
        "colab": {
          "base_uri": "https://localhost:8080/",
          "height": 34
        },
        "outputId": "6f48ceb7-1c6c-46e3-c728-bfb3e0c849fd"
      },
      "source": [
        "x = 10\n",
        "\n",
        "print (x)"
      ],
      "execution_count": null,
      "outputs": [
        {
          "output_type": "stream",
          "text": [
            "10\n"
          ],
          "name": "stdout"
        }
      ]
    },
    {
      "cell_type": "code",
      "metadata": {
        "id": "Zz8fRNwSRbeZ",
        "colab": {
          "base_uri": "https://localhost:8080/",
          "height": 34
        },
        "outputId": "4746d92a-cc45-4c98-f177-1c8390ee177e"
      },
      "source": [
        "2 + 5"
      ],
      "execution_count": null,
      "outputs": [
        {
          "output_type": "execute_result",
          "data": {
            "text/plain": [
              "7"
            ]
          },
          "metadata": {
            "tags": []
          },
          "execution_count": 13
        }
      ]
    },
    {
      "cell_type": "code",
      "metadata": {
        "id": "7d4I8UPxRcaM",
        "colab": {
          "base_uri": "https://localhost:8080/",
          "height": 34
        },
        "outputId": "38694fe1-3879-4aa4-b719-59e39cd0de21"
      },
      "source": [
        "2 * 5"
      ],
      "execution_count": null,
      "outputs": [
        {
          "output_type": "execute_result",
          "data": {
            "text/plain": [
              "10"
            ]
          },
          "metadata": {
            "tags": []
          },
          "execution_count": 14
        }
      ]
    },
    {
      "cell_type": "code",
      "metadata": {
        "id": "pAqBBTmERdZw",
        "colab": {
          "base_uri": "https://localhost:8080/",
          "height": 34
        },
        "outputId": "e7504b89-5b42-431e-f1a3-8b8818f820a2"
      },
      "source": [
        "2/5"
      ],
      "execution_count": null,
      "outputs": [
        {
          "output_type": "execute_result",
          "data": {
            "text/plain": [
              "0.4"
            ]
          },
          "metadata": {
            "tags": []
          },
          "execution_count": 15
        }
      ]
    },
    {
      "cell_type": "code",
      "metadata": {
        "id": "yBmBC7PdRhXD",
        "colab": {
          "base_uri": "https://localhost:8080/",
          "height": 34
        },
        "outputId": "34e822aa-1f19-4d12-852a-ffa52f4c4b23"
      },
      "source": [
        "2-5"
      ],
      "execution_count": null,
      "outputs": [
        {
          "output_type": "execute_result",
          "data": {
            "text/plain": [
              "-3"
            ]
          },
          "metadata": {
            "tags": []
          },
          "execution_count": 16
        }
      ]
    },
    {
      "cell_type": "code",
      "metadata": {
        "id": "LlEfBiKZRiqR",
        "colab": {
          "base_uri": "https://localhost:8080/",
          "height": 34
        },
        "outputId": "fb92cda0-25d4-41a5-faec-eeb78854a6b4"
      },
      "source": [
        "5 ** 2"
      ],
      "execution_count": null,
      "outputs": [
        {
          "output_type": "execute_result",
          "data": {
            "text/plain": [
              "25"
            ]
          },
          "metadata": {
            "tags": []
          },
          "execution_count": 17
        }
      ]
    },
    {
      "cell_type": "code",
      "metadata": {
        "id": "vU_0_ckbRjxS",
        "colab": {
          "base_uri": "https://localhost:8080/",
          "height": 34
        },
        "outputId": "55cd7663-576b-4d7d-9b56-0b3a0659c4ac"
      },
      "source": [
        "5 % 2"
      ],
      "execution_count": null,
      "outputs": [
        {
          "output_type": "execute_result",
          "data": {
            "text/plain": [
              "1"
            ]
          },
          "metadata": {
            "tags": []
          },
          "execution_count": 18
        }
      ]
    },
    {
      "cell_type": "markdown",
      "metadata": {
        "id": "OKrshvoyTNXV"
      },
      "source": [
        "# Básicos"
      ]
    },
    {
      "cell_type": "code",
      "metadata": {
        "id": "vT0HBXNrTPBd"
      },
      "source": [
        "x1 = 10"
      ],
      "execution_count": null,
      "outputs": []
    },
    {
      "cell_type": "code",
      "metadata": {
        "id": "WG-ODbinUWk9"
      },
      "source": [
        "x2 = 9.7"
      ],
      "execution_count": null,
      "outputs": []
    },
    {
      "cell_type": "code",
      "metadata": {
        "id": "jgtjbqS4YDg4"
      },
      "source": [
        "x3 = \"Python\""
      ],
      "execution_count": null,
      "outputs": []
    },
    {
      "cell_type": "code",
      "metadata": {
        "id": "dSL0K0nKYFMB"
      },
      "source": [
        "x4 = True"
      ],
      "execution_count": null,
      "outputs": []
    },
    {
      "cell_type": "code",
      "metadata": {
        "id": "x0KWzOTlYISk",
        "colab": {
          "base_uri": "https://localhost:8080/",
          "height": 34
        },
        "outputId": "a86df445-50f4-4332-db16-e9986149b44a"
      },
      "source": [
        "type(x1)"
      ],
      "execution_count": null,
      "outputs": [
        {
          "output_type": "execute_result",
          "data": {
            "text/plain": [
              "int"
            ]
          },
          "metadata": {
            "tags": []
          },
          "execution_count": 23
        }
      ]
    },
    {
      "cell_type": "code",
      "metadata": {
        "id": "Q83Ts86qYJYP",
        "colab": {
          "base_uri": "https://localhost:8080/",
          "height": 34
        },
        "outputId": "9366a519-1e9b-4bbd-f582-2492c26759fe"
      },
      "source": [
        "type(x2)"
      ],
      "execution_count": null,
      "outputs": [
        {
          "output_type": "execute_result",
          "data": {
            "text/plain": [
              "float"
            ]
          },
          "metadata": {
            "tags": []
          },
          "execution_count": 24
        }
      ]
    },
    {
      "cell_type": "code",
      "metadata": {
        "id": "HQABQn0uYKRV",
        "colab": {
          "base_uri": "https://localhost:8080/",
          "height": 34
        },
        "outputId": "7f010c21-ac02-4841-eb3b-1170b2b759a2"
      },
      "source": [
        "type(x3)"
      ],
      "execution_count": null,
      "outputs": [
        {
          "output_type": "execute_result",
          "data": {
            "text/plain": [
              "str"
            ]
          },
          "metadata": {
            "tags": []
          },
          "execution_count": 25
        }
      ]
    },
    {
      "cell_type": "code",
      "metadata": {
        "id": "TyTWtZnwYLPn",
        "colab": {
          "base_uri": "https://localhost:8080/",
          "height": 34
        },
        "outputId": "f0d5b721-04db-4b44-f008-82684458f57b"
      },
      "source": [
        "type(x4)"
      ],
      "execution_count": null,
      "outputs": [
        {
          "output_type": "execute_result",
          "data": {
            "text/plain": [
              "bool"
            ]
          },
          "metadata": {
            "tags": []
          },
          "execution_count": 26
        }
      ]
    },
    {
      "cell_type": "code",
      "metadata": {
        "id": "5CdhkbcmYRKw"
      },
      "source": [
        "x4 = 100"
      ],
      "execution_count": null,
      "outputs": []
    },
    {
      "cell_type": "code",
      "metadata": {
        "id": "782a9w2XYT1H",
        "colab": {
          "base_uri": "https://localhost:8080/",
          "height": 34
        },
        "outputId": "3295bd51-6c03-4ef9-93fc-d059a8b80117"
      },
      "source": [
        "type(x4)"
      ],
      "execution_count": null,
      "outputs": [
        {
          "output_type": "execute_result",
          "data": {
            "text/plain": [
              "int"
            ]
          },
          "metadata": {
            "tags": []
          },
          "execution_count": 28
        }
      ]
    },
    {
      "cell_type": "markdown",
      "metadata": {
        "id": "6LH5OyZW0pZA"
      },
      "source": [
        "#Identação"
      ]
    },
    {
      "cell_type": "markdown",
      "metadata": {
        "id": "W76Fx3K402uF"
      },
      "source": [
        "Não há necessidade de uso de chaves ou ponto-e-vírgula."
      ]
    },
    {
      "cell_type": "code",
      "metadata": {
        "id": "XglJlOvO0q7d",
        "colab": {
          "base_uri": "https://localhost:8080/",
          "height": 34
        },
        "outputId": "d7d9f9b7-e324-4184-db5e-33fdbae68068"
      },
      "source": [
        "x = 10\n",
        "if (x%2==0):\n",
        "  print ('Par')\n",
        "else:\n",
        "  print ('Impar')"
      ],
      "execution_count": null,
      "outputs": [
        {
          "output_type": "stream",
          "text": [
            "Par\n"
          ],
          "name": "stdout"
        }
      ]
    },
    {
      "cell_type": "markdown",
      "metadata": {
        "id": "2gsPKMef0-Am"
      },
      "source": [
        "Código com problema de identação."
      ]
    },
    {
      "cell_type": "code",
      "metadata": {
        "id": "TZnQztU20ymW",
        "colab": {
          "base_uri": "https://localhost:8080/",
          "height": 131
        },
        "outputId": "0be643de-72d9-4dae-8845-a5e31de86b54"
      },
      "source": [
        "x = 10\n",
        "if (x%2==0):\n",
        "print ('Par')\n",
        "else:\n",
        "print ('Impar')"
      ],
      "execution_count": null,
      "outputs": [
        {
          "output_type": "error",
          "ename": "IndentationError",
          "evalue": "ignored",
          "traceback": [
            "\u001b[0;36m  File \u001b[0;32m\"<ipython-input-30-062058ba9709>\"\u001b[0;36m, line \u001b[0;32m3\u001b[0m\n\u001b[0;31m    print ('Par')\u001b[0m\n\u001b[0m        ^\u001b[0m\n\u001b[0;31mIndentationError\u001b[0m\u001b[0;31m:\u001b[0m expected an indented block\n"
          ]
        }
      ]
    },
    {
      "cell_type": "markdown",
      "metadata": {
        "id": "xO54IlHU2HRf"
      },
      "source": [
        "#Orientação a Objetos"
      ]
    },
    {
      "cell_type": "code",
      "metadata": {
        "id": "bvvHZpqa2LKs",
        "colab": {
          "base_uri": "https://localhost:8080/",
          "height": 34
        },
        "outputId": "6536956f-6cf2-42c5-df5c-444b8c9deceb"
      },
      "source": [
        "texto = \"Python\"\n",
        "\n",
        "print (texto)"
      ],
      "execution_count": null,
      "outputs": [
        {
          "output_type": "stream",
          "text": [
            "Python\n"
          ],
          "name": "stdout"
        }
      ]
    },
    {
      "cell_type": "code",
      "metadata": {
        "id": "EgH3KV472QVi",
        "colab": {
          "base_uri": "https://localhost:8080/",
          "height": 35
        },
        "outputId": "b6b3060e-72f3-4d19-facb-543f5a8f777e"
      },
      "source": [
        "texto.upper()"
      ],
      "execution_count": null,
      "outputs": [
        {
          "output_type": "execute_result",
          "data": {
            "application/vnd.google.colaboratory.intrinsic+json": {
              "type": "string"
            },
            "text/plain": [
              "'PYTHON'"
            ]
          },
          "metadata": {
            "tags": []
          },
          "execution_count": 32
        }
      ]
    },
    {
      "cell_type": "markdown",
      "metadata": {
        "id": "ozw2ekNi2VUW"
      },
      "source": [
        "O método `.upper()` do objeto string permite formatar o conteúdo da string."
      ]
    },
    {
      "cell_type": "markdown",
      "metadata": {
        "id": "rXN5mRwo3JQc"
      },
      "source": [
        "#Comentários em Python"
      ]
    },
    {
      "cell_type": "code",
      "metadata": {
        "id": "0yLtudeG3LFP",
        "colab": {
          "base_uri": "https://localhost:8080/",
          "height": 52
        },
        "outputId": "7de7b62b-10f8-45b5-b28f-0ce151cf61e2"
      },
      "source": [
        "x = 100\n",
        "\n",
        "print (x)\n",
        "#print (x+1)\n",
        "print (x+2)"
      ],
      "execution_count": null,
      "outputs": [
        {
          "output_type": "stream",
          "text": [
            "100\n",
            "102\n"
          ],
          "name": "stdout"
        }
      ]
    },
    {
      "cell_type": "markdown",
      "metadata": {
        "id": "EfntXBvt4So0"
      },
      "source": [
        "# Convenção de nomes"
      ]
    },
    {
      "cell_type": "markdown",
      "metadata": {
        "id": "nX6l2HZw4U0-"
      },
      "source": [
        "Variável"
      ]
    },
    {
      "cell_type": "code",
      "metadata": {
        "id": "vtMqzw0r4WO8"
      },
      "source": [
        "nome_restaurante = \"Banzeiro\""
      ],
      "execution_count": null,
      "outputs": []
    },
    {
      "cell_type": "markdown",
      "metadata": {
        "id": "eJlcOeiW4aKk"
      },
      "source": [
        "Função"
      ]
    },
    {
      "cell_type": "code",
      "metadata": {
        "id": "j8QZW8VQ4crN"
      },
      "source": [
        "def converte_nome (nome):\n",
        "  return (nome.upper())"
      ],
      "execution_count": null,
      "outputs": []
    },
    {
      "cell_type": "markdown",
      "metadata": {
        "id": "ztOTn5aQ4nSD"
      },
      "source": [
        "Classe"
      ]
    },
    {
      "cell_type": "code",
      "metadata": {
        "id": "5tFINeGl4oJz"
      },
      "source": [
        "class CienciaDados:\n",
        "  nome = \"Tiago\""
      ],
      "execution_count": null,
      "outputs": []
    },
    {
      "cell_type": "markdown",
      "metadata": {
        "id": "Ii90BT2M42-0"
      },
      "source": [
        "Pacotes"
      ]
    },
    {
      "cell_type": "code",
      "metadata": {
        "id": "uzIFriPt44Lp"
      },
      "source": [
        "import numpy\n",
        "import matplotlib"
      ],
      "execution_count": null,
      "outputs": []
    },
    {
      "cell_type": "markdown",
      "metadata": {
        "id": "ufH5ItTo6GyD"
      },
      "source": [
        "# Operador Lógico"
      ]
    },
    {
      "cell_type": "code",
      "metadata": {
        "id": "4PdyZd0C6Ivx",
        "colab": {
          "base_uri": "https://localhost:8080/",
          "height": 34
        },
        "outputId": "626b831e-f298-482f-db44-b573e4971090"
      },
      "source": [
        "nome = \"João\"\n",
        "type(nome) is str"
      ],
      "execution_count": null,
      "outputs": [
        {
          "output_type": "execute_result",
          "data": {
            "text/plain": [
              "True"
            ]
          },
          "metadata": {
            "tags": []
          },
          "execution_count": 35
        }
      ]
    },
    {
      "cell_type": "code",
      "metadata": {
        "id": "3KRgr3mK6RRE",
        "colab": {
          "base_uri": "https://localhost:8080/",
          "height": 34
        },
        "outputId": "f458cbe7-0dbb-49df-c380-fa30f4da5e4d"
      },
      "source": [
        "type(nome) is not False"
      ],
      "execution_count": null,
      "outputs": [
        {
          "output_type": "execute_result",
          "data": {
            "text/plain": [
              "True"
            ]
          },
          "metadata": {
            "tags": []
          },
          "execution_count": 39
        }
      ]
    },
    {
      "cell_type": "markdown",
      "metadata": {
        "id": "TYjS7itW7I4d"
      },
      "source": [
        "#Tuplas"
      ]
    },
    {
      "cell_type": "code",
      "metadata": {
        "id": "HJSdUaw97KQU"
      },
      "source": [
        "tupla1 = ('casa', 1, True)"
      ],
      "execution_count": null,
      "outputs": []
    },
    {
      "cell_type": "markdown",
      "metadata": {
        "id": "mtbiw9nA8SRL"
      },
      "source": [
        "A função `tuple()` cria uma tupla vazia."
      ]
    },
    {
      "cell_type": "code",
      "metadata": {
        "id": "KATAHVxT73zn",
        "colab": {
          "base_uri": "https://localhost:8080/",
          "height": 34
        },
        "outputId": "4b64f382-673e-4261-8e77-512ae1d765c8"
      },
      "source": [
        "tupla2 = tuple()"
      ],
      "execution_count": null,
      "outputs": [
        {
          "output_type": "stream",
          "text": [
            "<class 'tuple'>\n"
          ],
          "name": "stdout"
        }
      ]
    },
    {
      "cell_type": "code",
      "metadata": {
        "id": "MgSPbSGF8aFW",
        "colab": {
          "base_uri": "https://localhost:8080/",
          "height": 34
        },
        "outputId": "a8506274-169e-4ab3-d48f-06e69065f1d9"
      },
      "source": [
        "print (type(tupla2))"
      ],
      "execution_count": null,
      "outputs": [
        {
          "output_type": "stream",
          "text": [
            "<class 'tuple'>\n"
          ],
          "name": "stdout"
        }
      ]
    },
    {
      "cell_type": "code",
      "metadata": {
        "id": "bS_Un45W8b8a",
        "colab": {
          "base_uri": "https://localhost:8080/",
          "height": 34
        },
        "outputId": "a0e00810-efbf-4988-b86c-7988f6904646"
      },
      "source": [
        "print (tupla2)"
      ],
      "execution_count": null,
      "outputs": [
        {
          "output_type": "stream",
          "text": [
            "()\n"
          ],
          "name": "stdout"
        }
      ]
    },
    {
      "cell_type": "markdown",
      "metadata": {
        "id": "JXXFf8i_8gCG"
      },
      "source": [
        "A função `tuple()` aceita objetos iteráveis (*iterable*)."
      ]
    },
    {
      "cell_type": "code",
      "metadata": {
        "id": "uhEy5G2e8q5w",
        "colab": {
          "base_uri": "https://localhost:8080/",
          "height": 34
        },
        "outputId": "490e9a00-27cc-463c-dc0a-988291b85a4a"
      },
      "source": [
        "lista = [2, 3, 4]\n",
        "\n",
        "tupla3 = tuple(lista)\n",
        "\n",
        "print (tupla3)"
      ],
      "execution_count": null,
      "outputs": [
        {
          "output_type": "stream",
          "text": [
            "(2, 3, 4)\n"
          ],
          "name": "stdout"
        }
      ]
    },
    {
      "cell_type": "markdown",
      "metadata": {
        "id": "IWz4kpJd86iL"
      },
      "source": [
        "O parâmetro deve ser um objeto iterable."
      ]
    },
    {
      "cell_type": "code",
      "metadata": {
        "id": "5UqpjIjd80-9",
        "colab": {
          "base_uri": "https://localhost:8080/",
          "height": 166
        },
        "outputId": "890d302f-a36a-4573-fdd2-96816e357ff4"
      },
      "source": [
        "tupla4 = tuple(10)"
      ],
      "execution_count": null,
      "outputs": [
        {
          "output_type": "error",
          "ename": "TypeError",
          "evalue": "ignored",
          "traceback": [
            "\u001b[0;31m---------------------------------------------------------------------------\u001b[0m",
            "\u001b[0;31mTypeError\u001b[0m                                 Traceback (most recent call last)",
            "\u001b[0;32m<ipython-input-46-7b9ca0c405f1>\u001b[0m in \u001b[0;36m<module>\u001b[0;34m()\u001b[0m\n\u001b[0;32m----> 1\u001b[0;31m \u001b[0mtupla4\u001b[0m \u001b[0;34m=\u001b[0m \u001b[0mtuple\u001b[0m\u001b[0;34m(\u001b[0m\u001b[0;36m10\u001b[0m\u001b[0;34m)\u001b[0m\u001b[0;34m\u001b[0m\u001b[0;34m\u001b[0m\u001b[0m\n\u001b[0m",
            "\u001b[0;31mTypeError\u001b[0m: 'int' object is not iterable"
          ]
        }
      ]
    },
    {
      "cell_type": "markdown",
      "metadata": {
        "id": "JnzKpKq39XPr"
      },
      "source": [
        "O acesso é realizado através de índices."
      ]
    },
    {
      "cell_type": "code",
      "metadata": {
        "id": "qi2grUSm9ZpV",
        "colab": {
          "base_uri": "https://localhost:8080/",
          "height": 34
        },
        "outputId": "956b4967-332e-4479-c396-033a1ea88060"
      },
      "source": [
        "tupla5 = ('casa', 1, True)\n",
        "\n",
        "tupla5[2]"
      ],
      "execution_count": null,
      "outputs": [
        {
          "output_type": "execute_result",
          "data": {
            "text/plain": [
              "True"
            ]
          },
          "metadata": {
            "tags": []
          },
          "execution_count": 47
        }
      ]
    },
    {
      "cell_type": "markdown",
      "metadata": {
        "id": "Rt1CFbEw99qA"
      },
      "source": [
        "As tuplas são objetos. Portanto, podemos usar métodos desses objetos."
      ]
    },
    {
      "cell_type": "code",
      "metadata": {
        "id": "1q3BXBV2-Bwq",
        "colab": {
          "base_uri": "https://localhost:8080/",
          "height": 34
        },
        "outputId": "ecd377ce-20ac-4a54-ec68-afcb4a946e85"
      },
      "source": [
        "tupla6 = ('casa', 10, 10, 10.1)\n",
        "\n",
        "tupla6.count(10)"
      ],
      "execution_count": null,
      "outputs": [
        {
          "output_type": "execute_result",
          "data": {
            "text/plain": [
              "2"
            ]
          },
          "metadata": {
            "tags": []
          },
          "execution_count": 52
        }
      ]
    },
    {
      "cell_type": "markdown",
      "metadata": {
        "id": "DEEMWAjY_Nsa"
      },
      "source": [
        "#Listas"
      ]
    },
    {
      "cell_type": "code",
      "metadata": {
        "id": "vrQx79CQCaiZ"
      },
      "source": [
        "lista1 = [10, 3, True, 'casa']"
      ],
      "execution_count": null,
      "outputs": []
    },
    {
      "cell_type": "markdown",
      "metadata": {
        "id": "ykASupVaDC3T"
      },
      "source": [
        "Uso da função `list( )`"
      ]
    },
    {
      "cell_type": "code",
      "metadata": {
        "id": "LMwcw_UEDFE-",
        "colab": {
          "base_uri": "https://localhost:8080/",
          "height": 34
        },
        "outputId": "9cf54743-f332-4575-828f-520cf1ab9390"
      },
      "source": [
        "lista2 = list(('10', 3, True))\n",
        "\n",
        "lista2"
      ],
      "execution_count": null,
      "outputs": [
        {
          "output_type": "execute_result",
          "data": {
            "text/plain": [
              "['10', 3, True]"
            ]
          },
          "metadata": {
            "tags": []
          },
          "execution_count": 56
        }
      ]
    },
    {
      "cell_type": "markdown",
      "metadata": {
        "id": "kWPD9g14ECpH"
      },
      "source": [
        "Função `append( )`"
      ]
    },
    {
      "cell_type": "code",
      "metadata": {
        "id": "c28rkUtTEFTJ",
        "colab": {
          "base_uri": "https://localhost:8080/",
          "height": 34
        },
        "outputId": "bbdbc180-37c7-4cc4-ae6a-a3d4588a45bf"
      },
      "source": [
        "lista3 = [1, 3, 5]\n",
        "\n",
        "print (lista3)"
      ],
      "execution_count": null,
      "outputs": [
        {
          "output_type": "stream",
          "text": [
            "[1, 3, 5]\n"
          ],
          "name": "stdout"
        }
      ]
    },
    {
      "cell_type": "code",
      "metadata": {
        "id": "1Fo_9fdNEJBq",
        "colab": {
          "base_uri": "https://localhost:8080/",
          "height": 34
        },
        "outputId": "22f0f4e0-7431-43d6-9610-3186742f1ccb"
      },
      "source": [
        "lista3.append(50)\n",
        "\n",
        "print (lista3)"
      ],
      "execution_count": null,
      "outputs": [
        {
          "output_type": "stream",
          "text": [
            "[1, 3, 5, 50]\n"
          ],
          "name": "stdout"
        }
      ]
    },
    {
      "cell_type": "markdown",
      "metadata": {
        "id": "SHI6T4VzEY9_"
      },
      "source": [
        "Função `insert (i, valor)`"
      ]
    },
    {
      "cell_type": "code",
      "metadata": {
        "id": "nUkBDuVwEcs1",
        "colab": {
          "base_uri": "https://localhost:8080/",
          "height": 34
        },
        "outputId": "71997e16-c00a-453b-b3fd-346e53a7b28f"
      },
      "source": [
        "lista4 = [1, 3, 4]\n",
        "\n",
        "print (lista4)"
      ],
      "execution_count": null,
      "outputs": [
        {
          "output_type": "stream",
          "text": [
            "[1, 3, 4]\n"
          ],
          "name": "stdout"
        }
      ]
    },
    {
      "cell_type": "code",
      "metadata": {
        "id": "Vn55GteEEiBp",
        "colab": {
          "base_uri": "https://localhost:8080/",
          "height": 34
        },
        "outputId": "ce07a19d-e34f-4663-b6a9-d23647e16a2d"
      },
      "source": [
        "lista4.insert(3, 'casa')\n",
        "\n",
        "print (lista4)"
      ],
      "execution_count": null,
      "outputs": [
        {
          "output_type": "stream",
          "text": [
            "[1, 3, 4, 'casa']\n"
          ],
          "name": "stdout"
        }
      ]
    },
    {
      "cell_type": "markdown",
      "metadata": {
        "id": "16fSK3I2FWlK"
      },
      "source": [
        "O que acontece ao inserir o elemento em uma posição já existente na lista?"
      ]
    },
    {
      "cell_type": "code",
      "metadata": {
        "id": "fP1ljU8xEoio"
      },
      "source": [
        "lista4.insert(0, 50)"
      ],
      "execution_count": null,
      "outputs": []
    },
    {
      "cell_type": "code",
      "metadata": {
        "id": "ONp7xuuSFecK",
        "colab": {
          "base_uri": "https://localhost:8080/",
          "height": 34
        },
        "outputId": "ef4d36c6-ecb3-4829-9102-8384c06849d9"
      },
      "source": [
        "print (lista4)"
      ],
      "execution_count": null,
      "outputs": [
        {
          "output_type": "stream",
          "text": [
            "[50, 1, 3, 4, 'casa']\n"
          ],
          "name": "stdout"
        }
      ]
    },
    {
      "cell_type": "markdown",
      "metadata": {
        "id": "0EN0sOsxFhLm"
      },
      "source": [
        "O que acontece ao inserir o elemento em uma posição além do último elemento?"
      ]
    },
    {
      "cell_type": "code",
      "metadata": {
        "id": "WhA5yRYNFnK4"
      },
      "source": [
        "lista4.insert(10, 'carro')"
      ],
      "execution_count": null,
      "outputs": []
    },
    {
      "cell_type": "code",
      "metadata": {
        "id": "szRXP3L8FqkA",
        "colab": {
          "base_uri": "https://localhost:8080/",
          "height": 34
        },
        "outputId": "bf2a4078-617c-49eb-ff00-4110abd717df"
      },
      "source": [
        "print (lista4)"
      ],
      "execution_count": null,
      "outputs": [
        {
          "output_type": "stream",
          "text": [
            "[50, 1, 3, 4, 'casa', 'carro']\n"
          ],
          "name": "stdout"
        }
      ]
    },
    {
      "cell_type": "markdown",
      "metadata": {
        "id": "s96PQzn9FyGI"
      },
      "source": [
        "Função `pop(i)`"
      ]
    },
    {
      "cell_type": "code",
      "metadata": {
        "id": "2PsT6keoF1Hq"
      },
      "source": [
        "lista5 = [10, 20, 30, 40, 50]"
      ],
      "execution_count": null,
      "outputs": []
    },
    {
      "cell_type": "code",
      "metadata": {
        "id": "6DJUjqayF4Ag",
        "colab": {
          "base_uri": "https://localhost:8080/",
          "height": 34
        },
        "outputId": "05533c62-d296-4032-e99a-369105117a23"
      },
      "source": [
        "lista5.pop(3)"
      ],
      "execution_count": null,
      "outputs": [
        {
          "output_type": "execute_result",
          "data": {
            "text/plain": [
              "40"
            ]
          },
          "metadata": {
            "tags": []
          },
          "execution_count": 81
        }
      ]
    },
    {
      "cell_type": "code",
      "metadata": {
        "id": "odh3zPWIF_X-",
        "colab": {
          "base_uri": "https://localhost:8080/",
          "height": 34
        },
        "outputId": "fbc9ab42-aab5-4224-e7e0-2730d5c4d1f7"
      },
      "source": [
        "print (lista5)"
      ],
      "execution_count": null,
      "outputs": [
        {
          "output_type": "stream",
          "text": [
            "[10, 20, 30, 50]\n"
          ],
          "name": "stdout"
        }
      ]
    },
    {
      "cell_type": "markdown",
      "metadata": {
        "id": "P7jbaaREGMsC"
      },
      "source": [
        "O que acontece ao tentar remover um elemento de uma posição inexistente da lista?"
      ]
    },
    {
      "cell_type": "code",
      "metadata": {
        "id": "tYk49PvpF8xZ",
        "colab": {
          "base_uri": "https://localhost:8080/",
          "height": 166
        },
        "outputId": "2f6d1bcd-6c93-46c7-d802-6dfe5e80c78c"
      },
      "source": [
        "lista5.pop(10)"
      ],
      "execution_count": null,
      "outputs": [
        {
          "output_type": "error",
          "ename": "IndexError",
          "evalue": "ignored",
          "traceback": [
            "\u001b[0;31m---------------------------------------------------------------------------\u001b[0m",
            "\u001b[0;31mIndexError\u001b[0m                                Traceback (most recent call last)",
            "\u001b[0;32m<ipython-input-83-f8a1c416efbd>\u001b[0m in \u001b[0;36m<module>\u001b[0;34m()\u001b[0m\n\u001b[0;32m----> 1\u001b[0;31m \u001b[0mlista5\u001b[0m\u001b[0;34m.\u001b[0m\u001b[0mpop\u001b[0m\u001b[0;34m(\u001b[0m\u001b[0;36m10\u001b[0m\u001b[0;34m)\u001b[0m\u001b[0;34m\u001b[0m\u001b[0;34m\u001b[0m\u001b[0m\n\u001b[0m",
            "\u001b[0;31mIndexError\u001b[0m: pop index out of range"
          ]
        }
      ]
    },
    {
      "cell_type": "markdown",
      "metadata": {
        "id": "uMJrZ-BPGYAR"
      },
      "source": [
        "Função `reverse( )`"
      ]
    },
    {
      "cell_type": "code",
      "metadata": {
        "id": "jBaae5WGGanp"
      },
      "source": [
        "lista6 = [10, 20, 30, 40, 50]"
      ],
      "execution_count": null,
      "outputs": []
    },
    {
      "cell_type": "code",
      "metadata": {
        "id": "9xSMm2TPGeC1",
        "colab": {
          "base_uri": "https://localhost:8080/",
          "height": 34
        },
        "outputId": "807b9d53-1633-49ba-ee25-eb16f08ab07a"
      },
      "source": [
        "print (lista6)"
      ],
      "execution_count": null,
      "outputs": [
        {
          "output_type": "stream",
          "text": [
            "[10, 20, 30, 40, 50]\n"
          ],
          "name": "stdout"
        }
      ]
    },
    {
      "cell_type": "code",
      "metadata": {
        "id": "mLHr4enjGfXP"
      },
      "source": [
        "lista6.reverse()"
      ],
      "execution_count": null,
      "outputs": []
    },
    {
      "cell_type": "code",
      "metadata": {
        "id": "rhlypx8xGiOU",
        "colab": {
          "base_uri": "https://localhost:8080/",
          "height": 34
        },
        "outputId": "797b2465-0e95-4738-cb13-1a8ae6dd3e57"
      },
      "source": [
        "print (lista6)"
      ],
      "execution_count": null,
      "outputs": [
        {
          "output_type": "stream",
          "text": [
            "[50, 40, 30, 20, 10]\n"
          ],
          "name": "stdout"
        }
      ]
    },
    {
      "cell_type": "markdown",
      "metadata": {
        "id": "Y6XX8d_RGm3R"
      },
      "source": [
        "Função `extend( )`"
      ]
    },
    {
      "cell_type": "code",
      "metadata": {
        "id": "c-cWPyy_GpTF"
      },
      "source": [
        "lista7 = [10, 20, 30]\n",
        "\n",
        "lista8 = [40, 50]"
      ],
      "execution_count": null,
      "outputs": []
    },
    {
      "cell_type": "code",
      "metadata": {
        "id": "fRYetQmWHAXc",
        "colab": {
          "base_uri": "https://localhost:8080/",
          "height": 34
        },
        "outputId": "a02a0a13-25a0-4614-f4b3-3b5a06eb5656"
      },
      "source": [
        "print (lista7)"
      ],
      "execution_count": null,
      "outputs": [
        {
          "output_type": "stream",
          "text": [
            "[10, 20, 30, 40, 50]\n"
          ],
          "name": "stdout"
        }
      ]
    },
    {
      "cell_type": "code",
      "metadata": {
        "id": "Q2SfZhVCG8Pz"
      },
      "source": [
        "lista7.extend(lista8)"
      ],
      "execution_count": null,
      "outputs": []
    },
    {
      "cell_type": "code",
      "metadata": {
        "id": "mebZwI-OG-oN",
        "colab": {
          "base_uri": "https://localhost:8080/",
          "height": 34
        },
        "outputId": "08c5d774-c769-496c-ce6c-b3c8a1d68b78"
      },
      "source": [
        "print (lista7)"
      ],
      "execution_count": null,
      "outputs": [
        {
          "output_type": "stream",
          "text": [
            "[10, 20, 30, 40, 50]\n"
          ],
          "name": "stdout"
        }
      ]
    },
    {
      "cell_type": "markdown",
      "metadata": {
        "id": "4I2HedNKHFj9"
      },
      "source": [
        "Qual seria a diferença entre as operações `extend( )` e `append( )`?"
      ]
    },
    {
      "cell_type": "code",
      "metadata": {
        "id": "XYD_TJ0sHL8V"
      },
      "source": [
        "lista7 = [10, 20, 30]\n",
        "\n",
        "lista8 = [40, 50]\n",
        "\n",
        "lista7.append(lista8)"
      ],
      "execution_count": null,
      "outputs": []
    },
    {
      "cell_type": "code",
      "metadata": {
        "id": "pqkURoF9HOkL",
        "colab": {
          "base_uri": "https://localhost:8080/",
          "height": 34
        },
        "outputId": "ff83d68e-676e-4d44-ff90-61d0fa582fed"
      },
      "source": [
        "print (lista7)"
      ],
      "execution_count": null,
      "outputs": [
        {
          "output_type": "stream",
          "text": [
            "[10, 20, 30, [40, 50]]\n"
          ],
          "name": "stdout"
        }
      ]
    },
    {
      "cell_type": "markdown",
      "metadata": {
        "id": "v0uMI0hBK2kJ"
      },
      "source": [
        "A função `extend( )` equivale a operação de `+`"
      ]
    },
    {
      "cell_type": "code",
      "metadata": {
        "id": "K24t97w6K94b"
      },
      "source": [
        "lista9 = [10, 20]\n",
        "lista10 = [30, 40]\n",
        "\n",
        "lista11 = lista9 + lista10"
      ],
      "execution_count": null,
      "outputs": []
    },
    {
      "cell_type": "code",
      "metadata": {
        "id": "I1ZNX6NLLEtX",
        "colab": {
          "base_uri": "https://localhost:8080/",
          "height": 34
        },
        "outputId": "1aa3bcb0-21c7-4f91-9988-c83f40a8aeb7"
      },
      "source": [
        "print (lista11)"
      ],
      "execution_count": null,
      "outputs": [
        {
          "output_type": "stream",
          "text": [
            "[10, 20, 30, 40]\n"
          ],
          "name": "stdout"
        }
      ]
    },
    {
      "cell_type": "markdown",
      "metadata": {
        "id": "jhOrnGNhLRDE"
      },
      "source": [
        "A função `index( )` retorna o índice (posição) de um valor passado como parâmetro."
      ]
    },
    {
      "cell_type": "code",
      "metadata": {
        "id": "SH5zQsvNbUuQ"
      },
      "source": [
        "lista12 = [10, 20, 30, 40]"
      ],
      "execution_count": null,
      "outputs": []
    },
    {
      "cell_type": "code",
      "metadata": {
        "id": "CI7BKu14bYFm",
        "colab": {
          "base_uri": "https://localhost:8080/",
          "height": 34
        },
        "outputId": "a0209e5b-2943-494a-c8ef-ee78998d7245"
      },
      "source": [
        "print (lista12.index(40))"
      ],
      "execution_count": null,
      "outputs": [
        {
          "output_type": "stream",
          "text": [
            "3\n"
          ],
          "name": "stdout"
        }
      ]
    },
    {
      "cell_type": "markdown",
      "metadata": {
        "id": "6B-KPcTxbjao"
      },
      "source": [
        "E se o elemento não estiver na lista?"
      ]
    },
    {
      "cell_type": "code",
      "metadata": {
        "id": "qlV3FzgSbfLn",
        "colab": {
          "base_uri": "https://localhost:8080/",
          "height": 166
        },
        "outputId": "7724bbdf-5a8f-478a-e7e3-64b8b2ee5eb8"
      },
      "source": [
        "print (lista12.index(50))"
      ],
      "execution_count": null,
      "outputs": [
        {
          "output_type": "error",
          "ename": "ValueError",
          "evalue": "ignored",
          "traceback": [
            "\u001b[0;31m---------------------------------------------------------------------------\u001b[0m",
            "\u001b[0;31mValueError\u001b[0m                                Traceback (most recent call last)",
            "\u001b[0;32m<ipython-input-3-007f1da5e20a>\u001b[0m in \u001b[0;36m<module>\u001b[0;34m()\u001b[0m\n\u001b[0;32m----> 1\u001b[0;31m \u001b[0mprint\u001b[0m \u001b[0;34m(\u001b[0m\u001b[0mlista12\u001b[0m\u001b[0;34m.\u001b[0m\u001b[0mindex\u001b[0m\u001b[0;34m(\u001b[0m\u001b[0;36m50\u001b[0m\u001b[0;34m)\u001b[0m\u001b[0;34m)\u001b[0m\u001b[0;34m\u001b[0m\u001b[0;34m\u001b[0m\u001b[0m\n\u001b[0m",
            "\u001b[0;31mValueError\u001b[0m: 50 is not in list"
          ]
        }
      ]
    },
    {
      "cell_type": "markdown",
      "metadata": {
        "id": "iSygF16ebn4c"
      },
      "source": [
        "A função `count( )` retona o número de ocorrências de um valor da lista passado como parâmetro."
      ]
    },
    {
      "cell_type": "code",
      "metadata": {
        "id": "aZJdF1iVbxlz"
      },
      "source": [
        "lista13 = [10, 20, 30, 10, 10]"
      ],
      "execution_count": null,
      "outputs": []
    },
    {
      "cell_type": "code",
      "metadata": {
        "id": "ey1Gnt9kb2Wn",
        "colab": {
          "base_uri": "https://localhost:8080/",
          "height": 34
        },
        "outputId": "0dfb87ac-4fe5-4ce6-b755-a84c1af35fe6"
      },
      "source": [
        "lista13.count(10)"
      ],
      "execution_count": null,
      "outputs": [
        {
          "output_type": "execute_result",
          "data": {
            "text/plain": [
              "3"
            ]
          },
          "metadata": {
            "tags": []
          },
          "execution_count": 5
        }
      ]
    },
    {
      "cell_type": "markdown",
      "metadata": {
        "id": "n8TTGuXxb528"
      },
      "source": [
        "A função `remove( )` remove a primeira ocorrência do valor passado como parâmetro."
      ]
    },
    {
      "cell_type": "code",
      "metadata": {
        "id": "rWkx3e-xcBuF"
      },
      "source": [
        "lista14 = [10, 20, 30, 10, 10]"
      ],
      "execution_count": null,
      "outputs": []
    },
    {
      "cell_type": "code",
      "metadata": {
        "id": "PvG8GNtGcF4Z"
      },
      "source": [
        "lista14.remove(10)"
      ],
      "execution_count": null,
      "outputs": []
    },
    {
      "cell_type": "code",
      "metadata": {
        "id": "JNc4NpYMcJKz",
        "colab": {
          "base_uri": "https://localhost:8080/",
          "height": 34
        },
        "outputId": "488bd6f3-51aa-43aa-8a06-1c77fafcbd5f"
      },
      "source": [
        "print (lista14)"
      ],
      "execution_count": null,
      "outputs": [
        {
          "output_type": "stream",
          "text": [
            "[20, 30, 10, 10]\n"
          ],
          "name": "stdout"
        }
      ]
    },
    {
      "cell_type": "markdown",
      "metadata": {
        "id": "qexUAZnAcaL9"
      },
      "source": [
        "Fatiamento das listas"
      ]
    },
    {
      "cell_type": "code",
      "metadata": {
        "id": "0njPqnJOcb54"
      },
      "source": [
        "lista15 = [10, 20, 30, 40, 50]"
      ],
      "execution_count": null,
      "outputs": []
    },
    {
      "cell_type": "code",
      "metadata": {
        "id": "HI3bHVyhce-W",
        "colab": {
          "base_uri": "https://localhost:8080/",
          "height": 34
        },
        "outputId": "dc1c4df9-7d65-4247-b4fc-9561614e7874"
      },
      "source": [
        "lista15[2:4]"
      ],
      "execution_count": null,
      "outputs": [
        {
          "output_type": "execute_result",
          "data": {
            "text/plain": [
              "[30, 40]"
            ]
          },
          "metadata": {
            "tags": []
          },
          "execution_count": 10
        }
      ]
    },
    {
      "cell_type": "markdown",
      "metadata": {
        "id": "C8ww5iuDcpGP"
      },
      "source": [
        "Uso de índices negativos"
      ]
    },
    {
      "cell_type": "code",
      "metadata": {
        "id": "2ETGhtv6crhQ"
      },
      "source": [
        "lista16 = [10, 20, 30, 40, 50]"
      ],
      "execution_count": null,
      "outputs": []
    },
    {
      "cell_type": "code",
      "metadata": {
        "id": "3S0JTqq5cuRg",
        "colab": {
          "base_uri": "https://localhost:8080/",
          "height": 34
        },
        "outputId": "77f844ec-8508-4009-a3b5-9dae189113a0"
      },
      "source": [
        "lista16[-1]"
      ],
      "execution_count": null,
      "outputs": [
        {
          "output_type": "execute_result",
          "data": {
            "text/plain": [
              "50"
            ]
          },
          "metadata": {
            "tags": []
          },
          "execution_count": 12
        }
      ]
    },
    {
      "cell_type": "markdown",
      "metadata": {
        "id": "8OGP02Bpd3zq"
      },
      "source": [
        "A declaração de uma variável do tipo string pode ser feita de três modos:\n",
        "\n",
        "string1 = 'Curso de Ciencia de Dados'\n",
        "\n",
        "string2 = \"Curso de Ciencia de Dados\""
      ]
    },
    {
      "cell_type": "code",
      "metadata": {
        "id": "ig3ZriAteK6d"
      },
      "source": [
        "string1 = 'Curso de Ciencia de Dados'\n",
        "string2 = \"Curso de Ciencia de Dados\""
      ],
      "execution_count": null,
      "outputs": []
    },
    {
      "cell_type": "markdown",
      "metadata": {
        "id": "i3tG8wo4ftsj"
      },
      "source": [
        "Exemplos de usos de operações de listas em strings:"
      ]
    },
    {
      "cell_type": "code",
      "metadata": {
        "id": "h5q9WeHqfwym",
        "colab": {
          "base_uri": "https://localhost:8080/",
          "height": 34
        },
        "outputId": "c33d5a5f-bbf9-43be-cf94-ff665542d6ea"
      },
      "source": [
        "type(string1)"
      ],
      "execution_count": null,
      "outputs": [
        {
          "output_type": "execute_result",
          "data": {
            "text/plain": [
              "str"
            ]
          },
          "metadata": {
            "tags": []
          },
          "execution_count": 14
        }
      ]
    },
    {
      "cell_type": "code",
      "metadata": {
        "id": "4biJy7F9f24g"
      },
      "source": [
        "l = string1.split()"
      ],
      "execution_count": null,
      "outputs": []
    },
    {
      "cell_type": "code",
      "metadata": {
        "id": "idSsG_jPf62A",
        "colab": {
          "base_uri": "https://localhost:8080/",
          "height": 34
        },
        "outputId": "d1a4bf97-174f-4e62-b390-fc6fda317875"
      },
      "source": [
        "print (type(l))"
      ],
      "execution_count": null,
      "outputs": [
        {
          "output_type": "stream",
          "text": [
            "<class 'list'>\n"
          ],
          "name": "stdout"
        }
      ]
    },
    {
      "cell_type": "code",
      "metadata": {
        "id": "FoAETSWegAEz",
        "colab": {
          "base_uri": "https://localhost:8080/",
          "height": 34
        },
        "outputId": "6b3ea81a-402f-435e-e2ea-cc2b3311d762"
      },
      "source": [
        "print (l)"
      ],
      "execution_count": null,
      "outputs": [
        {
          "output_type": "stream",
          "text": [
            "['Curso', 'de', 'Ciencia', 'de', 'Dados']\n"
          ],
          "name": "stdout"
        }
      ]
    },
    {
      "cell_type": "markdown",
      "metadata": {
        "id": "O_P7xVQuguf7"
      },
      "source": [
        "#Dicionários"
      ]
    },
    {
      "cell_type": "markdown",
      "metadata": {
        "id": "-lx582IjkJgP"
      },
      "source": [
        "Exemplo de criação de um dicionário:"
      ]
    },
    {
      "cell_type": "code",
      "metadata": {
        "id": "zP-ZBuYfjj1C"
      },
      "source": [
        "dict1 = {'name': 'Bob', 'age': 25, 'job':'Dev', 'city':'New York', 'email':'bob@web.com'}"
      ],
      "execution_count": null,
      "outputs": []
    },
    {
      "cell_type": "code",
      "metadata": {
        "id": "rE1m4F7Qk6Vb",
        "colab": {
          "base_uri": "https://localhost:8080/",
          "height": 34
        },
        "outputId": "fb248537-5239-4bbb-8a31-8b1334771971"
      },
      "source": [
        "print (dict1)"
      ],
      "execution_count": null,
      "outputs": [
        {
          "output_type": "stream",
          "text": [
            "{'name': 'Bob', 'age': 25, 'job': 'Dev', 'city': 'New York', 'email': 'bob@web.com'}\n"
          ],
          "name": "stdout"
        }
      ]
    },
    {
      "cell_type": "markdown",
      "metadata": {
        "id": "THHy2L8SkMhJ"
      },
      "source": [
        "Checar o tipo:"
      ]
    },
    {
      "cell_type": "code",
      "metadata": {
        "id": "VfaGa42Kjyny",
        "colab": {
          "base_uri": "https://localhost:8080/",
          "height": 34
        },
        "outputId": "68cab44b-68ff-41a4-fa0d-845f9a674a72"
      },
      "source": [
        "type(dict1)"
      ],
      "execution_count": null,
      "outputs": [
        {
          "output_type": "execute_result",
          "data": {
            "text/plain": [
              "dict"
            ]
          },
          "metadata": {
            "tags": []
          },
          "execution_count": 21
        }
      ]
    },
    {
      "cell_type": "markdown",
      "metadata": {
        "id": "Y2GANYBqkQVs"
      },
      "source": [
        "Forma de acesso a um elemento da estrutura:"
      ]
    },
    {
      "cell_type": "code",
      "metadata": {
        "id": "mQVhfN4WkT1a",
        "colab": {
          "base_uri": "https://localhost:8080/",
          "height": 35
        },
        "outputId": "4f9e6d1e-019b-4e5d-f121-6414f98d0429"
      },
      "source": [
        "dict1['city']"
      ],
      "execution_count": null,
      "outputs": [
        {
          "output_type": "execute_result",
          "data": {
            "application/vnd.google.colaboratory.intrinsic+json": {
              "type": "string"
            },
            "text/plain": [
              "'New York'"
            ]
          },
          "metadata": {
            "tags": []
          },
          "execution_count": 22
        }
      ]
    },
    {
      "cell_type": "markdown",
      "metadata": {
        "id": "jyHdF3Y7kbjM"
      },
      "source": [
        "Exibir todas as chaves de um dicionário:"
      ]
    },
    {
      "cell_type": "code",
      "metadata": {
        "id": "yW-Nyb4fkfkN",
        "colab": {
          "base_uri": "https://localhost:8080/",
          "height": 34
        },
        "outputId": "39958c2a-94d4-47e0-dbe5-c5081b129772"
      },
      "source": [
        "dict1.keys()"
      ],
      "execution_count": null,
      "outputs": [
        {
          "output_type": "execute_result",
          "data": {
            "text/plain": [
              "dict_keys(['name', 'age', 'job', 'city', 'email'])"
            ]
          },
          "metadata": {
            "tags": []
          },
          "execution_count": 25
        }
      ]
    },
    {
      "cell_type": "markdown",
      "metadata": {
        "id": "AOv6QTOLkmDr"
      },
      "source": [
        "Exibir os valores de um dicionário:"
      ]
    },
    {
      "cell_type": "code",
      "metadata": {
        "id": "eGy9Z2lnkuvY",
        "colab": {
          "base_uri": "https://localhost:8080/",
          "height": 34
        },
        "outputId": "e307d676-f881-4d23-a856-186691209eef"
      },
      "source": [
        "dict1.values()"
      ],
      "execution_count": null,
      "outputs": [
        {
          "output_type": "execute_result",
          "data": {
            "text/plain": [
              "dict_values(['Bob', 25, 'Dev', 'New York', 'bob@web.com'])"
            ]
          },
          "metadata": {
            "tags": []
          },
          "execution_count": 27
        }
      ]
    },
    {
      "cell_type": "markdown",
      "metadata": {
        "id": "0OhGEtjjkyxz"
      },
      "source": [
        "Exibir os valores de um dicionário como pares (tuplas):"
      ]
    },
    {
      "cell_type": "code",
      "metadata": {
        "id": "vU64ONWskp5R",
        "colab": {
          "base_uri": "https://localhost:8080/",
          "height": 34
        },
        "outputId": "88fe6429-ce80-4cd1-ccdd-7be48cb1bc49"
      },
      "source": [
        "dict1.items()"
      ],
      "execution_count": null,
      "outputs": [
        {
          "output_type": "execute_result",
          "data": {
            "text/plain": [
              "dict_items([('name', 'Bob'), ('age', 25), ('job', 'Dev'), ('city', 'New York'), ('email', 'bob@web.com')])"
            ]
          },
          "metadata": {
            "tags": []
          },
          "execution_count": 26
        }
      ]
    },
    {
      "cell_type": "markdown",
      "metadata": {
        "id": "L9c_GQNZk8_Q"
      },
      "source": [
        "Alterar um valor do dicionário"
      ]
    },
    {
      "cell_type": "code",
      "metadata": {
        "id": "BLwGtmimk_Vg"
      },
      "source": [
        "dict1['age'] = 26"
      ],
      "execution_count": null,
      "outputs": []
    },
    {
      "cell_type": "code",
      "metadata": {
        "id": "pgyvwIcolB-c",
        "colab": {
          "base_uri": "https://localhost:8080/",
          "height": 104
        },
        "outputId": "6e87f8f4-e99e-422b-c8dc-d944ababe527"
      },
      "source": [
        "dict1"
      ],
      "execution_count": null,
      "outputs": [
        {
          "output_type": "execute_result",
          "data": {
            "text/plain": [
              "{'age': 26,\n",
              " 'city': 'New York',\n",
              " 'email': 'bob@web.com',\n",
              " 'job': 'Dev',\n",
              " 'name': 'Bob'}"
            ]
          },
          "metadata": {
            "tags": []
          },
          "execution_count": 30
        }
      ]
    },
    {
      "cell_type": "markdown",
      "metadata": {
        "id": "dp6yF6HVlONT"
      },
      "source": [
        "Operação para remover (delete) uma chave e o seu valor associado:"
      ]
    },
    {
      "cell_type": "code",
      "metadata": {
        "id": "xobOY1fglWVN"
      },
      "source": [
        "del dict1['city']"
      ],
      "execution_count": null,
      "outputs": []
    },
    {
      "cell_type": "code",
      "metadata": {
        "id": "1JKj6XMNlbhc",
        "colab": {
          "base_uri": "https://localhost:8080/",
          "height": 34
        },
        "outputId": "d6f6ecb4-a9f1-4b51-e1c3-71288138e2b0"
      },
      "source": [
        "dict1"
      ],
      "execution_count": null,
      "outputs": [
        {
          "output_type": "execute_result",
          "data": {
            "text/plain": [
              "{'age': 26, 'email': 'bob@web.com', 'job': 'Dev', 'name': 'Bob'}"
            ]
          },
          "metadata": {
            "tags": []
          },
          "execution_count": 32
        }
      ]
    },
    {
      "cell_type": "markdown",
      "metadata": {
        "id": "ttk01cw_mHv6"
      },
      "source": [
        "#Comandos Condicionais"
      ]
    },
    {
      "cell_type": "markdown",
      "metadata": {
        "id": "xMQv7gtCmJ6O"
      },
      "source": [
        "O comando `if` é usado como comando condicional"
      ]
    },
    {
      "cell_type": "code",
      "metadata": {
        "id": "ExvR3SAgmr1U"
      },
      "source": [
        "#@title Default title text\n",
        "valor = 10 #@param {type:\"integer\"}\n",
        "\n",
        "if (valor%2==0):\n",
        "  print ('Par')"
      ],
      "execution_count": null,
      "outputs": []
    },
    {
      "cell_type": "markdown",
      "metadata": {
        "id": "iabsFuN6nU89"
      },
      "source": [
        "Uso do comando `if-else`:"
      ]
    },
    {
      "cell_type": "code",
      "metadata": {
        "id": "gYf__K1FnFVj",
        "colab": {
          "base_uri": "https://localhost:8080/",
          "height": 34
        },
        "outputId": "70e742ed-661a-464b-daa0-9f5e3bdea713"
      },
      "source": [
        "#@title Default title text\n",
        "valor = 17 #@param {type:\"integer\"}\n",
        "\n",
        "if (valor%2==0):\n",
        "  print ('Par')\n",
        "else:\n",
        "  print ('Impar')"
      ],
      "execution_count": null,
      "outputs": [
        {
          "output_type": "stream",
          "text": [
            "Impar\n"
          ],
          "name": "stdout"
        }
      ]
    },
    {
      "cell_type": "markdown",
      "metadata": {
        "id": "BKhviHcHnXxK"
      },
      "source": [
        "É possível ainda usar o comando `if` aninhado através do `elif`:\n"
      ]
    },
    {
      "cell_type": "code",
      "metadata": {
        "id": "7NOWK3DGn2aV",
        "colab": {
          "base_uri": "https://localhost:8080/",
          "height": 34
        },
        "outputId": "2ab9330a-2ecf-45aa-8048-af79d9e4e16b"
      },
      "source": [
        "valor = 0 #@param {type:\"integer\"}\n",
        "\n",
        "if (valor>0):\n",
        "  print ('Positivo')\n",
        "elif (valor<0):\n",
        "  print ('Negativo')\n",
        "else:\n",
        "  print ('Zero')"
      ],
      "execution_count": null,
      "outputs": [
        {
          "output_type": "stream",
          "text": [
            "Zero\n"
          ],
          "name": "stdout"
        }
      ]
    },
    {
      "cell_type": "markdown",
      "metadata": {
        "id": "liNmXk8Po8DD"
      },
      "source": [
        "#Laço de Repetição"
      ]
    },
    {
      "cell_type": "markdown",
      "metadata": {
        "id": "1JsYeydLpVZA"
      },
      "source": [
        "Exemplo simples:"
      ]
    },
    {
      "cell_type": "code",
      "metadata": {
        "id": "Dxx6z83-pPK7",
        "colab": {
          "base_uri": "https://localhost:8080/",
          "height": 69
        },
        "outputId": "2a18b51d-0914-44ab-bad8-efe24a6dbf56"
      },
      "source": [
        "for i in [10,20,30]:\n",
        "  print(i)"
      ],
      "execution_count": null,
      "outputs": [
        {
          "output_type": "stream",
          "text": [
            "10\n",
            "20\n",
            "30\n"
          ],
          "name": "stdout"
        }
      ]
    },
    {
      "cell_type": "markdown",
      "metadata": {
        "id": "hZW9N9DWp47k"
      },
      "source": [
        "Função `range( )`"
      ]
    },
    {
      "cell_type": "code",
      "metadata": {
        "id": "4V72GnYCqH03",
        "colab": {
          "base_uri": "https://localhost:8080/",
          "height": 34
        },
        "outputId": "bfd8e3e2-b1e4-42f7-85d0-3499d6292168"
      },
      "source": [
        "print (list(range(5)))"
      ],
      "execution_count": null,
      "outputs": [
        {
          "output_type": "stream",
          "text": [
            "[0, 1, 2, 3, 4]\n"
          ],
          "name": "stdout"
        }
      ]
    },
    {
      "cell_type": "code",
      "metadata": {
        "id": "M7LYDkTsqKTt",
        "colab": {
          "base_uri": "https://localhost:8080/",
          "height": 34
        },
        "outputId": "1d942324-e6b8-44a9-da62-0202d50b07ca"
      },
      "source": [
        "print (list(range(3,8)))"
      ],
      "execution_count": null,
      "outputs": [
        {
          "output_type": "stream",
          "text": [
            "range(3, 8)\n"
          ],
          "name": "stdout"
        }
      ]
    },
    {
      "cell_type": "code",
      "metadata": {
        "id": "S-vzWBsTqP0x",
        "colab": {
          "base_uri": "https://localhost:8080/",
          "height": 34
        },
        "outputId": "fa4b6c92-8553-41bf-d5af-3a05f7e5a2d0"
      },
      "source": [
        "print (list(range(3,10,2)))"
      ],
      "execution_count": null,
      "outputs": [
        {
          "output_type": "stream",
          "text": [
            "[3, 5, 7, 9]\n"
          ],
          "name": "stdout"
        }
      ]
    },
    {
      "cell_type": "markdown",
      "metadata": {
        "id": "a4lOEKISrBCj"
      },
      "source": [
        "A função `range( )` em um laços de repetição:"
      ]
    },
    {
      "cell_type": "code",
      "metadata": {
        "id": "RojF3g7UrEYV",
        "colab": {
          "base_uri": "https://localhost:8080/",
          "height": 104
        },
        "outputId": "6922c7f0-ef44-4777-cd2c-3bb350e551fb"
      },
      "source": [
        "for i in range(5):\n",
        "  print (i)"
      ],
      "execution_count": null,
      "outputs": [
        {
          "output_type": "stream",
          "text": [
            "0\n",
            "1\n",
            "2\n",
            "3\n",
            "4\n"
          ],
          "name": "stdout"
        }
      ]
    },
    {
      "cell_type": "markdown",
      "metadata": {
        "id": "MJTzOuk4rihi"
      },
      "source": [
        "A função `enumerate( )` retorna o índice e o valor do elemento de uma lista."
      ]
    },
    {
      "cell_type": "code",
      "metadata": {
        "id": "Ii5Tybrurp0-"
      },
      "source": [
        "cidades = ['Manaus', 'Itacoatiara', 'Parintins', 'Presidente Figueiredo']"
      ],
      "execution_count": null,
      "outputs": []
    },
    {
      "cell_type": "code",
      "metadata": {
        "id": "YElXibU3r4Ul",
        "colab": {
          "base_uri": "https://localhost:8080/",
          "height": 86
        },
        "outputId": "4dc09969-a0b2-4452-d94b-00a264b125cd"
      },
      "source": [
        "for c in cidades:\n",
        "  print (c)"
      ],
      "execution_count": null,
      "outputs": [
        {
          "output_type": "stream",
          "text": [
            "Manaus\n",
            "Itacoatiara\n",
            "Parintins\n",
            "Presidente Figueiredo\n"
          ],
          "name": "stdout"
        }
      ]
    },
    {
      "cell_type": "code",
      "metadata": {
        "id": "MBfdje4qrxbJ",
        "colab": {
          "base_uri": "https://localhost:8080/",
          "height": 86
        },
        "outputId": "0eeefa58-cb53-4178-9538-93db3eda4645"
      },
      "source": [
        "for c in enumerate(cidades):\n",
        "  print (c)"
      ],
      "execution_count": null,
      "outputs": [
        {
          "output_type": "stream",
          "text": [
            "(0, 'Manaus')\n",
            "(1, 'Itacoatiara')\n",
            "(2, 'Parintins')\n",
            "(3, 'Presidente Figueiredo')\n"
          ],
          "name": "stdout"
        }
      ]
    },
    {
      "cell_type": "markdown",
      "metadata": {
        "id": "Q4NtEb60sfuP"
      },
      "source": [
        "A função `zip( )` permite associar muitas listas e, simultaneamente, iterar através dos elementos destas listas."
      ]
    },
    {
      "cell_type": "code",
      "metadata": {
        "id": "mnNl3O7-sq_u"
      },
      "source": [
        "estados = ['Amazonas', 'Pará', 'Acre', 'Roraima']\n",
        "siglas = ['AM', 'PA', 'AC', 'RR']"
      ],
      "execution_count": null,
      "outputs": []
    },
    {
      "cell_type": "code",
      "metadata": {
        "id": "0BcccTJos4K-",
        "colab": {
          "base_uri": "https://localhost:8080/",
          "height": 86
        },
        "outputId": "7fe5b360-cc7c-466d-ba0c-8ec8855a9594"
      },
      "source": [
        "for e,s in zip(estados, siglas):\n",
        "  print (e,s)"
      ],
      "execution_count": null,
      "outputs": [
        {
          "output_type": "stream",
          "text": [
            "Amazonas AM\n",
            "Pará PA\n",
            "Acre AC\n",
            "Roraima RR\n"
          ],
          "name": "stdout"
        }
      ]
    },
    {
      "cell_type": "markdown",
      "metadata": {
        "id": "yne0qKdStVfi"
      },
      "source": [
        "Python ainda possui o comando `while` como laço de repetição."
      ]
    },
    {
      "cell_type": "code",
      "metadata": {
        "id": "DkGujgZgtaGk",
        "colab": {
          "base_uri": "https://localhost:8080/",
          "height": 191
        },
        "outputId": "0503397c-9592-44c0-ef38-fb1c6cebec2e"
      },
      "source": [
        "i = 0\n",
        "while (i<10):\n",
        "  print (i)\n",
        "  i+=1"
      ],
      "execution_count": null,
      "outputs": [
        {
          "output_type": "stream",
          "text": [
            "0\n",
            "1\n",
            "2\n",
            "3\n",
            "4\n",
            "5\n",
            "6\n",
            "7\n",
            "8\n",
            "9\n"
          ],
          "name": "stdout"
        }
      ]
    },
    {
      "cell_type": "markdown",
      "metadata": {
        "id": "xLebQeZptjPH"
      },
      "source": [
        "#Funções"
      ]
    },
    {
      "cell_type": "markdown",
      "metadata": {
        "id": "7hUwNGsLuzAf"
      },
      "source": [
        "Exemplo simples:"
      ]
    },
    {
      "cell_type": "code",
      "metadata": {
        "id": "462Y384ou3oH",
        "colab": {
          "base_uri": "https://localhost:8080/",
          "height": 34
        },
        "outputId": "7338a865-4b62-49fd-cc12-ebf4347eda99"
      },
      "source": [
        "def soma(a,b):\n",
        "  print(a+b)\n",
        "\n",
        "valor1 = 3 #@param {type:\"integer\"}\n",
        "valor2 =  7#@param {type:\"integer\"}\n",
        "\n",
        "soma(valor1,valor2)"
      ],
      "execution_count": null,
      "outputs": [
        {
          "output_type": "stream",
          "text": [
            "10\n"
          ],
          "name": "stdout"
        }
      ]
    },
    {
      "cell_type": "markdown",
      "metadata": {
        "id": "EYiNh4bxvVGK"
      },
      "source": [
        "Uma função pode retornar um valor através do operador `return`"
      ]
    },
    {
      "cell_type": "code",
      "metadata": {
        "id": "IhOrsF2ovbqi",
        "colab": {
          "base_uri": "https://localhost:8080/",
          "height": 34
        },
        "outputId": "62b07e03-9bde-4906-ea4a-c6c829d1175a"
      },
      "source": [
        "def soma(a,b):\n",
        "  return(a+b)\n",
        "\n",
        "valor1 = 3 #@param {type:\"integer\"}\n",
        "valor2 =  7#@param {type:\"integer\"}\n",
        "\n",
        "print(soma(valor1,valor2))"
      ],
      "execution_count": null,
      "outputs": [
        {
          "output_type": "stream",
          "text": [
            "10\n"
          ],
          "name": "stdout"
        }
      ]
    },
    {
      "cell_type": "markdown",
      "metadata": {
        "id": "xjTFpAijwQ2Z"
      },
      "source": [
        "É possível ter argumentos opcionais nas funções em Python"
      ]
    },
    {
      "cell_type": "code",
      "metadata": {
        "id": "YN5hgZ3ywQhx",
        "colab": {
          "base_uri": "https://localhost:8080/",
          "height": 34
        },
        "outputId": "c43fd1d9-abc4-45d8-e2bc-33832ff14fb0"
      },
      "source": [
        "def produto(a,b=10):\n",
        "  print (a*b)\n",
        "\n",
        "produto (5)"
      ],
      "execution_count": null,
      "outputs": [
        {
          "output_type": "stream",
          "text": [
            "50\n"
          ],
          "name": "stdout"
        }
      ]
    },
    {
      "cell_type": "code",
      "metadata": {
        "id": "q_lPUbDjw_3-",
        "colab": {
          "base_uri": "https://localhost:8080/",
          "height": 34
        },
        "outputId": "a7105235-10d1-4cf5-9c1e-3e9881f65a7c"
      },
      "source": [
        "produto (5,8)"
      ],
      "execution_count": null,
      "outputs": [
        {
          "output_type": "stream",
          "text": [
            "40\n"
          ],
          "name": "stdout"
        }
      ]
    },
    {
      "cell_type": "markdown",
      "metadata": {
        "id": "E_ChsYHvyRMQ"
      },
      "source": [
        "Passagem de listas como argumentos de funções"
      ]
    },
    {
      "cell_type": "code",
      "metadata": {
        "id": "0qLO5NRZyWZP"
      },
      "source": [
        "def conta_pares(lista):\n",
        "  total=0\n",
        "  for i in lista:\n",
        "    if i%2==0:\n",
        "      total+=1\n",
        "  print (total)      "
      ],
      "execution_count": null,
      "outputs": []
    },
    {
      "cell_type": "code",
      "metadata": {
        "id": "eItkioplygGW",
        "colab": {
          "base_uri": "https://localhost:8080/",
          "height": 34
        },
        "outputId": "26d607b8-2ebb-48c7-acc7-b681ce99460e"
      },
      "source": [
        "lista = [1, 3, 4, 6, 10]\n",
        "\n",
        "conta_pares(*lista)"
      ],
      "execution_count": null,
      "outputs": [
        {
          "output_type": "stream",
          "text": [
            "3\n"
          ],
          "name": "stdout"
        }
      ]
    },
    {
      "cell_type": "markdown",
      "metadata": {
        "id": "yqFanWT-yz4a"
      },
      "source": [
        "Passagem de dicionários como argumentos de funções"
      ]
    },
    {
      "cell_type": "code",
      "metadata": {
        "id": "tOV1e6CizGjL"
      },
      "source": [
        "def testa_maioridade(d):\n",
        "  if d['age'] >= 18:\n",
        "    print ('Maior de idade.')\n",
        "  else:\n",
        "    print ('Menor de idade.')"
      ],
      "execution_count": null,
      "outputs": []
    },
    {
      "cell_type": "code",
      "metadata": {
        "id": "TsMTwtyIy8eU"
      },
      "source": [
        "dict1 = {'name': 'Bob', 'age': 25, 'job':'Dev', 'city':'New York', 'email':'bob@web.com'}"
      ],
      "execution_count": null,
      "outputs": []
    },
    {
      "cell_type": "code",
      "metadata": {
        "id": "nD1lf8klzaZv",
        "colab": {
          "base_uri": "https://localhost:8080/",
          "height": 34
        },
        "outputId": "9b4248d9-751d-4e06-fa63-c8e9ef8c4cb4"
      },
      "source": [
        "testa_maioridade(dict1)"
      ],
      "execution_count": null,
      "outputs": [
        {
          "output_type": "stream",
          "text": [
            "Maior de idade.\n"
          ],
          "name": "stdout"
        }
      ]
    },
    {
      "cell_type": "markdown",
      "metadata": {
        "id": "zKAkSG9Q0IMr"
      },
      "source": [
        "Múltiplos retornos"
      ]
    },
    {
      "cell_type": "code",
      "metadata": {
        "id": "9BfQt3YB0J6X"
      },
      "source": [
        "def calculos (a,b):\n",
        "  return (a+b, a*b)"
      ],
      "execution_count": null,
      "outputs": []
    },
    {
      "cell_type": "code",
      "metadata": {
        "id": "tyjFooee0Rub",
        "colab": {
          "base_uri": "https://localhost:8080/",
          "height": 34
        },
        "outputId": "6cbcd1c8-8497-4273-97e0-70dd95ebf6d2"
      },
      "source": [
        "calculos(10,20)"
      ],
      "execution_count": null,
      "outputs": [
        {
          "output_type": "execute_result",
          "data": {
            "text/plain": [
              "(30, 200)"
            ]
          },
          "metadata": {
            "tags": []
          },
          "execution_count": 71
        }
      ]
    },
    {
      "cell_type": "markdown",
      "metadata": {
        "id": "MTgNZ6JX1PLz"
      },
      "source": [
        "Função `lambda`"
      ]
    },
    {
      "cell_type": "markdown",
      "metadata": {
        "id": "VykrS9Vs12Gi"
      },
      "source": [
        "Exemplo de função `lambda` para colocar o texto em caixa alta e separar por palavras:"
      ]
    },
    {
      "cell_type": "code",
      "metadata": {
        "id": "fCFGhi9F1eLa"
      },
      "source": [
        "texto = 'Ciencia de Dados'"
      ],
      "execution_count": null,
      "outputs": []
    },
    {
      "cell_type": "code",
      "metadata": {
        "id": "-s2Zj6UD1owa",
        "colab": {
          "base_uri": "https://localhost:8080/",
          "height": 34
        },
        "outputId": "d5bab051-72ca-4c00-a010-8101b31410d3"
      },
      "source": [
        "(lambda string: string.upper().split())(texto)"
      ],
      "execution_count": null,
      "outputs": [
        {
          "output_type": "execute_result",
          "data": {
            "text/plain": [
              "['CIENCIA', 'DE', 'DADOS']"
            ]
          },
          "metadata": {
            "tags": []
          },
          "execution_count": 73
        }
      ]
    },
    {
      "cell_type": "markdown",
      "metadata": {
        "id": "xWPurgTF1_cq"
      },
      "source": [
        "Exemplo de função `lambda` para manipular lista."
      ]
    },
    {
      "cell_type": "code",
      "metadata": {
        "id": "EfAUrszf2LuQ"
      },
      "source": [
        "lista = [10, 13, 19, 20, 50]"
      ],
      "execution_count": null,
      "outputs": []
    },
    {
      "cell_type": "code",
      "metadata": {
        "id": "a15i6thO2Ozd"
      },
      "source": [
        "nova_lista = list(filter(lambda x:(x%2==0), lista))"
      ],
      "execution_count": null,
      "outputs": []
    },
    {
      "cell_type": "code",
      "metadata": {
        "id": "vuP4M01C2ilC",
        "colab": {
          "base_uri": "https://localhost:8080/",
          "height": 34
        },
        "outputId": "137322cf-1627-4535-92fa-f015c3f7e04f"
      },
      "source": [
        "print (nova_lista)"
      ],
      "execution_count": null,
      "outputs": [
        {
          "output_type": "stream",
          "text": [
            "[10, 20, 50]\n"
          ],
          "name": "stdout"
        }
      ]
    },
    {
      "cell_type": "markdown",
      "metadata": {
        "id": "h0PCPhpH4bGb"
      },
      "source": [
        "#Orientação a objetos"
      ]
    },
    {
      "cell_type": "markdown",
      "metadata": {
        "id": "lQhvn72t4c2X"
      },
      "source": [
        "Exemplo1:"
      ]
    },
    {
      "cell_type": "code",
      "metadata": {
        "id": "bVC1Vukj4egX"
      },
      "source": [
        "from sklearn.linear_model import LinearRegression\n",
        "\n",
        "objeto = LinearRegression()"
      ],
      "execution_count": null,
      "outputs": []
    },
    {
      "cell_type": "markdown",
      "metadata": {
        "id": "fUOIUXuk48co"
      },
      "source": [
        "A declaração abaixo criou uma variável ou um objeto?"
      ]
    },
    {
      "cell_type": "code",
      "metadata": {
        "id": "L85M-Y1j4_TK"
      },
      "source": [
        "valor = True"
      ],
      "execution_count": null,
      "outputs": []
    },
    {
      "cell_type": "code",
      "metadata": {
        "id": "UQqDrhO25BR3",
        "colab": {
          "base_uri": "https://localhost:8080/",
          "height": 34
        },
        "outputId": "192f13ab-d349-4ee2-b7a2-0041637351cb"
      },
      "source": [
        "valor.denominator"
      ],
      "execution_count": null,
      "outputs": [
        {
          "output_type": "execute_result",
          "data": {
            "text/plain": [
              "1"
            ]
          },
          "metadata": {
            "tags": []
          },
          "execution_count": 3
        }
      ]
    },
    {
      "cell_type": "code",
      "metadata": {
        "id": "gkGklDJi5GPo",
        "colab": {
          "base_uri": "https://localhost:8080/",
          "height": 34
        },
        "outputId": "e80b1e50-a571-4657-802e-cfb3dd62afb7"
      },
      "source": [
        "valor.conjugate()"
      ],
      "execution_count": null,
      "outputs": [
        {
          "output_type": "execute_result",
          "data": {
            "text/plain": [
              "1"
            ]
          },
          "metadata": {
            "tags": []
          },
          "execution_count": 4
        }
      ]
    },
    {
      "cell_type": "markdown",
      "metadata": {
        "id": "_-4Vju8WIBP9"
      },
      "source": [
        "Exemplo 2:"
      ]
    },
    {
      "cell_type": "code",
      "metadata": {
        "id": "_k5yBSk-ICnp"
      },
      "source": [
        "class minhaClasse:\n",
        "  def __init__ (self, resolution = 300, source = \"./\", size = 500):\n",
        "    self.resolution = resolution\n",
        "    self.source = source\n",
        "    self.size = size"
      ],
      "execution_count": null,
      "outputs": []
    },
    {
      "cell_type": "code",
      "metadata": {
        "id": "HV6kvW_GIpLh"
      },
      "source": [
        "imagem1 = minhaClasse(source=\"dog.png\")"
      ],
      "execution_count": null,
      "outputs": []
    },
    {
      "cell_type": "code",
      "metadata": {
        "id": "ppVSvp8kI3KI",
        "colab": {
          "base_uri": "https://localhost:8080/",
          "height": 34
        },
        "outputId": "ea33bd00-d04f-4096-fd85-c7acfb0afd01"
      },
      "source": [
        "imagem1.size"
      ],
      "execution_count": null,
      "outputs": [
        {
          "output_type": "execute_result",
          "data": {
            "text/plain": [
              "500"
            ]
          },
          "metadata": {
            "tags": []
          },
          "execution_count": 11
        }
      ]
    },
    {
      "cell_type": "code",
      "metadata": {
        "id": "Dp2FbPFnI7F6",
        "colab": {
          "base_uri": "https://localhost:8080/",
          "height": 35
        },
        "outputId": "8320eeb9-2854-4de3-96bd-32e54c743ae5"
      },
      "source": [
        "imagem1.source"
      ],
      "execution_count": null,
      "outputs": [
        {
          "output_type": "execute_result",
          "data": {
            "application/vnd.google.colaboratory.intrinsic+json": {
              "type": "string"
            },
            "text/plain": [
              "'dog.png'"
            ]
          },
          "metadata": {
            "tags": []
          },
          "execution_count": 12
        }
      ]
    },
    {
      "cell_type": "markdown",
      "metadata": {
        "id": "3WduVFiDJ6bh"
      },
      "source": [
        "#Módulos e Pacotes"
      ]
    },
    {
      "cell_type": "markdown",
      "metadata": {
        "id": "B3Eqg00fK4eg"
      },
      "source": [
        "Exemplo 1"
      ]
    },
    {
      "cell_type": "code",
      "metadata": {
        "id": "9TlDGtURKzo8",
        "colab": {
          "base_uri": "https://localhost:8080/",
          "height": 211
        },
        "outputId": "e3606b59-12c3-4f73-92e0-9faa510b6734"
      },
      "source": [
        "!pip install datetime"
      ],
      "execution_count": null,
      "outputs": [
        {
          "output_type": "stream",
          "text": [
            "Collecting datetime\n",
            "\u001b[?25l  Downloading https://files.pythonhosted.org/packages/73/22/a5297f3a1f92468cc737f8ce7ba6e5f245fcfafeae810ba37bd1039ea01c/DateTime-4.3-py2.py3-none-any.whl (60kB)\n",
            "\u001b[K     |████████████████████████████████| 61kB 1.7MB/s \n",
            "\u001b[?25hRequirement already satisfied: pytz in /usr/local/lib/python3.6/dist-packages (from datetime) (2018.9)\n",
            "Collecting zope.interface\n",
            "\u001b[?25l  Downloading https://files.pythonhosted.org/packages/57/33/565274c28a11af60b7cfc0519d46bde4125fcd7d32ebc0a81b480d0e8da6/zope.interface-5.1.0-cp36-cp36m-manylinux2010_x86_64.whl (234kB)\n",
            "\u001b[K     |████████████████████████████████| 235kB 7.2MB/s \n",
            "\u001b[?25hRequirement already satisfied: setuptools in /usr/local/lib/python3.6/dist-packages (from zope.interface->datetime) (50.3.0)\n",
            "Installing collected packages: zope.interface, datetime\n",
            "Successfully installed datetime-4.3 zope.interface-5.1.0\n"
          ],
          "name": "stdout"
        }
      ]
    },
    {
      "cell_type": "code",
      "metadata": {
        "id": "l6wALExjKqD-"
      },
      "source": [
        "import datetime"
      ],
      "execution_count": null,
      "outputs": []
    },
    {
      "cell_type": "code",
      "metadata": {
        "id": "5vWAWePLKsEn",
        "colab": {
          "base_uri": "https://localhost:8080/",
          "height": 34
        },
        "outputId": "0085dae2-6abd-4b46-feb5-28b03e1426fb"
      },
      "source": [
        "print (datetime.date.today())"
      ],
      "execution_count": null,
      "outputs": [
        {
          "output_type": "stream",
          "text": [
            "2020-09-22\n"
          ],
          "name": "stdout"
        }
      ]
    },
    {
      "cell_type": "markdown",
      "metadata": {
        "id": "FjUh50axLVjP"
      },
      "source": [
        "Exemplo 2"
      ]
    },
    {
      "cell_type": "code",
      "metadata": {
        "id": "FbeSXXxIKsWG"
      },
      "source": [
        "import numpy as np"
      ],
      "execution_count": null,
      "outputs": []
    },
    {
      "cell_type": "code",
      "metadata": {
        "id": "31yWWmKrLYQV",
        "colab": {
          "base_uri": "https://localhost:8080/",
          "height": 34
        },
        "outputId": "4db57e87-bd6b-4898-ced4-d1f3c08ab6a4"
      },
      "source": [
        "print (np.random.random(1))"
      ],
      "execution_count": null,
      "outputs": [
        {
          "output_type": "stream",
          "text": [
            "[0.64833328]\n"
          ],
          "name": "stdout"
        }
      ]
    },
    {
      "cell_type": "markdown",
      "metadata": {
        "id": "XmmTZ69QMp7i"
      },
      "source": [
        "# Tratamento de Erros e Exceções"
      ]
    },
    {
      "cell_type": "markdown",
      "metadata": {
        "id": "bvOIgxl5NUiP"
      },
      "source": [
        "Exemplo 1:"
      ]
    },
    {
      "cell_type": "code",
      "metadata": {
        "id": "G4YKz8efNW_P"
      },
      "source": [
        "def divisao (a,b):\n",
        "  return (a/b)"
      ],
      "execution_count": null,
      "outputs": []
    },
    {
      "cell_type": "code",
      "metadata": {
        "id": "iZx0jGEkNgXa",
        "colab": {
          "base_uri": "https://localhost:8080/",
          "height": 34
        },
        "outputId": "62051e3c-d996-46d1-9cd1-d7568dd91a7b"
      },
      "source": [
        "divisao (10,5)"
      ],
      "execution_count": null,
      "outputs": [
        {
          "output_type": "execute_result",
          "data": {
            "text/plain": [
              "2.0"
            ]
          },
          "metadata": {
            "tags": []
          },
          "execution_count": 27
        }
      ]
    },
    {
      "cell_type": "code",
      "metadata": {
        "id": "V0mlIZBlNkL_",
        "colab": {
          "base_uri": "https://localhost:8080/",
          "height": 236
        },
        "outputId": "e7de69da-fb3e-48d1-f871-7adbc35ccda1"
      },
      "source": [
        "divisao(10,0)"
      ],
      "execution_count": null,
      "outputs": [
        {
          "output_type": "error",
          "ename": "ZeroDivisionError",
          "evalue": "ignored",
          "traceback": [
            "\u001b[0;31m---------------------------------------------------------------------------\u001b[0m",
            "\u001b[0;31mZeroDivisionError\u001b[0m                         Traceback (most recent call last)",
            "\u001b[0;32m<ipython-input-28-e6d0b4df3020>\u001b[0m in \u001b[0;36m<module>\u001b[0;34m()\u001b[0m\n\u001b[0;32m----> 1\u001b[0;31m \u001b[0mdivisao\u001b[0m\u001b[0;34m(\u001b[0m\u001b[0;36m10\u001b[0m\u001b[0;34m,\u001b[0m\u001b[0;36m0\u001b[0m\u001b[0;34m)\u001b[0m\u001b[0;34m\u001b[0m\u001b[0;34m\u001b[0m\u001b[0m\n\u001b[0m",
            "\u001b[0;32m<ipython-input-26-527dc02da25d>\u001b[0m in \u001b[0;36mdivisao\u001b[0;34m(a, b)\u001b[0m\n\u001b[1;32m      1\u001b[0m \u001b[0;32mdef\u001b[0m \u001b[0mdivisao\u001b[0m \u001b[0;34m(\u001b[0m\u001b[0ma\u001b[0m\u001b[0;34m,\u001b[0m\u001b[0mb\u001b[0m\u001b[0;34m)\u001b[0m\u001b[0;34m:\u001b[0m\u001b[0;34m\u001b[0m\u001b[0;34m\u001b[0m\u001b[0m\n\u001b[0;32m----> 2\u001b[0;31m   \u001b[0;32mreturn\u001b[0m \u001b[0;34m(\u001b[0m\u001b[0ma\u001b[0m\u001b[0;34m/\u001b[0m\u001b[0mb\u001b[0m\u001b[0;34m)\u001b[0m\u001b[0;34m\u001b[0m\u001b[0;34m\u001b[0m\u001b[0m\n\u001b[0m",
            "\u001b[0;31mZeroDivisionError\u001b[0m: division by zero"
          ]
        }
      ]
    },
    {
      "cell_type": "code",
      "metadata": {
        "id": "65dAVT-YN_XJ",
        "colab": {
          "base_uri": "https://localhost:8080/",
          "height": 236
        },
        "outputId": "d5b54c74-59df-46a8-d919-970931a7fb5a"
      },
      "source": [
        "divisao (10, 'casa')"
      ],
      "execution_count": null,
      "outputs": [
        {
          "output_type": "error",
          "ename": "TypeError",
          "evalue": "ignored",
          "traceback": [
            "\u001b[0;31m---------------------------------------------------------------------------\u001b[0m",
            "\u001b[0;31mTypeError\u001b[0m                                 Traceback (most recent call last)",
            "\u001b[0;32m<ipython-input-29-cd5d68918c3e>\u001b[0m in \u001b[0;36m<module>\u001b[0;34m()\u001b[0m\n\u001b[0;32m----> 1\u001b[0;31m \u001b[0mdivisao\u001b[0m \u001b[0;34m(\u001b[0m\u001b[0;36m10\u001b[0m\u001b[0;34m,\u001b[0m \u001b[0;34m'casa'\u001b[0m\u001b[0;34m)\u001b[0m\u001b[0;34m\u001b[0m\u001b[0;34m\u001b[0m\u001b[0m\n\u001b[0m",
            "\u001b[0;32m<ipython-input-26-527dc02da25d>\u001b[0m in \u001b[0;36mdivisao\u001b[0;34m(a, b)\u001b[0m\n\u001b[1;32m      1\u001b[0m \u001b[0;32mdef\u001b[0m \u001b[0mdivisao\u001b[0m \u001b[0;34m(\u001b[0m\u001b[0ma\u001b[0m\u001b[0;34m,\u001b[0m\u001b[0mb\u001b[0m\u001b[0;34m)\u001b[0m\u001b[0;34m:\u001b[0m\u001b[0;34m\u001b[0m\u001b[0;34m\u001b[0m\u001b[0m\n\u001b[0;32m----> 2\u001b[0;31m   \u001b[0;32mreturn\u001b[0m \u001b[0;34m(\u001b[0m\u001b[0ma\u001b[0m\u001b[0;34m/\u001b[0m\u001b[0mb\u001b[0m\u001b[0;34m)\u001b[0m\u001b[0;34m\u001b[0m\u001b[0;34m\u001b[0m\u001b[0m\n\u001b[0m",
            "\u001b[0;31mTypeError\u001b[0m: unsupported operand type(s) for /: 'int' and 'str'"
          ]
        }
      ]
    },
    {
      "cell_type": "code",
      "metadata": {
        "id": "4pOBkDZrNmwo"
      },
      "source": [
        "def divisao (a,b):\n",
        "  try:\n",
        "    return (a/b)\n",
        "  except ZeroDivisionError:\n",
        "    print ('Divisao por zero.')\n",
        "  except TypeError:\n",
        "    print ('Tipo incorreto para a operação.')\n",
        "    None"
      ],
      "execution_count": null,
      "outputs": []
    },
    {
      "cell_type": "code",
      "metadata": {
        "id": "gEPbicaFOCqr",
        "colab": {
          "base_uri": "https://localhost:8080/",
          "height": 34
        },
        "outputId": "98fe0d24-cf64-4e64-ef9b-74a2359977b6"
      },
      "source": [
        "divisao (10,0)"
      ],
      "execution_count": null,
      "outputs": [
        {
          "output_type": "stream",
          "text": [
            "Divisao por zero.\n"
          ],
          "name": "stdout"
        }
      ]
    },
    {
      "cell_type": "code",
      "metadata": {
        "id": "L9cN28XkOEqE",
        "colab": {
          "base_uri": "https://localhost:8080/",
          "height": 34
        },
        "outputId": "e652cd74-451b-4f1d-b7de-4d3c21466df3"
      },
      "source": [
        "divisao (10,'casa')"
      ],
      "execution_count": null,
      "outputs": [
        {
          "output_type": "stream",
          "text": [
            "Tipo incorreto para a operação.\n"
          ],
          "name": "stdout"
        }
      ]
    },
    {
      "cell_type": "markdown",
      "metadata": {
        "id": "PFsry4M-OWjq"
      },
      "source": [
        "Exemplo 2:"
      ]
    },
    {
      "cell_type": "code",
      "metadata": {
        "id": "jlJjr5znOWKn"
      },
      "source": [
        "def divisao (a, b):\n",
        "  try:\n",
        "    resultado = a/b\n",
        "  except ZeroDivisionError:\n",
        "    print ('Divisao por zero não é permitida.')\n",
        "  else:\n",
        "    print ('O resultado é:', resultado)\n",
        "  finally:\n",
        "    print ('Término da execução.')"
      ],
      "execution_count": null,
      "outputs": []
    },
    {
      "cell_type": "code",
      "metadata": {
        "id": "ONUMpi13O1JE",
        "colab": {
          "base_uri": "https://localhost:8080/",
          "height": 52
        },
        "outputId": "2bac1589-fa77-447a-8bfb-e2bcc4e4422f"
      },
      "source": [
        "divisao (10,3)"
      ],
      "execution_count": null,
      "outputs": [
        {
          "output_type": "stream",
          "text": [
            "O resultado é: 3.3333333333333335\n",
            "Término da execução.\n"
          ],
          "name": "stdout"
        }
      ]
    },
    {
      "cell_type": "code",
      "metadata": {
        "id": "NQt5M6CmO3uB",
        "colab": {
          "base_uri": "https://localhost:8080/",
          "height": 52
        },
        "outputId": "fefbfcd6-4b88-40c7-92c9-8404aacb95ed"
      },
      "source": [
        "divisao (10, 0)"
      ],
      "execution_count": null,
      "outputs": [
        {
          "output_type": "stream",
          "text": [
            "Divisao por zero não é permitida.\n",
            "Término da execução.\n"
          ],
          "name": "stdout"
        }
      ]
    },
    {
      "cell_type": "markdown",
      "metadata": {
        "id": "avN2aA6WPIdH"
      },
      "source": [
        "#Expressões Regulares"
      ]
    },
    {
      "cell_type": "markdown",
      "metadata": {
        "id": "nt2XinHQPh_d"
      },
      "source": [
        "Exemplo 1:"
      ]
    },
    {
      "cell_type": "code",
      "metadata": {
        "id": "z-QdrUfqPhFc"
      },
      "source": [
        "import re"
      ],
      "execution_count": null,
      "outputs": []
    },
    {
      "cell_type": "code",
      "metadata": {
        "id": "YDkA9wHjPo-3",
        "colab": {
          "base_uri": "https://localhost:8080/",
          "height": 34
        },
        "outputId": "2a83a53e-df72-4faa-d702-e8e7c363af59"
      },
      "source": [
        "texto = \"tmelo@uea.edu.br\"\n",
        "\n",
        "regexp = \"(^[a-z0-9 ._-] + @[a-z0-9._-] + \\.[(com|br)]+)\"\n",
        "\n",
        "if re.match (regexp, texto) is None:\n",
        "  print (True)\n",
        "else:\n",
        "  print (\"False\")"
      ],
      "execution_count": null,
      "outputs": [
        {
          "output_type": "stream",
          "text": [
            "True\n"
          ],
          "name": "stdout"
        }
      ]
    }
  ]
}