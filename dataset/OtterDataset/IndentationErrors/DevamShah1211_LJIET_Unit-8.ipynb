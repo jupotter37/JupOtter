{
 "cells": [
  {
   "cell_type": "code",
   "execution_count": 5,
   "metadata": {},
   "outputs": [
    {
     "name": "stdout",
     "output_type": "stream",
     "text": [
      "0.5\n",
      "No exception\n",
      "This always prints\n"
     ]
    }
   ],
   "source": [
    "def div(a,b):\n",
    "    return a/b\n",
    "try:\n",
    "    print(div(5,10))\n",
    "except:\n",
    "    print(\"Exception Occured\")\n",
    "else:\n",
    "    print(\"No exception\")\n",
    "finally:\n",
    "    print(\"This always prints\")"
   ]
  },
  {
   "cell_type": "code",
   "execution_count": 10,
   "metadata": {},
   "outputs": [
    {
     "name": "stdout",
     "output_type": "stream",
     "text": [
      "File Not Found\n"
     ]
    }
   ],
   "source": [
    "try:\n",
    "    x=5\n",
    "    f=open(\"file.txt\",\"r\")\n",
    "    print(f.read())\n",
    "    print(a)\n",
    "    print(5/0)\n",
    "    l=[1,2,3]\n",
    "    l[100]\n",
    "except FileNotFoundError:\n",
    "    print(\"File Not Found\")\n",
    "except NameError:\n",
    "    print(\"Name Not Found\")\n",
    "except ZeroDivisionError:\n",
    "    print(\"Divison with Zero Not Possible\")\n",
    "except Exception as b:\n",
    "    print(b)"
   ]
  },
  {
   "cell_type": "code",
   "execution_count": 11,
   "metadata": {},
   "outputs": [
    {
     "name": "stdout",
     "output_type": "stream",
     "text": [
      "F1\n",
      "F2\n",
      "F3\n",
      "F4\n",
      "F5\n",
      "Name Not Found\n"
     ]
    }
   ],
   "source": [
    "try:\n",
    "    x=5\n",
    "    f=open(\"file2.txt\",\"r\")\n",
    "    print(f.read())\n",
    "    print(a)\n",
    "    print(5/0)\n",
    "    l=[1,2,3]\n",
    "    l[100]\n",
    "except FileNotFoundError:\n",
    "    print(\"File Not Found\")\n",
    "except NameError:\n",
    "    print(\"Name Not Found\")\n",
    "except ZeroDivisionError:\n",
    "    print(\"Divison with Zero Not Possible\")\n",
    "except Exception as b:\n",
    "    print(b)"
   ]
  },
  {
   "cell_type": "code",
   "execution_count": 12,
   "metadata": {},
   "outputs": [
    {
     "name": "stdout",
     "output_type": "stream",
     "text": [
      "F1\n",
      "F2\n",
      "F3\n",
      "F4\n",
      "F5\n",
      "5\n",
      "Divison with Zero Not Possible\n"
     ]
    }
   ],
   "source": [
    "try:\n",
    "    x=5\n",
    "    f=open(\"file2.txt\",\"r\")\n",
    "    print(f.read())\n",
    "    print(x)\n",
    "    print(5/0)\n",
    "    l=[1,2,3]\n",
    "    l[100]\n",
    "except FileNotFoundError:\n",
    "    print(\"File Not Found\")\n",
    "except NameError:\n",
    "    print(\"Name Not Found\")\n",
    "except ZeroDivisionError:\n",
    "    print(\"Divison with Zero Not Possible\")\n",
    "except Exception as b:\n",
    "    print(b)"
   ]
  },
  {
   "cell_type": "code",
   "execution_count": 13,
   "metadata": {},
   "outputs": [
    {
     "name": "stdout",
     "output_type": "stream",
     "text": [
      "F1\n",
      "F2\n",
      "F3\n",
      "F4\n",
      "F5\n",
      "5\n",
      "5.0\n",
      "list index out of range\n"
     ]
    }
   ],
   "source": [
    "try:\n",
    "    x=5\n",
    "    f=open(\"file2.txt\",\"r\")\n",
    "    print(f.read())\n",
    "    print(x)\n",
    "    print(5/1)\n",
    "    l=[1,2,3]\n",
    "    l[100]\n",
    "except FileNotFoundError:\n",
    "    print(\"File Not Found\")\n",
    "except NameError:\n",
    "    print(\"Name Not Found\")\n",
    "except ZeroDivisionError:\n",
    "    print(\"Divison with Zero Not Possible\")\n",
    "except Exception as b:\n",
    "    print(b)"
   ]
  },
  {
   "cell_type": "code",
   "execution_count": 18,
   "metadata": {},
   "outputs": [
    {
     "name": "stdout",
     "output_type": "stream",
     "text": [
      "division by zero\n",
      "The Rest Of The Code\n"
     ]
    }
   ],
   "source": [
    "a=10\n",
    "b=0\n",
    "try:\n",
    "    d=a/b\n",
    "    print(d)\n",
    "except(NameError,ZeroDivisionError) as obj:\n",
    "    print(obj)\n",
    "print(\"The Rest Of The Code\")"
   ]
  },
  {
   "cell_type": "code",
   "execution_count": 20,
   "metadata": {},
   "outputs": [
    {
     "ename": "IndentationError",
     "evalue": "unexpected indent (<ipython-input-20-28cb79d436cf>, line 2)",
     "output_type": "error",
     "traceback": [
      "\u001b[1;36m  File \u001b[1;32m\"<ipython-input-20-28cb79d436cf>\"\u001b[1;36m, line \u001b[1;32m2\u001b[0m\n\u001b[1;33m    b=0\u001b[0m\n\u001b[1;37m    ^\u001b[0m\n\u001b[1;31mIndentationError\u001b[0m\u001b[1;31m:\u001b[0m unexpected indent\n"
     ]
    }
   ],
   "source": [
    "a=10\n",
    "    b=0\n",
    "try:\n",
    "    d=a/b\n",
    "    print(d)\n",
    "except(NameError,ZeroDivisionError,IndentationError) as obj:\n",
    "    print(obj)\n",
    "print(\"The Rest Of The Code\")"
   ]
  },
  {
   "cell_type": "code",
   "execution_count": 24,
   "metadata": {},
   "outputs": [
    {
     "ename": "TypeError",
     "evalue": "a should be int",
     "output_type": "error",
     "traceback": [
      "\u001b[1;31m---------------------------------------------------------------------------\u001b[0m",
      "\u001b[1;31mTypeError\u001b[0m                                 Traceback (most recent call last)",
      "\u001b[1;32m<ipython-input-24-4c4e8ded88b5>\u001b[0m in \u001b[0;36m<module>\u001b[1;34m\u001b[0m\n\u001b[0;32m      5\u001b[0m         \u001b[1;32mraise\u001b[0m \u001b[0mTypeError\u001b[0m\u001b[1;33m(\u001b[0m\u001b[1;34m\"b should be int\"\u001b[0m\u001b[1;33m)\u001b[0m\u001b[1;33m\u001b[0m\u001b[1;33m\u001b[0m\u001b[0m\n\u001b[0;32m      6\u001b[0m     \u001b[1;32mreturn\u001b[0m \u001b[1;33m(\u001b[0m\u001b[0ma\u001b[0m\u001b[1;33m+\u001b[0m\u001b[0mb\u001b[0m\u001b[1;33m)\u001b[0m\u001b[1;33m\u001b[0m\u001b[1;33m\u001b[0m\u001b[0m\n\u001b[1;32m----> 7\u001b[1;33m \u001b[0madd\u001b[0m\u001b[1;33m(\u001b[0m\u001b[1;34m\"abd\"\u001b[0m\u001b[1;33m,\u001b[0m\u001b[1;34m\"def\"\u001b[0m\u001b[1;33m)\u001b[0m\u001b[1;33m\u001b[0m\u001b[1;33m\u001b[0m\u001b[0m\n\u001b[0m",
      "\u001b[1;32m<ipython-input-24-4c4e8ded88b5>\u001b[0m in \u001b[0;36madd\u001b[1;34m(a, b)\u001b[0m\n\u001b[0;32m      1\u001b[0m \u001b[1;32mdef\u001b[0m \u001b[0madd\u001b[0m\u001b[1;33m(\u001b[0m\u001b[0ma\u001b[0m\u001b[1;33m,\u001b[0m\u001b[0mb\u001b[0m\u001b[1;33m)\u001b[0m\u001b[1;33m:\u001b[0m\u001b[1;33m\u001b[0m\u001b[1;33m\u001b[0m\u001b[0m\n\u001b[0;32m      2\u001b[0m     \u001b[1;32mif\u001b[0m \u001b[0mtype\u001b[0m\u001b[1;33m(\u001b[0m\u001b[0ma\u001b[0m\u001b[1;33m)\u001b[0m\u001b[1;33m==\u001b[0m\u001b[0mstr\u001b[0m\u001b[1;33m:\u001b[0m\u001b[1;33m\u001b[0m\u001b[1;33m\u001b[0m\u001b[0m\n\u001b[1;32m----> 3\u001b[1;33m         \u001b[1;32mraise\u001b[0m \u001b[0mTypeError\u001b[0m\u001b[1;33m(\u001b[0m\u001b[1;34m\"a should be int\"\u001b[0m\u001b[1;33m)\u001b[0m\u001b[1;33m\u001b[0m\u001b[1;33m\u001b[0m\u001b[0m\n\u001b[0m\u001b[0;32m      4\u001b[0m     \u001b[1;32mif\u001b[0m \u001b[0mtype\u001b[0m\u001b[1;33m(\u001b[0m\u001b[0mb\u001b[0m\u001b[1;33m)\u001b[0m\u001b[1;33m==\u001b[0m\u001b[0mstr\u001b[0m\u001b[1;33m:\u001b[0m\u001b[1;33m\u001b[0m\u001b[1;33m\u001b[0m\u001b[0m\n\u001b[0;32m      5\u001b[0m         \u001b[1;32mraise\u001b[0m \u001b[0mTypeError\u001b[0m\u001b[1;33m(\u001b[0m\u001b[1;34m\"b should be int\"\u001b[0m\u001b[1;33m)\u001b[0m\u001b[1;33m\u001b[0m\u001b[1;33m\u001b[0m\u001b[0m\n",
      "\u001b[1;31mTypeError\u001b[0m: a should be int"
     ]
    }
   ],
   "source": [
    "def add(a,b):\n",
    "    if type(a)==str:\n",
    "        raise TypeError(\"a should be int\")\n",
    "    if type(b)==str:\n",
    "        raise TypeError(\"b should be int\")\n",
    "    return (a+b)\n",
    "add(\"abd\",\"def\")\n"
   ]
  },
  {
   "cell_type": "code",
   "execution_count": 26,
   "metadata": {},
   "outputs": [
    {
     "ename": "TypeError",
     "evalue": "b should be int",
     "output_type": "error",
     "traceback": [
      "\u001b[1;31m---------------------------------------------------------------------------\u001b[0m",
      "\u001b[1;31mTypeError\u001b[0m                                 Traceback (most recent call last)",
      "\u001b[1;32m<ipython-input-26-67d0b981d920>\u001b[0m in \u001b[0;36m<module>\u001b[1;34m\u001b[0m\n\u001b[0;32m      5\u001b[0m         \u001b[1;32mraise\u001b[0m \u001b[0mTypeError\u001b[0m\u001b[1;33m(\u001b[0m\u001b[1;34m\"b should be int\"\u001b[0m\u001b[1;33m)\u001b[0m\u001b[1;33m\u001b[0m\u001b[1;33m\u001b[0m\u001b[0m\n\u001b[0;32m      6\u001b[0m     \u001b[1;32mreturn\u001b[0m \u001b[1;33m(\u001b[0m\u001b[0ma\u001b[0m\u001b[1;33m+\u001b[0m\u001b[0mb\u001b[0m\u001b[1;33m)\u001b[0m\u001b[1;33m\u001b[0m\u001b[1;33m\u001b[0m\u001b[0m\n\u001b[1;32m----> 7\u001b[1;33m \u001b[0madd\u001b[0m\u001b[1;33m(\u001b[0m\u001b[1;36m10\u001b[0m\u001b[1;33m,\u001b[0m\u001b[1;34m\"def\"\u001b[0m\u001b[1;33m)\u001b[0m\u001b[1;33m\u001b[0m\u001b[1;33m\u001b[0m\u001b[0m\n\u001b[0m",
      "\u001b[1;32m<ipython-input-26-67d0b981d920>\u001b[0m in \u001b[0;36madd\u001b[1;34m(a, b)\u001b[0m\n\u001b[0;32m      3\u001b[0m         \u001b[1;32mraise\u001b[0m \u001b[0mTypeError\u001b[0m\u001b[1;33m(\u001b[0m\u001b[1;34m\"a should be int\"\u001b[0m\u001b[1;33m)\u001b[0m\u001b[1;33m\u001b[0m\u001b[1;33m\u001b[0m\u001b[0m\n\u001b[0;32m      4\u001b[0m     \u001b[1;32mif\u001b[0m \u001b[0mtype\u001b[0m\u001b[1;33m(\u001b[0m\u001b[0mb\u001b[0m\u001b[1;33m)\u001b[0m\u001b[1;33m==\u001b[0m\u001b[0mstr\u001b[0m\u001b[1;33m:\u001b[0m\u001b[1;33m\u001b[0m\u001b[1;33m\u001b[0m\u001b[0m\n\u001b[1;32m----> 5\u001b[1;33m         \u001b[1;32mraise\u001b[0m \u001b[0mTypeError\u001b[0m\u001b[1;33m(\u001b[0m\u001b[1;34m\"b should be int\"\u001b[0m\u001b[1;33m)\u001b[0m\u001b[1;33m\u001b[0m\u001b[1;33m\u001b[0m\u001b[0m\n\u001b[0m\u001b[0;32m      6\u001b[0m     \u001b[1;32mreturn\u001b[0m \u001b[1;33m(\u001b[0m\u001b[0ma\u001b[0m\u001b[1;33m+\u001b[0m\u001b[0mb\u001b[0m\u001b[1;33m)\u001b[0m\u001b[1;33m\u001b[0m\u001b[1;33m\u001b[0m\u001b[0m\n\u001b[0;32m      7\u001b[0m \u001b[0madd\u001b[0m\u001b[1;33m(\u001b[0m\u001b[1;36m10\u001b[0m\u001b[1;33m,\u001b[0m\u001b[1;34m\"def\"\u001b[0m\u001b[1;33m)\u001b[0m\u001b[1;33m\u001b[0m\u001b[1;33m\u001b[0m\u001b[0m\n",
      "\u001b[1;31mTypeError\u001b[0m: b should be int"
     ]
    }
   ],
   "source": [
    "def add(a,b):\n",
    "    if type(a)==str:\n",
    "        raise TypeError(\"a should be int\")\n",
    "    if type(b)==str:\n",
    "        raise TypeError(\"b should be int\")\n",
    "    return (a+b)\n",
    "add(10,\"def\")"
   ]
  },
  {
   "cell_type": "code",
   "execution_count": 27,
   "metadata": {},
   "outputs": [
    {
     "data": {
      "text/plain": [
       "30"
      ]
     },
     "execution_count": 27,
     "metadata": {},
     "output_type": "execute_result"
    }
   ],
   "source": [
    "def add(a,b):\n",
    "    if type(a)==str:\n",
    "        raise TypeError(\"a should be int\")\n",
    "    if type(b)==str:\n",
    "        raise TypeError(\"b should be int\")\n",
    "    return (a+b)\n",
    "add(10,20)"
   ]
  },
  {
   "cell_type": "code",
   "execution_count": 28,
   "metadata": {},
   "outputs": [],
   "source": [
    "class aagam(Exception):\n",
    "    def __init__(self,arg):\n",
    "        self.msg=arg"
   ]
  },
  {
   "cell_type": "code",
   "execution_count": 30,
   "metadata": {},
   "outputs": [],
   "source": [
    "def add(a,b):\n",
    "    if type(a)==str:\n",
    "        raise aagam(\"Personalize MSG \")\n",
    "    "
   ]
  },
  {
   "cell_type": "code",
   "execution_count": 51,
   "metadata": {},
   "outputs": [],
   "source": [
    "class checkbalancee(Exception):\n",
    "    def __init__(self,arg):\n",
    "        self.msg=arg"
   ]
  },
  {
   "cell_type": "code",
   "execution_count": 52,
   "metadata": {},
   "outputs": [
    {
     "name": "stdout",
     "output_type": "stream",
     "text": [
      "Enter Balance10000\n",
      "Enter Balance To Withdraw:9000\n",
      "Low Balance\n"
     ]
    }
   ],
   "source": [
    "\n",
    "def checkbalance():\n",
    "    a=int(input(\"Enter Balance\"))\n",
    "    b=int(input(\"Enter Balance To Withdraw:\"))\n",
    "    try:\n",
    "        l=a-b\n",
    "        if l<2000:\n",
    "            raise checkbalancee(\"Low Balance\")\n",
    "            print(l)\n",
    "    except Exception as e:\n",
    "        print(e)\n",
    "checkbalance()"
   ]
  },
  {
   "cell_type": "code",
   "execution_count": 45,
   "metadata": {},
   "outputs": [
    {
     "name": "stdout",
     "output_type": "stream",
     "text": [
      "Enter Balance: 10000\n",
      "Enter Balance To Withdraw: 9000\n",
      "Error: Low Balance. Your balance is less than the minimum required balance.\n"
     ]
    }
   ],
   "source": [
    "def check_balance(a, b):\n",
    "    l = a - b\n",
    "    if l < 0:\n",
    "        raise ValueError(\"Insufficient Balance\")\n",
    "    return l\n",
    "\n",
    "a = int(input(\"Enter Balance: \"))\n",
    "b = int(input(\"Enter Balance To Withdraw: \"))\n",
    "\n",
    "try:\n",
    "    nb = check_balance(a, b)\n",
    "    if nb < 2000:\n",
    "        raise ValueError(\"Low Balance. Your balance is less than the minimum required balance.\")\n",
    "    print(\"Transaction successful. New balance:\", nb)\n",
    "except ValueError as e:\n",
    "    print(\"Error:\", e)"
   ]
  },
  {
   "cell_type": "markdown",
   "metadata": {},
   "source": [
    "# OOP"
   ]
  },
  {
   "cell_type": "code",
   "execution_count": 53,
   "metadata": {},
   "outputs": [],
   "source": [
    "class classroom:\n",
    "    def __init__(self):\n",
    "        self.variable.name=value\n",
    "        self.variable.name=\"value\"\n",
    "        "
   ]
  },
  {
   "cell_type": "code",
   "execution_count": 63,
   "metadata": {},
   "outputs": [],
   "source": [
    "class Employee:\n",
    "    def __init__(self,name,age,salary):\n",
    "        self.name=name\n",
    "        self.age=age\n",
    "        self.salary=salary\n",
    "    def display(self):\n",
    "        print(\"Employee Name:\",self.name)\n",
    "        print(\"Employee Age:\",self.age)\n",
    "        print(\"Employee Salary:\",self.salary)\n",
    "        "
   ]
  },
  {
   "cell_type": "code",
   "execution_count": 65,
   "metadata": {},
   "outputs": [],
   "source": [
    "emp1=Employee(\"Aagam\",25,560000)\n",
    "emp2=Employee(\"Devam\",19,100000000)\n",
    "emp3=Employee(\"Kavya\",18,2002020)"
   ]
  },
  {
   "cell_type": "code",
   "execution_count": 66,
   "metadata": {},
   "outputs": [
    {
     "name": "stdout",
     "output_type": "stream",
     "text": [
      "Employee Name: Aagam\n",
      "Employee Age: 25\n",
      "Employee Salary: 560000\n"
     ]
    }
   ],
   "source": [
    "Employee.display(emp1)"
   ]
  },
  {
   "cell_type": "code",
   "execution_count": 67,
   "metadata": {},
   "outputs": [
    {
     "name": "stdout",
     "output_type": "stream",
     "text": [
      "Employee Name: Devam\n",
      "Employee Age: 19\n",
      "Employee Salary: 100000000\n"
     ]
    }
   ],
   "source": [
    "Employee.display(emp2)"
   ]
  },
  {
   "cell_type": "code",
   "execution_count": 68,
   "metadata": {},
   "outputs": [
    {
     "name": "stdout",
     "output_type": "stream",
     "text": [
      "Employee Name: Kavya\n",
      "Employee Age: 18\n",
      "Employee Salary: 2002020\n"
     ]
    }
   ],
   "source": [
    "Employee.display(emp3)"
   ]
  },
  {
   "cell_type": "code",
   "execution_count": 73,
   "metadata": {},
   "outputs": [
    {
     "name": "stdout",
     "output_type": "stream",
     "text": [
      "Enter Name:Devam\n",
      "Enter Age:19\n",
      "Enter Salary100292\n",
      "Employee Name: Devam\n",
      "Employee Age: 19\n",
      "Employee Salary: 100292\n"
     ]
    }
   ],
   "source": [
    "class Employee:\n",
    "    def __init__(self):\n",
    "        self.name=input(\"Enter Name:\")\n",
    "        self.age=int(input(\"Enter Age:\"))\n",
    "        self.salary=int(input(\"Enter Salary\"))\n",
    "    def display(self):\n",
    "        print(\"Employee Name:\",self.name)\n",
    "        print(\"Employee Age:\",self.age)\n",
    "        print(\"Employee Salary:\",self.salary)\n",
    "emp1=Employee()\n",
    "emp1.display()"
   ]
  },
  {
   "cell_type": "code",
   "execution_count": 1,
   "metadata": {},
   "outputs": [
    {
     "name": "stdout",
     "output_type": "stream",
     "text": [
      "Enter Name:Devam\n",
      "Enter PS marks:89\n",
      "Enter PS marks:90\n",
      "Enter PS marks:92\n",
      "Enter PS marks:85\n",
      "Student Name: Devam\n",
      "PS Marks: 89\n",
      "De Marks: 90\n",
      "FSD Marks: 92\n",
      "Python Marks: 85\n"
     ]
    }
   ],
   "source": [
    "class Student:\n",
    "    def __init__(self):\n",
    "        self.name=input(\"Enter Name:\")\n",
    "        self.ps=int(input(\"Enter PS marks:\"))\n",
    "        self.de=int(input(\"Enter De marks:\"))\n",
    "        self.fsd=int(input(\"Enter Fsd marks:\"))\n",
    "        self.python=int(input(\"Enter Python marks:\"))\n",
    "    def display(self):\n",
    "        print(\"Student Name:\",self.name)\n",
    "        print(\"PS Marks:\",self.ps)\n",
    "        print(\"De Marks:\",self.de)\n",
    "        print(\"FSD Marks:\",self.fsd)\n",
    "        print(\"Python Marks:\",self.python)\n",
    "emp1=Student()\n",
    "emp1.display()"
   ]
  },
  {
   "cell_type": "code",
   "execution_count": 3,
   "metadata": {},
   "outputs": [
    {
     "name": "stdout",
     "output_type": "stream",
     "text": [
      "This is parameterised Constructor\n",
      "Number of members: 10\n",
      "5\n",
      "10\n"
     ]
    }
   ],
   "source": [
    "class Family:\n",
    "    members=5\n",
    "    def __init__(self,count):\n",
    "        print(\"This is parameterised Constructor\")\n",
    "        self.members=count\n",
    "    def show(self):\n",
    "        print(\"Number of members:\",self.members)\n",
    "obj=Family(10)\n",
    "obj.show()\n",
    "print(Family.members)\n",
    "print(obj.members)"
   ]
  },
  {
   "cell_type": "code",
   "execution_count": 6,
   "metadata": {},
   "outputs": [
    {
     "name": "stdout",
     "output_type": "stream",
     "text": [
      "This is non-parameterised Constructor\n",
      "Enter No of members:10\n",
      "Number of members: 10\n",
      "5\n",
      "10\n"
     ]
    }
   ],
   "source": [
    "class family:\n",
    "    members=5\n",
    "    def __init__(self):\n",
    "        print(\"This is non-parameterised Constructor\")\n",
    "        self.members=int(input(\"Enter No of members:\"))\n",
    "    def show(self):\n",
    "        print(\"Number of members:\",self.members)\n",
    "obj=family()\n",
    "obj.show()\n",
    "print(family.members)\n",
    "print(obj.members)"
   ]
  },
  {
   "cell_type": "code",
   "execution_count": 9,
   "metadata": {},
   "outputs": [
    {
     "name": "stdout",
     "output_type": "stream",
     "text": [
      "Not Dont\n"
     ]
    }
   ],
   "source": [
    "class assignment:\n",
    "    check=\"Not Dont\"\n",
    "    def is_done(self):\n",
    "        print(self.check)\n",
    "obj=assignment()\n",
    "obj.is_done()"
   ]
  },
  {
   "cell_type": "code",
   "execution_count": 17,
   "metadata": {},
   "outputs": [
    {
     "name": "stdout",
     "output_type": "stream",
     "text": [
      "Object Distroyed\n",
      "Object Distroyed\n"
     ]
    },
    {
     "ename": "NameError",
     "evalue": "name 'emp1' is not defined",
     "output_type": "error",
     "traceback": [
      "\u001b[1;31m---------------------------------------------------------------------------\u001b[0m",
      "\u001b[1;31mNameError\u001b[0m                                 Traceback (most recent call last)",
      "\u001b[1;32m<ipython-input-17-304beda31c5e>\u001b[0m in \u001b[0;36m<module>\u001b[1;34m\u001b[0m\n\u001b[0;32m     15\u001b[0m \u001b[0memp2\u001b[0m\u001b[1;33m=\u001b[0m\u001b[0mdisplay\u001b[0m\u001b[1;33m(\u001b[0m\u001b[1;33m)\u001b[0m\u001b[1;33m\u001b[0m\u001b[1;33m\u001b[0m\u001b[0m\n\u001b[0;32m     16\u001b[0m \u001b[1;32mdel\u001b[0m \u001b[0memp1\u001b[0m\u001b[1;33m\u001b[0m\u001b[1;33m\u001b[0m\u001b[0m\n\u001b[1;32m---> 17\u001b[1;33m \u001b[0memp1\u001b[0m\u001b[1;33m.\u001b[0m\u001b[0mdisplay\u001b[0m\u001b[1;33m(\u001b[0m\u001b[1;33m)\u001b[0m\u001b[1;33m\u001b[0m\u001b[1;33m\u001b[0m\u001b[0m\n\u001b[0m",
      "\u001b[1;31mNameError\u001b[0m: name 'emp1' is not defined"
     ]
    }
   ],
   "source": [
    "class Employee:\n",
    "    def __init__(self,name,age,salary):\n",
    "        self.name=name\n",
    "        self.age=age\n",
    "        self.salary=salary\n",
    "    def display(self):\n",
    "        print(\"Employee Name:\",self.name)\n",
    "        print(\"Employee Age:\",self.age)\n",
    "        print(\"Employee Salary:\",self.salary)\n",
    "    def __del__(self):\n",
    "        print(\"Object Distroyed\")    \n",
    "emp1=Employee(\"ABC\",19,100000)\n",
    "emp2=Employee(\"Xyz\",18,100022)\n",
    "emp1=display()\n",
    "emp2=display()\n",
    "del emp1\n",
    "emp1.display()"
   ]
  },
  {
   "cell_type": "code",
   "execution_count": 18,
   "metadata": {},
   "outputs": [
    {
     "name": "stdout",
     "output_type": "stream",
     "text": [
      "Yes\n"
     ]
    }
   ],
   "source": [
    "class mobile():\n",
    "    fp=\"Yes\"\n",
    "    @classmethod\n",
    "    def show(cls):\n",
    "        print(cls.fp)\n",
    "realme=mobile()\n",
    "print(mobile.fp)"
   ]
  },
  {
   "cell_type": "code",
   "execution_count": 23,
   "metadata": {},
   "outputs": [
    {
     "name": "stdout",
     "output_type": "stream",
     "text": [
      "The Name of fruit is: orange\n",
      "The Name of fruit is: mango\n",
      "The Name of fruit is: mango\n",
      "Cherry\n"
     ]
    }
   ],
   "source": [
    "class fruit:\n",
    "    name=\"orange\"\n",
    "    @classmethod\n",
    "    def display(cls):\n",
    "        print(\"The Name of fruit is:\",cls.name)\n",
    "fruit.display()\n",
    "apple=fruit()\n",
    "fruit.name=\"mango\"\n",
    "apple.display()\n",
    "apple.name=\"Cherry\"\n",
    "apple.display()\n",
    "print(apple.name)"
   ]
  },
  {
   "cell_type": "code",
   "execution_count": 27,
   "metadata": {},
   "outputs": [
    {
     "name": "stdout",
     "output_type": "stream",
     "text": [
      "Class Method 1\n",
      "Class Method 1\n",
      "Instance Method\n"
     ]
    },
    {
     "ename": "TypeError",
     "evalue": "class_2() missing 1 required positional argument: 'self'",
     "output_type": "error",
     "traceback": [
      "\u001b[1;31m---------------------------------------------------------------------------\u001b[0m",
      "\u001b[1;31mTypeError\u001b[0m                                 Traceback (most recent call last)",
      "\u001b[1;32m<ipython-input-27-cb20e61f50e2>\u001b[0m in \u001b[0;36m<module>\u001b[1;34m\u001b[0m\n\u001b[0;32m      8\u001b[0m \u001b[0mmyclass\u001b[0m\u001b[1;33m(\u001b[0m\u001b[1;33m)\u001b[0m\u001b[1;33m.\u001b[0m\u001b[0mclass_1\u001b[0m\u001b[1;33m(\u001b[0m\u001b[1;33m)\u001b[0m\u001b[1;33m\u001b[0m\u001b[1;33m\u001b[0m\u001b[0m\n\u001b[0;32m      9\u001b[0m \u001b[0mmyclass\u001b[0m\u001b[1;33m(\u001b[0m\u001b[1;33m)\u001b[0m\u001b[1;33m.\u001b[0m\u001b[0mclass_2\u001b[0m\u001b[1;33m(\u001b[0m\u001b[1;33m)\u001b[0m\u001b[1;33m\u001b[0m\u001b[1;33m\u001b[0m\u001b[0m\n\u001b[1;32m---> 10\u001b[1;33m \u001b[0mmyclass\u001b[0m\u001b[1;33m.\u001b[0m\u001b[0mclass_2\u001b[0m\u001b[1;33m(\u001b[0m\u001b[1;33m)\u001b[0m\u001b[1;33m\u001b[0m\u001b[1;33m\u001b[0m\u001b[0m\n\u001b[0m",
      "\u001b[1;31mTypeError\u001b[0m: class_2() missing 1 required positional argument: 'self'"
     ]
    }
   ],
   "source": [
    "class myclass:\n",
    "    @classmethod\n",
    "    def class_1(cls):\n",
    "        print(\"Class Method 1\")\n",
    "    def class_2(self):\n",
    "        print(\"Instance Method\")\n",
    "myclass.class_1()\n",
    "myclass().class_1()\n",
    "myclass().class_2()\n",
    "myclass.class_2()"
   ]
  },
  {
   "cell_type": "code",
   "execution_count": 33,
   "metadata": {},
   "outputs": [
    {
     "name": "stdout",
     "output_type": "stream",
     "text": [
      "10\n",
      "5\n",
      "10\n"
     ]
    }
   ],
   "source": [
    "class Myclass:\n",
    "    a=5\n",
    "    def __init__(self,x):\n",
    "        self.x=x\n",
    "    def method1(self):\n",
    "        print(self.x)\n",
    "    @classmethod\n",
    "    def method2(cls):\n",
    "        print(cls.a)\n",
    "    @staticmethod\n",
    "    def method3(m,n):\n",
    "        print(m+n)\n",
    "f=Myclass(10)\n",
    "f.method1()\n",
    "f.method2()\n",
    "f.method3(4,6)"
   ]
  },
  {
   "cell_type": "code",
   "execution_count": 34,
   "metadata": {},
   "outputs": [
    {
     "name": "stdout",
     "output_type": "stream",
     "text": [
      "Address of self: 2318847761712\n",
      "Address of class object: 2318847761712\n",
      "10\n",
      "Address of self: 2318848681920\n",
      "Address of class object: 2318848681920\n",
      "20\n"
     ]
    }
   ],
   "source": [
    "class check:\n",
    "    def __init__(self,m):\n",
    "        print(\"Address of self:\",id(self))\n",
    "        self.m=m\n",
    "obj=check(10)\n",
    "print(\"Address of class object:\",id(obj))\n",
    "print(obj.m)\n",
    "obj1=check(20)\n",
    "print(\"Address of class object:\",id(obj1))\n",
    "print(obj1.m)"
   ]
  },
  {
   "cell_type": "code",
   "execution_count": 38,
   "metadata": {},
   "outputs": [
    {
     "name": "stdout",
     "output_type": "stream",
     "text": [
      "Self: 2318848792560\n",
      "80\n",
      "Object: 2318848792560\n"
     ]
    }
   ],
   "source": [
    "class text:\n",
    "    def __init__(self):\n",
    "        print(\"Self:\",id(self))\n",
    "        self.value=80\n",
    "        self.show()\n",
    "    def show(self):\n",
    "        print(self.value)\n",
    "a=text()\n",
    "print(\"Object:\",id(a))"
   ]
  },
  {
   "cell_type": "code",
   "execution_count": 39,
   "metadata": {},
   "outputs": [
    {
     "name": "stdout",
     "output_type": "stream",
     "text": [
      "Self: 2318848791072\n"
     ]
    },
    {
     "ename": "NameError",
     "evalue": "name 'show' is not defined",
     "output_type": "error",
     "traceback": [
      "\u001b[1;31m---------------------------------------------------------------------------\u001b[0m",
      "\u001b[1;31mNameError\u001b[0m                                 Traceback (most recent call last)",
      "\u001b[1;32m<ipython-input-39-dc8a7ca9af01>\u001b[0m in \u001b[0;36m<module>\u001b[1;34m\u001b[0m\n\u001b[0;32m      6\u001b[0m     \u001b[1;32mdef\u001b[0m \u001b[0mshow\u001b[0m\u001b[1;33m(\u001b[0m\u001b[0mself\u001b[0m\u001b[1;33m)\u001b[0m\u001b[1;33m:\u001b[0m\u001b[1;33m\u001b[0m\u001b[1;33m\u001b[0m\u001b[0m\n\u001b[0;32m      7\u001b[0m         \u001b[0mprint\u001b[0m\u001b[1;33m(\u001b[0m\u001b[0mself\u001b[0m\u001b[1;33m.\u001b[0m\u001b[0mvalue\u001b[0m\u001b[1;33m)\u001b[0m\u001b[1;33m\u001b[0m\u001b[1;33m\u001b[0m\u001b[0m\n\u001b[1;32m----> 8\u001b[1;33m \u001b[0ma\u001b[0m\u001b[1;33m=\u001b[0m\u001b[0mtext\u001b[0m\u001b[1;33m(\u001b[0m\u001b[1;33m)\u001b[0m\u001b[1;33m\u001b[0m\u001b[1;33m\u001b[0m\u001b[0m\n\u001b[0m\u001b[0;32m      9\u001b[0m \u001b[0mprint\u001b[0m\u001b[1;33m(\u001b[0m\u001b[1;34m\"Object:\"\u001b[0m\u001b[1;33m,\u001b[0m\u001b[0mid\u001b[0m\u001b[1;33m(\u001b[0m\u001b[0ma\u001b[0m\u001b[1;33m)\u001b[0m\u001b[1;33m)\u001b[0m\u001b[1;33m\u001b[0m\u001b[1;33m\u001b[0m\u001b[0m\n",
      "\u001b[1;32m<ipython-input-39-dc8a7ca9af01>\u001b[0m in \u001b[0;36m__init__\u001b[1;34m(self)\u001b[0m\n\u001b[0;32m      3\u001b[0m         \u001b[0mprint\u001b[0m\u001b[1;33m(\u001b[0m\u001b[1;34m\"Self:\"\u001b[0m\u001b[1;33m,\u001b[0m\u001b[0mid\u001b[0m\u001b[1;33m(\u001b[0m\u001b[0mself\u001b[0m\u001b[1;33m)\u001b[0m\u001b[1;33m)\u001b[0m\u001b[1;33m\u001b[0m\u001b[1;33m\u001b[0m\u001b[0m\n\u001b[0;32m      4\u001b[0m         \u001b[0mself\u001b[0m\u001b[1;33m.\u001b[0m\u001b[0mvalue\u001b[0m\u001b[1;33m=\u001b[0m\u001b[1;36m80\u001b[0m\u001b[1;33m\u001b[0m\u001b[1;33m\u001b[0m\u001b[0m\n\u001b[1;32m----> 5\u001b[1;33m         \u001b[0mshow\u001b[0m\u001b[1;33m(\u001b[0m\u001b[1;33m)\u001b[0m\u001b[1;33m\u001b[0m\u001b[1;33m\u001b[0m\u001b[0m\n\u001b[0m\u001b[0;32m      6\u001b[0m     \u001b[1;32mdef\u001b[0m \u001b[0mshow\u001b[0m\u001b[1;33m(\u001b[0m\u001b[0mself\u001b[0m\u001b[1;33m)\u001b[0m\u001b[1;33m:\u001b[0m\u001b[1;33m\u001b[0m\u001b[1;33m\u001b[0m\u001b[0m\n\u001b[0;32m      7\u001b[0m         \u001b[0mprint\u001b[0m\u001b[1;33m(\u001b[0m\u001b[0mself\u001b[0m\u001b[1;33m.\u001b[0m\u001b[0mvalue\u001b[0m\u001b[1;33m)\u001b[0m\u001b[1;33m\u001b[0m\u001b[1;33m\u001b[0m\u001b[0m\n",
      "\u001b[1;31mNameError\u001b[0m: name 'show' is not defined"
     ]
    }
   ],
   "source": [
    "class text:\n",
    "    def __init__(self):\n",
    "        print(\"Self:\",id(self))\n",
    "        self.value=80\n",
    "        show()\n",
    "    def show(self):\n",
    "        print(self.value)\n",
    "a=text()\n",
    "print(\"Object:\",id(a))"
   ]
  },
  {
   "cell_type": "code",
   "execution_count": 40,
   "metadata": {},
   "outputs": [
    {
     "name": "stdout",
     "output_type": "stream",
     "text": [
      "8 8 140722787133440 140722787133440\n",
      "10 8 140722787133504 140722787133440\n"
     ]
    }
   ],
   "source": [
    "class account:\n",
    "    rate=8\n",
    "    def method(self):\n",
    "        print(self.rate,account.rate,id(self.rate),id(account.rate))\n",
    "        self.rate=10\n",
    "        print(self.rate,account.rate,id(self.rate),id(account.rate))\n",
    "a1=account()\n",
    "a2=account()\n",
    "a1.method()"
   ]
  },
  {
   "cell_type": "code",
   "execution_count": 42,
   "metadata": {},
   "outputs": [
    {
     "name": "stdout",
     "output_type": "stream",
     "text": [
      "19 19\n",
      "19 19\n",
      "Age is same\n",
      "32 19\n",
      "19 32\n",
      "Age is different\n"
     ]
    }
   ],
   "source": [
    "class person:\n",
    "    def __init__(self):\n",
    "        self.name=\"harry\"\n",
    "        self.age=19\n",
    "    def update(self):\n",
    "        self.age=32\n",
    "    def compare(self,other):\n",
    "        print(self.age,other.age)\n",
    "        if self.age==other.age:\n",
    "            print(\"Age is same\")\n",
    "        else:\n",
    "            print(\"Age is different\")\n",
    "p1=person()\n",
    "p2=person()\n",
    "print(p1.age,p2.age)\n",
    "p1.compare(p2)\n",
    "p1.update()\n",
    "print(p1.age,p2.age)\n",
    "p2.compare(p1)"
   ]
  },
  {
   "cell_type": "code",
   "execution_count": 2,
   "metadata": {},
   "outputs": [
    {
     "name": "stdout",
     "output_type": "stream",
     "text": [
      "Enter Name Of Car:askda\n",
      "Enter Color of car:asdasd\n",
      "Enter Year of car:2020\n",
      "Object deleted\n",
      "Enter Name Of Car:asdasasd\n",
      "Enter Color of car:asdasadsasd\n",
      "Enter Year of car:2022\n",
      "Object deleted\n",
      "2020 2022\n",
      "Year is different\n",
      "Enter Year:2025\n",
      "2025 2022\n",
      "Year is different\n"
     ]
    }
   ],
   "source": [
    "#class car name color year\n",
    "class car:\n",
    "    def __init__(self):\n",
    "        self.name=input(\"Enter Name Of Car:\")\n",
    "        self.color=input(\"Enter Color of car:\")\n",
    "        self.year=int(input(\"Enter Year of car:\"))\n",
    "    def __del__(self):\n",
    "        print(\"Object deleted\")\n",
    "    def display(self):\n",
    "        print(\"Name of car:\",self.name,id(self.name))\n",
    "        print(\"Color of car:\",self.color,id(self.color))\n",
    "        print(\"Year of car:\",self.year,id(self.year))\n",
    "    def update(self):\n",
    "        self.year=int(input(\"Enter Year:\"))\n",
    "    def compare(self,other):\n",
    "        print(self.year,other.year)\n",
    "        if self.year==other.year:\n",
    "            print(\"Year is same\")\n",
    "        else:\n",
    "            print(\"Year is different\")\n",
    "c=car()\n",
    "c1=car()\n",
    "c.display()\n",
    "c.compare(c1)\n",
    "c.update()\n",
    "c.compare(c1)\n"
   ]
  },
  {
   "cell_type": "code",
   "execution_count": 9,
   "metadata": {},
   "outputs": [
    {
     "name": "stdout",
     "output_type": "stream",
     "text": [
      "The Book Name is : Tony Stark\n",
      "The Book Name is : God Of War\n"
     ]
    }
   ],
   "source": [
    "class library:\n",
    "    def __init__(self,id,name):\n",
    "        self.bookid=id\n",
    "        self.bookname=name\n",
    "    def setbookname(self,newbookname):\n",
    "        self.bookname=newbookname\n",
    "    def getbookname(self):\n",
    "        print(\"The Book Name is :\",self.bookname)\n",
    "book=library(101,\"Tony Stark\")\n",
    "book.getbookname()\n",
    "book.setbookname(\"God Of War\")\n",
    "book.getbookname()"
   ]
  },
  {
   "cell_type": "code",
   "execution_count": 26,
   "metadata": {},
   "outputs": [
    {
     "name": "stdout",
     "output_type": "stream",
     "text": [
      "<generator object simple at 0x000002AC7142A660>\n",
      "[0, 2, 4, 6, 8]\n"
     ]
    }
   ],
   "source": [
    "def simple():\n",
    "    for i in range(10):\n",
    "        if i%2==0:\n",
    "            yield i\n",
    "x=simple()\n",
    "print(x)\n",
    "print(list(x))"
   ]
  },
  {
   "cell_type": "code",
   "execution_count": 28,
   "metadata": {},
   "outputs": [
    {
     "ename": "TypeError",
     "evalue": "can only concatenate str (not \"int\") to str",
     "output_type": "error",
     "traceback": [
      "\u001b[1;31m---------------------------------------------------------------------------\u001b[0m",
      "\u001b[1;31mTypeError\u001b[0m                                 Traceback (most recent call last)",
      "\u001b[1;32m<ipython-input-28-55f1887fba90>\u001b[0m in \u001b[0;36m<module>\u001b[1;34m\u001b[0m\n\u001b[0;32m      5\u001b[0m             \u001b[0mc\u001b[0m\u001b[1;33m+=\u001b[0m\u001b[0mi\u001b[0m\u001b[1;33m\u001b[0m\u001b[1;33m\u001b[0m\u001b[0m\n\u001b[0;32m      6\u001b[0m     \u001b[1;32mreturn\u001b[0m \u001b[0mi\u001b[0m\u001b[1;33m\u001b[0m\u001b[1;33m\u001b[0m\u001b[0m\n\u001b[1;32m----> 7\u001b[1;33m \u001b[0mprint\u001b[0m\u001b[1;33m(\u001b[0m\u001b[0msimple\u001b[0m\u001b[1;33m(\u001b[0m\u001b[1;33m)\u001b[0m\u001b[1;33m)\u001b[0m\u001b[1;33m\u001b[0m\u001b[1;33m\u001b[0m\u001b[0m\n\u001b[0m",
      "\u001b[1;32m<ipython-input-28-55f1887fba90>\u001b[0m in \u001b[0;36msimple\u001b[1;34m()\u001b[0m\n\u001b[0;32m      3\u001b[0m     \u001b[1;32mfor\u001b[0m \u001b[0mi\u001b[0m \u001b[1;32min\u001b[0m \u001b[0mrange\u001b[0m\u001b[1;33m(\u001b[0m\u001b[1;36m10\u001b[0m\u001b[1;33m)\u001b[0m\u001b[1;33m:\u001b[0m\u001b[1;33m\u001b[0m\u001b[1;33m\u001b[0m\u001b[0m\n\u001b[0;32m      4\u001b[0m         \u001b[1;32mif\u001b[0m \u001b[0mi\u001b[0m\u001b[1;33m%\u001b[0m\u001b[1;36m2\u001b[0m\u001b[1;33m==\u001b[0m\u001b[1;36m0\u001b[0m\u001b[1;33m:\u001b[0m\u001b[1;33m\u001b[0m\u001b[1;33m\u001b[0m\u001b[0m\n\u001b[1;32m----> 5\u001b[1;33m             \u001b[0mc\u001b[0m\u001b[1;33m+=\u001b[0m\u001b[0mi\u001b[0m\u001b[1;33m\u001b[0m\u001b[1;33m\u001b[0m\u001b[0m\n\u001b[0m\u001b[0;32m      6\u001b[0m     \u001b[1;32mreturn\u001b[0m \u001b[0mi\u001b[0m\u001b[1;33m\u001b[0m\u001b[1;33m\u001b[0m\u001b[0m\n\u001b[0;32m      7\u001b[0m \u001b[0mprint\u001b[0m\u001b[1;33m(\u001b[0m\u001b[0msimple\u001b[0m\u001b[1;33m(\u001b[0m\u001b[1;33m)\u001b[0m\u001b[1;33m)\u001b[0m\u001b[1;33m\u001b[0m\u001b[1;33m\u001b[0m\u001b[0m\n",
      "\u001b[1;31mTypeError\u001b[0m: can only concatenate str (not \"int\") to str"
     ]
    }
   ],
   "source": [
    "def simple():\n",
    "    c=\"\"\n",
    "    for i in range(10):\n",
    "        if i%2==0:\n",
    "            c+=i\n",
    "    return i\n",
    "print(simple())"
   ]
  },
  {
   "cell_type": "code",
   "execution_count": 25,
   "metadata": {},
   "outputs": [
    {
     "name": "stdout",
     "output_type": "stream",
     "text": [
      "<generator object func at 0x000002AC709C9900>\n",
      "10\n",
      "20\n",
      "30\n",
      "40\n"
     ]
    }
   ],
   "source": [
    "def func():\n",
    "    yield 10\n",
    "    yield 20\n",
    "    yield 30\n",
    "    yield 40\n",
    "x=func()\n",
    "print(x)\n",
    "for i in func():\n",
    "    print(i)"
   ]
  },
  {
   "cell_type": "code",
   "execution_count": 29,
   "metadata": {},
   "outputs": [
    {
     "name": "stdout",
     "output_type": "stream",
     "text": [
      "10\n"
     ]
    },
    {
     "ename": "TypeError",
     "evalue": "'int' object is not iterable",
     "output_type": "error",
     "traceback": [
      "\u001b[1;31m---------------------------------------------------------------------------\u001b[0m",
      "\u001b[1;31mTypeError\u001b[0m                                 Traceback (most recent call last)",
      "\u001b[1;32m<ipython-input-29-f54a4dd02131>\u001b[0m in \u001b[0;36m<module>\u001b[1;34m\u001b[0m\n\u001b[0;32m      6\u001b[0m \u001b[0mx\u001b[0m\u001b[1;33m=\u001b[0m\u001b[0mfunc\u001b[0m\u001b[1;33m(\u001b[0m\u001b[1;33m)\u001b[0m\u001b[1;33m\u001b[0m\u001b[1;33m\u001b[0m\u001b[0m\n\u001b[0;32m      7\u001b[0m \u001b[0mprint\u001b[0m\u001b[1;33m(\u001b[0m\u001b[0mx\u001b[0m\u001b[1;33m)\u001b[0m\u001b[1;33m\u001b[0m\u001b[1;33m\u001b[0m\u001b[0m\n\u001b[1;32m----> 8\u001b[1;33m \u001b[1;32mfor\u001b[0m \u001b[0mi\u001b[0m \u001b[1;32min\u001b[0m \u001b[0mfunc\u001b[0m\u001b[1;33m(\u001b[0m\u001b[1;33m)\u001b[0m\u001b[1;33m:\u001b[0m\u001b[1;33m\u001b[0m\u001b[1;33m\u001b[0m\u001b[0m\n\u001b[0m\u001b[0;32m      9\u001b[0m     \u001b[0mprint\u001b[0m\u001b[1;33m(\u001b[0m\u001b[0mi\u001b[0m\u001b[1;33m)\u001b[0m\u001b[1;33m\u001b[0m\u001b[1;33m\u001b[0m\u001b[0m\n",
      "\u001b[1;31mTypeError\u001b[0m: 'int' object is not iterable"
     ]
    }
   ],
   "source": [
    "def func():\n",
    "    return 10\n",
    "    return 20\n",
    "    return 30\n",
    "    return 40\n",
    "x=func()\n",
    "print(x)\n",
    "for i in func():\n",
    "    print(i)"
   ]
  },
  {
   "cell_type": "code",
   "execution_count": 30,
   "metadata": {},
   "outputs": [
    {
     "name": "stdout",
     "output_type": "stream",
     "text": [
      "(10, 20, 30, 40)\n",
      "10\n",
      "20\n",
      "30\n",
      "40\n"
     ]
    }
   ],
   "source": [
    "def func():\n",
    "    return 10,20,30,40\n",
    "\n",
    "x=func()\n",
    "print(x)\n",
    "for i in func():\n",
    "    print(i)"
   ]
  },
  {
   "cell_type": "code",
   "execution_count": 33,
   "metadata": {},
   "outputs": [
    {
     "name": "stdout",
     "output_type": "stream",
     "text": [
      "<generator object city_generator at 0x000002AC7142AF90>\n",
      "India\n",
      "Pakistan\n",
      "USA\n",
      "UK\n"
     ]
    }
   ],
   "source": [
    "def city_generator():\n",
    "    yield \"India\"\n",
    "    yield \"Pakistan\"\n",
    "    yield \"USA\"\n",
    "    yield \"UK\" \n",
    "city=city_generator()\n",
    "print(city)\n",
    "print(next(city))\n",
    "for i in city:\n",
    "    print(i)"
   ]
  },
  {
   "cell_type": "code",
   "execution_count": 35,
   "metadata": {},
   "outputs": [
    {
     "name": "stdout",
     "output_type": "stream",
     "text": [
      "Enter number: 10\n",
      "Table of a: 10\n",
      "10\n",
      "20\n",
      "30\n",
      "40\n",
      "50\n",
      "60\n",
      "70\n",
      "80\n",
      "90\n",
      "100\n"
     ]
    }
   ],
   "source": [
    "#wap to print table of given number using generator\n",
    "def table(n):\n",
    "    for i in range(1, 11):\n",
    "        yield n * i\n",
    "\n",
    "a = int(input(\"Enter number: \"))\n",
    "x = table(a)\n",
    "\n",
    "print(\"Table of a:\",a)\n",
    "for i in x:\n",
    "    print(i)\n"
   ]
  },
  {
   "cell_type": "code",
   "execution_count": 37,
   "metadata": {},
   "outputs": [
    {
     "name": "stdout",
     "output_type": "stream",
     "text": [
      "[10, 20, 30, 40, 50, 60, 70, 80, 90, 100]\n"
     ]
    }
   ],
   "source": [
    "def table(n):\n",
    "    for i in range(1, 11):\n",
    "        yield n * i\n",
    "x=table(10)\n",
    "print(list(x))"
   ]
  },
  {
   "cell_type": "code",
   "execution_count": 59,
   "metadata": {},
   "outputs": [
    {
     "name": "stdout",
     "output_type": "stream",
     "text": [
      "Enter Rollnumber:1\n",
      "Enter Name:devam\n",
      "Enter Marks:10\n",
      "Enter Marks:20\n",
      "Enter Marks:30\n",
      "Enter Marks:40\n",
      "Enter Marks:50\n",
      "Name of student: devam\n",
      "Rollnumber of student: 1\n",
      "Branch of Student: CSE\n",
      "[10, 20, 30, 40, 50]\n",
      "Average marks: 30.0\n"
     ]
    }
   ],
   "source": [
    "#wap to create class student use branch as class variable take 2 parameter rollnumber and name of student \n",
    "#you need to create function for entering a mark of 5 subjects also you need to create a display method \n",
    "#which display name rollnumber and branch of student and when marks is entered then it will be displayed \n",
    "#you need to create a method to calculate avg marks of students and print the avg of students\n",
    "class student:\n",
    "    branch=\"CSE\"\n",
    "    def __init__(self):\n",
    "        self.rollno=int(input(\"Enter Rollnumber:\"))\n",
    "        self.name=input(\"Enter Name:\")\n",
    "        self.marks=[]\n",
    "    def enter_marks(self):\n",
    "        self.marks=[]\n",
    "        for i in range(5):\n",
    "            self.marks.append(int(input(\"Enter Marks:\")))\n",
    "    def display(self):\n",
    "        print(\"Name of student:\",self.name)\n",
    "        print(\"Rollnumber of student:\",self.rollno)\n",
    "        print(\"Branch of Student:\",self.branch)\n",
    "        if len(self.marks)>0:\n",
    "            print(self.marks)\n",
    "        else:\n",
    "            self.enter_marks()\n",
    "            \n",
    "    def calculate_avg(self):\n",
    "        \n",
    "        average=sum(self.marks)/len(self.marks)\n",
    "        print(\"Average marks:\",average)\n",
    "x=student()\n",
    "x.enter_marks()\n",
    "x.display()\n",
    "\n",
    "x.calculate_avg()"
   ]
  },
  {
   "cell_type": "code",
   "execution_count": 64,
   "metadata": {},
   "outputs": [
    {
     "ename": "IndentationError",
     "evalue": "unindent does not match any outer indentation level (<tokenize>, line 53)",
     "output_type": "error",
     "traceback": [
      "\u001b[1;36m  File \u001b[1;32m\"<tokenize>\"\u001b[1;36m, line \u001b[1;32m53\u001b[0m\n\u001b[1;33m    for pizza in pizzas:\u001b[0m\n\u001b[1;37m    ^\u001b[0m\n\u001b[1;31mIndentationError\u001b[0m\u001b[1;31m:\u001b[0m unindent does not match any outer indentation level\n"
     ]
    }
   ],
   "source": [
    "class pizza:\n",
    "    def calculate_pizza_price(size, toppings, cheese):\n",
    "        cost = 0\n",
    "        # Calculate pizza base price based on size\n",
    "        if size == 'small':\n",
    "            cost += 50\n",
    "        elif size == 'medium':\n",
    "            cost += 100\n",
    "        else:\n",
    "            cost += 200\n",
    "    \n",
    "        # Calculate topping prices\n",
    "        topping_prices_20 = ['corn', 'tomato', 'onion', 'capsicum']\n",
    "        topping_prices_50 = ['mushroom', 'olives', 'broccoli']\n",
    "     \n",
    "        for topping in toppings:\n",
    "             cost += 20 if topping in topping_prices_20 else 50\n",
    "        #Calculate cheese price\n",
    "        cost += 50 * len(cheese)\n",
    "        return cost\n",
    "\n",
    "    def order_pizza():\n",
    "        pizzas = []\n",
    "        number = int(input(\"How many pizzas you want to order: \"))\n",
    "        for i in range(number):\n",
    "            toppings = []\n",
    "            cheese = []\n",
    "        print('Customize Pizza', i + 1)\n",
    "        print('Select Pizza Size: small, medium or large')\n",
    "        size = input('Select size: ')\n",
    "        \n",
    "        print('''Select Toppings: \n",
    "                20 for 'corn', 'tomato', 'onion', 'capsicum'\n",
    "                50 for 'mushroom', 'olives', 'broccoli' ''')\n",
    "        toppings_count = int(input('How many toppings: '))\n",
    "    \n",
    "        for _ in range(toppings_count):\n",
    "             toppings.append(input('Enter toppings: '))\n",
    "        \n",
    "        print('Select Cheese: mozarrella, feta, cheddar')\n",
    "        cheese_count = int(input('How many cheese: '))\n",
    "\n",
    "        for _ in range(cheese_count):\n",
    "             cheese.append(input('Enter cheese: '))\n",
    "        print()\n",
    "        pizza_cost = calculate_pizza_price(size, toppings, cheese)\n",
    "        pizzas.append((size, toppings, cheese, pizza_cost))\n",
    "    return pizzas\n",
    "\n",
    "    def print_bill(pizzas):\n",
    "             total = 0\n",
    "             count = 1\n",
    "            for pizza in pizzas:\n",
    "                     print('Pizza', count)\n",
    "                     print(\"Size:\", pizza[0])\n",
    "                     print(\"Toppings:\", pizza[1])\n",
    "                     print(\"Cheese:\", pizza[2])\n",
    "                     print(\"Pizza cost:\", pizza[3])\n",
    "                     total += pizza[3]\n",
    "                     count += 1\n",
    "             print('Total bill amount:', total)\n",
    "# Main program\n",
    "pizza_order = order_pizza()\n",
    "print_bill(pizza_order)"
   ]
  },
  {
   "cell_type": "code",
   "execution_count": null,
   "metadata": {},
   "outputs": [],
   "source": [
    "#wap to create class string and make methods to count upper case lower case vovels consonents and spaces\n",
    "class count:\n",
    "    def __init__(self):\n",
    "        self.vowel=0\n",
    "        self.consonant=0\n",
    "        self.space=0\n",
    "        self.upper=0\n",
    "        self.lower=0\n",
    "        self.s=input(\"Enter String:\")\n",
    "    def upper(self):\n",
    "        for i in self.s:\n",
    "            if i.isupper():\n",
    "                self.upper+=1\n",
    "    def lower(self):\n",
    "        for i in self.s:\n",
    "            if i.islower():\n",
    "                self.lower+=1\n",
    "    def vowel(self):\n",
    "        for i in self.s:\n",
    "            if i==a,e,i,o,u:\n",
    "                self.vowel+=1\n",
    "    def consonant(self):\n",
    "        for i in self.s:\n",
    "            if i!=a,e,i,o,u:\n",
    "                self.consonant+=1\n",
    "    def space(self):\n",
    "        for i in self.s:\n",
    "            if i==\" \":\n",
    "                self.space+=1\n",
    "x=count\n",
    "x.upper()"
   ]
  },
  {
   "cell_type": "code",
   "execution_count": null,
   "metadata": {},
   "outputs": [],
   "source": []
  },
  {
   "cell_type": "code",
   "execution_count": null,
   "metadata": {},
   "outputs": [],
   "source": []
  }
 ],
 "metadata": {
  "kernelspec": {
   "display_name": "Python 3",
   "language": "python",
   "name": "python3"
  },
  "language_info": {
   "codemirror_mode": {
    "name": "ipython",
    "version": 3
   },
   "file_extension": ".py",
   "mimetype": "text/x-python",
   "name": "python",
   "nbconvert_exporter": "python",
   "pygments_lexer": "ipython3",
   "version": "3.8.5"
  }
 },
 "nbformat": 4,
 "nbformat_minor": 4
}
