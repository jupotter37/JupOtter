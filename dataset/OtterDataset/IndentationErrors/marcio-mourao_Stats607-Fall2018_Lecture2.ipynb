{
 "cells": [
  {
   "cell_type": "markdown",
   "metadata": {
    "nbpresent": {
     "id": "f77e2465-07f3-4ad0-ab0b-970cc19da161"
    }
   },
   "source": [
    "# <center> STATS 607 - LECTURE 2 \n",
    "## <center> 09/10/2018"
   ]
  },
  {
   "cell_type": "markdown",
   "metadata": {},
   "source": [
    "# <center> The 'IF' Statement"
   ]
  },
  {
   "cell_type": "markdown",
   "metadata": {},
   "source": [
    "This is the most basic control flow execution statement. It is used for conditional execution."
   ]
  },
  {
   "cell_type": "code",
   "execution_count": null,
   "metadata": {
    "scrolled": true
   },
   "outputs": [],
   "source": [
    "if_stmt ::=  \"if\" expression \":\" suite\n",
    "              (\"elif\" expression \":\" suite)*\n",
    "              [\"else\" \":\" suite]"
   ]
  },
  {
   "cell_type": "code",
   "execution_count": 12,
   "metadata": {},
   "outputs": [
    {
     "name": "stdout",
     "output_type": "stream",
     "text": [
      "0\n"
     ]
    }
   ],
   "source": [
    "a=2\n",
    "b=4\n",
    "c=2\n",
    "discr = b*b - 4*a*c\n",
    "print(discr)"
   ]
  },
  {
   "cell_type": "markdown",
   "metadata": {},
   "source": [
    "Notice that the block needs to be idented."
   ]
  },
  {
   "cell_type": "code",
   "execution_count": 13,
   "metadata": {},
   "outputs": [],
   "source": [
    "if discr < 0:\n",
    "    print('Warning: discriminant is negative, roots are imaginary')"
   ]
  },
  {
   "cell_type": "code",
   "execution_count": 14,
   "metadata": {},
   "outputs": [
    {
     "name": "stdout",
     "output_type": "stream",
     "text": [
      "Roots are real, but may be repeated\n"
     ]
    }
   ],
   "source": [
    "if discr < 0:\n",
    "    print('Warning: discriminant is negative, roots are imaginary')\n",
    "else:\n",
    "    print('Roots are real, but may be repeated')"
   ]
  },
  {
   "cell_type": "code",
   "execution_count": 15,
   "metadata": {},
   "outputs": [
    {
     "name": "stdout",
     "output_type": "stream",
     "text": [
      "Discriminant is zero, roots are repeated\n"
     ]
    }
   ],
   "source": [
    "if discr < 0:\n",
    "    print('Warning: discriminant is negative, roots are imaginary')\n",
    "elif discr == 0:\n",
    "    print('Discriminant is zero, roots are repeated')\n",
    "else:\n",
    "    print('Roots are real')"
   ]
  },
  {
   "cell_type": "markdown",
   "metadata": {},
   "source": [
    "Notice that in Python, a zero integer value, an empty string and an empty list are all false conditions."
   ]
  },
  {
   "cell_type": "code",
   "execution_count": 16,
   "metadata": {},
   "outputs": [
    {
     "name": "stdout",
     "output_type": "stream",
     "text": [
      "This condition is false\n"
     ]
    }
   ],
   "source": [
    "x = 0\n",
    "y = ''\n",
    "z = []\n",
    "\n",
    "if x or y or z:\n",
    "    print('This condition is true')\n",
    "else:\n",
    "    print('This condition is false')"
   ]
  },
  {
   "cell_type": "markdown",
   "metadata": {},
   "source": [
    "Please avoid deep nesting."
   ]
  },
  {
   "cell_type": "code",
   "execution_count": null,
   "metadata": {},
   "outputs": [],
   "source": [
    "if (logical_condition1):\n",
    "        if (logical_condition2):\n",
    "            if (logical_condition3):\n",
    "                if (logical_condition4): \n",
    "                    return True \n",
    "                else:\n",
    "                    return False\n",
    "            else:\n",
    "                return False\n",
    "        else:\n",
    "            return False\n",
    "    else:\n",
    "        return False"
   ]
  },
  {
   "cell_type": "markdown",
   "metadata": {},
   "source": [
    "You can rewrite your code above this way."
   ]
  },
  {
   "cell_type": "code",
   "execution_count": null,
   "metadata": {},
   "outputs": [],
   "source": [
    "if (logical_condition1 and logical_condition2 and logical_condition3 and logical_condition4):\n",
    "        return True\n",
    "    else:\n",
    "        return False"
   ]
  },
  {
   "cell_type": "markdown",
   "metadata": {},
   "source": [
    "# <center> The 'WHILE' Statement"
   ]
  },
  {
   "cell_type": "markdown",
   "metadata": {},
   "source": [
    "This statement is used for repeated execution as long as an expression is true."
   ]
  },
  {
   "cell_type": "code",
   "execution_count": null,
   "metadata": {},
   "outputs": [],
   "source": [
    "while_stmt ::=  \"while\" expression \":\" suite\n",
    "                [\"else\" \":\" suite]"
   ]
  },
  {
   "cell_type": "code",
   "execution_count": 17,
   "metadata": {},
   "outputs": [
    {
     "name": "stdout",
     "output_type": "stream",
     "text": [
      "3\n",
      "9\n",
      "27\n"
     ]
    }
   ],
   "source": [
    "x = 1\n",
    "while x <= 10: # Executes the body until x surpasses the value of 10.\n",
    "    x = 3*x\n",
    "    print(x)"
   ]
  },
  {
   "cell_type": "code",
   "execution_count": 18,
   "metadata": {},
   "outputs": [
    {
     "name": "stdout",
     "output_type": "stream",
     "text": [
      "1,1,2,3,5,8,13,21,34,55,89,144,233,377,610,987,"
     ]
    }
   ],
   "source": [
    "a, b = 0, 1 # This is an example of a multiple assignment.\n",
    "while b < 1000:\n",
    "    print(b, end=',') # The second argument of the print function specifies the separation between the printed numbers.\n",
    "    a, b = b, a+b"
   ]
  },
  {
   "cell_type": "markdown",
   "metadata": {},
   "source": [
    "# <center> The 'FOR' Statement"
   ]
  },
  {
   "cell_type": "markdown",
   "metadata": {},
   "source": [
    "The for statement is used to iterate over the elements of a sequence (such as a string, list) or other iterable object."
   ]
  },
  {
   "cell_type": "code",
   "execution_count": null,
   "metadata": {},
   "outputs": [],
   "source": [
    "for_stmt ::=  \"for\" target_list \"in\" expression_list \":\" suite\n",
    "              [\"else\" \":\" suite]"
   ]
  },
  {
   "cell_type": "code",
   "execution_count": 19,
   "metadata": {},
   "outputs": [
    {
     "name": "stdout",
     "output_type": "stream",
     "text": [
      "s,t,a,t,s, ,6,0,7, ,c,l,a,s,s,"
     ]
    }
   ],
   "source": [
    "for i in 'stats 607 class':\n",
    "    print(i, end=',')"
   ]
  },
  {
   "cell_type": "code",
   "execution_count": 20,
   "metadata": {},
   "outputs": [
    {
     "name": "stdout",
     "output_type": "stream",
     "text": [
      "2,4,6,8,10,12,14,16,18,"
     ]
    }
   ],
   "source": [
    "for i in range(2,20,2):\n",
    "    print(i, end=',')"
   ]
  },
  {
   "cell_type": "markdown",
   "metadata": {},
   "source": [
    "# <center> The 'Break' Statement"
   ]
  },
  {
   "cell_type": "markdown",
   "metadata": {},
   "source": [
    "A break statement executed in the first suite terminates the loop without executing the else clause’s suite."
   ]
  },
  {
   "cell_type": "code",
   "execution_count": 21,
   "metadata": {},
   "outputs": [
    {
     "name": "stdout",
     "output_type": "stream",
     "text": [
      "6 is not a prime number\n",
      "3 times 2 is 6\n"
     ]
    }
   ],
   "source": [
    "num = 6\n",
    "\n",
    "if num > 1:\n",
    "    for i in range(2,num):\n",
    "        if (num % i) == 0:\n",
    "            print(num, \"is not a prime number\")\n",
    "            print(num//i, \"times\", i, \"is\", num)\n",
    "            break # The cycle terminates.\n",
    "    else: \n",
    "        print(num, \"is a prime number\")\n",
    "else:\n",
    "    print(num, \"is not a prime number\")"
   ]
  },
  {
   "cell_type": "markdown",
   "metadata": {},
   "source": [
    "# <center> The 'Continue and 'Pass' Statements"
   ]
  },
  {
   "cell_type": "markdown",
   "metadata": {},
   "source": [
    "A continue statement executed in the first suite skips the rest of the suite and continues with the next item, or with the else clause if there is no next item."
   ]
  },
  {
   "cell_type": "code",
   "execution_count": 27,
   "metadata": {},
   "outputs": [
    {
     "ename": "IndentationError",
     "evalue": "expected an indented block (<ipython-input-27-454e4ceb19b0>, line 5)",
     "output_type": "error",
     "traceback": [
      "\u001b[0;36m  File \u001b[0;32m\"<ipython-input-27-454e4ceb19b0>\"\u001b[0;36m, line \u001b[0;32m5\u001b[0m\n\u001b[0;31m    print(name)\u001b[0m\n\u001b[0m        ^\u001b[0m\n\u001b[0;31mIndentationError\u001b[0m\u001b[0;31m:\u001b[0m expected an indented block\n"
     ]
    }
   ],
   "source": [
    "names = ['Sue','joe','Marta']\n",
    "for name in names:\n",
    "    if name[0].islower():        \n",
    "        \n",
    "    print(name)"
   ]
  },
  {
   "cell_type": "code",
   "execution_count": 28,
   "metadata": {},
   "outputs": [
    {
     "name": "stdout",
     "output_type": "stream",
     "text": [
      "Sue\n",
      "Marta\n"
     ]
    }
   ],
   "source": [
    "names = ['Sue','joe','Marta']\n",
    "for name in names:\n",
    "    if name[0].islower():        \n",
    "        continue # The consequence of this statement is to not execute the following 'print' statement.\n",
    "    print(name)"
   ]
  },
  {
   "cell_type": "markdown",
   "metadata": {},
   "source": [
    "The pass statement does not do anything, but you can use it to remind yourself of a piece of code you would like to include later"
   ]
  },
  {
   "cell_type": "code",
   "execution_count": 29,
   "metadata": {},
   "outputs": [
    {
     "name": "stdout",
     "output_type": "stream",
     "text": [
      "Sue\n",
      "joe\n",
      "Marta\n"
     ]
    }
   ],
   "source": [
    "names = ['Sue','joe','Marta']\n",
    "for name in names:\n",
    "    if name[0].islower():\n",
    "        pass # Remember to do something with this later.\n",
    "    print(name)"
   ]
  },
  {
   "cell_type": "markdown",
   "metadata": {},
   "source": [
    "# <center> Function Definitions"
   ]
  },
  {
   "cell_type": "markdown",
   "metadata": {},
   "source": [
    "We use the keyword def in Python to define functions. The string right in the next line after 'def' has a special status. It is called a docstring of the function. Various tools for automatically preparing documentation from source code will use the docstring - make a habit of always supplying one! Also, docstrings are typically triple-quoted even if it fits one line to allow for later expansion."
   ]
  },
  {
   "cell_type": "code",
   "execution_count": 30,
   "metadata": {},
   "outputs": [],
   "source": [
    "def get_strings(lst):\n",
    "    \"\"\"Returns from lst the elements whose type is 'str'.\"\"\"\n",
    "    out = []\n",
    "    for i in lst:\n",
    "        if type(i) is str:\n",
    "            out.append(i) # Adds i to the list.\n",
    "    return out            "
   ]
  },
  {
   "cell_type": "code",
   "execution_count": 31,
   "metadata": {},
   "outputs": [
    {
     "name": "stdout",
     "output_type": "stream",
     "text": [
      "<function get_strings at 0x106822d90>\n"
     ]
    }
   ],
   "source": [
    "print(get_strings) # Prints the function object."
   ]
  },
  {
   "cell_type": "code",
   "execution_count": 32,
   "metadata": {},
   "outputs": [
    {
     "name": "stdout",
     "output_type": "stream",
     "text": [
      "Returns from lst the elements whose type is 'str'.\n"
     ]
    }
   ],
   "source": [
    "print(get_strings.__doc__) # Prints the docstring of the function."
   ]
  },
  {
   "cell_type": "code",
   "execution_count": 33,
   "metadata": {},
   "outputs": [
    {
     "name": "stdout",
     "output_type": "stream",
     "text": [
      "['one', 'two']\n"
     ]
    }
   ],
   "source": [
    "strings = get_strings([1,2.0,'one',10,'two']) # Obtain the 'str' elements from the list.\n",
    "print(strings)"
   ]
  },
  {
   "cell_type": "markdown",
   "metadata": {},
   "source": [
    "Now lets generalize the type of the elements filtered by the function."
   ]
  },
  {
   "cell_type": "code",
   "execution_count": 34,
   "metadata": {},
   "outputs": [],
   "source": [
    "def get_type_elements(lst, retType):\n",
    "    \"\"\"Returns from lst the elements whose type is 'retType'.\"\"\"\n",
    "    out = []\n",
    "    for i in lst:\n",
    "        if type(i) is retType:\n",
    "            out.append(i) # Appends i to the list to be returned\n",
    "    return out"
   ]
  },
  {
   "cell_type": "code",
   "execution_count": 35,
   "metadata": {},
   "outputs": [
    {
     "ename": "TypeError",
     "evalue": "get_type_elements() missing 1 required positional argument: 'retType'",
     "output_type": "error",
     "traceback": [
      "\u001b[0;31m---------------------------------------------------------------------------\u001b[0m",
      "\u001b[0;31mTypeError\u001b[0m                                 Traceback (most recent call last)",
      "\u001b[0;32m<ipython-input-35-837a1c4e5af7>\u001b[0m in \u001b[0;36m<module>\u001b[0;34m()\u001b[0m\n\u001b[0;32m----> 1\u001b[0;31m \u001b[0mget_type_elements\u001b[0m\u001b[0;34m(\u001b[0m\u001b[0;34m[\u001b[0m\u001b[0;36m1\u001b[0m\u001b[0;34m,\u001b[0m\u001b[0;36m2.0\u001b[0m\u001b[0;34m,\u001b[0m\u001b[0;34m'one'\u001b[0m\u001b[0;34m,\u001b[0m\u001b[0;36m10\u001b[0m\u001b[0;34m,\u001b[0m\u001b[0;34m'two'\u001b[0m\u001b[0;34m]\u001b[0m\u001b[0;34m)\u001b[0m\u001b[0;34m\u001b[0m\u001b[0m\n\u001b[0m",
      "\u001b[0;31mTypeError\u001b[0m: get_type_elements() missing 1 required positional argument: 'retType'"
     ]
    }
   ],
   "source": [
    "get_type_elements([1,2.0,'one',10,'two'])"
   ]
  },
  {
   "cell_type": "code",
   "execution_count": 36,
   "metadata": {},
   "outputs": [
    {
     "data": {
      "text/plain": [
       "[1, 10]"
      ]
     },
     "execution_count": 36,
     "metadata": {},
     "output_type": "execute_result"
    }
   ],
   "source": [
    "get_type_elements([1,2.0,'one',10,'two'], int)"
   ]
  },
  {
   "cell_type": "markdown",
   "metadata": {},
   "source": [
    "Now lets assume that most of the times you'll be calling this function to return strings from the list. You can create a default parameter value in the function."
   ]
  },
  {
   "cell_type": "code",
   "execution_count": 37,
   "metadata": {},
   "outputs": [],
   "source": [
    "def get_type_elements(lst, retType=str):\n",
    "    \"\"\"Returns from lst the elements whose type is 'retType'.\"\"\"\n",
    "    out = []\n",
    "    for i in lst:\n",
    "        if type(i) is retType:\n",
    "            out.append(i)\n",
    "    return out"
   ]
  },
  {
   "cell_type": "code",
   "execution_count": 38,
   "metadata": {},
   "outputs": [
    {
     "data": {
      "text/plain": [
       "['one', 'two']"
      ]
     },
     "execution_count": 38,
     "metadata": {},
     "output_type": "execute_result"
    }
   ],
   "source": [
    "get_type_elements([1,2.0,'one',10,'two']) # Calls the function with one positional argument."
   ]
  },
  {
   "cell_type": "code",
   "execution_count": 39,
   "metadata": {},
   "outputs": [
    {
     "data": {
      "text/plain": [
       "[1, 10]"
      ]
     },
     "execution_count": 39,
     "metadata": {},
     "output_type": "execute_result"
    }
   ],
   "source": [
    "get_type_elements([1,2.0,'one',10,'two'], int) # Calls the function with two positional arguments."
   ]
  },
  {
   "cell_type": "code",
   "execution_count": 40,
   "metadata": {},
   "outputs": [
    {
     "data": {
      "text/plain": [
       "['one', 'two']"
      ]
     },
     "execution_count": 40,
     "metadata": {},
     "output_type": "execute_result"
    }
   ],
   "source": [
    "get_type_elements(lst=[1,2.0,'one',10,'two'], retType=str) # Calls the function with keyword arguments."
   ]
  },
  {
   "cell_type": "code",
   "execution_count": 41,
   "metadata": {},
   "outputs": [
    {
     "data": {
      "text/plain": [
       "['one', 'two']"
      ]
     },
     "execution_count": 41,
     "metadata": {},
     "output_type": "execute_result"
    }
   ],
   "source": [
    "get_type_elements(retType=str, lst=[1,2.0,'one',10,'two']) # If using only keyword arguments, the order does not matter."
   ]
  },
  {
   "cell_type": "code",
   "execution_count": 42,
   "metadata": {},
   "outputs": [
    {
     "data": {
      "text/plain": [
       "[2.0]"
      ]
     },
     "execution_count": 42,
     "metadata": {},
     "output_type": "execute_result"
    }
   ],
   "source": [
    "get_type_elements([1,2.0,'one',10,'two'], retType=float) # You can combine positional and keyword arguments."
   ]
  },
  {
   "cell_type": "code",
   "execution_count": 43,
   "metadata": {},
   "outputs": [
    {
     "ename": "SyntaxError",
     "evalue": "positional argument follows keyword argument (<ipython-input-43-dd5c6bbff11e>, line 1)",
     "output_type": "error",
     "traceback": [
      "\u001b[0;36m  File \u001b[0;32m\"<ipython-input-43-dd5c6bbff11e>\"\u001b[0;36m, line \u001b[0;32m1\u001b[0m\n\u001b[0;31m    get_type_elements(lst=[1,2.0,'one',10,'two'], float) # The positional arguments must precede keyword arguments.\u001b[0m\n\u001b[0m                                                 ^\u001b[0m\n\u001b[0;31mSyntaxError\u001b[0m\u001b[0;31m:\u001b[0m positional argument follows keyword argument\n"
     ]
    }
   ],
   "source": [
    "get_type_elements(lst=[1,2.0,'one',10,'two'], float) # The positional arguments must precede keyword arguments."
   ]
  },
  {
   "cell_type": "markdown",
   "metadata": {},
   "source": [
    "You can also force the use of keyword arguments. In Python, you can do this using '*' or '*identifier'."
   ]
  },
  {
   "cell_type": "code",
   "execution_count": 77,
   "metadata": {},
   "outputs": [],
   "source": [
    "def get_type_elements(*, lst, retType=str):\n",
    "    \"\"\"Returns from lst the elements whose type is 'retType'.\"\"\"\n",
    "    out = []\n",
    "    for i in lst:\n",
    "        if type(i) is retType:\n",
    "            out.append(i)\n",
    "    return out"
   ]
  },
  {
   "cell_type": "code",
   "execution_count": 78,
   "metadata": {},
   "outputs": [
    {
     "ename": "TypeError",
     "evalue": "get_type_elements() takes 0 positional arguments but 2 were given",
     "output_type": "error",
     "traceback": [
      "\u001b[0;31m---------------------------------------------------------------------------\u001b[0m",
      "\u001b[0;31mTypeError\u001b[0m                                 Traceback (most recent call last)",
      "\u001b[0;32m<ipython-input-78-7d8aa918aa03>\u001b[0m in \u001b[0;36m<module>\u001b[0;34m()\u001b[0m\n\u001b[0;32m----> 1\u001b[0;31m \u001b[0mget_type_elements\u001b[0m\u001b[0;34m(\u001b[0m\u001b[0;34m[\u001b[0m\u001b[0;36m1\u001b[0m\u001b[0;34m,\u001b[0m\u001b[0;36m2.0\u001b[0m\u001b[0;34m,\u001b[0m\u001b[0;34m'one'\u001b[0m\u001b[0;34m,\u001b[0m\u001b[0;36m10\u001b[0m\u001b[0;34m,\u001b[0m\u001b[0;34m'two'\u001b[0m\u001b[0;34m]\u001b[0m\u001b[0;34m,\u001b[0m \u001b[0mfloat\u001b[0m\u001b[0;34m)\u001b[0m \u001b[0;31m# There is only one positional argument.\u001b[0m\u001b[0;34m\u001b[0m\u001b[0m\n\u001b[0m",
      "\u001b[0;31mTypeError\u001b[0m: get_type_elements() takes 0 positional arguments but 2 were given"
     ]
    }
   ],
   "source": [
    "get_type_elements([1,2.0,'one',10,'two'], float) # There is only one positional argument."
   ]
  },
  {
   "cell_type": "code",
   "execution_count": 79,
   "metadata": {},
   "outputs": [
    {
     "data": {
      "text/plain": [
       "[2.0]"
      ]
     },
     "execution_count": 79,
     "metadata": {},
     "output_type": "execute_result"
    }
   ],
   "source": [
    "get_type_elements(lst=[1,2.0,'one',10,'two'], retType=float) # There are no positional arguments here."
   ]
  },
  {
   "cell_type": "markdown",
   "metadata": {},
   "source": [
    "We can also create anonymous or lambda functions in Python. This can be used to create temporary objects to be used in higher order functions."
   ]
  },
  {
   "cell_type": "code",
   "execution_count": 80,
   "metadata": {},
   "outputs": [
    {
     "data": {
      "text/plain": [
       "9"
      ]
     },
     "execution_count": 80,
     "metadata": {},
     "output_type": "execute_result"
    }
   ],
   "source": [
    "triple = lambda x: x * 3 # Defines a lambda or anonymous function\n",
    "triple(3)"
   ]
  },
  {
   "cell_type": "code",
   "execution_count": 81,
   "metadata": {},
   "outputs": [
    {
     "data": {
      "text/plain": [
       "[2, 4, 6, 8, 10, 12, 14, 16, 18]"
      ]
     },
     "execution_count": 81,
     "metadata": {},
     "output_type": "execute_result"
    }
   ],
   "source": [
    "list(filter(lambda x: x%2==0, range(1,20))) # Creates a list with even numbers"
   ]
  },
  {
   "cell_type": "markdown",
   "metadata": {},
   "source": [
    "# <center> Scoping Rules"
   ]
  },
  {
   "cell_type": "markdown",
   "metadata": {},
   "source": [
    "Python scripts can contain function definitions, class definitions, and executable code. A script is executed by the interpreter from top to bottom. Statements are executed as they are encountered. Function and class definitions are processed when encountered (they are compiled to byte code and stored), but they are not immediately evaluated. Therefore, variables referenced inside a function or class definition do not need to exist at the point where the function definition appears in the script. This is a slightly subtle point and we will elaborate below with examples.\n",
    "\n",
    "Python function bodies create their own scope. This means that a variable with a given name that is defined inside a function is unrelated to any variable with the same name defined outside the function. However, if a variable is referred to but not defined inside the function, it will resolve (or bind) to a variable that was created outside of the function body. This is also a subtle point that will hopefully be clarified below."
   ]
  },
  {
   "cell_type": "markdown",
   "metadata": {},
   "source": [
    "First, the simplest possible setting is a pure function that only refers to its arguments and to variables defined inside its own scope."
   ]
  },
  {
   "cell_type": "code",
   "execution_count": 46,
   "metadata": {},
   "outputs": [
    {
     "name": "stdout",
     "output_type": "stream",
     "text": [
      "From f1 - var is:  5\n"
     ]
    }
   ],
   "source": [
    "def f1():\n",
    "    var=5\n",
    "    print(\"From f1 - var is: \", var)\n",
    "\n",
    "f1()"
   ]
  },
  {
   "cell_type": "markdown",
   "metadata": {},
   "source": [
    "The following output shows an error, because we are trying to access a local variable var in a global scope whereas the local variable only works inside function 'f1' or local scope."
   ]
  },
  {
   "cell_type": "code",
   "execution_count": 47,
   "metadata": {},
   "outputs": [
    {
     "ename": "NameError",
     "evalue": "name 'var' is not defined",
     "output_type": "error",
     "traceback": [
      "\u001b[0;31m---------------------------------------------------------------------------\u001b[0m",
      "\u001b[0;31mNameError\u001b[0m                                 Traceback (most recent call last)",
      "\u001b[0;32m<ipython-input-47-fb9539d7f61c>\u001b[0m in \u001b[0;36m<module>\u001b[0;34m()\u001b[0m\n\u001b[0;32m----> 1\u001b[0;31m \u001b[0mprint\u001b[0m\u001b[0;34m(\u001b[0m\u001b[0mvar\u001b[0m\u001b[0;34m)\u001b[0m \u001b[0;31m# This variable is not recognized outside the scope of the function 'f1'\u001b[0m\u001b[0;34m\u001b[0m\u001b[0m\n\u001b[0m",
      "\u001b[0;31mNameError\u001b[0m: name 'var' is not defined"
     ]
    }
   ],
   "source": [
    "print(var) # This variable is not recognized outside the scope of the function 'f1'"
   ]
  },
  {
   "cell_type": "markdown",
   "metadata": {},
   "source": [
    "Python is a statically scoped and a lexically scoped language. This means that a variable used inside a function (that is not local to the function scope) resolves to a variable defined outside the function based on the position of that variable in the source file, rather than to the current state of the environment. "
   ]
  },
  {
   "cell_type": "markdown",
   "metadata": {},
   "source": [
    "For example, if var is referenced inside a function f1, but var is not defined inside f1, then var resolves to the first variable named var that is defined in the enclosing scope of the definition of f1. Note that var did not need to be defined before f1 was defined, it was only necessary for it to be defined before f was called."
   ]
  },
  {
   "cell_type": "code",
   "execution_count": 48,
   "metadata": {},
   "outputs": [
    {
     "name": "stdout",
     "output_type": "stream",
     "text": [
      "From f1 - var is:  10\n",
      "From outside - var is:  10\n"
     ]
    }
   ],
   "source": [
    "var = 10\n",
    "\n",
    "def f1():\n",
    "    print(\"From f1 - var is: \", var)\n",
    "    \n",
    "f1()\n",
    "print(\"From outside - var is: \", var)"
   ]
  },
  {
   "cell_type": "markdown",
   "metadata": {},
   "source": [
    "The two 'vars' below correspond to two different variables."
   ]
  },
  {
   "cell_type": "code",
   "execution_count": 49,
   "metadata": {},
   "outputs": [
    {
     "name": "stdout",
     "output_type": "stream",
     "text": [
      "From f1 - var is:  5\n",
      "From outside - var is:  10\n"
     ]
    }
   ],
   "source": [
    "var = 10\n",
    "\n",
    "def f1():\n",
    "    var = 5\n",
    "    print(\"From f1 - var is: \", var)\n",
    "\n",
    "f1()\n",
    "print(\"From outside - var is: \", var)"
   ]
  },
  {
   "cell_type": "markdown",
   "metadata": {},
   "source": [
    "The following output generates an error because var is being defined locally but referenced before that happens."
   ]
  },
  {
   "cell_type": "code",
   "execution_count": 50,
   "metadata": {},
   "outputs": [
    {
     "ename": "UnboundLocalError",
     "evalue": "local variable 'var' referenced before assignment",
     "output_type": "error",
     "traceback": [
      "\u001b[0;31m---------------------------------------------------------------------------\u001b[0m",
      "\u001b[0;31mUnboundLocalError\u001b[0m                         Traceback (most recent call last)",
      "\u001b[0;32m<ipython-input-50-eb0afdcfb1b1>\u001b[0m in \u001b[0;36m<module>\u001b[0;34m()\u001b[0m\n\u001b[1;32m      5\u001b[0m     \u001b[0mprint\u001b[0m\u001b[0;34m(\u001b[0m\u001b[0;34m\"From f1 - var is: \"\u001b[0m\u001b[0;34m,\u001b[0m \u001b[0mvar\u001b[0m\u001b[0;34m)\u001b[0m\u001b[0;34m\u001b[0m\u001b[0m\n\u001b[1;32m      6\u001b[0m \u001b[0;34m\u001b[0m\u001b[0m\n\u001b[0;32m----> 7\u001b[0;31m \u001b[0mf1\u001b[0m\u001b[0;34m(\u001b[0m\u001b[0;34m)\u001b[0m\u001b[0;34m\u001b[0m\u001b[0m\n\u001b[0m\u001b[1;32m      8\u001b[0m \u001b[0mprint\u001b[0m\u001b[0;34m(\u001b[0m\u001b[0;34m\"From outside - var is: \"\u001b[0m\u001b[0;34m,\u001b[0m \u001b[0mvar\u001b[0m\u001b[0;34m)\u001b[0m\u001b[0;34m\u001b[0m\u001b[0m\n",
      "\u001b[0;32m<ipython-input-50-eb0afdcfb1b1>\u001b[0m in \u001b[0;36mf1\u001b[0;34m()\u001b[0m\n\u001b[1;32m      2\u001b[0m \u001b[0;34m\u001b[0m\u001b[0m\n\u001b[1;32m      3\u001b[0m \u001b[0;32mdef\u001b[0m \u001b[0mf1\u001b[0m\u001b[0;34m(\u001b[0m\u001b[0;34m)\u001b[0m\u001b[0;34m:\u001b[0m\u001b[0;34m\u001b[0m\u001b[0m\n\u001b[0;32m----> 4\u001b[0;31m     \u001b[0mvar\u001b[0m \u001b[0;34m=\u001b[0m \u001b[0mvar\u001b[0m \u001b[0;34m*\u001b[0m \u001b[0;36m10\u001b[0m\u001b[0;34m\u001b[0m\u001b[0m\n\u001b[0m\u001b[1;32m      5\u001b[0m     \u001b[0mprint\u001b[0m\u001b[0;34m(\u001b[0m\u001b[0;34m\"From f1 - var is: \"\u001b[0m\u001b[0;34m,\u001b[0m \u001b[0mvar\u001b[0m\u001b[0;34m)\u001b[0m\u001b[0;34m\u001b[0m\u001b[0m\n\u001b[1;32m      6\u001b[0m \u001b[0;34m\u001b[0m\u001b[0m\n",
      "\u001b[0;31mUnboundLocalError\u001b[0m: local variable 'var' referenced before assignment"
     ]
    }
   ],
   "source": [
    "var = 10\n",
    "\n",
    "def f1():\n",
    "    var = var * 10\n",
    "    print(\"From f1 - var is: \", var)\n",
    "\n",
    "f1()\n",
    "print(\"From outside - var is: \", var)"
   ]
  },
  {
   "cell_type": "markdown",
   "metadata": {},
   "source": [
    "This problem can be solved by using the 'global' keyword and modifying a variable defined outside the function."
   ]
  },
  {
   "cell_type": "code",
   "execution_count": 51,
   "metadata": {},
   "outputs": [
    {
     "name": "stdout",
     "output_type": "stream",
     "text": [
      "From f1 - var is:  100\n",
      "From outside - var is:  100\n"
     ]
    }
   ],
   "source": [
    "var = 10\n",
    "\n",
    "def f1():\n",
    "    global var\n",
    "    var = var * 10\n",
    "    print(\"From f1 - var is: \", var)\n",
    "\n",
    "f1()\n",
    "print(\"From outside - var is: \", var)"
   ]
  },
  {
   "cell_type": "markdown",
   "metadata": {},
   "source": [
    "To clarify the notion of lexical scope, in the following example we have a function f1 that refers to a non-local variable var. The “most local” var relative to the definition of f1 determines the name resolution. Thus when f1 is called, var holds the value 5. The most local var relative to the call of f1 is a different variable (also called var). This variable holds the value 10, and is not referenced at all in the code below."
   ]
  },
  {
   "cell_type": "code",
   "execution_count": 52,
   "metadata": {},
   "outputs": [
    {
     "name": "stdout",
     "output_type": "stream",
     "text": [
      "6\n",
      "6\n"
     ]
    }
   ],
   "source": [
    "var = 5\n",
    "\n",
    "def f1():\n",
    "    print(var + 1)\n",
    "\n",
    "def f2(f1):\n",
    "    var = 10\n",
    "    f1()\n",
    "    \n",
    "f1()\n",
    "f2(f1)"
   ]
  },
  {
   "cell_type": "markdown",
   "metadata": {},
   "source": [
    "Things get a bit more complicated when we have nested scopes. In the following example, there are two different variables called var. When var is referenced inside of f2, it resolves to the variable in the closest enclosing scope, which is the variable holding the value 5."
   ]
  },
  {
   "cell_type": "code",
   "execution_count": 53,
   "metadata": {},
   "outputs": [
    {
     "name": "stdout",
     "output_type": "stream",
     "text": [
      "5\n"
     ]
    }
   ],
   "source": [
    "var = 3\n",
    "\n",
    "def f1():\n",
    "\n",
    "    var = 5\n",
    "\n",
    "    def f2():\n",
    "        return var\n",
    "\n",
    "    r = f2()\n",
    "    print(r)\n",
    "    \n",
    "f1()"
   ]
  },
  {
   "cell_type": "markdown",
   "metadata": {},
   "source": [
    "If no variable named var is encountered in the first enclosing scope, the interpreter goes out one level, and so on. Thus, in the next example the var referenced in f2 resolves to the var in module scope (holding value 3)."
   ]
  },
  {
   "cell_type": "code",
   "execution_count": 54,
   "metadata": {},
   "outputs": [
    {
     "name": "stdout",
     "output_type": "stream",
     "text": [
      "3\n"
     ]
    }
   ],
   "source": [
    "var = 3\n",
    "\n",
    "def f1():\n",
    "\n",
    "    def f2():\n",
    "        return var\n",
    "    \n",
    "    r = f2()\n",
    "    print(r)\n",
    "\n",
    "f1()"
   ]
  },
  {
   "cell_type": "markdown",
   "metadata": {},
   "source": [
    "Lets now see the difference between using the 'nonlocal' and the 'global' keywords."
   ]
  },
  {
   "cell_type": "code",
   "execution_count": 53,
   "metadata": {},
   "outputs": [
    {
     "name": "stdout",
     "output_type": "stream",
     "text": [
      "3\n"
     ]
    }
   ],
   "source": [
    "var = 3\n",
    "\n",
    "def f1():\n",
    "    var = 6\n",
    "    \n",
    "    def f2():\n",
    "        global var\n",
    "        return var\n",
    "    \n",
    "    r = f2()\n",
    "    print(r)\n",
    "\n",
    "f1()"
   ]
  },
  {
   "cell_type": "code",
   "execution_count": 54,
   "metadata": {},
   "outputs": [
    {
     "name": "stdout",
     "output_type": "stream",
     "text": [
      "6\n"
     ]
    }
   ],
   "source": [
    "var = 3\n",
    "\n",
    "def f1():\n",
    "    var = 6\n",
    "    \n",
    "    def f2():\n",
    "        nonlocal var\n",
    "        return var\n",
    "    \n",
    "    r = f2()\n",
    "    print(r)\n",
    "\n",
    "f1()"
   ]
  },
  {
   "cell_type": "markdown",
   "metadata": {},
   "source": [
    "One more important concept we must discuss is the closure. Below, the function f defines and returns the function g, and g refers to variables defined in the scope of f. Normally, after f returns its scope becomes unreachable, and all variables defined there are reclaimed. But in this case, since g remains in scope, the scope of f must remain reachable via g. In this case, g is called a closure because it not only contains the statements defining g (its function body), but also encapsulates its enclosing scope (the scope of f)."
   ]
  },
  {
   "cell_type": "code",
   "execution_count": 55,
   "metadata": {},
   "outputs": [
    {
     "name": "stdout",
     "output_type": "stream",
     "text": [
      "9\n"
     ]
    }
   ],
   "source": [
    "def f(y):\n",
    "\n",
    "    z = 3 * y\n",
    "\n",
    "    def g():\n",
    "        return z\n",
    "\n",
    "    return g\n",
    "\n",
    "g = f(3)\n",
    "r = g()\n",
    "print(r)"
   ]
  },
  {
   "cell_type": "markdown",
   "metadata": {},
   "source": [
    "Lets add a few statements and another function inside f, so to get a better sense of what is going on."
   ]
  },
  {
   "cell_type": "code",
   "execution_count": 45,
   "metadata": {},
   "outputs": [],
   "source": [
    "def f(y):\n",
    "    \n",
    "    print('Printing from inside f')\n",
    "    z = 3 * y\n",
    "\n",
    "    def g():\n",
    "        print('Printing from inside g')\n",
    "        return z\n",
    "    \n",
    "    def h():\n",
    "        print('Printing from inside h')\n",
    "\n",
    "    return g"
   ]
  },
  {
   "cell_type": "markdown",
   "metadata": {},
   "source": [
    "Note that function h was defined inside the scope of f, so it is not recognized outside."
   ]
  },
  {
   "cell_type": "code",
   "execution_count": 46,
   "metadata": {},
   "outputs": [
    {
     "ename": "NameError",
     "evalue": "name 'h' is not defined",
     "output_type": "error",
     "traceback": [
      "\u001b[0;31m---------------------------------------------------------------------------\u001b[0m",
      "\u001b[0;31mNameError\u001b[0m                                 Traceback (most recent call last)",
      "\u001b[0;32m<ipython-input-46-244aa7266b3f>\u001b[0m in \u001b[0;36m<module>\u001b[0;34m()\u001b[0m\n\u001b[0;32m----> 1\u001b[0;31m \u001b[0mh\u001b[0m\u001b[0;34m\u001b[0m\u001b[0m\n\u001b[0m",
      "\u001b[0;31mNameError\u001b[0m: name 'h' is not defined"
     ]
    }
   ],
   "source": [
    "h"
   ]
  },
  {
   "cell_type": "code",
   "execution_count": 47,
   "metadata": {},
   "outputs": [
    {
     "name": "stdout",
     "output_type": "stream",
     "text": [
      "Printing from inside f\n",
      "<class 'function'>\n"
     ]
    }
   ],
   "source": [
    "g = f(3)\n",
    "print(type(g))"
   ]
  },
  {
   "cell_type": "code",
   "execution_count": 49,
   "metadata": {},
   "outputs": [
    {
     "name": "stdout",
     "output_type": "stream",
     "text": [
      "Printing from inside g\n",
      "9\n"
     ]
    }
   ],
   "source": [
    "r = g()\n",
    "print(r)"
   ]
  },
  {
   "cell_type": "markdown",
   "metadata": {},
   "source": [
    "Finally, note that in Python (unlike in some other languages), only functions and modules (files) create scope. In particular, loops do not have their own scope. Thus the loop index variable in the example below clobbers the existing variable with the same name:"
   ]
  },
  {
   "cell_type": "code",
   "execution_count": 50,
   "metadata": {},
   "outputs": [
    {
     "name": "stdout",
     "output_type": "stream",
     "text": [
      "4\n"
     ]
    }
   ],
   "source": [
    "i = 3\n",
    "\n",
    "for i in range(5):\n",
    "    pass\n",
    "\n",
    "print(i)"
   ]
  }
 ],
 "metadata": {
  "anaconda-cloud": {},
  "kernelspec": {
   "display_name": "Python 3",
   "language": "python",
   "name": "python3"
  },
  "language_info": {
   "codemirror_mode": {
    "name": "ipython",
    "version": 3
   },
   "file_extension": ".py",
   "mimetype": "text/x-python",
   "name": "python",
   "nbconvert_exporter": "python",
   "pygments_lexer": "ipython3",
   "version": "3.6.6"
  },
  "nbpresent": {
   "slides": {
    "8ce21dab-2b7a-439c-8f0a-8a1036a1ac0d": {
     "id": "8ce21dab-2b7a-439c-8f0a-8a1036a1ac0d",
     "prev": null,
     "regions": {
      "d8401624-efe9-4853-a676-de863b4ba3cd": {
       "attrs": {
        "height": 1,
        "width": 1,
        "x": 0,
        "y": 0
       },
       "id": "d8401624-efe9-4853-a676-de863b4ba3cd"
      }
     },
     "theme": null
    }
   },
   "themes": {}
  }
 },
 "nbformat": 4,
 "nbformat_minor": 2
}
