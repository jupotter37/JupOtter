{
 "cells": [
  {
   "cell_type": "markdown",
   "metadata": {},
   "source": [
    "# Copia de Matrices"
   ]
  },
  {
   "cell_type": "code",
   "execution_count": 1,
   "metadata": {},
   "outputs": [
    {
     "data": {
      "text/plain": [
       "array([[1, 2],\n",
       "       [3, 4]])"
      ]
     },
     "execution_count": 1,
     "metadata": {},
     "output_type": "execute_result"
    }
   ],
   "source": [
    "import numpy as np\n",
    "a = np.array([[1, 2], [3, 4]])\n",
    "\n",
    "a"
   ]
  },
  {
   "cell_type": "code",
   "execution_count": 2,
   "metadata": {},
   "outputs": [
    {
     "data": {
      "text/plain": [
       "array([1.+0.j, 2.+0.j, 3.+0.j])"
      ]
     },
     "execution_count": 2,
     "metadata": {},
     "output_type": "execute_result"
    }
   ],
   "source": [
    "a = np.array([1, 2, 3], dtype = complex)\n",
    "a"
   ]
  },
  {
   "cell_type": "code",
   "execution_count": 69,
   "metadata": {},
   "outputs": [
    {
     "name": "stdout",
     "output_type": "stream",
     "text": [
      "[3 4]\n"
     ]
    }
   ],
   "source": [
    "import numpy as np\n",
    "matriz=np.array([1,2,3,4])\n",
    "\n",
    "submatriz=matriz[2:]\n",
    "print(submatriz)"
   ]
  },
  {
   "cell_type": "code",
   "execution_count": 70,
   "metadata": {},
   "outputs": [
    {
     "name": "stdout",
     "output_type": "stream",
     "text": [
      "[5 4]\n"
     ]
    }
   ],
   "source": [
    "submatriz[0]=5\n",
    "print(submatriz)"
   ]
  },
  {
   "cell_type": "code",
   "execution_count": 71,
   "metadata": {},
   "outputs": [
    {
     "name": "stdout",
     "output_type": "stream",
     "text": [
      "[1 2 5 4]\n"
     ]
    }
   ],
   "source": [
    "print(matriz)"
   ]
  },
  {
   "cell_type": "code",
   "execution_count": 72,
   "metadata": {},
   "outputs": [
    {
     "name": "stdout",
     "output_type": "stream",
     "text": [
      "[5 4]\n"
     ]
    }
   ],
   "source": [
    "copia_submatriz=submatriz.copy()\n",
    "print(copia_submatriz)"
   ]
  },
  {
   "cell_type": "code",
   "execution_count": 73,
   "metadata": {},
   "outputs": [
    {
     "name": "stdout",
     "output_type": "stream",
     "text": [
      "[7 4]\n"
     ]
    }
   ],
   "source": [
    "copia_submatriz[0]=7\n",
    "print(copia_submatriz)"
   ]
  },
  {
   "cell_type": "code",
   "execution_count": 74,
   "metadata": {},
   "outputs": [
    {
     "name": "stdout",
     "output_type": "stream",
     "text": [
      "[5 4]\n"
     ]
    }
   ],
   "source": [
    "print(submatriz)"
   ]
  },
  {
   "cell_type": "code",
   "execution_count": 75,
   "metadata": {},
   "outputs": [
    {
     "name": "stdout",
     "output_type": "stream",
     "text": [
      "[1 2 5 4]\n"
     ]
    }
   ],
   "source": [
    "print(matriz)"
   ]
  },
  {
   "cell_type": "code",
   "execution_count": 76,
   "metadata": {},
   "outputs": [
    {
     "data": {
      "text/plain": [
       "array([1, 2, 5, 4])"
      ]
     },
     "execution_count": 76,
     "metadata": {},
     "output_type": "execute_result"
    }
   ],
   "source": [
    "submatriz.base"
   ]
  },
  {
   "cell_type": "code",
   "execution_count": 77,
   "metadata": {},
   "outputs": [],
   "source": [
    "copia_submatriz.base"
   ]
  },
  {
   "cell_type": "markdown",
   "metadata": {},
   "source": [
    "# Iterar elementos de matriz"
   ]
  },
  {
   "cell_type": "code",
   "execution_count": 78,
   "metadata": {},
   "outputs": [
    {
     "data": {
      "text/plain": [
       "array([[1, 2],\n",
       "       [3, 4]])"
      ]
     },
     "execution_count": 78,
     "metadata": {},
     "output_type": "execute_result"
    }
   ],
   "source": [
    "matriz=np.array([[1,2],[3,4]])\n",
    "matriz"
   ]
  },
  {
   "cell_type": "code",
   "execution_count": 79,
   "metadata": {},
   "outputs": [
    {
     "name": "stdout",
     "output_type": "stream",
     "text": [
      "1\n",
      "2\n",
      "3\n",
      "4\n"
     ]
    }
   ],
   "source": [
    "for fila in matriz:\n",
    "    for valor in fila:\n",
    "        print(valor)"
   ]
  },
  {
   "cell_type": "code",
   "execution_count": 80,
   "metadata": {},
   "outputs": [
    {
     "ename": "IndentationError",
     "evalue": "unexpected indent (<ipython-input-80-65001a6ba5b7>, line 2)",
     "output_type": "error",
     "traceback": [
      "\u001b[0;36m  File \u001b[0;32m\"<ipython-input-80-65001a6ba5b7>\"\u001b[0;36m, line \u001b[0;32m2\u001b[0m\n\u001b[0;31m    print(valor)\u001b[0m\n\u001b[0m    ^\u001b[0m\n\u001b[0;31mIndentationError\u001b[0m\u001b[0;31m:\u001b[0m unexpected indent\n"
     ]
    }
   ],
   "source": [
    "# for valor in np.nditer(matriz):\n",
    "    print(valor)"
   ]
  },
  {
   "cell_type": "code",
   "execution_count": 81,
   "metadata": {},
   "outputs": [
    {
     "name": "stdout",
     "output_type": "stream",
     "text": [
      "(0, 0)-----1\n",
      "(0, 1)-----2\n",
      "(1, 0)-----3\n",
      "(1, 1)-----4\n"
     ]
    }
   ],
   "source": [
    "for indice,valor in np.ndenumerate(matriz):\n",
    "    print(str(indice)+'-----'+str(valor))"
   ]
  },
  {
   "cell_type": "code",
   "execution_count": 82,
   "metadata": {},
   "outputs": [
    {
     "data": {
      "text/plain": [
       "array([[1, 2],\n",
       "       [3, 4]])"
      ]
     },
     "execution_count": 82,
     "metadata": {},
     "output_type": "execute_result"
    }
   ],
   "source": [
    "matriz"
   ]
  },
  {
   "cell_type": "code",
   "execution_count": 83,
   "metadata": {},
   "outputs": [
    {
     "data": {
      "text/plain": [
       "array([[  7.2       , 176.33818182],\n",
       "       [ 19.95      , 186.33818182]])"
      ]
     },
     "execution_count": 83,
     "metadata": {},
     "output_type": "execute_result"
    }
   ],
   "source": [
    "transpuesta=np.empty(matriz.shape)\n",
    "transpuesta"
   ]
  },
  {
   "cell_type": "code",
   "execution_count": 84,
   "metadata": {},
   "outputs": [
    {
     "data": {
      "text/plain": [
       "array([[1., 3.],\n",
       "       [2., 4.]])"
      ]
     },
     "execution_count": 84,
     "metadata": {},
     "output_type": "execute_result"
    }
   ],
   "source": [
    "for indice,valor in np.ndenumerate(matriz):\n",
    "    transpuesta[indice[1],indice[0]]=valor\n",
    "transpuesta"
   ]
  },
  {
   "cell_type": "markdown",
   "metadata": {},
   "source": [
    "# Partir matrices"
   ]
  },
  {
   "cell_type": "code",
   "execution_count": 85,
   "metadata": {},
   "outputs": [
    {
     "data": {
      "text/plain": [
       "[array([1, 2]), array([3, 4]), array([5]), array([6])]"
      ]
     },
     "execution_count": 85,
     "metadata": {},
     "output_type": "execute_result"
    }
   ],
   "source": [
    "matriz=np.array([1,2,3,4,5,6])\n",
    "np.array_split(matriz,4)"
   ]
  },
  {
   "cell_type": "markdown",
   "metadata": {},
   "source": [
    "# Busquedas y ordenación de datos"
   ]
  },
  {
   "cell_type": "code",
   "execution_count": 86,
   "metadata": {},
   "outputs": [
    {
     "data": {
      "text/plain": [
       "array([ 1,  5,  3,  6,  8,  4,  9, 10,  2,  7,  3])"
      ]
     },
     "execution_count": 86,
     "metadata": {},
     "output_type": "execute_result"
    }
   ],
   "source": [
    "matriz=np.array([1,5,3,6,8,4,9,10,2,7,3])\n",
    "matriz"
   ]
  },
  {
   "cell_type": "code",
   "execution_count": 87,
   "metadata": {},
   "outputs": [
    {
     "name": "stdout",
     "output_type": "stream",
     "text": [
      "[ 1  2  3  3  4  5  6  7  8  9 10]\n"
     ]
    }
   ],
   "source": [
    "ordenada=np.sort(matriz)\n",
    "print(ordenada)"
   ]
  },
  {
   "cell_type": "code",
   "execution_count": 88,
   "metadata": {},
   "outputs": [],
   "source": [
    "from numpy import random\n",
    "random.shuffle(ordenada)"
   ]
  },
  {
   "cell_type": "code",
   "execution_count": 89,
   "metadata": {},
   "outputs": [
    {
     "name": "stdout",
     "output_type": "stream",
     "text": [
      "[ 6  7 10  9  2  5  3  4  3  1  8]\n"
     ]
    }
   ],
   "source": [
    "print(ordenada)"
   ]
  },
  {
   "cell_type": "code",
   "execution_count": 90,
   "metadata": {},
   "outputs": [
    {
     "name": "stdout",
     "output_type": "stream",
     "text": [
      "[ 2  9 10  3  5  6  1  4  3  7  8]\n"
     ]
    }
   ],
   "source": [
    "from numpy import random\n",
    "desordenada=random.permutation(ordenada)\n",
    "print(desordenada)"
   ]
  },
  {
   "cell_type": "code",
   "execution_count": 91,
   "metadata": {},
   "outputs": [
    {
     "data": {
      "text/plain": [
       "array([ 6,  7, 10,  9,  2,  5,  3,  4,  3,  1,  8])"
      ]
     },
     "execution_count": 91,
     "metadata": {},
     "output_type": "execute_result"
    }
   ],
   "source": [
    "ordenada"
   ]
  },
  {
   "cell_type": "code",
   "execution_count": 92,
   "metadata": {},
   "outputs": [
    {
     "data": {
      "text/plain": [
       "array([ 1,  5,  3,  6,  8,  4,  9, 10,  2,  7,  3])"
      ]
     },
     "execution_count": 92,
     "metadata": {},
     "output_type": "execute_result"
    }
   ],
   "source": [
    "matriz"
   ]
  },
  {
   "cell_type": "code",
   "execution_count": 93,
   "metadata": {},
   "outputs": [],
   "source": [
    "matriz=np.array([1,5,3,6,8,4,9,10,2,7,3])\n"
   ]
  },
  {
   "cell_type": "code",
   "execution_count": 94,
   "metadata": {},
   "outputs": [
    {
     "data": {
      "text/plain": [
       "array([ 1,  5,  3,  6,  8,  4,  9, 10,  2,  7,  3])"
      ]
     },
     "execution_count": 94,
     "metadata": {},
     "output_type": "execute_result"
    }
   ],
   "source": [
    "matriz"
   ]
  },
  {
   "cell_type": "code",
   "execution_count": 95,
   "metadata": {},
   "outputs": [
    {
     "name": "stdout",
     "output_type": "stream",
     "text": [
      "(array([1, 3, 4, 5, 6, 7, 9]),)\n"
     ]
    }
   ],
   "source": [
    "indice=np.where(matriz>3)\n",
    "print(indice)"
   ]
  },
  {
   "cell_type": "markdown",
   "metadata": {},
   "source": [
    "# Números aleatorios -> random"
   ]
  },
  {
   "cell_type": "code",
   "execution_count": 96,
   "metadata": {},
   "outputs": [
    {
     "data": {
      "text/plain": [
       "0.7247383568916546"
      ]
     },
     "execution_count": 96,
     "metadata": {},
     "output_type": "execute_result"
    }
   ],
   "source": [
    "#Dado: Experimento aleatorio. SI Conoces la probabilidad de cada evento?\n",
    "# Distribución de probabilidad equiprobable\n",
    "random.rand() # Numeros que están entre 0 y 1"
   ]
  },
  {
   "cell_type": "code",
   "execution_count": 97,
   "metadata": {},
   "outputs": [
    {
     "data": {
      "text/plain": [
       "34"
      ]
     },
     "execution_count": 97,
     "metadata": {},
     "output_type": "execute_result"
    }
   ],
   "source": [
    "random.randint(100)"
   ]
  },
  {
   "cell_type": "code",
   "execution_count": 98,
   "metadata": {},
   "outputs": [
    {
     "data": {
      "text/plain": [
       "51"
      ]
     },
     "execution_count": 98,
     "metadata": {},
     "output_type": "execute_result"
    }
   ],
   "source": [
    "random.seed(1000) # SEMILLA de cálculo. BASICO <- REPRODUCIR resultados\n",
    "random.randint(100)"
   ]
  },
  {
   "cell_type": "code",
   "execution_count": 99,
   "metadata": {},
   "outputs": [
    {
     "data": {
      "text/plain": [
       "array([ 7,  0,  1,  0, 13,  8,  9,  4, 13, 15])"
      ]
     },
     "execution_count": 99,
     "metadata": {},
     "output_type": "execute_result"
    }
   ],
   "source": [
    "random.randint(20,size=(10))"
   ]
  },
  {
   "cell_type": "code",
   "execution_count": 100,
   "metadata": {},
   "outputs": [
    {
     "name": "stdout",
     "output_type": "stream",
     "text": [
      "[8 8 6 4 4 8 6 1 8 4 4 8 4 8 4 3 4 3 1 4]\n"
     ]
    }
   ],
   "source": [
    "seleccion=random.choice([1,6,8,3,4],size=(20))\n",
    "print(seleccion)"
   ]
  },
  {
   "cell_type": "code",
   "execution_count": 101,
   "metadata": {},
   "outputs": [
    {
     "name": "stdout",
     "output_type": "stream",
     "text": [
      "[1 3 8 8 8 3 3 1 1 8 6 8 8 3 8 8 1 8 8 6]\n"
     ]
    }
   ],
   "source": [
    "seleccion=random.choice([1,6,8,3,4],p=(0.1, 0.05,0.7, 0.1, 0.05),size=(20))\n",
    "print(seleccion)"
   ]
  },
  {
   "cell_type": "code",
   "execution_count": 102,
   "metadata": {},
   "outputs": [
    {
     "name": "stdout",
     "output_type": "stream",
     "text": [
      "[ 2.05225999 -1.23931612  1.10970741 -1.15768513  0.09870641 -1.4651006\n",
      " -1.75193341  1.96503337 -0.34876717 -0.44128298 -0.3947238  -0.81437341\n",
      "  0.16256696 -1.57323867 -1.78792302  1.90937925  0.6282858  -1.87648187\n",
      " -0.32158503 -0.6866277   1.68680558 -0.81614575 -0.47987479  1.80379011\n",
      "  1.32394611 -0.34857439  0.80144349  0.0730809  -0.17211195 -0.5694224\n",
      " -0.2991531   0.47459057 -0.8635593   0.65683768 -1.5742595   0.22448878\n",
      "  1.37654117 -0.29333546  0.95223168 -1.50134896  0.83922513 -0.12254031\n",
      "  1.25745192  1.29882192  0.35762263 -2.20641858  0.17689153  0.35002301\n",
      "  1.36126025  0.65295373  0.34968236 -0.4264542   0.31940268  1.73734602\n",
      " -2.70792836 -2.004896    1.31406313 -0.22436882 -0.21499877 -0.1107533\n",
      " -0.05081375  0.55846087  0.78100262  1.11181238 -1.09269111  0.12433118\n",
      " -0.36606764 -1.60912612  1.31643249  0.24641309 -0.91840662 -1.62505768\n",
      "  0.87188608  1.90903513 -0.60809216  0.67682566  2.28816476  0.32910593\n",
      "  0.00336836 -0.12688982 -2.02857983 -0.68420938  0.49400929 -0.27806099\n",
      " -0.03032963 -0.34359499  1.19632975 -1.06602309  1.09434715  1.15488471\n",
      " -0.03551694  0.13872891 -0.12421014  1.02685825  0.50611659 -1.20677855\n",
      " -0.19450564  1.51662455 -0.11580253 -0.4221029 ]\n"
     ]
    }
   ],
   "source": [
    "normal=random.normal(size=(100))\n",
    "print(normal)"
   ]
  },
  {
   "cell_type": "code",
   "execution_count": 103,
   "metadata": {},
   "outputs": [
    {
     "name": "stdout",
     "output_type": "stream",
     "text": [
      "[10.49543941  9.31469489  8.4023083   8.00856181 12.18688185  8.7517555\n",
      "  9.16768517  9.46078135  9.37784964  8.30618362 11.27559088  8.96570549\n",
      "  6.94695679 11.61059281  9.37296179 11.16883934  9.78577829 10.61905504\n",
      " 12.70096896 10.8984336  11.56350969 11.0708824   7.39077293 11.40547286\n",
      " 10.99569378  9.84122967  8.71064831  8.56320339  6.39861216  9.78431296\n",
      "  4.5303619  12.41676208 10.8636923  10.57149313  8.95045902  5.63555368\n",
      "  9.00268803  9.28126574  9.34377412  9.21128773  9.026344   13.28880792\n",
      "  8.43886306 10.86467172 11.22760225  8.95022894 10.97328883 11.82817318\n",
      " 11.6059381   8.87052161 10.32558054  7.46276594 10.70580601 10.14765758\n",
      "  7.67434254 12.61450579  6.69701476 10.11221643  9.93437702 10.35136701\n",
      " 10.15934731 11.9038751  10.49730574 11.54108045 10.62356062  9.68440469\n",
      " 11.93153078  9.17686828  6.08762362 11.33578493  9.25273182 10.25971103\n",
      "  9.86313586  8.57784885  9.30025859 10.03041745  7.93415446 10.17791774\n",
      " 10.68361299  8.57678759 12.08537953  8.63501894 10.26783451 10.79282187\n",
      "  7.06405715  6.09065989 13.30879693 10.06120768  8.62150116  7.13400319\n",
      " 10.73435164 13.27303     8.69788331 13.93865898 10.58120914  9.21365534\n",
      "  6.55107604  9.33794151 13.17124772  7.91026663  8.59164726  8.11707672\n",
      " 11.95123907  9.66259589 11.78174926  9.11124218 11.40803151  7.85128531\n",
      "  8.20182556 12.85430071 13.5103329  11.25681092  7.72318768  6.0548892\n",
      " 11.71163667  9.9882571  10.04619767  7.83277593 10.38308567  8.75179315\n",
      "  8.87809109  9.20350183  8.67813121  7.36597883 11.36133683 11.37702922\n",
      "  7.06181694 10.35242335 10.17452078  9.74855671  9.57391647  8.80823374\n",
      "  9.90629952 10.94783764  7.03358344  7.95794303 10.9034931  12.04272404\n",
      "  8.47042961  8.54128419  4.75411631  8.27202666  9.20773959  9.10955987\n",
      " 10.16128819  9.24329482 11.06645574  9.80009855  9.16398557  7.28368223\n",
      " 10.93639799  9.91548067  9.53214416  8.3745907  14.23725646 12.16317249\n",
      "  9.28856325 10.50812849 11.67592507  9.63354634 15.39803345 11.23162882\n",
      "  8.13015057  9.17593668  9.05152925  9.8215297  10.88713541 13.21980479\n",
      " 10.04048245 10.93915898  8.43713475 13.77393217  7.52460354 11.537906\n",
      " 13.60495856 11.29593552  9.49876112 12.00891166  9.21551713 10.87025777\n",
      " 11.91161514 10.99431125 13.70134291 10.12667084  9.55946163 11.40648821\n",
      "  8.97845983  9.9141985   6.56440046  9.99369859  9.14757863 10.43620866\n",
      " 10.82238629 10.41609236 12.03468773  8.36582081  7.89700554  8.56798413\n",
      " 10.20638372 10.41885939  9.39947178  9.19880778 15.63450051 10.20089455\n",
      "  6.71312392 12.99203115  6.94599178  7.24318292  7.32273767 10.04566066\n",
      " 10.59087947 12.23114603  9.44082392 10.42915101  9.10676151 11.60629231\n",
      "  9.4692872  10.91333596  8.11261227 11.53860252 10.00958144 11.80249101\n",
      " 12.79234434 10.50646412  8.33880569 10.3493425   9.9601922   9.92207993\n",
      " 10.90217249  6.1780806  12.06072216 10.62028186  9.30682865 10.8853742\n",
      " 10.43218745  8.80684029 11.46535088  8.94056403 10.53475314 10.77752559\n",
      "  8.03311028  9.21403315 12.34208501  9.81564541  7.81795601 10.99161587\n",
      " 10.9087958   9.52859832 10.48128851 13.49849723 14.39209037 10.17775945\n",
      " 14.19928128  6.26072433  7.52445954 12.62763104 14.11272372  9.45863429\n",
      "  7.29363965  8.94296049  7.97848805 10.96533713 12.20517689  9.6073981\n",
      " 11.11482926 11.76854141 13.71697344  8.99095619  3.61704728  9.79824286\n",
      " 11.78798301  8.84185716  9.3794924   4.62297971 11.15879164  6.85311312\n",
      "  9.04904073 11.54797025 10.86682452  8.70476532 16.12261015 11.00422621\n",
      "  8.47658059 11.1416249   6.16643846 11.90147764 11.8386891  13.86212664\n",
      " 13.24441571 10.82007346  7.95202303 10.26514442 10.76720855 10.21438062\n",
      " 10.02614444 13.02241772 11.00495915  8.24541734  8.99236627 10.86397132\n",
      " 11.55551462 10.60150851 10.87182679 10.17458872 10.87120252  6.40993693\n",
      "  7.67056972 11.69198799 11.57624571  7.42244504  8.68670707  9.06726809\n",
      "  9.15362216 12.90039195 10.91611259 13.19892175  6.99698691 12.81907576\n",
      " 10.48652709 11.00615828  9.42340999  9.67112116  8.69488507  6.09893866\n",
      " 11.62085203  9.76673704 12.46117749 10.12204191 12.22484639 15.15311168\n",
      "  8.90842453  9.05120779  8.6909304   9.60783934  9.00290289 12.6604113\n",
      " 11.47764747  6.81157768  8.98825609  9.45113737  9.66608388  8.3860486\n",
      " 10.89108769  8.21984313  7.11527741 11.7066946   8.18596444  9.74179075\n",
      "  7.49709163  6.92009591  9.9187765   8.18964877  7.89403903  9.32002816\n",
      " 12.200529    8.40559472 11.91780426 12.84493619 12.18901903  9.53141776\n",
      "  7.56612151 10.99321395  9.51887086  9.89113734  7.41606647  8.14143498\n",
      " 10.07001338  7.84027042 12.31563225  9.50702312 14.01077555  8.03832327\n",
      "  9.95014132 12.774604    6.17398785  9.36269082 14.52022637 12.81141935\n",
      " 11.03273401 13.65940028  7.67387876 13.92461737 12.39052464  9.29496362\n",
      "  9.04778298  7.74607269  7.5696761  12.21756767  7.23582801  8.78734727\n",
      "  6.17490555 12.86455148  7.67329164 11.76464609  7.30384791  8.46845579\n",
      " 11.11502234  9.5707052  11.37725201  9.64376213  9.72677717  9.77925305\n",
      " 11.00874337  8.13744315 12.14628476 13.62675207 11.17691649 11.82802956\n",
      "  9.99856942 10.49122087  8.31399457 11.54884987 12.91005448 11.12310152\n",
      " 10.68832921 11.6501955  10.23759768 11.42304995  5.37756615 11.71713491\n",
      "  9.5539849  12.0972426   9.930359    7.19839782 13.1880623   8.4563094\n",
      "  9.84111862 14.12378665  8.42951897 10.35611254 11.69284984 12.06979818\n",
      "  9.82052284  6.88452449  7.3554377   8.99660961  7.59536876  9.49921383\n",
      "  6.90327687  8.94893408 11.21985708 11.20940355  9.46684285  9.44470794\n",
      "  9.14640206  8.038047   11.22334498 11.26681844  9.52070399  7.61319363\n",
      " 10.46691656 11.95599046  7.48463603  7.18940514  9.53713831  6.53786318\n",
      " 10.34092213  9.21221011 12.86582718 13.11993764 10.17668725  9.11364578\n",
      " 10.10903549 11.03383348 10.62432067 11.53498388  7.39188237 10.88680269\n",
      " 10.53372093  9.50068561  9.59923721  9.49968918 12.90196884 11.89173226\n",
      "  9.46814593 11.84055866  9.74334859 11.30460903  8.9792983   7.92070336\n",
      " 10.63251102  7.72183622  9.82573531 11.59069258 10.81754131 12.00854143\n",
      " 13.12853143  9.69781373  8.38734137  7.62439233 10.15822947 11.4900503\n",
      " 11.44465194  9.68640215  9.27291572  8.31565015 10.53038973 11.38923096\n",
      " 10.88541869  8.92452041  8.98842903 10.85748278  7.67357657 15.59431847\n",
      " 12.13724459 10.08880871 10.10709466  8.56234219  9.22551948 12.86517041\n",
      "  6.94922406 11.54384037  8.52067435  6.13035829 11.21519627  9.59838806\n",
      " 10.77751323 11.99367841 10.4687521  12.7609784  11.28461809 10.35641182\n",
      "  9.0542011  11.2202474  13.18491467  8.04817461  8.0017455  10.18005638\n",
      " 12.04217563  9.50202864 13.14756671  6.59787043  8.09060166  4.3506609\n",
      " 11.58712134  9.75379759  7.3629705  10.70294475 10.33976026  8.04787961\n",
      " 10.0329066   8.05023931  8.26572326  8.99719773  6.66527598  9.70839074\n",
      "  8.20075247  9.48014818  8.49576267 12.25676597  8.75811549  9.67712317\n",
      "  9.38776312  7.66247915  8.78972752 11.5574168  12.43507322  7.91186266\n",
      " 10.28202309  8.35055081  5.98988171 12.15428554 10.13074099  8.4625115\n",
      "  8.35080227  9.65877236 10.26866191  9.95638837 10.30849705  4.27494886\n",
      "  8.33349235 10.24665047  9.06135033 11.58695747  9.29258066  8.93652401\n",
      " 10.66880716 12.36204157 11.34629241  8.80817812 10.27839951 10.01255616\n",
      "  7.98400795  7.99878176  6.91887369  9.52266162 10.51328418  6.80960108\n",
      " 11.39045225  9.76553791 11.05860078 10.99481337  9.90863718 12.09474101\n",
      "  6.66316538 10.637921    9.70406265  9.13486791  9.19358324  8.08958348\n",
      "  8.68953729 10.26834278  9.77247397  8.82084151  8.12038751 11.46616797\n",
      " 10.95137411  9.49402098 12.07756066 10.46590447 10.73393372 10.03401156\n",
      "  6.75423664 10.07343131 13.84801461 12.08369335  8.9675437   9.21652859\n",
      "  6.41561072  9.56264517  9.45003855 12.59065083  6.74724488  5.97807665\n",
      "  8.2831855   6.76565997 12.97773877 13.33773226 10.5740294  10.08198666\n",
      "  8.49655119 11.37988843  9.69068782  8.62824697  8.84365803 11.87137583\n",
      "  9.21764843  9.71503436 12.91333213  8.66238465  5.83111427 12.05327943\n",
      " 12.32032868  8.76087575 11.54772031  6.92355338 11.36010202 10.90320141\n",
      "  9.11189982  9.20801316  6.88137351  6.54539546 10.50333505  8.46933994\n",
      " 10.2608702  12.05144142  7.7590403   9.51594312  9.4307703  10.26052162\n",
      "  9.9350812   8.62556484 12.21330042  9.20668286 11.81747939  8.35301404\n",
      " 13.36380376 12.06000386 12.28698764  9.6686756  11.34930961 12.63479552\n",
      " 11.20326407  9.03234784  8.01876952  9.78097393 10.47275091 10.92635957\n",
      " 11.22624708 12.78808707  9.57053501  7.5192546  11.95162261  6.35291462\n",
      " 12.18508869 11.35318767 15.35625762 10.31066121 10.44362698 12.07630393\n",
      " 11.40953778  6.49202947 11.7247626   8.35487914  9.63762646  8.48383728\n",
      " 10.75198119 10.71775228  8.54420478 10.00946708  6.12530504 10.89570459\n",
      " 13.03857983 13.68478612 11.0479223   9.51320727 13.1269223  11.0030758\n",
      "  9.24915022  8.81836058  9.51952936  8.80007497  9.98693989  9.02589008\n",
      " 11.58976182  7.46993687  8.31349385 10.66705953  9.46876318 10.00140084\n",
      "  8.55032991  9.46273535  9.37287752 11.28388288  9.35260621 11.92129503\n",
      "  9.93338199  8.96955531  4.79159585  9.454727   12.21115011 10.77482586\n",
      " 13.37437199  9.07968197 11.65004321  9.2257268   9.24610766  8.30057895\n",
      "  8.12948373 10.38096585  8.72481278  8.09268424 13.01206396 12.41991651\n",
      " 10.59692594  9.17696787  9.34604162 11.1681119  10.92220655 10.97397763\n",
      "  9.05443799 11.33208865  8.7212325  12.36600181  9.23590385  8.64752496\n",
      "  8.75228086 11.64280509  3.73156053  9.221792    5.48961304 10.04764024\n",
      " 11.30296556 10.59484368 11.56548713 10.18331866 10.7806675  10.57806689\n",
      " 11.07805877  8.81648365  9.75348793 10.79074535 10.44257827  7.50305651\n",
      " 13.33966816 10.439937    9.89324032 10.94517507  7.7008706   8.73824386\n",
      "  9.60274983 11.5317275   6.78239923 11.65149484 11.21352888  8.19115914\n",
      " 10.91371501 11.10326277 11.19279702  8.11871253 10.74355514 11.88484547\n",
      " 10.56192757 10.83571843 10.05539078  9.73589757 11.63126856  9.90461141\n",
      " 11.26489938 12.4316121   9.40894246 12.76174191  9.51575696 11.93112733\n",
      " 12.88483325 12.5586764  10.88471576  6.36537287 10.2446848   7.62718407\n",
      "  8.93945525  5.39124037  8.80982179  6.5250684  11.761399    7.52542357\n",
      " 14.56670689 12.0423157   9.3125097  10.05686344 12.13552252  9.16768531\n",
      "  7.69403809  9.02230214 13.57533015 10.36554829 10.77851859 10.60474852\n",
      "  9.6042443   7.18034737  8.47558181 10.75104423  9.68639665 12.01384852\n",
      "  5.59718609 10.15115     6.11713029 11.02868889 13.17175044  7.08405626\n",
      "  8.9560489   9.88247196  8.72691735  6.34011545 12.48584599 11.87637012\n",
      "  5.75160322  8.40330182 10.20085168  7.9646184  10.68186702  9.2985345\n",
      " 10.78949308  9.98232132  9.63809547  7.88066807  9.72077529  9.82220514\n",
      " 12.41392553 11.25562749 12.0098827  10.77018796  8.71895772 10.37448189\n",
      " 13.99698573  8.29888585  8.65457571 10.91838974  7.96842747  7.88565132\n",
      " 10.03051002  7.26869263  6.35026914  5.89137741  8.07597288  9.94012547\n",
      "  9.84768923  9.19421983 10.59813865 12.62228955 11.44239188 11.74966066\n",
      " 14.3506044  10.37655124  8.69312957 12.21220477  5.96350617  8.77946751\n",
      " 10.1997501  15.93927803  8.98613972  8.7513743   8.42511931 13.80526734\n",
      "  9.96238584  9.71087501  9.1879596   9.37964898  7.66564232  8.83899231\n",
      "  9.75381466 14.04278423 10.37217637  9.16988686  8.25755618 11.41804961\n",
      " 10.14134729  7.28585616  9.8123444   9.58454147  9.19010883  7.34550223\n",
      " 11.28223156 11.30827108 10.40096492  6.75485785 10.52000021 12.27427315\n",
      "  7.11046733 11.90776598  4.56867035 11.12586121 10.50682212 10.5195403\n",
      " 13.81970578  9.74014046 10.52974861 12.08111471  9.36498273 10.2375704\n",
      " 11.41694451  8.85793382 12.67697996  7.6746888   9.987609    9.34467864\n",
      "  9.18990547  8.28316116 11.13707514 11.60189499  8.99248944  9.53508723\n",
      " 13.0483362   8.87367073 11.85157747 11.91888751 12.56116215  8.46027472\n",
      " 10.86676124 12.63514025 11.2325452  12.5966863   9.96900361 12.21273643\n",
      " 10.96221051 12.03673611 13.74188863  7.95902087 12.4065991  13.72159041\n",
      "  7.13134273 11.64451541 10.44526629 14.78207452 11.32423041  8.24552922\n",
      "  9.23072872 10.61862506  8.12571935 11.47016238  8.81855153 12.08772532\n",
      "  9.45059263 10.21812423  8.81937686  8.50073678  4.68800101  7.86747265\n",
      "  9.14373678  7.5417076  12.22644724  9.0011077   8.2801451  12.90906911\n",
      "  7.25650252  8.79123032  8.27759465 10.21013163  9.58278478 11.48000248\n",
      "  6.83773283 10.80476595  8.42354964  8.99933926 10.22308343 13.40020752\n",
      "  9.52406132 10.47697519  9.48188257  9.62183852]\n"
     ]
    }
   ],
   "source": [
    "normal=random.normal(loc=10, scale=2, size=(1000))\n",
    "print(normal)"
   ]
  },
  {
   "cell_type": "code",
   "execution_count": 104,
   "metadata": {},
   "outputs": [
    {
     "data": {
      "image/png": "[encoded data removed]",
      "text/plain": [
       "<Figure size 432x288 with 1 Axes>"
      ]
     },
     "metadata": {
      "needs_background": "light"
     },
     "output_type": "display_data"
    }
   ],
   "source": [
    "import matplotlib.pyplot as plot\n",
    "import seaborn\n",
    "seaborn.distplot(normal)\n",
    "plot.show()"
   ]
  },
  {
   "cell_type": "code",
   "execution_count": 105,
   "metadata": {},
   "outputs": [
    {
     "data": {
      "image/png": "[encoded data removed]",
      "text/plain": [
       "<Figure size 432x288 with 1 Axes>"
      ]
     },
     "metadata": {
      "needs_background": "light"
     },
     "output_type": "display_data"
    }
   ],
   "source": [
    "seaborn.distplot(  random.binomial(n=100, p=0.3, size=200)  )\n",
    "plot.show()"
   ]
  },
  {
   "cell_type": "code",
   "execution_count": 106,
   "metadata": {},
   "outputs": [
    {
     "data": {
      "image/png": "[encoded data removed]",
      "text/plain": [
       "<Figure size 432x288 with 1 Axes>"
      ]
     },
     "metadata": {
      "needs_background": "light"
     },
     "output_type": "display_data"
    }
   ],
   "source": [
    "seaborn.distplot(  random.poisson(lam=2, size=2000)  )\n",
    "plot.show()"
   ]
  },
  {
   "cell_type": "code",
   "execution_count": 107,
   "metadata": {},
   "outputs": [
    {
     "data": {
      "image/png": "[encoded data removed]",
      "text/plain": [
       "<Figure size 432x288 with 1 Axes>"
      ]
     },
     "metadata": {
      "needs_background": "light"
     },
     "output_type": "display_data"
    }
   ],
   "source": [
    "seaborn.distplot(  random.chisquare(df=2, size=2000)  )\n",
    "plot.show()"
   ]
  },
  {
   "cell_type": "code",
   "execution_count": 108,
   "metadata": {},
   "outputs": [
    {
     "data": {
      "text/plain": [
       "array([ 1,  5,  3,  6,  8,  4,  9, 10,  2,  7,  3])"
      ]
     },
     "execution_count": 108,
     "metadata": {},
     "output_type": "execute_result"
    }
   ],
   "source": [
    "matriz"
   ]
  },
  {
   "cell_type": "code",
   "execution_count": 109,
   "metadata": {},
   "outputs": [
    {
     "data": {
      "text/plain": [
       "array([[1, 2],\n",
       "       [3, 4]])"
      ]
     },
     "execution_count": 109,
     "metadata": {},
     "output_type": "execute_result"
    }
   ],
   "source": [
    "matriz=np.array([[1,2],[3,4]])\n",
    "matriz.copy()"
   ]
  },
  {
   "cell_type": "code",
   "execution_count": 110,
   "metadata": {},
   "outputs": [
    {
     "data": {
      "text/plain": [
       "array([[1, 3],\n",
       "       [2, 4]])"
      ]
     },
     "execution_count": 110,
     "metadata": {},
     "output_type": "execute_result"
    }
   ],
   "source": [
    "matriz.T"
   ]
  },
  {
   "cell_type": "code",
   "execution_count": 111,
   "metadata": {},
   "outputs": [
    {
     "data": {
      "text/plain": [
       "array([[0, 0],\n",
       "       [0, 0]])"
      ]
     },
     "execution_count": 111,
     "metadata": {},
     "output_type": "execute_result"
    }
   ],
   "source": [
    "matriz-matriz"
   ]
  },
  {
   "cell_type": "code",
   "execution_count": 112,
   "metadata": {},
   "outputs": [
    {
     "name": "stdout",
     "output_type": "stream",
     "text": [
      "[85.18000763 66.6023354  75.5752641  81.33998133 73.35752144 82.72716073\n",
      " 52.55231225 67.8369087  70.5484245  72.85031483 45.49161073 60.87835618\n",
      " 48.02007509 78.3268809  67.06774509 51.44986108 77.00463997 80.36744372\n",
      " 72.30085493 74.70187174 64.01886288 67.20195005 67.6029601  62.03448118\n",
      " 77.13739076 65.63706196 85.29983938 61.96853463 60.35439711 79.57695382\n",
      " 88.5988506  66.94334008 61.10193769 58.17772912 64.32020864 71.54123958\n",
      " 76.37738163 64.74166802 73.96935746 89.27599421 72.29839312 73.42660887\n",
      " 79.97151488 71.55787192 91.40827127 63.07333938 84.44377887 63.47834487\n",
      " 70.45397801 87.20866836 76.42662031 61.66374707 47.90140434 84.05102434\n",
      " 70.68177059 75.93724369 91.41826758 57.18600814 60.09967281 73.25721167\n",
      " 78.22062934 84.5206849  79.89794532 60.06618201 69.43771171 71.14013983\n",
      " 74.08517167 75.26984004 59.11064212 79.30915762 70.02181171 82.8880795\n",
      " 68.85643499 76.30913187 54.91408387 69.20527839 56.32061503 78.17650254\n",
      " 78.11092998 62.95576759 67.43551526 75.08078239 64.04662161 79.45857596\n",
      " 70.13102403 56.49513004 68.15060461 63.43949309 72.089056   50.77457898\n",
      " 77.86460802 52.19125475 86.99178024 59.10818544 74.4850949  83.05507464\n",
      " 64.73850143 66.16791558 77.93741611 68.83566495 80.91027072 65.19246748\n",
      " 69.21959077 71.46203823 74.56530309 79.59043829 50.11050921 58.00125776\n",
      " 72.95573757 88.89357686 78.00560698 78.70705868 55.50434814 59.24559035\n",
      " 69.67362618 73.96737773 66.49521224 95.90237707 69.52696663 69.42008611\n",
      " 67.62275307 54.92583315 73.31557674 74.89642604 66.97509492 69.73163584\n",
      " 69.71545898 76.91981607 51.22341271 92.80014134 59.47205483 68.59358147\n",
      " 79.48087102 74.39991704 67.69475438 51.50248106 67.57824526 51.71883611\n",
      " 79.39536773 50.01031123 86.91122687 51.34779933 56.32301246 79.17223778\n",
      " 79.47569619 68.71112262 70.21664313 59.5625218  67.55175429 77.82547478\n",
      " 69.61820965 70.35929051 70.70393202 54.8487143  62.88692848 68.06211004\n",
      " 69.93468391 72.19571722 58.90432283 68.01578297 79.17015712 64.61195389\n",
      " 70.32075797 77.87463558 80.81228324 74.75645597 79.66474812 78.13831197\n",
      " 74.53068365 70.76810256 66.82284253 61.79930867 76.62465013 78.21919546\n",
      " 83.86603772 66.0080854  81.74182445 67.73999723 56.99584593 78.62936788\n",
      " 88.81241163 80.38866964 56.0679825  56.30840732 89.05168673 78.06534975\n",
      " 59.58671112 71.98608074 67.0256323  79.05295366 70.45888615 79.91917963\n",
      " 93.23699329 68.5926101  58.59332762 60.16246002 77.69228531 82.91290537\n",
      " 64.63903097 67.04123808 68.1746437  82.17499159 64.02743515 78.45717772\n",
      " 64.02980461 65.55238795 66.35927815 77.31692691 65.05759386 72.36033659\n",
      " 68.85014924 79.52538159 61.34692982 83.37074164 63.46094867 62.19887856\n",
      " 69.50767507 50.95557609 85.42695027 85.50199565 76.23941425 59.89676453\n",
      " 74.88803124 62.05967941 73.98107191 76.38645959 68.06661588 66.75208895\n",
      " 86.02478929 80.31885022 71.32530478 67.40990329 69.15493304 68.1783957\n",
      " 72.04954479 63.88950928 51.79613376 71.85480816 54.81055326 81.44544636\n",
      " 94.77184202 62.43989013 85.21518604 66.4651785  64.97868021 75.06329128\n",
      " 86.90340952 64.03896305 84.55801016 87.60216281 61.88246287 60.4512342\n",
      " 90.81890683 76.87921166 72.62234108 64.42767118 82.63088456 72.00412354\n",
      " 61.48368088 68.12390052 81.02524372 72.09619005 81.24948421 64.53920756\n",
      " 65.15625743 55.58376028 74.16462155 96.87459857 77.20430182 80.51134295\n",
      " 62.56179291 72.62793743 74.48998532 81.76120099 79.00834594 68.44467963\n",
      " 75.48173337 85.08847749 49.12000803 86.09562588 81.01516418 61.10687342\n",
      " 57.12545505 74.61784379 76.92092359 88.09350562 51.66567284 67.93242414\n",
      " 44.79391669 69.99275531 70.22555846 46.66958499 54.08990481 62.07309619\n",
      " 92.14292156 64.43835362 81.52975058 83.40534464 80.64587002 63.26364129\n",
      " 77.26198446 49.14936903 80.50149633 66.88707291 70.3016477  67.07989264\n",
      " 64.34849003 58.10639312 82.84901183 47.56058916 59.41564865 73.05948909\n",
      " 60.4016805  70.86571168 59.09377076 64.93459874 75.35537929 67.42141148\n",
      " 69.55458989 82.45226299 70.16459207 84.44475324 67.20914643 81.48047078\n",
      " 71.88548049 78.43020754 66.69449102 61.64537296 55.76427312 60.85722773\n",
      " 47.24298962 89.79414205 73.80240996 86.61147248 70.91720678 60.10133328\n",
      " 60.22068001 63.39349386 75.51807287 68.8536459  61.48570478 74.37757128\n",
      " 87.12543795 64.73525599 75.30005691 67.55808349 52.30817341 55.66212804\n",
      " 70.42341024 62.18882387 71.95480229 74.06376943 80.61379769 59.76963231\n",
      " 91.76489967 71.89236446 83.75086741 67.62610068 65.30806801 74.86825202\n",
      " 59.55689925 67.52734469 83.2847221  79.2049068  77.69042453 84.64468597\n",
      " 72.56525941 41.97771686 72.54154417 66.12963158 83.35347174 79.34319776\n",
      " 53.17136659 51.78466791 80.56899413 89.95715559 68.30132823 64.23383606\n",
      " 54.58267088 61.82417654 71.20491381 67.17712276 86.95954395 83.18051473\n",
      " 62.17043165 70.5353418  63.81688264 83.38575602 77.13156576 71.16258086\n",
      " 54.94455597 78.58661641 63.82121703 74.49451906 64.81716111 90.00076663\n",
      " 60.03510523 81.40818551 65.83429873 63.61260334 74.72581248 56.30837148\n",
      " 50.88486896 65.08291584 84.92470284 79.98095976 74.43431366 63.03270469\n",
      " 74.39914403 76.61726545 67.59069221 60.99936583 66.52072118 68.94288564\n",
      " 68.36122964 62.23605964 67.87248086 75.84622936 80.41817077 60.67523113\n",
      " 64.48857105 79.92762858 70.3261885  76.37925288 73.75634496 61.92919285\n",
      " 60.54776272 79.5274003  64.79559032 68.73323694 77.84589028 62.30387393\n",
      " 62.80315831 64.25477203 75.52239506 63.82188483 65.89285295 64.52762859\n",
      " 67.89578039 90.17182991 59.27543082 65.43006599 85.41396469 80.94199417\n",
      " 75.42271733 70.82170914 72.69508911 69.45408126 62.70571212 78.88713621\n",
      " 79.51939568 70.95437049 65.42204455 65.91812483 81.77405936 79.15179512\n",
      " 82.04765526 81.58900859 58.95235426 55.44298967 81.39723135 54.37583471\n",
      " 61.20052152 85.57367029 72.19519367 70.37176516 69.66852454 64.16829262\n",
      " 59.98051915 84.66566993 62.8919421  79.98137152 73.27120659 59.38110769\n",
      " 82.79125532 75.22874938 69.33529442 70.65700861 79.71330434 65.54871133\n",
      " 47.59110389 65.18978221 65.72937675 54.67666925 82.75835656 66.30670332\n",
      " 58.91269143 52.83969494 68.95525129 63.45738737 81.89194589 66.83613063\n",
      " 67.87602772 60.90271037 71.21651385 78.27470648 64.34437815 78.83042962\n",
      " 68.19792248 67.89591914 67.90989706 77.17841475 79.54973726 87.04403264\n",
      " 77.86034981 74.35657458 78.73131657 74.69212708 82.11709617 62.09444411\n",
      " 79.23247795 56.12833427 77.81996105 65.12759739 69.55492841 78.73702793\n",
      " 53.68499863 67.41305081 60.36823458 57.85839629 68.63525489 67.97743803\n",
      " 84.84619382 69.75829654 69.85819192 59.66704923 72.29836121 61.12887971\n",
      " 91.04924165 75.41192863 78.26721071 73.69800371 79.55511719 71.40401319\n",
      " 63.06220185 73.74969903 83.68140407 88.919586   76.59059474 83.04844522\n",
      " 56.26701646 72.24093819 78.24938376 79.8090926  66.43850588 49.74297049\n",
      " 54.75176298 71.34575285 71.34165301 72.85277538 48.96822969 68.46067343\n",
      " 62.29795542 63.50962464 74.78982052 66.5338856  73.05795808 57.32845131\n",
      " 63.09545791 82.19010164 74.56877285 73.26661868 65.98716364 75.18974807\n",
      " 63.64980982 56.02222061 79.99607783 78.35211318 60.5002343  58.66861104\n",
      " 70.27802405 65.1303304  63.96510379 80.35150679 64.25456705 67.62717389\n",
      " 55.2347868  84.01820664 62.94402599 74.16364216 61.46049975 68.32227037\n",
      " 53.74082401 76.95699765 57.50192309 57.53476556 81.95910674 72.35358432\n",
      " 52.50224581 80.565141   79.12711426 60.20895942 72.1909289  68.94864594\n",
      " 80.17339032 78.6545424  74.06440588 60.81757302 65.41408564 70.78761883\n",
      " 64.95217809 71.95235294 58.44839449 66.71185026 81.84799239 74.22749169\n",
      " 81.8982391  78.15066134 74.02796147 63.09867104 82.76557931 65.02878353\n",
      " 78.25203132 58.60396598 64.88643152 78.28415092 72.95318712 71.65916842\n",
      " 72.9159083  67.15230076 70.36055147 65.67426907 64.09482569 59.42801505\n",
      " 66.08684367 70.34095671 78.56960986 72.94412576 58.10989336 64.26084863\n",
      " 63.15436388 68.56749496 64.40684078 73.57468254 77.66722191 71.26670486\n",
      " 77.51583532 73.70232011 67.11515316 72.38577207 70.01955596 52.15197074\n",
      " 65.77081653 66.74727392 69.9367012  76.08905761 78.88508445 83.03996107\n",
      " 85.78911519 60.7353896  86.82990193 58.88761631 65.10032598 65.5724019\n",
      " 76.89201006 61.58723813 62.43513628 59.68025167 50.72746866 61.47499664\n",
      " 64.62891619 84.83300066 92.92213268 66.59977248 63.3046766  47.81051769\n",
      " 67.59960731 74.75147629 75.69512219 65.54797906 86.08649974 63.00475991\n",
      " 77.33177731 63.69010862 84.0762798  86.72943897 58.06169687 65.69935231\n",
      " 72.66309622 49.53707134 69.41554082 71.26289093 66.96558033 84.17420272\n",
      " 54.3403348  63.75328787 61.26538399 86.47864569 79.53852732 70.17965861\n",
      " 80.08163862 71.02176732 67.59586352 63.01007001 71.13314299 74.59500821\n",
      " 78.72366678 71.71262665 67.63695286 72.24737841 87.00884034 72.22286255\n",
      " 78.20269997 74.50315993 73.40033772 68.33833256 75.18706315 69.60853726\n",
      " 76.66486856 75.88776903 77.92223307 83.92979609 60.63558662 71.04122973\n",
      " 76.0648375  64.93330876 62.97129998 69.58795448 59.35988999 78.51806263\n",
      " 59.51156312 65.26555589 65.48176991 58.36991364 86.07513309 72.97910067\n",
      " 68.17551055 83.46157489 70.91229753 72.1039742  55.45809083 70.91081071\n",
      " 73.1077691  47.00736753 60.93945139 67.85111436 59.75444628 64.57763441\n",
      " 63.7918473  77.68957474 69.37817577 61.99890165 64.71777363 58.25170053\n",
      " 66.9305878  66.44532442 74.7206315  67.41600643 81.74309559 84.45254483\n",
      " 84.87296443 82.20728417 60.61233976 76.61883734 60.92954417 85.67531184\n",
      " 69.75133337 59.35244395 69.30778906 77.28218122 66.16488921 59.53071645\n",
      " 51.35053454 49.34295901 72.09615812 64.59542494 78.84698079 68.5276992\n",
      " 59.71653497 64.45362675 56.29621631 70.15772528 58.80026839 62.09688777\n",
      " 67.32003018 74.06487034 65.83223706 66.47107623 62.10317538 75.45785069\n",
      " 80.74901049 58.85446727 70.6748879  62.62942831 73.54347488 50.24431042\n",
      " 62.55301045 54.83049767 49.77109583 69.39878895 74.32395269 73.61444914\n",
      " 78.5294048  76.54222383 66.46606201 91.61204407 65.66292283 68.8441808\n",
      " 52.47883127 70.56370982 72.61338493 79.09316122 85.25563562 75.49757983\n",
      " 68.77261901 65.04777078 63.12878403 62.32255201 78.4869903  71.51018703\n",
      " 77.12017414 64.03227799 76.39277028 82.93483698 57.29168122 80.32127295\n",
      " 59.19013558 73.25310091 64.10788646 77.51307697 52.56572041 62.79208997\n",
      " 73.42775322 51.27415009 62.81324803 69.76411355 87.39206584 79.18329274\n",
      " 72.52417173 71.22693739 64.27620899 73.58636733 50.50387738 69.29279438\n",
      " 65.70210113 70.80513715 55.90513086 77.49463401 79.22210706 80.77332046\n",
      " 58.28045151 61.12655445 70.62140669 60.43117953 65.94854193 63.65073394\n",
      " 80.36347494 82.26044856 65.08965996 66.79563095 53.11788263 71.65411097\n",
      " 62.05903323 88.26520831 65.64680828 76.61482689 71.34346712 65.17521256\n",
      " 55.93441103 50.52045348 73.83011595 87.37870825 64.67866265 80.00955172\n",
      " 51.79117089 77.99030482 75.06540231 70.5722929  67.76370474 84.10745708\n",
      " 57.39874196 59.45232579 58.32594844 81.08304259 72.99330136 63.32740272\n",
      " 83.009776   51.81374282 65.44288611 73.05456475 70.93455622 69.07563405\n",
      " 62.46194356 76.40120252 69.36871046 55.691878   66.05730333 66.94984276\n",
      " 76.56458331 73.46152574 66.98521812 62.6949426  71.83634325 84.45033862\n",
      " 64.12035552 83.96203388 66.58152807 72.96567579 72.18856532 63.00400545\n",
      " 72.12137924 82.20848727 87.14633908 74.04278487 55.31183603 70.5759465\n",
      " 76.26943379 73.82024808 52.25354848 65.37580814 77.88960337 64.42608247\n",
      " 60.72201028 76.6189655  80.92742275 73.18047379 74.99660842 72.46003906\n",
      " 95.38271742 84.86936069 66.47893332 57.42577207 83.01355544 63.76356952\n",
      " 87.55482115 62.09942208 64.23116875 99.9448938  65.40077529 62.77674554\n",
      " 69.44856906 56.64578267 57.51083036 72.9258952  69.40638644 74.4460407\n",
      " 64.29088135 74.08784373 72.88413614 74.82339515 65.29854487 79.44465055\n",
      " 71.01755242 71.58259449 75.07717584 68.6688642  73.73902666 65.58934407\n",
      " 73.64851696 84.26417536 68.97650517 61.66996183 71.85770277 80.59639614\n",
      " 70.85891678 73.56476169 75.25362056 69.49622832 73.4576016  72.80435405\n",
      " 77.36680055 75.8403707  61.14349056 82.90153982 65.85762354 74.19486593\n",
      " 70.03250138 69.26086682 79.38447352 67.40194501 74.63083249 72.70323333\n",
      " 73.60982072 73.50685658 40.24175801 72.10575575 65.4410412  89.08524157\n",
      " 57.10772578 50.33987421 61.03583792 76.49276789 65.90729404 77.60733464\n",
      " 74.52442178 74.26210243 77.86747107 87.31116428 66.19529437 84.02801524\n",
      " 62.41230131 73.01026595 67.30062438 67.92118907 79.25244059 40.36424565\n",
      " 81.70190893 63.32646316 69.39640016 80.88514338]\n",
      "[85.18000763 66.6023354  75.5752641  81.33998133 73.35752144 82.72716073\n",
      " 52.55231225 67.8369087  70.5484245  72.85031483 45.49161073 60.87835618\n",
      " 48.02007509 78.3268809  67.06774509 51.44986108 77.00463997 80.36744372\n",
      " 72.30085493 74.70187174 64.01886288 67.20195005 67.6029601  62.03448118\n",
      " 77.13739076 65.63706196 85.29983938 61.96853463 60.35439711 79.57695382\n",
      " 88.5988506  66.94334008 61.10193769 58.17772912 64.32020864 71.54123958\n",
      " 76.37738163 64.74166802 73.96935746 89.27599421 72.29839312 73.42660887\n",
      " 79.97151488 71.55787192 91.40827127 63.07333938 84.44377887 63.47834487\n",
      " 70.45397801 87.20866836 76.42662031 61.66374707 47.90140434 84.05102434\n",
      " 70.68177059 75.93724369 91.41826758 57.18600814 60.09967281 73.25721167\n",
      " 78.22062934 84.5206849  79.89794532 60.06618201 69.43771171 71.14013983\n",
      " 74.08517167 75.26984004 59.11064212 79.30915762 70.02181171 82.8880795\n",
      " 68.85643499 76.30913187 54.91408387 69.20527839 56.32061503 78.17650254\n",
      " 78.11092998 62.95576759 67.43551526 75.08078239 64.04662161 79.45857596\n",
      " 70.13102403 56.49513004 68.15060461 63.43949309 72.089056   50.77457898\n",
      " 77.86460802 52.19125475 86.99178024 59.10818544 74.4850949  83.05507464\n",
      " 64.73850143 66.16791558 77.93741611 68.83566495 80.91027072 65.19246748\n",
      " 69.21959077 71.46203823 74.56530309 79.59043829 50.11050921 58.00125776\n",
      " 72.95573757 88.89357686 78.00560698 78.70705868 55.50434814 59.24559035\n",
      " 69.67362618 73.96737773 66.49521224 95.90237707 69.52696663 69.42008611\n",
      " 67.62275307 54.92583315 73.31557674 74.89642604 66.97509492 69.73163584\n",
      " 69.71545898 76.91981607 51.22341271 92.80014134 59.47205483 68.59358147\n",
      " 79.48087102 74.39991704 67.69475438 51.50248106 67.57824526 51.71883611\n",
      " 79.39536773 50.01031123 86.91122687 51.34779933 56.32301246 79.17223778\n",
      " 79.47569619 68.71112262 70.21664313 59.5625218  67.55175429 77.82547478\n",
      " 69.61820965 70.35929051 70.70393202 54.8487143  62.88692848 68.06211004\n",
      " 69.93468391 72.19571722 58.90432283 68.01578297 79.17015712 64.61195389\n",
      " 70.32075797 77.87463558 80.81228324 74.75645597 79.66474812 78.13831197\n",
      " 74.53068365 70.76810256 66.82284253 61.79930867 76.62465013 78.21919546\n",
      " 83.86603772 66.0080854  81.74182445 67.73999723 56.99584593 78.62936788\n",
      " 88.81241163 80.38866964 56.0679825  56.30840732 89.05168673 78.06534975\n",
      " 59.58671112 71.98608074 67.0256323  79.05295366 70.45888615 79.91917963\n",
      " 93.23699329 68.5926101  58.59332762 60.16246002 77.69228531 82.91290537\n",
      " 64.63903097 67.04123808 68.1746437  82.17499159 64.02743515 78.45717772\n",
      " 64.02980461 65.55238795 66.35927815 77.31692691 65.05759386 72.36033659\n",
      " 68.85014924 79.52538159 61.34692982 83.37074164 63.46094867 62.19887856\n",
      " 69.50767507 50.95557609 85.42695027 85.50199565 76.23941425 59.89676453\n",
      " 74.88803124 62.05967941 73.98107191 76.38645959 68.06661588 66.75208895\n",
      " 86.02478929 80.31885022 71.32530478 67.40990329 69.15493304 68.1783957\n",
      " 72.04954479 63.88950928 51.79613376 71.85480816 54.81055326 81.44544636\n",
      " 94.77184202 62.43989013 85.21518604 66.4651785  64.97868021 75.06329128\n",
      " 86.90340952 64.03896305 84.55801016 87.60216281 61.88246287 60.4512342\n",
      " 90.81890683 76.87921166 72.62234108 64.42767118 82.63088456 72.00412354\n",
      " 61.48368088 68.12390052 81.02524372 72.09619005 81.24948421 64.53920756\n",
      " 65.15625743 55.58376028 74.16462155 96.87459857 77.20430182 80.51134295\n",
      " 62.56179291 72.62793743 74.48998532 81.76120099 79.00834594 68.44467963\n",
      " 75.48173337 85.08847749 49.12000803 86.09562588 81.01516418 61.10687342\n",
      " 57.12545505 74.61784379 76.92092359 88.09350562 51.66567284 67.93242414\n",
      " 44.79391669 69.99275531 70.22555846 46.66958499 54.08990481 62.07309619\n",
      " 92.14292156 64.43835362 81.52975058 83.40534464 80.64587002 63.26364129\n",
      " 77.26198446 49.14936903 80.50149633 66.88707291 70.3016477  67.07989264\n",
      " 64.34849003 58.10639312 82.84901183 47.56058916 59.41564865 73.05948909\n",
      " 60.4016805  70.86571168 59.09377076 64.93459874 75.35537929 67.42141148\n",
      " 69.55458989 82.45226299 70.16459207 84.44475324 67.20914643 81.48047078\n",
      " 71.88548049 78.43020754 66.69449102 61.64537296 55.76427312 60.85722773\n",
      " 47.24298962 89.79414205 73.80240996 86.61147248 70.91720678 60.10133328\n",
      " 60.22068001 63.39349386 75.51807287 68.8536459  61.48570478 74.37757128\n",
      " 87.12543795 64.73525599 75.30005691 67.55808349 52.30817341 55.66212804\n",
      " 70.42341024 62.18882387 71.95480229 74.06376943 80.61379769 59.76963231\n",
      " 91.76489967 71.89236446 83.75086741 67.62610068 65.30806801 74.86825202\n",
      " 59.55689925 67.52734469 83.2847221  79.2049068  77.69042453 84.64468597\n",
      " 72.56525941 41.97771686 72.54154417 66.12963158 83.35347174 79.34319776\n",
      " 53.17136659 51.78466791 80.56899413 89.95715559 68.30132823 64.23383606\n",
      " 54.58267088 61.82417654 71.20491381 67.17712276 86.95954395 83.18051473\n",
      " 62.17043165 70.5353418  63.81688264 83.38575602 77.13156576 71.16258086\n",
      " 54.94455597 78.58661641 63.82121703 74.49451906 64.81716111 90.00076663\n",
      " 60.03510523 81.40818551 65.83429873 63.61260334 74.72581248 56.30837148\n",
      " 50.88486896 65.08291584 84.92470284 79.98095976 74.43431366 63.03270469\n",
      " 74.39914403 76.61726545 67.59069221 60.99936583 66.52072118 68.94288564\n",
      " 68.36122964 62.23605964 67.87248086 75.84622936 80.41817077 60.67523113\n",
      " 64.48857105 79.92762858 70.3261885  76.37925288 73.75634496 61.92919285\n",
      " 60.54776272 79.5274003  64.79559032 68.73323694 77.84589028 62.30387393\n",
      " 62.80315831 64.25477203 75.52239506 63.82188483 65.89285295 64.52762859\n",
      " 67.89578039 90.17182991 59.27543082 65.43006599 85.41396469 80.94199417\n",
      " 75.42271733 70.82170914 72.69508911 69.45408126 62.70571212 78.88713621\n",
      " 79.51939568 70.95437049 65.42204455 65.91812483 81.77405936 79.15179512\n",
      " 82.04765526 81.58900859 58.95235426 55.44298967 81.39723135 54.37583471\n",
      " 61.20052152 85.57367029 72.19519367 70.37176516 69.66852454 64.16829262\n",
      " 59.98051915 84.66566993 62.8919421  79.98137152 73.27120659 59.38110769\n",
      " 82.79125532 75.22874938 69.33529442 70.65700861 79.71330434 65.54871133\n",
      " 47.59110389 65.18978221 65.72937675 54.67666925 82.75835656 66.30670332\n",
      " 58.91269143 52.83969494 68.95525129 63.45738737 81.89194589 66.83613063\n",
      " 67.87602772 60.90271037 71.21651385 78.27470648 64.34437815 78.83042962\n",
      " 68.19792248 67.89591914 67.90989706 77.17841475 79.54973726 87.04403264\n",
      " 77.86034981 74.35657458 78.73131657 74.69212708 82.11709617 62.09444411\n",
      " 79.23247795 56.12833427 77.81996105 65.12759739 69.55492841 78.73702793\n",
      " 53.68499863 67.41305081 60.36823458 57.85839629 68.63525489 67.97743803\n",
      " 84.84619382 69.75829654 69.85819192 59.66704923 72.29836121 61.12887971\n",
      " 91.04924165 75.41192863 78.26721071 73.69800371 79.55511719 71.40401319\n",
      " 63.06220185 73.74969903 83.68140407 88.919586   76.59059474 83.04844522\n",
      " 56.26701646 72.24093819 78.24938376 79.8090926  66.43850588 49.74297049\n",
      " 54.75176298 71.34575285 71.34165301 72.85277538 48.96822969 68.46067343\n",
      " 62.29795542 63.50962464 74.78982052 66.5338856  73.05795808 57.32845131\n",
      " 63.09545791 82.19010164 74.56877285 73.26661868 65.98716364 75.18974807\n",
      " 63.64980982 56.02222061 79.99607783 78.35211318 60.5002343  58.66861104\n",
      " 70.27802405 65.1303304  63.96510379 80.35150679 64.25456705 67.62717389\n",
      " 55.2347868  84.01820664 62.94402599 74.16364216 61.46049975 68.32227037\n",
      " 53.74082401 76.95699765 57.50192309 57.53476556 81.95910674 72.35358432\n",
      " 52.50224581 80.565141   79.12711426 60.20895942 72.1909289  68.94864594\n",
      " 80.17339032 78.6545424  74.06440588 60.81757302 65.41408564 70.78761883\n",
      " 64.95217809 71.95235294 58.44839449 66.71185026 81.84799239 74.22749169\n",
      " 81.8982391  78.15066134 74.02796147 63.09867104 82.76557931 65.02878353\n",
      " 78.25203132 58.60396598 64.88643152 78.28415092 72.95318712 71.65916842\n",
      " 72.9159083  67.15230076 70.36055147 65.67426907 64.09482569 59.42801505\n",
      " 66.08684367 70.34095671 78.56960986 72.94412576 58.10989336 64.26084863\n",
      " 63.15436388 68.56749496 64.40684078 73.57468254 77.66722191 71.26670486\n",
      " 77.51583532 73.70232011 67.11515316 72.38577207 70.01955596 52.15197074\n",
      " 65.77081653 66.74727392 69.9367012  76.08905761 78.88508445 83.03996107\n",
      " 85.78911519 60.7353896  86.82990193 58.88761631 65.10032598 65.5724019\n",
      " 76.89201006 61.58723813 62.43513628 59.68025167 50.72746866 61.47499664\n",
      " 64.62891619 84.83300066 92.92213268 66.59977248 63.3046766  47.81051769\n",
      " 67.59960731 74.75147629 75.69512219 65.54797906 86.08649974 63.00475991\n",
      " 77.33177731 63.69010862 84.0762798  86.72943897 58.06169687 65.69935231\n",
      " 72.66309622 49.53707134 69.41554082 71.26289093 66.96558033 84.17420272\n",
      " 54.3403348  63.75328787 61.26538399 86.47864569 79.53852732 70.17965861\n",
      " 80.08163862 71.02176732 67.59586352 63.01007001 71.13314299 74.59500821\n",
      " 78.72366678 71.71262665 67.63695286 72.24737841 87.00884034 72.22286255\n",
      " 78.20269997 74.50315993 73.40033772 68.33833256 75.18706315 69.60853726\n",
      " 76.66486856 75.88776903 77.92223307 83.92979609 60.63558662 71.04122973\n",
      " 76.0648375  64.93330876 62.97129998 69.58795448 59.35988999 78.51806263\n",
      " 59.51156312 65.26555589 65.48176991 58.36991364 86.07513309 72.97910067\n",
      " 68.17551055 83.46157489 70.91229753 72.1039742  55.45809083 70.91081071\n",
      " 73.1077691  47.00736753 60.93945139 67.85111436 59.75444628 64.57763441\n",
      " 63.7918473  77.68957474 69.37817577 61.99890165 64.71777363 58.25170053\n",
      " 66.9305878  66.44532442 74.7206315  67.41600643 81.74309559 84.45254483\n",
      " 84.87296443 82.20728417 60.61233976 76.61883734 60.92954417 85.67531184\n",
      " 69.75133337 59.35244395 69.30778906 77.28218122 66.16488921 59.53071645\n",
      " 51.35053454 49.34295901 72.09615812 64.59542494 78.84698079 68.5276992\n",
      " 59.71653497 64.45362675 56.29621631 70.15772528 58.80026839 62.09688777\n",
      " 67.32003018 74.06487034 65.83223706 66.47107623 62.10317538 75.45785069\n",
      " 80.74901049 58.85446727 70.6748879  62.62942831 73.54347488 50.24431042\n",
      " 62.55301045 54.83049767 49.77109583 69.39878895 74.32395269 73.61444914\n",
      " 78.5294048  76.54222383 66.46606201 91.61204407 65.66292283 68.8441808\n",
      " 52.47883127 70.56370982 72.61338493 79.09316122 85.25563562 75.49757983\n",
      " 68.77261901 65.04777078 63.12878403 62.32255201 78.4869903  71.51018703\n",
      " 77.12017414 64.03227799 76.39277028 82.93483698 57.29168122 80.32127295\n",
      " 59.19013558 73.25310091 64.10788646 77.51307697 52.56572041 62.79208997\n",
      " 73.42775322 51.27415009 62.81324803 69.76411355 87.39206584 79.18329274\n",
      " 72.52417173 71.22693739 64.27620899 73.58636733 50.50387738 69.29279438\n",
      " 65.70210113 70.80513715 55.90513086 77.49463401 79.22210706 80.77332046\n",
      " 58.28045151 61.12655445 70.62140669 60.43117953 65.94854193 63.65073394\n",
      " 80.36347494 82.26044856 65.08965996 66.79563095 53.11788263 71.65411097\n",
      " 62.05903323 88.26520831 65.64680828 76.61482689 71.34346712 65.17521256\n",
      " 55.93441103 50.52045348 73.83011595 87.37870825 64.67866265 80.00955172\n",
      " 51.79117089 77.99030482 75.06540231 70.5722929  67.76370474 84.10745708\n",
      " 57.39874196 59.45232579 58.32594844 81.08304259 72.99330136 63.32740272\n",
      " 83.009776   51.81374282 65.44288611 73.05456475 70.93455622 69.07563405\n",
      " 62.46194356 76.40120252 69.36871046 55.691878   66.05730333 66.94984276\n",
      " 76.56458331 73.46152574 66.98521812 62.6949426  71.83634325 84.45033862\n",
      " 64.12035552 83.96203388 66.58152807 72.96567579 72.18856532 63.00400545\n",
      " 72.12137924 82.20848727 87.14633908 74.04278487 55.31183603 70.5759465\n",
      " 76.26943379 73.82024808 52.25354848 65.37580814 77.88960337 64.42608247\n",
      " 60.72201028 76.6189655  80.92742275 73.18047379 74.99660842 72.46003906\n",
      " 95.38271742 84.86936069 66.47893332 57.42577207 83.01355544 63.76356952\n",
      " 87.55482115 62.09942208 64.23116875 99.9448938  65.40077529 62.77674554\n",
      " 69.44856906 56.64578267 57.51083036 72.9258952  69.40638644 74.4460407\n",
      " 64.29088135 74.08784373 72.88413614 74.82339515 65.29854487 79.44465055\n",
      " 71.01755242 71.58259449 75.07717584 68.6688642  73.73902666 65.58934407\n",
      " 73.64851696 84.26417536 68.97650517 61.66996183 71.85770277 80.59639614\n",
      " 70.85891678 73.56476169 75.25362056 69.49622832 73.4576016  72.80435405\n",
      " 77.36680055 75.8403707  61.14349056 82.90153982 65.85762354 74.19486593\n",
      " 70.03250138 69.26086682 79.38447352 67.40194501 74.63083249 72.70323333\n",
      " 73.60982072 73.50685658 40.24175801 72.10575575 65.4410412  89.08524157\n",
      " 57.10772578 50.33987421 61.03583792 76.49276789 65.90729404 77.60733464\n",
      " 74.52442178 74.26210243 77.86747107 87.31116428 66.19529437 84.02801524\n",
      " 62.41230131 73.01026595 67.30062438 67.92118907 79.25244059 40.36424565\n",
      " 81.70190893 63.32646316 69.39640016 80.88514338]\n",
      "Ttest_indResult(statistic=1.6232257196878526, pvalue=0.10469891325852825)\n"
     ]
    }
   ],
   "source": [
    "from scipy.stats import ttest_ind\n",
    "exp1=random.normal(loc=70, scale=10, size=1000)\n",
    "print(exp1)\n",
    "exp2=random.normal(loc=70, scale=10, size=1000)\n",
    "print(exp1)\n",
    "prueba=ttest_ind(exp1,exp2)\n",
    "print(prueba)\n",
    "# Hipotesis nula:         Las dos muestra son compatibles con tener medias iguales\n",
    "# Hipotesis alternativa:  Las dos muestras no tienen medias iguales ni de broma\n",
    "\n",
    "# p valor < 0.05( Nivel de significación). -> Rechazar hipotesis nula-> \n",
    "    # Me quedo con la alternativa\n",
    "# Decisión FUERTE: En nuestro caso las dos muestras ni de coña tienen la misma media \n",
    "\n",
    "# p valor > 0.05( Nivel de significación). -> Aceptas hipotesis nula-> \n",
    "# Decisión DEBIL: No hay evidencia estadistica de que las muestras provengan de poblaciones diferentes \n"
   ]
  },
  {
   "cell_type": "code",
   "execution_count": 113,
   "metadata": {},
   "outputs": [
    {
     "name": "stdout",
     "output_type": "stream",
     "text": [
      "10.222222222222221\n",
      "0.518068587861101\n"
     ]
    },
    {
     "data": {
      "text/plain": [
       "KstestResult(statistic=0.3326845438234265, pvalue=0.2173910181113532)"
      ]
     },
     "execution_count": 113,
     "metadata": {},
     "output_type": "execute_result"
    }
   ],
   "source": [
    "import numpy as np\n",
    "datos=np.array([10,10,10,9.8,9.7,11.3,11,10,10.2])\n",
    "# Prueba de Kolmogorov-Smirnov -> Si una distribución viene de una normal (0,1)\n",
    "# datos-> Normalizarlo?? Restamos la media y dividimos por la desviacion tipica\n",
    "media=np.mean(datos)\n",
    "desviacion_tipica=np.std(datos)\n",
    "print(media)\n",
    "print(desviacion_tipica)\n",
    "normalizados=(datos-media)/(desviacion_tipica)\n",
    "from scipy.stats import kstest\n",
    "kstest(normalizados,'norm')\n"
   ]
  },
  {
   "cell_type": "code",
   "execution_count": 114,
   "metadata": {},
   "outputs": [
    {
     "name": "stdout",
     "output_type": "stream",
     "text": [
      "70.15427715107192\n",
      "9.779379388796723\n"
     ]
    },
    {
     "data": {
      "text/plain": [
       "KstestResult(statistic=0.025439455694028723, pvalue=0.5284824844169325)"
      ]
     },
     "execution_count": 114,
     "metadata": {},
     "output_type": "execute_result"
    }
   ],
   "source": [
    "media=np.mean(exp1)\n",
    "desviacion_tipica=np.std(exp1)\n",
    "print(media)\n",
    "print(desviacion_tipica)\n",
    "normalizados=(exp1-media)/(desviacion_tipica)\n",
    "from scipy.stats import kstest\n",
    "kstest(normalizados,'norm')\n",
    "# En este caso el valor p> 0.05 indica que NO hay evidencia de que la distribución NO siga una normal\n",
    "# Hipotesis nula es que es compatible con una normal\n",
    "# Hipotesis nula        -> Debil\n",
    "    # Kolmogorov: Los datos son compatibles con una normal\n",
    "# Hipotesis alternativa -> Fuerte\n",
    "    # Kolmogorov: Los datos NO son compatibles NI DE COÑA con una normal"
   ]
  },
  {
   "cell_type": "code",
   "execution_count": 115,
   "metadata": {},
   "outputs": [],
   "source": [
    "# 0.05 < Acepto equivocarme una de cada 20 veces\n",
    "# 0.01 < Acepto equivocarme una de cada 100 veces\n",
    "# 0.001 \n"
   ]
  },
  {
   "cell_type": "code",
   "execution_count": 116,
   "metadata": {},
   "outputs": [
    {
     "name": "stdout",
     "output_type": "stream",
     "text": [
      "-13.333333333333332\n"
     ]
    }
   ],
   "source": [
    "# Sensor: Temperatura -> señal electrica (mV.... -10 , 10)\n",
    "# Vol=f(Temp) <- función del sensor: NO\n",
    "temperaturas=np.array([-20,-10,0 ,10,20,30,40,50])\n",
    "vols=np.array        ([-11,-5 ,1 ,4 ,12,15,23,26])\n",
    "# Vol=f(Temp) <- función del sensor: NO\n",
    "\n",
    "from scipy.interpolate import interp1d\n",
    "funcion_sensor=interp1d(vols, temperaturas)\n",
    "t1=funcion_sensor(-7)#### Variable independiente: volt.\n",
    "print(t1)"
   ]
  },
  {
   "cell_type": "code",
   "execution_count": 117,
   "metadata": {},
   "outputs": [
    {
     "name": "stdout",
     "output_type": "stream",
     "text": [
      "0.0\n"
     ]
    }
   ],
   "source": [
    "t1=funcion_sensor(1)#### Variable independiente: volt.\n",
    "print(t1)"
   ]
  },
  {
   "cell_type": "code",
   "execution_count": 118,
   "metadata": {},
   "outputs": [
    {
     "data": {
      "text/plain": [
       "    fjac: array([[-1.]])\n",
       "     fun: array([0.])\n",
       " message: 'The solution converged.'\n",
       "    nfev: 8\n",
       "     qtf: array([1.77635684e-15])\n",
       "       r: array([-3.00000028])\n",
       "  status: 1\n",
       " success: True\n",
       "       x: array([1.])"
      ]
     },
     "execution_count": 118,
     "metadata": {},
     "output_type": "execute_result"
    }
   ],
   "source": [
    "from scipy.optimize import root\n",
    "root(funcion_sensor,0)"
   ]
  },
  {
   "cell_type": "code",
   "execution_count": 119,
   "metadata": {},
   "outputs": [
    {
     "data": {
      "text/plain": [
       "    fjac: array([[-1.]])\n",
       "     fun: array([0.])\n",
       " message: 'The solution converged.'\n",
       "    nfev: 7\n",
       "     qtf: array([-7.40148683e-16])\n",
       "       r: array([-2.36111111])\n",
       "  status: 1\n",
       " success: True\n",
       "       x: array([1.])"
      ]
     },
     "execution_count": 119,
     "metadata": {},
     "output_type": "execute_result"
    }
   ],
   "source": [
    "root(funcion_sensor,10)"
   ]
  },
  {
   "cell_type": "code",
   "execution_count": 120,
   "metadata": {},
   "outputs": [
    {
     "name": "stdout",
     "output_type": "stream",
     "text": [
      "Hola Ivan\n",
      "Hola Luis\n",
      "Hola Sandra\n",
      "Hola Almudena\n"
     ]
    },
    {
     "data": {
      "text/plain": [
       "    fjac: array([[-1.]])\n",
       "     fun: -0.006957479354384066\n",
       " message: 'The solution converged.'\n",
       "    nfev: 9\n",
       "     qtf: array([-0.07078411])\n",
       "       r: array([2.81534507])\n",
       "  status: 1\n",
       " success: True\n",
       "       x: array([12602828.21493092])"
      ]
     },
     "execution_count": 120,
     "metadata": {},
     "output_type": "execute_result"
    }
   ],
   "source": [
    "def mi_funcion(nombre):\n",
    "    print('Hola '+nombre)\n",
    "\n",
    "mi_funcion('Ivan')\n",
    "mi_funcion('Luis')\n",
    "mi_funcion('Sandra')\n",
    "mi_funcion('Almudena')\n",
    "    \n",
    "def doblar(numero):\n",
    "   return numero*2\n",
    "\n",
    "doblar(30)\n",
    "    \n",
    "# Y=3*x+3    \n",
    "def y(x):\n",
    "    return 3*(x+3)\n",
    "\n",
    "y(10)\n",
    "    \n",
    "\n",
    "# Una funcion lambda es como una funcion normal, \n",
    "# pero se define sin nombre, y siempre devuelve un valor\n",
    "    \n",
    "y=lambda x: 3*x+3\n",
    "  \n",
    "y(10)\n",
    "# Y=3*sin(x)^2-sqrt(cos(x))\n",
    "root(y,0)\n",
    "\n",
    "root(lambda x: x*x-21*x+7,0)\n",
    "\n",
    "\n",
    "# sin, cos, sqrt, log, pow -> math\n",
    "import math\n",
    "math.cos(3.5)\n",
    "\n",
    "from math import cos, pow\n",
    "cos(3.5)\n",
    "\n",
    "pow(2,3)\n",
    "\n",
    "#Y=3*sin(x)^2-sqrt(cos(x))\n",
    "def y(x):\n",
    "    return 3*math.pow(math.sin(x),2)-math.sqrt(abs(math.cos(x)))\n",
    "\n",
    "y=lambda x:3*math.pow(math.sin(x),2)-math.sqrt(abs(math.cos(x)))\n",
    "\n",
    "root(y,0)"
   ]
  },
  {
   "cell_type": "code",
   "execution_count": 121,
   "metadata": {},
   "outputs": [
    {
     "data": {
      "text/plain": [
       "     fun: array([-4.])\n",
       "     jac: array([0.])\n",
       " message: 'Optimization terminated successfully'\n",
       "    nfev: 5\n",
       "     nit: 2\n",
       "    njev: 2\n",
       "  status: 0\n",
       " success: True\n",
       "       x: array([0.])"
      ]
     },
     "execution_count": 121,
     "metadata": {},
     "output_type": "execute_result"
    }
   ],
   "source": [
    "#parabola= x^2-4\n",
    "\n",
    "from scipy.optimize import minimize\n",
    "minimize(lambda x: x*x-4,1, method='SLSQP')\n"
   ]
  },
  {
   "cell_type": "code",
   "execution_count": 122,
   "metadata": {},
   "outputs": [
    {
     "name": "stdout",
     "output_type": "stream",
     "text": [
      "   3     2\n",
      "4 x + 5 x + 2\n"
     ]
    }
   ],
   "source": [
    "from numpy import poly1d\n",
    "p1=poly1d([4,5,0,2])\n",
    "print(p1)"
   ]
  },
  {
   "cell_type": "code",
   "execution_count": 123,
   "metadata": {},
   "outputs": [
    {
     "name": "stdout",
     "output_type": "stream",
     "text": [
      " \n",
      "2 x - 1\n"
     ]
    }
   ],
   "source": [
    "p2=poly1d([2,-1])\n",
    "print(p2)"
   ]
  },
  {
   "cell_type": "code",
   "execution_count": 124,
   "metadata": {},
   "outputs": [
    {
     "name": "stdout",
     "output_type": "stream",
     "text": [
      "   3     2\n",
      "4 x + 5 x + 2 x + 1\n"
     ]
    }
   ],
   "source": [
    "print(p1+p2)"
   ]
  },
  {
   "cell_type": "code",
   "execution_count": 125,
   "metadata": {},
   "outputs": [
    {
     "name": "stdout",
     "output_type": "stream",
     "text": [
      "(poly1d([2.  , 3.5 , 1.75]), poly1d([3.75]))\n"
     ]
    }
   ],
   "source": [
    "print(p1/p2)"
   ]
  },
  {
   "cell_type": "code",
   "execution_count": 126,
   "metadata": {},
   "outputs": [
    {
     "name": "stdout",
     "output_type": "stream",
     "text": [
      "    2\n",
      "12 x + 10 x\n"
     ]
    }
   ],
   "source": [
    "print(p1.deriv())"
   ]
  },
  {
   "cell_type": "code",
   "execution_count": 127,
   "metadata": {},
   "outputs": [
    {
     "name": "stdout",
     "output_type": "stream",
     "text": [
      "   2\n",
      "1 x - 1 x\n"
     ]
    }
   ],
   "source": [
    "print(p2.integ())"
   ]
  },
  {
   "cell_type": "code",
   "execution_count": 128,
   "metadata": {},
   "outputs": [
    {
     "name": "stdout",
     "output_type": "stream",
     "text": [
      "(-49.28366218546322, 5.471585649614943e-13)\n"
     ]
    }
   ],
   "source": [
    "from scipy.integrate import quad\n",
    "# Integrales, pero por un procedimiento numérico no analítico\n",
    "\n",
    "def f(x):\n",
    "    return math.sin(x)-4*x\n",
    "print(quad(f, 0,5))"
   ]
  },
  {
   "cell_type": "code",
   "execution_count": 129,
   "metadata": {},
   "outputs": [
    {
     "data": {
      "text/plain": [
       "(0.8190471993827014, 1.577333936843171e-13)"
      ]
     },
     "execution_count": 129,
     "metadata": {},
     "output_type": "execute_result"
    }
   ],
   "source": [
    "def z(x,y):\n",
    "    return math.sin(x)+math.cos(y)\n",
    "\n",
    "from scipy.integrate import dblquad\n",
    "\n",
    "#         Limite inferior X\n",
    "#          Limite superior  X\n",
    "#                       Limite inferior Y\n",
    "#                                   Limite superior Y\n",
    "dblquad(z,0,5,lambda x: 5,lambda x: 10)\n",
    "\n"
   ]
  },
  {
   "cell_type": "code",
   "execution_count": 130,
   "metadata": {},
   "outputs": [
    {
     "data": {
      "text/plain": [
       "array([[ 4.83210057,  5.28577597,  5.06683514,  5.5019171 ,  4.9742259 ,\n",
       "         5.87820152,  4.64472805,  4.64639309,  5.68518032,  5.54975212],\n",
       "       [ 9.69646451,  9.39072359,  9.7308984 ,  9.57389912, 10.69229021,\n",
       "        10.09594345, 10.25501352, 10.12073596,  9.68680238, 11.31147357],\n",
       "       [15.11695494, 15.13762902, 15.38573232, 15.23867216, 14.34541255,\n",
       "        14.95106816, 14.86769494, 14.24734989, 15.37408935, 14.50085177],\n",
       "       [16.94919664, 17.81578918, 18.38635477, 17.42559089, 17.3481144 ,\n",
       "        17.12652241, 18.30292634, 18.75391841, 18.03697451, 18.02220732],\n",
       "       [20.57401442, 20.1016229 , 20.0116949 , 19.60744645, 20.68308944,\n",
       "        19.37147291, 20.57219922, 19.57529786, 19.78415703, 19.81768289]])"
      ]
     },
     "execution_count": 130,
     "metadata": {},
     "output_type": "execute_result"
    }
   ],
   "source": [
    "# Temperatura: Medidas 0, 10, 20, 30, 40   (10 medidas de cada) \n",
    "# Amp.: Medidas        5, 10, 15, 18, 20\n",
    "# Distribución de las medidas siguen una normal\n",
    "medida0=random.normal(loc=5  ,scale=0.5,size=10)\n",
    "medida10=random.normal(loc=10,scale=0.5,size=10)\n",
    "medida20=random.normal(loc=15,scale=0.5,size=10)\n",
    "medida30=random.normal(loc=18,scale=0.5,size=10)\n",
    "medida40=random.normal(loc=20,scale=0.5,size=10)\n",
    "medida40\n",
    "np.concatenate((medida0,medida10,medida20,medida30,medida40)).reshape(5,10)"
   ]
  },
  {
   "cell_type": "code",
   "execution_count": 131,
   "metadata": {},
   "outputs": [],
   "source": [
    "serie1=np.stack((medida0,medida10, medida20, medida30, medida40))\n",
    "temperatura=np.arange(0,50,10)\n",
    "temperaturas=np.stack((temperatura,)*10)\n",
    "temperaturas=temperaturas.transpose()"
   ]
  },
  {
   "cell_type": "code",
   "execution_count": 132,
   "metadata": {},
   "outputs": [],
   "source": [
    "series=np.empty((2,5,10))\n",
    "series[0]=temperaturas\n",
    "series[1]=serie1"
   ]
  },
  {
   "cell_type": "code",
   "execution_count": 133,
   "metadata": {},
   "outputs": [
    {
     "data": {
      "text/plain": [
       "array([[[ 0.        ,  0.        ,  0.        ,  0.        ,\n",
       "          0.        ,  0.        ,  0.        ,  0.        ,\n",
       "          0.        ,  0.        ],\n",
       "        [10.        , 10.        , 10.        , 10.        ,\n",
       "         10.        , 10.        , 10.        , 10.        ,\n",
       "         10.        , 10.        ],\n",
       "        [20.        , 20.        , 20.        , 20.        ,\n",
       "         20.        , 20.        , 20.        , 20.        ,\n",
       "         20.        , 20.        ],\n",
       "        [30.        , 30.        , 30.        , 30.        ,\n",
       "         30.        , 30.        , 30.        , 30.        ,\n",
       "         30.        , 30.        ],\n",
       "        [40.        , 40.        , 40.        , 40.        ,\n",
       "         40.        , 40.        , 40.        , 40.        ,\n",
       "         40.        , 40.        ]],\n",
       "\n",
       "       [[ 4.83210057,  5.28577597,  5.06683514,  5.5019171 ,\n",
       "          4.9742259 ,  5.87820152,  4.64472805,  4.64639309,\n",
       "          5.68518032,  5.54975212],\n",
       "        [ 9.69646451,  9.39072359,  9.7308984 ,  9.57389912,\n",
       "         10.69229021, 10.09594345, 10.25501352, 10.12073596,\n",
       "          9.68680238, 11.31147357],\n",
       "        [15.11695494, 15.13762902, 15.38573232, 15.23867216,\n",
       "         14.34541255, 14.95106816, 14.86769494, 14.24734989,\n",
       "         15.37408935, 14.50085177],\n",
       "        [16.94919664, 17.81578918, 18.38635477, 17.42559089,\n",
       "         17.3481144 , 17.12652241, 18.30292634, 18.75391841,\n",
       "         18.03697451, 18.02220732],\n",
       "        [20.57401442, 20.1016229 , 20.0116949 , 19.60744645,\n",
       "         20.68308944, 19.37147291, 20.57219922, 19.57529786,\n",
       "         19.78415703, 19.81768289]]])"
      ]
     },
     "execution_count": 133,
     "metadata": {},
     "output_type": "execute_result"
    }
   ],
   "source": [
    "series"
   ]
  },
  {
   "cell_type": "code",
   "execution_count": 134,
   "metadata": {},
   "outputs": [
    {
     "data": {
      "text/plain": [
       "DescribeResult(nobs=5, minmax=(array([4.83210057, 5.28577597, 5.06683514, 5.5019171 , 4.9742259 ,\n",
       "       5.87820152, 4.64472805, 4.64639309, 5.68518032, 5.54975212]), array([20.57401442, 20.1016229 , 20.0116949 , 19.60744645, 20.68308944,\n",
       "       19.37147291, 20.57219922, 19.57529786, 19.78415703, 19.81768289])), mean=array([13.43374622, 13.54630813, 13.71630311, 13.46950514, 13.6086265 ,\n",
       "       13.48464169, 13.72851242, 13.46873904, 13.71344072, 13.84039353]), variance=array([38.53264893, 37.3095492 , 38.73127024, 33.77827382, 36.90813509,\n",
       "       29.85242287, 40.90984541, 38.71808227, 34.74276904, 32.19548273]), skewness=array([-0.32295699, -0.33345816, -0.41095078, -0.37904293, -0.32630835,\n",
       "       -0.38307696, -0.3992166 , -0.4041909 , -0.37344188, -0.45756473]), kurtosis=array([-1.22585114, -1.39715736, -1.35357594, -1.37462597, -1.08878839,\n",
       "       -1.29545898, -1.20981068, -1.25833526, -1.41238953, -1.08624003]))"
      ]
     },
     "execution_count": 134,
     "metadata": {},
     "output_type": "execute_result"
    }
   ],
   "source": [
    "import scipy.stats as st\n",
    "st.describe(serie1)"
   ]
  },
  {
   "cell_type": "code",
   "execution_count": 135,
   "metadata": {},
   "outputs": [
    {
     "data": {
      "text/plain": [
       "array([ 5.20651098, 10.05542447, 14.91654551, 17.81675949, 20.0098678 ])"
      ]
     },
     "execution_count": 135,
     "metadata": {},
     "output_type": "execute_result"
    }
   ],
   "source": [
    "st.describe(serie1, axis=1).mean"
   ]
  },
  {
   "cell_type": "code",
   "execution_count": null,
   "metadata": {},
   "outputs": [
    {
     "name": "stdout",
     "output_type": "stream",
     "text": [
      "ERROR! Session/line number was not unique in database. History logging moved to new session 20\n"
     ]
    }
   ],
   "source": [
    "import statsmodels.api as sm\n",
    "import statsmodels.formula.api as smf\n",
    "\n",
    "X=series[1].flatten() \n",
    "#XC=sm.add_constant(X)\n",
    "Y=series[0].flatten()\n",
    "model = smf.ols(formula='Y~np.power(X, 2)+1',data={'Y':Y,'X':X}).fit()\n",
    "\n",
    "predictions = model.predict(X) \n",
    "\n",
    "print_model = model.summary()\n",
    "print(print_model)\n"
   ]
  },
  {
   "cell_type": "code",
   "execution_count": 68,
   "metadata": {},
   "outputs": [
    {
     "name": "stdout",
     "output_type": "stream",
     "text": [
      "ERROR! Session/line number was not unique in database. History logging moved to new session 16\n"
     ]
    },
    {
     "data": {
      "image/png": "[encoded data removed]",
      "text/plain": [
       "<Figure size 432x288 with 1 Axes>"
      ]
     },
     "metadata": {
      "needs_background": "light"
     },
     "output_type": "display_data"
    }
   ],
   "source": [
    "import matplotlib.pyplot as plt\n",
    "plt.plot(X, Y, 'o', color='black');\n"
   ]
  },
  {
   "cell_type": "code",
   "execution_count": 136,
   "metadata": {},
   "outputs": [
    {
     "name": "stdout",
     "output_type": "stream",
     "text": [
      "ERROR! Session/line number was not unique in database. History logging moved to new session 17\n"
     ]
    }
   ],
   "source": [
    "import statsmodels.formula.api as sm\n",
    "import numpy as np\n",
    "\n",
    "data = {\"a\":[2, 3, 5], \"b\":[2, 3, 5], \"c\":[2, 3, 5]}\n",
    "model = sm.ols(formula = 'a ~ np.power(b, 2) + b + c', data = data).fit()\n"
   ]
  },
  {
   "cell_type": "code",
   "execution_count": null,
   "metadata": {},
   "outputs": [],
   "source": []
  }
 ],
 "metadata": {
  "kernelspec": {
   "display_name": "Python 3",
   "language": "python",
   "name": "python3"
  },
  "language_info": {
   "codemirror_mode": {
    "name": "ipython",
    "version": 3
   },
   "file_extension": ".py",
   "mimetype": "text/x-python",
   "name": "python",
   "nbconvert_exporter": "python",
   "pygments_lexer": "ipython3",
   "version": "3.8.3"
  }
 },
 "nbformat": 4,
 "nbformat_minor": 4
}
