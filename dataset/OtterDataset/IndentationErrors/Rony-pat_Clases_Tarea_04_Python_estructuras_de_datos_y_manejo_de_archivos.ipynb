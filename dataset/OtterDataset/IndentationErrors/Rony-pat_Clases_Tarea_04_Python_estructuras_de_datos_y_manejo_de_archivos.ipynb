{
  "nbformat": 4,
  "nbformat_minor": 0,
  "metadata": {
    "colab": {
      "provenance": [],
      "authorship_tag": "ABX9TyOGQnrusTJksM1W+inRve8N",
      "include_colab_link": true
    },
    "kernelspec": {
      "name": "python3",
      "display_name": "Python 3"
    },
    "language_info": {
      "name": "python"
    }
  },
  "cells": [
    {
      "cell_type": "markdown",
      "metadata": {
        "id": "view-in-github",
        "colab_type": "text"
      },
      "source": [
        "<a href=\"https://colab.research.google.com/github/Rony-pat/Clases/blob/main/Tarea_04_Python_estructuras_de_datos_y_manejo_de_archivos.ipynb\" target=\"_parent\"><img src=\"https://colab.research.google.com/assets/colab-badge.svg\" alt=\"Open In Colab\"/></a>"
      ]
    },
    {
      "cell_type": "code",
      "execution_count": 32,
      "metadata": {
        "colab": {
          "base_uri": "https://localhost:8080/"
        },
        "id": "B4gF5xC9zYd_",
        "outputId": "1aa5ee90-e057-44e4-82fd-17d9a08dc36e"
      },
      "outputs": [
        {
          "output_type": "stream",
          "name": "stdout",
          "text": [
            "¿Quiere ingresar algún producto? Si es así, diga 'sí': si\n",
            "Ingrese el nombre del producto: papas\n",
            "Ingrese la cantidad del producto: 22\n",
            "Inventario actualizado: {'papas': 22}\n",
            "¿Quiere ingresar algún producto? Si es así, diga 'sí': si\n",
            "Ingrese el nombre del producto: papas\n",
            "Ingrese la cantidad del producto: 33\n",
            "Inventario actualizado: {'papas': 33}\n",
            "¿Quiere ingresar algún producto? Si es así, diga 'sí': si\n",
            "Ingrese el nombre del producto: cola\n",
            "Ingrese la cantidad del producto: 12\n",
            "Inventario actualizado: {'papas': 33, 'cola': 12}\n",
            "¿Quiere ingresar algún producto? Si es así, diga 'sí': no\n",
            "No se ingresaron más productos.\n"
          ]
        }
      ],
      "source": [
        "inventario = {}\n",
        "\n",
        "def agregar_producto():\n",
        "    while True:\n",
        "        resp = input(\"¿Quiere ingresar algún producto? Si es así, diga 'sí': \").strip().lower()\n",
        "        if resp in [\"sí\", \"si\", \"s\"]:\n",
        "            nombre = input(\"Ingrese el nombre del producto: \").strip()\n",
        "            cantidad = int(input(\"Ingrese la cantidad del producto: \"))\n",
        "            inventario[nombre] = cantidad\n",
        "        else:\n",
        "            print(\"No se ingresaron más productos.\")\n",
        "            break\n",
        "\n",
        "agregar_producto()"
      ]
    },
    {
      "cell_type": "code",
      "source": [
        "porque me dice No se ingresaron más productos cuando le puse que si?\n"
      ],
      "metadata": {
        "colab": {
          "base_uri": "https://localhost:8080/"
        },
        "id": "jadA9pqP1RYr",
        "outputId": "43bdc6d1-77cb-4234-8ed2-bbe91afb912f"
      },
      "execution_count": 27,
      "outputs": [
        {
          "output_type": "stream",
          "name": "stdout",
          "text": [
            "Object `si` not found.\n"
          ]
        }
      ]
    },
    {
      "cell_type": "code",
      "source": [
        "inventario = {}\n",
        "\n",
        "def agregar_producto():\n",
        "    while True:\n",
        "        resp = input(\"¿Quiere ingresar algún producto? Si es así, diga 'sí': \").strip().lower()\n",
        "        if resp in [\"sí\", \"si\", \"s\"]:\n",
        "            nombre = input(\"Ingrese el nombre del producto: \").strip()\n",
        "            cantidad = int(input(\"Ingrese la cantidad del producto: \"))\n",
        "            inventario[nombre] = cantidad\n",
        "            print(f\"Inventario actualizado: {inventario}\")\n",
        "        else:\n",
        "            print(\"No se ingresaron más productos.\")\n",
        "            break\n",
        "\n",
        "def buscar_producto(nombre):\n",
        "  busqueda = input(\"Ingrese el nombre del producto que desea buscar: \").strip()\n",
        "    if busqueda in inventario:\n",
        "        print(f\"Producto encontrado: {busqueda} - Cantidad disponible: {inventario[nombre]}\")\n",
        "    else:\n",
        "        print(f\"El producto '{nombre}' no existe en el inventario.\")\n",
        "\n",
        "agregar_producto()\n",
        "buscar_producto():"
      ],
      "metadata": {
        "colab": {
          "base_uri": "https://localhost:8080/",
          "height": 105
        },
        "id": "IhUBDbRG5Ve_",
        "outputId": "a815dce2-cebc-45de-c8c2-4e09ce00ecae"
      },
      "execution_count": 33,
      "outputs": [
        {
          "output_type": "error",
          "ename": "IndentationError",
          "evalue": "unexpected indent (<ipython-input-33-55d2ec64b48d>, line 17)",
          "traceback": [
            "\u001b[0;36m  File \u001b[0;32m\"<ipython-input-33-55d2ec64b48d>\"\u001b[0;36m, line \u001b[0;32m17\u001b[0m\n\u001b[0;31m    if busqueda in inventario:\u001b[0m\n\u001b[0m    ^\u001b[0m\n\u001b[0;31mIndentationError\u001b[0m\u001b[0;31m:\u001b[0m unexpected indent\n"
          ]
        }
      ]
    },
    {
      "cell_type": "code",
      "source": [
        "def agregar_producto():\n",
        "    while True:\n",
        "        resp = input(\"¿Quiere ingresar algún producto? Si es así, diga 'sí': \").strip().lower()\n",
        "        if resp in [\"sí\", \"si\", \"s\"]:\n",
        "            nombre = input(\"Ingrese el nombre del producto: \").strip()\n",
        "            cantidad = int(input(\"Ingrese la cantidad del producto: \"))\n",
        "            inventario[nombre] = cantidad\n",
        "            print(f\"Inventario actualizado: {inventario}\")\n",
        "        else:\n",
        "            print(\"No se ingresaron más productos.\")\n",
        "            break\n",
        "\n",
        "def buscar_producto(nombre):\n",
        "  busqueda = input(\"Ingrese el nombre del producto que desea buscar: \").strip()\n",
        "  # Removed extra indent from this line\n",
        "  if busqueda in inventario:\n",
        "        print(f\"Producto encontrado: {busqueda} - Cantidad disponible: {inventario[nombre]}\")\n",
        "    else:\n",
        "        print(f\"El producto '{nombre}' no existe en el inventario.\")\n",
        "\n",
        "agregar_producto()\n",
        "buscar_producto()"
      ],
      "metadata": {
        "colab": {
          "base_uri": "https://localhost:8080/",
          "height": 105
        },
        "id": "ewhvjgW6572G",
        "outputId": "38ebed91-cfd6-4e6d-b934-21aa15172449"
      },
      "execution_count": 35,
      "outputs": [
        {
          "output_type": "error",
          "ename": "IndentationError",
          "evalue": "unindent does not match any outer indentation level (<tokenize>, line 18)",
          "traceback": [
            "\u001b[0;36m  File \u001b[0;32m\"<tokenize>\"\u001b[0;36m, line \u001b[0;32m18\u001b[0m\n\u001b[0;31m    else:\u001b[0m\n\u001b[0m    ^\u001b[0m\n\u001b[0;31mIndentationError\u001b[0m\u001b[0;31m:\u001b[0m unindent does not match any outer indentation level\n"
          ]
        }
      ]
    },
    {
      "source": [
        "def agregar_producto():\n",
        "    while True:\n",
        "        resp = input(\"¿Quiere ingresar algún producto? Si es así, diga 'sí': \").strip().lower()\n",
        "        if resp in [\"sí\", \"si\", \"s\"]:\n",
        "            nombre = input(\"Ingrese el nombre del producto: \").strip()\n",
        "            cantidad = int(input(\"Ingrese la cantidad del producto: \"))\n",
        "            inventario[nombre] = cantidad\n",
        "            print(f\"Inventario actualizado: {inventario}\")\n",
        "        else:\n",
        "            print(\"No se ingresaron más productos.\")\n",
        "            break\n",
        "\n",
        "def buscar_producto(nombre):\n",
        "  busqueda = input(\"Ingrese el nombre del producto que desea buscar: \").strip()\n",
        "  if busqueda in inventario:\n",
        "        print(f\"Producto encontrado: {busqueda} - Cantidad disponible: {inventario[nombre]}\")\n",
        "  else: # Removed one indent from this line\n",
        "        print(f\"El producto '{nombre}' no existe en el inventario.\")\n",
        "\n",
        "agregar_producto()\n",
        "buscar_producto()"
      ],
      "cell_type": "code",
      "metadata": {
        "colab": {
          "base_uri": "https://localhost:8080/",
          "height": 275
        },
        "id": "768-dMxR6ONJ",
        "outputId": "6488ec0c-3f6b-4f3d-9d78-62d128c689b9"
      },
      "execution_count": 36,
      "outputs": [
        {
          "output_type": "stream",
          "name": "stdout",
          "text": [
            "¿Quiere ingresar algún producto? Si es así, diga 'sí': si\n",
            "Ingrese el nombre del producto: comida\n",
            "Ingrese la cantidad del producto: 33\n",
            "Inventario actualizado: {'papas': 33, 'cola': 12, 'comida': 33}\n",
            "¿Quiere ingresar algún producto? Si es así, diga 'sí': no\n",
            "No se ingresaron más productos.\n"
          ]
        },
        {
          "output_type": "error",
          "ename": "TypeError",
          "evalue": "buscar_producto() missing 1 required positional argument: 'nombre'",
          "traceback": [
            "\u001b[0;31m---------------------------------------------------------------------------\u001b[0m",
            "\u001b[0;31mTypeError\u001b[0m                                 Traceback (most recent call last)",
            "\u001b[0;32m<ipython-input-36-d95577ab9c0b>\u001b[0m in \u001b[0;36m<cell line: 21>\u001b[0;34m()\u001b[0m\n\u001b[1;32m     19\u001b[0m \u001b[0;34m\u001b[0m\u001b[0m\n\u001b[1;32m     20\u001b[0m \u001b[0magregar_producto\u001b[0m\u001b[0;34m(\u001b[0m\u001b[0;34m)\u001b[0m\u001b[0;34m\u001b[0m\u001b[0;34m\u001b[0m\u001b[0m\n\u001b[0;32m---> 21\u001b[0;31m \u001b[0mbuscar_producto\u001b[0m\u001b[0;34m(\u001b[0m\u001b[0;34m)\u001b[0m\u001b[0;34m\u001b[0m\u001b[0;34m\u001b[0m\u001b[0m\n\u001b[0m",
            "\u001b[0;31mTypeError\u001b[0m: buscar_producto() missing 1 required positional argument: 'nombre'"
          ]
        }
      ]
    },
    {
      "source": [
        "def agregar_producto():\n",
        "    while True:\n",
        "        resp = input(\"¿Quiere ingresar algún producto? Si es así, diga 'sí': \").strip().lower()\n",
        "        if resp in [\"sí\", \"si\", \"s\"]:\n",
        "            nombre = input(\"Ingrese el nombre del producto: \").strip()\n",
        "            cantidad = int(input(\"Ingrese la cantidad del producto: \"))\n",
        "            inventario[nombre] = cantidad\n",
        "            print(f\"Inventario actualizado: {inventario}\")\n",
        "        else:\n",
        "            print(\"No se ingresaron más productos.\")\n",
        "            break\n",
        "\n",
        "def buscar_producto(nombre):\n",
        "  busqueda = input(\"Ingrese el nombre del producto que desea buscar: \").strip()\n",
        "  if busqueda in inventario:\n",
        "        print(f\"Producto encontrado: {busqueda} - Cantidad disponible: {inventario[nombre]}\")\n",
        "  else:\n",
        "        print(f\"El producto '{nombre}' no existe en el inventario.\")\n",
        "\n",
        "agregar_producto()\n",
        "# You need to provide an argument to `buscar_producto` function.\n",
        "# If you intend to use the global variable `nombre`, pass it as an argument.\n",
        "buscar_producto(nombre)"
      ],
      "cell_type": "code",
      "metadata": {
        "colab": {
          "base_uri": "https://localhost:8080/",
          "height": 360
        },
        "id": "TK5MGAFP6lhJ",
        "outputId": "2df2bbe0-7ff6-41ca-d1ad-6fcab818cd98"
      },
      "execution_count": 37,
      "outputs": [
        {
          "name": "stdout",
          "output_type": "stream",
          "text": [
            "¿Quiere ingresar algún producto? Si es así, diga 'sí': no\n",
            "No se ingresaron más productos.\n",
            "Ingrese el nombre del producto que desea buscar: comida\n"
          ]
        },
        {
          "output_type": "error",
          "ename": "KeyError",
          "evalue": "0",
          "traceback": [
            "\u001b[0;31m---------------------------------------------------------------------------\u001b[0m",
            "\u001b[0;31mKeyError\u001b[0m                                  Traceback (most recent call last)",
            "\u001b[0;32m<ipython-input-37-ac694e9c6ff5>\u001b[0m in \u001b[0;36m<cell line: 23>\u001b[0;34m()\u001b[0m\n\u001b[1;32m     21\u001b[0m \u001b[0;31m# You need to provide an argument to `buscar_producto` function.\u001b[0m\u001b[0;34m\u001b[0m\u001b[0;34m\u001b[0m\u001b[0m\n\u001b[1;32m     22\u001b[0m \u001b[0;31m# If you intend to use the global variable `nombre`, pass it as an argument.\u001b[0m\u001b[0;34m\u001b[0m\u001b[0;34m\u001b[0m\u001b[0m\n\u001b[0;32m---> 23\u001b[0;31m \u001b[0mbuscar_producto\u001b[0m\u001b[0;34m(\u001b[0m\u001b[0mnombre\u001b[0m\u001b[0;34m)\u001b[0m\u001b[0;34m\u001b[0m\u001b[0;34m\u001b[0m\u001b[0m\n\u001b[0m",
            "\u001b[0;32m<ipython-input-37-ac694e9c6ff5>\u001b[0m in \u001b[0;36mbuscar_producto\u001b[0;34m(nombre)\u001b[0m\n\u001b[1;32m     14\u001b[0m   \u001b[0mbusqueda\u001b[0m \u001b[0;34m=\u001b[0m \u001b[0minput\u001b[0m\u001b[0;34m(\u001b[0m\u001b[0;34m\"Ingrese el nombre del producto que desea buscar: \"\u001b[0m\u001b[0;34m)\u001b[0m\u001b[0;34m.\u001b[0m\u001b[0mstrip\u001b[0m\u001b[0;34m(\u001b[0m\u001b[0;34m)\u001b[0m\u001b[0;34m\u001b[0m\u001b[0;34m\u001b[0m\u001b[0m\n\u001b[1;32m     15\u001b[0m   \u001b[0;32mif\u001b[0m \u001b[0mbusqueda\u001b[0m \u001b[0;32min\u001b[0m \u001b[0minventario\u001b[0m\u001b[0;34m:\u001b[0m\u001b[0;34m\u001b[0m\u001b[0;34m\u001b[0m\u001b[0m\n\u001b[0;32m---> 16\u001b[0;31m         \u001b[0mprint\u001b[0m\u001b[0;34m(\u001b[0m\u001b[0;34mf\"Producto encontrado: {busqueda} - Cantidad disponible: {inventario[nombre]}\"\u001b[0m\u001b[0;34m)\u001b[0m\u001b[0;34m\u001b[0m\u001b[0;34m\u001b[0m\u001b[0m\n\u001b[0m\u001b[1;32m     17\u001b[0m   \u001b[0;32melse\u001b[0m\u001b[0;34m:\u001b[0m\u001b[0;34m\u001b[0m\u001b[0;34m\u001b[0m\u001b[0m\n\u001b[1;32m     18\u001b[0m         \u001b[0mprint\u001b[0m\u001b[0;34m(\u001b[0m\u001b[0;34mf\"El producto '{nombre}' no existe en el inventario.\"\u001b[0m\u001b[0;34m)\u001b[0m\u001b[0;34m\u001b[0m\u001b[0;34m\u001b[0m\u001b[0m\n",
            "\u001b[0;31mKeyError\u001b[0m: 0"
          ]
        }
      ]
    },
    {
      "cell_type": "code",
      "source": [
        "def agregar_producto():\n",
        "    while True:\n",
        "        resp = input(\"¿Quiere ingresar algún producto? Si es así, diga 'sí': \").strip().lower()\n",
        "        if resp in [\"sí\", \"si\", \"s\"]:\n",
        "            nombre = input(\"Ingrese el nombre del producto: \").strip()\n",
        "            cantidad = int(input(\"Ingrese la cantidad del producto: \"))\n",
        "            inventario[nombre] = cantidad\n",
        "            print(f\"Inventario actualizado: {inventario}\")\n",
        "        else:\n",
        "            print(\"No se ingresaron más productos.\")\n",
        "            break\n",
        "\n",
        "def buscar_producto():\n",
        "  print(inventario)\n",
        "    busqueda = input(\"Ingrese el nombre del producto que desea buscar: \").strip()\n",
        "    if busqueda in inventario:\n",
        "        print(f\"Producto encontrado: {busqueda} - Cantidad disponible: {inventario[busqueda]}\")\n",
        "    else:\n",
        "        print(f\"El producto '{busqueda}' no existe en el inventario.\")\n",
        "\n",
        "agregar_producto()\n",
        "\n",
        "buscar_producto()\n",
        "\n"
      ],
      "metadata": {
        "colab": {
          "base_uri": "https://localhost:8080/",
          "height": 105
        },
        "id": "Si7qN9Yt773u",
        "outputId": "17433092-c46b-4c3c-b4d6-a29623b65362"
      },
      "execution_count": 45,
      "outputs": [
        {
          "output_type": "error",
          "ename": "IndentationError",
          "evalue": "unexpected indent (<ipython-input-45-2819173c6628>, line 15)",
          "traceback": [
            "\u001b[0;36m  File \u001b[0;32m\"<ipython-input-45-2819173c6628>\"\u001b[0;36m, line \u001b[0;32m15\u001b[0m\n\u001b[0;31m    busqueda = input(\"Ingrese el nombre del producto que desea buscar: \").strip()\u001b[0m\n\u001b[0m    ^\u001b[0m\n\u001b[0;31mIndentationError\u001b[0m\u001b[0;31m:\u001b[0m unexpected indent\n"
          ]
        }
      ]
    },
    {
      "cell_type": "code",
      "source": [
        "inventario = {}\n",
        "\n",
        "def agregar_producto():\n",
        "    while True:\n",
        "        resp = input(\"¿Quiere ingresar algún producto? Si es así, diga 'sí': \").strip().lower()\n",
        "        if resp in [\"sí\", \"si\", \"s\"]:\n",
        "            nombre = input(\"Ingrese el nombre del producto: \").strip()\n",
        "            cantidad = int(input(\"Ingrese la cantidad del producto: \"))\n",
        "            inventario[nombre] = cantidad\n",
        "            print(f\"Inventario actualizado: {inventario}\")\n",
        "        else:\n",
        "            print(\"No se ingresaron más productos.\")\n",
        "            break\n",
        "\n",
        "def buscar_producto():\n",
        "    busqueda = input(\"Ingrese el nombre del producto que desea buscar: \").strip()\n",
        "    if busqueda in inventario:\n",
        "        print(f\"Producto encontrado: {busqueda} - Cantidad disponible: {inventario[busqueda]}\")\n",
        "    else:\n",
        "        print(f\"El producto '{busqueda}' no existe en el inventario.\")\n",
        "\n",
        "agregar_producto()\n",
        "\n",
        "buscar_producto()\n"
      ],
      "metadata": {
        "colab": {
          "base_uri": "https://localhost:8080/"
        },
        "id": "HMt2Sps78rPj",
        "outputId": "39d16eb6-6932-48ef-d127-6e209d6e2c89"
      },
      "execution_count": 48,
      "outputs": [
        {
          "output_type": "stream",
          "name": "stdout",
          "text": [
            "¿Quiere ingresar algún producto? Si es así, diga 'sí': no\n",
            "No se ingresaron más productos.\n",
            "Ingrese el nombre del producto que desea buscar: comida\n",
            "El producto 'comida' no existe en el inventario.\n"
          ]
        }
      ]
    },
    {
      "cell_type": "code",
      "source": [
        "inventario = {}\n",
        "\n",
        "def agregar_producto():\n",
        "    while True:\n",
        "        resp = input(\"¿Quiere ingresar algún producto? Si es así, diga 'sí': \").strip().lower()\n",
        "        if resp in [\"sí\", \"si\", \"s\"]:\n",
        "            nombre = input(\"Ingrese el nombre del producto: \").strip()\n",
        "            cantidad = int(input(\"Ingrese la cantidad del producto: \"))\n",
        "            inventario[nombre] = cantidad\n",
        "            print(f\"Inventario actualizado: {inventario}\")\n",
        "        else:\n",
        "            print(\"No se ingresaron más productos.\")\n",
        "            break\n",
        "\n",
        "def buscar_producto():\n",
        "    busqueda = input(\"Ingrese el nombre del producto que desea buscar: \").strip()\n",
        "    if busqueda in inventario:\n",
        "        print(f\"Producto encontrado: {busqueda} - Cantidad disponible: {inventario[busqueda]}\")\n",
        "    else:\n",
        "        print(f\"El producto '{busqueda}' no existe en el inventario.\")\n",
        "\n",
        "# Primero agregas los productos\n",
        "agregar_producto()\n",
        "\n",
        "# Luego los buscas\n",
        "buscar_producto()\n"
      ],
      "metadata": {
        "colab": {
          "base_uri": "https://localhost:8080/"
        },
        "id": "rpiQhTmL9mlv",
        "outputId": "14167b56-df15-4061-9681-a0febb8b7a0e"
      },
      "execution_count": 49,
      "outputs": [
        {
          "output_type": "stream",
          "name": "stdout",
          "text": [
            "¿Quiere ingresar algún producto? Si es así, diga 'sí': no\n",
            "No se ingresaron más productos.\n",
            "Ingrese el nombre del producto que desea buscar: papas\n",
            "El producto 'papas' no existe en el inventario.\n"
          ]
        }
      ]
    },
    {
      "cell_type": "code",
      "source": [
        "inventario = {}\n",
        "\n",
        "def agregar_producto():\n",
        "    while True:\n",
        "        resp = input(\"¿Quiere ingresar algún producto? Si es así, diga 'sí': \").strip().lower()\n",
        "        if resp in [\"sí\", \"si\", \"s\"]:\n",
        "            nombre = input(\"Ingrese el nombre del producto: \").strip()\n",
        "            cantidad = int(input(\"Ingrese la cantidad del producto: \"))\n",
        "            inventario[nombre] = cantidad\n",
        "            print(f\"Inventario actualizado: {inventario}\")\n",
        "        else:\n",
        "            print(\"No se ingresaron más productos.\")\n",
        "            break\n",
        "\n",
        "def buscar_producto():\n",
        "    bus=input(\"Ingrese el nombre del producto que desea buscar: \").strip()\n",
        "    if bus in inventario:\n",
        "        print(f\"Producto encontrado: {nombre} - Cantidad disponible: {inventario[nombre]}\")\n",
        "    else:\n",
        "        print(f\"El producto '{nombre}' no existe en el inventario.\")\n",
        "\n",
        "agregar_producto()\n",
        "\n",
        "# Ejemplo de uso de la función buscar_producto\n",
        "producto_a_buscar = input(\"Ingrese el nombre del producto que desea buscar: \").strip()\n",
        "buscar_producto(producto_a_buscar)\n",
        "\n"
      ],
      "metadata": {
        "colab": {
          "base_uri": "https://localhost:8080/",
          "height": 377
        },
        "id": "AW232NIq960k",
        "outputId": "d3398acc-a0c6-47c2-8492-099d0b6d564d"
      },
      "execution_count": 52,
      "outputs": [
        {
          "name": "stdout",
          "output_type": "stream",
          "text": [
            "¿Quiere ingresar algún producto? Si es así, diga 'sí': si\n",
            "Ingrese el nombre del producto: comida\n",
            "Ingrese la cantidad del producto: 22\n",
            "Inventario actualizado: {'comida': 22}\n",
            "¿Quiere ingresar algún producto? Si es así, diga 'sí': si\n",
            "Ingrese el nombre del producto: producto\n",
            "Ingrese la cantidad del producto: 11\n",
            "Inventario actualizado: {'comida': 22, 'producto': 11}\n",
            "¿Quiere ingresar algún producto? Si es así, diga 'sí': refresco\n",
            "No se ingresaron más productos.\n",
            "Ingrese el nombre del producto que desea buscar: comida\n"
          ]
        },
        {
          "output_type": "error",
          "ename": "TypeError",
          "evalue": "buscar_producto() takes 0 positional arguments but 1 was given",
          "traceback": [
            "\u001b[0;31m---------------------------------------------------------------------------\u001b[0m",
            "\u001b[0;31mTypeError\u001b[0m                                 Traceback (most recent call last)",
            "\u001b[0;32m<ipython-input-52-f5a9156dd573>\u001b[0m in \u001b[0;36m<cell line: 26>\u001b[0;34m()\u001b[0m\n\u001b[1;32m     24\u001b[0m \u001b[0;31m# Ejemplo de uso de la función buscar_producto\u001b[0m\u001b[0;34m\u001b[0m\u001b[0;34m\u001b[0m\u001b[0m\n\u001b[1;32m     25\u001b[0m \u001b[0mproducto_a_buscar\u001b[0m \u001b[0;34m=\u001b[0m \u001b[0minput\u001b[0m\u001b[0;34m(\u001b[0m\u001b[0;34m\"Ingrese el nombre del producto que desea buscar: \"\u001b[0m\u001b[0;34m)\u001b[0m\u001b[0;34m.\u001b[0m\u001b[0mstrip\u001b[0m\u001b[0;34m(\u001b[0m\u001b[0;34m)\u001b[0m\u001b[0;34m\u001b[0m\u001b[0;34m\u001b[0m\u001b[0m\n\u001b[0;32m---> 26\u001b[0;31m \u001b[0mbuscar_producto\u001b[0m\u001b[0;34m(\u001b[0m\u001b[0mproducto_a_buscar\u001b[0m\u001b[0;34m)\u001b[0m\u001b[0;34m\u001b[0m\u001b[0;34m\u001b[0m\u001b[0m\n\u001b[0m\u001b[1;32m     27\u001b[0m \u001b[0;34m\u001b[0m\u001b[0m\n",
            "\u001b[0;31mTypeError\u001b[0m: buscar_producto() takes 0 positional arguments but 1 was given"
          ]
        }
      ]
    },
    {
      "cell_type": "code",
      "source": [
        "inventario = {}\n",
        "\n",
        "def agregar_producto():\n",
        "    while True:\n",
        "        resp = input(\"¿Quiere ingresar algún producto? Si es así, diga 'sí': \").strip().lower()\n",
        "        if resp in [\"sí\", \"si\", \"s\"]:\n",
        "            nombre = input(\"Ingrese el nombre del producto: \").strip()\n",
        "            cantidad = int(input(\"Ingrese la cantidad del producto: \"))\n",
        "            inventario[nombre] = cantidad\n",
        "            print(f\"Inventario actualizado: {inventario}\")\n",
        "        else:\n",
        "            print(\"No se ingresaron más productos.\")\n",
        "            break\n",
        "\n",
        "def buscar_producto():\n",
        "    bus = input(\"Ingrese el nombre del producto que desea buscar: \").strip()\n",
        "    if bus in inventario:\n",
        "        print(f\"Producto encontrado: {bus} - Cantidad disponible: {inventario[bus]}\")\n",
        "    else:\n",
        "        print(f\"El producto '{bus}' no existe en el inventario.\")\n",
        "def actualizar_cantidad():\n",
        "  while True:\n",
        "        resp = input(\"¿Quiere actualizar algún producto? Si es así, diga 'sí': \").strip().lower()\n",
        "        if resp in [\"sí\", \"si\", \"s\"]:\n",
        "            print(f\"Productos disponibles en el inventario: {inventario}\")\n",
        "            act = input(\"Ingrese el nombre del producto que desea actualizar: \").strip()\n",
        "            if act in inventario:\n",
        "                nueva = int(input(\"Ingrese la nueva cantidad del producto: \"))\n",
        "                inventario[act] = nueva\n",
        "                print(f\"Inventario actualizado: {inventario}\")\n",
        "            else:\n",
        "                print(f\"El producto '{act}' no existe en el inventario.\")\n",
        "        else:\n",
        "            print(\"No se actalizaran los productos.\")\n",
        "            break\n",
        "def eliminar_producto():\n",
        "  while True:\n",
        "        resp = input(\"¿Quiere eliminar algún producto? Si es así, diga 'sí': \").strip().lower()\n",
        "        if resp in [\"sí\", \"si\", \"s\"]:\n",
        "            print(f\"Productos disponibles en el inventario: {inventario}\")\n",
        "            eliminar= input(\"Ingrese el nombre del producto que desea eliminar: \").strip()\n",
        "            if eliminar in inventario:\n",
        "                del inventario[eliminar]\n",
        "                print(f\"Inventario actualizado: {inventario}\")\n",
        "            else:\n",
        "                print(f\"El producto '{eliminar}' no existe en el inventario.\")\n",
        "        else:\n",
        "            print(\"No se eliminaran los productos.\")\n",
        "            break\n",
        "agregar_producto()\n",
        "buscar_producto()\n",
        "actualizar_cantidad()\n",
        "eliminar_producto()\n",
        "\n",
        "\n"
      ],
      "metadata": {
        "colab": {
          "base_uri": "https://localhost:8080/"
        },
        "id": "iw9VSItuHTaZ",
        "outputId": "2cd6840e-e9c4-4513-f799-40b7f383d090"
      },
      "execution_count": 63,
      "outputs": [
        {
          "output_type": "stream",
          "name": "stdout",
          "text": [
            "¿Quiere ingresar algún producto? Si es así, diga 'sí': si\n",
            "Ingrese el nombre del producto: papas\n",
            "Ingrese la cantidad del producto: 22\n",
            "Inventario actualizado: {'papas': 22}\n",
            "¿Quiere ingresar algún producto? Si es así, diga 'sí': si\n",
            "Ingrese el nombre del producto: refresco\n",
            "Ingrese la cantidad del producto: 33\n",
            "Inventario actualizado: {'papas': 22, 'refresco': 33}\n",
            "¿Quiere ingresar algún producto? Si es así, diga 'sí': si\n",
            "Ingrese el nombre del producto: coca\n",
            "Ingrese la cantidad del producto: 2\n",
            "Inventario actualizado: {'papas': 22, 'refresco': 33, 'coca': 2}\n",
            "¿Quiere ingresar algún producto? Si es así, diga 'sí': si\n",
            "Ingrese el nombre del producto: coca\n",
            "Ingrese la cantidad del producto: 22\n",
            "Inventario actualizado: {'papas': 22, 'refresco': 33, 'coca': 22}\n",
            "¿Quiere ingresar algún producto? Si es así, diga 'sí': si\n",
            "Ingrese el nombre del producto: dulces\n",
            "Ingrese la cantidad del producto: 54\n",
            "Inventario actualizado: {'papas': 22, 'refresco': 33, 'coca': 22, 'dulces': 54}\n",
            "¿Quiere ingresar algún producto? Si es así, diga 'sí': no\n",
            "No se ingresaron más productos.\n",
            "Ingrese el nombre del producto que desea buscar: papas\n",
            "Producto encontrado: papas - Cantidad disponible: 22\n",
            "¿Quiere actualizar algún producto? Si es así, diga 'sí': si\n",
            "Productos disponibles en el inventario: {'papas': 22, 'refresco': 33, 'coca': 22, 'dulces': 54}\n",
            "Ingrese el nombre del producto que desea actualizar: refresco\n",
            "Ingrese la nueva cantidad del producto: 23\n",
            "Inventario actualizado: {'papas': 22, 'refresco': 23, 'coca': 22, 'dulces': 54}\n",
            "¿Quiere actualizar algún producto? Si es así, diga 'sí': no\n",
            "No se actalizaran los productos.\n",
            "¿Quiere eliminar algún producto? Si es así, diga 'sí': si\n",
            "Productos disponibles en el inventario: {'papas': 22, 'refresco': 23, 'coca': 22, 'dulces': 54}\n",
            "Ingrese el nombre del producto que desea eliminar: papas\n",
            "Inventario actualizado: {'refresco': 23, 'coca': 22, 'dulces': 54}\n",
            "¿Quiere eliminar algún producto? Si es así, diga 'sí': no\n",
            "No se eliminaran los productos.\n"
          ]
        }
      ]
    }
  ]
}