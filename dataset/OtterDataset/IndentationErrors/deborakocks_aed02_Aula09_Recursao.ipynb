{
 "cells": [
  {
   "cell_type": "markdown",
   "metadata": {},
   "source": [
    "![Algoritmos e Estrutura de Dados II - Prof Piva](AED2_banner.jpg)"
   ]
  },
  {
   "cell_type": "markdown",
   "metadata": {
    "id": "vN5dGU1I7nNg"
   },
   "source": [
    "## Aula 9 - Recursão"
   ]
  },
  {
   "cell_type": "markdown",
   "metadata": {},
   "source": [
    "![Recursao. Chocolate Droste](recursao.jpg)"
   ]
  },
  {
   "cell_type": "code",
   "execution_count": 18,
   "metadata": {},
   "outputs": [
    {
     "ename": "IndentationError",
     "evalue": "expected an indented block after function definition on line 2 (1641529782.py, line 3)",
     "output_type": "error",
     "traceback": [
      "\u001b[1;36m  Cell \u001b[1;32mIn[18], line 3\u001b[1;36m\u001b[0m\n\u001b[1;33m    x = 0\u001b[0m\n\u001b[1;37m    ^\u001b[0m\n\u001b[1;31mIndentationError\u001b[0m\u001b[1;31m:\u001b[0m expected an indented block after function definition on line 2\n"
     ]
    }
   ],
   "source": [
    "#FATORIAL SEM RECURSÃO\n",
    "def fat(n):\n",
    "x = 0\n",
    "    while (n) \n",
    "        a = n-1\n",
    "        b = n * a\n",
    "        n = a\n",
    "        x += b\n",
    "         \n"
   ]
  },
  {
   "cell_type": "code",
   "execution_count": 19,
   "metadata": {},
   "outputs": [],
   "source": [
    "#FATORIAL SEM RECURSÃO\n",
    "def fat (n):\n",
    "    if (n<0):\n",
    "        return -1\n",
    "    if (n == 0) or (n == 1):\n",
    "        return 1\n",
    "    f = 1\n",
    "    for i in range (1, n+1):\n",
    "        f *= i\n",
    "    return f"
   ]
  },
  {
   "cell_type": "markdown",
   "metadata": {
    "id": "Tqg0Orl18B49"
   },
   "source": [
    "#### Mostrar mensagens"
   ]
  },
  {
   "cell_type": "code",
   "execution_count": 20,
   "metadata": {
    "colab": {
     "base_uri": "https://localhost:8080/",
     "height": 125
    },
    "id": "wVgOQ8ZR_Jkp",
    "outputId": "df36ce26-e239-443a-b0f2-f452a9b98434"
   },
   "outputs": [
    {
     "name": "stdout",
     "output_type": "stream",
     "text": [
      "Recursão\n",
      "Recursão\n",
      "Recursão\n",
      "Recursão\n",
      "Recursão\n"
     ]
    }
   ],
   "source": [
    "for _ in range(5):\n",
    "  print('Recursão')"
   ]
  },
  {
   "cell_type": "code",
   "execution_count": 21,
   "metadata": {
    "id": "Rgs9ln20_cTk"
   },
   "outputs": [],
   "source": [
    "def recursao(i):\n",
    "  print('Recursão')\n",
    "  i += 1\n",
    "  if i == 5:\n",
    "    return\n",
    "  else:\n",
    "    recursao(i)"
   ]
  },
  {
   "cell_type": "code",
   "execution_count": 22,
   "metadata": {
    "colab": {
     "base_uri": "https://localhost:8080/",
     "height": 125
    },
    "id": "qNXqEuSg_hYJ",
    "outputId": "c69c72f8-cd1a-4138-b664-c5f9bb8bf476"
   },
   "outputs": [
    {
     "name": "stdout",
     "output_type": "stream",
     "text": [
      "Recursão\n",
      "Recursão\n",
      "Recursão\n",
      "Recursão\n",
      "Recursão\n"
     ]
    }
   ],
   "source": [
    "recursao(0)"
   ]
  },
  {
   "cell_type": "code",
   "execution_count": 23,
   "metadata": {},
   "outputs": [
    {
     "name": "stdout",
     "output_type": "stream",
     "text": [
      "Recursão\n"
     ]
    }
   ],
   "source": [
    "recursao(4)"
   ]
  },
  {
   "cell_type": "markdown",
   "metadata": {
    "id": "TUD8Y4wkPPZ_"
   },
   "source": [
    "#### Somar valores"
   ]
  },
  {
   "cell_type": "code",
   "execution_count": 24,
   "metadata": {
    "id": "3fnG2UZcI0m2"
   },
   "outputs": [],
   "source": [
    "def soma1(n):\n",
    "  soma = 0\n",
    "  for i in range(n + 1):\n",
    "    soma += i\n",
    "  return soma"
   ]
  },
  {
   "cell_type": "code",
   "execution_count": 25,
   "metadata": {
    "colab": {
     "base_uri": "https://localhost:8080/",
     "height": 55
    },
    "id": "5c8qin57JD2r",
    "outputId": "837fe56c-13bc-40ae-be43-57d5f9f957ff"
   },
   "outputs": [
    {
     "data": {
      "text/plain": [
       "15"
      ]
     },
     "execution_count": 25,
     "metadata": {},
     "output_type": "execute_result"
    }
   ],
   "source": [
    "soma1(5)"
   ]
  },
  {
   "cell_type": "code",
   "execution_count": 26,
   "metadata": {
    "id": "DCxZidZXJH7O"
   },
   "outputs": [],
   "source": [
    "def soma2(n):\n",
    "  if n == 0:\n",
    "    return 0\n",
    "\n",
    "  return n + soma2(n - 1)"
   ]
  },
  {
   "cell_type": "code",
   "execution_count": 27,
   "metadata": {
    "colab": {
     "base_uri": "https://localhost:8080/",
     "height": 55
    },
    "id": "r7VtUCruJX6h",
    "outputId": "70ff7f6c-1cab-4df0-8a15-4e43d9a7972b"
   },
   "outputs": [
    {
     "data": {
      "text/plain": [
       "15"
      ]
     },
     "execution_count": 27,
     "metadata": {},
     "output_type": "execute_result"
    }
   ],
   "source": [
    "soma2(5)"
   ]
  },
  {
   "cell_type": "code",
   "execution_count": 32,
   "metadata": {
    "colab": {
     "base_uri": "https://localhost:8080/",
     "height": 55
    },
    "id": "uUgeSIbSJcwh",
    "outputId": "b2d4bf13-d153-41f7-da3a-7d2a9615d3d1"
   },
   "outputs": [
    {
     "name": "stdout",
     "output_type": "stream",
     "text": [
      "7.31 μs ± 91.6 ns per loop (mean ± std. dev. of 7 runs, 100,000 loops each)\n"
     ]
    }
   ],
   "source": [
    "%timeit soma1(100)"
   ]
  },
  {
   "cell_type": "code",
   "execution_count": 29,
   "metadata": {
    "colab": {
     "base_uri": "https://localhost:8080/",
     "height": 55
    },
    "id": "agSmbyzjJmJ9",
    "outputId": "9d3c2715-8144-4fa3-b945-3cd2345b2c1e"
   },
   "outputs": [
    {
     "name": "stdout",
     "output_type": "stream",
     "text": [
      "13.9 μs ± 79.6 ns per loop (mean ± std. dev. of 7 runs, 100,000 loops each)\n"
     ]
    }
   ],
   "source": [
    "%timeit soma2(100)"
   ]
  },
  {
   "cell_type": "markdown",
   "metadata": {},
   "source": [
    "#### Fatorial"
   ]
  },
  {
   "cell_type": "code",
   "execution_count": 30,
   "metadata": {},
   "outputs": [],
   "source": [
    "def fatorial(n):\n",
    "   if n > 1:\n",
    "      return n * fatorial(n-1)\n",
    "   else:\n",
    "      return 1"
   ]
  },
  {
   "cell_type": "code",
   "execution_count": 31,
   "metadata": {},
   "outputs": [
    {
     "data": {
      "text/plain": [
       "120"
      ]
     },
     "execution_count": 31,
     "metadata": {},
     "output_type": "execute_result"
    }
   ],
   "source": [
    "fatorial(5)"
   ]
  },
  {
   "cell_type": "markdown",
   "metadata": {},
   "source": [
    "### Fibonacci"
   ]
  },
  {
   "cell_type": "markdown",
   "metadata": {},
   "source": [
    "#### Fibonacci Recursivo"
   ]
  },
  {
   "cell_type": "code",
   "execution_count": 1,
   "metadata": {},
   "outputs": [],
   "source": [
    "def fib(n):\n",
    "    \"\"\"A função Fibonacci recursiva.\"\"\"\n",
    "    if n < 3:\n",
    "        return 1\n",
    "    else:\n",
    "       return fib(n - 1) + fib(n - 2)"
   ]
  },
  {
   "cell_type": "code",
   "execution_count": 6,
   "metadata": {},
   "outputs": [
    {
     "name": "stdout",
     "output_type": "stream",
     "text": [
      "704 µs ± 23.9 µs per loop (mean ± std. dev. of 7 runs, 1,000 loops each)\n"
     ]
    }
   ],
   "source": [
    "%timeit fib(20)"
   ]
  },
  {
   "cell_type": "markdown",
   "metadata": {},
   "source": [
    "#### Fibonacci Linear"
   ]
  },
  {
   "cell_type": "code",
   "execution_count": 3,
   "metadata": {},
   "outputs": [],
   "source": [
    "def fibonacci(N):\n",
    "    if N <= 0:\n",
    "        return \"O valor de N deve ser maior que 0\"\n",
    "    elif N == 1:\n",
    "        return 1\n",
    "    elif N == 2:\n",
    "        return 1\n",
    "\n",
    "    sum, first, second = 1, 1, 1\n",
    "    count = 3\n",
    "\n",
    "    while count <= N:\n",
    "        sum = first + second\n",
    "        first = second\n",
    "        second = sum\n",
    "        count += 1\n",
    "\n",
    "    return sum"
   ]
  },
  {
   "cell_type": "code",
   "execution_count": 4,
   "metadata": {},
   "outputs": [],
   "source": [
    "def fib2(n):\n",
    "    for i in range(1, n+1):\n",
    "        fibonacci(i)\n",
    "    return"
   ]
  },
  {
   "cell_type": "code",
   "execution_count": 7,
   "metadata": {},
   "outputs": [
    {
     "name": "stdout",
     "output_type": "stream",
     "text": [
      "8.5 µs ± 168 ns per loop (mean ± std. dev. of 7 runs, 100,000 loops each)\n"
     ]
    }
   ],
   "source": [
    "%timeit fib2(20)"
   ]
  },
  {
   "cell_type": "code",
   "execution_count": null,
   "metadata": {},
   "outputs": [],
   "source": []
  },
  {
   "cell_type": "markdown",
   "metadata": {},
   "source": [
    "## Exercícios"
   ]
  },
  {
   "cell_type": "markdown",
   "metadata": {},
   "source": [
    "#### Exercício 1: Soma de uma Lista\n",
    "Implemente uma função recursiva para calcular a soma dos elementos de uma lista de números inteiros. A função deve receber a lista como parâmetro e retornar a soma dos seus elementos.\n",
    "\n",
    "Descrição:\n",
    "- A função recursiva deve ser chamada repetidamente até que todos os elementos da lista sejam somados.\n",
    "- Caso base: se a lista estiver vazia, o resultado deve ser 0.\n",
    "- Caso recursivo: a soma do primeiro elemento da lista com a soma dos elementos restantes."
   ]
  },
  {
   "cell_type": "code",
   "execution_count": 34,
   "metadata": {},
   "outputs": [],
   "source": [
    "lista = list(range(1, 21))"
   ]
  },
  {
   "cell_type": "code",
   "execution_count": 35,
   "metadata": {},
   "outputs": [],
   "source": [
    "# Resposta\n",
    "def soma_lista(lista):\n",
    "    s = 0\n",
    "    if lista != []:\n",
    "        s = lista.pop() + soma_lista(lista)\n",
    "    return 0\n"
   ]
  },
  {
   "cell_type": "code",
   "execution_count": 36,
   "metadata": {},
   "outputs": [
    {
     "name": "stdout",
     "output_type": "stream",
     "text": [
      "169 ns ± 1.22 ns per loop (mean ± std. dev. of 7 runs, 10,000,000 loops each)\n"
     ]
    }
   ],
   "source": [
    "%timeit soma_lista(lista)"
   ]
  },
  {
   "cell_type": "code",
   "execution_count": 37,
   "metadata": {
    "scrolled": true
   },
   "outputs": [
    {
     "data": {
      "text/plain": [
       "0"
      ]
     },
     "execution_count": 37,
     "metadata": {},
     "output_type": "execute_result"
    }
   ],
   "source": [
    "soma_lista(lista)"
   ]
  },
  {
   "cell_type": "code",
   "execution_count": 39,
   "metadata": {},
   "outputs": [
    {
     "data": {
      "text/plain": [
       "0"
      ]
     },
     "execution_count": 39,
     "metadata": {},
     "output_type": "execute_result"
    }
   ],
   "source": [
    "lista = list(range(1, 21))\n",
    "soma_lista(lista)"
   ]
  },
  {
   "cell_type": "code",
   "execution_count": 38,
   "metadata": {},
   "outputs": [],
   "source": [
    "def soma_lista2(lista):\n",
    "    s = 0\n",
    "    for i in range (len(lista)):\n",
    "        s += lista [i]\n",
    "    return s"
   ]
  },
  {
   "cell_type": "code",
   "execution_count": 40,
   "metadata": {},
   "outputs": [
    {
     "name": "stdout",
     "output_type": "stream",
     "text": [
      "1.49 μs ± 17.1 ns per loop (mean ± std. dev. of 7 runs, 1,000,000 loops each)\n"
     ]
    }
   ],
   "source": [
    "lista = list(range(1,21))\n",
    "%timeit soma_lista2(lista)"
   ]
  },
  {
   "cell_type": "markdown",
   "metadata": {},
   "source": [
    "#### Exercício 2: Potenciação Recursiva\n",
    "Implemente uma função recursiva para calcular a potência de um número inteiro. A função deve receber dois parâmetros: a base e o expoente, e retornar o resultado da base elevada ao expoente.\n",
    "\n",
    "Descrição:\n",
    "- O caso base ocorre quando o expoente é 0, onde qualquer número elevado a 0 é 1.\n",
    "- O caso recursivo multiplica a base por ela mesma, diminuindo o expoente em 1 a cada chamada recursiva."
   ]
  },
  {
   "cell_type": "code",
   "execution_count": 3,
   "metadata": {},
   "outputs": [],
   "source": [
    "# Resposta\n",
    "def expo(i, n):\n",
    "    if n == 0:\n",
    "        return 1\n",
    "    else: \n",
    "        return i * expo(i, n-1)\n"
   ]
  },
  {
   "cell_type": "code",
   "execution_count": 4,
   "metadata": {},
   "outputs": [
    {
     "data": {
      "text/plain": [
       "125"
      ]
     },
     "execution_count": 4,
     "metadata": {},
     "output_type": "execute_result"
    }
   ],
   "source": [
    "expo(5, 3)"
   ]
  },
  {
   "cell_type": "code",
   "execution_count": 5,
   "metadata": {
    "scrolled": true
   },
   "outputs": [
    {
     "name": "stdout",
     "output_type": "stream",
     "text": [
      "557 ns ± 4.09 ns per loop (mean ± std. dev. of 7 runs, 1,000,000 loops each)\n"
     ]
    }
   ],
   "source": [
    "%timeit expo(5, 3)"
   ]
  },
  {
   "cell_type": "code",
   "execution_count": 6,
   "metadata": {},
   "outputs": [],
   "source": [
    "def expo2(i,n):\n",
    "    e = 1\n",
    "    while n>0:\n",
    "        e *= i\n",
    "        n -= 1\n",
    "        return e"
   ]
  },
  {
   "cell_type": "code",
   "execution_count": 7,
   "metadata": {},
   "outputs": [
    {
     "data": {
      "text/plain": [
       "125"
      ]
     },
     "execution_count": 7,
     "metadata": {},
     "output_type": "execute_result"
    }
   ],
   "source": [
    "expo (5,3)"
   ]
  },
  {
   "cell_type": "code",
   "execution_count": 8,
   "metadata": {},
   "outputs": [
    {
     "name": "stdout",
     "output_type": "stream",
     "text": [
      "562 ns ± 3.34 ns per loop (mean ± std. dev. of 7 runs, 1,000,000 loops each)\n"
     ]
    }
   ],
   "source": [
    "%timeit expo(5,3)"
   ]
  },
  {
   "cell_type": "markdown",
   "metadata": {},
   "source": [
    "## Fim da Aula 9"
   ]
  }
 ],
 "metadata": {
  "colab": {
   "provenance": []
  },
  "kernelspec": {
   "display_name": "Python 3 (ipykernel)",
   "language": "python",
   "name": "python3"
  },
  "language_info": {
   "codemirror_mode": {
    "name": "ipython",
    "version": 3
   },
   "file_extension": ".py",
   "mimetype": "text/x-python",
   "name": "python",
   "nbconvert_exporter": "python",
   "pygments_lexer": "ipython3",
   "version": "3.12.4"
  }
 },
 "nbformat": 4,
 "nbformat_minor": 4
}
