{
 "cells": [
  {
   "cell_type": "code",
   "execution_count": 9,
   "id": "e72a907a-c70d-4ed9-8caa-6afea535860d",
   "metadata": {},
   "outputs": [
    {
     "name": "stdout",
     "output_type": "stream",
     "text": [
      "Hello\n",
      "Hello\n",
      "Hello\n"
     ]
    }
   ],
   "source": [
    "count = 0 \n",
    "while(count<3):\n",
    " count = count+1\n",
    "\n",
    " print(\"Hello\")"
   ]
  },
  {
   "cell_type": "code",
   "execution_count": null,
   "id": "8da30d27-beb0-4d18-b2b2-94e27166e628",
   "metadata": {},
   "outputs": [],
   "source": []
  },
  {
   "cell_type": "code",
   "execution_count": 7,
   "id": "c9b096ca-c279-4fce-ba26-142a17fd2af8",
   "metadata": {},
   "outputs": [
    {
     "name": "stdout",
     "output_type": "stream",
     "text": [
      "Salute,captain smith!\n",
      "Salute,liuteunent jhonsaon!\n",
      "Salute,major lee!\n"
     ]
    }
   ],
   "source": [
    "officers = ['captain smith', 'liuteunent jhonsaon', 'major lee']\n",
    "\n",
    "for officer in officers:\n",
    "    print(\"Salute,{0}!\".format(officer))\n",
    "\n"
   ]
  },
  {
   "cell_type": "code",
   "execution_count": null,
   "id": "b935957c-7d25-4486-8836-bc90c2abf739",
   "metadata": {},
   "outputs": [],
   "source": []
  },
  {
   "cell_type": "code",
   "execution_count": 24,
   "id": "06ea0e8e-7085-4121-a50e-57206e9b7a5b",
   "metadata": {},
   "outputs": [],
   "source": [
    "def picard_beverages():\n",
    "     \"make captain picard's beverages\"\n",
    "     beverage = \"tea  \"\n",
    "     kind = \"earl grey    \"\n",
    "     temperature = \"hot\"\n",
    "     return beverage + kind +temperature\n",
    "    \n",
    "   "
   ]
  },
  {
   "cell_type": "code",
   "execution_count": 25,
   "id": "59291b10-7e70-4bf5-bc9b-2e8e7d2523cf",
   "metadata": {},
   "outputs": [
    {
     "data": {
      "text/plain": [
       "'tea  earl grey    hot'"
      ]
     },
     "execution_count": 25,
     "metadata": {},
     "output_type": "execute_result"
    }
   ],
   "source": [
    "picard_beverages()"
   ]
  },
  {
   "cell_type": "code",
   "execution_count": 26,
   "id": "ed4052f3-7010-4373-89b0-243f1c9475bb",
   "metadata": {},
   "outputs": [
    {
     "name": "stdout",
     "output_type": "stream",
     "text": [
      "make captain picard's beverages\n"
     ]
    }
   ],
   "source": [
    "print(picard_beverages.__doc__)\n"
   ]
  },
  {
   "cell_type": "code",
   "execution_count": 27,
   "id": "46ebd9de-10c7-4b25-9aad-065524e22dea",
   "metadata": {},
   "outputs": [],
   "source": [
    "def area_triangle(base = 50, height = 1.0):\n",
    "    '''Calculate the area of triangle '''\n",
    "    area  = base*height/2\n",
    "    return area"
   ]
  },
  {
   "cell_type": "code",
   "execution_count": 28,
   "id": "2417fe5c-5f3b-4e69-9295-82637de546b1",
   "metadata": {},
   "outputs": [
    {
     "data": {
      "text/plain": [
       "25.0"
      ]
     },
     "execution_count": 28,
     "metadata": {},
     "output_type": "execute_result"
    }
   ],
   "source": [
    "area_triangle()"
   ]
  },
  {
   "cell_type": "code",
   "execution_count": 31,
   "id": "16afdc25-24cb-4f8c-a191-582c3978fd8a",
   "metadata": {},
   "outputs": [
    {
     "name": "stdout",
     "output_type": "stream",
     "text": [
      "100.0\n"
     ]
    }
   ],
   "source": [
    "a1 = area_triangle(50,4)\n",
    "print(a1)"
   ]
  },
  {
   "cell_type": "code",
   "execution_count": 43,
   "id": "518727bf-9111-4c15-92a0-b82666f62507",
   "metadata": {},
   "outputs": [],
   "source": [
    "def con_temp(temp, scale):\n",
    "    if scale == 'C':\n",
    "     return (temp*9/5)+32\n",
    "     print('converting {0} C'.format(temp)) \n",
    "    elif scale == 'F':\n",
    "     return (temp - 32)*5/9\n",
    "    else:\n",
    "     print(\"Please use C or F for the Scale\")\n",
    "     return None  "
   ]
  },
  {
   "cell_type": "code",
   "execution_count": 44,
   "id": "17f05800-d8e9-4f01-a271-394b45095860",
   "metadata": {},
   "outputs": [
    {
     "data": {
      "text/plain": [
       "2.7777777777777777"
      ]
     },
     "execution_count": 44,
     "metadata": {},
     "output_type": "execute_result"
    }
   ],
   "source": [
    "con_temp(37,'F')\n"
   ]
  },
  {
   "cell_type": "code",
   "execution_count": 42,
   "id": "f90935c2-cf20-4049-a23a-a82b0bd14b42",
   "metadata": {},
   "outputs": [
    {
     "data": {
      "text/plain": [
       "232.77777777777777"
      ]
     },
     "execution_count": 42,
     "metadata": {},
     "output_type": "execute_result"
    }
   ],
   "source": [
    "con_temp(451,'F')\n"
   ]
  },
  {
   "cell_type": "code",
   "execution_count": 50,
   "id": "81d3be0f-d930-4f3f-8b30-83a742f9da78",
   "metadata": {},
   "outputs": [],
   "source": [
    "sq = lambda n:n*n"
   ]
  },
  {
   "cell_type": "code",
   "execution_count": 51,
   "id": "0ab80470-95c5-4def-8656-f018d55a8b1d",
   "metadata": {},
   "outputs": [
    {
     "data": {
      "text/plain": [
       "9"
      ]
     },
     "execution_count": 51,
     "metadata": {},
     "output_type": "execute_result"
    }
   ],
   "source": [
    "sq(3)"
   ]
  },
  {
   "cell_type": "code",
   "execution_count": 52,
   "id": "f477a684-7a9e-408e-b127-11b86433844c",
   "metadata": {},
   "outputs": [
    {
     "data": {
      "text/plain": [
       "[16, 196, 1764, 203401]"
      ]
     },
     "execution_count": 52,
     "metadata": {},
     "output_type": "execute_result"
    }
   ],
   "source": [
    "num = [4,14,42,451]\n",
    "[sq(n) for n in num]\n"
   ]
  },
  {
   "cell_type": "code",
   "execution_count": 58,
   "id": "60e39971-1572-49a7-b28d-b55633b62d84",
   "metadata": {},
   "outputs": [
    {
     "ename": "SyntaxError",
     "evalue": "invalid syntax (1420234350.py, line 7)",
     "output_type": "error",
     "traceback": [
      "\u001b[1;36m  Cell \u001b[1;32mIn[58], line 7\u001b[1;36m\u001b[0m\n\u001b[1;33m    ifS == 'C':\u001b[0m\n\u001b[1;37m              ^\u001b[0m\n\u001b[1;31mSyntaxError\u001b[0m\u001b[1;31m:\u001b[0m invalid syntax\n"
     ]
    }
   ],
   "source": [
    "def main():\n",
    " \"convert tempreature provided by the user\"\n",
    " t = input('Give me a temperature: ')\n",
    " t = float(t)\n",
    " S = input('C or F?')\n",
    " res = conv_tempt(t,S)\n",
    "if S == 'C':\n",
    "    print('{0} C is {1:.2f} C'.format(t,res))\n",
    "elif S == \"F\":\n",
    "    print('{0} F is {1:.2f} C'.format(t,res))\n",
    "else:\n",
    "   print('try Again!')"
   ]
  },
  {
   "cell_type": "code",
   "execution_count": null,
   "id": "4e6b366b-46bc-4f8e-ada1-13de1d97fe0e",
   "metadata": {},
   "outputs": [],
   "source": []
  },
  {
   "cell_type": "code",
   "execution_count": null,
   "id": "ad85b26a-6a35-40b5-bbb7-547b79307120",
   "metadata": {},
   "outputs": [],
   "source": []
  },
  {
   "cell_type": "code",
   "execution_count": null,
   "id": "be3689c6-bb7d-47e7-894d-0fcafa29438c",
   "metadata": {},
   "outputs": [],
   "source": []
  },
  {
   "cell_type": "code",
   "execution_count": 67,
   "id": "165e71af-7f92-4a2a-aa3a-9bf6bd6dae28",
   "metadata": {},
   "outputs": [
    {
     "ename": "IndentationError",
     "evalue": "unexpected indent (3593207453.py, line 8)",
     "output_type": "error",
     "traceback": [
      "\u001b[1;36m  Cell \u001b[1;32mIn[67], line 8\u001b[1;36m\u001b[0m\n\u001b[1;33m    ac = area_circ(r)\u001b[0m\n\u001b[1;37m    ^\u001b[0m\n\u001b[1;31mIndentationError\u001b[0m\u001b[1;31m:\u001b[0m unexpected indent\n"
     ]
    }
   ],
   "source": [
    "import math\n",
    "def area_circle(r):\n",
    "    '''Area of a circle of radius r'''\n",
    "    area  = math.pi*r**2\n",
    "    return area\n",
    "    \n",
    "r =7 \n",
    "    ac = area_circ(r)\n",
    "    print('the area of a circle with'\\'radius{0} is {1:.2f}'.format(r,ac))"
   ]
  },
  {
   "cell_type": "code",
   "execution_count": null,
   "id": "c32fa728-7b7f-43c1-8035-d827971c2ae2",
   "metadata": {},
   "outputs": [],
   "source": []
  }
 ],
 "metadata": {
  "kernelspec": {
   "display_name": "Python 3 (ipykernel)",
   "language": "python",
   "name": "python3"
  },
  "language_info": {
   "codemirror_mode": {
    "name": "ipython",
    "version": 3
   },
   "file_extension": ".py",
   "mimetype": "text/x-python",
   "name": "python",
   "nbconvert_exporter": "python",
   "pygments_lexer": "ipython3",
   "version": "3.11.7"
  }
 },
 "nbformat": 4,
 "nbformat_minor": 5
}
