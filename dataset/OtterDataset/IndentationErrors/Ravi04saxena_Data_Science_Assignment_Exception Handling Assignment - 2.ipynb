{
 "cells": [
  {
   "cell_type": "markdown",
   "id": "bd4ac459",
   "metadata": {},
   "source": [
    "#### Q1. Explain why we have to use the Exception class while creating a Custom Exception.\n",
    "Note: Here Exception class refers to the base class for all the exception.\n",
    "#### Sol. \n",
    "When you create a custom exception in a Python, it's important to inherit from the base Exception class because it allows you to take advantage of the existing exception handling mechanisms and conventions provided by the language. Here's why you should use the Exception class (or its subclasses) when creating a custom exception:\n",
    "\n",
    "##### Consistency: \n",
    "By inheriting from the Exception class, your custom exception follows the same interface and conventions as built-in exceptions in the language. This makes your code more consistent and easier to understand for other developers who are familiar with the language's exception handling system.\n",
    "\n",
    "##### Compatibility: \n",
    "In many programming languages, exception handling mechanisms are designed to work with exceptions that are derived from the base Exception class. By following this convention, your custom exception seamlessly integrates with the language's exception handling infrastructure.\n",
    "\n",
    "##### Exception Handling: \n",
    "Using the Exception class allows your custom exception to be caught and handled in the same way as standard exceptions. This means you can use try-catch blocks to gracefully deal with your custom exceptions, making your code more robust and reliable.\n",
    "\n",
    "##### Error Reporting: \n",
    "When your custom exception is thrown, it can be caught and reported using the same error reporting and logging mechanisms that are used for built-in exceptions. This simplifies error tracking and debugging in your application.\n",
    "\n",
    "##### Code Readability: \n",
    "It makes your code more readable and self-explanatory. Other developers who encounter your custom exception will instantly recognize it as an exception type and understand its purpose."
   ]
  },
  {
   "cell_type": "code",
   "execution_count": 32,
   "id": "608eb286",
   "metadata": {},
   "outputs": [
    {
     "name": "stdout",
     "output_type": "stream",
     "text": [
      "Enter number : r\n",
      "Invalid input, please enter an integer\n"
     ]
    }
   ],
   "source": [
    "# Example:-\n",
    "import logging\n",
    "logging.basicConfig(filename = 'invalidinput.log', level = logging.DEBUG, format = '%(asctime)s %(levelname)s %(message)s')\n",
    "class InvalidInput(Exception):\n",
    "    logging.info('defining a class \"Invalid Input\"')\n",
    "    def __init__(self, msg):\n",
    "        self.msg = msg\n",
    "        #super().__init__(msg)\n",
    "        \n",
    "def check_even_odd(x):\n",
    "    logging.info('defining a function to check even & odd number')\n",
    "    if type(x) != int:\n",
    "        logging.INFO('checking whether number is integer or not')\n",
    "        raise InvalidInput('Invalid input, please enter an integer')\n",
    "        \n",
    "    if x % 2 == 0:\n",
    "        logging.info('we are in \"if condition\" and it will return even number')\n",
    "        return 'Even'\n",
    "    else:\n",
    "        logging.info('we are in \"else condition\" and it will return odd number') \n",
    "        return 'Odd'\n",
    "\n",
    "try:\n",
    "    logging.info('we are in \"try\" block')\n",
    "    num = int(input('Enter number : '))\n",
    "    logging.info('In this step, we are taking input from user')\n",
    "    output = check_even_odd(num)\n",
    "    print(f'Number {num} is {output}')\n",
    "    logging.info('This step will print final output')\n",
    "    \n",
    "except InvalidInput as ii:\n",
    "    logging.info('We are in except block, this step will raise exception \"Invalid Input\"')\n",
    "    print('Invalid Input',ii)\n",
    "except ValueError as e:\n",
    "    logging.info('We are in another except block, this step will raise exception \"ValueError\"')\n",
    "    print(f'Invalid input, please enter an integer')   "
   ]
  },
  {
   "cell_type": "code",
   "execution_count": 42,
   "id": "e6953b0b",
   "metadata": {},
   "outputs": [],
   "source": [
    "logging.shutdown()"
   ]
  },
  {
   "cell_type": "code",
   "execution_count": null,
   "id": "3b9a2ff5",
   "metadata": {},
   "outputs": [],
   "source": []
  },
  {
   "cell_type": "markdown",
   "id": "d8530259",
   "metadata": {},
   "source": [
    "#### Q2. Write a python program to print Python Exception Hierarchy."
   ]
  },
  {
   "cell_type": "code",
   "execution_count": 2,
   "id": "f1feabce",
   "metadata": {},
   "outputs": [
    {
     "name": "stdout",
     "output_type": "stream",
     "text": [
      "Python Exception Hierarchy:\n",
      "BaseException\n",
      "---Exception\n",
      "------TypeError\n",
      "---------FloatOperation\n",
      "---------MultipartConversionError\n",
      "------StopAsyncIteration\n",
      "------StopIteration\n",
      "------ImportError\n",
      "---------ModuleNotFoundError\n",
      "---------ZipImportError\n",
      "------OSError\n",
      "---------ConnectionError\n",
      "------------BrokenPipeError\n",
      "------------ConnectionAbortedError\n",
      "------------ConnectionRefusedError\n",
      "------------ConnectionResetError\n",
      "---------------RemoteDisconnected\n",
      "---------BlockingIOError\n",
      "---------ChildProcessError\n",
      "---------FileExistsError\n",
      "---------FileNotFoundError\n",
      "---------IsADirectoryError\n",
      "---------NotADirectoryError\n",
      "---------InterruptedError\n",
      "------------InterruptedSystemCall\n",
      "---------PermissionError\n",
      "---------ProcessLookupError\n",
      "---------TimeoutError\n",
      "---------UnsupportedOperation\n",
      "---------herror\n",
      "---------gaierror\n",
      "---------SSLError\n",
      "------------SSLCertVerificationError\n",
      "------------SSLZeroReturnError\n",
      "------------SSLWantWriteError\n",
      "------------SSLWantReadError\n",
      "------------SSLSyscallError\n",
      "------------SSLEOFError\n",
      "---------Error\n",
      "------------SameFileError\n",
      "---------SpecialFileError\n",
      "---------ExecError\n",
      "---------ReadError\n",
      "---------URLError\n",
      "------------HTTPError\n",
      "------------ContentTooShortError\n",
      "---------BadGzipFile\n",
      "------EOFError\n",
      "---------IncompleteReadError\n",
      "------RuntimeError\n",
      "---------RecursionError\n",
      "---------NotImplementedError\n",
      "------------ZMQVersionError\n",
      "------------StdinNotImplementedError\n",
      "---------_DeadlockError\n",
      "---------BrokenBarrierError\n",
      "---------BrokenExecutor\n",
      "------------BrokenThreadPool\n",
      "---------SendfileNotAvailableError\n",
      "---------ExtractionError\n",
      "---------VariableError\n",
      "------NameError\n",
      "---------UnboundLocalError\n",
      "------AttributeError\n",
      "---------FrozenInstanceError\n",
      "------SyntaxError\n",
      "---------IndentationError\n",
      "------------TabError\n",
      "------LookupError\n",
      "---------IndexError\n",
      "---------KeyError\n",
      "------------NoSuchKernel\n",
      "------------UnknownBackend\n",
      "---------CodecRegistryError\n",
      "------ValueError\n",
      "---------UnicodeError\n",
      "------------UnicodeEncodeError\n",
      "------------UnicodeDecodeError\n",
      "------------UnicodeTranslateError\n",
      "---------UnsupportedOperation\n",
      "---------JSONDecodeError\n",
      "---------SSLCertVerificationError\n",
      "---------Error\n",
      "---------UnsupportedDigestmodError\n",
      "---------IllegalMonthError\n",
      "---------IllegalWeekdayError\n",
      "---------ParserError\n",
      "---------ClassNotFound\n",
      "---------ClipboardEmpty\n",
      "---------MessageDefect\n",
      "------------NoBoundaryInMultipartDefect\n",
      "------------StartBoundaryNotFoundDefect\n",
      "------------CloseBoundaryNotFoundDefect\n",
      "------------FirstHeaderLineIsContinuationDefect\n",
      "------------MisplacedEnvelopeHeaderDefect\n",
      "------------MissingHeaderBodySeparatorDefect\n",
      "------------MultipartInvariantViolationDefect\n",
      "------------InvalidMultipartContentTransferEncodingDefect\n",
      "------------UndecodableBytesDefect\n",
      "------------InvalidBase64PaddingDefect\n",
      "------------InvalidBase64CharactersDefect\n",
      "------------InvalidBase64LengthDefect\n",
      "------------HeaderDefect\n",
      "---------------InvalidHeaderDefect\n",
      "---------------HeaderMissingRequiredValue\n",
      "---------------NonPrintableDefect\n",
      "---------------ObsoleteHeaderDefect\n",
      "---------------NonASCIILocalPartDefect\n",
      "---------------InvalidDateDefect\n",
      "---------MacroToEdit\n",
      "---------InvalidFileException\n",
      "---------UnequalIterablesError\n",
      "---------InvalidVersion\n",
      "---------_InvalidELFFileHeader\n",
      "---------InvalidWheelFilename\n",
      "---------InvalidSdistFilename\n",
      "---------InvalidSpecifier\n",
      "---------InvalidMarker\n",
      "---------UndefinedComparison\n",
      "---------UndefinedEnvironmentName\n",
      "---------InvalidRequirement\n",
      "------------RequirementParseError\n",
      "---------InvalidVersion\n",
      "------AssertionError\n",
      "------ArithmeticError\n",
      "---------FloatingPointError\n",
      "---------OverflowError\n",
      "---------ZeroDivisionError\n",
      "------------DivisionByZero\n",
      "------------DivisionUndefined\n",
      "---------DecimalException\n",
      "------------Clamped\n",
      "------------Rounded\n",
      "---------------Underflow\n",
      "---------------Overflow\n",
      "------------Inexact\n",
      "---------------Underflow\n",
      "---------------Overflow\n",
      "------------Subnormal\n",
      "---------------Underflow\n",
      "------------DivisionByZero\n",
      "------------FloatOperation\n",
      "------------InvalidOperation\n",
      "---------------ConversionSyntax\n",
      "---------------DivisionImpossible\n",
      "---------------DivisionUndefined\n",
      "---------------InvalidContext\n",
      "------SystemError\n",
      "---------CodecRegistryError\n",
      "------ReferenceError\n",
      "------MemoryError\n",
      "------BufferError\n",
      "------Warning\n",
      "---------UserWarning\n",
      "------------GetPassWarning\n",
      "------------FormatterWarning\n",
      "---------EncodingWarning\n",
      "---------DeprecationWarning\n",
      "------------ProvisionalWarning\n",
      "---------PendingDeprecationWarning\n",
      "---------SyntaxWarning\n",
      "---------RuntimeWarning\n",
      "------------ProactorSelectorThreadWarning\n",
      "------------UnknownTimezoneWarning\n",
      "------------PEP440Warning\n",
      "---------FutureWarning\n",
      "------------ProvisionalCompleterWarning\n",
      "---------ImportWarning\n",
      "---------UnicodeWarning\n",
      "---------BytesWarning\n",
      "---------ResourceWarning\n",
      "---------DeprecatedTzFormatWarning\n",
      "---------PkgResourcesDeprecationWarning\n",
      "------_OptionError\n",
      "------_Error\n",
      "------error\n",
      "------Verbose\n",
      "------Error\n",
      "------SubprocessError\n",
      "---------CalledProcessError\n",
      "---------TimeoutExpired\n",
      "------TokenError\n",
      "------StopTokenizing\n",
      "------ClassFoundException\n",
      "------EndOfBlock\n",
      "------TraitError\n",
      "------Error\n",
      "------Error\n",
      "---------CancelledError\n",
      "---------TimeoutError\n",
      "---------InvalidStateError\n",
      "------_GiveupOnSendfile\n",
      "------error\n",
      "------Incomplete\n",
      "------TimeoutError\n",
      "------InvalidStateError\n",
      "------LimitOverrunError\n",
      "------QueueEmpty\n",
      "------QueueFull\n",
      "------error\n",
      "------LZMAError\n",
      "------RegistryError\n",
      "------_GiveupOnFastCopy\n",
      "------Empty\n",
      "------Full\n",
      "------ZMQBaseError\n",
      "---------ZMQError\n",
      "------------ContextTerminated\n",
      "------------Again\n",
      "------------InterruptedSystemCall\n",
      "---------ZMQBindError\n",
      "---------NotDone\n",
      "------PickleError\n",
      "---------PicklingError\n",
      "---------UnpicklingError\n",
      "------_Stop\n",
      "------ArgumentError\n",
      "------ArgumentTypeError\n",
      "------ConfigError\n",
      "---------ConfigLoaderError\n",
      "------------ArgumentError\n",
      "---------ConfigFileNotFound\n",
      "------ConfigurableError\n",
      "---------MultipleInstanceError\n",
      "------ApplicationError\n",
      "------TimeoutError\n",
      "------ArgumentError\n",
      "------COMError\n",
      "------ReturnValueIgnoredError\n",
      "------KeyReuseError\n",
      "------UnknownKeyError\n",
      "------LeakedCallbackError\n",
      "------BadYieldError\n",
      "------ReturnValueIgnoredError\n",
      "------Return\n",
      "------InvalidPortNumber\n",
      "------NoIPAddresses\n",
      "------BadZipFile\n",
      "------LargeZipFile\n",
      "------Error\n",
      "---------NoSectionError\n",
      "---------DuplicateSectionError\n",
      "---------DuplicateOptionError\n",
      "---------NoOptionError\n",
      "---------InterpolationError\n",
      "------------InterpolationMissingOptionError\n",
      "------------InterpolationSyntaxError\n",
      "------------InterpolationDepthError\n",
      "---------ParsingError\n",
      "------------MissingSectionHeaderError\n",
      "------BadEntryPoint\n",
      "------NoSuchEntryPoint\n",
      "------DuplicateKernelError\n",
      "------ErrorDuringImport\n",
      "------NotOneValueFound\n",
      "------CannotEval\n",
      "------OptionError\n",
      "------BdbQuit\n",
      "------Restart\n",
      "------FindCmdError\n",
      "------HomeDirError\n",
      "------ProfileDirError\n",
      "------IPythonCoreError\n",
      "---------TryNext\n",
      "---------UsageError\n",
      "---------StdinNotImplementedError\n",
      "------InputRejected\n",
      "------GetoptError\n",
      "------ErrorToken\n",
      "------PrefilterError\n",
      "------AliasError\n",
      "---------InvalidAliasError\n",
      "------Error\n",
      "---------InterfaceError\n",
      "---------DatabaseError\n",
      "------------InternalError\n",
      "------------OperationalError\n",
      "------------ProgrammingError\n",
      "------------IntegrityError\n",
      "------------DataError\n",
      "------------NotSupportedError\n",
      "------Warning\n",
      "------SpaceInInput\n",
      "------DOMException\n",
      "---------IndexSizeErr\n",
      "---------DomstringSizeErr\n",
      "---------HierarchyRequestErr\n",
      "---------WrongDocumentErr\n",
      "---------InvalidCharacterErr\n",
      "---------NoDataAllowedErr\n",
      "---------NoModificationAllowedErr\n",
      "---------NotFoundErr\n",
      "---------NotSupportedErr\n",
      "---------InuseAttributeErr\n",
      "---------InvalidStateErr\n",
      "---------SyntaxErr\n",
      "---------InvalidModificationErr\n",
      "---------NamespaceErr\n",
      "---------InvalidAccessErr\n",
      "---------ValidationErr\n",
      "------ValidationError\n",
      "------EditReadOnlyBuffer\n",
      "------_Retry\n",
      "------InvalidLayoutError\n",
      "------HeightIsUnknownError\n",
      "------GuardRejection\n",
      "------ParserSyntaxError\n",
      "------InternalParseError\n",
      "------_PositionUpdatingFinished\n",
      "------SimpleGetItemNotFound\n",
      "------UncaughtAttributeError\n",
      "------HasNoContext\n",
      "------ParamIssue\n",
      "------_JediError\n",
      "---------InternalError\n",
      "---------WrongVersion\n",
      "---------RefactoringError\n",
      "------OnErrorLeaf\n",
      "------InvalidPythonEnvironment\n",
      "------MessageError\n",
      "---------MessageParseError\n",
      "------------HeaderParseError\n",
      "------------BoundaryError\n",
      "---------MultipartConversionError\n",
      "---------CharsetError\n",
      "------Error\n",
      "------HTTPException\n",
      "---------NotConnected\n",
      "---------InvalidURL\n",
      "---------UnknownProtocol\n",
      "---------UnknownTransferEncoding\n",
      "---------UnimplementedFileMode\n",
      "---------IncompleteRead\n",
      "---------ImproperConnectionState\n",
      "------------CannotSendRequest\n",
      "------------CannotSendHeader\n",
      "------------ResponseNotReady\n",
      "---------BadStatusLine\n",
      "------------RemoteDisconnected\n",
      "---------LineTooLong\n",
      "------InteractivelyDefined\n",
      "------KillEmbedded\n",
      "------Error\n",
      "---------NoSuchProcess\n",
      "------------ZombieProcess\n",
      "---------AccessDenied\n",
      "---------TimeoutExpired\n",
      "------Error\n",
      "------TimeoutExpired\n",
      "------TimeoutAbandoned\n",
      "------QueueEmpty\n",
      "------QueueFull\n",
      "------ExpatError\n",
      "------Error\n",
      "---------ProtocolError\n",
      "---------ResponseError\n",
      "---------Fault\n",
      "------error\n",
      "------com_error\n",
      "------internal_error\n",
      "------ParseBaseException\n",
      "---------ParseException\n",
      "---------ParseFatalException\n",
      "------------ParseSyntaxException\n",
      "------RecursiveGrammarException\n",
      "------ResolutionError\n",
      "---------VersionConflict\n",
      "------------ContextualVersionConflict\n",
      "---------DistributionNotFound\n",
      "---------UnknownExtra\n",
      "------UnableToResolveVariableException\n",
      "------InvalidTypeInArgsException\n",
      "---GeneratorExit\n",
      "---SystemExit\n",
      "---KeyboardInterrupt\n",
      "---CancelledError\n",
      "---DebuggerInitializationError\n",
      "---AbortThread\n"
     ]
    }
   ],
   "source": [
    "import inspect\n",
    "\n",
    "def print_exception_hierarchy(exception_class, level=0):\n",
    "    print('-' * level + exception_class.__name__)\n",
    "    for i in exception_class.__subclasses__():\n",
    "        print_exception_hierarchy(i, level + 3)\n",
    "\n",
    "print(\"Python Exception Hierarchy:\")\n",
    "print_exception_hierarchy(BaseException)"
   ]
  },
  {
   "cell_type": "code",
   "execution_count": 3,
   "id": "9794fe3a",
   "metadata": {},
   "outputs": [],
   "source": [
    "logging.shutdown()"
   ]
  },
  {
   "cell_type": "code",
   "execution_count": null,
   "id": "4e7ad1bc",
   "metadata": {},
   "outputs": [],
   "source": []
  },
  {
   "cell_type": "markdown",
   "id": "64bfdebc",
   "metadata": {},
   "source": [
    "#### Q3. What errors are defined in the ArithmeticError class? Explain any two with an example.\n",
    "#### Sol:-  Arithmetic Error class is a base class for exceptions related to arithmetic operations. It is a subclass of the more general Exception class and serves as a base class for specific arithmetic-related exception classes. \n",
    "#### Some of the common errors defined in the ArithmeticError class or its subclasses include:\n",
    "\n",
    "##### ZeroDivisionError: \n",
    "ZeroDivisionError is an exception that occurs when you attempt to divide a number by zero. Division by zero is undefined in mathematics and, therefore, raises an exception in Python to indicate that an invalid operation is being performed.\n",
    "\n",
    "The primary cause of a ZeroDivisionError is an attempt to perform division, modulo, or floor division (using the /, %, or // operators) where the divisor (the number you're dividing by) is zero.\n",
    "\n",
    "For example, if you will try to divide numeric value by zero, then it will raise an ZeroDivisionError.\n",
    "\n",
    "##### OverflowError: \n",
    "an OverflowError is an exception that occurs when a numeric operation results in a value that exceeds the range or capacity of the data type used. It typically happens when performing arithmetic operations with integers, and the result goes beyond the representational limits of the data type. This is commonly encountered in languages that use fixed-size data types for numeric values, like integers.\n",
    "\n",
    "For example, if you're using a 32-bit integer data type, it can represent values within a certain range, typically from -2,147,483,648 to 2,147,483,647. If an arithmetic operation results in a value that falls outside this range, it will raise an OverflowError\n",
    "\n",
    "##### FloatingPointError: \n",
    "Raised when there is an error in a floating-point operation, such as invalid operation for special values like NaN (Not-a-Number) or infinity.\n",
    "\n",
    "##### MemoryError: \n",
    "MemoryError is an exception that occurs when your program runs out of available memory (RAM) during its execution. It is raised when the program attempts to allocate more memory than is available in the system. In other words, your program is trying to create or store more data in memory than the hardware can accommodate.\n",
    "\n",
    "Allocating too many large objects: If your program allocates a large number of objects, especially those with significant memory requirements, it can quickly consume all available memory, leading to a MemoryError.\n",
    "\n",
    "Infinite recursion: Recursive functions that do not have a base case or terminate properly can lead to an ever-increasing demand for memory, ultimately causing a MemoryError.\n",
    "\n",
    "Memory leaks: If your program doesn't release memory after it's no longer needed, it can accumulate and eventually exhaust available memory.\n",
    "\n",
    "Large data processing: Processing or analyzing very large datasets that don't fit into available memory can lead to a MemoryError.\n",
    "\n",
    "##### BufferError: \n",
    "Raised when there is an error related to buffer objects, such as mismatches in buffer sizes during arithmetic operations on arrays.\n",
    "\n",
    "BufferError is an exception that is raised when there is an error related to buffer objects or memory buffers. Buffer objects are used in various contexts for efficient data transfer between Python and other libraries or for handling binary data. The BufferError is a base class for more specific exceptions related to buffer operations.\n",
    "\n",
    "There are several specific exceptions related to buffer operations in Python, which are derived from BufferError or other exception classes."
   ]
  },
  {
   "cell_type": "markdown",
   "id": "dc888411",
   "metadata": {},
   "source": [
    "##### Below is the 2 examples :-"
   ]
  },
  {
   "cell_type": "code",
   "execution_count": 6,
   "id": "426241bc",
   "metadata": {},
   "outputs": [
    {
     "name": "stdout",
     "output_type": "stream",
     "text": [
      "Enter numerator :- 2\n",
      "Enter denominator :- 0\n",
      "ZeroDivisionError :- Division by zero not possible\n"
     ]
    }
   ],
   "source": [
    "# Example of ZeroDivisionError\n",
    "class ZeroDivisionError(Exception):\n",
    "    def __init__(self, num):\n",
    "        self.num = num\n",
    "\n",
    "def division(x,y):\n",
    "    if y == 0:\n",
    "        raise ZeroDivisionError('ZeroDivisionError :- Division by zero not possible')\n",
    "    else:\n",
    "        return x/y\n",
    "    \n",
    "try:\n",
    "    num1 = int(input('Enter numerator :- '))\n",
    "    num2 = int(input('Enter denominator :- '))\n",
    "    output = division(num1,num2)\n",
    "    print(f'Result of division of {num1} by {num2} is {output}')\n",
    "    \n",
    "except ZeroDivisionError as e:\n",
    "    print(e)"
   ]
  },
  {
   "cell_type": "code",
   "execution_count": null,
   "id": "ae06ae7a",
   "metadata": {},
   "outputs": [],
   "source": []
  },
  {
   "cell_type": "code",
   "execution_count": 5,
   "id": "e7941acf",
   "metadata": {},
   "outputs": [
    {
     "name": "stdout",
     "output_type": "stream",
     "text": [
      "Result of adding 0.1 and 0.2 :- 0.30000000000000004\n",
      "The result is not exactly 0.3 due to floating-point error.\n"
     ]
    }
   ],
   "source": [
    "# Example of floating-point error\n",
    "a = 0.1\n",
    "b = 0.2\n",
    "c = a + b\n",
    "\n",
    "print(f\"Result of adding {a} and {b} :- {c}\")\n",
    "\n",
    "# Comparison with expected result\n",
    "expected_result = 0.3\n",
    "\n",
    "if c == expected_result:\n",
    "    print(\"The result is as expected.\")\n",
    "else:\n",
    "    print(\"The result is not exactly 0.3 due to floating-point error.\")\n"
   ]
  },
  {
   "cell_type": "markdown",
   "id": "73987f0e",
   "metadata": {},
   "source": [
    "##### To compare floating-point numbers, it's often recommended to use a tolerance or consider using the math.isclose() function to account for small differences:"
   ]
  },
  {
   "cell_type": "code",
   "execution_count": 2,
   "id": "8734b102",
   "metadata": {},
   "outputs": [
    {
     "name": "stdout",
     "output_type": "stream",
     "text": [
      "The result is approximately equal to 0.3.\n"
     ]
    }
   ],
   "source": [
    "import math\n",
    "\n",
    "if math.isclose(c, expected_result):\n",
    "    print(\"The result is approximately equal to 0.3.\")\n",
    "else:\n",
    "    print(\"The result is not approximately equal to 0.3.\")\n"
   ]
  },
  {
   "cell_type": "code",
   "execution_count": null,
   "id": "b6b911e1",
   "metadata": {},
   "outputs": [],
   "source": []
  },
  {
   "cell_type": "markdown",
   "id": "228684cd",
   "metadata": {},
   "source": [
    "##### Q4. Why LookupError class is used? Explain with an example KeyError and IndexError.\n",
    "##### Sol. \n",
    "The LookupError class is a base class for exceptions that occur when a key or index used to look up a value is invalid. It serves as a parent class for more specific lookup-related exception classes in Python\n",
    "\n",
    "OR\n",
    "\n",
    "Both KeyError and IndexError are specific types of lookup errors, indicating that the key or index used for the lookup operation is not valid. Handling these exceptions allows you to gracefully respond to situations where you may attempt to access a nonexistent key in a dictionary or an out-of-range index in a sequence.\n",
    "\n",
    "Two common derived classes from LookupError are KeyError and IndexError :-\n",
    "\n",
    "###### a)KeyError :- \n",
    "A KeyError in Python occurs when you try to access a dictionary using a key that does not exist in the dictionary. This error is raised because the specified key is not present in the dictionary, and attempting to access a nonexistent key leads to a KeyError.\n",
    "\n",
    "Here is an example:-"
   ]
  },
  {
   "cell_type": "code",
   "execution_count": 8,
   "id": "59daf75a",
   "metadata": {},
   "outputs": [
    {
     "name": "stdout",
     "output_type": "stream",
     "text": [
      "KeyError: 'd'\n"
     ]
    }
   ],
   "source": [
    "# Example of KeyError\n",
    "my_dict = {'a': 1, 'b': 2, 'c': 3}\n",
    "\n",
    "try:\n",
    "    value = my_dict['d']  # Attempting to access a key ('x') that doesn't exist\n",
    "    print(value)\n",
    "except KeyError as e:\n",
    "    print(f\"KeyError: {e}\")"
   ]
  },
  {
   "cell_type": "markdown",
   "id": "2883c715",
   "metadata": {},
   "source": [
    "##### b). Index Error :-\n",
    "An IndexError in Python occurs when you try to access an index in a sequence (such as a list or a string) that is outside the valid range of indices. This error indicates that the specified index is not present in the sequence, and attempting to access an out-of-range index leads to an IndexError.\n",
    "\n",
    "Here is an example:-"
   ]
  },
  {
   "cell_type": "code",
   "execution_count": 9,
   "id": "882ebf06",
   "metadata": {},
   "outputs": [
    {
     "name": "stdout",
     "output_type": "stream",
     "text": [
      "IndexError: list index out of range\n"
     ]
    }
   ],
   "source": [
    "# Example of IndexError\n",
    "my_list = [1, 2, 3, 4, 5]\n",
    "\n",
    "try:\n",
    "    value = my_list[5]  # Attempting to access an index (10) that is out of range\n",
    "    print(value)\n",
    "except IndexError as e:\n",
    "    print(f\"IndexError: {e}\")"
   ]
  },
  {
   "cell_type": "code",
   "execution_count": null,
   "id": "ae912fee",
   "metadata": {},
   "outputs": [],
   "source": []
  },
  {
   "cell_type": "markdown",
   "id": "b9077ea5",
   "metadata": {},
   "source": [
    "##### Q5. Explain ImportError. What is ModuleNotFoundError?\n",
    "##### Sol: ImportError :- \n",
    "ImportError is a base class for exceptions that occur when importing a module or using the import statement in Python. It indicates that there is an issue related to importing a module, and it serves as a parent class for more specific import-related exception classes. One specific subclass of ImportError is ModuleNotFoundError.\n",
    "\n",
    "Both ImportError and ModuleNotFoundError are useful for handling issues related to importing modules. Handling these exceptions allows you to provide informative error messages or take corrective actions when a required module or package is missing or cannot be imported."
   ]
  },
  {
   "cell_type": "code",
   "execution_count": 11,
   "id": "ecade5a4",
   "metadata": {},
   "outputs": [
    {
     "name": "stdout",
     "output_type": "stream",
     "text": [
      "ImportError: No module named 'no_existent_module'\n"
     ]
    }
   ],
   "source": [
    "try:\n",
    "    import no_existent_module  # Attempting to import a module that doesn't exist\n",
    "except ImportError as e:\n",
    "    print(f\"ImportError: {e}\")"
   ]
  },
  {
   "cell_type": "markdown",
   "id": "c0bd4a98",
   "metadata": {},
   "source": [
    "##### ModuleNotFoundError :- \n",
    "ModuleNotFoundError is a specific subclass of the more general ImportError in Python. It was introduced in Python 3.6 to provide more detailed information about errors that occur when trying to import a module that cannot be found. This exception is raised when the Python interpreter cannot locate the specified module during the import process.\n",
    "\n",
    "The typical scenario for encountering a ModuleNotFoundError is when you attempt to import a module that is not installed or does not exist in the Python environment.\n",
    "\n",
    "Here is an example to illustrate a ModuleNotFoundError:-"
   ]
  },
  {
   "cell_type": "code",
   "execution_count": 12,
   "id": "610e27f1",
   "metadata": {},
   "outputs": [
    {
     "name": "stdout",
     "output_type": "stream",
     "text": [
      "ModuleNotFoundError: No module named 'no_existent_package'\n"
     ]
    }
   ],
   "source": [
    "try:\n",
    "    from no_existent_package import some_module  # Attempting to import a module from a non-existent package\n",
    "except ModuleNotFoundError as e:\n",
    "    print(f\"ModuleNotFoundError: {e}\")\n"
   ]
  },
  {
   "cell_type": "code",
   "execution_count": null,
   "id": "1405d285",
   "metadata": {},
   "outputs": [],
   "source": []
  },
  {
   "cell_type": "markdown",
   "id": "28537022",
   "metadata": {},
   "source": [
    "##### Q6. List down some best practices for exception handling in python.\n",
    "##### Sol. \n",
    "Exception handling is an important aspect of writing robust and maintainable Python code. Here are some best practices for exception handling in Python:\n",
    "\n",
    "###### 1).Use Specific Exception Types:-\n",
    "\n",
    "Catch specific exception types rather than using a generic Exception catch-all. This allows you to handle different types of exceptions in different ways and provides more information for debugging. Below is an Eample :- "
   ]
  },
  {
   "cell_type": "code",
   "execution_count": null,
   "id": "0e0be4eb",
   "metadata": {},
   "outputs": [],
   "source": [
    "try:\n",
    "    # code that may raise an exception\n",
    "except ValueError as ve:\n",
    "    # handle ValueError\n",
    "except FileNotFoundError as fe:\n",
    "    # handle FileNotFoundError\n",
    "except Exception as e:\n",
    "    # handle other exceptions"
   ]
  },
  {
   "cell_type": "markdown",
   "id": "215c2ac1",
   "metadata": {},
   "source": [
    "##### 2).Avoid Using Bare except:\n",
    "Avoid using a bare except clause as it catches all exceptions, including system-exiting exceptions like SystemExit and KeyboardInterrupt. This can make debugging difficult."
   ]
  },
  {
   "cell_type": "code",
   "execution_count": null,
   "id": "d12e13d4",
   "metadata": {},
   "outputs": [],
   "source": [
    "# Avoid this:\n",
    "try:\n",
    "    # code that may raise an exception\n",
    "except:\n",
    "    # handle all exceptions"
   ]
  },
  {
   "cell_type": "markdown",
   "id": "a60a2a7b",
   "metadata": {},
   "source": [
    "##### 3).Use else Clause with try Blocks:\n",
    "Use the else clause in a try block to specify code that should run only if no exceptions were raised. This helps to distinguish between the code that might raise an exception and the code that depends on the absence of exceptions."
   ]
  },
  {
   "cell_type": "code",
   "execution_count": null,
   "id": "63018a85",
   "metadata": {},
   "outputs": [],
   "source": [
    "try:\n",
    "    # code that may raise an exception\n",
    "except ValueError as ve:\n",
    "    # handle ValueError\n",
    "else:\n",
    "    # code to run if no exceptions were raised"
   ]
  },
  {
   "cell_type": "markdown",
   "id": "0b6f91bc",
   "metadata": {},
   "source": [
    "##### 4).Use finally for Cleanup:\n",
    "Use the finally block for cleanup code that should always be executed, whether an exception occurs or not. This is useful for releasing resources, closing files, or cleaning up temporary data."
   ]
  },
  {
   "cell_type": "code",
   "execution_count": null,
   "id": "12687d5c",
   "metadata": {},
   "outputs": [],
   "source": [
    "try:\n",
    "    # code that may raise an exception\n",
    "except Exception as e:\n",
    "    # handle exception\n",
    "finally:\n",
    "    # cleanup code (always executed)"
   ]
  },
  {
   "cell_type": "markdown",
   "id": "cdd2814b",
   "metadata": {},
   "source": [
    "##### 6).Use Logging for Exception Information:\n",
    "Use the logging module to log information about exceptions. This helps in debugging and understanding the context in which an exception occurred."
   ]
  },
  {
   "cell_type": "code",
   "execution_count": null,
   "id": "61b15420",
   "metadata": {},
   "outputs": [],
   "source": [
    "import logging\n",
    "\n",
    "try:\n",
    "    # code that may raise an exception\n",
    "except Exception as e:\n",
    "    logging.error(f\"Exception occurred: {e}\")"
   ]
  },
  {
   "cell_type": "markdown",
   "id": "f72066ab",
   "metadata": {},
   "source": [
    "##### 7).Custom Exceptions for Specific Cases:\n",
    "Consider defining custom exception classes for specific error conditions in your application. This makes the code more readable and allows you to handle specific errors in a more tailored way."
   ]
  },
  {
   "cell_type": "code",
   "execution_count": null,
   "id": "9240234e",
   "metadata": {},
   "outputs": [],
   "source": [
    "class CustomError(Exception):\n",
    "    pass\n",
    "\n",
    "try:\n",
    "    # code that may raise an exception\n",
    "except CustomError as ce:\n",
    "    # handle CustomError"
   ]
  },
  {
   "cell_type": "markdown",
   "id": "49048ce0",
   "metadata": {},
   "source": [
    "##### 8).Handle Resource Acquisition and Release Separately:\n",
    "When working with resources (e.g., files, network connections), handle resource acquisition and release separately. Use the with statement for resource acquisition, and rely on finally for resource release."
   ]
  },
  {
   "cell_type": "code",
   "execution_count": null,
   "id": "21081000",
   "metadata": {},
   "outputs": [],
   "source": [
    "try:\n",
    "    with open('file.txt', 'r') as file:\n",
    "        # code that works with the file\n",
    "except Exception as e:\n",
    "    # handle exception"
   ]
  },
  {
   "cell_type": "code",
   "execution_count": null,
   "id": "a0dafee1",
   "metadata": {},
   "outputs": [],
   "source": []
  }
 ],
 "metadata": {
  "kernelspec": {
   "display_name": "Python 3 (ipykernel)",
   "language": "python",
   "name": "python3"
  },
  "language_info": {
   "codemirror_mode": {
    "name": "ipython",
    "version": 3
   },
   "file_extension": ".py",
   "mimetype": "text/x-python",
   "name": "python",
   "nbconvert_exporter": "python",
   "pygments_lexer": "ipython3",
   "version": "3.10.9"
  }
 },
 "nbformat": 4,
 "nbformat_minor": 5
}
