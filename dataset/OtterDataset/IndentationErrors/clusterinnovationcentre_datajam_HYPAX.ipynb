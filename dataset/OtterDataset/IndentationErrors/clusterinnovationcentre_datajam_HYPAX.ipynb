{
 "cells": [
  {
   "cell_type": "code",
   "execution_count": 45,
   "metadata": {},
   "outputs": [],
   "source": [
    "import pandas as pd\n",
    "import numpy as np\n",
    "from sklearn.preprocessing import LabelEncoder\n",
    "from sklearn.preprocessing import Imputer\n",
    "from sklearn.pipeline import Pipeline\n",
    "from sklearn.linear_model import LogisticRegression\n",
    "from sklearn.multiclass import OneVsRestClassifier as OvR\n",
    "from sklearn.model_selection import train_test_split\n",
    "from sklearn.ensemble import RandomForestClassifier, AdaBoostClassifier\n",
    "from sklearn.metrics import accuracy_score\n",
    "from sklearn.model_selection import GridSearchCV, RandomizedSearchCV\n",
    "from sklearn.ensemble import GradientBoostingClassifier\n",
    "from sklearn.preprocessing import scale\n",
    "from sklearn.neighbors import KNeighborsClassifier\n",
    "from sklearn.svm import SVC\n",
    "from sklearn.naive_bayes import GaussianNB\n",
    "from sklearn.tree import DecisionTreeClassifier "
   ]
  },
  {
   "cell_type": "code",
   "execution_count": 2,
   "metadata": {},
   "outputs": [],
   "source": [
    "df = pd.read_csv('C:\\Users\\Ritika Dell\\Desktop\\Data Jam/train.tsv',sep='\\t')\n",
    "dx = pd.read_csv('C:\\Users\\Ritika Dell\\Desktop\\Data Jam/train.tsv',sep='\\t')\n",
    "test = pd.read_csv('C:\\Users\\Ritika Dell\\Desktop\\Data Jam/test.tsv',sep='\\t')"
   ]
  },
  {
   "cell_type": "code",
   "execution_count": 3,
   "metadata": {},
   "outputs": [
    {
     "data": {
      "text/plain": [
       "array(['hiphop', 'metal', 'classical', 'indie_alt', 'punk', 'romance',\n",
       "       'blues', 'latin', 'pop', 'rock', 'reggae', 'funk', 'party', 'jazz',\n",
       "       'country'], dtype=object)"
      ]
     },
     "execution_count": 3,
     "metadata": {},
     "output_type": "execute_result"
    }
   ],
   "source": [
    "dx['genre'].unique()"
   ]
  },
  {
   "cell_type": "code",
   "execution_count": 4,
   "metadata": {},
   "outputs": [
    {
     "data": {
      "text/plain": [
       "{0: 'hiphop',\n",
       " 1: 'metal',\n",
       " 2: 'classical',\n",
       " 3: 'indie_alt',\n",
       " 4: 'punk',\n",
       " 5: 'romance',\n",
       " 6: 'blues',\n",
       " 7: 'latin',\n",
       " 8: 'pop',\n",
       " 9: 'reggae',\n",
       " 10: 'funk',\n",
       " 11: 'party',\n",
       " 12: 'jazz',\n",
       " 13: 'country'}"
      ]
     },
     "execution_count": 4,
     "metadata": {},
     "output_type": "execute_result"
    }
   ],
   "source": [
    "{0:'hiphop',1:'metal',2:'classical',3:'indie_alt',4:'punk',5:'romance',6:'blues',7:'latin',8:'pop',9:'reggae',10:'funk',11:'party',12:'jazz',13:'country'}"
   ]
  },
  {
   "cell_type": "code",
   "execution_count": 5,
   "metadata": {},
   "outputs": [
    {
     "ename": "IndentationError",
     "evalue": "expected an indented block (<ipython-input-5-ace5fe27aedc>, line 2)",
     "output_type": "error",
     "traceback": [
      "\u001b[1;36m  File \u001b[1;32m\"<ipython-input-5-ace5fe27aedc>\"\u001b[1;36m, line \u001b[1;32m2\u001b[0m\n\u001b[1;33m    \u001b[0m\n\u001b[1;37m    ^\u001b[0m\n\u001b[1;31mIndentationError\u001b[0m\u001b[1;31m:\u001b[0m expected an indented block\n"
     ]
    }
   ],
   "source": [
    "for i in df['genre']:\n",
    "    "
   ]
  },
  {
   "cell_type": "code",
   "execution_count": 6,
   "metadata": {},
   "outputs": [
    {
     "data": {
      "text/html": [
       "<div>\n",
       "<style>\n",
       "    .dataframe thead tr:only-child th {\n",
       "        text-align: right;\n",
       "    }\n",
       "\n",
       "    .dataframe thead th {\n",
       "        text-align: left;\n",
       "    }\n",
       "\n",
       "    .dataframe tbody tr th {\n",
       "        vertical-align: top;\n",
       "    }\n",
       "</style>\n",
       "<table border=\"1\" class=\"dataframe\">\n",
       "  <thead>\n",
       "    <tr style=\"text-align: right;\">\n",
       "      <th></th>\n",
       "      <th>id</th>\n",
       "      <th>index</th>\n",
       "      <th>danceability</th>\n",
       "      <th>energy</th>\n",
       "      <th>key</th>\n",
       "      <th>loudness</th>\n",
       "      <th>mode</th>\n",
       "      <th>speechiness</th>\n",
       "      <th>acousticness</th>\n",
       "      <th>instrumentalness</th>\n",
       "      <th>liveness</th>\n",
       "      <th>valence</th>\n",
       "      <th>tempo</th>\n",
       "    </tr>\n",
       "  </thead>\n",
       "  <tbody>\n",
       "    <tr>\n",
       "      <th>count</th>\n",
       "      <td>16582.000000</td>\n",
       "      <td>16582.000000</td>\n",
       "      <td>16582.000000</td>\n",
       "      <td>16582.000000</td>\n",
       "      <td>16582.000000</td>\n",
       "      <td>16582.000000</td>\n",
       "      <td>16582.000000</td>\n",
       "      <td>16582.000000</td>\n",
       "      <td>16582.000000</td>\n",
       "      <td>16582.000000</td>\n",
       "      <td>16582.000000</td>\n",
       "      <td>16582.000000</td>\n",
       "      <td>16582.000000</td>\n",
       "    </tr>\n",
       "    <tr>\n",
       "      <th>mean</th>\n",
       "      <td>8290.500000</td>\n",
       "      <td>10379.231034</td>\n",
       "      <td>0.537497</td>\n",
       "      <td>0.581647</td>\n",
       "      <td>5.221204</td>\n",
       "      <td>-9.831052</td>\n",
       "      <td>0.630141</td>\n",
       "      <td>0.080860</td>\n",
       "      <td>0.355857</td>\n",
       "      <td>0.192579</td>\n",
       "      <td>0.177035</td>\n",
       "      <td>0.461826</td>\n",
       "      <td>118.044775</td>\n",
       "    </tr>\n",
       "    <tr>\n",
       "      <th>std</th>\n",
       "      <td>4786.955417</td>\n",
       "      <td>6019.280318</td>\n",
       "      <td>0.199509</td>\n",
       "      <td>0.294844</td>\n",
       "      <td>3.570215</td>\n",
       "      <td>7.028912</td>\n",
       "      <td>0.482781</td>\n",
       "      <td>0.088269</td>\n",
       "      <td>0.369993</td>\n",
       "      <td>0.330111</td>\n",
       "      <td>0.142501</td>\n",
       "      <td>0.274358</td>\n",
       "      <td>30.286873</td>\n",
       "    </tr>\n",
       "    <tr>\n",
       "      <th>min</th>\n",
       "      <td>0.000000</td>\n",
       "      <td>0.000000</td>\n",
       "      <td>0.057800</td>\n",
       "      <td>0.000243</td>\n",
       "      <td>0.000000</td>\n",
       "      <td>-47.327000</td>\n",
       "      <td>0.000000</td>\n",
       "      <td>0.022400</td>\n",
       "      <td>0.000000</td>\n",
       "      <td>0.000000</td>\n",
       "      <td>0.010900</td>\n",
       "      <td>0.011800</td>\n",
       "      <td>30.875000</td>\n",
       "    </tr>\n",
       "    <tr>\n",
       "      <th>25%</th>\n",
       "      <td>4145.250000</td>\n",
       "      <td>5163.250000</td>\n",
       "      <td>0.399000</td>\n",
       "      <td>0.358000</td>\n",
       "      <td>2.000000</td>\n",
       "      <td>-11.935500</td>\n",
       "      <td>0.000000</td>\n",
       "      <td>0.037300</td>\n",
       "      <td>0.019000</td>\n",
       "      <td>0.000000</td>\n",
       "      <td>0.092100</td>\n",
       "      <td>0.225000</td>\n",
       "      <td>94.995500</td>\n",
       "    </tr>\n",
       "    <tr>\n",
       "      <th>50%</th>\n",
       "      <td>8290.500000</td>\n",
       "      <td>10388.500000</td>\n",
       "      <td>0.553000</td>\n",
       "      <td>0.648000</td>\n",
       "      <td>5.000000</td>\n",
       "      <td>-7.251000</td>\n",
       "      <td>1.000000</td>\n",
       "      <td>0.048700</td>\n",
       "      <td>0.193000</td>\n",
       "      <td>0.000418</td>\n",
       "      <td>0.120000</td>\n",
       "      <td>0.459000</td>\n",
       "      <td>115.619500</td>\n",
       "    </tr>\n",
       "    <tr>\n",
       "      <th>75%</th>\n",
       "      <td>12435.750000</td>\n",
       "      <td>15593.750000</td>\n",
       "      <td>0.691000</td>\n",
       "      <td>0.830000</td>\n",
       "      <td>8.000000</td>\n",
       "      <td>-5.096250</td>\n",
       "      <td>1.000000</td>\n",
       "      <td>0.082400</td>\n",
       "      <td>0.726000</td>\n",
       "      <td>0.230750</td>\n",
       "      <td>0.217000</td>\n",
       "      <td>0.690000</td>\n",
       "      <td>136.310250</td>\n",
       "    </tr>\n",
       "    <tr>\n",
       "      <th>max</th>\n",
       "      <td>16581.000000</td>\n",
       "      <td>20789.000000</td>\n",
       "      <td>0.978000</td>\n",
       "      <td>1.000000</td>\n",
       "      <td>11.000000</td>\n",
       "      <td>0.719000</td>\n",
       "      <td>1.000000</td>\n",
       "      <td>0.960000</td>\n",
       "      <td>0.996000</td>\n",
       "      <td>0.986000</td>\n",
       "      <td>0.996000</td>\n",
       "      <td>0.989000</td>\n",
       "      <td>219.938000</td>\n",
       "    </tr>\n",
       "  </tbody>\n",
       "</table>\n",
       "</div>"
      ],
      "text/plain": [
       "                 id         index  danceability        energy           key  \\\n",
       "count  16582.000000  16582.000000  16582.000000  16582.000000  16582.000000   \n",
       "mean    8290.500000  10379.231034      0.537497      0.581647      5.221204   \n",
       "std     4786.955417   6019.280318      0.199509      0.294844      3.570215   \n",
       "min        0.000000      0.000000      0.057800      0.000243      0.000000   \n",
       "25%     4145.250000   5163.250000      0.399000      0.358000      2.000000   \n",
       "50%     8290.500000  10388.500000      0.553000      0.648000      5.000000   \n",
       "75%    12435.750000  15593.750000      0.691000      0.830000      8.000000   \n",
       "max    16581.000000  20789.000000      0.978000      1.000000     11.000000   \n",
       "\n",
       "           loudness          mode   speechiness  acousticness  \\\n",
       "count  16582.000000  16582.000000  16582.000000  16582.000000   \n",
       "mean      -9.831052      0.630141      0.080860      0.355857   \n",
       "std        7.028912      0.482781      0.088269      0.369993   \n",
       "min      -47.327000      0.000000      0.022400      0.000000   \n",
       "25%      -11.935500      0.000000      0.037300      0.019000   \n",
       "50%       -7.251000      1.000000      0.048700      0.193000   \n",
       "75%       -5.096250      1.000000      0.082400      0.726000   \n",
       "max        0.719000      1.000000      0.960000      0.996000   \n",
       "\n",
       "       instrumentalness      liveness       valence         tempo  \n",
       "count      16582.000000  16582.000000  16582.000000  16582.000000  \n",
       "mean           0.192579      0.177035      0.461826    118.044775  \n",
       "std            0.330111      0.142501      0.274358     30.286873  \n",
       "min            0.000000      0.010900      0.011800     30.875000  \n",
       "25%            0.000000      0.092100      0.225000     94.995500  \n",
       "50%            0.000418      0.120000      0.459000    115.619500  \n",
       "75%            0.230750      0.217000      0.690000    136.310250  \n",
       "max            0.986000      0.996000      0.989000    219.938000  "
      ]
     },
     "execution_count": 6,
     "metadata": {},
     "output_type": "execute_result"
    }
   ],
   "source": [
    "df.describe()"
   ]
  },
  {
   "cell_type": "code",
   "execution_count": 7,
   "metadata": {},
   "outputs": [],
   "source": [
    "for i in df.columns:\n",
    "    df[i].fillna(df[i].mean, inplace = True)"
   ]
  },
  {
   "cell_type": "code",
   "execution_count": 8,
   "metadata": {},
   "outputs": [
    {
     "name": "stdout",
     "output_type": "stream",
     "text": [
      "   id  index                                        title  danceability  \\\n",
      "0   0   5661  Love U Better (feat. Lil Wayne & The-Dream)        0.4820   \n",
      "1   1   6719         For Whom The Bell Tolls - Remastered        0.5180   \n",
      "2   2   6357                           So Hard To Breathe        0.5430   \n",
      "3   3   8849                                  Black Metal        0.2910   \n",
      "4   4  14251                           There Will Be Rest        0.0975   \n",
      "\n",
      "   energy  key  loudness  mode  speechiness  acousticness  instrumentalness  \\\n",
      "0  0.4770   10    -8.444     0       0.0503      0.020100          0.000000   \n",
      "1  0.8580    0    -6.147     1       0.0672      0.005630          0.003490   \n",
      "2  0.8190   11    -5.151     0       0.0732      0.018500          0.000000   \n",
      "3  0.7580    1   -12.103     1       0.0556      0.000918          0.000007   \n",
      "4  0.0696    3   -24.941     1       0.0408      0.992000          0.461000   \n",
      "\n",
      "   liveness  valence    tempo  genre  \n",
      "0    0.2510   0.3880  117.850      4  \n",
      "1    0.0598   0.2420  117.897      8  \n",
      "2    0.2070   0.3650   84.541      4  \n",
      "3    0.2910   0.4480   80.601      8  \n",
      "4    0.1010   0.0353   80.872      1  \n"
     ]
    }
   ],
   "source": [
    "le = LabelEncoder()\n",
    "ld = LabelEncoder()\n",
    "df['mode']= le.fit_transform(df['mode'])\n",
    "df['genre'] = ld.fit_transform(df['genre'])\n",
    "test['mode'] = le.fit_transform(test['mode'])\n",
    "print df.head()"
   ]
  },
  {
   "cell_type": "code",
   "execution_count": 9,
   "metadata": {},
   "outputs": [],
   "source": [
    "X = df.drop(['genre','title','index','id'],axis=1)\n",
    "y = df['genre']\n"
   ]
  },
  {
   "cell_type": "code",
   "execution_count": 10,
   "metadata": {},
   "outputs": [
    {
     "data": {
      "text/plain": [
       "OneVsRestClassifier(estimator=LogisticRegression(C=1.0, class_weight=None, dual=False, fit_intercept=True,\n",
       "          intercept_scaling=1, max_iter=100, multi_class='ovr', n_jobs=1,\n",
       "          penalty='l2', random_state=None, solver='liblinear', tol=0.0001,\n",
       "          verbose=0, warm_start=False),\n",
       "          n_jobs=1)"
      ]
     },
     "execution_count": 10,
     "metadata": {},
     "output_type": "execute_result"
    }
   ],
   "source": [
    "logreg = OvR(estimator=LogisticRegression())\n",
    "X_train, X_test, y_train,y_test = train_test_split(X,y)\n",
    "logreg.fit(X_train,y_train)\n"
   ]
  },
  {
   "cell_type": "code",
   "execution_count": 11,
   "metadata": {},
   "outputs": [],
   "source": [
    "Xtrain_scaled = pd.DataFrame(scale(X_train.values))\n",
    "Xtest_scaled = pd.DataFrame(scale(X_test.values))"
   ]
  },
  {
   "cell_type": "code",
   "execution_count": 12,
   "metadata": {},
   "outputs": [
    {
     "name": "stdout",
     "output_type": "stream",
     "text": [
      "0.452001929571\n"
     ]
    }
   ],
   "source": [
    "logreg.fit(X_train,y_train)\n",
    "logr_pred = logreg.predict(X_test)\n",
    "print logreg.score(X_test,y_test)"
   ]
  },
  {
   "cell_type": "code",
   "execution_count": 13,
   "metadata": {},
   "outputs": [
    {
     "name": "stdout",
     "output_type": "stream",
     "text": [
      "0.455619874578\n"
     ]
    }
   ],
   "source": [
    "logreg.fit(Xtrain_scaled,y_train)\n",
    "logrs_pred = logreg.predict(Xtest_scaled)\n",
    "print accuracy_score(logrs_pred,y_test)"
   ]
  },
  {
   "cell_type": "code",
   "execution_count": 17,
   "metadata": {},
   "outputs": [
    {
     "name": "stdout",
     "output_type": "stream",
     "text": [
      "0.536179450072\n"
     ]
    }
   ],
   "source": [
    "rf = OvR(estimator=RandomForestClassifier(n_estimators=15))\n",
    "rf.fit(X_train,y_train)\n",
    "rf_pred = rf.predict(X_test)\n",
    "print accuracy_score(rf_pred,y_test)"
   ]
  },
  {
   "cell_type": "code",
   "execution_count": 18,
   "metadata": {
    "collapsed": true
   },
   "outputs": [],
   "source": [
    "def params_tuning(model,X_train,y_train,X_test,y_test,metrics,param_grid):\n",
    "    \"\"\"Tune parameters of the model using a grid search.\"\"\"\n",
    "    gs=GridSearchCV(model,param_grid=param_grid,scoring=metrics,cv=10)\n",
    "    gs.fit(X_train,y_train)\n",
    "    predicted = gs.predict(X_test)\n",
    "    print (gs.best_params_)\n",
    "    print (accuracy_score(predicted,y_test),'Optimised Score')"
   ]
  },
  {
   "cell_type": "code",
   "execution_count": 19,
   "metadata": {},
   "outputs": [
    {
     "name": "stdout",
     "output_type": "stream",
     "text": [
      "{'n_estimators': 15}\n",
      "(0.47009165460684998, 'Optimised Score')\n"
     ]
    }
   ],
   "source": [
    "rf_params = dict(n_estimators=np.arange(5,25,10))\n",
    "params_tuning(RandomForestClassifier(),Xtrain_scaled,y_train,Xtest_scaled,y_test,None,rf_params)"
   ]
  },
  {
   "cell_type": "code",
   "execution_count": null,
   "metadata": {},
   "outputs": [],
   "source": [
    "gbra = GradientBoostingClassifier(learning_rate=0.35, min_samples_split = 400,max_depth =5 ,subsample = 0.8, min_samples_leaf=40)\n",
    "bgrp = dict(n_estimators = np.arange(50,60,2))\n",
    "params_tuning(gbra,Xtrain_scaled,y_train,Xtest_scaled,y_test,None,bgrp)"
   ]
  },
  {
   "cell_type": "code",
   "execution_count": null,
   "metadata": {},
   "outputs": [],
   "source": [
    "gbra.fit(Xtrain_scaled,y_train)"
   ]
  },
  {
   "cell_type": "code",
   "execution_count": null,
   "metadata": {},
   "outputs": [],
   "source": [
    "gbrp = gbra.predict(Xtest_scaled)\n",
    "print accuracy_score(gbrp,y_test)"
   ]
  },
  {
   "cell_type": "code",
   "execution_count": null,
   "metadata": {
    "collapsed": true
   },
   "outputs": [],
   "source": []
  },
  {
   "cell_type": "code",
   "execution_count": null,
   "metadata": {},
   "outputs": [],
   "source": [
    "gbr = OvR(GradientBoostingClassifier(learning_rate=0.4, min_samples_split = 400,max_depth =5 ,subsample = 0.8, min_samples_leaf=40,max_features='sqrt'\n",
    ",n_estimators = 70))\n",
    "gbr.fit(Xtrain_scaled,y_train)\n",
    "gbr_p = gbr.predict(Xtest_scaled)\n",
    "print accuracy_score(gbr_p,y_test)"
   ]
  },
  {
   "cell_type": "code",
   "execution_count": 14,
   "metadata": {},
   "outputs": [],
   "source": [
    "tfp = test.drop(['id','index','title'],axis=1)"
   ]
  },
  {
   "cell_type": "code",
   "execution_count": 16,
   "metadata": {},
   "outputs": [
    {
     "name": "stdout",
     "output_type": "stream",
     "text": [
      "4146\n",
      "[11 11 11 ..., 11  3  3]\n",
      "['punk' 'punk' 'punk' ..., 'punk' 'funk' 'funk']\n"
     ]
    }
   ],
   "source": [
    "test_p = logreg.predict(tfp)\n",
    "print len(test_p)\n",
    "print test_p\n",
    "print ld.inverse_transform(test_p)\n"
   ]
  },
  {
   "cell_type": "code",
   "execution_count": null,
   "metadata": {},
   "outputs": [],
   "source": [
    "prediction= pd.DataFrame(test_p,index=test['id'])\n",
    "prediction.to_csv('C:\\Users\\Ritika Dell\\Desktop\\Data Jam/Predictions.csv')"
   ]
  },
  {
   "cell_type": "code",
   "execution_count": 32,
   "metadata": {},
   "outputs": [],
   "source": [
    "dt = OvR(DecisionTreeClassifier(max_depth=8,random_state=12,min_samples_leaf=300,min_samples_split=200))\n",
    "dt.fit(X_train,y_train)\n",
    "dtp = dt.predict(X_test)"
   ]
  },
  {
   "cell_type": "code",
   "execution_count": 33,
   "metadata": {},
   "outputs": [
    {
     "name": "stdout",
     "output_type": "stream",
     "text": [
      "0.438012542209\n"
     ]
    }
   ],
   "source": [
    "print accuracy_score(dtp,y_test)"
   ]
  },
  {
   "cell_type": "code",
   "execution_count": 40,
   "metadata": {},
   "outputs": [
    {
     "name": "stdout",
     "output_type": "stream",
     "text": [
      "['latin' 'metal' 'country' ..., 'metal' 'classical' 'classical']\n"
     ]
    }
   ],
   "source": [
    "testdtp = dt.predict(tfp)\n",
    "test_dtp = ld.inverse_transform(testdtp)\n",
    "print test_dtp"
   ]
  },
  {
   "cell_type": "code",
   "execution_count": 43,
   "metadata": {},
   "outputs": [],
   "source": [
    "prediction = pd.DataFrame(test_dtp,index = test['id'])\n",
    "prediction.to_csv('C:\\Users\\Ritika Dell\\Desktop\\Data Jam/predicion_dtp.csv')"
   ]
  },
  {
   "cell_type": "code",
   "execution_count": 97,
   "metadata": {},
   "outputs": [
    {
     "name": "stdout",
     "output_type": "stream",
     "text": [
      "0.532561505065\n"
     ]
    }
   ],
   "source": [
    "rf = OvR(estimator=RandomForestClassifier(n_estimators=15))\n",
    "rf.fit(X_train,y_train)\n",
    "rf_pred = rf.predict(X_test)\n",
    "print accuracy_score(rf_pred,y_test)"
   ]
  },
  {
   "cell_type": "code",
   "execution_count": 95,
   "metadata": {},
   "outputs": [
    {
     "name": "stdout",
     "output_type": "stream",
     "text": [
      "4146\n",
      "['reggae' 'metal' 'indie_alt' ..., 'indie_alt' 'romance' 'classical']\n"
     ]
    },
    {
     "ename": "ValueError",
     "evalue": "The truth value of an array with more than one element is ambiguous. Use a.any() or a.all()",
     "output_type": "error",
     "traceback": [
      "\u001b[1;31m---------------------------------------------------------------------------\u001b[0m",
      "\u001b[1;31mValueError\u001b[0m                                Traceback (most recent call last)",
      "\u001b[1;32m<ipython-input-95-20a5a34003f4>\u001b[0m in \u001b[0;36m<module>\u001b[1;34m()\u001b[0m\n\u001b[0;32m      3\u001b[0m \u001b[1;32mprint\u001b[0m \u001b[0mlen\u001b[0m\u001b[1;33m(\u001b[0m\u001b[0mtestr_p\u001b[0m\u001b[1;33m)\u001b[0m\u001b[1;33m\u001b[0m\u001b[0m\n\u001b[0;32m      4\u001b[0m \u001b[1;32mprint\u001b[0m \u001b[0mtestr_p\u001b[0m\u001b[1;33m\u001b[0m\u001b[0m\n\u001b[1;32m----> 5\u001b[1;33m \u001b[0mtestr_rfc\u001b[0m\u001b[1;33m=\u001b[0m \u001b[0mld\u001b[0m\u001b[1;33m.\u001b[0m\u001b[0minverse_transform\u001b[0m\u001b[1;33m(\u001b[0m\u001b[0mtestr_p\u001b[0m\u001b[1;33m)\u001b[0m\u001b[1;33m\u001b[0m\u001b[0m\n\u001b[0m\u001b[0;32m      6\u001b[0m \u001b[1;32mprint\u001b[0m \u001b[0mtestr_p\u001b[0m\u001b[1;33m\u001b[0m\u001b[0m\n",
      "\u001b[1;32mC:\\ProgramData\\Anaconda2\\lib\\site-packages\\sklearn\\preprocessing\\label.py\u001b[0m in \u001b[0;36minverse_transform\u001b[1;34m(self, y)\u001b[0m\n\u001b[0;32m    169\u001b[0m \u001b[1;33m\u001b[0m\u001b[0m\n\u001b[0;32m    170\u001b[0m         \u001b[0mdiff\u001b[0m \u001b[1;33m=\u001b[0m \u001b[0mnp\u001b[0m\u001b[1;33m.\u001b[0m\u001b[0msetdiff1d\u001b[0m\u001b[1;33m(\u001b[0m\u001b[0my\u001b[0m\u001b[1;33m,\u001b[0m \u001b[0mnp\u001b[0m\u001b[1;33m.\u001b[0m\u001b[0marange\u001b[0m\u001b[1;33m(\u001b[0m\u001b[0mlen\u001b[0m\u001b[1;33m(\u001b[0m\u001b[0mself\u001b[0m\u001b[1;33m.\u001b[0m\u001b[0mclasses_\u001b[0m\u001b[1;33m)\u001b[0m\u001b[1;33m)\u001b[0m\u001b[1;33m)\u001b[0m\u001b[1;33m\u001b[0m\u001b[0m\n\u001b[1;32m--> 171\u001b[1;33m         \u001b[1;32mif\u001b[0m \u001b[0mdiff\u001b[0m\u001b[1;33m:\u001b[0m\u001b[1;33m\u001b[0m\u001b[0m\n\u001b[0m\u001b[0;32m    172\u001b[0m             \u001b[1;32mraise\u001b[0m \u001b[0mValueError\u001b[0m\u001b[1;33m(\u001b[0m\u001b[1;34m\"y contains new labels: %s\"\u001b[0m \u001b[1;33m%\u001b[0m \u001b[0mstr\u001b[0m\u001b[1;33m(\u001b[0m\u001b[0mdiff\u001b[0m\u001b[1;33m)\u001b[0m\u001b[1;33m)\u001b[0m\u001b[1;33m\u001b[0m\u001b[0m\n\u001b[0;32m    173\u001b[0m         \u001b[0my\u001b[0m \u001b[1;33m=\u001b[0m \u001b[0mnp\u001b[0m\u001b[1;33m.\u001b[0m\u001b[0masarray\u001b[0m\u001b[1;33m(\u001b[0m\u001b[0my\u001b[0m\u001b[1;33m)\u001b[0m\u001b[1;33m\u001b[0m\u001b[0m\n",
      "\u001b[1;31mValueError\u001b[0m: The truth value of an array with more than one element is ambiguous. Use a.any() or a.all()"
     ]
    }
   ],
   "source": [
    "tfps = scale(tfp)\n",
    "testr_rfc = rf.predict(tfp)\n",
    "print len(testr_p)\n",
    "print testr_p\n",
    "testr_rfc= ld.inverse_transform(testr_p)\n",
    "print testr_p"
   ]
  },
  {
   "cell_type": "code",
   "execution_count": 96,
   "metadata": {
    "collapsed": true
   },
   "outputs": [],
   "source": [
    "prediction = pd.DataFrame(testr_rfc,index = test['id'])\n",
    "prediction.to_csv('C:\\Users\\Ritika Dell\\Desktop\\Data Jam/predicions_rfc.csv',header='genre')"
   ]
  },
  {
   "cell_type": "code",
   "execution_count": 87,
   "metadata": {},
   "outputs": [],
   "source": [
    "ada = OvR(AdaBoostClassifier(learning_rate=0.9,n_estimators=50,random_state=12))\n",
    "ada.fit((X_train),y_train)\n",
    "adap = ada.predict((X_test))"
   ]
  },
  {
   "cell_type": "code",
   "execution_count": 88,
   "metadata": {},
   "outputs": [
    {
     "name": "stdout",
     "output_type": "stream",
     "text": [
      "0.497105643994\n"
     ]
    }
   ],
   "source": [
    "print accuracy_score(adap,y_test)"
   ]
  },
  {
   "cell_type": "code",
   "execution_count": 89,
   "metadata": {},
   "outputs": [
    {
     "name": "stdout",
     "output_type": "stream",
     "text": [
      "4146\n",
      "['reggae' 'metal' 'indie_alt' ..., 'indie_alt' 'romance' 'classical']\n",
      "['reggae' 'metal' 'indie_alt' ..., 'indie_alt' 'romance' 'classical']\n"
     ]
    }
   ],
   "source": [
    "testr_a = rf.predict(tfp)\n",
    "print len(testr_p)\n",
    "print testr_p\n",
    "testr_a= ld.inverse_transform(testr_a)\n",
    "print testr_p"
   ]
  },
  {
   "cell_type": "code",
   "execution_count": 90,
   "metadata": {
    "collapsed": true
   },
   "outputs": [],
   "source": [
    "prediction = pd.DataFrame(testr_p,index = test['id'])\n",
    "prediction.to_csv('C:\\Users\\Ritika Dell\\Desktop\\Data Jam/predicionsada.csv')"
   ]
  },
  {
   "cell_type": "markdown",
   "metadata": {},
   "source": [
    "Final Model"
   ]
  },
  {
   "cell_type": "code",
   "execution_count": 98,
   "metadata": {},
   "outputs": [
    {
     "name": "stdout",
     "output_type": "stream",
     "text": [
      "0.534008683068\n"
     ]
    }
   ],
   "source": [
    "rf = OvR(estimator=RandomForestClassifier(n_estimators=15))\n",
    "rf.fit(X_train,y_train)\n",
    "rf_pred = rf.predict(X_test)\n",
    "print accuracy_score(rf_pred,y_test)"
   ]
  },
  {
   "cell_type": "code",
   "execution_count": null,
   "metadata": {
    "collapsed": true
   },
   "outputs": [],
   "source": []
  }
 ],
 "metadata": {
  "kernelspec": {
   "display_name": "Python 2",
   "language": "python",
   "name": "python2"
  },
  "language_info": {
   "codemirror_mode": {
    "name": "ipython",
    "version": 2
   },
   "file_extension": ".py",
   "mimetype": "text/x-python",
   "name": "python",
   "nbconvert_exporter": "python",
   "pygments_lexer": "ipython2",
   "version": "2.7.13"
  }
 },
 "nbformat": 4,
 "nbformat_minor": 2
}
