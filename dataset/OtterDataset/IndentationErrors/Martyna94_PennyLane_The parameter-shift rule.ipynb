{
 "cells": [
  {
   "cell_type": "markdown",
   "metadata": {
    "collapsed": true,
    "pycharm": {
     "name": "#%% md\n"
    }
   },
   "source": [
    "Challenge Statement\n",
    "--------------------\n",
    "\n",
    "In this challenge, you will compute the gradient of a QNode using the parameter-shift rule:\n",
    "$\\frac{\\partial f}{\\partial \\theta_i} = \\frac{f(\\theta + s\\hat{e}_i) - f(\\theta - s\\hat{e}_i)}{2\\sin(s)}$\n",
    "where $f(\\theta) = \\langle \\psi | U^\\dagger(\\theta) \\hat{O} U(\\theta) | \\psi \\rangle$is the output of the variational circuit (the measured expectation value), and $\\hat{e}_i$is the i-th coordinate unit vector.\n",
    "\n",
    "You are also asked to build the circuit in question, which is shown in the diagram below.\n",
    "![circuit](./images/Theparameter-shiftrule_1.png)\n",
    "If you're stuck, you might find the following hints helpful:\n",
    "* [Pennylane documentation](https://docs.pennylane.ai/en/stable/)\n",
    "* [Quantum Gradients demo](https://pennylane.ai/qml/demos/tutorial_backprop/)\n",
    "\n",
    "Challenge code\n",
    "----------------\n",
    "\n",
    "In this challenge you must complete the following two functions.\n",
    "1. circuit: This QNode builds the circuit shown below and returns the expectation value of the $Y_0 \\otimes Z_2$ observable. The circuit depends on a set weights (np.ndarray) of six parameters given to you as a 2×3 matrix\n",
    "$\\begin{pmatrix}\n",
    "w_{00} & w_{01} & w_{02} \\\\\n",
    "w_{10} & w_{11} & w_{12}\n",
    "\\end{pmatrix}$\n",
    "\n",
    "2. parameter_shift: This function returns the gradient of the QNode computed via the parameter shift rule evaluated at weights (np.ndarray), given as a 2×3 matrix as above. The gradient must respect the shape of the input array, meaning that the output should be an np.ndarray of shape (2,3) corresponding to\n",
    "$\\begin{pmatrix}\n",
    "\\frac{\\partial f}{\\partial w_{00}} & \\frac{\\partial f}{\\partial w_{01}} & \\frac{\\partial f}{\\partial w_{02}} \\\\\n",
    "\\frac{\\partial f}{\\partial w_{10}} & \\frac{\\partial f}{\\partial w_{11}} & \\frac{\\partial f}{\\partial w_{12}}\n",
    "\\end{pmatrix}.\n",
    "$\n",
    "\n",
    "Input\n",
    "----------\n",
    "\n",
    "As input to this problem, you are given an np.ndarray of shape (2,3) corresponding to the weights as explained above.\n",
    "\n",
    "Output\n",
    "-----------\n",
    "\n",
    "The output of your code should be an np.ndarray of shape (2,3) corresponding to the gradient."
   ]
  },
  {
   "cell_type": "code",
   "execution_count": 1,
   "outputs": [
    {
     "ename": "IndentationError",
     "evalue": "expected an indented block after function definition on line 8 (2696322796.py, line 18)",
     "output_type": "error",
     "traceback": [
      "\u001B[1;36m  Cell \u001B[1;32mIn[1], line 18\u001B[1;36m\u001B[0m\n\u001B[1;33m    def parameter_shift(weights):\u001B[0m\n\u001B[1;37m    ^\u001B[0m\n\u001B[1;31mIndentationError\u001B[0m\u001B[1;31m:\u001B[0m expected an indented block after function definition on line 8\n"
     ]
    }
   ],
   "source": [
    "import json\n",
    "import pennylane as qml\n",
    "import pennylane.numpy as np\n",
    "\n",
    "dev = qml.device(\"default.qubit\", wires=3)\n",
    "\n",
    "@qml.qnode(dev)\n",
    "def circuit(weights):\n",
    "\n",
    "\n",
    "\n",
    "# Build the circuit here\n",
    "\n",
    "# Return the Y0xZ2 observable\n",
    "\n",
    "\n",
    "\n",
    "def parameter_shift(weights):\n",
    "    \"\"\"Compute the gradient of the variational circuit given by the\n",
    "    circuit function using the parameter-shift rule.\n",
    "\n",
    "    Args:\n",
    "        weights (array): An array of floating-point numbers with size (2, 3).\n",
    "\n",
    "    Returns:\n",
    "        array: The gradient of the variational circuit. The shape should match\n",
    "        the input weights array.\n",
    "    \"\"\"\n",
    "\n",
    "\n",
    "\n",
    "    # Return the gradient calculated using the parameter-shift rule\n",
    "\n",
    "\n",
    "\n",
    "# These functions are responsible for testing the solution.\n",
    "def run(test_case_input: str) -> str:\n",
    "\n",
    "    ins = np.array(json.loads(test_case_input), requires_grad = True)\n",
    "    out = parameter_shift(ins).round(3).tolist()\n",
    "\n",
    "    return str(out)\n",
    "\n",
    "def check(solution_output: str, expected_output: str) -> None:\n",
    "    solution_output = json.loads(solution_output)\n",
    "    expected_output = json.loads(expected_output)\n",
    "\n",
    "    assert np.allclose(solution_output, expected_output, atol=1e-2), \"The gradient calculated isn't quite right.\"\n",
    "\n",
    "\n",
    "# These are the public test cases\n",
    "test_cases = [\n",
    "    ('[[1,0.5,-0.765], [0.1,0,-0.654]]', '[[0.0, 0.0, 0.0], [0.0, -0.455, 0.0]]'),\n",
    "    ('[[0.94,-0.2,6.03],[-2.6,-0.058,1.2]]', '[[0.03, -0.039, 0.0], [-0.034, 0.166, 0.0]]')\n",
    "]\n",
    "\n",
    "# This will run the public test cases locally\n",
    "for i, (input_, expected_output) in enumerate(test_cases):\n",
    "    print(f\"Running test case {i} with input '{input_}'...\")\n",
    "\n",
    "    try:\n",
    "        output = run(input_)\n",
    "\n",
    "    except Exception as exc:\n",
    "        print(f\"Runtime Error. {exc}\")\n",
    "\n",
    "    else:\n",
    "        if message := check(output, expected_output):\n",
    "            print(f\"Wrong Answer. Have: '{output}'. Want: '{expected_output}'.\")\n",
    "\n",
    "        else:\n",
    "            print(\"Correct!\")"
   ],
   "metadata": {
    "collapsed": false,
    "pycharm": {
     "name": "#%%\n"
    }
   }
  },
  {
   "cell_type": "code",
   "execution_count": null,
   "outputs": [],
   "source": [],
   "metadata": {
    "collapsed": false,
    "pycharm": {
     "name": "#%%\n"
    }
   }
  }
 ],
 "metadata": {
  "kernelspec": {
   "display_name": "Python 3",
   "language": "python",
   "name": "python3"
  },
  "language_info": {
   "codemirror_mode": {
    "name": "ipython",
    "version": 2
   },
   "file_extension": ".py",
   "mimetype": "text/x-python",
   "name": "python",
   "nbconvert_exporter": "python",
   "pygments_lexer": "ipython2",
   "version": "2.7.6"
  }
 },
 "nbformat": 4,
 "nbformat_minor": 0
}