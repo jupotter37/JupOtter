{
 "cells": [
  {
   "cell_type": "markdown",
   "metadata": {},
   "source": [
    "# Exceptions Basics\n",
    "\n",
    "Error's so napake v programu, ki nam ponavadi zaustavijo izvajanje programa.\n",
    "\n",
    "Klasificiramo jih v:\n",
    "* Snytaks errors\n",
    "* Runtime errors\n",
    "* Logical errors"
   ]
  },
  {
   "cell_type": "markdown",
   "metadata": {},
   "source": [
    "## Syntax errors\n",
    "\n",
    "Syntax errors so napake pri uporabi Python jezika.\n",
    "\n",
    "Python bo našel te napake med parsanjem našega programa. Če najde takšno napako bo exit-u brez, da bi pognal ta del kode.\n",
    "\n",
    "Najbolj pogoste Syntax napake so:\n",
    "* izpustitev keyword\n",
    "* uporaba keyword na napačnem mestu\n",
    "* izpustitev simbolov, kot je :\n",
    "* napačno črkovanje\n",
    "* napačen indentation\n"
   ]
  },
  {
   "cell_type": "code",
   "execution_count": 1,
   "metadata": {},
   "outputs": [
    {
     "ename": "SyntaxError",
     "evalue": "invalid syntax (<ipython-input-1-8b32d31d1203>, line 2)",
     "output_type": "error",
     "traceback": [
      "\u001b[0;36m  File \u001b[0;32m\"<ipython-input-1-8b32d31d1203>\"\u001b[0;36m, line \u001b[0;32m2\u001b[0m\n\u001b[0;31m    myfunction(x, y):\u001b[0m\n\u001b[0m                     ^\u001b[0m\n\u001b[0;31mSyntaxError\u001b[0m\u001b[0;31m:\u001b[0m invalid syntax\n"
     ]
    }
   ],
   "source": [
    "# Primer: manjka keyword def\n",
    "myfunction(x, y):\n",
    "    return x + y"
   ]
  },
  {
   "cell_type": "code",
   "execution_count": 2,
   "metadata": {},
   "outputs": [
    {
     "ename": "SyntaxError",
     "evalue": "invalid syntax (<ipython-input-2-429811f9164b>, line 1)",
     "output_type": "error",
     "traceback": [
      "\u001b[0;36m  File \u001b[0;32m\"<ipython-input-2-429811f9164b>\"\u001b[0;36m, line \u001b[0;32m1\u001b[0m\n\u001b[0;31m    else:\u001b[0m\n\u001b[0m    ^\u001b[0m\n\u001b[0;31mSyntaxError\u001b[0m\u001b[0;31m:\u001b[0m invalid syntax\n"
     ]
    }
   ],
   "source": [
    "else:\n",
    "    print(\"Hello!\")\n"
   ]
  },
  {
   "cell_type": "code",
   "execution_count": 3,
   "metadata": {},
   "outputs": [
    {
     "ename": "SyntaxError",
     "evalue": "invalid syntax (<ipython-input-3-2bfd10af2cba>, line 2)",
     "output_type": "error",
     "traceback": [
      "\u001b[0;36m  File \u001b[0;32m\"<ipython-input-3-2bfd10af2cba>\"\u001b[0;36m, line \u001b[0;32m2\u001b[0m\n\u001b[0;31m    if mark >= 50\u001b[0m\n\u001b[0m                 ^\u001b[0m\n\u001b[0;31mSyntaxError\u001b[0m\u001b[0;31m:\u001b[0m invalid syntax\n"
     ]
    }
   ],
   "source": [
    "# Primer: manjka :\n",
    "if mark >= 50\n",
    "    print(\"You passed!\")\n"
   ]
  },
  {
   "cell_type": "code",
   "execution_count": 4,
   "metadata": {},
   "outputs": [
    {
     "ename": "SyntaxError",
     "evalue": "invalid syntax (<ipython-input-4-1cca186d8b5e>, line 4)",
     "output_type": "error",
     "traceback": [
      "\u001b[0;36m  File \u001b[0;32m\"<ipython-input-4-1cca186d8b5e>\"\u001b[0;36m, line \u001b[0;32m4\u001b[0m\n\u001b[0;31m    esle:\u001b[0m\n\u001b[0m         ^\u001b[0m\n\u001b[0;31mSyntaxError\u001b[0m\u001b[0;31m:\u001b[0m invalid syntax\n"
     ]
    }
   ],
   "source": [
    "# Primer: napačno črkovanje \"else\"\n",
    "if arriving:\n",
    "    print(\"Hi!\")\n",
    "esle:\n",
    "    print(\"Bye!\")"
   ]
  },
  {
   "cell_type": "code",
   "execution_count": 5,
   "metadata": {},
   "outputs": [
    {
     "ename": "IndentationError",
     "evalue": "expected an indented block (<ipython-input-5-2009e1311970>, line 3)",
     "output_type": "error",
     "traceback": [
      "\u001b[0;36m  File \u001b[0;32m\"<ipython-input-5-2009e1311970>\"\u001b[0;36m, line \u001b[0;32m3\u001b[0m\n\u001b[0;31m    print(\"Flag is set!\")\u001b[0m\n\u001b[0m    ^\u001b[0m\n\u001b[0;31mIndentationError\u001b[0m\u001b[0;31m:\u001b[0m expected an indented block\n"
     ]
    }
   ],
   "source": [
    "# Primer: napačen indentation\n",
    "if flag:\n",
    "print(\"Flag is set!\")"
   ]
  },
  {
   "cell_type": "markdown",
   "metadata": {},
   "source": [
    "## Runtime errors\n",
    "\n",
    "Primer runtime errors:\n",
    "* Deljenje z 0\n",
    "* Dostopanje do elementov, ki ne obstajajo\n",
    "* Dostopanje do datotek, ki ne obstajajo\n",
    "\n",
    "> * division by zero\n",
    "* performing an operation on incompatible types\n",
    "* using an identifier which has not been defined\n",
    "* accessing a list element, dictionary value or object attribute which doesn’t exist\n",
    "* trying to access a file which doesn’t exist"
   ]
  },
  {
   "cell_type": "code",
   "execution_count": 6,
   "metadata": {},
   "outputs": [
    {
     "ename": "ZeroDivisionError",
     "evalue": "division by zero",
     "output_type": "error",
     "traceback": [
      "\u001b[0;31m---------------------------------------------------------------------------\u001b[0m",
      "\u001b[0;31mZeroDivisionError\u001b[0m                         Traceback (most recent call last)",
      "\u001b[0;32m<ipython-input-6-eca1cc1fcdbe>\u001b[0m in \u001b[0;36m<module>\u001b[0;34m\u001b[0m\n\u001b[1;32m      1\u001b[0m \u001b[0;31m# Primer: deljenje z 0\u001b[0m\u001b[0;34m\u001b[0m\u001b[0;34m\u001b[0m\u001b[0;34m\u001b[0m\u001b[0m\n\u001b[0;32m----> 2\u001b[0;31m \u001b[0;36m1\u001b[0m \u001b[0;34m/\u001b[0m \u001b[0;36m0\u001b[0m\u001b[0;34m\u001b[0m\u001b[0;34m\u001b[0m\u001b[0m\n\u001b[0m",
      "\u001b[0;31mZeroDivisionError\u001b[0m: division by zero"
     ]
    }
   ],
   "source": [
    "# Primer: deljenje z 0\n",
    "1 / 0"
   ]
  },
  {
   "cell_type": "markdown",
   "metadata": {},
   "source": [
    "## Logical errors\n",
    "\n",
    "Logične napake nam povzročijo napačne rezultate. Program je lahko sintaksično pravilno zapisan ampak nam ne bo vrnil iskanega rezultata.\n",
    "\n",
    "Primeri\n",
    "* Uporabna napačne spremenljivke\n",
    "* napačna indentacija\n",
    "* uporaba celoštevilskega deljenja in ne navadnega deljenja\n",
    "\n",
    ">Logical errors are the most difficult to fix. They occur when the program runs without crashing, but produces an incorrect result. The error is caused by a mistake in the program’s logic. You won’t get an error message, because no syntax or runtime error has occurred. You will have to find the problem on your own by reviewing all the relevant parts of your code – although some tools can flag suspicious code which looks like it could cause unexpected behaviour.\n"
   ]
  },
  {
   "cell_type": "code",
   "execution_count": null,
   "metadata": {},
   "outputs": [],
   "source": []
  },
  {
   "cell_type": "markdown",
   "metadata": {},
   "source": [
    "## The try and except statements\n",
    "\n",
    "Da obvladujemo morebitne napake uporabljamo try-except:"
   ]
  },
  {
   "cell_type": "code",
   "execution_count": 7,
   "metadata": {},
   "outputs": [
    {
     "name": "stdout",
     "output_type": "stream",
     "text": [
      "Vnesi prvo številko: 1\n",
      "Vnesi drugo številko: 2\n",
      "1/2 = 0.5\n",
      "\n",
      "Vnesi prvo številko: a\n"
     ]
    },
    {
     "ename": "ValueError",
     "evalue": "invalid literal for int() with base 10: 'a'",
     "output_type": "error",
     "traceback": [
      "\u001b[0;31m---------------------------------------------------------------------------\u001b[0m",
      "\u001b[0;31mValueError\u001b[0m                                Traceback (most recent call last)",
      "\u001b[0;32m<ipython-input-7-b27c485d0cd1>\u001b[0m in \u001b[0;36m<module>\u001b[0;34m\u001b[0m\n\u001b[1;32m      1\u001b[0m \u001b[0;32mfor\u001b[0m \u001b[0m_\u001b[0m \u001b[0;32min\u001b[0m \u001b[0mrange\u001b[0m\u001b[0;34m(\u001b[0m\u001b[0;36m3\u001b[0m\u001b[0;34m)\u001b[0m\u001b[0;34m:\u001b[0m\u001b[0;34m\u001b[0m\u001b[0;34m\u001b[0m\u001b[0m\n\u001b[0;32m----> 2\u001b[0;31m     \u001b[0mx\u001b[0m \u001b[0;34m=\u001b[0m \u001b[0mint\u001b[0m\u001b[0;34m(\u001b[0m\u001b[0minput\u001b[0m\u001b[0;34m(\u001b[0m\u001b[0;34m\"Vnesi prvo številko: \"\u001b[0m\u001b[0;34m)\u001b[0m\u001b[0;34m)\u001b[0m\u001b[0;34m\u001b[0m\u001b[0;34m\u001b[0m\u001b[0m\n\u001b[0m\u001b[1;32m      3\u001b[0m     \u001b[0my\u001b[0m \u001b[0;34m=\u001b[0m \u001b[0mint\u001b[0m\u001b[0;34m(\u001b[0m\u001b[0minput\u001b[0m\u001b[0;34m(\u001b[0m\u001b[0;34m\"Vnesi drugo številko: \"\u001b[0m\u001b[0;34m)\u001b[0m\u001b[0;34m)\u001b[0m\u001b[0;34m\u001b[0m\u001b[0;34m\u001b[0m\u001b[0m\n\u001b[1;32m      4\u001b[0m     \u001b[0mrezultat\u001b[0m \u001b[0;34m=\u001b[0m \u001b[0mx\u001b[0m \u001b[0;34m/\u001b[0m \u001b[0my\u001b[0m\u001b[0;34m\u001b[0m\u001b[0;34m\u001b[0m\u001b[0m\n\u001b[1;32m      5\u001b[0m     \u001b[0mprint\u001b[0m\u001b[0;34m(\u001b[0m\u001b[0;34mf\"{x}/{y} = {rezultat}\"\u001b[0m\u001b[0;34m)\u001b[0m\u001b[0;34m\u001b[0m\u001b[0;34m\u001b[0m\u001b[0m\n",
      "\u001b[0;31mValueError\u001b[0m: invalid literal for int() with base 10: 'a'"
     ]
    }
   ],
   "source": [
    "for _ in range(3):\n",
    "    x = int(input(\"Vnesi prvo številko: \"))\n",
    "    y = int(input(\"Vnesi drugo številko: \"))\n",
    "    rezultat = x / y\n",
    "    print(f\"{x}/{y} = {rezultat}\")\n",
    "    print()"
   ]
  },
  {
   "cell_type": "code",
   "execution_count": 1,
   "metadata": {},
   "outputs": [
    {
     "name": "stdout",
     "output_type": "stream",
     "text": [
      "Vnesi prvo številko: 1\n",
      "Vnesi drugo številko: 2\n",
      "1/2 = 0.5\n",
      "\n",
      "Vnesi prvo številko: 1\n",
      "Vnesi drugo številko: 0\n"
     ]
    },
    {
     "ename": "ZeroDivisionError",
     "evalue": "division by zero",
     "output_type": "error",
     "traceback": [
      "\u001b[0;31m---------------------------------------------------------------------------\u001b[0m",
      "\u001b[0;31mZeroDivisionError\u001b[0m                         Traceback (most recent call last)",
      "Input \u001b[0;32mIn [1]\u001b[0m, in \u001b[0;36m<cell line: 1>\u001b[0;34m()\u001b[0m\n\u001b[1;32m      2\u001b[0m x \u001b[38;5;241m=\u001b[39m \u001b[38;5;28mint\u001b[39m(\u001b[38;5;28minput\u001b[39m(\u001b[38;5;124m\"\u001b[39m\u001b[38;5;124mVnesi prvo številko: \u001b[39m\u001b[38;5;124m\"\u001b[39m))\n\u001b[1;32m      3\u001b[0m y \u001b[38;5;241m=\u001b[39m \u001b[38;5;28mint\u001b[39m(\u001b[38;5;28minput\u001b[39m(\u001b[38;5;124m\"\u001b[39m\u001b[38;5;124mVnesi drugo številko: \u001b[39m\u001b[38;5;124m\"\u001b[39m))\n\u001b[0;32m----> 4\u001b[0m rezultat \u001b[38;5;241m=\u001b[39m \u001b[43mx\u001b[49m\u001b[43m \u001b[49m\u001b[38;5;241;43m/\u001b[39;49m\u001b[43m \u001b[49m\u001b[43my\u001b[49m\n\u001b[1;32m      5\u001b[0m \u001b[38;5;28mprint\u001b[39m(\u001b[38;5;124mf\u001b[39m\u001b[38;5;124m\"\u001b[39m\u001b[38;5;132;01m{\u001b[39;00mx\u001b[38;5;132;01m}\u001b[39;00m\u001b[38;5;124m/\u001b[39m\u001b[38;5;132;01m{\u001b[39;00my\u001b[38;5;132;01m}\u001b[39;00m\u001b[38;5;124m = \u001b[39m\u001b[38;5;132;01m{\u001b[39;00mrezultat\u001b[38;5;132;01m}\u001b[39;00m\u001b[38;5;124m\"\u001b[39m)\n\u001b[1;32m      6\u001b[0m \u001b[38;5;28mprint\u001b[39m()\n",
      "\u001b[0;31mZeroDivisionError\u001b[0m: division by zero"
     ]
    }
   ],
   "source": [
    "for _ in range(3):\n",
    "    x = int(input(\"Vnesi prvo številko: \"))\n",
    "    y = int(input(\"Vnesi drugo številko: \"))\n",
    "    rezultat = x / y\n",
    "    print(f\"{x}/{y} = {rezultat}\")\n",
    "    print()"
   ]
  },
  {
   "cell_type": "markdown",
   "metadata": {},
   "source": [
    "Ko se zgodi napaka, Python preveri ali se naša koda nahaja znotraj **try** bloka. Če se ne nahaja, potem bomo dobili error in izvajanje programa se bo ustavilo.\n",
    "\n",
    "Če se nahaja znotraj try-except blocka, se bo izvedla koda znotraj **except** bloka in program bo nadaljeval z izvajanjem."
   ]
  },
  {
   "cell_type": "code",
   "execution_count": 8,
   "metadata": {},
   "outputs": [
    {
     "name": "stdout",
     "output_type": "stream",
     "text": [
      "Vnesi prvo številko: 1\n",
      "Vnesi drugo številko: 0\n",
      "Prislo je do napake!\n",
      "\n",
      "Vnesi prvo številko: 1\n",
      "Vnesi drugo številko: a\n",
      "Prislo je do napake!\n",
      "\n",
      "Vnesi prvo številko: 1\n",
      "Vnesi drugo številko: 2\n",
      "1/2 = 0.5\n",
      "\n"
     ]
    }
   ],
   "source": [
    "for _ in range(3):\n",
    "    try:\n",
    "        x = int(input(\"Vnesi prvo številko: \"))\n",
    "        y = int(input(\"Vnesi drugo številko: \"))\n",
    "        rezultat = x / y\n",
    "        print(f\"{x}/{y} = {rezultat}\")\n",
    "    except:\n",
    "        print(\"Prislo je do napake!\")\n",
    "    print()"
   ]
  },
  {
   "cell_type": "code",
   "execution_count": null,
   "metadata": {},
   "outputs": [],
   "source": []
  },
  {
   "cell_type": "markdown",
   "metadata": {},
   "source": [
    "Če se je napaka zgodila znotraj funkcije in znotraj funkcije ni bila ujeta (ni bila znotraj try-except bloka), potem gre Python preverjati ali se klic te funkcije nahaja znotraj try-except bloka."
   ]
  },
  {
   "cell_type": "code",
   "execution_count": 9,
   "metadata": {},
   "outputs": [
    {
     "name": "stdout",
     "output_type": "stream",
     "text": [
      "Vnesi prvo številko: a\n",
      "Prislo je do napake!\n",
      "\n",
      "Vnesi prvo številko: a\n",
      "Prislo je do napake!\n",
      "\n",
      "Vnesi prvo številko: 1\n",
      "Vnesi drugo številko: 2\n",
      "1/2 = 0.5\n",
      "\n"
     ]
    }
   ],
   "source": [
    "def delilnik():\n",
    "    try:\n",
    "        x = int(input(\"Vnesi prvo številko: \"))\n",
    "        y = int(input(\"Vnesi drugo številko: \"))\n",
    "        rezultat = x / y\n",
    "        print(f\"{x}/{y} = {rezultat}\")\n",
    "    except:\n",
    "        print(\"Prislo je do napake!\")\n",
    "    \n",
    "for _ in range(3):\n",
    "    delilnik()\n",
    "    print()"
   ]
  },
  {
   "cell_type": "code",
   "execution_count": 10,
   "metadata": {},
   "outputs": [
    {
     "name": "stdout",
     "output_type": "stream",
     "text": [
      "Vnesi prvo številko: 1\n",
      "Vnesi drugo številko: \n",
      "Prislo je do napake!\n",
      "\n",
      "Vnesi prvo številko: s\n",
      "Prislo je do napake!\n",
      "\n",
      "Vnesi prvo številko: 1\n",
      "Vnesi drugo številko: 0\n",
      "Prislo je do napake!\n",
      "\n"
     ]
    }
   ],
   "source": [
    "def delilnik():\n",
    "    x = int(input(\"Vnesi prvo številko: \"))\n",
    "    y = int(input(\"Vnesi drugo številko: \"))\n",
    "    rezultat = x / y\n",
    "    print(f\"{x}/{y} = {rezultat}\")\n",
    "    \n",
    "for _ in range(3):\n",
    "    try:\n",
    "        delilnik()\n",
    "    except:\n",
    "        print(\"Prislo je do napake!\")\n",
    "    print()"
   ]
  },
  {
   "cell_type": "code",
   "execution_count": null,
   "metadata": {},
   "outputs": [],
   "source": []
  },
  {
   "cell_type": "code",
   "execution_count": null,
   "metadata": {},
   "outputs": [],
   "source": []
  },
  {
   "cell_type": "markdown",
   "metadata": {},
   "source": [
    "<div class=\"alert alert-block alert-info\">\n",
    "<h1><b>Naloga: </b></h1>\n",
    "Napišite funkcion <b>fakulteta</b>, ki uporabnika vpraša naj vnese cifro in izračuna fakulteto te cifre.\n",
    "    Fakulteta se izračuna: 3! = 3*2*1 = 6\n",
    "\n",
    "Funkcija naj vrne rezultat. Oziroma, če uporabik ni vnesel številke naj funkcija ponovno zahteva od uporabnika vnos cifre.\n",
    "</div>\n",
    "\n",
    "\n",
    "```python\n",
    "INPUT:\n",
    "print(fakulteta())\n",
    "\n",
    "OUTPUT:\n",
    "Vnesi cifro: a\n",
    "To ni bila številka.\n",
    "Vnesi cifro: b\n",
    "To ni bila številka.\n",
    "Vnesi cifro: 3\n",
    "6\n",
    "```"
   ]
  },
  {
   "cell_type": "code",
   "execution_count": 5,
   "metadata": {},
   "outputs": [
    {
     "name": "stdout",
     "output_type": "stream",
     "text": [
      "Vnesi cifro: 5\n",
      "120\n"
     ]
    }
   ],
   "source": [
    "def fakulteta():\n",
    "    while True:\n",
    "        try:\n",
    "            num = int(input(\"Vnesi cifro: \"))\n",
    "            rezultat = 1\n",
    "            for i in range(1, num+1):\n",
    "                #print(i)\n",
    "                rezultat *= i\n",
    "            return rezultat\n",
    "        except:\n",
    "            print(\"To ni bila številka.\")\n",
    "\n",
    "print(fakulteta())"
   ]
  },
  {
   "cell_type": "code",
   "execution_count": null,
   "metadata": {},
   "outputs": [],
   "source": []
  },
  {
   "cell_type": "markdown",
   "metadata": {},
   "source": [
    "## Handling an error as an object"
   ]
  },
  {
   "cell_type": "code",
   "execution_count": 12,
   "metadata": {},
   "outputs": [
    {
     "name": "stdout",
     "output_type": "stream",
     "text": [
      "Vnesi prvo številko: a\n",
      "Prislo je do napake!\n",
      "\n",
      "Vnesi prvo številko: 1\n",
      "Vnesi drugo številko: 0\n",
      "Prislo je do napake!\n",
      "\n",
      "Vnesi prvo številko: 1\n",
      "Vnesi drugo številko: 2\n",
      "1/2 = 0.5\n",
      "\n"
     ]
    }
   ],
   "source": [
    "def delilnik():\n",
    "    try:\n",
    "        x = int(input(\"Vnesi prvo številko: \"))\n",
    "        y = int(input(\"Vnesi drugo številko: \"))\n",
    "        rezultat = x / y\n",
    "        print(f\"{x}/{y} = {rezultat}\")\n",
    "    except:\n",
    "        print(\"Prislo je do napake!\")\n",
    "    \n",
    "for _ in range(3):\n",
    "    delilnik()\n",
    "    print()"
   ]
  },
  {
   "cell_type": "markdown",
   "metadata": {},
   "source": [
    "Tako kot sedaj hendlamo error ne dobimo nobenega podatka o errorju nazaj. Ne vemo zakaj je prišlo do napake in do kakšne napake je prišlo."
   ]
  },
  {
   "cell_type": "code",
   "execution_count": 13,
   "metadata": {},
   "outputs": [
    {
     "name": "stdout",
     "output_type": "stream",
     "text": [
      "Vnesi prvo številko: 1\n",
      "Vnesi drugo številko: a\n",
      "Prislo je do napake!\n",
      "<class 'ValueError'>\n",
      "invalid literal for int() with base 10: 'a'\n",
      "\n",
      "Vnesi prvo številko: 1\n",
      "Vnesi drugo številko: 0\n",
      "Prislo je do napake!\n",
      "<class 'ZeroDivisionError'>\n",
      "division by zero\n",
      "\n",
      "Vnesi prvo številko: 2\n",
      "Vnesi drugo številko: 1\n",
      "2/1 = 2.0\n",
      "\n"
     ]
    }
   ],
   "source": [
    "def delilnik():\n",
    "    try:\n",
    "        x = int(input(\"Vnesi prvo številko: \"))\n",
    "        y = int(input(\"Vnesi drugo številko: \"))\n",
    "        rezultat = x / y\n",
    "        print(f\"{x}/{y} = {rezultat}\")\n",
    "    except Exception as e:\n",
    "        print(\"Prislo je do napake!\")\n",
    "        print(type(e))\n",
    "        print(e)\n",
    "    \n",
    "for _ in range(3):\n",
    "    delilnik()\n",
    "    print()"
   ]
  },
  {
   "cell_type": "markdown",
   "metadata": {},
   "source": [
    "## Handling different errors differently"
   ]
  },
  {
   "cell_type": "code",
   "execution_count": 14,
   "metadata": {},
   "outputs": [
    {
     "name": "stdout",
     "output_type": "stream",
     "text": [
      "Vnesi prvo številko: 1\n",
      "Vnesi drugo številko: a\n",
      "Prislo je do napake!\n",
      "<class 'ValueError'>\n",
      "invalid literal for int() with base 10: 'a'\n",
      "\n",
      "Vnesi prvo številko: 1\n",
      "Vnesi drugo številko: 0\n",
      "Prislo je do napake!\n",
      "<class 'ZeroDivisionError'>\n",
      "division by zero\n",
      "\n",
      "Vnesi prvo številko: 2\n",
      "Vnesi drugo številko: 3\n",
      "2/3 = 0.6666666666666666\n",
      "\n"
     ]
    }
   ],
   "source": [
    "def delilnik():\n",
    "    try:\n",
    "        x = int(input(\"Vnesi prvo številko: \"))\n",
    "        y = int(input(\"Vnesi drugo številko: \"))\n",
    "        rezultat = x / y\n",
    "        print(f\"{x}/{y} = {rezultat}\")\n",
    "    except Exception as e:\n",
    "        print(\"Prislo je do napake!\")\n",
    "        print(type(e))\n",
    "        print(e)\n",
    "    \n",
    "for _ in range(3):\n",
    "    delilnik()\n",
    "    print()"
   ]
  },
  {
   "cell_type": "markdown",
   "metadata": {},
   "source": [
    "V našem primeru sedaj hendlamo katerikoli **Exception** na enak način.\n",
    "\n",
    "Lahko pa različne errorje hendlamo na različni način.\n",
    "\n",
    "Preprosto dodamo še en except stavek."
   ]
  },
  {
   "cell_type": "code",
   "execution_count": 15,
   "metadata": {},
   "outputs": [
    {
     "name": "stdout",
     "output_type": "stream",
     "text": [
      "Vnesi prvo številko: 1\n",
      "Vnesi drugo številko: a\n",
      "Obe spremenljivki morata biti številki!\n",
      "<class 'ValueError'>\n",
      "invalid literal for int() with base 10: 'a'\n",
      "\n",
      "Vnesi prvo številko: 1\n",
      "Vnesi drugo številko: 0\n",
      "Druga številka ne sme biti 0!\n",
      "<class 'ZeroDivisionError'>\n",
      "division by zero\n",
      "\n",
      "Vnesi prvo številko: 2\n",
      "Vnesi drugo številko: 1\n",
      "2/1 = 2.0\n",
      "\n"
     ]
    }
   ],
   "source": [
    "def delilnik():\n",
    "    try:\n",
    "        x = int(input(\"Vnesi prvo številko: \"))\n",
    "        y = int(input(\"Vnesi drugo številko: \"))\n",
    "        rezultat = x / y\n",
    "        print(f\"{x}/{y} = {rezultat}\")\n",
    "    except ValueError as e:\n",
    "        print(\"Obe spremenljivki morata biti številki!\")\n",
    "        print(type(e))\n",
    "        print(e)\n",
    "    except ZeroDivisionError as e:\n",
    "        print(\"Druga številka ne sme biti 0!\")\n",
    "        print(type(e))\n",
    "        print(e)\n",
    "    \n",
    "for _ in range(3):\n",
    "    delilnik()\n",
    "    print()"
   ]
  },
  {
   "cell_type": "markdown",
   "metadata": {},
   "source": [
    "V primeru napake bo Python preveril vsak `except` od vrha navzdol, če se tipa napaki ujemata. Če se napaka ne ujema z nobenim `except` potem bo program crashnu.\n",
    "\n",
    "Če se ujemata bo pa `except` pohendlu error. `Except` pohendla errorje tega razreda in vse, ki dedujejo iz tega razreda.\n",
    "> except clause that mentions a particular class, that clause also handles any exception classes derived from that class (but not exception classes from which it is derived).\n"
   ]
  },
  {
   "cell_type": "markdown",
   "metadata": {},
   "source": [
    "(https://docs.python.org/3/library/exceptions.html)\n",
    "\n",
    "(Se pokaže kako ma Python zgrajeno hierarhijo dedovanja Errorjev).\n",
    "Se pravi, če damo kot prvi `except` `except Exception` bomo z njim prestregl vse, ker vsi dedujejo iz tega classa.\n",
    "\n",
    "BaseException\n",
    "* SystemExit\n",
    "* KeyboardInterrupt\n",
    "* GeneratorExit\n",
    "* Exception\n",
    "* * StopIteration\n",
    "* * StopAsyncIteration\n",
    "* * ArithmeticError\n",
    "* * * FloatingPointError\n",
    "* * * OverflowError\n",
    "* * * ZeroDivisionError\n",
    "* * AssertionError\n",
    "* * AttributeError\n",
    "* * BufferError\n",
    "* * EOFError\n",
    "* * ImportError\n",
    "* * * ModuleNotFoundError\n",
    "* * LookupError\n",
    "* * * IndexError\n",
    "* * * KeyError\n",
    "* * MemoryError\n",
    "* * NameError\n",
    "* * * UnboundLocalError\n",
    "* * OSError\n",
    "* * * BlockingIOError\n",
    "* * * ChildProcessError\n",
    "* * * ConnectionError\n",
    "* * * * BrokenPipeError\n",
    "* * * * ConnectionAbortedError\n",
    "* * * * ConnectionRefusedError\n",
    "* * * * ConnectionResetError\n",
    "* * * FileExistsError\n",
    "* * * FileNotFoundError\n",
    "* * * InterruptedError\n",
    "* * * IsADirectoryError\n",
    "* * * NotADirectoryError\n",
    "* * * PermissionError\n",
    "* * * ProcessLookupError\n",
    "* * * TimeoutError\n",
    "* * ReferenceError\n",
    "* * RuntimeError\n",
    "* * * NotImplementedError\n",
    "* * * RecursionError\n",
    "* * SyntaxError\n",
    "* * * IndentationError\n",
    "* * * * TabError\n",
    "* * SystemError\n",
    "* * TypeError\n",
    "* * ValueError\n",
    "* * * UnicodeError\n",
    "* * * * UnicodeDecodeError\n",
    "* * * * UnicodeEncodeError\n",
    "* * * * UnicodeTranslateError\n",
    "* * Warning\n",
    "* * * DeprecationWarning\n",
    "* * * PendingDeprecationWarning\n",
    "* * * RuntimeWarning\n",
    "* * * SyntaxWarning\n",
    "* * * UserWarning\n",
    "* * * FutureWarning\n",
    "* * * ImportWarning\n",
    "* * * UnicodeWarning\n",
    "* * * BytesWarning\n",
    "* * * ResourceWarning"
   ]
  },
  {
   "cell_type": "code",
   "execution_count": 16,
   "metadata": {},
   "outputs": [
    {
     "name": "stdout",
     "output_type": "stream",
     "text": [
      "Vnesi prvo številko: 1\n",
      "Vnesi drugo številko: 0\n",
      "Zmeraj ta prestreže.\n",
      "\n",
      "Vnesi prvo številko: 1\n",
      "Vnesi drugo številko: a\n",
      "Zmeraj ta prestreže.\n",
      "\n",
      "Vnesi prvo številko: a\n",
      "Zmeraj ta prestreže.\n",
      "\n",
      "(<class 'Exception'>, <class 'BaseException'>, <class 'object'>)\n",
      "(<class 'ValueError'>, <class 'Exception'>, <class 'BaseException'>, <class 'object'>)\n",
      "(<class 'ZeroDivisionError'>, <class 'ArithmeticError'>, <class 'Exception'>, <class 'BaseException'>, <class 'object'>)\n"
     ]
    }
   ],
   "source": [
    "import inspect\n",
    "\n",
    "def delilnik():\n",
    "    try:\n",
    "        x = int(input(\"Vnesi prvo številko: \"))\n",
    "        y = int(input(\"Vnesi drugo številko: \"))\n",
    "        rezultat = x / y\n",
    "        print(f\"{x}/{y} = {rezultat}\")\n",
    "    except Exception:\n",
    "        print(\"Zmeraj ta prestreže.\")\n",
    "    except ValueError:\n",
    "        print(\"Obe spremeljivki morata biti številki.\")\n",
    "    except ZeroDivisionError:\n",
    "        print(\"Deljitelj ne sme biti 0.\")\n",
    "    \n",
    "for _ in range(3):\n",
    "    delilnik()\n",
    "    print()\n",
    "    \n",
    "\n",
    "print(inspect.getmro(Exception))\n",
    "print(inspect.getmro(ValueError))\n",
    "print(inspect.getmro(ZeroDivisionError))"
   ]
  },
  {
   "cell_type": "code",
   "execution_count": null,
   "metadata": {},
   "outputs": [],
   "source": []
  },
  {
   "cell_type": "markdown",
   "metadata": {},
   "source": [
    "## Raising exceptions\n",
    "\n",
    "Napake lahko rais-amo tudi sami."
   ]
  },
  {
   "cell_type": "code",
   "execution_count": 18,
   "metadata": {},
   "outputs": [
    {
     "name": "stdout",
     "output_type": "stream",
     "text": [
      "Vnesi prvo številko: -1\n",
      "Vnešena mora biti pozitivna številka\n",
      "\n",
      "Vnesi prvo številko: 1\n",
      "Vnesi drugo številko: 2\n",
      "1/2 = 0.5\n",
      "\n",
      "Vnesi prvo številko: 1\n",
      "Vnesi drugo številko: 2\n",
      "1/2 = 0.5\n",
      "\n"
     ]
    }
   ],
   "source": [
    "def delilnik_pozitivnih_st():\n",
    "    try:\n",
    "        x = int(input(\"Vnesi prvo številko: \"))\n",
    "        if x < 0:\n",
    "            raise ValueError(\"Vnešena mora biti pozitivna številka\")\n",
    "            \n",
    "        y = int(input(\"Vnesi drugo številko: \"))\n",
    "        if y < 0:\n",
    "            raise ValueError(\"vnešena mora biti pozitivna številka\")\n",
    "        \n",
    "        rezultat = x / y\n",
    "        print(f\"{x}/{y} = {rezultat}\")\n",
    "    except ValueError as e:\n",
    "        print(e)\n",
    "    except ZeroDivisionError:\n",
    "        print(\"Deljitelj ne sme biti 0.\")\n",
    "    \n",
    "for _ in range(3):\n",
    "    delilnik_pozitivnih_st()\n",
    "    print()\n",
    "    \n"
   ]
  },
  {
   "cell_type": "markdown",
   "metadata": {},
   "source": [
    "V tem primeru lahko uporabnik vnese negativno številko in ne bomo dobili errora pri pretvorbi:\n",
    "\n",
    "```python\n",
    "int(input(\"Vnesi število: \"))\n",
    "```\n",
    "\n",
    "Zato smo sami dodali preverjanje ali je številka pozitivna ali ne. V primeru, ko številka ni pozitivna smo sami vzdignili **ValueError** z našim specifičnim sporočilom."
   ]
  },
  {
   "cell_type": "code",
   "execution_count": null,
   "metadata": {},
   "outputs": [],
   "source": []
  },
  {
   "cell_type": "markdown",
   "metadata": {},
   "source": [
    "<div class=\"alert alert-block alert-info\">\n",
    "<h1><b>Naloga: </b></h1>\n",
    "Napišite funkcijo <b>is_palindrom</b>, ki od uporabnika zahteva naj vnese besedo. Funkcija naj vrne True, če je beseda palindrom, v nasprotnem primeru False. Palindrom je beseda, ki se prebere isto od leve proti desni in od desne proti levi.\n",
    "    \n",
    "Če uporabnik vnese samo številke naj funkcija rais-a ValueError.\n",
    "    \n",
    "Program naj 3x zažene funkcijo. V kolikor pride do ValueError naj se izpiše sporočilo in izvajanje programa nadaljuje.\n",
    "</div>\n",
    "\n",
    "\n",
    "```python\n",
    "OUTPUT:\n",
    "Vnesi besedo: Ananas\n",
    "The word is NOT palindrom.\n",
    "\n",
    "Vnesi besedo: 1234\n",
    "Vnešene so bile samo številke.\n",
    "\n",
    "Vnesi besedo: racecar\n",
    "The word is PALINDROM\n",
    "```"
   ]
  },
  {
   "cell_type": "code",
   "execution_count": null,
   "metadata": {},
   "outputs": [],
   "source": [
    "def is_palindrom():\n",
    "    beseda = input(\"Vnesi besedo: \")\n",
    "    if beseda.isnumeric():\n",
    "        raise ValueError(\"Vnešene so bile samo številke.\")\n",
    "        \n",
    "    st_crk = len(beseda)\n",
    "    for i in range(st_crk):\n",
    "        #print(\"Checking\", beseda[i], \"and\", beseda[-1*i-1])\n",
    "        if not(beseda[i] == beseda[-1*i -1]):\n",
    "            return False\n",
    "    return True\n",
    "\n",
    "for _ in range(3):\n",
    "    try:\n",
    "        if is_palindrom():\n",
    "            print(\"The word is PALINDROM\")\n",
    "        else:\n",
    "            print(\"The word is NOT palindrom.\")\n",
    "    except ValueError as e:\n",
    "        print(e)\n",
    "    print()"
   ]
  },
  {
   "cell_type": "code",
   "execution_count": null,
   "metadata": {},
   "outputs": [],
   "source": []
  },
  {
   "cell_type": "markdown",
   "metadata": {},
   "source": [
    "## The else and finally statements\n",
    "Skupaj z try-except lahko uporabimo tudi `else` in `finally`.\n",
    "\n",
    "`else` se bo izvršil, če try ne vrže napake."
   ]
  },
  {
   "cell_type": "code",
   "execution_count": 19,
   "metadata": {},
   "outputs": [
    {
     "name": "stdout",
     "output_type": "stream",
     "text": [
      "Vnesi številko: 1\n",
      "Else statement.\n",
      "End\n"
     ]
    }
   ],
   "source": [
    "try:\n",
    "    x = int(input(\"Vnesi številko: \"))\n",
    "except ValueError:\n",
    "    print(\"To ni številka.\")\n",
    "else:\n",
    "    print(\"Else statement.\")\n",
    "    \n",
    "print(\"End\")"
   ]
  },
  {
   "cell_type": "markdown",
   "metadata": {},
   "source": [
    "`finally` se izvede po koncu try-except ne glede ali se je napaka ni zgodila, ali se je napaka zgodila in je bila pohendlana, ali se je napaka zgodila in ni bila pohendlana.\n",
    "\n",
    "Ponavadi se uporabi za čiščenje kode."
   ]
  },
  {
   "cell_type": "code",
   "execution_count": 20,
   "metadata": {},
   "outputs": [
    {
     "name": "stdout",
     "output_type": "stream",
     "text": [
      "Vnesi številko: \n",
      "To ni številka.\n",
      "Finally statement.\n",
      "End\n"
     ]
    }
   ],
   "source": [
    "try:\n",
    "    x = int(input(\"Vnesi številko: \"))\n",
    "    print(5/x) # da simuliramo deljenje z 0, ki bo naš nepohendlan error\n",
    "except ValueError:\n",
    "    print(\"To ni številka.\")\n",
    "finally:\n",
    "    print(\"Finally statement.\")\n",
    "    \n",
    "print(\"End\")"
   ]
  },
  {
   "cell_type": "markdown",
   "metadata": {},
   "source": [
    "## Writting our own Exceptions\n",
    "\n",
    "Napišemo lahko tudi naše Exceptions."
   ]
  },
  {
   "cell_type": "markdown",
   "metadata": {},
   "source": [
    "https://www.programiz.com/python-programming/user-defined-exception"
   ]
  },
  {
   "cell_type": "markdown",
   "metadata": {},
   "source": [
    "Svoje exceptione lahko ustvarimo tako, da ustvarimo nov razred, ki deduje iz nekega Exception razreda. Ponavadi je to kar direktno iz osnovnega **Exception** razreda."
   ]
  },
  {
   "cell_type": "code",
   "execution_count": 21,
   "metadata": {},
   "outputs": [
    {
     "name": "stdout",
     "output_type": "stream",
     "text": [
      "We raised MojError\n"
     ]
    }
   ],
   "source": [
    "class MojError(Exception):\n",
    "    pass\n",
    "\n",
    "try:\n",
    "    raise MojError(\"We raised MojError\")\n",
    "except MojError as e:\n",
    "    print(e)"
   ]
  },
  {
   "cell_type": "markdown",
   "metadata": {},
   "source": [
    "Ko pišemo bolj obsežen python program, je dobra praksa, da vse naše errorje zapišemo v posebno datoteko. Ponavadi je datoteka poimenovana **errors.py** ali **exceptions.py**. "
   ]
  },
  {
   "cell_type": "code",
   "execution_count": null,
   "metadata": {},
   "outputs": [],
   "source": []
  },
  {
   "cell_type": "markdown",
   "metadata": {},
   "source": [
    "Če si pogledamo na bolj konkretnem primeru:\n",
    "\n",
    "Ustvarili bomo program, kjer uporabnik ugiba neko določeno celo številko. Ustvarili bomo dva naša error classa. Enega v primeru, če je ugibana številka prevelika, drugega v primeru, da je ugibana številka premajhna."
   ]
  },
  {
   "cell_type": "code",
   "execution_count": 23,
   "metadata": {},
   "outputs": [
    {
     "name": "stdout",
     "output_type": "stream",
     "text": [
      "Enter a number: 20\n",
      "Ugibana vrednost je previsoka!\n",
      "\n",
      "Enter a number: 1\n",
      "Ugibana vrednost je premajhna!\n",
      "\n",
      "Enter a number: 5\n",
      "Ugibana vrednost je premajhna!\n",
      "\n",
      "Enter a number: 11\n",
      "Ugibana vrednost je previsoka!\n",
      "\n",
      "Enter a number: 9\n",
      "Ugibana vrednost je premajhna!\n",
      "\n",
      "Enter a number: 10\n",
      "PRAVILNO.\n"
     ]
    }
   ],
   "source": [
    "class VrednostPremajhna(Exception):\n",
    "    pass\n",
    "\n",
    "\n",
    "class VrednostPrevisoka(Exception):\n",
    "    pass\n",
    "\n",
    "\n",
    "number = 10 # številka katero ugibamo\n",
    "\n",
    "while True:\n",
    "    try:\n",
    "        i_num = int(input(\"Enter a number: \"))\n",
    "        if i_num < number:\n",
    "            raise VrednostPremajhna\n",
    "        elif i_num > number:\n",
    "            raise VrednostPrevisoka\n",
    "        break\n",
    "    except VrednostPremajhna:\n",
    "        print(\"Ugibana vrednost je premajhna!\")\n",
    "        print()\n",
    "    except VrednostPrevisoka:\n",
    "        print(\"Ugibana vrednost je previsoka!\")\n",
    "        print()\n",
    "\n",
    "print(\"PRAVILNO.\")"
   ]
  },
  {
   "cell_type": "code",
   "execution_count": null,
   "metadata": {},
   "outputs": [],
   "source": []
  },
  {
   "cell_type": "markdown",
   "metadata": {},
   "source": [
    "<div class=\"alert alert-block alert-info\">\n",
    "<h1><b>Naloga: </b></h1>\n",
    "Napišite funkcijo, ki kot parameter <b>x</b> premje neko celo število.\n",
    "Funkcija naj izpiše zadnjih x vrstic v datoteki <i>naloga2.txt</i>.\n",
    "</div>\n",
    "\n",
    "\n",
    "```python\n",
    "INPUT:\n",
    "funkcija(3)\n",
    "\n",
    "OUTPUT:\n",
    "line 7\n",
    "line 8\n",
    "line 9\n",
    "```\n",
    "\n",
    "def funkcija(n):\n",
    "    with open(\"naloga2.txt\", \"r\") as f:\n",
    "        data = f.readlines()\n",
    "        for line in data[-n:]:\n",
    "            print(line, end=\"\")\n",
    "\n",
    "                \n",
    "funkcija(3)<div class=\"alert alert-block alert-info\">\n",
    "<h1><b>Naloga: </b></h1>\n",
    "Napišite funkcijo, ki v datoteko <i>naloga5.txt</i> zapiše vse datume, ki so <b>petek 13.</b> v letih od 2020 do 2030.\n",
    "    \n",
    "Da najdete datume si lahko pomagate s knjižnjico datetime.\n",
    "</div>\n",
    "\n",
    "\n",
    "```python\n",
    "INPUT:\n",
    "print(fakulteta())\n",
    "\n",
    "OUTPUT:\n",
    "Vnesi cifro: a\n",
    "To ni bila številka.\n",
    "Vnesi cifro: b\n",
    "To ni bila številka.\n",
    "Vnesi cifro: 3\n",
    "6\n",
    "```\n",
    "\n",
    "from datetime import date\n",
    "\n",
    "def funkcija():\n",
    "    with open(\"naloga5.txt\", \"w\") as f:\n",
    "        for year in range(2020, 2030):\n",
    "            for month in range(1, 13):\n",
    "                datum = date(year, month, 13)\n",
    "                #print(datum)\n",
    "                if datum.weekday() == 4:  # 0=Mon, 1=Tue, ..., 4=Fri\n",
    "                    f.write(f'{datum.strftime(\"%d. %b %Y\")}\\n')\n",
    "                    \n",
    "funkcija()"
   ]
  },
  {
   "cell_type": "markdown",
   "metadata": {},
   "source": [
    "# Razlaga"
   ]
  },
  {
   "cell_type": "markdown",
   "metadata": {},
   "source": [
    "syntax error or an exception"
   ]
  },
  {
   "cell_type": "code",
   "execution_count": 1,
   "metadata": {},
   "outputs": [
    {
     "ename": "SyntaxError",
     "evalue": "expected ':' (245241072.py, line 1)",
     "output_type": "error",
     "traceback": [
      "\u001b[1;36m  Cell \u001b[1;32mIn[1], line 1\u001b[1;36m\u001b[0m\n\u001b[1;33m    def moja_funkcija(a,b)\u001b[0m\n\u001b[1;37m                          ^\u001b[0m\n\u001b[1;31mSyntaxError\u001b[0m\u001b[1;31m:\u001b[0m expected ':'\n"
     ]
    }
   ],
   "source": [
    "def moja_funkcija(a,b)\n",
    "    return a+b"
   ]
  },
  {
   "cell_type": "code",
   "execution_count": 2,
   "metadata": {},
   "outputs": [
    {
     "ename": "SyntaxError",
     "evalue": "expected ':' (269054478.py, line 3)",
     "output_type": "error",
     "traceback": [
      "\u001b[1;36m  Cell \u001b[1;32mIn[2], line 3\u001b[1;36m\u001b[0m\n\u001b[1;33m    def moja_funkcija(a,b)\u001b[0m\n\u001b[1;37m                          ^\u001b[0m\n\u001b[1;31mSyntaxError\u001b[0m\u001b[1;31m:\u001b[0m expected ':'\n"
     ]
    }
   ],
   "source": [
    "print(\"Test\")\n",
    "\n",
    "def moja_funkcija(a,b)\n",
    "    return a+b\n",
    "\n",
    "print(moja_funkcija(1,2))"
   ]
  },
  {
   "cell_type": "code",
   "execution_count": 3,
   "metadata": {},
   "outputs": [
    {
     "ename": "IndentationError",
     "evalue": "expected an indented block after function definition on line 3 (2227998167.py, line 4)",
     "output_type": "error",
     "traceback": [
      "\u001b[1;36m  Cell \u001b[1;32mIn[3], line 4\u001b[1;36m\u001b[0m\n\u001b[1;33m    return a+b\u001b[0m\n\u001b[1;37m    ^\u001b[0m\n\u001b[1;31mIndentationError\u001b[0m\u001b[1;31m:\u001b[0m expected an indented block after function definition on line 3\n"
     ]
    }
   ],
   "source": [
    "print(\"Test\")\n",
    "\n",
    "def moja_funkcija(a,b):\n",
    "return a+b\n",
    "\n",
    "print(moja_funkcija(1,2))"
   ]
  },
  {
   "cell_type": "code",
   "execution_count": 13,
   "metadata": {},
   "outputs": [
    {
     "name": "stdout",
     "output_type": "stream",
     "text": [
      "Test\n",
      "0.5\n"
     ]
    },
    {
     "ename": "ZeroDivisionError",
     "evalue": "division by zero",
     "output_type": "error",
     "traceback": [
      "\u001b[1;31m---------------------------------------------------------------------------\u001b[0m",
      "\u001b[1;31mZeroDivisionError\u001b[0m                         Traceback (most recent call last)",
      "\u001b[1;32mc:\\LEON\\ICTA\\Tečaji\\icta-python-osnovni-public\\12_Exceptions\\01_Exceptions_Basics.ipynb Cell 64\u001b[0m line \u001b[0;36m1\n\u001b[0;32m      <a href='vscode-notebook-cell:/c%3A/LEON/ICTA/Te%C4%8Daji/icta-python-osnovni-public/12_Exceptions/01_Exceptions_Basics.ipynb#Y121sZmlsZQ%3D%3D?line=4'>5</a>\u001b[0m     \u001b[39mreturn\u001b[39;00m a \u001b[39m/\u001b[39m b\n\u001b[0;32m      <a href='vscode-notebook-cell:/c%3A/LEON/ICTA/Te%C4%8Daji/icta-python-osnovni-public/12_Exceptions/01_Exceptions_Basics.ipynb#Y121sZmlsZQ%3D%3D?line=7'>8</a>\u001b[0m \u001b[39mprint\u001b[39m(moja_funkcija(\u001b[39m1\u001b[39m, \u001b[39m2\u001b[39m))\n\u001b[1;32m---> <a href='vscode-notebook-cell:/c%3A/LEON/ICTA/Te%C4%8Daji/icta-python-osnovni-public/12_Exceptions/01_Exceptions_Basics.ipynb#Y121sZmlsZQ%3D%3D?line=9'>10</a>\u001b[0m \u001b[39mprint\u001b[39m(moja_funkcija(\u001b[39m1\u001b[39;49m, \u001b[39m0\u001b[39;49m))\n",
      "\u001b[1;32mc:\\LEON\\ICTA\\Tečaji\\icta-python-osnovni-public\\12_Exceptions\\01_Exceptions_Basics.ipynb Cell 64\u001b[0m line \u001b[0;36m5\n\u001b[0;32m      <a href='vscode-notebook-cell:/c%3A/LEON/ICTA/Te%C4%8Daji/icta-python-osnovni-public/12_Exceptions/01_Exceptions_Basics.ipynb#Y121sZmlsZQ%3D%3D?line=3'>4</a>\u001b[0m \u001b[39mdef\u001b[39;00m \u001b[39mmoja_funkcija\u001b[39m(a, b):\n\u001b[1;32m----> <a href='vscode-notebook-cell:/c%3A/LEON/ICTA/Te%C4%8Daji/icta-python-osnovni-public/12_Exceptions/01_Exceptions_Basics.ipynb#Y121sZmlsZQ%3D%3D?line=4'>5</a>\u001b[0m     \u001b[39mreturn\u001b[39;00m a \u001b[39m/\u001b[39;49m b\n",
      "\u001b[1;31mZeroDivisionError\u001b[0m: division by zero"
     ]
    }
   ],
   "source": [
    "print(\"Test\")\n",
    "\n",
    "\n",
    "def moja_funkcija(a, b):\n",
    "    return a / b\n",
    "\n",
    "\n",
    "print(moja_funkcija(1, 2))\n",
    "\n",
    "print(moja_funkcija(1, 0))\n"
   ]
  },
  {
   "cell_type": "code",
   "execution_count": 28,
   "metadata": {},
   "outputs": [
    {
     "name": "stdout",
     "output_type": "stream",
     "text": [
      "You entered invalid input! Values must be numbers. Try again.\n",
      "Thanks for using this calculator!\n"
     ]
    }
   ],
   "source": [
    "class InvalidOperationError(Exception):\n",
    "    def __init__(self, operation):\n",
    "        super().__init__(f\"Invalid operation used: {operation}\")\n",
    "\n",
    "\n",
    "try:\n",
    "    value_one = float(input(\"Enter first number: \"))\n",
    "    value_two = float(input(\"Enter second number: \"))\n",
    "    operation = input(\"Enter operation (+, -, *, /): \")\n",
    "\n",
    "    if operation == \"+\":\n",
    "        result = value_one + value_two\n",
    "    elif operation == \"-\":\n",
    "        result = value_one - value_two\n",
    "    elif operation == \"*\":\n",
    "        result = value_one * value_two\n",
    "    elif operation == \"/\":\n",
    "        result = value_one / value_two\n",
    "    else:\n",
    "        raise InvalidOperationError(operation)\n",
    "except ZeroDivisionError:\n",
    "    print(\"You can't divide by zero! Try again.\")\n",
    "except InvalidOperationError as err:\n",
    "    print(err)\n",
    "except ValueError:\n",
    "    print(\"You entered invalid input! Values must be numbers. Try again.\")\n",
    "except BaseException as err:\n",
    "    print(f\"Something went wrong! Try again. Error: {type(err)}: {err}\")\n",
    "else:\n",
    "    # This will run if no exception was raised\n",
    "    print(f\"Result for {value_one} {operation} {value_two} = {result}\")\n",
    "finally:\n",
    "    # This will run no matter what\n",
    "    print(\"Thanks for using this calculator!\")\n"
   ]
  },
  {
   "cell_type": "markdown",
   "metadata": {},
   "source": [
    "https://docs.python.org/3/library/exceptions.html"
   ]
  },
  {
   "cell_type": "markdown",
   "metadata": {},
   "source": []
  }
 ],
 "metadata": {
  "kernelspec": {
   "display_name": "Python 3 (ipykernel)",
   "language": "python",
   "name": "python3"
  },
  "language_info": {
   "codemirror_mode": {
    "name": "ipython",
    "version": 3
   },
   "file_extension": ".py",
   "mimetype": "text/x-python",
   "name": "python",
   "nbconvert_exporter": "python",
   "pygments_lexer": "ipython3",
   "version": "3.12.0"
  },
  "toc": {
   "base_numbering": 1,
   "nav_menu": {},
   "number_sections": true,
   "sideBar": true,
   "skip_h1_title": false,
   "title_cell": "Table of Contents",
   "title_sidebar": "Contents",
   "toc_cell": false,
   "toc_position": {},
   "toc_section_display": true,
   "toc_window_display": false
  }
 },
 "nbformat": 4,
 "nbformat_minor": 4
}
