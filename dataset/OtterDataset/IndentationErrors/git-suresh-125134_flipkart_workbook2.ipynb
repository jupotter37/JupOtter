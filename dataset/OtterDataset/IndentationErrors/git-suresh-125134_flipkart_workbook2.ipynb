{
 "cells": [
  {
   "cell_type": "code",
   "execution_count": null,
   "id": "2a009c26-b196-4fc4-a82a-2b593d521d27",
   "metadata": {},
   "outputs": [],
   "source": [
    "#set"
   ]
  },
  {
   "cell_type": "code",
   "execution_count": 3,
   "id": "1755df9b-b79a-449e-8117-91d5ca83a640",
   "metadata": {},
   "outputs": [
    {
     "name": "stdout",
     "output_type": "stream",
     "text": [
      "{1, 2, 6, 'b', 'a'}\n"
     ]
    }
   ],
   "source": [
    "se={1,2,6,'b','b','a',6}\n",
    "se\n",
    "print(se)\n"
   ]
  },
  {
   "cell_type": "code",
   "execution_count": 4,
   "id": "a993c234-c47e-4b96-a578-ceba9bbfcaa1",
   "metadata": {},
   "outputs": [
    {
     "data": {
      "text/plain": [
       "[1, 2, 2, 3]"
      ]
     },
     "execution_count": 4,
     "metadata": {},
     "output_type": "execute_result"
    }
   ],
   "source": [
    "l=[1,2,2,3]\n",
    "l"
   ]
  },
  {
   "cell_type": "code",
   "execution_count": 5,
   "id": "ee677259-dfde-454b-8aad-32537b6ff4a7",
   "metadata": {},
   "outputs": [
    {
     "data": {
      "text/plain": [
       "{1, 2, 3}"
      ]
     },
     "execution_count": 5,
     "metadata": {},
     "output_type": "execute_result"
    }
   ],
   "source": [
    "se1=set(l)\n",
    "se1"
   ]
  },
  {
   "cell_type": "code",
   "execution_count": 6,
   "id": "6dbb403a-ad16-4ed0-a188-863662cb812a",
   "metadata": {},
   "outputs": [
    {
     "name": "stdout",
     "output_type": "stream",
     "text": [
      "{1, 2, 6, 'b', 'a'} {1, 2, 3}\n"
     ]
    }
   ],
   "source": [
    "print(se,se1)\n"
   ]
  },
  {
   "cell_type": "code",
   "execution_count": 8,
   "id": "caf2f438-034d-4693-a318-6693181d0b04",
   "metadata": {},
   "outputs": [
    {
     "data": {
      "text/plain": [
       "{1, 2, 3, 'b'}"
      ]
     },
     "execution_count": 8,
     "metadata": {},
     "output_type": "execute_result"
    }
   ],
   "source": [
    "se1.add('b')\n",
    "se1"
   ]
  },
  {
   "cell_type": "code",
   "execution_count": 9,
   "id": "afca2c94-1059-4719-b69e-3a1a16acd457",
   "metadata": {},
   "outputs": [
    {
     "data": {
      "text/plain": [
       "{1, 2, 3}"
      ]
     },
     "execution_count": 9,
     "metadata": {},
     "output_type": "execute_result"
    }
   ],
   "source": [
    "se1.pop()\n",
    "se1"
   ]
  },
  {
   "cell_type": "code",
   "execution_count": 10,
   "id": "c4966799-4452-4077-9c2c-b207547f2860",
   "metadata": {},
   "outputs": [
    {
     "data": {
      "text/plain": [
       "{1, 2}"
      ]
     },
     "execution_count": 10,
     "metadata": {},
     "output_type": "execute_result"
    }
   ],
   "source": [
    "se1.remove(3)\n",
    "se1"
   ]
  },
  {
   "cell_type": "code",
   "execution_count": 11,
   "id": "73865a99-d9f8-48dd-a239-9f4eb994995f",
   "metadata": {},
   "outputs": [
    {
     "data": {
      "text/plain": [
       "{1, 2, 6, 'a', 'b'}"
      ]
     },
     "execution_count": 11,
     "metadata": {},
     "output_type": "execute_result"
    }
   ],
   "source": [
    "se.union(se1)\n"
   ]
  },
  {
   "cell_type": "code",
   "execution_count": 12,
   "id": "935d6080-8396-4eae-9e66-05a4d688b8ce",
   "metadata": {},
   "outputs": [
    {
     "data": {
      "text/plain": [
       "{1, 2}"
      ]
     },
     "execution_count": 12,
     "metadata": {},
     "output_type": "execute_result"
    }
   ],
   "source": [
    "se.intersection(se1)"
   ]
  },
  {
   "cell_type": "code",
   "execution_count": 14,
   "id": "5c26282e-e465-4165-b674-31273494ab0d",
   "metadata": {},
   "outputs": [
    {
     "data": {
      "text/plain": [
       "{6, 'a', 'b'}"
      ]
     },
     "execution_count": 14,
     "metadata": {},
     "output_type": "execute_result"
    }
   ],
   "source": [
    "se.difference(se1)"
   ]
  },
  {
   "cell_type": "code",
   "execution_count": 15,
   "id": "b230cc85-44af-4974-ac98-1e328de586b2",
   "metadata": {},
   "outputs": [],
   "source": [
    "#frozenset\n"
   ]
  },
  {
   "cell_type": "code",
   "execution_count": 16,
   "id": "52b3cb6c-00d3-45bc-b6bf-b7c9f3699708",
   "metadata": {},
   "outputs": [
    {
     "data": {
      "text/plain": [
       "frozenset({1, 2, 'b'})"
      ]
     },
     "execution_count": 16,
     "metadata": {},
     "output_type": "execute_result"
    }
   ],
   "source": [
    "sef=frozenset({1,2,'b'})\n",
    "sef"
   ]
  },
  {
   "cell_type": "code",
   "execution_count": 17,
   "id": "7013db36-da15-4166-86f0-580a8c3302f9",
   "metadata": {},
   "outputs": [
    {
     "ename": "AttributeError",
     "evalue": "'frozenset' object has no attribute 'add'",
     "output_type": "error",
     "traceback": [
      "\u001b[1;31m---------------------------------------------------------------------------\u001b[0m",
      "\u001b[1;31mAttributeError\u001b[0m                            Traceback (most recent call last)",
      "Cell \u001b[1;32mIn[17], line 1\u001b[0m\n\u001b[1;32m----> 1\u001b[0m sef\u001b[38;5;241m.\u001b[39madd(\u001b[38;5;241m4\u001b[39m)\n\u001b[0;32m      2\u001b[0m sef\n",
      "\u001b[1;31mAttributeError\u001b[0m: 'frozenset' object has no attribute 'add'"
     ]
    }
   ],
   "source": [
    "sef.add(4)\n",
    "sef"
   ]
  },
  {
   "cell_type": "code",
   "execution_count": 19,
   "id": "405f7326-12dd-4841-b549-f3d349805a88",
   "metadata": {},
   "outputs": [
    {
     "name": "stdout",
     "output_type": "stream",
     "text": [
      "{1, 2, 6, 'b', 'a'}\n"
     ]
    }
   ],
   "source": [
    "print(se)"
   ]
  },
  {
   "cell_type": "code",
   "execution_count": 18,
   "id": "25d95f18-70fe-4416-adad-6e4ef8e9f3ae",
   "metadata": {},
   "outputs": [
    {
     "data": {
      "text/plain": [
       "frozenset({1, 2, 6, 'a', 'b'})"
      ]
     },
     "execution_count": 18,
     "metadata": {},
     "output_type": "execute_result"
    }
   ],
   "source": [
    "sef|se"
   ]
  },
  {
   "cell_type": "code",
   "execution_count": 20,
   "id": "57757e73-621d-480f-aea1-9d42ddcc5eba",
   "metadata": {},
   "outputs": [],
   "source": [
    "#dictionary"
   ]
  },
  {
   "cell_type": "code",
   "execution_count": 22,
   "id": "98aa259d-e61d-41cb-9736-4c6dca37a152",
   "metadata": {},
   "outputs": [
    {
     "data": {
      "text/plain": [
       "{1: 'suresh', 2: 'naveen', 3: 'rehman', 4: 'himanth'}"
      ]
     },
     "execution_count": 22,
     "metadata": {},
     "output_type": "execute_result"
    }
   ],
   "source": [
    "di={1:'suresh',2:'naveen',3:'rehman',4:'himanth'}\n",
    "di"
   ]
  },
  {
   "cell_type": "code",
   "execution_count": 23,
   "id": "e29f8bb1-320d-4933-a233-8c57dbc2323e",
   "metadata": {},
   "outputs": [
    {
     "data": {
      "text/plain": [
       "dict"
      ]
     },
     "execution_count": 23,
     "metadata": {},
     "output_type": "execute_result"
    }
   ],
   "source": [
    "type(di)"
   ]
  },
  {
   "cell_type": "code",
   "execution_count": 26,
   "id": "7289692e-5eb7-4977-8437-3dc958db3814",
   "metadata": {},
   "outputs": [
    {
     "data": {
      "text/plain": [
       "dict_keys([1, 2, 3, 4])"
      ]
     },
     "execution_count": 26,
     "metadata": {},
     "output_type": "execute_result"
    }
   ],
   "source": [
    "di.keys()\n"
   ]
  },
  {
   "cell_type": "code",
   "execution_count": 27,
   "id": "6de53539-0c01-4081-a7db-f3004edf9b08",
   "metadata": {},
   "outputs": [
    {
     "data": {
      "text/plain": [
       "dict_values(['suresh', 'naveen', 'rehman', 'himanth'])"
      ]
     },
     "execution_count": 27,
     "metadata": {},
     "output_type": "execute_result"
    }
   ],
   "source": [
    "di.values()"
   ]
  },
  {
   "cell_type": "code",
   "execution_count": 28,
   "id": "890bb54b-c6e0-4cbc-a7cb-89d514dd88ca",
   "metadata": {},
   "outputs": [
    {
     "data": {
      "text/plain": [
       "'naveen'"
      ]
     },
     "execution_count": 28,
     "metadata": {},
     "output_type": "execute_result"
    }
   ],
   "source": [
    "di[2]"
   ]
  },
  {
   "cell_type": "code",
   "execution_count": 29,
   "id": "15fbcf34-b938-4c00-96f1-c48d4dc9ff63",
   "metadata": {},
   "outputs": [
    {
     "data": {
      "text/plain": [
       "{1: 'suresh', 2: 'manoj', 3: 'rehman', 4: 'himanth'}"
      ]
     },
     "execution_count": 29,
     "metadata": {},
     "output_type": "execute_result"
    }
   ],
   "source": [
    "di[2]='manoj'\n",
    "di"
   ]
  },
  {
   "cell_type": "code",
   "execution_count": 30,
   "id": "dbb64afa-88a9-4a54-8b9c-84ef944a64e4",
   "metadata": {},
   "outputs": [
    {
     "data": {
      "text/plain": [
       "{1: 'suresh', 2: 'manoj', 3: 'rehman', 4: 'himanth', 'name': 'sujan'}"
      ]
     },
     "execution_count": 30,
     "metadata": {},
     "output_type": "execute_result"
    }
   ],
   "source": [
    "di['name']='sujan'\n",
    "di"
   ]
  },
  {
   "cell_type": "code",
   "execution_count": 31,
   "id": "be780b15-02ac-4803-9c4d-ff619827ab83",
   "metadata": {},
   "outputs": [],
   "source": [
    "##if statement"
   ]
  },
  {
   "cell_type": "code",
   "execution_count": 32,
   "id": "41d0d7c2-0c54-4b26-82a6-f9fdb4a6b9da",
   "metadata": {},
   "outputs": [],
   "source": [
    "a=2\n"
   ]
  },
  {
   "cell_type": "code",
   "execution_count": 33,
   "id": "31b8cab3-f68d-4605-aceb-35946cd3c201",
   "metadata": {},
   "outputs": [
    {
     "data": {
      "text/plain": [
       "True"
      ]
     },
     "execution_count": 33,
     "metadata": {},
     "output_type": "execute_result"
    }
   ],
   "source": [
    "a==2"
   ]
  },
  {
   "cell_type": "code",
   "execution_count": 34,
   "id": "679b4264-41b0-4665-9143-8a8560c65bfe",
   "metadata": {},
   "outputs": [
    {
     "name": "stdout",
     "output_type": "stream",
     "text": [
      "learning conditional statments\n"
     ]
    }
   ],
   "source": [
    "if a==2:\n",
    "    print('learning conditional statments')"
   ]
  },
  {
   "cell_type": "code",
   "execution_count": 37,
   "id": "be0713e9-b7e6-484a-86da-556397c43c8f",
   "metadata": {},
   "outputs": [
    {
     "ename": "IndentationError",
     "evalue": "expected an indented block after 'if' statement on line 1 (4274358902.py, line 2)",
     "output_type": "error",
     "traceback": [
      "\u001b[1;36m  Cell \u001b[1;32mIn[37], line 2\u001b[1;36m\u001b[0m\n\u001b[1;33m    print('learning conditional statement')\u001b[0m\n\u001b[1;37m    ^\u001b[0m\n\u001b[1;31mIndentationError\u001b[0m\u001b[1;31m:\u001b[0m expected an indented block after 'if' statement on line 1\n"
     ]
    }
   ],
   "source": [
    "if a>2:\n",
    "print('learning conditional statement')"
   ]
  },
  {
   "cell_type": "code",
   "execution_count": 38,
   "id": "c728cf46-29bf-47d4-9395-a05fbb00e06a",
   "metadata": {},
   "outputs": [
    {
     "name": "stdout",
     "output_type": "stream",
     "text": [
      "learning conditional statments\n",
      "normal flow ofv program starts from line\n"
     ]
    }
   ],
   "source": [
    "if a==2:\n",
    "    print('learning conditional statments')\n",
    "print('normal flow ofv program starts from line')"
   ]
  },
  {
   "cell_type": "code",
   "execution_count": 39,
   "id": "28533555-ea0f-46fd-8a5c-e039fb2431fe",
   "metadata": {},
   "outputs": [
    {
     "name": "stdout",
     "output_type": "stream",
     "text": [
      "normal flow ofv program starts from line\n"
     ]
    }
   ],
   "source": [
    "if a>2:\n",
    "    print('learning conditional statments')\n",
    "    print('statement 2')\n",
    "print('normal flow ofv program starts from line')"
   ]
  },
  {
   "cell_type": "code",
   "execution_count": 40,
   "id": "4e0b5e93-1d89-410d-9ecc-76de6d7cd692",
   "metadata": {},
   "outputs": [
    {
     "name": "stdout",
     "output_type": "stream",
     "text": [
      "condition is false\n",
      "normal flow ofv program starts from line\n"
     ]
    }
   ],
   "source": [
    "if a>2:\n",
    "    print('learning conditional statments')\n",
    "    print('statement 2')\n",
    "else:\n",
    "    print('condition is false')\n",
    "print('normal flow ofv program starts from line')"
   ]
  },
  {
   "cell_type": "code",
   "execution_count": 41,
   "id": "75592d9a-f731-46f9-a4f6-418ba0d6baca",
   "metadata": {},
   "outputs": [
    {
     "data": {
      "text/plain": [
       "True"
      ]
     },
     "execution_count": 41,
     "metadata": {},
     "output_type": "execute_result"
    }
   ],
   "source": [
    "a%2==0"
   ]
  },
  {
   "cell_type": "code",
   "execution_count": 42,
   "id": "5f71ebbc-77b2-4340-8356-1bbd1ab44713",
   "metadata": {},
   "outputs": [],
   "source": [
    "a=14"
   ]
  },
  {
   "cell_type": "code",
   "execution_count": 45,
   "id": "2c81c05e-d419-4542-b18c-b3af17091c6d",
   "metadata": {},
   "outputs": [
    {
     "name": "stdout",
     "output_type": "stream",
     "text": [
      "even\n"
     ]
    }
   ],
   "source": [
    "if a%2==0:\n",
    "    print('even')\n",
    "else:\n",
    "    print('odd')\n",
    "    "
   ]
  },
  {
   "cell_type": "code",
   "execution_count": 46,
   "id": "0e088841-0406-472c-93ee-4e26cf89ccd3",
   "metadata": {},
   "outputs": [],
   "source": [
    "a=15"
   ]
  },
  {
   "cell_type": "code",
   "execution_count": 51,
   "id": "4ec00ab3-976d-4772-a6f1-d997915e80c5",
   "metadata": {},
   "outputs": [
    {
     "name": "stdout",
     "output_type": "stream",
     "text": [
      "odd\n"
     ]
    }
   ],
   "source": [
    "if a%2==0:\n",
    "    print('even')\n",
    "else:\n",
    "    print('odd')"
   ]
  },
  {
   "cell_type": "code",
   "execution_count": 52,
   "id": "449a8c98-e9e3-48d6-9b7b-452e353e1c17",
   "metadata": {},
   "outputs": [
    {
     "data": {
      "text/plain": [
       "[2, 67, 89]"
      ]
     },
     "execution_count": 52,
     "metadata": {},
     "output_type": "execute_result"
    }
   ],
   "source": [
    "l=[2,67,89]\n",
    "l"
   ]
  },
  {
   "cell_type": "code",
   "execution_count": 53,
   "id": "e2259c83-78cd-4061-b25e-b2ebba3da035",
   "metadata": {},
   "outputs": [],
   "source": [
    "a=23"
   ]
  },
  {
   "cell_type": "code",
   "execution_count": 54,
   "id": "44029514-f2d7-4d83-83c1-a1a01e9378da",
   "metadata": {},
   "outputs": [
    {
     "ename": "SyntaxError",
     "evalue": "incomplete input (1192740175.py, line 1)",
     "output_type": "error",
     "traceback": [
      "\u001b[1;36m  Cell \u001b[1;32mIn[54], line 1\u001b[1;36m\u001b[0m\n\u001b[1;33m    if a in l:\u001b[0m\n\u001b[1;37m               ^\u001b[0m\n\u001b[1;31mSyntaxError\u001b[0m\u001b[1;31m:\u001b[0m incomplete input\n"
     ]
    }
   ],
   "source": [
    "if a in l: "
   ]
  },
  {
   "cell_type": "code",
   "execution_count": 55,
   "id": "cf72ed4a-c22f-4913-ac5c-c7aed92c410d",
   "metadata": {},
   "outputs": [
    {
     "name": "stdout",
     "output_type": "stream",
     "text": [
      "madhu\n"
     ]
    }
   ],
   "source": [
    "if a>0:\n",
    "    print (\"madhu\")\n",
    "    "
   ]
  },
  {
   "cell_type": "code",
   "execution_count": 56,
   "id": "2764d058-672d-4b7b-86b1-22da5480fb31",
   "metadata": {},
   "outputs": [
    {
     "name": "stdout",
     "output_type": "stream",
     "text": [
      "No\n"
     ]
    }
   ],
   "source": [
    "if a in l:\n",
    "    print(\"YES\")\n",
    "else:\n",
    "    print(\"No\")"
   ]
  },
  {
   "cell_type": "code",
   "execution_count": 57,
   "id": "879f8fbe-df19-4c92-a0c0-d2a2e89c5171",
   "metadata": {},
   "outputs": [],
   "source": [
    "b =\"madhu\"\n",
    "if a not in "
   ]
  },
  {
   "cell_type": "code",
   "execution_count": 58,
   "id": "bcba0e2d-450d-4373-880a-3f5477567f9d",
   "metadata": {},
   "outputs": [
    {
     "name": "stdout",
     "output_type": "stream",
     "text": [
      "madhu\n"
     ]
    }
   ],
   "source": [
    "if a>0:\n",
    "    print(b)"
   ]
  },
  {
   "cell_type": "code",
   "execution_count": 59,
   "id": "8072cbb1-48b1-443f-a3de-f48279900a79",
   "metadata": {},
   "outputs": [
    {
     "name": "stdout",
     "output_type": "stream",
     "text": [
      "Yes\n"
     ]
    }
   ],
   "source": [
    "if a not in l:\n",
    "    print(\"Yes\")\n",
    "else:\n",
    "    print(\"No\")"
   ]
  },
  {
   "cell_type": "code",
   "execution_count": 60,
   "id": "aedacfea-bdeb-43a8-b27c-ad55cb1074a5",
   "metadata": {},
   "outputs": [],
   "source": [
    "a=10\n",
    "b=20\n",
    "c=10"
   ]
  },
  {
   "cell_type": "code",
   "execution_count": 61,
   "id": "07b2550c-18d9-4726-9b75-740d84e77f08",
   "metadata": {},
   "outputs": [
    {
     "name": "stdout",
     "output_type": "stream",
     "text": [
      "False\n"
     ]
    }
   ],
   "source": [
    "if a is b:\n",
    "    print(\"true\")\n",
    "else:\n",
    "    print(\"False\")"
   ]
  },
  {
   "cell_type": "code",
   "execution_count": 62,
   "id": "78f31263-8d63-4605-ab02-d8038003116f",
   "metadata": {},
   "outputs": [
    {
     "name": "stdout",
     "output_type": "stream",
     "text": [
      "True\n"
     ]
    }
   ],
   "source": [
    "if a is c:\n",
    "    print(\"True\")\n",
    "else:\n",
    "    print(\"False\")"
   ]
  },
  {
   "cell_type": "code",
   "execution_count": 63,
   "id": "9b957ce0-7b1e-4a08-82d2-884d6ac277b8",
   "metadata": {},
   "outputs": [
    {
     "name": "stdout",
     "output_type": "stream",
     "text": [
      "<class 'int'>\n"
     ]
    }
   ],
   "source": [
    "print(type(a))\n"
   ]
  },
  {
   "cell_type": "code",
   "execution_count": 64,
   "id": "4127e368-b5c3-4e49-814c-000bd2ab3ec8",
   "metadata": {},
   "outputs": [
    {
     "name": "stdout",
     "output_type": "stream",
     "text": [
      "True\n"
     ]
    }
   ],
   "source": [
    "if a is :\n",
    "    print(\"True\")\n",
    "elif a is not c:\n",
    "    print(\"I don't Know\")\n",
    "else:\n",
    "    print(\"False\")"
   ]
  },
  {
   "cell_type": "code",
   "execution_count": null,
   "id": "367a9f4d-5279-4881-a252-206ff5a9cdd2",
   "metadata": {},
   "outputs": [],
   "source": []
  },
  {
   "cell_type": "code",
   "execution_count": 68,
   "id": "9fa1f359-451b-4358-993a-d2eab7c2adaa",
   "metadata": {},
   "outputs": [],
   "source": [
    "if a is b:\n",
    "    print(\"True\")\n",
    "elif a is not c:\n",
    "    print(\"I don't Know\")\n"
   ]
  },
  {
   "cell_type": "code",
   "execution_count": 74,
   "id": "37adf121-2030-4327-9374-0c22bd150a50",
   "metadata": {},
   "outputs": [
    {
     "data": {
      "text/plain": [
       "[23, 78, 674, 36, 39, 89, 45]"
      ]
     },
     "execution_count": 74,
     "metadata": {},
     "output_type": "execute_result"
    }
   ],
   "source": [
    "l=[23,78,674,36,39,89,45]\n",
    "l"
   ]
  },
  {
   "cell_type": "code",
   "execution_count": 75,
   "id": "0e167806-1c53-4e1b-8875-e62a0b18179f",
   "metadata": {},
   "outputs": [
    {
     "data": {
      "text/plain": [
       "[23, 78]"
      ]
     },
     "execution_count": 75,
     "metadata": {},
     "output_type": "execute_result"
    }
   ],
   "source": [
    "l[:2]"
   ]
  },
  {
   "cell_type": "code",
   "execution_count": 76,
   "id": "a3f0f127-04e1-4743-86f7-c26bce6fd9bf",
   "metadata": {},
   "outputs": [
    {
     "data": {
      "text/plain": [
       "[674, 36, 39, 89, 45]"
      ]
     },
     "execution_count": 76,
     "metadata": {},
     "output_type": "execute_result"
    }
   ],
   "source": [
    "l[2:]"
   ]
  },
  {
   "cell_type": "code",
   "execution_count": 77,
   "id": "7e311ff0-a11c-4687-bada-05b8a13afdce",
   "metadata": {},
   "outputs": [
    {
     "data": {
      "text/plain": [
       "[23, 36, 45]"
      ]
     },
     "execution_count": 77,
     "metadata": {},
     "output_type": "execute_result"
    }
   ],
   "source": [
    "l[::3]"
   ]
  },
  {
   "cell_type": "code",
   "execution_count": 79,
   "id": "c41388a0-26d2-4b9e-a443-7babd297abbe",
   "metadata": {},
   "outputs": [
    {
     "data": {
      "text/plain": [
       "[23, 39]"
      ]
     },
     "execution_count": 79,
     "metadata": {},
     "output_type": "execute_result"
    }
   ],
   "source": [
    "l[::4]"
   ]
  },
  {
   "cell_type": "code",
   "execution_count": 80,
   "id": "c0a59caa-f1b6-42bc-a5d1-cec20ac5c1a6",
   "metadata": {},
   "outputs": [
    {
     "data": {
      "text/plain": [
       "[36, 39, 89, 45]"
      ]
     },
     "execution_count": 80,
     "metadata": {},
     "output_type": "execute_result"
    }
   ],
   "source": [
    "l[3::]"
   ]
  },
  {
   "cell_type": "code",
   "execution_count": 81,
   "id": "d4c2be3e-5a65-4322-a386-2b624ce18c54",
   "metadata": {},
   "outputs": [
    {
     "data": {
      "text/plain": [
       "[674, 36, 39, 89]"
      ]
     },
     "execution_count": 81,
     "metadata": {},
     "output_type": "execute_result"
    }
   ],
   "source": [
    "l[2:6]"
   ]
  },
  {
   "cell_type": "code",
   "execution_count": 82,
   "id": "f5fbeb93-65c2-4b33-9461-67f6e45a21f0",
   "metadata": {},
   "outputs": [],
   "source": [
    "#small program - if-elif-if"
   ]
  },
  {
   "cell_type": "code",
   "execution_count": 86,
   "id": "d21a1bc3-07c9-472c-a6dd-b35ed24ececf",
   "metadata": {},
   "outputs": [
    {
     "name": "stdin",
     "output_type": "stream",
     "text": [
      "enter the 1st number:  20\n",
      "enter the 2nd number:  15\n"
     ]
    },
    {
     "name": "stdout",
     "output_type": "stream",
     "text": [
      "1st number is greater\n"
     ]
    }
   ],
   "source": [
    "a=int(input('enter the 1st number: '))\n",
    "b=int(input('enter the 2nd number: '))\n",
    "if a>b:\n",
    "    print('1st number is greater')\n",
    "elif a==b:\n",
    "    print('both are equal')\n",
    "else:\n",
    "    print('2nd number is greater')"
   ]
  },
  {
   "cell_type": "code",
   "execution_count": 87,
   "id": "34cbb55d-f4ad-4fc5-b081-b53455f6c6b6",
   "metadata": {},
   "outputs": [
    {
     "name": "stdin",
     "output_type": "stream",
     "text": [
      "enter number to check:  7\n"
     ]
    },
    {
     "name": "stdout",
     "output_type": "stream",
     "text": [
      "the number is odd\n"
     ]
    }
   ],
   "source": [
    "a=int(input('enter number to check: '))\n",
    "if a%2==0:\n",
    "    print('the number is even and greater than 10')\n",
    "    if a>10:\n",
    "     print('the number s even and not greater than 10')\n",
    "else:\n",
    "    print('the number is odd')\n",
    "    "
   ]
  },
  {
   "cell_type": "code",
   "execution_count": 89,
   "id": "d6b9d8a8-6056-474d-b61e-b9f3853761af",
   "metadata": {},
   "outputs": [],
   "source": [
    "#range - start_value,stop_value,step_size"
   ]
  },
  {
   "cell_type": "code",
   "execution_count": 90,
   "id": "f91c6780-a9dc-4c46-9c9b-cccd88ed00d2",
   "metadata": {},
   "outputs": [
    {
     "data": {
      "text/plain": [
       "[0, 1, 2, 3, 4, 5, 6]"
      ]
     },
     "execution_count": 90,
     "metadata": {},
     "output_type": "execute_result"
    }
   ],
   "source": [
    "se=list(range(7))\n",
    "se"
   ]
  },
  {
   "cell_type": "code",
   "execution_count": 91,
   "id": "06c289ff-ae71-473c-bc92-8e7f1f6c94fc",
   "metadata": {},
   "outputs": [
    {
     "data": {
      "text/plain": [
       "[2, 3, 4, 5, 6]"
      ]
     },
     "execution_count": 91,
     "metadata": {},
     "output_type": "execute_result"
    }
   ],
   "source": [
    "se=list(range(2,7))\n",
    "se"
   ]
  },
  {
   "cell_type": "code",
   "execution_count": 92,
   "id": "ee49171d-d4bf-4a7f-913c-f4e20d261fb0",
   "metadata": {},
   "outputs": [
    {
     "data": {
      "text/plain": [
       "[2, 4, 6]"
      ]
     },
     "execution_count": 92,
     "metadata": {},
     "output_type": "execute_result"
    }
   ],
   "source": [
    "se=list(range(2,7,2))\n",
    "se"
   ]
  },
  {
   "cell_type": "code",
   "execution_count": 93,
   "id": "d6e50825-601a-4881-9cd2-173b79f7b667",
   "metadata": {},
   "outputs": [],
   "source": [
    "#loop - it helps us to aviod repeting the similar tasks"
   ]
  },
  {
   "cell_type": "code",
   "execution_count": 100,
   "id": "77a41186-f8c1-4255-9157-28ef6c73451c",
   "metadata": {},
   "outputs": [
    {
     "data": {
      "text/plain": [
       "range(0, 5)"
      ]
     },
     "execution_count": 100,
     "metadata": {},
     "output_type": "execute_result"
    }
   ],
   "source": [
    "range(5)"
   ]
  },
  {
   "cell_type": "code",
   "execution_count": 103,
   "id": "72f27266-222a-407c-a458-fdd842a3a0ef",
   "metadata": {},
   "outputs": [
    {
     "name": "stdout",
     "output_type": "stream",
     "text": [
      "suresh\n",
      "suresh\n"
     ]
    }
   ],
   "source": [
    "for i in range(2,4):\n",
    "    print('suresh')"
   ]
  },
  {
   "cell_type": "code",
   "execution_count": 104,
   "id": "9f39e901-73aa-4418-9261-e2dbdd9ac0d9",
   "metadata": {},
   "outputs": [],
   "source": [
    "#sum of numbers from 1 to any number, input given by user"
   ]
  },
  {
   "cell_type": "code",
   "execution_count": 106,
   "id": "8d92cb0a-a1e9-4d4f-99da-f7675fdd6167",
   "metadata": {},
   "outputs": [
    {
     "name": "stdin",
     "output_type": "stream",
     "text": [
      "enter number:  6\n"
     ]
    },
    {
     "name": "stdout",
     "output_type": "stream",
     "text": [
      "the sum is: 21\n"
     ]
    }
   ],
   "source": [
    "sum=0\n",
    "a=int(input('enter number: '))\n",
    "\n",
    "for i in range(1,a+1):\n",
    "    sum=sum+i\n",
    "\n",
    "print('the sum is:',sum)\n",
    "\n",
    "\n",
    "      \n"
   ]
  },
  {
   "cell_type": "code",
   "execution_count": 107,
   "id": "7f8e84d0-e316-47d7-8071-912d2b7867e0",
   "metadata": {},
   "outputs": [],
   "source": [
    "#find factorial of a number"
   ]
  },
  {
   "cell_type": "code",
   "execution_count": 110,
   "id": "bdb0f3a0-329e-4283-88a2-de1803984baf",
   "metadata": {},
   "outputs": [
    {
     "name": "stdin",
     "output_type": "stream",
     "text": [
      "enter number:  5\n"
     ]
    },
    {
     "name": "stdout",
     "output_type": "stream",
     "text": [
      "the fact is: 120\n"
     ]
    }
   ],
   "source": [
    "fact=1\n",
    "a=int(input('enter number: '))\n",
    "\n",
    "for i in range(1,a+1):\n",
    "    fact=fact*i\n",
    "\n",
    "print('the fact is:',fact)"
   ]
  },
  {
   "cell_type": "code",
   "execution_count": 111,
   "id": "e45b9017-53c0-4e59-b331-db36f2779ffc",
   "metadata": {},
   "outputs": [],
   "source": [
    "#using for loop we can iterate over list,string,tuple and dict"
   ]
  },
  {
   "cell_type": "code",
   "execution_count": 112,
   "id": "5ee98e35-f536-4a86-82a9-d771cc2cc2e4",
   "metadata": {},
   "outputs": [],
   "source": [
    "l=[20,90,45,12,67]"
   ]
  },
  {
   "cell_type": "code",
   "execution_count": 113,
   "id": "f6b05062-8081-493e-b76b-a96e0ecfc184",
   "metadata": {},
   "outputs": [
    {
     "name": "stdout",
     "output_type": "stream",
     "text": [
      "20\n",
      "90\n",
      "45\n",
      "12\n",
      "67\n"
     ]
    }
   ],
   "source": [
    "for i in l:\n",
    "    print(i)"
   ]
  },
  {
   "cell_type": "code",
   "execution_count": 114,
   "id": "f1a1af71-1d76-4733-979d-0fe19a959f95",
   "metadata": {},
   "outputs": [
    {
     "name": "stdout",
     "output_type": "stream",
     "text": [
      "h\n",
      "i\n",
      ",\n",
      " \n",
      "t\n",
      "h\n",
      "i\n",
      "s\n",
      " \n",
      "i\n",
      "s\n",
      " \n",
      "s\n",
      "u\n",
      "r\n",
      "e\n",
      "s\n",
      "h\n"
     ]
    }
   ],
   "source": [
    "st='hi, this is suresh'\n",
    "for i in st:\n",
    "    print(i)"
   ]
  },
  {
   "cell_type": "code",
   "execution_count": 115,
   "id": "1d2bcdaa-bdfd-4ec4-95db-159821a902a0",
   "metadata": {},
   "outputs": [],
   "source": [
    "#check if the input string is palindrome or not"
   ]
  },
  {
   "cell_type": "code",
   "execution_count": 117,
   "id": "f92141cd-5d65-472b-99b6-6aded97f7b4a",
   "metadata": {},
   "outputs": [
    {
     "name": "stdin",
     "output_type": "stream",
     "text": [
      "enter string to check: mobile\n"
     ]
    },
    {
     "name": "stdout",
     "output_type": "stream",
     "text": [
      "it is not palindrome\n"
     ]
    }
   ],
   "source": [
    "s=input('enter string to check:')\n",
    "if s==s[::-1]:\n",
    "    print('it is palindrome')\n",
    "else:\n",
    "    print('it is not palindrome')\n",
    "    \n",
    "\n"
   ]
  },
  {
   "cell_type": "code",
   "execution_count": 118,
   "id": "35fef6e8-7820-4626-8648-441706351ad4",
   "metadata": {},
   "outputs": [],
   "source": [
    "#flag "
   ]
  },
  {
   "cell_type": "code",
   "execution_count": 119,
   "id": "e1ebaca3-cc3a-4c0d-b2c1-fa8c621fa8c2",
   "metadata": {},
   "outputs": [],
   "source": [
    "#number to check prime r not"
   ]
  },
  {
   "cell_type": "code",
   "execution_count": 126,
   "id": "84260260-af5b-49ab-a92e-66f681af7815",
   "metadata": {},
   "outputs": [
    {
     "name": "stdin",
     "output_type": "stream",
     "text": [
      "enter a integer to check prime:  78\n"
     ]
    },
    {
     "name": "stdout",
     "output_type": "stream",
     "text": [
      "78 is not prime\n"
     ]
    }
   ],
   "source": [
    "no_to_check_prime=int(input('enter a integer to check prime: '))\n",
    "counter=0\n",
    "for i in range(2,no_to_check_prime):\n",
    "    if no_to_check_prime%i==0:\n",
    "        counter+=1\n",
    "if counter==0:\n",
    "    print(f'{no_to_check_prime} is prime')\n",
    "else:\n",
    "     print(f'{no_to_check_prime} is not prime')\n",
    "                      "
   ]
  },
  {
   "cell_type": "code",
   "execution_count": 127,
   "id": "34010356-8dbe-4d5b-a5ca-d99f5faa7be2",
   "metadata": {},
   "outputs": [],
   "source": [
    "#or we can use another method"
   ]
  },
  {
   "cell_type": "code",
   "execution_count": 177,
   "id": "53bc11cf-851a-4e77-97c5-0b517645d995",
   "metadata": {},
   "outputs": [
    {
     "name": "stdin",
     "output_type": "stream",
     "text": [
      "enter a integer to check prime:  4\n"
     ]
    },
    {
     "name": "stdout",
     "output_type": "stream",
     "text": [
      "4 is not prime\n"
     ]
    }
   ],
   "source": [
    "no_to_check_prime=int(input('enter a integer to check prime: '))\n",
    "counter=0\n",
    "for i in range(2,no_to_check_prime//2+1):\n",
    "    if no_to_check_prime%i==0:\n",
    "        counter+=1\n",
    "if counter==0:\n",
    "    print(f'{no_to_check_prime} is prime')\n",
    "else:\n",
    "     print(f'{no_to_check_prime} is not prime')\n",
    "                      "
   ]
  },
  {
   "cell_type": "code",
   "execution_count": 134,
   "id": "b4402884-e126-47f3-9d9c-8cf82a93dea8",
   "metadata": {},
   "outputs": [],
   "source": [
    "#break, continue"
   ]
  },
  {
   "cell_type": "code",
   "execution_count": 142,
   "id": "6e27a48c-d425-40b2-9db7-ab9bdafffe1d",
   "metadata": {},
   "outputs": [
    {
     "name": "stdout",
     "output_type": "stream",
     "text": [
      "1\n",
      "2\n",
      "3\n",
      "4\n",
      "6\n",
      "7\n"
     ]
    }
   ],
   "source": [
    "for i in range(1,10):\n",
    "    if i==8:\n",
    "        break\n",
    "    if i==5:\n",
    "        continue\n",
    "    print(i)\n",
    "        "
   ]
  },
  {
   "cell_type": "code",
   "execution_count": 143,
   "id": "61c7eb4a-4b18-469a-9d6f-98461e4290a6",
   "metadata": {},
   "outputs": [],
   "source": [
    "#pass statement"
   ]
  },
  {
   "cell_type": "code",
   "execution_count": 147,
   "id": "0cbc60ae-4796-435c-8b70-dafdd54785c8",
   "metadata": {},
   "outputs": [],
   "source": [
    "a=10\n",
    "if a==10:\n",
    "    pass\n"
   ]
  },
  {
   "cell_type": "code",
   "execution_count": 148,
   "id": "8a00d592-09dd-4b8a-8c58-5fc5d2b03f6b",
   "metadata": {},
   "outputs": [],
   "source": [
    "#for else"
   ]
  },
  {
   "cell_type": "code",
   "execution_count": 179,
   "id": "26a71b10-2dcb-4fbb-ae50-da83c695bcf1",
   "metadata": {},
   "outputs": [
    {
     "name": "stdin",
     "output_type": "stream",
     "text": [
      "enter a integer to check prime:  4\n"
     ]
    },
    {
     "name": "stdout",
     "output_type": "stream",
     "text": [
      "4 is not prime\n"
     ]
    }
   ],
   "source": [
    "no_to_check_prime=int(input('enter a integer to check prime: '))\n",
    "for i in range(2,no_to_check_prime//2+1):\n",
    "    if no_to_check_prime%i==0:\n",
    "         print(f'{no_to_check_prime} is not prime')\n",
    "         break\n",
    "else:\n",
    "      print(f'{no_to_check_prime} is prime')\n",
    "       \n",
    "\n",
    "  \n"
   ]
  },
  {
   "cell_type": "code",
   "execution_count": 166,
   "id": "81fc39d8-9c2a-4580-8c8f-d5577d7d71ec",
   "metadata": {},
   "outputs": [],
   "source": [
    "#while\n"
   ]
  },
  {
   "cell_type": "code",
   "execution_count": 167,
   "id": "e3844590-308c-410a-a6ac-408250ed84fd",
   "metadata": {},
   "outputs": [],
   "source": [
    "#for i in range(1,5):\n",
    "#    print(i)\n",
    "    \n"
   ]
  },
  {
   "cell_type": "code",
   "execution_count": 169,
   "id": "f9d04fb8-1192-424a-a16c-29345eee0624",
   "metadata": {},
   "outputs": [
    {
     "name": "stdout",
     "output_type": "stream",
     "text": [
      "1\n",
      "2\n",
      "3\n",
      "4\n",
      "5\n"
     ]
    }
   ],
   "source": [
    "i=1\n",
    "while(i<6):\n",
    "    print(i)\n",
    "    i+=1"
   ]
  },
  {
   "cell_type": "code",
   "execution_count": 170,
   "id": "a1804c71-3f10-4adb-b641-fc5b39bedbbf",
   "metadata": {},
   "outputs": [],
   "source": [
    "#to print the sum of numbers entered by the user, till the user enters anything"
   ]
  },
  {
   "cell_type": "code",
   "execution_count": 171,
   "id": "a55fb83e-501b-4f46-b6b8-a702b033e52a",
   "metadata": {},
   "outputs": [
    {
     "name": "stdin",
     "output_type": "stream",
     "text": [
      "enter the +ve integer to add and -ve to end:  4\n",
      "enter the +ve integer to add and -ve to end:  2\n",
      "enter the +ve integer to add and -ve to end:  3\n",
      "enter the +ve integer to add and -ve to end:  3\n",
      "enter the +ve integer to add and -ve to end:  2\n",
      "enter the +ve integer to add and -ve to end:  -1\n"
     ]
    },
    {
     "name": "stdout",
     "output_type": "stream",
     "text": [
      "14\n"
     ]
    }
   ],
   "source": [
    "sum=0\n",
    "n=0\n",
    "while(n>=0):\n",
    "    sum+=n\n",
    "    n=int(input('enter the +ve integer to add and -ve to end: '))\n",
    "print(sum)\n",
    "    "
   ]
  },
  {
   "cell_type": "code",
   "execution_count": 172,
   "id": "0f956411-4774-4dcc-a657-5addb06d03b2",
   "metadata": {},
   "outputs": [],
   "source": [
    "#nesting"
   ]
  },
  {
   "cell_type": "code",
   "execution_count": 176,
   "id": "7dc51e1b-10f0-451e-ab56-ab62ec4a3fda",
   "metadata": {},
   "outputs": [
    {
     "name": "stdout",
     "output_type": "stream",
     "text": [
      "1\n",
      "2\n",
      "3\n",
      "4\n",
      "5\n",
      "\n",
      "2\n",
      "4\n",
      "6\n",
      "8\n",
      "10\n",
      "\n"
     ]
    }
   ],
   "source": [
    "for i in range(1,3):\n",
    "    for j in range(1,6):\n",
    "        print(i*j)\n",
    "    print()"
   ]
  },
  {
   "cell_type": "code",
   "execution_count": 180,
   "id": "57672ed7-fe73-46a7-8bf6-60e8dacaebc8",
   "metadata": {},
   "outputs": [],
   "source": [
    "#find the all prime numbers upto a given number(10)"
   ]
  },
  {
   "cell_type": "code",
   "execution_count": 188,
   "id": "a4ef4261-7c3c-4f0a-9716-0e451dbdc19c",
   "metadata": {},
   "outputs": [
    {
     "name": "stdout",
     "output_type": "stream",
     "text": [
      "1 is not prime\n",
      "2 is prime\n",
      "3 is prime\n",
      "4 is not prime\n",
      "5 is prime\n",
      "6 is not prime\n",
      "7 is prime\n",
      "8 is not prime\n",
      "9 is not prime\n",
      "10 is not prime\n",
      "11 is prime\n",
      "12 is not prime\n",
      "13 is prime\n",
      "14 is not prime\n"
     ]
    }
   ],
   "source": [
    "for no_to_check_prime in range(1,15):\n",
    "    if no_to_check_prime==1:\n",
    "        print('1 is not prime')\n",
    "    else:\n",
    "        for i in range(2,no_to_check_prime//2+1):\n",
    "            if no_to_check_prime%i==0:\n",
    "                print(f'{no_to_check_prime} is not prime')\n",
    "                break\n",
    "        else:\n",
    "             print(f'{no_to_check_prime} is prime')\n",
    "                \n",
    "                "
   ]
  },
  {
   "cell_type": "code",
   "execution_count": 189,
   "id": "32de11f8-d410-4943-b5be-2e1a57fc7a3f",
   "metadata": {},
   "outputs": [],
   "source": [
    "#pattern to print half pyramid"
   ]
  },
  {
   "cell_type": "code",
   "execution_count": 198,
   "id": "b66fa39c-aee1-4b7e-8650-231b96e618a2",
   "metadata": {},
   "outputs": [
    {
     "name": "stdin",
     "output_type": "stream",
     "text": [
      "enter an integer: 7\n"
     ]
    },
    {
     "name": "stdout",
     "output_type": "stream",
     "text": [
      "* \n",
      "* * \n",
      "* * * \n",
      "* * * * \n",
      "* * * * * \n",
      "* * * * * * \n",
      "* * * * * * * \n"
     ]
    }
   ],
   "source": [
    "n=int(input('enter an integer:'))\n",
    "for i in range(1,n+1):\n",
    "    for j in range(1,i+1):\n",
    "        print(\"*\",end=\" \")\n",
    "    print()\n",
    "   "
   ]
  },
  {
   "cell_type": "code",
   "execution_count": 201,
   "id": "ca7e105f-2039-4a6b-a1d8-3e67fa78dc9a",
   "metadata": {},
   "outputs": [
    {
     "ename": "SyntaxError",
     "evalue": "invalid syntax (145679225.py, line 2)",
     "output_type": "error",
     "traceback": [
      "\u001b[1;36m  Cell \u001b[1;32mIn[201], line 2\u001b[1;36m\u001b[0m\n\u001b[1;33m    *****\u001b[0m\n\u001b[1;37m    ^\u001b[0m\n\u001b[1;31mSyntaxError\u001b[0m\u001b[1;31m:\u001b[0m invalid syntax\n"
     ]
    }
   ],
   "source": [
    "\n",
    "* * * * *\n",
    "  * * * * \n",
    "    * * *\n",
    "      * *\n",
    "        *"
   ]
  },
  {
   "cell_type": "code",
   "execution_count": 205,
   "id": "11bd34ff-08d5-4858-b96a-ded56fddee71",
   "metadata": {},
   "outputs": [
    {
     "name": "stdout",
     "output_type": "stream",
     "text": [
      "* * * * * \n",
      "  * * * * \n",
      "    * * * \n",
      "      * * \n",
      "        * \n"
     ]
    }
   ],
   "source": [
    "for i in range(1,6):  #counting_rows\n",
    "#i represents row_no\n",
    "    for j in range(1,i):    #loops for spaces\n",
    "        print(' ',end=\" \")\n",
    "    for k in range(1,7-i):\n",
    "        print('*',end=\" \")\n",
    "    print()\n"
   ]
  },
  {
   "cell_type": "code",
   "execution_count": 206,
   "id": "7a9f84d5-d615-4405-9dd9-7516d9e784e9",
   "metadata": {},
   "outputs": [],
   "source": [
    "#another method\n"
   ]
  },
  {
   "cell_type": "code",
   "execution_count": 208,
   "id": "278a8136-b6ef-41f5-a9bc-3864e5ea2d9a",
   "metadata": {},
   "outputs": [
    {
     "name": "stdin",
     "output_type": "stream",
     "text": [
      "enter the no of rows:  6\n"
     ]
    },
    {
     "name": "stdout",
     "output_type": "stream",
     "text": [
      "* * * * * * \n",
      "  * * * * * \n",
      "    * * * * \n",
      "      * * * \n",
      "        * * \n",
      "          * \n"
     ]
    }
   ],
   "source": [
    "n=int(input('enter the no of rows: '))\n",
    "for i in range(1,n+1):  #counting_rows\n",
    "#i represents row_no\n",
    "    for j in range(1,i):    #loops for spaces\n",
    "        print(' ',end=\" \")\n",
    "    for k in range(1,n-i+2):\n",
    "        print('*',end=\" \")\n",
    "    print()"
   ]
  },
  {
   "cell_type": "code",
   "execution_count": null,
   "id": "cf862519-2223-4403-baf0-af6cc0bfbced",
   "metadata": {},
   "outputs": [],
   "source": []
  }
 ],
 "metadata": {
  "kernelspec": {
   "display_name": "Python 3 (ipykernel)",
   "language": "python",
   "name": "python3"
  },
  "language_info": {
   "codemirror_mode": {
    "name": "ipython",
    "version": 3
   },
   "file_extension": ".py",
   "mimetype": "text/x-python",
   "name": "python",
   "nbconvert_exporter": "python",
   "pygments_lexer": "ipython3",
   "version": "3.12.4"
  }
 },
 "nbformat": 4,
 "nbformat_minor": 5
}
