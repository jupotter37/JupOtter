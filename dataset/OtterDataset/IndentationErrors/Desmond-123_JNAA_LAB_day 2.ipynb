{
 "cells": [
  {
   "cell_type": "markdown",
   "id": "256e2254",
   "metadata": {},
   "source": [
    "LOOP \n",
    "="
   ]
  },
  {
   "cell_type": "code",
   "execution_count": 1,
   "id": "a9040164",
   "metadata": {},
   "outputs": [
    {
     "name": "stdout",
     "output_type": "stream",
     "text": [
      "1\n",
      "2\n",
      "3\n",
      "4\n",
      "5\n"
     ]
    }
   ],
   "source": [
    "x= 1\n",
    "while x < 6:\n",
    "    print(x)\n",
    "    x += 1"
   ]
  },
  {
   "cell_type": "code",
   "execution_count": 2,
   "id": "847c34df",
   "metadata": {},
   "outputs": [
    {
     "name": "stdout",
     "output_type": "stream",
     "text": [
      "x is 1\n",
      "x is 2\n",
      "x is 3\n",
      "x is 4\n",
      "x is 5\n",
      "x is 6\n",
      "x is 7\n",
      "x is no longer < 8\n"
     ]
    }
   ],
   "source": [
    "x = 1\n",
    "while x <  8:\n",
    "    print('x is',x)\n",
    "    x += 1\n",
    "else:\n",
    "    print('x is no longer < 8')"
   ]
  },
  {
   "cell_type": "code",
   "execution_count": 4,
   "id": "a78c2957",
   "metadata": {},
   "outputs": [
    {
     "name": "stdout",
     "output_type": "stream",
     "text": [
      "15 59.0\n",
      "20 68.0\n",
      "25 77.0\n",
      "30 86.0\n",
      "35 95.0\n",
      "40 104.0\n",
      "45 113.0\n",
      "50 122.0\n",
      "55 131.0\n",
      "60 140.0\n",
      "65 149.0\n"
     ]
    }
   ],
   "source": [
    "C= 15 # initial temperature\n",
    "while C < 70:\n",
    "    F = ((9*C)/5) + 32\n",
    "    print( C, F)\n",
    "    C +=5"
   ]
  },
  {
   "cell_type": "code",
   "execution_count": 6,
   "id": "d85ae034",
   "metadata": {},
   "outputs": [
    {
     "name": "stdout",
     "output_type": "stream",
     "text": [
      "5 278\n",
      "10 283\n",
      "15 288\n",
      "20 293\n",
      "25 298\n",
      "30 303\n",
      "35 308\n",
      "40 313\n",
      "45 318\n",
      "50 323\n",
      "55 328\n",
      "60 333\n",
      "65 338\n",
      "70 343\n",
      "75 348\n",
      "80 353\n"
     ]
    }
   ],
   "source": [
    "C= 5 # initial temperature\n",
    "while C <= 80:\n",
    "    K = C + 273\n",
    "    print( C, K)\n",
    "    C +=5"
   ]
  },
  {
   "cell_type": "markdown",
   "id": "9ff8370f",
   "metadata": {},
   "source": [
    "FOR LOOP\n",
    "="
   ]
  },
  {
   "cell_type": "code",
   "execution_count": 7,
   "id": "767e2299",
   "metadata": {},
   "outputs": [
    {
     "name": "stdout",
     "output_type": "stream",
     "text": [
      "P\n",
      "Y\n",
      "T\n",
      "H\n",
      "O\n",
      "N\n",
      " \n",
      "P\n",
      "R\n",
      "O\n",
      "G\n",
      "R\n",
      "A\n",
      "M\n",
      "M\n",
      "I\n",
      "N\n",
      "G\n"
     ]
    }
   ],
   "source": [
    "# Example with string\n",
    "Language = 'PYTHON PROGRAMMING'\n",
    "for l in Language:\n",
    "    print(l)"
   ]
  },
  {
   "cell_type": "code",
   "execution_count": null,
   "id": "9c28220b",
   "metadata": {},
   "outputs": [],
   "source": [
    "Animals=['Dog','Goat','Cat','Fish']\n",
    "for a in Animals:\n",
    "    print(a)"
   ]
  },
  {
   "cell_type": "code",
   "execution_count": 1,
   "id": "42ef543e",
   "metadata": {},
   "outputs": [],
   "source": [
    "import numpy as np"
   ]
  },
  {
   "cell_type": "code",
   "execution_count": null,
   "id": "a12fbe01",
   "metadata": {},
   "outputs": [],
   "source": []
  },
  {
   "cell_type": "code",
   "execution_count": 9,
   "id": "e5f40db4",
   "metadata": {},
   "outputs": [
    {
     "name": "stdout",
     "output_type": "stream",
     "text": [
      "1\n",
      "3\n",
      "5\n",
      "7\n",
      "9\n",
      "11\n",
      "13\n",
      "15\n",
      "17\n",
      "19\n",
      "21\n",
      "23\n",
      "25\n",
      "27\n",
      "29\n"
     ]
    }
   ],
   "source": [
    "for x in range (1,30,2):\n",
    "    print(x)"
   ]
  },
  {
   "cell_type": "code",
   "execution_count": 14,
   "id": "d87bf414",
   "metadata": {},
   "outputs": [
    {
     "name": "stdout",
     "output_type": "stream",
     "text": [
      "0\n",
      "1\n",
      "2\n",
      "3\n",
      "4\n"
     ]
    }
   ],
   "source": [
    "for x in range(5):\n",
    "    print(x)"
   ]
  },
  {
   "cell_type": "markdown",
   "id": "23c148e3",
   "metadata": {},
   "source": [
    "NESTED LOOP\n",
    "="
   ]
  },
  {
   "cell_type": "code",
   "execution_count": 16,
   "id": "9099f39b",
   "metadata": {},
   "outputs": [
    {
     "name": "stdout",
     "output_type": "stream",
     "text": [
      "5 * 1 = 5\n",
      "5 * 2 = 10\n",
      "5 * 3 = 15\n",
      "5 * 4 = 20\n",
      "5 * 5 = 25\n",
      "5 * 6 = 30\n",
      "5 * 7 = 35\n",
      "5 * 8 = 40\n",
      "5 * 9 = 45\n",
      "5 * 10 = 50\n"
     ]
    }
   ],
   "source": [
    "A=[1,2,3,4,5,6,7,8,9,10]\n",
    "B=[5]\n",
    "for a in A:\n",
    "    for b in B:\n",
    "        y= a * b\n",
    "        print(b,'*',a,'=',y)"
   ]
  },
  {
   "cell_type": "code",
   "execution_count": 17,
   "id": "7c1b6283",
   "metadata": {},
   "outputs": [
    {
     "ename": "IndentationError",
     "evalue": "unexpected indent (3575099485.py, line 7)",
     "output_type": "error",
     "traceback": [
      "\u001b[1;36m  Cell \u001b[1;32mIn [17], line 7\u001b[1;36m\u001b[0m\n\u001b[1;33m    print(n,'+',m,'+',o,'=',u)\u001b[0m\n\u001b[1;37m    ^\u001b[0m\n\u001b[1;31mIndentationError\u001b[0m\u001b[1;31m:\u001b[0m unexpected indent\n"
     ]
    }
   ],
   "source": [
    "N= [2,4]\n",
    "M= [3,5]\n",
    "o= [1,2]\n",
    "for n in N:\n",
    "    for m in M:\n",
    "        u = n + m + o\n",
    "            print(n,'+',m,'+',o,'=',u)"
   ]
  },
  {
   "cell_type": "markdown",
   "id": "d75974f6",
   "metadata": {},
   "source": [
    "BREAK\n",
    "="
   ]
  },
  {
   "cell_type": "code",
   "execution_count": 11,
   "id": "1bdf2c9b",
   "metadata": {},
   "outputs": [
    {
     "name": "stdout",
     "output_type": "stream",
     "text": [
      "desmond I have found him\n"
     ]
    }
   ],
   "source": [
    "names = ['desmond','Osei','Tutu']\n",
    "for name in names:\n",
    "    if name == 'desmond':  \n",
    "        print (name,'I have found him')\n",
    "        break"
   ]
  },
  {
   "cell_type": "code",
   "execution_count": 18,
   "id": "cdd35a27",
   "metadata": {},
   "outputs": [
    {
     "name": "stdout",
     "output_type": "stream",
     "text": [
      "Enter a whole number: 40\n",
      "Prime Numbers Between 1 and 40\n",
      "2\n",
      "3\n",
      "5\n",
      "7\n",
      "11\n",
      "13\n",
      "17\n",
      "19\n",
      "23\n",
      "29\n",
      "31\n",
      "37\n"
     ]
    }
   ],
   "source": [
    "value = int(input('Enter a whole number: '))\n",
    "n = 2\n",
    "print('Prime Numbers Between 1 and '+str(value))\n",
    "while n <= value:\n",
    "    m = 2\n",
    "    count = 0\n",
    "    while m <= n//2:\n",
    "        if n%m == 0:\n",
    "            count+=1\n",
    "            break\n",
    "        m+=1\n",
    "    print(n) if count==0 else ''\n",
    "    n+=1"
   ]
  },
  {
   "cell_type": "code",
   "execution_count": null,
   "id": "fbcdc971",
   "metadata": {},
   "outputs": [],
   "source": []
  }
 ],
 "metadata": {
  "kernelspec": {
   "display_name": "Python 3 (ipykernel)",
   "language": "python",
   "name": "python3"
  },
  "language_info": {
   "codemirror_mode": {
    "name": "ipython",
    "version": 3
   },
   "file_extension": ".py",
   "mimetype": "text/x-python",
   "name": "python",
   "nbconvert_exporter": "python",
   "pygments_lexer": "ipython3",
   "version": "3.10.8"
  }
 },
 "nbformat": 4,
 "nbformat_minor": 5
}
