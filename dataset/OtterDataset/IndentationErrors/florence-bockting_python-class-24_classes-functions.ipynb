{
 "cells": [
  {
   "cell_type": "markdown",
   "id": "a46c431b-e051-420e-adf9-505744187b44",
   "metadata": {},
   "source": [
    "# Classes and Functions\n",
    "\n",
    "**References**:\n",
    "+ https://realpython.com/python-traceback/\n",
    "+ Fluent Python\n",
    "+ Think Python\n",
    "\n",
    "**Content**:\n",
    "+ Functions\n",
    "    + Defining new functions\n",
    "    + Parameters\n",
    "    + Calling a function\n",
    "    + Default arguments, optional arguments, *args, and **kwargs\n",
    "    + Variables and parameters are local\n",
    "    + Traceback\n",
    "    + Fruitful Functions and Void Functions\n",
    "    + Anonymous functions\n",
    "    + Callables\n",
    "+ Classes\n",
    "    + Structure of a class\n",
    "    + Instantiating and calling a class object\n",
    "    + Inheritance"
   ]
  },
  {
   "cell_type": "markdown",
   "id": "5ff2d7a2-0f2f-45f8-8226-a6f11883dbb6",
   "metadata": {},
   "source": [
    "## Functions\n",
    "+ Functions are one of the most important things that we can do in programming. \n",
    "+ We can wrap code up in a function, so that we can repeatedly get just the information we want.\n",
    "\n",
    "### Defining new functions\n",
    "+ `def` is a keyword that indicates that the following is a function definition\n",
    "+ **function name** is the text after `def`\n",
    "+ **parentheses** after the function name allow for additional arguments\n",
    "    + function without arguments is possible (i.e., empty parentheses)\n",
    "+ first line of function is the **function header**; it has to end with a **colon**\n",
    "+ the remaining lines build the **function body**; it has to be **indented** (4 spaces)\n",
    "+ with `''' some text '''` you can describe your function (**documentation**); this will generate a help text\n",
    "  + to access your documentation call the attribute `__doc__`\n",
    "+ defining a function creates a **function object**\n",
    "+ you can **call** the function by `function()`"
   ]
  },
  {
   "cell_type": "code",
   "execution_count": 17,
   "id": "4783f1c0-3b0b-4a03-a7ba-213c26558763",
   "metadata": {},
   "outputs": [
    {
     "name": "stdout",
     "output_type": "stream",
     "text": [
      "Hello\n",
      "Hello\n",
      "Help on function print_hello in module __main__:\n",
      "\n",
      "print_hello()\n",
      "    prints Hello\n",
      "\n"
     ]
    }
   ],
   "source": [
    "# function definition\n",
    "def print_hello():       # header: function name: print_hello; no arguments\n",
    "    '''prints Hello'''   # documentation: short description of what function does\n",
    "    print(\"Hello\")       # body\n",
    "\n",
    "# function object\n",
    "print_hello\n",
    "type(print_hello)\n",
    "new_func = print_hello\n",
    "\n",
    "# call a function\n",
    "print_hello()\n",
    "new_func()\n",
    "\n",
    "# access the documentation of the function\n",
    "print_hello.__doc__\n",
    "\n",
    "# documentation is part of the help text\n",
    "help(print_hello)"
   ]
  },
  {
   "cell_type": "markdown",
   "id": "872baf59-943e-4664-954c-d2a529aebdd3",
   "metadata": {},
   "source": [
    "### Parameters\n",
    "+ often functions have a number of **arguments**\n",
    "+ variable name in parentheses is a **parameter**\n",
    "+ When the function is called, the value of the argument is assigned to the parameter"
   ]
  },
  {
   "cell_type": "code",
   "execution_count": 18,
   "id": "62968f3a-5dc0-40a1-acfa-c3674d336610",
   "metadata": {},
   "outputs": [
    {
     "name": "stdout",
     "output_type": "stream",
     "text": [
      "Hello Luna !\n",
      "How are you?\n"
     ]
    }
   ],
   "source": [
    "# function with arguments\n",
    "def print_hello2(name):\n",
    "    print(\"Hello\",name,\"!\")\n",
    "    print(\"How are you?\")\n",
    "\n",
    "# call a function with argument value: Luna\n",
    "print_hello2(\"Luna\")"
   ]
  },
  {
   "cell_type": "markdown",
   "id": "f29fc7ed-6913-4d1d-8873-6a270e20dda2",
   "metadata": {},
   "source": [
    "### Calling Functions\n",
    "+ Once you have defined a function, you can use it inside another function\n",
    "+ a function that takes a function as an argument or returns a function as the results is a **higher-order function**"
   ]
  },
  {
   "cell_type": "code",
   "execution_count": 21,
   "id": "667d7e6f-00be-4431-b335-244916893a07",
   "metadata": {},
   "outputs": [
    {
     "name": "stdout",
     "output_type": "stream",
     "text": [
      "world world world \n",
      "top top top \n",
      "top top top \n"
     ]
    }
   ],
   "source": [
    "# first function definition\n",
    "## repeat word n times\n",
    "def repeat(word, n):\n",
    "    print(word*n)\n",
    "\n",
    "# call function\n",
    "repeat(\"world \", 3)\n",
    "\n",
    "# second function definition\n",
    "# call first function within second\n",
    "def two_lines(word, n):\n",
    "    repeat(word, n)\n",
    "    repeat(word, n)\n",
    "\n",
    "# call second function\n",
    "two_lines(\"top \", 3)"
   ]
  },
  {
   "cell_type": "markdown",
   "id": "baad97b9-5470-4ac9-9f8f-d125ad7d0e90",
   "metadata": {},
   "source": [
    "### Default arguments, optional arguments, *args, and **kwargs\n",
    "+ default argument can be incorporated as arguments in the function by assigning the default value in the function definiting\n",
    "+ default arguments come always after non-default arguments - otherwise you'll get an `SyntaxError`\n",
    "+ `*args` and `**kwargs` allow you to pass an unspecified number of arguments to a function\n",
    "+ when writing the function definition, you do not need to know how many arguments will be passed to your function.\n",
    "+ `*args` is used to send a **non-keyworded** variable length argument list to the function. They are passed as a `tuple`\n",
    "+ `**kwargs` allows you to pass **keyworded** variable length of arguments to a function. They are passed as a `dict`"
   ]
  },
  {
   "cell_type": "code",
   "execution_count": 42,
   "id": "5e609cfc-e792-45ed-9efc-4a2e1e9211b7",
   "metadata": {},
   "outputs": [
    {
     "name": "stdout",
     "output_type": "stream",
     "text": [
      "['What', 'a']\n",
      "(1, 2, 3) <class 'tuple'>\n",
      "Hello Maria!\n",
      "Hello Tina!\n",
      "Hello Paul!\n",
      "Hello Gerrit!\n",
      "{'one': 1, 'two': 2, 'three': 3} <class 'dict'>\n",
      "The lemon is yellow\n",
      "The apple is red\n",
      "The kiwi is green\n",
      "The lemon is yellow\n",
      "The apple is red\n",
      "The kiwi is green\n"
     ]
    }
   ],
   "source": [
    "# example for a function with default and optional arguments\n",
    "def string_sep(string, sep=\"_\", suffix=None):\n",
    "    if suffix is None:\n",
    "        return string.split(sep)\n",
    "    else:\n",
    "        return str(string+suffix).split(sep)\n",
    "\n",
    "# use default value \"_\" for string separation\n",
    "a = string_sep(\"What_a\")\n",
    "print(a)\n",
    "\n",
    "# change default value to \"/\"\n",
    "string_sep(\"What/a\", sep=\"/\")\n",
    "\n",
    "# incorporate optional argument\n",
    "string_sep(\"What/a/\", sep=\"/\", suffix=\"day\")\n",
    "\n",
    "# example of a function definition where order of default and non-default values is wrong\n",
    "# yields a SyntaxError\n",
    "#def string_sep(sep=\"_\", string, suffix=None):\n",
    "#    pass\n",
    "\n",
    "# examples for a functions using non-keyword arguments of variable length *args\n",
    "def non_keywords(*args):\n",
    "    print(args, type(args))\n",
    "\n",
    "non_keywords(1,2,3)\n",
    "\n",
    "def greetings(*args):\n",
    "    for i in range(len(args)):\n",
    "        print(\"Hello \"+str(args[i])+\"!\")\n",
    "\n",
    "greetings(\"Maria\")\n",
    "greetings(\"Tina\", \"Paul\", \"Gerrit\")\n",
    "\n",
    "# example for a function using keyword arguments of variable length *kwargs\n",
    "def keyword_args(**kwargs):\n",
    "    print(kwargs, type(kwargs))\n",
    "\n",
    "keyword_args(one = 1, two = 2, three = 3)\n",
    "\n",
    "def fruits(**kwargs):\n",
    "    for key in kwargs.keys():\n",
    "        print(\"The \"+str(key)+\" is \"+str(kwargs[key]))\n",
    "\n",
    "fruits(lemon=\"yellow\", apple=\"red\", kiwi=\"green\")\n",
    "\n",
    "dict_test = {\"key1\":1, \"key2\":2}\n",
    "dict_test[\"key2\"]\n",
    "\n",
    "def fruits(**kwargs):\n",
    "    for key, val in zip(kwargs.keys(), kwargs.values()):\n",
    "        print(\"The \"+str(key)+\" is \"+str(val))\n",
    "\n",
    "fruits(lemon=\"yellow\", apple=\"red\", kiwi=\"green\")"
   ]
  },
  {
   "cell_type": "markdown",
   "id": "49ba718b-614f-44fe-b2c2-19714b6ef774",
   "metadata": {},
   "source": [
    "### Variables and parameters are local\n",
    "+ a variable inside a function is **local** (i.e., it only exists in the function)\n",
    "+ parameters are local\n",
    "+ if you try to access the local variable/parameter outside the function you will get a **NameError** (Variable is not defined)"
   ]
  },
  {
   "cell_type": "code",
   "execution_count": 45,
   "id": "b73d16f3-455a-421c-905b-8db49f0db0b1",
   "metadata": {},
   "outputs": [
    {
     "name": "stdout",
     "output_type": "stream",
     "text": [
      "3 + 4 = 7\n"
     ]
    },
    {
     "ename": "NameError",
     "evalue": "name 'x' is not defined",
     "output_type": "error",
     "traceback": [
      "\u001b[1;31m---------------------------------------------------------------------------\u001b[0m",
      "\u001b[1;31mNameError\u001b[0m                                 Traceback (most recent call last)",
      "Cell \u001b[1;32mIn[45], line 12\u001b[0m\n\u001b[0;32m      6\u001b[0m addition(x\u001b[38;5;241m=\u001b[39m\u001b[38;5;241m3\u001b[39m,y\u001b[38;5;241m=\u001b[39m\u001b[38;5;241m4\u001b[39m)\n\u001b[0;32m      8\u001b[0m \u001b[38;5;66;03m# print value of 'sum_res'\u001b[39;00m\n\u001b[0;32m      9\u001b[0m \u001b[38;5;66;03m# sum_res  # yields in a NameError\u001b[39;00m\n\u001b[0;32m     10\u001b[0m \n\u001b[0;32m     11\u001b[0m \u001b[38;5;66;03m# print parameters x and y\u001b[39;00m\n\u001b[1;32m---> 12\u001b[0m \u001b[43mx\u001b[49m\n",
      "\u001b[1;31mNameError\u001b[0m: name 'x' is not defined"
     ]
    }
   ],
   "source": [
    "def addition(x,y):\n",
    "    sum_res = x+y\n",
    "    print(x,\"+\",y,\"=\",sum_res)\n",
    "\n",
    "# call function\n",
    "addition(x=3,y=4)\n",
    "\n",
    "# print value of 'sum_res'\n",
    "# sum_res  # yields in a NameError\n",
    "\n",
    "# print parameters x and y\n",
    "x"
   ]
  },
  {
   "cell_type": "markdown",
   "id": "0e409bd3-c766-459d-a38d-18784be7347a",
   "metadata": {},
   "source": [
    "### Traceback\n",
    "+ report containing the function calls made in your code at a specific point\n",
    "+ when your program results in an exception, Python will print the current traceback to help you know what went wrong\n",
    "+ *final line* of the traceback: type of exception + error message\n",
    "+ *previous lines* of the traceback point to the code that resulted in the exception\n",
    "    + moving from bottom to top, most recent to least recent\n",
    "    + *first line*: number of cell + line in which error occured\n",
    "+ Format of traceback will differ a bit depending from where you call it (Notebook, Spyder, shell, etc.)  \n",
    "\n",
    "**Different types of errors**\n",
    "+ SyntaxError: when you have incorrect Python syntax in your code\n",
    "+ IndentationError: when you have missing indentation in you Python code\n",
    "+ TypeError: when your code attempts to do something with an object that can’t do that thing\n",
    "+ NameError: when you have referenced a variable, module, class, function, or some other name that hasn’t been defined in your code\n",
    "+ AttributeError: when you try to access an attribute on an object that doesn’t have that attribute defined\n",
    "+ ImportError: when something goes wrong with an import statement\n",
    "+ IndexError: when you attempt to retrieve an index from a sequence and the index isn’t found in the sequence\n",
    "+ KeyError: when you attempt to access a key that isn’t in the mapping, usually a `dict`\n",
    "+ ValueError: when the value of the object isn’t correct"
   ]
  },
  {
   "cell_type": "code",
   "execution_count": 51,
   "id": "e322af6b-d3a6-486c-b37e-29838e518f70",
   "metadata": {},
   "outputs": [
    {
     "ename": "NameError",
     "evalue": "name 'sum_res' is not defined",
     "output_type": "error",
     "traceback": [
      "\u001b[1;31m---------------------------------------------------------------------------\u001b[0m",
      "\u001b[1;31mNameError\u001b[0m                                 Traceback (most recent call last)",
      "Cell \u001b[1;32mIn[51], line 18\u001b[0m\n\u001b[0;32m      4\u001b[0m     \u001b[38;5;28mprint\u001b[39m(x,\u001b[38;5;124m\"\u001b[39m\u001b[38;5;124m+\u001b[39m\u001b[38;5;124m\"\u001b[39m,y,\u001b[38;5;124m\"\u001b[39m\u001b[38;5;124m=\u001b[39m\u001b[38;5;124m\"\u001b[39m,sum_res)\n\u001b[0;32m      6\u001b[0m \u001b[38;5;66;03m# SyntaxError\u001b[39;00m\n\u001b[0;32m      7\u001b[0m \u001b[38;5;66;03m#def addition(x,y)\u001b[39;00m\n\u001b[0;32m      8\u001b[0m \u001b[38;5;66;03m#    sum_res = x + y\u001b[39;00m\n\u001b[1;32m   (...)\u001b[0m\n\u001b[0;32m     16\u001b[0m \n\u001b[0;32m     17\u001b[0m \u001b[38;5;66;03m# NameError\u001b[39;00m\n\u001b[1;32m---> 18\u001b[0m \u001b[38;5;28mprint\u001b[39m(\u001b[43msum_res\u001b[49m)\n",
      "\u001b[1;31mNameError\u001b[0m: name 'sum_res' is not defined"
     ]
    }
   ],
   "source": [
    "# original function\n",
    "def addition(x,y):\n",
    "    sum_res = x + y\n",
    "    print(x,\"+\",y,\"=\",sum_res)\n",
    "\n",
    "# SyntaxError\n",
    "#def addition(x,y)\n",
    "#    sum_res = x + y\n",
    "\n",
    "# IndentationError\n",
    "#def addition(x,y):\n",
    "#sum_res = x + y\n",
    "\n",
    "# TypeError\n",
    "# addition(3, \"a\")\n",
    "\n",
    "# NameError\n",
    "# print(sum_res)"
   ]
  },
  {
   "cell_type": "markdown",
   "id": "6cbaa2cf-350b-4802-8738-67dedbbea8a6",
   "metadata": {},
   "source": [
    "### Fruitful Functions and Void Functions\n",
    "\n",
    "+ Functions that perform an action but don’t return a value are called **void functions**\n",
    "+ Void functions might display something on the screen or have some other effect, but they don’t have a return value.\n",
    "+ If you try to assign the result of a void function to a variable, you get an empty variable, which has a `None` type."
   ]
  },
  {
   "cell_type": "code",
   "execution_count": 57,
   "id": "b3517b8c-6ba2-455d-bc38-54d590e831c9",
   "metadata": {},
   "outputs": [
    {
     "name": "stdout",
     "output_type": "stream",
     "text": [
      "I am printing something.\n",
      "None\n",
      "I am returning something\n"
     ]
    },
    {
     "data": {
      "text/plain": [
       "str"
      ]
     },
     "execution_count": 57,
     "metadata": {},
     "output_type": "execute_result"
    }
   ],
   "source": [
    "def print_sth():\n",
    "    print(\"I am printing something.\")\n",
    "\n",
    "a = print_sth()\n",
    "print(a)\n",
    "type(a)\n",
    "\n",
    "def return_sth():\n",
    "    return \"I am returning something\"\n",
    "\n",
    "a = return_sth()\n",
    "print(a)\n",
    "type(a)"
   ]
  },
  {
   "cell_type": "markdown",
   "id": "ba3741f6-b4d2-46c6-9ed4-1e1150978549",
   "metadata": {},
   "source": [
    "### Anonymous Functions\n",
    "+ The `lambda` keyword creates an **anonymous function** within a Python expression\n",
    "+ in general you should prefer a function definition (`def`) over using `lambda` functions\n",
    "+ The lambda syntax is just **syntactic sugar**: a lambda expression creates a function object just like the `def` statement."
   ]
  },
  {
   "cell_type": "code",
   "execution_count": 59,
   "id": "d9234942-380d-40d7-9d8e-7b9a27d86e62",
   "metadata": {},
   "outputs": [
    {
     "data": {
      "text/plain": [
       "3"
      ]
     },
     "execution_count": 59,
     "metadata": {},
     "output_type": "execute_result"
    }
   ],
   "source": [
    "# example for a lambda function\n",
    "sum_lambda = lambda x,y: x+y\n",
    "sum_lambda(x=1,y=2)"
   ]
  },
  {
   "cell_type": "markdown",
   "id": "09929f1e-8967-4720-bba1-10fc47c65b18",
   "metadata": {},
   "source": [
    "### Callables in Python\n",
    "+ the call operator `()` may be applied to other objects besides functions\n",
    "+ To determine whether an object is callable, use the `callable()` built-in function\n",
    "+ callables are for example:\n",
    "    + User-defined functions (as created with `def` or `lambda`)\n",
    "    + built-in functions (like `len()` or `sum()`)\n",
    "    + built-in methods (like `dict.keys()` or `str.join()`)\n",
    "    + methods (functions defined in the body of a class)*\n",
    "    + classes*\n",
    "    + class instances*\n",
    " \n",
    "*will be discussed next in the section *Classes* "
   ]
  },
  {
   "cell_type": "code",
   "execution_count": 64,
   "id": "3d4e2722-0256-4c6d-a718-5c21dfa048e4",
   "metadata": {},
   "outputs": [
    {
     "data": {
      "text/plain": [
       "['__add__',\n",
       " '__class__',\n",
       " '__contains__',\n",
       " '__delattr__',\n",
       " '__dir__',\n",
       " '__doc__',\n",
       " '__eq__',\n",
       " '__format__',\n",
       " '__ge__',\n",
       " '__getattribute__',\n",
       " '__getitem__',\n",
       " '__getnewargs__',\n",
       " '__gt__',\n",
       " '__hash__',\n",
       " '__init__',\n",
       " '__init_subclass__',\n",
       " '__iter__',\n",
       " '__le__',\n",
       " '__len__',\n",
       " '__lt__',\n",
       " '__mod__',\n",
       " '__mul__',\n",
       " '__ne__',\n",
       " '__new__',\n",
       " '__reduce__',\n",
       " '__reduce_ex__',\n",
       " '__repr__',\n",
       " '__rmod__',\n",
       " '__rmul__',\n",
       " '__setattr__',\n",
       " '__sizeof__',\n",
       " '__str__',\n",
       " '__subclasshook__',\n",
       " 'capitalize',\n",
       " 'casefold',\n",
       " 'center',\n",
       " 'count',\n",
       " 'encode',\n",
       " 'endswith',\n",
       " 'expandtabs',\n",
       " 'find',\n",
       " 'format',\n",
       " 'format_map',\n",
       " 'index',\n",
       " 'isalnum',\n",
       " 'isalpha',\n",
       " 'isascii',\n",
       " 'isdecimal',\n",
       " 'isdigit',\n",
       " 'isidentifier',\n",
       " 'islower',\n",
       " 'isnumeric',\n",
       " 'isprintable',\n",
       " 'isspace',\n",
       " 'istitle',\n",
       " 'isupper',\n",
       " 'join',\n",
       " 'ljust',\n",
       " 'lower',\n",
       " 'lstrip',\n",
       " 'maketrans',\n",
       " 'partition',\n",
       " 'removeprefix',\n",
       " 'removesuffix',\n",
       " 'replace',\n",
       " 'rfind',\n",
       " 'rindex',\n",
       " 'rjust',\n",
       " 'rpartition',\n",
       " 'rsplit',\n",
       " 'rstrip',\n",
       " 'split',\n",
       " 'splitlines',\n",
       " 'startswith',\n",
       " 'strip',\n",
       " 'swapcase',\n",
       " 'title',\n",
       " 'translate',\n",
       " 'upper',\n",
       " 'zfill']"
      ]
     },
     "execution_count": 64,
     "metadata": {},
     "output_type": "execute_result"
    }
   ],
   "source": [
    "# determine whether an object is callable\n",
    "int13 = 13\n",
    "callable(int13)\n",
    "\n",
    "# user-defined callable\n",
    "def multiply(x,y):\n",
    "    return x*y\n",
    "\n",
    "callable(multiply)\n",
    "\n",
    "# built-in functions\n",
    "len(range(3))\n",
    "callable(len)\n",
    "\n",
    "# built-in methods\n",
    "# can be retrieved via `dir` of a built-in type\n",
    "dir(str)"
   ]
  },
  {
   "cell_type": "markdown",
   "id": "3b0bd956-27b9-47a9-8a2c-849e97bc1940",
   "metadata": {},
   "source": [
    "## Classes\n",
    "### Structure of a class\n",
    "+ use the keyword argument `class` to defined a new class\n",
    "+ the **class name** is given by the name after the keyword `class` (convention: use CamelCase to name your class) and ends with a **colon**\n",
    "+ the **body** is indented (four spaces) \n",
    "    + good practice to start with a **docstring** that describes what the class is for (`''' Descriptions '''`)\n",
    "+ the `__init__` method:\n",
    "    + this method initializes the **attributes** of a new object \n",
    "    + it is conventional for the first parameter of a method to be named `self`\n",
    "    + after `self`, you can pass further arguments that your method needs\n",
    "    + by convention, passed arguments are defined as attributes: `self.argument = argument` (here: self.argument is now an attribute of the class)\n",
    "+ further user-defined methods:\n",
    "    +  you can defined further methods (i.e., functions) in your class\n",
    "    +  if you want to call a method that you have previously defined in your class, you need to write `self.method(args)`\n",
    "+ the `__call__` method:\n",
    "    + this method is run when you call the *instantiated* class object\n",
    "    + the arguments that you pass in this method, are the arguments that you pass when calling the class object "
   ]
  },
  {
   "cell_type": "code",
   "execution_count": 2,
   "id": "e3eff2e3-9787-49fe-9a01-1ae697bf31db",
   "metadata": {},
   "outputs": [],
   "source": [
    "class BasicArithmetics:\n",
    "    \"\"\"Implements basic arithmetic operations\"\"\"  # docstring\n",
    "    def __init__(self, method):                   # __init__ method\n",
    "        self.method = str(method)                 # attribute of the method\n",
    "    \n",
    "    def sum(self, x, y):                          # user-defined method\n",
    "        return x + y\n",
    "\n",
    "    def multiply(self, x, y):                     # user-defined method\n",
    "        return x * y\n",
    "\n",
    "    def __call__(self, x, y):                     # __call__ method \n",
    "        if self.method == \"sum\":\n",
    "            return self.sum(x, y)                 # example for calling a previously defined method within the class using (self.sum)\n",
    "        if self.method == \"multiply\":\n",
    "            return self.multiply(x, y)"
   ]
  },
  {
   "cell_type": "markdown",
   "id": "1465b366-3b90-485d-a29c-f6bcd9cebb63",
   "metadata": {},
   "source": [
    "### Instantiating and calling a class object\n",
    "\n",
    "+ **instantiating** a class object\n",
    "    + when we instantiate a class object, Python invokes `__init__`, and passes along the arguments.\n",
    "    + So we can create an object and initialize the **attributes** at the same time\n",
    "+ **call** an instantiated class object\n",
    "    + you can call the instantiated class object by using the call operator `()` (if the __call__ method requires arguments they have to be passed here)\n",
    "+ you can also call the methods of a class directly by `class.method(args)`"
   ]
  },
  {
   "cell_type": "code",
   "execution_count": 10,
   "id": "c89f5702-e315-41c9-a94a-29f925253606",
   "metadata": {},
   "outputs": [
    {
     "name": "stdout",
     "output_type": "stream",
     "text": [
      "sum\n",
      "multiply\n"
     ]
    },
    {
     "data": {
      "text/plain": [
       "6"
      ]
     },
     "execution_count": 10,
     "metadata": {},
     "output_type": "execute_result"
    }
   ],
   "source": [
    "# instantiate a class\n",
    "user_sum = BasicArithmetics(method = \"sum\")\n",
    "user_multiply = BasicArithmetics(method = \"multiply\")\n",
    "type(user_sum)\n",
    "\n",
    "# have a look at the description (i.e., docstring)\n",
    "user_sum.__doc__\n",
    "\n",
    "# show value of initialized attribute\n",
    "print(user_sum.method)\n",
    "print(user_multiply.method)\n",
    "\n",
    "# call class for specific values\n",
    "user_sum(x=2, y=3)\n",
    "\n",
    "# call implemented method directly\n",
    "user_sum.multiply(x=2, y=3)"
   ]
  },
  {
   "cell_type": "markdown",
   "id": "8e82e463-8257-4989-ba57-da4af36107d5",
   "metadata": {},
   "source": [
    "### Instance variables vs. class variables\n",
    "+ attributes create in the `__init__` method are instance variables, every instance of this class can have a different value\n",
    "+ class variables are the same for all instances of this class object"
   ]
  },
  {
   "cell_type": "code",
   "execution_count": 13,
   "id": "bc9db776-f40f-4b82-9bdb-ad351b20a34a",
   "metadata": {},
   "outputs": [
    {
     "name": "stdout",
     "output_type": "stream",
     "text": [
      "The white swan.\n",
      "The white ice bear.\n",
      "swan\n",
      "ice bear\n",
      "white\n",
      "white\n"
     ]
    }
   ],
   "source": [
    "class Animals():\n",
    "    \"\"\" returns properties of white animals \"\"\"\n",
    "    color = \"white\"                                   # class variable\n",
    "    \n",
    "    def __init__(self, animal_type):\n",
    "        self.animal_type = str(animal_type)                # instance variable\n",
    "\n",
    "    def __call__(self):\n",
    "        print(\"The \"+self.color+\" \"+self.animal_type+\".\")\n",
    "\n",
    "# create two instances of the class\n",
    "swan = Animals(animal_type = \"swan\")\n",
    "bear = Animals(animal_type = \"ice bear\")\n",
    "\n",
    "swan()\n",
    "bear()\n",
    "\n",
    "# get instance attribute \"animal_tpye\"\n",
    "print(swan.animal_type)\n",
    "print(bear.animal_type)\n",
    "\n",
    "# get class variable (shared between all instances)\n",
    "print(swan.color)\n",
    "print(bear.color)\n"
   ]
  },
  {
   "cell_type": "markdown",
   "id": "6934fc3a-9149-4543-85c9-1bb805476955",
   "metadata": {},
   "source": [
    "### Inheritance\n",
    "+ Inheritance is the ability to define a new class that is a modified version of an existing class\n",
    "+ To define a new class that is based on an existing class, we put the name of the existing class in parentheses\n",
    "+ The `__init__` and `__call__` method are also inherited, but when you specify them in the new class as well this will override it\n",
    "+ When a new class inherits from an existing one, the existing one is called the parent and the new class is called the child."
   ]
  },
  {
   "cell_type": "code",
   "execution_count": 15,
   "id": "778ac028-5a78-48de-989c-1a9ad7a78cf4",
   "metadata": {},
   "outputs": [
    {
     "data": {
      "text/plain": [
       "0.5"
      ]
     },
     "execution_count": 15,
     "metadata": {},
     "output_type": "execute_result"
    }
   ],
   "source": [
    "# This definition indicates that AddDivision inherits from BasicArithmetics\n",
    "class AddDivision(BasicArithmetics):\n",
    "    \"\"\" Inherits the attributes and methods from BasicArithmetics and adds a division method. \"\"\"\n",
    "\n",
    "    def division(self, x, y):\n",
    "        return x/y\n",
    "\n",
    "    def __call__(self, x, y):\n",
    "        if self.method == \"sum\":\n",
    "            return self.sum(x,y)\n",
    "        if self.method == \"multiply\":\n",
    "            return self.multiply(x,y)\n",
    "        if self.method == \"division\":\n",
    "            return self.division(x,y)\n",
    "            \n",
    "add_division = AddDivision(method=\"division\")\n",
    "\n",
    "# have a look at all attributes and methods of the class\n",
    "dir(add_division)\n",
    "\n",
    "# call the new instantiated class object\n",
    "add_division(1,2)"
   ]
  }
 ],
 "metadata": {
  "kernelspec": {
   "display_name": "Python 3 (ipykernel)",
   "language": "python",
   "name": "python3"
  },
  "language_info": {
   "codemirror_mode": {
    "name": "ipython",
    "version": 3
   },
   "file_extension": ".py",
   "mimetype": "text/x-python",
   "name": "python",
   "nbconvert_exporter": "python",
   "pygments_lexer": "ipython3",
   "version": "3.11.9"
  }
 },
 "nbformat": 4,
 "nbformat_minor": 5
}
