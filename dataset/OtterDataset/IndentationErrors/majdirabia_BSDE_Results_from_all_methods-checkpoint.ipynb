{
 "cells": [
  {
   "cell_type": "code",
   "execution_count": 1,
   "metadata": {
    "collapsed": true
   },
   "outputs": [],
   "source": [
    "import os\n",
    "import sys\n",
    "module_path = os.path.abspath(os.path.join('../'))\n",
    "if module_path not in sys.path:\n",
    "    sys.path.append(module_path)"
   ]
  },
  {
   "cell_type": "code",
   "execution_count": 2,
   "metadata": {
    "collapsed": true
   },
   "outputs": [],
   "source": [
    "import pandas as pd"
   ]
  },
  {
   "cell_type": "code",
   "execution_count": 3,
   "metadata": {
    "collapsed": true
   },
   "outputs": [],
   "source": [
    "import os"
   ]
  },
  {
   "cell_type": "code",
   "execution_count": 4,
   "metadata": {
    "collapsed": false
   },
   "outputs": [
    {
     "data": {
      "text/plain": [
       "'C:\\\\Users\\\\Majdi\\\\Dropbox\\\\MSc thesis\\\\Simulations\\\\Main'"
      ]
     },
     "execution_count": 4,
     "metadata": {},
     "output_type": "execute_result"
    }
   ],
   "source": [
    "module_path"
   ]
  },
  {
   "cell_type": "code",
   "execution_count": 5,
   "metadata": {
    "collapsed": false
   },
   "outputs": [],
   "source": [
    "folders = os.listdir(os.getcwd())"
   ]
  },
  {
   "cell_type": "code",
   "execution_count": 6,
   "metadata": {
    "collapsed": false
   },
   "outputs": [
    {
     "data": {
      "text/plain": [
       "['.ipynb_checkpoints',\n",
       " 'Derivative',\n",
       " 'GradBoosting',\n",
       " 'Mesh',\n",
       " 'RandomForest',\n",
       " 'Results_from_all_methods.ipynb']"
      ]
     },
     "execution_count": 6,
     "metadata": {},
     "output_type": "execute_result"
    }
   ],
   "source": [
    "folders"
   ]
  },
  {
   "cell_type": "code",
   "execution_count": 7,
   "metadata": {
    "collapsed": false
   },
   "outputs": [],
   "source": [
    "folders.remove('Results_from_all_methods.ipynb')\n",
    "folders.remove('.ipynb_checkpoints')"
   ]
  },
  {
   "cell_type": "code",
   "execution_count": 8,
   "metadata": {
    "collapsed": false
   },
   "outputs": [],
   "source": [
    "import glob\n",
    "path = os.getcwd()"
   ]
  },
  {
   "cell_type": "code",
   "execution_count": 9,
   "metadata": {
    "collapsed": false
   },
   "outputs": [
    {
     "data": {
      "text/plain": [
       "'C:\\\\Users\\\\Majdi\\\\Dropbox\\\\MSc thesis\\\\Simulations\\\\Main\\\\european_max_call5'"
      ]
     },
     "execution_count": 9,
     "metadata": {},
     "output_type": "execute_result"
    }
   ],
   "source": [
    "path"
   ]
  },
  {
   "cell_type": "code",
   "execution_count": 10,
   "metadata": {
    "collapsed": false
   },
   "outputs": [
    {
     "data": {
      "text/plain": [
       "'/'"
      ]
     },
     "execution_count": 10,
     "metadata": {},
     "output_type": "execute_result"
    }
   ],
   "source": [
    "SEP = os.sep.join('/')\n",
    "SEP"
   ]
  },
  {
   "cell_type": "code",
   "execution_count": 11,
   "metadata": {
    "collapsed": false
   },
   "outputs": [
    {
     "name": "stdout",
     "output_type": "stream",
     "text": [
      "['C:\\\\Users\\\\Majdi\\\\Dropbox\\\\MSc thesis\\\\Simulations\\\\Main\\\\european_max_call5/Derivative\\\\output_derivative.csv']\n",
      "['C:\\\\Users\\\\Majdi\\\\Dropbox\\\\MSc thesis\\\\Simulations\\\\Main\\\\european_max_call5/GradBoosting\\\\output_GradBoost.csv']\n",
      "['C:\\\\Users\\\\Majdi\\\\Dropbox\\\\MSc thesis\\\\Simulations\\\\Main\\\\european_max_call5/Mesh\\\\output_mesh.csv']\n",
      "['C:\\\\Users\\\\Majdi\\\\Dropbox\\\\MSc thesis\\\\Simulations\\\\Main\\\\european_max_call5/RandomForest\\\\output_rf.csv']\n"
     ]
    }
   ],
   "source": [
    "dfs = {}\n",
    "\n",
    "for folder in folders:\n",
    "    filename = glob.glob(path + SEP + folder + '/*.csv')\n",
    "    print (filename)\n",
    "    if len (filename) > 0 : \n",
    "        dfs[folder] = pd.read_csv(filename[0], index_col=False)"
   ]
  },
  {
   "cell_type": "code",
   "execution_count": 12,
   "metadata": {
    "collapsed": false
   },
   "outputs": [],
   "source": [
    "dfs_stats=[]\n",
    "for key, df in dfs.items(): \n",
    "    df = df[['stat parameter', 'values']].dropna()\n",
    "    dfs_stats.append(pd.DataFrame(data = df))\n",
    "dfs_stats = pd.concat(dfs_stats, keys = dfs.keys())"
   ]
  },
  {
   "cell_type": "code",
   "execution_count": 13,
   "metadata": {
    "collapsed": true
   },
   "outputs": [],
   "source": [
    "test = dfs['RandomForest']\n",
    "params = test[['Parameters', 'values']].dropna()"
   ]
  },
  {
   "cell_type": "code",
   "execution_count": 18,
   "metadata": {
    "collapsed": false
   },
   "outputs": [
    {
     "data": {
      "text/plain": [
       "{'Derivative':     Unnamed: 0 Parameters Specific Parameters     run  \\\n",
       " 0            0          q                 NaN     NaN   \n",
       " 1            1         mu                 NaN     NaN   \n",
       " 2            2         R                  NaN     NaN   \n",
       " 3            3         r                  NaN     NaN   \n",
       " 4            4      sigma                 NaN     NaN   \n",
       " 5            5          T                 NaN     NaN   \n",
       " 6            6          K                 NaN     NaN   \n",
       " 7            7         S0                 NaN     NaN   \n",
       " 8            0        NaN         N_particles     NaN   \n",
       " 9            1        NaN    m_discretization     NaN   \n",
       " 10           2        NaN               N_run     NaN   \n",
       " 11           3        NaN            n_picard     NaN   \n",
       " 12           4        NaN   nearest neighbors     NaN   \n",
       " 13           5        NaN                   l     NaN   \n",
       " 14           0        NaN                 NaN   run 1   \n",
       " 15           1        NaN                 NaN   run 2   \n",
       " 16           2        NaN                 NaN   run 3   \n",
       " 17           3        NaN                 NaN   run 4   \n",
       " 18           4        NaN                 NaN   run 5   \n",
       " 19           5        NaN                 NaN   run 6   \n",
       " 20           6        NaN                 NaN   run 7   \n",
       " 21           7        NaN                 NaN   run 8   \n",
       " 22           8        NaN                 NaN   run 9   \n",
       " 23           9        NaN                 NaN  run 10   \n",
       " 24          10        NaN                 NaN  run 11   \n",
       " 25          11        NaN                 NaN  run 12   \n",
       " 26          12        NaN                 NaN  run 13   \n",
       " 27          13        NaN                 NaN  run 14   \n",
       " 28          14        NaN                 NaN  run 15   \n",
       " 29          15        NaN                 NaN  run 16   \n",
       " 30          16        NaN                 NaN  run 17   \n",
       " 31          17        NaN                 NaN  run 18   \n",
       " 32          18        NaN                 NaN  run 19   \n",
       " 33          19        NaN                 NaN  run 20   \n",
       " 34           0        NaN                 NaN     NaN   \n",
       " 35           1        NaN                 NaN     NaN   \n",
       " 36           2        NaN                 NaN     NaN   \n",
       " 37           3        NaN                 NaN     NaN   \n",
       " 38           4        NaN                 NaN     NaN   \n",
       " \n",
       "              stat parameter    time              values  \n",
       " 0                       NaN     NaN                 0.1  \n",
       " 1                       NaN     NaN                0.05  \n",
       " 2                       NaN     NaN                0.05  \n",
       " 3                       NaN     NaN                0.05  \n",
       " 4                       NaN     NaN                 0.2  \n",
       " 5                       NaN     NaN                 3.0  \n",
       " 6                       NaN     NaN               100.0  \n",
       " 7                       NaN     NaN               100.0  \n",
       " 8                       NaN     NaN              1000.0  \n",
       " 9                       NaN     NaN                 8.0  \n",
       " 10                      NaN     NaN                20.0  \n",
       " 11                      NaN     NaN                 3.0  \n",
       " 12                      NaN     NaN               100.0  \n",
       " 13                      NaN     NaN                 1.0  \n",
       " 14                      NaN  14.442             22.9235  \n",
       " 15                      NaN  14.270             23.9169  \n",
       " 16                      NaN  15.120              22.686  \n",
       " 17                      NaN  14.554             22.0876  \n",
       " 18                      NaN  14.548             22.3241  \n",
       " 19                      NaN  14.799             22.1761  \n",
       " 20                      NaN  15.122             23.5818  \n",
       " 21                      NaN  14.583             23.1706  \n",
       " 22                      NaN  14.252             23.3483  \n",
       " 23                      NaN  14.363             23.0022  \n",
       " 24                      NaN  15.261             22.7786  \n",
       " 25                      NaN  14.626             22.4297  \n",
       " 26                      NaN  14.709             23.1356  \n",
       " 27                      NaN  14.769             22.7467  \n",
       " 28                      NaN  14.847             23.8885  \n",
       " 29                      NaN  14.420             21.6846  \n",
       " 30                      NaN  14.776             23.2741  \n",
       " 31                      NaN  14.670             23.5312  \n",
       " 32                      NaN  14.662             21.6485  \n",
       " 33                      NaN  14.619             23.9269  \n",
       " 34                     mean     NaN             22.9131  \n",
       " 35                      std     NaN              0.6985  \n",
       " 36  95% confidence interval     NaN  [22.8446, 22.9816]  \n",
       " 37                      min     NaN             21.6485  \n",
       " 38                      max     NaN             23.9269  ,\n",
       " 'GradBoosting':     Unnamed: 0 Parameters Specific Parameters     run  \\\n",
       " 0            0          q                 NaN     NaN   \n",
       " 1            1         mu                 NaN     NaN   \n",
       " 2            2         R                  NaN     NaN   \n",
       " 3            3         r                  NaN     NaN   \n",
       " 4            4      sigma                 NaN     NaN   \n",
       " 5            5          T                 NaN     NaN   \n",
       " 6            6          K                 NaN     NaN   \n",
       " 7            7         S0                 NaN     NaN   \n",
       " 8            0        NaN         N_particles     NaN   \n",
       " 9            1        NaN    m_discretization     NaN   \n",
       " 10           2        NaN               N_run     NaN   \n",
       " 11           3        NaN            n_picard     NaN   \n",
       " 12           4        NaN     Number of trees     NaN   \n",
       " 13           5        NaN       Learning rate     NaN   \n",
       " 14           6        NaN           max_depth     NaN   \n",
       " 15           0        NaN                 NaN   run 1   \n",
       " 16           1        NaN                 NaN   run 2   \n",
       " 17           2        NaN                 NaN   run 3   \n",
       " 18           3        NaN                 NaN   run 4   \n",
       " 19           4        NaN                 NaN   run 5   \n",
       " 20           5        NaN                 NaN   run 6   \n",
       " 21           6        NaN                 NaN   run 7   \n",
       " 22           7        NaN                 NaN   run 8   \n",
       " 23           8        NaN                 NaN   run 9   \n",
       " 24           9        NaN                 NaN  run 10   \n",
       " 25          10        NaN                 NaN  run 11   \n",
       " 26          11        NaN                 NaN  run 12   \n",
       " 27          12        NaN                 NaN  run 13   \n",
       " 28          13        NaN                 NaN  run 14   \n",
       " 29          14        NaN                 NaN  run 15   \n",
       " 30          15        NaN                 NaN  run 16   \n",
       " 31          16        NaN                 NaN  run 17   \n",
       " 32          17        NaN                 NaN  run 18   \n",
       " 33          18        NaN                 NaN  run 19   \n",
       " 34          19        NaN                 NaN  run 20   \n",
       " 35           0        NaN                 NaN     NaN   \n",
       " 36           1        NaN                 NaN     NaN   \n",
       " 37           2        NaN                 NaN     NaN   \n",
       " 38           3        NaN                 NaN     NaN   \n",
       " 39           4        NaN                 NaN     NaN   \n",
       " \n",
       "              stat parameter   time              values  \n",
       " 0                       NaN    NaN                 0.1  \n",
       " 1                       NaN    NaN                0.05  \n",
       " 2                       NaN    NaN                0.05  \n",
       " 3                       NaN    NaN                0.05  \n",
       " 4                       NaN    NaN                 0.2  \n",
       " 5                       NaN    NaN                 3.0  \n",
       " 6                       NaN    NaN               100.0  \n",
       " 7                       NaN    NaN               100.0  \n",
       " 8                       NaN    NaN             10000.0  \n",
       " 9                       NaN    NaN                 8.0  \n",
       " 10                      NaN    NaN                20.0  \n",
       " 11                      NaN    NaN                 3.0  \n",
       " 12                      NaN    NaN               100.0  \n",
       " 13                      NaN    NaN                 0.1  \n",
       " 14                      NaN    NaN                 1.0  \n",
       " 15                      NaN  4.311  22.682817646629548  \n",
       " 16                      NaN  4.363  23.312170060855536  \n",
       " 17                      NaN  4.397  23.261900460729134  \n",
       " 18                      NaN  4.147   22.79513528187493  \n",
       " 19                      NaN  4.259  23.156222160168273  \n",
       " 20                      NaN  4.494   22.99917740302822  \n",
       " 21                      NaN  4.296   23.19319498963043  \n",
       " 22                      NaN  4.313   23.00947750652799  \n",
       " 23                      NaN  4.319   22.90270833525516  \n",
       " 24                      NaN  4.492  23.147997789680755  \n",
       " 25                      NaN  4.545  22.934741278256414  \n",
       " 26                      NaN  4.291  23.170399575530656  \n",
       " 27                      NaN  4.364  23.444967436686245  \n",
       " 28                      NaN  4.321  23.140331144091427  \n",
       " 29                      NaN  4.771   23.39777921404829  \n",
       " 30                      NaN  4.218  23.187849791338735  \n",
       " 31                      NaN  4.271  22.817866879693838  \n",
       " 32                      NaN  4.356  22.847140382970363  \n",
       " 33                      NaN  4.200  22.876797807872222  \n",
       " 34                      NaN  4.651  23.046509061808614  \n",
       " 35                     mean    NaN             23.0663  \n",
       " 36                      std    NaN              0.2093  \n",
       " 37  95% confidence interval    NaN  [23.0458, 23.0868]  \n",
       " 38                      min    NaN             22.6828  \n",
       " 39                      max    NaN              23.445  ,\n",
       " 'Mesh':     Unnamed: 0 Parameters Specific Parameters     run  \\\n",
       " 0            0          q                 NaN     NaN   \n",
       " 1            1         mu                 NaN     NaN   \n",
       " 2            2         R                  NaN     NaN   \n",
       " 3            3         r                  NaN     NaN   \n",
       " 4            4      sigma                 NaN     NaN   \n",
       " 5            5          T                 NaN     NaN   \n",
       " 6            6          K                 NaN     NaN   \n",
       " 7            7         S0                 NaN     NaN   \n",
       " 8            0        NaN         N_particles     NaN   \n",
       " 9            1        NaN    m_discretization     NaN   \n",
       " 10           2        NaN               N_run     NaN   \n",
       " 11           3        NaN            n_picard     NaN   \n",
       " 12           0        NaN                 NaN   run 1   \n",
       " 13           1        NaN                 NaN   run 2   \n",
       " 14           2        NaN                 NaN   run 3   \n",
       " 15           3        NaN                 NaN   run 4   \n",
       " 16           4        NaN                 NaN   run 5   \n",
       " 17           5        NaN                 NaN   run 6   \n",
       " 18           6        NaN                 NaN   run 7   \n",
       " 19           7        NaN                 NaN   run 8   \n",
       " 20           8        NaN                 NaN   run 9   \n",
       " 21           9        NaN                 NaN  run 10   \n",
       " 22          10        NaN                 NaN  run 11   \n",
       " 23          11        NaN                 NaN  run 12   \n",
       " 24          12        NaN                 NaN  run 13   \n",
       " 25          13        NaN                 NaN  run 14   \n",
       " 26          14        NaN                 NaN  run 15   \n",
       " 27          15        NaN                 NaN  run 16   \n",
       " 28          16        NaN                 NaN  run 17   \n",
       " 29          17        NaN                 NaN  run 18   \n",
       " 30          18        NaN                 NaN  run 19   \n",
       " 31          19        NaN                 NaN  run 20   \n",
       " 32           0        NaN                 NaN     NaN   \n",
       " 33           1        NaN                 NaN     NaN   \n",
       " 34           2        NaN                 NaN     NaN   \n",
       " 35           3        NaN                 NaN     NaN   \n",
       " 36           4        NaN                 NaN     NaN   \n",
       " \n",
       "              stat parameter    time              values  \n",
       " 0                       NaN     NaN                 0.1  \n",
       " 1                       NaN     NaN                0.05  \n",
       " 2                       NaN     NaN                0.05  \n",
       " 3                       NaN     NaN                0.05  \n",
       " 4                       NaN     NaN                 0.2  \n",
       " 5                       NaN     NaN                 3.0  \n",
       " 6                       NaN     NaN               100.0  \n",
       " 7                       NaN     NaN               100.0  \n",
       " 8                       NaN     NaN                3000  \n",
       " 9                       NaN     NaN                   8  \n",
       " 10                      NaN     NaN                  20  \n",
       " 11                      NaN     NaN                   3  \n",
       " 12                      NaN  29.538  22.730852007097926  \n",
       " 13                      NaN  27.920   23.08571530586575  \n",
       " 14                      NaN  27.429  22.828344439189195  \n",
       " 15                      NaN  28.533  23.107308279505094  \n",
       " 16                      NaN  26.840   22.51012379273576  \n",
       " 17                      NaN  28.052  22.763332818779123  \n",
       " 18                      NaN  28.541  23.058044049855596  \n",
       " 19                      NaN  27.774   22.94036207103787  \n",
       " 20                      NaN  27.568    22.0012467552428  \n",
       " 21                      NaN  28.503  22.587689971991548  \n",
       " 22                      NaN  27.442   22.39913127230663  \n",
       " 23                      NaN  26.953  23.448532218992103  \n",
       " 24                      NaN  29.176  23.594562414606724  \n",
       " 25                      NaN  28.448  23.409624919350456  \n",
       " 26                      NaN  28.035  23.085494512699597  \n",
       " 27                      NaN  30.009  22.910052551521336  \n",
       " 28                      NaN  28.752  23.532451231385537  \n",
       " 29                      NaN  27.504  22.369816417115437  \n",
       " 30                      NaN  27.965  23.653633254318873  \n",
       " 31                      NaN  28.488   22.95451133569617  \n",
       " 32                     mean     NaN             22.9485  \n",
       " 33                      std     NaN              0.4441  \n",
       " 34  95% confidence interval     NaN    [22.905, 22.992]  \n",
       " 35                      min     NaN             22.0012  \n",
       " 36                      max     NaN             23.6536  ,\n",
       " 'RandomForest':     Unnamed: 0 Parameters Specific Parameters     run  \\\n",
       " 0            0          q                 NaN     NaN   \n",
       " 1            1         mu                 NaN     NaN   \n",
       " 2            2         R                  NaN     NaN   \n",
       " 3            3         r                  NaN     NaN   \n",
       " 4            4      sigma                 NaN     NaN   \n",
       " 5            5          T                 NaN     NaN   \n",
       " 6            6          K                 NaN     NaN   \n",
       " 7            7         S0                 NaN     NaN   \n",
       " 8            0        NaN         N_particles     NaN   \n",
       " 9            1        NaN    m_discretization     NaN   \n",
       " 10           2        NaN               N_run     NaN   \n",
       " 11           3        NaN            n_picard     NaN   \n",
       " 12           4        NaN     Number of trees     NaN   \n",
       " 13           5        NaN      Max Leaf nodes     NaN   \n",
       " 14           0        NaN                 NaN   run 1   \n",
       " 15           1        NaN                 NaN   run 2   \n",
       " 16           2        NaN                 NaN   run 3   \n",
       " 17           3        NaN                 NaN   run 4   \n",
       " 18           4        NaN                 NaN   run 5   \n",
       " 19           5        NaN                 NaN   run 6   \n",
       " 20           6        NaN                 NaN   run 7   \n",
       " 21           7        NaN                 NaN   run 8   \n",
       " 22           8        NaN                 NaN   run 9   \n",
       " 23           9        NaN                 NaN  run 10   \n",
       " 24          10        NaN                 NaN  run 11   \n",
       " 25          11        NaN                 NaN  run 12   \n",
       " 26          12        NaN                 NaN  run 13   \n",
       " 27          13        NaN                 NaN  run 14   \n",
       " 28          14        NaN                 NaN  run 15   \n",
       " 29          15        NaN                 NaN  run 16   \n",
       " 30          16        NaN                 NaN  run 17   \n",
       " 31          17        NaN                 NaN  run 18   \n",
       " 32          18        NaN                 NaN  run 19   \n",
       " 33          19        NaN                 NaN  run 20   \n",
       " 34           0        NaN                 NaN     NaN   \n",
       " 35           1        NaN                 NaN     NaN   \n",
       " 36           2        NaN                 NaN     NaN   \n",
       " 37           3        NaN                 NaN     NaN   \n",
       " 38           4        NaN                 NaN     NaN   \n",
       " \n",
       "              stat parameter   time              values  \n",
       " 0                       NaN    NaN                 0.1  \n",
       " 1                       NaN    NaN                0.05  \n",
       " 2                       NaN    NaN                0.05  \n",
       " 3                       NaN    NaN                0.05  \n",
       " 4                       NaN    NaN                 0.2  \n",
       " 5                       NaN    NaN                 3.0  \n",
       " 6                       NaN    NaN               100.0  \n",
       " 7                       NaN    NaN               100.0  \n",
       " 8                       NaN    NaN               10000  \n",
       " 9                       NaN    NaN                   6  \n",
       " 10                      NaN    NaN                  20  \n",
       " 11                      NaN    NaN                   3  \n",
       " 12                      NaN    NaN                 200  \n",
       " 13                      NaN    NaN                 700  \n",
       " 14                      NaN  8.215     22.762667941387  \n",
       " 15                      NaN  7.529   23.36741804862051  \n",
       " 16                      NaN  7.859  22.797670660352313  \n",
       " 17                      NaN  8.850  22.627627639308653  \n",
       " 18                      NaN  8.228   23.26474571505194  \n",
       " 19                      NaN  7.781   23.14652636498611  \n",
       " 20                      NaN  8.691   22.62538261664304  \n",
       " 21                      NaN  8.248   23.34978316635372  \n",
       " 22                      NaN  8.369   23.53641778616057  \n",
       " 23                      NaN  8.714    23.4129743511624  \n",
       " 24                      NaN  7.740  23.075316204833367  \n",
       " 25                      NaN  8.474   22.98078439478229  \n",
       " 26                      NaN  8.284  23.108416622393545  \n",
       " 27                      NaN  7.682   23.00747435443013  \n",
       " 28                      NaN  7.987  22.787842261139787  \n",
       " 29                      NaN  8.382   22.66927928503442  \n",
       " 30                      NaN  7.867  23.123505087447484  \n",
       " 31                      NaN  8.104  23.070586955652598  \n",
       " 32                      NaN  8.405  23.040984866841228  \n",
       " 33                      NaN  7.870  22.573721661962708  \n",
       " 34                     mean    NaN             23.0165  \n",
       " 35                      std    NaN               0.286  \n",
       " 36  95% confidence interval    NaN  [22.9885, 23.0445]  \n",
       " 37                      min    NaN             22.5737  \n",
       " 38                      max    NaN             23.5364  }"
      ]
     },
     "execution_count": 18,
     "metadata": {},
     "output_type": "execute_result"
    }
   ],
   "source": [
    "dfs"
   ]
  },
  {
   "cell_type": "code",
   "execution_count": 17,
   "metadata": {
    "collapsed": false
   },
   "outputs": [],
   "source": [
    "with open('results_comparison_max_5d.csv', 'w') as handle: \n",
    "    dfs_stats.to_csv(handle)\n",
    "    params.to_csv(handle)"
   ]
  },
  {
   "cell_type": "code",
   "execution_count": 27,
   "metadata": {
    "collapsed": false
   },
   "outputs": [
    {
     "ename": "IndentationError",
     "evalue": "expected an indented block (<ipython-input-27-9ac3dbcc8ba6>, line 3)",
     "output_type": "error",
     "traceback": [
      "\u001b[0;36m  File \u001b[0;32m\"<ipython-input-27-9ac3dbcc8ba6>\"\u001b[0;36m, line \u001b[0;32m3\u001b[0m\n\u001b[0;31m    \u001b[0m\n\u001b[0m    ^\u001b[0m\n\u001b[0;31mIndentationError\u001b[0m\u001b[0;31m:\u001b[0m expected an indented block\n"
     ]
    }
   ],
   "source": [
    "result_df = pd.DataFrame(['expected', 'mean', 'std', '95% confidence interval'])\n",
    "for key, df in dfs.items(): \n",
    "    "
   ]
  },
  {
   "cell_type": "code",
   "execution_count": 28,
   "metadata": {
    "collapsed": true
   },
   "outputs": [],
   "source": [
    "l = [[1, 1, 1], [2, 2, 2], [3, 3, 3]]"
   ]
  },
  {
   "cell_type": "code",
   "execution_count": 30,
   "metadata": {
    "collapsed": false
   },
   "outputs": [],
   "source": [
    "import numpy as np\n",
    "l = np.array(l)"
   ]
  },
  {
   "cell_type": "code",
   "execution_count": 31,
   "metadata": {
    "collapsed": false
   },
   "outputs": [
    {
     "data": {
      "text/plain": [
       "array([[1, 1, 1],\n",
       "       [2, 2, 2],\n",
       "       [3, 3, 3]])"
      ]
     },
     "execution_count": 31,
     "metadata": {},
     "output_type": "execute_result"
    }
   ],
   "source": [
    "l"
   ]
  },
  {
   "cell_type": "code",
   "execution_count": null,
   "metadata": {
    "collapsed": true
   },
   "outputs": [],
   "source": []
  }
 ],
 "metadata": {
  "kernelspec": {
   "display_name": "Python 3",
   "language": "python",
   "name": "python3"
  },
  "language_info": {
   "codemirror_mode": {
    "name": "ipython",
    "version": 3
   },
   "file_extension": ".py",
   "mimetype": "text/x-python",
   "name": "python",
   "nbconvert_exporter": "python",
   "pygments_lexer": "ipython3",
   "version": "3.5.2"
  }
 },
 "nbformat": 4,
 "nbformat_minor": 0
}
