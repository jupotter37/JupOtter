{
 "cells": [
  {
   "cell_type": "markdown",
   "metadata": {},
   "source": [
    "#Sesión 2: Condicionales, funciones e iteraciones\n",
    "\n",
    "La sesión anterior hemos visto cosas muy básicas sobre el `Python`. En esta sesión podrán apreciar el verdadero poder de `Python`. La clase va a cubrir varios temas. No te preocupes si no entiendes todo al inicio. Como les dije, se trata de practicar, practicar y practicar. \n",
    "\n",
    "\n",
    "Estos son los cuatro objetivos de hoy:\n",
    "    - Aprender el uso de condicionales.\n",
    "    - Aprender a crear funciones.\n",
    "    - Iteraciones (for loops y while loops).\n",
    "    - Manejo de excepciones.\n",
    "    \n"
   ]
  },
  {
   "cell_type": "markdown",
   "metadata": {},
   "source": [
    "## Condicionales\n",
    "\n",
    "Los condicionales permiten controlar el flujo del programa. Hay casos en que necesitaremos que nuestro código se ejecute de manera diferente dependiendo de las premisas de las que partimos. Existen tres condicionales que debes saber: `if` , `elif` y `else`."
   ]
  },
  {
   "cell_type": "code",
   "execution_count": 8,
   "metadata": {
    "collapsed": false
   },
   "outputs": [
    {
     "name": "stdout",
     "output_type": "stream",
     "text": [
      "Saludo 2\n"
     ]
    }
   ],
   "source": [
    "a = \"Hola\"\n",
    "\n",
    "if a == \"Hey\":\n",
    "    print(\"Saludo 1\")\n",
    "elif a == \"Hola\":\n",
    "    print(\"Saludo 2\")\n",
    "else:\n",
    "    print(\"No hay saludo\")\n",
    "\n"
   ]
  },
  {
   "cell_type": "markdown",
   "metadata": {},
   "source": [
    "### ¿Qué notas del código anterior?\n",
    "\n",
    "Primero fíjate en el `==`.   A diferencia de cuando definimos variables y les asignamos un valor (e.g., `a = \"Hola\"`), en este caso estamos comparando dos cantidades. Para eso se usa `==`, para saber si las cantidades a ambos lados son equivalentes. Nota que también puedes usar diferentes \"comparadores\" (`<, >, <=, >=`).\n",
    "\n",
    "Luego del condicional viene `:`. Esto es muy importante. Basta que te olvides de ponerlos para que tu programa deje de correr. \n",
    "\n",
    "¿Qué pasa con las líneas que vienen inmediatamente luego del condicional?  Están \"indentadas\". `Python` funciona con indentación. Todo lo que viene debajo de un condicional o función debe estar correctamente indentado. Lo recomendable es usar cuatro espacios para la indentación. Una vez más, basta que te olvides de indentar algo para que obtengas un `IndentationError`. (Hay editores que convierten `<TAB>` en cuatro espacios).\n",
    "\n",
    "La ejecución de códigos condicionales se hace en orden. `Python` comenzará desde el primer condicional y verificará si es cierto. De ser así ejecutará el código en ese bloque indentado. Si no, va hasta el siguiente condicional y así sucesivamente.\n"
   ]
  },
  {
   "cell_type": "markdown",
   "metadata": {},
   "source": [
    "### Practicando con condicionales\n",
    "\n",
    "En este reto, un usuario introducirá un número. Tu tarea es verificar si el número ingresado por el usuario es divisible por 78. Quiero que tu programa sea robusto. Esto quiere decir, que debe ponerse en todos los casos posibles sin arrojar errores. Para esto, sigue las siguientes indicaciones:\n",
    "\n",
    "2. Verifica si el número introducido es divisible entre 78. El operador módulo `%` puede ayudarte en esta tarea.\n",
    "3. Si es divisible, imprime un mensaje apropiado. Si no, también hazle saber al usuario que su número no es divisible entre 78.\n"
   ]
  },
  {
   "cell_type": "code",
   "execution_count": 9,
   "metadata": {
    "collapsed": false
   },
   "outputs": [
    {
     "name": "stdout",
     "output_type": "stream",
     "text": [
      "Introduce un número entero 3\n",
      "El número 3 no es divisible entre 78.\n"
     ]
    }
   ],
   "source": [
    "#Poner la parte del input... (Para que no tengan problemas con eso.)\n",
    "\n",
    "numero = input(\"Introduce un número entero \")\n",
    "if float(numero) % 78 == 0:\n",
    "    print(\"El número {} es divisible entre 78.\".format(numero))\n",
    "else:\n",
    "    print(\"El número {} no es divisible entre 78.\".format(numero))\n",
    "\n"
   ]
  },
  {
   "cell_type": "markdown",
   "metadata": {},
   "source": [
    "##Funciones\n",
    "\n",
    "Tal como en las matemáticas, las funciones aceptan `inputs` y nos dan algún `output`. En `Python` las funciones son una serie de pasos o código a ejecutar, cada vez que estas son llamadas. \n",
    "\n",
    "En el caso anterior de divisibilidad vimos que teníamos que ejecutar el código una y otra vez cambiando los parámetros para obtener diferentes resultados. Las funciones sirven para evitar estas repeticiones, y hacen nuestro código más ordenado y leíble. La manera básica de definir una función es la siguiente:\n",
    "\n",
    "````\n",
    "def foo(a):\n",
    "    código aquí\n",
    "    return algo\n",
    "````\n",
    "\n",
    "Nota que, al igual que las afirmaciones condicionales, aquí también es necesario usar `:` y la indentación. Sin embargo, no es indispensable que la función tenga argumentos (i.e. `a`) ni que retorne un valor.\n"
   ]
  },
  {
   "cell_type": "markdown",
   "metadata": {},
   "source": [
    "## Practicando con funciones\n",
    "\n",
    "Modifica el código que has escrito antes y ponlo en una función. La función debe llamarse `divisible_por_78(a)`. Donde `a` debe ser el número ingresado que entra al proceso de evaluación. No te olvides de indentar apropiadamente tu código para que evites errores."
   ]
  },
  {
   "cell_type": "code",
   "execution_count": 10,
   "metadata": {
    "collapsed": true
   },
   "outputs": [],
   "source": [
    "def divisible_por_78(a):\n",
    "    if float(numero) % 78 == 0:\n",
    "        print(\"El número {} es divisible entre 78.\".format(numero))\n",
    "    else:\n",
    "        print(\"El número {} no es divisible entre 78.\".format(numero))\n",
    "    "
   ]
  },
  {
   "cell_type": "code",
   "execution_count": 11,
   "metadata": {
    "collapsed": false
   },
   "outputs": [
    {
     "name": "stdout",
     "output_type": "stream",
     "text": [
      "Introduce un número entero 3\n",
      "El número 3 no es divisible entre 78.\n"
     ]
    }
   ],
   "source": [
    "numero = input(\"Introduce un número entero \")\n",
    "divisible_por_78(numero)"
   ]
  },
  {
   "cell_type": "markdown",
   "metadata": {},
   "source": [
    "## Argumentos posicionales y de palabras clave [key word]\n",
    "\n",
    "Las funciones pueden tomar desde cero hasta múltiples argumentos. Existen dos maneras de definir estos argumentos. La primera es por su ubicación (posicional) y la segunda por palabras clave.\n"
   ]
  },
  {
   "cell_type": "code",
   "execution_count": 12,
   "metadata": {
    "collapsed": false
   },
   "outputs": [
    {
     "name": "stdout",
     "output_type": "stream",
     "text": [
      "1\n",
      "2\n"
     ]
    }
   ],
   "source": [
    "#Ejemplo posicional\n",
    "def exponente(a, b):\n",
    "    resultado = a**b\n",
    "    return resultado\n",
    "\n",
    "print(exponente(1,2))\n",
    "print(exponente(2,1))"
   ]
  },
  {
   "cell_type": "code",
   "execution_count": 13,
   "metadata": {
    "collapsed": false
   },
   "outputs": [
    {
     "name": "stdout",
     "output_type": "stream",
     "text": [
      "4\n",
      "4\n",
      "1\n",
      "2\n"
     ]
    }
   ],
   "source": [
    "#Ejemplo palabras clave\n",
    "def exponente_pc(a=1, b=2):\n",
    "    resultado = a**b\n",
    "    return resultado\n",
    "\n",
    "print(exponente_pc(a=2)) # Se puede modificar un solo valor y el otro queda como default.\n",
    "print(exponente_pc(2,2)) # Todavía se pueden usar argumentos posicionales.\n",
    "print(exponente_pc()) #Los valores dados se usan como default.\n",
    "print(exponente_pc(b=1, a=2)) #Si se usan las palabras clave no importa el orden en que se pongan los argumentos."
   ]
  },
  {
   "cell_type": "markdown",
   "metadata": {},
   "source": [
    "## Retornando más de un valor...\n",
    "\n",
    "Es posible que las funciones retornen más de un valor. En este caso, el objeto retornado es un `tuple`, que es un tipo de dato que no puede ser modificado. "
   ]
  },
  {
   "cell_type": "code",
   "execution_count": 14,
   "metadata": {
    "collapsed": true
   },
   "outputs": [],
   "source": [
    "def exp_derecho_reves(a, b):\n",
    "    \"\"\"Retorna el valor de elevar un número x elevado a y y viceversa.\"\"\"\n",
    "    derecho = a**b\n",
    "    reves = b**a\n",
    "    return derecho, reves"
   ]
  },
  {
   "cell_type": "code",
   "execution_count": 15,
   "metadata": {
    "collapsed": false
   },
   "outputs": [
    {
     "name": "stdout",
     "output_type": "stream",
     "text": [
      "(1, 2)\n"
     ]
    }
   ],
   "source": [
    "print(exp_derecho_reves(1,2))"
   ]
  },
  {
   "cell_type": "code",
   "execution_count": 16,
   "metadata": {
    "collapsed": false
   },
   "outputs": [
    {
     "name": "stdout",
     "output_type": "stream",
     "text": [
      "1\n",
      "2\n"
     ]
    }
   ],
   "source": [
    "primero, segundo = exp_derecho_reves(1,2)\n",
    "print(primero)\n",
    "print(segundo)"
   ]
  },
  {
   "cell_type": "code",
   "execution_count": 17,
   "metadata": {
    "collapsed": true
   },
   "outputs": [],
   "source": [
    "exp_derecho_reves?"
   ]
  },
  {
   "cell_type": "markdown",
   "metadata": {},
   "source": [
    "##El General en su laberinto (1)\n",
    "\n",
    "El general se encuentra en un laberinto. Ayúdalo a salir. Existen nueve puertas. Solo hay una salida. Obviamente, él no tiene idea de cuál es la puerta que da hacia su libertad. Por el momento, solo tendrás una oportunidad (luego vamos a modificar esto). Tu función debe aceptar un argumento `salida(x)` donde x es un número del 1 al 9. Deberá decir si el número ingresado es mayor al número de la puerta, menor (en caso debe hacerle saber al jugador que perdió) o si acertó y el general quedó en libertad.\n",
    "\n",
    "Te he ayudado abajo con parte del código. Lo que he hecho en la primera línea es importar el módulo random que genera número seudo-aleatorios en `Python`. La segunda línea la tienes que incluir __dentro__ de tu función. lo que hace esta línea es elegir aleatoriamente un número entero entre 1 y 9. \n"
   ]
  },
  {
   "cell_type": "code",
   "execution_count": 18,
   "metadata": {
    "collapsed": false
   },
   "outputs": [
    {
     "name": "stdout",
     "output_type": "stream",
     "text": [
      "El número ingresado es menor que el número de la puerta que da a la libertad.\n"
     ]
    }
   ],
   "source": [
    "import random\n",
    "\n",
    "def salida(ingrese_puerta):\n",
    "    puerta_libertad = random.randint(1, 9)\n",
    "    if float(ingrese_puerta) == puerta_libertad:\n",
    "        print(\"Felicidades. Esta era la puerta. El general es libre ahora\")\n",
    "    elif float(ingrese_puerta) < puerta_libertad:\n",
    "        print(\"El número ingresado es menor que el número de la puerta que da a la libertad.\")\n",
    "    elif float(ingrese_puerta) > puerta_libertad:\n",
    "        print(\"El número ingresado es mayor que el número de la puerta que da a la libertad.\")\n",
    "\n",
    "salida(5)\n",
    "    "
   ]
  },
  {
   "cell_type": "markdown",
   "metadata": {},
   "source": [
    "### Nota que (1) ... \n",
    "1. Las variables definidas dentro de función son variables locales. No existen más que dentro de la función y no pueden ser llamadas fuera de ellas.\n",
    "2. Las funciones nos permiten reusar piezas de código y mantener el principio \"DRY\": Don't repeat yourself.\n",
    "3. Puedes reusar tus funciones, generando tus propias librerías.\n"
   ]
  },
  {
   "cell_type": "markdown",
   "metadata": {
    "collapsed": true
   },
   "source": [
    "# A dar vueltas... for loops y while loops.\n",
    "\n",
    "Muchas veces, cuando diseñamos un programa, queremos que la computadora repita una serie de procesos una y otra vez. Es como si le dijeramos, otra vuelta. Básicamente esto es lo que hacen las loops, repetir una y otra vez una serie de procedimientos.\n",
    "\n",
    "## For loops\n",
    "\n",
    "Las `for loops` se ejecutaran por un número determinado de veces. Una vez que este número se haya acabado, el programa sale del loop."
   ]
  },
  {
   "cell_type": "code",
   "execution_count": 19,
   "metadata": {
    "collapsed": false
   },
   "outputs": [
    {
     "name": "stdout",
     "output_type": "stream",
     "text": [
      "0\n",
      "1\n",
      "2\n",
      "3\n",
      "4\n",
      "5\n",
      "6\n",
      "7\n",
      "8\n",
      "9\n"
     ]
    }
   ],
   "source": [
    "for i in range(10):\n",
    "    print(i)"
   ]
  },
  {
   "cell_type": "code",
   "execution_count": 20,
   "metadata": {
    "collapsed": false
   },
   "outputs": [
    {
     "name": "stdout",
     "output_type": "stream",
     "text": [
      "45\n"
     ]
    }
   ],
   "source": [
    "sumando = 0\n",
    "for i in range(10):\n",
    "    sumando += i\n",
    "print(sumando)"
   ]
  },
  {
   "cell_type": "markdown",
   "metadata": {},
   "source": [
    "¿Qué notas en el código anterior? \n",
    "Pistas:\n",
    "    1. Indentación.\n",
    "    2. i puede tomar cualquier nombre.\n",
    "    3. No es necesario pedir a `Python` que aumente i al final del loop."
   ]
  },
  {
   "cell_type": "code",
   "execution_count": 21,
   "metadata": {
    "collapsed": false
   },
   "outputs": [
    {
     "name": "stdout",
     "output_type": "stream",
     "text": [
      "a\n",
      "b\n",
      "c\n",
      "d\n",
      "e\n",
      "f\n",
      "g\n",
      "h\n",
      "i\n",
      "j\n",
      "k\n",
      "l\n",
      "la l sí está en el abecedario\n",
      "m\n",
      "n\n",
      "o\n",
      "p\n",
      "q\n",
      "r\n",
      "s\n",
      "t\n",
      "u\n",
      "v\n",
      "x\n",
      "y\n",
      "z\n"
     ]
    }
   ],
   "source": [
    "abecedario = 'a b c d e f g h i j k l m n o p q r s t u v x y z'.split()\n",
    "for letra in abecedario:\n",
    "    print(letra)\n",
    "    if letra == 'l':\n",
    "        print('la l sí está en el abecedario')"
   ]
  },
  {
   "cell_type": "code",
   "execution_count": 22,
   "metadata": {
    "collapsed": false
   },
   "outputs": [
    {
     "name": "stdout",
     "output_type": "stream",
     "text": [
      "a\n",
      "b\n",
      "c\n",
      "d\n",
      "e\n",
      "f\n",
      "g\n",
      "h\n",
      "i\n",
      "j\n",
      "k\n",
      "l\n",
      "la l sí está en el abecedario\n",
      "m\n",
      "n\n",
      "o\n",
      "p\n",
      "q\n",
      "r\n",
      "s\n",
      "t\n",
      "u\n",
      "v\n",
      "x\n",
      "y\n",
      "z\n"
     ]
    }
   ],
   "source": [
    "#Otra manera de obtener lo mismo:\n",
    "for indice in range(len(abecedario)):\n",
    "    print(abecedario[indice])\n",
    "    if abecedario[indice] == 'l':\n",
    "        print('la l sí está en el abecedario')"
   ]
  },
  {
   "cell_type": "markdown",
   "metadata": {},
   "source": [
    "Como has visto, existen dos maneras de iterar sobre los elementos de una lista. La primera es utilizando iterando sobre los elementos directamente. La segunda es accediendo a ellos a través de sus índices. Salvo necesidades particulares, se recomienda hacer uso del primer método de iteración. El código generado es más fácil de leer y se presta a menos posibilidades de error."
   ]
  },
  {
   "cell_type": "markdown",
   "metadata": {},
   "source": [
    "## Modificando listas iterando\n",
    "\n",
    "Es muy probable que en tu `for loop` necesites eliminar algunos elementos de tu lista. Hacerlo directamente sobre la lista que se está trabajando puede generar problemas, especialmente si se trabaja con índices. Mira este [post](https://unspecified.wordpress.com/2009/02/12/thou-shalt-not-modify-a-list-during-iteration/) para una mejor explicación. Para estos casos, se recomienda generar listas vacías a las cuales se les añadirá aquellos elementos en los que estés interesado."
   ]
  },
  {
   "cell_type": "code",
   "execution_count": 23,
   "metadata": {
    "collapsed": false
   },
   "outputs": [],
   "source": [
    "#Qué esperas que haga el siguiente código\n",
    "elems = ['a','b','c']\n",
    "for e in elems:\n",
    "    elems.remove(e)"
   ]
  },
  {
   "cell_type": "code",
   "execution_count": 24,
   "metadata": {
    "collapsed": false
   },
   "outputs": [
    {
     "name": "stdout",
     "output_type": "stream",
     "text": [
      "['b']\n"
     ]
    }
   ],
   "source": [
    "print(elems)"
   ]
  },
  {
   "cell_type": "code",
   "execution_count": 25,
   "metadata": {
    "collapsed": false
   },
   "outputs": [
    {
     "name": "stdout",
     "output_type": "stream",
     "text": [
      "[]\n"
     ]
    }
   ],
   "source": [
    "nuevo_elems = elems.copy()\n",
    "for e in elems:\n",
    "    nuevo_elems.remove(e)\n",
    "print(nuevo_elems)"
   ]
  },
  {
   "cell_type": "code",
   "execution_count": 26,
   "metadata": {
    "collapsed": false
   },
   "outputs": [
    {
     "name": "stdout",
     "output_type": "stream",
     "text": [
      "['Paqui', 'Pepe', 'Pepa', 'Pepa']\n",
      "['Paqui', 'Pepe', 'Pepa', 'Pepa']\n",
      "['Paqui', 'Pepe', 'Pepa', 'Pepa']\n"
     ]
    }
   ],
   "source": [
    "#Verificando membresía\n",
    "miembros_club = [\"Auri\", \"Paqui\", \"Riqui\", \"Michi\", \"Mau\", \"Pepe\", \"Pepa\", \n",
    "                 \"Clara\", \"Lara\", \"Pepa\"]\n",
    "\n",
    "comienzan_p = []\n",
    "for miembro in miembros_club:\n",
    "    if miembro.startswith('P'):\n",
    "        comienzan_p.append(miembro)\n",
    "        \n",
    "print(comienzan_p)\n",
    "\n",
    "#Formas más avanzadas de lograr lo mismo\n",
    "\n",
    "# List comprehensions\n",
    "comienzan_pp = [miembro for miembro in miembros_club if miembro.startswith('P')]\n",
    "print(comienzan_pp)\n",
    "\n",
    "comienzan_ppp = list(filter(lambda x: x.startswith('P'), miembros_club))\n",
    "print(comienzan_ppp)"
   ]
  },
  {
   "cell_type": "markdown",
   "metadata": {},
   "source": [
    "##Ejercicios\n",
    "\n",
    "1. Sumando. Supon que quieres obtener una suma de número naturales lo más cercana a 400, no debe sobrepasarlo. Modifica el primer loop para obtener esta suma. Recuerda que debes tratar de llegar lo más cercano posible a 400, sin sobrepasarlo. Adicionalmente, me gustaría que me digas cuántos números naturales consecutivos has sumado.\n",
    "\n",
    "2. _Encuentra las vocales_: Usa la lista `abecedario`. Crea otra lista llamada `vocales`\n",
    " en la cual incluyas todas las vocales del `abecedario`. Recuerda de no modificar las listas sobre las cuales estás iterando.\n",
    " \n",
    "3. Recuerdas que creaste una función `salida` para el juego del Coronel en su Laberinto. Seámos buena gente: démosle tres oportunidades al coronel. Pista: deberás incluir una variable que cuente los turnos tomados (e.g. `turno`). Cada vez que el Coronel se equivoque de puerta, esta variable debe aumentar en uno. Pasadas las tres veces deberás imprimir un mensaje informando al jugador que ha perdido. Opcional: Puedes guardar el número de las puertas erradas que ha ingresado el jugador. De esta manera, no introducirá la misma puera dos veces.\n",
    "\n"
   ]
  },
  {
   "cell_type": "code",
   "execution_count": 27,
   "metadata": {
    "collapsed": false
   },
   "outputs": [
    {
     "name": "stdout",
     "output_type": "stream",
     "text": [
      "La suma es 378 y se han sumado 28 números naturales\n"
     ]
    }
   ],
   "source": [
    "suma_400 = 0\n",
    "for i in range(300):\n",
    "    suma_400 += i\n",
    "    if suma_400 > 400:\n",
    "        suma_400 -= i\n",
    "        break\n",
    "print(\"La suma es {} y se han sumado {} números naturales\".format(suma_400, i))"
   ]
  },
  {
   "cell_type": "code",
   "execution_count": 28,
   "metadata": {
    "collapsed": false
   },
   "outputs": [
    {
     "name": "stdout",
     "output_type": "stream",
     "text": [
      "['a', 'e', 'i', 'o', 'u']\n"
     ]
    }
   ],
   "source": [
    "vocales = []\n",
    "for letra in abecedario:\n",
    "    if letra in ['a', 'e', 'i', 'o', 'u']:\n",
    "        vocales.append(letra)\n",
    "print(vocales)"
   ]
  },
  {
   "cell_type": "code",
   "execution_count": 29,
   "metadata": {
    "collapsed": false
   },
   "outputs": [],
   "source": [
    "import random\n",
    "def salida():\n",
    "    turnos = 0\n",
    "    puertas_elegidas = []\n",
    "    for i in range(3):\n",
    "        puerta_libertad = random.randint(1, 9)\n",
    "        ingrese_puerta = float(input(\"Introduce un número de puerta de 1 - 9 \"))\n",
    "        if float(ingrese_puerta) == puerta_libertad:\n",
    "            print(\"Felicidades. Esta era la puerta. El general es libre ahora\")\n",
    "            break\n",
    "        elif float(ingrese_puerta) < puerta_libertad:\n",
    "            print(\"El número ingresado es menor que el número de la puerta que da a la libertad.\")\n",
    "            turnos += 1\n",
    "            puertas_elegidas.append(int(ingrese_puerta))\n",
    "        elif float(ingrese_puerta) > puerta_libertad:\n",
    "            print(\"El número ingresado es mayor que el número de la puerta que da a la libertad.\")\n",
    "            turnos += 1\n",
    "            puertas_elegidas.append(int(ingrese_puerta))\n",
    "        print(\"Usted ha usado {} turnos. Las puertas que ha elegido hasta el momento son {}\".format(turnos, puertas_elegidas))\n",
    "        if turnos >= 3:\n",
    "            print(\"Usted ha utilizado todos los turnos disponibles. Perdió\")\n",
    "\n"
   ]
  },
  {
   "cell_type": "code",
   "execution_count": 30,
   "metadata": {
    "collapsed": false
   },
   "outputs": [
    {
     "name": "stdout",
     "output_type": "stream",
     "text": [
      "Introduce un número de puerta de 1 - 9 3\n",
      "El número ingresado es menor que el número de la puerta que da a la libertad.\n",
      "Usted ha usado 1 turnos. Las puertas que ha elegido hasta el momento son [3]\n",
      "Introduce un número de puerta de 1 - 9 3\n",
      "El número ingresado es mayor que el número de la puerta que da a la libertad.\n",
      "Usted ha usado 2 turnos. Las puertas que ha elegido hasta el momento son [3, 3]\n",
      "Introduce un número de puerta de 1 - 9 3\n",
      "El número ingresado es menor que el número de la puerta que da a la libertad.\n",
      "Usted ha usado 3 turnos. Las puertas que ha elegido hasta el momento son [3, 3, 3]\n",
      "Usted ha utilizado todos los turnos disponibles. Perdió\n"
     ]
    }
   ],
   "source": [
    "salida()"
   ]
  },
  {
   "cell_type": "markdown",
   "metadata": {},
   "source": [
    "## Loops anidadas\n",
    "\n",
    "Como veremos, una manera en que `Python` guarda información como CSV es usando lista de listas. El siguiente código produce una lista de listas."
   ]
  },
  {
   "cell_type": "code",
   "execution_count": 31,
   "metadata": {
    "collapsed": false
   },
   "outputs": [
    {
     "name": "stdout",
     "output_type": "stream",
     "text": [
      "[[0, 1, 2], [0, 2, 3], [1, 1, 2], [1, 2, 3], [2, 1, 2], [2, 2, 3]]\n"
     ]
    }
   ],
   "source": [
    "lista_anidada = []\n",
    "for x in range(3):\n",
    "    for y in range(2):\n",
    "        lista_anidada.append([x, y+1, y+2])\n",
    "print(lista_anidada)"
   ]
  },
  {
   "cell_type": "code",
   "execution_count": 32,
   "metadata": {
    "collapsed": false
   },
   "outputs": [
    {
     "data": {
      "text/plain": [
       "3"
      ]
     },
     "execution_count": 32,
     "metadata": {},
     "output_type": "execute_result"
    }
   ],
   "source": [
    "#Accede al segundo elemento de esta lista\n",
    "lista_anidada[1][2]"
   ]
  },
  {
   "cell_type": "code",
   "execution_count": 33,
   "metadata": {
    "collapsed": false
   },
   "outputs": [
    {
     "data": {
      "text/plain": [
       "2"
      ]
     },
     "execution_count": 33,
     "metadata": {},
     "output_type": "execute_result"
    }
   ],
   "source": [
    "#Accede al primer elemento del quinto elemento de la lista\n",
    "lista_anidada[4][0]"
   ]
  },
  {
   "cell_type": "markdown",
   "metadata": {},
   "source": [
    "__¿A qué te hacen recordar estas listas anidadas?__ \n",
    "\n",
    "Si pensaste en matrices... ¡estás en lo correcto!"
   ]
  },
  {
   "cell_type": "markdown",
   "metadata": {},
   "source": [
    "## While Loops\n",
    "\n",
    "Recuerdan cuando de pequeños nuestra mamá nos decía que no podíamos comer el postre hasta que no acabemos la comida... pues algo así sucede con las while loops. Hasta que no se cumpla con una determinada condición, el programa seguirá enfrascado en la iteración. Una vez que la condición se cumpla, el resto del programa continuará ejecutándose. Mira el siguiente ejemplo:\n"
   ]
  },
  {
   "cell_type": "code",
   "execution_count": 34,
   "metadata": {
    "collapsed": false
   },
   "outputs": [
    {
     "name": "stdout",
     "output_type": "stream",
     "text": [
      "10\n"
     ]
    }
   ],
   "source": [
    "tiempo = 0\n",
    "while tiempo < 10:\n",
    "    tiempo +=1\n",
    "print(tiempo)"
   ]
  },
  {
   "cell_type": "markdown",
   "metadata": {},
   "source": [
    "Se debe tener cuidado con las condiciones que uno pone a las while loops. Hay casos en que podemos entrar en loops infinitas, dado que la condición inicial es siempre verdadera. El código de abajo presenta uno de estos casos. Cuando sucede y estás corriendo un script en el terminal, deberás presionar la combinación de teclas `Ctrl + C`. En IPython, tendrás que recomenzar la sesión. Para eso debes ir a la pestaña de Kernel en la barra de menú y seleccionar \"restart\". Si lo haces, asegúrate de correr todas las celdas previamente trabajadas. Para eso puedes ir a la pestaña de Cell y elegir Run all."
   ]
  },
  {
   "cell_type": "code",
   "execution_count": 35,
   "metadata": {
    "collapsed": false
   },
   "outputs": [],
   "source": [
    "#tiempo = 1\n",
    "#while tiempo >0:\n",
    "#    tiempo += 1\n",
    "#print(tiempo)"
   ]
  },
  {
   "cell_type": "markdown",
   "metadata": {},
   "source": [
    "Existen otras maneras de evitar loops infinitas. Esto lo puedes hacer con `break`. Cuando usas `break` le estás diciendo a `Python` que frene y salga del loop. Mira lo que pasa en el siguiente ejemplo:"
   ]
  },
  {
   "cell_type": "code",
   "execution_count": 36,
   "metadata": {
    "collapsed": false
   },
   "outputs": [
    {
     "name": "stdout",
     "output_type": "stream",
     "text": [
      "Escibe y si quieres salir del loop y\n"
     ]
    }
   ],
   "source": [
    "while True:\n",
    "    mensaje = input(\"Escibe y si quieres salir del loop \").lower()\n",
    "    if mensaje == \"y\":\n",
    "        break"
   ]
  },
  {
   "cell_type": "markdown",
   "metadata": {},
   "source": [
    "##Ejercicios\n",
    "\n",
    "1. Utiliza un while loop para obtener todos las vocales de la lista abecedario.\n"
   ]
  },
  {
   "cell_type": "code",
   "execution_count": 37,
   "metadata": {
    "collapsed": false
   },
   "outputs": [
    {
     "name": "stdout",
     "output_type": "stream",
     "text": [
      "['a', 'e', 'i', 'o', 'u']\n"
     ]
    }
   ],
   "source": [
    "vocal_while = []\n",
    "i = 0\n",
    "while i < len(abecedario):\n",
    "    if abecedario[i] in ['a', 'e', 'i', 'o', 'u']:\n",
    "        vocal_while.append(abecedario[i])\n",
    "    i += 1\n",
    "print(vocal_while)\n",
    "    "
   ]
  },
  {
   "cell_type": "markdown",
   "metadata": {},
   "source": [
    "##Loops con diccionarios\n",
    "\n",
    "La característica de los diccionarios es que tenemos llaves y también valores. Cómo podemos hacer los loops sobre estos valores:\n",
    "\n",
    "Regresemos al club..."
   ]
  },
  {
   "cell_type": "code",
   "execution_count": 38,
   "metadata": {
    "collapsed": false
   },
   "outputs": [
    {
     "name": "stdout",
     "output_type": "stream",
     "text": [
      "Pepa\n",
      "Riqui\n",
      "Paqui\n",
      "Pepe\n",
      "Michi\n",
      "Auri\n",
      "Clara\n",
      "Lara\n",
      "Mau\n"
     ]
    }
   ],
   "source": [
    "miembros_club_asis = {\"Auri\": 2, \"Paqui\":5, \"Riqui\":3, \"Michi\":2, \"Mau\":0, \"Pepe\":9, \"Pepa\":5, \n",
    "                 \"Clara\":6, \"Lara\":3}\n",
    "\n",
    "for key in miembros_club_asis:\n",
    "    print(key)"
   ]
  },
  {
   "cell_type": "code",
   "execution_count": 39,
   "metadata": {
    "collapsed": false
   },
   "outputs": [
    {
     "name": "stdout",
     "output_type": "stream",
     "text": [
      "5\n",
      "3\n",
      "5\n",
      "9\n",
      "2\n",
      "2\n",
      "6\n",
      "3\n",
      "0\n"
     ]
    }
   ],
   "source": [
    "for value in miembros_club_asis.values():\n",
    "    print(value)"
   ]
  },
  {
   "cell_type": "code",
   "execution_count": 40,
   "metadata": {
    "collapsed": false
   },
   "outputs": [
    {
     "name": "stdout",
     "output_type": "stream",
     "text": [
      "Pepa 5\n",
      "Riqui 3\n",
      "Paqui 5\n",
      "Pepe 9\n",
      "Michi 2\n",
      "Auri 2\n",
      "Clara 6\n",
      "Lara 3\n",
      "Mau 0\n"
     ]
    }
   ],
   "source": [
    "for key, value in miembros_club_asis.items():\n",
    "    print(key, value)"
   ]
  },
  {
   "cell_type": "markdown",
   "metadata": {},
   "source": [
    "##Ejercicio\n",
    "1. Supón que se acaba de pasar lista para determinar el quorum de la asamblea. Todos han asistido. Actualiza el diccionario poniendo una asistencia más a cada uno de los miembros del club.\n",
    "2. Ahora solo modifica los registros de Riqui y Paqui. Ellos han asistido a una asamblea más."
   ]
  },
  {
   "cell_type": "code",
   "execution_count": 41,
   "metadata": {
    "collapsed": false
   },
   "outputs": [
    {
     "name": "stdout",
     "output_type": "stream",
     "text": [
      "{'Pepa': 6, 'Riqui': 4, 'Paqui': 6, 'Pepe': 10, 'Michi': 3, 'Auri': 3, 'Clara': 7, 'Lara': 4, 'Mau': 1}\n"
     ]
    }
   ],
   "source": [
    "for key, value in miembros_club_asis.items():\n",
    "    miembros_club_asis[key] += 1\n",
    "print(miembros_club_asis)"
   ]
  },
  {
   "cell_type": "code",
   "execution_count": 42,
   "metadata": {
    "collapsed": false
   },
   "outputs": [
    {
     "name": "stdout",
     "output_type": "stream",
     "text": [
      "{'Pepa': 6, 'Riqui': 5, 'Paqui': 7, 'Pepe': 10, 'Michi': 3, 'Auri': 3, 'Clara': 7, 'Lara': 4, 'Mau': 1}\n"
     ]
    }
   ],
   "source": [
    "for key, value in miembros_club_asis.items():\n",
    "    if key == 'Riqui' or key == 'Paqui':\n",
    "        miembros_club_asis[key] += 1\n",
    "print(miembros_club_asis)"
   ]
  },
  {
   "cell_type": "markdown",
   "metadata": {},
   "source": [
    "## Manejo de Excepciones\n",
    "\n",
    "Como te habrás dado cuenta, al momento de escribir tus programas te debes haber encontrado con algunos errores o excepciones. Esta es la manera en que `Python` te advierte que algo no está yendo bien. Lo interesante es que `Python` nos permite usar esas excepciones a nuestro favor. \n",
    "\n",
    "Por ejemplo en el caso del ejercicio del Coronel en su laberinto vimos que cada vez que el usuario introducía un valor no entero, obeteníamos un error. Podemos hacer nuestro programa más robusto si en vez de que se pare porque se incurrió en ese error lo manejamos de manera tal que instruyamos a la persona a que elija correctamente.\n",
    "\n",
    "\n",
    "\n"
   ]
  },
  {
   "cell_type": "code",
   "execution_count": 43,
   "metadata": {
    "collapsed": false
   },
   "outputs": [
    {
     "name": "stdout",
     "output_type": "stream",
     "text": [
      "Elige un número 3\n"
     ]
    },
    {
     "ename": "TypeError",
     "evalue": "unsupported operand type(s) for /: 'str' and 'int'",
     "output_type": "error",
     "traceback": [
      "\u001b[0;31m---------------------------------------------------------------------------\u001b[0m",
      "\u001b[0;31mTypeError\u001b[0m                                 Traceback (most recent call last)",
      "\u001b[0;32m<ipython-input-43-b257d4300d28>\u001b[0m in \u001b[0;36m<module>\u001b[0;34m()\u001b[0m\n\u001b[1;32m      1\u001b[0m \u001b[0melige_bien\u001b[0m \u001b[0;34m=\u001b[0m \u001b[0minput\u001b[0m\u001b[0;34m(\u001b[0m\u001b[0;34m'Elige un número '\u001b[0m\u001b[0;34m)\u001b[0m\u001b[0;34m\u001b[0m\u001b[0m\n\u001b[0;32m----> 2\u001b[0;31m \u001b[0mresultado\u001b[0m \u001b[0;34m=\u001b[0m \u001b[0melige_bien\u001b[0m \u001b[0;34m/\u001b[0m \u001b[0;36m2\u001b[0m\u001b[0;34m\u001b[0m\u001b[0m\n\u001b[0m",
      "\u001b[0;31mTypeError\u001b[0m: unsupported operand type(s) for /: 'str' and 'int'"
     ]
    }
   ],
   "source": [
    "elige_bien = input('Elige un número ')\n",
    "resultado = elige_bien / 2"
   ]
  },
  {
   "cell_type": "code",
   "execution_count": 44,
   "metadata": {
    "collapsed": false
   },
   "outputs": [
    {
     "name": "stdout",
     "output_type": "stream",
     "text": [
      "Elige un número 5\n",
      "No has elegido un número\n"
     ]
    }
   ],
   "source": [
    "elige_bien = input('Elige un número ')\n",
    "try:\n",
    "    resultado = elige_bien / 2\n",
    "except TypeError:\n",
    "    print(\"No has elegido un número\")"
   ]
  },
  {
   "cell_type": "markdown",
   "metadata": {},
   "source": [
    "##Ejercicios\n",
    "1. Utiliza un while loop para modificar el juego del Coronel en su Laberinto. Recuerdas que en la primera parte se pide al jugador que introduzca un número entero y si no lo hace se acaba el juego. Modifícalo para que el juego no se ejecute hasta que haya introducido un número entero.\n",
    "2. __Dibujando con Python__. Como verás a continuación, también podemos hacer arte con Python. Quiero que modifiques el código que encuentras abajo y lo pongas en un for loop para que evites tanta repetición."
   ]
  },
  {
   "cell_type": "code",
   "execution_count": 62,
   "metadata": {
    "collapsed": true
   },
   "outputs": [],
   "source": [
    "def salida2():\n",
    "    turnos = 0\n",
    "    puertas_elegidas = []\n",
    "    for i in range(3):\n",
    "        puerta_libertad = random.randint(1, 9)\n",
    "        while True:\n",
    "            try:\n",
    "                mensaje = input(\"Introduce un número de puerta de 1 - 9 \")\n",
    "                ingrese_puerta = int(mensaje)\n",
    "                break\n",
    "            except:\n",
    "                print(\"Por favor elige un entero\")\n",
    "        if ingrese_puerta == puerta_libertad:\n",
    "            print(\"Felicidades. Esta era la puerta. El general es libre ahora\")\n",
    "            break\n",
    "        elif ingrese_puerta < puerta_libertad:\n",
    "            print(\"El número ingresado es menor que el número de la puerta que da a la libertad.\")\n",
    "            turnos += 1\n",
    "            puertas_elegidas.append(int(ingrese_puerta))\n",
    "        elif ingrese_puerta > puerta_libertad:\n",
    "            print(\"El número ingresado es mayor que el número de la puerta que da a la libertad.\")\n",
    "            turnos += 1\n",
    "            puertas_elegidas.append(int(ingrese_puerta))\n",
    "        print(\"Usted ha usado {} turnos. Las puertas que ha elegido hasta el momento son {}\".format(turnos, puertas_elegidas))\n",
    "        if turnos >= 3:\n",
    "            print(\"Usted ha utilizado todos los turnos disponibles. Perdió\")"
   ]
  },
  {
   "cell_type": "code",
   "execution_count": 63,
   "metadata": {
    "collapsed": false
   },
   "outputs": [
    {
     "name": "stdout",
     "output_type": "stream",
     "text": [
      "Introduce un número de puerta de 1 - 9 6\n",
      "El número ingresado es mayor que el número de la puerta que da a la libertad.\n",
      "Usted ha usado 1 turnos. Las puertas que ha elegido hasta el momento son [6]\n",
      "Introduce un número de puerta de 1 - 9 y\n",
      "Por favor elige un entero\n",
      "Introduce un número de puerta de 1 - 9 8\n",
      "Felicidades. Esta era la puerta. El general es libre ahora\n"
     ]
    }
   ],
   "source": [
    "salida2()"
   ]
  },
  {
   "cell_type": "code",
   "execution_count": 68,
   "metadata": {
    "collapsed": false
   },
   "outputs": [],
   "source": [
    "import turtle\n",
    "jose = turtle.Turtle()\n",
    "jose.forward(50)\n",
    "jose.right(90)\n",
    "jose.forward(50)\n",
    "jose.right(90)\n",
    "jose.forward(50)\n",
    "jose.right(90)\n",
    "jose.forward(50)\n",
    "turtle.done()"
   ]
  },
  {
   "cell_type": "code",
   "execution_count": 77,
   "metadata": {
    "collapsed": false
   },
   "outputs": [],
   "source": [
    "jose = turtle.Turtle()\n",
    "for i in range(4):\n",
    "    jose.forward(50)\n",
    "    jose.right(90)\n",
    "turtle.done()"
   ]
  },
  {
   "cell_type": "markdown",
   "metadata": {},
   "source": [
    "3. Utiliza el mismo programa turtle y escribe una función que dibuje cualquier figura geométrica que desee la persona. Para hacerlo más fácil, los polígonos deben ser regulares (lados y ángulos iguales). la función se debe llamar `dibujo_poligono(lados=3)`. Esta función acepta como argumento el número de lados de la figura geométrica. Como default debe dibujar un triángulo. \n",
    "4. __Sé creativo__: Aprovecha tus conocimientos de turtle para crear la figura que desees. Abajo te doy un ejemplo. Tienes total libertad de creación. En la clase siguiente pueden mostrar sus mejores diseños."
   ]
  },
  {
   "cell_type": "code",
   "execution_count": 75,
   "metadata": {
    "collapsed": true
   },
   "outputs": [],
   "source": [
    "def dibujo_poligono(lados = 3):\n",
    "    poligono = turtle.Turtle()\n",
    "    num_lados = lados\n",
    "    tamano_lado = 70\n",
    "    angulo = 360.0 / num_lados \n",
    "\n",
    "    for i in range(num_lados):\n",
    "        poligono.forward(tamano_lado)\n",
    "        poligono.right(angulo)\n",
    "    \n",
    "    turtle.done()"
   ]
  },
  {
   "cell_type": "code",
   "execution_count": 82,
   "metadata": {
    "collapsed": false
   },
   "outputs": [],
   "source": [
    "dibujo_poligono(4)"
   ]
  },
  {
   "cell_type": "code",
   "execution_count": 83,
   "metadata": {
    "collapsed": true
   },
   "outputs": [],
   "source": [
    "import turtle \n",
    "\n",
    "painter = turtle.Turtle()\n",
    "\n",
    "painter.pencolor(\"blue\")\n",
    "\n",
    "for i in range(50):\n",
    "    painter.forward(150)\n",
    "    painter.left(123) # Let's go counterclockwise this time \n",
    "\n",
    "painter.pencolor(\"red\")\n",
    "    \n",
    "for i in range(50):\n",
    "    painter.forward(150)\n",
    "    painter.right(95) # Let's go counterclockwise this time \n",
    "\n",
    "turtle.done()"
   ]
  },
  {
   "cell_type": "markdown",
   "metadata": {
    "collapsed": true
   },
   "source": [
    "1. Revisa el ejercicio practicando con condicionales. Ejecuta tu código e introduce una letra en vez de un número. ¿Te das cuenta de lo que ha pasado? Utiliza un `try` y `except` para evitar que tu programa se quiebre por una mala introducción de datos del usuario. Ve un paso más allá y utiliza una `while loop` de manera que el usuario no salga del programa hasta que haya introducido un número. \n",
    "1. Conteo de votos: Has salido de miembro de mesa. Qué mala suerte la tuya. Afortunadamente, tienes a Python de tu lado. A las elecciones postulan tres grupos: PPKausa, Kikowork, APROpo. Te han dado una lista con el resultado de las votaciones en tu mesa. Como resultado deberás generar un diccionario con el conteo de cada uno de los votos. "
   ]
  },
  {
   "cell_type": "code",
   "execution_count": 84,
   "metadata": {
    "collapsed": false
   },
   "outputs": [
    {
     "name": "stdout",
     "output_type": "stream",
     "text": [
      "{'Kikowork': 450, 'APROpo': 451, 'PPKausa': 250}\n"
     ]
    }
   ],
   "source": [
    "file_resultados = open('resultados_rompe.txt', 'r')\n",
    "resultados = file_resultados.read()\n",
    "resultado_final = list(resultados.split(\", \"))\n",
    "conteo_votos = {'PPKausa': 0, 'Kikowork':0, 'APROpo':0 }\n",
    "for voto in resultado_final:\n",
    "    if voto == 'PPKausa':\n",
    "        conteo_votos['PPKausa'] += 1\n",
    "    elif voto == 'Kikowork':\n",
    "        conteo_votos['Kikowork'] += 1\n",
    "    elif voto == 'APROpo':\n",
    "        conteo_votos['APROpo'] += 1\n",
    "print(conteo_votos)"
   ]
  },
  {
   "cell_type": "code",
   "execution_count": null,
   "metadata": {
    "collapsed": true
   },
   "outputs": [],
   "source": []
  }
 ],
 "metadata": {
  "kernelspec": {
   "display_name": "Python 3",
   "language": "python",
   "name": "python3"
  },
  "language_info": {
   "codemirror_mode": {
    "name": "ipython",
    "version": 3
   },
   "file_extension": ".py",
   "mimetype": "text/x-python",
   "name": "python",
   "nbconvert_exporter": "python",
   "pygments_lexer": "ipython3",
   "version": "3.4.2"
  }
 },
 "nbformat": 4,
 "nbformat_minor": 0
}
