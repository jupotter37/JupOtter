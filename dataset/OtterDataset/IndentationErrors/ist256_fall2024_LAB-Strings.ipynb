{
 "cells": [
  {
   "cell_type": "markdown",
   "metadata": {},
   "source": [
    "# In-Class Coding Lab: Strings\n",
    "\n",
    "The goals of this lab are to help you to understand:\n",
    "\n",
    "- String slicing for substrings\n",
    "- How to use Python's built-in String functions in the standard library.\n",
    "- Tokenizing and Parsing Data\n",
    "- How to create user-defined functions to parse and tokenize strings\n",
    "\n",
    "\n",
    "# Strings\n",
    "\n",
    "## Strings are immutable sequences\n",
    "\n",
    "Python strings are immutable sequences.This means we cannot change them \"in part\" and there is impicit ordering. \n",
    "\n",
    "The characters in a string are zero-based. Meaning the index of the first character is 0.\n",
    "\n",
    "We can leverage this in a variety of ways.\n",
    "\n",
    "For example:"
   ]
  },
  {
   "cell_type": "code",
   "execution_count": null,
   "metadata": {
    "code_cell_type": "run_code"
   },
   "outputs": [],
   "source": [
    "something = input(\"Enter something: \")\n",
    "print (\"You typed:\", something)\n",
    "print (\"We can extract parts of the string:\")\n",
    "print (\"number of characters:\", len(something) )\n",
    "print (\"First character is:\", something[0])\n",
    "print (\"Last character is:\", something[-1])\n",
    "\n",
    "print (\"They are sequences, so we can iterate over them:\")\n",
    "print (\"Printing one character at a time: \")\n",
    "for ch in something:\n",
    "    print(ch) # print a character at a time!"
   ]
  },
  {
   "cell_type": "markdown",
   "metadata": {},
   "source": [
    "## Slices as substrings\n",
    "\n",
    "Python lists and sequences use **slice notation** which is a clever way to get a substring from a given string.\n",
    "\n",
    "Slice notation requires two values: A start index and the end index. The substring returned starts at the start index, and *ends at the position before the end index*. It ends at the position *before* so that when you slice a string into parts you know where you've \"left off\". \n",
    "\n",
    "For example:"
   ]
  },
  {
   "cell_type": "code",
   "execution_count": null,
   "metadata": {
    "code_cell_type": "run_code"
   },
   "outputs": [],
   "source": [
    "state = \"Mississippi\"\n",
    "print (state[0:4])          # Miss\n",
    "print (state[4:len(state)]) # issippi"
   ]
  },
  {
   "cell_type": "markdown",
   "metadata": {},
   "source": [
    "In this next example, play around with the variable `split` adjusting it to how you want the string to be split up. Re run the cell several times with different values to get a feel for what happens."
   ]
  },
  {
   "cell_type": "code",
   "execution_count": null,
   "metadata": {
    "code_cell_type": "run_code"
   },
   "outputs": [],
   "source": [
    "state = \"Mississippi\"\n",
    "split = 4   # TODO: play around with this number\n",
    "left = state[0:split]\n",
    "right = state[split:len(state)]\n",
    "print(left, right)"
   ]
  },
  {
   "cell_type": "markdown",
   "metadata": {},
   "source": [
    "### Slicing from the beginning or to the end\n",
    "\n",
    "If you omit the begin or end slice, Python will slice from the beginnning of the string or all the way to the end. So if you say `x[:5]` its the same as `x[0:5]`\n",
    "\n",
    "For example:"
   ]
  },
  {
   "cell_type": "code",
   "execution_count": null,
   "metadata": {
    "code_cell_type": "run_code"
   },
   "outputs": [],
   "source": [
    "state = \"Ohio\"\n",
    "print(state[0:2], state[:2]) # same!\n",
    "print(state[2:len(state)], state[2:]) # same\n"
   ]
  },
  {
   "cell_type": "markdown",
   "metadata": {},
   "source": [
    "### 1.1 You Code\n",
    "\n",
    "Split the string  `\"New Hampshire\"` into two sub-strings one containing `\"New\"` the other containing `\"Hampshire\"` (without the space)."
   ]
  },
  {
   "cell_type": "code",
   "execution_count": null,
   "metadata": {
    "code_cell_type": "write_code",
    "label": "1.1",
    "solution": [
     "text = \"New Hampshire\"\n",
     "first = text[:3]\n",
     "last = text[4:]\n",
     "print(first)\n",
     "print(last)    \n"
    ]
   },
   "outputs": [],
   "source": [
    "## TODO: Write code here\n"
   ]
  },
  {
   "cell_type": "markdown",
   "metadata": {},
   "source": [
    "## Python's built in String Functions\n",
    "\n",
    "Python includes several handy built-in string functions (also known as *methods* in object-oriented parlance). To get a list of available functions, use the `dir()` function on any string variable, or on the type `str` itself.\n"
   ]
  },
  {
   "cell_type": "code",
   "execution_count": null,
   "metadata": {
    "code_cell_type": "run_code"
   },
   "outputs": [],
   "source": [
    "dir(str)"
   ]
  },
  {
   "cell_type": "markdown",
   "metadata": {},
   "source": [
    "Let's suppose you want to learn how to use the `count` function. There are 2 ways you can do this.\n",
    "\n",
    "1. search the web for `python 3 str count` or\n",
    "1. bring up internal help `help(str.count)` \n",
    "\n",
    "Both have their advantages and disadvanges. I would start with the second one, and only fall back to a web search when you can't figure it out from the Python documenation. \n",
    "\n",
    "Here's the documentation for `count`"
   ]
  },
  {
   "cell_type": "code",
   "execution_count": null,
   "metadata": {
    "code_cell_type": "run_code"
   },
   "outputs": [],
   "source": [
    "help(str.count)"
   ]
  },
  {
   "cell_type": "markdown",
   "metadata": {},
   "source": [
    "You'll notice in the help output it says S.count() this indicates this function is a method function. this means you invoke it like this `variable.count()`.\n",
    "\n",
    "### 1.2 You Code\n",
    "\n",
    "Try to use the count() function method to count the number of `'i'`'s in the string `'Mississippi`:"
   ]
  },
  {
   "cell_type": "code",
   "execution_count": null,
   "metadata": {
    "code_cell_type": "debug_code",
    "label": "1.2",
    "solution": [
     "state = 'Mississippi'\n",
     "count  = state.count('i')\n",
     "print(count)   \n"
    ]
   },
   "outputs": [],
   "source": [
    "#TODO: use state.count\n",
    "state = 'Mississippi'"
   ]
  },
  {
   "cell_type": "markdown",
   "metadata": {},
   "source": [
    "### TANGENT: The Subtle difference between function and method.\n",
    "\n",
    "You'll notice sometimes we call our function alone, other times it's attached to a variable, as was the case in previous example. When we say `state.count('i')` the period (`.`) between the variable and function indicates this function is a *method function*. The key difference between a the two is a method is attached to a variable. To call a method function you must type `variable.function()` whereas when you call a function its just `function()`. The variable associated with the method call is usually part of the function's context.\n",
    "\n",
    "Here's an example:"
   ]
  },
  {
   "cell_type": "code",
   "execution_count": null,
   "metadata": {
    "code_cell_type": "run_code"
   },
   "outputs": [],
   "source": [
    "name = \"Larry\"\n",
    "# a function call len(name) stands on its own. Gets length of 'Larry'\n",
    "print( len(name) )\n",
    "\n",
    "# a method call name.__len__()  does the names thing for its variable 'Larry'\n",
    "print( name.__len__() ) "
   ]
  },
  {
   "cell_type": "markdown",
   "metadata": {},
   "source": [
    "### 1.3 You Code\n",
    "\n",
    "Try to figure out which built in string method to use to accomplish this task.\n",
    "\n",
    "Write some code to find the text `'is'` in some text. The program shoud output the first position of `'is'` in the text. \n",
    "\n",
    "Examples:\n",
    "\n",
    "```\n",
    "When: text = 'Mississippi' then position = 1\n",
    "When: text = \"This is great\" then position = 2\n",
    "When: text = \"Burger\" then position = -1\n",
    "```\n",
    "\n",
    "Again: DO NOT WRITE your own function, use `dir(str)` then the `help()` function to figure out which built-in string method should be used to accomplish this task."
   ]
  },
  {
   "cell_type": "code",
   "execution_count": null,
   "metadata": {
    "code_cell_type": "run_code"
   },
   "outputs": [],
   "source": [
    "# workspace for using dir() and help()"
   ]
  },
  {
   "cell_type": "code",
   "execution_count": null,
   "metadata": {
    "code_cell_type": "debug_code",
    "label": "1.3",
    "solution": [
     "text = input(\"Enter some text: \")\n",
     "pos = text.find(\"is\")\n",
     "print(pos)\n"
    ]
   },
   "outputs": [],
   "source": [
    "# TODO: Write your code here\n",
    "text = input(\"Enter some text: \")\n"
   ]
  },
  {
   "cell_type": "markdown",
   "metadata": {},
   "source": [
    "### 1.4 You Code: \n",
    "\n",
    "**Is that a URL?**\n",
    "\n",
    "Let's write a user-defined function called `isurl()` which when input any `text` sting will return `True` when the `text` is a URL. [https://developer.mozilla.org/en-US/docs/Learn/Common_questions/What_is_a_URL](https://developer.mozilla.org/en-US/docs/Learn/Common_questions/What_is_a_URL). \n",
    "\n",
    "Here is the strategy for the function:\n",
    "\n",
    "    - use build in string method `startswith()`\n",
    "    - when `text` starts with `http://` or `https://` then the `text` is a url.\n",
    "    - return True or False\n",
    "\n",
    "\n",
    "The function stub and tests have been written for you. All you need to do is implement the function body.\n"
   ]
  },
  {
   "cell_type": "code",
   "execution_count": null,
   "metadata": {
    "code_cell_type": "debug_code",
    "label": "1.4",
    "solution": [
     "def isurl(text):\n",
     "    # TODO implement function body here\n",
     "    if  text.startswith(\"http://\"):\n",
     "        result= True\n",
     "    elif text.startswith(\"https://\"):\n",
     "        result= True\n",
     "    else:\n",
     "        result= False\n",
     "    return result\n"
    ],
    "tags": []
   },
   "outputs": [],
   "source": [
    "def isurl(text):\n",
    "    # TODO implement function body here\n",
    "    "
   ]
  },
  {
   "cell_type": "code",
   "execution_count": null,
   "metadata": {
    "code_cell_type": "run_code",
    "tags": []
   },
   "outputs": [],
   "source": [
    "## TESTS: three test cases\n",
    "text = \"http://www.syr.edu\"\n",
    "expect = True\n",
    "actual = isurl(text)\n",
    "print(f\"when text={text} EXPECT={expect} ACTUAL={actual}\")\n",
    "assert expect == actual\n",
    "\n",
    "text = \"https://www.syr.edu\"\n",
    "expect = True\n",
    "actual = isurl(text)\n",
    "print(f\"when text={text} EXPECT={expect} ACTUAL={actual}\")\n",
    "assert expect == actual\n",
    "\n",
    "text = \"www.syr.edu\"\n",
    "expect = False\n",
    "actual = isurl(text)\n",
    "print(f\"when text={text} EXPECT={expect} ACTUAL={actual}\")\n",
    "assert expect == actual"
   ]
  },
  {
   "cell_type": "markdown",
   "metadata": {},
   "source": [
    "# Spliting text strings into Iterable Tokens\n",
    "\n",
    "\n",
    "The `split()` string method allows us to take a string and split it into smaller strings. Each smaller string is now an iterable which means we can `for` loop over the collection.\n",
    "\n",
    "The code sample below splits `text` into `words`. The default behavior of `split()` is to tokenize the string on whitespace.\n",
    "\n",
    "We can then iterate over the tokens (in this case `words`) using a `for` loop."
   ]
  },
  {
   "cell_type": "code",
   "execution_count": null,
   "metadata": {
    "code_cell_type": "run_code"
   },
   "outputs": [],
   "source": [
    "text = \"this is a test\"\n",
    "words = text.split()\n",
    "for word in words:\n",
    "    print(word)"
   ]
  },
  {
   "cell_type": "markdown",
   "metadata": {},
   "source": [
    "This next sample demonstrates you can `split()` on any token, not just whitespace. Here we have `text` with each grade separated by a comma `,` we `split(',')` to create a list of grades which we then check to see which grades are in the \"A\" range (A, A+, A-) by checking to see if the `grade.startswith(\"A\")`"
   ]
  },
  {
   "cell_type": "code",
   "execution_count": null,
   "metadata": {
    "code_cell_type": "run_code"
   },
   "outputs": [],
   "source": [
    "acount=0\n",
    "text = \"A,B,A+,C-,D,A-,B+,C\"\n",
    "grades = text.split(',')\n",
    "for grade in grades:\n",
    "    print(grade)\n",
    "    if grade.startswith(\"A\"):\n",
    "        acount +=1\n",
    "\n",
    "print(\"Grades in A range: \", acount)"
   ]
  },
  {
   "cell_type": "markdown",
   "metadata": {},
   "source": [
    "## Putting it all together: Extracting all URL's from text. \n",
    "\n",
    "Let's combine the `.split()` method with our own `isurl()` function to write a program which will extact all URL's from the input text. You will be given the alogorithm and be expected to write the code.\n",
    "\n",
    "INPUT: text\n",
    "OUTPUT: print each URL in the text:\n",
    "\n",
    "\n",
    "ALGORITHM / STRATEGY:\n",
    "\n",
    "    input the text\n",
    "    split the text into tokens on space (let's call these words)\n",
    "    for each word in the words\n",
    "        if the word is a url\n",
    "            print word\n",
    "            \n",
    "            \n",
    "Example run:\n",
    "\n",
    "    Enter text: Twitter https://twitter.com and Facebook https://facebook.com are social media sites. But the SU website\n",
    "    https://syr.edu is not.\n",
    "    EXTRACTED URLS:\n",
    "    - https://twitter.com\n",
    "    - https://facebook.com \n",
    "    - https://syr.edu \n",
    "    \n",
    "\n",
    "### 1.5 You Code"
   ]
  },
  {
   "cell_type": "code",
   "execution_count": null,
   "metadata": {
    "code_cell_type": "write_code",
    "label": "1.5",
    "solution": [
     "text = input(\"Enter text: \")\n",
     "words = text.split()\n",
     "print(\"EXTRACTED URLS:\")\n",
     "for word in words:\n",
     "    if isurl(word):\n",
     "        print(f\"- {word}\")        \n"
    ],
    "solution_threshold": 0.75,
    "tags": []
   },
   "outputs": [],
   "source": [
    "# TODO Write code here.\n"
   ]
  },
  {
   "cell_type": "markdown",
   "metadata": {},
   "source": [
    "# Metacognition\n"
   ]
  },
  {
   "cell_type": "markdown",
   "metadata": {},
   "source": [
    "\n",
    "### Rate your comfort level with this week's material so far.   \n",
    "\n",
    "**1** ==> I don't understand this at all yet and need extra help. If you choose this please try to articulate that which you do not understand to the best of your ability in the questions and comments section below.  \n",
    "**2** ==> I can do this with help or guidance from other people or resources. If you choose this level, please indicate HOW this person helped you in the questions and comments section below.   \n",
    "**3** ==> I can do this on my own without any help.   \n",
    "**4** ==> I can do this on my own and can explain/teach how to do it to others.\n",
    "\n"
   ]
  },
  {
   "cell_type": "markdown",
   "metadata": {
    "jp-MarkdownHeadingCollapsed": true,
    "label": "comfort_cell",
    "tags": []
   },
   "source": []
  },
  {
   "cell_type": "markdown",
   "metadata": {},
   "source": [
    "###  Questions And Comments \n",
    "\n",
    "Record any questions or comments you have about this lab that you would like to discuss in your recitation. It is expected you will have questions if you  complete this assignment.  Learning how to articulate what you do not understand is an important skill of critical thinking. Write your questions below so that you remember to ask them in your recitation. We expect you will take responsilbity for your learning and ask questions in class.\n",
    "\n",
    "`ENTER YOUR QUESTIONS/COMMENTS IN THE CELL BELOW`  \n"
   ]
  },
  {
   "cell_type": "markdown",
   "metadata": {
    "label": "question_cell",
    "tags": []
   },
   "source": []
  },
  {
   "cell_type": "markdown",
   "metadata": {},
   "source": [
    "## Turn it In\n",
    "\n",
    "FIRST AND FOREMOST: **Save Your work!** Yes, it auto-saves, but you should get in the habit of saving before submitting. From the menu, choose File --> Save Notebook. Or you can use the shortcut keys `CTRL+S`\n",
    "\n",
    "### First: Lab Check\n",
    "\n",
    "Check your lab before submitting. Look for errors and incomplete parts which might cost you a better grade"
   ]
  },
  {
   "cell_type": "code",
   "execution_count": 3,
   "metadata": {
    "tags": []
   },
   "outputs": [
    {
     "name": "stdout",
     "output_type": "stream",
     "text": [
      "❌ Not all code cells were executed.\n",
      "❌ Comfort level is blank.\n",
      "❌ Questions cell is blank. You should have a question or comment.\n",
      "❌ 1.1 you code does not have a code solution.\n",
      "❌ 1.2 you code not at least 0.25 similar to expected solution. Your similarity: 0.0\n",
      "❌ 1.3 you code not at least 0.25 similar to expected solution. Your similarity: 0.0\n",
      "❌ 1.4 you code has syntax error: Sorry: IndentationError: expected an indented block after function definition on line 1 (_tmp_.py, line 1)\n",
      "❌ 1.5 you code does not have a code solution.\n"
     ]
    }
   ],
   "source": [
    "from casstools.notebook_tools import NotebookFile\n",
    "NotebookFile().check_lab()"
   ]
  },
  {
   "cell_type": "markdown",
   "metadata": {},
   "source": [
    "### Second: Lab Submission\n",
    "\n",
    "Run this code and follow the instructions to turn in your lab. "
   ]
  },
  {
   "cell_type": "code",
   "execution_count": null,
   "metadata": {
    "tags": []
   },
   "outputs": [],
   "source": [
    "from casstools.assignment import Assignment\n",
    "Assignment().submit()"
   ]
  },
  {
   "cell_type": "code",
   "execution_count": null,
   "metadata": {},
   "outputs": [],
   "source": []
  }
 ],
 "metadata": {
  "anaconda-cloud": {},
  "kernelspec": {
   "display_name": "Python 3 (ipykernel)",
   "language": "python",
   "name": "python3"
  },
  "language_info": {
   "codemirror_mode": {
    "name": "ipython",
    "version": 3
   },
   "file_extension": ".py",
   "mimetype": "text/x-python",
   "name": "python",
   "nbconvert_exporter": "python",
   "pygments_lexer": "ipython3",
   "version": "3.11.7"
  },
  "toc": {
   "base_numbering": 1,
   "nav_menu": {},
   "number_sections": false,
   "sideBar": false,
   "skip_h1_title": false,
   "title_cell": "Table of Contents",
   "title_sidebar": "Contents",
   "toc_cell": false,
   "toc_position": {},
   "toc_section_display": false,
   "toc_window_display": false
  },
  "varInspector": {
   "cols": {
    "lenName": 16,
    "lenType": 16,
    "lenVar": 40
   },
   "kernels_config": {
    "python": {
     "delete_cmd_postfix": "",
     "delete_cmd_prefix": "del ",
     "library": "var_list.py",
     "varRefreshCmd": "print(var_dic_list())"
    },
    "r": {
     "delete_cmd_postfix": ") ",
     "delete_cmd_prefix": "rm(",
     "library": "var_list.r",
     "varRefreshCmd": "cat(var_dic_list()) "
    }
   },
   "types_to_exclude": [
    "module",
    "function",
    "builtin_function_or_method",
    "instance",
    "_Feature"
   ],
   "window_display": false
  }
 },
 "nbformat": 4,
 "nbformat_minor": 4
}
