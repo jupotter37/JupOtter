{
 "cells": [
  {
   "cell_type": "code",
   "execution_count": 6,
   "id": "0e549715",
   "metadata": {},
   "outputs": [
    {
     "ename": "IndentationError",
     "evalue": "unindent does not match any outer indentation level (<tokenize>, line 14)",
     "output_type": "error",
     "traceback": [
      "\u001b[1;36m  File \u001b[1;32m\"<tokenize>\"\u001b[1;36m, line \u001b[1;32m14\u001b[0m\n\u001b[1;33m    return count\u001b[0m\n\u001b[1;37m    ^\u001b[0m\n\u001b[1;31mIndentationError\u001b[0m\u001b[1;31m:\u001b[0m unindent does not match any outer indentation level\n"
     ]
    }
   ],
   "source": [
    "class Solution:\n",
    "    def palindromeSubStrs(self, Str,j,k):\n",
    "       self.str= str\n",
    "       self.j = j\n",
    "       self.k = k\n",
    "       count =0\n",
    "       while j>=0 and k<len(str):\n",
    "           if str[j] !=str[k]:\n",
    "               break\n",
    "           print(str[j:k+1])\n",
    "           count+=1\n",
    "           j-=1\n",
    "           k+=1\n",
    "        return count\n",
    "    def find_all_palindrome_substrings(str):\n",
    "        count=0\n",
    "        for i in range(0,len(str)):\n",
    "            count+=find_palindromes_in_sub_string(str,i-1,i+1)\n",
    "            count+=find_palindromes_in_sub_string(str,i,i+1)\n",
    "        return count\n",
    "s = \"aabbbaa\"\n",
    "print(\"Total palindrome substrings:\",find_all_palindrome_substrings(s))\n",
    "        #create empty set to store unique palindrome set\n",
    "       "
   ]
  },
  {
   "cell_type": "code",
   "execution_count": 8,
   "id": "4d6b4575",
   "metadata": {},
   "outputs": [
    {
     "ename": "IndentationError",
     "evalue": "unindent does not match any outer indentation level (<tokenize>, line 14)",
     "output_type": "error",
     "traceback": [
      "\u001b[1;36m  File \u001b[1;32m\"<tokenize>\"\u001b[1;36m, line \u001b[1;32m14\u001b[0m\n\u001b[1;33m    return count\u001b[0m\n\u001b[1;37m    ^\u001b[0m\n\u001b[1;31mIndentationError\u001b[0m\u001b[1;31m:\u001b[0m unindent does not match any outer indentation level\n"
     ]
    }
   ],
   "source": [
    "class Solution:\n",
    "    def palindromeSubStrs(self, Str,j,k):\n",
    "       self.str= str\n",
    "       self.j = j\n",
    "       self.k = k\n",
    "       count =0\n",
    "       while j>=0 and k<len(str):\n",
    "           if str[j] !=str[k]:\n",
    "               break\n",
    "           print(str[j:k+1])\n",
    "           count+=1\n",
    "           j-=1\n",
    "           k+=1\n",
    "        return count\n",
    "    def find_all_palindrome_substrings(str):\n",
    "        count=0\n",
    "        for i in range(0,len(str)):\n",
    "            count+=find_palindromes_in_sub_string(str,i-1,i+1)\n",
    "            count+=find_palindromes_in_sub_string(str,i,i+1)\n",
    "        return count\n",
    "s = \"aabbbaa\"\n",
    "print(\"Total palindrome substrings:\",find_all_palindrome_substrings(s))\n",
    "        #create empty set to store unique palindrome set\n",
    "       "
   ]
  },
  {
   "cell_type": "code",
   "execution_count": 9,
   "id": "13e8a91a",
   "metadata": {},
   "outputs": [
    {
     "ename": "SyntaxError",
     "evalue": "'return' outside function (<ipython-input-9-6285b1ac98c3>, line 14)",
     "output_type": "error",
     "traceback": [
      "\u001b[1;36m  File \u001b[1;32m\"<ipython-input-9-6285b1ac98c3>\"\u001b[1;36m, line \u001b[1;32m14\u001b[0m\n\u001b[1;33m    return count\u001b[0m\n\u001b[1;37m    ^\u001b[0m\n\u001b[1;31mSyntaxError\u001b[0m\u001b[1;31m:\u001b[0m 'return' outside function\n"
     ]
    }
   ],
   "source": [
    "class Solution:\n",
    "    def palindromeSubStrs(self, Str,j,k):\n",
    "       self.str= str\n",
    "       self.j = j\n",
    "       self.k = k\n",
    "       count =0\n",
    "       while j>=0 and k<len(str):\n",
    "           if str[j] !=str[k]:\n",
    "               break\n",
    "           print(str[j:k+1])\n",
    "           count+=1\n",
    "           j-=1\n",
    "           k+=1\n",
    "        return count\n",
    "    def find_all_palindrome_substrings(str):\n",
    "        count=0\n",
    "        for i in range(0,len(str)):\n",
    "            count+=find_palindromes_in_sub_string(str,i-1,i+1)\n",
    "            count+=find_palindromes_in_sub_string(str,i,i+1)\n",
    "        return count\n",
    "s = \"aabbbaa\"\n",
    "print(\"Total palindrome substrings:\",find_all_palindrome_substrings(s))\n",
    "        #create empty set to store unique palindrome set\n",
    "       "
   ]
  },
  {
   "cell_type": "code",
   "execution_count": 13,
   "id": "b35c5a76",
   "metadata": {},
   "outputs": [
    {
     "ename": "IndentationError",
     "evalue": "unindent does not match any outer indentation level (<tokenize>, line 21)",
     "output_type": "error",
     "traceback": [
      "\u001b[1;36m  File \u001b[1;32m\"<tokenize>\"\u001b[1;36m, line \u001b[1;32m21\u001b[0m\n\u001b[1;33m    return count\u001b[0m\n\u001b[1;37m    ^\u001b[0m\n\u001b[1;31mIndentationError\u001b[0m\u001b[1;31m:\u001b[0m unindent does not match any outer indentation level\n"
     ]
    }
   ],
   "source": [
    "\n",
    "def palindromeSubStrs( Str,j,k):\n",
    "    count =0\n",
    "    while j>=0 and k<len(str):\n",
    "        if str[j] !=str[k]:\n",
    "            break\n",
    "            print(str[j:k+1])\n",
    "            count+=1\n",
    "            j-=1\n",
    "            k+=1\n",
    "            return count\n",
    "def find_all_palindrome_substrings(str):\n",
    "    count=0\n",
    "    find_palindromes_in_substrings = 1\n",
    "    for i in range(0,len(str)):\n",
    "        count+=find_palindromes_in_substrings(str,i-1,i+1)\n",
    "        count+=find_palindromes_in_substrings(str,i,i+1)\n",
    "        \n",
    "        \n",
    "        return count\n",
    "s = \"aabbbaa\"\n",
    "print(\"Total palindrome substrings:\",find_all_palindrome_substrings(str))\n",
    "        #create empty set to store unique palindrome set\n",
    "       \n",
    "        "
   ]
  },
  {
   "cell_type": "code",
   "execution_count": null,
   "id": "bed0f758",
   "metadata": {},
   "outputs": [],
   "source": []
  },
  {
   "cell_type": "code",
   "execution_count": null,
   "id": "eb96ec0d",
   "metadata": {},
   "outputs": [],
   "source": []
  }
 ],
 "metadata": {
  "kernelspec": {
   "display_name": "Python 3 (ipykernel)",
   "language": "python",
   "name": "python3"
  },
  "language_info": {
   "codemirror_mode": {
    "name": "ipython",
    "version": 3
   },
   "file_extension": ".py",
   "mimetype": "text/x-python",
   "name": "python",
   "nbconvert_exporter": "python",
   "pygments_lexer": "ipython3",
   "version": "3.9.12"
  }
 },
 "nbformat": 4,
 "nbformat_minor": 5
}
