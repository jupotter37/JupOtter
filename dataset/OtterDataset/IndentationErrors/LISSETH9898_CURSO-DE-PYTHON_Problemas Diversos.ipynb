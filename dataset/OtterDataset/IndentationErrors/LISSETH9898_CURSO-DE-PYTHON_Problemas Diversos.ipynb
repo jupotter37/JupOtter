{
 "cells": [
  {
   "cell_type": "markdown",
   "metadata": {},
   "source": [
    "# PROBLEMAS DIVERSOS"
   ]
  },
  {
   "cell_type": "markdown",
   "metadata": {},
   "source": [
    "<h3>1.</h3>\n",
    "Realizar una función que permita la carga de n alumnos. Por cada alumno se deberá preguntar el nombre completo y permitir el ingreso de 3 notas. Las notas deben estar comprendidas entre 0 y 10. Devolver el listado de alumnos."
   ]
  },
  {
   "cell_type": "code",
   "execution_count": 3,
   "metadata": {},
   "outputs": [
    {
     "name": "stdout",
     "output_type": "stream",
     "text": [
      "Ingresar su nombre compelto:lisseth camila\n"
     ]
    }
   ],
   "source": [
    "N=input(\"Ingresar su nombre compelto:\")\n",
    "NOTA1=float(input(\"Ingresar primera nota:\"))\n",
    "NOTA2=float(input(\"Ingresar segunda nota:\"))\n",
    "NOTA3=float(input(\"Ingresar tercera nota:\")) "
   ]
  },
  {
   "cell_type": "code",
   "execution_count": 2,
   "metadata": {},
   "outputs": [
    {
     "name": "stdout",
     "output_type": "stream",
     "text": [
      "Cuantos alumnos desea ingresas? 3\n"
     ]
    },
    {
     "data": {
      "text/plain": [
       "3"
      ]
     },
     "execution_count": 2,
     "metadata": {},
     "output_type": "execute_result"
    }
   ],
   "source": [
    "cantidad = int(input('Cuantos alumnos desea ingresas? '))\n",
    "cantidad"
   ]
  },
  {
   "cell_type": "code",
   "execution_count": 6,
   "metadata": {},
   "outputs": [
    {
     "name": "stdout",
     "output_type": "stream",
     "text": [
      "Ingrese el nombre del alumno 1: lisseth\n",
      "Ingrese la nota 1 del alumno: 10\n",
      "Ingrese la nota 2 del alumno: 08\n",
      "Ingrese la nota 3 del alumno: 06\n",
      "Ingrese el nombre del alumno 2: camila\n",
      "Ingrese la nota 1 del alumno: 15\n",
      "Ingrese la nota 2 del alumno: 12\n",
      "Ingrese la nota 3 del alumno: 10\n",
      "Ingrese el nombre del alumno 3: pedro\n",
      "Ingrese la nota 1 del alumno: 10\n",
      "Ingrese la nota 2 del alumno: 12\n",
      "Ingrese la nota 3 del alumno: 11\n"
     ]
    }
   ],
   "source": [
    "lista_alumnos = []\n",
    "for i in range(3):\n",
    "    alumno = {}\n",
    "    \n",
    "    # ingreso nombre\n",
    "    nombre = input(f'Ingrese el nombre del alumno {i+1}: ')\n",
    "    alumno['nombre']= nombre\n",
    "    \n",
    "    #ingreso de notas\n",
    "    alumno['notas'] = []\n",
    "    \n",
    "    for n in range(3):\n",
    "        nota = float(input(f'Ingrese la nota {n+1} del alumno: '))\n",
    "        alumno['notas'].append(nota)\n",
    "    \n",
    "    #agrupando datos en lista\n",
    "    lista_alumnos.append(alumno)"
   ]
  },
  {
   "cell_type": "code",
   "execution_count": 7,
   "metadata": {},
   "outputs": [
    {
     "data": {
      "text/plain": [
       "[{'nombre': 'lisseth', 'notas': [10.0, 8.0, 6.0]},\n",
       " {'nombre': 'camila', 'notas': [15.0, 12.0, 10.0]},\n",
       " {'nombre': 'pedro', 'notas': [10.0, 12.0, 11.0]}]"
      ]
     },
     "execution_count": 7,
     "metadata": {},
     "output_type": "execute_result"
    }
   ],
   "source": [
    "lista_alumnos"
   ]
  },
  {
   "cell_type": "code",
   "execution_count": 8,
   "metadata": {},
   "outputs": [
    {
     "data": {
      "text/plain": [
       "{'nombre': 'pedro', 'notas': [10.0, 12.0, 11.0]}"
      ]
     },
     "execution_count": 8,
     "metadata": {},
     "output_type": "execute_result"
    }
   ],
   "source": [
    "alumno"
   ]
  },
  {
   "cell_type": "code",
   "execution_count": 9,
   "metadata": {},
   "outputs": [
    {
     "name": "stdout",
     "output_type": "stream",
     "text": [
      "lisseth 8.0\n",
      "camila 12.333333333333334\n",
      "pedro 11.0\n"
     ]
    }
   ],
   "source": [
    "\n",
    "for persona in lista_alumnos:\n",
    "    print(persona['nombre'], sum(persona['notas'])/3)"
   ]
  },
  {
   "cell_type": "markdown",
   "metadata": {},
   "source": [
    "### 2.\n",
    "Definir una función que dado un listado de alumnos evalúe cuántos aprobaron y cuántos desaprobaron, teniendo en cuenta que se aprueba con 4. La nota será el promedio de las 3 notas para cada alumno."
   ]
  },
  {
   "cell_type": "code",
   "execution_count": 18,
   "metadata": {},
   "outputs": [
    {
     "ename": "IndentationError",
     "evalue": "unexpected indent (<ipython-input-18-916b99f66785>, line 7)",
     "output_type": "error",
     "traceback": [
      "\u001b[1;36m  File \u001b[1;32m\"<ipython-input-18-916b99f66785>\"\u001b[1;36m, line \u001b[1;32m7\u001b[0m\n\u001b[1;33m    except ValueError:\u001b[0m\n\u001b[1;37m    ^\u001b[0m\n\u001b[1;31mIndentationError\u001b[0m\u001b[1;31m:\u001b[0m unexpected indent\n"
     ]
    }
   ],
   "source": [
    "numeroCalificaciones=0\n",
    "while True:\n",
    "\n",
    "    float\n",
    "    numeroCalificaciones=int(raw_input(\"Dame el numero de calificaciones: \"))\n",
    "break\n",
    "    except ValueError:\n",
    "    print \"Error\"\n",
    "\n",
    "suma=0\n",
    "Calificaciones=[]\n",
    "for i in range(0,numeroCalificaciones):\n",
    "while True:\n",
    "try:\n",
    "Calificacion= int(raw_input(\"dame la calificacion\"+str(i)+\":\"))\n",
    "break\n",
    "except ValueError:\n",
    "print \"Error:\"\n",
    "Calificaciones.append(Calificacion)\n",
    "suma=suma + calificacion\n",
    "\n",
    "\n",
    "promedio= suma/numeroCalificaciones\n",
    "for i in range(0,numeroCalificaciones):\n",
    "if Calificaciones[i]>=15:\n",
    "print(srt(Calificaciones[i]) +\" Calificacion Aprobatoria\")\n",
    "else:\n",
    "print(srt(Calificaciones[i]) +\" Calificacion NO Aprobatoria\")\n",
    "print promedio\n"
   ]
  },
  {
   "cell_type": "code",
   "execution_count": 16,
   "metadata": {},
   "outputs": [
    {
     "name": "stdout",
     "output_type": "stream",
     "text": [
      "Dime tu promedio: 10\n",
      "No aprobado\n"
     ]
    }
   ],
   "source": [
    "# Al escanear se devuelve como cadena\n",
    "promedio_como_cadena = input(\"Dime tu promedio: \")\n",
    "# Convertir a float\n",
    "promedio = float(promedio_como_cadena)\n",
    "\n",
    "# Hacer la comparación\n",
    "if promedio >= 11:\n",
    "    print(\"Aprobado\")\n",
    "else:\n",
    "    print(\"No aprobado\")"
   ]
  },
  {
   "cell_type": "markdown",
   "metadata": {},
   "source": [
    "### 3.\n",
    "Informar el promedio de nota del curso total."
   ]
  },
  {
   "cell_type": "code",
   "execution_count": null,
   "metadata": {},
   "outputs": [],
   "source": [
    "\n"
   ]
  },
  {
   "cell_type": "code",
   "execution_count": null,
   "metadata": {},
   "outputs": [],
   "source": []
  },
  {
   "cell_type": "markdown",
   "metadata": {},
   "source": [
    "### 4.\n",
    "Realizar una función que indique quién tuvo el promedio más alto y quién tuvo la nota promedio más baja."
   ]
  },
  {
   "cell_type": "code",
   "execution_count": 14,
   "metadata": {},
   "outputs": [],
   "source": [
    "def fun(nota):\n",
    "    if nota > 7:\n",
    "        return \"Promociona\"\n",
    "    else:\n",
    "        if nota < 4:\n",
    "            return \"Aplazado\"\n",
    "        else:\n",
    "            if 4 <= nota <= 7:\n",
    "                return \"Aprobado\""
   ]
  },
  {
   "cell_type": "code",
   "execution_count": 16,
   "metadata": {},
   "outputs": [
    {
     "name": "stdout",
     "output_type": "stream",
     "text": [
      "Ingrese nota (0 para terminar):12\n",
      "Ingrese nota (0 para terminar):12\n",
      "Ingrese nota (0 para terminar):0\n",
      "\n",
      "Numero de aprobados 0\n",
      "Numero de aplazados 0\n",
      "Numero de notables 0\n"
     ]
    }
   ],
   "source": [
    "aplazados = aprobados = notables = 0\n",
    " \n",
    "while True:\n",
    "nota = float(input('Ingrese nota (0 para terminar):'))\n",
    "\tif nota == 0:\n",
    "\t\tbreak\n",
    " \n",
    "\tif nota > 10:\n",
    "\t\tcontinue\n",
    "\telse:\n",
    "\t\tif nota < 4:\n",
    "\t\t\taplazados += 1\n",
    "\t\telif nota >= 4 and nota <=7:\n",
    "\t\t\taprobados += 1\n",
    "\t\telif nota > 7 and nota <= 10:\n",
    "\t\t\tnotables += 1\n",
    " \n",
    "print ('\\nNumero de aprobados %d' %aprobados)\n",
    "print('Numero de aplazados %d' %aplazados)\n",
    "print('Numero de notables %d' %notables)"
   ]
  },
  {
   "cell_type": "code",
   "execution_count": null,
   "metadata": {},
   "outputs": [],
   "source": []
  },
  {
   "cell_type": "markdown",
   "metadata": {},
   "source": [
    "### 5.\n",
    "Realizar una función que permita buscar un alumno por nombre, siendo el nombre completo o parcial, y devuelva una lista con los n alumnos que concuerden con ese nombre junto con todos sus datos, incluido el promedio de sus notas."
   ]
  },
  {
   "cell_type": "code",
   "execution_count": 10,
   "metadata": {},
   "outputs": [
    {
     "name": "stdout",
     "output_type": "stream",
     "text": [
      "Ingrese cantidad de alumnos: 2\n",
      "Ingrese el nombre del alumno 1: camila\n",
      "Ingrese Nota 1: 12\n",
      "Ingrese Nota 2: 13\n",
      "Ingrese Nota 3: 14\n",
      "Ingrese el nombre del alumno 2: pedro\n",
      "Ingrese Nota 1: 12\n",
      "Ingrese Nota 2: 13\n",
      "Ingrese Nota 3: 14\n",
      "Alumnos \t Notas\n",
      "camila \t \t 12.0 13.0 14.0\n",
      "pedro \t \t 12.0 13.0 14.0\n"
     ]
    }
   ],
   "source": [
    "def alumno(n):\n",
    "    notas=[]\n",
    "    nombre=[]\n",
    "    for i in range(n):\n",
    "        name= input(f'Ingrese el nombre del alumno {i+1}: ')\n",
    "        nombre.append(name)\n",
    "        nota_1 = float(input('Ingrese Nota 1: '))\n",
    "        nota_2 = float(input('Ingrese Nota 2: '))\n",
    "        nota_3 = float(input('Ingrese Nota 3: '))\n",
    "        notas.append([nota_1,nota_2,nota_3])\n",
    "    print(\"Alumnos \\t Notas\")\n",
    "    for i in range(n):\n",
    "        print(nombre[i],\"\\t \\t\",notas[i][0],notas[i][1],notas[i][2])\n",
    "n=int(input(\"Ingrese cantidad de alumnos: \"))\n",
    "alumno(n)"
   ]
  },
  {
   "cell_type": "code",
   "execution_count": null,
   "metadata": {},
   "outputs": [],
   "source": []
  }
 ],
 "metadata": {
  "kernelspec": {
   "display_name": "Python 3",
   "language": "python",
   "name": "python3"
  },
  "language_info": {
   "codemirror_mode": {
    "name": "ipython",
    "version": 3
   },
   "file_extension": ".py",
   "mimetype": "text/x-python",
   "name": "python",
   "nbconvert_exporter": "python",
   "pygments_lexer": "ipython3",
   "version": "3.8.5"
  }
 },
 "nbformat": 4,
 "nbformat_minor": 4
}
