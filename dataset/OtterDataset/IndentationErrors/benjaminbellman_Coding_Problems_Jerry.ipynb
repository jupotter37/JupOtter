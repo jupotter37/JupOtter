{
 "cells": [
  {
   "cell_type": "code",
   "execution_count": 1,
   "id": "24498489",
   "metadata": {},
   "outputs": [
    {
     "name": "stdout",
     "output_type": "stream",
     "text": [
      "Collecting PyPDF2\n",
      "  Downloading pypdf2-3.0.1-py3-none-any.whl (232 kB)\n",
      "     -------------------------------------- 232.6/232.6 KB 3.6 MB/s eta 0:00:00\n",
      "Collecting pdfplumber\n",
      "  Downloading pdfplumber-0.11.0-py3-none-any.whl (56 kB)\n",
      "     ---------------------------------------- 56.4/56.4 KB ? eta 0:00:00\n",
      "Requirement already satisfied: pandas in c:\\users\\benja\\appdata\\local\\packages\\pythonsoftwarefoundation.python.3.9_qbz5n2kfra8p0\\localcache\\local-packages\\python39\\site-packages (1.3.4)\n",
      "Requirement already satisfied: openpyxl in c:\\users\\benja\\appdata\\local\\packages\\pythonsoftwarefoundation.python.3.9_qbz5n2kfra8p0\\localcache\\local-packages\\python39\\site-packages (3.0.9)\n",
      "Requirement already satisfied: typing_extensions>=3.10.0.0 in c:\\users\\benja\\appdata\\local\\packages\\pythonsoftwarefoundation.python.3.9_qbz5n2kfra8p0\\localcache\\local-packages\\python39\\site-packages (from PyPDF2) (4.1.1)\n",
      "Collecting pdfminer.six==20231228\n",
      "  Downloading pdfminer.six-20231228-py3-none-any.whl (5.6 MB)\n",
      "     ---------------------------------------- 5.6/5.6 MB 18.9 MB/s eta 0:00:00\n",
      "Collecting pypdfium2>=4.18.0\n",
      "  Downloading pypdfium2-4.30.0-py3-none-win_amd64.whl (2.9 MB)"
     ]
    },
    {
     "name": "stderr",
     "output_type": "stream",
     "text": [
      "WARNING: Ignoring invalid distribution -yrsistent (c:\\users\\benja\\appdata\\local\\packages\\pythonsoftwarefoundation.python.3.9_qbz5n2kfra8p0\\localcache\\local-packages\\python39\\site-packages)"
     ]
    },
    {
     "name": "stdout",
     "output_type": "stream",
     "text": [
      "\n",
      "     ---------------------------------------- 2.9/2.9 MB 23.1 MB/s eta 0:00:00\n",
      "Collecting Pillow>=9.1\n",
      "  Downloading pillow-10.3.0-cp39-cp39-win_amd64.whl (2.5 MB)\n",
      "     ---------------------------------------- 2.5/2.5 MB 18.0 MB/s eta 0:00:00\n",
      "Requirement already satisfied: cryptography>=36.0.0 in c:\\users\\benja\\appdata\\local\\packages\\pythonsoftwarefoundation.python.3.9_qbz5n2kfra8p0\\localcache\\local-packages\\python39\\site-packages (from pdfminer.six==20231228->pdfplumber) (36.0.2)\n",
      "Requirement already satisfied: charset-normalizer>=2.0.0 in c:\\users\\benja\\appdata\\local\\packages\\pythonsoftwarefoundation.python.3.9_qbz5n2kfra8p0\\localcache\\local-packages\\python39\\site-packages (from pdfminer.six==20231228->pdfplumber) (3.1.0)\n",
      "Requirement already satisfied: numpy>=1.17.3 in c:\\users\\benja\\appdata\\local\\packages\\pythonsoftwarefoundation.python.3.9_qbz5n2kfra8p0\\localcache\\local-packages\\python39\\site-packages (from pandas) (1.21.3)\n",
      "Requirement already satisfied: python-dateutil>=2.7.3 in c:\\users\\benja\\appdata\\local\\packages\\pythonsoftwarefoundation.python.3.9_qbz5n2kfra8p0\\localcache\\local-packages\\python39\\site-packages (from pandas) (2.8.2)\n",
      "Requirement already satisfied: pytz>=2017.3 in c:\\users\\benja\\appdata\\local\\packages\\pythonsoftwarefoundation.python.3.9_qbz5n2kfra8p0\\localcache\\local-packages\\python39\\site-packages (from pandas) (2021.3)\n",
      "Requirement already satisfied: et-xmlfile in c:\\users\\benja\\appdata\\local\\packages\\pythonsoftwarefoundation.python.3.9_qbz5n2kfra8p0\\localcache\\local-packages\\python39\\site-packages (from openpyxl) (1.1.0)\n",
      "Requirement already satisfied: six>=1.5 in c:\\users\\benja\\appdata\\local\\packages\\pythonsoftwarefoundation.python.3.9_qbz5n2kfra8p0\\localcache\\local-packages\\python39\\site-packages (from python-dateutil>=2.7.3->pandas) (1.16.0)\n",
      "Requirement already satisfied: cffi>=1.12 in c:\\users\\benja\\appdata\\local\\packages\\pythonsoftwarefoundation.python.3.9_qbz5n2kfra8p0\\localcache\\local-packages\\python39\\site-packages (from cryptography>=36.0.0->pdfminer.six==20231228->pdfplumber) (1.15.0)\n",
      "Requirement already satisfied: pycparser in c:\\users\\benja\\appdata\\local\\packages\\pythonsoftwarefoundation.python.3.9_qbz5n2kfra8p0\\localcache\\local-packages\\python39\\site-packages (from cffi>=1.12->cryptography>=36.0.0->pdfminer.six==20231228->pdfplumber) (2.21)\n",
      "Installing collected packages: pypdfium2, PyPDF2, Pillow, pdfminer.six, pdfplumber\n",
      "  Attempting uninstall: Pillow\n",
      "    Found existing installation: Pillow 8.3.2\n",
      "    Uninstalling Pillow-8.3.2:\n",
      "      Successfully uninstalled Pillow-8.3.2\n",
      "Successfully installed Pillow-10.3.0 PyPDF2-3.0.1 pdfminer.six-20231228 pdfplumber-0.11.0 pypdfium2-4.30.0\n"
     ]
    },
    {
     "name": "stderr",
     "output_type": "stream",
     "text": [
      "\n",
      "WARNING: Ignoring invalid distribution -otebook (c:\\users\\benja\\appdata\\local\\packages\\pythonsoftwarefoundation.python.3.9_qbz5n2kfra8p0\\localcache\\local-packages\\python39\\site-packages)\n",
      "WARNING: Ignoring invalid distribution -ip (c:\\users\\benja\\appdata\\local\\packages\\pythonsoftwarefoundation.python.3.9_qbz5n2kfra8p0\\localcache\\local-packages\\python39\\site-packages)\n",
      "WARNING: Ignoring invalid distribution -yrsistent (c:\\users\\benja\\appdata\\local\\packages\\pythonsoftwarefoundation.python.3.9_qbz5n2kfra8p0\\localcache\\local-packages\\python39\\site-packages)\n",
      "WARNING: Ignoring invalid distribution -otebook (c:\\users\\benja\\appdata\\local\\packages\\pythonsoftwarefoundation.python.3.9_qbz5n2kfra8p0\\localcache\\local-packages\\python39\\site-packages)\n",
      "WARNING: Ignoring invalid distribution -ip (c:\\users\\benja\\appdata\\local\\packages\\pythonsoftwarefoundation.python.3.9_qbz5n2kfra8p0\\localcache\\local-packages\\python39\\site-packages)\n",
      "WARNING: Ignoring invalid distribution -yrsistent (c:\\users\\benja\\appdata\\local\\packages\\pythonsoftwarefoundation.python.3.9_qbz5n2kfra8p0\\localcache\\local-packages\\python39\\site-packages)\n",
      "WARNING: Ignoring invalid distribution -otebook (c:\\users\\benja\\appdata\\local\\packages\\pythonsoftwarefoundation.python.3.9_qbz5n2kfra8p0\\localcache\\local-packages\\python39\\site-packages)\n",
      "WARNING: Ignoring invalid distribution -ip (c:\\users\\benja\\appdata\\local\\packages\\pythonsoftwarefoundation.python.3.9_qbz5n2kfra8p0\\localcache\\local-packages\\python39\\site-packages)\n",
      "    WARNING: Ignoring invalid distribution -yrsistent (c:\\users\\benja\\appdata\\local\\packages\\pythonsoftwarefoundation.python.3.9_qbz5n2kfra8p0\\localcache\\local-packages\\python39\\site-packages)\n",
      "    WARNING: Ignoring invalid distribution -otebook (c:\\users\\benja\\appdata\\local\\packages\\pythonsoftwarefoundation.python.3.9_qbz5n2kfra8p0\\localcache\\local-packages\\python39\\site-packages)\n",
      "    WARNING: Ignoring invalid distribution -ip (c:\\users\\benja\\appdata\\local\\packages\\pythonsoftwarefoundation.python.3.9_qbz5n2kfra8p0\\localcache\\local-packages\\python39\\site-packages)\n",
      "WARNING: Ignoring invalid distribution -yrsistent (c:\\users\\benja\\appdata\\local\\packages\\pythonsoftwarefoundation.python.3.9_qbz5n2kfra8p0\\localcache\\local-packages\\python39\\site-packages)\n",
      "WARNING: Ignoring invalid distribution -otebook (c:\\users\\benja\\appdata\\local\\packages\\pythonsoftwarefoundation.python.3.9_qbz5n2kfra8p0\\localcache\\local-packages\\python39\\site-packages)\n",
      "WARNING: Ignoring invalid distribution -ip (c:\\users\\benja\\appdata\\local\\packages\\pythonsoftwarefoundation.python.3.9_qbz5n2kfra8p0\\localcache\\local-packages\\python39\\site-packages)\n",
      "WARNING: Ignoring invalid distribution -yrsistent (c:\\users\\benja\\appdata\\local\\packages\\pythonsoftwarefoundation.python.3.9_qbz5n2kfra8p0\\localcache\\local-packages\\python39\\site-packages)\n",
      "WARNING: Ignoring invalid distribution -otebook (c:\\users\\benja\\appdata\\local\\packages\\pythonsoftwarefoundation.python.3.9_qbz5n2kfra8p0\\localcache\\local-packages\\python39\\site-packages)\n",
      "WARNING: Ignoring invalid distribution -ip (c:\\users\\benja\\appdata\\local\\packages\\pythonsoftwarefoundation.python.3.9_qbz5n2kfra8p0\\localcache\\local-packages\\python39\\site-packages)\n",
      "WARNING: Ignoring invalid distribution -yrsistent (c:\\users\\benja\\appdata\\local\\packages\\pythonsoftwarefoundation.python.3.9_qbz5n2kfra8p0\\localcache\\local-packages\\python39\\site-packages)\n",
      "WARNING: Ignoring invalid distribution -otebook (c:\\users\\benja\\appdata\\local\\packages\\pythonsoftwarefoundation.python.3.9_qbz5n2kfra8p0\\localcache\\local-packages\\python39\\site-packages)\n",
      "WARNING: Ignoring invalid distribution -ip (c:\\users\\benja\\appdata\\local\\packages\\pythonsoftwarefoundation.python.3.9_qbz5n2kfra8p0\\localcache\\local-packages\\python39\\site-packages)\n",
      "WARNING: Ignoring invalid distribution -yrsistent (c:\\users\\benja\\appdata\\local\\packages\\pythonsoftwarefoundation.python.3.9_qbz5n2kfra8p0\\localcache\\local-packages\\python39\\site-packages)\n",
      "WARNING: Ignoring invalid distribution -otebook (c:\\users\\benja\\appdata\\local\\packages\\pythonsoftwarefoundation.python.3.9_qbz5n2kfra8p0\\localcache\\local-packages\\python39\\site-packages)\n",
      "WARNING: Ignoring invalid distribution -ip (c:\\users\\benja\\appdata\\local\\packages\\pythonsoftwarefoundation.python.3.9_qbz5n2kfra8p0\\localcache\\local-packages\\python39\\site-packages)\n",
      "WARNING: Ignoring invalid distribution -yrsistent (c:\\users\\benja\\appdata\\local\\packages\\pythonsoftwarefoundation.python.3.9_qbz5n2kfra8p0\\localcache\\local-packages\\python39\\site-packages)\n",
      "WARNING: Ignoring invalid distribution -otebook (c:\\users\\benja\\appdata\\local\\packages\\pythonsoftwarefoundation.python.3.9_qbz5n2kfra8p0\\localcache\\local-packages\\python39\\site-packages)\n",
      "WARNING: Ignoring invalid distribution -ip (c:\\users\\benja\\appdata\\local\\packages\\pythonsoftwarefoundation.python.3.9_qbz5n2kfra8p0\\localcache\\local-packages\\python39\\site-packages)\n",
      "ERROR: pip's dependency resolver does not currently take into account all the packages that are installed. This behaviour is the source of the following dependency conflicts.\n",
      "streamlit 1.8.1 requires click<8.1,>=7.0, but you have click 8.1.3 which is incompatible.\n",
      "arviz 0.11.4 requires typing-extensions<4,>=3.7.4.3, but you have typing-extensions 4.1.1 which is incompatible.\n",
      "WARNING: Ignoring invalid distribution -yrsistent (c:\\users\\benja\\appdata\\local\\packages\\pythonsoftwarefoundation.python.3.9_qbz5n2kfra8p0\\localcache\\local-packages\\python39\\site-packages)\n",
      "WARNING: Ignoring invalid distribution -otebook (c:\\users\\benja\\appdata\\local\\packages\\pythonsoftwarefoundation.python.3.9_qbz5n2kfra8p0\\localcache\\local-packages\\python39\\site-packages)\n",
      "WARNING: Ignoring invalid distribution -ip (c:\\users\\benja\\appdata\\local\\packages\\pythonsoftwarefoundation.python.3.9_qbz5n2kfra8p0\\localcache\\local-packages\\python39\\site-packages)\n",
      "WARNING: Ignoring invalid distribution -yrsistent (c:\\users\\benja\\appdata\\local\\packages\\pythonsoftwarefoundation.python.3.9_qbz5n2kfra8p0\\localcache\\local-packages\\python39\\site-packages)\n",
      "WARNING: Ignoring invalid distribution -otebook (c:\\users\\benja\\appdata\\local\\packages\\pythonsoftwarefoundation.python.3.9_qbz5n2kfra8p0\\localcache\\local-packages\\python39\\site-packages)\n",
      "WARNING: Ignoring invalid distribution -ip (c:\\users\\benja\\appdata\\local\\packages\\pythonsoftwarefoundation.python.3.9_qbz5n2kfra8p0\\localcache\\local-packages\\python39\\site-packages)\n",
      "WARNING: Ignoring invalid distribution -yrsistent (c:\\users\\benja\\appdata\\local\\packages\\pythonsoftwarefoundation.python.3.9_qbz5n2kfra8p0\\localcache\\local-packages\\python39\\site-packages)\n",
      "WARNING: Ignoring invalid distribution -otebook (c:\\users\\benja\\appdata\\local\\packages\\pythonsoftwarefoundation.python.3.9_qbz5n2kfra8p0\\localcache\\local-packages\\python39\\site-packages)\n",
      "WARNING: Ignoring invalid distribution -ip (c:\\users\\benja\\appdata\\local\\packages\\pythonsoftwarefoundation.python.3.9_qbz5n2kfra8p0\\localcache\\local-packages\\python39\\site-packages)\n",
      "WARNING: You are using pip version 22.0.4; however, version 24.0 is available.\n",
      "You should consider upgrading via the 'C:\\Users\\benja\\AppData\\Local\\Microsoft\\WindowsApps\\PythonSoftwareFoundation.Python.3.9_qbz5n2kfra8p0\\python.exe -m pip install --upgrade pip' command.\n"
     ]
    }
   ],
   "source": [
    "!pip install PyPDF2 pdfplumber pandas openpyxl"
   ]
  },
  {
   "cell_type": "code",
   "execution_count": 2,
   "id": "43269358",
   "metadata": {},
   "outputs": [],
   "source": [
    "import PyPDF2\n",
    "import pdfplumber\n",
    "import pandas as pd"
   ]
  },
  {
   "cell_type": "code",
   "execution_count": 14,
   "id": "85ff01b2",
   "metadata": {},
   "outputs": [],
   "source": [
    "pdf_file = r'C:\\Users\\benja\\OneDrive\\Desktop\\statement.pdf'\n",
    "\n",
    "# Open the PDF file\n",
    "with pdfplumber.open(pdf_file) as pdf:\n",
    "    # Initialize an empty list to store extracted text\n",
    "    extracted_text = []\n",
    "\n",
    "    # Loop through each page in the PDF\n",
    "    for page in pdf.pages:\n",
    "        # Extract text from the current page\n",
    "        text = page.extract_text()\n",
    "        # Append the extracted text to the list\n",
    "        extracted_text.append(text)"
   ]
  },
  {
   "cell_type": "code",
   "execution_count": 15,
   "id": "01d09428",
   "metadata": {},
   "outputs": [
    {
     "ename": "IndentationError",
     "evalue": "expected an indented block (<ipython-input-15-61dc0990defa>, line 16)",
     "output_type": "error",
     "traceback": [
      "\u001b[1;36m  Input \u001b[1;32mIn [15]\u001b[1;36m\u001b[0m\n\u001b[1;33m    df = pd.DataFrame(data)\u001b[0m\n\u001b[1;37m    ^\u001b[0m\n\u001b[1;31mIndentationError\u001b[0m\u001b[1;31m:\u001b[0m expected an indented block\n"
     ]
    }
   ],
   "source": [
    "# Combine the extracted text into a single string\n",
    "combined_text = '\\n'.join(extracted_text)\n",
    "\n",
    "# Split the text into lines\n",
    "lines = combined_text.split('\\n')\n",
    "\n",
    "# Process the lines as needed to extract relevant information\n",
    "# For example, you can create a DataFrame with the extracted data\n",
    "data = {'Date': [], 'Description': [], 'Amount': []}\n",
    "\n",
    "for line in lines:\n",
    "    # Process each line to extract date, description, and amount\n",
    "    # Add extracted data to the data dictionary\n",
    "\n",
    "# Convert the data dictionary to a DataFrame\n",
    "df = pd.DataFrame(data)\n",
    "\n",
    "# Save the DataFrame to an Excel file\n",
    "excel_file = 'output_file.xlsx'\n",
    "df.to_excel(excel_file, index=False, engine='openpyxl')"
   ]
  },
  {
   "cell_type": "code",
   "execution_count": 16,
   "id": "d923b334",
   "metadata": {},
   "outputs": [],
   "source": [
    "import pdfplumber\n",
    "import pandas as pd\n",
    "\n",
    "pdf_file = r'C:\\Users\\benja\\OneDrive\\Desktop\\statement.pdf'\n",
    "\n",
    "with pdfplumber.open(pdf_file) as pdf:\n",
    "    extracted_text = []\n",
    "    for page in pdf.pages:\n",
    "        text = page.extract_text()\n",
    "        extracted_text.append(text)\n",
    "\n",
    "combined_text = '\\n'.join(extracted_text)\n",
    "lines = combined_text.split('\\n')\n",
    "\n",
    "data = {'Date': [], 'Description': [], 'Amount': []}\n",
    "for line in lines:\n",
    "    parts = line.split()  # Adjust this to match your data's format\n",
    "    if len(parts) >= 3:  # Check to ensure there are enough parts to avoid errors\n",
    "        data['Date'].append(parts[0])\n",
    "        data['Description'].append(parts[1])\n",
    "        data['Amount'].append(parts[2])\n",
    "\n",
    "df = pd.DataFrame(data)\n",
    "excel_file = 'output_file.xlsx'\n",
    "df.to_excel(excel_file, index=False, engine='openpyxl')"
   ]
  },
  {
   "cell_type": "code",
   "execution_count": 18,
   "id": "d25ad56e",
   "metadata": {},
   "outputs": [
    {
     "name": "stdout",
     "output_type": "stream",
     "text": [
      "       Date Description   Amount\n",
      "0    Direct   inquiries      to:\n",
      "1      2727       Paces    Ferry\n",
      "2      Page           1       of\n",
      "3   Atlanta          GA    30339\n",
      "4  STARTING       DATE:  January\n",
      "Data saved to C:\\Users\\benja\\OneDrive\\Desktop\\output_file.xlsx\n"
     ]
    }
   ],
   "source": [
    "import pdfplumber\n",
    "import pandas as pd\n",
    "\n",
    "pdf_file = r'C:\\Users\\benja\\OneDrive\\Desktop\\statement.pdf'\n",
    "excel_file = r'C:\\Users\\benja\\OneDrive\\Desktop\\output_file.xlsx'\n",
    "\n",
    "with pdfplumber.open(pdf_file) as pdf:\n",
    "    extracted_text = []\n",
    "    for page in pdf.pages:\n",
    "        text = page.extract_text()\n",
    "        if text:  # Ensure there's text being extracted\n",
    "            extracted_text.append(text)\n",
    "\n",
    "combined_text = '\\n'.join(extracted_text)\n",
    "lines = combined_text.split('\\n')\n",
    "\n",
    "data = {'Date': [], 'Description': [], 'Amount': []}\n",
    "for line in lines:\n",
    "    parts = line.split()  # Adjust this to match your data's format\n",
    "    if len(parts) >= 3:  # Ensure there are enough parts\n",
    "        data['Date'].append(parts[0])\n",
    "        data['Description'].append(parts[1])\n",
    "        data['Amount'].append(parts[2])\n",
    "\n",
    "df = pd.DataFrame(data)\n",
    "\n",
    "# Display the DataFrame to check the extracted data\n",
    "print(df.head())\n",
    "\n",
    "# Save the DataFrame to an Excel file if it's not empty\n",
    "if not df.empty:\n",
    "    df.to_excel(excel_file, index=False, engine='openpyxl')\n",
    "    print(f\"Data saved to {excel_file}\")\n",
    "else:\n",
    "    print(\"No data extracted.\")"
   ]
  },
  {
   "cell_type": "code",
   "execution_count": 19,
   "id": "c8d35304",
   "metadata": {},
   "outputs": [
    {
     "name": "stdout",
     "output_type": "stream",
     "text": [
      "Empty DataFrame\n",
      "Columns: [Date, Description, Amount]\n",
      "Index: []\n",
      "No data extracted.\n"
     ]
    }
   ],
   "source": [
    "import pdfplumber\n",
    "import pandas as pd\n",
    "import re\n",
    "\n",
    "pdf_file = r'C:\\Users\\benja\\OneDrive\\Desktop\\statement.pdf'\n",
    "excel_file = r'C:\\Users\\benja\\OneDrive\\Desktop\\clean_output_file.xlsx'\n",
    "\n",
    "# Define a regex pattern to extract transactions\n",
    "# This needs to be adjusted based on the actual format and spacing in your PDF\n",
    "transaction_pattern = re.compile(r'^(\\d{2}-\\d{2})\\s+(.*?)(\\$\\d+,\\d+\\.\\d{2}|\\$\\d+\\.\\d{2})$')\n",
    "\n",
    "data = {'Date': [], 'Description': [], 'Amount': []}\n",
    "\n",
    "# Extract text and process each page\n",
    "with pdfplumber.open(pdf_file) as pdf:\n",
    "    for page in pdf.pages:\n",
    "        text = page.extract_text()\n",
    "        if text:\n",
    "            for line in text.split('\\n'):\n",
    "                match = transaction_pattern.match(line)\n",
    "                if match:\n",
    "                    data['Date'].append(match.group(1))\n",
    "                    data['Description'].append(match.group(2).strip())\n",
    "                    data['Amount'].append(match.group(3).strip())\n",
    "\n",
    "df = pd.DataFrame(data)\n",
    "\n",
    "# Display the DataFrame to check the extracted data\n",
    "print(df.head())\n",
    "\n",
    "# Save the DataFrame to an Excel file if it's not empty\n",
    "if not df.empty:\n",
    "    df.to_excel(excel_file, index=False, engine='openpyxl')\n",
    "    print(f\"Data saved to {excel_file}\")\n",
    "else:\n",
    "    print(\"No data extracted.\")"
   ]
  },
  {
   "cell_type": "code",
   "execution_count": null,
   "id": "a10ab56c",
   "metadata": {},
   "outputs": [],
   "source": []
  }
 ],
 "metadata": {
  "kernelspec": {
   "display_name": "Python 3",
   "language": "python",
   "name": "python3"
  },
  "language_info": {
   "codemirror_mode": {
    "name": "ipython",
    "version": 3
   },
   "file_extension": ".py",
   "mimetype": "text/x-python",
   "name": "python",
   "nbconvert_exporter": "python",
   "pygments_lexer": "ipython3",
   "version": "3.9.13"
  }
 },
 "nbformat": 4,
 "nbformat_minor": 5
}
