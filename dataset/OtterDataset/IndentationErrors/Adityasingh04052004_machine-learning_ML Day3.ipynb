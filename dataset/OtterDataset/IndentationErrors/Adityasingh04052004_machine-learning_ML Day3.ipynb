{
 "cells": [
  {
   "cell_type": "code",
   "execution_count": 4,
   "id": "04e0f08e",
   "metadata": {},
   "outputs": [
    {
     "name": "stdout",
     "output_type": "stream",
     "text": [
      "Asingh\n"
     ]
    }
   ],
   "source": [
    "x=\"Aditya\"\n",
    "y=\"singh\"\n",
    "z=x[0]+y[0:5:1]\n",
    "print(z)"
   ]
  },
  {
   "cell_type": "code",
   "execution_count": 15,
   "id": "f4e82817",
   "metadata": {},
   "outputs": [
    {
     "name": "stdout",
     "output_type": "stream",
     "text": [
      "ENTER YOUR NAMEAditya singh\n",
      "my name is-Aditya singh\n"
     ]
    }
   ],
   "source": [
    "a=input(\"ENTER YOUR NAME\")\n",
    "print(\"my name is-\"+a)"
   ]
  },
  {
   "cell_type": "code",
   "execution_count": 19,
   "id": "4a6e7bb5",
   "metadata": {},
   "outputs": [
    {
     "name": "stdout",
     "output_type": "stream",
     "text": [
      "ENTER YOUR AGE19\n",
      "Aditya singh is 19 year old\n"
     ]
    }
   ],
   "source": [
    "b=int(input(\"ENTER YOUR AGE\"))\n",
    "print(a+\" is \"+str(b)+\" year old\")"
   ]
  },
  {
   "cell_type": "code",
   "execution_count": 16,
   "id": "f5e115bb",
   "metadata": {},
   "outputs": [
    {
     "name": "stdout",
     "output_type": "stream",
     "text": [
      "Aditya singh is 55year old\n"
     ]
    }
   ],
   "source": [
    "print(f\"{a} is {b}year old\") #FORMATING"
   ]
  },
  {
   "cell_type": "code",
   "execution_count": 13,
   "id": "e9a27e98",
   "metadata": {},
   "outputs": [],
   "source": [
    "#.formating command\n"
   ]
  },
  {
   "cell_type": "code",
   "execution_count": 20,
   "id": "95f67991",
   "metadata": {},
   "outputs": [
    {
     "name": "stdout",
     "output_type": "stream",
     "text": [
      "A. singh is 19 year old\n"
     ]
    }
   ],
   "source": [
    "first,last=a.split()\n",
    "print(f\"{first[0]+'. '+last} is {b} year old\")"
   ]
  },
  {
   "cell_type": "code",
   "execution_count": 25,
   "id": "d9bbfa14",
   "metadata": {},
   "outputs": [
    {
     "name": "stdout",
     "output_type": "stream",
     "text": [
      "ENTER YOUR NAME   Aditya singh\n"
     ]
    }
   ],
   "source": [
    "name=input(\"ENTER YOUR NAME\")"
   ]
  },
  {
   "cell_type": "code",
   "execution_count": 29,
   "id": "334308d6",
   "metadata": {},
   "outputs": [
    {
     "name": "stdout",
     "output_type": "stream",
     "text": [
      "   Aditya Singh\n",
      "Aditya singh\n",
      "   aditya singh\n",
      "   ADITYA SINGH\n"
     ]
    }
   ],
   "source": [
    "print(name.title())\n",
    "print(name.strip())\n",
    "print(name.lower())\n",
    "print(name.upper())"
   ]
  },
  {
   "cell_type": "code",
   "execution_count": 30,
   "id": "2a64d90c",
   "metadata": {},
   "outputs": [
    {
     "name": "stdout",
     "output_type": "stream",
     "text": [
      "15\n",
      "<class 'str'>\n"
     ]
    }
   ],
   "source": [
    "print(len(name))\n",
    "print(type(name))"
   ]
  },
  {
   "cell_type": "code",
   "execution_count": 33,
   "id": "e3bf6837",
   "metadata": {},
   "outputs": [
    {
     "name": "stdout",
     "output_type": "stream",
     "text": [
      "ENTER NUMBER a:55\n",
      "ENTER NUMBER b:16\n",
      "A is larger\n"
     ]
    }
   ],
   "source": [
    "a=int(input(\"ENTER NUMBER a:\")) #INDENTATION\n",
    "b=int(input(\"ENTER NUMBER b:\"))\n",
    "if a>b:\n",
    "    print(\"A is larger\")\n",
    "else:\n",
    "    print(\"B IS larger\")\n"
   ]
  },
  {
   "cell_type": "code",
   "execution_count": 40,
   "id": "22a6828f",
   "metadata": {},
   "outputs": [
    {
     "name": "stdout",
     "output_type": "stream",
     "text": [
      "ENTER A NUMBER=4\n",
      "even\n"
     ]
    }
   ],
   "source": [
    "num=int(input(\"ENTER A NUMBER=\"))\n",
    "x2=0\n",
    "if num%2==0:\n",
    "    print(\"even\")\n",
    "else:\n",
    "    print(\"odd\")\n"
   ]
  },
  {
   "cell_type": "code",
   "execution_count": 43,
   "id": "33282226",
   "metadata": {},
   "outputs": [
    {
     "ename": "IndentationError",
     "evalue": "expected an indented block after 'for' statement on line 3 (1027187250.py, line 4)",
     "output_type": "error",
     "traceback": [
      "\u001b[1;36m  Cell \u001b[1;32mIn[43], line 4\u001b[1;36m\u001b[0m\n\u001b[1;33m    if a%i==0:\u001b[0m\n\u001b[1;37m    ^\u001b[0m\n\u001b[1;31mIndentationError\u001b[0m\u001b[1;31m:\u001b[0m expected an indented block after 'for' statement on line 3\n"
     ]
    }
   ],
   "source": [
    "a=int(input(\"ENTER A NUMER\"))\n",
    "c=0\n",
    "for i in range(2,(a//2)+1):\n",
    "    if a%i==0:\n",
    "    c+=1\n",
    "    break\n",
    "if c>=1:\n",
    "    print(\"NOT PRIME\")\n",
    "else:\n",
    "    print(\"prime\")\n",
    "\n",
    "    \n",
    "    "
   ]
  },
  {
   "cell_type": "code",
   "execution_count": null,
   "id": "fb357ace",
   "metadata": {},
   "outputs": [],
   "source": []
  }
 ],
 "metadata": {
  "kernelspec": {
   "display_name": "Python 3 (ipykernel)",
   "language": "python",
   "name": "python3"
  },
  "language_info": {
   "codemirror_mode": {
    "name": "ipython",
    "version": 3
   },
   "file_extension": ".py",
   "mimetype": "text/x-python",
   "name": "python",
   "nbconvert_exporter": "python",
   "pygments_lexer": "ipython3",
   "version": "3.11.5"
  }
 },
 "nbformat": 4,
 "nbformat_minor": 5
}
