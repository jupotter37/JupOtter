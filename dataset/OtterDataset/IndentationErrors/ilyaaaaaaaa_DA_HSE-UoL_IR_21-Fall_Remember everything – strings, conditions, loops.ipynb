{
 "cells": [
  {
   "cell_type": "markdown",
   "metadata": {},
   "source": [
    "# Class 2\n",
    "\n",
    "Hello everyone and welcome to our second class! Based on our previous meeting we've decided to extend the number of classes related to basic programming skills, so today we continue our journey with Python :)\n",
    "\n",
    "Our goals for today are:\n",
    "1. Go over string methods;\n",
    "2. Quickly remind you about conditions (if...else);\n",
    "3. Understand how for and while loops work;\n",
    "4. Practice a little bit :)\n",
    "\n",
    "In order to get points for activity you should:\n",
    "1. Fill in this form: https://forms.gle/y8gDMtTW11xz7o2f7\n",
    "2. Participate in Yandex.Contest: https://contest.yandex.ru/contest/29618/enter/\n",
    "\n",
    "<img src=\"data:image/jpeg;base64,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\" width=400>"
   ]
  },
  {
   "cell_type": "markdown",
   "metadata": {
    "toc": true
   },
   "source": [
    "<h1>Table of Contents<span class=\"tocSkip\"></span></h1>\n",
    "<div class=\"toc\"><ul class=\"toc-item\"><li><span><a href=\"#Class-2\" data-toc-modified-id=\"Class-2-1\"><span class=\"toc-item-num\">1&nbsp;&nbsp;</span>Class 2</a></span></li><li><span><a href=\"#Strings\" data-toc-modified-id=\"Strings-2\"><span class=\"toc-item-num\">2&nbsp;&nbsp;</span>Strings</a></span><ul class=\"toc-item\"><li><span><a href=\"#Indexing-and-slices\" data-toc-modified-id=\"Indexing-and-slices-2.1\"><span class=\"toc-item-num\">2.1&nbsp;&nbsp;</span>Indexing and slices</a></span></li><li><span><a href=\"#String-methods\" data-toc-modified-id=\"String-methods-2.2\"><span class=\"toc-item-num\">2.2&nbsp;&nbsp;</span>String methods</a></span></li><li><span><a href=\"#String-formatting\" data-toc-modified-id=\"String-formatting-2.3\"><span class=\"toc-item-num\">2.3&nbsp;&nbsp;</span>String formatting</a></span></li><li><span><a href=\"#Problem-1\" data-toc-modified-id=\"Problem-1-2.4\"><span class=\"toc-item-num\">2.4&nbsp;&nbsp;</span>Problem 1</a></span></li></ul></li><li><span><a href=\"#Conditions-and-if-statements\" data-toc-modified-id=\"Conditions-and-if-statements-3\"><span class=\"toc-item-num\">3&nbsp;&nbsp;</span>Conditions and if statements</a></span><ul class=\"toc-item\"><li><span><a href=\"#Problem-2\" data-toc-modified-id=\"Problem-2-3.1\"><span class=\"toc-item-num\">3.1&nbsp;&nbsp;</span>Problem 2</a></span></li></ul></li><li><span><a href=\"#While-loops\" data-toc-modified-id=\"While-loops-4\"><span class=\"toc-item-num\">4&nbsp;&nbsp;</span>While loops</a></span><ul class=\"toc-item\"><li><span><a href=\"#Break-and-continue-operators\" data-toc-modified-id=\"Break-and-continue-operators-4.1\"><span class=\"toc-item-num\">4.1&nbsp;&nbsp;</span>Break and continue operators</a></span></li><li><span><a href=\"#Problem-3\" data-toc-modified-id=\"Problem-3-4.2\"><span class=\"toc-item-num\">4.2&nbsp;&nbsp;</span>Problem 3</a></span></li><li><span><a href=\"#Problem-4\" data-toc-modified-id=\"Problem-4-4.3\"><span class=\"toc-item-num\">4.3&nbsp;&nbsp;</span>Problem 4</a></span></li><li><span><a href=\"#Problem-5\" data-toc-modified-id=\"Problem-5-4.4\"><span class=\"toc-item-num\">4.4&nbsp;&nbsp;</span>Problem 5</a></span></li></ul></li><li><span><a href=\"#For-loops\" data-toc-modified-id=\"For-loops-5\"><span class=\"toc-item-num\">5&nbsp;&nbsp;</span>For loops</a></span></li></ul></div>"
   ]
  },
  {
   "cell_type": "markdown",
   "metadata": {},
   "source": [
    "# Strings"
   ]
  },
  {
   "cell_type": "markdown",
   "metadata": {},
   "source": [
    "## Indexing and slices"
   ]
  },
  {
   "cell_type": "markdown",
   "metadata": {},
   "source": [
    "Let's create a string – we can use either single or double quotes, it does not matter."
   ]
  },
  {
   "cell_type": "code",
   "execution_count": 10,
   "metadata": {},
   "outputs": [
    {
     "name": "stdout",
     "output_type": "stream",
     "text": [
      "Welcome to America!\n",
      "Welcome to America!\n"
     ]
    }
   ],
   "source": [
    "s = 'Welcome to America!' # single quotes\n",
    "print(s)\n",
    "\n",
    "s = \"Welcome to America!\" # double quotes\n",
    "print(s)"
   ]
  },
  {
   "cell_type": "markdown",
   "metadata": {},
   "source": [
    "If you want to include quotes inside of the text you should use either single quotes outside and double inside or vice versa."
   ]
  },
  {
   "cell_type": "code",
   "execution_count": 11,
   "metadata": {},
   "outputs": [
    {
     "name": "stdout",
     "output_type": "stream",
     "text": [
      "Welcome to \"America!\"\n"
     ]
    }
   ],
   "source": [
    "s = 'Welcome to \"America!\"' # single quotes outside and double quotes inside\n",
    "print(s)"
   ]
  },
  {
   "cell_type": "markdown",
   "metadata": {},
   "source": [
    "You can use an escape character `\\` as well:"
   ]
  },
  {
   "cell_type": "code",
   "execution_count": null,
   "metadata": {},
   "outputs": [],
   "source": [
    "s = 'Welcome to \\'America!\\'' # same single qoutes inside and ouside + \\\n",
    "print(s)"
   ]
  },
  {
   "cell_type": "markdown",
   "metadata": {},
   "source": [
    "To get the number of characters use `len()` function."
   ]
  },
  {
   "cell_type": "code",
   "execution_count": 3,
   "metadata": {},
   "outputs": [],
   "source": [
    "f = 'gfhdsjk.   '"
   ]
  },
  {
   "cell_type": "code",
   "execution_count": 4,
   "metadata": {},
   "outputs": [
    {
     "data": {
      "text/plain": [
       "11"
      ]
     },
     "execution_count": 4,
     "metadata": {},
     "output_type": "execute_result"
    }
   ],
   "source": [
    "len(f)"
   ]
  },
  {
   "cell_type": "markdown",
   "metadata": {},
   "source": [
    "String is a sequence, so we can use indexing to get the symbols we need. To do so, use square brackets with a number (index) inside. Indexing starts from 0."
   ]
  },
  {
   "cell_type": "code",
   "execution_count": 5,
   "metadata": {},
   "outputs": [
    {
     "name": "stdout",
     "output_type": "stream",
     "text": [
      "W\n",
      "e\n",
      "l\n",
      "\"\n",
      "!\n",
      "Welcome to \"America!\"\n"
     ]
    }
   ],
   "source": [
    "print(s[0]) # first element\n",
    "print(s[1]) # second element\n",
    "print(s[2]) # third element\n",
    "print(s[-1]) # last element\n",
    "print(s[-2]) # second to last element\n",
    "\n",
    "# previous code did not change the string\n",
    "print(s)"
   ]
  },
  {
   "cell_type": "markdown",
   "metadata": {},
   "source": [
    "Besides obtaining a single symbol, we can alse create slices. To do this, we need to specify borders separated by colons. The syntax may look different:\n",
    "\n",
    "* `s[start:]` – a slice from index `start` til the end of the string\n",
    "* `s[:finish]` – a slice from the first symbol of the string til the index `finish - 1`\n",
    "* `s[start:finish]` – a slice from index `start` til the index `finish - 1`\n",
    "* `s[::step]` – start with index 0, then index `step`, then `2 * step` and so on til the end of the string\n",
    "* `s[:finish:step]` – start with index 0, then index `step`, then `2 * step` and so on til the index `finish - 1`\n",
    "* `s[start::step]` – start with index `start`, then index `step`, then `2 * step` and so on til the end of the string\n",
    "* `s[start:finish:step]`– start with index `start`, then index `step`, then `2 * step` and so on til the index `finish - 1`\n",
    "* `s[:]` – creates a copy of a string\n",
    "\n",
    "**`start, finish, step` must be integers!**"
   ]
  },
  {
   "cell_type": "code",
   "execution_count": 12,
   "metadata": {},
   "outputs": [
    {
     "data": {
      "text/plain": [
       "'Welcome to \"America!\"'"
      ]
     },
     "execution_count": 12,
     "metadata": {},
     "output_type": "execute_result"
    }
   ],
   "source": [
    "s"
   ]
  },
  {
   "cell_type": "code",
   "execution_count": 13,
   "metadata": {},
   "outputs": [
    {
     "name": "stdout",
     "output_type": "stream",
     "text": [
      "elcome to \"America!\"\n",
      "Welc\n",
      "Welcome to \"America!\"\n",
      "Welcome to \"America!\n",
      "Wloet Aeia\"\n",
      "\"!aciremA\" ot emocleW\n"
     ]
    }
   ],
   "source": [
    "print(s[1:])\n",
    "print(s[:4]) \n",
    "print(s[:]) \n",
    "print(s[:-1])\n",
    "print(s[::2]) \n",
    "print(s[::-1]) "
   ]
  },
  {
   "cell_type": "markdown",
   "metadata": {},
   "source": [
    "String are immutable:"
   ]
  },
  {
   "cell_type": "code",
   "execution_count": 15,
   "metadata": {},
   "outputs": [
    {
     "data": {
      "text/plain": [
       "'b'"
      ]
     },
     "execution_count": 15,
     "metadata": {},
     "output_type": "execute_result"
    }
   ],
   "source": [
    "s1 = 'abcd'\n",
    "s1[1]"
   ]
  },
  {
   "cell_type": "code",
   "execution_count": 16,
   "metadata": {},
   "outputs": [
    {
     "ename": "TypeError",
     "evalue": "'str' object does not support item assignment",
     "output_type": "error",
     "traceback": [
      "\u001b[0;31m---------------------------------------------------------------------------\u001b[0m",
      "\u001b[0;31mTypeError\u001b[0m                                 Traceback (most recent call last)",
      "\u001b[0;32m<ipython-input-16-21dd5e951dca>\u001b[0m in \u001b[0;36m<module>\u001b[0;34m\u001b[0m\n\u001b[0;32m----> 1\u001b[0;31m \u001b[0ms1\u001b[0m\u001b[0;34m[\u001b[0m\u001b[0;36m1\u001b[0m\u001b[0;34m]\u001b[0m \u001b[0;34m=\u001b[0m \u001b[0;34m'f'\u001b[0m\u001b[0;34m\u001b[0m\u001b[0m\n\u001b[0m",
      "\u001b[0;31mTypeError\u001b[0m: 'str' object does not support item assignment"
     ]
    }
   ],
   "source": [
    "s1[1] = 'f'"
   ]
  },
  {
   "cell_type": "markdown",
   "metadata": {},
   "source": [
    "But can be concatenated or multiplied:"
   ]
  },
  {
   "cell_type": "code",
   "execution_count": 17,
   "metadata": {},
   "outputs": [
    {
     "data": {
      "text/plain": [
       "'ab'"
      ]
     },
     "execution_count": 17,
     "metadata": {},
     "output_type": "execute_result"
    }
   ],
   "source": [
    "'a' + 'b'"
   ]
  },
  {
   "cell_type": "code",
   "execution_count": 18,
   "metadata": {},
   "outputs": [
    {
     "data": {
      "text/plain": [
       "'aaaaaaaaaa'"
      ]
     },
     "execution_count": 18,
     "metadata": {},
     "output_type": "execute_result"
    }
   ],
   "source": [
    "'a' * 10"
   ]
  },
  {
   "cell_type": "markdown",
   "metadata": {},
   "source": [
    "## String methods\n",
    "\n",
    "We can check whether a substring is present in string using `in`:"
   ]
  },
  {
   "cell_type": "code",
   "execution_count": 19,
   "metadata": {},
   "outputs": [
    {
     "name": "stdout",
     "output_type": "stream",
     "text": [
      "True\n"
     ]
    }
   ],
   "source": [
    "lyrics = '''The unlocked variant of the Galaxy Z Flip was quickly sold in stores as well \n",
    "            as on Samsung’s website in the US after the launch. The company had also claimed\n",
    "            that it was overwhelmed with the response it received from consumers for its second \n",
    "            foldable phone. Now, the South Korean smartphone giant says that the Galaxy Z Flip \n",
    "            will be back in stock in the US tomorrow.'''\n",
    "\n",
    "print('smartphone' in lyrics)"
   ]
  },
  {
   "cell_type": "markdown",
   "metadata": {},
   "source": [
    "While working with strings we will use a variety of different methods. Unlike functions, methods are called after variable name and a dot (example: `s.lower()`). Methods are functions that can be applied to a specific data type. `print()` can work with anything, therefore it's a function, while `.lower()` can only be applied to strings – it's a method which won't work with other data types."
   ]
  },
  {
   "cell_type": "code",
   "execution_count": 20,
   "metadata": {},
   "outputs": [
    {
     "name": "stdout",
     "output_type": "stream",
     "text": [
      "THE UNLOCKED VARIANT OF THE GALAXY Z FLIP WAS QUICKLY SOLD IN STORES AS WELL \n",
      "            AS ON SAMSUNG’S WEBSITE IN THE US AFTER THE LAUNCH. THE COMPANY HAD ALSO CLAIMED\n",
      "            THAT IT WAS OVERWHELMED WITH THE RESPONSE IT RECEIVED FROM CONSUMERS FOR ITS SECOND \n",
      "            FOLDABLE PHONE. NOW, THE SOUTH KOREAN SMARTPHONE GIANT SAYS THAT THE GALAXY Z FLIP \n",
      "            WILL BE BACK IN STOCK IN THE US TOMORROW.\n",
      "the unlocked variant of the galaxy z flip was quickly sold in stores as well \n",
      "            as on samsung’s website in the us after the launch. the company had also claimed\n",
      "            that it was overwhelmed with the response it received from consumers for its second \n",
      "            foldable phone. now, the south korean smartphone giant says that the galaxy z flip \n",
      "            will be back in stock in the us tomorrow.\n"
     ]
    }
   ],
   "source": [
    "news = '''The unlocked variant of the Galaxy Z Flip was quickly sold in stores as well \n",
    "            as on Samsung’s website in the US after the launch. The company had also claimed\n",
    "            that it was overwhelmed with the response it received from consumers for its second \n",
    "            foldable phone. Now, the South Korean smartphone giant says that the Galaxy Z Flip \n",
    "            will be back in stock in the US tomorrow.'''\n",
    "\n",
    "\n",
    "print(news.upper()) # converts to uppercase\n",
    "print(news.lower()) # converts to lowercase"
   ]
  },
  {
   "cell_type": "markdown",
   "metadata": {},
   "source": [
    "Calling a methods usually does not change the string:"
   ]
  },
  {
   "cell_type": "code",
   "execution_count": 22,
   "metadata": {},
   "outputs": [
    {
     "name": "stdout",
     "output_type": "stream",
     "text": [
      "The unlocked variant of the Galaxy Z Flip was quickly sold in stores as well \n",
      "            as on Samsung’s website in the US after the launch. The company had also claimed\n",
      "            that it was overwhelmed with the response it received from consumers for its second \n",
      "            foldable phone. Now, the South Korean smartphone giant says that the Galaxy Z Flip \n",
      "            will be back in stock in the US tomorrow.\n"
     ]
    }
   ],
   "source": [
    "print(news)"
   ]
  },
  {
   "cell_type": "markdown",
   "metadata": {},
   "source": [
    "**find()**  \n",
    "Method find()  finds the first occurrence of the specified value and returns -1 if the value is not found."
   ]
  },
  {
   "cell_type": "code",
   "execution_count": 23,
   "metadata": {},
   "outputs": [
    {
     "data": {
      "text/plain": [
       "305"
      ]
     },
     "execution_count": 23,
     "metadata": {},
     "output_type": "execute_result"
    }
   ],
   "source": [
    "news.find('South')"
   ]
  },
  {
   "cell_type": "code",
   "execution_count": 27,
   "metadata": {},
   "outputs": [
    {
     "data": {
      "text/plain": [
       "'South Korean smartphone'"
      ]
     },
     "execution_count": 27,
     "metadata": {},
     "output_type": "execute_result"
    }
   ],
   "source": [
    "news[305:328]"
   ]
  },
  {
   "cell_type": "code",
   "execution_count": 28,
   "metadata": {},
   "outputs": [
    {
     "data": {
      "text/plain": [
       "-1"
      ]
     },
     "execution_count": 28,
     "metadata": {},
     "output_type": "execute_result"
    }
   ],
   "source": [
    "news.find('south') # case-sensitive"
   ]
  },
  {
   "cell_type": "code",
   "execution_count": 29,
   "metadata": {},
   "outputs": [
    {
     "data": {
      "text/plain": [
       "7"
      ]
     },
     "execution_count": 29,
     "metadata": {},
     "output_type": "execute_result"
    }
   ],
   "source": [
    "news.find('o') # first occurence"
   ]
  },
  {
   "cell_type": "code",
   "execution_count": 30,
   "metadata": {},
   "outputs": [
    {
     "data": {
      "text/plain": [
       "414"
      ]
     },
     "execution_count": 30,
     "metadata": {},
     "output_type": "execute_result"
    }
   ],
   "source": [
    "news.rfind('o') # last occurence"
   ]
  },
  {
   "cell_type": "markdown",
   "metadata": {},
   "source": [
    "**str.replace('substr_to_replace', 'replacement')**\n",
    "\n",
    "Will replace all substrings that are the first argument unless you specify the number of replacements in the third argument."
   ]
  },
  {
   "cell_type": "code",
   "execution_count": 32,
   "metadata": {},
   "outputs": [
    {
     "data": {
      "text/plain": [
       "'Hello,***can***you***hear***me?'"
      ]
     },
     "execution_count": 32,
     "metadata": {},
     "output_type": "execute_result"
    }
   ],
   "source": [
    "'Hello, can you hear me?'.replace(' ', '***')"
   ]
  },
  {
   "cell_type": "code",
   "execution_count": 33,
   "metadata": {},
   "outputs": [
    {
     "data": {
      "text/plain": [
       "'Hello,***can***you hear me?'"
      ]
     },
     "execution_count": 33,
     "metadata": {},
     "output_type": "execute_result"
    }
   ],
   "source": [
    "'Hello, can you hear me?'.replace(' ', '***', 2)"
   ]
  },
  {
   "cell_type": "markdown",
   "metadata": {},
   "source": [
    "Methods **str.startswith('substring')** and **str.endswith('substring')** check whether substring is in the beginning or in the end of the string respectively."
   ]
  },
  {
   "cell_type": "code",
   "execution_count": 34,
   "metadata": {},
   "outputs": [
    {
     "name": "stdout",
     "output_type": "stream",
     "text": [
      "We the People of the United States, in Order to form a more perfect Union, \n",
      "        establish Justice, insure domestic Tranquility, provide for the common defence, \n",
      "        promote the general Welfare, and secure the Blessings of Liberty to ourselves and \n",
      "        our Posterity, do ordain and establish this Constitution for the United States of America.\n",
      "True\n"
     ]
    }
   ],
   "source": [
    "s = '''We the People of the United States, in Order to form a more perfect Union, \n",
    "        establish Justice, insure domestic Tranquility, provide for the common defence, \n",
    "        promote the general Welfare, and secure the Blessings of Liberty to ourselves and \n",
    "        our Posterity, do ordain and establish this Constitution for the United States of America.'''\n",
    "print(s)\n",
    "print(s.startswith('We'))"
   ]
  },
  {
   "cell_type": "code",
   "execution_count": 35,
   "metadata": {},
   "outputs": [
    {
     "name": "stdout",
     "output_type": "stream",
     "text": [
      "Client was disappointed\n"
     ]
    }
   ],
   "source": [
    "feedback = 'This place was bad.' \n",
    "\n",
    "if feedback.endswith('bad.'): \n",
    "    print('Client was disappointed') \n",
    "else:\n",
    "    print('Client was satisfied')"
   ]
  },
  {
   "cell_type": "markdown",
   "metadata": {},
   "source": [
    "What if the word is not in the end of the sentence? Let's find it!\n"
   ]
  },
  {
   "cell_type": "code",
   "execution_count": 36,
   "metadata": {},
   "outputs": [
    {
     "name": "stdout",
     "output_type": "stream",
     "text": [
      "Client was disappointed\n"
     ]
    }
   ],
   "source": [
    "feedback2 = 'This place was bad enough'\n",
    "\n",
    "if feedback2.find('bad') != -1: \n",
    "    print('Client was disappointed') \n",
    "else:\n",
    "    print('Client was satisfied')"
   ]
  },
  {
   "cell_type": "markdown",
   "metadata": {},
   "source": [
    "Method **strip()** (and similar methods **lstrip()** and **rstrip()**, working on only one side of a line, removes insignificant characters (spaces, tabs, etc.) from the edges of lines. A very useful method when we collect information from the internet. Passing an argument to these methods will remove the substring."
   ]
  },
  {
   "cell_type": "code",
   "execution_count": 37,
   "metadata": {},
   "outputs": [
    {
     "name": "stdout",
     "output_type": "stream",
     "text": [
      "135133\n",
      "hse.\n",
      "hse.ru\n",
      "ruhse.\n"
     ]
    }
   ],
   "source": [
    "print(' 135133   '.strip()) \n",
    "print('ruhse.ru'.strip('ru')) \n",
    "print('ruhse.ru'.lstrip('ru'))\n",
    "print('ruhse.ru'.rstrip('ru'))"
   ]
  },
  {
   "cell_type": "code",
   "execution_count": 4,
   "metadata": {},
   "outputs": [
    {
     "data": {
      "text/plain": [
       "'xx'"
      ]
     },
     "execution_count": 4,
     "metadata": {},
     "output_type": "execute_result"
    }
   ],
   "source": [
    "'   \\nxx\\n  '.strip()"
   ]
  },
  {
   "cell_type": "code",
   "execution_count": 5,
   "metadata": {},
   "outputs": [
    {
     "data": {
      "text/plain": [
       "'   \\nxx'"
      ]
     },
     "execution_count": 5,
     "metadata": {},
     "output_type": "execute_result"
    }
   ],
   "source": [
    "'   \\nxx\\n  '.rstrip()"
   ]
  },
  {
   "cell_type": "code",
   "execution_count": 6,
   "metadata": {},
   "outputs": [
    {
     "data": {
      "text/plain": [
       "'xx\\n  '"
      ]
     },
     "execution_count": 6,
     "metadata": {},
     "output_type": "execute_result"
    }
   ],
   "source": [
    "'   \\nxx\\n  '.lstrip()"
   ]
  },
  {
   "cell_type": "markdown",
   "metadata": {},
   "source": [
    "**str.count('substring')** counts the number of occurencies of a substring in a string."
   ]
  },
  {
   "cell_type": "code",
   "execution_count": 38,
   "metadata": {},
   "outputs": [
    {
     "name": "stdout",
     "output_type": "stream",
     "text": [
      "0\n",
      "5\n",
      "2\n",
      "1\n",
      "0\n",
      "2\n",
      "3\n"
     ]
    }
   ],
   "source": [
    "s = \"Mushroooom soup\" \n",
    "print(s.count(\"O\"))\n",
    "print(s.count(\"o\")) \n",
    "print(s.count(\"oo\")) \n",
    "print(s.count(\"ooo\")) \n",
    "print(s.count(\"push\"))\n",
    "print(s.count(\"o\", 4, 7)) # searching for \"o\" in s[4:7]\n",
    "print(s.count(\"o\", 7)) # searching for \"o\" in  s[7:]"
   ]
  },
  {
   "cell_type": "markdown",
   "metadata": {},
   "source": [
    "Some methods check whether a string will fit a certain condition:"
   ]
  },
  {
   "cell_type": "code",
   "execution_count": 41,
   "metadata": {},
   "outputs": [
    {
     "name": "stdout",
     "output_type": "stream",
     "text": [
      "True\n"
     ]
    }
   ],
   "source": [
    "print('ask me a question!'.islower())"
   ]
  },
  {
   "cell_type": "code",
   "execution_count": 43,
   "metadata": {},
   "outputs": [
    {
     "name": "stdout",
     "output_type": "stream",
     "text": [
      "False\n",
      "True\n",
      "True\n",
      "False\n",
      "True\n",
      "True\n",
      "False\n"
     ]
    }
   ],
   "source": [
    "# isalpha - whether all symbols are alphabetical\n",
    "print('Ask me a question'.isalpha())\n",
    "print('Ask'.isalpha())\n",
    "\n",
    "# isdigit - whether all symbols are digits\n",
    "print('13242'.isdigit())\n",
    "\n",
    "# isalnum - whether all symbols are either alphabetical or digits\n",
    "print('Ask me a question!'.isalnum())\n",
    "print('Ask232'.isalnum())\n",
    "\n",
    "# islower - whether all letters are in lowercase\n",
    "print('ask me a question!1'.islower())\n",
    "\n",
    "# isupper - whether all letters are in uppercase\n",
    "print('Ask me a question!'.isupper())"
   ]
  },
  {
   "cell_type": "code",
   "execution_count": 9,
   "metadata": {},
   "outputs": [
    {
     "name": "stdout",
     "output_type": "stream",
     "text": [
      "Ask, Hgfjdk? Me A Question!\n",
      "ask me a question!\n"
     ]
    }
   ],
   "source": [
    "# title - makes every word's first letter uppercase\n",
    "print('ask, hgfjdk? me a question!'.title())\n",
    "\n",
    "# swapcase - swaps cases to the opposite\n",
    "print('ask me a question!'.lower())"
   ]
  },
  {
   "cell_type": "code",
   "execution_count": 45,
   "metadata": {},
   "outputs": [
    {
     "data": {
      "text/plain": [
       "'Hello how are you?'"
      ]
     },
     "execution_count": 45,
     "metadata": {},
     "output_type": "execute_result"
    }
   ],
   "source": [
    "# capitalize - makes first letter uppercase, others lowercase\n",
    "'helLo hOW aRe yOU?'.capitalize()"
   ]
  },
  {
   "cell_type": "markdown",
   "metadata": {},
   "source": [
    "Example: a user has to create a passwords for his account. The password should contain only letters and digits."
   ]
  },
  {
   "cell_type": "code",
   "execution_count": 47,
   "metadata": {},
   "outputs": [
    {
     "name": "stdout",
     "output_type": "stream",
     "text": [
      "Enter the password: aa aaa bb\n",
      "The password must contain only letters and digits!\n"
     ]
    }
   ],
   "source": [
    "password = input(\"Enter the password: \")\n",
    "\n",
    "if password.isalnum() == False:\n",
    "    print(\"The password must contain only letters and digits!\")"
   ]
  },
  {
   "cell_type": "markdown",
   "metadata": {},
   "source": [
    "And also at least one uppercase letter:"
   ]
  },
  {
   "cell_type": "code",
   "execution_count": 48,
   "metadata": {},
   "outputs": [
    {
     "name": "stdout",
     "output_type": "stream",
     "text": [
      "Enter the password: aa bb 1\n",
      "The password must contain only letters and digits!\n",
      "The password must contain at least one uppercase letter!\n"
     ]
    }
   ],
   "source": [
    "password = input(\"Enter the password: \")\n",
    "\n",
    "if password.isalnum() == False:\n",
    "    print(\"The password must contain only letters and digits!\")\n",
    "if password.islower() == True:\n",
    "    print(\"The password must contain at least one uppercase letter!\")"
   ]
  },
  {
   "cell_type": "markdown",
   "metadata": {},
   "source": [
    "## String formatting"
   ]
  },
  {
   "cell_type": "markdown",
   "metadata": {},
   "source": [
    "Sometimes we want to put variable values inside string. Using string formatting is an easy way to do that:"
   ]
  },
  {
   "cell_type": "code",
   "execution_count": 49,
   "metadata": {},
   "outputs": [
    {
     "name": "stdout",
     "output_type": "stream",
     "text": [
      "Your name: Nastya. Your age: 24.\n"
     ]
    }
   ],
   "source": [
    "result = \"Your name: %s. Your age: %i.\" % ('Nastya', 24)\n",
    "print(result)"
   ]
  },
  {
   "cell_type": "markdown",
   "metadata": {},
   "source": [
    "Operator % indicates the place inside the string where our variable will be stored, the letter after indicated the data type (\"s\" for string, \"i\" for integer, \"f\" for float)."
   ]
  },
  {
   "cell_type": "code",
   "execution_count": 50,
   "metadata": {},
   "outputs": [
    {
     "name": "stdout",
     "output_type": "stream",
     "text": [
      "Your name: %s. Your age: %i.\n"
     ]
    }
   ],
   "source": [
    "print(\"Your name: %s. Your age: %i.\") # don't lose the second part from the syntax above!"
   ]
  },
  {
   "cell_type": "markdown",
   "metadata": {},
   "source": [
    "If we forget to add one of the values, we will get a TypeError."
   ]
  },
  {
   "cell_type": "code",
   "execution_count": 52,
   "metadata": {},
   "outputs": [
    {
     "ename": "TypeError",
     "evalue": "not enough arguments for format string",
     "output_type": "error",
     "traceback": [
      "\u001b[0;31m---------------------------------------------------------------------------\u001b[0m",
      "\u001b[0;31mTypeError\u001b[0m                                 Traceback (most recent call last)",
      "\u001b[0;32m<ipython-input-52-d990ad5a5c8b>\u001b[0m in \u001b[0;36m<module>\u001b[0;34m\u001b[0m\n\u001b[0;32m----> 1\u001b[0;31m \u001b[0mprint\u001b[0m\u001b[0;34m(\u001b[0m\u001b[0;34m\"Your name: %s. Your age: %i.\"\u001b[0m \u001b[0;34m%\u001b[0m \u001b[0;34m(\u001b[0m\u001b[0;34m\"Nastya\"\u001b[0m\u001b[0;34m)\u001b[0m\u001b[0;34m)\u001b[0m\u001b[0;34m\u001b[0m\u001b[0m\n\u001b[0m",
      "\u001b[0;31mTypeError\u001b[0m: not enough arguments for format string"
     ]
    }
   ],
   "source": [
    "print(\"Your name: %s. Your age: %i.\" % (\"Nastya\"))"
   ]
  },
  {
   "cell_type": "markdown",
   "metadata": {},
   "source": [
    "And be careful with setting the data types:"
   ]
  },
  {
   "cell_type": "code",
   "execution_count": 53,
   "metadata": {},
   "outputs": [
    {
     "name": "stdout",
     "output_type": "stream",
     "text": [
      "Your name: Nastya. Your age: 24.\n"
     ]
    }
   ],
   "source": [
    "print(\"Your name: %s. Your age: %i.\" % ('Nastya', 24)) "
   ]
  },
  {
   "cell_type": "code",
   "execution_count": 54,
   "metadata": {},
   "outputs": [
    {
     "ename": "TypeError",
     "evalue": "%i format: a number is required, not str",
     "output_type": "error",
     "traceback": [
      "\u001b[0;31m---------------------------------------------------------------------------\u001b[0m",
      "\u001b[0;31mTypeError\u001b[0m                                 Traceback (most recent call last)",
      "\u001b[0;32m<ipython-input-54-bf9f47da8534>\u001b[0m in \u001b[0;36m<module>\u001b[0;34m\u001b[0m\n\u001b[0;32m----> 1\u001b[0;31m \u001b[0mprint\u001b[0m\u001b[0;34m(\u001b[0m\u001b[0;34m\"Ваше имя: %i. Ваш возраст: %s.\"\u001b[0m \u001b[0;34m%\u001b[0m \u001b[0;34m(\u001b[0m\u001b[0;34m'Nastya'\u001b[0m\u001b[0;34m,\u001b[0m \u001b[0;36m24\u001b[0m\u001b[0;34m)\u001b[0m\u001b[0;34m)\u001b[0m\u001b[0;34m\u001b[0m\u001b[0m\n\u001b[0m",
      "\u001b[0;31mTypeError\u001b[0m: %i format: a number is required, not str"
     ]
    }
   ],
   "source": [
    "print(\"Ваше имя: %i. Ваш возраст: %s.\" % ('Nastya', 24)) "
   ]
  },
  {
   "cell_type": "markdown",
   "metadata": {},
   "source": [
    "Let's look at an example with float values:"
   ]
  },
  {
   "cell_type": "code",
   "execution_count": 55,
   "metadata": {},
   "outputs": [
    {
     "name": "stdout",
     "output_type": "stream",
     "text": [
      "Your height (meters): 1.78\n"
     ]
    },
    {
     "data": {
      "text/plain": [
       "1.78"
      ]
     },
     "execution_count": 55,
     "metadata": {},
     "output_type": "execute_result"
    }
   ],
   "source": [
    "height = float(input(\"Your height (meters): \"))\n",
    "height"
   ]
  },
  {
   "cell_type": "code",
   "execution_count": 56,
   "metadata": {},
   "outputs": [
    {
     "name": "stdout",
     "output_type": "stream",
     "text": [
      "Your height: 1.780000\n"
     ]
    }
   ],
   "source": [
    "print(\"Your height: %f\" % height) # f means float"
   ]
  },
  {
   "cell_type": "markdown",
   "metadata": {},
   "source": [
    "Default option is printing 6 decimal places, but you can tune it like this (standar arithmetic rounding\n",
    "will be applied):"
   ]
  },
  {
   "cell_type": "code",
   "execution_count": 58,
   "metadata": {},
   "outputs": [
    {
     "name": "stdout",
     "output_type": "stream",
     "text": [
      "Your height: 1.78\n"
     ]
    }
   ],
   "source": [
    "print(\"Your height: %.2f\" % height) # 2 decimal places"
   ]
  },
  {
   "cell_type": "code",
   "execution_count": 57,
   "metadata": {},
   "outputs": [
    {
     "name": "stdout",
     "output_type": "stream",
     "text": [
      "Your height: 1.8 \n"
     ]
    }
   ],
   "source": [
    "print(\"Your height: %.1f \" % height) # 1 decimal place"
   ]
  },
  {
   "cell_type": "markdown",
   "metadata": {},
   "source": [
    "This is not the only way to string formatting. It is a bit old. Newer versions use `str.format()` method. In Python 3.6 were introduced f-strings (formatted string literals). Check them out:"
   ]
  },
  {
   "cell_type": "code",
   "execution_count": 59,
   "metadata": {},
   "outputs": [],
   "source": [
    "name = 'Ryan'\n",
    "age = '27'"
   ]
  },
  {
   "cell_type": "code",
   "execution_count": 60,
   "metadata": {},
   "outputs": [
    {
     "name": "stdout",
     "output_type": "stream",
     "text": [
      "Your name: Ryan. Your age: 27. Your height: 1.78\n"
     ]
    }
   ],
   "source": [
    "print(f\"Your name: {name}. Your age: {age}. Your height: {height:.2f}\") # using f-string"
   ]
  },
  {
   "cell_type": "code",
   "execution_count": 61,
   "metadata": {},
   "outputs": [
    {
     "name": "stdout",
     "output_type": "stream",
     "text": [
      "Your name: Ryan. Your age: 27\n"
     ]
    }
   ],
   "source": [
    "print(\"Your name: {}. Your age: {}\".format(name, age)) # using .format()"
   ]
  },
  {
   "cell_type": "code",
   "execution_count": 62,
   "metadata": {},
   "outputs": [
    {
     "name": "stdout",
     "output_type": "stream",
     "text": [
      "Your name: Ryan. Your age: 27. Your height: 1.78\n"
     ]
    }
   ],
   "source": [
    "print(\"Your name: {}. Your age: {}. Your height: {:.2f}\".format(name, age, height))"
   ]
  },
  {
   "cell_type": "markdown",
   "metadata": {},
   "source": [
    "If you point out a specific data type (.2f means float), then make sure you put variables in the correct order:"
   ]
  },
  {
   "cell_type": "code",
   "execution_count": 63,
   "metadata": {},
   "outputs": [
    {
     "ename": "ValueError",
     "evalue": "Unknown format code 'f' for object of type 'str'",
     "output_type": "error",
     "traceback": [
      "\u001b[0;31m---------------------------------------------------------------------------\u001b[0m",
      "\u001b[0;31mValueError\u001b[0m                                Traceback (most recent call last)",
      "\u001b[0;32m<ipython-input-63-33aa693feea8>\u001b[0m in \u001b[0;36m<module>\u001b[0;34m\u001b[0m\n\u001b[0;32m----> 1\u001b[0;31m \u001b[0mprint\u001b[0m\u001b[0;34m(\u001b[0m\u001b[0;34m\"Your name: {}. Your age: {}. Your height: {:.2f}\"\u001b[0m\u001b[0;34m.\u001b[0m\u001b[0mformat\u001b[0m\u001b[0;34m(\u001b[0m\u001b[0mage\u001b[0m\u001b[0;34m,\u001b[0m \u001b[0mheight\u001b[0m\u001b[0;34m,\u001b[0m \u001b[0mname\u001b[0m\u001b[0;34m)\u001b[0m\u001b[0;34m)\u001b[0m\u001b[0;34m\u001b[0m\u001b[0m\n\u001b[0m",
      "\u001b[0;31mValueError\u001b[0m: Unknown format code 'f' for object of type 'str'"
     ]
    }
   ],
   "source": [
    "print(\"Your name: {}. Your age: {}. Your height: {:.2f}\".format(age, height, name)) "
   ]
  },
  {
   "cell_type": "markdown",
   "metadata": {},
   "source": [
    "You can also use numeration to point out order of filling. One variable can be used multiple times."
   ]
  },
  {
   "cell_type": "code",
   "execution_count": 64,
   "metadata": {},
   "outputs": [
    {
     "name": "stdout",
     "output_type": "stream",
     "text": [
      "Your name: Ryan. Your age: 27. Your height: 1.78. Is that correct, Ryan?\n"
     ]
    }
   ],
   "source": [
    "print(\"Your name: {2}. Your age: {0}. Your height: {1:.2f}. Is that correct, {2}?\".format(age,\n",
    "                                                                                          height, name)) "
   ]
  },
  {
   "cell_type": "markdown",
   "metadata": {},
   "source": [
    "We can also apply mathematical expressions and methods to our variables while formatting strings:"
   ]
  },
  {
   "cell_type": "code",
   "execution_count": 65,
   "metadata": {},
   "outputs": [
    {
     "name": "stdout",
     "output_type": "stream",
     "text": [
      "Your name: RYAN. Your age: 32. Your height in ft: 5.84\n"
     ]
    }
   ],
   "source": [
    "print(f\"Your name: {name.upper()}. Your age: {2020-1988}. Your height in ft: {height * 100 / 30.48 :.2f}\")"
   ]
  },
  {
   "cell_type": "markdown",
   "metadata": {},
   "source": [
    "## Problem 1\n",
    "\n",
    "From math import pi. Using various string formatting methods print following strings:\n",
    "\n",
    " \n",
    "__Output:__  \n",
    "`Value 22/7 (3.14) is an approximation of the number pi (3.1416)`  \n",
    "`Value 22/7 3.142 is an approximation of the number pi 3.141592653589793`\n",
    "\n"
   ]
  },
  {
   "cell_type": "code",
   "execution_count": 66,
   "metadata": {},
   "outputs": [
    {
     "name": "stdout",
     "output_type": "stream",
     "text": [
      "3.141592653589793\n",
      "Value 22/7 (3.14) is an approximation of the number pi (3.1416)\n",
      "Value 22/7 3.142 is an approximation of the number pi 3.141592653589793\n"
     ]
    }
   ],
   "source": [
    "import math\n",
    "print(math.pi)\n",
    "print('Value 22/7 (%.2f) is an approximation of the number pi (%.4f)' % (math.pi, math.pi))\n",
    "print(f'Value 22/7 {math.pi:.3f} is an approximation of the number pi {math.pi}')"
   ]
  },
  {
   "cell_type": "markdown",
   "metadata": {},
   "source": [
    "# Conditions and if statements"
   ]
  },
  {
   "cell_type": "markdown",
   "metadata": {},
   "source": [
    "**Conditions (if)** allow you to execute the code only if some logical expression is true.\n",
    "\n",
    "Simply put, \"if it is true that ... then do ...\".\n",
    "\n",
    "The simplest example of using if is to output a certain phrase by condition.\n",
    "\n",
    "<img src=\"https://www.alphacodingskills.com/python/img/python-if-elif-else.png\" width=700>"
   ]
  },
  {
   "cell_type": "code",
   "execution_count": 67,
   "metadata": {},
   "outputs": [
    {
     "name": "stdout",
     "output_type": "stream",
     "text": [
      "That is true!\n"
     ]
    }
   ],
   "source": [
    "x = 1\n",
    "if x == 1: \n",
    "    print('That is true!')"
   ]
  },
  {
   "cell_type": "code",
   "execution_count": 68,
   "metadata": {},
   "outputs": [
    {
     "name": "stdout",
     "output_type": "stream",
     "text": [
      "8\n",
      "even\n"
     ]
    }
   ],
   "source": [
    "x = int(input())\n",
    "if x % 2 == 0:\n",
    "    print('even')\n",
    "else:\n",
    "    print('odd')"
   ]
  },
  {
   "cell_type": "code",
   "execution_count": null,
   "metadata": {},
   "outputs": [],
   "source": [
    "a = int(input())\n",
    "b = int(input())\n",
    "\n",
    "if (a < b) or (a == b): # if a <= b:\n",
    "    print('a <= b')"
   ]
  },
  {
   "cell_type": "code",
   "execution_count": 70,
   "metadata": {},
   "outputs": [],
   "source": [
    "x = 1\n",
    "if x != 1: # False\n",
    "    print('That is true!')  # nothing happens"
   ]
  },
  {
   "cell_type": "markdown",
   "metadata": {},
   "source": [
    "Please note that the code inside the condition is indented with 4 spaces or tabs (it does not work in all IDEs, but everything will be fine in Jupyter).\n",
    "\n",
    "Otherwise, the program will not understand that it refers to a condition."
   ]
  },
  {
   "cell_type": "code",
   "execution_count": 71,
   "metadata": {},
   "outputs": [
    {
     "ename": "IndentationError",
     "evalue": "expected an indented block (<ipython-input-71-b1fb9bc19953>, line 2)",
     "output_type": "error",
     "traceback": [
      "\u001b[0;36m  File \u001b[0;32m\"<ipython-input-71-b1fb9bc19953>\"\u001b[0;36m, line \u001b[0;32m2\u001b[0m\n\u001b[0;31m    print('That is true!')\u001b[0m\n\u001b[0m        ^\u001b[0m\n\u001b[0;31mIndentationError\u001b[0m\u001b[0;31m:\u001b[0m expected an indented block\n"
     ]
    }
   ],
   "source": [
    "if x == 1:\n",
    "print('That is true!')"
   ]
  },
  {
   "cell_type": "markdown",
   "metadata": {},
   "source": [
    "But what if, in the case when the condition is not true, we also want to perform some action? For this we have a keyword **else**. "
   ]
  },
  {
   "cell_type": "code",
   "execution_count": 72,
   "metadata": {},
   "outputs": [
    {
     "name": "stdout",
     "output_type": "stream",
     "text": [
      "That is false!\n"
     ]
    }
   ],
   "source": [
    "if x != 1:\n",
    "    print('That is true!')\n",
    "else:\n",
    "    print('That is false!')"
   ]
  },
  {
   "cell_type": "markdown",
   "metadata": {},
   "source": [
    "We figured out how to act if we have two options for action, but there may be more.\n",
    "\n",
    "For example, let's solve a simple problem - find at least two numbers entered. Nothing new so far:"
   ]
  },
  {
   "cell_type": "code",
   "execution_count": 73,
   "metadata": {},
   "outputs": [
    {
     "name": "stdout",
     "output_type": "stream",
     "text": [
      "10\n",
      "7\n",
      "The minimum is 10\n"
     ]
    }
   ],
   "source": [
    "a = input()\n",
    "b = input()\n",
    "if a < b:\n",
    "    min = a\n",
    "else:\n",
    "    min = b\n",
    "print('The minimum is', min)"
   ]
  },
  {
   "cell_type": "markdown",
   "metadata": {},
   "source": [
    "Now let's complicate the task by adding a third scenario - if the numbers are equal, we will print *'Equal numbers'*.\n",
    "\n",
    "You can solve this problem using nested conditions:"
   ]
  },
  {
   "cell_type": "code",
   "execution_count": 74,
   "metadata": {},
   "outputs": [
    {
     "name": "stdout",
     "output_type": "stream",
     "text": [
      "5\n",
      "5\n",
      "Equal numbers: 5\n"
     ]
    }
   ],
   "source": [
    "a = input()\n",
    "b = input()\n",
    "if a < b: \n",
    "    print(a)\n",
    "else:\n",
    "    if a > b:\n",
    "        print(b)\n",
    "    else:\n",
    "        print('Equal numbers:', a)"
   ]
  },
  {
   "cell_type": "markdown",
   "metadata": {},
   "source": [
    "Not bad, but you can simplify this solution using the **else if (or elif)** construct, which allows you to immediately write another check if the condition is false.\n",
    "\n",
    "This is how the solution to our problem using elif will look like:"
   ]
  },
  {
   "cell_type": "code",
   "execution_count": 75,
   "metadata": {},
   "outputs": [
    {
     "name": "stdout",
     "output_type": "stream",
     "text": [
      "6\n",
      "6\n",
      "Equal numbers: 6\n"
     ]
    }
   ],
   "source": [
    "a = input()\n",
    "b = input()\n",
    "if a < b: \n",
    "    print(a)\n",
    "elif a > b: \n",
    "    print(b)\n",
    "else:\n",
    "    print('Equal numbers:', a)"
   ]
  },
  {
   "cell_type": "markdown",
   "metadata": {},
   "source": [
    "## Problem 2\n",
    "\n",
    "There is a sale at the local store:\n",
    "* For all goods cheaper than 1000 rubles 15% discount\n",
    "* For all products more expensive than 1000, but cheaper than 5000 rubles, a 20% discount\n",
    "* For all products more expensive than 5000 rubles, a 25% discount\n",
    "\n",
    "**Input**\n",
    "\n",
    "Non-negative integer - product price in rubles\n",
    "\n",
    "**Output**\n",
    "\n",
    "Non-negative integer - discount for goods in rubles"
   ]
  },
  {
   "cell_type": "code",
   "execution_count": 76,
   "metadata": {},
   "outputs": [
    {
     "name": "stdout",
     "output_type": "stream",
     "text": [
      "7000\n",
      "1750.0\n"
     ]
    }
   ],
   "source": [
    "price = int(input())\n",
    "\n",
    "if price > 5000:\n",
    "    print(price * 0.25)\n",
    "elif price > 1000:\n",
    "    print(price * 0.20)\n",
    "else:\n",
    "    print(price * 0.15)    "
   ]
  },
  {
   "cell_type": "markdown",
   "metadata": {},
   "source": [
    "# While loops"
   ]
  },
  {
   "cell_type": "markdown",
   "metadata": {},
   "source": [
    "Quite often, tasks require us to execute the same type of code several times.\n",
    "\n",
    "Writing the same lines multiple times clutters the program. **Loops** help to cope with this."
   ]
  },
  {
   "cell_type": "markdown",
   "metadata": {},
   "source": [
    "The principle of using a while loop: write a boolean expression and some code. The code will run as long as the boolean expression is true.\n",
    "\n",
    "For example, let's print all integers from 1 to 10."
   ]
  },
  {
   "cell_type": "code",
   "execution_count": 77,
   "metadata": {},
   "outputs": [
    {
     "name": "stdout",
     "output_type": "stream",
     "text": [
      "1\n",
      "2\n",
      "3\n",
      "4\n",
      "5\n",
      "6\n",
      "7\n",
      "8\n",
      "9\n",
      "10\n"
     ]
    }
   ],
   "source": [
    "i = 1 \n",
    "while i <= 10:\n",
    "    print(i) \n",
    "    i += 1 # i = i + 1"
   ]
  },
  {
   "cell_type": "code",
   "execution_count": 5,
   "metadata": {},
   "outputs": [],
   "source": [
    "# i = 1 \n",
    "# while i > 0:\n",
    "#     print(i) \n",
    "#     i += 1 # i = i + 1"
   ]
  },
  {
   "cell_type": "markdown",
   "metadata": {},
   "source": [
    "## Break and continue operators"
   ]
  },
  {
   "cell_type": "markdown",
   "metadata": {},
   "source": [
    "We can control loops execution using operators **break** and **continue**."
   ]
  },
  {
   "cell_type": "markdown",
   "metadata": {},
   "source": [
    "**Break** inside a loop allows you to interrupt its execution and immediately jump to the code that follows the loop (or terminate the program).\n",
    "\n",
    "In this case, we can write the **else** section immediately after the loop (the syntax is the same as in the conditions).\n",
    "\n",
    "The code written after **else** will be executed if the loop ended \"naturally\" (that is, it was not interrupted with break)."
   ]
  },
  {
   "cell_type": "markdown",
   "metadata": {},
   "source": [
    "## Problem 3\n",
    "\n",
    "Let's look at an example of a problem that can be solved using break.\n",
    "\n",
    "Let the student pass 5 subjects during the session and we want to know if he has a retake\n",
    "\n",
    "**Input format**\n",
    "\n",
    "Up to five gardes from 1 to 10\n",
    "\n",
    "**Output format**\n",
    "\n",
    "If at least one of the marks is less than 4, we end the program and print 'YES' (there are retakes).\n",
    "If all five grades are greater than 3, we print 'NO' (the student has closed the session without retakes)"
   ]
  },
  {
   "cell_type": "code",
   "execution_count": 78,
   "metadata": {},
   "outputs": [
    {
     "name": "stdout",
     "output_type": "stream",
     "text": [
      "Enter a grade: 6\n",
      "Enter a grade: 6\n",
      "Enter a grade: 6\n",
      "Enter a grade: 6\n",
      "Enter a grade: 6\n",
      "NO\n"
     ]
    }
   ],
   "source": [
    "i = 1\n",
    "while i <= 5:\n",
    "    note = int(input(\"Enter a grade: \"))\n",
    "    if note < 4:\n",
    "        print('YES')\n",
    "        break\n",
    "    i += 1\n",
    "else:\n",
    "    print('NO')"
   ]
  },
  {
   "cell_type": "markdown",
   "metadata": {},
   "source": [
    "The **continue** statement allows you to immediately jump to a new iteration of the loop without executing the code that is written inside the loop below it.\n",
    "\n",
    "Let's change the condition of the problem - now we will count the number of retakes a student has."
   ]
  },
  {
   "cell_type": "code",
   "execution_count": 79,
   "metadata": {},
   "outputs": [
    {
     "name": "stdout",
     "output_type": "stream",
     "text": [
      "Enter a grade: 6\n",
      "Enter a grade: 7\n",
      "Enter a grade: 2\n",
      "Enter a grade: 3\n",
      "Enter a grade: 5\n",
      "Number of retake: 2\n"
     ]
    }
   ],
   "source": [
    "i = 1\n",
    "retakes = 0\n",
    "while i <= 5:\n",
    "    note = int(input(\"Enter a grade: \"))\n",
    "    i += 1\n",
    "    if note >= 4:\n",
    "        continue\n",
    "    retakes += 1\n",
    "print(\"Number of retake:\", retakes)"
   ]
  },
  {
   "cell_type": "markdown",
   "metadata": {},
   "source": [
    "The break and continue statements should not be overused, as it can impair the readability of the code.\n",
    "\n",
    "For example, in the previous example, we would have done without continue:"
   ]
  },
  {
   "cell_type": "code",
   "execution_count": 80,
   "metadata": {},
   "outputs": [
    {
     "name": "stdout",
     "output_type": "stream",
     "text": [
      "Enter a grade: 5\n",
      "Enter a grade: 4\n",
      "Enter a grade: 6\n",
      "Enter a grade: 2\n",
      "Enter a grade: 3\n",
      "Number of retake: 2\n"
     ]
    }
   ],
   "source": [
    "i = 1\n",
    "retakes = 0\n",
    "while i <= 5:\n",
    "    note = int(input(\"Enter a grade: \"))\n",
    "    i += 1\n",
    "    if note < 4:\n",
    "        retakes += 1\n",
    "print(\"Number of retake:\", retakes)"
   ]
  },
  {
   "cell_type": "markdown",
   "metadata": {},
   "source": [
    "## Problem 4\n",
    "\n",
    "Jan started to run and on the first day she ran X kilometers and was exhausted. Jan set herself a goal of Y kilometers and decided to find out when she will reach it, if every day she runs 10% more distance than the previous one.\n",
    "\n",
    "**Input format**\n",
    "\n",
    "The program receives integers X, Y as input\n",
    "\n",
    "**Output format**\n",
    "\n",
    "One integer (day when Jan will run her goal)\n",
    "\n",
    "**Examples**\n",
    "\n",
    "**Input:**\n",
    "\n",
    "10\n",
    "\n",
    "21\n",
    "\n",
    "**Output:**\n",
    "\n",
    "9"
   ]
  },
  {
   "cell_type": "code",
   "execution_count": 81,
   "metadata": {},
   "outputs": [
    {
     "name": "stdout",
     "output_type": "stream",
     "text": [
      "10\n",
      "21\n",
      "9\n"
     ]
    }
   ],
   "source": [
    "x = int(input())\n",
    "y = int(input())\n",
    "\n",
    "day_count = 1\n",
    "while x <= y:\n",
    "    x += x*0.1\n",
    "    day_count += 1\n",
    "    \n",
    "print(day_count)"
   ]
  },
  {
   "cell_type": "markdown",
   "metadata": {},
   "source": [
    "## Problem 5\n",
    "\n",
    "The interest rate on the deposit is P percent per annum, which are added to the deposit amount after a year. The contribution is X rubles Y kopecks. The fractional number of kopecks is discarded after a year. Calculate the amount of the deposit in rubles and kopecks.\n",
    "\n",
    "**Input format**\n",
    "\n",
    "The program receives integers P, X, Y, K as input.\n",
    "\n",
    "**Output format**\n",
    "\n",
    "The program should display two numbers: the amount of the deposit in K years in rubles and kopecks. The recalculation of the deposit amount (with the discarding of fractional parts of kopecks) occurs annually.\n",
    "\n",
    "**Examples**  \n",
    "Test 1  \n",
    "**Input:**  \n",
    "12  \n",
    "179  \n",
    "0  \n",
    "5  \n",
    "\n",
    "**Output:**  \n",
    "315 43\n",
    "\n",
    "Test 2  \n",
    "**Input:**  \n",
    "13  \n",
    "179  \n",
    "0  \n",
    "100  \n",
    "\n",
    "**Output:**   \n",
    "36360285 50\n",
    "\n",
    "Test 3  \n",
    "**Input:**   \n",
    "1  \n",
    "1  \n",
    "0  \n",
    "1000  \n",
    "\n",
    "**Output:**  \n",
    "11881 92"
   ]
  },
  {
   "cell_type": "code",
   "execution_count": 82,
   "metadata": {},
   "outputs": [
    {
     "name": "stdout",
     "output_type": "stream",
     "text": [
      "200 48\n"
     ]
    }
   ],
   "source": [
    "p = 12\n",
    "x = 179\n",
    "y = 0\n",
    "k = 1\n",
    "\n",
    "year = 0 \n",
    "end_year_amount = x * 100 + y \n",
    "\n",
    "while year < k:\n",
    "    percent = end_year_amount * p / 100\n",
    "    end_year_amount = int(end_year_amount + percent)\n",
    "    year += 1 \n",
    "    \n",
    "print(end_year_amount // 100, end_year_amount % 100)"
   ]
  },
  {
   "cell_type": "markdown",
   "metadata": {},
   "source": [
    "# For loops"
   ]
  },
  {
   "cell_type": "markdown",
   "metadata": {},
   "source": [
    "In Python, a loop starts with the **for** keyword, followed by an arbitrary variable name that will hold the values of the next sequence object. The general syntax for **for ... in** in python is as follows:\n",
    "\n",
    "**for** <variable> **in** <sequence>:\n",
    "\n",
    "     <action>\n",
    "    \n",
    "**else:**\n",
    "\n",
    "     <action>\n",
    "    \n",
    "The elements of the \"sequence\" are iterated over one by one by the \"variable\" of the loop; to be precise, the variable points to the elements. For each element, an “action” is performed."
   ]
  },
  {
   "cell_type": "markdown",
   "metadata": {},
   "source": [
    "<img src =\"https://d33wubrfki0l68.cloudfront.net/09c51b2f33c74a58ae5ae12689b2c5441e6f6bb4/83a52/wp-content/uploads/2017/06/forloop.png\" alt =\"Test picture\" style=\"width: 300px;\"/>"
   ]
  },
  {
   "cell_type": "code",
   "execution_count": 83,
   "metadata": {},
   "outputs": [
    {
     "name": "stdout",
     "output_type": "stream",
     "text": [
      "C\n",
      "C++\n",
      "Perl\n",
      "Python\n"
     ]
    }
   ],
   "source": [
    "# list\n",
    "languages = [\"C\", \"C++\", \"Perl\", \"Python\"]\n",
    "for lang in languages:\n",
    "    print(lang)"
   ]
  },
  {
   "cell_type": "code",
   "execution_count": 84,
   "metadata": {},
   "outputs": [
    {
     "name": "stdout",
     "output_type": "stream",
     "text": [
      "C\n",
      "C++\n",
      "Perl\n",
      "Python\n"
     ]
    }
   ],
   "source": [
    "# tuple\n",
    "for lang in (\"C\", \"C++\", \"Perl\", \"Python\"):\n",
    "    print(lang)"
   ]
  },
  {
   "cell_type": "code",
   "execution_count": 85,
   "metadata": {},
   "outputs": [
    {
     "name": "stdout",
     "output_type": "stream",
     "text": [
      "C++\n",
      "C\n",
      "Python\n",
      "Perl\n"
     ]
    }
   ],
   "source": [
    "# set\n",
    "for lang in {\"C\", \"C++\", \"Perl\", \"Python\"}:\n",
    "    print(lang)"
   ]
  },
  {
   "cell_type": "code",
   "execution_count": 87,
   "metadata": {},
   "outputs": [],
   "source": [
    "d = {'a': 1, 'b': 2}"
   ]
  },
  {
   "cell_type": "code",
   "execution_count": 88,
   "metadata": {},
   "outputs": [
    {
     "name": "stdout",
     "output_type": "stream",
     "text": [
      "a\n",
      "b\n"
     ]
    }
   ],
   "source": [
    "# dictionary\n",
    "for y in d: # iterates by key\n",
    "    print(y) "
   ]
  },
  {
   "cell_type": "code",
   "execution_count": 21,
   "metadata": {},
   "outputs": [
    {
     "name": "stdout",
     "output_type": "stream",
     "text": [
      "('a', 1)\n",
      "('b', 2)\n"
     ]
    }
   ],
   "source": [
    "for y in d.items(): # iterates by tuple, first value – key, second – key's value\n",
    "    print(y)"
   ]
  },
  {
   "cell_type": "code",
   "execution_count": 23,
   "metadata": {},
   "outputs": [
    {
     "name": "stdout",
     "output_type": "stream",
     "text": [
      "1\n",
      "2\n"
     ]
    }
   ],
   "source": [
    "for y in d.values(): # iterates by values\n",
    "    print(y)"
   ]
  },
  {
   "cell_type": "code",
   "execution_count": 89,
   "metadata": {},
   "outputs": [
    {
     "name": "stdout",
     "output_type": "stream",
     "text": [
      "h\n",
      "e\n",
      "y\n",
      ",\n",
      " \n",
      "h\n",
      "o\n",
      "w\n",
      " \n",
      "a\n",
      "r\n",
      "e\n",
      " \n",
      "y\n",
      "o\n",
      "u\n",
      "?\n"
     ]
    }
   ],
   "source": [
    "for y in 'hey, how are you?': # iterates by symbol\n",
    "    print(y)"
   ]
  },
  {
   "cell_type": "code",
   "execution_count": 90,
   "metadata": {},
   "outputs": [
    {
     "ename": "TypeError",
     "evalue": "'float' object is not iterable",
     "output_type": "error",
     "traceback": [
      "\u001b[0;31m---------------------------------------------------------------------------\u001b[0m",
      "\u001b[0;31mTypeError\u001b[0m                                 Traceback (most recent call last)",
      "\u001b[0;32m<ipython-input-90-4e9e9a8b0145>\u001b[0m in \u001b[0;36m<module>\u001b[0;34m\u001b[0m\n\u001b[0;32m----> 1\u001b[0;31m \u001b[0;32mfor\u001b[0m \u001b[0my\u001b[0m \u001b[0;32min\u001b[0m \u001b[0;36m1000.5\u001b[0m\u001b[0;34m:\u001b[0m \u001b[0;31m# not an iterable\u001b[0m\u001b[0;34m\u001b[0m\u001b[0m\n\u001b[0m\u001b[1;32m      2\u001b[0m     \u001b[0mprint\u001b[0m\u001b[0;34m(\u001b[0m\u001b[0my\u001b[0m\u001b[0;34m)\u001b[0m\u001b[0;34m\u001b[0m\u001b[0m\n",
      "\u001b[0;31mTypeError\u001b[0m: 'float' object is not iterable"
     ]
    }
   ],
   "source": [
    "for y in 1000.5: # not an iterable\n",
    "    print(y)"
   ]
  },
  {
   "cell_type": "markdown",
   "metadata": {},
   "source": [
    "The elements of the sequence are iterated over one by one by the variable of the loop; to be precise, the variable points to the elements. For each element, an action is performed."
   ]
  },
  {
   "cell_type": "markdown",
   "metadata": {},
   "source": [
    "We should alse mention the extremely useful function **range()**. \n",
    "\n",
    "In simple terms, **range()** allows you to generate a range of numbers within a given range. Depending on how many arguments you pass to the function, you can decide where this series of numbers will start and end, as well as how big the difference will be between the two numbers."
   ]
  },
  {
   "cell_type": "markdown",
   "metadata": {},
   "source": [
    "There are three ways to call **range()**:\n",
    "\n",
    "* **range(stop)** takes one argument\n",
    "* **range(start, stop)** takes two arguments\n",
    "* **range(start, stop, step)** takes three arguments\n",
    "\n",
    "In fact, **range()** returns a \"lazy\" iterable (Yes, this is difficult now). You need to understand the following: \n",
    "* range() can be iterated over (so it is an iterable object)\n",
    "* range() does not keep all its objects in memory, but retrieves them \"on demand\" (just like an iterator!)\n",
    "* But there are a number of differences that make range() look like sequences (lists, tuples, and strings)"
   ]
  },
  {
   "cell_type": "code",
   "execution_count": 62,
   "metadata": {},
   "outputs": [
    {
     "data": {
      "text/plain": [
       "[0, 1, 2, 3, 4, 5, 6, 7, 8, 9]"
      ]
     },
     "execution_count": 62,
     "metadata": {},
     "output_type": "execute_result"
    }
   ],
   "source": [
    "list(range(10))"
   ]
  },
  {
   "cell_type": "code",
   "execution_count": 63,
   "metadata": {},
   "outputs": [
    {
     "data": {
      "text/plain": [
       "[1, 2, 3, 4, 5, 6, 7, 8, 9, 10]"
      ]
     },
     "execution_count": 63,
     "metadata": {},
     "output_type": "execute_result"
    }
   ],
   "source": [
    "list(range(1, 11))"
   ]
  },
  {
   "cell_type": "code",
   "execution_count": 66,
   "metadata": {},
   "outputs": [
    {
     "data": {
      "text/plain": [
       "[1, 3, 5, 7, 9, 11]"
      ]
     },
     "execution_count": 66,
     "metadata": {},
     "output_type": "execute_result"
    }
   ],
   "source": [
    "list(range(1, 12, 2))"
   ]
  },
  {
   "cell_type": "code",
   "execution_count": 67,
   "metadata": {},
   "outputs": [
    {
     "data": {
      "text/plain": [
       "range(0, 10)"
      ]
     },
     "execution_count": 67,
     "metadata": {},
     "output_type": "execute_result"
    }
   ],
   "source": [
    "range(10)"
   ]
  },
  {
   "cell_type": "code",
   "execution_count": 74,
   "metadata": {},
   "outputs": [
    {
     "name": "stdout",
     "output_type": "stream",
     "text": [
      "1\n",
      "2\n",
      "3\n",
      "4\n",
      "7\n",
      "49\n",
      "4\n",
      "23\n",
      "63\n",
      "28\n",
      "28\n"
     ]
    }
   ],
   "source": [
    "for i in range(11):\n",
    "    print(x[i])"
   ]
  },
  {
   "cell_type": "code",
   "execution_count": 91,
   "metadata": {},
   "outputs": [
    {
     "name": "stdout",
     "output_type": "stream",
     "text": [
      "0\n",
      "2\n",
      "4\n",
      "6\n",
      "8\n"
     ]
    }
   ],
   "source": [
    "for i in range(0, 10, 2):\n",
    "    print(i)"
   ]
  },
  {
   "cell_type": "code",
   "execution_count": 87,
   "metadata": {},
   "outputs": [
    {
     "name": "stdout",
     "output_type": "stream",
     "text": [
      "10\n",
      "9\n",
      "8\n",
      "7\n",
      "6\n",
      "5\n",
      "4\n",
      "3\n",
      "2\n",
      "1\n"
     ]
    }
   ],
   "source": [
    "# step can also be negative if start > finish\n",
    "for i in range(10, 0, -1):\n",
    "    print(i)"
   ]
  },
  {
   "cell_type": "code",
   "execution_count": 90,
   "metadata": {},
   "outputs": [
    {
     "name": "stdout",
     "output_type": "stream",
     "text": [
      "19\n",
      "18\n",
      "17\n",
      "16\n",
      "15\n",
      "14\n",
      "13\n",
      "12\n",
      "11\n",
      "10\n"
     ]
    }
   ],
   "source": [
    "for i in range(19, 9, -1):\n",
    "    print(i)"
   ]
  }
 ],
 "metadata": {
  "kernelspec": {
   "display_name": "Python 3",
   "language": "python",
   "name": "python3"
  },
  "language_info": {
   "codemirror_mode": {
    "name": "ipython",
    "version": 3
   },
   "file_extension": ".py",
   "mimetype": "text/x-python",
   "name": "python",
   "nbconvert_exporter": "python",
   "pygments_lexer": "ipython3",
   "version": "3.6.6"
  },
  "toc": {
   "base_numbering": 1,
   "nav_menu": {},
   "number_sections": true,
   "sideBar": true,
   "skip_h1_title": false,
   "title_cell": "Table of Contents",
   "title_sidebar": "Contents",
   "toc_cell": true,
   "toc_position": {},
   "toc_section_display": true,
   "toc_window_display": true
  }
 },
 "nbformat": 4,
 "nbformat_minor": 4
}
