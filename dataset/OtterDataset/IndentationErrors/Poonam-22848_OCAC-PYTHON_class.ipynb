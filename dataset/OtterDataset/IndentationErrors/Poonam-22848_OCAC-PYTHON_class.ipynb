{
 "cells": [
  {
   "cell_type": "code",
   "execution_count": 1,
   "id": "a8fdec31-3de2-410e-960a-871e0eb980dd",
   "metadata": {},
   "outputs": [
    {
     "name": "stdout",
     "output_type": "stream",
     "text": [
      "Hello poonam 5\n"
     ]
    }
   ],
   "source": [
    "class Myclass:\n",
    "    x = 5\n",
    "    print(\"Hello poonam\",x)"
   ]
  },
  {
   "cell_type": "code",
   "execution_count": 2,
   "id": "174eabb0-4bad-4129-9d63-c621a1d2b3e9",
   "metadata": {},
   "outputs": [
    {
     "name": "stdout",
     "output_type": "stream",
     "text": [
      "5\n"
     ]
    }
   ],
   "source": [
    "p1 = Myclass()\n",
    "print(p1.x)"
   ]
  },
  {
   "cell_type": "code",
   "execution_count": 3,
   "id": "c0c7d8c8-47b0-4434-9581-044e0c79767e",
   "metadata": {},
   "outputs": [
    {
     "name": "stdout",
     "output_type": "stream",
     "text": [
      "5\n"
     ]
    }
   ],
   "source": [
    "y=Myclass()\n",
    "print(p1.x)"
   ]
  },
  {
   "cell_type": "code",
   "execution_count": 4,
   "id": "559fd43a-c6fd-4c8e-a295-ef73e974d827",
   "metadata": {},
   "outputs": [
    {
     "name": "stdout",
     "output_type": "stream",
     "text": [
      "5\n",
      "<class '__main__.Myclass'>\n"
     ]
    }
   ],
   "source": [
    "y=Myclass()\n",
    "print(p1.x)\n",
    "print(type(y))"
   ]
  },
  {
   "cell_type": "code",
   "execution_count": 8,
   "id": "279d3450-4b5b-439e-9ca5-610e9d512e10",
   "metadata": {},
   "outputs": [
    {
     "name": "stdout",
     "output_type": "stream",
     "text": [
      "Hello poonam\n",
      "<class '__main__.students'>\n"
     ]
    }
   ],
   "source": [
    "class students:\n",
    "    print(\"Hello poonam\")\n",
    "\n",
    "z = students()\n",
    "print(type(z))"
   ]
  },
  {
   "cell_type": "code",
   "execution_count": 9,
   "id": "d2be18c7-0a8d-4d8c-aaf3-47c041c7d5e9",
   "metadata": {},
   "outputs": [
    {
     "name": "stdout",
     "output_type": "stream",
     "text": [
      "Hello welcome to OCAC\n"
     ]
    }
   ],
   "source": [
    "class student:\n",
    "    def func():\n",
    "        print(\"Hello welcome to OCAC\")\n",
    "\n",
    "student.func()\n",
    "\n",
    "\n",
    "\n"
   ]
  },
  {
   "cell_type": "code",
   "execution_count": 11,
   "id": "65e141bc-a5bd-431e-a85e-212b8903cab9",
   "metadata": {},
   "outputs": [
    {
     "ename": "IndentationError",
     "evalue": "unindent does not match any outer indentation level (<tokenize>, line 5)",
     "output_type": "error",
     "traceback": [
      "\u001b[1;36m  File \u001b[1;32m<tokenize>:5\u001b[1;36m\u001b[0m\n\u001b[1;33m    x = student()\u001b[0m\n\u001b[1;37m    ^\u001b[0m\n\u001b[1;31mIndentationError\u001b[0m\u001b[1;31m:\u001b[0m unindent does not match any outer indentation level\n"
     ]
    }
   ],
   "source": [
    "class student:\n",
    "    year = 2024\n",
    "    def func(self):\n",
    "        print(\"Hello, Welcome to OCAC\",self.year)\n",
    " x = student()\n",
    "x.func()"
   ]
  },
  {
   "cell_type": "code",
   "execution_count": 12,
   "id": "f6fee7ac-4d86-445e-ac20-70586156c443",
   "metadata": {},
   "outputs": [
    {
     "data": {
      "text/plain": [
       "<function __main__.student.func()>"
      ]
     },
     "execution_count": 12,
     "metadata": {},
     "output_type": "execute_result"
    }
   ],
   "source": [
    "student.func"
   ]
  },
  {
   "cell_type": "code",
   "execution_count": 13,
   "id": "6e797f8e-6121-4baf-8808-f24738499f24",
   "metadata": {},
   "outputs": [
    {
     "name": "stdout",
     "output_type": "stream",
     "text": [
      "Hello welcome to OCAC\n"
     ]
    }
   ],
   "source": [
    "student.func()"
   ]
  },
  {
   "cell_type": "code",
   "execution_count": 15,
   "id": "1c48de0f-8faf-4f4e-98ca-0e3c03d6ac6c",
   "metadata": {},
   "outputs": [
    {
     "ename": "SyntaxError",
     "evalue": "invalid syntax (1083853214.py, line 2)",
     "output_type": "error",
     "traceback": [
      "\u001b[1;36m  Cell \u001b[1;32mIn[15], line 2\u001b[1;36m\u001b[0m\n\u001b[1;33m    def_init_(self, name, age):\u001b[0m\n\u001b[1;37m                              ^\u001b[0m\n\u001b[1;31mSyntaxError\u001b[0m\u001b[1;31m:\u001b[0m invalid syntax\n"
     ]
    }
   ],
   "source": [
    "class person:\n",
    "    def_init_(self, name, age):\n",
    "    self.name = name\n",
    "    self.age = age\n",
    "\n",
    "def myfunc(self):\n",
    "    print(\"Hello my name is\" + self.name)\n",
    "\n",
    "p1 = Person(\"poonam\", 45)\n",
    "p1.myfunc()\n",
    "       "
   ]
  },
  {
   "cell_type": "code",
   "execution_count": 16,
   "id": "5428a73e-79aa-4dbe-8b9d-18a025936ed7",
   "metadata": {},
   "outputs": [
    {
     "ename": "SyntaxError",
     "evalue": "invalid syntax (1671424181.py, line 2)",
     "output_type": "error",
     "traceback": [
      "\u001b[1;36m  Cell \u001b[1;32mIn[16], line 2\u001b[1;36m\u001b[0m\n\u001b[1;33m    def_init_(self, name):\u001b[0m\n\u001b[1;37m                         ^\u001b[0m\n\u001b[1;31mSyntaxError\u001b[0m\u001b[1;31m:\u001b[0m invalid syntax\n"
     ]
    }
   ],
   "source": [
    "class student:\n",
    "    def_init_(self, name):\n",
    "        self.name = name\n",
    "          self.age = age\n",
    "p1 = person(\"john\",36)\n",
    "\n",
    "print(p1.name)\n",
    "print(p1.age)"
   ]
  },
  {
   "cell_type": "code",
   "execution_count": 1,
   "id": "a22db36b-71f8-4776-8308-e5999a5bdb3c",
   "metadata": {},
   "outputs": [
    {
     "ename": "SyntaxError",
     "evalue": "invalid syntax (519004874.py, line 3)",
     "output_type": "error",
     "traceback": [
      "\u001b[1;36m  Cell \u001b[1;32mIn[1], line 3\u001b[1;36m\u001b[0m\n\u001b[1;33m    def_init_(self, marks):\u001b[0m\n\u001b[1;37m                          ^\u001b[0m\n\u001b[1;31mSyntaxError\u001b[0m\u001b[1;31m:\u001b[0m invalid syntax\n"
     ]
    }
   ],
   "source": [
    "class student:\n",
    "    Total = 500 # class variable\n",
    "def_init_(self, marks):\n",
    "    self.marks = marks \n",
    "     print(\"Initialized....\")\n",
    "def findLoss(self):\n",
    "    return self.Total - self.marks\n",
    "\n",
    "def findpercentage(self):\n",
    "    return (self.marks/ self.Total) * 100"
   ]
  },
  {
   "cell_type": "code",
   "execution_count": null,
   "id": "b7a7e8af-a425-4fc1-9d0c-dab2163d2523",
   "metadata": {},
   "outputs": [],
   "source": []
  }
 ],
 "metadata": {
  "kernelspec": {
   "display_name": "Python 3 (ipykernel)",
   "language": "python",
   "name": "python3"
  },
  "language_info": {
   "codemirror_mode": {
    "name": "ipython",
    "version": 3
   },
   "file_extension": ".py",
   "mimetype": "text/x-python",
   "name": "python",
   "nbconvert_exporter": "python",
   "pygments_lexer": "ipython3",
   "version": "3.11.7"
  }
 },
 "nbformat": 4,
 "nbformat_minor": 5
}
