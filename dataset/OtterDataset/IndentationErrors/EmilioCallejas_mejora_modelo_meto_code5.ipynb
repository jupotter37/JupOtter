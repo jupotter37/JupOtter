{
 "cells": [
  {
   "cell_type": "code",
   "execution_count": 7,
   "id": "c2d46aba-994b-4be1-b821-0e474b67b51a",
   "metadata": {},
   "outputs": [
    {
     "name": "stdout",
     "output_type": "stream",
     "text": [
      "       Voc    jSC    Vmax   jMax       FF   PCE %\n",
      "up  1.0960 -1.598  0.6535 -1.184  44.1784  0.7737\n",
      "dw  1.2065 -1.243  0.6535 -0.811  35.3401  0.5300\n"
     ]
    }
   ],
   "source": [
    "import pandas as pd\n",
    "import numpy as np\n",
    "###### creamos el dataframe ##\n",
    "\n",
    "#pklName = 'celda1_ciclo 38_23-10-2024.pkl'\n",
    "pklName = 'celda1_ciclo 2_09-09-2024.pkl'\n",
    "df1 = pd.read_pickle(pklName)\n",
    "df1 = df1.rename(columns={\"Iup\": \"iUp\", \"Idw\": \"iDw\"})       \n",
    "\n",
    "Ama = 1.0\n",
    "df1[['iUp', 'iDw']] = df1[['iUp', 'iDw']]*1000 \n",
    "\n",
    "\n",
    "###### Encontrar Voc #######\n",
    "## Voc_dw\n",
    "# Encontrar el índice del valor más cercano a 0 entre los valores positivos de la corriente\n",
    "positivos_idw = df1[df1['iDw'] > 0].reset_index(drop=True)\n",
    "row_idw = (positivos_idw['iDw']).idxmin()\n",
    "\n",
    "voc_dw = df1['Vdw'].iloc[row_idw]\n",
    "\n",
    "## Voc_up\n",
    "# Encontrar el índice del valor más cercano a 0 entre los valores negativos de la corriente\n",
    "negativos_iup = df1[df1['iUp'] < 0].reset_index(drop=True)\n",
    "row_iup = (negativos_iup['iUp']).idxmax()\n",
    "\n",
    "voc_up = df1['Vup'].iloc[row_iup]\n",
    "\n",
    "###### Encontrar jSC ####\n",
    "\n",
    "## jsc_dw\n",
    "jsc_dw = df1['iDw'].iloc[48]\n",
    "\n",
    "## jsc_up\n",
    "jsc_up = df1['iUp'].iloc[0]\n",
    "\n",
    "############ CALCULAMOS valores maximos ####\n",
    "\n",
    "def productMask(df, x_var, y_var):\n",
    "    \"\"\"Encuentra la posición (entera) donde el producto absoluto entre dos columnas es máximo.\"\"\"\n",
    "    # Filtrar las filas donde y_var < 0\n",
    "    mask = df[y_var] < 0\n",
    "\n",
    "    # Calcular el producto absoluto de las columnas filtradas\n",
    "    product = (df.loc[mask, x_var] * df.loc[mask, y_var]).abs()\n",
    "\n",
    "    # Obtener el índice del máximo valor\n",
    "    max_idx = product.idxmax()\n",
    "\n",
    "    # Convertir el índice al número de posición (entero) para usarlo con iloc\n",
    "    return df.index.get_loc(max_idx)\n",
    "    \n",
    "Vmax_up = df1['Vup'].iloc[productMask(df1, 'Vup', 'iUp')]\n",
    "jMax_up = df1['iUp'].iloc[productMask(df1, 'Vup', 'iUp')] / Ama\n",
    "\n",
    "Vmax_dw = df1['Vdw'].iloc[productMask(df1, 'Vdw', 'iDw')]\n",
    "jMax_dw = df1['iDw'].iloc[productMask(df1, 'Vdw', 'iDw')] / Ama\n",
    "\n",
    "\n",
    "#### guardamso los valores de voltaje y corriente caracteristicos del ciclo ###\n",
    "\n",
    "Voc = [voc_up, voc_dw] \n",
    "jSC = [jsc_up, jsc_dw]\n",
    "\n",
    "Vmax = [Vmax_up, Vmax_dw]\n",
    "jMax = [jMax_up, jMax_dw]\n",
    "\n",
    "###### calculamos los valores de las funciones FF PCE\n",
    "\n",
    "def PCE(Vmax, jmax, Pin=100.0):                       # Eficiencia\n",
    "    return np.abs((100.0*Vmax*jmax) / (Pin))              # [%]  ;  Pin: dato piranómetro ; (lab) P_In = 100 mW/cm^2 = 100 V*mA/cm^2\n",
    "\n",
    "def FF(Vmax, jmax, Voc, jSC):\n",
    "    return 100*(Vmax*jmax) / (Voc*jSC)                      # Adimensional\n",
    "\n",
    "#Calling our functions\n",
    "FF_up = round(FF(Vmax[0], jMax[0], Voc[0], jSC[0]), 4)\n",
    "FF_dw = round(FF(Vmax[1], jMax[1], Voc[1], jSC[1]), 4)\n",
    "\n",
    "PCE_up = round(PCE(Vmax[0], jMax[0]),4)\n",
    "PCE_dw = round(PCE(Vmax[1], jMax[1]),4)\n",
    "\n",
    "\n",
    "Ff = [FF_up, FF_dw] ; Pce = [PCE_up, PCE_dw]\n",
    "\n",
    "\n",
    "####### creamos el dataframe de salida\n",
    "data = {\n",
    "    'Voc': pd.Series(Voc), \n",
    "    'jSC': pd.Series(jSC), \n",
    "    'Vmax': pd.Series(Vmax), \n",
    "    'jMax': pd.Series(jMax),\n",
    "    'FF': pd.Series(Ff),\n",
    "    'PCE %' : pd.Series(Pce)}\n",
    "   \n",
    "\n",
    "df_final = pd.DataFrame(data)\n",
    "# Asignar los nombres al índice\n",
    "df_final.index = ['up', 'dw']\n",
    "\n",
    "print(df_final)\n"
   ]
  },
  {
   "cell_type": "code",
   "execution_count": 16,
   "id": "d171e222-04db-46ab-9006-003025fe476d",
   "metadata": {
    "collapsed": true,
    "jupyter": {
     "outputs_hidden": true,
     "source_hidden": true
    },
    "scrolled": true
   },
   "outputs": [
    {
     "name": "stdout",
     "output_type": "stream",
     "text": [
      "0.6535\n",
      "1.096\n",
      "44.466782\n",
      "44.46678213534578\n"
     ]
    }
   ],
   "source": [
    "\n",
    "Vmax = [Vmax_up, Vmax_dw]\n",
    "jMax = [jMax_up, jMax_dw]\n",
    "\n",
    "def FF(Vmax, jmax, Voc, jSC):\n",
    "    return 100*(Vmax*jmax) / (Voc*jSC)                      # Adimensional\n",
    "\n",
    "FF_up = round(FF(Vmax[0], jMax[0], Voc[0], jSC[0]), 6)\n",
    "#FF_dw = round(FF(Vmax[1], jMax[1], Voc[1], jSC[1]), 2)\n",
    "FFUP= 100*(Vmax_up * jMax_up) / (voc_up * jsc_up)\n",
    "#Ffup = 100 * ( Vmax[0]* jMax[0]) / (Voc[0] * jsc )\n",
    "print(Vmax[0])\n",
    "print(Voc[0])\n",
    "print(FF_up)\n",
    "print(FFUP)"
   ]
  },
  {
   "cell_type": "code",
   "execution_count": null,
   "id": "2b983e48-b038-494d-adba-16b4fb4a87cc",
   "metadata": {},
   "outputs": [],
   "source": [
    "ciclo 38\n",
    "\n",
    "       Voc    jSC    Vmax   jMax       FF   PCE %     Hi\n",
    "up  1.1515 -1.947  0.6535 -1.452  42.3236  0.9489  2.293\n",
    "dw  1.1515 -1.654  0.7090 -1.123  41.8048  0.7962    NaN\n"
   ]
  },
  {
   "cell_type": "code",
   "execution_count": 6,
   "id": "1dbd9dd6-2455-4d71-8584-074fed6cdc62",
   "metadata": {},
   "outputs": [
    {
     "ename": "IndentationError",
     "evalue": "unexpected indent (879547576.py, line 3)",
     "output_type": "error",
     "traceback": [
      "\u001b[0;36m  Cell \u001b[0;32mIn[6], line 3\u001b[0;36m\u001b[0m\n\u001b[0;31m    Voc    jSC    Vmax   jMax      FF   PCE %      Hi\u001b[0m\n\u001b[0m    ^\u001b[0m\n\u001b[0;31mIndentationError\u001b[0m\u001b[0;31m:\u001b[0m unexpected indent\n"
     ]
    }
   ],
   "source": [
    "#'1.151', '-1.71', '1.151', '-1.98']\n",
    "\n",
    "    Voc    jSC    Vmax   jMax      FF   PCE %      Hi\n",
    "up  1.1515 -1.987  0.6535 -1.483  42.357  0.9691  2.2632\n",
    "dw  1.1515 -1.735  0.7090 -1.174  41.663  0.8324     NaN\n",
    "\n",
    "\n",
    "\n",
    "Cruces:\n",
    "JSC   Voc    dw:  -1.7307 , 1.1515\n",
    "             up : -1.9863 ,  1.1515\n",
    "\n",
    "\n",
    "\n",
    "ciclo 1  \n",
    "\n",
    "       Voc    jSC    Vmax   jMax       FF   PCE %\n",
    "up  1.1515 -1.412  0.6535 -1.030  41.3985  0.6731\n",
    "dw  1.2065 -1.150  0.6535 -0.707  33.2997  0.4620"
   ]
  },
  {
   "cell_type": "code",
   "execution_count": null,
   "id": "d37adc71-dbfc-4f1e-9bd2-56cb8a59a991",
   "metadata": {},
   "outputs": [],
   "source": [
    "\n",
    "\n",
    "\n",
    "\n",
    "\n",
    "\n",
    "\n"
   ]
  },
  {
   "cell_type": "code",
   "execution_count": null,
   "id": "7206a415-4c17-46ac-8df8-a2eb23a4eb66",
   "metadata": {},
   "outputs": [],
   "source": []
  },
  {
   "cell_type": "code",
   "execution_count": null,
   "id": "f27c19a3-5ed3-46a9-b535-f70d715ae7c4",
   "metadata": {},
   "outputs": [],
   "source": []
  },
  {
   "cell_type": "code",
   "execution_count": null,
   "id": "31b85391-21ad-4242-8277-d6512dc0ae0c",
   "metadata": {},
   "outputs": [],
   "source": []
  },
  {
   "cell_type": "code",
   "execution_count": null,
   "id": "400e19cc-ba1b-433e-89c1-9ec74a821b0d",
   "metadata": {},
   "outputs": [],
   "source": []
  }
 ],
 "metadata": {
  "kernelspec": {
   "display_name": "Python 3 (ipykernel)",
   "language": "python",
   "name": "python3"
  },
  "language_info": {
   "codemirror_mode": {
    "name": "ipython",
    "version": 3
   },
   "file_extension": ".py",
   "mimetype": "text/x-python",
   "name": "python",
   "nbconvert_exporter": "python",
   "pygments_lexer": "ipython3",
   "version": "3.12.4"
  }
 },
 "nbformat": 4,
 "nbformat_minor": 5
}
