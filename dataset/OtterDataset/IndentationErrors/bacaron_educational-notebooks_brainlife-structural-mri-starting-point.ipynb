{
 "cells": [
  {
   "cell_type": "markdown",
   "id": "0e2fb91f-ed75-4055-8daa-3ff539e35a38",
   "metadata": {},
   "source": [
    "# Structural MRI Analysis using Jupyter Notebooks and Python3 on brainlife.io\n",
    "\n",
    "This example notebook will guide the user through grabbing data for their project from the secondary warehouse, compiling data across the entire project, and analyzing and visualizing the compiled results on brainlife.io via the 'Analysis' tab. This example is written for python3, and uses one of the Python3 notebook types.\n",
    "\n",
    "Within this notebook, I will guide the user through analyses comprising derivatives generated from one of the three main datatypes available on brainlife.io, specifically neuro/anat/t1w. Specifically, I will guide the user through:\n",
    "        \n",
    "    1. Load sample data for parcellation statistics\n",
    "    2. doing some simple data manipulations\n",
    "    3. generating simple visualizations\n",
    "    \n",
    "All of these functions used here are provided in a self-contained python package called \"pybrainlife\" [https://pypi.org/project/pybrainlife/].\n",
    "\n",
    "First thing we'll do is load our python modules, specifically pandas, and pybrainlife!"
   ]
  },
  {
   "cell_type": "markdown",
   "id": "ae257775-c182-43dd-8023-61134b96a37a",
   "metadata": {},
   "source": [
    "### Import pandas and pybrainlife modules"
   ]
  },
  {
   "cell_type": "code",
   "execution_count": 5,
   "id": "047b8de5-a369-4434-b833-fa58d8201f4b",
   "metadata": {},
   "outputs": [],
   "source": [
    "import os,sys\n",
    "import pandas as pd\n",
    "import pybrainlife as pbl\n",
    "from pybrainlife.data.collect import collect_data\n",
    "from pybrainlife.data.collect import collect_subject_data\n",
    "import pybrainlife.data.manipulate as pybldm\n",
    "import pybrainlife.vis.plots as pyblvp\n",
    "import matplotlib.pyplot as plt\n",
    "import matplotlib.colors as mcolors\n",
    "import seaborn as sns\n",
    "import numpy as np\n",
    "import random\n",
    "from scipy.stats import ttest_ind"
   ]
  },
  {
   "cell_type": "markdown",
   "id": "a31bc8e7-a0ba-4346-8228-b170d7be37e2",
   "metadata": {},
   "source": [
    "Next thing we'll do is we'll define some useful functions. Specifically, we will define a few fuctions to peform bootstrapping analyses on the data and plotting the histograms"
   ]
  },
  {
   "cell_type": "markdown",
   "id": "d04161fc-3abc-4333-ae2e-2f6eab420555",
   "metadata": {},
   "source": [
    "### Define some useful functions for this notebook"
   ]
  },
  {
   "cell_type": "code",
   "execution_count": 6,
   "id": "ed40ac31-3148-4ecc-8af5-05ccb82df668",
   "metadata": {},
   "outputs": [],
   "source": [
    "# performs a bootstrapping analysis comparing data from two different groups\n",
    "def bootstrap_analysis_groups(df,group_1,group_2,measures,iterations=1000,sample_size=10,compare_measure='corr'):\n",
    "\n",
    "    compare = 'corr'\n",
    "    if compare_measure == 'ttest':\n",
    "        compare = 'p-value'\n",
    "        \n",
    "    correlation = {}\n",
    "    for meas in measures:\n",
    "        correlation[meas] = []\n",
    "        for i in range(0,iterations):\n",
    "            group_1_df = df.loc[df['classID'] == group_1].sample(sample_size).reset_index(drop=True)\n",
    "            group_2_df = df.loc[df['classID'] == group_2].sample(sample_size).reset_index(drop=True)\n",
    "\n",
    "            if compare_measure == 'ttest':\n",
    "                corr = ttest_ind(group_1_df[meas], group_2_df[meas],equal_var=False)[1]\n",
    "            else:\n",
    "                corr = np.corrcoef(group_1_df[meas].values.tolist(),group_2_df[meas].values.tolist())[0][1]\n",
    "            correlation[meas].append(corr)\n",
    "\n",
    "    corrs = pd.DataFrame()\n",
    "\n",
    "    for meas in measures:\n",
    "        corrs[meas+'_'+compare] = correlation[meas]\n",
    "    \n",
    "    return corrs\n",
    "\n",
    "# performs a bootstrapping analysis within two individual groups comparing between different measures\n",
    "def bootstrap_analysis_within_groups(df,group_1,group_2,measures,iterations=1000,sample_size=10,compare_measure='corr'):\n",
    "\n",
    "    compare = 'corr'\n",
    "    if compare_measure == 'ttest':\n",
    "        compare = 'p-value'\n",
    "\n",
    "    group_1_corrs = {}\n",
    "    group_2_corrs = {}\n",
    "    for meas in range(len(measures)):\n",
    "        for meas_2 in range(len(measures)):\n",
    "            if measures[meas] != measures[meas_2]:\n",
    "                measures_name = measures[meas]+'_'+measures[meas_2]\n",
    "                inv_measures_name = measures[meas_2]+'_'+measures[meas]\n",
    "                if measures_name not in list(group_1_corrs.keys()):\n",
    "                    if inv_measures_name not in list(group_1_corrs.keys()):\n",
    "                        group_1_corrs[measures_name] = []\n",
    "                        group_2_corrs[measures_name] = []\n",
    "                        for i in range(0,iterations):\n",
    "                            group_1_df = df.loc[df['classID'] == group_1].sample(sample_size).reset_index(drop=True)\n",
    "                            group_2_df = df.loc[df['classID'] == group_2].sample(sample_size).reset_index(drop=True)\n",
    "\n",
    "                            if compare_measure == 'ttest':\n",
    "                                corr_group_1 = ttest_ind(group_1_df[measures[meas]],group_1_df[measures[meas_2]],equal_var=False)[1]\n",
    "                                corr_group_2 = ttest_ind(group_2_df[measures[meas]],group_2_df[measures[meas_2]],equal_var=False)[1]\n",
    "                            else:\n",
    "                                corr_group_1 = np.corrcoef(group_1_df[measures[meas]].values.tolist(),group_1_df[measures[meas_2]].values.tolist())[0][1]\n",
    "                                corr_group_2 = np.corrcoef(group_2_df[measures[meas]].values.tolist(),group_2_df[measures[meas_2]].values.tolist())[0][1]\n",
    "                            group_1_corrs[measures_name].append(corr_group_1)\n",
    "                            group_2_corrs[measures_name].append(corr_group_2)\n",
    "\n",
    "    corrs = pd.DataFrame()\n",
    "    for meas in list(group_1_corrs.keys()):\n",
    "        corrs[meas+'_'+compare] = group_1_corrs[meas] + group_2_corrs[meas]\n",
    "        corrs['classID'] = [ group_1 for f in range(len(group_1_corrs[meas])) ] + [ group_2 for f in range(len(group_2_corrs[meas])) ]\n",
    "\n",
    "    return corrs\n",
    "\n",
    "# plots overall data\n",
    "def plot_histogram(df,plot_measure,compare_measure,ax=''):\n",
    "    \n",
    "    if ax == '':\n",
    "        sns.histplot(x=plot_measure,data=df,alpha=0.5)\n",
    "        ax = plt.gca()\n",
    "    else:\n",
    "        sns.histplot(x=plot_measure,data=df,alpha=0.5,ax=ax)\n",
    "\n",
    "    ax.vlines(x=df[plot_measure].mean(),ymin=0,ymax=ax.containers[1].datavalues.max(),linewidth=2,color='r')\n",
    "    ax.text(x=df[plot_measure].max() * .4,y=ax.containers[1].datavalues.max() *.75,s='average '+compare_measure+': %s' %(str(df[plot_measure].mean())))\n",
    "    \n",
    "# plots individual group data\n",
    "def plot_histogram_groups(df,plot_measure,palette='',ax=''):\n",
    "\n",
    "    if ax == '':\n",
    "        if palette != '':\n",
    "            sns.histplot(x=plot_measure,hue='classID',data=df,palette=palette,alpha=0.25)\n",
    "        else:\n",
    "            sns.histplot(x=plot_measure,hue='classID',data=df,alpha=0.25)\n",
    "        ax = plt.gca()\n",
    "    else:\n",
    "        if palette != '':\n",
    "            sns.histplot(x=plot_measure,hue='classID',data=df,palette=palette,alpha=0.25,ax=ax)\n",
    "        else:\n",
    "            sns.histplot(x=plot_measure,hue='classID',data=df,alpha=0.25,ax=ax)\n",
    "\n",
    "    if palette:                                                                                                     9\n",
    "        ax.vlines(x=df.loc[df['classID'] == group_1].mean()[plot_measure],ymin=0,ymax=ax.containers[1].datavalues.max(),color=palette[group_1])\n",
    "        ax.vlines(x=df.loc[df['classID'] == group_2].mean()[plot_measure],ymin=0,ymax=ax.containers[0].datavalues.max(),color=palette[group_2])\n",
    "    else:\n",
    "        ax.vlines(x=df.loc[df['classID'] == group_1].mean()[plot_measure],ymin=0,ymax=ax.containers[1].datavalues.max(),color='r')\n",
    "        ax.vlines(x=df.loc[df['classID'] == group_2].mean()[plot_measure],ymin=0,ymax=ax.containers[0].datavalues.max(),color='g')\n",
    "    \n",
    "#     ax.text(x=df.loc[df['classID'] == group_1][plot_measure].max() * .4,y=ax.containers[0].datavalues.max() *.75,s='average '+group_1+' '+plot_measure.split('_')[-1]+': %s' %(str(df.loc[df['classID'] == group_1][plot_measure].mean())))\n",
    "#     ax.text(x=df.loc[df['classID'] == group_2][plot_measure].max() * .4,y=ax.containers[1].datavalues.max() *.75,s='average '+group_2+' '+plot_measure.split('_')[-1]+': %s' %(str(df.loc[df['classID'] == group_2][plot_measure].mean())))"
   ]
  },
  {
   "cell_type": "markdown",
   "id": "3dd0fd18-8f94-4c32-bc6c-672208895063",
   "metadata": {},
   "source": [
    "### Load sample subjects data\n",
    "\n",
    "Now that we have our modules, imported, we can load our sample datasets!\n",
    "\n",
    "First, we will load our subjects dataframe using pandas! We will also build a column containing a color for each group."
   ]
  },
  {
   "cell_type": "code",
   "execution_count": 7,
   "id": "a98b542b-5330-4c0d-923f-6a2a37f29a87",
   "metadata": {
    "tags": []
   },
   "outputs": [
    {
     "data": {
      "text/html": [
       "<div>\n",
       "<style scoped>\n",
       "    .dataframe tbody tr th:only-of-type {\n",
       "        vertical-align: middle;\n",
       "    }\n",
       "\n",
       "    .dataframe tbody tr th {\n",
       "        vertical-align: top;\n",
       "    }\n",
       "\n",
       "    .dataframe thead th {\n",
       "        text-align: right;\n",
       "    }\n",
       "</style>\n",
       "<table border=\"1\" class=\"dataframe\">\n",
       "  <thead>\n",
       "    <tr style=\"text-align: right;\">\n",
       "      <th></th>\n",
       "      <th>index</th>\n",
       "      <th>subject</th>\n",
       "      <th>diagnosis</th>\n",
       "      <th>age</th>\n",
       "      <th>gender</th>\n",
       "      <th>bart</th>\n",
       "      <th>bht</th>\n",
       "      <th>dwi</th>\n",
       "      <th>pamenc</th>\n",
       "      <th>pamret</th>\n",
       "      <th>...</th>\n",
       "      <th>crt_ne2</th>\n",
       "      <th>crt_time1</th>\n",
       "      <th>crt_err1</th>\n",
       "      <th>crt_pr1</th>\n",
       "      <th>crt_pr2</th>\n",
       "      <th>crt_err2</th>\n",
       "      <th>crt_nm1</th>\n",
       "      <th>crt_time2</th>\n",
       "      <th>crt_nm2</th>\n",
       "      <th>crt_index</th>\n",
       "    </tr>\n",
       "  </thead>\n",
       "  <tbody>\n",
       "    <tr>\n",
       "      <th>127</th>\n",
       "      <td>127</td>\n",
       "      <td>11143</td>\n",
       "      <td>CONTROL</td>\n",
       "      <td>28</td>\n",
       "      <td>M</td>\n",
       "      <td>1.0</td>\n",
       "      <td>1.0</td>\n",
       "      <td>1.0</td>\n",
       "      <td>1.0</td>\n",
       "      <td>1.0</td>\n",
       "      <td>...</td>\n",
       "      <td>0</td>\n",
       "      <td>19</td>\n",
       "      <td>0</td>\n",
       "      <td>0</td>\n",
       "      <td>0</td>\n",
       "      <td>0</td>\n",
       "      <td>1</td>\n",
       "      <td>40</td>\n",
       "      <td>0</td>\n",
       "      <td>1.11</td>\n",
       "    </tr>\n",
       "    <tr>\n",
       "      <th>159</th>\n",
       "      <td>159</td>\n",
       "      <td>50052</td>\n",
       "      <td>SCHZ</td>\n",
       "      <td>45</td>\n",
       "      <td>M</td>\n",
       "      <td>1.0</td>\n",
       "      <td>1.0</td>\n",
       "      <td>1.0</td>\n",
       "      <td>1.0</td>\n",
       "      <td>1.0</td>\n",
       "      <td>...</td>\n",
       "      <td>0</td>\n",
       "      <td>43</td>\n",
       "      <td>0</td>\n",
       "      <td>0</td>\n",
       "      <td>0</td>\n",
       "      <td>0</td>\n",
       "      <td>0</td>\n",
       "      <td>91</td>\n",
       "      <td>0</td>\n",
       "      <td>1.12</td>\n",
       "    </tr>\n",
       "    <tr>\n",
       "      <th>65</th>\n",
       "      <td>65</td>\n",
       "      <td>10680</td>\n",
       "      <td>CONTROL</td>\n",
       "      <td>22</td>\n",
       "      <td>F</td>\n",
       "      <td>1.0</td>\n",
       "      <td>1.0</td>\n",
       "      <td>1.0</td>\n",
       "      <td>1.0</td>\n",
       "      <td>1.0</td>\n",
       "      <td>...</td>\n",
       "      <td>0</td>\n",
       "      <td>20</td>\n",
       "      <td>0</td>\n",
       "      <td>0</td>\n",
       "      <td>0</td>\n",
       "      <td>0</td>\n",
       "      <td>0</td>\n",
       "      <td>39</td>\n",
       "      <td>0</td>\n",
       "      <td>0.95</td>\n",
       "    </tr>\n",
       "    <tr>\n",
       "      <th>114</th>\n",
       "      <td>114</td>\n",
       "      <td>11090</td>\n",
       "      <td>CONTROL</td>\n",
       "      <td>24</td>\n",
       "      <td>M</td>\n",
       "      <td>1.0</td>\n",
       "      <td>1.0</td>\n",
       "      <td>1.0</td>\n",
       "      <td>1.0</td>\n",
       "      <td>1.0</td>\n",
       "      <td>...</td>\n",
       "      <td>0</td>\n",
       "      <td>23</td>\n",
       "      <td>0</td>\n",
       "      <td>0</td>\n",
       "      <td>0</td>\n",
       "      <td>0</td>\n",
       "      <td>1</td>\n",
       "      <td>48</td>\n",
       "      <td>0</td>\n",
       "      <td>1.09</td>\n",
       "    </tr>\n",
       "    <tr>\n",
       "      <th>200</th>\n",
       "      <td>200</td>\n",
       "      <td>60042</td>\n",
       "      <td>BIPOLAR</td>\n",
       "      <td>34</td>\n",
       "      <td>M</td>\n",
       "      <td>1.0</td>\n",
       "      <td>1.0</td>\n",
       "      <td>1.0</td>\n",
       "      <td>1.0</td>\n",
       "      <td>1.0</td>\n",
       "      <td>...</td>\n",
       "      <td>0</td>\n",
       "      <td>37</td>\n",
       "      <td>0</td>\n",
       "      <td>0</td>\n",
       "      <td>0</td>\n",
       "      <td>0</td>\n",
       "      <td>0</td>\n",
       "      <td>66</td>\n",
       "      <td>0</td>\n",
       "      <td>0.78</td>\n",
       "    </tr>\n",
       "    <tr>\n",
       "      <th>230</th>\n",
       "      <td>230</td>\n",
       "      <td>70002</td>\n",
       "      <td>ADHD</td>\n",
       "      <td>44</td>\n",
       "      <td>F</td>\n",
       "      <td>1.0</td>\n",
       "      <td></td>\n",
       "      <td>1.0</td>\n",
       "      <td></td>\n",
       "      <td></td>\n",
       "      <td>...</td>\n",
       "      <td>0</td>\n",
       "      <td>32</td>\n",
       "      <td>0</td>\n",
       "      <td>0</td>\n",
       "      <td>0</td>\n",
       "      <td>1</td>\n",
       "      <td>1</td>\n",
       "      <td>65</td>\n",
       "      <td>0</td>\n",
       "      <td>1.03</td>\n",
       "    </tr>\n",
       "    <tr>\n",
       "      <th>201</th>\n",
       "      <td>201</td>\n",
       "      <td>60043</td>\n",
       "      <td>BIPOLAR</td>\n",
       "      <td>40</td>\n",
       "      <td>F</td>\n",
       "      <td>1.0</td>\n",
       "      <td>1.0</td>\n",
       "      <td>1.0</td>\n",
       "      <td>1.0</td>\n",
       "      <td>1.0</td>\n",
       "      <td>...</td>\n",
       "      <td>0</td>\n",
       "      <td>41</td>\n",
       "      <td>0</td>\n",
       "      <td>0</td>\n",
       "      <td>2</td>\n",
       "      <td>0</td>\n",
       "      <td>0</td>\n",
       "      <td>119</td>\n",
       "      <td>1</td>\n",
       "      <td>1.90</td>\n",
       "    </tr>\n",
       "    <tr>\n",
       "      <th>67</th>\n",
       "      <td>67</td>\n",
       "      <td>10692</td>\n",
       "      <td>CONTROL</td>\n",
       "      <td>28</td>\n",
       "      <td>F</td>\n",
       "      <td>1.0</td>\n",
       "      <td>1.0</td>\n",
       "      <td>1.0</td>\n",
       "      <td>1.0</td>\n",
       "      <td>1.0</td>\n",
       "      <td>...</td>\n",
       "      <td>0</td>\n",
       "      <td>26</td>\n",
       "      <td>0</td>\n",
       "      <td>0</td>\n",
       "      <td>0</td>\n",
       "      <td>0</td>\n",
       "      <td>0</td>\n",
       "      <td>46</td>\n",
       "      <td>0</td>\n",
       "      <td>0.77</td>\n",
       "    </tr>\n",
       "    <tr>\n",
       "      <th>242</th>\n",
       "      <td>242</td>\n",
       "      <td>70034</td>\n",
       "      <td>ADHD</td>\n",
       "      <td>21</td>\n",
       "      <td>F</td>\n",
       "      <td>1.0</td>\n",
       "      <td>1.0</td>\n",
       "      <td>1.0</td>\n",
       "      <td>1.0</td>\n",
       "      <td>1.0</td>\n",
       "      <td>...</td>\n",
       "      <td>0</td>\n",
       "      <td>25</td>\n",
       "      <td>0</td>\n",
       "      <td>0</td>\n",
       "      <td>0</td>\n",
       "      <td>0</td>\n",
       "      <td>0</td>\n",
       "      <td>50</td>\n",
       "      <td>0</td>\n",
       "      <td>1.00</td>\n",
       "    </tr>\n",
       "    <tr>\n",
       "      <th>233</th>\n",
       "      <td>233</td>\n",
       "      <td>70010</td>\n",
       "      <td>ADHD</td>\n",
       "      <td>48</td>\n",
       "      <td>M</td>\n",
       "      <td>1.0</td>\n",
       "      <td>1.0</td>\n",
       "      <td>1.0</td>\n",
       "      <td></td>\n",
       "      <td></td>\n",
       "      <td>...</td>\n",
       "      <td>1</td>\n",
       "      <td>29</td>\n",
       "      <td>0</td>\n",
       "      <td>0</td>\n",
       "      <td>0</td>\n",
       "      <td>0</td>\n",
       "      <td>1</td>\n",
       "      <td>61</td>\n",
       "      <td>0</td>\n",
       "      <td>1.10</td>\n",
       "    </tr>\n",
       "  </tbody>\n",
       "</table>\n",
       "<p>10 rows × 154 columns</p>\n",
       "</div>"
      ],
      "text/plain": [
       "     index subject diagnosis  age gender bart  bht  dwi pamenc pamret  ...  \\\n",
       "127    127   11143   CONTROL   28      M  1.0  1.0  1.0    1.0    1.0  ...   \n",
       "159    159   50052      SCHZ   45      M  1.0  1.0  1.0    1.0    1.0  ...   \n",
       "65      65   10680   CONTROL   22      F  1.0  1.0  1.0    1.0    1.0  ...   \n",
       "114    114   11090   CONTROL   24      M  1.0  1.0  1.0    1.0    1.0  ...   \n",
       "200    200   60042   BIPOLAR   34      M  1.0  1.0  1.0    1.0    1.0  ...   \n",
       "230    230   70002      ADHD   44      F  1.0       1.0                ...   \n",
       "201    201   60043   BIPOLAR   40      F  1.0  1.0  1.0    1.0    1.0  ...   \n",
       "67      67   10692   CONTROL   28      F  1.0  1.0  1.0    1.0    1.0  ...   \n",
       "242    242   70034      ADHD   21      F  1.0  1.0  1.0    1.0    1.0  ...   \n",
       "233    233   70010      ADHD   48      M  1.0  1.0  1.0                ...   \n",
       "\n",
       "    crt_ne2 crt_time1 crt_err1 crt_pr1 crt_pr2  crt_err2 crt_nm1  crt_time2  \\\n",
       "127       0        19        0       0       0         0       1         40   \n",
       "159       0        43        0       0       0         0       0         91   \n",
       "65        0        20        0       0       0         0       0         39   \n",
       "114       0        23        0       0       0         0       1         48   \n",
       "200       0        37        0       0       0         0       0         66   \n",
       "230       0        32        0       0       0         1       1         65   \n",
       "201       0        41        0       0       2         0       0        119   \n",
       "67        0        26        0       0       0         0       0         46   \n",
       "242       0        25        0       0       0         0       0         50   \n",
       "233       1        29        0       0       0         0       1         61   \n",
       "\n",
       "     crt_nm2  crt_index  \n",
       "127        0       1.11  \n",
       "159        0       1.12  \n",
       "65         0       0.95  \n",
       "114        0       1.09  \n",
       "200        0       0.78  \n",
       "230        0       1.03  \n",
       "201        1       1.90  \n",
       "67         0       0.77  \n",
       "242        0       1.00  \n",
       "233        0       1.10  \n",
       "\n",
       "[10 rows x 154 columns]"
      ]
     },
     "execution_count": 7,
     "metadata": {},
     "output_type": "execute_result"
    }
   ],
   "source": [
    "### Load the subjects dataframe\n",
    "## First, let's load the subjects dataframe using the collect_subject_data function in pybrainlife\n",
    "## collect_subject_data():\n",
    "## inputs = path where we would like to save the dataframe. if we don't want to save, just leave blank\n",
    "\n",
    "# load the subjects data\n",
    "subjects_data = collect_subject_data()\n",
    "\n",
    "# remove the index column just to keep things clean\n",
    "\n",
    "# rename the subject column to 'subjectID'\n",
    "\n",
    "# rename the diagnosis column to 'classID'\n",
    "\n",
    "# make sure subjectID column is string\n",
    "\n",
    "### Create a color for each group\n",
    "## first, let's define a color dictionary for each group\n",
    "# make a list of all the unique groups in the dataframe\n",
    "\n",
    "# generate a random color for each group\n",
    "\n",
    "\n",
    "# create a dictionary mapping a color with each group\n",
    "\n",
    "# map the groups_colors dictionary to the classID column to create a new column called colors \n",
    "\n",
    "### Visualize the dataframe \n",
    "## now let's visualize the dataframe to inspect\n",
    "# print out a random sample of 10 rows\n",
    "subjects_data.sample(10).head(10)"
   ]
  },
  {
   "cell_type": "markdown",
   "id": "0e4458d4-c704-46b3-b712-55be40db8cb6",
   "metadata": {
    "tags": []
   },
   "source": [
    "### Cortical analysis\n",
    "Now that we have our subjects information loaded, let's load some actual data!\n",
    "\n",
    "For this notebook, we will load the parc-stats datatype containing all of the morphometric information for the cortical parcellations generated using the \"collect_data\" function from pybrainlife"
   ]
  },
  {
   "cell_type": "code",
   "execution_count": 11,
   "id": "fa49bade-4596-4a2d-a65e-81485e70b12b",
   "metadata": {},
   "outputs": [
    {
     "ename": "IndentationError",
     "evalue": "expected an indented block (4221812274.py, line 26)",
     "output_type": "error",
     "traceback": [
      "\u001b[0;36m  File \u001b[0;32m\"/tmp/ipykernel_128/4221812274.py\"\u001b[0;36m, line \u001b[0;32m26\u001b[0m\n\u001b[0;31m    else:\u001b[0m\n\u001b[0m    ^\u001b[0m\n\u001b[0;31mIndentationError\u001b[0m\u001b[0;31m:\u001b[0m expected an indented block\n"
     ]
    }
   ],
   "source": [
    "## load parc-stats data\n",
    "# function: collect_data()\n",
    "# inputs: datatype = name of the datatype (example: 'parc-stats')\n",
    "#         datatype_tags = list of datatype tags to search for (can leave blank for this analysis)\n",
    "#         tags = list of object tags to search for (can leave blank for this analysis)\n",
    "#         filename = name of the file within the datatype (you can search for this by using the File Viewer on the parc-stats datatype)\n",
    "#         outPath = filepath where to save the concatenated data (can be left blank if you don't want to save the file)\n",
    "#         duplicates = True or False; True = keep duplicates, False = remove duplicates\n",
    "\n",
    "# set the output directory and output filename\n",
    "data_directory = 'data'\n",
    "output_filename = 'cortical-statistics.csv'\n",
    "output_filepath = data_directory+'/'+output_filename\n",
    "\n",
    "# make the output directory if not already made\n",
    "if not os.path.isdir(data_directory):\n",
    "    os.mkdir(data_directory)\n",
    "\n",
    "# if the output file doesn't exist, comb through the warehouse to find the data for the project and concatenate to single dataframe\n",
    "# if it does exist, just load the dataframe\n",
    "if not os.path.isfile(output_filepath):\n",
    "    # collate the data\n",
    "    \n",
    "    # make sure to set subjectID as string\n",
    "    \n",
    "else:\n",
    "    # read the dataframe \n",
    "    \n",
    "    # make sure to set subjectID as string\n",
    "    \n",
    "# merge subjects data frame with tractmeasures\n",
    "\n",
    "# visualize the dataframe\n",
    "cortex_df.sample(10).head(10)"
   ]
  },
  {
   "cell_type": "markdown",
   "id": "e007feb8-3060-412d-8e97-8a86cb303b7d",
   "metadata": {},
   "source": [
    "For this example, let's just look at cortical data from the hcp-mmp-b atlas (i.e. Glasser atlas).\n",
    "\n",
    "To do this, we can just use some simple pandas .loc functionality to identify only those data that correspond to the hcp-mmp-b atlas"
   ]
  },
  {
   "cell_type": "code",
   "execution_count": 9,
   "id": "f4b896fb-cd70-4bfc-9645-106e1b40a700",
   "metadata": {},
   "outputs": [
    {
     "ename": "NameError",
     "evalue": "name 'cortex_df_glasser' is not defined",
     "output_type": "error",
     "traceback": [
      "\u001b[0;31m---------------------------------------------------------------------------\u001b[0m",
      "\u001b[0;31mNameError\u001b[0m                                 Traceback (most recent call last)",
      "\u001b[0;32m/tmp/ipykernel_128/3956600456.py\u001b[0m in \u001b[0;36m<module>\u001b[0;34m\u001b[0m\n\u001b[1;32m      2\u001b[0m \u001b[0;34m\u001b[0m\u001b[0m\n\u001b[1;32m      3\u001b[0m \u001b[0;31m# visualize the dataframe\u001b[0m\u001b[0;34m\u001b[0m\u001b[0;34m\u001b[0m\u001b[0;34m\u001b[0m\u001b[0m\n\u001b[0;32m----> 4\u001b[0;31m \u001b[0mcortex_df_glasser\u001b[0m\u001b[0;34m.\u001b[0m\u001b[0msample\u001b[0m\u001b[0;34m(\u001b[0m\u001b[0;36m10\u001b[0m\u001b[0;34m)\u001b[0m\u001b[0;34m.\u001b[0m\u001b[0mhead\u001b[0m\u001b[0;34m(\u001b[0m\u001b[0;36m10\u001b[0m\u001b[0;34m)\u001b[0m\u001b[0;34m\u001b[0m\u001b[0;34m\u001b[0m\u001b[0m\n\u001b[0m",
      "\u001b[0;31mNameError\u001b[0m: name 'cortex_df_glasser' is not defined"
     ]
    }
   ],
   "source": [
    "## subsample data for only parcels in hcp-mmp-b\n",
    "\n",
    "# visualize the dataframe\n",
    "cortex_df_glasser.sample(10).head(10)"
   ]
  },
  {
   "cell_type": "markdown",
   "id": "ca66ce70-cfbe-4c5a-a581-e926574304cb",
   "metadata": {},
   "source": [
    "# Describe the dataframe"
   ]
  },
  {
   "cell_type": "markdown",
   "id": "143b3700-eb4a-403c-b8eb-4766c4f45433",
   "metadata": {},
   "source": [
    "#### compute mean, min-max, and quantiles of each column using pandas function describe()"
   ]
  },
  {
   "cell_type": "code",
   "execution_count": 802,
   "id": "5b269f29-030e-4094-b19e-e9c49dd61062",
   "metadata": {},
   "outputs": [],
   "source": [
    "cortex_df_glasser.describe()"
   ]
  },
  {
   "cell_type": "markdown",
   "id": "4dcc800a-02fd-4a58-99b5-82332f2e846f",
   "metadata": {},
   "source": [
    "#### compute meta data on the dataframe using pandas function info()"
   ]
  },
  {
   "cell_type": "code",
   "execution_count": 803,
   "id": "da61a387-9d00-4888-b933-854d3b4caecb",
   "metadata": {},
   "outputs": [],
   "source": [
    "cortex_df_glasser.info()"
   ]
  },
  {
   "cell_type": "markdown",
   "id": "58797419-ec0d-4120-a418-e851dbeb136f",
   "metadata": {},
   "source": [
    "#### count the number of parcels for each subject. ideal value == 360"
   ]
  },
  {
   "cell_type": "code",
   "execution_count": 804,
   "id": "2cde356d-a5cf-4039-98a1-d6d20e3c0219",
   "metadata": {},
   "outputs": [],
   "source": [
    "cortex_df_glasser.groupby('subjectID').count()"
   ]
  },
  {
   "cell_type": "markdown",
   "id": "072a6dc8-6987-4d53-9ac9-3d3ddeea7b93",
   "metadata": {},
   "source": [
    "#### count the number of unique subjects per group"
   ]
  },
  {
   "cell_type": "code",
   "execution_count": 805,
   "id": "38cb638f-55ec-4744-98cf-e827be338025",
   "metadata": {},
   "outputs": [],
   "source": [
    "cortex_df_glasser.groupby(['subjectID','classID']).mean().reset_index().groupby(['classID']).count()['subjectID']"
   ]
  },
  {
   "cell_type": "markdown",
   "id": "5537e402-991e-46a4-a791-5f8e1525162c",
   "metadata": {},
   "source": [
    "#### subsample to only the primary visual cortex (V1)"
   ]
  },
  {
   "cell_type": "code",
   "execution_count": 806,
   "id": "317bdfe0-1afe-477f-bbba-b44733890cb7",
   "metadata": {},
   "outputs": [],
   "source": [
    "# grab the v1's from the dataframe\n",
    "regions = ['L_V1_ROI','R_V1_ROI']\n",
    "\n",
    "\n",
    "v1.sample(10).head(10)"
   ]
  },
  {
   "cell_type": "markdown",
   "id": "7f4d7943-2ff7-40de-bf52-d8a3681c3311",
   "metadata": {},
   "source": [
    "#### compute mean across hemispheres"
   ]
  },
  {
   "cell_type": "code",
   "execution_count": 807,
   "id": "4004ee31-cf89-48d5-97f4-f9a4827b92fb",
   "metadata": {},
   "outputs": [],
   "source": [
    "\n",
    "v1_mean"
   ]
  },
  {
   "cell_type": "markdown",
   "id": "4eb9068a-c754-4b7c-87f1-310289a0575a",
   "metadata": {},
   "source": [
    "### Data visualizations\n",
    "\n",
    "Now, let's generate some visualizations to examine differences between groups across multiple brain and behavior measures"
   ]
  },
  {
   "cell_type": "markdown",
   "id": "78c0be31-e9c5-4249-9101-f0b511bde59a",
   "metadata": {},
   "source": [
    "#### v1 morphometrical measures"
   ]
  },
  {
   "cell_type": "code",
   "execution_count": 810,
   "id": "266a6c88-2760-4569-9766-82c8d2404bba",
   "metadata": {},
   "outputs": [],
   "source": [
    "## compute categorical scatter plot for the left and right V1s for gray matter volume and cortical thickness\n",
    "# create a subplot figure with 1 row and 2 columns\n",
    "fig, axes = plt.subplots(1,2,figsize=(10,5),sharex=True)\n",
    "\n",
    "# create a strip plot for each measure\n",
    "sns.stripplot(x='structureID',y='gray_matter_volume_mm^3',data=v1,hue='classID',palette=groups_colors,ax=axes[0],size=5,legend=False)\n",
    "sns.stripplot(x='structureID',y='thickness',data=v1,hue='classID',palette=groups_colors,ax=axes[1],size=5)"
   ]
  },
  {
   "cell_type": "markdown",
   "id": "b049ab78-814d-47bf-bf08-cdc42ef3bbaf",
   "metadata": {},
   "source": [
    "#### behavioral measures"
   ]
  },
  {
   "cell_type": "code",
   "execution_count": 811,
   "id": "48aaa3e6-0e4c-4322-949d-2e91ba8568cd",
   "metadata": {},
   "outputs": [],
   "source": [
    "## compute categorical scatter plot for the left and right V1s for gray matter volume and cortical thickness\n",
    "# create a subplot figure with 1 row and 2 columns\n",
    "fig, axes = plt.subplots(1,2,figsize=(10,5),sharex=True)\n",
    "\n",
    "# create a strip plot for each measure\n"
   ]
  },
  {
   "cell_type": "markdown",
   "id": "aa56c93c-d0f2-47ee-9832-2c03a590ffe6",
   "metadata": {},
   "source": [
    "#### group scatter plots"
   ]
  },
  {
   "cell_type": "code",
   "execution_count": 812,
   "id": "e9aa093f-1643-4e5a-9a96-486edfb3b0cb",
   "metadata": {},
   "outputs": [],
   "source": [
    "## compute categorical scatter plot for group across behavioral and cortical measures\n",
    "# create a subplot figure with 1 row and 3 columns\n",
    "fig, axes = plt.subplots(1,3,figsize=(15,5),sharex=True)\n",
    "\n",
    "# create a strip plot for each measure\n"
   ]
  },
  {
   "cell_type": "markdown",
   "id": "4055ce73-f104-4376-a678-24435639877e",
   "metadata": {},
   "source": [
    "It looks like there's a difference in the behavioral measures between our groups! Let's investigate a bit more!"
   ]
  },
  {
   "cell_type": "code",
   "execution_count": 815,
   "id": "c7e4277c-16fe-46e8-98be-041d523bc02b",
   "metadata": {},
   "outputs": [],
   "source": [
    "# generate a histogram for each group for the v42dr_totalraw measure\n"
   ]
  },
  {
   "cell_type": "markdown",
   "id": "15abf809-ff5c-451e-8226-caff4ac68fc0",
   "metadata": {},
   "source": [
    "Let's quantify the differences in our measures of interest. Because we have unequal sample sizes, we can use a bootstrapping procedure and compute ttests from random samples of data from each group. We will be using our pre-defined functions from above, specifically 'bootstrap_analysis_groups' to perform the bootstrapping analysis and 'plot_histogram' to plot the results"
   ]
  },
  {
   "cell_type": "code",
   "execution_count": 814,
   "id": "44220c9a-d0e7-4eb7-b188-f57c13c2279c",
   "metadata": {},
   "outputs": [],
   "source": [
    "# define our input variables\n",
    "df = v1_mean\n",
    "group_1 = 'CONTROL'\n",
    "group_2 = 'SCHZ'\n",
    "measures = ['gray_matter_volume_mm^3','thickness','vr2dr_totalraw']\n",
    "compare_measure = 'ttest'\n",
    "iterations = 1000\n",
    "\n",
    "# perform our bootstrapping analysis\n",
    "\n",
    "# visualize the results\n"
   ]
  },
  {
   "cell_type": "markdown",
   "id": "ad8f6acc-7e04-4f79-a47c-947bbec236c4",
   "metadata": {},
   "source": [
    "As we can see from the data, it appears there's a statistically significant difference between our groups in the v42dr_totalraw measure!"
   ]
  },
  {
   "cell_type": "markdown",
   "id": "ca786c01-d587-4491-8153-42045cf36965",
   "metadata": {},
   "source": [
    "Next, let's see if we can identify any relationships between measures within each group"
   ]
  },
  {
   "cell_type": "code",
   "execution_count": 813,
   "id": "5e38addb-6008-4b90-9e0c-1cd38327e187",
   "metadata": {},
   "outputs": [],
   "source": [
    "# define our input variables\n",
    "df = v1_mean\n",
    "group_1 = 'CONTROL'\n",
    "group_2 = 'SCHZ'\n",
    "measures = measures\n",
    "compare_measure = 'corr'\n",
    "iterations = 1000\n",
    "\n",
    "# perform our bootstrapping analysis\n",
    "\n",
    "# visualize the results\n"
   ]
  },
  {
   "cell_type": "markdown",
   "id": "d3cd7c71-8d96-4a9b-8640-3991058f7e9e",
   "metadata": {},
   "source": [
    "#### let's look at the actual scatterplots"
   ]
  },
  {
   "cell_type": "code",
   "execution_count": 816,
   "id": "29f09ccb-4040-451b-8323-f77ea37c3f9e",
   "metadata": {},
   "outputs": [],
   "source": [
    "# create a linear regression plot for the overall data between variables of interest\n"
   ]
  },
  {
   "cell_type": "code",
   "execution_count": 817,
   "id": "2e9d73d0-eb78-4a76-af08-6c427590784a",
   "metadata": {},
   "outputs": [],
   "source": [
    "# create a linear regression plot for the each group data between variables of interest\n"
   ]
  },
  {
   "cell_type": "markdown",
   "id": "67053965-ff28-43b7-9b8e-dc4c632b43cf",
   "metadata": {},
   "source": [
    "## You've now completed your first set of analyses on brainlife.io using the jupyter notebooks!"
   ]
  }
 ],
 "metadata": {
  "kernelspec": {
   "display_name": "Python 3 (ipykernel)",
   "language": "python",
   "name": "python3"
  },
  "language_info": {
   "codemirror_mode": {
    "name": "ipython",
    "version": 3
   },
   "file_extension": ".py",
   "mimetype": "text/x-python",
   "name": "python",
   "nbconvert_exporter": "python",
   "pygments_lexer": "ipython3",
   "version": "3.9.5"
  }
 },
 "nbformat": 4,
 "nbformat_minor": 5
}
