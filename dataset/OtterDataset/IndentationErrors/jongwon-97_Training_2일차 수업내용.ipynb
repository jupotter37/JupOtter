{
  "cells": [
    {
      "cell_type": "code",
      "execution_count": null,
      "metadata": {
        "colab": {
          "base_uri": "https://localhost:8080/",
          "height": 90
        },
        "id": "ytd-TBFAgLof",
        "outputId": "747a9fb4-4126-4d8d-b0eb-bc05510706b2"
      },
      "outputs": [
        {
          "name": "stdout",
          "output_type": "stream",
          "text": [
            "성적을 입력하시오: 2\n",
            "불합격입니다\n",
            "5\n"
          ]
        },
        {
          "output_type": "execute_result",
          "data": {
            "text/plain": [
              "'5'"
            ],
            "application/vnd.google.colaboratory.intrinsic+json": {
              "type": "string"
            }
          },
          "metadata": {},
          "execution_count": 19
        }
      ],
      "source": [
        "score = int(input(\"성적을 입력하시오: \"))\n",
        "if score >= 60:\n",
        "            print(\"합격입니다.\")\n",
        "else:\n",
        "          print(\"불합격입니다\")\n",
        "input()"
      ]
    },
    {
      "cell_type": "code",
      "execution_count": null,
      "metadata": {
        "colab": {
          "base_uri": "https://localhost:8080/"
        },
        "id": "0bhLxGkVhS29",
        "outputId": "85b747c1-ad8e-43c6-ebbc-42fbc7ddff97"
      },
      "outputs": [
        {
          "name": "stdout",
          "output_type": "stream",
          "text": [
            "국어 점수를 입력하시오80\n",
            "영어 점수를 입력하시오90\n",
            "수학 점수를 입력하시오90\n",
            "86.66666666666667\n",
            "\"우수학생입니다.\"\n"
          ]
        }
      ],
      "source": [
        "#국어, 영어, 수학의 점수를 각각 입력받는다.\n",
        "#세 점수의 평균을 출력한다,\n",
        "#세 점수의 평균이 80이상이면 \"우수학생입니다\"라는 문구를 출력한다.\n",
        "korean_score = int(input(\"국어 점수를 입력하시오\"))\n",
        "english_score = int(input(\"영어 점수를 입력하시오\"))\n",
        "math_score = int(input(\"수학 점수를 입력하시오\"))\n",
        "\n",
        "everadge_score=(korean_score+english_score+math_score)/3\n",
        "print(everadge_score)\n",
        "\n",
        "if everadge_score>=80:\n",
        "    print('\"우수학생입니다.\"')\n",
        "else :\n",
        "  print('\"노력하세요.\"')\n"
      ]
    },
    {
      "cell_type": "code",
      "execution_count": null,
      "metadata": {
        "id": "ji8vfoKEi8gn"
      },
      "outputs": [],
      "source": [
        "scores = [\n",
        "    [60, 70, 80],\n",
        "    [80, 10, 40],\n",
        "    [40, 70, 90],\n",
        "    [60, 50, 50]\n",
        "]\n",
        "#2차원 배열로 각 학생의 국어, 영어, 수학 점수를 작성하였다.\n",
        "#국어 점수가 60점 이상인 학생의 수학 평균을 구하여라\n"
      ]
    },
    {
      "cell_type": "code",
      "execution_count": null,
      "metadata": {
        "colab": {
          "base_uri": "https://localhost:8080/"
        },
        "id": "2NGQf2vUmgcN",
        "outputId": "578ab965-9214-4263-d962-a9c9275a531f"
      },
      "outputs": [
        {
          "name": "stdout",
          "output_type": "stream",
          "text": [
            "같은팀\n",
            "다른팀\n",
            "같은팀\n"
          ]
        }
      ],
      "source": [
        "students = [\"E10123\",\"E31201\",\"E40156\"]\n",
        "minsu = \"E60134\"\n",
        "# 체육대회 다른학년의 같은 반은 한팀이다.\n",
        "# 학번\"E60134 E:초등학생 6 학년 01 반 34 출석번호\n",
        "# 민수와 학생이 같은팀인지 확인하는 코드 작성\n",
        "\n",
        "if minsu [2:4] == students[0][2:4]:\n",
        "  print(\"같은팀\")\n",
        "else :\n",
        "  print(\"다른팀\")\n",
        "if minsu [2:4] == students[1][2:4]:\n",
        "  print(\"같은팀\")\n",
        "else :\n",
        "  print(\"다른팀\")\n",
        "if minsu [2:4] == students[2][2:4]:\n",
        "  print(\"같은팀\")\n",
        "else :\n",
        "  print(\"다른팀\")"
      ]
    },
    {
      "cell_type": "code",
      "execution_count": null,
      "metadata": {
        "colab": {
          "base_uri": "https://localhost:8080/"
        },
        "id": "pdVyltHxmhcI",
        "outputId": "b9e435bc-f089-447f-b3f4-c00ef9519468"
      },
      "outputs": [
        {
          "name": "stdout",
          "output_type": "stream",
          "text": [
            "같은 팀\n",
            "다른 팀\n",
            "같은 팀\n"
          ]
        }
      ],
      "source": [
        "students = [\"E10123\",\"E31201\",\"E40156\"]\n",
        "minsu = \"E60134\"\n",
        "# 체육대회 다른학년의 같은 반은 한팀이다.\n",
        "# 학번\"E60134 E:초등학생 6 학년 01 반 34 출석번호\n",
        "# 민수와 학생이 같은팀인지 확인하는 코드 작성\n",
        "for i in students :\n",
        "  if minsu[2:4] == i[2:4]:\n",
        "      print(\"같은 팀\")\n",
        "  else :\n",
        "     print(\"다른 팀\")"
      ]
    },
    {
      "cell_type": "code",
      "execution_count": null,
      "metadata": {
        "colab": {
          "background_save": true
        },
        "id": "uhLOv8ttpAZ5",
        "outputId": "27bfd417-c0cb-4dad-a4ed-055016fd4f2b"
      },
      "outputs": [
        {
          "name": "stdout",
          "output_type": "stream",
          "text": [
            "1\n",
            "2\n",
            "3\n",
            "4\n",
            "5\n",
            "6\n",
            "7\n",
            "8\n",
            "9\n",
            "10\n"
          ]
        }
      ],
      "source": [
        "i=1\n",
        "while i <= 10:\n",
        "  print(i)\n",
        "  i=i+1"
      ]
    },
    {
      "cell_type": "code",
      "source": [
        "# for 문을 사용해 구구단 3단\n",
        "i=1\n",
        "for i in range(1,10):\n",
        "  print(3*i)"
      ],
      "metadata": {
        "colab": {
          "base_uri": "https://localhost:8080/"
        },
        "id": "-mEKwugqyWUC",
        "outputId": "a70b9eed-b5c8-4812-c597-0016ac2409ef"
      },
      "execution_count": null,
      "outputs": [
        {
          "output_type": "stream",
          "name": "stdout",
          "text": [
            "3\n",
            "6\n",
            "9\n",
            "12\n",
            "15\n",
            "18\n",
            "21\n",
            "24\n",
            "27\n"
          ]
        }
      ]
    },
    {
      "cell_type": "code",
      "source": [
        "# 체육대회 다른학년의 같은 반은 한팀이다.\n",
        "# 학번\"E60134 E:초등학생 6 학년 01 반 34 출석번호\n",
        "# 민수와 학생이 같은팀인지 확인하는 코드 for 문을 사용해서 작성\n",
        "students = [\"E10123\",\"E31201\",\"E40156\"]\n",
        "minsu = \"E60134\"\n",
        "team=[]\n",
        "team.append(minsu)\n",
        "\n",
        "for i in students :\n",
        "  if minsu[2:4] == i[2:4]:\n",
        "      print(\"같은 반\")\n",
        "      team.append(i)\n",
        "  else :\n",
        "     print(\"다른 반\")\n",
        "print(team)\n"
      ],
      "metadata": {
        "colab": {
          "base_uri": "https://localhost:8080/"
        },
        "id": "lRpaSjWuyngC",
        "outputId": "94cbe60b-1a6b-42cf-d9ca-f20f07ad33e0"
      },
      "execution_count": null,
      "outputs": [
        {
          "output_type": "stream",
          "name": "stdout",
          "text": [
            "같은 반\n",
            "다른 반\n",
            "같은 반\n",
            "['E60134', 'E10123', 'E40156']\n"
          ]
        }
      ]
    },
    {
      "cell_type": "code",
      "source": [
        "#sring s 에 a 가 몇개 들어있는지 확인하는 코드\n",
        "s=\"have a nice day\"\n",
        "count=0\n",
        "for i in s :\n",
        "  if i==\"a\":\n",
        "    count+=1\n",
        "print(count)"
      ],
      "metadata": {
        "colab": {
          "base_uri": "https://localhost:8080/"
        },
        "id": "kvgjT7uRzcOn",
        "outputId": "9487a602-b4c4-49e3-9756-4371d471bf16"
      },
      "execution_count": null,
      "outputs": [
        {
          "output_type": "stream",
          "name": "stdout",
          "text": [
            "3\n"
          ]
        }
      ]
    },
    {
      "cell_type": "code",
      "source": [
        "#sring s 에 입력한영어 가 몇개 들어있는지 확인하는 코드\n",
        "s=\"have a nice day\"\n",
        "count=0\n",
        "data=input(\"영어를 입력하시오\")\n",
        "for i in s :\n",
        "  if i==data:\n",
        "    count+=1\n",
        "print(count)"
      ],
      "metadata": {
        "colab": {
          "base_uri": "https://localhost:8080/"
        },
        "id": "2ZshdLYs2t-m",
        "outputId": "6f76674d-fa6d-41ba-c986-1957cf3f76ad"
      },
      "execution_count": null,
      "outputs": [
        {
          "output_type": "stream",
          "name": "stdout",
          "text": [
            "영어를 입력하시오a\n",
            "3\n"
          ]
        }
      ]
    },
    {
      "cell_type": "code",
      "source": [
        "#1260원을 동전으로 거슬러 줄때,화폐를 최소로 줄수 있게 계산하는 코드\n",
        "\n",
        "#거슬러줘야 하는 총 동전의 갯수를 출력한다\n",
        "\n",
        "money = int(input(\"지불하는 금액을 입력하시오.\"))\n",
        "coin=[10,50,100,500]\n",
        "count=0\n",
        "for i in coin:\n",
        "  count += money//i\n",
        "  money %= i\n",
        "  print(count)"
      ],
      "metadata": {
        "colab": {
          "base_uri": "https://localhost:8080/"
        },
        "id": "0GnVA87_3VsG",
        "outputId": "312fd62d-a2d9-46eb-8d98-f9608cc1b1a1"
      },
      "execution_count": null,
      "outputs": [
        {
          "output_type": "stream",
          "name": "stdout",
          "text": [
            "지불하는 금액을 입력하시오.1260\n",
            "126\n",
            "126\n",
            "126\n",
            "126\n"
          ]
        }
      ]
    },
    {
      "cell_type": "code",
      "source": [
        "scores = list(map(int, input(\"점수를 입력하세요: \").split()))\n",
        "\n",
        "for score in scores:\n",
        "        if score >= 60:\n",
        "            print(\"합격\")\n",
        "        else:\n",
        "            print(\"불합격\")\n"
      ],
      "metadata": {
        "colab": {
          "base_uri": "https://localhost:8080/"
        },
        "id": "8EVhnfID6JO2",
        "outputId": "edd72d06-0c44-41ea-f3cd-ff4e6992c6eb"
      },
      "execution_count": null,
      "outputs": [
        {
          "output_type": "stream",
          "name": "stdout",
          "text": [
            "점수를 입력하세요: 10 88 56 46 100\n",
            "불합격\n",
            "합격\n",
            "불합격\n",
            "불합격\n",
            "합격\n"
          ]
        }
      ]
    },
    {
      "cell_type": "code",
      "source": [
        "scores = list(map(int, input(\"점수를 입력하세요: \").split()))\n",
        "\n",
        "for score in scores:\n",
        "        if score >= 60:\n",
        "            print(\"합격\")\n",
        "        else:\n",
        "            print(\"불합격\")"
      ],
      "metadata": {
        "colab": {
          "base_uri": "https://localhost:8080/"
        },
        "id": "ptWr4W5p6KJW",
        "outputId": "0d834608-5a9b-4fe0-fe6c-67b3cb265597"
      },
      "execution_count": null,
      "outputs": [
        {
          "output_type": "stream",
          "name": "stdout",
          "text": [
            "점수를 입력하세요: 50 20 30 50 60\n",
            "불합격\n",
            "불합격\n",
            "불합격\n",
            "불합격\n",
            "합격\n"
          ]
        }
      ]
    },
    {
      "cell_type": "code",
      "source": [
        "scores = [\n",
        "    [60, 70, 80],\n",
        "    [80, 10, 40],\n",
        "    [40, 70, 90],\n",
        "    [60, 50, 50]\n",
        "]\n",
        "#2차원 배열로 각 학생의 국어, 영어, 수학 점수를 작성하였다.\n",
        "#국어 점수가 60점 이상인 학생의 수학 평균을 정수로 구하여라\n",
        "sum_score = 0   #국어 점수가 60점 이상인 학생의 수학 점수의 합\n",
        "count = 0       #국어 점수가 60점 이상인 학생의 수\n",
        "for i in scores:\n",
        "  #i= scores 에 대입\n",
        "  #i[0]=국어성적\n",
        "  #i[2]=수학성적\n",
        "  if i[0] >= 60 :\n",
        "    sum_score += i[2]\n",
        "    count += 1\n",
        "    print(sum_score,count)\n",
        "\n"
      ],
      "metadata": {
        "colab": {
          "base_uri": "https://localhost:8080/"
        },
        "id": "2pZcy6zH-cs7",
        "outputId": "61544c59-517a-4266-ef69-999b646889e1"
      },
      "execution_count": null,
      "outputs": [
        {
          "output_type": "stream",
          "name": "stdout",
          "text": [
            "80 1\n",
            "120 2\n",
            "170 3\n"
          ]
        }
      ]
    },
    {
      "cell_type": "code",
      "source": [
        "숫자=3.14\n",
        "종류=type(숫자).__name__\n",
        "print(f\"{숫자}는 {종류}입니다.\")"
      ],
      "metadata": {
        "colab": {
          "base_uri": "https://localhost:8080/"
        },
        "id": "utGJi_HOKCew",
        "outputId": "c5eb7469-46cc-4f0a-b9d2-93c71d8dd2a9"
      },
      "execution_count": null,
      "outputs": [
        {
          "output_type": "stream",
          "name": "stdout",
          "text": [
            "3.14는 float입니다.\n"
          ]
        }
      ]
    },
    {
      "cell_type": "code",
      "source": [
        "# 1부터 30까지 숫자를 출력하고, 각 숫지가 3의 배수인지 5의 배수인지 판별하는  예제\n",
        "\n",
        "for i in range(1,31):\n",
        "   if i % 3 == 0 and i % 5 == 0:\n",
        "        print(f\"{i}는 3과 5의 배수입니다.\")\n",
        "     elif i % 3 == 0:\n",
        "        print(f\"{i}는 3의 배수 입니다.\")\n",
        "     elif i % 5 == 0:\n",
        "        print(f\"{i}는 5의 배수 입니다.\")\n",
        "    else:\n",
        "        print(i)"
      ],
      "metadata": {
        "colab": {
          "base_uri": "https://localhost:8080/",
          "height": 110
        },
        "id": "Y4Gond8QAGLx",
        "outputId": "ccc3233b-f29f-4d9e-f12a-f0a63eda2607"
      },
      "execution_count": null,
      "outputs": [
        {
          "output_type": "error",
          "ename": "IndentationError",
          "evalue": "unindent does not match any outer indentation level (<tokenize>, line 6)",
          "traceback": [
            "\u001b[0;36m  File \u001b[0;32m\"<tokenize>\"\u001b[0;36m, line \u001b[0;32m6\u001b[0m\n\u001b[0;31m    elif i % 3 == 0:\u001b[0m\n\u001b[0m    ^\u001b[0m\n\u001b[0;31mIndentationError\u001b[0m\u001b[0;31m:\u001b[0m unindent does not match any outer indentation level\n"
          ]
        }
      ]
    },
    {
      "cell_type": "code",
      "source": [],
      "metadata": {
        "id": "aa6pM2-jNf0V"
      },
      "execution_count": null,
      "outputs": []
    }
  ],
  "metadata": {
    "colab": {
      "provenance": []
    },
    "kernelspec": {
      "display_name": "Python 3",
      "name": "python3"
    },
    "language_info": {
      "name": "python"
    }
  },
  "nbformat": 4,
  "nbformat_minor": 0
}
