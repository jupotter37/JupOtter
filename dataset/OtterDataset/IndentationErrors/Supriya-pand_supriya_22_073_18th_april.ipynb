{
  "nbformat": 4,
  "nbformat_minor": 0,
  "metadata": {
    "colab": {
      "provenance": [],
      "authorship_tag": "ABX9TyOv2/EvhRhQ0kQ6/FevGRXC",
      "include_colab_link": true
    },
    "kernelspec": {
      "name": "python3",
      "display_name": "Python 3"
    },
    "language_info": {
      "name": "python"
    }
  },
  "cells": [
    {
      "cell_type": "markdown",
      "metadata": {
        "id": "view-in-github",
        "colab_type": "text"
      },
      "source": [
        "<a href=\"https://colab.research.google.com/github/Supriya-pand/supriya_22_073/blob/main/18th_april.ipynb\" target=\"_parent\"><img src=\"https://colab.research.google.com/assets/colab-badge.svg\" alt=\"Open In Colab\"/></a>"
      ]
    },
    {
      "cell_type": "code",
      "source": [
        "def gcd_fun(x,y):\n",
        " if(y==0):# it divide every number\n",
        "   return x # return x\n",
        " else:\n",
        "  return gcd_fun(y,x % y)\n",
        "x=int(input(\"Enter  the first number:\")) # take first no\n",
        "y=int(input(\"Enter the second number:\")) # take second no\n",
        "num=gcd_fun(x,y) # call the gcd_fun() to find the result\n",
        "print(\"GCD of two number is:\")\n",
        "print(num)# call num"
      ],
      "metadata": {
        "colab": {
          "base_uri": "https://localhost:8080/"
        },
        "id": "NEtprDlj6-_G",
        "outputId": "9d463e7b-a34e-4a28-a4b0-2a72463e9a7c"
      },
      "execution_count": 17,
      "outputs": [
        {
          "output_type": "stream",
          "name": "stdout",
          "text": [
            "Enter  the first number:8\n",
            "Enter the second number:6\n",
            "GCD of two number is:\n",
            "2\n"
          ]
        }
      ]
    },
    {
      "cell_type": "code",
      "source": [
        "def linear_search(list1,n,key):\n",
        "  # Searching list1 sequentially\n",
        "for i in range(0,n):\n",
        "   if (list1[i]==key):\n",
        "        returni\n",
        "  return-1\n",
        "list1=[1,2,3,4,7,9]\n",
        "key=7\n",
        "n=len(list)\n",
        "res=linear_search(list,n,key)\n",
        "if(res==-1):\n",
        "   print(\"Element not found\")\n",
        "else:\n",
        "  print(\"Element found at index\",res)"
      ],
      "metadata": {
        "colab": {
          "base_uri": "https://localhost:8080/",
          "height": 106
        },
        "id": "gf0X79vxLWrq",
        "outputId": "3c0e2def-cb77-4501-d842-3ed18c604dd5"
      },
      "execution_count": 2,
      "outputs": [
        {
          "output_type": "error",
          "ename": "IndentationError",
          "evalue": "unindent does not match any outer indentation level (<tokenize>, line 6)",
          "traceback": [
            "\u001b[0;36m  File \u001b[0;32m\"<tokenize>\"\u001b[0;36m, line \u001b[0;32m6\u001b[0m\n\u001b[0;31m    return-1\u001b[0m\n\u001b[0m    ^\u001b[0m\n\u001b[0;31mIndentationError\u001b[0m\u001b[0;31m:\u001b[0m unindent does not match any outer indentation level\n"
          ]
        }
      ]
    }
  ]
}