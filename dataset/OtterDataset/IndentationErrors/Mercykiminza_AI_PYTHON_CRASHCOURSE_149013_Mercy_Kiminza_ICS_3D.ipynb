{
  "nbformat": 4,
  "nbformat_minor": 0,
  "metadata": {
    "colab": {
      "provenance": [],
      "authorship_tag": "ABX9TyOZ99ZCVzAcMiqBIfoPUKtE",
      "include_colab_link": true
    },
    "kernelspec": {
      "name": "python3",
      "display_name": "Python 3"
    },
    "language_info": {
      "name": "python"
    }
  },
  "cells": [
    {
      "cell_type": "markdown",
      "metadata": {
        "id": "view-in-github",
        "colab_type": "text"
      },
      "source": [
        "<a href=\"https://colab.research.google.com/github/Mercykiminza/AI/blob/main/PYTHON_CRASHCOURSE_149013_Mercy_Kiminza_ICS_3D.ipynb\" target=\"_parent\"><img src=\"https://colab.research.google.com/assets/colab-badge.svg\" alt=\"Open In Colab\"/></a>"
      ]
    },
    {
      "cell_type": "code",
      "execution_count": null,
      "metadata": {
        "id": "7nFDx1cxxg3q"
      },
      "outputs": [],
      "source": []
    },
    {
      "cell_type": "markdown",
      "source": [
        "Introduction to Python Tutorial"
      ],
      "metadata": {
        "id": "c9VX90qG8qrx"
      }
    },
    {
      "cell_type": "markdown",
      "source": [
        "Print command\n"
      ],
      "metadata": {
        "id": "IjpCMtZh8yDw"
      }
    },
    {
      "cell_type": "code",
      "source": [
        "print(\"Hello world. My first time here!\")"
      ],
      "metadata": {
        "colab": {
          "base_uri": "https://localhost:8080/"
        },
        "id": "tu3tOU3y7swe",
        "outputId": "bebab446-84c2-4452-ac38-caa74eac31c7"
      },
      "execution_count": null,
      "outputs": [
        {
          "output_type": "stream",
          "name": "stdout",
          "text": [
            "Hello world. My first time here!\n"
          ]
        }
      ]
    },
    {
      "cell_type": "code",
      "source": [
        "print(\"My school is amazing\")"
      ],
      "metadata": {
        "colab": {
          "base_uri": "https://localhost:8080/"
        },
        "id": "AOMVHDxb8EwI",
        "outputId": "cc576387-adae-4f30-d01a-5d77a1fcc1b1"
      },
      "execution_count": null,
      "outputs": [
        {
          "output_type": "stream",
          "name": "stdout",
          "text": [
            "My school is amazing\n"
          ]
        }
      ]
    },
    {
      "cell_type": "markdown",
      "source": [
        "Python Syntax\n",
        "Python syntax can be executed by writing directly in the Command Line or by creating a python file on the server, using the .py file extension, and running it in the Command Line\n"
      ],
      "metadata": {
        "id": "WEutp-PqacFu"
      }
    },
    {
      "cell_type": "code",
      "source": [
        "print(\"Hello, World!\")\n"
      ],
      "metadata": {
        "colab": {
          "base_uri": "https://localhost:8080/"
        },
        "id": "7cS3c9aVbPcX",
        "outputId": "2eb17549-3eb1-48c3-a6c9-f3a8665308c8"
      },
      "execution_count": null,
      "outputs": [
        {
          "output_type": "stream",
          "name": "stdout",
          "text": [
            "Hello, World!\n"
          ]
        }
      ]
    },
    {
      "cell_type": "markdown",
      "source": [
        "Python Identation\n",
        "refers to the spaces at the beginning of a code line.\n",
        "The indentation in Python is very important.\n",
        "Python uses indentation to indicate a block of code."
      ],
      "metadata": {
        "id": "eWPLLrBybWCs"
      }
    },
    {
      "cell_type": "code",
      "source": [
        "if 5 > 2:\n",
        "  print(\"Five is greater than two!\")"
      ],
      "metadata": {
        "colab": {
          "base_uri": "https://localhost:8080/"
        },
        "id": "aWqZpqekbjX-",
        "outputId": "4ae892d2-528c-4a8e-cb85-874558957407"
      },
      "execution_count": null,
      "outputs": [
        {
          "output_type": "stream",
          "name": "stdout",
          "text": [
            "Five is greater than two!\n"
          ]
        }
      ]
    },
    {
      "cell_type": "code",
      "source": [
        "if 5 > 9:\n",
        "  print(\"Five is greater than two!\")"
      ],
      "metadata": {
        "id": "pZ60T9AObunE"
      },
      "execution_count": null,
      "outputs": []
    },
    {
      "cell_type": "code",
      "source": [
        "if 5 > 2:\n",
        "print(\"Five is greater than two!\")"
      ],
      "metadata": {
        "colab": {
          "base_uri": "https://localhost:8080/",
          "height": 106
        },
        "id": "mzUQEvgDb0Qx",
        "outputId": "13835ed4-c3ca-4c91-b7d7-f1ddcabec791"
      },
      "execution_count": null,
      "outputs": [
        {
          "output_type": "error",
          "ename": "IndentationError",
          "evalue": "expected an indented block after 'if' statement on line 1 (<ipython-input-9-a314491c53bb>, line 2)",
          "traceback": [
            "\u001b[0;36m  File \u001b[0;32m\"<ipython-input-9-a314491c53bb>\"\u001b[0;36m, line \u001b[0;32m2\u001b[0m\n\u001b[0;31m    print(\"Five is greater than two!\")\u001b[0m\n\u001b[0m    ^\u001b[0m\n\u001b[0;31mIndentationError\u001b[0m\u001b[0;31m:\u001b[0m expected an indented block after 'if' statement on line 1\n"
          ]
        }
      ]
    },
    {
      "cell_type": "markdown",
      "source": [],
      "metadata": {
        "id": "oe3ZXRkCb2za"
      }
    },
    {
      "cell_type": "markdown",
      "source": [
        "Python will give you an error if you skip the indentation as shown above.\n",
        "You have to use the same number of spaces in the same block of code, otherwise Python will give you an error."
      ],
      "metadata": {
        "id": "VbmONKO2b4dq"
      }
    },
    {
      "cell_type": "markdown",
      "source": [
        "Python Variables"
      ],
      "metadata": {
        "id": "YTfdD9VucFuu"
      }
    },
    {
      "cell_type": "markdown",
      "source": [
        "variables are created when you assign a value to it otherwise not yet."
      ],
      "metadata": {
        "id": "IaaTSZpGcIoV"
      }
    },
    {
      "cell_type": "code",
      "source": [
        "x = 5\n",
        "y = \"Hello, World!\""
      ],
      "metadata": {
        "id": "5KF5lB-PcQJ_"
      },
      "execution_count": null,
      "outputs": []
    },
    {
      "cell_type": "markdown",
      "source": [
        "Comments"
      ],
      "metadata": {
        "id": "qSP3Ax88cS2P"
      }
    },
    {
      "cell_type": "markdown",
      "source": [
        "Python has commenting capability for the purpose of in-code documentation.\n",
        "\n",
        "Comments start with a #, and Python will render the rest of the line as a comment."
      ],
      "metadata": {
        "id": "rdYG7IOWcUJr"
      }
    },
    {
      "cell_type": "code",
      "source": [
        "#This is my first comment.\n",
        "print(\"Hello, World!\")"
      ],
      "metadata": {
        "colab": {
          "base_uri": "https://localhost:8080/"
        },
        "id": "cvlWWXVLcbP6",
        "outputId": "5d168a86-4c7a-4f3d-fb36-8655d529e055"
      },
      "execution_count": null,
      "outputs": [
        {
          "output_type": "stream",
          "name": "stdout",
          "text": [
            "Hello, World!\n"
          ]
        }
      ]
    },
    {
      "cell_type": "markdown",
      "source": [
        "Comments can be placed at the end of a line, and Python will ignore the rest of the line.\n",
        "A comment does not have to be text that explains the code, it can also be used to prevent Python from executing code"
      ],
      "metadata": {
        "id": "oTPrXo3YcqSi"
      }
    },
    {
      "cell_type": "code",
      "source": [
        "#print(\"Hello, World!\")\n",
        "print(\"Cheers, Mate!\")#This is a comment at the end of a line"
      ],
      "metadata": {
        "colab": {
          "base_uri": "https://localhost:8080/"
        },
        "id": "AY-6QnqecwEZ",
        "outputId": "5199d65b-f729-4226-90fd-f0e248e5c856"
      },
      "execution_count": null,
      "outputs": [
        {
          "output_type": "stream",
          "name": "stdout",
          "text": [
            "Cheers, Mate!\n"
          ]
        }
      ]
    },
    {
      "cell_type": "code",
      "source": [],
      "metadata": {
        "id": "-IdJknqsc540"
      },
      "execution_count": null,
      "outputs": []
    },
    {
      "cell_type": "markdown",
      "source": [
        "Multiline comments"
      ],
      "metadata": {
        "id": "82xt2EdUc8_n"
      }
    },
    {
      "cell_type": "markdown",
      "source": [
        "Python does not really have a syntax for multiline comments.\n",
        "\n",
        "To add a multiline comment you could insert a # for each line"
      ],
      "metadata": {
        "id": "E_wcfI8zc_QT"
      }
    },
    {
      "cell_type": "code",
      "source": [
        "#This is a comment\n",
        "#written in\n",
        "#more than just one line\n",
        "print(\"This is a multiline comment!\")"
      ],
      "metadata": {
        "colab": {
          "base_uri": "https://localhost:8080/"
        },
        "id": "3ZHeK4m1dDPH",
        "outputId": "7462716b-f1d5-4714-e6e4-a66b14e68b3a"
      },
      "execution_count": null,
      "outputs": [
        {
          "output_type": "stream",
          "name": "stdout",
          "text": [
            "This is a multiline comment!\n"
          ]
        }
      ]
    },
    {
      "cell_type": "markdown",
      "source": [
        "**Python Variables Explained**"
      ],
      "metadata": {
        "id": "bIEhP8ZLeD5A"
      }
    },
    {
      "cell_type": "markdown",
      "source": [
        "Variables are containers for storing data values."
      ],
      "metadata": {
        "id": "NYqj45G-eKW8"
      }
    },
    {
      "cell_type": "markdown",
      "source": [
        "Creating Variables"
      ],
      "metadata": {
        "id": "-Y-DasYsgFbV"
      }
    },
    {
      "cell_type": "markdown",
      "source": [
        "A variable is created the moment you first assign a value to it.Variables do not need to be declared with any particular type, and can even change type after they have been set."
      ],
      "metadata": {
        "id": "5aL7EAB6gHg8"
      }
    },
    {
      "cell_type": "code",
      "source": [
        "x = 5\n",
        "y = \"John\"\n",
        "print(x)\n",
        "print(y)"
      ],
      "metadata": {
        "colab": {
          "base_uri": "https://localhost:8080/"
        },
        "id": "nNwGQXJbgMli",
        "outputId": "5fce1042-ed64-4b4e-acc1-15c77a8826e2"
      },
      "execution_count": null,
      "outputs": [
        {
          "output_type": "stream",
          "name": "stdout",
          "text": [
            "5\n",
            "John\n"
          ]
        }
      ]
    },
    {
      "cell_type": "code",
      "source": [
        "x = 4       # x is of type int\n",
        "x = \"Sally\" # x is now of type str\n",
        "print(x)"
      ],
      "metadata": {
        "colab": {
          "base_uri": "https://localhost:8080/"
        },
        "id": "510375LGgYH7",
        "outputId": "f54b36f4-98d2-44da-9e04-182e15f62be2"
      },
      "execution_count": null,
      "outputs": [
        {
          "output_type": "stream",
          "name": "stdout",
          "text": [
            "Sally\n"
          ]
        }
      ]
    },
    {
      "cell_type": "markdown",
      "source": [
        "Casting\n",
        "Used to specify the data type of a variable."
      ],
      "metadata": {
        "id": "o5DnEzezgdTs"
      }
    },
    {
      "cell_type": "code",
      "source": [
        "x = str(3)    # x will be '3'\n",
        "y = int(3)    # y will be 3\n",
        "z = float(3)  # z will be 3.0"
      ],
      "metadata": {
        "id": "re4VB-1FgrpS"
      },
      "execution_count": null,
      "outputs": []
    },
    {
      "cell_type": "markdown",
      "source": [
        "**Get the Type**\n",
        "You can get the data type of a variable with the type() function."
      ],
      "metadata": {
        "id": "Azf9DYeHgx-f"
      }
    },
    {
      "cell_type": "code",
      "source": [
        "x = 5\n",
        "z = '3'\n",
        "y = \"John\"\n",
        "print(type(x))\n",
        "print(type(y))\n",
        "print(type(z))"
      ],
      "metadata": {
        "colab": {
          "base_uri": "https://localhost:8080/"
        },
        "id": "GMQ8Ax6ug8go",
        "outputId": "e8618537-aeba-4b91-d13d-ac9f9d12f203"
      },
      "execution_count": null,
      "outputs": [
        {
          "output_type": "stream",
          "name": "stdout",
          "text": [
            "<class 'int'>\n",
            "<class 'str'>\n",
            "<class 'str'>\n"
          ]
        }
      ]
    },
    {
      "cell_type": "markdown",
      "source": [
        "String variables can be declared either by using single or double quotes"
      ],
      "metadata": {
        "id": "zXNT2dzThjzu"
      }
    },
    {
      "cell_type": "markdown",
      "source": [
        "Case Sensitive"
      ],
      "metadata": {
        "id": "ibAmMwlFhmzX"
      }
    },
    {
      "cell_type": "markdown",
      "source": [
        "Variable names are case sensitive"
      ],
      "metadata": {
        "id": "38TnyZmWhpwP"
      }
    },
    {
      "cell_type": "code",
      "source": [
        "a = 4\n",
        "A = \"Sally\"\n",
        "#A will not overwrite a\n",
        "print(A)\n",
        "print(a)"
      ],
      "metadata": {
        "colab": {
          "base_uri": "https://localhost:8080/"
        },
        "id": "SfXlhc6rhveK",
        "outputId": "d74e5144-50e9-401b-8ff1-69314684a1bf"
      },
      "execution_count": null,
      "outputs": [
        {
          "output_type": "stream",
          "name": "stdout",
          "text": [
            "Sally\n",
            "4\n"
          ]
        }
      ]
    },
    {
      "cell_type": "markdown",
      "source": [
        "**Variable names**"
      ],
      "metadata": {
        "id": "57s5kYcViM81"
      }
    },
    {
      "cell_type": "markdown",
      "source": [
        "Rules for Python variables:\n",
        "A variable name must start with a letter or the underscore character\n",
        "A variable name cannot start with a number\n",
        "A variable name can only contain alpha-numeric characters and underscores (A-z, 0-9, and _ )\n",
        "Variable names are case-sensitive (age, Age and AGE are three different variables)\n",
        "A variable name cannot be any of the Python keywords."
      ],
      "metadata": {
        "id": "7n9fYA73iPIP"
      }
    },
    {
      "cell_type": "code",
      "source": [
        "myvar = \"John\"\n",
        "my_var = \"John\"\n",
        "_my_var = \"John\"\n",
        "myVar = \"John\"\n",
        "MYVAR = \"John\"\n",
        "myvar2 = \"John\""
      ],
      "metadata": {
        "id": "17zLF9HQiUoe"
      },
      "execution_count": null,
      "outputs": []
    },
    {
      "cell_type": "markdown",
      "source": [
        "**Python Variables - Assign Multiple Values**"
      ],
      "metadata": {
        "id": "G5MJB3WQihUS"
      }
    },
    {
      "cell_type": "markdown",
      "source": [
        "Python allows you to assign values to multiple variables in one line.\n",
        "Note: Make sure the number of variables matches the number of values, or else you will get an error."
      ],
      "metadata": {
        "id": "WAHDI6VBiner"
      }
    },
    {
      "cell_type": "code",
      "source": [
        "x, y, z = \"Orange\", \"Banana\", \"Cherry\"\n",
        "print(x)\n",
        "print(y)\n",
        "print(z)"
      ],
      "metadata": {
        "colab": {
          "base_uri": "https://localhost:8080/"
        },
        "id": "re666P6yiqz5",
        "outputId": "9ec3e6f0-1188-4ef3-cbdd-a97b0b4cb43a"
      },
      "execution_count": null,
      "outputs": [
        {
          "output_type": "stream",
          "name": "stdout",
          "text": [
            "Orange\n",
            "Banana\n",
            "Cherry\n"
          ]
        }
      ]
    },
    {
      "cell_type": "markdown",
      "source": [
        "**Unpack a collection**"
      ],
      "metadata": {
        "id": "rSf5a8iui4Cc"
      }
    },
    {
      "cell_type": "markdown",
      "source": [
        "If you have a collection of values in a list, tuple etc. Python allows you to extract the values into variables. This is called unpacking."
      ],
      "metadata": {
        "id": "bbNewZvFi7jz"
      }
    },
    {
      "cell_type": "code",
      "source": [
        "fruits = [\"apple\", \"banana\", \"cherry\"]\n",
        "x, y, z = fruits\n",
        "print(x)\n",
        "print(y)\n",
        "print(z)"
      ],
      "metadata": {
        "colab": {
          "base_uri": "https://localhost:8080/"
        },
        "id": "eb2hLO1ci-W3",
        "outputId": "c940fb24-42af-440c-e738-aee16c3930a5"
      },
      "execution_count": null,
      "outputs": [
        {
          "output_type": "stream",
          "name": "stdout",
          "text": [
            "apple\n",
            "banana\n",
            "cherry\n"
          ]
        }
      ]
    },
    {
      "cell_type": "markdown",
      "source": [
        "**Python - Output Variables**"
      ],
      "metadata": {
        "id": "Q4rDkS4cjFaS"
      }
    },
    {
      "cell_type": "markdown",
      "source": [
        "print() function is often used to output variables.\n",
        "In the print() function, you can output multiple variables, separated by a comma:"
      ],
      "metadata": {
        "id": "GjdKl67pjbKv"
      }
    },
    {
      "cell_type": "code",
      "source": [
        "x = \"Python\"\n",
        "y = \"is\"\n",
        "z = \"awesome\"\n",
        "print(x + y + z)"
      ],
      "metadata": {
        "colab": {
          "base_uri": "https://localhost:8080/"
        },
        "id": "Y-aNe5A4jnhR",
        "outputId": "e02a9f17-ab60-4820-ea32-f40446415ddf"
      },
      "execution_count": null,
      "outputs": [
        {
          "output_type": "stream",
          "name": "stdout",
          "text": [
            "Pythonisawesome\n"
          ]
        }
      ]
    },
    {
      "cell_type": "markdown",
      "source": [
        "In the print() function, when you try to combine a string and a number with the + operator, Python will give you an error."
      ],
      "metadata": {
        "id": "M1vQZyNoj5Dh"
      }
    },
    {
      "cell_type": "code",
      "source": [
        "x = 5\n",
        "y = \"John\"\n",
        "print(x + y)"
      ],
      "metadata": {
        "colab": {
          "base_uri": "https://localhost:8080/",
          "height": 176
        },
        "id": "BucdW3vYj7LB",
        "outputId": "b65c83dd-e8bc-40e0-9ac9-7c10e8af963a"
      },
      "execution_count": null,
      "outputs": [
        {
          "output_type": "error",
          "ename": "TypeError",
          "evalue": "unsupported operand type(s) for +: 'int' and 'str'",
          "traceback": [
            "\u001b[0;31m---------------------------------------------------------------------------\u001b[0m",
            "\u001b[0;31mTypeError\u001b[0m                                 Traceback (most recent call last)",
            "\u001b[0;32m<ipython-input-30-00c66e4310ff>\u001b[0m in \u001b[0;36m<cell line: 3>\u001b[0;34m()\u001b[0m\n\u001b[1;32m      1\u001b[0m \u001b[0mx\u001b[0m \u001b[0;34m=\u001b[0m \u001b[0;36m5\u001b[0m\u001b[0;34m\u001b[0m\u001b[0;34m\u001b[0m\u001b[0m\n\u001b[1;32m      2\u001b[0m \u001b[0my\u001b[0m \u001b[0;34m=\u001b[0m \u001b[0;34m\"John\"\u001b[0m\u001b[0;34m\u001b[0m\u001b[0;34m\u001b[0m\u001b[0m\n\u001b[0;32m----> 3\u001b[0;31m \u001b[0mprint\u001b[0m\u001b[0;34m(\u001b[0m\u001b[0mx\u001b[0m \u001b[0;34m+\u001b[0m \u001b[0my\u001b[0m\u001b[0;34m)\u001b[0m\u001b[0;34m\u001b[0m\u001b[0;34m\u001b[0m\u001b[0m\n\u001b[0m",
            "\u001b[0;31mTypeError\u001b[0m: unsupported operand type(s) for +: 'int' and 'str'"
          ]
        }
      ]
    },
    {
      "cell_type": "markdown",
      "source": [
        "The best way to output multiple variables in the print() function is to separate them with commas, which even support different data types."
      ],
      "metadata": {
        "id": "AflM0pywkAhG"
      }
    },
    {
      "cell_type": "markdown",
      "source": [
        "**Global Variables**"
      ],
      "metadata": {
        "id": "TyqM1NMgkFVv"
      }
    },
    {
      "cell_type": "markdown",
      "source": [
        "Variables that are created outside of a function are known as global variables."
      ],
      "metadata": {
        "id": "FmNiohRNkIBX"
      }
    },
    {
      "cell_type": "code",
      "source": [
        "x = \"awesome\"\n",
        "\n",
        "def myfunc():\n",
        "  print(\"Python is \" + x)\n",
        "\n",
        "myfunc()"
      ],
      "metadata": {
        "colab": {
          "base_uri": "https://localhost:8080/"
        },
        "id": "03CiQg6fkTCE",
        "outputId": "5445928d-654a-4853-bb9a-164e5145d280"
      },
      "execution_count": null,
      "outputs": [
        {
          "output_type": "stream",
          "name": "stdout",
          "text": [
            "Python is awesome\n"
          ]
        }
      ]
    },
    {
      "cell_type": "markdown",
      "source": [
        "If you create a variable with the same name inside a function, this variable will be local, and can only be used inside the function. The global variable with the same name will remain as it was, global and with the original value."
      ],
      "metadata": {
        "id": "KpUmzdoCknVX"
      }
    },
    {
      "cell_type": "code",
      "source": [
        "x = \"awesome\"\n",
        "\n",
        "def myfunc():\n",
        "  x = \"fantastic\"\n",
        "  print(\"Python is \" + x)\n",
        "\n",
        "myfunc()\n",
        "\n",
        "print(\"Python is \" + x)"
      ],
      "metadata": {
        "colab": {
          "base_uri": "https://localhost:8080/"
        },
        "id": "HvrMwreskqmb",
        "outputId": "fa982229-ac0e-446a-cd82-f85ab6ad877c"
      },
      "execution_count": null,
      "outputs": [
        {
          "output_type": "stream",
          "name": "stdout",
          "text": [
            "Python is fantastic\n",
            "Python is awesome\n"
          ]
        }
      ]
    },
    {
      "cell_type": "markdown",
      "source": [
        "The global keyword"
      ],
      "metadata": {
        "id": "GDKdiWa8kx1K"
      }
    },
    {
      "cell_type": "markdown",
      "source": [
        "To create a global variable inside a function, you can use the global keyword."
      ],
      "metadata": {
        "id": "aH8nNTz9kzvA"
      }
    },
    {
      "cell_type": "markdown",
      "source": [
        "Python Data Types"
      ],
      "metadata": {
        "id": "3hGmcUUmnCiX"
      }
    },
    {
      "cell_type": "markdown",
      "source": [
        "Text Type:\tstr\n",
        "Numeric Types:\tint, float, complex\n",
        "Sequence Types:\tlist, tuple, range\n",
        "Mapping Type:\tdict\n",
        "Set Types:\tset, frozenset\n",
        "Boolean Type:\tbool\n",
        "Binary Types:\tbytes, bytearray, memoryview\n",
        "None Type:\tNoneType\n",
        "\n",
        "You can get the data type of any object by using the type() function."
      ],
      "metadata": {
        "id": "eowWZgVNnF6q"
      }
    },
    {
      "cell_type": "markdown",
      "source": [
        "**Type Conversion**"
      ],
      "metadata": {
        "id": "x7xu-Ioancrd"
      }
    },
    {
      "cell_type": "markdown",
      "source": [
        "You can convert from one type to another with the int(), float(), and complex() methods"
      ],
      "metadata": {
        "id": "OUxUHSUFnf64"
      }
    },
    {
      "cell_type": "code",
      "source": [
        "x = 1    # int\n",
        "y = 2.8  # float\n",
        "z = 1j   # complex\n",
        "\n",
        "#convert from int to float:\n",
        "a = float(x)\n",
        "\n",
        "#convert from float to int:\n",
        "b = int(y)\n",
        "\n",
        "#convert from int to complex:\n",
        "c = complex(x)\n",
        "\n",
        "print(a)\n",
        "print(b)\n",
        "print(c)\n",
        "\n",
        "print(type(a))\n",
        "print(type(b))\n",
        "print(type(c))"
      ],
      "metadata": {
        "colab": {
          "base_uri": "https://localhost:8080/"
        },
        "id": "ZbKOqWS_njs6",
        "outputId": "112131f8-e7af-498d-dd2a-97fed63df2aa"
      },
      "execution_count": null,
      "outputs": [
        {
          "output_type": "stream",
          "name": "stdout",
          "text": [
            "1.0\n",
            "2\n",
            "(1+0j)\n",
            "<class 'float'>\n",
            "<class 'int'>\n",
            "<class 'complex'>\n"
          ]
        }
      ]
    },
    {
      "cell_type": "markdown",
      "source": [
        "**Python Strings**"
      ],
      "metadata": {
        "id": "xk8tKjWFymMj"
      }
    },
    {
      "cell_type": "markdown",
      "source": [
        "Strings in python are surrounded by either single quotation marks, or double quotation marks.\n",
        "\n",
        "'hello' is the same as \"hello\"."
      ],
      "metadata": {
        "id": "Ck0OkHZVypLZ"
      }
    },
    {
      "cell_type": "code",
      "source": [
        "print(\"Hello\")\n",
        "print('Hello')"
      ],
      "metadata": {
        "colab": {
          "base_uri": "https://localhost:8080/"
        },
        "id": "XPS9jaQHyvVV",
        "outputId": "4debd8e3-c37d-4fde-cda6-7b8e9933c5e8"
      },
      "execution_count": null,
      "outputs": [
        {
          "output_type": "stream",
          "name": "stdout",
          "text": [
            "Hello\n",
            "Hello\n"
          ]
        }
      ]
    },
    {
      "cell_type": "markdown",
      "source": [
        "Quotes Inside Quotes\n",
        "You can use quotes inside a string, as long as they don't match the quotes surrounding the string"
      ],
      "metadata": {
        "id": "K0WMboTOy0Fy"
      }
    },
    {
      "cell_type": "code",
      "source": [
        "print(\"It's alright\")\n",
        "print(\"He is called 'Johnny'\")\n",
        "print('He is called \"Johnny\"')"
      ],
      "metadata": {
        "colab": {
          "base_uri": "https://localhost:8080/"
        },
        "id": "znIDM0Vcy40_",
        "outputId": "86425031-c8cd-480e-80c1-980215767544"
      },
      "execution_count": null,
      "outputs": [
        {
          "output_type": "stream",
          "name": "stdout",
          "text": [
            "It's alright\n",
            "He is called 'Johnny'\n",
            "He is called \"Johnny\"\n"
          ]
        }
      ]
    },
    {
      "cell_type": "markdown",
      "source": [
        "**Multiline Strings**"
      ],
      "metadata": {
        "id": "QkyxrxxOy_J_"
      }
    },
    {
      "cell_type": "markdown",
      "source": [
        "You can assign a multiline string to a variable by using three quotes"
      ],
      "metadata": {
        "id": "sc4NVGZZzDyh"
      }
    },
    {
      "cell_type": "code",
      "source": [
        "a = \"\"\"Lorem ipsum dolor sit amet,\n",
        "consectetur adipiscing elit,\n",
        "sed do eiusmod tempor incididunt\n",
        "ut labore et dolore magna aliqua.\"\"\"\n",
        "print(a)"
      ],
      "metadata": {
        "colab": {
          "base_uri": "https://localhost:8080/"
        },
        "id": "x-ZtV6o9zFsf",
        "outputId": "b43fef9c-1b5c-4ca7-c451-6d0a26d03850"
      },
      "execution_count": null,
      "outputs": [
        {
          "output_type": "stream",
          "name": "stdout",
          "text": [
            "Lorem ipsum dolor sit amet,\n",
            "consectetur adipiscing elit,\n",
            "sed do eiusmod tempor incididunt\n",
            "ut labore et dolore magna aliqua.\n"
          ]
        }
      ]
    },
    {
      "cell_type": "code",
      "source": [
        "a = '''Lorem ipsum dolor sit amet,\n",
        "consectetur adipiscing elit,\n",
        "sed do eiusmod tempor incididunt\n",
        "ut labore et dolore magna aliqua.'''\n",
        "print(a)"
      ],
      "metadata": {
        "colab": {
          "base_uri": "https://localhost:8080/"
        },
        "id": "ayJFjKN5zM2U",
        "outputId": "6d339cdc-774b-41d8-c942-3d7fbe0e6325"
      },
      "execution_count": null,
      "outputs": [
        {
          "output_type": "stream",
          "name": "stdout",
          "text": [
            "Lorem ipsum dolor sit amet,\n",
            "consectetur adipiscing elit,\n",
            "sed do eiusmod tempor incididunt\n",
            "ut labore et dolore magna aliqua.\n"
          ]
        }
      ]
    },
    {
      "cell_type": "markdown",
      "source": [
        "**Strings are Arrays**"
      ],
      "metadata": {
        "id": "EyOrcilOzxNw"
      }
    },
    {
      "cell_type": "markdown",
      "source": [
        "strings in Python are arrays of bytes representing unicode characters.\n",
        "Python does not have a character data type, a single character is simply a string with a length of 1.\n",
        "Square brackets can be used to access elements of the string."
      ],
      "metadata": {
        "id": "KXk0nI09z1TY"
      }
    },
    {
      "cell_type": "code",
      "source": [
        "a = \"Hello, World!\"\n",
        "print(a[2+3])\n",
        "a = \"Hello, World!\"\n",
        "print(a[1])\n",
        "a = \"Hello, World!\"\n",
        "print(a[4+3])"
      ],
      "metadata": {
        "colab": {
          "base_uri": "https://localhost:8080/"
        },
        "id": "X3ySQ9Roz7iO",
        "outputId": "908ee563-8a5d-45a9-aa03-7b28351c93f9"
      },
      "execution_count": null,
      "outputs": [
        {
          "output_type": "stream",
          "name": "stdout",
          "text": [
            ",\n",
            "e\n",
            "W\n"
          ]
        }
      ]
    },
    {
      "cell_type": "markdown",
      "source": [
        "**Looping Through a String**"
      ],
      "metadata": {
        "id": "z9ZyohYp0L0k"
      }
    },
    {
      "cell_type": "markdown",
      "source": [
        "Since strings are arrays, we can loop through the characters in a string, with a for loop."
      ],
      "metadata": {
        "id": "NjcRY-sO0O2w"
      }
    },
    {
      "cell_type": "code",
      "source": [
        "for x in \"banana\":\n",
        "  print(x)\n"
      ],
      "metadata": {
        "colab": {
          "base_uri": "https://localhost:8080/"
        },
        "id": "626vhtUb0Q91",
        "outputId": "1aa5f4fc-e2d0-42f1-83fd-be62e934023b"
      },
      "execution_count": null,
      "outputs": [
        {
          "output_type": "stream",
          "name": "stdout",
          "text": [
            "b\n",
            "a\n",
            "n\n",
            "a\n",
            "n\n",
            "a\n"
          ]
        }
      ]
    },
    {
      "cell_type": "markdown",
      "source": [
        "To check if a certain phrase or character is present in a string, we can use the keyword **in** and **not in**"
      ],
      "metadata": {
        "id": "iZt8Gpqn0XPo"
      }
    },
    {
      "cell_type": "code",
      "source": [
        "txt = \"The best things in life are free!\"\n",
        "print(\"free\" in txt)\n",
        "\n",
        "txt = \"The best things in life are free!\"\n",
        "print(\"free\" not in txt)"
      ],
      "metadata": {
        "colab": {
          "base_uri": "https://localhost:8080/"
        },
        "id": "oHdAW3Yj0ZIb",
        "outputId": "d19d46b6-20fd-4200-c120-4a76d853c801"
      },
      "execution_count": null,
      "outputs": [
        {
          "output_type": "stream",
          "name": "stdout",
          "text": [
            "True\n",
            "False\n"
          ]
        }
      ]
    },
    {
      "cell_type": "markdown",
      "source": [
        "**String Concatenation**"
      ],
      "metadata": {
        "id": "-OTfndKF1FiG"
      }
    },
    {
      "cell_type": "markdown",
      "source": [
        "o concatenate, or combine, two strings you can use the + operator."
      ],
      "metadata": {
        "id": "bEU8V8WM1LSf"
      }
    },
    {
      "cell_type": "code",
      "source": [
        "a = \"Hello\"\n",
        "b = \"World\"\n",
        "c = a + b\n",
        "print(c)"
      ],
      "metadata": {
        "colab": {
          "base_uri": "https://localhost:8080/"
        },
        "id": "EtEmXhHz1P-e",
        "outputId": "6702e2b4-0567-487c-89d7-38079479f59b"
      },
      "execution_count": null,
      "outputs": [
        {
          "output_type": "stream",
          "name": "stdout",
          "text": [
            "HelloWorld\n"
          ]
        }
      ]
    },
    {
      "cell_type": "markdown",
      "source": [
        "**Format Strings**"
      ],
      "metadata": {
        "id": "ToVnOnql18UZ"
      }
    },
    {
      "cell_type": "code",
      "source": [
        "#age = 36\n",
        "#txt = \"My name is John, I am \" + age\n",
        "#print(txt) #Wrong method of combining strings and numbers\n",
        "\n",
        "#Correct methods of combining strings and numbers using format() method\n",
        "age = 36\n",
        "txt = f\"My name is John, I am {age}\" # the \"f\" at the front of the string literal makes this possible. it is part of the format\n",
        "print(txt)"
      ],
      "metadata": {
        "colab": {
          "base_uri": "https://localhost:8080/"
        },
        "id": "jHsxqolT2DMn",
        "outputId": "e61e5525-52f8-4e0b-a862-d5b9c364f287"
      },
      "execution_count": null,
      "outputs": [
        {
          "output_type": "stream",
          "name": "stdout",
          "text": [
            "My name is John, I am 36\n"
          ]
        }
      ]
    },
    {
      "cell_type": "markdown",
      "source": [
        "**Placeholders and Modifiers**"
      ],
      "metadata": {
        "id": "kIByee0w3Okr"
      }
    },
    {
      "cell_type": "markdown",
      "source": [
        "A placeholder can contain variables, operations, functions, and modifiers to format the value."
      ],
      "metadata": {
        "id": "thhZ8csO3Sl9"
      }
    },
    {
      "cell_type": "code",
      "source": [
        "price = 59 #price declared\n",
        "txt = f\"The price is {price} dollars\" #format() used with f\n",
        "print(txt)"
      ],
      "metadata": {
        "colab": {
          "base_uri": "https://localhost:8080/"
        },
        "id": "kmBWIIb83VOx",
        "outputId": "ce538f5e-e090-4bf4-df0a-0de2daeb60ba"
      },
      "execution_count": null,
      "outputs": [
        {
          "output_type": "stream",
          "name": "stdout",
          "text": [
            "The price is 59 dollars\n"
          ]
        }
      ]
    },
    {
      "cell_type": "code",
      "source": [
        "price = 59\n",
        "txt = f\"The price is {price:.2f} dollars\" #:2f - to display the price with 2 dp\n",
        "print(txt)"
      ],
      "metadata": {
        "colab": {
          "base_uri": "https://localhost:8080/"
        },
        "id": "r3y6SVmP3lWi",
        "outputId": "1c65a15b-3df4-4181-c16f-23973f1b9d70"
      },
      "execution_count": null,
      "outputs": [
        {
          "output_type": "stream",
          "name": "stdout",
          "text": [
            "The price is 59.00 dollars\n"
          ]
        }
      ]
    },
    {
      "cell_type": "markdown",
      "source": [
        "A placeholder can contain Python code, like math operations."
      ],
      "metadata": {
        "id": "IakeOUYX3vNk"
      }
    },
    {
      "cell_type": "code",
      "source": [
        "txt = f\"The price is {20 * 59} dollars\"\n",
        "print(txt)"
      ],
      "metadata": {
        "colab": {
          "base_uri": "https://localhost:8080/"
        },
        "id": "A-yw_6mD3xgJ",
        "outputId": "1418477c-b016-4a8c-c351-51c867c187c0"
      },
      "execution_count": null,
      "outputs": [
        {
          "output_type": "stream",
          "name": "stdout",
          "text": [
            "The price is 1180 dollars\n"
          ]
        }
      ]
    },
    {
      "cell_type": "code",
      "source": [
        "price = 59\n",
        "txt = f\"The price is {price*20} dollars\" #:2f - to display the price with 2 dp\n",
        "print(txt)"
      ],
      "metadata": {
        "colab": {
          "base_uri": "https://localhost:8080/"
        },
        "id": "audoosBT34eN",
        "outputId": "e3eaba1a-5035-4c26-dbb5-3dd25f966fa2"
      },
      "execution_count": null,
      "outputs": [
        {
          "output_type": "stream",
          "name": "stdout",
          "text": [
            "The price is 1180 dollars\n"
          ]
        }
      ]
    },
    {
      "cell_type": "markdown",
      "source": [
        "**Escape Characters**"
      ],
      "metadata": {
        "id": "Fll1cOWh4zxl"
      }
    },
    {
      "cell_type": "markdown",
      "source": [
        "To insert characters that are illegal in a string, use an escape character.\n",
        "An example of an illegal character is a double quote inside a string that is surrounded by double quotes.\n",
        "'\\'"
      ],
      "metadata": {
        "id": "zM5MFaBJ43HE"
      }
    },
    {
      "cell_type": "code",
      "source": [
        "#txt = \"We are the so-called \"Vikings\" from the north.\"\n",
        "txt = \"We are the so-called \\\"Vikings\\\" from the north.\""
      ],
      "metadata": {
        "id": "QshF8QvD5CDA"
      },
      "execution_count": null,
      "outputs": []
    },
    {
      "cell_type": "markdown",
      "source": [
        "Code\tResult\n",
        "\\'\tSingle Quote\n",
        "\\\\\tBackslash\n",
        "\\n\tNew Line\n",
        "\\r\tCarriage Return\n",
        "\\t\tTab\n",
        "\\b\tBackspace\n",
        "\\f\tForm Feed\n",
        "\\ooo\tOctal value\n",
        "\\xhh\tHex value"
      ],
      "metadata": {
        "id": "xA_dhjaX5ns-"
      }
    },
    {
      "cell_type": "markdown",
      "source": [
        "**String Methods**"
      ],
      "metadata": {
        "id": "z_7FN5Pe5qEL"
      }
    },
    {
      "cell_type": "markdown",
      "source": [
        "**Booleans**"
      ],
      "metadata": {
        "id": "wG7kGYC-5_iD"
      }
    },
    {
      "cell_type": "markdown",
      "source": [
        "represent one of two values: True or False."
      ],
      "metadata": {
        "id": "TEV3D62B-op-"
      }
    },
    {
      "cell_type": "markdown",
      "source": [
        "**Python Operators**"
      ],
      "metadata": {
        "id": "J5INADRG4ymV"
      }
    },
    {
      "cell_type": "markdown",
      "source": [
        "1. Arithmetic Operators\n",
        "+\tAddition\tx + y\n",
        "-\tSubtraction\tx - y\n",
        "*\tMultiplication\tx * y\n",
        "/\tDivision\tx / y\n",
        "%\tModulus\tx % y\n",
        "**\tExponentiation\tx ** y\n",
        "//\tFloor division\tx // y\n",
        "\n",
        "2. **Assignment Operators**\n",
        "\n",
        "Operator\tExample\tSame As\n",
        "=\t, x = 5\t x = 5\n",
        "+=\tx += 3\tx = x + 3\n",
        "-=\tx -= 3\tx = x - 3\n",
        "*=\tx *= 3\tx = x * 3\n",
        "/=\tx /= 3\tx = x / 3\n",
        "%=\tx %= 3\tx = x % 3\n",
        "//=\tx //= 3\tx = x // 3\n",
        "**=\tx **= 3\tx = x ** 3\n",
        "&=\tx &= 3\tx = x & 3\n",
        "\n",
        "Comparison Operators\n",
        "\n",
        "Operator\tName\tExample\n",
        "==\tEqual\tx == y\n",
        "!=\tNot equal\tx != y\n",
        ">\tGreater than\tx > y\n",
        "<\tLess than\tx < y\n",
        ">=\tGreater than or equal to\tx >= y\n",
        "<=\tLess than or equal to\tx <= y\n",
        "\n",
        "Logical operators\n",
        "\n",
        "Operator\tDescription\tExample\n",
        "and \tReturns True if both statements are true\tx < 5 and  x < 10\n",
        "or\tReturns True if one of the statements is true\tx < 5 or x < 4\n",
        "not\tReverse the result, returns False if the result is true\tnot(x < 5 and x < 10)"
      ],
      "metadata": {
        "id": "1T7YdrZ-43L4"
      }
    },
    {
      "cell_type": "code",
      "source": [
        "x = 5\n",
        "\n",
        "print(x > 3 and x < 10)\n"
      ],
      "metadata": {
        "colab": {
          "base_uri": "https://localhost:8080/"
        },
        "id": "C3eCBpn06eXk",
        "outputId": "7084f673-24ca-441a-8677-11285239e9da"
      },
      "execution_count": null,
      "outputs": [
        {
          "output_type": "stream",
          "name": "stdout",
          "text": [
            "True\n"
          ]
        }
      ]
    },
    {
      "cell_type": "markdown",
      "source": [
        "**Lists**\n",
        "\n",
        "Lists are used to store multiple items in a single variable.\n",
        "\n",
        "Lists are created using square brackets\n"
      ],
      "metadata": {
        "id": "pozd5YWd6ToI"
      }
    },
    {
      "cell_type": "code",
      "source": [
        "myList = [\"apple\", \"banana\", \"cherry\"]\n",
        "print(myList)"
      ],
      "metadata": {
        "colab": {
          "base_uri": "https://localhost:8080/"
        },
        "id": "68KChnyZ6_aw",
        "outputId": "d52344bd-9da5-4d33-a8c3-a27ac5bbfc8f"
      },
      "execution_count": null,
      "outputs": [
        {
          "output_type": "stream",
          "name": "stdout",
          "text": [
            "['apple', 'banana', 'cherry']\n"
          ]
        }
      ]
    },
    {
      "cell_type": "markdown",
      "source": [
        "List items are ordered, changeable, and allow duplicate values.\n",
        "\n",
        "List items are indexed, the first item has index [0], the second item has index [1] etc."
      ],
      "metadata": {
        "id": "tlqBXkXL7N9u"
      }
    },
    {
      "cell_type": "code",
      "source": [
        "thislist = [\"apple\", \"banana\", \"cherry\", \"apple\", \"cherry\"]\n",
        "print(thislist) #Duplicate value will be printed. Possible coz lists are odered\n",
        "len(thislist) #Determine length of the list"
      ],
      "metadata": {
        "colab": {
          "base_uri": "https://localhost:8080/"
        },
        "id": "ecLZUQNU7jQy",
        "outputId": "ab6c106c-2491-4f76-a5d2-05a2d759b7e8"
      },
      "execution_count": null,
      "outputs": [
        {
          "output_type": "stream",
          "name": "stdout",
          "text": [
            "['apple', 'banana', 'cherry', 'apple', 'cherry']\n"
          ]
        },
        {
          "output_type": "execute_result",
          "data": {
            "text/plain": [
              "5"
            ]
          },
          "metadata": {},
          "execution_count": 4
        }
      ]
    },
    {
      "cell_type": "code",
      "source": [
        "list1 = [\"abc\", 34, True, 40, \"male\"]\n",
        "\n",
        "print(list1) # List can be of different data types\n"
      ],
      "metadata": {
        "colab": {
          "base_uri": "https://localhost:8080/"
        },
        "id": "-IwYQxX18TPi",
        "outputId": "db617505-4f23-489a-b209-9e3697638a27"
      },
      "execution_count": null,
      "outputs": [
        {
          "output_type": "stream",
          "name": "stdout",
          "text": [
            "['abc', 34, True, 40, 'male']\n"
          ]
        }
      ]
    },
    {
      "cell_type": "markdown",
      "source": [
        "**Python Tuples**"
      ],
      "metadata": {
        "id": "et4k8EcpT_n1"
      }
    },
    {
      "cell_type": "markdown",
      "source": [
        "Tuples are used to store multiple items in a single variable."
      ],
      "metadata": {
        "id": "fS4Km6UKUL1t"
      }
    },
    {
      "cell_type": "code",
      "source": [
        "thistuple = (\"apple\",)\n",
        "print(type(thistuple))\n",
        "\n",
        "#NOT a tuple\n",
        "thistuple = (\"apple\")\n",
        "print(type(thistuple))"
      ],
      "metadata": {
        "colab": {
          "base_uri": "https://localhost:8080/"
        },
        "id": "VoE3IS9-UM5u",
        "outputId": "dc86d7ea-dace-4f35-9f40-68fd086850b9"
      },
      "execution_count": null,
      "outputs": [
        {
          "output_type": "stream",
          "name": "stdout",
          "text": [
            "<class 'tuple'>\n",
            "<class 'str'>\n"
          ]
        }
      ]
    },
    {
      "cell_type": "code",
      "source": [
        "thistuple = tuple((\"apple\", \"banana\", \"cherry\")) # note the double round-brackets\n",
        "print(thistuple)"
      ],
      "metadata": {
        "colab": {
          "base_uri": "https://localhost:8080/"
        },
        "id": "mX5r0W7GUvKN",
        "outputId": "b92d8d90-3622-47ae-8a09-7a97fa049718"
      },
      "execution_count": null,
      "outputs": [
        {
          "output_type": "stream",
          "name": "stdout",
          "text": [
            "('apple', 'banana', 'cherry')\n"
          ]
        }
      ]
    },
    {
      "cell_type": "markdown",
      "source": [
        "**Loops**"
      ],
      "metadata": {
        "id": "4SBX5BVmU3gB"
      }
    },
    {
      "cell_type": "markdown",
      "source": [
        "**If...else**"
      ],
      "metadata": {
        "id": "y0_sHrNsVNvo"
      }
    },
    {
      "cell_type": "code",
      "source": [
        "a = 200\n",
        "b = 33\n",
        "if b > a:\n",
        "  print(\"b is greater than a\")\n",
        "elif a == b:\n",
        "  print(\"a and b are equal\")\n",
        "else:\n",
        "  print(\"a is greater than b\")"
      ],
      "metadata": {
        "colab": {
          "base_uri": "https://localhost:8080/"
        },
        "id": "mQLdOg88VQlt",
        "outputId": "570c5a9c-291b-4489-e25d-22af4ce157ed"
      },
      "execution_count": null,
      "outputs": [
        {
          "output_type": "stream",
          "name": "stdout",
          "text": [
            "a is greater than b\n"
          ]
        }
      ]
    },
    {
      "cell_type": "markdown",
      "source": [
        "**else...if**"
      ],
      "metadata": {
        "id": "zZCgBnEsVW4O"
      }
    },
    {
      "cell_type": "code",
      "source": [
        "a = 33\n",
        "b = 33\n",
        "if b > a:\n",
        "  print(\"b is greater than a\")\n",
        "elif a == b:\n",
        "  print(\"a and b are equal\")"
      ],
      "metadata": {
        "colab": {
          "base_uri": "https://localhost:8080/"
        },
        "id": "K8cysQzvVcj9",
        "outputId": "cf1e6a64-1165-4c06-a0d7-808d6bbd6993"
      },
      "execution_count": null,
      "outputs": [
        {
          "output_type": "stream",
          "name": "stdout",
          "text": [
            "a and b are equal\n"
          ]
        }
      ]
    },
    {
      "cell_type": "markdown",
      "source": [
        "**while loops**"
      ],
      "metadata": {
        "id": "PQu-JAHCVgm8"
      }
    },
    {
      "cell_type": "code",
      "source": [
        "i = 1\n",
        "while i < 6:\n",
        "  print(i)\n",
        "  if i == 3:\n",
        "    break\n",
        "  i += 1"
      ],
      "metadata": {
        "colab": {
          "base_uri": "https://localhost:8080/"
        },
        "id": "COZ7_04dVi5W",
        "outputId": "85b11b95-50a3-4bf1-d882-bd017cbe2e9c"
      },
      "execution_count": null,
      "outputs": [
        {
          "output_type": "stream",
          "name": "stdout",
          "text": [
            "1\n",
            "2\n",
            "3\n"
          ]
        }
      ]
    },
    {
      "cell_type": "markdown",
      "source": [],
      "metadata": {
        "id": "8faKZZ_HVns1"
      }
    },
    {
      "cell_type": "markdown",
      "source": [
        "**For loops**"
      ],
      "metadata": {
        "id": "1N4ei7KkVwGf"
      }
    },
    {
      "cell_type": "code",
      "source": [
        "fruits = [\"apple\", \"banana\", \"cherry\"]\n",
        "for x in fruits:\n",
        "  print(x)"
      ],
      "metadata": {
        "colab": {
          "base_uri": "https://localhost:8080/"
        },
        "id": "6_7WA4nWVy5H",
        "outputId": "8a78e503-408f-40a8-cbe2-477bb0312ce6"
      },
      "execution_count": null,
      "outputs": [
        {
          "output_type": "stream",
          "name": "stdout",
          "text": [
            "apple\n",
            "banana\n",
            "cherry\n"
          ]
        }
      ]
    },
    {
      "cell_type": "markdown",
      "source": [
        "**Python Arrays**"
      ],
      "metadata": {
        "id": "UhDj3jvbWD4J"
      }
    },
    {
      "cell_type": "code",
      "source": [
        "cars = [\"Ford\", \"Volvo\", \"BMW\"]"
      ],
      "metadata": {
        "id": "RXtfum5jWG8L"
      },
      "execution_count": null,
      "outputs": []
    }
  ]
}