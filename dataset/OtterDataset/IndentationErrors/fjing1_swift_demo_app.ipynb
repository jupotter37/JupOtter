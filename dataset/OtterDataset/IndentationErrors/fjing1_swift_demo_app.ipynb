{
 "cells": [
  {
   "cell_type": "code",
   "execution_count": 2,
   "id": "f6de462f",
   "metadata": {},
   "outputs": [],
   "source": [
    "import pandas as pd\n",
    "from apify_client import ApifyClient\n",
    "from datetime import datetime\n",
    "\n",
    "apify_client = ApifyClient('')"
   ]
  },
  {
   "cell_type": "code",
   "execution_count": 12,
   "id": "99c3677c",
   "metadata": {},
   "outputs": [
    {
     "name": "stdout",
     "output_type": "stream",
     "text": [
      "Toronto\n",
      "job is Data Analyst\n"
     ]
    },
    {
     "ename": "TypeError",
     "evalue": "actor() missing 2 required positional arguments: 'self' and 'actor_id'",
     "output_type": "error",
     "traceback": [
      "\u001b[0;31m---------------------------------------------------------------------------\u001b[0m",
      "\u001b[0;31mTypeError\u001b[0m                                 Traceback (most recent call last)",
      "Input \u001b[0;32mIn [12]\u001b[0m, in \u001b[0;36m<cell line: 4>\u001b[0;34m()\u001b[0m\n\u001b[1;32m      7\u001b[0m \u001b[38;5;28mprint\u001b[39m(\u001b[38;5;124m\"\u001b[39m\u001b[38;5;124mjob is\u001b[39m\u001b[38;5;124m\"\u001b[39m,job)\n\u001b[1;32m      8\u001b[0m run_input \u001b[38;5;241m=\u001b[39m {\n\u001b[1;32m      9\u001b[0m     \u001b[38;5;124m\"\u001b[39m\u001b[38;5;124mcsvFriendlyOutput\u001b[39m\u001b[38;5;124m\"\u001b[39m:\u001b[38;5;28;01mTrue\u001b[39;00m,\n\u001b[1;32m     10\u001b[0m     \u001b[38;5;124m\"\u001b[39m\u001b[38;5;124mincludedFilteredResult\u001b[39m\u001b[38;5;124m\"\u001b[39m:\u001b[38;5;28;01mFalse\u001b[39;00m,\n\u001b[0;32m   (...)\u001b[0m\n\u001b[1;32m     15\u001b[0m     \u001b[38;5;124m\"\u001b[39m\u001b[38;5;124msaveHtmltoKeyValueStore\u001b[39m\u001b[38;5;124m\"\u001b[39m:\u001b[38;5;28;01mFalse\u001b[39;00m,\n\u001b[1;32m     16\u001b[0m }\n\u001b[0;32m---> 17\u001b[0m actor_call \u001b[38;5;241m=\u001b[39m \u001b[43mapify_client\u001b[49m\u001b[38;5;241;43m.\u001b[39;49m\u001b[43mactor\u001b[49m\u001b[43m(\u001b[49m\u001b[43m \u001b[49m\u001b[43m)\u001b[49m\n\u001b[1;32m     18\u001b[0m dataset_items \u001b[38;5;241m=\u001b[39m apify_client\u001b[38;5;241m.\u001b[39mdataset()\n\u001b[1;32m     20\u001b[0m d \u001b[38;5;241m=\u001b[39m pd\u001b[38;5;241m.\u001b[39mDataFrame(dataset_items)\n",
      "\u001b[0;31mTypeError\u001b[0m: actor() missing 2 required positional arguments: 'self' and 'actor_id'"
     ]
    }
   ],
   "source": [
    "position_df = pd.DataFrame()\n",
    "job_titles=[\"Data Analyst\", \"Data Engineer\", \"Data Scientist\", \"Software Developer\",\"Software Engineer in Test\" \"Product Manager\", \"Digital Market\"]\n",
    "locations = {\"code1\": \"Toronto\", \"code2\": \"Vancouver\", \"code3\":\"Montreal\"}\n",
    "for city in locations:\n",
    "    print(locations[city])\n",
    "    for job in job_titles:\n",
    "        print(\"job is\",job)\n",
    "        run_input = {\n",
    "            \"csvFriendlyOutput\":True,\n",
    "            \"includedFilteredResult\":False,\n",
    "            \"maxConcurrency\":10,\n",
    "            \"maxPagesPerQuery\":3,\n",
    "            \"queries\":f\"\",\n",
    "            \"saveHtml\":False,\n",
    "            \"saveHtmltoKeyValueStore\":False,\n",
    "        }\n",
    "        actor_call = apify_client.actor( )\n",
    "        dataset_items = apify_client.dataset()\n",
    "        \n",
    "        d = pd.DataFrame(dataset_items)\n",
    "        d[\"query\"] = job\n",
    "        d[\"location\"] = location[city]\n",
    "        d[\"run_time\"] = str(datatime.new())\n",
    "        position_df = pd.concat([position_df, d])\n",
    "    print(\"*\"*30)\n",
    "    break"
   ]
  },
  {
   "cell_type": "code",
   "execution_count": null,
   "id": "0de94d93",
   "metadata": {},
   "outputs": [],
   "source": [
    "position_df.grouby[]"
   ]
  },
  {
   "cell_type": "code",
   "execution_count": null,
   "id": "46d22d28",
   "metadata": {},
   "outputs": [],
   "source": [
    "position_df.pop()\n",
    "position_df.to_csv()"
   ]
  },
  {
   "cell_type": "code",
   "execution_count": null,
   "id": "7a522296",
   "metadata": {},
   "outputs": [],
   "source": [
    "position_df.head()"
   ]
  },
  {
   "cell_type": "code",
   "execution_count": 14,
   "id": "c07ab7e4",
   "metadata": {},
   "outputs": [
    {
     "ename": "ModuleNotFoundError",
     "evalue": "No module named 'opensearchpy'",
     "output_type": "error",
     "traceback": [
      "\u001b[0;31m---------------------------------------------------------------------------\u001b[0m",
      "\u001b[0;31mModuleNotFoundError\u001b[0m                       Traceback (most recent call last)",
      "Input \u001b[0;32mIn [14]\u001b[0m, in \u001b[0;36m<cell line: 1>\u001b[0;34m()\u001b[0m\n\u001b[0;32m----> 1\u001b[0m \u001b[38;5;28;01mfrom\u001b[39;00m \u001b[38;5;21;01mopensearchpy\u001b[39;00m \u001b[38;5;28;01mimport\u001b[39;00m OpenSearch, helpers\n",
      "\u001b[0;31mModuleNotFoundError\u001b[0m: No module named 'opensearchpy'"
     ]
    }
   ],
   "source": [
    "from opensearchpy import OpenSearch, helpers"
   ]
  },
  {
   "cell_type": "code",
   "execution_count": 13,
   "id": "c4bb340b",
   "metadata": {},
   "outputs": [
    {
     "ename": "NameError",
     "evalue": "name 'OpenSearch' is not defined",
     "output_type": "error",
     "traceback": [
      "\u001b[0;31m---------------------------------------------------------------------------\u001b[0m",
      "\u001b[0;31mNameError\u001b[0m                                 Traceback (most recent call last)",
      "Input \u001b[0;32mIn [13]\u001b[0m, in \u001b[0;36m<cell line: 4>\u001b[0;34m()\u001b[0m\n\u001b[1;32m      2\u001b[0m port \u001b[38;5;241m=\u001b[39m \u001b[38;5;124m\"\u001b[39m\u001b[38;5;124m\"\u001b[39m\n\u001b[1;32m      3\u001b[0m auth \u001b[38;5;241m=\u001b[39m []\n\u001b[0;32m----> 4\u001b[0m client \u001b[38;5;241m=\u001b[39m \u001b[43mOpenSearch\u001b[49m( )\n",
      "\u001b[0;31mNameError\u001b[0m: name 'OpenSearch' is not defined"
     ]
    }
   ],
   "source": [
    "#connect to elasticsearch and save\n",
    "host = \"\"\n",
    "port = \"\"\n",
    "auth = []\n",
    "client = OpenSearch( )"
   ]
  },
  {
   "cell_type": "code",
   "execution_count": 16,
   "id": "6197005c",
   "metadata": {},
   "outputs": [
    {
     "ename": "IndentationError",
     "evalue": "expected an indented block (3010260199.py, line 2)",
     "output_type": "error",
     "traceback": [
      "\u001b[0;36m  Input \u001b[0;32mIn [16]\u001b[0;36m\u001b[0m\n\u001b[0;31m    if not client.indices.exists(index_name):\u001b[0m\n\u001b[0m                                             ^\u001b[0m\n\u001b[0;31mIndentationError\u001b[0m\u001b[0;31m:\u001b[0m expected an indented block\n"
     ]
    }
   ],
   "source": [
    "index_name = \"swift_hire\"\n",
    "if not client.indices.exists(index_name):\n",
    "    client.indices.create(index = index_name)\n",
    "def dec_generator(f):"
   ]
  },
  {
   "cell_type": "code",
   "execution_count": null,
   "id": "8a9fcfa1",
   "metadata": {},
   "outputs": [],
   "source": [
    "# next step deploy to chalice and let it run every 24 hr"
   ]
  }
 ],
 "metadata": {
  "kernelspec": {
   "display_name": "Python 3 (ipykernel)",
   "language": "python",
   "name": "python3"
  },
  "language_info": {
   "codemirror_mode": {
    "name": "ipython",
    "version": 3
   },
   "file_extension": ".py",
   "mimetype": "text/x-python",
   "name": "python",
   "nbconvert_exporter": "python",
   "pygments_lexer": "ipython3",
   "version": "3.9.18"
  }
 },
 "nbformat": 4,
 "nbformat_minor": 5
}
