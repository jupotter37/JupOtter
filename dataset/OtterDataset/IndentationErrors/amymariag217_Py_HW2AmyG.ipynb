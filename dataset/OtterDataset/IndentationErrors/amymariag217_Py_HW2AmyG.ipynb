{
 "cells": [
  {
   "cell_type": "code",
   "execution_count": 2,
   "id": "02b31cff-a210-4696-a16a-32da494151f0",
   "metadata": {},
   "outputs": [
    {
     "ename": "IndentationError",
     "evalue": "unindent does not match any outer indentation level (<tokenize>, line 10)",
     "output_type": "error",
     "traceback": [
      "\u001b[0;36m  File \u001b[0;32m<tokenize>:10\u001b[0;36m\u001b[0m\n\u001b[0;31m    arr = np.array(python_list)\u001b[0m\n\u001b[0m    ^\u001b[0m\n\u001b[0;31mIndentationError\u001b[0m\u001b[0;31m:\u001b[0m unindent does not match any outer indentation level\n"
     ]
    }
   ],
   "source": [
    "# Amy Gonzalez\n",
    "# CAP4611 Boloni\n",
    "# HW2\n",
    "import numpy as np\n",
    "\n",
    "    # Python List\n",
    "      python_list = [[x**2 + y**2 for x in range(5)] for y in range(5)]\n",
    "\n",
    "    # Turn list into a numpy array\n",
    "    arr = np.array(python_list)\n",
    "\n",
    "    # Print shape\n",
    "    print(\"Shape of the array:\", arr.shape)\n",
    "    # Print type\n",
    "    print(\"Type of the array:\", arr.dtype)"
   ]
  },
  {
   "cell_type": "code",
   "execution_count": 3,
   "id": "3188ded5-239a-4e93-b10e-477542bc5cdb",
   "metadata": {},
   "outputs": [
    {
     "ename": "IndentationError",
     "evalue": "expected an indented block (891040171.py, line 9)",
     "output_type": "error",
     "traceback": [
      "\u001b[0;36m  Cell \u001b[0;32mIn[3], line 9\u001b[0;36m\u001b[0m\n\u001b[0;31m    print(\"The second column and second row are equal.\")\u001b[0m\n\u001b[0m    ^\u001b[0m\n\u001b[0;31mIndentationError\u001b[0m\u001b[0;31m:\u001b[0m expected an indented block\n"
     ]
    }
   ],
   "source": [
    "    #Take second column\n",
    "    second_column = arr[:, 1]\n",
    "\n",
    "    # Take second row\n",
    "    second_row = arr[1, :]\n",
    "\n",
    "    # Check if the second column and second row are equal\n",
    "    if np.array_equal(second_column, second_row):\n",
    "    print(\"The second column and second row are equal.\")\n",
    "    else:\n",
    "    print(\"The second column and second row are not equal.\")\n",
    "\n",
    "    # Create new array\n",
    "    arr2 = arr.T.copy()"
   ]
  },
  {
   "cell_type": "code",
   "execution_count": 4,
   "id": "0cddeb68-c9a7-451a-96cb-b33fd7026f3e",
   "metadata": {},
   "outputs": [
    {
     "ename": "IndentationError",
     "evalue": "unexpected indent (1441979591.py, line 4)",
     "output_type": "error",
     "traceback": [
      "\u001b[0;36m  Cell \u001b[0;32mIn[4], line 4\u001b[0;36m\u001b[0m\n\u001b[0;31m    rng = np.random.default_rng()\u001b[0m\n\u001b[0m    ^\u001b[0m\n\u001b[0;31mIndentationError\u001b[0m\u001b[0;31m:\u001b[0m unexpected indent\n"
     ]
    }
   ],
   "source": [
    "import numpy as np\n",
    "\n",
    "    # Random number generator in numpy\n",
    "    rng = np.random.default_rng()\n",
    "\n",
    "    # numpy array A of size 17x17 filled with zeros\n",
    "    A = np.zeros((17, 17))\n",
    "\n",
    "    # Fill array with numbers\n",
    "    A = rng.uniform(30.0, 100.0, size=(17, 17))\n",
    "    print(A)"
   ]
  },
  {
   "cell_type": "code",
   "execution_count": 5,
   "id": "dabe3ec9-43ac-44b6-bd02-587a0520b4f4",
   "metadata": {},
   "outputs": [
    {
     "ename": "IndentationError",
     "evalue": "unexpected indent (952750220.py, line 4)",
     "output_type": "error",
     "traceback": [
      "\u001b[0;36m  Cell \u001b[0;32mIn[5], line 4\u001b[0;36m\u001b[0m\n\u001b[0;31m    A = np.random.uniform(30.0, 100.0, size=(17, 17))\u001b[0m\n\u001b[0m    ^\u001b[0m\n\u001b[0;31mIndentationError\u001b[0m\u001b[0;31m:\u001b[0m unexpected indent\n"
     ]
    }
   ],
   "source": [
    "import numpy as np\n",
    "\n",
    "    # 17x17 NumPy array A filled with numbers between 30.0 and 100.0\n",
    "    A = np.random.uniform(30.0, 100.0, size=(17, 17))\n",
    "\n",
    "    # Vector b \n",
    "    b = np.full(17, 25.0)\n",
    "\n",
    "    # Solving system of equations\n",
    "    x1 = np.linalg.solve(A, b)\n",
    "\n",
    "    # Solving system of equations by taking the inverse of A and left multiplying it with b\n",
    "    x2 = np.dot(np.linalg.inv(A), b)\n",
    "\n",
    "    # See if the solutions are the same\n",
    "    are_identical = np.allclose(x1, x2)\n",
    "\n",
    "    # Print solutions\n",
    "    print(\"Solution using numpy.linalg.solve:\")\n",
    "    print(x1)\n",
    "    \n",
    "    print(\"\\nSolution using inverse of A:\")\n",
    "    print(x2)\n",
    "\n",
    "    # If same\n",
    "    if are_identical:\n",
    "    print(\"\\nSolutions are the same.\")\n",
    "    # If not the same\n",
    "    else:\n",
    "    print(\"\\nSolutions are not the same.\")\n"
   ]
  },
  {
   "cell_type": "code",
   "execution_count": 6,
   "id": "f4b3bb80-24d6-4acb-849c-54ccb4428497",
   "metadata": {},
   "outputs": [
    {
     "ename": "IndentationError",
     "evalue": "unexpected indent (3162134721.py, line 4)",
     "output_type": "error",
     "traceback": [
      "\u001b[0;36m  Cell \u001b[0;32mIn[6], line 4\u001b[0;36m\u001b[0m\n\u001b[0;31m    df = pd.read_csv(\"houses_Madrid.csv\")\u001b[0m\n\u001b[0m    ^\u001b[0m\n\u001b[0;31mIndentationError\u001b[0m\u001b[0;31m:\u001b[0m unexpected indent\n"
     ]
    }
   ],
   "source": [
    "import pandas as pd\n",
    "\n",
    "    # Read file and create a DataFrame df\n",
    "    df = pd.read_csv(\"houses_Madrid.csv\")\n",
    "\n",
    "    # Print out the number of rows in df\n",
    "    print(\"Number of rows in the DataFrame:\", len(df))\n",
    "    # Print out the columns of the DataFrame\n",
    "    print(\"Columns of the DataFrame:\")\n",
    "    print(df.columns)"
   ]
  },
  {
   "cell_type": "code",
   "execution_count": 7,
   "id": "b8b49483-cc6a-43c2-a68d-9c154a777f64",
   "metadata": {},
   "outputs": [
    {
     "ename": "IndentationError",
     "evalue": "unexpected indent (1789765050.py, line 4)",
     "output_type": "error",
     "traceback": [
      "\u001b[0;36m  Cell \u001b[0;32mIn[7], line 4\u001b[0;36m\u001b[0m\n\u001b[0;31m    df = pd.read_csv(\"houses_Madrid.csv\")\u001b[0m\n\u001b[0m    ^\u001b[0m\n\u001b[0;31mIndentationError\u001b[0m\u001b[0;31m:\u001b[0m unexpected indent\n"
     ]
    }
   ],
   "source": [
    "import pandas as pd\n",
    "\n",
    "    # Take the excel file and create a DataFrame\n",
    "    df = pd.read_csv(\"houses_Madrid.csv\")\n",
    "    # Take the \"buy_price\" column\n",
    "    buy_price_col = df[\"buy_price\"]\n",
    "\n",
    "    # Calculate the average buying price\n",
    "    average_buying_price = buy_price_col.mean()\n",
    "    # Calculate the max price\n",
    "    maximum_buying_price = buy_price_col.max()\n",
    "\n",
    "    # Print average and maximum buying prices\n",
    "    print(\"Average Buying Price:\", average_buying_price)\n",
    "    print(\"Maximum Buying Price:\", maximum_buying_price)\n"
   ]
  },
  {
   "cell_type": "code",
   "execution_count": 8,
   "id": "2c045658-fd4e-4182-a45e-d1c8e03f0628",
   "metadata": {},
   "outputs": [
    {
     "ename": "IndentationError",
     "evalue": "unexpected indent (519590120.py, line 4)",
     "output_type": "error",
     "traceback": [
      "\u001b[0;36m  Cell \u001b[0;32mIn[8], line 4\u001b[0;36m\u001b[0m\n\u001b[0;31m    df = pd.read_csv(\"houses_Madrid.csv\")\u001b[0m\n\u001b[0m    ^\u001b[0m\n\u001b[0;31mIndentationError\u001b[0m\u001b[0;31m:\u001b[0m unexpected indent\n"
     ]
    }
   ],
   "source": [
    "import pandas as pd\n",
    "\n",
    "    # Take in the excel file and create a DataFrame df\n",
    "    df = pd.read_csv(\"houses_Madrid.csv\")\n",
    "\n",
    "    # Select rows where the price is greater than one million dollars\n",
    "    df2 = df[df[\"buy_price\"] > 1000000]\n",
    "\n",
    "    # Print out the number of houses that fall in that category\n",
    "    num_houses_over_1_million = len(df2)\n",
    "    print(\"Number of houses with a price greater than one million:\", num_houses_over_1_million)\n"
   ]
  },
  {
   "cell_type": "code",
   "execution_count": 9,
   "id": "13fc943c-d864-4b42-b1a6-c3ac09fef859",
   "metadata": {},
   "outputs": [
    {
     "ename": "IndentationError",
     "evalue": "unexpected indent (3075145590.py, line 2)",
     "output_type": "error",
     "traceback": [
      "\u001b[0;36m  Cell \u001b[0;32mIn[9], line 2\u001b[0;36m\u001b[0m\n\u001b[0;31m    import numpy as np\u001b[0m\n\u001b[0m    ^\u001b[0m\n\u001b[0;31mIndentationError\u001b[0m\u001b[0;31m:\u001b[0m unexpected indent\n"
     ]
    }
   ],
   "source": [
    "import pandas as pd\n",
    "    import numpy as np\n",
    "    import matplotlib.pyplot as plt\n",
    "\n",
    "    # Read the CSV file and create a DataFrame\n",
    "    df = pd.read_csv(\"houses_Madrid.csv\")\n",
    "\n",
    "    # Get columns and convertto numpy arrays\n",
    "    sq_mt_built = df[\"sq_mt_built\"].to_numpy()\n",
    "    buy_price = df[\"buy_price\"].to_numpy()\n",
    "\n",
    "    # Create the scatterplot\n",
    "    plt.scatter(sq_mt_built, buy_price, alpha=0.5)\n",
    "    \n",
    "    plt.title(\"Scatterplot of Buying Price vs. Square Meters Area\")\n",
    "    plt.xlabel(\"Square Meters Area\")\n",
    "    \n",
    "    plt.ylabel(\"Buying Price\")\n",
    "    plt.grid(True)\n",
    "\n",
    "    # Show the plot\n",
    "    plt.show()"
   ]
  },
  {
   "cell_type": "code",
   "execution_count": 10,
   "id": "26110adf-5ee9-4f13-b8c2-780f45b6962d",
   "metadata": {},
   "outputs": [
    {
     "ename": "IndentationError",
     "evalue": "unexpected indent (2744144219.py, line 2)",
     "output_type": "error",
     "traceback": [
      "\u001b[0;36m  Cell \u001b[0;32mIn[10], line 2\u001b[0;36m\u001b[0m\n\u001b[0;31m    import matplotlib.pyplot as plt\u001b[0m\n\u001b[0m    ^\u001b[0m\n\u001b[0;31mIndentationError\u001b[0m\u001b[0;31m:\u001b[0m unexpected indent\n"
     ]
    }
   ],
   "source": [
    "import numpy as np\n",
    "    import matplotlib.pyplot as plt\n",
    "\n",
    "    # Python list for 5x5 array\n",
    "    array_list = [[x**2 + y**2 for x in range(5)] for y in range(5)]\n",
    "\n",
    "    # Convert list to a numpy\n",
    "    arr = np.array(array_list, dtype=np.float64)\n",
    "\n",
    "    # Get 2nd and 3rd rows from the numpy array\n",
    "    row2 = arr[1, :]\n",
    "    row3 = arr[2, :]\n",
    "\n",
    "    # line plot for row2 and row3\n",
    "    plt.plot(row2, label='Row 2', color='blue')\n",
    "    plt.plot(row3, label='Row 3', color='red')\n",
    "\n",
    "    # Label axes\n",
    "    plt.xlabel('Index')\n",
    "    plt.ylabel('Values')\n",
    "\n",
    "    # Legend\n",
    "    plt.legend()\n",
    "\n",
    "    # Display Plot\n",
    "    plt.show()"
   ]
  },
  {
   "cell_type": "code",
   "execution_count": null,
   "id": "ce384412-5fd4-4afc-8829-a78eefaeb8a2",
   "metadata": {},
   "outputs": [],
   "source": []
  },
  {
   "cell_type": "code",
   "execution_count": null,
   "id": "fb180371-bde7-4463-b813-1df0c53a2986",
   "metadata": {},
   "outputs": [],
   "source": []
  },
  {
   "cell_type": "code",
   "execution_count": null,
   "id": "4456c084-6b08-422c-9c30-725a0a32bf11",
   "metadata": {},
   "outputs": [],
   "source": []
  },
  {
   "cell_type": "code",
   "execution_count": null,
   "id": "afeee305-873f-4ab5-9b14-48dd6ba3625a",
   "metadata": {},
   "outputs": [],
   "source": []
  },
  {
   "cell_type": "code",
   "execution_count": null,
   "id": "d24325c6-9fbe-4f29-8597-c0741b30ae2a",
   "metadata": {},
   "outputs": [],
   "source": []
  },
  {
   "cell_type": "code",
   "execution_count": null,
   "id": "96423aeb-c49c-45f6-9523-80618c6d898c",
   "metadata": {},
   "outputs": [],
   "source": []
  }
 ],
 "metadata": {
  "kernelspec": {
   "display_name": "Python 3 (ipykernel)",
   "language": "python",
   "name": "python3"
  },
  "language_info": {
   "codemirror_mode": {
    "name": "ipython",
    "version": 3
   },
   "file_extension": ".py",
   "mimetype": "text/x-python",
   "name": "python",
   "nbconvert_exporter": "python",
   "pygments_lexer": "ipython3",
   "version": "3.9.7"
  }
 },
 "nbformat": 4,
 "nbformat_minor": 5
}
