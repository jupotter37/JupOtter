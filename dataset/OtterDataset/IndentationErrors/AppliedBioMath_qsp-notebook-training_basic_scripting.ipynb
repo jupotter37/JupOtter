{
 "cells": [
  {
   "cell_type": "markdown",
   "id": "1209e75a-0ec4-477e-bfd3-283598a5a93c",
   "metadata": {},
   "source": [
    "# Lesson 2 - Basic Python Scripting\n",
    "This tutorial will cover scripting commands such as conditionals, iterating, if-else statements, and list comprehensions in python.\n",
    "\n",
    "## Nesting in Python\n",
    "Python is unique in that indentation is used to nest code instead of brackets or keywords such as end. This was done in order to promote clear and understandable code. Whenever you need to nest a new block of code, it gets indented further to the right. One issue that this causes is the beginner's mistake, `IndentationError`, where the code looks like it is indented properly, but it isn't. This usually occurs because spaces and tabs were mixed together. To avoid this, you should ensure that whenever you are writing python code, indentation is done with only spaces and not tabs. This can be done in Jupyterlab in `Settings>Text Editor Indentation>Spaces:N`. N can technically be anything, but 4 is recommended to prevent confusion."
   ]
  },
  {
   "cell_type": "markdown",
   "id": "06b52150-c176-46c5-8f74-ad530959adbe",
   "metadata": {},
   "source": [
    "## Conditional statements\n",
    "The conditional statements follow the general conventions of most languages. The conditions can be seen below:\n",
    "\n",
    "* equal: `a == b`\n",
    "* not equal: `a != b`\n",
    "* less than: `a < b`\n",
    "* less than or equal: `a <= b`\n",
    "* greater than: `a > b`\n",
    "* greater than or equal: `a >= b`"
   ]
  },
  {
   "cell_type": "markdown",
   "id": "8634b2df-0f78-41d2-b082-164127b83bac",
   "metadata": {},
   "source": [
    "## The `is` conditional\n",
    "There is one more conditional that you may not commonly see in another language, which is `is`. This conditional checks that the objects that are being referenced are the same, or share the same identity. Essentially it means that they have the same id. This is different from the `==` sign because the `==` sign actually checks if the objects are equal, and not just referencing the same object."
   ]
  },
  {
   "cell_type": "code",
   "execution_count": 1,
   "id": "55ae942e-abcf-4d07-911d-4284aa62074e",
   "metadata": {},
   "outputs": [
    {
     "name": "stdout",
     "output_type": "stream",
     "text": [
      "id of a: 139963457044560\n",
      "id of b: 139963457044560\n",
      "a == b: True\n",
      "a is b: True\n"
     ]
    }
   ],
   "source": [
    "# In this example, both a and b are referencing the same object, so == and is give the same result\n",
    "a = [1,2,3]\n",
    "b = a\n",
    "print(f\"id of a: {id(a)}\")\n",
    "print(f\"id of b: {id(b)}\")\n",
    "print(f\"a == b: {a == b}\")\n",
    "print(f\"a is b: {a is b}\")"
   ]
  },
  {
   "cell_type": "code",
   "execution_count": 2,
   "id": "d4f154df-f8b7-4512-b42f-74c2a7ea7437",
   "metadata": {},
   "outputs": [
    {
     "name": "stdout",
     "output_type": "stream",
     "text": [
      "id of a: 139963457047360\n",
      "id of b: 139963457046560\n",
      "a == b: True\n",
      "a is b: False\n"
     ]
    }
   ],
   "source": [
    "# In this example, while they have the same items in the list, a and b are actually different objects\n",
    "a = [1,2,3]\n",
    "b = [1,2,3]\n",
    "print(f\"id of a: {id(a)}\")\n",
    "print(f\"id of b: {id(b)}\")\n",
    "print(f\"a == b: {a == b}\")\n",
    "print(f\"a is b: {a is b}\")"
   ]
  },
  {
   "cell_type": "markdown",
   "id": "6200f4a5-9924-464e-b469-a4e0a084e0f2",
   "metadata": {},
   "source": [
    "## The `in` conditional\n",
    "Another useful conditional is the `in` keyword. This checks if a certain item is in an iterable. For example you could use it to check if a substring is inside a string, or if an item is in a list."
   ]
  },
  {
   "cell_type": "code",
   "execution_count": 3,
   "id": "6f6f61d4-dd37-4df2-9aab-05a9d657c4b4",
   "metadata": {},
   "outputs": [
    {
     "name": "stdout",
     "output_type": "stream",
     "text": [
      "True\n",
      "True\n",
      "False\n"
     ]
    }
   ],
   "source": [
    "# Example using in for a string\n",
    "string = \"the brown fox jumped over the dog\"\n",
    "print(\"the\" in string)\n",
    "famous_quote = [\"one\", \"small\", \"step\"]\n",
    "print(\"one\" in famous_quote)\n",
    "print(\"the\" in famous_quote)"
   ]
  },
  {
   "cell_type": "markdown",
   "id": "abd9f426-0a7d-4b24-8685-129cd21ec457",
   "metadata": {},
   "source": [
    "## Boolean logic\n",
    "For python instead of symbols such as `&` for \"and\" ,`|` for \"or, or `!` for \"not\", the word is just used instead. So if you wanted to check if two conditions were true, you would just use `condition1 and condition2`."
   ]
  },
  {
   "cell_type": "code",
   "execution_count": 4,
   "id": "ca61c004-0766-4ac0-b79f-100b4d195d00",
   "metadata": {},
   "outputs": [
    {
     "name": "stdout",
     "output_type": "stream",
     "text": [
      "False\n",
      "True\n",
      "True\n"
     ]
    }
   ],
   "source": [
    "# Quick example of and, or and not\n",
    "a = 1\n",
    "b = 2\n",
    "print(a == 1 and b == 3)\n",
    "print(a == 1 or b == 3)\n",
    "print(not a == 2)"
   ]
  },
  {
   "cell_type": "markdown",
   "id": "97963d66-b5c6-4d30-bc38-0144653cab0b",
   "metadata": {},
   "source": [
    "## Iterating\n",
    "### `For` loops\n",
    "The `for` loop in python works similarly to a `for` or `foreach` loop in other languages. The basic syntax is `for i in iterable:`, an iterable can be anything with the \\_\\_getitem\\_\\_ method, but for our purposes it will most often be a list, dictionary, tuple or set works. The loops will run for each item in the iterable. If you want to only run a subset of the iterable, you can slice it or use list comprehension."
   ]
  },
  {
   "cell_type": "code",
   "execution_count": 5,
   "id": "1db8b2b2-6cde-4be3-b3d6-3bd254387653",
   "metadata": {},
   "outputs": [
    {
     "name": "stdout",
     "output_type": "stream",
     "text": [
      "water\n",
      "earth\n",
      "fire\n",
      "wind\n"
     ]
    }
   ],
   "source": [
    "# Basic for loop\n",
    "list_of_elements = ['water', 'earth', 'fire', 'wind']\n",
    "for element in list_of_elements:\n",
    "    print(element)"
   ]
  },
  {
   "cell_type": "markdown",
   "id": "06816a94-1f24-4f65-9219-391752b670cd",
   "metadata": {},
   "source": [
    "#### range and enumerate function\n",
    "If you would like to quickly create an iterable of an incrementing integer list, you can use the range function. `range(n)` quickly creates a list from 0 to n-1, which is n times. Range can also define a start value and the step value if you need."
   ]
  },
  {
   "cell_type": "code",
   "execution_count": 6,
   "id": "e7bda3c9-f4d1-4275-958c-2238caf1de1b",
   "metadata": {},
   "outputs": [
    {
     "name": "stdout",
     "output_type": "stream",
     "text": [
      "0\n",
      "1\n",
      "2\n",
      "3\n",
      "4\n",
      "--------------\n",
      "2\n",
      "4\n",
      "6\n"
     ]
    }
   ],
   "source": [
    "# Range incrementing by 1\n",
    "for i in range(5):\n",
    "    print(i)\n",
    "# Range incrementing by 2 from 2 to 6\n",
    "print('--------------')\n",
    "for i in range(2,7,2):\n",
    "    print(i)"
   ]
  },
  {
   "cell_type": "markdown",
   "id": "8c5602d6-0278-4370-bcd7-99bfc6dec39a",
   "metadata": {},
   "source": [
    "Another convenient function is the enumerate function. This function returns the an iterable of the items with their position in the iterable. This is useful if you want the position of the item as well as the item itself. It first returns the position, then the item. Note: the default starting value is 0, but you can specify a different starting value."
   ]
  },
  {
   "cell_type": "code",
   "execution_count": 7,
   "id": "70a31131-6fd4-4995-8708-187c702cc56f",
   "metadata": {},
   "outputs": [
    {
     "name": "stdout",
     "output_type": "stream",
     "text": [
      "Jean came in #1\n",
      "Mona came in #2\n",
      "Bennett came in #3\n"
     ]
    }
   ],
   "source": [
    "race_placement = [\"Jean\", \"Mona\", \"Bennett\"]\n",
    "for place, name in enumerate(race_placement, start=1):\n",
    "    print(f\"{name} came in #{place}\")"
   ]
  },
  {
   "cell_type": "markdown",
   "id": "eb17e850-7713-48f6-bc9a-6b8f1a666e8f",
   "metadata": {},
   "source": [
    "## Iterating for a dictionary\n",
    "For a dictionary if you would like to iterate through the keys, you can simply call the dictionary, or use `.keys()`. If you would like to use the dictionary values, you must use the `.values()`. If you want to iterate over both, then you use `.items()`."
   ]
  },
  {
   "cell_type": "code",
   "execution_count": 8,
   "id": "3e4f63e3-08b8-42ba-8ab5-6a807ca9f27a",
   "metadata": {},
   "outputs": [
    {
     "name": "stdout",
     "output_type": "stream",
     "text": [
      "a\n",
      "b\n",
      "c\n"
     ]
    }
   ],
   "source": [
    "# Iterating over keys\n",
    "dictionary = {\n",
    "    'a': 1,\n",
    "    'b': 2,\n",
    "    'c': 3\n",
    "}\n",
    "for key in dictionary:\n",
    "    print(key)"
   ]
  },
  {
   "cell_type": "code",
   "execution_count": 9,
   "id": "e4ab99a5-1dbe-462c-9c34-163b7d31cbb4",
   "metadata": {},
   "outputs": [
    {
     "name": "stdout",
     "output_type": "stream",
     "text": [
      "1\n",
      "2\n",
      "3\n"
     ]
    }
   ],
   "source": [
    "# Iterating over value\n",
    "for value in dictionary.values():\n",
    "    print(value)"
   ]
  },
  {
   "cell_type": "code",
   "execution_count": 10,
   "id": "f525d039-02aa-4a13-b7fc-24b7222cc31e",
   "metadata": {},
   "outputs": [
    {
     "name": "stdout",
     "output_type": "stream",
     "text": [
      "a -> 1\n",
      "b -> 2\n",
      "c -> 3\n"
     ]
    }
   ],
   "source": [
    "# Iterating over keys and values\n",
    "for key, value in dictionary.items():\n",
    "    print(f\"{key} -> {value}\")"
   ]
  },
  {
   "cell_type": "markdown",
   "id": "ccfd0fa4-e7b3-4c1d-8dd2-259e9ef1d379",
   "metadata": {},
   "source": [
    "### While loops\n",
    "While loops work much like you would see in another language. They follow the syntax of `while (condition is True):`."
   ]
  },
  {
   "cell_type": "code",
   "execution_count": 11,
   "id": "85889a5a-61c1-4bb9-95f3-4f1eecbe6a73",
   "metadata": {},
   "outputs": [
    {
     "name": "stdout",
     "output_type": "stream",
     "text": [
      "1\n",
      "2\n",
      "3\n",
      "4\n",
      "5\n"
     ]
    }
   ],
   "source": [
    "i = 1\n",
    "while i <= 5:\n",
    "    print(i)\n",
    "    i = i + 1"
   ]
  },
  {
   "cell_type": "markdown",
   "id": "9155a282-ad08-4cf0-a4a7-adb1240ee8ff",
   "metadata": {},
   "source": [
    "### Additional tools\n",
    "There are several useful control flow tools that can be useful when iterating:\n",
    "\n",
    "* `continue` - skips the current iteration and continues the loop\n",
    "* `break` - ends the loop\n",
    "* `pass` - does nothing, meant as a placeholder for code that will be added later"
   ]
  },
  {
   "cell_type": "markdown",
   "id": "0690bf55-db93-44c4-b60c-428e9bb6c11f",
   "metadata": {},
   "source": [
    "## `If`, `else` and `elif`\n",
    "`If` statements are used to run code if a given condition holds true. They are simple to create, the syntax is `if condition:`."
   ]
  },
  {
   "cell_type": "code",
   "execution_count": 12,
   "id": "2223fe0f-83b7-47a7-8abe-447bb1f2c89c",
   "metadata": {},
   "outputs": [
    {
     "name": "stdout",
     "output_type": "stream",
     "text": [
      "1 + 1 = 2\n"
     ]
    }
   ],
   "source": [
    "if 1 + 1 == 2:\n",
    "    print(\"1 + 1 = 2\")"
   ]
  },
  {
   "cell_type": "markdown",
   "id": "b71f776c-12a0-40c1-82c7-cd32aa8037d0",
   "metadata": {},
   "source": [
    "Elif are the same as if statements, but they only run if the previous `if` or `elif` statements have not run. The syntax is `elif condition:`. `elif` blocks run in order, so if you have several `elif` conditions are true, only the first one that is true will be run. "
   ]
  },
  {
   "cell_type": "code",
   "execution_count": 13,
   "id": "58f5cbc4-0cf0-4d16-829a-86785825d832",
   "metadata": {},
   "outputs": [
    {
     "name": "stdout",
     "output_type": "stream",
     "text": [
      "a = 4\n"
     ]
    }
   ],
   "source": [
    "# Example elif statement, note how only the first elif statement is printed, even though both elif\n",
    "# statements are true.\n",
    "a = 4\n",
    "if a == 3:\n",
    "    print(\"a = 3\")\n",
    "elif a == 4:\n",
    "    print(\"a = 4\")\n",
    "elif a / 2 == 2:\n",
    "    print(\"a / 2 = 4\")"
   ]
  },
  {
   "cell_type": "markdown",
   "id": "5148f083-c27d-47f4-89a5-5ebbdf679297",
   "metadata": {},
   "source": [
    "Finally, there are else statements, which are run if none of the previous `if` or `elseif` statements are run. No condition is needed for an else statement."
   ]
  },
  {
   "cell_type": "code",
   "execution_count": 14,
   "id": "d8bf7da6-62c0-475d-b8d5-6ed0f60779a0",
   "metadata": {},
   "outputs": [
    {
     "name": "stdout",
     "output_type": "stream",
     "text": [
      "a is not equal to 2 or 3\n"
     ]
    }
   ],
   "source": [
    "a = 4\n",
    "if a == 3:\n",
    "    print(\"a = 3\")\n",
    "elif a == 2:\n",
    "    print(\"a = 2\")\n",
    "else:\n",
    "    print(\"a is not equal to 2 or 3\")"
   ]
  },
  {
   "cell_type": "markdown",
   "id": "298a44df-640f-43bc-b82f-f48fd1082e89",
   "metadata": {},
   "source": [
    "## List Comprehension\n",
    "List comprehensions are fast and easy ways to quickly create a new list from an existing list. It combines for loops and if statements to create a new list. A list comprehension can be created by using []. The syntax of a list comprehension is:\n",
    "`[expression for item in iterable if (condition for item is true)]`.\n",
    "\n",
    "The following example is something a modeler may use list comprehension for. We may want to take a list of doses, extract the doses we want and format them for use in a legend. Traditionally, you would use a for loop to iterate over the items in the list of doses, then use an if statement to see if it is the dose we want, and then change it. However, this can be done in a single line using list comprehension."
   ]
  },
  {
   "cell_type": "code",
   "execution_count": 15,
   "id": "b46594ab-404e-4a74-8e7b-1bf44f67288a",
   "metadata": {},
   "outputs": [
    {
     "name": "stdout",
     "output_type": "stream",
     "text": [
      "['0.1 mpk', '10 mpk']\n"
     ]
    }
   ],
   "source": [
    "# Traditional method\n",
    "# Initializing lists\n",
    "doses = [0.1, 1, 10, 100]\n",
    "doses_mpk = []\n",
    "#For loop to go over each dose\n",
    "for dose in doses:\n",
    "    # Checking if it's the right dose\n",
    "    if dose in [0.1, 10]:\n",
    "        # Appending updated dose in mpk\n",
    "        doses_mpk.append(str(dose) + \" mpk\")\n",
    "print(doses_mpk)"
   ]
  },
  {
   "cell_type": "code",
   "execution_count": 16,
   "id": "274a84d4-3fd8-4252-90bf-e4d118b2b7c4",
   "metadata": {},
   "outputs": [
    {
     "name": "stdout",
     "output_type": "stream",
     "text": [
      "['0.1 mpk', '10 mpk']\n"
     ]
    }
   ],
   "source": [
    "doses = [0.1, 1, 10, 100]\n",
    "# For each dose in doses, if the dose is equal to 0.1 or 10, convert the dose to a string and add mpk to the end\n",
    "# Parentheses are not necessary and just added for clarity\n",
    "doses_mpk = [(str(dose) + \" mpk\") for dose in doses if (dose in [0.1, 10])]\n",
    "print(doses_mpk)"
   ]
  },
  {
   "cell_type": "markdown",
   "id": "f02462e9-fcdd-42eb-86f3-6e19cda63349",
   "metadata": {},
   "source": [
    "You can also add conditions to the expression itself, to do different things depending on the item. In this example, we create a list of receptor occupancies that pass the given threshold. "
   ]
  },
  {
   "cell_type": "code",
   "execution_count": 17,
   "id": "74080cd5-7d30-43bf-9ad7-4db2e3addd05",
   "metadata": {},
   "outputs": [
    {
     "name": "stdout",
     "output_type": "stream",
     "text": [
      "['fail', 'fail', 'fail', 'fail', 'fail', 'pass', 'pass', 'pass']\n"
     ]
    }
   ],
   "source": [
    "receptor_occupancies = [1.76, 7.01, 18.18, 26.24, 53.85, 86.12, 94.4, 100]\n",
    "# list as passing if the RO > 80, otherwise it will be marked as fail\n",
    "passing_ROs = [(\"pass\" if (RO > 80) else \"fail\") for RO in receptor_occupancies]\n",
    "print(passing_ROs)"
   ]
  },
  {
   "cell_type": "markdown",
   "id": "5c5c5769-e87e-472a-963a-bad8212a5759",
   "metadata": {},
   "source": [
    "### Dictionary Comprehension\n",
    "You can also create dictionaries using comprehension similar to lists. The basic syntax is the same, but the only difference is that you use `{}` and need to specify a key value pair instead of just 1 item."
   ]
  },
  {
   "cell_type": "code",
   "execution_count": 18,
   "id": "54b004a8-e0c2-4bf8-9b62-29c56e9e6ca6",
   "metadata": {},
   "outputs": [
    {
     "name": "stdout",
     "output_type": "stream",
     "text": [
      "{'drug_1': 14, 'drug_2': 26, 'drug_3': 58}\n"
     ]
    }
   ],
   "source": [
    "# Lists to create the dictionary\n",
    "molecule_names = ['drug_1', 'drug_2', 'drug_3']\n",
    "molecule_kd = [14, 26, 58]\n",
    "# creating a dictionary, zip combines the lists into a list of paired tuples, which allows for iterating 2 lists at once.\n",
    "molecule_dict = {name: kd for name, kd in zip(molecule_names, molecule_kd)}\n",
    "print(molecule_dict)"
   ]
  }
 ],
 "metadata": {
  "kernelspec": {
   "display_name": "Poetry",
   "language": "python",
   "name": "poetry-kernel"
  },
  "language_info": {
   "codemirror_mode": {
    "name": "ipython",
    "version": 3
   },
   "file_extension": ".py",
   "mimetype": "text/x-python",
   "name": "python",
   "nbconvert_exporter": "python",
   "pygments_lexer": "ipython3",
   "version": "3.10.5"
  }
 },
 "nbformat": 4,
 "nbformat_minor": 5
}
