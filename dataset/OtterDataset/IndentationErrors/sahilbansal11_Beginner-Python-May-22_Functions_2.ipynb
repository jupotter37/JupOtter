{
  "nbformat": 4,
  "nbformat_minor": 0,
  "metadata": {
    "colab": {
      "name": "Functions 2.ipynb",
      "provenance": []
    },
    "kernelspec": {
      "name": "python3",
      "display_name": "Python 3"
    },
    "language_info": {
      "name": "python"
    }
  },
  "cells": [
    {
      "cell_type": "code",
      "execution_count": null,
      "metadata": {
        "colab": {
          "base_uri": "https://localhost:8080/"
        },
        "id": "dcst_7gd13M4",
        "outputId": "88f2cc22-9d2f-4592-b3db-1af960dc1527"
      },
      "outputs": [
        {
          "output_type": "stream",
          "name": "stdout",
          "text": [
            "1+2-1-2+"
          ]
        }
      ],
      "source": [
        "print('1', '2', sep='+', end='-')\n",
        "print('1', '2', end='+', sep='-')"
      ]
    },
    {
      "cell_type": "markdown",
      "source": [
        "## Functions"
      ],
      "metadata": {
        "id": "dk4pzuLS18Q4"
      }
    },
    {
      "cell_type": "code",
      "source": [
        "def my_absolute(x): # user defined function\n",
        "  if x >= 0:\n",
        "    return x\n",
        "  else:\n",
        "    return (-1)*x\n"
      ],
      "metadata": {
        "colab": {
          "base_uri": "https://localhost:8080/",
          "height": 131
        },
        "id": "uSOhJJfe18r_",
        "outputId": "95f4f529-380b-42be-9743-3bc70a46f10d"
      },
      "execution_count": null,
      "outputs": [
        {
          "output_type": "error",
          "ename": "IndentationError",
          "evalue": "ignored",
          "traceback": [
            "\u001b[0;36m  File \u001b[0;32m\"<ipython-input-10-95ddd387f25e>\"\u001b[0;36m, line \u001b[0;32m4\u001b[0m\n\u001b[0;31m    print('hello world')\u001b[0m\n\u001b[0m    ^\u001b[0m\n\u001b[0;31mIndentationError\u001b[0m\u001b[0;31m:\u001b[0m unexpected indent\n"
          ]
        }
      ]
    },
    {
      "cell_type": "code",
      "source": [
        "y = my_absolute(3.4)\n",
        "print(y)"
      ],
      "metadata": {
        "colab": {
          "base_uri": "https://localhost:8080/"
        },
        "id": "kT6WIx0b-c0Q",
        "outputId": "fb43dbe2-a759-4d01-b156-b66c1ef1f6ba"
      },
      "execution_count": null,
      "outputs": [
        {
          "output_type": "stream",
          "name": "stdout",
          "text": [
            "3.4\n"
          ]
        }
      ]
    },
    {
      "cell_type": "code",
      "source": [
        "z = my_absolute(-3.4)\n",
        "print(z)"
      ],
      "metadata": {
        "colab": {
          "base_uri": "https://localhost:8080/"
        },
        "id": "J4QFRWu--qjx",
        "outputId": "7025b5e5-dcb9-4001-ffab-98abe255d668"
      },
      "execution_count": null,
      "outputs": [
        {
          "output_type": "stream",
          "name": "stdout",
          "text": [
            "3.4\n"
          ]
        }
      ]
    },
    {
      "cell_type": "code",
      "source": [
        "print(my_absolute(-99.123))"
      ],
      "metadata": {
        "colab": {
          "base_uri": "https://localhost:8080/"
        },
        "id": "tj9hSgsz-6i1",
        "outputId": "99d89ec4-51df-4aaf-8d77-ed8fd5756bdd"
      },
      "execution_count": null,
      "outputs": [
        {
          "output_type": "stream",
          "name": "stdout",
          "text": [
            "99.123\n"
          ]
        }
      ]
    },
    {
      "cell_type": "code",
      "source": [
        ""
      ],
      "metadata": {
        "id": "h-UcnSFB_JZa"
      },
      "execution_count": null,
      "outputs": []
    },
    {
      "cell_type": "markdown",
      "source": [
        "## Distance function"
      ],
      "metadata": {
        "id": "jwjtEyyLD7wr"
      }
    },
    {
      "cell_type": "code",
      "source": [
        "def distance_travelled(u, t, a = 9.8):\n",
        "  s = u*t + 0.5*a*t*t\n",
        "\n",
        "  return s\n",
        "\n",
        "res = distance_travelled(0, 1) # a is not passed\n",
        "print(res)"
      ],
      "metadata": {
        "colab": {
          "base_uri": "https://localhost:8080/"
        },
        "id": "HhaYuED7D9HN",
        "outputId": "949828ea-3a4f-411f-da65-823b9e77728e"
      },
      "execution_count": null,
      "outputs": [
        {
          "output_type": "stream",
          "name": "stdout",
          "text": [
            "4.9\n"
          ]
        }
      ]
    },
    {
      "cell_type": "code",
      "source": [
        "res2 = distance_travelled(0, 1, 3.72)\n",
        "print(res2)"
      ],
      "metadata": {
        "colab": {
          "base_uri": "https://localhost:8080/"
        },
        "id": "wcMid8bPEDq1",
        "outputId": "f9c0450f-41a0-4085-d0d2-26967df13b1b"
      },
      "execution_count": null,
      "outputs": [
        {
          "output_type": "stream",
          "name": "stdout",
          "text": [
            "1.86\n"
          ]
        }
      ]
    },
    {
      "cell_type": "code",
      "source": [
        ""
      ],
      "metadata": {
        "id": "sMqSr4VrEiFu"
      },
      "execution_count": null,
      "outputs": []
    },
    {
      "cell_type": "code",
      "source": [
        "def print_date(d, m, y, style=0):\n",
        "    if style == 0:  # American\n",
        "        print(m, '/', d, '/', y)\n",
        "    elif style == 1:  # European\n",
        "        print(d, '/', m, '/', y)\n",
        "    else:\n",
        "        print('Invalid Style')\n",
        "\n",
        "print_date(30, 5, 2022)"
      ],
      "metadata": {
        "colab": {
          "base_uri": "https://localhost:8080/"
        },
        "id": "zNCzrTAxHwCX",
        "outputId": "cd41cf59-3626-4f31-e8e1-86f32f686547"
      },
      "execution_count": null,
      "outputs": [
        {
          "output_type": "stream",
          "name": "stdout",
          "text": [
            "5 / 30 / 2022\n"
          ]
        }
      ]
    },
    {
      "cell_type": "code",
      "source": [
        "def print_date(d=1, m=1, y=2000, style=0):\n",
        "    if style == 0:  # American\n",
        "        print(m, '/', d, '/', y)\n",
        "    elif style == 1:  # European\n",
        "        print(d, '/', m, '/', y)\n",
        "    else:\n",
        "        print('Invalid Style')\n",
        "\n",
        "print_date(d=30, y=2022)\n",
        "print_date(30, 1)\n",
        "\n",
        "print_date(30, 1, style=1, y=2022) # d and m are positional,\n",
        "# style and y are keyword\n",
        "\n",
        "# print_date(30, 1, style=1, y=2022, d=29)"
      ],
      "metadata": {
        "colab": {
          "base_uri": "https://localhost:8080/"
        },
        "id": "Bz6ZLPvuH-gY",
        "outputId": "9cc337d7-c992-40ba-e728-d988399edac5"
      },
      "execution_count": null,
      "outputs": [
        {
          "output_type": "stream",
          "name": "stdout",
          "text": [
            "1 / 30 / 2022\n",
            "1 / 30 / 2000\n",
            "30 / 1 / 2022\n"
          ]
        }
      ]
    },
    {
      "cell_type": "code",
      "source": [
        ""
      ],
      "metadata": {
        "id": "O74wu5g0IZtx"
      },
      "execution_count": null,
      "outputs": []
    },
    {
      "cell_type": "markdown",
      "source": [
        "## Keyword Arguments"
      ],
      "metadata": {
        "id": "YvbmrT6dJCKF"
      }
    },
    {
      "cell_type": "code",
      "source": [
        "print('5', '3', '2')"
      ],
      "metadata": {
        "colab": {
          "base_uri": "https://localhost:8080/"
        },
        "id": "yCWk55KIJDaY",
        "outputId": "bf2cacc9-bb0c-471a-b76a-4ec2f6a64c47"
      },
      "execution_count": null,
      "outputs": [
        {
          "output_type": "stream",
          "name": "stdout",
          "text": [
            "5 3 2\n"
          ]
        }
      ]
    },
    {
      "cell_type": "code",
      "source": [
        "print('5', '3', '2', sep='+')"
      ],
      "metadata": {
        "colab": {
          "base_uri": "https://localhost:8080/"
        },
        "id": "7uNNgQarJG7v",
        "outputId": "c535bc0e-5991-4a07-b699-b598a81f845d"
      },
      "execution_count": null,
      "outputs": [
        {
          "output_type": "stream",
          "name": "stdout",
          "text": [
            "5+3+2\n"
          ]
        }
      ]
    },
    {
      "cell_type": "code",
      "source": [
        "print('5', '3', '2', '+')"
      ],
      "metadata": {
        "colab": {
          "base_uri": "https://localhost:8080/"
        },
        "id": "cXrZ5PXbJJrV",
        "outputId": "f1eb317d-f079-4a9e-f25e-e193e4317287"
      },
      "execution_count": null,
      "outputs": [
        {
          "output_type": "stream",
          "name": "stdout",
          "text": [
            "5 3 2 +\n"
          ]
        }
      ]
    },
    {
      "cell_type": "code",
      "source": [
        ""
      ],
      "metadata": {
        "id": "VQyc4lONJPZZ"
      },
      "execution_count": null,
      "outputs": []
    },
    {
      "cell_type": "code",
      "source": [
        "def print_book_description(title, author, publisher, year, version, num_pages):\n",
        "  print(\"The book's title is:\", title)\n",
        "  print(\"The book's author is:\", author)\n",
        "  print(\"The book's publisher is:\", publisher)\n",
        "  print(\"The book's year is:\", year)\n",
        "  print(\"The book's version is:\", version)\n",
        "  print(\"The book's has these many pages:\", num_pages)\n",
        "\n",
        "print_book_description('The Lord of the Rings', 'J. R. R Tolkien',\n",
        "                       'George Allen & Uwin', 1954, 1.0, 456)"
      ],
      "metadata": {
        "colab": {
          "base_uri": "https://localhost:8080/"
        },
        "id": "Y2RUfmZKKQXR",
        "outputId": "b469de18-031c-4c4a-91de-4132f6bf7c57"
      },
      "execution_count": null,
      "outputs": [
        {
          "output_type": "stream",
          "name": "stdout",
          "text": [
            "The book's title is: The Lord of the Rings\n",
            "The book's author is: J. R. R Tolkien\n",
            "The book's publisher is: George Allen & Uwin\n",
            "The book's year is: 1954\n",
            "The book's version is: 1.0\n",
            "The book's has these many pages: 456\n"
          ]
        }
      ]
    },
    {
      "cell_type": "code",
      "source": [
        "\n",
        "s = \"Sahil\\\"s\"\n",
        "\n",
        "print(s)"
      ],
      "metadata": {
        "colab": {
          "base_uri": "https://localhost:8080/"
        },
        "id": "8l-kiQZSKYST",
        "outputId": "a99f86dc-1d5b-4d80-ca25-3c5231942abe"
      },
      "execution_count": null,
      "outputs": [
        {
          "output_type": "stream",
          "name": "stdout",
          "text": [
            "Sahil\"s\n"
          ]
        }
      ]
    },
    {
      "cell_type": "code",
      "source": [
        "print_book_description('J. R. R Tolkien', 'The Lord of The Rings',\n",
        "                       'George Allen & Uwin', 1954, 1.0, 456)"
      ],
      "metadata": {
        "colab": {
          "base_uri": "https://localhost:8080/"
        },
        "id": "yyVO5M6qLm-o",
        "outputId": "0222a76b-73c0-458b-bbfd-bbaa4880d45c"
      },
      "execution_count": null,
      "outputs": [
        {
          "output_type": "stream",
          "name": "stdout",
          "text": [
            "The book's title is: J. R. R Tolkien\n",
            "The book's author is: The Lord of The Rings\n",
            "The book's publisher is: George Allen & Uwin\n",
            "The book's year is: 1954\n",
            "The book's version is: 1.0\n",
            "The book's has these many pages: 456\n"
          ]
        }
      ]
    },
    {
      "cell_type": "code",
      "source": [
        "print_book_description(author='J. R. R Tolkien', title='The Lord of The Rings',\n",
        "                       publisher='George Allen & Uwin',\n",
        "                       year=1954,\n",
        "                       version=1.0,\n",
        "                       num_pages=456)"
      ],
      "metadata": {
        "colab": {
          "base_uri": "https://localhost:8080/"
        },
        "id": "LtWS_2tEKcS1",
        "outputId": "68764ae2-5e8e-49be-b27f-2037a22ce9b6"
      },
      "execution_count": null,
      "outputs": [
        {
          "output_type": "stream",
          "name": "stdout",
          "text": [
            "The book's title is: The Lord of The Rings\n",
            "The book's author is: J. R. R Tolkien\n",
            "The book's publisher is: George Allen & Uwin\n",
            "The book's year is: 1954\n",
            "The book's version is: 1.0\n",
            "The book's has these many pages: 456\n"
          ]
        }
      ]
    },
    {
      "cell_type": "code",
      "source": [
        ""
      ],
      "metadata": {
        "id": "bKKresbHMVkN"
      },
      "execution_count": null,
      "outputs": []
    },
    {
      "cell_type": "markdown",
      "source": [
        "## Quiz"
      ],
      "metadata": {
        "id": "hVB-vtCnNaHR"
      }
    },
    {
      "cell_type": "code",
      "source": [
        "def print_date(d=1, m=1, y=2022, s=0):\n",
        "    if s == 0:  # American\n",
        "        print(m, '/', d, '/', y)\n",
        "    elif s == 1:  # European\n",
        "        print(d, '/', m, '/', y)\n",
        "    else:\n",
        "        print('Invalid Style')\n",
        "\n",
        "print_date(d=30, y=2022)\n",
        "\n"
      ],
      "metadata": {
        "colab": {
          "base_uri": "https://localhost:8080/"
        },
        "id": "CFKgkV9rNaf2",
        "outputId": "d5bf096d-2227-414f-dd0b-7745b57e9cff"
      },
      "execution_count": null,
      "outputs": [
        {
          "output_type": "stream",
          "name": "stdout",
          "text": [
            "1 / 30 / 2022\n"
          ]
        }
      ]
    },
    {
      "cell_type": "code",
      "source": [
        ""
      ],
      "metadata": {
        "id": "EtQtOttQNkTG"
      },
      "execution_count": null,
      "outputs": []
    },
    {
      "cell_type": "markdown",
      "source": [
        "## Some Important Library Functions"
      ],
      "metadata": {
        "id": "DIW21OdBPdR5"
      }
    },
    {
      "cell_type": "code",
      "source": [
        "s = abs(-1)\n",
        "print(S)\n",
        "\n"
      ],
      "metadata": {
        "colab": {
          "base_uri": "https://localhost:8080/",
          "height": 201
        },
        "id": "2_DMbb9hPe4i",
        "outputId": "58902ea0-7f57-4496-f1d3-4cfeb9ae4334"
      },
      "execution_count": null,
      "outputs": [
        {
          "output_type": "error",
          "ename": "NameError",
          "evalue": "ignored",
          "traceback": [
            "\u001b[0;31m---------------------------------------------------------------------------\u001b[0m",
            "\u001b[0;31mNameError\u001b[0m                                 Traceback (most recent call last)",
            "\u001b[0;32m<ipython-input-36-e64c54c5141e>\u001b[0m in \u001b[0;36m<module>\u001b[0;34m()\u001b[0m\n\u001b[1;32m      1\u001b[0m \u001b[0ms\u001b[0m \u001b[0;34m=\u001b[0m \u001b[0mabs\u001b[0m\u001b[0;34m(\u001b[0m\u001b[0;34m-\u001b[0m\u001b[0;36m1\u001b[0m\u001b[0;34m)\u001b[0m\u001b[0;34m\u001b[0m\u001b[0;34m\u001b[0m\u001b[0m\n\u001b[0;32m----> 2\u001b[0;31m \u001b[0mprint\u001b[0m\u001b[0;34m(\u001b[0m\u001b[0mS\u001b[0m\u001b[0;34m)\u001b[0m\u001b[0;34m\u001b[0m\u001b[0;34m\u001b[0m\u001b[0m\n\u001b[0m\u001b[1;32m      3\u001b[0m \u001b[0;34m\u001b[0m\u001b[0m\n",
            "\u001b[0;31mNameError\u001b[0m: name 'S' is not defined"
          ]
        }
      ]
    },
    {
      "cell_type": "code",
      "source": [
        "s = abs(-1) # in-built function, present in the default library\n",
        "print(s)\n",
        "\n"
      ],
      "metadata": {
        "colab": {
          "base_uri": "https://localhost:8080/"
        },
        "id": "Pk6DMaHEPj2b",
        "outputId": "dca50dbd-0953-46eb-acd5-b02471be8050"
      },
      "execution_count": null,
      "outputs": [
        {
          "output_type": "stream",
          "name": "stdout",
          "text": [
            "1\n"
          ]
        }
      ]
    },
    {
      "cell_type": "code",
      "source": [
        "max_of_three = max(3, 1, 2)\n",
        "\n",
        "print(max_of_three)"
      ],
      "metadata": {
        "colab": {
          "base_uri": "https://localhost:8080/"
        },
        "id": "uIehVK4MPlOr",
        "outputId": "007bba12-eafa-444f-de53-d72f560f6e6f"
      },
      "execution_count": null,
      "outputs": [
        {
          "output_type": "stream",
          "name": "stdout",
          "text": [
            "3\n"
          ]
        }
      ]
    },
    {
      "cell_type": "code",
      "source": [
        "res_max = max(3, 1, 2, 100, 124, 52, 35)\n",
        "\n",
        "print(res_max)"
      ],
      "metadata": {
        "colab": {
          "base_uri": "https://localhost:8080/"
        },
        "id": "DNJKX2WIP3An",
        "outputId": "a0e4c546-05fb-4fd7-c79d-cd196fb83866"
      },
      "execution_count": null,
      "outputs": [
        {
          "output_type": "stream",
          "name": "stdout",
          "text": [
            "124\n"
          ]
        }
      ]
    },
    {
      "cell_type": "code",
      "source": [
        "x = sqrt(10)\n",
        "print(x)"
      ],
      "metadata": {
        "colab": {
          "base_uri": "https://localhost:8080/",
          "height": 183
        },
        "id": "i0B_A5r7P9Hn",
        "outputId": "89154d46-0a0f-4525-95dd-3e4cab3bba8e"
      },
      "execution_count": null,
      "outputs": [
        {
          "output_type": "error",
          "ename": "NameError",
          "evalue": "ignored",
          "traceback": [
            "\u001b[0;31m---------------------------------------------------------------------------\u001b[0m",
            "\u001b[0;31mNameError\u001b[0m                                 Traceback (most recent call last)",
            "\u001b[0;32m<ipython-input-40-d66001f7c48c>\u001b[0m in \u001b[0;36m<module>\u001b[0;34m()\u001b[0m\n\u001b[0;32m----> 1\u001b[0;31m \u001b[0mx\u001b[0m \u001b[0;34m=\u001b[0m \u001b[0msqrt\u001b[0m\u001b[0;34m(\u001b[0m\u001b[0;36m10\u001b[0m\u001b[0;34m)\u001b[0m\u001b[0;34m\u001b[0m\u001b[0;34m\u001b[0m\u001b[0m\n\u001b[0m\u001b[1;32m      2\u001b[0m \u001b[0mprint\u001b[0m\u001b[0;34m(\u001b[0m\u001b[0mx\u001b[0m\u001b[0;34m)\u001b[0m\u001b[0;34m\u001b[0m\u001b[0;34m\u001b[0m\u001b[0m\n",
            "\u001b[0;31mNameError\u001b[0m: name 'sqrt' is not defined"
          ]
        }
      ]
    },
    {
      "cell_type": "code",
      "source": [
        ""
      ],
      "metadata": {
        "id": "q4KXPDGhQcIn"
      },
      "execution_count": null,
      "outputs": []
    },
    {
      "cell_type": "markdown",
      "source": [
        "## Math library"
      ],
      "metadata": {
        "id": "xcuGv5EURxbt"
      }
    },
    {
      "cell_type": "code",
      "source": [
        "import math"
      ],
      "metadata": {
        "id": "K1a9jRaURzVr"
      },
      "execution_count": null,
      "outputs": []
    },
    {
      "cell_type": "code",
      "source": [
        "print(type(math))"
      ],
      "metadata": {
        "colab": {
          "base_uri": "https://localhost:8080/"
        },
        "id": "jiM4gRP1R0it",
        "outputId": "da044f70-7d1f-4cb6-fdbe-bc817391676c"
      },
      "execution_count": null,
      "outputs": [
        {
          "output_type": "stream",
          "name": "stdout",
          "text": [
            "<class 'module'>\n"
          ]
        }
      ]
    },
    {
      "cell_type": "code",
      "source": [
        "x = math.sqrt(10)\n",
        "print(x)"
      ],
      "metadata": {
        "colab": {
          "base_uri": "https://localhost:8080/"
        },
        "id": "cdJhqFOkR1Zz",
        "outputId": "cf9e7e4a-39e5-467a-d1de-8f223b5a3c3f"
      },
      "execution_count": null,
      "outputs": [
        {
          "output_type": "stream",
          "name": "stdout",
          "text": [
            "3.1622776601683795\n"
          ]
        }
      ]
    },
    {
      "cell_type": "code",
      "source": [
        "y = 10**(1/2)\n",
        "print(y)"
      ],
      "metadata": {
        "colab": {
          "base_uri": "https://localhost:8080/"
        },
        "id": "MbI_iLKQSPvz",
        "outputId": "a8b2a87c-05d2-440b-801a-7eed8472f2bd"
      },
      "execution_count": null,
      "outputs": [
        {
          "output_type": "stream",
          "name": "stdout",
          "text": [
            "3.1622776601683795\n"
          ]
        }
      ]
    },
    {
      "cell_type": "code",
      "source": [
        "x = 9**2\n",
        "print(x)"
      ],
      "metadata": {
        "colab": {
          "base_uri": "https://localhost:8080/"
        },
        "id": "t-666q0QSBHB",
        "outputId": "27483677-afdf-4fb8-a599-a868a2101481"
      },
      "execution_count": null,
      "outputs": [
        {
          "output_type": "stream",
          "name": "stdout",
          "text": [
            "81\n"
          ]
        }
      ]
    },
    {
      "cell_type": "code",
      "source": [
        "z = 9**3\n",
        "print(z)"
      ],
      "metadata": {
        "colab": {
          "base_uri": "https://localhost:8080/"
        },
        "id": "e4UTm9A0SL5S",
        "outputId": "2bf11ee7-d1f4-4f70-a6dd-033fe3c71446"
      },
      "execution_count": null,
      "outputs": [
        {
          "output_type": "stream",
          "name": "stdout",
          "text": [
            "729\n"
          ]
        }
      ]
    },
    {
      "cell_type": "code",
      "source": [
        "print(math.pi)"
      ],
      "metadata": {
        "colab": {
          "base_uri": "https://localhost:8080/"
        },
        "id": "25li-JXhSXR_",
        "outputId": "c673de25-7c9f-4f7c-bd2a-50dd8b0a39ee"
      },
      "execution_count": null,
      "outputs": [
        {
          "output_type": "stream",
          "name": "stdout",
          "text": [
            "3.141592653589793\n"
          ]
        }
      ]
    },
    {
      "cell_type": "code",
      "source": [
        "print(math.ceil(9.6))"
      ],
      "metadata": {
        "colab": {
          "base_uri": "https://localhost:8080/"
        },
        "id": "yeDd4CZZSnNj",
        "outputId": "3f3feac5-2e4c-4eb3-b38e-f118e3d4119b"
      },
      "execution_count": null,
      "outputs": [
        {
          "output_type": "stream",
          "name": "stdout",
          "text": [
            "10\n"
          ]
        }
      ]
    },
    {
      "cell_type": "code",
      "source": [
        ""
      ],
      "metadata": {
        "id": "sCsArzebTnDY"
      },
      "execution_count": null,
      "outputs": []
    },
    {
      "cell_type": "code",
      "source": [
        "print(math.sqrt(1001))"
      ],
      "metadata": {
        "colab": {
          "base_uri": "https://localhost:8080/"
        },
        "id": "qtzP_ltQUFBc",
        "outputId": "c97d3aa7-fc1d-4014-dc67-191015402183"
      },
      "execution_count": null,
      "outputs": [
        {
          "output_type": "stream",
          "name": "stdout",
          "text": [
            "31.63858403911275\n"
          ]
        }
      ]
    },
    {
      "cell_type": "code",
      "source": [
        "print(math.sqrt(1332))"
      ],
      "metadata": {
        "colab": {
          "base_uri": "https://localhost:8080/"
        },
        "id": "AyNnu390UGQO",
        "outputId": "fadff535-4456-4183-be64-8e300ca429bc"
      },
      "execution_count": null,
      "outputs": [
        {
          "output_type": "stream",
          "name": "stdout",
          "text": [
            "36.49657518178932\n"
          ]
        }
      ]
    },
    {
      "cell_type": "code",
      "source": [
        "int(36.49657518178932)"
      ],
      "metadata": {
        "colab": {
          "base_uri": "https://localhost:8080/"
        },
        "id": "Fq3KSPJAVA3R",
        "outputId": "2920131c-2a0d-4d04-c04b-471b8c06f63b"
      },
      "execution_count": null,
      "outputs": [
        {
          "output_type": "execute_result",
          "data": {
            "text/plain": [
              "36"
            ]
          },
          "metadata": {},
          "execution_count": 54
        }
      ]
    },
    {
      "cell_type": "code",
      "source": [
        "print(36*36)"
      ],
      "metadata": {
        "colab": {
          "base_uri": "https://localhost:8080/"
        },
        "id": "8zt4UAXVVC_y",
        "outputId": "f33e18bd-bc54-4ef1-b189-0949461a49e7"
      },
      "execution_count": null,
      "outputs": [
        {
          "output_type": "stream",
          "name": "stdout",
          "text": [
            "1296\n"
          ]
        }
      ]
    },
    {
      "cell_type": "code",
      "source": [
        ""
      ],
      "metadata": {
        "id": "u8q4DrpqVJxy"
      },
      "execution_count": null,
      "outputs": []
    },
    {
      "cell_type": "code",
      "source": [
        "print(3.14*72*72)"
      ],
      "metadata": {
        "colab": {
          "base_uri": "https://localhost:8080/"
        },
        "id": "USRR-qHxWkNr",
        "outputId": "37d7e73c-3c25-4363-c23b-bf9b23a135eb"
      },
      "execution_count": null,
      "outputs": [
        {
          "output_type": "stream",
          "name": "stdout",
          "text": [
            "16277.76\n"
          ]
        }
      ]
    },
    {
      "cell_type": "code",
      "source": [
        "x = 16277.76\n",
        "print(math.ceil(x))"
      ],
      "metadata": {
        "colab": {
          "base_uri": "https://localhost:8080/"
        },
        "id": "fDc5JcMWWmSS",
        "outputId": "cf48c1a8-edaf-4ceb-fa7e-3280fd8063d0"
      },
      "execution_count": null,
      "outputs": [
        {
          "output_type": "stream",
          "name": "stdout",
          "text": [
            "16278\n"
          ]
        }
      ]
    },
    {
      "cell_type": "code",
      "source": [
        "print(math.pi)"
      ],
      "metadata": {
        "colab": {
          "base_uri": "https://localhost:8080/"
        },
        "id": "s9Sfw2-eWorA",
        "outputId": "9b499364-cd88-42fa-f7fd-62e4fddb910b"
      },
      "execution_count": null,
      "outputs": [
        {
          "output_type": "stream",
          "name": "stdout",
          "text": [
            "3.141592653589793\n"
          ]
        }
      ]
    },
    {
      "cell_type": "code",
      "source": [
        "print(math.pi * 72*72)"
      ],
      "metadata": {
        "colab": {
          "base_uri": "https://localhost:8080/"
        },
        "id": "H0ulAcxxWslz",
        "outputId": "5b7cab16-d4a8-485a-e01a-b483c85e8182"
      },
      "execution_count": null,
      "outputs": [
        {
          "output_type": "stream",
          "name": "stdout",
          "text": [
            "16286.016316209487\n"
          ]
        }
      ]
    },
    {
      "cell_type": "code",
      "source": [
        "y = 16286.016316209487\n",
        "print(math.ceil(y))"
      ],
      "metadata": {
        "colab": {
          "base_uri": "https://localhost:8080/"
        },
        "id": "wTKrOdzKWz0I",
        "outputId": "17ebb9a7-0f14-4909-f3f4-b4441f9e60d8"
      },
      "execution_count": null,
      "outputs": [
        {
          "output_type": "stream",
          "name": "stdout",
          "text": [
            "16287\n"
          ]
        }
      ]
    },
    {
      "cell_type": "markdown",
      "source": [
        "## Doubts"
      ],
      "metadata": {
        "id": "eU9jzaO4X7_K"
      }
    },
    {
      "cell_type": "code",
      "source": [
        "def add(x, y):\n",
        "  return x + y\n",
        "\n",
        "r = add(1, 3)\n",
        "z = add(2.5, 6.5)\n",
        "y = add(3, 9)\n",
        "\n",
        "print(r + z + y)"
      ],
      "metadata": {
        "colab": {
          "base_uri": "https://localhost:8080/"
        },
        "id": "LBSdz-kOX7tj",
        "outputId": "23b9b8fc-216e-46ae-ba3c-83ac348dbba4"
      },
      "execution_count": null,
      "outputs": [
        {
          "output_type": "stream",
          "name": "stdout",
          "text": [
            "25.0\n"
          ]
        }
      ]
    },
    {
      "cell_type": "code",
      "source": [
        "1.0 == 1 # it is same as 1.0 == 1.0, automatically type conversion happens\n",
        "# for 1"
      ],
      "metadata": {
        "colab": {
          "base_uri": "https://localhost:8080/"
        },
        "id": "pijgIlAzW2Rv",
        "outputId": "1373a133-a173-4991-bf03-8034e090d311"
      },
      "execution_count": null,
      "outputs": [
        {
          "output_type": "execute_result",
          "data": {
            "text/plain": [
              "True"
            ]
          },
          "metadata": {},
          "execution_count": 66
        }
      ]
    },
    {
      "cell_type": "code",
      "source": [
        "-1.0 == 1"
      ],
      "metadata": {
        "colab": {
          "base_uri": "https://localhost:8080/"
        },
        "id": "g5LPrmpCZRUu",
        "outputId": "1eaa366f-564d-4015-d30f-75f96cae225b"
      },
      "execution_count": null,
      "outputs": [
        {
          "output_type": "execute_result",
          "data": {
            "text/plain": [
              "False"
            ]
          },
          "metadata": {},
          "execution_count": 67
        }
      ]
    },
    {
      "cell_type": "code",
      "source": [
        ""
      ],
      "metadata": {
        "id": "GbwnBHhJZdl6"
      },
      "execution_count": null,
      "outputs": []
    }
  ]
}