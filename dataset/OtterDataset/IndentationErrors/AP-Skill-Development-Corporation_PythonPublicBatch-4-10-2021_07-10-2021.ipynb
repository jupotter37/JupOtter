{
 "cells": [
  {
   "cell_type": "markdown",
   "metadata": {},
   "source": [
    "## Day Objective\n",
    "- Conditional Statements\n",
    "- Loops"
   ]
  },
  {
   "cell_type": "markdown",
   "metadata": {},
   "source": [
    "### Conditional Statements\n",
    "- The decision making is depending on whether given condition is satisfied or not.\n",
    "    - if\n",
    "    - elif\n",
    "    - else"
   ]
  },
  {
   "cell_type": "markdown",
   "metadata": {},
   "source": [
    "- **if**\n",
    "> if(condition):\n",
    "        statement1\n",
    "        statement2\n",
    "          .....\n",
    "        statement N"
   ]
  },
  {
   "cell_type": "code",
   "execution_count": 1,
   "metadata": {},
   "outputs": [],
   "source": [
    "a = 22"
   ]
  },
  {
   "cell_type": "code",
   "execution_count": 2,
   "metadata": {},
   "outputs": [
    {
     "name": "stdout",
     "output_type": "stream",
     "text": [
      "This is If condition block\n",
      "22 is even number\n",
      "Outside of If block\n"
     ]
    }
   ],
   "source": [
    "if(a % 2 == 0):\n",
    "    print('This is If condition block') ## Statement 1\n",
    "    print(a, 'is even number') ## Statement 2\n",
    "    \n",
    "print('Outside of If block')"
   ]
  },
  {
   "cell_type": "code",
   "execution_count": 3,
   "metadata": {},
   "outputs": [],
   "source": [
    "a1 = 23\n",
    "if(a1 % 2 == 0):\n",
    "    print('This is If condition block') ## Statement 1\n",
    "    print(a, 'is even number') ## Statement 2"
   ]
  },
  {
   "cell_type": "markdown",
   "metadata": {},
   "source": [
    "- **if-else**\n",
    "> if(condition):\n",
    "        statement 1\n",
    "        statement 2\n",
    "        .\n",
    "        .\n",
    "        .\n",
    "        statement N\n",
    "   else:\n",
    "        statement 1\n",
    "        statement 2\n",
    "        .\n",
    "        .\n",
    "        .\n",
    "        statement N"
   ]
  },
  {
   "cell_type": "code",
   "execution_count": 4,
   "metadata": {},
   "outputs": [
    {
     "name": "stdout",
     "output_type": "stream",
     "text": [
      "Enter any number: 65\n",
      "65  is Odd Number\n"
     ]
    }
   ],
   "source": [
    "a2 = int(input('Enter any number: '))\n",
    "\n",
    "if(a2 % 2 == 0):\n",
    "    print(a2, ' is Even Number') # if statement 1\n",
    "else:\n",
    "    print(a2, ' is Odd Number') # else statement 1"
   ]
  },
  {
   "cell_type": "code",
   "execution_count": 8,
   "metadata": {},
   "outputs": [
    {
     "ename": "IndentationError",
     "evalue": "expected an indented block (<ipython-input-8-97464ad2d9c1>, line 4)",
     "output_type": "error",
     "traceback": [
      "\u001b[1;36m  File \u001b[1;32m\"<ipython-input-8-97464ad2d9c1>\"\u001b[1;36m, line \u001b[1;32m4\u001b[0m\n\u001b[1;33m    print(a3, ' is Odd Number') # if statement 1\u001b[0m\n\u001b[1;37m        ^\u001b[0m\n\u001b[1;31mIndentationError\u001b[0m\u001b[1;31m:\u001b[0m expected an indented block\n"
     ]
    }
   ],
   "source": [
    "a3 = int(input('Enter any number: '))\n",
    "\n",
    "if(a3 % 2 == 1) or (a2 % 2 != 0):\n",
    "print(a3, ' is Odd Number') # if statement 1\n",
    "else:\n",
    "    print(a3, ' is  Even Number') # else statement 1"
   ]
  },
  {
   "cell_type": "markdown",
   "metadata": {},
   "source": [
    "- **if-elif-else**\n",
    "> if condition 1:\n",
    "        statement 1\n",
    "        statement 2\n",
    "        .\n",
    "        .\n",
    "        .\n",
    "        statement N\n",
    "  elif condition 2:\n",
    "        statement 1\n",
    "        statement 2\n",
    "        .\n",
    "        .\n",
    "        .\n",
    "        statement N\n",
    "  else:\n",
    "        statement 1\n",
    "        statement 2\n",
    "        .\n",
    "        .\n",
    "        .\n",
    "        statement N"
   ]
  },
  {
   "cell_type": "code",
   "execution_count": 9,
   "metadata": {},
   "outputs": [
    {
     "data": {
      "text/plain": [
       "str"
      ]
     },
     "execution_count": 9,
     "metadata": {},
     "output_type": "execute_result"
    }
   ],
   "source": [
    "rollnumber1 = '19H71A0439'\n",
    "rollnumber2 = '18H71A0431'\n",
    "rollnumber3 = '17H71A0459'\n",
    "type(rollnumber1)"
   ]
  },
  {
   "cell_type": "code",
   "execution_count": null,
   "metadata": {},
   "outputs": [],
   "source": []
  },
  {
   "cell_type": "code",
   "execution_count": 12,
   "metadata": {},
   "outputs": [
    {
     "data": {
      "text/plain": [
       "True"
      ]
     },
     "execution_count": 12,
     "metadata": {},
     "output_type": "execute_result"
    }
   ],
   "source": [
    "rollnumber2.startswith('18')"
   ]
  },
  {
   "cell_type": "code",
   "execution_count": 14,
   "metadata": {},
   "outputs": [
    {
     "data": {
      "text/plain": [
       "False"
      ]
     },
     "execution_count": 14,
     "metadata": {},
     "output_type": "execute_result"
    }
   ],
   "source": [
    "rollnumber2.endswith('18')"
   ]
  },
  {
   "cell_type": "code",
   "execution_count": 16,
   "metadata": {},
   "outputs": [
    {
     "name": "stdout",
     "output_type": "stream",
     "text": [
      "18H71A0433  is belongs to Civil dept\n"
     ]
    }
   ],
   "source": [
    "## If rollnumber ends with 31, then print IT dept\n",
    "## elif rollnumber ends with 21, then print CSE dept\n",
    "## else print Civil dept\n",
    "\n",
    "rollnumber2 = '18H71A0433'\n",
    "\n",
    "if rollnumber2.endswith('31'):\n",
    "    print(rollnumber2, ' is belongs to IT dept')\n",
    "    \n",
    "elif rollnumber2.endswith('21'):\n",
    "    print(rollnumber2, ' is belongs to CSE dept')\n",
    "    \n",
    "else:\n",
    "    print(rollnumber2, ' is belongs to Civil dept')"
   ]
  },
  {
   "cell_type": "markdown",
   "metadata": {},
   "source": [
    "### Task\n",
    "1. Write a program to identify weather the given input email is belongs to \"apssdc.in\" or \"gmail.com\" else any other mail.\n",
    "    - srikanya@apssdc.in\n",
    "    - sai@gmail.com\n",
    "    - devendra@yahoo.com"
   ]
  },
  {
   "cell_type": "code",
   "execution_count": 24,
   "metadata": {},
   "outputs": [
    {
     "name": "stdout",
     "output_type": "stream",
     "text": [
      "enter number10\n",
      "10  is not divisible by 2, 6 and 10\n"
     ]
    }
   ],
   "source": [
    "## Check whether given number is divisible by 2, 6, 10\n",
    "\n",
    "number = int(input('enter number'))\n",
    "\n",
    "if (number % 2 == 0) and (number % 6 == 0) and (number % 10 == 0):\n",
    "    print(number, ' is divisible by 2, 6 and 10')\n",
    "else:\n",
    "    print(number, ' is not divisible by 2, 6 and 10')"
   ]
  },
  {
   "cell_type": "markdown",
   "metadata": {},
   "source": [
    "### Loops in python\n",
    "- To execute sequence of instruction for multiple times.\n",
    "    - for\n",
    "    - while\n",
    "    \n",
    "- **for syntax**\n",
    "> for(initialize; condition; ++/--)"
   ]
  },
  {
   "cell_type": "markdown",
   "metadata": {},
   "source": [
    "**Sequence of data**\n",
    "- Integers\n",
    "- Strings\n",
    "- List\n",
    "- Tuple\n",
    "- Dictionary\n",
    "- Sets"
   ]
  },
  {
   "cell_type": "markdown",
   "metadata": {},
   "source": [
    "**Iterating sequence of integers**\n",
    "- range()"
   ]
  },
  {
   "cell_type": "code",
   "execution_count": 26,
   "metadata": {},
   "outputs": [
    {
     "data": {
      "text/plain": [
       "range(0, 10)"
      ]
     },
     "execution_count": 26,
     "metadata": {},
     "output_type": "execute_result"
    }
   ],
   "source": [
    "range(10)"
   ]
  },
  {
   "cell_type": "code",
   "execution_count": 27,
   "metadata": {
    "collapsed": true
   },
   "outputs": [
    {
     "name": "stdout",
     "output_type": "stream",
     "text": [
      "0\n",
      "1\n",
      "2\n",
      "3\n",
      "4\n",
      "5\n",
      "6\n",
      "7\n",
      "8\n",
      "9\n"
     ]
    }
   ],
   "source": [
    "## print 0 to 10\n",
    "\n",
    "## i = 0, i < 10(condition), i++\n",
    "for i in range(10): # 10 is exclusive\n",
    "    print(i)"
   ]
  },
  {
   "cell_type": "code",
   "execution_count": 28,
   "metadata": {
    "collapsed": true
   },
   "outputs": [
    {
     "name": "stdout",
     "output_type": "stream",
     "text": [
      "0\n",
      "1\n",
      "2\n",
      "3\n",
      "4\n",
      "5\n",
      "6\n",
      "7\n",
      "8\n",
      "9\n",
      "10\n"
     ]
    }
   ],
   "source": [
    "for i in range(11): # 11 is exclusive\n",
    "    print(i)"
   ]
  },
  {
   "cell_type": "code",
   "execution_count": 29,
   "metadata": {
    "collapsed": true
   },
   "outputs": [
    {
     "name": "stdout",
     "output_type": "stream",
     "text": [
      "10\n",
      "9\n",
      "8\n",
      "7\n",
      "6\n",
      "5\n",
      "4\n",
      "3\n",
      "2\n",
      "1\n"
     ]
    }
   ],
   "source": [
    "## print 10 to 0\n",
    "for i in range(10,0,-1):\n",
    "    print(i)"
   ]
  },
  {
   "cell_type": "code",
   "execution_count": 31,
   "metadata": {},
   "outputs": [
    {
     "name": "stdout",
     "output_type": "stream",
     "text": [
      "10 11 12 13 14 15 16 17 18 19 20 "
     ]
    }
   ],
   "source": [
    "for i in range(10,21):\n",
    "    print(i, end = ' ')"
   ]
  },
  {
   "cell_type": "code",
   "execution_count": 32,
   "metadata": {},
   "outputs": [
    {
     "name": "stdout",
     "output_type": "stream",
     "text": [
      "10\t11\t12\t13\t14\t15\t16\t17\t18\t19\t20\t"
     ]
    }
   ],
   "source": [
    "for i in range(10,21):\n",
    "    print(i, end = '\\t')"
   ]
  },
  {
   "cell_type": "code",
   "execution_count": 34,
   "metadata": {},
   "outputs": [
    {
     "name": "stdout",
     "output_type": "stream",
     "text": [
      "0\t3\t6\t9\t"
     ]
    }
   ],
   "source": [
    "for i in range(0,10,3):\n",
    "    print(i, end = '\\t')"
   ]
  },
  {
   "cell_type": "code",
   "execution_count": 37,
   "metadata": {},
   "outputs": [
    {
     "name": "stdout",
     "output_type": "stream",
     "text": [
      "enter any number5\n",
      "5 * 1 = 5\n",
      "5 * 2 = 10\n",
      "5 * 3 = 15\n",
      "5 * 4 = 20\n",
      "5 * 5 = 25\n",
      "5 * 6 = 30\n",
      "5 * 7 = 35\n",
      "5 * 8 = 40\n",
      "5 * 9 = 45\n",
      "5 * 10 = 50\n"
     ]
    }
   ],
   "source": [
    "num = int(input('enter any number'))\n",
    "\n",
    "##  5 * 1 = 5\n",
    "for i in range(1,11):\n",
    "    print(num, '*', i, '=', num * i)"
   ]
  },
  {
   "cell_type": "markdown",
   "metadata": {},
   "source": [
    "- **Iterate sequence of strings**\n",
    "> for iter in Strings:\n",
    "        statement"
   ]
  },
  {
   "cell_type": "code",
   "execution_count": 38,
   "metadata": {
    "collapsed": true
   },
   "outputs": [
    {
     "name": "stdout",
     "output_type": "stream",
     "text": [
      "A\n",
      "P\n",
      "S\n",
      "S\n",
      "D\n",
      "C\n",
      " \n",
      "P\n",
      "y\n",
      "t\n",
      "h\n",
      "o\n",
      "n\n",
      " \n",
      "D\n",
      "a\n",
      "y\n",
      "0\n",
      "4\n"
     ]
    }
   ],
   "source": [
    "string1 = 'APSSDC Python Day04'\n",
    "\n",
    "for char in string1:\n",
    "    print(char)"
   ]
  },
  {
   "cell_type": "code",
   "execution_count": null,
   "metadata": {},
   "outputs": [],
   "source": []
  }
 ],
 "metadata": {
  "kernelspec": {
   "display_name": "Python 3",
   "language": "python",
   "name": "python3"
  },
  "language_info": {
   "codemirror_mode": {
    "name": "ipython",
    "version": 3
   },
   "file_extension": ".py",
   "mimetype": "text/x-python",
   "name": "python",
   "nbconvert_exporter": "python",
   "pygments_lexer": "ipython3",
   "version": "3.7.3"
  }
 },
 "nbformat": 4,
 "nbformat_minor": 2
}
