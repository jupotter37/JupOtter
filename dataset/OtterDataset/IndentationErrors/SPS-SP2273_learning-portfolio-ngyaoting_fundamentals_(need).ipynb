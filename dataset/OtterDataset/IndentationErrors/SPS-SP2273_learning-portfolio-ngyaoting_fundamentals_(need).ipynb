{
 "cells": [
  {
   "cell_type": "markdown",
   "id": "123456",
   "metadata": {},
   "source": [
    "<div style=\"text-align:left;font-size:2em\"><span style=\"font-weight:bolder;font-size:1.25em\">SP2273 | Learning Portfolio</span><br><br><span style=\"font-weight:bold;color:darkred\">Fundamentals (Need)</span></div>"
   ]
  },
  {
   "cell_type": "markdown",
   "id": "1ae71767",
   "metadata": {},
   "source": [
    "**1. Functions**\n"
   ]
  },
  {
   "cell_type": "code",
   "execution_count": 1,
   "id": "c9bc2aae",
   "metadata": {},
   "outputs": [
    {
     "name": "stdout",
     "output_type": "stream",
     "text": [
      "Sup bruh\n"
     ]
    }
   ],
   "source": [
    "print(\"Sup bruh\")"
   ]
  },
  {
   "cell_type": "markdown",
   "id": "24387cfe",
   "metadata": {},
   "source": [
    "**2. Python is interpreted**"
   ]
  },
  {
   "cell_type": "markdown",
   "id": "ecf55657",
   "metadata": {},
   "source": [
    "Python is an interpreter. An interpreter works sequentially, one command at a time. "
   ]
  },
  {
   "cell_type": "code",
   "execution_count": 2,
   "id": "f0aad6f2",
   "metadata": {},
   "outputs": [
    {
     "name": "stdout",
     "output_type": "stream",
     "text": [
      "Sup\n",
      "Bruh\n"
     ]
    }
   ],
   "source": [
    "print(\"Sup\")\n",
    "print(\"Bruh\")"
   ]
  },
  {
   "cell_type": "markdown",
   "id": "3db62d39",
   "metadata": {},
   "source": [
    "**3.Python is case-sensitive**"
   ]
  },
  {
   "cell_type": "markdown",
   "id": "c7b109af",
   "metadata": {},
   "source": [
    "Doesn't work:"
   ]
  },
  {
   "cell_type": "code",
   "execution_count": 3,
   "id": "f50f9d94",
   "metadata": {},
   "outputs": [
    {
     "ename": "NameError",
     "evalue": "name 'Print' is not defined",
     "output_type": "error",
     "traceback": [
      "\u001b[1;31m---------------------------------------------------------------------------\u001b[0m",
      "\u001b[1;31mNameError\u001b[0m                                 Traceback (most recent call last)",
      "Cell \u001b[1;32mIn[3], line 1\u001b[0m\n\u001b[1;32m----> 1\u001b[0m Print(\u001b[38;5;124m\"\u001b[39m\u001b[38;5;124mHello\u001b[39m\u001b[38;5;124m\"\u001b[39m)\n",
      "\u001b[1;31mNameError\u001b[0m: name 'Print' is not defined"
     ]
    }
   ],
   "source": [
    "Print(\"Hello\") "
   ]
  },
  {
   "cell_type": "markdown",
   "id": "285193bc",
   "metadata": {},
   "source": [
    "**4. Comments**"
   ]
  },
  {
   "cell_type": "code",
   "execution_count": 4,
   "id": "92909b2e",
   "metadata": {},
   "outputs": [
    {
     "name": "stdout",
     "output_type": "stream",
     "text": [
      "Hello\n"
     ]
    }
   ],
   "source": [
    "print(\"Hello\") #This is a comment. Comments can make code more readable"
   ]
  },
  {
   "cell_type": "markdown",
   "id": "2486bfbe",
   "metadata": {},
   "source": [
    "**5. \"=\" and \"==\"**"
   ]
  },
  {
   "cell_type": "markdown",
   "id": "cb8f8795",
   "metadata": {},
   "source": [
    "- = is used to set something equal"
   ]
  },
  {
   "cell_type": "code",
   "execution_count": 5,
   "id": "3ddaffdf",
   "metadata": {},
   "outputs": [],
   "source": [
    "favorite_animal = \"Bird\" #Sets a variable"
   ]
  },
  {
   "cell_type": "markdown",
   "id": "bdaf0235",
   "metadata": {},
   "source": [
    "- == is used to check if something is equal"
   ]
  },
  {
   "cell_type": "code",
   "execution_count": 7,
   "id": "ed11aec2",
   "metadata": {},
   "outputs": [
    {
     "data": {
      "text/plain": [
       "True"
      ]
     },
     "execution_count": 7,
     "metadata": {},
     "output_type": "execute_result"
    }
   ],
   "source": [
    "favorite_animal == \"Bird\" #returns True or False"
   ]
  },
  {
   "cell_type": "markdown",
   "id": "aeb65d68",
   "metadata": {},
   "source": [
    "**6. Use \"if\" to make decisions**"
   ]
  },
  {
   "cell_type": "code",
   "execution_count": 9,
   "id": "12f4257a",
   "metadata": {},
   "outputs": [
    {
     "name": "stdout",
     "output_type": "stream",
     "text": [
      "Cawcaw\n"
     ]
    }
   ],
   "source": [
    "if favorite_animal == \"Bird\":\n",
    "    print(\"Cawcaw\")\n",
    "else:\n",
    "    print(\":(\")"
   ]
  },
  {
   "cell_type": "markdown",
   "id": "213ea997",
   "metadata": {},
   "source": [
    "**7. Indents are very important**\n"
   ]
  },
  {
   "cell_type": "markdown",
   "id": "06be144d",
   "metadata": {},
   "source": [
    "- Indents are used for things like setting functions and if/else statements\n",
    "- If an indent is in a place it shouldn't be, the code will not work"
   ]
  },
  {
   "cell_type": "markdown",
   "id": "e83726a0",
   "metadata": {},
   "source": [
    "Will not work:\n"
   ]
  },
  {
   "cell_type": "code",
   "execution_count": 17,
   "id": "632c4dfe",
   "metadata": {},
   "outputs": [
    {
     "ename": "IndentationError",
     "evalue": "unexpected indent (1537435392.py, line 2)",
     "output_type": "error",
     "traceback": [
      "\u001b[1;36m  Cell \u001b[1;32mIn[17], line 2\u001b[1;36m\u001b[0m\n\u001b[1;33m    print(x)\u001b[0m\n\u001b[1;37m    ^\u001b[0m\n\u001b[1;31mIndentationError\u001b[0m\u001b[1;31m:\u001b[0m unexpected indent\n"
     ]
    }
   ],
   "source": [
    "x = 10\n",
    " print(x)  #bad indent here"
   ]
  },
  {
   "cell_type": "markdown",
   "id": "dac1e23c",
   "metadata": {},
   "source": [
    "**8. Variables**"
   ]
  },
  {
   "cell_type": "code",
   "execution_count": 20,
   "id": "b11130f7",
   "metadata": {},
   "outputs": [
    {
     "name": "stdout",
     "output_type": "stream",
     "text": [
      "42\n",
      "bird\n"
     ]
    }
   ],
   "source": [
    "bird = \"42\"\n",
    "print(bird) #prints the value of the variable bird\n",
    "print(\"bird\") #prints the string \"bird\""
   ]
  },
  {
   "cell_type": "markdown",
   "id": "33532ec5",
   "metadata": {},
   "source": [
    "**9. Brackets**\n"
   ]
  },
  {
   "cell_type": "markdown",
   "id": "e529c6e2",
   "metadata": {},
   "source": [
    "- python uses `()` in calls to function"
   ]
  },
  {
   "cell_type": "code",
   "execution_count": 21,
   "id": "fad4e510",
   "metadata": {},
   "outputs": [
    {
     "name": "stdout",
     "output_type": "stream",
     "text": [
      "Hello\n"
     ]
    }
   ],
   "source": [
    "print(\"Hello\") #In functions"
   ]
  },
  {
   "cell_type": "markdown",
   "id": "5bbbc89f",
   "metadata": {},
   "source": [
    "- Python uses `()` for math"
   ]
  },
  {
   "cell_type": "code",
   "execution_count": 23,
   "id": "7287be2c",
   "metadata": {},
   "outputs": [
    {
     "data": {
      "text/plain": [
       "15"
      ]
     },
     "execution_count": 23,
     "metadata": {},
     "output_type": "execute_result"
    }
   ],
   "source": [
    "(1+2)*5 #math\n"
   ]
  },
  {
   "cell_type": "markdown",
   "id": "ea956b45",
   "metadata": {},
   "source": [
    "- Python uses `[]` for lists of data"
   ]
  },
  {
   "cell_type": "code",
   "execution_count": 24,
   "id": "3a20dbde",
   "metadata": {},
   "outputs": [],
   "source": [
    "list_of_fruits = [\"apple\", \"orange\", \"banana\"]\n",
    "# This is a list"
   ]
  },
  {
   "cell_type": "code",
   "execution_count": 29,
   "id": "bd656caa",
   "metadata": {},
   "outputs": [
    {
     "data": {
      "text/plain": [
       "'red'"
      ]
     },
     "execution_count": 29,
     "metadata": {},
     "output_type": "execute_result"
    }
   ],
   "source": [
    "fruit_colors = {\n",
    "    \"Apple\": \"red\",\n",
    "    \"Orange\": \"orange\",\n",
    "    \"Banana\": \"yellow\"\n",
    "}\n",
    "fruit_colors[\"Apple\"] #uses the key \"Apple\" to access the value \"red\""
   ]
  },
  {
   "cell_type": "markdown",
   "id": "cb2ba602",
   "metadata": {},
   "source": [
    "**10. Importing packages**"
   ]
  },
  {
   "cell_type": "code",
   "execution_count": 2,
   "id": "0d9163a3",
   "metadata": {},
   "outputs": [],
   "source": [
    "import math #importing the functions of the math package"
   ]
  },
  {
   "cell_type": "markdown",
   "id": "15d9ede1",
   "metadata": {},
   "source": [
    "Python normally does not have a square root function. However, once the \"math\" package has been imported, the square root function can be used. "
   ]
  },
  {
   "cell_type": "code",
   "execution_count": 31,
   "id": "785f5d77",
   "metadata": {},
   "outputs": [
    {
     "data": {
      "text/plain": [
       "2.0"
      ]
     },
     "execution_count": 31,
     "metadata": {},
     "output_type": "execute_result"
    }
   ],
   "source": [
    "math.sqrt(4)"
   ]
  },
  {
   "cell_type": "code",
   "execution_count": 3,
   "id": "7276d79f",
   "metadata": {},
   "outputs": [],
   "source": [
    "import numpy as np #importing numpy and giving it \n",
    "                   # it an alias np for convenience\n",
    "    "
   ]
  },
  {
   "cell_type": "markdown",
   "id": "c2d75974",
   "metadata": {},
   "source": [
    "- numpy also has a square root function"
   ]
  },
  {
   "cell_type": "code",
   "execution_count": 33,
   "id": "0d854f74",
   "metadata": {},
   "outputs": [
    {
     "data": {
      "text/plain": [
       "2.0"
      ]
     },
     "execution_count": 33,
     "metadata": {},
     "output_type": "execute_result"
    }
   ],
   "source": [
    "np.sqrt(4)"
   ]
  },
  {
   "cell_type": "markdown",
   "id": "b4b5b5df",
   "metadata": {},
   "source": [
    "- The square root function for numpy can work on lists"
   ]
  },
  {
   "cell_type": "code",
   "execution_count": 34,
   "id": "a6849f28",
   "metadata": {},
   "outputs": [
    {
     "data": {
      "text/plain": [
       "array([2., 3., 4.])"
      ]
     },
     "execution_count": 34,
     "metadata": {},
     "output_type": "execute_result"
    }
   ],
   "source": [
    "np.sqrt([4, 9, 16])"
   ]
  },
  {
   "cell_type": "markdown",
   "id": "d98e338b-4493-4a43-9edb-fbcd0bad611b",
   "metadata": {},
   "source": [
    "**The Dot**"
   ]
  },
  {
   "cell_type": "markdown",
   "id": "ab6f8a8b",
   "metadata": {},
   "source": [
    "- The dot calls the function from the specified package"
   ]
  },
  {
   "cell_type": "code",
   "execution_count": 5,
   "id": "05491d21",
   "metadata": {},
   "outputs": [
    {
     "data": {
      "text/plain": [
       "2.0"
      ]
     },
     "execution_count": 5,
     "metadata": {},
     "output_type": "execute_result"
    }
   ],
   "source": [
    "math.sqrt(4)\n"
   ]
  },
  {
   "cell_type": "code",
   "execution_count": 6,
   "id": "93e68e33-d74d-4bc9-9662-2465ec91b2e9",
   "metadata": {},
   "outputs": [
    {
     "data": {
      "text/plain": [
       "2.0"
      ]
     },
     "execution_count": 6,
     "metadata": {},
     "output_type": "execute_result"
    }
   ],
   "source": [
    "np.sqrt(4)"
   ]
  },
  {
   "cell_type": "markdown",
   "id": "e1d200b6-563b-444f-9718-18872698c60c",
   "metadata": {},
   "source": [
    "In the first line, we use the `sqrt()` function that belongs to the math module. In the second line, we use the `sqrt()` function that belongs to NumPy."
   ]
  },
  {
   "cell_type": "markdown",
   "id": "c94bff02-9e28-4969-bd79-c12ba5d5dc08",
   "metadata": {},
   "source": [
    "Everything in Python (e.g., numbers, letters) has functions and attributes that belong to them. We can access them using the dot. For example, the following will split the sentence into words."
   ]
  },
  {
   "cell_type": "code",
   "execution_count": 7,
   "id": "8b66115e-4e3b-4cb8-a99e-371acdfc723a",
   "metadata": {},
   "outputs": [
    {
     "data": {
      "text/plain": [
       "['I', 'am', 'Batman']"
      ]
     },
     "execution_count": 7,
     "metadata": {},
     "output_type": "execute_result"
    }
   ],
   "source": [
    "\"I am Batman\".split()"
   ]
  },
  {
   "cell_type": "code",
   "execution_count": null,
   "id": "884cb3fe-17e0-4b96-bf46-84ea06960979",
   "metadata": {},
   "outputs": [],
   "source": []
  }
 ],
 "metadata": {
  "kernelspec": {
   "display_name": "Python 3 (ipykernel)",
   "language": "python",
   "name": "python3"
  },
  "language_info": {
   "codemirror_mode": {
    "name": "ipython",
    "version": 3
   },
   "file_extension": ".py",
   "mimetype": "text/x-python",
   "name": "python",
   "nbconvert_exporter": "python",
   "pygments_lexer": "ipython3",
   "version": "3.12.1"
  },
  "toc": {
   "base_numbering": 1,
   "nav_menu": {},
   "number_sections": true,
   "sideBar": true,
   "skip_h1_title": false,
   "title_cell": "Table of Contents",
   "title_sidebar": "Contents",
   "toc_cell": false,
   "toc_position": {},
   "toc_section_display": true,
   "toc_window_display": false
  },
  "varInspector": {
   "cols": {
    "lenName": 16,
    "lenType": 16,
    "lenVar": 40
   },
   "kernels_config": {
    "python": {
     "delete_cmd_postfix": "",
     "delete_cmd_prefix": "del ",
     "library": "var_list.py",
     "varRefreshCmd": "print(var_dic_list())"
    },
    "r": {
     "delete_cmd_postfix": ") ",
     "delete_cmd_prefix": "rm(",
     "library": "var_list.r",
     "varRefreshCmd": "cat(var_dic_list()) "
    }
   },
   "types_to_exclude": [
    "module",
    "function",
    "builtin_function_or_method",
    "instance",
    "_Feature"
   ],
   "window_display": false
  },
  "vscode": {
   "interpreter": {
    "hash": "31f2aee4e71d21fbe5cf8b01ff0e069b9275f58929596ceb00d14d90e3e16cd6"
   }
  },
  "widgets": {
   "application/vnd.jupyter.widget-state+json": {
    "state": {},
    "version_major": 2,
    "version_minor": 0
   }
  }
 },
 "nbformat": 4,
 "nbformat_minor": 5
}
