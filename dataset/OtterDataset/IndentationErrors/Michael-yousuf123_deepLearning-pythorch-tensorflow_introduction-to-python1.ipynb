{
 "cells": [
  {
   "cell_type": "markdown",
   "id": "a788e351",
   "metadata": {},
   "source": [
    "---\n",
    "## Python Getting Started\n",
    "---"
   ]
  },
  {
   "cell_type": "markdown",
   "id": "8264356a",
   "metadata": {},
   "source": [
    "---\n",
    "- Python Syntax\n",
    "---"
   ]
  },
  {
   "cell_type": "code",
   "execution_count": 1,
   "id": "fd15509a",
   "metadata": {},
   "outputs": [],
   "source": [
    "# Python code can be executed directly from the commandline\n",
    "#or by creating a python file for example as example.py and \n",
    "#executing by using of python command line "
   ]
  },
  {
   "cell_type": "markdown",
   "id": "b347ddd0",
   "metadata": {},
   "source": [
    "---\n",
    "- Python Indentation\n",
    "---"
   ]
  },
  {
   "cell_type": "code",
   "execution_count": 2,
   "id": "cd25d4e4",
   "metadata": {},
   "outputs": [],
   "source": [
    "# Python uses the indentation to indicate a block of code and its important\n",
    "# to look at the indentation when writing the block of codes"
   ]
  },
  {
   "cell_type": "code",
   "execution_count": 4,
   "id": "36be60ef",
   "metadata": {},
   "outputs": [
    {
     "name": "stdout",
     "output_type": "stream",
     "text": [
      "x is less than two\n"
     ]
    }
   ],
   "source": [
    "# for example \n",
    "x=1\n",
    "if x < 2:\n",
    "    print(\"x is less than two\")"
   ]
  },
  {
   "cell_type": "code",
   "execution_count": 7,
   "id": "b03561db",
   "metadata": {},
   "outputs": [
    {
     "ename": "IndentationError",
     "evalue": "expected an indented block (2739596957.py, line 2)",
     "output_type": "error",
     "traceback": [
      "\u001b[0;36m  Input \u001b[0;32mIn [7]\u001b[0;36m\u001b[0m\n\u001b[0;31m    print(\"x is less than two\")\u001b[0m\n\u001b[0m    ^\u001b[0m\n\u001b[0;31mIndentationError\u001b[0m\u001b[0;31m:\u001b[0m expected an indented block\n"
     ]
    }
   ],
   "source": [
    "# python will give you an error if you skip the indentation\n",
    "if x < 2:\n",
    "print(\"x is less than two\")"
   ]
  },
  {
   "cell_type": "code",
   "execution_count": 8,
   "id": "dc557f2d",
   "metadata": {},
   "outputs": [
    {
     "ename": "IndentationError",
     "evalue": "unexpected indent (4279328807.py, line 8)",
     "output_type": "error",
     "traceback": [
      "\u001b[0;36m  Input \u001b[0;32mIn [8]\u001b[0;36m\u001b[0m\n\u001b[0;31m    print('x is less than two')\u001b[0m\n\u001b[0m    ^\u001b[0m\n\u001b[0;31mIndentationError\u001b[0m\u001b[0;31m:\u001b[0m unexpected indent\n"
     ]
    }
   ],
   "source": [
    "# in below snippet of python codes it indicates that you have to \n",
    "# use the same number of indentation in one block of code\n",
    "\n",
    "x= 1\n",
    "\n",
    "if x < 2:\n",
    "    print('x is less than two')\n",
    "        print('x is less than two')"
   ]
  },
  {
   "cell_type": "markdown",
   "id": "75e3cc2c",
   "metadata": {},
   "source": [
    "---\n",
    "- Python Comments\n",
    " - comments are used to explain the code and to make the code more readable\n",
    " - comments are written in or between the line of code by using the # (hash) symbol \n",
    "---"
   ]
  },
  {
   "cell_type": "markdown",
   "id": "69b7b91d",
   "metadata": {},
   "source": [
    "---\n",
    "- Python Variables\n",
    "    - Python has no command for declaring a variable\n",
    "    - You can create the variable by assigning a value to it\n",
    "---"
   ]
  },
  {
   "cell_type": "code",
   "execution_count": 9,
   "id": "bd763da9",
   "metadata": {},
   "outputs": [
    {
     "name": "stdout",
     "output_type": "stream",
     "text": [
      "2\n",
      "3\n"
     ]
    }
   ],
   "source": [
    "x = 2\n",
    "y = 3\n",
    "\n",
    "print(x)\n",
    "print(y)"
   ]
  },
  {
   "cell_type": "markdown",
   "id": "09406a14",
   "metadata": {},
   "source": [
    "---\n",
    "    - you do not need to declare th variables with any particular type\n",
    "    - you can even change type after they are created\n",
    "---"
   ]
  },
  {
   "cell_type": "code",
   "execution_count": 11,
   "id": "b0c83812",
   "metadata": {},
   "outputs": [
    {
     "name": "stdout",
     "output_type": "stream",
     "text": [
      "2\n"
     ]
    }
   ],
   "source": [
    "a = 'michael'\n",
    "a = 2\n",
    "print(a)"
   ]
  },
  {
   "cell_type": "markdown",
   "id": "208afb5c",
   "metadata": {},
   "source": [
    "---\n",
    "    - If you want to specify the specific data type you will do it by casting\n",
    "---"
   ]
  },
  {
   "cell_type": "code",
   "execution_count": 12,
   "id": "c98ce3a4",
   "metadata": {},
   "outputs": [
    {
     "name": "stdout",
     "output_type": "stream",
     "text": [
      "3\n",
      "4.0\n",
      "2\n"
     ]
    }
   ],
   "source": [
    "x = int(3)\n",
    "y = float(4)\n",
    "z = str(2)\n",
    "print(x)\n",
    "print(y)\n",
    "print(z)"
   ]
  },
  {
   "cell_type": "markdown",
   "id": "cc76d4d3",
   "metadata": {},
   "source": [
    "---\n",
    "    - You will get the type of data in variable by using type() builtin function of Python\n",
    "---"
   ]
  },
  {
   "cell_type": "code",
   "execution_count": 13,
   "id": "a65fe9d2",
   "metadata": {},
   "outputs": [
    {
     "name": "stdout",
     "output_type": "stream",
     "text": [
      "<class 'int'>\n",
      "<class 'float'>\n",
      "<class 'str'>\n"
     ]
    }
   ],
   "source": [
    "print(type(x))\n",
    "print(type(y))\n",
    "print(type(z))"
   ]
  },
  {
   "cell_type": "markdown",
   "id": "aef7cb7a",
   "metadata": {},
   "source": [
    "---\n",
    "- ### Python variable names\n",
    "    - #### Variables must starts with letter or underscores\n",
    "    - #### Variables not need to start with numbers and \n",
    "    - #### Variables can only contain alphanumeric\n",
    "---"
   ]
  },
  {
   "cell_type": "code",
   "execution_count": 14,
   "id": "15ebe2a8",
   "metadata": {},
   "outputs": [],
   "source": [
    "myVariableName = 3 # camel case\n",
    "MyVariableName = 4 # pascal case\n",
    "my_variable_name = 9 # snake case"
   ]
  },
  {
   "cell_type": "markdown",
   "id": "5e0418cc",
   "metadata": {},
   "source": [
    "---\n",
    "- ### Multiple Values and Multiple variables\n",
    "    - #### Many Values to Multiple Variables\n",
    "    - #### One Value to Multiple Mariables \n",
    "    - #### Unpack a list or tuples\n",
    "---"
   ]
  },
  {
   "cell_type": "code",
   "execution_count": 15,
   "id": "63a30e47",
   "metadata": {},
   "outputs": [
    {
     "name": "stdout",
     "output_type": "stream",
     "text": [
      "michael\n",
      "ramakrishna\n",
      "california\n",
      "usa\n"
     ]
    }
   ],
   "source": [
    "x, y, z, c = \"michael\", \"ramakrishna\", \"california\", \"usa\"\n",
    "\n",
    "print(x)\n",
    "print(y)\n",
    "print(z)\n",
    "print(c)"
   ]
  },
  {
   "cell_type": "code",
   "execution_count": 16,
   "id": "e4d2bca0",
   "metadata": {},
   "outputs": [
    {
     "name": "stdout",
     "output_type": "stream",
     "text": [
      "michael\n",
      "michael\n",
      "michael\n"
     ]
    }
   ],
   "source": [
    "x= y= z = \"michael\"\n",
    "print(x)\n",
    "print(y)\n",
    "print(z)"
   ]
  },
  {
   "cell_type": "code",
   "execution_count": 17,
   "id": "800047f3",
   "metadata": {},
   "outputs": [
    {
     "name": "stdout",
     "output_type": "stream",
     "text": [
      "nyc\n",
      "chicago\n",
      "washington\n"
     ]
    }
   ],
   "source": [
    "usa = ['nyc', 'chicago', 'washington']\n",
    "\n",
    "x, y, z = usa\n",
    "print(x)\n",
    "print(y)\n",
    "print(z)"
   ]
  },
  {
   "cell_type": "markdown",
   "id": "120fa3cf",
   "metadata": {},
   "source": [
    "---\n",
    "- ### Global and Local Variables\n",
    "  - #### Global = declared outside the funtion\n",
    "  - #### Local = declared inside the funtion\n",
    "---"
   ]
  },
  {
   "cell_type": "code",
   "execution_count": 22,
   "id": "4a9e48b9",
   "metadata": {},
   "outputs": [
    {
     "name": "stdout",
     "output_type": "stream",
     "text": [
      " Linkedin is a good platform\n"
     ]
    }
   ],
   "source": [
    "x =' Linkedin'\n",
    "\n",
    "def func():\n",
    "    print(x + \" is a good platform\")\n",
    "func()"
   ]
  },
  {
   "cell_type": "code",
   "execution_count": 28,
   "id": "0de18530",
   "metadata": {},
   "outputs": [
    {
     "name": "stdout",
     "output_type": "stream",
     "text": [
      "Facebook is a good platform\n",
      " Linkedin is not known\n"
     ]
    }
   ],
   "source": [
    "x =' Linkedin'\n",
    "\n",
    "def func():\n",
    "    x = \"Facebook\"\n",
    "    print(x + \" is a good platform\")\n",
    "func()\n",
    "print(x +\" is not known\")"
   ]
  },
  {
   "cell_type": "code",
   "execution_count": 30,
   "id": "5e0e8595",
   "metadata": {},
   "outputs": [
    {
     "name": "stdout",
     "output_type": "stream",
     "text": [
      "Python is known\n",
      "known is not known\n"
     ]
    }
   ],
   "source": [
    "x = \"awesome\"\n",
    "def my_func():\n",
    "    global x\n",
    "    x = \"known\"\n",
    "    print(\"Python is \" + x)\n",
    "my_func()\n",
    "\n",
    "print(x + \" is not known\")"
   ]
  },
  {
   "cell_type": "markdown",
   "id": "8369fd0e",
   "metadata": {},
   "source": [
    "---\n",
    "- Exercise\n",
    "    - create a variable x and assign a value 4 to it\n",
    "    - create a camelcase variable and assign your name to it\n",
    "    - display the sum of 4 and 3 by using two variables assigned to them\n",
    "    - given x = 5 and y = 4,variable name z and assign x + y to it and display the result\n",
    "    - x _ y _ z = \"orange\", \"banana\", \"pineapple\" assign the correct syntax between them to display multiple variable\n",
    "---"
   ]
  },
  {
   "cell_type": "markdown",
   "id": "868d9429",
   "metadata": {},
   "source": [
    "### End of Part 1"
   ]
  },
  {
   "cell_type": "code",
   "execution_count": null,
   "id": "d6d806f1",
   "metadata": {},
   "outputs": [],
   "source": []
  }
 ],
 "metadata": {
  "kernelspec": {
   "display_name": "Python 3 (ipykernel)",
   "language": "python",
   "name": "python3"
  },
  "language_info": {
   "codemirror_mode": {
    "name": "ipython",
    "version": 3
   },
   "file_extension": ".py",
   "mimetype": "text/x-python",
   "name": "python",
   "nbconvert_exporter": "python",
   "pygments_lexer": "ipython3",
   "version": "3.9.12"
  }
 },
 "nbformat": 4,
 "nbformat_minor": 5
}
