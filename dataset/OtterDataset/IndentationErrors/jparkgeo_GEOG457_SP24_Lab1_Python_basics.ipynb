{
 "cells": [
  {
   "cell_type": "markdown",
   "id": "df56526e",
   "metadata": {},
   "source": [
    "# Python Basics\n",
    "\n",
    "This Jupyter notebook covers the basics of Python, particularly, 1) data type, 2)data containers, 3) control flows, and 4) functions. "
   ]
  },
  {
   "cell_type": "markdown",
   "id": "9a411a38",
   "metadata": {},
   "source": [
    "## 1. Python Data Type\n",
    "\n",
    "Python has a handful of data types to store data effectively and efficiently. The followings are the data type we will cover in this course. \n",
    "\n",
    "- String: str()\n",
    "    - 'Hello world'\n",
    "- Integer: int()\n",
    "    - 1, 2, 3...\n",
    "- Floating-point number: float()\n",
    "    - 3.141592...\n",
    "- Boolean: bool() \n",
    "    - True or False\n"
   ]
  },
  {
   "cell_type": "markdown",
   "id": "ed2e0b7a",
   "metadata": {},
   "source": [
    "The following is a quick example of how you assign variables in Python. <br> \n",
    "Note that we did not need to declare variable types. We could just assign anything to a variable and it works. This is the power of an interpreted (as opposed to compiled) language. "
   ]
  },
  {
   "cell_type": "code",
   "execution_count": 9,
   "id": "16bbb386",
   "metadata": {},
   "outputs": [
    {
     "name": "stdout",
     "output_type": "stream",
     "text": [
      "Hello world <class 'str'>\n",
      "1 <class 'int'>\n",
      "3.141592 <class 'float'>\n",
      "True <class 'bool'>\n"
     ]
    }
   ],
   "source": [
    "s = 'Hello world' # String\n",
    "i = 1 # Integer\n",
    "f = 3.141592 # Floating point number (float)\n",
    "b = True\n",
    "\n",
    "# Print the variables and their types\n",
    "print(s, type(s))\n",
    "print(i, type(i))\n",
    "print(f, type(f))\n",
    "print(b, type(b))"
   ]
  },
  {
   "cell_type": "markdown",
   "id": "ef31adfe",
   "metadata": {},
   "source": [
    "### 1.1. String\n",
    "\n",
    "Strings are made using various kinds of (matching) quotes. Examples:"
   ]
  },
  {
   "cell_type": "code",
   "execution_count": 10,
   "id": "8a4cceb4",
   "metadata": {},
   "outputs": [
    {
     "name": "stdout",
     "output_type": "stream",
     "text": [
      "hello\n",
      "world\n",
      "strings can \n",
      "also go 'over'\n",
      "multiple \"lines\".\n"
     ]
    }
   ],
   "source": [
    "s1 = 'hello'\n",
    "s2 = \"world\"\n",
    "s3 = '''strings can \n",
    "also go 'over'\n",
    "multiple \"lines\".'''\n",
    "\n",
    "print(s1)\n",
    "print(s2)\n",
    "print(s3)"
   ]
  },
  {
   "cell_type": "markdown",
   "id": "d175e260",
   "metadata": {},
   "source": [
    "You can also 'add' strings using 'operator overloading', meaning that the plus sign can take on different meanings depending on the data types of the variables you are using it on."
   ]
  },
  {
   "cell_type": "code",
   "execution_count": 11,
   "id": "e94b6649",
   "metadata": {},
   "outputs": [
    {
     "name": "stdout",
     "output_type": "stream",
     "text": [
      "hello world\n"
     ]
    }
   ],
   "source": [
    "print(s1 + ' ' + s2)  # note, we need the space otherwise we would get 'helloworld'"
   ]
  },
  {
   "cell_type": "markdown",
   "id": "ef9b02cd",
   "metadata": {},
   "source": [
    "Another methods of putting strings together is called 'formatted string literals' (also called f-strings for short). "
   ]
  },
  {
   "cell_type": "code",
   "execution_count": 12,
   "id": "fe80994b",
   "metadata": {},
   "outputs": [
    {
     "name": "stdout",
     "output_type": "stream",
     "text": [
      "hello world\n",
      "hello world\n"
     ]
    }
   ],
   "source": [
    "# Here, we assign the string directly inside of the parenthesis.\n",
    "print(f'{s1} {s2}') \n",
    "# The other method is to have numeric placeholders and assign text with .format() method. \n",
    "print('{0} {1}'.format(s1, s2))"
   ]
  },
  {
   "cell_type": "markdown",
   "id": "57c957db",
   "metadata": {},
   "source": [
    "---\n",
    "### *Exercise*\n",
    "\n",
    "1. (1 point) Create two variables, called `first` and `last`, and assign your first and last name, respectively.\n",
    "2. (2 point) Comebine those two variables into a new variable and make a new variable called `name`. It should have a space between your first and last name. \n",
    "\n",
    "---"
   ]
  },
  {
   "cell_type": "code",
   "execution_count": 13,
   "id": "82b3f642",
   "metadata": {},
   "outputs": [],
   "source": [
    "# Your code here\n",
    "first = 'Jinwoo'\n",
    "last = 'Park'\n",
    "\n",
    "name = first + ' ' + last\n",
    "name = f'{first} {last}'"
   ]
  },
  {
   "cell_type": "code",
   "execution_count": 14,
   "id": "3c5a2b61",
   "metadata": {},
   "outputs": [
    {
     "name": "stdout",
     "output_type": "stream",
     "text": [
      "Jinwoo Park\n",
      "Jinwoo Park\n",
      "Success!\n"
     ]
    }
   ],
   "source": [
    "\"\"\" Test code for the previous function. \n",
    "This cell should NOT give any errors when it is run.\"\"\"\n",
    "\n",
    "# Check your result here. \n",
    "print(f'{first} {last}')\n",
    "print(name)\n",
    "\n",
    "assert f'{first} {last}' == name\n",
    "print(\"Success!\")"
   ]
  },
  {
   "cell_type": "markdown",
   "id": "c3610093",
   "metadata": {},
   "source": [
    "Strings are 'objects' in that they have 'methods'. Methods are functions that act on the particular instance of a string object. <br>\n",
    "You can access the methods by putting a dot after the variable name and then the method name with parentheses (and any arguments to the method within the parentheses). <br> Methods always have to have parentheses, even if they are empty."
   ]
  },
  {
   "cell_type": "code",
   "execution_count": 15,
   "id": "2bfa1dff",
   "metadata": {},
   "outputs": [
    {
     "data": {
      "text/plain": [
       "'STRINGS CAN \\nALSO GO \\'OVER\\'\\nMULTIPLE \"LINES\".'"
      ]
     },
     "execution_count": 15,
     "metadata": {},
     "output_type": "execute_result"
    }
   ],
   "source": [
    "s3.upper()"
   ]
  },
  {
   "cell_type": "markdown",
   "id": "4519fded",
   "metadata": {},
   "source": [
    "You may be curious about why we see the result like `'STRINGS CAN \\nALSO GO \\'OVER\\'\\nMULTIPLE \"LINES\".'`. A word with a backslash `\\`, (e.g., `\\n` or `\\t`) is called escape characters, and is being used to include nonprintable characters in a string. For example, `\\n` means a new line and `\\t` means a tab. <br> <br>\n",
    "We can remove the escape characters from displaying by using the `print()` function. "
   ]
  },
  {
   "cell_type": "code",
   "execution_count": 16,
   "id": "307c0af7",
   "metadata": {
    "scrolled": true
   },
   "outputs": [
    {
     "name": "stdout",
     "output_type": "stream",
     "text": [
      "STRINGS CAN \n",
      "ALSO GO 'OVER'\n",
      "MULTIPLE \"LINES\".\n"
     ]
    }
   ],
   "source": [
    "print(s3.upper())"
   ]
  },
  {
   "cell_type": "code",
   "execution_count": 17,
   "id": "b5e750cb",
   "metadata": {},
   "outputs": [
    {
     "name": "stdout",
     "output_type": "stream",
     "text": [
      "Strings can \n",
      "also go 'over'\n",
      "multiple \"lines\".\n"
     ]
    }
   ],
   "source": [
    "print(s3.capitalize())"
   ]
  },
  {
   "cell_type": "markdown",
   "id": "6838c99d",
   "metadata": {},
   "source": [
    "One of the most useful string methods is 'split' that returns a list of the words in a string, with all of the whitespace (actual spaces, newlines, and tabs) removed. More on lists next."
   ]
  },
  {
   "cell_type": "code",
   "execution_count": 18,
   "id": "3828d70a",
   "metadata": {},
   "outputs": [
    {
     "data": {
      "text/plain": [
       "['', 'tring', ' can \\nal', 'o go \\'over\\'\\nmultiple \"line', '\".']"
      ]
     },
     "execution_count": 18,
     "metadata": {},
     "output_type": "execute_result"
    }
   ],
   "source": [
    "s3.split('s')"
   ]
  },
  {
   "cell_type": "code",
   "execution_count": 19,
   "id": "7b1ed4a2",
   "metadata": {
    "scrolled": true
   },
   "outputs": [
    {
     "data": {
      "text/plain": [
       "['strings', 'can', 'also', 'go', \"'over'\", 'multiple', '\"lines\".']"
      ]
     },
     "execution_count": 19,
     "metadata": {},
     "output_type": "execute_result"
    }
   ],
   "source": [
    "# If no argument is given to the split method, it will split on whitespace.\n",
    "s3.split()"
   ]
  },
  {
   "cell_type": "markdown",
   "id": "2ea1a975",
   "metadata": {},
   "source": [
    "Another common thing that is done with strings is the join method. It can be used to join a sequence of strings given a common conjunction"
   ]
  },
  {
   "cell_type": "code",
   "execution_count": 20,
   "id": "05b7fa94",
   "metadata": {},
   "outputs": [
    {
     "name": "stdout",
     "output_type": "stream",
     "text": [
      "strings_can_also_go_'over'_multiple_\"lines\".\n"
     ]
    }
   ],
   "source": [
    "words = s3.split()\n",
    "print('_'.join(words))        # Here, we are using a method directly on the string '_' itself."
   ]
  },
  {
   "cell_type": "markdown",
   "id": "01eaafe5",
   "metadata": {},
   "source": [
    "---\n",
    "### *Exercise*\n",
    "\n",
    "3. (1 point) Create two more variables as shown below. \n",
    "```python\n",
    "   course = 'GEOG457'\n",
    "   semester = 'Spring 2024'\n",
    "```\n",
    "4. (2 points) Print a senctence `[YOUR FIRST AND LAST NAME] is taking [COURSE], [SEMESTER].`, by using f-string (formated string literals). <br>\n",
    "Note that you should NOT type capital letters for course and semester, but make them with the methods of string. <br><br>\n",
    "<b>Expected result: </b><br>\n",
    "`Jinwoo Park is taking GEOG457, Spring 2024.`\n"
   ]
  },
  {
   "cell_type": "code",
   "execution_count": 21,
   "id": "bc8f9ce7",
   "metadata": {},
   "outputs": [
    {
     "name": "stdout",
     "output_type": "stream",
     "text": [
      "Jinwoo Park is taking GEOG457, Spring 2024\n"
     ]
    }
   ],
   "source": [
    "# Your code here\n",
    "\n",
    "course = 'GEOG457'\n",
    "semester = 'Spring 2024'\n",
    "\n",
    "print(f'{first} {last} is taking {course}, {semester}')"
   ]
  },
  {
   "cell_type": "markdown",
   "id": "2b3ac80b",
   "metadata": {},
   "source": [
    "### 1.2. Numeric types (i.e., Integer and Float)"
   ]
  },
  {
   "cell_type": "code",
   "execution_count": 22,
   "id": "a1313ee8",
   "metadata": {},
   "outputs": [
    {
     "name": "stdout",
     "output_type": "stream",
     "text": [
      "2024 <class 'int'>\n",
      "3.141592 <class 'float'>\n"
     ]
    }
   ],
   "source": [
    "year = 2024  # if you assign INTEGER to a variable, the type will be an INTEGER\n",
    "pi = 3.141592  # if you assign FLOAT to a variable, the type will be an FLOAT. \n",
    "\n",
    "print(year, type(year))\n",
    "print(pi, type(pi))"
   ]
  },
  {
   "cell_type": "code",
   "execution_count": 23,
   "id": "74711bd9-86ec-4001-b2f3-28b7dc6b386c",
   "metadata": {},
   "outputs": [
    {
     "name": "stdout",
     "output_type": "stream",
     "text": [
      "5.0 <class 'float'>\n"
     ]
    }
   ],
   "source": [
    "a = 5.\n",
    "print(a, type(a))"
   ]
  },
  {
   "cell_type": "markdown",
   "id": "57e4a1ec",
   "metadata": {},
   "source": [
    "You can use the following arithmetic operator in Python. \n",
    "\n",
    "| Name | Operator | Example |\n",
    "| --- | --- | --- |\n",
    "| Addition | + | x + y |\n",
    "| Subtraction | - | x - y |\n",
    "| Multiplication | * | x * y |\n",
    "| Division | / | x / y |\n",
    "| Exponentiation | ** | x ** y |\n",
    "| Floor division | // | x // y |\n",
    "| Modulus | % | x % y |"
   ]
  },
  {
   "cell_type": "code",
   "execution_count": 24,
   "id": "aedc3d4a",
   "metadata": {},
   "outputs": [
    {
     "name": "stdout",
     "output_type": "stream",
     "text": [
      "Addition:        25 + 3 = 28\n",
      "Subtraction:     25 - 3 = 22\n",
      "Multiplication:  25 * 3 = 75\n",
      "Division:        25 / 3 = 8.333333333333334\n",
      "Exponentiation:  25 ** 3 = 15625\n",
      "Quotient:        25 // 3 = 8\n",
      "Remainder:       25 % 3 = 1\n"
     ]
    }
   ],
   "source": [
    "aa = 25\n",
    "bb = 3\n",
    "\n",
    "print(f'Addition:        {aa} + {bb} = {aa + bb}') \n",
    "print(f'Subtraction:     {aa} - {bb} = {aa - bb}') \n",
    "print(f'Multiplication:  {aa} * {bb} = {aa * bb}') \n",
    "print(f'Division:        {aa} / {bb} = {aa / bb}') \n",
    "print(f'Exponentiation:  {aa} ** {bb} = {aa ** bb}') \n",
    "print(f'Quotient:        {aa} // {bb} = {aa // bb}') \n",
    "print(f'Remainder:       {aa} % {bb} = {aa % bb}') "
   ]
  },
  {
   "cell_type": "markdown",
   "id": "8faa85e2",
   "metadata": {},
   "source": [
    "If you sum an integer and a float, its type will be float, regardless of the result of the sum."
   ]
  },
  {
   "cell_type": "code",
   "execution_count": 25,
   "id": "feb64506",
   "metadata": {},
   "outputs": [
    {
     "name": "stdout",
     "output_type": "stream",
     "text": [
      "1 <class 'int'>\n",
      "1.0 <class 'float'>\n",
      "2.0 <class 'float'>\n"
     ]
    }
   ],
   "source": [
    "n1 = 1\n",
    "n2 = 1.0\n",
    "n3 = n1 + n2\n",
    "\n",
    "print(n1, type(n1))\n",
    "print(n2, type(n2))\n",
    "print(n3, type(n3))"
   ]
  },
  {
   "cell_type": "markdown",
   "id": "72c86c79",
   "metadata": {},
   "source": [
    "You can easily change the type of numerical variables with `int()` and `float()`. <br>\n",
    "Note that `int()` will only keep the integer part of float (e.g., 3.141592 -> 3). "
   ]
  },
  {
   "cell_type": "code",
   "execution_count": 26,
   "id": "f9b4af01",
   "metadata": {},
   "outputs": [
    {
     "name": "stdout",
     "output_type": "stream",
     "text": [
      "1 <class 'int'>\n",
      "1.0 <class 'float'>\n",
      "3.141592 <class 'float'>\n",
      "3 <class 'int'>\n"
     ]
    }
   ],
   "source": [
    "# From integer to float\n",
    "print(n1, type(n1))\n",
    "\n",
    "n4 = float(n1)\n",
    "print(n4, type(n4))\n",
    "\n",
    "# From float to integer\n",
    "print(pi, type(pi))\n",
    "\n",
    "n5 = int(pi)\n",
    "print(n5, type(n5))"
   ]
  },
  {
   "cell_type": "markdown",
   "id": "0d3b0a53",
   "metadata": {},
   "source": [
    "If you want to round the rational number, instead of just removing decimal points, use the function `round()`."
   ]
  },
  {
   "cell_type": "code",
   "execution_count": 27,
   "id": "f7121788",
   "metadata": {
    "scrolled": true
   },
   "outputs": [
    {
     "name": "stdout",
     "output_type": "stream",
     "text": [
      "3.1\n",
      "3.14\n",
      "3.142\n",
      "3.1416\n",
      "3.14159\n"
     ]
    }
   ],
   "source": [
    "# round(number, digit) takes two arguments. \n",
    "# The first is the number to be rounded, the second is the number of decimals (default is 0).\n",
    "print(round(pi, 1))  \n",
    "print(round(pi, 2))\n",
    "print(round(pi, 3))\n",
    "print(round(pi, 4))\n",
    "print(round(pi, 5))"
   ]
  },
  {
   "cell_type": "markdown",
   "id": "a25c4698",
   "metadata": {},
   "source": [
    "---\n",
    "### *Exercise*\n",
    "\n",
    "5. (2 points) Calculate the perimeter and the area of a circle with a radius of 5 (You can use pi assigned in the previus cell). <br><br>\n",
    "$$ C = 2 \\pi r $$\n",
    "$$ A = \\pi r ^2 $$\n",
    "\n",
    "\n",
    "6. (2 points) Assign the perimeter and the area to C and A, respectively. \n",
    "\n",
    "---"
   ]
  },
  {
   "cell_type": "code",
   "execution_count": 28,
   "id": "b021d704",
   "metadata": {},
   "outputs": [],
   "source": [
    "# Your code here\n",
    "pi = 3.141592\n",
    "r = 5\n",
    "\n",
    "C = 2 * pi * r\n",
    "A = pi * r ** 2"
   ]
  },
  {
   "cell_type": "code",
   "execution_count": 29,
   "id": "2f25e6eb",
   "metadata": {},
   "outputs": [
    {
     "name": "stdout",
     "output_type": "stream",
     "text": [
      "Perimeter of a circle: 31.41592\n",
      "Area of a circle: 78.5398\n",
      "Success!\n"
     ]
    }
   ],
   "source": [
    "\"\"\" Test code for the previous function. \n",
    "This cell should NOT give any errors when it is run.\"\"\"\n",
    "\n",
    "# Check your result here. \n",
    "print(f'Perimeter of a circle: {C}')\n",
    "print(f'Area of a circle: {A}')\n",
    "\n",
    "assert round(C, 2) == 31.42\n",
    "assert round(A, 2) == 78.54\n",
    "print(\"Success!\")"
   ]
  },
  {
   "cell_type": "markdown",
   "id": "3324ee88",
   "metadata": {},
   "source": [
    "### 1.3. Boolean \n",
    "\n",
    "A `Boolean` variable denotes ture or false values based on two case-sensitive keywords, `True` and `False`."
   ]
  },
  {
   "cell_type": "code",
   "execution_count": 30,
   "id": "7889c179",
   "metadata": {},
   "outputs": [
    {
     "name": "stdout",
     "output_type": "stream",
     "text": [
      "True False\n"
     ]
    }
   ],
   "source": [
    "b1 = True\n",
    "b2 = False\n",
    "print(b1, b2)"
   ]
  },
  {
   "cell_type": "markdown",
   "id": "6c5ef262",
   "metadata": {},
   "source": [
    "Note that `True` is NOT equal to `'True'`. `'True'` is a string, not a boolean. "
   ]
  },
  {
   "cell_type": "code",
   "execution_count": 31,
   "id": "ce08bf03",
   "metadata": {},
   "outputs": [
    {
     "name": "stdout",
     "output_type": "stream",
     "text": [
      "Type of True: <class 'bool'>\n",
      "Type of \"True\": <class 'str'>\n"
     ]
    }
   ],
   "source": [
    "print(f'Type of True: {type(True)}')\n",
    "print(f'Type of \"True\": {type(\"True\")}')"
   ]
  },
  {
   "cell_type": "markdown",
   "id": "653a2499",
   "metadata": {},
   "source": [
    "Each data type of Python has a representation of boolean. For example, numereical value 0 is `False`, but other numbers are `True`. In addition, empty string (e.g., `''`) is `False`, but nonempty string is `True`. "
   ]
  },
  {
   "cell_type": "code",
   "execution_count": 32,
   "id": "971b8070",
   "metadata": {},
   "outputs": [
    {
     "name": "stdout",
     "output_type": "stream",
     "text": [
      "False\n",
      "True\n",
      "True\n",
      "True\n"
     ]
    }
   ],
   "source": [
    "# Integer / Float\n",
    "print(bool(0)) \n",
    "print(bool(1)) \n",
    "print(bool(-1.8))\n",
    "print(bool(100))"
   ]
  },
  {
   "cell_type": "code",
   "execution_count": 33,
   "id": "17f48f9b",
   "metadata": {},
   "outputs": [
    {
     "name": "stdout",
     "output_type": "stream",
     "text": [
      "False\n",
      "True\n",
      "True\n"
     ]
    }
   ],
   "source": [
    "# String\n",
    "print(bool(''))\n",
    "print(bool('Something'))\n",
    "print(bool('Words'))"
   ]
  },
  {
   "cell_type": "markdown",
   "id": "631ac647",
   "metadata": {},
   "source": [
    "The variable type, Boolean, is usually used for testing conditions, rather than storing True and False. \n",
    "<br><br>\n",
    "We can test the values of variables using different operators. These tests return a `Boolean` value. Either `True` or `False`. `False` is the same as zero, `True` is nonzero. Note that assignment `=` is different than a test of equality `==`."
   ]
  },
  {
   "cell_type": "code",
   "execution_count": 34,
   "id": "c3565aaf",
   "metadata": {},
   "outputs": [],
   "source": [
    "a = 5"
   ]
  },
  {
   "cell_type": "code",
   "execution_count": 35,
   "id": "12d6ad3c",
   "metadata": {},
   "outputs": [
    {
     "name": "stdout",
     "output_type": "stream",
     "text": [
      "a < 99:  True\n",
      "a > 99:  False\n",
      "a == 5.:  True\n"
     ]
    }
   ],
   "source": [
    "print(f'a < 99:  {a < 99}')\n",
    "print(f'a > 99:  {a > 99}')\n",
    "print(f'a == 5.:  {a == 5.}')"
   ]
  },
  {
   "cell_type": "markdown",
   "id": "f1a5a503",
   "metadata": {},
   "source": [
    "These statements have returned \"booleans\", which are True and False only. These are commonly used to check for conditions within a script or function to determine the next course of action.\n",
    "\n",
    "NOTE: booleans are NOT equivalent to a string that says \"True\" or \"False\". We can test this:"
   ]
  },
  {
   "cell_type": "code",
   "execution_count": 36,
   "id": "9b096c93",
   "metadata": {},
   "outputs": [
    {
     "data": {
      "text/plain": [
       "False"
      ]
     },
     "execution_count": 36,
     "metadata": {},
     "output_type": "execute_result"
    }
   ],
   "source": [
    "True == 'True'"
   ]
  },
  {
   "cell_type": "markdown",
   "id": "2681a47b",
   "metadata": {},
   "source": [
    "There are other things that can be tested, not just mathematical equalities. For example, to test if an element is inside of a list or string (or any sequence, more on sequences below..), do"
   ]
  },
  {
   "cell_type": "code",
   "execution_count": 37,
   "id": "709c9ebd",
   "metadata": {},
   "outputs": [
    {
     "data": {
      "text/plain": [
       "True"
      ]
     },
     "execution_count": 37,
     "metadata": {},
     "output_type": "execute_result"
    }
   ],
   "source": [
    "foo = [1, 2, 3, 4, 5 ,6] # List\n",
    "5 in foo"
   ]
  },
  {
   "cell_type": "code",
   "execution_count": 38,
   "id": "88b23285",
   "metadata": {},
   "outputs": [
    {
     "name": "stdout",
     "output_type": "stream",
     "text": [
      "True\n",
      "False\n"
     ]
    }
   ],
   "source": [
    "print('this' in 'What is this?')\n",
    "print('that' in 'What is this?')"
   ]
  },
  {
   "cell_type": "markdown",
   "id": "25b2f350",
   "metadata": {},
   "source": [
    "## 2. Containers\n",
    "\n",
    "- List: list()\n",
    "    - [variable1, variable2, variable3...]\n",
    "- Tuple: tuple()\n",
    "    - (variable1, variable2, variable3...)\n",
    "- Dictionary: dict()\n",
    "    - {key1: value1, key2: value2, key3: value3 ...}\n",
    "\n",
    "Often you need lists or sequences of different values (e.g., a timeseries of temperature – a list of values representing the temperature on sequential days). There are three containers in the core python language. There are a few more specialized containers (e.g., numpy arrays and pandas dataframes) for use in scientific computing that we will learn much more about later; they are very similar to the containers we will learn about here."
   ]
  },
  {
   "cell_type": "markdown",
   "id": "df391315",
   "metadata": {},
   "source": [
    "### 2.1. List\n",
    "\n",
    "Lists are perhaps the most common container type. They are used for sequential data. Create them with square brackets with comma separated values within:"
   ]
  },
  {
   "cell_type": "code",
   "execution_count": 39,
   "id": "0a46efb8",
   "metadata": {
    "scrolled": true
   },
   "outputs": [
    {
     "data": {
      "text/plain": [
       "list"
      ]
     },
     "execution_count": 39,
     "metadata": {},
     "output_type": "execute_result"
    }
   ],
   "source": [
    "foo = [1., 2., 3, 'four', 'five', [6., 7., 8], 'nine']\n",
    "type(foo)"
   ]
  },
  {
   "cell_type": "markdown",
   "id": "4c95c15d",
   "metadata": {},
   "source": [
    "Note that lists (unlike arrays, as we will later learn) can be heterogeneous. That is, the elements in the list don't have to have the same kind of data type. Here we have a list with floats, ints, strings, and even another (nested) list!\n",
    "\n",
    "We can retrieve the individual elements of a list by 'indexing' the list. We do this with square brackets, using zero-based indexes – that is 0 is the first element – as such:"
   ]
  },
  {
   "cell_type": "code",
   "execution_count": 40,
   "id": "3032ee31",
   "metadata": {},
   "outputs": [
    {
     "data": {
      "text/plain": [
       "1.0"
      ]
     },
     "execution_count": 40,
     "metadata": {},
     "output_type": "execute_result"
    }
   ],
   "source": [
    "foo[0]"
   ]
  },
  {
   "cell_type": "code",
   "execution_count": 41,
   "id": "3fe60177",
   "metadata": {},
   "outputs": [
    {
     "data": {
      "text/plain": [
       "[6.0, 7.0, 8]"
      ]
     },
     "execution_count": 41,
     "metadata": {},
     "output_type": "execute_result"
    }
   ],
   "source": [
    "foo[5]  # Nested list (a list in a list)"
   ]
  },
  {
   "cell_type": "code",
   "execution_count": 42,
   "id": "7fd9aa43",
   "metadata": {},
   "outputs": [
    {
     "data": {
      "text/plain": [
       "7.0"
      ]
     },
     "execution_count": 42,
     "metadata": {},
     "output_type": "execute_result"
    }
   ],
   "source": [
    "foo[5][1]  # Python is sequential, we can access an element within an element using sequential indexing."
   ]
  },
  {
   "cell_type": "code",
   "execution_count": 43,
   "id": "78f60da3",
   "metadata": {},
   "outputs": [
    {
     "data": {
      "text/plain": [
       "'nine'"
      ]
     },
     "execution_count": 43,
     "metadata": {},
     "output_type": "execute_result"
    }
   ],
   "source": [
    "foo[-1]    # This is the way to access the last element."
   ]
  },
  {
   "cell_type": "code",
   "execution_count": 44,
   "id": "20f4ea46",
   "metadata": {},
   "outputs": [
    {
     "data": {
      "text/plain": [
       "'five'"
      ]
     },
     "execution_count": 44,
     "metadata": {},
     "output_type": "execute_result"
    }
   ],
   "source": [
    "foo[-3]    # ...and the third to last element"
   ]
  },
  {
   "cell_type": "code",
   "execution_count": 45,
   "id": "8146b057",
   "metadata": {},
   "outputs": [
    {
     "data": {
      "text/plain": [
       "'v'"
      ]
     },
     "execution_count": 45,
     "metadata": {},
     "output_type": "execute_result"
    }
   ],
   "source": [
    "foo[-3][2]   # we can also index strings."
   ]
  },
  {
   "cell_type": "markdown",
   "id": "aac08955",
   "metadata": {},
   "source": [
    "We can get a sub-sequence from the list by giving a range of the data to extract. This is done by using the format\n",
    "\n",
    "    start:stop:stride\n",
    "\n",
    "where `start` is the first element, up to but not including the element indexed by `stop`, taking every `stride` elements. The defaluts are start at the beginning, include through the end, and include every element. \n",
    "\n",
    "The up-to-but-not-including part is confusing to first time Python users, but makes sense given the zero-based indexing. For example, `foo[:10]` gives the first ten elements of a sequence."
   ]
  },
  {
   "cell_type": "code",
   "execution_count": 46,
   "id": "ed1edaf3",
   "metadata": {
    "scrolled": true,
    "tags": []
   },
   "outputs": [
    {
     "name": "stdout",
     "output_type": "stream",
     "text": [
      "[0, 1, 2, 3, 4, 5, 6, 7, 8, 9]\n",
      "[0, 1, 2, 3, 4, 5, 6, 7, 8, 9]\n",
      "True\n"
     ]
    }
   ],
   "source": [
    "# create a sequence of 10 elements, starting with zero, up to but not including 10.\n",
    "bar = [0, 1, 2, 3, 4, 5, 6, 7, 8, 9]\n",
    "\n",
    "# or you can use function range(start, end, step) to create the same list\n",
    "bar_ = list(range(0, 10, 1))\n",
    "print(bar)\n",
    "print(bar_)\n",
    "print(bar == bar_)"
   ]
  },
  {
   "cell_type": "code",
   "execution_count": 47,
   "id": "ed05fd37",
   "metadata": {},
   "outputs": [
    {
     "data": {
      "text/plain": [
       "[2, 3, 4]"
      ]
     },
     "execution_count": 47,
     "metadata": {},
     "output_type": "execute_result"
    }
   ],
   "source": [
    "bar[2:5]"
   ]
  },
  {
   "cell_type": "code",
   "execution_count": 48,
   "id": "66362506",
   "metadata": {},
   "outputs": [
    {
     "data": {
      "text/plain": [
       "[0, 1, 2, 3]"
      ]
     },
     "execution_count": 48,
     "metadata": {},
     "output_type": "execute_result"
    }
   ],
   "source": [
    "bar[:4]"
   ]
  },
  {
   "cell_type": "code",
   "execution_count": 49,
   "id": "66113284",
   "metadata": {},
   "outputs": [
    {
     "data": {
      "text/plain": [
       "[0, 1, 2, 3, 4, 5, 6, 7, 8, 9]"
      ]
     },
     "execution_count": 49,
     "metadata": {},
     "output_type": "execute_result"
    }
   ],
   "source": [
    "bar[:]"
   ]
  },
  {
   "cell_type": "code",
   "execution_count": 50,
   "id": "b8d4eb5c",
   "metadata": {},
   "outputs": [
    {
     "data": {
      "text/plain": [
       "[0, 2, 4, 6, 8]"
      ]
     },
     "execution_count": 50,
     "metadata": {},
     "output_type": "execute_result"
    }
   ],
   "source": [
    "bar[::2]"
   ]
  },
  {
   "cell_type": "markdown",
   "id": "08e7f7aa",
   "metadata": {},
   "source": [
    "---\n",
    "###  *Exercise*\n",
    "\n",
    "7. (2 points) Create a list `list1` with the ragne from 0 to 9. BUT, DO NOT list off every variables (i.e., 0, 1, 2 ...)\n",
    "8. (2 points) Use list indexing to obtain `[3, 4, 5]`, and save the result as `list2`. \n",
    "9. (2 points) Use list indexing to obtain `[2, 5, 8]`, and save teh result as `list3`.\n",
    "---"
   ]
  },
  {
   "cell_type": "code",
   "execution_count": 51,
   "id": "8218ecba",
   "metadata": {},
   "outputs": [],
   "source": [
    "# Your code here\n",
    "list1 = list(range(0, 10, 1))\n",
    "list2 = list1[3:6:1]\n",
    "list3 = list1[2:10:3]\n",
    "# list3 = "
   ]
  },
  {
   "cell_type": "code",
   "execution_count": 52,
   "id": "f27a3b6a",
   "metadata": {},
   "outputs": [
    {
     "name": "stdout",
     "output_type": "stream",
     "text": [
      "Success!\n"
     ]
    }
   ],
   "source": [
    "\"\"\" Test code for the previous function. \n",
    "This cell should NOT give any errors when it is run.\"\"\"\n",
    "\n",
    "# Check your result here. \n",
    "assert list1 == [0, 1, 2, 3, 4, 5, 6, 7, 8, 9]\n",
    "assert list2 == [3, 4, 5]\n",
    "assert list3 == [2, 5, 8]\n",
    "\n",
    "print(\"Success!\")"
   ]
  },
  {
   "cell_type": "code",
   "execution_count": 53,
   "id": "45e73535-7861-41ba-a159-3339a2d20350",
   "metadata": {},
   "outputs": [
    {
     "name": "stdout",
     "output_type": "stream",
     "text": [
      "[0, 1, 2, 3, 4, 5, 6, 7, 8, 9]\n"
     ]
    }
   ],
   "source": [
    "list1 = list(range(0, 10, 1))\n",
    "print(list1)"
   ]
  },
  {
   "cell_type": "code",
   "execution_count": 54,
   "id": "1e8551e3-539b-4185-b1b7-f3312ad5125d",
   "metadata": {},
   "outputs": [
    {
     "name": "stdout",
     "output_type": "stream",
     "text": [
      "[0, 1, 2, 3, 4, 5, 6, 7, 8, 9, 10]\n"
     ]
    }
   ],
   "source": [
    "list1.append(10)\n",
    "print(list1)"
   ]
  },
  {
   "cell_type": "markdown",
   "id": "a42c0248",
   "metadata": {},
   "source": [
    "### 2.2. Tuples\n",
    "\n",
    "Tuples (pronounced too'-puls) are sequences that can't be modified, and don't have methods. Thus, they are designed to be immutable sequences. They are created like lists, but with parentheses instead of square brackets."
   ]
  },
  {
   "cell_type": "code",
   "execution_count": 55,
   "id": "1b60ac59",
   "metadata": {},
   "outputs": [
    {
     "name": "stdout",
     "output_type": "stream",
     "text": [
      "[0, 1, 2, 3, 4, 5, 6, 7, 8, 9]\n"
     ]
    }
   ],
   "source": [
    "bar = list(range(0, 10, 1))\n",
    "print(bar)\n",
    "bar[3] = -999\n",
    "# print(bar)"
   ]
  },
  {
   "cell_type": "code",
   "execution_count": 56,
   "id": "7c7ddc7d",
   "metadata": {},
   "outputs": [],
   "source": [
    "# foo = (3, 5, 7, 9)\n",
    "# foo[2] = -999  # gives an assignment error. Commented so that all cells run."
   ]
  },
  {
   "cell_type": "code",
   "execution_count": 57,
   "id": "55406f84-8f49-468f-988c-abf67d568498",
   "metadata": {},
   "outputs": [
    {
     "data": {
      "text/plain": [
       "2.0"
      ]
     },
     "execution_count": 57,
     "metadata": {},
     "output_type": "execute_result"
    }
   ],
   "source": [
    "foo[1]"
   ]
  },
  {
   "cell_type": "markdown",
   "id": "61da8911",
   "metadata": {},
   "source": [
    "### 2.3. Dictionaries\n",
    "\n",
    "Dictionaries are used for unordered sequences that are referenced by arbitrary 'keys' instead of by a (sequential) index. Dictionaries are created using curly braces with keys and values separated by a colon, and key:value pairs separated by commas, as"
   ]
  },
  {
   "cell_type": "code",
   "execution_count": 58,
   "id": "cc0860ea",
   "metadata": {},
   "outputs": [
    {
     "name": "stdout",
     "output_type": "stream",
     "text": [
      "{'brand': 'Subaru', 'model': 'Forester', 'year': 2023}\n"
     ]
    }
   ],
   "source": [
    "dict_car = {\n",
    "    \"brand\" : \"Subaru\",\n",
    "    \"model\" : \"Forester\",\n",
    "    \"year\"  : 2023\n",
    "}\n",
    "print(dict_car)"
   ]
  },
  {
   "cell_type": "markdown",
   "id": "7b75aacd",
   "metadata": {},
   "source": [
    "Elements are referenced and assigned by keys:"
   ]
  },
  {
   "cell_type": "code",
   "execution_count": 59,
   "id": "3391b95a",
   "metadata": {},
   "outputs": [
    {
     "data": {
      "text/plain": [
       "'Subaru'"
      ]
     },
     "execution_count": 59,
     "metadata": {},
     "output_type": "execute_result"
    }
   ],
   "source": [
    "dict_car['brand']"
   ]
  },
  {
   "cell_type": "code",
   "execution_count": 60,
   "id": "bd26d7d4",
   "metadata": {},
   "outputs": [
    {
     "data": {
      "text/plain": [
       "'Forester'"
      ]
     },
     "execution_count": 60,
     "metadata": {},
     "output_type": "execute_result"
    }
   ],
   "source": [
    "dict_car['model']"
   ]
  },
  {
   "cell_type": "markdown",
   "id": "25cc737b",
   "metadata": {},
   "source": [
    "The sets of a key and a value can be added or replaced as follows. "
   ]
  },
  {
   "cell_type": "code",
   "execution_count": 61,
   "id": "102b2412-4841-444e-babc-f0c2da7776f4",
   "metadata": {},
   "outputs": [],
   "source": [
    "bar[3] = -999"
   ]
  },
  {
   "cell_type": "code",
   "execution_count": 62,
   "id": "49e4a9e1",
   "metadata": {},
   "outputs": [
    {
     "name": "stdout",
     "output_type": "stream",
     "text": [
      "{'brand': 'Subaru', 'model': 'Forester', 'year': 2023, 'color': 'Black'}\n"
     ]
    }
   ],
   "source": [
    "# Add value with a key\n",
    "dict_car['color'] = 'Black'\n",
    "print(dict_car)"
   ]
  },
  {
   "cell_type": "code",
   "execution_count": 63,
   "id": "a98c0a60",
   "metadata": {},
   "outputs": [
    {
     "name": "stdout",
     "output_type": "stream",
     "text": [
      "2023\n",
      "[2010, 2011, 2012, 2013, 2014, 2015, 2016, 2017, 2018, 2019, 2020, 2021, 2022, 2023, 2024]\n"
     ]
    }
   ],
   "source": [
    "# Replacing value with a key\n",
    "print(dict_car['year'])\n",
    "dict_car['year'] = list(range(2010, 2025, 1)) # [2010, 2011, 2012, 2013, ... ]\n",
    "print(dict_car['year'])"
   ]
  },
  {
   "cell_type": "code",
   "execution_count": 64,
   "id": "d16c0598-72a6-4086-a79b-cc26fe398ef5",
   "metadata": {},
   "outputs": [
    {
     "data": {
      "text/plain": [
       "{'brand': 'Subaru',\n",
       " 'model': 'Forester',\n",
       " 'year': [2010,\n",
       "  2011,\n",
       "  2012,\n",
       "  2013,\n",
       "  2014,\n",
       "  2015,\n",
       "  2016,\n",
       "  2017,\n",
       "  2018,\n",
       "  2019,\n",
       "  2020,\n",
       "  2021,\n",
       "  2022,\n",
       "  2023,\n",
       "  2024],\n",
       " 'color': 'Black'}"
      ]
     },
     "execution_count": 64,
     "metadata": {},
     "output_type": "execute_result"
    }
   ],
   "source": [
    "dict_car"
   ]
  },
  {
   "cell_type": "markdown",
   "id": "c7f1a338",
   "metadata": {},
   "source": [
    "The keys and values can be extracted as lists using methods of the dictionary class."
   ]
  },
  {
   "cell_type": "code",
   "execution_count": 65,
   "id": "e11a958e",
   "metadata": {},
   "outputs": [
    {
     "data": {
      "text/plain": [
       "dict_keys(['brand', 'model', 'year', 'color'])"
      ]
     },
     "execution_count": 65,
     "metadata": {},
     "output_type": "execute_result"
    }
   ],
   "source": [
    "dict_car.keys()"
   ]
  },
  {
   "cell_type": "code",
   "execution_count": 66,
   "id": "1049badb",
   "metadata": {},
   "outputs": [
    {
     "data": {
      "text/plain": [
       "dict_values(['Subaru', 'Forester', [2010, 2011, 2012, 2013, 2014, 2015, 2016, 2017, 2018, 2019, 2020, 2021, 2022, 2023, 2024], 'Black'])"
      ]
     },
     "execution_count": 66,
     "metadata": {},
     "output_type": "execute_result"
    }
   ],
   "source": [
    "dict_car.values()"
   ]
  },
  {
   "cell_type": "markdown",
   "id": "50bd44e7",
   "metadata": {},
   "source": [
    "## 3. Control Flows\n",
    "\n",
    "- Loops\n",
    "    - For loop (or for statement)\n",
    "    - While loop (or while statement)\n",
    "\n",
    "- Conditional (i.e., if statement)"
   ]
  },
  {
   "cell_type": "markdown",
   "id": "bc2e712f",
   "metadata": {},
   "source": [
    "### 3.1. For loop\n",
    "\n",
    "Loops are one of the fundamental structures in programming. Loops allow you to iterate over each element in a sequence, one at a time, and do something with those elements.\n",
    "\n",
    "*Loop syntax*: Loops have a very particular syntax in Python; this syntax is one of the most notable features to Python newcomers. The format looks like\n",
    "\n",
    "```python\n",
    "    for *element* in *sequence*:                # NOTE the colon at the end\n",
    "        <some code that uses the *element*>     # the block of code that is looped over for each element\n",
    "        <more code that uses the *element*>     # is indented four spaces (yes four! yes spaces!)\n",
    "    \n",
    "    <the code after the loop continues>         # the end of the loop is marked simply by unindented code\n",
    "```\n",
    "Thus, INDENTATION IS SIGNIFICNAT TO THE CODE. This was done because good coding practice (in almost all languages, C, FORTRAN, MATLAB) typically indents loops, functions, etc. Having indentation be significant saves the end of loop syntax for more compact code.\n",
    "\n",
    "*Some important notes on indentation*  Indentation in python is typically *4 spaces*. Most programming text editors will be smart about indentation, and will also convert TABs to four spaces. Jupyter notebooks are smart about indentation, and will do the right thing, i.e., autoindent a line below a line with a trailing colon, and convert TABs to spaces. \n"
   ]
  },
  {
   "cell_type": "code",
   "execution_count": 67,
   "id": "e303f235-b750-4c05-9ba4-003cb73c346d",
   "metadata": {},
   "outputs": [
    {
     "name": "stdout",
     "output_type": "stream",
     "text": [
      "0\n",
      "1\n",
      "2\n",
      "3\n",
      "4\n",
      "5\n",
      "6\n",
      "7\n",
      "8\n",
      "9\n",
      "10\n"
     ]
    }
   ],
   "source": [
    "for n in range(0, 11, 1):\n",
    "    print(n)"
   ]
  },
  {
   "cell_type": "code",
   "execution_count": 68,
   "id": "55042f88",
   "metadata": {},
   "outputs": [
    {
     "name": "stdout",
     "output_type": "stream",
     "text": [
      "sum result from 0 to 0: 0\n",
      "sum result from 0 to 1: 1\n",
      "sum result from 0 to 2: 3\n",
      "sum result from 0 to 3: 6\n",
      "sum result from 0 to 4: 10\n",
      "sum result from 0 to 5: 15\n",
      "sum result from 0 to 6: 21\n",
      "sum result from 0 to 7: 28\n",
      "sum result from 0 to 8: 36\n",
      "sum result from 0 to 9: 45\n",
      "sum result from 0 to 10: 55\n",
      "55\n"
     ]
    }
   ],
   "source": [
    "# A simple example is to find the sum of the sequence 0 through 10,\n",
    "sum_result = 0\n",
    "\n",
    "for n in range(0, 11, 1):\n",
    "    # sum_result += n\n",
    "    sum_result = sum_result + n\n",
    "    print(f'sum result from 0 to {n}: {sum_result}')\n",
    "    \n",
    "print(sum_result)"
   ]
  },
  {
   "cell_type": "code",
   "execution_count": 69,
   "id": "47b7b797",
   "metadata": {},
   "outputs": [
    {
     "name": "stdout",
     "output_type": "stream",
     "text": [
      "Welcome to the programming class, Patrick!\n",
      "Welcome to the programming class, Chris!\n",
      "Welcome to the programming class, Daniel!\n"
     ]
    }
   ],
   "source": [
    "names = ['Patrick', 'Chris', 'Daniel']\n",
    "for name in names:\n",
    "    print(f'Welcome to the programming class, {name}!')"
   ]
  },
  {
   "cell_type": "code",
   "execution_count": 70,
   "id": "300d501d",
   "metadata": {},
   "outputs": [
    {
     "name": "stdout",
     "output_type": "stream",
     "text": [
      "P\n",
      "a\n",
      "t\n",
      "r\n",
      "i\n",
      "c\n",
      "k\n"
     ]
    }
   ],
   "source": [
    "# This for loop will spit out every alphabet in the string. \n",
    "for s in 'Patrick':\n",
    "    print(s)"
   ]
  },
  {
   "cell_type": "markdown",
   "id": "fffe3867",
   "metadata": {},
   "source": [
    "Sometimes you want to iterate over a sequence but you *also* want the indices of those elements. One way to do that is the `enumerate` function:\n",
    "```python\n",
    "    enumerate(<sequence>)\n",
    "```\n",
    "This returns a sequence of two element tuples, the first element in each tuple is the index, the second the element. It is commonly used in `for` loops, like"
   ]
  },
  {
   "cell_type": "code",
   "execution_count": 71,
   "id": "68d59de1",
   "metadata": {},
   "outputs": [
    {
     "name": "stdout",
     "output_type": "stream",
     "text": [
      "Welcome Patrick, your seat is 0\n",
      "Welcome Chris, your seat is 1\n",
      "Welcome Daniel, your seat is 2\n"
     ]
    }
   ],
   "source": [
    "# If you want to get index and value over a for loop\n",
    "for idx, name in enumerate(names):\n",
    "    print(f'Welcome {name}, your seat is {idx}')"
   ]
  },
  {
   "cell_type": "markdown",
   "id": "e1dc5bd6",
   "metadata": {},
   "source": [
    "### 3.2. While loops\n",
    "\n",
    "The majority of loops that you will write will be `for` loops. These are loops that have a defined number of iterations, over a specified sequence. However, there may be times when it is not clear when the loop should terminate. In this case, you use a `while` loop. This has the syntax\n",
    "\n",
    "```python\n",
    "    while <condition> is True:\n",
    "        <code>\n",
    "```\n",
    "`condition` should be something that can be evaluated when the loop is started, and the variables that determine the conditional should be modified in the loop.\n",
    "\n",
    "This kind of loop should be use carefully — it is relatively easy to accidentally create an infinite loop, where the condition never is triggered to stop so the loop continues forever. This is especially important to avoid given that we are using shared resources in our class and a `while` loop that never ends can cause the computer the crash."
   ]
  },
  {
   "cell_type": "code",
   "execution_count": 72,
   "id": "cb0d37c7",
   "metadata": {},
   "outputs": [
    {
     "ename": "IndentationError",
     "evalue": "unexpected indent (2080306368.py, line 5)",
     "output_type": "error",
     "traceback": [
      "\u001b[0;36m  Input \u001b[0;32mIn [72]\u001b[0;36m\u001b[0m\n\u001b[0;31m    n -= 1    # subtract 1 each loop\u001b[0m\n\u001b[0m    ^\u001b[0m\n\u001b[0;31mIndentationError\u001b[0m\u001b[0;31m:\u001b[0m unexpected indent\n"
     ]
    }
   ],
   "source": [
    "n = 5         # starting value\n",
    "loop_count = 0 # counter\n",
    "while n > 0:\n",
    "    n = n - 1\n",
    "        n -= 1    # subtract 1 each loop\n",
    "    print(n)\n",
    "    # loop_count = loop_count + 1\n",
    "\n",
    "    # loop_count += 1\n",
    "    # print(f'loop count: {loop_count} and the current n is {n}')  # look at value of n"
   ]
  },
  {
   "cell_type": "markdown",
   "id": "ea0df6bf",
   "metadata": {},
   "source": [
    "---\n",
    "### *Exercise*\n",
    "\n",
    "10. (3 points) Calculate how many sequential integer should be added to exceed 100,000 (i.e., from 1 to ?). You need to provide a proof of code using a while loop.\n",
    "\n",
    "---"
   ]
  },
  {
   "cell_type": "code",
   "execution_count": 85,
   "id": "56f1fa03-b268-4641-b91c-2cf063f2a499",
   "metadata": {},
   "outputs": [
    {
     "data": {
      "text/plain": [
       "5"
      ]
     },
     "execution_count": 85,
     "metadata": {},
     "output_type": "execute_result"
    }
   ],
   "source": [
    "n = 0\n",
    "\n",
    "while n < 5:\n",
    "    n += 1\n",
    "    \n",
    "n"
   ]
  },
  {
   "cell_type": "code",
   "execution_count": 73,
   "id": "701d75eb",
   "metadata": {
    "collapsed": true,
    "jupyter": {
     "outputs_hidden": true
    },
    "tags": []
   },
   "outputs": [
    {
     "name": "stdout",
     "output_type": "stream",
     "text": [
      "Value from 0 until 1 is 1\n",
      "Value from 0 until 2 is 3\n",
      "Value from 0 until 3 is 6\n",
      "Value from 0 until 4 is 10\n",
      "Value from 0 until 5 is 15\n",
      "Value from 0 until 6 is 21\n",
      "Value from 0 until 7 is 28\n",
      "Value from 0 until 8 is 36\n",
      "Value from 0 until 9 is 45\n",
      "Value from 0 until 10 is 55\n",
      "Value from 0 until 11 is 66\n",
      "Value from 0 until 12 is 78\n",
      "Value from 0 until 13 is 91\n",
      "Value from 0 until 14 is 105\n",
      "Value from 0 until 15 is 120\n",
      "Value from 0 until 16 is 136\n",
      "Value from 0 until 17 is 153\n",
      "Value from 0 until 18 is 171\n",
      "Value from 0 until 19 is 190\n",
      "Value from 0 until 20 is 210\n",
      "Value from 0 until 21 is 231\n",
      "Value from 0 until 22 is 253\n",
      "Value from 0 until 23 is 276\n",
      "Value from 0 until 24 is 300\n",
      "Value from 0 until 25 is 325\n",
      "Value from 0 until 26 is 351\n",
      "Value from 0 until 27 is 378\n",
      "Value from 0 until 28 is 406\n",
      "Value from 0 until 29 is 435\n",
      "Value from 0 until 30 is 465\n",
      "Value from 0 until 31 is 496\n",
      "Value from 0 until 32 is 528\n",
      "Value from 0 until 33 is 561\n",
      "Value from 0 until 34 is 595\n",
      "Value from 0 until 35 is 630\n",
      "Value from 0 until 36 is 666\n",
      "Value from 0 until 37 is 703\n",
      "Value from 0 until 38 is 741\n",
      "Value from 0 until 39 is 780\n",
      "Value from 0 until 40 is 820\n",
      "Value from 0 until 41 is 861\n",
      "Value from 0 until 42 is 903\n",
      "Value from 0 until 43 is 946\n",
      "Value from 0 until 44 is 990\n",
      "Value from 0 until 45 is 1035\n",
      "Value from 0 until 46 is 1081\n",
      "Value from 0 until 47 is 1128\n",
      "Value from 0 until 48 is 1176\n",
      "Value from 0 until 49 is 1225\n",
      "Value from 0 until 50 is 1275\n",
      "Value from 0 until 51 is 1326\n",
      "Value from 0 until 52 is 1378\n",
      "Value from 0 until 53 is 1431\n",
      "Value from 0 until 54 is 1485\n",
      "Value from 0 until 55 is 1540\n",
      "Value from 0 until 56 is 1596\n",
      "Value from 0 until 57 is 1653\n",
      "Value from 0 until 58 is 1711\n",
      "Value from 0 until 59 is 1770\n",
      "Value from 0 until 60 is 1830\n",
      "Value from 0 until 61 is 1891\n",
      "Value from 0 until 62 is 1953\n",
      "Value from 0 until 63 is 2016\n",
      "Value from 0 until 64 is 2080\n",
      "Value from 0 until 65 is 2145\n",
      "Value from 0 until 66 is 2211\n",
      "Value from 0 until 67 is 2278\n",
      "Value from 0 until 68 is 2346\n",
      "Value from 0 until 69 is 2415\n",
      "Value from 0 until 70 is 2485\n",
      "Value from 0 until 71 is 2556\n",
      "Value from 0 until 72 is 2628\n",
      "Value from 0 until 73 is 2701\n",
      "Value from 0 until 74 is 2775\n",
      "Value from 0 until 75 is 2850\n",
      "Value from 0 until 76 is 2926\n",
      "Value from 0 until 77 is 3003\n",
      "Value from 0 until 78 is 3081\n",
      "Value from 0 until 79 is 3160\n",
      "Value from 0 until 80 is 3240\n",
      "Value from 0 until 81 is 3321\n",
      "Value from 0 until 82 is 3403\n",
      "Value from 0 until 83 is 3486\n",
      "Value from 0 until 84 is 3570\n",
      "Value from 0 until 85 is 3655\n",
      "Value from 0 until 86 is 3741\n",
      "Value from 0 until 87 is 3828\n",
      "Value from 0 until 88 is 3916\n",
      "Value from 0 until 89 is 4005\n",
      "Value from 0 until 90 is 4095\n",
      "Value from 0 until 91 is 4186\n",
      "Value from 0 until 92 is 4278\n",
      "Value from 0 until 93 is 4371\n",
      "Value from 0 until 94 is 4465\n",
      "Value from 0 until 95 is 4560\n",
      "Value from 0 until 96 is 4656\n",
      "Value from 0 until 97 is 4753\n",
      "Value from 0 until 98 is 4851\n",
      "Value from 0 until 99 is 4950\n",
      "Value from 0 until 100 is 5050\n",
      "Value from 0 until 101 is 5151\n",
      "Value from 0 until 102 is 5253\n",
      "Value from 0 until 103 is 5356\n",
      "Value from 0 until 104 is 5460\n",
      "Value from 0 until 105 is 5565\n",
      "Value from 0 until 106 is 5671\n",
      "Value from 0 until 107 is 5778\n",
      "Value from 0 until 108 is 5886\n",
      "Value from 0 until 109 is 5995\n",
      "Value from 0 until 110 is 6105\n",
      "Value from 0 until 111 is 6216\n",
      "Value from 0 until 112 is 6328\n",
      "Value from 0 until 113 is 6441\n",
      "Value from 0 until 114 is 6555\n",
      "Value from 0 until 115 is 6670\n",
      "Value from 0 until 116 is 6786\n",
      "Value from 0 until 117 is 6903\n",
      "Value from 0 until 118 is 7021\n",
      "Value from 0 until 119 is 7140\n",
      "Value from 0 until 120 is 7260\n",
      "Value from 0 until 121 is 7381\n",
      "Value from 0 until 122 is 7503\n",
      "Value from 0 until 123 is 7626\n",
      "Value from 0 until 124 is 7750\n",
      "Value from 0 until 125 is 7875\n",
      "Value from 0 until 126 is 8001\n",
      "Value from 0 until 127 is 8128\n",
      "Value from 0 until 128 is 8256\n",
      "Value from 0 until 129 is 8385\n",
      "Value from 0 until 130 is 8515\n",
      "Value from 0 until 131 is 8646\n",
      "Value from 0 until 132 is 8778\n",
      "Value from 0 until 133 is 8911\n",
      "Value from 0 until 134 is 9045\n",
      "Value from 0 until 135 is 9180\n",
      "Value from 0 until 136 is 9316\n",
      "Value from 0 until 137 is 9453\n",
      "Value from 0 until 138 is 9591\n",
      "Value from 0 until 139 is 9730\n",
      "Value from 0 until 140 is 9870\n",
      "Value from 0 until 141 is 10011\n",
      "Value from 0 until 142 is 10153\n",
      "Value from 0 until 143 is 10296\n",
      "Value from 0 until 144 is 10440\n",
      "Value from 0 until 145 is 10585\n",
      "Value from 0 until 146 is 10731\n",
      "Value from 0 until 147 is 10878\n",
      "Value from 0 until 148 is 11026\n",
      "Value from 0 until 149 is 11175\n",
      "Value from 0 until 150 is 11325\n",
      "Value from 0 until 151 is 11476\n",
      "Value from 0 until 152 is 11628\n",
      "Value from 0 until 153 is 11781\n",
      "Value from 0 until 154 is 11935\n",
      "Value from 0 until 155 is 12090\n",
      "Value from 0 until 156 is 12246\n",
      "Value from 0 until 157 is 12403\n",
      "Value from 0 until 158 is 12561\n",
      "Value from 0 until 159 is 12720\n",
      "Value from 0 until 160 is 12880\n",
      "Value from 0 until 161 is 13041\n",
      "Value from 0 until 162 is 13203\n",
      "Value from 0 until 163 is 13366\n",
      "Value from 0 until 164 is 13530\n",
      "Value from 0 until 165 is 13695\n",
      "Value from 0 until 166 is 13861\n",
      "Value from 0 until 167 is 14028\n",
      "Value from 0 until 168 is 14196\n",
      "Value from 0 until 169 is 14365\n",
      "Value from 0 until 170 is 14535\n",
      "Value from 0 until 171 is 14706\n",
      "Value from 0 until 172 is 14878\n",
      "Value from 0 until 173 is 15051\n",
      "Value from 0 until 174 is 15225\n",
      "Value from 0 until 175 is 15400\n",
      "Value from 0 until 176 is 15576\n",
      "Value from 0 until 177 is 15753\n",
      "Value from 0 until 178 is 15931\n",
      "Value from 0 until 179 is 16110\n",
      "Value from 0 until 180 is 16290\n",
      "Value from 0 until 181 is 16471\n",
      "Value from 0 until 182 is 16653\n",
      "Value from 0 until 183 is 16836\n",
      "Value from 0 until 184 is 17020\n",
      "Value from 0 until 185 is 17205\n",
      "Value from 0 until 186 is 17391\n",
      "Value from 0 until 187 is 17578\n",
      "Value from 0 until 188 is 17766\n",
      "Value from 0 until 189 is 17955\n",
      "Value from 0 until 190 is 18145\n",
      "Value from 0 until 191 is 18336\n",
      "Value from 0 until 192 is 18528\n",
      "Value from 0 until 193 is 18721\n",
      "Value from 0 until 194 is 18915\n",
      "Value from 0 until 195 is 19110\n",
      "Value from 0 until 196 is 19306\n",
      "Value from 0 until 197 is 19503\n",
      "Value from 0 until 198 is 19701\n",
      "Value from 0 until 199 is 19900\n",
      "Value from 0 until 200 is 20100\n",
      "Value from 0 until 201 is 20301\n",
      "Value from 0 until 202 is 20503\n",
      "Value from 0 until 203 is 20706\n",
      "Value from 0 until 204 is 20910\n",
      "Value from 0 until 205 is 21115\n",
      "Value from 0 until 206 is 21321\n",
      "Value from 0 until 207 is 21528\n",
      "Value from 0 until 208 is 21736\n",
      "Value from 0 until 209 is 21945\n",
      "Value from 0 until 210 is 22155\n",
      "Value from 0 until 211 is 22366\n",
      "Value from 0 until 212 is 22578\n",
      "Value from 0 until 213 is 22791\n",
      "Value from 0 until 214 is 23005\n",
      "Value from 0 until 215 is 23220\n",
      "Value from 0 until 216 is 23436\n",
      "Value from 0 until 217 is 23653\n",
      "Value from 0 until 218 is 23871\n",
      "Value from 0 until 219 is 24090\n",
      "Value from 0 until 220 is 24310\n",
      "Value from 0 until 221 is 24531\n",
      "Value from 0 until 222 is 24753\n",
      "Value from 0 until 223 is 24976\n",
      "Value from 0 until 224 is 25200\n",
      "Value from 0 until 225 is 25425\n",
      "Value from 0 until 226 is 25651\n",
      "Value from 0 until 227 is 25878\n",
      "Value from 0 until 228 is 26106\n",
      "Value from 0 until 229 is 26335\n",
      "Value from 0 until 230 is 26565\n",
      "Value from 0 until 231 is 26796\n",
      "Value from 0 until 232 is 27028\n",
      "Value from 0 until 233 is 27261\n",
      "Value from 0 until 234 is 27495\n",
      "Value from 0 until 235 is 27730\n",
      "Value from 0 until 236 is 27966\n",
      "Value from 0 until 237 is 28203\n",
      "Value from 0 until 238 is 28441\n",
      "Value from 0 until 239 is 28680\n",
      "Value from 0 until 240 is 28920\n",
      "Value from 0 until 241 is 29161\n",
      "Value from 0 until 242 is 29403\n",
      "Value from 0 until 243 is 29646\n",
      "Value from 0 until 244 is 29890\n",
      "Value from 0 until 245 is 30135\n",
      "Value from 0 until 246 is 30381\n",
      "Value from 0 until 247 is 30628\n",
      "Value from 0 until 248 is 30876\n",
      "Value from 0 until 249 is 31125\n",
      "Value from 0 until 250 is 31375\n",
      "Value from 0 until 251 is 31626\n",
      "Value from 0 until 252 is 31878\n",
      "Value from 0 until 253 is 32131\n",
      "Value from 0 until 254 is 32385\n",
      "Value from 0 until 255 is 32640\n",
      "Value from 0 until 256 is 32896\n",
      "Value from 0 until 257 is 33153\n",
      "Value from 0 until 258 is 33411\n",
      "Value from 0 until 259 is 33670\n",
      "Value from 0 until 260 is 33930\n",
      "Value from 0 until 261 is 34191\n",
      "Value from 0 until 262 is 34453\n",
      "Value from 0 until 263 is 34716\n",
      "Value from 0 until 264 is 34980\n",
      "Value from 0 until 265 is 35245\n",
      "Value from 0 until 266 is 35511\n",
      "Value from 0 until 267 is 35778\n",
      "Value from 0 until 268 is 36046\n",
      "Value from 0 until 269 is 36315\n",
      "Value from 0 until 270 is 36585\n",
      "Value from 0 until 271 is 36856\n",
      "Value from 0 until 272 is 37128\n",
      "Value from 0 until 273 is 37401\n",
      "Value from 0 until 274 is 37675\n",
      "Value from 0 until 275 is 37950\n",
      "Value from 0 until 276 is 38226\n",
      "Value from 0 until 277 is 38503\n",
      "Value from 0 until 278 is 38781\n",
      "Value from 0 until 279 is 39060\n",
      "Value from 0 until 280 is 39340\n",
      "Value from 0 until 281 is 39621\n",
      "Value from 0 until 282 is 39903\n",
      "Value from 0 until 283 is 40186\n",
      "Value from 0 until 284 is 40470\n",
      "Value from 0 until 285 is 40755\n",
      "Value from 0 until 286 is 41041\n",
      "Value from 0 until 287 is 41328\n",
      "Value from 0 until 288 is 41616\n",
      "Value from 0 until 289 is 41905\n",
      "Value from 0 until 290 is 42195\n",
      "Value from 0 until 291 is 42486\n",
      "Value from 0 until 292 is 42778\n",
      "Value from 0 until 293 is 43071\n",
      "Value from 0 until 294 is 43365\n",
      "Value from 0 until 295 is 43660\n",
      "Value from 0 until 296 is 43956\n",
      "Value from 0 until 297 is 44253\n",
      "Value from 0 until 298 is 44551\n",
      "Value from 0 until 299 is 44850\n",
      "Value from 0 until 300 is 45150\n",
      "Value from 0 until 301 is 45451\n",
      "Value from 0 until 302 is 45753\n",
      "Value from 0 until 303 is 46056\n",
      "Value from 0 until 304 is 46360\n",
      "Value from 0 until 305 is 46665\n",
      "Value from 0 until 306 is 46971\n",
      "Value from 0 until 307 is 47278\n",
      "Value from 0 until 308 is 47586\n",
      "Value from 0 until 309 is 47895\n",
      "Value from 0 until 310 is 48205\n",
      "Value from 0 until 311 is 48516\n",
      "Value from 0 until 312 is 48828\n",
      "Value from 0 until 313 is 49141\n",
      "Value from 0 until 314 is 49455\n",
      "Value from 0 until 315 is 49770\n",
      "Value from 0 until 316 is 50086\n",
      "Value from 0 until 317 is 50403\n",
      "Value from 0 until 318 is 50721\n",
      "Value from 0 until 319 is 51040\n",
      "Value from 0 until 320 is 51360\n",
      "Value from 0 until 321 is 51681\n",
      "Value from 0 until 322 is 52003\n",
      "Value from 0 until 323 is 52326\n",
      "Value from 0 until 324 is 52650\n",
      "Value from 0 until 325 is 52975\n",
      "Value from 0 until 326 is 53301\n",
      "Value from 0 until 327 is 53628\n",
      "Value from 0 until 328 is 53956\n",
      "Value from 0 until 329 is 54285\n",
      "Value from 0 until 330 is 54615\n",
      "Value from 0 until 331 is 54946\n",
      "Value from 0 until 332 is 55278\n",
      "Value from 0 until 333 is 55611\n",
      "Value from 0 until 334 is 55945\n",
      "Value from 0 until 335 is 56280\n",
      "Value from 0 until 336 is 56616\n",
      "Value from 0 until 337 is 56953\n",
      "Value from 0 until 338 is 57291\n",
      "Value from 0 until 339 is 57630\n",
      "Value from 0 until 340 is 57970\n",
      "Value from 0 until 341 is 58311\n",
      "Value from 0 until 342 is 58653\n",
      "Value from 0 until 343 is 58996\n",
      "Value from 0 until 344 is 59340\n",
      "Value from 0 until 345 is 59685\n",
      "Value from 0 until 346 is 60031\n",
      "Value from 0 until 347 is 60378\n",
      "Value from 0 until 348 is 60726\n",
      "Value from 0 until 349 is 61075\n",
      "Value from 0 until 350 is 61425\n",
      "Value from 0 until 351 is 61776\n",
      "Value from 0 until 352 is 62128\n",
      "Value from 0 until 353 is 62481\n",
      "Value from 0 until 354 is 62835\n",
      "Value from 0 until 355 is 63190\n",
      "Value from 0 until 356 is 63546\n",
      "Value from 0 until 357 is 63903\n",
      "Value from 0 until 358 is 64261\n",
      "Value from 0 until 359 is 64620\n",
      "Value from 0 until 360 is 64980\n",
      "Value from 0 until 361 is 65341\n",
      "Value from 0 until 362 is 65703\n",
      "Value from 0 until 363 is 66066\n",
      "Value from 0 until 364 is 66430\n",
      "Value from 0 until 365 is 66795\n",
      "Value from 0 until 366 is 67161\n",
      "Value from 0 until 367 is 67528\n",
      "Value from 0 until 368 is 67896\n",
      "Value from 0 until 369 is 68265\n",
      "Value from 0 until 370 is 68635\n",
      "Value from 0 until 371 is 69006\n",
      "Value from 0 until 372 is 69378\n",
      "Value from 0 until 373 is 69751\n",
      "Value from 0 until 374 is 70125\n",
      "Value from 0 until 375 is 70500\n",
      "Value from 0 until 376 is 70876\n",
      "Value from 0 until 377 is 71253\n",
      "Value from 0 until 378 is 71631\n",
      "Value from 0 until 379 is 72010\n",
      "Value from 0 until 380 is 72390\n",
      "Value from 0 until 381 is 72771\n",
      "Value from 0 until 382 is 73153\n",
      "Value from 0 until 383 is 73536\n",
      "Value from 0 until 384 is 73920\n",
      "Value from 0 until 385 is 74305\n",
      "Value from 0 until 386 is 74691\n",
      "Value from 0 until 387 is 75078\n",
      "Value from 0 until 388 is 75466\n",
      "Value from 0 until 389 is 75855\n",
      "Value from 0 until 390 is 76245\n",
      "Value from 0 until 391 is 76636\n",
      "Value from 0 until 392 is 77028\n",
      "Value from 0 until 393 is 77421\n",
      "Value from 0 until 394 is 77815\n",
      "Value from 0 until 395 is 78210\n",
      "Value from 0 until 396 is 78606\n",
      "Value from 0 until 397 is 79003\n",
      "Value from 0 until 398 is 79401\n",
      "Value from 0 until 399 is 79800\n",
      "Value from 0 until 400 is 80200\n",
      "Value from 0 until 401 is 80601\n",
      "Value from 0 until 402 is 81003\n",
      "Value from 0 until 403 is 81406\n",
      "Value from 0 until 404 is 81810\n",
      "Value from 0 until 405 is 82215\n",
      "Value from 0 until 406 is 82621\n",
      "Value from 0 until 407 is 83028\n",
      "Value from 0 until 408 is 83436\n",
      "Value from 0 until 409 is 83845\n",
      "Value from 0 until 410 is 84255\n",
      "Value from 0 until 411 is 84666\n",
      "Value from 0 until 412 is 85078\n",
      "Value from 0 until 413 is 85491\n",
      "Value from 0 until 414 is 85905\n",
      "Value from 0 until 415 is 86320\n",
      "Value from 0 until 416 is 86736\n",
      "Value from 0 until 417 is 87153\n",
      "Value from 0 until 418 is 87571\n",
      "Value from 0 until 419 is 87990\n",
      "Value from 0 until 420 is 88410\n",
      "Value from 0 until 421 is 88831\n",
      "Value from 0 until 422 is 89253\n",
      "Value from 0 until 423 is 89676\n",
      "Value from 0 until 424 is 90100\n",
      "Value from 0 until 425 is 90525\n",
      "Value from 0 until 426 is 90951\n",
      "Value from 0 until 427 is 91378\n",
      "Value from 0 until 428 is 91806\n",
      "Value from 0 until 429 is 92235\n",
      "Value from 0 until 430 is 92665\n",
      "Value from 0 until 431 is 93096\n",
      "Value from 0 until 432 is 93528\n",
      "Value from 0 until 433 is 93961\n",
      "Value from 0 until 434 is 94395\n",
      "Value from 0 until 435 is 94830\n",
      "Value from 0 until 436 is 95266\n",
      "Value from 0 until 437 is 95703\n",
      "Value from 0 until 438 is 96141\n",
      "Value from 0 until 439 is 96580\n",
      "Value from 0 until 440 is 97020\n",
      "Value from 0 until 441 is 97461\n",
      "Value from 0 until 442 is 97903\n",
      "Value from 0 until 443 is 98346\n",
      "Value from 0 until 444 is 98790\n",
      "Value from 0 until 445 is 99235\n",
      "Value from 0 until 446 is 99681\n",
      "Value from 0 until 447 is 100128\n",
      "100128\n",
      "447\n"
     ]
    }
   ],
   "source": [
    "# Your code here\n",
    "\n",
    "sum_result = 0\n",
    "n = 0\n",
    "\n",
    "while sum_result < 100000:\n",
    "    n += 1 \n",
    "    sum_result += n\n",
    "    print(f'Value from 0 until {n} is {sum_result}')\n",
    "\n",
    "print(sum_result)\n",
    "print(n)"
   ]
  },
  {
   "cell_type": "markdown",
   "id": "849871dc",
   "metadata": {
    "tags": []
   },
   "source": [
    "### 3.3. If statement\n",
    "Conditionals have a similar syntax to `for` statements. Generally, conditionals look like\n",
    "```python\n",
    "    if <test>:\n",
    "        <Code run if...>\n",
    "        <...test is valid>\n",
    "```\n",
    "or\n",
    "```python\n",
    "    if <first test>:\n",
    "        <Code run if...>\n",
    "        <...the first test is valid>\n",
    "    elif <second test>:\n",
    "        <Code run if...>\n",
    "        <...the second test is valid>\n",
    "    else:\n",
    "        <Code run if...>\n",
    "        <...neither test is valid>\n",
    "```\n",
    "\n",
    "In both cases the test statements are code segments that return a boolean value, often a test for equality or inequality. The `elif` and `else` statements are always optional; both, either, or none can be included."
   ]
  },
  {
   "cell_type": "code",
   "execution_count": 74,
   "id": "880ae57e",
   "metadata": {},
   "outputs": [
    {
     "name": "stdout",
     "output_type": "stream",
     "text": [
      "x is less than 20\n"
     ]
    }
   ],
   "source": [
    "x = 2\n",
    "    \n",
    "if x < 20: \n",
    "    print('x is less than 20')\n",
    "elif x == 20:\n",
    "    print('x is equal to 20')\n",
    "else:\n",
    "    print('x is more than 20')\n"
   ]
  },
  {
   "cell_type": "code",
   "execution_count": 75,
   "id": "7e183f1d",
   "metadata": {},
   "outputs": [
    {
     "name": "stdout",
     "output_type": "stream",
     "text": [
      "{'i', 'a', 'o', 'u', 'e'}\n",
      "{'p', 'h', 'l', 'r', 'c', 's', 'n', 'k', 'v', 't', 'd', 'w'}\n",
      "{'$', ',', '#', '@', '!'}\n"
     ]
    }
   ],
   "source": [
    "# Example of nested if statements\n",
    "# 'string'.isalpha() will determine whether the string is alphabet.\n",
    "sentence = 'I would like to sort this sentence into vowels, consonants, and special characters!@#$'\n",
    "\n",
    "consonants = []  # list for consonants\n",
    "vowels = []      # list for vowels\n",
    "extra = []       # list for special characters \n",
    "\n",
    "for char in sentence:\n",
    "    # print(char)\n",
    "    # print(f'Character in the loop is {char}')\n",
    "    if char.isalpha():\n",
    "        if char.lower() in ['a', 'e', 'i', 'o', 'u']:\n",
    "            consonants.append(char.lower())\n",
    "        else:\n",
    "            vowels.append(char.lower())\n",
    "            \n",
    "    else:\n",
    "        if char == ' ':\n",
    "            pass\n",
    "        else:\n",
    "            extra.append(char.lower())\n",
    "\n",
    "print(set(consonants))\n",
    "print(set(vowels))\n",
    "print(set(extra))"
   ]
  },
  {
   "cell_type": "markdown",
   "id": "35ce340a",
   "metadata": {
    "tags": []
   },
   "source": [
    "---\n",
    "### *Exercise*\n",
    "\n",
    "11. (3 points) Find the lowest number that can be divided into 2, 3, 5, and 7 without any remainder (Not 0). <br>\n",
    "Note: You need to provide a proof of code using a for loop and an if statement. <br>\n",
    "Hint: three digits <br>\n",
    "Hint: You can use % operator to check the remainder. For example, 10 % 3 = 1, because 10 / 3 = 3 with remainder 1. <br><br>\n",
    "12. (3 points) Create three lists (`list_2`, `list_3`, `list_extra`). Within the range from 1 to 10, two lists (`list_2` and `list_3`) contain the numbers can be divided by 2 and 3 without remainder, respectively. The other list (`list_extra`) has the numbers that CANNOT be divided by 2 and 3 without remainder. <br>\n",
    "Note: You need to provide a proof of code using a for loop and an if statement. \n",
    "\n",
    "---"
   ]
  },
  {
   "cell_type": "code",
   "execution_count": 76,
   "id": "26e1ed5a",
   "metadata": {},
   "outputs": [
    {
     "name": "stdout",
     "output_type": "stream",
     "text": [
      "0\n",
      "210\n",
      "420\n",
      "630\n",
      "840\n"
     ]
    }
   ],
   "source": [
    "# Your code here (Excersise 11)\n",
    "\n",
    "for i in range(1000):\n",
    "    if (i % 2 == 0) & (i % 3 == 0) & (i % 5 == 0) & (i % 7 == 0):\n",
    "        print(i)\n"
   ]
  },
  {
   "cell_type": "code",
   "execution_count": 77,
   "id": "c22f1a84",
   "metadata": {},
   "outputs": [
    {
     "name": "stdout",
     "output_type": "stream",
     "text": [
      "[2, 4, 6, 8]\n",
      "[3, 6, 9]\n",
      "[1, 5, 7]\n"
     ]
    }
   ],
   "source": [
    "# Your code here (Excersise 12)\n",
    "list_2 = []\n",
    "list_3 = []\n",
    "list_extra = []\n",
    "\n",
    "for i in range(1, 10):\n",
    "    # print(i)\n",
    "    \n",
    "    if (i % 2 == 0) & (i % 3 != 0):\n",
    "        list_2.append(i)\n",
    "    elif (i % 3 == 0) & (i % 2 != 0):\n",
    "        list_3.append(i)\n",
    "    elif (i % 3 == 0) & (i % 2 == 0):\n",
    "        list_2.append(i)\n",
    "        list_3.append(i)\n",
    "    else:\n",
    "        list_extra.append(i)\n",
    "\n",
    "print(list_2)\n",
    "print(list_3)\n",
    "print(list_extra)"
   ]
  },
  {
   "cell_type": "code",
   "execution_count": 78,
   "id": "49a11b20",
   "metadata": {},
   "outputs": [
    {
     "name": "stdout",
     "output_type": "stream",
     "text": [
      "Success!\n"
     ]
    }
   ],
   "source": [
    "\"\"\" Test code for the previous function. \n",
    "This cell should NOT give any errors when it is run.\"\"\"\n",
    "\n",
    "# Check your result here. \n",
    "assert list_2 == [2, 4, 6, 8]\n",
    "assert list_3 == [3, 6, 9]\n",
    "assert list_extra == [1, 5, 7]\n",
    "\n",
    "print(\"Success!\")"
   ]
  },
  {
   "cell_type": "markdown",
   "id": "d74def76",
   "metadata": {},
   "source": [
    "### 1.4. Other control flows: Break, Pass, Continue"
   ]
  },
  {
   "cell_type": "code",
   "execution_count": 79,
   "id": "0af5f6c2",
   "metadata": {},
   "outputs": [
    {
     "name": "stdout",
     "output_type": "stream",
     "text": [
      "Number is 0\n",
      "Number is 1\n",
      "Number is 2\n",
      "Number is 3\n",
      "Number is 4\n",
      "Number is 5\n",
      "Out of loop\n"
     ]
    }
   ],
   "source": [
    "# Example of break\n",
    "number = 0\n",
    "\n",
    "for number in range(10):\n",
    "    if number > 5:\n",
    "        break    # break here\n",
    "\n",
    "    print('Number is ' + str(number))\n",
    "\n",
    "print('Out of loop')"
   ]
  },
  {
   "cell_type": "code",
   "execution_count": 80,
   "id": "5466c674",
   "metadata": {},
   "outputs": [
    {
     "name": "stdout",
     "output_type": "stream",
     "text": [
      "Number is 0\n",
      "Number is 1\n",
      "Number is 2\n",
      "Number is 3\n",
      "Number is 4\n",
      "Number is 6\n",
      "Number is 7\n",
      "Number is 8\n",
      "Number is 9\n",
      "Out of loop\n"
     ]
    }
   ],
   "source": [
    "# Example of continue\n",
    "number = 0\n",
    "\n",
    "for number in range(10):\n",
    "    if number == 5:\n",
    "        continue    # continue here\n",
    "\n",
    "    print('Number is ' + str(number))\n",
    "\n",
    "print('Out of loop')"
   ]
  },
  {
   "cell_type": "code",
   "execution_count": 81,
   "id": "e666c496",
   "metadata": {},
   "outputs": [
    {
     "name": "stdout",
     "output_type": "stream",
     "text": [
      "Number is 0\n",
      "Number is 1\n",
      "Number is 2\n",
      "Number is 3\n",
      "Number is 4\n",
      "Number is 5\n",
      "Number is 6\n",
      "Number is 7\n",
      "Number is 8\n",
      "Number is 9\n",
      "Out of loop\n"
     ]
    }
   ],
   "source": [
    "# Example of pass\n",
    "number = 0\n",
    "\n",
    "for number in range(10):\n",
    "    if number == 5:\n",
    "        pass    # pass here\n",
    "\n",
    "    print('Number is ' + str(number))\n",
    "\n",
    "print('Out of loop')"
   ]
  },
  {
   "cell_type": "markdown",
   "id": "49634c70",
   "metadata": {},
   "source": [
    "# 4. Functions\n",
    "\n",
    "Functions are ways to create reusable blocks of code that can be run with different variable values – the input variables to the function. Functions are defined using the syntax\n",
    "\n",
    "```python\n",
    "    def <function name> (var1, var2, ...):\n",
    "        <block of code...>\n",
    "        <...defining the function>\n",
    "        return <return variable(s)>\n",
    "```\n",
    "Functions can be defined at any point in the code, and called at any subsequent point."
   ]
  },
  {
   "cell_type": "code",
   "execution_count": 86,
   "id": "887d3b39",
   "metadata": {},
   "outputs": [
    {
     "data": {
      "text/plain": [
       "8"
      ]
     },
     "execution_count": 86,
     "metadata": {},
     "output_type": "execute_result"
    }
   ],
   "source": [
    "def addfive(x):\n",
    "\n",
    "    a = x + 5\n",
    "    \n",
    "    return a\n",
    "\n",
    "addfive(3)"
   ]
  },
  {
   "cell_type": "code",
   "execution_count": 87,
   "id": "4739e00a-4179-4618-ae03-a56833bf1d53",
   "metadata": {},
   "outputs": [
    {
     "data": {
      "text/plain": [
       "15"
      ]
     },
     "execution_count": 87,
     "metadata": {},
     "output_type": "execute_result"
    }
   ],
   "source": [
    "addfive(10)"
   ]
  },
  {
   "cell_type": "code",
   "execution_count": 88,
   "id": "25080deb",
   "metadata": {},
   "outputs": [
    {
     "name": "stdout",
     "output_type": "stream",
     "text": [
      "Perimeter of a circle: 31.41592\n",
      "Area of a circle: 78.5398\n"
     ]
    }
   ],
   "source": [
    "def calculate_circle(r):\n",
    "    '''Return the perimeter and area of a circle with the argument\n",
    "    \n",
    "    Input : r\n",
    "            A number\n",
    "    \n",
    "    Output: (C, A)\n",
    "            C: perimeter of a circle with radius r\n",
    "            A: area of a circle with radius r\n",
    "    \n",
    "    '''\n",
    "    pi = 3.141592\n",
    "    C = 2 * pi * r\n",
    "    A = pi * r ** 2\n",
    "    \n",
    "    return C, A\n",
    "\n",
    "perimeter, area = calculate_circle(5)\n",
    "print(f'Perimeter of a circle: {perimeter}')\n",
    "print(f'Area of a circle: {area}')"
   ]
  },
  {
   "cell_type": "code",
   "execution_count": 89,
   "id": "0e710626-8578-4f57-b729-04a461112c38",
   "metadata": {},
   "outputs": [
    {
     "data": {
      "text/plain": [
       "(31.41592, 78.5398)"
      ]
     },
     "execution_count": 89,
     "metadata": {},
     "output_type": "execute_result"
    }
   ],
   "source": [
    "a = calculate_circle(5)\n",
    "a"
   ]
  },
  {
   "cell_type": "markdown",
   "id": "24f5880d",
   "metadata": {},
   "source": [
    "---\n",
    "### *Exercise*\n",
    "\n",
    "13. (5 points) Write a function that takes in a list of numbers and returns two lists of numbers: the odd numbers in the list and the even numbers in the list. That is, if your function is called `odds_evens()`, it should work as follows: <br>\n",
    "\n",
    "```python\n",
    "    odds, evens = odds_evens([1,5,2,8,3,4])\n",
    "    print(odds, evens)\n",
    "    ([1, 5, 3], [2, 8, 4])\n",
    "```\n",
    "    \n",
    "Note that `x % y` gives the remainder of `x/y`.\n",
    "\n",
    "---"
   ]
  },
  {
   "cell_type": "code",
   "execution_count": 92,
   "id": "d916cb12-a4ff-4ed2-b042-5e6987cb7545",
   "metadata": {},
   "outputs": [
    {
     "name": "stdout",
     "output_type": "stream",
     "text": [
      "1\n",
      "5\n",
      "2\n",
      "8\n",
      "3\n",
      "4\n"
     ]
    }
   ],
   "source": [
    "# Your code here\n",
    "\n",
    "def odds_evens(temp_list):\n",
    "\n",
    "    odd_list = []\n",
    "    even_list = list()\n",
    "    \n",
    "    for i in temp_list:\n",
    "        print(i)\n",
    "        if i % 2 == 0:\n",
    "            even_list.append(i)\n",
    "        else:\n",
    "            odd_list.append(i)\n",
    "    \n",
    "            \n",
    "    return odd_list, even_list\n",
    "\n",
    "\n",
    "# odds_evens([1,2,3,4])    \n",
    "odds, evens = odds_evens([1, 5, 2, 8, 3, 4])"
   ]
  },
  {
   "cell_type": "code",
   "execution_count": 93,
   "id": "f68394a6",
   "metadata": {},
   "outputs": [
    {
     "name": "stdout",
     "output_type": "stream",
     "text": [
      "Success!\n"
     ]
    }
   ],
   "source": [
    "\"\"\" Test code for the previous function. \n",
    "This cell should NOT give any errors when it is run.\"\"\"\n",
    "\n",
    "# Check your result here. \n",
    "assert odds == [1, 5, 3]\n",
    "assert evens == [2, 8, 4]\n",
    "\n",
    "print(\"Success!\")"
   ]
  },
  {
   "cell_type": "code",
   "execution_count": null,
   "id": "0b6e2fc9-c3d8-445b-9a1a-ff1dfc2cbaee",
   "metadata": {},
   "outputs": [],
   "source": []
  }
 ],
 "metadata": {
  "kernelspec": {
   "display_name": "Python 3",
   "language": "python",
   "name": "python3"
  },
  "language_info": {
   "codemirror_mode": {
    "name": "ipython",
    "version": 3
   },
   "file_extension": ".py",
   "mimetype": "text/x-python",
   "name": "python",
   "nbconvert_exporter": "python",
   "pygments_lexer": "ipython3",
   "version": "3.8.12"
  }
 },
 "nbformat": 4,
 "nbformat_minor": 5
}
