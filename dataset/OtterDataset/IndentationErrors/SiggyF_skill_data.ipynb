{
 "metadata": {
  "name": "data"
 },
 "nbformat": 3,
 "nbformat_minor": 0,
 "worksheets": [
  {
   "cells": [
    {
     "cell_type": "code",
     "collapsed": false,
     "input": [
      "import re\n",
      "import os\n",
      "import pandas\n",
      "import PIL"
     ],
     "language": "python",
     "metadata": {},
     "outputs": [],
     "prompt_number": 13
    },
    {
     "cell_type": "code",
     "collapsed": false,
     "input": [
      "datadir = '../skill/data'\n",
      "pattern = re.compile(r'(?P<source>\\w+)_(?P<quantity>\\w+)_(?P<unit>\\w+)_(?P<period>[\\w-]+).png')"
     ],
     "language": "python",
     "metadata": {},
     "outputs": [],
     "prompt_number": 14
    },
    {
     "cell_type": "code",
     "collapsed": false,
     "input": [],
     "language": "python",
     "metadata": {},
     "outputs": [],
     "prompt_number": 14
    },
    {
     "cell_type": "code",
     "collapsed": false,
     "input": [
      "def getdata():\n",
      "    rows = []\n",
      " |   cases= os.listdir(datadir)\n",
      "    for case in cases:\n",
      "        for f in os.listdir(os.path.join(datadir, case)):\n",
      "            path = os.path.join(datadir, case,f)\n",
      "            match = pattern.search(f)\n",
      "            row = {\n",
      "                'source': '',\n",
      "                'quantity': '',\n",
      "                'unit': '',\n",
      "                'period': '',\n",
      "                'case': case,\n",
      "                'path': path\n",
      "                }\n",
      "            if match:\n",
      "                row.update(match.groupdict())\n",
      "            rows.append(row)\n",
      "    df = pandas.DataFrame.from_dict(rows)\n",
      "    return df"
     ],
     "language": "python",
     "metadata": {},
     "outputs": [
      {
       "ename": "IndentationError",
       "evalue": "unindent does not match any outer indentation level (<ipython-input-15-e6ccd001be58>, line 3)",
       "output_type": "pyerr",
       "traceback": [
        "\u001b[0;36m  File \u001b[0;32m\"<ipython-input-15-e6ccd001be58>\"\u001b[0;36m, line \u001b[0;32m3\u001b[0m\n\u001b[0;31m    |   cases= os.listdir(datadir)\u001b[0m\n\u001b[0m                                  ^\u001b[0m\n\u001b[0;31mIndentationError\u001b[0m\u001b[0;31m:\u001b[0m unindent does not match any outer indentation level\n"
       ]
      }
     ],
     "prompt_number": 15
    },
    {
     "cell_type": "code",
     "collapsed": false,
     "input": [
      "df = getdata()\n"
     ],
     "language": "python",
     "metadata": {},
     "outputs": [],
     "prompt_number": 16
    },
    {
     "cell_type": "code",
     "collapsed": false,
     "input": [
      "grouped = df.groupby(['quantity', 'period'])"
     ],
     "language": "python",
     "metadata": {},
     "outputs": [],
     "prompt_number": 17
    },
    {
     "cell_type": "code",
     "collapsed": false,
     "input": [
      "for quantity, df_by_quantity in df.groupby(['quantity']):\n",
      "    for period, df_by_period in df_by_quantity.groupby(['period']):\n",
      "        a= df_by_period[df_by_period.source=='Measured']"
     ],
     "language": "python",
     "metadata": {},
     "outputs": [],
     "prompt_number": 24
    },
    {
     "cell_type": "code",
     "collapsed": false,
     "input": [
      "len(df_by_period)"
     ],
     "language": "python",
     "metadata": {},
     "outputs": [
      {
       "output_type": "pyout",
       "prompt_number": 25,
       "text": [
        "2"
       ]
      }
     ],
     "prompt_number": 25
    },
    {
     "cell_type": "code",
     "collapsed": false,
     "input": [
      "df.ix[0]"
     ],
     "language": "python",
     "metadata": {},
     "outputs": [
      {
       "output_type": "pyout",
       "prompt_number": 29,
       "text": [
        "case                                                  bornrif\n",
        "path        ../skill/data/bornrif/Computed_bedchanges_m_19...\n",
        "period                                              1995-1993\n",
        "quantity                                           bedchanges\n",
        "source                                               Computed\n",
        "unit                                                        m\n",
        "Name: 0, dtype: object"
       ]
      }
     ],
     "prompt_number": 29
    },
    {
     "cell_type": "code",
     "collapsed": false,
     "input": [
      "df.ix[0]['path']"
     ],
     "language": "python",
     "metadata": {},
     "outputs": [
      {
       "output_type": "pyout",
       "prompt_number": 30,
       "text": [
        "'../skill/data/bornrif/Computed_bedchanges_m_1995-1993.png'"
       ]
      }
     ],
     "prompt_number": 30
    },
    {
     "cell_type": "code",
     "collapsed": false,
     "input": [
      "img = PIL.Image.open(df.ix[0]['path'])\n",
      "\n"
     ],
     "language": "python",
     "metadata": {},
     "outputs": [],
     "prompt_number": 31
    },
    {
     "cell_type": "code",
     "collapsed": false,
     "input": [],
     "language": "python",
     "metadata": {},
     "outputs": [],
     "prompt_number": 31
    },
    {
     "cell_type": "code",
     "collapsed": false,
     "input": [
      "\n",
      "import cStringIO\n",
      "import PIL.ImageOps\n",
      "converted_file = cStringIO.StringIO()\n",
      "img.thumbnail((128, 128))\n",
      "\n",
      "img.save(converted_file, format='png')"
     ],
     "language": "python",
     "metadata": {},
     "outputs": [],
     "prompt_number": 34
    },
    {
     "cell_type": "code",
     "collapsed": false,
     "input": [
      "converted_file.seek(0)\n",
      "converted_file.read(10)"
     ],
     "language": "python",
     "metadata": {},
     "outputs": [
      {
       "output_type": "pyout",
       "prompt_number": 35,
       "text": [
        "'\\x89PNG\\r\\n\\x1a\\n\\x00\\x00'"
       ]
      }
     ],
     "prompt_number": 35
    },
    {
     "cell_type": "code",
     "collapsed": false,
     "input": [],
     "language": "python",
     "metadata": {},
     "outputs": [],
     "prompt_number": 32
    },
    {
     "cell_type": "code",
     "collapsed": false,
     "input": [],
     "language": "python",
     "metadata": {},
     "outputs": [],
     "prompt_number": 32
    },
    {
     "cell_type": "code",
     "collapsed": false,
     "input": [
      "    "
     ],
     "language": "python",
     "metadata": {},
     "outputs": []
    }
   ],
   "metadata": {}
  }
 ]
}