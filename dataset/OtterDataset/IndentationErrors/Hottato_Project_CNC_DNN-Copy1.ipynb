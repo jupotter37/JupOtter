{
 "cells": [
  {
   "cell_type": "markdown",
   "metadata": {},
   "source": [
    "# 코드 수정 2023 8월 2일 ~\n",
    "\n",
    "`-` 이유 \n",
    "\n",
    "* 겨울 프로젝트 당시에 결과를 빨리 내려고 코드를 너무 난잡하게 작성 및 다시 코드 리뷰를 하니 변경해야 할점이 있어 수정.\n",
    "\n",
    "* 또한 프로젝트 끝난후 코드를 다시 수정하다가 뭔가를 잘못 했는지 모델이 전혀 예측을 하지못함-> 그 뒤로 수정을 하지 않음.\n",
    "\n",
    "* 하지만 깃허브를 만든후에 공부겸 코드를 다시 수정해봐야겠다는 생각이 들어 수정하게 됨"
   ]
  },
  {
   "cell_type": "markdown",
   "metadata": {},
   "source": [
    "# import"
   ]
  },
  {
   "cell_type": "code",
   "execution_count": 1,
   "metadata": {
    "colab": {
     "base_uri": "https://localhost:8080/"
    },
    "id": "IEZgeggKwEU3",
    "outputId": "16ff01c1-c274-4fd7-efb9-8bfa2152cafe"
   },
   "outputs": [
    {
     "name": "stderr",
     "output_type": "stream",
     "text": [
      "C:\\Users\\31083\\anaconda3\\envs\\test_envs\\lib\\site-packages\\torchaudio\\backend\\utils.py:74: UserWarning: No audio backend is available.\n",
      "  warnings.warn(\"No audio backend is available.\")\n"
     ]
    }
   ],
   "source": [
    "import plotly\n",
    "import plotly.graph_objects as go\n",
    "from plotly.subplots import make_subplots\n",
    "import matplotlib.pyplot as plt\n",
    "import plotly.express as px\n",
    "\n",
    "from scipy.stats import skew, kurtosis\n",
    "import numpy as np\n",
    "import pandas as pd\n",
    "from glob import glob\n",
    "import os\n",
    "\n",
    "\n",
    "from sklearn.preprocessing import MinMaxScaler\n",
    "from sklearn.preprocessing import StandardScaler\n",
    "from torchmetrics import R2Score\n",
    "\n",
    "import torchvision\n",
    "import torch\n",
    "import torchmetrics\n",
    "import torch.nn as nn\n",
    "import torch.nn.functional as F\n",
    "from torch.utils.data import DataLoader\n",
    "from torch.utils.data import Dataset, DataLoader, random_split\n",
    "import string\n",
    "import torch.optim as optim\n",
    "\n",
    "import torchmetrics\n",
    "from torchmetrics import R2Score\n",
    "\n",
    "\n",
    "from torchvision import datasets\n",
    "from torch.utils.data import DataLoader\n",
    "import torchvision.transforms as transforms\n",
    "from tqdm.notebook import tqdm\n",
    "\n",
    "import wandb\n",
    "import math"
   ]
  },
  {
   "cell_type": "code",
   "execution_count": 6,
   "metadata": {
    "colab": {
     "base_uri": "https://localhost:8080/"
    },
    "id": "YXLeH9N3wEU3",
    "outputId": "4546dd7b-5d87-43fd-8af4-dde1acc3ea9a"
   },
   "outputs": [
    {
     "name": "stdout",
     "output_type": "stream",
     "text": [
      "cuda:0\n"
     ]
    },
    {
     "data": {
      "text/plain": [
       "device(type='cpu')"
      ]
     },
     "execution_count": 6,
     "metadata": {},
     "output_type": "execute_result"
    }
   ],
   "source": [
    "device = torch.device(\"cuda:0\" if torch.cuda.is_available() else \"cpu\")\n",
    "print(device)\n",
    "\n",
    "\n",
    "device_cpu = torch.device(\"cpu\")\n",
    "device_cpu"
   ]
  },
  {
   "cell_type": "code",
   "execution_count": 3,
   "metadata": {
    "id": "37GIvn-zpCtC"
   },
   "outputs": [],
   "source": [
    "r2score = R2Score().to(device)"
   ]
  },
  {
   "cell_type": "markdown",
   "metadata": {
    "id": "R27_t0cNrlBV"
   },
   "source": [
    "### read"
   ]
  },
  {
   "cell_type": "markdown",
   "metadata": {
    "id": "B4RH4hGSoESu"
   },
   "source": [
    "## NUM_FEATURES"
   ]
  },
  {
   "cell_type": "code",
   "execution_count": null,
   "metadata": {
    "colab": {
     "base_uri": "https://localhost:8080/"
    },
    "id": "6Ab4ydgRoESu",
    "outputId": "94916ffb-3f5e-490a-ecac-40207e4c653c"
   },
   "outputs": [
    {
     "name": "stdout",
     "output_type": "stream",
     "text": [
      "number of features: 2\n"
     ]
    },
    {
     "name": "stderr",
     "output_type": "stream",
     "text": [
      "<ipython-input-21-eff78eb62edf>:2: FutureWarning: In a future version of pandas all arguments of DataFrame.drop except for the argument 'labels' will be keyword-only\n",
      "  NUM_FEATURES = len(pc2_2.drop(' C1', 1).columns)\n"
     ]
    }
   ],
   "source": [
    "# feature 변수의 개수 지정\n",
    "NUM_FEATURES = len(pc2_2.drop(' C1', 1).columns)\n",
    "print(f'number of features: {NUM_FEATURES}')\n"
   ]
  },
  {
   "cell_type": "markdown",
   "metadata": {
    "id": "oYM1We3bvOKy",
    "tags": []
   },
   "source": [
    "# sweep"
   ]
  },
  {
   "cell_type": "markdown",
   "metadata": {
    "id": "AVJMKJmU5foH"
   },
   "source": [
    "## 로그인"
   ]
  },
  {
   "cell_type": "code",
   "execution_count": 4,
   "metadata": {
    "colab": {
     "base_uri": "https://localhost:8080/"
    },
    "id": "vYpZU2Tz5mN-",
    "outputId": "85b1252b-53ef-4049-875f-6bba3aeb62d4"
   },
   "outputs": [
    {
     "name": "stderr",
     "output_type": "stream",
     "text": [
      "\u001b[34m\u001b[1mwandb\u001b[0m: Currently logged in as: \u001b[33mpotatopotato\u001b[0m (\u001b[33mexpect\u001b[0m). Use \u001b[1m`wandb login --relogin`\u001b[0m to force relogin\n"
     ]
    },
    {
     "data": {
      "text/plain": [
       "True"
      ]
     },
     "execution_count": 4,
     "metadata": {},
     "output_type": "execute_result"
    }
   ],
   "source": [
    "# Log in to your W&B account\n",
    "\n",
    "wandb.login()"
   ]
  },
  {
   "cell_type": "code",
   "execution_count": 5,
   "metadata": {
    "id": "Fxm-90Xkzve-"
   },
   "outputs": [],
   "source": [
    "sweep_config = {\n",
    "    'method': 'bayes'\n",
    "    }\n",
    "\n",
    "metric = {\n",
    "    'name': 'test_accuracy',\n",
    "    'goal': 'maximize',\n",
    "    'target': 0.99\n",
    "    }\n",
    "\n",
    "sweep_config['metric'] = metric\n",
    "\n",
    "early_terminate = {'type': 'hyperband','max_iter': 40, 's': 2}\n",
    "\n",
    "\n",
    "sweep_config['early_terminate'] = early_terminate\n",
    "\n",
    "parameters_dict = {\n",
    "    'optimizer': {\n",
    "        'values': ['adam']\n",
    "        },\n",
    "    # 'fc_layer_size': {\n",
    "    #     'values': [64,128, 256]\n",
    "    #     },\n",
    "    'dropout': {\n",
    "          'values': [0.1,0.2,0.3,0.4,0.5,0.6,0.7,0.8,0.9]\n",
    "        },\n",
    "    }\n",
    "\n",
    "sweep_config['parameters'] = parameters_dict\n",
    "\n",
    "\n",
    "\n"
   ]
  },
  {
   "cell_type": "markdown",
   "metadata": {
    "id": "4SqJImHJwEU5"
   },
   "source": [
    "### read"
   ]
  },
  {
   "cell_type": "markdown",
   "metadata": {
    "id": "Zj_qUtffwEU5"
   },
   "source": [
    "## NUM_FEATURES"
   ]
  },
  {
   "cell_type": "code",
   "execution_count": null,
   "metadata": {
    "colab": {
     "base_uri": "https://localhost:8080/"
    },
    "id": "gaVSurWCwEU5",
    "outputId": "94916ffb-3f5e-490a-ecac-40207e4c653c"
   },
   "outputs": [
    {
     "name": "stdout",
     "output_type": "stream",
     "text": [
      "number of features: 2\n"
     ]
    },
    {
     "name": "stderr",
     "output_type": "stream",
     "text": [
      "<ipython-input-21-eff78eb62edf>:2: FutureWarning: In a future version of pandas all arguments of DataFrame.drop except for the argument 'labels' will be keyword-only\n",
      "  NUM_FEATURES = len(pc2_2.drop(' C1', 1).columns)\n"
     ]
    }
   ],
   "source": [
    "# feature 변수의 개수 지정\n",
    "NUM_FEATURES = len(pc2_2.drop(' C1', 1).columns)\n",
    "print(f'number of features: {NUM_FEATURES}')\n"
   ]
  },
  {
   "cell_type": "markdown",
   "metadata": {
    "id": "T8qhq3nfwEU5"
   },
   "source": [
    "## 로그인"
   ]
  },
  {
   "cell_type": "code",
   "execution_count": null,
   "metadata": {
    "colab": {
     "base_uri": "https://localhost:8080/"
    },
    "id": "ysNt6xT-wEU5",
    "outputId": "85b1252b-53ef-4049-875f-6bba3aeb62d4"
   },
   "outputs": [
    {
     "name": "stderr",
     "output_type": "stream",
     "text": [
      "\u001b[34m\u001b[1mwandb\u001b[0m: Currently logged in as: \u001b[33mpotatopotato\u001b[0m (\u001b[33mexpect\u001b[0m). Use \u001b[1m`wandb login --relogin`\u001b[0m to force relogin\n"
     ]
    },
    {
     "data": {
      "text/plain": [
       "True"
      ]
     },
     "execution_count": 22,
     "metadata": {},
     "output_type": "execute_result"
    }
   ],
   "source": [
    "# Log in to your W&B account\n",
    "\n",
    "wandb.login()"
   ]
  },
  {
   "cell_type": "code",
   "execution_count": 8,
   "metadata": {
    "id": "92vfQbcfwEU5"
   },
   "outputs": [],
   "source": [
    "sweep_config = {\n",
    "    'method': 'bayes'\n",
    "    }\n",
    "\n",
    "metric = {\n",
    "    'name': 'test_accuracy',\n",
    "    'goal': 'maximize',\n",
    "    'target': 0.99\n",
    "    }\n",
    "\n",
    "sweep_config['metric'] = metric\n",
    "\n",
    "early_terminate = {'type': 'hyperband','max_iter': 40, 's': 2}\n",
    "\n",
    "\n",
    "sweep_config['early_terminate'] = early_terminate\n",
    "\n",
    "parameters_dict = {\n",
    "    'optimizer': {\n",
    "        'values': ['adam']\n",
    "        },\n",
    "    'dropout': {\n",
    "          'values': [0.1,0.2,0.3,0.4,0.5,0.6,0.7,0.8,0.9]\n",
    "        },\n",
    "    }\n",
    "\n",
    "sweep_config['parameters'] = parameters_dict\n",
    "\n",
    "\n",
    "\n"
   ]
  },
  {
   "cell_type": "code",
   "execution_count": 9,
   "metadata": {
    "id": "4BPkg87_zvSV"
   },
   "outputs": [],
   "source": [
    "\n",
    "parameters_dict.update({\n",
    "    'learning_rate': {\n",
    "        # a flat distribution between 0 and 0.1\n",
    "        'distribution': 'uniform',\n",
    "        'min': 0,\n",
    "        'max': 0.1\n",
    "      },\n",
    "    'batch_size': {\n",
    "        # integers between 32 and 256\n",
    "        # with evenly-distributed logarithms \n",
    "        'distribution': 'q_log_uniform_values',\n",
    "        'q': 8,\n",
    "        'min': 64,\n",
    "        'max': 2048,\n",
    "      }\n",
    "\n",
    "    })"
   ]
  },
  {
   "cell_type": "code",
   "execution_count": 10,
   "metadata": {
    "id": "j4zbJ00H1D6y"
   },
   "outputs": [],
   "source": [
    "parameters_dict.update({\n",
    "    'epochs': {\n",
    "        'value': 30\n",
    "    }})\n",
    "\n",
    "parameters_dict.update({\n",
    "    'dropout': {\n",
    "        'values': [0.1,0.2,0.3,0.4,0.5,0.6,0.7,0.8,0.9]\n",
    "    }})\n",
    "\n",
    "parameters_dict.update({\n",
    "    'learning_rate': {'distribution': 'uniform', 'min': 0, 'max': 0.1},\n",
    "\n",
    "    'batch_size': {'distribution': 'q_log_uniform_values',\n",
    "   'q': 8,\n",
    "   'min': 16,\n",
    "   'max': 524}   \n",
    "  })"
   ]
  },
  {
   "cell_type": "code",
   "execution_count": 11,
   "metadata": {
    "colab": {
     "base_uri": "https://localhost:8080/"
    },
    "id": "8DOOMHQlzvPT",
    "outputId": "0a49e325-856f-4419-aa95-9e3d0fb2c199"
   },
   "outputs": [
    {
     "name": "stdout",
     "output_type": "stream",
     "text": [
      "{'early_terminate': {'max_iter': 40, 's': 2, 'type': 'hyperband'},\n",
      " 'method': 'bayes',\n",
      " 'metric': {'goal': 'maximize', 'name': 'test_accuracy', 'target': 0.99},\n",
      " 'parameters': {'batch_size': {'distribution': 'q_log_uniform_values',\n",
      "                               'max': 524,\n",
      "                               'min': 16,\n",
      "                               'q': 8},\n",
      "                'dropout': {'values': [0.1,\n",
      "                                       0.2,\n",
      "                                       0.3,\n",
      "                                       0.4,\n",
      "                                       0.5,\n",
      "                                       0.6,\n",
      "                                       0.7,\n",
      "                                       0.8,\n",
      "                                       0.9]},\n",
      "                'epochs': {'value': 30},\n",
      "                'learning_rate': {'distribution': 'uniform',\n",
      "                                  'max': 0.1,\n",
      "                                  'min': 0},\n",
      "                'optimizer': {'values': ['adam']}}}\n"
     ]
    }
   ],
   "source": [
    "pprint.pprint(sweep_config)"
   ]
  },
  {
   "cell_type": "code",
   "execution_count": 13,
   "metadata": {
    "id": "eSuoYsaTg3TF"
   },
   "outputs": [
    {
     "ename": "IndentationError",
     "evalue": "unindent does not match any outer indentation level (<tokenize>, line 6)",
     "output_type": "error",
     "traceback": [
      "\u001b[1;36m  File \u001b[1;32m<tokenize>:6\u001b[1;36m\u001b[0m\n\u001b[1;33m    return optimizer\u001b[0m\n\u001b[1;37m    ^\u001b[0m\n\u001b[1;31mIndentationError\u001b[0m\u001b[1;31m:\u001b[0m unindent does not match any outer indentation level\n"
     ]
    }
   ],
   "source": [
    "def s_optimizer(network, optimizer, learinin_rate):\n",
    "    \n",
    "    optimizer = optim.Adam(network.parameters(),lr = learinin_rate)\n",
    "\n",
    " \n",
    " return optimizer"
   ]
  },
  {
   "cell_type": "markdown",
   "metadata": {
    "id": "33uckHA3Vpaf"
   },
   "source": [
    "## SweepCustomDataset"
   ]
  },
  {
   "cell_type": "code",
   "execution_count": null,
   "metadata": {
    "id": "mXZ0DZFN3QjM"
   },
   "outputs": [],
   "source": [
    "class sweepCustomDataset(Dataset):\n",
    "\n",
    "  \n",
    "    def __init__(self, data, target=' C1'): # , normalize=True\n",
    "        super(sweepCustomDataset, self).__init__()\n",
    "        self.x = data.drop(target, 1)\n",
    "        # # 데이터 표준화\n",
    "        # if normalize:\n",
    "        #scaler = StandardScaler()\n",
    "        # self.x = pd.DataFrame(scaler.fit_transform(self.x))\n",
    "        self.y = data[' C1']\n",
    "        # 텐서 변환\n",
    "        self.x = torch.tensor(self.x.values,requires_grad=True).float()\n",
    "        self.y = torch.tensor(self.y.values,requires_grad=True).float()\n",
    "        \n",
    "    def __len__(self):\n",
    "        return len(self.x)\n",
    "    \n",
    "    def __getitem__(self, idx):\n",
    "        x = self.x[idx]\n",
    "        y = self.y[idx]\n",
    "        return x, y"
   ]
  },
  {
   "cell_type": "markdown",
   "metadata": {
    "id": "xthybne3VqaE"
   },
   "source": [
    "## sweepload_data"
   ]
  },
  {
   "cell_type": "code",
   "execution_count": null,
   "metadata": {
    "id": "VbAGkJQpzvDf"
   },
   "outputs": [],
   "source": [
    "def sweepload_data(data,batch_size):\n",
    "    \n",
    "\n",
    "  dataset = sweepCustomDataset(data, ' C1')\n",
    "\n",
    "  dataset_size = len(dataset)\n",
    "\n",
    "  train_size = int(dataset_size * 0.8)\n",
    "\n",
    "  # test_size = dataset_size - train_size \n",
    "\n",
    "\n",
    "  test_size = dataset_size - train_size \n",
    "  # 데이터 분할 \n",
    "  train_dataset, test_dataset = random_split(dataset, [train_size, test_size])\n",
    "\n",
    "  train_loader = DataLoader(train_dataset, \n",
    "                         batch_size= batch_size, \n",
    "                         shuffle=True,num_workers = 0)\n",
    "    \n",
    "\n",
    "  test_loader = DataLoader(test_dataset, \n",
    "                         batch_size= batch_size, \n",
    "                         shuffle=True,num_workers = 0)\n",
    "  \n",
    "\n",
    "  return train_loader , test_loader"
   ]
  },
  {
   "cell_type": "markdown",
   "metadata": {
    "id": "rDL4bsYSZDfE"
   },
   "source": [
    "## sweepNet"
   ]
  },
  {
   "cell_type": "code",
   "execution_count": null,
   "metadata": {
    "id": "cv8mbny_zvAX"
   },
   "outputs": [],
   "source": [
    "class sweepNet(nn.Module):\n",
    "  \n",
    "    def __init__(self, num_features, dropout):\n",
    "     \n",
    "        super(sweepNet, self).__init__()\n",
    "        \n",
    "        # self.do1 = nn.Dropout(0.8)\n",
    "        # self.fc1 = nn.Sequential(\n",
    "            \n",
    "        #     nn.Linear(num_features, 4,bias=True),\n",
    "        #     nn.ReLU(),nn.Dropout(p =dropout) \n",
    "        # )\n",
    "        # self.fc2 = nn.Sequential(\n",
    "        #     nn.Linear(4, 2,bias=True),\n",
    "        #     nn.ReLU(),nn.Dropout(p =dropout) \n",
    "        # )\n",
    "\n",
    "        self.fc1 = nn.Linear(num_features, 1024)\n",
    "        self.do1 = nn.Dropout(p =dropout)\n",
    "        self.fc2 = nn.Linear(1024, 1)\n",
    "        # self.do2 = nn.Dropout(p =dropout)\n",
    "        # # 마지막 출력층의 Neuron은 1개로 설정\n",
    "        \n",
    "        # self.output = nn.Linear(512, 1)\n",
    "        \n",
    "        self.relu = torch.nn.LeakyReLU()\n",
    "        self.bn1 = nn.BatchNorm1d(1024)\n",
    "        # self.bn2 = nn.BatchNorm1d(512)\n",
    "        # self.bn3 = nn.BatchNorm1d(32)\n",
    "\n",
    "\n",
    "\n",
    "    def forward(self, x):\n",
    "        \n",
    "        x = self.fc1(x)\n",
    "        x = self.bn1(x)\n",
    "        x = self.relu(x)\n",
    "        x = self.do1(x)\n",
    "\n",
    "        \n",
    "        x = self.fc2(x)\n",
    "        # x = self.bn2(x)\n",
    "        # x = self.relu(x)\n",
    "\n",
    "        # x = self.do2(x)\n",
    "\n",
    "\n",
    "        # x=  self.bn2(x)\n",
    "        # x = F.relu(self.fc3(x))\n",
    "        \n",
    "        # x = self.output(x)\n",
    "     \n",
    "\n",
    "        # x = self.do1(x)\n",
    "        # x1 = F.relu(self.fc1(x))\n",
    "        # x2 = self.do2(x1)\n",
    "        # x3 = F.relu(self.fc2(x2))\n",
    "        # x4 = self.do3(x3)\n",
    "        # x5 = self.output(x4)\n",
    "\n",
    "        return x\n"
   ]
  },
  {
   "cell_type": "markdown",
   "metadata": {
    "id": "Ft8BujqWZA36"
   },
   "source": [
    "## sweeptrain"
   ]
  },
  {
   "cell_type": "code",
   "execution_count": null,
   "metadata": {
    "id": "H138eIZpYpiV"
   },
   "outputs": [],
   "source": [
    "def sweeptrain(model, trainloader,criterion, optimizer, config, wandb):\n",
    "    # gradient, topology와 관련된 정보를 visualization 하기 위한 코드\n",
    "    \n",
    "   \n",
    "    \n",
    "    wandb.watch(model, criterion, log=\"all\", log_freq=10)\n",
    "    example_ct = 0 \n",
    "   \n",
    "  \n",
    "    for epoc in tqdm(range(config.epochs)):\n",
    "\n",
    "      cumu_loss = 0\n",
    "      model.train()\n",
    "      \n",
    "\n",
    "      for X, y in trainloader:\n",
    "\n",
    "            X, y = X.to(device), y.to(device)\n",
    "           \n",
    "            \n",
    "\n",
    "            optimizer.zero_grad()\n",
    "           \n",
    "\n",
    "            ## 1\n",
    "            yhat = model(X)\n",
    "            ## 2\n",
    "            y = y.reshape(-1,1)\n",
    "            loss = criterion(yhat,y)\n",
    "\n",
    "            cumu_loss += loss.item()\n",
    "            ## 3\n",
    "            loss.backward()\n",
    "            ## 4\n",
    "            optimizer.step()\n",
    "\n",
    "           \n",
    "\n",
    "            example_ct +=  loss.item()\n",
    "\n",
    "      avg_loss = cumu_loss / len(trainloader)\n",
    "\n",
    "\n",
    "\n",
    "\n",
    "   \n",
    "\n",
    "      #  visualization 하고 싶은 정보를 넘겨줄 수 있는 함수 \n",
    "      wandb.log({\"loss\": cumu_loss}, step=epoc)\n",
    "     \n",
    "      \n",
    "\n",
    "      print(f\"TRAIN: EPOCH {epoc + 1:04d} / | Epoch LOSS {avg_loss:.4f}]\")\n",
    "\n",
    "\n",
    "\n"
   ]
  },
  {
   "cell_type": "markdown",
   "metadata": {
    "id": "XXugDNIWoY-H"
   },
   "source": [
    "## sweeptest"
   ]
  },
  {
   "cell_type": "code",
   "execution_count": null,
   "metadata": {
    "id": "aPZhDZGIoD7q"
   },
   "outputs": [],
   "source": [
    "def sweeptest(model, test_loader,wandb):\n",
    "    \n",
    "    y =[]\n",
    "    hat=[]\n",
    "    r=[]\n",
    "    model.eval()\n",
    "    \n",
    "    with torch.no_grad():\n",
    "        correct, total = 0, 0\n",
    "        for x_test, y_test in test_loader:\n",
    "\n",
    "            x_test, y_test = x_test.to(device), y_test.to(device)\n",
    "           \n",
    "            y.append(y_test)\n",
    "\n",
    "            y_test_hat = model(x_test)\n",
    "\n",
    "            \n",
    "            y_shape = y_test.shape\n",
    "\n",
    "            y_test_hat= y_test_hat.reshape(y_shape)\n",
    "\n",
    "            hat.append(y_test_hat)\n",
    "\n",
    "            r_square = r2score(y_test_hat,y_test)\n",
    "            r.append(r_square)\n",
    "\n",
    "\n",
    "            # pred = outputs.max(1, keepdim = True)[1]                                       \n",
    "            # correct += pred.eq(y_test.view_as(pred)).sum().item() \n",
    "\n",
    "           \n",
    "        print(f\"Accuracy of the model on the {total} \" +\n",
    "              f\"test x_test: {r_square}\")\n",
    "        \n",
    "\n",
    "\n",
    "        # Make the plot\n",
    "        # y_test= y_test.detach().numpy()\n",
    "\n",
    "        # y_test_hat= y_test_hat.detach().numpy()\n",
    "\n",
    "        y_test, y_test_hat = y_test.to(device_cpu), y_test_hat.to(device_cpu)\n",
    "        fig, ax = plt.subplots()\n",
    "        x_len = range(len(y_test))\n",
    "        ax.plot(x_len, y_test, '*-')\n",
    "        ax.plot(x_len, y_test_hat, 'o--')\n",
    "\n",
    "        # Log the plot\n",
    "        wandb.log({\"plot\": fig})\n",
    "        fig\n",
    "        \n",
    "        # x_len = range(len(target))\n",
    "        # plt.figure(figsize=(20,8))\n",
    "        # plt.plot(x_len, target, 'o-')\n",
    "        # plt.plot(x_len, preds, 'o--')\n",
    "\n",
    "        # # Log the plot\n",
    "        # wandb.log({\"plot\": fig})\n",
    "        # wandb.finish()\n",
    "        # fig\n",
    "        \n",
    "\n",
    "        \n",
    "        wandb.log({\"test_accuracy\": r_square})\n",
    "\n",
    "    #Save the model in the exchangeable ONNX format\n",
    "    torch.onnx.export(model, x_test, \"model.onnx\")\n",
    "    wandb.save(\"model.onnx\")\n",
    "\n",
    "    return"
   ]
  },
  {
   "cell_type": "markdown",
   "metadata": {
    "id": "vkoFMHTtiz4T"
   },
   "source": [
    "## sweeprun"
   ]
  },
  {
   "cell_type": "code",
   "execution_count": null,
   "metadata": {
    "id": "dthJW6p8Yqym"
   },
   "outputs": [],
   "source": [
    "def sweeprun_ori(config = None):\n",
    " \n",
    "    torch.manual_seed(42)\n",
    "    \n",
    "\n",
    "    wandb.init(config= config)\n",
    "    w_config = wandb.config\n",
    "  \n",
    "\n",
    "    # wandb.config.update(config)\n",
    "    \n",
    "    data = pc2_4\n",
    "\n",
    "    train_loader,test_loader = sweepload_data(data,w_config.batch_size)\n",
    "\n",
    "    # test_loader = load_data_test(data,batch_size=config[\"test_batch\"])\n",
    "\n",
    "    model = sweepNet(NUM_FEATURES,w_config.dropout).to(device)\n",
    "\n",
    "    criterion = nn.MSELoss().to(device)\n",
    "    # optimizer = torch.optim.Adam(model.parameters(), lr=config[\"learning_rate\"])\n",
    "\n",
    "    optimizer= s_optimizer(model,w_config.optimizer, w_config.learning_rate)\n",
    "\n",
    "    sweeptrain(model, train_loader,criterion, optimizer, w_config, wandb)\n",
    "\n",
    "    sweeptest(model, test_loader,wandb)\n",
    "\n",
    "\n",
    "\n",
    "    return model"
   ]
  },
  {
   "cell_type": "markdown",
   "metadata": {},
   "source": [
    "# Run"
   ]
  },
  {
   "cell_type": "code",
   "execution_count": null,
   "metadata": {
    "colab": {
     "base_uri": "https://localhost:8080/"
    },
    "id": "ykOSDRKL6hbV",
    "outputId": "84303547-67f4-4c0d-9f1c-9837a2eec7b3"
   },
   "outputs": [
    {
     "name": "stdout",
     "output_type": "stream",
     "text": [
      "Create sweep with ID: sdcg841b\n",
      "Sweep URL: https://wandb.ai/expect/pc2_4_1024/sweeps/sdcg841b\n"
     ]
    }
   ],
   "source": [
    "sweep_id = wandb.sweep(sweep_config, project=\"pc2_4_1024\")"
   ]
  },
  {
   "cell_type": "code",
   "execution_count": null,
   "metadata": {
    "colab": {
     "base_uri": "https://localhost:8080/",
     "height": 1000,
     "referenced_widgets": [
      "cb3fd212483c43a398b9cb840e459650",
      "df62b619d7174b96bd9162de86b3b4ac",
      "4a1c7035f2da4179a62591c3a54436be",
      "8d179f2e8e2b417a84fcab679495a0c0",
      "792e4f9e0b594a7da47ecddeb403b0eb",
      "ab0e29f026de496bb0f4c5c4da06535b",
      "dfa0450522234308a394a1142e7ed962",
      "6e1fbca8980f4829a6bb7c0727a7b084",
      "2a3fafefbcbc49c2b115df77fb5b6c16",
      "dba51f41ba1f4d94a1f20186d021655f",
      "31aca99794ee492292671bd6a10f0500",
      "c8b1e0ed2272447e96379d6e96077558",
      "889b15cb3ba4400d976358ba511c0aa2",
      "0d33ec2e77cd4c63ada91f4f29e29337",
      "967ccdac08644280ae05624dbbc944d8",
      "1d8b876237fa491ba1ab3fe5561a6b77",
      "338ae840529246af9055514cf2684c56",
      "e7839fd5b9934f36bde0670fe5834809",
      "ca9c01f74fac4393b7caa4c913fab903",
      "97d3fbf6b10c48f2bd114cb64b30d5d0",
      "fed536c48419428395171baff5ecc373",
      "e49fe3024bbb44f584ccd8d6fb885e37",
      "2d74e3cc41fe49e29f3d7021cc5b9414",
      "1624b10761b249278c57e05c021e41ca",
      "d293b396b85646879da1ffad0d274b89",
      "5362040d909b4edd8b18d48b56033366",
      "34e0dd374254438691c8a8037edf0ede",
      "6be7f4af985e48e088beb76bb6c4b77a",
      "0e62b4e9934d4cb9a660faa8209c9648",
      "cedbdbdde38b4ff39870dba5c7154082",
      "a55cb669a3f34a17a9ed44eb9708332e",
      "03d10845b73b4b7da13d7642b40f911b",
      "9ac10fc51fdf455c87fc8a637ad12441",
      "0b817e0a5a8742f5b0ad3ae911302bf6",
      "f7490009056f4071b27d88e2286d0ccf",
      "3367c3b20c374eddbc3f8d3497f894f2",
      "1de61659bcbf409aaf3a58e57a68774b",
      "8a701793374043efa9aed7ae031f896c",
      "b5b33c8945b64a07b4455173c0732248",
      "9bc632853ae44d4ba975cd450f29c2e5",
      "f926e21b73714d9e8369edeede449558",
      "2141d910d9444f87a7b945c0c2073f0b",
      "438b55ad6d094eb0805d6c09f92cd489",
      "73878a34a5804733a20a2f7726e6cdda",
      "90f853266f6340748b3e0e738d36fce0",
      "c2688f47c53d4247a88fa6d5ba41d611",
      "d0c8d5b445724ea9a4ed67c74a15b957",
      "829d5d8d1f3645cf8b4b05322caf68b1",
      "20d9c5a2075e4a8e921511922aa0bec1",
      "8e3a5f28266c486494e0b3c7d357dc3e",
      "adb602c575b140749a6c824c4ef3196f",
      "aa3942b85e09425db76db06714b21d6e",
      "00ef0a09890d4c83b7e2c549899e9c1b",
      "b65d165d7b4e4206bfef2e657798465a",
      "a46adb43268a4076a442656f79f25b57",
      "66bec6c13162455e9d2fb09350aa0870",
      "7e0456b50e2f4fda83891acf31ac24dd",
      "4eb311c54b7a4e66ae78fbf5c36a33da",
      "d0b67ed4ff354fb391b49ed299ca4dd3",
      "7ccbe18907bf4411a43746b209484247",
      "a85946f0c4a948488b9c0d51caa20247",
      "500f93b0e8454198b8b7a7c1d52c7f4d",
      "1891961a95e94c4f9dd3120ffa7b8946",
      "ef9cf08439e2445399881428ac699ea5",
      "c7321143dd654fe995f060bab4e38bff",
      "708465bc2ead447cbeb1d5621992c452",
      "25c9f60a5c7a413088be40799250e6fa",
      "103803fb50644d43935f002c67e47afe",
      "81adaa50ba0b421cbd62d8c814aaa770",
      "fe18f70a98a2421f87c68b18c558398d",
      "5d83c197f5fd44e68056797ed68b92f0",
      "414535f2233c4d77963092d199417d65",
      "465a08dca37147d5ba39e7fc80f7dabc",
      "76795aeac53444f08b60ce85052691b7",
      "e1ed10f00ce44d6fa0fec8dd56073c26",
      "4543fe54ad3c4a51b654ed1027019f16",
      "4a29ca4568c14f40b8c50b997ee0b564",
      "cfe53f774c244d2fa6a3873cd943660a",
      "f9b9cb6d681c4d4f955e077bc445ea04",
      "f477b097580a485cada16851b421dd8f",
      "17ea0393fbad43b7b23e10ab2362632a",
      "f60c67b62e3b49ef8026e4b763cab737",
      "e5af81a81da1497bb168ab52132f5ae3",
      "771b5ee14bde45abb76ac2f2bb044251",
      "abffc72d14164f0982bcff2a8e4fd604",
      "80d175d7850b4322be341dff6ebe2567",
      "0ed4408ac0074625a6f88d4102934481",
      "01ec6b7eb33d4e00b55377b910f1c501",
      "77a8bc75430d4f12a1ef77b5c6ef016a",
      "2a3134add43e4d94af795207821996b5",
      "6e5ac65877e84536be22e131cae0348b",
      "c6056754fe7943029ea2bdc554b62431",
      "e525dfe0b8e54494baa61eeb269b5e80",
      "6435716847d746609dd279c1d0945291",
      "f98543aa252147759e4bad2de6f055ef"
     ]
    },
    "id": "RE8LQAIpYqp3",
    "outputId": "917e4a2e-63bd-487f-c44c-9008d5f43825"
   },
   "outputs": [
    {
     "name": "stderr",
     "output_type": "stream",
     "text": [
      "\u001b[34m\u001b[1mwandb\u001b[0m: Agent Starting Run: jt3m22q2 with config:\n",
      "\u001b[34m\u001b[1mwandb\u001b[0m: \tbatch_size: 480\n",
      "\u001b[34m\u001b[1mwandb\u001b[0m: \tdropout: 0.9\n",
      "\u001b[34m\u001b[1mwandb\u001b[0m: \tepochs: 30\n",
      "\u001b[34m\u001b[1mwandb\u001b[0m: \tlearning_rate: 0.02281550753492334\n",
      "\u001b[34m\u001b[1mwandb\u001b[0m: \toptimizer: adam\n"
     ]
    },
    {
     "data": {
      "text/html": [
       "Tracking run with wandb version 0.13.9"
      ],
      "text/plain": [
       "<IPython.core.display.HTML object>"
      ]
     },
     "metadata": {},
     "output_type": "display_data"
    },
    {
     "data": {
      "text/html": [
       "Run data is saved locally in <code>/content/wandb/run-20230130_080133-jt3m22q2</code>"
      ],
      "text/plain": [
       "<IPython.core.display.HTML object>"
      ]
     },
     "metadata": {},
     "output_type": "display_data"
    },
    {
     "data": {
      "text/html": [
       "Syncing run <strong><a href=\"https://wandb.ai/expect/pc2_4_1024/runs/jt3m22q2\" target=\"_blank\">resilient-sweep-1</a></strong> to <a href=\"https://wandb.ai/expect/pc2_4_1024\" target=\"_blank\">Weights & Biases</a> (<a href=\"https://wandb.me/run\" target=\"_blank\">docs</a>)<br/>Sweep page: <a href=\"https://wandb.ai/expect/pc2_4_1024/sweeps/sdcg841b\" target=\"_blank\">https://wandb.ai/expect/pc2_4_1024/sweeps/sdcg841b</a>"
      ],
      "text/plain": [
       "<IPython.core.display.HTML object>"
      ]
     },
     "metadata": {},
     "output_type": "display_data"
    },
    {
     "data": {
      "text/html": [
       " View project at <a href=\"https://wandb.ai/expect/pc2_4_1024\" target=\"_blank\">https://wandb.ai/expect/pc2_4_1024</a>"
      ],
      "text/plain": [
       "<IPython.core.display.HTML object>"
      ]
     },
     "metadata": {},
     "output_type": "display_data"
    },
    {
     "data": {
      "text/html": [
       " View sweep at <a href=\"https://wandb.ai/expect/pc2_4_1024/sweeps/sdcg841b\" target=\"_blank\">https://wandb.ai/expect/pc2_4_1024/sweeps/sdcg841b</a>"
      ],
      "text/plain": [
       "<IPython.core.display.HTML object>"
      ]
     },
     "metadata": {},
     "output_type": "display_data"
    },
    {
     "data": {
      "text/html": [
       " View run at <a href=\"https://wandb.ai/expect/pc2_4_1024/runs/jt3m22q2\" target=\"_blank\">https://wandb.ai/expect/pc2_4_1024/runs/jt3m22q2</a>"
      ],
      "text/plain": [
       "<IPython.core.display.HTML object>"
      ]
     },
     "metadata": {},
     "output_type": "display_data"
    },
    {
     "name": "stderr",
     "output_type": "stream",
     "text": [
      "<ipython-input-28-0cadbc44d34d>:6: FutureWarning:\n",
      "\n",
      "In a future version of pandas all arguments of DataFrame.drop except for the argument 'labels' will be keyword-only\n",
      "\n"
     ]
    },
    {
     "data": {
      "application/vnd.jupyter.widget-view+json": {
       "model_id": "cb3fd212483c43a398b9cb840e459650",
       "version_major": 2,
       "version_minor": 0
      },
      "text/plain": [
       "  0%|          | 0/30 [00:00<?, ?it/s]"
      ]
     },
     "metadata": {},
     "output_type": "display_data"
    },
    {
     "name": "stdout",
     "output_type": "stream",
     "text": [
      "TRAIN: EPOCH 0001 / | Epoch LOSS 40.5476]\n",
      "TRAIN: EPOCH 0002 / | Epoch LOSS 53.1307]\n",
      "TRAIN: EPOCH 0003 / | Epoch LOSS 50.0029]\n",
      "TRAIN: EPOCH 0004 / | Epoch LOSS 47.9306]\n",
      "TRAIN: EPOCH 0005 / | Epoch LOSS 81.6038]\n",
      "TRAIN: EPOCH 0006 / | Epoch LOSS 82.3333]\n",
      "TRAIN: EPOCH 0007 / | Epoch LOSS 60.2229]\n",
      "TRAIN: EPOCH 0008 / | Epoch LOSS 50.5253]\n",
      "TRAIN: EPOCH 0009 / | Epoch LOSS 50.0550]\n",
      "TRAIN: EPOCH 0010 / | Epoch LOSS 83.1995]\n",
      "TRAIN: EPOCH 0011 / | Epoch LOSS 79.6706]\n",
      "TRAIN: EPOCH 0012 / | Epoch LOSS 54.2018]\n",
      "TRAIN: EPOCH 0013 / | Epoch LOSS 86.5481]\n",
      "TRAIN: EPOCH 0014 / | Epoch LOSS 45.7032]\n",
      "TRAIN: EPOCH 0015 / | Epoch LOSS 75.7095]\n",
      "TRAIN: EPOCH 0016 / | Epoch LOSS 51.7150]\n",
      "TRAIN: EPOCH 0017 / | Epoch LOSS 25.7616]\n",
      "TRAIN: EPOCH 0018 / | Epoch LOSS 45.5729]\n",
      "TRAIN: EPOCH 0019 / | Epoch LOSS 35.5855]\n",
      "TRAIN: EPOCH 0020 / | Epoch LOSS 34.7180]\n",
      "TRAIN: EPOCH 0021 / | Epoch LOSS 22.4174]\n",
      "TRAIN: EPOCH 0022 / | Epoch LOSS 18.3754]\n",
      "TRAIN: EPOCH 0023 / | Epoch LOSS 43.2768]\n",
      "TRAIN: EPOCH 0024 / | Epoch LOSS 22.3048]\n",
      "TRAIN: EPOCH 0025 / | Epoch LOSS 48.1696]\n",
      "TRAIN: EPOCH 0026 / | Epoch LOSS 20.1097]\n",
      "TRAIN: EPOCH 0027 / | Epoch LOSS 22.1118]\n",
      "TRAIN: EPOCH 0028 / | Epoch LOSS 10.0034]\n",
      "TRAIN: EPOCH 0029 / | Epoch LOSS 19.7111]\n",
      "TRAIN: EPOCH 0030 / | Epoch LOSS 11.8454]\n",
      "Accuracy of the model on the 0 test x_test: -0.1605823040008545\n"
     ]
    },
    {
     "data": {
      "text/html": [
       "Waiting for W&B process to finish... <strong style=\"color:green\">(success).</strong>"
      ],
      "text/plain": [
       "<IPython.core.display.HTML object>"
      ]
     },
     "metadata": {},
     "output_type": "display_data"
    },
    {
     "data": {
      "application/vnd.jupyter.widget-view+json": {
       "model_id": "c8b1e0ed2272447e96379d6e96077558",
       "version_major": 2,
       "version_minor": 0
      },
      "text/plain": [
       "VBox(children=(Label(value='0.042 MB of 0.042 MB uploaded (0.000 MB deduped)\\r'), FloatProgress(value=1.0, max…"
      ]
     },
     "metadata": {},
     "output_type": "display_data"
    },
    {
     "data": {
      "text/html": [
       "<style>\n",
       "    table.wandb td:nth-child(1) { padding: 0 10px; text-align: left ; width: auto;} td:nth-child(2) {text-align: left ; width: 100%}\n",
       "    .wandb-row { display: flex; flex-direction: row; flex-wrap: wrap; justify-content: flex-start; width: 100% }\n",
       "    .wandb-col { display: flex; flex-direction: column; flex-basis: 100%; flex: 1; padding: 10px; }\n",
       "    </style>\n",
       "<div class=\"wandb-row\"><div class=\"wandb-col\"><h3>Run history:</h3><br/><table class=\"wandb\"><tr><td>loss</td><td>▄▅▅▄██▆▅▅█▇▅█▄▇▅▂▄▃▃▂▂▄▂▄▂▂▁▂▁</td></tr><tr><td>test_accuracy</td><td>▁</td></tr></table><br/></div><div class=\"wandb-col\"><h3>Run summary:</h3><br/><table class=\"wandb\"><tr><td>loss</td><td>106.60828</td></tr><tr><td>test_accuracy</td><td>-0.16058</td></tr></table><br/></div></div>"
      ],
      "text/plain": [
       "<IPython.core.display.HTML object>"
      ]
     },
     "metadata": {},
     "output_type": "display_data"
    },
    {
     "data": {
      "text/html": [
       " View run <strong style=\"color:#cdcd00\">resilient-sweep-1</strong> at: <a href=\"https://wandb.ai/expect/pc2_4_1024/runs/jt3m22q2\" target=\"_blank\">https://wandb.ai/expect/pc2_4_1024/runs/jt3m22q2</a><br/>Synced 5 W&B file(s), 1 media file(s), 0 artifact file(s) and 1 other file(s)"
      ],
      "text/plain": [
       "<IPython.core.display.HTML object>"
      ]
     },
     "metadata": {},
     "output_type": "display_data"
    },
    {
     "data": {
      "text/html": [
       "Find logs at: <code>./wandb/run-20230130_080133-jt3m22q2/logs</code>"
      ],
      "text/plain": [
       "<IPython.core.display.HTML object>"
      ]
     },
     "metadata": {},
     "output_type": "display_data"
    },
    {
     "name": "stderr",
     "output_type": "stream",
     "text": [
      "\u001b[34m\u001b[1mwandb\u001b[0m: Agent Starting Run: qpr8k0u9 with config:\n",
      "\u001b[34m\u001b[1mwandb\u001b[0m: \tbatch_size: 488\n",
      "\u001b[34m\u001b[1mwandb\u001b[0m: \tdropout: 0.2\n",
      "\u001b[34m\u001b[1mwandb\u001b[0m: \tepochs: 30\n",
      "\u001b[34m\u001b[1mwandb\u001b[0m: \tlearning_rate: 0.0734225846609957\n",
      "\u001b[34m\u001b[1mwandb\u001b[0m: \toptimizer: adam\n"
     ]
    },
    {
     "data": {
      "text/html": [
       "Tracking run with wandb version 0.13.9"
      ],
      "text/plain": [
       "<IPython.core.display.HTML object>"
      ]
     },
     "metadata": {},
     "output_type": "display_data"
    },
    {
     "data": {
      "text/html": [
       "Run data is saved locally in <code>/content/wandb/run-20230130_080159-qpr8k0u9</code>"
      ],
      "text/plain": [
       "<IPython.core.display.HTML object>"
      ]
     },
     "metadata": {},
     "output_type": "display_data"
    },
    {
     "data": {
      "text/html": [
       "Syncing run <strong><a href=\"https://wandb.ai/expect/pc2_4_1024/runs/qpr8k0u9\" target=\"_blank\">feasible-sweep-2</a></strong> to <a href=\"https://wandb.ai/expect/pc2_4_1024\" target=\"_blank\">Weights & Biases</a> (<a href=\"https://wandb.me/run\" target=\"_blank\">docs</a>)<br/>Sweep page: <a href=\"https://wandb.ai/expect/pc2_4_1024/sweeps/sdcg841b\" target=\"_blank\">https://wandb.ai/expect/pc2_4_1024/sweeps/sdcg841b</a>"
      ],
      "text/plain": [
       "<IPython.core.display.HTML object>"
      ]
     },
     "metadata": {},
     "output_type": "display_data"
    },
    {
     "data": {
      "text/html": [
       " View project at <a href=\"https://wandb.ai/expect/pc2_4_1024\" target=\"_blank\">https://wandb.ai/expect/pc2_4_1024</a>"
      ],
      "text/plain": [
       "<IPython.core.display.HTML object>"
      ]
     },
     "metadata": {},
     "output_type": "display_data"
    },
    {
     "data": {
      "text/html": [
       " View sweep at <a href=\"https://wandb.ai/expect/pc2_4_1024/sweeps/sdcg841b\" target=\"_blank\">https://wandb.ai/expect/pc2_4_1024/sweeps/sdcg841b</a>"
      ],
      "text/plain": [
       "<IPython.core.display.HTML object>"
      ]
     },
     "metadata": {},
     "output_type": "display_data"
    },
    {
     "data": {
      "text/html": [
       " View run at <a href=\"https://wandb.ai/expect/pc2_4_1024/runs/qpr8k0u9\" target=\"_blank\">https://wandb.ai/expect/pc2_4_1024/runs/qpr8k0u9</a>"
      ],
      "text/plain": [
       "<IPython.core.display.HTML object>"
      ]
     },
     "metadata": {},
     "output_type": "display_data"
    },
    {
     "name": "stderr",
     "output_type": "stream",
     "text": [
      "<ipython-input-28-0cadbc44d34d>:6: FutureWarning:\n",
      "\n",
      "In a future version of pandas all arguments of DataFrame.drop except for the argument 'labels' will be keyword-only\n",
      "\n"
     ]
    },
    {
     "data": {
      "application/vnd.jupyter.widget-view+json": {
       "model_id": "97d3fbf6b10c48f2bd114cb64b30d5d0",
       "version_major": 2,
       "version_minor": 0
      },
      "text/plain": [
       "  0%|          | 0/30 [00:00<?, ?it/s]"
      ]
     },
     "metadata": {},
     "output_type": "display_data"
    },
    {
     "name": "stdout",
     "output_type": "stream",
     "text": [
      "TRAIN: EPOCH 0001 / | Epoch LOSS 277.8817]\n",
      "TRAIN: EPOCH 0002 / | Epoch LOSS 20.5447]\n",
      "TRAIN: EPOCH 0003 / | Epoch LOSS 2.6473]\n",
      "TRAIN: EPOCH 0004 / | Epoch LOSS 1.9929]\n",
      "TRAIN: EPOCH 0005 / | Epoch LOSS 1.5551]\n",
      "TRAIN: EPOCH 0006 / | Epoch LOSS 0.9634]\n",
      "TRAIN: EPOCH 0007 / | Epoch LOSS 0.6853]\n",
      "TRAIN: EPOCH 0008 / | Epoch LOSS 0.6829]\n",
      "TRAIN: EPOCH 0009 / | Epoch LOSS 0.5730]\n",
      "TRAIN: EPOCH 0010 / | Epoch LOSS 0.5672]\n",
      "TRAIN: EPOCH 0011 / | Epoch LOSS 0.4918]\n",
      "TRAIN: EPOCH 0012 / | Epoch LOSS 0.5052]\n",
      "TRAIN: EPOCH 0013 / | Epoch LOSS 0.5191]\n",
      "TRAIN: EPOCH 0014 / | Epoch LOSS 0.4268]\n",
      "TRAIN: EPOCH 0015 / | Epoch LOSS 0.4405]\n",
      "TRAIN: EPOCH 0016 / | Epoch LOSS 0.5337]\n",
      "TRAIN: EPOCH 0017 / | Epoch LOSS 0.5256]\n",
      "TRAIN: EPOCH 0018 / | Epoch LOSS 0.4613]\n",
      "TRAIN: EPOCH 0019 / | Epoch LOSS 0.4426]\n",
      "TRAIN: EPOCH 0020 / | Epoch LOSS 0.3907]\n",
      "TRAIN: EPOCH 0021 / | Epoch LOSS 0.4111]\n",
      "TRAIN: EPOCH 0022 / | Epoch LOSS 0.3967]\n",
      "TRAIN: EPOCH 0023 / | Epoch LOSS 0.5645]\n",
      "TRAIN: EPOCH 0024 / | Epoch LOSS 0.5214]\n",
      "TRAIN: EPOCH 0025 / | Epoch LOSS 0.5568]\n",
      "TRAIN: EPOCH 0026 / | Epoch LOSS 0.4134]\n",
      "TRAIN: EPOCH 0027 / | Epoch LOSS 0.4779]\n",
      "TRAIN: EPOCH 0028 / | Epoch LOSS 0.5101]\n",
      "TRAIN: EPOCH 0029 / | Epoch LOSS 0.5008]\n",
      "TRAIN: EPOCH 0030 / | Epoch LOSS 0.6176]\n",
      "Accuracy of the model on the 0 test x_test: -0.06362128257751465\n"
     ]
    },
    {
     "data": {
      "text/html": [
       "Waiting for W&B process to finish... <strong style=\"color:green\">(success).</strong>"
      ],
      "text/plain": [
       "<IPython.core.display.HTML object>"
      ]
     },
     "metadata": {},
     "output_type": "display_data"
    },
    {
     "data": {
      "application/vnd.jupyter.widget-view+json": {
       "model_id": "a55cb669a3f34a17a9ed44eb9708332e",
       "version_major": 2,
       "version_minor": 0
      },
      "text/plain": [
       "VBox(children=(Label(value='0.065 MB of 0.065 MB uploaded (0.000 MB deduped)\\r'), FloatProgress(value=1.0, max…"
      ]
     },
     "metadata": {},
     "output_type": "display_data"
    },
    {
     "data": {
      "text/html": [
       "<style>\n",
       "    table.wandb td:nth-child(1) { padding: 0 10px; text-align: left ; width: auto;} td:nth-child(2) {text-align: left ; width: 100%}\n",
       "    .wandb-row { display: flex; flex-direction: row; flex-wrap: wrap; justify-content: flex-start; width: 100% }\n",
       "    .wandb-col { display: flex; flex-direction: column; flex-basis: 100%; flex: 1; padding: 10px; }\n",
       "    </style>\n",
       "<div class=\"wandb-row\"><div class=\"wandb-col\"><h3>Run history:</h3><br/><table class=\"wandb\"><tr><td>loss</td><td>█▂▁▁▁▁▁▁▁▁▁▁▁▁▁▁▁▁▁▁▁▁▁▁▁▁▁▁▁▁</td></tr><tr><td>test_accuracy</td><td>▁</td></tr></table><br/></div><div class=\"wandb-col\"><h3>Run summary:</h3><br/><table class=\"wandb\"><tr><td>loss</td><td>4.94069</td></tr><tr><td>test_accuracy</td><td>-0.06362</td></tr></table><br/></div></div>"
      ],
      "text/plain": [
       "<IPython.core.display.HTML object>"
      ]
     },
     "metadata": {},
     "output_type": "display_data"
    },
    {
     "data": {
      "text/html": [
       " View run <strong style=\"color:#cdcd00\">feasible-sweep-2</strong> at: <a href=\"https://wandb.ai/expect/pc2_4_1024/runs/qpr8k0u9\" target=\"_blank\">https://wandb.ai/expect/pc2_4_1024/runs/qpr8k0u9</a><br/>Synced 5 W&B file(s), 1 media file(s), 0 artifact file(s) and 1 other file(s)"
      ],
      "text/plain": [
       "<IPython.core.display.HTML object>"
      ]
     },
     "metadata": {},
     "output_type": "display_data"
    },
    {
     "data": {
      "text/html": [
       "Find logs at: <code>./wandb/run-20230130_080159-qpr8k0u9/logs</code>"
      ],
      "text/plain": [
       "<IPython.core.display.HTML object>"
      ]
     },
     "metadata": {},
     "output_type": "display_data"
    },
    {
     "name": "stderr",
     "output_type": "stream",
     "text": [
      "\u001b[34m\u001b[1mwandb\u001b[0m: Agent Starting Run: gxxnycdj with config:\n",
      "\u001b[34m\u001b[1mwandb\u001b[0m: \tbatch_size: 192\n",
      "\u001b[34m\u001b[1mwandb\u001b[0m: \tdropout: 0.5\n",
      "\u001b[34m\u001b[1mwandb\u001b[0m: \tepochs: 30\n",
      "\u001b[34m\u001b[1mwandb\u001b[0m: \tlearning_rate: 0.09025052349895776\n",
      "\u001b[34m\u001b[1mwandb\u001b[0m: \toptimizer: adam\n"
     ]
    },
    {
     "data": {
      "text/html": [
       "Tracking run with wandb version 0.13.9"
      ],
      "text/plain": [
       "<IPython.core.display.HTML object>"
      ]
     },
     "metadata": {},
     "output_type": "display_data"
    },
    {
     "data": {
      "text/html": [
       "Run data is saved locally in <code>/content/wandb/run-20230130_080226-gxxnycdj</code>"
      ],
      "text/plain": [
       "<IPython.core.display.HTML object>"
      ]
     },
     "metadata": {},
     "output_type": "display_data"
    },
    {
     "data": {
      "text/html": [
       "Syncing run <strong><a href=\"https://wandb.ai/expect/pc2_4_1024/runs/gxxnycdj\" target=\"_blank\">avid-sweep-3</a></strong> to <a href=\"https://wandb.ai/expect/pc2_4_1024\" target=\"_blank\">Weights & Biases</a> (<a href=\"https://wandb.me/run\" target=\"_blank\">docs</a>)<br/>Sweep page: <a href=\"https://wandb.ai/expect/pc2_4_1024/sweeps/sdcg841b\" target=\"_blank\">https://wandb.ai/expect/pc2_4_1024/sweeps/sdcg841b</a>"
      ],
      "text/plain": [
       "<IPython.core.display.HTML object>"
      ]
     },
     "metadata": {},
     "output_type": "display_data"
    },
    {
     "data": {
      "text/html": [
       " View project at <a href=\"https://wandb.ai/expect/pc2_4_1024\" target=\"_blank\">https://wandb.ai/expect/pc2_4_1024</a>"
      ],
      "text/plain": [
       "<IPython.core.display.HTML object>"
      ]
     },
     "metadata": {},
     "output_type": "display_data"
    },
    {
     "data": {
      "text/html": [
       " View sweep at <a href=\"https://wandb.ai/expect/pc2_4_1024/sweeps/sdcg841b\" target=\"_blank\">https://wandb.ai/expect/pc2_4_1024/sweeps/sdcg841b</a>"
      ],
      "text/plain": [
       "<IPython.core.display.HTML object>"
      ]
     },
     "metadata": {},
     "output_type": "display_data"
    },
    {
     "data": {
      "text/html": [
       " View run at <a href=\"https://wandb.ai/expect/pc2_4_1024/runs/gxxnycdj\" target=\"_blank\">https://wandb.ai/expect/pc2_4_1024/runs/gxxnycdj</a>"
      ],
      "text/plain": [
       "<IPython.core.display.HTML object>"
      ]
     },
     "metadata": {},
     "output_type": "display_data"
    },
    {
     "name": "stderr",
     "output_type": "stream",
     "text": [
      "<ipython-input-28-0cadbc44d34d>:6: FutureWarning:\n",
      "\n",
      "In a future version of pandas all arguments of DataFrame.drop except for the argument 'labels' will be keyword-only\n",
      "\n"
     ]
    },
    {
     "data": {
      "application/vnd.jupyter.widget-view+json": {
       "model_id": "b5b33c8945b64a07b4455173c0732248",
       "version_major": 2,
       "version_minor": 0
      },
      "text/plain": [
       "  0%|          | 0/30 [00:00<?, ?it/s]"
      ]
     },
     "metadata": {},
     "output_type": "display_data"
    },
    {
     "name": "stdout",
     "output_type": "stream",
     "text": [
      "TRAIN: EPOCH 0001 / | Epoch LOSS 188.8795]\n",
      "TRAIN: EPOCH 0002 / | Epoch LOSS 71.9876]\n",
      "TRAIN: EPOCH 0003 / | Epoch LOSS 59.2663]\n",
      "TRAIN: EPOCH 0004 / | Epoch LOSS 32.4169]\n",
      "TRAIN: EPOCH 0005 / | Epoch LOSS 23.2490]\n",
      "TRAIN: EPOCH 0006 / | Epoch LOSS 12.5772]\n",
      "TRAIN: EPOCH 0007 / | Epoch LOSS 9.8328]\n",
      "TRAIN: EPOCH 0008 / | Epoch LOSS 3.7520]\n",
      "TRAIN: EPOCH 0009 / | Epoch LOSS 1.9429]\n",
      "TRAIN: EPOCH 0010 / | Epoch LOSS 2.6853]\n",
      "TRAIN: EPOCH 0011 / | Epoch LOSS 1.5439]\n",
      "TRAIN: EPOCH 0012 / | Epoch LOSS 1.5263]\n",
      "TRAIN: EPOCH 0013 / | Epoch LOSS 1.3129]\n",
      "TRAIN: EPOCH 0014 / | Epoch LOSS 0.8917]\n",
      "TRAIN: EPOCH 0015 / | Epoch LOSS 0.9026]\n",
      "TRAIN: EPOCH 0016 / | Epoch LOSS 0.6451]\n",
      "TRAIN: EPOCH 0017 / | Epoch LOSS 0.8757]\n",
      "TRAIN: EPOCH 0018 / | Epoch LOSS 0.7469]\n",
      "TRAIN: EPOCH 0019 / | Epoch LOSS 0.6634]\n",
      "TRAIN: EPOCH 0020 / | Epoch LOSS 0.5833]\n",
      "TRAIN: EPOCH 0021 / | Epoch LOSS 0.5205]\n",
      "TRAIN: EPOCH 0022 / | Epoch LOSS 0.5486]\n",
      "TRAIN: EPOCH 0023 / | Epoch LOSS 0.5509]\n",
      "TRAIN: EPOCH 0024 / | Epoch LOSS 0.5800]\n",
      "TRAIN: EPOCH 0025 / | Epoch LOSS 0.7633]\n",
      "TRAIN: EPOCH 0026 / | Epoch LOSS 0.6266]\n",
      "TRAIN: EPOCH 0027 / | Epoch LOSS 0.4090]\n",
      "TRAIN: EPOCH 0028 / | Epoch LOSS 0.4123]\n",
      "TRAIN: EPOCH 0029 / | Epoch LOSS 0.3723]\n",
      "TRAIN: EPOCH 0030 / | Epoch LOSS 0.3967]\n",
      "Accuracy of the model on the 0 test x_test: 0.07174026966094971\n"
     ]
    },
    {
     "data": {
      "text/html": [
       "Waiting for W&B process to finish... <strong style=\"color:green\">(success).</strong>"
      ],
      "text/plain": [
       "<IPython.core.display.HTML object>"
      ]
     },
     "metadata": {},
     "output_type": "display_data"
    },
    {
     "data": {
      "application/vnd.jupyter.widget-view+json": {
       "model_id": "8e3a5f28266c486494e0b3c7d357dc3e",
       "version_major": 2,
       "version_minor": 0
      },
      "text/plain": [
       "VBox(children=(Label(value='0.042 MB of 0.050 MB uploaded (0.000 MB deduped)\\r'), FloatProgress(value=0.841505…"
      ]
     },
     "metadata": {},
     "output_type": "display_data"
    },
    {
     "data": {
      "text/html": [
       "<style>\n",
       "    table.wandb td:nth-child(1) { padding: 0 10px; text-align: left ; width: auto;} td:nth-child(2) {text-align: left ; width: 100%}\n",
       "    .wandb-row { display: flex; flex-direction: row; flex-wrap: wrap; justify-content: flex-start; width: 100% }\n",
       "    .wandb-col { display: flex; flex-direction: column; flex-basis: 100%; flex: 1; padding: 10px; }\n",
       "    </style>\n",
       "<div class=\"wandb-row\"><div class=\"wandb-col\"><h3>Run history:</h3><br/><table class=\"wandb\"><tr><td>loss</td><td>█▄▃▂▂▁▁▁▁▁▁▁▁▁▁▁▁▁▁▁▁▁▁▁▁▁▁▁▁▁</td></tr><tr><td>test_accuracy</td><td>▁</td></tr></table><br/></div><div class=\"wandb-col\"><h3>Run summary:</h3><br/><table class=\"wandb\"><tr><td>loss</td><td>8.33073</td></tr><tr><td>test_accuracy</td><td>0.07174</td></tr></table><br/></div></div>"
      ],
      "text/plain": [
       "<IPython.core.display.HTML object>"
      ]
     },
     "metadata": {},
     "output_type": "display_data"
    },
    {
     "data": {
      "text/html": [
       " View run <strong style=\"color:#cdcd00\">avid-sweep-3</strong> at: <a href=\"https://wandb.ai/expect/pc2_4_1024/runs/gxxnycdj\" target=\"_blank\">https://wandb.ai/expect/pc2_4_1024/runs/gxxnycdj</a><br/>Synced 5 W&B file(s), 1 media file(s), 0 artifact file(s) and 1 other file(s)"
      ],
      "text/plain": [
       "<IPython.core.display.HTML object>"
      ]
     },
     "metadata": {},
     "output_type": "display_data"
    },
    {
     "data": {
      "text/html": [
       "Find logs at: <code>./wandb/run-20230130_080226-gxxnycdj/logs</code>"
      ],
      "text/plain": [
       "<IPython.core.display.HTML object>"
      ]
     },
     "metadata": {},
     "output_type": "display_data"
    },
    {
     "name": "stderr",
     "output_type": "stream",
     "text": [
      "\u001b[34m\u001b[1mwandb\u001b[0m: Agent Starting Run: qa84e2hv with config:\n",
      "\u001b[34m\u001b[1mwandb\u001b[0m: \tbatch_size: 216\n",
      "\u001b[34m\u001b[1mwandb\u001b[0m: \tdropout: 0.2\n",
      "\u001b[34m\u001b[1mwandb\u001b[0m: \tepochs: 30\n",
      "\u001b[34m\u001b[1mwandb\u001b[0m: \tlearning_rate: 0.014900702763299457\n",
      "\u001b[34m\u001b[1mwandb\u001b[0m: \toptimizer: adam\n"
     ]
    },
    {
     "data": {
      "text/html": [
       "Tracking run with wandb version 0.13.9"
      ],
      "text/plain": [
       "<IPython.core.display.HTML object>"
      ]
     },
     "metadata": {},
     "output_type": "display_data"
    },
    {
     "data": {
      "text/html": [
       "Run data is saved locally in <code>/content/wandb/run-20230130_080254-qa84e2hv</code>"
      ],
      "text/plain": [
       "<IPython.core.display.HTML object>"
      ]
     },
     "metadata": {},
     "output_type": "display_data"
    },
    {
     "data": {
      "text/html": [
       "Syncing run <strong><a href=\"https://wandb.ai/expect/pc2_4_1024/runs/qa84e2hv\" target=\"_blank\">effortless-sweep-4</a></strong> to <a href=\"https://wandb.ai/expect/pc2_4_1024\" target=\"_blank\">Weights & Biases</a> (<a href=\"https://wandb.me/run\" target=\"_blank\">docs</a>)<br/>Sweep page: <a href=\"https://wandb.ai/expect/pc2_4_1024/sweeps/sdcg841b\" target=\"_blank\">https://wandb.ai/expect/pc2_4_1024/sweeps/sdcg841b</a>"
      ],
      "text/plain": [
       "<IPython.core.display.HTML object>"
      ]
     },
     "metadata": {},
     "output_type": "display_data"
    },
    {
     "data": {
      "text/html": [
       " View project at <a href=\"https://wandb.ai/expect/pc2_4_1024\" target=\"_blank\">https://wandb.ai/expect/pc2_4_1024</a>"
      ],
      "text/plain": [
       "<IPython.core.display.HTML object>"
      ]
     },
     "metadata": {},
     "output_type": "display_data"
    },
    {
     "data": {
      "text/html": [
       " View sweep at <a href=\"https://wandb.ai/expect/pc2_4_1024/sweeps/sdcg841b\" target=\"_blank\">https://wandb.ai/expect/pc2_4_1024/sweeps/sdcg841b</a>"
      ],
      "text/plain": [
       "<IPython.core.display.HTML object>"
      ]
     },
     "metadata": {},
     "output_type": "display_data"
    },
    {
     "data": {
      "text/html": [
       " View run at <a href=\"https://wandb.ai/expect/pc2_4_1024/runs/qa84e2hv\" target=\"_blank\">https://wandb.ai/expect/pc2_4_1024/runs/qa84e2hv</a>"
      ],
      "text/plain": [
       "<IPython.core.display.HTML object>"
      ]
     },
     "metadata": {},
     "output_type": "display_data"
    },
    {
     "name": "stderr",
     "output_type": "stream",
     "text": [
      "<ipython-input-28-0cadbc44d34d>:6: FutureWarning:\n",
      "\n",
      "In a future version of pandas all arguments of DataFrame.drop except for the argument 'labels' will be keyword-only\n",
      "\n"
     ]
    },
    {
     "data": {
      "application/vnd.jupyter.widget-view+json": {
       "model_id": "4eb311c54b7a4e66ae78fbf5c36a33da",
       "version_major": 2,
       "version_minor": 0
      },
      "text/plain": [
       "  0%|          | 0/30 [00:00<?, ?it/s]"
      ]
     },
     "metadata": {},
     "output_type": "display_data"
    },
    {
     "data": {
      "text/html": [
       "Waiting for W&B process to finish... <strong style=\"color:red\">(failed 1).</strong> Press Control-C to abort syncing."
      ],
      "text/plain": [
       "<IPython.core.display.HTML object>"
      ]
     },
     "metadata": {},
     "output_type": "display_data"
    },
    {
     "data": {
      "text/html": [
       " View run <strong style=\"color:#cdcd00\">effortless-sweep-4</strong> at: <a href=\"https://wandb.ai/expect/pc2_4_1024/runs/qa84e2hv\" target=\"_blank\">https://wandb.ai/expect/pc2_4_1024/runs/qa84e2hv</a><br/>Synced 5 W&B file(s), 0 media file(s), 0 artifact file(s) and 0 other file(s)"
      ],
      "text/plain": [
       "<IPython.core.display.HTML object>"
      ]
     },
     "metadata": {},
     "output_type": "display_data"
    },
    {
     "data": {
      "text/html": [
       "Find logs at: <code>./wandb/run-20230130_080254-qa84e2hv/logs</code>"
      ],
      "text/plain": [
       "<IPython.core.display.HTML object>"
      ]
     },
     "metadata": {},
     "output_type": "display_data"
    },
    {
     "name": "stderr",
     "output_type": "stream",
     "text": [
      "Run qa84e2hv errored: ValueError('Expected more than 1 value per channel when training, got input size torch.Size([1, 1024])')\n",
      "\u001b[34m\u001b[1mwandb\u001b[0m: \u001b[32m\u001b[41mERROR\u001b[0m Run qa84e2hv errored: ValueError('Expected more than 1 value per channel when training, got input size torch.Size([1, 1024])')\n",
      "\u001b[34m\u001b[1mwandb\u001b[0m: Agent Starting Run: 11yultfa with config:\n",
      "\u001b[34m\u001b[1mwandb\u001b[0m: \tbatch_size: 240\n",
      "\u001b[34m\u001b[1mwandb\u001b[0m: \tdropout: 0.5\n",
      "\u001b[34m\u001b[1mwandb\u001b[0m: \tepochs: 30\n",
      "\u001b[34m\u001b[1mwandb\u001b[0m: \tlearning_rate: 0.09908360774157966\n",
      "\u001b[34m\u001b[1mwandb\u001b[0m: \toptimizer: adam\n"
     ]
    },
    {
     "data": {
      "application/vnd.jupyter.widget-view+json": {
       "model_id": "81adaa50ba0b421cbd62d8c814aaa770",
       "version_major": 2,
       "version_minor": 0
      },
      "text/plain": [
       "VBox(children=(Label(value='Waiting for wandb.init()...\\r'), FloatProgress(value=0.016668747633336048, max=1.0…"
      ]
     },
     "metadata": {},
     "output_type": "display_data"
    },
    {
     "data": {
      "text/html": [
       "Tracking run with wandb version 0.13.9"
      ],
      "text/plain": [
       "<IPython.core.display.HTML object>"
      ]
     },
     "metadata": {},
     "output_type": "display_data"
    },
    {
     "data": {
      "text/html": [
       "Run data is saved locally in <code>/content/wandb/run-20230130_080314-11yultfa</code>"
      ],
      "text/plain": [
       "<IPython.core.display.HTML object>"
      ]
     },
     "metadata": {},
     "output_type": "display_data"
    },
    {
     "data": {
      "text/html": [
       "Syncing run <strong><a href=\"https://wandb.ai/expect/pc2_4_1024/runs/11yultfa\" target=\"_blank\">stellar-sweep-5</a></strong> to <a href=\"https://wandb.ai/expect/pc2_4_1024\" target=\"_blank\">Weights & Biases</a> (<a href=\"https://wandb.me/run\" target=\"_blank\">docs</a>)<br/>Sweep page: <a href=\"https://wandb.ai/expect/pc2_4_1024/sweeps/sdcg841b\" target=\"_blank\">https://wandb.ai/expect/pc2_4_1024/sweeps/sdcg841b</a>"
      ],
      "text/plain": [
       "<IPython.core.display.HTML object>"
      ]
     },
     "metadata": {},
     "output_type": "display_data"
    },
    {
     "data": {
      "text/html": [
       " View project at <a href=\"https://wandb.ai/expect/pc2_4_1024\" target=\"_blank\">https://wandb.ai/expect/pc2_4_1024</a>"
      ],
      "text/plain": [
       "<IPython.core.display.HTML object>"
      ]
     },
     "metadata": {},
     "output_type": "display_data"
    },
    {
     "data": {
      "text/html": [
       " View sweep at <a href=\"https://wandb.ai/expect/pc2_4_1024/sweeps/sdcg841b\" target=\"_blank\">https://wandb.ai/expect/pc2_4_1024/sweeps/sdcg841b</a>"
      ],
      "text/plain": [
       "<IPython.core.display.HTML object>"
      ]
     },
     "metadata": {},
     "output_type": "display_data"
    },
    {
     "data": {
      "text/html": [
       " View run at <a href=\"https://wandb.ai/expect/pc2_4_1024/runs/11yultfa\" target=\"_blank\">https://wandb.ai/expect/pc2_4_1024/runs/11yultfa</a>"
      ],
      "text/plain": [
       "<IPython.core.display.HTML object>"
      ]
     },
     "metadata": {},
     "output_type": "display_data"
    },
    {
     "data": {
      "application/vnd.jupyter.widget-view+json": {
       "model_id": "4a29ca4568c14f40b8c50b997ee0b564",
       "version_major": 2,
       "version_minor": 0
      },
      "text/plain": [
       "  0%|          | 0/30 [00:00<?, ?it/s]"
      ]
     },
     "metadata": {},
     "output_type": "display_data"
    },
    {
     "name": "stdout",
     "output_type": "stream",
     "text": [
      "TRAIN: EPOCH 0001 / | Epoch LOSS 268.2955]\n",
      "TRAIN: EPOCH 0002 / | Epoch LOSS 126.2296]\n",
      "TRAIN: EPOCH 0003 / | Epoch LOSS 40.0156]\n",
      "TRAIN: EPOCH 0004 / | Epoch LOSS 38.4840]\n",
      "TRAIN: EPOCH 0005 / | Epoch LOSS 19.2086]\n",
      "TRAIN: EPOCH 0006 / | Epoch LOSS 17.6734]\n",
      "TRAIN: EPOCH 0007 / | Epoch LOSS 8.9388]\n",
      "TRAIN: EPOCH 0008 / | Epoch LOSS 17.5146]\n",
      "TRAIN: EPOCH 0009 / | Epoch LOSS 5.3211]\n",
      "TRAIN: EPOCH 0010 / | Epoch LOSS 9.7729]\n",
      "TRAIN: EPOCH 0011 / | Epoch LOSS 2.3313]\n",
      "TRAIN: EPOCH 0012 / | Epoch LOSS 1.8491]\n",
      "TRAIN: EPOCH 0013 / | Epoch LOSS 1.5291]\n",
      "TRAIN: EPOCH 0014 / | Epoch LOSS 1.5121]\n",
      "TRAIN: EPOCH 0015 / | Epoch LOSS 1.1042]\n",
      "TRAIN: EPOCH 0016 / | Epoch LOSS 0.9057]\n",
      "TRAIN: EPOCH 0017 / | Epoch LOSS 0.9769]\n",
      "TRAIN: EPOCH 0018 / | Epoch LOSS 0.8034]\n",
      "TRAIN: EPOCH 0019 / | Epoch LOSS 0.6121]\n",
      "TRAIN: EPOCH 0020 / | Epoch LOSS 0.6274]\n",
      "TRAIN: EPOCH 0021 / | Epoch LOSS 0.5398]\n",
      "TRAIN: EPOCH 0022 / | Epoch LOSS 0.4819]\n",
      "TRAIN: EPOCH 0023 / | Epoch LOSS 0.5234]\n",
      "TRAIN: EPOCH 0024 / | Epoch LOSS 0.5084]\n",
      "TRAIN: EPOCH 0025 / | Epoch LOSS 0.4824]\n",
      "TRAIN: EPOCH 0026 / | Epoch LOSS 0.4988]\n",
      "TRAIN: EPOCH 0027 / | Epoch LOSS 0.4802]\n",
      "TRAIN: EPOCH 0028 / | Epoch LOSS 0.4599]\n",
      "TRAIN: EPOCH 0029 / | Epoch LOSS 0.4040]\n",
      "TRAIN: EPOCH 0030 / | Epoch LOSS 0.4136]\n",
      "Accuracy of the model on the 0 test x_test: 0.03134435415267944\n"
     ]
    },
    {
     "data": {
      "text/html": [
       "Waiting for W&B process to finish... <strong style=\"color:green\">(success).</strong>"
      ],
      "text/plain": [
       "<IPython.core.display.HTML object>"
      ]
     },
     "metadata": {},
     "output_type": "display_data"
    },
    {
     "data": {
      "application/vnd.jupyter.widget-view+json": {
       "model_id": "01ec6b7eb33d4e00b55377b910f1c501",
       "version_major": 2,
       "version_minor": 0
      },
      "text/plain": [
       "VBox(children=(Label(value='0.042 MB of 0.072 MB uploaded (0.000 MB deduped)\\r'), FloatProgress(value=0.583572…"
      ]
     },
     "metadata": {},
     "output_type": "display_data"
    },
    {
     "data": {
      "text/html": [
       "<style>\n",
       "    table.wandb td:nth-child(1) { padding: 0 10px; text-align: left ; width: auto;} td:nth-child(2) {text-align: left ; width: 100%}\n",
       "    .wandb-row { display: flex; flex-direction: row; flex-wrap: wrap; justify-content: flex-start; width: 100% }\n",
       "    .wandb-col { display: flex; flex-direction: column; flex-basis: 100%; flex: 1; padding: 10px; }\n",
       "    </style>\n",
       "<div class=\"wandb-row\"><div class=\"wandb-col\"><h3>Run history:</h3><br/><table class=\"wandb\"><tr><td>loss</td><td>█▄▂▂▁▁▁▁▁▁▁▁▁▁▁▁▁▁▁▁▁▁▁▁▁▁▁▁▁▁</td></tr><tr><td>test_accuracy</td><td>▁</td></tr></table><br/></div><div class=\"wandb-col\"><h3>Run summary:</h3><br/><table class=\"wandb\"><tr><td>loss</td><td>7.03112</td></tr><tr><td>test_accuracy</td><td>0.03134</td></tr></table><br/></div></div>"
      ],
      "text/plain": [
       "<IPython.core.display.HTML object>"
      ]
     },
     "metadata": {},
     "output_type": "display_data"
    },
    {
     "data": {
      "text/html": [
       " View run <strong style=\"color:#cdcd00\">stellar-sweep-5</strong> at: <a href=\"https://wandb.ai/expect/pc2_4_1024/runs/11yultfa\" target=\"_blank\">https://wandb.ai/expect/pc2_4_1024/runs/11yultfa</a><br/>Synced 5 W&B file(s), 1 media file(s), 0 artifact file(s) and 1 other file(s)"
      ],
      "text/plain": [
       "<IPython.core.display.HTML object>"
      ]
     },
     "metadata": {},
     "output_type": "display_data"
    },
    {
     "data": {
      "text/html": [
       "Find logs at: <code>./wandb/run-20230130_080314-11yultfa/logs</code>"
      ],
      "text/plain": [
       "<IPython.core.display.HTML object>"
      ]
     },
     "metadata": {},
     "output_type": "display_data"
    },
    {
     "name": "stderr",
     "output_type": "stream",
     "text": [
      "\u001b[34m\u001b[1mwandb\u001b[0m: Agent Starting Run: 9plhnko2 with config:\n",
      "\u001b[34m\u001b[1mwandb\u001b[0m: \tbatch_size: 128\n",
      "\u001b[34m\u001b[1mwandb\u001b[0m: \tdropout: 0.6\n",
      "\u001b[34m\u001b[1mwandb\u001b[0m: \tepochs: 30\n",
      "\u001b[34m\u001b[1mwandb\u001b[0m: \tlearning_rate: 0.08771021174553996\n",
      "\u001b[34m\u001b[1mwandb\u001b[0m: \toptimizer: adam\n",
      "\u001b[34m\u001b[1mwandb\u001b[0m: Ctrl + C detected. Stopping sweep.\n"
     ]
    }
   ],
   "source": [
    "wandb.agent(sweep_id, sweeprun_ori, count=100)"
   ]
  }
 ],
 "metadata": {
  "accelerator": "GPU",
  "colab": {
   "provenance": [],
   "toc_visible": true
  },
  "gpuClass": "standard",
  "kernelspec": {
   "display_name": "Python 3 (ipykernel)",
   "language": "python",
   "name": "python3"
  },
  "language_info": {
   "codemirror_mode": {
    "name": "ipython",
    "version": 3
   },
   "file_extension": ".py",
   "mimetype": "text/x-python",
   "name": "python",
   "nbconvert_exporter": "python",
   "pygments_lexer": "ipython3",
   "version": "3.9.12"
  }
 },
 "nbformat": 4,
 "nbformat_minor": 4
}
