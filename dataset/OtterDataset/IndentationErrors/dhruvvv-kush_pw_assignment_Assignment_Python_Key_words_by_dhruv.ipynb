{
  "nbformat": 4,
  "nbformat_minor": 0,
  "metadata": {
    "colab": {
      "provenance": [],
      "authorship_tag": "ABX9TyN9eOPCLs9aP0J2ciCS7gl7",
      "include_colab_link": true
    },
    "kernelspec": {
      "name": "python3",
      "display_name": "Python 3"
    },
    "language_info": {
      "name": "python"
    }
  },
  "cells": [
    {
      "cell_type": "markdown",
      "metadata": {
        "id": "view-in-github",
        "colab_type": "text"
      },
      "source": [
        "<a href=\"https://colab.research.google.com/github/dhruvvv-kush/pw_assignment/blob/main/Assignment_Python_Key_words_by_dhruv.ipynb\" target=\"_parent\"><img src=\"https://colab.research.google.com/assets/colab-badge.svg\" alt=\"Open In Colab\"/></a>"
      ]
    },
    {
      "cell_type": "markdown",
      "source": [
        "NAME-Dhruv Kushwaha\n",
        "\n",
        "REGEMAIL- dhruvkushwaha90@gmail.com\n",
        "\n",
        "COURSENAME-DATA SCIENCE WITH GENERATIVE AI\n",
        "\n",
        "ASSIGNMENT NAME- python operators\n",
        "\n",
        "SUBMISSION DATE-30 NOV 2024\n",
        "\n",
        "GIT LINK- https://github.com/dhruvvv-kush/pw_assignment/blob/main/pw_assignment1.ipynb"
      ],
      "metadata": {
        "id": "xPjOt0AnaI-o"
      }
    },
    {
      "cell_type": "markdown",
      "source": [
        "# Explain the significance of Python keywords and provide examples of five keywords.\n"
      ],
      "metadata": {
        "id": "u7BLN2p9W9H8"
      }
    },
    {
      "cell_type": "markdown",
      "source": [
        " keywords are reserved words that have predefined meanings and functionalities. They cannot be used as identifiers (like variable names or function names). Keywords are fundamental building blocks of the language and play a crucial role in defining the syntax and structure of Python code. Understanding keywords is essential for writing correct and meaningful Python programs."
      ],
      "metadata": {
        "id": "et0E2VHXSpl-"
      }
    },
    {
      "cell_type": "code",
      "source": [
        "\"\"\"\n",
        "1  if: Used for conditional execution. It allows you to execute a block of code only if a certain condition is true.\n",
        "x = 10\n",
        "   if x > 5:\n",
        "       print(\"x is greater than 5\")\n",
        "\n",
        "2  for: Used for iterating over a sequence (like a list, tuple, or string). It allows you to execute a block of code repeatedly for each item in the sequence.\n",
        "fruits = [\"apple\", \"banana\", \"orange\"]\n",
        "   for fruit in fruits:\n",
        "       print(fruit)\n",
        "\n",
        "3   while: Used for creating loops that continue as long as a certain condition is true.\n",
        " count = 0\n",
        "   while count < 5:\n",
        "       print(count)\n",
        "       count += 1\n",
        "4   def: Used to define a function. Functions are blocks of reusable code that perform specific tasks.\n",
        "def greet(name):\n",
        "       print(\"Hello, \" + name + \"!\")\n",
        "\n",
        "   greet(\"Alice\")\n",
        "\n",
        "5   return: Used inside a function to return a value. It allows the function to pass data back to the caller.\n",
        "\n",
        "def add(x, y):\n",
        "       return x + y\n",
        "\n",
        "   result = add(3, 5)\n",
        "   print(result)  \"\"\""
      ],
      "metadata": {
        "id": "QEEcBWpkTIRk"
      },
      "execution_count": null,
      "outputs": []
    },
    {
      "cell_type": "markdown",
      "source": [
        "# Describe the rules for defining identifiers in Python and provide an example."
      ],
      "metadata": {
        "id": "RkaGbUmDXX1Z"
      }
    },
    {
      "cell_type": "markdown",
      "source": [
        " identifiers are names used to identify variables, functions, classes, modules, or other objects. Here are the rules for defining them:\n",
        "\n",
        "Rules for Defining Identifiers in Python:\n",
        "\n",
        "Start with a letter (a-z, A-Z) or an underscore (_).\n",
        "\n",
        "Followed by zero or more letters, underscores, and digits (0-9).\n",
        "\n",
        "Case-sensitive (e.g., myVariable and myvariable are different).\n",
        "\n",
        "Cannot be a reserved keyword (e.g., if, for, while, def, etc.).\n",
        "\n",
        "Example of a Valid Identifier:\n",
        "\n",
        "\n",
        "my_variable = 10\n",
        "\n",
        "In this example, my_variable is a valid identifier because it starts with a letter, followed by an underscore and letters, and it is not a reserved keyword.\n",
        "\n",
        "Example of an Invalid Identifier:\n",
        "\n",
        "\n",
        "123variable = 42  "
      ],
      "metadata": {
        "id": "jh3Bn25KVlix"
      }
    },
    {
      "cell_type": "code",
      "source": [
        "#What are comments in Python, and why are they useful? Provide an example."
      ],
      "metadata": {
        "id": "LPJpek5SWTH8"
      },
      "execution_count": null,
      "outputs": []
    },
    {
      "cell_type": "markdown",
      "source": [
        " comments are lines of code that are ignored by the interpreter. They are used to explain what the code does and make it more readable for humans.\n",
        "\n",
        " Improved readability: Comments make your code easier to understand by providing context and explanations.\n",
        "\n",
        "\n",
        "Collaboration: They help other developers understand your code when working on collaborative projects.\n",
        "\n",
        "\n",
        "Debugging and maintenance: Comments can be helpful for debugging or modifying code later on.\n",
        "\n",
        "\n",
        "Single-line comments: Start a line with the # symbol to create a single-line comment. Everything after the # on that line will be ignored.\n",
        "Multi-line comments: Enclose your comment within triple quotes (\"\"\"Comment here\"\"\") to create a multi-line comment.\n",
        "\n",
        "Example:"
      ],
      "metadata": {
        "id": "MTBohwpQWUzh"
      }
    },
    {
      "cell_type": "code",
      "source": [
        "# This is a single-line comment explaining the purpose of the variable.\n",
        "name = \"Alice\"\n",
        "\n",
        "\"\"\"\n",
        "This is a multi-line comment\n",
        "that can span multiple lines.\n",
        "It's useful for explaining complex logic.\n",
        "\"\"\"\n",
        "print(name)"
      ],
      "metadata": {
        "id": "h7OllQF9WuBh"
      },
      "execution_count": null,
      "outputs": []
    },
    {
      "cell_type": "markdown",
      "source": [
        "# Why is proper indentation important in Python?"
      ],
      "metadata": {
        "id": "Ab9s0UadXmW4"
      }
    },
    {
      "cell_type": "markdown",
      "source": [
        "In Python, indentation is used to define blocks of code. This is unlike many other programming languages that use curly braces {} for this purpose.\n",
        "\n",
        "Code Structure and Readability: Indentation visually separates blocks of code, making it easier to understand the structure and flow of your program. This improves readability for both you and others who may read your code.\n",
        "\n",
        "Defining Scope: Indentation defines the scope of code blocks, such as loops, conditional statements, and functions. Code within the same indentation level belongs to the same block.\n",
        "\n",
        "Preventing Errors: Incorrect indentation can lead to syntax errors, preventing your code from running. Python relies on indentation to interpret the structure of your program.\n",
        "\n"
      ],
      "metadata": {
        "id": "Tflwlt-qXxCK"
      }
    },
    {
      "cell_type": "markdown",
      "source": [
        "# What happens if indentation is incorrect in Python?"
      ],
      "metadata": {
        "id": "tHYIj01BX5Nx"
      }
    },
    {
      "cell_type": "markdown",
      "source": [
        "incorrect indentation leads to an IndentationError. This means your code won't run until you fix the indentation.\n",
        "\n",
        "Here's a breakdown:\n",
        "\n",
        "IndentationError: expected an indented block\n",
        "\n",
        "This error usually occurs when you have a statement like if, for, while, def, etc., that is expected to be followed by an indented block of code, but there's no indentation.\n",
        "\n",
        "IndentationError: unexpected indent\n",
        "\n",
        "This error happens when there's unexpected indentation, meaning there's indentation where it's not expected or required.\n",
        "\n",
        "IndentationError: unindent does not match any outer indentation level\n",
        "\n",
        "This error is a bit trickier. It occurs when the unindentation (reducing the indentation level) doesn't align with any previous indentation levels. This often means you've mixed spaces and tabs or have an inconsistent indentation level."
      ],
      "metadata": {
        "id": "8QEpg-OXYPxn"
      }
    },
    {
      "cell_type": "markdown",
      "source": [
        "Code won't execute: The IndentationError prevents your code from running.\n",
        "Logic errors: Even if the error isn't immediately apparent, incorrect indentation can lead to unexpected program behavior and logic errors, which can be difficult to debug."
      ],
      "metadata": {
        "id": "Hx_RKwGGYyVk"
      }
    },
    {
      "cell_type": "markdown",
      "source": [
        "# Differentiate between expression and statement in Python with examples."
      ],
      "metadata": {
        "id": "t-srqD0gY7VH"
      }
    },
    {
      "cell_type": "markdown",
      "source": [
        "Expression:\n",
        "\n",
        "Definition: An expression is a piece of code that evaluates to a value. It can be as simple as a single variable or a complex combination of operators, variables, and function calls.\n",
        "Key Characteristic: Expressions produce a value that can be used in other parts of your code.\n",
        "\n",
        "Examples:\n",
        "\n",
        "5 + 2 (evaluates to 7)\n",
        "\n",
        "x * y (evaluates to the product of x and y)\n",
        "\n",
        "len(\"hello\") (evaluates to 5)\n",
        "\n",
        "my_function(10) (evaluates to the result of calling my_function with the argument 10)\n",
        "\n",
        "Statement:\n",
        "\n",
        "Definition: A statement is an instruction that performs an action. It might not necessarily produce a value.\n",
        "Key Characteristic: Statements are executed to achieve a specific effect, like assigning a value, controlling program flow, or defining functions.\n",
        "Examples:\n",
        "\n",
        "x = 10 (assignment statement)\n",
        "\n",
        "if x > 5: print(\"x is greater than 5\") (conditional statement)\n",
        "\n",
        "for i in range(10): print(i) (loop statement)\n",
        "\n",
        "def my_function(x): return x * 2 (function definition statement)\n",
        "\n",
        "Examples from your notebook:\n",
        "\n",
        "Expression: x > 5 in the if statement is an expression that evaluates to True or False.\n",
        "Statement: print(\"x is greater than 5\") is a statement that prints a message to the console."
      ],
      "metadata": {
        "id": "mX1DNUSgY96f"
      }
    }
  ]
}