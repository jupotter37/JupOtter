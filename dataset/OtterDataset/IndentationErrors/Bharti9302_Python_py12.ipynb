{
 "cells": [
  {
   "cell_type": "markdown",
   "metadata": {},
   "source": [
    "# Python Exception\n",
    "An exception can be defined as an unusual condition in a program resulting in the interruption in the flow of the program.\n",
    "\n",
    "Whenever an exception occurs, the program stops the execution, and thus the further code is not executed. Therefore, an exception is the run-time errors that are unable to handle to Python script. An exception is a Python object that represents an error\n",
    "\n",
    "Python provides a way to handle the exception so that the code can be executed without any interruption. If we do not handle the exception, the interpreter doesn't execute all the code that exists after the exception.\n",
    "\n",
    "Python has many built-in exceptions that enable our program to run without interruption and give the output. These exceptions are given below:\n",
    "\n",
    "## Common Exceptions\n",
    "Python provides the number of built-in exceptions, but here we are describing the common standard exceptions. A list of common exceptions that can be thrown from a standard Python program is given below.\n",
    "\n",
    "- ZeroDivisionError: Occurs when a number is divided by zero.\n",
    "\n",
    "- NameError: It occurs when a name is not found. It may be local or global.\n",
    "\n",
    "- IndentationError: If incorrect indentation is given.\n",
    "\n",
    "- IOError: It occurs when Input Output operation fails.\n",
    "\n",
    "- EOFError: It occurs when the end of the file is reached, and yet operations are being performed.\n",
    "\n",
    "## The problem without handling exceptions\n",
    "As we have already discussed, the exception is an abnormal condition that halts the execution of the program.\n",
    "\n",
    "Suppose we have two variables a and b, which take the input from the user and perform the division of these values. What if the user entered the zero as the denominator? It will interrupt the program execution and through a ZeroDivision exception. Let's see the following example.\n",
    "\n",
    "Example"
   ]
  },
  {
   "cell_type": "code",
   "execution_count": 2,
   "metadata": {},
   "outputs": [
    {
     "name": "stdout",
     "output_type": "stream",
     "text": [
      "Enter a:1\n",
      "Enter b:0\n"
     ]
    },
    {
     "ename": "ZeroDivisionError",
     "evalue": "division by zero",
     "output_type": "error",
     "traceback": [
      "\u001b[1;31m---------------------------------------------------------------------------\u001b[0m",
      "\u001b[1;31mZeroDivisionError\u001b[0m                         Traceback (most recent call last)",
      "\u001b[1;32m<ipython-input-2-a104c1c193bd>\u001b[0m in \u001b[0;36m<module>\u001b[1;34m\u001b[0m\n\u001b[0;32m      1\u001b[0m \u001b[0ma\u001b[0m \u001b[1;33m=\u001b[0m \u001b[0mint\u001b[0m\u001b[1;33m(\u001b[0m\u001b[0minput\u001b[0m\u001b[1;33m(\u001b[0m\u001b[1;34m\"Enter a:\"\u001b[0m\u001b[1;33m)\u001b[0m\u001b[1;33m)\u001b[0m\u001b[1;33m\u001b[0m\u001b[1;33m\u001b[0m\u001b[0m\n\u001b[0;32m      2\u001b[0m \u001b[0mb\u001b[0m \u001b[1;33m=\u001b[0m \u001b[0mint\u001b[0m\u001b[1;33m(\u001b[0m\u001b[0minput\u001b[0m\u001b[1;33m(\u001b[0m\u001b[1;34m\"Enter b:\"\u001b[0m\u001b[1;33m)\u001b[0m\u001b[1;33m)\u001b[0m\u001b[1;33m\u001b[0m\u001b[1;33m\u001b[0m\u001b[0m\n\u001b[1;32m----> 3\u001b[1;33m \u001b[0mc\u001b[0m \u001b[1;33m=\u001b[0m \u001b[0ma\u001b[0m\u001b[1;33m/\u001b[0m\u001b[0mb\u001b[0m\u001b[1;33m\u001b[0m\u001b[1;33m\u001b[0m\u001b[0m\n\u001b[0m\u001b[0;32m      4\u001b[0m \u001b[0mprint\u001b[0m\u001b[1;33m(\u001b[0m\u001b[1;34m\"a/b = %d\"\u001b[0m \u001b[1;33m%\u001b[0m\u001b[0mc\u001b[0m\u001b[1;33m)\u001b[0m\u001b[1;33m\u001b[0m\u001b[1;33m\u001b[0m\u001b[0m\n\u001b[0;32m      5\u001b[0m \u001b[1;33m\u001b[0m\u001b[0m\n",
      "\u001b[1;31mZeroDivisionError\u001b[0m: division by zero"
     ]
    }
   ],
   "source": [
    "a = int(input(\"Enter a:\"))    \n",
    "b = int(input(\"Enter b:\"))    \n",
    "c = a/b  \n",
    "print(\"a/b = %d\" %c)    \n",
    "    \n",
    "#other code:    \n",
    "print(\"Hi I am other part of the program\")  "
   ]
  },
  {
   "cell_type": "markdown",
   "metadata": {},
   "source": [
    "The above program is syntactically correct, but it through the error because of unusual input. That kind of programming may not be suitable or recommended for the projects because these projects are required uninterrupted execution. That's why an exception-handling plays an essential role in handling these unexpected exceptions. We can handle these exceptions in the following way.\n",
    "\n",
    "## Exception handling in python\n",
    "### The try-expect statement\n",
    "If the Python program contains suspicious code that may throw the exception, we must place that code in the try block. The try block must be followed with the except statement, which contains a block of code that will be executed if there is some exception in the try block.\n",
    "\n",
    "\n",
    "#### Syntax\n",
    "\n"
   ]
  },
  {
   "cell_type": "code",
   "execution_count": null,
   "metadata": {},
   "outputs": [],
   "source": [
    "try:    \n",
    "    #block of code     \n",
    "    \n",
    "except Exception1:    \n",
    "    #block of code    \n",
    "    \n",
    "except Exception2:    \n",
    "    #block of code    \n",
    "    \n",
    "#other code   "
   ]
  },
  {
   "cell_type": "code",
   "execution_count": 4,
   "metadata": {},
   "outputs": [
    {
     "name": "stdout",
     "output_type": "stream",
     "text": [
      "Enter a:3\n",
      "Enter b:0\n",
      "Can't divide with zero\n"
     ]
    }
   ],
   "source": [
    "# Example 1\n",
    "\n",
    "try:  \n",
    "    a = int(input(\"Enter a:\"))    \n",
    "    b = int(input(\"Enter b:\"))    \n",
    "    c = a/b  \n",
    "except:  \n",
    "    print(\"Can't divide with zero\")  "
   ]
  },
  {
   "cell_type": "markdown",
   "metadata": {},
   "source": [
    "We can also use the else statement with the try-except statement in which, we can place the code which will be executed in the scenario if no exception occurs in the try block.\n",
    "\n",
    "The syntax to use the else statement with the try-except statement is given below."
   ]
  },
  {
   "cell_type": "raw",
   "metadata": {},
   "source": [
    "try:    \n",
    "    #block of code     \n",
    "    \n",
    "except Exception1:    \n",
    "    #block of code     \n",
    "    \n",
    "else:    \n",
    "    #this code executes if no except block is executed "
   ]
  },
  {
   "cell_type": "code",
   "execution_count": 5,
   "metadata": {},
   "outputs": [
    {
     "name": "stdout",
     "output_type": "stream",
     "text": [
      "Enter a:1\n",
      "Enter b:0\n",
      "can't divide by zero\n",
      "<class 'Exception'>\n"
     ]
    }
   ],
   "source": [
    "# Example 2\n",
    "\n",
    "try:    \n",
    "    a = int(input(\"Enter a:\"))    \n",
    "    b = int(input(\"Enter b:\"))    \n",
    "    c = a/b  \n",
    "    print(\"a/b = %d\"%c)    \n",
    "# Using Exception with except statement. If we print(Exception) it will return exception class  \n",
    "except Exception:    \n",
    "    print(\"can't divide by zero\")    \n",
    "    print(Exception)  \n",
    "else:    \n",
    "    print(\"Hi I am else block\") "
   ]
  },
  {
   "cell_type": "markdown",
   "metadata": {},
   "source": [
    "### The except statement with no exception\n",
    "Python provides the flexibility not to specify the name of exception with the exception statement.\n",
    "\n",
    "Consider the following example.\n",
    "\n",
    "Example"
   ]
  },
  {
   "cell_type": "code",
   "execution_count": 7,
   "metadata": {},
   "outputs": [
    {
     "name": "stdout",
     "output_type": "stream",
     "text": [
      "Enter a:1\n",
      "Enter b:d\n",
      "can't divide by zero\n"
     ]
    }
   ],
   "source": [
    "try:    \n",
    "    a = int(input(\"Enter a:\"))    \n",
    "    b = int(input(\"Enter b:\"))    \n",
    "    c = a/b;    \n",
    "    print(\"a/b = %d\"%c)    \n",
    "except:    \n",
    "    print(\"can't divide by zero\")    \n",
    "else:    \n",
    "    print(\"Hi I am else block\")"
   ]
  },
  {
   "cell_type": "markdown",
   "metadata": {},
   "source": [
    "### The except statement using with exception variable\n",
    "We can use the exception variable with the except statement. It is used by using the as keyword. this object will return the cause of the exception. Consider the following example:"
   ]
  },
  {
   "cell_type": "code",
   "execution_count": 8,
   "metadata": {},
   "outputs": [
    {
     "name": "stdout",
     "output_type": "stream",
     "text": [
      "Enter a:1\n",
      "Enter b:2\n",
      "a/b = 0\n",
      "Hi I am else block\n"
     ]
    }
   ],
   "source": [
    "try:    \n",
    "    a = int(input(\"Enter a:\"))    \n",
    "    b = int(input(\"Enter b:\"))    \n",
    "    c = a/b  \n",
    "    print(\"a/b = %d\"%c)    \n",
    "    # Using exception object with the except statement  \n",
    "except Exception as e:    \n",
    "    print(\"can't divide by zero\")    \n",
    "    print(e)  \n",
    "else:    \n",
    "    print(\"Hi I am else block\")  "
   ]
  },
  {
   "cell_type": "markdown",
   "metadata": {},
   "source": [
    "### Points to remember\n",
    "1. Python facilitates us to not specify the exception with the except statement.\n",
    "2. We can declare multiple exceptions in the except statement since the try block may contain the statements which throw the different type of exceptions.\n",
    "3. We can also specify an else block along with the try-except statement, which will be executed if no exception is raised in the try block.\n",
    "4. The statements that don't throw the exception should be placed inside the else block.\n",
    "\n",
    "Example"
   ]
  },
  {
   "cell_type": "code",
   "execution_count": 9,
   "metadata": {},
   "outputs": [
    {
     "name": "stdout",
     "output_type": "stream",
     "text": [
      "File not found\n"
     ]
    }
   ],
   "source": [
    "try:    \n",
    "    #this will throw an exception if the file doesn't exist.     \n",
    "    fileptr = open(\"file.txt\",\"r\")    \n",
    "except IOError:    \n",
    "    print(\"File not found\")    \n",
    "else:    \n",
    "    print(\"The file opened successfully\")    \n",
    "    fileptr.close()   "
   ]
  },
  {
   "cell_type": "markdown",
   "metadata": {},
   "source": [
    "### Declaring Multiple Exceptions\n",
    "The Python allows us to declare the multiple exceptions with the except clause. Declaring multiple exceptions is useful in the cases where a try block throws multiple exceptions. The syntax is given below.\n",
    "\n",
    "#### Syntax"
   ]
  },
  {
   "cell_type": "raw",
   "metadata": {},
   "source": [
    "try:    \n",
    "    #block of code     \n",
    "    \n",
    "except (<Exception 1>,<Exception 2>,<Exception 3>,...<Exception n>)    \n",
    "    #block of code     \n",
    "    \n",
    "else:    \n",
    "    #block of code    "
   ]
  },
  {
   "cell_type": "code",
   "execution_count": 10,
   "metadata": {},
   "outputs": [
    {
     "name": "stdout",
     "output_type": "stream",
     "text": [
      "Arithmetic Exception\n"
     ]
    }
   ],
   "source": [
    "# Example\n",
    "try:      \n",
    "    a=10/0;      \n",
    "except(ArithmeticError, IOError):      \n",
    "    print(\"Arithmetic Exception\")      \n",
    "else:      \n",
    "    print(\"Successfully Done\")  "
   ]
  },
  {
   "cell_type": "markdown",
   "metadata": {},
   "source": [
    "### The try...finally block\n",
    "Python provides the optional finally statement, which is used with the try statement. It is executed no matter what exception occurs and used to release the external resource. The finally block provides a guarantee of the execution.\n",
    "\n",
    "We can use the finally block with the try block in which we can pace the necessary code, which must be executed before the try statement throws an exception.\n",
    "\n",
    "The syntax to use the finally block is given below.\n",
    "\n",
    "#### Syntax"
   ]
  },
  {
   "cell_type": "raw",
   "metadata": {},
   "source": [
    "try:    \n",
    "    # block of code     \n",
    "    # this may throw an exception    \n",
    "finally:    \n",
    "    # block of code    \n",
    "    # this will always be executed "
   ]
  },
  {
   "cell_type": "code",
   "execution_count": 11,
   "metadata": {},
   "outputs": [
    {
     "name": "stdout",
     "output_type": "stream",
     "text": [
      "Error\n"
     ]
    }
   ],
   "source": [
    "try:    \n",
    "    fileptr = open(\"file2.txt\",\"r\")      \n",
    "    try:    \n",
    "        fileptr.write(\"Hi I am good\")    \n",
    "    finally:    \n",
    "        fileptr.close()    \n",
    "        print(\"file closed\")    \n",
    "except:    \n",
    "    print(\"Error\")   "
   ]
  },
  {
   "cell_type": "markdown",
   "metadata": {},
   "source": [
    "## Raising exceptions\n",
    "An exception can be raised forcefully by using the raise clause in Python. It is useful in in that scenario where we need to raise an exception to stop the execution of the program.\n",
    "\n",
    "For example, there is a program that requires 2GB memory for execution, and if the program tries to occupy 2GB of memory, then we can raise an exception to stop the execution of the program.\n",
    "\n",
    "The syntax to use the raise statement is given below.\n",
    "\n",
    "### Syntax"
   ]
  },
  {
   "cell_type": "raw",
   "metadata": {},
   "source": [
    "raise Exception_class,<value>    "
   ]
  },
  {
   "cell_type": "markdown",
   "metadata": {},
   "source": [
    "##### Points to remember\n",
    "\n",
    "- To raise an exception, the raise statement is used. The exception class name follows it.\n",
    "- An exception can be provided with a value that can be given in the parenthesis.\n",
    "- To access the value \"as\" keyword is used. \"e\" is used as a reference variable which stores the value of the exception.\n",
    "- We can pass the value to an exception to specify the exception type.\n",
    "\n",
    "\n",
    "Example"
   ]
  },
  {
   "cell_type": "code",
   "execution_count": 12,
   "metadata": {},
   "outputs": [
    {
     "name": "stdout",
     "output_type": "stream",
     "text": [
      "Enter the age:17\n",
      "The age is not valid\n"
     ]
    }
   ],
   "source": [
    "try:    \n",
    "    age = int(input(\"Enter the age:\"))    \n",
    "    if(age<18):    \n",
    "        raise ValueError   \n",
    "    else:    \n",
    "        print(\"the age is valid\")    \n",
    "except ValueError:    \n",
    "    print(\"The age is not valid\")   "
   ]
  },
  {
   "cell_type": "code",
   "execution_count": 14,
   "metadata": {},
   "outputs": [
    {
     "name": "stdout",
     "output_type": "stream",
     "text": [
      "Enter a positive integer: -5\n",
      "That is  a negative number!\n"
     ]
    }
   ],
   "source": [
    "# Example 2 Raise the exception with message\n",
    "\n",
    "try:  \n",
    "     num = int(input(\"Enter a positive integer: \"))  \n",
    "     if(num <= 0):  \n",
    "# we can pass the message in the raise statement  \n",
    "         raise ValueError(\"That is  a negative number!\")  \n",
    "except ValueError as e:  \n",
    "     print(e)  "
   ]
  },
  {
   "cell_type": "code",
   "execution_count": 16,
   "metadata": {},
   "outputs": [
    {
     "name": "stdout",
     "output_type": "stream",
     "text": [
      "Enter a:0\n",
      "Enter b:0\n",
      "The value of b can't be 0\n"
     ]
    }
   ],
   "source": [
    "# Example 3\n",
    "\n",
    "try:    \n",
    "    a = int(input(\"Enter a:\"))    \n",
    "    b = int(input(\"Enter b:\"))    \n",
    "    if b is 0:    \n",
    "        raise ArithmeticError  \n",
    "    else:    \n",
    "        print(\"a/b = \",a/b)    \n",
    "except ArithmeticError:    \n",
    "    print(\"The value of b can't be 0\")  "
   ]
  },
  {
   "cell_type": "markdown",
   "metadata": {},
   "source": [
    "## Custom Exception\n",
    "The Python allows us to create our exceptions that can be raised from the program and caught using the except clause. However, we suggest you read this section after visiting the Python object and classes.\n",
    "\n",
    "Consider the following example.\n",
    "\n",
    "Example"
   ]
  },
  {
   "cell_type": "code",
   "execution_count": 17,
   "metadata": {},
   "outputs": [
    {
     "name": "stdout",
     "output_type": "stream",
     "text": [
      "Received error: 2000\n"
     ]
    }
   ],
   "source": [
    "class ErrorInCode(Exception):      \n",
    "    def __init__(self, data):      \n",
    "        self.data = data      \n",
    "    def __str__(self):      \n",
    "        return repr(self.data)      \n",
    "      \n",
    "try:      \n",
    "    raise ErrorInCode(2000)      \n",
    "except ErrorInCode as ae:      \n",
    "    print(\"Received error:\", ae.data)    "
   ]
  },
  {
   "cell_type": "code",
   "execution_count": null,
   "metadata": {},
   "outputs": [],
   "source": []
  },
  {
   "cell_type": "code",
   "execution_count": null,
   "metadata": {},
   "outputs": [],
   "source": []
  },
  {
   "cell_type": "code",
   "execution_count": null,
   "metadata": {},
   "outputs": [],
   "source": []
  },
  {
   "cell_type": "code",
   "execution_count": null,
   "metadata": {},
   "outputs": [],
   "source": []
  },
  {
   "cell_type": "code",
   "execution_count": null,
   "metadata": {},
   "outputs": [],
   "source": []
  },
  {
   "cell_type": "code",
   "execution_count": null,
   "metadata": {},
   "outputs": [],
   "source": []
  }
 ],
 "metadata": {
  "kernelspec": {
   "display_name": "Python 3",
   "language": "python",
   "name": "python3"
  },
  "language_info": {
   "codemirror_mode": {
    "name": "ipython",
    "version": 3
   },
   "file_extension": ".py",
   "mimetype": "text/x-python",
   "name": "python",
   "nbconvert_exporter": "python",
   "pygments_lexer": "ipython3",
   "version": "3.7.4"
  }
 },
 "nbformat": 4,
 "nbformat_minor": 2
}
