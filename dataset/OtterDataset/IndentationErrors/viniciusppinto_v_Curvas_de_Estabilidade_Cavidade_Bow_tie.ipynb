{
  "nbformat": 4,
  "nbformat_minor": 0,
  "metadata": {
    "colab": {
      "provenance": [],
      "collapsed_sections": [
        "kXi9Q-vzjNhx",
        "UQNbNPf2OIPN",
        "J1mqlEDnOTO7",
        "qL7vICW9PChJ",
        "wE8VoMxDnWZW"
      ],
      "toc_visible": true
    },
    "kernelspec": {
      "name": "python3",
      "display_name": "Python 3"
    },
    "language_info": {
      "name": "python"
    }
  },
  "cells": [
    {
      "cell_type": "code",
      "source": [
        "from google.colab import drive\n",
        "drive.mount('/content/drive')"
      ],
      "metadata": {
        "colab": {
          "base_uri": "https://localhost:8080/"
        },
        "id": "wnwA6kmw__KG",
        "outputId": "d8cb4eff-3628-4073-a414-5352ddb30be8"
      },
      "execution_count": null,
      "outputs": [
        {
          "output_type": "stream",
          "name": "stdout",
          "text": [
            "Mounted at /content/drive\n"
          ]
        }
      ]
    },
    {
      "cell_type": "code",
      "source": [
        "# SELECIONAR A PASTA \"Colab Notebooks\" DO DRIVE COMO DIRETÓRIO\n",
        "%cd drive/MyDrive/Colab\\ Notebooks"
      ],
      "metadata": {
        "colab": {
          "base_uri": "https://localhost:8080/"
        },
        "id": "9JA9iJAK_-Do",
        "outputId": "bbb85e68-a682-4247-b3b3-04d182fb321b"
      },
      "execution_count": null,
      "outputs": [
        {
          "output_type": "stream",
          "name": "stdout",
          "text": [
            "/content/drive/MyDrive/Colab Notebooks\n"
          ]
        }
      ]
    },
    {
      "cell_type": "markdown",
      "source": [
        "# **PYTHON: ÂNGULOS DE CORREÇÃO DE ASTIGMATISMO**"
      ],
      "metadata": {
        "id": "OvZ7iNerj02v"
      }
    },
    {
      "cell_type": "markdown",
      "source": [
        "## **Curva de $\\theta_1$ e $\\theta_2$ que compensam o astigmatismo para diferentes raios de curvatura dos espelhos**\n",
        "\n",
        "Encontra os valores de $\\theta_1$ e $\\theta_2$ que satisfazem a equação de compensação de astigmatismo abaixo:\n",
        "\n",
        "$$\n",
        " \\dfrac{\\sin{\\theta_1}^2}{\\cos{\\theta_1}} + \\dfrac{\\sin{\\theta_2}^2}{\\cos{\\theta_2}} = \\dfrac{2l(n^2-1)}{R} \\dfrac{\\sqrt{n^2+1}}{n^4}\n",
        "$$"
      ],
      "metadata": {
        "id": "kXi9Q-vzjNhx"
      }
    },
    {
      "cell_type": "code",
      "source": [
        "import numpy as np\n",
        "from scipy.optimize import fsolve\n",
        "import matplotlib.pyplot as plt\n",
        "import math\n",
        "\n",
        "# Define os parâmetros\n",
        "l = 3.0     # Comprimento do meio Kerr\n",
        "n = 1.760   # Índice de refração linear\n",
        "\n",
        "# Define a função a ser resolvida\n",
        "def eq(theta1, theta2):\n",
        "    return np.sin(theta1)**2/np.cos(theta1) + np.sin(theta2)**2/np.cos(theta2) - 2*l*(n**2 - 1)/R*np.sqrt(n**2 + 1)/n**4\n",
        "\n",
        "theta_vals = np.linspace(0, math.pi/5, 1000)\n",
        "\n",
        "r_values = np.linspace(20, 50, 4)  # Raio do espelho esférico (mm)\n",
        "theta1_vals = [[] for i in range(len(r_values))]  # Lista de listas para armazenar valores de theta1 para cada r\n",
        "theta2_vals = [[] for i in range(len(r_values))]  # Lista de listas para armazenar valores de theta1 para cada r\n",
        "theta1_vals_deg = [[] for i in range(len(r_values))]  # Lista de listas para armazenar valores de theta1 em graus para cada r\n",
        "theta2_vals_deg = [[] for i in range(len(r_values))]  # Lista de listas para armazenar valores de theta1 em graus para cada r\n",
        "\n",
        "fig, ax = plt.subplots()\n",
        "for i, R in enumerate(r_values):\n",
        "    for theta1 in theta_vals:\n",
        "        sol = fsolve(eq, 0.01, args=(theta1,))\n",
        "        # Verifique se a solução é positiva e não nula\n",
        "        if sol > 0.01:\n",
        "            theta1_vals[i].append(theta1)\n",
        "            theta2_vals[i].append(sol)\n",
        "        else:\n",
        "            # Preencha com NaN se a solução não for encontrada\n",
        "            theta1_vals_deg[i].append(np.nan)\n",
        "            theta2_vals_deg[i].append(np.nan)\n",
        "    # Converta as listas em arrays\n",
        "    theta1_vals[i] = np.array(theta1_vals[i])\n",
        "    theta2_vals[i] = np.array(theta2_vals[i])\n",
        "\n",
        "    # Converta radianos para graus para o gráfico\n",
        "    theta1_vals_deg[i] = np.degrees(theta1_vals[i])\n",
        "    theta2_vals_deg[i] = np.degrees(theta2_vals[i])\n",
        "    ax.plot(theta1_vals_deg[i], theta2_vals_deg[i], label=f\"R={R} mm\")\n",
        "\n",
        "    # Crie um arquivo .txt e escreva o cabeçalho\n",
        "    filename = f'valores_R_{R}.txt'\n",
        "    with open(filename, 'w') as f:\n",
        "        # Formate os dados corretamente\n",
        "        for theta1, theta2 in zip(theta1_vals_deg[i], theta2_vals_deg[i]):\n",
        "          f.write(f'{theta1}\\t{theta2[0]}\\n')\n",
        "\n",
        "\n",
        "# Configurar os rótulos dos eixos e a legenda\n",
        "ax.set_xlabel(r'$\\theta_1$ (graus)')\n",
        "ax.set_ylabel(r'$\\theta_2$ (graus)')\n",
        "\n",
        "# Configurar o fundo da legenda como transparente\n",
        "legend = ax.legend()\n",
        "frame = legend.get_frame()\n",
        "frame.set_facecolor('none')\n",
        "\n",
        "# Configurar marcas de incremento nos eixos x e y\n",
        "plt.xticks(np.arange(0, 23, step=2))\n",
        "plt.yticks(np.arange(0, 23, step=2))\n",
        "\n",
        "# Salvar o gráfico em formato PNG com fundo transparente\n",
        "plt.savefig('astigmatism_angles.png', transparent=True, dpi=300)\n",
        "\n",
        "# Mostrar o gráfico\n",
        "plt.show()"
      ],
      "metadata": {
        "id": "7pOmBn-ajyKT",
        "colab": {
          "base_uri": "https://localhost:8080/",
          "height": 566
        },
        "outputId": "25bae545-bab5-4c5f-d6f5-2faa9099ae58"
      },
      "execution_count": null,
      "outputs": [
        {
          "output_type": "stream",
          "name": "stderr",
          "text": [
            "/usr/local/lib/python3.10/dist-packages/scipy/optimize/_minpack_py.py:177: RuntimeWarning: The iteration is not making good progress, as measured by the \n",
            "  improvement from the last ten iterations.\n",
            "  warnings.warn(msg, RuntimeWarning)\n",
            "/usr/local/lib/python3.10/dist-packages/scipy/optimize/_minpack_py.py:177: RuntimeWarning: The iteration is not making good progress, as measured by the \n",
            "  improvement from the last five Jacobian evaluations.\n",
            "  warnings.warn(msg, RuntimeWarning)\n"
          ]
        },
        {
          "output_type": "display_data",
          "data": {
            "text/plain": [
              "<Figure size 640x480 with 1 Axes>"
            ],
            "image/png": "[encoded data removed]"
          },
          "metadata": {}
        }
      ]
    },
    {
      "cell_type": "markdown",
      "source": [
        "## **Curva de $\\theta_1$ e $\\theta_2$ que compensam o astigmatismo para R = 30 mm**\n",
        "\n",
        "Encontra os valores de $\\theta_1$ e $\\theta_2$ que satisfazem a equação de compensação de astigmatismo abaixo, considerando $R = 30 mm$:\n",
        "\n",
        "$$\n",
        " \\dfrac{\\sin{\\theta_1}^2}{\\cos{\\theta_1}} + \\dfrac{\\sin{\\theta_2}^2}{\\cos{\\theta_2}} = \\dfrac{2l(n^2-1)}{R} \\dfrac{\\sqrt{n^2+1}}{n^4}\n",
        "$$"
      ],
      "metadata": {
        "id": "UQNbNPf2OIPN"
      }
    },
    {
      "cell_type": "code",
      "source": [
        "import numpy as np\n",
        "from scipy.optimize import fsolve\n",
        "import matplotlib.pyplot as plt\n",
        "import math\n",
        "\n",
        "# Define the parameters\n",
        "l = 3.0     # kerr medium length\n",
        "n = 1.760   # linear refractive index\n",
        "R = 30.0    # spherical mirror radius\n",
        "\n",
        "# Define the function to solve\n",
        "def eq(theta1, theta2):\n",
        "    return np.sin(theta1)**2/np.cos(theta1) + np.sin(theta2)**2/np.cos(theta2) - 2*l*(n**2 - 1)/R*np.sqrt(n**2 + 1)/n**4\n",
        "\n",
        "# Convert degrees to radians\n",
        "theta_vals = np.linspace(0, math.pi/10, 1000)\n",
        "\n",
        "# Loop over each theta1 value and find the corresponding theta2 values\n",
        "theta1_vals = []\n",
        "theta2_vals = []\n",
        "for theta1 in theta_vals:\n",
        "    sol = fsolve(eq, 0.01, args=(theta1,))\n",
        "    # Check if the solution is positive and non-zero\n",
        "    if sol > 0.01:\n",
        "        theta1_vals.append(theta1)\n",
        "        theta2_vals.append(sol)\n",
        "    else:\n",
        "        break\n",
        "\n",
        "# Convert the lists to arrays\n",
        "theta1_vals = np.array(theta1_vals)\n",
        "theta2_vals = np.array(theta2_vals)\n",
        "\n",
        "# Convert radians to degrees for plotting\n",
        "theta1_vals_deg = np.degrees(theta1_vals)\n",
        "theta2_vals_deg = np.degrees(theta2_vals)\n",
        "\n",
        "# Plot the results\n",
        "plt.plot(theta1_vals_deg, theta2_vals_deg)\n",
        "plt.xlabel(r'$\\theta_1$ (degrees)')\n",
        "plt.ylabel(r'$\\theta_2$ (degrees)')\n",
        "#plt.title(r'Positive values of $\\theta_2$ for angles $\\theta_1$')\n",
        "plt.xticks(np.arange(0, 19, step=2))  # set x-axis labels to 2-degree increments\n",
        "plt.show()"
      ],
      "metadata": {
        "colab": {
          "base_uri": "https://localhost:8080/",
          "height": 453
        },
        "id": "Os8Y4fAIxKJZ",
        "outputId": "cbfa4aed-a7e6-4eb6-eb76-c17e54805645"
      },
      "execution_count": null,
      "outputs": [
        {
          "output_type": "display_data",
          "data": {
            "text/plain": [
              "<Figure size 640x480 with 1 Axes>"
            ],
            "image/png": "[encoded data removed]"
          },
          "metadata": {}
        }
      ]
    },
    {
      "cell_type": "markdown",
      "source": [
        "## **Cálculo de $2\\theta$ que compensa o astigmatismo para R = 30 mm**\n",
        "\n",
        "Encontra os valores de $2\\theta$ que satisfaz a equação de compensação de astigmatismo abaixo, para $R = 30 mm$:\n",
        "\n",
        "$$\n",
        " \\sin{\\theta}\\tan{\\theta} = \\dfrac{2l(n^2-1)}{R} \\dfrac{\\sqrt{n^2+1}}{n^4}\n",
        "$$"
      ],
      "metadata": {
        "id": "J1mqlEDnOTO7"
      }
    },
    {
      "cell_type": "code",
      "source": [
        "import numpy as np\n",
        "from scipy.optimize import fsolve\n",
        "import matplotlib.pyplot as plt\n",
        "import math\n",
        "\n",
        "# Define the parameters\n",
        "l = 3.0     # kerr medium length\n",
        "n = 1.760   # linear refractive index\n",
        "R = 30.0    # spherical mirror radius\n",
        "\n",
        "# Define the function to solve\n",
        "def eq(theta):\n",
        "    return np.sin(theta)**2/np.cos(theta) + np.sin(theta)**2/np.cos(theta) - 2*l*(n**2 - 1)/R*np.sqrt(n**2 + 1)/n**4\n",
        "\n",
        "sol = 2*np.degrees(fsolve(eq, 0.01))\n",
        "print(f\"The 2\\u03b8 astigmatism compensated angle is: {sol[0]:.1f}°\")"
      ],
      "metadata": {
        "colab": {
          "base_uri": "https://localhost:8080/"
        },
        "id": "VjTRpWOT0rUJ",
        "outputId": "b50f2759-39f4-4611-f6ec-617cc560be1a"
      },
      "execution_count": null,
      "outputs": [
        {
          "output_type": "stream",
          "name": "stdout",
          "text": [
            "The 2θ astigmatism compensated angle is: 24.0°\n"
          ]
        }
      ]
    },
    {
      "cell_type": "markdown",
      "source": [
        "# **Cálculo de conversão de $\\lambda$ para $f_{rep}$ e estimativa de largura temporal do pulso limitado a transformada de Fourier**"
      ],
      "metadata": {
        "id": "o30emtmxOjd_"
      }
    },
    {
      "cell_type": "code",
      "source": [
        "d_lambda = 12e-9      # Bandwidth in m\n",
        "lambda_0 = 1550e-9     # Center Wavelength m\n",
        "c = 2.99792e8         # Speed of Light in m/s\n",
        "d_freq = c * d_lambda/(lambda_0**2)   # Bandwidth in Hz\n",
        "print(f\"d_freq: {d_freq*2e-12:.1f} THz\")  # Print the Bandwitdh in THz\n",
        "tau = 0.441/d_freq    # Pulse Duration in s\n",
        "print(f\"tau: {tau*1e15:.1f} fs\")  # Print the Pulse Duration in fs"
      ],
      "metadata": {
        "colab": {
          "base_uri": "https://localhost:8080/"
        },
        "id": "rd2VMKRMWixz",
        "outputId": "d958b5b7-3cd8-4988-f15c-960805793f1d"
      },
      "execution_count": null,
      "outputs": [
        {
          "output_type": "stream",
          "name": "stdout",
          "text": [
            "d_freq: 3.0 THz\n",
            "tau: 294.5 fs\n"
          ]
        }
      ]
    },
    {
      "cell_type": "markdown",
      "source": [
        "# **CÓDIGO PERDIDO**"
      ],
      "metadata": {
        "id": "qL7vICW9PChJ"
      }
    },
    {
      "cell_type": "code",
      "source": [
        "import numpy as np\n",
        "import matplotlib.pyplot as plt\n",
        "\n",
        "nc = 1.772 # linear refractive index\n",
        "l = 3.0 # crystal length (mm)\n",
        "\n",
        "L1 = 67.37\n",
        "L2 = 79.76 + 104.06\n",
        "R = 30.0\n",
        "f1 = R/2\n",
        "f2 = R/2\n",
        "shift = (14.5+15.6)-f1-f2-l*(1-1/nc)\n",
        "d = []\n",
        "d.append(0.0)\n",
        "d.append(f2**2/(L2-f2)+l*(1-1/nc))\n",
        "d.append(f1**2/(L1-f1)+l*(1-1/nc))\n",
        "d.append(d[1]+d[2]+l*(1-1/nc))\n",
        "print(shift, d)\n",
        "\n",
        "shift_values = np.linspace(shift, shift+d[3], 100)  # spherical mirror radius (cm)\n",
        "d_values = []\n",
        "for s in shift_values:\n",
        "  d_values.append(-s+f1+f2-15.6)\n",
        "d_values.reverse()\n",
        "\n",
        "# Plot the results\n",
        "plt.plot(d_values, shift_values)\n",
        "plt.xlabel(r'$d$ (mm)')\n",
        "plt.ylabel(r'$\\delta$')\n",
        "#plt.title(r'Positive values of $\\theta_2$ for angles $\\theta_1$')\n",
        "#plt.xticks(np.arange(0, 19, step=2))  # set x-axis labels to 2-degree increments\n",
        "plt.show()\n",
        "\n",
        "print(d[1],d[2]-d[1],d[2])\n",
        "print(8.92-d[1],8.92-(d[2]-d[1]),8.92-d[2])"
      ],
      "metadata": {
        "colab": {
          "base_uri": "https://localhost:8080/",
          "height": 505
        },
        "id": "fP26Z_Lw4BN1",
        "outputId": "bcc9c735-8f56-4522-c710-71f2ad143707"
      },
      "execution_count": null,
      "outputs": [
        {
          "output_type": "stream",
          "name": "stdout",
          "text": [
            "-1.2069977426636553 [0.0, 2.639778218910547, 5.603350616446356, 9.55012657802056]\n"
          ]
        },
        {
          "output_type": "display_data",
          "data": {
            "text/plain": [
              "<Figure size 640x480 with 1 Axes>"
            ],
            "image/png": "[encoded data removed]"
          },
          "metadata": {}
        },
        {
          "output_type": "stream",
          "name": "stdout",
          "text": [
            "2.639778218910547 2.963572397535809 5.603350616446356\n",
            "6.280221781089453 5.956427602464191 3.316649383553644\n"
          ]
        }
      ]
    },
    {
      "cell_type": "markdown",
      "source": [
        "# **CURVAS DE ESTABILIDADE E CINTURA DO FEIXE INTRACAVIDADE** (rascunhos)"
      ],
      "metadata": {
        "id": "3kBug6vTj9OH"
      }
    },
    {
      "cell_type": "markdown",
      "source": [
        "**DEFINIÇÃO DE PARÂMETROS**"
      ],
      "metadata": {
        "id": "J2zPLsshkBmT"
      }
    },
    {
      "cell_type": "code",
      "source": [
        "# d = d1+d2\n",
        "# d3 = caminho pelos espelhos planos\n",
        "# d1 - cristal (centro) - d2\n",
        "# rep = c/(d+d3) -> d3 = c/rep - d\n",
        "\n",
        "R = 3 # spherical mirror radius (cm)\n",
        "nc = 1.772 # linear refractive index\n",
        "c = 3e10 # speed of light (cm/s)\n",
        "l = 0.3 # crystal length (cm)\n",
        "wavelength = 780e-7 # wavelenth (cm)\n",
        "\n",
        "# Matrices (Spherical mirrors, free space, cristal, ar-cristal, cristal-ar)\n",
        "M = ((1,L/2),(0,1)) * ((1,0),(0,1/nc)) * ((1, d/2-l/2),(0,1)) * ((1,0),(-2/R,1)) * ((1,c/rep-d),(0,1)) * ((1,0),(-2/R,1)) * ((1,d/2-l/2),(0,1)) * ((1,0),(0,nc)) * ((1,l/2),(0,1))\n"
      ],
      "metadata": {
        "id": "K0N0JOUtka5z"
      },
      "execution_count": null,
      "outputs": []
    },
    {
      "cell_type": "markdown",
      "source": [
        "**CÁLCULOS DE ESTABILIDADE**"
      ],
      "metadata": {
        "id": "Xlfidxwnm4IZ"
      }
    },
    {
      "cell_type": "markdown",
      "source": [
        "A cavidade apresenta estabilidade quando a matriz ABCD satisfaz: $-2 \\leq A+D \\leq 2$.\n",
        "\n",
        "Definindo $A+D$ como uma função das distâncias e do *free spectral range* do laser, *i.e.* $\\text{est}(d_1,d_2,FRS) \\equiv A+D,$ tem-se que a condição de estabilidade é:\n",
        "\n",
        "$$\n",
        "    -2 \\leq \\text{est}(d_1,d_2,FRS) \\leq 2\n",
        "$$"
      ],
      "metadata": {
        "id": "4NiPrs7Fz9Cs"
      }
    },
    {
      "cell_type": "code",
      "source": [
        "# ESTABILIDADE DA CAVIDADE\n",
        "  # Cavidade é estavel se -2 < A+D < 2\n",
        "  est(R, rep, d) = M[[1,1]] + M[[2,2]]\n",
        "  NSolve[est[3,1,d] == -2]\n",
        "  # {{d -> 3.1307},{d -> 27.}}"
      ],
      "metadata": {
        "id": "ryNIAksT10vB",
        "colab": {
          "base_uri": "https://localhost:8080/",
          "height": 108
        },
        "outputId": "ccc2c749-81ff-4cfe-c1c2-06a7325c0387"
      },
      "execution_count": null,
      "outputs": [
        {
          "output_type": "error",
          "ename": "IndentationError",
          "evalue": "unexpected indent (<ipython-input-2-b2b814a84d45>, line 3)",
          "traceback": [
            "\u001b[0;36m  File \u001b[0;32m\"<ipython-input-2-b2b814a84d45>\"\u001b[0;36m, line \u001b[0;32m3\u001b[0m\n\u001b[0;31m    est(R, rep, d) = M[[1,1]] + M[[2,2]]\u001b[0m\n\u001b[0m    ^\u001b[0m\n\u001b[0;31mIndentationError\u001b[0m\u001b[0;31m:\u001b[0m unexpected indent\n"
          ]
        }
      ]
    },
    {
      "cell_type": "markdown",
      "source": [
        "A partir de cálculos numéricos com esta condição, é possível obter os resultados:"
      ],
      "metadata": {
        "id": "juUjlTFG1zLL"
      }
    },
    {
      "cell_type": "code",
      "source": [
        "  # Gráfico de d (cm) por rep (GHz)\n",
        "  # Limites: +/- de 0.1 a 1GHZ no eixo x e +/- 3.1 a 3.5cm no eixo y\n",
        "  ImplicitPlot[{(est[3,a,b]^2==4), {a,0.1,1}, {b,1,10}}] # Calcula valores de d para rep de 0.1 a 1GHz"
      ],
      "metadata": {
        "id": "m4NLHKrZkx52"
      },
      "execution_count": null,
      "outputs": []
    },
    {
      "cell_type": "code",
      "source": [
        "(*Definição das constantes*)(*R=3;raio do espelho esférico (cm)*)\n",
        "nc = 1.772; (*índice de refração linear*)\n",
        "c = 3*^10; (*velocidade da luz (cm/s)*)\n",
        "l = 0.3; (*comprimento do cristal (cm)*)\n",
        "wavelength = 780*^-7; (*comprimento de onda (cm)*)\n",
        "\n",
        "(*Definição das matrizes*)\n",
        "M = FullSimplify[{{1, l/2}, {0, 1}} . {{1, 0}, {0, 1/nc}} . {{1,\n",
        "      d/2 - l/2}, {0, 1}} . {{1, 0}, {-2/R, 1}} . {{1, c/rep - d}, {0,\n",
        "       1}} . {{1, 0}, {-2/R, 1}} . {{1, d/2 - l/2}, {0, 1}} . {{1,\n",
        "      0}, {0, nc}} . {{1, l/2}, {0, 1}}];\n",
        "\n",
        "(*Estabilidade da cavidade*)\n",
        "est[R_, rep_, d_] = M[[1, 1]] + M[[2, 2]];\n",
        "\n",
        "(*Resolve a equação de estabilidade da cavidade para R=3cm e rep=1GHz*)\n",
        "NSolve[est[R, rep, d] == 2 && R == 3 && rep == 1, {R, rep, d}]\n",
        "\n",
        "(*Gráfico de d (cm) por rep (GHz)*)\n",
        "(*Limites:+/-de 0.1 a 1GHZ no eixo x e+/-3.1 a 3.5cm no eixo y*)\n",
        "ContourPlot[(est[3, a, b])^2 == 4 , {a, 0.1, 1}, {b, 1, 10},\n",
        " ContourStyle -> {{Thickness[0.01], RGBColor[1, 0, 0]}},\n",
        " FrameLabel -> {\"Repetition Rate (GHz)\",\n",
        "   \"d (cm)\"}] (*Calcula valores de d para rep de 0.1 a 1GHz*)\n"
      ],
      "metadata": {
        "id": "Wb0CindL5qQc"
      },
      "execution_count": null,
      "outputs": []
    },
    {
      "cell_type": "code",
      "source": [
        "import numpy as np\n",
        "from scipy.optimize import fsolve\n",
        "\n",
        "# Define constants and parameters\n",
        "c = 3e10\n",
        "l = 0.3\n",
        "nc = 1.772\n",
        "R = 3\n",
        "rep = 5.0\n",
        "\n",
        "# Define the function est\n",
        "def est(R, rep, d, c, l, nc):\n",
        "    numerator = 2 * (2 * c * (l - l * nc + nc * (d - R)) + (-2 * d * (l + d * nc - l * nc) + 2 * l * (-1 + nc) * R + nc * R**2) * rep)\n",
        "    denominator = nc * R**2 * rep\n",
        "    return numerator / denominator\n",
        "\n",
        "# Define the equation function to find the root\n",
        "def equation(d):\n",
        "    return est(R, rep, d, c, l, nc) +2\n",
        "\n",
        "# Function to find all numerical solutions with a difference greater than a threshold\n",
        "def find_numerical_solutions(rep_values, threshold):\n",
        "    all_solutions = []\n",
        "    prev_solution = None\n",
        "\n",
        "    root = fsolve(equation, 4.0)\n",
        "\n",
        "    if prev_solution is None or abs(root[0] - prev_solution) > threshold:\n",
        "        all_solutions.append(root[0])\n",
        "        prev_solution = root[0]\n",
        "\n",
        "    return all_solutions\n",
        "\n",
        "# Generate values for rep\n",
        "rep_values = np.linspace(0.1, 2, 100)\n",
        "\n",
        "# Find numerical solutions with a difference greater than 0.05\n",
        "numerical_solutions = find_numerical_solutions(rep_values, 0.05)\n",
        "\n",
        "# Print all numerical solutions\n",
        "print(\"Numerical solutions for est(R, rep, d, c, l, nc)^2 - 4 = 0 with a difference greater than 0.05:\")\n",
        "for i, solution in enumerate(numerical_solutions):\n",
        "    print(f\"d_{i+1} =\", solution)\n"
      ],
      "metadata": {
        "colab": {
          "base_uri": "https://localhost:8080/"
        },
        "id": "iVBEe6vzbF5e",
        "outputId": "431bd1ff-14bc-4e25-eaf9-0843b0e96aff"
      },
      "execution_count": null,
      "outputs": [
        {
          "output_type": "stream",
          "name": "stdout",
          "text": [
            "Numerical solutions for est(R, rep, d, c, l, nc)^2 - 4 = 0 with a difference greater than 0.05:\n",
            "d_1 = 3.1306997742663656\n"
          ]
        }
      ]
    },
    {
      "cell_type": "code",
      "source": [
        "import numpy as np\n",
        "import matplotlib.pyplot as plt\n",
        "from scipy.optimize import fsolve\n",
        "\n",
        "# Define constants and parameters\n",
        "c = 3e10\n",
        "l = 0.3\n",
        "nc = 1.772\n",
        "R = 3\n",
        "\n",
        "# Define the function est\n",
        "def est(R, rep, d, c, l, nc):\n",
        "    numerator = 2 * (2 * c * (l - l * nc + nc * (d - R)) + (-2 * d * (l + d * nc - l * nc) + 2 * l * (-1 + nc) * R + nc * R**2) * rep)\n",
        "    denominator = nc * R**2 * rep\n",
        "    return numerator / denominator\n",
        "\n",
        "# Define the equation function to find the roots\n",
        "def equation_low(d, rep):\n",
        "    return est(R, rep, d, c, l, nc) + 2\n",
        "def equation_up(d, rep):\n",
        "    return est(R, rep, d, c, l, nc) - 2\n",
        "\n",
        "# Generate values for rep\n",
        "rep_vals = np.linspace(0.1, 2, 100)\n",
        "\n",
        "# Arrays to store the numerical solutions for d\n",
        "solutions_low = []\n",
        "solutions_up = []\n",
        "\n",
        "# Loop over each rep value and find the corresponding numerical solutions for d\n",
        "for rep in rep_vals:\n",
        "    # Use fsolve to find the root of the equation for the given rep value\n",
        "    root_low = fsolve(equation_low, 3.8, args=(rep,))\n",
        "    # Store the solution for d\n",
        "    solutions_low.append(root_low[0])\n",
        "    # Use fsolve to find the root of the equation for the given rep value\n",
        "    root_up = fsolve(equation_up, 3.8, args=(rep,))\n",
        "    # Store the solution for d\n",
        "    solutions_up.append(root_up[0])\n",
        "\n",
        "# Plot the numerical solutions as a curve\n",
        "plt.plot(rep_vals, solutions_low, color='r', linewidth=2, label=\"line 1\")\n",
        "plt.plot(rep_vals, solutions_up, color='r', linewidth=2, label=\"line 2\")\n",
        "plt.xlabel(\"Repetition Rate (GHz)\")\n",
        "plt.ylabel(\"d (cm)\")\n",
        "plt.title(\"Numeric Solutions for est(R, rep, d, c, l, nc) == 2\")\n",
        "plt.grid(True)\n",
        "#plt.ylim(3.1, 3.2)\n",
        "plt.show()\n"
      ],
      "metadata": {
        "colab": {
          "base_uri": "https://localhost:8080/",
          "height": 487
        },
        "id": "hGh7elQeTlM2",
        "outputId": "510007df-176d-445b-85b5-ffbd0266a55a"
      },
      "execution_count": null,
      "outputs": [
        {
          "output_type": "display_data",
          "data": {
            "text/plain": [
              "<Figure size 640x480 with 1 Axes>"
            ],
            "image/png": "[encoded data removed]"
          },
          "metadata": {}
        }
      ]
    },
    {
      "cell_type": "markdown",
      "source": [
        "![picture](https://drive.google.com/uc?id=1PJge15q6BNScYxMnH9sa5_2T31Ev_8Az)"
      ],
      "metadata": {
        "id": "qvAsAofe5dG2"
      }
    },
    {
      "cell_type": "code",
      "source": [
        "  # Gráfico com 4 curvas de d (cm) por R (cm)\n",
        "  # Limites: de 1 a 10cm no eixo x e de +/- 1 a 10 no eixo y\n",
        "  ImplicitPlot[{(est[a,0.1,b]^2==4), est[a,0.5,b]^2==4), est[a,1,b]^2==4), {a,1,10}, {b,1,10}}] # Calcula d para R de 1 a 10 (limitando y até 10)"
      ],
      "metadata": {
        "id": "dttEcKGhmOwy"
      },
      "execution_count": null,
      "outputs": []
    },
    {
      "cell_type": "markdown",
      "source": [
        "![picture](https://drive.google.com/uc?id=1lwPUN4XrYSP2TniCca-Z0ipvajgheSNh)"
      ],
      "metadata": {
        "id": "JP_oodyc5cdw"
      }
    },
    {
      "cell_type": "code",
      "source": [
        "(*Definição das constantes*)\n",
        "(*R=3; raio do espelho esférico (cm)*)\n",
        "nc = 1.772; (*índice de refração linear*)\n",
        "c = 3*^10; (*velocidade da luz (cm/s)*)\n",
        "l = 0.3; (*comprimento do cristal (cm)*)\n",
        "wavelength = 780*^-7; (*comprimento de onda (cm)*)\n",
        "\n",
        "(*Definição das matrizes*)\n",
        "M = FullSimplify[{{1, l/2}, {0, 1}} . {{1, 0}, {0, 1/nc}} . {{1,\n",
        "      d/2 - l/2}, {0, 1}} . {{1, 0}, {-2/R, 1}} . {{1, c/rep - d}, {0,\n",
        "       1}} . {{1, 0}, {-2/R, 1}} . {{1, d/2 - l/2}, {0, 1}} . {{1,\n",
        "      0}, {0, nc}} . {{1, l/2}, {0, 1}}];\n",
        "\n",
        "(*Estabilidade da cavidade*)\n",
        "est[R_, rep_, d_] := M[[1, 1]] + M[[2, 2]];\n",
        "\n",
        "(* Resolve a equação de estabilidade da cavidade para R = 3cm e rep = \\\n",
        "1GHz*)\n",
        "NSolve[est[2, 1, d] == -2]\n",
        "\n",
        "(*  Gráfico de d (cm) por rep (GHz) *)\n",
        "(*  Limites:+/-de 0.1 a 1GHZ no eixo x e+/-3.1 a 3.5cm no eixo y *)\n",
        "ContourPlot[(est[3, a, b]^2 == 4), {a, 0.1, 1}, {b, 1, 10},\n",
        "  ContourStyle -> {{Thickness[0.01], RGBColor[1, 0, 0]}},\n",
        "  FrameLabel -> {\"Repetition Rate (GHz)\", \"d (cm)\"}] (* Calcula valores de d para rep de 0.1 a 1GHz *)\n",
        "\n",
        "(* Gráfico com 4 curvas de d (cm) por R (cm) *)\n",
        "(*  Limites: de 1 a 10cm no eixo x e de +/- 1 a 10 no eixo y *)\n",
        "ImplicitPlot[{(est[a,0.1,b]^2==4), est[a,0.5,b]^2==4), est[a,1,b]^2==4), {a,1,10}, {b,1,10}}] (* Calcula d para R de 1 a 10 (limitando y até 10) *)"
      ],
      "metadata": {
        "id": "iwF-NvcM3tKa"
      },
      "execution_count": null,
      "outputs": []
    },
    {
      "cell_type": "markdown",
      "source": [
        "**SPOT ENTRE OS ESPELHOS CURVOS**"
      ],
      "metadata": {
        "id": "DYrAH7u0ms8m"
      }
    },
    {
      "cell_type": "markdown",
      "source": [
        "A cintura do feixe $\\omega$ do laser em um determinado plano $z_i$ é dada por:\n",
        "\n",
        "$$\n",
        "  \\omega^2(z_i) = \\dfrac{|B| \\lambda}{\\pi} \\sqrt{\\dfrac{1}{1 - (A+D)^2/4}}\n",
        "$$\n",
        "\n",
        "que pode ser escrita em função do raio dos espelhos esféricos $R$ e do *free spectral range* $FSR$:\n",
        "\n",
        "$$\n",
        "  \\omega^2(R,FSR,z_i) = \\dfrac{|B| \\lambda}{\\pi} \\sqrt{\\dfrac{1}{1 - \\text{est}(R,FSR,z_i)^2/4}}\n",
        "$$"
      ],
      "metadata": {
        "id": "Ewy_iYt_193N"
      }
    },
    {
      "cell_type": "code",
      "source": [
        "# SPOT ENTRE OS ESPELHOS CURVOS\n",
        "  w(R, rep, d) = sqrt(wavelength/pi*sqrt(M[[1,2]]^2)/sqrt(1 - (est(R, rep, d)/2)^2))"
      ],
      "metadata": {
        "id": "oo_AHtC5mbrC"
      },
      "execution_count": null,
      "outputs": []
    },
    {
      "cell_type": "markdown",
      "source": [
        "A partir de cálculos numéricos com esta condição, é possível obter os resultados:"
      ],
      "metadata": {
        "id": "9zP34aNLFuBg"
      }
    },
    {
      "cell_type": "code",
      "source": [
        "# Gráfico de  w (um) por rep (GHz)\n",
        "  Plot[{w[3,b,3.15]10^4}, {b,0.1,1}] # Calcula w para rep entre 0.1 e 1 fixando d = 3.15cm e R = 3cm"
      ],
      "metadata": {
        "id": "3JoSxfqrFw11"
      },
      "execution_count": null,
      "outputs": []
    },
    {
      "cell_type": "markdown",
      "source": [
        "![picture](https://drive.google.com/uc?id=1n8nJwCbwOY0DsTMoGkhO9WT_RnQY1HYg)"
      ],
      "metadata": {
        "id": "dwJ7YcAa5btP"
      }
    },
    {
      "cell_type": "code",
      "source": [
        "  # Gráfico de w (um) por d (cm) para 3 valores de rep\n",
        "  a1 = 3\n",
        "  k1 = 3\n",
        "  k2 = 5\n",
        "  Plot[ {w[a1,1,b]10^4, w[a1,0.5,b]10^4, w[a1,0.1,b]10^4}, {b, k1, k2}] # Calcula w para d entre k1 e k2 fixando R = 3cm e rep = 1, 0.5 e 0.1GHz"
      ],
      "metadata": {
        "id": "LH5e20j_nF1q"
      },
      "execution_count": null,
      "outputs": []
    },
    {
      "cell_type": "markdown",
      "source": [
        "![picture](https://drive.google.com/uc?id=1h8kifbmZ455za3gjm5bRZQgqubKzPEWR)"
      ],
      "metadata": {
        "id": "9oFr-h8m5aaw"
      }
    },
    {
      "cell_type": "markdown",
      "source": [
        "# **PYTHON: CURVAS DE ESTABILIDADE E CINTURA DO FEIXE INTRACAVIDADE**"
      ],
      "metadata": {
        "id": "bfpmlhK8RIdP"
      }
    },
    {
      "cell_type": "markdown",
      "source": [
        "## **Cálculos de estabilidade**"
      ],
      "metadata": {
        "id": "ppChUMiKHgGk"
      }
    },
    {
      "cell_type": "markdown",
      "source": [
        "Esse código Python visa encontrar o valor de $d$ que satisfaz a equação $\\text{est}(R, \\text{rep}, d) = -2$, onde:\n",
        "\n",
        "- $\\text{est}(R, \\text{rep}, d)$ é uma função que retorna $A + D$ na matriz ABCD, onde $A$ e $D$ são elementos dessa matriz resultante da multiplicação de várias matrizes que representam diferentes estágios ópticos, como espelhos esféricos e espaços livres. Aqui, $R$ é o raio do espelho esférico, $\\text{rep} $ é a taxa de repetição e $d$ é a distância entre os espelhos.\n",
        "\n",
        "- A função `objective_function(d, R, rep)` calcula o valor da função objetivo, que é a diferença entre $\\text{est}(R, \\text{rep}, d)^2$ e $4$.\n",
        "\n",
        "- `minimize_scalar` é usado para encontrar o mínimo da função objetivo em relação a $d$, dadas as constantes $R $ e $\\text{rep}$.\n",
        "\n",
        "- O valor de $d$ que satisfaz a condição é então impresso."
      ],
      "metadata": {
        "id": "TfYQenMSHnHt"
      }
    },
    {
      "cell_type": "code",
      "source": [
        "import numpy as np\n",
        "from scipy import optimize\n",
        "from scipy.optimize import minimize_scalar\n",
        "import matplotlib.pyplot as plt\n",
        "import numpy as np\n",
        "\n",
        "# d = d1+d2\n",
        "# d3 = free-space between the plane mirrors\n",
        "# d1 - crystal (center) - d2\n",
        "# rep = c/(d+d3) -> d3 = c/rep - d\n",
        "\n",
        "def est(R, rep, d):\n",
        "    nc = 1.760            # linear refractive index\n",
        "    c = 30                # speed of light (cm Ghz)\n",
        "    l = 0.3               # crystal length (cm)\n",
        "    wavelength = 780e-7   # wavelenth (cm)\n",
        "\n",
        "    # Matrices (Spherical mirrors, free space, cristal, air-crystal, crystal-air)\n",
        "    M1 = np.array([[1, l/2], [0, 1]])         # free-space\n",
        "    M2 = np.array([[1, 0], [0, 1/nc]])        # ?\n",
        "    M3 = np.array([[1, d/2-l/2], [0, 1]])     # free-space\n",
        "    M4 = np.array([[1, 0], [-2/R, 1]])        # spherical mirror\n",
        "    M5 = np.array([[1, c/rep-d], [0, 1]])     # free-space between the plane mirrors\n",
        "    M6 = np.array([[1, 0], [-2/R, 1]])        # spherical mirror\n",
        "    M7 = np.array([[1, d/2-l/2], [0, 1]])     # free-space\n",
        "    M8 = np.array([[1, 0], [0, nc]])          # ?\n",
        "    M9 = np.array([[1, l/2], [0, 1]])         # free-space\n",
        "\n",
        "    M = M1 @ M2 @ M3 @ M4 @ M5 @ M6 @ M7 @ M8 @ M9  # matrices multiplication\n",
        "    return M[0, 0] + M[1, 1]                        # Return A+D in the ABCD Matrix\n",
        "\n",
        "def objective_function(d, R, rep):\n",
        "    return est(R, rep, d)**2 + 4  # return the absolute value of (A+B + 2 = 0)\n",
        "\n",
        "R = 3.0     # spherical mirror radius (cm)\n",
        "rep = 1.0   # repetition rate\n",
        "result = minimize_scalar(objective_function, args=(R, rep))\n",
        "d = result.x\n",
        "\n",
        "print(f\"The value of d that satisfies est[R,rep,d] == -2 with R={R:.1f}cm and rep={(rep):.1f}GHz is d={d:.4f}cm\")"
      ],
      "metadata": {
        "colab": {
          "base_uri": "https://localhost:8080/"
        },
        "id": "B2YLbY-ORPqb",
        "outputId": "2b69dee6-d26f-4404-bab3-ea9e42cd4d91"
      },
      "execution_count": 1,
      "outputs": [
        {
          "output_type": "stream",
          "name": "stdout",
          "text": [
            "The value of d that satisfies est[R,rep,d] == -2 with R=3.0cm and rep=1.0GHz is d=3.3196cm\n"
          ]
        }
      ]
    },
    {
      "cell_type": "markdown",
      "source": [
        "***O código abaixo não parece ser correto:***"
      ],
      "metadata": {
        "id": "wvy6AYumJMCZ"
      }
    },
    {
      "cell_type": "code",
      "source": [
        "import numpy as np\n",
        "from scipy.optimize import minimize_scalar\n",
        "\n",
        "# Function to calculate est(R, rep, d)\n",
        "def est(R, rep, d):\n",
        "    nc = 1.772            # linear refractive index\n",
        "    c = 30                # speed of light (cm Ghz)\n",
        "    l = 0.3               # crystal length (cm)\n",
        "    wavelength = 780e-7   # wavelenth (cm)\n",
        "\n",
        "    # Matrices (Spherical mirrors, free space, crystal, air-crystal, crystal-air)\n",
        "    M1 = np.array([[1, l/2], [0, 1]])         # free-space\n",
        "    M2 = np.array([[1, 0], [0, 1/nc]])        # ?\n",
        "    M3 = np.array([[1, d/2-l/2], [0, 1]])     # free-space\n",
        "    M4 = np.array([[1, 0], [-2/R, 1]])        # spherical mirror\n",
        "    M5 = np.array([[1, c/rep-d], [0, 1]])     # free-space between the plane mirrors\n",
        "    M6 = np.array([[1, 0], [-2/R, 1]])        # spherical mirror\n",
        "    M7 = np.array([[1, d/2-l/2], [0, 1]])     # free-space\n",
        "    M8 = np.array([[1, 0], [0, nc]])          # ?\n",
        "    M9 = np.array([[1, l/2], [0, 1]])         # free-space\n",
        "\n",
        "    M = M1 @ M2 @ M3 @ M4 @ M5 @ M6 @ M7 @ M8 @ M9  # matrices multiplication\n",
        "    return M[0, 0] + M[1, 1]                        # Return A+D in the ABCD Matrix\n",
        "\n",
        "# Objective function to find the root\n",
        "def objective_function(d, R, rep):\n",
        "    return est(R, rep, d)**2 - 4\n",
        "\n",
        "R = 3.0     # spherical mirror radius (cm)\n",
        "rep = 1.0   # repetition rate\n",
        "\n",
        "# Find the first root using minimize_scalar\n",
        "result = minimize_scalar(objective_function, args=(R, rep))\n",
        "result2 = minimize_scalar(objective_function, bracket=(3.0, (result.x-0.2)), args=(R, rep))\n",
        "\n",
        "# Calculate the second root by subtracting the first root from the total length d\n",
        "d1 = result.x\n",
        "d2 = result2.x\n",
        "print(f\"The two values of d that satisfy est[R,rep,d]^2 - 4 == 0 with R={R:.1f}cm and rep={rep:.1f}GHz are d1={d1:.4f}cm and d2={d2:.4f}cm\")\n"
      ],
      "metadata": {
        "colab": {
          "base_uri": "https://localhost:8080/"
        },
        "id": "LHE668B7PCl3",
        "outputId": "49d4156c-1ae6-48eb-f804-9f413a657f64"
      },
      "execution_count": null,
      "outputs": [
        {
          "output_type": "stream",
          "name": "stdout",
          "text": [
            "The two values of d that satisfy est[R,rep,d]^2 - 4 == 0 with R=3.0cm and rep=1.0GHz are d1=3.3207cm and d2=3.3207cm\n"
          ]
        }
      ]
    },
    {
      "cell_type": "markdown",
      "source": [
        "## **Curvas de cintura do feixe e distância entre os espelhos**"
      ],
      "metadata": {
        "id": "tkaGk9X3HyT4"
      }
    },
    {
      "cell_type": "markdown",
      "source": [
        "### **Gráfico da variação do spot e da distancia entre os espelhos curvos em relação a frep**\n",
        "\n",
        "Este código Python calcula e traça duas curvas em um gráfico com relação à taxa de repetição (rep em GHz):\n",
        "\n",
        "1. **Curva de d (cm)**: A função `objective_function` é usada para encontrar a distância d entre os espelhos esféricos para cada valor de rep que satisfaz a equação $\\text{est}(R, \\text{rep}, d)^2 + 4 = 0 $. Isso é feito iterando sobre uma gama de valores de rep e calculando d usando `minimize_scalar`.\n",
        "\n",
        "2. **Curva de $w$ (μm)**: A função `w` calcula o tamanho do spot entre os espelhos esféricos (w) para cada valor de rep. Isso é feito usando a matriz ABCD e as fórmulas para calcular o tamanho do ponto a partir dos parâmetros da matriz ABCD.\n",
        "\n",
        "Ambas as curvas são traçadas em um único gráfico, com o eixo x representando a taxa de repetição (rep em GHz). O eixo y à esquerda representa a distância d entre os espelhos esféricos (em cm), enquanto o eixo y à direita representa o tamanho do spot w entre os espelhos esféricos (em μm)."
      ],
      "metadata": {
        "id": "sv_dmncrKcEy"
      }
    },
    {
      "cell_type": "code",
      "source": [
        "import numpy as np\n",
        "from scipy.optimize import minimize_scalar\n",
        "import matplotlib.pyplot as plt\n",
        "\n",
        "wavelength = 780e-7   # wavelength (cm)\n",
        "R = 3.0               # spherical mirror radius (cm)\n",
        "d = 3.15\n",
        "\n",
        "def ABCD(R, rep, d):\n",
        "    nc = 1.772            # linear refractive index\n",
        "    c = 30                # speed of light (cm Ghz)\n",
        "    l = 0.3               # crystal length (cm)\n",
        "\n",
        "    # Matrices (Spherical mirrors, free space, crystal, air-crystal, crystal-air)\n",
        "    M1 = np.array([[1, l/2], [0, 1]])         # free-space\n",
        "    M2 = np.array([[1, 0], [0, 1/nc]])        # crystal\n",
        "    M3 = np.array([[1, d/2-l/2], [0, 1]])     # free-space\n",
        "    M4 = np.array([[1, 0], [-2/R, 1]])        # spherical mirror\n",
        "    M5 = np.array([[1, c/rep-d], [0, 1]])     # free-space between the plane mirrors\n",
        "    M6 = np.array([[1, 0], [-2/R, 1]])        # spherical mirror\n",
        "    M7 = np.array([[1, d/2-l/2], [0, 1]])     # free-space\n",
        "    M8 = np.array([[1, 0], [0, nc]])          # crystal\n",
        "    M9 = np.array([[1, l/2], [0, 1]])         # free-space\n",
        "\n",
        "    M = M1 @ M2 @ M3 @ M4 @ M5 @ M6 @ M7 @ M8 @ M9  # matrices multiplication\n",
        "    return M  # Return the ABCD Matrix\n",
        "\n",
        "def est(M):\n",
        "    return M[0, 0] + M[1, 1]      # Return A+D in the ABCD Matrix\n",
        "\n",
        "def objective_function(d, R, rep):\n",
        "    M = ABCD(R, rep, d)  # Calculate the ABCD matrix using the given parameters\n",
        "    return est(M)**2 + 4  # Return (A+B)² + 4\n",
        "\n",
        "# spot size between the spherical mirrors\n",
        "def w(R, rep, d):\n",
        "    M = ABCD(R, rep, d)  # Calculate the ABCD matrix using the given parameters\n",
        "    w0 = np.sqrt(wavelength/np.pi*np.sqrt(M[0, 1].item()**2)/np.sqrt(1 - (est(M)/2)**2))\n",
        "    return w0\n",
        "\n",
        "rep_values = np.linspace(0.1, 1, 1000)    # repetition rate (GHz)\n",
        "\n",
        "# Calculate the d values for rep values\n",
        "d_values = []\n",
        "for rep in rep_values:\n",
        "    result = minimize_scalar(objective_function, args=(R, rep))\n",
        "    d_values.append(result.x)\n",
        "\n",
        "# Calculate the w values for rep values\n",
        "w_values = [w(R, rep, d)*1e4 for rep in rep_values]\n",
        "\n",
        "fig, ax1 = plt.subplots()\n",
        "\n",
        "color = 'tab:red'\n",
        "ax1.set_xlabel('rep (GHz)')\n",
        "ax1.set_ylabel('d (cm)', color=color)\n",
        "ax1.plot(rep_values, d_values, color=color)\n",
        "ax1.tick_params(axis='y', labelcolor=color)\n",
        "\n",
        "ax2 = ax1.twinx()  # instantiate a second axes that shares the same x-axis\n",
        "\n",
        "color = 'tab:blue'\n",
        "ax2.set_ylabel('w (μm)',color=color) # label and color of y-axis\n",
        "ax2.plot(rep_values, w_values, color=color) # plot the second curve\n",
        "ax2.tick_params(axis='y', labelcolor=color)\n",
        "\n",
        "fig.tight_layout() # otherwise the right y-label is slightly clipped\n",
        "plt.show() # show the plot"
      ],
      "metadata": {
        "colab": {
          "base_uri": "https://localhost:8080/",
          "height": 486
        },
        "id": "3kJVEnS9qN0g",
        "outputId": "c5c3ff20-718f-43ee-ef17-236492cc6c24"
      },
      "execution_count": null,
      "outputs": [
        {
          "output_type": "display_data",
          "data": {
            "text/plain": [
              "<Figure size 640x480 with 2 Axes>"
            ],
            "image/png": "[encoded data removed]"
          },
          "metadata": {}
        }
      ]
    },
    {
      "cell_type": "markdown",
      "source": [
        "### **Gráfico da distância entre os espelhos curvos em relação ao raio dos mesmos**\n",
        "\n",
        "Este código Python calcula e traça curvas de $d$ em função do raio do espelho esférico $R$ para diferentes taxas de repetição ($\\text{rep}$).\n",
        "\n",
        "O código consiste nas seguintes partes:\n",
        "\n",
        "1. **Função de Objetivo (`objective_function`)**:\n",
        "   - Calcula o valor de $d$ para uma determinada taxa de repetição $( \\text{rep} $) e raio do espelho esférico ($R$).\n",
        "   - Usa a função `minimize_scalar` do `scipy.optimize` para minimizar a função objetivo $\\text{est}(R, \\text{rep}, d)^2 + 4$ em relação a $d$.\n",
        "   \n",
        "2. **Loop para Calcular os Valores de $d$**:\n",
        "   - Itera sobre os valores de $R$ especificados no array `r_values`.\n",
        "   - Para cada valor de $R$, encontra o valor correspondente de $d$ para cada taxa de repetição em `rep_values`.\n",
        "   - Armazena os valores de $d$ calculados em uma lista de listas `d_values`, onde cada lista interna corresponde a uma taxa de repetição diferente.\n",
        "\n",
        "3. **Plotagem**:\n",
        "   - Usa a biblioteca `matplotlib.pyplot` para traçar as curvas de $d$ em função de $R$ para cada taxa de repetição.\n",
        "   - Configura os rótulos dos eixos, a legenda e os limites do eixo y.\n",
        "\n",
        "Este código é útil para visualizar como a distância $d$ entre os espelhos esféricos varia com o raio do espelho esférico $R$ para diferentes taxas de repetição ($\\text{rep}$)."
      ],
      "metadata": {
        "id": "DMF00TqcK7Tk"
      }
    },
    {
      "cell_type": "code",
      "source": [
        "import numpy as np\n",
        "from scipy import optimize\n",
        "from scipy.optimize import minimize_scalar\n",
        "import matplotlib.pyplot as plt\n",
        "import numpy as np\n",
        "\n",
        "# d = d1+d2\n",
        "# d3 = free-space between the plane mirrors\n",
        "# d1 - crystal (center) - d2\n",
        "# rep = c/(d+d3) -> d3 = c/rep - d\n",
        "\n",
        "def est(R, rep, d):\n",
        "    nc = 1.772            # linear refractive index\n",
        "    c = 30                # speed of light (cm Ghz)\n",
        "    l = 0.3               # crystal length (cm)\n",
        "    wavelength = 780e-7   # wavelenth (cm)\n",
        "\n",
        "    # Matrices (Spherical mirrors, free space, cristal, air-crystal, crystal-air)\n",
        "    M1 = np.array([[1, l/2], [0, 1]])         # free-space\n",
        "    M2 = np.array([[1, 0], [0, 1/nc]])        # ?\n",
        "    M3 = np.array([[1, d/2-l/2], [0, 1]])     # free-space\n",
        "    M4 = np.array([[1, 0], [-2/R, 1]])        # spherical mirror\n",
        "    M5 = np.array([[1, c/rep-d], [0, 1]])     # free-space between the plane mirrors\n",
        "    M6 = np.array([[1, 0], [-2/R, 1]])        # spherical mirror\n",
        "    M7 = np.array([[1, d/2-l/2], [0, 1]])     # free-space\n",
        "    M8 = np.array([[1, 0], [0, nc]])          # ?\n",
        "    M9 = np.array([[1, l/2], [0, 1]])         # free-space\n",
        "\n",
        "    M = M1 @ M2 @ M3 @ M4 @ M5 @ M6 @ M7 @ M8 @ M9  # matrices multiplication\n",
        "    return M[0, 0] + M[1, 1]                        # Return A+D in the ABCD Matrix\n",
        "\n",
        "def objective_function(d, R, rep):\n",
        "    return est(R, rep, d)**2 + 4  # return (A+B)² = 4\n",
        "\n",
        "rep_values = [0.1, 0.5, 1]          # repetition rate (GHz)\n",
        "r_values = np.linspace(1, 10, 1000)  # spherical mirror radius (cm)\n",
        "d_values = [[] for i in range(len(rep_values))]  # list of lists to store d values for each rep\n",
        "\n",
        "fig, ax = plt.subplots()\n",
        "\n",
        "for i, rep in enumerate(rep_values):\n",
        "    for R in r_values:\n",
        "        result = minimize_scalar(objective_function, args=(R, rep))\n",
        "        d_values[i].append(result.x)\n",
        "    ax.plot(r_values, d_values[i], label=f\"Rep={rep} GHz\")\n",
        "\n",
        "ax.set_xlabel(\"d (cm)\")\n",
        "ax.set_ylabel(\"R (cm)\")\n",
        "ax.legend()\n",
        "ax.set_ylim([0, 10])\n",
        "plt.show()"
      ],
      "metadata": {
        "colab": {
          "base_uri": "https://localhost:8080/",
          "height": 455
        },
        "id": "rxBGbWJ2yJPG",
        "outputId": "af5e845b-b251-455c-95b8-c57a001933bf"
      },
      "execution_count": null,
      "outputs": [
        {
          "output_type": "display_data",
          "data": {
            "text/plain": [
              "<Figure size 640x480 with 1 Axes>"
            ],
            "image/png": "[encoded data removed]"
          },
          "metadata": {}
        }
      ]
    },
    {
      "cell_type": "markdown",
      "source": [
        "### **Tamanho do spot em função da distância entre os espelhos curvos (diferentes curvas para diferentes frep)**\n",
        "\n",
        "Este código Python calcula e traça curvas de tamanho do spot ($w$) em função da distância $d$ entre os espelhos esféricos para diferentes taxas de repetição $( \\text{rep} $).\n",
        "\n",
        "O código consiste nas seguintes partes:\n",
        "\n",
        "1. **Função de Objetivo (`objective_function`)**:\n",
        "   - Calcula o valor de $w $ para uma determinada distância $d$, raio do espelho esférico $R$ e taxa de repetição ($\\text{rep}$).\n",
        "   - Usa a função `ABCD` para calcular a matriz ABCD correspondente usando os parâmetros fornecidos.\n",
        "   - Calcula o tamanho do spot $w$ usando a expressão fornecida.\n",
        "   \n",
        "2. **Loop para Calcular os Valores de $w$**:\n",
        "   - Itera sobre os valores de $d$ especificados no array `d_values`.\n",
        "   - Para cada valor de $d$, encontra o valor correspondente de $w$ para cada taxa de repetição em `rep_values`.\n",
        "   - Armazena os valores de $w$ calculados em uma lista de listas `w_values`, onde cada lista interna corresponde a uma taxa de repetição diferente.\n",
        "\n",
        "3. **Plotagem**:\n",
        "   - Usa a biblioteca `matplotlib.pyplot` para traçar as curvas de $w$ em função de $d$ para cada taxa de repetição.\n",
        "   - Configura os rótulos dos eixos, a legenda e a unidade do eixo y para micrômetros ($\\mu m $).\n",
        "\n",
        "Este código é útil para visualizar como o tamanho do spot $w$ varia com a distância $d$ entre os espelhos esféricos para diferentes taxas de repetição ($ \\text{rep}$)."
      ],
      "metadata": {
        "id": "VmbHLdnDLnqu"
      }
    },
    {
      "cell_type": "code",
      "source": [
        "import numpy as np\n",
        "from scipy.optimize import minimize_scalar\n",
        "import matplotlib.pyplot as plt\n",
        "\n",
        "wavelength = 780e-7   # wavelength (cm)\n",
        "R = 3.0               # spherical mirror radius (cm)\n",
        "\n",
        "def ABCD(R, rep, d):\n",
        "    nc = 1.772            # linear refractive index\n",
        "    c = 30                # speed of light (cm Ghz)\n",
        "    l = 0.3               # crystal length (cm)\n",
        "\n",
        "    # Matrices (Spherical mirrors, free space, crystal, air-crystal, crystal-air)\n",
        "    M1 = np.array([[1, l/2], [0, 1]])         # free-space\n",
        "    M2 = np.array([[1, 0], [0, 1/nc]])        # crystal\n",
        "    M3 = np.array([[1, d/2-l/2], [0, 1]])     # free-space\n",
        "    M4 = np.array([[1, 0], [-2/R, 1]])        # spherical mirror\n",
        "    M5 = np.array([[1, c/rep-d], [0, 1]])     # free-space between the plane mirrors\n",
        "    M6 = np.array([[1, 0], [-2/R, 1]])        # spherical mirror\n",
        "    M7 = np.array([[1, d/2-l/2], [0, 1]])     # free-space\n",
        "    M8 = np.array([[1, 0], [0, nc]])          # crystal\n",
        "    M9 = np.array([[1, l/2], [0, 1]])         # free-space\n",
        "\n",
        "    M = M1 @ M2 @ M3 @ M4 @ M5 @ M6 @ M7 @ M8 @ M9  # matrices multiplication\n",
        "    return M  # Return the ABCD Matrix\n",
        "\n",
        "def est(M):\n",
        "    return M[0, 0] + M[1, 1]      # Return A+D in the ABCD Matrix\n",
        "\n",
        "def objective_function(d, R, rep):\n",
        "    M = ABCD(R, rep, d)  # Calculate the ABCD matrix using the given parameters\n",
        "    return est(M)**2 + 4  # Return (A+B)² + 4\n",
        "\n",
        "# spot size between the spherical mirrors\n",
        "def w(R, rep, d):\n",
        "    M = ABCD(R, rep, d)  # Calculate the ABCD matrix using the given parameters\n",
        "    w0 = np.sqrt(wavelength/np.pi*np.sqrt(M[0, 1].item()**2)/np.sqrt(1 - (est(M)/2)**2))\n",
        "    return w0\n",
        "\n",
        "fig, ax = plt.subplots()\n",
        "\n",
        "rep_values = [0.1, 0.5, 1]          # repetition rate (GHz)\n",
        "d_values = np.linspace(3, 4, 1000)    # repetition rate (GHz)\n",
        "w_values = [[] for _ in rep_values]\n",
        "\n",
        "for i, rep in enumerate(rep_values):\n",
        "    for d in d_values:\n",
        "        w_values[i].append(w(R, rep, d)*1e4)  # Calculate the w values for d values\n",
        "    ax.plot(d_values, w_values[i], label=f\"Rep={rep} GHz\")\n",
        "\n",
        "ax.set_xlabel(\"d (cm)\")\n",
        "ax.set_ylabel(\"w (µm)\")\n",
        "ax.legend()\n",
        "plt.show()"
      ],
      "metadata": {
        "colab": {
          "base_uri": "https://localhost:8080/",
          "height": 485
        },
        "id": "0OhsRYel6EWT",
        "outputId": "fc53c588-6b4b-4ffb-c59d-a399712ffbc3"
      },
      "execution_count": null,
      "outputs": [
        {
          "output_type": "stream",
          "name": "stderr",
          "text": [
            "<ipython-input-6-93d25a61d12b>:37: RuntimeWarning: invalid value encountered in sqrt\n",
            "  w0 = np.sqrt(wavelength/np.pi*np.sqrt(M[0, 1].item()**2)/np.sqrt(1 - (est(M)/2)**2))\n"
          ]
        },
        {
          "output_type": "display_data",
          "data": {
            "text/plain": [
              "<Figure size 640x480 with 1 Axes>"
            ],
            "image/png": "[encoded data removed]"
          },
          "metadata": {}
        }
      ]
    },
    {
      "cell_type": "markdown",
      "source": [
        "# **CÁLCULOS DE KERR LENS SENSITIVITY** (rascunhos)"
      ],
      "metadata": {
        "id": "wE8VoMxDnWZW"
      }
    },
    {
      "cell_type": "markdown",
      "source": [
        "**DEFINIÇÃO DE PARÂMETROS**\n",
        "\n",
        "```\n",
        "# CÁLCULO DO KERR LENS SENSITIVITY\n",
        "\n",
        "    #   ->        R(  x    //     y  )R\n",
        "    #         d3                         d5\n",
        "    #   Rc |              d4                  | ->\n",
        "```"
      ],
      "metadata": {
        "id": "WxJ_e-t7nv8W"
      }
    },
    {
      "cell_type": "code",
      "source": [
        "# Estabilidade, waist, kerr\n",
        "n2 = 775e-6   # nonlinear refractive index of crystal (mm^2/W)\n",
        "d3 = 90       # distance between M2 e P1 (mm)\n",
        "d4 = 90       # distance between P1 e OC (mm)\n",
        "d5 = 90       # distance between M1 e OC (mm)\n",
        "lc = 3        #  crystal length (mm)\n",
        "R = 30        # spherical mirrors radius\n",
        "Rc = 10000  # Plane mirror (mm)\n",
        "# k = 0 -> sem lente | k = 1 -> com lente\n",
        "# e = 0 -> Rc = espelho plano | e = 1 -> Rc = espelho convexo"
      ],
      "metadata": {
        "id": "vvU4PeaI82lB"
      },
      "execution_count": null,
      "outputs": []
    },
    {
      "cell_type": "markdown",
      "source": [
        "$$ FSR = \\dfrac{c}{d} = \\dfrac{3\\cdot 10^8}{d_1+d_2+d_3+d_4+d_5} $$"
      ],
      "metadata": {
        "id": "NNDifLYH7qPR"
      }
    },
    {
      "cell_type": "code",
      "source": [
        "# Define frep (repetition rate) = speed of light / cavity total length\n",
        "frep[x,y] = 3e11/(d3+d4+d5+x+y)"
      ],
      "metadata": {
        "id": "Ml0R_co586IQ",
        "colab": {
          "base_uri": "https://localhost:8080/",
          "height": 162
        },
        "outputId": "98da151d-53e1-4f47-fecc-c556dd9afd05"
      },
      "execution_count": null,
      "outputs": [
        {
          "output_type": "error",
          "ename": "NameError",
          "evalue": "name 'd3' is not defined",
          "traceback": [
            "\u001b[0;31m---------------------------------------------------------------------------\u001b[0m",
            "\u001b[0;31mNameError\u001b[0m                                 Traceback (most recent call last)",
            "\u001b[0;32m<ipython-input-73-c4b4d29d79fc>\u001b[0m in \u001b[0;36m<cell line: 2>\u001b[0;34m()\u001b[0m\n\u001b[1;32m      1\u001b[0m \u001b[0;31m# Define frep (repetition rate) = speed of light / cavity total length\u001b[0m\u001b[0;34m\u001b[0m\u001b[0;34m\u001b[0m\u001b[0m\n\u001b[0;32m----> 2\u001b[0;31m \u001b[0mfrep\u001b[0m\u001b[0;34m[\u001b[0m\u001b[0mx\u001b[0m\u001b[0;34m,\u001b[0m\u001b[0my\u001b[0m\u001b[0;34m]\u001b[0m \u001b[0;34m=\u001b[0m \u001b[0;36m3e11\u001b[0m\u001b[0;34m/\u001b[0m\u001b[0;34m(\u001b[0m\u001b[0md3\u001b[0m\u001b[0;34m+\u001b[0m\u001b[0md4\u001b[0m\u001b[0;34m+\u001b[0m\u001b[0md5\u001b[0m\u001b[0;34m+\u001b[0m\u001b[0mx\u001b[0m\u001b[0;34m+\u001b[0m\u001b[0my\u001b[0m\u001b[0;34m)\u001b[0m\u001b[0;34m\u001b[0m\u001b[0;34m\u001b[0m\u001b[0m\n\u001b[0m",
            "\u001b[0;31mNameError\u001b[0m: name 'd3' is not defined"
          ]
        }
      ]
    },
    {
      "cell_type": "markdown",
      "source": [
        "$$\n",
        "    P_p = \\frac{1}{2} \\cdot \\dfrac{1.2}{f} \\cdot \\dfrac{2}{\\sqrt{\\pi}} \\, Erf[1/f]\n",
        "$$"
      ],
      "metadata": {
        "id": "H_QeZj3d85S3"
      }
    },
    {
      "cell_type": "code",
      "source": [
        "# Define Pp (potência intracavidade??)\n",
        "Pp[x,y] = ((0.5*1.2)/frep[x,y])*2/(sqrt(pi)*1e-12*Erf[1/(frep[x,y]*1e-12)])  # ??????????\n"
      ],
      "metadata": {
        "id": "BSEjKH12nfRi"
      },
      "execution_count": null,
      "outputs": []
    },
    {
      "cell_type": "markdown",
      "source": [
        "**DEFINIÇÃO DE FUNÇÕES**"
      ],
      "metadata": {
        "id": "tSbW0hIBn_NW"
      }
    },
    {
      "cell_type": "code",
      "source": [
        "M = FullSimplify[\n",
        "    {{1,lc/(2nc)}, {0,1}}.{{1,y-lc/2},{0,1}}.{{1,0},{-2/R, 1}}.{{1,d5},{0,1}}.{{1,0},{-2e/Rc,1}}.{{1,d3+d4},{0,1}}.{{1,0},{-2/R,1}}.{{1,x-lc/2},{0,1}}.{{1,lc/(2nc)},{0,1}}.{{0,1},{-k*(4*n2*P*lc/(pi*wo^4)),1}},\n",
        "    {x>0,y>0,n>0}] # matriz do sistema\n",
        "\n",
        "estv[w1,x1,y1,e1,k1] =\n",
        "    Simplify[M[[1,1]]+M[[2,2]]/.{x->x1, y->y1, k->k1, e->e1, wo->w1, P->Pp[x1,y1]}] # estabilidade\n",
        "\n",
        "wv[P, w1, x1, y1, e1, k1] =\n",
        "    ((wavelength/pi)^2 * M[[1,2]]^2/(1- ((M[[1,1]]-M[[2,2]])/2)) )^(1/4) /. {x->x1, y->y1, k->k1, e->e1, wo->w1, P->P1} # beam waist\n",
        "\n",
        "kerr[c,y,e] :=\n",
        "    Limit[1/wv[P, wn[x,y,e], x,y,e,1] D[wv[P, wn[x,y,e], x,y,e,1], P], P->0]//N # kerr lens sensitivity"
      ],
      "metadata": {
        "id": "iYCOvtRKn9uo"
      },
      "execution_count": null,
      "outputs": []
    },
    {
      "cell_type": "code",
      "source": [
        "import numpy as np\n",
        "import sympy as sp\n",
        "\n",
        "# Estabilidade, waist, kerr\n",
        "n2 = 775e-6   # nonlinear refractive index of crystal (mm^2/W)\n",
        "d3 = 90       # distance between M2 e P1 (mm)\n",
        "d4 = 90       # distance between P1 e OC (mm)\n",
        "d5 = 90       # distance between M1 e OC (mm)\n",
        "lc = 3        #  crystal length (mm)\n",
        "R = 30        # spherical mirrors radius\n",
        "Rc = 10000  # Plane mirror (mm)\n",
        "# k = 0 -> sem lente | k = 1 -> com lente\n",
        "# e = 0 -> Rc = espelho plano | e = 1 -> Rc = espelho convexo\n",
        "\n",
        "def frep(x,y):\n",
        "    return 3e11/(d3+d4+d5+x+y)\n",
        "\n",
        "def Pp(x,y):\n",
        "    return ((0.5*1.2)/frep(x,y))*2/(np.sqrt(np.i)*1e-12*Erf[1/(frep(x,y)*1e-12)])\n",
        "\n",
        "\n",
        "def ABCD(R, rep, d, lc, nc, Rc, e, k, n2, P, wo):\n",
        "    # Define constants\n",
        "    c = 30                # speed of light (cm GHz)\n",
        "    l = 0.3               # crystal length (cm)\n",
        "    pi = np.pi            # Pi\n",
        "\n",
        "    # Define the matrices\n",
        "    M1 = np.array([[1, lc/(2*nc)], [0, 1]])                                    # free-space\n",
        "    M2 = np.array([[1, 0], [0, 1]])                                             # free-space\n",
        "    M3 = np.array([[1, 0], [-2/R, 1]])                                           # spherical mirror\n",
        "    M4 = np.array([[1, d], [0, 1]])                                              # free-space\n",
        "    M5 = np.array([[1, 0], [-2*e/Rc, 1]])                                        # spherical mirror\n",
        "    M6 = np.array([[1, d], [0, 1]])                                              # free-space\n",
        "    M7 = np.array([[1, 0], [-2/R, 1]])                                           # spherical mirror\n",
        "    M8 = np.array([[1, lc/(2*nc)], [0, 1]])                                      # free-space\n",
        "    M9 = np.array([[0, 1], [-k*(4*n2*P*lc/(pi*wo**4)), 1]])                       # free-space\n",
        "\n",
        "    # Perform the matrices multiplication\n",
        "    M = M1 @ M2 @ M3 @ M4 @ M5 @ M6 @ M7 @ M8 @ M9\n",
        "\n",
        "    return M  # Return the ABCD Matrix\n",
        "\n",
        "def estv(w1, x1, y1, e1, k1):\n",
        "\n",
        "    # Define symbols\n",
        "    x, y, e, k, wo, Pp = sp.symbols('x y e k wo Pp')\n",
        "\n",
        "    # Define the ABCD matrix M (replace with your actual matrix)\n",
        "    M = ABCD(R, rep(x1,y1), (d3+d4+d5+x+y), lc, nc, Rc, e, k, n2, P, wo)\n",
        "    # Compute stability\n",
        "    stability = sp.simplify((M[0,0] + M[1,1]).subs({x: x1, y: y1, k: k1, e: e1, wo: w1, P: Pp}))\n",
        "\n",
        "    return stability\n",
        "\n",
        "\n",
        "def wv(P, w1, x1, y1, e1, k1):\n",
        "\n",
        "    # Define the ABCD matrix M (replace with your actual matrix)\n",
        "    M = ABCD(R, rep, d, lc, nc, Rc, e, k, n2, P, wo)\n",
        "\n",
        "    # Compute beam waist\n",
        "    x, y, e, k, wo, P1 = sp.symbols('x y e k wo P1')\n",
        "    beam_waist = ((wavelength/pi)**2 * M[0,1]**2/(1- ((M[0,0]-M[1,1])/2)) )**(1/4)\n",
        "    beam_waist = beam_waist.subs({x: x1, y: y1, k: k1, e: e1, wo: w1, P: P1})\n",
        "\n",
        "    return beam_waist\n",
        "\n",
        "def kerr(c, y, e):\n",
        "    # Define symbols\n",
        "    x, y, e, P = sp.symbols('x y e P')\n",
        "\n",
        "    # Compute kerr lens sensitivity\n",
        "    kerr_sensitivity = sp.limit(1/wv(P, wn(x, y, e), x, y, e, 1) * sp.diff(wv(P, wn(x, y, e), x, y, e, 1), P), P, 0)\n",
        "\n",
        "    return kerr_sensitivity.evalf()  # Evaluate the expression numerically\n",
        "\n",
        "NSolve[estv[wn[x,x,0], x, x, 0, 0]^2==4, x]\n",
        "NSolve[estv[wn[x,x,1], x, x, 0, 1]^2==4, x]"
      ],
      "metadata": {
        "id": "jyn81bm1T7-7"
      },
      "execution_count": null,
      "outputs": []
    },
    {
      "cell_type": "markdown",
      "source": [
        "# **PARÂMETRO KERR EM PYTHON**"
      ],
      "metadata": {
        "id": "u6pkoaA1DPlU"
      }
    },
    {
      "cell_type": "code",
      "source": [
        "import numpy as np\n",
        "import sympy as sp\n",
        "import matplotlib.pyplot as plt\n",
        "\n",
        "# Stability, waist, kerr\n",
        "nc = 1.772   # Refractive index of crystal\n",
        "n2 = 775e-6   # Nonlinear refractive index of crystal (mm^2/W)\n",
        "d3 = 90       # Distance between M2 and P1 (mm)\n",
        "d4 = 90       # Distance between P1 and OC (mm)\n",
        "d5 = 90       # Distance between M1 and OC (mm)\n",
        "lc = 3        # Crystal length (mm)\n",
        "R = 30        # Spherical mirrors radius\n",
        "Rc = 1000    # Plane mirror (mm)\n",
        "\n",
        "# Define constants\n",
        "pi = np.pi  # Pi\n",
        "\n",
        "def frep(x, y):\n",
        "    return 3e11 / (d3 + d4 + d5 + x + y)\n",
        "\n",
        "def Pp(x, y):\n",
        "    return ((0.5 * 1.2) / frep(x, y)) * 2 / (sp.sqrt(pi) * 1e-12 * sp.erf(1 / (frep(x, y) * 1e-12)))\n",
        "\n",
        "def Mn(x, y, e):\n",
        "    # Define the matrices\n",
        "    M1 = np.array([[1, lc / (2 * nc)], [0, 1]])                               # Free-space\n",
        "    M2 = np.array([[1, y - lc / 2], [0, 1]])                                    # Free-space\n",
        "    M3 = np.array([[1, 0], [-2 / R, 1]])                                        # Spherical mirror\n",
        "    M4 = np.array([[1, d5], [0, 1]])                                            # Free-space\n",
        "    M5 = np.array([[1, 0], [-2 * e / Rc, 1]])                                   # Spherical mirror\n",
        "    M6 = np.array([[1, d3 + d4], [0, 1]])                                       # Free-space\n",
        "    M7 = np.array([[1, 0], [-2 / R, 1]])                                        # Spherical mirror\n",
        "    M8 = np.array([[1, x - lc / 2], [0, 1]])                                    # Free-space\n",
        "    M9 = np.array([[1, lc / (2 * nc)], [0, 1]])                                 # Free-space\n",
        "\n",
        "    # Perform the matrices multiplication\n",
        "    Mn = M1 @ M2 @ M3 @ M4 @ M5 @ M6 @ M7 @ M8 @ M9\n",
        "\n",
        "    return Mn  # Return the ABCD Matrix\n",
        "\n",
        "def estn(x1, y1, e1):\n",
        "    # Define the ABCD matrix M\n",
        "    ABCD = Mn(x1, y1, e1)\n",
        "    # Compute stability\n",
        "    stability = sp.simplify(ABCD[0, 0] + ABCD[1, 1])\n",
        "    # Return the stability\n",
        "    return stability\n",
        "\n",
        "def wn(x1, y1, e1):\n",
        "    # Define the ABCD matrix M\n",
        "    ABCD = Mn(x1, y1, e1)\n",
        "    # Compute beam waist\n",
        "    beam_waist = ((1 / np.pi) ** 2 * ABCD[0, 1] ** 2 / (1 - ((ABCD[0, 0] - ABCD[1, 1]) / 2))) ** (1 / 4)\n",
        "    # Return the beam waist\n",
        "    return beam_waist\n",
        "\n",
        "def M(P, w0, x, y, e, k):\n",
        "    # Define the matrices\n",
        "    M1 = np.array([[1, lc / (2 * nc)], [0, 1]])                                                                   # Free-space\n",
        "    M2 = np.array([[1, y - lc / 2], [0, 1]])                                                                      # Free-space\n",
        "    M3 = np.array([[1, 0], [-2 / R, 1]])                                                                          # Spherical mirror\n",
        "    M4 = np.array([[1, d5], [0, 1]])                                                                              # Free-space\n",
        "    M5 = np.array([[1, 0], [-2 * e / Rc, 1]])                                                                     # Spherical mirror\n",
        "    M6 = np.array([[1, d3 + d4], [0, 1]])                                                                         # Free-space\n",
        "    M7 = np.array([[1, 0], [-2 / R, 1]])                                                                          # Spherical mirror\n",
        "    M8 = np.array([[1, x - lc / 2], [0, 1]])                                                                      # Free-space\n",
        "    M9 = np.array([[1, lc / (2 * nc)], [0, 1]])                                                                   # Free-space\n",
        "    M10 = np.array([[0, 1], [-k * (4 * n2 * P * lc / (pi * w0 ** 4)), 1]])                                       # Kerr-lens\n",
        "\n",
        "    # Perform the matrices multiplication\n",
        "    M = M1 @ M2 @ M3 @ M4 @ M5 @ M6 @ M7 @ M8 @ M9 @ M10\n",
        "\n",
        "    return M  # Return the ABCD Matrix\n",
        "\n",
        "def estv(w1, x1, y1, e1, k1):\n",
        "    # Define the ABCD matrix M\n",
        "    ABCD = M(Pp(x1, y1), w1, x1, y1, e1, k1)\n",
        "    # Compute stability\n",
        "    stability = sp.simplify(ABCD[0, 0] + ABCD[1, 1])\n",
        "    # Return the stability\n",
        "    return stability\n",
        "\n",
        "def wv(P1, w1, x1, y1, e1, k1):\n",
        "    # Define the ABCD matrix M\n",
        "    ABCD = M(P1, w1, x1, y1, e1, k1)\n",
        "    # Compute beam waist\n",
        "    beam_waist = ((1 / np.pi) ** 2 * ABCD[0, 1] ** 2 / (1 - ((ABCD[0, 0] - ABCD[1, 1]) / 2))) ** (1 / 4)\n",
        "    # Return the beam waist\n",
        "    return beam_waist\n",
        "\n",
        "def kerr(x, y, e):\n",
        "    # Compute kerr lens sensitivity\n",
        "    kerr_sensitivity = sp.limit(1 / wv(Pp(x,y), wn(x, y, e), x, y, e, 1) * sp.diff(wv(Pp(x,y), wn(x, y, e), x, y, e, 1), Pp(x,y)), Pp(x,y), 0)\n",
        "    return kerr_sensitivity.evalf()  # Evaluate the expression numerically"
      ],
      "metadata": {
        "id": "FeNDns4_T-yL"
      },
      "execution_count": 67,
      "outputs": []
    },
    {
      "cell_type": "markdown",
      "source": [
        "**Evaluation of the stability functions**"
      ],
      "metadata": {
        "id": "gy49cDsyEAUl"
      }
    },
    {
      "cell_type": "code",
      "source": [
        "# Define symbolic variable x\n",
        "x = sp.symbols('x')\n",
        "\n",
        "# Define the function to be plotted\n",
        "func1 = estv(wn(x, x, 0), x, x, 0, 0) ** 2 - 4   # e = 0, k = 0\n",
        "func2 = estv(wn(x, x, 0), x, x, 0, 1) ** 2 - 4   # e = 0, k = 1\n",
        "func3 = estv(wn(x, x, 1), x, x, 1, 1) ** 2 - 4   # e = 1, k = 1\n",
        "func4 = estv(wn(x, x, 1), x, x, 1, 0) ** 2 - 4   # e = 1, k = 0\n",
        "\n",
        "# Create an array of x values for plotting\n",
        "x_values = np.linspace(10, 22, 200)\n",
        "\n",
        "# Evaluate the function for each x value\n",
        "y1_values = [func1.subs(x, val).evalf() for val in x_values]\n",
        "y2_values = [func2.subs(x, val).evalf() for val in x_values]\n",
        "y3_values = [func3.subs(x, val).evalf() for val in x_values]\n",
        "y4_values = [func3.subs(x, val).evalf() for val in x_values]\n",
        "\n",
        "# Solve estv^2 == 4 for x, with e=0 k=1\n",
        "solution1 = sp.nsolve(estv(wn(x, x, 0), x, x, 0, 1)**2 - 4, x, 10)  # first solution\n",
        "solution2 = sp.nsolve(estv(wn(x, x, 0), x, x, 0, 1)**2 - 4, x, 20)  # second solution\n",
        "\n",
        "# Plot the function\n",
        "plt.plot(x_values, y1_values, color='red')\n",
        "plt.plot(x_values, y2_values, color='green', linestyle='--')\n",
        "plt.plot(x_values, y3_values, color='blue')\n",
        "plt.plot(x_values, y4_values, color='orange', linestyle='--')\n",
        "plt.xlabel('x')\n",
        "plt.ylabel('Function Value')\n",
        "plt.title('Plot of the Function estv^2 - 4')\n",
        "plt.grid(True)\n",
        "plt.axhline(y=0, color='k', linestyle='--')  # Add horizontal line at y=0\n",
        "plt.axvline(x=solution1, color='k', linestyle='--')  # Add horizontal line at y=0\n",
        "plt.axvline(x=solution2, color='k', linestyle='--')  # Add horizontal line at y=0\n",
        "ax = plt.gca()\n",
        "#ax.set_ylim([-10, 10000])  # note: log scale doesn't work with negative and positive values at the same time\n",
        "ax.set_yscale('log')\n",
        "plt.show()\n",
        "\n",
        "# Print the solutions\n",
        "print(\"Solution 1:\", solution1)\n",
        "print(\"Solution 2:\", solution2)"
      ],
      "metadata": {
        "id": "DIngWfTJDouw"
      },
      "execution_count": null,
      "outputs": []
    },
    {
      "cell_type": "markdown",
      "source": [
        "**Plotar a curva de nível do parâmetro kerr**"
      ],
      "metadata": {
        "id": "kI-gUAr6DdAZ"
      }
    },
    {
      "cell_type": "code",
      "source": [
        "# Define the variables for the plot\n",
        "min_val = 10    # Minimum limit of the plot\n",
        "max_val = 30    # Maximum limit of the plot\n",
        "precision = 500 # Precision of the plot\n",
        "\n",
        "# Define a grid of x and y values\n",
        "x_values = np.linspace(min_val, max_val, precision)\n",
        "y_values = np.linspace(min_val, max_val, precision)\n",
        "\n",
        "# Create a meshgrid from x and y values\n",
        "X, Y = np.meshgrid(x_values, y_values)\n",
        "\n",
        "# Create empty lists to store contour plots\n",
        "contour_plots = []\n",
        "\n",
        "# Loop through different values of e\n",
        "for e in range(2):\n",
        "    # Compute the kerr lens sensitivity for the current value of e\n",
        "    kerr_sensitivity = kerr(X, Y, e)\n",
        "\n",
        "    # Create a contour plot for the kerr lens sensitivity\n",
        "    contour_plot = plt.contour(X, Y, kerr_sensitivity * 1e6)  # Multiply by 1e6 to scale the values\n",
        "\n",
        "    # Append the contour plot to the list\n",
        "    contour_plots.append(contour_plot)\n",
        "\n",
        "# Show the contour plots\n",
        "plt.show()\n"
      ],
      "metadata": {
        "id": "LdK5MajADYi2"
      },
      "execution_count": null,
      "outputs": []
    },
    {
      "cell_type": "markdown",
      "source": [
        "**CURVA DE NÍVEL KERR LENS SENSITIVITY PARA D1 E D2**"
      ],
      "metadata": {
        "id": "SPzUHc3KoHhH"
      }
    },
    {
      "cell_type": "code",
      "source": [
        "# Encontra os valores de d1 (na curva d1=d2) em que kerr=0\n",
        "NSolve[estv[wn[x,x,0], x, x, 0, 0]^2==4, x]\n",
        "NSolve[estv[wn[x,x,1], x, x, 0, 1]^2==4, x]\n",
        "# {{x -> 15.6535},{x -> 17.5285}}\n",
        "min = 14      # define o limite min do gráfico\n",
        "max = 19      # define o limite máx do gráfico\n",
        "prec = 500    # define a precisão do gráfico\n",
        "\n",
        "Timing[\n",
        "        Do[\n",
        "            {\n",
        "              a[1,e] = ContourPlot[kerr[x,y,e]1e6, {x,min,max},{y,min,max}], # curva de nível do parâmetro kerr para valores de d1 e d2\n",
        "              a[2,e] = ContourPlot[kerr[x,y,e]1e6, {x,min,max},{y,min,max}, Contours->{0}], # contorna onde kerr = 0\n",
        "              a[3,e] = ContourPlot[estv[wn[x,y,e], e,y,e,1], {x,min,max},{y,min,max}, Contours->{-2,2}], # borda da região de estabilidade\n",
        "              a[4,e] = ContourPlot[x-y, {x,min,max},{y,min,max}, Contours->{0}] # curva em que d1 = d2\n",
        "            },{e,0,1}\n",
        "          ]\n",
        "]\n",
        "Do[Show[a[1,i],a[2,i],a[3,i],a[4,i]],{i,0,1}]"
      ],
      "metadata": {
        "id": "YJlXG8PPnQS-"
      },
      "execution_count": null,
      "outputs": []
    },
    {
      "cell_type": "markdown",
      "source": [
        "![picture](https://drive.google.com/uc?id=1PGQsKxVs4RSkcdIxc_VPqPiG0GwS3AGe)"
      ],
      "metadata": {
        "id": "Fro5O9XwokjK"
      }
    },
    {
      "cell_type": "markdown",
      "source": [
        "\n",
        "**KERR LENS SENSITIVITY PARA D1 = D2 = D/2**"
      ],
      "metadata": {
        "id": "zkeuYFPFoL62"
      }
    },
    {
      "cell_type": "code",
      "source": [
        "Plot[\n",
        "        {kerr[2,x,x,0]1e6, kerr[1,x,x,0]1e6, kerr[0.76,x,x,0]1e6}, {x,15,22} # Plota a curva para d/2 entre 15 e 22 mm com frep = 2, 1, 0.76GHz\n",
        "    ]"
      ],
      "metadata": {
        "id": "rezUArECoPks"
      },
      "execution_count": null,
      "outputs": []
    },
    {
      "cell_type": "markdown",
      "source": [
        "![picture](https://drive.google.com/uc?id=1ldOTGXKD59RMEEDOPBn75Mcnfk4XUH9j)"
      ],
      "metadata": {
        "id": "6MbHRzb2omTB"
      }
    },
    {
      "cell_type": "markdown",
      "source": [
        "# **COMPILADO**"
      ],
      "metadata": {
        "id": "YY28Nnibooep"
      }
    },
    {
      "cell_type": "markdown",
      "source": [
        "***Não parece estar correto, confiar no arquivo .nb do Mathematica***"
      ],
      "metadata": {
        "id": "5ECByL55NUW0"
      }
    },
    {
      "cell_type": "code",
      "source": [
        "# d = d1+d2\n",
        "# d3 = caminho pelos espelhos planos\n",
        "# d1 - cristal (centro) - d2\n",
        "# rep = c/(d+d3) -> d3 = c/rep - d\n",
        "\n",
        "R = 3 # spherical mirror radius (cm)\n",
        "nc = 1.772 # linear refractive index\n",
        "c = 3e10 # speed of light (cm/s)\n",
        "l = 0.3 # crystal length (cm)\n",
        "wavelength = 780e-7 # wavelenth (cm)\n",
        "\n",
        "# Matrices (Spherical mirrors, free space, cristal, ar-cristal, cristal-ar)\n",
        "M = ((1,L/2),(0,1)) * ((1,0),(0,1/nc)) * ((1, d/2-l/2),(0,1)) * ((1,0),(-2/R,1)) * ((1,c/rep-d),(0,1)) * ((1,0),(-2/R,1)) * ((1,d/2-l/2),(0,1)) * ((1,0),(0,nc)) * ((1,l/2),(0,1))\n",
        "\n",
        "# ESTABILIDADE DA CAVIDADE\n",
        "  # Cavidade é estavel se -2 < a+d < 2\n",
        "  est(R, rep, d) = M[[1,1]] + M[[2,2]]\n",
        "  NSolve[est[3,1,d] == -2]\n",
        "  # {{d -> 3.1307},{d -> 27.}}\n",
        "\n",
        "  # Gráfico de d (cm) por rep (GHz)\n",
        "  # Limites: +/- de 0.1 a 1GHZ no eixo x e +/- 3.1 a 3.5cm no eixo y\n",
        "  ImplicitPlot[{(est[3,a,b]^2==4), {a,0.1,1}, {b,1,10}}] # Calcula valores de d para rep de 0.1 a 1GHz\n",
        "\n",
        "  # Gráfico com 4 curvas de d (cm) por R (cm)\n",
        "  # Limites: de 1 a 10cm no eixo x e de +/- 1 a 10 no eixo y\n",
        "  ImplicitPlot[{(est[a,0.1,b]^2==4), est[a,0.5,b]^2==4), est[a,1,b]^2==4), {a,1,10}, {b,1,10}}] # Calcula d para R de 1 a 10 (limitando y até 10)\n",
        "\n",
        "# SPOT ENTRE OS ESPELHOS CURVOS\n",
        "  w(R, rep, d) = sqrt(wavelength/pi*sqrt(M[[1,2]]^2)/sqrt(1 - (est(R, rep, d)/2)^2))\n",
        "\n",
        "  # Gráfico de  w (um) por rep (GHz)\n",
        "  Plot[{w[3,b,3.15]10^4}, {b,0.1,1}] # Calcula w para rep entre 0.1 e 1 fixando d = 3.15cm e R = 3cm\n",
        "\n",
        "  # Gráfico de w (um) por d (cm) para 3 valores de rep\n",
        "  a1 = 3\n",
        "  k1 = 3\n",
        "  k2 = 5\n",
        "  Plot[ {w[a1,1,b]10^4, w[a1,0.5,b]10^4, w[a1,0.1,b]10^4}, {b, k1, k2}] # Calcula w para d entre k1 e k2 fixando R = 3cm e rep = 1, 0.5 e 0.1GHz\n",
        "\n",
        "# CÁLCULO DO KERR LENS SENSITIVITY\n",
        "\n",
        "    #   ->        R(  x    //     y  )R\n",
        "    #         d3                         d5\n",
        "    #   Rc |              d4                  | ->\n",
        "\n",
        "    n2 = 775e-6   # nonlinear refractive index of crystal (mm^2/W)\n",
        "    d3 = 90       # distance between M2 e P1 (mm)\n",
        "    d4 = 90       # distance between P1 e OC (mm)\n",
        "    d5 = 90       # distance between M1 e OC (mm)\n",
        "    lc = 3        #  crystal length (mm)\n",
        "    R = 30        # spherical mirrors radius\n",
        "\n",
        "    # Define frep (repetition rate) = speed of light / cavity total length\n",
        "    frep[x,y] = 3e11/(d3+d4+d5+x+y)\n",
        "\n",
        "    # Define Pp (potência intracavidade??)\n",
        "    Pp[x,y] = ((0.5*1.2)/frep[x,y])*2/(sqrt(pi)*1e-12*Erf[1/(frep[x,y]*1e-12)])  # ??????????\n",
        "\n",
        "    # Estabilidade, waist, kerr\n",
        "      Rc = 10000  # Plane mirror (mm)\n",
        "      # k = 0 -> sem lente | k = 1 -> com lente\n",
        "      # e = 0 -> Rc = espelho plano | e = 1 -> Rc = espelho convexo\n",
        "\n",
        "      M = FullSimplify[\n",
        "          {{1,lc/(2nc)}, {0,1}}.{{1,y-lc/2},{0,1}}.{{1,0},{-2/R, 1}}.{{1,d5},{0,1}}.{{1,0},{-2e/Rc,1}}.{{1,d3+d4},{0,1}}.{{1,0},{-2/R,1}}.{{1,x-lc/2},{0,1}}.{{1,lc/(2nc)},{0,1}}.{{0,1},{-k*(4*n2*P*lc/(pi*wo^4)),1}},\n",
        "          {x>0,y>0,n>0}] # matriz do sistema\n",
        "\n",
        "      estv[w1,x1,y1,e1,k1] =\n",
        "          Simplify[M[[1,1]]+M[[2,2]]/.{x->x1, y->y1, k->k1, e->e1, wo->w1, P->Pp[x1,y1]}] # estabilidade\n",
        "\n",
        "      wv[P, w1, x1, y1, e1, k1] =\n",
        "          ((wavelength/pi)^2 * M[[1,2]]^2/(1- ((M[[1,1]]-M[[2,2]])/2)) )^(1/4) /. {x->x1, y->y1, k->k1, e->e1, wo->w1, P->P1} # beam waist\n",
        "\n",
        "      kerr[c,y,e] :=\n",
        "          Limit[1/wv[P, wn[x,y,e], x,y,e,1] D[wv[P, wn[x,y,e], x,y,e,1], P], P->0]//N # kerr lens sensitivity\n",
        "\n",
        "      # CURVA DE NÍVEL KERR LENS SENSITIVITY PARA D1 E D2\n",
        "        # Encontra os valores de d1 (na curva d1=d2) em que kerr=0\n",
        "        NSolve[estv[wn[x,x,0], x, x, 0, 0]^2==4, x]\n",
        "        NSolve[estv[wn[x,x,1], x, x, 0, 1]^2==4, x]\n",
        "        # {{x -> 15.6535},{x -> 17.5285}}\n",
        "        min = 14      # define o limite min do gráfico\n",
        "        max = 19      # define o limite máx do gráfico\n",
        "        prec = 500    # define a precisão do gráfico\n",
        "\n",
        "        Timing[\n",
        "                Do[\n",
        "                    {\n",
        "                      a[1,e] = ContourPlot[kerr[x,y,e]1e6, {x,min,max},{y,min,max}], # curva de nível do parâmetro kerr para valores de d1 e d2\n",
        "                      a[2,e] = ContourPlot[kerr[x,y,e]1e6, {x,min,max},{y,min,max}, Contours->{0}], # contorna onde kerr = 0\n",
        "                      a[3,e] = ContourPlot[estv[wn[x,y,e], e,y,e,1], {x,min,max},{y,min,max}, Contours->{-2,2}], # borda da região de estabilidade\n",
        "                      a[4,e] = ContourPlot[x-y, {x,min,max},{y,min,max}, Contours->{0}] # curva em que d1 = d2\n",
        "                    },{e,0,1}\n",
        "                  ]\n",
        "        ]\n",
        "        Do[Show[a[1,i],a[2,i],a[3,i],a[4,i]],{i,0,1}]\n",
        "\n",
        "      # KERR LENS SENSITIVITY PARA D1 = D2 = D/2\n",
        "        Plot[\n",
        "            {kerr[2,x,x,0]1e6, kerr[1,x,x,0]1e6, kerr[0.76,x,x,0]1e6}, {x,15,22} # Plota a curva para d/2 entre 15 e 22 mm com frep = 2, 1, 0.76GHz\n",
        "        ]\n",
        "\n"
      ],
      "metadata": {
        "id": "VZfyLPCjx0wM"
      },
      "execution_count": null,
      "outputs": []
    }
  ]
}