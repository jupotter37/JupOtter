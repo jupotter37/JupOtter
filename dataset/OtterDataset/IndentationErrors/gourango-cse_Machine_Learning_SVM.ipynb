{
 "cells": [
  {
   "cell_type": "code",
   "execution_count": 1,
   "id": "b5c3fb79-7e5f-46ab-b92c-764a01d73eef",
   "metadata": {},
   "outputs": [
    {
     "ename": "IndentationError",
     "evalue": "expected an indented block after class definition on line 3 (2362721236.py, line 4)",
     "output_type": "error",
     "traceback": [
      "\u001b[1;36m  Cell \u001b[1;32mIn[1], line 4\u001b[1;36m\u001b[0m\n\u001b[1;33m    def __init__(self, learning_rate=0.01,n_iters=1000):\u001b[0m\n\u001b[1;37m    ^\u001b[0m\n\u001b[1;31mIndentationError\u001b[0m\u001b[1;31m:\u001b[0m expected an indented block after class definition on line 3\n"
     ]
    }
   ],
   "source": [
    "import numpy as np\n",
    "import pandas as pd\n",
    "class SVM:\n",
    "def __init__(self, learning_rate=0.01,n_iters=1000):\n",
    "self.lr = learning_rate\n",
    "self.n_iters = n_iters\n",
    "self.w = None\n",
    "self.b = None\n",
    "def fit(self, X, y):\n",
    "n_samples, n_features = X.shape\n",
    "self.w = np.zeros(n_features)\n",
    "self.b = 0\n",
    "for _ in range(self.n_iters):\n",
    "for idx, x_i in enumerate(X):\n",
    "condition = y[idx] * (np.dot(x_i, self.w) + self.b) >= 1\n",
    "if condition:\n",
    "self.w -= self.lr * (2 * self.w)\n",
    "else:\n",
    "self.w -= self.lr * (2*self.w - np.dot(x_i, y[idx]))\n",
    "self.b -= self.lr * y[idx]\n",
    "def predict(self, X):\n",
    "prediction = np.dot(X, self.w) + self.b\n",
    "return np.sign(prediction).astype(int)\n",
    "data = pd.read_csv('PatientDetails_Classification.csv')\n",
    "data=data.drop('Patient Name',axis=1)\n",
    "X = data.drop(columns='TARGET').values\n",
    "y = data['TARGET'].values\n",
    "from sklearn.model_selection import train_test_split\n",
    "X_train, X_test, y_train, y_test = train_test_split(X, y, test_size=0.3, random_state=42)\n",
    "clf = SVM()\n",
    "clf.fit(X_train, y_train)\n",
    "predictions = clf.predict(X_test)\n",
    "from sklearn.metrics import accuracy_score\n",
    "accuracy=accuracy_score(y_test,predictions)\n",
    "print(accuracy)\n",
    "from sklearn.metrics import confusion_matrix\n",
    "cm=confusion_matrix(y_test,predictions)\n",
    "tp=cm[0][0]\n",
    "fp=cm[0][1]\n",
    "fn=cm[1][0]\n",
    "tn=cm[1][1]\n",
    "print(tp)\n",
    "print(fp)\n",
    "print(fn)\n",
    "print(tn)\n",
    "accuracy=(tp+tn)/(tp+fp+tn+fn)"
   ]
  },
  {
   "cell_type": "code",
   "execution_count": 2,
   "id": "ad53513b-7b4f-4265-b794-45183ee141fd",
   "metadata": {},
   "outputs": [],
   "source": [
    "import numpy as np\n",
    "import pandas as pd"
   ]
  },
  {
   "cell_type": "code",
   "execution_count": 5,
   "id": "eb8284cd-ef84-4813-8163-6f1d991408fe",
   "metadata": {},
   "outputs": [],
   "source": [
    "class SVM:\n",
    "  def __init__(self, learning_rate=0.01,n_iters=1000):\n",
    "   self.lr = learning_rate\n",
    "   self.n_iters = n_iters\n",
    "   self.w = None\n",
    "   self.b = None\n",
    "      \n",
    "      \n",
    "  def fit(self, X, y):\n",
    "   n_samples, n_features = X.shape\n",
    "   self.w = np.zeros(n_features)\n",
    "   self.b = 0\n",
    "   for _ in range(self.n_iters):\n",
    "    for idx, x_i in enumerate(X):\n",
    "       condition = y[idx] * (np.dot(x_i, self.w) + self.b) >= 1\n",
    "       if condition:\n",
    "        self.w -= self.lr * (2 * self.w)\n",
    "       else:\n",
    "        self.w -= self.lr * (2*self.w - np.dot(x_i, y[idx]))\n",
    "        self.b -= self.lr * y[idx]\n",
    "\n",
    "    \n",
    "  def predict(self, X):\n",
    "    prediction = np.dot(X, self.w) + self.b\n",
    "    return np.sign(prediction).astype(int)"
   ]
  },
  {
   "cell_type": "code",
   "execution_count": 6,
   "id": "a8fad99a-17a6-4952-b15c-60f25976b6d9",
   "metadata": {},
   "outputs": [],
   "source": [
    "data = pd.read_csv('PatientDetails_Classification.csv')\n",
    "data=data.drop('Patient Name',axis=1)"
   ]
  },
  {
   "cell_type": "code",
   "execution_count": 7,
   "id": "9a2beb01-081c-4083-9e31-4769f1e9a629",
   "metadata": {},
   "outputs": [],
   "source": [
    "X = data.drop(columns='TARGET').values\n",
    "y = data['TARGET'].values"
   ]
  },
  {
   "cell_type": "code",
   "execution_count": 19,
   "id": "ffa21f41-560a-4653-8340-ce1963c4d8a2",
   "metadata": {},
   "outputs": [],
   "source": [
    "from sklearn.model_selection import train_test_split\n",
    "X_train, X_test, y_train, y_test = train_test_split(X, y, test_size=0.3, random_state=42)\n",
    "clf = SVM()\n",
    "clf.fit(X_train, y_train)\n",
    "predictions = clf.predict(X_test)"
   ]
  },
  {
   "cell_type": "code",
   "execution_count": 20,
   "id": "f523b82b-464b-489f-9639-30c6b82bb399",
   "metadata": {},
   "outputs": [
    {
     "name": "stdout",
     "output_type": "stream",
     "text": [
      "0.875\n"
     ]
    }
   ],
   "source": [
    "from sklearn.metrics import accuracy_score\n",
    "accuracy=accuracy_score(y_test,predictions)\n",
    "print(accuracy)"
   ]
  },
  {
   "cell_type": "code",
   "execution_count": 21,
   "id": "c5f01593-0602-49a9-bc20-ebc810589b00",
   "metadata": {},
   "outputs": [
    {
     "name": "stdout",
     "output_type": "stream",
     "text": [
      "0\n",
      "1\n",
      "0\n",
      "7\n",
      "0.875\n"
     ]
    }
   ],
   "source": [
    "from sklearn.metrics import confusion_matrix\n",
    "cm=confusion_matrix(y_test,predictions)\n",
    "tp=cm[0][0]\n",
    "fp=cm[0][1]\n",
    "fn=cm[1][0]\n",
    "tn=cm[1][1]\n",
    "print(tp)\n",
    "print(fp)\n",
    "print(fn)\n",
    "print(tn)\n",
    "accuracy=(tp+tn)/(tp+fp+tn+fn)\n",
    "print(accuracy)"
   ]
  },
  {
   "cell_type": "code",
   "execution_count": null,
   "id": "181bb814-8392-4905-9755-1fd5a31a4596",
   "metadata": {},
   "outputs": [],
   "source": []
  }
 ],
 "metadata": {
  "kernelspec": {
   "display_name": "Python 3 (ipykernel)",
   "language": "python",
   "name": "python3"
  },
  "language_info": {
   "codemirror_mode": {
    "name": "ipython",
    "version": 3
   },
   "file_extension": ".py",
   "mimetype": "text/x-python",
   "name": "python",
   "nbconvert_exporter": "python",
   "pygments_lexer": "ipython3",
   "version": "3.12.3"
  }
 },
 "nbformat": 4,
 "nbformat_minor": 5
}
