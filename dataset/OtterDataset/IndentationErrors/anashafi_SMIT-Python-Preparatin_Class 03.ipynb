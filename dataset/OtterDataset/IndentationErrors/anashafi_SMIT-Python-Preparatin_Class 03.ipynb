{
 "cells": [
  {
   "cell_type": "code",
   "execution_count": 1,
   "id": "37f3afb0-e108-4d12-9edc-a8beca7bc1ac",
   "metadata": {},
   "outputs": [
    {
     "ename": "SyntaxError",
     "evalue": "cannot assign to expression here. Maybe you meant '==' instead of '='? (412419590.py, line 1)",
     "output_type": "error",
     "traceback": [
      "\u001b[1;36m  Cell \u001b[1;32mIn[1], line 1\u001b[1;36m\u001b[0m\n\u001b[1;33m    if 4 + 8 = 12\u001b[0m\n\u001b[1;37m       ^\u001b[0m\n\u001b[1;31mSyntaxError\u001b[0m\u001b[1;31m:\u001b[0m cannot assign to expression here. Maybe you meant '==' instead of '='?\n"
     ]
    }
   ],
   "source": [
    "if 4 + 8 = 12\n",
    "print (\"Everything makes sense\")"
   ]
  },
  {
   "cell_type": "code",
   "execution_count": 4,
   "id": "ed21cc15-6211-4e8a-b476-3c2f96798e8a",
   "metadata": {},
   "outputs": [
    {
     "ename": "IndentationError",
     "evalue": "expected an indented block after 'if' statement on line 1 (1356329307.py, line 2)",
     "output_type": "error",
     "traceback": [
      "\u001b[1;36m  Cell \u001b[1;32mIn[4], line 2\u001b[1;36m\u001b[0m\n\u001b[1;33m    print(\"Everything makes sense\".)\u001b[0m\n\u001b[1;37m    ^\u001b[0m\n\u001b[1;31mIndentationError\u001b[0m\u001b[1;31m:\u001b[0m expected an indented block after 'if' statement on line 1\n"
     ]
    }
   ],
   "source": [
    "if 4+8==12:\n",
    "print(\"Everything makes sense\".)"
   ]
  },
  {
   "cell_type": "code",
   "execution_count": 7,
   "id": "caaa0c5d-9d0c-4951-8cee-5f00f2b5156a",
   "metadata": {},
   "outputs": [
    {
     "name": "stdout",
     "output_type": "stream",
     "text": [
      "Everything makes sense\n"
     ]
    }
   ],
   "source": [
    "if 4 + 8 == 12:\n",
    " print(\"Everything makes sense\")"
   ]
  },
  {
   "cell_type": "markdown",
   "id": "5ef5192b-aa99-4826-a899-933b5265f6c9",
   "metadata": {},
   "source": [
    "## Concatenation"
   ]
  },
  {
   "cell_type": "code",
   "execution_count": 9,
   "id": "f472a8ad-7a14-45de-8e1c-ff937b118061",
   "metadata": {},
   "outputs": [],
   "source": [
    "f_name = \"Muhammad\" #String\n",
    "l_name = \"Ans\" #String\n",
    "age = 24 #Integer\n",
    "weight = 50.6 #Float\n",
    "is_student = True #Boolean \n"
   ]
  },
  {
   "cell_type": "code",
   "execution_count": 13,
   "id": "98072d6e-b92c-406a-9ded-dac46ccf51f2",
   "metadata": {},
   "outputs": [
    {
     "data": {
      "text/plain": [
       "'Student Name of SMIT Muhammad Ans'"
      ]
     },
     "execution_count": 13,
     "metadata": {},
     "output_type": "execute_result"
    }
   ],
   "source": [
    "\"Student Name of SMIT \" + f_name + \" \" + l_name #Methond 1 using + Operator"
   ]
  },
  {
   "cell_type": "code",
   "execution_count": 14,
   "id": "05daaefd-f066-4b36-bb66-9ca44e1053d4",
   "metadata": {},
   "outputs": [
    {
     "data": {
      "text/plain": [
       "'Student Name of SMIT Muhammad Ans'"
      ]
     },
     "execution_count": 14,
     "metadata": {},
     "output_type": "execute_result"
    }
   ],
   "source": [
    "# Method 2 f\"\" Format\n",
    "\n",
    "f\"Student Name of SMIT {f_name} {l_name}\"\n"
   ]
  },
  {
   "cell_type": "code",
   "execution_count": 15,
   "id": "b4fe6661-53ec-4da0-a44b-eae61f7ec049",
   "metadata": {},
   "outputs": [
    {
     "data": {
      "text/plain": [
       "'Student Name of SMIT Muhammad Ans'"
      ]
     },
     "execution_count": 15,
     "metadata": {},
     "output_type": "execute_result"
    }
   ],
   "source": [
    "# Method 3 .format () takes variable to be concate starts 0 index\n",
    "\n",
    "\"Student Name of SMIT {0} {1}\".format(f_name, l_name)"
   ]
  },
  {
   "cell_type": "markdown",
   "id": "0f2f4323-13d5-467d-a211-15f0ee97307f",
   "metadata": {},
   "source": [
    "## Conditional Statements\n"
   ]
  },
  {
   "cell_type": "markdown",
   "id": "8c506f6b-dd73-4e0e-948f-8783fc65b1ac",
   "metadata": {},
   "source": [
    "## Syntax\n",
    "\n",
    "if <condition>:\n",
    "    <if body>\n",
    "else:\n",
    "    <else body>"
   ]
  },
  {
   "cell_type": "raw",
   "id": "1c6f97ac-e703-498b-ae62-50c52ad80eb7",
   "metadata": {},
   "source": [
    "result = \"loss\" #\"win\"/\"loss\"/\"tie\"\n",
    "\n",
    "if result == \"win\":\n",
    "    print(\"Pakistai's will celeberate)\n",
    "else:\n",
    "    print(\"Pakistai's will criticize\")"
   ]
  },
  {
   "cell_type": "code",
   "execution_count": 18,
   "id": "3aa014b8-6b19-4303-8605-fc74728cc703",
   "metadata": {},
   "outputs": [
    {
     "name": "stdout",
     "output_type": "stream",
     "text": [
      "Pakistan criricise\n"
     ]
    }
   ],
   "source": [
    "result = \"loss\"\n",
    "\n",
    "if result == \"win\":\n",
    "    print(\"Pakistan Celeberate\")\n",
    "else:\n",
    "    print(\"Pakistan criricise\")"
   ]
  },
  {
   "cell_type": "markdown",
   "id": "99722cc3-588b-4d15-9fb2-a8c2c4607881",
   "metadata": {},
   "source": [
    "### If-elif-else"
   ]
  },
  {
   "cell_type": "code",
   "execution_count": 20,
   "id": "472fbc89-8c31-4847-8288-db384fba5c89",
   "metadata": {},
   "outputs": [
    {
     "name": "stdout",
     "output_type": "stream",
     "text": [
      "Both Teams will get 1 point\n"
     ]
    }
   ],
   "source": [
    "# Example Mutiple elif\n",
    "\n",
    "result = \"tie\"\n",
    "\n",
    "if result == \"win\":\n",
    "    print(\"Pakistan Celeberate\")\n",
    "elif result == \"tie\":\n",
    "    print(\"Both Teams will get 1 point\")\n",
    "else:\n",
    "    print(\"Pakistan criricise\")"
   ]
  },
  {
   "cell_type": "code",
   "execution_count": 22,
   "id": "ca5a8c9d-895c-408c-b87c-e4106e2fdd5a",
   "metadata": {},
   "outputs": [],
   "source": [
    "vehicle = \"suzuki,toyota,honda\""
   ]
  },
  {
   "cell_type": "code",
   "execution_count": 53,
   "id": "7b1afb62-fb59-4ef7-bada-52a11def2520",
   "metadata": {},
   "outputs": [
    {
     "name": "stdin",
     "output_type": "stream",
     "text": [
      "Enter your Vehicle Name suzuki\n"
     ]
    },
    {
     "name": "stdout",
     "output_type": "stream",
     "text": [
      "Mehran\n"
     ]
    }
   ],
   "source": [
    "vehicle = input(\"Enter your Vehicle Name\")\n",
    "\n",
    "if vehicle == \"suzuki\":\n",
    "    print(\"Mehran\")\n",
    "elif vehicle == \"toyota\":\n",
    "    print(\"Corolla\")\n",
    "elif vehicle == \"Honda\":\n",
    "    print(\"Civic\")\n",
    "else:\n",
    "    print(\"Not Found\")"
   ]
  },
  {
   "cell_type": "code",
   "execution_count": 13,
   "id": "9b25b4a6-ca72-47b7-bb6f-1c2a664dba39",
   "metadata": {},
   "outputs": [
    {
     "name": "stdout",
     "output_type": "stream",
     "text": [
      "Yep its a dog of animal\n"
     ]
    }
   ],
   "source": [
    "# Example 02\n",
    "\n",
    "species = \"dog\"\n",
    "\n",
    "if species == \"dog\":\n",
    "    status = \"ok\"\n",
    "    kingdom = \"animal\"\n",
    "    print(\"Yep its a dog of\", kingdom)\n",
    "   "
   ]
  },
  {
   "cell_type": "code",
   "execution_count": 46,
   "id": "2386d4d6-7179-47d6-8ba2-228adac7c09d",
   "metadata": {},
   "outputs": [
    {
     "name": "stdout",
     "output_type": "stream",
     "text": [
      "Your Grade is B\n"
     ]
    }
   ],
   "source": [
    "#Example 03\n",
    "\n",
    "marks = 50\n",
    "\n",
    "if marks >= 80:\n",
    "    print(\"Your Grade is A+\")\n",
    "elif marks >= 60:\n",
    "    print(\"Your Grade is A\")\n",
    "elif marks >= 50:\n",
    "    print(\"Your Grade is B\")\n",
    "elif marks >= 45:\n",
    "    print(\"Your Grade is C\")\n",
    "else:\n",
    "    print(\"Your Grade is F\")"
   ]
  },
  {
   "cell_type": "code",
   "execution_count": 49,
   "id": "a32ca4ff-cabf-44ef-9572-63d08997bf61",
   "metadata": {},
   "outputs": [
    {
     "name": "stdin",
     "output_type": "stream",
     "text": [
      "enter your marks 85\n"
     ]
    },
    {
     "name": "stdout",
     "output_type": "stream",
     "text": [
      "Your Grade is A+\n"
     ]
    }
   ],
   "source": [
    "#Example 03\n",
    "\n",
    "marks = int(input(\"enter your marks\"))\n",
    "\n",
    "if marks >= 80:\n",
    "    print(\"Your Grade is A+\")\n",
    "elif marks >= 60:\n",
    "    print(\"Your Grade is A\")\n",
    "elif marks >= 50:\n",
    "    print(\"Your Grade is B\")\n",
    "elif marks >= 45:\n",
    "    print(\"Your Grade is C\")\n",
    "else:\n",
    "    print(\"Your Grade is F\")"
   ]
  },
  {
   "cell_type": "code",
   "execution_count": 45,
   "id": "22b79ae7-4968-45aa-89b9-a12f6beea3e3",
   "metadata": {},
   "outputs": [
    {
     "name": "stdin",
     "output_type": "stream",
     "text": [
      "enter your Marks 44\n"
     ]
    },
    {
     "data": {
      "text/plain": [
       "'44'"
      ]
     },
     "execution_count": 45,
     "metadata": {},
     "output_type": "execute_result"
    }
   ],
   "source": [
    "input(\"enter your Marks\") #Input Function always written string output"
   ]
  },
  {
   "cell_type": "code",
   "execution_count": 47,
   "id": "1c80852a-3af9-4f6b-8576-63773fc5d3fb",
   "metadata": {},
   "outputs": [
    {
     "name": "stdin",
     "output_type": "stream",
     "text": [
      "enter your marks 22\n"
     ]
    },
    {
     "data": {
      "text/plain": [
       "22"
      ]
     },
     "execution_count": 47,
     "metadata": {},
     "output_type": "execute_result"
    }
   ],
   "source": [
    "int(input(\"enter your marks\"))"
   ]
  },
  {
   "cell_type": "markdown",
   "id": "c41b9930-86b6-4c8f-95a3-cc5c547da8e8",
   "metadata": {},
   "source": [
    "### Comparison Operators"
   ]
  },
  {
   "cell_type": "code",
   "execution_count": 54,
   "id": "18164098-6417-4e3a-ad9a-c551064e2d74",
   "metadata": {},
   "outputs": [
    {
     "data": {
      "text/plain": [
       "False"
      ]
     },
     "execution_count": 54,
     "metadata": {},
     "output_type": "execute_result"
    }
   ],
   "source": [
    "95 == 80"
   ]
  },
  {
   "cell_type": "code",
   "execution_count": 55,
   "id": "f730123a-888e-4e99-b9a5-b5e09a48eda5",
   "metadata": {},
   "outputs": [
    {
     "data": {
      "text/plain": [
       "True"
      ]
     },
     "execution_count": 55,
     "metadata": {},
     "output_type": "execute_result"
    }
   ],
   "source": [
    "95 != 80"
   ]
  },
  {
   "cell_type": "code",
   "execution_count": 56,
   "id": "951f9bf8-1e7c-4b27-9cf0-3d9c2f73f1f5",
   "metadata": {},
   "outputs": [
    {
     "data": {
      "text/plain": [
       "True"
      ]
     },
     "execution_count": 56,
     "metadata": {},
     "output_type": "execute_result"
    }
   ],
   "source": [
    "95 >= 80"
   ]
  },
  {
   "cell_type": "code",
   "execution_count": 57,
   "id": "2e630848-555c-46ac-8064-546953c92163",
   "metadata": {},
   "outputs": [
    {
     "data": {
      "text/plain": [
       "True"
      ]
     },
     "execution_count": 57,
     "metadata": {},
     "output_type": "execute_result"
    }
   ],
   "source": [
    "95 >= 80"
   ]
  },
  {
   "cell_type": "code",
   "execution_count": 58,
   "id": "0d9d478c-14cd-4378-8832-85bb5b817506",
   "metadata": {},
   "outputs": [
    {
     "ename": "SyntaxError",
     "evalue": "invalid syntax. Maybe you meant '==' or ':=' instead of '='? (251580288.py, line 1)",
     "output_type": "error",
     "traceback": [
      "\u001b[1;36m  Cell \u001b[1;32mIn[58], line 1\u001b[1;36m\u001b[0m\n\u001b[1;33m    if result = \"loss\":\u001b[0m\n\u001b[1;37m       ^\u001b[0m\n\u001b[1;31mSyntaxError\u001b[0m\u001b[1;31m:\u001b[0m invalid syntax. Maybe you meant '==' or ':=' instead of '='?\n"
     ]
    }
   ],
   "source": [
    "if result = \"loss\":"
   ]
  },
  {
   "cell_type": "code",
   "execution_count": 59,
   "id": "b7fafd67-b166-4fdd-aa2e-a8a231846424",
   "metadata": {},
   "outputs": [
    {
     "name": "stdout",
     "output_type": "stream",
     "text": [
      "Better Luck Next Time\n"
     ]
    }
   ],
   "source": [
    "if result != \"win\":\n",
    "    print(\"Better Luck Next Time\")"
   ]
  },
  {
   "cell_type": "code",
   "execution_count": 60,
   "id": "9a61c90f-9157-4073-9664-de858215bf6c",
   "metadata": {},
   "outputs": [],
   "source": [
    "is_fresh = True\n",
    "all_available = True\n",
    "price = \"average\" #Average, Low, High\n",
    "\n",
    "\n",
    "\n"
   ]
  },
  {
   "cell_type": "code",
   "execution_count": 61,
   "id": "352cc0b8-e7d0-4151-940f-e42fcaa16f51",
   "metadata": {},
   "outputs": [
    {
     "name": "stdout",
     "output_type": "stream",
     "text": [
      "15\n"
     ]
    }
   ],
   "source": [
    "is_fresh = True\n",
    "all_available = True\n",
    "price = \"average\" #Average, Low, High\n",
    "\n",
    "score = 5\n",
    "\n",
    "if all_available:\n",
    "    score = 5\n",
    "if is_fresh:\n",
    "    score +=5\n",
    "if price == \"average\":\n",
    "    score += 5\n",
    "print(score)"
   ]
  },
  {
   "cell_type": "markdown",
   "id": "5f438c7c-09fc-4ef9-a1ad-e1a702363b6b",
   "metadata": {},
   "source": [
    "### Testing sets of conditions"
   ]
  },
  {
   "cell_type": "code",
   "execution_count": 15,
   "id": "6b18c9ed-04cc-4b8c-baf0-c406244f5095",
   "metadata": {},
   "outputs": [],
   "source": [
    "# aANND => all conditons must be TRUE\n",
    "# OR => one condition must be TRUE\n",
    "\n",
    "# A B   AND   OR\n",
    "# 0 0    0     0\n",
    "# 1 0    0     1\n",
    "# 0 1    0     1\n",
    "# 1 1    1     1\n",
    "\n",
    "# NOT => Opposite case\n",
    "# 0 --> 1\n",
    "# 1 --> 0"
   ]
  },
  {
   "cell_type": "code",
   "execution_count": 20,
   "id": "025a3df0-2944-4c79-9771-d3b11a207b6e",
   "metadata": {},
   "outputs": [
    {
     "name": "stdin",
     "output_type": "stream",
     "text": [
      "Enter Your Percentage:  55\n",
      "Enter Your Age: 20\n"
     ]
    },
    {
     "name": "stdout",
     "output_type": "stream",
     "text": [
      "Not Eligible\n"
     ]
    }
   ],
   "source": [
    "# AND Statement\n",
    "\n",
    "percentage_inter = int(input(\"Enter Your Percentage: \"))\n",
    "age_limit = int(input(\"Enter Your Age:\"))\n",
    "\n",
    "if (percentage_inter > 60) and (age_limit >= 18):\n",
    "    print(\"Eligible to Take admission in University\")\n",
    "else:\n",
    "    print(\"Not Eligible\")"
   ]
  },
  {
   "cell_type": "code",
   "execution_count": 22,
   "id": "cd9b116c-5e7c-4ba4-ab5b-e78ebed97cf2",
   "metadata": {},
   "outputs": [
    {
     "name": "stdin",
     "output_type": "stream",
     "text": [
      "Enter Your Percentage:  60\n",
      "Enter Your Age: 12\n"
     ]
    },
    {
     "name": "stdout",
     "output_type": "stream",
     "text": [
      "Eligible to Take admission in University\n"
     ]
    }
   ],
   "source": [
    "# OR Statement\n",
    "\n",
    "percentage_inter = int(input(\"Enter Your Percentage: \"))\n",
    "age_limit = int(input(\"Enter Your Age:\"))\n",
    "\n",
    "if (percentage_inter >= 60) or (age_limit >= 18):\n",
    "    print(\"Eligible to Take admission in University\")\n",
    "else:\n",
    "    print(\"Not Eligible\")"
   ]
  },
  {
   "cell_type": "code",
   "execution_count": 23,
   "id": "0b34e9df-86b8-42cc-861d-3f897b12dab9",
   "metadata": {},
   "outputs": [
    {
     "data": {
      "text/plain": [
       "False"
      ]
     },
     "execution_count": 23,
     "metadata": {},
     "output_type": "execute_result"
    }
   ],
   "source": [
    "not True"
   ]
  },
  {
   "cell_type": "code",
   "execution_count": null,
   "id": "71dc2641-d81d-4e2f-a167-e848ba5d567a",
   "metadata": {},
   "outputs": [],
   "source": []
  }
 ],
 "metadata": {
  "kernelspec": {
   "display_name": "Python 3 (ipykernel)",
   "language": "python",
   "name": "python3"
  },
  "language_info": {
   "codemirror_mode": {
    "name": "ipython",
    "version": 3
   },
   "file_extension": ".py",
   "mimetype": "text/x-python",
   "name": "python",
   "nbconvert_exporter": "python",
   "pygments_lexer": "ipython3",
   "version": "3.11.7"
  }
 },
 "nbformat": 4,
 "nbformat_minor": 5
}
