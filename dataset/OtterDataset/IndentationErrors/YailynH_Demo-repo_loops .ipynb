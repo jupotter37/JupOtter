{
 "cells": [
  {
   "cell_type": "code",
   "execution_count": 2,
   "id": "e1fd9b90",
   "metadata": {},
   "outputs": [
    {
     "ename": "IndentationError",
     "evalue": "expected an indented block after 'if' statement on line 3 (362996569.py, line 4)",
     "output_type": "error",
     "traceback": [
      "\u001b[1;36m  Cell \u001b[1;32mIn[2], line 4\u001b[1;36m\u001b[0m\n\u001b[1;33m    print(\"too low\")\u001b[0m\n\u001b[1;37m    ^\u001b[0m\n\u001b[1;31mIndentationError\u001b[0m\u001b[1;31m:\u001b[0m expected an indented block after 'if' statement on line 3\n"
     ]
    }
   ],
   "source": [
    "secret = 7\n",
    "guess = 4\n",
    "if guess < secret:\n",
    "print(\"too low\")\n",
    "elif guess > secret:\n",
    "print(\"too high\")\n",
    "else:\n",
    "print(\"just right\"\n",
    "      \n",
    "      \n",
    "      \n",
    "small = True\n",
    "green = False\n",
    "      if small and green:\n",
    "print(\"The match is pea.\")\n",
    "elif small and not green:\n",
    "print(\"The match is cherry.\")\n",
    "elif not small and green:\n",
    "print(\"The match is watermelon.\")\n",
    "else:\n",
    "print(\"The match is pumpkin.\")\n",
    "      \n",
    "      \n",
    "      \n",
    "      \n",
    "      \n",
    "numbers = [3, 2, 1, 0]\n",
    "for number in numbers:\n",
    "print(number)\n",
    "      \n",
    "      \n",
    "      \n",
    "      \n",
    "      \n",
    "         \n",
    "guess_me = 7\n",
    "number = 1\n",
    "while number <= guess_me:\n",
    "if number < guess_me:\n",
    "print(\"too low\")\n",
    "elif number == guess_me:\n",
    "print(\"found it!\")\n",
    "break\n",
    "else:\n",
    "print(\"oops\")\n",
    "break\n",
    "number += 1\n",
    "      \n",
    "      \n",
    "      \n",
    "      \n",
    "\n",
    "guess_me = 5    \n",
    "for number in range(10):\n",
    "if number < guess_me:\n",
    "print(\"too low\")\n",
    "elif number == guess_me:\n",
    "print(\"found it!\")\n",
    "break\n",
    "else:\n",
    "print(\"oops\")\n",
    "break"
   ]
  },
  {
   "cell_type": "code",
   "execution_count": null,
   "id": "eaa6ce3b",
   "metadata": {},
   "outputs": [],
   "source": []
  },
  {
   "cell_type": "code",
   "execution_count": null,
   "id": "4b5a72b7",
   "metadata": {},
   "outputs": [],
   "source": []
  },
  {
   "cell_type": "code",
   "execution_count": null,
   "id": "32b3c049",
   "metadata": {},
   "outputs": [],
   "source": []
  },
  {
   "cell_type": "code",
   "execution_count": null,
   "id": "5a1bd74e",
   "metadata": {},
   "outputs": [],
   "source": []
  }
 ],
 "metadata": {
  "kernelspec": {
   "display_name": "Python 3 (ipykernel)",
   "language": "python",
   "name": "python3"
  },
  "language_info": {
   "codemirror_mode": {
    "name": "ipython",
    "version": 3
   },
   "file_extension": ".py",
   "mimetype": "text/x-python",
   "name": "python",
   "nbconvert_exporter": "python",
   "pygments_lexer": "ipython3",
   "version": "3.11.5"
  }
 },
 "nbformat": 4,
 "nbformat_minor": 5
}
