{
 "cells": [
  {
   "cell_type": "markdown",
   "id": "7149e2e8-5638-43a7-89b7-fa95c8a65945",
   "metadata": {},
   "source": [
    "## ASSIGNMENT 2"
   ]
  },
  {
   "cell_type": "markdown",
   "id": "186a40c7-2180-4904-aa25-1f26140ddd8a",
   "metadata": {},
   "source": [
    "### String based assignment problem "
   ]
  },
  {
   "cell_type": "markdown",
   "id": "676c71fd-f248-40da-a0f1-6812b9b92fe5",
   "metadata": {},
   "source": [
    "#### QUESTION 1"
   ]
  },
  {
   "cell_type": "code",
   "execution_count": 1,
   "id": "021754c7-924d-46cd-b8b9-5d5b8b23f568",
   "metadata": {},
   "outputs": [],
   "source": [
    "#To reverse a string\n",
    "str = \"I am reading a book\""
   ]
  },
  {
   "cell_type": "code",
   "execution_count": 2,
   "id": "e9333886-ef6d-42c3-8910-9e40e7647c24",
   "metadata": {},
   "outputs": [
    {
     "data": {
      "text/plain": [
       "'koob a gnidaer ma I'"
      ]
     },
     "execution_count": 2,
     "metadata": {},
     "output_type": "execute_result"
    }
   ],
   "source": [
    "str[::-1]"
   ]
  },
  {
   "cell_type": "markdown",
   "id": "4046a180-3af0-4c22-9edf-fd64fe26ae86",
   "metadata": {},
   "source": [
    "#### QUESTION 2"
   ]
  },
  {
   "cell_type": "code",
   "execution_count": 5,
   "id": "b891194f-2442-4391-b40c-d09ee497e07e",
   "metadata": {},
   "outputs": [
    {
     "name": "stdout",
     "output_type": "stream",
     "text": [
      "Yes\n"
     ]
    }
   ],
   "source": [
    "# To check if a string is palindrome\n",
    "def isPalindrome(s) :\n",
    "    return s == s[::-1]\n",
    "s = \"malayalam\"\n",
    "ans = isPalindrome(s)\n",
    "if ans:\n",
    "   print(\"Yes\")\n",
    "else: \n",
    "   print(\"No\")"
   ]
  },
  {
   "cell_type": "markdown",
   "id": "4363828f-cedf-41eb-8a11-dcb474fde279",
   "metadata": {},
   "source": [
    "#### QUESTION 3"
   ]
  },
  {
   "cell_type": "code",
   "execution_count": 3,
   "id": "0d8347c6-9d11-4f34-9c9e-9c46f9a54e71",
   "metadata": {},
   "outputs": [
    {
     "data": {
      "text/plain": [
       "'JASMINE'"
      ]
     },
     "execution_count": 3,
     "metadata": {},
     "output_type": "execute_result"
    }
   ],
   "source": [
    "# To convert a string into uppercase\n",
    "s = \"jasmine\"\n",
    "s.upper()"
   ]
  },
  {
   "cell_type": "markdown",
   "id": "0ccdcff2-bb26-4526-8c92-404e2ac93ad0",
   "metadata": {},
   "source": [
    "#### QUESTION 4"
   ]
  },
  {
   "cell_type": "code",
   "execution_count": 11,
   "id": "d04f9f83-4443-4f98-a1a1-a261b18fcde9",
   "metadata": {},
   "outputs": [
    {
     "data": {
      "text/plain": [
       "'jasmine'"
      ]
     },
     "execution_count": 11,
     "metadata": {},
     "output_type": "execute_result"
    }
   ],
   "source": [
    "# Convert a string into lowercase\n",
    "s = \"JASMINE\"\n",
    "s.lower()"
   ]
  },
  {
   "cell_type": "markdown",
   "id": "eb84b01d-9e94-4f03-9791-3dca473aca15",
   "metadata": {},
   "source": [
    "#### QUESTION 5"
   ]
  },
  {
   "cell_type": "code",
   "execution_count": 5,
   "id": "f7b0e138-d2f0-4780-8403-cb09e8ab59b9",
   "metadata": {},
   "outputs": [
    {
     "name": "stdin",
     "output_type": "stream",
     "text": [
      "Enter the string: i am an ambivert personality\n"
     ]
    },
    {
     "name": "stdout",
     "output_type": "stream",
     "text": [
      "Number of vowels are:\n",
      "1\n",
      "Number of vowels are:\n",
      "2\n",
      "Number of vowels are:\n",
      "3\n",
      "Number of vowels are:\n",
      "4\n",
      "Number of vowels are:\n",
      "5\n",
      "Number of vowels are:\n",
      "6\n",
      "Number of vowels are:\n",
      "7\n",
      "Number of vowels are:\n",
      "8\n",
      "Number of vowels are:\n",
      "9\n",
      "Number of vowels are:\n",
      "10\n"
     ]
    }
   ],
   "source": [
    "# To count number of vowels in a string\n",
    "string  = input(\"Enter the string:\")\n",
    "vowels = 0\n",
    "for i in string :\n",
    "    if (i=='a' or i=='e' or i=='i' or i=='o' or i=='u' or i=='A' or i=='E' or i=='I' or i=='O' or i=='U'):\n",
    "        vowels = vowels +1\n",
    "        print(\"Number of vowels are:\")\n",
    "        print(vowels)"
   ]
  },
  {
   "cell_type": "markdown",
   "id": "0a050354-a37f-4094-af42-99991a99560c",
   "metadata": {},
   "source": [
    "#### QUESTION 6"
   ]
  },
  {
   "cell_type": "code",
   "execution_count": 5,
   "id": "8442f29a-2c89-4f76-b205-cb52bc8da893",
   "metadata": {},
   "outputs": [
    {
     "name": "stdin",
     "output_type": "stream",
     "text": [
      "Enter a string :  My name is Jasmine\n"
     ]
    },
    {
     "name": "stdout",
     "output_type": "stream",
     "text": [
      "Number of vowels: 6\n",
      "Number of consonets: 1\n"
     ]
    }
   ],
   "source": [
    "# Count number of consonents in a string\n",
    "vowels = 0\n",
    "consonants = 0\n",
    "# Enter an input string\n",
    "user_input = input(\"Enter a string : \")\n",
    "string = user_input.lower()\n",
    "\n",
    "for i in string :\n",
    "    if (i == 'a' or i== 'e' or i == 'i' or i == 'o' or i == 'u' ):\n",
    "            vowels = vowels+1;\n",
    "else:\n",
    "    consonants = consonants+1;\n",
    "    print(\"Number of vowels:\",vowels);\n",
    "    print(\"Number of consonats:\",consonants);\n"
   ]
  },
  {
   "cell_type": "markdown",
   "id": "c1dd8b9e-d8e7-4519-9518-b8dadb0eeeae",
   "metadata": {},
   "source": [
    "#### QUESTION 7"
   ]
  },
  {
   "cell_type": "code",
   "execution_count": 16,
   "id": "f357817c-1d60-495b-b647-4d736bbddf1f",
   "metadata": {},
   "outputs": [],
   "source": [
    "# To remove all the whitespaces in a string\n",
    "s1 = \" Hello World\""
   ]
  },
  {
   "cell_type": "code",
   "execution_count": 17,
   "id": "2e437ba5-1fc4-4f03-9508-a7c17fdf28fa",
   "metadata": {},
   "outputs": [
    {
     "data": {
      "text/plain": [
       "'HelloWorld'"
      ]
     },
     "execution_count": 17,
     "metadata": {},
     "output_type": "execute_result"
    }
   ],
   "source": [
    "s1.replace(\" \" , \"\")"
   ]
  },
  {
   "cell_type": "markdown",
   "id": "3a97aafc-52cc-4241-a772-d8d15f14e872",
   "metadata": {},
   "source": [
    "#### QUESTION 8"
   ]
  },
  {
   "cell_type": "code",
   "execution_count": 21,
   "id": "17a639ed-3d95-4cf9-b284-01e1a14f47a5",
   "metadata": {},
   "outputs": [
    {
     "name": "stdout",
     "output_type": "stream",
     "text": [
      "1\n",
      "2\n",
      "3\n",
      "4\n",
      "5\n",
      "6\n",
      "7\n"
     ]
    }
   ],
   "source": [
    "# Count length of string \n",
    "string = \"Jasmine\"\n",
    "count = 0\n",
    "for i in string :\n",
    "    count+=1\n",
    "    print(count)"
   ]
  },
  {
   "cell_type": "markdown",
   "id": "4b32d19f-5888-43e6-9d23-ef1eb0173a3d",
   "metadata": {},
   "source": [
    "#### QUESTION 9"
   ]
  },
  {
   "cell_type": "code",
   "execution_count": 24,
   "id": "283820a0-f7b8-4d69-84ef-b30ac6d2c5c8",
   "metadata": {},
   "outputs": [
    {
     "name": "stdout",
     "output_type": "stream",
     "text": [
      "Found\n"
     ]
    }
   ],
   "source": [
    "# Check if a string contains a specific word\n",
    "string = \"I am a data enthusiast\"\n",
    "if \"data\" in string :\n",
    "   print(\"Found\")\n",
    "else:\n",
    "   print(\"Not Found\")\n"
   ]
  },
  {
   "cell_type": "markdown",
   "id": "7384994e-000d-4ea6-83fd-b0bedef29c74",
   "metadata": {},
   "source": [
    "#### QUESTION 10"
   ]
  },
  {
   "cell_type": "code",
   "execution_count": 9,
   "id": "89010ed3-82ac-4696-9d68-583e72fc8a91",
   "metadata": {},
   "outputs": [
    {
     "name": "stdout",
     "output_type": "stream",
     "text": [
      "My name is Jessie\n"
     ]
    }
   ],
   "source": [
    "# Replace a word with another word in a string\n",
    "string  = \"My name is Jasmine\"\n",
    "new_string =  string.replace(\"Jasmine\", \"Jessie\")\n",
    "print(new_string)"
   ]
  },
  {
   "cell_type": "markdown",
   "id": "6c2cbc83-66bc-421b-ba75-678495d55b9c",
   "metadata": {},
   "source": [
    "#### QUESTION 11 "
   ]
  },
  {
   "cell_type": "code",
   "execution_count": 29,
   "id": "ccf85722-6b6d-498e-9d73-caf2b434a926",
   "metadata": {},
   "outputs": [
    {
     "name": "stdout",
     "output_type": "stream",
     "text": [
      "2\n"
     ]
    }
   ],
   "source": [
    "# Count the occurences of a word in a string\n",
    "string = \"I love apples , apples are my favourite fruit . \"\n",
    "x = string.count(\"apples\")\n",
    "print(x)"
   ]
  },
  {
   "cell_type": "markdown",
   "id": "11f99c7a-83bb-4009-adaf-cea83b7ee134",
   "metadata": {},
   "source": [
    "#### QUESTION 12"
   ]
  },
  {
   "cell_type": "code",
   "execution_count": 30,
   "id": "9203e9f3-d885-4429-aa73-9371151ada35",
   "metadata": {},
   "outputs": [
    {
     "name": "stdout",
     "output_type": "stream",
     "text": [
      "1\n"
     ]
    }
   ],
   "source": [
    "# Find the first occurence of a word in a string\n",
    "string = \"jennifer\"\n",
    "result = string.find(\"e\")\n",
    "print(result)"
   ]
  },
  {
   "cell_type": "markdown",
   "id": "819fdc3e-d4b4-4b8f-924a-31657f8d01c7",
   "metadata": {},
   "source": [
    "#### QUESTION 13"
   ]
  },
  {
   "cell_type": "code",
   "execution_count": 4,
   "id": "ddfabfb2-9349-400b-90de-a66e91a26b11",
   "metadata": {},
   "outputs": [
    {
     "name": "stdout",
     "output_type": "stream",
     "text": [
      "The last index of i in the  given string is 8\n"
     ]
    }
   ],
   "source": [
    "# Find the last occurence of a word in a string \n",
    "str1 = \"I love listening and singing songs\"\n",
    "index  = str1.index(\"i\")\n",
    "print(\"The last index of i in the  given string is\" ,index)"
   ]
  },
  {
   "cell_type": "markdown",
   "id": "13b11da3-478d-46ab-bcc0-f4c15649062b",
   "metadata": {},
   "source": [
    "#### QUESTION 14"
   ]
  },
  {
   "cell_type": "code",
   "execution_count": 5,
   "id": "036e2643-859e-4224-a065-a4257dfbb9a0",
   "metadata": {},
   "outputs": [
    {
     "name": "stdout",
     "output_type": "stream",
     "text": [
      "['I', 'am', 'studying', 'in', 'Panjab', 'University']\n"
     ]
    }
   ],
   "source": [
    "# Split a string into list of words\n",
    "string = \"I am studying in Panjab University \"\n",
    "x = string.split()\n",
    "print(x)"
   ]
  },
  {
   "cell_type": "markdown",
   "id": "54edfbd1-5bd8-4ff2-83ed-51adf5b13538",
   "metadata": {},
   "source": [
    "#### QUESTION 15"
   ]
  },
  {
   "cell_type": "code",
   "execution_count": 4,
   "id": "97b70f69-30c0-4441-90ab-74c8454d3041",
   "metadata": {},
   "outputs": [
    {
     "name": "stdout",
     "output_type": "stream",
     "text": [
      "Python is a fun language\n"
     ]
    }
   ],
   "source": [
    "# Join a list of words into string\n",
    "text = ['Python' ,  'is' ,  'a'  ,  'fun'  ,  'language'  ]\n",
    "print(' '.join(text))\n"
   ]
  },
  {
   "cell_type": "markdown",
   "id": "08e1f7ea-8c6f-48ad-9845-ea7c6a46ca01",
   "metadata": {},
   "source": [
    "#### QUESTION 16"
   ]
  },
  {
   "cell_type": "code",
   "execution_count": 6,
   "id": "d8b7f6f6-eaab-4cdc-b1b7-5117c7d8aae0",
   "metadata": {},
   "outputs": [
    {
     "name": "stdout",
     "output_type": "stream",
     "text": [
      "I_am_pursuing_Masters\n"
     ]
    }
   ],
   "source": [
    "# Replace whitespace with underscores\n",
    "s = \"I am pursuing Masters\" \n",
    "x = s.replace(\" \",\"_\")\n",
    "print(x)"
   ]
  },
  {
   "cell_type": "markdown",
   "id": "23966b82-19d7-4419-bd99-db055d5a0696",
   "metadata": {},
   "source": [
    "#### QUESTION 17"
   ]
  },
  {
   "cell_type": "code",
   "execution_count": 10,
   "id": "c9b34cf8-8a42-43f3-8214-224df516c041",
   "metadata": {},
   "outputs": [
    {
     "name": "stdout",
     "output_type": "stream",
     "text": [
      "True\n"
     ]
    }
   ],
   "source": [
    "# Check if a string  starts with a specific word or phrase\n",
    "s = \"Python is fun\"\n",
    "print(s.startswith('Python'))"
   ]
  },
  {
   "cell_type": "markdown",
   "id": "486afd76-ea1f-431d-b665-f33af6bdea93",
   "metadata": {},
   "source": [
    "#### QUESTION 18"
   ]
  },
  {
   "cell_type": "code",
   "execution_count": 138,
   "id": "f2b20c73-ace8-4984-81ee-4fde07c84d0a",
   "metadata": {},
   "outputs": [
    {
     "name": "stdout",
     "output_type": "stream",
     "text": [
      "True\n"
     ]
    }
   ],
   "source": [
    "# Check if a string ends with a specific word or phrase\n",
    "s = \"Python is fun\"\n",
    "print(s.endswith('fun'))"
   ]
  },
  {
   "cell_type": "markdown",
   "id": "87cee174-1f0a-41a1-a214-2988e29b49b5",
   "metadata": {},
   "source": [
    "#### QUESTION 19"
   ]
  },
  {
   "cell_type": "code",
   "execution_count": 12,
   "id": "42441cc4-637a-49eb-94fd-e0ac72503719",
   "metadata": {},
   "outputs": [
    {
     "name": "stdout",
     "output_type": "stream",
     "text": [
      " My Hobby Is Reading Books \n"
     ]
    }
   ],
   "source": [
    "# Convert a string into title case\n",
    "s = \" My hobby is reading books \"\n",
    "x = s.title()\n",
    "print(x)"
   ]
  },
  {
   "cell_type": "markdown",
   "id": "de6443db-8016-4a4d-b16a-2851257be403",
   "metadata": {},
   "source": [
    "#### QUESTION 20"
   ]
  },
  {
   "cell_type": "code",
   "execution_count": 6,
   "id": "b93d142e-402d-4740-a6a5-dab99eea73c4",
   "metadata": {},
   "outputs": [
    {
     "name": "stdout",
     "output_type": "stream",
     "text": [
      "admires\n"
     ]
    }
   ],
   "source": [
    "# Find the longest word in string\n",
    "string = \"I admires the nature a lot\"\n",
    "word_list = string.split()\n",
    "longest_word = max(word_list , key = len)\n",
    "print(longest_word)"
   ]
  },
  {
   "cell_type": "markdown",
   "id": "76906e30-9fae-49af-a113-3fc59ccc2eaa",
   "metadata": {},
   "source": [
    "#### QUESTION 21"
   ]
  },
  {
   "cell_type": "code",
   "execution_count": 7,
   "id": "34624e82-cd3d-44a9-bbe8-2929663f2ba6",
   "metadata": {},
   "outputs": [
    {
     "name": "stdout",
     "output_type": "stream",
     "text": [
      "I\n"
     ]
    }
   ],
   "source": [
    "# Find the shortest word in string\n",
    "string = \"I admires the nature a lot\"\n",
    "word_list = string.split()\n",
    "shortest_word = min(word_list , key = len)\n",
    "print(shortest_word)"
   ]
  },
  {
   "cell_type": "markdown",
   "id": "dbd1583e-8224-4072-9400-3b0d98192cd6",
   "metadata": {},
   "source": [
    "#### QUESTION 22"
   ]
  },
  {
   "cell_type": "code",
   "execution_count": 8,
   "id": "69741bb7-5947-4068-9375-556cbbac9062",
   "metadata": {},
   "outputs": [
    {
     "name": "stdout",
     "output_type": "stream",
     "text": [
      "lot a nature the admires I\n"
     ]
    }
   ],
   "source": [
    "# Reverse the order of words in a string\n",
    "str = \" I admires nature a lot\"\n",
    "words = string.split()\n",
    "words = list(reversed(words))\n",
    "print(\" \".join(words))"
   ]
  },
  {
   "cell_type": "markdown",
   "id": "995d164b-189d-4ced-b814-0c6322e3b579",
   "metadata": {},
   "source": [
    "#### QUESTION 23"
   ]
  },
  {
   "cell_type": "code",
   "execution_count": 9,
   "id": "34b459cc-8b65-4d4e-8fc5-4dbb083f8a44",
   "metadata": {},
   "outputs": [
    {
     "name": "stdout",
     "output_type": "stream",
     "text": [
      "True\n"
     ]
    }
   ],
   "source": [
    "# Check if a string is alphanumeric\n",
    "str = \"jasmine1357\"\n",
    "x = str.isalnum()\n",
    "print(x)"
   ]
  },
  {
   "cell_type": "markdown",
   "id": "b77af524-8e6f-4702-a2d1-64caf083827c",
   "metadata": {},
   "source": [
    "#### QUESTION 24"
   ]
  },
  {
   "cell_type": "code",
   "execution_count": 35,
   "id": "44a036a7-e712-47e6-a089-61e878f47a16",
   "metadata": {},
   "outputs": [
    {
     "name": "stdout",
     "output_type": "stream",
     "text": [
      "original string :jas45mine1357\n",
      "Extracted numbers from the list : 451357\n"
     ]
    }
   ],
   "source": [
    "# Extract all the digits from a string\n",
    "str = \"jas45mine1357\"\n",
    "print(\"original string :\" + str)\n",
    "num = \"\"\n",
    "for c in str:\n",
    "    if c.isdigit():\n",
    "        num = num+c\n",
    "print(\"Extracted numbers from the list : \" + num)\n"
   ]
  },
  {
   "cell_type": "markdown",
   "id": "a0faa218-84ee-4c6f-aab0-ee7bd672e2fa",
   "metadata": {},
   "source": [
    "#### QUESTION 25"
   ]
  },
  {
   "cell_type": "code",
   "execution_count": 141,
   "id": "d637ed41-22c6-4c78-80d7-a44c0d61b9a4",
   "metadata": {},
   "outputs": [
    {
     "name": "stdout",
     "output_type": "stream",
     "text": [
      "Result: jasmine\n"
     ]
    }
   ],
   "source": [
    "# Extract all the alphabets from the string\n",
    "str = \"jas45mine1357\"\n",
    "res  = \"\"\n",
    "for i  in str:\n",
    "    if i.isalpha():\n",
    "     res = \"\".join([res, i])\n",
    "    \n",
    "print(\"Result:\" , res)"
   ]
  },
  {
   "cell_type": "markdown",
   "id": "ddca9909-6fc6-4658-a625-9e81333304a0",
   "metadata": {},
   "source": [
    "#### QUESTION 26"
   ]
  },
  {
   "cell_type": "code",
   "execution_count": 10,
   "id": "4fc166c5-b554-4843-81c2-35e1141f6475",
   "metadata": {},
   "outputs": [
    {
     "name": "stdout",
     "output_type": "stream",
     "text": [
      "The number of capital letters found in the string is :  4\n"
     ]
    }
   ],
   "source": [
    "# Count the number of uppercase letters in a string\n",
    "string = \"JASMine\"\n",
    "count  = 0 \n",
    "for i in string :\n",
    "    if i.isupper():\n",
    "        count = count+1\n",
    "print(\"The number of capital letters found in the string is : \" , count)"
   ]
  },
  {
   "cell_type": "markdown",
   "id": "c8cce33f-171f-459f-853a-825a68072010",
   "metadata": {},
   "source": [
    "#### QUESTION 27"
   ]
  },
  {
   "cell_type": "code",
   "execution_count": 11,
   "id": "f8a8e72c-4296-4d60-9ccb-91b67eab1742",
   "metadata": {},
   "outputs": [
    {
     "name": "stdout",
     "output_type": "stream",
     "text": [
      "The number of small letters found in the string are : 5\n"
     ]
    }
   ],
   "source": [
    "# Count the number of lowercase letters in a string\n",
    "string = \"JasmIne\"\n",
    "count = 0\n",
    "for i in string :\n",
    "    if i.islower():\n",
    "        count = count+1\n",
    "print(\"The number of small letters found in the string are :\" , count)        "
   ]
  },
  {
   "cell_type": "markdown",
   "id": "1662188f-7d17-4142-9dbe-360415bdc9d8",
   "metadata": {},
   "source": [
    "#### QUESTION 28"
   ]
  },
  {
   "cell_type": "code",
   "execution_count": 12,
   "id": "08869421-7dc7-40ec-9e80-38ac3506050b",
   "metadata": {},
   "outputs": [
    {
     "name": "stdout",
     "output_type": "stream",
     "text": [
      "GeeKSfORgEEkS\n"
     ]
    }
   ],
   "source": [
    "# Swap the case of each character in a string\n",
    "string  = \"gEEksForGeeKs\"\n",
    "print(string.swapcase())"
   ]
  },
  {
   "cell_type": "markdown",
   "id": "7882ccf1-e563-4290-90af-053d2b90bb94",
   "metadata": {},
   "source": [
    "#### QUESTION 29"
   ]
  },
  {
   "cell_type": "code",
   "execution_count": 13,
   "id": "3f1b7e70-4246-4ea1-8b16-a8ea5ef61260",
   "metadata": {},
   "outputs": [
    {
     "name": "stdout",
     "output_type": "stream",
     "text": [
      "My name  jasmine\n"
     ]
    }
   ],
   "source": [
    "# Remove a specific word from a string\n",
    "string = \"My name is jasmine\"\n",
    "x = string.replace(\"is\",'')\n",
    "print(x)"
   ]
  },
  {
   "cell_type": "markdown",
   "id": "94da9b2d-ff59-45d6-88a0-77b30df4a493",
   "metadata": {},
   "source": [
    "#### QUESTION 30"
   ]
  },
  {
   "cell_type": "code",
   "execution_count": 60,
   "id": "db7473cb-9478-42df-ba83-ec33fde24f71",
   "metadata": {},
   "outputs": [
    {
     "name": "stdout",
     "output_type": "stream",
     "text": [
      "Valid email address\n"
     ]
    }
   ],
   "source": [
    "# Check if a string is a valid e-mail address\n",
    "import re\n",
    "def validate_email(email):\n",
    "    if re.match(r\"[^@]+@[^@]+\\.[^@]+\",email):\n",
    "        return True\n",
    "        return False\n",
    "\n",
    "email = \"jasminekaur3301@gmail.com\"\n",
    "if validate_email(email):\n",
    "    print(\"Valid email address\")\n",
    "else :\n",
    "    print(\"Invalid email address\")"
   ]
  },
  {
   "cell_type": "markdown",
   "id": "a7bbc96f-45f9-44e1-8538-2613ddc2e489",
   "metadata": {},
   "source": [
    "#### QUESTION 31"
   ]
  },
  {
   "cell_type": "code",
   "execution_count": 120,
   "id": "fc7a27af-29fe-4313-b03f-35487ec249db",
   "metadata": {},
   "outputs": [
    {
     "name": "stdout",
     "output_type": "stream",
     "text": [
      "username :jasminekaur3301 \n"
     ]
    }
   ],
   "source": [
    "# Extract the username from an email address string\n",
    "def extract_username(email):\n",
    "    if '@' in email:\n",
    "        username = email.split(\"@\")[0]\n",
    "        return username\n",
    "        \n",
    "email_address = \"jasminekaur3301@gmail.com\"\n",
    "username = extract_username(email_address)\n",
    "print(f\"username :{username} \")"
   ]
  },
  {
   "cell_type": "markdown",
   "id": "9a28f25a-e6f1-4b5b-a84b-7ad32c013bfe",
   "metadata": {},
   "source": [
    "#### QUESTION 32"
   ]
  },
  {
   "cell_type": "code",
   "execution_count": 117,
   "id": "f2db3fcd-0687-416e-8cee-fc93d95d6277",
   "metadata": {},
   "outputs": [
    {
     "name": "stdout",
     "output_type": "stream",
     "text": [
      "gmail.com\n"
     ]
    }
   ],
   "source": [
    "# Extract the domain name from an email address string\n",
    "def extract_domain(email):\n",
    "    username , domain = email.split('@')\n",
    "    return domain\n",
    "email_address = \"jasminekaur3301@gmail.com\"\n",
    "domain_name = extract_domain(email_address)\n",
    "print(domain_name)"
   ]
  },
  {
   "cell_type": "markdown",
   "id": "cef1e7ea-ee04-4fa6-a0c8-68e17294d505",
   "metadata": {},
   "source": [
    "#### QUESTION 33"
   ]
  },
  {
   "cell_type": "code",
   "execution_count": 122,
   "id": "63e0f348-ad62-4a0a-8262-90c70ba22de1",
   "metadata": {},
   "outputs": [
    {
     "name": "stdout",
     "output_type": "stream",
     "text": [
      "'bob has two apples'\n"
     ]
    }
   ],
   "source": [
    "# Replace multiple spaces in a string with a single string\n",
    "string = \" bob   has   two    apples\"\n",
    "result = \" \" .join(string.split())\n",
    "print(repr(result))"
   ]
  },
  {
   "cell_type": "markdown",
   "id": "6bc3a122-8092-48b9-8f4e-aa79897aa3f8",
   "metadata": {},
   "source": [
    "#### QUESTION 34"
   ]
  },
  {
   "cell_type": "code",
   "execution_count": 2,
   "id": "c5ebe7fc-3104-48de-8328-19bd24046e46",
   "metadata": {},
   "outputs": [
    {
     "name": "stdin",
     "output_type": "stream",
     "text": [
      "Enter url:  https://learn.pwskills.com/lesson/03rd-Sep'23-:-Operators-and-Control-flow/64f45525fe327f949ba3af84/course/Full-Stack-Data-Science-Pro/64a264076977ccc0a0e20c13\n"
     ]
    },
    {
     "name": "stdout",
     "output_type": "stream",
     "text": [
      "https://learn.pwskills.com/lesson/03rd-Sep'23-:-Operators-and-Control-flow/64f45525fe327f949ba3af84/course/Full-Stack-Data-Science-Pro/64a264076977ccc0a0e20c13 is a valid HTTPS URL with and '.com'.\n"
     ]
    }
   ],
   "source": [
    "# Check if a string is a valid URL\n",
    "url = input(\"Enter url: \")\n",
    "if not url :\n",
    "    print(\"Empty URL , Please provide a valid URL.\")\n",
    "elif url.startswith(\"https://\") and \".com\" in url:\n",
    "    print(f\"{url} is a valid HTTPS URL with and '.com'.\")\n",
    "else:\n",
    "    print(f\"{url} does not meet the specified conditions.\")"
   ]
  },
  {
   "cell_type": "markdown",
   "id": "8db23910-2e91-417f-b3e2-06ac3481d6a1",
   "metadata": {},
   "source": [
    "#### QUESTION 35"
   ]
  },
  {
   "cell_type": "code",
   "execution_count": 80,
   "id": "feee766f-645e-450d-a946-58a3dfe3837b",
   "metadata": {},
   "outputs": [
    {
     "name": "stdout",
     "output_type": "stream",
     "text": [
      "The protocol of the URL is : https\n"
     ]
    }
   ],
   "source": [
    "# Extract the protocol(http or https) from a URL string \n",
    "import re\n",
    "\n",
    "def extract_protocol(url):\n",
    "    match = re.match(r'^\\s*([a-zA-Z]+)\\s*://' , url)\n",
    "    if match:\n",
    "        return match.group(1)\n",
    "    else:\n",
    "        return None\n",
    "\n",
    "url = \"https://www.example.com/path/to/resource\"\n",
    "protocol = extract_protocol(url)\n",
    "print(f\"The protocol of the URL is : {protocol}\")"
   ]
  },
  {
   "cell_type": "markdown",
   "id": "0cfe0795-069c-46a0-89a1-2d509c15be34",
   "metadata": {},
   "source": [
    "#### QUESTION 36"
   ]
  },
  {
   "cell_type": "code",
   "execution_count": 123,
   "id": "eb9c188c-9a97-4d8e-9f04-a91e3a090771",
   "metadata": {},
   "outputs": [
    {
     "name": "stdout",
     "output_type": "stream",
     "text": [
      "The counts of all characters in string is :{'i': 2, ' ': 3, 'a': 2, 'e': 2, 's': 2, 'n': 2, 'm': 3, 'j': 1, 'y': 1}\n"
     ]
    }
   ],
   "source": [
    "# Find the frequency of each character in a string\n",
    "string  = \"my name is jasmine\"\n",
    "res = {i : string.count(i) for i in set(string)}\n",
    "print(\"The counts of all characters in string is :\" + str(res))"
   ]
  },
  {
   "cell_type": "markdown",
   "id": "57f25d3a-2490-48ac-b551-1c61e7543346",
   "metadata": {},
   "source": [
    "#### QUESTION 37"
   ]
  },
  {
   "cell_type": "code",
   "execution_count": 133,
   "id": "780a4c44-5940-40c1-a6db-129742689fd6",
   "metadata": {},
   "outputs": [
    {
     "name": "stdout",
     "output_type": "stream",
     "text": [
      "Hello  World This is an example\n"
     ]
    }
   ],
   "source": [
    "# Remove all punctuations from a string\n",
    "def remove_punctuation(input_string):\n",
    "     return''.join(char for char in input_string if char.isalnum() or char.isspace())\n",
    "input_text = \"Hello , World! This is an example.\"\n",
    "result = remove_punctuation(input_text)\n",
    "print(result)"
   ]
  },
  {
   "cell_type": "markdown",
   "id": "c634e2e6-e754-4dcd-9de6-2cb08dbf46b9",
   "metadata": {},
   "source": [
    "#### QUESTION 38"
   ]
  },
  {
   "cell_type": "code",
   "execution_count": 134,
   "id": "bf4b94e5-a554-4728-868d-f04de0c9fd99",
   "metadata": {},
   "outputs": [
    {
     "data": {
      "text/plain": [
       "True"
      ]
     },
     "execution_count": 134,
     "metadata": {},
     "output_type": "execute_result"
    }
   ],
   "source": [
    "# Check if a string contains only digits\n",
    "string = \"12345\"\n",
    "string.isdigit()"
   ]
  },
  {
   "cell_type": "markdown",
   "id": "5ae4ec99-f447-47f7-a1d7-e386182af658",
   "metadata": {},
   "source": [
    "#### QUESTION 39"
   ]
  },
  {
   "cell_type": "code",
   "execution_count": 148,
   "id": "9c058ff8-5c01-4755-ad18-0337496e8f3c",
   "metadata": {},
   "outputs": [
    {
     "data": {
      "text/plain": [
       "True"
      ]
     },
     "execution_count": 148,
     "metadata": {},
     "output_type": "execute_result"
    }
   ],
   "source": [
    "# Check if a string contains only alphabets\n",
    "string = \"jasmine\"\n",
    "string.isalpha()"
   ]
  },
  {
   "cell_type": "markdown",
   "id": "1bf3b654-f6d3-4f85-804a-4e43ab755e1d",
   "metadata": {},
   "source": [
    "#### QUESTION 40"
   ]
  },
  {
   "cell_type": "code",
   "execution_count": 142,
   "id": "16aa170d-658e-4297-8c80-b4221fdd2941",
   "metadata": {},
   "outputs": [
    {
     "name": "stdout",
     "output_type": "stream",
     "text": [
      "['a', 'b', 'c', '$', ' ', '#', ' ', '3', '2', '2', '1', ' ']\n"
     ]
    }
   ],
   "source": [
    "# Convert a string to a list of characters\n",
    "s = \"abc$ # 3221 \"\n",
    "x  = [i for i in s ] \n",
    "print(x)"
   ]
  },
  {
   "cell_type": "markdown",
   "id": "b05785fe-ab77-4bab-b87e-aa8ad6814fde",
   "metadata": {},
   "source": [
    "#### QUESTION 41"
   ]
  },
  {
   "cell_type": "code",
   "execution_count": 162,
   "id": "2b1f1c45-dcc6-46d6-b638-48f240260bea",
   "metadata": {},
   "outputs": [
    {
     "name": "stdout",
     "output_type": "stream",
     "text": [
      "string1 after sorting ['e', 'i', 'l', 'n', 's', 't']\n",
      "string2 after sorting ['e', 'i', 'l', 'n', 's', 't']\n",
      "Strings are anagrams\n"
     ]
    }
   ],
   "source": [
    "# Check if two strings are anagrams\n",
    "string1 = \"listen\"\n",
    "string2 = \"silent\"\n",
    "string1 = sorted(string1.lower())\n",
    "string2 = sorted(string2.lower())\n",
    "\n",
    "print(\"string1 after sorting\" , string1)\n",
    "print(\"string2 after sorting\" , string2)\n",
    "if string1==string2 :\n",
    "    print(\"Strings are anagrams\")\n",
    "else:\n",
    "    print(\"Strings are not anagrams\")"
   ]
  },
  {
   "cell_type": "markdown",
   "id": "7cc895fd-c391-4b6a-8ca0-108769bcae20",
   "metadata": {},
   "source": [
    "#### QUESTION 42"
   ]
  },
  {
   "cell_type": "code",
   "execution_count": 78,
   "id": "1e3bcec9-f981-45ae-81f8-0b887dfa4f35",
   "metadata": {},
   "outputs": [
    {
     "ename": "NameError",
     "evalue": "name 'shuffle_alphabet' is not defined",
     "output_type": "error",
     "traceback": [
      "\u001b[1;31m---------------------------------------------------------------------------\u001b[0m",
      "\u001b[1;31mNameError\u001b[0m                                 Traceback (most recent call last)",
      "Cell \u001b[1;32mIn[78], line 15\u001b[0m\n\u001b[0;32m     12\u001b[0m     \u001b[38;5;28;01mreturn\u001b[39;00m encoded_text\n\u001b[0;32m     14\u001b[0m original_text \u001b[38;5;241m=\u001b[39m \u001b[38;5;124m\"\u001b[39m\u001b[38;5;124mHello , World!\u001b[39m\u001b[38;5;124m\"\u001b[39m\n\u001b[1;32m---> 15\u001b[0m substitution_key \u001b[38;5;241m=\u001b[39m \u001b[43mgenerate_substitution_key\u001b[49m\u001b[43m(\u001b[49m\u001b[43m)\u001b[49m\n\u001b[0;32m     16\u001b[0m encoded_text \u001b[38;5;241m=\u001b[39m substitution_cipher_encode(original_text , substitution_key)\n\u001b[0;32m     17\u001b[0m \u001b[38;5;28mprint\u001b[39m(\u001b[38;5;124m\"\u001b[39m\u001b[38;5;124mOriginal:\u001b[39m\u001b[38;5;124m\"\u001b[39m , original_text)\n",
      "Cell \u001b[1;32mIn[78], line 7\u001b[0m, in \u001b[0;36mgenerate_substitution_key\u001b[1;34m()\u001b[0m\n\u001b[0;32m      5\u001b[0m shuffled_alphabet \u001b[38;5;241m=\u001b[39m \u001b[38;5;28mlist\u001b[39m(alphabet)\n\u001b[0;32m      6\u001b[0m random\u001b[38;5;241m.\u001b[39mshuffle(shuffled_alphabet)\n\u001b[1;32m----> 7\u001b[0m substitution_key \u001b[38;5;241m=\u001b[39m \u001b[38;5;28mdict\u001b[39m(\u001b[38;5;28mzip\u001b[39m(alphabet,\u001b[43mshuffle_alphabet\u001b[49m))\n\u001b[0;32m      8\u001b[0m \u001b[38;5;28;01mreturn\u001b[39;00m subtitution_key\n",
      "\u001b[1;31mNameError\u001b[0m: name 'shuffle_alphabet' is not defined"
     ]
    }
   ],
   "source": [
    "# Encode a string using a Caeser cipher\n",
    "import random\n",
    "def generate_substitution_key():\n",
    "    alphabet = 'ABCDEFGHIJKLMNOPQRSTUVWXYZ'\n",
    "    shuffled_alphabet = list(alphabet)\n",
    "    random.shuffle(shuffled_alphabet)\n",
    "    substitution_key = dict(zip(alphabet,shuffle_alphabet))\n",
    "    return subtitution_key\n",
    "\n",
    "def substitution_cipher_encode(text , substitution_key):\n",
    "    encoded_text = ''.join(substitution_key.get(char,char) for char in text.upper())\n",
    "    return encoded_text\n",
    "\n",
    "original_text = \"Hello , World!\"\n",
    "substitution_key = generate_substitution_key()\n",
    "encoded_text = substitution_cipher_encode(original_text , substitution_key)\n",
    "print(\"Original:\" , original_text)\n",
    "print(\"Encoded:\" , encoded_text)"
   ]
  },
  {
   "cell_type": "markdown",
   "id": "2e6c2a2c-5ccb-4b02-bb29-740e6ba676c0",
   "metadata": {},
   "source": [
    "#### QUESTION 43"
   ]
  },
  {
   "cell_type": "code",
   "execution_count": 40,
   "id": "7eb88c38-e896-4aba-9638-dcb20f9b82f0",
   "metadata": {},
   "outputs": [
    {
     "ename": "IndentationError",
     "evalue": "expected an indented block after 'if' statement on line 12 (14435470.py, line 14)",
     "output_type": "error",
     "traceback": [
      "\u001b[1;36m  Cell \u001b[1;32mIn[40], line 14\u001b[1;36m\u001b[0m\n\u001b[1;33m    decoded_string  += chr((ord(char) - shift - 97)%26 + 97)\u001b[0m\n\u001b[1;37m    ^\u001b[0m\n\u001b[1;31mIndentationError\u001b[0m\u001b[1;31m:\u001b[0m expected an indented block after 'if' statement on line 12\n"
     ]
    }
   ],
   "source": [
    "# Decode a Caeser cipher encoded string\n",
    "# Define a function to decode a string using a Caeser cipher\n",
    "def caeser_cipher_decoder(encoded_string, shift):\n",
    "\n",
    " # Initialise an empty string to store the decoded text\n",
    "   decoded_string = \"\"\n",
    "\n",
    "# Loop through each character in the input text\n",
    "   for char in text:\n",
    "    # Check if the character is an alphabetic character\n",
    "       if char.isalpha():\n",
    "           if char.islower():\n",
    "       #Calculate the decoded character using the shift value\n",
    "       decoded_string  += chr((ord(char) - shift - 97)%26 + 97)\n",
    "           else:\n",
    "               decoded_string += chr((ord(char) - shift - 65)% 26 +65)\n",
    "       else:\n",
    "    \n",
    "    # Add the decoded character to the decoded text\n",
    "           decoded_string += char\n",
    " # Return the fully decoded text\n",
    "   return decoded_string\n",
    "\n",
    "# Example input\n",
    "encoded_string = \"loop, zruog!\"\n",
    "shift = 3\n",
    "# Call the ceaser_cipher_decoder function to decode the input text\n",
    "decoded_string = ceaser_cipher_decoder(text,shift)\n",
    "# Print the decoded text\n",
    "print( decoded_string)"
   ]
  },
  {
   "cell_type": "markdown",
   "id": "c84e195b-3ec7-4d1b-b7d1-2044a45aa875",
   "metadata": {},
   "source": [
    "#### QUESTION 44"
   ]
  },
  {
   "cell_type": "code",
   "execution_count": 15,
   "id": "2f9ff2d6-2439-4dc1-b9cf-aa6dafbadb64",
   "metadata": {},
   "outputs": [
    {
     "name": "stdout",
     "output_type": "stream",
     "text": [
      "Hippopotamus\n",
      "The most frequent word is  : p\n"
     ]
    }
   ],
   "source": [
    "# Find the most frequent word in a string\n",
    "from collections import Counter\n",
    "text = \"Hippopotamus\"\n",
    "print(text)\n",
    "\n",
    "final = Counter(text)\n",
    "final = max( final , key = final.get )\n",
    "print(\"The most frequent word is  :\" , final)"
   ]
  },
  {
   "cell_type": "markdown",
   "id": "01d2eb4d-e1e9-492d-b835-4a301908d6ab",
   "metadata": {},
   "source": [
    "#### QUESTION 45"
   ]
  },
  {
   "cell_type": "code",
   "execution_count": 18,
   "id": "0157d0c0-0353-496b-ad31-2ed3cc4afc2b",
   "metadata": {},
   "outputs": [
    {
     "name": "stdout",
     "output_type": "stream",
     "text": [
      "{'g', 'k', 'r', 'f', 'o', 'e', 's'}\n"
     ]
    }
   ],
   "source": [
    "# Find all unique words in a string\n",
    "string = \"geeksforgeeks\"\n",
    "unique = set(string)\n",
    "print(unique)"
   ]
  },
  {
   "cell_type": "markdown",
   "id": "722dfc0d-7e61-4c23-a74e-d7949fe83b13",
   "metadata": {},
   "source": [
    "#### QUESTION 46"
   ]
  },
  {
   "cell_type": "code",
   "execution_count": 25,
   "id": "fd15b2d8-b64b-4443-bac8-2034800e1f31",
   "metadata": {},
   "outputs": [
    {
     "name": "stdout",
     "output_type": "stream",
     "text": [
      "3\n"
     ]
    }
   ],
   "source": [
    "# Count the number of syllables in a string\n",
    "def number_syllables(word):\n",
    "    return len(word.split('-'))\n",
    "print(number_syllables('beau-ti-ful'))    "
   ]
  },
  {
   "cell_type": "markdown",
   "id": "8f38ff2d-e59f-4fc4-8a43-a6439a78291b",
   "metadata": {},
   "source": [
    "#### QUESTION 47"
   ]
  },
  {
   "cell_type": "code",
   "execution_count": 30,
   "id": "bfc62286-46dc-49a0-9d4c-a1d5254c1365",
   "metadata": {},
   "outputs": [
    {
     "name": "stdout",
     "output_type": "stream",
     "text": [
      "The string is:\n",
      "PythonInterpreter\n",
      "String contains special characters.\n"
     ]
    }
   ],
   "source": [
    "# Check if a string contains special characters\n",
    "import re\n",
    "def check_string(my_string):\n",
    "    regex = re.compile('[@_!#$%^&*()<>?/\\|}{~:]')\n",
    "    if(regex.search(my_string) == None):\n",
    "        print(\"String contains special characters.\")\n",
    "    else:\n",
    "        print(\"String does not contain any special character.\")\n",
    "\n",
    "my_string = \"PythonInterpreter\"\n",
    "print(\"The string is:\")\n",
    "print(my_string)\n",
    "check_string(my_string)"
   ]
  },
  {
   "cell_type": "markdown",
   "id": "019d0243-daa2-4d1b-8dd3-797627ef98dc",
   "metadata": {},
   "source": [
    "#### QUESTION 48"
   ]
  },
  {
   "cell_type": "code",
   "execution_count": 49,
   "id": "759aae50-59c6-425b-a798-e1c5d7c9c272",
   "metadata": {},
   "outputs": [
    {
     "name": "stdout",
     "output_type": "stream",
     "text": [
      "Modified string after removing  8 th character\n",
      " Geeksfogeeks is fun . \n"
     ]
    }
   ],
   "source": [
    "# Remove the nth word from a string\n",
    "str = \" Geeksforgeeks is fun . \"\n",
    "n = 8\n",
    "print(\"Modified string after removing \" , n , \"th character\")\n",
    "str = str.replace(str[n] , \"\" , 1)\n",
    "print(str)"
   ]
  },
  {
   "cell_type": "markdown",
   "id": "47144cf7-5916-4f5d-89eb-7bbce38dabd0",
   "metadata": {},
   "source": [
    "#### QUESTION 49"
   ]
  },
  {
   "cell_type": "code",
   "execution_count": 50,
   "id": "d01741df-5c90-47c5-a2f0-a868c01abb41",
   "metadata": {},
   "outputs": [
    {
     "name": "stdout",
     "output_type": "stream",
     "text": [
      "tutorialspoint\n"
     ]
    }
   ],
   "source": [
    "# Insert a word at the nth position in a string\n",
    "string = \"tutorialsoint\"\n",
    "string = \"tutorials{}oint\".format('p')\n",
    "print(string)"
   ]
  },
  {
   "cell_type": "markdown",
   "id": "e05fe35d-2302-4c4e-bea5-06599ff78044",
   "metadata": {},
   "source": [
    "#### QUESTION 50"
   ]
  },
  {
   "cell_type": "code",
   "execution_count": 19,
   "id": "3b7ab4da-f7af-4e74-8307-449f388ac22e",
   "metadata": {},
   "outputs": [
    {
     "name": "stdout",
     "output_type": "stream",
     "text": [
      "['Name ', ' Age ', ' Country']\n",
      "[' John', ' 25 ', 'USA ']\n",
      "[' Alice ', ' 30 ', ' Canada ']\n",
      "[' Bob', ' 25', 'UK']\n"
     ]
    }
   ],
   "source": [
    "# Convert a CSV string to a list of lists\n",
    "\n",
    "def csv_string_to_list(csv_string):\n",
    "  # Split the CSV string into lines\n",
    "  lines = csv_string.split('\\n')\n",
    "\n",
    "  # Initialise an empty list to store the result\n",
    "  result = []\n",
    "    \n",
    "  for line in lines:\n",
    "     # Split each line into fields using comma\n",
    "     fields = line.split(',')\n",
    "\n",
    "     # Append the fields to the result list as a row\n",
    "     result.append(fields)\n",
    "\n",
    "  return result\n",
    "    \n",
    "# Example CSV string\n",
    "csv_data = \"Name , Age , Country\\n John, 25 ,USA \\n Alice , 30 , Canada \\n Bob, 25,UK\"\n",
    "\n",
    "# Convert CSV string to a list of lists\n",
    "list_of_lists = csv_string_to_list(csv_data)\n",
    "\n",
    "# Print the result\n",
    "for row in list_of_lists:\n",
    "    print(row)"
   ]
  },
  {
   "cell_type": "markdown",
   "id": "df6919ba-d33c-40ad-b5cf-8fea2c313d54",
   "metadata": {},
   "source": [
    "## List Based Practice Questions "
   ]
  },
  {
   "cell_type": "markdown",
   "id": "af2c54b5-f1c7-41da-b105-cf5cbbb5f4bf",
   "metadata": {},
   "source": [
    "#### QUESTION 1"
   ]
  },
  {
   "cell_type": "code",
   "execution_count": 62,
   "id": "575a9ed3-ec20-4273-b67f-c48ac7dceff9",
   "metadata": {},
   "outputs": [
    {
     "name": "stdout",
     "output_type": "stream",
     "text": [
      "[1, 2, 3, 4, 5, 6, 7, 8, 9]\n"
     ]
    }
   ],
   "source": [
    "# Create a list with integers from 1 to 10\n",
    "num = range(1,10)\n",
    "print(list(num))"
   ]
  },
  {
   "cell_type": "markdown",
   "id": "6d9a455f-c9b5-4660-b0d5-17645a967db6",
   "metadata": {},
   "source": [
    "#### QUESTION 2"
   ]
  },
  {
   "cell_type": "code",
   "execution_count": 70,
   "id": "4220ab4a-4221-4a1a-8c2b-4a91eb07b6b5",
   "metadata": {},
   "outputs": [
    {
     "name": "stdout",
     "output_type": "stream",
     "text": [
      "1\n",
      "2\n",
      "3\n",
      "4\n",
      "5\n",
      "6\n",
      "7\n",
      "8\n",
      "9\n",
      "10\n"
     ]
    }
   ],
   "source": [
    "# Find the length of a list \n",
    "list = [1,2,3,4,5,6,7,8,9,10]\n",
    "count = 0\n",
    "for element in list :\n",
    "    count+=1\n",
    "    print(count)"
   ]
  },
  {
   "cell_type": "markdown",
   "id": "8f3893e9-f7cf-4a87-bc83-b0d11de25ebb",
   "metadata": {},
   "source": [
    "#### QUESTION 3"
   ]
  },
  {
   "cell_type": "code",
   "execution_count": 76,
   "id": "9a6a7ebc-22b0-4900-8269-af10adbb0b60",
   "metadata": {},
   "outputs": [
    {
     "name": "stdout",
     "output_type": "stream",
     "text": [
      "[1, 2, 3, 4, 5]\n"
     ]
    }
   ],
   "source": [
    "# Append an element to last of the list\n",
    "list = [1,2,3,4]\n",
    "list.append(5)\n",
    "print(list)"
   ]
  },
  {
   "cell_type": "markdown",
   "id": "6f500d23-32a9-49f2-b9a9-8568f45b6a60",
   "metadata": {},
   "source": [
    "#### QUESTION 4"
   ]
  },
  {
   "cell_type": "code",
   "execution_count": 3,
   "id": "90f145d3-c743-4285-97c3-93822ab27fdb",
   "metadata": {},
   "outputs": [
    {
     "name": "stdout",
     "output_type": "stream",
     "text": [
      "['apple', 'sapodila', 'dragon fruit', 'custard apple']\n"
     ]
    }
   ],
   "source": [
    "# Insert an elememt at a specific index in a list\n",
    "fruits = [\"apple\" , \"sapodila\" , \"custard apple\" ]\n",
    "fruits.insert(2,\"dragon fruit\")\n",
    "print(fruits)"
   ]
  },
  {
   "cell_type": "markdown",
   "id": "2d38e2ed-d37b-4d81-90cc-4c845466f5fb",
   "metadata": {},
   "source": [
    "#### QUESTION 5\n"
   ]
  },
  {
   "cell_type": "code",
   "execution_count": 6,
   "id": "c6665cd3-2c21-4bae-85df-11e7dfc23cc1",
   "metadata": {},
   "outputs": [
    {
     "name": "stdout",
     "output_type": "stream",
     "text": [
      "['Green', 'Yellow', 'Blue', 'Grey']\n"
     ]
    }
   ],
   "source": [
    "# Remove an element from a list by its value\n",
    "color = [\"Red\" , \"Green\" , \"Yellow\" , \"Blue\" , \"Grey\"]\n",
    "color.remove(\"Red\")\n",
    "print(color)"
   ]
  },
  {
   "cell_type": "markdown",
   "id": "4129d275-dbb3-4dbb-b912-fa72f1c43e59",
   "metadata": {},
   "source": [
    "#### QUESTION 6"
   ]
  },
  {
   "cell_type": "code",
   "execution_count": 5,
   "id": "c33c3456-9018-4e82-87b1-1af6334b49ad",
   "metadata": {},
   "outputs": [
    {
     "name": "stdout",
     "output_type": "stream",
     "text": [
      "['Red', 'Green', 'Yellow', 'Blue']\n"
     ]
    }
   ],
   "source": [
    "# Remove an element from a list by its index\n",
    "color = [\"Red\" , \"Green\" , \"Yellow\" , \"Blue\" , \"Grey\"]\n",
    "color.pop(4)\n",
    "print(color)"
   ]
  },
  {
   "cell_type": "markdown",
   "id": "5136a98a-8d5e-4f22-8e03-5ee576a11a3d",
   "metadata": {},
   "source": [
    "#### QUESTION 7"
   ]
  },
  {
   "cell_type": "code",
   "execution_count": 9,
   "id": "a450d2c9-9815-41a8-981c-9bc7a6ee2ff0",
   "metadata": {},
   "outputs": [
    {
     "name": "stdout",
     "output_type": "stream",
     "text": [
      "Element exists\n"
     ]
    }
   ],
   "source": [
    "# Check if an element exists in a list\n",
    "list = [1,4,5,6,7,8,9]\n",
    "for i in list :\n",
    "    if(i==4):\n",
    "        print(\"Element exists\")"
   ]
  },
  {
   "cell_type": "markdown",
   "id": "a1e3d3ec-0fe3-42f6-8e93-0a1e710d128a",
   "metadata": {},
   "source": [
    "#### QUESTION 8"
   ]
  },
  {
   "cell_type": "code",
   "execution_count": 11,
   "id": "df7f51af-80ab-4a2f-92bb-515c05896174",
   "metadata": {},
   "outputs": [
    {
     "name": "stdout",
     "output_type": "stream",
     "text": [
      "1\n"
     ]
    }
   ],
   "source": [
    "# Find the index of first occurence of an element in a list\n",
    "animals = [\"Dog\" , \"Cat\" , \"Monkey\" , \"Giraffe\" , \"Deer\"]\n",
    "print(animals.index(\"Cat\"))"
   ]
  },
  {
   "cell_type": "markdown",
   "id": "00972dc8-fedf-4ac1-a615-999609969465",
   "metadata": {},
   "source": [
    "#### QUESTION 9"
   ]
  },
  {
   "cell_type": "code",
   "execution_count": 12,
   "id": "be3ed609-74f7-4fd1-98a4-154555e19bee",
   "metadata": {},
   "outputs": [
    {
     "data": {
      "text/plain": [
       "4"
      ]
     },
     "execution_count": 12,
     "metadata": {},
     "output_type": "execute_result"
    }
   ],
   "source": [
    "# Count the occurrence of a element in a list\n",
    "list = [8,8,4,5,6,7,8,9,8]\n",
    "list.count(8)"
   ]
  },
  {
   "cell_type": "markdown",
   "id": "8a4c2329-e2c2-4449-9de0-78ca7ca34037",
   "metadata": {},
   "source": [
    "#### QUESTION 10"
   ]
  },
  {
   "cell_type": "code",
   "execution_count": 16,
   "id": "92fe2e8e-1d91-4a33-be30-4b67cb1ce577",
   "metadata": {},
   "outputs": [
    {
     "name": "stdout",
     "output_type": "stream",
     "text": [
      "[98, 33, 899, 78, 7, 6, 5, 3]\n"
     ]
    }
   ],
   "source": [
    "# Reverse the order of elements in a list\n",
    "elements = [3,5,6,7,78,899,33,98]\n",
    "elements.reverse()\n",
    "print(elements)"
   ]
  },
  {
   "cell_type": "markdown",
   "id": "4a495076-2c61-476c-b057-64a1027d81a6",
   "metadata": {},
   "source": [
    "#### QUESTION 11"
   ]
  },
  {
   "cell_type": "code",
   "execution_count": 18,
   "id": "bb3582a2-4c6b-437f-a55b-aaf6f765200b",
   "metadata": {},
   "outputs": [
    {
     "name": "stdout",
     "output_type": "stream",
     "text": [
      "[21, 34, 45, 56, 65, 88, 96]\n"
     ]
    }
   ],
   "source": [
    "# Sort a list in ascending order\n",
    "list = [34,65,21,45,88,96,56]\n",
    "list.sort()\n",
    "print(list)"
   ]
  },
  {
   "cell_type": "markdown",
   "id": "6742c31b-0336-4185-97f0-bb3e4326c5be",
   "metadata": {},
   "source": [
    "#### QUESTION 12"
   ]
  },
  {
   "cell_type": "code",
   "execution_count": 21,
   "id": "21906f05-134a-445d-b842-9d98cd1bfdcf",
   "metadata": {},
   "outputs": [
    {
     "name": "stdout",
     "output_type": "stream",
     "text": [
      "[898, 445, 78, 65, 54, 34, 32]\n"
     ]
    }
   ],
   "source": [
    "# Sort a list in descending order\n",
    "list = [34,65,32,445,78,898,54]\n",
    "list.sort(reverse = True)\n",
    "print(list)"
   ]
  },
  {
   "cell_type": "markdown",
   "id": "db468351-6cfc-4fb9-b522-808dbb8c30d6",
   "metadata": {},
   "source": [
    "#### QUESTION 13"
   ]
  },
  {
   "cell_type": "code",
   "execution_count": 32,
   "id": "5f797d42-53b5-49d4-86d1-d1860e729766",
   "metadata": {},
   "outputs": [
    {
     "name": "stdout",
     "output_type": "stream",
     "text": [
      "[2, 4, 6, 8, 10, 12, 14, 16, 18, 20]\n"
     ]
    }
   ],
   "source": [
    "# Create a list of even numbers from 1 to 20\n",
    "even_numbers = [x for x in range(1,21) if x%2 ==0]\n",
    "print(even_numbers)"
   ]
  },
  {
   "cell_type": "markdown",
   "id": "4f9f9beb-3faa-427f-887e-64e0ec75d1ce",
   "metadata": {},
   "source": [
    "#### QUESTION 14"
   ]
  },
  {
   "cell_type": "code",
   "execution_count": 33,
   "id": "668a9b32-daeb-41c1-8c48-168b0c4f270e",
   "metadata": {},
   "outputs": [
    {
     "name": "stdout",
     "output_type": "stream",
     "text": [
      "[1, 3, 5, 7, 9, 11, 13, 15, 17, 19]\n"
     ]
    }
   ],
   "source": [
    "# Create a list of odd numbers from 1 to 20\n",
    "odd_numbers = [x for x in range(0,20) if x%2==1]\n",
    "print(odd_numbers)"
   ]
  },
  {
   "cell_type": "markdown",
   "id": "d5b55e9c-bca6-4c82-8936-a18344250efb",
   "metadata": {},
   "source": [
    "#### QUESTION 15"
   ]
  },
  {
   "cell_type": "code",
   "execution_count": 36,
   "id": "ef115b37-d38b-4c26-90ff-5fce29468e50",
   "metadata": {},
   "outputs": [
    {
     "name": "stdout",
     "output_type": "stream",
     "text": [
      "Sum of all elements in list: 116\n"
     ]
    }
   ],
   "source": [
    "# Find the sum of all elements in a list\n",
    "list = [2,5,6,7,89,7]\n",
    "total = sum(list)\n",
    "print(\"Sum of all elements in list:\", total)"
   ]
  },
  {
   "cell_type": "markdown",
   "id": "8b5c0bdc-5400-4574-b91e-2d2376c268f0",
   "metadata": {},
   "source": [
    "#### QUESTION 16"
   ]
  },
  {
   "cell_type": "code",
   "execution_count": 38,
   "id": "97cba627-e79e-41c1-9434-788055cf288e",
   "metadata": {},
   "outputs": [
    {
     "name": "stdout",
     "output_type": "stream",
     "text": [
      "10\n"
     ]
    }
   ],
   "source": [
    "# Find the maximum value in the list\n",
    "list = [1,3,4,5,7,8,9,10]\n",
    "x = max(list)\n",
    "print(x)"
   ]
  },
  {
   "cell_type": "markdown",
   "id": "6774519c-3d71-412d-9d9a-f27243cfd52e",
   "metadata": {},
   "source": [
    "#### QUESTION 17"
   ]
  },
  {
   "cell_type": "code",
   "execution_count": 39,
   "id": "13ff5f20-a27a-4baa-b507-fa50ee6d20c9",
   "metadata": {},
   "outputs": [
    {
     "name": "stdout",
     "output_type": "stream",
     "text": [
      "1\n"
     ]
    }
   ],
   "source": [
    "# Find the minimum value in a list\n",
    "list = [1,3,4,5,7,8,9,10]\n",
    "x = min(list)\n",
    "print(x)"
   ]
  },
  {
   "cell_type": "markdown",
   "id": "981fb868-ed24-49c2-ace9-288f82458af3",
   "metadata": {},
   "source": [
    "#### QUESTION 18"
   ]
  },
  {
   "cell_type": "code",
   "execution_count": 41,
   "id": "4d2cc5de-9ca3-446b-a99e-ecf6ee183fcc",
   "metadata": {},
   "outputs": [
    {
     "name": "stdout",
     "output_type": "stream",
     "text": [
      "[1, 4, 9, 16, 25, 36, 49, 64, 81, 100]\n"
     ]
    }
   ],
   "source": [
    "# Create a list of squares of numbers from 1 to 10\n",
    "list = [1,2,3,4,5,6,7,8,9,10]\n",
    "squared_list = []\n",
    "for number in list:\n",
    "    squared_list.append(number**2)\n",
    "print(squared_list)"
   ]
  },
  {
   "cell_type": "markdown",
   "id": "031dd4f9-adb0-47a2-9446-7e04a08882b3",
   "metadata": {},
   "source": [
    "#### QUESTION 19"
   ]
  },
  {
   "cell_type": "code",
   "execution_count": 49,
   "id": "b967bcaf-3e3d-426e-9190-34d37755ed74",
   "metadata": {},
   "outputs": [
    {
     "name": "stdout",
     "output_type": "stream",
     "text": [
      "[26, 11, 19, 27, 16]\n"
     ]
    }
   ],
   "source": [
    "# Create a list of random numbers\n",
    "import random\n",
    "randomlist = random.sample(range( 10, 30), 5)\n",
    "print(randomlist)"
   ]
  },
  {
   "cell_type": "markdown",
   "id": "c9530003-81bf-4dcf-b4ec-5eadad54f750",
   "metadata": {},
   "source": [
    "#### QUESTION 20"
   ]
  },
  {
   "cell_type": "code",
   "execution_count": 62,
   "id": "d0285097-6131-42ee-baaa-91259e7bbddc",
   "metadata": {},
   "outputs": [
    {
     "name": "stdout",
     "output_type": "stream",
     "text": [
      "{1, 2, 3, 4, 5, 6}\n"
     ]
    }
   ],
   "source": [
    "# Remove duplicates from a list\n",
    "my_list = [1,1,2,3,2,2,4,5,6,2,1]\n",
    "my_final_list = set(my_list)\n",
    "print(my_final_list)"
   ]
  },
  {
   "cell_type": "markdown",
   "id": "60535a1e-92e5-40ec-a464-70863b2d41fc",
   "metadata": {},
   "source": [
    "#### QUESTION 21"
   ]
  },
  {
   "cell_type": "code",
   "execution_count": 67,
   "id": "37775a45-e376-4ea2-963b-ded002ce0477",
   "metadata": {},
   "outputs": [
    {
     "name": "stdout",
     "output_type": "stream",
     "text": [
      "{'Red', 'Brown'}\n"
     ]
    }
   ],
   "source": [
    "# Find the common elements between two lists\n",
    "color1 = [\"Red\" , \"Green\" , \"Yellow\" , \"Blue\" , \"Brown\"]\n",
    "color2 = [\"Red\" , \"Wine\" , \"Mauve\" , \"Brown\"]\n",
    "result = (set(color1)&set(color2))\n",
    "print(result)"
   ]
  },
  {
   "cell_type": "markdown",
   "id": "1b645e78-5098-4fbc-8589-a813c61b14c4",
   "metadata": {},
   "source": [
    "#### QUESTION 22"
   ]
  },
  {
   "cell_type": "code",
   "execution_count": 70,
   "id": "1427200f-92d8-4406-a6f5-d5ec6ebf8f3f",
   "metadata": {},
   "outputs": [
    {
     "name": "stdout",
     "output_type": "stream",
     "text": [
      "{8, 3, 4}\n"
     ]
    }
   ],
   "source": [
    "# Find the difference between two lists\n",
    "list1 = [1,8,3,4]\n",
    "list2 = [1,2,6,5]\n",
    "difference = (set(list1) - set(list2))\n",
    "print(difference)"
   ]
  },
  {
   "cell_type": "markdown",
   "id": "30f9af38-df90-42f3-b5bb-0f30bb2ef858",
   "metadata": {},
   "source": [
    "#### QUESTION 23"
   ]
  },
  {
   "cell_type": "code",
   "execution_count": 71,
   "id": "b4a29078-d83d-4cc3-85b4-6a12981bf7f4",
   "metadata": {},
   "outputs": [
    {
     "name": "stdout",
     "output_type": "stream",
     "text": [
      "['a', 'b', 'c', 'd', 1, 2, 3, 4]\n"
     ]
    }
   ],
   "source": [
    "# Merge two lists\n",
    "list1 = [\"a\",\"b\",\"c\",\"d\"]\n",
    "list2 = [1,2,3,4]\n",
    "list3 = list1 + list2\n",
    "print(list3)"
   ]
  },
  {
   "cell_type": "markdown",
   "id": "fa4484e9-7373-462f-9704-b9f52ca6c5a4",
   "metadata": {},
   "source": [
    "#### QUESTION 24"
   ]
  },
  {
   "cell_type": "code",
   "execution_count": 74,
   "id": "82235c9d-a5f2-45fc-9ae6-0c4cfb158e4f",
   "metadata": {},
   "outputs": [
    {
     "name": "stdout",
     "output_type": "stream",
     "text": [
      "[2, 8, 10, 12, 14, 16, 12]\n"
     ]
    }
   ],
   "source": [
    "# Multiply all elements in list by 2\n",
    "list = [1,4,5,6,7,8,6]\n",
    "new_list = [i*2 for i in list]\n",
    "print(new_list)"
   ]
  },
  {
   "cell_type": "markdown",
   "id": "04b9e878-182a-400c-abfa-0c3d88a50a2d",
   "metadata": {},
   "source": [
    "#### QUESTION 25"
   ]
  },
  {
   "cell_type": "code",
   "execution_count": 77,
   "id": "0cba3c9e-c400-4d48-9361-fe4ee006d0a5",
   "metadata": {},
   "outputs": [
    {
     "name": "stdout",
     "output_type": "stream",
     "text": [
      "[2, 4, 6]\n"
     ]
    }
   ],
   "source": [
    "# Filter out all even numbers from a list\n",
    "list = [1,2,3,4,5,6]\n",
    "list1 = [i for i in list if i%2==0]\n",
    "print(list1)"
   ]
  },
  {
   "cell_type": "markdown",
   "id": "cafb73b1-083d-431b-a9c5-da621e681731",
   "metadata": {},
   "source": [
    "#### QUESTION 26"
   ]
  },
  {
   "cell_type": "code",
   "execution_count": 11,
   "id": "bd8e037f-5d65-4e01-8fe9-504bef272bb9",
   "metadata": {},
   "outputs": [
    {
     "name": "stdout",
     "output_type": "stream",
     "text": [
      "[1, 4, 3, 6, 7]\n"
     ]
    }
   ],
   "source": [
    "# Convert a list of strings to a list of integers\n",
    "list = ['1','4','3','6','7']\n",
    "print([int(x) for x in list])\n"
   ]
  },
  {
   "cell_type": "markdown",
   "id": "3f168098-1af9-46ca-8311-2e90eba382c5",
   "metadata": {},
   "source": [
    "#### QUESTION 27"
   ]
  },
  {
   "cell_type": "code",
   "execution_count": 17,
   "id": "296c3580-ad54-4232-afd5-bc296ba3b2d0",
   "metadata": {},
   "outputs": [
    {
     "name": "stdout",
     "output_type": "stream",
     "text": [
      "['1', '12', '15', '21', '131']\n"
     ]
    }
   ],
   "source": [
    "# Convert a list of integers into a list of stings\n",
    "list = [1,12,15,21,131]\n",
    "print([str(x) for x in list])"
   ]
  },
  {
   "cell_type": "markdown",
   "id": "1c6d3364-b547-4a12-9916-c5a203fe257e",
   "metadata": {},
   "source": [
    "#### QUESTION 28"
   ]
  },
  {
   "cell_type": "code",
   "execution_count": 18,
   "id": "cdf2ad25-bc75-493d-a6d4-9ec5270b3e72",
   "metadata": {},
   "outputs": [
    {
     "name": "stdout",
     "output_type": "stream",
     "text": [
      "[1, 2, 3, 4, 5, 6, 7]\n"
     ]
    }
   ],
   "source": [
    "# Flatten  a nested list\n",
    "list = [[1],[2,3],[4,5,6,7]]\n",
    "flat_list = sum(list , [])\n",
    "print(flat_list)\n"
   ]
  },
  {
   "cell_type": "markdown",
   "id": "9a5a9e2f-bdd1-44f1-a20e-4f0bfc2de48a",
   "metadata": {},
   "source": [
    "#### QUESTION 29"
   ]
  },
  {
   "cell_type": "code",
   "execution_count": 19,
   "id": "aa46eede-964b-4afa-b5e9-939d59895af5",
   "metadata": {},
   "outputs": [
    {
     "name": "stdout",
     "output_type": "stream",
     "text": [
      "0\n",
      "1\n",
      "1\n",
      "2\n",
      "3\n",
      "5\n",
      "8\n",
      "13\n",
      "21\n",
      "34\n"
     ]
    }
   ],
   "source": [
    "# Create a list of first ten Fibonacci numbers\n",
    "a,b = 0,1\n",
    "n = 10\n",
    "for i in range (n):\n",
    "    print(a)\n",
    "    a,b = b , a+b"
   ]
  },
  {
   "cell_type": "markdown",
   "id": "6004c3a3-a7f9-4d5d-91da-d41f8c73bc04",
   "metadata": {},
   "source": [
    "#### QUESTION 30"
   ]
  },
  {
   "cell_type": "code",
   "execution_count": 20,
   "id": "f49c79bd-2293-4395-8fd6-08898fa6e0f5",
   "metadata": {},
   "outputs": [
    {
     "name": "stdout",
     "output_type": "stream",
     "text": [
      "True\n"
     ]
    }
   ],
   "source": [
    "# Check if a list is sorted\n",
    "list = [1,2,3,4,5]\n",
    "print(list == sorted(list))"
   ]
  },
  {
   "cell_type": "markdown",
   "id": "c4fb2b41-f00e-4770-93a9-c3f140d36ac2",
   "metadata": {},
   "source": [
    "#### QUESTION 31"
   ]
  },
  {
   "cell_type": "code",
   "execution_count": 21,
   "id": "560154f7-00f0-4dcb-ba4c-8a92f168a0a0",
   "metadata": {},
   "outputs": [
    {
     "name": "stdout",
     "output_type": "stream",
     "text": [
      "Original list:[1, 4, 6, 7, 2]\n",
      "Left rotation of list by 3: [7, 2, 1, 4, 6]\n"
     ]
    }
   ],
   "source": [
    "# Rotate a list to the left by 'n' positions\n",
    "list = [1,4,6,7,2]\n",
    "print(\"Original list:\" + str(list))\n",
    "list = list[3:] + list[:3]\n",
    "print(\"Left rotation of list by 3: \"+ str(list))"
   ]
  },
  {
   "cell_type": "markdown",
   "id": "bce709ce-622a-4d8e-a532-c7050113dedc",
   "metadata": {},
   "source": [
    "#### QUESTION 32"
   ]
  },
  {
   "cell_type": "code",
   "execution_count": 22,
   "id": "0538ad6a-2766-4de1-8cd9-567e8bbfbac3",
   "metadata": {},
   "outputs": [
    {
     "name": "stdout",
     "output_type": "stream",
     "text": [
      "Original list:[1, 4, 6, 7, 2]\n",
      "Right rotation of list by 3 : [6, 7, 2, 1, 4]\n"
     ]
    }
   ],
   "source": [
    "# Rotate a list to the right by 'n' positions\n",
    "list = [1,4,6,7,2]\n",
    "print(\"Original list:\" + str(list))\n",
    "list = list[-3:] + list[:-3]\n",
    "print(\"Right rotation of list by 3 : \" + str(list))"
   ]
  },
  {
   "cell_type": "markdown",
   "id": "1d21344f-66c0-41f7-8faf-83d0d0f5f3be",
   "metadata": {},
   "source": [
    "#### QUESTION 33"
   ]
  },
  {
   "cell_type": "code",
   "execution_count": 35,
   "id": "ff216958-bf25-4736-aa59-79c68b29984e",
   "metadata": {},
   "outputs": [
    {
     "name": "stdout",
     "output_type": "stream",
     "text": [
      "3\n",
      "5\n",
      "7\n",
      "9\n",
      "11\n",
      "13\n",
      "15\n",
      "17\n",
      "19\n",
      "21\n",
      "23\n",
      "25\n",
      "27\n",
      "29\n",
      "31\n",
      "33\n",
      "35\n",
      "37\n",
      "39\n",
      "41\n",
      "43\n",
      "45\n",
      "47\n",
      "49\n"
     ]
    }
   ],
   "source": [
    "# Create a list of prime numbers upto 50\n",
    "for num in range(1,50):\n",
    "    for i in range(2,num):\n",
    "        if  num % i==0 :\n",
    "            break\n",
    "        else:\n",
    "            print(num)\n",
    "            break\n",
    "    "
   ]
  },
  {
   "cell_type": "markdown",
   "id": "12f543ea-2b31-4731-abd0-94c5dc6538a7",
   "metadata": {},
   "source": [
    "#### QUESTION 34"
   ]
  },
  {
   "cell_type": "code",
   "execution_count": 37,
   "id": "a943cee4-7133-4dfc-9b68-3d82a785bde6",
   "metadata": {},
   "outputs": [
    {
     "name": "stdout",
     "output_type": "stream",
     "text": [
      "[[1, 2, 3], [4, 5, 6], [7, 8, 9]]\n"
     ]
    }
   ],
   "source": [
    "# Split a list into chunks of size'n'\n",
    "list = [1,2,3,4,5,6,7,8,9]\n",
    "n = 3\n",
    "x = [list[i:i+n] for i in range(0,len(list) , n)]\n",
    "print(x)"
   ]
  },
  {
   "cell_type": "markdown",
   "id": "7d4f35d4-90d9-46dc-a15c-fc58b03c40fd",
   "metadata": {},
   "source": [
    "#### QUESTION 35"
   ]
  },
  {
   "cell_type": "code",
   "execution_count": 41,
   "id": "39c5c81a-6867-46ac-ac5a-6028b90954a6",
   "metadata": {},
   "outputs": [
    {
     "name": "stdout",
     "output_type": "stream",
     "text": [
      "Second largest element is:  45\n"
     ]
    }
   ],
   "source": [
    "# Find the second largest number in a list\n",
    "list = [10,20,4,45,99]\n",
    "list.sort()\n",
    "print(\"Second largest element is: \" , sorted(list)[-2])"
   ]
  },
  {
   "cell_type": "markdown",
   "id": "18bd6309-e8ae-47ce-919f-cf9a2f96ae02",
   "metadata": {},
   "source": [
    "#### QUESTION 36"
   ]
  },
  {
   "cell_type": "code",
   "execution_count": 48,
   "id": "bd6ba7aa-cca4-483c-a245-36b68982751d",
   "metadata": {},
   "outputs": [
    {
     "name": "stdout",
     "output_type": "stream",
     "text": [
      "1\n",
      "4\n",
      "9\n",
      "16\n",
      "25\n"
     ]
    }
   ],
   "source": [
    "# Replace every element in a list with its square\n",
    "list = [1,2,3,4,5]\n",
    "for i in list :\n",
    "    print(i**2)"
   ]
  },
  {
   "cell_type": "markdown",
   "id": "78fab227-54b0-420f-8b20-ab2310d5c53b",
   "metadata": {},
   "source": [
    "#### QUESTION 37"
   ]
  },
  {
   "cell_type": "code",
   "execution_count": 49,
   "id": "c258db3e-704f-42cf-9c87-bf4c19ea2d34",
   "metadata": {},
   "outputs": [
    {
     "name": "stdout",
     "output_type": "stream",
     "text": [
      "{0: 'Ramesh', 1: 'Mahesh', 2: 'Kamlesh', 3: 'Suresh'}\n"
     ]
    }
   ],
   "source": [
    "# Convert a list to dictionary \n",
    "employees = ['Ramesh' , 'Mahesh' , 'Kamlesh' , 'Suresh']\n",
    "names_dict = {}\n",
    "for i , name in enumerate(employees):\n",
    "    names_dict[i] = name\n",
    "\n",
    "print(names_dict)"
   ]
  },
  {
   "cell_type": "markdown",
   "id": "a4178254-71b9-47d1-9bd8-f0479535ccfa",
   "metadata": {},
   "source": [
    "#### QUESTION 38"
   ]
  },
  {
   "cell_type": "code",
   "execution_count": 53,
   "id": "cc095151-5438-43a2-ac1b-d94644866ade",
   "metadata": {},
   "outputs": [
    {
     "name": "stdout",
     "output_type": "stream",
     "text": [
      "[8, 1, 44, 6, 3, 2, 5]\n"
     ]
    }
   ],
   "source": [
    "# Shuffle the elements of a list randomly\n",
    "import random\n",
    "list = [1,2,3,44,5,6,8]\n",
    "random.shuffle(list)\n",
    "print(list)"
   ]
  },
  {
   "cell_type": "markdown",
   "id": "06cd5b1e-88e6-4955-bb12-79f3017cd5aa",
   "metadata": {},
   "source": [
    "#### QUESTION 39"
   ]
  },
  {
   "cell_type": "code",
   "execution_count": 58,
   "id": "ce6fd290-1e59-470c-b052-2f6b879eab84",
   "metadata": {},
   "outputs": [
    {
     "name": "stdout",
     "output_type": "stream",
     "text": [
      "[1, 2, 3, 4, 5, 6, 7, 8, 9, 10]\n",
      "[1, 2, 6, 24, 120, 720, 5040, 40320, 362880, 3628800]\n"
     ]
    }
   ],
   "source": [
    "# Create a list of the first 10 factorial numbers\n",
    "import math\n",
    "numbers = [1,2,3,4,5,6,7,8,9,10]\n",
    "factorials = [math.factorial(x) for x in numbers]\n",
    "print(numbers)\n",
    "print(factorials)"
   ]
  },
  {
   "cell_type": "markdown",
   "id": "c657db13-8ac5-4ccb-a39f-ad58da2b5683",
   "metadata": {},
   "source": [
    "#### QUESTION 40"
   ]
  },
  {
   "cell_type": "code",
   "execution_count": 59,
   "id": "0bac9a27-61f4-490c-b2b0-784979081f36",
   "metadata": {},
   "outputs": [
    {
     "name": "stdout",
     "output_type": "stream",
     "text": [
      "{2, 4, 6, 8, 9}\n"
     ]
    }
   ],
   "source": [
    "# Check if two lists have atleast one element in common\n",
    "list1 = [1,2,4,5,6,8,9]\n",
    "list2 = [2,3,4,6,8,9,7]\n",
    "common_elements = set(list1).intersection(list2)\n",
    "print(common_elements)"
   ]
  },
  {
   "cell_type": "markdown",
   "id": "b13899fc-ca79-4490-aa97-454e3936af51",
   "metadata": {},
   "source": [
    "#### QUESTION 41"
   ]
  },
  {
   "cell_type": "code",
   "execution_count": 62,
   "id": "6b587d6f-54ca-4d5f-b2af-45ee6f455e99",
   "metadata": {},
   "outputs": [
    {
     "name": "stdout",
     "output_type": "stream",
     "text": [
      "[]\n"
     ]
    }
   ],
   "source": [
    "# Remove all elements from a list\n",
    "list = [1,2,3,4,5,6]\n",
    "list.clear()\n",
    "print(list)"
   ]
  },
  {
   "cell_type": "markdown",
   "id": "2339c961-f16f-4689-93b7-a0542f99b21a",
   "metadata": {},
   "source": [
    "#### QUESTION 42"
   ]
  },
  {
   "cell_type": "code",
   "execution_count": 66,
   "id": "8a1cb370-0193-4562-856e-c8d06eb096a9",
   "metadata": {},
   "outputs": [
    {
     "name": "stdout",
     "output_type": "stream",
     "text": [
      "[0, 0, 1, 0, 0, 0, 7, 8]\n"
     ]
    }
   ],
   "source": [
    "# Replace negative numbers in a list by 0\n",
    "list = [-1,-2,1,-3,-5,-6,7,8]\n",
    "list2 = [0 if i<0 else i for i in list]\n",
    "print(list2)"
   ]
  },
  {
   "cell_type": "markdown",
   "id": "5e474255-6313-4feb-b1b1-af32ad6d3b2b",
   "metadata": {},
   "source": [
    "#### QUESTION 43"
   ]
  },
  {
   "cell_type": "code",
   "execution_count": 67,
   "id": "9444821a-b2f3-4c6b-ab8e-a89085e88ba3",
   "metadata": {},
   "outputs": [
    {
     "name": "stdout",
     "output_type": "stream",
     "text": [
      "['My', 'name', 'is', 'Jasmine']\n"
     ]
    }
   ],
   "source": [
    "# Convert a string into a list of words\n",
    "string = \"My name is Jasmine\"\n",
    "string_to_list = string.split()\n",
    "print(string_to_list)"
   ]
  },
  {
   "cell_type": "markdown",
   "id": "f171839b-b895-4c4d-9b8c-330f6e965535",
   "metadata": {},
   "source": [
    "#### QUESTION 44"
   ]
  },
  {
   "cell_type": "code",
   "execution_count": 71,
   "id": "21c8bde8-95de-41de-b0d1-64caf64c5608",
   "metadata": {},
   "outputs": [
    {
     "name": "stdout",
     "output_type": "stream",
     "text": [
      "My name is Jasmine\n"
     ]
    }
   ],
   "source": [
    "# Convert a list of words into string\n",
    "list = ['My' , 'name' , 'is' , 'Jasmine']\n",
    "list_to_string = ' '.join(map(str,list))\n",
    "print(list_to_string)"
   ]
  },
  {
   "cell_type": "markdown",
   "id": "ced95e22-c334-4110-9eaa-f8bedb32cf88",
   "metadata": {},
   "source": [
    "#### QUESTION 45\n"
   ]
  },
  {
   "cell_type": "code",
   "execution_count": 84,
   "id": "a9d95fda-6dd4-46b1-9677-51600e14ef87",
   "metadata": {},
   "outputs": [
    {
     "name": "stdout",
     "output_type": "stream",
     "text": [
      "2 raised to 0 is 1 \n",
      "2 raised to 1 is 2 \n",
      "2 raised to 2 is 4 \n"
     ]
    }
   ],
   "source": [
    "# Create a list of first 'n' powers of 2\n",
    "for i in range(n):\n",
    "    print(\"2 raised to {} is {} \" .format(i , 2**i))"
   ]
  },
  {
   "cell_type": "markdown",
   "id": "7fd28ef0-f485-4b2d-a623-d1772c90ec1c",
   "metadata": {},
   "source": [
    "#### QUESTION 46"
   ]
  },
  {
   "cell_type": "code",
   "execution_count": 86,
   "id": "15f71ef5-12e1-4fee-931b-834333650023",
   "metadata": {},
   "outputs": [
    {
     "name": "stdout",
     "output_type": "stream",
     "text": [
      "jasmine\n"
     ]
    }
   ],
   "source": [
    "# Find the longest string in a list of strings\n",
    "list = [\"my\" , \"name\" , \"is\" , \"jasmine\"]\n",
    "res = max(list , key =len)\n",
    "print(res)"
   ]
  },
  {
   "cell_type": "markdown",
   "id": "d54632ab-b238-4b43-b5aa-d5e474268635",
   "metadata": {},
   "source": [
    "#### QUESTION 47"
   ]
  },
  {
   "cell_type": "code",
   "execution_count": 87,
   "id": "8ea0eb86-1f9b-4d59-bf49-d1972a7d3197",
   "metadata": {},
   "outputs": [
    {
     "name": "stdout",
     "output_type": "stream",
     "text": [
      "my\n"
     ]
    }
   ],
   "source": [
    "# Find the shortest string in a list of strings\n",
    "list = [\"my\" , \"name\" , \"is\" , \"jasmine\"]\n",
    "res = min(list , key= len)\n",
    "print(res)"
   ]
  },
  {
   "cell_type": "markdown",
   "id": "2b1efc1d-8bf6-4239-a59c-c475e8f55ba4",
   "metadata": {},
   "source": [
    "#### QUESTION 48\n"
   ]
  },
  {
   "cell_type": "code",
   "execution_count": 92,
   "id": "9f67144c-23ad-45c6-be7b-22380ea12024",
   "metadata": {},
   "outputs": [
    {
     "name": "stdout",
     "output_type": "stream",
     "text": [
      "[1, 3, 6]\n"
     ]
    }
   ],
   "source": [
    "# Create a list of first 'n' triangular numbers\n",
    "limit = n\n",
    "triangle_nums = []\n",
    "num = 0\n",
    "\n",
    "for i in range(1 , limit +1):\n",
    "    num+= i\n",
    "    triangle_nums.append(num)\n",
    "print(triangle_nums)"
   ]
  },
  {
   "cell_type": "markdown",
   "id": "b0415a92-58f6-4b36-912d-4843532220d4",
   "metadata": {},
   "source": [
    "#### QUESTION 49"
   ]
  },
  {
   "cell_type": "code",
   "execution_count": 94,
   "id": "9574cb34-b7da-4cdc-91b3-369c02b86a27",
   "metadata": {},
   "outputs": [
    {
     "name": "stdout",
     "output_type": "stream",
     "text": [
      "yes\n"
     ]
    }
   ],
   "source": [
    "# Check if a list contains another list as a subsequence\n",
    "list1 = [1,2,3]\n",
    "list2 = [1,2,3,4]\n",
    "if all(a in list2 for a in list1):\n",
    "    print(\"yes\")"
   ]
  },
  {
   "cell_type": "markdown",
   "id": "936c58f4-5165-4a87-b01f-7d6a72050eaa",
   "metadata": {},
   "source": [
    "#### QUESTION 50"
   ]
  },
  {
   "cell_type": "code",
   "execution_count": 98,
   "id": "c301a880-83cd-4f73-9c6c-80fe8b7da087",
   "metadata": {},
   "outputs": [
    {
     "name": "stdout",
     "output_type": "stream",
     "text": [
      "['carl', 'bob', 'alice']\n"
     ]
    }
   ],
   "source": [
    "# Swap two elements in a list by their indices\n",
    "list = [\"alice\" , \"bob\" , \"carl\"]\n",
    "x,y = \"alice\" , \"carl\"\n",
    "i,j = list.index(x) , list.index(y)\n",
    "list[i] , list[j] = list[j] , list[i]\n",
    "print(list)"
   ]
  },
  {
   "cell_type": "markdown",
   "id": "7c029841-c1ff-413c-8e6c-ff1fa89bae02",
   "metadata": {},
   "source": [
    "### TUPLE BASED PRACTICE PROBLEM"
   ]
  },
  {
   "cell_type": "markdown",
   "id": "809bfeae-555a-402f-bc17-ea088ee4a57f",
   "metadata": {},
   "source": [
    "#### QUESTION 1"
   ]
  },
  {
   "cell_type": "code",
   "execution_count": 6,
   "id": "c6e89474-b56d-4b3c-851b-f3c8200fc49c",
   "metadata": {},
   "outputs": [
    {
     "name": "stdout",
     "output_type": "stream",
     "text": [
      "(1, 2, 3, 4, 5)\n"
     ]
    }
   ],
   "source": [
    "# Create a tuple with integers from 1 to 5\n",
    "x = tuple(range(1,6))\n",
    "print(x)"
   ]
  },
  {
   "cell_type": "markdown",
   "id": "eb725037-2d6e-48f5-9962-3d5e1d4e0331",
   "metadata": {},
   "source": [
    "#### QUESTION 2"
   ]
  },
  {
   "cell_type": "code",
   "execution_count": 7,
   "id": "ee077868-c4b3-4952-abe7-9a93dfa20bbc",
   "metadata": {},
   "outputs": [
    {
     "data": {
      "text/plain": [
       "4"
      ]
     },
     "execution_count": 7,
     "metadata": {},
     "output_type": "execute_result"
    }
   ],
   "source": [
    "# Access the third element in a tuple\n",
    "tuple = (1,2,3,4,5)\n",
    "tuple[3]"
   ]
  },
  {
   "cell_type": "markdown",
   "id": "8a982070-d1e0-49ca-9c6f-440b42d83ce1",
   "metadata": {},
   "source": [
    "#### QUESTION 3 "
   ]
  },
  {
   "cell_type": "code",
   "execution_count": 8,
   "id": "7fec2705-550d-4684-9db5-d634a8ed9e73",
   "metadata": {},
   "outputs": [
    {
     "name": "stdout",
     "output_type": "stream",
     "text": [
      "9\n"
     ]
    }
   ],
   "source": [
    "# Find the length of tuple without using length function\n",
    "tuple = (12,45,65,78,98,76,55,32,22)\n",
    "count = 0\n",
    "for i in tuple :\n",
    "    count += 1\n",
    "print(count)    \n"
   ]
  },
  {
   "cell_type": "markdown",
   "id": "119fffcc-4f1f-4588-9cfc-4bd89fea2a69",
   "metadata": {},
   "source": [
    "#### QUESTION 4"
   ]
  },
  {
   "cell_type": "code",
   "execution_count": 10,
   "id": "5234ce15-95c8-48e6-ad95-af9d08e4599b",
   "metadata": {},
   "outputs": [
    {
     "data": {
      "text/plain": [
       "3"
      ]
     },
     "execution_count": 10,
     "metadata": {},
     "output_type": "execute_result"
    }
   ],
   "source": [
    "# Count the occurrences of an element in a tuple \n",
    "tuple = (12,32,12,34,54,53,12)\n",
    "tuple.count(12)"
   ]
  },
  {
   "cell_type": "markdown",
   "id": "48026cf1-4559-40bc-bf02-bb807ead21f2",
   "metadata": {},
   "source": [
    "#### QUESTION 5"
   ]
  },
  {
   "cell_type": "code",
   "execution_count": 11,
   "id": "ccd6e458-74fb-4f55-889a-ecaffada6da1",
   "metadata": {},
   "outputs": [
    {
     "name": "stdout",
     "output_type": "stream",
     "text": [
      "2\n"
     ]
    }
   ],
   "source": [
    "# Find the index of the first occurrence of an element in a tuple \n",
    "tuple = (1,2,3,4,5)\n",
    "print(tuple.index(3))"
   ]
  },
  {
   "cell_type": "markdown",
   "id": "b4596f6e-3470-429e-9d2a-697bb2d04a19",
   "metadata": {},
   "source": [
    "#### QUESTION 6"
   ]
  },
  {
   "cell_type": "code",
   "execution_count": 15,
   "id": "7f42c714-c981-432b-b8bf-dbb6e8577a6d",
   "metadata": {},
   "outputs": [
    {
     "name": "stdout",
     "output_type": "stream",
     "text": [
      "Element exists\n"
     ]
    }
   ],
   "source": [
    "# Check if an element exists in a tuple\n",
    "tuple = (1,2,3,4,6)\n",
    "for i in tuple :\n",
    "    if(i==4):\n",
    "        print(\"Element exists\")        "
   ]
  },
  {
   "cell_type": "markdown",
   "id": "8b37ab56-b219-4d11-a443-c30c564c5e77",
   "metadata": {},
   "source": [
    "#### QUESTION 7"
   ]
  },
  {
   "cell_type": "code",
   "execution_count": 31,
   "id": "e6e2009a-eaf5-4ccf-a933-97afb92d9a6c",
   "metadata": {},
   "outputs": [
    {
     "name": "stdout",
     "output_type": "stream",
     "text": [
      "[11, 2, 3, 4, 5]\n"
     ]
    }
   ],
   "source": [
    "# Convert a tuple to a list\n",
    "def tuple_to_list(t):\n",
    "     return[x for x in t]\n",
    "\n",
    "tuple = (11,2,3,4,5)\n",
    "print(tuple_to_list(tuple))"
   ]
  },
  {
   "cell_type": "markdown",
   "id": "95de340b-a7bb-4eed-9201-abbe5ce08828",
   "metadata": {},
   "source": [
    "#### QUESTION 8"
   ]
  },
  {
   "cell_type": "code",
   "execution_count": 45,
   "id": "114e17ec-2d77-4fea-aab5-b04b2c3fc735",
   "metadata": {},
   "outputs": [
    {
     "name": "stdout",
     "output_type": "stream",
     "text": [
      "(1, 2, 3, 4, 5, 6)\n"
     ]
    }
   ],
   "source": [
    "# Convert a list to a tuple\n",
    "list = [1,2,3,4,5,6]\n",
    "tuple = (*list,)\n",
    "print(tuple)"
   ]
  },
  {
   "cell_type": "markdown",
   "id": "92b9fe53-2859-48e4-8a5d-0784f651d1db",
   "metadata": {},
   "source": [
    "#### QUESTION 9"
   ]
  },
  {
   "cell_type": "code",
   "execution_count": 47,
   "id": "442323f4-2f63-4134-ad4f-19f6e8c0045a",
   "metadata": {},
   "outputs": [
    {
     "name": "stdout",
     "output_type": "stream",
     "text": [
      "23\n",
      "5\n",
      "6\n",
      "77\n",
      "88\n",
      "90\n"
     ]
    }
   ],
   "source": [
    "# Unpack the elements of a tuple into variables\n",
    "t = (23,5,6,77,88,90)\n",
    "m,n,p,q,r,s = t\n",
    "print(m)\n",
    "print(n)\n",
    "print(p)\n",
    "print(q)\n",
    "print(r)\n",
    "print(s)"
   ]
  },
  {
   "cell_type": "markdown",
   "id": "bdbaef51-2a41-4944-919d-a8aa85e46fef",
   "metadata": {},
   "source": [
    "#### QUESTION 10"
   ]
  },
  {
   "cell_type": "code",
   "execution_count": 62,
   "id": "331f9d5b-7c6c-478e-bc27-043f7c296f6e",
   "metadata": {},
   "outputs": [
    {
     "name": "stdout",
     "output_type": "stream",
     "text": [
      "(2, 4, 6, 8, 10)\n"
     ]
    }
   ],
   "source": [
    "# Create a tuple of even numbers from 1 to 10\n",
    "even_numbers = ()\n",
    "for i in range (1,11):\n",
    "    if i%2==0:\n",
    "        even_numbers += (i,)\n",
    "print(even_numbers)"
   ]
  },
  {
   "cell_type": "markdown",
   "id": "ada8d5b6-b4e7-4203-ac16-dfde0ffa12cf",
   "metadata": {},
   "source": [
    "#### QUESTION 11"
   ]
  },
  {
   "cell_type": "code",
   "execution_count": 67,
   "id": "364fb251-0e39-4305-8629-19493ebcbaa5",
   "metadata": {},
   "outputs": [
    {
     "name": "stdout",
     "output_type": "stream",
     "text": [
      "(1, 3, 5, 7, 9)\n"
     ]
    }
   ],
   "source": [
    "# Create a tuple of odd numbers from 1 to 10\n",
    "odd_numbers = ()\n",
    "for i in range (1,11):\n",
    "    if i%2 !=0:\n",
    "       odd_numbers += (i,)\n",
    "print(odd_numbers)\n",
    "    "
   ]
  },
  {
   "cell_type": "markdown",
   "id": "5e38dd64-3c61-4a55-a97f-abbb0a7d021e",
   "metadata": {},
   "source": [
    "#### QUESTION 12"
   ]
  },
  {
   "cell_type": "code",
   "execution_count": 54,
   "id": "fcdad5d1-0d70-4b52-be36-549c1d84cd59",
   "metadata": {},
   "outputs": [
    {
     "name": "stdout",
     "output_type": "stream",
     "text": [
      "(1, 3, 4, 2, 8, 6, 7, 5, 4)\n"
     ]
    }
   ],
   "source": [
    "# Concatenate three tuples\n",
    "tuple1 = (1,3,4)\n",
    "tuple2 = (2,8,6)\n",
    "tuple3 = (7,5,4)\n",
    "concatenated_tuple = tuple1 + tuple2 + tuple3\n",
    "print(concatenated_tuple)"
   ]
  },
  {
   "cell_type": "markdown",
   "id": "d7cabb39-2a45-4707-a59e-092ceca2bcb3",
   "metadata": {},
   "source": [
    "#### QUESTION 13"
   ]
  },
  {
   "cell_type": "code",
   "execution_count": 70,
   "id": "e12b2379-eb79-4376-be85-0f6c2dec011a",
   "metadata": {},
   "outputs": [
    {
     "name": "stdout",
     "output_type": "stream",
     "text": [
      "(1, 2, 3, 1, 2, 3, 1, 2, 3)\n"
     ]
    }
   ],
   "source": [
    "# Repeat a tuple three times\n",
    "tuple = (1,2,3)\n",
    "x = tuple*3\n",
    "print(x)"
   ]
  },
  {
   "cell_type": "markdown",
   "id": "46464708-5af5-4bd5-9a22-286ecdb3b64a",
   "metadata": {},
   "source": [
    "#### QUESTION 14\n"
   ]
  },
  {
   "cell_type": "code",
   "execution_count": 68,
   "id": "560d9625-178c-4274-b34a-f22428fa87dc",
   "metadata": {},
   "outputs": [
    {
     "name": "stdout",
     "output_type": "stream",
     "text": [
      "Tuple is empty\n"
     ]
    }
   ],
   "source": [
    "# Check if a tuple is empty\n",
    "tuple = ()\n",
    "if len(tuple) == 0:\n",
    "    print(\"Tuple is empty\")"
   ]
  },
  {
   "cell_type": "markdown",
   "id": "9231a8e1-8814-4e3a-acd9-8275d81eb05f",
   "metadata": {},
   "source": [
    "#### QUESTION 15"
   ]
  },
  {
   "cell_type": "code",
   "execution_count": 73,
   "id": "3ed0b1b2-5312-4ceb-abbf-7489359673a2",
   "metadata": {},
   "outputs": [
    {
     "name": "stdout",
     "output_type": "stream",
     "text": [
      "((3, 4), (1, 2))\n"
     ]
    }
   ],
   "source": [
    "# Create a nested tuple\n",
    "tuple1 = (3,4),\n",
    "tuple2 = (1,2),\n",
    "nested = tuple1 + tuple2\n",
    "print(nested)"
   ]
  },
  {
   "cell_type": "markdown",
   "id": "c0219b9a-f9fb-46a3-83dc-f227f6738a7f",
   "metadata": {},
   "source": [
    "#### QUESTION 16"
   ]
  },
  {
   "cell_type": "code",
   "execution_count": 77,
   "id": "2cedb83a-40a5-466c-822d-93cb9a57f4e8",
   "metadata": {},
   "outputs": [
    {
     "name": "stdout",
     "output_type": "stream",
     "text": [
      "(1, 2, 3)\n"
     ]
    }
   ],
   "source": [
    "# Access the first element of a nested tuple\n",
    "nested_tuple = ((1,2,3) , ('a' , 'b', 'c') , (True , False))\n",
    "first_element = nested_tuple[0]\n",
    "print(first_element)"
   ]
  },
  {
   "cell_type": "markdown",
   "id": "bd6b85a8-280c-4a52-a53a-ab77b992d91c",
   "metadata": {},
   "source": [
    "#### QUESTION 17"
   ]
  },
  {
   "cell_type": "code",
   "execution_count": 78,
   "id": "e1a9ff61-af11-407f-b569-580411fae126",
   "metadata": {},
   "outputs": [
    {
     "name": "stdout",
     "output_type": "stream",
     "text": [
      "('apple',)\n"
     ]
    }
   ],
   "source": [
    "# Create a tuple with a single element\n",
    "tuple = ('apple',)\n",
    "print(tuple)"
   ]
  },
  {
   "cell_type": "markdown",
   "id": "c442e603-80c2-4e64-b7bf-340c2abc429b",
   "metadata": {},
   "source": [
    "#### QUESTION 18"
   ]
  },
  {
   "cell_type": "code",
   "execution_count": 80,
   "id": "cb6d041e-2f2e-46fb-be2d-27d8714e0e7e",
   "metadata": {},
   "outputs": [
    {
     "name": "stdout",
     "output_type": "stream",
     "text": [
      "True\n"
     ]
    }
   ],
   "source": [
    "# Compare two tuples\n",
    "tuple1 = (3,2,10)\n",
    "tuple2 = (3,2,10)\n",
    "print(tuple1 == tuple2)"
   ]
  },
  {
   "cell_type": "markdown",
   "id": "bc2dba78-7a62-4b51-ad6c-1a22a3a6670c",
   "metadata": {},
   "source": [
    "#### QUESTION 19"
   ]
  },
  {
   "cell_type": "code",
   "execution_count": 16,
   "id": "aac48025-c4d8-4423-988f-886c3463d149",
   "metadata": {},
   "outputs": [
    {
     "data": {
      "text/plain": [
       "tuple"
      ]
     },
     "execution_count": 16,
     "metadata": {},
     "output_type": "execute_result"
    }
   ],
   "source": [
    "# Delete a tuple\n",
    "tuple = (1,2,3,4,5)\n",
    "del tuple \n",
    "tuple"
   ]
  },
  {
   "cell_type": "markdown",
   "id": "0a6d72ed-6d6a-44f5-840f-e597261570d8",
   "metadata": {},
   "source": [
    "#### QUESTION 20"
   ]
  },
  {
   "cell_type": "code",
   "execution_count": 108,
   "id": "e0524496-6560-4461-afc1-99fffe3aba82",
   "metadata": {},
   "outputs": [
    {
     "name": "stdout",
     "output_type": "stream",
     "text": [
      "(21, 12, 65, 87, 96)\n"
     ]
    }
   ],
   "source": [
    "# Slice a tuple\n",
    "tuple = (21,12,65,87,96,55,45,25)\n",
    "print(tuple[0:5])"
   ]
  },
  {
   "cell_type": "markdown",
   "id": "cdac9b5b-ef31-4a36-8031-4e5a012edf50",
   "metadata": {},
   "source": [
    "#### QUESTION 21"
   ]
  },
  {
   "cell_type": "code",
   "execution_count": 109,
   "id": "d2c7f6d9-0c83-417e-a94b-20bf92136b4b",
   "metadata": {},
   "outputs": [
    {
     "name": "stdout",
     "output_type": "stream",
     "text": [
      "6\n"
     ]
    }
   ],
   "source": [
    "# Find the maximum value in tuple\n",
    "tuple = (1,2,3,4,5,6)\n",
    "x = max(tuple)\n",
    "print(x)"
   ]
  },
  {
   "cell_type": "markdown",
   "id": "9e5317e3-ff8e-43d4-ba38-4e2eaab6ec13",
   "metadata": {},
   "source": [
    "#### QUESTION 22"
   ]
  },
  {
   "cell_type": "code",
   "execution_count": 110,
   "id": "0fea8fc8-0daa-441e-b9d8-015067be4fce",
   "metadata": {},
   "outputs": [
    {
     "name": "stdout",
     "output_type": "stream",
     "text": [
      "1\n"
     ]
    }
   ],
   "source": [
    "# Find the minimum value in tuple\n",
    "tuple = (1,2,3,4,5,6)\n",
    "x = min(tuple)\n",
    "print(x)"
   ]
  },
  {
   "cell_type": "markdown",
   "id": "fc615876-1d75-4852-8e45-b401f3f15be3",
   "metadata": {},
   "source": [
    "#### QUESTION 23"
   ]
  },
  {
   "cell_type": "code",
   "execution_count": 51,
   "id": "25b38237-b461-420d-a694-5f17013bc9a2",
   "metadata": {},
   "outputs": [
    {
     "name": "stdout",
     "output_type": "stream",
     "text": [
      "('N', 'e', 'w', ' ', 'Y', 'o', 'r', 'k')\n"
     ]
    }
   ],
   "source": [
    "# Convert a string to a tuple of characters\n",
    "string = \"New York\"\n",
    "tup = tuple(string )\n",
    "print(tup)"
   ]
  },
  {
   "cell_type": "markdown",
   "id": "88235e68-0769-48ce-8a3e-13b35d9887f2",
   "metadata": {},
   "source": [
    "#### QUESTION 24"
   ]
  },
  {
   "cell_type": "code",
   "execution_count": 132,
   "id": "fa8c0924-e162-4912-958e-ac776f97fd30",
   "metadata": {},
   "outputs": [
    {
     "name": "stdout",
     "output_type": "stream",
     "text": [
      "NewYork\n"
     ]
    }
   ],
   "source": [
    "# Convert a tuple of characters to a string\n",
    "tuple = ('N' , 'e' ,'w' ,'Y' , 'o' , 'r' , 'k')\n",
    "result = ''.join(tuple)\n",
    "print(result)"
   ]
  },
  {
   "cell_type": "markdown",
   "id": "3ad89518-d21d-4466-853b-98f7bc337058",
   "metadata": {},
   "source": [
    "#### QUESTION 25"
   ]
  },
  {
   "cell_type": "code",
   "execution_count": 52,
   "id": "8a9c3f65-f804-4996-9656-5d3b357429f2",
   "metadata": {},
   "outputs": [
    {
     "name": "stdout",
     "output_type": "stream",
     "text": [
      "('tuplex', 'False', '3.2', '1')\n"
     ]
    }
   ],
   "source": [
    "# Create a tuple from multiple data types\n",
    "tuple = (\"tuplex\" , \"False\" , \"3.2\" , \"1\")\n",
    "print(tuple)"
   ]
  },
  {
   "cell_type": "markdown",
   "id": "f5a3490a-7b39-4bf3-bb99-1500c7e4f003",
   "metadata": {},
   "source": [
    "#### QUESTION 26"
   ]
  },
  {
   "cell_type": "code",
   "execution_count": 68,
   "id": "2a9471ff-5b52-4b91-a85c-67c4a332ab6a",
   "metadata": {},
   "outputs": [
    {
     "name": "stdout",
     "output_type": "stream",
     "text": [
      "The tuples are identical .\n"
     ]
    }
   ],
   "source": [
    "# Check if two tuples are identical\n",
    "tuple1 = (1,2,3)\n",
    "tuple2 = (1,2,3)\n",
    "\n",
    "if tuple1 == tuple2:\n",
    "   print(\"The tuples are identical .\")\n",
    "else:\n",
    "    print(\"The tuples are not identical.\")"
   ]
  },
  {
   "cell_type": "markdown",
   "id": "9aea6ef3-8e71-49ac-b7a2-df66c5490b90",
   "metadata": {},
   "source": [
    "#### QUESTION 27"
   ]
  },
  {
   "cell_type": "code",
   "execution_count": 70,
   "id": "084bed3e-f0fd-4e14-ab8f-b5d71fa3609e",
   "metadata": {},
   "outputs": [
    {
     "name": "stdout",
     "output_type": "stream",
     "text": [
      "Sorted tuple: [1, 1, 2, 2, 3, 4, 6, 7, 9]\n"
     ]
    }
   ],
   "source": [
    "# Sort the elements of a tuple\n",
    "tuple = (1,2,3,4,9,6,7,1,2)\n",
    "sorted_list= sorted(tuple)\n",
    "print(\"Sorted tuple:\" , sorted_list)"
   ]
  },
  {
   "cell_type": "markdown",
   "id": "e71809a6-8022-4330-984d-39f93a118d9e",
   "metadata": {},
   "source": [
    "#### QUESTION 28"
   ]
  },
  {
   "cell_type": "code",
   "execution_count": 103,
   "id": "778ad144-c7ec-423b-bd23-8b1c80728944",
   "metadata": {},
   "outputs": [
    {
     "name": "stdout",
     "output_type": "stream",
     "text": [
      "['1', '2', '3', '4']\n"
     ]
    }
   ],
   "source": [
    "# Convert a tuple of integers to a tuple of strings\n",
    "tuple = (1,2,3,4)\n",
    "print([str(x) for x in tuple])"
   ]
  },
  {
   "cell_type": "markdown",
   "id": "64bec055-88ac-4414-a57f-cd64f635caa2",
   "metadata": {},
   "source": [
    "#### QUESTION 29"
   ]
  },
  {
   "cell_type": "code",
   "execution_count": 107,
   "id": "67aba662-49ef-4801-8ac0-a316f6e6ef95",
   "metadata": {},
   "outputs": [
    {
     "name": "stdout",
     "output_type": "stream",
     "text": [
      "[1, 2, 3, 4]\n"
     ]
    }
   ],
   "source": [
    "# Convert a tuple of strings to a tuple of integers\n",
    "tuple = ( \"1\" , \"2\" , \"3\" , \"4\")\n",
    "print([int(x) for x in tuple])"
   ]
  },
  {
   "cell_type": "markdown",
   "id": "60f9f706-7e18-4f84-a7a9-6551c0788153",
   "metadata": {},
   "source": [
    "#### QUESTION 30"
   ]
  },
  {
   "cell_type": "code",
   "execution_count": 61,
   "id": "192ffc6f-b7dc-4e54-baa2-68fc07a3af50",
   "metadata": {},
   "outputs": [
    {
     "data": {
      "text/plain": [
       "(1, 2, 3, 4, 5, 6, 8, 9, 7, 10, 11)"
      ]
     },
     "execution_count": 61,
     "metadata": {},
     "output_type": "execute_result"
    }
   ],
   "source": [
    "# Merge two tuples\n",
    "tuple1 = (1,2,3,4,5,6)\n",
    "tuple2 = (8,9,7,10,11)\n",
    "tup = tuple1 + tuple2\n",
    "tup"
   ]
  },
  {
   "cell_type": "markdown",
   "id": "cc134b34-3c93-4f91-bb87-57ba6d5fa637",
   "metadata": {},
   "source": [
    "#### QUESTION 31"
   ]
  },
  {
   "cell_type": "code",
   "execution_count": 21,
   "id": "46f0a437-4000-45a9-97b2-aa416150b597",
   "metadata": {},
   "outputs": [
    {
     "data": {
      "text/plain": [
       "(1, 2, 3, 4, 5, 6, 7)"
      ]
     },
     "execution_count": 21,
     "metadata": {},
     "output_type": "execute_result"
    }
   ],
   "source": [
    "# Flatten a nested tuple\n",
    "def flatten(args):\n",
    "    try:\n",
    "        iter(args)\n",
    "        final = []\n",
    "        for arg in args:\n",
    "            final += flatten(arg)\n",
    "        return tuple(final)\n",
    "    except TypeError:\n",
    "        return (args,)\n",
    "\n",
    "flatten([ 1 , [2,3] , 4 , [5,6,7]])"
   ]
  },
  {
   "cell_type": "markdown",
   "id": "63399ed8-ea41-4f78-9043-1c477e25cb6a",
   "metadata": {},
   "source": [
    "#### QUESTION 32"
   ]
  },
  {
   "cell_type": "code",
   "execution_count": 27,
   "id": "104aa440-ee18-4de9-9579-68f65419d593",
   "metadata": {},
   "outputs": [
    {
     "name": "stdout",
     "output_type": "stream",
     "text": [
      "(2, 3, 5, 7, 11)\n"
     ]
    }
   ],
   "source": [
    "# Create a tuple of the first five 5 prime numbers\n",
    "def is_prime(num):\n",
    "    if num<2:\n",
    "        return False\n",
    "    for i in range(2, int(num**0.5)+1):\n",
    "        if num%i==0:\n",
    "            return False\n",
    "    return True\n",
    "\n",
    "def generate_primes(count):\n",
    "    primes = []\n",
    "    num = 2\n",
    "    while len(primes) < count:\n",
    "        if is_prime(num):\n",
    "            primes.append(num)\n",
    "        num += 1\n",
    "    return tuple(primes)\n",
    "\n",
    "first_five_primes = generate_primes(5)\n",
    "print(first_five_primes)"
   ]
  },
  {
   "cell_type": "markdown",
   "id": "2c38529d-a80f-4b51-9aa3-8cf17b984848",
   "metadata": {},
   "source": [
    "#### QUESTION 33"
   ]
  },
  {
   "cell_type": "code",
   "execution_count": 48,
   "id": "b5646f14-daaa-4baa-a48b-468fa7432dde",
   "metadata": {},
   "outputs": [
    {
     "name": "stdin",
     "output_type": "stream",
     "text": [
      "Enter text:  noon\n"
     ]
    },
    {
     "name": "stdout",
     "output_type": "stream",
     "text": [
      "It is palindrome\n"
     ]
    }
   ],
   "source": [
    "# Check if a tuple is palindrome\n",
    "def reverse(text):\n",
    "    return text[::-1]\n",
    "def is_palindrome(text):\n",
    "    return text == reverse(text)\n",
    "\n",
    "something = input(\"Enter text: \")\n",
    "if is_palindrome(something):\n",
    "    print(\"It is palindrome\")\n",
    "else:\n",
    "    print(\"No , it is not palindrome\")"
   ]
  },
  {
   "cell_type": "markdown",
   "id": "87157c5e-ff6f-40b8-bccd-70dcf04fc093",
   "metadata": {},
   "source": [
    "#### QUESTION 34"
   ]
  },
  {
   "cell_type": "code",
   "execution_count": 92,
   "id": "9c00148f-57c9-4e43-a0c7-d10c1d3ac89e",
   "metadata": {},
   "outputs": [
    {
     "name": "stdout",
     "output_type": "stream",
     "text": [
      " The squares of numbers from 1 to 5 is :  (1, 4, 9, 16, 25)\n"
     ]
    }
   ],
   "source": [
    "# Create a tuple of squares of numbers from 1 to 5\n",
    "tup = ()\n",
    "for i in range(1,6):\n",
    "    tup = tup + (i**2,)\n",
    "print(\" The squares of numbers from 1 to 5 is : \" , tup)"
   ]
  },
  {
   "cell_type": "markdown",
   "id": "97bf0726-2f95-4be6-9ae9-1890458fa023",
   "metadata": {},
   "source": [
    "#### QUESTION 35"
   ]
  },
  {
   "cell_type": "code",
   "execution_count": 32,
   "id": "99e12339-8be4-4bfb-8800-9d2ffde55508",
   "metadata": {},
   "outputs": [
    {
     "name": "stdout",
     "output_type": "stream",
     "text": [
      "(2, 4, 6, 8, 10, 12)\n"
     ]
    }
   ],
   "source": [
    "# Filter out all the even numbers from a tuple\n",
    "def filter_even_numbers(input_tuple):\n",
    "    return tuple(filter(lambda x : x%2 == 0 , input_tuple))\n",
    "original_tuple = (1,2,3,4,5,6,7,8,9,10,11,12)\n",
    "filtered_tuple = filter_even_numbers(original_tuple)\n",
    "print(filtered_tuple)"
   ]
  },
  {
   "cell_type": "markdown",
   "id": "2d47f52b-6507-4240-86fe-664a385e648a",
   "metadata": {},
   "source": [
    "#### QUESTION 36"
   ]
  },
  {
   "cell_type": "code",
   "execution_count": 33,
   "id": "e2bc7c83-74a9-4cd6-8a2f-c2f0c0f202cd",
   "metadata": {},
   "outputs": [
    {
     "name": "stdout",
     "output_type": "stream",
     "text": [
      "(2, 4, 6, 8, 10, 12)\n"
     ]
    }
   ],
   "source": [
    "# Mulitply all the elements in a tuple by 2\n",
    "original_tuple = (1,2,3,4,5,6)\n",
    "new_tuple = tuple(map(lambda x:x*2 , original_tuple))\n",
    "print(new_tuple)"
   ]
  },
  {
   "cell_type": "markdown",
   "id": "244221ec-0386-4290-a9f2-beb8b150518c",
   "metadata": {},
   "source": [
    "#### QUESTION 37"
   ]
  },
  {
   "cell_type": "code",
   "execution_count": 34,
   "id": "3d30bf98-8a16-420f-9bb2-bf6f811abf29",
   "metadata": {},
   "outputs": [
    {
     "name": "stdout",
     "output_type": "stream",
     "text": [
      "(13, 7, 54, 97, 94)\n"
     ]
    }
   ],
   "source": [
    "# Create a tuple of random numbers\n",
    "import random\n",
    "random_tuple = tuple(random.randint(1,100) for _ in range(5))\n",
    "print(random_tuple)"
   ]
  },
  {
   "cell_type": "markdown",
   "id": "cfde9e10-389b-4303-ab59-28952f11c819",
   "metadata": {},
   "source": [
    "#### QUESTION 38"
   ]
  },
  {
   "cell_type": "code",
   "execution_count": 38,
   "id": "b040a71a-ce82-4ea1-aad0-0b7d99827970",
   "metadata": {},
   "outputs": [
    {
     "name": "stdout",
     "output_type": "stream",
     "text": [
      "True\n",
      "False\n"
     ]
    }
   ],
   "source": [
    "#  Check if a tuple is sorted \n",
    "def is_sorted(input_tuple):\n",
    "    return all(input_tuple[i] <= input_tuple[i+1] for i in range(len(input_tuple) - 1))\n",
    "\n",
    "sorted_tuple = (1,2,3,4,5,6)\n",
    "unsorted_tuple = (5,3,6,2,7,8)\n",
    "\n",
    "print(is_sorted(sorted_tuple))\n",
    "print(is_sorted(unsorted_tuple))"
   ]
  },
  {
   "cell_type": "markdown",
   "id": "0cc21789-407e-43b2-a8b1-efc91cfa6287",
   "metadata": {},
   "source": [
    "#### QUESTION 39"
   ]
  },
  {
   "cell_type": "code",
   "execution_count": 112,
   "id": "5a1cc72f-1869-44c5-9243-de25f8c5b4d8",
   "metadata": {},
   "outputs": [
    {
     "name": "stdout",
     "output_type": "stream",
     "text": [
      "Original tuple:(1, 4, 6, 7, 2)\n",
      "Left rotation of tuple by 3 : (7, 2, 1, 4, 6)\n"
     ]
    }
   ],
   "source": [
    "# Rotate a tuple to left by 'n' positions\n",
    "tuple = (1,4,6,7,2)\n",
    "print(\"Original tuple:\" + str(tuple))\n",
    "tuple = tuple[3:] + tuple[:3]\n",
    "print(\"Left rotation of tuple by 3 : \" + str(tuple))"
   ]
  },
  {
   "cell_type": "markdown",
   "id": "d677d4d5-9aac-40ed-9d16-a045e94be651",
   "metadata": {},
   "source": [
    "#### QUESTION 40"
   ]
  },
  {
   "cell_type": "code",
   "execution_count": 113,
   "id": "f2b26991-c837-4b11-a963-f94ae2ab11a2",
   "metadata": {},
   "outputs": [
    {
     "name": "stdout",
     "output_type": "stream",
     "text": [
      "Original tuple:(1, 4, 6, 7, 2)\n",
      "Right rotation of tuple by 3 : (6, 7, 2, 1, 4)\n"
     ]
    }
   ],
   "source": [
    "# Rotate a tuple to right by 'n' positions\n",
    "tuple = (1,4,6,7,2)\n",
    "print(\"Original tuple:\" + str(tuple))\n",
    "tuple = tuple[-3:] + tuple[:-3]\n",
    "print(\"Right rotation of tuple by 3 : \" + str(tuple))"
   ]
  },
  {
   "cell_type": "markdown",
   "id": "ea0b67af-cd5f-4ac0-87a2-b3da7aad3dae",
   "metadata": {},
   "source": [
    "#### QUESTION 41"
   ]
  },
  {
   "cell_type": "code",
   "execution_count": 42,
   "id": "1f89d6ca-b120-4782-a1fa-b5be14e00ba7",
   "metadata": {},
   "outputs": [
    {
     "name": "stdout",
     "output_type": "stream",
     "text": [
      "(0, 1, 1, 2, 3)\n"
     ]
    }
   ],
   "source": [
    "# Create a tuple of the first 5 fibonacci numbers\n",
    "def generate_fibonacci(count):\n",
    "    fib_numbers = [0,1]\n",
    "    [fib_numbers.append(fib_numbers[-1] + fib_numbers[-2]) for _ in range(count - 2)]\n",
    "    return tuple(fib_numbers)\n",
    "\n",
    "first_five_numbers = generate_fibonacci(5)\n",
    "print(first_five_numbers)\n",
    "\n",
    "    \n"
   ]
  },
  {
   "cell_type": "markdown",
   "id": "e78688f9-0fb7-4bc5-86d1-bdd49fcde14b",
   "metadata": {},
   "source": [
    "#### QUESTION 42"
   ]
  },
  {
   "cell_type": "code",
   "execution_count": 44,
   "id": "0eb696f0-7d87-4160-ad8c-e1284affc6d0",
   "metadata": {},
   "outputs": [
    {
     "name": "stdin",
     "output_type": "stream",
     "text": [
      "Enter numbers separated by commas:  1,2,3,4,5\n"
     ]
    },
    {
     "name": "stdout",
     "output_type": "stream",
     "text": [
      "(1, 2, 3, 4, 5)\n"
     ]
    }
   ],
   "source": [
    "# Create a tuple from user input\n",
    "user_input_str = input (\"Enter numbers separated by commas: \")\n",
    "user_tuple = tuple(map(int , user_input_str.split(',')))\n",
    "print(user_tuple)"
   ]
  },
  {
   "cell_type": "markdown",
   "id": "c71a8493-7b82-4f9f-9b97-18dab6cbc266",
   "metadata": {},
   "source": [
    "#### QUESTION 43"
   ]
  },
  {
   "cell_type": "code",
   "execution_count": 45,
   "id": "ce6aa865-ff03-4aef-8e2a-6f16dc544a45",
   "metadata": {},
   "outputs": [
    {
     "name": "stdout",
     "output_type": "stream",
     "text": [
      "(1, 4, 3, 2, 5, 6)\n"
     ]
    }
   ],
   "source": [
    "# Swap two elements in a tuple\n",
    "original_tuple = (1,2,3,4,5,6)\n",
    "swap_index1 , swap_index2 = 1,3\n",
    "swapped_tuple = tuple(x if i not in (swap_index1 , swap_index2) else original_tuple[swap_index1 if i == swap_index2 else swap_index2] for i, x in enumerate (original_tuple))\n",
    "print(swapped_tuple)"
   ]
  },
  {
   "cell_type": "markdown",
   "id": "54f5c559-a7eb-4439-8458-75c2a24a6a89",
   "metadata": {},
   "source": [
    "#### QUESTION 44"
   ]
  },
  {
   "cell_type": "code",
   "execution_count": 128,
   "id": "e63f0663-a425-4916-b448-8136a151e33e",
   "metadata": {},
   "outputs": [
    {
     "data": {
      "text/plain": [
       "(5, 4, 3, 2, 1)"
      ]
     },
     "execution_count": 128,
     "metadata": {},
     "output_type": "execute_result"
    }
   ],
   "source": [
    "# Reverse the elements of a tuple\n",
    "tuple = (1,2,3,4,5)\n",
    "x = tuple[::-1]\n",
    "x"
   ]
  },
  {
   "cell_type": "markdown",
   "id": "62ddcfd2-e880-45ea-9f9c-e7f2c790e9d7",
   "metadata": {},
   "source": [
    "#### QUESTION 45"
   ]
  },
  {
   "cell_type": "code",
   "execution_count": 47,
   "id": "36d5ad45-3e9e-4974-a2b8-9772e7f4666d",
   "metadata": {},
   "outputs": [
    {
     "name": "stdout",
     "output_type": "stream",
     "text": [
      "(1, 2, 4, 8, 16, 32, 64)\n"
     ]
    }
   ],
   "source": [
    "# Create a tuple of the first 'n' powers of 2\n",
    "def generate_powers_of_two(n):\n",
    "    return tuple(2**i for i in range(n))\n",
    "    \n",
    "first_seven_powers_of_two = generate_powers_of_two(7)\n",
    "print(first_seven_powers_of_two)"
   ]
  },
  {
   "cell_type": "markdown",
   "id": "679bb11d-209b-49a9-ae68-1d6728ee907d",
   "metadata": {},
   "source": [
    "#### QUESTION 46"
   ]
  },
  {
   "cell_type": "code",
   "execution_count": 49,
   "id": "278b58a3-cbba-4691-b9b1-e2b74ad51f71",
   "metadata": {},
   "outputs": [
    {
     "name": "stdout",
     "output_type": "stream",
     "text": [
      "strawberry\n"
     ]
    }
   ],
   "source": [
    "# Find the longest string in a tuple of strings\n",
    "tuple_of_strings = ('apples' , 'banana' , 'kiwi' , 'strawberry' , 'blueberry')\n",
    "longest_string = max(tuple_of_strings , key = len)\n",
    "print(longest_string)"
   ]
  },
  {
   "cell_type": "markdown",
   "id": "eedcf9aa-4c6a-4d2b-b3fa-65c765efba75",
   "metadata": {},
   "source": [
    "#### QUESTION 47"
   ]
  },
  {
   "cell_type": "code",
   "execution_count": 51,
   "id": "dd1d68d1-847d-41ee-b22e-28ba1f52a135",
   "metadata": {},
   "outputs": [
    {
     "name": "stdout",
     "output_type": "stream",
     "text": [
      "kiwi\n"
     ]
    }
   ],
   "source": [
    "# Find the shortest string in a tuple of strings\n",
    "tuple_of_strings = ('apples' , 'banana' , 'kiwi' , 'strawberry' , 'blueberry')\n",
    "shortest_string = min(tuple_of_strings , key = len)\n",
    "print(shortest_string)"
   ]
  },
  {
   "cell_type": "markdown",
   "id": "9efbe76a-5f29-4c1a-91a9-7a5195418158",
   "metadata": {},
   "source": [
    "#### QUESTION 48"
   ]
  },
  {
   "cell_type": "code",
   "execution_count": 53,
   "id": "a958c235-6f67-477f-838c-df48a396ae65",
   "metadata": {},
   "outputs": [
    {
     "name": "stdout",
     "output_type": "stream",
     "text": [
      "(1, 3, 6, 10, 15, 21)\n"
     ]
    }
   ],
   "source": [
    "# Create a tuple of the first 'n' triangular numbers\n",
    "def generate_triangular_numbers(n):\n",
    "    return tuple(i * (i+1)// 2 for i in range (1, n+1))\n",
    "    \n",
    "\n",
    "n = 6\n",
    "triangular_numbers = generate_triangular_numbers(n)\n",
    "print(triangular_numbers)"
   ]
  },
  {
   "cell_type": "markdown",
   "id": "2cde5bd3-5557-41ed-a95e-ed2a84498c1f",
   "metadata": {},
   "source": [
    "#### QUESTION 49"
   ]
  },
  {
   "cell_type": "code",
   "execution_count": 54,
   "id": "a5e792b2-d2fa-481c-8bbc-b887d9c514ac",
   "metadata": {},
   "outputs": [
    {
     "name": "stdout",
     "output_type": "stream",
     "text": [
      "True\n"
     ]
    }
   ],
   "source": [
    "# Check if a tuple contains another tuple as a subsequence\n",
    "def is_subsequence(sub , main):\n",
    "    sub_len = len(sub)\n",
    "    main_len = len(main)\n",
    "\n",
    "    for i in range(main_len - sub_len +1):\n",
    "        if main[i:i + sub_len] ==sub:\n",
    "            return True\n",
    "\n",
    "    return False\n",
    "\n",
    "main_tuple = (1,2,3,4,5,6,7)\n",
    "sub_tuple = (3,4,5)\n",
    "\n",
    "result = is_subsequence(sub_tuple , main_tuple)\n",
    "print(result)"
   ]
  },
  {
   "cell_type": "markdown",
   "id": "dde354d3-44a0-4d51-b5c0-e0cbb7f17fac",
   "metadata": {},
   "source": [
    "#### QUESTION 50"
   ]
  },
  {
   "cell_type": "code",
   "execution_count": 55,
   "id": "39581a4e-1d64-485d-afaf-d1d1aa50c692",
   "metadata": {},
   "outputs": [
    {
     "name": "stdout",
     "output_type": "stream",
     "text": [
      "(0, 1, 0, 1, 0, 1, 0)\n"
     ]
    }
   ],
   "source": [
    "# Create a tuple of alternating 1s and 0s of length 'n'\n",
    "def alternating_ones_zeroes(n):\n",
    "    return tuple((i%2) for i in range(n))\n",
    "\n",
    "result_tuple = alternating_ones_zeroes(7)\n",
    "print(result_tuple)"
   ]
  },
  {
   "cell_type": "markdown",
   "id": "67cdf79a-fd29-4a87-a2c9-3b829f3593be",
   "metadata": {},
   "source": [
    "### SET BASED PRACTICE PROBLEMS"
   ]
  },
  {
   "cell_type": "markdown",
   "id": "96b9c3a6-090d-49c9-a529-be6627b6cbda",
   "metadata": {},
   "source": [
    "#### QUESTION 1"
   ]
  },
  {
   "cell_type": "code",
   "execution_count": 56,
   "id": "e9bf3f71-3492-4ad9-b6d0-48152d55f418",
   "metadata": {},
   "outputs": [
    {
     "data": {
      "text/plain": [
       "{1, 2, 3, 4, 5}"
      ]
     },
     "execution_count": 56,
     "metadata": {},
     "output_type": "execute_result"
    }
   ],
   "source": [
    "# Create a set with integers from 1 to 5\n",
    "my_set = {1,2,3,4,5}\n",
    "my_set"
   ]
  },
  {
   "cell_type": "markdown",
   "id": "b1106511-b277-47ab-b5d6-5852d3644709",
   "metadata": {},
   "source": [
    "#### QUESTION 2"
   ]
  },
  {
   "cell_type": "code",
   "execution_count": 62,
   "id": "818edaf5-42f4-4564-8e68-51c2c63f1851",
   "metadata": {},
   "outputs": [
    {
     "name": "stdout",
     "output_type": "stream",
     "text": [
      "{1, 2, 3, 4, 5, 6}\n"
     ]
    }
   ],
   "source": [
    "# Add an element to a set\n",
    "set = {1,2,3,4,5}\n",
    "set.add(6)\n",
    "print(set)"
   ]
  },
  {
   "cell_type": "markdown",
   "id": "3ffdcea0-5897-4784-a1ea-6791ee92be50",
   "metadata": {},
   "source": [
    "#### QUESTION 3"
   ]
  },
  {
   "cell_type": "code",
   "execution_count": 155,
   "id": "0af68237-7db8-46da-b00a-18506e780079",
   "metadata": {},
   "outputs": [
    {
     "name": "stdout",
     "output_type": "stream",
     "text": [
      "{1, 2, 4, 5}\n"
     ]
    }
   ],
   "source": [
    "# Remove an element from a set\n",
    "set = {1,2,3,4,5}\n",
    "set.remove(3)\n",
    "print(set)"
   ]
  },
  {
   "cell_type": "markdown",
   "id": "49bd9e93-fb6f-4558-89f0-44f9238ffe08",
   "metadata": {},
   "source": [
    "#### QUESTION 4"
   ]
  },
  {
   "cell_type": "code",
   "execution_count": 18,
   "id": "63225e2e-1cb8-4cbd-b915-d594e9bdfb30",
   "metadata": {},
   "outputs": [
    {
     "name": "stdout",
     "output_type": "stream",
     "text": [
      "Element exists\n"
     ]
    }
   ],
   "source": [
    "# Check if an element exists in a set \n",
    "set = {1,2,3,4,5,6,7}\n",
    "for i in set:\n",
    "    if(i==3):\n",
    "        print(\"Element exists\")\n",
    "        "
   ]
  },
  {
   "cell_type": "markdown",
   "id": "a5671749-96cc-4a75-af06-a451cd641296",
   "metadata": {},
   "source": [
    "#### QUESTION 5"
   ]
  },
  {
   "cell_type": "code",
   "execution_count": 19,
   "id": "bf7a0224-86d4-4924-893e-84f1605f8913",
   "metadata": {},
   "outputs": [
    {
     "name": "stdout",
     "output_type": "stream",
     "text": [
      "7\n"
     ]
    }
   ],
   "source": [
    "# Find the length of a set without using the length function\n",
    "set = {1,2,3,4,5,6,7}\n",
    "count = 0\n",
    "for i in set:\n",
    "    count += 1\n",
    "print(count)      "
   ]
  },
  {
   "cell_type": "markdown",
   "id": "53a03478-c90b-48b1-b19a-68b3a7b7c8e7",
   "metadata": {},
   "source": [
    "#### QUESTION 6"
   ]
  },
  {
   "cell_type": "code",
   "execution_count": 20,
   "id": "1d858f2a-66e1-418f-9c31-89722f2e90dc",
   "metadata": {},
   "outputs": [
    {
     "data": {
      "text/plain": [
       "set()"
      ]
     },
     "execution_count": 20,
     "metadata": {},
     "output_type": "execute_result"
    }
   ],
   "source": [
    "# Clear all the elements of a set\n",
    "set= {1,2,3,4,5,6,7,8}\n",
    "set.clear()\n",
    "set"
   ]
  },
  {
   "cell_type": "markdown",
   "id": "ab89a1e4-31f4-48f6-bca9-533dd526d3a2",
   "metadata": {},
   "source": [
    "#### QUESTION 7"
   ]
  },
  {
   "cell_type": "code",
   "execution_count": 23,
   "id": "7d151370-d5b4-489a-b0b6-b4f88c5f3956",
   "metadata": {},
   "outputs": [
    {
     "name": "stdout",
     "output_type": "stream",
     "text": [
      "{2, 4, 6, 8, 10}\n"
     ]
    }
   ],
   "source": [
    "# Create a set of even numbers from 1 to 10\n",
    "even_numbers = {x for x in range(1,11) if x%2==0}\n",
    "print(even_numbers)"
   ]
  },
  {
   "cell_type": "markdown",
   "id": "76e288db-fb1c-464c-b7d7-7c11d2bacb04",
   "metadata": {},
   "source": [
    "#### QUESTION 8"
   ]
  },
  {
   "cell_type": "code",
   "execution_count": 172,
   "id": "61cca299-fcc4-4f95-9230-393b862e10d0",
   "metadata": {},
   "outputs": [
    {
     "name": "stdout",
     "output_type": "stream",
     "text": [
      "{1, 3, 5, 7, 9}\n"
     ]
    }
   ],
   "source": [
    "# Create a set of odd numbers from 1 to 10\n",
    "odd_numbers = {x for x in range(10) if x%2==1 }\n",
    "print(odd_numbers)"
   ]
  },
  {
   "cell_type": "markdown",
   "id": "97d85ef8-dc7c-432e-8f55-9d2e80ff6da1",
   "metadata": {},
   "source": [
    "#### QUESTION 9"
   ]
  },
  {
   "cell_type": "code",
   "execution_count": 175,
   "id": "8bbaad28-41dd-4067-9d94-5869f0467de9",
   "metadata": {},
   "outputs": [
    {
     "name": "stdout",
     "output_type": "stream",
     "text": [
      "{1, 2, 3, 4, 5, 8}\n"
     ]
    }
   ],
   "source": [
    "# Find the union of two sets\n",
    "set1 = {1,2,3,4}\n",
    "set2 = {2,4,5,8}\n",
    "set = set1.union(set2)\n",
    "print(set)"
   ]
  },
  {
   "cell_type": "markdown",
   "id": "db7d5d1a-e336-4bf3-ba3d-f52f6a1eaa82",
   "metadata": {},
   "source": [
    "#### QUESTION 10"
   ]
  },
  {
   "cell_type": "code",
   "execution_count": 176,
   "id": "f76df894-8820-4bf7-be66-837cddcf17f9",
   "metadata": {},
   "outputs": [
    {
     "name": "stdout",
     "output_type": "stream",
     "text": [
      "{2, 4}\n"
     ]
    }
   ],
   "source": [
    "# Find the intersection of two sets\n",
    "set1 = {1,2,3,4}\n",
    "set2 = {2,4,5,6}\n",
    "set = set1.intersection(set2)\n",
    "print(set)"
   ]
  },
  {
   "cell_type": "markdown",
   "id": "e6447207-02bc-4e28-9074-f0e9ab7cb009",
   "metadata": {},
   "source": [
    "#### QUESTION 11"
   ]
  },
  {
   "cell_type": "code",
   "execution_count": 178,
   "id": "f3a9f0a6-2819-44ba-a52c-672926dc21af",
   "metadata": {},
   "outputs": [
    {
     "name": "stdout",
     "output_type": "stream",
     "text": [
      "{12, 54}\n",
      "{85, 63}\n"
     ]
    }
   ],
   "source": [
    "# Find the difference between two sets\n",
    "A = {12,23,56,54}\n",
    "B = {23,56,85,63}\n",
    "C = A.difference(B)\n",
    "D = B.difference(A)\n",
    "print(C)\n",
    "print(D)"
   ]
  },
  {
   "cell_type": "markdown",
   "id": "36ad658a-21e5-4f7a-829d-78b41a333caa",
   "metadata": {},
   "source": [
    "#### QUESTION 12"
   ]
  },
  {
   "cell_type": "code",
   "execution_count": 179,
   "id": "bfa93f30-568d-44b1-ad52-fa42bd507cc2",
   "metadata": {},
   "outputs": [
    {
     "name": "stdout",
     "output_type": "stream",
     "text": [
      "True\n"
     ]
    }
   ],
   "source": [
    "# Check if a set is a subset of another set\n",
    "A = {12,68,36,54,45,96,79,22,56,85}\n",
    "B = {12,36,45,85,79,56}\n",
    "print(B.issubset(A))"
   ]
  },
  {
   "cell_type": "markdown",
   "id": "69167d2a-4772-4fd8-8604-f34cd32613fe",
   "metadata": {},
   "source": [
    "#### QUESTION 13"
   ]
  },
  {
   "cell_type": "code",
   "execution_count": 182,
   "id": "08ddd25c-d55a-4025-918a-fa90d78cc548",
   "metadata": {},
   "outputs": [
    {
     "name": "stdout",
     "output_type": "stream",
     "text": [
      "True\n"
     ]
    }
   ],
   "source": [
    "# Check if a set is a subset of another set\n",
    "A = {12,68,36,54,45,96,79,22,56,85}\n",
    "B = {12,36,45,85,79,56}\n",
    "print(A.issuperset(B))"
   ]
  },
  {
   "cell_type": "markdown",
   "id": "c0be026e-e97d-4edc-a88f-f6c38c4e0d6e",
   "metadata": {},
   "source": [
    "#### QUESTION 14\n"
   ]
  },
  {
   "cell_type": "code",
   "execution_count": 6,
   "id": "942d354d-e8be-480b-888a-6b33b9097857",
   "metadata": {},
   "outputs": [
    {
     "name": "stdout",
     "output_type": "stream",
     "text": [
      "{65, 67, 45, 23, 87, 89}\n"
     ]
    }
   ],
   "source": [
    "# Create a set from a list\n",
    "list = [23,45,67,89,87,65]\n",
    "my_set = set(list)\n",
    "print(my_set)"
   ]
  },
  {
   "cell_type": "markdown",
   "id": "8853faba-b56a-45d5-8de4-602b2427ec5b",
   "metadata": {},
   "source": [
    "#### QUESTION 15"
   ]
  },
  {
   "cell_type": "code",
   "execution_count": 27,
   "id": "bda79d9a-1189-4f6d-8999-66af78319c36",
   "metadata": {},
   "outputs": [
    {
     "name": "stdout",
     "output_type": "stream",
     "text": [
      "[98, 67, 54, 23, 89, 76, 45]\n"
     ]
    }
   ],
   "source": [
    "# Convert a set to a list\n",
    "set = {23,45,67,89,98,76,54}\n",
    "x = list(set)\n",
    "print(x)"
   ]
  },
  {
   "cell_type": "markdown",
   "id": "790887b6-3e63-4720-afa2-e4a5628dc445",
   "metadata": {},
   "source": [
    "#### QUESTION 16"
   ]
  },
  {
   "cell_type": "code",
   "execution_count": 198,
   "id": "8368cbb8-62e6-48c3-88d9-65bcf8188de5",
   "metadata": {},
   "outputs": [
    {
     "name": "stdout",
     "output_type": "stream",
     "text": [
      "{66, 55, 87, 23, 78}\n"
     ]
    }
   ],
   "source": [
    "# Remove a random element from a set\n",
    "set = {23,45,66,78,87,55}\n",
    "set.remove(45)\n",
    "print(set)"
   ]
  },
  {
   "cell_type": "markdown",
   "id": "3ff3a96c-f158-451d-89c2-39a0b75d4f53",
   "metadata": {},
   "source": [
    "#### QUESTION 17"
   ]
  },
  {
   "cell_type": "code",
   "execution_count": 204,
   "id": "8ecb0082-a32d-4bd9-b674-1f21fdcbd4e9",
   "metadata": {},
   "outputs": [
    {
     "name": "stdout",
     "output_type": "stream",
     "text": [
      "{3, 4, 5, 6, 7}\n"
     ]
    }
   ],
   "source": [
    "# Pop an element from a set\n",
    "set = {1,3,4,5,6,7}\n",
    "set.pop()\n",
    "print(set)"
   ]
  },
  {
   "cell_type": "markdown",
   "id": "21042998-e4aa-4253-8e74-d13009a87d85",
   "metadata": {},
   "source": [
    "#### QUESTION 18"
   ]
  },
  {
   "cell_type": "code",
   "execution_count": 206,
   "id": "63282d36-9508-4c57-bfcf-6f15b2835b0b",
   "metadata": {},
   "outputs": [
    {
     "name": "stdout",
     "output_type": "stream",
     "text": [
      "True\n"
     ]
    }
   ],
   "source": [
    "# Check if two sets have no elements in common\n",
    "A = {54,36,23,21,35,79}\n",
    "B = {45,63,32,12,38,78}\n",
    "are_disjoint = A.isdisjoint(B)\n",
    "print(are_disjoint)"
   ]
  },
  {
   "cell_type": "markdown",
   "id": "dc133cdd-9f6f-4bef-851f-a99c8d054e59",
   "metadata": {},
   "source": [
    "#### QUESTION 19"
   ]
  },
  {
   "cell_type": "code",
   "execution_count": 207,
   "id": "3a48f480-f89d-4f73-be88-6b74d891c595",
   "metadata": {},
   "outputs": [
    {
     "name": "stdout",
     "output_type": "stream",
     "text": [
      "{1, 2, 5, 6, 7, 9}\n"
     ]
    }
   ],
   "source": [
    "# Find the symmetric difference bewteen two sets\n",
    "A = {1,2,3,4,5}\n",
    "B = {6,7,3,9,4}\n",
    "print(A.symmetric_difference(B))"
   ]
  },
  {
   "cell_type": "markdown",
   "id": "c3025987-8c6f-402a-ad03-114e4f08783a",
   "metadata": {},
   "source": [
    "#### QUESTION 20"
   ]
  },
  {
   "cell_type": "code",
   "execution_count": 213,
   "id": "4c32652e-0571-4ae5-8bad-7ef142639964",
   "metadata": {},
   "outputs": [
    {
     "name": "stdout",
     "output_type": "stream",
     "text": [
      "{1, 2, 3, 6, 7, 8}\n"
     ]
    }
   ],
   "source": [
    "# Update a set with elements from another set\n",
    "A = {1,2,3}\n",
    "B = {6,7,8}\n",
    "A.update(B)\n",
    "print(A)"
   ]
  },
  {
   "cell_type": "markdown",
   "id": "d74c6306-9783-4126-a58d-db5022a07b17",
   "metadata": {},
   "source": [
    "#### QUESTION 21"
   ]
  },
  {
   "cell_type": "code",
   "execution_count": 87,
   "id": "088e5b20-cd62-4c4e-bc41-84106e3070e1",
   "metadata": {},
   "outputs": [],
   "source": [
    "# Create a set of first 5 prime numbers \n",
    "x = 7\n",
    "for i in range ()"
   ]
  },
  {
   "cell_type": "markdown",
   "id": "02070505-9fb8-4149-9b99-dd908bd3bdf7",
   "metadata": {},
   "source": [
    "#### QUESTION 22"
   ]
  },
  {
   "cell_type": "code",
   "execution_count": 82,
   "id": "0ec1e9eb-70c7-4775-befd-a06fc641cd94",
   "metadata": {},
   "outputs": [
    {
     "name": "stdout",
     "output_type": "stream",
     "text": [
      "The sets are identical\n"
     ]
    }
   ],
   "source": [
    "# Check if two sets are identical\n",
    "A = {1,2,3,4}\n",
    "B = {1,2,3,4}\n",
    "if A == B:\n",
    "    print(\"The sets are identical\")\n",
    "else :\n",
    "    print(\"The sets are not identical\")"
   ]
  },
  {
   "cell_type": "markdown",
   "id": "6131e832-e9a8-41f6-a155-79a090ba66ab",
   "metadata": {},
   "source": [
    "#### QUESTION 23"
   ]
  },
  {
   "cell_type": "code",
   "execution_count": 7,
   "id": "2ebd90bc-4e11-4ed8-b2f0-a719e09f0d7e",
   "metadata": {},
   "outputs": [
    {
     "name": "stdout",
     "output_type": "stream",
     "text": [
      "frozenset({'apple', 'orange', 'banana'})\n"
     ]
    }
   ],
   "source": [
    "# Create a frozen set\n",
    "fruits = frozenset([\"apple\" , \"banana\" , \"orange\"])\n",
    "print(fruits)\n"
   ]
  },
  {
   "cell_type": "markdown",
   "id": "80d8161f-94da-4886-ae4d-3564356a407d",
   "metadata": {},
   "source": [
    "#### QUESTION 24"
   ]
  },
  {
   "cell_type": "code",
   "execution_count": 8,
   "id": "ddaec745-54e9-487f-aa41-1a404c78c940",
   "metadata": {},
   "outputs": [
    {
     "name": "stdout",
     "output_type": "stream",
     "text": [
      "True\n"
     ]
    }
   ],
   "source": [
    "# Check if a set is disjoint with another\n",
    "A = {54,36,23,21,35,79}\n",
    "B = {45,63,32,12,38,78}\n",
    "are_disjoint = A.isdisjoint(B)\n",
    "print(are_disjoint)"
   ]
  },
  {
   "cell_type": "markdown",
   "id": "977af373-fdd8-4ecb-b4cf-f54d2e10353d",
   "metadata": {},
   "source": [
    "#### QUESTION 25"
   ]
  },
  {
   "cell_type": "code",
   "execution_count": 9,
   "id": "1d4d9c2f-be05-4fa0-8a36-c7b55d1d6a5b",
   "metadata": {},
   "outputs": [
    {
     "name": "stdout",
     "output_type": "stream",
     "text": [
      "{1, 4, 9, 16, 25}\n"
     ]
    }
   ],
   "source": [
    "# Create a set of squares of numbers from 1 to 5\n",
    "squares = {x**2 for x in range(1,6)}\n",
    "print(squares)"
   ]
  },
  {
   "cell_type": "markdown",
   "id": "6b8faea0-7ddd-452e-bae5-bd382ed0fb2b",
   "metadata": {},
   "source": [
    "#### QUESTION 26"
   ]
  },
  {
   "cell_type": "code",
   "execution_count": 16,
   "id": "734dd948-ac06-47cd-965c-cb6ec254c05e",
   "metadata": {},
   "outputs": [
    {
     "name": "stdout",
     "output_type": "stream",
     "text": [
      "{8, 2, 4, 6}\n"
     ]
    }
   ],
   "source": [
    "# Filter out all even numbers from a set\n",
    "set = {2,5,6,3,4,8,9}\n",
    "even_numbers = {num for num in set if num%2== 0}\n",
    "print(even_numbers)"
   ]
  },
  {
   "cell_type": "markdown",
   "id": "848423e1-75da-46f7-b72e-bf524f2df998",
   "metadata": {},
   "source": [
    "#### QUESTION 27"
   ]
  },
  {
   "cell_type": "code",
   "execution_count": 17,
   "id": "764d5b94-8c35-4c3d-98b9-acbe32e0ae33",
   "metadata": {},
   "outputs": [
    {
     "name": "stdout",
     "output_type": "stream",
     "text": [
      "{2, 8, 10, 12, 14, 16, 18}\n"
     ]
    }
   ],
   "source": [
    "# Multiply all elements in a set by 2\n",
    "set = {1,4,5,6,7,8,9}\n",
    "new_set = {i*2 for i in set}\n",
    "print(new_set)"
   ]
  },
  {
   "cell_type": "markdown",
   "id": "f9aef956-15c4-4399-bd27-f0ad94bea046",
   "metadata": {},
   "source": [
    "#### QUESTION 28"
   ]
  },
  {
   "cell_type": "code",
   "execution_count": 57,
   "id": "f8375502-ed21-488b-9774-2a08e00c3806",
   "metadata": {},
   "outputs": [
    {
     "name": "stdout",
     "output_type": "stream",
     "text": [
      "{3, 68, 5, 13, 31}\n"
     ]
    }
   ],
   "source": [
    "# Create a set of random numbers \n",
    "import random\n",
    "random_set = set(random.sample(range(1,101),5))\n",
    "print(random_set)"
   ]
  },
  {
   "cell_type": "markdown",
   "id": "8758a443-c091-48ce-bdbe-fbc2bc620a25",
   "metadata": {},
   "source": [
    "#### QUESTION 29"
   ]
  },
  {
   "cell_type": "code",
   "execution_count": 24,
   "id": "6736610f-ce6d-4255-a195-99a3c941947f",
   "metadata": {},
   "outputs": [
    {
     "name": "stdout",
     "output_type": "stream",
     "text": [
      "Set is empty\n"
     ]
    }
   ],
   "source": [
    "# Check if set is empty\n",
    "set = {}\n",
    "if not set:\n",
    "    print(\"Set is empty\")\n",
    "else:\n",
    "    print(\"Set is not empty\")"
   ]
  },
  {
   "cell_type": "markdown",
   "id": "8ea26f1e-e7e5-4c0d-a352-3b8c199fb5c4",
   "metadata": {},
   "source": [
    "#### QUESTION 30"
   ]
  },
  {
   "cell_type": "code",
   "execution_count": 58,
   "id": "a92e2735-f077-4672-b151-826f6827971d",
   "metadata": {},
   "outputs": [
    {
     "name": "stdout",
     "output_type": "stream",
     "text": [
      "frozenset({frozenset({3, 4, 5}), frozenset({6}), frozenset({1, 2})})\n"
     ]
    }
   ],
   "source": [
    "# Create a nested set\n",
    "nested_set = frozenset([frozenset({1,2}) , frozenset({3,4,5}) , frozenset({6})])\n",
    "print(nested_set)"
   ]
  },
  {
   "cell_type": "markdown",
   "id": "f3fb4cd4-b6bc-4037-bf09-05328c78f849",
   "metadata": {},
   "source": [
    "#### QUESTION 31"
   ]
  },
  {
   "cell_type": "code",
   "execution_count": 15,
   "id": "07983a5b-06a7-4e02-836c-fdfdd8069b00",
   "metadata": {},
   "outputs": [
    {
     "data": {
      "text/plain": [
       "{15, 54, 63, 65}"
      ]
     },
     "execution_count": 15,
     "metadata": {},
     "output_type": "execute_result"
    }
   ],
   "source": [
    "# Remove an element from a set using the discard method\n",
    "s = {12,15,63,65,54}\n",
    "s.discard(12)\n",
    "s"
   ]
  },
  {
   "cell_type": "markdown",
   "id": "1161586e-c76c-439a-9ae1-c46e57ddf9b6",
   "metadata": {},
   "source": [
    "#### QUESTION 32"
   ]
  },
  {
   "cell_type": "code",
   "execution_count": 38,
   "id": "33e2a2d5-9688-4462-adfb-6ae291231f1b",
   "metadata": {},
   "outputs": [
    {
     "name": "stdout",
     "output_type": "stream",
     "text": [
      "The sets are equal\n"
     ]
    }
   ],
   "source": [
    "# Compare two sets\n",
    "A = {45,52,56,51,53}\n",
    "B = {45,52,56,51,53}\n",
    "if A == B:\n",
    "   print(\"The sets are equal\")\n",
    "else:\n",
    "   print(\"The sets are not equal\")"
   ]
  },
  {
   "cell_type": "markdown",
   "id": "4058e673-c6dc-469c-af1a-3589ee2c03e4",
   "metadata": {},
   "source": [
    "#### QUESTION 33"
   ]
  },
  {
   "cell_type": "code",
   "execution_count": 17,
   "id": "c2f22bd0-3161-4954-838c-8ac6a6e51f60",
   "metadata": {},
   "outputs": [
    {
     "name": "stdout",
     "output_type": "stream",
     "text": [
      "{'e', 's', 'i', 'J', 'm', 'n', 'a'}\n"
     ]
    }
   ],
   "source": [
    "# Create a set from string\n",
    "string = \"Jasmine\"\n",
    "string = set(string)\n",
    "print(string)"
   ]
  },
  {
   "cell_type": "markdown",
   "id": "c0543598-1856-4309-b5ca-3b6a8a1b7f29",
   "metadata": {},
   "source": [
    "#### QUESTION 34"
   ]
  },
  {
   "cell_type": "code",
   "execution_count": 60,
   "id": "cd71ddbe-ef10-4297-b0d0-fe52d494a4c9",
   "metadata": {},
   "outputs": [
    {
     "name": "stdout",
     "output_type": "stream",
     "text": [
      "{'3', '2', '4', '1', '5'}\n"
     ]
    }
   ],
   "source": [
    "# Convert a set of strings to a set of integers\n",
    "string_set = {'1' , '2' , '3' , '4' , '5'}\n",
    "integer_set = set(map(int,string_set))\n",
    "print(string_set)"
   ]
  },
  {
   "cell_type": "markdown",
   "id": "1e4d56d7-8281-4882-b9c2-752e1c079557",
   "metadata": {},
   "source": [
    "#### QUESTION 35"
   ]
  },
  {
   "cell_type": "code",
   "execution_count": 61,
   "id": "5506debf-6655-4683-aab5-3e8e246bad53",
   "metadata": {},
   "outputs": [
    {
     "name": "stdout",
     "output_type": "stream",
     "text": [
      "{'3', '2', '4', '5', '1'}\n"
     ]
    }
   ],
   "source": [
    "# Convert a set of integers to a set of strings\n",
    "integer_set = {1,2,3,4,5}\n",
    "string_set = set(map(str , integer_set))\n",
    "print(string_set)"
   ]
  },
  {
   "cell_type": "markdown",
   "id": "2a013894-faf4-4a74-bc01-de58f0527348",
   "metadata": {},
   "source": [
    "#### QUESTION 36\n"
   ]
  },
  {
   "cell_type": "code",
   "execution_count": 64,
   "id": "e354da1a-e7a2-40c1-8499-a45a8e1571c1",
   "metadata": {},
   "outputs": [
    {
     "name": "stdout",
     "output_type": "stream",
     "text": [
      "{2, 3, 4, 5, 11}\n"
     ]
    }
   ],
   "source": [
    "# Create a set from a tuple\n",
    "def tuple_to_set(t):\n",
    "    return{x for x in t}\n",
    "\n",
    "tuple = (11,2,3,4,5)\n",
    "print(tuple_to_set(tuple))"
   ]
  },
  {
   "cell_type": "markdown",
   "id": "816a9a02-8a9b-4da1-9f9b-20effe93783e",
   "metadata": {},
   "source": [
    "#### QUESTION 37"
   ]
  },
  {
   "cell_type": "code",
   "execution_count": 65,
   "id": "5b4d7316-5554-4a2a-90cc-e946e7b63325",
   "metadata": {},
   "outputs": [
    {
     "name": "stdout",
     "output_type": "stream",
     "text": [
      "(1, 2, 3, 4, 5)\n"
     ]
    }
   ],
   "source": [
    "# Convert a set to a tuple\n",
    "set = {1,2,3,4,5}\n",
    "x = (*set,)\n",
    "print(x)"
   ]
  },
  {
   "cell_type": "markdown",
   "id": "11d3dd68-4dfe-437f-b1d5-50eff57186b5",
   "metadata": {},
   "source": [
    "#### QUESTION 38"
   ]
  },
  {
   "cell_type": "code",
   "execution_count": 46,
   "id": "c1640363-9fc4-40db-8ff6-607392ae7a9d",
   "metadata": {},
   "outputs": [
    {
     "name": "stdout",
     "output_type": "stream",
     "text": [
      "5\n"
     ]
    }
   ],
   "source": [
    "# Find the maximum value in a set\n",
    "s = {1,2,3,4,5}\n",
    "x = max(s)\n",
    "print(x)"
   ]
  },
  {
   "cell_type": "markdown",
   "id": "ea78e097-0866-4182-988f-2b0f6f1a9498",
   "metadata": {},
   "source": [
    "#### QUESTION 39"
   ]
  },
  {
   "cell_type": "code",
   "execution_count": 45,
   "id": "ccadd495-22c2-44b5-a641-c831c400e1b2",
   "metadata": {},
   "outputs": [
    {
     "data": {
      "text/plain": [
       "1"
      ]
     },
     "execution_count": 45,
     "metadata": {},
     "output_type": "execute_result"
    }
   ],
   "source": [
    "# Find the minimum value in a set\n",
    "s = {1,2,3,4,5}\n",
    "x = min(s)\n",
    "x"
   ]
  },
  {
   "cell_type": "markdown",
   "id": "66bca678-cfb1-44a0-836c-d841b455894a",
   "metadata": {},
   "source": [
    "#### QUESTION 40"
   ]
  },
  {
   "cell_type": "code",
   "execution_count": 72,
   "id": "549a90fc-1daa-4873-8f90-b039b53d656f",
   "metadata": {},
   "outputs": [
    {
     "data": {
      "text/plain": [
       "{1, 2, 3, 4, 5}"
      ]
     },
     "execution_count": 72,
     "metadata": {},
     "output_type": "execute_result"
    }
   ],
   "source": [
    "# Create a set from user input\n",
    "user_input = {1,2,3,4,5}\n",
    "user_input\n"
   ]
  },
  {
   "cell_type": "markdown",
   "id": "8e1008ce-90aa-4986-a059-2818507909bf",
   "metadata": {},
   "source": [
    "#### QUESTION 41"
   ]
  },
  {
   "cell_type": "code",
   "execution_count": 48,
   "id": "4e5e2ce0-eef4-4d89-9c8b-2ba2c3b7acd7",
   "metadata": {},
   "outputs": [
    {
     "data": {
      "text/plain": [
       "set()"
      ]
     },
     "execution_count": 48,
     "metadata": {},
     "output_type": "execute_result"
    }
   ],
   "source": [
    "# Check if the intersection of two sets is empty\n",
    "A = {1,2,3,4,5}\n",
    "B = {6,7,8,9,10}\n",
    "X =  A.intersection(B)\n",
    "X"
   ]
  },
  {
   "cell_type": "code",
   "execution_count": 64,
   "id": "d518a8e3-a851-47e2-9270-3a4f8f00d35e",
   "metadata": {},
   "outputs": [],
   "source": [
    "# Since the set is empty , there is no intersection between two sets"
   ]
  },
  {
   "cell_type": "markdown",
   "id": "0f8ad38f-2fb8-4f99-b1d7-f4c636a78ba7",
   "metadata": {},
   "source": [
    "#### QUESTION 42"
   ]
  },
  {
   "cell_type": "code",
   "execution_count": 2,
   "id": "27dc14ea-4d7d-4db3-a72f-a22e58f09c91",
   "metadata": {},
   "outputs": [
    {
     "name": "stdin",
     "output_type": "stream",
     "text": [
      "enter the number: 5\n"
     ]
    },
    {
     "name": "stdout",
     "output_type": "stream",
     "text": [
      "0 1 1 2 3 "
     ]
    }
   ],
   "source": [
    "# Create a set of first five Fibonacci numbers\n",
    "n = int(input(\"enter the number:\"))\n",
    "\n",
    "def fibonacci(n):\n",
    "    a = 0\n",
    "    b = 1\n",
    "    count = 0\n",
    "\n",
    "    if n<=0:\n",
    "        print(\"You can enter only positive integer values \")\n",
    "    elif n == 1:\n",
    "        print(a)\n",
    "    else:\n",
    "        while count<n:\n",
    "            print(a,end = ' ')\n",
    "            c = a+b\n",
    "            a = b\n",
    "            b = c\n",
    "\n",
    "\n",
    "            count += 1 \n",
    "fibonacci(n)"
   ]
  },
  {
   "cell_type": "markdown",
   "id": "8caad1e6-5001-43c7-bd13-3ec565aa8db2",
   "metadata": {},
   "source": [
    "#### QUESTION 43"
   ]
  },
  {
   "cell_type": "code",
   "execution_count": 1,
   "id": "dd40d133-908b-4be9-8364-1533e4532065",
   "metadata": {},
   "outputs": [
    {
     "name": "stdout",
     "output_type": "stream",
     "text": [
      "[1, 2, 3, 4, 5]\n"
     ]
    }
   ],
   "source": [
    "# Remove duplicates from a list using sets \n",
    "l1 = [1,2,3,2,4,5,1]\n",
    "l2 = []\n",
    "\n",
    "for i in l1:\n",
    "    if i not in l2:\n",
    "        l2.append(i)\n",
    "\n",
    "print(l2)"
   ]
  },
  {
   "cell_type": "markdown",
   "id": "9b1da22f-96ab-485b-aabd-f389960b8235",
   "metadata": {},
   "source": [
    "#### QUESTION 44"
   ]
  },
  {
   "cell_type": "code",
   "execution_count": 59,
   "id": "dd79b532-4959-4a09-9a13-df1606fd699b",
   "metadata": {},
   "outputs": [
    {
     "name": "stdout",
     "output_type": "stream",
     "text": [
      " The sets have the same elements , regardless of their count\n"
     ]
    }
   ],
   "source": [
    "# Check if two set have the same elements , regardless of their count \n",
    "A = {1,2,3,4,5,6}\n",
    "B = {1,2,3,4,5,6}\n",
    "if A.issubset(B) or B.issubset(A) :\n",
    "    print(\" The sets have the same elements , regardless of their count\" )\n",
    "else:\n",
    "    print(\" The sets do not have same elements\" )"
   ]
  },
  {
   "cell_type": "markdown",
   "id": "2a5d3a50-c0be-4f16-bac0-b5e1d575d924",
   "metadata": {},
   "source": [
    "#### QUESTION 45"
   ]
  },
  {
   "cell_type": "code",
   "execution_count": 54,
   "id": "fa08629b-06f9-4c2b-945b-2cb209a00872",
   "metadata": {},
   "outputs": [
    {
     "name": "stdout",
     "output_type": "stream",
     "text": [
      "2 raised to 0 is 1\n",
      "2 raised to 1 is 2\n",
      "2 raised to 2 is 4\n",
      "2 raised to 3 is 8\n",
      "2 raised to 4 is 16\n",
      "2 raised to 5 is 32\n"
     ]
    }
   ],
   "source": [
    "# Create a set of the first 'n' powers of 2\n",
    "for i in range(n):\n",
    "    print(\"2 raised to {} is {}\" .format (i , 2**i))"
   ]
  },
  {
   "cell_type": "markdown",
   "id": "4b823f77-1ef1-4a3e-914a-37b2682f939d",
   "metadata": {},
   "source": [
    "#### QUESTION 46"
   ]
  },
  {
   "cell_type": "code",
   "execution_count": 47,
   "id": "cda6c250-9932-4594-b985-8071afa793d9",
   "metadata": {},
   "outputs": [
    {
     "name": "stdout",
     "output_type": "stream",
     "text": [
      "{3, 4}\n"
     ]
    }
   ],
   "source": [
    "# Find the common elements between a set and a list\n",
    "A = {1,2,3,4}\n",
    "list = [3,4,5,6]\n",
    "common= A.intersection(list)\n",
    "print(common)"
   ]
  },
  {
   "cell_type": "markdown",
   "id": "524c1954-471c-4e87-a54d-bd301b5787fa",
   "metadata": {},
   "source": [
    "#### QUESTION 47"
   ]
  },
  {
   "cell_type": "code",
   "execution_count": 41,
   "id": "38293fc9-1b09-437b-bd72-4656d9f9ba52",
   "metadata": {},
   "outputs": [
    {
     "name": "stdout",
     "output_type": "stream",
     "text": [
      "{1, 3, 6, 10, 15, 21}\n"
     ]
    }
   ],
   "source": [
    "# Create a set of the first 'n' triangular numbers\n",
    "def generate_triangular_numbers(n):\n",
    "    triangular_numbers = { i * (i+1) // 2 for i in range(1, n+1)}\n",
    "    return(triangular_numbers)\n",
    "\n",
    "n = 6\n",
    "triangular_numbers = generate_triangular_numbers(n)\n",
    "print(triangular_numbers)"
   ]
  },
  {
   "cell_type": "markdown",
   "id": "c7d27cbf-0985-4927-b809-d5c21f735e5d",
   "metadata": {},
   "source": [
    "#### QUESTION 48"
   ]
  },
  {
   "cell_type": "code",
   "execution_count": 35,
   "id": "dbcfd704-35c7-42b1-b397-f85d2557a832",
   "metadata": {},
   "outputs": [
    {
     "data": {
      "text/plain": [
       "True"
      ]
     },
     "execution_count": 35,
     "metadata": {},
     "output_type": "execute_result"
    }
   ],
   "source": [
    "# Check if a set contains another set as a subset\n",
    "A = {1,2,3}\n",
    "B = {1,2}\n",
    "B.issubset(A)"
   ]
  },
  {
   "cell_type": "markdown",
   "id": "7dda7cab-a7e4-443a-9e96-c4a1f6fd79e5",
   "metadata": {},
   "source": [
    "#### QUESTION 49"
   ]
  },
  {
   "cell_type": "code",
   "execution_count": 71,
   "id": "c3d90572-1c40-4fe7-8c49-87b477b100f1",
   "metadata": {},
   "outputs": [
    {
     "name": "stdout",
     "output_type": "stream",
     "text": [
      "{0, 1}\n"
     ]
    }
   ],
   "source": [
    "# Create a set of alternating 1s and 0s of length 'n'\n",
    "def alternating_ones_zeroes(n):\n",
    "    return set((i%2) for i in range(n))\n",
    "\n",
    "result_set = alternating_ones_zeroes(2)\n",
    "print(result_set)"
   ]
  },
  {
   "cell_type": "markdown",
   "id": "b0148146-3fa6-4067-899a-89e4f2543896",
   "metadata": {},
   "source": [
    "#### QUESTION 50"
   ]
  },
  {
   "cell_type": "code",
   "execution_count": 20,
   "id": "a2a65967-7aa3-42c9-85b6-2f07b8970db5",
   "metadata": {},
   "outputs": [
    {
     "name": "stdout",
     "output_type": "stream",
     "text": [
      "{65, 98, 36, 74, 45, 23, 54, 87, 62}\n"
     ]
    }
   ],
   "source": [
    "# Merge multiple sets into one\n",
    "A = {45,36,98,87,74}\n",
    "B = {98,65,23,54,62}\n",
    "A.update(B)\n",
    "print(A)"
   ]
  }
 ],
 "metadata": {
  "kernelspec": {
   "display_name": "Python 3 (ipykernel)",
   "language": "python",
   "name": "python3"
  },
  "language_info": {
   "codemirror_mode": {
    "name": "ipython",
    "version": 3
   },
   "file_extension": ".py",
   "mimetype": "text/x-python",
   "name": "python",
   "nbconvert_exporter": "python",
   "pygments_lexer": "ipython3",
   "version": "3.11.4"
  }
 },
 "nbformat": 4,
 "nbformat_minor": 5
}
