{
 "cells": [
  {
   "cell_type": "markdown",
   "metadata": {},
   "source": [
    "파이썬의 에러 핸들링에서 try-except 구문은 오류(에러)가 발생할 수 있는 상황을 안전하게 처리하기 위해 사용한다. 프로그램이 실행될 때 특정 코드에서 오류가 발생하면 프로그램이 멈추거나 비정상적으로 종료될 수 있는데, try-except 구문을 활용하면 이러한 오류를 예측하고, 그에 따른 적절한 대처를 하여 프로그램이 중단되지 않도록 만들 수 있다.\n",
    "\n",
    " \n",
    "\n",
    " try-except 구문의 필요성은 다음과 같다.\n",
    "\n",
    " \n",
    "\n",
    "예상치 못한 에러 방지: 코드 실행 중 예상하지 못한 에러가 발생하면 프로그램이 종료될 수 있습니다. try-except 구문을 사용하면 에러를 처리하고 프로그램이 계속 실행되도록 할 수 있다.\n",
    "오류에 따른 대응 가능: 발생한 에러에 따라 다른 대처를 할 수 있습니다. 예를 들어 파일이 없으면 파일을 생성하거나, 네트워크 연결 실패 시 재시도하는 등의 처리가 가능하다.\n",
    "디버깅 및 로깅: 에러 정보를 로그에 기록하여 디버깅을 쉽게 하고, 문제가 생긴 부분을 추적할 수 있다."
   ]
  },
  {
   "cell_type": "markdown",
   "metadata": {},
   "source": [
    "# 에러 처리를 통한 프로그램 지속\n",
    "\n",
    "try:\n",
    "    number = int(input(\"숫자를 입력하세요: \")) *# 사용자로부터 입력을 받고 정수로 변환 시도*\n",
    "    result = 10 / number *# 10을 입력받은 숫자로 나눔*\n",
    "    print(\"결과:\", result) *# 결과를 출력*\n",
    "except:\n",
    "    print(\"잘못된 입력입니다. 숫자를 입력해야 합니다.\") *# 오류 발생 시 메시지 출력*\n",
    "\n",
    " 정상적으로 실행되게 하려면, 사용자는 0이 아닌 숫자 (예: 2, 5, 10 등) 을 입력해야 한다. 다만, 해당 코드에서 input(\"숫자를 입력하세요: 10\") 부분의 \"10\"은 기본 안내 메세지일 뿐이다. 즉, 10이라는 값을 자동으로 입력하는 것이 아니라, 사용자가 직접 입력할 값이 무엇인지 알려주는 텍스트로 표시되는 것이다. 사용자가 \"10\" 외의 다른 숫자나 텍스트를 입력할 경우, 입력된 값에 따라 다른 결과가 나올 수 있다.\n",
    "\n",
    "1. 10 이외의 숫자를 입력한 경우: 입력된 숫자로 나눗셈이 진행되어 결과가 출력된다.\n",
    "2. 0을 입력한 경우: ZeroDivisionError가 발생하여 except 블록으로 넘어간다.\n",
    "3. 숫자가 아닌 문자를 입력한 경우: ValueError가 발생하여 except 블록으로 넘어간다."
   ]
  },
  {
   "cell_type": "markdown",
   "metadata": {},
   "source": [
    "# 사용자가 알맞은 숫자를 입력 할 때까지 반복\n",
    "\n",
    "while True:\n",
    "    try:\n",
    "        number = int(input(\"숫자를 입력하세요: \")) *# 사용자로부터 입력을 받고 정수로 변환 시도*\n",
    "        result = 10 / number *# 입력된 숫자로 10을 나누기*\n",
    "        print(\"결과:\", result) *# 결과 출력*\n",
    "        break  *# 올바른 입력이 들어오면 반복을 종료*\n",
    "    except:\n",
    "        print(\"잘못된 입력입니다. 숫자를 입력해야 합니다.\") *# 예외 발생 시 메시지 출력 후 반복 지속*\n",
    "\n",
    " \n",
    "\n",
    " 해당 부분에서도 동일하게 작동하게 되는데, 여기서 while True 루프를 사용하여 사용자가 올바른 숫자를 입력할 때까지 계속 반복하게 만들었다. 올바른 입력이 들어와서 try 블록 내의 코드가 성공적으로 실행되면 break 문을 만나 반복이 종료된다. 그러나, 잘못된 입력이 들어오면 except 블록이 실행되어 \"잘못된 입력입니다. 숫자를 입력해야 합니다.\"라는 메시지가 출력되고, 루프가 다시 시작된다."
   ]
  },
  {
   "cell_type": "markdown",
   "metadata": {},
   "source": [
    " **try - except - finally**\n",
    "\n",
    "# finally 블록을 추가해 오류가 발생하든 말든 반드시 실행해야 하는 코드를 넣을 수 있다.\n",
    "\n",
    "try:\n",
    "    file = open(\"data.txt\", \"r\")  *# 파일을 읽기 모드(\"r\")로 열려고 시도*\n",
    "    content = file.read()         *# 파일 내용을 읽어 변수 content에 저장*\n",
    "except FileNotFoundError:\n",
    "    print(\"파일을 찾을 수 없습니다.\")  *# 파일이 없을 경우, FileNotFoundError가 발생해 이 메시지가 출력됨*\n",
    "finally:\n",
    "    file.close()  *# 파일이 존재 여부와 상관없이 항상 실행되는 블록*\n",
    "\n",
    " \n",
    "\n",
    " 이 코드에서는 파일이 존재하지 않을 때만 \"파일을 찾을 수 없습니다.\"라는 에러 메시지가 출력된다. try block에서 파일이 정상적으로 열리면 content = file.read() 구문이 실행되고 파일의 내용을 읽어 content 변수에 저장한다. exceptFileNotFoundError 블록에서 FileNotFoundError가 발생할 때만 실행되고, 예외 발생시 \"파일을 찾을 수 없습니다.\" 라는 메세지가 출력된다."
   ]
  },
  {
   "cell_type": "markdown",
   "metadata": {},
   "source": [
    "**try - except - else**\n",
    "\n",
    "# try 블록에서 예외가 발생하지 않을 경우에만 else 블록을 실행한다. 따라서 오류가 없는 경우에만 특정 작업을 수행하도록 구성할 수 있다.\n",
    "\n",
    "try:\n",
    "    number = int(input(\"숫자를 입력하세요: \")) *# 사용자로부터 입력을 받고 정수로 변환을 시도*\n",
    "except ValueError:\n",
    "    print(\"정수를 입력해야 합니다.\") *# 정수로 변환할 수 없을 때 예외를 처리하여 메시지 출력*\n",
    "else:\n",
    "    print(\"입력된 숫자:\", number) *# 변환이 성공하면 입력된 숫자를 출력\n",
    "\n",
    "1. try 블록:\n",
    "input(\"숫자를 입력하세요: \"): 사용자가 입력할 수 있도록 메시지를 출력하고, 사용자가 입력한 값을 받는다.\n",
    "int(input(...)): 입력받은 값을 정수(int)로 변환하려고 시도한다.\n",
    "정수로 변환할 수 없는 값(예: 문자나 소수 등)을 입력하면 ValueError 예외가 발생하여 except 블록으로 이동한다.\n",
    "2. except ValueError 블록:\n",
    "ValueError가 발생할 때만 실행됩니다.\n",
    "예외 발생 시 \"정수를 입력해야 합니다.\"라는 메시지가 출력됩니다.\n",
    "즉, 사용자가 잘못된 형식(예: 문자나 소수)을 입력했을 때만 이 블록이 실행됩니다.\n",
    "3. else 블록:\n",
    "try 블록에서 오류가 발생하지 않고 정수로 변환이 성공한 경우에만 실행됩니다.\n",
    "print(\"입력된 숫자:\", number): 변환에 성공한 경우, 입력된 숫자를 출력합니다.\n",
    "\n",
    " 이 구조는 입력 값이 정수인지 검증하고, 올바른 입력이 있을 때만 프로그램이 정상적으로 작동하도록 돕는 예외 처리 방식이다."
   ]
  },
  {
   "cell_type": "markdown",
   "metadata": {},
   "source": [
    "#**파이썬 에러의 종류**\n",
    "SyntaxError: 문법 오류가 있을 때 발생.\n",
    "IndentationError: 들여쓰기가 잘못되었을 때 발생.\n",
    "NameError: 정의되지 않은 변수를 참조할 때 발생.\n",
    "TypeError: 잘못된 자료형을 사용했을 때 발생.\n",
    "ValueError: 함수에 잘못된 값을 전달할 때 발생.\n",
    "IndexError: 리스트 등 시퀀스에서 없는 인덱스를 참조할 때 발생.\n",
    "KeyError: 딕셔너리에서 존재하지 않는 키를 사용했을 때 발생.\n",
    "AttributeError: 객체에 없는 속성에 접근하려고 할 때 발생.\n",
    "ImportError: 모듈을 가져올 때 문제가 생기면 발생.\n",
    "ModuleNotFoundError: 모듈이 존재하지 않을 때 발생.\n",
    "FileNotFoundError: 파일을 찾을 수 없을 때 발생.\n",
    "ZeroDivisionError: 0으로 나누기를 시도할 때 발생.\n",
    "OverflowError: 계산 결과가 너무 커서 표현할 수 없을 때 발생.\n",
    "MemoryError: 메모리가 부족할 때 발생.\n",
    "RecursionError: 재귀 호출이 너무 깊어졌을 때 발생.\n",
    "AssertionError: assert 문이 실패했을 때 발생.\n",
    "EOFError: 파일이나 입력에서 예상보다 빠르게 끝에 도달했을 때 발생.\n",
    "KeyboardInterrupt: 사용자가 프로그램 실행 중에 중단(Ctrl+C)할 때 발생.\n",
    "RuntimeError: 다른 분류로 포함되지 않는 일반적인 런타임 오류.\n",
    "NotImplementedError: 구현되지 않은 메서드가 호출될 때 발생."
   ]
  },
  {
   "cell_type": "markdown",
   "metadata": {},
   "source": [
    "# 타입 함수를 사용해 에러의 종류 확인하기\n",
    "\n",
    "try, except에서 에러가 발생한다면, python에서는 자동으로 해당 에러 메세지를 Exception이라는 객체에 저장한다.\n",
    "\n",
    " \n",
    "\n",
    "try:\n",
    "    int(\"abc\") *# 여기서 오류가 발생*\n",
    "except Exception as e:\n",
    "    print(type(e))  *# <class 'ValueError'>와 같이 예외 타입이 출력됨*\n",
    "    print(type(e).__name__)  *# 'ValueError'와 같이 예외 이름만 출력*\n",
    "\n",
    " \n",
    "\n",
    "** NameError **\n",
    "\n",
    "try:\n",
    "    print(username)  *# username 변수가 정의되지 않아서 NameError 발생*\n",
    "except NameError as e:\n",
    "    print(\"오류 종류:\", type(e).__name__)\n",
    "    print(\"오류 메시지:\", e)\n",
    "\n",
    " \n",
    "\n",
    "** ValueError **\n",
    "\n",
    "try:\n",
    "    age = int(\"abc\")  *# \"abc\"는 숫자로 변환할 수 없어서 ValueError 발생*\n",
    "except ValueError as e:\n",
    "    print(\"오류 종류:\", type(e).__name__)\n",
    "    print(\"오류 메시지:\", e)"
   ]
  },
  {
   "cell_type": "markdown",
   "metadata": {},
   "source": [
    "모든 에러를 처리하도록 try, except를 설정하면 에러의 종류를 파악하기 어려워진다. 따라서 프로그램에서 사용할 특정 시나리오를 철저히 미리 설계하고, 그 설계에 맞는 특정한 에러만을 관리하는 것이 이상적이다. 곧바로 코딩에 들어가기보다는, 현재 만들고자 하는 프로그램의 flow를 그려본 후에 try-except 등 오류 처리가 필요한 구간을 미리 설정해보아야 한다."
   ]
  }
 ],
 "metadata": {
  "language_info": {
   "name": "python"
  }
 },
 "nbformat": 4,
 "nbformat_minor": 2
}
