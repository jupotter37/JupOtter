{
 "cells": [
  {
   "cell_type": "code",
   "execution_count": 1,
   "id": "6cbd26f8",
   "metadata": {},
   "outputs": [],
   "source": [
    "import sys\n",
    "\n",
    "#define a raiz do projeto par aser possivel importar os modulos\n",
    "sys.path.append(\"../src\")"
   ]
  },
  {
   "cell_type": "code",
   "execution_count": 4,
   "id": "e2ac74ca",
   "metadata": {},
   "outputs": [],
   "source": [
    "arquivo = \"notebooks/js0-teste-entrega/index.html\"\n",
    "open_local_page(arquivo, firefox)"
   ]
  },
  {
   "cell_type": "markdown",
   "id": "68e3d09c",
   "metadata": {},
   "source": [
    "## abre o chrome"
   ]
  },
  {
   "cell_type": "code",
   "execution_count": null,
   "id": "b6fcac51",
   "metadata": {},
   "outputs": [],
   "source": [
    "#T1: Criar tarefas da turma no bimestre\n",
    "    #sigla [1B-sigla] onde 1B é o inicio do topico a ser escolhido"
   ]
  },
  {
   "cell_type": "code",
   "execution_count": 11,
   "id": "f4f0f4bb",
   "metadata": {},
   "outputs": [],
   "source": [
    "from selenium.webdriver.chrome.options import Options as ChromeOptions\n",
    "from selenium.webdriver.chrome.service import Service as ChromeService\n",
    "from webdriver_manager.chrome import ChromeDriverManager\n",
    "from selenium import webdriver\n",
    "\n",
    "def abre_chrome_github():\n",
    "    user_agent = 'Mozilla/5.0 (X11; Linux x86_64) AppleWebKit/537.36 (KHTML, like Gecko) Chrome/95.0.4638.69 Safari/537.36'\n",
    "    \n",
    "    \n",
    "    chrome_service = ChromeService(ChromeDriverManager().install())\n",
    "\n",
    "    chrome_options = ChromeOptions()\n",
    "    options = [\n",
    "        #\"--headless\",\n",
    "        f'user-agent={user_agent}',\n",
    "        \"--disable-gpu\",\n",
    "        \"--disable-blink-features=AutomationControlled\",\n",
    "        \"--window-size=1920,1200\",\n",
    "        \"--ignore-certificate-errors\",\n",
    "        \"--disable-extensions\",\n",
    "        \"--no-sandbox\",\n",
    "        \"--disable-dev-shm-usage\",\n",
    "        \"user-data-dir=~/.chrome_selenium\"\n",
    "    ]\n",
    "    for option in options:\n",
    "        chrome_options.add_argument(option)\n",
    "\n",
    "\n",
    "    return webdriver.Chrome(service=chrome_service, options=chrome_options)\n",
    "    "
   ]
  },
  {
   "cell_type": "code",
   "execution_count": 5,
   "id": "22afb446",
   "metadata": {},
   "outputs": [
    {
     "data": {
      "text/plain": [
       "<selenium.webdriver.chrome.webdriver.WebDriver (session=\"55eeca135ca0c0961c88fd0896cae24a\")>"
      ]
     },
     "execution_count": 5,
     "metadata": {},
     "output_type": "execute_result"
    }
   ],
   "source": [
    "abre_chrome_github()"
   ]
  },
  {
   "cell_type": "markdown",
   "id": "7ca88da7",
   "metadata": {},
   "source": [
    "## obtem os dados das tarefas"
   ]
  },
  {
   "cell_type": "code",
   "execution_count": 90,
   "id": "ecc90cae",
   "metadata": {},
   "outputs": [
    {
     "ename": "ParserError",
     "evalue": "Unknown string format: 2012-01-1917:21:00 -0400",
     "output_type": "error",
     "traceback": [
      "\u001b[0;31m---------------------------------------------------------------------------\u001b[0m",
      "\u001b[0;31mParserError\u001b[0m                               Traceback (most recent call last)",
      "Cell \u001b[0;32mIn[90], line 3\u001b[0m\n\u001b[1;32m      1\u001b[0m \u001b[38;5;28;01mfrom\u001b[39;00m \u001b[38;5;21;01mdateutil\u001b[39;00m\u001b[38;5;21;01m.\u001b[39;00m\u001b[38;5;21;01mparser\u001b[39;00m \u001b[38;5;28;01mimport\u001b[39;00m parse\n\u001b[1;32m      2\u001b[0m \u001b[38;5;28;01mfrom\u001b[39;00m \u001b[38;5;21;01mdateutil\u001b[39;00m \u001b[38;5;28;01mimport\u001b[39;00m tz\n\u001b[0;32m----> 3\u001b[0m \u001b[43mparse\u001b[49m\u001b[43m(\u001b[49m\u001b[38;5;124;43m\"\u001b[39;49m\u001b[38;5;124;43m2012-01-1917:21:00 -0400\u001b[39;49m\u001b[38;5;124;43m\"\u001b[39;49m\u001b[43m)\u001b[49m\n",
      "File \u001b[0;32m~/.local/lib/python3.11/site-packages/dateutil/parser/_parser.py:1368\u001b[0m, in \u001b[0;36mparse\u001b[0;34m(timestr, parserinfo, **kwargs)\u001b[0m\n\u001b[1;32m   1366\u001b[0m     \u001b[38;5;28;01mreturn\u001b[39;00m parser(parserinfo)\u001b[38;5;241m.\u001b[39mparse(timestr, \u001b[38;5;241m*\u001b[39m\u001b[38;5;241m*\u001b[39mkwargs)\n\u001b[1;32m   1367\u001b[0m \u001b[38;5;28;01melse\u001b[39;00m:\n\u001b[0;32m-> 1368\u001b[0m     \u001b[38;5;28;01mreturn\u001b[39;00m \u001b[43mDEFAULTPARSER\u001b[49m\u001b[38;5;241;43m.\u001b[39;49m\u001b[43mparse\u001b[49m\u001b[43m(\u001b[49m\u001b[43mtimestr\u001b[49m\u001b[43m,\u001b[49m\u001b[43m \u001b[49m\u001b[38;5;241;43m*\u001b[39;49m\u001b[38;5;241;43m*\u001b[39;49m\u001b[43mkwargs\u001b[49m\u001b[43m)\u001b[49m\n",
      "File \u001b[0;32m~/.local/lib/python3.11/site-packages/dateutil/parser/_parser.py:643\u001b[0m, in \u001b[0;36mparser.parse\u001b[0;34m(self, timestr, default, ignoretz, tzinfos, **kwargs)\u001b[0m\n\u001b[1;32m    640\u001b[0m res, skipped_tokens \u001b[38;5;241m=\u001b[39m \u001b[38;5;28mself\u001b[39m\u001b[38;5;241m.\u001b[39m_parse(timestr, \u001b[38;5;241m*\u001b[39m\u001b[38;5;241m*\u001b[39mkwargs)\n\u001b[1;32m    642\u001b[0m \u001b[38;5;28;01mif\u001b[39;00m res \u001b[38;5;129;01mis\u001b[39;00m \u001b[38;5;28;01mNone\u001b[39;00m:\n\u001b[0;32m--> 643\u001b[0m     \u001b[38;5;28;01mraise\u001b[39;00m ParserError(\u001b[38;5;124m\"\u001b[39m\u001b[38;5;124mUnknown string format: \u001b[39m\u001b[38;5;132;01m%s\u001b[39;00m\u001b[38;5;124m\"\u001b[39m, timestr)\n\u001b[1;32m    645\u001b[0m \u001b[38;5;28;01mif\u001b[39;00m \u001b[38;5;28mlen\u001b[39m(res) \u001b[38;5;241m==\u001b[39m \u001b[38;5;241m0\u001b[39m:\n\u001b[1;32m    646\u001b[0m     \u001b[38;5;28;01mraise\u001b[39;00m ParserError(\u001b[38;5;124m\"\u001b[39m\u001b[38;5;124mString does not contain a date: \u001b[39m\u001b[38;5;132;01m%s\u001b[39;00m\u001b[38;5;124m\"\u001b[39m, timestr)\n",
      "\u001b[0;31mParserError\u001b[0m: Unknown string format: 2012-01-1917:21:00 -0400"
     ]
    }
   ],
   "source": [
    "from dateutil.parser import parse\n",
    "from dateutil import tz\n",
    "parse(\"2012-01-1917:21:00 -0400\")"
   ]
  },
  {
   "cell_type": "code",
   "execution_count": 3,
   "id": "e7264369",
   "metadata": {},
   "outputs": [],
   "source": [
    "from datetime import datetime\n",
    "from dateutil import tz\n",
    "\n",
    "def get_assignment_data(browser):\n",
    "    assignment_link = browser.find_element(By.CSS_SELECTOR, \n",
    "                                        \"input[name^='assignment-invitation-link']\")\\\n",
    "                           .get_attribute(\"value\")\n",
    "    deadline_dates = browser.find_elements(By.CSS_SELECTOR, \n",
    "                                        \"time\")\n",
    "    deadline = None\n",
    "    for deadline_date in deadline_dates:\n",
    "        deadline_parent = deadline_date.find_element(By.XPATH, '..')\n",
    "        if deadline_parent.text.lower().find(\"due\")>=0:\n",
    "            str_deadline = deadline_date.get_attribute(\"datetime\")\n",
    "            deadline = datetime.strptime(str_deadline, \"%Y-%m-%dT%H:%M:%Sz\")\n",
    "    return {\"invitation_url\":assignment_link,\n",
    "            \"deadline\":deadline\n",
    "             }\n",
    "\n",
    "   "
   ]
  },
  {
   "cell_type": "code",
   "execution_count": 6,
   "id": "997eed46",
   "metadata": {},
   "outputs": [],
   "source": [
    "from selenium.webdriver.common.by import By\n",
    "from selenium_utils.utils import *\n",
    "\n",
    "def get_assignments_links(browser):\n",
    "    new_assignment_el = browser.find_element(By.CSS_SELECTOR, \"a[href$='/new-assignment']\")\n",
    "    \n",
    "    href_new_assignment = new_assignment_el.get_attribute('href')\n",
    "    classroom_link = \"/\".join(href_new_assignment.split(\"/\")[:-1])\n",
    "    classroom_path = \"/\"+\"/\".join(classroom_link[9:].split(\"/\")[1:])\n",
    "\n",
    "    links_per_class = {}\n",
    "    for a_classroom_el in browser.find_elements(By.CSS_SELECTOR, f\"a[href^='{classroom_path}/assignments/']\"):\n",
    "        link = a_classroom_el.get_attribute('href')\n",
    "        \n",
    "        if not link.endswith(\"settings\") and link != classroom_link:\n",
    "            class_name = a_classroom_el.text\n",
    "\n",
    "            links_per_class[class_name] = link\n",
    "\n",
    "    return links_per_class\n",
    "\n",
    "def get_assignments_from_classroom(browser, classroom_url):\n",
    "    \n",
    "    open_new_page(classroom_url, browser)\n",
    "    \n",
    "    links_per_class = get_assignments_links(browser)\n",
    "    for assignment_name, assignment_link in links_per_class.items():\n",
    "        print(f\"{assignment_name}: {assignment_link}\")\n",
    "        \n",
    "        open_new_page(assignment_link, browser)\n",
    "        topic_acronym, name_points = assignment_name.split(\"]\")\n",
    "        \n",
    "        name, total_points = name_points.split(\"(\")\n",
    "        total_points = total_points.replace(\"p)\",\"\")\n",
    "        name = name.strip()\n",
    "        \n",
    "        topic, acronym = topic_acronym[1:].split(\"-\")\n",
    "\n",
    "        assignment_data = get_assignment_data(browser)\n",
    "        \n",
    "        assignment_data[\"link\"] = assignment_link\n",
    "        assignment_data[\"topic\"] = topic\n",
    "        assignment_data[\"acronym\"] = acronym\n",
    "        assignment_data[\"name\"] = name\n",
    "        assignment_data[\"total_grade\"] = total_points\n",
    "        \n",
    "        yield assignment_data\n",
    "        "
   ]
  },
  {
   "cell_type": "code",
   "execution_count": 31,
   "id": "c5050d1d",
   "metadata": {},
   "outputs": [
    {
     "data": {
      "text/plain": [
       "'tst'"
      ]
     },
     "execution_count": 31,
     "metadata": {},
     "output_type": "execute_result"
    }
   ],
   "source": [
    "assignment_name = \"[2B-tst] Tst (2p)\"\n",
    "\n",
    "topic_acronym, name_points = assignment_name.split(\"]\")\n",
    "\n",
    "name, total_points = name_points.split(\"(\")\n",
    "total_points = total_points.replace(\"p)\",\"\")\n",
    "name = name.strip()\n",
    "\n",
    "topic, acronym = topic_acronym[1:].split(\"-\")\n",
    "\n",
    "acronym"
   ]
  },
  {
   "cell_type": "markdown",
   "id": "00f141b5",
   "metadata": {},
   "source": [
    "## obtem os dados da sala"
   ]
  },
  {
   "cell_type": "markdown",
   "id": "1bb473d1",
   "metadata": {},
   "source": [
    "## Obtem as tarefas do aluno na sala especifica"
   ]
  },
  {
   "cell_type": "code",
   "execution_count": 82,
   "id": "8c8d0a51",
   "metadata": {},
   "outputs": [
    {
     "name": "stdout",
     "output_type": "stream",
     "text": [
      "[{'name': 'Euclides Cunha', 'id': '201722040335', 'repo_link': 'https://classroom.github.com/publish_hydro_assignment_page_click_event?assignment_id=535359&icon_id=6&repo_id=13285108', 'feedback_link': 'https://classroom.github.com/publish_hydro_assignment_page_click_event?assignment_id=535359&icon_id=3&repo_id=13285108', 'auto_grade': '3/6'}, {'name': 'Tulio', 'id': '20183021106', 'repo_link': 'https://classroom.github.com/publish_hydro_assignment_page_click_event?assignment_id=535359&icon_id=6&repo_id=13285392', 'feedback_link': 'https://classroom.github.com/publish_hydro_assignment_page_click_event?assignment_id=535359&icon_id=3&repo_id=13285392', 'auto_grade': '3/6'}]\n"
     ]
    }
   ],
   "source": [
    "def get_student_from_assignment(browser)\n",
    "    students_from_assignment = []\n",
    "    for student_assignment in browser.find_elements(By.CSS_SELECTOR, \n",
    "                                        \".assignment-repo-list-item\"):\n",
    "        student_name_id = student_assignment.find_element(By.CSS_SELECTOR, \n",
    "                                                        \"span.h5\")\\\n",
    "                                        .text\n",
    "        student_name, student_id = student_name_id.split(\"-\")\n",
    "        student_name = student_name.strip()\n",
    "        student_id = student_id.strip()\n",
    "\n",
    "        student_repo = student_assignment.find_element(By.CSS_SELECTOR, \n",
    "                                                        \"a[id^='view-repository-tooltip']\")\\\n",
    "                                        .get_attribute(\"href\")\n",
    "        try:\n",
    "            student_repo_feedback = student_assignment.find_element(By.CSS_SELECTOR, \n",
    "                                                        \"a[id^='review-feedback-tooltip']\")\\\n",
    "                                                    .get_attribute(\"href\")\n",
    "        except NoSuchElementException:\n",
    "            student_repo_feedback = None\n",
    "        try:\n",
    "            student_grades  = student_assignment.find_element(By.CSS_SELECTOR, \n",
    "                                                        \"span.Counter\")\\\n",
    "                                                    .get_attribute(\"title\")\n",
    "        except NoSuchElementException:\n",
    "            student_grades = None\n",
    "\n",
    "        students_from_assignment.append({\"name\":student_name,\n",
    "         \"id\":student_id,\n",
    "          \"repo_link\":student_repo,\n",
    "        \"feedback_link\":student_repo_feedback,\n",
    "         \"auto_grade\":student_grades})\n",
    "\n",
    "    return students_from_assignment\n",
    "    "
   ]
  },
  {
   "cell_type": "markdown",
   "id": "ac447781",
   "metadata": {},
   "source": [
    "## Escreve o pull request"
   ]
  },
  {
   "cell_type": "code",
   "execution_count": 104,
   "id": "8f560850",
   "metadata": {
    "scrolled": true
   },
   "outputs": [],
   "source": [
    "from decimal import Decimal\n",
    "\n",
    "def write_pull_request_eval(browser, student, total_grade):\n",
    "    comment_text = browser.find_element(By.ID, \n",
    "                                        \"new_comment_field\")\n",
    "    str_value_comment = comment_text.get_attribute(\"value\")\n",
    "    if len(str_value_comment)==0:\n",
    "        str_avaliacao = \"## Avaliação Geral\\n\"\n",
    "        if student[\"auto_grade\"]:\n",
    "            value_given, total = student['auto_grade'].split(\"/\")\n",
    "            perc_value = Decimal(value_given)/Decimal(total)\n",
    "            final_grade = total_grade*perc_value\n",
    "            str_avaliacao += f\"Notas exercícios (automático): {final_grade}\\n\"\n",
    "        str_avaliacao += \"Nota final: \"+str(final_grade)\n",
    "        comment_text.send_keys(str_avaliacao)"
   ]
  },
  {
   "cell_type": "markdown",
   "id": "e3361b9e",
   "metadata": {},
   "source": [
    "## le nota final do aluno"
   ]
  },
  {
   "cell_type": "markdown",
   "id": "4560e9a0",
   "metadata": {},
   "source": [
    "## abre: pull request, changes e o githubpages de um aluno"
   ]
  },
  {
   "cell_type": "code",
   "execution_count": 4,
   "id": "4a3fbd14",
   "metadata": {},
   "outputs": [],
   "source": [
    "## obtem urls reais do repositorio\n",
    "def browse_student_assignment(browser, change_tab=None, github_pages_tab=None): \n",
    "    feedback_url = chrome.current_url\n",
    "    repo_url = \"/\".join(feedback_url.split(\"/\")[:-2])\n",
    "    repo_name = repo_url.split(\"/\")[-1]\n",
    "    repo_user = repo_url.split(\"/\")[-2]\n",
    "    \n",
    "    github_page = f\"https://{repo_user}.github.io/{repo_name}\"\n",
    "\n",
    "    feedback_tab = chrome.current_window_handle\n",
    "\n",
    "    change_tab, github_pages_tab = None, None\n",
    "\n",
    "    if not change_tab:\n",
    "        chrome.switch_to.new_window('tab')\n",
    "        change_tab = chrome.current_window_handle\n",
    "    else:\n",
    "        chrome.switch_to.window(change_tab)\n",
    "    chrome.get(feedback_url+\"/files\")\n",
    "\n",
    "    if not github_pages_tab:\n",
    "        chrome.switch_to.new_window('tab')\n",
    "        github_pages_tab = chrome.current_window_handle\n",
    "    else:\n",
    "        chrome.switch_to.window(github_pages_tab)\n",
    "    chrome.get(github_page)\n",
    "    \n",
    "    chrome.switch_to.window(feedback_tab)\n",
    "    \n",
    "    return feedback_tab, change_tab, github_pages_tab\n",
    "\n"
   ]
  },
  {
   "cell_type": "code",
   "execution_count": 5,
   "id": "4d35330c",
   "metadata": {},
   "outputs": [
    {
     "data": {
      "text/plain": [
       "'https://github.com/hasan-teaching/js0-daniel-hasan/pull/1'"
      ]
     },
     "execution_count": 5,
     "metadata": {},
     "output_type": "execute_result"
    }
   ],
   "source": [
    "feedback_url"
   ]
  },
  {
   "cell_type": "code",
   "execution_count": 12,
   "id": "9ffe3a4f",
   "metadata": {},
   "outputs": [],
   "source": [
    "from selenium.webdriver.common.keys import Keys\n",
    "github_page = f\"https://{repo_user}.github.io/{repo_name}\"\n",
    "\n",
    "feedback_tab = chrome.current_window_handle\n",
    "\n",
    "change_tab, github_pages_tab = None, None\n",
    "\n",
    "if not change_tab:\n",
    "    chrome.switch_to.new_window('tab')\n",
    "    change_tab = chrome.current_window_handle\n",
    "else:\n",
    "    chrome.switch_to.window(change_tab)\n",
    "chrome.get(feedback_url+\"/files\")\n",
    "\n",
    "if not github_pages_tab:\n",
    "    chrome.switch_to.new_window('tab')\n",
    "    github_pages_tab = chrome.current_window_handle\n",
    "else:\n",
    "    chrome.switch_to.window(github_pages_tab)\n",
    "chrome.get(github_page)\n",
    "\n",
    "\n"
   ]
  },
  {
   "cell_type": "code",
   "execution_count": 11,
   "id": "8fe5012e",
   "metadata": {},
   "outputs": [],
   "source": [
    "chrome.switch_to.window(feedback_tab)"
   ]
  },
  {
   "cell_type": "code",
   "execution_count": 14,
   "id": "07933b1e",
   "metadata": {},
   "outputs": [],
   "source": [
    "chrome.switch_to.window(github_pages_tab)"
   ]
  },
  {
   "cell_type": "markdown",
   "id": "b5f7fdd8",
   "metadata": {},
   "source": [
    "## Varre classroom e grava disciplinas"
   ]
  },
  {
   "cell_type": "code",
   "execution_count": 3,
   "id": "0ce1dc26",
   "metadata": {},
   "outputs": [],
   "source": [
    "import sys\n",
    "def restart_django():\n",
    "    import os\n",
    "    import sys\n",
    "    import django\n",
    "    #define a raiz do projeto par aser possivel importar os modulos\n",
    "    sys.path.append(\"../src\")\n",
    "\n",
    "    #configura o ambiente\n",
    "    os.environ.setdefault(\"DJANGO_SETTINGS_MODULE\", \"github_classroom.settings\")\n",
    "    os.environ[\"DJANGO_ALLOW_ASYNC_UNSAFE\"] = \"true\"\n",
    "    django.setup()\n",
    "restart_django()"
   ]
  },
  {
   "cell_type": "code",
   "execution_count": 4,
   "id": "0607fb4b",
   "metadata": {},
   "outputs": [],
   "source": [
    "chrome = abre_chrome_github()"
   ]
  },
  {
   "cell_type": "code",
   "execution_count": null,
   "id": "bcb5c15d",
   "metadata": {},
   "outputs": [],
   "source": [
    "    \"invitation_url\":assignment_link,\n",
    "            \"deadline\":deadline    \n",
    "    assignment_data[\"topic\"] = topic\n",
    "        assignment_data[\"acronym\"] = acronym\n",
    "        assignment_data[\"name\"] = name\n",
    "        assignment_data[\"total_grade\"] = total_points"
   ]
  },
  {
   "cell_type": "code",
   "execution_count": 3,
   "id": "afacb0d4",
   "metadata": {},
   "outputs": [
    {
     "ename": "NameError",
     "evalue": "name 'chrome' is not defined",
     "output_type": "error",
     "traceback": [
      "\u001b[0;31m---------------------------------------------------------------------------\u001b[0m",
      "\u001b[0;31mNameError\u001b[0m                                 Traceback (most recent call last)",
      "Cell \u001b[0;32mIn[3], line 51\u001b[0m\n\u001b[1;32m     48\u001b[0m                 obj_assign\u001b[38;5;241m.\u001b[39mtotal_grade \u001b[38;5;241m=\u001b[39massignment_data[\u001b[38;5;124m\"\u001b[39m\u001b[38;5;124mtotal_grade\u001b[39m\u001b[38;5;124m\"\u001b[39m]\n\u001b[1;32m     49\u001b[0m                 obj_assign\u001b[38;5;241m.\u001b[39msave()\n\u001b[0;32m---> 51\u001b[0m atualiza_tarefas(\u001b[43mchrome\u001b[49m)\n",
      "\u001b[0;31mNameError\u001b[0m: name 'chrome' is not defined"
     ]
    }
   ],
   "source": [
    "from selenium_utils.utils import *\n",
    "from classroom.models import *\n",
    "from django.utils.timezone import make_aware\n",
    "\n",
    "def atualiza_tarefas(browser):\n",
    "    open_new_page(\"https://classroom.github.com/classrooms\", browser)\n",
    "    arr_links = []\n",
    "    for class_link_el in browser.find_elements(By.CSS_SELECTOR, \"#js-search-results a.d-block[href^='/classrooms/']\"):\n",
    "        class_link = class_link_el.get_attribute(\"href\")\n",
    "        class_name = class_link_el.find_element(By.CSS_SELECTOR, \"h2\").text\n",
    "        arr_links.append((class_name, class_link))\n",
    "        \n",
    "    for class_complete_name, class_link in arr_links:\n",
    "        print(class_complete_name, class_link)\n",
    "        class_code, class_name = class_complete_name.split(\"]\")\n",
    "        \n",
    "        class_code = class_code[1:]\n",
    "        class_name = class_name.strip()\n",
    "        \n",
    "        obj_discipline, created = Discipline.objects.get_or_create(url = class_link, \n",
    "                                 defaults={\"name\":class_name,\n",
    "                                          \"code\":class_code})\n",
    "        if not created:\n",
    "            obj_discipline.name = class_name\n",
    "            obj_discipline.code = class_code\n",
    "            obj_discipline.save()\n",
    "        \n",
    "        \n",
    "        for assignment_data in get_assignments_from_classroom(browser, class_link):\n",
    "            print(\"-----------------\")\n",
    "            obj_assign_topic,_ = Topic.objects.get_or_create(acronym = assignment_data[\"topic\"],\n",
    "                                                        discipline_fk = obj_discipline)\n",
    "            \n",
    "            obj_assign, created = Assignment.objects.get_or_create(invitation_url = assignment_data[\"invitation_url\"],\n",
    "                                                            defaults={\"topic_fk\":obj_assign_topic,\n",
    "                                                                      \"discipline_fk\":obj_discipline,\n",
    "                                                                       \"acronym\":assignment_data[\"acronym\"],\n",
    "                                                                      \"name\":assignment_data[\"name\"],\n",
    "                                                                       \"assignment_url\":assignment_data[\"link\"],\n",
    "                                                                      \"deadline\":make_aware(assignment_data[\"deadline\"]),\n",
    "                                                                       \"total_grade\":assignment_data[\"total_grade\"]})\n",
    "            if not created:\n",
    "                obj_assign.topic_fk = obj_assign_topic\n",
    "                obj_assign.acronym = assignment_data[\"acronym\"]\n",
    "                obj_assign.name =  assignment_data[\"name\"]\n",
    "                obj_assign.assignment_url =  assignment_data[\"link\"]\n",
    "                obj_assign.deadline =  make_aware(assignment_data[\"deadline\"])\n",
    "                obj_assign.total_grade =assignment_data[\"total_grade\"]\n",
    "                obj_assign.save()\n",
    "\n",
    "atualiza_tarefas(chrome)"
   ]
  },
  {
   "cell_type": "code",
   "execution_count": 7,
   "id": "552fa3bf",
   "metadata": {},
   "outputs": [
    {
     "data": {
      "text/plain": [
       "<selenium.webdriver.remote.webelement.WebElement (session=\"fb4d03030679250ea5a7a51182936fa2\", element=\"678F972E78A295FEB17DE81921E3AD1D_element_2157\")>"
      ]
     },
     "execution_count": 7,
     "metadata": {},
     "output_type": "execute_result"
    }
   ],
   "source": [
    "from selenium.webdriver.common.by import By\n",
    "\n",
    "chrome.find_element(By.CSS_SELECTOR, \"#js-search-results a[href^='/classrooms/']\")"
   ]
  },
  {
   "cell_type": "markdown",
   "id": "991780bf",
   "metadata": {},
   "source": [
    "## SIGAA - Turmas"
   ]
  },
  {
   "cell_type": "code",
   "execution_count": 5,
   "id": "c3a5965d",
   "metadata": {},
   "outputs": [],
   "source": [
    "def open_discipline_num(obj_discipline, num_discipline):\n",
    "    discipline_counter = 0\n",
    "    for discipline_link in chrome.find_elements(By.CSS_SELECTOR, \"#turmas-portal td.descricao a\"):\n",
    "        if discipline_link.text.startswith(obj_discipline.code):\n",
    "            if num_discipline == discipline_counter:\n",
    "                discipline_link.click()\n",
    "                return True\n",
    "            \n",
    "            discipline_counter += 1\n",
    "    return False\n",
    "\n",
    "\n",
    "\n"
   ]
  },
  {
   "cell_type": "code",
   "execution_count": 16,
   "id": "1c162a49",
   "metadata": {},
   "outputs": [
    {
     "ename": "IndentationError",
     "evalue": "expected an indented block after function definition on line 2 (40680361.py, line 3)",
     "output_type": "error",
     "traceback": [
      "\u001b[0;36m  Cell \u001b[0;32mIn[16], line 3\u001b[0;36m\u001b[0m\n\u001b[0;31m    def open_task_menu(browser):\u001b[0m\n\u001b[0m    ^\u001b[0m\n\u001b[0;31mIndentationError\u001b[0m\u001b[0;31m:\u001b[0m expected an indented block after function definition on line 2\n"
     ]
    }
   ],
   "source": [
    "from selenium.webdriver.common.by import By\n",
    "def open_sigaa_menu(browser, menu_class, submenu_text):\n",
    "    btn_atividades = browser.find_element(By.CSS_SELECTOR, \".itemMenuHeaderAtividades\")\n",
    "    try:\n",
    "        btn_atividades.click()\n",
    "    except:\n",
    "        pass \n",
    "\n",
    "    for btn_item_menu in browser.find_elements(By.CSS_SELECTOR, \".itemMenu\"):\n",
    "        menu_texto = btn_item_menu.text.strip().lower()\n",
    "        if menu_texto == \"tarefas\":\n",
    "            item_link = btn_item_menu.find_element(By.XPATH, '..')\n",
    "            item_link.click()\n",
    "            break\n",
    "    \n",
    "def open_task_menu(browser):\n",
    "    open_sigaa_menu(browser, \".itemMenuHeaderAtividades\", \".itemMenu\")\n",
    "    "
   ]
  },
  {
   "cell_type": "code",
   "execution_count": null,
   "id": "9537c1d5",
   "metadata": {},
   "outputs": [],
   "source": [
    "def get_deadline(task_line)"
   ]
  },
  {
   "cell_type": "code",
   "execution_count": 8,
   "id": "60b22ebd",
   "metadata": {},
   "outputs": [],
   "source": [
    "import re \n",
    "def get_deadline(str_text):\n",
    "    pattern_deadline = \"a ([0-9]{2}/[0-9]{2}/[0-9]{4}) às ([0-9]{2}h[0-9]{2})\"\n",
    "    match = re.search(pattern_deadline,str_text)\n",
    "    str_date = match.group(1)\n",
    "    str_hour = match.group(2)\n",
    "    return datetime.strptime(str_date+\" \"+str_hour, \"%d/%m/%Y %Hh%M\")\n",
    "#get_deadline(\"de 04/08/2023 às 00h00 a 13/08/2023 às 23h59\")"
   ]
  },
  {
   "cell_type": "code",
   "execution_count": 9,
   "id": "f5a79c4c",
   "metadata": {},
   "outputs": [],
   "source": [
    "def open_update_or_create_task_by_prefix(browser, prefix, current_deadline):\n",
    "    for task_line in browser.find_elements(By.CSS_SELECTOR, \".listing tr\"):\n",
    "        tarefa_sigaa_name = task_line.text.strip().upper()\n",
    "        if tarefa_sigaa_name.startswith(prefix):\n",
    "            deadline_sigaa = get_deadline(task_line.text)\n",
    "\n",
    "            print(f\"achou! {prefix} {deadline_sigaa} {current_deadline}\")\n",
    "            \n",
    "            if current_deadline != deadline_sigaa:\n",
    "                print(\"Dead diferente, alterar\")\n",
    "                btn_alterar = task_line.find_element(By.CSS_SELECTOR, \"a[title^='Alterar']\")\n",
    "                btn_alterar.click()\n",
    "                return True\n",
    "            else:\n",
    "                print(\"ignorar\")\n",
    "                return False\n",
    "    print(f\"Criando novo... {prefix}\")\n",
    "    btn_nova_tarefa = browser.find_element(By.CSS_SELECTOR, \".menu-interno li[class*='novaTarefa']\")\n",
    "    btn_nova_tarefa.click()\n",
    "    return True\n",
    "#from datetime import datetime\n",
    "#current_deadline = datetime(2023, 8, 23, 23, 59, 0)\n",
    "#open_update_or_create_task_by_prefix(chrome, \"[TST]\", current_deadline)"
   ]
  },
  {
   "cell_type": "code",
   "execution_count": 94,
   "id": "fc811934",
   "metadata": {},
   "outputs": [
    {
     "data": {
      "text/plain": [
       "[<selenium.webdriver.remote.webelement.WebElement (session=\"d79d2b507988fb96ef711086e3c92595\", element=\"C6668DE4B988B0F92E080C809FD88D34_element_3915\")>]"
      ]
     },
     "execution_count": 94,
     "metadata": {},
     "output_type": "execute_result"
    }
   ],
   "source": [
    "btn_nova_tarefa = chrome.find_element(By.CSS_SELECTOR, \".menu-interno li[class*='novaTarefa']\")"
   ]
  },
  {
   "cell_type": "code",
   "execution_count": null,
   "id": "71a96056",
   "metadata": {},
   "outputs": [],
   "source": [
    "topic_fk = models.ForeignKey(Topic, on_delete=PROTECT)\n",
    "acronym = models.CharField(max_length=4)\n",
    "name = models.CharField(max_length=50)\n",
    "assignment_url = models.CharField(max_length=255, unique=True)\n",
    "invitation_url = models.CharField(max_length=255, unique=True)\n",
    "deadline = models.DateField()\n",
    "\n",
    "total_auto_grade = models.DecimalField(max_digits=3, decimal_places=2, null=True, blank=True)\n",
    "total_grade = models.DecimalField(max_digits=3, decimal_places=2, null=True, blank=True)"
   ]
  },
  {
   "cell_type": "code",
   "execution_count": 10,
   "id": "f6093046",
   "metadata": {},
   "outputs": [],
   "source": [
    "from selenium.webdriver.support.ui import Select\n",
    "import re\n",
    "def iframe_update(browser, iframe, texto):\n",
    "    browser.switch_to.frame(iframe)\n",
    "    browser.execute_script(f\"document.querySelector('body').innerHTML = '{texto}'\")\n",
    "    browser.switch_to.default_content()\n",
    "    \n",
    "def update_or_create_task(browser, assignment):\n",
    "    title_el = browser.find_element(By.ID, \"formAva:titulo\")\n",
    "    iframe_text_el =  browser.find_element(By.ID, \"formAva:texto_ifr\")\n",
    "    task_type_select = Select(browser.find_element(By.ID, \"formAva:tipo\"))\n",
    "    topic_el = browser.find_element(By.ID, \"formAva:aula\")\n",
    "    topic_select = Select(browser.find_element(By.ID, \"formAva:aula\"))\n",
    "    \n",
    "    deadline_date_candidates = browser.find_elements(By.CSS_SELECTOR, \".formAva input[title*='Data Final']\")\n",
    "    deadline_date_el = None\n",
    "    for dead_date_candidate in deadline_date_candidates:\n",
    "        if dead_date_candidate.is_displayed():\n",
    "            deadline_date_el = dead_date_candidate\n",
    "            break\n",
    "    deadline_hour_select = Select(browser.find_element(By.ID, \"formAva:horaFim\"))\n",
    "    deadline_min_select = Select(browser.find_element(By.ID, \"formAva:minutoFim\"))\n",
    "    \n",
    "    has_grade_select = Select(browser.find_element(By.ID, \"formAva:possuiNota\"))\n",
    "    acronym_el = browser.find_element(By.ID, \"formAva:abreviacao\")\n",
    "    unid_el =  browser.find_element(By.ID, \"formAva:unidade\")\n",
    "    unid_select =  Select(unid_el)\n",
    "    max_grade_el =  browser.find_element(By.ID, \"formAva:notaMaxima\")\n",
    "    \n",
    "    #valores padrao\n",
    "    has_grade_select.select_by_value(\"true\")\n",
    "    task_type_select.select_by_value(\"3\")\n",
    "    \n",
    "    \n",
    "    #unit: se for \"NB\" substituir por N by value caso contrario, pimeiro\n",
    "    options_select = unid_el.find_elements(By.CSS_SELECTOR, \"option\")\n",
    "    if len(options_select)>2 and re.match(\"[1-4][bB].*\", assignment.topic_fk.acronym):\n",
    "        num_bimestre = assignment.topic_fk.acronym[0]\n",
    "        unid_select.select_by_value(num_bimestre)\n",
    "    else:\n",
    "        unid_select.select_by_index(1)\n",
    "    \n",
    "    #inputs \n",
    "    title_el.clear()\n",
    "    title_el.send_keys(f\"[{assignment.acronym.upper()}] {assignment.name}\")\n",
    "    assignment_text = f'<p>Entrega acessivel pelo Github Classroom <a href=\"{assignment.invitation_url}\">por meio deste link</a>.<p>'\n",
    "    iframe_update(browser, iframe_text_el, assignment_text)\n",
    "    \n",
    "    max_grade_el.clear()\n",
    "    max_grade_el.send_keys(str(assignment.total_grade))\n",
    "    \n",
    "    acronym_el.clear()\n",
    "    acronym_el.send_keys(assignment.acronym.upper())\n",
    "    \n",
    "    #topic\n",
    "    topic_value = None\n",
    "    for topic_option in topic_el.find_elements(By.CSS_SELECTOR, \"option\")[1:]:\n",
    "        topic_complete_name = topic_option.text\n",
    "        topic_name = topic_complete_name.split(\")\")[1].strip()\n",
    "        if topic_name.startswith(f\"[{assignment.topic_fk.acronym}]\"):\n",
    "            topic_value = topic_option.get_attribute(\"value\")\n",
    "            break\n",
    "    if topic_value:\n",
    "        topic_select.select_by_value(topic_value)\n",
    "    else:\n",
    "        topic_select.select_by_index(1)\n",
    "        \n",
    "    #deadline\n",
    "    deadline_date_el.clear()\n",
    "    deadline_date_el.send_keys(assignment.deadline.strftime(\"%d/%m/%Y\"))\n",
    "    deadline_hour_select.select_by_value(str(assignment.deadline.hour))\n",
    "    deadline_min_select.select_by_value(str(assignment.deadline.minute))\n",
    "    \n",
    "    #botao de atualizar/inserir\n",
    "    browser.find_element(By.CSS_SELECTOR, \".form-actions input[value*='Atualizar'],.botoes input[value*='Cadastrar']\")\n",
    "    #browser.click()\n",
    "\n"
   ]
  },
  {
   "cell_type": "code",
   "execution_count": 11,
   "id": "a8e5b845",
   "metadata": {},
   "outputs": [],
   "source": [
    "def login_sigaa(browser):\n",
    "    \n",
    "    open_new_page(\"https://sig.cefetmg.br/sigaa/verTelaLogin.do\", browser)\n",
    "    wait_for(ApareceuElemento(browser, \".usuario\"), infinite_loop=True)\n",
    "    try:\n",
    "        browser.find_element(By.CSS_SELECTOR, \".tabela_selecao_vinculo\")\n",
    "        open_new_page(\"https://sig.cefetmg.br/sigaa/escolhaVinculo.do?dispatch=escolher&vinculo=1\", browser)\n",
    "    except:\n",
    "        pass\n",
    "        \n",
    "def update_assignments_data(browser, obj_discipline):\n",
    "    #abre o menu e atualiza os dados (se necessario)\n",
    "    assignments = Assignment.objects.filter(discipline_fk = obj_discipline)\n",
    "    for assignment in assignments:\n",
    "        open_task_menu(browser)\n",
    "        to_update = open_update_or_create_task_by_prefix(browser, \n",
    "                                                        f\"[{assignment.acronym.upper()}]\", \n",
    "                                                         assignment.deadline)\n",
    "        if to_update:\n",
    "            update_or_create_task(browser, assignment)"
   ]
  },
  {
   "cell_type": "code",
   "execution_count": 12,
   "id": "dde5f2be",
   "metadata": {},
   "outputs": [],
   "source": [
    "from django.utils.timezone import make_aware\n",
    "from datetime import datetime\n",
    "def update_assignments(browser, obj_discipline, callable_update):\n",
    "    \n",
    "    #se está na tela de \n",
    "    open_new_page(\"https://sig.cefetmg.br/sigaa/portais/docente/docente.jsf\", browser)\n",
    "    try:\n",
    "        chrome.current_url\n",
    "    except:\n",
    "        login_sigaa(browser)\n",
    "    \n",
    "    num_discipline = 0\n",
    "    while open_discipline_num(obj_discipline, num_discipline):\n",
    "    \n",
    "        callable_update(browser, obj_discipline)\n",
    "\n",
    "        btn_portal = browser.find_element(By.CSS_SELECTOR, \".botaoPortal\")\n",
    "        btn_portal.click()\n",
    "        num_discipline += 1\n"
   ]
  },
  {
   "cell_type": "markdown",
   "id": "0c6dc63b",
   "metadata": {},
   "source": [
    "# Main: Atualiza tarefas"
   ]
  },
  {
   "cell_type": "code",
   "execution_count": 15,
   "id": "99ce0ebc",
   "metadata": {},
   "outputs": [
    {
     "name": "stdout",
     "output_type": "stream",
     "text": [
      "Criando novo... [CARN]\n",
      "achou! [A] 2023-08-20 23:59:00 2023-12-27 17:45:00+00:00\n",
      "Dead diferente, alterar\n",
      "achou! [TST] 2023-08-23 23:59:00 2023-12-29 13:05:00+00:00\n",
      "Dead diferente, alterar\n"
     ]
    }
   ],
   "source": [
    "from classroom.models import *\n",
    "from selenium_utils.utils import *\n",
    "\n",
    "\n",
    "obj_discipline = Discipline.objects.get(code=\"DECOM.199\")\n",
    "\n",
    "update_assignments(chrome, obj_discipline)"
   ]
  },
  {
   "cell_type": "code",
   "execution_count": 17,
   "id": "424fec38",
   "metadata": {},
   "outputs": [
    {
     "data": {
      "text/plain": [
       "'ALAL'"
      ]
     },
     "execution_count": 17,
     "metadata": {},
     "output_type": "execute_result"
    }
   ],
   "source": [
    "\"alal\".upper()"
   ]
  },
  {
   "cell_type": "code",
   "execution_count": 70,
   "id": "d467c977",
   "metadata": {},
   "outputs": [
    {
     "data": {
      "text/plain": [
       "<selenium.webdriver.remote.webelement.WebElement (session=\"b6833fdf2bdaea4a971af7043c9fb4fe\", element=\"4883EFA6A31B716F41430A16780A4038_element_2447\")>"
      ]
     },
     "execution_count": 70,
     "metadata": {},
     "output_type": "execute_result"
    }
   ],
   "source": [
    ".chrome.find_element(By.CSS_SELECTOR, \".form-actions input[value*='Atualizar'],.botoes input[value*='Cadastrar']\")"
   ]
  },
  {
   "cell_type": "code",
   "execution_count": 74,
   "id": "24c8e4fc",
   "metadata": {},
   "outputs": [],
   "source": [
    "from classroom.models import *\n",
    "obj_assignment = Assignment.objects.all()[0]\n",
    "obj_assignment.name\n",
    "update_or_create_task(chrome, obj_assignment)"
   ]
  },
  {
   "cell_type": "code",
   "execution_count": 96,
   "id": "1eea0624",
   "metadata": {},
   "outputs": [
    {
     "data": {
      "text/plain": [
       "<QuerySet [<Assignment: Assignment object (1)>, <Assignment: Assignment object (3)>, <Assignment: Assignment object (4)>]>"
      ]
     },
     "execution_count": 96,
     "metadata": {},
     "output_type": "execute_result"
    }
   ],
   "source": [
    "from datetime import datetime\n",
    "from dateutil import tz\n",
    "\n",
    "obj_discipline = Discipline.objects.get(code=\"DECOM.199\")\n",
    "time_now = datetime.now()\n"
   ]
  },
  {
   "cell_type": "code",
   "execution_count": 85,
   "id": "5e14be74",
   "metadata": {},
   "outputs": [
    {
     "data": {
      "text/plain": [
       "'2023-12-27 11:43:36.121993+00:00'"
      ]
     },
     "execution_count": 85,
     "metadata": {},
     "output_type": "execute_result"
    }
   ],
   "source": [
    "str(time_now)"
   ]
  },
  {
   "cell_type": "markdown",
   "id": "31182b57",
   "metadata": {},
   "source": [
    "## Atualiza Notas"
   ]
  },
  {
   "cell_type": "code",
   "execution_count": null,
   "id": "054ad9ad",
   "metadata": {},
   "outputs": [],
   "source": [
    "let tabela = document.querySelector(\".listagem\");\n",
    "let linhas = tabela.querySelectorAll(\"tr\");\n",
    "\n",
    "for(let i = 2 ; i<linhas.length; i++){\n",
    "\tlet cols = linhas[i].querySelectorAll(\"td\");\n",
    "\tfor(let j = 3; j<cols.length; j++){\n",
    "\t\tcols[j].innerHTML = \"<input type='text' size=2>\";\n",
    "\t}\n",
    "}"
   ]
  },
  {
   "cell_type": "code",
   "execution_count": 16,
   "id": "4a65010b",
   "metadata": {},
   "outputs": [
    {
     "name": "stdout",
     "output_type": "stream",
     "text": [
      "7.12 \n",
      "7.12\n"
     ]
    }
   ],
   "source": [
    "num = 7.123456\n",
    "\n",
    "print(\"{:.2f}\".format( num )) "
   ]
  },
  {
   "cell_type": "code",
   "execution_count": 13,
   "id": "2cdbca9b",
   "metadata": {},
   "outputs": [],
   "source": [
    "class GradesTable:\n",
    "    def __init__(self, browser):\n",
    "        self.browser = browser\n",
    "        self.col_per_assignment_acronym = {}\n",
    "        arr_ths = browser.find_elements(By.CSS_SELECTOR, '#notas-turma tr:nth-child(2) th')\n",
    "        for j, table_col_header in enumerate(arr_ths):\n",
    "            self.col_per_assignment_acronym[table_col_header.text.strip()] = j\n",
    "        \n",
    "        self.student_line_per_id = {}\n",
    "        student_lines = browser.find_elements(By.CSS_SELECTOR, '#notas-turma tr')\n",
    "        for student_line in student_lines[2:]:\n",
    "            current_student_id  = student_line.find_element(By.CSS_SELECTOR, 'td:nth-child(2)').text.strip()\n",
    "            self.student_line_per_id[current_student_id] = student_line.find_elements(By.CSS_SELECTOR, \"td\")\n",
    "            \n",
    "        \n",
    "    def set_student_grade(self, student_id, assignment_acronym, grade):\n",
    "        col_number = self.col_per_assignment_acronym[assignment_acronym]\n",
    "        student_line =  self.student_line_per_id[student_id]\n",
    "        \n",
    "        formated_num = \"{:.2f}\".format( grade )\n",
    "        if len(formated_num) == 4:\n",
    "            formated_num = \"0\"+formated_num\n",
    "        \n",
    "        input_student = student_line[col_number].find_element(By.CSS_SELECTOR , \"input\")\n",
    "        input_student.send_keys(formated_num)\n",
    "    "
   ]
  },
  {
   "cell_type": "code",
   "execution_count": 12,
   "id": "0ff29f54",
   "metadata": {
    "scrolled": true
   },
   "outputs": [],
   "source": [
    "from selenium.webdriver.common.by import By\n",
    "from selenium_utils.utils import *\n",
    "chrome = abre_chrome_github()\n"
   ]
  },
  {
   "cell_type": "code",
   "execution_count": 14,
   "id": "1d011287",
   "metadata": {},
   "outputs": [],
   "source": [
    "grades_table = GradesTable(chrome)"
   ]
  },
  {
   "cell_type": "code",
   "execution_count": 25,
   "id": "b1bfc462",
   "metadata": {},
   "outputs": [],
   "source": [
    "import decimal\n",
    "grades_table.set_student_grade(\"201722040335\", \"INFG\", decimal.Decimal(\"23.2\"))"
   ]
  },
  {
   "cell_type": "code",
   "execution_count": 16,
   "id": "41e27bcb",
   "metadata": {},
   "outputs": [
    {
     "data": {
      "text/plain": [
       "'8,00'"
      ]
     },
     "execution_count": 16,
     "metadata": {},
     "output_type": "execute_result"
    }
   ],
   "source": [
    "grades_table.student_line_per_id['201722040335'][3].text"
   ]
  },
  {
   "cell_type": "markdown",
   "id": "6f03f863",
   "metadata": {},
   "source": [
    "### Salva os grades no banco"
   ]
  },
  {
   "cell_type": "code",
   "execution_count": 1,
   "id": "9e193f90",
   "metadata": {},
   "outputs": [],
   "source": [
    "import sys\n",
    "def restart_django():\n",
    "    import os\n",
    "    import sys\n",
    "    import django\n",
    "    #define a raiz do projeto par aser possivel importar os modulos\n",
    "    sys.path.append(\"../src\")\n",
    "\n",
    "    #configura o ambiente\n",
    "    os.environ.setdefault(\"DJANGO_SETTINGS_MODULE\", \"github_classroom.settings\")\n",
    "    os.environ[\"DJANGO_ALLOW_ASYNC_UNSAFE\"] = \"true\"\n",
    "    django.setup()\n",
    "restart_django()"
   ]
  },
  {
   "cell_type": "code",
   "execution_count": 2,
   "id": "4e52426c",
   "metadata": {},
   "outputs": [
    {
     "name": "stderr",
     "output_type": "stream",
     "text": [
      "/home/profhasan/.local/lib/python3.11/site-packages/django/db/models/fields/__init__.py:1416: RuntimeWarning: DateTimeField Assignment.deadline received a naive datetime (2023-12-27 21:47:33.474392) while time zone support is active.\n",
      "  warnings.warn(\"DateTimeField %s received a naive datetime (%s)\"\n"
     ]
    }
   ],
   "source": [
    "from classroom.models import *\n",
    "from datetime import datetime \n",
    "from django.utils.timezone import make_aware\n",
    "import decimal\n",
    "arthur,_ = Student.objects.get_or_create ( class_id = \"20183021106\", name = \"ARTHUR SEVERO DE SOUZA\")\n",
    "bruno,_ = Student.objects.get_or_create ( class_id = \"201322040060\", name = \"Bruno Peixoto Martins\")\n",
    "jorge,_ = Student.objects.get_or_create ( class_id = \"20203018650\", name = \"JORGE HIROKI DE CASTRO SATO\")\n",
    "lorena,_ = Student.objects.get_or_create ( class_id = \"20183002361\", name = \"LORENA GOMES DE OLIVEIRA CABRAL\")\n",
    "willian,_ = Student.objects.get_or_create ( class_id = \"20183025929\", name = \"WILLIAN SILVA DE ALMEIDA\")\n",
    "\n",
    "discipline,_ = Discipline.objects.get_or_create(name = \"ap de maquina\",\n",
    "                          code = \"DECOM.199\",\n",
    "                         url=\"https://google.com\")\n",
    "\n",
    "topic,_ = Topic.objects.get_or_create(discipline_fk=discipline, acronym = \"KAKA\")\n",
    "\n",
    "Assignment.objects.filter(acronym=\"INFG\",discipline_fk = discipline).delete()\n",
    "infg,_ = Assignment.objects.get_or_create(discipline_fk = discipline,\n",
    "                        topic_fk = topic,\n",
    "                        acronym = \"INFG\",\n",
    "                        name = \"Infogain\",\n",
    "                        assignment_url = \"url1\",\n",
    "                        invitation_url = \"url2\",\n",
    "                        deadline = make_aware(datetime.now()),\n",
    "                        total_grade=decimal.Decimal(\"1.2\"))\n",
    "Assignment.objects.filter(acronym=\"AVA1\",discipline_fk = discipline).delete()\n",
    "ava1,_ = Assignment.objects.get_or_create(discipline_fk = discipline,\n",
    "                        topic_fk = topic,\n",
    "                        acronym = \"AVA1\",\n",
    "                        name = \"Avaliacao 1\",\n",
    "                        assignment_url = \"url2\",\n",
    "                        invitation_url = \"url3\",\n",
    "                        deadline = make_aware(datetime.now()),\n",
    "                        total_grade=decimal.Decimal(\"10\"))\n",
    "Assignment.objects.filter(acronym=\"ACOM\",discipline_fk = discipline).delete()\n",
    "acom,_ = Assignment.objects.get_or_create(discipline_fk = discipline,\n",
    "                        topic_fk = topic,\n",
    "                        acronym = \"ACOM\",\n",
    "                        name = \"Ativi compelemntar 3\",\n",
    "                        assignment_url = \"url5\",\n",
    "                        invitation_url = \"url6\",\n",
    "                        deadline = (datetime.now()),\n",
    "                        total_grade=decimal.Decimal(\"10.5\"))\n",
    "alunos = [arthur, bruno, jorge, lorena, willian]\n",
    "entregas = [infg, ava1, acom]\n",
    "\n",
    "for i, aluno in enumerate(alunos):\n",
    "    for j, entrega in enumerate(entregas): \n",
    "        Handin.objects.get_or_create(assignment_fk = entrega,\n",
    "                student_fk = aluno, \n",
    "                feedback_url = f\"xuxu{i}-{j}\",\n",
    "                auto_grade = i*10+j,\n",
    "                final_grade = i*100+j*10,\n",
    "                complementar_grade = j)\n",
    "        "
   ]
  },
  {
   "cell_type": "code",
   "execution_count": 15,
   "id": "8396a0d8",
   "metadata": {},
   "outputs": [
    {
     "name": "stdout",
     "output_type": "stream",
     "text": [
      "20183021106 INFG 0.00\n",
      "201322040060 INFG 100.00\n",
      "20203018650 INFG 200.00\n",
      "20183002361 INFG 300.00\n",
      "20183025929 INFG 400.00\n",
      "20183021106 AVA1 10.00\n",
      "201322040060 AVA1 110.00\n",
      "20203018650 AVA1 210.00\n",
      "20183002361 AVA1 310.00\n",
      "20183025929 AVA1 410.00\n",
      "20183021106 ACOM 20.00\n",
      "201322040060 ACOM 120.00\n",
      "20203018650 ACOM 220.00\n",
      "20183002361 ACOM 320.00\n",
      "20183025929 ACOM 420.00\n"
     ]
    }
   ],
   "source": [
    "def save_handins_for_discipline(browser, discipline):\n",
    "    grades_table = GradesTable(browser)\n",
    "    \n",
    "    for handin in Handin.objects.filter(assignment_fk__discipline_fk = discipline)\\\n",
    "                                .select_related(\"student_fk\",\"assignment_fk\"):\n",
    "        assignment_acronym = handin.assignment_fk.acronym\n",
    "        student_id = handin.student_fk.class_id\n",
    "        grades_table.set_student_grade(student_id, assignment_acronym, handin.final_grade)"
   ]
  },
  {
   "cell_type": "markdown",
   "id": "b4721cc6",
   "metadata": {},
   "source": [
    "## Avalia aluno"
   ]
  },
  {
   "cell_type": "code",
   "execution_count": 5,
   "id": "29dd96e7",
   "metadata": {},
   "outputs": [],
   "source": [
    "import sys\n",
    "\n",
    "#define a raiz do projeto par aser possivel importar os modulos\n",
    "sys.path.append(\"../src\")\n",
    "from classroom.scrapper.base import abre_chrome_github\n",
    "from classroom.scrapper.github_classroom.student_eval import eval_students_assignment\n",
    "total_grade = 5\n",
    "chrome = abre_chrome_github()"
   ]
  },
  {
   "cell_type": "code",
   "execution_count": 2,
   "id": "ed269217",
   "metadata": {},
   "outputs": [],
   "source": [
    "from classroom.scrapper.github_classroom.student_eval import *\n",
    "arr_students = get_students_from_assignment(chrome)"
   ]
  },
  {
   "cell_type": "code",
   "execution_count": 3,
   "id": "ab915e8c",
   "metadata": {},
   "outputs": [],
   "source": [
    "changes_tab, view_tab  = create_changes_and_view_tabs(chrome)"
   ]
  },
  {
   "cell_type": "code",
   "execution_count": 4,
   "id": "a5cf0a15",
   "metadata": {},
   "outputs": [],
   "source": [
    "student = arr_students[0]\n",
    "open_new_page(student[\"feedback_url\"], chrome)\n",
    "browse_student_assignment(chrome, changes_tab, view_tab)"
   ]
  },
  {
   "cell_type": "code",
   "execution_count": 11,
   "id": "e2a90ed6",
   "metadata": {},
   "outputs": [
    {
     "name": "stdout",
     "output_type": "stream",
     "text": [
      "Aguardando...\n"
     ]
    }
   ],
   "source": [
    "new_comment_el, edit_comment_el = prepare_eval_commentfield(chrome, \n",
    "                                                            student, \n",
    "                                                            total_grade)"
   ]
  },
  {
   "cell_type": "code",
   "execution_count": 10,
   "id": "ce775573",
   "metadata": {},
   "outputs": [
    {
     "name": "stdout",
     "output_type": "stream",
     "text": [
      "Saiu\n"
     ]
    }
   ],
   "source": [
    "try:\n",
    "    has_finished_edit(chrome, new_comment_el, \n",
    "                                edit_comment_el)\n",
    "except StaleElementReferenceException:\n",
    "            print(\"Saiu\")"
   ]
  },
  {
   "cell_type": "code",
   "execution_count": 4,
   "id": "c9b9ef37",
   "metadata": {},
   "outputs": [
    {
     "name": "stdout",
     "output_type": "stream",
     "text": [
      "Aguardando...\n",
      "Aguardando\n",
      "Aguardando\n",
      "Aguardando\n",
      "Aguardando\n",
      "Aguardando\n",
      "Aguardando...\n",
      "Aguardando\n",
      "Aguardando\n",
      "Aguardando\n",
      "Aguardando\n",
      "Aguardando\n",
      "Aguardando\n",
      "Aguardando\n",
      "Aguardando\n",
      "Voltou para o aluno 0\n",
      "Aguardando...\n",
      "Aguardando\n",
      "Aguardando\n",
      "Aguardando\n",
      "Aguardando\n",
      "Aguardando\n",
      "Aguardando\n",
      "Aguardando\n",
      "Aguardando\n",
      "Aguardando\n",
      "Aguardando\n",
      "Aguardando\n",
      "Aguardando\n",
      "Aguardando\n",
      "Aguardando\n",
      "Aguardando\n",
      "Aguardando\n",
      "Aguardando\n",
      "Aguardando\n"
     ]
    },
    {
     "ename": "NoSuchWindowException",
     "evalue": "Message: no such window: target window already closed\nfrom unknown error: web view not found\n  (Session info: chrome=120.0.6099.71)\nStacktrace:\n#0 0x56167276df83 <unknown>\n#1 0x561672426cf7 <unknown>\n#2 0x5616723fa728 <unknown>\n#3 0x5616724a769f <unknown>\n#4 0x5616724be719 <unknown>\n#5 0x56167249fe53 <unknown>\n#6 0x561672467dd4 <unknown>\n#7 0x5616724691de <unknown>\n#8 0x561672732531 <unknown>\n#9 0x561672736455 <unknown>\n#10 0x56167271ef55 <unknown>\n#11 0x5616727370ef <unknown>\n#12 0x56167270299f <unknown>\n#13 0x56167275b008 <unknown>\n#14 0x56167275b1d7 <unknown>\n#15 0x56167276d124 <unknown>\n#16 0x7fcb65553609 start_thread\n",
     "output_type": "error",
     "traceback": [
      "\u001b[0;31m---------------------------------------------------------------------------\u001b[0m",
      "\u001b[0;31mNoSuchWindowException\u001b[0m                     Traceback (most recent call last)",
      "Cell \u001b[0;32mIn[4], line 1\u001b[0m\n\u001b[0;32m----> 1\u001b[0m \u001b[43meval_students_assignment\u001b[49m\u001b[43m(\u001b[49m\u001b[43mchrome\u001b[49m\u001b[43m,\u001b[49m\u001b[43m \u001b[49m\u001b[43mtotal_grade\u001b[49m\u001b[43m)\u001b[49m\n",
      "File \u001b[0;32m~/git/gitclassroom_utils/notebooks/../src/classroom/scrapper/github_classroom/student_eval.py:167\u001b[0m, in \u001b[0;36meval_students_assignment\u001b[0;34m(browser, total_grade)\u001b[0m\n\u001b[1;32m    165\u001b[0m \u001b[38;5;28;01mexcept\u001b[39;00m StaleElementReferenceException:\n\u001b[1;32m    166\u001b[0m     \u001b[38;5;28mprint\u001b[39m(\u001b[38;5;124m\"\u001b[39m\u001b[38;5;124mSaiu\u001b[39m\u001b[38;5;124m\"\u001b[39m)\n\u001b[0;32m--> 167\u001b[0m current_url \u001b[38;5;241m=\u001b[39m \u001b[43mbrowser\u001b[49m\u001b[38;5;241;43m.\u001b[39;49m\u001b[43mcurrent_url\u001b[49m\n\u001b[1;32m    168\u001b[0m \u001b[38;5;28;01mif\u001b[39;00m current_url \u001b[38;5;241m!=\u001b[39m student_feedback_url:\n\u001b[1;32m    169\u001b[0m     pos_student \u001b[38;5;241m=\u001b[39m pos_student_per_feedback_url[current_url]\n",
      "File \u001b[0;32m~/.local/lib/python3.11/site-packages/selenium/webdriver/remote/webdriver.py:438\u001b[0m, in \u001b[0;36mWebDriver.current_url\u001b[0;34m(self)\u001b[0m\n\u001b[1;32m    429\u001b[0m \u001b[38;5;129m@property\u001b[39m\n\u001b[1;32m    430\u001b[0m \u001b[38;5;28;01mdef\u001b[39;00m \u001b[38;5;21mcurrent_url\u001b[39m(\u001b[38;5;28mself\u001b[39m) \u001b[38;5;241m-\u001b[39m\u001b[38;5;241m>\u001b[39m \u001b[38;5;28mstr\u001b[39m:\n\u001b[1;32m    431\u001b[0m \u001b[38;5;250m    \u001b[39m\u001b[38;5;124;03m\"\"\"Gets the URL of the current page.\u001b[39;00m\n\u001b[1;32m    432\u001b[0m \n\u001b[1;32m    433\u001b[0m \u001b[38;5;124;03m    :Usage:\u001b[39;00m\n\u001b[0;32m   (...)\u001b[0m\n\u001b[1;32m    436\u001b[0m \u001b[38;5;124;03m            driver.current_url\u001b[39;00m\n\u001b[1;32m    437\u001b[0m \u001b[38;5;124;03m    \"\"\"\u001b[39;00m\n\u001b[0;32m--> 438\u001b[0m     \u001b[38;5;28;01mreturn\u001b[39;00m \u001b[38;5;28;43mself\u001b[39;49m\u001b[38;5;241;43m.\u001b[39;49m\u001b[43mexecute\u001b[49m\u001b[43m(\u001b[49m\u001b[43mCommand\u001b[49m\u001b[38;5;241;43m.\u001b[39;49m\u001b[43mGET_CURRENT_URL\u001b[49m\u001b[43m)\u001b[49m[\u001b[38;5;124m\"\u001b[39m\u001b[38;5;124mvalue\u001b[39m\u001b[38;5;124m\"\u001b[39m]\n",
      "File \u001b[0;32m~/.local/lib/python3.11/site-packages/selenium/webdriver/remote/webdriver.py:348\u001b[0m, in \u001b[0;36mWebDriver.execute\u001b[0;34m(self, driver_command, params)\u001b[0m\n\u001b[1;32m    346\u001b[0m response \u001b[38;5;241m=\u001b[39m \u001b[38;5;28mself\u001b[39m\u001b[38;5;241m.\u001b[39mcommand_executor\u001b[38;5;241m.\u001b[39mexecute(driver_command, params)\n\u001b[1;32m    347\u001b[0m \u001b[38;5;28;01mif\u001b[39;00m response:\n\u001b[0;32m--> 348\u001b[0m     \u001b[38;5;28;43mself\u001b[39;49m\u001b[38;5;241;43m.\u001b[39;49m\u001b[43merror_handler\u001b[49m\u001b[38;5;241;43m.\u001b[39;49m\u001b[43mcheck_response\u001b[49m\u001b[43m(\u001b[49m\u001b[43mresponse\u001b[49m\u001b[43m)\u001b[49m\n\u001b[1;32m    349\u001b[0m     response[\u001b[38;5;124m\"\u001b[39m\u001b[38;5;124mvalue\u001b[39m\u001b[38;5;124m\"\u001b[39m] \u001b[38;5;241m=\u001b[39m \u001b[38;5;28mself\u001b[39m\u001b[38;5;241m.\u001b[39m_unwrap_value(response\u001b[38;5;241m.\u001b[39mget(\u001b[38;5;124m\"\u001b[39m\u001b[38;5;124mvalue\u001b[39m\u001b[38;5;124m\"\u001b[39m, \u001b[38;5;28;01mNone\u001b[39;00m))\n\u001b[1;32m    350\u001b[0m     \u001b[38;5;28;01mreturn\u001b[39;00m response\n",
      "File \u001b[0;32m~/.local/lib/python3.11/site-packages/selenium/webdriver/remote/errorhandler.py:229\u001b[0m, in \u001b[0;36mErrorHandler.check_response\u001b[0;34m(self, response)\u001b[0m\n\u001b[1;32m    227\u001b[0m         alert_text \u001b[38;5;241m=\u001b[39m value[\u001b[38;5;124m\"\u001b[39m\u001b[38;5;124malert\u001b[39m\u001b[38;5;124m\"\u001b[39m]\u001b[38;5;241m.\u001b[39mget(\u001b[38;5;124m\"\u001b[39m\u001b[38;5;124mtext\u001b[39m\u001b[38;5;124m\"\u001b[39m)\n\u001b[1;32m    228\u001b[0m     \u001b[38;5;28;01mraise\u001b[39;00m exception_class(message, screen, stacktrace, alert_text)  \u001b[38;5;66;03m# type: ignore[call-arg]  # mypy is not smart enough here\u001b[39;00m\n\u001b[0;32m--> 229\u001b[0m \u001b[38;5;28;01mraise\u001b[39;00m exception_class(message, screen, stacktrace)\n",
      "\u001b[0;31mNoSuchWindowException\u001b[0m: Message: no such window: target window already closed\nfrom unknown error: web view not found\n  (Session info: chrome=120.0.6099.71)\nStacktrace:\n#0 0x56167276df83 <unknown>\n#1 0x561672426cf7 <unknown>\n#2 0x5616723fa728 <unknown>\n#3 0x5616724a769f <unknown>\n#4 0x5616724be719 <unknown>\n#5 0x56167249fe53 <unknown>\n#6 0x561672467dd4 <unknown>\n#7 0x5616724691de <unknown>\n#8 0x561672732531 <unknown>\n#9 0x561672736455 <unknown>\n#10 0x56167271ef55 <unknown>\n#11 0x5616727370ef <unknown>\n#12 0x56167270299f <unknown>\n#13 0x56167275b008 <unknown>\n#14 0x56167275b1d7 <unknown>\n#15 0x56167276d124 <unknown>\n#16 0x7fcb65553609 start_thread\n"
     ]
    }
   ],
   "source": [
    "eval_students_assignment(chrome, total_grade)"
   ]
  },
  {
   "cell_type": "code",
   "execution_count": 10,
   "id": "f3e7884d",
   "metadata": {},
   "outputs": [
    {
     "name": "stdout",
     "output_type": "stream",
     "text": [
      "2.5\n"
     ]
    }
   ],
   "source": [
    "import decimal\n",
    "\n",
    "comment_eval = find_comment_eval(chrome)\n",
    "for str_line in comment_eval.text.split(\"\\n\"):\n",
    "    if str_line.strip().lower().startswith(\"nota final\"):\n",
    "        print(Decimal(str_line.split(\":\")[-1].strip()))"
   ]
  },
  {
   "cell_type": "markdown",
   "id": "689e24d4",
   "metadata": {},
   "source": [
    "## Download repo"
   ]
  },
  {
   "cell_type": "code",
   "execution_count": 1,
   "id": "29f2c5e5",
   "metadata": {},
   "outputs": [
    {
     "name": "stdout",
     "output_type": "stream",
     "text": [
      "Geeks 4 Geeks\n"
     ]
    }
   ],
   "source": [
    "import subprocess\n",
    "process = subprocess.Popen('echo \"Geeks 4 Geeks\"', shell=True)"
   ]
  },
  {
   "cell_type": "code",
   "execution_count": 1,
   "id": "02dd81ea",
   "metadata": {},
   "outputs": [],
   "source": [
    "\n",
    "import sys\n",
    "\n",
    "#define a raiz do projeto par aser possivel importar os modulos\n",
    "sys.path.append(\"../src\")\n",
    "from github_app_viewer.app_viewer import AppViewer\n",
    "from github_app_viewer.git_utils import Git\n"
   ]
  },
  {
   "cell_type": "code",
   "execution_count": 2,
   "id": "51e07f2e",
   "metadata": {},
   "outputs": [],
   "source": [
    "git_repo = Git(\"github.com/daniel-hasan/cefet-web-pirates-django\")"
   ]
  },
  {
   "cell_type": "code",
   "execution_count": 3,
   "id": "340f4c3b",
   "metadata": {},
   "outputs": [],
   "source": [
    "git_app = AppViewer(git_repo)"
   ]
  },
  {
   "cell_type": "code",
   "execution_count": 4,
   "id": "d5fd759a",
   "metadata": {},
   "outputs": [],
   "source": [
    "git_app.download_app()"
   ]
  },
  {
   "cell_type": "code",
   "execution_count": 5,
   "id": "d50ea4b4",
   "metadata": {},
   "outputs": [
    {
     "name": "stderr",
     "output_type": "stream",
     "text": [
      "Watching for file changes with StatReloader\n",
      "System check identified some issues:\n",
      "\n",
      "WARNINGS:\n",
      "pirates.Tesouro: (models.W042) Auto-created primary key used when not defining a primary key type, by default 'django.db.models.AutoField'.\n",
      "\tHINT: Configure the DEFAULT_AUTO_FIELD setting or the PiratesConfig.default_auto_field attribute to point to a subclass of AutoField, e.g. 'django.db.models.BigAutoField'.\n",
      "\n",
      "System check identified 1 issue (0 silenced).\n"
     ]
    }
   ],
   "source": [
    "host = git_app.execute_app()"
   ]
  },
  {
   "cell_type": "code",
   "execution_count": 6,
   "id": "83c44494",
   "metadata": {},
   "outputs": [
    {
     "data": {
      "text/plain": [
       "'http://127.0.0.1:9000'"
      ]
     },
     "execution_count": 6,
     "metadata": {},
     "output_type": "execute_result"
    },
    {
     "name": "stderr",
     "output_type": "stream",
     "text": [
      "[29/Dec/2023 19:49:36] \"GET / HTTP/1.1\" 200 10697\n",
      "[29/Dec/2023 19:49:37] \"GET /static/admin/css/fonts.css HTTP/1.1\" 200 423\n",
      "[29/Dec/2023 19:49:37] \"GET /static/admin/fonts/Roboto-Regular-webfont.woff HTTP/1.1\" 200 85876\n",
      "[29/Dec/2023 19:49:38] \"GET /static/admin/fonts/Roboto-Bold-webfont.woff HTTP/1.1\" 200 86184\n",
      "[29/Dec/2023 19:49:38] \"GET /static/admin/fonts/Roboto-Light-webfont.woff HTTP/1.1\" 200 85692\n",
      "Not Found: /favicon.ico\n",
      "[29/Dec/2023 19:49:38] \"GET /favicon.ico HTTP/1.1\" 404 2115\n"
     ]
    }
   ],
   "source": [
    "host"
   ]
  },
  {
   "cell_type": "code",
   "execution_count": null,
   "id": "07cd97a7",
   "metadata": {},
   "outputs": [],
   "source": [
    "git_repo = Git(\"https://github.com/daniel-hasan/django-toy-example\")"
   ]
  }
 ],
 "metadata": {
  "kernelspec": {
   "display_name": "Python 3 (ipykernel)",
   "language": "python",
   "name": "python3"
  },
  "language_info": {
   "codemirror_mode": {
    "name": "ipython",
    "version": 3
   },
   "file_extension": ".py",
   "mimetype": "text/x-python",
   "name": "python",
   "nbconvert_exporter": "python",
   "pygments_lexer": "ipython3",
   "version": "3.11.7"
  }
 },
 "nbformat": 4,
 "nbformat_minor": 5
}
