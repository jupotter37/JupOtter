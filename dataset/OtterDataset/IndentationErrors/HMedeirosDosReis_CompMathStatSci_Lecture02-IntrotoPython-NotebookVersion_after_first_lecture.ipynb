{
 "cells": [
  {
   "cell_type": "markdown",
   "id": "composite-saturday",
   "metadata": {},
   "source": [
    "# Lecture 2: Quick(ish) Introduction to Python"
   ]
  },
  {
   "cell_type": "markdown",
   "id": "velvet-helping",
   "metadata": {},
   "source": [
    "The goal of this lecture is to give you some of the basics. It's not possible for us to cover **everything** you'll need to know ahead of time. As graduate students, you are expected to be able to do some research and self-teaching on your own to build your coding skills, and of course you can *always* come ask me for help!"
   ]
  },
  {
   "cell_type": "markdown",
   "id": "hourly-patch",
   "metadata": {},
   "source": [
    "A nice reference for a lot of the computational skills we'll be covering (coding, unix command line, git) is the \"Software Carpentry\" set of lessons: https://software-carpentry.org/lessons/. You should seriously considering checking their tutorials for extra practice and more in-depth lessons!"
   ]
  },
  {
   "cell_type": "markdown",
   "id": "f162de59",
   "metadata": {},
   "source": [
    "This document is a \"Jupyter Notebook\". It's kind of like interactive mode, but also lets you intersperse text, html, etc, among it. (It's free and easy to set up.)"
   ]
  },
  {
   "cell_type": "markdown",
   "id": "tough-fleece",
   "metadata": {},
   "source": [
    "<hr style=\"border:1px solid black\"> </hr>"
   ]
  },
  {
   "cell_type": "markdown",
   "id": "entertaining-wallace",
   "metadata": {},
   "source": [
    "Python is a **whitespace-based language**. In C, C++, Java, and many other languages, you use braces to group code:\n",
    "```java\n",
    "if (x == 1) {\n",
    "    do_something();\n",
    "}\n",
    "```\n",
    "and the spacing is just for readability. For example, the following code does the same thing:\n",
    "```java\n",
    "if (x == 1) { do_something();\n",
    "         }\n",
    "```\n",
    "\n",
    "In Python you use indenting, and colons (`:`) to have the same effect. You also do not use semicolons (`;`) to end commands.\n",
    "```py\n",
    "if x == 1:\n",
    "    do_something()\n",
    "```"
   ]
  },
  {
   "cell_type": "markdown",
   "id": "narrative-turtle",
   "metadata": {},
   "source": [
    "<hr style=\"border:1px solid black\"> </hr>"
   ]
  },
  {
   "cell_type": "markdown",
   "id": "desperate-stream",
   "metadata": {},
   "source": [
    "You have to be *really* careful to be consistent by either\n",
    "- always using tabs, or\n",
    "- always using spaces (and the same number)"
   ]
  },
  {
   "cell_type": "code",
   "execution_count": 1,
   "id": "noted-staff",
   "metadata": {},
   "outputs": [],
   "source": [
    "x = 1"
   ]
  },
  {
   "cell_type": "code",
   "execution_count": 2,
   "id": "2082a29a",
   "metadata": {},
   "outputs": [
    {
     "data": {
      "text/plain": [
       "1"
      ]
     },
     "execution_count": 2,
     "metadata": {},
     "output_type": "execute_result"
    }
   ],
   "source": [
    "x"
   ]
  },
  {
   "cell_type": "code",
   "execution_count": 3,
   "id": "clear-spank",
   "metadata": {},
   "outputs": [
    {
     "name": "stdout",
     "output_type": "stream",
     "text": [
      "hello\n"
     ]
    }
   ],
   "source": [
    "if x == 1:\n",
    "    print(\"hello\")"
   ]
  },
  {
   "cell_type": "code",
   "execution_count": 4,
   "id": "synthetic-filter",
   "metadata": {},
   "outputs": [
    {
     "name": "stdout",
     "output_type": "stream",
     "text": [
      "hello\n"
     ]
    }
   ],
   "source": [
    "if x == 1:\n",
    "            print(\"hello\")"
   ]
  },
  {
   "cell_type": "code",
   "execution_count": 7,
   "id": "broke-responsibility",
   "metadata": {},
   "outputs": [
    {
     "ename": "IndentationError",
     "evalue": "unexpected indent (151846787.py, line 3)",
     "output_type": "error",
     "traceback": [
      "\u001b[0;36m  Cell \u001b[0;32mIn[7], line 3\u001b[0;36m\u001b[0m\n\u001b[0;31m    print(\"world\")\u001b[0m\n\u001b[0m    ^\u001b[0m\n\u001b[0;31mIndentationError\u001b[0m\u001b[0;31m:\u001b[0m unexpected indent\n"
     ]
    }
   ],
   "source": [
    "if x == 1:\n",
    "    print(\"hello\")\n",
    "     print(\"world\")"
   ]
  },
  {
   "cell_type": "code",
   "execution_count": 8,
   "id": "sixth-bearing",
   "metadata": {},
   "outputs": [
    {
     "name": "stdout",
     "output_type": "stream",
     "text": [
      "hello\n",
      "world\n"
     ]
    }
   ],
   "source": [
    "if x == 1:\n",
    "    print(\"hello\")\n",
    "    print(\"world\") # if you use a tab, Jupyter will fix it for you automatically! Your code editor might not."
   ]
  },
  {
   "cell_type": "markdown",
   "id": "union-nursery",
   "metadata": {},
   "source": [
    "<hr style=\"border:1px solid black\"> </hr>"
   ]
  },
  {
   "cell_type": "markdown",
   "id": "catholic-weapon",
   "metadata": {},
   "source": [
    "Python uses `if`, `for`, and `while` statements like many other languages."
   ]
  },
  {
   "cell_type": "code",
   "execution_count": 9,
   "id": "legal-microphone",
   "metadata": {},
   "outputs": [
    {
     "name": "stdout",
     "output_type": "stream",
     "text": [
      "3\n",
      "5\n",
      "7\n",
      "9\n",
      "11\n"
     ]
    }
   ],
   "source": [
    "x = 1\n",
    "while x < 10:\n",
    "    x = x + 2\n",
    "    \n",
    "    print(x)"
   ]
  },
  {
   "cell_type": "code",
   "execution_count": 10,
   "id": "central-authority",
   "metadata": {},
   "outputs": [
    {
     "name": "stdout",
     "output_type": "stream",
     "text": [
      "3\n",
      "4\n",
      "5\n"
     ]
    }
   ],
   "source": [
    "for y in range(3, 6):  # 3, 4, 5\n",
    "    print(y)"
   ]
  },
  {
   "cell_type": "code",
   "execution_count": 11,
   "id": "variable-founder",
   "metadata": {},
   "outputs": [
    {
     "name": "stdout",
     "output_type": "stream",
     "text": [
      "a\n",
      "p\n",
      "p\n",
      "l\n",
      "e\n"
     ]
    }
   ],
   "source": [
    "for letter in \"apple\":\n",
    "    print(letter)"
   ]
  },
  {
   "cell_type": "markdown",
   "id": "professional-colleague",
   "metadata": {},
   "source": [
    "In a `for` loop, you can iterate over many different types of objects (lists, sets, tuples, dictionaries, strings, etc.)"
   ]
  },
  {
   "cell_type": "markdown",
   "id": "macro-groove",
   "metadata": {},
   "source": [
    "`range(a,b)` is a way of looping over all of the integers between `a` (inclusive) and `b` (exclusive). "
   ]
  },
  {
   "cell_type": "code",
   "execution_count": 12,
   "id": "white-decision",
   "metadata": {},
   "outputs": [
    {
     "name": "stdout",
     "output_type": "stream",
     "text": [
      "h\n",
      "e\n",
      "l\n",
      "l\n",
      "o\n"
     ]
    }
   ],
   "source": [
    "for z in \"hello\":\n",
    "    print(z)"
   ]
  },
  {
   "cell_type": "code",
   "execution_count": 13,
   "id": "medieval-entry",
   "metadata": {},
   "outputs": [
    {
     "name": "stdout",
     "output_type": "stream",
     "text": [
      "20\n",
      "-99\n"
     ]
    },
    {
     "ename": "TypeError",
     "evalue": "can only concatenate str (not \"int\") to str",
     "output_type": "error",
     "traceback": [
      "\u001b[0;31m---------------------------------------------------------------------------\u001b[0m",
      "\u001b[0;31mTypeError\u001b[0m                                 Traceback (most recent call last)",
      "Cell \u001b[0;32mIn[13], line 2\u001b[0m\n\u001b[1;32m      1\u001b[0m \u001b[38;5;28;01mfor\u001b[39;00m z \u001b[38;5;129;01min\u001b[39;00m [\u001b[38;5;241m19\u001b[39m, \u001b[38;5;241m-\u001b[39m\u001b[38;5;241m100\u001b[39m, \u001b[38;5;124m\"\u001b[39m\u001b[38;5;124mbanana\u001b[39m\u001b[38;5;124m\"\u001b[39m]:\n\u001b[0;32m----> 2\u001b[0m     \u001b[38;5;28mprint\u001b[39m(\u001b[43mz\u001b[49m\u001b[38;5;241;43m+\u001b[39;49m\u001b[38;5;241;43m1\u001b[39;49m)\n",
      "\u001b[0;31mTypeError\u001b[0m: can only concatenate str (not \"int\") to str"
     ]
    }
   ],
   "source": [
    "for z in [19, -100, \"banana\"]:\n",
    "    print(z+1)"
   ]
  },
  {
   "cell_type": "markdown",
   "id": "lasting-birth",
   "metadata": {},
   "source": [
    "<hr style=\"border:1px solid black\"> </hr>"
   ]
  },
  {
   "cell_type": "markdown",
   "id": "textile-delight",
   "metadata": {},
   "source": [
    "You may have noticed that Python is not a **statically-typed** language, which means you do not need to tell it whether a variable you are defining is an integer or a string or a list, etc. You just define it, and it figures it out."
   ]
  },
  {
   "cell_type": "markdown",
   "id": "voluntary-pollution",
   "metadata": {},
   "source": [
    "But, there are still different types! You can always use the `type` function to check what type an object has."
   ]
  },
  {
   "cell_type": "code",
   "execution_count": 14,
   "id": "blank-chrome",
   "metadata": {},
   "outputs": [
    {
     "data": {
      "text/plain": [
       "list"
      ]
     },
     "execution_count": 14,
     "metadata": {},
     "output_type": "execute_result"
    }
   ],
   "source": [
    "L = [1, 2, 3]\n",
    "type(L)"
   ]
  },
  {
   "cell_type": "code",
   "execution_count": 15,
   "id": "awful-chapel",
   "metadata": {},
   "outputs": [
    {
     "data": {
      "text/plain": [
       "tuple"
      ]
     },
     "execution_count": 15,
     "metadata": {},
     "output_type": "execute_result"
    }
   ],
   "source": [
    "L = (1,2,3)\n",
    "type(L)"
   ]
  },
  {
   "cell_type": "code",
   "execution_count": 16,
   "id": "announced-prisoner",
   "metadata": {},
   "outputs": [
    {
     "data": {
      "text/plain": [
       "set"
      ]
     },
     "execution_count": 16,
     "metadata": {},
     "output_type": "execute_result"
    }
   ],
   "source": [
    "L = {1,2,3}\n",
    "type(L)"
   ]
  },
  {
   "cell_type": "code",
   "execution_count": 17,
   "id": "outstanding-malaysia",
   "metadata": {},
   "outputs": [
    {
     "data": {
      "text/plain": [
       "6"
      ]
     },
     "execution_count": 17,
     "metadata": {},
     "output_type": "execute_result"
    }
   ],
   "source": [
    "sum([1,2,3])"
   ]
  },
  {
   "cell_type": "code",
   "execution_count": 18,
   "id": "blind-christopher",
   "metadata": {},
   "outputs": [
    {
     "data": {
      "text/plain": [
       "builtin_function_or_method"
      ]
     },
     "execution_count": 18,
     "metadata": {},
     "output_type": "execute_result"
    }
   ],
   "source": [
    "type(sum)"
   ]
  },
  {
   "cell_type": "markdown",
   "id": "egyptian-kazakhstan",
   "metadata": {},
   "source": [
    "Now we're going to discuss a bunch of the fundamental types in Python."
   ]
  },
  {
   "cell_type": "markdown",
   "id": "classified-style",
   "metadata": {},
   "source": [
    "## Integers, Floating Point Numbers, and Complex Numbers"
   ]
  },
  {
   "cell_type": "code",
   "execution_count": 19,
   "id": "wired-truck",
   "metadata": {},
   "outputs": [
    {
     "data": {
      "text/plain": [
       "int"
      ]
     },
     "execution_count": 19,
     "metadata": {},
     "output_type": "execute_result"
    }
   ],
   "source": [
    "x = 7\n",
    "type(x)"
   ]
  },
  {
   "cell_type": "code",
   "execution_count": 22,
   "id": "explicit-hostel",
   "metadata": {},
   "outputs": [
    {
     "data": {
      "text/plain": [
       "3.141592653589793"
      ]
     },
     "execution_count": 22,
     "metadata": {},
     "output_type": "execute_result"
    }
   ],
   "source": [
    "import math\n",
    "math.pi\n"
   ]
  },
  {
   "cell_type": "code",
   "execution_count": 24,
   "id": "elementary-sugar",
   "metadata": {},
   "outputs": [
    {
     "data": {
      "text/plain": [
       "7.0"
      ]
     },
     "execution_count": 24,
     "metadata": {},
     "output_type": "execute_result"
    }
   ],
   "source": [
    "x = 7.0\n",
    "type(x)\n",
    "x"
   ]
  },
  {
   "cell_type": "code",
   "execution_count": 25,
   "id": "persistent-nightlife",
   "metadata": {},
   "outputs": [
    {
     "name": "stdout",
     "output_type": "stream",
     "text": [
      "3.0\n"
     ]
    }
   ],
   "source": [
    "x = 3.0000000000000000001\n",
    "print(x)"
   ]
  },
  {
   "cell_type": "code",
   "execution_count": 26,
   "id": "956dce30",
   "metadata": {},
   "outputs": [
    {
     "data": {
      "text/plain": [
       "True"
      ]
     },
     "execution_count": 26,
     "metadata": {},
     "output_type": "execute_result"
    }
   ],
   "source": [
    "3.00000000000000000001 == 3.0"
   ]
  },
  {
   "cell_type": "code",
   "execution_count": 27,
   "id": "bigger-degree",
   "metadata": {},
   "outputs": [
    {
     "name": "stdout",
     "output_type": "stream",
     "text": [
      "0.1\n"
     ]
    }
   ],
   "source": [
    "y = 0.1\n",
    "print(y)"
   ]
  },
  {
   "cell_type": "code",
   "execution_count": 28,
   "id": "functioning-jerusalem",
   "metadata": {},
   "outputs": [
    {
     "data": {
      "text/plain": [
       "5.551115123125783e-17"
      ]
     },
     "execution_count": 28,
     "metadata": {},
     "output_type": "execute_result"
    }
   ],
   "source": [
    "0.1 + 0.1 + 0.1 - 0.3"
   ]
  },
  {
   "cell_type": "code",
   "execution_count": null,
   "id": "505d47d2",
   "metadata": {},
   "outputs": [],
   "source": [
    "5.55111 * 10^(-17)"
   ]
  },
  {
   "cell_type": "code",
   "execution_count": 29,
   "id": "faced-enlargement",
   "metadata": {},
   "outputs": [
    {
     "data": {
      "text/plain": [
       "False"
      ]
     },
     "execution_count": 29,
     "metadata": {},
     "output_type": "execute_result"
    }
   ],
   "source": [
    "0.1 + 0.1 + 0.1 == 0.3"
   ]
  },
  {
   "cell_type": "code",
   "execution_count": 30,
   "id": "360c726d",
   "metadata": {},
   "outputs": [
    {
     "name": "stdout",
     "output_type": "stream",
     "text": [
      "False\n",
      "True\n"
     ]
    }
   ],
   "source": [
    "x = 0.1 + 0.1 + 0.1\n",
    "y = 0.3\n",
    "print(x==y)\n",
    "print(abs(x-y) < 0.00000000001)"
   ]
  },
  {
   "cell_type": "code",
   "execution_count": 31,
   "id": "assumed-intention",
   "metadata": {},
   "outputs": [
    {
     "data": {
      "text/plain": [
       "2.142857142857143"
      ]
     },
     "execution_count": 31,
     "metadata": {},
     "output_type": "execute_result"
    }
   ],
   "source": [
    "15 / 7"
   ]
  },
  {
   "cell_type": "code",
   "execution_count": 32,
   "id": "authentic-romantic",
   "metadata": {},
   "outputs": [
    {
     "data": {
      "text/plain": [
       "2"
      ]
     },
     "execution_count": 32,
     "metadata": {},
     "output_type": "execute_result"
    }
   ],
   "source": [
    "15 // 7 "
   ]
  },
  {
   "cell_type": "code",
   "execution_count": 33,
   "id": "6e778397",
   "metadata": {},
   "outputs": [
    {
     "data": {
      "text/plain": [
       "2.0"
      ]
     },
     "execution_count": 33,
     "metadata": {},
     "output_type": "execute_result"
    }
   ],
   "source": [
    "14 / 7"
   ]
  },
  {
   "cell_type": "code",
   "execution_count": 34,
   "id": "desirable-exhaust",
   "metadata": {},
   "outputs": [
    {
     "name": "stdout",
     "output_type": "stream",
     "text": [
      "(3+5j)\n"
     ]
    },
    {
     "data": {
      "text/plain": [
       "(8+2j)"
      ]
     },
     "execution_count": 34,
     "metadata": {},
     "output_type": "execute_result"
    }
   ],
   "source": [
    "z = complex(3, 5)\n",
    "t = complex(1,-1)\n",
    "print(z)\n",
    "type(z)\n",
    "z*t"
   ]
  },
  {
   "cell_type": "markdown",
   "id": "short-timothy",
   "metadata": {},
   "source": [
    "## Boolean"
   ]
  },
  {
   "cell_type": "markdown",
   "id": "unable-candidate",
   "metadata": {},
   "source": [
    "A boolean is just a `True` or `False` value. That's it!"
   ]
  },
  {
   "cell_type": "code",
   "execution_count": 39,
   "id": "plain-cherry",
   "metadata": {},
   "outputs": [
    {
     "data": {
      "text/plain": [
       "bool"
      ]
     },
     "execution_count": 39,
     "metadata": {},
     "output_type": "execute_result"
    }
   ],
   "source": [
    "b = True\n",
    "type(b)"
   ]
  },
  {
   "cell_type": "code",
   "execution_count": 40,
   "id": "criminal-harrison",
   "metadata": {},
   "outputs": [
    {
     "name": "stdout",
     "output_type": "stream",
     "text": [
      "hello\n"
     ]
    }
   ],
   "source": [
    "if b:\n",
    "    print(\"hello\")"
   ]
  },
  {
   "cell_type": "code",
   "execution_count": 41,
   "id": "significant-completion",
   "metadata": {},
   "outputs": [],
   "source": [
    "if not b:\n",
    "    print(\"hello\")"
   ]
  },
  {
   "cell_type": "code",
   "execution_count": 42,
   "id": "hourly-wildlife",
   "metadata": {},
   "outputs": [
    {
     "name": "stdout",
     "output_type": "stream",
     "text": [
      "True\n"
     ]
    },
    {
     "data": {
      "text/plain": [
       "bool"
      ]
     },
     "execution_count": 42,
     "metadata": {},
     "output_type": "execute_result"
    }
   ],
   "source": [
    "t = (10 + 10 == 20) # Use \"==\" to test equality, and \"=\" to actually set something equal\n",
    "print(t)\n",
    "type(t)"
   ]
  },
  {
   "cell_type": "markdown",
   "id": "asian-rally",
   "metadata": {},
   "source": [
    "## None"
   ]
  },
  {
   "cell_type": "markdown",
   "id": "typical-catering",
   "metadata": {},
   "source": [
    "There is a weird object in Python called `None`. It's just a useful thing to have around, often as a default value until you assign something."
   ]
  },
  {
   "cell_type": "code",
   "execution_count": 44,
   "id": "19a44960",
   "metadata": {},
   "outputs": [
    {
     "data": {
      "text/plain": [
       "NoneType"
      ]
     },
     "execution_count": 44,
     "metadata": {},
     "output_type": "execute_result"
    }
   ],
   "source": [
    "x = None\n",
    "type(x)"
   ]
  },
  {
   "cell_type": "code",
   "execution_count": 45,
   "id": "pointed-resource",
   "metadata": {},
   "outputs": [
    {
     "name": "stdout",
     "output_type": "stream",
     "text": [
      "None\n",
      "y has the value None\n"
     ]
    }
   ],
   "source": [
    "y = None\n",
    "print(y)\n",
    "if y is None:\n",
    "    print(\"y has the value None\")\n",
    "y = 3\n",
    "if y is None:\n",
    "    print(\"y has the value None\")"
   ]
  },
  {
   "cell_type": "code",
   "execution_count": 50,
   "id": "c4e11c8b",
   "metadata": {},
   "outputs": [
    {
     "name": "stdout",
     "output_type": "stream",
     "text": [
      "True\n"
     ]
    }
   ],
   "source": [
    "x = 1\n",
    "y = x\n",
    "print(x is y)"
   ]
  },
  {
   "cell_type": "code",
   "execution_count": 59,
   "id": "7d1fcfbc",
   "metadata": {},
   "outputs": [
    {
     "name": "stdout",
     "output_type": "stream",
     "text": [
      "4437131456\n",
      "4437132032\n",
      "True\n",
      "False\n",
      "4437126656\n",
      "4437131456\n"
     ]
    }
   ],
   "source": [
    "x = [1, 2, 3]\n",
    "y = [1, 2, 3]\n",
    "print(id(x))\n",
    "print(id(y))\n",
    "print(x == y)\n",
    "print(x is y)\n",
    "y = x\n",
    "x = [4, 5, 6]\n",
    "print(id(x))\n",
    "print(id(y))"
   ]
  },
  {
   "cell_type": "code",
   "execution_count": 60,
   "id": "6b82ad23",
   "metadata": {},
   "outputs": [
    {
     "name": "stdout",
     "output_type": "stream",
     "text": [
      "[4, 5, 6]\n",
      "[1, 2, 3]\n"
     ]
    }
   ],
   "source": [
    "x = [1, 2, 3]\n",
    "y = x\n",
    "x = [4, 5, 6]\n",
    "print(x)\n",
    "print(y)"
   ]
  },
  {
   "cell_type": "markdown",
   "id": "bizarre-belle",
   "metadata": {},
   "source": [
    "## Strings"
   ]
  },
  {
   "cell_type": "markdown",
   "id": "nuclear-vermont",
   "metadata": {},
   "source": [
    "A string is just a sequence of characters."
   ]
  },
  {
   "cell_type": "code",
   "execution_count": 63,
   "id": "compatible-swiss",
   "metadata": {},
   "outputs": [
    {
     "data": {
      "text/plain": [
       "str"
      ]
     },
     "execution_count": 63,
     "metadata": {},
     "output_type": "execute_result"
    }
   ],
   "source": [
    "type('banana')"
   ]
  },
  {
   "cell_type": "markdown",
   "id": "activated-regression",
   "metadata": {},
   "source": [
    "You can do a million things with strings."
   ]
  },
  {
   "cell_type": "code",
   "execution_count": 64,
   "id": "distinct-measure",
   "metadata": {},
   "outputs": [
    {
     "data": {
      "text/plain": [
       "['ba', 'a', 'a']"
      ]
     },
     "execution_count": 64,
     "metadata": {},
     "output_type": "execute_result"
    }
   ],
   "source": [
    "s = \"banana\"\n",
    "s.split(\"n\")"
   ]
  },
  {
   "cell_type": "markdown",
   "id": "selective-transfer",
   "metadata": {},
   "source": [
    "Use `len` to find the length of a string and `+` to concatenate two strings together."
   ]
  },
  {
   "cell_type": "code",
   "execution_count": 65,
   "id": "republican-dryer",
   "metadata": {},
   "outputs": [
    {
     "name": "stdout",
     "output_type": "stream",
     "text": [
      "11\n",
      "hello world\n"
     ]
    }
   ],
   "source": [
    "one = \"hello\"\n",
    "two = \"world\"\n",
    "three = one + \" \" + two\n",
    "print(len(three))\n",
    "print(three)"
   ]
  },
  {
   "cell_type": "code",
   "execution_count": 66,
   "id": "c08ec883",
   "metadata": {},
   "outputs": [
    {
     "ename": "TypeError",
     "evalue": "unsupported operand type(s) for -: 'str' and 'str'",
     "output_type": "error",
     "traceback": [
      "\u001b[0;31m---------------------------------------------------------------------------\u001b[0m",
      "\u001b[0;31mTypeError\u001b[0m                                 Traceback (most recent call last)",
      "Cell \u001b[0;32mIn[66], line 1\u001b[0m\n\u001b[0;32m----> 1\u001b[0m \u001b[43mthree\u001b[49m\u001b[43m \u001b[49m\u001b[38;5;241;43m-\u001b[39;49m\u001b[43m \u001b[49m\u001b[43mtwo\u001b[49m\n",
      "\u001b[0;31mTypeError\u001b[0m: unsupported operand type(s) for -: 'str' and 'str'"
     ]
    }
   ],
   "source": [
    "three - two"
   ]
  },
  {
   "cell_type": "code",
   "execution_count": 67,
   "id": "shared-defensive",
   "metadata": {},
   "outputs": [
    {
     "ename": "AttributeError",
     "evalue": "'str' object has no attribute 'len'",
     "output_type": "error",
     "traceback": [
      "\u001b[0;31m---------------------------------------------------------------------------\u001b[0m",
      "\u001b[0;31mAttributeError\u001b[0m                            Traceback (most recent call last)",
      "Cell \u001b[0;32mIn[67], line 1\u001b[0m\n\u001b[0;32m----> 1\u001b[0m \u001b[43mthree\u001b[49m\u001b[38;5;241;43m.\u001b[39;49m\u001b[43mlen\u001b[49m()\n",
      "\u001b[0;31mAttributeError\u001b[0m: 'str' object has no attribute 'len'"
     ]
    }
   ],
   "source": [
    "three.len()"
   ]
  },
  {
   "cell_type": "markdown",
   "id": "technological-prayer",
   "metadata": {},
   "source": [
    "## Lists\n",
    "A list is an **ordered sequence** of things."
   ]
  },
  {
   "cell_type": "code",
   "execution_count": 68,
   "id": "biological-genius",
   "metadata": {},
   "outputs": [],
   "source": [
    "L = [15, \"banana\", 7, False, [1, 2, 3]]"
   ]
  },
  {
   "cell_type": "code",
   "execution_count": 69,
   "id": "improving-exhibit",
   "metadata": {},
   "outputs": [
    {
     "name": "stdout",
     "output_type": "stream",
     "text": [
      "[15, 'banana', 7, False, [1, 2, 3]]\n"
     ]
    }
   ],
   "source": [
    "print(L)"
   ]
  },
  {
   "cell_type": "markdown",
   "id": "renewable-prescription",
   "metadata": {},
   "source": [
    "Elements of lists are accessed with bracket notation, starting from 0."
   ]
  },
  {
   "cell_type": "code",
   "execution_count": 70,
   "id": "future-operator",
   "metadata": {},
   "outputs": [
    {
     "data": {
      "text/plain": [
       "15"
      ]
     },
     "execution_count": 70,
     "metadata": {},
     "output_type": "execute_result"
    }
   ],
   "source": [
    "L[0]"
   ]
  },
  {
   "cell_type": "code",
   "execution_count": 71,
   "id": "local-cradle",
   "metadata": {},
   "outputs": [
    {
     "data": {
      "text/plain": [
       "'banana'"
      ]
     },
     "execution_count": 71,
     "metadata": {},
     "output_type": "execute_result"
    }
   ],
   "source": [
    "L[1]"
   ]
  },
  {
   "cell_type": "code",
   "execution_count": 72,
   "id": "approved-boxing",
   "metadata": {},
   "outputs": [
    {
     "data": {
      "text/plain": [
       "7"
      ]
     },
     "execution_count": 72,
     "metadata": {},
     "output_type": "execute_result"
    }
   ],
   "source": [
    "L[2]"
   ]
  },
  {
   "cell_type": "code",
   "execution_count": 73,
   "id": "single-bermuda",
   "metadata": {},
   "outputs": [
    {
     "data": {
      "text/plain": [
       "False"
      ]
     },
     "execution_count": 73,
     "metadata": {},
     "output_type": "execute_result"
    }
   ],
   "source": [
    "L[3]"
   ]
  },
  {
   "cell_type": "code",
   "execution_count": 74,
   "id": "advance-organization",
   "metadata": {},
   "outputs": [
    {
     "data": {
      "text/plain": [
       "[1, 2, 3]"
      ]
     },
     "execution_count": 74,
     "metadata": {},
     "output_type": "execute_result"
    }
   ],
   "source": [
    "L[4]"
   ]
  },
  {
   "cell_type": "code",
   "execution_count": 77,
   "id": "violent-headquarters",
   "metadata": {},
   "outputs": [
    {
     "data": {
      "text/plain": [
       "2"
      ]
     },
     "execution_count": 77,
     "metadata": {},
     "output_type": "execute_result"
    }
   ],
   "source": [
    "(L[4])[1]"
   ]
  },
  {
   "cell_type": "code",
   "execution_count": 78,
   "id": "8434ebb2",
   "metadata": {},
   "outputs": [
    {
     "ename": "IndexError",
     "evalue": "list index out of range",
     "output_type": "error",
     "traceback": [
      "\u001b[0;31m---------------------------------------------------------------------------\u001b[0m",
      "\u001b[0;31mIndexError\u001b[0m                                Traceback (most recent call last)",
      "Cell \u001b[0;32mIn[78], line 1\u001b[0m\n\u001b[0;32m----> 1\u001b[0m \u001b[43mL\u001b[49m\u001b[43m[\u001b[49m\u001b[38;5;241;43m5\u001b[39;49m\u001b[43m]\u001b[49m\n",
      "\u001b[0;31mIndexError\u001b[0m: list index out of range"
     ]
    }
   ],
   "source": [
    "L[5]"
   ]
  },
  {
   "cell_type": "markdown",
   "id": "stupid-examination",
   "metadata": {},
   "source": [
    "Use `len(L)` to get the length of a list."
   ]
  },
  {
   "cell_type": "code",
   "execution_count": 79,
   "id": "moderate-london",
   "metadata": {},
   "outputs": [
    {
     "data": {
      "text/plain": [
       "5"
      ]
     },
     "execution_count": 79,
     "metadata": {},
     "output_type": "execute_result"
    }
   ],
   "source": [
    "len(L)"
   ]
  },
  {
   "cell_type": "code",
   "execution_count": 81,
   "id": "living-aurora",
   "metadata": {},
   "outputs": [
    {
     "name": "stdout",
     "output_type": "stream",
     "text": [
      "[15, 'banana', 7, False, [1, 2, 3]]\n"
     ]
    },
    {
     "data": {
      "text/plain": [
       "3"
      ]
     },
     "execution_count": 81,
     "metadata": {},
     "output_type": "execute_result"
    }
   ],
   "source": [
    "print(L)\n",
    "len(L[4])"
   ]
  },
  {
   "cell_type": "markdown",
   "id": "coupled-tattoo",
   "metadata": {},
   "source": [
    "You can set elements of the list manually as well."
   ]
  },
  {
   "cell_type": "code",
   "execution_count": 82,
   "id": "intermediate-texas",
   "metadata": {},
   "outputs": [
    {
     "data": {
      "text/plain": [
       "[15, 'banana', 7, False, [1, 2, 3]]"
      ]
     },
     "execution_count": 82,
     "metadata": {},
     "output_type": "execute_result"
    }
   ],
   "source": [
    "L"
   ]
  },
  {
   "cell_type": "code",
   "execution_count": 83,
   "id": "designed-tobago",
   "metadata": {},
   "outputs": [],
   "source": [
    "L[1] = \"apple\""
   ]
  },
  {
   "cell_type": "code",
   "execution_count": 84,
   "id": "incident-contribution",
   "metadata": {},
   "outputs": [
    {
     "data": {
      "text/plain": [
       "[15, 'apple', 7, False, [1, 2, 3]]"
      ]
     },
     "execution_count": 84,
     "metadata": {},
     "output_type": "execute_result"
    }
   ],
   "source": [
    "L"
   ]
  },
  {
   "cell_type": "code",
   "execution_count": 85,
   "id": "buried-jimmy",
   "metadata": {},
   "outputs": [
    {
     "ename": "IndexError",
     "evalue": "list assignment index out of range",
     "output_type": "error",
     "traceback": [
      "\u001b[0;31m---------------------------------------------------------------------------\u001b[0m",
      "\u001b[0;31mIndexError\u001b[0m                                Traceback (most recent call last)",
      "Cell \u001b[0;32mIn[85], line 1\u001b[0m\n\u001b[0;32m----> 1\u001b[0m \u001b[43mL\u001b[49m\u001b[43m[\u001b[49m\u001b[38;5;241;43m8\u001b[39;49m\u001b[43m]\u001b[49m \u001b[38;5;241m=\u001b[39m \u001b[38;5;124m\"\u001b[39m\u001b[38;5;124mcan\u001b[39m\u001b[38;5;124m'\u001b[39m\u001b[38;5;124mt set this\u001b[39m\u001b[38;5;124m\"\u001b[39m\n",
      "\u001b[0;31mIndexError\u001b[0m: list assignment index out of range"
     ]
    }
   ],
   "source": [
    "L[8] = \"can't set this\""
   ]
  },
  {
   "cell_type": "markdown",
   "id": "pacific-sheep",
   "metadata": {},
   "source": [
    "You can sort lists:"
   ]
  },
  {
   "cell_type": "code",
   "execution_count": 86,
   "id": "statistical-millennium",
   "metadata": {},
   "outputs": [
    {
     "name": "stdout",
     "output_type": "stream",
     "text": [
      "[-20, 0, 15]\n"
     ]
    }
   ],
   "source": [
    "R = [15, -20, 0]\n",
    "R.sort()\n",
    "print(R)"
   ]
  },
  {
   "cell_type": "markdown",
   "id": "collective-alliance",
   "metadata": {},
   "source": [
    "Notice the `.` in the notation above. We'll talk about this more when we cover object-oriented programming, but what we're basically doing here is telling the list `R` to perform its `sort()` operation on itself."
   ]
  },
  {
   "cell_type": "markdown",
   "id": "partial-realtor",
   "metadata": {},
   "source": [
    "You may wonder why we did `len(R)` instead of `R.len()`... it's kind of just a quirk. You get used to it."
   ]
  },
  {
   "cell_type": "markdown",
   "id": "clear-aaron",
   "metadata": {},
   "source": [
    "A few more quick list functions:"
   ]
  },
  {
   "cell_type": "code",
   "execution_count": 87,
   "id": "medical-academy",
   "metadata": {},
   "outputs": [
    {
     "data": {
      "text/plain": [
       "[-20, 0, 15]"
      ]
     },
     "execution_count": 87,
     "metadata": {},
     "output_type": "execute_result"
    }
   ],
   "source": [
    "R"
   ]
  },
  {
   "cell_type": "code",
   "execution_count": 88,
   "id": "strong-algorithm",
   "metadata": {},
   "outputs": [
    {
     "name": "stdout",
     "output_type": "stream",
     "text": [
      "[-20, 0, 15, 17]\n"
     ]
    }
   ],
   "source": [
    "R.append(17)\n",
    "print(R)"
   ]
  },
  {
   "cell_type": "code",
   "execution_count": 89,
   "id": "transsexual-writer",
   "metadata": {},
   "outputs": [
    {
     "name": "stdout",
     "output_type": "stream",
     "text": [
      "[-20, 0, 15, 17, 7, 8, 9]\n"
     ]
    }
   ],
   "source": [
    "R.extend([7, 8, 9])\n",
    "print(R)"
   ]
  },
  {
   "cell_type": "markdown",
   "id": "statutory-solid",
   "metadata": {},
   "source": [
    "Lastly (for now) you can concatenate two lists together with the `+` sign."
   ]
  },
  {
   "cell_type": "code",
   "execution_count": 90,
   "id": "indonesian-possession",
   "metadata": {},
   "outputs": [
    {
     "data": {
      "text/plain": [
       "[1, 2, 3, 4, 5, 6]"
      ]
     },
     "execution_count": 90,
     "metadata": {},
     "output_type": "execute_result"
    }
   ],
   "source": [
    "[1,2,3] + [4,5,6]"
   ]
  },
  {
   "cell_type": "code",
   "execution_count": 91,
   "id": "capable-collect",
   "metadata": {},
   "outputs": [
    {
     "name": "stdout",
     "output_type": "stream",
     "text": [
      "[-20, 0, 15, 17, 7, 8, 9]\n",
      "[100, -20, 0, 15, 17, 7, 8, 9]\n"
     ]
    }
   ],
   "source": [
    "print(R)\n",
    "M = [100] + R\n",
    "print(M)"
   ]
  },
  {
   "cell_type": "code",
   "execution_count": 92,
   "id": "a895459a",
   "metadata": {},
   "outputs": [
    {
     "ename": "TypeError",
     "evalue": "unsupported operand type(s) for +: 'int' and 'list'",
     "output_type": "error",
     "traceback": [
      "\u001b[0;31m---------------------------------------------------------------------------\u001b[0m",
      "\u001b[0;31mTypeError\u001b[0m                                 Traceback (most recent call last)",
      "Cell \u001b[0;32mIn[92], line 1\u001b[0m\n\u001b[0;32m----> 1\u001b[0m \u001b[38;5;241;43m100\u001b[39;49m\u001b[43m \u001b[49m\u001b[38;5;241;43m+\u001b[39;49m\u001b[43m \u001b[49m\u001b[43mR\u001b[49m\n",
      "\u001b[0;31mTypeError\u001b[0m: unsupported operand type(s) for +: 'int' and 'list'"
     ]
    }
   ],
   "source": [
    "100 + R"
   ]
  },
  {
   "cell_type": "code",
   "execution_count": 93,
   "id": "91f38adc",
   "metadata": {},
   "outputs": [
    {
     "data": {
      "text/plain": [
       "[15, 'apple', 7, False, [1, 2, 3]]"
      ]
     },
     "execution_count": 93,
     "metadata": {},
     "output_type": "execute_result"
    }
   ],
   "source": [
    "L"
   ]
  },
  {
   "cell_type": "code",
   "execution_count": 101,
   "id": "723ea8ab",
   "metadata": {},
   "outputs": [
    {
     "ename": "IndexError",
     "evalue": "list index out of range",
     "output_type": "error",
     "traceback": [
      "\u001b[0;31m---------------------------------------------------------------------------\u001b[0m",
      "\u001b[0;31mIndexError\u001b[0m                                Traceback (most recent call last)",
      "Cell \u001b[0;32mIn[101], line 1\u001b[0m\n\u001b[0;32m----> 1\u001b[0m \u001b[43mL\u001b[49m\u001b[43m[\u001b[49m\u001b[38;5;241;43m-\u001b[39;49m\u001b[38;5;241;43m6\u001b[39;49m\u001b[43m]\u001b[49m\n",
      "\u001b[0;31mIndexError\u001b[0m: list index out of range"
     ]
    }
   ],
   "source": [
    "L[-6]"
   ]
  },
  {
   "cell_type": "code",
   "execution_count": 95,
   "id": "6fc3e736",
   "metadata": {},
   "outputs": [
    {
     "data": {
      "text/plain": [
       "False"
      ]
     },
     "execution_count": 95,
     "metadata": {},
     "output_type": "execute_result"
    }
   ],
   "source": [
    "L[-2]"
   ]
  },
  {
   "cell_type": "code",
   "execution_count": 97,
   "id": "146fb04a",
   "metadata": {},
   "outputs": [
    {
     "data": {
      "text/plain": [
       "7"
      ]
     },
     "execution_count": 97,
     "metadata": {},
     "output_type": "execute_result"
    }
   ],
   "source": [
    "L[-3]"
   ]
  },
  {
   "cell_type": "code",
   "execution_count": 98,
   "id": "afac4495",
   "metadata": {},
   "outputs": [
    {
     "data": {
      "text/plain": [
       "[1, 2, 3]"
      ]
     },
     "execution_count": 98,
     "metadata": {},
     "output_type": "execute_result"
    }
   ],
   "source": [
    "L[len(L)-1]"
   ]
  },
  {
   "cell_type": "markdown",
   "id": "necessary-ethernet",
   "metadata": {},
   "source": [
    "## Sets"
   ]
  },
  {
   "cell_type": "markdown",
   "id": "hidden-elements",
   "metadata": {},
   "source": [
    "A list was an ordered sequence of things. A set is an **unordered sequence** of things with no repeats (just like in math)."
   ]
  },
  {
   "cell_type": "code",
   "execution_count": 102,
   "id": "seeing-dairy",
   "metadata": {},
   "outputs": [
    {
     "name": "stdout",
     "output_type": "stream",
     "text": [
      "{1, 2, 3, 4}\n"
     ]
    }
   ],
   "source": [
    "S = {1, 2, 3, 4}\n",
    "print(S)"
   ]
  },
  {
   "cell_type": "code",
   "execution_count": 103,
   "id": "297b10f7",
   "metadata": {},
   "outputs": [
    {
     "data": {
      "text/plain": [
       "set"
      ]
     },
     "execution_count": 103,
     "metadata": {},
     "output_type": "execute_result"
    }
   ],
   "source": [
    "type(S)"
   ]
  },
  {
   "cell_type": "code",
   "execution_count": 104,
   "id": "conventional-binding",
   "metadata": {},
   "outputs": [
    {
     "name": "stdout",
     "output_type": "stream",
     "text": [
      "{1, 2, 3, 4}\n"
     ]
    }
   ],
   "source": [
    "T = {3, 1, 4, 2}\n",
    "print(T)"
   ]
  },
  {
   "cell_type": "code",
   "execution_count": 109,
   "id": "b31bfed0",
   "metadata": {},
   "outputs": [
    {
     "name": "stdout",
     "output_type": "stream",
     "text": [
      "{10, 3, 7}\n",
      "{10, 3, 7}\n",
      "True\n"
     ]
    }
   ],
   "source": [
    "S = {3, 7, 7, 7, 10}\n",
    "print(S)\n",
    "T = {3, 7, 10}\n",
    "print(T)\n",
    "print(S == {3, 7, 10})"
   ]
  },
  {
   "cell_type": "code",
   "execution_count": 105,
   "id": "educated-verification",
   "metadata": {},
   "outputs": [
    {
     "data": {
      "text/plain": [
       "True"
      ]
     },
     "execution_count": 105,
     "metadata": {},
     "output_type": "execute_result"
    }
   ],
   "source": [
    "S == T"
   ]
  },
  {
   "cell_type": "markdown",
   "id": "dress-simulation",
   "metadata": {},
   "source": [
    "You can't access elements using the bracket notation because there is no first element, second element, etc. You should never assume that you know the order Python will internally store your list in!"
   ]
  },
  {
   "cell_type": "code",
   "execution_count": 110,
   "id": "related-basis",
   "metadata": {},
   "outputs": [
    {
     "ename": "TypeError",
     "evalue": "'set' object is not subscriptable",
     "output_type": "error",
     "traceback": [
      "\u001b[0;31m---------------------------------------------------------------------------\u001b[0m",
      "\u001b[0;31mTypeError\u001b[0m                                 Traceback (most recent call last)",
      "Cell \u001b[0;32mIn[110], line 1\u001b[0m\n\u001b[0;32m----> 1\u001b[0m \u001b[43mS\u001b[49m\u001b[43m[\u001b[49m\u001b[38;5;241;43m2\u001b[39;49m\u001b[43m]\u001b[49m\n",
      "\u001b[0;31mTypeError\u001b[0m: 'set' object is not subscriptable"
     ]
    }
   ],
   "source": [
    "S[2]"
   ]
  },
  {
   "cell_type": "code",
   "execution_count": 111,
   "id": "egyptian-zambia",
   "metadata": {},
   "outputs": [
    {
     "name": "stdout",
     "output_type": "stream",
     "text": [
      "10\n",
      "3\n",
      "7\n"
     ]
    }
   ],
   "source": [
    "for element in S:\n",
    "    print(element)"
   ]
  },
  {
   "cell_type": "code",
   "execution_count": 112,
   "id": "35ad0cab",
   "metadata": {},
   "outputs": [],
   "source": [
    "# we stopped here at the end of Friday, Jan 20"
   ]
  },
  {
   "cell_type": "code",
   "execution_count": null,
   "id": "522c9019",
   "metadata": {},
   "outputs": [],
   "source": []
  },
  {
   "cell_type": "raw",
   "id": "severe-geometry",
   "metadata": {},
   "source": [
    "Here are some functions you can do with sets:"
   ]
  },
  {
   "cell_type": "code",
   "execution_count": 1,
   "id": "chief-academy",
   "metadata": {},
   "outputs": [],
   "source": [
    "first = {1,5,6}\n",
    "second = {2,4,5}"
   ]
  },
  {
   "cell_type": "code",
   "execution_count": 2,
   "id": "copyrighted-physiology",
   "metadata": {},
   "outputs": [
    {
     "data": {
      "text/plain": [
       "{1, 2, 4, 5, 6}"
      ]
     },
     "execution_count": 2,
     "metadata": {},
     "output_type": "execute_result"
    }
   ],
   "source": [
    "first.union(second)"
   ]
  },
  {
   "cell_type": "code",
   "execution_count": 3,
   "id": "direct-veteran",
   "metadata": {},
   "outputs": [
    {
     "data": {
      "text/plain": [
       "{1, 2, 4, 5, 6}"
      ]
     },
     "execution_count": 3,
     "metadata": {},
     "output_type": "execute_result"
    }
   ],
   "source": [
    "second.union(first)"
   ]
  },
  {
   "cell_type": "code",
   "execution_count": 4,
   "id": "played-induction",
   "metadata": {},
   "outputs": [
    {
     "data": {
      "text/plain": [
       "{5}"
      ]
     },
     "execution_count": 4,
     "metadata": {},
     "output_type": "execute_result"
    }
   ],
   "source": [
    "first.intersection(second)"
   ]
  },
  {
   "cell_type": "code",
   "execution_count": 5,
   "id": "major-percentage",
   "metadata": {},
   "outputs": [
    {
     "data": {
      "text/plain": [
       "{1, 6}"
      ]
     },
     "execution_count": 5,
     "metadata": {},
     "output_type": "execute_result"
    }
   ],
   "source": [
    "first.difference(second) # all of the things IN first, and NOT IN second"
   ]
  },
  {
   "cell_type": "code",
   "execution_count": null,
   "id": "critical-martial",
   "metadata": {},
   "outputs": [],
   "source": [
    "# By the way, you write comments in python by just starting the line with the pound key."
   ]
  },
  {
   "cell_type": "code",
   "execution_count": 7,
   "id": "executive-hudson",
   "metadata": {},
   "outputs": [
    {
     "name": "stdout",
     "output_type": "stream",
     "text": [
      "{1, 5, 6}\n",
      "{2, 4, 5}\n"
     ]
    }
   ],
   "source": [
    "print(first)\n",
    "print(second)\n"
   ]
  },
  {
   "cell_type": "code",
   "execution_count": 8,
   "id": "detailed-topic",
   "metadata": {},
   "outputs": [
    {
     "name": "stdout",
     "output_type": "stream",
     "text": [
      "{1, 5, 6, 9}\n"
     ]
    }
   ],
   "source": [
    "first.add(9)\n",
    "print(first)"
   ]
  },
  {
   "cell_type": "code",
   "execution_count": 9,
   "id": "infrared-vulnerability",
   "metadata": {},
   "outputs": [
    {
     "name": "stdout",
     "output_type": "stream",
     "text": [
      "{1, 5, 6, 9}\n"
     ]
    }
   ],
   "source": [
    "first.add(5)\n",
    "print(first) # No duplicates!"
   ]
  },
  {
   "cell_type": "code",
   "execution_count": 10,
   "id": "seventh-hotel",
   "metadata": {},
   "outputs": [],
   "source": [
    "first.remove(5)"
   ]
  },
  {
   "cell_type": "code",
   "execution_count": 11,
   "id": "duplicate-summit",
   "metadata": {},
   "outputs": [
    {
     "name": "stdout",
     "output_type": "stream",
     "text": [
      "{1, 6, 9}\n"
     ]
    }
   ],
   "source": [
    "print(first)"
   ]
  },
  {
   "cell_type": "code",
   "execution_count": 12,
   "id": "periodic-strand",
   "metadata": {},
   "outputs": [
    {
     "ename": "KeyError",
     "evalue": "5",
     "output_type": "error",
     "traceback": [
      "\u001b[1;31m---------------------------------------------------------------------------\u001b[0m",
      "\u001b[1;31mKeyError\u001b[0m                                  Traceback (most recent call last)",
      "\u001b[1;32m~\\AppData\\Local\\Temp\\ipykernel_3936\\2035756061.py\u001b[0m in \u001b[0;36m<module>\u001b[1;34m\u001b[0m\n\u001b[1;32m----> 1\u001b[1;33m \u001b[0mfirst\u001b[0m\u001b[1;33m.\u001b[0m\u001b[0mremove\u001b[0m\u001b[1;33m(\u001b[0m\u001b[1;36m5\u001b[0m\u001b[1;33m)\u001b[0m\u001b[1;33m\u001b[0m\u001b[1;33m\u001b[0m\u001b[0m\n\u001b[0m",
      "\u001b[1;31mKeyError\u001b[0m: 5"
     ]
    }
   ],
   "source": [
    "first.remove(5) #cant remove something it isnt there"
   ]
  },
  {
   "cell_type": "code",
   "execution_count": 13,
   "id": "1ef44938",
   "metadata": {},
   "outputs": [
    {
     "name": "stdout",
     "output_type": "stream",
     "text": [
      "{1, 6, 9}\n"
     ]
    }
   ],
   "source": [
    "first.discard(5)\n",
    "print(first)"
   ]
  },
  {
   "cell_type": "markdown",
   "id": "falling-convenience",
   "metadata": {},
   "source": [
    "## Tuples"
   ]
  },
  {
   "cell_type": "markdown",
   "id": "parallel-appearance",
   "metadata": {},
   "source": [
    "It starts to get a little tricky here! A tuple is an **ordered sequence** of things."
   ]
  },
  {
   "cell_type": "markdown",
   "id": "identical-synthetic",
   "metadata": {},
   "source": [
    "Wait... isn't that what a list was?"
   ]
  },
  {
   "cell_type": "code",
   "execution_count": 14,
   "id": "described-warning",
   "metadata": {},
   "outputs": [
    {
     "name": "stdout",
     "output_type": "stream",
     "text": [
      "(1, 2, 3, 4)\n"
     ]
    },
    {
     "data": {
      "text/plain": [
       "tuple"
      ]
     },
     "execution_count": 14,
     "metadata": {},
     "output_type": "execute_result"
    }
   ],
   "source": [
    "T = (1,2,3,4)\n",
    "print(T)\n",
    "type(T)"
   ]
  },
  {
   "cell_type": "code",
   "execution_count": 15,
   "id": "massive-piece",
   "metadata": {},
   "outputs": [
    {
     "data": {
      "text/plain": [
       "False"
      ]
     },
     "execution_count": 15,
     "metadata": {},
     "output_type": "execute_result"
    }
   ],
   "source": [
    "L = [1,2,3,4]\n",
    "L == T  # They are different types of objects, so they can't be equal."
   ]
  },
  {
   "cell_type": "markdown",
   "id": "funded-language",
   "metadata": {},
   "source": [
    "The key is that a tuple is what we call **immutable**. Once it's defined, it *cannot* be changed, ever, at all."
   ]
  },
  {
   "cell_type": "code",
   "execution_count": 16,
   "id": "noble-grill",
   "metadata": {},
   "outputs": [
    {
     "name": "stdout",
     "output_type": "stream",
     "text": [
      "(1, 2, 3, 4)\n",
      "3\n"
     ]
    }
   ],
   "source": [
    "print(T)\n",
    "print(T[2])"
   ]
  },
  {
   "cell_type": "code",
   "execution_count": 17,
   "id": "willing-merchant",
   "metadata": {},
   "outputs": [
    {
     "ename": "TypeError",
     "evalue": "'tuple' object does not support item assignment",
     "output_type": "error",
     "traceback": [
      "\u001b[1;31m---------------------------------------------------------------------------\u001b[0m",
      "\u001b[1;31mTypeError\u001b[0m                                 Traceback (most recent call last)",
      "\u001b[1;32m~\\AppData\\Local\\Temp\\ipykernel_3936\\921450053.py\u001b[0m in \u001b[0;36m<module>\u001b[1;34m\u001b[0m\n\u001b[1;32m----> 1\u001b[1;33m \u001b[0mT\u001b[0m\u001b[1;33m[\u001b[0m\u001b[1;36m2\u001b[0m\u001b[1;33m]\u001b[0m \u001b[1;33m=\u001b[0m \u001b[1;36m17\u001b[0m\u001b[1;33m\u001b[0m\u001b[1;33m\u001b[0m\u001b[0m\n\u001b[0m",
      "\u001b[1;31mTypeError\u001b[0m: 'tuple' object does not support item assignment"
     ]
    }
   ],
   "source": [
    "T[2] = 17 #cant change tuples"
   ]
  },
  {
   "cell_type": "markdown",
   "id": "vital-aquarium",
   "metadata": {},
   "source": [
    "It is still possible to do things like concatenate two tuples to make a new bigger tuple, but it's a **new** bigger tuple, and the original one is still unchanged."
   ]
  },
  {
   "cell_type": "code",
   "execution_count": 18,
   "id": "d3d01118",
   "metadata": {},
   "outputs": [
    {
     "data": {
      "text/plain": [
       "(1, 2, 3, 4)"
      ]
     },
     "execution_count": 18,
     "metadata": {},
     "output_type": "execute_result"
    }
   ],
   "source": [
    "T"
   ]
  },
  {
   "cell_type": "code",
   "execution_count": 19,
   "id": "involved-munich",
   "metadata": {},
   "outputs": [
    {
     "data": {
      "text/plain": [
       "(1, 2, 3, 4, 5, 6)"
      ]
     },
     "execution_count": 19,
     "metadata": {},
     "output_type": "execute_result"
    }
   ],
   "source": [
    "T + (5,6) #add new things, but doesnt change the previous one"
   ]
  },
  {
   "cell_type": "code",
   "execution_count": 20,
   "id": "temporal-hours",
   "metadata": {},
   "outputs": [
    {
     "data": {
      "text/plain": [
       "(1, 2, 3, 4)"
      ]
     },
     "execution_count": 20,
     "metadata": {},
     "output_type": "execute_result"
    }
   ],
   "source": [
    "T"
   ]
  },
  {
   "cell_type": "code",
   "execution_count": 21,
   "id": "junior-appliance",
   "metadata": {},
   "outputs": [
    {
     "ename": "AttributeError",
     "evalue": "'tuple' object has no attribute 'append'",
     "output_type": "error",
     "traceback": [
      "\u001b[1;31m---------------------------------------------------------------------------\u001b[0m",
      "\u001b[1;31mAttributeError\u001b[0m                            Traceback (most recent call last)",
      "\u001b[1;32m~\\AppData\\Local\\Temp\\ipykernel_3936\\2524966281.py\u001b[0m in \u001b[0;36m<module>\u001b[1;34m\u001b[0m\n\u001b[1;32m----> 1\u001b[1;33m \u001b[0mT\u001b[0m\u001b[1;33m.\u001b[0m\u001b[0mappend\u001b[0m\u001b[1;33m(\u001b[0m\u001b[1;36m5\u001b[0m\u001b[1;33m)\u001b[0m\u001b[1;33m\u001b[0m\u001b[1;33m\u001b[0m\u001b[0m\n\u001b[0m",
      "\u001b[1;31mAttributeError\u001b[0m: 'tuple' object has no attribute 'append'"
     ]
    }
   ],
   "source": [
    "T.append(5)"
   ]
  },
  {
   "cell_type": "markdown",
   "id": "fundamental-factor",
   "metadata": {},
   "source": [
    "So, we define a new tuple with parentheses, but there's one catch: if your tuple has a single item, it needs a special bit of syntax."
   ]
  },
  {
   "cell_type": "code",
   "execution_count": 22,
   "id": "cosmetic-raleigh",
   "metadata": {},
   "outputs": [
    {
     "name": "stdout",
     "output_type": "stream",
     "text": [
      "1\n"
     ]
    },
    {
     "data": {
      "text/plain": [
       "int"
      ]
     },
     "execution_count": 22,
     "metadata": {},
     "output_type": "execute_result"
    }
   ],
   "source": [
    "x = (1)\n",
    "print(x)\n",
    "type(x)"
   ]
  },
  {
   "cell_type": "code",
   "execution_count": 23,
   "id": "recorded-canadian",
   "metadata": {},
   "outputs": [
    {
     "name": "stdout",
     "output_type": "stream",
     "text": [
      "(1,)\n"
     ]
    },
    {
     "data": {
      "text/plain": [
       "tuple"
      ]
     },
     "execution_count": 23,
     "metadata": {},
     "output_type": "execute_result"
    }
   ],
   "source": [
    "x = (1,)\n",
    "print(x)\n",
    "type(x)"
   ]
  },
  {
   "cell_type": "markdown",
   "id": "military-browser",
   "metadata": {},
   "source": [
    "So, lists are **mutable**, tuples are **immutable**. Why do we need two different versions?"
   ]
  },
  {
   "cell_type": "code",
   "execution_count": 25,
   "id": "cooperative-muscle",
   "metadata": {},
   "outputs": [
    {
     "name": "stdout",
     "output_type": "stream",
     "text": [
      "True\n",
      "False\n"
     ]
    }
   ],
   "source": [
    "L = [1,2,3,4,5,6]\n",
    "print(5 in L)\n",
    "print(7 in L)"
   ]
  },
  {
   "cell_type": "markdown",
   "id": "perceived-morrison",
   "metadata": {},
   "source": [
    "Under-the-hood, when you store things in a set, Python is being super smart about how it stores it. When you add an element to a set you really do not want python to have to scan one-by-one through all the things in the set to make sure it's not already there. So, it uses a clever technique called *hashing*."
   ]
  },
  {
   "cell_type": "markdown",
   "id": "imported-upper",
   "metadata": {},
   "source": [
    "You don't need to know the details right now, but the broad idea is that Python takes each thing in the set and assigns a number to it called its *hash*, and then uses the hashes to make sure there are no duplicates."
   ]
  },
  {
   "cell_type": "code",
   "execution_count": 26,
   "id": "insured-nepal",
   "metadata": {},
   "outputs": [
    {
     "data": {
      "text/plain": [
       "17"
      ]
     },
     "execution_count": 26,
     "metadata": {},
     "output_type": "execute_result"
    }
   ],
   "source": [
    "hash(17)"
   ]
  },
  {
   "cell_type": "code",
   "execution_count": 27,
   "id": "guilty-granny",
   "metadata": {},
   "outputs": [
    {
     "data": {
      "text/plain": [
       "-7332653698625996179"
      ]
     },
     "execution_count": 27,
     "metadata": {},
     "output_type": "execute_result"
    }
   ],
   "source": [
    "hash(\"banana\")"
   ]
  },
  {
   "cell_type": "code",
   "execution_count": 28,
   "id": "vocational-accreditation",
   "metadata": {},
   "outputs": [
    {
     "data": {
      "text/plain": [
       "590899387183067792"
      ]
     },
     "execution_count": 28,
     "metadata": {},
     "output_type": "execute_result"
    }
   ],
   "source": [
    "hash((1,2,3,4))"
   ]
  },
  {
   "cell_type": "code",
   "execution_count": 29,
   "id": "recorded-intellectual",
   "metadata": {},
   "outputs": [
    {
     "ename": "TypeError",
     "evalue": "unhashable type: 'list'",
     "output_type": "error",
     "traceback": [
      "\u001b[1;31m---------------------------------------------------------------------------\u001b[0m",
      "\u001b[1;31mTypeError\u001b[0m                                 Traceback (most recent call last)",
      "\u001b[1;32m~\\AppData\\Local\\Temp\\ipykernel_3936\\2302361394.py\u001b[0m in \u001b[0;36m<module>\u001b[1;34m\u001b[0m\n\u001b[1;32m----> 1\u001b[1;33m \u001b[0mhash\u001b[0m\u001b[1;33m(\u001b[0m\u001b[1;33m[\u001b[0m\u001b[1;36m1\u001b[0m\u001b[1;33m,\u001b[0m\u001b[1;36m2\u001b[0m\u001b[1;33m,\u001b[0m\u001b[1;36m3\u001b[0m\u001b[1;33m]\u001b[0m\u001b[1;33m)\u001b[0m\u001b[1;33m\u001b[0m\u001b[1;33m\u001b[0m\u001b[0m\n\u001b[0m",
      "\u001b[1;31mTypeError\u001b[0m: unhashable type: 'list'"
     ]
    }
   ],
   "source": [
    "hash([1,2,3]) #ops, cant, because you can change the list "
   ]
  },
  {
   "cell_type": "code",
   "execution_count": 30,
   "id": "brutal-popularity",
   "metadata": {},
   "outputs": [],
   "source": []
  },
  {
   "cell_type": "code",
   "execution_count": 32,
   "id": "developing-strike",
   "metadata": {},
   "outputs": [
    {
     "ename": "TypeError",
     "evalue": "unhashable type: 'list'",
     "output_type": "error",
     "traceback": [
      "\u001b[1;31m---------------------------------------------------------------------------\u001b[0m",
      "\u001b[1;31mTypeError\u001b[0m                                 Traceback (most recent call last)",
      "\u001b[1;32m~\\AppData\\Local\\Temp\\ipykernel_3936\\99698089.py\u001b[0m in \u001b[0;36m<module>\u001b[1;34m\u001b[0m\n\u001b[1;32m----> 1\u001b[1;33m \u001b[1;33m{\u001b[0m\u001b[1;33m[\u001b[0m\u001b[1;36m1\u001b[0m\u001b[1;33m,\u001b[0m \u001b[1;36m2\u001b[0m\u001b[1;33m,\u001b[0m \u001b[1;36m3\u001b[0m\u001b[1;33m,\u001b[0m \u001b[1;36m4\u001b[0m\u001b[1;33m]\u001b[0m\u001b[1;33m,\u001b[0m \u001b[1;33m[\u001b[0m\u001b[1;36m1\u001b[0m\u001b[1;33m,\u001b[0m \u001b[1;36m2\u001b[0m\u001b[1;33m]\u001b[0m\u001b[1;33m,\u001b[0m \u001b[1;33m[\u001b[0m\u001b[1;36m7\u001b[0m\u001b[1;33m,\u001b[0m\u001b[1;36m8\u001b[0m\u001b[1;33m]\u001b[0m\u001b[1;33m}\u001b[0m\u001b[1;33m\u001b[0m\u001b[1;33m\u001b[0m\u001b[0m\n\u001b[0m",
      "\u001b[1;31mTypeError\u001b[0m: unhashable type: 'list'"
     ]
    }
   ],
   "source": [
    "{[1, 2, 3, 4], [1, 2], [7,8]} #cant put changable things inside the set"
   ]
  },
  {
   "cell_type": "code",
   "execution_count": 33,
   "id": "enclosed-mixer",
   "metadata": {},
   "outputs": [
    {
     "data": {
      "text/plain": [
       "{(1, 2), (1, 2, 3, 4), (7, 8)}"
      ]
     },
     "execution_count": 33,
     "metadata": {},
     "output_type": "execute_result"
    }
   ],
   "source": [
    "{(1, 2, 3, 4), (1, 2), (7, 8)} #hey, we are happy now"
   ]
  },
  {
   "cell_type": "markdown",
   "id": "mysterious-orchestra",
   "metadata": {},
   "source": [
    "The problem is that you **can't hash mutable things**. Once you get an object's hash, that needs to stay its hash forever. You could hash a list, then appending an element to the list would mean a new hash would have to be generated, and this would mess everything up."
   ]
  },
  {
   "cell_type": "markdown",
   "id": "liquid-bundle",
   "metadata": {},
   "source": [
    "Bottom line: Sometimes you need an immutable version of something, like to put it in a set."
   ]
  },
  {
   "cell_type": "code",
   "execution_count": 36,
   "id": "several-joshua",
   "metadata": {},
   "outputs": [
    {
     "ename": "TypeError",
     "evalue": "unhashable type: 'list'",
     "output_type": "error",
     "traceback": [
      "\u001b[1;31m---------------------------------------------------------------------------\u001b[0m",
      "\u001b[1;31mTypeError\u001b[0m                                 Traceback (most recent call last)",
      "\u001b[1;32m~\\AppData\\Local\\Temp\\ipykernel_3936\\1324738842.py\u001b[0m in \u001b[0;36m<module>\u001b[1;34m\u001b[0m\n\u001b[1;32m----> 1\u001b[1;33m \u001b[1;33m{\u001b[0m\u001b[1;36m5\u001b[0m\u001b[1;33m,\u001b[0m \u001b[1;36m17\u001b[0m\u001b[1;33m,\u001b[0m \u001b[1;33m[\u001b[0m\u001b[1;36m1\u001b[0m\u001b[1;33m,\u001b[0m\u001b[1;36m2\u001b[0m\u001b[1;33m,\u001b[0m\u001b[1;36m3\u001b[0m\u001b[1;33m]\u001b[0m\u001b[1;33m}\u001b[0m\u001b[1;33m\u001b[0m\u001b[1;33m\u001b[0m\u001b[0m\n\u001b[0m",
      "\u001b[1;31mTypeError\u001b[0m: unhashable type: 'list'"
     ]
    }
   ],
   "source": [
    "{5, 17, [1,2,3]}"
   ]
  },
  {
   "cell_type": "code",
   "execution_count": 38,
   "id": "mexican-blackberry",
   "metadata": {},
   "outputs": [
    {
     "data": {
      "text/plain": [
       "{(1, 2, 3), 17, 5}"
      ]
     },
     "execution_count": 38,
     "metadata": {},
     "output_type": "execute_result"
    }
   ],
   "source": [
    "{5, 17, (1,2,3)}"
   ]
  },
  {
   "cell_type": "code",
   "execution_count": 39,
   "id": "divine-taiwan",
   "metadata": {},
   "outputs": [
    {
     "ename": "TypeError",
     "evalue": "unhashable type: 'set'",
     "output_type": "error",
     "traceback": [
      "\u001b[1;31m---------------------------------------------------------------------------\u001b[0m",
      "\u001b[1;31mTypeError\u001b[0m                                 Traceback (most recent call last)",
      "\u001b[1;32m~\\AppData\\Local\\Temp\\ipykernel_3936\\2809088749.py\u001b[0m in \u001b[0;36m<module>\u001b[1;34m\u001b[0m\n\u001b[1;32m----> 1\u001b[1;33m \u001b[1;33m{\u001b[0m\u001b[1;36m5\u001b[0m\u001b[1;33m,\u001b[0m \u001b[1;36m17\u001b[0m\u001b[1;33m,\u001b[0m \u001b[1;33m{\u001b[0m\u001b[1;36m1\u001b[0m\u001b[1;33m,\u001b[0m\u001b[1;36m2\u001b[0m\u001b[1;33m,\u001b[0m\u001b[1;36m3\u001b[0m\u001b[1;33m}\u001b[0m\u001b[1;33m}\u001b[0m\u001b[1;33m\u001b[0m\u001b[1;33m\u001b[0m\u001b[0m\n\u001b[0m",
      "\u001b[1;31mTypeError\u001b[0m: unhashable type: 'set'"
     ]
    }
   ],
   "source": [
    "{5, 17, {1,2,3}}"
   ]
  },
  {
   "cell_type": "markdown",
   "id": "wound-bulgaria",
   "metadata": {},
   "source": [
    "Sets are mutable too! Sets must contain immutable things, but they themselves are mutable.\n",
    "\n",
    "Of course we knew this, because we can do `S.add()`. So what if you want sets in your sets? There is an immutable version of a set called a `frozenset`."
   ]
  },
  {
   "cell_type": "code",
   "execution_count": 40,
   "id": "thorough-microphone",
   "metadata": {},
   "outputs": [
    {
     "data": {
      "text/plain": [
       "{17, 5, frozenset({1, 2, 3})}"
      ]
     },
     "execution_count": 40,
     "metadata": {},
     "output_type": "execute_result"
    }
   ],
   "source": [
    "{ 5, 17, frozenset({1, 2, 3}) }"
   ]
  },
  {
   "cell_type": "markdown",
   "id": "athletic-mixer",
   "metadata": {},
   "source": [
    "When should you use a tuple versus a list?\n",
    "- If it's going to go in a set (or, as we'll see in a second, in a dictionary), it has to be immutable. Thus, use a tuple.\n",
    "- If you need to be able to add and remove things, use a list.\n",
    "- If the size will always stay the same, you probably want a tuple. For example, if you're representing xy-coordiates, use tuples."
   ]
  },
  {
   "cell_type": "markdown",
   "id": "brave-employer",
   "metadata": {},
   "source": [
    "## Dictionaries"
   ]
  },
  {
   "cell_type": "markdown",
   "id": "distributed-trace",
   "metadata": {},
   "source": [
    "You can think of a list as kind of like a mathematical function whose inputs are the the indices 0, 1, ... and whose outputs are the elements of the list."
   ]
  },
  {
   "cell_type": "code",
   "execution_count": 1,
   "id": "varied-contest",
   "metadata": {},
   "outputs": [],
   "source": [
    "L = [\"apple\", \"banana\", \"pear\"]"
   ]
  },
  {
   "cell_type": "code",
   "execution_count": null,
   "id": "legitimate-prison",
   "metadata": {},
   "outputs": [],
   "source": [
    "#  0 -> apple,  1 -> banana,  2 -> pear"
   ]
  },
  {
   "cell_type": "markdown",
   "id": "unavailable-manchester",
   "metadata": {},
   "source": [
    "In a dictionary, the inputs don't have to be integers, they can be any (immutable) object."
   ]
  },
  {
   "cell_type": "code",
   "execution_count": 2,
   "id": "generic-power",
   "metadata": {},
   "outputs": [
    {
     "name": "stdout",
     "output_type": "stream",
     "text": [
      "{17: 'apple', 'banana': 'pear', (1, 2, 3): True}\n"
     ]
    }
   ],
   "source": [
    "# To define  17 -> apple,  banana -> pear,  (1, 2, 3) -> True\n",
    "d = {17:\"apple\", \"banana\":\"pear\", (1,2,3):True}\n",
    "print(d)"
   ]
  },
  {
   "cell_type": "markdown",
   "id": "micro-revelation",
   "metadata": {},
   "source": [
    "The inputs are called **keys** and the outputs are called **values**."
   ]
  },
  {
   "cell_type": "code",
   "execution_count": 3,
   "id": "official-saturday",
   "metadata": {},
   "outputs": [
    {
     "data": {
      "text/plain": [
       "'apple'"
      ]
     },
     "execution_count": 3,
     "metadata": {},
     "output_type": "execute_result"
    }
   ],
   "source": [
    "d[17]"
   ]
  },
  {
   "cell_type": "code",
   "execution_count": 4,
   "id": "broad-cookbook",
   "metadata": {},
   "outputs": [
    {
     "data": {
      "text/plain": [
       "'pear'"
      ]
     },
     "execution_count": 4,
     "metadata": {},
     "output_type": "execute_result"
    }
   ],
   "source": [
    "d[\"banana\"]"
   ]
  },
  {
   "cell_type": "code",
   "execution_count": 5,
   "id": "temporal-exclusion",
   "metadata": {},
   "outputs": [
    {
     "data": {
      "text/plain": [
       "True"
      ]
     },
     "execution_count": 5,
     "metadata": {},
     "output_type": "execute_result"
    }
   ],
   "source": [
    "d[(1,2,3)]"
   ]
  },
  {
   "cell_type": "code",
   "execution_count": 7,
   "id": "available-contrary",
   "metadata": {},
   "outputs": [
    {
     "name": "stdout",
     "output_type": "stream",
     "text": [
      "{17: 'apple', 'banana': 'pear', (1, 2, 3): True, 'pear': 'hello'}\n"
     ]
    }
   ],
   "source": [
    "d[\"pear\"] = \"hello\"\n",
    "d[\"pear\"]\n",
    "print(d)"
   ]
  },
  {
   "cell_type": "markdown",
   "id": "large-prerequisite",
   "metadata": {},
   "source": [
    "You can assign new values too"
   ]
  },
  {
   "cell_type": "code",
   "execution_count": 8,
   "id": "retained-fortune",
   "metadata": {},
   "outputs": [
    {
     "name": "stdout",
     "output_type": "stream",
     "text": [
      "{17: 'apple', 'banana': 'pear', (1, 2, 3): True, 'pear': 'hello', 1: 'one'}\n"
     ]
    }
   ],
   "source": [
    "d[1] = \"one\"\n",
    "print(d)"
   ]
  },
  {
   "cell_type": "code",
   "execution_count": 9,
   "id": "responsible-knife",
   "metadata": {},
   "outputs": [],
   "source": [
    "d[ (2, 3, 5, 7) ] = False"
   ]
  },
  {
   "cell_type": "code",
   "execution_count": 10,
   "id": "c4ad10a2",
   "metadata": {},
   "outputs": [
    {
     "data": {
      "text/plain": [
       "{17: 'apple',\n",
       " 'banana': 'pear',\n",
       " (1, 2, 3): True,\n",
       " 'pear': 'hello',\n",
       " 1: 'one',\n",
       " (2, 3, 5, 7): False}"
      ]
     },
     "execution_count": 10,
     "metadata": {},
     "output_type": "execute_result"
    }
   ],
   "source": [
    "d"
   ]
  },
  {
   "cell_type": "markdown",
   "id": "vulnerable-black",
   "metadata": {},
   "source": [
    "Dictionaries are *super* useful, but take some getting used to. The keys are hashed in the background, which makes looking up the value for a given key very fast."
   ]
  },
  {
   "cell_type": "code",
   "execution_count": 11,
   "id": "available-element",
   "metadata": {},
   "outputs": [
    {
     "name": "stdout",
     "output_type": "stream",
     "text": [
      "17\n",
      "banana\n",
      "(1, 2, 3)\n",
      "pear\n",
      "1\n",
      "(2, 3, 5, 7)\n"
     ]
    }
   ],
   "source": [
    "for k in d.keys():\n",
    "    print(k)"
   ]
  },
  {
   "cell_type": "code",
   "execution_count": 12,
   "id": "increased-functionality",
   "metadata": {},
   "outputs": [
    {
     "name": "stdout",
     "output_type": "stream",
     "text": [
      "apple\n",
      "pear\n",
      "True\n",
      "hello\n",
      "one\n",
      "False\n"
     ]
    }
   ],
   "source": [
    "for v in d.values():\n",
    "    print(v)"
   ]
  },
  {
   "cell_type": "code",
   "execution_count": 13,
   "id": "preceding-sight",
   "metadata": {},
   "outputs": [
    {
     "name": "stdout",
     "output_type": "stream",
     "text": [
      "(17, 'apple')\n",
      "('banana', 'pear')\n",
      "((1, 2, 3), True)\n",
      "('pear', 'hello')\n",
      "(1, 'one')\n",
      "((2, 3, 5, 7), False)\n"
     ]
    }
   ],
   "source": [
    "for pair in d.items():\n",
    "    print(pair)\n",
    "# (key, value)"
   ]
  },
  {
   "cell_type": "markdown",
   "id": "ready-story",
   "metadata": {},
   "source": [
    "## Casting"
   ]
  },
  {
   "cell_type": "markdown",
   "id": "frozen-sauce",
   "metadata": {},
   "source": [
    "You can tell Python to turn an object of one type into an object of another type. This is called **casting**."
   ]
  },
  {
   "cell_type": "code",
   "execution_count": 14,
   "id": "lovely-terrain",
   "metadata": {},
   "outputs": [
    {
     "name": "stdout",
     "output_type": "stream",
     "text": [
      "[3, 7, 7, 12]\n"
     ]
    }
   ],
   "source": [
    "L = [3, 7, 7, 12]\n",
    "print(L)"
   ]
  },
  {
   "cell_type": "code",
   "execution_count": 15,
   "id": "exposed-development",
   "metadata": {},
   "outputs": [
    {
     "name": "stdout",
     "output_type": "stream",
     "text": [
      "(3, 7, 7, 12)\n",
      "[3, 7, 7, 12]\n"
     ]
    }
   ],
   "source": [
    "T = tuple(L)\n",
    "print(T)\n",
    "print(L)"
   ]
  },
  {
   "cell_type": "code",
   "execution_count": 16,
   "id": "flush-cause",
   "metadata": {},
   "outputs": [
    {
     "name": "stdout",
     "output_type": "stream",
     "text": [
      "{3, 12, 7}\n"
     ]
    }
   ],
   "source": [
    "S = set(L) #awesome way to remove duplicates \n",
    "print(S) "
   ]
  },
  {
   "cell_type": "code",
   "execution_count": 17,
   "id": "precise-chile",
   "metadata": {},
   "outputs": [
    {
     "name": "stdout",
     "output_type": "stream",
     "text": [
      "[3, 7, 7, 12]\n"
     ]
    },
    {
     "data": {
      "text/plain": [
       "[3, 12, 7]"
      ]
     },
     "execution_count": 17,
     "metadata": {},
     "output_type": "execute_result"
    }
   ],
   "source": [
    "print(L)\n",
    "list(set(L))"
   ]
  },
  {
   "cell_type": "code",
   "execution_count": 18,
   "id": "instrumental-tracy",
   "metadata": {},
   "outputs": [
    {
     "ename": "TypeError",
     "evalue": "cannot convert dictionary update sequence element #0 to a sequence",
     "output_type": "error",
     "traceback": [
      "\u001b[1;31m---------------------------------------------------------------------------\u001b[0m",
      "\u001b[1;31mTypeError\u001b[0m                                 Traceback (most recent call last)",
      "\u001b[1;32m~\\AppData\\Local\\Temp\\ipykernel_19072\\3770350780.py\u001b[0m in \u001b[0;36m<module>\u001b[1;34m\u001b[0m\n\u001b[1;32m----> 1\u001b[1;33m \u001b[0mdict\u001b[0m\u001b[1;33m(\u001b[0m\u001b[0mL\u001b[0m\u001b[1;33m)\u001b[0m\u001b[1;33m\u001b[0m\u001b[1;33m\u001b[0m\u001b[0m\n\u001b[0m",
      "\u001b[1;31mTypeError\u001b[0m: cannot convert dictionary update sequence element #0 to a sequence"
     ]
    }
   ],
   "source": [
    "dict(L) #cant, we need keys "
   ]
  },
  {
   "cell_type": "code",
   "execution_count": 19,
   "id": "reserved-hunter",
   "metadata": {},
   "outputs": [
    {
     "data": {
      "text/plain": [
       "'[3, 7, 7, 12]'"
      ]
     },
     "execution_count": 19,
     "metadata": {},
     "output_type": "execute_result"
    }
   ],
   "source": [
    "str(L)"
   ]
  },
  {
   "cell_type": "code",
   "execution_count": 20,
   "id": "experimental-defeat",
   "metadata": {},
   "outputs": [
    {
     "ename": "TypeError",
     "evalue": "int() argument must be a string, a bytes-like object or a number, not 'list'",
     "output_type": "error",
     "traceback": [
      "\u001b[1;31m---------------------------------------------------------------------------\u001b[0m",
      "\u001b[1;31mTypeError\u001b[0m                                 Traceback (most recent call last)",
      "\u001b[1;32m~\\AppData\\Local\\Temp\\ipykernel_19072\\3332839475.py\u001b[0m in \u001b[0;36m<module>\u001b[1;34m\u001b[0m\n\u001b[1;32m----> 1\u001b[1;33m \u001b[0mint\u001b[0m\u001b[1;33m(\u001b[0m\u001b[0mL\u001b[0m\u001b[1;33m)\u001b[0m\u001b[1;33m\u001b[0m\u001b[1;33m\u001b[0m\u001b[0m\n\u001b[0m",
      "\u001b[1;31mTypeError\u001b[0m: int() argument must be a string, a bytes-like object or a number, not 'list'"
     ]
    }
   ],
   "source": [
    "int(L)"
   ]
  },
  {
   "cell_type": "code",
   "execution_count": 21,
   "id": "dangerous-password",
   "metadata": {},
   "outputs": [],
   "source": [
    "d = {1:\"one\", 2:\"two\", 3:\"three\"}"
   ]
  },
  {
   "cell_type": "code",
   "execution_count": 22,
   "id": "inside-collective",
   "metadata": {},
   "outputs": [
    {
     "data": {
      "text/plain": [
       "[1, 2, 3]"
      ]
     },
     "execution_count": 22,
     "metadata": {},
     "output_type": "execute_result"
    }
   ],
   "source": [
    "list(d) # we lost some data, we only get the keys"
   ]
  },
  {
   "cell_type": "code",
   "execution_count": 23,
   "id": "207c3592",
   "metadata": {},
   "outputs": [
    {
     "name": "stdout",
     "output_type": "stream",
     "text": [
      "1 one\n",
      "2 two\n",
      "3 three\n"
     ]
    }
   ],
   "source": [
    "for key in d:\n",
    "    print(key, d[key])"
   ]
  },
  {
   "cell_type": "markdown",
   "id": "vertical-pulse",
   "metadata": {},
   "source": [
    "<hr style=\"border:1px solid black\"> </hr>"
   ]
  },
  {
   "cell_type": "markdown",
   "id": "duplicate-homework",
   "metadata": {},
   "source": [
    "Time for some practice!"
   ]
  },
  {
   "cell_type": "markdown",
   "id": "metric-notebook",
   "metadata": {},
   "source": [
    "https://projecteuler.net/"
   ]
  },
  {
   "cell_type": "markdown",
   "id": "refined-missouri",
   "metadata": {},
   "source": [
    "Problem 1: mod, looping, and comprehensions"
   ]
  },
  {
   "cell_type": "markdown",
   "id": "global-commercial",
   "metadata": {},
   "source": [
    "Problem 2: negative indexing"
   ]
  },
  {
   "cell_type": "markdown",
   "id": "allied-entertainment",
   "metadata": {},
   "source": [
    "Problem 5: all / any, and thinking mathematically"
   ]
  },
  {
   "cell_type": "markdown",
   "id": "tracked-married",
   "metadata": {},
   "source": [
    "<hr style=\"border:1px solid black\"> </hr>"
   ]
  },
  {
   "cell_type": "markdown",
   "id": "iraqi-delta",
   "metadata": {},
   "source": [
    "If we list all the natural numbers below 10 that are multiples of 3 or 5, we get 3, 5, 6 and 9. The sum of these multiples is 23.\n",
    "\n",
    "Find the sum of all the multiples of 3 or 5 below 1000."
   ]
  },
  {
   "cell_type": "code",
   "execution_count": null,
   "id": "imperial-medline",
   "metadata": {},
   "outputs": [],
   "source": [
    "# mod - modulus\n",
    "#  a % b -- the remainder you get when you divide a by b\n",
    "\n",
    "# list comprehensions\n",
    "# += "
   ]
  },
  {
   "cell_type": "code",
   "execution_count": 28,
   "id": "eligible-salmon",
   "metadata": {},
   "outputs": [
    {
     "data": {
      "text/plain": [
       "233168"
      ]
     },
     "execution_count": 28,
     "metadata": {},
     "output_type": "execute_result"
    }
   ],
   "source": [
    "#my solution \n",
    "list_of_num = []\n",
    "for i in range(1,1000):\n",
    "    if i%5==0 or i%3==0:\n",
    "        list_of_num.append(i)\n",
    "sum(list_of_num)"
   ]
  },
  {
   "cell_type": "code",
   "execution_count": 31,
   "id": "51fcce7c",
   "metadata": {},
   "outputs": [
    {
     "data": {
      "text/plain": [
       "233168"
      ]
     },
     "execution_count": 31,
     "metadata": {},
     "output_type": "execute_result"
    }
   ],
   "source": [
    "#professor solution\n",
    "s=0\n",
    "for number in range(1,1000):\n",
    "    if number % 3 == 0 or number% 5 == 0:\n",
    "        s+=number\n",
    "s"
   ]
  },
  {
   "cell_type": "code",
   "execution_count": 34,
   "id": "cf3f2e6d",
   "metadata": {},
   "outputs": [
    {
     "data": {
      "text/plain": [
       "233168"
      ]
     },
     "execution_count": 34,
     "metadata": {},
     "output_type": "execute_result"
    }
   ],
   "source": [
    "#better solution\n",
    "# list comprehension \n",
    "# a way of defining a list, maybe with a condition, in one line\n",
    "multiples = [number for number in range(1,1000) if number % 3 == 0 or number% 5 == 0]\n",
    "sum(multiples)\n",
    "#set builder notation in match\n",
    "# {n^2:1<=n<=100 and ..... look at notes}"
   ]
  },
  {
   "cell_type": "markdown",
   "id": "english-means",
   "metadata": {},
   "source": [
    "Each new term in the Fibonacci sequence is generated by adding the previous two terms. By starting with 1 and 2, the first 10 terms will be:\n",
    "\n",
    "1, 2, 3, 5, 8, 13, 21, 34, 55, 89, ...\n",
    "\n",
    "By considering the terms in the Fibonacci sequence whose values do not exceed four million, find the sum of the even-valued terms."
   ]
  },
  {
   "cell_type": "code",
   "execution_count": 4,
   "id": "according-equipment",
   "metadata": {},
   "outputs": [
    {
     "name": "stdout",
     "output_type": "stream",
     "text": [
      "4613732\n"
     ]
    }
   ],
   "source": [
    "# to get last element in a list, you can use L[-1]\n",
    "L = [1,2]\n",
    "s = 2\n",
    "while L[-1] < 4_000_000: #underscores do nothing, but help to see grouping\n",
    "    new_n = L[-1]+L[-2]\n",
    "    L.append(new_n)\n",
    "    if new_n % 2 == 0 and new_n < 4_000_000:\n",
    "        s += new_n\n",
    "print(s)\n",
    "    \n"
   ]
  },
  {
   "cell_type": "code",
   "execution_count": 6,
   "id": "af3380eb",
   "metadata": {},
   "outputs": [
    {
     "name": "stdout",
     "output_type": "stream",
     "text": [
      "4613732\n"
     ]
    }
   ],
   "source": [
    "#another version\n",
    "# to get last element in a list, you can use L[-1]\n",
    "L = [1,2]\n",
    "s = 0\n",
    "while L[-1] < 4_000_000: #underscores do nothing, but help to see grouping\n",
    "    if L[-1] % 2 == 0:\n",
    "        s += L[-1]\n",
    "    new_n = L[-1]+L[-2]\n",
    "    L.append(new_n)\n",
    "    \n",
    "print(s)\n",
    "    \n"
   ]
  },
  {
   "cell_type": "markdown",
   "id": "comic-vietnam",
   "metadata": {},
   "source": [
    "2520 is the smallest number that can be divided by each of the numbers from 1 to 10 without any remainder.\n",
    "\n",
    "What is the smallest positive number that is evenly divisible by all of the numbers from 1 to 20?"
   ]
  },
  {
   "cell_type": "code",
   "execution_count": null,
   "id": "civil-sterling",
   "metadata": {},
   "outputs": [],
   "source": [
    "# all / any"
   ]
  },
  {
   "cell_type": "code",
   "execution_count": 15,
   "id": "optional-detail",
   "metadata": {},
   "outputs": [
    {
     "ename": "KeyboardInterrupt",
     "evalue": "",
     "output_type": "error",
     "traceback": [
      "\u001b[1;31m---------------------------------------------------------------------------\u001b[0m",
      "\u001b[1;31mKeyboardInterrupt\u001b[0m                         Traceback (most recent call last)",
      "\u001b[1;32m~\\AppData\\Local\\Temp\\ipykernel_14020\\377390682.py\u001b[0m in \u001b[0;36m<module>\u001b[1;34m\u001b[0m\n\u001b[0;32m      2\u001b[0m \u001b[0mnum\u001b[0m \u001b[1;33m=\u001b[0m \u001b[1;36m1\u001b[0m\u001b[1;33m\u001b[0m\u001b[1;33m\u001b[0m\u001b[0m\n\u001b[0;32m      3\u001b[0m \u001b[1;32mwhile\u001b[0m \u001b[1;32mTrue\u001b[0m\u001b[1;33m:\u001b[0m\u001b[1;33m\u001b[0m\u001b[1;33m\u001b[0m\u001b[0m\n\u001b[1;32m----> 4\u001b[1;33m     \u001b[1;32mif\u001b[0m \u001b[0mall\u001b[0m\u001b[1;33m(\u001b[0m\u001b[1;33m[\u001b[0m\u001b[1;33m(\u001b[0m\u001b[0mnum\u001b[0m \u001b[1;33m%\u001b[0m \u001b[0mi\u001b[0m \u001b[1;33m==\u001b[0m \u001b[1;36m0\u001b[0m\u001b[1;33m)\u001b[0m \u001b[1;32mfor\u001b[0m \u001b[0mi\u001b[0m \u001b[1;32min\u001b[0m \u001b[0mrange\u001b[0m\u001b[1;33m(\u001b[0m\u001b[1;36m1\u001b[0m\u001b[1;33m,\u001b[0m\u001b[1;36m21\u001b[0m\u001b[1;33m)\u001b[0m\u001b[1;33m]\u001b[0m\u001b[1;33m)\u001b[0m\u001b[1;33m:\u001b[0m\u001b[1;33m\u001b[0m\u001b[1;33m\u001b[0m\u001b[0m\n\u001b[0m\u001b[0;32m      5\u001b[0m         \u001b[0mprint\u001b[0m\u001b[1;33m(\u001b[0m\u001b[0mnum\u001b[0m\u001b[1;33m)\u001b[0m\u001b[1;33m\u001b[0m\u001b[1;33m\u001b[0m\u001b[0m\n\u001b[0;32m      6\u001b[0m         \u001b[1;32mbreak\u001b[0m\u001b[1;33m\u001b[0m\u001b[1;33m\u001b[0m\u001b[0m\n",
      "\u001b[1;32m~\\AppData\\Local\\Temp\\ipykernel_14020\\377390682.py\u001b[0m in \u001b[0;36m<listcomp>\u001b[1;34m(.0)\u001b[0m\n\u001b[0;32m      2\u001b[0m \u001b[0mnum\u001b[0m \u001b[1;33m=\u001b[0m \u001b[1;36m1\u001b[0m\u001b[1;33m\u001b[0m\u001b[1;33m\u001b[0m\u001b[0m\n\u001b[0;32m      3\u001b[0m \u001b[1;32mwhile\u001b[0m \u001b[1;32mTrue\u001b[0m\u001b[1;33m:\u001b[0m\u001b[1;33m\u001b[0m\u001b[1;33m\u001b[0m\u001b[0m\n\u001b[1;32m----> 4\u001b[1;33m     \u001b[1;32mif\u001b[0m \u001b[0mall\u001b[0m\u001b[1;33m(\u001b[0m\u001b[1;33m[\u001b[0m\u001b[1;33m(\u001b[0m\u001b[0mnum\u001b[0m \u001b[1;33m%\u001b[0m \u001b[0mi\u001b[0m \u001b[1;33m==\u001b[0m \u001b[1;36m0\u001b[0m\u001b[1;33m)\u001b[0m \u001b[1;32mfor\u001b[0m \u001b[0mi\u001b[0m \u001b[1;32min\u001b[0m \u001b[0mrange\u001b[0m\u001b[1;33m(\u001b[0m\u001b[1;36m1\u001b[0m\u001b[1;33m,\u001b[0m\u001b[1;36m21\u001b[0m\u001b[1;33m)\u001b[0m\u001b[1;33m]\u001b[0m\u001b[1;33m)\u001b[0m\u001b[1;33m:\u001b[0m\u001b[1;33m\u001b[0m\u001b[1;33m\u001b[0m\u001b[0m\n\u001b[0m\u001b[0;32m      5\u001b[0m         \u001b[0mprint\u001b[0m\u001b[1;33m(\u001b[0m\u001b[0mnum\u001b[0m\u001b[1;33m)\u001b[0m\u001b[1;33m\u001b[0m\u001b[1;33m\u001b[0m\u001b[0m\n\u001b[0;32m      6\u001b[0m         \u001b[1;32mbreak\u001b[0m\u001b[1;33m\u001b[0m\u001b[1;33m\u001b[0m\u001b[0m\n",
      "\u001b[1;31mKeyboardInterrupt\u001b[0m: "
     ]
    }
   ],
   "source": [
    "# brute force but slow\n",
    "num = 1\n",
    "while True:\n",
    "    if all([(num % i == 0) for i in range(1,21)]):\n",
    "        print(num)\n",
    "        break\n",
    "    num+=1\n",
    "    "
   ]
  },
  {
   "cell_type": "code",
   "execution_count": 10,
   "id": "d81c103e",
   "metadata": {},
   "outputs": [
    {
     "data": {
      "text/plain": [
       "True"
      ]
     },
     "execution_count": 10,
     "metadata": {},
     "output_type": "execute_result"
    }
   ],
   "source": [
    "num =1500\n",
    "[(num % i == 0) for i in range(1,11)]\n",
    "\n",
    "# \"all\" and \"any\"\n",
    "#give them a list of trues/falses\n",
    "#all(L) gives you true if and onl if evebry entry in L is true\n",
    "#any(L) gives you true if \"any\" entry is L is true\n",
    "\n",
    "print(all([(num % i == 0) for i in range(1,11)]))\n",
    "print(any([(num % i == 0) for i in range(1,11)]))"
   ]
  },
  {
   "cell_type": "code",
   "execution_count": 16,
   "id": "24a99d87",
   "metadata": {},
   "outputs": [
    {
     "data": {
      "text/plain": [
       "6"
      ]
     },
     "execution_count": 16,
     "metadata": {},
     "output_type": "execute_result"
    }
   ],
   "source": [
    "#using mathematical thinking\n",
    "#least common multiple\n",
    "import math\n",
    "math.lcm(1,2,3...10)\n"
   ]
  },
  {
   "cell_type": "code",
   "execution_count": 20,
   "id": "6c99a3f2",
   "metadata": {},
   "outputs": [
    {
     "name": "stdout",
     "output_type": "stream",
     "text": [
      "232792560\n"
     ]
    }
   ],
   "source": [
    "#make it a little quicker \n",
    "num = 20*19\n",
    "primes = [10,11,13,14,15,16,17,18]\n",
    "while True:\n",
    "    if all([(num % i == 0) for i in primes]):\n",
    "        print(num)\n",
    "        break\n",
    "    num+=20*19\n",
    "    "
   ]
  }
 ],
 "metadata": {
  "kernelspec": {
   "display_name": "Python 3 (ipykernel)",
   "language": "python",
   "name": "python3"
  },
  "language_info": {
   "codemirror_mode": {
    "name": "ipython",
    "version": 3
   },
   "file_extension": ".py",
   "mimetype": "text/x-python",
   "name": "python",
   "nbconvert_exporter": "python",
   "pygments_lexer": "ipython3",
   "version": "3.9.13"
  }
 },
 "nbformat": 4,
 "nbformat_minor": 5
}
