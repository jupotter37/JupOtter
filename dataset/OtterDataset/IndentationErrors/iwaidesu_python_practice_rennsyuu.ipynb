{
 "cells": [
  {
   "cell_type": "code",
   "execution_count": 1,
   "metadata": {},
   "outputs": [
    {
     "ename": "IndentationError",
     "evalue": "expected an indented block after 'if' statement on line 10 (1614212787.py, line 11)",
     "output_type": "error",
     "traceback": [
      "\u001b[1;36m  Cell \u001b[1;32mIn[1], line 11\u001b[1;36m\u001b[0m\n\u001b[1;33m    print(i)\u001b[0m\n\u001b[1;37m    ^\u001b[0m\n\u001b[1;31mIndentationError\u001b[0m\u001b[1;31m:\u001b[0m expected an indented block after 'if' statement on line 10\n"
     ]
    }
   ],
   "source": [
    "# 問題1: 1から10までの数字を出力してください。\n",
    "# 問題1の解答\n",
    "print(\"問題1の解答:\")\n",
    "for i in range(1, 11):\n",
    "    print(i)\n",
    "# 問題2: 次のリストの中から偶数のみを出力してください。\n",
    "numbers = [1, 2, 3, 4, 5, 6, 7, 8, 9, 10]\n",
    "print(\"問題2の解答:\")\n",
    "for i in range(1,11):\n",
    "    if i % 2 ==0:\n",
    "    print(i)\n",
    "# 問題3: 次の文字列の中の母音（a, e, i, o, u）の数を数えてください。\n",
    "text = \"Hello, how are you doing today?\"\n",
    "\n",
    "# 問題4: 次のリストの要素を逆順に出力してください。\n",
    "fruits = [\"apple\", \"banana\", \"cherry\", \"date\"]\n",
    "\n",
    "# 問題5: 1から100までの数字の中で、3の倍数かつ5の倍数である数を出力してください。\n",
    "\n"
   ]
  },
  {
   "cell_type": "code",
   "execution_count": 10,
   "metadata": {},
   "outputs": [
    {
     "name": "stdout",
     "output_type": "stream",
     "text": [
      "\n",
      "問題2の解答:\n",
      "2\n",
      "4\n",
      "6\n",
      "8\n",
      "10\n"
     ]
    }
   ],
   "source": [
    "# 問題2の解答\n",
    "print(\"\\n問題2の解答:\")\n",
    "for num in numbers:\n",
    "    if num % 2 == 0:\n",
    "        print(num)"
   ]
  },
  {
   "cell_type": "code",
   "execution_count": 2,
   "metadata": {},
   "outputs": [
    {
     "name": "stdout",
     "output_type": "stream",
     "text": [
      "\n",
      "問題3の解答:\n",
      "母音の数: 11\n"
     ]
    }
   ],
   "source": [
    "text = \"Hello, how are you doing today?\"\n",
    "print(\"\\n問題3の解答:\")\n",
    "vowels = \"aiueo\"\n",
    "count=0\n",
    "for char in text.lower():\n",
    "    if char in vowels:\n",
    "        count +=1\n",
    "print(f\"母音の数: {count}\")  \n",
    "     "
   ]
  },
  {
   "cell_type": "code",
   "execution_count": 25,
   "metadata": {},
   "outputs": [
    {
     "name": "stdout",
     "output_type": "stream",
     "text": [
      "\n",
      "問題4の解答:\n",
      "date\n",
      "cherry\n",
      "banana\n",
      "apple\n"
     ]
    }
   ],
   "source": [
    "# 問題4: 次のリストの要素を逆順に出力してください。\n",
    "fruits = [\"apple\", \"banana\", \"cherry\", \"date\"]\n",
    "print(\"\\n問題4の解答:\")\n",
    "for fruit in reversed(fruits):\n",
    "    print(fruit)"
   ]
  },
  {
   "cell_type": "code",
   "execution_count": 28,
   "metadata": {},
   "outputs": [
    {
     "name": "stdout",
     "output_type": "stream",
     "text": [
      "\n",
      "問題5の解答:\n",
      "15\n",
      "30\n",
      "45\n",
      "60\n",
      "75\n",
      "90\n"
     ]
    }
   ],
   "source": [
    "# 問題5: 1から100までの数字の中で、3の倍数かつ5の倍数である数を出力してください。\n",
    "print(\"\\n問題5の解答:\")\n",
    "for num in range(1,101):\n",
    "    if num % 3 == 0 and num % 5 ==0:\n",
    "        print(num)"
   ]
  },
  {
   "cell_type": "code",
   "execution_count": 31,
   "metadata": {},
   "outputs": [
    {
     "name": "stdout",
     "output_type": "stream",
     "text": [
      "こんにちは、いわいさん！\n"
     ]
    }
   ],
   "source": [
    "user_name = input(\"あなたの名前を入力してください: \")\n",
    "print(\"こんにちは、\" + user_name + \"さん！\")"
   ]
  },
  {
   "cell_type": "code",
   "execution_count": 32,
   "metadata": {},
   "outputs": [
    {
     "name": "stdout",
     "output_type": "stream",
     "text": [
      "成人ですね。お酒を楽しむ際は適量を心がけましょう。\n"
     ]
    }
   ],
   "source": [
    "age = input(\"あなたの年齢を入力してください: \")\n",
    "age = int(age)  # 入力された文字列を整数に変換\n",
    "\n",
    "if age < 20:\n",
    "    print(\"未成年ですね。お酒は20歳になってからにしましょう。\")\n",
    "else:\n",
    "    print(\"成人ですね。お酒を楽しむ際は適量を心がけましょう。\")"
   ]
  },
  {
   "cell_type": "code",
   "execution_count": 33,
   "metadata": {},
   "outputs": [
    {
     "name": "stdout",
     "output_type": "stream",
     "text": [
      "1\n",
      "2\n",
      "3\n",
      "4\n",
      "5\n"
     ]
    }
   ],
   "source": [
    "for i in range(1, 6):\n",
    "    print(i)"
   ]
  },
  {
   "cell_type": "code",
   "execution_count": 34,
   "metadata": {},
   "outputs": [
    {
     "name": "stdout",
     "output_type": "stream",
     "text": [
      "2 は偶数です\n",
      "4 は偶数です\n",
      "6 は偶数です\n",
      "8 は偶数です\n",
      "10 は偶数です\n"
     ]
    }
   ],
   "source": [
    "# 1から10までの偶数を表示するプログラム\n",
    "for i in range(1, 11):\n",
    "    if i % 2 == 0:  # iを2で割った余りが0なら偶数\n",
    "        print(i, \"は偶数です\")"
   ]
  },
  {
   "cell_type": "code",
   "execution_count": 35,
   "metadata": {},
   "outputs": [
    {
     "name": "stdout",
     "output_type": "stream",
     "text": [
      "['りんご', 'バナナ', 'オレンジ', 'ぶどう']\n",
      "りんご\n",
      "バナナ\n",
      "オレンジ\n",
      "ぶどう\n",
      "リストの長さ: 4\n",
      "メロンを追加した後: ['りんご', 'バナナ', 'オレンジ', 'ぶどう', 'メロン']\n",
      "2番目の果物: バナナ\n"
     ]
    }
   ],
   "source": [
    "# 果物のリストを作成\n",
    "fruits = [\"りんご\", \"バナナ\", \"オレンジ\", \"ぶどう\"]\n",
    "\n",
    "# リストの内容を表示\n",
    "print(fruits)\n",
    "\n",
    "# リストの各項目を順番に表示\n",
    "for fruit in fruits:\n",
    "    print(fruit)\n",
    "\n",
    "# リストの長さ（項目数）を表示\n",
    "print(\"リストの長さ:\", len(fruits))\n",
    "\n",
    "# リストに新しい項目を追加\n",
    "fruits.append(\"メロン\")\n",
    "print(\"メロンを追加した後:\", fruits)\n",
    "\n",
    "# リストの特定の位置の項目を取得\n",
    "print(\"2番目の果物:\", fruits[1])  # 注意: インデックスは0から始まります"
   ]
  },
  {
   "cell_type": "code",
   "execution_count": 36,
   "metadata": {},
   "outputs": [
    {
     "name": "stdout",
     "output_type": "stream",
     "text": [
      "こんにちは、太郎さん！\n",
      "こんにちは、花子さん！\n",
      "5 + 3 = 8\n",
      "こんにちは、iwaiさん！\n",
      "3 + 99 = 102\n"
     ]
    }
   ],
   "source": [
    "# 挨拶をする関数を定義\n",
    "def greet(name):\n",
    "    return f\"こんにちは、{name}さん！\"\n",
    "\n",
    "# 2つの数字を足す関数を定義\n",
    "def add_numbers(a, b):\n",
    "    return a + b\n",
    "\n",
    "# 関数を使ってみる\n",
    "print(greet(\"太郎\"))\n",
    "print(greet(\"花子\"))\n",
    "\n",
    "result = add_numbers(5, 3)\n",
    "print(f\"5 + 3 = {result}\")\n",
    "\n",
    "# ユーザー入力を使って関数を呼び出す\n",
    "user_name = input(\"あなたの名前を入力してください: \")\n",
    "print(greet(user_name))\n",
    "\n",
    "num1 = int(input(\"1つ目の数字を入力してください: \"))\n",
    "num2 = int(input(\"2つ目の数字を入力してください: \"))\n",
    "sum_result = add_numbers(num1, num2)\n",
    "print(f\"{num1} + {num2} = {sum_result}\")"
   ]
  },
  {
   "cell_type": "code",
   "execution_count": 37,
   "metadata": {},
   "outputs": [
    {
     "name": "stdout",
     "output_type": "stream",
     "text": [
      "23.0度（摂氏）は、73.4度（華氏）です。\n"
     ]
    }
   ],
   "source": [
    "def celsius_to_fahrenheit(celsius):\n",
    "    fahrenheit = (celsius * 9/5) + 32\n",
    "    return fahrenheit\n",
    "\n",
    "celsius = float(input(\"摂氏温度を入力してください: \"))\n",
    "result = celsius_to_fahrenheit(celsius)\n",
    "print(f\"{celsius}度（摂氏）は、{result}度（華氏）です。\")"
   ]
  },
  {
   "cell_type": "code",
   "execution_count": 38,
   "metadata": {},
   "outputs": [
    {
     "name": "stdout",
     "output_type": "stream",
     "text": [
      "23.0度（摂氏）は、73.40度（華氏）です。\n"
     ]
    }
   ],
   "source": [
    "def celsius_to_fahrenheit(celsius):\n",
    "    return (celsius * 9/5) + 32\n",
    "\n",
    "def fahrenheit_to_celsius(fahrenheit):\n",
    "    return (fahrenheit - 32) * 5/9\n",
    "\n",
    "choice = input(\"変換したいのは？ (1: 摂氏→華氏, 2: 華氏→摂氏): \")\n",
    "\n",
    "if choice == \"1\":\n",
    "    celsius = float(input(\"摂氏温度を入力してください: \"))\n",
    "    result = celsius_to_fahrenheit(celsius)\n",
    "    print(f\"{celsius}度（摂氏）は、{result:.2f}度（華氏）です。\")\n",
    "elif choice == \"2\":\n",
    "    fahrenheit = float(input(\"華氏温度を入力してください: \"))\n",
    "    result = fahrenheit_to_celsius(fahrenheit)\n",
    "    print(f\"{fahrenheit}度（華氏）は、{result:.2f}度（摂氏）です。\")\n",
    "else:\n",
    "    print(\"無効な選択です。1か2を入力してください。\")"
   ]
  },
  {
   "cell_type": "code",
   "execution_count": 39,
   "metadata": {},
   "outputs": [
    {
     "ename": "ModuleNotFoundError",
     "evalue": "No module named 'jinja2'",
     "output_type": "error",
     "traceback": [
      "\u001b[1;31m---------------------------------------------------------------------------\u001b[0m",
      "\u001b[1;31mModuleNotFoundError\u001b[0m                       Traceback (most recent call last)",
      "Cell \u001b[1;32mIn[39], line 2\u001b[0m\n\u001b[0;32m      1\u001b[0m \u001b[38;5;28;01mimport\u001b[39;00m \u001b[38;5;21;01mpandas\u001b[39;00m \u001b[38;5;28;01mas\u001b[39;00m \u001b[38;5;21;01mpd\u001b[39;00m\n\u001b[1;32m----> 2\u001b[0m \u001b[38;5;28;01mfrom\u001b[39;00m \u001b[38;5;21;01mjinja2\u001b[39;00m \u001b[38;5;28;01mimport\u001b[39;00m Template\n\u001b[0;32m      4\u001b[0m \u001b[38;5;28;01mdef\u001b[39;00m \u001b[38;5;21mexcel_to_html\u001b[39m(excel_file, template_file, output_file):\n\u001b[0;32m      5\u001b[0m     \u001b[38;5;66;03m# Excelファイルを読み込む\u001b[39;00m\n\u001b[0;32m      6\u001b[0m     df \u001b[38;5;241m=\u001b[39m pd\u001b[38;5;241m.\u001b[39mread_excel(excel_file)\n",
      "\u001b[1;31mModuleNotFoundError\u001b[0m: No module named 'jinja2'"
     ]
    }
   ],
   "source": [
    "import pandas as pd\n",
    "from jinja2 import Template\n",
    "\n",
    "def excel_to_html(excel_file, template_file, output_file):\n",
    "    # Excelファイルを読み込む\n",
    "    df = pd.read_excel(excel_file)\n",
    "    \n",
    "    # HTMLテンプレートを読み込む\n",
    "    with open(template_file, 'r', encoding='utf-8') as file:\n",
    "        template_content = file.read()\n",
    "    \n",
    "    # Jinja2テンプレートを作成\n",
    "    template = Template(template_content)\n",
    "    \n",
    "    # データをHTMLに変換\n",
    "    html_output = template.render(data=df.to_dict(orient='records'))\n",
    "    \n",
    "    # 結果をファイルに書き込む\n",
    "    with open(output_file, 'w', encoding='utf-8') as file:\n",
    "        file.write(html_output)\n",
    "\n",
    "# 使用例\n",
    "excel_to_html('input.xlsx', 'template.html', 'output.html')"
   ]
  }
 ],
 "metadata": {
  "kernelspec": {
   "display_name": "Python 3",
   "language": "python",
   "name": "python3"
  },
  "language_info": {
   "codemirror_mode": {
    "name": "ipython",
    "version": 3
   },
   "file_extension": ".py",
   "mimetype": "text/x-python",
   "name": "python",
   "nbconvert_exporter": "python",
   "pygments_lexer": "ipython3",
   "version": "3.11.4"
  }
 },
 "nbformat": 4,
 "nbformat_minor": 2
}
