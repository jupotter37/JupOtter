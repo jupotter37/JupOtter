{
 "cells": [
  {
   "cell_type": "markdown",
   "id": "7abfabff-2944-4cc7-8dd1-077a4484126d",
   "metadata": {},
   "source": [
    "# List \n",
    "* Operation with loop\n",
    "* apply any operation on element"
   ]
  },
  {
   "cell_type": "code",
   "execution_count": 1,
   "id": "cff83368-91a1-488c-bb91-7f1c3d0401c7",
   "metadata": {},
   "outputs": [
    {
     "name": "stdout",
     "output_type": "stream",
     "text": [
      "['Sir zia', 'Qasim', 'Numan']\n"
     ]
    }
   ],
   "source": [
    "# in jupyter notebook we don't hav a intelesence option.\n",
    "name : list[str] = [\"Sir zia\", \"Qasim\",\"Numan\"]\n",
    "print(name)"
   ]
  },
  {
   "cell_type": "code",
   "execution_count": 19,
   "id": "0e7e41df-4c08-49d8-ab60-b89ca3c078c2",
   "metadata": {},
   "outputs": [
    {
     "name": "stdout",
     "output_type": "stream",
     "text": [
      "Sir zia\n",
      "Qasim\n",
      "numan\n"
     ]
    }
   ],
   "source": [
    "names : list[str] = [\"Sir zia\", \"Qasim\",\"numan\"]\n",
    "# through for loop we can iterate over each element. \n",
    "# Names will be assigned to name, meaning names element will be assigned to name, and for will iterate over each element, and excecute each element saperately.\n",
    "for name in names:\n",
    "    print(name)"
   ]
  },
  {
   "cell_type": "markdown",
   "id": "3b182e26-6ebe-45b2-aa37-deace69d32e2",
   "metadata": {},
   "source": [
    "# Structure of loop\n",
    "### for `name` in `names` `:`\n",
    "###    print(`name`)"
   ]
  },
  {
   "cell_type": "code",
   "execution_count": 21,
   "id": "94c5d57c-dd82-4568-8c21-9605173af73a",
   "metadata": {
    "scrolled": true
   },
   "outputs": [
    {
     "name": "stdout",
     "output_type": "stream",
     "text": [
      "Welcome Dear Teacher Sir Zia\n",
      "Welcome Dear Teacher Qasim\n",
      "Welcome Dear Teacher Numan\n"
     ]
    }
   ],
   "source": [
    "for name in names :\n",
    "    print(f'Welcome Dear Teacher {name.title()}')\n",
    "# title will capitalize the first alphabet of each element."
   ]
  },
  {
   "cell_type": "code",
   "execution_count": 7,
   "id": "a8631a79-efce-499a-87ec-96c2ad92bd18",
   "metadata": {},
   "outputs": [
    {
     "name": "stdout",
     "output_type": "stream",
     "text": [
      "Welcome Dear Teacher Sir Zia\n",
      "Jazaka Allah\n",
      "\n",
      "Welcome Dear Teacher Numan\n",
      "Jazaka Allah\n",
      "\n",
      "Hello world\n",
      "Okay\n"
     ]
    }
   ],
   "source": [
    "names : list[str] = [\"Sir zia\", \"Qasim\",\"numan\"]\n",
    "for name in names :   # : This colon indicates that all the intended prints will have iterated. But the Hello world line is out of for loop that's why iteration won't applied \n",
    "    print(f'Welcome Dear Teacher {name.title()}')\n",
    "    print(\"Jazaka Allah\\n\")\n",
    "print(\"Hello world\")\n",
    "print(\"Okay\")\n",
    "    "
   ]
  },
  {
   "cell_type": "code",
   "execution_count": 18,
   "id": "be676056-fd90-4634-b6f2-1841917d0cb7",
   "metadata": {},
   "outputs": [
    {
     "name": "stdout",
     "output_type": "stream",
     "text": [
      "Welcome Dear Teacher Numan\n",
      "Jazaka Allah\n",
      "\n",
      "Welcome Dear Teacher Qasim\n",
      "Jazaka Allah\n",
      "\n",
      "Welcome Dear Teacher Sir Zia\n",
      "Jazaka Allah\n",
      "\n",
      "Hello world\n",
      "Okay\n"
     ]
    }
   ],
   "source": [
    "names : list[str] = [\"Sir zia\", \"Qasim\",\"numan\"]\n",
    "# for name in names [2:] :  \n",
    "        # OR\n",
    "for name in names [::-1] :  \n",
    "    print(f'Welcome Dear Teacher {name.title()}')\n",
    "    print(\"Jazaka Allah\\n\")\n",
    "print(\"Hello world\")\n",
    "print(\"Okay\")\n",
    "    "
   ]
  },
  {
   "cell_type": "code",
   "execution_count": 19,
   "id": "c603a67f-df88-4461-9c08-3c1fc606c375",
   "metadata": {},
   "outputs": [
    {
     "name": "stdout",
     "output_type": "stream",
     "text": [
      "('qasim', '123')\n",
      "('hanry', '321')\n",
      "('martin', '986')\n"
     ]
    }
   ],
   "source": [
    "# First go to vscode for intelesence, you can write code on vs code in the same folder under the file class.py\n",
    "# tuple : Tuples are defined by enclosing the elements in parentheses ()\n",
    "# tuple : Tuples are often used for returning multiple values from a function\n",
    "# tuple : Immutable: Once a tuple is created, its elements cannot be modified.\n",
    "data_base : list[tuple[str,str]] = [ \n",
    "    (\"qasim\",\"123\"),\n",
    "    (\"hanry\",\"321\"),\n",
    "    (\"martin\",\"986\"),\n",
    "]\n",
    "\n",
    "for row in data_base :\n",
    "    print(row)\n",
    "# Result :-\n",
    "# ('qasim', '123')  here value is stored in tuple\n",
    "# ('hanry', '321')\n",
    "# ('martin', '986')"
   ]
  },
  {
   "cell_type": "code",
   "execution_count": 21,
   "id": "83e0b775-1a89-49bd-bfc4-810670144280",
   "metadata": {},
   "outputs": [
    {
     "name": "stdout",
     "output_type": "stream",
     "text": [
      "qasim 123\n",
      "hanry 321\n",
      "martin 986\n"
     ]
    }
   ],
   "source": [
    "data_base : list[tuple[str,str]] = [ \n",
    "    (\"qasim\",\"123\"),\n",
    "    (\"hanry\",\"321\"),\n",
    "    (\"martin\",\"986\"),\n",
    "]\n",
    "\n",
    "for row in data_base :\n",
    "    user, password = row  # unzipping\n",
    "    print(user, password)\n",
    "\n",
    "# Result :- \n",
    "# values will stored in variables.\n",
    "# the process is called un-zipping\n"
   ]
  },
  {
   "cell_type": "code",
   "execution_count": 22,
   "id": "37fc4b60-f07b-4786-a785-7b45556ea001",
   "metadata": {},
   "outputs": [
    {
     "name": "stdin",
     "output_type": "stream",
     "text": [
      "Enter your name Kinzer Mir\n"
     ]
    },
    {
     "name": "stdout",
     "output_type": "stream",
     "text": [
      "Kinzer Mir\n"
     ]
    }
   ],
   "source": [
    "input_user : str = input(\"Enter your name\")\n",
    "print(input_user)\n",
    "# input is a function, through wich we can write value in run time. The value will stored in a variable."
   ]
  },
  {
   "cell_type": "code",
   "execution_count": 31,
   "id": "2eb3373b-db47-4a23-b10b-d7817e860e4d",
   "metadata": {},
   "outputs": [
    {
     "name": "stdin",
     "output_type": "stream",
     "text": [
      "Enter your name hanry\n",
      "Enter your password 321\n"
     ]
    },
    {
     "name": "stdout",
     "output_type": "stream",
     "text": [
      "Valid User\n"
     ]
    }
   ],
   "source": [
    "data_base : list[tuple[str,str]] = [ \n",
    "    (\"qasim\",\"123\"),\n",
    "    (\"hanry\",\"321\"),\n",
    "    (\"martin\",\"986\"),\n",
    "]\n",
    "\n",
    "input_user : str = input(\"Enter your name\")\n",
    "input_password : str = input (\"Enter your password\")\n",
    "\n",
    "for row in data_base :\n",
    "    \n",
    "    user, password = row  \n",
    "    if input_user == user and input_password == password :\n",
    "        print(\"Valid User\")\n",
    "        break\n",
    "else : # must write else condition outside the if \n",
    "        print(\"Not Found or Invalid User\")\n",
    "\n",
    "\n",
    "\n",
    "# On above code first we apply loop to iterate on each element then to get single element saperately we used un-zip function, for un-zipping we made two variables under the name user and password.\n",
    "# Later we made input and on input we applied if condition and compared with un-zipped variables.\n"
   ]
  },
  {
   "cell_type": "code",
   "execution_count": 32,
   "id": "d4664522-07f2-4c5b-aa11-8760f1193180",
   "metadata": {},
   "outputs": [
    {
     "name": "stdin",
     "output_type": "stream",
     "text": [
      "Enter your name asd\n",
      "Enter your password asd\n"
     ]
    },
    {
     "name": "stdout",
     "output_type": "stream",
     "text": [
      "Not Found or Invalid User\n"
     ]
    }
   ],
   "source": [
    "data_base : list[tuple[str,str]] = [ \n",
    "    (\"qasim\",\"123\"),\n",
    "    (\"hanry\",\"321\"),\n",
    "    (\"martin\",\"986\"),\n",
    "]\n",
    "\n",
    "input_user : str = input(\"Enter your name\")\n",
    "input_password : str = input (\"Enter your password\")\n",
    "\n",
    "for row in data_base :\n",
    "    \n",
    "    user, password = row  \n",
    "    if input_user == user and input_password == password :\n",
    "        print(\"Valid User\")\n",
    "        break\n",
    "else : # must write else condition outside if condition, bec when for loop iterate over elements and if he don't able to find element then he will go to else condition and if we found an element during iteration then for loop move to if condition.\n",
    "        print(\"Not Found or Invalid User\")\n",
    "\n",
    "\n",
    "\n",
    "# On above code first we apply loop to iterate on each element then to get single element saperately we used un-zip function, for un-zipping we made two variables under the name user and password.\n",
    "# Later we made input and on input we applied if condition and compared with un-zipped variables.\n"
   ]
  },
  {
   "cell_type": "code",
   "execution_count": 33,
   "id": "fbe97fb7-c708-40ef-87a6-6159dfc8225d",
   "metadata": {},
   "outputs": [
    {
     "ename": "IndentationError",
     "evalue": "expected an indented block after 'for' statement on line 7 (3805732758.py, line 8)",
     "output_type": "error",
     "traceback": [
      "\u001b[1;36m  Cell \u001b[1;32mIn[33], line 8\u001b[1;36m\u001b[0m\n\u001b[1;33m    user, password = row  # unzipping\u001b[0m\n\u001b[1;37m    ^\u001b[0m\n\u001b[1;31mIndentationError\u001b[0m\u001b[1;31m:\u001b[0m expected an indented block after 'for' statement on line 7\n"
     ]
    }
   ],
   "source": [
    "# Syntax error\n",
    "data_base : list[tuple[str,str]] = [ \n",
    "    (\"qasim\",\"123\"),\n",
    "]\n",
    "\n",
    "for row in data_base :\n",
    "user, password = row  # unzipping\n",
    "    print(user, password)"
   ]
  },
  {
   "cell_type": "code",
   "execution_count": 35,
   "id": "1cca5adc-6bfb-4f0e-bfbc-934cf8150030",
   "metadata": {},
   "outputs": [
    {
     "name": "stdout",
     "output_type": "stream",
     "text": [
      "Hanry, that was a great trick\n",
      "Martin, that was a great trick\n",
      "David, that was a great trick\n",
      "I cann't wait to see your next trick David\n"
     ]
    }
   ],
   "source": [
    "magicians : list[str] = [\"Hanry\", \"Martin\", \"David\"]\n",
    "\n",
    "for magician in magicians :\n",
    "    print(f\"{magician.title()}, that was a great trick\") # this is called local variable\n",
    "print(f\"I cann't wait to see your next trick {magician.title()}\") # this is called global variable."
   ]
  }
 ],
 "metadata": {
  "kernelspec": {
   "display_name": "Python 3 (ipykernel)",
   "language": "python",
   "name": "python3"
  },
  "language_info": {
   "codemirror_mode": {
    "name": "ipython",
    "version": 3
   },
   "file_extension": ".py",
   "mimetype": "text/x-python",
   "name": "python",
   "nbconvert_exporter": "python",
   "pygments_lexer": "ipython3",
   "version": "3.12.4"
  }
 },
 "nbformat": 4,
 "nbformat_minor": 5
}
