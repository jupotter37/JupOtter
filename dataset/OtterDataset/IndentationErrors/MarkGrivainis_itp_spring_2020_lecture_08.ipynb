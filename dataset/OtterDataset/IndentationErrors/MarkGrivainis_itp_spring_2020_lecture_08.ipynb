{
 "cells": [
  {
   "cell_type": "markdown",
   "metadata": {},
   "source": [
    "# Online Introduction to Python - Lecture 08 (28 April 2020)\n",
    "\n",
    "## Today's Topics: Error Handling and Files\n",
    "\n",
    "* **`try...except`** to catch all errors\n",
    "* **`try...except`** to catch specific errors\n",
    "* **`try...except...else`**\n",
    "* **`try...except...finally`**\n",
    "* **`raise`**\n",
    "\n",
    "<br />\n",
    "\n",
    "* **Opening/closing files**\n",
    "* **Reading files of all sizes**\n",
    "* **Writing files** (making new files, editing contents, appending, overwriting)\n",
    "* **Copying a file** (reading and writing combined!)\n",
    "<br />\n",
    "<br />\n",
    "\n",
    "The contents of this lecture were adapted from videos made by [Corey Schafer](https://www.youtube.com/user/schafer5) on YouTube. "
   ]
  },
  {
   "cell_type": "markdown",
   "metadata": {},
   "source": [
    "## Error Handling"
   ]
  },
  {
   "cell_type": "markdown",
   "metadata": {},
   "source": [
    "### What is error handling? Why do we use it?\n",
    "\n",
    "* All of us have experienced errors like this:\n",
    "\n",
    "---\n",
    "```python\n",
    "  File \"<ipython-input-2-8b28370b7452>\", line 5\n",
    "    except Exception:\n",
    "    ^\n",
    "IndentationError: expected an indented block\n",
    "```\n",
    "---\n",
    "\n",
    "* We can understand these, since we're developers. But...\n",
    "\n",
    "***What if your program is being used by an ordinary person, and you need to display user-friendly error messages?***\n",
    "\n",
    "***Or, what if you need some specific code to execute upon error?***\n",
    "\n",
    "We want our programs to terminate gracefully, and if an error occurs, for all people (developers and regular end users alike) to understand what went wrong.\n",
    "\n",
    "**Example:**\n",
    "You write a program that opens a file called `test_file.txt`. What happens if it doesn't exist?\n",
    "\n",
    "Your user didn't put the file in the right place, the file is named something different, etc.\n",
    "\n",
    "Well, we can handle this error using `try...except`.\n"
   ]
  },
  {
   "cell_type": "markdown",
   "metadata": {},
   "source": [
    "### First, here's some basics on reading/writing files\n",
    "\n",
    "`f = open('example.txt')` \n",
    "\n",
    "This opens the file `example.txt`. Since we only give it a filename, and not a full path, it will only look in the current working directory of your Python file/Jupyter notebook.\n",
    "\n",
    "Your file is \"stored\" in the variable `f`.\n",
    "\n",
    "---\n",
    "\n",
    "`f.read()`\n",
    "\n",
    "This outputs the entire file into the console.\n",
    "\n",
    "---\n",
    "\n",
    "`f.close()`\n",
    "\n",
    "Every time you work with a file, it is critical that you CLOSE the file after you're done using it.\n",
    "\n",
    "There are better ways of doing this, like using `with`, and we'll cover that in a short bit.\n"
   ]
  },
  {
   "cell_type": "code",
   "execution_count": null,
   "metadata": {},
   "outputs": [],
   "source": [
    "# Let's see what kind of error we get when a file doesn't exist.\n",
    "\n",
    "open(\"Tax_Documents_For_Beach_Home.txt\")"
   ]
  },
  {
   "cell_type": "markdown",
   "metadata": {},
   "source": [
    "### Basic `try...except` block"
   ]
  },
  {
   "cell_type": "markdown",
   "metadata": {},
   "source": [
    "A `try...except` block has two parts:\n",
    "\n",
    "* In the `try` section, we put code that might break.\n",
    "\n",
    "\n",
    "* The `except` section only runs ***if our `try` block produces an error***.\n",
    "\n",
    "\n",
    "The `pass` below is simply a placeholder."
   ]
  },
  {
   "cell_type": "markdown",
   "metadata": {},
   "source": [
    "---\n",
    "\n",
    "*A basic `try...except` block*\n",
    "\n",
    "```python\n",
    "try:\n",
    "    pass\n",
    "except:\n",
    "    pass\n",
    "```\n",
    "\n",
    "---"
   ]
  },
  {
   "cell_type": "code",
   "execution_count": null,
   "metadata": {},
   "outputs": [],
   "source": [
    "try:\n",
    "    pass\n",
    "except:\n",
    "    pass"
   ]
  },
  {
   "cell_type": "markdown",
   "metadata": {},
   "source": [
    "First, let's try and open a file that doesn't exist."
   ]
  },
  {
   "cell_type": "code",
   "execution_count": null,
   "metadata": {},
   "outputs": [],
   "source": [
    "f = open('test_file.txt')"
   ]
  },
  {
   "cell_type": "markdown",
   "metadata": {},
   "source": [
    "We get a `FileNotFoundError` because Python can't find `test_file.txt` in the directory of this Jupyter notebook.\n",
    "\n",
    "Let's write some code in our `except` section to demystify this `FileNotFoundError`.\n",
    "\n",
    "---\n",
    "\n",
    "First, we add our code into the `try` section of our block."
   ]
  },
  {
   "cell_type": "code",
   "execution_count": null,
   "metadata": {},
   "outputs": [],
   "source": [
    "try:\n",
    "    f = open('test_file.txt')\n",
    "except:\n",
    "    pass"
   ]
  },
  {
   "cell_type": "markdown",
   "metadata": {},
   "source": [
    "Next, we want to add a clear print statement."
   ]
  },
  {
   "cell_type": "code",
   "execution_count": null,
   "metadata": {},
   "outputs": [],
   "source": [
    "try:\n",
    "    f = open('test_file.txt')\n",
    "except:\n",
    "    print(\"Sorry, but 'test_file.txt' was not found in the directory of this file\")\n",
    "    print()"
   ]
  },
  {
   "cell_type": "markdown",
   "metadata": {},
   "source": [
    "Now we completely replaced the default error message with our 'custom' message. But let's add the default error message in so that we can get used to them."
   ]
  },
  {
   "cell_type": "code",
   "execution_count": null,
   "metadata": {},
   "outputs": [],
   "source": [
    "try:\n",
    "    f = open('test_file.txt')\n",
    "except Exception as e:\n",
    "    print(\"Sorry, but 'test_file.txt' was not found\")\n",
    "    print()\n",
    "    print()\n",
    "    print(\"Python Default Error Message\")\n",
    "    print(\"*\" * 50)\n",
    "    print()\n",
    "    print(e)"
   ]
  },
  {
   "cell_type": "markdown",
   "metadata": {},
   "source": [
    "By using `except Exception as e`, we captured the error message and stored it as the variable `e`.\n",
    "\n",
    "<br/>\n",
    "\n",
    "---\n",
    "\n",
    "#### Capturing specific errors\n",
    "\n",
    "Above we learned that you can use `try...except` to catch errors in code. But what if you want to treat each kind of error in a different way? \n",
    "\n",
    "\n",
    "#### Anatomy of an error\n",
    "\n",
    "Errors have types. For example, the error we saw before:\n",
    "\n",
    "<br/>\n",
    "\n",
    "---\n",
    "```python\n",
    "FileNotFoundError            Traceback (most recent call last)\n",
    "<ipython-input-2-2ffddad31d75> in <module>\n",
    "----> 1 f = open('test_file.txt')\n",
    "\n",
    "FileNotFoundError: [Errno 2] No such file or directory: 'test_file.txt'\n",
    "```\n",
    "---\n",
    "\n",
    "<br/>\n",
    "    \n",
    "is a `FileNotFoundError`. But there are other types of errors.\n",
    "\n",
    "<br/>\n",
    "<br/>\n",
    "\n",
    "\n",
    "#### `SyntaxError`\n",
    "\n",
    "If you run the code\n",
    "\n",
    "```python\n",
    "\n",
    "if 2 + 2 == 4\n",
    "    print('You can do math!')\n",
    "\n",
    "```\n",
    "\n",
    "you get the a `SyntaxError`, since you forgot the `:` after your logical statement.\n",
    "\n",
    "<br/>\n",
    "\n",
    "```python\n",
    "\n",
    "  File \"<ipython-input-7-d124364c5532>\", line 1\n",
    "    if 2 + 2 == 4\n",
    "                 ^\n",
    "SyntaxError: invalid syntax\n",
    "\n",
    "```\n",
    "\n",
    "<br/>\n",
    "\n",
    "\n",
    "<br/>\n",
    "<br/>\n",
    "\n",
    "\n",
    "#### `IndentationError`\n",
    "\n",
    "Even if we have a `:` after our logical statement, if we don't indent our `print` line, Python will throw an `IndentationError`.\n",
    "\n",
    "```python\n",
    "\n",
    "if 2 + 2 == 4:\n",
    "print('You can do math!')\n",
    "\n",
    "```\n",
    "\n",
    "<br/>\n",
    "\n",
    "```python\n",
    "  File \"<ipython-input-8-3490993ed487>\", line 2\n",
    "    print('You can do math!')\n",
    "    ^\n",
    "IndentationError: expected an indented block\n",
    "\n",
    "```\n",
    "\n",
    "<br/>\n",
    "\n",
    "\n",
    "These are two examples of errors you've probably already ran into. There are many that exist and can be found via the documentation online, or observing their names in the error messages."
   ]
  },
  {
   "cell_type": "markdown",
   "metadata": {},
   "source": [
    "#### Let's build a `try...except` block to catch some specific error.\n",
    "\n",
    "You can have multiple `except` sections, each designating specific code to be executed if a certain error is produced in the `try` section.\n",
    "\n",
    "We'll begin with our last block:\n",
    "\n",
    "```python\n",
    "try:\n",
    "    f = open('test_file.txt')\n",
    "except Exception as e:\n",
    "    print(\"Sorry, but 'test_file.txt' was not found\")\n",
    "    print()\n",
    "    print()\n",
    "    print(\"Python Default Error Message\")\n",
    "    print(\"*\" * 50)\n",
    "    print()\n",
    "    print(e)\n",
    "```\n",
    "\n",
    "\n",
    "but instead of `except Exception as e`, we will write `except FileNotFoundError as e` to be more specific."
   ]
  },
  {
   "cell_type": "code",
   "execution_count": null,
   "metadata": {},
   "outputs": [],
   "source": [
    "try:\n",
    "    f = open('test_file.txt')\n",
    "except FileNotFoundError as e:\n",
    "    print(\"Sorry, but 'test_file.txt' was not found\")\n",
    "    print()\n",
    "    print()\n",
    "    print(\"Python Default Error Message\")\n",
    "    print(\"*\" * 50)\n",
    "    print()\n",
    "    print(e)"
   ]
  },
  {
   "cell_type": "markdown",
   "metadata": {},
   "source": [
    "As you can see, nothing has functionally changed because we were, in fact, catching a `FileNotFoundError` all along.\n",
    "\n",
    "Let's add another `except` section to catch all other errors that occur."
   ]
  },
  {
   "cell_type": "code",
   "execution_count": null,
   "metadata": {},
   "outputs": [],
   "source": [
    "try:\n",
    "    f = open('test_file.txt')\n",
    "except FileNotFoundError as e:\n",
    "    print(\"Sorry, but 'test_file.txt' was not found\")\n",
    "    print()\n",
    "    print()\n",
    "    print(\"Python Default Error Message\")\n",
    "    print(\"*\" * 50)\n",
    "    print()\n",
    "    print(e)\n",
    "except Exception as e:\n",
    "    print(\"Sorry, something went wrong\")   # Here's a new message!\n",
    "    print()\n",
    "    print()\n",
    "    print(\"Python Default Error Message\")\n",
    "    print(\"*\" * 50)\n",
    "    print()\n",
    "    print(e)\n"
   ]
  },
  {
   "cell_type": "markdown",
   "metadata": {},
   "source": [
    "Python will work from the first `except` block down, so if you use `except Exception` mixed in with other `except` sections to catch specific errors, you must put `except Exception` last.\n",
    "\n",
    "However ...\n",
    "\n",
    "**It is important that you limit your usage of `except Exception`.** We always want to try and be as specific as possible, so we always know exactly what our programs are doing.\n",
    "\n",
    "A good usage of `except Exception` for debugging. When an `except Exception` block gets triggered, make it print out the default Python error. You, the developer, can understand what that *specific* error is, and then build a more specific `except` block for that exact case."
   ]
  },
  {
   "cell_type": "markdown",
   "metadata": {},
   "source": [
    "### A `try...except...else` block "
   ]
  },
  {
   "cell_type": "markdown",
   "metadata": {},
   "source": [
    "These are the same as before, but the `else` section will ***only be executed*** if no error occured.\n",
    "\n",
    "To demonstrate this, let's actually create `test_file.txt` so that we can use `else`."
   ]
  },
  {
   "cell_type": "code",
   "execution_count": null,
   "metadata": {},
   "outputs": [],
   "source": [
    "# Let's make the text file. \n",
    "# Don't worry about understanding this code for now.\n",
    "\n",
    "f = open(\"test_file.txt\", \"w+\")\n",
    "f.write('Hi! This is the contents of your text file!')\n",
    "f.close()"
   ]
  },
  {
   "cell_type": "markdown",
   "metadata": {},
   "source": [
    "Let's make an `else` section that prints out the content of the file."
   ]
  },
  {
   "cell_type": "code",
   "execution_count": null,
   "metadata": {},
   "outputs": [],
   "source": [
    "try:\n",
    "    filename = 'test_file.txt'\n",
    "    f = open(filename)\n",
    "except FileNotFoundError as e:\n",
    "    print(\"Sorry, but your file '\" + filename + \"' was not found\") # A better print message\n",
    "    print()\n",
    "    print()\n",
    "    print(\"Python Default Error Message\")\n",
    "    print(\"*\" * 50)\n",
    "    print()\n",
    "    print(e)\n",
    "except Exception as e:\n",
    "    print(\"Sorry, something went wrong\")   # Here's a new message!\n",
    "    print()\n",
    "    print()\n",
    "    print(\"Python Default Error Message\")\n",
    "    print(\"*\" * 50)\n",
    "    print()\n",
    "    print(e)\n",
    "else:\n",
    "    print(f.read())"
   ]
  },
  {
   "cell_type": "markdown",
   "metadata": {},
   "source": [
    "### A `try...except...else...finally` block "
   ]
  },
  {
   "cell_type": "markdown",
   "metadata": {},
   "source": [
    "`finally` will execute no matter what.\n",
    "\n",
    "Remember when I said that we need to close all files when working with them. That is a good use of `finally`. Other examples:\n",
    "\n",
    "* 'Goodbye' phrase: \"Program completed successfully.\"\n",
    "* Closing a database"
   ]
  },
  {
   "cell_type": "code",
   "execution_count": null,
   "metadata": {},
   "outputs": [],
   "source": [
    "try:\n",
    "    filename = 'test_file.txt'\n",
    "    f = open(filename)\n",
    "except FileNotFoundError as e:\n",
    "    print(\"Sorry, but your file '\" + filename + \"' was not found\")\n",
    "    print()\n",
    "    print()\n",
    "    print(\"Python Default Error Message\")\n",
    "    print(\"*\" * 50)\n",
    "    print()\n",
    "    print(e)\n",
    "except Exception as e:\n",
    "    print(\"Sorry, something went wrong\")   # Here's a new message!\n",
    "    print()\n",
    "    print()\n",
    "    print(\"Python Default Error Message\")\n",
    "    print(\"*\" * 50)\n",
    "    print()\n",
    "    print(e)\n",
    "else:\n",
    "    print(f.read())\n",
    "finally:\n",
    "    f.close()\n",
    "    print()\n",
    "    print('...Thank you for using this program. File closed after use.')"
   ]
  },
  {
   "cell_type": "markdown",
   "metadata": {},
   "source": [
    "#### Mix and match\n",
    "\n",
    "You can use `try`, `except`, `else`, and `finally` in whatever combination you like.\n",
    "\n",
    "In other words, you can have a block with `try`, three `except` sectons, and a `finally`, without any `else`, as well as many other combinations."
   ]
  },
  {
   "cell_type": "markdown",
   "metadata": {},
   "source": [
    "### `raise` to raise errors\n",
    "\n",
    "We can use `raise` to raise errors.\n",
    "\n",
    "For example: You're writing a Python package, and create custom Python errors that work in a similar way to `FileNotFoundError` or `IndentationError`. But it also can be useful in simple cases.\n",
    "\n",
    "Imagine that you're asking a user to input a password, and don't want them to use the password 'password'.\n",
    "\n",
    "Let's use this simplified `try...except` block\n",
    "\n",
    "```python\n",
    "try:\n",
    "    \n",
    "    password = input()\n",
    "    \n",
    "    if password == 'password':\n",
    "        raise Exception\n",
    "    \n",
    "except Exception: \n",
    "    print('Please input a password other than \"password\"')\n",
    "    \n",
    "else:\n",
    "    print(\"Your password has been successfully saved\")\n",
    "```"
   ]
  },
  {
   "cell_type": "markdown",
   "metadata": {},
   "source": [
    "try:\n",
    "    \n",
    "    password = input()\n",
    "    \n",
    "    if password == 'password':\n",
    "        raise Exception\n",
    "    \n",
    "except Exception: \n",
    "    print('Please input a password other than \"password\"')\n",
    "    \n",
    "else:\n",
    "    print(\"Your password has been successfully saved\")\n",
    "\n"
   ]
  },
  {
   "cell_type": "markdown",
   "metadata": {},
   "source": [
    "## Files and How to Handle Them\n",
    "\n",
    "We're going to look at *text files* and how you can read them into Python programatically.\n",
    "\n",
    "Why do this?\n",
    "\n",
    "**1. Error logging**\n",
    "\n",
    "If you're working with a complex program with many moving parts, why not save your `except Exception as e` variable `e` into a file with fancy annotations to help you debug?\n",
    "\n",
    "**2. Importing datasets**\n",
    "\n",
    "How do you get a dataset into Python?\n",
    "\n",
    "Later on we'll learn about Pandas - that will be the *main* way you import CSV, Excel, and other spreadsheet-type data. But what if you want to, let's say, run some machine learning on a large block of text? Maybe you want to build a machine learning program to write Harry Potter fan fiction, and need to analyze existing prose...\n",
    "\n",
    "**3. Many many more ...**\n",
    "\n",
    "<br />\n",
    "\n",
    "\n",
    "## File basics: Opening, reading *everything*, closing\n",
    "\n",
    "In this first example, we will learn how to open a file, read its contents, and then close the file, which is a critical step.\n",
    "\n",
    "We're going to be working with a list of Canadian provinces and territories, which should be in the same directory as this notebook. The filename is \"canada.txt\".\n",
    "\n",
    "The basic code structure looks like this:\n",
    "\n",
    "```python\n",
    "f = open('canada.txt','r')\n",
    "print(f.read)\n",
    "f.close()\n",
    "```\n",
    "\n",
    "####  `f = open('canada.txt', 'r')`\n",
    "\n",
    "General form is `f = open(filename, mode)`.\n",
    "\n",
    "This command opens the file with named `filename` in the same directory as your script and saves it into the variable `f`. The argument `mode` is a string that designtes what mode to open your file:\n",
    "\n",
    "* `'r'` allows you to only read the file contents\n",
    "\n",
    "\n",
    "* We will cover `'w'` write, `'a'` append, and `'r+'` read/write later.\n",
    "\n",
    "####  `f.read`\n",
    "\n",
    "This reads the *entire* file into memory. This can be a problem if your file is large - more on this later.\n",
    "\n",
    "#### `f.close()`\n",
    "\n",
    "This closes your file, which is very important. If you don't close files, you risk overloading your computer's memory and causing something to crash."
   ]
  },
  {
   "cell_type": "code",
   "execution_count": null,
   "metadata": {},
   "outputs": [],
   "source": [
    "f = open('canada.txt','r')\n",
    "print(f.read())\n",
    "f.close()"
   ]
  },
  {
   "cell_type": "markdown",
   "metadata": {},
   "source": [
    "## A Smarter Way to Open/Close Files\n",
    "### Content manager `with`\n",
    "\n",
    "We can of course manually open/close using the code above. However, so that you don't forget to close files, it is best practice to use a *content manager*, like `with`.\n",
    "\n",
    "```python\n",
    "with open('canada.txt', r) as f:\n",
    "    print(f.read())\n",
    "```\n",
    "\n",
    "When using a content manager, all code that requires `f` to be open (like `f.read()`) must be completed ***within*** the `with` block."
   ]
  },
  {
   "cell_type": "markdown",
   "metadata": {},
   "source": [
    "Below is a ***PROPER*** use of `with`."
   ]
  },
  {
   "cell_type": "code",
   "execution_count": null,
   "metadata": {},
   "outputs": [],
   "source": [
    "# This works as expected!\n",
    "\n",
    "with open('canada.txt', 'r') as f:\n",
    "    print(f.read())"
   ]
  },
  {
   "cell_type": "markdown",
   "metadata": {},
   "source": [
    "And below this is an ***INCORRECT*** use of `with`."
   ]
  },
  {
   "cell_type": "code",
   "execution_count": null,
   "metadata": {},
   "outputs": [],
   "source": [
    "# This produces an error...\n",
    "\n",
    "with open('canada.txt', 'r') as f:\n",
    "    pass\n",
    "\n",
    "print(f.read())"
   ]
  },
  {
   "cell_type": "markdown",
   "metadata": {},
   "source": [
    "As you can see, you will get a \"`ValueError`: I/O operation on closed file\" message if you place the `f.read()` command outside of the `with` block, since outside of the block, the file `f` is no longer open."
   ]
  },
  {
   "cell_type": "markdown",
   "metadata": {},
   "source": [
    "## Reading only *portions* of a file\n",
    "\n",
    "If your file is very big, then you will run into problems using the simple `f.read()`. Instead, we need to read the file `f` little-by-little.\n",
    "\n",
    "We do this with iteration.\n",
    "\n",
    "### Handy with lists: `f.readline()` \n",
    "\n",
    "`f.readline()` will read the first line in your file.\n",
    "\n",
    "To read the second line, the third line, and so on, we need to call `f.readline()` over and over..."
   ]
  },
  {
   "cell_type": "code",
   "execution_count": null,
   "metadata": {},
   "outputs": [],
   "source": [
    "# Set up your file management: Open the file with 'with'\n",
    "\n",
    "with open('canada.txt', 'r') as f:\n",
    "    print(f.readline()) # Print your first line"
   ]
  },
  {
   "cell_type": "code",
   "execution_count": null,
   "metadata": {},
   "outputs": [],
   "source": [
    "\n",
    "with open('canada.txt', 'r') as f:\n",
    "    print(f.readline()) # Print your first line\n",
    "    print(f.readline()) # Print your second line"
   ]
  },
  {
   "cell_type": "code",
   "execution_count": null,
   "metadata": {},
   "outputs": [],
   "source": [
    "\n",
    "with open('canada.txt', 'r') as f:\n",
    "    print(f.readline()) # Print your first line\n",
    "    print(f.readline()) # Print your second line\n",
    "    print(f.readline()) # Print your third line"
   ]
  },
  {
   "cell_type": "markdown",
   "metadata": {},
   "source": [
    "If you haven't thought of it already, you can easily do this with a *loop*. \n",
    "\n",
    "This can be done multiple ways ..."
   ]
  },
  {
   "cell_type": "code",
   "execution_count": null,
   "metadata": {},
   "outputs": [],
   "source": [
    "# We can also simply loop until we have nothing left.\n",
    "\n",
    "with open('canada.txt', 'r') as f:\n",
    "    \n",
    "    # Read the first line\n",
    "    contents = f.readline()\n",
    "    \n",
    "    # This loop breaks if f.readline() returns \n",
    "    # an empty string.\n",
    "    while len(contents) > 0:\n",
    "        print(contents)\n",
    "        contents = f.readline() # Get the next line.\n"
   ]
  },
  {
   "cell_type": "code",
   "execution_count": null,
   "metadata": {},
   "outputs": [],
   "source": [
    "with open('canada.txt', 'r') as f:\n",
    "    for line in f:\n",
    "        print(line)"
   ]
  },
  {
   "cell_type": "markdown",
   "metadata": {},
   "source": [
    "### Reading chunks with `f.read(size)`\n",
    "\n",
    "We can also read character-by-character instead of line-by-line.\n",
    "\n",
    "We use the same command `f.read()` as before, but now we pass it an argument `size`.\n",
    "\n",
    "Let's use this and a variation of the `while` loop we made before."
   ]
  },
  {
   "cell_type": "code",
   "execution_count": null,
   "metadata": {},
   "outputs": [],
   "source": [
    "with open('canada.txt', 'r') as f:\n",
    "    \n",
    "    size_to_read = 50\n",
    "    \n",
    "    contents = f.read(size_to_read)\n",
    "    \n",
    "    while len(contents) > 0:\n",
    "        print(contents)\n",
    "        contents = f.read(size_to_read)"
   ]
  },
  {
   "cell_type": "markdown",
   "metadata": {},
   "source": [
    "As you can see, some of our text is broken up.\n",
    "Let's fix our printing using the `print` argument `end`."
   ]
  },
  {
   "cell_type": "code",
   "execution_count": null,
   "metadata": {},
   "outputs": [],
   "source": [
    "with open('canada.txt', 'r') as f:\n",
    "    \n",
    "    size_to_read = 5\n",
    "    \n",
    "    contents = f.read(size_to_read)\n",
    "    \n",
    "    while len(contents) > 0:\n",
    "        print(contents, end='***')\n",
    "        contents = f.read(size_to_read)"
   ]
  },
  {
   "cell_type": "markdown",
   "metadata": {},
   "source": [
    "### Another way to reading *everything*: `f.readlines`, useful with lists"
   ]
  },
  {
   "cell_type": "markdown",
   "metadata": {},
   "source": [
    "Let's say you download a fun list from a website like https://www.plaintextlist.com. You know the size of the file and the fact that it is a list. \n",
    "\n",
    "In that case, you can use `f.readlines()` to simply load everything from that file into memory. Let's try it with our `canada.txt` file."
   ]
  },
  {
   "cell_type": "code",
   "execution_count": null,
   "metadata": {},
   "outputs": [],
   "source": [
    "with open('canada.txt', 'r') as f:\n",
    "    ca_list = f.readlines()\n",
    "    \n",
    "print(ca_list)\n"
   ]
  },
  {
   "cell_type": "markdown",
   "metadata": {},
   "source": [
    "### Writing files with `mode` set to `'w'` or `'r+'`"
   ]
  },
  {
   "cell_type": "markdown",
   "metadata": {},
   "source": [
    "Up to this point, we've just been *reading* files. But if we want to change file contents, then we're going to have to change our `mode`.\n",
    "\n",
    "*Writing* suggests that we write new data. But 'writing files' can **create new files**, **overwrite existing files/contents**, or **append contents onto existing files**.\n",
    "\n",
    "* Set `mode` to `'w'`: Writes to a **new file**. Will **overwrite** if same filename.\n",
    "* Set `mode` to `'r+`': Allows you to read/write, enabling you to **edit** existing files.\n",
    "\n",
    "Let's look at an example.\n",
    "\n",
    "We will:\n",
    "\n",
    "1. Create a new file using `open('new_file.txt','w')`\n",
    "2. We will write an error log to it\n",
    "3. We will edit the text a little"
   ]
  },
  {
   "cell_type": "code",
   "execution_count": null,
   "metadata": {},
   "outputs": [],
   "source": [
    "# Try...except block to get error as e\n",
    "try:\n",
    "    broken_code = open('doesnt_exist.txt', 'r') # This file doent exist\n",
    "except Exception as e:\n",
    "    error_message = str(e) # Make that message a string\n",
    "\n",
    "# Write to file\n",
    "with open('new_file.txt', 'w') as f:\n",
    "    f.write(error_message)\n",
    "\n",
    "# Now let's read the file\n",
    "with open('new_file.txt', 'r') as f:\n",
    "    print(f.read())"
   ]
  },
  {
   "cell_type": "markdown",
   "metadata": {},
   "source": [
    "### Editing our file with `'r+'`\n",
    "\n",
    "Let's say we want to change [Errno 2] to [Errno 3]. We can do that by using `'r+'` to edit files.\n",
    "\n",
    "Editing is done as an \"insertion\", like 'insert' on Microsoft Word, or 'insert' mode in VIM."
   ]
  },
  {
   "cell_type": "code",
   "execution_count": null,
   "metadata": {
    "scrolled": false
   },
   "outputs": [],
   "source": [
    "print('Original Contents')\n",
    "with open('new_file.txt', 'r') as f:\n",
    "    print(f.read())\n",
    "    \n",
    "print()    \n",
    "with open('new_file.txt', 'r+') as f:\n",
    "    f.write('[Errno 3]')\n",
    "\n",
    "print('New Contents')    \n",
    "with open('new_file.txt', 'r') as f:\n",
    "    print(f.read())"
   ]
  },
  {
   "cell_type": "markdown",
   "metadata": {},
   "source": [
    "When editing existing files, `f.write()` defaults to writing at the top of the file. This is similar to how `f.read(size)` only reads from the top of the file to however long `size` is. \n",
    "\n",
    "To move around the file, we can iterate, or use `f.seek(location)`."
   ]
  },
  {
   "cell_type": "code",
   "execution_count": null,
   "metadata": {},
   "outputs": [],
   "source": [
    "print('Original Contents')\n",
    "with open('new_file.txt', 'r') as f:\n",
    "    print(f.read())\n",
    "    \n",
    "print()    \n",
    "with open('new_file.txt', 'r+') as f:\n",
    "    f.seek(5)\n",
    "    f.write('[Errno 3]')\n",
    "\n",
    "print('New Contents')    \n",
    "with open('new_file.txt', 'r') as f:\n",
    "    print(f.read())"
   ]
  },
  {
   "cell_type": "markdown",
   "metadata": {},
   "source": [
    "### Overwriting files with `'w'`\n",
    "\n",
    "If we use `'w'` and not `'r+'` in the previous example, we wil actually completely overwite the file and replace its entire contents with *only* the text '[Errno 3]'."
   ]
  },
  {
   "cell_type": "code",
   "execution_count": null,
   "metadata": {},
   "outputs": [],
   "source": [
    "print('Original Contents')\n",
    "with open('new_file.txt', 'r') as f:\n",
    "    print(f.read())\n",
    "    \n",
    "print()    \n",
    "with open('new_file.txt', 'w') as f:\n",
    "    f.write('[Errno 3]')\n",
    "\n",
    "\n",
    "print('New Contents')    \n",
    "with open('new_file.txt', 'r') as f:\n",
    "    print(f.read())"
   ]
  },
  {
   "cell_type": "markdown",
   "metadata": {},
   "source": [
    "### Appending to the end of files with `'a'`\n",
    "\n",
    "If we use `'a'` in the previous example, we will simply add new text to the end of the file."
   ]
  },
  {
   "cell_type": "code",
   "execution_count": null,
   "metadata": {},
   "outputs": [],
   "source": [
    "print('Original Contents')\n",
    "with open('new_file.txt', 'r') as f:\n",
    "    print(f.read())\n",
    "    \n",
    "print()    \n",
    "with open('new_file.txt', 'a') as f:\n",
    "    f.write('[Errno 3]')\n",
    "\n",
    "\n",
    "print('New Contents')    \n",
    "with open('new_file.txt', 'r') as f:\n",
    "    print(f.read())"
   ]
  },
  {
   "cell_type": "markdown",
   "metadata": {},
   "source": [
    "### Bringing it all together: Copying a file \n",
    "\n",
    "To copy a file, we'll do the following:\n",
    "\n",
    "1. Open the file to-be-copied with `mode` set to `'r'`\n",
    "2. Open a new file with `'mode'` set to `'w'`\n",
    "3. Iterate over the lines in your file to copy the data"
   ]
  },
  {
   "cell_type": "code",
   "execution_count": null,
   "metadata": {},
   "outputs": [],
   "source": [
    "with open('canada.txt', 'r') as f:\n",
    "    with open('canada_copy.txt','w') as new_f:\n",
    "        for line in f:\n",
    "            new_f.write(line)"
   ]
  },
  {
   "cell_type": "code",
   "execution_count": null,
   "metadata": {},
   "outputs": [],
   "source": [
    "with open('canada_copy.txt','r') as new_f:\n",
    "    print(new_f.read())"
   ]
  },
  {
   "cell_type": "markdown",
   "metadata": {},
   "source": [
    "### Other built-in functions\n",
    "\n",
    "* `f.tell()`: Tells you where you currently are in a file"
   ]
  }
 ],
 "metadata": {
  "kernelspec": {
   "display_name": "Python 3",
   "language": "python",
   "name": "python3"
  },
  "language_info": {
   "codemirror_mode": {
    "name": "ipython",
    "version": 3
   },
   "file_extension": ".py",
   "mimetype": "text/x-python",
   "name": "python",
   "nbconvert_exporter": "python",
   "pygments_lexer": "ipython3",
   "version": "3.8.2"
  }
 },
 "nbformat": 4,
 "nbformat_minor": 4
}
