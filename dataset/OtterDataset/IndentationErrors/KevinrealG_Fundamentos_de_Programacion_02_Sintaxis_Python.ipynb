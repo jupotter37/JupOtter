{
  "cells": [
    {
      "cell_type": "markdown",
      "metadata": {
        "colab_type": "text",
        "id": "view-in-github"
      },
      "source": [
        "<a href=\"https://colab.research.google.com/github/KevinrealG/Fundamentos_de_Programacion/blob/main/02_Sintaxis_Python.ipynb\" target=\"_parent\"><img src=\"https://colab.research.google.com/assets/colab-badge.svg\" alt=\"Open In Colab\"/></a>"
      ]
    },
    {
      "cell_type": "markdown",
      "metadata": {
        "id": "_WFf-hZKjqQa"
      },
      "source": [
        "# Sintaxis"
      ]
    },
    {
      "cell_type": "markdown",
      "metadata": {
        "id": "_gFGL8R7YQsH"
      },
      "source": [
        "La programación y los idiomas comparten una similitud en su estructura. Así como la gramática es esencial para comprender y comunicarse en un idioma, la sintaxis desempeña un papel fundamental en la programación. Al igual que la frase \"Ella comen pizza\" no sigue las reglas gramaticales correctas, un código en Python puede considerarse incorrecto si no respeta las normas sintácticas del lenguaje de programación.\n"
      ]
    },
    {
      "cell_type": "code",
      "execution_count": null,
      "metadata": {
        "colab": {
          "base_uri": "https://localhost:8080/",
          "height": 141
        },
        "id": "sTdREgFIjpzQ",
        "outputId": "a2158505-bc7e-48e0-bf31-0362baaf78df"
      },
      "outputs": [
        {
          "ename": "SyntaxError",
          "evalue": "ignored",
          "output_type": "error",
          "traceback": [
            "\u001b[0;36m  File \u001b[0;32m\"<ipython-input-7-be692a976475>\"\u001b[0;36m, line \u001b[0;32m1\u001b[0m\n\u001b[0;31m    print 8)\u001b[0m\n\u001b[0m           ^\u001b[0m\n\u001b[0;31mSyntaxError\u001b[0m\u001b[0;31m:\u001b[0m unmatched ')'\n"
          ]
        }
      ],
      "source": [
        "print 8)"
      ]
    },
    {
      "cell_type": "code",
      "execution_count": null,
      "metadata": {
        "colab": {
          "base_uri": "https://localhost:8080/",
          "height": 141
        },
        "id": "VosRcO7HXlQ2",
        "outputId": "f481a3f9-3fce-4a0a-b493-c7f3a11d0ff4"
      },
      "outputs": [
        {
          "ename": "SyntaxError",
          "evalue": "ignored",
          "output_type": "error",
          "traceback": [
            "\u001b[0;36m  File \u001b[0;32m\"<ipython-input-8-6287a7a43f7e>\"\u001b[0;36m, line \u001b[0;32m1\u001b[0m\n\u001b[0;31m    {5+2\u001b[0m\n\u001b[0m        ^\u001b[0m\n\u001b[0;31mSyntaxError\u001b[0m\u001b[0;31m:\u001b[0m incomplete input\n"
          ]
        }
      ],
      "source": [
        "{5+2"
      ]
    },
    {
      "cell_type": "code",
      "execution_count": null,
      "metadata": {
        "colab": {
          "base_uri": "https://localhost:8080/",
          "height": 141
        },
        "id": "h80TAtNJklHZ",
        "outputId": "b052cb9d-b854-42e7-f44a-d426d2c55fae"
      },
      "outputs": [
        {
          "ename": "SyntaxError",
          "evalue": "ignored",
          "output_type": "error",
          "traceback": [
            "\u001b[0;36m  File \u001b[0;32m\"<ipython-input-6-0c21d03e2925>\"\u001b[0;36m, line \u001b[0;32m1\u001b[0m\n\u001b[0;31m    if {}\u001b[0m\n\u001b[0m         ^\u001b[0m\n\u001b[0;31mSyntaxError\u001b[0m\u001b[0;31m:\u001b[0m expected ':'\n"
          ]
        }
      ],
      "source": [
        "if {}"
      ]
    },
    {
      "cell_type": "markdown",
      "metadata": {
        "id": "esFH6M7zXswF"
      },
      "source": [
        "# Sentencias\n",
        "Una sentencia es una unidad de codigo que el interprete de Python puede ejecutar.\n",
        "\n"
      ]
    },
    {
      "cell_type": "code",
      "execution_count": null,
      "metadata": {
        "colab": {
          "base_uri": "https://localhost:8080/"
        },
        "id": "2gqhYIRQnuXJ",
        "outputId": "13e7c251-6177-4b8a-b14d-8ec2403d58c4"
      },
      "outputs": [
        {
          "name": "stdout",
          "output_type": "stream",
          "text": [
            "8\n"
          ]
        }
      ],
      "source": [
        "print(5+3)"
      ]
    },
    {
      "cell_type": "code",
      "execution_count": null,
      "metadata": {
        "id": "7BnsJgR5nyMK"
      },
      "outputs": [],
      "source": [
        "a = 1+9"
      ]
    },
    {
      "cell_type": "code",
      "execution_count": null,
      "metadata": {
        "id": "JgJaMuVln11E"
      },
      "outputs": [],
      "source": [
        "name = \"Pablo\""
      ]
    },
    {
      "cell_type": "code",
      "execution_count": null,
      "metadata": {
        "colab": {
          "base_uri": "https://localhost:8080/"
        },
        "id": "SWBKW-gQoBVG",
        "outputId": "4f56ef20-a8e1-432e-cdba-c486ee82b6de"
      },
      "outputs": [
        {
          "name": "stdout",
          "output_type": "stream",
          "text": [
            "8\n"
          ]
        }
      ],
      "source": [
        "print(a)"
      ]
    },
    {
      "cell_type": "markdown",
      "metadata": {
        "id": "z1EBvFCmYP8a"
      },
      "source": [
        "# Operadores y Operandos\n",
        "Los operadores son símbolos que indican al intérprete que realice una operación específica, como las operaciones aritméticas, de comparación, con cadenas de texto, lógicas, entre otras. Los operandos son los valores a los cuales se aplican estas operaciones. Para obtener más detalles, revisa:\n",
        "\n",
        "*   https://www.w3schools.com/python/python_operators.asp\n",
        "*   https://www.freecodecamp.org/espanol/news/operadores-basicos-en-python-con-ejemplos/\n",
        "\n",
        "\n"
      ]
    },
    {
      "cell_type": "code",
      "execution_count": null,
      "metadata": {
        "colab": {
          "base_uri": "https://localhost:8080/"
        },
        "id": "peFRaLAGoJVL",
        "outputId": "75427833-ec57-45b1-cbea-d7af3a7f46d8"
      },
      "outputs": [
        {
          "name": "stdout",
          "output_type": "stream",
          "text": [
            "Entera,  2\n",
            "Decimal,  2.5\n"
          ]
        }
      ],
      "source": [
        "#asignación\n",
        "a = 4\n",
        "b = 5\n",
        "# suma\n",
        "c= a+b\n",
        "#resta\n",
        "\n",
        "resta = a - b\n",
        "\n",
        "# multiplicación\n",
        "producto = a*b\n",
        "\n",
        "# división decimal y entera\n",
        "entera = b // 2 # Realiza la división con resultado de número entero\n",
        "decimal = b/ 2\n",
        "print(\"Entera, \",entera)\n",
        "print(\"Decimal, \",decimal)\n",
        "\n",
        "# modulo\n",
        "residuo = b % 2   # residuo de la división, no es porcentaje\n",
        "\n",
        "# potencia\n",
        "potencia = a**2\n"
      ]
    },
    {
      "cell_type": "code",
      "execution_count": null,
      "metadata": {
        "colab": {
          "base_uri": "https://localhost:8080/"
        },
        "id": "iYULCyORrLIF",
        "outputId": "22ee7c15-dc2f-4719-9a8e-ea7d6329f7b5"
      },
      "outputs": [
        {
          "name": "stdout",
          "output_type": "stream",
          "text": [
            "anaana\n",
            "********************\n",
            "banana\n"
          ]
        }
      ],
      "source": [
        "# con string\n",
        "print(\"ana\" * 2)\n",
        "print(\"*\"*20) # solo funciona con enteros\n",
        "\n",
        "#concanetación\n",
        "print(\"bana\"+ \"na\") # se unen los string"
      ]
    },
    {
      "cell_type": "markdown",
      "metadata": {
        "id": "uuGgOxHrr7lC"
      },
      "source": [
        "- Operadores relacionales\n",
        "- Operadores Bit a Bit\n",
        "- Operadores de asignación\n",
        "- Operadores lógicos\n",
        "- Operadores de pertenencia\n",
        "- Operadores de identidad"
      ]
    },
    {
      "cell_type": "code",
      "execution_count": null,
      "metadata": {
        "id": "CJNhpwXrr3FS"
      },
      "outputs": [],
      "source": []
    },
    {
      "cell_type": "markdown",
      "metadata": {
        "id": "GAlPY3ykoIYk"
      },
      "source": [
        "# Expresiones\n",
        "Es la combinación de variables, valores y operadores."
      ]
    },
    {
      "cell_type": "code",
      "execution_count": null,
      "metadata": {
        "id": "QDe1RczasGYM"
      },
      "outputs": [],
      "source": [
        "# Define a variable y with a string\n",
        "y = \"The result of (p-q)/r is\"\n",
        "\n",
        "# Perform multiple assignments\n",
        "p, q, r = 10, 5, 2\n",
        "\n",
        "# Perform operations with p, q, r\n",
        "e = (p - q) / r\n",
        "\n",
        "# Define a boolean variable\n",
        "display = True\n",
        "\n",
        "# If display, print()\n",
        "if display:\n",
        "    print(y, e)"
      ]
    },
    {
      "cell_type": "markdown",
      "metadata": {
        "id": "ByqpCbhjsFIK"
      },
      "source": [
        "# Comentarios\n",
        "Los comentarios son sentecia de texto en el código que sirven para agregar detalles del programa. Estos detalles son utiles para otros programadores o para nuestro yo futuro. El interprete de Python no ejecuta estas sentencias. Estas se pueden hacer de 2 formas, \n",
        "1. Inciando una línea con el simbolo #(numeral) o al final de una sentencia.\n",
        "2. Con triple comillas, simples o dobles, nos permite hacer comentarios en mas de una línea.\n",
        "\n"
      ]
    },
    {
      "cell_type": "code",
      "execution_count": null,
      "metadata": {},
      "outputs": [],
      "source": [
        "# Esto es un comentario\n",
        "a = 2 # Esto es un comentario al final de una línea de código\n",
        "\n",
        "\"\"\"\n",
        "Esto es un comentario\n",
        "escrito en más de una línea\n",
        "\"\"\"\n",
        "'''\n",
        "Esto es un comentario\n",
        "escrito en más de una línea\n",
        "'''"
      ]
    },
    {
      "cell_type": "markdown",
      "metadata": {},
      "source": [
        "# Identación y bloques de Código\n",
        "Los bloques de código son pedazos del programa que permiten ejecutar algunas tareas especiales. Son utilizadas normalmentes para estructuras de control como los condicionales, ciclos o bloques try, except, tambien para crear clases o funciones. Estos bloques se definen utilizado una identación(espaciado o tabulación)."
      ]
    },
    {
      "cell_type": "code",
      "execution_count": 1,
      "metadata": {},
      "outputs": [
        {
          "name": "stdout",
          "output_type": "stream",
          "text": [
            "b es mayor que a\n"
          ]
        }
      ],
      "source": [
        "# usando la identación con if\n",
        "a = 33\n",
        "b = 200\n",
        "if b > a:\n",
        "  print(\"b es mayor que a\")#esto es un bloque de código identado con 2 espacios\n"
      ]
    },
    {
      "cell_type": "code",
      "execution_count": 2,
      "metadata": {},
      "outputs": [
        {
          "ename": "IndentationError",
          "evalue": "expected an indented block (Temp/ipykernel_18920/356751590.py, line 2)",
          "output_type": "error",
          "traceback": [
            "\u001b[1;36m  File \u001b[1;32m\"C:\\Users\\HP\\AppData\\Local\\Temp/ipykernel_18920/356751590.py\"\u001b[1;36m, line \u001b[1;32m2\u001b[0m\n\u001b[1;33m    print(\"b es mayor que a\") #esto es un erro\u001b[0m\n\u001b[1;37m    ^\u001b[0m\n\u001b[1;31mIndentationError\u001b[0m\u001b[1;31m:\u001b[0m expected an indented block\n"
          ]
        }
      ],
      "source": [
        "if b > a:\n",
        "print(\"b es mayor que a\") #esto es un error de identación. No se puede ejecutar."
      ]
    },
    {
      "cell_type": "markdown",
      "metadata": {},
      "source": [
        "Como hemos observado,   python diferencia cada sentencia o línea de código solo con el salto de línea, pero podemos definir mas de una sentencia en una misma linea, separandolo con punto y coma ;"
      ]
    },
    {
      "cell_type": "code",
      "execution_count": 4,
      "metadata": {},
      "outputs": [
        {
          "name": "stdout",
          "output_type": "stream",
          "text": [
            "733\n"
          ]
        }
      ],
      "source": [
        "a = 33 ; b = 200 ; c = 500 # varias asignaciones en una línea\n",
        "d = a + b + c\n",
        "print(d)"
      ]
    },
    {
      "cell_type": "markdown",
      "metadata": {},
      "source": [
        "# Varias líneas de código\n",
        "Aveces tenemos sentencias bastante largas las cuales es útil dividirlas en varias líneas de código."
      ]
    },
    {
      "cell_type": "code",
      "execution_count": 5,
      "metadata": {},
      "outputs": [],
      "source": [
        "x = 1 + 2 + 3 + 4 +\\\n",
        "    5 + 6 + 7 + 8\n",
        "    #un backslash permite continuar en la siguiente línea"
      ]
    },
    {
      "cell_type": "code",
      "execution_count": 6,
      "metadata": {},
      "outputs": [
        {
          "data": {
            "text/plain": [
              "6"
            ]
          },
          "execution_count": 6,
          "metadata": {},
          "output_type": "execute_result"
        }
      ],
      "source": [
        "def funcion(a,b,c):\n",
        "    return a*b*c\n",
        "funcion(1,\n",
        "        2,\n",
        "        3) # se puede escribir en varias líneas el llamado a la función"
      ]
    },
    {
      "cell_type": "code",
      "execution_count": 7,
      "metadata": {},
      "outputs": [],
      "source": [
        "lista = [1,\n",
        "         2,\n",
        "         3,\n",
        "         4,\n",
        "         5] # se puede escribir en varias líneas la definición de una estructura de datos"
      ]
    },
    {
      "cell_type": "markdown",
      "metadata": {},
      "source": [
        "# Parentesis\n",
        "Es importante saber que el uso de parentesis puede afectar la ejecución de operaciones en Python. Veamos:"
      ]
    },
    {
      "cell_type": "code",
      "execution_count": 10,
      "metadata": {},
      "outputs": [
        {
          "data": {
            "text/plain": [
              "-59018"
            ]
          },
          "execution_count": 10,
          "metadata": {},
          "output_type": "execute_result"
        }
      ],
      "source": [
        "x = 10\n",
        "y = x*3-3**10-2+3\n",
        "y"
      ]
    },
    {
      "cell_type": "code",
      "execution_count": 11,
      "metadata": {},
      "outputs": [
        {
          "data": {
            "text/plain": [
              "282429536484"
            ]
          },
          "execution_count": 11,
          "metadata": {},
          "output_type": "execute_result"
        }
      ],
      "source": [
        "x = 10\n",
        "#ahora con paréntesis ()\n",
        "y = (x*3-3)**(10-2)+3\n",
        "y\n",
        "# el paréntesis tiene prioridad sobre los operadores"
      ]
    },
    {
      "cell_type": "markdown",
      "metadata": {
        "id": "rRyjhvPfmgMS"
      },
      "source": [
        "# Bibliografía\n",
        "\n",
        "\n",
        "1.   https://ellibrodepython.com/sintaxis-python\n",
        "2.   Python para informaticos, Charles Severance, 2009\n",
        "3.   \n",
        "\n"
      ]
    }
  ],
  "metadata": {
    "colab": {
      "authorship_tag": "ABX9TyO9EI6khyzxblTNExJdx1l7",
      "include_colab_link": true,
      "provenance": []
    },
    "kernelspec": {
      "display_name": "Python 3",
      "name": "python3"
    },
    "language_info": {
      "codemirror_mode": {
        "name": "ipython",
        "version": 3
      },
      "file_extension": ".py",
      "mimetype": "text/x-python",
      "name": "python",
      "nbconvert_exporter": "python",
      "pygments_lexer": "ipython3",
      "version": "3.9.4"
    }
  },
  "nbformat": 4,
  "nbformat_minor": 0
}
