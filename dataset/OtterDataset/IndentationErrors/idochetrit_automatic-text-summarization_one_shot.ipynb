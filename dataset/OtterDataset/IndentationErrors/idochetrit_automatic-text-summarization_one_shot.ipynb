{
 "metadata": {
  "language_info": {
   "codemirror_mode": {
    "name": "ipython",
    "version": 3
   },
   "file_extension": ".py",
   "mimetype": "text/x-python",
   "name": "python",
   "nbconvert_exporter": "python",
   "pygments_lexer": "ipython3",
   "version": "3.7.3-final"
  },
  "orig_nbformat": 2,
  "kernelspec": {
   "name": "python_defaultSpec_1599862862684",
   "display_name": "Python 3.7.3 64-bit"
  }
 },
 "nbformat": 4,
 "nbformat_minor": 2,
 "cells": [
  {
   "cell_type": "code",
   "execution_count": 2,
   "metadata": {},
   "outputs": [],
   "source": [
    "import data_util\n",
    "\n"
   ]
  },
  {
   "cell_type": "code",
   "execution_count": 4,
   "metadata": {
    "tags": []
   },
   "outputs": [
    {
     "output_type": "stream",
     "name": "stdout",
     "text": "Loaded Stories 15\n{'story': ['by', 'amanda williams', 'published:', '12:31 est, 23 september 2013', '|', 'updated:', '14:05 est, 23 september 2013', \"tesco has been ordered to pay £57,000 after a 'super mouse' - which had grown twice the size of a normal rodent after feasting on high protein meat- was found gnawing on raw chicken in one if its flagship stores.\", 'health inspectors found the creature at the covent garden branch of tesco in central london. the store had already failed three inspections.', 'in one photo taken by health chiefs the brazen mouse is pictured sitting happily on top of a packet of raw meat.', \"tesco has been fined £45,000 after a 'super mouse' - which had grown twice the size of a normal rodent after feasting on high protein meat- was found gnawing on raw chicken in one if its flagship stores\", 'it is thought the mouse got so big after gorging on protein such as hot and spicy chicken wings, ribs, sausages and chicken legs.', 'and when a crate was removed from the kitchen three live mice jumped onto the floor, a court heard.', \"inspectors were also 'overcome' by the stench of rotting mice in the store's warehouse when they carried out an inspection in march 2012.\", 'and the shop was littered with mouse droppings- with up to 70 found inside the in-store bakery alone.', 'the alarm was first raised on march 21st last year by customers who complained mice were scurrying around the aisles.', 'in the three months prior to that southwark crown court heard pest controllers rentokil had made 31 visits.', 'however, despite this the store did not hire proper pest control.', 'the store failed a first inspection on march 23rd.', 'and no cleaning had taken place before a second inspection on march 26 following a further complaint by a member of the public.', \"paul sharkey, for westminster city council which carried out the inspection, said: 'there was extensive evidence of mouse droppings, extensive quantities of raw chicken found in a walk-in fridge which had been gnawed by mice and live mice were seen running from crate to crate of raw meat products.\", \"'there was also evidence of nesting in the insulation of pipe work.'\", \"mr sharkey said mouse droppings were also found near pastry, on food packaging and at a pick 'n' mix counter.\", \"he continued: 'upon entering a dairy walk-in fridge one of the environmental officers was overcome by a terrible smell which turned out to be a dead mouse.\", \"'alarmingly bags of chicken were found which were well past their sell by date with no indication that the chicken would not be used for sale.'\", 'tesco claimed that particular chicken was for waste only and never intended for human consumption.', 'however, mr sharkey said out of date chicken was stored next to in date meat which still presented a high contamination risk.', 'rodent droppings were found on the shop floor and on bakery packaging at tesco metro in covent garden, central london', \"food waste was also discovered across the store's warehouse and storage areas, while the floors were covered in grease and dirt\", 'as well as droppings, rodent hairs were also discovered on bags of chicken.', 'as staff had not fixed loose tiles, pipes and doors, mice had access to food crates throughout the bedford street store.', \"and poor pest proofing meant the suspended ceiling was often used by mice in the building as 'runways'.\", 'after repeated failures to deal with the pest problem, officers forced the branch, which was used by 55,000 shoppers weekly, to close as an emergency measure. it remained shut for 13 days.', 'tesco later admitted six food hygiene breaches at westminster magistrates court where the maximum fine they could have received was £30,000.', \"but magistrates ruled the offence was so serious it should be sent to the crown court for sentencing as it was 'clear the company had not placed its customers first.'\", \"sentencing the supermarket, judge nicholas loraine-smith said: 'on march 21 last year a member of the public noticed a mouse in tesco metro and reported it to westminster city council.\", \"'two days later two environmental officers visited the store and found a number of unsatisfactory features.\", \"'one might have expected the company to react vigorously but it did not.\", \"'nothing was done over the weekend when the manager was away and when officers returned on the monday following a further complaint by a member of the public the situation was the same, if not worse than it had been.\", \"'it is remarkable that something like this could occur within an organisation such as tesco which has to be so careful with its reputation.\", \"'but i am satisfied it is a local and specified failure of management and one that has been dealt with.'\", 'he also ordered the company to pay £11, 822 court costs.', 'as well as droppings, rodent hairs were also discovered on bags of chicken. as staff had not fixed loose tiles, pipes and doors, mice had access to food crates throughout the bedford street store', 'it is thought the mouse got so big after gorging on protein such as hot and spicy chicken wings, ribs, sausages and chicken legs', \"inspectors were also 'overcome' by the stench of rotting mice in the store's warehouse when they carried out an inspection in march 2012\", 'the supermarket chain, which was also caught up in the horsemeat scandal, has been fined three times for breaching hygiene standards in the last five years.', 'in october 2008 they were fined £8,000 plus £8,000 in costs after pleading guilty to selling a chocolate caterpillar cake that was unfit for human consumption at a cardiff store as it had been gnawed by mice.', 'ipswich magistrates court fined the supermarket £17,000 plus £57,000 in february 2010 after it was convicted of eight further food hygiene breaches relating to pest control at its anson road branch in martlesham, suffolk.', 'and in october 2010 the chain was fined a further £30,000 plus £9,500 costs for selling various items which had been nibbled by rodents at a store in old tiffield road, northamptonshire.', \"mark watson, representing tesco, said the covent garden store's manager had since been replaced and staff retrained.\", \"he added: 'i make an unreserved apology on behalf of the company.\", \"'as can be seen from the photos the conditions in the store were unacceptable.\", \"'its 3,000 stores generally maintain very high standards.'\"], 'highlights': ['health inspectors found creature at the covent garden branch in london', 'photos show the mouse perched on packaging and feasting on meat', 'believed to have gorged on chicken wings, ribs, sausages and chicken legs', 'tesco fined £45,000 and ordered to pay £11,822 costs']}\n"
    }
   ],
   "source": [
    "\n",
    "batch_size = 64\n",
    "epochs = 110\n",
    "latent_dim = 256\n",
    "num_samples = 10000\n",
    "stories = data_util.get_preprocessed_stories();\n",
    "\n",
    "print(stories[0])"
   ]
  },
  {
   "source": [
    "## Vectorizing the tokens of the sentences"
   ],
   "cell_type": "markdown",
   "metadata": {}
  },
  {
   "cell_type": "code",
   "execution_count": 7,
   "metadata": {},
   "outputs": [
    {
     "output_type": "error",
     "ename": "IndentationError",
     "evalue": "expected an indented block (<ipython-input-7-8ff96bd4a023>, line 15)",
     "traceback": [
      "\u001b[0;36m  File \u001b[0;32m\"<ipython-input-7-8ff96bd4a023>\"\u001b[0;36m, line \u001b[0;32m15\u001b[0m\n\u001b[0;31m    if char not in target_characters:\u001b[0m\n\u001b[0m     ^\u001b[0m\n\u001b[0;31mIndentationError\u001b[0m\u001b[0;31m:\u001b[0m expected an indented block\n"
     ]
    }
   ],
   "source": [
    "input_texts = []\n",
    "target_texts = []\n",
    "\n",
    "input_words = set()\n",
    "target_words = set()\n",
    "\n",
    "for story in stories:\n",
    "    for highlight in story['highlights']: \n",
    "        target_texts.append('\\t' + highlight + '\\n')  \n",
    "    # for char in target_text:\n",
    "    #     if char not in target_words:\n",
    "    #         target_words.add(char)\n",
    "\n",
    "    input_text = story['story']\n",
    "    for char in input_text:\n",
    "        if char not in input_words:\n",
    "            input_words.add(char)\n",
    "\n",
    "    input_texts.append(story['story'])\n",
    "\n",
    "\n",
    "input_words = sorted(list(input_words))\n",
    "target_words = sorted(list(target_words))\n",
    "num_encoder_tokens = len(input_words)\n",
    "num_decoder_tokens = len(target_words)\n",
    "max_encoder_seq_length = max([len(txt) for txt in input_texts])\n",
    "max_decoder_seq_length = max([len(txt) for txt in target_texts])\n",
    "print('Number of samples:', len(input_texts))\n",
    "print('Number of unique input tokens:', num_encoder_tokens)\n",
    "print('Number of unique output tokens:', num_decoder_tokens)\n",
    "print('Max sequence length for inputs:', max_encoder_seq_length)\n",
    "print('Max sequence length for outputs:', max_decoder_seq_length)"
   ]
  },
  {
   "cell_type": "code",
   "execution_count": null,
   "metadata": {},
   "outputs": [],
   "source": []
  }
 ]
}