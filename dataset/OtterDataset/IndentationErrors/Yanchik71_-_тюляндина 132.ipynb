{
 "cells": [
  {
   "cell_type": "code",
   "execution_count": 1,
   "id": "2cd1c6c5",
   "metadata": {},
   "outputs": [
    {
     "name": "stdout",
     "output_type": "stream",
     "text": [
      "5 3\n"
     ]
    }
   ],
   "source": [
    "a=3\n",
    "b=5\n",
    "a, b = b, a\n",
    "print(a, b) # a= 5, b =3"
   ]
  },
  {
   "cell_type": "code",
   "execution_count": 2,
   "id": "53fa0f9d",
   "metadata": {},
   "outputs": [
    {
     "name": "stdout",
     "output_type": "stream",
     "text": [
      "4.75\n"
     ]
    }
   ],
   "source": [
    "var_1 = [1, 5, 6, 7]\n",
    "sum = 0\n",
    "for i in var_1:\n",
    "    sum += i\n",
    "print(sum/len(var_1))\n",
    "#  Вывод"
   ]
  },
  {
   "cell_type": "code",
   "execution_count": 3,
   "id": "cec95851",
   "metadata": {},
   "outputs": [
    {
     "ename": "IndentationError",
     "evalue": "unexpected indent (2976150923.py, line 2)",
     "output_type": "error",
     "traceback": [
      "\u001b[1;36m  Cell \u001b[1;32mIn [3], line 2\u001b[1;36m\u001b[0m\n\u001b[1;33m    print(var_1 in [5, 6, 40, 126])\u001b[0m\n\u001b[1;37m    ^\u001b[0m\n\u001b[1;31mIndentationError\u001b[0m\u001b[1;31m:\u001b[0m unexpected indent\n"
     ]
    }
   ],
   "source": [
    " var_1 = 11\n",
    "    print(var_1 in [5, 6, 40, 126])\n",
    "    # Вывод"
   ]
  }
 ],
 "metadata": {
  "kernelspec": {
   "display_name": "Python 3 (ipykernel)",
   "language": "python",
   "name": "python3"
  },
  "language_info": {
   "codemirror_mode": {
    "name": "ipython",
    "version": 3
   },
   "file_extension": ".py",
   "mimetype": "text/x-python",
   "name": "python",
   "nbconvert_exporter": "python",
   "pygments_lexer": "ipython3",
   "version": "3.9.13"
  }
 },
 "nbformat": 4,
 "nbformat_minor": 5
}
