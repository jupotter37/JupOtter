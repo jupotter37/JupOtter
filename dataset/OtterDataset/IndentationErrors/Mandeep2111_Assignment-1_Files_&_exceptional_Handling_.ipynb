{
  "nbformat": 4,
  "nbformat_minor": 0,
  "metadata": {
    "colab": {
      "provenance": []
    },
    "kernelspec": {
      "name": "python3",
      "display_name": "Python 3"
    },
    "language_info": {
      "name": "python"
    }
  },
  "cells": [
    {
      "cell_type": "code",
      "execution_count": null,
      "metadata": {
        "id": "VRBbjfM0Mz7c"
      },
      "outputs": [],
      "source": [
        "  # Ques 1 Discuss the scenarios where multithreading is preferable to multiprocessing and  scenarios where multiprocessing is a better choice.\n",
        "\n",
        "  #   Shared Memory and Lightweight Context Switching:\n",
        "  #   When we have multiple tasks that need to share data frequently and can benefit from light\n",
        "  #   weight context switching.\n",
        "  #   Example: In a web server handling many simultaneous HTTP requests  where the threads need to\n",
        "  #   share the same memory space for efficient request handling and data sharing.\n",
        "\n",
        "  #   I/O-Bound Tasks:\n",
        "  #   Scenario: When simplicity and lower overhead are desired as threads have lower memory\n",
        "  #   overhead compared to processes and are easier to manage in terms of creation and #\n",
        "  #   communication.\n",
        "  #   Example: Simple applications or small-scale tasks where threads can be used to improve\n",
        "  #   responsiveness and performance without significant complexity."
      ]
    },
    {
      "cell_type": "code",
      "source": [
        " # Ques 2 Describe what a process pool is and how it helps in managing multiple processes efficiently.\n",
        "\n",
        " # A process pool is a collection of pre-created, reusable processes that can be used to execute tasks concurrently. It is a key concept in managing multiple processes efficiently, particularly when dealing with tasks that can be performed in parallel.\n",
        "\n",
        " # Reduced Overhead: Creating and destroying processes can be resource-intensive. By reusing existing processes from the pool, the overhead associated with process creation and teardown is significantly reduced.\n",
        "\n",
        "#Controlled Concurrency: A process pool limits the number of concurrent processes, which helps in managing system resources more effectively and prevents the system from being overwhelmed by too many processes.\n",
        "\n",
        "\n"
      ],
      "metadata": {
        "id": "HHFe4JmpM0sD"
      },
      "execution_count": null,
      "outputs": []
    },
    {
      "cell_type": "markdown",
      "source": [],
      "metadata": {
        "id": "tva8qUm8NvqE"
      }
    },
    {
      "cell_type": "code",
      "source": [
        " # Ques 3 Explain what multiprocessing is and why it is used in Python programs.\n",
        "\n",
        " # Multiprocessing refers to the ability of a system to execute multiple processes simultaneously. In the context of Python programming, it involves creating and managing multiple processes to achieve parallelism and improve performance\n",
        "\n",
        " #GIL Limitation: Python’s Global Interpreter Lock (GIL) is a mutex that protects access to Python objects, preventing multiple native threads from executing Python bytecodes simultaneously. This can be a bottleneck for CPU-bound tasks in multi-threaded programs.\n",
        "# Multiprocessing Solution: By using multiprocessing, Python can bypass the GIL because each   process has its own Python interpreter and memory space. This allows Python programs to take full advantage of multiple CPU cores for CPU-bound tasks."
      ],
      "metadata": {
        "id": "2tB6HMnQM0uV"
      },
      "execution_count": null,
      "outputs": []
    },
    {
      "cell_type": "code",
      "source": [
        "# Ques 4 Write a Python program using multithreading where one thread adds numbers to a list, and another thread removes numbers from the list. Implement a mechanism to avoid race conditions using\n",
        "# threading.Lock.\n",
        "\n",
        "import threading\n",
        "import time\n",
        "shared_list = []\n",
        "list_lock = threading.Lock()\n",
        "def add_numbers():\n",
        "    for i in range(10):\n",
        "        time.sleep(0.1)\n",
        "        with list_lock:\n",
        "            shared_list.append(i)\n",
        "            print(f'Added {i}. List now: {shared_list}')\n",
        "\n",
        " def remove_numbers():\n",
        "    for _ in range(10):"
      ],
      "metadata": {
        "colab": {
          "base_uri": "https://localhost:8080/",
          "height": 106
        },
        "id": "W4hefJQ2N-EE",
        "outputId": "767268fc-ce0e-4769-99bf-42f39cb7b3ea"
      },
      "execution_count": null,
      "outputs": [
        {
          "output_type": "error",
          "ename": "IndentationError",
          "evalue": "unindent does not match any outer indentation level (<tokenize>, line 16)",
          "traceback": [
            "\u001b[0;36m  File \u001b[0;32m\"<tokenize>\"\u001b[0;36m, line \u001b[0;32m16\u001b[0m\n\u001b[0;31m    def remove_numbers():\u001b[0m\n\u001b[0m    ^\u001b[0m\n\u001b[0;31mIndentationError\u001b[0m\u001b[0;31m:\u001b[0m unindent does not match any outer indentation level\n"
          ]
        }
      ]
    },
    {
      "cell_type": "code",
      "source": [
        " # Ques 5 Describe the methods and tools available in Python for safely sharing data between threads and processes\n",
        "\n",
        " # Ans  Threading.Lock:\n",
        " import threading\n",
        "\n",
        "lock = threading.Lock()\n",
        "shared_resource = []\n",
        "\n",
        "def thread_function():\n",
        "    with lock:\n",
        "        shared_resource.append(1)"
      ],
      "metadata": {
        "id": "wuprK0_0N-Hj"
      },
      "execution_count": null,
      "outputs": []
    },
    {
      "cell_type": "code",
      "source": [
        "# threading.RLock\n",
        "import threading\n",
        "\n",
        "rlock = threading.RLock()\n",
        "\n",
        "def thread_function():\n",
        "    with rlock:\n",
        "        with rlock:\n",
        "\n",
        "  # threading.Condition\n",
        "\n",
        "    import threading\n",
        "\n",
        "condition = threading.Condition()\n",
        "shared_resource = []\n",
        "\n",
        "def producer():\n",
        "    with condition:\n",
        "        shared_resource.append(1)\n",
        "        condition.notify()\n",
        "\n",
        "def consumer():\n",
        "    with condition:\n",
        "       condition.wait()\n",
        "       item = shared_resource.pop()"
      ],
      "metadata": {
        "id": "R5-o5oiGN-NN"
      },
      "execution_count": null,
      "outputs": []
    },
    {
      "cell_type": "code",
      "source": [
        "# Ques 6 Discuss why it’s crucial to handle exceptions in concurrent programs and the techniques available for doing so ?\n",
        "# Handling exceptions in concurrent programs is crucial due to the complexities introduced by parallel execution. In concurrent programs, multiple threads or processes run simultaneously, and errors can occur in any of them. If exceptions are not handled properly, they can lead to unpredictable behavior, crashes, and data corruption.\n",
        "\n",
        "# Isolation of Errors:\n",
        "\n",
        "# Challenge: In concurrent environments, an error in one thread or process should not affect the others. If not handled properly, an exception in one thread might crash the entire application or lead to inconsistent state.\n",
        "\n",
        "# Predictability and Stability:\n",
        "\n",
        "#Challenge: Concurrent programs are more complex, making it harder to predict where and how errors might occur. Proper exception handling ensures that errors are managed gracefully, and the application remains stable."
      ],
      "metadata": {
        "id": "oDxttLmUN-Pr"
      },
      "execution_count": null,
      "outputs": []
    },
    {
      "cell_type": "code",
      "source": [
        "# Ques 7 Create a program that uses a thread pool to calculate the factorial of numbers from 1 to 10 concurrently.Use concurrent.futures.ThreadPoolExecutor to manage the threads."
      ],
      "metadata": {
        "id": "21wyj4dCM0wL"
      },
      "execution_count": null,
      "outputs": []
    },
    {
      "cell_type": "code",
      "source": [
        "import concurrent.futures\n",
        "import math\n",
        "\n",
        "def factorial(n):\n",
        "    \"\"\"Calculate the factorial of a number.\"\"\"\n",
        "    return math.factorial(n)\n",
        "\n",
        "def main():\n",
        "    numbers = range(1, 11)  # Numbers from 1 to 10\n",
        "    with concurrent.futures.ThreadPoolExecutor(max_workers=10) as executor:\n",
        "      results = list(executor.map(factorial, numbers))\n",
        "      for num, fact in zip(numbers, results):\n",
        "        print(f\"The factorial of {num} is {fact}\")\n",
        "\n",
        "if __name__ == \"__main__\":\n",
        "    main()"
      ],
      "metadata": {
        "id": "t0OLrdMhP88N"
      },
      "execution_count": null,
      "outputs": []
    },
    {
      "cell_type": "code",
      "source": [
        "# Ques 8 Create a Python program that uses multiprocessing.Pool to compute the square of numbers from 1 to 10 in parallel. Measure the time taken to perform this computation using a pool of different sizes (e.g., 2, 4, 8 processes).\n",
        "\n",
        "import multiprocessing\n",
        "import time\n",
        "\n",
        "def square(n):\n",
        "    \"\"\"Function to compute the square of a number.\"\"\"\n",
        "    return n * n\n",
        "\n",
        "def measure_time(pool_size, numbers):\n",
        "    start_time = time.time()\n",
        "\n",
        "    with multiprocessing.Pool(processes=pool_size) as pool:\n",
        "        results = pool.map(square, numbers)\n",
        "        return results, elapsed_time\n",
        "\n",
        "def main():\n",
        "    numbers = range(1, 11)\n",
        "\n",
        "    pool_sizes = [2, 4, 8]\n",
        "\n",
        "    for pool_size in pool_sizes:\n",
        "        results, elapsed_time = measure_time(pool_size, numbers)\n",
        "        print(f\"Pool size: {pool_size}\")\n",
        "        print(f\"Results: {results}\")\n",
        "        print(f\"Time taken: {elapsed_time:.4f} seconds\\n\")\n",
        "\n",
        "if __name__ == \"__main__\":\n",
        "    main()"
      ],
      "metadata": {
        "id": "rhOh_nrqP8_d"
      },
      "execution_count": null,
      "outputs": []
    },
    {
      "cell_type": "code",
      "source": [],
      "metadata": {
        "id": "WhsKTa2iM04b"
      },
      "execution_count": null,
      "outputs": []
    },
    {
      "cell_type": "code",
      "source": [],
      "metadata": {
        "id": "1tnTpgljM07M"
      },
      "execution_count": null,
      "outputs": []
    },
    {
      "cell_type": "code",
      "source": [],
      "metadata": {
        "id": "NfiokhhrM09K"
      },
      "execution_count": null,
      "outputs": []
    },
    {
      "cell_type": "code",
      "source": [],
      "metadata": {
        "id": "VNbf9uPWM0_b"
      },
      "execution_count": null,
      "outputs": []
    }
  ]
}