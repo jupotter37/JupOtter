{
  "nbformat": 4,
  "nbformat_minor": 0,
  "metadata": {
    "kernelspec": {
      "display_name": "Python 3",
      "language": "python",
      "name": "python3"
    },
    "language_info": {
      "codemirror_mode": {
        "name": "ipython",
        "version": 3
      },
      "file_extension": ".py",
      "mimetype": "text/x-python",
      "name": "python",
      "nbconvert_exporter": "python",
      "pygments_lexer": "ipython3",
      "version": "3.7.4"
    },
    "colab": {
      "name": "Starter code for scrap.ipynb",
      "provenance": [],
      "collapsed_sections": [],
      "include_colab_link": true
    }
  },
  "cells": [
    {
      "cell_type": "markdown",
      "metadata": {
        "id": "view-in-github",
        "colab_type": "text"
      },
      "source": [
        "<a href=\"https://colab.research.google.com/github/WanjohiWanjohi/Food-Quantity-Project/blob/master/Starter_code_for_scrap.ipynb\" target=\"_parent\"><img src=\"https://colab.research.google.com/assets/colab-badge.svg\" alt=\"Open In Colab\"/></a>"
      ]
    },
    {
      "cell_type": "code",
      "metadata": {
        "id": "bTydxe1Nlf98",
        "outputId": "89e8da78-2e6e-4804-f647-77fbcc2db6a9",
        "colab": {
          "base_uri": "https://localhost:8080/",
          "height": 86
        }
      },
      "source": [
        "!pip install fire \n",
        "!pip install preprocessor"
      ],
      "execution_count": null,
      "outputs": [
        {
          "output_type": "stream",
          "text": [
            "Requirement already satisfied: fire in /usr/local/lib/python3.6/dist-packages (0.3.1)\n",
            "Requirement already satisfied: six in /usr/local/lib/python3.6/dist-packages (from fire) (1.15.0)\n",
            "Requirement already satisfied: termcolor in /usr/local/lib/python3.6/dist-packages (from fire) (1.1.0)\n",
            "Requirement already satisfied: preprocessor in /usr/local/lib/python3.6/dist-packages (1.1.3)\n"
          ],
          "name": "stdout"
        }
      ]
    },
    {
      "cell_type": "code",
      "metadata": {
        "id": "lUeNQQQTi-7w"
      },
      "source": [
        "from requests import get\n",
        "from requests.exceptions import RequestException\n",
        "from contextlib import closing\n",
        "from bs4 import BeautifulSoup\n",
        "import pandas as pd\n",
        "import os, sys\n",
        "\n",
        "import fire\n",
        "\n",
        "import csv\n",
        "import sys\n",
        "import os\n",
        "import json\n",
        "import matplotlib.pyplot as plt\n",
        "import re\n",
        "import string\n",
        "\n",
        "import matplotlib.dates as mdates\n",
        "import seaborn as sns\n",
        "\n",
        "# to view all columns\n",
        "pd.set_option(\"display.max.columns\", None)\n",
        "\n",
        "import tweepy\n",
        "from tweepy.streaming import StreamListener\n",
        "from tweepy import OAuthHandler\n",
        "from tweepy import Stream\n",
        "from tweepy import API\n",
        "from tweepy import Cursor\n",
        "from datetime import datetime, date, time, timedelta\n",
        "import sys\n",
        "\n",
        "\n",
        "import preprocessor as p"
      ],
      "execution_count": null,
      "outputs": []
    },
    {
      "cell_type": "code",
      "metadata": {
        "id": "GwRomv8-oGeR"
      },
      "source": [
        "\n",
        "auth = OAuthHandler(consumer_key, consumer_secret)\n",
        "auth.set_access_token(access_token, access_token_secret)"
      ],
      "execution_count": null,
      "outputs": []
    },
    {
      "cell_type": "code",
      "metadata": {
        "id": "P33IDAIEgmeZ"
      },
      "source": [
        "api =tweepy.API(auth, wait_on_rate_limit=True,\n",
        "          wait_on_rate_limit_notify=True)"
      ],
      "execution_count": null,
      "outputs": []
    },
    {
      "cell_type": "code",
      "metadata": {
        "id": "l-FiMHWFi-8I",
        "outputId": "ebeca552-3e61-4eb2-f35b-65e5254b696d",
        "colab": {
          "base_uri": "https://localhost:8080/",
          "height": 132
        }
      },
      "source": [
        "class Tweets():\n",
        "    \n",
        "    # class variables + tweepy authentication\n",
        "    def __init__(self, cols=None, auth=None,intervention_date = '2020-04-01', earliest_date = '2020-01-01'):\n",
        "      if cols is None:\n",
        "        self.cols =  ['created_at', 'source', 'original_text', \n",
        "                     'lang',\n",
        "                    'favorite_count', 'retweet_count', 'original_author'\n",
        "                    ,'name', \"following\", 'followers',\n",
        "                    'hashtags', 'mention', 'place_coord_boundaries', 'location']\n",
        "      else:\n",
        "        self.cols = cols\n",
        "\n",
        "      if auth is None:\n",
        "        consumer_key=\"RPFdqfW02zjJBUz4own9u1bbq\"\n",
        "        consumer_secret=\"FeGaoXU3MkKLpEtJW8OYoOlA0yjGVh4Pn3aqkcwWDwuHC9eUsE\"\n",
        "        access_token=\"1277497429856866305-vcP7taySdn9c8Gl2x13oaOJzWAoDjt\"\n",
        "        access_token_secret=\"N46WpNcZgn6me2DTto0LsXtjPc8aQUu2WrKnPKp27rqZm\"\n",
        "        auth = OAuthHandler(consumer_key, consumer_secret)\n",
        "        auth.set_access_token(access_token, access_token_secret)\n",
        "      self.auth = auth\n",
        "      self.api = tweepy.API(auth, wait_on_rate_limit=True,\n",
        "          wait_on_rate_limit_notify=True)\n",
        "\n",
        "     # self.intervention_date = intervention_date\n",
        "       #self.end_date = datetime(2020, 4, 1, 0, 0)\n",
        "      #self.earliest_date = earliest_date\n",
        "      self.keywords = ['food shortage']\n",
        "\n",
        "    # country id \n",
        "    def get_placeid(self, city):\n",
        "        places = api.geo_search(query=city, granularity=\"city\")\n",
        "        place_id = places[0].id\n",
        "        \n",
        "        return place_id\n",
        "    \n",
        "\n",
        "    # get tweets\n",
        "    def get_tweets(self, state, start_date ):\n",
        "      place_id = get_placeid(state)\n",
        "        # tweets before covid intervention\n",
        "      tweets = tweepy.Cursor(api.search , q=keywords and (\"place:%s\" % place_id),  since_id = start_date).items(100)\n",
        "      return tweets#, post_intervention_tweets, \n",
        "    \n",
        "    # save tweets to dataframe and then csv\n",
        "    def get_var(self, state, start_date, csvfile=None):\n",
        "\n",
        "      df = pd.DataFrame(columns=self.cols)\n",
        "      \n",
        "\n",
        "      tweeted = get_tweets(state, start_date)  \n",
        "      newentry = [] \n",
        "        for tweets in tweeted:\n",
        "          new_entry += [tweets['created_at'],\n",
        "                        tweets['source'], tweets['text'],\n",
        "                        tweets['lang'],tweets['favorite_count'], \n",
        "                        tweets['retweet_count'], \n",
        "                        tweets['user']['screen_name'], tweets['user']['name'],\n",
        "                        tweets['user']['friends_count'], tweets['user']['followers_count']]\n",
        "\n",
        "          hashtags = \", \".join([hashtag_item['text'] for hashtag_item in status['entities']['hashtags']])\n",
        "\n",
        "\n",
        "                #\n",
        "          mentions = \", \".join([mention['screen_name'] for mention in status['entities']['user_mentions']])\n",
        "          new_entry.append(mentions) #append the user mentions\n",
        "\n",
        "          try:\n",
        "              xyz = status['place']['bounding_box']['coordinates']\n",
        "              coordinates = [coord for loc in xyz for coord in loc]\n",
        "          except TypeError:\n",
        "              coordinates = None\n",
        "          #\n",
        "          new_entry.append(coordinates)\n",
        "\n",
        "          try:\n",
        "              location = status['user']['location']\n",
        "          except TypeError:\n",
        "              location = ''\n",
        "          #\n",
        "          new_entry.append(location)\n",
        "\n",
        "          #now append a row to the dataframe\n",
        "          single_tweet_df = pd.DataFrame([new_entry], columns=self.cols)\n",
        "          df = df.append(single_tweet_df, ignore_index=True)\n",
        "\n",
        "        #write to csv  \n",
        "        if not csvfile is None:\n",
        "            #save it to file\n",
        "            df.to_csv(f'{csvfile}_{state}.csv', columns=self.cols, index=False, encoding=\"utf-8\")\n",
        "        return df\n"
      ],
      "execution_count": null,
      "outputs": [
        {
          "output_type": "error",
          "ename": "IndentationError",
          "evalue": "ignored",
          "traceback": [
            "\u001b[0;36m  File \u001b[0;32m\"<ipython-input-23-4dd513da5ef1>\"\u001b[0;36m, line \u001b[0;32m53\u001b[0m\n\u001b[0;31m    for tweets in tweeted:\u001b[0m\n\u001b[0m    ^\u001b[0m\n\u001b[0;31mIndentationError\u001b[0m\u001b[0;31m:\u001b[0m unexpected indent\n"
          ]
        }
      ]
    },
    {
      "cell_type": "code",
      "metadata": {
        "id": "rEg1BaF3i-8f",
        "outputId": "cf0ec761-ad2c-45d4-aa12-a3bc88a8cd2a",
        "colab": {
          "base_uri": "https://localhost:8080/",
          "height": 34
        }
      },
      "source": [
        "# instantiate class\n",
        "t = Tweets(auth)\n",
        "\n",
        "# get place ids (in a dict)\n",
        "ids = {}\n",
        "for state in ['Lagos']:  #country twitter codes. za is for south africa\n",
        "    placeid = t.get_placeid(state)\n",
        "    ids[state] = placeid\n",
        "    \n",
        "ids  "
      ],
      "execution_count": null,
      "outputs": [
        {
          "output_type": "execute_result",
          "data": {
            "text/plain": [
              "{'Lagos': '47c309670e5d2331'}"
            ]
          },
          "metadata": {
            "tags": []
          },
          "execution_count": 16
        }
      ]
    },
    {
      "cell_type": "code",
      "metadata": {
        "id": "MHPz7oW387Cu"
      },
      "source": [
        " state, tweets, start_date, csvfile=None)"
      ],
      "execution_count": null,
      "outputs": []
    },
    {
      "cell_type": "code",
      "metadata": {
        "id": "vPo7eHVc-bYo"
      },
      "source": [
        "state = 'Lagos'\n",
        "start_date= datetime(2019, 6, 1, 0, 0)\n"
      ],
      "execution_count": null,
      "outputs": []
    },
    {
      "cell_type": "code",
      "metadata": {
        "id": "G9vBqR84-_65"
      },
      "source": [
        ""
      ],
      "execution_count": null,
      "outputs": []
    },
    {
      "cell_type": "code",
      "metadata": {
        "id": "aQm0V2e76nmf",
        "outputId": "37ccc194-11ce-43ce-be9a-6a38d49bb96a",
        "colab": {
          "base_uri": "https://localhost:8080/",
          "height": 185
        }
      },
      "source": [
        "tweets_file = '/content/drive/My Drive/Twitter Data/tweets'\n",
        "df = t.get_var(state,start_date, csvfile=tweets_file)"
      ],
      "execution_count": null,
      "outputs": [
        {
          "output_type": "error",
          "ename": "TypeError",
          "evalue": "ignored",
          "traceback": [
            "\u001b[0;31m---------------------------------------------------------------------------\u001b[0m",
            "\u001b[0;31mTypeError\u001b[0m                                 Traceback (most recent call last)",
            "\u001b[0;32m<ipython-input-20-d29c7d2d2881>\u001b[0m in \u001b[0;36m<module>\u001b[0;34m()\u001b[0m\n\u001b[1;32m      1\u001b[0m \u001b[0mtweets_file\u001b[0m \u001b[0;34m=\u001b[0m \u001b[0;34m'/content/drive/My Drive/Twitter Data/tweets'\u001b[0m\u001b[0;34m\u001b[0m\u001b[0;34m\u001b[0m\u001b[0m\n\u001b[0;32m----> 2\u001b[0;31m \u001b[0mdf\u001b[0m \u001b[0;34m=\u001b[0m \u001b[0mt\u001b[0m\u001b[0;34m.\u001b[0m\u001b[0mget_var\u001b[0m\u001b[0;34m(\u001b[0m\u001b[0mstate\u001b[0m\u001b[0;34m,\u001b[0m\u001b[0mstart_date\u001b[0m\u001b[0;34m,\u001b[0m \u001b[0mcsvfile\u001b[0m\u001b[0;34m=\u001b[0m\u001b[0mtweets_file\u001b[0m\u001b[0;34m)\u001b[0m\u001b[0;34m\u001b[0m\u001b[0;34m\u001b[0m\u001b[0m\n\u001b[0m",
            "\u001b[0;31mTypeError\u001b[0m: get_var() got an unexpected keyword argument 'csvfile'"
          ]
        }
      ]
    },
    {
      "cell_type": "markdown",
      "metadata": {
        "id": "-92k78Soi-8w"
      },
      "source": [
        "Uncomment your country and run code, might take a while.\n"
      ]
    },
    {
      "cell_type": "code",
      "metadata": {
        "id": "7h7PBsR0i-8z"
      },
      "source": [
        "# get tweets \n",
        "KE_pre_intervention_tweets, KE_post_intervention_tweets = t.get_tweets(ids['KE'])\n",
        "# NG_pre_intervention_tweets, NG_post_intervention_tweets = get_tweets(ids['NG'])\n",
        "# UG_pre_intervention_tweets, UG_post_intervention_tweets = get_tweets(ids['UG'])\n",
        "# ZA_pre_intervention_tweets, ZA_post_intervention_tweets = get_tweets(ids['ZA'])"
      ],
      "execution_count": null,
      "outputs": []
    },
    {
      "cell_type": "code",
      "metadata": {
        "id": "OWtpG6wKi-9Q",
        "outputId": "2483bb43-690e-4fad-d206-87c4f5c61073"
      },
      "source": [
        "KE_pre_intervention_tweets"
      ],
      "execution_count": null,
      "outputs": [
        {
          "output_type": "execute_result",
          "data": {
            "text/plain": [
              "<tweepy.cursor.ItemIterator at 0x7fe0b16f0310>"
            ]
          },
          "metadata": {
            "tags": []
          },
          "execution_count": 14
        }
      ]
    },
    {
      "cell_type": "code",
      "metadata": {
        "id": "rtJYQTPpi-9r",
        "outputId": "8de97f4c-d423-4fe7-b4c1-ace24e66894f"
      },
      "source": [
        "KE_post_intervention_tweets"
      ],
      "execution_count": null,
      "outputs": [
        {
          "output_type": "execute_result",
          "data": {
            "text/plain": [
              "<tweepy.cursor.ItemIterator at 0x7fe0b16f0410>"
            ]
          },
          "metadata": {
            "tags": []
          },
          "execution_count": 15
        }
      ]
    },
    {
      "cell_type": "code",
      "metadata": {
        "id": "AhzhYkJ7i-9-"
      },
      "source": [
        ""
      ],
      "execution_count": null,
      "outputs": []
    },
    {
      "cell_type": "code",
      "metadata": {
        "id": "8deylJPdi--G"
      },
      "source": [
        "# t = []\n",
        "# for tweet in KE_pre_intervention_tweets:\n",
        "#     t.append(tweet.created_at)\n",
        "    \n",
        "# t"
      ],
      "execution_count": null,
      "outputs": []
    },
    {
      "cell_type": "code",
      "metadata": {
        "id": "GUWhxSYli--P"
      },
      "source": [
        "# get csv files\n",
        "\n",
        "# pre intervention\n",
        "t.get_var('KE', KE_pre_intervention_tweets, period = 'pre_covid')\n",
        "\n",
        "# post intervention\n",
        "t.get_var('KE', KE_post_intervention_tweets, period = 'post_covid')"
      ],
      "execution_count": null,
      "outputs": []
    },
    {
      "cell_type": "code",
      "metadata": {
        "id": "gb7HPjEpi--X"
      },
      "source": [
        ""
      ],
      "execution_count": null,
      "outputs": []
    }
  ]
}