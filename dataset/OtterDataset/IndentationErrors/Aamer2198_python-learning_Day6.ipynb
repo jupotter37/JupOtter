{
 "cells": [
  {
   "cell_type": "code",
   "execution_count": null,
   "metadata": {},
   "outputs": [],
   "source": [
    "# Continuation with List Data types"
   ]
  },
  {
   "cell_type": "code",
   "execution_count": null,
   "metadata": {},
   "outputs": [],
   "source": [
    "# Introduction to Looping Statement:--->"
   ]
  },
  {
   "cell_type": "code",
   "execution_count": null,
   "metadata": {},
   "outputs": [],
   "source": [
    "# Understanding of the concept of for loop"
   ]
  },
  {
   "cell_type": "code",
   "execution_count": 2,
   "metadata": {},
   "outputs": [
    {
     "name": "stdout",
     "output_type": "stream",
     "text": [
      "['Aamer', 'naveen', 'Uday', 'Bushra', 'Sameer']\n"
     ]
    },
    {
     "data": {
      "text/plain": [
       "list"
      ]
     },
     "execution_count": 2,
     "metadata": {},
     "output_type": "execute_result"
    }
   ],
   "source": [
    "student=[\"Aamer\",\"naveen\",\"Uday\",\"Bushra\",\"Sameer\"]\n",
    "print(student)\n",
    "type(student)"
   ]
  },
  {
   "cell_type": "code",
   "execution_count": null,
   "metadata": {},
   "outputs": [],
   "source": [
    "# req: to appreciate the list of student mentioned above"
   ]
  },
  {
   "cell_type": "code",
   "execution_count": 4,
   "metadata": {},
   "outputs": [
    {
     "name": "stdout",
     "output_type": "stream",
     "text": [
      "Keep up the good work student Aamer\n"
     ]
    }
   ],
   "source": [
    "print(f'Keep up the good work student {student[0].title()}')"
   ]
  },
  {
   "cell_type": "code",
   "execution_count": null,
   "metadata": {},
   "outputs": [],
   "source": [
    "print(f\"keep up good work student {student[1].title()}\")"
   ]
  },
  {
   "cell_type": "code",
   "execution_count": null,
   "metadata": {},
   "outputs": [],
   "source": [
    "# General syntax of for Loop:--->\n",
    "\n",
    "# for tempvar in mainvar:\n",
    "#     print(tempvar)"
   ]
  },
  {
   "cell_type": "code",
   "execution_count": 5,
   "metadata": {},
   "outputs": [
    {
     "name": "stdout",
     "output_type": "stream",
     "text": [
      "Keep up Your good work Aamer\n",
      "Keep up Your good work Naveen\n",
      "Keep up Your good work Uday\n",
      "Keep up Your good work Bushra\n",
      "Keep up Your good work Sameer\n"
     ]
    }
   ],
   "source": [
    "for x in student:\n",
    "    print(f\"Keep up Your good work, {x.title()}\")"
   ]
  },
  {
   "cell_type": "code",
   "execution_count": 6,
   "metadata": {},
   "outputs": [
    {
     "name": "stdout",
     "output_type": "stream",
     "text": [
      "Keep up good work,Aamer\n",
      "do submit your work for today without fail,Aamer\n",
      "\n",
      "Keep up good work,Naveen\n",
      "do submit your work for today without fail,Naveen\n",
      "\n",
      "Keep up good work,Uday\n",
      "do submit your work for today without fail,Uday\n",
      "\n",
      "Keep up good work,Bushra\n",
      "do submit your work for today without fail,Bushra\n",
      "\n",
      "Keep up good work,Sameer\n",
      "do submit your work for today without fail,Sameer\n",
      "\n"
     ]
    }
   ],
   "source": [
    "for x in student:     #indentation gap\n",
    "    print(f\"Keep up good work,{x.title()}\")\n",
    "    print(f\"do submit your work for today without fail,{x.title() }\\n\")"
   ]
  },
  {
   "cell_type": "code",
   "execution_count": 7,
   "metadata": {},
   "outputs": [
    {
     "ename": "IndentationError",
     "evalue": "expected an indented block after 'for' statement on line 1 (3405393240.py, line 2)",
     "output_type": "error",
     "traceback": [
      "\u001b[1;36m  Cell \u001b[1;32mIn[7], line 2\u001b[1;36m\u001b[0m\n\u001b[1;33m    print(f\"Keep up good work,{x.title()}\")\u001b[0m\n\u001b[1;37m    ^\u001b[0m\n\u001b[1;31mIndentationError\u001b[0m\u001b[1;31m:\u001b[0m expected an indented block after 'for' statement on line 1\n"
     ]
    }
   ],
   "source": [
    "for x in student:     #indentation gap  this is example  of indentation error\n",
    "print(f\"Keep up good work,{x.title()}\")\n",
    "print(f\"do submit your work for today without fail,{x.title() }\\n\")"
   ]
  },
  {
   "cell_type": "code",
   "execution_count": 8,
   "metadata": {},
   "outputs": [
    {
     "name": "stdout",
     "output_type": "stream",
     "text": [
      "Keep up good work,Aamer\n",
      "do submit your work for today without fail,Aamer\n",
      "\n",
      "Keep up good work,Naveen\n",
      "do submit your work for today without fail,Naveen\n",
      "\n",
      "Keep up good work,Uday\n",
      "do submit your work for today without fail,Uday\n",
      "\n",
      "Keep up good work,Bushra\n",
      "do submit your work for today without fail,Bushra\n",
      "\n",
      "Keep up good work,Sameer\n",
      "do submit your work for today without fail,Sameer\n",
      "\n",
      "thanks you all for joining int tge session\n"
     ]
    }
   ],
   "source": [
    "for x in student:     #indentation gap\n",
    "    print(f\"Keep up good work,{x.title()}\")\n",
    "    print(f\"do submit your work for today without fail,{x.title() }\\n\")\n",
    "print(\"thanks you all for joining int the session\")  #it is getting executed only one time bcoz it is out of the loop"
   ]
  }
 ],
 "metadata": {
  "kernelspec": {
   "display_name": "Python 3",
   "language": "python",
   "name": "python3"
  },
  "language_info": {
   "codemirror_mode": {
    "name": "ipython",
    "version": 3
   },
   "file_extension": ".py",
   "mimetype": "text/x-python",
   "name": "python",
   "nbconvert_exporter": "python",
   "pygments_lexer": "ipython3",
   "version": "3.12.1"
  }
 },
 "nbformat": 4,
 "nbformat_minor": 2
}
