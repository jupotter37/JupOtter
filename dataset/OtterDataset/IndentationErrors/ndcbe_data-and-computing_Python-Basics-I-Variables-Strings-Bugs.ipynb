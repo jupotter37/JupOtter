{
 "cells": [
  {
   "cell_type": "markdown",
   "metadata": {
    "colab_type": "text",
    "id": "lcbP21Z7zep4"
   },
   "source": [
    "# Python Basics I: Variables, Strings, and Bugs"
   ]
  },
  {
   "cell_type": "markdown",
   "metadata": {},
   "source": [
    "**Reference**: Chapter 1 of *Computational Nuclear Engineering and Radiological Science Using Python*, R. McClarren (2018)"
   ]
  },
  {
   "cell_type": "markdown",
   "metadata": {},
   "source": [
    "## Learning Objectives\n",
    "\n",
    "After studying this notebook, completing the activities, and asking questions in class, you should be able to:\n",
    "* Print and concatenate strings\n",
    "* Add relevant comments to batches of code\n",
    "* Recognize and correct bugs in code\n",
    "* Differentiate between the different types of variables and know what output to expect\n",
    "* Understand how to import and utilize the math library"
   ]
  },
  {
   "cell_type": "markdown",
   "metadata": {
    "colab_type": "text",
    "id": "1wKF7gO1zep6"
   },
   "source": [
    "## Hello World and Interactive Sessions\n",
    "In almost any computer language the first thing you do is create a program called \"Hello world!\".\n",
    "\n",
    "This **notebook** is an interactive session. We just type the command `print(\"Hello World.\")` and the press Shift+Enter to execute."
   ]
  },
  {
   "cell_type": "code",
   "execution_count": 11,
   "metadata": {
    "colab": {
     "base_uri": "https://localhost:8080/",
     "height": 34
    },
    "colab_type": "code",
    "executionInfo": {
     "elapsed": 395,
     "status": "ok",
     "timestamp": 1547565528877,
     "user": {
      "displayName": "Alexander Dowling",
      "photoUrl": "https://lh3.googleusercontent.com/-LChdQ2m5OQE/AAAAAAAAAAI/AAAAAAAAAA0/JeXJe4vQJ7M/s64/photo.jpg",
      "userId": "00988067626794866502"
     },
     "user_tz": 300
    },
    "id": "a7DNb-j-zep7",
    "outputId": "952ab2e9-2044-45fb-d24b-4e6486c77e34"
   },
   "outputs": [
    {
     "name": "stdout",
     "output_type": "stream",
     "text": [
      "Hello World.\n"
     ]
    }
   ],
   "source": [
    "print(\"Hello World.\")"
   ]
  },
  {
   "cell_type": "markdown",
   "metadata": {},
   "source": [
    "<div style=\"background-color: rgba(0,255,0,0.05) ; padding: 10px; border: 1px solid darkgreen;\"> \n",
    "<b>Home Activity</b>: Print the first two lines of your favorite poem or song.\n",
    "</div>"
   ]
  },
  {
   "cell_type": "markdown",
   "metadata": {},
   "source": [
    "Hint: Use `\\n` anywhere inside of the quotes to create a new line."
   ]
  },
  {
   "cell_type": "code",
   "execution_count": null,
   "metadata": {},
   "outputs": [],
   "source": []
  },
  {
   "cell_type": "markdown",
   "metadata": {
    "colab_type": "text",
    "id": "5aL5BAFdzeqH"
   },
   "source": [
    "**Unicode Characters**\n",
    "* A way to express fancy letters, like emojis\n",
    "* Supported by Python\n",
    "* Copy-and-paste is the easiest way to write in code\n",
    "* Easy to find on website such as http://xahlee.info, https://www.compart.com/en/unicode/, and https://unicode-table.com/en/#control-character (top Google search results)"
   ]
  },
  {
   "cell_type": "code",
   "execution_count": 12,
   "metadata": {},
   "outputs": [
    {
     "name": "stdout",
     "output_type": "stream",
     "text": [
      "The temperature was 56 °F this morning.\n"
     ]
    }
   ],
   "source": [
    "print(\"The temperature was 56 °F this morning.\")\n"
   ]
  },
  {
   "cell_type": "markdown",
   "metadata": {},
   "source": [
    "<div style=\"background-color: rgba(0,255,0,0.05) ; padding: 10px; border: 1px solid darkgreen;\"> \n",
    "    <b>Home Activity</b>: Write a print statement using at least two unicode characters.\n",
    "</div>"
   ]
  },
  {
   "cell_type": "code",
   "execution_count": null,
   "metadata": {},
   "outputs": [],
   "source": []
  },
  {
   "cell_type": "markdown",
   "metadata": {
    "colab_type": "text",
    "id": "514Y2HW6zeqH"
   },
   "source": [
    "## Command Line Mode"
   ]
  },
  {
   "cell_type": "markdown",
   "metadata": {
    "colab_type": "text",
    "id": "WyIDPARMzeqH"
   },
   "source": [
    "Above, we used the *interactive mode*, which means the result of each line is displayed when I enter the line.\n",
    "\n",
    "It is more common to put your code into a separate file and then execute it by typing\n",
    "\n",
    "``python codename.py``\n",
    "\n",
    "where ``codename.py`` is the name of your file."
   ]
  },
  {
   "cell_type": "markdown",
   "metadata": {
    "colab_type": "text",
    "id": "ViEaI6AazeqI"
   },
   "source": [
    "**How to access a Python interpreter?**\n",
    "* Mac or Linux: Open terminal and type ``python``\n",
    "* Mac, Linux, or Windows: Use an IDE.\n",
    "\n",
    "*Anaconda* is the easiest free Python environment to install. It is already available in B19."
   ]
  },
  {
   "cell_type": "markdown",
   "metadata": {},
   "source": [
    "<div style=\"background-color: rgba(0,255,0,0.05) ; padding: 10px; border: 1px solid darkgreen;\"> \n",
    "<b>Optional Home Activity</b>: Install Anaconda on your computer.\n",
    "</div>"
   ]
  },
  {
   "cell_type": "markdown",
   "metadata": {},
   "source": [
    "Hint: Start at https://www.anaconda.com/distribution/#download-section. Ask questions in tutorial if you get stuck."
   ]
  },
  {
   "cell_type": "markdown",
   "metadata": {
    "colab_type": "text",
    "id": "EFhiEPm0zeqJ"
   },
   "source": [
    "## Comments"
   ]
  },
  {
   "cell_type": "markdown",
   "metadata": {
    "colab_type": "text",
    "id": "iWzyFHFyzeqJ"
   },
   "source": [
    "Comments are your best friend.  They can be time consuming to add, but never have I looked back at old code and regreted adding them.\n",
    "\n",
    "A <b>comment</b> is a annotation in your code to \n",
    "<ul>\n",
    "<li> inform the reader, often yourself, of what a particular piece of code is trying to do\n",
    "<li> indicate the designed output, result, etc. of a part of the code\n",
    "<li> make the code more readable\n",
    "</ul>\n",
    "\n",
    "<b><blink>Any code you submit for a class assignment must be well commented!</blink></b>\n",
    "This is not to punish you, but to help you.\n",
    "\n",
    "You use the pound (aka hashtag) to comment out the rest of a line: everything that follows the # is ignored by python.  Therefore, you can put little notes to yourself or others about what is going on in the code."
   ]
  },
  {
   "cell_type": "code",
   "execution_count": 13,
   "metadata": {
    "colab": {
     "base_uri": "https://localhost:8080/",
     "height": 51
    },
    "colab_type": "code",
    "executionInfo": {
     "elapsed": 230,
     "status": "ok",
     "timestamp": 1547565677562,
     "user": {
      "displayName": "Alexander Dowling",
      "photoUrl": "https://lh3.googleusercontent.com/-LChdQ2m5OQE/AAAAAAAAAAI/AAAAAAAAAA0/JeXJe4vQJ7M/s64/photo.jpg",
      "userId": "00988067626794866502"
     },
     "user_tz": 300
    },
    "id": "MZL6oIUXzeqK",
    "outputId": "3e3740e9-8198-43f0-a421-1c6495c436df"
   },
   "outputs": [
    {
     "name": "stdout",
     "output_type": "stream",
     "text": [
      "100\n"
     ]
    },
    {
     "data": {
      "text/plain": [
       "81"
      ]
     },
     "execution_count": 13,
     "metadata": {},
     "output_type": "execute_result"
    }
   ],
   "source": [
    "#This next line should compute 9*9 + 19 = 100\n",
    "print(9*9 + 19)\n",
    "\n",
    "#You can also make comments inside a line at the end\n",
    "9*9 #+ 19"
   ]
  },
  {
   "cell_type": "markdown",
   "metadata": {
    "colab_type": "text",
    "id": "eTdVBURmzeqO"
   },
   "source": [
    "There are also ways to make multiline comments by use a triple quote '''"
   ]
  },
  {
   "cell_type": "code",
   "execution_count": 14,
   "metadata": {
    "colab": {
     "base_uri": "https://localhost:8080/",
     "height": 34
    },
    "colab_type": "code",
    "executionInfo": {
     "elapsed": 215,
     "status": "ok",
     "timestamp": 1547565709566,
     "user": {
      "displayName": "Alexander Dowling",
      "photoUrl": "https://lh3.googleusercontent.com/-LChdQ2m5OQE/AAAAAAAAAAI/AAAAAAAAAA0/JeXJe4vQJ7M/s64/photo.jpg",
      "userId": "00988067626794866502"
     },
     "user_tz": 300
    },
    "id": "95fdWfiOzeqO",
    "outputId": "54730138-1432-44b6-8842-fadb7c518d07"
   },
   "outputs": [
    {
     "name": "stdout",
     "output_type": "stream",
     "text": [
      "I am the very model of a modern major general.\n"
     ]
    }
   ],
   "source": [
    "'''The beginning of a multiline comment.\n",
    "This comment will be followed by meaningless \n",
    "code.  Enjoy '''\n",
    "print(\"I am the very model of a modern major general.\")"
   ]
  },
  {
   "cell_type": "markdown",
   "metadata": {},
   "source": [
    "<div style=\"background-color: rgba(0,255,0,0.05) ; padding: 10px; border: 1px solid darkgreen;\"> \n",
    "<b>Home Activity</b>: Add comments to the following calculation. At the top, write a sentence describing the program in the multiline comment block. Then fill in each empty single line comment with <b>units</b>.\n",
    "</div>"
   ]
  },
  {
   "cell_type": "code",
   "execution_count": 15,
   "metadata": {},
   "outputs": [
    {
     "name": "stdout",
     "output_type": "stream",
     "text": [
      "Sphere surface area: 12.56637061436 m^2\n",
      "Sphere volume: 4.188790204786667 m^3\n"
     ]
    }
   ],
   "source": [
    "'''\n",
    "\n",
    "'''\n",
    "#\n",
    "r = 1.0\n",
    "\n",
    "# \n",
    "pi =  3.14159265359\n",
    "\n",
    "# Calculate sphere area (m^2)\n",
    "area = 4 * pi * r**2\n",
    "print(\"Sphere surface area:\",area,\"m^2\")\n",
    "\n",
    "#\n",
    "vol = 4/3 * pi * r**3\n",
    "print(\"Sphere volume:\",vol,\"m^3\")"
   ]
  },
  {
   "cell_type": "markdown",
   "metadata": {
    "colab_type": "text",
    "id": "c_DeTmGEzeqQ"
   },
   "source": [
    "## Errors"
   ]
  },
  {
   "cell_type": "markdown",
   "metadata": {
    "colab_type": "text",
    "id": "SBDc64ICzeqQ"
   },
   "source": [
    "We call errors in computer programs **bugs**. Even experienced programmers write code with bugs. We will learn best practice procedures to try to rid a code of bugs, but even the most sophisticated software quality assurance techniques will not catch every one. Let's look at a **good bug** and a **bad bug**."
   ]
  },
  {
   "cell_type": "markdown",
   "metadata": {},
   "source": [
    "## \"Good\" Bugs"
   ]
  },
  {
   "cell_type": "markdown",
   "metadata": {},
   "source": [
    "Good bug: A syntax mistake that Python will catch and scream about.\n",
    "\n",
    "**Example**"
   ]
  },
  {
   "cell_type": "code",
   "execution_count": 16,
   "metadata": {
    "colab": {
     "base_uri": "https://localhost:8080/",
     "height": 130
    },
    "colab_type": "code",
    "executionInfo": {
     "elapsed": 226,
     "status": "error",
     "timestamp": 1547565747790,
     "user": {
      "displayName": "Alexander Dowling",
      "photoUrl": "https://lh3.googleusercontent.com/-LChdQ2m5OQE/AAAAAAAAAAI/AAAAAAAAAA0/JeXJe4vQJ7M/s64/photo.jpg",
      "userId": "00988067626794866502"
     },
     "user_tz": 300
    },
    "id": "IP1pJOVTzeqR",
    "outputId": "4032f5fb-a82f-410a-fc92-a5cb6f0b3161"
   },
   "outputs": [
    {
     "ename": "SyntaxError",
     "evalue": "invalid syntax (552457471.py, line 2)",
     "output_type": "error",
     "traceback": [
      "\u001b[1;36m  Input \u001b[1;32mIn [16]\u001b[1;36m\u001b[0m\n\u001b[1;33m    9*9 +\u001b[0m\n\u001b[1;37m          ^\u001b[0m\n\u001b[1;31mSyntaxError\u001b[0m\u001b[1;31m:\u001b[0m invalid syntax\n"
     ]
    }
   ],
   "source": [
    "#This is a good bug because the python interpreter complains\n",
    "9*9 + "
   ]
  },
  {
   "cell_type": "markdown",
   "metadata": {},
   "source": [
    "<div style=\"background-color: rgba(0,255,0,0.05) ; padding: 10px; border: 1px solid darkgreen;\"> \n",
    "<b>Home Activity</b>: Create another example of a \"good\" bug. Share with a friend.\n",
    "</div>"
   ]
  },
  {
   "cell_type": "code",
   "execution_count": null,
   "metadata": {},
   "outputs": [],
   "source": []
  },
  {
   "cell_type": "markdown",
   "metadata": {},
   "source": [
    "## \"Bad\" Bugs\n",
    "\n",
    "Bad bug: A flaw in the logic of the computer program. These are much harder to catch.\n",
    "\n",
    "**Example**: We want to compute\n",
    "\n",
    "$$(3 + 5)^2 = 8^2 = 64$$\n",
    "\n",
    "But we input:"
   ]
  },
  {
   "cell_type": "code",
   "execution_count": 17,
   "metadata": {
    "colab": {
     "base_uri": "https://localhost:8080/",
     "height": 34
    },
    "colab_type": "code",
    "executionInfo": {
     "elapsed": 233,
     "status": "ok",
     "timestamp": 1547565858412,
     "user": {
      "displayName": "Alexander Dowling",
      "photoUrl": "https://lh3.googleusercontent.com/-LChdQ2m5OQE/AAAAAAAAAAI/AAAAAAAAAA0/JeXJe4vQJ7M/s64/photo.jpg",
      "userId": "00988067626794866502"
     },
     "user_tz": 300
    },
    "id": "kSCGQAJ8zeqT",
    "outputId": "eb042055-f914-4264-cc47-4ccdccece4c6"
   },
   "outputs": [
    {
     "data": {
      "text/plain": [
       "28"
      ]
     },
     "execution_count": 17,
     "metadata": {},
     "output_type": "execute_result"
    }
   ],
   "source": [
    "3 + 5**2\n",
    "#You don't get the correct answer, and no one tells you that you're wrong."
   ]
  },
  {
   "cell_type": "markdown",
   "metadata": {},
   "source": [
    "<div style=\"background-color: rgba(0,255,0,0.05) ; padding: 10px; border: 1px solid darkgreen;\"> \n",
    "<b>Home Activity</b>: Copy the code below and then fix the bad bug.\n",
    "</div>"
   ]
  },
  {
   "cell_type": "code",
   "execution_count": 19,
   "metadata": {
    "tags": [
     "remove-output"
    ]
   },
   "outputs": [
    {
     "data": {
      "text/plain": [
       "64"
      ]
     },
     "execution_count": 19,
     "metadata": {},
     "output_type": "execute_result"
    }
   ],
   "source": [
    "### BEGIN SOLUTION\n",
    "(3 + 5)**2\n",
    "### END SOLUTION"
   ]
  },
  {
   "cell_type": "markdown",
   "metadata": {
    "colab_type": "text",
    "id": "2H3F9hIQzeqW"
   },
   "source": [
    "This is an example of the power and feebleness of computers.  A computer can do anything **you tell it to**, but it doesn't necessarily do what you want it to. Always keep this in mind: just because the computer did something, that doesn't mean it did what you wanted.\n",
    "\n",
    "Later we will talk in more detail about bugs, finding bugs (called debugging), and testing of code."
   ]
  },
  {
   "cell_type": "markdown",
   "metadata": {
    "colab_type": "text",
    "id": "jKzuOAWEzeqX"
   },
   "source": [
    "## Indentation"
   ]
  },
  {
   "cell_type": "markdown",
   "metadata": {
    "colab_type": "text",
    "id": "lLB8KW_RzeqX"
   },
   "source": [
    "Python is, by design, **very picky about how you lay out your code**.  It requires that code blocks be properly indented. We'll discuss what code blocks are later, but your code needs to be properly aligned to make this work."
   ]
  },
  {
   "cell_type": "code",
   "execution_count": 20,
   "metadata": {
    "colab": {
     "base_uri": "https://localhost:8080/",
     "height": 130
    },
    "colab_type": "code",
    "executionInfo": {
     "elapsed": 287,
     "status": "error",
     "timestamp": 1547565897611,
     "user": {
      "displayName": "Alexander Dowling",
      "photoUrl": "https://lh3.googleusercontent.com/-LChdQ2m5OQE/AAAAAAAAAAI/AAAAAAAAAA0/JeXJe4vQJ7M/s64/photo.jpg",
      "userId": "00988067626794866502"
     },
     "user_tz": 300
    },
    "id": "bMGbJP4BzeqY",
    "outputId": "a9bf8e8a-cc78-43f3-c78f-3c5a2b153878"
   },
   "outputs": [
    {
     "ename": "IndentationError",
     "evalue": "unexpected indent (3628327905.py, line 3)",
     "output_type": "error",
     "traceback": [
      "\u001b[1;36m  Input \u001b[1;32mIn [20]\u001b[1;36m\u001b[0m\n\u001b[1;33m    print(\"indented, but it shouldn't be\")\u001b[0m\n\u001b[1;37m    ^\u001b[0m\n\u001b[1;31mIndentationError\u001b[0m\u001b[1;31m:\u001b[0m unexpected indent\n"
     ]
    }
   ],
   "source": [
    "#If I improperly indent, my code won't work\n",
    "print(\"Not indented\")\n",
    "    print(\"indented, but it shouldn't be\")"
   ]
  },
  {
   "cell_type": "markdown",
   "metadata": {
    "colab_type": "text",
    "id": "lgCjeC8pzeqa"
   },
   "source": [
    "Notice that none of my code executed because of the indentation error. An indent tells the Python interpreter the indented code is part of a code block and needs to be executed in a special way. Only at certain times can one indent and it makes sense. We will revisit this in a few lectures."
   ]
  },
  {
   "cell_type": "markdown",
   "metadata": {},
   "source": [
    "<div style=\"background-color: rgba(0,255,0,0.05) ; padding: 10px; border: 1px solid darkgreen;\"> \n",
    "<b>Home Activity</b>: Copy the code below and fix the indentation error.\n",
    "</div>"
   ]
  },
  {
   "cell_type": "code",
   "execution_count": 21,
   "metadata": {
    "tags": [
     "remove-output"
    ]
   },
   "outputs": [
    {
     "name": "stdout",
     "output_type": "stream",
     "text": [
      "Not indented\n",
      "indented, but it shouldn't be\n"
     ]
    }
   ],
   "source": [
    "#If I improperly indent, my code won't work\n",
    "### BEGIN SOLUTION\n",
    "print(\"Not indented\")\n",
    "print(\"indented, but it shouldn't be\")\n",
    "### END SOLUTION"
   ]
  },
  {
   "cell_type": "markdown",
   "metadata": {
    "colab_type": "text",
    "id": "OTDooC65zeqa"
   },
   "source": [
    "## Input"
   ]
  },
  {
   "cell_type": "markdown",
   "metadata": {
    "colab_type": "text",
    "id": "RLyZhbm2zeqb"
   },
   "source": [
    "You can prompt the user for input using the <tt> input </tt> command:"
   ]
  },
  {
   "cell_type": "code",
   "execution_count": 6,
   "metadata": {
    "colab": {
     "base_uri": "https://localhost:8080/",
     "height": 51
    },
    "colab_type": "code",
    "executionInfo": {
     "elapsed": 9067,
     "status": "ok",
     "timestamp": 1547565974098,
     "user": {
      "displayName": "Alexander Dowling",
      "photoUrl": "https://lh3.googleusercontent.com/-LChdQ2m5OQE/AAAAAAAAAAI/AAAAAAAAAA0/JeXJe4vQJ7M/s64/photo.jpg",
      "userId": "00988067626794866502"
     },
     "user_tz": 300
    },
    "id": "p1FN99flzeqc",
    "outputId": "ce4628bd-0e02-4b3a-bf87-3bd1a9fa3e4b"
   },
   "outputs": [
    {
     "name": "stdin",
     "output_type": "stream",
     "text": [
      "Enter a number:  5\n"
     ]
    },
    {
     "name": "stdout",
     "output_type": "stream",
     "text": [
      "2 * 5.0 = 10.0\n"
     ]
    }
   ],
   "source": [
    "user_value = input(\"Enter a number: \")\n",
    "user_value = float(user_value)\n",
    "print(\"2 *\", user_value,\"=\", 2*user_value)"
   ]
  },
  {
   "cell_type": "code",
   "execution_count": 7,
   "metadata": {
    "colab": {
     "base_uri": "https://localhost:8080/",
     "height": 51
    },
    "colab_type": "code",
    "executionInfo": {
     "elapsed": 2975,
     "status": "ok",
     "timestamp": 1547566092836,
     "user": {
      "displayName": "Alexander Dowling",
      "photoUrl": "https://lh3.googleusercontent.com/-LChdQ2m5OQE/AAAAAAAAAAI/AAAAAAAAAA0/JeXJe4vQJ7M/s64/photo.jpg",
      "userId": "00988067626794866502"
     },
     "user_tz": 300
    },
    "id": "q4kiGpgazeqd",
    "outputId": "41730862-ca5b-4891-bfeb-fb3850431c6d"
   },
   "outputs": [
    {
     "name": "stdin",
     "output_type": "stream",
     "text": [
      "Enter a number (just type 7):  7\n"
     ]
    },
    {
     "name": "stdout",
     "output_type": "stream",
     "text": [
      "Correct, we have a winner\n",
      "Claim your prize\n"
     ]
    }
   ],
   "source": [
    "user_value = input(\"Enter a number (just type 7): \")\n",
    "user_value = int(user_value)\n",
    "if user_value == 7:\n",
    "    print(\"Correct, we have a winner\")\n",
    "    print(\"Claim your prize\")\n",
    "else:\n",
    "    print(\"You guessed poorly.\")"
   ]
  },
  {
   "cell_type": "markdown",
   "metadata": {
    "colab_type": "text",
    "id": "lbRs-qCfzeqh"
   },
   "source": [
    "Notice that in this example we used an <tt>if-else</tt> statement.  The <tt>if-else</tt> statement is a way to execute different parts of the code based on some conditional expression.  This type of execution is sometimes called <b>branching</b> or <b>selection</b>. We will discuss this in detail below.\n",
    "\n",
    "Also notice the indentation in the <tt>if-else</tt> block."
   ]
  },
  {
   "cell_type": "markdown",
   "metadata": {},
   "source": [
    "<div style=\"background-color: rgba(0,255,0,0.05) ; padding: 10px; border: 1px solid darkgreen;\"> \n",
    "<b>Home Activity</b>: Rerun the code above. Find input values that execute each part (a.k.a., branch, section) of the if statement. In other words, find one input value that causes the program to output \"Claim your prize\". Then find a different input value that causes the program to output \"You guessed poorly\". Record your answer below in the text (Markdown) cell:\n",
    "</div>"
   ]
  },
  {
   "cell_type": "markdown",
   "metadata": {},
   "source": [
    "**Answer to Home Activity:**\n",
    "\n",
    "Input that printed \"claim your prize\":\n",
    "\n",
    "Input that printed \"You guessed poorly\":"
   ]
  },
  {
   "cell_type": "markdown",
   "metadata": {
    "tags": []
   },
   "source": [
    "## Variables\n",
    "\n",
    "Information, or data, is stored in variables.  Common types of variables include *floating point numbers* (decimals), *integer numbers*, and *text* to name a few. For a complete list of the python data types, see https://docs.python.org/3.4/library/stdtypes.html"
   ]
  },
  {
   "cell_type": "markdown",
   "metadata": {
    "colab_type": "text",
    "id": "rIVnm8YFzeqi"
   },
   "source": [
    "## Integers"
   ]
  },
  {
   "cell_type": "markdown",
   "metadata": {
    "colab_type": "text",
    "id": "O_6Yrh0Czeqi"
   },
   "source": [
    "Integers are whole numbers, including the negatives.  They never have a fractional, or decimal, part and should only be used for data that is a count.\n",
    "\n",
    "To assign an integer to a variable use the equals sign."
   ]
  },
  {
   "cell_type": "code",
   "execution_count": 22,
   "metadata": {
    "colab": {
     "base_uri": "https://localhost:8080/",
     "height": 51
    },
    "colab_type": "code",
    "executionInfo": {
     "elapsed": 211,
     "status": "ok",
     "timestamp": 1547566177200,
     "user": {
      "displayName": "Alexander Dowling",
      "photoUrl": "https://lh3.googleusercontent.com/-LChdQ2m5OQE/AAAAAAAAAAI/AAAAAAAAAA0/JeXJe4vQJ7M/s64/photo.jpg",
      "userId": "00988067626794866502"
     },
     "user_tz": 300
    },
    "id": "w-eQk5ZPzeqj",
    "outputId": "e4f6eda8-5e29-4fe3-a8ae-d9ee344ac715"
   },
   "outputs": [
    {
     "name": "stdout",
     "output_type": "stream",
     "text": [
      "4.0\n"
     ]
    },
    {
     "data": {
      "text/plain": [
       "int"
      ]
     },
     "execution_count": 22,
     "metadata": {},
     "output_type": "execute_result"
    }
   ],
   "source": [
    "#assign the value 2 to x\n",
    "x = 2\n",
    "print(x*2.0)\n",
    "\n",
    "#check that x is an integer\n",
    "type(x)\n"
   ]
  },
  {
   "cell_type": "markdown",
   "metadata": {
    "colab_type": "text",
    "id": "FAX3auI9zeqm"
   },
   "source": [
    "Integers are useful for things that can be counted: perhaps that number of times we execute a loop, the number of elements of a vector, or the number of students in a class."
   ]
  },
  {
   "cell_type": "markdown",
   "metadata": {},
   "source": [
    "<div style=\"background-color: rgba(0,255,0,0.05) ; padding: 10px; border: 1px solid darkgreen;\"> \n",
    "<b>Home Activity</b>: Copy the code from above and modify to multiple x by <b>2</b> instead of <b>2.0</b>. What is the variable type now?\n",
    "</div>"
   ]
  },
  {
   "cell_type": "code",
   "execution_count": 23,
   "metadata": {
    "tags": [
     "remove-output"
    ]
   },
   "outputs": [
    {
     "name": "stdout",
     "output_type": "stream",
     "text": [
      "4.0\n"
     ]
    },
    {
     "data": {
      "text/plain": [
       "float"
      ]
     },
     "execution_count": 23,
     "metadata": {},
     "output_type": "execute_result"
    }
   ],
   "source": [
    "#assign the value 2 to x\n",
    "### BEGIN SOLUTION\n",
    "x = 2.0\n",
    "print(x*2)\n",
    "### END SOLUTION\n",
    "\n",
    "#check that x is an integer\n",
    "### BEGIN SOLUTION\n",
    "type(x)\n",
    "### END SOLUTION\n"
   ]
  },
  {
   "cell_type": "markdown",
   "metadata": {
    "colab_type": "text",
    "id": "NFqkInihzeqm"
   },
   "source": [
    "## Floating Point Numbers"
   ]
  },
  {
   "cell_type": "markdown",
   "metadata": {
    "colab_type": "text",
    "id": "ZUeFbQJgzeqn"
   },
   "source": [
    "Floating point numbers are numbers that do have a fractional part.  Most numbers in engineering calculations are floating point types."
   ]
  },
  {
   "cell_type": "code",
   "execution_count": 24,
   "metadata": {
    "colab": {
     "base_uri": "https://localhost:8080/",
     "height": 68
    },
    "colab_type": "code",
    "executionInfo": {
     "elapsed": 228,
     "status": "ok",
     "timestamp": 1547566223005,
     "user": {
      "displayName": "Alexander Dowling",
      "photoUrl": "https://lh3.googleusercontent.com/-LChdQ2m5OQE/AAAAAAAAAAI/AAAAAAAAAA0/JeXJe4vQJ7M/s64/photo.jpg",
      "userId": "00988067626794866502"
     },
     "user_tz": 300
    },
    "id": "sgBRyDoVzeqn",
    "outputId": "5200f0a7-c96f-4c69-e48f-54bf1628381c"
   },
   "outputs": [
    {
     "name": "stdout",
     "output_type": "stream",
     "text": [
      "y = 4.2\n",
      "<class 'float'>\n",
      "(2 / 4.2)**3 = 0.10797969981643449\n"
     ]
    }
   ],
   "source": [
    "#Now make some others floating point variables\n",
    "y = 4.2\n",
    "print(\"y =\",y)\n",
    "print(type(y))\n",
    "#note that exponentiation is **\n",
    "z = (x / y)**3\n",
    "print(\"(2 / 4.2)**3 =\",z)"
   ]
  },
  {
   "cell_type": "markdown",
   "metadata": {
    "colab_type": "text",
    "id": "OrtK6tgtzeqp"
   },
   "source": [
    "The way that floating point numbers are represented on a computer has **only a finite precision**.  That means we cannot represent a number exactly in many cases. We'll see later an example of how floating point accuracy can make a difference in a calculation."
   ]
  },
  {
   "cell_type": "markdown",
   "metadata": {},
   "source": [
    "<div style=\"background-color: rgba(0,255,0,0.05) ; padding: 10px; border: 1px solid darkgreen;\"> \n",
    "<b>Home Activity</b>: Add 1E-10 to 1E-20. Is the answer what you expect?\n",
    "</div>"
   ]
  },
  {
   "cell_type": "markdown",
   "metadata": {},
   "source": [
    "Hint: `1E-20` is shorthand for $1 \\times 10^{-20}$, which is sometimes called scientific notation."
   ]
  },
  {
   "cell_type": "code",
   "execution_count": 25,
   "metadata": {
    "tags": [
     "remove-output"
    ]
   },
   "outputs": [
    {
     "name": "stdout",
     "output_type": "stream",
     "text": [
      "1.0000000001000001e-10\n"
     ]
    }
   ],
   "source": [
    "### BEGIN SOLUTION\n",
    "x = 1E-10 + 1E-20\n",
    "print(x)\n",
    "### END SOLUTION"
   ]
  },
  {
   "cell_type": "markdown",
   "metadata": {
    "colab_type": "text",
    "id": "d4Tg8byszeqq"
   },
   "source": [
    "## Built-in Mathematical Functions"
   ]
  },
  {
   "cell_type": "markdown",
   "metadata": {
    "colab_type": "text",
    "id": "FXefyDz8zeqq"
   },
   "source": [
    "There are almost every common mathematical function you might need for python already built in. To use them you have to import that math functions using the command <tt>import</tt>.  In the code below, I set it up so that to use a math function you use the syntax <tt>math.[function]</tt> where <tt>[function]</tt> is the name of the function you want to call.\n",
    "\n",
    "See https://docs.python.org/3.4/library/math.html for the complete list of built-in mathematical functions."
   ]
  },
  {
   "cell_type": "code",
   "execution_count": 26,
   "metadata": {
    "colab": {
     "base_uri": "https://localhost:8080/",
     "height": 68
    },
    "colab_type": "code",
    "executionInfo": {
     "elapsed": 230,
     "status": "ok",
     "timestamp": 1547566377502,
     "user": {
      "displayName": "Alexander Dowling",
      "photoUrl": "https://lh3.googleusercontent.com/-LChdQ2m5OQE/AAAAAAAAAAI/AAAAAAAAAA0/JeXJe4vQJ7M/s64/photo.jpg",
      "userId": "00988067626794866502"
     },
     "user_tz": 300
    },
    "id": "7xWUIbYYzeqr",
    "outputId": "57472d28-528a-4533-8cd3-cc87a8371eb3"
   },
   "outputs": [
    {
     "name": "stdout",
     "output_type": "stream",
     "text": [
      "cos( 3.14159 ) = -0.9999999999964793\n",
      "The base of the natural logarithm is 2.718281828459045\n",
      "The value of pi is 3.141592653589793\n"
     ]
    }
   ],
   "source": [
    "import math as m\n",
    "#take cosine of a number close to pi\n",
    "theta = 3.14159\n",
    "trig_variable = m.cos(theta)\n",
    "print(\"cos(\",theta,\") =\",trig_variable)\n",
    "\n",
    "#use the exponential to give me e\n",
    "e = m.exp(1)\n",
    "print(\"The base of the natural logarithm is\",e)\n",
    "\n",
    "#python has a built-in pi as well\n",
    "print(\"The value of pi is\",m.pi)"
   ]
  },
  {
   "cell_type": "markdown",
   "metadata": {
    "colab_type": "text",
    "id": "gpL8u0DEzeqv"
   },
   "source": [
    "Notice how in the print statements, if I give it multiple arguments, it prints each with a space in between. The natural logarithm is just <tt>math.log</tt> and the base 10 logarithm is <tt>math.log10</tt>.\n",
    "\n"
   ]
  },
  {
   "cell_type": "code",
   "execution_count": 27,
   "metadata": {
    "colab": {
     "base_uri": "https://localhost:8080/",
     "height": 51
    },
    "colab_type": "code",
    "executionInfo": {
     "elapsed": 236,
     "status": "ok",
     "timestamp": 1547566411036,
     "user": {
      "displayName": "Alexander Dowling",
      "photoUrl": "https://lh3.googleusercontent.com/-LChdQ2m5OQE/AAAAAAAAAAI/AAAAAAAAAA0/JeXJe4vQJ7M/s64/photo.jpg",
      "userId": "00988067626794866502"
     },
     "user_tz": 300
    },
    "id": "Y1WnEyvbzeqw",
    "outputId": "88b5ce2e-400a-4bce-8806-f8e8590d19b9"
   },
   "outputs": [
    {
     "name": "stdout",
     "output_type": "stream",
     "text": [
      "The natural log of 10 is 2.302585092994046\n",
      "The log base-10 of 10 is 1.0\n"
     ]
    }
   ],
   "source": [
    "print(\"The natural log of 10 is\",m.log(10))\n",
    "print(\"The log base-10 of 10 is\",m.log10(10))"
   ]
  },
  {
   "cell_type": "markdown",
   "metadata": {
    "colab_type": "text",
    "id": "qnSjPs42zeq0"
   },
   "source": [
    "There are two non-obvious mathematical operators, integer division: //, and the modulus (or remainder): %"
   ]
  },
  {
   "cell_type": "code",
   "execution_count": 28,
   "metadata": {
    "colab": {
     "base_uri": "https://localhost:8080/",
     "height": 51
    },
    "colab_type": "code",
    "executionInfo": {
     "elapsed": 229,
     "status": "ok",
     "timestamp": 1547566463492,
     "user": {
      "displayName": "Alexander Dowling",
      "photoUrl": "https://lh3.googleusercontent.com/-LChdQ2m5OQE/AAAAAAAAAAI/AAAAAAAAAA0/JeXJe4vQJ7M/s64/photo.jpg",
      "userId": "00988067626794866502"
     },
     "user_tz": 300
    },
    "id": "vBZGVZjczeq1",
    "outputId": "32f2a658-03fc-4721-e9dd-0c9d86f25f68"
   },
   "outputs": [
    {
     "name": "stdout",
     "output_type": "stream",
     "text": [
      "7 divided by 3 is 2 remainder 1\n",
      "851 divided by 13 is 65 remainder 6\n"
     ]
    }
   ],
   "source": [
    "# 7 / 3 is 2 remainder 1\n",
    "print(\"7 divided by 3 is\",7//3,\"remainder\",7%3)\n",
    "print(\"851 divided by 13 is\",851//13,\"remainder\",851%13)"
   ]
  },
  {
   "cell_type": "markdown",
   "metadata": {},
   "source": [
    "<div style=\"background-color: rgba(0,255,0,0.05) ; padding: 10px; border: 1px solid darkgreen;\"> \n",
    "<b>Home Activity</b>: Study and execute the code below. Then write a sentence to explain the different between integer and floating point division.\n",
    "</div>"
   ]
  },
  {
   "cell_type": "code",
   "execution_count": 29,
   "metadata": {},
   "outputs": [
    {
     "name": "stdout",
     "output_type": "stream",
     "text": [
      "7 // 3 =  2\n",
      "7 / 3 =  2.3333333333333335\n"
     ]
    }
   ],
   "source": [
    "# integer division\n",
    "print(\"7 // 3 = \",7//3)\n",
    "\n",
    "# floating division\n",
    "print(\"7 / 3 = \",7/3)"
   ]
  },
  {
   "cell_type": "markdown",
   "metadata": {},
   "source": [
    "*Write a sentence to explain difference between integer and floating point division:*\n",
    "\n"
   ]
  },
  {
   "cell_type": "markdown",
   "metadata": {
    "colab_type": "text",
    "id": "F6HVn8zMzeq4"
   },
   "source": [
    "Let's also look at how to generate a random number."
   ]
  },
  {
   "cell_type": "code",
   "execution_count": 30,
   "metadata": {
    "colab": {
     "base_uri": "https://localhost:8080/",
     "height": 34
    },
    "colab_type": "code",
    "executionInfo": {
     "elapsed": 233,
     "status": "ok",
     "timestamp": 1547566500528,
     "user": {
      "displayName": "Alexander Dowling",
      "photoUrl": "https://lh3.googleusercontent.com/-LChdQ2m5OQE/AAAAAAAAAAI/AAAAAAAAAA0/JeXJe4vQJ7M/s64/photo.jpg",
      "userId": "00988067626794866502"
     },
     "user_tz": 300
    },
    "id": "bHqSe6Dzzeq4",
    "outputId": "e7669f58-f055-419b-cad3-367be967b8b8"
   },
   "outputs": [
    {
     "name": "stdout",
     "output_type": "stream",
     "text": [
      "A random number between 0 and 1:  0.9763983823355622\n"
     ]
    }
   ],
   "source": [
    "import random\n",
    "print(\"A random number between 0 and 1: \",random.random())"
   ]
  },
  {
   "cell_type": "markdown",
   "metadata": {
    "colab": {},
    "colab_type": "code",
    "id": "10bSO_0hJsN9"
   },
   "source": [
    "<div style=\"background-color: rgba(0,255,0,0.05) ; padding: 10px; border: 1px solid darkgreen;\"> \n",
    "<b>Home Activity</b>: Generate a random whole number between 0 and 100 using <tt>random.random()</tt>.\n",
    "</div>"
   ]
  },
  {
   "cell_type": "code",
   "execution_count": 31,
   "metadata": {
    "colab": {
     "base_uri": "https://localhost:8080/",
     "height": 86
    },
    "colab_type": "code",
    "executionInfo": {
     "elapsed": 209,
     "status": "ok",
     "timestamp": 1547567011408,
     "user": {
      "displayName": "Alexander Dowling",
      "photoUrl": "https://lh3.googleusercontent.com/-LChdQ2m5OQE/AAAAAAAAAAI/AAAAAAAAAA0/JeXJe4vQJ7M/s64/photo.jpg",
      "userId": "00988067626794866502"
     },
     "user_tz": 300
    },
    "id": "6_qcHNXWzeq9",
    "outputId": "af5a2c59-86cb-4fae-df0e-93be5a70632a",
    "tags": [
     "remove-output"
    ]
   },
   "outputs": [
    {
     "name": "stdout",
     "output_type": "stream",
     "text": [
      "A random number between 0 and 100:  39.73305352947081\n"
     ]
    }
   ],
   "source": [
    "### BEGIN SOLUTION\n",
    "print(\"A random number between 0 and 100: \",100*random.random())\n",
    "### END SOLUTION"
   ]
  },
  {
   "cell_type": "markdown",
   "metadata": {
    "colab_type": "text",
    "id": "bcbiB18czeq_"
   },
   "source": [
    "## Strings and Overloading"
   ]
  },
  {
   "cell_type": "markdown",
   "metadata": {
    "colab_type": "text",
    "id": "hCSujRdxzeq_"
   },
   "source": [
    "A string is a data type that is a collection of characters, and needs to be inside quotes:"
   ]
  },
  {
   "cell_type": "code",
   "execution_count": 32,
   "metadata": {
    "colab": {
     "base_uri": "https://localhost:8080/",
     "height": 52
    },
    "colab_type": "code",
    "executionInfo": {
     "elapsed": 545,
     "status": "ok",
     "timestamp": 1547735736409,
     "user": {
      "displayName": "Alexander Dowling",
      "photoUrl": "https://lh3.googleusercontent.com/-LChdQ2m5OQE/AAAAAAAAAAI/AAAAAAAAAA0/JeXJe4vQJ7M/s64/photo.jpg",
      "userId": "00988067626794866502"
     },
     "user_tz": 300
    },
    "id": "P7oVSPD_zerB",
    "outputId": "9a1a541b-f2d3-4e05-ccc3-137bd01e271f"
   },
   "outputs": [
    {
     "name": "stdout",
     "output_type": "stream",
     "text": [
      "Coffee is for closers.\n",
      "aString\n"
     ]
    }
   ],
   "source": [
    "#This is a string\n",
    "aString = \"Coffee is for closers.\"\n",
    "print(aString)\n",
    "print(\"aString\")"
   ]
  },
  {
   "cell_type": "markdown",
   "metadata": {
    "colab_type": "text",
    "id": "Dek1OcFqzerE"
   },
   "source": [
    "Anything inside the quotes is taken literally by python. That is why the second print statement above just printed <tt>aString</tt>.\n",
    "\n",
    "You can also subset, that is get some of the characters in a string, using brackets. Putting a single number in a bracket gives you the character in that position. Note, python starts numbering at 0 so that 0 is the first character in a string."
   ]
  },
  {
   "cell_type": "code",
   "execution_count": 33,
   "metadata": {
    "colab": {
     "base_uri": "https://localhost:8080/",
     "height": 35
    },
    "colab_type": "code",
    "executionInfo": {
     "elapsed": 211,
     "status": "ok",
     "timestamp": 1547735769305,
     "user": {
      "displayName": "Alexander Dowling",
      "photoUrl": "https://lh3.googleusercontent.com/-LChdQ2m5OQE/AAAAAAAAAAI/AAAAAAAAAA0/JeXJe4vQJ7M/s64/photo.jpg",
      "userId": "00988067626794866502"
     },
     "user_tz": 300
    },
    "id": "iat7ga8PzerF",
    "outputId": "b213a384-7eb6-43c0-8db2-b6ed51313624"
   },
   "outputs": [
    {
     "data": {
      "text/plain": [
       "'C'"
      ]
     },
     "execution_count": 33,
     "metadata": {},
     "output_type": "execute_result"
    }
   ],
   "source": [
    "aString[0]"
   ]
  },
  {
   "cell_type": "code",
   "execution_count": 34,
   "metadata": {
    "colab": {},
    "colab_type": "code",
    "id": "eWBsUIH5zerH",
    "outputId": "fd01e970-9370-40ad-a461-cf8940d3acb8"
   },
   "outputs": [
    {
     "data": {
      "text/plain": [
       "'e'"
      ]
     },
     "execution_count": 34,
     "metadata": {},
     "output_type": "execute_result"
    }
   ],
   "source": [
    "aString[5]"
   ]
  },
  {
   "cell_type": "markdown",
   "metadata": {
    "colab_type": "text",
    "id": "inEAz-oszerL"
   },
   "source": [
    "You can also get a range of characters in a string using the colon. The colon operator is funny in a way in that <tt>[a:b]</tt> says give me the elements in the string from position <tt>a</tt> to position <tt>b-1</tt>."
   ]
  },
  {
   "cell_type": "code",
   "execution_count": 35,
   "metadata": {
    "colab": {},
    "colab_type": "code",
    "id": "8vjosG98zerM",
    "outputId": "22c6b668-541d-4dae-f815-82b35c5459b5"
   },
   "outputs": [
    {
     "data": {
      "text/plain": [
       "'offee'"
      ]
     },
     "execution_count": 35,
     "metadata": {},
     "output_type": "execute_result"
    }
   ],
   "source": [
    "aString[1:6]"
   ]
  },
  {
   "cell_type": "markdown",
   "metadata": {
    "colab_type": "text",
    "id": "6IMw9KkWzerO"
   },
   "source": [
    "Python defines its ranges this way so that if the string is of length <tt>N</tt>, <tt>[0:N]</tt> returns the whole string."
   ]
  },
  {
   "cell_type": "markdown",
   "metadata": {
    "colab_type": "text",
    "id": "c_SpLPIUzerO"
   },
   "source": [
    "Negative subsets start at the end of the string (i.e., -1 is the last character of the string)."
   ]
  },
  {
   "cell_type": "code",
   "execution_count": 36,
   "metadata": {
    "colab": {},
    "colab_type": "code",
    "id": "JcSjb9v6zerP",
    "outputId": "e6a1ce28-0120-4fbc-bd0b-413c25cb47c8"
   },
   "outputs": [
    {
     "data": {
      "text/plain": [
       "'.'"
      ]
     },
     "execution_count": 36,
     "metadata": {},
     "output_type": "execute_result"
    }
   ],
   "source": [
    "aString[-1]"
   ]
  },
  {
   "cell_type": "code",
   "execution_count": 37,
   "metadata": {
    "colab": {},
    "colab_type": "code",
    "id": "ZUQVEUxwzerT",
    "outputId": "b9af7fe5-d593-48da-a714-bcc3a4dfa33a"
   },
   "outputs": [
    {
     "data": {
      "text/plain": [
       "'ser'"
      ]
     },
     "execution_count": 37,
     "metadata": {},
     "output_type": "execute_result"
    }
   ],
   "source": [
    "aString[-5:-2]"
   ]
  },
  {
   "cell_type": "markdown",
   "metadata": {},
   "source": [
    "<div style=\"background-color: rgba(0,255,0,0.05) ; padding: 10px; border: 1px solid darkgreen;\"> \n",
    "    <b>Home Activity</b>: Print \"closers\" by accessing elements of <tt>aString</tt>\n",
    "</div>"
   ]
  },
  {
   "cell_type": "code",
   "execution_count": 38,
   "metadata": {
    "tags": [
     "remove-output"
    ]
   },
   "outputs": [
    {
     "data": {
      "text/plain": [
       "'closers'"
      ]
     },
     "execution_count": 38,
     "metadata": {},
     "output_type": "execute_result"
    }
   ],
   "source": [
    "### BEGIN SOLUTION\n",
    "aString[-8:-1]\n",
    "### END SOLUTION"
   ]
  },
  {
   "cell_type": "markdown",
   "metadata": {
    "colab_type": "text",
    "id": "TBZ2PLT8zerY"
   },
   "source": [
    "With characters (and strings) the + **operator is overloaded**.  What we mean by overloaded, is that it is defined so that the idea of what addition means is conferred to strings.  Therefore,"
   ]
  },
  {
   "cell_type": "code",
   "execution_count": 39,
   "metadata": {
    "colab": {
     "base_uri": "https://localhost:8080/",
     "height": 35
    },
    "colab_type": "code",
    "executionInfo": {
     "elapsed": 231,
     "status": "ok",
     "timestamp": 1547735953989,
     "user": {
      "displayName": "Alexander Dowling",
      "photoUrl": "https://lh3.googleusercontent.com/-LChdQ2m5OQE/AAAAAAAAAAI/AAAAAAAAAA0/JeXJe4vQJ7M/s64/photo.jpg",
      "userId": "00988067626794866502"
     },
     "user_tz": 300
    },
    "id": "_k7vk_eUzera",
    "outputId": "853bd318-09e8-47c2-aea6-b760d983c171"
   },
   "outputs": [
    {
     "data": {
      "text/plain": [
       "'Negative Ghostrider: the pattern is full'"
      ]
     },
     "execution_count": 39,
     "metadata": {},
     "output_type": "execute_result"
    }
   ],
   "source": [
    "'Negative Ghostrider: ' + 'the pattern is full'"
   ]
  },
  {
   "cell_type": "code",
   "execution_count": 40,
   "metadata": {
    "colab": {},
    "colab_type": "code",
    "id": "HWQtJ0bqzerj",
    "outputId": "19558be5-9902-4f1a-bb0a-a912cf71c4a3"
   },
   "outputs": [
    {
     "data": {
      "text/plain": [
       "'abc'"
      ]
     },
     "execution_count": 40,
     "metadata": {},
     "output_type": "execute_result"
    }
   ],
   "source": [
    "'a' + 'b' + 'c'"
   ]
  },
  {
   "cell_type": "markdown",
   "metadata": {
    "colab_type": "text",
    "id": "4hjdeJ2Mzerm"
   },
   "source": [
    "The + operator **concatenates** (or smushes together) the strings/characters it operates on."
   ]
  },
  {
   "cell_type": "markdown",
   "metadata": {
    "colab_type": "text",
    "id": "e2SuGaCuzerm"
   },
   "source": [
    "The multiplication operator is similarly overloaded, though it is not as general.  It is simple to think about 'The roof, ' * 3"
   ]
  },
  {
   "cell_type": "code",
   "execution_count": 41,
   "metadata": {
    "colab": {},
    "colab_type": "code",
    "id": "5DXb0H_Xzern",
    "outputId": "ded8c926-9e06-4268-8d30-97094a3bfb80"
   },
   "outputs": [
    {
     "data": {
      "text/plain": [
       "'The roof, The roof, The roof, '"
      ]
     },
     "execution_count": 41,
     "metadata": {},
     "output_type": "execute_result"
    }
   ],
   "source": [
    "'The roof, ' * 3"
   ]
  },
  {
   "cell_type": "markdown",
   "metadata": {
    "colab_type": "text",
    "id": "dmCdj8opzerp"
   },
   "source": [
    "However, 'The roof, ' * 3.15 is not defined and will give an error:"
   ]
  },
  {
   "cell_type": "code",
   "execution_count": 42,
   "metadata": {
    "colab": {
     "base_uri": "https://localhost:8080/",
     "height": 166
    },
    "colab_type": "code",
    "executionInfo": {
     "elapsed": 278,
     "status": "error",
     "timestamp": 1547735988213,
     "user": {
      "displayName": "Alexander Dowling",
      "photoUrl": "https://lh3.googleusercontent.com/-LChdQ2m5OQE/AAAAAAAAAAI/AAAAAAAAAA0/JeXJe4vQJ7M/s64/photo.jpg",
      "userId": "00988067626794866502"
     },
     "user_tz": 300
    },
    "id": "KwG_NR8Jzerp",
    "outputId": "bb456be6-e96a-418e-c683-d5418ff09d14"
   },
   "outputs": [
    {
     "ename": "TypeError",
     "evalue": "can't multiply sequence by non-int of type 'float'",
     "output_type": "error",
     "traceback": [
      "\u001b[1;31m---------------------------------------------------------------------------\u001b[0m",
      "\u001b[1;31mTypeError\u001b[0m                                 Traceback (most recent call last)",
      "Input \u001b[1;32mIn [42]\u001b[0m, in \u001b[0;36m<cell line: 1>\u001b[1;34m()\u001b[0m\n\u001b[1;32m----> 1\u001b[0m \u001b[38;5;124;43m'\u001b[39;49m\u001b[38;5;124;43mThe roof, \u001b[39;49m\u001b[38;5;124;43m'\u001b[39;49m\u001b[43m \u001b[49m\u001b[38;5;241;43m*\u001b[39;49m\u001b[43m \u001b[49m\u001b[38;5;241;43m3.15\u001b[39;49m\n",
      "\u001b[1;31mTypeError\u001b[0m: can't multiply sequence by non-int of type 'float'"
     ]
    }
   ],
   "source": [
    "'The roof, ' * 3.15"
   ]
  },
  {
   "cell_type": "markdown",
   "metadata": {
    "colab_type": "text",
    "id": "J-wsrWVOzers"
   },
   "source": [
    "The upshot is that only an integer times a character/string makes sense. The order of operations is respected"
   ]
  },
  {
   "cell_type": "code",
   "execution_count": null,
   "metadata": {
    "colab": {},
    "colab_type": "code",
    "id": "X6av1942zers",
    "outputId": "57ea90ec-f7c6-4c5f-eeec-5e98957e4755"
   },
   "outputs": [],
   "source": [
    "'The roof, ' * 3 + 'is on fire...'"
   ]
  },
  {
   "cell_type": "markdown",
   "metadata": {
    "colab_type": "text",
    "id": "lCkaFKjTzert"
   },
   "source": [
    "Minus makes sense, but only sometimes, so it is not allowed."
   ]
  },
  {
   "cell_type": "markdown",
   "metadata": {},
   "source": [
    "<div style=\"background-color: rgba(0,255,0,0.05) ; padding: 10px; border: 1px solid darkgreen;\"> \n",
    "    <b>Home Activity</b>: Create the string \"row row row your boat gently down the stream\" using string multiplication and concatenation.\n",
    "</div>"
   ]
  },
  {
   "cell_type": "code",
   "execution_count": 43,
   "metadata": {
    "tags": [
     "remove-output"
    ]
   },
   "outputs": [
    {
     "data": {
      "text/plain": [
       "'row row row your boat gently down the stream'"
      ]
     },
     "execution_count": 43,
     "metadata": {},
     "output_type": "execute_result"
    }
   ],
   "source": [
    "### BEGIN SOLUTION\n",
    "\"row \"*3+\"your boat gently down the stream\"\n",
    "### END SOLUTION"
   ]
  }
 ],
 "metadata": {
  "colab": {
   "collapsed_sections": [],
   "name": "L1-Getting-Started.ipynb",
   "provenance": [],
   "version": "0.3.2"
  },
  "kernelspec": {
   "display_name": "Python 3 (ipykernel)",
   "language": "python",
   "name": "python3"
  },
  "language_info": {
   "codemirror_mode": {
    "name": "ipython",
    "version": 3
   },
   "file_extension": ".py",
   "mimetype": "text/x-python",
   "name": "python",
   "nbconvert_exporter": "python",
   "pygments_lexer": "ipython3",
   "version": "3.9.12"
  }
 },
 "nbformat": 4,
 "nbformat_minor": 4
}
