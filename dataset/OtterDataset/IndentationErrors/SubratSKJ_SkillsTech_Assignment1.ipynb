{
 "cells": [
  {
   "cell_type": "code",
   "execution_count": 4,
   "id": "65878a5e-7a91-4520-a6ac-6e77c6b707be",
   "metadata": {},
   "outputs": [],
   "source": [
    "#Q1. Create one variable containing following type of data:\n",
    "#(i) string\n",
    "#(ii) list\n",
    "#(iii) float\n",
    "#(iv) tuple\n",
    "\n",
    "a = 'Skills'"
   ]
  },
  {
   "cell_type": "code",
   "execution_count": 5,
   "id": "9a518be3-71c1-4320-bb56-8223a97ad9b1",
   "metadata": {},
   "outputs": [
    {
     "data": {
      "text/plain": [
       "'Skills'"
      ]
     },
     "execution_count": 5,
     "metadata": {},
     "output_type": "execute_result"
    }
   ],
   "source": [
    "a"
   ]
  },
  {
   "cell_type": "code",
   "execution_count": 6,
   "id": "746b1044-6509-4dc8-8cfc-7fde32bc4533",
   "metadata": {},
   "outputs": [],
   "source": [
    "l=[1,2,'sk',(3+4j),43.5,True]"
   ]
  },
  {
   "cell_type": "code",
   "execution_count": 7,
   "id": "84edd8b1-c468-4eba-b45b-431aaba35492",
   "metadata": {},
   "outputs": [
    {
     "data": {
      "text/plain": [
       "[1, 2, 'sk', (3+4j), 43.5, True]"
      ]
     },
     "execution_count": 7,
     "metadata": {},
     "output_type": "execute_result"
    }
   ],
   "source": [
    "l"
   ]
  },
  {
   "cell_type": "code",
   "execution_count": 8,
   "id": "edb62a14-0ec2-475f-96d9-84ab4a612a9f",
   "metadata": {},
   "outputs": [],
   "source": [
    "b = 43.5"
   ]
  },
  {
   "cell_type": "code",
   "execution_count": 10,
   "id": "a92e0ee8-9242-43d0-86b1-50021550674b",
   "metadata": {},
   "outputs": [
    {
     "data": {
      "text/plain": [
       "43.5"
      ]
     },
     "execution_count": 10,
     "metadata": {},
     "output_type": "execute_result"
    }
   ],
   "source": [
    "b"
   ]
  },
  {
   "cell_type": "code",
   "execution_count": 11,
   "id": "a555ec73-5762-44e8-a23d-8a7d21969f66",
   "metadata": {},
   "outputs": [],
   "source": [
    "t= (1,2,3,(3+4j),43.5,[1,2,3,4,True])"
   ]
  },
  {
   "cell_type": "code",
   "execution_count": 12,
   "id": "c9066c2f-140a-45f1-af4c-ac41e2cc7ef6",
   "metadata": {},
   "outputs": [
    {
     "data": {
      "text/plain": [
       "(1, 2, 3, (3+4j), 43.5, [1, 2, 3, 4, True])"
      ]
     },
     "execution_count": 12,
     "metadata": {},
     "output_type": "execute_result"
    }
   ],
   "source": [
    "t"
   ]
  },
  {
   "cell_type": "code",
   "execution_count": 13,
   "id": "e6413ee7-4ac2-4b66-8986-c4e5731fb9f3",
   "metadata": {},
   "outputs": [],
   "source": [
    "# ANSWER TO QUESTION 1\n",
    "y= ('abc',[1,2,'sk',(3+4j),43.5,True],54.5,(1,2,3,(3+4j),43.5,[1,2,3,4,True]))"
   ]
  },
  {
   "cell_type": "code",
   "execution_count": 14,
   "id": "2e588c02-6721-42f3-893d-e686b2ca4f22",
   "metadata": {},
   "outputs": [
    {
     "data": {
      "text/plain": [
       "('abc',\n",
       " [1, 2, 'sk', (3+4j), 43.5, True],\n",
       " 54.5,\n",
       " (1, 2, 3, (3+4j), 43.5, [1, 2, 3, 4, True]))"
      ]
     },
     "execution_count": 14,
     "metadata": {},
     "output_type": "execute_result"
    }
   ],
   "source": [
    "y"
   ]
  },
  {
   "cell_type": "code",
   "execution_count": 16,
   "id": "68c6dd3f-14a8-4e5e-868d-a78c54bc416b",
   "metadata": {},
   "outputs": [
    {
     "data": {
      "text/plain": [
       "tuple"
      ]
     },
     "execution_count": 16,
     "metadata": {},
     "output_type": "execute_result"
    }
   ],
   "source": [
    "type(y)"
   ]
  },
  {
   "cell_type": "code",
   "execution_count": 18,
   "id": "e8afad5f-7e9e-478b-a5c1-bad505200a26",
   "metadata": {},
   "outputs": [],
   "source": [
    "'''Q2. Given are some following variables containing data:\n",
    "(i) var1 = ‘ ‘\n",
    "(ii) var2 = ‘[ DS , ML , Python]’\n",
    "(iii) var3 = [ ‘DS’ , ’ML’ , ‘Python’ ]\n",
    "(iv) var4 = 1.\n",
    "What will be the data type of the above given variable.'''\n",
    "\n",
    "\n",
    "var1 = ' '"
   ]
  },
  {
   "cell_type": "code",
   "execution_count": 20,
   "id": "f38d665f-2e6e-4162-b6b9-9fc059fba9a8",
   "metadata": {},
   "outputs": [
    {
     "data": {
      "text/plain": [
       "str"
      ]
     },
     "execution_count": 20,
     "metadata": {},
     "output_type": "execute_result"
    }
   ],
   "source": [
    "type(var1)"
   ]
  },
  {
   "cell_type": "code",
   "execution_count": 22,
   "id": "34c316b8-fd1f-44b8-b1ba-8d1c0da108bd",
   "metadata": {},
   "outputs": [],
   "source": [
    "var2 = type('[ DS , ML , Python]')"
   ]
  },
  {
   "cell_type": "code",
   "execution_count": 23,
   "id": "6e7fcd6a-19c4-4a3a-8c83-49cbcba01780",
   "metadata": {},
   "outputs": [
    {
     "data": {
      "text/plain": [
       "str"
      ]
     },
     "execution_count": 23,
     "metadata": {},
     "output_type": "execute_result"
    }
   ],
   "source": [
    "var2"
   ]
  },
  {
   "cell_type": "code",
   "execution_count": 25,
   "id": "853be9f2-91a1-4652-96fb-54fdc13956ec",
   "metadata": {},
   "outputs": [],
   "source": [
    "var3 = type([ 'DS' , 'ML' , 'Python' ])"
   ]
  },
  {
   "cell_type": "code",
   "execution_count": 26,
   "id": "e71a42b7-c924-4ab2-bc3f-8871719ea9c5",
   "metadata": {},
   "outputs": [
    {
     "data": {
      "text/plain": [
       "list"
      ]
     },
     "execution_count": 26,
     "metadata": {},
     "output_type": "execute_result"
    }
   ],
   "source": [
    "var3"
   ]
  },
  {
   "cell_type": "code",
   "execution_count": 27,
   "id": "4d850a51-c617-468f-bd63-3c923d2176dd",
   "metadata": {},
   "outputs": [],
   "source": [
    "var4 = type(1.)"
   ]
  },
  {
   "cell_type": "code",
   "execution_count": 28,
   "id": "c31a4009-931d-4955-a89f-ee9d007eea23",
   "metadata": {},
   "outputs": [
    {
     "data": {
      "text/plain": [
       "float"
      ]
     },
     "execution_count": 28,
     "metadata": {},
     "output_type": "execute_result"
    }
   ],
   "source": [
    "var4"
   ]
  },
  {
   "cell_type": "code",
   "execution_count": 29,
   "id": "1bede6d4-ae1a-4770-aed0-a6cdec2d2dec",
   "metadata": {},
   "outputs": [],
   "source": [
    "'''Q3. Explain the use of the following operators using an example:\n",
    "(i) /\n",
    "(ii) %\n",
    "(iii) //\n",
    "(iv) **\n",
    "'''\n",
    "#  / divisor  ; % remainder  ; // divisor  ; ** power values\n",
    "mac1 = 4/2"
   ]
  },
  {
   "cell_type": "code",
   "execution_count": 30,
   "id": "cfba1b34-d617-45d2-8c82-c17403029f31",
   "metadata": {},
   "outputs": [
    {
     "data": {
      "text/plain": [
       "2.0"
      ]
     },
     "execution_count": 30,
     "metadata": {},
     "output_type": "execute_result"
    }
   ],
   "source": [
    "mac1"
   ]
  },
  {
   "cell_type": "code",
   "execution_count": 31,
   "id": "80d75aaf-559f-4b20-853a-c210af2894ce",
   "metadata": {},
   "outputs": [],
   "source": [
    "mac2= 4%2"
   ]
  },
  {
   "cell_type": "code",
   "execution_count": 32,
   "id": "3c474d4f-fe1b-4274-97b4-ef5469005db7",
   "metadata": {},
   "outputs": [
    {
     "data": {
      "text/plain": [
       "0"
      ]
     },
     "execution_count": 32,
     "metadata": {},
     "output_type": "execute_result"
    }
   ],
   "source": [
    "mac2"
   ]
  },
  {
   "cell_type": "code",
   "execution_count": 36,
   "id": "def50a8c-f3f7-4fb1-8348-5db5d089dd40",
   "metadata": {},
   "outputs": [],
   "source": [
    "mac3 = 12//2"
   ]
  },
  {
   "cell_type": "code",
   "execution_count": 37,
   "id": "39182fc8-1a19-4cd9-b4c8-372bb06bf8af",
   "metadata": {},
   "outputs": [
    {
     "data": {
      "text/plain": [
       "6"
      ]
     },
     "execution_count": 37,
     "metadata": {},
     "output_type": "execute_result"
    }
   ],
   "source": [
    "mac3"
   ]
  },
  {
   "cell_type": "code",
   "execution_count": 39,
   "id": "66e2e5bd-2186-4284-95cc-936841fbf8be",
   "metadata": {},
   "outputs": [],
   "source": [
    "mac4 = 2**3"
   ]
  },
  {
   "cell_type": "code",
   "execution_count": 40,
   "id": "ce7773a8-1190-4632-b89e-036406cfdc8c",
   "metadata": {},
   "outputs": [
    {
     "data": {
      "text/plain": [
       "8"
      ]
     },
     "execution_count": 40,
     "metadata": {},
     "output_type": "execute_result"
    }
   ],
   "source": [
    "mac4"
   ]
  },
  {
   "cell_type": "code",
   "execution_count": 41,
   "id": "1f7c02fc-a886-4d08-94d3-29b4a641cb77",
   "metadata": {},
   "outputs": [
    {
     "data": {
      "text/plain": [
       "'Q4. Create a list of length 10 of your choice containing multiple types of data. Using for loop print the\\nelement and its data type.'"
      ]
     },
     "execution_count": 41,
     "metadata": {},
     "output_type": "execute_result"
    }
   ],
   "source": [
    "'''Q4. Create a list of length 10 of your choice containing multiple types of data. Using for loop print the\n",
    "element and its data type.'''"
   ]
  },
  {
   "cell_type": "code",
   "execution_count": 64,
   "id": "e8a6b959-f038-43dd-87d5-673bffce7eb7",
   "metadata": {},
   "outputs": [
    {
     "name": "stdout",
     "output_type": "stream",
     "text": [
      "1\n",
      "<class 'int'>\n",
      "2\n",
      "<class 'int'>\n",
      "84\n",
      "<class 'int'>\n",
      "237648\n",
      "<class 'int'>\n",
      "(9+8j)\n",
      "<class 'complex'>\n",
      "3627547.8273456\n",
      "<class 'float'>\n",
      "True\n",
      "<class 'bool'>\n",
      "34\n",
      "<class 'int'>\n",
      "54\n",
      "<class 'int'>\n",
      "subh\n",
      "<class 'str'>\n"
     ]
    },
    {
     "ename": "TypeError",
     "evalue": "can only concatenate str (not \"int\") to str",
     "output_type": "error",
     "traceback": [
      "\u001b[0;31m---------------------------------------------------------------------------\u001b[0m",
      "\u001b[0;31mTypeError\u001b[0m                                 Traceback (most recent call last)",
      "Cell \u001b[0;32mIn[64], line 5\u001b[0m\n\u001b[1;32m      3\u001b[0m \u001b[38;5;28mprint\u001b[39m(i)\n\u001b[1;32m      4\u001b[0m \u001b[38;5;28mprint\u001b[39m(\u001b[38;5;28mtype\u001b[39m(i))\n\u001b[0;32m----> 5\u001b[0m i \u001b[38;5;241m+\u001b[39m\u001b[38;5;241m=\u001b[39m \u001b[38;5;241m1\u001b[39m\n",
      "\u001b[0;31mTypeError\u001b[0m: can only concatenate str (not \"int\") to str"
     ]
    }
   ],
   "source": [
    "lis = [1,2,84,237648,(9+8j),3627547.8273456,True,34,54,'subh']\n",
    "for i in lis :\n",
    "    print(i)\n",
    "    print(type(i))\n",
    "    i += 1\n",
    "     "
   ]
  },
  {
   "cell_type": "code",
   "execution_count": 103,
   "id": "d43f5b9e-c5ea-42ba-9c8c-470d8e3878ad",
   "metadata": {},
   "outputs": [
    {
     "ename": "IndentationError",
     "evalue": "unindent does not match any outer indentation level (<tokenize>, line 10)",
     "output_type": "error",
     "traceback": [
      "\u001b[0;36m  File \u001b[0;32m<tokenize>:10\u001b[0;36m\u001b[0m\n\u001b[0;31m    i= i+1\u001b[0m\n\u001b[0m    ^\u001b[0m\n\u001b[0;31mIndentationError\u001b[0m\u001b[0;31m:\u001b[0m unindent does not match any outer indentation level\n"
     ]
    }
   ],
   "source": [
    "'''Q5. Using a while loop, verify if the number A is purely divisible by number B and if so then how many\n",
    "times it can be divisible.'''\n",
    "\n",
    "i= 12\n",
    "n= 3\n",
    "while n<i:\n",
    "    if i%n == 0:\n",
    "        a=i+0:\n",
    "             print(a)\n",
    "            i= i+1\n",
    "    \n",
    "    "
   ]
  },
  {
   "cell_type": "code",
   "execution_count": 79,
   "id": "9b765616-1308-4b12-b135-98ff431a2988",
   "metadata": {},
   "outputs": [
    {
     "data": {
      "text/plain": [
       "'Create a list containing 25 int type data. Using for loop and if-else condition print if the element is\\ndivisible by 3 or not.'"
      ]
     },
     "execution_count": 79,
     "metadata": {},
     "output_type": "execute_result"
    }
   ],
   "source": [
    "'''Create a list containing 25 int type data. Using for loop and if-else condition print if the element is\n",
    "divisible by 3 or not.'''"
   ]
  },
  {
   "cell_type": "code",
   "execution_count": 80,
   "id": "6e896b26-f43a-4cc9-ae5d-c3ce3a6bd206",
   "metadata": {},
   "outputs": [
    {
     "data": {
      "text/plain": [
       "range(0, 25)"
      ]
     },
     "execution_count": 80,
     "metadata": {},
     "output_type": "execute_result"
    }
   ],
   "source": [
    "range(25)\n"
   ]
  },
  {
   "cell_type": "code",
   "execution_count": 87,
   "id": "d0a57bb9-9f81-4e58-9ff4-e2522d9481f3",
   "metadata": {},
   "outputs": [],
   "source": [
    "l = list(range(0,25))\n"
   ]
  },
  {
   "cell_type": "code",
   "execution_count": 100,
   "id": "bf04eb1e-997b-4893-a66e-b717e2ac592a",
   "metadata": {},
   "outputs": [
    {
     "name": "stdout",
     "output_type": "stream",
     "text": [
      "0     Divisible By 3\n",
      "3     Divisible By 3\n",
      "6     Divisible By 3\n",
      "9     Divisible By 3\n",
      "12     Divisible By 3\n",
      "15     Divisible By 3\n",
      "18     Divisible By 3\n",
      "21     Divisible By 3\n",
      "24     Divisible By 3\n"
     ]
    }
   ],
   "source": [
    "for i in l:\n",
    "    if l[i]%3 == 0:\n",
    "        print(l[i],\" \",\"  Divisible By 3\")\n",
    "        \n",
    "    "
   ]
  },
  {
   "cell_type": "code",
   "execution_count": 2,
   "id": "69e08417-f1a6-4782-b8e1-ac307a252575",
   "metadata": {},
   "outputs": [
    {
     "data": {
      "text/plain": [
       "'What do you understand about mutable and immutable data types? Give examples for both showing\\nthis property'"
      ]
     },
     "execution_count": 2,
     "metadata": {},
     "output_type": "execute_result"
    }
   ],
   "source": [
    "'''What do you understand about mutable and immutable data types? Give examples for both showing\n",
    "this property'''"
   ]
  },
  {
   "cell_type": "code",
   "execution_count": 3,
   "id": "c1574c68-7b8f-46a7-a38f-65bdb40e64b8",
   "metadata": {},
   "outputs": [],
   "source": [
    "#String type data is immutable where as List type of data are mutable type records "
   ]
  },
  {
   "cell_type": "code",
   "execution_count": 4,
   "id": "1cbdffcc-dc42-49c5-b38d-34c10a388c51",
   "metadata": {},
   "outputs": [],
   "source": [
    "s = 'Subrat'"
   ]
  },
  {
   "cell_type": "code",
   "execution_count": 5,
   "id": "0643bc1d-10f2-42a1-8f43-1451913346a0",
   "metadata": {},
   "outputs": [
    {
     "data": {
      "text/plain": [
       "'Subrat'"
      ]
     },
     "execution_count": 5,
     "metadata": {},
     "output_type": "execute_result"
    }
   ],
   "source": [
    "s"
   ]
  },
  {
   "cell_type": "code",
   "execution_count": 9,
   "id": "b9ac9e2f-e461-435c-bbce-b110bac44579",
   "metadata": {},
   "outputs": [
    {
     "data": {
      "text/plain": [
       "'u'"
      ]
     },
     "execution_count": 9,
     "metadata": {},
     "output_type": "execute_result"
    }
   ],
   "source": [
    "s[1]"
   ]
  },
  {
   "cell_type": "code",
   "execution_count": 10,
   "id": "c1287252-f30e-4422-874c-a2992edc26be",
   "metadata": {},
   "outputs": [],
   "source": [
    "# but when we try to change the value for a particular index in string it doesn't allow us "
   ]
  },
  {
   "cell_type": "code",
   "execution_count": 11,
   "id": "0959044a-b6a0-411f-8c2d-d52f696e30bd",
   "metadata": {},
   "outputs": [
    {
     "ename": "TypeError",
     "evalue": "'str' object does not support item assignment",
     "output_type": "error",
     "traceback": [
      "\u001b[0;31m---------------------------------------------------------------------------\u001b[0m",
      "\u001b[0;31mTypeError\u001b[0m                                 Traceback (most recent call last)",
      "Cell \u001b[0;32mIn[11], line 1\u001b[0m\n\u001b[0;32m----> 1\u001b[0m \u001b[43ms\u001b[49m\u001b[43m[\u001b[49m\u001b[38;5;241;43m1\u001b[39;49m\u001b[43m]\u001b[49m \u001b[38;5;241m=\u001b[39m \u001b[38;5;124m'\u001b[39m\u001b[38;5;124ma\u001b[39m\u001b[38;5;124m'\u001b[39m\n",
      "\u001b[0;31mTypeError\u001b[0m: 'str' object does not support item assignment"
     ]
    }
   ],
   "source": [
    "s[1] = 'a'"
   ]
  },
  {
   "cell_type": "code",
   "execution_count": 12,
   "id": "a143bf43-16a6-45a5-b133-2717c1678ec8",
   "metadata": {},
   "outputs": [],
   "source": [
    "#if we try to the same for a list it helps us to mutate"
   ]
  },
  {
   "cell_type": "code",
   "execution_count": 13,
   "id": "9be82f90-6da4-496f-89c4-a9406a981310",
   "metadata": {},
   "outputs": [],
   "source": [
    "l = [1,2,3,'Subrat','skills',True]"
   ]
  },
  {
   "cell_type": "code",
   "execution_count": 14,
   "id": "7cbc146c-85dc-4610-8ee9-4fffcca9c6d7",
   "metadata": {},
   "outputs": [
    {
     "data": {
      "text/plain": [
       "[1, 2, 3, 'Subrat', 'skills', True]"
      ]
     },
     "execution_count": 14,
     "metadata": {},
     "output_type": "execute_result"
    }
   ],
   "source": [
    "l"
   ]
  },
  {
   "cell_type": "code",
   "execution_count": 15,
   "id": "48e42357-339f-46a2-839f-f81a7ac237d1",
   "metadata": {},
   "outputs": [
    {
     "data": {
      "text/plain": [
       "'skills'"
      ]
     },
     "execution_count": 15,
     "metadata": {},
     "output_type": "execute_result"
    }
   ],
   "source": [
    "l[4]"
   ]
  },
  {
   "cell_type": "code",
   "execution_count": 16,
   "id": "45644d00-c2cb-4201-bb62-0b9f27034f7e",
   "metadata": {},
   "outputs": [],
   "source": [
    "l[4] = 'Tech_Skills'"
   ]
  },
  {
   "cell_type": "code",
   "execution_count": 17,
   "id": "94d2b310-ad7f-497c-a8ec-f6c77cb5192f",
   "metadata": {},
   "outputs": [
    {
     "data": {
      "text/plain": [
       "[1, 2, 3, 'Subrat', 'Tech_Skills', True]"
      ]
     },
     "execution_count": 17,
     "metadata": {},
     "output_type": "execute_result"
    }
   ],
   "source": [
    "l"
   ]
  },
  {
   "cell_type": "code",
   "execution_count": null,
   "id": "9c78f379-4bf1-4e57-9b9f-48deb4681af3",
   "metadata": {},
   "outputs": [],
   "source": [
    "# here we can make the changes to existing data in a particular index location"
   ]
  }
 ],
 "metadata": {
  "kernelspec": {
   "display_name": "Python 3 (ipykernel)",
   "language": "python",
   "name": "python3"
  },
  "language_info": {
   "codemirror_mode": {
    "name": "ipython",
    "version": 3
   },
   "file_extension": ".py",
   "mimetype": "text/x-python",
   "name": "python",
   "nbconvert_exporter": "python",
   "pygments_lexer": "ipython3",
   "version": "3.10.8"
  }
 },
 "nbformat": 4,
 "nbformat_minor": 5
}
