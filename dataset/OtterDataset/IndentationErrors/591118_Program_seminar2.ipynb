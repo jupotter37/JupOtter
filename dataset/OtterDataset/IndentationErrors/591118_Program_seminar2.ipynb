{
 "cells": [
  {
   "cell_type": "markdown",
   "metadata": {},
   "source": [
    "## Seminar 2 -> Dekker kap 8,9 og 10 + Verdsettelse"
   ]
  },
  {
   "cell_type": "code",
   "execution_count": 2,
   "metadata": {},
   "outputs": [],
   "source": [
    "import yfinance as yf\n",
    "import pandas as pd\n",
    "import numpy as np\n",
    "import statsmodels.api as sm"
   ]
  },
  {
   "cell_type": "markdown",
   "metadata": {},
   "source": [
    "Rullende 12-måend inntekter"
   ]
  },
  {
   "cell_type": "code",
   "execution_count": 3,
   "metadata": {},
   "outputs": [],
   "source": [
    "def rullende_12_måneders_omsetning(omsetning_siste_10k, omsetning_første_3_kvartaler_fjor, omsetning_første_3_kvartaler_år):\n",
    "    rullende_omsetning = omsetning_siste_10k - omsetning_første_3_kvartaler_fjor + omsetning_første_3_kvartaler_år\n",
    "    return rullende_omsetning"
   ]
  },
  {
   "cell_type": "code",
   "execution_count": 4,
   "metadata": {},
   "outputs": [
    {
     "name": "stdout",
     "output_type": "stream",
     "text": [
      "Rullende 12-måneders omsetning er: 1400000\n"
     ]
    }
   ],
   "source": [
    "omsetning_siste_10k = 1000000\n",
    "omsetning_første_3_kvartaler_fjor = 800000\n",
    "omsetning_første_3_kvartaler_år = 1200000\n",
    "\n",
    "rullende_omsetning = rullende_12_måneders_omsetning(omsetning_siste_10k, omsetning_første_3_kvartaler_fjor, omsetning_første_3_kvartaler_år)\n",
    "print(\"Rullende 12-måneders omsetning er:\", rullende_omsetning)"
   ]
  },
  {
   "cell_type": "markdown",
   "metadata": {},
   "source": [
    "ESTIMERE CASH FLOW - FCFE\n",
    "\n",
    "    Beregner frie kontantstrømmer til egenkapital (FCFE) for en selskap med gjeld.\n",
    "\n",
    "    Parametere:\n",
    "    Net_Income (float): Nettoinntekt.\n",
    "    CapEx (float): Kapitalutgifter.\n",
    "    Depreciation (float): Avskrivninger.\n",
    "    Changes_in_Working_Capital (float): Endringer i arbeidskapital.\n",
    "    Principal_Repayments (float): Tilbakebetaling av lån.\n",
    "    New_Debt_Issues (float): Nye lån som er tatt opp.\n",
    "\n",
    "    Returnerer:\n",
    "    FCFE (float): Frie kontantstrømmer til egenkapital.\n",
    "    \"\"\""
   ]
  },
  {
   "cell_type": "code",
   "execution_count": 5,
   "metadata": {},
   "outputs": [
    {
     "ename": "IndentationError",
     "evalue": "unexpected indent (2958153607.py, line 3)",
     "output_type": "error",
     "traceback": [
      "\u001b[1;36m  Cell \u001b[1;32mIn[5], line 3\u001b[1;36m\u001b[0m\n\u001b[1;33m    - (CapEx - Depreciation)\u001b[0m\n\u001b[1;37m    ^\u001b[0m\n\u001b[1;31mIndentationError\u001b[0m\u001b[1;31m:\u001b[0m unexpected indent\n"
     ]
    }
   ],
   "source": [
    "def calculate_FCFE(Net_Income, CapEx, Depreciation, Changes_in_Working_Capital, Principal_Repayments, New_Debt_Issues):\n",
    "    FCFE = Net_Income\n",
    "           - (CapEx - Depreciation)\n",
    "           - Changes_in_Working_Capital\n",
    "           - (Principal_Repayments - New_Debt_Issues)\n",
    "    \n",
    "    return FCFE\n"
   ]
  },
  {
   "cell_type": "markdown",
   "metadata": {},
   "source": [
    "BETA"
   ]
  },
  {
   "cell_type": "markdown",
   "metadata": {},
   "source": [
    "This beta has three problems:\n",
    "\n",
    "• It has high standard error\n",
    "\n",
    "• It reflects the firm’s business mix over the period of the regression, not the current mix\n",
    "\n",
    "• It reflects the firm’s average financial leverage over the period rather than the\n",
    "\n",
    "Button up beta - Kan elimenere feil bedre"
   ]
  },
  {
   "cell_type": "code",
   "execution_count": 6,
   "metadata": {},
   "outputs": [],
   "source": [
    "def calculate_betas(stock_symbol, market_symbol, tax_rate, debt_equity_ratio):\n",
    "    # Step 1: Load historical data\n",
    "    stock_data = yf.download(stock_symbol, start=\"2023-01-01\", end=\"2024-01-01\")\n",
    "    market_data = yf.download(market_symbol, start=\"2023-01-01\", end=\"2024-01-01\")\n",
    "\n",
    "    # Step 2: Calculate returns\n",
    "    stock_data['Returns'] = stock_data['Close'].pct_change()\n",
    "    market_data['Returns'] = market_data['Close'].pct_change()\n",
    "\n",
    "    # Step 3: Drop NaN values\n",
    "    stock_data.dropna(inplace=True)\n",
    "    market_data.dropna(inplace=True)\n",
    "\n",
    "    # Step 4: Perform linear regression\n",
    "    X = market_data['Returns']\n",
    "    y = stock_data['Returns']\n",
    "    X = sm.add_constant(X)  # add constant for intercept\n",
    "    model = sm.OLS(y, X).fit()\n",
    "\n",
    "    # Step 5: Extract regression coefficients\n",
    "    intercept, beta = model.params\n",
    "\n",
    "    # Step 6: Calculate unlevered beta\n",
    "    unlevered_beta = beta / (1 + (1 - tax_rate) * debt_equity_ratio)\n",
    "\n",
    "    # Step 7: Calculate levered beta\n",
    "    levered_beta = unlevered_beta * (1 + (1 - tax_rate) * debt_equity_ratio)\n",
    "\n",
    "    return unlevered_beta, levered_beta"
   ]
  },
  {
   "cell_type": "code",
   "execution_count": 7,
   "metadata": {},
   "outputs": [
    {
     "name": "stderr",
     "output_type": "stream",
     "text": [
      "C:\\Users\\even\\AppData\\Local\\Packages\\PythonSoftwareFoundation.Python.3.12_qbz5n2kfra8p0\\LocalCache\\local-packages\\Python312\\site-packages\\yfinance\\utils.py:775: FutureWarning: The 'unit' keyword in TimedeltaIndex construction is deprecated and will be removed in a future version. Use pd.to_timedelta instead.\n",
      "  df.index += _pd.TimedeltaIndex(dst_error_hours, 'h')\n",
      "[*********************100%%**********************]  1 of 1 completed\n",
      "C:\\Users\\even\\AppData\\Local\\Packages\\PythonSoftwareFoundation.Python.3.12_qbz5n2kfra8p0\\LocalCache\\local-packages\\Python312\\site-packages\\yfinance\\utils.py:775: FutureWarning: The 'unit' keyword in TimedeltaIndex construction is deprecated and will be removed in a future version. Use pd.to_timedelta instead.\n",
      "  df.index += _pd.TimedeltaIndex(dst_error_hours, 'h')\n",
      "[*********************100%%**********************]  1 of 1 completed"
     ]
    },
    {
     "name": "stdout",
     "output_type": "stream",
     "text": [
      "Unlevered Beta: 0.5371191024140313\n",
      "Levered Beta: 0.7047002623672091\n"
     ]
    },
    {
     "name": "stderr",
     "output_type": "stream",
     "text": [
      "\n"
     ]
    }
   ],
   "source": [
    "unlevered_beta, levered_beta = calculate_betas('SALM.OL', 'OSEBX.OL', tax_rate=0.22, debt_equity_ratio=0.4)\n",
    "print(\"Unlevered Beta:\", unlevered_beta)\n",
    "print(\"Levered Beta:\", levered_beta)"
   ]
  },
  {
   "cell_type": "markdown",
   "metadata": {},
   "source": [
    "## Kap 8 , Problem 13"
   ]
  },
  {
   "cell_type": "markdown",
   "metadata": {},
   "source": [
    "You run a regression of monthly returns of Mapco Inc., an oil and gas producing firm, on\n",
    "\n",
    "the S&P 500 index, and come up with the following output for the period 1991 to 1995:\n",
    "\n",
    "Intercept of the regression = 0.06%\n",
    "\n",
    "Slope of the regression = 0.46\n",
    "\n",
    "Standard error of the X-coefficient = 0.20\n",
    "\n",
    "R-squared = 5%\n",
    "\n",
    "a. What would an investor in Mapco's stock require as a return if the t-bond rate is 6%?\n",
    "\n",
    "b. What proportion of this firm's risk is diversifiable?"
   ]
  },
  {
   "cell_type": "code",
   "execution_count": 19,
   "metadata": {},
   "outputs": [],
   "source": [
    "def calculate_investor_return(intercept , beta, risk_free_rate):\n",
    "    # CAPM formula: required_return = risk_free_rate + beta * (market_return - risk_free_rate)\n",
    "    required_return = intercept + (beta * (risk_free_rate))\n",
    "    return required_return"
   ]
  },
  {
   "cell_type": "code",
   "execution_count": 20,
   "metadata": {},
   "outputs": [],
   "source": [
    "def calculate_diversifiable_risk(r_squared):\n",
    "    # Diversifiable risk is 1 - R-squared\n",
    "    diversifiable_risk = 1 - r_squared\n",
    "    return diversifiable_risk"
   ]
  },
  {
   "cell_type": "code",
   "execution_count": 22,
   "metadata": {},
   "outputs": [
    {
     "name": "stdout",
     "output_type": "stream",
     "text": [
      "a. Investor's required return: 0.0853\n",
      "b. Proportion of diversifiable risk: 0.95\n"
     ]
    }
   ],
   "source": [
    "# Given data\n",
    "intercept = 0.06  # Intercept in decimal form (0.06% converted to decimal)\n",
    "beta = 0.46\n",
    "risk_free_rate = 0.055 # T-bond rate in decimal form (6% converted to decimal)\n",
    "r_squared = 0.05  # R-squared value\n",
    "\n",
    "# Market return is the risk-free rate plus the return premium\n",
    "market_return = risk_free_rate + 0.055  # Assuming a return premium of 8%\n",
    "\n",
    "# Calculate investor's required return using CAPM\n",
    "required_return = calculate_investor_return(intercept, beta, risk_free_rate)\n",
    "print(\"a. Investor's required return:\", required_return)\n",
    "\n",
    "# Calculate proportion of diversifiable risk\n",
    "diversifiable_risk = calculate_diversifiable_risk(r_squared)\n",
    "print(\"b. Proportion of diversifiable risk:\", diversifiable_risk)\n"
   ]
  },
  {
   "cell_type": "markdown",
   "metadata": {},
   "source": [
    "Hvis R^2 er 5% så forklarer modellen 5% av y variabelen \n",
    "eller venstresidevariabelen. \n",
    "\n",
    "Modellen forklarer bare systematisk risiko siden forklaringsvariabelen er en\n",
    "markedsportefølje og er diversifisert. \n",
    "\n",
    "Ingen usystematisk risiko igjen i markedsporteføljen. \n",
    "\n",
    "Modellen forklarer den systematiske risikoen til y-variabelen eller med andre ord aksjen."
   ]
  },
  {
   "cell_type": "markdown",
   "metadata": {},
   "source": [
    "## KAP 8, Problem 8"
   ]
  },
  {
   "cell_type": "markdown",
   "metadata": {},
   "source": [
    "You are analyzing the beta for Hewlett Packard (HP) and have broken down the company\n",
    "\n",
    "into four broad business groups, with market values and betas for each group. The\n",
    "\n",
    "company have $1 billion in debt and is paying a tax rate of 36%.\n",
    "\n",
    "Business Group Market Value of Equity Unlevered beta\n",
    "\n",
    "Mainframes $2.0 billion 1.10\n",
    "\n",
    "Personal Computers $2.0 billion 1.50\n",
    "\n",
    "Software $1.0 billion 2.00\n",
    "\n",
    "Printers $3.0 billion 1.00\n",
    "\n",
    "a) Estimate the beta for Hewlett Packard as a company. \n",
    "\n",
    "Is this beta going to be equal to the beta estimated by regressing past returns on HP stock against a market index? \n",
    "\n",
    "Why or why not?"
   ]
  },
  {
   "cell_type": "code",
   "execution_count": 25,
   "metadata": {},
   "outputs": [],
   "source": [
    "def calculate_levered_beta(groups, debt, tax_rate):\n",
    "    total_equity_value = sum(group[1] for group in groups)\n",
    "    debt_equity_ratio = debt / total_equity_value\n",
    "    unlevered_beta = sum(group[1] * group[2] / total_equity_value for group in groups)\n",
    "    levered_beta = unlevered_beta * (1 + (1 - tax_rate) * debt_equity_ratio)\n",
    "    return levered_beta"
   ]
  },
  {
   "cell_type": "code",
   "execution_count": 24,
   "metadata": {},
   "outputs": [
    {
     "name": "stdout",
     "output_type": "stream",
     "text": [
      "Levered Beta for HP: 1.377\n"
     ]
    }
   ],
   "source": [
    "# Given data\n",
    "groups = [(\"Mainframes\", 2.0, 1.10),\n",
    "          (\"Personal Computers\", 2.0, 1.50),\n",
    "          (\"Software\", 1.0, 2.00),\n",
    "          (\"Printers\", 3.0, 1.00)]\n",
    "\n",
    "debt = 1.0  # $1 billion in debt\n",
    "tax_rate = 0.36  # 36% tax rate\n",
    "\n",
    "# Calculate levered beta for HP\n",
    "levered_beta_hp = calculate_levered_beta(groups, debt, tax_rate)\n",
    "print(\"Levered Beta for HP:\", levered_beta_hp)"
   ]
  },
  {
   "cell_type": "markdown",
   "metadata": {},
   "source": [
    "## 8b ) "
   ]
  },
  {
   "cell_type": "code",
   "execution_count": null,
   "metadata": {},
   "outputs": [],
   "source": []
  },
  {
   "cell_type": "markdown",
   "metadata": {},
   "source": [
    "## EKSAMEN 2019 konte 3a"
   ]
  },
  {
   "cell_type": "code",
   "execution_count": 42,
   "metadata": {},
   "outputs": [],
   "source": [
    "def calculate_equity_cost_us_it(risk_free_rate, beta, market_premium):\n",
    "    # Beregn egenkapitalkostnaden for US IT-division\n",
    "    equity_cost_us_it = risk_free_rate + beta * market_premium\n",
    "    return equity_cost_us_it\n",
    "\n",
    "def calculate_equity_cost_mx_agriculture(risk_free_rate, default_spread, beta, market_premium, land_risk_premium):\n",
    "    equity_cost_mx_agriculture = risk_free_rate + beta * market_premium + land_risk_premium\n",
    "    return equity_cost_mx_agriculture"
   ]
  },
  {
   "cell_type": "code",
   "execution_count": 43,
   "metadata": {},
   "outputs": [
    {
     "name": "stdout",
     "output_type": "stream",
     "text": [
      "Egenkapitalkostnad (CAPM) for US IT-division: 0.068\n",
      "Egenkapitalkostnad (CAPM) for meksikansk landbruksdivision: 0.136\n"
     ]
    }
   ],
   "source": [
    "# Oppgitte data\n",
    "risk_free_rate_us = 0.02\n",
    "beta_us_it = 0.8\n",
    "market_premium = 0.06\n",
    "\n",
    "risk_free_rate_mx = 0.06\n",
    "default_spread = 0.005\n",
    "beta_mx_agriculture = 1.1\n",
    "land_risk_premium = 0.01\n",
    "\n",
    "# Beregn egenkapitalkostnad (CAPM) for US IT-division\n",
    "equity_cost_us_it = calculate_equity_cost_us_it(risk_free_rate_us, beta_us_it, market_premium)\n",
    "print(\"Egenkapitalkostnad (CAPM) for US IT-division:\", equity_cost_us_it)\n",
    "\n",
    "# Beregn egenkapitalkostnad (CAPM) for meksikansk landbruksdivision\n",
    "equity_cost_mx_agriculture = calculate_equity_cost_mx_agriculture(risk_free_rate_mx, default_spread, beta_mx_agriculture, market_premium, land_risk_premium)\n",
    "print(\"Egenkapitalkostnad (CAPM) for meksikansk landbruksdivision:\", equity_cost_mx_agriculture)\n",
    "\n"
   ]
  },
  {
   "cell_type": "markdown",
   "metadata": {},
   "source": [
    "## Syntetisk ratings\n",
    "\n",
    "Interest Coverage Ratio = EBIT / Interest Expenses"
   ]
  },
  {
   "cell_type": "code",
   "execution_count": 44,
   "metadata": {},
   "outputs": [],
   "source": [
    "def calculate_interest_coverage_ratio(EBIT, interest_expenses):\n",
    "    interest_coverage_ratio = EBIT / interest_expenses\n",
    "    return interest_coverage_ratio"
   ]
  },
  {
   "cell_type": "markdown",
   "metadata": {},
   "source": [
    "## Eksamen 2015 konte , oppgave 2"
   ]
  },
  {
   "cell_type": "markdown",
   "metadata": {},
   "source": [
    "Oppgave 2 (20%) Arbeidskapital\n",
    "\n",
    "a) Du får oppgitt følgende informasjon om et selskap:\n",
    "\n",
    "Inntekter 2014: 100\n",
    "\n",
    "Historisk forhold mellom arbeidskapital og inntekter (arbeidskapital/inntekt): 30 %\n",
    "\n",
    "Forventet årlig vekst i inntekt fremover: 5 %\n",
    "\n",
    "a) Beregn forventet endring i arbeidskapital for år 2020\n",
    "\n",
    "b) Vi kan beregne arbeidskapital for et enkelt år, men hvis vi ikke tror at dette året\n",
    "\n",
    "er representativt for fremtiden, hvilke alternativ har vi for å beregne fremtidig\n",
    "\n",
    "arbeidskapital?"
   ]
  },
  {
   "cell_type": "code",
   "execution_count": 49,
   "metadata": {},
   "outputs": [],
   "source": [
    "def beregn_arbeidskapital(inntekter_2014, arbeidskapital_inntekt_forhold, forventet_vekst_inntekt, antall_år_frem_i_tid):\n",
    "    # Beregn inntekt for 2019 og 2020 med forventet vekst\n",
    "    inntekt_2019 = inntekter_2014 * ((1 + forventet_vekst_inntekt) ** (antall_år_frem_i_tid - 1))\n",
    "    inntekt_2020 = inntekter_2014 * ((1 + forventet_vekst_inntekt) ** (antall_år_frem_i_tid))\n",
    "    \n",
    "    # Beregn arbeidskapital for de samme årene\n",
    "    arbeidskapital_2019 = inntekt_2019 * arbeidskapital_inntekt_forhold\n",
    "    arbeidskapital_2020 = inntekt_2020 * arbeidskapital_inntekt_forhold\n",
    "    \n",
    "    # Beregn endring i arbeidskapital i 2020\n",
    "    endring_arbeidskapital = arbeidskapital_2020 - arbeidskapital_2019\n",
    "    \n",
    "    return endring_arbeidskapital"
   ]
  },
  {
   "cell_type": "code",
   "execution_count": 50,
   "metadata": {},
   "outputs": [
    {
     "name": "stdout",
     "output_type": "stream",
     "text": [
      "Forventet endring i arbeidskapital for år 2020: 1.9144223437500045\n"
     ]
    }
   ],
   "source": [
    "# Test funksjonen med oppgitt informasjon\n",
    "inntekter_2014 = 100\n",
    "arbeidskapital_inntekt_forhold = 0.30\n",
    "forventet_vekst_inntekt = 0.05\n",
    "antall_år_frem_i_tid = 6\n",
    "\n",
    "forventet_endring_arbeidskapital = beregn_arbeidskapital(inntekter_2014, arbeidskapital_inntekt_forhold, forventet_vekst_inntekt, antall_år_frem_i_tid)\n",
    "print(\"Forventet endring i arbeidskapital for år 2020:\", forventet_endring_arbeidskapital)"
   ]
  },
  {
   "cell_type": "markdown",
   "metadata": {},
   "source": [
    "## Eksamen 2012 odinær , oppgave 1a)"
   ]
  },
  {
   "cell_type": "code",
   "execution_count": 51,
   "metadata": {},
   "outputs": [
    {
     "name": "stdout",
     "output_type": "stream",
     "text": [
      "Unlevered Beta: 0.5102908422506723\n",
      "Levered Beta: 0.6888926370384078\n"
     ]
    }
   ],
   "source": [
    "import pandas as pd\n",
    "import numpy as np\n",
    "import statsmodels.api as sm\n",
    "\n",
    "def calculate_betas(stock_data, market_data, tax_rate, debt_equity_ratio):\n",
    "    # Step 2: Calculate returns\n",
    "    stock_data['Returns'] = stock_data['XYZ'].pct_change()\n",
    "    market_data['Returns'] = market_data['Markedsportefølje'].pct_change()\n",
    "\n",
    "    # Step 3: Drop NaN values\n",
    "    stock_data.dropna(inplace=True)\n",
    "    market_data.dropna(inplace=True)\n",
    "\n",
    "    # Step 4: Perform linear regression\n",
    "    X = market_data['Returns']\n",
    "    y = stock_data['Returns']\n",
    "    X = sm.add_constant(X)  # add constant for intercept\n",
    "    model = sm.OLS(y, X).fit()\n",
    "\n",
    "    # Step 5: Extract regression coefficients\n",
    "    intercept, beta = model.params\n",
    "\n",
    "    # Step 6: Calculate unlevered beta\n",
    "    unlevered_beta = beta / (1 + (1 - tax_rate) * debt_equity_ratio)\n",
    "\n",
    "    # Step 7: Calculate levered beta\n",
    "    levered_beta = unlevered_beta * (1 + (1 - tax_rate) * debt_equity_ratio)\n",
    "\n",
    "    return unlevered_beta, levered_beta\n",
    "\n",
    "# Example data\n",
    "stock_data = pd.DataFrame({\n",
    "    'XYZ': [113.90, 117.30, 119.60, 124.40, 131.90],\n",
    "    'Year': [2008, 2009, 2010, 2011, 2012]\n",
    "})\n",
    "\n",
    "market_data = pd.DataFrame({\n",
    "    'Markedsportefølje': [1593.50, 1625.30, 1641.60, 1723.70, 1827.10],\n",
    "    'Year': [2008, 2009, 2010, 2011, 2012]\n",
    "})\n",
    "\n",
    "tax_rate = 0.3  # Example tax rate\n",
    "debt_equity_ratio = 0.5  # Example debt-equity ratio\n",
    "\n",
    "unlevered_beta, levered_beta = calculate_betas(stock_data, market_data, tax_rate, debt_equity_ratio)\n",
    "print(\"Unlevered Beta:\", unlevered_beta)\n",
    "print(\"Levered Beta:\", levered_beta)"
   ]
  },
  {
   "cell_type": "code",
   "execution_count": 52,
   "metadata": {},
   "outputs": [
    {
     "name": "stdout",
     "output_type": "stream",
     "text": [
      "Beta for selskap XYZ: 0.68889\n"
     ]
    }
   ],
   "source": [
    "import numpy as np\n",
    "\n",
    "# A function to calculate beta\n",
    "def calculate_beta(XYZ_returns, market_returns):\n",
    "    # Calculate the mean returns\n",
    "    XYZ_mean_return = np.mean(XYZ_returns)\n",
    "    market_mean_return = np.mean(market_returns)\n",
    "    \n",
    "    # Calculate the quadratic deviation for the market\n",
    "    market_quadratic_deviation = np.square(market_returns - market_mean_return)\n",
    "    \n",
    "    # Calculate the covariance calculation\n",
    "    covariance_calculation = (XYZ_returns - XYZ_mean_return) * (market_returns - market_mean_return)\n",
    "    \n",
    "    # Calculate covariance\n",
    "    covariance = np.sum(covariance_calculation) / (len(XYZ_returns) - 1)\n",
    "    \n",
    "    # Calculate market variance\n",
    "    market_variance = np.sum(market_quadratic_deviation) / (len(market_returns) - 1)\n",
    "    \n",
    "    # Calculate beta\n",
    "    beta = covariance / market_variance\n",
    "    \n",
    "    return beta\n",
    "\n",
    "# Input data\n",
    "XYZ_prices = [113.90, 117.30, 119.60, 124.40, 131.90]\n",
    "market_prices = [1593.50, 1625.30, 1641.60, 1723.70, 1827.10]\n",
    "\n",
    "# Calculate returns for XYZ\n",
    "XYZ_returns = [(XYZ_prices[i] / XYZ_prices[i-1]) - 1 for i in range(1, len(XYZ_prices))]\n",
    "\n",
    "# Calculate returns for market\n",
    "market_returns = [(market_prices[i] / market_prices[i-1]) - 1 for i in range(1, len(market_prices))]\n",
    "\n",
    "# Calculate beta\n",
    "beta = calculate_beta(np.array(XYZ_returns), np.array(market_returns))\n",
    "print(\"Beta for selskap XYZ:\", round(beta, 5))"
   ]
  },
  {
   "cell_type": "code",
   "execution_count": null,
   "metadata": {},
   "outputs": [],
   "source": []
  }
 ],
 "metadata": {
  "kernelspec": {
   "display_name": "Python 3",
   "language": "python",
   "name": "python3"
  },
  "language_info": {
   "codemirror_mode": {
    "name": "ipython",
    "version": 3
   },
   "file_extension": ".py",
   "mimetype": "text/x-python",
   "name": "python",
   "nbconvert_exporter": "python",
   "pygments_lexer": "ipython3",
   "version": "3.12.2"
  }
 },
 "nbformat": 4,
 "nbformat_minor": 2
}
