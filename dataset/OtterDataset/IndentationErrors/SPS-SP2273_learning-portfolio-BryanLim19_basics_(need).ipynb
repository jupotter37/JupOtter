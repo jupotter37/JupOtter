{
 "cells": [
  {
   "cell_type": "markdown",
   "id": "123456",
   "metadata": {},
   "source": [
    "<div style=\"text-align:left;font-size:2em\"><span style=\"font-weight:bolder;font-size:1.25em\">SP2273 | Learning Portfolio</span><br><br><span style=\"font-weight:bold;color:darkred\">Basics (Need)</span></div>"
   ]
  },
  {
   "cell_type": "markdown",
   "id": "bc618b88",
   "metadata": {},
   "source": [
    "## 1 Some Python Basics"
   ]
  },
  {
   "cell_type": "markdown",
   "id": "8d949e3d",
   "metadata": {},
   "source": [
    "### 1.1 Functions"
   ]
  },
  {
   "cell_type": "code",
   "execution_count": 1,
   "id": "acbfde36",
   "metadata": {},
   "outputs": [
    {
     "name": "stdout",
     "output_type": "stream",
     "text": [
      "no more 8am lectures pls\n"
     ]
    }
   ],
   "source": [
    "print('no more 8am lectures pls')"
   ]
  },
  {
   "cell_type": "markdown",
   "id": "0647b435",
   "metadata": {},
   "source": [
    "### 1.2 Python is interpreted"
   ]
  },
  {
   "cell_type": "code",
   "execution_count": 2,
   "id": "521f26b4",
   "metadata": {},
   "outputs": [
    {
     "name": "stdout",
     "output_type": "stream",
     "text": [
      "no more 8am lectures pls\n",
      "no more 8am lectures and tutorials pls\n"
     ]
    }
   ],
   "source": [
    "print('no more 8am lectures pls')\n",
    "print('no more 8am lectures and tutorials pls')"
   ]
  },
  {
   "cell_type": "markdown",
   "id": "fb490ee8",
   "metadata": {},
   "source": [
    "### 1.3 Python is sensitive."
   ]
  },
  {
   "cell_type": "code",
   "execution_count": 4,
   "id": "61dafb92",
   "metadata": {},
   "outputs": [
    {
     "name": "stdout",
     "output_type": "stream",
     "text": [
      "at least no cs1010s\n"
     ]
    },
    {
     "ename": "NameError",
     "evalue": "name 'Print' is not defined",
     "output_type": "error",
     "traceback": [
      "\u001b[1;31m---------------------------------------------------------------------------\u001b[0m",
      "\u001b[1;31mNameError\u001b[0m                                 Traceback (most recent call last)",
      "Cell \u001b[1;32mIn[4], line 2\u001b[0m\n\u001b[0;32m      1\u001b[0m \u001b[38;5;28mprint\u001b[39m(\u001b[38;5;124m'\u001b[39m\u001b[38;5;124mat least no cs1010s\u001b[39m\u001b[38;5;124m'\u001b[39m)\n\u001b[1;32m----> 2\u001b[0m \u001b[43mPrint\u001b[49m(\u001b[38;5;124m'\u001b[39m\u001b[38;5;124mat least no cs1010s\u001b[39m\u001b[38;5;124m'\u001b[39m)\n",
      "\u001b[1;31mNameError\u001b[0m: name 'Print' is not defined"
     ]
    }
   ],
   "source": [
    "print('at least no cs1010s')\n",
    "Print('at least no cs1010s')"
   ]
  },
  {
   "cell_type": "markdown",
   "id": "8f4afa7f",
   "metadata": {},
   "source": [
    "### 1.4 Comments"
   ]
  },
  {
   "cell_type": "code",
   "execution_count": 5,
   "id": "e3020d96",
   "metadata": {},
   "outputs": [
    {
     "name": "stdout",
     "output_type": "stream",
     "text": [
      "i hate coding\n"
     ]
    }
   ],
   "source": [
    "print('i hate coding') #Imma print i hate coding"
   ]
  },
  {
   "cell_type": "markdown",
   "id": "7b31e7b8",
   "metadata": {},
   "source": [
    "### 1.5 = is not the same as =="
   ]
  },
  {
   "cell_type": "code",
   "execution_count": 6,
   "id": "ffbeed9d",
   "metadata": {},
   "outputs": [
    {
     "data": {
      "text/plain": [
       "True"
      ]
     },
     "execution_count": 6,
     "metadata": {},
     "output_type": "execute_result"
    }
   ],
   "source": [
    "SP2273 = 'S/U only' #Assigning values to a term\n",
    "SP2273 == 'S/U only'#Checking if a term is equal to a given value"
   ]
  },
  {
   "cell_type": "markdown",
   "id": "35f1f29c",
   "metadata": {},
   "source": [
    "### 1.6 Use if to make decisions"
   ]
  },
  {
   "cell_type": "code",
   "execution_count": 7,
   "id": "1db39a0b",
   "metadata": {},
   "outputs": [
    {
     "name": "stdout",
     "output_type": "stream",
     "text": [
      "hell yea\n"
     ]
    }
   ],
   "source": [
    "SP2273 = 'S/U only'\n",
    "\n",
    "if SP2273 == 'S/U only':\n",
    "    print('hell yea') \n",
    "else:\n",
    "    print('ez A+')"
   ]
  },
  {
   "cell_type": "markdown",
   "id": "6c41b0a6",
   "metadata": {},
   "source": [
    "### 1.7 Indentations (spaces) are sooo IMPORTANT!"
   ]
  },
  {
   "cell_type": "code",
   "execution_count": 8,
   "id": "674439af",
   "metadata": {},
   "outputs": [
    {
     "ename": "IndentationError",
     "evalue": "unexpected indent (1619474443.py, line 3)",
     "output_type": "error",
     "traceback": [
      "\u001b[1;36m  Cell \u001b[1;32mIn[8], line 3\u001b[1;36m\u001b[0m\n\u001b[1;33m    print(x)\u001b[0m\n\u001b[1;37m    ^\u001b[0m\n\u001b[1;31mIndentationError\u001b[0m\u001b[1;31m:\u001b[0m unexpected indent\n"
     ]
    }
   ],
   "source": [
    "x = 'gay'\n",
    "print(x)\n",
    " print(x)"
   ]
  },
  {
   "cell_type": "markdown",
   "id": "3ced3d6b",
   "metadata": {},
   "source": [
    "### 1.8 ‘age’ is English, age is a variable."
   ]
  },
  {
   "cell_type": "code",
   "execution_count": 9,
   "id": "e535e355",
   "metadata": {},
   "outputs": [
    {
     "name": "stdout",
     "output_type": "stream",
     "text": [
      "15\n",
      "age\n"
     ]
    }
   ],
   "source": [
    "age = 15\n",
    "print(age)\n",
    "print('age')"
   ]
  },
  {
   "cell_type": "markdown",
   "id": "8c4e585a",
   "metadata": {},
   "source": [
    "### 1.9 Escape sequences"
   ]
  },
  {
   "cell_type": "code",
   "execution_count": null,
   "id": "534fd75d",
   "metadata": {},
   "outputs": [],
   "source": []
  },
  {
   "cell_type": "markdown",
   "id": "ef3d710e",
   "metadata": {},
   "source": [
    "### 1.10 Brackets"
   ]
  },
  {
   "cell_type": "code",
   "execution_count": null,
   "id": "06289bd5",
   "metadata": {},
   "outputs": [],
   "source": [
    "\n",
    "# Your code here\n"
   ]
  },
  {
   "cell_type": "markdown",
   "id": "46e5e50b",
   "metadata": {},
   "source": [
    "## 2 Giving Python superpowers"
   ]
  },
  {
   "cell_type": "markdown",
   "id": "2cd46ae7",
   "metadata": {},
   "source": [
    "### 2.1 Packages"
   ]
  },
  {
   "cell_type": "code",
   "execution_count": 12,
   "id": "1bb9ff8e",
   "metadata": {},
   "outputs": [
    {
     "data": {
      "text/plain": [
       "3.0"
      ]
     },
     "execution_count": 12,
     "metadata": {},
     "output_type": "execute_result"
    }
   ],
   "source": [
    "import math\n",
    "math.sqrt(4)\n",
    "import numpy as np\n",
    "np.sqrt(9)"
   ]
  },
  {
   "cell_type": "markdown",
   "id": "5c4e3ce1",
   "metadata": {},
   "source": [
    "### 2.2 The dot (.)"
   ]
  },
  {
   "cell_type": "code",
   "execution_count": 13,
   "id": "65f9a609",
   "metadata": {},
   "outputs": [
    {
     "data": {
      "text/plain": [
       "['your', 'granny', 'tranny']"
      ]
     },
     "execution_count": 13,
     "metadata": {},
     "output_type": "execute_result"
    }
   ],
   "source": [
    "'your granny tranny'.split()"
   ]
  },
  {
   "cell_type": "markdown",
   "id": "8a070a03",
   "metadata": {},
   "source": [
    "## Exercise 1 :  Total recall?"
   ]
  },
  {
   "cell_type": "markdown",
   "id": "0ac0b131",
   "metadata": {},
   "source": [
    "Functions\n",
    "Intepreted\n",
    "Case-sensitive\n",
    "Comments\n",
    "= vs ==\n",
    "if\n",
    "Indentations\n",
    "'age' as English, age as a variable\n",
    "Brackets\n",
    "Packages\n",
    "The dot (.)"
   ]
  },
  {
   "cell_type": "markdown",
   "id": "9abe0ddd",
   "metadata": {},
   "source": [
    "## Exercise 2 :  Debug me"
   ]
  },
  {
   "cell_type": "code",
   "execution_count": 18,
   "id": "146071ea",
   "metadata": {},
   "outputs": [
    {
     "name": "stdout",
     "output_type": "stream",
     "text": [
      "3 4 5.0\n"
     ]
    }
   ],
   "source": [
    "x, y = 3, 4\n",
    "z = math.sqrt(x*x + y*y)\n",
    "print(x, y, z)"
   ]
  },
  {
   "cell_type": "markdown",
   "id": "5c7e68b0",
   "metadata": {},
   "source": [
    "## Exercise 3 :  In your own words"
   ]
  },
  {
   "cell_type": "markdown",
   "id": "d4b83439",
   "metadata": {},
   "source": [
    "|#|Term|Description|\n",
    "|:---|:--:|---:|\n",
    "|1|Function|Issuing a command to be run|\n",
    "|2|Arguments|Produce an outcome depending on a given condition|\n",
    "|3|Comments|Make notes about a line of code|\n",
    "|4|Indentations|Separation of the True and False segments|\n",
    "|5|Packages|Add additional functions to Python|\n",
    "|6|.|Represents ownership of a function to a module|"
   ]
  },
  {
   "cell_type": "markdown",
   "id": "d6552dea",
   "metadata": {},
   "source": [
    "## Exercise 4 :  More than one way to divide"
   ]
  },
  {
   "cell_type": "code",
   "execution_count": 22,
   "id": "577c0cb9",
   "metadata": {},
   "outputs": [
    {
     "data": {
      "text/plain": [
       "1"
      ]
     },
     "execution_count": 22,
     "metadata": {},
     "output_type": "execute_result"
    }
   ],
   "source": [
    "5/2 #Divides 5 by 2\n",
    "5//2 #Divides 5 by 2 and rounds down to nearest integer\n",
    "5%2 #Divides 5 by 2 and returns the remainder"
   ]
  }
 ],
 "metadata": {
  "kernelspec": {
   "display_name": "Python 3 (ipykernel)",
   "language": "python",
   "name": "python3"
  },
  "language_info": {
   "codemirror_mode": {
    "name": "ipython",
    "version": 3
   },
   "file_extension": ".py",
   "mimetype": "text/x-python",
   "name": "python",
   "nbconvert_exporter": "python",
   "pygments_lexer": "ipython3",
   "version": "3.10.8"
  },
  "toc": {
   "base_numbering": 1,
   "nav_menu": {},
   "number_sections": true,
   "sideBar": true,
   "skip_h1_title": false,
   "title_cell": "Table of Contents",
   "title_sidebar": "Contents",
   "toc_cell": false,
   "toc_position": {},
   "toc_section_display": true,
   "toc_window_display": false
  },
  "vscode": {
   "interpreter": {
    "hash": "31f2aee4e71d21fbe5cf8b01ff0e069b9275f58929596ceb00d14d90e3e16cd6"
   }
  }
 },
 "nbformat": 4,
 "nbformat_minor": 5
}
