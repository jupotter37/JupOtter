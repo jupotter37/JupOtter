{
 "cells": [
  {
   "cell_type": "code",
   "execution_count": 12,
   "metadata": {},
   "outputs": [
    {
     "name": "stdout",
     "output_type": "stream",
     "text": [
      "[0, 0, 0, 0, 0, 0, 0, 0, 0, 0]\n",
      "[0, 0, 0, 0, 0, 0, 0, 0, 0, 0]\n",
      "[0, 0, 0, 0, 0, 0, 0, 0, 0, 0]\n",
      "[0, 0, 0, 0, 0, 0, 0, 0, 0, 0]\n",
      "[0, 0, 0, 0, 0, 0, 0, 0, 0, 0]\n",
      "[0, 0, 0, 0, 0, 0, 0, 0, 0, 0]\n",
      "[0, 0, 0, 0, 0, 0, 0, 0, 0, 0]\n",
      "[0, 0, 0, 0, 0, 0, 0, 0, 0, 0]\n",
      "[0, 0, 0, 0, 0, 0, 0, 0, 0, 0]\n",
      "[0, 0, 0, 0, 0, 0, 0, 0, 0, 0]\n"
     ]
    }
   ],
   "source": [
    "grid = [[0 for j in range(10)] for i in range(10)]\n",
    "\n",
    "for i in range(len(grid)):\n",
    "    print(grid[i])"
   ]
  },
  {
   "cell_type": "code",
   "execution_count": 2,
   "metadata": {},
   "outputs": [
    {
     "name": "stdout",
     "output_type": "stream",
     "text": [
      "False\n"
     ]
    }
   ],
   "source": [
    "n = 0\n",
    "print(bool(n))"
   ]
  },
  {
   "cell_type": "code",
   "execution_count": 15,
   "metadata": {},
   "outputs": [
    {
     "name": "stdout",
     "output_type": "stream",
     "text": [
      "<class 'int'>\n",
      "1\n"
     ]
    }
   ],
   "source": [
    "x, y = [1 for i in range(2)]\n",
    "\n",
    "print(type(x))\n",
    "print(y)"
   ]
  },
  {
   "cell_type": "code",
   "execution_count": 20,
   "metadata": {},
   "outputs": [
    {
     "name": "stdout",
     "output_type": "stream",
     "text": [
      "<class 'int'>\n",
      "1\n"
     ]
    }
   ],
   "source": [
    "import random\n",
    "\n",
    "x, y = [random.randint(1, 10) for i in range(2)]\n",
    "\n",
    "print(type(x))\n",
    "print(y)"
   ]
  },
  {
   "cell_type": "code",
   "execution_count": 2,
   "metadata": {},
   "outputs": [],
   "source": [
    "# Ship classes\n",
    "\n",
    "class Ship():\n",
    "    def __init__(self, orientation, coordinate, length):\n",
    "        self.orientation = orientation \n",
    "        self.coordinate = coordinate\n",
    "        self.length = length\n",
    "        self.coordinates = self.position()\n",
    "        self.sunk = False\n",
    "\n",
    "    @property\n",
    "    def orientation(self):\n",
    "        return self._orientation\n",
    "    @orientation.setter\n",
    "    def orientation (self, orientation):\n",
    "        if orientation not in [0,1]: raise ValueError(...)\n",
    "        self._orientation = orientation\n",
    "\n",
    "    @property\n",
    "    def coordinate(self):\n",
    "        return self._coordinate\n",
    "    @coordinate.setter\n",
    "    def coordinate(self, coordinate):\n",
    "        x, y = coordinate\n",
    "        if not (x in range(10)) or not (y in range(10)): raise ValueError(...)\n",
    "        self._coordinate = coordinate\n",
    "\n",
    "    def position(self):\n",
    "        x, y = self.coordinate\n",
    "\n",
    "        if not self.orientation:\n",
    "            if any(x + i > 9 for i in range(self.length)): \n",
    "                raise ValueError(...)\n",
    "            else:\n",
    "                return [(x + i, y) for i in range(self.length)]\n",
    "        \n",
    "        elif self.orientation: \n",
    "            if any(y + i > 9 for i in range(self.length)):\n",
    "                raise ValueError(...)\n",
    "            else:\n",
    "                return [(x, y + i) for i in range(self.length)]\n",
    "        else: raise ValueError(...)\n",
    "    \n",
    "    def __iter__(self):\n",
    "        return iter(self.coordinates)\n",
    "    def __bool__(self, grid):\n",
    "        if all(grid[x][y] == \"X\" for x, y in self.coordinates): return True\n",
    "        else: return False\n",
    "        \n",
    "class Two_Long(Ship):\n",
    "    def __init__(self, orientation, coordinate):\n",
    "        super().__init__(orientation, coordinate, 2)\n",
    "class Three_Long(Ship):\n",
    "    def __init__(self, orientation, coordinate):\n",
    "        super().__init__(orientation, coordinate, 3)\n",
    "class Four_Long(Ship):\n",
    "    def __init__(self, orientation, coordinate):\n",
    "        super().__init__(orientation, coordinate, 4)\n",
    "class Five_Long(Ship):\n",
    "    def __init__(self, orientation, coordinate):\n",
    "        super().__init__(orientation, coordinate, 5)"
   ]
  },
  {
   "cell_type": "code",
   "execution_count": 10,
   "metadata": {},
   "outputs": [],
   "source": [
    "import random"
   ]
  },
  {
   "cell_type": "code",
   "execution_count": 1,
   "metadata": {},
   "outputs": [
    {
     "ename": "IndentationError",
     "evalue": "unexpected indent (2709360138.py, line 36)",
     "output_type": "error",
     "traceback": [
      "\u001b[1;36m  Cell \u001b[1;32mIn[1], line 36\u001b[1;36m\u001b[0m\n\u001b[1;33m    for ship in ships: # SUNK is return always; a way to determine which ships is sunk and not inform that twice gotta be found\u001b[0m\n\u001b[1;37m    ^\u001b[0m\n\u001b[1;31mIndentationError\u001b[0m\u001b[1;31m:\u001b[0m unexpected indent\n"
     ]
    }
   ],
   "source": [
    "# Gameboard class\n",
    "\n",
    "class Gameboard():\n",
    "    def __init__(self, ships):\n",
    "        self.own_grid = [[0 for j in range(10)] for i in range(10)]\n",
    "        self.opp_grid = [[0 for j in range(10)] for i in range(10)]\n",
    "        self.own_ships = ships\n",
    "\n",
    "    def __str__(self):\n",
    "        own_grid = [self.own_grid[i] for i in range(len(self.own_grid))]\n",
    "        opp_grid = [self.opp_grid[i] for i in range(len(self.opp_grid))]\n",
    "        return own_grid, opp_grid\n",
    "\n",
    "    def place_ship(self):\n",
    "        for ship in self.own_ships:\n",
    "            x, y = ship\n",
    "            self.own_grid[x][y] = 1\n",
    "\n",
    "    def receive_attack(self, position, ships): # Function to check position\n",
    "        x, y = position\n",
    "        if x not in range(9) and y not in range(9): raise ValueError(...)\n",
    "        elif position == \"X\": \"ALREADY HITTED\"\n",
    "        elif self.own_grid[x][y] == 1:\n",
    "            self.own_grid[x][y] = \"X\"\n",
    "            self.opp_grid[x][y] = \"X\"\n",
    "            return \"HIT\"\n",
    "        else: \n",
    "            self.own_grid[x][y] = \"O\"\n",
    "            self.opp_grid[x][y] = \"O\"\n",
    "            return \"MISS\"\n",
    "        \n"
   ]
  },
  {
   "cell_type": "code",
   "execution_count": null,
   "metadata": {},
   "outputs": [],
   "source": [
    "class Player():\n",
    "    def __init__(self, player = 0): # 0 is user | 1 for machine\n",
    "        self.player = player\n",
    "        self.active = self.bool()\n",
    "        self.grid = Gameboard()\n",
    "        self.ships = []\n",
    "        self.attack_record = []\n",
    "\n",
    "    def place_ships(self): \n",
    "        for ship in self.ships:\n",
    "            self.grid.place_ship(ship) \n",
    "\n",
    "    def attack_coordinates(self): \n",
    "        while True:\n",
    "            if self.player:\n",
    "                x = int(random.randint(0,9))\n",
    "                y = int(random.randint(0,9))\n",
    "            else: \n",
    "                x = int(input(\"Enter starting x-coordinate (0-9): \"))\n",
    "                y = int(input(\"Enter starting y-coordinate (0-9): \"))\n",
    "                if not (x in range(10)) or not (y in range(10)): raise ValueError(...) ###\n",
    "            coordinate = (x, y)\n",
    "\n",
    "            if (x, y) in self.attack_record: \n",
    "                print()\n",
    "                continue\n",
    "            else: \n",
    "                self.attack_record.append(coordinate)\n",
    "                return coordinate ### \n",
    "\n",
    "    def attack(self, opponent, coordinates): \n",
    "        result = opponent.grid.receive_attack(coordinates)\n",
    "        if result == \"HIT\": self.attack(opponent, self.attack_coordinates)\n",
    "\n",
    "    def input_ships(self): # Get coordinates\n",
    "         for ship_class in [Two_Long, Three_Long, Three_Long, Four_Long, Five_Long]:\n",
    "            print(f\"Placing {ship_class.__name__}:\")\n",
    "\n",
    "            if self.player:\n",
    "                orientation = int(random.randint(0,1)) \n",
    "                x = int(random.randint(0,9))\n",
    "                y = int(random.randint(0,9))\n",
    "            else: \n",
    "                orientation = int(input(\"Enter orientation (0 for horizontal, 1 for vertical): \"))\n",
    "                x = int(input(\"Enter starting x-coordinate (0-9): \"))\n",
    "                y = int(input(\"Enter starting y-coordinate (0-9): \"))\n",
    "            coordinate = (x, y)\n",
    "\n",
    "            if coordinate not in self.ships: self.ships.append(coordinate)\n",
    "            else: raise ValueError(...)\n",
    "\n",
    "            try:\n",
    "                ship = ship_class(orientation, coordinate)\n",
    "                self.ships.append(ship)\n",
    "            except ValueError as e:\n",
    "                print(f\"Error placing ship: {e}\")\n",
    "                continue\n",
    "\n",
    "    def __bool__(self):\n",
    "        if True in self.ships: return True\n",
    "        else: return False"
   ]
  },
  {
   "cell_type": "code",
   "execution_count": 5,
   "metadata": {},
   "outputs": [
    {
     "data": {
      "text/plain": [
       "True"
      ]
     },
     "execution_count": 5,
     "metadata": {},
     "output_type": "execute_result"
    }
   ],
   "source": [
    "bool([False, False])\n"
   ]
  },
  {
   "cell_type": "code",
   "execution_count": 9,
   "metadata": {},
   "outputs": [
    {
     "name": "stdout",
     "output_type": "stream",
     "text": [
      "False\n"
     ]
    }
   ],
   "source": [
    "list_ = [False, False, False]\n",
    "\n",
    "def check_list(l):\n",
    "    if True in list_: return True ###\n",
    "    else: return False\n",
    "\n",
    "result = check_list(list_)\n",
    "print(result)\n"
   ]
  },
  {
   "cell_type": "code",
   "execution_count": null,
   "metadata": {},
   "outputs": [],
   "source": [
    "def input_ships(self): \n",
    "    for ship_class in [Two_Long, Three_Long, Three_Long, Four_Long, Five_Long]:\n",
    "        print(f\"Placing {ship_class.__name__}:\")\n",
    "        orientation, coordinate = self.get_ship_input()\n",
    "        try:\n",
    "            ship = ship_class(orientation, coordinate)\n",
    "            self.validate_and_place_ship(ship)\n",
    "        except ValueError as e:\n",
    "            print(f\"Error placing ship: {e}\")\n",
    "            continue\n",
    "\n",
    "def get_ship_input(self):\n",
    "    if self.player:\n",
    "        orientation = int(random.randint(0, 1))\n",
    "        x = int(random.randint(0, 9))\n",
    "        y = int(random.randint(0, 9))\n",
    "    else:\n",
    "        orientation = int(input(\"Enter orientation (0 for horizontal, 1 for vertical): \"))\n",
    "        x = int(input(\"Enter starting x-coordinate (1-10): \")) - 1\n",
    "        y = int(input(\"Enter starting y-coordinate (1-10): \")) - 1\n",
    "    return orientation, (x, y)\n",
    "\n",
    "def validate_and_place_ship(self, ship):\n",
    "    x, y = ship.coordinate\n",
    "    delta_x, delta_y = (1, 0) if self.orientation == 0 else (0, 1)\n",
    "\n",
    "    if not (0 <= x <= 9) or not (0 <= y <= 9): raise ValueError(\"Coordinates are out of bounds\")\n",
    "    \n",
    "    elif any((x + i * delta_x > 9 or y + i * delta_y > 9) for i in range(self.length)): raise ValueError(...)\n",
    "\n",
    "    for existing_ship in self.ships: # This goes into Ship class\n",
    "        if set(ship.coordinates).intersection(set(existing_ship.coordinates)):\n",
    "            raise ValueError(\"Ship overlap detected\")\n",
    "    self.ships.append(ship)"
   ]
  },
  {
   "cell_type": "code",
   "execution_count": null,
   "metadata": {},
   "outputs": [],
   "source": [
    "# Old\n",
    "\n",
    "class Ship():\n",
    "    def __init__(self, orientation, coordinate, length):\n",
    "        self.orientation = orientation \n",
    "        self.coordinate = coordinate\n",
    "        self.length = length\n",
    "        self.coordinates = self.position()\n",
    "    ...\n",
    "    def position(self):\n",
    "        x, y = self.coordinate\n",
    "        delta_x, delta_y = (1, 0) if self.orientation == 0 else (0, 1)\n",
    "        if any((x + i * delta_x > 9 or y + i * delta_y > 9) for i in range(self.length)): raise ValueError(...)\n",
    "        return [(x + i * delta_x, y + i * delta_y) for i in range(self.length)]\n",
    "    ...\n",
    "\n",
    "class Player():\n",
    "    def __init__(self, player = 0): # 0 is user | 1 for machine\n",
    "        self.player = player\n",
    "        self.active = self.bool()\n",
    "        self.grid = Gameboard()\n",
    "        self.ships = []\n",
    "        self.attack_record = []\n",
    "    ...\n",
    "    def input_ships(self): \n",
    "         for ship in [Two_Long, Three_Long, Three_Long, Four_Long, Five_Long]:\n",
    "            print(f\"Placing {ship.__name__}:\")\n",
    "\n",
    "            if self.player:\n",
    "                orientation = int(random.randint(0,1)) \n",
    "                x, y = random.randint(0,9), random.randint(0,9)\n",
    "            else: \n",
    "                orientation = int(input(\"Enter orientation (0 for horizontal, 1 for vertical): \"))\n",
    "                x = int(input(\"Enter starting x-coordinate (1-10): \")) - 1\n",
    "                y = int(input(\"Enter starting y-coordinate (1-10): \")) - 1\n",
    "\n",
    "            if not (x in range(0, 9)) or not (y in range(0, 9)): raise ValueError(...) # If any()\n",
    "\n",
    "            coordinate = (x, y)\n",
    "\n",
    "            if coordinate not in self.ships: self.ships.append(coordinate)\n",
    "            else: raise ValueError(...)\n",
    "\n",
    "            try:\n",
    "                ship = ship_class(orientation, coordinate)\n",
    "                self.ships.append(ship)\n",
    "            except ValueError as e:\n",
    "                print(f\"Error placing ship: {e}\")\n",
    "                continue"
   ]
  },
  {
   "cell_type": "code",
   "execution_count": null,
   "metadata": {},
   "outputs": [],
   "source": [
    "# New\n",
    "\n",
    "# ITERATE over ship_list\n",
    "# GET & CHECK orientation and first coordinate\n",
    "# GET & CHECK position\n",
    "# APPEND data to self.ships\n",
    "\n",
    "\n",
    "class Ship():\n",
    "    def __init__(self, coordinates, length):\n",
    "        self.coordinates = coordinates\n",
    "        self.length = length\n",
    "\n",
    "class Player():\n",
    "    def __init__(self, player = 0): # 0 is user | 1 for machine\n",
    "        self.player = player\n",
    "        self.active = self.bool()\n",
    "        self.grid = Gameboard()\n",
    "        self.ships = []\n",
    "        self.attack_record = []\n",
    "    ...\n",
    "    def input_ships(self): \n",
    "         for ship in [Two_Long, Three_Long, Three_Long, Four_Long, Five_Long]:\n",
    "            print(f\"Placing {ship.__name__}:\")\n",
    "            if self.player:\n",
    "                orientation = int(random.randint(0,1)) \n",
    "                x, y = random.randint(0,9), random.randint(0,9)\n",
    "            else: \n",
    "                while True: \n",
    "                    orientation = int(input(\"Enter orientation (0 for horizontal, 1 for vertical): \"))\n",
    "                    x = int(input(\"Enter starting x-coordinate (1-10): \")) - 1\n",
    "                    y = int(input(\"Enter starting y-coordinate (1-10): \")) - 1\n",
    "\n",
    "                    delta_x, delta_y = (1, 0) if orientation == 0 else (0, 1)\n",
    "                    coordinate = (x, y)\n",
    "                    coordinates = [(x + i * delta_x, y + i * delta_y) for i in range(ship.length)]\n",
    "\n",
    "                    if (not (x in range(0, 9)) or not (y in range(0, 9)) or not (orientation in range(0, 1))): \n",
    "                        print(...)\n",
    "                        continue\n",
    "                    elif any((x + i * delta_x > 9 or y + i * delta_y > 9) for i in range(ship.length)):\n",
    "                        print(...)\n",
    "                        continue\n",
    "                    elif set(coordinates).intersection(set(self.ships)):\n",
    "                        print(...)\n",
    "                        continue\n",
    "                    else: break\n",
    "            try:\n",
    "                ship_input = ship(coordinates)\n",
    "                self.ships.append(ship_input)\n",
    "            except ValueError as e:\n",
    "                print(f\"Error placing ship: {e}\")"
   ]
  },
  {
   "cell_type": "code",
   "execution_count": 8,
   "metadata": {},
   "outputs": [
    {
     "name": "stdout",
     "output_type": "stream",
     "text": [
      "['0', '0', '0']\n",
      "['0', '0', '0']\n",
      "['0', '0', '0']\n"
     ]
    }
   ],
   "source": [
    "grid = [[\"0\" for j in range(3)] for i in range(3)]\n",
    "for i in grid:\n",
    "    print(i) "
   ]
  },
  {
   "cell_type": "code",
   "execution_count": 11,
   "metadata": {},
   "outputs": [
    {
     "name": "stdout",
     "output_type": "stream",
     "text": [
      "\n",
      "\n",
      "\n"
     ]
    }
   ],
   "source": [
    "for i in grid:\n",
    "    for j in i:\n",
    "        grid_str = \"\"\n",
    "        value = str(j)\n",
    "        grid_str + (f\"{j} \")\n",
    "    print(grid_str)\n",
    "\n",
    "    }"
   ]
  },
  {
   "cell_type": "code",
   "execution_count": 14,
   "metadata": {},
   "outputs": [
    {
     "name": "stdout",
     "output_type": "stream",
     "text": [
      "1\n",
      "2\n",
      "3\n",
      "4\n",
      "5\n",
      "6\n",
      "7\n",
      "8\n",
      "9\n",
      "10\n"
     ]
    }
   ],
   "source": [
    "for i in range(1, 11): \n",
    "    print(i)"
   ]
  }
 ],
 "metadata": {
  "kernelspec": {
   "display_name": "Python 3",
   "language": "python",
   "name": "python3"
  },
  "language_info": {
   "codemirror_mode": {
    "name": "ipython",
    "version": 3
   },
   "file_extension": ".py",
   "mimetype": "text/x-python",
   "name": "python",
   "nbconvert_exporter": "python",
   "pygments_lexer": "ipython3",
   "version": "3.11.4"
  }
 },
 "nbformat": 4,
 "nbformat_minor": 2
}
