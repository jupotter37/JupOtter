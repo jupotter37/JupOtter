{
 "cells": [
  {
   "cell_type": "markdown",
   "metadata": {
    "button": false,
    "new_sheet": false,
    "run_control": {
     "read_only": false
    }
   },
   "source": [
    "# Unit 04: Functions I\n",
    "\n",
    "<a rel=\"license\" href=\"http://creativecommons.org/licenses/by/4.0/\"><img alt=\"Creative Commons Licence\" style=\"border-width:0\" src=\"https://i.creativecommons.org/l/by/4.0/88x31.png\" title='This work is licensed under a Creative Commons Attribution 4.0 International License.' align=\"right\"/></a>\n",
    "\n",
    "Authors: \n",
    "- Dr Claire Hobday and \n",
    "- Dr Antonia Mey   \n",
    "Email: claire.hobday@ed.ac.uk\n",
    "\n",
    "### Learning objectives:\n",
    "\n",
    "This session is split into two notebooks both discuss how to use and write your own functions.\n",
    "\n",
    "- ***Functions I*** (This notebook)\n",
    "    - understand inbuilt functions \n",
    "    - understand the format of a function\n",
    "    - input into functions\n",
    "    - using loops and conditionals in functions\n",
    "    - calling a function\n",
    "\n",
    "- ***Functions II*** (Next notebook)\n",
    "    - getting information out of a function\n",
    "    - how to write reusable code\n",
    "    - write functions to interrogate data\n",
    "\n",
    "\n",
    "\n",
    "### Table of Contents\n",
    "- [Recap](#recap)\n",
    "- [1. What is a function?](#functions)\n",
    "- [2. Docstrings can help understand what a function does](#docstrings)\n",
    "- [3. You can pass arguments to a function](#debugging)\n",
    "- [Next notebook: Functions II](Unit_04_functions_II.ipynb)\n",
    "\n",
    "### Links to documentation\n",
    "- [numpy](https://numpy.org/doc/stable/)\n",
    "- [matplotlib](https://matplotlib.org/stable/index.html)\n",
    "\n",
    "**<span style=\"color:black\">Jupyter Cheat Sheet</span>**\n",
    "- To run the currently highlighted cell and move focus to the next cell, hold <kbd>&#x21E7; Shift</kbd> and press <kbd>&#x23ce; Enter</kbd>;\n",
    "- To run the currently highlighted cell and keep focus in the same cell, hold <kbd>&#x21E7; Ctrl</kbd> and press <kbd>&#x23ce; Enter</kbd>;\n",
    "- To get help for a specific function, place the cursor within the function's brackets, hold <kbd>&#x21E7; Shift</kbd>, and press <kbd>&#x21E5; Tab</kbd>;"
   ]
  },
  {
   "cell_type": "code",
   "execution_count": 1,
   "metadata": {
    "scrolled": false
   },
   "outputs": [],
   "source": [
    "import numpy as np\n",
    "import matplotlib.pyplot as plt"
   ]
  },
  {
   "cell_type": "markdown",
   "metadata": {},
   "source": [
    "## Recap of Previous Sessions\n",
    "<a id=\"recap\"></a>\n",
    "\n",
    "```python\n",
    "DDC_concepts = Mentimeter(vote=\"https://www.menti.com/insert_your_link\")\n",
    "DDC_concepts.show()\n",
    "```\n",
    "<img src=\"images/mentimeter_4_1.png\" alt=“DDC_concepts” width=“400”></img>\n",
    "\n",
    "\n",
    "### Learning outcomes of Unit 2:\n",
    "- Interact with a Jupyter notebook\n",
    "- Declare variables\n",
    "- Print Variables\n",
    "- Getting help\n",
    "- Read data from a file\n",
    "\n",
    "You will be using the following concepts:\n",
    "\n",
    "- Variables\n",
    "- In-built functions such as `print()`\n",
    "\n",
    "### Learning outcomes of Unit 3:\n",
    "- import modules and libraries \n",
    "- using [math](https://docs.python.org/3/library/math.html) module to do some simple scientific computing tasks\n",
    "- developing more [pandas](https://pandas.pydata.org/) skills to deal with large volumes of data\n",
    "- using logical operations to filter data\n",
    "- understand and use the different types of loops to do repetitive tasks including:\n",
    "  - `for`\n",
    "  - `if`\n",
    "  - `else`/`elif`\n",
    "\n"
   ]
  },
  {
   "cell_type": "markdown",
   "metadata": {},
   "source": [
    "# 1. What is a function?\n",
    "<a id=\"functions\"></a>"
   ]
  },
  {
   "cell_type": "markdown",
   "metadata": {
    "button": false,
    "new_sheet": false,
    "run_control": {
     "read_only": false
    }
   },
   "source": [
    "Functions are blocks of reusable code used to perform a specific task usually more than once in a program. We have already been using some of Python's inbuilt functions such as `print()`, `len()` and `range()`. \n",
    "\n",
    "When we run the command\n",
    "```python\n",
    "print(\"Hello\")\n",
    "```\n",
    "Python uses code that has already been written by someone else to output \"Hello\" to our screen. The command\n",
    "```python\n",
    "len(\"Hello\")\n",
    "```\n",
    "tells Python to run already written code that counts the number of characters in the string \"Hello\".\n",
    "\n",
    "These functions are inbuilt into Python, meaning they are always available for us to run from our code. However, we can also define our own functions so that we can reuse pieces of our code throughout our programs. \n",
    "\n",
    "Reusing code not only makes our programs shorter and more organised, it makes our code easier to maintain as we only have to modify the single function rather than find and edit the code wherever we have performed the specific task.\n",
    "\n",
    "The concept of functions can be hard to grasp for beginners. So let's start with a simple function to print the string \"Hello\" and then we'll slowly introduce more complex functionality."
   ]
  },
  {
   "cell_type": "markdown",
   "metadata": {
    "button": false,
    "new_sheet": false,
    "run_control": {
     "read_only": false
    }
   },
   "source": [
    "## A simple function"
   ]
  },
  {
   "cell_type": "markdown",
   "metadata": {
    "button": false,
    "new_sheet": false,
    "run_control": {
     "read_only": false
    }
   },
   "source": [
    "A simple function to print \"Hello\" is shown in the following code.\n",
    "\n",
    "<div class=\"alert alert-info\"><b>\n",
    "Run this code and nothing will (appear to) happen.\n",
    "</div></b>"
   ]
  },
  {
   "cell_type": "code",
   "execution_count": null,
   "metadata": {
    "button": false,
    "new_sheet": false,
    "run_control": {
     "read_only": false
    }
   },
   "outputs": [],
   "source": [
    "#  Define the function called \"say_hello()\". The function, when called, prints \"Hello\".\n",
    "def say_hello():\n",
    "    \n",
    "    # Call the inbuilt function \"print()\" to output the string \"Hello\".\n",
    "    print(\"Hello\")"
   ]
  },
  {
   "cell_type": "markdown",
   "metadata": {},
   "source": [
    "Why wasn't \"Hello\" printed when you ran this code?\n",
    "\n",
    "This is because all we are doing is **defining** a function called `say_hello()`. That is what <span style=\"color:green; font-weight:bold\"> def </span> stands for. When we define a function it is saved in computer memory ready to be used (like a variable). \n",
    "\n",
    "In order to get the function to do something we need to **call** it by using its name with the parentheses. \n",
    "\n",
    "<div class=\"alert alert-info\"><b>\n",
    "This is shown in the following code. Run it and you will see that it outputs \"Hello\".\n",
    "</div></b>"
   ]
  },
  {
   "cell_type": "code",
   "execution_count": null,
   "metadata": {},
   "outputs": [],
   "source": [
    "def say_hello():\n",
    "    print(\"Hello\")\n",
    "\n",
    "    \n",
    "# Call the function \"say_hello()\".\n",
    "say_hello()"
   ]
  },
  {
   "cell_type": "markdown",
   "metadata": {},
   "source": [
    "## How functions work"
   ]
  },
  {
   "cell_type": "markdown",
   "metadata": {},
   "source": [
    "Let's explain the syntax of a function definition. The line \n",
    "```python \n",
    "def say_hello():\n",
    "```\n",
    "tells Python that what we are about to do is define a function called `say_hello()`. The parentheses are necessary as will become clear later. The colon is also necessary.\n",
    "\n",
    "The next line is\n",
    "```python\n",
    "    print(\"Hello\")\n",
    "```\n",
    "which calls the inbuilt function `print()` that simply prints \"Hello\" to the screen. The important thing here is that the line is indented. Which means that it is inside the function. Any code lines that are indented below <span style=\"color:green; font-weight:bold; font-family:monospace\"> def</span> are inside that particular function.\n",
    "\n",
    "If you un-indent the `print(\"Hello\")` statement you will get an `IndentationError` just like for conditional statements and `for` loops (try it).\n",
    "\n",
    "The end of the function occurs at the first **non-indented** line after <span style=\"color:green; font-weight:bold; font-family:monospace\"> def</span>.\n",
    "\n",
    "When we *call* a function, Python jumps into the function and executes the commands inside it. Python then returns to the end of the call. The figure below shows the order of execution of lines of code for the `say_hello()` function.\n",
    "\n",
    "![](images/function.png)\n",
    "\n",
    "Notice that the program begins execution at the first non-indented line just after the function definition. When we call `say_hello()` the code jumps into the function at the line `def say_hello():`. It executes the `print(\"Hello\")` function (which entails jumping into the inbuilt code of the `print()` function which we cannot see but is there in computer memory). It then returns from the function to the next line in the main code (which in this case is the end of the program)"
   ]
  },
  {
   "cell_type": "markdown",
   "metadata": {},
   "source": [
    "## Functions must be defined before they are called"
   ]
  },
  {
   "cell_type": "markdown",
   "metadata": {},
   "source": [
    "In the following code the function `hi()` is called before it is defined. If you run it you will see it gives a `NameError` because Python has not saved the function's definition in memory when it was called."
   ]
  },
  {
   "cell_type": "markdown",
   "metadata": {},
   "source": [
    "## Task:"
   ]
  },
  {
   "cell_type": "markdown",
   "metadata": {},
   "source": [
    "<div class=\"alert alert-success\"><b>\n",
    "Task 1.1: Modify the following code to make it work.\n",
    "</b>"
   ]
  },
  {
   "cell_type": "code",
   "execution_count": null,
   "metadata": {},
   "outputs": [],
   "source": [
    "#FIXME\n",
    "\n",
    "hi()"
   ]
  },
  {
   "cell_type": "markdown",
   "metadata": {},
   "source": [
    "<details><summary {style='color:green;font-weight:bold'}> Click here to see solution to Task 1.1 </summary>\n",
    "    \n",
    "```python\n",
    "\n",
    "def hi():\n",
    "    print(f\"Hi\")\n",
    "```"
   ]
  },
  {
   "cell_type": "markdown",
   "metadata": {},
   "source": [
    "## 2. Docstrings can help understand what a function does\n",
    "<a id=\"docstrings\"></a>\n"
   ]
  },
  {
   "cell_type": "markdown",
   "metadata": {},
   "source": [
    "There is a special way of adding a comment at the start of a function to say what the function does. These are called **docstrings**. They are enclosed in triple quotes as shown in the following code.\n",
    "\n",
    "You should always add a doc-string to any of your functions, however simple they may be."
   ]
  },
  {
   "cell_type": "code",
   "execution_count": null,
   "metadata": {},
   "outputs": [],
   "source": [
    "def say_hello():\n",
    "    \"\"\"Print the word 'Hello'\"\"\"\n",
    "    print(\"Hello\")"
   ]
  },
  {
   "cell_type": "markdown",
   "metadata": {},
   "source": [
    "Doc-strings are used by Python to provide documentation to users. You can get documentation on any of Python's functions by typing\n",
    "```python\n",
    "help(function_name)\n",
    "```\n",
    "So if we type\n",
    "```python\n",
    "help(say_hello)\n",
    "```\n",
    "Python prints out the doc-string in our function. "
   ]
  },
  {
   "cell_type": "code",
   "execution_count": null,
   "metadata": {},
   "outputs": [],
   "source": [
    "help(say_hello)"
   ]
  },
  {
   "cell_type": "markdown",
   "metadata": {},
   "source": [
    "<div class=\"alert alert-info\"><b>\n",
    "Try typing `help(function_name)` for other functions like `print`, `type`, `round`, `len`, `input`, `float`, `int`, `sorted`, `range` and `help`.</b>\n",
    "\n",
    "As you will find, the documentation of inbuilt functions assumes quite a high degree of knowledge about Python. So it's better to use online websites to help you code.\n",
    "\n",
    "</div>"
   ]
  },
  {
   "cell_type": "code",
   "execution_count": null,
   "metadata": {},
   "outputs": [],
   "source": [
    "help(help)"
   ]
  },
  {
   "cell_type": "markdown",
   "metadata": {},
   "source": [
    "## Some other helpful tips before starting the exercises"
   ]
  },
  {
   "cell_type": "markdown",
   "metadata": {},
   "source": [
    "### In-built functions"
   ]
  },
  {
   "cell_type": "markdown",
   "metadata": {},
   "source": [
    "Let's test out a cool in-built function called `input()`. This is useful if you want to interact with your code. "
   ]
  },
  {
   "cell_type": "code",
   "execution_count": null,
   "metadata": {},
   "outputs": [],
   "source": [
    "num = input (\"Enter number :\") \n",
    "print(num) "
   ]
  },
  {
   "cell_type": "markdown",
   "metadata": {},
   "source": [
    "### Formatting outputs"
   ]
  },
  {
   "cell_type": "markdown",
   "metadata": {},
   "source": [
    "Something called f-strings  provide a concise and convenient way to embed python expressions inside string literals for formatting."
   ]
  },
  {
   "cell_type": "code",
   "execution_count": null,
   "metadata": {},
   "outputs": [],
   "source": [
    "str1 = \"Chemistry\"\n",
    "str2 = \"Science\"\n",
    "print(f\"Everyone knows {str1} is the best {str2}.\") "
   ]
  },
  {
   "cell_type": "code",
   "execution_count": null,
   "metadata": {},
   "outputs": [],
   "source": [
    "import datetime  # module\n",
    "  \n",
    "today = datetime.datetime.today() # class.subclass.function()\n",
    "print(f\"{today: %d %B, %Y}\") \n",
    "# %B = full name month\n",
    "# %d = day of the montth\n",
    "# %Y = year full i.e. 2020 not 20."
   ]
  },
  {
   "cell_type": "code",
   "execution_count": null,
   "metadata": {},
   "outputs": [],
   "source": [
    "data = {\"name\":\"Claire\", \"section\":\"inorganic\"}\n",
    "\n",
    "\n",
    "print(f\"{data['name']} works in {data['section']}\")\n"
   ]
  },
  {
   "cell_type": "markdown",
   "metadata": {},
   "source": [
    "## Tasks"
   ]
  },
  {
   "cell_type": "markdown",
   "metadata": {},
   "source": [
    "<div class=\"alert alert-success\">\n",
    "<b>Task 2.1: Write a function called `string_length()` that prints the length of the word \"Hello\".\n",
    "</b>\n",
    "    \n",
    "Don't forget the doc-string."
   ]
  },
  {
   "cell_type": "code",
   "execution_count": null,
   "metadata": {},
   "outputs": [],
   "source": [
    "def string_length():\n",
    "    #FIXME"
   ]
  },
  {
   "cell_type": "code",
   "execution_count": null,
   "metadata": {},
   "outputs": [],
   "source": [
    "# Now calling the function\n",
    "string_length()"
   ]
  },
  {
   "cell_type": "markdown",
   "metadata": {},
   "source": [
    "<details><summary {style=\"color:green;font-weight:bold\"}> Click here to see solution to Task 2.1 </summary>\n",
    "    \n",
    "```python\n",
    "def string_length():\n",
    "    \"\"\" This function prints the length of string 'Hello'\"\"\"\n",
    "    \n",
    "    # Get the length of the string Hello\n",
    "    length = len(\"Hello\")\n",
    "    # Pring the length to screen\n",
    "    print(f\"The length of the string 'Hello' is: {length}\")\n",
    "```\n",
    "\n",
    " </details>"
   ]
  },
  {
   "cell_type": "markdown",
   "metadata": {},
   "source": [
    "<div class=\"alert alert-success\">\n",
    "<b>Task 2.2: Write a function called `hello_me()` that asks for input of your name then prints \"Hello\" followed by your name.\n",
    "</b>\n",
    "    \n",
    "Hint: Use the built in function `input()` to read input from a cell.\n"
   ]
  },
  {
   "cell_type": "code",
   "execution_count": null,
   "metadata": {},
   "outputs": [],
   "source": [
    "def hello_me():\n",
    "    #FIXME\n"
   ]
  },
  {
   "cell_type": "code",
   "execution_count": null,
   "metadata": {},
   "outputs": [],
   "source": [
    "# Now calling the function\n",
    "hello_me()"
   ]
  },
  {
   "cell_type": "markdown",
   "metadata": {},
   "source": [
    "<details><summary {style='color:green;font-weight:bold'}> Click here to see solution to Task 2.2 </summary>\n",
    "    \n",
    "```python\n",
    "def hello_me():\n",
    "    \"\"\"Print 'Hello name'\"\"\"\n",
    "    name = input(\"Enter your name: \")\n",
    "    print(f\"Hello {name}\")\n",
    "```"
   ]
  },
  {
   "cell_type": "markdown",
   "metadata": {},
   "source": [
    "<div class=\"alert alert-success\">\n",
    "<b>Task 2.3: Write a function called `multiply_two_numbers()` that asks for input of two numbers and then prints their product.</b>\n",
    "</div>"
   ]
  },
  {
   "cell_type": "code",
   "execution_count": null,
   "metadata": {},
   "outputs": [],
   "source": [
    "def multiply_two_numbers():\n",
    "    #FIXME"
   ]
  },
  {
   "cell_type": "code",
   "execution_count": null,
   "metadata": {},
   "outputs": [],
   "source": [
    "# Now calling the function\n",
    "multiply_two_numbers()"
   ]
  },
  {
   "cell_type": "markdown",
   "metadata": {},
   "source": [
    "<details><summary {style='color:green;font-weight:bold'}> Click here to see solution to Task 2.3 </summary>\n",
    "    \n",
    "```python\n",
    "def multiply_two_numbers():\n",
    "    \"\"\"Enter two numbers and print their product\"\"\"\n",
    "    x = float(input(\"Enter a number: \"))\n",
    "    y = float(input(\"Enter a number: \"))\n",
    "    print(x*y)\n",
    "```"
   ]
  },
  {
   "cell_type": "markdown",
   "metadata": {},
   "source": [
    "# 3. Passing values (arguments) to functions\n",
    "<a id=\"arguments\"></a>"
   ]
  },
  {
   "cell_type": "markdown",
   "metadata": {},
   "source": [
    "The `say_hello()` function in the earlier was a bit pointless. We called it to call the `print()` function to print \"hello\". We could have simply written `print(\"Hello\")` without bothering to define and call our own function `say_hello()`.\n",
    "\n",
    "Functions become useful when they perform the same task on different values passed to them. For example, say we want to write a function to print \"Hello\" followed by someone's name, but the name can be different each time we call the function. We can do this by **passing a value** to the function. The technical name for the value passed to the function is an **argument**.\n",
    "\n",
    "This is precisely what we do when we call `print()` or `len()`. For example, `print(\"Hello\")` passes the string **argument** \"Hello\" to the function `print()` to output to your screen.\n",
    "\n",
    "Let's change the `say_hello()` function to take someone's name as an argument.\n",
    "\n",
    "<div class=\"alert alert-info\"><b>\n",
    "Run the following code to see how this is done.</b>\n",
    "</div>"
   ]
  },
  {
   "cell_type": "code",
   "execution_count": null,
   "metadata": {},
   "outputs": [],
   "source": [
    "def say_hello(name):\n",
    "    \"\"\"Print 'Hello' followed by name\"\"\"\n",
    "\n",
    "    print(f\"Hello {name}\")\n",
    "    \n",
    "    \n",
    "# Call the function \"say_hello()\" twice with different names.\n",
    "say_hello(\"Harry\")\n",
    "say_hello(\"Hermione\")"
   ]
  },
  {
   "cell_type": "markdown",
   "metadata": {},
   "source": [
    "We've changed the definition of the function so that we can pass an argument to it like so:\n",
    "```python\n",
    "def say_hello(name):\n",
    "```\n",
    "`name` is called a **parameter** which is a variable in a function definition.\n",
    "\n",
    "When we call `say_hello(\"Harry\")` with the argument `\"Harry\"`, the string `\"Harry\"` is assigned to the parameter `name` when the code enters the function. This means when we do\n",
    "```python\n",
    "    print(f\"Hello {name}\")\n",
    "```\n",
    "the function outputs `Hello Harry`.\n",
    "\n",
    "When we call `say_hello(\"Hermione\")` with the argument `\"Hermione\"`, the string `\"Hermione\"` is assigned to the parameter `name` so the function outputs `Hello Hermione`.\n",
    "\n",
    "Note the convention of having `f\"` in our print statement. This is called an f-string. Using this triggers our code to know that the variable in curly brackets `{name}` will change to take the place of what we set that variable to, e.g. `\"Harry\"` or `\"Hermione\"` in our print statement."
   ]
  },
  {
   "cell_type": "markdown",
   "metadata": {},
   "source": [
    "## Variables can be arguments"
   ]
  },
  {
   "cell_type": "markdown",
   "metadata": {},
   "source": [
    "In the above example we passed a string to `say_hello()`. But we can also pass a variable to a function.\n",
    "\n"
   ]
  },
  {
   "cell_type": "markdown",
   "metadata": {},
   "source": [
    "\n",
    "But first, let's make a new function, that's a little more *sciency* than printing names.\n",
    "\n",
    "The function below will convert a temperature in fahrenheit to celsius, which takes one argument `temp`"
   ]
  },
  {
   "cell_type": "code",
   "execution_count": null,
   "metadata": {},
   "outputs": [],
   "source": [
    "def fahr_to_celsius(temp):\n",
    "    \"\"\"convert fahrenheit temp to celsius\"\"\"\n",
    "    return ((temp - 32) * (5/9))"
   ]
  },
  {
   "cell_type": "markdown",
   "metadata": {},
   "source": [
    "<div class=\"alert alert-info\"><b>\n",
    "Run the following two code cells to see how this works.</b>\n",
    "</div>"
   ]
  },
  {
   "cell_type": "code",
   "execution_count": null,
   "metadata": {},
   "outputs": [],
   "source": [
    "freezing = 32\n",
    "\n",
    "fahr_to_celsius(freezing)"
   ]
  },
  {
   "cell_type": "code",
   "execution_count": null,
   "metadata": {},
   "outputs": [],
   "source": [
    "boiling = 212\n",
    "\n",
    "fahr_to_celsius(boiling)"
   ]
  },
  {
   "cell_type": "markdown",
   "metadata": {},
   "source": [
    "Note how we have to execute these in two separate cells to return the answer, otherwise the final use of the function will be the only one which is returned. Also note that the argument passed to the function (e.g., `freezing` or `boiling`) does not need to have the same name as the function's defined parameter (e.g., `temp`).\n",
    "\n",
    "A more elegant way might be to looping through a list of temperatures and calling `fahr_to_celsius()` for each one. \n",
    "An example is shown in the following code, note that we need to print the output to screen."
   ]
  },
  {
   "cell_type": "code",
   "execution_count": null,
   "metadata": {},
   "outputs": [],
   "source": [
    "# Loop through a list of temperatures \n",
    "# \"temperatures\" is the iterating variable.\n",
    "for temperatures in [32, 212, 177399]:\n",
    "\n",
    "    # Call \"fahr_to_celsius()\" for each \"temperature\"\n",
    "    # and \"print\" the response.\n",
    "    print(fahr_to_celsius(temperatures))"
   ]
  },
  {
   "cell_type": "markdown",
   "metadata": {},
   "source": [
    "## Lists and dictionaries can be arguments"
   ]
  },
  {
   "cell_type": "markdown",
   "metadata": {},
   "source": [
    "As well as passing strings and numbers to a function, lists and dictionaries can also be passed. \n",
    "\n",
    "The function `length_of_my_strings()` below has a list as a parameter. It prints the length of each string in the list by looping through it. "
   ]
  },
  {
   "cell_type": "code",
   "execution_count": null,
   "metadata": {},
   "outputs": [],
   "source": [
    "def length_of_my_strings(list_of_strings):\n",
    "    \"\"\"print the length of a list of strings\"\"\"\n",
    "    for name in list_of_strings:\n",
    "        print(f\" The lengths of the string is {len(name)}\")"
   ]
  },
  {
   "cell_type": "code",
   "execution_count": null,
   "metadata": {},
   "outputs": [],
   "source": [
    "length_of_my_strings([\"inorganic\", \"organic\", \"physical\"])"
   ]
  },
  {
   "cell_type": "markdown",
   "metadata": {},
   "source": [
    "## Functions can take more than one argument"
   ]
  },
  {
   "cell_type": "markdown",
   "metadata": {},
   "source": [
    "The `say_hello()` function has one parameter. But functions can have any number of parameters.\n",
    "\n",
    "Let's rewrite `say_hello()` to take two arguments: a first name and a surname."
   ]
  },
  {
   "cell_type": "code",
   "execution_count": null,
   "metadata": {},
   "outputs": [],
   "source": [
    "def say_hello(forename, surname):\n",
    "    \"\"\"Print 'Hello' followed by forename and surname\"\"\"\n",
    "    \n",
    "    print(f\"Hello {forename} {surname}\")\n",
    "    \n",
    "        \n",
    "# Call the function \"say_hello()\" with two strings.\n",
    "say_hello(\"Harry\", \"Potter\")\n",
    "\n",
    "# Call the function \"say_hello()\" with two string variables.\n",
    "first_name = \"Dobby\"\n",
    "family_name = \"\"\n",
    "say_hello(first_name, family_name)"
   ]
  },
  {
   "cell_type": "markdown",
   "metadata": {},
   "source": [
    "In the first call, `forename` is assigned the value `\"Harry\"` and `surname` the value `\"Potter\"`.\n",
    "\n",
    "In the second call, `forename` is assigned the value `\"Dobby\"` and `surname` is assigned an empty string."
   ]
  },
  {
   "cell_type": "markdown",
   "metadata": {
    "button": false,
    "new_sheet": false,
    "run_control": {
     "read_only": false
    }
   },
   "source": [
    "<div class=\"alert alert-success\">\n",
    "<b>Task 2.1: Write a function called <code>reverse_string()</code> which prints the reverse of a string passed to it. </b>\n",
    "\n",
    "\n",
    "The call to the function is already included in the following code cell. You just need to write the function. (Look back to [Unit 2](../Unit_02/Unit_02_variables_I.ipynb) on how to manipulate strings!)\n",
    "</div>"
   ]
  },
  {
   "cell_type": "code",
   "execution_count": null,
   "metadata": {},
   "outputs": [],
   "source": [
    "def reverse_string:\n",
    "    #FIXME"
   ]
  },
  {
   "cell_type": "code",
   "execution_count": null,
   "metadata": {},
   "outputs": [],
   "source": [
    "reverse_string(\"eiruC eiraM - .ssel raef yam ew taht os ,erom dnatsrednu ot emit eht si woN .dootsrednu eb ot ylno si ti ,deraef eb ot si efil ni gnihtoN\")"
   ]
  },
  {
   "cell_type": "markdown",
   "metadata": {},
   "source": [
    "<details><summary {style=\"color:green;font-weight:bold\"}> Click here to see solution to Task 2.1. </summary>\n",
    "    \n",
    "```python\n",
    "def reverse_string(s):\n",
    "    \"\"\"Print reverse of string\"\"\"\n",
    "    print(s[::-1])\n",
    "```\n",
    "</details>"
   ]
  },
  {
   "cell_type": "markdown",
   "metadata": {
    "button": false,
    "new_sheet": false,
    "run_control": {
     "read_only": false
    }
   },
   "source": [
    "<div class=\"alert alert-success\">\n",
    "<b>Task 2.2: Write a function called <code>average()</code> that takes a list as an argument and prints out the average values in the list. </b>\n",
    "</div>"
   ]
  },
  {
   "cell_type": "code",
   "execution_count": null,
   "metadata": {},
   "outputs": [],
   "source": [
    "def average(x):\n",
    "    #FIX ME"
   ]
  },
  {
   "cell_type": "code",
   "execution_count": null,
   "metadata": {},
   "outputs": [],
   "source": [
    "Titre_values = [22.2, 23.3, 22.3, 22.4, 22.4, 23.0, 22.0, 22.1, 21.9]"
   ]
  },
  {
   "cell_type": "code",
   "execution_count": null,
   "metadata": {},
   "outputs": [],
   "source": [
    "average(Titre_values)"
   ]
  },
  {
   "cell_type": "markdown",
   "metadata": {},
   "source": [
    "<details><summary {style=\"color:green;font-weight:bold\"}> Click here to see solution to Task 2.2. </summary>\n",
    "    \n",
    "```python\n",
    "    def average(x):\n",
    "    \"\"\"Average of a list of numbers\"\"\"\n",
    "    print(sum(x)/len(x))\n",
    "```\n",
    "</details>"
   ]
  },
  {
   "cell_type": "markdown",
   "metadata": {
    "button": false,
    "new_sheet": false,
    "run_control": {
     "read_only": false
    }
   },
   "source": [
    "<div class=\"alert alert-success\">\n",
    "<b>Task 2.3: Write a function called <code>multiply_two_numbers()</code> that prints the product of two number passed to it. </b>\n",
    "</div>"
   ]
  },
  {
   "cell_type": "code",
   "execution_count": null,
   "metadata": {},
   "outputs": [],
   "source": [
    "def multiply_two_numbers(n1, n2):\n",
    "    #FIX ME"
   ]
  },
  {
   "cell_type": "code",
   "execution_count": null,
   "metadata": {},
   "outputs": [],
   "source": [
    "\n",
    "n1 = float(input(\"Enter a number: \"))\n",
    "n2 = float(input(\"Enter another number: \"))\n",
    "\n",
    "multiply_two_numbers(n1, n2)"
   ]
  },
  {
   "cell_type": "markdown",
   "metadata": {},
   "source": [
    "<details><summary {style=\"color:green;font-weight:bold\"}> Click here to see solution to Task 2.3. </summary>\n",
    "    \n",
    "```python\n",
    "def multiply_two_numbers(n1, n2):\n",
    "    \"\"\"Product of two numbers\"\"\"\n",
    "    multiplication = n1*n2\n",
    "    print(f\"{n1} multiplied by {n2} is: {multiplication}\".format(n1=n1, n2=n2, multiplication=multiplication))\n",
    "```\n",
    "</details>"
   ]
  },
  {
   "cell_type": "markdown",
   "metadata": {},
   "source": [
    "## Next Notebook"
   ]
  },
  {
   "cell_type": "markdown",
   "metadata": {},
   "source": [
    "[Functions II](Unit_04_functions_II.ipynb)\n"
   ]
  }
 ],
 "metadata": {
  "anaconda-cloud": {},
  "kernelspec": {
   "display_name": "Python 3 (ipykernel)",
   "language": "python",
   "name": "python3"
  },
  "language_info": {
   "codemirror_mode": {
    "name": "ipython",
    "version": 3
   },
   "file_extension": ".py",
   "mimetype": "text/x-python",
   "name": "python",
   "nbconvert_exporter": "python",
   "pygments_lexer": "ipython3",
   "version": "3.9.13"
  },
  "toc": {
   "base_numbering": 1,
   "nav_menu": {},
   "number_sections": false,
   "sideBar": true,
   "skip_h1_title": false,
   "title_cell": "Table of Contents",
   "title_sidebar": "Contents",
   "toc_cell": false,
   "toc_position": {
    "height": "calc(100% - 180px)",
    "left": "10px",
    "top": "150px",
    "width": "254.27499389648438px"
   },
   "toc_section_display": true,
   "toc_window_display": false
  },
  "vscode": {
   "interpreter": {
    "hash": "02f18a21a35e5954c18fa769bc3437e1d5dd28e5f0ee8ec3c48889ec5af25b37"
   }
  }
 },
 "nbformat": 4,
 "nbformat_minor": 4
}
