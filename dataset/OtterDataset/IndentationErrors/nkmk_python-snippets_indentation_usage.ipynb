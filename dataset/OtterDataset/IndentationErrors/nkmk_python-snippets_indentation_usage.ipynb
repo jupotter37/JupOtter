{
 "cells": [
  {
   "cell_type": "code",
   "execution_count": 1,
   "id": "57aba476",
   "metadata": {},
   "outputs": [
    {
     "name": "stdout",
     "output_type": "stream",
     "text": [
      "0\n",
      "1\n",
      "2\n"
     ]
    }
   ],
   "source": [
    "for i in range(3):\n",
    "    print(i)"
   ]
  },
  {
   "cell_type": "code",
   "execution_count": 2,
   "id": "308f8cd2",
   "metadata": {},
   "outputs": [],
   "source": [
    "def test(n):\n",
    "    for i in range(n):\n",
    "        if i % 2:\n",
    "            print(i * 10)\n",
    "        else:\n",
    "            print(i)\n",
    "    print('FINISH')"
   ]
  },
  {
   "cell_type": "code",
   "execution_count": 3,
   "id": "7d27c949",
   "metadata": {},
   "outputs": [
    {
     "name": "stdout",
     "output_type": "stream",
     "text": [
      "0\n",
      "10\n",
      "2\n",
      "30\n",
      "4\n",
      "FINISH\n"
     ]
    }
   ],
   "source": [
    "test(5)"
   ]
  },
  {
   "cell_type": "code",
   "execution_count": 4,
   "id": "f1b51858",
   "metadata": {},
   "outputs": [],
   "source": [
    "def test(n):\n",
    " for i in range(n):\n",
    "   if i % 2:\n",
    "                print(i * 10)\n",
    "   else:\n",
    "    print(i)\n",
    " print('FINISH')"
   ]
  },
  {
   "cell_type": "code",
   "execution_count": 5,
   "id": "84a4e1bb",
   "metadata": {},
   "outputs": [
    {
     "name": "stdout",
     "output_type": "stream",
     "text": [
      "0\n",
      "10\n",
      "2\n",
      "30\n",
      "4\n",
      "FINISH\n"
     ]
    }
   ],
   "source": [
    "test(5)"
   ]
  },
  {
   "cell_type": "code",
   "execution_count": 6,
   "id": "78df52f3",
   "metadata": {},
   "outputs": [],
   "source": [
    "# def test(n):\n",
    "#  for i in range(n):\n",
    "#    if i % 2:\n",
    "#                 print(i * 10)\n",
    "#      else:\n",
    "#        print(i)\n",
    "#  print('FINISH')\n",
    "# IndentationError: unindent does not match any outer indentation level"
   ]
  },
  {
   "cell_type": "code",
   "execution_count": 7,
   "id": "51c2eb5b",
   "metadata": {},
   "outputs": [],
   "source": [
    "def test(n):\n",
    "    print(n)"
   ]
  },
  {
   "cell_type": "code",
   "execution_count": 8,
   "id": "49510170",
   "metadata": {},
   "outputs": [
    {
     "name": "stdout",
     "output_type": "stream",
     "text": [
      "5\n"
     ]
    }
   ],
   "source": [
    "test(5)"
   ]
  },
  {
   "cell_type": "code",
   "execution_count": 9,
   "id": "dfa7d9d4",
   "metadata": {},
   "outputs": [],
   "source": [
    "def test(n):print(n)"
   ]
  },
  {
   "cell_type": "code",
   "execution_count": 10,
   "id": "91aa52ba",
   "metadata": {},
   "outputs": [
    {
     "name": "stdout",
     "output_type": "stream",
     "text": [
      "5\n"
     ]
    }
   ],
   "source": [
    "test(5)"
   ]
  },
  {
   "cell_type": "code",
   "execution_count": 11,
   "id": "93074542",
   "metadata": {},
   "outputs": [],
   "source": [
    "def test(n):\n",
    "    n += 10\n",
    "    print(n)\n",
    "    print('FINISH')"
   ]
  },
  {
   "cell_type": "code",
   "execution_count": 12,
   "id": "a081976b",
   "metadata": {},
   "outputs": [
    {
     "name": "stdout",
     "output_type": "stream",
     "text": [
      "15\n",
      "FINISH\n"
     ]
    }
   ],
   "source": [
    "test(5)"
   ]
  },
  {
   "cell_type": "code",
   "execution_count": 13,
   "id": "e95bf6f0",
   "metadata": {},
   "outputs": [],
   "source": [
    "def test(n):n += 10;print(n);print('FINISH')"
   ]
  },
  {
   "cell_type": "code",
   "execution_count": 14,
   "id": "2f6f04ae",
   "metadata": {},
   "outputs": [
    {
     "name": "stdout",
     "output_type": "stream",
     "text": [
      "15\n",
      "FINISH\n"
     ]
    }
   ],
   "source": [
    "test(5)"
   ]
  },
  {
   "cell_type": "code",
   "execution_count": 15,
   "id": "37393b50",
   "metadata": {},
   "outputs": [],
   "source": [
    "def test(n):\n",
    "    for i in range(n):\n",
    "        print(i)"
   ]
  },
  {
   "cell_type": "code",
   "execution_count": 16,
   "id": "0875f68f",
   "metadata": {},
   "outputs": [
    {
     "name": "stdout",
     "output_type": "stream",
     "text": [
      "0\n",
      "1\n",
      "2\n"
     ]
    }
   ],
   "source": [
    "test(3)"
   ]
  },
  {
   "cell_type": "code",
   "execution_count": 17,
   "id": "dc8b2d80",
   "metadata": {},
   "outputs": [],
   "source": [
    "# def test(n):for i in range(n):print(i)\n",
    "# SyntaxError: invalid syntax"
   ]
  },
  {
   "cell_type": "code",
   "execution_count": 18,
   "id": "098e5270",
   "metadata": {},
   "outputs": [],
   "source": [
    "def test(n):\n",
    "    for i in range(n):print(i)"
   ]
  },
  {
   "cell_type": "code",
   "execution_count": 19,
   "id": "1ade820a",
   "metadata": {},
   "outputs": [
    {
     "name": "stdout",
     "output_type": "stream",
     "text": [
      "0\n",
      "1\n",
      "2\n"
     ]
    }
   ],
   "source": [
    "test(3)"
   ]
  }
 ],
 "metadata": {
  "kernelspec": {
   "display_name": "Python 3",
   "language": "python",
   "name": "python3"
  },
  "language_info": {
   "codemirror_mode": {
    "name": "ipython",
    "version": 3
   },
   "file_extension": ".py",
   "mimetype": "text/x-python",
   "name": "python",
   "nbconvert_exporter": "python",
   "pygments_lexer": "ipython3",
   "version": "3.11.3"
  }
 },
 "nbformat": 4,
 "nbformat_minor": 5
}
