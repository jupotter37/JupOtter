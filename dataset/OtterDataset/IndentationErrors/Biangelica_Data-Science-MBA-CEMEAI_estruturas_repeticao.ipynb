{
  "cells": [
    {
      "cell_type": "markdown",
      "metadata": {
        "id": "view-in-github",
        "colab_type": "text"
      },
      "source": [
        "<a href=\"https://colab.research.google.com/github/Biangelica/Data-Science-MBA-CEMEAI/blob/main/Programa%C3%A7%C3%A3o%20para%20Iniciantes/Aula%203/estruturas_repeticao.ipynb\" target=\"_parent\"><img src=\"https://colab.research.google.com/assets/colab-badge.svg\" alt=\"Open In Colab\"/></a>"
      ]
    },
    {
      "cell_type": "markdown",
      "id": "194d3bf8",
      "metadata": {
        "id": "194d3bf8"
      },
      "source": [
        "# <font color='blue'> Introdução a Programação com Python </font>\n",
        "    \n",
        "## <font color='blue'> Estruturas de Repetição</font>\n",
        "\n",
        "### Material produzido por Luis Gustavo Nonato"
      ]
    },
    {
      "cell_type": "markdown",
      "id": "d417c144",
      "metadata": {
        "id": "d417c144"
      },
      "source": [
        "### Conteúdo\n",
        "- Laço <font color='blue'> for </font>\n",
        "- Laço <font color='blue'> while </font>\n",
        "- Listas e operações com listas"
      ]
    },
    {
      "cell_type": "markdown",
      "id": "e225894e",
      "metadata": {
        "id": "e225894e"
      },
      "source": [
        "As estruturas de repetição são utilizadas quando queremos que um bloco de código seja executado várias vezes.\n",
        "\n",
        "Em Python existem duas formas de criar uma estrutura de repetição:\n",
        "\n",
        "- O laço <font color='blue'> for </font> é utilizado quando se quer iterar sobre um bloco de código um número determinado de vezes.\n",
        "\n",
        "- O laço <font color='blue'> while </font>  é empregado quando queremos que o bloco de código seja repetido até que uma condição seja satisfeita. Ou seja, é necessário que uma expressão booleana seja avaliada a cada iteração. Assim que ela se tornar falsa, a repetição é interrompida.\n",
        "\n",
        "O bloco que será repedito é marcado por meio de indentação."
      ]
    },
    {
      "cell_type": "markdown",
      "id": "5c0b98e7",
      "metadata": {
        "id": "5c0b98e7"
      },
      "source": [
        "A sintaxe de um laço <font color='blue'> for </font> é da forma:\n",
        "```python\n",
        "for <variavel> in <sequência>:\n",
        "    bloco de código que será repetido\n",
        "```"
      ]
    },
    {
      "cell_type": "code",
      "execution_count": null,
      "id": "f8c1e4d2",
      "metadata": {
        "id": "f8c1e4d2",
        "outputId": "5e1acbfe-b574-490e-c9d5-f636a0517f37"
      },
      "outputs": [
        {
          "name": "stdout",
          "output_type": "stream",
          "text": [
            "0\n",
            "mais uma iteração do bloco for\n",
            "1\n",
            "mais uma iteração do bloco for\n",
            "2\n",
            "mais uma iteração do bloco for\n",
            "3\n",
            "mais uma iteração do bloco for\n",
            "4\n",
            "mais uma iteração do bloco for\n",
            "5\n",
            "mais uma iteração do bloco for\n",
            "6\n",
            "mais uma iteração do bloco for\n",
            "7\n",
            "mais uma iteração do bloco for\n",
            "8\n",
            "mais uma iteração do bloco for\n",
            "9\n",
            "mais uma iteração do bloco for\n",
            "O laço for terminou\n"
          ]
        }
      ],
      "source": [
        "for i in range(10):  # O comando range(n) gera uma sequencia de valores entre 0 e n-1\n",
        "    print(i)\n",
        "    print('mais uma iteração do bloco for')\n",
        "\n",
        "print('O laço for terminou')"
      ]
    },
    {
      "cell_type": "markdown",
      "id": "54ab72c6",
      "metadata": {
        "id": "54ab72c6"
      },
      "source": [
        "A sintaxe de um laço <font color='blue'> while </font> é da forma:\n",
        "```python\n",
        "while <expressão booleana>:\n",
        "    bloco de código que será repetido\n",
        "```"
      ]
    },
    {
      "cell_type": "code",
      "execution_count": null,
      "id": "f3d4a496",
      "metadata": {
        "id": "f3d4a496",
        "outputId": "f41b2f60-30a8-4087-c861-cd1a1066e259"
      },
      "outputs": [
        {
          "name": "stdout",
          "output_type": "stream",
          "text": [
            "0\n",
            "1\n",
            "2\n",
            "3\n",
            "4\n",
            "5\n",
            "6\n",
            "7\n",
            "8\n",
            "9\n",
            "O laço while terminou\n"
          ]
        }
      ],
      "source": [
        "i = 0\n",
        "while i < 10:\n",
        "    print(i)\n",
        "    i = i + 1\n",
        "\n",
        "print('O laço while terminou')"
      ]
    },
    {
      "cell_type": "markdown",
      "id": "9d3f8db0",
      "metadata": {
        "id": "9d3f8db0"
      },
      "source": [
        "O laço <font color='blue'> for </font> permite que qualquer sequência de valores seja percorrida. Em particular, uma string é uma sequência de caracteres, portanto, pode-se percorrer todos os elementos da string utilizando um laço <font color='blue'> for </font>."
      ]
    },
    {
      "cell_type": "code",
      "execution_count": null,
      "id": "c4b70125",
      "metadata": {
        "id": "c4b70125",
        "outputId": "939e85b4-5a66-49c5-827f-06d5eb4d8603"
      },
      "outputs": [
        {
          "name": "stdout",
          "output_type": "stream",
          "text": [
            "M  B  A     e  m     c  i  e  n  c  i  a     d  e     d  a  d  o  s     n  o     I  C  M  C  /  U  S  P  "
          ]
        }
      ],
      "source": [
        "string = \"MBA em ciencia de dados no ICMC/USP\"\n",
        "\n",
        "for c in string:\n",
        "    print(c,' ',end='')\n",
        "    #print(c,' ')"
      ]
    },
    {
      "cell_type": "markdown",
      "id": "7b7e9b8d",
      "metadata": {
        "id": "7b7e9b8d"
      },
      "source": [
        "Uma outra forma de percorrer os elementos de uma string é por meio do índice do elemento. Por exemplo, na string\n",
        "```python\n",
        "\"MBA em ciencia de dados no ICMC/USP\"\n",
        "```\n",
        "o primeiro caracter 'M' possui índice 0, o segundo caracter 'B' possui índice 1, o terceiro 'A' é o elemento de índice 2, e assim por diante. Para acessar um elemento da string pelo seu respectivo índice, utilizamos colchetes com o valor do índice."
      ]
    },
    {
      "cell_type": "code",
      "execution_count": null,
      "id": "8eb3b9a8",
      "metadata": {
        "id": "8eb3b9a8",
        "outputId": "d5b978fc-dfdb-4bcc-b687-7bade2b32ab8"
      },
      "outputs": [
        {
          "name": "stdout",
          "output_type": "stream",
          "text": [
            "M   B   e   d\n"
          ]
        }
      ],
      "source": [
        "print(string[0],' ',string[1],' ',string[9],' ',string[18])"
      ]
    },
    {
      "cell_type": "markdown",
      "id": "a4a88db5",
      "metadata": {
        "id": "a4a88db5"
      },
      "source": [
        "**Atenção**: Como o índice do primeiro elemento é zero, o índice do último elemento da string é igual ao número de caracteres na string menos um."
      ]
    },
    {
      "cell_type": "markdown",
      "id": "a04adfcc",
      "metadata": {
        "id": "a04adfcc"
      },
      "source": [
        "Podemos utilizar um laço <font color='blue'> for </font> para percorrer os índices da string ao invés de acessar cada elemento diretamente. O método <font color='blue'> len </font> do python retorna o número de caracteres na string, incluindo espaços em branco."
      ]
    },
    {
      "cell_type": "code",
      "execution_count": null,
      "id": "b82e605f",
      "metadata": {
        "id": "b82e605f",
        "outputId": "f8629f8b-e8bc-450b-d356-6f50aeb855be"
      },
      "outputs": [
        {
          "name": "stdout",
          "output_type": "stream",
          "text": [
            "M  B  A     e  m     c  i  e  n  c  i  a     d  e     d  a  d  o  s     n  o     I  C  M  C  /  U  S  P  "
          ]
        }
      ],
      "source": [
        "string = \"MBA em ciencia de dados no ICMC/USP\"\n",
        "\n",
        "for i in range(len(string)):\n",
        "    print(string[i],' ',end='')"
      ]
    },
    {
      "cell_type": "markdown",
      "id": "9c7cac9c",
      "metadata": {
        "id": "9c7cac9c"
      },
      "source": [
        "Se quisermos utilizar um laço <font color='blue'> while </font> para percorrer os índices, precisamos inicializar uma variável inteira com o valor zero e aplicar o <font color='blue'> while </font> enquanto a variável for menor que o número de caracteres, incrementando a variável dentro do laço."
      ]
    },
    {
      "cell_type": "code",
      "execution_count": null,
      "id": "8c5d2235",
      "metadata": {
        "id": "8c5d2235",
        "outputId": "90055db4-6a64-4879-ef84-d1b55d0173ad"
      },
      "outputs": [
        {
          "name": "stdout",
          "output_type": "stream",
          "text": [
            "M  B  A     e  m     c  i  e  n  c  i  a     d  e     d  a  d  o  s     n  o     I  C  M  C  /  U  S  P  "
          ]
        }
      ],
      "source": [
        "i = 0\n",
        "\n",
        "while (i<len(string)):\n",
        "    print(string[i],' ',end='')\n",
        "    i = i+1"
      ]
    },
    {
      "cell_type": "markdown",
      "id": "3d209621",
      "metadata": {
        "id": "3d209621"
      },
      "source": [
        "Se tentarmos acessar um índice maior que o número de caracteres uma mensagem de erro erá ocorrer."
      ]
    },
    {
      "cell_type": "code",
      "execution_count": null,
      "id": "dfddca9a",
      "metadata": {
        "id": "dfddca9a",
        "outputId": "4850f059-4591-4a41-e424-6f23b6fa046b"
      },
      "outputs": [
        {
          "name": "stdout",
          "output_type": "stream",
          "text": [
            "P\n"
          ]
        }
      ],
      "source": [
        "#print(string[len(string)]) # o último índice da strign é len(string)-1\n",
        "print(string[len(string)-1])"
      ]
    },
    {
      "cell_type": "markdown",
      "id": "6b530c97",
      "metadata": {
        "id": "6b530c97"
      },
      "source": [
        "## Listas"
      ]
    },
    {
      "cell_type": "markdown",
      "id": "c3ca0d1c",
      "metadata": {
        "id": "c3ca0d1c"
      },
      "source": [
        "Um lista em python é uma sequência de elementos que podem ser de qualquer tipo. Por exemplo:\n",
        "```python\n",
        "[3.2, \"MBA\", 1, True]\n",
        "```\n",
        "é uma lista formada pelo número 3.2, pela string \"MBA\", pelo número 1 e pelo valor booleano TRUE.\n",
        "\n",
        "Para construir uma lista em python, basta passar a sequência de elementos entre colchetes e separados por vírgula, atribuindo a uma variável."
      ]
    },
    {
      "cell_type": "code",
      "execution_count": null,
      "id": "3e1aedae",
      "metadata": {
        "id": "3e1aedae",
        "outputId": "284ef69f-950d-40fc-d2f5-8de64bd89d7a"
      },
      "outputs": [
        {
          "name": "stdout",
          "output_type": "stream",
          "text": [
            "[3.2, 'MBA', 1, True]\n",
            "<class 'list'>\n"
          ]
        }
      ],
      "source": [
        "lista = [3.2, \"MBA\", 1, True]\n",
        "print(lista)\n",
        "print(type(lista))"
      ]
    },
    {
      "cell_type": "markdown",
      "id": "b4f485cf",
      "metadata": {
        "id": "b4f485cf"
      },
      "source": [
        "Uma lista é uma sequência de elementos, portanto, podemos utilizar o laço <font color='blue'> for </font> para percorrer seus elementos."
      ]
    },
    {
      "cell_type": "code",
      "execution_count": null,
      "id": "90c985d5",
      "metadata": {
        "id": "90c985d5",
        "outputId": "93b3a310-9587-4ad6-90d1-2e6909cae44e"
      },
      "outputs": [
        {
          "name": "stdout",
          "output_type": "stream",
          "text": [
            "3.2\n",
            "MBA\n",
            "1\n",
            "True\n"
          ]
        }
      ],
      "source": [
        "for e in lista:\n",
        "    print(e)"
      ]
    },
    {
      "cell_type": "markdown",
      "id": "b5e4fd88",
      "metadata": {
        "id": "b5e4fd88"
      },
      "source": [
        "Os elementos de uma lista também podem ser acessados por meio de seus índices, muito semelhante aos caractares de uma string."
      ]
    },
    {
      "cell_type": "code",
      "execution_count": null,
      "id": "397d70f5",
      "metadata": {
        "id": "397d70f5",
        "outputId": "75359d93-e8bb-4074-fc90-e8ca9a664406"
      },
      "outputs": [
        {
          "name": "stdout",
          "output_type": "stream",
          "text": [
            "3.2\n",
            "MBA\n",
            "1\n",
            "True\n"
          ]
        }
      ],
      "source": [
        "for i in range(len(lista)):\n",
        "    print(lista[i])"
      ]
    },
    {
      "cell_type": "markdown",
      "id": "3b7e9ad5",
      "metadata": {
        "id": "3b7e9ad5"
      },
      "source": [
        "Elementos podem ser inseridos ou removidos de uma lista. Existem algumas formas de inserir elementos em uma lista, por exemplo utilizando:\n",
        "- método <font color='blue'> append </font>\n",
        "- método <font color='blue'> insert </font>\n",
        "\n",
        "O método <font color='blue'> append </font> insere um novo elemento no final da lista, enquanto que o método <font color='blue'> insert </font> exige que o índice da posição onde o elemento será inserido seja fornecido."
      ]
    },
    {
      "cell_type": "code",
      "execution_count": null,
      "id": "2eda36d5",
      "metadata": {
        "id": "2eda36d5",
        "outputId": "95014ca5-3e1f-4797-b1b8-9418753b3ca0"
      },
      "outputs": [
        {
          "name": "stdout",
          "output_type": "stream",
          "text": [
            "[3.2, 'MBA']\n",
            "[3.2, 'MBA', 'novo', 5.7]\n",
            "[3.2, 'mais um', 'MBA', -11, 'novo', 5.7]\n"
          ]
        }
      ],
      "source": [
        "lst = [3.2, \"MBA\"]\n",
        "print(lst)\n",
        "lst.append(\"novo\")\n",
        "lst.append(5.7)\n",
        "print(lst)\n",
        "lst.insert(1,'mais um')\n",
        "lst.insert(3,-11)\n",
        "print(lst)"
      ]
    },
    {
      "cell_type": "markdown",
      "id": "7d6e57e7",
      "metadata": {
        "id": "7d6e57e7"
      },
      "source": [
        "Para removermos um elemento da lista, utilizamos o comando <font color='blue'> del </font> indicando qual elemento deve ser removido."
      ]
    },
    {
      "cell_type": "code",
      "execution_count": null,
      "id": "f0504b9a",
      "metadata": {
        "id": "f0504b9a",
        "outputId": "0b1ce697-c151-46d3-e317-ad7f8814d611"
      },
      "outputs": [
        {
          "name": "stdout",
          "output_type": "stream",
          "text": [
            "[3.2, 'mais um', -11, 'novo', 5.7]\n"
          ]
        }
      ],
      "source": [
        "del lst[2]\n",
        "print(lst)"
      ]
    },
    {
      "cell_type": "markdown",
      "id": "9211c42f",
      "metadata": {
        "id": "9211c42f"
      },
      "source": [
        "No exemplo abaixo, vamos construir uma lista contendo apenas os números de 1 a 99 que são múltiplos de 3 e de 5 simultaneamente."
      ]
    },
    {
      "cell_type": "code",
      "execution_count": null,
      "id": "b14b1b2b",
      "metadata": {
        "id": "b14b1b2b",
        "outputId": "4e582c23-de2c-435f-bc27-3b915b01c4da"
      },
      "outputs": [
        {
          "name": "stdout",
          "output_type": "stream",
          "text": [
            "[15, 30, 45, 60, 75, 90]\n"
          ]
        }
      ],
      "source": [
        "multiplos_3_5 = []  # começamos com a lista vazia\n",
        "for i in range(1,100):\n",
        "    if i%3 == 0 and i%5 == 0:\n",
        "        multiplos_3_5.append(i)\n",
        "\n",
        "print(multiplos_3_5)"
      ]
    },
    {
      "cell_type": "markdown",
      "id": "7d7dec05",
      "metadata": {
        "id": "7d7dec05"
      },
      "source": [
        "Considere a sequência de números armazenada na lista `lst` abaixo. Vamos escrever um código para remover da lista todos os números pares."
      ]
    },
    {
      "cell_type": "code",
      "execution_count": null,
      "id": "0cc2dc72",
      "metadata": {
        "id": "0cc2dc72",
        "outputId": "979eecc4-2bea-4f1c-9e5b-5c45e167347f"
      },
      "outputs": [
        {
          "ename": "IndentationError",
          "evalue": "expected an indented block (<ipython-input-25-b8a480d212b0>, line 7)",
          "output_type": "error",
          "traceback": [
            "\u001b[0;36m  File \u001b[0;32m\"<ipython-input-25-b8a480d212b0>\"\u001b[0;36m, line \u001b[0;32m7\u001b[0m\n\u001b[0;31m    lst_temp.append(lst[i])\u001b[0m\n\u001b[0m    ^\u001b[0m\n\u001b[0;31mIndentationError\u001b[0m\u001b[0;31m:\u001b[0m expected an indented block\n"
          ]
        }
      ],
      "source": [
        "lst = [5, 57, 34, 24, 27, 49, 15, 52, 95, 80, 15, 15, 70, 76, 74]\n",
        "\n",
        "lst_temp = []\n",
        "\n",
        "for i in range(len(lst)):\n",
        "    if lst[i]%2 != 0:\n",
        "        lst_temp.append(lst[i])\n",
        "\n",
        "lst = lst_temp\n",
        "print(lst)"
      ]
    },
    {
      "cell_type": "markdown",
      "id": "0bae70da",
      "metadata": {
        "id": "0bae70da"
      },
      "source": [
        "Note no código acima que fizemos uso de uma lista auxiliar para guardar os elementos que não são pares. Um erro muito comum é tentar percorrer a lista removendo os elementos pares, isto provoca um erro no laço <font color='blue'> for</font>, pois o tamanho da lista muda durante a execução."
      ]
    },
    {
      "cell_type": "code",
      "execution_count": null,
      "id": "bec97ca6",
      "metadata": {
        "id": "bec97ca6",
        "outputId": "803d0b72-b2d2-4799-93e3-98e7bcd5c0e2"
      },
      "outputs": [
        {
          "ename": "IndexError",
          "evalue": "list index out of range",
          "output_type": "error",
          "traceback": [
            "\u001b[0;31m---------------------------------------------------------------------------\u001b[0m",
            "\u001b[0;31mIndexError\u001b[0m                                Traceback (most recent call last)",
            "\u001b[0;32m<ipython-input-24-452dd2988eac>\u001b[0m in \u001b[0;36m<module>\u001b[0;34m\u001b[0m\n\u001b[1;32m      2\u001b[0m \u001b[0;34m\u001b[0m\u001b[0m\n\u001b[1;32m      3\u001b[0m \u001b[0;32mfor\u001b[0m \u001b[0mi\u001b[0m \u001b[0;32min\u001b[0m \u001b[0mrange\u001b[0m\u001b[0;34m(\u001b[0m\u001b[0mlen\u001b[0m\u001b[0;34m(\u001b[0m\u001b[0mlst\u001b[0m\u001b[0;34m)\u001b[0m\u001b[0;34m)\u001b[0m\u001b[0;34m:\u001b[0m\u001b[0;34m\u001b[0m\u001b[0;34m\u001b[0m\u001b[0m\n\u001b[0;32m----> 4\u001b[0;31m     \u001b[0;32mif\u001b[0m \u001b[0mlst\u001b[0m\u001b[0;34m[\u001b[0m\u001b[0mi\u001b[0m\u001b[0;34m]\u001b[0m\u001b[0;34m%\u001b[0m\u001b[0;36m2\u001b[0m \u001b[0;34m==\u001b[0m \u001b[0;36m0\u001b[0m\u001b[0;34m:\u001b[0m\u001b[0;34m\u001b[0m\u001b[0;34m\u001b[0m\u001b[0m\n\u001b[0m\u001b[1;32m      5\u001b[0m         \u001b[0;32mdel\u001b[0m \u001b[0mlst\u001b[0m\u001b[0;34m[\u001b[0m\u001b[0mi\u001b[0m\u001b[0;34m]\u001b[0m\u001b[0;34m\u001b[0m\u001b[0;34m\u001b[0m\u001b[0m\n",
            "\u001b[0;31mIndexError\u001b[0m: list index out of range"
          ]
        }
      ],
      "source": [
        "lst = [5, 57, 34, 24, 27, 49, 15, 52, 95, 80, 15, 15, 70, 76, 74]\n",
        "\n",
        "for i in range(len(lst)):\n",
        "    if lst[i]%2 == 0:\n",
        "        del lst[i]"
      ]
    },
    {
      "cell_type": "markdown",
      "id": "2dad09e7",
      "metadata": {
        "id": "2dad09e7"
      },
      "source": [
        "O código abaixo calcula o maior valor armazenado em uma lista contendo elementos numéricos."
      ]
    },
    {
      "cell_type": "code",
      "execution_count": null,
      "id": "eda73285",
      "metadata": {
        "id": "eda73285",
        "outputId": "7b489579-803f-4a8f-9231-59922db9e7cf"
      },
      "outputs": [
        {
          "name": "stdout",
          "output_type": "stream",
          "text": [
            "95\n"
          ]
        }
      ],
      "source": [
        "lst = [5, 57, 34, 24, 27, 49, 15, 52, 95, 80, 15, 15, 70, 76, 74]\n",
        "\n",
        "maior = -1.0e8\n",
        "for i in lst:\n",
        "    if i > maior:\n",
        "        maior = i\n",
        "\n",
        "print(maior)"
      ]
    },
    {
      "cell_type": "markdown",
      "id": "abc044ca",
      "metadata": {
        "id": "abc044ca"
      },
      "source": [
        "### Ordenando os elementos de uma lista"
      ]
    },
    {
      "cell_type": "markdown",
      "id": "c4636d3f",
      "metadata": {
        "id": "c4636d3f"
      },
      "source": [
        "Vamos construir um código para ordenar os elementos de uma lista. O código abaixo não é uma versão eficiente de um método de ordenação, mas é útil para entendermos como laços tipo <font color='blue'> for </font> podem ser aninhados um dentro do outro.\n",
        "\n",
        "Vamos primeiramente entender como o método de ordenação funciona. Considere a lista de números abaixo:\n",
        "\n",
        "[57, 34, 5, 13, 27, 49]\n",
        "\n",
        "Suponha que iremos ordenar os elementos da lista de forma crescente, assim, o elemento de menor valor deve ser o primeiro da lista. Portanto, podemos trocar o valor 57 com o 5 (que é o menor valor da lista), garantindo assim que o número 5 estará na posição correta. Depois da troca, a lista fica da seguinte forma:\n",
        "\n",
        "[<font color='red'>5</font>, 34, 57, 13, 27, 49]\n",
        "\n",
        "Precisamos agora encontrar o segundo menor elemento na lista, que é o número 13, trocando sua posição com a do número 34, o número 13 também estará na posição correta. Após a troca a lista fica da seguinte forma:\n",
        "\n",
        "[<font color='red'>5</font>, <font color='red'>13</font>, 57, 34, 27, 49]\n",
        "\n",
        "Podemos continuar o racicínio acima até que todos os elementos estejam em suas posições corretas.\n",
        "\n",
        "Vamos escrever um código que implemente o algoritmo acima."
      ]
    },
    {
      "cell_type": "code",
      "execution_count": null,
      "id": "cf8e5457",
      "metadata": {
        "id": "cf8e5457",
        "outputId": "ce273bee-0de9-4c8d-a601-8e7942c41f32"
      },
      "outputs": [
        {
          "name": "stdout",
          "output_type": "stream",
          "text": [
            "[50, 75, 95, 7, 0, 36, 87, 31, 47, 94, 11, 74, 73, 94, 34]\n"
          ]
        }
      ],
      "source": [
        "import random\n",
        "\n",
        "# construindo uma lista de números que será ordenada\n",
        "lst2sort = []\n",
        "for i in range(15):\n",
        "    lst2sort.append(random.randint(0,100))\n",
        "\n",
        "print(lst2sort)"
      ]
    },
    {
      "cell_type": "code",
      "execution_count": null,
      "id": "d2c07f7a",
      "metadata": {
        "id": "d2c07f7a",
        "outputId": "62c4fc2a-2f54-4d82-a823-1c44a46243e0"
      },
      "outputs": [
        {
          "name": "stdout",
          "output_type": "stream",
          "text": [
            "[0, 7, 11, 31, 34, 36, 47, 50, 73, 74, 75, 87, 94, 94, 95]\n"
          ]
        }
      ],
      "source": [
        "n = len(lst2sort)  # guardando o numero de elementos da lista em uma variável\n",
        "\n",
        "for i in range(n):  # percorrendo a lista a partir de cada uma das posições\n",
        "    menor = lst2sort[i]\n",
        "    pos_menor = i\n",
        "\n",
        "    for j in range(i+1,n):  # procurando pelo menor elemento a partir da posição i+1\n",
        "        if lst2sort[j] < menor:\n",
        "            menor = lst2sort[j]  # guardando o valor do menor elemento\n",
        "            pos_menor = j     # guardando a posição onde o menor elemento está na lista\n",
        "\n",
        "    aux = lst2sort[i]\n",
        "    lst2sort[i] = menor\n",
        "    lst2sort[pos_menor] = aux\n",
        "\n",
        "print(lst2sort)"
      ]
    },
    {
      "cell_type": "markdown",
      "id": "2b6fe220",
      "metadata": {
        "id": "2b6fe220"
      },
      "source": [
        "No código acima, o uso da variável `aux` é absolutamente fundamental. Você consegue explicar o porquê?\n",
        "A variável `menor`, porém, pode ser descartada. Tente reescrever o código acima sem utilizar a variável `menor`."
      ]
    },
    {
      "cell_type": "markdown",
      "id": "a3e5f2ff",
      "metadata": {
        "id": "a3e5f2ff"
      },
      "source": [
        "## Fatiamento de Listas e Strings"
      ]
    },
    {
      "cell_type": "markdown",
      "id": "5097861e",
      "metadata": {
        "id": "5097861e"
      },
      "source": [
        "Um operador muito útil em listas é o fatiamento (slicing), que permite facilmente recuperar uma parte da lista de forma direta. A sintaxe de um fatiamento é a seguinte:\n",
        "```python\n",
        "<nome_da_lista>[a:b]\n",
        "````\n",
        "onde `a` é o índice de onde se quer iniciar o fatiamento e `b` é o índice do elemento posterior de onde se quer terminar o fatiamento."
      ]
    },
    {
      "cell_type": "code",
      "execution_count": null,
      "id": "e4d29939",
      "metadata": {
        "id": "e4d29939",
        "outputId": "469835fe-c257-479f-d3fe-04718519beb8"
      },
      "outputs": [
        {
          "name": "stdout",
          "output_type": "stream",
          "text": [
            "[23, 11, 45, 56]\n"
          ]
        }
      ],
      "source": [
        "lst = [-1,7,23,11,45,56,7,18]\n",
        "\n",
        "# recuperando os elementos entre o indice 2 e 5\n",
        "print(lst[2:6])"
      ]
    },
    {
      "cell_type": "markdown",
      "id": "dfb56333",
      "metadata": {
        "id": "dfb56333"
      },
      "source": [
        "Se o índice do início do fatiamento não é fornecido, os elementos são recuperados a partir do primeiro. Se o índice de término não é fornecido, os elementos são recuperados até o final da lista."
      ]
    },
    {
      "cell_type": "code",
      "execution_count": null,
      "id": "59740ee2",
      "metadata": {
        "id": "59740ee2",
        "outputId": "4ee9c9fc-3fc2-408c-ded2-ab7c53029064"
      },
      "outputs": [
        {
          "name": "stdout",
          "output_type": "stream",
          "text": [
            "[-1, 7, 23, 11, 45, 56]\n",
            "[45, 56, 7, 18]\n"
          ]
        }
      ],
      "source": [
        "print(lst[:6])\n",
        "print(lst[4:])"
      ]
    },
    {
      "cell_type": "markdown",
      "id": "699b96a8",
      "metadata": {
        "id": "699b96a8"
      },
      "source": [
        "Fatiamento também pode ser empregado em strings exatamente da mesma forma. Vejamos um exemplo:"
      ]
    },
    {
      "cell_type": "code",
      "execution_count": null,
      "id": "2c2ca7f0",
      "metadata": {
        "id": "2c2ca7f0",
        "outputId": "6df79fd7-8d2d-45f9-a41c-e8948f0591f8"
      },
      "outputs": [
        {
          "name": "stdout",
          "output_type": "stream",
          "text": [
            "fasd\n",
            "adfasd\n",
            "fasdtad\n"
          ]
        }
      ],
      "source": [
        "st = 'adfasdtad'\n",
        "print(st[2:6])\n",
        "print(st[:6])\n",
        "print(st[2:])"
      ]
    },
    {
      "cell_type": "markdown",
      "id": "7233a2d3",
      "metadata": {
        "id": "7233a2d3"
      },
      "source": [
        "## Tuplas"
      ]
    },
    {
      "cell_type": "markdown",
      "id": "8d1d6ae0",
      "metadata": {
        "id": "8d1d6ae0"
      },
      "source": [
        "Além de listas e strings, o Python possui uma outra forma de gerar sequência de elementos, as chamadas \"Tuplas\", que são criadas de forma semalhante as listas, porém compreendendo os elementos entre parêntesis ao invés de colchetes. Por exemplo:\n",
        "```python\n",
        "(1,3,4,'abe',2)\n",
        "```\n",
        "Diferentemente das listas, não se pode alterar, inserir ou remover elementos de uma tupla, ou seja, as tuplas são imutáveis. Os elementos de uma tupla podem ser acessados da mesma forma que os elementos de uma string ou lista, simplemente colocando entre colchetes (na frente do nome da tupla) o índice do elemento que ser quer recuperar."
      ]
    },
    {
      "cell_type": "code",
      "execution_count": null,
      "id": "3693bc77",
      "metadata": {
        "id": "3693bc77",
        "outputId": "3d0c867e-ccdf-4aa4-c51e-ac4ace3466bd"
      },
      "outputs": [
        {
          "name": "stdout",
          "output_type": "stream",
          "text": [
            "1\n",
            "3.4\n",
            "aba\n",
            "-1\n",
            "eletp\n"
          ]
        }
      ],
      "source": [
        "# Criando uma tupla com 5 elementos\n",
        "tp = (1,3.4,'aba',-1,'eletp')\n",
        "\n",
        "for e in range(len(tp)):\n",
        "    print(tp[e])"
      ]
    },
    {
      "cell_type": "markdown",
      "id": "1f5a4a37",
      "metadata": {
        "id": "1f5a4a37"
      },
      "source": [
        "Vamos criar uma lista com 10 elementos onde cada elemento da lista são tuplas formadas por dois números, sendo um o negativo do outro. Os números serão gerados aleatorimente no intervalo $[-1,1]$ por meio do método <font color='blue'> uniform </font> do pacote <font color='blue'> random </font>."
      ]
    },
    {
      "cell_type": "code",
      "execution_count": null,
      "id": "34eeea1d",
      "metadata": {
        "id": "34eeea1d",
        "outputId": "1d8a61a0-397b-45de-8f49-b97935cab8e9"
      },
      "outputs": [
        {
          "name": "stdout",
          "output_type": "stream",
          "text": [
            "[(-0.008368558487613864, 0.008368558487613864), (0.9664017853480009, -0.9664017853480009), (-0.563763604703849, 0.563763604703849), (-0.8527556485510375, 0.8527556485510375), (-0.005439645433865659, 0.005439645433865659), (-0.011735437264293935, 0.011735437264293935), (0.8545870430575437, -0.8545870430575437), (0.29351443602786187, -0.29351443602786187), (-0.8883304602942517, 0.8883304602942517), (0.0853062545442822, -0.0853062545442822)] \n",
            "\n",
            "(-0.008368558487613864, 0.008368558487613864)\n",
            "(0.9664017853480009, -0.9664017853480009)\n",
            "(-0.563763604703849, 0.563763604703849)\n",
            "(-0.8527556485510375, 0.8527556485510375)\n",
            "(-0.005439645433865659, 0.005439645433865659)\n",
            "(-0.011735437264293935, 0.011735437264293935)\n",
            "(0.8545870430575437, -0.8545870430575437)\n",
            "(0.29351443602786187, -0.29351443602786187)\n",
            "(-0.8883304602942517, 0.8883304602942517)\n",
            "(0.0853062545442822, -0.0853062545442822)\n"
          ]
        }
      ],
      "source": [
        "import random\n",
        "\n",
        "lst_tp = []\n",
        "for i in range(10):\n",
        "    x = random.uniform(-1,1)\n",
        "    lst_tp.append((x,-x))\n",
        "\n",
        "print(lst_tp,'\\n')\n",
        "for i in range(len(lst_tp)):\n",
        "    print(lst_tp[i])"
      ]
    }
  ],
  "metadata": {
    "kernelspec": {
      "display_name": "Python 3",
      "language": "python",
      "name": "python3"
    },
    "language_info": {
      "codemirror_mode": {
        "name": "ipython",
        "version": 3
      },
      "file_extension": ".py",
      "mimetype": "text/x-python",
      "name": "python",
      "nbconvert_exporter": "python",
      "pygments_lexer": "ipython3",
      "version": "3.8.8"
    },
    "colab": {
      "provenance": [],
      "include_colab_link": true
    }
  },
  "nbformat": 4,
  "nbformat_minor": 5
}