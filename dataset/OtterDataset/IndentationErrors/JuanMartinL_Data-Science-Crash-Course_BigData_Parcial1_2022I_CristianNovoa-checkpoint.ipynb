{
 "cells": [
  {
   "cell_type": "markdown",
   "id": "9e9ef2e9-d55c-4764-9835-97a96e2b0cce",
   "metadata": {},
   "source": [
    "# Fundación Universitaria Los Libertadores - Facultad de Ciencias Económicas, Administrativas y Contables\n",
    "\n",
    "&emsp; **Asignatura:** Big Data. <br>\n",
    "&emsp; **Profesor:** Juan Martín Londoño Zuluaga. <br>\n",
    "&emsp; **Período:** 2022-I.\n",
    "\n",
    "# Parcial 1: Introducción a Python"
   ]
  },
  {
   "cell_type": "markdown",
   "id": "df7a6e37-50e3-4693-ba1a-1929b7a390af",
   "metadata": {},
   "source": [
    "**Estudiante:** Cristhian Camilo Novoa."
   ]
  },
  {
   "cell_type": "markdown",
   "id": "8d845980-9a04-4bad-a949-c0aad9d2a89a",
   "metadata": {},
   "source": [
    "## 1. Calculadora de la edad de un perro"
   ]
  },
  {
   "cell_type": "markdown",
   "id": "2085ea9c-6c7b-42cd-953b-527570a6c34b",
   "metadata": {},
   "source": [
    "Construya una función `dog_age(x)` que reciba la edad de un perro y la convierta en edad de humano. Para este ejercicio, se define que la edad en humano de un perro es la edad del perro multiplicada por 7. Por ejemplo,\n",
    "\n",
    "> `dog_age(10) = 70`\n",
    "\n",
    "> `dog_age(2) = 14`\n",
    "\n",
    "> `dog_age(9) = 63`"
   ]
  },
  {
   "cell_type": "code",
   "execution_count": 56,
   "id": "e2b584a7-ca2e-46c5-ace1-b5f649a0aced",
   "metadata": {},
   "outputs": [
    {
     "data": {
      "text/plain": [
       "63"
      ]
     },
     "execution_count": 56,
     "metadata": {},
     "output_type": "execute_result"
    }
   ],
   "source": [
    "def dog_age(x):\n",
    "    x = x*7\n",
    "    return x\n",
    "    x = x*2\n",
    "    \n",
    "dog_age(9)"
   ]
  },
  {
   "cell_type": "markdown",
   "id": "1b3aa350-7a56-4905-a72f-813f256a29de",
   "metadata": {},
   "source": [
    "* **Calificación:** 1,25.\n",
    "* **Comentarios:** ¡muy bien!"
   ]
  },
  {
   "cell_type": "markdown",
   "id": "c700672f-733d-48f9-9737-ad0022717fe9",
   "metadata": {},
   "source": [
    "## 2. Suma de pares"
   ]
  },
  {
   "cell_type": "markdown",
   "id": "a2ed7bb1-6116-4092-89d3-390224a4cdb2",
   "metadata": {},
   "source": [
    "Construya una función `suma_pares()` que reciba un parámetro `n` y sume todos los pares hasta dicho número. En ese sentido, algunos ejemplos son los siguientes:\n",
    "\n",
    "> `suma_pares(10) = 30`\n",
    "\n",
    "> `suma_pares(2) = 2`\n",
    "\n",
    "> `suma_pares(5) = 6`\n"
   ]
  },
  {
   "cell_type": "code",
   "execution_count": 2,
   "id": "852bc833-3999-4ce5-8b60-92763a3d2477",
   "metadata": {},
   "outputs": [
    {
     "data": {
      "text/plain": [
       "11"
      ]
     },
     "execution_count": 2,
     "metadata": {},
     "output_type": "execute_result"
    }
   ],
   "source": [
    "def suma_pares(n):\n",
    "    for i in range (0, n+1):\n",
    "        if i % 2 ==0:\n",
    "            suma_pares = n + i\n",
    "            return suma_pares\n",
    "    n = suma_pares\n",
    "suma_pares(11)"
   ]
  },
  {
   "cell_type": "markdown",
   "id": "ccd952d7-be2b-4367-ad1b-cc05426728c1",
   "metadata": {},
   "source": [
    "* **Calificación:** 0,8.\n",
    "* **Comentarios:** ¡casi! Encuentro que tu algoritmo está bien, pero fallas en la ejecución al sumar `n` en la suma de pares. Lo que se debe sumar no es `n`, sino el resultado anterior. Por ello, es `suma_pares = suma_pares + i`, tal que también hubieras tenido que crear una variable con ese nombre antes. Sin embargo, te otorgo puntos por la ejecución que hiciste."
   ]
  },
  {
   "cell_type": "markdown",
   "id": "2b9f9d1a-1063-4e62-b7fb-9d328285c788",
   "metadata": {},
   "source": [
    "## 3. Diccionario familiar"
   ]
  },
  {
   "cell_type": "markdown",
   "id": "7b31b612-9060-4852-a8f8-c18b13f21b5b",
   "metadata": {},
   "source": [
    "Construya un diccionario con sus datos y dos familiares suyos en el que tenga, inicialmente, el nombre, el apellido y edad. Tenga en cuenta que las llaves deben ser \"nombre\", \"apellido\" y \"edad\"."
   ]
  },
  {
   "cell_type": "code",
   "execution_count": 3,
   "id": "a0f6a80a-391e-42f1-98d0-3d6ef8f7810a",
   "metadata": {},
   "outputs": [
    {
     "ename": "SyntaxError",
     "evalue": "invalid syntax (3437101398.py, line 1)",
     "output_type": "error",
     "traceback": [
      "\u001b[0;36m  File \u001b[0;32m\"/var/folders/4r/xsnzrxgj0139y6gdrvpmy5sh0000gn/T/ipykernel_17074/3437101398.py\"\u001b[0;36m, line \u001b[0;32m1\u001b[0m\n\u001b[0;31m    family_dic = {\"Sandra\", \"Novoa\", \"54\";\"Johan\",\"Buritica\",\"20\"}\u001b[0m\n\u001b[0m                                         ^\u001b[0m\n\u001b[0;31mSyntaxError\u001b[0m\u001b[0;31m:\u001b[0m invalid syntax\n"
     ]
    }
   ],
   "source": [
    "family_dic = {\"Sandra\", \"Novoa\", \"54\";\"Johan\",\"Buritica\",\"20\"}\n",
    "\n",
    "nombre = {1}\n",
    "apellido = {2}\n",
    "edad = {3}\n",
    "\n",
    "family_dic.nombre=(1)"
   ]
  },
  {
   "cell_type": "markdown",
   "id": "4b876ff5-4076-4648-801c-de8388c4f614",
   "metadata": {},
   "source": [
    "Ahora agréguele otra persona cualquiera de su familia, tal que quede con los datos guardados en el diccionario. En ese sentido, debe haber 4 personas ingresadas."
   ]
  },
  {
   "cell_type": "code",
   "execution_count": null,
   "id": "90c3f4e1-61fb-4b69-852b-f2cc4f3b2ce6",
   "metadata": {},
   "outputs": [],
   "source": []
  },
  {
   "cell_type": "markdown",
   "id": "d14410f3-53bd-4b3e-a818-84689d7efc4a",
   "metadata": {},
   "source": [
    "* **Calificación:** 0,0.\n",
    "* **Comentarios:** tanto el algoritmo como la ejecución están erróneos. Te recomiendo revisar el funcionamiento de estos elementos."
   ]
  },
  {
   "cell_type": "markdown",
   "id": "b2bcb9f0-7903-47f9-84ff-e8be2bc204f2",
   "metadata": {},
   "source": [
    "## 4. Juego de niños"
   ]
  },
  {
   "cell_type": "markdown",
   "id": "0792de69-e1b0-40bb-95e2-13ff4b8499d9",
   "metadata": {},
   "source": [
    "Construya una función `pum(x, n)` que reciba un número `x` y un número `n`, tal que imprima todos los números de 1 hasta `n` pero imprima \"pum\" cuando el número sea múltiplo de `x`. Por ejemplo,\n",
    "\n",
    "> `pum(x = 3, n = 10) = 1, 2, pum, 4, 5, pum, 7, 8, pum, 10.`\n",
    "\n",
    "> `pum(x = 5, n = 16) = 1, 2, 3, 4, pum, 6, 7, 8, 9, pum, 11, 12, 13, 14, pum, 16.`\n"
   ]
  },
  {
   "cell_type": "code",
   "execution_count": 4,
   "id": "5c8434e7-a0d3-4f69-9fd6-eb5488affa0e",
   "metadata": {},
   "outputs": [
    {
     "ename": "IndentationError",
     "evalue": "expected an indented block (892500556.py, line 6)",
     "output_type": "error",
     "traceback": [
      "\u001b[0;36m  File \u001b[0;32m\"/var/folders/4r/xsnzrxgj0139y6gdrvpmy5sh0000gn/T/ipykernel_17074/892500556.py\"\u001b[0;36m, line \u001b[0;32m6\u001b[0m\n\u001b[0;31m    def pum = x.split()\u001b[0m\n\u001b[0m    ^\u001b[0m\n\u001b[0;31mIndentationError\u001b[0m\u001b[0;31m:\u001b[0m expected an indented block\n"
     ]
    }
   ],
   "source": [
    "def pum(x, n):\n",
    "    x = 3\n",
    "    n = 10\n",
    "    for x in range (0, n):\n",
    "        if x % n == 0:\n",
    "        def pum = x.split()\n",
    "        n[2]= \"pum\"\n",
    "        \" \".join(x)"
   ]
  },
  {
   "cell_type": "markdown",
   "id": "7f2ee6cb-a1df-4683-97fd-1bbf23c4cc25",
   "metadata": {},
   "source": [
    "* **Calificación:** 0,2.\n",
    "* **Calificación:** tienes una idea desde el algoritmo, pero aún así sigue siendo insuficiente. Además, la ejecución demuestra que no se logró el objetivo. Varias recomendaciones:\n",
    "    - No puedes crear una función dentro de una función.\n",
    "    - Nunca actualices una variable _dentro_ de la función con un número fijo, porque puede ocurrir que solo te tome ese número y nunca cojas los que se le ingresan a la variable."
   ]
  },
  {
   "cell_type": "markdown",
   "id": "5fd834a5-b73e-44c0-a304-67034c848606",
   "metadata": {},
   "source": [
    "# Calificación: 2,3."
   ]
  }
 ],
 "metadata": {
  "kernelspec": {
   "display_name": "Python 3 (ipykernel)",
   "language": "python",
   "name": "python3"
  },
  "language_info": {
   "codemirror_mode": {
    "name": "ipython",
    "version": 3
   },
   "file_extension": ".py",
   "mimetype": "text/x-python",
   "name": "python",
   "nbconvert_exporter": "python",
   "pygments_lexer": "ipython3",
   "version": "3.10.2"
  }
 },
 "nbformat": 4,
 "nbformat_minor": 5
}
