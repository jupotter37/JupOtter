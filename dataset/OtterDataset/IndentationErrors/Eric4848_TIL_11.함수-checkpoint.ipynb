{
 "cells": [
  {
   "cell_type": "markdown",
   "id": "b502ee36",
   "metadata": {},
   "source": [
    "# 1. 함수"
   ]
  },
  {
   "cell_type": "markdown",
   "id": "42c5c922",
   "metadata": {},
   "source": [
    "# 1) 함수 선언"
   ]
  },
  {
   "cell_type": "code",
   "execution_count": 4,
   "id": "66ab6623",
   "metadata": {},
   "outputs": [
    {
     "name": "stdout",
     "output_type": "stream",
     "text": [
      "183\n"
     ]
    }
   ],
   "source": [
    "def add(a, b):\n",
    "    c = a + b\n",
    "    return(c)\n",
    "\n",
    "print(add(180, 3))"
   ]
  },
  {
   "cell_type": "markdown",
   "id": "ef4de79b",
   "metadata": {},
   "source": [
    "# 2) docstring"
   ]
  },
  {
   "cell_type": "code",
   "execution_count": 2,
   "id": "155875e7",
   "metadata": {},
   "outputs": [
    {
     "name": "stdout",
     "output_type": "stream",
     "text": [
      "540\n"
     ]
    }
   ],
   "source": [
    "def calsum(point, level):\n",
    "    \n",
    "    \"\"\"\n",
    "    총점에 난이도를 곱하는 함수\n",
    "    취득점 : point\n",
    "    난이도 : level\n",
    "    calsum = point * level\n",
    "    \"\"\"\n",
    "    \n",
    "    return(point*level)\n",
    "\n",
    "print(calsum(180, 3))"
   ]
  },
  {
   "cell_type": "code",
   "execution_count": 5,
   "id": "43b29fc1",
   "metadata": {},
   "outputs": [
    {
     "name": "stdout",
     "output_type": "stream",
     "text": [
      "Help on function calsum in module __main__:\n",
      "\n",
      "calsum(point, level)\n",
      "    기능 업데이트\n",
      "\n"
     ]
    }
   ],
   "source": [
    "# 함수 생성 후 추가하는 방법\n",
    "\n",
    "calsum.__doc__ = \"\"\"\n",
    "기능 업데이트\n",
    "\"\"\"\n",
    "\n",
    "help(calsum)"
   ]
  },
  {
   "cell_type": "markdown",
   "id": "fcd671f8",
   "metadata": {},
   "source": [
    "# 3) 인수값, 리턴값 유무에 따른 예제"
   ]
  },
  {
   "cell_type": "code",
   "execution_count": 12,
   "id": "f28ba4c0",
   "metadata": {},
   "outputs": [
    {
     "name": "stdout",
     "output_type": "stream",
     "text": [
      "3\n"
     ]
    }
   ],
   "source": [
    "#인수 o 리턴 o\n",
    "def add(a,b):\n",
    "    return(a+b)\n",
    "\n",
    "print(add(1,2))"
   ]
  },
  {
   "cell_type": "code",
   "execution_count": 13,
   "id": "048f10ca",
   "metadata": {},
   "outputs": [
    {
     "name": "stdout",
     "output_type": "stream",
     "text": [
      "3\n"
     ]
    }
   ],
   "source": [
    "#인수 o 리턴 x\n",
    "def addn(a,b):\n",
    "    print(a+b)\n",
    "\n",
    "addn(1,2)"
   ]
  },
  {
   "cell_type": "code",
   "execution_count": 16,
   "id": "41cc1f5a",
   "metadata": {},
   "outputs": [
    {
     "name": "stdout",
     "output_type": "stream",
     "text": [
      "A\n"
     ]
    }
   ],
   "source": [
    "#인수 x 리턴 o\n",
    "def grade_r():\n",
    "    return(\"A\")\n",
    "\n",
    "print(grade_r())"
   ]
  },
  {
   "cell_type": "code",
   "execution_count": 17,
   "id": "ac8ce613",
   "metadata": {},
   "outputs": [
    {
     "name": "stdout",
     "output_type": "stream",
     "text": [
      "A\n"
     ]
    }
   ],
   "source": [
    "#인수 x 리턴 x\n",
    "def grade_print():\n",
    "    print(\"A\")\n",
    "    \n",
    "grade_print()"
   ]
  },
  {
   "cell_type": "code",
   "execution_count": 23,
   "id": "95f86b32",
   "metadata": {},
   "outputs": [
    {
     "name": "stdout",
     "output_type": "stream",
     "text": [
      "<class 'tuple'>\n",
      "10 40\n"
     ]
    }
   ],
   "source": [
    "#리턴값이 여러개인 경우\n",
    "def swap(a,b):\n",
    "    return a*10, b*20\n",
    "\n",
    "print(type(swap(1,2)))\n",
    "a, b = swap(1,2)\n",
    "print(a, b)"
   ]
  },
  {
   "cell_type": "markdown",
   "id": "070f8cac",
   "metadata": {},
   "source": [
    "# 4) pass명령어"
   ]
  },
  {
   "cell_type": "code",
   "execution_count": 25,
   "id": "b73d23b9",
   "metadata": {},
   "outputs": [
    {
     "name": "stdout",
     "output_type": "stream",
     "text": [
      "나이를 입력하세요 : 3\n",
      "end\n"
     ]
    }
   ],
   "source": [
    "def add():\n",
    "    pass\n",
    "\n",
    "num = int(input(\"나이를 입력하세요 : \"))\n",
    "\n",
    "if num < 0:\n",
    "    pass\n",
    "else:\n",
    "    pass\n",
    "print(\"end\")"
   ]
  },
  {
   "cell_type": "markdown",
   "id": "44b1d253",
   "metadata": {},
   "source": [
    "# 2. 인수 형식 "
   ]
  },
  {
   "cell_type": "markdown",
   "id": "45111ac9",
   "metadata": {},
   "source": [
    "# 1) 인수의 기본값 "
   ]
  },
  {
   "cell_type": "code",
   "execution_count": 27,
   "id": "7d24fd5e",
   "metadata": {},
   "outputs": [
    {
     "name": "stdout",
     "output_type": "stream",
     "text": [
      "6\n"
     ]
    }
   ],
   "source": [
    "#함수 호출시 인수값을 전달하지 않을 경우 기본값 지정가능\n",
    "#기본값은 뒤에 있어야 한다\n",
    "\n",
    "def calsum(a, b=1, c=2):\n",
    "    return a+b+c\n",
    "\n",
    "print(calsum(3))"
   ]
  },
  {
   "cell_type": "markdown",
   "id": "4d41137b",
   "metadata": {},
   "source": [
    "# 2) 키워드 인수"
   ]
  },
  {
   "cell_type": "code",
   "execution_count": 29,
   "id": "69c224bf",
   "metadata": {},
   "outputs": [
    {
     "name": "stdout",
     "output_type": "stream",
     "text": [
      "0.5\n",
      "0.5\n",
      "0.5\n",
      "0.5\n"
     ]
    }
   ],
   "source": [
    "#함수 호출시 인수값을 전달하지 않을 경우 기본값 지정가능\n",
    "#기본값은 뒤에 있어야 한다\n",
    "\n",
    "def divide(a,b):\n",
    "    return a/b\n",
    "\n",
    "print(divide(1,2))\n",
    "print(divide(a=1,b=2))\n",
    "print(divide(b=2,a=1))\n",
    "print(divide(1,b=2))"
   ]
  },
  {
   "cell_type": "code",
   "execution_count": 30,
   "id": "df9081cc",
   "metadata": {},
   "outputs": [
    {
     "ename": "SyntaxError",
     "evalue": "positional argument follows keyword argument (2223961040.py, line 1)",
     "output_type": "error",
     "traceback": [
      "\u001b[1;36m  Cell \u001b[1;32mIn[30], line 1\u001b[1;36m\u001b[0m\n\u001b[1;33m    print(divide(b=2,1))\u001b[0m\n\u001b[1;37m                      ^\u001b[0m\n\u001b[1;31mSyntaxError\u001b[0m\u001b[1;31m:\u001b[0m positional argument follows keyword argument\n"
     ]
    }
   ],
   "source": [
    "print(divide(b=2,1))"
   ]
  },
  {
   "cell_type": "markdown",
   "id": "e35561a4",
   "metadata": {},
   "source": [
    "# 3) 가변 인수"
   ]
  },
  {
   "cell_type": "code",
   "execution_count": 1,
   "id": "ef0b475e",
   "metadata": {},
   "outputs": [
    {
     "name": "stdout",
     "output_type": "stream",
     "text": [
      "1\n",
      "3\n",
      "15\n",
      "<class 'tuple'>\n",
      "1\n",
      "<class 'tuple'>\n",
      "3\n",
      "<class 'tuple'>\n",
      "15\n"
     ]
    }
   ],
   "source": [
    "#받을 인수가 미정일 시 사용\n",
    "#튜플로 입력받아 for, in 등 사용 가능\n",
    "\n",
    "def calsum(*values):\n",
    "    sumvalue = 0\n",
    "    for value in values:\n",
    "        sumvalue += value\n",
    "    return sumvalue\n",
    "\n",
    "print(calsum(1))\n",
    "print(calsum(1,2))\n",
    "print(calsum(1,2,3,4,5))\n",
    "\n",
    "\n",
    "\n",
    "def calsum(num, *values):\n",
    "    sumvalue = 0\n",
    "    for value in values:\n",
    "        sumvalue += value\n",
    "    print(type(values))\n",
    "    return sumvalue + num\n",
    "\n",
    "print(calsum(1))\n",
    "print(calsum(1,2))\n",
    "print(calsum(1,2,3,4,5))"
   ]
  },
  {
   "cell_type": "markdown",
   "id": "f669cf22",
   "metadata": {},
   "source": [
    "# 4) 키워드 가변 인수"
   ]
  },
  {
   "cell_type": "code",
   "execution_count": 2,
   "id": "448c496f",
   "metadata": {},
   "outputs": [
    {
     "name": "stdout",
     "output_type": "stream",
     "text": [
      "{'a': 1, 'b': 2, 'c': 3}\n",
      "<class 'dict'>\n",
      "('a', 1)\n",
      "('b', 2)\n",
      "('c', 3)\n",
      "a 1\n",
      "b 2\n",
      "c 3\n"
     ]
    }
   ],
   "source": [
    "#여러 개의 키워드 인수 전달 시 인수 이름(key)과 값을 쌍으로 dic형식으로 전달\n",
    "#인수 하나로 여러개의 키워드와 이름을 받을 수 있음\n",
    "#위치->키워드->키워드 가변 인수 순으로 작성\n",
    "\n",
    "def func_a(**dica):\n",
    "    print(dica)\n",
    "    print(type(dica))\n",
    "    \n",
    "    for value in dica.items():\n",
    "        print(value)\n",
    "        \n",
    "    for k,v in dica.items():\n",
    "        print(k,v)\n",
    "        \n",
    "        \n",
    "    \n",
    "func_a(a=1, b=2, c=3)"
   ]
  },
  {
   "cell_type": "markdown",
   "id": "0a210af4",
   "metadata": {},
   "source": [
    "# 2. 변수의 범위"
   ]
  },
  {
   "cell_type": "markdown",
   "id": "2d4cb902",
   "metadata": {},
   "source": [
    "# 1) 지역 변수"
   ]
  },
  {
   "cell_type": "code",
   "execution_count": 57,
   "id": "f4d9044d",
   "metadata": {},
   "outputs": [
    {
     "name": "stdout",
     "output_type": "stream",
     "text": [
      "2\n",
      "1\n"
     ]
    }
   ],
   "source": [
    "a = 1\n",
    "\n",
    "def func_var(a):\n",
    "    a += 1\n",
    "    print(a)\n",
    "    \n",
    "func_var(a)\n",
    "print(a)"
   ]
  },
  {
   "cell_type": "markdown",
   "id": "c2b73d96",
   "metadata": {},
   "source": [
    "# 2) 전역 변수"
   ]
  },
  {
   "cell_type": "code",
   "execution_count": 56,
   "id": "d5a01e29",
   "metadata": {},
   "outputs": [
    {
     "name": "stdout",
     "output_type": "stream",
     "text": [
      "200\n",
      "200\n"
     ]
    }
   ],
   "source": [
    "point = 100\n",
    "\n",
    "def calsum():\n",
    "    global point\n",
    "    \n",
    "    point = point + 100\n",
    "    print(point)\n",
    "    \n",
    "calsum()\n",
    "print(point)"
   ]
  },
  {
   "cell_type": "markdown",
   "id": "2ccd9cfb",
   "metadata": {},
   "source": [
    "# 4. 내장함수"
   ]
  },
  {
   "cell_type": "code",
   "execution_count": 60,
   "id": "d7def4a7",
   "metadata": {},
   "outputs": [
    {
     "data": {
      "text/plain": [
       "['ArithmeticError',\n",
       " 'AssertionError',\n",
       " 'AttributeError',\n",
       " 'BaseException',\n",
       " 'BlockingIOError',\n",
       " 'BrokenPipeError',\n",
       " 'BufferError',\n",
       " 'BytesWarning',\n",
       " 'ChildProcessError',\n",
       " 'ConnectionAbortedError',\n",
       " 'ConnectionError',\n",
       " 'ConnectionRefusedError',\n",
       " 'ConnectionResetError',\n",
       " 'DeprecationWarning',\n",
       " 'EOFError',\n",
       " 'Ellipsis',\n",
       " 'EncodingWarning',\n",
       " 'EnvironmentError',\n",
       " 'Exception',\n",
       " 'False',\n",
       " 'FileExistsError',\n",
       " 'FileNotFoundError',\n",
       " 'FloatingPointError',\n",
       " 'FutureWarning',\n",
       " 'GeneratorExit',\n",
       " 'IOError',\n",
       " 'ImportError',\n",
       " 'ImportWarning',\n",
       " 'IndentationError',\n",
       " 'IndexError',\n",
       " 'InterruptedError',\n",
       " 'IsADirectoryError',\n",
       " 'KeyError',\n",
       " 'KeyboardInterrupt',\n",
       " 'LookupError',\n",
       " 'MemoryError',\n",
       " 'ModuleNotFoundError',\n",
       " 'NameError',\n",
       " 'None',\n",
       " 'NotADirectoryError',\n",
       " 'NotImplemented',\n",
       " 'NotImplementedError',\n",
       " 'OSError',\n",
       " 'OverflowError',\n",
       " 'PendingDeprecationWarning',\n",
       " 'PermissionError',\n",
       " 'ProcessLookupError',\n",
       " 'RecursionError',\n",
       " 'ReferenceError',\n",
       " 'ResourceWarning',\n",
       " 'RuntimeError',\n",
       " 'RuntimeWarning',\n",
       " 'StopAsyncIteration',\n",
       " 'StopIteration',\n",
       " 'SyntaxError',\n",
       " 'SyntaxWarning',\n",
       " 'SystemError',\n",
       " 'SystemExit',\n",
       " 'TabError',\n",
       " 'TimeoutError',\n",
       " 'True',\n",
       " 'TypeError',\n",
       " 'UnboundLocalError',\n",
       " 'UnicodeDecodeError',\n",
       " 'UnicodeEncodeError',\n",
       " 'UnicodeError',\n",
       " 'UnicodeTranslateError',\n",
       " 'UnicodeWarning',\n",
       " 'UserWarning',\n",
       " 'ValueError',\n",
       " 'Warning',\n",
       " 'WindowsError',\n",
       " 'ZeroDivisionError',\n",
       " '__IPYTHON__',\n",
       " '__build_class__',\n",
       " '__debug__',\n",
       " '__doc__',\n",
       " '__import__',\n",
       " '__loader__',\n",
       " '__name__',\n",
       " '__package__',\n",
       " '__spec__',\n",
       " 'abs',\n",
       " 'aiter',\n",
       " 'all',\n",
       " 'anext',\n",
       " 'any',\n",
       " 'ascii',\n",
       " 'bin',\n",
       " 'bool',\n",
       " 'breakpoint',\n",
       " 'bytearray',\n",
       " 'bytes',\n",
       " 'callable',\n",
       " 'chr',\n",
       " 'classmethod',\n",
       " 'compile',\n",
       " 'complex',\n",
       " 'copyright',\n",
       " 'credits',\n",
       " 'delattr',\n",
       " 'dict',\n",
       " 'dir',\n",
       " 'display',\n",
       " 'divmod',\n",
       " 'enumerate',\n",
       " 'eval',\n",
       " 'exec',\n",
       " 'execfile',\n",
       " 'filter',\n",
       " 'float',\n",
       " 'format',\n",
       " 'frozenset',\n",
       " 'get_ipython',\n",
       " 'getattr',\n",
       " 'globals',\n",
       " 'hasattr',\n",
       " 'hash',\n",
       " 'help',\n",
       " 'hex',\n",
       " 'id',\n",
       " 'input',\n",
       " 'int',\n",
       " 'isinstance',\n",
       " 'issubclass',\n",
       " 'iter',\n",
       " 'len',\n",
       " 'license',\n",
       " 'list',\n",
       " 'locals',\n",
       " 'map',\n",
       " 'max',\n",
       " 'memoryview',\n",
       " 'min',\n",
       " 'next',\n",
       " 'object',\n",
       " 'oct',\n",
       " 'open',\n",
       " 'ord',\n",
       " 'pow',\n",
       " 'print',\n",
       " 'property',\n",
       " 'range',\n",
       " 'repr',\n",
       " 'reversed',\n",
       " 'round',\n",
       " 'runfile',\n",
       " 'set',\n",
       " 'setattr',\n",
       " 'slice',\n",
       " 'sorted',\n",
       " 'staticmethod',\n",
       " 'str',\n",
       " 'sum',\n",
       " 'super',\n",
       " 'tuple',\n",
       " 'type',\n",
       " 'vars',\n",
       " 'zip']"
      ]
     },
     "execution_count": 60,
     "metadata": {},
     "output_type": "execute_result"
    }
   ],
   "source": [
    "dir(__builtins__)"
   ]
  }
 ],
 "metadata": {
  "kernelspec": {
   "display_name": "Python 3 (ipykernel)",
   "language": "python",
   "name": "python3"
  },
  "language_info": {
   "codemirror_mode": {
    "name": "ipython",
    "version": 3
   },
   "file_extension": ".py",
   "mimetype": "text/x-python",
   "name": "python",
   "nbconvert_exporter": "python",
   "pygments_lexer": "ipython3",
   "version": "3.10.6"
  }
 },
 "nbformat": 4,
 "nbformat_minor": 5
}
