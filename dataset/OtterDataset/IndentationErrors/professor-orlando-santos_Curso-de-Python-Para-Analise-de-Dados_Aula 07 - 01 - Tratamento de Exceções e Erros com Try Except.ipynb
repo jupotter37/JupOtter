{
 "cells": [
  {
   "cell_type": "markdown",
   "metadata": {
    "id": "uGqJJfZ36iR6"
   },
   "source": [
    "# 01 - Introdução à Linguagem Python\n",
    "## Aula 07 - 01 - Tratamento de Exceções e Erros com Try Except"
   ]
  },
  {
   "cell_type": "markdown",
   "metadata": {
    "id": "JNifjo59P9mf"
   },
   "source": [
    "## Professor: Orlando Oliveira dos Santos, MsC.\n",
    " - E-mail: professor.orlando.santos@gmail.com \n",
    " - Youtube :https://www.youtube.com/channel/UCPWWbkPWFmOjXH50TQWNAYg\n",
    " - Linkedin: https://linkedin.com/in/orlandoosantos\n",
    " - Facebook: https://www.facebook.com/proforlandosantosmsc/\n",
    " - Twitter: https://twitter.com/ProfOrlandoMsC\n",
    " - Instagram: https://www.instagram.com/proforlandosantosmsc/\n",
    "\n",
    "\n",
    "\n",
    "## Formação Acadêmica\n",
    "- Mestrado em Computação Aplicada - UnB (2014 – 2016)\t\n",
    "- MBA, Administração Estratégica de Sistemas de Informação – FGV (2011 – 2013)\n",
    "- Tecnólogo em Processamento de Dados, Análise e Desenvolvimento de Sistemas – FAETEC/SP (2000-2002)"
   ]
  },
  {
   "cell_type": "markdown",
   "metadata": {
    "id": "SZxTBevIDZg6"
   },
   "source": [
    "# Tratamento de Excessões e Erros com Try Except"
   ]
  },
  {
   "cell_type": "markdown",
   "metadata": {
    "id": "yBxGou4kN-bh"
   },
   "source": [
    "O try testa um bloco de código para verificar ocorrencias de erros.\n",
    "\n",
    "O except permite definir como tratar o erro.\n",
    "\n",
    "O finally executa ao final do bloco try except.\n",
    "\n"
   ]
  },
  {
   "cell_type": "code",
   "execution_count": 1,
   "metadata": {
    "id": "-uIQDcmbS_BZ"
   },
   "outputs": [],
   "source": [
    "nome_pessoa = 'Jose'"
   ]
  },
  {
   "cell_type": "code",
   "execution_count": 2,
   "metadata": {
    "colab": {
     "base_uri": "https://localhost:8080/"
    },
    "executionInfo": {
     "elapsed": 687,
     "status": "ok",
     "timestamp": 1604963808378,
     "user": {
      "displayName": "Orlando O. S.",
      "photoUrl": "https://lh3.googleusercontent.com/a-/AOh14Gj-E1yuy1M_3ruwN4TWYPK4BwysauSW7GQmHheS=s64",
      "userId": "15066502291703974467"
     },
     "user_tz": 180
    },
    "id": "Qvep_6okEWww",
    "outputId": "65852eb4-37ed-4089-a6bf-4690637219b2"
   },
   "outputs": [
    {
     "name": "stdout",
     "output_type": "stream",
     "text": [
      "Jose\n"
     ]
    }
   ],
   "source": [
    "print(nome_pessoa)"
   ]
  },
  {
   "cell_type": "code",
   "execution_count": 3,
   "metadata": {
    "id": "XW2YLcPuTIFH"
   },
   "outputs": [],
   "source": [
    "del nome_pessoa"
   ]
  },
  {
   "cell_type": "code",
   "execution_count": 4,
   "metadata": {
    "colab": {
     "base_uri": "https://localhost:8080/",
     "height": 165
    },
    "executionInfo": {
     "elapsed": 676,
     "status": "error",
     "timestamp": 1604963842314,
     "user": {
      "displayName": "Orlando O. S.",
      "photoUrl": "https://lh3.googleusercontent.com/a-/AOh14Gj-E1yuy1M_3ruwN4TWYPK4BwysauSW7GQmHheS=s64",
      "userId": "15066502291703974467"
     },
     "user_tz": 180
    },
    "id": "MeQwsg1ZTEk2",
    "outputId": "26d871a0-0b9f-440f-d411-f201f9a6fbbf"
   },
   "outputs": [
    {
     "ename": "NameError",
     "evalue": "name 'nome_pessoa' is not defined",
     "output_type": "error",
     "traceback": [
      "\u001b[1;31m---------------------------------------------------------------------------\u001b[0m",
      "\u001b[1;31mNameError\u001b[0m                                 Traceback (most recent call last)",
      "\u001b[1;32m<ipython-input-4-8fbc07d5cae3>\u001b[0m in \u001b[0;36m<module>\u001b[1;34m\u001b[0m\n\u001b[1;32m----> 1\u001b[1;33m \u001b[0mprint\u001b[0m\u001b[1;33m(\u001b[0m\u001b[0mnome_pessoa\u001b[0m\u001b[1;33m)\u001b[0m\u001b[1;33m\u001b[0m\u001b[1;33m\u001b[0m\u001b[0m\n\u001b[0m",
      "\u001b[1;31mNameError\u001b[0m: name 'nome_pessoa' is not defined"
     ]
    }
   ],
   "source": [
    "print(nome_pessoa)"
   ]
  },
  {
   "cell_type": "markdown",
   "metadata": {
    "id": "-a3JGHYHEgrQ"
   },
   "source": [
    "Com o uso de try é possivel capturar o erro  e o bloco except será executado.\n",
    "Sem isso programa poderá parar de funcionar."
   ]
  },
  {
   "cell_type": "code",
   "execution_count": 5,
   "metadata": {
    "colab": {
     "base_uri": "https://localhost:8080/"
    },
    "executionInfo": {
     "elapsed": 684,
     "status": "ok",
     "timestamp": 1604964015257,
     "user": {
      "displayName": "Orlando O. S.",
      "photoUrl": "https://lh3.googleusercontent.com/a-/AOh14Gj-E1yuy1M_3ruwN4TWYPK4BwysauSW7GQmHheS=s64",
      "userId": "15066502291703974467"
     },
     "user_tz": 180
    },
    "id": "vGbq9yKmN-bh",
    "outputId": "1775376c-62a0-496d-f73e-09d49022c23f"
   },
   "outputs": [
    {
     "name": "stdout",
     "output_type": "stream",
     "text": [
      "Ocorreu um erro. A variável não existe!\n"
     ]
    }
   ],
   "source": [
    "try:\n",
    "  print(nome_pessoa)\n",
    "except:\n",
    "  print(\"Ocorreu um erro. A variável não existe!\")"
   ]
  },
  {
   "cell_type": "code",
   "execution_count": 6,
   "metadata": {
    "colab": {
     "base_uri": "https://localhost:8080/"
    },
    "executionInfo": {
     "elapsed": 711,
     "status": "ok",
     "timestamp": 1604964218824,
     "user": {
      "displayName": "Orlando O. S.",
      "photoUrl": "https://lh3.googleusercontent.com/a-/AOh14Gj-E1yuy1M_3ruwN4TWYPK4BwysauSW7GQmHheS=s64",
      "userId": "15066502291703974467"
     },
     "user_tz": 180
    },
    "id": "U52MAYI9UOLf",
    "outputId": "ab8bc897-d22b-4522-f062-b3e6205d7702"
   },
   "outputs": [
    {
     "name": "stdout",
     "output_type": "stream",
     "text": [
      "0.0\n"
     ]
    }
   ],
   "source": [
    "valor = '123g45'\n",
    "try:\n",
    "  valor =  float(valor)\n",
    "except:\n",
    "  valor =  0.00\n",
    "\n",
    "print(valor)  "
   ]
  },
  {
   "cell_type": "markdown",
   "metadata": {
    "id": "MjQydwg-N-bm"
   },
   "source": [
    "#Capturando várias exceções\n",
    "O bloco except pode ser usado para capiturar vários tipos de exceção:"
   ]
  },
  {
   "cell_type": "code",
   "execution_count": 7,
   "metadata": {
    "colab": {
     "base_uri": "https://localhost:8080/"
    },
    "executionInfo": {
     "elapsed": 699,
     "status": "ok",
     "timestamp": 1604964263594,
     "user": {
      "displayName": "Orlando O. S.",
      "photoUrl": "https://lh3.googleusercontent.com/a-/AOh14Gj-E1yuy1M_3ruwN4TWYPK4BwysauSW7GQmHheS=s64",
      "userId": "15066502291703974467"
     },
     "user_tz": 180
    },
    "id": "RvQSeZw5N-bm",
    "outputId": "291a9f19-de0b-4b4a-ee71-e6661714b0db"
   },
   "outputs": [
    {
     "name": "stdout",
     "output_type": "stream",
     "text": [
      "A variável nome_pessoa não existe\n"
     ]
    }
   ],
   "source": [
    "try:\n",
    "  print(nome_pessoa)\n",
    "except NameError:\n",
    "  print(\"A variável nome_pessoa não existe\")\n",
    "except ZeroDivisionError:\n",
    "  print(\"Erro de divisão por zero\")\n",
    "except:\n",
    "  print(\"Algo deu errado!\")"
   ]
  },
  {
   "cell_type": "code",
   "execution_count": 8,
   "metadata": {
    "colab": {
     "base_uri": "https://localhost:8080/",
     "height": 165
    },
    "executionInfo": {
     "elapsed": 726,
     "status": "error",
     "timestamp": 1604964325672,
     "user": {
      "displayName": "Orlando O. S.",
      "photoUrl": "https://lh3.googleusercontent.com/a-/AOh14Gj-E1yuy1M_3ruwN4TWYPK4BwysauSW7GQmHheS=s64",
      "userId": "15066502291703974467"
     },
     "user_tz": 180
    },
    "id": "xu-D5uI8VBAQ",
    "outputId": "38a8742f-3f1c-4db4-a040-811f9cd080de"
   },
   "outputs": [
    {
     "ename": "ZeroDivisionError",
     "evalue": "division by zero",
     "output_type": "error",
     "traceback": [
      "\u001b[1;31m---------------------------------------------------------------------------\u001b[0m",
      "\u001b[1;31mZeroDivisionError\u001b[0m                         Traceback (most recent call last)",
      "\u001b[1;32m<ipython-input-8-fe01563e1bc6>\u001b[0m in \u001b[0;36m<module>\u001b[1;34m\u001b[0m\n\u001b[1;32m----> 1\u001b[1;33m \u001b[0mprint\u001b[0m\u001b[1;33m(\u001b[0m\u001b[1;36m10\u001b[0m\u001b[1;33m/\u001b[0m\u001b[1;36m0\u001b[0m\u001b[1;33m)\u001b[0m\u001b[1;33m\u001b[0m\u001b[1;33m\u001b[0m\u001b[0m\n\u001b[0m",
      "\u001b[1;31mZeroDivisionError\u001b[0m: division by zero"
     ]
    }
   ],
   "source": [
    "print(10/0)"
   ]
  },
  {
   "cell_type": "code",
   "execution_count": 9,
   "metadata": {
    "colab": {
     "base_uri": "https://localhost:8080/"
    },
    "executionInfo": {
     "elapsed": 815,
     "status": "ok",
     "timestamp": 1604964303085,
     "user": {
      "displayName": "Orlando O. S.",
      "photoUrl": "https://lh3.googleusercontent.com/a-/AOh14Gj-E1yuy1M_3ruwN4TWYPK4BwysauSW7GQmHheS=s64",
      "userId": "15066502291703974467"
     },
     "user_tz": 180
    },
    "id": "hk7yV1m4FwWq",
    "outputId": "598a011b-1276-4ec0-ac50-9d6cd7334fcb"
   },
   "outputs": [
    {
     "name": "stdout",
     "output_type": "stream",
     "text": [
      "Erro de divisão por zero\n"
     ]
    }
   ],
   "source": [
    "try:\n",
    "  print(10/0)\n",
    "except NameError:\n",
    "  print(\"A variável nome_pessoa não existe\")\n",
    "except ZeroDivisionError:\n",
    "  print(\"Erro de divisão por zero\")\n",
    "except:\n",
    "  print(\"Algo deu errado!\")"
   ]
  },
  {
   "cell_type": "code",
   "execution_count": 10,
   "metadata": {
    "colab": {
     "base_uri": "https://localhost:8080/"
    },
    "executionInfo": {
     "elapsed": 679,
     "status": "ok",
     "timestamp": 1604964366104,
     "user": {
      "displayName": "Orlando O. S.",
      "photoUrl": "https://lh3.googleusercontent.com/a-/AOh14Gj-E1yuy1M_3ruwN4TWYPK4BwysauSW7GQmHheS=s64",
      "userId": "15066502291703974467"
     },
     "user_tz": 180
    },
    "id": "ZXDRma6EF0Dm",
    "outputId": "6f3d422c-3b9c-4880-d773-1b5e18b0a1ba"
   },
   "outputs": [
    {
     "name": "stdout",
     "output_type": "stream",
     "text": [
      "Algo deu errado!\n"
     ]
    }
   ],
   "source": [
    "try:\n",
    "  print('abc'[10])\n",
    "except NameError:\n",
    "  print(\"A variável nome_pessoa não existe\")\n",
    "except ZeroDivisionError:\n",
    "  print(\"Erro de divisão por zero\")\n",
    "except:\n",
    "  print(\"Algo deu errado!\")"
   ]
  },
  {
   "cell_type": "markdown",
   "metadata": {
    "id": "LFgASKnuPfk1"
   },
   "source": [
    "## Tipos de exceção do Python\n",
    "- ArithmeticError : Gerado quando ocorre um erro nos cálculos numéricos;\n",
    "- AssertionError : Gerado quando uma instrução assert falha;\n",
    "- AttributeError : Gerado quando a referência ou atribuição de atributo falha;\n",
    "- Exception : Classe base para todas as exceções;\n",
    "- EOFError : Gerado quando o método input () atinge uma condição de \"fim de arquivo\" (EOF);\n",
    "- FloatingPointError : Gerado quando um cálculo de ponto flutuante falha;\n",
    "- GeneratorExit : Gerado quando um gerador é fechado (com o método close ());\n",
    "- ImportError : Gerado quando um módulo importado não existe;\n",
    "- IndentationError : Gerado quando o recuo não está correto;\n",
    "- IndexError : Gerado quando um índice de uma sequência não existe;\n",
    "- KeyError : Gerado quando uma chave não existe em um dicionário;\n",
    "- KeyboardInterrupt : Gerado quando o usuário pressiona Ctrl + c, Ctrl + z ou Delete;\n",
    "- LookupError : Gerado quando os erros levantados não podem ser encontrados;\n",
    "- MemoryError : Gerado quando um programa fica sem memória;\n",
    "- NameError : Gerado quando uma variável não existe;\n",
    "- NotImplementedError : Gerado quando um método abstrato requer uma classe herdada para substituir o método;\n",
    "- OSError : Gerado quando uma operação relacionada ao sistema causa um erro;\n",
    "- OverflowError : Gerado quando o resultado de um cálculo numérico é muito grande;\n",
    "- ReferenceError : Gerado quando um objeto de referência fraca não existe;\n",
    "- RuntimeError : Gerado quando ocorre um erro que não pertence a nenhuma expectativa específica;\n",
    "- StopIteration : Gerado quando o método next () de um iterador não tem mais valores;\n",
    "- SyntaxError : Gerado quando ocorre um erro de sintaxe;\n",
    "- TabError : Gerado quando o recuo consiste em tabulações ou espaços;\n",
    "- SystemError : Gerado quando ocorre um erro do sistema;\n",
    "- SystemExit : Gerado quando a função sys.exit () é chamada;\n",
    "- TypeError : Gerado quando dois tipos diferentes são combinados;\n",
    "- UnboundLocalError : Gerado quando uma variável local é referenciada antes da atribuição;\n",
    "- UnicodeError : Gerado quando ocorre um problema de Unicode;\n",
    "- UnicodeEncodeError : Gerado quando ocorre um problema de codificação Unicode;\n",
    "- UnicodeDecodeError : Gerado quando ocorre um problema de decodificação Unicode;\n",
    "- UnicodeTranslateError : Gerado quando ocorre um problema de tradução de Unicode;\n",
    "- ValueError : Gerado quando há um valor errado em um tipo de dados especificado;\n",
    "- ZeroDivisionError : Gerado quando o segundo operador em uma divisão é zero;"
   ]
  },
  {
   "cell_type": "markdown",
   "metadata": {
    "id": "lyECS6-eN-bp"
   },
   "source": [
    "## Bloco else\n",
    "Define um bloco de código a ser executado se nenhum erro for gerado:"
   ]
  },
  {
   "cell_type": "code",
   "execution_count": 11,
   "metadata": {
    "id": "govbej5UN-bp"
   },
   "outputs": [
    {
     "name": "stdout",
     "output_type": "stream",
     "text": [
      "Boa noite alunos\n",
      "Deu tudo certo\n"
     ]
    }
   ],
   "source": [
    "try:\n",
    "  print(\"Boa noite alunos\")\n",
    "except:\n",
    "  print(\"Ocorreu um erro aqui\")\n",
    "else:\n",
    "  print(\"Deu tudo certo\")"
   ]
  },
  {
   "cell_type": "markdown",
   "metadata": {
    "id": "m_LNQJgaN-br"
   },
   "source": [
    "##O bloco finally\n",
    "Sempre será executado mesmo que não ocorra nenhum erro.  Sempre será executado.\n",
    "Utilizado para  fechar objetos e limpar recursos."
   ]
  },
  {
   "cell_type": "code",
   "execution_count": 12,
   "metadata": {
    "colab": {
     "base_uri": "https://localhost:8080/"
    },
    "executionInfo": {
     "elapsed": 798,
     "status": "ok",
     "timestamp": 1604964564869,
     "user": {
      "displayName": "Orlando O. S.",
      "photoUrl": "https://lh3.googleusercontent.com/a-/AOh14Gj-E1yuy1M_3ruwN4TWYPK4BwysauSW7GQmHheS=s64",
      "userId": "15066502291703974467"
     },
     "user_tz": 180
    },
    "id": "k3M5bW62N-br",
    "outputId": "9b379157-934f-4c17-ba4e-1aceaae79d54"
   },
   "outputs": [
    {
     "name": "stdout",
     "output_type": "stream",
     "text": [
      "Boa noite alunos\n",
      "Deu tudo certo\n",
      "Finalmente\n"
     ]
    }
   ],
   "source": [
    "try:\n",
    "  print(\"Boa noite alunos\")\n",
    "except:\n",
    "  print(\"Ocorreu um erro aqui\")\n",
    "else:\n",
    "  print(\"Deu tudo certo\")\n",
    "finally:\n",
    "  print(\"Finalmente\")"
   ]
  },
  {
   "cell_type": "code",
   "execution_count": 13,
   "metadata": {
    "colab": {
     "base_uri": "https://localhost:8080/"
    },
    "executionInfo": {
     "elapsed": 707,
     "status": "ok",
     "timestamp": 1604964589516,
     "user": {
      "displayName": "Orlando O. S.",
      "photoUrl": "https://lh3.googleusercontent.com/a-/AOh14Gj-E1yuy1M_3ruwN4TWYPK4BwysauSW7GQmHheS=s64",
      "userId": "15066502291703974467"
     },
     "user_tz": 180
    },
    "id": "I5YhdV7-HMMH",
    "outputId": "5602ecbc-4535-473a-9d35-5677a4c043c6"
   },
   "outputs": [
    {
     "name": "stdout",
     "output_type": "stream",
     "text": [
      "Ocorreu um erro aqui\n",
      "Finalmente\n"
     ]
    }
   ],
   "source": [
    "try:\n",
    "  print(abc)\n",
    "except:\n",
    "  print(\"Ocorreu um erro aqui\")\n",
    "else:\n",
    "  print(\"Deu tudo certo\")\n",
    "finally:\n",
    "  print(\"Finalmente\")"
   ]
  },
  {
   "cell_type": "markdown",
   "metadata": {
    "id": "aceknXB-N-bx"
   },
   "source": [
    "# Levantar uma exceção\n",
    "A a palavra-chave raise pode ser usado para provocar uma exceção caso alguma "
   ]
  },
  {
   "cell_type": "code",
   "execution_count": 14,
   "metadata": {
    "colab": {
     "base_uri": "https://localhost:8080/",
     "height": 200
    },
    "executionInfo": {
     "elapsed": 632,
     "status": "error",
     "timestamp": 1604964690045,
     "user": {
      "displayName": "Orlando O. S.",
      "photoUrl": "https://lh3.googleusercontent.com/a-/AOh14Gj-E1yuy1M_3ruwN4TWYPK4BwysauSW7GQmHheS=s64",
      "userId": "15066502291703974467"
     },
     "user_tz": 180
    },
    "id": "Tg1xoC9QN-by",
    "outputId": "cd81cc98-5bb6-4cd6-d161-242b1829fe6b"
   },
   "outputs": [
    {
     "ename": "Exception",
     "evalue": "A lista não pode ser vazia!",
     "output_type": "error",
     "traceback": [
      "\u001b[1;31m---------------------------------------------------------------------------\u001b[0m",
      "\u001b[1;31mException\u001b[0m                                 Traceback (most recent call last)",
      "\u001b[1;32m<ipython-input-14-0b66942bd6b1>\u001b[0m in \u001b[0;36m<module>\u001b[1;34m\u001b[0m\n\u001b[0;32m      1\u001b[0m \u001b[0mlista\u001b[0m \u001b[1;33m=\u001b[0m \u001b[1;33m[\u001b[0m\u001b[1;33m]\u001b[0m\u001b[1;33m\u001b[0m\u001b[1;33m\u001b[0m\u001b[0m\n\u001b[0;32m      2\u001b[0m \u001b[1;32mif\u001b[0m \u001b[1;32mnot\u001b[0m \u001b[0mlista\u001b[0m\u001b[1;33m:\u001b[0m\u001b[1;33m\u001b[0m\u001b[1;33m\u001b[0m\u001b[0m\n\u001b[1;32m----> 3\u001b[1;33m   \u001b[1;32mraise\u001b[0m \u001b[0mException\u001b[0m\u001b[1;33m(\u001b[0m\u001b[1;34m\"A lista não pode ser vazia!\"\u001b[0m\u001b[1;33m)\u001b[0m\u001b[1;33m\u001b[0m\u001b[1;33m\u001b[0m\u001b[0m\n\u001b[0m",
      "\u001b[1;31mException\u001b[0m: A lista não pode ser vazia!"
     ]
    }
   ],
   "source": [
    "lista = []\n",
    "if not lista:\n",
    "  raise Exception(\"A lista não pode ser vazia!\")"
   ]
  },
  {
   "cell_type": "markdown",
   "metadata": {
    "id": "jxsTn9hZIWe7"
   },
   "source": [
    "Pode-se escolher qual tipo de exceção deve ser levantada"
   ]
  },
  {
   "cell_type": "code",
   "execution_count": 15,
   "metadata": {
    "colab": {
     "base_uri": "https://localhost:8080/",
     "height": 200
    },
    "executionInfo": {
     "elapsed": 701,
     "status": "error",
     "timestamp": 1604964716499,
     "user": {
      "displayName": "Orlando O. S.",
      "photoUrl": "https://lh3.googleusercontent.com/a-/AOh14Gj-E1yuy1M_3ruwN4TWYPK4BwysauSW7GQmHheS=s64",
      "userId": "15066502291703974467"
     },
     "user_tz": 180
    },
    "id": "CARMb-LhN-b0",
    "outputId": "6074bad6-6ac3-4b97-aad6-5235bd56bdbe"
   },
   "outputs": [
    {
     "ename": "TypeError",
     "evalue": "Apenas valores do tipo float podem ser usados",
     "output_type": "error",
     "traceback": [
      "\u001b[1;31m---------------------------------------------------------------------------\u001b[0m",
      "\u001b[1;31mTypeError\u001b[0m                                 Traceback (most recent call last)",
      "\u001b[1;32m<ipython-input-15-5da1f0c5a8b2>\u001b[0m in \u001b[0;36m<module>\u001b[1;34m\u001b[0m\n\u001b[0;32m      1\u001b[0m \u001b[0msalario\u001b[0m \u001b[1;33m=\u001b[0m \u001b[1;32mNone\u001b[0m\u001b[1;33m\u001b[0m\u001b[1;33m\u001b[0m\u001b[0m\n\u001b[0;32m      2\u001b[0m \u001b[1;32mif\u001b[0m \u001b[1;32mnot\u001b[0m \u001b[0mtype\u001b[0m\u001b[1;33m(\u001b[0m\u001b[0msalario\u001b[0m\u001b[1;33m)\u001b[0m \u001b[1;32mis\u001b[0m \u001b[0mfloat\u001b[0m\u001b[1;33m:\u001b[0m\u001b[1;33m\u001b[0m\u001b[1;33m\u001b[0m\u001b[0m\n\u001b[1;32m----> 3\u001b[1;33m   \u001b[1;32mraise\u001b[0m \u001b[0mTypeError\u001b[0m\u001b[1;33m(\u001b[0m\u001b[1;34m\"Apenas valores do tipo float podem ser usados\"\u001b[0m\u001b[1;33m)\u001b[0m\u001b[1;33m\u001b[0m\u001b[1;33m\u001b[0m\u001b[0m\n\u001b[0m",
      "\u001b[1;31mTypeError\u001b[0m: Apenas valores do tipo float podem ser usados"
     ]
    }
   ],
   "source": [
    "salario = None\n",
    "if not type(salario) is float:\n",
    "  raise TypeError(\"Apenas valores do tipo float podem ser usados\")"
   ]
  },
  {
   "cell_type": "markdown",
   "metadata": {
    "id": "DX9JWKhxX1xn"
   },
   "source": [
    "## Leituras Adicionais e Referências:\n",
    "\n",
    "- Python Tutorial at W3Schools: https://www.w3schools.com/python/\n",
    "- Python official documentation: https://docs.python.org/3/tutorial/index.html\n"
   ]
  }
 ],
 "metadata": {
  "colab": {
   "collapsed_sections": [],
   "name": "Aula 06 Introdução à Linguagem de Python para Analytics e Data Science.ipynb",
   "provenance": []
  },
  "kernelspec": {
   "display_name": "Python 3",
   "language": "python",
   "name": "python3"
  },
  "language_info": {
   "codemirror_mode": {
    "name": "ipython",
    "version": 3
   },
   "file_extension": ".py",
   "mimetype": "text/x-python",
   "name": "python",
   "nbconvert_exporter": "python",
   "pygments_lexer": "ipython3",
   "version": "3.7.8"
  }
 },
 "nbformat": 4,
 "nbformat_minor": 1
}
