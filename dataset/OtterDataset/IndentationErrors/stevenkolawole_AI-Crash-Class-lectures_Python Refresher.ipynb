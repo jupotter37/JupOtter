{
 "cells": [
  {
   "cell_type": "markdown",
   "metadata": {},
   "source": [
    "# OVERVIEW\n",
    "In this lesson, you'll learn \n",
    "- The Python Syntax\n",
    "- Data Operators\n",
    "- Data Types\n",
    "- Data Structures\n",
    "- Flow Control Statements\n",
    "- Functions\n",
    "\n",
    "I'm going to assume we all have our python environments set up so let's dive straight into the course."
   ]
  },
  {
   "cell_type": "markdown",
   "metadata": {},
   "source": [
    "## The Python Syntax\n",
    "The Python syntax is the set of rules that defines how a python program will be written and interpreted. The Python syntax is simple and consistent and was designed to be highly readable.\n",
    "In this section, we are going to discuss\n",
    "- Naming Conventions\n",
    "- Indentation\n",
    "- Comments"
   ]
  },
  {
   "cell_type": "markdown",
   "metadata": {},
   "source": [
    "#### Naming Conventions\n",
    "Naming conventions are rules governing the naming of identifiers in programming languages. Identifier are names given to functions, variables, classes, e.t.c.\n",
    "Below are a few naming conventions in Python:\n",
    "- Identifiers must start with either upper or lower case letters or an underscore (_).\n",
    "- Characters such as !, &, %, e.t.c are not allowed within identifiers.\n",
    "- Identifiers can contain digits as long as it doesn't start with digits.\n",
    "- Python is a case sensitive language. For example; results and Results are two different identifiers in Python.\n",
    "- Python [keywords](https://www.w3schools.com/python/python_ref_keywords.asp) cannot be used as identifiers."
   ]
  },
  {
   "cell_type": "code",
   "execution_count": 1,
   "metadata": {},
   "outputs": [],
   "source": [
    "first_name = \"Steven\""
   ]
  },
  {
   "cell_type": "code",
   "execution_count": null,
   "metadata": {},
   "outputs": [],
   "source": [
    "First_name = ''"
   ]
  },
  {
   "cell_type": "markdown",
   "metadata": {},
   "source": [
    "#### Indentation\n",
    "Indentation is very important in Python as Python uses indentation to indicate code blocks.\n",
    "For example:"
   ]
  },
  {
   "cell_type": "code",
   "execution_count": 1,
   "metadata": {},
   "outputs": [
    {
     "name": "stdout",
     "output_type": "stream",
     "text": [
      "I am great at maths!\n"
     ]
    }
   ],
   "source": [
    "if (2+2 == 4):\n",
    "    print(\"I am great at maths!\")"
   ]
  },
  {
   "cell_type": "markdown",
   "metadata": {},
   "source": [
    "Let's try to run the same code without indentation."
   ]
  },
  {
   "cell_type": "code",
   "execution_count": 2,
   "metadata": {},
   "outputs": [
    {
     "ename": "IndentationError",
     "evalue": "expected an indented block (<ipython-input-2-9044a4809a8d>, line 2)",
     "output_type": "error",
     "traceback": [
      "\u001b[1;36m  File \u001b[1;32m\"<ipython-input-2-9044a4809a8d>\"\u001b[1;36m, line \u001b[1;32m2\u001b[0m\n\u001b[1;33m    print(\"I am great at maths!\")\u001b[0m\n\u001b[1;37m        ^\u001b[0m\n\u001b[1;31mIndentationError\u001b[0m\u001b[1;31m:\u001b[0m expected an indented block\n"
     ]
    }
   ],
   "source": [
    "if (2+2 == 4):\n",
    "print(\"I am great at maths!\")"
   ]
  },
  {
   "cell_type": "markdown",
   "metadata": {},
   "source": [
    "And we encountered an error. While most languages only use indentation for easy readability, Python code will not run if there's no indentation in the right places."
   ]
  },
  {
   "cell_type": "markdown",
   "metadata": {},
   "source": [
    "#### Comments\n",
    "There are two types of comments in Python; Single-line comments and multi-line comments.\n"
   ]
  },
  {
   "cell_type": "markdown",
   "metadata": {},
   "source": [
    "Single-line comments can only occupy one line and are declared with '#'"
   ]
  },
  {
   "cell_type": "code",
   "execution_count": 3,
   "metadata": {},
   "outputs": [],
   "source": [
    "# This is a single-line comment"
   ]
  },
  {
   "cell_type": "markdown",
   "metadata": {},
   "source": [
    "Multi-line comments can occupy several lines and are declared with triple quotes"
   ]
  },
  {
   "cell_type": "code",
   "execution_count": 4,
   "metadata": {},
   "outputs": [
    {
     "data": {
      "text/plain": [
       "'\\nThis is a\\nmulti-line\\ncomment\\n'"
      ]
     },
     "execution_count": 4,
     "metadata": {},
     "output_type": "execute_result"
    }
   ],
   "source": [
    "'''\n",
    "This is a\n",
    "multi-line\n",
    "comment\n",
    "'''"
   ]
  },
  {
   "cell_type": "markdown",
   "metadata": {},
   "source": [
    "## Data Operators\n",
    "Operators are used to perform operations on variables. Python has the following groups of operations;\n",
    "- Arithmetic operators\n",
    "- Comparision operators\n",
    "- Identity operators\n",
    "- Boolean operators\n",
    "- Logical operators\n",
    "- Membership operators\n",
    "- Bitwise operators\n",
    "- Assignment operators"
   ]
  },
  {
   "cell_type": "code",
   "execution_count": 13,
   "metadata": {},
   "outputs": [
    {
     "data": {
      "text/plain": [
       "0"
      ]
     },
     "execution_count": 13,
     "metadata": {},
     "output_type": "execute_result"
    }
   ],
   "source": [
    "a"
   ]
  },
  {
   "cell_type": "markdown",
   "metadata": {},
   "source": [
    "For more information, click [here](https://www.w3schools.com/python/python_operators.asp)"
   ]
  },
  {
   "cell_type": "markdown",
   "metadata": {},
   "source": [
    "## Data Types\n",
    "A data type is a category for values, and every value belongs to exactly one data type. Common data types in Python include\n",
    "- Integers\n",
    "- Floating-point numbers\n",
    "- Strings"
   ]
  },
  {
   "cell_type": "markdown",
   "metadata": {},
   "source": [
    "Integers are basically whole numbers while floats are decimal values.\n",
    "Strings are text values and must always be surrounded with quotes."
   ]
  },
  {
   "cell_type": "markdown",
   "metadata": {},
   "source": [
    "#### String Operations and Methods\n",
    "The String data type has a plethora of methods. Check them out [here](https://www.w3schools.com/python/python_ref_string.asp)"
   ]
  },
  {
   "cell_type": "markdown",
   "metadata": {},
   "source": [
    "##### Concatenation and Replication\n",
    "Strings can be concatenated with the '+' operator and replicated with the '*' operator. For example;"
   ]
  },
  {
   "cell_type": "code",
   "execution_count": 5,
   "metadata": {},
   "outputs": [
    {
     "data": {
      "text/plain": [
       "'Banana'"
      ]
     },
     "execution_count": 5,
     "metadata": {},
     "output_type": "execute_result"
    }
   ],
   "source": [
    "'Ba' + ('na' * 2)"
   ]
  },
  {
   "cell_type": "markdown",
   "metadata": {},
   "source": [
    "Hello Steven! Your GTB account 000225558888 balance is 34.00 naira."
   ]
  },
  {
   "cell_type": "code",
   "execution_count": 22,
   "metadata": {},
   "outputs": [
    {
     "name": "stdin",
     "output_type": "stream",
     "text": [
      "Enter your first name:  Steve\n",
      "Enter your bank name:  gtb\n",
      "Enter your account number:  003330303\n",
      "Enter your bank balance:  34\n"
     ]
    },
    {
     "name": "stdout",
     "output_type": "stream",
     "text": [
      "Hello Steve! Your gtbaccount 003330303 balance is 34 naira.\n",
      "Hello Steve! Your gtb account 003330303 balance is 34 naira.\n"
     ]
    }
   ],
   "source": [
    "### SOLUTION\n",
    "first_name = input(\"Enter your first name: \")\n",
    "bank_name = input(\"Enter your bank name: \")\n",
    "acc_number = input(\"Enter your account number: \")\n",
    "acc_bal = input(\"Enter your bank balance: \")\n",
    "\n",
    "print(\"Hello \" + first_name + \"! Your \" + bank_name + \"account \" + \\\n",
    "      acc_number + \" balance is \" + acc_bal + \" naira.\")\n",
    "print(f\"Hello {first_name}! Your {bank_name} account {acc_number} balance is {acc_bal} naira.\")"
   ]
  },
  {
   "cell_type": "markdown",
   "metadata": {},
   "source": [
    "## Data Structures\n",
    "Data structures in python include \n",
    "- List\n",
    "- Tuple\n",
    "- Set \n",
    "- Dictionary"
   ]
  },
  {
   "cell_type": "markdown",
   "metadata": {},
   "source": [
    "#### List\n",
    "Lists are mutable data structures. It is annotated with square brackets.\n",
    "##### List Methods"
   ]
  },
  {
   "cell_type": "code",
   "execution_count": 6,
   "metadata": {},
   "outputs": [],
   "source": [
    "list1 = ['yam', 'potato']\n",
    "list2 = ['rice', 'egg']\n",
    "#concatenation \n",
    "myList = list1 + list2"
   ]
  },
  {
   "cell_type": "code",
   "execution_count": 7,
   "metadata": {},
   "outputs": [
    {
     "data": {
      "text/plain": [
       "['yam', 'potato', 'rice', 'egg']"
      ]
     },
     "execution_count": 7,
     "metadata": {},
     "output_type": "execute_result"
    }
   ],
   "source": [
    "myList"
   ]
  },
  {
   "cell_type": "code",
   "execution_count": 8,
   "metadata": {},
   "outputs": [
    {
     "data": {
      "text/plain": [
       "'rice'"
      ]
     },
     "execution_count": 8,
     "metadata": {},
     "output_type": "execute_result"
    }
   ],
   "source": [
    "#indexing\n",
    "myList[2]"
   ]
  },
  {
   "cell_type": "code",
   "execution_count": 9,
   "metadata": {},
   "outputs": [
    {
     "data": {
      "text/plain": [
       "'potato'"
      ]
     },
     "execution_count": 9,
     "metadata": {},
     "output_type": "execute_result"
    }
   ],
   "source": [
    "#negative indexing\n",
    "myList[-3]"
   ]
  },
  {
   "cell_type": "code",
   "execution_count": 10,
   "metadata": {},
   "outputs": [
    {
     "data": {
      "text/plain": [
       "['yam', 'potato']"
      ]
     },
     "execution_count": 10,
     "metadata": {},
     "output_type": "execute_result"
    }
   ],
   "source": [
    "#slicing\n",
    "myList[0:2]"
   ]
  },
  {
   "cell_type": "code",
   "execution_count": 11,
   "metadata": {},
   "outputs": [],
   "source": [
    "#changing values with indexes\n",
    "myList[0] = 'noodles'"
   ]
  },
  {
   "cell_type": "code",
   "execution_count": 12,
   "metadata": {},
   "outputs": [
    {
     "data": {
      "text/plain": [
       "['noodles', 'potato', 'rice', 'egg']"
      ]
     },
     "execution_count": 12,
     "metadata": {},
     "output_type": "execute_result"
    }
   ],
   "source": [
    "myList\n"
   ]
  },
  {
   "cell_type": "code",
   "execution_count": 13,
   "metadata": {},
   "outputs": [
    {
     "data": {
      "text/plain": [
       "['noodles',\n",
       " 'potato',\n",
       " 'rice',\n",
       " 'egg',\n",
       " 'noodles',\n",
       " 'potato',\n",
       " 'rice',\n",
       " 'egg',\n",
       " 'noodles',\n",
       " 'potato',\n",
       " 'rice',\n",
       " 'egg',\n",
       " 'noodles',\n",
       " 'potato',\n",
       " 'rice',\n",
       " 'egg']"
      ]
     },
     "execution_count": 13,
     "metadata": {},
     "output_type": "execute_result"
    }
   ],
   "source": [
    "#replication\n",
    "myList * 4"
   ]
  },
  {
   "cell_type": "code",
   "execution_count": 14,
   "metadata": {},
   "outputs": [
    {
     "data": {
      "text/plain": [
       "4"
      ]
     },
     "execution_count": 14,
     "metadata": {},
     "output_type": "execute_result"
    }
   ],
   "source": [
    "#length\n",
    "len(myList)"
   ]
  },
  {
   "cell_type": "code",
   "execution_count": 15,
   "metadata": {},
   "outputs": [],
   "source": [
    "#appending more items\n",
    "myList.append('fish')"
   ]
  },
  {
   "cell_type": "code",
   "execution_count": 16,
   "metadata": {},
   "outputs": [
    {
     "data": {
      "text/plain": [
       "['noodles', 'potato', 'rice', 'egg', 'fish']"
      ]
     },
     "execution_count": 16,
     "metadata": {},
     "output_type": "execute_result"
    }
   ],
   "source": [
    "myList"
   ]
  },
  {
   "cell_type": "code",
   "execution_count": 17,
   "metadata": {},
   "outputs": [
    {
     "data": {
      "text/plain": [
       "'potato'"
      ]
     },
     "execution_count": 17,
     "metadata": {},
     "output_type": "execute_result"
    }
   ],
   "source": [
    "#delete specified item\n",
    "myList.pop(1)"
   ]
  },
  {
   "cell_type": "markdown",
   "metadata": {},
   "source": [
    "- Write a list of 5 cities in Nigeria in a variable called \"Nigeria\"\n",
    "- Add \"New York\" to the list. \n",
    "- Remove the 2nd city on the list.\n",
    "- Copy the list to a new variable called \"UAR\"\n",
    "- Add Lome, Accra, and Abidjan to the list in a single line of code.\n",
    "- Remove the last city on the list."
   ]
  },
  {
   "cell_type": "code",
   "execution_count": 23,
   "metadata": {},
   "outputs": [
    {
     "name": "stdout",
     "output_type": "stream",
     "text": [
      "['Abk', 'Lagos', 'Kano', 'Ibadan', 'Ife', 'New York']\n",
      "['Abk', 'Kano', 'Ibadan', 'Ife', 'New York']\n",
      "['Abk', 'Kano', 'Ibadan', 'Ife', 'New York']\n",
      "['Abk', 'Kano', 'Ibadan', 'Ife', 'New York', 'Lome', 'Accra']\n"
     ]
    }
   ],
   "source": [
    "Nigeria = [\"Abk\", \"Lagos\", \"Kano\", \"Ibadan\", \"Ife\"]\n",
    "Nigeria.append(\"New York\")\n",
    "print(Nigeria)\n",
    "Nigeria.pop(1)\n",
    "print(Nigeria)\n",
    "UAR = Nigeria.copy()\n",
    "print(UAR)\n",
    "UAR.extend([\"Lome\", \"Accra\", \"Abidjan\"])\n",
    "UAR.pop()\n",
    "print(UAR)"
   ]
  },
  {
   "cell_type": "code",
   "execution_count": 28,
   "metadata": {},
   "outputs": [
    {
     "name": "stdout",
     "output_type": "stream",
     "text": [
      "I love Abk\n",
      "I love Kano\n",
      "I love Ibadan\n",
      "I love Ife\n",
      "I love New York\n",
      "I love Lome\n",
      "I love Accra\n"
     ]
    }
   ],
   "source": [
    "for city in UAR:\n",
    "    print(\"I love\", city)"
   ]
  },
  {
   "cell_type": "code",
   "execution_count": 31,
   "metadata": {},
   "outputs": [
    {
     "name": "stdout",
     "output_type": "stream",
     "text": [
      "2\n",
      "3\n",
      "4\n",
      "5\n",
      "6\n"
     ]
    }
   ],
   "source": [
    "for i in range(2, 7):\n",
    "    print(i)"
   ]
  },
  {
   "cell_type": "code",
   "execution_count": 18,
   "metadata": {},
   "outputs": [
    {
     "data": {
      "text/plain": [
       "['noodles', 'rice', 'egg', 'fish']"
      ]
     },
     "execution_count": 18,
     "metadata": {},
     "output_type": "execute_result"
    }
   ],
   "source": [
    "myList"
   ]
  },
  {
   "cell_type": "markdown",
   "metadata": {},
   "source": [
    "To learn more about list methods, click [here](https://www.w3schools.com/python/python_ref_list.asp))"
   ]
  },
  {
   "cell_type": "markdown",
   "metadata": {},
   "source": [
    "#### Tuple\n",
    "Tuples are immutable data structures. It is annotated with round brackets. Once a tuple has been created, its values cannot be changed. Items cannot be appended or removed from an existing tuple. Click [here](https://www.w3schools.com/python/python_tuples.asp) to learn more about tuples."
   ]
  },
  {
   "cell_type": "markdown",
   "metadata": {},
   "source": [
    "#### Set\n",
    "Sets are unordered. They are annotated with curly brackets. Learn more about set and its methods [here](https://www.w3schools.com/python/python_sets.asp)\n"
   ]
  },
  {
   "cell_type": "markdown",
   "metadata": {},
   "source": [
    "#### Dictionary\n",
    "Dictionaries are key-value pairs. They are also annotated with curly brackets. Learn more about dictionaries and its methods [here](https://www.w3schools.com/python/python_dictionaries.asp)\n"
   ]
  },
  {
   "cell_type": "code",
   "execution_count": null,
   "metadata": {},
   "outputs": [],
   "source": [
    "dict1 = {\"name\": \"Steven\",\n",
    "         \"dept\": \"CSC\",\n",
    "         \"age\": 18,}"
   ]
  },
  {
   "cell_type": "markdown",
   "metadata": {},
   "source": [
    "## Flow Control Statements\n",
    "Flow control statements are condition-clause statements that decide the set of instructions to run under each condition."
   ]
  },
  {
   "cell_type": "markdown",
   "metadata": {},
   "source": [
    "#### if statements\n",
    "if statements consist of a single condition-clause statement. The code in the clause runs if the condition is True"
   ]
  },
  {
   "cell_type": "code",
   "execution_count": 19,
   "metadata": {},
   "outputs": [],
   "source": [
    "fruit = 'banana'\n",
    "if fruit == 'apple':      #condition. the condition is false in this case\n",
    "    print('I love apples.')     #clause"
   ]
  },
  {
   "cell_type": "code",
   "execution_count": 26,
   "metadata": {},
   "outputs": [
    {
     "name": "stdin",
     "output_type": "stream",
     "text": [
      "What's your age?  12\n"
     ]
    },
    {
     "name": "stdout",
     "output_type": "stream",
     "text": [
      "Have a milk!\n"
     ]
    }
   ],
   "source": [
    "age = int(input(\"What's your age? \"))\n",
    "if age >= 18:\n",
    "    print(\"Have a beer!\")\n",
    "else:\n",
    "    print(\"Have a milk!\")"
   ]
  },
  {
   "cell_type": "markdown",
   "metadata": {},
   "source": [
    "#### else statements\n",
    "if statements are sometimes followed by else statements. An else statement can be executed only when the if condition is False"
   ]
  },
  {
   "cell_type": "code",
   "execution_count": 20,
   "metadata": {},
   "outputs": [
    {
     "name": "stdout",
     "output_type": "stream",
     "text": [
      "Apples are my favorite fruit\n"
     ]
    }
   ],
   "source": [
    "if fruit == 'apple':      #condition = False\n",
    "    print('I love apples.')     \n",
    "else:\n",
    "    print('Apples are my favorite fruit')"
   ]
  },
  {
   "cell_type": "markdown",
   "metadata": {},
   "source": [
    "#### elif statements\n",
    "While only one of the if or else clauses will execute, you may have a case where you want one of many possible clauses to execute. The elif statement is an “else if” statement that always follows an if or another elif statement. It provides another condition that is checked only if any of the previous conditions were False."
   ]
  },
  {
   "cell_type": "code",
   "execution_count": 21,
   "metadata": {},
   "outputs": [
    {
     "name": "stdout",
     "output_type": "stream",
     "text": [
      "Bananas are my second favorite\n"
     ]
    }
   ],
   "source": [
    "if fruit == 'apple':      \n",
    "    print('I love apples.')   \n",
    "elif fruit == 'pear':\n",
    "    print('I hate pears')\n",
    "elif fruit == 'banana':\n",
    "    print('Bananas are my second favorite')\n",
    "else:\n",
    "    print('Apples are my favorite fruit')"
   ]
  },
  {
   "cell_type": "markdown",
   "metadata": {},
   "source": [
    "#### for loop statements\n",
    "for loops are used to execute a block of code a specified number of times."
   ]
  },
  {
   "cell_type": "code",
   "execution_count": 22,
   "metadata": {},
   "outputs": [
    {
     "name": "stdout",
     "output_type": "stream",
     "text": [
      "banana\n",
      "banana\n",
      "banana\n",
      "banana\n",
      "banana\n",
      "banana\n",
      "banana\n"
     ]
    }
   ],
   "source": [
    "for i in range(7):\n",
    "    print(fruit)"
   ]
  },
  {
   "cell_type": "markdown",
   "metadata": {},
   "source": [
    "## Functions\n",
    "Functions are blocks of code that recieve zero or more argument and return results when specified."
   ]
  },
  {
   "cell_type": "code",
   "execution_count": 23,
   "metadata": {},
   "outputs": [],
   "source": [
    "#function to add two numbers\n",
    "def add(x,y):\n",
    "    z = x + y\n",
    "    return (z)"
   ]
  },
  {
   "cell_type": "code",
   "execution_count": 24,
   "metadata": {},
   "outputs": [
    {
     "data": {
      "text/plain": [
       "5"
      ]
     },
     "execution_count": 24,
     "metadata": {},
     "output_type": "execute_result"
    }
   ],
   "source": [
    "add(2,3)"
   ]
  },
  {
   "cell_type": "markdown",
   "metadata": {},
   "source": [
    "To learn more about functions, click [here](https://www.w3schools.com/python/python_functions.asp)"
   ]
  },
  {
   "cell_type": "markdown",
   "metadata": {},
   "source": [
    "## Further Learning\n",
    "To find out more about Python, you can take the  Kaggle Learn [Python Microcourse](https://www.kaggle.com/learn/python)\n",
    "## Exercises\n",
    "Solve coding challenges on [hackerrank](https://www.hackerrank.com/domains/python/py-introduction/difficulty/all/page/1)\n",
    "\n",
    "\n"
   ]
  }
 ],
 "metadata": {
  "kernelspec": {
   "display_name": "Python 3",
   "language": "python",
   "name": "python3"
  },
  "language_info": {
   "codemirror_mode": {
    "name": "ipython",
    "version": 3
   },
   "file_extension": ".py",
   "mimetype": "text/x-python",
   "name": "python",
   "nbconvert_exporter": "python",
   "pygments_lexer": "ipython3",
   "version": "3.8.5"
  }
 },
 "nbformat": 4,
 "nbformat_minor": 4
}
