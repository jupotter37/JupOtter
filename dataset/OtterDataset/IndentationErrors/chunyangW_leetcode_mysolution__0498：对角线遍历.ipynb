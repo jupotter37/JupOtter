{
 "cells": [
  {
   "cell_type": "markdown",
   "metadata": {},
   "source": [
    "给你一个大小为 m x n 的矩阵 mat ，请以对角线遍历的顺序，用一个数组返回这个矩阵中的所有元素。\n",
    "\n",
    " \n",
    "\n",
    "示例 1：\n",
    "\n",
    "\n",
    "输入：mat = [[1,2,3],[4,5,6],[7,8,9]]\n",
    "输出：[1,2,4,7,5,3,6,8,9]\n",
    "示例 2：\n",
    "\n",
    "输入：mat = [[1,2],[3,4]]\n",
    "输出：[1,2,3,4]"
   ]
  },
  {
   "cell_type": "code",
   "execution_count": 3,
   "metadata": {},
   "outputs": [
    {
     "ename": "IndentationError",
     "evalue": "expected an indented block (2498937446.py, line 22)",
     "output_type": "error",
     "traceback": [
      "\u001b[1;36m  Cell \u001b[1;32mIn[3], line 22\u001b[1;36m\u001b[0m\n\u001b[1;33m    elif (i == j ==0) or (i == 0):\u001b[0m\n\u001b[1;37m    ^\u001b[0m\n\u001b[1;31mIndentationError\u001b[0m\u001b[1;31m:\u001b[0m expected an indented block\n"
     ]
    }
   ],
   "source": [
    "from typing import List\n",
    "\n",
    "class Solution:\n",
    "    def findDiagonalOrder(self, mat: List[List[int]]) -> List[int]:\n",
    "        def up (i, j, data):\n",
    "            i -=1\n",
    "            j +=1\n",
    "            Res.append(data)\n",
    "        def down (i, j, data):\n",
    "            i +=1\n",
    "            j -=1\n",
    "            Res.append(data)\n",
    "        \n",
    "\n",
    "        res = []\n",
    "        Res = []\n",
    "        rows = len(mat) -1 \n",
    "        cols = len(mat[0]) -1 \n",
    "        print(rows)\n",
    "        for i, row in enumerate(mat):    # 转成 索引＋值的形式   不行，循环不能使用元素来循环要用 总选换个数来循环\n",
    "            for j, value in enumerate(row):\n",
    "                res.append(((i, j), value))\n",
    "        for (i,j),data in res:\n",
    "            if (i==rows and j == cols):  # 终止情况\n",
    "                Res.append(data)\n",
    "            elif (i == j == 0):          # 起始情况\n",
    "                Res.append(data) \n",
    "            elif (i == rows and j != cols-1):               # 普通上转向\n",
    "                i +=1\n",
    "                Res.append(data)\n",
    "                up(i,j,data)\n",
    "            elif (i == 0 and)\n",
    "\n",
    "\n",
    "mat = [[1,2,3],[4,5,6]]\n",
    "a = Solution()\n",
    "a.findDiagonalOrder(mat)\n"
   ]
  },
  {
   "cell_type": "code",
   "execution_count": 2,
   "metadata": {},
   "outputs": [
    {
     "data": {
      "text/plain": [
       "[1, 2, 4, 5, 3, 6]"
      ]
     },
     "execution_count": 2,
     "metadata": {},
     "output_type": "execute_result"
    }
   ],
   "source": [
    "from typing import List\n",
    "\n",
    "class Solution:\n",
    "    def findDiagonalOrder(self, mat: List[List[int]]) -> List[int]:\n",
    "        rows = len(mat)\n",
    "        cols = len(mat[0])\n",
    "        count = rows * cols\n",
    "        x, y = 0, 0\n",
    "        ans = []\n",
    "\n",
    "        for i in range(count):\n",
    "            ans.append(mat[x][y])\n",
    "\n",
    "            if (x + y) % 2 == 0:   # 前两个都是右上的过程中遇到的特殊情况\n",
    "                # 最后一列\n",
    "                if y == cols - 1:\n",
    "                    x += 1\n",
    "                # 第一行\n",
    "                elif x == 0:\n",
    "                    y += 1         # 普通方向\n",
    "                # 右上方向\n",
    "                else:\n",
    "                    x -= 1\n",
    "                    y += 1\n",
    "            else:\n",
    "                # 最后一行\n",
    "                if x == rows - 1:\n",
    "                    y += 1\n",
    "                # 第一列\n",
    "                elif y == 0:\n",
    "                    x += 1\n",
    "                # 左下方向\n",
    "                else:\n",
    "                    x += 1\n",
    "                    y -= 1\n",
    "        return ans\n",
    "\n",
    "\n",
    "mat = [[1,2,3],[4,5,6]]\n",
    "a = Solution()\n",
    "a.findDiagonalOrder(mat)"
   ]
  }
 ],
 "metadata": {
  "kernelspec": {
   "display_name": "DL",
   "language": "python",
   "name": "python3"
  },
  "language_info": {
   "codemirror_mode": {
    "name": "ipython",
    "version": 3
   },
   "file_extension": ".py",
   "mimetype": "text/x-python",
   "name": "python",
   "nbconvert_exporter": "python",
   "pygments_lexer": "ipython3",
   "version": "3.9.19"
  }
 },
 "nbformat": 4,
 "nbformat_minor": 2
}
