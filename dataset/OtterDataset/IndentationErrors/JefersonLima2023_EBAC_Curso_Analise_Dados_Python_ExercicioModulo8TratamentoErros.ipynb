{
  "nbformat": 4,
  "nbformat_minor": 0,
  "metadata": {
    "colab": {
      "provenance": [],
      "authorship_tag": "ABX9TyP3SHSgbJ+YSCJPJ/1mMRq1",
      "include_colab_link": true
    },
    "kernelspec": {
      "name": "python3",
      "display_name": "Python 3"
    },
    "language_info": {
      "name": "python"
    }
  },
  "cells": [
    {
      "cell_type": "markdown",
      "metadata": {
        "id": "view-in-github",
        "colab_type": "text"
      },
      "source": [
        "<a href=\"https://colab.research.google.com/github/JefersonLima2023/EBAC_Analise_Dados_Python/blob/main/ExercicioModulo8TratamentoErros.ipynb\" target=\"_parent\"><img src=\"https://colab.research.google.com/assets/colab-badge.svg\" alt=\"Open In Colab\"/></a>"
      ]
    },
    {
      "cell_type": "markdown",
      "source": [
        "# Módulo 08 | Python: Tratamento de Erros\n",
        "## Caderno de Exercícios\n",
        "## Professor André Perez\n"
      ],
      "metadata": {
        "id": "DDp39Byq2wxv"
      }
    },
    {
      "cell_type": "markdown",
      "source": [
        "## Tópicos\n",
        "## Tipos de erros;\n",
        "## Erros de sintaxe;\n",
        "## Erros em tempo de execução."
      ],
      "metadata": {
        "id": "kqtj_ZhP2-zR"
      }
    },
    {
      "cell_type": "markdown",
      "source": [
        "## Exercício 01. Erros de sintaxe\n",
        "## Identifique o erro de sintaxe nos trechos de código abaixo e corrija-os para que o trecho de código funcione.\n",
        "\n",
        "## Laços de repetição."
      ],
      "metadata": {
        "id": "LQiTK6Hz3KE8"
      }
    },
    {
      "cell_type": "code",
      "execution_count": 1,
      "metadata": {
        "colab": {
          "base_uri": "https://localhost:8080/",
          "height": 106
        },
        "id": "0dxmEfQb2qfs",
        "outputId": "10b056a7-1cbe-4b92-a164-948a3ea5d2b9"
      },
      "outputs": [
        {
          "output_type": "error",
          "ename": "SyntaxError",
          "evalue": "unterminated string literal (detected at line 4) (<ipython-input-1-3fb55843cacf>, line 4)",
          "traceback": [
            "\u001b[0;36m  File \u001b[0;32m\"<ipython-input-1-3fb55843cacf>\"\u001b[0;36m, line \u001b[0;32m4\u001b[0m\n\u001b[0;31m    print(f'Para o documento {chave}, o valor do escore de crédito é {valor}.\")\u001b[0m\n\u001b[0m          ^\u001b[0m\n\u001b[0;31mSyntaxError\u001b[0m\u001b[0;31m:\u001b[0m unterminated string literal (detected at line 4)\n"
          ]
        }
      ],
      "source": [
        "## Código originalmente fornecido com erro.\n",
        "\n",
        "credito = {'123': 750, '456': 812, '789': 980}\n",
        "\n",
        "for chave, valor in credito.items():\n",
        "  print(f'Para o documento {chave}, o valor do escore de crédito é {valor}.\")"
      ]
    },
    {
      "cell_type": "code",
      "source": [
        "## Código com erro corrigido\n",
        "## O erro de sintaxe no trecho de código fornecido está na última linha, onde a\n",
        "## string não foi fechada corretamente. A aspa dupla no final da linha deve ser\n",
        "## alterada para uma aspa simples ('), corrigindo assim o erro de sintaxe. Além\n",
        "## disso, a indentação do print dentro do loop for também deve ser ajustada.\n",
        "##Aqui está o trecho corrigido:\n",
        "\n",
        "credito = {'123': 750, '456': 812, '789': 980}\n",
        "for chave, valor in credito.items():\n",
        "    print(f'Para o documento {chave}, ' + \\\n",
        "          f'o valor do escore de crédito é {valor}.'\n",
        "          )"
      ],
      "metadata": {
        "colab": {
          "base_uri": "https://localhost:8080/"
        },
        "id": "oNfpAM3s3eGy",
        "outputId": "2c3ca6f8-f6b1-483e-f546-4c9d0029f0aa"
      },
      "execution_count": 2,
      "outputs": [
        {
          "output_type": "stream",
          "name": "stdout",
          "text": [
            "Para o documento 123, o valor do escore de crédito é 750.\n",
            "Para o documento 456, o valor do escore de crédito é 812.\n",
            "Para o documento 789, o valor do escore de crédito é 980.\n"
          ]
        }
      ]
    },
    {
      "cell_type": "markdown",
      "source": [
        "## Funções"
      ],
      "metadata": {
        "id": "Unn0uXpV4LzJ"
      }
    },
    {
      "cell_type": "code",
      "source": [
        "def pi() --> float:\n",
        "return 3.14159265359\n",
        "pi = pi()\n",
        "print(pi)"
      ],
      "metadata": {
        "colab": {
          "base_uri": "https://localhost:8080/",
          "height": 106
        },
        "id": "wIzapaBL4KaL",
        "outputId": "4af25c02-a3db-4776-d5ac-43f7add53c4e"
      },
      "execution_count": 3,
      "outputs": [
        {
          "output_type": "error",
          "ename": "SyntaxError",
          "evalue": "expected ':' (<ipython-input-3-3711eea47218>, line 1)",
          "traceback": [
            "\u001b[0;36m  File \u001b[0;32m\"<ipython-input-3-3711eea47218>\"\u001b[0;36m, line \u001b[0;32m1\u001b[0m\n\u001b[0;31m    def pi() --> float:\u001b[0m\n\u001b[0m             ^\u001b[0m\n\u001b[0;31mSyntaxError\u001b[0m\u001b[0;31m:\u001b[0m expected ':'\n"
          ]
        }
      ]
    },
    {
      "cell_type": "code",
      "source": [
        "## Há um erro na declaração da função pi(). A seta (-->) não é usada para indicar o tipo de retorno em Python.\n",
        "## Além disso, a função pi está sendo sobrescrita na linha seguinte com a chamada da função.\n",
        "## Aqui está o trecho corrigido:\n",
        "\n",
        "def pi() -> float:\n",
        "    return 3.14159265359\n",
        "\n",
        "pi_valor = pi()\n",
        "print(pi_valor)\n"
      ],
      "metadata": {
        "colab": {
          "base_uri": "https://localhost:8080/"
        },
        "id": "j8qfVu294LKF",
        "outputId": "3624b2e8-bec5-467d-87b1-b526157efdcf"
      },
      "execution_count": 4,
      "outputs": [
        {
          "output_type": "stream",
          "name": "stdout",
          "text": [
            "3.14159265359\n"
          ]
        }
      ]
    },
    {
      "cell_type": "markdown",
      "source": [
        "## Parte 3: Programação Funcional"
      ],
      "metadata": {
        "id": "y8cCe1FE5ATq"
      }
    },
    {
      "cell_type": "code",
      "source": [
        "emails = [\n",
        "'andre.perez@gmail.com',\n",
        "'andre.perez@live.com',\n",
        "'andre.perez@yahoo.com'\n",
        "]\n",
        "provedor_da_google = lambda email: 'gmail in email\n",
        "emails_google = filter(provedor_da_google, emails)\n",
        "print(list(emails_google))"
      ],
      "metadata": {
        "colab": {
          "base_uri": "https://localhost:8080/",
          "height": 106
        },
        "id": "WT4WsF1c4LDE",
        "outputId": "c66ffa97-9577-4d61-bf7f-01035e498aef"
      },
      "execution_count": 5,
      "outputs": [
        {
          "output_type": "error",
          "ename": "SyntaxError",
          "evalue": "unterminated string literal (detected at line 6) (<ipython-input-5-8f86d65843cc>, line 6)",
          "traceback": [
            "\u001b[0;36m  File \u001b[0;32m\"<ipython-input-5-8f86d65843cc>\"\u001b[0;36m, line \u001b[0;32m6\u001b[0m\n\u001b[0;31m    provedor_da_google = lambda email: 'gmail in email\u001b[0m\n\u001b[0m                                       ^\u001b[0m\n\u001b[0;31mSyntaxError\u001b[0m\u001b[0;31m:\u001b[0m unterminated string literal (detected at line 6)\n"
          ]
        }
      ]
    },
    {
      "cell_type": "code",
      "source": [
        "## No lambda usado para filtrar os emails, há um erro na string passada ('gmail in email').\n",
        "## Além disso, o método filter espera uma função de retorno True ou False, mas o lambda fornecido\n",
        "## não está realizando essa verificação.\n",
        "## Aqui está o trecho corrigido:\n",
        "\n",
        "emails = [\n",
        "    'andre.perez@gmail.com',\n",
        "    'andre.perez@live.com',\n",
        "    'andre.perez@yahoo.com'\n",
        "]\n",
        "\n",
        "provedor_da_google = lambda email: 'gmail' in email\n",
        "emails_google = filter(provedor_da_google, emails)\n",
        "print(list(emails_google))\n"
      ],
      "metadata": {
        "colab": {
          "base_uri": "https://localhost:8080/"
        },
        "id": "cHMciIwK4K6P",
        "outputId": "db0e1b86-7614-4e05-9fdc-b3fff28ffbd3"
      },
      "execution_count": 6,
      "outputs": [
        {
          "output_type": "stream",
          "name": "stdout",
          "text": [
            "['andre.perez@gmail.com']\n"
          ]
        }
      ]
    },
    {
      "cell_type": "markdown",
      "source": [
        "## Parte 4: Programação orientação a objetos"
      ],
      "metadata": {
        "id": "hNq7m9e15eIA"
      }
    },
    {
      "cell_type": "code",
      "source": [
        "class Pessoa(object):\n",
        "def __init__(self nome: str, idade: int, documento: str):\n",
        "self.nome = nome\n",
        "self.idade = idade\n",
        "self.documento = documento\n",
        "andre = Pessoa(nome=\"Andre\", idade=30, document=\"123\")"
      ],
      "metadata": {
        "colab": {
          "base_uri": "https://localhost:8080/",
          "height": 106
        },
        "id": "y267Xjpw5i9-",
        "outputId": "68a32167-7741-469c-cccf-83cd303d31fe"
      },
      "execution_count": 7,
      "outputs": [
        {
          "output_type": "error",
          "ename": "IndentationError",
          "evalue": "expected an indented block after class definition on line 1 (<ipython-input-7-099e291ca475>, line 2)",
          "traceback": [
            "\u001b[0;36m  File \u001b[0;32m\"<ipython-input-7-099e291ca475>\"\u001b[0;36m, line \u001b[0;32m2\u001b[0m\n\u001b[0;31m    def __init__(self nome: str, idade: int, documento: str):\u001b[0m\n\u001b[0m    ^\u001b[0m\n\u001b[0;31mIndentationError\u001b[0m\u001b[0;31m:\u001b[0m expected an indented block after class definition on line 1\n"
          ]
        }
      ]
    },
    {
      "cell_type": "markdown",
      "source": [
        "No trecho de código da parte 4, relacionado à programação orientada a objetos, existem alguns erros que precisam ser corrigidos. A seguir, os erros detalhados e a versão corrigida do código:\n",
        "\n",
        "Erro de sintaxe na declaração do método __init__: Falta uma vírgula entre os parâmetros self e nome.\n",
        "Nome de parâmetro inconsistente: No momento da criação do objeto andre, o parâmetro document deve corresponder ao nome do parâmetro definido na classe, que é documento.\n",
        "Herança desnecessária explicitada: Em Python 3, todas as classes herdam implicitamente de object, então não é necessário especificar (object) na declaração da classe, embora fazer isso não seja incorreto.\n",
        "Aqui está o código corrigido:"
      ],
      "metadata": {
        "id": "pENg27nt53vx"
      }
    },
    {
      "cell_type": "code",
      "source": [
        "class Pessoa:\n",
        "    def __init__(self, nome: str, idade: int, documento: str):\n",
        "        self.nome = nome\n",
        "        self.idade = idade\n",
        "        self.documento = documento\n",
        "\n",
        "andre = Pessoa(nome=\"Andre\", idade=30, documento=\"123\")"
      ],
      "metadata": {
        "id": "6hvAFPA85jSq"
      },
      "execution_count": 8,
      "outputs": []
    },
    {
      "cell_type": "markdown",
      "source": [
        "## Com estas correções, a classe Pessoa é definida corretamente, e um objeto chamado andre é instanciado com os atributos apropriados.\n",
        "\n"
      ],
      "metadata": {
        "id": "Pu0_w3F15jws"
      }
    },
    {
      "cell_type": "markdown",
      "source": [
        "## 2º Exercício: Erros em tempo de execução\n",
        "\n",
        "## Neste exercício, vamos trabalhar com o arquivo csv com dados de crédito, definido abaixo.\n",
        "\n",
        "## Parte 1: Execute cada uma das células de código para escrever os arquivos na sua máquina virtual."
      ],
      "metadata": {
        "id": "0enhOh4i6mSC"
      }
    },
    {
      "cell_type": "code",
      "source": [
        "%%writefile credito.csv\n",
        "id_vendedor,valor_emprestimos,quantidade_emprestimos,data\n",
        "104271,448.0,1,20161208\n",
        "21476,826.7,3,20161208\n",
        "87440,313.6,3,20161208\n",
        "15980,808.0,6,20161208\n",
        "215906,2212.0,5,20161208\n",
        "33696,2771.3,2,20161208\n",
        "33893,2240.0,3,20161208\n",
        "214946,\"4151.0\",18,20161208\n",
        "123974,2021.95,2,20161208\n",
        "225870,4039.0,2,20161208"
      ],
      "metadata": {
        "colab": {
          "base_uri": "https://localhost:8080/"
        },
        "id": "sx-EvhJu5lLn",
        "outputId": "f50a7afa-bed0-426f-bdf0-30a318830947"
      },
      "execution_count": 16,
      "outputs": [
        {
          "output_type": "stream",
          "name": "stdout",
          "text": [
            "Overwriting credito.csv\n"
          ]
        }
      ]
    },
    {
      "cell_type": "markdown",
      "source": [
        "Notamos que há um valor informado entre aspas duplas, o tipo desse valor será então assumido com string. O que causará erro no momento de fazer operações matemáticas ou estatísticas com o conjunto de dados fornecido."
      ],
      "metadata": {
        "id": "hx7AbDxl65Pk"
      }
    },
    {
      "cell_type": "markdown",
      "source": [
        "Parte 2: O código abaixo deve calcular o total emprestado por cada vendedor mas está \"estourando\" a exceção ValueError devido a um erro no conjunto de dados. Utilize a estrutura try-catch para garantir que o código seja executado com sucesso\n",
        "\n",
        "Atenção: altere o arquivo de dados."
      ],
      "metadata": {
        "id": "V7fBrwM47VmE"
      }
    },
    {
      "cell_type": "code",
      "source": [
        "def valor_total_emprestimo(valor: float, quantidade: int) -> float:\n",
        "return valor * quantidade\n",
        "emprestimos = []\n",
        "with open(file='./credito.csv', mode='r', encoding='utf8') as fp:\n",
        "fp.readline() # cabeçalho\n",
        "linha = fp.readline()\n",
        "while linha:\n",
        "linha_emprestimo = {}\n",
        "linha_elementos = linha.strip().split(sep=',')\n",
        "linha_emprestimo['id_vendedor'] = linha_elementos[0]\n",
        "linha_emprestimo['valor_emprestimos'] = float(linha_elementos[1])\n",
        "linha_emprestimo['quantidade_emprestimos'] = int(linha_elementos[2])\n",
        "linha_emprestimo['data'] = linha_elementos[3]\n",
        "emprestimos.append(linha_emprestimo)\n",
        "linha = fp.readline()\n",
        "emprestimos_total = []\n",
        "for emprestimo in emprestimos:\n",
        "valor_total = valor_total_emprestimo(\n",
        "valor=emprestimo['valor_emprestimos'],\n",
        "quantidade=emprestimo['quantidade_emprestimos']\n",
        ")\n",
        "emprestimos_total.append({emprestimo['id_vendedor']: valor_total})\n",
        "for emprestimo_total in emprestimos_total:\n",
        "print(emprestimo_total)"
      ],
      "metadata": {
        "colab": {
          "base_uri": "https://localhost:8080/",
          "height": 106
        },
        "id": "LyyndN7B9Iif",
        "outputId": "cd1e7825-fccd-48e4-e3b1-6ffe3707adeb"
      },
      "execution_count": 17,
      "outputs": [
        {
          "output_type": "error",
          "ename": "IndentationError",
          "evalue": "expected an indented block after function definition on line 1 (<ipython-input-17-29df92a917d0>, line 2)",
          "traceback": [
            "\u001b[0;36m  File \u001b[0;32m\"<ipython-input-17-29df92a917d0>\"\u001b[0;36m, line \u001b[0;32m2\u001b[0m\n\u001b[0;31m    return valor * quantidade\u001b[0m\n\u001b[0m    ^\u001b[0m\n\u001b[0;31mIndentationError\u001b[0m\u001b[0;31m:\u001b[0m expected an indented block after function definition on line 1\n"
          ]
        }
      ]
    },
    {
      "cell_type": "markdown",
      "source": [
        "Para garantir que o código seja executado com sucesso mesmo com o erro no conjunto de dados e para lidar com a exceção ValueError, podemos implementar um bloco try-except dentro do loop onde os valores são convertidos para float e int. Isso vai permitir capturar qualquer ValueError que possa ser lançado ao tentar converter valores inválidos e continuar a execução do programa, possivelmente registrando o erro ou simplesmente ignorando a linha problemática.\n",
        "\n",
        "Além disso, o arquivo credito.csv contém um valor entre aspas no campo valor_emprestimos, o que pode causar problemas ao converter esse valor para float. Isso foi indicado na parte de atenção. No entanto, o Python normalmente lida bem com aspas em volta de números quando usa float(), então a principal causa do ValueError pode ser outro problema de formatação ou um valor inesperado em um dos campos.\n",
        "\n",
        "Aqui está como o código pode ser ajustado para incluir o tratamento de exceções:"
      ],
      "metadata": {
        "id": "LAD4oPsi-EKt"
      }
    },
    {
      "cell_type": "code",
      "source": [
        "def valor_total_emprestimo(valor: float, quantidade: int) -> float:\n",
        "    return valor * quantidade\n",
        "\n",
        "emprestimos = []\n",
        "\n",
        "# Com o arquivo 'credito.csv' criado/alterado conforme a Parte 1.\n",
        "with open(file='./credito.csv', mode='r', encoding='utf8') as fp:\n",
        "    fp.readline()  # Pula o cabeçalho\n",
        "    for linha in fp:\n",
        "        try:\n",
        "            linha_elementos = linha.strip().split(',')\n",
        "            linha_emprestimo = {\n",
        "                'id_vendedor': linha_elementos[0],\n",
        "                'valor_emprestimos': float(linha_elementos[1].replace('\"', '')),  # Remove aspas e converte para float\n",
        "                'quantidade_emprestimos': int(linha_elementos[2]),\n",
        "                'data': linha_elementos[3]\n",
        "            }\n",
        "            emprestimos.append(linha_emprestimo)\n",
        "        except ValueError as e:\n",
        "            print(f\"Erro ao processar linha: {linha.strip()} - {e}\")\n",
        "\n",
        "emprestimos_total = []\n",
        "for emprestimo in emprestimos:\n",
        "    valor_total = valor_total_emprestimo(\n",
        "        valor=emprestimo['valor_emprestimos'],\n",
        "        quantidade=emprestimo['quantidade_emprestimos']\n",
        "    )\n",
        "    emprestimos_total.append({emprestimo['id_vendedor']: valor_total})\n",
        "\n",
        "for emprestimo_total in emprestimos_total:\n",
        "    print(emprestimo_total)\n",
        "\n",
        "## Parte 3: O resultado final deve ser a impressão da seguinte lista:"
      ],
      "metadata": {
        "colab": {
          "base_uri": "https://localhost:8080/"
        },
        "id": "2UrvDIqc5k8_",
        "outputId": "ae6d4cbf-9d5c-4bb5-eba7-7d3985600a8e"
      },
      "execution_count": 19,
      "outputs": [
        {
          "output_type": "stream",
          "name": "stdout",
          "text": [
            "{'104271': 448.0}\n",
            "{'21476': 2480.1000000000004}\n",
            "{'87440': 940.8000000000001}\n",
            "{'15980': 4848.0}\n",
            "{'215906': 11060.0}\n",
            "{'33696': 5542.6}\n",
            "{'33893': 6720.0}\n",
            "{'214946': 74718.0}\n",
            "{'123974': 4043.9}\n",
            "{'225870': 8078.0}\n"
          ]
        }
      ]
    }
  ]
}