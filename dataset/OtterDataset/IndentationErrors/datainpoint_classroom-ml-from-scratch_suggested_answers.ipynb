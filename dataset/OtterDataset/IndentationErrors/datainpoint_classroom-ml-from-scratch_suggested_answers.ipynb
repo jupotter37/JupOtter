{
 "cells": [
  {
   "cell_type": "markdown",
   "metadata": {
    "deletable": false
   },
   "source": [
    "# Python 機器學習從零至一 \n",
    "\n",
    "> 表現的評估\n",
    "\n",
    "[數據交點](https://www.datainpoint.com) | 郭耀仁 <yaojenkuo@datainpoint.com>"
   ]
  },
  {
   "cell_type": "code",
   "execution_count": 1,
   "metadata": {
    "deletable": false
   },
   "outputs": [],
   "source": [
    "import unittest\n",
    "import numpy as np"
   ]
  },
  {
   "cell_type": "markdown",
   "metadata": {},
   "source": [
    "## 練習題指引\n",
    "\n",
    "- 練習題閒置超過 15 分鐘會自動斷線，只要重新點選練習題連結即可重新啟動。\n",
    "- 第一個程式碼儲存格會將可能用得到的模組載入。\n",
    "- 如果練習題需要載入檔案，檔案存放於練習題的工作目錄。\n",
    "- 練習題已經給定函數、類別、預期輸入或參數名稱，我們只需要寫作程式區塊。同時也給定函數的類別提示，說明預期輸入以及預期輸出的類別。\n",
    "- 說明（Docstring）會描述測試如何進行，閱讀說明能夠暸解預期輸入以及預期輸出之間的關係，幫助我們更快解題。\n",
    "- 請在 `### BEGIN SOLUTION` 與 `### END SOLUTION` 這兩個註解之間寫作函數或者類別的程式區塊。\n",
    "- 將預期輸出放置在 `return` 保留字之後，若只是用 `print()` 函數將預期輸出印出無法通過測試。\n",
    "- 語法錯誤（`SyntaxError`）或縮排錯誤（`IndentationError`）等將會導致測試失效，測試之前應該先在筆記本使用函數觀察是否與說明（Docstring）描述的功能相符。\n",
    "- 執行測試：點選上方選單的 Kernel -> Restart & Run All -> Restart and Run All Cells"
   ]
  },
  {
   "cell_type": "markdown",
   "metadata": {},
   "source": [
    "## 01. 定義類別 `MeanError` 可以實例化具有兩個方法 `get_mse()` 與 `get_mae()` 的物件，可以計算兩個長度相同陣列之間的均方誤差與平均絕對誤差。\n",
    "\n",
    "\\begin{equation}\n",
    "\\text{MSE} = \\frac{1}{m}\\sum_{i=1}^{m}(y_i - \\hat{y_{i}})^2 \\\\\n",
    "\\text{MAE} = \\frac{1}{m}\\sum_{i=1}^{m} \\mid y_i - \\hat{y_{i}} \\mid\n",
    "\\end{equation}\n",
    "\n",
    "來源：<https://en.wikipedia.org/wiki/Mean_squared_error>, <https://en.wikipedia.org/wiki/Mean_absolute_error>"
   ]
  },
  {
   "cell_type": "code",
   "execution_count": 2,
   "metadata": {},
   "outputs": [],
   "source": [
    "class MeanError:\n",
    "    \"\"\"\n",
    "    >>> y = np.array([5, 5, 6, 6])\n",
    "    >>> y_hat = np.array([5, 5, 6, 6])\n",
    "    >>> me = MeanError(y, y_hat)\n",
    "    >>> me.get_mse()\n",
    "    0.0\n",
    "    >>> me.get_mae()\n",
    "    0.0\n",
    "    >>> y = np.array([5, 5, 6, 6])\n",
    "    >>> y_hat = np.array([5, 6, 7, 8])\n",
    "    >>> me = MeanError(y, y_hat)\n",
    "    >>> me.get_mse()\n",
    "    1.5\n",
    "    >>> me.get_mae()\n",
    "    1.0\n",
    "    \"\"\"\n",
    "    ### BEGIN SOLUTION\n",
    "    def __init__(self, y, y_hat):\n",
    "        self._y = y\n",
    "        self._y_hat = y_hat\n",
    "    def get_error(self):\n",
    "        return self._y - self._y_hat\n",
    "    def get_mse(self):\n",
    "        error = self.get_error()\n",
    "        se = error**2\n",
    "        mse = np.sum(se) / error.size\n",
    "        return mse\n",
    "    def get_mae(self):\n",
    "        error = self.get_error()\n",
    "        ae = np.absolute(error)\n",
    "        mae = np.sum(ae) / error.size\n",
    "        return mae\n",
    "    ### END SOLUTION"
   ]
  },
  {
   "cell_type": "markdown",
   "metadata": {},
   "source": [
    "## 02. 定義函數 `get_confusion_matrix` 可以為兩個長度相同陣列建立一個外型 `(2, 2)` 的混淆矩陣，真陰性、真陽性、偽陰性與偽陽性的個數分別位於 `[0, 0]`, `[1, 1]`, `[1, 0]`, `[0, 1]`\n",
    "\n",
    "來源：<https://en.wikipedia.org/wiki/Confusion_matrix>"
   ]
  },
  {
   "cell_type": "code",
   "execution_count": 3,
   "metadata": {},
   "outputs": [],
   "source": [
    "def get_confusion_matrix(y_true: np.ndarray, y_pred: np.ndarray) -> np.ndarray:\n",
    "    \"\"\"\n",
    "    >>> np.random.seed(0)\n",
    "    >>> y = np.random.randint(0, 2, size=100)\n",
    "    >>> np.random.seed(1)\n",
    "    >>> y_hat = np.random.randint(0, 2, size=100)\n",
    "    >>> get_confusion_matrix(y, y_hat)\n",
    "    array([[21, 23],\n",
    "           [24, 32]])\n",
    "    >>> np.random.seed(2)\n",
    "    >>> y = np.random.randint(0, 2, size=100)\n",
    "    >>> np.random.seed(3)\n",
    "    >>> y_hat = np.random.randint(0, 2, size=100)\n",
    "    >>> get_confusion_matrix(y, y_hat)\n",
    "    array([[27, 28],\n",
    "           [23, 22]])\n",
    "    \"\"\"\n",
    "    ### BEGIN SOLUTION\n",
    "    n_tn = 0\n",
    "    n_tp = 0\n",
    "    n_fn = 0\n",
    "    n_fp = 0\n",
    "    for y_true_i, y_pred_i in zip(y_true, y_pred):\n",
    "        if y_true_i == 0 and y_pred_i == 0:\n",
    "            n_tn += 1\n",
    "        elif y_true_i == 1 and y_pred_i == 1:\n",
    "            n_tp += 1\n",
    "        elif y_true_i == 1 and y_pred_i == 0:\n",
    "            n_fn += 1\n",
    "        elif y_true_i == 0 and y_pred_i == 1:\n",
    "            n_fp += 1\n",
    "    cm = np.array([[n_tn, n_fp],\n",
    "                   [n_fn, n_tp]])\n",
    "    return cm\n",
    "    ### END SOLUTION"
   ]
  },
  {
   "cell_type": "code",
   "execution_count": 4,
   "metadata": {},
   "outputs": [
    {
     "name": "stderr",
     "output_type": "stream",
     "text": [
      "test_01_MeanError (__main__.TestPerformance) ... ok\n",
      "test_02_get_confusion_matrix (__main__.TestPerformance) ... ok\n",
      "\n",
      "----------------------------------------------------------------------\n",
      "Ran 2 tests in 0.021s\n",
      "\n",
      "OK\n"
     ]
    }
   ],
   "source": [
    "class TestPerformance(unittest.TestCase):\n",
    "    def test_01_MeanError(self):\n",
    "        y = np.array([5, 5, 6, 6])\n",
    "        y_hat = np.array([5, 5, 6, 6])\n",
    "        me = MeanError(y, y_hat)\n",
    "        self.assertTrue(me.get_mse() >= 0.0)\n",
    "        self.assertTrue(me.get_mse() <= 0.1)\n",
    "        self.assertTrue(me.get_mae() >= 0.0)\n",
    "        self.assertTrue(me.get_mae() <= 0.1)\n",
    "        y_hat = np.array([5, 6, 7, 8])\n",
    "        me = MeanError(y, y_hat)\n",
    "        self.assertTrue(me.get_mse() >= 1.5)\n",
    "        self.assertTrue(me.get_mse() <= 1.6)\n",
    "        self.assertTrue(me.get_mae() >= 1.0)\n",
    "        self.assertTrue(me.get_mae() <= 1.1)\n",
    "        y_hat = np.array([-5, -5, -6, -6])\n",
    "        me = MeanError(y, y_hat)\n",
    "        self.assertTrue(me.get_mse() >= 122.0)\n",
    "        self.assertTrue(me.get_mse() <= 122.1)\n",
    "        self.assertTrue(me.get_mae() >= 11.0)\n",
    "        self.assertTrue(me.get_mae() <= 11.1)\n",
    "    def test_02_get_confusion_matrix(self):\n",
    "        np.random.seed(0)\n",
    "        y = np.random.randint(0, 2, size=100)\n",
    "        np.random.seed(1)\n",
    "        y_hat = np.random.randint(0, 2, size=100)\n",
    "        np.testing.assert_array_equal(get_confusion_matrix(y, y_hat),\n",
    "        np.array([[21, 23],\n",
    "                  [24, 32]]))\n",
    "        np.random.seed(2)\n",
    "        y = np.random.randint(0, 2, size=100)\n",
    "        np.random.seed(3)\n",
    "        y_hat = np.random.randint(0, 2, size=100)\n",
    "        np.testing.assert_array_equal(get_confusion_matrix(y, y_hat),\n",
    "        np.array([[27, 28],\n",
    "                  [23, 22]]))\n",
    "\n",
    "suite = unittest.TestLoader().loadTestsFromTestCase(TestPerformance)\n",
    "runner = unittest.TextTestRunner(verbosity=2)\n",
    "test_results = runner.run(suite)\n",
    "number_of_failures = len(test_results.failures)\n",
    "number_of_errors = len(test_results.errors)\n",
    "number_of_test_runs = test_results.testsRun\n",
    "number_of_successes = number_of_test_runs - (number_of_failures + number_of_errors)"
   ]
  },
  {
   "cell_type": "code",
   "execution_count": 5,
   "metadata": {},
   "outputs": [
    {
     "name": "stdout",
     "output_type": "stream",
     "text": [
      "你在表現的評估的 2 個問題中答對了 2 題。\n"
     ]
    }
   ],
   "source": [
    "print(\"你在表現的評估的 {} 個問題中答對了 {} 題。\".format(number_of_test_runs, number_of_successes))"
   ]
  }
 ],
 "metadata": {
  "kernelspec": {
   "display_name": "ML from Scratch",
   "language": "python",
   "name": "mlfromscratch"
  },
  "language_info": {
   "codemirror_mode": {
    "name": "ipython",
    "version": 3
   },
   "file_extension": ".py",
   "mimetype": "text/x-python",
   "name": "python",
   "nbconvert_exporter": "python",
   "pygments_lexer": "ipython3",
   "version": "3.8.13"
  }
 },
 "nbformat": 4,
 "nbformat_minor": 4
}
