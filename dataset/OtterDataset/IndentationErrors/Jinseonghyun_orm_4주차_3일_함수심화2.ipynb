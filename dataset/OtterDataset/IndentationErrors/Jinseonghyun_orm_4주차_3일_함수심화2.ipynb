{
  "nbformat": 4,
  "nbformat_minor": 0,
  "metadata": {
    "colab": {
      "provenance": []
    },
    "kernelspec": {
      "name": "python3",
      "display_name": "Python 3"
    },
    "language_info": {
      "name": "python"
    }
  },
  "cells": [
    {
      "cell_type": "markdown",
      "source": [
        "* 일급함수\n",
        "    - 변수(값)처럼 취급되는 함수\n",
        "* 고차함수\n",
        "    - 함수를 아규먼트로 받거나 리턴가능\n",
        "* 클로저\n",
        "    - 클로징 되어야 하는 변수에 접근하는 것을 클로저라고 합니다."
      ],
      "metadata": {
        "id": "fcQU9z-Q03fm"
      }
    },
    {
      "cell_type": "markdown",
      "source": [
        "# 1. 클로저\n",
        "- 클로저는 파이썬에만 있는 개념이 아니라 다른 프로그래밍 언어에서도 중요한 프로그래밍 개념으로, 함수 내 함수가 외부 변수를 참조하여 보존하는 것을 얘기합니다.\n",
        "\n",
        "- 일급함수와 고차함수의 개념을 히애해야한다.\n"
      ],
      "metadata": {
        "id": "qGiJvx9ArWxD"
      }
    },
    {
      "cell_type": "code",
      "source": [
        "def outer_function(x):\n",
        "    def inner_function(y):\n",
        "        return x + y\n",
        "    return inner_function\n",
        "\n",
        "inner = outer_function(100)\n",
        "inner(200) # inner 입장에서 100을 변경할 수 있는 방법이 없습니다."
      ],
      "metadata": {
        "colab": {
          "base_uri": "https://localhost:8080/"
        },
        "id": "XluIUb1L0Tbs",
        "outputId": "2da8cf52-125e-463c-e408-fbb86d797c24"
      },
      "execution_count": 1,
      "outputs": [
        {
          "output_type": "execute_result",
          "data": {
            "text/plain": [
              "300"
            ]
          },
          "metadata": {},
          "execution_count": 1
        }
      ]
    },
    {
      "cell_type": "code",
      "source": [
        "def make_counter():\n",
        "    count = 0\n",
        "\n",
        "    def counter():\n",
        "        count += 1 # error 왜냐하면 지역변수 내에 count가 없기 때문에\n",
        "        return count\n",
        "\n",
        "    return counter\n",
        "\n",
        "counter_a = make_counter()\n",
        "print(counter_a())  # 1\n",
        "print(counter_a())  # 2\n",
        "print(counter_a())  # 3\n",
        "# 이렇게 함으로 순서는 항상 상승된다는 보장할 수 있습니다.\n",
        "# DB에서 게시물 번호"
      ],
      "metadata": {
        "id": "dV7F1qE512LF"
      },
      "execution_count": null,
      "outputs": []
    },
    {
      "cell_type": "code",
      "source": [
        "def make_counter():\n",
        "    count = 0\n",
        "\n",
        "    def counter():\n",
        "        global count # error 왜냐하면 글로벌(전역 영역에) 영역에 count가 없습니다.\n",
        "        count += 1\n",
        "        return count\n",
        "\n",
        "    return counter\n",
        "\n",
        "counter_a = make_counter()\n",
        "print(counter_a())  # 1\n",
        "print(counter_a())  # 2"
      ],
      "metadata": {
        "id": "0KEZfPRR12t8"
      },
      "execution_count": null,
      "outputs": []
    },
    {
      "cell_type": "code",
      "source": [
        "def make_counter():\n",
        "    count = 0\n",
        "\n",
        "    def counter():\n",
        "        nonlocal count\n",
        "        count += 1\n",
        "        return count\n",
        "\n",
        "    return counter\n",
        "\n",
        "counter_a = make_counter()\n",
        "print(counter_a())  # 1\n",
        "print(counter_a())  # 2\n",
        "print(counter_a())  # 3\n",
        "\n",
        "# 이렇게 함으로 순서는 항상 상승된다는 보장할 수 있습니다.\n",
        "# DB에서 게시물 번호"
      ],
      "metadata": {
        "colab": {
          "base_uri": "https://localhost:8080/"
        },
        "id": "HS-3ilwv2lv8",
        "outputId": "978c2e4e-41e9-48e8-f36c-322808ba7f7a"
      },
      "execution_count": 9,
      "outputs": [
        {
          "output_type": "stream",
          "name": "stdout",
          "text": [
            "1\n",
            "2\n",
            "3\n"
          ]
        }
      ]
    },
    {
      "cell_type": "code",
      "source": [
        "# 위와 같은 결과 안의 로직을 가져온거 make_counter 함수로 위에서 한번더 덮어서 클로저를 쓰는 이유는 count 에 접근이 가능하게 하기위함\n",
        "count = 0\n",
        "def counter():\n",
        "    global count\n",
        "    count += 1\n",
        "    return count\n",
        "\n",
        "counter_a = counter\n",
        "print(counter_a())  # 1\n",
        "count = 0\n",
        "print(counter_a())  # 2\n",
        "print(counter_a())  # 3\n",
        "\n",
        "# 이렇게 함으로 순서는 항상 상승된다는 보장할 수 있습니다.\n",
        "# DB에서 게시물 번호"
      ],
      "metadata": {
        "colab": {
          "base_uri": "https://localhost:8080/"
        },
        "id": "8EN6yi2Q3TpE",
        "outputId": "619f914b-7d10-4c05-dfe0-b253ace47cc5"
      },
      "execution_count": 10,
      "outputs": [
        {
          "output_type": "stream",
          "name": "stdout",
          "text": [
            "1\n",
            "1\n",
            "2\n"
          ]
        }
      ]
    },
    {
      "cell_type": "code",
      "source": [
        "# 클로저가 아니다!. 상단 함수안에서 클로징 되어야하는 변수가 살아 있지 않기 때문\n",
        "def calc(oper):\n",
        "    def add(x, y):\n",
        "        return x + y\n",
        "    def sub(x, y):\n",
        "        return x - y\n",
        "    if oper == 'add':\n",
        "        return add\n",
        "    if oper == 'sub':\n",
        "        return sub\n",
        "\n",
        "add = calc('add')\n",
        "add(10, 20)"
      ],
      "metadata": {
        "colab": {
          "base_uri": "https://localhost:8080/"
        },
        "id": "h6SAydEl4JrE",
        "outputId": "66326691-267e-4724-9bf6-7f1781b92cb1"
      },
      "execution_count": 12,
      "outputs": [
        {
          "output_type": "execute_result",
          "data": {
            "text/plain": [
              "30"
            ]
          },
          "metadata": {},
          "execution_count": 12
        }
      ]
    },
    {
      "cell_type": "code",
      "source": [
        "# 클로저!. original 이 클로징 되어야 하는 변수인데 살아있음\n",
        "def calc(oper, original):\n",
        "    def add(x, y):\n",
        "        return original + x + y\n",
        "    def sub(x, y):\n",
        "        return original - x - y\n",
        "    if oper == 'add':\n",
        "        return add\n",
        "    if oper == 'sub':\n",
        "        return sub\n",
        "\n",
        "add = calc('add', 1000)\n",
        "add(10, 20) # add의 입장에서 1000을 바꿀 수 없다!\n",
        "\n",
        "sub = calc('sub', 100)\n",
        "sub(10, 20) # sub에 입장에서 100을 바꿀 수 없다!"
      ],
      "metadata": {
        "colab": {
          "base_uri": "https://localhost:8080/"
        },
        "id": "t4CobPjY4Wes",
        "outputId": "5fa2a34f-e42c-4cef-950a-39d482f15b3e"
      },
      "execution_count": 13,
      "outputs": [
        {
          "output_type": "execute_result",
          "data": {
            "text/plain": [
              "70"
            ]
          },
          "metadata": {},
          "execution_count": 13
        }
      ]
    },
    {
      "cell_type": "code",
      "source": [
        "# 어떠한 변수를 보호하기 위한 용도로는 잘 사용하지 않습니다.\n",
        "def 은행(원금):\n",
        "    def 입금(입금금액):\n",
        "        return 원금 + 입금금액\n",
        "    return 입금\n",
        "\n",
        "이호준통장_입금함수 = 은행(1000) # 1000만원을 초기에 입금\n",
        "이호준통장_입금함수(100)\n",
        "이호준통장_입금함수(-1100)\n",
        "\n",
        "# 문제점1: 입금 금액에 커스텀 인스턴스를 넣어서 __add__를 추가할 수 있나요?\n",
        "# 문제점2: 출금은 안되나요?"
      ],
      "metadata": {
        "colab": {
          "base_uri": "https://localhost:8080/"
        },
        "id": "t5MuSHDb8NdW",
        "outputId": "7a83b089-e7c5-48b7-8f34-4e9aad11f365"
      },
      "execution_count": 15,
      "outputs": [
        {
          "output_type": "execute_result",
          "data": {
            "text/plain": [
              "-100"
            ]
          },
          "metadata": {},
          "execution_count": 15
        }
      ]
    },
    {
      "cell_type": "markdown",
      "source": [
        "# 2. 데코레이터란?\n"
      ],
      "metadata": {
        "id": "bDEIHail8tZj"
      }
    },
    {
      "cell_type": "code",
      "source": [
        "def login(function):\n",
        "    '''\n",
        "    로그인을 확인하는 로직\n",
        "    '''\n",
        "    pass\n",
        "\n",
        "@login\n",
        "def 게시판읽기():\n",
        "    pass"
      ],
      "metadata": {
        "id": "FJdWEzyS_Jo8"
      },
      "execution_count": 16,
      "outputs": []
    },
    {
      "cell_type": "code",
      "source": [
        "def 동작시간체크(function):\n",
        "    '''\n",
        "    동작 시간을 체크하는 로직\n",
        "    '''\n",
        "    pass\n",
        "\n",
        "@동작시간체크\n",
        "def f():\n",
        "    pass"
      ],
      "metadata": {
        "id": "88-DRbPg_Zwd"
      },
      "execution_count": 17,
      "outputs": []
    },
    {
      "cell_type": "code",
      "source": [
        "def log(function):\n",
        "    '''\n",
        "    DB에 접속 기록을 쌓는 로직\n",
        "    '''\n",
        "    pass\n",
        "\n",
        "@log\n",
        "def f():\n",
        "    pass"
      ],
      "metadata": {
        "id": "AcME3FvV_hBc"
      },
      "execution_count": 18,
      "outputs": []
    },
    {
      "cell_type": "code",
      "source": [
        "# 왜 데코레이터가 필요한가요? 그냥 아래와 같이 하면 안되나요?\n",
        "# 분명한 목적성, 가독성, 명료\n",
        "\n",
        "def login(function):\n",
        "    pass\n",
        "\n",
        "def 게시판읽기():\n",
        "    login()\n",
        "    # 이렇게 해도 로그인을 확인하는 로직이 들어가는데!? 굳이!?\n",
        "    # 새로운 문법을 만들면서까지 사용해야 하나요?\n",
        "    pass"
      ],
      "metadata": {
        "id": "pki5Gezl_vP8"
      },
      "execution_count": null,
      "outputs": []
    },
    {
      "cell_type": "code",
      "source": [
        "# 데코레이터는 호출되었을 때 실제 실행되는 함수입니다.\n",
        "# 데코레이터의 return 함수가 실행되는 것입니다.\n",
        "def simple_decorator(function):\n",
        "    def wrapper():\n",
        "        print(\"전\")\n",
        "        function()\n",
        "        print(\"후\")\n",
        "    return wrapper\n",
        "\n",
        "@simple_decorator\n",
        "def hello(): # hello가 simple_decorator(function):에 function으로 들어감, 실제로 hello함수가 실행되는게 아니라 simple_decorator의 아규먼트로 전달되어서 실행\n",
        "    print(\"Hello, World!\")\n",
        "\n",
        "hello() # 데코레이터가 없는 상태에서는 simple_decorator(hello)() 와 같습니다."
      ],
      "metadata": {
        "colab": {
          "base_uri": "https://localhost:8080/"
        },
        "id": "rIK6IumbAtSd",
        "outputId": "c61450d2-f747-438d-b17a-24cd6ec94ebc"
      },
      "execution_count": 19,
      "outputs": [
        {
          "output_type": "stream",
          "name": "stdout",
          "text": [
            "전\n",
            "Hello, World!\n",
            "후\n"
          ]
        }
      ]
    },
    {
      "cell_type": "code",
      "source": [
        "# 위의 로직과 같다.\n",
        "def hello():\n",
        "    print(\"Hello, World!\")\n",
        "\n",
        "print(\"전\")\n",
        "hello()\n",
        "print(\"후\")"
      ],
      "metadata": {
        "colab": {
          "base_uri": "https://localhost:8080/"
        },
        "id": "Il-HuROHCtA9",
        "outputId": "0ca450f3-b2f2-4674-9d82-b87dd2ce0d70"
      },
      "execution_count": 22,
      "outputs": [
        {
          "output_type": "stream",
          "name": "stdout",
          "text": [
            "전\n",
            "Hello, World!\n",
            "후\n"
          ]
        }
      ]
    },
    {
      "cell_type": "code",
      "source": [
        "def simple_decorator(function):\n",
        "    def wrapper():\n",
        "        print(\"전\")\n",
        "        function()\n",
        "        print(\"후\")\n",
        "    return wrapper\n",
        "\n",
        "def hello():\n",
        "    print(\"Hello, World!\")\n",
        "\n",
        "w = simple_decorator(hello)\n",
        "w()"
      ],
      "metadata": {
        "colab": {
          "base_uri": "https://localhost:8080/"
        },
        "id": "4bl1aMpMCyDE",
        "outputId": "acd8a93d-9806-4a01-adde-dede3cbd9e29"
      },
      "execution_count": 23,
      "outputs": [
        {
          "output_type": "stream",
          "name": "stdout",
          "text": [
            "전\n",
            "Hello, World!\n",
            "후\n"
          ]
        }
      ]
    },
    {
      "cell_type": "code",
      "source": [
        "def simple_decorator(function):\n",
        "    def wrapper():\n",
        "        print(\"전\")\n",
        "        function()\n",
        "        print(\"후\")\n",
        "    return wrapper\n",
        "\n",
        "def hello():\n",
        "    print(\"Hello, World!\")\n",
        "\n",
        "simple_decorator(hello)()"
      ],
      "metadata": {
        "colab": {
          "base_uri": "https://localhost:8080/"
        },
        "id": "pOHyynJMDDJr",
        "outputId": "a9b0798b-88de-4bed-f998-2502c51ac069"
      },
      "execution_count": 24,
      "outputs": [
        {
          "output_type": "stream",
          "name": "stdout",
          "text": [
            "전\n",
            "Hello, World!\n",
            "후\n"
          ]
        }
      ]
    },
    {
      "cell_type": "code",
      "source": [
        "def simple_decorator(function):\n",
        "    def wrapper(a, b): # point 1\n",
        "        print('전')\n",
        "        result = function(a, b) # point 2\n",
        "        print(result)\n",
        "        print('후')\n",
        "        return result\n",
        "    return wrapper\n",
        "\n",
        "@simple_decorator\n",
        "def hello(a, b):\n",
        "    return a + b\n",
        "\n",
        "\n",
        "hello(10, 20)  # => simple_decorator(hello)(10,20) 을 실행시키는거 => return wrapper(10,20)"
      ],
      "metadata": {
        "colab": {
          "base_uri": "https://localhost:8080/"
        },
        "id": "rIJNJKtJDqjW",
        "outputId": "af8d4657-d637-47f3-a907-441547f3f0b8"
      },
      "execution_count": 26,
      "outputs": [
        {
          "output_type": "stream",
          "name": "stdout",
          "text": [
            "전\n",
            "30\n",
            "후\n"
          ]
        },
        {
          "output_type": "execute_result",
          "data": {
            "text/plain": [
              "30"
            ]
          },
          "metadata": {},
          "execution_count": 26
        }
      ]
    },
    {
      "cell_type": "markdown",
      "source": [
        "# 실무에서 사용하는 코드"
      ],
      "metadata": {
        "id": "mDLkOa-bE7My"
      }
    },
    {
      "cell_type": "code",
      "source": [
        "sum([1, 2, '3', 4, 5, '6']) # error 그런데 저는 이게 되게 하고 싶어요"
      ],
      "metadata": {
        "id": "bL0lnFxKFALi"
      },
      "execution_count": null,
      "outputs": []
    },
    {
      "cell_type": "code",
      "source": [
        "l = [1, 2, '3', 4, 5, '6']\n",
        "sum(map(int, l)) # 이렇게 하면 되는 것 아닌가요?"
      ],
      "metadata": {
        "colab": {
          "base_uri": "https://localhost:8080/"
        },
        "id": "GmNP0n6oFc57",
        "outputId": "678308dc-2600-4b23-c2ef-19b07dcf97ec"
      },
      "execution_count": 28,
      "outputs": [
        {
          "output_type": "execute_result",
          "data": {
            "text/plain": [
              "21"
            ]
          },
          "metadata": {},
          "execution_count": 28
        }
      ]
    },
    {
      "cell_type": "code",
      "source": [
        "l = [1, 2, '3hello', 4, 5, '|6|']\n",
        "sum(map(int, l))"
      ],
      "metadata": {
        "id": "Wo8hyo8hFkzc"
      },
      "execution_count": null,
      "outputs": []
    },
    {
      "cell_type": "code",
      "source": [
        "# step1 : 골격을 만듭니다\n",
        "\n",
        "def data_pre(function):\n",
        "    def wrapper():\n",
        "        return None\n",
        "    return wrapper\n",
        "\n",
        "@data_pre\n",
        "def mean(l):\n",
        "    return sum(l) / len(l)\n",
        "\n",
        "mean([1, 2, '3', 4, 5, '6']) # data_pre(mean)()"
      ],
      "metadata": {
        "id": "_3PLh9SxF7uU"
      },
      "execution_count": null,
      "outputs": []
    },
    {
      "cell_type": "code",
      "source": [
        "# step2 : 파라미터를 설정합니다.\n",
        "# 얻어가야할 포인트(데코레이터와는 관련은 없습니다): map은 __len__가 없어서 len()가 안됩니다.\n",
        "# 포인트2: list 형변환은 부담이 있는 연산이니 주의를 해주세요.\n",
        "\n",
        "def data_pre(function):\n",
        "    def wrapper(iter_obj):\n",
        "        return function(list(map(int, iter_obj)))\n",
        "    return wrapper\n",
        "\n",
        "@data_pre\n",
        "def mean(l):\n",
        "    return sum(l) / len(l)\n",
        "\n",
        "mean([1, 2, '3', 4, 5, '6']) # data_pre(mean)(iter_obj) # iter_obj에 [1, 2, '3', 4, 5, '6']\n",
        "\n",
        "# 이 3.5는 실제 mean 반환값인가요? 실제는 wrapper에 반환값입니다!!"
      ],
      "metadata": {
        "colab": {
          "base_uri": "https://localhost:8080/"
        },
        "id": "iNi2WfJ9KDj2",
        "outputId": "4aa136f3-0d2f-4626-f004-326fc4fd468f"
      },
      "execution_count": 35,
      "outputs": [
        {
          "output_type": "execute_result",
          "data": {
            "text/plain": [
              "3.5"
            ]
          },
          "metadata": {},
          "execution_count": 35
        }
      ]
    },
    {
      "cell_type": "code",
      "source": [
        "# 복습 X\n",
        "# 좀 더 정교한 작업이 필요할 때\n",
        "# 정규표현식 배우면 엄청 간단해집니다.\n",
        "# re.sub(r'[a-zA-Z]+', '')\n",
        "\n",
        "def data_pre(function):\n",
        "    def wrapper(iter_obj):\n",
        "        l = []\n",
        "        for i in iter_obj:\n",
        "            if isinstance(i, str):\n",
        "                s = ''\n",
        "                for j in i:\n",
        "                    if j.isdigit():\n",
        "                        s += j\n",
        "                l.append(int(s))\n",
        "            else:\n",
        "                l.append(i)\n",
        "        print(l)\n",
        "        return function(list(map(int, l)))\n",
        "    return wrapper\n",
        "\n",
        "@data_pre\n",
        "def mean(l):\n",
        "    return sum(l) / len(l)\n",
        "\n",
        "mean([1, 2, 'l3l', 4, 5, 'abc6def'])"
      ],
      "metadata": {
        "colab": {
          "base_uri": "https://localhost:8080/"
        },
        "id": "LWPo_2D4LEgU",
        "outputId": "32c3b9e7-8e71-4b36-de1f-bc73a3367988"
      },
      "execution_count": 36,
      "outputs": [
        {
          "output_type": "stream",
          "name": "stdout",
          "text": [
            "[1, 2, 3, 4, 5, 6]\n"
          ]
        },
        {
          "output_type": "execute_result",
          "data": {
            "text/plain": [
              "3.5"
            ]
          },
          "metadata": {},
          "execution_count": 36
        }
      ]
    },
    {
      "cell_type": "code",
      "source": [
        "# 데코레이터 활용"
      ],
      "metadata": {
        "id": "28O2t4syOFL8"
      },
      "execution_count": null,
      "outputs": []
    },
    {
      "cell_type": "code",
      "source": [
        "# step0와 step1을 함께 한겁니다.\n",
        "data = [-1, 30, 20, 31, -50] # sum을 할 것인데!? 모두다 절대값을 취하는 데커레이터를 만들어 사용하도록 할게요.\n",
        "\n",
        "\n",
        "def all_abs():\n",
        "    def wrapper():\n",
        "        return\n",
        "    return wrapper\n",
        "\n",
        "\n",
        "@all_abs\n",
        "def _sum(l):\n",
        "    return sum(l)\n",
        "\n",
        "_sum(data)"
      ],
      "metadata": {
        "id": "to3fisy2Nh_q"
      },
      "execution_count": null,
      "outputs": []
    },
    {
      "cell_type": "code",
      "source": [
        "# step2\n",
        "data = [-1, 2, 3, 4, -5] # sum을 할 것인데!? 모두다 절대값을 취하는 데커레이터를 만들어 사용하도록 할게요.\n",
        "\n",
        "\n",
        "def all_abs(f):\n",
        "    def wrapper(iter_obj):\n",
        "        return f([abs(i) for i in iter_obj])\n",
        "    return wrapper\n",
        "\n",
        "\n",
        "@all_abs\n",
        "def _sum(l):\n",
        "    return sum(l)\n",
        "\n",
        "_sum(data)"
      ],
      "metadata": {
        "colab": {
          "base_uri": "https://localhost:8080/"
        },
        "id": "cJBcaPPHOEtN",
        "outputId": "170baed8-8bbf-4a90-8597-a07d8269acc8"
      },
      "execution_count": 38,
      "outputs": [
        {
          "output_type": "execute_result",
          "data": {
            "text/plain": [
              "15"
            ]
          },
          "metadata": {},
          "execution_count": 38
        }
      ]
    },
    {
      "cell_type": "markdown",
      "source": [
        "# lambda"
      ],
      "metadata": {
        "id": "8Eq2C8axMmTz"
      }
    },
    {
      "cell_type": "code",
      "source": [
        "square = lambda x: x*x\n",
        "print(square(5))  # 출력: 25"
      ],
      "metadata": {
        "colab": {
          "base_uri": "https://localhost:8080/"
        },
        "id": "2EeDNdNUNMs-",
        "outputId": "8de27a66-905c-4356-af4c-ae21439ea6b2"
      },
      "execution_count": 37,
      "outputs": [
        {
          "output_type": "stream",
          "name": "stdout",
          "text": [
            "25\n"
          ]
        }
      ]
    },
    {
      "cell_type": "code",
      "source": [
        "numbers = [1, 2, 3, 4, 5]\n",
        "print(list(filter(lambda x: x > 3, numbers)))  # 출력: [4, 5]"
      ],
      "metadata": {
        "colab": {
          "base_uri": "https://localhost:8080/"
        },
        "id": "gZCZ3LVLNNPc",
        "outputId": "c558231b-58cf-47dd-ea5f-f16dc4705ebe"
      },
      "execution_count": 39,
      "outputs": [
        {
          "output_type": "stream",
          "name": "stdout",
          "text": [
            "[4, 5]\n"
          ]
        }
      ]
    },
    {
      "cell_type": "code",
      "source": [
        "numbers = [1, 2, 3, 4, 5]\n",
        "print(list(filter(lambda x: x > 3, numbers)))  # 출력: [4, 5]\n",
        "\n",
        "\n",
        "# 재사용 여부에 따라 lambda를 사용할지 def 사용할지 판단하시면 됩니다.\n",
        "def f(x):\n",
        "    return x > 3\n",
        "numbers = [1, 2, 3, 4, 5]\n",
        "print(list(filter(f, numbers)))  # 출력: [4, 5]"
      ],
      "metadata": {
        "colab": {
          "base_uri": "https://localhost:8080/"
        },
        "id": "HNcxn-x-QLdN",
        "outputId": "8287c05c-2bb3-4eed-ab34-43613091b6f0"
      },
      "execution_count": 40,
      "outputs": [
        {
          "output_type": "stream",
          "name": "stdout",
          "text": [
            "[4, 5]\n",
            "[4, 5]\n"
          ]
        }
      ]
    },
    {
      "cell_type": "markdown",
      "source": [
        "# args, kwargs\n",
        "- 아규먼츠와 키워드 아규먼츠\n",
        "- 애스터리스크(*) 1개는 튜플이나 리스트를 패킹, 언패킹하는데 사용하며 2개는 딕셔너리를 패킹, 언패킹 하는데 사용됩니다. 변수명은 꼭 args나 kwargs를 사용하지 않아도 작동됩니다."
      ],
      "metadata": {
        "id": "coxIyMoMReSD"
      }
    },
    {
      "cell_type": "code",
      "source": [
        "# 패킹\n",
        "10, 20, 30"
      ],
      "metadata": {
        "colab": {
          "base_uri": "https://localhost:8080/"
        },
        "id": "hJymGr1lR1I1",
        "outputId": "f4ec6906-b56c-49d3-b2ca-3cf75b65a564"
      },
      "execution_count": 41,
      "outputs": [
        {
          "output_type": "execute_result",
          "data": {
            "text/plain": [
              "(10, 20, 30)"
            ]
          },
          "metadata": {},
          "execution_count": 41
        }
      ]
    },
    {
      "cell_type": "code",
      "source": [
        "# 언패킹\n",
        "a, b, c = [10, 20, 30]\n",
        "a\n",
        "\n",
        "for i, j in [[10, 20], [30, 40]]:\n",
        "    print(i * j)"
      ],
      "metadata": {
        "colab": {
          "base_uri": "https://localhost:8080/"
        },
        "id": "zyjDLGFXSPUs",
        "outputId": "21b01d45-6ab7-45d8-fdb2-718c6e708811"
      },
      "execution_count": 45,
      "outputs": [
        {
          "output_type": "stream",
          "name": "stdout",
          "text": [
            "200\n",
            "1200\n"
          ]
        }
      ]
    },
    {
      "cell_type": "code",
      "source": [
        "def print_args(*args): # * 붙여줘야 패킹되서 넘어온다.\n",
        "    print(args) # 출력: (100, True, 'Licat')\n",
        "\n",
        "print_args(100, True, 'Licat')"
      ],
      "metadata": {
        "colab": {
          "base_uri": "https://localhost:8080/"
        },
        "id": "JjQrMrvfSWLE",
        "outputId": "3cf95617-7f7a-47d5-c01e-deb95936e993"
      },
      "execution_count": 46,
      "outputs": [
        {
          "output_type": "stream",
          "name": "stdout",
          "text": [
            "(100, True, 'Licat')\n"
          ]
        }
      ]
    },
    {
      "cell_type": "code",
      "source": [
        "def print_args(args): # * 안붙어서 패킹이 안되서 에러가남\n",
        "    print(args) # 출력: (100, True, 'Licat')\n",
        "\n",
        "print_args(100, True, 'Licat')"
      ],
      "metadata": {
        "colab": {
          "base_uri": "https://localhost:8080/",
          "height": 219
        },
        "id": "iGsAb_KISuzy",
        "outputId": "289ac19c-cfb6-4f77-fad1-a275ff8b5b8e"
      },
      "execution_count": 47,
      "outputs": [
        {
          "output_type": "error",
          "ename": "TypeError",
          "evalue": "print_args() takes 1 positional argument but 3 were given",
          "traceback": [
            "\u001b[0;31m---------------------------------------------------------------------------\u001b[0m",
            "\u001b[0;31mTypeError\u001b[0m                                 Traceback (most recent call last)",
            "\u001b[0;32m<ipython-input-47-40b7a82032fb>\u001b[0m in \u001b[0;36m<cell line: 4>\u001b[0;34m()\u001b[0m\n\u001b[1;32m      2\u001b[0m     \u001b[0mprint\u001b[0m\u001b[0;34m(\u001b[0m\u001b[0margs\u001b[0m\u001b[0;34m)\u001b[0m \u001b[0;31m# 출력: (100, True, 'Licat')\u001b[0m\u001b[0;34m\u001b[0m\u001b[0;34m\u001b[0m\u001b[0m\n\u001b[1;32m      3\u001b[0m \u001b[0;34m\u001b[0m\u001b[0m\n\u001b[0;32m----> 4\u001b[0;31m \u001b[0mprint_args\u001b[0m\u001b[0;34m(\u001b[0m\u001b[0;36m100\u001b[0m\u001b[0;34m,\u001b[0m \u001b[0;32mTrue\u001b[0m\u001b[0;34m,\u001b[0m \u001b[0;34m'Licat'\u001b[0m\u001b[0;34m)\u001b[0m\u001b[0;34m\u001b[0m\u001b[0;34m\u001b[0m\u001b[0m\n\u001b[0m",
            "\u001b[0;31mTypeError\u001b[0m: print_args() takes 1 positional argument but 3 were given"
          ]
        }
      ]
    },
    {
      "cell_type": "code",
      "source": [
        "def print_args(a, b, *args): # 패킹이 마지막에 있기에 가능하다. 범위가 보여짐\n",
        "    print(args) # 출력: ('Licat', 'hello', 10)\n",
        "\n",
        "print_args(100, True, 'Licat', 'hello', 10)"
      ],
      "metadata": {
        "colab": {
          "base_uri": "https://localhost:8080/"
        },
        "id": "HqTKzePmS9TK",
        "outputId": "f3f8d3c2-b65c-44e6-b214-ec4165520757"
      },
      "execution_count": 48,
      "outputs": [
        {
          "output_type": "stream",
          "name": "stdout",
          "text": [
            "('Licat', 'hello', 10)\n"
          ]
        }
      ]
    },
    {
      "cell_type": "code",
      "source": [
        "# 패킹하는 파라미터가 먼저 나오면 뒤에있는 일반 파라미터는 사용하시면 안됩니다.\n",
        "def print_args(*args, a, b):  # 패킹이 앞으로 가면 어디까지가 패킹인지 모르기에 에러\n",
        "    print(args) # 출력: ('Licat', 'hello', 10)\n",
        "\n",
        "print_args(100, True, 'Licat', 'hello', 10)"
      ],
      "metadata": {
        "colab": {
          "base_uri": "https://localhost:8080/",
          "height": 219
        },
        "id": "EwswOuBpS-fU",
        "outputId": "2c87d240-d116-4cf3-906c-9dba3ad56ca6"
      },
      "execution_count": 49,
      "outputs": [
        {
          "output_type": "error",
          "ename": "TypeError",
          "evalue": "print_args() missing 2 required keyword-only arguments: 'a' and 'b'",
          "traceback": [
            "\u001b[0;31m---------------------------------------------------------------------------\u001b[0m",
            "\u001b[0;31mTypeError\u001b[0m                                 Traceback (most recent call last)",
            "\u001b[0;32m<ipython-input-49-6d82a5720ab4>\u001b[0m in \u001b[0;36m<cell line: 4>\u001b[0;34m()\u001b[0m\n\u001b[1;32m      2\u001b[0m     \u001b[0mprint\u001b[0m\u001b[0;34m(\u001b[0m\u001b[0margs\u001b[0m\u001b[0;34m)\u001b[0m \u001b[0;31m# 출력: ('Licat', 'hello', 10)\u001b[0m\u001b[0;34m\u001b[0m\u001b[0;34m\u001b[0m\u001b[0m\n\u001b[1;32m      3\u001b[0m \u001b[0;34m\u001b[0m\u001b[0m\n\u001b[0;32m----> 4\u001b[0;31m \u001b[0mprint_args\u001b[0m\u001b[0;34m(\u001b[0m\u001b[0;36m100\u001b[0m\u001b[0;34m,\u001b[0m \u001b[0;32mTrue\u001b[0m\u001b[0;34m,\u001b[0m \u001b[0;34m'Licat'\u001b[0m\u001b[0;34m,\u001b[0m \u001b[0;34m'hello'\u001b[0m\u001b[0;34m,\u001b[0m \u001b[0;36m10\u001b[0m\u001b[0;34m)\u001b[0m\u001b[0;34m\u001b[0m\u001b[0;34m\u001b[0m\u001b[0m\n\u001b[0m",
            "\u001b[0;31mTypeError\u001b[0m: print_args() missing 2 required keyword-only arguments: 'a' and 'b'"
          ]
        }
      ]
    },
    {
      "cell_type": "code",
      "source": [
        "# 패킹\n",
        "def func(*args):\n",
        "    print(args)\n",
        "\n",
        "func(10, 20, 30)\n",
        "# 10, 20, 30 => *args => (10, 20, 30)"
      ],
      "metadata": {
        "colab": {
          "base_uri": "https://localhost:8080/"
        },
        "id": "2KQ-0lUcTIAs",
        "outputId": "034d43ac-9fc1-427f-dae9-4bf9e23483a3"
      },
      "execution_count": 50,
      "outputs": [
        {
          "output_type": "stream",
          "name": "stdout",
          "text": [
            "(10, 20, 30)\n"
          ]
        }
      ]
    },
    {
      "cell_type": "code",
      "source": [
        "# 언패킹\n",
        "def func(a, b, c):\n",
        "    print(a, b, c)\n",
        "\n",
        "args = (10, 20, 30)\n",
        "func(*args)  # * 꼭 붙여줘야 한다.\n",
        "# (10, 20, 30) => *args => 10, 20, 30"
      ],
      "metadata": {
        "colab": {
          "base_uri": "https://localhost:8080/"
        },
        "id": "9ge9IobRTe50",
        "outputId": "1f0b0923-8fd5-4fc0-8c07-029d2a7e9818"
      },
      "execution_count": 51,
      "outputs": [
        {
          "output_type": "stream",
          "name": "stdout",
          "text": [
            "10 20 30\n"
          ]
        }
      ]
    },
    {
      "cell_type": "code",
      "source": [
        "# ** 두개는 딕셔너리 / * 한개는 튜플 리스트 패킹 언패킹 할 떄 사용\n",
        "def print_kwargs(a, **kwargs):\n",
        "    print(a)\n",
        "    print(kwargs)\n",
        "\n",
        "print_kwargs(100, name='Licat', age='10')"
      ],
      "metadata": {
        "colab": {
          "base_uri": "https://localhost:8080/"
        },
        "id": "MNwTjQFHT4h0",
        "outputId": "30b956f5-d78e-419f-ed94-47924d3f6efd"
      },
      "execution_count": 52,
      "outputs": [
        {
          "output_type": "stream",
          "name": "stdout",
          "text": [
            "100\n",
            "{'name': 'Licat', 'age': '10'}\n"
          ]
        }
      ]
    },
    {
      "cell_type": "code",
      "source": [
        "def f(a, b, c, d, e):\n",
        "    print(a, b, c, d, e)\n",
        "\n",
        "f(1, 2, 3, 4, 5)"
      ],
      "metadata": {
        "colab": {
          "base_uri": "https://localhost:8080/"
        },
        "id": "6IdTY234UIuz",
        "outputId": "bc96accf-a286-4b7c-953d-cdb87323c0f6"
      },
      "execution_count": 54,
      "outputs": [
        {
          "output_type": "stream",
          "name": "stdout",
          "text": [
            "1 2 3 4 5\n"
          ]
        }
      ]
    },
    {
      "cell_type": "code",
      "source": [
        "def f(a, b, c, d, e):\n",
        "    print(a, b, c, d, e)\n",
        "\n",
        "f(1, 2, e=3, d=4, c=5) # 이렇게 보장해주는 언어가 별로 없다.\n",
        "# 키워드 아규먼트로 받겠다."
      ],
      "metadata": {
        "colab": {
          "base_uri": "https://localhost:8080/"
        },
        "id": "ve5VjOIzUbj0",
        "outputId": "b3a89348-1f46-48bf-f7b2-a39b45b9e279"
      },
      "execution_count": 55,
      "outputs": [
        {
          "output_type": "stream",
          "name": "stdout",
          "text": [
            "1 2 5 4 3\n"
          ]
        }
      ]
    },
    {
      "cell_type": "code",
      "source": [
        "def f(*args, **kargs): #\n",
        "    print(args)\n",
        "    print(kargs)\n",
        "\n",
        "f(1, 2, e=3, d=4, c=5) # 이렇게 보장해주는 언어가 별로 없어요."
      ],
      "metadata": {
        "colab": {
          "base_uri": "https://localhost:8080/"
        },
        "id": "sxFmFPG3Ud7z",
        "outputId": "68fc67b3-21c7-42b3-cf6e-4e15ca195a25"
      },
      "execution_count": 56,
      "outputs": [
        {
          "output_type": "stream",
          "name": "stdout",
          "text": [
            "(1, 2)\n",
            "{'e': 3, 'd': 4, 'c': 5}\n"
          ]
        }
      ]
    },
    {
      "cell_type": "code",
      "source": [
        "# 복습 x\n",
        "def print_args_kwargs(*args, **kwargs):\n",
        "    print('args:', args)\n",
        "    print('kwargs:', kwargs)\n",
        "\n",
        "inputlist = [100, True, 'leehojun']\n",
        "inputdic = {'score':100, 'name':'leehojun', 'age':'10'}\n",
        "print_args_kwargs(*inputlist)\n",
        "print('--------')\n",
        "print_args_kwargs(**inputdic)\n",
        "print('--------')\n",
        "print_args_kwargs(*inputlist, **inputdic)"
      ],
      "metadata": {
        "colab": {
          "base_uri": "https://localhost:8080/"
        },
        "id": "mG5ZqzlvYMPq",
        "outputId": "211d28b5-4ccd-4b8d-ee49-cbea20c97663"
      },
      "execution_count": 57,
      "outputs": [
        {
          "output_type": "stream",
          "name": "stdout",
          "text": [
            "args: (100, True, 'leehojun')\n",
            "kwargs: {}\n",
            "--------\n",
            "args: ()\n",
            "kwargs: {'score': 100, 'name': 'leehojun', 'age': '10'}\n",
            "--------\n",
            "args: (100, True, 'leehojun')\n",
            "kwargs: {'score': 100, 'name': 'leehojun', 'age': '10'}\n"
          ]
        }
      ]
    },
    {
      "cell_type": "code",
      "source": [
        "one, two, *three = 1, 2, 3, 4, 5\n",
        "print(one, two, three)"
      ],
      "metadata": {
        "colab": {
          "base_uri": "https://localhost:8080/"
        },
        "id": "MeOw-IkuYZrk",
        "outputId": "6ca51fe2-ba2d-4395-e60c-21de75177089"
      },
      "execution_count": 58,
      "outputs": [
        {
          "output_type": "stream",
          "name": "stdout",
          "text": [
            "1 2 [3, 4, 5]\n"
          ]
        }
      ]
    },
    {
      "cell_type": "code",
      "source": [
        "a, b, c = range(3)\n",
        "a"
      ],
      "metadata": {
        "colab": {
          "base_uri": "https://localhost:8080/"
        },
        "id": "oJfoqJWPYzzc",
        "outputId": "b405f753-10b3-45e1-fcbf-40de3d992686"
      },
      "execution_count": 59,
      "outputs": [
        {
          "output_type": "execute_result",
          "data": {
            "text/plain": [
              "0"
            ]
          },
          "metadata": {},
          "execution_count": 59
        }
      ]
    },
    {
      "cell_type": "code",
      "source": [
        "a, b, *c = 'hello world'\n",
        "c # 출력: ['l', 'l', 'o', ' ', 'w', 'o', 'r', 'l', 'd']"
      ],
      "metadata": {
        "colab": {
          "base_uri": "https://localhost:8080/"
        },
        "id": "GUi1c4XoY09s",
        "outputId": "59abac06-33e8-4f99-df85-e8a0f73a4dbd"
      },
      "execution_count": 60,
      "outputs": [
        {
          "output_type": "execute_result",
          "data": {
            "text/plain": [
              "['l', 'l', 'o', ' ', 'w', 'o', 'r', 'l', 'd']"
            ]
          },
          "metadata": {},
          "execution_count": 60
        }
      ]
    },
    {
      "cell_type": "markdown",
      "source": [
        "# 이터레이터와 제너레이터"
      ],
      "metadata": {
        "id": "ovL4kNXvY2gj"
      }
    },
    {
      "cell_type": "code",
      "source": [
        "# 이터레이터란, 값을 차례대로 꺼낼 수 있는 객체\n",
        "# 시퀀스형 자료형이란 index가 있고 indexing, slicing이 가능한 자료형\n",
        "# 제너레이터는 이터레이터를 만드는 함수\n",
        "\n",
        "# dict는 이터레이터인가요? Yes\n",
        "for i in {'one': 1, 'two': 2}:\n",
        "    print(i)\n",
        "\n",
        "list(map(lambda x:x[0], {'one': 1, 'two': 2}))\n",
        "\n",
        "# dict는 시퀀스형 자료형인가요? No\n",
        "# {'one': 1, 'two': 2}[2:] # error"
      ],
      "metadata": {
        "colab": {
          "base_uri": "https://localhost:8080/"
        },
        "id": "dMQzLBM7ZJQs",
        "outputId": "1b1ec8e9-b2d7-4124-85e7-23f255780ff5"
      },
      "execution_count": 66,
      "outputs": [
        {
          "output_type": "stream",
          "name": "stdout",
          "text": [
            "one\n",
            "two\n"
          ]
        },
        {
          "output_type": "execute_result",
          "data": {
            "text/plain": [
              "['o', 't']"
            ]
          },
          "metadata": {},
          "execution_count": 66
        }
      ]
    },
    {
      "cell_type": "code",
      "source": [
        "class MyIterator:\n",
        "    def __init__(self, stop):\n",
        "        self.stop = stop\n",
        "\n",
        "    def __iter__(self):\n",
        "        self.current_value = 0  # __iter__에서 초기화\n",
        "        return self\n",
        "\n",
        "    def __next__(self):\n",
        "        if self.current_value >= self.stop:\n",
        "            raise StopIteration\n",
        "        result = self.current_value\n",
        "        self.current_value += 1\n",
        "        return result\n",
        "\n",
        "my_iterator = MyIterator(5)\n",
        "\n",
        "for i in my_iterator:\n",
        "    print(i)"
      ],
      "metadata": {
        "colab": {
          "base_uri": "https://localhost:8080/"
        },
        "id": "rXNfGECcavn8",
        "outputId": "df49f0a1-c5a3-4187-86b2-297df54eec82"
      },
      "execution_count": 67,
      "outputs": [
        {
          "output_type": "stream",
          "name": "stdout",
          "text": [
            "0\n",
            "1\n",
            "2\n",
            "3\n",
            "4\n"
          ]
        }
      ]
    },
    {
      "cell_type": "code",
      "source": [
        "class MyIterator:\n",
        "    def __init__(self, stop):\n",
        "        self.current_value = 0  # 현재 값\n",
        "        self.stop = stop  # 순회를 멈출 값\n",
        "\n",
        "    def __iter__(self):\n",
        "        return self\n",
        "\n",
        "    def __next__(self):\n",
        "        if self.current_value >= self.stop:\n",
        "            raise StopIteration\n",
        "        result = self.current_value\n",
        "        self.current_value += 1\n",
        "        return result\n",
        "\n",
        "x = iter(MyIterator(5)) # for문의 시작\n",
        "print(next(x))\n",
        "print(next(x))\n",
        "print(next(x))\n",
        "print(next(x))\n",
        "print(next(x))\n",
        "print(next(x)) # for문이 멈춤"
      ],
      "metadata": {
        "colab": {
          "base_uri": "https://localhost:8080/",
          "height": 437
        },
        "id": "HnuryoudZYPM",
        "outputId": "f667b609-28f3-4a1b-cc94-427161b46d51"
      },
      "execution_count": 68,
      "outputs": [
        {
          "output_type": "stream",
          "name": "stdout",
          "text": [
            "0\n",
            "1\n",
            "2\n",
            "3\n",
            "4\n"
          ]
        },
        {
          "output_type": "error",
          "ename": "StopIteration",
          "evalue": "",
          "traceback": [
            "\u001b[0;31m---------------------------------------------------------------------------\u001b[0m",
            "\u001b[0;31mStopIteration\u001b[0m                             Traceback (most recent call last)",
            "\u001b[0;32m<ipython-input-68-edd238e7ad8a>\u001b[0m in \u001b[0;36m<cell line: 22>\u001b[0;34m()\u001b[0m\n\u001b[1;32m     20\u001b[0m \u001b[0mprint\u001b[0m\u001b[0;34m(\u001b[0m\u001b[0mnext\u001b[0m\u001b[0;34m(\u001b[0m\u001b[0mx\u001b[0m\u001b[0;34m)\u001b[0m\u001b[0;34m)\u001b[0m\u001b[0;34m\u001b[0m\u001b[0;34m\u001b[0m\u001b[0m\n\u001b[1;32m     21\u001b[0m \u001b[0mprint\u001b[0m\u001b[0;34m(\u001b[0m\u001b[0mnext\u001b[0m\u001b[0;34m(\u001b[0m\u001b[0mx\u001b[0m\u001b[0;34m)\u001b[0m\u001b[0;34m)\u001b[0m\u001b[0;34m\u001b[0m\u001b[0;34m\u001b[0m\u001b[0m\n\u001b[0;32m---> 22\u001b[0;31m \u001b[0mprint\u001b[0m\u001b[0;34m(\u001b[0m\u001b[0mnext\u001b[0m\u001b[0;34m(\u001b[0m\u001b[0mx\u001b[0m\u001b[0;34m)\u001b[0m\u001b[0;34m)\u001b[0m \u001b[0;31m# for문이 멈춤\u001b[0m\u001b[0;34m\u001b[0m\u001b[0;34m\u001b[0m\u001b[0m\n\u001b[0m",
            "\u001b[0;32m<ipython-input-68-edd238e7ad8a>\u001b[0m in \u001b[0;36m__next__\u001b[0;34m(self)\u001b[0m\n\u001b[1;32m      9\u001b[0m     \u001b[0;32mdef\u001b[0m \u001b[0m__next__\u001b[0m\u001b[0;34m(\u001b[0m\u001b[0mself\u001b[0m\u001b[0;34m)\u001b[0m\u001b[0;34m:\u001b[0m\u001b[0;34m\u001b[0m\u001b[0;34m\u001b[0m\u001b[0m\n\u001b[1;32m     10\u001b[0m         \u001b[0;32mif\u001b[0m \u001b[0mself\u001b[0m\u001b[0;34m.\u001b[0m\u001b[0mcurrent_value\u001b[0m \u001b[0;34m>=\u001b[0m \u001b[0mself\u001b[0m\u001b[0;34m.\u001b[0m\u001b[0mstop\u001b[0m\u001b[0;34m:\u001b[0m\u001b[0;34m\u001b[0m\u001b[0;34m\u001b[0m\u001b[0m\n\u001b[0;32m---> 11\u001b[0;31m             \u001b[0;32mraise\u001b[0m \u001b[0mStopIteration\u001b[0m\u001b[0;34m\u001b[0m\u001b[0;34m\u001b[0m\u001b[0m\n\u001b[0m\u001b[1;32m     12\u001b[0m         \u001b[0mresult\u001b[0m \u001b[0;34m=\u001b[0m \u001b[0mself\u001b[0m\u001b[0;34m.\u001b[0m\u001b[0mcurrent_value\u001b[0m\u001b[0;34m\u001b[0m\u001b[0;34m\u001b[0m\u001b[0m\n\u001b[1;32m     13\u001b[0m         \u001b[0mself\u001b[0m\u001b[0;34m.\u001b[0m\u001b[0mcurrent_value\u001b[0m \u001b[0;34m+=\u001b[0m \u001b[0;36m1\u001b[0m\u001b[0;34m\u001b[0m\u001b[0;34m\u001b[0m\u001b[0m\n",
            "\u001b[0;31mStopIteration\u001b[0m: "
          ]
        }
      ]
    },
    {
      "cell_type": "code",
      "source": [
        "class MyIterator:\n",
        "    def __init__(self, stop):\n",
        "        self.stop = stop\n",
        "\n",
        "    def __iter__(self):\n",
        "        self.current_value = 0  # __iter__에서 초기화\n",
        "        return self\n",
        "\n",
        "    def __next__(self):\n",
        "        if self.current_value >= self.stop:\n",
        "            raise StopIteration\n",
        "        result = self.current_value\n",
        "        self.current_value += 1\n",
        "        return result\n",
        "\n",
        "my_iterator = MyIterator(5)\n",
        "\n",
        "for i in my_iterator:\n",
        "    print(i)\n",
        "\n",
        "for i in my_iterator:\n",
        "    print(i)"
      ],
      "metadata": {
        "colab": {
          "base_uri": "https://localhost:8080/"
        },
        "id": "2TLJ81QKa9SE",
        "outputId": "febfd9c2-07a7-4393-a2fc-54ffdcf2298a"
      },
      "execution_count": 69,
      "outputs": [
        {
          "output_type": "stream",
          "name": "stdout",
          "text": [
            "0\n",
            "1\n",
            "2\n",
            "3\n",
            "4\n",
            "0\n",
            "1\n",
            "2\n",
            "3\n",
            "4\n"
          ]
        }
      ]
    },
    {
      "cell_type": "code",
      "source": [
        "x = zip('hello', 'world')\n",
        "\n",
        "for i in x:\n",
        "    print(i)\n",
        "\n",
        "for i in x:\n",
        "    print(i)"
      ],
      "metadata": {
        "colab": {
          "base_uri": "https://localhost:8080/"
        },
        "id": "0HwTI02qbdQD",
        "outputId": "918172fa-6024-4a76-9d5f-0ac581d27967"
      },
      "execution_count": 70,
      "outputs": [
        {
          "output_type": "stream",
          "name": "stdout",
          "text": [
            "('h', 'w')\n",
            "('e', 'o')\n",
            "('l', 'r')\n",
            "('l', 'l')\n",
            "('o', 'd')\n"
          ]
        }
      ]
    },
    {
      "cell_type": "code",
      "source": [
        "# 제너레이터는 이터레이터를 생성해주는 함수로, yield 키워드를 사용하여 만듭니다.\n",
        "def my_generator():\n",
        "    x = 10\n",
        "    yield x\n",
        "    x = 20  # 처음 10을 출력하고 다시 처음부터 가는게 아니라 yield에 다음 x인 20으로 돌아가 시작한다. 그걸 반복\n",
        "    yield x\n",
        "    x = 30\n",
        "    yield x\n",
        "    x = 40\n",
        "    yield x\n",
        "\n",
        "for i in my_generator():\n",
        "    print(i)"
      ],
      "metadata": {
        "colab": {
          "base_uri": "https://localhost:8080/"
        },
        "id": "XHDHplDbbgkU",
        "outputId": "4a5199d4-858b-423f-bf08-227d89f5995a"
      },
      "execution_count": 72,
      "outputs": [
        {
          "output_type": "stream",
          "name": "stdout",
          "text": [
            "10\n",
            "20\n",
            "30\n",
            "40\n"
          ]
        }
      ]
    },
    {
      "cell_type": "code",
      "source": [
        "# 제너레이터는 이터레이터를 생성해주는 함수로, yield 키워드를 사용하여 만듭니다.\n",
        "def my_generator():\n",
        "    x = 10\n",
        "    yield x\n",
        "    x = 20\n",
        "    yield x\n",
        "    x = 30\n",
        "    yield x\n",
        "    return\n",
        "    x = 40\n",
        "    yield x\n",
        "\n",
        "for i in my_generator():\n",
        "    print(i)"
      ],
      "metadata": {
        "colab": {
          "base_uri": "https://localhost:8080/"
        },
        "id": "ZjY4AIAhb7FT",
        "outputId": "6e6911d8-e056-422e-e1e8-5095218cf17d"
      },
      "execution_count": 73,
      "outputs": [
        {
          "output_type": "stream",
          "name": "stdout",
          "text": [
            "10\n",
            "20\n",
            "30\n"
          ]
        }
      ]
    },
    {
      "cell_type": "code",
      "source": [
        "# 제너레이터는 이터레이터를 생성해주는 함수로, yield 키워드를 사용하여 만듭니다.\n",
        "def my_generator():\n",
        "    x = 10\n",
        "    yield x\n",
        "    x = 20\n",
        "    yield x\n",
        "    x = 30\n",
        "    yield x\n",
        "    x = 40\n",
        "    yield x\n",
        "\n",
        "list(zip('hello', my_generator()))  # 이럴 때 제너레이터 사용"
      ],
      "metadata": {
        "colab": {
          "base_uri": "https://localhost:8080/"
        },
        "id": "IaQyNaJicMiD",
        "outputId": "2d25954c-eda5-40f1-945d-41f9d8344206"
      },
      "execution_count": 75,
      "outputs": [
        {
          "output_type": "execute_result",
          "data": {
            "text/plain": [
              "[('h', 10), ('e', 20), ('l', 30), ('l', 40)]"
            ]
          },
          "metadata": {},
          "execution_count": 75
        }
      ]
    },
    {
      "cell_type": "code",
      "source": [
        "def my_generator():\n",
        "    x = 0\n",
        "    while True:\n",
        "        yield x\n",
        "        x += 2\n",
        "\n",
        "list(zip('hello', my_generator()))"
      ],
      "metadata": {
        "colab": {
          "base_uri": "https://localhost:8080/"
        },
        "id": "sg-tRnBdcavD",
        "outputId": "24aebc25-097f-4dd6-87fc-163c318971c5"
      },
      "execution_count": 76,
      "outputs": [
        {
          "output_type": "execute_result",
          "data": {
            "text/plain": [
              "[('h', 0), ('e', 2), ('l', 4), ('l', 6), ('o', 8)]"
            ]
          },
          "metadata": {},
          "execution_count": 76
        }
      ]
    },
    {
      "cell_type": "code",
      "source": [
        "# 예시2\n",
        "def my_generator():\n",
        "    l = ['짝', '홀']                  # := 왈라스 연산자\n",
        "    while True:\n",
        "        yield l[t := False]  # t에다가 False를 할당하고 False는 0  짝,\n",
        "        yield l[t := True]   # t에다가 Treuu를 할당하고 True는 1 홀,\n",
        "\n",
        "list(zip([0, 1, 2, 3, 4, 5, 6], my_generator()))"
      ],
      "metadata": {
        "colab": {
          "base_uri": "https://localhost:8080/"
        },
        "id": "22jL7bMadEFk",
        "outputId": "b121fe9e-2cac-41f6-d816-88a4c19293be"
      },
      "execution_count": 77,
      "outputs": [
        {
          "output_type": "execute_result",
          "data": {
            "text/plain": [
              "[(0, '짝'), (1, '홀'), (2, '짝'), (3, '홀'), (4, '짝'), (5, '홀'), (6, '짝')]"
            ]
          },
          "metadata": {},
          "execution_count": 77
        }
      ]
    },
    {
      "cell_type": "code",
      "source": [
        "# 예시2\n",
        "def my_generator():\n",
        "    x = 0\n",
        "    while True:\n",
        "        if x == 0:\n",
        "            yield '짝'\n",
        "            x += 1\n",
        "        else:\n",
        "            yield '홀'\n",
        "            x == 0\n",
        "\n",
        "list(zip([0, 1, 2, 3, 4, 5, 6], my_generator()))"
      ],
      "metadata": {
        "colab": {
          "base_uri": "https://localhost:8080/"
        },
        "id": "I2lxbWpsdtwx",
        "outputId": "e3b9b651-b760-4663-ac43-d3b752b723a0"
      },
      "execution_count": 78,
      "outputs": [
        {
          "output_type": "execute_result",
          "data": {
            "text/plain": [
              "[(0, '짝'), (1, '홀'), (2, '홀'), (3, '홀'), (4, '홀'), (5, '홀'), (6, '홀')]"
            ]
          },
          "metadata": {},
          "execution_count": 78
        }
      ]
    },
    {
      "cell_type": "code",
      "source": [
        "x = 10\n",
        "while x := x -1:\n",
        "    print(x) # 0이 되면 멈춤"
      ],
      "metadata": {
        "colab": {
          "base_uri": "https://localhost:8080/"
        },
        "id": "I4Gc5q6PeElL",
        "outputId": "56ce74b2-84d6-4205-a04b-274e2f45ed62"
      },
      "execution_count": 80,
      "outputs": [
        {
          "output_type": "stream",
          "name": "stdout",
          "text": [
            "9\n",
            "8\n",
            "7\n",
            "6\n",
            "5\n",
            "4\n",
            "3\n",
            "2\n",
            "1\n"
          ]
        }
      ]
    },
    {
      "cell_type": "code",
      "source": [
        "l = [10, 20, 30]\n",
        "while l:\n",
        "    print(l.pop())"
      ],
      "metadata": {
        "colab": {
          "base_uri": "https://localhost:8080/"
        },
        "id": "HehJ27Yze_aj",
        "outputId": "f6bc4b2a-bbc0-4719-f0fc-b0416ce6cbdd"
      },
      "execution_count": 81,
      "outputs": [
        {
          "output_type": "stream",
          "name": "stdout",
          "text": [
            "30\n",
            "20\n",
            "10\n"
          ]
        }
      ]
    },
    {
      "cell_type": "markdown",
      "source": [
        "# nonlocal"
      ],
      "metadata": {
        "id": "4fQIeY_mf2bD"
      }
    },
    {
      "cell_type": "code",
      "source": [
        "# nonlocal은 파이썬의 키워드 중 하나로, 중첩 함수 내부에서 바깥 함수의 변수를 참조할 수 있게 합니다.\n",
        "# nonlocal은 주로 클로저(closure)에서 변수의 값을 변경하고자 할 때 사용합니다.\n",
        "\n",
        "# nonlocal\n",
        "a = 10\n",
        "def f():\n",
        "    a = 100\n",
        "    print(f'f a: {a}')\n",
        "    def ff():\n",
        "        a = 1000\n",
        "        print(f'ff a: {a}')\n",
        "        def fff():\n",
        "            nonlocal a # global a로 변경해보세요.\n",
        "            a = 100\n",
        "            print(f'fff a: {a}')\n",
        "        fff()\n",
        "        print(f'ff a: {a}')\n",
        "    ff()\n",
        "f()\n",
        "print(f'global a: {a}')"
      ],
      "metadata": {
        "colab": {
          "base_uri": "https://localhost:8080/"
        },
        "id": "AmBe5k99fMP7",
        "outputId": "9394b573-6386-4908-9286-1493a095c98d"
      },
      "execution_count": 82,
      "outputs": [
        {
          "output_type": "stream",
          "name": "stdout",
          "text": [
            "f a: 100\n",
            "ff a: 1000\n",
            "fff a: 100\n",
            "ff a: 100\n",
            "global a: 10\n"
          ]
        }
      ]
    },
    {
      "cell_type": "markdown",
      "source": [
        "# 모듈"
      ],
      "metadata": {
        "id": "Kkgrx_usfy5w"
      }
    },
    {
      "cell_type": "code",
      "source": [
        "# 모듈이란 클래스나 함수, 변수를 다른 파일(.py)에 작성하여\n",
        "# 다른 파이썬 코드에서 재사용할 수 있도록 한 것입니다.\n",
        "# 1번 스탭 : info.py를 생성\n",
        "\n",
        "# name = 'leehojun'\n",
        "# age = 10\n",
        "\n",
        "# def hello():\n",
        "#     print('안녕하세요 저는 이호준입니다.')\n"
      ],
      "metadata": {
        "id": "0Jtd-ltshV5r"
      },
      "execution_count": null,
      "outputs": []
    },
    {
      "cell_type": "code",
      "source": [
        "import info as q # info 라는 이름 대신 q\n",
        "\n",
        "q.name\n",
        "q.age\n",
        "q.hello()"
      ],
      "metadata": {
        "colab": {
          "base_uri": "https://localhost:8080/"
        },
        "id": "BzgITQlPh990",
        "outputId": "4941aba2-7684-48ea-af64-5b6ff37debf2"
      },
      "execution_count": 95,
      "outputs": [
        {
          "output_type": "stream",
          "name": "stdout",
          "text": [
            "안녕하세요 저는 이호준입니다.\n"
          ]
        }
      ]
    },
    {
      "cell_type": "code",
      "source": [
        "# 정말 많이 사용하는 코드\n",
        "# 관습처럼 사용합니다.\n",
        "import pandas as pd\n",
        "import numpy as np"
      ],
      "metadata": {
        "id": "dZD-_hwYiCc7"
      },
      "execution_count": 88,
      "outputs": []
    },
    {
      "cell_type": "code",
      "source": [
        "# a > b > c > infotest.py 파일이 있을 경우\n",
        "# name = 'hojun'만 infotest.py에 있습니다.\n",
        "\n",
        "import a.b.c.infotest as q\n",
        "\n",
        "q.name"
      ],
      "metadata": {
        "colab": {
          "base_uri": "https://localhost:8080/",
          "height": 219
        },
        "id": "1hyyLC6szSHb",
        "outputId": "e690b888-518c-4466-f600-b55ac1b73f0e"
      },
      "execution_count": 96,
      "outputs": [
        {
          "output_type": "error",
          "ename": "AttributeError",
          "evalue": "module 'a.b.c.infotest' has no attribute 'name'",
          "traceback": [
            "\u001b[0;31m---------------------------------------------------------------------------\u001b[0m",
            "\u001b[0;31mAttributeError\u001b[0m                            Traceback (most recent call last)",
            "\u001b[0;32m<ipython-input-96-ee7d933a6a54>\u001b[0m in \u001b[0;36m<cell line: 6>\u001b[0;34m()\u001b[0m\n\u001b[1;32m      4\u001b[0m \u001b[0;32mimport\u001b[0m \u001b[0ma\u001b[0m\u001b[0;34m.\u001b[0m\u001b[0mb\u001b[0m\u001b[0;34m.\u001b[0m\u001b[0mc\u001b[0m\u001b[0;34m.\u001b[0m\u001b[0minfotest\u001b[0m \u001b[0;32mas\u001b[0m \u001b[0mq\u001b[0m\u001b[0;34m\u001b[0m\u001b[0;34m\u001b[0m\u001b[0m\n\u001b[1;32m      5\u001b[0m \u001b[0;34m\u001b[0m\u001b[0m\n\u001b[0;32m----> 6\u001b[0;31m \u001b[0mq\u001b[0m\u001b[0;34m.\u001b[0m\u001b[0mname\u001b[0m\u001b[0;34m\u001b[0m\u001b[0;34m\u001b[0m\u001b[0m\n\u001b[0m",
            "\u001b[0;31mAttributeError\u001b[0m: module 'a.b.c.infotest' has no attribute 'name'"
          ]
        }
      ]
    },
    {
      "cell_type": "code",
      "source": [
        "import sys\n",
        "\n",
        "sys.path # 모듈을 읽어오는 경로\n",
        "sys.modules #기본적으로 읽어온 모듈들"
      ],
      "metadata": {
        "id": "2E9EtjmP0Bsz"
      },
      "execution_count": null,
      "outputs": []
    },
    {
      "cell_type": "code",
      "source": [
        "# 2개의 방식이 있는데 어떤 방식이 좋을까요? => 상황에 맞게 쓰시면 됩니다.\n",
        "# 어떤게 더 좋다는 표현은 옳지 않습니다. 정답은 없습니다.\n",
        "# 1번\n",
        "from info import name, age, hello\n",
        "\n",
        "print(name)"
      ],
      "metadata": {
        "colab": {
          "base_uri": "https://localhost:8080/"
        },
        "id": "5yebMpGY2Cqt",
        "outputId": "5c7e9d69-75db-4d92-cd33-dea313ea873d"
      },
      "execution_count": 102,
      "outputs": [
        {
          "output_type": "stream",
          "name": "stdout",
          "text": [
            "leehojun\n"
          ]
        }
      ]
    },
    {
      "cell_type": "code",
      "source": [
        "# 2번\n",
        "# 여러 모듈을 포함해야 하는 실무에서는 2번이 선호됩니다.\n",
        "import info\n",
        "\n",
        "info.name\n",
        "info.age\n",
        "info.hello()"
      ],
      "metadata": {
        "colab": {
          "base_uri": "https://localhost:8080/"
        },
        "id": "VPC8eawW3FBc",
        "outputId": "765430e9-705c-4bd7-c8f9-6803f0d18ad2"
      },
      "execution_count": 103,
      "outputs": [
        {
          "output_type": "stream",
          "name": "stdout",
          "text": [
            "안녕하세요 저는 이호준입니다.\n"
          ]
        }
      ]
    },
    {
      "cell_type": "code",
      "source": [
        "# 문제가 있는 코드\n",
        "# 뒤에 로드 된 것이 덮어 씁니다.\n",
        "# 이런 경우는 아주 극히 드물지만 일어나는 일입니다.\n",
        "\n",
        "from info import name, age, hello\n",
        "from infotwo import name, age\n",
        "\n",
        "print(name)"
      ],
      "metadata": {
        "colab": {
          "base_uri": "https://localhost:8080/",
          "height": 401
        },
        "id": "rYV-ty4k2G87",
        "outputId": "97eb0856-86bd-40c3-a53f-27410284cad2"
      },
      "execution_count": 105,
      "outputs": [
        {
          "output_type": "error",
          "ename": "ImportError",
          "evalue": "cannot import name 'name' from 'infotwo' (/content/infotwo.py)",
          "traceback": [
            "\u001b[0;31m---------------------------------------------------------------------------\u001b[0m",
            "\u001b[0;31mImportError\u001b[0m                               Traceback (most recent call last)",
            "\u001b[0;32m<ipython-input-105-c275a93fac4f>\u001b[0m in \u001b[0;36m<cell line: 6>\u001b[0;34m()\u001b[0m\n\u001b[1;32m      4\u001b[0m \u001b[0;34m\u001b[0m\u001b[0m\n\u001b[1;32m      5\u001b[0m \u001b[0;32mfrom\u001b[0m \u001b[0minfo\u001b[0m \u001b[0;32mimport\u001b[0m \u001b[0mname\u001b[0m\u001b[0;34m,\u001b[0m \u001b[0mage\u001b[0m\u001b[0;34m,\u001b[0m \u001b[0mhello\u001b[0m\u001b[0;34m\u001b[0m\u001b[0;34m\u001b[0m\u001b[0m\n\u001b[0;32m----> 6\u001b[0;31m \u001b[0;32mfrom\u001b[0m \u001b[0minfotwo\u001b[0m \u001b[0;32mimport\u001b[0m \u001b[0mname\u001b[0m\u001b[0;34m,\u001b[0m \u001b[0mage\u001b[0m\u001b[0;34m\u001b[0m\u001b[0;34m\u001b[0m\u001b[0m\n\u001b[0m\u001b[1;32m      7\u001b[0m \u001b[0;34m\u001b[0m\u001b[0m\n\u001b[1;32m      8\u001b[0m \u001b[0mprint\u001b[0m\u001b[0;34m(\u001b[0m\u001b[0mname\u001b[0m\u001b[0;34m)\u001b[0m\u001b[0;34m\u001b[0m\u001b[0;34m\u001b[0m\u001b[0m\n",
            "\u001b[0;31mImportError\u001b[0m: cannot import name 'name' from 'infotwo' (/content/infotwo.py)",
            "",
            "\u001b[0;31m---------------------------------------------------------------------------\u001b[0;32m\nNOTE: If your import is failing due to a missing package, you can\nmanually install dependencies using either !pip or !apt.\n\nTo view examples of installing some common dependencies, click the\n\"Open Examples\" button below.\n\u001b[0;31m---------------------------------------------------------------------------\u001b[0m\n"
          ],
          "errorDetails": {
            "actions": [
              {
                "action": "open_url",
                "actionText": "Open Examples",
                "url": "/notebooks/snippets/importing_libraries.ipynb"
              }
            ]
          }
        }
      ]
    },
    {
      "cell_type": "code",
      "source": [
        "# 카카오 로그인, 구글 로그인, 엑셀 로드, 문자를 보내거나\n",
        "# 모듈로 나와 있습니다. 여러분들이 직접 코드를 짜기 전 라이브러리가 있는지 확인해주세요.\n",
        "# 라이브러리, 프레임웤, 서드파티가 정말 잘 되어 있습니다.\n",
        "\n",
        "# 라이브러리: 여러분들 코드에 라이브러리가 섞여 들어가는 코드. 예를 들어 크롤링에 request, bs4\n",
        "# 프레임웤: 설계 도면이 정해져 있어서 이 설계 도면대로 코딩을 해야 하는 경우. 레고 설계 도면처럼 완성품에 설계도면이 존재합니다.\n",
        "# 서드파티: 프레임웤에 붙는 코드. 예를 들어 Django 서드파티라고 하면 Django 로그인, DRF, Django-cors"
      ],
      "metadata": {
        "id": "O2VYFgnO2lQa"
      },
      "execution_count": 106,
      "outputs": []
    },
    {
      "cell_type": "markdown",
      "source": [
        "# 자주 사용되는 모듈"
      ],
      "metadata": {
        "id": "0v-XBoBV5MAc"
      }
    },
    {
      "cell_type": "code",
      "source": [
        "import os\n",
        "\n",
        "# Django 3.x에서 os모듈이 빠졌습니다\n",
        "# os모듈 대신 Path(from pathlib import Path)라는 모듈이 들어왔습니다.\n",
        "# os모듈은 너무 강력합니다.\n",
        "# os모듈에 경로지정\n",
        "\n",
        "os.mkdir('licat') # licat이란 폴더 생성, 삭제는 os.rmdir()\n",
        "os.getcwd() # 현재 경로 반환\n",
        "os.open('a.txt', os.O_CREAT | os.O_WRONLY) # 파일 생성(os.O_CREAT: 필요한 경우 파일을 생성, os.O_WRONLY: 파일을 쓰기 전용 모드로 연다.)\n",
        "os.rename('a.txt', 'b.txt') # a.txt파일을 b.txt파일로 변경\n",
        "os.remove('b.txt')"
      ],
      "metadata": {
        "id": "w2suSWcO5OjR"
      },
      "execution_count": 107,
      "outputs": []
    },
    {
      "cell_type": "code",
      "source": [
        "import math\n",
        "\n",
        "math.pi"
      ],
      "metadata": {
        "colab": {
          "base_uri": "https://localhost:8080/"
        },
        "id": "CAcCTAjc5zSi",
        "outputId": "899b81ec-f4ea-45eb-b23f-05ca5ffce196"
      },
      "execution_count": 109,
      "outputs": [
        {
          "output_type": "execute_result",
          "data": {
            "text/plain": [
              "3.141592653589793"
            ]
          },
          "metadata": {},
          "execution_count": 109
        }
      ]
    },
    {
      "cell_type": "code",
      "source": [
        "import datetime\n",
        "\n",
        "s = datetime.datetime(2023, 9, 19, 14, 10)\n",
        "print(s)\n",
        "print(s.year, s.month, s.day, s.hour, s.minute)\n",
        "\n",
        "s = datetime.datetime(2023, 9, 18, 14, 10)\n",
        "print(s.weekday()) # 월요일0, 화요일1, 수요일2 ... 일요일6\n",
        "\n",
        "today = datetime.date.today()\n",
        "days = datetime.timedelta(days=100)\n",
        "today + days # 100일 후 시간\n",
        "\n",
        "graduation_date = datetime.date(2023, 12, 29)\n",
        "today = datetime.date.today()\n",
        "\n",
        "print(graduation_date - today) # 졸업까지 남은 일자"
      ],
      "metadata": {
        "colab": {
          "base_uri": "https://localhost:8080/"
        },
        "id": "KNT6BCLy6dHi",
        "outputId": "9285c9ff-fbe8-4b8a-9530-97d9e09936a5"
      },
      "execution_count": 110,
      "outputs": [
        {
          "output_type": "stream",
          "name": "stdout",
          "text": [
            "2023-09-19 14:10:00\n",
            "2023 9 19 14 10\n",
            "0\n",
            "-19 days, 0:00:00\n"
          ]
        }
      ]
    },
    {
      "cell_type": "code",
      "source": [
        "import json\n",
        "\n",
        "d = {\n",
        "    'one': 1,\n",
        "    'two': 2,\n",
        "    'three': 3\n",
        "}\n",
        "\n",
        "s = json.dumps(d)\n",
        "print(type(s)) # str\n",
        "d = json.loads(s)\n",
        "print(type(d)) # dict"
      ],
      "metadata": {
        "colab": {
          "base_uri": "https://localhost:8080/"
        },
        "id": "AU55Ofws6mw6",
        "outputId": "1dbdf290-d01d-42a9-a902-258c90d80ba5"
      },
      "execution_count": 111,
      "outputs": [
        {
          "output_type": "stream",
          "name": "stdout",
          "text": [
            "<class 'str'>\n",
            "<class 'dict'>\n"
          ]
        }
      ]
    },
    {
      "cell_type": "code",
      "source": [
        "# json\n",
        "s = [{...}] # 앞에다 변수명을 쓰진 않습니다."
      ],
      "metadata": {
        "id": "UzjmG55H6ogL"
      },
      "execution_count": 112,
      "outputs": []
    },
    {
      "cell_type": "code",
      "source": [
        "# (point4)주의! True는 안됩니다. true여야 합니다.\n",
        "[{\n",
        "    \"지역이름\": \"서울\", # point2 json은 쌍 따옴표여야 합니다!\n",
        "    \"확진자수\": 5607, # point3 dict key와 콜론은 붙여쓰고 콜론과 value는 한 칸 띄어씁니다.\n",
        "    \"격리해제수\": 5050,\n",
        "    \"사망자수\": 66,\n",
        "    \"십만명당발생율\": 57.61,\n",
        "    \"지역별확진자비율\": 22.53\n",
        "},\n",
        "{\n",
        "    \"지역이름\": \"부산\",\n",
        "    \"확진자수\": 491,\n",
        "    \"격리해제수\": 423,\n",
        "    \"사망자수\": 4,\n",
        "    \"십만명당발생율\": 14.39,\n",
        "    \"지역별확진자비율\": 1.97\n",
        "},\n",
        "{\n",
        "    \"지역이름\": \"대구\",\n",
        "    \"확진자수\": 7141,\n",
        "    \"격리해제수\": 6933,\n",
        "    \"사망자수\": 196,\n",
        "    \"십만명당발생율\": 293.09,\n",
        "    \"지역별확진자비율\": 28.69\n",
        "}]"
      ],
      "metadata": {
        "colab": {
          "base_uri": "https://localhost:8080/"
        },
        "id": "7DNmk_hW7b0L",
        "outputId": "d968f9c6-ec70-4a7b-d933-fb7d6e8494a1"
      },
      "execution_count": 114,
      "outputs": [
        {
          "output_type": "execute_result",
          "data": {
            "text/plain": [
              "[{'지역이름': '서울',\n",
              "  '확진자수': 5607,\n",
              "  '격리해제수': 5050,\n",
              "  '사망자수': 66,\n",
              "  '십만명당발생율': 57.61,\n",
              "  '지역별확진자비율': 22.53},\n",
              " {'지역이름': '부산',\n",
              "  '확진자수': 491,\n",
              "  '격리해제수': 423,\n",
              "  '사망자수': 4,\n",
              "  '십만명당발생율': 14.39,\n",
              "  '지역별확진자비율': 1.97},\n",
              " {'지역이름': '대구',\n",
              "  '확진자수': 7141,\n",
              "  '격리해제수': 6933,\n",
              "  '사망자수': 196,\n",
              "  '십만명당발생율': 293.09,\n",
              "  '지역별확진자비율': 28.69}]"
            ]
          },
          "metadata": {},
          "execution_count": 114
        }
      ]
    },
    {
      "cell_type": "code",
      "source": [
        "data = [\n",
        "  {\n",
        "    \"_id\": \"044829e8-9d9c-43be-C881-afc426ec9134\",\n",
        "    \"index\": \"1\",\n",
        "    \"name\": \"용기준\",\n",
        "    \"email\": \"user-7jxpy5y@Sit.com\",\n",
        "    \"phone\": \"010-4407-4333\",\n",
        "    \"country\": \"네덜란드\",\n",
        "    \"address\": \"양재로 76-6\",\n",
        "    \"job\": \"검사\"\n",
        "  },\n",
        "  {\n",
        "    \"_id\": \"f01326f2-d4d0-4700-C0e3-f84ece54b6cb\",\n",
        "    \"index\": \"2\",\n",
        "    \"name\": \"인규리\",\n",
        "    \"email\": \"user-l8rhtqf@egestas.net\",\n",
        "    \"phone\": \"010-4126-2990\",\n",
        "    \"country\": \"중국\",\n",
        "    \"address\": \"성동로 22-7\",\n",
        "    \"job\": \"간호사\"\n",
        "  },\n",
        "  {\n",
        "    \"_id\": \"b931ea6e-b4cd-4b52-C3e6-22e9779cff1e\",\n",
        "    \"index\": \"3\",\n",
        "    \"name\": \"단인성\",\n",
        "    \"email\": \"user-no8losf@auctor.org\",\n",
        "    \"phone\": \"010-2785-3415\",\n",
        "    \"country\": \"콜롬비아\",\n",
        "    \"address\": \"서소문로 50-7\",\n",
        "    \"job\": \"작가\"\n",
        "  },\n",
        "  {\n",
        "    \"_id\": \"4fa8b9e8-8679-43dc-Affe-0757d1436d72\",\n",
        "    \"index\": \"4\",\n",
        "    \"name\": \"기민율\",\n",
        "    \"email\": \"user-gu3mdf0@scelerisque.com\",\n",
        "    \"phone\": \"010-5350-2880\",\n",
        "    \"country\": \"라이베리아\",\n",
        "    \"address\": \"사직로 13-1\",\n",
        "    \"job\": \"에너지공학기술자\"\n",
        "  },\n",
        "  {\n",
        "    \"_id\": \"f774242b-2eec-4c89-C65a-b625d2e72de2\",\n",
        "    \"index\": \"5\",\n",
        "    \"name\": \"음애린\",\n",
        "    \"email\": \"user-edxbg9z@maximus.co.kr\",\n",
        "    \"phone\": \"010-8408-4024\",\n",
        "    \"country\": \"코모로\",\n",
        "    \"address\": \"뚝섬로 59-6\",\n",
        "    \"job\": \"약사 및 한약사\"\n",
        "  }\n",
        "]\n",
        "\n",
        "print(str(data[0]))"
      ],
      "metadata": {
        "colab": {
          "base_uri": "https://localhost:8080/"
        },
        "id": "AnQvsicN8HMa",
        "outputId": "9ad00f5e-702b-48c8-8dcc-e2b5726704c7"
      },
      "execution_count": 117,
      "outputs": [
        {
          "output_type": "stream",
          "name": "stdout",
          "text": [
            "{'_id': '044829e8-9d9c-43be-C881-afc426ec9134', 'index': '1', 'name': '용기준', 'email': 'user-7jxpy5y@Sit.com', 'phone': '010-4407-4333', 'country': '네덜란드', 'address': '양재로 76-6', 'job': '검사'}\n"
          ]
        }
      ]
    },
    {
      "cell_type": "code",
      "source": [
        "import json\n",
        "\n",
        "json.dumps(data)"
      ],
      "metadata": {
        "colab": {
          "base_uri": "https://localhost:8080/",
          "height": 217
        },
        "id": "HPZrAplD8_Bb",
        "outputId": "b1189cb1-750a-4489-8372-3ede0591317d"
      },
      "execution_count": 118,
      "outputs": [
        {
          "output_type": "execute_result",
          "data": {
            "text/plain": [
              "'[{\"_id\": \"044829e8-9d9c-43be-C881-afc426ec9134\", \"index\": \"1\", \"name\": \"\\\\uc6a9\\\\uae30\\\\uc900\", \"email\": \"user-7jxpy5y@Sit.com\", \"phone\": \"010-4407-4333\", \"country\": \"\\\\ub124\\\\ub35c\\\\ub780\\\\ub4dc\", \"address\": \"\\\\uc591\\\\uc7ac\\\\ub85c 76-6\", \"job\": \"\\\\uac80\\\\uc0ac\"}, {\"_id\": \"f01326f2-d4d0-4700-C0e3-f84ece54b6cb\", \"index\": \"2\", \"name\": \"\\\\uc778\\\\uaddc\\\\ub9ac\", \"email\": \"user-l8rhtqf@egestas.net\", \"phone\": \"010-4126-2990\", \"country\": \"\\\\uc911\\\\uad6d\", \"address\": \"\\\\uc131\\\\ub3d9\\\\ub85c 22-7\", \"job\": \"\\\\uac04\\\\ud638\\\\uc0ac\"}, {\"_id\": \"b931ea6e-b4cd-4b52-C3e6-22e9779cff1e\", \"index\": \"3\", \"name\": \"\\\\ub2e8\\\\uc778\\\\uc131\", \"email\": \"user-no8losf@auctor.org\", \"phone\": \"010-2785-3415\", \"country\": \"\\\\ucf5c\\\\ub86c\\\\ube44\\\\uc544\", \"address\": \"\\\\uc11c\\\\uc18c\\\\ubb38\\\\ub85c 50-7\", \"job\": \"\\\\uc791\\\\uac00\"}, {\"_id\": \"4fa8b9e8-8679-43dc-Affe-0757d1436d72\", \"index\": \"4\", \"name\": \"\\\\uae30\\\\ubbfc\\\\uc728\", \"email\": \"user-gu3mdf0@scelerisque.com\", \"phone\": \"010-5350-2880\", \"country\": \"\\\\ub77c\\\\uc774\\\\ubca0\\\\ub9ac\\\\uc544\", \"address\": \"\\\\uc0ac\\\\uc9c1\\\\ub85c 13-1\", \"job\": \"\\\\uc5d0\\\\ub108\\\\uc9c0\\\\uacf5\\\\ud559\\\\uae30\\\\uc220\\\\uc790\"}, {\"_id\": \"f774242b-2eec-4c89-C65a-b625d2e72de2\", \"index\": \"5\", \"name\": \"\\\\uc74c\\\\uc560\\\\ub9b0\", \"email\": \"user-edxbg9z@maximus.co.kr\", \"phone\": \"010-8408-4024\", \"country\": \"\\\\ucf54\\\\ubaa8\\\\ub85c\", \"address\": \"\\\\ub69d\\\\uc12c\\\\ub85c 59-6\", \"job\": \"\\\\uc57d\\\\uc0ac \\\\ubc0f \\\\ud55c\\\\uc57d\\\\uc0ac\"}]'"
            ],
            "application/vnd.google.colaboratory.intrinsic+json": {
              "type": "string"
            }
          },
          "metadata": {},
          "execution_count": 118
        }
      ]
    },
    {
      "cell_type": "code",
      "source": [
        "s = json.dumps(data)\n",
        "d = json.loads(s)\n",
        "print(d)\n",
        "\n",
        "# Python 자료형 => String으로 변경 (직렬화)\n",
        "# String 자료형 => Python 자료형(역직렬화)"
      ],
      "metadata": {
        "colab": {
          "base_uri": "https://localhost:8080/"
        },
        "id": "aLxjpFjX9XPw",
        "outputId": "fa1dc546-64be-49b8-ea44-6ad422436ac0"
      },
      "execution_count": 120,
      "outputs": [
        {
          "output_type": "stream",
          "name": "stdout",
          "text": [
            "[{'_id': '044829e8-9d9c-43be-C881-afc426ec9134', 'index': '1', 'name': '용기준', 'email': 'user-7jxpy5y@Sit.com', 'phone': '010-4407-4333', 'country': '네덜란드', 'address': '양재로 76-6', 'job': '검사'}, {'_id': 'f01326f2-d4d0-4700-C0e3-f84ece54b6cb', 'index': '2', 'name': '인규리', 'email': 'user-l8rhtqf@egestas.net', 'phone': '010-4126-2990', 'country': '중국', 'address': '성동로 22-7', 'job': '간호사'}, {'_id': 'b931ea6e-b4cd-4b52-C3e6-22e9779cff1e', 'index': '3', 'name': '단인성', 'email': 'user-no8losf@auctor.org', 'phone': '010-2785-3415', 'country': '콜롬비아', 'address': '서소문로 50-7', 'job': '작가'}, {'_id': '4fa8b9e8-8679-43dc-Affe-0757d1436d72', 'index': '4', 'name': '기민율', 'email': 'user-gu3mdf0@scelerisque.com', 'phone': '010-5350-2880', 'country': '라이베리아', 'address': '사직로 13-1', 'job': '에너지공학기술자'}, {'_id': 'f774242b-2eec-4c89-C65a-b625d2e72de2', 'index': '5', 'name': '음애린', 'email': 'user-edxbg9z@maximus.co.kr', 'phone': '010-8408-4024', 'country': '코모로', 'address': '뚝섬로 59-6', 'job': '약사 및 한약사'}]\n"
          ]
        }
      ]
    },
    {
      "cell_type": "code",
      "source": [
        "# 알고리즘 문제에서 정말 많이 나온다.\n",
        "# deque문제: 페이지 교체 알고리즘, 회전 초밥 등 다양한 문제에서 활용\n",
        "import collections\n",
        "\n",
        "d = collections.deque([1, 2, 3, 4])\n",
        "d.rotate(1) # 1번 오른쪽으로 쉬프트 합니다. 숫자를 2로 바꾸어 비교해보세요.\n",
        "d # 출력: deque([4, 1, 2, 3])\n",
        "\n",
        "d = collections.deque([1, 2, 3, 4])\n",
        "d.rotate(2) # 2번 오른쪽으로 쉬프트 합니다.\n",
        "d  # 출력: deque([3, 4, 1, 2])"
      ],
      "metadata": {
        "colab": {
          "base_uri": "https://localhost:8080/"
        },
        "id": "RIB95tpf9edK",
        "outputId": "a0c10b1e-5a53-487c-be39-970fd6738737"
      },
      "execution_count": 127,
      "outputs": [
        {
          "output_type": "execute_result",
          "data": {
            "text/plain": [
              "deque([3, 4, 1, 2])"
            ]
          },
          "metadata": {},
          "execution_count": 127
        }
      ]
    },
    {
      "cell_type": "code",
      "source": [
        "c = collections.Counter('hello world')\n",
        "c # 출력: Counter({'h': 1, 'e': 1, 'l': 3, 'o': 2, ' ': 1, 'w': 1, 'r': 1, 'd': 1})"
      ],
      "metadata": {
        "colab": {
          "base_uri": "https://localhost:8080/"
        },
        "id": "ZpM8rLp4BdID",
        "outputId": "66baa532-a68a-477e-9ccb-cc480330f64a"
      },
      "execution_count": 128,
      "outputs": [
        {
          "output_type": "execute_result",
          "data": {
            "text/plain": [
              "Counter({'h': 1, 'e': 1, 'l': 3, 'o': 2, ' ': 1, 'w': 1, 'r': 1, 'd': 1})"
            ]
          },
          "metadata": {},
          "execution_count": 128
        }
      ]
    },
    {
      "cell_type": "code",
      "source": [
        "c.most_common()\n",
        "# 출력:\n",
        "'''\n",
        "[('l', 3),\n",
        " ('o', 2),\n",
        " ('h', 1),\n",
        " ('e', 1),\n",
        " (' ', 1),\n",
        " ('w', 1),\n",
        " ('r', 1),\n",
        " ('d', 1)]\n",
        "'''"
      ],
      "metadata": {
        "colab": {
          "base_uri": "https://localhost:8080/",
          "height": 53
        },
        "id": "eKwNOnjJCTWA",
        "outputId": "472c061e-e5fc-46a3-fe16-9906605ed3b5"
      },
      "execution_count": 129,
      "outputs": [
        {
          "output_type": "execute_result",
          "data": {
            "text/plain": [
              "\"\\n[('l', 3),\\n ('o', 2),\\n ('h', 1),\\n ('e', 1),\\n (' ', 1),\\n ('w', 1),\\n ('r', 1),\\n ('d', 1)]\\n\""
            ],
            "application/vnd.google.colaboratory.intrinsic+json": {
              "type": "string"
            }
          },
          "metadata": {},
          "execution_count": 129
        }
      ]
    },
    {
      "cell_type": "code",
      "source": [
        "# 크롤링에 많이 사용\n",
        "# 정말 다양한 분야에서 사용됨, 테스트 용도로도 사용하고, 패킷 조작 등 통신에 관련된 것에 폭 넓게 사용\n",
        "import requests\n",
        "from bs4 import BeautifulSoup\n",
        "\n",
        "paullab_url = 'https://paullab.co.kr/bookservice/'\n",
        "response = requests.get(paullab_url)\n",
        "response.encoding = 'utf-8'\n",
        "html = response.text\n",
        "\n",
        "soup = BeautifulSoup(html, 'html.parser')\n",
        "\n",
        "bookservices = soup.select('.col-lg-6 > h2') # col-lg-6 클래스 안의 h2 태그 탐색\n",
        "for no, book in enumerate(bookservices, 1):\n",
        "    print(no, book.text)"
      ],
      "metadata": {
        "id": "_y1MI9fqCUpy"
      },
      "execution_count": null,
      "outputs": []
    },
    {
      "cell_type": "markdown",
      "source": [
        "# 분위기 환기"
      ],
      "metadata": {
        "id": "0_CZZFW6C6GI"
      }
    },
    {
      "cell_type": "code",
      "source": [
        "# 크롤링에 많이 사용\n",
        "# 정말 다양한 분야에서 사용됨, 테스트 용도로도 사용하고, 패킷 조작 등 통신에 관련된 것에 폭 넓게 사용\n",
        "import requests\n",
        "from bs4 import BeautifulSoup\n",
        "\n",
        "paullab_url = 'https://paullab.co.kr/bookservice/'\n",
        "response = requests.get(paullab_url)\n",
        "response.encoding = 'utf-8'\n",
        "html = response.text\n",
        "\n",
        "soup = BeautifulSoup(html, 'html.parser')\n",
        "\n",
        "bookservices = soup.select('.col-lg-6 > h2') # col-lg-6 클래스 안의 h2 태그 탐색\n",
        "for no, book in enumerate(bookservices, 1):\n",
        "    print(no, book.text)"
      ],
      "metadata": {
        "colab": {
          "base_uri": "https://localhost:8080/"
        },
        "id": "7xkOnCF6C8JD",
        "outputId": "6e12f51b-7e31-4e33-9094-36d19fb245de"
      },
      "execution_count": 130,
      "outputs": [
        {
          "output_type": "stream",
          "name": "stdout",
          "text": [
            "1 메모혁신 Notion(노션) 활용 가이드\n",
            "2 이력서 작성 가이드\n",
            "3 제주코딩베이스캠프 Code Festival: Python 100제 1부\n",
            "4 튜토리얼로 배우는 HTML&CSS\n",
            "5 코딩도장 튜토리얼로 배우는 Python 1편 object\n",
            "6 코딩도장 튜토리얼로 배우는 python 2편 제어문\n",
            "7 코딩도장 튜토리얼로 배우는 Python 문제풀이\n",
            "8 타노스의 건틀릿 알고리즘 With Python\n",
            "9 xlsxwriter 튜토리얼로 배우는 Python 엑셀 프로그래밍\n",
            "10 러플 튜토리얼로 배우는 Python\n",
            "11 인공지능을 활용한 업무자동화 With Google Developers Group JEJU\n"
          ]
        }
      ]
    },
    {
      "cell_type": "code",
      "source": [
        "with open('test.txt', 'w') as f:\n",
        "    f.write('hello world!')"
      ],
      "metadata": {
        "id": "MA9IWRBdDiwD"
      },
      "execution_count": 131,
      "outputs": []
    },
    {
      "cell_type": "code",
      "source": [
        "# 이 데이터를 DB에도 넣을 수 있고(import sqlite3)\n",
        "# 파일로도 생성할 수 있는데 여러 형식으로 파일로 생성해보며 여러분과 얘기 나눠보도록 하겠습니다.\n",
        "import requests\n",
        "from bs4 import BeautifulSoup\n",
        "\n",
        "paullab_url = 'https://paullab.co.kr/bookservice/'\n",
        "response = requests.get(paullab_url)\n",
        "response.encoding = 'utf-8'\n",
        "html = response.text\n",
        "\n",
        "soup = BeautifulSoup(html, 'html.parser')"
      ],
      "metadata": {
        "id": "7zc0Pdz2C9oB"
      },
      "execution_count": 137,
      "outputs": []
    },
    {
      "cell_type": "code",
      "source": [
        "# html로 뽑기\n",
        "s = ''\n",
        "bookservices = soup.select('.col-lg-6 > h2') # col-lg-6 클래스 안의 h2 태그 탐색\n",
        "bookcover = soup.select('.book_cover')\n",
        "\n",
        "for no, book in enumerate(zip(bookservices, bookcover), 1):\n",
        "    s += f'<h2>{no}. {book[0].text}</h2><img width=\"100px\" src=\"https://paullab.co.kr/bookservice/{book[1][\"src\"]}\"/>'\n",
        "\n",
        "with open('test.html', 'w') as f:\n",
        "    f.write(s)"
      ],
      "metadata": {
        "id": "StmDlpV5DrXz"
      },
      "execution_count": 138,
      "outputs": []
    },
    {
      "cell_type": "code",
      "source": [
        "# csv로 뽑기\n",
        "s = ''\n",
        "bookservices = soup.select('.col-lg-6 > h2') # col-lg-6 클래스 안의 h2 태그 탐색\n",
        "bookcover = soup.select('.book_cover')\n",
        "\n",
        "for no, book in enumerate(zip(bookservices, bookcover), 1):\n",
        "    s += f'{no}, {book[0].text}, \"https://paullab.co.kr/bookservice/{book[1][\"src\"]}\"\\n'\n",
        "\n",
        "with open('test.csv', 'w') as f:\n",
        "    f.write(s)"
      ],
      "metadata": {
        "id": "2G4j9XH4GKH6"
      },
      "execution_count": 139,
      "outputs": []
    },
    {
      "cell_type": "code",
      "source": [
        "# json로 뽑기\n",
        "s = '['\n",
        "bookservices = soup.select('.col-lg-6 > h2') # col-lg-6 클래스 안의 h2 태그 탐색\n",
        "bookcover = soup.select('.book_cover')\n",
        "\n",
        "for no, book in enumerate(zip(bookservices, bookcover), 1):\n",
        "    s += f'{{number: {no}, bookname: {book[0].text}}},'\n",
        "\n",
        "s = s[:-1] + ']'\n",
        "s\n",
        "\n",
        "with open('test.json', 'w') as f:\n",
        "    f.write(s)"
      ],
      "metadata": {
        "id": "0HaRtyHfGJ_T"
      },
      "execution_count": 140,
      "outputs": []
    },
    {
      "cell_type": "markdown",
      "source": [
        "# 예외처리"
      ],
      "metadata": {
        "id": "YYsIQSpJHEMC"
      }
    },
    {
      "cell_type": "code",
      "source": [
        "# 오답노트 만들듯이 어떤 오류가 왜 났는지 정리하시는 것을 권합니다."
      ],
      "metadata": {
        "id": "A4s7XJc4Hdb7"
      },
      "execution_count": 141,
      "outputs": []
    },
    {
      "cell_type": "code",
      "source": [
        "print('hello')\n",
        "try:\n",
        "    s = 1/0\n",
        "    print(s)\n",
        "except:\n",
        "    print('error가 발생되었습니다!')\n",
        "print('world')"
      ],
      "metadata": {
        "colab": {
          "base_uri": "https://localhost:8080/"
        },
        "id": "r329_bOHI2GS",
        "outputId": "85b0b5fb-2be7-4f1c-eae3-b6265890c326"
      },
      "execution_count": 142,
      "outputs": [
        {
          "output_type": "stream",
          "name": "stdout",
          "text": [
            "hello\n",
            "error가 발생되었습니다!\n",
            "world\n"
          ]
        }
      ]
    },
    {
      "cell_type": "code",
      "source": [
        "try:\n",
        "    # s = 1/0\n",
        "    l = []\n",
        "    l.appnd(10)\n",
        "    print(s)\n",
        "except ZeroDivisionError:\n",
        "    print('0으로 나누어졌습니다!')\n",
        "except AttributeError:\n",
        "    print('메서드 없어요!')"
      ],
      "metadata": {
        "colab": {
          "base_uri": "https://localhost:8080/"
        },
        "id": "xqv0CYbjI24K",
        "outputId": "5fe9cee5-08c1-4e02-af90-0673e5aec45b"
      },
      "execution_count": 143,
      "outputs": [
        {
          "output_type": "stream",
          "name": "stdout",
          "text": [
            "메서드 없어요!\n"
          ]
        }
      ]
    },
    {
      "cell_type": "code",
      "source": [
        "try:\n",
        "    s = 1/1 # 0에서 1로 값을 바꾸었습니다.\n",
        "    print(s)\n",
        "    l = [1, 2, 3]\n",
        "    print(l[3])\n",
        "except ZeroDivisionError:\n",
        "    print('0으로 나누어졌습니다!')\n",
        "except:\n",
        "    print('오류가 났습니다!')"
      ],
      "metadata": {
        "colab": {
          "base_uri": "https://localhost:8080/"
        },
        "id": "fQyLcFLJJcIC",
        "outputId": "2809fdc4-a2b4-4b56-de61-66e7e969640d"
      },
      "execution_count": 144,
      "outputs": [
        {
          "output_type": "stream",
          "name": "stdout",
          "text": [
            "1.0\n",
            "오류가 났습니다!\n"
          ]
        }
      ]
    },
    {
      "cell_type": "code",
      "source": [
        "try:\n",
        "    # 예외가 발생할 가능성이 있는 코드\n",
        "except:\n",
        "    # 예외 처리 코드\n",
        "else:\n",
        "    # 예외가 발생하지 않을 때 실행되는 코드"
      ],
      "metadata": {
        "colab": {
          "base_uri": "https://localhost:8080/",
          "height": 146
        },
        "id": "9VKn5TVnJlO7",
        "outputId": "cdc10d76-fe05-4fd2-c536-fab6102c4bfe"
      },
      "execution_count": 145,
      "outputs": [
        {
          "output_type": "error",
          "ename": "IndentationError",
          "evalue": "expected an indented block after 'try' statement on line 1 (<ipython-input-145-011265fb5ed6>, line 3)",
          "traceback": [
            "\u001b[0;36m  File \u001b[0;32m\"<ipython-input-145-011265fb5ed6>\"\u001b[0;36m, line \u001b[0;32m3\u001b[0m\n\u001b[0;31m    except:\u001b[0m\n\u001b[0m    ^\u001b[0m\n\u001b[0;31mIndentationError\u001b[0m\u001b[0;31m:\u001b[0m expected an indented block after 'try' statement on line 1\n"
          ]
        }
      ]
    },
    {
      "cell_type": "code",
      "source": [
        "try:\n",
        "    # 예외가 발생할 가능성이 있는 코드\n",
        "except:\n",
        "    # 예외 처리 코드\n",
        "finally:\n",
        "    # 예외 발생 여부와 상관없이 항상 실행되는 코드"
      ],
      "metadata": {
        "id": "XiUJzihQKNHi"
      },
      "execution_count": null,
      "outputs": []
    },
    {
      "cell_type": "code",
      "source": [
        "test = 'hello'\n",
        "\n",
        "assert test == 'hello', '애러 메시지 1' #1\n",
        "assert test == 'world', '애러 메시지 2' #2\n",
        "assert test + 3 == 5, '애러 메시지 3' #3"
      ],
      "metadata": {
        "colab": {
          "base_uri": "https://localhost:8080/",
          "height": 237
        },
        "id": "NLxUAczbKPWD",
        "outputId": "cf7c553f-3b3d-4970-f205-cab0b504757d"
      },
      "execution_count": 146,
      "outputs": [
        {
          "output_type": "error",
          "ename": "AssertionError",
          "evalue": "애러 메시지 2",
          "traceback": [
            "\u001b[0;31m---------------------------------------------------------------------------\u001b[0m",
            "\u001b[0;31mAssertionError\u001b[0m                            Traceback (most recent call last)",
            "\u001b[0;32m<ipython-input-146-71f97c55260d>\u001b[0m in \u001b[0;36m<cell line: 4>\u001b[0;34m()\u001b[0m\n\u001b[1;32m      2\u001b[0m \u001b[0;34m\u001b[0m\u001b[0m\n\u001b[1;32m      3\u001b[0m \u001b[0;32massert\u001b[0m \u001b[0mtest\u001b[0m \u001b[0;34m==\u001b[0m \u001b[0;34m'hello'\u001b[0m\u001b[0;34m,\u001b[0m \u001b[0;34m'애러 메시지 1'\u001b[0m \u001b[0;31m#1\u001b[0m\u001b[0;34m\u001b[0m\u001b[0;34m\u001b[0m\u001b[0m\n\u001b[0;32m----> 4\u001b[0;31m \u001b[0;32massert\u001b[0m \u001b[0mtest\u001b[0m \u001b[0;34m==\u001b[0m \u001b[0;34m'world'\u001b[0m\u001b[0;34m,\u001b[0m \u001b[0;34m'애러 메시지 2'\u001b[0m \u001b[0;31m#2\u001b[0m\u001b[0;34m\u001b[0m\u001b[0;34m\u001b[0m\u001b[0m\n\u001b[0m\u001b[1;32m      5\u001b[0m \u001b[0;32massert\u001b[0m \u001b[0mtest\u001b[0m \u001b[0;34m+\u001b[0m \u001b[0;36m3\u001b[0m \u001b[0;34m==\u001b[0m \u001b[0;36m5\u001b[0m\u001b[0;34m,\u001b[0m \u001b[0;34m'애러 메시지 3'\u001b[0m \u001b[0;31m#3\u001b[0m\u001b[0;34m\u001b[0m\u001b[0;34m\u001b[0m\u001b[0m\n",
            "\u001b[0;31mAssertionError\u001b[0m: 애러 메시지 2"
          ]
        }
      ]
    },
    {
      "cell_type": "code",
      "source": [
        "test = 'hello'\n",
        "\n",
        "assert 게시물.count() == 'hello', '애러 메시지 1' #1\n",
        "assert test == 'world', '애러 메시지 2' #2\n",
        "assert test + 3 == 5, '애러 메시지 3' #3"
      ],
      "metadata": {
        "colab": {
          "base_uri": "https://localhost:8080/",
          "height": 255
        },
        "id": "dltF-LvDKPcL",
        "outputId": "be35ad8b-3402-41bb-d87c-0c51554a291a"
      },
      "execution_count": 147,
      "outputs": [
        {
          "output_type": "error",
          "ename": "NameError",
          "evalue": "name '게시물' is not defined",
          "traceback": [
            "\u001b[0;31m---------------------------------------------------------------------------\u001b[0m",
            "\u001b[0;31mNameError\u001b[0m                                 Traceback (most recent call last)",
            "\u001b[0;32m<ipython-input-147-c69b3d00fa5e>\u001b[0m in \u001b[0;36m<cell line: 3>\u001b[0;34m()\u001b[0m\n\u001b[1;32m      1\u001b[0m \u001b[0mtest\u001b[0m \u001b[0;34m=\u001b[0m \u001b[0;34m'hello'\u001b[0m\u001b[0;34m\u001b[0m\u001b[0;34m\u001b[0m\u001b[0m\n\u001b[1;32m      2\u001b[0m \u001b[0;34m\u001b[0m\u001b[0m\n\u001b[0;32m----> 3\u001b[0;31m \u001b[0;32massert\u001b[0m \u001b[0m게시물\u001b[0m\u001b[0;34m.\u001b[0m\u001b[0mcount\u001b[0m\u001b[0;34m(\u001b[0m\u001b[0;34m)\u001b[0m \u001b[0;34m==\u001b[0m \u001b[0;34m'hello'\u001b[0m\u001b[0;34m,\u001b[0m \u001b[0;34m'애러 메시지 1'\u001b[0m \u001b[0;31m#1\u001b[0m\u001b[0;34m\u001b[0m\u001b[0;34m\u001b[0m\u001b[0m\n\u001b[0m\u001b[1;32m      4\u001b[0m \u001b[0;32massert\u001b[0m \u001b[0mtest\u001b[0m \u001b[0;34m==\u001b[0m \u001b[0;34m'world'\u001b[0m\u001b[0;34m,\u001b[0m \u001b[0;34m'애러 메시지 2'\u001b[0m \u001b[0;31m#2\u001b[0m\u001b[0;34m\u001b[0m\u001b[0;34m\u001b[0m\u001b[0m\n\u001b[1;32m      5\u001b[0m \u001b[0;32massert\u001b[0m \u001b[0mtest\u001b[0m \u001b[0;34m+\u001b[0m \u001b[0;36m3\u001b[0m \u001b[0;34m==\u001b[0m \u001b[0;36m5\u001b[0m\u001b[0;34m,\u001b[0m \u001b[0;34m'애러 메시지 3'\u001b[0m \u001b[0;31m#3\u001b[0m\u001b[0;34m\u001b[0m\u001b[0;34m\u001b[0m\u001b[0m\n",
            "\u001b[0;31mNameError\u001b[0m: name '게시물' is not defined"
          ]
        }
      ]
    },
    {
      "cell_type": "code",
      "source": [
        "# 게시물 5개 쓰는 코드\n",
        "# assert 게시물.count() == 5, '애러 메시지 1' #1"
      ],
      "metadata": {
        "id": "RsApu77LKPjC"
      },
      "execution_count": null,
      "outputs": []
    },
    {
      "cell_type": "code",
      "source": [
        "raise"
      ],
      "metadata": {
        "id": "gb3q5Xa2Kna6"
      },
      "execution_count": null,
      "outputs": []
    },
    {
      "cell_type": "code",
      "source": [
        "raise ValueError"
      ],
      "metadata": {
        "id": "mBe9zsjHKni6"
      },
      "execution_count": null,
      "outputs": []
    },
    {
      "cell_type": "code",
      "source": [
        "raise ValueError('코드를 잘~~ 만들어주세요.')"
      ],
      "metadata": {
        "id": "SJWot5n9KqBD"
      },
      "execution_count": null,
      "outputs": []
    },
    {
      "cell_type": "code",
      "source": [
        "class Licat(Exception): #Exception을 상속받으면 됩니다.\n",
        "    pass\n",
        "\n",
        "raise Licat"
      ],
      "metadata": {
        "id": "n15aIFobKy6S"
      },
      "execution_count": null,
      "outputs": []
    },
    {
      "cell_type": "code",
      "source": [
        "class Licat(Exception):\n",
        "    def __init__(self):\n",
        "        super().__init__('입력된 값이 leehojun이 아닙니다.')\n",
        "\n",
        "raise Licat"
      ],
      "metadata": {
        "id": "z-2lpu4QK03M"
      },
      "execution_count": null,
      "outputs": []
    },
    {
      "cell_type": "code",
      "source": [
        "# https://world.weniv.co.kr/ 에서 사용하고 있는 여러 애러 중 하나\n",
        "class OutOfWorld(Exception):\n",
        "    \"\"\"\n",
        "    밖으로 나갔을 때 출력하는 애러\n",
        "    \"\"\"\n",
        "\n",
        "    def __init__(self):\n",
        "        print(\"error.OutOfWorld: out of world\", type=\"error\")\n",
        "        super().__init__(\"out of world\")"
      ],
      "metadata": {
        "id": "D-_AgJWBLgg7"
      },
      "execution_count": 148,
      "outputs": []
    },
    {
      "cell_type": "code",
      "source": [],
      "metadata": {
        "id": "SFTlNhgBLgp6"
      },
      "execution_count": null,
      "outputs": []
    }
  ]
}