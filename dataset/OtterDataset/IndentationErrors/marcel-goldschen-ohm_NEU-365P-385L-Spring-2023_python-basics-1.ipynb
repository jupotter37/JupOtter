{
 "cells": [
  {
   "cell_type": "code",
   "execution_count": 1,
   "id": "01df27fd",
   "metadata": {
    "slideshow": {
     "slide_type": "skip"
    }
   },
   "outputs": [
    {
     "data": {
      "text/html": [
       "<link rel=\"stylesheet\" type=\"text/css\" href=\"css/rise.css\" />\n"
      ],
      "text/plain": [
       "<IPython.core.display.HTML object>"
      ]
     },
     "metadata": {},
     "output_type": "display_data"
    }
   ],
   "source": [
    "%%html\n",
    "<link rel=\"stylesheet\" type=\"text/css\" href=\"css/rise.css\" />"
   ]
  },
  {
   "cell_type": "markdown",
   "id": "0cd31932",
   "metadata": {
    "slideshow": {
     "slide_type": "slide"
    }
   },
   "source": [
    "# Python basics - Part 1\n",
    "\n",
    "- Basic data types\n",
    "- Variables\n",
    "- Comments\n",
    "- Understandable code\n",
    "- Basic operations\n",
    "- Logical comparison\n",
    "- Conditional code blocks"
   ]
  },
  {
   "cell_type": "markdown",
   "id": "bfc80439",
   "metadata": {
    "slideshow": {
     "slide_type": "slide"
    }
   },
   "source": [
    "# How to learn Python\n",
    "\n",
    "1. **Dive in and apply it**, learning more advanced features as you go.\n",
    "\n",
    "<img src=\"images/dive-in.jpg\" width=500>\n",
    "\n",
    "2. **Practice, practice, practice.** The homework is actually your friend!"
   ]
  },
  {
   "cell_type": "markdown",
   "id": "f8a1e296",
   "metadata": {
    "slideshow": {
     "slide_type": "slide"
    }
   },
   "source": [
    "# Basic data types\n",
    "\n",
    "- *Basic data types*\n",
    "- Basic operations\n",
    "- Logical comparison\n",
    "- Variables\n",
    "- Comments\n",
    "- Understandable code\n",
    "- Conditional code blocks"
   ]
  },
  {
   "cell_type": "markdown",
   "id": "7af42b58",
   "metadata": {
    "cell_style": "center",
    "slideshow": {
     "slide_type": "slide"
    }
   },
   "source": [
    "### Learning goals - *Basic data types*\n",
    "|  |  |  |\n",
    "|--|--|--|\n",
    "| <img src=\"images/thinking-icon.png\"> | <div class=\"alert alert-info\">You will understand python's basic data types.</div> | `int, float, bool, str` |"
   ]
  },
  {
   "cell_type": "code",
   "execution_count": 2,
   "id": "bc6efbf0",
   "metadata": {
    "cell_style": "center",
    "scrolled": true,
    "slideshow": {
     "slide_type": "slide"
    }
   },
   "outputs": [
    {
     "data": {
      "text/plain": [
       "int"
      ]
     },
     "execution_count": 2,
     "metadata": {},
     "output_type": "execute_result"
    }
   ],
   "source": [
    "type(82)"
   ]
  },
  {
   "cell_type": "code",
   "execution_count": 3,
   "id": "8b6e2e59",
   "metadata": {
    "cell_style": "center",
    "code_folding": [],
    "slideshow": {
     "slide_type": "fragment"
    }
   },
   "outputs": [
    {
     "data": {
      "text/plain": [
       "float"
      ]
     },
     "execution_count": 3,
     "metadata": {},
     "output_type": "execute_result"
    }
   ],
   "source": [
    "type(3.14)"
   ]
  },
  {
   "cell_type": "code",
   "execution_count": 4,
   "id": "45159ea9",
   "metadata": {
    "cell_style": "center",
    "code_folding": [],
    "slideshow": {
     "slide_type": "-"
    }
   },
   "outputs": [
    {
     "data": {
      "text/plain": [
       "(bool, bool)"
      ]
     },
     "execution_count": 4,
     "metadata": {},
     "output_type": "execute_result"
    }
   ],
   "source": [
    "type(True), type(False)"
   ]
  },
  {
   "cell_type": "code",
   "execution_count": 5,
   "id": "4074848c",
   "metadata": {
    "cell_style": "center",
    "code_folding": [],
    "slideshow": {
     "slide_type": "-"
    }
   },
   "outputs": [
    {
     "data": {
      "text/plain": [
       "(str, str, str)"
      ]
     },
     "execution_count": 5,
     "metadata": {},
     "output_type": "execute_result"
    }
   ],
   "source": [
    "type(\"Hello\"), type('hi'), type(\"y'all\")"
   ]
  },
  {
   "cell_type": "markdown",
   "id": "a664fbdb",
   "metadata": {
    "cell_style": "center",
    "slideshow": {
     "slide_type": "slide"
    }
   },
   "source": [
    "### Learning goals - *Basic data types*\n",
    "|  |  |  |\n",
    "|--|--|--|\n",
    "| <img src=\"images/thinking-icon.png\"> | <div class=\"alert alert-info\">You will understand python's basic data types.</div> | `int, float, bool, str` |"
   ]
  },
  {
   "cell_type": "markdown",
   "id": "419ee006",
   "metadata": {
    "slideshow": {
     "slide_type": "slide"
    }
   },
   "source": [
    "# Variables\n",
    "\n",
    "- Basic data types\n",
    "- *Variables*\n",
    "- Comments\n",
    "- Understandable code\n",
    "- Basic operations\n",
    "- Logical comparison\n",
    "- Conditional code blocks"
   ]
  },
  {
   "cell_type": "markdown",
   "id": "48eccbae",
   "metadata": {
    "cell_style": "center",
    "slideshow": {
     "slide_type": "slide"
    }
   },
   "source": [
    "### Learning goals - *Variables*\n",
    "\n",
    "|  |  |  |\n",
    "|--|--|--|\n",
    "| <img src=\"images/thinking-icon.png\"> | <div class=\"alert alert-info\">You will appreciated the importance of variable names.</div> | `n, num_neurons, number_of_really_fast_spiking_neurons_with_large_dendritic_arbors` |\n",
    "| <img src=\"images/thinking-icon.png\"> | <div class=\"alert alert-info\">You will be able to insert formatted values of variables in strings.</div> | `f\"x = {x}\"` |"
   ]
  },
  {
   "cell_type": "markdown",
   "id": "1c9fb658",
   "metadata": {
    "slideshow": {
     "slide_type": "slide"
    }
   },
   "source": [
    "Variable names can include **letters**, **numbers** and **underscores**, but *cannot start with a number*."
   ]
  },
  {
   "cell_type": "code",
   "execution_count": 6,
   "id": "2cd80f6e",
   "metadata": {},
   "outputs": [],
   "source": [
    "x = 5\n",
    "value9 = -34.2\n",
    "my_str = \"hello\"\n",
    "_82Flag = True"
   ]
  },
  {
   "cell_type": "code",
   "execution_count": 7,
   "id": "24bd6a98",
   "metadata": {},
   "outputs": [
    {
     "data": {
      "text/plain": [
       "(5, -34.2, 'hello', True)"
      ]
     },
     "execution_count": 7,
     "metadata": {},
     "output_type": "execute_result"
    }
   ],
   "source": [
    "x, value9, my_str, _82Flag"
   ]
  },
  {
   "cell_type": "markdown",
   "id": "59196305",
   "metadata": {
    "slideshow": {
     "slide_type": "fragment"
    }
   },
   "source": [
    "Operations with variables are the same as with values."
   ]
  },
  {
   "cell_type": "code",
   "execution_count": 8,
   "id": "95162f26",
   "metadata": {
    "slideshow": {
     "slide_type": "-"
    }
   },
   "outputs": [
    {
     "data": {
      "text/plain": [
       "False"
      ]
     },
     "execution_count": 8,
     "metadata": {},
     "output_type": "execute_result"
    }
   ],
   "source": [
    "value9 >= x"
   ]
  },
  {
   "cell_type": "code",
   "execution_count": 9,
   "id": "1cd083be",
   "metadata": {},
   "outputs": [
    {
     "data": {
      "text/plain": [
       "25"
      ]
     },
     "execution_count": 9,
     "metadata": {},
     "output_type": "execute_result"
    }
   ],
   "source": [
    "x * 5"
   ]
  },
  {
   "cell_type": "markdown",
   "id": "47d37fe3",
   "metadata": {
    "slideshow": {
     "slide_type": "slide"
    }
   },
   "source": [
    "A huge amount of writing code **comes down to naming things!**\n",
    "\n",
    "Which of the following variable names would you prefer?"
   ]
  },
  {
   "cell_type": "code",
   "execution_count": 10,
   "id": "a995be89",
   "metadata": {},
   "outputs": [],
   "source": [
    "a = 54.6\n",
    "theSpikingRateOfFosExpressingNeuronsInVentralCA1 = 54.6\n",
    "spike_rate_fos = 54.6"
   ]
  },
  {
   "cell_type": "markdown",
   "id": "cbcbbb78",
   "metadata": {
    "slideshow": {
     "slide_type": "fragment"
    }
   },
   "source": [
    "- **too short**: *unclear unless only used in immediate vicinity*\n",
    "- **too long**: *makes it hard to read super long code lines*\n",
    "- **just right**:\n",
    "\n",
    "<img src=\"images/goldilocks.jpg\">"
   ]
  },
  {
   "cell_type": "markdown",
   "id": "bed77d83",
   "metadata": {
    "slideshow": {
     "slide_type": "slide"
    }
   },
   "source": [
    "`__builtins__`, `__dict__`, `__init__`, ...\n",
    "\n",
    "Variable names *surrounded by two consecutive underscores* on each side are used for special Python variables.\n",
    "\n",
    "*You should probably NOT use this naming pattern* for your own variables as you will both confuse people and potentially overwrite a Python variable.\n",
    "\n",
    "Unless you know what you are about, I would avoid using underscores for anything other than separating consecutive words in a variable name."
   ]
  },
  {
   "cell_type": "markdown",
   "id": "9cbe816b",
   "metadata": {
    "slideshow": {
     "slide_type": "slide"
    }
   },
   "source": [
    "Include variables in a formatted string `f\"{}\"`"
   ]
  },
  {
   "cell_type": "code",
   "execution_count": 11,
   "id": "0a902563",
   "metadata": {},
   "outputs": [
    {
     "data": {
      "text/plain": [
       "'A string that includes the values -56.359218 and 2.'"
      ]
     },
     "execution_count": 11,
     "metadata": {},
     "output_type": "execute_result"
    }
   ],
   "source": [
    "x = -56.359218\n",
    "y = 2\n",
    "\n",
    "f\"A string that includes the values {x} and {y}.\""
   ]
  },
  {
   "cell_type": "markdown",
   "id": "da7619d9",
   "metadata": {
    "slideshow": {
     "slide_type": "fragment"
    }
   },
   "source": [
    "Formatting options"
   ]
  },
  {
   "cell_type": "code",
   "execution_count": 12,
   "id": "be20c101",
   "metadata": {
    "slideshow": {
     "slide_type": "-"
    }
   },
   "outputs": [
    {
     "data": {
      "text/plain": [
       "'A string that includes the floating point value -56.36 with two decimal places.'"
      ]
     },
     "execution_count": 12,
     "metadata": {},
     "output_type": "execute_result"
    }
   ],
   "source": [
    "x = -56.359218\n",
    "\n",
    "f\"A string that includes the floating point value {x:.2f} with two decimal places.\""
   ]
  },
  {
   "cell_type": "markdown",
   "id": "c19716c4",
   "metadata": {
    "cell_style": "center",
    "slideshow": {
     "slide_type": "slide"
    }
   },
   "source": [
    "### Learning goals - *Variables*\n",
    "\n",
    "|  |  |  |\n",
    "|--|--|--|\n",
    "| <img src=\"images/thinking-icon.png\"> | <div class=\"alert alert-info\">You will appreciated the importance of variable names.</div> | `n, num_neurons, number_of_really_fast_spiking_neurons_with_large_dendritic_arbors` |\n",
    "| <img src=\"images/thinking-icon.png\"> | <div class=\"alert alert-info\">You will be able to insert formatted values of variables in strings.</div> | `f\"x = {x}\"` |"
   ]
  },
  {
   "cell_type": "markdown",
   "id": "8c37d2e1",
   "metadata": {
    "slideshow": {
     "slide_type": "slide"
    }
   },
   "source": [
    "# Comments\n",
    "\n",
    "- Basic data types\n",
    "- Variables\n",
    "- *Comments*\n",
    "- Understandable code\n",
    "- Basic operations\n",
    "- Logical comparison\n",
    "- Conditional code blocks"
   ]
  },
  {
   "cell_type": "markdown",
   "id": "8e8621b0",
   "metadata": {
    "cell_style": "center",
    "slideshow": {
     "slide_type": "slide"
    }
   },
   "source": [
    "### Learning goals - *Comments*\n",
    "\n",
    "|  |  |  |\n",
    "|--|--|--|\n",
    "| <img src=\"images/thinking-icon.png\"> | <div class=\"alert alert-info\">You will from now on always comment your code so everyone can understand it ;)</div> | `# number of neurons` |"
   ]
  },
  {
   "cell_type": "code",
   "execution_count": 13,
   "id": "64f71b4c",
   "metadata": {
    "slideshow": {
     "slide_type": "slide"
    }
   },
   "outputs": [],
   "source": [
    "# number of neurons in dataset\n",
    "n = 156  # so many neurons!"
   ]
  },
  {
   "cell_type": "code",
   "execution_count": 14,
   "id": "59b701da",
   "metadata": {
    "slideshow": {
     "slide_type": "fragment"
    }
   },
   "outputs": [],
   "source": [
    "\"\"\" A shorthand variable like `n` can provide very readable code\n",
    "if it is only used in a local context (e.g. this cell).\n",
    "\n",
    "However, if you refer to `n` in later cells,\n",
    "it may not be obvious what you mean by it.\n",
    "\"\"\"\n",
    "\n",
    "# these names are much more clear if used later\n",
    "num_neurons = 156  # snake_case\n",
    "numNeurons = 156  # camelCase\n",
    "NumNeurons = 156  # PascalCase"
   ]
  },
  {
   "cell_type": "code",
   "execution_count": 15,
   "id": "9cb7ca09",
   "metadata": {
    "slideshow": {
     "slide_type": "fragment"
    }
   },
   "outputs": [],
   "source": [
    "\"\"\"\n",
    "Although super clear, writing any sort of expression \n",
    "involving this variable will end up in a really long line of code \n",
    "that can make the code difficult to read.\n",
    "\"\"\"\n",
    "theNumberOfThoseRareNeuronsWithHighlyDistinctProcesses = 156"
   ]
  },
  {
   "cell_type": "markdown",
   "id": "571528a0",
   "metadata": {
    "slideshow": {
     "slide_type": "slide"
    }
   },
   "source": [
    "Multi-line strings"
   ]
  },
  {
   "cell_type": "code",
   "execution_count": 16,
   "id": "89e558ae",
   "metadata": {
    "slideshow": {
     "slide_type": "-"
    }
   },
   "outputs": [
    {
     "name": "stdout",
     "output_type": "stream",
     "text": [
      "A multi-line\n",
      "string stored\n",
      "\n",
      "in a variable.\n"
     ]
    }
   ],
   "source": [
    "mystr = \"\"\"A multi-line\n",
    "string stored\n",
    "\n",
    "in a variable.\"\"\"\n",
    "\n",
    "print(mystr)"
   ]
  },
  {
   "cell_type": "markdown",
   "id": "81e1955d",
   "metadata": {
    "cell_style": "center",
    "slideshow": {
     "slide_type": "slide"
    }
   },
   "source": [
    "### Learning goals - *Comments*\n",
    "\n",
    "|  |  |  |\n",
    "|--|--|--|\n",
    "| <img src=\"images/thinking-icon.png\"> | <div class=\"alert alert-info\">You will from now on always comment your code so everyone can understand it ;)</div> | `# number of neurons` |"
   ]
  },
  {
   "cell_type": "markdown",
   "id": "acc73b65",
   "metadata": {
    "slideshow": {
     "slide_type": "slide"
    }
   },
   "source": [
    "# Understandable code\n",
    "\n",
    "- Basic data types\n",
    "- Variables\n",
    "- Comments\n",
    "- *Understandable code*\n",
    "- Basic operations\n",
    "- Logical comparison\n",
    "- Conditional code blocks"
   ]
  },
  {
   "cell_type": "markdown",
   "id": "e0ede640",
   "metadata": {
    "cell_style": "split",
    "slideshow": {
     "slide_type": "slide"
    }
   },
   "source": [
    "### Variable Names + Comments = *Understandable*\n",
    "\n",
    "<div class=\"alert alert-warning\">You will spend <strong>much more time reading code</strong> (<em>including your own</em>) than writing it.</div>\n",
    "\n",
    "<font color=\"dodgerblue\">**Well commented**</font> code with <font color=\"dodgerblue\">**informative variable names**</font> is essential for others (*and also yourself a month or a year from now*) to understand what your code does."
   ]
  },
  {
   "cell_type": "markdown",
   "id": "1b2c53af",
   "metadata": {
    "cell_style": "split",
    "slideshow": {
     "slide_type": "-"
    }
   },
   "source": [
    "<img src=\"images/what-was-i-doing.jpg\" width=80%>"
   ]
  },
  {
   "cell_type": "markdown",
   "id": "24fc7bb9",
   "metadata": {
    "slideshow": {
     "slide_type": "slide"
    }
   },
   "source": [
    "# Basic operations\n",
    "\n",
    "- Basic data types\n",
    "- Variables\n",
    "- Comments\n",
    "- Understandable code\n",
    "- *Basic operations*\n",
    "- Logical comparison"
   ]
  },
  {
   "cell_type": "markdown",
   "id": "9d84f088",
   "metadata": {
    "cell_style": "center",
    "slideshow": {
     "slide_type": "slide"
    }
   },
   "source": [
    "### Learning goals - *Basic operations*\n",
    "\n",
    "|  |  |  |\n",
    "|--|--|--|\n",
    "| <img src=\"images/thinking-icon.png\"> | <div class=\"alert alert-info\">You will be able to do math and concatenate strings.</div> | `5 + 7, \"hi\" + \"-ya!\"` |"
   ]
  },
  {
   "cell_type": "code",
   "execution_count": 17,
   "id": "efb73e51",
   "metadata": {
    "cell_style": "center",
    "slideshow": {
     "slide_type": "slide"
    }
   },
   "outputs": [
    {
     "name": "stdout",
     "output_type": "stream",
     "text": [
      "5\n",
      "1\n",
      "6\n",
      "1.5\n",
      "9\n"
     ]
    }
   ],
   "source": [
    "print(3 + 2)\n",
    "print(3 - 2)\n",
    "print(3 * 2)\n",
    "print(3 / 2)\n",
    "print(3**2)  # !!! NOT 3^2"
   ]
  },
  {
   "cell_type": "markdown",
   "id": "e8e3dc18",
   "metadata": {
    "slideshow": {
     "slide_type": "fragment"
    }
   },
   "source": [
    "<div class=\"alert alert-info\"><strong>Whitespace does NOT matter!</strong></div>"
   ]
  },
  {
   "cell_type": "code",
   "execution_count": 18,
   "id": "2c2c6f05",
   "metadata": {
    "cell_style": "center",
    "slideshow": {
     "slide_type": "-"
    }
   },
   "outputs": [
    {
     "name": "stdout",
     "output_type": "stream",
     "text": [
      "5\n",
      "1\n",
      "6\n",
      "1.5\n",
      "9\n"
     ]
    }
   ],
   "source": [
    "print(3 + 2)\n",
    "print(3-2)\n",
    "print( 3 * 2 )\n",
    "print(3   /2)\n",
    "print (3 ** 2)"
   ]
  },
  {
   "cell_type": "markdown",
   "id": "fadfffc4",
   "metadata": {
    "slideshow": {
     "slide_type": "slide"
    }
   },
   "source": [
    "<div class=\"alert alert-info\"><strong>Whitespace does NOT matter</strong> (except for <em>new lines</em>).</div>"
   ]
  },
  {
   "cell_type": "code",
   "execution_count": 19,
   "id": "0521010d",
   "metadata": {},
   "outputs": [
    {
     "name": "stdout",
     "output_type": "stream",
     "text": [
      "5\n",
      "1\n"
     ]
    }
   ],
   "source": [
    "print(3 + 2)\n",
    "print(3 - 2)"
   ]
  },
  {
   "cell_type": "code",
   "execution_count": 20,
   "id": "182394bf",
   "metadata": {},
   "outputs": [
    {
     "ename": "SyntaxError",
     "evalue": "invalid syntax (1392265258.py, line 1)",
     "output_type": "error",
     "traceback": [
      "\u001b[0;36m  Cell \u001b[0;32mIn[20], line 1\u001b[0;36m\u001b[0m\n\u001b[0;31m    print(3 + 2) print(3 - 2)\u001b[0m\n\u001b[0m                 ^\u001b[0m\n\u001b[0;31mSyntaxError\u001b[0m\u001b[0;31m:\u001b[0m invalid syntax\n"
     ]
    }
   ],
   "source": [
    "print(3 + 2) print(3 - 2)"
   ]
  },
  {
   "cell_type": "markdown",
   "id": "90648c64",
   "metadata": {
    "slideshow": {
     "slide_type": "slide"
    }
   },
   "source": [
    "<div class=\"alert alert-info\"><strong>Whitespace does NOT matter</strong> (except for <em>new lines</em> and <em>line indentation</em>).</div>"
   ]
  },
  {
   "cell_type": "code",
   "execution_count": 21,
   "id": "9fa3980f",
   "metadata": {},
   "outputs": [
    {
     "name": "stdout",
     "output_type": "stream",
     "text": [
      "5\n",
      "1\n"
     ]
    }
   ],
   "source": [
    "print(3 + 2)\n",
    "print(3 - 2)"
   ]
  },
  {
   "cell_type": "code",
   "execution_count": 22,
   "id": "0d2b4587",
   "metadata": {},
   "outputs": [
    {
     "ename": "IndentationError",
     "evalue": "unexpected indent (1976710117.py, line 2)",
     "output_type": "error",
     "traceback": [
      "\u001b[0;36m  Cell \u001b[0;32mIn[22], line 2\u001b[0;36m\u001b[0m\n\u001b[0;31m    print(3 - 2)\u001b[0m\n\u001b[0m    ^\u001b[0m\n\u001b[0;31mIndentationError\u001b[0m\u001b[0;31m:\u001b[0m unexpected indent\n"
     ]
    }
   ],
   "source": [
    "print(3 + 2)\n",
    "    print(3 - 2)"
   ]
  },
  {
   "cell_type": "markdown",
   "id": "8d8b823b",
   "metadata": {
    "slideshow": {
     "slide_type": "slide"
    }
   },
   "source": [
    "A few more operations."
   ]
  },
  {
   "cell_type": "code",
   "execution_count": 23,
   "id": "b50cfa9b",
   "metadata": {
    "cell_style": "center",
    "slideshow": {
     "slide_type": "-"
    }
   },
   "outputs": [
    {
     "data": {
      "text/plain": [
       "10"
      ]
     },
     "execution_count": 23,
     "metadata": {},
     "output_type": "execute_result"
    }
   ],
   "source": [
    "(3 + 2) * 2"
   ]
  },
  {
   "cell_type": "code",
   "execution_count": 24,
   "id": "9955c91f",
   "metadata": {
    "cell_style": "center"
   },
   "outputs": [
    {
     "data": {
      "text/plain": [
       "'howdy there'"
      ]
     },
     "execution_count": 24,
     "metadata": {},
     "output_type": "execute_result"
    }
   ],
   "source": [
    "\"howdy\" + \" there\""
   ]
  },
  {
   "cell_type": "code",
   "execution_count": 25,
   "id": "20a2e99f",
   "metadata": {
    "cell_style": "center",
    "slideshow": {
     "slide_type": "fragment"
    }
   },
   "outputs": [
    {
     "data": {
      "text/plain": [
       "2"
      ]
     },
     "execution_count": 25,
     "metadata": {},
     "output_type": "execute_result"
    }
   ],
   "source": [
    "# floor division\n",
    "\n",
    "11 // 4"
   ]
  },
  {
   "cell_type": "code",
   "execution_count": 26,
   "id": "207baae1",
   "metadata": {
    "cell_style": "center"
   },
   "outputs": [
    {
     "data": {
      "text/plain": [
       "3"
      ]
     },
     "execution_count": 26,
     "metadata": {},
     "output_type": "execute_result"
    }
   ],
   "source": [
    "# modulus = remainder after floor division\n",
    "\n",
    "11 % 4"
   ]
  },
  {
   "cell_type": "markdown",
   "id": "df76d51a",
   "metadata": {
    "slideshow": {
     "slide_type": "slide"
    }
   },
   "source": [
    "Operations should make sense."
   ]
  },
  {
   "cell_type": "code",
   "execution_count": 27,
   "id": "618bdd93",
   "metadata": {},
   "outputs": [
    {
     "data": {
      "text/plain": [
       "7"
      ]
     },
     "execution_count": 27,
     "metadata": {},
     "output_type": "execute_result"
    }
   ],
   "source": [
    "5 + 2"
   ]
  },
  {
   "cell_type": "code",
   "execution_count": 28,
   "id": "35bc27a8",
   "metadata": {},
   "outputs": [
    {
     "ename": "TypeError",
     "evalue": "unsupported operand type(s) for +: 'int' and 'str'",
     "output_type": "error",
     "traceback": [
      "\u001b[0;31m---------------------------------------------------------------------------\u001b[0m",
      "\u001b[0;31mTypeError\u001b[0m                                 Traceback (most recent call last)",
      "Cell \u001b[0;32mIn[28], line 1\u001b[0m\n\u001b[0;32m----> 1\u001b[0m \u001b[38;5;241;43m5\u001b[39;49m\u001b[43m \u001b[49m\u001b[38;5;241;43m+\u001b[39;49m\u001b[43m \u001b[49m\u001b[38;5;124;43m\"\u001b[39;49m\u001b[38;5;124;43mtwo\u001b[39;49m\u001b[38;5;124;43m\"\u001b[39;49m\n",
      "\u001b[0;31mTypeError\u001b[0m: unsupported operand type(s) for +: 'int' and 'str'"
     ]
    }
   ],
   "source": [
    "5 + \"two\""
   ]
  },
  {
   "cell_type": "code",
   "execution_count": 29,
   "id": "4c5aa237",
   "metadata": {
    "slideshow": {
     "slide_type": "fragment"
    }
   },
   "outputs": [
    {
     "data": {
      "text/plain": [
       "'twotwotwotwotwo'"
      ]
     },
     "execution_count": 29,
     "metadata": {},
     "output_type": "execute_result"
    }
   ],
   "source": [
    "5 * \"two\""
   ]
  },
  {
   "cell_type": "markdown",
   "id": "a9eabbb0",
   "metadata": {
    "slideshow": {
     "slide_type": "slide"
    }
   },
   "source": [
    "Some shorthand for operations on variables."
   ]
  },
  {
   "cell_type": "code",
   "execution_count": 30,
   "id": "9689b7b0",
   "metadata": {},
   "outputs": [],
   "source": [
    "x = 3"
   ]
  },
  {
   "cell_type": "code",
   "execution_count": 31,
   "id": "ec8515b6",
   "metadata": {},
   "outputs": [
    {
     "data": {
      "text/plain": [
       "5"
      ]
     },
     "execution_count": 31,
     "metadata": {},
     "output_type": "execute_result"
    }
   ],
   "source": [
    "# x = x + 2\n",
    "x += 2\n",
    "x"
   ]
  },
  {
   "cell_type": "code",
   "execution_count": 32,
   "id": "c9c7115a",
   "metadata": {
    "slideshow": {
     "slide_type": "fragment"
    }
   },
   "outputs": [
    {
     "data": {
      "text/plain": [
       "3"
      ]
     },
     "execution_count": 32,
     "metadata": {},
     "output_type": "execute_result"
    }
   ],
   "source": [
    "x -= 2\n",
    "x"
   ]
  },
  {
   "cell_type": "code",
   "execution_count": 33,
   "id": "ab344155",
   "metadata": {},
   "outputs": [
    {
     "data": {
      "text/plain": [
       "6"
      ]
     },
     "execution_count": 33,
     "metadata": {},
     "output_type": "execute_result"
    }
   ],
   "source": [
    "x *= 2\n",
    "x"
   ]
  },
  {
   "cell_type": "code",
   "execution_count": 34,
   "id": "29464314",
   "metadata": {},
   "outputs": [
    {
     "data": {
      "text/plain": [
       "3.0"
      ]
     },
     "execution_count": 34,
     "metadata": {},
     "output_type": "execute_result"
    }
   ],
   "source": [
    "x /= 2\n",
    "x"
   ]
  },
  {
   "cell_type": "markdown",
   "id": "cf80a2a5",
   "metadata": {
    "cell_style": "center",
    "slideshow": {
     "slide_type": "slide"
    }
   },
   "source": [
    "### Learning goals - *Basic operations*\n",
    "\n",
    "|  |  |  |\n",
    "|--|--|--|\n",
    "| <img src=\"images/thinking-icon.png\"> | <div class=\"alert alert-info\">You will be able to do math and concatenate strings.</div> | `5 + 7, \"hi\" + \"-ya!\"` |"
   ]
  },
  {
   "cell_type": "markdown",
   "id": "34c2977a",
   "metadata": {
    "slideshow": {
     "slide_type": "slide"
    }
   },
   "source": [
    "# Logical comparison\n",
    "\n",
    "- Basic data types\n",
    "- Variables\n",
    "- Comments\n",
    "- Understandable code\n",
    "- Basic operations\n",
    "- *Logical comparison*\n",
    "- Conditional code blocks"
   ]
  },
  {
   "cell_type": "markdown",
   "id": "ee7a633c",
   "metadata": {
    "cell_style": "center",
    "slideshow": {
     "slide_type": "slide"
    }
   },
   "source": [
    "### Learning goals - *Logical comparison*\n",
    "\n",
    "|  |  |  |\n",
    "|--|--|--|\n",
    "| <img src=\"images/thinking-icon.png\"> | <div class=\"alert alert-info\">You will be able to compare objects.</div> | `5 <= 7` |"
   ]
  },
  {
   "cell_type": "code",
   "execution_count": 35,
   "id": "79d5bf08",
   "metadata": {
    "cell_style": "center",
    "slideshow": {
     "slide_type": "slide"
    }
   },
   "outputs": [
    {
     "data": {
      "text/plain": [
       "True"
      ]
     },
     "execution_count": 35,
     "metadata": {},
     "output_type": "execute_result"
    }
   ],
   "source": [
    "3 == 3"
   ]
  },
  {
   "cell_type": "code",
   "execution_count": 36,
   "id": "c02397de",
   "metadata": {
    "cell_style": "center"
   },
   "outputs": [
    {
     "data": {
      "text/plain": [
       "False"
      ]
     },
     "execution_count": 36,
     "metadata": {},
     "output_type": "execute_result"
    }
   ],
   "source": [
    "3 != 3"
   ]
  },
  {
   "cell_type": "code",
   "execution_count": 37,
   "id": "b8fab700",
   "metadata": {
    "cell_style": "center",
    "slideshow": {
     "slide_type": "fragment"
    }
   },
   "outputs": [
    {
     "data": {
      "text/plain": [
       "False"
      ]
     },
     "execution_count": 37,
     "metadata": {},
     "output_type": "execute_result"
    }
   ],
   "source": [
    "3 > 4"
   ]
  },
  {
   "cell_type": "code",
   "execution_count": 38,
   "id": "22ac8eeb",
   "metadata": {
    "cell_style": "center"
   },
   "outputs": [
    {
     "data": {
      "text/plain": [
       "True"
      ]
     },
     "execution_count": 38,
     "metadata": {},
     "output_type": "execute_result"
    }
   ],
   "source": [
    "3 <= 3"
   ]
  },
  {
   "cell_type": "code",
   "execution_count": 39,
   "id": "9ccdd5c7",
   "metadata": {
    "slideshow": {
     "slide_type": "fragment"
    }
   },
   "outputs": [
    {
     "data": {
      "text/plain": [
       "(False, True)"
      ]
     },
     "execution_count": 39,
     "metadata": {},
     "output_type": "execute_result"
    }
   ],
   "source": [
    "\"hi\" == \"hello\", \"hi\" != \"hello\""
   ]
  },
  {
   "cell_type": "code",
   "execution_count": 40,
   "id": "d7d3c5bb",
   "metadata": {
    "cell_style": "center",
    "slideshow": {
     "slide_type": "slide"
    }
   },
   "outputs": [
    {
     "data": {
      "text/plain": [
       "False"
      ]
     },
     "execution_count": 40,
     "metadata": {},
     "output_type": "execute_result"
    }
   ],
   "source": [
    "3 < 4 and 3 == 4"
   ]
  },
  {
   "cell_type": "code",
   "execution_count": 41,
   "id": "4a18d838",
   "metadata": {
    "cell_style": "center"
   },
   "outputs": [
    {
     "data": {
      "text/plain": [
       "True"
      ]
     },
     "execution_count": 41,
     "metadata": {},
     "output_type": "execute_result"
    }
   ],
   "source": [
    "3 == 4 or 3 <= 4"
   ]
  },
  {
   "cell_type": "code",
   "execution_count": 42,
   "id": "f666d9bc",
   "metadata": {
    "cell_style": "center"
   },
   "outputs": [
    {
     "data": {
      "text/plain": [
       "True"
      ]
     },
     "execution_count": 42,
     "metadata": {},
     "output_type": "execute_result"
    }
   ],
   "source": [
    "not 3 == 4"
   ]
  },
  {
   "cell_type": "code",
   "execution_count": 43,
   "id": "e7c203d9",
   "metadata": {
    "cell_style": "center",
    "slideshow": {
     "slide_type": "fragment"
    }
   },
   "outputs": [
    {
     "data": {
      "text/plain": [
       "True"
      ]
     },
     "execution_count": 43,
     "metadata": {},
     "output_type": "execute_result"
    }
   ],
   "source": [
    "3 < 4 and not (3 == 4 or 4 <= 3)"
   ]
  },
  {
   "cell_type": "markdown",
   "id": "fd7e18ae",
   "metadata": {
    "slideshow": {
     "slide_type": "slide"
    }
   },
   "source": [
    "This is pretty neat!"
   ]
  },
  {
   "cell_type": "code",
   "execution_count": 44,
   "id": "bc69b693",
   "metadata": {},
   "outputs": [
    {
     "data": {
      "text/plain": [
       "True"
      ]
     },
     "execution_count": 44,
     "metadata": {},
     "output_type": "execute_result"
    }
   ],
   "source": [
    "x = 3\n",
    "\n",
    "2 < x < 4"
   ]
  },
  {
   "cell_type": "markdown",
   "id": "f4d42ddd",
   "metadata": {
    "cell_style": "center",
    "slideshow": {
     "slide_type": "slide"
    }
   },
   "source": [
    "### Learning goals - *Logical comparison*\n",
    "\n",
    "|  |  |  |\n",
    "|--|--|--|\n",
    "| <img src=\"images/thinking-icon.png\"> | <div class=\"alert alert-info\">You will be able to compare objects.</div> | `5 <= 7` |"
   ]
  },
  {
   "cell_type": "markdown",
   "id": "ed90f30a",
   "metadata": {
    "slideshow": {
     "slide_type": "slide"
    }
   },
   "source": [
    "# Exercise\n",
    "\n",
    "<div class=\"alert alert-info\">\n",
    "    On average, neuron A spikes 3.4 times per second, whereas neuron B spikes 11.9 times per second.\n",
    "</div>\n",
    "\n",
    "1. Assign two variables for the average spike rates of neurons A and B, respectively.\n",
    "2. Use your two variables to assign a third variable for whether or not neuron A spikes faster that neuron B on average."
   ]
  },
  {
   "cell_type": "code",
   "execution_count": null,
   "id": "f5a7e1e7",
   "metadata": {},
   "outputs": [],
   "source": []
  },
  {
   "cell_type": "markdown",
   "id": "a05ddcf0",
   "metadata": {
    "slideshow": {
     "slide_type": "slide"
    }
   },
   "source": [
    "# Exercise Key\n",
    "\n",
    "<div class=\"alert alert-info\">\n",
    "    On average, neuron A spikes 3.4 times per second, whereas neuron B spikes 11.9 times per second.\n",
    "</div>\n",
    "\n",
    "1. Assign two variables for the average spike rates of neurons A and B, respectively.\n",
    "2. Use your two variables to assign a third variable for whether or not neuron A spikes faster that neuron B on average."
   ]
  },
  {
   "cell_type": "code",
   "execution_count": 45,
   "id": "8c175c20",
   "metadata": {
    "slideshow": {
     "slide_type": "-"
    }
   },
   "outputs": [
    {
     "data": {
      "text/plain": [
       "False"
      ]
     },
     "execution_count": 45,
     "metadata": {},
     "output_type": "execute_result"
    }
   ],
   "source": [
    "# These variable names are just an example.\n",
    "# It is OK if your variable names differ, \n",
    "# so long as they are understandable.\n",
    "\n",
    "spike_rate_A = 3.4\n",
    "spike_rate_B = 11.9\n",
    "is_A_faster_than_B = spike_rate_A > spike_rate_B\n",
    "\n",
    "is_A_faster_than_B"
   ]
  },
  {
   "cell_type": "markdown",
   "id": "c98b6792",
   "metadata": {
    "slideshow": {
     "slide_type": "slide"
    }
   },
   "source": [
    "# Conditional code blocks\n",
    "\n",
    "- Basic data types\n",
    "- Variables\n",
    "- Comments\n",
    "- Understandable code\n",
    "- Basic operations\n",
    "- Logical comparison\n",
    "- *Conditional code blocks*"
   ]
  },
  {
   "cell_type": "markdown",
   "id": "290cb142",
   "metadata": {
    "cell_style": "center",
    "slideshow": {
     "slide_type": "slide"
    }
   },
   "source": [
    "### Learning goals - *Conditional code blocks*\n",
    "\n",
    "|  |  |  |\n",
    "|--|--|--|\n",
    "| <img src=\"images/thinking-icon.png\"> | <div class=\"alert alert-info\">You will understand python's block architecture.</div> | `:, indent` |\n",
    "| <img src=\"images/thinking-icon.png\"> | <div class=\"alert alert-info\">You will be able to conditionally execute code blocks.</div> | `if, elif, else` |"
   ]
  },
  {
   "cell_type": "markdown",
   "id": "67254095",
   "metadata": {
    "slideshow": {
     "slide_type": "slide"
    }
   },
   "source": [
    "<div class=\"alert alert-info\">Tab indentation level defines a block of code.</div>"
   ]
  },
  {
   "cell_type": "code",
   "execution_count": 46,
   "id": "eab12a68",
   "metadata": {
    "cell_style": "split"
   },
   "outputs": [
    {
     "name": "stdout",
     "output_type": "stream",
     "text": [
      "I'm NOT in the block.\n"
     ]
    }
   ],
   "source": [
    "execute_block = False\n",
    "\n",
    "if execute_block:\n",
    "    print(\"I'm in the block.\")\n",
    "    print(\"I'm also in the block.\")\n",
    "\n",
    "    print(\"I'm still in the block.\")\n",
    "print(\"I'm NOT in the block.\")"
   ]
  },
  {
   "cell_type": "code",
   "execution_count": 47,
   "id": "f7456381",
   "metadata": {
    "cell_style": "split",
    "slideshow": {
     "slide_type": "fragment"
    }
   },
   "outputs": [
    {
     "name": "stdout",
     "output_type": "stream",
     "text": [
      "I'm in the block.\n",
      "I'm also in the block.\n",
      "I'm still in the block.\n",
      "I'm NOT in the block.\n"
     ]
    }
   ],
   "source": [
    "do_this = True\n",
    "\n",
    "if do_this:\n",
    "    print(\"I'm in the block.\")\n",
    "    print(\"I'm also in the block.\")\n",
    "\n",
    "    print(\"I'm still in the block.\")\n",
    "print(\"I'm NOT in the block.\")"
   ]
  },
  {
   "cell_type": "markdown",
   "id": "4eed68aa",
   "metadata": {
    "slideshow": {
     "slide_type": "slide"
    }
   },
   "source": [
    "*if-elif-else* code block"
   ]
  },
  {
   "cell_type": "code",
   "execution_count": 48,
   "id": "6d43fe8f",
   "metadata": {},
   "outputs": [
    {
     "name": "stdout",
     "output_type": "stream",
     "text": [
      "not a cat\n",
      "not a dog\n",
      "not a bird\n"
     ]
    }
   ],
   "source": [
    "animal = \"fish\"\n",
    "\n",
    "if animal == \"cat\":\n",
    "    print('meow')\n",
    "elif animal == \"dog\":\n",
    "    \n",
    "    print('bark')\n",
    "    \n",
    "elif animal == \"bird\":\n",
    "    pass  # do nothing\n",
    "else:\n",
    "    print('not a cat')\n",
    "    \n",
    "    print('not a dog')\n",
    "    print('not a bird')"
   ]
  },
  {
   "cell_type": "markdown",
   "id": "e7d04316",
   "metadata": {
    "slideshow": {
     "slide_type": "slide"
    }
   },
   "source": [
    "# Exercise\n",
    "\n",
    "<div class=\"alert alert-info\">\n",
    "    Write code that prints \"negative\", \"zero\" or \"positive\" depending on whatever value x is assigned.\n",
    "</div>"
   ]
  },
  {
   "cell_type": "code",
   "execution_count": 49,
   "id": "c0d34507",
   "metadata": {},
   "outputs": [],
   "source": [
    "x = -2.1\n",
    "\n",
    "# your code here..."
   ]
  },
  {
   "cell_type": "markdown",
   "id": "a9efba7f",
   "metadata": {
    "slideshow": {
     "slide_type": "slide"
    }
   },
   "source": [
    "# Exercise Key\n",
    "\n",
    "<div class=\"alert alert-info\">\n",
    "    Write code that prints \"negative\", \"zero\" or \"positive\" depending on whatever value x is assigned.\n",
    "</div>"
   ]
  },
  {
   "cell_type": "code",
   "execution_count": 50,
   "id": "1d3b52c9",
   "metadata": {},
   "outputs": [
    {
     "name": "stdout",
     "output_type": "stream",
     "text": [
      "negative\n"
     ]
    }
   ],
   "source": [
    "x = -2.1\n",
    "\n",
    "if x == 0:\n",
    "    print(\"zero\")\n",
    "elif x < 0:\n",
    "    print(\"negative\")\n",
    "else:\n",
    "    print(\"positive\")"
   ]
  },
  {
   "cell_type": "markdown",
   "id": "eefa4be2",
   "metadata": {
    "slideshow": {
     "slide_type": "slide"
    }
   },
   "source": [
    "### Nested code blocks\n",
    "\n",
    "*Indentation* defines how **Python organizes all code into blocks**.\n",
    "\n",
    "<img src=\"images/nested-blocks.drawio.svg\">"
   ]
  },
  {
   "cell_type": "markdown",
   "id": "24aaefa3",
   "metadata": {
    "slideshow": {
     "slide_type": "slide"
    }
   },
   "source": [
    "### Nested code blocks\n",
    "\n",
    "<img src=\"images/nested-if-else.png\">"
   ]
  },
  {
   "cell_type": "markdown",
   "id": "52036ad0",
   "metadata": {
    "cell_style": "center",
    "slideshow": {
     "slide_type": "slide"
    }
   },
   "source": [
    "### Learning goals - *Conditional code blocks*\n",
    "\n",
    "|  |  |  |\n",
    "|--|--|--|\n",
    "| <img src=\"images/thinking-icon.png\"> | <div class=\"alert alert-info\">You will understand python's block architecture.</div> | `:, indent` |\n",
    "| <img src=\"images/thinking-icon.png\"> | <div class=\"alert alert-info\">You will be able to conditionally execute code blocks.</div> | `if, elif, else` |"
   ]
  }
 ],
 "metadata": {
  "celltoolbar": "Slideshow",
  "kernelspec": {
   "display_name": "Python 3 (ipykernel)",
   "language": "python",
   "name": "python3"
  },
  "language_info": {
   "codemirror_mode": {
    "name": "ipython",
    "version": 3
   },
   "file_extension": ".py",
   "mimetype": "text/x-python",
   "name": "python",
   "nbconvert_exporter": "python",
   "pygments_lexer": "ipython3",
   "version": "3.11.0"
  },
  "rise": {
   "enable_chalkboard": true,
   "scroll": true,
   "theme": "white"
  },
  "vscode": {
   "interpreter": {
    "hash": "7b6fce1537a0f61b09a1c0f374c9c73e53e0122f3da97a6f70c30069bc6a1f20"
   }
  }
 },
 "nbformat": 4,
 "nbformat_minor": 5
}
