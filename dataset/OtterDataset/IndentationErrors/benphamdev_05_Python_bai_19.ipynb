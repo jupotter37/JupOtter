{
 "cells": [
  {
   "cell_type": "code",
   "execution_count": 1,
   "id": "43a435a5",
   "metadata": {},
   "outputs": [
    {
     "ename": "IndentationError",
     "evalue": "expected an indented block after 'for' statement on line 9 (1605862667.py, line 10)",
     "output_type": "error",
     "traceback": [
      "\u001b[1;36m  Cell \u001b[1;32mIn[1], line 10\u001b[1;36m\u001b[0m\n\u001b[1;33m    if __name__ == '__main__' :\u001b[0m\n\u001b[1;37m                                ^\u001b[0m\n\u001b[1;31mIndentationError\u001b[0m\u001b[1;31m:\u001b[0m expected an indented block after 'for' statement on line 9\n"
     ]
    }
   ],
   "source": [
    "n = int(input())\n",
    "d = dict({})\n",
    "def getName(s) : \n",
    "    ans = s[len(s) - 1].lower()\n",
    "    for i in range(len(s) - 1) : \n",
    "        ans += s[i][0].lower()\n",
    "    if ans not in d : \n",
    "        d[ans] = 1\n",
    "    else : \n",
    "        d[ans] += 1\n",
    "    cnt = d[ans]\n",
    "    if cnt !=  1 : \n",
    "        ans += str(cnt)\n",
    "    ans += '@xyz.edu.vn'\n",
    "    return ans\n",
    "\n",
    "def getPassWord(s) : \n",
    "    return str(int(str(s[0:2:]))) + str(int(str(s[3:5:]))) + str(int(str(s[6::])))\n",
    "if __name__ == '__main__' : \n",
    "    for i in range(n) : \n",
    "        a = list(map(str, input().split()))\n",
    "        print(getName(a[:len(a) - 1:]))\n",
    "        print(getPassWord(a[len(a) - 1]))"
   ]
  }
 ],
 "metadata": {
  "kernelspec": {
   "display_name": "Python 3 (ipykernel)",
   "language": "python",
   "name": "python3"
  },
  "language_info": {
   "codemirror_mode": {
    "name": "ipython",
    "version": 3
   },
   "file_extension": ".py",
   "mimetype": "text/x-python",
   "name": "python",
   "nbconvert_exporter": "python",
   "pygments_lexer": "ipython3",
   "version": "3.10.9"
  }
 },
 "nbformat": 4,
 "nbformat_minor": 5
}
