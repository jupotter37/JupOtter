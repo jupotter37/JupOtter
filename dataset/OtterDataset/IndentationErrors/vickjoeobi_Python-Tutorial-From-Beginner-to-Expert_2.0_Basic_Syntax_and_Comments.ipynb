{
 "cells": [
  {
   "cell_type": "markdown",
   "metadata": {},
   "source": [
    "# 💻 Topic: Basic Syntax and Comments"
   ]
  },
  {
   "cell_type": "markdown",
   "metadata": {},
   "source": [
    "# 📝 Introduction\n",
    "Syntax in programming is the process of writing a program to accomplish a specific task. It is the set of rules that define the structure of a program. The rules are written in a language called a programming language. The language is the programming language that the program is written in.  The programming language is the set of rules that define the structure of a program. \n",
    "\n",
    "This implies that every programming language has its own set of syntax. Python is therefore no exception to that. Syntax defines the way we give space, the way we comment, the way we put comma etc. This can be both grammatical and structural syntax. "
   ]
  },
  {
   "cell_type": "markdown",
   "metadata": {},
   "source": [
    "# 🔄 What you should know by the end of the lesson\n",
    "\n",
    " 1. Understand the meaning of syntax in computer programming. \n",
    " 2. Learn various syntax and rules with regards to python\n",
    " 3. Understand what comment is in the context of programming and reason why it is been used. \n",
    " 4. Learn how to add both single and multiple line comment. \n",
    "\n"
   ]
  },
  {
   "cell_type": "markdown",
   "metadata": {},
   "source": [
    "# 🗒️ Lesson content\n",
    "\n"
   ]
  },
  {
   "cell_type": "markdown",
   "metadata": {},
   "source": [
    "Python syntax are simple yet complex if care is not taken. We will be taking a look at some of the key syntaxs and how to avoid making unnecessary errors.\n",
    "\n",
    "## Python KeyWords/ Identifiers\n",
    "\n",
    "### Python KeyWords\n",
    "\n",
    "Python keywords are those words that are reserved only for python. Those words cannot be used as either part of a function or a variable. Just like in a household, two people cannot bear the same first name, this is because it will lead to confusion. \n",
    "\n",
    "It is important to note that all python keywords are case sensitive (all of them are small letters except `True`, `False`, and `None`). \n",
    "\n",
    "Python has more than 30 keywords and most of them are listed below: \n",
    "\n",
    "    ['False', 'None', 'True', '__peg_parser__', 'and', 'as', 'assert', 'async', 'await', 'break', 'class', 'continue', 'def', 'del', 'elif', 'else', 'except', 'finally', 'for', 'from', 'global', 'if', 'import', 'in', 'is', 'lambda', 'nonlocal', 'not', 'or', 'pass', 'raise', 'return', 'try', 'while', 'with', 'yield']\n",
    "\n",
    "To discover the current lists of keywords just run the code below: "
   ]
  },
  {
   "cell_type": "code",
   "execution_count": null,
   "metadata": {},
   "outputs": [],
   "source": [
    "import keyword\n",
    "print(keyword.kwlist)"
   ]
  },
  {
   "cell_type": "markdown",
   "metadata": {},
   "source": [
    "### Python Identifiers\n",
    "Python identifiers are those names that you give to a functions, variables, classes etc. Identifiers are important because their is a need to identify one object from another. \n",
    "\n",
    "It is important to add that identifiers are quite different from keywords. While one can be used by python users, the other is completely reserved for only python. \n",
    "\n",
    "When we said that identifiers are names that can be given to any entity such as variable, we dont mean you can go crazy with names 😂. There are rules to that too. The rules are as follow: \n",
    "\n",
    "1. Identifiers can contain the 26 alphabet from a -z either lowercase or upper case. It can contain numbers from 0-9 and it can contain underscore (`_`). These things can be written in any mixture for example includes: `myName` `myname` `myNAME` `my_name`\n",
    "2. keywords that are listed above cannot be used an identifier. When you run the cell below, you will get a `syntaxError: invalid` because await is a keyword. "
   ]
  },
  {
   "cell_type": "code",
   "execution_count": null,
   "metadata": {},
   "outputs": [],
   "source": [
    "await = 1"
   ]
  },
  {
   "cell_type": "markdown",
   "metadata": {},
   "source": [
    "3.  An identifier can be up to 10240 Charcter. This simply means it can be of almost any length. \n",
    "4. Symbols cannot be used. Symbols such as `@ & / $`. The only symbol accepted is `_`. Example `my.Name` is not correct, while `my_name` is correct. When you run the code below, you will get a `syntaxError: invalid` because i declared the variable with a symbol. "
   ]
  },
  {
   "cell_type": "code",
   "execution_count": null,
   "metadata": {},
   "outputs": [],
   "source": [
    "myName@ = \"John\""
   ]
  },
  {
   "cell_type": "markdown",
   "metadata": {},
   "source": [
    "5. An identifier must start with an alphabet. It cannot start with a number or symbol. Example 6names is not accepted while name6 is accepted. When you run the code below, you will get a `syntaxError: invalid` because i used a number to start a variable initialization. "
   ]
  },
  {
   "cell_type": "code",
   "execution_count": null,
   "metadata": {},
   "outputs": [],
   "source": [
    "7sits = 889"
   ]
  },
  {
   "cell_type": "markdown",
   "metadata": {},
   "source": [
    "There might be other rules, but this 5 are the fundamental rules that we have. Feel free to read up on more. \n",
    "\n",
    "### Python Indentation\n",
    "\n",
    "It is possible that you are coming from a Javascript or other languages that makes use of curly braces `{}` to write code like this: \n",
    "\n",
    "    function myFunction(a, b) {  \n",
    "    return a * b; // Function returns the product of a and b  \n",
    "    }\n",
    "\n",
    "Here in python we make use of indentation. Indentation refers to the spaces at the begining of the code line. In python, this same function written above will ve written like this: \n",
    "\n",
    "    def  my_function(a, b):\n",
    "    \n",
    "        return a + b # returns a function that calculates the sum of two \n"
   ]
  },
  {
   "cell_type": "markdown",
   "metadata": {},
   "source": [
    "As can be seen, Javascript works with curly brackets to indicate blocks of code, while Python worls with indentations. Let me break it down more. \n",
    "\n",
    "In python, when a code is indented under another code, it means that those two codes are the same but if they are not it means a different thing. For example run the two cells below and see the result generated"
   ]
  },
  {
   "cell_type": "code",
   "execution_count": null,
   "metadata": {},
   "outputs": [],
   "source": [
    "if True:\n",
    "print(\"Hello World\")\n"
   ]
  },
  {
   "cell_type": "code",
   "execution_count": null,
   "metadata": {},
   "outputs": [],
   "source": [
    "if True:\n",
    "\tprint(\"Hello World\")"
   ]
  },
  {
   "cell_type": "markdown",
   "metadata": {},
   "source": [
    "You will observe that the first one produced an error (`IndentationError: expected an indented block`) but the second one ran successfully and printed the expected result. Why? \n",
    "\n",
    "This is simply because we did not indent the code properly. As we move forward we may be seeing lots of bugs could come from not adequately indenting your code. Now lets move ahead. \n",
    "\n",
    "## Python Comments\n",
    "Comments are ways we use to write a mini documentation to our code. We alwways use comment to explain to ourself or to the next person what we do or what we intend to do with some piece of code. Comment does not affect the output of the program as it is not part of the program. \n",
    "\n",
    "It is a standard practice to always write comment while programming. \n",
    "\n",
    "There are two disntict way of writing comment in python. We are going to cover the two ways. \n",
    "\n",
    "### The Hash (#) way. \n",
    "In python has is always used to write a single line comment \n",
    "```py\n",
    "# I am a comment\n",
    "print(\"Hello World\")\n",
    "```\n",
    "Although some people can use it on multiple line\n",
    "\n",
    "```py\n",
    "# Are you a comment?\n",
    "# Yes i am a comment\n",
    "# But we are already three lines\n",
    "# It is allowed\n",
    "print(\"Hello World\")\n",
    "```\n",
    "You can even add it after a code \n",
    "```py\n",
    "if True: # I am still a comment\n",
    "print(\"Hello World\")\n",
    "```\n",
    "\n",
    "### The Tripple Quote (\"\"\" ) way.\n",
    "This is usually used in adding comment to multiple lines of code, "
   ]
  },
  {
   "cell_type": "code",
   "execution_count": null,
   "metadata": {},
   "outputs": [],
   "source": [
    "\n",
    "\"\"\" This is a multi line comment\n",
    "This is why i am doing multiple lines\n",
    "So you will know \"\"\"\n",
    "\n",
    "\n"
   ]
  },
  {
   "cell_type": "markdown",
   "metadata": {},
   "source": [
    "There are several other several other syntax rules to obey in python, but this one is the most important. I cant wait for us to get started with actual programming. "
   ]
  },
  {
   "cell_type": "markdown",
   "metadata": {},
   "source": [
    "# ✍🏽 Exercise"
   ]
  },
  {
   "cell_type": "markdown",
   "metadata": {},
   "source": [
    "# 👉🏿 What's next\n",
    "\n",
    "As you have seen in this lesson, python has some rules for us to follow. Failure to follow some of these rules will lead to introductio of bugs to your code. Do the following tasks to ensure you understand the exercise properly. \n",
    "\n",
    "1. Comment the first line of code"
   ]
  },
  {
   "cell_type": "code",
   "execution_count": null,
   "metadata": {},
   "outputs": [],
   "source": [
    "a = 2\n",
    "\n",
    "name = \"George\"\n",
    "print(name)"
   ]
  },
  {
   "cell_type": "markdown",
   "metadata": {},
   "source": [
    "1. Write a tripple quote / multi line to explain the function"
   ]
  },
  {
   "cell_type": "code",
   "execution_count": null,
   "metadata": {},
   "outputs": [],
   "source": [
    "def adder(a, b):\n",
    "    #comment comes here... Please make it multi line\n",
    "\n",
    "    return a + b\n"
   ]
  },
  {
   "cell_type": "markdown",
   "metadata": {},
   "source": [
    "3. Properly indent the code below such that it returns the 10"
   ]
  },
  {
   "cell_type": "code",
   "execution_count": null,
   "metadata": {},
   "outputs": [],
   "source": [
    "def adder(a, b):\n",
    "    return a + b\n",
    "    adder(5,5)"
   ]
  },
  {
   "cell_type": "markdown",
   "metadata": {},
   "source": [
    "Its now time to move to the next lesson, to learn about Variables in Python\n",
    "\n",
    "![Let's Go](https://media.giphy.com/media/l3V0lsGtTMSB5YNgc/giphy.gif)\n",
    "\n",
    "# [![Next Lesson](../Assets/NextLesson.png \"Next\")](./3.0_Python_Variables.ipynb)\n"
   ]
  }
 ],
 "metadata": {
  "interpreter": {
   "hash": "7af0b1be9de2b80abba3e5650cc69d03f2efda3596aac82ee0cfa1be2c1a4d8a"
  },
  "kernelspec": {
   "display_name": "Python 3.9.1 64-bit",
   "language": "python",
   "name": "python3"
  },
  "language_info": {
   "codemirror_mode": {
    "name": "ipython",
    "version": 3
   },
   "file_extension": ".py",
   "mimetype": "text/x-python",
   "name": "python",
   "nbconvert_exporter": "python",
   "pygments_lexer": "ipython3",
   "version": "3.9.1"
  },
  "orig_nbformat": 4
 },
 "nbformat": 4,
 "nbformat_minor": 2
}
