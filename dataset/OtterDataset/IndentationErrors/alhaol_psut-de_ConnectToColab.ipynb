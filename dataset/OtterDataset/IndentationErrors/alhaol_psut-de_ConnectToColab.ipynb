{
 "cells": [
  {
   "cell_type": "markdown",
   "metadata": {},
   "source": [
    "@Ibrahim AbuAlhaol       [![Open In Colab](https://colab.research.google.com/assets/colab-badge.svg)](https://colab.research.google.com/github.com/alhaol/psut-de/blob/main/ConnectToColab.ipynb)"
   ]
  },
  {
   "cell_type": "markdown",
   "metadata": {},
   "source": [
    "Credit : [LINK](http://www.python-ds.com/python-processing-unstructured-data)"
   ]
  },
  {
   "cell_type": "markdown",
   "metadata": {},
   "source": [
    "------"
   ]
  },
  {
   "cell_type": "markdown",
   "metadata": {},
   "source": [
    "# Read Structured Data"
   ]
  },
  {
   "cell_type": "markdown",
   "metadata": {},
   "source": [
    "Reading data from CSV(comma separated values) is a fundamental necessity in Data Science"
   ]
  },
  {
   "cell_type": "code",
   "execution_count": 8,
   "metadata": {},
   "outputs": [],
   "source": [
    "import numpy as np\n",
    "import pandas as pd"
   ]
  },
  {
   "cell_type": "markdown",
   "metadata": {},
   "source": [
    "## Read CSV from file"
   ]
  },
  {
   "cell_type": "code",
   "execution_count": 15,
   "metadata": {},
   "outputs": [
    {
     "data": {
      "text/html": [
       "<div>\n",
       "<style scoped>\n",
       "    .dataframe tbody tr th:only-of-type {\n",
       "        vertical-align: middle;\n",
       "    }\n",
       "\n",
       "    .dataframe tbody tr th {\n",
       "        vertical-align: top;\n",
       "    }\n",
       "\n",
       "    .dataframe thead th {\n",
       "        text-align: right;\n",
       "    }\n",
       "</style>\n",
       "<table border=\"1\" class=\"dataframe\">\n",
       "  <thead>\n",
       "    <tr style=\"text-align: right;\">\n",
       "      <th></th>\n",
       "      <th>id</th>\n",
       "      <th>emp_name</th>\n",
       "      <th>emp_salary</th>\n",
       "      <th>start_date</th>\n",
       "      <th>dept</th>\n",
       "    </tr>\n",
       "  </thead>\n",
       "  <tbody>\n",
       "    <tr>\n",
       "      <th>0</th>\n",
       "      <td>1</td>\n",
       "      <td>Vishavjeet</td>\n",
       "      <td>999.30</td>\n",
       "      <td>2018-12-04</td>\n",
       "      <td>IT</td>\n",
       "    </tr>\n",
       "    <tr>\n",
       "      <th>1</th>\n",
       "      <td>2</td>\n",
       "      <td>Nimesh</td>\n",
       "      <td>878.40</td>\n",
       "      <td>2017-09-24</td>\n",
       "      <td>IT</td>\n",
       "    </tr>\n",
       "    <tr>\n",
       "      <th>2</th>\n",
       "      <td>3</td>\n",
       "      <td>Sara</td>\n",
       "      <td>611.00</td>\n",
       "      <td>2014-11-15</td>\n",
       "      <td>HR</td>\n",
       "    </tr>\n",
       "    <tr>\n",
       "      <th>3</th>\n",
       "      <td>4</td>\n",
       "      <td>Gulfam</td>\n",
       "      <td>729.00</td>\n",
       "      <td>2014-05-11</td>\n",
       "      <td>IT</td>\n",
       "    </tr>\n",
       "    <tr>\n",
       "      <th>4</th>\n",
       "      <td>5</td>\n",
       "      <td>Jack</td>\n",
       "      <td>845.25</td>\n",
       "      <td>2016-07-27</td>\n",
       "      <td>Finance</td>\n",
       "    </tr>\n",
       "    <tr>\n",
       "      <th>5</th>\n",
       "      <td>6</td>\n",
       "      <td>Jessica</td>\n",
       "      <td>878.00</td>\n",
       "      <td>2014-05-21</td>\n",
       "      <td>Marketing</td>\n",
       "    </tr>\n",
       "    <tr>\n",
       "      <th>6</th>\n",
       "      <td>7</td>\n",
       "      <td>Saurav</td>\n",
       "      <td>632.80</td>\n",
       "      <td>2018-07-30</td>\n",
       "      <td>Operations</td>\n",
       "    </tr>\n",
       "    <tr>\n",
       "      <th>7</th>\n",
       "      <td>8</td>\n",
       "      <td>Sachin</td>\n",
       "      <td>722.50</td>\n",
       "      <td>2017-06-17</td>\n",
       "      <td>SEO</td>\n",
       "    </tr>\n",
       "  </tbody>\n",
       "</table>\n",
       "</div>"
      ],
      "text/plain": [
       "   id      emp_name     emp_salary            start_date          dept\n",
       "0   1    Vishavjeet         999.30            2018-12-04            IT\n",
       "1   2        Nimesh         878.40            2017-09-24            IT\n",
       "2   3          Sara         611.00            2014-11-15            HR\n",
       "3   4        Gulfam         729.00            2014-05-11            IT\n",
       "4   5          Jack         845.25            2016-07-27       Finance\n",
       "5   6       Jessica         878.00            2014-05-21     Marketing\n",
       "6   7        Saurav         632.80            2018-07-30    Operations\n",
       "7   8        Sachin         722.50            2017-06-17           SEO"
      ]
     },
     "execution_count": 15,
     "metadata": {},
     "output_type": "execute_result"
    }
   ],
   "source": [
    "URL='https://raw.githubusercontent.com/alhaol/psut-de/main/data/sampleset.csv'\n",
    "DF=pd.read_csv(URL)\n",
    "DF"
   ]
  },
  {
   "cell_type": "markdown",
   "metadata": {},
   "source": [
    "## Save DataFrame to csv "
   ]
  },
  {
   "cell_type": "code",
   "execution_count": 16,
   "metadata": {},
   "outputs": [],
   "source": [
    "DF.to_csv('data/sampleset1.csv',index=False)"
   ]
  },
  {
   "cell_type": "markdown",
   "metadata": {},
   "source": [
    "## Read CSV from file"
   ]
  },
  {
   "cell_type": "code",
   "execution_count": 17,
   "metadata": {},
   "outputs": [],
   "source": [
    "DF_new=pd.read_csv('data/sampleset1.csv')"
   ]
  },
  {
   "cell_type": "code",
   "execution_count": 18,
   "metadata": {},
   "outputs": [
    {
     "data": {
      "text/html": [
       "<div>\n",
       "<style scoped>\n",
       "    .dataframe tbody tr th:only-of-type {\n",
       "        vertical-align: middle;\n",
       "    }\n",
       "\n",
       "    .dataframe tbody tr th {\n",
       "        vertical-align: top;\n",
       "    }\n",
       "\n",
       "    .dataframe thead th {\n",
       "        text-align: right;\n",
       "    }\n",
       "</style>\n",
       "<table border=\"1\" class=\"dataframe\">\n",
       "  <thead>\n",
       "    <tr style=\"text-align: right;\">\n",
       "      <th></th>\n",
       "      <th>id</th>\n",
       "      <th>emp_name</th>\n",
       "      <th>emp_salary</th>\n",
       "      <th>start_date</th>\n",
       "      <th>dept</th>\n",
       "    </tr>\n",
       "  </thead>\n",
       "  <tbody>\n",
       "    <tr>\n",
       "      <th>0</th>\n",
       "      <td>1</td>\n",
       "      <td>Vishavjeet</td>\n",
       "      <td>999.30</td>\n",
       "      <td>2018-12-04</td>\n",
       "      <td>IT</td>\n",
       "    </tr>\n",
       "    <tr>\n",
       "      <th>1</th>\n",
       "      <td>2</td>\n",
       "      <td>Nimesh</td>\n",
       "      <td>878.40</td>\n",
       "      <td>2017-09-24</td>\n",
       "      <td>IT</td>\n",
       "    </tr>\n",
       "    <tr>\n",
       "      <th>2</th>\n",
       "      <td>3</td>\n",
       "      <td>Sara</td>\n",
       "      <td>611.00</td>\n",
       "      <td>2014-11-15</td>\n",
       "      <td>HR</td>\n",
       "    </tr>\n",
       "    <tr>\n",
       "      <th>3</th>\n",
       "      <td>4</td>\n",
       "      <td>Gulfam</td>\n",
       "      <td>729.00</td>\n",
       "      <td>2014-05-11</td>\n",
       "      <td>IT</td>\n",
       "    </tr>\n",
       "    <tr>\n",
       "      <th>4</th>\n",
       "      <td>5</td>\n",
       "      <td>Jack</td>\n",
       "      <td>845.25</td>\n",
       "      <td>2016-07-27</td>\n",
       "      <td>Finance</td>\n",
       "    </tr>\n",
       "    <tr>\n",
       "      <th>5</th>\n",
       "      <td>6</td>\n",
       "      <td>Jessica</td>\n",
       "      <td>878.00</td>\n",
       "      <td>2014-05-21</td>\n",
       "      <td>Marketing</td>\n",
       "    </tr>\n",
       "    <tr>\n",
       "      <th>6</th>\n",
       "      <td>7</td>\n",
       "      <td>Saurav</td>\n",
       "      <td>632.80</td>\n",
       "      <td>2018-07-30</td>\n",
       "      <td>Operations</td>\n",
       "    </tr>\n",
       "    <tr>\n",
       "      <th>7</th>\n",
       "      <td>8</td>\n",
       "      <td>Sachin</td>\n",
       "      <td>722.50</td>\n",
       "      <td>2017-06-17</td>\n",
       "      <td>SEO</td>\n",
       "    </tr>\n",
       "  </tbody>\n",
       "</table>\n",
       "</div>"
      ],
      "text/plain": [
       "   id      emp_name     emp_salary            start_date          dept\n",
       "0   1    Vishavjeet         999.30            2018-12-04            IT\n",
       "1   2        Nimesh         878.40            2017-09-24            IT\n",
       "2   3          Sara         611.00            2014-11-15            HR\n",
       "3   4        Gulfam         729.00            2014-05-11            IT\n",
       "4   5          Jack         845.25            2016-07-27       Finance\n",
       "5   6       Jessica         878.00            2014-05-21     Marketing\n",
       "6   7        Saurav         632.80            2018-07-30    Operations\n",
       "7   8        Sachin         722.50            2017-06-17           SEO"
      ]
     },
     "execution_count": 18,
     "metadata": {},
     "output_type": "execute_result"
    }
   ],
   "source": [
    "DF_new"
   ]
  },
  {
   "cell_type": "markdown",
   "metadata": {},
   "source": [
    "## Indexing DataFrames with Pandas\n",
    "\n",
    "* DF.iloc[:5,:] — the first 5 rows, and all of the columns for those rows.\n",
    "* DF.iloc[:,:] — the entire DataFrame.\n",
    "* DF.iloc[5:,2:] — rows from position 5 onwards, and columns from position 2 onwards.\n",
    "* DFDF.iloc[:,:2] — the first two columns, and all of the rows for the column.\n",
    "* DFDF.iloc[6:,:] — from 6th row, and all of the columns for that row."
   ]
  },
  {
   "cell_type": "code",
   "execution_count": 21,
   "metadata": {},
   "outputs": [
    {
     "name": "stdout",
     "output_type": "stream",
     "text": [
      "=========================================================\n",
      "The first 5 rows, and all of the columns for those rows.\n",
      "   id      emp_name     emp_salary           start_date       dept\n",
      "0   1    Vishavjeet         999.30           2018-12-04         IT\n",
      "1   2        Nimesh         878.40           2017-09-24         IT\n",
      "2   3          Sara         611.00           2014-11-15         HR\n",
      "3   4        Gulfam         729.00           2014-05-11         IT\n",
      "4   5          Jack         845.25           2016-07-27    Finance\n",
      "=========================================================\n",
      "The entire DataFrame.\n",
      "   id      emp_name     emp_salary            start_date          dept\n",
      "0   1    Vishavjeet         999.30            2018-12-04            IT\n",
      "1   2        Nimesh         878.40            2017-09-24            IT\n",
      "2   3          Sara         611.00            2014-11-15            HR\n",
      "3   4        Gulfam         729.00            2014-05-11            IT\n",
      "4   5          Jack         845.25            2016-07-27       Finance\n",
      "5   6       Jessica         878.00            2014-05-21     Marketing\n",
      "6   7        Saurav         632.80            2018-07-30    Operations\n",
      "7   8        Sachin         722.50            2017-06-17           SEO\n",
      "=========================================================\n",
      "Rows from position 5 onwards, and columns from position 2 onwards.\n",
      "      emp_salary            start_date          dept\n",
      "5          878.0            2014-05-21     Marketing\n",
      "6          632.8            2018-07-30    Operations\n",
      "7          722.5            2017-06-17           SEO\n",
      "=========================================================\n",
      "The first column, and all of the rows for the column.\n",
      "   id      emp_name\n",
      "0   1    Vishavjeet\n",
      "1   2        Nimesh\n",
      "2   3          Sara\n",
      "3   4        Gulfam\n",
      "4   5          Jack\n",
      "5   6       Jessica\n",
      "6   7        Saurav\n",
      "7   8        Sachin\n",
      "=========================================================\n",
      "From 6th row, and all of the columns for that row.\n",
      "   id  emp_name     emp_salary          start_date          dept\n",
      "6   7    Saurav          632.8          2018-07-30    Operations\n",
      "7   8    Sachin          722.5          2017-06-17           SEO\n",
      "=========================================================\n"
     ]
    }
   ],
   "source": [
    "print('=========================================================')\n",
    "print('The first 5 rows, and all of the columns for those rows.')\n",
    "print(DF.iloc[:5,:]) \n",
    "print('=========================================================')\n",
    "print('The entire DataFrame.')\n",
    "print(DF.iloc[:,:]) \n",
    "print('=========================================================')\n",
    "print('Rows from position 5 onwards, and columns from position 2 onwards.')\n",
    "print(DF.iloc[5:,2:]) \n",
    "print('=========================================================')\n",
    "print('The first column, and all of the rows for the column.')\n",
    "print(DF.iloc[:,:2]) \n",
    "print('=========================================================')\n",
    "print('From 6th row, and all of the columns for that row.')\n",
    "print(DF.iloc[6:,:]) \n",
    "print('=========================================================')\n"
   ]
  },
  {
   "cell_type": "markdown",
   "metadata": {},
   "source": [
    "# Read Semistructured Data"
   ]
  },
  {
   "cell_type": "markdown",
   "metadata": {},
   "source": [
    "## Parse JSON - Convert from JSON to Python\n"
   ]
  },
  {
   "cell_type": "code",
   "execution_count": 22,
   "metadata": {},
   "outputs": [
    {
     "name": "stdout",
     "output_type": "stream",
     "text": [
      "28\n"
     ]
    }
   ],
   "source": [
    "import json\n",
    "# some JSON:\n",
    "x =  '{ \"name\":\"Jessica\", \"age\":28, \"city\":\"New Delhi\"}'\n",
    "# parse x:\n",
    "y = json.loads(x)\n",
    "# the result is a Python dictionary:\n",
    "print(y[\"age\"])\n",
    "\n"
   ]
  },
  {
   "cell_type": "code",
   "execution_count": 23,
   "metadata": {},
   "outputs": [
    {
     "name": "stdout",
     "output_type": "stream",
     "text": [
      "{\"name\": \"Jessica\", \"age\": 30, \"city\": \"New York\"}\n"
     ]
    }
   ],
   "source": [
    "# a Python object (dict):\n",
    "x = {\n",
    "  \"name\": \"Jessica\",\n",
    "  \"age\": 30,\n",
    "  \"city\": \"New York\"\n",
    "}\n",
    "# convert into JSON:\n",
    "y = json.dumps(x)\n",
    "# the result is a JSON string:\n",
    "print(y)"
   ]
  },
  {
   "cell_type": "markdown",
   "metadata": {},
   "source": [
    "You can convert Python objects of the following types, into JSON strings:\n",
    "- dict, \n",
    "- list, \n",
    "- tuple, \n",
    "- string, \n",
    "- int, \n",
    "- float, \n",
    "- True,\n",
    "- False,\n",
    "- None\n",
    "\n"
   ]
  },
  {
   "cell_type": "code",
   "execution_count": 24,
   "metadata": {},
   "outputs": [
    {
     "name": "stdout",
     "output_type": "stream",
     "text": [
      "{\"name\": \"Jessica\", \"age\": 30}\n",
      "[\"apple\", \"bananas\"]\n",
      "[\"apple\", \"bananas\"]\n",
      "\"hello\"\n",
      "42\n",
      "31.76\n",
      "true\n",
      "false\n",
      "null\n"
     ]
    }
   ],
   "source": [
    "import json\n",
    "print(json.dumps({\"name\": \"Jessica\", \"age\": 30}))\n",
    "print(json.dumps([\"apple\", \"bananas\"]))\n",
    "print(json.dumps((\"apple\", \"bananas\")))\n",
    "print(json.dumps(\"hello\"))\n",
    "print(json.dumps(42))\n",
    "print(json.dumps(31.76))\n",
    "print(json.dumps(True))\n",
    "print(json.dumps(False))\n",
    "print(json.dumps(None))\n"
   ]
  },
  {
   "cell_type": "markdown",
   "metadata": {},
   "source": [
    "## Format the Result\n"
   ]
  },
  {
   "cell_type": "code",
   "execution_count": 25,
   "metadata": {},
   "outputs": [
    {
     "name": "stdout",
     "output_type": "stream",
     "text": [
      "{\"name\": \"Jessica\", \"age\": 30, \"married\": true, \"divorced\": false, \"children\": [\"Ann\", \"Billy\"], \"pets\": null, \"cars\": [{\"model\": \"BMW 230\", \"mpg\": 27.5}, {\"model\": \"Ford Edge\", \"mpg\": 24.1}]}\n"
     ]
    }
   ],
   "source": [
    " import json\n",
    "x = {\n",
    "  \"name\": \"Jessica\",\n",
    "  \"age\": 30,\n",
    "  \"married\": True,\n",
    "  \"divorced\": False,\n",
    "  \"children\": (\"Ann\",\"Billy\"),\n",
    "  \"pets\": None,\n",
    "  \"cars\": [\n",
    "    {\"model\": \"BMW 230\", \"mpg\": 27.5},\n",
    "    {\"model\": \"Ford Edge\", \"mpg\": 24.1}\n",
    "  ]\n",
    "}\n",
    "print(json.dumps(x))\n"
   ]
  },
  {
   "cell_type": "code",
   "execution_count": 26,
   "metadata": {},
   "outputs": [
    {
     "name": "stdout",
     "output_type": "stream",
     "text": [
      "{\n",
      "    \"name\": \"Jessica\",\n",
      "    \"age\": 30,\n",
      "    \"married\": true,\n",
      "    \"divorced\": false,\n",
      "    \"children\": [\n",
      "        \"Ann\",\n",
      "        \"Billy\"\n",
      "    ],\n",
      "    \"pets\": null,\n",
      "    \"cars\": [\n",
      "        {\n",
      "            \"model\": \"BMW 230\",\n",
      "            \"mpg\": 27.5\n",
      "        },\n",
      "        {\n",
      "            \"model\": \"Ford Edge\",\n",
      "            \"mpg\": 24.1\n",
      "        }\n",
      "    ]\n",
      "}\n"
     ]
    }
   ],
   "source": [
    "# use four indents to make it easier to read the result:\n",
    "print(json.dumps(x, indent=4))\n"
   ]
  },
  {
   "cell_type": "code",
   "execution_count": 28,
   "metadata": {},
   "outputs": [
    {
     "name": "stdout",
     "output_type": "stream",
     "text": [
      "{\n",
      "    \"name\" = \"Jessica\". \n",
      "    \"age\" = 30. \n",
      "    \"married\" = true. \n",
      "    \"divorced\" = false. \n",
      "    \"children\" = [\n",
      "        \"Ann\". \n",
      "        \"Billy\"\n",
      "    ]. \n",
      "    \"pets\" = null. \n",
      "    \"cars\" = [\n",
      "        {\n",
      "            \"model\" = \"BMW 230\". \n",
      "            \"mpg\" = 27.5\n",
      "        }. \n",
      "        {\n",
      "            \"model\" = \"Ford Edge\". \n",
      "            \"mpg\" = 24.1\n",
      "        }\n",
      "    ]\n",
      "}\n"
     ]
    }
   ],
   "source": [
    "# use . and a space to separate objects, and a space, a = and a space to separate keys from their values:\n",
    "print(json.dumps(x, indent=4, separators=(\". \", \" = \")))\n"
   ]
  },
  {
   "cell_type": "code",
   "execution_count": 29,
   "metadata": {},
   "outputs": [
    {
     "name": "stdout",
     "output_type": "stream",
     "text": [
      "{\n",
      "    \"age\": 30,\n",
      "    \"cars\": [\n",
      "        {\n",
      "            \"model\": \"BMW 230\",\n",
      "            \"mpg\": 27.5\n",
      "        },\n",
      "        {\n",
      "            \"model\": \"Ford Edge\",\n",
      "            \"mpg\": 24.1\n",
      "        }\n",
      "    ],\n",
      "    \"children\": [\n",
      "        \"Ann\",\n",
      "        \"Billy\"\n",
      "    ],\n",
      "    \"divorced\": false,\n",
      "    \"married\": true,\n",
      "    \"name\": \"Jessica\",\n",
      "    \"pets\": null\n",
      "}\n"
     ]
    }
   ],
   "source": [
    "# sort the result alphabetically by keys:\n",
    "print(json.dumps(x, indent=4, sort_keys=True))"
   ]
  },
  {
   "cell_type": "markdown",
   "metadata": {},
   "source": [
    "## Read json with Pandas "
   ]
  },
  {
   "cell_type": "markdown",
   "metadata": {},
   "source": [
    "```json\n",
    "{ \n",
    "   \"ID\":[\"1\",\"2\",\"3\",\"4\",\"5\",\"6\",\"7\",\"8\" ],\n",
    "   \"Name\":[\"Vishavjeet\",\"Amit\",\"Nimesh\",\"Sara\",\"Saurav\",\"Gulfam\",\"Anupam\",\"Guru\" ],\n",
    "   \"Salary\":[\"623.3\",\"515.2\",\"611\",\"729\",\"843.25\",\"578\",\"632.8\",\"722.5\" ],\n",
    "   \"StartDate\":[ \"1/1/2013\",\"9/23/2014\",\"11/15/2013\",\"5/11/2014\",\"3/27/2015\",\"5/21/2013\",\n",
    "      \"7/30/2013\",\"6/17/2014\"],\n",
    "   \"Dept\":[ \"IT\",\"Operations\",\"IT\",\"HR\",\"Finance\",\"IT\",\"Operations\",\"Finance\"]\n",
    "}\n",
    "\n",
    "\n",
    "```"
   ]
  },
  {
   "cell_type": "code",
   "execution_count": 31,
   "metadata": {},
   "outputs": [
    {
     "name": "stdout",
     "output_type": "stream",
     "text": [
      "   ID        Name  Salary   StartDate        Dept\n",
      "0   1  Vishavjeet  623.30    1/1/2013          IT\n",
      "1   2        Amit  515.20   9/23/2014  Operations\n",
      "2   3      Nimesh  611.00  11/15/2013          IT\n",
      "3   4        Sara  729.00   5/11/2014          HR\n",
      "4   5      Saurav  843.25   3/27/2015     Finance\n",
      "5   6      Gulfam  578.00   5/21/2013          IT\n",
      "6   7      Anupam  632.80   7/30/2013  Operations\n",
      "7   8        Guru  722.50   6/17/2014     Finance\n"
     ]
    }
   ],
   "source": [
    "URLJSON='https://raw.githubusercontent.com/alhaol/psut-de/main/data/input.json'\n",
    "data = pd.read_json(URLJSON)\n",
    "print (data)\n"
   ]
  },
  {
   "cell_type": "code",
   "execution_count": 33,
   "metadata": {},
   "outputs": [
    {
     "name": "stdout",
     "output_type": "stream",
     "text": [
      "     Name  Salary\n",
      "3    Sara  729.00\n",
      "4  Saurav  843.25\n",
      "5  Gulfam  578.00\n"
     ]
    }
   ],
   "source": [
    "#Reading Specific Columns and Rows\n",
    "print (data.iloc[3:6,1:3])"
   ]
  },
  {
   "cell_type": "code",
   "execution_count": 34,
   "metadata": {},
   "outputs": [
    {
     "name": "stdout",
     "output_type": "stream",
     "text": [
      "{\"ID\":1,\"Name\":\"Vishavjeet\",\"Salary\":623.3,\"StartDate\":\"1\\/1\\/2013\",\"Dept\":\"IT\"}\n",
      "{\"ID\":2,\"Name\":\"Amit\",\"Salary\":515.2,\"StartDate\":\"9\\/23\\/2014\",\"Dept\":\"Operations\"}\n",
      "{\"ID\":3,\"Name\":\"Nimesh\",\"Salary\":611.0,\"StartDate\":\"11\\/15\\/2013\",\"Dept\":\"IT\"}\n",
      "{\"ID\":4,\"Name\":\"Sara\",\"Salary\":729.0,\"StartDate\":\"5\\/11\\/2014\",\"Dept\":\"HR\"}\n",
      "{\"ID\":5,\"Name\":\"Saurav\",\"Salary\":843.25,\"StartDate\":\"3\\/27\\/2015\",\"Dept\":\"Finance\"}\n",
      "{\"ID\":6,\"Name\":\"Gulfam\",\"Salary\":578.0,\"StartDate\":\"5\\/21\\/2013\",\"Dept\":\"IT\"}\n",
      "{\"ID\":7,\"Name\":\"Anupam\",\"Salary\":632.8,\"StartDate\":\"7\\/30\\/2013\",\"Dept\":\"Operations\"}\n",
      "{\"ID\":8,\"Name\":\"Guru\",\"Salary\":722.5,\"StartDate\":\"6\\/17\\/2014\",\"Dept\":\"Finance\"}\n"
     ]
    }
   ],
   "source": [
    "# to_json function  to read the JSON file content into individual records\n",
    "print(data.to_json(orient='records', lines=True))"
   ]
  },
  {
   "cell_type": "markdown",
   "metadata": {},
   "source": [
    "## Read Semistructured Data"
   ]
  },
  {
   "cell_type": "code",
   "execution_count": 35,
   "metadata": {},
   "outputs": [],
   "source": [
    "URLTEXT='https://raw.githubusercontent.com/alhaol/psut-de/main/data/input_text.txt'\n"
   ]
  },
  {
   "cell_type": "code",
   "execution_count": 38,
   "metadata": {},
   "outputs": [
    {
     "ename": "IndentationError",
     "evalue": "unexpected indent (<ipython-input-38-322e99e429eb>, line 7)",
     "output_type": "error",
     "traceback": [
      "\u001b[0;36m  File \u001b[0;32m\"<ipython-input-38-322e99e429eb>\"\u001b[0;36m, line \u001b[0;32m7\u001b[0m\n\u001b[0;31m    while ln:\u001b[0m\n\u001b[0m    ^\u001b[0m\n\u001b[0;31mIndentationError\u001b[0m\u001b[0;31m:\u001b[0m unexpected indent\n"
     ]
    }
   ],
   "source": [
    "filename = URLTEXT \n",
    "with open(filename) as fn:  \n",
    "# Read each line\n",
    "   ln = fn.readline()\n",
    "# Keep count of lines\n",
    "   lncnt = 1\n",
    "    while ln:\n",
    "        print(\"Line {}: {}\".format(lncnt, ln.strip()))\n",
    "        ln = fn.readline()\n",
    "        lncnt += 1\n"
   ]
  },
  {
   "cell_type": "markdown",
   "metadata": {},
   "source": [
    "-----"
   ]
  },
  {
   "cell_type": "code",
   "execution_count": null,
   "metadata": {},
   "outputs": [],
   "source": []
  }
 ],
 "metadata": {
  "kernelspec": {
   "display_name": "Python 3",
   "language": "python",
   "name": "python3"
  },
  "language_info": {
   "codemirror_mode": {
    "name": "ipython",
    "version": 3
   },
   "file_extension": ".py",
   "mimetype": "text/x-python",
   "name": "python",
   "nbconvert_exporter": "python",
   "pygments_lexer": "ipython3",
   "version": "3.8.3"
  }
 },
 "nbformat": 4,
 "nbformat_minor": 4
}
