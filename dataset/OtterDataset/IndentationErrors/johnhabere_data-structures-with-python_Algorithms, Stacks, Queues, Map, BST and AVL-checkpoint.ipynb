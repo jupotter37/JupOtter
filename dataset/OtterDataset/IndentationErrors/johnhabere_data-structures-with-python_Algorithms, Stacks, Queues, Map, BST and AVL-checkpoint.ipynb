{
 "cells": [
  {
   "cell_type": "markdown",
   "id": "83f0c9c2",
   "metadata": {},
   "source": [
    "## Search and Sorting"
   ]
  },
  {
   "cell_type": "code",
   "execution_count": 8,
   "id": "cd1d7db6",
   "metadata": {},
   "outputs": [
    {
     "name": "stdout",
     "output_type": "stream",
     "text": [
      "Oh YES 42 is in the list\n"
     ]
    }
   ],
   "source": [
    "# Linear\n",
    "#  index    0  1  2   3   4   5   6   7   8   9  10  11  12  13  14  15   16\n",
    "my_list = [-4, 2, 7, 10, 15, 20, 22, 25, 30, 36, 42, 50, 56, 68, 85, 92, 103]\n",
    "\n",
    "def linearSearch(value):\n",
    "    if value in my_list:\n",
    "        print(\"Oh YES\", value , \"is in the list\")\n",
    "    else:\n",
    "        print(\"Hello NO\")\n",
    "        \n",
    "linearSearch(42)"
   ]
  },
  {
   "cell_type": "code",
   "execution_count": 9,
   "id": "e71c2048",
   "metadata": {},
   "outputs": [
    {
     "data": {
      "text/plain": [
       "10"
      ]
     },
     "execution_count": 9,
     "metadata": {},
     "output_type": "execute_result"
    }
   ],
   "source": [
    "# Sequential Search\n",
    "\n",
    "def sequentialSearch(value):\n",
    "    for i in range(0, len(my_list)):\n",
    "        if my_list[i] == value:\n",
    "            return i # returns the index of where value is located\n",
    "    return -1   # not found\n",
    "\n",
    "sequentialSearch(42)"
   ]
  },
  {
   "cell_type": "code",
   "execution_count": 14,
   "id": "1891f9e3",
   "metadata": {},
   "outputs": [
    {
     "data": {
      "text/plain": [
       "-9"
      ]
     },
     "execution_count": 14,
     "metadata": {},
     "output_type": "execute_result"
    }
   ],
   "source": [
    "# binary search\n",
    "\n",
    "# condition - we have a sorted list\n",
    "\n",
    "def binary_search(mylist, value):\n",
    "    min = 0\n",
    "    max = len(mylist) - 1\n",
    "\n",
    "    while min <= max:\n",
    "        mid = (min + max) // 2\n",
    "        if mylist[mid] < value:\n",
    "            min = mid + 1\n",
    "        elif mylist[mid] > value:\n",
    "            max = mid - 1\n",
    "        else:\n",
    "            return mid   # target found\n",
    "\n",
    "    return -(min)    # target not found\n",
    "binary_search(my_list, 33)"
   ]
  },
  {
   "cell_type": "code",
   "execution_count": 22,
   "id": "ed1d84e6",
   "metadata": {},
   "outputs": [
    {
     "name": "stdout",
     "output_type": "stream",
     "text": [
      "index: 11 value = 50\n"
     ]
    }
   ],
   "source": [
    "def binary_search(mylist, value, start, stop):\n",
    "    min = start\n",
    "    max = stop - 1\n",
    "\n",
    "    while min <= max:\n",
    "        mid = (min + max) // 2\n",
    "        if mylist[mid] < value:\n",
    "            min = mid + 1\n",
    "        elif mylist[mid] > value:\n",
    "            max = mid - 1\n",
    "        else:\n",
    "            return mid   # target found\n",
    "\n",
    "    return -(min)    # target not found\n",
    "\n",
    "index1 = binary_search(my_list, 50, 7, 16)\n",
    "print(\"index:\",index1, \"value =\",my_list[index1])\n"
   ]
  },
  {
   "cell_type": "markdown",
   "id": "4149e30a",
   "metadata": {},
   "source": [
    "## Sorting Algorithms"
   ]
  },
  {
   "cell_type": "markdown",
   "id": "d70a5a2f",
   "metadata": {},
   "source": [
    "### Bogo Sort"
   ]
  },
  {
   "cell_type": "code",
   "execution_count": 28,
   "id": "3b54f711",
   "metadata": {},
   "outputs": [
    {
     "name": "stdout",
     "output_type": "stream",
     "text": [
      "[-9, -4, 10, 12, 18, 22, 27, 30, 36, 50, 90]\n"
     ]
    }
   ],
   "source": [
    "from random import random\n",
    "\n",
    "def bogo_sort(a):\n",
    "    while (not is_sorted(a)):\n",
    "        shuffle(a)\n",
    "\n",
    "    \n",
    "def is_sorted(a):\n",
    "    for i in range(0, len(a) - 1):\n",
    "        if (a[i] > a[i + 1]):\n",
    "            return False\n",
    "    return True\n",
    "\n",
    "\n",
    "def shuffle(a):\n",
    "    for i in range(0, len(a) - 1):\n",
    "        # pick a random index in [i+1, a.length-1]\n",
    "        range1 = len(a) - (i + 1)\n",
    "        j = int((random() * range1) + (i + 1))\n",
    "        swap(a, i, j)\n",
    "    \n",
    "def swap(a, i, j):\n",
    "    if (i != j):\n",
    "        temp = a[i]\n",
    "        a[i] = a[j]\n",
    "        a[j] = temp\n",
    "\n",
    "b = [22, 18, 12, -4, 27, 30, 36, 50, -9, 90, 10]\n",
    "\n",
    "bogo_sort(b)\n",
    "\n",
    "print(b)"
   ]
  },
  {
   "cell_type": "code",
   "execution_count": 35,
   "id": "ae35c535",
   "metadata": {},
   "outputs": [
    {
     "name": "stdout",
     "output_type": "stream",
     "text": [
      "[-9, -4, -1, 10, 12, 18, 22, 27, 30, 36, 50, 90]\n"
     ]
    }
   ],
   "source": [
    "# selection sort\n",
    "\n",
    "def selection_sort(a):\n",
    "    for i in range(0, len(a) - 1):\n",
    "        # find index of smallest remaining value\n",
    "        min = i\n",
    "        for j in range(i + 1, len(a)):\n",
    "            if (a[j] < a[min]):\n",
    "                min = j\n",
    "        # swap smallest value its proper place, a[i]\n",
    "        swap(a, i, min)\n",
    "        \n",
    "c = [22, 18, 12, -4, 27, 30, 36, 50, -9, 90, 10, -1]\n",
    "selection_sort(c)\n",
    "print(c)"
   ]
  },
  {
   "cell_type": "code",
   "execution_count": 34,
   "id": "bed97f9f",
   "metadata": {},
   "outputs": [
    {
     "name": "stdout",
     "output_type": "stream",
     "text": [
      "[-9, -4, -1, 10, 12, 18, 22, 27, 30, 36, 50, 90]\n"
     ]
    }
   ],
   "source": [
    "# merge sort\n",
    "def merge_sort(a):\n",
    "    if len(a) >= 2:\n",
    "        # split list into two halves\n",
    "        left  = a[0: len(a)//2]\n",
    "        right = a[len(a)//2: len(a)]\n",
    "\n",
    "        # sort the two halves\n",
    "        merge_sort(left)\n",
    "        merge_sort(right)\n",
    "\n",
    "        # merge the sorted halves into a sorted whole\n",
    "        merge(a, left, right)\n",
    "\n",
    "def merge(result, left, right):\n",
    "    i1 = 0   # index into left list\n",
    "    i2 = 0   # index into right list\n",
    "\n",
    "    for i in range(0, len(result)):\n",
    "        if i2 >= len(right) or (i1 < len(left) and left[i1] <= right[i2]):\n",
    "            result[i] = left[i1]    # take from left\n",
    "            i1 += 1\n",
    "        else:\n",
    "            result[i] = right[i2]   # take from right\n",
    "            i2 += 1\n",
    "\n",
    "d = [22, 18, 12, -4, 27, 30, 36, 50, -9, 90, 10, -1]\n",
    "merge_sort(d)\n",
    "print(d)"
   ]
  },
  {
   "cell_type": "markdown",
   "id": "6762ef79",
   "metadata": {},
   "source": [
    "### Reading assignment Stacks, Queue, Map, BST, AVL"
   ]
  },
  {
   "cell_type": "markdown",
   "id": "d1eccd75",
   "metadata": {},
   "source": [
    "### ADT - Abstract Data Type"
   ]
  },
  {
   "cell_type": "markdown",
   "id": "a1d874d5",
   "metadata": {},
   "source": [
    "- Linked Lists\n",
    "- Stacks\n",
    "- Queues\n",
    "- Maps --> Sets, Hashing\n",
    "- Graphs\n",
    "- BST\n",
    "- AVL\n"
   ]
  },
  {
   "cell_type": "markdown",
   "id": "60dbfa12",
   "metadata": {},
   "source": [
    "## Stack"
   ]
  },
  {
   "cell_type": "markdown",
   "id": "9f3f65cd",
   "metadata": {},
   "source": [
    "![](Stacks-in-C.png)"
   ]
  },
  {
   "cell_type": "code",
   "execution_count": 42,
   "id": "84e69a4e",
   "metadata": {},
   "outputs": [],
   "source": [
    "class Stack:\n",
    "    def __init__(self):\n",
    "        self.data = []\n",
    "        \n",
    "    def push(self, value):\n",
    "        self.data.append(value) # 0 --- data = [0]\n",
    "        \n",
    "    def pop(self):\n",
    "        assert not self.empty()\n",
    "        val = self.data[-1]\n",
    "        del self.data[-1]\n",
    "        return val\n",
    "        \n",
    "    def peek(self):\n",
    "        assert not self.empty()\n",
    "        return self.data[-1]\n",
    "        \n",
    "    def empty(self):\n",
    "        return len(self.data) == 0\n",
    "        \n",
    "    def __bool__(self):\n",
    "        return not self.empty()\n"
   ]
  },
  {
   "cell_type": "code",
   "execution_count": 43,
   "id": "eb505595",
   "metadata": {},
   "outputs": [],
   "source": [
    "st = Stack()\n",
    "\n",
    "for i in range(1,21):\n",
    "    st.push(i)"
   ]
  },
  {
   "cell_type": "code",
   "execution_count": 44,
   "id": "a548f41c",
   "metadata": {},
   "outputs": [
    {
     "data": {
      "text/plain": [
       "20"
      ]
     },
     "execution_count": 44,
     "metadata": {},
     "output_type": "execute_result"
    }
   ],
   "source": [
    "st.peek()"
   ]
  },
  {
   "cell_type": "code",
   "execution_count": 45,
   "id": "af7d92fc",
   "metadata": {},
   "outputs": [
    {
     "name": "stdout",
     "output_type": "stream",
     "text": [
      "20\n"
     ]
    }
   ],
   "source": [
    "print(st.pop())"
   ]
  },
  {
   "cell_type": "code",
   "execution_count": 46,
   "id": "14f776a8",
   "metadata": {},
   "outputs": [
    {
     "name": "stdout",
     "output_type": "stream",
     "text": [
      "19\n",
      "18\n",
      "17\n",
      "16\n",
      "15\n",
      "14\n",
      "13\n",
      "12\n",
      "11\n",
      "10\n",
      "9\n",
      "8\n",
      "7\n",
      "6\n",
      "5\n",
      "4\n",
      "3\n",
      "2\n",
      "1\n"
     ]
    }
   ],
   "source": [
    "while st:\n",
    "    print(st.pop())"
   ]
  },
  {
   "cell_type": "code",
   "execution_count": 47,
   "id": "501d90fb",
   "metadata": {},
   "outputs": [
    {
     "data": {
      "text/plain": [
       "True"
      ]
     },
     "execution_count": 47,
     "metadata": {},
     "output_type": "execute_result"
    }
   ],
   "source": [
    "st.empty()"
   ]
  },
  {
   "cell_type": "markdown",
   "id": "e45e14b6",
   "metadata": {},
   "source": [
    "## Queues"
   ]
  },
  {
   "cell_type": "markdown",
   "id": "849aa8cb",
   "metadata": {},
   "source": [
    "![](queue.png)"
   ]
  },
  {
   "cell_type": "code",
   "execution_count": 51,
   "id": "4a88c862",
   "metadata": {},
   "outputs": [],
   "source": [
    "class Queue:\n",
    "    def __init__(self):\n",
    "        self.data = []\n",
    "        self.head = -1\n",
    "    \n",
    "    def enqueue(self, value):\n",
    "        self.data.append(value)\n",
    "    \n",
    "    def dequeue(self):\n",
    "        assert not self.empty()\n",
    "        self.head = self.head + 1\n",
    "        val = self.data[self.head]\n",
    "        self.data[self.head] = None\n",
    "        return val\n",
    "        \n",
    "    def empty(self):\n",
    "        return self.head + 1 == len(self.data)\n",
    "    \n",
    "    def __bool__(self):\n",
    "        return not self.empty()\n",
    "    \n",
    "    "
   ]
  },
  {
   "cell_type": "code",
   "execution_count": 59,
   "id": "d5320d65",
   "metadata": {},
   "outputs": [],
   "source": [
    "que = Queue()\n",
    "\n",
    "for i in range(1, 21):\n",
    "    que.enqueue(i)"
   ]
  },
  {
   "cell_type": "code",
   "execution_count": 60,
   "id": "b98d7b98",
   "metadata": {},
   "outputs": [
    {
     "name": "stdout",
     "output_type": "stream",
     "text": [
      "<__main__.Queue object at 0x7fad83b2c5e0>\n"
     ]
    }
   ],
   "source": [
    "print(que)"
   ]
  },
  {
   "cell_type": "code",
   "execution_count": 53,
   "id": "9d645c8d",
   "metadata": {},
   "outputs": [
    {
     "name": "stdout",
     "output_type": "stream",
     "text": [
      "1\n",
      "2\n",
      "3\n",
      "4\n",
      "5\n",
      "6\n",
      "7\n",
      "8\n",
      "9\n",
      "10\n",
      "11\n",
      "12\n",
      "13\n",
      "14\n",
      "15\n",
      "16\n",
      "17\n",
      "18\n",
      "19\n",
      "20\n"
     ]
    }
   ],
   "source": [
    "while que:\n",
    "    print(que.dequeue())"
   ]
  },
  {
   "cell_type": "code",
   "execution_count": 54,
   "id": "d9eeb189",
   "metadata": {},
   "outputs": [
    {
     "data": {
      "text/plain": [
       "True"
      ]
     },
     "execution_count": 54,
     "metadata": {},
     "output_type": "execute_result"
    }
   ],
   "source": [
    "que.empty()"
   ]
  },
  {
   "cell_type": "markdown",
   "id": "002d75da",
   "metadata": {},
   "source": [
    "### Run Time Analysis\n",
    "\n",
    "- Stacks - **O(1)**\n",
    "- Queues - **O(1)**\n"
   ]
  },
  {
   "cell_type": "markdown",
   "id": "bb1bfc69",
   "metadata": {},
   "source": [
    "## MAPS"
   ]
  },
  {
   "cell_type": "markdown",
   "id": "e11fb107",
   "metadata": {},
   "source": [
    "### The Map ADT\n",
    "\n",
    "- keys\n",
    "- values\n"
   ]
  },
  {
   "cell_type": "markdown",
   "id": "512f90fc",
   "metadata": {},
   "source": [
    "## Sets\n",
    "- Implementation"
   ]
  },
  {
   "cell_type": "code",
   "execution_count": 55,
   "id": "82e0a923",
   "metadata": {},
   "outputs": [
    {
     "ename": "IndentationError",
     "evalue": "expected an indented block (397687519.py, line 4)",
     "output_type": "error",
     "traceback": [
      "\u001b[0;36m  File \u001b[0;32m\"/var/folders/w6/0wcwstvj4nj1gk_15vpb92gr0000gp/T/ipykernel_7153/397687519.py\"\u001b[0;36m, line \u001b[0;32m4\u001b[0m\n\u001b[0;31m    def add(self, value):\u001b[0m\n\u001b[0m    ^\u001b[0m\n\u001b[0;31mIndentationError\u001b[0m\u001b[0;31m:\u001b[0m expected an indented block\n"
     ]
    }
   ],
   "source": [
    "class Sets:\n",
    "    def __init__(self):\n",
    "        \n",
    "    def add(self, value):\n",
    "        \n",
    "    def union(self, other):\n",
    "        \n",
    "    def intersection(self, other):\n",
    "    \n",
    "    def __contains__(self, value):\n",
    "        \n",
    "    def __iter__(self):\n",
    "        \n",
    "    def __repr__(self):\n",
    "        return \"{ }\""
   ]
  },
  {
   "cell_type": "code",
   "execution_count": 56,
   "id": "db952ade",
   "metadata": {},
   "outputs": [
    {
     "ename": "IndentationError",
     "evalue": "expected an indented block (1998528400.py, line 4)",
     "output_type": "error",
     "traceback": [
      "\u001b[0;36m  File \u001b[0;32m\"/var/folders/w6/0wcwstvj4nj1gk_15vpb92gr0000gp/T/ipykernel_7153/1998528400.py\"\u001b[0;36m, line \u001b[0;32m4\u001b[0m\n\u001b[0;31m    def __setitem__(self, key, value):\u001b[0m\n\u001b[0m    ^\u001b[0m\n\u001b[0;31mIndentationError\u001b[0m\u001b[0;31m:\u001b[0m expected an indented block\n"
     ]
    }
   ],
   "source": [
    "class Maps:\n",
    "    def __init__(self):\n",
    "        \n",
    "    def __setitem__(self, key, value):\n",
    "        \n",
    "    def __getitem__(self, key):\n",
    "    \n",
    "    def __contains__(self, key):\n",
    "        \n",
    "    "
   ]
  },
  {
   "cell_type": "code",
   "execution_count": 58,
   "id": "39047e48",
   "metadata": {},
   "outputs": [
    {
     "ename": "IndentationError",
     "evalue": "expected an indented block (153819710.py, line 4)",
     "output_type": "error",
     "traceback": [
      "\u001b[0;36m  File \u001b[0;32m\"/var/folders/w6/0wcwstvj4nj1gk_15vpb92gr0000gp/T/ipykernel_7153/153819710.py\"\u001b[0;36m, line \u001b[0;32m4\u001b[0m\n\u001b[0;31m    def __setitem__(self, key, value):\u001b[0m\n\u001b[0m    ^\u001b[0m\n\u001b[0;31mIndentationError\u001b[0m\u001b[0;31m:\u001b[0m expected an indented block\n"
     ]
    }
   ],
   "source": [
    "class Hashtable:\n",
    "    def __init__(self):\n",
    "        \n",
    "    def __setitem__(self, key, value):\n",
    "        \n",
    "    def __getitem__(self, key):\n",
    "    \n",
    "    def __contains__(self, key):\n"
   ]
  },
  {
   "cell_type": "code",
   "execution_count": 57,
   "id": "3d3773c5",
   "metadata": {},
   "outputs": [
    {
     "data": {
      "text/plain": [
       "6870902635684804200"
      ]
     },
     "execution_count": 57,
     "metadata": {},
     "output_type": "execute_result"
    }
   ],
   "source": [
    "hash(\"Hello WOrld\")"
   ]
  },
  {
   "cell_type": "code",
   "execution_count": 62,
   "id": "7fdd3e9c",
   "metadata": {},
   "outputs": [],
   "source": [
    "# BST, AVL"
   ]
  },
  {
   "cell_type": "code",
   "execution_count": null,
   "id": "8866254c",
   "metadata": {},
   "outputs": [],
   "source": []
  }
 ],
 "metadata": {
  "kernelspec": {
   "display_name": "Python 3 (ipykernel)",
   "language": "python",
   "name": "python3"
  },
  "language_info": {
   "codemirror_mode": {
    "name": "ipython",
    "version": 3
   },
   "file_extension": ".py",
   "mimetype": "text/x-python",
   "name": "python",
   "nbconvert_exporter": "python",
   "pygments_lexer": "ipython3",
   "version": "3.9.7"
  }
 },
 "nbformat": 4,
 "nbformat_minor": 5
}
